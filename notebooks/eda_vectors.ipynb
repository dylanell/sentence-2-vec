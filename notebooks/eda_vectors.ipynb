{
 "cells": [
  {
   "cell_type": "markdown",
   "metadata": {},
   "source": [
    "# Max Over Time CNN"
   ]
  },
  {
   "cell_type": "markdown",
   "metadata": {},
   "source": [
    "### Setup"
   ]
  },
  {
   "cell_type": "code",
   "execution_count": 1,
   "metadata": {},
   "outputs": [
    {
     "name": "stdout",
     "output_type": "stream",
     "text": [
      "[INFO]: using cuda:0 device\n"
     ]
    }
   ],
   "source": [
    "import sys\n",
    "sys.path.append('..')\n",
    "\n",
    "import yaml\n",
    "import torch\n",
    "import numpy as np\n",
    "from sklearn.cluster import OPTICS\n",
    "from sklearn.manifold import TSNE\n",
    "from sklearn.neighbors import NearestNeighbors\n",
    "from matplotlib import pyplot as plt\n",
    "import pandas as pd\n",
    "import plotly.express as px\n",
    "import nltk\n",
    "from nltk.corpus import stopwords\n",
    "\n",
    "from datasets.qa_triplet_dataset import QATripletDataset\n",
    "from models.max_over_time_cnn import MaxOverTimeCNN\n",
    "\n",
    "with open('../config/notebook_conf.yml', 'r') as fp:\n",
    "    config = yaml.load(fp, Loader=yaml.FullLoader)\n",
    "    \n",
    "dataset = QATripletDataset(\n",
    "        config['database_file'], config['database_table'], \n",
    "        config['vocab_file'])\n",
    "\n",
    "dataloader = dataset.build_dataloader(\n",
    "    batch_size=config['batch_size'], shuffle=True)\n",
    "\n",
    "encoder = MaxOverTimeCNN(\n",
    "    len(dataset.get_vocab()), config['wordvec_dim'], config['sentvec_dim'], \n",
    "    acceleration=True)\n",
    "\n",
    "encoder.load_state_dict(torch.load(\n",
    "    '../artifacts/models/max_over_time_cnn.pt', \n",
    "    map_location=torch.device('cpu')))\n",
    "\n",
    "encoder.eval()\n",
    "\n",
    "# grab a batch and encode anchor questions to vectors\n",
    "batch = next(iter(dataloader))\n",
    "question_str = batch['anc_str']\n",
    "question_enc = encoder(batch['anc_idxs'])\n",
    "\n",
    "# detach from pytorch and convert to numpy\n",
    "question_enc = question_enc.detach().numpy()"
   ]
  },
  {
   "cell_type": "markdown",
   "metadata": {},
   "source": [
    "### Nearest Neighbor Analysis"
   ]
  },
  {
   "cell_type": "code",
   "execution_count": 2,
   "metadata": {},
   "outputs": [],
   "source": [
    "# compute nearest neighbors\n",
    "neigh = NearestNeighbors(n_neighbors=5, metric='cosine')\n",
    "nbrs = neigh.fit(question_enc)\n",
    "nn_dist, nn_idx = nbrs.kneighbors(question_enc)"
   ]
  },
  {
   "cell_type": "markdown",
   "metadata": {},
   "source": [
    "### Print Some Nearest Neighbor Groups"
   ]
  },
  {
   "cell_type": "code",
   "execution_count": 3,
   "metadata": {},
   "outputs": [
    {
     "name": "stdout",
     "output_type": "stream",
     "text": [
      "Sample:\n",
      "\tmani gram carb one hundr thirti five lb woman per day\n",
      "Neighbors:\n",
      "\thelp peopl diabet\n",
      "\tchang person make order achiev cure diabet type two\n",
      "\tamino acid good diabet\n",
      "\tmean di proverb faith friend medicin life\n",
      "\n",
      "Sample:\n",
      "\tgood idea diabet meal\n",
      "Neighbors:\n",
      "\tbad diabet eat\n",
      "\tbetter diabet arrowroot cornflour\n",
      "\tdiabet patient eat cashew seed\n",
      "\tchang person make order achiev cure diabet type two\n",
      "\n",
      "Sample:\n",
      "\trisk factor type two diabet\n",
      "Neighbors:\n",
      "\trisk develop type ii diabet mellitu\n",
      "\tmani peopl us type diabet\n",
      "\tsymptom distinguish type type ii diabet\n",
      "\timport thing know type two diabet\n",
      "\n",
      "Sample:\n",
      "\tlist food high sugar\n",
      "Neighbors:\n",
      "\tlist food high sugar\n",
      "\tconsum cinnamon diabet\n",
      "\tayurveda help someon diabet\n",
      "\tone purchas gourmet chocol suitabl diabet\n",
      "\n",
      "Sample:\n",
      "\tkind deal exist notebook type comput\n",
      "Neighbors:\n",
      "\ttype food diabet avoid\n",
      "\ttype food diabet eat\n",
      "\ttype diet person keep angina\n",
      "\teat best control diabet\n",
      "\n",
      "Sample:\n",
      "\tplace one receiv free diabet suppli\n",
      "Neighbors:\n",
      "\tanyon assist inform diabet meal plan someon diabet\n",
      "\tfind free diabet diet book\n",
      "\tlatest nutrit guid diabet\n",
      "\tlow fat diet recommend treat diabet\n",
      "\n",
      "Sample:\n",
      "\tmuch sugar caus\n",
      "Neighbors:\n",
      "\tdiagnos diabet insipidu\n",
      "\tdiabet patient need nasogastr tube feed\n",
      "\tperson diabet smell alcohol\n",
      "\tfast caus diabet\n",
      "\n",
      "Sample:\n",
      "\tone find inform diet diabet\n",
      "Neighbors:\n",
      "\tappropri cooki recip diabet\n",
      "\tfind inform diet diabet\n",
      "\tone sweeten commonli use diabet cooki recip\n",
      "\tgood chocol diabet cake recip\n",
      "\n",
      "Sample:\n",
      "\tdeliv diabet meal plan\n",
      "Neighbors:\n",
      "\tconvert recip diabet\n",
      "\tkind differ treatment diabet\n",
      "\tone purchas gourmet chocol suitabl diabet\n",
      "\tayurveda help someon diabet\n",
      "\n",
      "Sample:\n",
      "\tcommon diabet\n",
      "Neighbors:\n",
      "\tsteve redgrav diabet\n",
      "\tdiabet affect electrolysi\n",
      "\troot word diabet\n",
      "\tdiabet kill\n",
      "\n"
     ]
    }
   ],
   "source": [
    "for idx in np.random.choice(len(nn_idx), size=10, replace=False):\n",
    "    sample = question_str[nn_idx[idx, 0]]\n",
    "    neighbors = [question_str[i] for i in nn_idx[idx, 1:]]\n",
    "    \n",
    "    print(f'Sample:\\n\\t{sample}')\n",
    "    print(f'Neighbors:')\n",
    "    for neighbor in neighbors:\n",
    "        print(f'\\t{neighbor}')\n",
    "    print('')"
   ]
  },
  {
   "cell_type": "markdown",
   "metadata": {},
   "source": [
    "### Plot Nearest Neighbor Ordered Distances"
   ]
  },
  {
   "cell_type": "code",
   "execution_count": 4,
   "metadata": {},
   "outputs": [
    {
     "data": {
      "text/plain": [
       "[<matplotlib.lines.Line2D at 0x7f8cb4c78a30>]"
      ]
     },
     "execution_count": 4,
     "metadata": {},
     "output_type": "execute_result"
    },
    {
     "data": {
      "image/png": "[encoded data removed]",
      "text/plain": [
       "<Figure size 432x288 with 1 Axes>"
      ]
     },
     "metadata": {
      "needs_background": "light"
     },
     "output_type": "display_data"
    }
   ],
   "source": [
    "plt.plot(np.sort(nn_dist[:,1], axis=0))"
   ]
  },
  {
   "cell_type": "markdown",
   "metadata": {},
   "source": [
    "### Cluster Sentence Vectors"
   ]
  },
  {
   "cell_type": "code",
   "execution_count": 23,
   "metadata": {},
   "outputs": [
    {
     "name": "stdout",
     "output_type": "stream",
     "text": [
      "[Num. Clusters]: 4, [Perc. Non-Outliers]: 83.7\n"
     ]
    }
   ],
   "source": [
    "from sklearn.cluster import DBSCAN, OPTICS\n",
    "\n",
    "clustering = DBSCAN(eps=0.009, min_samples=10, n_jobs=-1, metric='cosine')\n",
    "labels = clustering.fit_predict(question_enc)\n",
    "\n",
    "# optics = OPTICS(min_samples=10, metric='cosine')\n",
    "# optics.fit(question_enc)\n",
    "# labels = optics.labels_\n",
    "\n",
    "num_clusters = len(np.unique(labels))\n",
    "perc_labeled = 100 * (len(labels[labels != -1]) / len(labels))\n",
    "print(f'[Num. Clusters]: {num_clusters}, [Perc. Non-Outliers]: {perc_labeled:.1f}')"
   ]
  },
  {
   "cell_type": "markdown",
   "metadata": {},
   "source": [
    "### Project Sentence Vectors"
   ]
  },
  {
   "cell_type": "code",
   "execution_count": 24,
   "metadata": {},
   "outputs": [
    {
     "data": {
      "application/vnd.plotly.v1+json": {
       "config": {
        "plotlyServerURL": "https://plot.ly"
       },
       "data": [
        {
         "customdata": [
          [
           "lantu"
          ],
          [
           "eat lot consid type behavior"
          ],
          [
           "diabet patent eat pomegran fruit"
          ],
          [
           "type food diabet eat"
          ],
          [
           "excess sugar urin caus tired"
          ],
          [
           "sugar level fluctuat wide"
          ],
          [
           "free cooki recip diabet"
          ],
          [
           "differ non insulin depend diabet insulin depend diabet"
          ],
          [
           "diabet mellitu diabet"
          ],
          [
           "diabet transfer kiss"
          ],
          [
           "cinnamon help diabet"
          ],
          [
           "one treat diabet mellitu"
          ],
          [
           "diabet develop itch arm"
          ],
          [
           "chanc diabet babi born parent heterozyg normal"
          ],
          [
           "bodi produc much insulin"
          ],
          [
           "proper aha first aid respons diabet attack"
          ],
          [
           "function clavic"
          ],
          [
           "better diabet arrowroot cornflour"
          ],
          [
           "normal protein level blood"
          ],
          [
           "bad diabet eat"
          ],
          [
           "damag retina eye caus diabet mellitu known diabet"
          ],
          [
           "medic abbrevi mean twice day"
          ],
          [
           "mani gram sugar appropri per day averag teen"
          ],
          [
           "inject insulin best absorb via rout"
          ],
          [
           "type diabet found small children"
          ],
          [
           "five food carb"
          ],
          [
           "eat blood sugar sixti eight rang"
          ],
          [
           "bring blood sugar instantli somethig home"
          ],
          [
           "diabet mellitu affect spina bifida"
          ],
          [
           "insulin releas"
          ],
          [
           "research done suma"
          ],
          [
           "common diabet"
          ],
          [
           "much insulin overdos"
          ],
          [
           "caus juvenil diabet"
          ],
          [
           "sign diabet"
          ],
          [
           "test diabet"
          ],
          [
           "mani carb one hundr eighti lb five six larg bone diabet femal daili lose weight"
          ],
          [
           "detect sign diabet"
          ],
          [
           "overweight peopl like get diabet"
          ],
          [
           "find new diabet food list show good food choic"
          ],
          [
           "orang make blood sugar level rais"
          ],
          [
           "diabet patient eat sweet corn"
          ],
          [
           "long jacki robinson diabet"
          ],
          [
           "kind guitar nick jona"
          ],
          [
           "differ humulin insulin relion insulin"
          ],
          [
           "aceton odor breath patient clinic symptom"
          ],
          [
           "big toe partial numb"
          ],
          [
           "diabet statist"
          ],
          [
           "type two diabet becom type one diabet"
          ],
          [
           "diabet treat"
          ],
          [
           "get insulin"
          ],
          [
           "diet plan use type one type two diabet"
          ],
          [
           "consum cinnamon diabet"
          ],
          [
           "type two diabet cure"
          ],
          [
           "advanc technolog help type one diabet"
          ],
          [
           "diabet eat prawn"
          ],
          [
           "kid diabet"
          ],
          [
           "need shot type two diabet"
          ],
          [
           "age affect blood sugar"
          ],
          [
           "diabet get pregnant"
          ],
          [
           "good desert diabet"
          ],
          [
           "thirti nine year diabet high blood pressur well bring control"
          ],
          [
           "dog develop diabet call"
          ],
          [
           "type one diabet common type two diabet"
          ],
          [
           "diabet patient eat cashew seed"
          ],
          [
           "could low high blood sugar make tire immedi eat"
          ],
          [
           "relationship mahogani seed lower blood glucos"
          ],
          [
           "diabet caus viru bacteria"
          ],
          [
           "often go doctor diabet"
          ],
          [
           "diabet mellitu diabet insipidu"
          ],
          [
           "insulin shock occur quickli"
          ],
          [
           "caus diabet"
          ],
          [
           "diabet mellitu disord"
          ],
          [
           "borderlin diabet doctor said control diet mani carb per day"
          ],
          [
           "diabet effect immun system"
          ],
          [
           "honey diabet"
          ],
          [
           "caus water loss carnegi area"
          ],
          [
           "sugar mainli serv bodi"
          ],
          [
           "good idea diabet meal"
          ],
          [
           "anyon assist inform diabet meal plan someon diabet"
          ],
          [
           "eye problem symptom diabet"
          ],
          [
           "patient diabet insipidu begin suffer symptom dehydr"
          ],
          [
           "blood sugar one hundr fifti six normal"
          ],
          [
           "medicin type one diabet"
          ],
          [
           "good sampl breakfast menu diabet"
          ],
          [
           "blood sugar four hundr sixti"
          ],
          [
           "one properli manag diabet symptom"
          ],
          [
           "mani peopl georgia suffer diabet"
          ],
          [
           "develop first effect treatment diabet"
          ],
          [
           "diabet stop get hire job"
          ],
          [
           "diabet get fatigu"
          ],
          [
           "best beer diabet"
          ],
          [
           "contraind diabet diet"
          ],
          [
           "world diabet cookbook"
          ],
          [
           "troubl rememb thing"
          ],
          [
           "sign look get test diabet"
          ],
          [
           "diabet suppli medicar"
          ],
          [
           "top caus diabet high blood sugar"
          ],
          [
           "get diabet eat much salt"
          ],
          [
           "patient describ diabet kussmaul respir physiolog activ take place caus patient"
          ],
          [
           "diabet type one caus weight loss"
          ],
          [
           "best drug diabet"
          ],
          [
           "blood sugar level affect eye"
          ],
          [
           "food would diabet food list"
          ],
          [
           "big toe numb tender outsid tip"
          ],
          [
           "feder agenc help patient need follow diabet diet plan"
          ],
          [
           "watermelon good diabet patient"
          ],
          [
           "insulin depend diabet mellitu caus chronic renal failur"
          ],
          [
           "control blood sugar"
          ],
          [
           "kevin trudeau recommend cure diabet"
          ],
          [
           "pancreat hormon function lower blood gulcos level"
          ],
          [
           "risk factor type two diabet"
          ],
          [
           "use pedomet benefit peopl high risk type two diabet"
          ],
          [
           "sign diabet"
          ],
          [
           "insulin signal cell take glucos"
          ],
          [
           "alcohol bad pre diabet"
          ],
          [
           "onlin diet menu diabet"
          ],
          [
           "treatment diabet"
          ],
          [
           "list food high sugar"
          ],
          [
           "tell diabet"
          ],
          [
           "im forti five yr old male diabet enlarg pitiutari gland kill"
          ],
          [
           "item diabet person eat"
          ],
          [
           "diabet discov"
          ],
          [
           "get lighthead feel like im go faint"
          ],
          [
           "common caus type two diabet"
          ],
          [
           "give insulin someon hypoglycem caus go coma"
          ],
          [
           "wake blood sugar one hundr forti eight high"
          ],
          [
           "cocain affect blood sugar"
          ],
          [
           "blood sugar level high"
          ],
          [
           "type one diabet strong type two"
          ],
          [
           "diabet affect level"
          ],
          [
           "hyperosmolar syndrom"
          ],
          [
           "save money test diabet suppli"
          ],
          [
           "insulin right treatment diabet"
          ],
          [
           "help peopl diabet"
          ],
          [
           "symptom mild insulin resist"
          ],
          [
           "diabet drink liquor"
          ],
          [
           "diabet peopl carrot"
          ],
          [
           "iv fluid need diabet patient"
          ],
          [
           "scientist make educ guess diabet caus genet factor guess exampl n"
          ],
          [
           "hypoglycemia treatment"
          ],
          [
           "person type two diabet take insulin"
          ],
          [
           "diabet metformin number consid high enough seek hospit"
          ],
          [
           "kind diabet jacki robinson"
          ],
          [
           "caus tingl bodi"
          ],
          [
           "diabet hormon"
          ],
          [
           "symptom distinguish type type ii diabet"
          ],
          [
           "five symptom diabet"
          ],
          [
           "would happen pancrea stop releas insulin"
          ],
          [
           "diabet patient minor ill cold flu"
          ],
          [
           "anyon take insulin"
          ],
          [
           "blood transport glucos cell"
          ],
          [
           "posit result benedict test"
          ],
          [
           "mani peopl us type diabet"
          ],
          [
           "blood sugar level one hundr four someth worri"
          ],
          [
           "cocoyam good diabet"
          ],
          [
           "god diabet"
          ],
          [
           "often take blood sugar"
          ],
          [
           "age diabet first becom evid"
          ],
          [
           "websit help find diabet dtour diet"
          ],
          [
           "nick jona realli diabet"
          ],
          [
           "eat best control diabet"
          ],
          [
           "girl normal weight stay activ type two diabet blood sugar level anywher thirti five hundr eighteen eat healthi sinc diagnosi octob"
          ],
          [
           "get type one diabet one els famili"
          ],
          [
           "blood sugar five hundr seventi five type insulin one take"
          ],
          [
           "dog develop diabet"
          ],
          [
           "recommend dietari allow protein"
          ],
          [
           "find meal plan diabet"
          ],
          [
           "caus circul finger tip stop finger becom numb"
          ],
          [
           "much sugar blood bad"
          ],
          [
           "diabet emerg"
          ],
          [
           "old nick got diabet"
          ],
          [
           "food best choic treat patient experiec hypoglycem low blood sugar reaction"
          ],
          [
           "find inform diet diabet"
          ],
          [
           "metformin work"
          ],
          [
           "buy diabet"
          ],
          [
           "medic issu diabet special need"
          ],
          [
           "effect diabet bodi system"
          ],
          [
           "children receiv diabet educ"
          ],
          [
           "mean di proverb faith friend medicin life"
          ],
          [
           "use one ml insulin syring mani unit would draw"
          ],
          [
           "way monitor blood sugar level without use needl draw blood"
          ],
          [
           "bring high blood pressur"
          ],
          [
           "one hour eat diabet"
          ],
          [
           "type ii diabet capit"
          ],
          [
           "food high ad sugar"
          ],
          [
           "find inform diabet diet"
          ],
          [
           "could hard lump forehead cancer pain"
          ],
          [
           "blood sugar mainten diabet weight loss diet plan"
          ],
          [
           "diabet one"
          ],
          [
           "diabet cantagi"
          ],
          [
           "percentag diabet type one"
          ],
          [
           "diabet drink slim fast sugar"
          ],
          [
           "glucos administ intraven patient diabet mellitu patient probabl develop"
          ],
          [
           "type diet person keep angina"
          ],
          [
           "person chronic diabet exhibit sign"
          ],
          [
           "diabet insipidu occur"
          ],
          [
           "long effect diabet neuropathi last"
          ],
          [
           "might caus unexplain weight gain fatigu"
          ],
          [
           "import diabet food pyramid someon type two diabeti"
          ],
          [
           "diabet medicin caus cancer"
          ],
          [
           "get diabet"
          ],
          [
           "caus genit anal burn diabet"
          ],
          [
           "best type insulin syring treatment diabet"
          ],
          [
           "insulin necessari"
          ],
          [
           "diabet diet menu help diabet"
          ],
          [
           "product claim natur cure diabet"
          ],
          [
           "type one type two diabet"
          ],
          [
           "import foot care clean peopl diabet"
          ],
          [
           "diabet food found store"
          ],
          [
           "famou songstress lost leg battl diabet"
          ],
          [
           "condit insulin resist fat cell type one diabet type two diabet"
          ],
          [
           "low fat diet recommend treat diabet"
          ],
          [
           "long person medic staff continu give glucos patient experienc low blood glucos level"
          ],
          [
           "marijuana lower blood sugar level"
          ],
          [
           "blood sugar rise high breakfast"
          ],
          [
           "type doctor treat diabet"
          ],
          [
           "role insulin regul blood sugar level"
          ],
          [
           "percentag famili member diabet get diseas"
          ],
          [
           "caus hyperglycemia"
          ],
          [
           "diabet still eat potato"
          ],
          [
           "diabet test strip realli work"
          ],
          [
           "serum insulin"
          ],
          [
           "diabet caus swollen lymph node"
          ],
          [
           "type two diabet known insulin depend diabet"
          ],
          [
           "synonym pedicur"
          ],
          [
           "diseas make difficult person regul blood sugar"
          ],
          [
           "number peopl worldwid diabet increas"
          ],
          [
           "simpl dinner recip would work diabet menu plan"
          ],
          [
           "diabet affect health"
          ],
          [
           "list food high sugar"
          ],
          [
           "first function cater"
          ],
          [
           "diabet effect endocrin system"
          ],
          [
           "diabet caus semen tast differ"
          ],
          [
           "research done reflexolog"
          ],
          [
           "major caus type one juvenil diabet"
          ],
          [
           "good diabet cheesecak recip"
          ],
          [
           "develop diabet eat much sugar"
          ],
          [
           "easi diabet dessert"
          ],
          [
           "mellitu diabet type one"
          ],
          [
           "two challeng die chronic ill"
          ],
          [
           "insulin refriger"
          ],
          [
           "one follow chemic artifici sweeten prescrib ot diabet person"
          ],
          [
           "hospit diabet"
          ],
          [
           "elvi aaron presley diabet type one two"
          ],
          [
           "studi diabet mellitu call"
          ],
          [
           "normal high sugar"
          ],
          [
           "symptom diabet"
          ],
          [
           "substanc creat save diabet"
          ],
          [
           "cook popular diabet recip"
          ],
          [
           "joke diabet"
          ],
          [
           "averag blood glucos level"
          ],
          [
           "caus diabet"
          ],
          [
           "two two risk factor diabet type two"
          ],
          [
           "husband diabet menstub"
          ],
          [
           "restaur carri diabet diet menu"
          ],
          [
           "eat sugar type two diabet"
          ],
          [
           "diabet allow eat"
          ],
          [
           "honeymoon period diabet mellitu"
          ],
          [
           "eat mani banan caus increas blood sugar"
          ],
          [
           "diabet drink replenish electrolyt"
          ],
          [
           "get four hundr hp six thousand five hundr rpm four bbl carb chevrolet three hundr five"
          ],
          [
           "novocain affect blood sugar"
          ],
          [
           "irregular high hgt diabet patient"
          ],
          [
           "place one receiv free diabet suppli"
          ],
          [
           "safe lower limit diabet patient normal control level"
          ],
          [
           "flu shot affect diabet"
          ],
          [
           "bypass two slim ball interact diabet medic"
          ],
          [
           "name diabet specialist"
          ],
          [
           "diabet effect"
          ],
          [
           "latest trend paediatr nurs"
          ],
          [
           "keep level glucos bodi stabl level"
          ],
          [
           "diabet affect leg"
          ],
          [
           "peopl type one diabet lose weight"
          ],
          [
           "organ break insulin"
          ],
          [
           "type two diabet take penicillin"
          ],
          [
           "iu measur vitamin e translat mcg mg"
          ],
          [
           "someon diabet alcohol breath"
          ],
          [
           "diabet meter"
          ],
          [
           "five hundr forti three good blood sugar level"
          ],
          [
           "frequent blood sugar level one hundr sixti eat mean"
          ],
          [
           "person diabet smell alcohol"
          ],
          [
           "kid get type two diabet adult"
          ],
          [
           "get erect"
          ],
          [
           "blood loss affect blood sugar"
          ],
          [
           "get diabet es"
          ],
          [
           "caus diabet"
          ],
          [
           "mani type diabet"
          ],
          [
           "indocologist"
          ],
          [
           "mani children nick jona want"
          ],
          [
           "caus blood sugar drop rapidli"
          ],
          [
           "obes caus diabet"
          ],
          [
           "main blood sugar bodi"
          ],
          [
           "onlin store carri diabet test strip order buy"
          ],
          [
           "selena diabet"
          ],
          [
           "member jona brother band diabet"
          ],
          [
           "illeg diabet eat sugar"
          ],
          [
           "normal valu bloodsugar"
          ],
          [
           "check diabet"
          ],
          [
           "kind condit diabet insipidu"
          ],
          [
           "fri shrimp rise blood sugar"
          ],
          [
           "mani time day take insulin type one diabet"
          ],
          [
           "gland associ diabet"
          ],
          [
           "commonli use actoplu met"
          ],
          [
           "tai chi cure diabet"
          ],
          [
           "best time check blood sugar read"
          ],
          [
           "daili food eat"
          ],
          [
           "type two diabet common"
          ],
          [
           "diabet insipidu character"
          ],
          [
           "differenti actrapid monotard insulin"
          ],
          [
           "diabet affect life span"
          ],
          [
           "diabet eat stawberri"
          ],
          [
           "purchas diabet food"
          ],
          [
           "follow best describ effect meal rise blood glucos occur meal"
          ],
          [
           "quantiti beet root one diabet patient daili"
          ],
          [
           "hypertens diabet patient typhoid vaccin"
          ],
          [
           "effect way reduc risk heart diseas cancer diabet seriou ill"
          ],
          [
           "thirsti urin like crazi"
          ],
          [
           "diabet drink wine"
          ],
          [
           "normal fast blood sugar level fifti year old woman"
          ],
          [
           "sugar level four hundr fifti six"
          ],
          [
           "would doctor suggest check patient blood sugar level"
          ],
          [
           "major sign diabet"
          ],
          [
           "recip book diabet diabet cheesecak recip"
          ],
          [
           "describ insulin help bodi maintain intern balanc"
          ],
          [
           "normal blood sugar go diabet"
          ],
          [
           "test diabet"
          ],
          [
           "find diabet type two diet"
          ],
          [
           "get tattoo diabet"
          ],
          [
           "insulin oral administ diabet peopl"
          ],
          [
           "two type diabet mellitu"
          ],
          [
           "much sugar man need daili"
          ],
          [
           "would chees help lower sugar level diabet"
          ],
          [
           "get older bone get stiff achey"
          ],
          [
           "tip follow diabet cooki recip"
          ],
          [
           "prevent type one type two diabet"
          ],
          [
           "anywher get free suppli blood sugar test"
          ],
          [
           "amino acid good diabet"
          ],
          [
           "us take insulin period avoid diabet"
          ],
          [
           "diabet complic"
          ],
          [
           "normal glucos level teenag"
          ],
          [
           "type ii diabet known depend diabet"
          ],
          [
           "cant pancrea make insulin type one diabet"
          ],
          [
           "diabet advers affect bladder"
          ],
          [
           "kind diabet laura ingal wilder"
          ],
          [
           "diabet type two infecti"
          ],
          [
           "glucagon insulin help maintain normal glucos level"
          ],
          [
           "actual diabet last three year feel durat sex time short pleas advis increas time"
          ],
          [
           "someon diabet oper commerci motor vehicl texa"
          ],
          [
           "mean swollen ankl"
          ],
          [
           "cant sleep arm ach"
          ],
          [
           "kind doctor diabet see"
          ],
          [
           "test use detect"
          ],
          [
           "help diabet cold feel feet"
          ],
          [
           "pain radiat buttock back leg call"
          ],
          [
           "follow would indic hypoglycemia diabet"
          ],
          [
           "medicaid pay diabet shoe georgia"
          ],
          [
           "diabet diet chart follow"
          ],
          [
           "eat banana gestat diabet"
          ],
          [
           "maintain good blood sugar level throughout day"
          ],
          [
           "use insulin syring"
          ],
          [
           ""
          ],
          [
           "someon take pill diabet use urin therapi"
          ],
          [
           "unhealthi mar bar"
          ],
          [
           "get type two diabet"
          ],
          [
           "code mean medtron mini med insulin pump"
          ],
          [
           "symptom diabet"
          ],
          [
           "maintain blood sugar level diabet problem"
          ],
          [
           "often need check glucos level diagnos diabet"
          ],
          [
           "long live without liver transplant"
          ],
          [
           "happen diabet cut"
          ],
          [
           "amitriptylin affect blood sugar"
          ],
          [
           "fast blood sugar level nineti nine consid suger"
          ],
          [
           "recommend good diabet diet"
          ],
          [
           "eat fish egg good diabet person"
          ],
          [
           "low blood sugar level"
          ],
          [
           "normal heart rate eighti one yr old diabet woman"
          ],
          [
           "diabet dad order eat"
          ],
          [
           "diabet supplement peopl diabet"
          ],
          [
           "symptom uncontriol diabet adult"
          ],
          [
           "xylitol sugar"
          ],
          [
           "artifici sugar better"
          ],
          [
           "mani insulin unit"
          ],
          [
           "doctor induc labor gestat diabet"
          ],
          [
           "diabet eat strawberri"
          ],
          [
           "raven symon diabet"
          ],
          [
           "get type two diabet plan"
          ],
          [
           "diabet take theraflu"
          ],
          [
           "type diabet need insulin inject"
          ],
          [
           "manag high blood sugar"
          ],
          [
           "mani gram sugar diabet intak day"
          ],
          [
           "glucos fast nineti eight"
          ],
          [
           "reput diabet cookbook purchas onlin"
          ],
          [
           "remov appendix draw blood blood test drug test also"
          ],
          [
           "term occur much insulin taken"
          ],
          [
           "lose weight pre diabet"
          ],
          [
           "type diabet common children children treat diabet"
          ],
          [
           "someon diabet medic treatment"
          ],
          [
           "meal safe peopl diabet"
          ],
          [
           "symptom high blood sugar"
          ],
          [
           "pigment caus discolor bronz diabet"
          ],
          [
           "one hundr sixteen good blood sugar"
          ],
          [
           "use diabet awar ribbon shirt without permiss diabet associ"
          ],
          [
           "salt pool salt system increas blood pressur"
          ],
          [
           "find inform diabet treatment internet"
          ],
          [
           "caus frequent urin men"
          ],
          [
           "differ insulin diabet"
          ],
          [
           "much sugar caus"
          ],
          [
           "diabet blood test"
          ],
          [
           "would diet plan diabet food watch care"
          ],
          [
           "low mpv count"
          ],
          [
           "fast blood sugar test"
          ],
          [
           "normal rang glucos"
          ],
          [
           "fast caus diabet"
          ],
          [
           "blood glucos number"
          ],
          [
           "blood glucos meter requir blood"
          ],
          [
           "diabet show drug test"
          ],
          [
           "type two diabet affect lifestyl"
          ],
          [
           "bodi system organ cell diabet affect"
          ],
          [
           "cookbook diabet diabet"
          ],
          [
           "normal blood glucos level human"
          ],
          [
           "diabeet"
          ],
          [
           "dessert recip diabet found"
          ],
          [
           "diabet life"
          ],
          [
           "find recip mexican dessert"
          ],
          [
           "diabet color red tattoo"
          ],
          [
           "inadin dress use patient levothyroxin"
          ],
          [
           "mani peopl die type one diabet year"
          ],
          [
           "take chanc diabet equip"
          ],
          [
           "advantag use genet engin insulin"
          ],
          [
           "sexual arous caus spike blood sugar diabet male"
          ],
          [
           "specif type one diabet diet"
          ],
          [
           "diabet coffe"
          ],
          [
           "warn doctor might diabet"
          ],
          [
           "place one find diet diabet"
          ],
          [
           "know diabet"
          ],
          [
           "carbohydr process diabet non diabet person"
          ],
          [
           "increas blood sugar level"
          ],
          [
           "youngest age get insulin pump"
          ],
          [
           "salt rais blood pressur"
          ],
          [
           "two type diabet"
          ],
          [
           "smoke diabet"
          ],
          [
           "diabet kill"
          ],
          [
           "diabet slipper"
          ],
          [
           "cat die diabet"
          ],
          [
           "print diabet diet sheet"
          ],
          [
           "diabet diet plan fit"
          ],
          [
           "someon pleas explain calcul"
          ],
          [
           "common diabet medic"
          ],
          [
           "find good book diabet blood sugar level"
          ],
          [
           "nick diabet"
          ],
          [
           "song nick wrote diabet"
          ],
          [
           "eat sugar type one diabeti"
          ],
          [
           "much sugar diabet eat"
          ],
          [
           "diabet type one type two"
          ],
          [
           "ingredi avoid make diabet cooki recip"
          ],
          [
           "relationship diabet bhramari"
          ],
          [
           "sugar rais blood sugar"
          ],
          [
           "treat hypertens diabet"
          ],
          [
           "insulin resist would best observ peopl"
          ],
          [
           "insulin induc hypoglycemia mean"
          ],
          [
           "synthet human insulin"
          ],
          [
           "relationship obes diabet"
          ],
          [
           "way avoid diabet obes"
          ],
          [
           "purpos american diabet associ"
          ],
          [
           "blood sugar level diabet"
          ],
          [
           "exercis easili improv type one diabet"
          ],
          [
           "melon watermelon safe fruit diabet"
          ],
          [
           "parentern nutrit inject taken oral"
          ],
          [
           "much sugar urin"
          ],
          [
           "lil boosi diabet"
          ],
          [
           "food make wors diabet"
          ],
          [
           "receiv social secur disabl diabet dirrhea"
          ],
          [
           "much sugar haribo"
          ],
          [
           "life cycl glucos"
          ],
          [
           "diabet emerg caus low sugar"
          ],
          [
           "organ need insulin"
          ],
          [
           "would person need diabet neuropathi treatment"
          ],
          [
           "amount blood glucos level seen regular irregular"
          ],
          [
           "type l dm differ type diabet"
          ],
          [
           "gestat diabet show undiagnos type one diabet"
          ],
          [
           "insur compani start first insur scheme diabet patient"
          ],
          [
           "date harm diabet"
          ],
          [
           "free medic suppli"
          ],
          [
           "diabet need monitor blood sugar level"
          ],
          [
           "nick jona blood sugar diagnos diabet"
          ],
          [
           "research done rolf"
          ],
          [
           "food list diabet"
          ],
          [
           "error code blood glucos aviva meter"
          ],
          [
           "diseas symptom obes diabet facial hair growth femal arthritu thin fine hair head poylp fluid retent aortic valv replac surgeri"
          ],
          [
           "diabet caus symptom pregnanc even pregnant"
          ],
          [
           "mani peopl current diabet canada"
          ],
          [
           "diabet caus death"
          ],
          [
           "altern holisit remedi cure diabet"
          ],
          [
           "type wine avoid diabet"
          ],
          [
           "diabet ketoacidosi treat"
          ],
          [
           "alan rickman diabet"
          ],
          [
           "abbrevi acronym modi stand explain modi"
          ],
          [
           "abl join militari diabet"
          ],
          [
           "find blood sugar inform"
          ],
          [
           "true sixti nine percent world popul includ anim diabet"
          ],
          [
           "caus blur vision diabet"
          ],
          [
           "ok eat ham diabet"
          ],
          [
           "longest last action nph lent"
          ],
          [
           "mani peopl get diabet year"
          ],
          [
           "wine high sugar"
          ],
          [
           "role insulin weight gain"
          ],
          [
           "chemic substanc diabet produc"
          ],
          [
           "get eat lot sugar food"
          ],
          [
           "treatment diabet retinopathi"
          ],
          [
           "carrot juic good diabet patient"
          ],
          [
           "dextros insulin lower potassium"
          ],
          [
           "need insulin blood sugar high stress"
          ],
          [
           "use help diabet"
          ],
          [
           "type three diabet"
          ],
          [
           "prognosi untreat diabet foot infect"
          ],
          [
           "mani peopl us suffer diabet"
          ],
          [
           "amount sucros diet affect concentr glucos blood"
          ],
          [
           "diabet patient reluct learn give insulin inject first thing medic"
          ],
          [
           "insulin glucagon regul blood level"
          ],
          [
           "find free diabet diet book"
          ],
          [
           "would girl still go guy despit fact diabet"
          ],
          [
           "would caus extrem exhaust eat"
          ],
          [
           "sell diabet test strip legal"
          ],
          [
           "bodi control diabet"
          ],
          [
           "constantli thirsti tire sometim eye go blurri wrong"
          ],
          [
           "insulin resist women conceiv"
          ],
          [
           "main reason high glucos level"
          ],
          [
           "chromosom number diabet type two"
          ],
          [
           "glucagon produc"
          ],
          [
           "nurs intervent dizzi"
          ],
          [
           "write school research paper diabet"
          ],
          [
           "type two diabet cure proper diet"
          ],
          [
           "diabet shoe purchas singapor"
          ],
          [
           "cook whole famili husband diabet diet"
          ],
          [
           "food without glucos"
          ],
          [
           "tomato bad diabet"
          ],
          [
           "common diabet complic"
          ],
          [
           "area thet affect diabet"
          ],
          [
           "prevent diabet"
          ],
          [
           "get free diabet suppli insur need meter well pleas help type two diabet insur ran"
          ],
          [
           "differ type one type two diabet"
          ],
          [
           "diabet caus drowsi"
          ],
          [
           "diabet resourc internet"
          ],
          [
           "best diabet diet go"
          ],
          [
           "cna shave diabet"
          ],
          [
           "diabet safe diet eat"
          ],
          [
           "mani time need calibr glucomet week"
          ],
          [
           "glucagon protein"
          ],
          [
           "take blood glucos level two hour meal"
          ],
          [
           "risk develop type ii diabet mellitu"
          ],
          [
           "know diabet"
          ],
          [
           "pathophysiolog type two diabet mellitu"
          ],
          [
           "diabet caus kidney damag"
          ],
          [
           "would nick jona write littl seven year old boy got type one diabet huge fan"
          ],
          [
           "one find joslin diabet center"
          ],
          [
           "diabet communic diseas"
          ],
          [
           "tell sugar remov blood"
          ],
          [
           "good old remedi diabet"
          ],
          [
           "smoke affect someon type two diabet"
          ],
          [
           "use diabet lancet"
          ],
          [
           "diabet abl pass along children"
          ],
          [
           "caus diabet"
          ],
          [
           "research done tangerin peel"
          ],
          [
           "diabet affect homeostasi"
          ],
          [
           "mani mg blood sugar lower one unit insulin"
          ],
          [
           "hand safe diabet get tattoo"
          ],
          [
           "best cereal diabet"
          ],
          [
           "involv diabet test"
          ],
          [
           "one sweeten commonli use diabet cooki recip"
          ],
          [
           "accid gave dog much insulin"
          ],
          [
           "relationship cholesterol heart diseas"
          ],
          [
           "diabet pass either parent child"
          ],
          [
           "diabet eat peanut"
          ],
          [
           "mani gram sugar woman consum per day"
          ],
          [
           "retinopathi diagnos"
          ],
          [
           "one hundr twelv glucos high"
          ],
          [
           "retinopathi"
          ],
          [
           "effect type one diabet"
          ],
          [
           "diabet caus shin splint"
          ],
          [
           "process make human insulin bacteria"
          ],
          [
           "go get inform stomach bypass diabet"
          ],
          [
           "organ type two diabet affect"
          ],
          [
           "diet would best diabet"
          ],
          [
           "one find inform diet diabet"
          ],
          [
           "find good sugar diabet diet"
          ],
          [
           "type two diabet hereditari"
          ],
          [
           "normal rang endogen insulin non diabet"
          ],
          [
           "sign decreas bloo glucos level"
          ],
          [
           "averag rang blood sugar level"
          ],
          [
           "lack insulin caus high blood glucos level"
          ],
          [
           "punnett squar look like possibl parent combin type two diabet"
          ],
          [
           "danger consum cheap diabet suppli"
          ],
          [
           "home remedi blood sugar patient"
          ],
          [
           "fruit eat blood sugar problem"
          ],
          [
           "much apparatu blood sugar test"
          ],
          [
           "onlin site offer diabet recip"
          ],
          [
           "good conclus diabet"
          ],
          [
           "treatment medic diabet"
          ],
          [
           "kind diabet consid auto immun diseas"
          ],
          [
           "mental ill clearli defin physic ill diabet"
          ],
          [
           "food bought poor rich person caus diabet"
          ],
          [
           "becom diabet educ"
          ],
          [
           "ayurveda help someon diabet"
          ],
          [
           "get gestat diabet test"
          ],
          [
           "type ii diabet produc insulin"
          ],
          [
           "hormon make blood glucos increas"
          ],
          [
           "includ diabet diet menu"
          ],
          [
           "good thesi statement diabet peopl live"
          ],
          [
           "find diabet diet chart"
          ],
          [
           "diabet test result glucos ac five point six glucos pc"
          ],
          [
           "differ complic type two diabet"
          ],
          [
           "happen coma"
          ],
          [
           "normal concentr blood sugar healthi person bodi"
          ],
          [
           "type sugar blood sugar"
          ],
          [
           "diabet scari"
          ],
          [
           "diet meal plan sugar diabet"
          ],
          [
           "nutrisystem diabet diet harm diabet"
          ],
          [
           "normal rang someon blood sugar level"
          ],
          [
           "two type diabet time like develop obes person person"
          ],
          [
           "sign symptom diabet"
          ],
          [
           "long usual take recov effect diabet seizur slure speech mobil gener concentr"
          ],
          [
           "insulin releas blood"
          ],
          [
           "need comma sentenc vascular diseas secondari diabet small vessel diseas"
          ],
          [
           "diabet mean"
          ],
          [
           "exercis lower blood sugar"
          ],
          [
           "type diabet children develop symptom relat"
          ],
          [
           "might caus rapid weight loss"
          ],
          [
           "take drug screen diabet medicin show"
          ],
          [
           "diabet seriou diseas"
          ],
          [
           "side affect cloud nine caus bodi use"
          ],
          [
           "recommend diet treatment prevent diabet neuropathi"
          ],
          [
           "diabet take flu vaccin"
          ],
          [
           "come shiatsu massag cushion recommend diabet"
          ],
          [
           "kind deal exist notebook type comput"
          ],
          [
           "peopl diabet experi low energi level"
          ],
          [
           "diabet class disabl"
          ],
          [
           "rice pasta better part diabet meal"
          ],
          [
           "better insulin pump anima medtron"
          ],
          [
           "mani differ type diabet"
          ],
          [
           "diabet hand foundat creat"
          ],
          [
           "common symptom diabet"
          ],
          [
           "type food good peopl diabet eat"
          ],
          [
           "caus type diabet"
          ],
          [
           "diabet eat fruit"
          ],
          [
           "type one type two type three diabet"
          ],
          [
           "combin food rais blood sugar"
          ],
          [
           "fast blood sugar one hundr sixteen"
          ],
          [
           "skin tingl"
          ],
          [
           "nutrilit product women cancer take"
          ],
          [
           "ohip cover diabet medic"
          ],
          [
           "mani carbohydr type one diabet eat day"
          ],
          [
           "monitor diabet blood sugar level"
          ],
          [
           "read review blood sugar test product"
          ],
          [
           "anyon type one diabet"
          ],
          [
           "drug make someon diabet"
          ],
          [
           "pre diabet symptom"
          ],
          [
           "blood level glucos amino acid insulin high glycogenesi occur liver bodi"
          ],
          [
           "mani peopl diabet affect one hundr"
          ],
          [
           "true fals type two diabet may reflect declin receptor sensit insulin rather decreas insulin product"
          ],
          [
           "fast night normal blood sugar level morn"
          ],
          [
           "good diabet breakfast"
          ],
          [
           "help three hundr eight pound type ii diabet lose weight"
          ],
          [
           "diabet bodi"
          ],
          [
           "one touch meter use"
          ],
          [
           "two main type diabet"
          ],
          [
           "ratio juvenil diabet"
          ],
          [
           "kind sugar substitut use diabet pound cake recip"
          ],
          [
           "medic need diabet"
          ],
          [
           "make insulin bacteria"
          ],
          [
           "diabet earli sign"
          ],
          [
           "malfunct organ bodi caus diabet"
          ],
          [
           "papaya good fro diabet patient"
          ],
          [
           "diabet help pass drug test faster"
          ],
          [
           "someon diabet eat weetbix"
          ],
          [
           "find good diabet diet food list"
          ],
          [
           "accident gave dog much insulin"
          ],
          [
           "part human bodi effect diabet type one"
          ],
          [
           "diabet patient need nasogastr tube feed"
          ],
          [
           "normal human glucos level"
          ],
          [
           "good overweight"
          ],
          [
           "get diabet"
          ],
          [
           "one hundr sixti blood sugar read eat right"
          ],
          [
           "happen bodi littl insulin"
          ],
          [
           "find tasti diabet recip"
          ],
          [
           "someon wear diabet medic id diabet emerg unclear whether person problem high low blood sugar"
          ],
          [
           "get nick jona diabet tag"
          ],
          [
           "research done vegan"
          ],
          [
           "preval diabet mellitu philippin"
          ],
          [
           "effect royal jelli diabet"
          ],
          [
           "lead caus diabet america prevent get"
          ],
          [
           "glucos startch relat"
          ],
          [
           "nick jona diabet diabet"
          ],
          [
           "herb cure scurvi"
          ],
          [
           "hyponidd"
          ],
          [
           "differ insulin blood sugar"
          ],
          [
           "laura ingal wilder rose"
          ],
          [
           "symtom diabet mellitu"
          ],
          [
           "happen blood acid"
          ],
          [
           "site attack type one diabet"
          ],
          [
           "ohio medicaid cover gastric bypass surgeri"
          ],
          [
           "purpos diabet bracelet"
          ],
          [
           "chang person make order achiev cure diabet type two"
          ],
          [
           "effect alcohol diabet type two"
          ],
          [
           "healthi level blood glucos fast"
          ],
          [
           "control diabet"
          ],
          [
           "cinnamon cure diabet"
          ],
          [
           "condit abnorm low concentr glucos blood call"
          ],
          [
           "diabet mean high blood sugar"
          ],
          [
           "lipotroph diabet"
          ],
          [
           "condit low blood sugar level associ diabet call"
          ],
          [
           "moder weight loss reduc elimin symptom type two diabet"
          ],
          [
           "blood glucos level regul bodi"
          ],
          [
           "know diabet"
          ],
          [
           "import thing know type two diabet"
          ],
          [
           "latest nutrit guid diabet"
          ],
          [
           "blood sugar ach mean"
          ],
          [
           "long fast glucos toler test"
          ],
          [
           "diabet test suppli mail"
          ],
          [
           "get blood sugar rise diabet emerg"
          ],
          [
           "import qualiti diabet suppli"
          ],
          [
           "new food pyramind diabet"
          ],
          [
           "glycem index grit"
          ],
          [
           "diabet suffer frequent hypo low blood sugar requir emerg aid doctor prescrib metformin lower insulin sinc metformin lower blood sugar level"
          ],
          [
           "kind diabet tha nick jona"
          ],
          [
           "caus diabet coma"
          ],
          [
           "sugar natur antifreez peopl cold climat appear prone diseas involv blood sugar"
          ],
          [
           "ogct"
          ],
          [
           "whiskey safe diabet"
          ],
          [
           "combin vitamin"
          ],
          [
           "term best describ failur bodi cell resond insulin"
          ],
          [
           "caus urin specif graviti high"
          ],
          [
           "best free diabet recip"
          ],
          [
           "convert recip diabet"
          ],
          [
           "diseas get eat drink thing contain much sugar"
          ],
          [
           "function ocular"
          ],
          [
           "get lupu swine"
          ],
          [
           "stephdaught age nine four risk juvenil diabet sinc youngest sleep lot rare activ diet limit fatti high carb fri food"
          ],
          [
           "one buy test strip"
          ],
          [
           "hypogycem"
          ],
          [
           "test use diagnosi diabet mellitu"
          ],
          [
           "much insulin take blood sugar two hundr forti one"
          ],
          [
           "diabet affect electrolysi"
          ],
          [
           "diabet affect bodi abil make insulin"
          ],
          [
           "sever diabet symptom"
          ],
          [
           "peopl diabet eat sugar"
          ],
          [
           "best natur diabet treatment"
          ],
          [
           "women diabet pregnant"
          ],
          [
           "risk high blood sugar"
          ],
          [
           "black coffe rais blood sugar"
          ],
          [
           "sign symptom type one diabet"
          ],
          [
           "best diet diabet"
          ],
          [
           "mcclain sister diabet"
          ],
          [
           "know type one type two diabet"
          ],
          [
           "differenti diabet mellitu diabet insipidu"
          ],
          [
           "risk gestat diabet"
          ],
          [
           "could dog die diabet"
          ],
          [
           "percentag american diabet unawar diseas"
          ],
          [
           "word diabetina spanish herb diabet"
          ],
          [
           "three clinic sign insulin defici"
          ],
          [
           "diabet carri insulin flight"
          ],
          [
           "fruit honey bad diabet"
          ],
          [
           "canadian scientist insulin"
          ],
          [
           "kind differ treatment diabet"
          ],
          [
           "get help diabet"
          ],
          [
           "eat raw sugar sign ill"
          ],
          [
           "peopl type two diabet take insulin type one diabet"
          ],
          [
           "sugar coma"
          ],
          [
           "diabet"
          ],
          [
           "onset menopaus caus fals posit diabet test"
          ],
          [
           "nick jona brother know diabet"
          ],
          [
           "go onlin find inform diabet recip"
          ],
          [
           "best insulin diabit"
          ],
          [
           "onlin list diabet food"
          ],
          [
           "system diabet affect"
          ],
          [
           "diseas pandan leav cure"
          ],
          [
           "person blood glucos level"
          ],
          [
           "mani gram carb eat per day low fat diet"
          ],
          [
           "diabet eat papaya"
          ],
          [
           "type diabt blood sugar high"
          ],
          [
           "way treat diabet"
          ],
          [
           "kid love sugar"
          ],
          [
           "go find latest diabet treatment"
          ],
          [
           "diabet nutrit"
          ],
          [
           "prdiabet"
          ],
          [
           "organ produc insulin glucagon"
          ],
          [
           "could two human differ dna sequenc insulin yet still make exact insulin protein"
          ],
          [
           "great diabet recip"
          ],
          [
           "person low blood sugar suggest could eat bring blood sugar level fastest way"
          ],
          [
           "normal blood level"
          ],
          [
           "diabet eat granola"
          ],
          [
           "food make wors diabet"
          ],
          [
           "symptom juvenil diabet"
          ],
          [
           "top ten communic diseas philippin"
          ],
          [
           "diabet urin often"
          ],
          [
           "involv diabet diet"
          ],
          [
           "diabet caus organ shut"
          ],
          [
           "normal blood sugar rang diabet meal"
          ],
          [
           "food caus diabet"
          ],
          [
           "two type diabet"
          ],
          [
           "find blood glucos level chart"
          ],
          [
           "root word diabet"
          ],
          [
           "happen diabet stop take insulin"
          ],
          [
           "mani peopl die diabet"
          ],
          [
           "nick jona diabet"
          ],
          [
           "effect sucralos blood sugar"
          ],
          [
           "normal blood glucos number diabet"
          ],
          [
           "nick jona quot diabet"
          ],
          [
           "best way lose keep weight diabet"
          ],
          [
           "glucos drip given diabet patient"
          ],
          [
           "nut bean eat diabet person"
          ],
          [
           "steve redgrav diabet"
          ],
          [
           "eleven point one high diabet"
          ],
          [
           "test diabet without go doctor buy test strip"
          ],
          [
           "one pleas tell find healthi food diabet like"
          ],
          [
           "exampl diabet diet"
          ],
          [
           "peopl type one diabet control blood pressur"
          ],
          [
           "actrapid insulin short act insulin"
          ],
          [
           "diabet person collaps low high blood sugar"
          ],
          [
           "deliv diabet meal plan"
          ],
          [
           "behavior doctor recommend avoid type two diabet"
          ],
          [
           "healthi weekli meal plan diabet"
          ],
          [
           "diseas caus radiat"
          ],
          [
           "en symptom type one form diseas appear"
          ],
          [
           "free diabet suppli"
          ],
          [
           "diabet eat onion"
          ],
          [
           "diabet form anim"
          ],
          [
           "diabet mellitu complic cholecystectomi"
          ],
          [
           "mani gram sugar allow per day"
          ],
          [
           "banana bad type two diabet"
          ],
          [
           "five foot twelv year old girl weigh eighti four pound"
          ],
          [
           "find onlin menu diabet"
          ],
          [
           "diabet lasik surgeri"
          ],
          [
           "diabet bodi make use whatproperli"
          ],
          [
           "gland control glucos blood level"
          ],
          [
           "relat diabet blood sugar"
          ],
          [
           "found diabet"
          ],
          [
           "good diabet cake recip"
          ],
          [
           "effect diet diabet"
          ],
          [
           "need balanc diet"
          ],
          [
           "doctor refer diabet educ class"
          ],
          [
           "diabet feel"
          ],
          [
           "person diabet would keton urin"
          ],
          [
           "insulin chang world back"
          ],
          [
           "fish diabet"
          ],
          [
           "treatment type one diabet"
          ],
          [
           "caus diabet melitu"
          ],
          [
           "type two diabet chronic diseas"
          ],
          [
           "process bodi function correctli patient diabet"
          ],
          [
           "type insulin use treat diabet"
          ],
          [
           "appropri cooki recip diabet"
          ],
          [
           "classic symptom diabet"
          ],
          [
           "diabet eat sago seed"
          ],
          [
           "caus type diabet mellitu"
          ],
          [
           "organ reli critic steadi suppli glucos"
          ],
          [
           "much sugar bodi"
          ],
          [
           "insulin fold"
          ],
          [
           "happen bood sugar level low"
          ],
          [
           "person diabet melitu affect"
          ],
          [
           "diabet food chart compar basic food chart"
          ],
          [
           "cigarett smoke affect sugar level diabet person"
          ],
          [
           "could tell hamster got diabet"
          ],
          [
           "diabet total sugar diet"
          ],
          [
           "good treatment diabet"
          ],
          [
           "explain type two diabet controlledand type one"
          ],
          [
           "lack caus diabet"
          ],
          [
           "die diabet"
          ],
          [
           "prognosi mild asymptomat insulin resist"
          ],
          [
           "name diabet onlin diet program"
          ],
          [
           "broccoli bad diabet"
          ],
          [
           "good chocol diabet cake recip"
          ],
          [
           "role insulin bodi"
          ],
          [
           "mani peopl diabet unit state"
          ],
          [
           "main ingredi normal recip diabet eat"
          ],
          [
           "type one diabet male produc children type one diabet"
          ],
          [
           "may caus diabet neuropathi"
          ],
          [
           "get diabet cookbook"
          ],
          [
           "effect diabet human bodi"
          ],
          [
           "diabet emerg caus high blood sugar level"
          ],
          [
           "recommend consum food five gram benefici weight control diabet even form cancer"
          ],
          [
           "contribut type two diabet"
          ],
          [
           "inject diabet shot mistak would diabet"
          ],
          [
           "draw nph insulin shake bottl gentli rotat bottl"
          ],
          [
           "type microb diabet"
          ],
          [
           "scientif word low blood sugar"
          ],
          [
           "would like know good food diabet bad food diabet"
          ],
          [
           "percent world popul diabet"
          ],
          [
           "bret michael daughter diabet"
          ],
          [
           "prediabeti carbohydr intak"
          ],
          [
           "enter servic type two diabet"
          ],
          [
           "type diabet occur bodi make insulin enough meet bodi need bodi becom resist insulin produc"
          ],
          [
           "nick jona diabet doctor name"
          ],
          [
           "major symptom type two diabet"
          ],
          [
           "chanc get type one diabet"
          ],
          [
           "one hundr sixti high diabet"
          ],
          [
           "diabet caus"
          ],
          [
           "get diabet eat sugar"
          ],
          [
           "head hurt blood sugar high"
          ],
          [
           "often diabet occur"
          ],
          [
           "black coffe affect glucos blood test"
          ],
          [
           "research done sargassum seawe"
          ],
          [
           "check diabet cbc"
          ],
          [
           "five fact diabet"
          ],
          [
           "diabet transfer sexual"
          ],
          [
           "diabet lost weight fast low glycem food gain"
          ],
          [
           "affect peopl aid breast cancer diabet"
          ],
          [
           "person without diabet get ulcer"
          ],
          [
           "insulin pump cover high glucos level right"
          ],
          [
           "diet young diabet men"
          ],
          [
           "diabet needl"
          ],
          [
           "common sourc infect"
          ],
          [
           "obes diabet nation epidem us"
          ],
          [
           "fake diabet test"
          ],
          [
           "get type diabet"
          ],
          [
           "get diabet life"
          ],
          [
           "danger diabet eat meal contain lot sugar"
          ],
          [
           "herb good diabet"
          ],
          [
           "function peduncl"
          ],
          [
           "insulin blood"
          ],
          [
           "blood sugar high fresh fruit ok"
          ],
          [
           "find diabet recip"
          ],
          [
           "compar insulin unit microgram"
          ],
          [
           "patient type diabet treat"
          ],
          [
           "lot sugar"
          ],
          [
           "averag level blood sugar"
          ],
          [
           "normal blood surgar"
          ],
          [
           "coffe affect blood sugar level"
          ],
          [
           "eat diabet"
          ],
          [
           "mani peopl diabet insipidu"
          ],
          [
           "good resourc use obtain diabet diet sheet"
          ],
          [
           "diabet fruiti odor"
          ],
          [
           "raisin good diabet"
          ],
          [
           "diagnos diabet one high glucos read"
          ],
          [
           "one purchas sock suitabl diabet"
          ],
          [
           "blood sugar chart look"
          ],
          [
           "know anger problem"
          ],
          [
           "gin tonic affect blood sugar level"
          ],
          [
           "mani carb diabet eat one meal"
          ],
          [
           "diabet caus"
          ],
          [
           "diabet take paracetamol"
          ],
          [
           "patholog diabet type two"
          ],
          [
           "human insulin gene transfer bacterium make insulin"
          ],
          [
           "organ releas glucos help maintain normal blood glucos level meal"
          ],
          [
           "diabet use infrar sauna"
          ],
          [
           "mani gram carb one hundr thirti five lb woman per day"
          ],
          [
           "diagnos diabet insipidu"
          ],
          [
           "normal rang blood glucos teenag person"
          ],
          [
           "diabet friendli food"
          ],
          [
           "diabet miletu"
          ],
          [
           "type food diabet avoid"
          ],
          [
           "oil base food good women"
          ],
          [
           "kind diet diabet"
          ],
          [
           "type two diabet iuss"
          ],
          [
           "common effect diabet diabet"
          ],
          [
           "cale blood aced"
          ],
          [
           "optim blood glucos control reduc risk coronari heart diseas patient type one diabet"
          ],
          [
           "eat sugar free jello blood test"
          ],
          [
           "beta blocker caus hypoglycemia"
          ],
          [
           "eat fish chip diabet"
          ],
          [
           "type four diabet"
          ],
          [
           "type one diabet eat honey"
          ],
          [
           "age symptom diabet occur"
          ],
          [
           "counter insulin good prescript insulin"
          ],
          [
           "diabet cappuccino"
          ],
          [
           "exactli food diabet mean"
          ],
          [
           "type one diabet transmit"
          ],
          [
           "daughter eye brain go anoth place afew second could low high blood sugar"
          ],
          [
           "descript fast blood sugar"
          ],
          [
           "effect diet diabet type two"
          ],
          [
           "effect medicin treat diabet"
          ],
          [
           "vitamin get rid diabet"
          ],
          [
           "qualif need diabet nurs"
          ],
          [
           "know diabet"
          ],
          [
           "sugar found human blood"
          ],
          [
           "approxim insulin"
          ],
          [
           "sixti two year old diabet black man swollen left leg area blanch blue mottl"
          ],
          [
           "eat unsweeten appl sauc diabet diet"
          ],
          [
           "eat diabet"
          ],
          [
           "glycem index diet help diabet"
          ],
          [
           "diabet eat liver"
          ],
          [
           "normal blood glucos level"
          ],
          [
           "live react high level glucos blood convert glucos"
          ],
          [
           "secretagogu substanc"
          ],
          [
           "itchyblist arm shoulder"
          ],
          [
           "need two kidney"
          ],
          [
           "reason person would start urin lot"
          ],
          [
           "lose weight health reason"
          ],
          [
           "give inject diabet"
          ],
          [
           "sugar level normal someon diabet"
          ],
          [
           "drink beer safe diabet"
          ],
          [
           "type one diabet affect sperm count"
          ],
          [
           "find diet plan person type two diabet"
          ],
          [
           "could diabet mental ill born develop extrem depress suppress sad anger"
          ],
          [
           "type one diabet type two"
          ],
          [
           "diseas endocrin system"
          ],
          [
           "sugar normal rang"
          ],
          [
           "gellium barea"
          ],
          [
           "could caus headach dizzi feel surg electr run brain"
          ],
          [
           "best diabet diet food give fifteen year old grow girl"
          ],
          [
           "took insluin diabet"
          ],
          [
           "ophthalmoplegia happen diabet mellitu"
          ],
          [
           "life long condit"
          ],
          [
           "might diabet alter one everyday life"
          ],
          [
           "diabet take royal jelli"
          ],
          [
           "alcoh good diabet"
          ],
          [
           "one purchas gourmet chocol suitabl diabet"
          ],
          [
           "omega three good diabet"
          ],
          [
           "long diabet around"
          ],
          [
           "diabet make sick"
          ],
          [
           "everyon diabet"
          ],
          [
           "diabet go away"
          ],
          [
           "briefli describ four type diabet insipidu"
          ],
          [
           "exercis wheight loss help lower blood sugar level diabet patient"
          ],
          [
           "get insulin"
          ],
          [
           "import factor insid diabet guidelin"
          ],
          [
           "find recip sugar free dessert"
          ],
          [
           "treat patient give much insulin"
          ],
          [
           "final caus sycmor fall"
          ],
          [
           "diabet mellitu blood glucos level high glucos appear urin due properti carrier protein along kidney tubul name"
          ],
          [
           "find free diabet meter"
          ],
          [
           "hormon continu make adjust blood glucos level"
          ],
          [
           "good diet diabet tri"
          ],
          [
           "nick jona make big deal diabet"
          ],
          [
           "inject insulin essenti part daili regim peopl diabet"
          ]
         ],
         "hovertemplate": "pc_1=%{x}<br>pc_2=%{y}<br>pc_3=%{marker.color}<br>sentence=%{customdata[0]}<extra></extra>",
         "legendgroup": "",
         "marker": {
          "color": [
           -9.821986198425293,
           4.376723766326904,
           1.904742956161499,
           -0.5818251967430115,
           2.171926259994507,
           -5.344897270202637,
           11.46579647064209,
           -4.284012317657471,
           7.739428997039795,
           9.8646821975708,
           11.255568504333496,
           1.3318586349487305,
           9.879883766174316,
           10.228157997131348,
           -8.581866264343262,
           -7.751824855804443,
           -8.676362037658691,
           -1.494596242904663,
           -9.067350387573242,
           -0.8244934678077698,
           7.425113201141357,
           -9.883650779724121,
           -1.9016079902648926,
           -14.296485900878906,
           1.0491666793823242,
           1.9175223112106323,
           -4.925706386566162,
           -3.5258841514587402,
           3.754142999649048,
           -14.019309997558594,
           0.35618042945861816,
           3.136472225189209,
           -13.835718154907227,
           4.887351036071777,
           10.543059349060059,
           -7.656593322753906,
           -0.04860898107290268,
           10.824085235595703,
           10.85457992553711,
           3.394240140914917,
           -5.059901714324951,
           1.8518387079238892,
           10.377251625061035,
           10.395127296447754,
           -10.918310165405273,
           11.081134796142578,
           10.99889087677002,
           5.316309928894043,
           1.181816577911377,
           -2.6107468605041504,
           -9.171667098999023,
           4.992837905883789,
           4.139266490936279,
           1.6335786581039429,
           -8.337984085083008,
           1.8156224489212036,
           3.0044636726379395,
           -4.644957542419434,
           -9.448805809020996,
           8.39295768737793,
           2.0933845043182373,
           -2.420546054840088,
           4.920722484588623,
           -0.5001614689826965,
           -0.24475599825382233,
           -5.460596561431885,
           -7.317522048950195,
           7.153228759765625,
           -6.0226521492004395,
           7.897843837738037,
           -13.871953010559082,
           7.016570091247559,
           9.212230682373047,
           1.1168341636657715,
           6.53216028213501,
           3.0065906047821045,
           8.433235168457031,
           -4.565250396728516,
           -1.0645254850387573,
           5.749624252319336,
           10.956969261169434,
           10.6200532913208,
           -9.816929817199707,
           -7.9300971031188965,
           9.19818115234375,
           -9.72716999053955,
           4.591224670410156,
           5.9889326095581055,
           -2.3836662769317627,
           10.506293296813965,
           -3.0751852989196777,
           1.6365413665771484,
           3.421144485473633,
           5.314750671386719,
           -1.25974440574646,
           2.3659255504608154,
           5.460315227508545,
           -8.557583808898926,
           6.748600959777832,
           0.17881034314632416,
           5.082942008972168,
           -7.401253700256348,
           -9.204621315002441,
           6.190266132354736,
           10.176739692687988,
           8.600418090820312,
           -0.8283774256706238,
           -3.920145034790039,
           -5.246232032775879,
           4.429940223693848,
           -10.771821975708008,
           2.041273593902588,
           3.3093013763427734,
           10.543074607849121,
           -14.996509552001953,
           -8.52137279510498,
           10.234601020812988,
           1.5794273614883423,
           4.216531276702881,
           0.46223780512809753,
           9.131708145141602,
           -2.9821019172668457,
           -8.396769523620605,
           -8.43224048614502,
           7.386050224304199,
           -15.647161483764648,
           -8.05812931060791,
           -8.38371467590332,
           -9.61366081237793,
           -1.0211769342422485,
           -7.484530448913574,
           -2.5945920944213867,
           -0.07306667417287827,
           -4.305678367614746,
           0.5126892924308777,
           -0.957116425037384,
           -4.087117671966553,
           3.280923366546631,
           -4.417938709259033,
           3.4289615154266357,
           -6.751660346984863,
           -8.132152557373047,
           -9.985525131225586,
           9.824525833129883,
           1.9481732845306396,
           -7.584771633148193,
           2.4901411533355713,
           10.845186233520508,
           -9.434969902038574,
           3.450835704803467,
           -12.397486686706543,
           -8.728178977966309,
           -4.289560317993164,
           2.5513012409210205,
           -9.59997272491455,
           1.1112611293792725,
           -3.615718126296997,
           -9.79747200012207,
           -0.7438272833824158,
           2.378866195678711,
           10.542444229125977,
           -0.5116055607795715,
           -2.8682138919830322,
           0.1788478046655655,
           -12.69796085357666,
           6.22958517074585,
           5.274174213409424,
           7.64725399017334,
           6.819993495941162,
           -5.243457794189453,
           -7.17394495010376,
           9.838117599487305,
           -3.199836254119873,
           9.236328125,
           -4.770757675170898,
           1.386628270149231,
           2.2470946311950684,
           0.24822857975959778,
           2.7766058444976807,
           0.27707579731941223,
           -14.600398063659668,
           -6.857494354248047,
           -1.1725307703018188,
           -3.8081483840942383,
           -3.587851047515869,
           0.497191846370697,
           5.383690357208252,
           1.6521730422973633,
           3.5370335578918457,
           -1.203284502029419,
           -2.198711395263672,
           -2.648883819580078,
           -8.211334228515625,
           -5.006320476531982,
           -0.7298411726951599,
           9.448493957519531,
           8.09121322631836,
           10.280454635620117,
           2.092439889907837,
           2.879246473312378,
           0.30672404170036316,
           9.841212272644043,
           2.8137307167053223,
           -8.646293640136719,
           -9.653371810913086,
           11.708946228027344,
           5.213251113891602,
           -3.2771503925323486,
           10.956210136413574,
           0.7228707671165466,
           10.967177391052246,
           -3.3473124504089355,
           5.57430362701416,
           -7.981307029724121,
           -5.731340408325195,
           -4.951132297515869,
           -1.6312947273254395,
           -12.674466133117676,
           10.066906929016113,
           -3.471524477005005,
           2.260164737701416,
           -7.547539234161377,
           -12.4841890335083,
           9.270548820495605,
           -4.435578346252441,
           -8.664063453674316,
           -2.951700210571289,
           9.958291053771973,
           9.932860374450684,
           3.7956483364105225,
           4.2164998054504395,
           -9.91219711303711,
           -8.551527976989746,
           6.210831165313721,
           0.2714961767196655,
           2.9320597648620605,
           10.267914772033691,
           4.678247451782227,
           5.510822296142578,
           -0.7928116917610168,
           8.575477600097656,
           -12.503410339355469,
           3.4669039249420166,
           -3.213043689727783,
           -2.410897970199585,
           6.7385711669921875,
           -6.928330898284912,
           10.904425621032715,
           -7.735121250152588,
           10.32835578918457,
           4.633546352386475,
           -8.452656745910645,
           7.016668796539307,
           0.5877298712730408,
           0.0641561895608902,
           8.873449325561523,
           0.15518656373023987,
           2.8716776371002197,
           10.502106666564941,
           -5.737922191619873,
           -3.6834397315979004,
           -3.875197410583496,
           -8.767682075500488,
           3.0763423442840576,
           5.799404144287109,
           -2.1890335083007812,
           2.4246151447296143,
           0.32223963737487793,
           2.7815065383911133,
           -0.3137196898460388,
           -9.70054817199707,
           -7.3445048332214355,
           10.734033584594727,
           0.7655341625213623,
           -11.760086059570312,
           1.4268244504928589,
           -2.285381317138672,
           -6.754032135009766,
           -9.482117652893066,
           -7.3629021644592285,
           -8.817933082580566,
           -2.0881307125091553,
           10.642231941223145,
           6.031033992767334,
           -8.76616382598877,
           8.836949348449707,
           7.01658821105957,
           -0.7379680275917053,
           -3.6692655086517334,
           11.086191177368164,
           -9.600984573364258,
           5.929666042327881,
           -7.979889869689941,
           -6.830782890319824,
           6.379591941833496,
           9.321762084960938,
           -2.1413960456848145,
           -9.255566596984863,
           -4.619433879852295,
           8.634200096130371,
           -5.489502906799316,
           -10.862405776977539,
           -5.719909191131592,
           2.3508222103118896,
           3.062725782394409,
           -7.195696830749512,
           3.805436849594116,
           -0.8005865812301636,
           9.09454345703125,
           -9.975791931152344,
           8.474820137023926,
           2.7720468044281006,
           2.27738356590271,
           -3.5653645992279053,
           0.7802199125289917,
           -4.220641136169434,
           1.49446439743042,
           11.045628547668457,
           -2.1892266273498535,
           -7.291240215301514,
           -7.320724010467529,
           -5.628731727600098,
           10.937317848205566,
           11.680039405822754,
           -4.633445739746094,
           -8.168169975280762,
           -7.6565961837768555,
           -1.2342286109924316,
           4.075287342071533,
           -6.976207256317139,
           4.446735382080078,
           -3.917581558227539,
           -2.444031238555908,
           -7.1195387840271,
           10.62053394317627,
           0.7198392152786255,
           2.0515363216400146,
           0.20608407258987427,
           -6.467381954193115,
           4.135232925415039,
           -8.75460433959961,
           -1.75019371509552,
           -9.892985343933105,
           2.7012317180633545,
           9.707263946533203,
           -1.8398877382278442,
           -16.546146392822266,
           -4.75312614440918,
           -4.302685737609863,
           8.222006797790527,
           4.924020767211914,
           1.514891266822815,
           -9.555815696716309,
           2.847080707550049,
           10.312097549438477,
           -9.796095848083496,
           2.37697434425354,
           2.961191415786743,
           3.122211456298828,
           -8.26648235321045,
           -12.99459457397461,
           -4.9527997970581055,
           9.49179744720459,
           -8.488371849060059,
           6.310659885406494,
           -15.742791175842285,
           10.904425621032715,
           -8.538755416870117,
           -9.475515365600586,
           -7.5344462394714355,
           4.684020042419434,
           -8.814164161682129,
           -6.962133407592773,
           4.571829319000244,
           -2.032508134841919,
           -9.188325881958008,
           3.065004587173462,
           0.7606678009033203,
           1.475504755973816,
           10.147472381591797,
           -6.154758930206299,
           -0.644523024559021,
           -12.527027130126953,
           10.234107971191406,
           0.9094171524047852,
           2.6062018871307373,
           4.623018741607666,
           -2.7042500972747803,
           -8.062586784362793,
           -5.340563774108887,
           1.9262466430664062,
           -9.130764961242676,
           10.245133399963379,
           -9.1220121383667,
           -7.302380084991455,
           2.0699045658111572,
           6.617937088012695,
           -2.227722644805908,
           -0.012958807870745659,
           6.070241451263428,
           6.955970287322998,
           -9.214177131652832,
           -7.849707126617432,
           -8.425861358642578,
           2.861435651779175,
           10.97919750213623,
           -9.40908432006836,
           -1.8271117210388184,
           -6.461301803588867,
           8.572970390319824,
           -8.222235679626465,
           -9.210041999816895,
           -8.931303977966309,
           -0.7487865090370178,
           -9.937599182128906,
           -9.600118637084961,
           -10.087814331054688,
           0.4979289174079895,
           -8.017722129821777,
           5.357004642486572,
           -8.066555976867676,
           -3.4823904037475586,
           11.671856880187988,
           4.657411098480225,
           11.649779319763184,
           -9.63422966003418,
           -7.482410430908203,
           -0.1876826286315918,
           2.541604518890381,
           -13.615986824035645,
           8.247066497802734,
           0.8514528870582581,
           -3.3456060886383057,
           1.5626693964004517,
           5.057426929473877,
           -1.3829492330551147,
           3.091249942779541,
           -7.1195878982543945,
           -3.7209155559539795,
           -7.294308662414551,
           2.2057197093963623,
           2.487279176712036,
           3.27606463432312,
           1.3220545053482056,
           -3.4119608402252197,
           5.390914440155029,
           9.95522403717041,
           -8.929027557373047,
           -1.6944756507873535,
           2.9138174057006836,
           9.896089553833008,
           8.758106231689453,
           3.5352816581726074,
           0.3625028729438782,
           -4.391294479370117,
           9.902067184448242,
           2.648186206817627,
           -5.706223964691162,
           -4.3221964836120605,
           -0.9956083297729492,
           -16.34099006652832,
           -12.403802871704102,
           10.617499351501465,
           3.8200862407684326,
           -6.594415664672852,
           -8.98857593536377,
           0.3641999661922455,
           3.0481879711151123,
           0.08190777897834778,
           9.975172996520996,
           0.2081652730703354,
           1.8841859102249146,
           8.928165435791016,
           -2.020214319229126,
           1.0385328531265259,
           -7.837578773498535,
           -13.293015480041504,
           2.8186354637145996,
           -5.996082305908203,
           5.509555339813232,
           1.0826891660690308,
           -7.604862213134766,
           -4.133431434631348,
           1.5991727113723755,
           -8.55500602722168,
           2.28080677986145,
           0.2844173312187195,
           6.424838542938232,
           -8.752963066101074,
           10.214574813842773,
           10.830330848693848,
           9.428651809692383,
           7.857160568237305,
           6.772775650024414,
           0.8903250694274902,
           0.32507121562957764,
           2.843933582305908,
           9.648828506469727,
           8.665088653564453,
           -5.575868606567383,
           -2.994140625,
           5.366272926330566,
           5.251441478729248,
           -7.568805694580078,
           10.973708152770996,
           -7.013207912445068,
           -11.765713691711426,
           -5.7752156257629395,
           2.2026331424713135,
           2.334599733352661,
           4.693405628204346,
           -14.001696586608887,
           -15.762803077697754,
           -4.9000563621521,
           -3.1492466926574707,
           10.864824295043945,
           6.63672399520874,
           -2.967771291732788,
           -8.997097969055176,
           -14.929666519165039,
           6.219703197479248,
           2.813802480697632,
           4.269056797027588,
           -7.811186790466309,
           -5.29467248916626,
           5.551732063293457,
           -1.2295476198196411,
           -9.552490234375,
           -8.10605239868164,
           -9.345468521118164,
           -9.585551261901855,
           2.723184585571289,
           1.5524426698684692,
           6.477614879608154,
           3.1108126640319824,
           -2.216306447982788,
           -3.9111340045928955,
           4.9355926513671875,
           5.378433704376221,
           2.7821121215820312,
           -0.33378535509109497,
           -2.036102771759033,
           8.832539558410645,
           -2.7331888675689697,
           2.3566877841949463,
           -8.2399320602417,
           7.156501770019531,
           -7.848324775695801,
           -9.361042976379395,
           -7.5709404945373535,
           2.3358819484710693,
           -1.3829481601715088,
           1.9269887208938599,
           7.108861446380615,
           0.12846174836158752,
           -0.8308520317077637,
           10.248502731323242,
           -9.855531692504883,
           2.7218565940856934,
           0.5201942920684814,
           -6.012244701385498,
           9.961385726928711,
           7.01664400100708,
           0.5060361623764038,
           -5.900092124938965,
           -15.833063125610352,
           5.185702800750732,
           3.7672951221466064,
           -7.676200866699219,
           9.35047721862793,
           -5.179523468017578,
           1.2735751867294312,
           9.33214282989502,
           2.948678731918335,
           -2.005903482437134,
           6.036107540130615,
           -9.747970581054688,
           0.28229713439941406,
           -3.113375663757324,
           7.432207107543945,
           -14.86145305633545,
           3.7172577381134033,
           -2.6950321197509766,
           1.162937045097351,
           8.827737808227539,
           2.227565050125122,
           6.044756889343262,
           -13.692230224609375,
           -8.737898826599121,
           -8.65475845336914,
           -9.322444915771484,
           4.2499823570251465,
           5.49620246887207,
           -4.138716697692871,
           2.3264660835266113,
           -7.683632850646973,
           10.388452529907227,
           2.361255168914795,
           -0.17387895286083221,
           6.275051593780518,
           5.122580051422119,
           3.2227213382720947,
           2.396597385406494,
           3.7256200313568115,
           -3.2877564430236816,
           -6.516287326812744,
           -10.635826110839844,
           8.329219818115234,
           -1.389365553855896,
           4.090694427490234,
           -10.244525909423828,
           4.218758583068848,
           -8.5848388671875,
           -10.05188274383545,
           -15.12700366973877,
           -7.495381832122803,
           4.058797836303711,
           9.987183570861816,
           -8.87291431427002,
           7.534372806549072,
           10.978313446044922,
           8.702341079711914,
           -12.408538818359375,
           6.757482051849365,
           1.8042848110198975,
           -5.067439079284668,
           10.390764236450195,
           9.841371536254883,
           -10.05063247680664,
           -1.2728444337844849,
           0.0899769589304924,
           9.382955551147461,
           -7.319449424743652,
           -6.200486660003662,
           -0.5753970146179199,
           -5.481041431427002,
           6.44042444229126,
           0.017559736967086792,
           -9.0958833694458,
           0.9261879324913025,
           10.867194175720215,
           11.032917022705078,
           0.8399618268013,
           3.0404915809631348,
           5.872140884399414,
           -3.6181464195251465,
           -1.8477805852890015,
           -9.47380542755127,
           -7.74216365814209,
           -5.532902717590332,
           0.18455933034420013,
           -0.9833366274833679,
           -6.014910697937012,
           -8.119593620300293,
           -4.151163578033447,
           -9.04806137084961,
           10.187246322631836,
           -13.850829124450684,
           -7.5530571937561035,
           -6.338594913482666,
           -8.935976028442383,
           1.395707368850708,
           -0.33164042234420776,
           0.16830629110336304,
           -9.808146476745605,
           -0.2688174843788147,
           2.351331949234009,
           8.133932113647461,
           -6.442985534667969,
           -14.810751914978027,
           10.663229942321777,
           -3.504652261734009,
           -6.1927361488342285,
           -7.374228477478027,
           0.3900090157985687,
           9.989169120788574,
           -4.9743332862854,
           -3.18729567527771,
           -1.7175238132476807,
           -8.986481666564941,
           4.415075302124023,
           9.841241836547852,
           -6.685632705688477,
           -9.983451843261719,
           9.262752532958984,
           -5.3202595710754395,
           9.9815092086792,
           0.7007445693016052,
           7.253942489624023,
           -7.995242595672607,
           4.276690483093262,
           -9.479726791381836,
           10.179681777954102,
           10.503047943115234,
           -5.726600170135498,
           -15.999147415161133,
           9.704421997070312,
           5.574101448059082,
           -8.643243789672852,
           -2.760910987854004,
           -2.043992280960083,
           2.890341281890869,
           -0.6008189916610718,
           -8.961639404296875,
           -7.267548084259033,
           -1.3373064994812012,
           11.726019859313965,
           -10.445255279541016,
           -4.932350158691406,
           4.074540615081787,
           -10.045411109924316,
           6.8604044914245605,
           -10.489251136779785,
           -1.382948875427246,
           1.2880066633224487,
           6.211085796356201,
           -7.246633529663086,
           -7.5846991539001465,
           -0.5035011768341064,
           -8.9159574508667,
           5.118344306945801,
           2.2124903202056885,
           6.461002826690674,
           -7.181879997253418,
           9.859091758728027,
           2.3772261142730713,
           3.227264165878296,
           -4.643352031707764,
           -6.387002944946289,
           2.6412367820739746,
           -9.734556198120117,
           0.2786758542060852,
           10.187113761901855,
           4.004940032958984,
           6.431000709533691,
           -8.719996452331543,
           5.96517276763916,
           3.9913320541381836,
           -7.694686412811279,
           -8.495871543884277,
           -10.486281394958496,
           -14.716971397399902,
           3.201265335083008,
           -6.07158899307251,
           10.332118034362793,
           1.5293434858322144,
           0.2541240155696869,
           6.6930670738220215,
           -6.630478382110596,
           -6.968567848205566,
           7.363094329833984,
           2.9699363708496094,
           2.145284652709961,
           -3.9303414821624756,
           10.07921314239502,
           6.591282367706299,
           -3.0509438514709473,
           2.2376339435577393,
           2.5176475048065186,
           -2.8374009132385254,
           -9.599287033081055,
           5.959971904754639,
           -11.551763534545898,
           4.198237419128418,
           -2.3312718868255615,
           2.3334567546844482,
           -8.543646812438965,
           -5.223137855529785,
           0.05874460190534592,
           -5.995471954345703,
           10.330063819885254,
           10.138814926147461,
           -8.530031204223633,
           2.948056697845459,
           -0.9929401278495789,
           2.6359920501708984,
           -9.19543743133545,
           4.628750801086426,
           1.0413124561309814,
           -8.727238655090332,
           -0.18647217750549316,
           2.7330877780914307,
           -3.320145606994629,
           5.3140645027160645,
           -7.460968971252441,
           -13.829215049743652,
           -6.86681604385376,
           9.3790922164917,
           -2.872955560684204,
           -7.755856513977051,
           2.014495849609375,
           1.8841862678527832,
           10.46984577178955,
           11.035632133483887,
           10.902003288269043,
           2.3900668621063232,
           0.04384913295507431,
           -5.78048038482666,
           2.9242138862609863,
           2.2057740688323975,
           -6.846531867980957,
           2.778639554977417,
           -4.996713638305664,
           5.583979606628418,
           10.039548873901367,
           -9.455245971679688,
           -9.006399154663086,
           10.535834312438965,
           3.229041576385498,
           -7.594244480133057,
           1.9141943454742432,
           2.773803949356079,
           -8.382476806640625,
           -7.15284538269043,
           3.154017210006714,
           2.3029682636260986,
           -4.3477253913879395,
           -11.544904708862305,
           -9.159073829650879,
           3.7534449100494385,
           1.8027851581573486,
           4.889370918273926,
           10.651150703430176,
           6.897700786590576,
           5.630722999572754,
           0.9325746297836304,
           -4.602501392364502,
           7.746799945831299,
           1.0830893516540527,
           -1.0568017959594727,
           8.367856979370117,
           6.799460411071777,
           0.1963622272014618,
           -8.091954231262207,
           -10.0140380859375,
           -4.000553607940674,
           -4.690565586090088,
           9.940437316894531,
           2.565099000930786,
           3.712402105331421,
           -2.4890079498291016,
           0.20396006107330322,
           10.933835983276367,
           -10.237471580505371,
           2.963320732116699,
           -0.8788033723831177,
           8.164899826049805,
           7.45051383972168,
           -7.6801629066467285,
           -9.369284629821777,
           9.065716743469238,
           10.897907257080078,
           1.4425188302993774,
           3.2537460327148438,
           -7.270517349243164,
           -4.401002407073975,
           -11.53648567199707,
           -9.043404579162598,
           -1.3879228830337524,
           0.8029066920280457,
           -6.04188871383667,
           2.4785830974578857,
           2.028672456741333,
           3.300846815109253,
           0.20874230563640594,
           9.729119300842285,
           -1.1105186939239502,
           -7.844106674194336,
           4.601927757263184,
           -8.014177322387695,
           9.483736038208008,
           -12.944832801818848,
           -2.4577009677886963,
           4.286974906921387,
           5.2257914543151855,
           8.784642219543457,
           3.2796459197998047,
           -3.532137393951416,
           -8.111513137817383,
           1.0032795667648315,
           3.067885398864746,
           -5.177377700805664,
           -9.955802917480469,
           -3.089824914932251,
           -9.019614219665527,
           2.889892578125,
           2.8183796405792236,
           8.740324974060059,
           1.6845370531082153,
           4.049015998840332,
           -2.5451741218566895,
           10.060463905334473,
           10.41419506072998,
           7.388375759124756,
           -8.466238975524902,
           7.398860931396484,
           4.168457508087158,
           -8.61241340637207,
           5.146703720092773,
           -8.78612232208252,
           -2.1006157398223877,
           -4.854013442993164,
           -4.229205131530762,
           10.442005157470703,
           2.573739528656006,
           5.168371200561523,
           0.806686282157898,
           -15.243907928466797,
           3.6905908584594727,
           -7.526579856872559,
           10.31913948059082,
           9.464960098266602,
           -8.957456588745117,
           2.5644948482513428,
           9.614097595214844,
           1.0118316411972046,
           8.425695419311523,
           -8.96040153503418,
           -15.17454719543457,
           -2.0930628776550293,
           10.761469841003418,
           -13.402053833007812,
           -4.16271448135376,
           0.538878858089447,
           -9.012455940246582,
           -8.29107666015625,
           -6.398519039154053,
           2.3477673530578613,
           5.9100341796875,
           3.413728952407837,
           9.053144454956055,
           -3.764343500137329,
           -10.026274681091309,
           3.102654218673706,
           -9.098849296569824,
           2.0647318363189697,
           -2.9596688747406006,
           2.2327880859375,
           7.398398399353027,
           2.21171236038208,
           -4.137738227844238,
           -9.745980262756348,
           -9.26770305633545,
           5.816743850708008,
           -0.13053472340106964,
           -1.9690020084381104,
           -8.089637756347656,
           2.847503185272217,
           2.4347784519195557,
           -0.6048174500465393,
           2.8789713382720947,
           3.9038093090057373,
           -0.6046802997589111,
           4.9776411056518555,
           6.256008625030518,
           -4.4279046058654785,
           -3.669038772583008,
           -6.839771747589111,
           2.3217406272888184,
           -3.5240976810455322,
           5.765242099761963,
           11.06392765045166,
           -12.23277473449707,
           -5.942928314208984,
           2.7284128665924072,
           -1.0692393779754639,
           -8.796525001525879,
           -9.250741958618164,
           0.9563848376274109,
           -5.798703193664551,
           2.7094621658325195,
           -2.648143768310547,
           -1.3829491138458252,
           -6.52078104019165,
           -8.775009155273438,
           10.854813575744629,
           3.3381426334381104,
           2.347768545150757,
           11.219335556030273,
           -6.0001678466796875,
           -8.130502700805664,
           -7.659557819366455,
           -1.7078893184661865,
           9.549630165100098,
           -0.6996386647224426,
           10.711946487426758,
           2.786776065826416,
           -8.118268013000488,
           -7.412569999694824,
           1.8833321332931519,
           -1.0236377716064453,
           9.888964653015137,
           10.515872955322266,
           -2.0158567428588867,
           0.16418157517910004,
           -7.042398452758789,
           -3.0085794925689697,
           -9.738686561584473,
           7.699988842010498,
           -8.097405433654785,
           3.5598766803741455,
           5.071311950683594,
           8.896306037902832,
           -7.058430194854736,
           0.9715901017189026,
           3.965512990951538,
           0.6482976078987122,
           -3.834029197692871,
           -4.682287693023682,
           5.93482780456543,
           5.118072986602783,
           1.589367151260376,
           -3.8133864402770996,
           -9.17166805267334,
           5.0262908935546875,
           11.620869636535645,
           -8.045377731323242,
           0.17634126543998718,
           -7.829648494720459,
           0.41634222865104675,
           -10.616072654724121,
           3.6953561305999756,
           10.278539657592773,
           -1.8426800966262817
          ],
          "coloraxis": "coloraxis",
          "size": 5,
          "symbol": "circle"
         },
         "mode": "markers",
         "name": "",
         "scene": "scene",
         "showlegend": false,
         "type": "scatter3d",
         "x": [
          9.753113746643066,
          -6.087392807006836,
          2.1776201725006104,
          -0.8337178826332092,
          -7.495748996734619,
          4.0664544105529785,
          10.928633689880371,
          -5.860567092895508,
          -13.571162223815918,
          -12.490520477294922,
          11.103815078735352,
          -1.5216422080993652,
          -12.45880126953125,
          -11.161949157714844,
          -1.8810150623321533,
          0.748877227306366,
          5.527822971343994,
          3.3829398155212402,
          14.907137870788574,
          3.2410004138946533,
          -13.367785453796387,
          9.567161560058594,
          4.765527725219727,
          0.4323987662792206,
          -11.922089576721191,
          2.6916985511779785,
          7.742751121520996,
          6.621381759643555,
          -11.896553993225098,
          0.16784986853599548,
          3.5072011947631836,
          -8.808345794677734,
          -0.09557054191827774,
          -10.068480491638184,
          -11.086748123168945,
          5.474009990692139,
          4.478944778442383,
          -10.86657428741455,
          -10.831583023071289,
          5.71668004989624,
          7.97710657119751,
          1.3857014179229736,
          -8.250898361206055,
          -9.184856414794922,
          -1.0589922666549683,
          -10.942578315734863,
          -9.236715316772461,
          -11.828030586242676,
          -12.167158126831055,
          3.3132598400115967,
          -1.4200279712677002,
          9.31428050994873,
          4.986100673675537,
          -1.3111296892166138,
          -1.3338295221328735,
          -4.752803802490234,
          -4.275656700134277,
          -4.206722259521484,
          11.384490013122559,
          -10.069174766540527,
          2.029942274093628,
          5.248515605926514,
          -9.853297233581543,
          -11.030611991882324,
          3.425624132156372,
          3.7161006927490234,
          12.077920913696289,
          -13.941624641418457,
          1.7611968517303467,
          -13.686907768249512,
          -0.0058592213317751884,
          -11.88593864440918,
          -13.077665328979492,
          4.633172988891602,
          -13.05476188659668,
          0.9810084104537964,
          -12.364556312561035,
          4.624415397644043,
          3.6357386112213135,
          9.15868854522705,
          -8.74824333190918,
          -7.803155422210693,
          11.252935409545898,
          -0.5502675175666809,
          10.472277641296387,
          12.47994613647461,
          -4.896762371063232,
          -11.97042179107666,
          3.5691678524017334,
          -8.476067543029785,
          -2.4747321605682373,
          2.4965083599090576,
          4.108738422393799,
          8.127909660339355,
          -3.1455399990081787,
          -7.343856334686279,
          6.968563079833984,
          1.529688835144043,
          -6.523648738861084,
          -5.838225364685059,
          -13.632343292236328,
          5.157133102416992,
          10.143197059631348,
          8.577444076538086,
          -7.2053704261779785,
          10.31515121459961,
          5.7165374755859375,
          -6.508213996887207,
          7.133282661437988,
          7.063294410705566,
          11.97050952911377,
          -12.641790390014648,
          -3.6920487880706787,
          -11.08684253692627,
          0.9319553375244141,
          6.852715969085693,
          10.59290599822998,
          4.6712327003479,
          5.234216213226318,
          -6.126906871795654,
          -9.000629425048828,
          3.1639246940612793,
          4.673774719238281,
          1.30556321144104,
          -13.938393592834473,
          1.496047854423523,
          9.479201316833496,
          14.979268074035645,
          10.343501091003418,
          -10.250956535339355,
          0.8452102541923523,
          -3.3016064167022705,
          6.079441070556641,
          2.031825304031372,
          1.9656178951263428,
          -11.266498565673828,
          5.203838348388672,
          -3.746462106704712,
          0.11028259992599487,
          2.3147881031036377,
          14.009906768798828,
          -2.0341074466705322,
          10.023648262023926,
          -7.459525108337402,
          -8.361247062683105,
          -0.8253156542778015,
          -12.936346054077148,
          -10.64952564239502,
          -1.3635307550430298,
          -4.308928966522217,
          -0.8500455021858215,
          1.8961683511734009,
          -0.5613304376602173,
          -12.823875427246094,
          13.544031143188477,
          2.008700370788574,
          3.2170159816741943,
          14.909771919250488,
          -5.577070236206055,
          4.375072002410889,
          -10.608037948608398,
          0.19606275856494904,
          -3.6988115310668945,
          -10.731731414794922,
          -0.6793456077575684,
          -10.892729759216309,
          7.534538745880127,
          10.584000587463379,
          -6.451715469360352,
          3.109623432159424,
          0.9890731573104858,
          -12.324138641357422,
          6.6463751792907715,
          10.505236625671387,
          -0.6763831377029419,
          -1.4089678525924683,
          -2.862046241760254,
          -9.110118865966797,
          -2.4156105518341064,
          1.4122954607009888,
          0.658035933971405,
          12.95409870147705,
          5.568083763122559,
          5.903531074523926,
          -6.891818046569824,
          3.9260783195495605,
          7.539176940917969,
          -5.850748538970947,
          6.622824192047119,
          -3.6840779781341553,
          -4.179493427276611,
          -8.212810516357422,
          7.190405368804932,
          -0.2337752729654312,
          -0.06194479018449783,
          -12.992880821228027,
          -13.268067359924316,
          -10.075101852416992,
          -7.259383201599121,
          -1.212503433227539,
          -6.097235679626465,
          -10.102655410766602,
          -2.545227527618408,
          0.12954869866371155,
          -1.4761850833892822,
          11.357606887817383,
          8.861011505126953,
          -7.304065704345703,
          -8.398173332214355,
          5.325815677642822,
          -9.50848388671875,
          -7.704820156097412,
          8.728620529174805,
          11.469210624694824,
          9.427002906799316,
          7.661674499511719,
          0.08218202739953995,
          -0.27293941378593445,
          -12.339146614074707,
          -2.0000362396240234,
          2.4397263526916504,
          11.793354988098145,
          -0.8192778825759888,
          -13.053455352783203,
          -5.614202499389648,
          6.071936130523682,
          -2.4661052227020264,
          -12.744114875793457,
          10.111513137817383,
          -9.280013084411621,
          5.233124732971191,
          11.503632545471191,
          3.639880418777466,
          -6.95149040222168,
          3.647646903991699,
          -13.054515838623047,
          10.841527938842773,
          -5.269214153289795,
          7.451340198516846,
          -10.423358917236328,
          -10.667634010314941,
          -0.8101127743721008,
          4.671449661254883,
          2.8434791564941406,
          -7.24371337890625,
          -6.765432357788086,
          12.749236106872559,
          -8.864751815795898,
          0.8632465600967407,
          10.24088191986084,
          -6.1684489250183105,
          12.217249870300293,
          -11.886279106140137,
          -11.736105918884277,
          -6.362360954284668,
          9.963858604431152,
          -1.4903316497802734,
          0.1312107890844345,
          -11.354584693908691,
          6.524291038513184,
          4.691709041595459,
          5.870569229125977,
          13.17984390258789,
          -7.658844470977783,
          9.11290454864502,
          5.783208847045898,
          -8.0232515335083,
          -6.3949503898620605,
          -1.0654457807540894,
          -5.970966339111328,
          9.050411224365234,
          8.621391296386719,
          -10.900715827941895,
          -1.8488199710845947,
          -0.8382833003997803,
          -2.5031936168670654,
          5.83904504776001,
          5.838968753814697,
          9.79249382019043,
          11.818233489990234,
          12.321754455566406,
          -3.937324285507202,
          -10.814098358154297,
          -10.844712257385254,
          9.260357856750488,
          -7.408379077911377,
          -11.885936737060547,
          -10.268237113952637,
          3.39139723777771,
          -11.289037704467773,
          11.340361595153809,
          -11.882904052734375,
          7.456306457519531,
          12.945894241333008,
          -10.210029602050781,
          -11.956323623657227,
          4.978242874145508,
          5.11193323135376,
          5.309515476226807,
          -11.0850830078125,
          8.782169342041016,
          -1.1124073266983032,
          0.16282814741134644,
          -8.09029483795166,
          3.7405738830566406,
          8.847290992736816,
          4.640228748321533,
          -10.242218971252441,
          -10.729920387268066,
          -1.3639805316925049,
          -7.452744483947754,
          -4.699336528778076,
          2.556412935256958,
          6.573986530303955,
          0.8362475037574768,
          -0.4617377519607544,
          1.5841635465621948,
          -8.295654296875,
          3.8397223949432373,
          14.39562702178955,
          8.86877155303955,
          9.080193519592285,
          -10.277694702148438,
          11.081515312194824,
          4.7300496101379395,
          8.852834701538086,
          5.474004745483398,
          -0.3111501634120941,
          -5.397911548614502,
          -2.5655040740966797,
          -13.312889099121094,
          3.255983352661133,
          6.039642810821533,
          9.516934394836426,
          10.559510231018066,
          -1.8914554119110107,
          6.821718692779541,
          2.245023250579834,
          -3.35188627243042,
          -9.400636672973633,
          16.56022834777832,
          -9.289392471313477,
          -1.4053280353546143,
          -8.830167770385742,
          -7.467764854431152,
          -8.98727035522461,
          1.961960792541504,
          -0.03476271033287048,
          0.8598883152008057,
          -12.639277458190918,
          -5.9396491050720215,
          2.0305089950561523,
          15.213376998901367,
          -3.1724963188171387,
          -12.819836616516113,
          15.680233001708984,
          2.5333402156829834,
          6.950686454772949,
          -3.1831846237182617,
          14.322783470153809,
          -0.5674260854721069,
          -0.3990495800971985,
          -8.76892375946045,
          3.1461455821990967,
          -13.752184867858887,
          1.733608603477478,
          -8.864751815795898,
          1.1882203817367554,
          15.243040084838867,
          10.065794944763184,
          -6.292478561401367,
          15.47340202331543,
          13.19168472290039,
          6.196874141693115,
          3.9463658332824707,
          13.894004821777344,
          -7.1209001541137695,
          1.6660926342010498,
          -0.5695862174034119,
          -10.898666381835938,
          4.12763786315918,
          5.694578647613525,
          -0.40964654088020325,
          -8.230375289916992,
          1.640785813331604,
          2.2828826904296875,
          -5.045263290405273,
          3.6486499309539795,
          -2.126887083053589,
          7.589139938354492,
          1.872658610343933,
          14.042623519897461,
          10.682503700256348,
          16.92489242553711,
          -2.403738498687744,
          1.1261496543884277,
          -13.898603439331055,
          4.89727258682251,
          4.95604133605957,
          -10.504364967346191,
          -11.073039054870605,
          13.665326118469238,
          7.848748207092285,
          7.9882707595825195,
          6.841663837432861,
          -9.460640907287598,
          -1.6997690200805664,
          -4.02030611038208,
          3.9727470874786377,
          10.12212085723877,
          7.092307090759277,
          16.059907913208008,
          16.763872146606445,
          -5.253926753997803,
          11.980567932128906,
          13.169724464416504,
          14.851458549499512,
          -11.416240692138672,
          0.6949278712272644,
          8.422233581542969,
          15.181721687316895,
          -2.073298692703247,
          11.420344352722168,
          -7.898844242095947,
          11.354536056518555,
          9.309012413024902,
          5.9566144943237305,
          -10.8020601272583,
          -2.9618618488311768,
          0.13767562806606293,
          -8.526837348937988,
          2.0863826274871826,
          3.191653251647949,
          -8.271757125854492,
          8.404522895812988,
          -5.377807140350342,
          -4.242630958557129,
          10.746095657348633,
          -6.544412612915039,
          9.402386665344238,
          -12.3180513381958,
          -2.3834211826324463,
          -9.212124824523926,
          -8.49351692199707,
          3.5244436264038086,
          7.800926685333252,
          9.977828979492188,
          7.0446038246154785,
          -4.726129531860352,
          6.982107162475586,
          -12.434322357177734,
          -11.928901672363281,
          -4.361971378326416,
          1.418562412261963,
          -5.044021129608154,
          10.750292778015137,
          -4.791879653930664,
          9.253765106201172,
          1.2342549562454224,
          -10.447093963623047,
          1.855298399925232,
          -0.6060175895690918,
          -8.2269926071167,
          -4.178891181945801,
          1.916590690612793,
          7.855474472045898,
          -1.7120665311813354,
          7.71235466003418,
          6.029235363006592,
          -11.825721740722656,
          -6.062007427215576,
          0.24249956011772156,
          -7.333761692047119,
          3.748548984527588,
          -6.649175643920898,
          3.9355430603027344,
          -0.41131576895713806,
          -0.9470212459564209,
          9.235208511352539,
          -13.759618759155273,
          -11.824647903442383,
          7.600003719329834,
          2.819751262664795,
          4.979148864746094,
          9.605568885803223,
          -7.289146900177002,
          3.6189165115356445,
          8.995550155639648,
          16.97724723815918,
          -6.9813313484191895,
          -8.622471809387207,
          -11.8040771484375,
          -13.549266815185547,
          9.306136131286621,
          -4.82601261138916,
          -9.070220947265625,
          -8.334728240966797,
          -12.731030464172363,
          -12.477256774902344,
          8.97653865814209,
          -2.338654041290283,
          -10.559599876403809,
          7.7977705001831055,
          4.910958766937256,
          -10.176427841186523,
          8.838698387145996,
          -0.8181264400482178,
          0.3101338744163513,
          -1.772117018699646,
          2.0664496421813965,
          7.7985148429870605,
          0.10393655300140381,
          1.5143444538116455,
          6.506270408630371,
          -7.594399929046631,
          -10.043391227722168,
          -12.347420692443848,
          6.6153764724731445,
          0.5036903023719788,
          0.8508173823356628,
          9.360429763793945,
          -7.423185348510742,
          -6.64084005355835,
          13.853179931640625,
          -0.5057531595230103,
          -10.5792236328125,
          -10.945619583129883,
          13.516182899475098,
          -0.851822018623352,
          7.39441442489624,
          8.464865684509277,
          -1.715926170349121,
          -2.6271002292633057,
          8.923900604248047,
          -0.8922698497772217,
          5.70903205871582,
          3.2514772415161133,
          -11.70323371887207,
          -10.890155792236328,
          -0.9437001347541809,
          4.232187747955322,
          -8.672205924987793,
          -13.310689926147461,
          -3.24282169342041,
          4.17817497253418,
          4.3734612464904785,
          9.596939086914062,
          0.5745747685432434,
          7.725523948669434,
          12.759138107299805,
          -12.782214164733887,
          -5.377805233001709,
          -12.1190185546875,
          -13.466440200805664,
          -11.340676307678223,
          5.821243762969971,
          -12.033571243286133,
          7.212172985076904,
          -2.2591447830200195,
          -4.827192783355713,
          4.821120262145996,
          -7.319967746734619,
          -11.886098861694336,
          3.2916717529296875,
          0.5072581768035889,
          1.5515034198760986,
          -6.306643962860107,
          5.080492973327637,
          9.255824089050293,
          10.697283744812012,
          -4.300589084625244,
          -5.602144718170166,
          -10.626087188720703,
          3.4950482845306396,
          3.9619970321655273,
          -10.715351104736328,
          15.412647247314453,
          -6.093951225280762,
          -7.498610973358154,
          -13.518744468688965,
          0.7329971790313721,
          -5.014042377471924,
          -6.887108325958252,
          4.273107528686523,
          10.370248794555664,
          6.441171169281006,
          -13.874818801879883,
          -0.1732233613729477,
          1.041575312614441,
          16.882892608642578,
          -1.0152688026428223,
          -12.586787223815918,
          8.099105834960938,
          6.567604064941406,
          4.3153862953186035,
          9.521759033203125,
          10.164871215820312,
          0.7198516726493835,
          5.1983137130737305,
          -7.222017288208008,
          -9.541390419006348,
          -3.5508995056152344,
          0.3840961754322052,
          5.445696830749512,
          -2.059420108795166,
          -3.1498403549194336,
          10.584189414978027,
          10.002464294433594,
          -3.045938730239868,
          8.170588493347168,
          11.194647789001465,
          -6.327371597290039,
          4.382376194000244,
          12.111550331115723,
          2.367217779159546,
          1.4800437688827515,
          8.143280982971191,
          10.878082275390625,
          16.876968383789062,
          -13.849534034729004,
          -9.276711463928223,
          -8.95146656036377,
          -0.5796501040458679,
          -10.024299621582031,
          -8.502326965332031,
          8.117377281188965,
          -11.417572021484375,
          -9.886603355407715,
          15.147040367126465,
          -3.3996500968933105,
          -6.093650817871094,
          10.165617942810059,
          0.6153596043586731,
          3.324758529663086,
          -0.5599400997161865,
          3.6883397102355957,
          -12.265118598937988,
          4.955498218536377,
          -0.04273492470383644,
          -11.960489273071289,
          -10.628907203674316,
          -8.550934791564941,
          2.058742046356201,
          -12.922261238098145,
          7.95180606842041,
          -6.8275837898254395,
          6.176900386810303,
          16.086212158203125,
          2.160762071609497,
          4.023031234741211,
          2.997955560684204,
          -0.6768585443496704,
          5.298916816711426,
          13.254568099975586,
          -5.446034908294678,
          10.177680969238281,
          -7.82195520401001,
          -0.11542531847953796,
          0.5095512866973877,
          -3.2173824310302734,
          16.31378746032715,
          2.0960185527801514,
          -1.185134768486023,
          -9.170381546020508,
          15.662763595581055,
          -10.936361312866211,
          -8.680221557617188,
          10.38254451751709,
          1.3709772825241089,
          0.7471908330917358,
          -11.40520191192627,
          -2.322809934616089,
          4.501143932342529,
          14.908890724182129,
          3.483490467071533,
          10.90573501586914,
          -4.551060676574707,
          -7.3571391105651855,
          -4.25667142868042,
          16.351764678955078,
          -8.106306076049805,
          -10.102649688720703,
          11.634903907775879,
          -1.178060531616211,
          10.355247497558594,
          7.571557998657227,
          -12.237168312072754,
          3.0096840858459473,
          -11.820886611938477,
          2.79099178314209,
          -4.664379596710205,
          8.464685440063477,
          -10.301701545715332,
          11.24431324005127,
          0.04350081458687782,
          1.6509836912155151,
          -12.694141387939453,
          -10.537796974182129,
          1.9990707635879517,
          -8.06346607208252,
          4.272064208984375,
          2.190962553024292,
          2.8450403213500977,
          -0.13968181610107422,
          13.820413589477539,
          0.07023555040359497,
          11.269523620605469,
          9.813971519470215,
          -0.4549649655818939,
          -7.7755866050720215,
          7.117633819580078,
          -6.418361186981201,
          10.796046257019043,
          -5.377807140350342,
          -12.193827629089355,
          9.308733940124512,
          8.973875045776367,
          10.62692642211914,
          6.073470592498779,
          10.699597358703613,
          6.533109664916992,
          1.5205940008163452,
          8.872658729553223,
          -1.9459458589553833,
          -7.271030902862549,
          -7.690916538238525,
          -5.892359256744385,
          -0.7112759947776794,
          4.267867088317871,
          -0.028568977490067482,
          -1.4644845724105835,
          -6.191372871398926,
          10.357060432434082,
          6.6820454597473145,
          -6.826402187347412,
          6.1926350593566895,
          -10.78238296508789,
          -4.3231916427612305,
          13.277129173278809,
          5.979697227478027,
          9.690620422363281,
          0.8814879059791565,
          -8.529350280761719,
          -3.5314080715179443,
          -7.287109851837158,
          1.6301689147949219,
          5.1710615158081055,
          -10.081696510314941,
          2.0696847438812256,
          13.527901649475098,
          -13.944808959960938,
          3.4721925258636475,
          0.20347021520137787,
          -6.1219916343688965,
          -10.510563850402832,
          -13.074817657470703,
          -2.5965867042541504,
          -7.8321733474731445,
          2.9873526096343994,
          -7.875672340393066,
          -1.6495119333267212,
          9.17196273803711,
          -0.7312815189361572,
          6.92091703414917,
          2.5345168113708496,
          -2.753721237182617,
          -1.634833574295044,
          6.925238609313965,
          -6.2798752784729,
          6.163300037384033,
          -12.040175437927246,
          10.316863059997559,
          -0.49902307987213135,
          -1.617364764213562,
          -5.833203315734863,
          0.9643719792366028,
          12.068567276000977,
          7.654068946838379,
          0.7824161648750305,
          -0.47793149948120117,
          2.7568020820617676,
          -2.990710973739624,
          6.440663814544678,
          6.780473709106445,
          1.7570230960845947,
          -0.0592518113553524,
          -2.5467021465301514,
          10.506498336791992,
          6.541035175323486,
          14.69896125793457,
          -4.753016948699951,
          0.2424992173910141,
          -11.119400978088379,
          -10.053956031799316,
          -9.949857711791992,
          2.7428512573242188,
          -6.146026611328125,
          9.377408027648926,
          -3.2288804054260254,
          -12.31805419921875,
          14.076831817626953,
          -8.541674613952637,
          -4.597926139831543,
          -11.175738334655762,
          -12.205154418945312,
          14.653763771057129,
          11.37723445892334,
          -10.541165351867676,
          1.4023456573486328,
          8.16324520111084,
          5.707360744476318,
          -8.620600700378418,
          6.1865153312683105,
          12.366326332092285,
          5.187862873077393,
          4.6555256843566895,
          1.8384636640548706,
          -0.8338366150856018,
          7.6560468673706055,
          6.221903324127197,
          -2.059326648712158,
          8.681309700012207,
          -11.806767463684082,
          -13.915382385253906,
          8.277585983276367,
          1.2721632719039917,
          -0.8023489117622375,
          -13.47159481048584,
          4.753185272216797,
          -0.27454689145088196,
          -7.29494047164917,
          9.49026870727539,
          2.310819625854492,
          0.6267492175102234,
          15.76976203918457,
          0.36895906925201416,
          4.786683559417725,
          10.85239028930664,
          0.568666934967041,
          5.192691326141357,
          5.160102844238281,
          -6.22648811340332,
          -10.567401885986328,
          -1.2595146894454956,
          -4.423901081085205,
          -0.16159816086292267,
          -12.375025749206543,
          -13.948555946350098,
          4.72836446762085,
          -2.0057973861694336,
          10.221817970275879,
          -9.116230010986328,
          1.6954160928726196,
          -13.075428009033203,
          8.696657180786133,
          3.733839511871338,
          -0.9126132130622864,
          4.958831310272217,
          -5.008120059967041,
          5.316688537597656,
          5.993370056152344,
          -8.631978988647461,
          2.080432176589966,
          7.299715518951416,
          -11.361854553222656,
          -12.708199501037598,
          -3.6546590328216553,
          -2.2283928394317627,
          5.383650302886963,
          4.113840579986572,
          10.20522403717041,
          -0.2994691729545593,
          -3.395538091659546,
          8.154401779174805,
          -13.682759284973145,
          -7.384183406829834,
          -1.836050033569336,
          -2.582641839981079,
          0.8194863796234131,
          4.727046012878418,
          -4.927148342132568,
          -0.18731173872947693,
          -1.2850821018218994,
          -7.667093276977539,
          14.541292190551758,
          2.8079898357391357,
          -9.068800926208496,
          -12.373170852661133,
          1.6052838563919067,
          -12.689562797546387,
          -8.311491966247559,
          -12.094900131225586,
          -11.37492847442627,
          -13.948663711547852,
          5.9883880615234375,
          -13.504790306091309,
          -4.623281002044678,
          2.3338370323181152,
          -10.602688789367676,
          16.4732608795166,
          5.419273376464844,
          6.297016143798828,
          -0.2997288703918457,
          -11.53343677520752,
          0.49258941411972046,
          -9.397717475891113,
          -7.259676933288574,
          1.6811238527297974,
          1.339946985244751,
          1.3509749174118042,
          -8.935401916503906,
          -8.982802391052246,
          10.195415496826172,
          -12.496504783630371,
          -9.699071884155273,
          3.141789436340332,
          10.124624252319336,
          7.202451705932617,
          1.0947941541671753,
          6.309610843658447,
          10.547173500061035,
          -0.04269193857908249,
          1.9958860874176025,
          -4.827802658081055,
          15.863358497619629,
          12.451923370361328,
          11.48411750793457,
          0.6396905183792114,
          -11.539916038513184,
          4.2905144691467285,
          -11.64898681640625,
          3.4455530643463135,
          11.909409523010254,
          3.795607328414917,
          10.772911071777344,
          -8.015759468078613,
          6.576592922210693,
          -0.2806030213832855,
          -13.504846572875977,
          -4.627160549163818,
          -5.19680643081665,
          -1.1517771482467651,
          16.578617095947266,
          -10.58460807800293,
          2.5003321170806885,
          -3.8911924362182617,
          16.356733322143555,
          -0.24609582126140594,
          -8.587875366210938,
          -0.5660315155982971,
          2.8620080947875977,
          4.885921001434326,
          -10.651093482971191,
          -9.630484580993652,
          -10.574369430541992,
          1.5088484287261963,
          6.55651330947876,
          13.76528549194336,
          2.320840358734131,
          -7.04364013671875,
          6.953380584716797,
          -8.908003807067871,
          -0.5040947198867798,
          0.558331310749054,
          -0.7085517644882202,
          -10.433303833007812,
          1.8626458644866943,
          14.454675674438477,
          2.138913631439209,
          3.6745235919952393,
          -1.8305071592330933,
          3.9223074913024902,
          -5.377804756164551,
          9.937148094177246,
          -1.839694857597351,
          -9.603550910949707,
          3.880002021789551,
          0.6396914124488831,
          11.086021423339844,
          4.896535396575928,
          15.021259307861328,
          14.388179779052734,
          3.521327257156372,
          -12.745055198669434,
          -5.470391750335693,
          -8.757174491882324,
          -1.334589958190918,
          5.428979396820068,
          8.629469871520996,
          5.8193769454956055,
          -0.7851904034614563,
          10.19594669342041,
          -8.280579566955566,
          -9.019369125366211,
          -6.293306827545166,
          14.130829811096191,
          -2.73750638961792,
          11.989033699035645,
          9.834951400756836,
          4.489311695098877,
          -11.849125862121582,
          -9.969610214233398,
          -11.62231159210205,
          3.864938974380493,
          1.8223317861557007,
          5.691754341125488,
          2.2997961044311523,
          5.351110458374023,
          -0.6295911073684692,
          -7.221454620361328,
          -6.140681743621826,
          -12.434231758117676,
          6.352567195892334,
          -1.420027256011963,
          -5.297444820404053,
          11.473692893981934,
          -0.5436668992042542,
          -6.0794830322265625,
          0.19793085753917694,
          6.558191776275635,
          10.885099411010742,
          5.655033111572266,
          -11.461593627929688,
          -0.17147226631641388
         ],
         "y": [
          7.139950752258301,
          0.32495272159576416,
          -10.066629409790039,
          -6.667624473571777,
          6.016322612762451,
          5.320592403411865,
          -8.036994934082031,
          2.00529146194458,
          2.2887141704559326,
          -0.5325844287872314,
          -8.374238967895508,
          -3.9630935192108154,
          -0.23408642411231995,
          2.3254759311676025,
          1.8522173166275024,
          6.036719799041748,
          7.6451311111450195,
          -3.708188056945801,
          4.021996974945068,
          -4.401602745056152,
          4.136427402496338,
          7.355744361877441,
          -3.8779754638671875,
          1.2190568447113037,
          2.169135332107544,
          -10.197181701660156,
          0.6565501093864441,
          -1.8233871459960938,
          3.3548734188079834,
          1.2318729162216187,
          -6.67142915725708,
          4.067154884338379,
          1.253035068511963,
          5.285682678222656,
          -1.5490792989730835,
          7.5739030838012695,
          -6.357507705688477,
          -2.8083765506744385,
          -2.643789529800415,
          -13.170546531677246,
          0.860117495059967,
          -8.21403694152832,
          -1.6216481924057007,
          -0.7907217741012573,
          1.4382458925247192,
          -2.0319368839263916,
          -4.540333271026611,
          4.033049583435059,
          2.0827250480651855,
          -2.195291757583618,
          2.3942995071411133,
          -12.062620162963867,
          -13.191495895385742,
          -8.030071258544922,
          0.500618040561676,
          -0.2102060467004776,
          -1.7694276571273804,
          2.4520814418792725,
          5.851414203643799,
          3.361748456954956,
          -10.0609130859375,
          -3.446960926055908,
          5.136557102203369,
          2.1971542835235596,
          -5.404036998748779,
          5.330023765563965,
          3.422473669052124,
          3.1509294509887695,
          4.728006839752197,
          0.8728453516960144,
          1.6782658100128174,
          4.2930006980896,
          -0.3384961783885956,
          -8.763432502746582,
          3.4518158435821533,
          -10.300830841064453,
          3.697754144668579,
          0.8124194741249084,
          -4.294217586517334,
          -10.903968811035156,
          -4.186190605163574,
          -3.3633275032043457,
          6.386274814605713,
          -0.031408097594976425,
          -9.669422149658203,
          5.831287860870361,
          -1.7527611255645752,
          4.22784948348999,
          -3.8428843021392822,
          -1.7907965183258057,
          4.713769435882568,
          -9.328437805175781,
          -12.6527099609375,
          -12.879590034484863,
          2.459141969680786,
          7.471195697784424,
          -13.126699447631836,
          7.490927696228027,
          -0.175512433052063,
          4.213047981262207,
          1.500814437866211,
          7.599648475646973,
          6.055084705352783,
          -12.153008460998535,
          -2.414945125579834,
          -8.60173225402832,
          -5.695295333862305,
          2.0610921382904053,
          1.5939334630966187,
          -12.944147109985352,
          7.448703765869141,
          2.0387260913848877,
          -3.1524789333343506,
          -1.5491143465042114,
          1.4651364088058472,
          7.206474781036377,
          -9.224896430969238,
          -9.561370849609375,
          -13.189193725585938,
          4.033437252044678,
          2.183117628097534,
          -1.4779658317565918,
          7.65032958984375,
          7.541086196899414,
          -0.3616917133331299,
          1.6517995595932007,
          5.191971302032471,
          3.1848411560058594,
          6.5209431648254395,
          2.285794734954834,
          5.913737773895264,
          3.9620699882507324,
          -6.876031875610352,
          -0.613624632358551,
          -5.155416488647461,
          2.454026937484741,
          -0.4239925444126129,
          -2.9733052253723145,
          4.512389659881592,
          -10.343292236328125,
          1.6560133695602417,
          1.2247169017791748,
          7.184022426605225,
          -1.4122333526611328,
          5.692717552185059,
          3.4528005123138428,
          1.9124398231506348,
          -2.7594974040985107,
          2.335674524307251,
          -2.033240556716919,
          1.1093851327896118,
          7.502674102783203,
          5.012181758880615,
          2.048027515411377,
          5.249015808105469,
          -7.310269832611084,
          -0.2727140188217163,
          4.80588960647583,
          4.74078893661499,
          -11.15102767944336,
          -0.7687914371490479,
          -7.525399684906006,
          3.0947868824005127,
          2.6247684955596924,
          0.37923017144203186,
          4.220317363739014,
          -12.437005996704102,
          -8.62307071685791,
          -0.3812808096408844,
          5.009343147277832,
          4.8065876960754395,
          1.6209179162979126,
          -2.4147064685821533,
          -9.54659652709961,
          4.412831783294678,
          -4.104318141937256,
          -3.525089740753174,
          3.4297707080841064,
          -5.6092143058776855,
          -4.618775367736816,
          1.327104091644287,
          2.456998586654663,
          -5.155143737792969,
          -1.082233190536499,
          1.8211077451705933,
          -7.313284397125244,
          -12.70147705078125,
          3.893514633178711,
          -13.504121780395508,
          2.6386024951934814,
          3.6268389225006104,
          1.9792604446411133,
          6.742536544799805,
          4.365701675415039,
          -7.48742151260376,
          0.9518060684204102,
          2.662712812423706,
          -1.1395199298858643,
          7.1217122077941895,
          -8.374238014221191,
          4.444096565246582,
          1.7136133909225464,
          -5.277326583862305,
          -0.3689359128475189,
          0.8852794170379639,
          -7.29794979095459,
          -11.103933334350586,
          2.0362160205841064,
          -4.455275058746338,
          -8.103867530822754,
          -3.6255486011505127,
          1.3726195096969604,
          -11.998139381408691,
          4.432558059692383,
          1.7361209392547607,
          0.7408698201179504,
          -4.8375725746154785,
          1.038208246231079,
          -1.172881841659546,
          4.733981609344482,
          -11.1912202835083,
          3.8360323905944824,
          1.188730239868164,
          0.004049883224070072,
          1.9948850870132446,
          7.756795406341553,
          5.065282821655273,
          1.3540362119674683,
          -8.997042655944824,
          4.475834369659424,
          -13.188863754272461,
          6.394067287445068,
          7.328219413757324,
          0.9771307706832886,
          -6.663668155670166,
          1.924356460571289,
          -8.29576301574707,
          -1.111755609512329,
          -12.687739372253418,
          1.8996473550796509,
          3.5799996852874756,
          1.1990537643432617,
          -13.268195152282715,
          -0.8356361985206604,
          3.2010467052459717,
          0.2730938196182251,
          2.588927745819092,
          -3.5403506755828857,
          6.330588340759277,
          -8.505752563476562,
          0.40269890427589417,
          4.609099388122559,
          4.290352821350098,
          2.2702202796936035,
          3.6095774173736572,
          -8.994731903076172,
          -6.087249755859375,
          -9.289175987243652,
          -2.83927321434021,
          5.566693305969238,
          -0.938659131526947,
          -0.8668035268783569,
          4.530777454376221,
          4.70556640625,
          -11.263298034667969,
          -3.844555139541626,
          5.628396987915039,
          5.4765191078186035,
          -7.364391803741455,
          4.132994174957275,
          7.37725305557251,
          3.162198543548584,
          -2.3216300010681152,
          -6.344964981079102,
          1.3176555633544922,
          -3.8546783924102783,
          -3.7156171798706055,
          6.763848781585693,
          6.62007474899292,
          3.5750203132629395,
          4.939960479736328,
          4.05251932144165,
          -4.532805919647217,
          6.1570329666137695,
          5.617884635925293,
          -0.25193068385124207,
          4.293008804321289,
          1.823333740234375,
          -0.26303720474243164,
          -2.403524398803711,
          6.056519031524658,
          4.2609405517578125,
          6.438324928283691,
          2.139620780944824,
          4.064188003540039,
          2.717703104019165,
          -3.6521553993225098,
          7.378722190856934,
          0.7994964122772217,
          3.4151129722595215,
          1.4839342832565308,
          1.0253074169158936,
          4.610917568206787,
          5.935995101928711,
          -12.306556701660156,
          4.416265964508057,
          -12.52578353881836,
          2.157538652420044,
          3.0195822715759277,
          1.7136175632476807,
          0.18612931668758392,
          -0.8865771293640137,
          -11.181087493896484,
          -1.734693169593811,
          -4.968953609466553,
          3.406986951828003,
          -5.984846591949463,
          -4.780089378356934,
          -3.0045273303985596,
          2.2100751399993896,
          4.268141746520996,
          1.6505827903747559,
          -3.3720481395721436,
          -7.677679538726807,
          -0.4903640151023865,
          5.337863922119141,
          7.573902606964111,
          -5.417883396148682,
          -0.45833295583724976,
          2.3014378547668457,
          1.9009687900543213,
          0.30350664258003235,
          -3.5212504863739014,
          4.7949113845825195,
          -8.50142765045166,
          -6.079610347747803,
          -9.248024940490723,
          -5.207823276519775,
          1.824623703956604,
          4.158270359039307,
          2.708606481552124,
          2.0466067790985107,
          1.5312025547027588,
          4.774570465087891,
          -1.2402702569961548,
          1.6619311571121216,
          1.602628469467163,
          4.633699893951416,
          2.299926280975342,
          4.050954341888428,
          -0.04898421838879585,
          -8.567434310913086,
          4.392936706542969,
          -3.548190116882324,
          1.7514936923980713,
          4.401356220245361,
          -11.193860054016113,
          -10.47506046295166,
          -4.201385021209717,
          3.39957857131958,
          1.4013952016830444,
          3.9641122817993164,
          1.6618757247924805,
          7.222790241241455,
          1.9141168594360352,
          1.774680256843567,
          -3.540351152420044,
          7.591360569000244,
          4.314855098724365,
          4.649264335632324,
          0.5620445013046265,
          3.4132473468780518,
          2.469627857208252,
          -13.152151107788086,
          -3.3289573192596436,
          4.656280517578125,
          4.665262222290039,
          -5.926176071166992,
          -4.548363208770752,
          0.9299232959747314,
          6.4268412590026855,
          -5.952751636505127,
          1.4808398485183716,
          -1.2653602361679077,
          -7.109134197235107,
          -11.059861183166504,
          -1.4943798780441284,
          -2.1491360664367676,
          1.2665294408798218,
          1.6210548877716064,
          -9.54594898223877,
          4.530678749084473,
          -8.8531494140625,
          2.9075024127960205,
          2.1957576274871826,
          -8.230992317199707,
          0.8105478286743164,
          -3.488908052444458,
          -6.670769691467285,
          7.1627278327941895,
          4.278928279876709,
          4.7921671867370605,
          5.958767890930176,
          6.216128349304199,
          -10.419018745422363,
          -4.566812038421631,
          1.2105324268341064,
          4.621165752410889,
          6.501039505004883,
          -10.064866065979004,
          6.901997089385986,
          3.536663770675659,
          2.794891357421875,
          5.663755893707275,
          6.267467498779297,
          5.40415620803833,
          5.143873691558838,
          1.9610768556594849,
          5.44326639175415,
          -12.685009002685547,
          2.6887731552124023,
          3.8088486194610596,
          -7.115952491760254,
          3.1721320152282715,
          -7.581909656524658,
          7.10936164855957,
          7.225412368774414,
          1.9795962572097778,
          -3.633641242980957,
          1.2645466327667236,
          2.932922840118408,
          -12.592612266540527,
          -0.8493691682815552,
          3.9105827808380127,
          -11.940319061279297,
          4.103443622589111,
          -1.8779728412628174,
          3.762261390686035,
          2.2505345344543457,
          4.813239097595215,
          2.4891130924224854,
          -4.333909034729004,
          4.392579555511475,
          3.93595814704895,
          -0.8113039135932922,
          -12.463373184204102,
          -8.54262924194336,
          7.657050609588623,
          4.018045425415039,
          -10.362454414367676,
          0.19950972497463226,
          3.362161636352539,
          -2.0392348766326904,
          -4.928468704223633,
          1.9298789501190186,
          -8.284078598022461,
          -0.6508069038391113,
          1.7361623048782349,
          1.855249047279358,
          1.9066414833068848,
          1.6148107051849365,
          1.5499542951583862,
          -2.6175479888916016,
          -2.589569091796875,
          5.147302627563477,
          7.124205112457275,
          -6.048937797546387,
          -9.626849174499512,
          -7.093027114868164,
          2.4422082901000977,
          3.9948668479919434,
          -5.84775972366333,
          -0.47664058208465576,
          -3.20864200592041,
          6.590877532958984,
          7.359933376312256,
          1.2038180828094482,
          -8.004980087280273,
          2.2565693855285645,
          1.29954195022583,
          2.187718152999878,
          5.983383655548096,
          0.9073485732078552,
          -9.525449752807617,
          5.581264019012451,
          7.417791366577148,
          -6.659341335296631,
          -11.904745101928711,
          2.4376206398010254,
          -2.66361665725708,
          -3.3214282989501953,
          2.381561517715454,
          2.28342604637146,
          -11.118523597717285,
          0.2562067210674286,
          3.4086999893188477,
          3.7952170372009277,
          1.8953694105148315,
          3.0661392211914062,
          1.5884300470352173,
          3.926976442337036,
          6.136837959289551,
          -12.778380393981934,
          7.453408718109131,
          -3.075800895690918,
          3.111239433288574,
          1.1007872819900513,
          4.09947395324707,
          -4.343694686889648,
          -10.145687103271484,
          -12.545238494873047,
          1.5379960536956787,
          1.620498538017273,
          1.043939471244812,
          1.7916587591171265,
          -4.411596775054932,
          4.099618434906006,
          -2.8047125339508057,
          -0.5044520497322083,
          1.6496964693069458,
          -10.818373680114746,
          5.211787700653076,
          3.2157092094421387,
          3.1139023303985596,
          3.2030603885650635,
          6.498425483703613,
          2.437483310699463,
          5.207759857177734,
          3.388554334640503,
          7.986403465270996,
          7.5709052085876465,
          -6.69700813293457,
          -3.8113415241241455,
          -11.741929054260254,
          -9.014206886291504,
          -3.7880747318267822,
          0.2824241816997528,
          3.9098522663116455,
          4.970484256744385,
          -7.707606792449951,
          -5.602260589599609,
          1.3076446056365967,
          0.8685958981513977,
          3.532487630844116,
          -11.126408576965332,
          7.513908386230469,
          -10.560564994812012,
          6.7837748527526855,
          7.764245510101318,
          3.382028818130493,
          2.021418333053589,
          4.1034417152404785,
          2.4926235675811768,
          3.543210029602051,
          2.4554860591888428,
          -5.7343831062316895,
          -1.6051127910614014,
          6.452496528625488,
          -6.1210455894470215,
          0.4577709436416626,
          6.500912666320801,
          -1.8077569007873535,
          4.293158054351807,
          -6.688416957855225,
          4.486943244934082,
          1.617401123046875,
          0.4279034435749054,
          -13.21129322052002,
          5.034157752990723,
          -9.173596382141113,
          2.233506917953491,
          3.803143262863159,
          2.7109415531158447,
          -12.154614448547363,
          -3.3625552654266357,
          6.459900856018066,
          4.4922285079956055,
          4.776172637939453,
          2.013666868209839,
          2.9004807472229004,
          1.408808708190918,
          -0.943670928478241,
          2.9567723274230957,
          -8.783257484436035,
          -9.1897611618042,
          -9.742372512817383,
          0.9021481275558472,
          2.040191411972046,
          7.909405708312988,
          2.3830668926239014,
          3.0270917415618896,
          2.86588716506958,
          -12.913592338562012,
          -0.6191735863685608,
          -11.071907043457031,
          4.7415242195129395,
          -8.810745239257812,
          -7.951592445373535,
          -6.487179756164551,
          1.4750910997390747,
          4.063852787017822,
          -3.360973834991455,
          -6.6264753341674805,
          -13.086073875427246,
          5.007513046264648,
          2.098984956741333,
          7.896803379058838,
          -9.596230506896973,
          2.5173332691192627,
          -10.573001861572266,
          7.030451774597168,
          0.6904458999633789,
          7.620676040649414,
          6.374054431915283,
          2.4500460624694824,
          5.168635845184326,
          -10.576224327087402,
          -9.013093948364258,
          2.6462035179138184,
          0.03080604039132595,
          -3.999906539916992,
          2.583040714263916,
          2.0510969161987305,
          3.98549222946167,
          4.430741786956787,
          0.8234104514122009,
          -4.711330413818359,
          1.6010727882385254,
          4.960219383239746,
          2.6218249797821045,
          6.22490930557251,
          -10.809318542480469,
          4.886692523956299,
          5.913483619689941,
          -7.212972640991211,
          5.354685306549072,
          4.203146934509277,
          -6.728272438049316,
          -0.19897443056106567,
          2.0985465049743652,
          -3.571413040161133,
          -4.681215286254883,
          -12.545188903808594,
          2.0966379642486572,
          -12.407547950744629,
          1.866075873374939,
          -4.431931495666504,
          3.814384937286377,
          5.811148643493652,
          5.6402788162231445,
          -6.095959663391113,
          -5.757540225982666,
          6.4572834968566895,
          3.7718493938446045,
          1.9430934190750122,
          5.904723167419434,
          -1.615775465965271,
          2.4407293796539307,
          6.284154415130615,
          2.217521905899048,
          3.080629348754883,
          -8.415653228759766,
          -5.863162040710449,
          3.327908992767334,
          4.41950798034668,
          1.9427682161331177,
          4.534989356994629,
          -8.775527954101562,
          4.7405548095703125,
          1.4132623672485352,
          -1.9707233905792236,
          4.319121360778809,
          6.5181660652160645,
          1.9792053699493408,
          -6.907453536987305,
          -7.974197864532471,
          2.2288246154785156,
          2.0674993991851807,
          4.307605266571045,
          3.112076997756958,
          4.052052021026611,
          1.713588833808899,
          2.639066696166992,
          2.267266273498535,
          -8.485529899597168,
          1.592668056488037,
          0.9610821604728699,
          -6.711484432220459,
          3.7659246921539307,
          6.466271877288818,
          -1.9739772081375122,
          7.380151748657227,
          0.5986816883087158,
          -8.785654067993164,
          4.473391532897949,
          1.6193748712539673,
          1.7826675176620483,
          4.01932430267334,
          7.322539806365967,
          1.7982138395309448,
          -3.4916324615478516,
          -11.40164566040039,
          -4.433053970336914,
          3.8143956661224365,
          2.4800069332122803,
          -4.9980387687683105,
          -7.459352970123291,
          5.500039577484131,
          5.117180347442627,
          3.0712153911590576,
          6.480193138122559,
          -0.4855737090110779,
          7.594816207885742,
          4.1034440994262695,
          2.1130166053771973,
          -11.10109806060791,
          4.976711750030518,
          4.434484481811523,
          -6.278611183166504,
          5.556194305419922,
          -13.188241004943848,
          -9.699650764465332,
          -11.405532836914062,
          2.7815864086151123,
          -1.664119839668274,
          6.113265037536621,
          3.5794265270233154,
          3.909947395324707,
          6.752751350402832,
          -7.438166618347168,
          1.5108891725540161,
          6.079423427581787,
          -8.13973331451416,
          -13.078343391418457,
          0.9157704710960388,
          7.674997806549072,
          6.1895928382873535,
          -2.430835723876953,
          3.2705531120300293,
          7.700140476226807,
          5.486021041870117,
          1.5417625904083252,
          4.220215797424316,
          2.1431772708892822,
          -2.8481242656707764,
          -8.404613494873047,
          -7.246500015258789,
          4.044426918029785,
          5.779534339904785,
          2.253284215927124,
          -0.3586699962615967,
          -12.115520477294922,
          -6.204123497009277,
          2.1377809047698975,
          -1.0697513818740845,
          3.31854510307312,
          4.128396987915039,
          6.050350666046143,
          -11.283164024353027,
          2.3785367012023926,
          1.4141159057617188,
          -10.918036460876465,
          0.6874275803565979,
          -12.91910457611084,
          -3.8560409545898438,
          -3.1696667671203613,
          0.7870967388153076,
          1.649852991104126,
          3.7123255729675293,
          5.989035129547119,
          -1.640786051750183,
          -8.254416465759277,
          -0.0284627303481102,
          -7.466503620147705,
          4.363125801086426,
          -9.62691879272461,
          5.404188632965088,
          -12.75908088684082,
          -5.491840839385986,
          3.606119155883789,
          -6.529141426086426,
          -3.75246524810791,
          -2.141920804977417,
          -13.17130184173584,
          5.525320053100586,
          1.1878571510314941,
          2.3427271842956543,
          -8.44124984741211,
          -2.9425153732299805,
          2.589017868041992,
          -0.3299160599708557,
          -5.847760200500488,
          -0.6414539217948914,
          -2.981933116912842,
          -4.310151100158691,
          -11.292354583740234,
          6.147082328796387,
          1.8362892866134644,
          -3.615790367126465,
          2.4890761375427246,
          1.775541067123413,
          4.1599297523498535,
          2.1910972595214844,
          4.246314525604248,
          0.5460793972015381,
          4.576181888580322,
          5.405325412750244,
          -0.796782374382019,
          -11.098691940307617,
          5.5782389640808105,
          -9.720139503479004,
          4.179717540740967,
          6.63249397277832,
          3.05043625831604,
          -13.51607894897461,
          -10.943859100341797,
          0.40946903824806213,
          1.8461850881576538,
          7.487719535827637,
          -13.260334968566895,
          -6.308770179748535,
          -10.89213752746582,
          -2.4413251876831055,
          0.5148191452026367,
          -12.281895637512207,
          -6.491194725036621,
          3.609867572784424,
          2.48002290725708,
          -8.703922271728516,
          -5.493926048278809,
          0.003172696568071842,
          -10.750730514526367,
          -5.442976474761963,
          4.849195957183838,
          4.583198070526123,
          3.39682936668396,
          1.1840944290161133,
          -8.452953338623047,
          -8.85621452331543,
          -12.000321388244629,
          -3.2053139209747314,
          6.051251411437988,
          -2.3095130920410156,
          1.5592042207717896,
          -1.4850623607635498,
          -7.515988826751709,
          3.575007438659668,
          -0.6544426679611206,
          7.955376625061035,
          0.7635955810546875,
          -9.481451988220215,
          -3.1724255084991455,
          -8.359040260314941,
          1.964572787284851,
          3.073423147201538,
          0.8857011795043945,
          1.3326281309127808,
          7.443802356719971,
          3.917964220046997,
          -8.2318754196167,
          6.098082065582275,
          4.653250694274902,
          -10.299906730651855,
          -10.615965843200684,
          2.0674636363983154,
          0.055100128054618835,
          2.6308400630950928,
          1.691612720489502,
          -13.451667785644531,
          7.335051536560059,
          -9.448356628417969,
          1.076892375946045,
          3.6299057006835938,
          -11.002567291259766,
          1.4516421556472778,
          -0.23425845801830292,
          -8.232161521911621,
          3.9584758281707764,
          7.060229301452637,
          -8.568695068359375,
          -0.7039238214492798,
          3.582374095916748,
          1.392899751663208,
          1.834725022315979,
          4.150459289550781,
          -11.398029327392578,
          4.752047061920166,
          3.0850770473480225,
          -6.445073127746582,
          2.659907102584839,
          2.595186471939087,
          0.8385603427886963,
          -4.688997268676758,
          -0.44143009185791016,
          6.661759376525879,
          2.9318814277648926,
          -1.9725974798202515,
          7.283688545227051,
          5.551724910736084,
          2.811647891998291,
          -3.8616788387298584,
          0.9964425563812256,
          2.931450605392456,
          -2.386418581008911,
          -8.456589698791504,
          4.655848503112793,
          5.01029109954834,
          1.9253885746002197,
          -11.569994926452637,
          5.043176174163818,
          -0.7360311150550842,
          1.7841840982437134,
          5.77966833114624,
          2.4146041870117188,
          1.9198803901672363,
          -8.0075044631958,
          -9.825624465942383,
          7.568933010101318,
          1.6002970933914185,
          -4.110172748565674,
          -8.013790130615234,
          0.968082070350647,
          -0.31337180733680725,
          3.3486390113830566,
          3.4239752292633057,
          4.338909149169922,
          2.2097811698913574,
          -7.165786266326904,
          4.224674701690674,
          -13.138903617858887,
          3.005613088607788,
          -0.05630461871623993,
          6.40919303894043,
          -12.381974220275879,
          5.724625587463379,
          5.828071594238281,
          -2.806627035140991,
          -5.997184753417969,
          2.9320449829101562,
          -0.6481820344924927,
          2.0269665718078613,
          2.4830148220062256,
          3.2897114753723145,
          5.683152675628662,
          -4.546011924743652,
          4.593277931213379,
          2.007200002670288,
          -8.828861236572266,
          4.053524494171143,
          -7.239950656890869,
          -11.492877006530762,
          -12.921483993530273,
          2.122699737548828,
          4.076573371887207,
          6.596920013427734,
          1.0290578603744507,
          -1.538544774055481,
          1.9551995992660522,
          -10.985075950622559,
          1.8131698369979858,
          -14.084977149963379,
          -4.9080610275268555,
          0.9791909456253052,
          4.1965861320495605,
          -7.4171576499938965,
          2.4096827507019043,
          7.636634349822998,
          4.457586288452148,
          -12.569658279418945,
          6.92960786819458,
          -6.610149383544922,
          -2.353835344314575,
          4.103443145751953,
          3.5346884727478027,
          1.7187912464141846,
          -2.383164644241333,
          -12.534004211425781,
          -7.165787220001221,
          -8.434670448303223,
          6.4149861335754395,
          2.8594653606414795,
          2.6461539268493652,
          -3.4994606971740723,
          2.1886136531829834,
          5.046126842498779,
          -4.739266395568848,
          -6.917662620544434,
          8.141834259033203,
          5.005216121673584,
          -9.611489295959473,
          -5.663405418395996,
          -10.017833709716797,
          -2.067887306213379,
          2.0411174297332764,
          5.763759613037109,
          2.003643274307251,
          3.8990848064422607,
          5.991567134857178,
          -10.218174934387207,
          7.459291458129883,
          3.3301854133605957,
          5.0473151206970215,
          3.0951192378997803,
          7.022577285766602,
          -6.5802321434021,
          -13.180721282958984,
          -6.107631206512451,
          -0.9346686005592346,
          3.6090903282165527,
          1.5873759984970093,
          0.15970253944396973,
          2.027543306350708,
          -1.2011198997497559,
          2.394299268722534,
          -1.2949260473251343,
          -7.508564472198486,
          -0.03942052647471428,
          6.188796043395996,
          7.305228233337402,
          -7.522927284240723,
          7.733474254608154,
          -12.962838172912598,
          0.06279725581407547,
          -4.742442607879639
         ],
         "z": [
          -9.821986198425293,
          4.376723766326904,
          1.904742956161499,
          -0.5818251967430115,
          2.171926259994507,
          -5.344897270202637,
          11.46579647064209,
          -4.284012317657471,
          7.739428997039795,
          9.8646821975708,
          11.255568504333496,
          1.3318586349487305,
          9.879883766174316,
          10.228157997131348,
          -8.581866264343262,
          -7.751824855804443,
          -8.676362037658691,
          -1.494596242904663,
          -9.067350387573242,
          -0.8244934678077698,
          7.425113201141357,
          -9.883650779724121,
          -1.9016079902648926,
          -14.296485900878906,
          1.0491666793823242,
          1.9175223112106323,
          -4.925706386566162,
          -3.5258841514587402,
          3.754142999649048,
          -14.019309997558594,
          0.35618042945861816,
          3.136472225189209,
          -13.835718154907227,
          4.887351036071777,
          10.543059349060059,
          -7.656593322753906,
          -0.04860898107290268,
          10.824085235595703,
          10.85457992553711,
          3.394240140914917,
          -5.059901714324951,
          1.8518387079238892,
          10.377251625061035,
          10.395127296447754,
          -10.918310165405273,
          11.081134796142578,
          10.99889087677002,
          5.316309928894043,
          1.181816577911377,
          -2.6107468605041504,
          -9.171667098999023,
          4.992837905883789,
          4.139266490936279,
          1.6335786581039429,
          -8.337984085083008,
          1.8156224489212036,
          3.0044636726379395,
          -4.644957542419434,
          -9.448805809020996,
          8.39295768737793,
          2.0933845043182373,
          -2.420546054840088,
          4.920722484588623,
          -0.5001614689826965,
          -0.24475599825382233,
          -5.460596561431885,
          -7.317522048950195,
          7.153228759765625,
          -6.0226521492004395,
          7.897843837738037,
          -13.871953010559082,
          7.016570091247559,
          9.212230682373047,
          1.1168341636657715,
          6.53216028213501,
          3.0065906047821045,
          8.433235168457031,
          -4.565250396728516,
          -1.0645254850387573,
          5.749624252319336,
          10.956969261169434,
          10.6200532913208,
          -9.816929817199707,
          -7.9300971031188965,
          9.19818115234375,
          -9.72716999053955,
          4.591224670410156,
          5.9889326095581055,
          -2.3836662769317627,
          10.506293296813965,
          -3.0751852989196777,
          1.6365413665771484,
          3.421144485473633,
          5.314750671386719,
          -1.25974440574646,
          2.3659255504608154,
          5.460315227508545,
          -8.557583808898926,
          6.748600959777832,
          0.17881034314632416,
          5.082942008972168,
          -7.401253700256348,
          -9.204621315002441,
          6.190266132354736,
          10.176739692687988,
          8.600418090820312,
          -0.8283774256706238,
          -3.920145034790039,
          -5.246232032775879,
          4.429940223693848,
          -10.771821975708008,
          2.041273593902588,
          3.3093013763427734,
          10.543074607849121,
          -14.996509552001953,
          -8.52137279510498,
          10.234601020812988,
          1.5794273614883423,
          4.216531276702881,
          0.46223780512809753,
          9.131708145141602,
          -2.9821019172668457,
          -8.396769523620605,
          -8.43224048614502,
          7.386050224304199,
          -15.647161483764648,
          -8.05812931060791,
          -8.38371467590332,
          -9.61366081237793,
          -1.0211769342422485,
          -7.484530448913574,
          -2.5945920944213867,
          -0.07306667417287827,
          -4.305678367614746,
          0.5126892924308777,
          -0.957116425037384,
          -4.087117671966553,
          3.280923366546631,
          -4.417938709259033,
          3.4289615154266357,
          -6.751660346984863,
          -8.132152557373047,
          -9.985525131225586,
          9.824525833129883,
          1.9481732845306396,
          -7.584771633148193,
          2.4901411533355713,
          10.845186233520508,
          -9.434969902038574,
          3.450835704803467,
          -12.397486686706543,
          -8.728178977966309,
          -4.289560317993164,
          2.5513012409210205,
          -9.59997272491455,
          1.1112611293792725,
          -3.615718126296997,
          -9.79747200012207,
          -0.7438272833824158,
          2.378866195678711,
          10.542444229125977,
          -0.5116055607795715,
          -2.8682138919830322,
          0.1788478046655655,
          -12.69796085357666,
          6.22958517074585,
          5.274174213409424,
          7.64725399017334,
          6.819993495941162,
          -5.243457794189453,
          -7.17394495010376,
          9.838117599487305,
          -3.199836254119873,
          9.236328125,
          -4.770757675170898,
          1.386628270149231,
          2.2470946311950684,
          0.24822857975959778,
          2.7766058444976807,
          0.27707579731941223,
          -14.600398063659668,
          -6.857494354248047,
          -1.1725307703018188,
          -3.8081483840942383,
          -3.587851047515869,
          0.497191846370697,
          5.383690357208252,
          1.6521730422973633,
          3.5370335578918457,
          -1.203284502029419,
          -2.198711395263672,
          -2.648883819580078,
          -8.211334228515625,
          -5.006320476531982,
          -0.7298411726951599,
          9.448493957519531,
          8.09121322631836,
          10.280454635620117,
          2.092439889907837,
          2.879246473312378,
          0.30672404170036316,
          9.841212272644043,
          2.8137307167053223,
          -8.646293640136719,
          -9.653371810913086,
          11.708946228027344,
          5.213251113891602,
          -3.2771503925323486,
          10.956210136413574,
          0.7228707671165466,
          10.967177391052246,
          -3.3473124504089355,
          5.57430362701416,
          -7.981307029724121,
          -5.731340408325195,
          -4.951132297515869,
          -1.6312947273254395,
          -12.674466133117676,
          10.066906929016113,
          -3.471524477005005,
          2.260164737701416,
          -7.547539234161377,
          -12.4841890335083,
          9.270548820495605,
          -4.435578346252441,
          -8.664063453674316,
          -2.951700210571289,
          9.958291053771973,
          9.932860374450684,
          3.7956483364105225,
          4.2164998054504395,
          -9.91219711303711,
          -8.551527976989746,
          6.210831165313721,
          0.2714961767196655,
          2.9320597648620605,
          10.267914772033691,
          4.678247451782227,
          5.510822296142578,
          -0.7928116917610168,
          8.575477600097656,
          -12.503410339355469,
          3.4669039249420166,
          -3.213043689727783,
          -2.410897970199585,
          6.7385711669921875,
          -6.928330898284912,
          10.904425621032715,
          -7.735121250152588,
          10.32835578918457,
          4.633546352386475,
          -8.452656745910645,
          7.016668796539307,
          0.5877298712730408,
          0.0641561895608902,
          8.873449325561523,
          0.15518656373023987,
          2.8716776371002197,
          10.502106666564941,
          -5.737922191619873,
          -3.6834397315979004,
          -3.875197410583496,
          -8.767682075500488,
          3.0763423442840576,
          5.799404144287109,
          -2.1890335083007812,
          2.4246151447296143,
          0.32223963737487793,
          2.7815065383911133,
          -0.3137196898460388,
          -9.70054817199707,
          -7.3445048332214355,
          10.734033584594727,
          0.7655341625213623,
          -11.760086059570312,
          1.4268244504928589,
          -2.285381317138672,
          -6.754032135009766,
          -9.482117652893066,
          -7.3629021644592285,
          -8.817933082580566,
          -2.0881307125091553,
          10.642231941223145,
          6.031033992767334,
          -8.76616382598877,
          8.836949348449707,
          7.01658821105957,
          -0.7379680275917053,
          -3.6692655086517334,
          11.086191177368164,
          -9.600984573364258,
          5.929666042327881,
          -7.979889869689941,
          -6.830782890319824,
          6.379591941833496,
          9.321762084960938,
          -2.1413960456848145,
          -9.255566596984863,
          -4.619433879852295,
          8.634200096130371,
          -5.489502906799316,
          -10.862405776977539,
          -5.719909191131592,
          2.3508222103118896,
          3.062725782394409,
          -7.195696830749512,
          3.805436849594116,
          -0.8005865812301636,
          9.09454345703125,
          -9.975791931152344,
          8.474820137023926,
          2.7720468044281006,
          2.27738356590271,
          -3.5653645992279053,
          0.7802199125289917,
          -4.220641136169434,
          1.49446439743042,
          11.045628547668457,
          -2.1892266273498535,
          -7.291240215301514,
          -7.320724010467529,
          -5.628731727600098,
          10.937317848205566,
          11.680039405822754,
          -4.633445739746094,
          -8.168169975280762,
          -7.6565961837768555,
          -1.2342286109924316,
          4.075287342071533,
          -6.976207256317139,
          4.446735382080078,
          -3.917581558227539,
          -2.444031238555908,
          -7.1195387840271,
          10.62053394317627,
          0.7198392152786255,
          2.0515363216400146,
          0.20608407258987427,
          -6.467381954193115,
          4.135232925415039,
          -8.75460433959961,
          -1.75019371509552,
          -9.892985343933105,
          2.7012317180633545,
          9.707263946533203,
          -1.8398877382278442,
          -16.546146392822266,
          -4.75312614440918,
          -4.302685737609863,
          8.222006797790527,
          4.924020767211914,
          1.514891266822815,
          -9.555815696716309,
          2.847080707550049,
          10.312097549438477,
          -9.796095848083496,
          2.37697434425354,
          2.961191415786743,
          3.122211456298828,
          -8.26648235321045,
          -12.99459457397461,
          -4.9527997970581055,
          9.49179744720459,
          -8.488371849060059,
          6.310659885406494,
          -15.742791175842285,
          10.904425621032715,
          -8.538755416870117,
          -9.475515365600586,
          -7.5344462394714355,
          4.684020042419434,
          -8.814164161682129,
          -6.962133407592773,
          4.571829319000244,
          -2.032508134841919,
          -9.188325881958008,
          3.065004587173462,
          0.7606678009033203,
          1.475504755973816,
          10.147472381591797,
          -6.154758930206299,
          -0.644523024559021,
          -12.527027130126953,
          10.234107971191406,
          0.9094171524047852,
          2.6062018871307373,
          4.623018741607666,
          -2.7042500972747803,
          -8.062586784362793,
          -5.340563774108887,
          1.9262466430664062,
          -9.130764961242676,
          10.245133399963379,
          -9.1220121383667,
          -7.302380084991455,
          2.0699045658111572,
          6.617937088012695,
          -2.227722644805908,
          -0.012958807870745659,
          6.070241451263428,
          6.955970287322998,
          -9.214177131652832,
          -7.849707126617432,
          -8.425861358642578,
          2.861435651779175,
          10.97919750213623,
          -9.40908432006836,
          -1.8271117210388184,
          -6.461301803588867,
          8.572970390319824,
          -8.222235679626465,
          -9.210041999816895,
          -8.931303977966309,
          -0.7487865090370178,
          -9.937599182128906,
          -9.600118637084961,
          -10.087814331054688,
          0.4979289174079895,
          -8.017722129821777,
          5.357004642486572,
          -8.066555976867676,
          -3.4823904037475586,
          11.671856880187988,
          4.657411098480225,
          11.649779319763184,
          -9.63422966003418,
          -7.482410430908203,
          -0.1876826286315918,
          2.541604518890381,
          -13.615986824035645,
          8.247066497802734,
          0.8514528870582581,
          -3.3456060886383057,
          1.5626693964004517,
          5.057426929473877,
          -1.3829492330551147,
          3.091249942779541,
          -7.1195878982543945,
          -3.7209155559539795,
          -7.294308662414551,
          2.2057197093963623,
          2.487279176712036,
          3.27606463432312,
          1.3220545053482056,
          -3.4119608402252197,
          5.390914440155029,
          9.95522403717041,
          -8.929027557373047,
          -1.6944756507873535,
          2.9138174057006836,
          9.896089553833008,
          8.758106231689453,
          3.5352816581726074,
          0.3625028729438782,
          -4.391294479370117,
          9.902067184448242,
          2.648186206817627,
          -5.706223964691162,
          -4.3221964836120605,
          -0.9956083297729492,
          -16.34099006652832,
          -12.403802871704102,
          10.617499351501465,
          3.8200862407684326,
          -6.594415664672852,
          -8.98857593536377,
          0.3641999661922455,
          3.0481879711151123,
          0.08190777897834778,
          9.975172996520996,
          0.2081652730703354,
          1.8841859102249146,
          8.928165435791016,
          -2.020214319229126,
          1.0385328531265259,
          -7.837578773498535,
          -13.293015480041504,
          2.8186354637145996,
          -5.996082305908203,
          5.509555339813232,
          1.0826891660690308,
          -7.604862213134766,
          -4.133431434631348,
          1.5991727113723755,
          -8.55500602722168,
          2.28080677986145,
          0.2844173312187195,
          6.424838542938232,
          -8.752963066101074,
          10.214574813842773,
          10.830330848693848,
          9.428651809692383,
          7.857160568237305,
          6.772775650024414,
          0.8903250694274902,
          0.32507121562957764,
          2.843933582305908,
          9.648828506469727,
          8.665088653564453,
          -5.575868606567383,
          -2.994140625,
          5.366272926330566,
          5.251441478729248,
          -7.568805694580078,
          10.973708152770996,
          -7.013207912445068,
          -11.765713691711426,
          -5.7752156257629395,
          2.2026331424713135,
          2.334599733352661,
          4.693405628204346,
          -14.001696586608887,
          -15.762803077697754,
          -4.9000563621521,
          -3.1492466926574707,
          10.864824295043945,
          6.63672399520874,
          -2.967771291732788,
          -8.997097969055176,
          -14.929666519165039,
          6.219703197479248,
          2.813802480697632,
          4.269056797027588,
          -7.811186790466309,
          -5.29467248916626,
          5.551732063293457,
          -1.2295476198196411,
          -9.552490234375,
          -8.10605239868164,
          -9.345468521118164,
          -9.585551261901855,
          2.723184585571289,
          1.5524426698684692,
          6.477614879608154,
          3.1108126640319824,
          -2.216306447982788,
          -3.9111340045928955,
          4.9355926513671875,
          5.378433704376221,
          2.7821121215820312,
          -0.33378535509109497,
          -2.036102771759033,
          8.832539558410645,
          -2.7331888675689697,
          2.3566877841949463,
          -8.2399320602417,
          7.156501770019531,
          -7.848324775695801,
          -9.361042976379395,
          -7.5709404945373535,
          2.3358819484710693,
          -1.3829481601715088,
          1.9269887208938599,
          7.108861446380615,
          0.12846174836158752,
          -0.8308520317077637,
          10.248502731323242,
          -9.855531692504883,
          2.7218565940856934,
          0.5201942920684814,
          -6.012244701385498,
          9.961385726928711,
          7.01664400100708,
          0.5060361623764038,
          -5.900092124938965,
          -15.833063125610352,
          5.185702800750732,
          3.7672951221466064,
          -7.676200866699219,
          9.35047721862793,
          -5.179523468017578,
          1.2735751867294312,
          9.33214282989502,
          2.948678731918335,
          -2.005903482437134,
          6.036107540130615,
          -9.747970581054688,
          0.28229713439941406,
          -3.113375663757324,
          7.432207107543945,
          -14.86145305633545,
          3.7172577381134033,
          -2.6950321197509766,
          1.162937045097351,
          8.827737808227539,
          2.227565050125122,
          6.044756889343262,
          -13.692230224609375,
          -8.737898826599121,
          -8.65475845336914,
          -9.322444915771484,
          4.2499823570251465,
          5.49620246887207,
          -4.138716697692871,
          2.3264660835266113,
          -7.683632850646973,
          10.388452529907227,
          2.361255168914795,
          -0.17387895286083221,
          6.275051593780518,
          5.122580051422119,
          3.2227213382720947,
          2.396597385406494,
          3.7256200313568115,
          -3.2877564430236816,
          -6.516287326812744,
          -10.635826110839844,
          8.329219818115234,
          -1.389365553855896,
          4.090694427490234,
          -10.244525909423828,
          4.218758583068848,
          -8.5848388671875,
          -10.05188274383545,
          -15.12700366973877,
          -7.495381832122803,
          4.058797836303711,
          9.987183570861816,
          -8.87291431427002,
          7.534372806549072,
          10.978313446044922,
          8.702341079711914,
          -12.408538818359375,
          6.757482051849365,
          1.8042848110198975,
          -5.067439079284668,
          10.390764236450195,
          9.841371536254883,
          -10.05063247680664,
          -1.2728444337844849,
          0.0899769589304924,
          9.382955551147461,
          -7.319449424743652,
          -6.200486660003662,
          -0.5753970146179199,
          -5.481041431427002,
          6.44042444229126,
          0.017559736967086792,
          -9.0958833694458,
          0.9261879324913025,
          10.867194175720215,
          11.032917022705078,
          0.8399618268013,
          3.0404915809631348,
          5.872140884399414,
          -3.6181464195251465,
          -1.8477805852890015,
          -9.47380542755127,
          -7.74216365814209,
          -5.532902717590332,
          0.18455933034420013,
          -0.9833366274833679,
          -6.014910697937012,
          -8.119593620300293,
          -4.151163578033447,
          -9.04806137084961,
          10.187246322631836,
          -13.850829124450684,
          -7.5530571937561035,
          -6.338594913482666,
          -8.935976028442383,
          1.395707368850708,
          -0.33164042234420776,
          0.16830629110336304,
          -9.808146476745605,
          -0.2688174843788147,
          2.351331949234009,
          8.133932113647461,
          -6.442985534667969,
          -14.810751914978027,
          10.663229942321777,
          -3.504652261734009,
          -6.1927361488342285,
          -7.374228477478027,
          0.3900090157985687,
          9.989169120788574,
          -4.9743332862854,
          -3.18729567527771,
          -1.7175238132476807,
          -8.986481666564941,
          4.415075302124023,
          9.841241836547852,
          -6.685632705688477,
          -9.983451843261719,
          9.262752532958984,
          -5.3202595710754395,
          9.9815092086792,
          0.7007445693016052,
          7.253942489624023,
          -7.995242595672607,
          4.276690483093262,
          -9.479726791381836,
          10.179681777954102,
          10.503047943115234,
          -5.726600170135498,
          -15.999147415161133,
          9.704421997070312,
          5.574101448059082,
          -8.643243789672852,
          -2.760910987854004,
          -2.043992280960083,
          2.890341281890869,
          -0.6008189916610718,
          -8.961639404296875,
          -7.267548084259033,
          -1.3373064994812012,
          11.726019859313965,
          -10.445255279541016,
          -4.932350158691406,
          4.074540615081787,
          -10.045411109924316,
          6.8604044914245605,
          -10.489251136779785,
          -1.382948875427246,
          1.2880066633224487,
          6.211085796356201,
          -7.246633529663086,
          -7.5846991539001465,
          -0.5035011768341064,
          -8.9159574508667,
          5.118344306945801,
          2.2124903202056885,
          6.461002826690674,
          -7.181879997253418,
          9.859091758728027,
          2.3772261142730713,
          3.227264165878296,
          -4.643352031707764,
          -6.387002944946289,
          2.6412367820739746,
          -9.734556198120117,
          0.2786758542060852,
          10.187113761901855,
          4.004940032958984,
          6.431000709533691,
          -8.719996452331543,
          5.96517276763916,
          3.9913320541381836,
          -7.694686412811279,
          -8.495871543884277,
          -10.486281394958496,
          -14.716971397399902,
          3.201265335083008,
          -6.07158899307251,
          10.332118034362793,
          1.5293434858322144,
          0.2541240155696869,
          6.6930670738220215,
          -6.630478382110596,
          -6.968567848205566,
          7.363094329833984,
          2.9699363708496094,
          2.145284652709961,
          -3.9303414821624756,
          10.07921314239502,
          6.591282367706299,
          -3.0509438514709473,
          2.2376339435577393,
          2.5176475048065186,
          -2.8374009132385254,
          -9.599287033081055,
          5.959971904754639,
          -11.551763534545898,
          4.198237419128418,
          -2.3312718868255615,
          2.3334567546844482,
          -8.543646812438965,
          -5.223137855529785,
          0.05874460190534592,
          -5.995471954345703,
          10.330063819885254,
          10.138814926147461,
          -8.530031204223633,
          2.948056697845459,
          -0.9929401278495789,
          2.6359920501708984,
          -9.19543743133545,
          4.628750801086426,
          1.0413124561309814,
          -8.727238655090332,
          -0.18647217750549316,
          2.7330877780914307,
          -3.320145606994629,
          5.3140645027160645,
          -7.460968971252441,
          -13.829215049743652,
          -6.86681604385376,
          9.3790922164917,
          -2.872955560684204,
          -7.755856513977051,
          2.014495849609375,
          1.8841862678527832,
          10.46984577178955,
          11.035632133483887,
          10.902003288269043,
          2.3900668621063232,
          0.04384913295507431,
          -5.78048038482666,
          2.9242138862609863,
          2.2057740688323975,
          -6.846531867980957,
          2.778639554977417,
          -4.996713638305664,
          5.583979606628418,
          10.039548873901367,
          -9.455245971679688,
          -9.006399154663086,
          10.535834312438965,
          3.229041576385498,
          -7.594244480133057,
          1.9141943454742432,
          2.773803949356079,
          -8.382476806640625,
          -7.15284538269043,
          3.154017210006714,
          2.3029682636260986,
          -4.3477253913879395,
          -11.544904708862305,
          -9.159073829650879,
          3.7534449100494385,
          1.8027851581573486,
          4.889370918273926,
          10.651150703430176,
          6.897700786590576,
          5.630722999572754,
          0.9325746297836304,
          -4.602501392364502,
          7.746799945831299,
          1.0830893516540527,
          -1.0568017959594727,
          8.367856979370117,
          6.799460411071777,
          0.1963622272014618,
          -8.091954231262207,
          -10.0140380859375,
          -4.000553607940674,
          -4.690565586090088,
          9.940437316894531,
          2.565099000930786,
          3.712402105331421,
          -2.4890079498291016,
          0.20396006107330322,
          10.933835983276367,
          -10.237471580505371,
          2.963320732116699,
          -0.8788033723831177,
          8.164899826049805,
          7.45051383972168,
          -7.6801629066467285,
          -9.369284629821777,
          9.065716743469238,
          10.897907257080078,
          1.4425188302993774,
          3.2537460327148438,
          -7.270517349243164,
          -4.401002407073975,
          -11.53648567199707,
          -9.043404579162598,
          -1.3879228830337524,
          0.8029066920280457,
          -6.04188871383667,
          2.4785830974578857,
          2.028672456741333,
          3.300846815109253,
          0.20874230563640594,
          9.729119300842285,
          -1.1105186939239502,
          -7.844106674194336,
          4.601927757263184,
          -8.014177322387695,
          9.483736038208008,
          -12.944832801818848,
          -2.4577009677886963,
          4.286974906921387,
          5.2257914543151855,
          8.784642219543457,
          3.2796459197998047,
          -3.532137393951416,
          -8.111513137817383,
          1.0032795667648315,
          3.067885398864746,
          -5.177377700805664,
          -9.955802917480469,
          -3.089824914932251,
          -9.019614219665527,
          2.889892578125,
          2.8183796405792236,
          8.740324974060059,
          1.6845370531082153,
          4.049015998840332,
          -2.5451741218566895,
          10.060463905334473,
          10.41419506072998,
          7.388375759124756,
          -8.466238975524902,
          7.398860931396484,
          4.168457508087158,
          -8.61241340637207,
          5.146703720092773,
          -8.78612232208252,
          -2.1006157398223877,
          -4.854013442993164,
          -4.229205131530762,
          10.442005157470703,
          2.573739528656006,
          5.168371200561523,
          0.806686282157898,
          -15.243907928466797,
          3.6905908584594727,
          -7.526579856872559,
          10.31913948059082,
          9.464960098266602,
          -8.957456588745117,
          2.5644948482513428,
          9.614097595214844,
          1.0118316411972046,
          8.425695419311523,
          -8.96040153503418,
          -15.17454719543457,
          -2.0930628776550293,
          10.761469841003418,
          -13.402053833007812,
          -4.16271448135376,
          0.538878858089447,
          -9.012455940246582,
          -8.29107666015625,
          -6.398519039154053,
          2.3477673530578613,
          5.9100341796875,
          3.413728952407837,
          9.053144454956055,
          -3.764343500137329,
          -10.026274681091309,
          3.102654218673706,
          -9.098849296569824,
          2.0647318363189697,
          -2.9596688747406006,
          2.2327880859375,
          7.398398399353027,
          2.21171236038208,
          -4.137738227844238,
          -9.745980262756348,
          -9.26770305633545,
          5.816743850708008,
          -0.13053472340106964,
          -1.9690020084381104,
          -8.089637756347656,
          2.847503185272217,
          2.4347784519195557,
          -0.6048174500465393,
          2.8789713382720947,
          3.9038093090057373,
          -0.6046802997589111,
          4.9776411056518555,
          6.256008625030518,
          -4.4279046058654785,
          -3.669038772583008,
          -6.839771747589111,
          2.3217406272888184,
          -3.5240976810455322,
          5.765242099761963,
          11.06392765045166,
          -12.23277473449707,
          -5.942928314208984,
          2.7284128665924072,
          -1.0692393779754639,
          -8.796525001525879,
          -9.250741958618164,
          0.9563848376274109,
          -5.798703193664551,
          2.7094621658325195,
          -2.648143768310547,
          -1.3829491138458252,
          -6.52078104019165,
          -8.775009155273438,
          10.854813575744629,
          3.3381426334381104,
          2.347768545150757,
          11.219335556030273,
          -6.0001678466796875,
          -8.130502700805664,
          -7.659557819366455,
          -1.7078893184661865,
          9.549630165100098,
          -0.6996386647224426,
          10.711946487426758,
          2.786776065826416,
          -8.118268013000488,
          -7.412569999694824,
          1.8833321332931519,
          -1.0236377716064453,
          9.888964653015137,
          10.515872955322266,
          -2.0158567428588867,
          0.16418157517910004,
          -7.042398452758789,
          -3.0085794925689697,
          -9.738686561584473,
          7.699988842010498,
          -8.097405433654785,
          3.5598766803741455,
          5.071311950683594,
          8.896306037902832,
          -7.058430194854736,
          0.9715901017189026,
          3.965512990951538,
          0.6482976078987122,
          -3.834029197692871,
          -4.682287693023682,
          5.93482780456543,
          5.118072986602783,
          1.589367151260376,
          -3.8133864402770996,
          -9.17166805267334,
          5.0262908935546875,
          11.620869636535645,
          -8.045377731323242,
          0.17634126543998718,
          -7.829648494720459,
          0.41634222865104675,
          -10.616072654724121,
          3.6953561305999756,
          10.278539657592773,
          -1.8426800966262817
         ]
        }
       ],
       "layout": {
        "coloraxis": {
         "colorbar": {
          "title": {
           "text": "pc_3"
          }
         },
         "colorscale": [
          [
           0,
           "#0d0887"
          ],
          [
           0.1111111111111111,
           "#46039f"
          ],
          [
           0.2222222222222222,
           "#7201a8"
          ],
          [
           0.3333333333333333,
           "#9c179e"
          ],
          [
           0.4444444444444444,
           "#bd3786"
          ],
          [
           0.5555555555555556,
           "#d8576b"
          ],
          [
           0.6666666666666666,
           "#ed7953"
          ],
          [
           0.7777777777777778,
           "#fb9f3a"
          ],
          [
           0.8888888888888888,
           "#fdca26"
          ],
          [
           1,
           "#f0f921"
          ]
         ]
        },
        "height": 500,
        "legend": {
         "itemclick": "toggleothers",
         "title": {
          "text": "Cluster Summaries"
         },
         "tracegroupgap": 0
        },
        "margin": {
         "t": 60
        },
        "scene": {
         "domain": {
          "x": [
           0,
           1
          ],
          "y": [
           0,
           1
          ]
         },
         "xaxis": {
          "title": {
           "text": "pc_1"
          }
         },
         "yaxis": {
          "title": {
           "text": "pc_2"
          }
         },
         "zaxis": {
          "title": {
           "text": "pc_3"
          }
         }
        },
        "template": {
         "data": {
          "bar": [
           {
            "error_x": {
             "color": "#2a3f5f"
            },
            "error_y": {
             "color": "#2a3f5f"
            },
            "marker": {
             "line": {
              "color": "#E5ECF6",
              "width": 0.5
             }
            },
            "type": "bar"
           }
          ],
          "barpolar": [
           {
            "marker": {
             "line": {
              "color": "#E5ECF6",
              "width": 0.5
             }
            },
            "type": "barpolar"
           }
          ],
          "carpet": [
           {
            "aaxis": {
             "endlinecolor": "#2a3f5f",
             "gridcolor": "white",
             "linecolor": "white",
             "minorgridcolor": "white",
             "startlinecolor": "#2a3f5f"
            },
            "baxis": {
             "endlinecolor": "#2a3f5f",
             "gridcolor": "white",
             "linecolor": "white",
             "minorgridcolor": "white",
             "startlinecolor": "#2a3f5f"
            },
            "type": "carpet"
           }
          ],
          "choropleth": [
           {
            "colorbar": {
             "outlinewidth": 0,
             "ticks": ""
            },
            "type": "choropleth"
           }
          ],
          "contour": [
           {
            "colorbar": {
             "outlinewidth": 0,
             "ticks": ""
            },
            "colorscale": [
             [
              0,
              "#0d0887"
             ],
             [
              0.1111111111111111,
              "#46039f"
             ],
             [
              0.2222222222222222,
              "#7201a8"
             ],
             [
              0.3333333333333333,
              "#9c179e"
             ],
             [
              0.4444444444444444,
              "#bd3786"
             ],
             [
              0.5555555555555556,
              "#d8576b"
             ],
             [
              0.6666666666666666,
              "#ed7953"
             ],
             [
              0.7777777777777778,
              "#fb9f3a"
             ],
             [
              0.8888888888888888,
              "#fdca26"
             ],
             [
              1,
              "#f0f921"
             ]
            ],
            "type": "contour"
           }
          ],
          "contourcarpet": [
           {
            "colorbar": {
             "outlinewidth": 0,
             "ticks": ""
            },
            "type": "contourcarpet"
           }
          ],
          "heatmap": [
           {
            "colorbar": {
             "outlinewidth": 0,
             "ticks": ""
            },
            "colorscale": [
             [
              0,
              "#0d0887"
             ],
             [
              0.1111111111111111,
              "#46039f"
             ],
             [
              0.2222222222222222,
              "#7201a8"
             ],
             [
              0.3333333333333333,
              "#9c179e"
             ],
             [
              0.4444444444444444,
              "#bd3786"
             ],
             [
              0.5555555555555556,
              "#d8576b"
             ],
             [
              0.6666666666666666,
              "#ed7953"
             ],
             [
              0.7777777777777778,
              "#fb9f3a"
             ],
             [
              0.8888888888888888,
              "#fdca26"
             ],
             [
              1,
              "#f0f921"
             ]
            ],
            "type": "heatmap"
           }
          ],
          "heatmapgl": [
           {
            "colorbar": {
             "outlinewidth": 0,
             "ticks": ""
            },
            "colorscale": [
             [
              0,
              "#0d0887"
             ],
             [
              0.1111111111111111,
              "#46039f"
             ],
             [
              0.2222222222222222,
              "#7201a8"
             ],
             [
              0.3333333333333333,
              "#9c179e"
             ],
             [
              0.4444444444444444,
              "#bd3786"
             ],
             [
              0.5555555555555556,
              "#d8576b"
             ],
             [
              0.6666666666666666,
              "#ed7953"
             ],
             [
              0.7777777777777778,
              "#fb9f3a"
             ],
             [
              0.8888888888888888,
              "#fdca26"
             ],
             [
              1,
              "#f0f921"
             ]
            ],
            "type": "heatmapgl"
           }
          ],
          "histogram": [
           {
            "marker": {
             "colorbar": {
              "outlinewidth": 0,
              "ticks": ""
             }
            },
            "type": "histogram"
           }
          ],
          "histogram2d": [
           {
            "colorbar": {
             "outlinewidth": 0,
             "ticks": ""
            },
            "colorscale": [
             [
              0,
              "#0d0887"
             ],
             [
              0.1111111111111111,
              "#46039f"
             ],
             [
              0.2222222222222222,
              "#7201a8"
             ],
             [
              0.3333333333333333,
              "#9c179e"
             ],
             [
              0.4444444444444444,
              "#bd3786"
             ],
             [
              0.5555555555555556,
              "#d8576b"
             ],
             [
              0.6666666666666666,
              "#ed7953"
             ],
             [
              0.7777777777777778,
              "#fb9f3a"
             ],
             [
              0.8888888888888888,
              "#fdca26"
             ],
             [
              1,
              "#f0f921"
             ]
            ],
            "type": "histogram2d"
           }
          ],
          "histogram2dcontour": [
           {
            "colorbar": {
             "outlinewidth": 0,
             "ticks": ""
            },
            "colorscale": [
             [
              0,
              "#0d0887"
             ],
             [
              0.1111111111111111,
              "#46039f"
             ],
             [
              0.2222222222222222,
              "#7201a8"
             ],
             [
              0.3333333333333333,
              "#9c179e"
             ],
             [
              0.4444444444444444,
              "#bd3786"
             ],
             [
              0.5555555555555556,
              "#d8576b"
             ],
             [
              0.6666666666666666,
              "#ed7953"
             ],
             [
              0.7777777777777778,
              "#fb9f3a"
             ],
             [
              0.8888888888888888,
              "#fdca26"
             ],
             [
              1,
              "#f0f921"
             ]
            ],
            "type": "histogram2dcontour"
           }
          ],
          "mesh3d": [
           {
            "colorbar": {
             "outlinewidth": 0,
             "ticks": ""
            },
            "type": "mesh3d"
           }
          ],
          "parcoords": [
           {
            "line": {
             "colorbar": {
              "outlinewidth": 0,
              "ticks": ""
             }
            },
            "type": "parcoords"
           }
          ],
          "pie": [
           {
            "automargin": true,
            "type": "pie"
           }
          ],
          "scatter": [
           {
            "marker": {
             "colorbar": {
              "outlinewidth": 0,
              "ticks": ""
             }
            },
            "type": "scatter"
           }
          ],
          "scatter3d": [
           {
            "line": {
             "colorbar": {
              "outlinewidth": 0,
              "ticks": ""
             }
            },
            "marker": {
             "colorbar": {
              "outlinewidth": 0,
              "ticks": ""
             }
            },
            "type": "scatter3d"
           }
          ],
          "scattercarpet": [
           {
            "marker": {
             "colorbar": {
              "outlinewidth": 0,
              "ticks": ""
             }
            },
            "type": "scattercarpet"
           }
          ],
          "scattergeo": [
           {
            "marker": {
             "colorbar": {
              "outlinewidth": 0,
              "ticks": ""
             }
            },
            "type": "scattergeo"
           }
          ],
          "scattergl": [
           {
            "marker": {
             "colorbar": {
              "outlinewidth": 0,
              "ticks": ""
             }
            },
            "type": "scattergl"
           }
          ],
          "scattermapbox": [
           {
            "marker": {
             "colorbar": {
              "outlinewidth": 0,
              "ticks": ""
             }
            },
            "type": "scattermapbox"
           }
          ],
          "scatterpolar": [
           {
            "marker": {
             "colorbar": {
              "outlinewidth": 0,
              "ticks": ""
             }
            },
            "type": "scatterpolar"
           }
          ],
          "scatterpolargl": [
           {
            "marker": {
             "colorbar": {
              "outlinewidth": 0,
              "ticks": ""
             }
            },
            "type": "scatterpolargl"
           }
          ],
          "scatterternary": [
           {
            "marker": {
             "colorbar": {
              "outlinewidth": 0,
              "ticks": ""
             }
            },
            "type": "scatterternary"
           }
          ],
          "surface": [
           {
            "colorbar": {
             "outlinewidth": 0,
             "ticks": ""
            },
            "colorscale": [
             [
              0,
              "#0d0887"
             ],
             [
              0.1111111111111111,
              "#46039f"
             ],
             [
              0.2222222222222222,
              "#7201a8"
             ],
             [
              0.3333333333333333,
              "#9c179e"
             ],
             [
              0.4444444444444444,
              "#bd3786"
             ],
             [
              0.5555555555555556,
              "#d8576b"
             ],
             [
              0.6666666666666666,
              "#ed7953"
             ],
             [
              0.7777777777777778,
              "#fb9f3a"
             ],
             [
              0.8888888888888888,
              "#fdca26"
             ],
             [
              1,
              "#f0f921"
             ]
            ],
            "type": "surface"
           }
          ],
          "table": [
           {
            "cells": {
             "fill": {
              "color": "#EBF0F8"
             },
             "line": {
              "color": "white"
             }
            },
            "header": {
             "fill": {
              "color": "#C8D4E3"
             },
             "line": {
              "color": "white"
             }
            },
            "type": "table"
           }
          ]
         },
         "layout": {
          "annotationdefaults": {
           "arrowcolor": "#2a3f5f",
           "arrowhead": 0,
           "arrowwidth": 1
          },
          "autotypenumbers": "strict",
          "coloraxis": {
           "colorbar": {
            "outlinewidth": 0,
            "ticks": ""
           }
          },
          "colorscale": {
           "diverging": [
            [
             0,
             "#8e0152"
            ],
            [
             0.1,
             "#c51b7d"
            ],
            [
             0.2,
             "#de77ae"
            ],
            [
             0.3,
             "#f1b6da"
            ],
            [
             0.4,
             "#fde0ef"
            ],
            [
             0.5,
             "#f7f7f7"
            ],
            [
             0.6,
             "#e6f5d0"
            ],
            [
             0.7,
             "#b8e186"
            ],
            [
             0.8,
             "#7fbc41"
            ],
            [
             0.9,
             "#4d9221"
            ],
            [
             1,
             "#276419"
            ]
           ],
           "sequential": [
            [
             0,
             "#0d0887"
            ],
            [
             0.1111111111111111,
             "#46039f"
            ],
            [
             0.2222222222222222,
             "#7201a8"
            ],
            [
             0.3333333333333333,
             "#9c179e"
            ],
            [
             0.4444444444444444,
             "#bd3786"
            ],
            [
             0.5555555555555556,
             "#d8576b"
            ],
            [
             0.6666666666666666,
             "#ed7953"
            ],
            [
             0.7777777777777778,
             "#fb9f3a"
            ],
            [
             0.8888888888888888,
             "#fdca26"
            ],
            [
             1,
             "#f0f921"
            ]
           ],
           "sequentialminus": [
            [
             0,
             "#0d0887"
            ],
            [
             0.1111111111111111,
             "#46039f"
            ],
            [
             0.2222222222222222,
             "#7201a8"
            ],
            [
             0.3333333333333333,
             "#9c179e"
            ],
            [
             0.4444444444444444,
             "#bd3786"
            ],
            [
             0.5555555555555556,
             "#d8576b"
            ],
            [
             0.6666666666666666,
             "#ed7953"
            ],
            [
             0.7777777777777778,
             "#fb9f3a"
            ],
            [
             0.8888888888888888,
             "#fdca26"
            ],
            [
             1,
             "#f0f921"
            ]
           ]
          },
          "colorway": [
           "#636efa",
           "#EF553B",
           "#00cc96",
           "#ab63fa",
           "#FFA15A",
           "#19d3f3",
           "#FF6692",
           "#B6E880",
           "#FF97FF",
           "#FECB52"
          ],
          "font": {
           "color": "#2a3f5f"
          },
          "geo": {
           "bgcolor": "white",
           "lakecolor": "white",
           "landcolor": "#E5ECF6",
           "showlakes": true,
           "showland": true,
           "subunitcolor": "white"
          },
          "hoverlabel": {
           "align": "left"
          },
          "hovermode": "closest",
          "mapbox": {
           "style": "light"
          },
          "paper_bgcolor": "white",
          "plot_bgcolor": "#E5ECF6",
          "polar": {
           "angularaxis": {
            "gridcolor": "white",
            "linecolor": "white",
            "ticks": ""
           },
           "bgcolor": "#E5ECF6",
           "radialaxis": {
            "gridcolor": "white",
            "linecolor": "white",
            "ticks": ""
           }
          },
          "scene": {
           "xaxis": {
            "backgroundcolor": "#E5ECF6",
            "gridcolor": "white",
            "gridwidth": 2,
            "linecolor": "white",
            "showbackground": true,
            "ticks": "",
            "zerolinecolor": "white"
           },
           "yaxis": {
            "backgroundcolor": "#E5ECF6",
            "gridcolor": "white",
            "gridwidth": 2,
            "linecolor": "white",
            "showbackground": true,
            "ticks": "",
            "zerolinecolor": "white"
           },
           "zaxis": {
            "backgroundcolor": "#E5ECF6",
            "gridcolor": "white",
            "gridwidth": 2,
            "linecolor": "white",
            "showbackground": true,
            "ticks": "",
            "zerolinecolor": "white"
           }
          },
          "shapedefaults": {
           "line": {
            "color": "#2a3f5f"
           }
          },
          "ternary": {
           "aaxis": {
            "gridcolor": "white",
            "linecolor": "white",
            "ticks": ""
           },
           "baxis": {
            "gridcolor": "white",
            "linecolor": "white",
            "ticks": ""
           },
           "bgcolor": "#E5ECF6",
           "caxis": {
            "gridcolor": "white",
            "linecolor": "white",
            "ticks": ""
           }
          },
          "title": {
           "x": 0.05
          },
          "xaxis": {
           "automargin": true,
           "gridcolor": "white",
           "linecolor": "white",
           "ticks": "",
           "title": {
            "standoff": 15
           },
           "zerolinecolor": "white",
           "zerolinewidth": 2
          },
          "yaxis": {
           "automargin": true,
           "gridcolor": "white",
           "linecolor": "white",
           "ticks": "",
           "title": {
            "standoff": 15
           },
           "zerolinecolor": "white",
           "zerolinewidth": 2
          }
         }
        },
        "title": {
         "text": "Projected Question Vector Manifold"
        }
       }
      },
      "text/html": [
       "<div>                            <div id=\"7978ba6a-bd7d-4876-8204-36372f6249aa\" class=\"plotly-graph-div\" style=\"height:500px; width:100%;\"></div>            <script type=\"text/javascript\">                require([\"plotly\"], function(Plotly) {                    window.PLOTLYENV=window.PLOTLYENV || {};                                    if (document.getElementById(\"7978ba6a-bd7d-4876-8204-36372f6249aa\")) {                    Plotly.newPlot(                        \"7978ba6a-bd7d-4876-8204-36372f6249aa\",                        [{\"customdata\": [[\"lantu\"], [\"eat lot consid type behavior\"], [\"diabet patent eat pomegran fruit\"], [\"type food diabet eat\"], [\"excess sugar urin caus tired\"], [\"sugar level fluctuat wide\"], [\"free cooki recip diabet\"], [\"differ non insulin depend diabet insulin depend diabet\"], [\"diabet mellitu diabet\"], [\"diabet transfer kiss\"], [\"cinnamon help diabet\"], [\"one treat diabet mellitu\"], [\"diabet develop itch arm\"], [\"chanc diabet babi born parent heterozyg normal\"], [\"bodi produc much insulin\"], [\"proper aha first aid respons diabet attack\"], [\"function clavic\"], [\"better diabet arrowroot cornflour\"], [\"normal protein level blood\"], [\"bad diabet eat\"], [\"damag retina eye caus diabet mellitu known diabet\"], [\"medic abbrevi mean twice day\"], [\"mani gram sugar appropri per day averag teen\"], [\"inject insulin best absorb via rout\"], [\"type diabet found small children\"], [\"five food carb\"], [\"eat blood sugar sixti eight rang\"], [\"bring blood sugar instantli somethig home\"], [\"diabet mellitu affect spina bifida\"], [\"insulin releas\"], [\"research done suma\"], [\"common diabet\"], [\"much insulin overdos\"], [\"caus juvenil diabet\"], [\"sign diabet\"], [\"test diabet\"], [\"mani carb one hundr eighti lb five six larg bone diabet femal daili lose weight\"], [\"detect sign diabet\"], [\"overweight peopl like get diabet\"], [\"find new diabet food list show good food choic\"], [\"orang make blood sugar level rais\"], [\"diabet patient eat sweet corn\"], [\"long jacki robinson diabet\"], [\"kind guitar nick jona\"], [\"differ humulin insulin relion insulin\"], [\"aceton odor breath patient clinic symptom\"], [\"big toe partial numb\"], [\"diabet statist\"], [\"type two diabet becom type one diabet\"], [\"diabet treat\"], [\"get insulin\"], [\"diet plan use type one type two diabet\"], [\"consum cinnamon diabet\"], [\"type two diabet cure\"], [\"advanc technolog help type one diabet\"], [\"diabet eat prawn\"], [\"kid diabet\"], [\"need shot type two diabet\"], [\"age affect blood sugar\"], [\"diabet get pregnant\"], [\"good desert diabet\"], [\"thirti nine year diabet high blood pressur well bring control\"], [\"dog develop diabet call\"], [\"type one diabet common type two diabet\"], [\"diabet patient eat cashew seed\"], [\"could low high blood sugar make tire immedi eat\"], [\"relationship mahogani seed lower blood glucos\"], [\"diabet caus viru bacteria\"], [\"often go doctor diabet\"], [\"diabet mellitu diabet insipidu\"], [\"insulin shock occur quickli\"], [\"caus diabet\"], [\"diabet mellitu disord\"], [\"borderlin diabet doctor said control diet mani carb per day\"], [\"diabet effect immun system\"], [\"honey diabet\"], [\"caus water loss carnegi area\"], [\"sugar mainli serv bodi\"], [\"good idea diabet meal\"], [\"anyon assist inform diabet meal plan someon diabet\"], [\"eye problem symptom diabet\"], [\"patient diabet insipidu begin suffer symptom dehydr\"], [\"blood sugar one hundr fifti six normal\"], [\"medicin type one diabet\"], [\"good sampl breakfast menu diabet\"], [\"blood sugar four hundr sixti\"], [\"one properli manag diabet symptom\"], [\"mani peopl georgia suffer diabet\"], [\"develop first effect treatment diabet\"], [\"diabet stop get hire job\"], [\"diabet get fatigu\"], [\"best beer diabet\"], [\"contraind diabet diet\"], [\"world diabet cookbook\"], [\"troubl rememb thing\"], [\"sign look get test diabet\"], [\"diabet suppli medicar\"], [\"top caus diabet high blood sugar\"], [\"get diabet eat much salt\"], [\"patient describ diabet kussmaul respir physiolog activ take place caus patient\"], [\"diabet type one caus weight loss\"], [\"best drug diabet\"], [\"blood sugar level affect eye\"], [\"food would diabet food list\"], [\"big toe numb tender outsid tip\"], [\"feder agenc help patient need follow diabet diet plan\"], [\"watermelon good diabet patient\"], [\"insulin depend diabet mellitu caus chronic renal failur\"], [\"control blood sugar\"], [\"kevin trudeau recommend cure diabet\"], [\"pancreat hormon function lower blood gulcos level\"], [\"risk factor type two diabet\"], [\"use pedomet benefit peopl high risk type two diabet\"], [\"sign diabet\"], [\"insulin signal cell take glucos\"], [\"alcohol bad pre diabet\"], [\"onlin diet menu diabet\"], [\"treatment diabet\"], [\"list food high sugar\"], [\"tell diabet\"], [\"im forti five yr old male diabet enlarg pitiutari gland kill\"], [\"item diabet person eat\"], [\"diabet discov\"], [\"get lighthead feel like im go faint\"], [\"common caus type two diabet\"], [\"give insulin someon hypoglycem caus go coma\"], [\"wake blood sugar one hundr forti eight high\"], [\"cocain affect blood sugar\"], [\"blood sugar level high\"], [\"type one diabet strong type two\"], [\"diabet affect level\"], [\"hyperosmolar syndrom\"], [\"save money test diabet suppli\"], [\"insulin right treatment diabet\"], [\"help peopl diabet\"], [\"symptom mild insulin resist\"], [\"diabet drink liquor\"], [\"diabet peopl carrot\"], [\"iv fluid need diabet patient\"], [\"scientist make educ guess diabet caus genet factor guess exampl n\"], [\"hypoglycemia treatment\"], [\"person type two diabet take insulin\"], [\"diabet metformin number consid high enough seek hospit\"], [\"kind diabet jacki robinson\"], [\"caus tingl bodi\"], [\"diabet hormon\"], [\"symptom distinguish type type ii diabet\"], [\"five symptom diabet\"], [\"would happen pancrea stop releas insulin\"], [\"diabet patient minor ill cold flu\"], [\"anyon take insulin\"], [\"blood transport glucos cell\"], [\"posit result benedict test\"], [\"mani peopl us type diabet\"], [\"blood sugar level one hundr four someth worri\"], [\"cocoyam good diabet\"], [\"god diabet\"], [\"often take blood sugar\"], [\"age diabet first becom evid\"], [\"websit help find diabet dtour diet\"], [\"nick jona realli diabet\"], [\"eat best control diabet\"], [\"girl normal weight stay activ type two diabet blood sugar level anywher thirti five hundr eighteen eat healthi sinc diagnosi octob\"], [\"get type one diabet one els famili\"], [\"blood sugar five hundr seventi five type insulin one take\"], [\"dog develop diabet\"], [\"recommend dietari allow protein\"], [\"find meal plan diabet\"], [\"caus circul finger tip stop finger becom numb\"], [\"much sugar blood bad\"], [\"diabet emerg\"], [\"old nick got diabet\"], [\"food best choic treat patient experiec hypoglycem low blood sugar reaction\"], [\"find inform diet diabet\"], [\"metformin work\"], [\"buy diabet\"], [\"medic issu diabet special need\"], [\"effect diabet bodi system\"], [\"children receiv diabet educ\"], [\"mean di proverb faith friend medicin life\"], [\"use one ml insulin syring mani unit would draw\"], [\"way monitor blood sugar level without use needl draw blood\"], [\"bring high blood pressur\"], [\"one hour eat diabet\"], [\"type ii diabet capit\"], [\"food high ad sugar\"], [\"find inform diabet diet\"], [\"could hard lump forehead cancer pain\"], [\"blood sugar mainten diabet weight loss diet plan\"], [\"diabet one\"], [\"diabet cantagi\"], [\"percentag diabet type one\"], [\"diabet drink slim fast sugar\"], [\"glucos administ intraven patient diabet mellitu patient probabl develop\"], [\"type diet person keep angina\"], [\"person chronic diabet exhibit sign\"], [\"diabet insipidu occur\"], [\"long effect diabet neuropathi last\"], [\"might caus unexplain weight gain fatigu\"], [\"import diabet food pyramid someon type two diabeti\"], [\"diabet medicin caus cancer\"], [\"get diabet\"], [\"caus genit anal burn diabet\"], [\"best type insulin syring treatment diabet\"], [\"insulin necessari\"], [\"diabet diet menu help diabet\"], [\"product claim natur cure diabet\"], [\"type one type two diabet\"], [\"import foot care clean peopl diabet\"], [\"diabet food found store\"], [\"famou songstress lost leg battl diabet\"], [\"condit insulin resist fat cell type one diabet type two diabet\"], [\"low fat diet recommend treat diabet\"], [\"long person medic staff continu give glucos patient experienc low blood glucos level\"], [\"marijuana lower blood sugar level\"], [\"blood sugar rise high breakfast\"], [\"type doctor treat diabet\"], [\"role insulin regul blood sugar level\"], [\"percentag famili member diabet get diseas\"], [\"caus hyperglycemia\"], [\"diabet still eat potato\"], [\"diabet test strip realli work\"], [\"serum insulin\"], [\"diabet caus swollen lymph node\"], [\"type two diabet known insulin depend diabet\"], [\"synonym pedicur\"], [\"diseas make difficult person regul blood sugar\"], [\"number peopl worldwid diabet increas\"], [\"simpl dinner recip would work diabet menu plan\"], [\"diabet affect health\"], [\"list food high sugar\"], [\"first function cater\"], [\"diabet effect endocrin system\"], [\"diabet caus semen tast differ\"], [\"research done reflexolog\"], [\"major caus type one juvenil diabet\"], [\"good diabet cheesecak recip\"], [\"develop diabet eat much sugar\"], [\"easi diabet dessert\"], [\"mellitu diabet type one\"], [\"two challeng die chronic ill\"], [\"insulin refriger\"], [\"one follow chemic artifici sweeten prescrib ot diabet person\"], [\"hospit diabet\"], [\"elvi aaron presley diabet type one two\"], [\"studi diabet mellitu call\"], [\"normal high sugar\"], [\"symptom diabet\"], [\"substanc creat save diabet\"], [\"cook popular diabet recip\"], [\"joke diabet\"], [\"averag blood glucos level\"], [\"caus diabet\"], [\"two two risk factor diabet type two\"], [\"husband diabet menstub\"], [\"restaur carri diabet diet menu\"], [\"eat sugar type two diabet\"], [\"diabet allow eat\"], [\"honeymoon period diabet mellitu\"], [\"eat mani banan caus increas blood sugar\"], [\"diabet drink replenish electrolyt\"], [\"get four hundr hp six thousand five hundr rpm four bbl carb chevrolet three hundr five\"], [\"novocain affect blood sugar\"], [\"irregular high hgt diabet patient\"], [\"place one receiv free diabet suppli\"], [\"safe lower limit diabet patient normal control level\"], [\"flu shot affect diabet\"], [\"bypass two slim ball interact diabet medic\"], [\"name diabet specialist\"], [\"diabet effect\"], [\"latest trend paediatr nurs\"], [\"keep level glucos bodi stabl level\"], [\"diabet affect leg\"], [\"peopl type one diabet lose weight\"], [\"organ break insulin\"], [\"type two diabet take penicillin\"], [\"iu measur vitamin e translat mcg mg\"], [\"someon diabet alcohol breath\"], [\"diabet meter\"], [\"five hundr forti three good blood sugar level\"], [\"frequent blood sugar level one hundr sixti eat mean\"], [\"person diabet smell alcohol\"], [\"kid get type two diabet adult\"], [\"get erect\"], [\"blood loss affect blood sugar\"], [\"get diabet es\"], [\"caus diabet\"], [\"mani type diabet\"], [\"indocologist\"], [\"mani children nick jona want\"], [\"caus blood sugar drop rapidli\"], [\"obes caus diabet\"], [\"main blood sugar bodi\"], [\"onlin store carri diabet test strip order buy\"], [\"selena diabet\"], [\"member jona brother band diabet\"], [\"illeg diabet eat sugar\"], [\"normal valu bloodsugar\"], [\"check diabet\"], [\"kind condit diabet insipidu\"], [\"fri shrimp rise blood sugar\"], [\"mani time day take insulin type one diabet\"], [\"gland associ diabet\"], [\"commonli use actoplu met\"], [\"tai chi cure diabet\"], [\"best time check blood sugar read\"], [\"daili food eat\"], [\"type two diabet common\"], [\"diabet insipidu character\"], [\"differenti actrapid monotard insulin\"], [\"diabet affect life span\"], [\"diabet eat stawberri\"], [\"purchas diabet food\"], [\"follow best describ effect meal rise blood glucos occur meal\"], [\"quantiti beet root one diabet patient daili\"], [\"hypertens diabet patient typhoid vaccin\"], [\"effect way reduc risk heart diseas cancer diabet seriou ill\"], [\"thirsti urin like crazi\"], [\"diabet drink wine\"], [\"normal fast blood sugar level fifti year old woman\"], [\"sugar level four hundr fifti six\"], [\"would doctor suggest check patient blood sugar level\"], [\"major sign diabet\"], [\"recip book diabet diabet cheesecak recip\"], [\"describ insulin help bodi maintain intern balanc\"], [\"normal blood sugar go diabet\"], [\"test diabet\"], [\"find diabet type two diet\"], [\"get tattoo diabet\"], [\"insulin oral administ diabet peopl\"], [\"two type diabet mellitu\"], [\"much sugar man need daili\"], [\"would chees help lower sugar level diabet\"], [\"get older bone get stiff achey\"], [\"tip follow diabet cooki recip\"], [\"prevent type one type two diabet\"], [\"anywher get free suppli blood sugar test\"], [\"amino acid good diabet\"], [\"us take insulin period avoid diabet\"], [\"diabet complic\"], [\"normal glucos level teenag\"], [\"type ii diabet known depend diabet\"], [\"cant pancrea make insulin type one diabet\"], [\"diabet advers affect bladder\"], [\"kind diabet laura ingal wilder\"], [\"diabet type two infecti\"], [\"glucagon insulin help maintain normal glucos level\"], [\"actual diabet last three year feel durat sex time short pleas advis increas time\"], [\"someon diabet oper commerci motor vehicl texa\"], [\"mean swollen ankl\"], [\"cant sleep arm ach\"], [\"kind doctor diabet see\"], [\"test use detect\"], [\"help diabet cold feel feet\"], [\"pain radiat buttock back leg call\"], [\"follow would indic hypoglycemia diabet\"], [\"medicaid pay diabet shoe georgia\"], [\"diabet diet chart follow\"], [\"eat banana gestat diabet\"], [\"maintain good blood sugar level throughout day\"], [\"use insulin syring\"], [\"\"], [\"someon take pill diabet use urin therapi\"], [\"unhealthi mar bar\"], [\"get type two diabet\"], [\"code mean medtron mini med insulin pump\"], [\"symptom diabet\"], [\"maintain blood sugar level diabet problem\"], [\"often need check glucos level diagnos diabet\"], [\"long live without liver transplant\"], [\"happen diabet cut\"], [\"amitriptylin affect blood sugar\"], [\"fast blood sugar level nineti nine consid suger\"], [\"recommend good diabet diet\"], [\"eat fish egg good diabet person\"], [\"low blood sugar level\"], [\"normal heart rate eighti one yr old diabet woman\"], [\"diabet dad order eat\"], [\"diabet supplement peopl diabet\"], [\"symptom uncontriol diabet adult\"], [\"xylitol sugar\"], [\"artifici sugar better\"], [\"mani insulin unit\"], [\"doctor induc labor gestat diabet\"], [\"diabet eat strawberri\"], [\"raven symon diabet\"], [\"get type two diabet plan\"], [\"diabet take theraflu\"], [\"type diabet need insulin inject\"], [\"manag high blood sugar\"], [\"mani gram sugar diabet intak day\"], [\"glucos fast nineti eight\"], [\"reput diabet cookbook purchas onlin\"], [\"remov appendix draw blood blood test drug test also\"], [\"term occur much insulin taken\"], [\"lose weight pre diabet\"], [\"type diabet common children children treat diabet\"], [\"someon diabet medic treatment\"], [\"meal safe peopl diabet\"], [\"symptom high blood sugar\"], [\"pigment caus discolor bronz diabet\"], [\"one hundr sixteen good blood sugar\"], [\"use diabet awar ribbon shirt without permiss diabet associ\"], [\"salt pool salt system increas blood pressur\"], [\"find inform diabet treatment internet\"], [\"caus frequent urin men\"], [\"differ insulin diabet\"], [\"much sugar caus\"], [\"diabet blood test\"], [\"would diet plan diabet food watch care\"], [\"low mpv count\"], [\"fast blood sugar test\"], [\"normal rang glucos\"], [\"fast caus diabet\"], [\"blood glucos number\"], [\"blood glucos meter requir blood\"], [\"diabet show drug test\"], [\"type two diabet affect lifestyl\"], [\"bodi system organ cell diabet affect\"], [\"cookbook diabet diabet\"], [\"normal blood glucos level human\"], [\"diabeet\"], [\"dessert recip diabet found\"], [\"diabet life\"], [\"find recip mexican dessert\"], [\"diabet color red tattoo\"], [\"inadin dress use patient levothyroxin\"], [\"mani peopl die type one diabet year\"], [\"take chanc diabet equip\"], [\"advantag use genet engin insulin\"], [\"sexual arous caus spike blood sugar diabet male\"], [\"specif type one diabet diet\"], [\"diabet coffe\"], [\"warn doctor might diabet\"], [\"place one find diet diabet\"], [\"know diabet\"], [\"carbohydr process diabet non diabet person\"], [\"increas blood sugar level\"], [\"youngest age get insulin pump\"], [\"salt rais blood pressur\"], [\"two type diabet\"], [\"smoke diabet\"], [\"diabet kill\"], [\"diabet slipper\"], [\"cat die diabet\"], [\"print diabet diet sheet\"], [\"diabet diet plan fit\"], [\"someon pleas explain calcul\"], [\"common diabet medic\"], [\"find good book diabet blood sugar level\"], [\"nick diabet\"], [\"song nick wrote diabet\"], [\"eat sugar type one diabeti\"], [\"much sugar diabet eat\"], [\"diabet type one type two\"], [\"ingredi avoid make diabet cooki recip\"], [\"relationship diabet bhramari\"], [\"sugar rais blood sugar\"], [\"treat hypertens diabet\"], [\"insulin resist would best observ peopl\"], [\"insulin induc hypoglycemia mean\"], [\"synthet human insulin\"], [\"relationship obes diabet\"], [\"way avoid diabet obes\"], [\"purpos american diabet associ\"], [\"blood sugar level diabet\"], [\"exercis easili improv type one diabet\"], [\"melon watermelon safe fruit diabet\"], [\"parentern nutrit inject taken oral\"], [\"much sugar urin\"], [\"lil boosi diabet\"], [\"food make wors diabet\"], [\"receiv social secur disabl diabet dirrhea\"], [\"much sugar haribo\"], [\"life cycl glucos\"], [\"diabet emerg caus low sugar\"], [\"organ need insulin\"], [\"would person need diabet neuropathi treatment\"], [\"amount blood glucos level seen regular irregular\"], [\"type l dm differ type diabet\"], [\"gestat diabet show undiagnos type one diabet\"], [\"insur compani start first insur scheme diabet patient\"], [\"date harm diabet\"], [\"free medic suppli\"], [\"diabet need monitor blood sugar level\"], [\"nick jona blood sugar diagnos diabet\"], [\"research done rolf\"], [\"food list diabet\"], [\"error code blood glucos aviva meter\"], [\"diseas symptom obes diabet facial hair growth femal arthritu thin fine hair head poylp fluid retent aortic valv replac surgeri\"], [\"diabet caus symptom pregnanc even pregnant\"], [\"mani peopl current diabet canada\"], [\"diabet caus death\"], [\"altern holisit remedi cure diabet\"], [\"type wine avoid diabet\"], [\"diabet ketoacidosi treat\"], [\"alan rickman diabet\"], [\"abbrevi acronym modi stand explain modi\"], [\"abl join militari diabet\"], [\"find blood sugar inform\"], [\"true sixti nine percent world popul includ anim diabet\"], [\"caus blur vision diabet\"], [\"ok eat ham diabet\"], [\"longest last action nph lent\"], [\"mani peopl get diabet year\"], [\"wine high sugar\"], [\"role insulin weight gain\"], [\"chemic substanc diabet produc\"], [\"get eat lot sugar food\"], [\"treatment diabet retinopathi\"], [\"carrot juic good diabet patient\"], [\"dextros insulin lower potassium\"], [\"need insulin blood sugar high stress\"], [\"use help diabet\"], [\"type three diabet\"], [\"prognosi untreat diabet foot infect\"], [\"mani peopl us suffer diabet\"], [\"amount sucros diet affect concentr glucos blood\"], [\"diabet patient reluct learn give insulin inject first thing medic\"], [\"insulin glucagon regul blood level\"], [\"find free diabet diet book\"], [\"would girl still go guy despit fact diabet\"], [\"would caus extrem exhaust eat\"], [\"sell diabet test strip legal\"], [\"bodi control diabet\"], [\"constantli thirsti tire sometim eye go blurri wrong\"], [\"insulin resist women conceiv\"], [\"main reason high glucos level\"], [\"chromosom number diabet type two\"], [\"glucagon produc\"], [\"nurs intervent dizzi\"], [\"write school research paper diabet\"], [\"type two diabet cure proper diet\"], [\"diabet shoe purchas singapor\"], [\"cook whole famili husband diabet diet\"], [\"food without glucos\"], [\"tomato bad diabet\"], [\"common diabet complic\"], [\"area thet affect diabet\"], [\"prevent diabet\"], [\"get free diabet suppli insur need meter well pleas help type two diabet insur ran\"], [\"differ type one type two diabet\"], [\"diabet caus drowsi\"], [\"diabet resourc internet\"], [\"best diabet diet go\"], [\"cna shave diabet\"], [\"diabet safe diet eat\"], [\"mani time need calibr glucomet week\"], [\"glucagon protein\"], [\"take blood glucos level two hour meal\"], [\"risk develop type ii diabet mellitu\"], [\"know diabet\"], [\"pathophysiolog type two diabet mellitu\"], [\"diabet caus kidney damag\"], [\"would nick jona write littl seven year old boy got type one diabet huge fan\"], [\"one find joslin diabet center\"], [\"diabet communic diseas\"], [\"tell sugar remov blood\"], [\"good old remedi diabet\"], [\"smoke affect someon type two diabet\"], [\"use diabet lancet\"], [\"diabet abl pass along children\"], [\"caus diabet\"], [\"research done tangerin peel\"], [\"diabet affect homeostasi\"], [\"mani mg blood sugar lower one unit insulin\"], [\"hand safe diabet get tattoo\"], [\"best cereal diabet\"], [\"involv diabet test\"], [\"one sweeten commonli use diabet cooki recip\"], [\"accid gave dog much insulin\"], [\"relationship cholesterol heart diseas\"], [\"diabet pass either parent child\"], [\"diabet eat peanut\"], [\"mani gram sugar woman consum per day\"], [\"retinopathi diagnos\"], [\"one hundr twelv glucos high\"], [\"retinopathi\"], [\"effect type one diabet\"], [\"diabet caus shin splint\"], [\"process make human insulin bacteria\"], [\"go get inform stomach bypass diabet\"], [\"organ type two diabet affect\"], [\"diet would best diabet\"], [\"one find inform diet diabet\"], [\"find good sugar diabet diet\"], [\"type two diabet hereditari\"], [\"normal rang endogen insulin non diabet\"], [\"sign decreas bloo glucos level\"], [\"averag rang blood sugar level\"], [\"lack insulin caus high blood glucos level\"], [\"punnett squar look like possibl parent combin type two diabet\"], [\"danger consum cheap diabet suppli\"], [\"home remedi blood sugar patient\"], [\"fruit eat blood sugar problem\"], [\"much apparatu blood sugar test\"], [\"onlin site offer diabet recip\"], [\"good conclus diabet\"], [\"treatment medic diabet\"], [\"kind diabet consid auto immun diseas\"], [\"mental ill clearli defin physic ill diabet\"], [\"food bought poor rich person caus diabet\"], [\"becom diabet educ\"], [\"ayurveda help someon diabet\"], [\"get gestat diabet test\"], [\"type ii diabet produc insulin\"], [\"hormon make blood glucos increas\"], [\"includ diabet diet menu\"], [\"good thesi statement diabet peopl live\"], [\"find diabet diet chart\"], [\"diabet test result glucos ac five point six glucos pc\"], [\"differ complic type two diabet\"], [\"happen coma\"], [\"normal concentr blood sugar healthi person bodi\"], [\"type sugar blood sugar\"], [\"diabet scari\"], [\"diet meal plan sugar diabet\"], [\"nutrisystem diabet diet harm diabet\"], [\"normal rang someon blood sugar level\"], [\"two type diabet time like develop obes person person\"], [\"sign symptom diabet\"], [\"long usual take recov effect diabet seizur slure speech mobil gener concentr\"], [\"insulin releas blood\"], [\"need comma sentenc vascular diseas secondari diabet small vessel diseas\"], [\"diabet mean\"], [\"exercis lower blood sugar\"], [\"type diabet children develop symptom relat\"], [\"might caus rapid weight loss\"], [\"take drug screen diabet medicin show\"], [\"diabet seriou diseas\"], [\"side affect cloud nine caus bodi use\"], [\"recommend diet treatment prevent diabet neuropathi\"], [\"diabet take flu vaccin\"], [\"come shiatsu massag cushion recommend diabet\"], [\"kind deal exist notebook type comput\"], [\"peopl diabet experi low energi level\"], [\"diabet class disabl\"], [\"rice pasta better part diabet meal\"], [\"better insulin pump anima medtron\"], [\"mani differ type diabet\"], [\"diabet hand foundat creat\"], [\"common symptom diabet\"], [\"type food good peopl diabet eat\"], [\"caus type diabet\"], [\"diabet eat fruit\"], [\"type one type two type three diabet\"], [\"combin food rais blood sugar\"], [\"fast blood sugar one hundr sixteen\"], [\"skin tingl\"], [\"nutrilit product women cancer take\"], [\"ohip cover diabet medic\"], [\"mani carbohydr type one diabet eat day\"], [\"monitor diabet blood sugar level\"], [\"read review blood sugar test product\"], [\"anyon type one diabet\"], [\"drug make someon diabet\"], [\"pre diabet symptom\"], [\"blood level glucos amino acid insulin high glycogenesi occur liver bodi\"], [\"mani peopl diabet affect one hundr\"], [\"true fals type two diabet may reflect declin receptor sensit insulin rather decreas insulin product\"], [\"fast night normal blood sugar level morn\"], [\"good diabet breakfast\"], [\"help three hundr eight pound type ii diabet lose weight\"], [\"diabet bodi\"], [\"one touch meter use\"], [\"two main type diabet\"], [\"ratio juvenil diabet\"], [\"kind sugar substitut use diabet pound cake recip\"], [\"medic need diabet\"], [\"make insulin bacteria\"], [\"diabet earli sign\"], [\"malfunct organ bodi caus diabet\"], [\"papaya good fro diabet patient\"], [\"diabet help pass drug test faster\"], [\"someon diabet eat weetbix\"], [\"find good diabet diet food list\"], [\"accident gave dog much insulin\"], [\"part human bodi effect diabet type one\"], [\"diabet patient need nasogastr tube feed\"], [\"normal human glucos level\"], [\"good overweight\"], [\"get diabet\"], [\"one hundr sixti blood sugar read eat right\"], [\"happen bodi littl insulin\"], [\"find tasti diabet recip\"], [\"someon wear diabet medic id diabet emerg unclear whether person problem high low blood sugar\"], [\"get nick jona diabet tag\"], [\"research done vegan\"], [\"preval diabet mellitu philippin\"], [\"effect royal jelli diabet\"], [\"lead caus diabet america prevent get\"], [\"glucos startch relat\"], [\"nick jona diabet diabet\"], [\"herb cure scurvi\"], [\"hyponidd\"], [\"differ insulin blood sugar\"], [\"laura ingal wilder rose\"], [\"symtom diabet mellitu\"], [\"happen blood acid\"], [\"site attack type one diabet\"], [\"ohio medicaid cover gastric bypass surgeri\"], [\"purpos diabet bracelet\"], [\"chang person make order achiev cure diabet type two\"], [\"effect alcohol diabet type two\"], [\"healthi level blood glucos fast\"], [\"control diabet\"], [\"cinnamon cure diabet\"], [\"condit abnorm low concentr glucos blood call\"], [\"diabet mean high blood sugar\"], [\"lipotroph diabet\"], [\"condit low blood sugar level associ diabet call\"], [\"moder weight loss reduc elimin symptom type two diabet\"], [\"blood glucos level regul bodi\"], [\"know diabet\"], [\"import thing know type two diabet\"], [\"latest nutrit guid diabet\"], [\"blood sugar ach mean\"], [\"long fast glucos toler test\"], [\"diabet test suppli mail\"], [\"get blood sugar rise diabet emerg\"], [\"import qualiti diabet suppli\"], [\"new food pyramind diabet\"], [\"glycem index grit\"], [\"diabet suffer frequent hypo low blood sugar requir emerg aid doctor prescrib metformin lower insulin sinc metformin lower blood sugar level\"], [\"kind diabet tha nick jona\"], [\"caus diabet coma\"], [\"sugar natur antifreez peopl cold climat appear prone diseas involv blood sugar\"], [\"ogct\"], [\"whiskey safe diabet\"], [\"combin vitamin\"], [\"term best describ failur bodi cell resond insulin\"], [\"caus urin specif graviti high\"], [\"best free diabet recip\"], [\"convert recip diabet\"], [\"diseas get eat drink thing contain much sugar\"], [\"function ocular\"], [\"get lupu swine\"], [\"stephdaught age nine four risk juvenil diabet sinc youngest sleep lot rare activ diet limit fatti high carb fri food\"], [\"one buy test strip\"], [\"hypogycem\"], [\"test use diagnosi diabet mellitu\"], [\"much insulin take blood sugar two hundr forti one\"], [\"diabet affect electrolysi\"], [\"diabet affect bodi abil make insulin\"], [\"sever diabet symptom\"], [\"peopl diabet eat sugar\"], [\"best natur diabet treatment\"], [\"women diabet pregnant\"], [\"risk high blood sugar\"], [\"black coffe rais blood sugar\"], [\"sign symptom type one diabet\"], [\"best diet diabet\"], [\"mcclain sister diabet\"], [\"know type one type two diabet\"], [\"differenti diabet mellitu diabet insipidu\"], [\"risk gestat diabet\"], [\"could dog die diabet\"], [\"percentag american diabet unawar diseas\"], [\"word diabetina spanish herb diabet\"], [\"three clinic sign insulin defici\"], [\"diabet carri insulin flight\"], [\"fruit honey bad diabet\"], [\"canadian scientist insulin\"], [\"kind differ treatment diabet\"], [\"get help diabet\"], [\"eat raw sugar sign ill\"], [\"peopl type two diabet take insulin type one diabet\"], [\"sugar coma\"], [\"diabet\"], [\"onset menopaus caus fals posit diabet test\"], [\"nick jona brother know diabet\"], [\"go onlin find inform diabet recip\"], [\"best insulin diabit\"], [\"onlin list diabet food\"], [\"system diabet affect\"], [\"diseas pandan leav cure\"], [\"person blood glucos level\"], [\"mani gram carb eat per day low fat diet\"], [\"diabet eat papaya\"], [\"type diabt blood sugar high\"], [\"way treat diabet\"], [\"kid love sugar\"], [\"go find latest diabet treatment\"], [\"diabet nutrit\"], [\"prdiabet\"], [\"organ produc insulin glucagon\"], [\"could two human differ dna sequenc insulin yet still make exact insulin protein\"], [\"great diabet recip\"], [\"person low blood sugar suggest could eat bring blood sugar level fastest way\"], [\"normal blood level\"], [\"diabet eat granola\"], [\"food make wors diabet\"], [\"symptom juvenil diabet\"], [\"top ten communic diseas philippin\"], [\"diabet urin often\"], [\"involv diabet diet\"], [\"diabet caus organ shut\"], [\"normal blood sugar rang diabet meal\"], [\"food caus diabet\"], [\"two type diabet\"], [\"find blood glucos level chart\"], [\"root word diabet\"], [\"happen diabet stop take insulin\"], [\"mani peopl die diabet\"], [\"nick jona diabet\"], [\"effect sucralos blood sugar\"], [\"normal blood glucos number diabet\"], [\"nick jona quot diabet\"], [\"best way lose keep weight diabet\"], [\"glucos drip given diabet patient\"], [\"nut bean eat diabet person\"], [\"steve redgrav diabet\"], [\"eleven point one high diabet\"], [\"test diabet without go doctor buy test strip\"], [\"one pleas tell find healthi food diabet like\"], [\"exampl diabet diet\"], [\"peopl type one diabet control blood pressur\"], [\"actrapid insulin short act insulin\"], [\"diabet person collaps low high blood sugar\"], [\"deliv diabet meal plan\"], [\"behavior doctor recommend avoid type two diabet\"], [\"healthi weekli meal plan diabet\"], [\"diseas caus radiat\"], [\"en symptom type one form diseas appear\"], [\"free diabet suppli\"], [\"diabet eat onion\"], [\"diabet form anim\"], [\"diabet mellitu complic cholecystectomi\"], [\"mani gram sugar allow per day\"], [\"banana bad type two diabet\"], [\"five foot twelv year old girl weigh eighti four pound\"], [\"find onlin menu diabet\"], [\"diabet lasik surgeri\"], [\"diabet bodi make use whatproperli\"], [\"gland control glucos blood level\"], [\"relat diabet blood sugar\"], [\"found diabet\"], [\"good diabet cake recip\"], [\"effect diet diabet\"], [\"need balanc diet\"], [\"doctor refer diabet educ class\"], [\"diabet feel\"], [\"person diabet would keton urin\"], [\"insulin chang world back\"], [\"fish diabet\"], [\"treatment type one diabet\"], [\"caus diabet melitu\"], [\"type two diabet chronic diseas\"], [\"process bodi function correctli patient diabet\"], [\"type insulin use treat diabet\"], [\"appropri cooki recip diabet\"], [\"classic symptom diabet\"], [\"diabet eat sago seed\"], [\"caus type diabet mellitu\"], [\"organ reli critic steadi suppli glucos\"], [\"much sugar bodi\"], [\"insulin fold\"], [\"happen bood sugar level low\"], [\"person diabet melitu affect\"], [\"diabet food chart compar basic food chart\"], [\"cigarett smoke affect sugar level diabet person\"], [\"could tell hamster got diabet\"], [\"diabet total sugar diet\"], [\"good treatment diabet\"], [\"explain type two diabet controlledand type one\"], [\"lack caus diabet\"], [\"die diabet\"], [\"prognosi mild asymptomat insulin resist\"], [\"name diabet onlin diet program\"], [\"broccoli bad diabet\"], [\"good chocol diabet cake recip\"], [\"role insulin bodi\"], [\"mani peopl diabet unit state\"], [\"main ingredi normal recip diabet eat\"], [\"type one diabet male produc children type one diabet\"], [\"may caus diabet neuropathi\"], [\"get diabet cookbook\"], [\"effect diabet human bodi\"], [\"diabet emerg caus high blood sugar level\"], [\"recommend consum food five gram benefici weight control diabet even form cancer\"], [\"contribut type two diabet\"], [\"inject diabet shot mistak would diabet\"], [\"draw nph insulin shake bottl gentli rotat bottl\"], [\"type microb diabet\"], [\"scientif word low blood sugar\"], [\"would like know good food diabet bad food diabet\"], [\"percent world popul diabet\"], [\"bret michael daughter diabet\"], [\"prediabeti carbohydr intak\"], [\"enter servic type two diabet\"], [\"type diabet occur bodi make insulin enough meet bodi need bodi becom resist insulin produc\"], [\"nick jona diabet doctor name\"], [\"major symptom type two diabet\"], [\"chanc get type one diabet\"], [\"one hundr sixti high diabet\"], [\"diabet caus\"], [\"get diabet eat sugar\"], [\"head hurt blood sugar high\"], [\"often diabet occur\"], [\"black coffe affect glucos blood test\"], [\"research done sargassum seawe\"], [\"check diabet cbc\"], [\"five fact diabet\"], [\"diabet transfer sexual\"], [\"diabet lost weight fast low glycem food gain\"], [\"affect peopl aid breast cancer diabet\"], [\"person without diabet get ulcer\"], [\"insulin pump cover high glucos level right\"], [\"diet young diabet men\"], [\"diabet needl\"], [\"common sourc infect\"], [\"obes diabet nation epidem us\"], [\"fake diabet test\"], [\"get type diabet\"], [\"get diabet life\"], [\"danger diabet eat meal contain lot sugar\"], [\"herb good diabet\"], [\"function peduncl\"], [\"insulin blood\"], [\"blood sugar high fresh fruit ok\"], [\"find diabet recip\"], [\"compar insulin unit microgram\"], [\"patient type diabet treat\"], [\"lot sugar\"], [\"averag level blood sugar\"], [\"normal blood surgar\"], [\"coffe affect blood sugar level\"], [\"eat diabet\"], [\"mani peopl diabet insipidu\"], [\"good resourc use obtain diabet diet sheet\"], [\"diabet fruiti odor\"], [\"raisin good diabet\"], [\"diagnos diabet one high glucos read\"], [\"one purchas sock suitabl diabet\"], [\"blood sugar chart look\"], [\"know anger problem\"], [\"gin tonic affect blood sugar level\"], [\"mani carb diabet eat one meal\"], [\"diabet caus\"], [\"diabet take paracetamol\"], [\"patholog diabet type two\"], [\"human insulin gene transfer bacterium make insulin\"], [\"organ releas glucos help maintain normal blood glucos level meal\"], [\"diabet use infrar sauna\"], [\"mani gram carb one hundr thirti five lb woman per day\"], [\"diagnos diabet insipidu\"], [\"normal rang blood glucos teenag person\"], [\"diabet friendli food\"], [\"diabet miletu\"], [\"type food diabet avoid\"], [\"oil base food good women\"], [\"kind diet diabet\"], [\"type two diabet iuss\"], [\"common effect diabet diabet\"], [\"cale blood aced\"], [\"optim blood glucos control reduc risk coronari heart diseas patient type one diabet\"], [\"eat sugar free jello blood test\"], [\"beta blocker caus hypoglycemia\"], [\"eat fish chip diabet\"], [\"type four diabet\"], [\"type one diabet eat honey\"], [\"age symptom diabet occur\"], [\"counter insulin good prescript insulin\"], [\"diabet cappuccino\"], [\"exactli food diabet mean\"], [\"type one diabet transmit\"], [\"daughter eye brain go anoth place afew second could low high blood sugar\"], [\"descript fast blood sugar\"], [\"effect diet diabet type two\"], [\"effect medicin treat diabet\"], [\"vitamin get rid diabet\"], [\"qualif need diabet nurs\"], [\"know diabet\"], [\"sugar found human blood\"], [\"approxim insulin\"], [\"sixti two year old diabet black man swollen left leg area blanch blue mottl\"], [\"eat unsweeten appl sauc diabet diet\"], [\"eat diabet\"], [\"glycem index diet help diabet\"], [\"diabet eat liver\"], [\"normal blood glucos level\"], [\"live react high level glucos blood convert glucos\"], [\"secretagogu substanc\"], [\"itchyblist arm shoulder\"], [\"need two kidney\"], [\"reason person would start urin lot\"], [\"lose weight health reason\"], [\"give inject diabet\"], [\"sugar level normal someon diabet\"], [\"drink beer safe diabet\"], [\"type one diabet affect sperm count\"], [\"find diet plan person type two diabet\"], [\"could diabet mental ill born develop extrem depress suppress sad anger\"], [\"type one diabet type two\"], [\"diseas endocrin system\"], [\"sugar normal rang\"], [\"gellium barea\"], [\"could caus headach dizzi feel surg electr run brain\"], [\"best diabet diet food give fifteen year old grow girl\"], [\"took insluin diabet\"], [\"ophthalmoplegia happen diabet mellitu\"], [\"life long condit\"], [\"might diabet alter one everyday life\"], [\"diabet take royal jelli\"], [\"alcoh good diabet\"], [\"one purchas gourmet chocol suitabl diabet\"], [\"omega three good diabet\"], [\"long diabet around\"], [\"diabet make sick\"], [\"everyon diabet\"], [\"diabet go away\"], [\"briefli describ four type diabet insipidu\"], [\"exercis wheight loss help lower blood sugar level diabet patient\"], [\"get insulin\"], [\"import factor insid diabet guidelin\"], [\"find recip sugar free dessert\"], [\"treat patient give much insulin\"], [\"final caus sycmor fall\"], [\"diabet mellitu blood glucos level high glucos appear urin due properti carrier protein along kidney tubul name\"], [\"find free diabet meter\"], [\"hormon continu make adjust blood glucos level\"], [\"good diet diabet tri\"], [\"nick jona make big deal diabet\"], [\"inject insulin essenti part daili regim peopl diabet\"]], \"hovertemplate\": \"pc_1=%{x}<br>pc_2=%{y}<br>pc_3=%{marker.color}<br>sentence=%{customdata[0]}<extra></extra>\", \"legendgroup\": \"\", \"marker\": {\"color\": [-9.821986198425293, 4.376723766326904, 1.904742956161499, -0.5818251967430115, 2.171926259994507, -5.344897270202637, 11.46579647064209, -4.284012317657471, 7.739428997039795, 9.8646821975708, 11.255568504333496, 1.3318586349487305, 9.879883766174316, 10.228157997131348, -8.581866264343262, -7.751824855804443, -8.676362037658691, -1.494596242904663, -9.067350387573242, -0.8244934678077698, 7.425113201141357, -9.883650779724121, -1.9016079902648926, -14.296485900878906, 1.0491666793823242, 1.9175223112106323, -4.925706386566162, -3.5258841514587402, 3.754142999649048, -14.019309997558594, 0.35618042945861816, 3.136472225189209, -13.835718154907227, 4.887351036071777, 10.543059349060059, -7.656593322753906, -0.04860898107290268, 10.824085235595703, 10.85457992553711, 3.394240140914917, -5.059901714324951, 1.8518387079238892, 10.377251625061035, 10.395127296447754, -10.918310165405273, 11.081134796142578, 10.99889087677002, 5.316309928894043, 1.181816577911377, -2.6107468605041504, -9.171667098999023, 4.992837905883789, 4.139266490936279, 1.6335786581039429, -8.337984085083008, 1.8156224489212036, 3.0044636726379395, -4.644957542419434, -9.448805809020996, 8.39295768737793, 2.0933845043182373, -2.420546054840088, 4.920722484588623, -0.5001614689826965, -0.24475599825382233, -5.460596561431885, -7.317522048950195, 7.153228759765625, -6.0226521492004395, 7.897843837738037, -13.871953010559082, 7.016570091247559, 9.212230682373047, 1.1168341636657715, 6.53216028213501, 3.0065906047821045, 8.433235168457031, -4.565250396728516, -1.0645254850387573, 5.749624252319336, 10.956969261169434, 10.6200532913208, -9.816929817199707, -7.9300971031188965, 9.19818115234375, -9.72716999053955, 4.591224670410156, 5.9889326095581055, -2.3836662769317627, 10.506293296813965, -3.0751852989196777, 1.6365413665771484, 3.421144485473633, 5.314750671386719, -1.25974440574646, 2.3659255504608154, 5.460315227508545, -8.557583808898926, 6.748600959777832, 0.17881034314632416, 5.082942008972168, -7.401253700256348, -9.204621315002441, 6.190266132354736, 10.176739692687988, 8.600418090820312, -0.8283774256706238, -3.920145034790039, -5.246232032775879, 4.429940223693848, -10.771821975708008, 2.041273593902588, 3.3093013763427734, 10.543074607849121, -14.996509552001953, -8.52137279510498, 10.234601020812988, 1.5794273614883423, 4.216531276702881, 0.46223780512809753, 9.131708145141602, -2.9821019172668457, -8.396769523620605, -8.43224048614502, 7.386050224304199, -15.647161483764648, -8.05812931060791, -8.38371467590332, -9.61366081237793, -1.0211769342422485, -7.484530448913574, -2.5945920944213867, -0.07306667417287827, -4.305678367614746, 0.5126892924308777, -0.957116425037384, -4.087117671966553, 3.280923366546631, -4.417938709259033, 3.4289615154266357, -6.751660346984863, -8.132152557373047, -9.985525131225586, 9.824525833129883, 1.9481732845306396, -7.584771633148193, 2.4901411533355713, 10.845186233520508, -9.434969902038574, 3.450835704803467, -12.397486686706543, -8.728178977966309, -4.289560317993164, 2.5513012409210205, -9.59997272491455, 1.1112611293792725, -3.615718126296997, -9.79747200012207, -0.7438272833824158, 2.378866195678711, 10.542444229125977, -0.5116055607795715, -2.8682138919830322, 0.1788478046655655, -12.69796085357666, 6.22958517074585, 5.274174213409424, 7.64725399017334, 6.819993495941162, -5.243457794189453, -7.17394495010376, 9.838117599487305, -3.199836254119873, 9.236328125, -4.770757675170898, 1.386628270149231, 2.2470946311950684, 0.24822857975959778, 2.7766058444976807, 0.27707579731941223, -14.600398063659668, -6.857494354248047, -1.1725307703018188, -3.8081483840942383, -3.587851047515869, 0.497191846370697, 5.383690357208252, 1.6521730422973633, 3.5370335578918457, -1.203284502029419, -2.198711395263672, -2.648883819580078, -8.211334228515625, -5.006320476531982, -0.7298411726951599, 9.448493957519531, 8.09121322631836, 10.280454635620117, 2.092439889907837, 2.879246473312378, 0.30672404170036316, 9.841212272644043, 2.8137307167053223, -8.646293640136719, -9.653371810913086, 11.708946228027344, 5.213251113891602, -3.2771503925323486, 10.956210136413574, 0.7228707671165466, 10.967177391052246, -3.3473124504089355, 5.57430362701416, -7.981307029724121, -5.731340408325195, -4.951132297515869, -1.6312947273254395, -12.674466133117676, 10.066906929016113, -3.471524477005005, 2.260164737701416, -7.547539234161377, -12.4841890335083, 9.270548820495605, -4.435578346252441, -8.664063453674316, -2.951700210571289, 9.958291053771973, 9.932860374450684, 3.7956483364105225, 4.2164998054504395, -9.91219711303711, -8.551527976989746, 6.210831165313721, 0.2714961767196655, 2.9320597648620605, 10.267914772033691, 4.678247451782227, 5.510822296142578, -0.7928116917610168, 8.575477600097656, -12.503410339355469, 3.4669039249420166, -3.213043689727783, -2.410897970199585, 6.7385711669921875, -6.928330898284912, 10.904425621032715, -7.735121250152588, 10.32835578918457, 4.633546352386475, -8.452656745910645, 7.016668796539307, 0.5877298712730408, 0.0641561895608902, 8.873449325561523, 0.15518656373023987, 2.8716776371002197, 10.502106666564941, -5.737922191619873, -3.6834397315979004, -3.875197410583496, -8.767682075500488, 3.0763423442840576, 5.799404144287109, -2.1890335083007812, 2.4246151447296143, 0.32223963737487793, 2.7815065383911133, -0.3137196898460388, -9.70054817199707, -7.3445048332214355, 10.734033584594727, 0.7655341625213623, -11.760086059570312, 1.4268244504928589, -2.285381317138672, -6.754032135009766, -9.482117652893066, -7.3629021644592285, -8.817933082580566, -2.0881307125091553, 10.642231941223145, 6.031033992767334, -8.76616382598877, 8.836949348449707, 7.01658821105957, -0.7379680275917053, -3.6692655086517334, 11.086191177368164, -9.600984573364258, 5.929666042327881, -7.979889869689941, -6.830782890319824, 6.379591941833496, 9.321762084960938, -2.1413960456848145, -9.255566596984863, -4.619433879852295, 8.634200096130371, -5.489502906799316, -10.862405776977539, -5.719909191131592, 2.3508222103118896, 3.062725782394409, -7.195696830749512, 3.805436849594116, -0.8005865812301636, 9.09454345703125, -9.975791931152344, 8.474820137023926, 2.7720468044281006, 2.27738356590271, -3.5653645992279053, 0.7802199125289917, -4.220641136169434, 1.49446439743042, 11.045628547668457, -2.1892266273498535, -7.291240215301514, -7.320724010467529, -5.628731727600098, 10.937317848205566, 11.680039405822754, -4.633445739746094, -8.168169975280762, -7.6565961837768555, -1.2342286109924316, 4.075287342071533, -6.976207256317139, 4.446735382080078, -3.917581558227539, -2.444031238555908, -7.1195387840271, 10.62053394317627, 0.7198392152786255, 2.0515363216400146, 0.20608407258987427, -6.467381954193115, 4.135232925415039, -8.75460433959961, -1.75019371509552, -9.892985343933105, 2.7012317180633545, 9.707263946533203, -1.8398877382278442, -16.546146392822266, -4.75312614440918, -4.302685737609863, 8.222006797790527, 4.924020767211914, 1.514891266822815, -9.555815696716309, 2.847080707550049, 10.312097549438477, -9.796095848083496, 2.37697434425354, 2.961191415786743, 3.122211456298828, -8.26648235321045, -12.99459457397461, -4.9527997970581055, 9.49179744720459, -8.488371849060059, 6.310659885406494, -15.742791175842285, 10.904425621032715, -8.538755416870117, -9.475515365600586, -7.5344462394714355, 4.684020042419434, -8.814164161682129, -6.962133407592773, 4.571829319000244, -2.032508134841919, -9.188325881958008, 3.065004587173462, 0.7606678009033203, 1.475504755973816, 10.147472381591797, -6.154758930206299, -0.644523024559021, -12.527027130126953, 10.234107971191406, 0.9094171524047852, 2.6062018871307373, 4.623018741607666, -2.7042500972747803, -8.062586784362793, -5.340563774108887, 1.9262466430664062, -9.130764961242676, 10.245133399963379, -9.1220121383667, -7.302380084991455, 2.0699045658111572, 6.617937088012695, -2.227722644805908, -0.012958807870745659, 6.070241451263428, 6.955970287322998, -9.214177131652832, -7.849707126617432, -8.425861358642578, 2.861435651779175, 10.97919750213623, -9.40908432006836, -1.8271117210388184, -6.461301803588867, 8.572970390319824, -8.222235679626465, -9.210041999816895, -8.931303977966309, -0.7487865090370178, -9.937599182128906, -9.600118637084961, -10.087814331054688, 0.4979289174079895, -8.017722129821777, 5.357004642486572, -8.066555976867676, -3.4823904037475586, 11.671856880187988, 4.657411098480225, 11.649779319763184, -9.63422966003418, -7.482410430908203, -0.1876826286315918, 2.541604518890381, -13.615986824035645, 8.247066497802734, 0.8514528870582581, -3.3456060886383057, 1.5626693964004517, 5.057426929473877, -1.3829492330551147, 3.091249942779541, -7.1195878982543945, -3.7209155559539795, -7.294308662414551, 2.2057197093963623, 2.487279176712036, 3.27606463432312, 1.3220545053482056, -3.4119608402252197, 5.390914440155029, 9.95522403717041, -8.929027557373047, -1.6944756507873535, 2.9138174057006836, 9.896089553833008, 8.758106231689453, 3.5352816581726074, 0.3625028729438782, -4.391294479370117, 9.902067184448242, 2.648186206817627, -5.706223964691162, -4.3221964836120605, -0.9956083297729492, -16.34099006652832, -12.403802871704102, 10.617499351501465, 3.8200862407684326, -6.594415664672852, -8.98857593536377, 0.3641999661922455, 3.0481879711151123, 0.08190777897834778, 9.975172996520996, 0.2081652730703354, 1.8841859102249146, 8.928165435791016, -2.020214319229126, 1.0385328531265259, -7.837578773498535, -13.293015480041504, 2.8186354637145996, -5.996082305908203, 5.509555339813232, 1.0826891660690308, -7.604862213134766, -4.133431434631348, 1.5991727113723755, -8.55500602722168, 2.28080677986145, 0.2844173312187195, 6.424838542938232, -8.752963066101074, 10.214574813842773, 10.830330848693848, 9.428651809692383, 7.857160568237305, 6.772775650024414, 0.8903250694274902, 0.32507121562957764, 2.843933582305908, 9.648828506469727, 8.665088653564453, -5.575868606567383, -2.994140625, 5.366272926330566, 5.251441478729248, -7.568805694580078, 10.973708152770996, -7.013207912445068, -11.765713691711426, -5.7752156257629395, 2.2026331424713135, 2.334599733352661, 4.693405628204346, -14.001696586608887, -15.762803077697754, -4.9000563621521, -3.1492466926574707, 10.864824295043945, 6.63672399520874, -2.967771291732788, -8.997097969055176, -14.929666519165039, 6.219703197479248, 2.813802480697632, 4.269056797027588, -7.811186790466309, -5.29467248916626, 5.551732063293457, -1.2295476198196411, -9.552490234375, -8.10605239868164, -9.345468521118164, -9.585551261901855, 2.723184585571289, 1.5524426698684692, 6.477614879608154, 3.1108126640319824, -2.216306447982788, -3.9111340045928955, 4.9355926513671875, 5.378433704376221, 2.7821121215820312, -0.33378535509109497, -2.036102771759033, 8.832539558410645, -2.7331888675689697, 2.3566877841949463, -8.2399320602417, 7.156501770019531, -7.848324775695801, -9.361042976379395, -7.5709404945373535, 2.3358819484710693, -1.3829481601715088, 1.9269887208938599, 7.108861446380615, 0.12846174836158752, -0.8308520317077637, 10.248502731323242, -9.855531692504883, 2.7218565940856934, 0.5201942920684814, -6.012244701385498, 9.961385726928711, 7.01664400100708, 0.5060361623764038, -5.900092124938965, -15.833063125610352, 5.185702800750732, 3.7672951221466064, -7.676200866699219, 9.35047721862793, -5.179523468017578, 1.2735751867294312, 9.33214282989502, 2.948678731918335, -2.005903482437134, 6.036107540130615, -9.747970581054688, 0.28229713439941406, -3.113375663757324, 7.432207107543945, -14.86145305633545, 3.7172577381134033, -2.6950321197509766, 1.162937045097351, 8.827737808227539, 2.227565050125122, 6.044756889343262, -13.692230224609375, -8.737898826599121, -8.65475845336914, -9.322444915771484, 4.2499823570251465, 5.49620246887207, -4.138716697692871, 2.3264660835266113, -7.683632850646973, 10.388452529907227, 2.361255168914795, -0.17387895286083221, 6.275051593780518, 5.122580051422119, 3.2227213382720947, 2.396597385406494, 3.7256200313568115, -3.2877564430236816, -6.516287326812744, -10.635826110839844, 8.329219818115234, -1.389365553855896, 4.090694427490234, -10.244525909423828, 4.218758583068848, -8.5848388671875, -10.05188274383545, -15.12700366973877, -7.495381832122803, 4.058797836303711, 9.987183570861816, -8.87291431427002, 7.534372806549072, 10.978313446044922, 8.702341079711914, -12.408538818359375, 6.757482051849365, 1.8042848110198975, -5.067439079284668, 10.390764236450195, 9.841371536254883, -10.05063247680664, -1.2728444337844849, 0.0899769589304924, 9.382955551147461, -7.319449424743652, -6.200486660003662, -0.5753970146179199, -5.481041431427002, 6.44042444229126, 0.017559736967086792, -9.0958833694458, 0.9261879324913025, 10.867194175720215, 11.032917022705078, 0.8399618268013, 3.0404915809631348, 5.872140884399414, -3.6181464195251465, -1.8477805852890015, -9.47380542755127, -7.74216365814209, -5.532902717590332, 0.18455933034420013, -0.9833366274833679, -6.014910697937012, -8.119593620300293, -4.151163578033447, -9.04806137084961, 10.187246322631836, -13.850829124450684, -7.5530571937561035, -6.338594913482666, -8.935976028442383, 1.395707368850708, -0.33164042234420776, 0.16830629110336304, -9.808146476745605, -0.2688174843788147, 2.351331949234009, 8.133932113647461, -6.442985534667969, -14.810751914978027, 10.663229942321777, -3.504652261734009, -6.1927361488342285, -7.374228477478027, 0.3900090157985687, 9.989169120788574, -4.9743332862854, -3.18729567527771, -1.7175238132476807, -8.986481666564941, 4.415075302124023, 9.841241836547852, -6.685632705688477, -9.983451843261719, 9.262752532958984, -5.3202595710754395, 9.9815092086792, 0.7007445693016052, 7.253942489624023, -7.995242595672607, 4.276690483093262, -9.479726791381836, 10.179681777954102, 10.503047943115234, -5.726600170135498, -15.999147415161133, 9.704421997070312, 5.574101448059082, -8.643243789672852, -2.760910987854004, -2.043992280960083, 2.890341281890869, -0.6008189916610718, -8.961639404296875, -7.267548084259033, -1.3373064994812012, 11.726019859313965, -10.445255279541016, -4.932350158691406, 4.074540615081787, -10.045411109924316, 6.8604044914245605, -10.489251136779785, -1.382948875427246, 1.2880066633224487, 6.211085796356201, -7.246633529663086, -7.5846991539001465, -0.5035011768341064, -8.9159574508667, 5.118344306945801, 2.2124903202056885, 6.461002826690674, -7.181879997253418, 9.859091758728027, 2.3772261142730713, 3.227264165878296, -4.643352031707764, -6.387002944946289, 2.6412367820739746, -9.734556198120117, 0.2786758542060852, 10.187113761901855, 4.004940032958984, 6.431000709533691, -8.719996452331543, 5.96517276763916, 3.9913320541381836, -7.694686412811279, -8.495871543884277, -10.486281394958496, -14.716971397399902, 3.201265335083008, -6.07158899307251, 10.332118034362793, 1.5293434858322144, 0.2541240155696869, 6.6930670738220215, -6.630478382110596, -6.968567848205566, 7.363094329833984, 2.9699363708496094, 2.145284652709961, -3.9303414821624756, 10.07921314239502, 6.591282367706299, -3.0509438514709473, 2.2376339435577393, 2.5176475048065186, -2.8374009132385254, -9.599287033081055, 5.959971904754639, -11.551763534545898, 4.198237419128418, -2.3312718868255615, 2.3334567546844482, -8.543646812438965, -5.223137855529785, 0.05874460190534592, -5.995471954345703, 10.330063819885254, 10.138814926147461, -8.530031204223633, 2.948056697845459, -0.9929401278495789, 2.6359920501708984, -9.19543743133545, 4.628750801086426, 1.0413124561309814, -8.727238655090332, -0.18647217750549316, 2.7330877780914307, -3.320145606994629, 5.3140645027160645, -7.460968971252441, -13.829215049743652, -6.86681604385376, 9.3790922164917, -2.872955560684204, -7.755856513977051, 2.014495849609375, 1.8841862678527832, 10.46984577178955, 11.035632133483887, 10.902003288269043, 2.3900668621063232, 0.04384913295507431, -5.78048038482666, 2.9242138862609863, 2.2057740688323975, -6.846531867980957, 2.778639554977417, -4.996713638305664, 5.583979606628418, 10.039548873901367, -9.455245971679688, -9.006399154663086, 10.535834312438965, 3.229041576385498, -7.594244480133057, 1.9141943454742432, 2.773803949356079, -8.382476806640625, -7.15284538269043, 3.154017210006714, 2.3029682636260986, -4.3477253913879395, -11.544904708862305, -9.159073829650879, 3.7534449100494385, 1.8027851581573486, 4.889370918273926, 10.651150703430176, 6.897700786590576, 5.630722999572754, 0.9325746297836304, -4.602501392364502, 7.746799945831299, 1.0830893516540527, -1.0568017959594727, 8.367856979370117, 6.799460411071777, 0.1963622272014618, -8.091954231262207, -10.0140380859375, -4.000553607940674, -4.690565586090088, 9.940437316894531, 2.565099000930786, 3.712402105331421, -2.4890079498291016, 0.20396006107330322, 10.933835983276367, -10.237471580505371, 2.963320732116699, -0.8788033723831177, 8.164899826049805, 7.45051383972168, -7.6801629066467285, -9.369284629821777, 9.065716743469238, 10.897907257080078, 1.4425188302993774, 3.2537460327148438, -7.270517349243164, -4.401002407073975, -11.53648567199707, -9.043404579162598, -1.3879228830337524, 0.8029066920280457, -6.04188871383667, 2.4785830974578857, 2.028672456741333, 3.300846815109253, 0.20874230563640594, 9.729119300842285, -1.1105186939239502, -7.844106674194336, 4.601927757263184, -8.014177322387695, 9.483736038208008, -12.944832801818848, -2.4577009677886963, 4.286974906921387, 5.2257914543151855, 8.784642219543457, 3.2796459197998047, -3.532137393951416, -8.111513137817383, 1.0032795667648315, 3.067885398864746, -5.177377700805664, -9.955802917480469, -3.089824914932251, -9.019614219665527, 2.889892578125, 2.8183796405792236, 8.740324974060059, 1.6845370531082153, 4.049015998840332, -2.5451741218566895, 10.060463905334473, 10.41419506072998, 7.388375759124756, -8.466238975524902, 7.398860931396484, 4.168457508087158, -8.61241340637207, 5.146703720092773, -8.78612232208252, -2.1006157398223877, -4.854013442993164, -4.229205131530762, 10.442005157470703, 2.573739528656006, 5.168371200561523, 0.806686282157898, -15.243907928466797, 3.6905908584594727, -7.526579856872559, 10.31913948059082, 9.464960098266602, -8.957456588745117, 2.5644948482513428, 9.614097595214844, 1.0118316411972046, 8.425695419311523, -8.96040153503418, -15.17454719543457, -2.0930628776550293, 10.761469841003418, -13.402053833007812, -4.16271448135376, 0.538878858089447, -9.012455940246582, -8.29107666015625, -6.398519039154053, 2.3477673530578613, 5.9100341796875, 3.413728952407837, 9.053144454956055, -3.764343500137329, -10.026274681091309, 3.102654218673706, -9.098849296569824, 2.0647318363189697, -2.9596688747406006, 2.2327880859375, 7.398398399353027, 2.21171236038208, -4.137738227844238, -9.745980262756348, -9.26770305633545, 5.816743850708008, -0.13053472340106964, -1.9690020084381104, -8.089637756347656, 2.847503185272217, 2.4347784519195557, -0.6048174500465393, 2.8789713382720947, 3.9038093090057373, -0.6046802997589111, 4.9776411056518555, 6.256008625030518, -4.4279046058654785, -3.669038772583008, -6.839771747589111, 2.3217406272888184, -3.5240976810455322, 5.765242099761963, 11.06392765045166, -12.23277473449707, -5.942928314208984, 2.7284128665924072, -1.0692393779754639, -8.796525001525879, -9.250741958618164, 0.9563848376274109, -5.798703193664551, 2.7094621658325195, -2.648143768310547, -1.3829491138458252, -6.52078104019165, -8.775009155273438, 10.854813575744629, 3.3381426334381104, 2.347768545150757, 11.219335556030273, -6.0001678466796875, -8.130502700805664, -7.659557819366455, -1.7078893184661865, 9.549630165100098, -0.6996386647224426, 10.711946487426758, 2.786776065826416, -8.118268013000488, -7.412569999694824, 1.8833321332931519, -1.0236377716064453, 9.888964653015137, 10.515872955322266, -2.0158567428588867, 0.16418157517910004, -7.042398452758789, -3.0085794925689697, -9.738686561584473, 7.699988842010498, -8.097405433654785, 3.5598766803741455, 5.071311950683594, 8.896306037902832, -7.058430194854736, 0.9715901017189026, 3.965512990951538, 0.6482976078987122, -3.834029197692871, -4.682287693023682, 5.93482780456543, 5.118072986602783, 1.589367151260376, -3.8133864402770996, -9.17166805267334, 5.0262908935546875, 11.620869636535645, -8.045377731323242, 0.17634126543998718, -7.829648494720459, 0.41634222865104675, -10.616072654724121, 3.6953561305999756, 10.278539657592773, -1.8426800966262817], \"coloraxis\": \"coloraxis\", \"size\": 5, \"symbol\": \"circle\"}, \"mode\": \"markers\", \"name\": \"\", \"scene\": \"scene\", \"showlegend\": false, \"type\": \"scatter3d\", \"x\": [9.753113746643066, -6.087392807006836, 2.1776201725006104, -0.8337178826332092, -7.495748996734619, 4.0664544105529785, 10.928633689880371, -5.860567092895508, -13.571162223815918, -12.490520477294922, 11.103815078735352, -1.5216422080993652, -12.45880126953125, -11.161949157714844, -1.8810150623321533, 0.748877227306366, 5.527822971343994, 3.3829398155212402, 14.907137870788574, 3.2410004138946533, -13.367785453796387, 9.567161560058594, 4.765527725219727, 0.4323987662792206, -11.922089576721191, 2.6916985511779785, 7.742751121520996, 6.621381759643555, -11.896553993225098, 0.16784986853599548, 3.5072011947631836, -8.808345794677734, -0.09557054191827774, -10.068480491638184, -11.086748123168945, 5.474009990692139, 4.478944778442383, -10.86657428741455, -10.831583023071289, 5.71668004989624, 7.97710657119751, 1.3857014179229736, -8.250898361206055, -9.184856414794922, -1.0589922666549683, -10.942578315734863, -9.236715316772461, -11.828030586242676, -12.167158126831055, 3.3132598400115967, -1.4200279712677002, 9.31428050994873, 4.986100673675537, -1.3111296892166138, -1.3338295221328735, -4.752803802490234, -4.275656700134277, -4.206722259521484, 11.384490013122559, -10.069174766540527, 2.029942274093628, 5.248515605926514, -9.853297233581543, -11.030611991882324, 3.425624132156372, 3.7161006927490234, 12.077920913696289, -13.941624641418457, 1.7611968517303467, -13.686907768249512, -0.0058592213317751884, -11.88593864440918, -13.077665328979492, 4.633172988891602, -13.05476188659668, 0.9810084104537964, -12.364556312561035, 4.624415397644043, 3.6357386112213135, 9.15868854522705, -8.74824333190918, -7.803155422210693, 11.252935409545898, -0.5502675175666809, 10.472277641296387, 12.47994613647461, -4.896762371063232, -11.97042179107666, 3.5691678524017334, -8.476067543029785, -2.4747321605682373, 2.4965083599090576, 4.108738422393799, 8.127909660339355, -3.1455399990081787, -7.343856334686279, 6.968563079833984, 1.529688835144043, -6.523648738861084, -5.838225364685059, -13.632343292236328, 5.157133102416992, 10.143197059631348, 8.577444076538086, -7.2053704261779785, 10.31515121459961, 5.7165374755859375, -6.508213996887207, 7.133282661437988, 7.063294410705566, 11.97050952911377, -12.641790390014648, -3.6920487880706787, -11.08684253692627, 0.9319553375244141, 6.852715969085693, 10.59290599822998, 4.6712327003479, 5.234216213226318, -6.126906871795654, -9.000629425048828, 3.1639246940612793, 4.673774719238281, 1.30556321144104, -13.938393592834473, 1.496047854423523, 9.479201316833496, 14.979268074035645, 10.343501091003418, -10.250956535339355, 0.8452102541923523, -3.3016064167022705, 6.079441070556641, 2.031825304031372, 1.9656178951263428, -11.266498565673828, 5.203838348388672, -3.746462106704712, 0.11028259992599487, 2.3147881031036377, 14.009906768798828, -2.0341074466705322, 10.023648262023926, -7.459525108337402, -8.361247062683105, -0.8253156542778015, -12.936346054077148, -10.64952564239502, -1.3635307550430298, -4.308928966522217, -0.8500455021858215, 1.8961683511734009, -0.5613304376602173, -12.823875427246094, 13.544031143188477, 2.008700370788574, 3.2170159816741943, 14.909771919250488, -5.577070236206055, 4.375072002410889, -10.608037948608398, 0.19606275856494904, -3.6988115310668945, -10.731731414794922, -0.6793456077575684, -10.892729759216309, 7.534538745880127, 10.584000587463379, -6.451715469360352, 3.109623432159424, 0.9890731573104858, -12.324138641357422, 6.6463751792907715, 10.505236625671387, -0.6763831377029419, -1.4089678525924683, -2.862046241760254, -9.110118865966797, -2.4156105518341064, 1.4122954607009888, 0.658035933971405, 12.95409870147705, 5.568083763122559, 5.903531074523926, -6.891818046569824, 3.9260783195495605, 7.539176940917969, -5.850748538970947, 6.622824192047119, -3.6840779781341553, -4.179493427276611, -8.212810516357422, 7.190405368804932, -0.2337752729654312, -0.06194479018449783, -12.992880821228027, -13.268067359924316, -10.075101852416992, -7.259383201599121, -1.212503433227539, -6.097235679626465, -10.102655410766602, -2.545227527618408, 0.12954869866371155, -1.4761850833892822, 11.357606887817383, 8.861011505126953, -7.304065704345703, -8.398173332214355, 5.325815677642822, -9.50848388671875, -7.704820156097412, 8.728620529174805, 11.469210624694824, 9.427002906799316, 7.661674499511719, 0.08218202739953995, -0.27293941378593445, -12.339146614074707, -2.0000362396240234, 2.4397263526916504, 11.793354988098145, -0.8192778825759888, -13.053455352783203, -5.614202499389648, 6.071936130523682, -2.4661052227020264, -12.744114875793457, 10.111513137817383, -9.280013084411621, 5.233124732971191, 11.503632545471191, 3.639880418777466, -6.95149040222168, 3.647646903991699, -13.054515838623047, 10.841527938842773, -5.269214153289795, 7.451340198516846, -10.423358917236328, -10.667634010314941, -0.8101127743721008, 4.671449661254883, 2.8434791564941406, -7.24371337890625, -6.765432357788086, 12.749236106872559, -8.864751815795898, 0.8632465600967407, 10.24088191986084, -6.1684489250183105, 12.217249870300293, -11.886279106140137, -11.736105918884277, -6.362360954284668, 9.963858604431152, -1.4903316497802734, 0.1312107890844345, -11.354584693908691, 6.524291038513184, 4.691709041595459, 5.870569229125977, 13.17984390258789, -7.658844470977783, 9.11290454864502, 5.783208847045898, -8.0232515335083, -6.3949503898620605, -1.0654457807540894, -5.970966339111328, 9.050411224365234, 8.621391296386719, -10.900715827941895, -1.8488199710845947, -0.8382833003997803, -2.5031936168670654, 5.83904504776001, 5.838968753814697, 9.79249382019043, 11.818233489990234, 12.321754455566406, -3.937324285507202, -10.814098358154297, -10.844712257385254, 9.260357856750488, -7.408379077911377, -11.885936737060547, -10.268237113952637, 3.39139723777771, -11.289037704467773, 11.340361595153809, -11.882904052734375, 7.456306457519531, 12.945894241333008, -10.210029602050781, -11.956323623657227, 4.978242874145508, 5.11193323135376, 5.309515476226807, -11.0850830078125, 8.782169342041016, -1.1124073266983032, 0.16282814741134644, -8.09029483795166, 3.7405738830566406, 8.847290992736816, 4.640228748321533, -10.242218971252441, -10.729920387268066, -1.3639805316925049, -7.452744483947754, -4.699336528778076, 2.556412935256958, 6.573986530303955, 0.8362475037574768, -0.4617377519607544, 1.5841635465621948, -8.295654296875, 3.8397223949432373, 14.39562702178955, 8.86877155303955, 9.080193519592285, -10.277694702148438, 11.081515312194824, 4.7300496101379395, 8.852834701538086, 5.474004745483398, -0.3111501634120941, -5.397911548614502, -2.5655040740966797, -13.312889099121094, 3.255983352661133, 6.039642810821533, 9.516934394836426, 10.559510231018066, -1.8914554119110107, 6.821718692779541, 2.245023250579834, -3.35188627243042, -9.400636672973633, 16.56022834777832, -9.289392471313477, -1.4053280353546143, -8.830167770385742, -7.467764854431152, -8.98727035522461, 1.961960792541504, -0.03476271033287048, 0.8598883152008057, -12.639277458190918, -5.9396491050720215, 2.0305089950561523, 15.213376998901367, -3.1724963188171387, -12.819836616516113, 15.680233001708984, 2.5333402156829834, 6.950686454772949, -3.1831846237182617, 14.322783470153809, -0.5674260854721069, -0.3990495800971985, -8.76892375946045, 3.1461455821990967, -13.752184867858887, 1.733608603477478, -8.864751815795898, 1.1882203817367554, 15.243040084838867, 10.065794944763184, -6.292478561401367, 15.47340202331543, 13.19168472290039, 6.196874141693115, 3.9463658332824707, 13.894004821777344, -7.1209001541137695, 1.6660926342010498, -0.5695862174034119, -10.898666381835938, 4.12763786315918, 5.694578647613525, -0.40964654088020325, -8.230375289916992, 1.640785813331604, 2.2828826904296875, -5.045263290405273, 3.6486499309539795, -2.126887083053589, 7.589139938354492, 1.872658610343933, 14.042623519897461, 10.682503700256348, 16.92489242553711, -2.403738498687744, 1.1261496543884277, -13.898603439331055, 4.89727258682251, 4.95604133605957, -10.504364967346191, -11.073039054870605, 13.665326118469238, 7.848748207092285, 7.9882707595825195, 6.841663837432861, -9.460640907287598, -1.6997690200805664, -4.02030611038208, 3.9727470874786377, 10.12212085723877, 7.092307090759277, 16.059907913208008, 16.763872146606445, -5.253926753997803, 11.980567932128906, 13.169724464416504, 14.851458549499512, -11.416240692138672, 0.6949278712272644, 8.422233581542969, 15.181721687316895, -2.073298692703247, 11.420344352722168, -7.898844242095947, 11.354536056518555, 9.309012413024902, 5.9566144943237305, -10.8020601272583, -2.9618618488311768, 0.13767562806606293, -8.526837348937988, 2.0863826274871826, 3.191653251647949, -8.271757125854492, 8.404522895812988, -5.377807140350342, -4.242630958557129, 10.746095657348633, -6.544412612915039, 9.402386665344238, -12.3180513381958, -2.3834211826324463, -9.212124824523926, -8.49351692199707, 3.5244436264038086, 7.800926685333252, 9.977828979492188, 7.0446038246154785, -4.726129531860352, 6.982107162475586, -12.434322357177734, -11.928901672363281, -4.361971378326416, 1.418562412261963, -5.044021129608154, 10.750292778015137, -4.791879653930664, 9.253765106201172, 1.2342549562454224, -10.447093963623047, 1.855298399925232, -0.6060175895690918, -8.2269926071167, -4.178891181945801, 1.916590690612793, 7.855474472045898, -1.7120665311813354, 7.71235466003418, 6.029235363006592, -11.825721740722656, -6.062007427215576, 0.24249956011772156, -7.333761692047119, 3.748548984527588, -6.649175643920898, 3.9355430603027344, -0.41131576895713806, -0.9470212459564209, 9.235208511352539, -13.759618759155273, -11.824647903442383, 7.600003719329834, 2.819751262664795, 4.979148864746094, 9.605568885803223, -7.289146900177002, 3.6189165115356445, 8.995550155639648, 16.97724723815918, -6.9813313484191895, -8.622471809387207, -11.8040771484375, -13.549266815185547, 9.306136131286621, -4.82601261138916, -9.070220947265625, -8.334728240966797, -12.731030464172363, -12.477256774902344, 8.97653865814209, -2.338654041290283, -10.559599876403809, 7.7977705001831055, 4.910958766937256, -10.176427841186523, 8.838698387145996, -0.8181264400482178, 0.3101338744163513, -1.772117018699646, 2.0664496421813965, 7.7985148429870605, 0.10393655300140381, 1.5143444538116455, 6.506270408630371, -7.594399929046631, -10.043391227722168, -12.347420692443848, 6.6153764724731445, 0.5036903023719788, 0.8508173823356628, 9.360429763793945, -7.423185348510742, -6.64084005355835, 13.853179931640625, -0.5057531595230103, -10.5792236328125, -10.945619583129883, 13.516182899475098, -0.851822018623352, 7.39441442489624, 8.464865684509277, -1.715926170349121, -2.6271002292633057, 8.923900604248047, -0.8922698497772217, 5.70903205871582, 3.2514772415161133, -11.70323371887207, -10.890155792236328, -0.9437001347541809, 4.232187747955322, -8.672205924987793, -13.310689926147461, -3.24282169342041, 4.17817497253418, 4.3734612464904785, 9.596939086914062, 0.5745747685432434, 7.725523948669434, 12.759138107299805, -12.782214164733887, -5.377805233001709, -12.1190185546875, -13.466440200805664, -11.340676307678223, 5.821243762969971, -12.033571243286133, 7.212172985076904, -2.2591447830200195, -4.827192783355713, 4.821120262145996, -7.319967746734619, -11.886098861694336, 3.2916717529296875, 0.5072581768035889, 1.5515034198760986, -6.306643962860107, 5.080492973327637, 9.255824089050293, 10.697283744812012, -4.300589084625244, -5.602144718170166, -10.626087188720703, 3.4950482845306396, 3.9619970321655273, -10.715351104736328, 15.412647247314453, -6.093951225280762, -7.498610973358154, -13.518744468688965, 0.7329971790313721, -5.014042377471924, -6.887108325958252, 4.273107528686523, 10.370248794555664, 6.441171169281006, -13.874818801879883, -0.1732233613729477, 1.041575312614441, 16.882892608642578, -1.0152688026428223, -12.586787223815918, 8.099105834960938, 6.567604064941406, 4.3153862953186035, 9.521759033203125, 10.164871215820312, 0.7198516726493835, 5.1983137130737305, -7.222017288208008, -9.541390419006348, -3.5508995056152344, 0.3840961754322052, 5.445696830749512, -2.059420108795166, -3.1498403549194336, 10.584189414978027, 10.002464294433594, -3.045938730239868, 8.170588493347168, 11.194647789001465, -6.327371597290039, 4.382376194000244, 12.111550331115723, 2.367217779159546, 1.4800437688827515, 8.143280982971191, 10.878082275390625, 16.876968383789062, -13.849534034729004, -9.276711463928223, -8.95146656036377, -0.5796501040458679, -10.024299621582031, -8.502326965332031, 8.117377281188965, -11.417572021484375, -9.886603355407715, 15.147040367126465, -3.3996500968933105, -6.093650817871094, 10.165617942810059, 0.6153596043586731, 3.324758529663086, -0.5599400997161865, 3.6883397102355957, -12.265118598937988, 4.955498218536377, -0.04273492470383644, -11.960489273071289, -10.628907203674316, -8.550934791564941, 2.058742046356201, -12.922261238098145, 7.95180606842041, -6.8275837898254395, 6.176900386810303, 16.086212158203125, 2.160762071609497, 4.023031234741211, 2.997955560684204, -0.6768585443496704, 5.298916816711426, 13.254568099975586, -5.446034908294678, 10.177680969238281, -7.82195520401001, -0.11542531847953796, 0.5095512866973877, -3.2173824310302734, 16.31378746032715, 2.0960185527801514, -1.185134768486023, -9.170381546020508, 15.662763595581055, -10.936361312866211, -8.680221557617188, 10.38254451751709, 1.3709772825241089, 0.7471908330917358, -11.40520191192627, -2.322809934616089, 4.501143932342529, 14.908890724182129, 3.483490467071533, 10.90573501586914, -4.551060676574707, -7.3571391105651855, -4.25667142868042, 16.351764678955078, -8.106306076049805, -10.102649688720703, 11.634903907775879, -1.178060531616211, 10.355247497558594, 7.571557998657227, -12.237168312072754, 3.0096840858459473, -11.820886611938477, 2.79099178314209, -4.664379596710205, 8.464685440063477, -10.301701545715332, 11.24431324005127, 0.04350081458687782, 1.6509836912155151, -12.694141387939453, -10.537796974182129, 1.9990707635879517, -8.06346607208252, 4.272064208984375, 2.190962553024292, 2.8450403213500977, -0.13968181610107422, 13.820413589477539, 0.07023555040359497, 11.269523620605469, 9.813971519470215, -0.4549649655818939, -7.7755866050720215, 7.117633819580078, -6.418361186981201, 10.796046257019043, -5.377807140350342, -12.193827629089355, 9.308733940124512, 8.973875045776367, 10.62692642211914, 6.073470592498779, 10.699597358703613, 6.533109664916992, 1.5205940008163452, 8.872658729553223, -1.9459458589553833, -7.271030902862549, -7.690916538238525, -5.892359256744385, -0.7112759947776794, 4.267867088317871, -0.028568977490067482, -1.4644845724105835, -6.191372871398926, 10.357060432434082, 6.6820454597473145, -6.826402187347412, 6.1926350593566895, -10.78238296508789, -4.3231916427612305, 13.277129173278809, 5.979697227478027, 9.690620422363281, 0.8814879059791565, -8.529350280761719, -3.5314080715179443, -7.287109851837158, 1.6301689147949219, 5.1710615158081055, -10.081696510314941, 2.0696847438812256, 13.527901649475098, -13.944808959960938, 3.4721925258636475, 0.20347021520137787, -6.1219916343688965, -10.510563850402832, -13.074817657470703, -2.5965867042541504, -7.8321733474731445, 2.9873526096343994, -7.875672340393066, -1.6495119333267212, 9.17196273803711, -0.7312815189361572, 6.92091703414917, 2.5345168113708496, -2.753721237182617, -1.634833574295044, 6.925238609313965, -6.2798752784729, 6.163300037384033, -12.040175437927246, 10.316863059997559, -0.49902307987213135, -1.617364764213562, -5.833203315734863, 0.9643719792366028, 12.068567276000977, 7.654068946838379, 0.7824161648750305, -0.47793149948120117, 2.7568020820617676, -2.990710973739624, 6.440663814544678, 6.780473709106445, 1.7570230960845947, -0.0592518113553524, -2.5467021465301514, 10.506498336791992, 6.541035175323486, 14.69896125793457, -4.753016948699951, 0.2424992173910141, -11.119400978088379, -10.053956031799316, -9.949857711791992, 2.7428512573242188, -6.146026611328125, 9.377408027648926, -3.2288804054260254, -12.31805419921875, 14.076831817626953, -8.541674613952637, -4.597926139831543, -11.175738334655762, -12.205154418945312, 14.653763771057129, 11.37723445892334, -10.541165351867676, 1.4023456573486328, 8.16324520111084, 5.707360744476318, -8.620600700378418, 6.1865153312683105, 12.366326332092285, 5.187862873077393, 4.6555256843566895, 1.8384636640548706, -0.8338366150856018, 7.6560468673706055, 6.221903324127197, -2.059326648712158, 8.681309700012207, -11.806767463684082, -13.915382385253906, 8.277585983276367, 1.2721632719039917, -0.8023489117622375, -13.47159481048584, 4.753185272216797, -0.27454689145088196, -7.29494047164917, 9.49026870727539, 2.310819625854492, 0.6267492175102234, 15.76976203918457, 0.36895906925201416, 4.786683559417725, 10.85239028930664, 0.568666934967041, 5.192691326141357, 5.160102844238281, -6.22648811340332, -10.567401885986328, -1.2595146894454956, -4.423901081085205, -0.16159816086292267, -12.375025749206543, -13.948555946350098, 4.72836446762085, -2.0057973861694336, 10.221817970275879, -9.116230010986328, 1.6954160928726196, -13.075428009033203, 8.696657180786133, 3.733839511871338, -0.9126132130622864, 4.958831310272217, -5.008120059967041, 5.316688537597656, 5.993370056152344, -8.631978988647461, 2.080432176589966, 7.299715518951416, -11.361854553222656, -12.708199501037598, -3.6546590328216553, -2.2283928394317627, 5.383650302886963, 4.113840579986572, 10.20522403717041, -0.2994691729545593, -3.395538091659546, 8.154401779174805, -13.682759284973145, -7.384183406829834, -1.836050033569336, -2.582641839981079, 0.8194863796234131, 4.727046012878418, -4.927148342132568, -0.18731173872947693, -1.2850821018218994, -7.667093276977539, 14.541292190551758, 2.8079898357391357, -9.068800926208496, -12.373170852661133, 1.6052838563919067, -12.689562797546387, -8.311491966247559, -12.094900131225586, -11.37492847442627, -13.948663711547852, 5.9883880615234375, -13.504790306091309, -4.623281002044678, 2.3338370323181152, -10.602688789367676, 16.4732608795166, 5.419273376464844, 6.297016143798828, -0.2997288703918457, -11.53343677520752, 0.49258941411972046, -9.397717475891113, -7.259676933288574, 1.6811238527297974, 1.339946985244751, 1.3509749174118042, -8.935401916503906, -8.982802391052246, 10.195415496826172, -12.496504783630371, -9.699071884155273, 3.141789436340332, 10.124624252319336, 7.202451705932617, 1.0947941541671753, 6.309610843658447, 10.547173500061035, -0.04269193857908249, 1.9958860874176025, -4.827802658081055, 15.863358497619629, 12.451923370361328, 11.48411750793457, 0.6396905183792114, -11.539916038513184, 4.2905144691467285, -11.64898681640625, 3.4455530643463135, 11.909409523010254, 3.795607328414917, 10.772911071777344, -8.015759468078613, 6.576592922210693, -0.2806030213832855, -13.504846572875977, -4.627160549163818, -5.19680643081665, -1.1517771482467651, 16.578617095947266, -10.58460807800293, 2.5003321170806885, -3.8911924362182617, 16.356733322143555, -0.24609582126140594, -8.587875366210938, -0.5660315155982971, 2.8620080947875977, 4.885921001434326, -10.651093482971191, -9.630484580993652, -10.574369430541992, 1.5088484287261963, 6.55651330947876, 13.76528549194336, 2.320840358734131, -7.04364013671875, 6.953380584716797, -8.908003807067871, -0.5040947198867798, 0.558331310749054, -0.7085517644882202, -10.433303833007812, 1.8626458644866943, 14.454675674438477, 2.138913631439209, 3.6745235919952393, -1.8305071592330933, 3.9223074913024902, -5.377804756164551, 9.937148094177246, -1.839694857597351, -9.603550910949707, 3.880002021789551, 0.6396914124488831, 11.086021423339844, 4.896535396575928, 15.021259307861328, 14.388179779052734, 3.521327257156372, -12.745055198669434, -5.470391750335693, -8.757174491882324, -1.334589958190918, 5.428979396820068, 8.629469871520996, 5.8193769454956055, -0.7851904034614563, 10.19594669342041, -8.280579566955566, -9.019369125366211, -6.293306827545166, 14.130829811096191, -2.73750638961792, 11.989033699035645, 9.834951400756836, 4.489311695098877, -11.849125862121582, -9.969610214233398, -11.62231159210205, 3.864938974380493, 1.8223317861557007, 5.691754341125488, 2.2997961044311523, 5.351110458374023, -0.6295911073684692, -7.221454620361328, -6.140681743621826, -12.434231758117676, 6.352567195892334, -1.420027256011963, -5.297444820404053, 11.473692893981934, -0.5436668992042542, -6.0794830322265625, 0.19793085753917694, 6.558191776275635, 10.885099411010742, 5.655033111572266, -11.461593627929688, -0.17147226631641388], \"y\": [7.139950752258301, 0.32495272159576416, -10.066629409790039, -6.667624473571777, 6.016322612762451, 5.320592403411865, -8.036994934082031, 2.00529146194458, 2.2887141704559326, -0.5325844287872314, -8.374238967895508, -3.9630935192108154, -0.23408642411231995, 2.3254759311676025, 1.8522173166275024, 6.036719799041748, 7.6451311111450195, -3.708188056945801, 4.021996974945068, -4.401602745056152, 4.136427402496338, 7.355744361877441, -3.8779754638671875, 1.2190568447113037, 2.169135332107544, -10.197181701660156, 0.6565501093864441, -1.8233871459960938, 3.3548734188079834, 1.2318729162216187, -6.67142915725708, 4.067154884338379, 1.253035068511963, 5.285682678222656, -1.5490792989730835, 7.5739030838012695, -6.357507705688477, -2.8083765506744385, -2.643789529800415, -13.170546531677246, 0.860117495059967, -8.21403694152832, -1.6216481924057007, -0.7907217741012573, 1.4382458925247192, -2.0319368839263916, -4.540333271026611, 4.033049583435059, 2.0827250480651855, -2.195291757583618, 2.3942995071411133, -12.062620162963867, -13.191495895385742, -8.030071258544922, 0.500618040561676, -0.2102060467004776, -1.7694276571273804, 2.4520814418792725, 5.851414203643799, 3.361748456954956, -10.0609130859375, -3.446960926055908, 5.136557102203369, 2.1971542835235596, -5.404036998748779, 5.330023765563965, 3.422473669052124, 3.1509294509887695, 4.728006839752197, 0.8728453516960144, 1.6782658100128174, 4.2930006980896, -0.3384961783885956, -8.763432502746582, 3.4518158435821533, -10.300830841064453, 3.697754144668579, 0.8124194741249084, -4.294217586517334, -10.903968811035156, -4.186190605163574, -3.3633275032043457, 6.386274814605713, -0.031408097594976425, -9.669422149658203, 5.831287860870361, -1.7527611255645752, 4.22784948348999, -3.8428843021392822, -1.7907965183258057, 4.713769435882568, -9.328437805175781, -12.6527099609375, -12.879590034484863, 2.459141969680786, 7.471195697784424, -13.126699447631836, 7.490927696228027, -0.175512433052063, 4.213047981262207, 1.500814437866211, 7.599648475646973, 6.055084705352783, -12.153008460998535, -2.414945125579834, -8.60173225402832, -5.695295333862305, 2.0610921382904053, 1.5939334630966187, -12.944147109985352, 7.448703765869141, 2.0387260913848877, -3.1524789333343506, -1.5491143465042114, 1.4651364088058472, 7.206474781036377, -9.224896430969238, -9.561370849609375, -13.189193725585938, 4.033437252044678, 2.183117628097534, -1.4779658317565918, 7.65032958984375, 7.541086196899414, -0.3616917133331299, 1.6517995595932007, 5.191971302032471, 3.1848411560058594, 6.5209431648254395, 2.285794734954834, 5.913737773895264, 3.9620699882507324, -6.876031875610352, -0.613624632358551, -5.155416488647461, 2.454026937484741, -0.4239925444126129, -2.9733052253723145, 4.512389659881592, -10.343292236328125, 1.6560133695602417, 1.2247169017791748, 7.184022426605225, -1.4122333526611328, 5.692717552185059, 3.4528005123138428, 1.9124398231506348, -2.7594974040985107, 2.335674524307251, -2.033240556716919, 1.1093851327896118, 7.502674102783203, 5.012181758880615, 2.048027515411377, 5.249015808105469, -7.310269832611084, -0.2727140188217163, 4.80588960647583, 4.74078893661499, -11.15102767944336, -0.7687914371490479, -7.525399684906006, 3.0947868824005127, 2.6247684955596924, 0.37923017144203186, 4.220317363739014, -12.437005996704102, -8.62307071685791, -0.3812808096408844, 5.009343147277832, 4.8065876960754395, 1.6209179162979126, -2.4147064685821533, -9.54659652709961, 4.412831783294678, -4.104318141937256, -3.525089740753174, 3.4297707080841064, -5.6092143058776855, -4.618775367736816, 1.327104091644287, 2.456998586654663, -5.155143737792969, -1.082233190536499, 1.8211077451705933, -7.313284397125244, -12.70147705078125, 3.893514633178711, -13.504121780395508, 2.6386024951934814, 3.6268389225006104, 1.9792604446411133, 6.742536544799805, 4.365701675415039, -7.48742151260376, 0.9518060684204102, 2.662712812423706, -1.1395199298858643, 7.1217122077941895, -8.374238014221191, 4.444096565246582, 1.7136133909225464, -5.277326583862305, -0.3689359128475189, 0.8852794170379639, -7.29794979095459, -11.103933334350586, 2.0362160205841064, -4.455275058746338, -8.103867530822754, -3.6255486011505127, 1.3726195096969604, -11.998139381408691, 4.432558059692383, 1.7361209392547607, 0.7408698201179504, -4.8375725746154785, 1.038208246231079, -1.172881841659546, 4.733981609344482, -11.1912202835083, 3.8360323905944824, 1.188730239868164, 0.004049883224070072, 1.9948850870132446, 7.756795406341553, 5.065282821655273, 1.3540362119674683, -8.997042655944824, 4.475834369659424, -13.188863754272461, 6.394067287445068, 7.328219413757324, 0.9771307706832886, -6.663668155670166, 1.924356460571289, -8.29576301574707, -1.111755609512329, -12.687739372253418, 1.8996473550796509, 3.5799996852874756, 1.1990537643432617, -13.268195152282715, -0.8356361985206604, 3.2010467052459717, 0.2730938196182251, 2.588927745819092, -3.5403506755828857, 6.330588340759277, -8.505752563476562, 0.40269890427589417, 4.609099388122559, 4.290352821350098, 2.2702202796936035, 3.6095774173736572, -8.994731903076172, -6.087249755859375, -9.289175987243652, -2.83927321434021, 5.566693305969238, -0.938659131526947, -0.8668035268783569, 4.530777454376221, 4.70556640625, -11.263298034667969, -3.844555139541626, 5.628396987915039, 5.4765191078186035, -7.364391803741455, 4.132994174957275, 7.37725305557251, 3.162198543548584, -2.3216300010681152, -6.344964981079102, 1.3176555633544922, -3.8546783924102783, -3.7156171798706055, 6.763848781585693, 6.62007474899292, 3.5750203132629395, 4.939960479736328, 4.05251932144165, -4.532805919647217, 6.1570329666137695, 5.617884635925293, -0.25193068385124207, 4.293008804321289, 1.823333740234375, -0.26303720474243164, -2.403524398803711, 6.056519031524658, 4.2609405517578125, 6.438324928283691, 2.139620780944824, 4.064188003540039, 2.717703104019165, -3.6521553993225098, 7.378722190856934, 0.7994964122772217, 3.4151129722595215, 1.4839342832565308, 1.0253074169158936, 4.610917568206787, 5.935995101928711, -12.306556701660156, 4.416265964508057, -12.52578353881836, 2.157538652420044, 3.0195822715759277, 1.7136175632476807, 0.18612931668758392, -0.8865771293640137, -11.181087493896484, -1.734693169593811, -4.968953609466553, 3.406986951828003, -5.984846591949463, -4.780089378356934, -3.0045273303985596, 2.2100751399993896, 4.268141746520996, 1.6505827903747559, -3.3720481395721436, -7.677679538726807, -0.4903640151023865, 5.337863922119141, 7.573902606964111, -5.417883396148682, -0.45833295583724976, 2.3014378547668457, 1.9009687900543213, 0.30350664258003235, -3.5212504863739014, 4.7949113845825195, -8.50142765045166, -6.079610347747803, -9.248024940490723, -5.207823276519775, 1.824623703956604, 4.158270359039307, 2.708606481552124, 2.0466067790985107, 1.5312025547027588, 4.774570465087891, -1.2402702569961548, 1.6619311571121216, 1.602628469467163, 4.633699893951416, 2.299926280975342, 4.050954341888428, -0.04898421838879585, -8.567434310913086, 4.392936706542969, -3.548190116882324, 1.7514936923980713, 4.401356220245361, -11.193860054016113, -10.47506046295166, -4.201385021209717, 3.39957857131958, 1.4013952016830444, 3.9641122817993164, 1.6618757247924805, 7.222790241241455, 1.9141168594360352, 1.774680256843567, -3.540351152420044, 7.591360569000244, 4.314855098724365, 4.649264335632324, 0.5620445013046265, 3.4132473468780518, 2.469627857208252, -13.152151107788086, -3.3289573192596436, 4.656280517578125, 4.665262222290039, -5.926176071166992, -4.548363208770752, 0.9299232959747314, 6.4268412590026855, -5.952751636505127, 1.4808398485183716, -1.2653602361679077, -7.109134197235107, -11.059861183166504, -1.4943798780441284, -2.1491360664367676, 1.2665294408798218, 1.6210548877716064, -9.54594898223877, 4.530678749084473, -8.8531494140625, 2.9075024127960205, 2.1957576274871826, -8.230992317199707, 0.8105478286743164, -3.488908052444458, -6.670769691467285, 7.1627278327941895, 4.278928279876709, 4.7921671867370605, 5.958767890930176, 6.216128349304199, -10.419018745422363, -4.566812038421631, 1.2105324268341064, 4.621165752410889, 6.501039505004883, -10.064866065979004, 6.901997089385986, 3.536663770675659, 2.794891357421875, 5.663755893707275, 6.267467498779297, 5.40415620803833, 5.143873691558838, 1.9610768556594849, 5.44326639175415, -12.685009002685547, 2.6887731552124023, 3.8088486194610596, -7.115952491760254, 3.1721320152282715, -7.581909656524658, 7.10936164855957, 7.225412368774414, 1.9795962572097778, -3.633641242980957, 1.2645466327667236, 2.932922840118408, -12.592612266540527, -0.8493691682815552, 3.9105827808380127, -11.940319061279297, 4.103443622589111, -1.8779728412628174, 3.762261390686035, 2.2505345344543457, 4.813239097595215, 2.4891130924224854, -4.333909034729004, 4.392579555511475, 3.93595814704895, -0.8113039135932922, -12.463373184204102, -8.54262924194336, 7.657050609588623, 4.018045425415039, -10.362454414367676, 0.19950972497463226, 3.362161636352539, -2.0392348766326904, -4.928468704223633, 1.9298789501190186, -8.284078598022461, -0.6508069038391113, 1.7361623048782349, 1.855249047279358, 1.9066414833068848, 1.6148107051849365, 1.5499542951583862, -2.6175479888916016, -2.589569091796875, 5.147302627563477, 7.124205112457275, -6.048937797546387, -9.626849174499512, -7.093027114868164, 2.4422082901000977, 3.9948668479919434, -5.84775972366333, -0.47664058208465576, -3.20864200592041, 6.590877532958984, 7.359933376312256, 1.2038180828094482, -8.004980087280273, 2.2565693855285645, 1.29954195022583, 2.187718152999878, 5.983383655548096, 0.9073485732078552, -9.525449752807617, 5.581264019012451, 7.417791366577148, -6.659341335296631, -11.904745101928711, 2.4376206398010254, -2.66361665725708, -3.3214282989501953, 2.381561517715454, 2.28342604637146, -11.118523597717285, 0.2562067210674286, 3.4086999893188477, 3.7952170372009277, 1.8953694105148315, 3.0661392211914062, 1.5884300470352173, 3.926976442337036, 6.136837959289551, -12.778380393981934, 7.453408718109131, -3.075800895690918, 3.111239433288574, 1.1007872819900513, 4.09947395324707, -4.343694686889648, -10.145687103271484, -12.545238494873047, 1.5379960536956787, 1.620498538017273, 1.043939471244812, 1.7916587591171265, -4.411596775054932, 4.099618434906006, -2.8047125339508057, -0.5044520497322083, 1.6496964693069458, -10.818373680114746, 5.211787700653076, 3.2157092094421387, 3.1139023303985596, 3.2030603885650635, 6.498425483703613, 2.437483310699463, 5.207759857177734, 3.388554334640503, 7.986403465270996, 7.5709052085876465, -6.69700813293457, -3.8113415241241455, -11.741929054260254, -9.014206886291504, -3.7880747318267822, 0.2824241816997528, 3.9098522663116455, 4.970484256744385, -7.707606792449951, -5.602260589599609, 1.3076446056365967, 0.8685958981513977, 3.532487630844116, -11.126408576965332, 7.513908386230469, -10.560564994812012, 6.7837748527526855, 7.764245510101318, 3.382028818130493, 2.021418333053589, 4.1034417152404785, 2.4926235675811768, 3.543210029602051, 2.4554860591888428, -5.7343831062316895, -1.6051127910614014, 6.452496528625488, -6.1210455894470215, 0.4577709436416626, 6.500912666320801, -1.8077569007873535, 4.293158054351807, -6.688416957855225, 4.486943244934082, 1.617401123046875, 0.4279034435749054, -13.21129322052002, 5.034157752990723, -9.173596382141113, 2.233506917953491, 3.803143262863159, 2.7109415531158447, -12.154614448547363, -3.3625552654266357, 6.459900856018066, 4.4922285079956055, 4.776172637939453, 2.013666868209839, 2.9004807472229004, 1.408808708190918, -0.943670928478241, 2.9567723274230957, -8.783257484436035, -9.1897611618042, -9.742372512817383, 0.9021481275558472, 2.040191411972046, 7.909405708312988, 2.3830668926239014, 3.0270917415618896, 2.86588716506958, -12.913592338562012, -0.6191735863685608, -11.071907043457031, 4.7415242195129395, -8.810745239257812, -7.951592445373535, -6.487179756164551, 1.4750910997390747, 4.063852787017822, -3.360973834991455, -6.6264753341674805, -13.086073875427246, 5.007513046264648, 2.098984956741333, 7.896803379058838, -9.596230506896973, 2.5173332691192627, -10.573001861572266, 7.030451774597168, 0.6904458999633789, 7.620676040649414, 6.374054431915283, 2.4500460624694824, 5.168635845184326, -10.576224327087402, -9.013093948364258, 2.6462035179138184, 0.03080604039132595, -3.999906539916992, 2.583040714263916, 2.0510969161987305, 3.98549222946167, 4.430741786956787, 0.8234104514122009, -4.711330413818359, 1.6010727882385254, 4.960219383239746, 2.6218249797821045, 6.22490930557251, -10.809318542480469, 4.886692523956299, 5.913483619689941, -7.212972640991211, 5.354685306549072, 4.203146934509277, -6.728272438049316, -0.19897443056106567, 2.0985465049743652, -3.571413040161133, -4.681215286254883, -12.545188903808594, 2.0966379642486572, -12.407547950744629, 1.866075873374939, -4.431931495666504, 3.814384937286377, 5.811148643493652, 5.6402788162231445, -6.095959663391113, -5.757540225982666, 6.4572834968566895, 3.7718493938446045, 1.9430934190750122, 5.904723167419434, -1.615775465965271, 2.4407293796539307, 6.284154415130615, 2.217521905899048, 3.080629348754883, -8.415653228759766, -5.863162040710449, 3.327908992767334, 4.41950798034668, 1.9427682161331177, 4.534989356994629, -8.775527954101562, 4.7405548095703125, 1.4132623672485352, -1.9707233905792236, 4.319121360778809, 6.5181660652160645, 1.9792053699493408, -6.907453536987305, -7.974197864532471, 2.2288246154785156, 2.0674993991851807, 4.307605266571045, 3.112076997756958, 4.052052021026611, 1.713588833808899, 2.639066696166992, 2.267266273498535, -8.485529899597168, 1.592668056488037, 0.9610821604728699, -6.711484432220459, 3.7659246921539307, 6.466271877288818, -1.9739772081375122, 7.380151748657227, 0.5986816883087158, -8.785654067993164, 4.473391532897949, 1.6193748712539673, 1.7826675176620483, 4.01932430267334, 7.322539806365967, 1.7982138395309448, -3.4916324615478516, -11.40164566040039, -4.433053970336914, 3.8143956661224365, 2.4800069332122803, -4.9980387687683105, -7.459352970123291, 5.500039577484131, 5.117180347442627, 3.0712153911590576, 6.480193138122559, -0.4855737090110779, 7.594816207885742, 4.1034440994262695, 2.1130166053771973, -11.10109806060791, 4.976711750030518, 4.434484481811523, -6.278611183166504, 5.556194305419922, -13.188241004943848, -9.699650764465332, -11.405532836914062, 2.7815864086151123, -1.664119839668274, 6.113265037536621, 3.5794265270233154, 3.909947395324707, 6.752751350402832, -7.438166618347168, 1.5108891725540161, 6.079423427581787, -8.13973331451416, -13.078343391418457, 0.9157704710960388, 7.674997806549072, 6.1895928382873535, -2.430835723876953, 3.2705531120300293, 7.700140476226807, 5.486021041870117, 1.5417625904083252, 4.220215797424316, 2.1431772708892822, -2.8481242656707764, -8.404613494873047, -7.246500015258789, 4.044426918029785, 5.779534339904785, 2.253284215927124, -0.3586699962615967, -12.115520477294922, -6.204123497009277, 2.1377809047698975, -1.0697513818740845, 3.31854510307312, 4.128396987915039, 6.050350666046143, -11.283164024353027, 2.3785367012023926, 1.4141159057617188, -10.918036460876465, 0.6874275803565979, -12.91910457611084, -3.8560409545898438, -3.1696667671203613, 0.7870967388153076, 1.649852991104126, 3.7123255729675293, 5.989035129547119, -1.640786051750183, -8.254416465759277, -0.0284627303481102, -7.466503620147705, 4.363125801086426, -9.62691879272461, 5.404188632965088, -12.75908088684082, -5.491840839385986, 3.606119155883789, -6.529141426086426, -3.75246524810791, -2.141920804977417, -13.17130184173584, 5.525320053100586, 1.1878571510314941, 2.3427271842956543, -8.44124984741211, -2.9425153732299805, 2.589017868041992, -0.3299160599708557, -5.847760200500488, -0.6414539217948914, -2.981933116912842, -4.310151100158691, -11.292354583740234, 6.147082328796387, 1.8362892866134644, -3.615790367126465, 2.4890761375427246, 1.775541067123413, 4.1599297523498535, 2.1910972595214844, 4.246314525604248, 0.5460793972015381, 4.576181888580322, 5.405325412750244, -0.796782374382019, -11.098691940307617, 5.5782389640808105, -9.720139503479004, 4.179717540740967, 6.63249397277832, 3.05043625831604, -13.51607894897461, -10.943859100341797, 0.40946903824806213, 1.8461850881576538, 7.487719535827637, -13.260334968566895, -6.308770179748535, -10.89213752746582, -2.4413251876831055, 0.5148191452026367, -12.281895637512207, -6.491194725036621, 3.609867572784424, 2.48002290725708, -8.703922271728516, -5.493926048278809, 0.003172696568071842, -10.750730514526367, -5.442976474761963, 4.849195957183838, 4.583198070526123, 3.39682936668396, 1.1840944290161133, -8.452953338623047, -8.85621452331543, -12.000321388244629, -3.2053139209747314, 6.051251411437988, -2.3095130920410156, 1.5592042207717896, -1.4850623607635498, -7.515988826751709, 3.575007438659668, -0.6544426679611206, 7.955376625061035, 0.7635955810546875, -9.481451988220215, -3.1724255084991455, -8.359040260314941, 1.964572787284851, 3.073423147201538, 0.8857011795043945, 1.3326281309127808, 7.443802356719971, 3.917964220046997, -8.2318754196167, 6.098082065582275, 4.653250694274902, -10.299906730651855, -10.615965843200684, 2.0674636363983154, 0.055100128054618835, 2.6308400630950928, 1.691612720489502, -13.451667785644531, 7.335051536560059, -9.448356628417969, 1.076892375946045, 3.6299057006835938, -11.002567291259766, 1.4516421556472778, -0.23425845801830292, -8.232161521911621, 3.9584758281707764, 7.060229301452637, -8.568695068359375, -0.7039238214492798, 3.582374095916748, 1.392899751663208, 1.834725022315979, 4.150459289550781, -11.398029327392578, 4.752047061920166, 3.0850770473480225, -6.445073127746582, 2.659907102584839, 2.595186471939087, 0.8385603427886963, -4.688997268676758, -0.44143009185791016, 6.661759376525879, 2.9318814277648926, -1.9725974798202515, 7.283688545227051, 5.551724910736084, 2.811647891998291, -3.8616788387298584, 0.9964425563812256, 2.931450605392456, -2.386418581008911, -8.456589698791504, 4.655848503112793, 5.01029109954834, 1.9253885746002197, -11.569994926452637, 5.043176174163818, -0.7360311150550842, 1.7841840982437134, 5.77966833114624, 2.4146041870117188, 1.9198803901672363, -8.0075044631958, -9.825624465942383, 7.568933010101318, 1.6002970933914185, -4.110172748565674, -8.013790130615234, 0.968082070350647, -0.31337180733680725, 3.3486390113830566, 3.4239752292633057, 4.338909149169922, 2.2097811698913574, -7.165786266326904, 4.224674701690674, -13.138903617858887, 3.005613088607788, -0.05630461871623993, 6.40919303894043, -12.381974220275879, 5.724625587463379, 5.828071594238281, -2.806627035140991, -5.997184753417969, 2.9320449829101562, -0.6481820344924927, 2.0269665718078613, 2.4830148220062256, 3.2897114753723145, 5.683152675628662, -4.546011924743652, 4.593277931213379, 2.007200002670288, -8.828861236572266, 4.053524494171143, -7.239950656890869, -11.492877006530762, -12.921483993530273, 2.122699737548828, 4.076573371887207, 6.596920013427734, 1.0290578603744507, -1.538544774055481, 1.9551995992660522, -10.985075950622559, 1.8131698369979858, -14.084977149963379, -4.9080610275268555, 0.9791909456253052, 4.1965861320495605, -7.4171576499938965, 2.4096827507019043, 7.636634349822998, 4.457586288452148, -12.569658279418945, 6.92960786819458, -6.610149383544922, -2.353835344314575, 4.103443145751953, 3.5346884727478027, 1.7187912464141846, -2.383164644241333, -12.534004211425781, -7.165787220001221, -8.434670448303223, 6.4149861335754395, 2.8594653606414795, 2.6461539268493652, -3.4994606971740723, 2.1886136531829834, 5.046126842498779, -4.739266395568848, -6.917662620544434, 8.141834259033203, 5.005216121673584, -9.611489295959473, -5.663405418395996, -10.017833709716797, -2.067887306213379, 2.0411174297332764, 5.763759613037109, 2.003643274307251, 3.8990848064422607, 5.991567134857178, -10.218174934387207, 7.459291458129883, 3.3301854133605957, 5.0473151206970215, 3.0951192378997803, 7.022577285766602, -6.5802321434021, -13.180721282958984, -6.107631206512451, -0.9346686005592346, 3.6090903282165527, 1.5873759984970093, 0.15970253944396973, 2.027543306350708, -1.2011198997497559, 2.394299268722534, -1.2949260473251343, -7.508564472198486, -0.03942052647471428, 6.188796043395996, 7.305228233337402, -7.522927284240723, 7.733474254608154, -12.962838172912598, 0.06279725581407547, -4.742442607879639], \"z\": [-9.821986198425293, 4.376723766326904, 1.904742956161499, -0.5818251967430115, 2.171926259994507, -5.344897270202637, 11.46579647064209, -4.284012317657471, 7.739428997039795, 9.8646821975708, 11.255568504333496, 1.3318586349487305, 9.879883766174316, 10.228157997131348, -8.581866264343262, -7.751824855804443, -8.676362037658691, -1.494596242904663, -9.067350387573242, -0.8244934678077698, 7.425113201141357, -9.883650779724121, -1.9016079902648926, -14.296485900878906, 1.0491666793823242, 1.9175223112106323, -4.925706386566162, -3.5258841514587402, 3.754142999649048, -14.019309997558594, 0.35618042945861816, 3.136472225189209, -13.835718154907227, 4.887351036071777, 10.543059349060059, -7.656593322753906, -0.04860898107290268, 10.824085235595703, 10.85457992553711, 3.394240140914917, -5.059901714324951, 1.8518387079238892, 10.377251625061035, 10.395127296447754, -10.918310165405273, 11.081134796142578, 10.99889087677002, 5.316309928894043, 1.181816577911377, -2.6107468605041504, -9.171667098999023, 4.992837905883789, 4.139266490936279, 1.6335786581039429, -8.337984085083008, 1.8156224489212036, 3.0044636726379395, -4.644957542419434, -9.448805809020996, 8.39295768737793, 2.0933845043182373, -2.420546054840088, 4.920722484588623, -0.5001614689826965, -0.24475599825382233, -5.460596561431885, -7.317522048950195, 7.153228759765625, -6.0226521492004395, 7.897843837738037, -13.871953010559082, 7.016570091247559, 9.212230682373047, 1.1168341636657715, 6.53216028213501, 3.0065906047821045, 8.433235168457031, -4.565250396728516, -1.0645254850387573, 5.749624252319336, 10.956969261169434, 10.6200532913208, -9.816929817199707, -7.9300971031188965, 9.19818115234375, -9.72716999053955, 4.591224670410156, 5.9889326095581055, -2.3836662769317627, 10.506293296813965, -3.0751852989196777, 1.6365413665771484, 3.421144485473633, 5.314750671386719, -1.25974440574646, 2.3659255504608154, 5.460315227508545, -8.557583808898926, 6.748600959777832, 0.17881034314632416, 5.082942008972168, -7.401253700256348, -9.204621315002441, 6.190266132354736, 10.176739692687988, 8.600418090820312, -0.8283774256706238, -3.920145034790039, -5.246232032775879, 4.429940223693848, -10.771821975708008, 2.041273593902588, 3.3093013763427734, 10.543074607849121, -14.996509552001953, -8.52137279510498, 10.234601020812988, 1.5794273614883423, 4.216531276702881, 0.46223780512809753, 9.131708145141602, -2.9821019172668457, -8.396769523620605, -8.43224048614502, 7.386050224304199, -15.647161483764648, -8.05812931060791, -8.38371467590332, -9.61366081237793, -1.0211769342422485, -7.484530448913574, -2.5945920944213867, -0.07306667417287827, -4.305678367614746, 0.5126892924308777, -0.957116425037384, -4.087117671966553, 3.280923366546631, -4.417938709259033, 3.4289615154266357, -6.751660346984863, -8.132152557373047, -9.985525131225586, 9.824525833129883, 1.9481732845306396, -7.584771633148193, 2.4901411533355713, 10.845186233520508, -9.434969902038574, 3.450835704803467, -12.397486686706543, -8.728178977966309, -4.289560317993164, 2.5513012409210205, -9.59997272491455, 1.1112611293792725, -3.615718126296997, -9.79747200012207, -0.7438272833824158, 2.378866195678711, 10.542444229125977, -0.5116055607795715, -2.8682138919830322, 0.1788478046655655, -12.69796085357666, 6.22958517074585, 5.274174213409424, 7.64725399017334, 6.819993495941162, -5.243457794189453, -7.17394495010376, 9.838117599487305, -3.199836254119873, 9.236328125, -4.770757675170898, 1.386628270149231, 2.2470946311950684, 0.24822857975959778, 2.7766058444976807, 0.27707579731941223, -14.600398063659668, -6.857494354248047, -1.1725307703018188, -3.8081483840942383, -3.587851047515869, 0.497191846370697, 5.383690357208252, 1.6521730422973633, 3.5370335578918457, -1.203284502029419, -2.198711395263672, -2.648883819580078, -8.211334228515625, -5.006320476531982, -0.7298411726951599, 9.448493957519531, 8.09121322631836, 10.280454635620117, 2.092439889907837, 2.879246473312378, 0.30672404170036316, 9.841212272644043, 2.8137307167053223, -8.646293640136719, -9.653371810913086, 11.708946228027344, 5.213251113891602, -3.2771503925323486, 10.956210136413574, 0.7228707671165466, 10.967177391052246, -3.3473124504089355, 5.57430362701416, -7.981307029724121, -5.731340408325195, -4.951132297515869, -1.6312947273254395, -12.674466133117676, 10.066906929016113, -3.471524477005005, 2.260164737701416, -7.547539234161377, -12.4841890335083, 9.270548820495605, -4.435578346252441, -8.664063453674316, -2.951700210571289, 9.958291053771973, 9.932860374450684, 3.7956483364105225, 4.2164998054504395, -9.91219711303711, -8.551527976989746, 6.210831165313721, 0.2714961767196655, 2.9320597648620605, 10.267914772033691, 4.678247451782227, 5.510822296142578, -0.7928116917610168, 8.575477600097656, -12.503410339355469, 3.4669039249420166, -3.213043689727783, -2.410897970199585, 6.7385711669921875, -6.928330898284912, 10.904425621032715, -7.735121250152588, 10.32835578918457, 4.633546352386475, -8.452656745910645, 7.016668796539307, 0.5877298712730408, 0.0641561895608902, 8.873449325561523, 0.15518656373023987, 2.8716776371002197, 10.502106666564941, -5.737922191619873, -3.6834397315979004, -3.875197410583496, -8.767682075500488, 3.0763423442840576, 5.799404144287109, -2.1890335083007812, 2.4246151447296143, 0.32223963737487793, 2.7815065383911133, -0.3137196898460388, -9.70054817199707, -7.3445048332214355, 10.734033584594727, 0.7655341625213623, -11.760086059570312, 1.4268244504928589, -2.285381317138672, -6.754032135009766, -9.482117652893066, -7.3629021644592285, -8.817933082580566, -2.0881307125091553, 10.642231941223145, 6.031033992767334, -8.76616382598877, 8.836949348449707, 7.01658821105957, -0.7379680275917053, -3.6692655086517334, 11.086191177368164, -9.600984573364258, 5.929666042327881, -7.979889869689941, -6.830782890319824, 6.379591941833496, 9.321762084960938, -2.1413960456848145, -9.255566596984863, -4.619433879852295, 8.634200096130371, -5.489502906799316, -10.862405776977539, -5.719909191131592, 2.3508222103118896, 3.062725782394409, -7.195696830749512, 3.805436849594116, -0.8005865812301636, 9.09454345703125, -9.975791931152344, 8.474820137023926, 2.7720468044281006, 2.27738356590271, -3.5653645992279053, 0.7802199125289917, -4.220641136169434, 1.49446439743042, 11.045628547668457, -2.1892266273498535, -7.291240215301514, -7.320724010467529, -5.628731727600098, 10.937317848205566, 11.680039405822754, -4.633445739746094, -8.168169975280762, -7.6565961837768555, -1.2342286109924316, 4.075287342071533, -6.976207256317139, 4.446735382080078, -3.917581558227539, -2.444031238555908, -7.1195387840271, 10.62053394317627, 0.7198392152786255, 2.0515363216400146, 0.20608407258987427, -6.467381954193115, 4.135232925415039, -8.75460433959961, -1.75019371509552, -9.892985343933105, 2.7012317180633545, 9.707263946533203, -1.8398877382278442, -16.546146392822266, -4.75312614440918, -4.302685737609863, 8.222006797790527, 4.924020767211914, 1.514891266822815, -9.555815696716309, 2.847080707550049, 10.312097549438477, -9.796095848083496, 2.37697434425354, 2.961191415786743, 3.122211456298828, -8.26648235321045, -12.99459457397461, -4.9527997970581055, 9.49179744720459, -8.488371849060059, 6.310659885406494, -15.742791175842285, 10.904425621032715, -8.538755416870117, -9.475515365600586, -7.5344462394714355, 4.684020042419434, -8.814164161682129, -6.962133407592773, 4.571829319000244, -2.032508134841919, -9.188325881958008, 3.065004587173462, 0.7606678009033203, 1.475504755973816, 10.147472381591797, -6.154758930206299, -0.644523024559021, -12.527027130126953, 10.234107971191406, 0.9094171524047852, 2.6062018871307373, 4.623018741607666, -2.7042500972747803, -8.062586784362793, -5.340563774108887, 1.9262466430664062, -9.130764961242676, 10.245133399963379, -9.1220121383667, -7.302380084991455, 2.0699045658111572, 6.617937088012695, -2.227722644805908, -0.012958807870745659, 6.070241451263428, 6.955970287322998, -9.214177131652832, -7.849707126617432, -8.425861358642578, 2.861435651779175, 10.97919750213623, -9.40908432006836, -1.8271117210388184, -6.461301803588867, 8.572970390319824, -8.222235679626465, -9.210041999816895, -8.931303977966309, -0.7487865090370178, -9.937599182128906, -9.600118637084961, -10.087814331054688, 0.4979289174079895, -8.017722129821777, 5.357004642486572, -8.066555976867676, -3.4823904037475586, 11.671856880187988, 4.657411098480225, 11.649779319763184, -9.63422966003418, -7.482410430908203, -0.1876826286315918, 2.541604518890381, -13.615986824035645, 8.247066497802734, 0.8514528870582581, -3.3456060886383057, 1.5626693964004517, 5.057426929473877, -1.3829492330551147, 3.091249942779541, -7.1195878982543945, -3.7209155559539795, -7.294308662414551, 2.2057197093963623, 2.487279176712036, 3.27606463432312, 1.3220545053482056, -3.4119608402252197, 5.390914440155029, 9.95522403717041, -8.929027557373047, -1.6944756507873535, 2.9138174057006836, 9.896089553833008, 8.758106231689453, 3.5352816581726074, 0.3625028729438782, -4.391294479370117, 9.902067184448242, 2.648186206817627, -5.706223964691162, -4.3221964836120605, -0.9956083297729492, -16.34099006652832, -12.403802871704102, 10.617499351501465, 3.8200862407684326, -6.594415664672852, -8.98857593536377, 0.3641999661922455, 3.0481879711151123, 0.08190777897834778, 9.975172996520996, 0.2081652730703354, 1.8841859102249146, 8.928165435791016, -2.020214319229126, 1.0385328531265259, -7.837578773498535, -13.293015480041504, 2.8186354637145996, -5.996082305908203, 5.509555339813232, 1.0826891660690308, -7.604862213134766, -4.133431434631348, 1.5991727113723755, -8.55500602722168, 2.28080677986145, 0.2844173312187195, 6.424838542938232, -8.752963066101074, 10.214574813842773, 10.830330848693848, 9.428651809692383, 7.857160568237305, 6.772775650024414, 0.8903250694274902, 0.32507121562957764, 2.843933582305908, 9.648828506469727, 8.665088653564453, -5.575868606567383, -2.994140625, 5.366272926330566, 5.251441478729248, -7.568805694580078, 10.973708152770996, -7.013207912445068, -11.765713691711426, -5.7752156257629395, 2.2026331424713135, 2.334599733352661, 4.693405628204346, -14.001696586608887, -15.762803077697754, -4.9000563621521, -3.1492466926574707, 10.864824295043945, 6.63672399520874, -2.967771291732788, -8.997097969055176, -14.929666519165039, 6.219703197479248, 2.813802480697632, 4.269056797027588, -7.811186790466309, -5.29467248916626, 5.551732063293457, -1.2295476198196411, -9.552490234375, -8.10605239868164, -9.345468521118164, -9.585551261901855, 2.723184585571289, 1.5524426698684692, 6.477614879608154, 3.1108126640319824, -2.216306447982788, -3.9111340045928955, 4.9355926513671875, 5.378433704376221, 2.7821121215820312, -0.33378535509109497, -2.036102771759033, 8.832539558410645, -2.7331888675689697, 2.3566877841949463, -8.2399320602417, 7.156501770019531, -7.848324775695801, -9.361042976379395, -7.5709404945373535, 2.3358819484710693, -1.3829481601715088, 1.9269887208938599, 7.108861446380615, 0.12846174836158752, -0.8308520317077637, 10.248502731323242, -9.855531692504883, 2.7218565940856934, 0.5201942920684814, -6.012244701385498, 9.961385726928711, 7.01664400100708, 0.5060361623764038, -5.900092124938965, -15.833063125610352, 5.185702800750732, 3.7672951221466064, -7.676200866699219, 9.35047721862793, -5.179523468017578, 1.2735751867294312, 9.33214282989502, 2.948678731918335, -2.005903482437134, 6.036107540130615, -9.747970581054688, 0.28229713439941406, -3.113375663757324, 7.432207107543945, -14.86145305633545, 3.7172577381134033, -2.6950321197509766, 1.162937045097351, 8.827737808227539, 2.227565050125122, 6.044756889343262, -13.692230224609375, -8.737898826599121, -8.65475845336914, -9.322444915771484, 4.2499823570251465, 5.49620246887207, -4.138716697692871, 2.3264660835266113, -7.683632850646973, 10.388452529907227, 2.361255168914795, -0.17387895286083221, 6.275051593780518, 5.122580051422119, 3.2227213382720947, 2.396597385406494, 3.7256200313568115, -3.2877564430236816, -6.516287326812744, -10.635826110839844, 8.329219818115234, -1.389365553855896, 4.090694427490234, -10.244525909423828, 4.218758583068848, -8.5848388671875, -10.05188274383545, -15.12700366973877, -7.495381832122803, 4.058797836303711, 9.987183570861816, -8.87291431427002, 7.534372806549072, 10.978313446044922, 8.702341079711914, -12.408538818359375, 6.757482051849365, 1.8042848110198975, -5.067439079284668, 10.390764236450195, 9.841371536254883, -10.05063247680664, -1.2728444337844849, 0.0899769589304924, 9.382955551147461, -7.319449424743652, -6.200486660003662, -0.5753970146179199, -5.481041431427002, 6.44042444229126, 0.017559736967086792, -9.0958833694458, 0.9261879324913025, 10.867194175720215, 11.032917022705078, 0.8399618268013, 3.0404915809631348, 5.872140884399414, -3.6181464195251465, -1.8477805852890015, -9.47380542755127, -7.74216365814209, -5.532902717590332, 0.18455933034420013, -0.9833366274833679, -6.014910697937012, -8.119593620300293, -4.151163578033447, -9.04806137084961, 10.187246322631836, -13.850829124450684, -7.5530571937561035, -6.338594913482666, -8.935976028442383, 1.395707368850708, -0.33164042234420776, 0.16830629110336304, -9.808146476745605, -0.2688174843788147, 2.351331949234009, 8.133932113647461, -6.442985534667969, -14.810751914978027, 10.663229942321777, -3.504652261734009, -6.1927361488342285, -7.374228477478027, 0.3900090157985687, 9.989169120788574, -4.9743332862854, -3.18729567527771, -1.7175238132476807, -8.986481666564941, 4.415075302124023, 9.841241836547852, -6.685632705688477, -9.983451843261719, 9.262752532958984, -5.3202595710754395, 9.9815092086792, 0.7007445693016052, 7.253942489624023, -7.995242595672607, 4.276690483093262, -9.479726791381836, 10.179681777954102, 10.503047943115234, -5.726600170135498, -15.999147415161133, 9.704421997070312, 5.574101448059082, -8.643243789672852, -2.760910987854004, -2.043992280960083, 2.890341281890869, -0.6008189916610718, -8.961639404296875, -7.267548084259033, -1.3373064994812012, 11.726019859313965, -10.445255279541016, -4.932350158691406, 4.074540615081787, -10.045411109924316, 6.8604044914245605, -10.489251136779785, -1.382948875427246, 1.2880066633224487, 6.211085796356201, -7.246633529663086, -7.5846991539001465, -0.5035011768341064, -8.9159574508667, 5.118344306945801, 2.2124903202056885, 6.461002826690674, -7.181879997253418, 9.859091758728027, 2.3772261142730713, 3.227264165878296, -4.643352031707764, -6.387002944946289, 2.6412367820739746, -9.734556198120117, 0.2786758542060852, 10.187113761901855, 4.004940032958984, 6.431000709533691, -8.719996452331543, 5.96517276763916, 3.9913320541381836, -7.694686412811279, -8.495871543884277, -10.486281394958496, -14.716971397399902, 3.201265335083008, -6.07158899307251, 10.332118034362793, 1.5293434858322144, 0.2541240155696869, 6.6930670738220215, -6.630478382110596, -6.968567848205566, 7.363094329833984, 2.9699363708496094, 2.145284652709961, -3.9303414821624756, 10.07921314239502, 6.591282367706299, -3.0509438514709473, 2.2376339435577393, 2.5176475048065186, -2.8374009132385254, -9.599287033081055, 5.959971904754639, -11.551763534545898, 4.198237419128418, -2.3312718868255615, 2.3334567546844482, -8.543646812438965, -5.223137855529785, 0.05874460190534592, -5.995471954345703, 10.330063819885254, 10.138814926147461, -8.530031204223633, 2.948056697845459, -0.9929401278495789, 2.6359920501708984, -9.19543743133545, 4.628750801086426, 1.0413124561309814, -8.727238655090332, -0.18647217750549316, 2.7330877780914307, -3.320145606994629, 5.3140645027160645, -7.460968971252441, -13.829215049743652, -6.86681604385376, 9.3790922164917, -2.872955560684204, -7.755856513977051, 2.014495849609375, 1.8841862678527832, 10.46984577178955, 11.035632133483887, 10.902003288269043, 2.3900668621063232, 0.04384913295507431, -5.78048038482666, 2.9242138862609863, 2.2057740688323975, -6.846531867980957, 2.778639554977417, -4.996713638305664, 5.583979606628418, 10.039548873901367, -9.455245971679688, -9.006399154663086, 10.535834312438965, 3.229041576385498, -7.594244480133057, 1.9141943454742432, 2.773803949356079, -8.382476806640625, -7.15284538269043, 3.154017210006714, 2.3029682636260986, -4.3477253913879395, -11.544904708862305, -9.159073829650879, 3.7534449100494385, 1.8027851581573486, 4.889370918273926, 10.651150703430176, 6.897700786590576, 5.630722999572754, 0.9325746297836304, -4.602501392364502, 7.746799945831299, 1.0830893516540527, -1.0568017959594727, 8.367856979370117, 6.799460411071777, 0.1963622272014618, -8.091954231262207, -10.0140380859375, -4.000553607940674, -4.690565586090088, 9.940437316894531, 2.565099000930786, 3.712402105331421, -2.4890079498291016, 0.20396006107330322, 10.933835983276367, -10.237471580505371, 2.963320732116699, -0.8788033723831177, 8.164899826049805, 7.45051383972168, -7.6801629066467285, -9.369284629821777, 9.065716743469238, 10.897907257080078, 1.4425188302993774, 3.2537460327148438, -7.270517349243164, -4.401002407073975, -11.53648567199707, -9.043404579162598, -1.3879228830337524, 0.8029066920280457, -6.04188871383667, 2.4785830974578857, 2.028672456741333, 3.300846815109253, 0.20874230563640594, 9.729119300842285, -1.1105186939239502, -7.844106674194336, 4.601927757263184, -8.014177322387695, 9.483736038208008, -12.944832801818848, -2.4577009677886963, 4.286974906921387, 5.2257914543151855, 8.784642219543457, 3.2796459197998047, -3.532137393951416, -8.111513137817383, 1.0032795667648315, 3.067885398864746, -5.177377700805664, -9.955802917480469, -3.089824914932251, -9.019614219665527, 2.889892578125, 2.8183796405792236, 8.740324974060059, 1.6845370531082153, 4.049015998840332, -2.5451741218566895, 10.060463905334473, 10.41419506072998, 7.388375759124756, -8.466238975524902, 7.398860931396484, 4.168457508087158, -8.61241340637207, 5.146703720092773, -8.78612232208252, -2.1006157398223877, -4.854013442993164, -4.229205131530762, 10.442005157470703, 2.573739528656006, 5.168371200561523, 0.806686282157898, -15.243907928466797, 3.6905908584594727, -7.526579856872559, 10.31913948059082, 9.464960098266602, -8.957456588745117, 2.5644948482513428, 9.614097595214844, 1.0118316411972046, 8.425695419311523, -8.96040153503418, -15.17454719543457, -2.0930628776550293, 10.761469841003418, -13.402053833007812, -4.16271448135376, 0.538878858089447, -9.012455940246582, -8.29107666015625, -6.398519039154053, 2.3477673530578613, 5.9100341796875, 3.413728952407837, 9.053144454956055, -3.764343500137329, -10.026274681091309, 3.102654218673706, -9.098849296569824, 2.0647318363189697, -2.9596688747406006, 2.2327880859375, 7.398398399353027, 2.21171236038208, -4.137738227844238, -9.745980262756348, -9.26770305633545, 5.816743850708008, -0.13053472340106964, -1.9690020084381104, -8.089637756347656, 2.847503185272217, 2.4347784519195557, -0.6048174500465393, 2.8789713382720947, 3.9038093090057373, -0.6046802997589111, 4.9776411056518555, 6.256008625030518, -4.4279046058654785, -3.669038772583008, -6.839771747589111, 2.3217406272888184, -3.5240976810455322, 5.765242099761963, 11.06392765045166, -12.23277473449707, -5.942928314208984, 2.7284128665924072, -1.0692393779754639, -8.796525001525879, -9.250741958618164, 0.9563848376274109, -5.798703193664551, 2.7094621658325195, -2.648143768310547, -1.3829491138458252, -6.52078104019165, -8.775009155273438, 10.854813575744629, 3.3381426334381104, 2.347768545150757, 11.219335556030273, -6.0001678466796875, -8.130502700805664, -7.659557819366455, -1.7078893184661865, 9.549630165100098, -0.6996386647224426, 10.711946487426758, 2.786776065826416, -8.118268013000488, -7.412569999694824, 1.8833321332931519, -1.0236377716064453, 9.888964653015137, 10.515872955322266, -2.0158567428588867, 0.16418157517910004, -7.042398452758789, -3.0085794925689697, -9.738686561584473, 7.699988842010498, -8.097405433654785, 3.5598766803741455, 5.071311950683594, 8.896306037902832, -7.058430194854736, 0.9715901017189026, 3.965512990951538, 0.6482976078987122, -3.834029197692871, -4.682287693023682, 5.93482780456543, 5.118072986602783, 1.589367151260376, -3.8133864402770996, -9.17166805267334, 5.0262908935546875, 11.620869636535645, -8.045377731323242, 0.17634126543998718, -7.829648494720459, 0.41634222865104675, -10.616072654724121, 3.6953561305999756, 10.278539657592773, -1.8426800966262817]}],                        {\"coloraxis\": {\"colorbar\": {\"title\": {\"text\": \"pc_3\"}}, \"colorscale\": [[0.0, \"#0d0887\"], [0.1111111111111111, \"#46039f\"], [0.2222222222222222, \"#7201a8\"], [0.3333333333333333, \"#9c179e\"], [0.4444444444444444, \"#bd3786\"], [0.5555555555555556, \"#d8576b\"], [0.6666666666666666, \"#ed7953\"], [0.7777777777777778, \"#fb9f3a\"], [0.8888888888888888, \"#fdca26\"], [1.0, \"#f0f921\"]]}, \"height\": 500, \"legend\": {\"itemclick\": \"toggleothers\", \"title\": {\"text\": \"Cluster Summaries\"}, \"tracegroupgap\": 0}, \"margin\": {\"t\": 60}, \"scene\": {\"domain\": {\"x\": [0.0, 1.0], \"y\": [0.0, 1.0]}, \"xaxis\": {\"title\": {\"text\": \"pc_1\"}}, \"yaxis\": {\"title\": {\"text\": \"pc_2\"}}, \"zaxis\": {\"title\": {\"text\": \"pc_3\"}}}, \"template\": {\"data\": {\"bar\": [{\"error_x\": {\"color\": \"#2a3f5f\"}, \"error_y\": {\"color\": \"#2a3f5f\"}, \"marker\": {\"line\": {\"color\": \"#E5ECF6\", \"width\": 0.5}}, \"type\": \"bar\"}], \"barpolar\": [{\"marker\": {\"line\": {\"color\": \"#E5ECF6\", \"width\": 0.5}}, \"type\": \"barpolar\"}], \"carpet\": [{\"aaxis\": {\"endlinecolor\": \"#2a3f5f\", \"gridcolor\": \"white\", \"linecolor\": \"white\", \"minorgridcolor\": \"white\", \"startlinecolor\": \"#2a3f5f\"}, \"baxis\": {\"endlinecolor\": \"#2a3f5f\", \"gridcolor\": \"white\", \"linecolor\": \"white\", \"minorgridcolor\": \"white\", \"startlinecolor\": \"#2a3f5f\"}, \"type\": \"carpet\"}], \"choropleth\": [{\"colorbar\": {\"outlinewidth\": 0, \"ticks\": \"\"}, \"type\": \"choropleth\"}], \"contour\": [{\"colorbar\": {\"outlinewidth\": 0, \"ticks\": \"\"}, \"colorscale\": [[0.0, \"#0d0887\"], [0.1111111111111111, \"#46039f\"], [0.2222222222222222, \"#7201a8\"], [0.3333333333333333, \"#9c179e\"], [0.4444444444444444, \"#bd3786\"], [0.5555555555555556, \"#d8576b\"], [0.6666666666666666, \"#ed7953\"], [0.7777777777777778, \"#fb9f3a\"], [0.8888888888888888, \"#fdca26\"], [1.0, \"#f0f921\"]], \"type\": \"contour\"}], \"contourcarpet\": [{\"colorbar\": {\"outlinewidth\": 0, \"ticks\": \"\"}, \"type\": \"contourcarpet\"}], \"heatmap\": [{\"colorbar\": {\"outlinewidth\": 0, \"ticks\": \"\"}, \"colorscale\": [[0.0, \"#0d0887\"], [0.1111111111111111, \"#46039f\"], [0.2222222222222222, \"#7201a8\"], [0.3333333333333333, \"#9c179e\"], [0.4444444444444444, \"#bd3786\"], [0.5555555555555556, \"#d8576b\"], [0.6666666666666666, \"#ed7953\"], [0.7777777777777778, \"#fb9f3a\"], [0.8888888888888888, \"#fdca26\"], [1.0, \"#f0f921\"]], \"type\": \"heatmap\"}], \"heatmapgl\": [{\"colorbar\": {\"outlinewidth\": 0, \"ticks\": \"\"}, \"colorscale\": [[0.0, \"#0d0887\"], [0.1111111111111111, \"#46039f\"], [0.2222222222222222, \"#7201a8\"], [0.3333333333333333, \"#9c179e\"], [0.4444444444444444, \"#bd3786\"], [0.5555555555555556, \"#d8576b\"], [0.6666666666666666, \"#ed7953\"], [0.7777777777777778, \"#fb9f3a\"], [0.8888888888888888, \"#fdca26\"], [1.0, \"#f0f921\"]], \"type\": \"heatmapgl\"}], \"histogram\": [{\"marker\": {\"colorbar\": {\"outlinewidth\": 0, \"ticks\": \"\"}}, \"type\": \"histogram\"}], \"histogram2d\": [{\"colorbar\": {\"outlinewidth\": 0, \"ticks\": \"\"}, \"colorscale\": [[0.0, \"#0d0887\"], [0.1111111111111111, \"#46039f\"], [0.2222222222222222, \"#7201a8\"], [0.3333333333333333, \"#9c179e\"], [0.4444444444444444, \"#bd3786\"], [0.5555555555555556, \"#d8576b\"], [0.6666666666666666, \"#ed7953\"], [0.7777777777777778, \"#fb9f3a\"], [0.8888888888888888, \"#fdca26\"], [1.0, \"#f0f921\"]], \"type\": \"histogram2d\"}], \"histogram2dcontour\": [{\"colorbar\": {\"outlinewidth\": 0, \"ticks\": \"\"}, \"colorscale\": [[0.0, \"#0d0887\"], [0.1111111111111111, \"#46039f\"], [0.2222222222222222, \"#7201a8\"], [0.3333333333333333, \"#9c179e\"], [0.4444444444444444, \"#bd3786\"], [0.5555555555555556, \"#d8576b\"], [0.6666666666666666, \"#ed7953\"], [0.7777777777777778, \"#fb9f3a\"], [0.8888888888888888, \"#fdca26\"], [1.0, \"#f0f921\"]], \"type\": \"histogram2dcontour\"}], \"mesh3d\": [{\"colorbar\": {\"outlinewidth\": 0, \"ticks\": \"\"}, \"type\": \"mesh3d\"}], \"parcoords\": [{\"line\": {\"colorbar\": {\"outlinewidth\": 0, \"ticks\": \"\"}}, \"type\": \"parcoords\"}], \"pie\": [{\"automargin\": true, \"type\": \"pie\"}], \"scatter\": [{\"marker\": {\"colorbar\": {\"outlinewidth\": 0, \"ticks\": \"\"}}, \"type\": \"scatter\"}], \"scatter3d\": [{\"line\": {\"colorbar\": {\"outlinewidth\": 0, \"ticks\": \"\"}}, \"marker\": {\"colorbar\": {\"outlinewidth\": 0, \"ticks\": \"\"}}, \"type\": \"scatter3d\"}], \"scattercarpet\": [{\"marker\": {\"colorbar\": {\"outlinewidth\": 0, \"ticks\": \"\"}}, \"type\": \"scattercarpet\"}], \"scattergeo\": [{\"marker\": {\"colorbar\": {\"outlinewidth\": 0, \"ticks\": \"\"}}, \"type\": \"scattergeo\"}], \"scattergl\": [{\"marker\": {\"colorbar\": {\"outlinewidth\": 0, \"ticks\": \"\"}}, \"type\": \"scattergl\"}], \"scattermapbox\": [{\"marker\": {\"colorbar\": {\"outlinewidth\": 0, \"ticks\": \"\"}}, \"type\": \"scattermapbox\"}], \"scatterpolar\": [{\"marker\": {\"colorbar\": {\"outlinewidth\": 0, \"ticks\": \"\"}}, \"type\": \"scatterpolar\"}], \"scatterpolargl\": [{\"marker\": {\"colorbar\": {\"outlinewidth\": 0, \"ticks\": \"\"}}, \"type\": \"scatterpolargl\"}], \"scatterternary\": [{\"marker\": {\"colorbar\": {\"outlinewidth\": 0, \"ticks\": \"\"}}, \"type\": \"scatterternary\"}], \"surface\": [{\"colorbar\": {\"outlinewidth\": 0, \"ticks\": \"\"}, \"colorscale\": [[0.0, \"#0d0887\"], [0.1111111111111111, \"#46039f\"], [0.2222222222222222, \"#7201a8\"], [0.3333333333333333, \"#9c179e\"], [0.4444444444444444, \"#bd3786\"], [0.5555555555555556, \"#d8576b\"], [0.6666666666666666, \"#ed7953\"], [0.7777777777777778, \"#fb9f3a\"], [0.8888888888888888, \"#fdca26\"], [1.0, \"#f0f921\"]], \"type\": \"surface\"}], \"table\": [{\"cells\": {\"fill\": {\"color\": \"#EBF0F8\"}, \"line\": {\"color\": \"white\"}}, \"header\": {\"fill\": {\"color\": \"#C8D4E3\"}, \"line\": {\"color\": \"white\"}}, \"type\": \"table\"}]}, \"layout\": {\"annotationdefaults\": {\"arrowcolor\": \"#2a3f5f\", \"arrowhead\": 0, \"arrowwidth\": 1}, \"autotypenumbers\": \"strict\", \"coloraxis\": {\"colorbar\": {\"outlinewidth\": 0, \"ticks\": \"\"}}, \"colorscale\": {\"diverging\": [[0, \"#8e0152\"], [0.1, \"#c51b7d\"], [0.2, \"#de77ae\"], [0.3, \"#f1b6da\"], [0.4, \"#fde0ef\"], [0.5, \"#f7f7f7\"], [0.6, \"#e6f5d0\"], [0.7, \"#b8e186\"], [0.8, \"#7fbc41\"], [0.9, \"#4d9221\"], [1, \"#276419\"]], \"sequential\": [[0.0, \"#0d0887\"], [0.1111111111111111, \"#46039f\"], [0.2222222222222222, \"#7201a8\"], [0.3333333333333333, \"#9c179e\"], [0.4444444444444444, \"#bd3786\"], [0.5555555555555556, \"#d8576b\"], [0.6666666666666666, \"#ed7953\"], [0.7777777777777778, \"#fb9f3a\"], [0.8888888888888888, \"#fdca26\"], [1.0, \"#f0f921\"]], \"sequentialminus\": [[0.0, \"#0d0887\"], [0.1111111111111111, \"#46039f\"], [0.2222222222222222, \"#7201a8\"], [0.3333333333333333, \"#9c179e\"], [0.4444444444444444, \"#bd3786\"], [0.5555555555555556, \"#d8576b\"], [0.6666666666666666, \"#ed7953\"], [0.7777777777777778, \"#fb9f3a\"], [0.8888888888888888, \"#fdca26\"], [1.0, \"#f0f921\"]]}, \"colorway\": [\"#636efa\", \"#EF553B\", \"#00cc96\", \"#ab63fa\", \"#FFA15A\", \"#19d3f3\", \"#FF6692\", \"#B6E880\", \"#FF97FF\", \"#FECB52\"], \"font\": {\"color\": \"#2a3f5f\"}, \"geo\": {\"bgcolor\": \"white\", \"lakecolor\": \"white\", \"landcolor\": \"#E5ECF6\", \"showlakes\": true, \"showland\": true, \"subunitcolor\": \"white\"}, \"hoverlabel\": {\"align\": \"left\"}, \"hovermode\": \"closest\", \"mapbox\": {\"style\": \"light\"}, \"paper_bgcolor\": \"white\", \"plot_bgcolor\": \"#E5ECF6\", \"polar\": {\"angularaxis\": {\"gridcolor\": \"white\", \"linecolor\": \"white\", \"ticks\": \"\"}, \"bgcolor\": \"#E5ECF6\", \"radialaxis\": {\"gridcolor\": \"white\", \"linecolor\": \"white\", \"ticks\": \"\"}}, \"scene\": {\"xaxis\": {\"backgroundcolor\": \"#E5ECF6\", \"gridcolor\": \"white\", \"gridwidth\": 2, \"linecolor\": \"white\", \"showbackground\": true, \"ticks\": \"\", \"zerolinecolor\": \"white\"}, \"yaxis\": {\"backgroundcolor\": \"#E5ECF6\", \"gridcolor\": \"white\", \"gridwidth\": 2, \"linecolor\": \"white\", \"showbackground\": true, \"ticks\": \"\", \"zerolinecolor\": \"white\"}, \"zaxis\": {\"backgroundcolor\": \"#E5ECF6\", \"gridcolor\": \"white\", \"gridwidth\": 2, \"linecolor\": \"white\", \"showbackground\": true, \"ticks\": \"\", \"zerolinecolor\": \"white\"}}, \"shapedefaults\": {\"line\": {\"color\": \"#2a3f5f\"}}, \"ternary\": {\"aaxis\": {\"gridcolor\": \"white\", \"linecolor\": \"white\", \"ticks\": \"\"}, \"baxis\": {\"gridcolor\": \"white\", \"linecolor\": \"white\", \"ticks\": \"\"}, \"bgcolor\": \"#E5ECF6\", \"caxis\": {\"gridcolor\": \"white\", \"linecolor\": \"white\", \"ticks\": \"\"}}, \"title\": {\"x\": 0.05}, \"xaxis\": {\"automargin\": true, \"gridcolor\": \"white\", \"linecolor\": \"white\", \"ticks\": \"\", \"title\": {\"standoff\": 15}, \"zerolinecolor\": \"white\", \"zerolinewidth\": 2}, \"yaxis\": {\"automargin\": true, \"gridcolor\": \"white\", \"linecolor\": \"white\", \"ticks\": \"\", \"title\": {\"standoff\": 15}, \"zerolinecolor\": \"white\", \"zerolinewidth\": 2}}}, \"title\": {\"text\": \"Projected Question Vector Manifold\"}},                        {\"responsive\": true}                    ).then(function(){\n",
       "                            \n",
       "var gd = document.getElementById('7978ba6a-bd7d-4876-8204-36372f6249aa');\n",
       "var x = new MutationObserver(function (mutations, observer) {{\n",
       "        var display = window.getComputedStyle(gd).display;\n",
       "        if (!display || display === 'none') {{\n",
       "            console.log([gd, 'removed!']);\n",
       "            Plotly.purge(gd);\n",
       "            observer.disconnect();\n",
       "        }}\n",
       "}});\n",
       "\n",
       "// Listen for the removal of the full notebook cells\n",
       "var notebookContainer = gd.closest('#notebook-container');\n",
       "if (notebookContainer) {{\n",
       "    x.observe(notebookContainer, {childList: true});\n",
       "}}\n",
       "\n",
       "// Listen for the clearing of the current output cell\n",
       "var outputEl = gd.closest('.output');\n",
       "if (outputEl) {{\n",
       "    x.observe(outputEl, {childList: true});\n",
       "}}\n",
       "\n",
       "                        })                };                });            </script>        </div>"
      ]
     },
     "metadata": {},
     "output_type": "display_data"
    }
   ],
   "source": [
    "tsne = TSNE(n_components=3, metric='cosine')\n",
    "question_proj = tsne.fit_transform(question_enc)\n",
    "\n",
    "df = pd.DataFrame({\n",
    "    'sentence': question_str,\n",
    "    'vector': [x for x in question_enc],\n",
    "    'label': labels,\n",
    "    'pc_1': question_proj[:, 0],\n",
    "    'pc_2': question_proj[:, 1],\n",
    "    'pc_3': question_proj[:, 2],\n",
    "})\n",
    "\n",
    "fig = px.scatter_3d(\n",
    "    df, x='pc_1', y='pc_2', z='pc_3', color='pc_3', \n",
    "    hover_data=['sentence'])\n",
    "fig.update_traces(marker_size=5)\n",
    "fig.update_layout(\n",
    "    title='Projected Question Vector Manifold',\n",
    "    legend={'title': 'Cluster Summaries', 'itemclick': 'toggleothers'},\n",
    "    height=500,\n",
    ")\n",
    "fig.show()"
   ]
  },
  {
   "cell_type": "markdown",
   "metadata": {},
   "source": [
    "### Cluster Summaries"
   ]
  },
  {
   "cell_type": "code",
   "execution_count": 25,
   "metadata": {},
   "outputs": [
    {
     "name": "stdout",
     "output_type": "stream",
     "text": [
      "Coarse Cluster Summaries:\n",
      "\n",
      "1. blood sugar insulin level gluco\n",
      "2. sugar blood type insulin eat\n",
      "3. diet eat food sugar good\n",
      "4. type cau two one symptom\n"
     ]
    }
   ],
   "source": [
    "# get list standard stop words and add some custom ones to this list\n",
    "stop_words = stopwords.words('english')\n",
    "extras = ['diabetes', '?', '.', '!', '<unk>']\n",
    "stop_words += extras\n",
    "\n",
    "# initialize word stemmer\n",
    "stemmer = nltk.stem.PorterStemmer()\n",
    "\n",
    "# stem stop words\n",
    "stop_words = [stemmer.stem(word) for word in stop_words]\n",
    "\n",
    "# add a summary column\n",
    "df['summary'] = None\n",
    "\n",
    "# add column for average cluster vector\n",
    "df['avg_vector'] = None\n",
    "\n",
    "# infer cluster topics\n",
    "for label in sorted(df['label'].unique()):\n",
    "    # get all samples with this label\n",
    "    samples = df[df['label'] == label]['sentence']\n",
    "    \n",
    "    # get all vectors with this label\n",
    "    vectors = np.stack(df[df['label'] == label]['vector'].to_numpy())\n",
    "    \n",
    "    # compute average vec for this cluster label\n",
    "    avg_vector = np.mean(vectors, axis=0)\n",
    "    \n",
    "    # add average vector to dataframe\n",
    "    df.loc[df['label'] == label, 'avg_vector'] = df.loc[df['label'] == label, 'avg_vector'].map(\n",
    "        lambda x: avg_vector)\n",
    "    \n",
    "    # convert samples to a list\n",
    "    samples = samples.tolist()\n",
    "    \n",
    "    # tokenize samples by whitespace\n",
    "    tokens = [[word for word in sentence.split(' ')] for sentence in samples]\n",
    "    \n",
    "    # flatten samples list\n",
    "    tokens = [inner for outer in tokens for inner in outer]\n",
    "    \n",
    "    # stem tokens\n",
    "    tokens = [stemmer.stem(token) for token in tokens]\n",
    "    \n",
    "    # filter stopwords\n",
    "    tokens = [token for token in tokens if not token in stop_words]\n",
    "    \n",
    "    # get token frequencies\n",
    "    fdist = nltk.FreqDist(tokens)\n",
    "    \n",
    "    # get summary string from 5 most frequent tokens\n",
    "    summary = ' '.join([token for token, _ in fdist.most_common(5)])\n",
    "    \n",
    "    # add summary string to dataframe\n",
    "    df.loc[df['label'] == label, 'summary'] = summary\n",
    "    \n",
    "    \n",
    "print('Coarse Cluster Summaries:\\n')\n",
    "for i, summary in enumerate(df['summary'].unique()):\n",
    "    print(f'{i+1}. {summary}')"
   ]
  },
  {
   "cell_type": "code",
   "execution_count": 26,
   "metadata": {},
   "outputs": [
    {
     "data": {
      "application/vnd.plotly.v1+json": {
       "config": {
        "plotlyServerURL": "https://plot.ly"
       },
       "data": [
        {
         "customdata": [
          [
           "blood sugar insulin level gluco",
           "lantu"
          ],
          [
           "blood sugar insulin level gluco",
           "bodi produc much insulin"
          ],
          [
           "blood sugar insulin level gluco",
           "proper aha first aid respons diabet attack"
          ],
          [
           "blood sugar insulin level gluco",
           "function clavic"
          ],
          [
           "blood sugar insulin level gluco",
           "normal protein level blood"
          ],
          [
           "blood sugar insulin level gluco",
           "medic abbrevi mean twice day"
          ],
          [
           "blood sugar insulin level gluco",
           "inject insulin best absorb via rout"
          ],
          [
           "blood sugar insulin level gluco",
           "insulin releas"
          ],
          [
           "blood sugar insulin level gluco",
           "much insulin overdos"
          ],
          [
           "blood sugar insulin level gluco",
           "test diabet"
          ],
          [
           "blood sugar insulin level gluco",
           "differ humulin insulin relion insulin"
          ],
          [
           "blood sugar insulin level gluco",
           "get insulin"
          ],
          [
           "blood sugar insulin level gluco",
           "age affect blood sugar"
          ],
          [
           "blood sugar insulin level gluco",
           "relationship mahogani seed lower blood glucos"
          ],
          [
           "blood sugar insulin level gluco",
           "insulin shock occur quickli"
          ],
          [
           "blood sugar insulin level gluco",
           "blood sugar one hundr fifti six normal"
          ],
          [
           "blood sugar insulin level gluco",
           "blood sugar four hundr sixti"
          ],
          [
           "blood sugar insulin level gluco",
           "top caus diabet high blood sugar"
          ],
          [
           "blood sugar insulin level gluco",
           "best drug diabet"
          ],
          [
           "blood sugar insulin level gluco",
           "blood sugar level affect eye"
          ],
          [
           "blood sugar insulin level gluco",
           "pancreat hormon function lower blood gulcos level"
          ],
          [
           "blood sugar insulin level gluco",
           "insulin signal cell take glucos"
          ],
          [
           "blood sugar insulin level gluco",
           "alcohol bad pre diabet"
          ],
          [
           "blood sugar insulin level gluco",
           "diabet discov"
          ],
          [
           "blood sugar insulin level gluco",
           "get lighthead feel like im go faint"
          ],
          [
           "blood sugar insulin level gluco",
           "give insulin someon hypoglycem caus go coma"
          ],
          [
           "blood sugar insulin level gluco",
           "wake blood sugar one hundr forti eight high"
          ],
          [
           "blood sugar insulin level gluco",
           "cocain affect blood sugar"
          ],
          [
           "blood sugar insulin level gluco",
           "blood sugar level high"
          ],
          [
           "blood sugar insulin level gluco",
           "diabet affect level"
          ],
          [
           "blood sugar insulin level gluco",
           "hypoglycemia treatment"
          ],
          [
           "blood sugar insulin level gluco",
           "person type two diabet take insulin"
          ],
          [
           "blood sugar insulin level gluco",
           "diabet metformin number consid high enough seek hospit"
          ],
          [
           "blood sugar insulin level gluco",
           "diabet hormon"
          ],
          [
           "blood sugar insulin level gluco",
           "would happen pancrea stop releas insulin"
          ],
          [
           "blood sugar insulin level gluco",
           "anyon take insulin"
          ],
          [
           "blood sugar insulin level gluco",
           "blood transport glucos cell"
          ],
          [
           "blood sugar insulin level gluco",
           "blood sugar level one hundr four someth worri"
          ],
          [
           "blood sugar insulin level gluco",
           "often take blood sugar"
          ],
          [
           "blood sugar insulin level gluco",
           "blood sugar five hundr seventi five type insulin one take"
          ],
          [
           "blood sugar insulin level gluco",
           "diabet emerg"
          ],
          [
           "blood sugar insulin level gluco",
           "use one ml insulin syring mani unit would draw"
          ],
          [
           "blood sugar insulin level gluco",
           "way monitor blood sugar level without use needl draw blood"
          ],
          [
           "blood sugar insulin level gluco",
           "diabet drink slim fast sugar"
          ],
          [
           "blood sugar insulin level gluco",
           "insulin necessari"
          ],
          [
           "blood sugar insulin level gluco",
           "long person medic staff continu give glucos patient experienc low blood glucos level"
          ],
          [
           "blood sugar insulin level gluco",
           "marijuana lower blood sugar level"
          ],
          [
           "blood sugar insulin level gluco",
           "role insulin regul blood sugar level"
          ],
          [
           "blood sugar insulin level gluco",
           "diabet test strip realli work"
          ],
          [
           "blood sugar insulin level gluco",
           "serum insulin"
          ],
          [
           "blood sugar insulin level gluco",
           "synonym pedicur"
          ],
          [
           "blood sugar insulin level gluco",
           "first function cater"
          ],
          [
           "blood sugar insulin level gluco",
           "diabet effect endocrin system"
          ],
          [
           "blood sugar insulin level gluco",
           "insulin refriger"
          ],
          [
           "blood sugar insulin level gluco",
           "normal high sugar"
          ],
          [
           "blood sugar insulin level gluco",
           "substanc creat save diabet"
          ],
          [
           "blood sugar insulin level gluco",
           "averag blood glucos level"
          ],
          [
           "blood sugar insulin level gluco",
           "eat mani banan caus increas blood sugar"
          ],
          [
           "blood sugar insulin level gluco",
           "novocain affect blood sugar"
          ],
          [
           "blood sugar insulin level gluco",
           "latest trend paediatr nurs"
          ],
          [
           "blood sugar insulin level gluco",
           "keep level glucos bodi stabl level"
          ],
          [
           "blood sugar insulin level gluco",
           "organ break insulin"
          ],
          [
           "blood sugar insulin level gluco",
           "someon diabet alcohol breath"
          ],
          [
           "blood sugar insulin level gluco",
           "diabet meter"
          ],
          [
           "blood sugar insulin level gluco",
           "five hundr forti three good blood sugar level"
          ],
          [
           "blood sugar insulin level gluco",
           "frequent blood sugar level one hundr sixti eat mean"
          ],
          [
           "blood sugar insulin level gluco",
           "blood loss affect blood sugar"
          ],
          [
           "blood sugar insulin level gluco",
           "caus blood sugar drop rapidli"
          ],
          [
           "blood sugar insulin level gluco",
           "main blood sugar bodi"
          ],
          [
           "blood sugar insulin level gluco",
           "onlin store carri diabet test strip order buy"
          ],
          [
           "blood sugar insulin level gluco",
           "normal valu bloodsugar"
          ],
          [
           "blood sugar insulin level gluco",
           "fri shrimp rise blood sugar"
          ],
          [
           "blood sugar insulin level gluco",
           "mani time day take insulin type one diabet"
          ],
          [
           "blood sugar insulin level gluco",
           "best time check blood sugar read"
          ],
          [
           "blood sugar insulin level gluco",
           "differenti actrapid monotard insulin"
          ],
          [
           "blood sugar insulin level gluco",
           "normal fast blood sugar level fifti year old woman"
          ],
          [
           "blood sugar insulin level gluco",
           "sugar level four hundr fifti six"
          ],
          [
           "blood sugar insulin level gluco",
           "would doctor suggest check patient blood sugar level"
          ],
          [
           "blood sugar insulin level gluco",
           "normal blood sugar go diabet"
          ],
          [
           "blood sugar insulin level gluco",
           "test diabet"
          ],
          [
           "blood sugar insulin level gluco",
           "get older bone get stiff achey"
          ],
          [
           "blood sugar insulin level gluco",
           "normal glucos level teenag"
          ],
          [
           "blood sugar insulin level gluco",
           "cant pancrea make insulin type one diabet"
          ],
          [
           "blood sugar insulin level gluco",
           "glucagon insulin help maintain normal glucos level"
          ],
          [
           "blood sugar insulin level gluco",
           "test use detect"
          ],
          [
           "blood sugar insulin level gluco",
           "follow would indic hypoglycemia diabet"
          ],
          [
           "blood sugar insulin level gluco",
           "maintain good blood sugar level throughout day"
          ],
          [
           "blood sugar insulin level gluco",
           "use insulin syring"
          ],
          [
           "blood sugar insulin level gluco",
           "unhealthi mar bar"
          ],
          [
           "blood sugar insulin level gluco",
           "code mean medtron mini med insulin pump"
          ],
          [
           "blood sugar insulin level gluco",
           "maintain blood sugar level diabet problem"
          ],
          [
           "blood sugar insulin level gluco",
           "often need check glucos level diagnos diabet"
          ],
          [
           "blood sugar insulin level gluco",
           "long live without liver transplant"
          ],
          [
           "blood sugar insulin level gluco",
           "amitriptylin affect blood sugar"
          ],
          [
           "blood sugar insulin level gluco",
           "fast blood sugar level nineti nine consid suger"
          ],
          [
           "blood sugar insulin level gluco",
           "low blood sugar level"
          ],
          [
           "blood sugar insulin level gluco",
           "xylitol sugar"
          ],
          [
           "blood sugar insulin level gluco",
           "mani insulin unit"
          ],
          [
           "blood sugar insulin level gluco",
           "type diabet need insulin inject"
          ],
          [
           "blood sugar insulin level gluco",
           "glucos fast nineti eight"
          ],
          [
           "blood sugar insulin level gluco",
           "remov appendix draw blood blood test drug test also"
          ],
          [
           "blood sugar insulin level gluco",
           "one hundr sixteen good blood sugar"
          ],
          [
           "blood sugar insulin level gluco",
           "use diabet awar ribbon shirt without permiss diabet associ"
          ],
          [
           "blood sugar insulin level gluco",
           "salt pool salt system increas blood pressur"
          ],
          [
           "blood sugar insulin level gluco",
           "differ insulin diabet"
          ],
          [
           "blood sugar insulin level gluco",
           "diabet blood test"
          ],
          [
           "blood sugar insulin level gluco",
           "low mpv count"
          ],
          [
           "blood sugar insulin level gluco",
           "fast blood sugar test"
          ],
          [
           "blood sugar insulin level gluco",
           "normal rang glucos"
          ],
          [
           "blood sugar insulin level gluco",
           "blood glucos number"
          ],
          [
           "blood sugar insulin level gluco",
           "blood glucos meter requir blood"
          ],
          [
           "blood sugar insulin level gluco",
           "diabet show drug test"
          ],
          [
           "blood sugar insulin level gluco",
           "bodi system organ cell diabet affect"
          ],
          [
           "blood sugar insulin level gluco",
           "normal blood glucos level human"
          ],
          [
           "blood sugar insulin level gluco",
           "diabet color red tattoo"
          ],
          [
           "blood sugar insulin level gluco",
           "inadin dress use patient levothyroxin"
          ],
          [
           "blood sugar insulin level gluco",
           "advantag use genet engin insulin"
          ],
          [
           "blood sugar insulin level gluco",
           "increas blood sugar level"
          ],
          [
           "blood sugar insulin level gluco",
           "salt rais blood pressur"
          ],
          [
           "blood sugar insulin level gluco",
           "someon pleas explain calcul"
          ],
          [
           "blood sugar insulin level gluco",
           "sugar rais blood sugar"
          ],
          [
           "blood sugar insulin level gluco",
           "insulin induc hypoglycemia mean"
          ],
          [
           "blood sugar insulin level gluco",
           "synthet human insulin"
          ],
          [
           "blood sugar insulin level gluco",
           "purpos american diabet associ"
          ],
          [
           "blood sugar insulin level gluco",
           "blood sugar level diabet"
          ],
          [
           "blood sugar insulin level gluco",
           "diabet emerg caus low sugar"
          ],
          [
           "blood sugar insulin level gluco",
           "organ need insulin"
          ],
          [
           "blood sugar insulin level gluco",
           "amount blood glucos level seen regular irregular"
          ],
          [
           "blood sugar insulin level gluco",
           "insur compani start first insur scheme diabet patient"
          ],
          [
           "blood sugar insulin level gluco",
           "diabet need monitor blood sugar level"
          ],
          [
           "blood sugar insulin level gluco",
           "error code blood glucos aviva meter"
          ],
          [
           "blood sugar insulin level gluco",
           "find blood sugar inform"
          ],
          [
           "blood sugar insulin level gluco",
           "longest last action nph lent"
          ],
          [
           "blood sugar insulin level gluco",
           "wine high sugar"
          ],
          [
           "blood sugar insulin level gluco",
           "role insulin weight gain"
          ],
          [
           "blood sugar insulin level gluco",
           "dextros insulin lower potassium"
          ],
          [
           "blood sugar insulin level gluco",
           "need insulin blood sugar high stress"
          ],
          [
           "blood sugar insulin level gluco",
           "insulin glucagon regul blood level"
          ],
          [
           "blood sugar insulin level gluco",
           "sell diabet test strip legal"
          ],
          [
           "blood sugar insulin level gluco",
           "main reason high glucos level"
          ],
          [
           "blood sugar insulin level gluco",
           "chromosom number diabet type two"
          ],
          [
           "blood sugar insulin level gluco",
           "glucagon produc"
          ],
          [
           "blood sugar insulin level gluco",
           "nurs intervent dizzi"
          ],
          [
           "blood sugar insulin level gluco",
           "cna shave diabet"
          ],
          [
           "blood sugar insulin level gluco",
           "mani time need calibr glucomet week"
          ],
          [
           "blood sugar insulin level gluco",
           "glucagon protein"
          ],
          [
           "blood sugar insulin level gluco",
           "take blood glucos level two hour meal"
          ],
          [
           "blood sugar insulin level gluco",
           "tell sugar remov blood"
          ],
          [
           "blood sugar insulin level gluco",
           "use diabet lancet"
          ],
          [
           "blood sugar insulin level gluco",
           "mani mg blood sugar lower one unit insulin"
          ],
          [
           "blood sugar insulin level gluco",
           "involv diabet test"
          ],
          [
           "blood sugar insulin level gluco",
           "one hundr twelv glucos high"
          ],
          [
           "blood sugar insulin level gluco",
           "process make human insulin bacteria"
          ],
          [
           "blood sugar insulin level gluco",
           "normal rang endogen insulin non diabet"
          ],
          [
           "blood sugar insulin level gluco",
           "sign decreas bloo glucos level"
          ],
          [
           "blood sugar insulin level gluco",
           "averag rang blood sugar level"
          ],
          [
           "blood sugar insulin level gluco",
           "lack insulin caus high blood glucos level"
          ],
          [
           "blood sugar insulin level gluco",
           "much apparatu blood sugar test"
          ],
          [
           "blood sugar insulin level gluco",
           "hormon make blood glucos increas"
          ],
          [
           "blood sugar insulin level gluco",
           "diabet test result glucos ac five point six glucos pc"
          ],
          [
           "blood sugar insulin level gluco",
           "happen coma"
          ],
          [
           "blood sugar insulin level gluco",
           "normal concentr blood sugar healthi person bodi"
          ],
          [
           "blood sugar insulin level gluco",
           "type sugar blood sugar"
          ],
          [
           "blood sugar insulin level gluco",
           "diabet scari"
          ],
          [
           "blood sugar insulin level gluco",
           "normal rang someon blood sugar level"
          ],
          [
           "blood sugar insulin level gluco",
           "insulin releas blood"
          ],
          [
           "blood sugar insulin level gluco",
           "take drug screen diabet medicin show"
          ],
          [
           "blood sugar insulin level gluco",
           "diabet take flu vaccin"
          ],
          [
           "blood sugar insulin level gluco",
           "come shiatsu massag cushion recommend diabet"
          ],
          [
           "blood sugar insulin level gluco",
           "fast blood sugar one hundr sixteen"
          ],
          [
           "blood sugar insulin level gluco",
           "skin tingl"
          ],
          [
           "blood sugar insulin level gluco",
           "nutrilit product women cancer take"
          ],
          [
           "blood sugar insulin level gluco",
           "monitor diabet blood sugar level"
          ],
          [
           "blood sugar insulin level gluco",
           "read review blood sugar test product"
          ],
          [
           "blood sugar insulin level gluco",
           "drug make someon diabet"
          ],
          [
           "blood sugar insulin level gluco",
           "blood level glucos amino acid insulin high glycogenesi occur liver bodi"
          ],
          [
           "blood sugar insulin level gluco",
           "mani peopl diabet affect one hundr"
          ],
          [
           "blood sugar insulin level gluco",
           "fast night normal blood sugar level morn"
          ],
          [
           "blood sugar insulin level gluco",
           "one touch meter use"
          ],
          [
           "blood sugar insulin level gluco",
           "medic need diabet"
          ],
          [
           "blood sugar insulin level gluco",
           "make insulin bacteria"
          ],
          [
           "blood sugar insulin level gluco",
           "papaya good fro diabet patient"
          ],
          [
           "blood sugar insulin level gluco",
           "diabet help pass drug test faster"
          ],
          [
           "blood sugar insulin level gluco",
           "normal human glucos level"
          ],
          [
           "blood sugar insulin level gluco",
           "one hundr sixti blood sugar read eat right"
          ],
          [
           "blood sugar insulin level gluco",
           "happen bodi littl insulin"
          ],
          [
           "blood sugar insulin level gluco",
           "effect royal jelli diabet"
          ],
          [
           "blood sugar insulin level gluco",
           "glucos startch relat"
          ],
          [
           "blood sugar insulin level gluco",
           "differ insulin blood sugar"
          ],
          [
           "blood sugar insulin level gluco",
           "happen blood acid"
          ],
          [
           "blood sugar insulin level gluco",
           "effect alcohol diabet type two"
          ],
          [
           "blood sugar insulin level gluco",
           "healthi level blood glucos fast"
          ],
          [
           "blood sugar insulin level gluco",
           "condit abnorm low concentr glucos blood call"
          ],
          [
           "blood sugar insulin level gluco",
           "condit low blood sugar level associ diabet call"
          ],
          [
           "blood sugar insulin level gluco",
           "blood glucos level regul bodi"
          ],
          [
           "blood sugar insulin level gluco",
           "blood sugar ach mean"
          ],
          [
           "blood sugar insulin level gluco",
           "long fast glucos toler test"
          ],
          [
           "blood sugar insulin level gluco",
           "get blood sugar rise diabet emerg"
          ],
          [
           "blood sugar insulin level gluco",
           "whiskey safe diabet"
          ],
          [
           "blood sugar insulin level gluco",
           "term best describ failur bodi cell resond insulin"
          ],
          [
           "blood sugar insulin level gluco",
           "function ocular"
          ],
          [
           "blood sugar insulin level gluco",
           "one buy test strip"
          ],
          [
           "blood sugar insulin level gluco",
           "hypogycem"
          ],
          [
           "blood sugar insulin level gluco",
           "test use diagnosi diabet mellitu"
          ],
          [
           "blood sugar insulin level gluco",
           "much insulin take blood sugar two hundr forti one"
          ],
          [
           "blood sugar insulin level gluco",
           "risk high blood sugar"
          ],
          [
           "blood sugar insulin level gluco",
           "black coffe rais blood sugar"
          ],
          [
           "blood sugar insulin level gluco",
           "diabet carri insulin flight"
          ],
          [
           "blood sugar insulin level gluco",
           "canadian scientist insulin"
          ],
          [
           "blood sugar insulin level gluco",
           "peopl type two diabet take insulin type one diabet"
          ],
          [
           "blood sugar insulin level gluco",
           "onset menopaus caus fals posit diabet test"
          ],
          [
           "blood sugar insulin level gluco",
           "person blood glucos level"
          ],
          [
           "blood sugar insulin level gluco",
           "type diabt blood sugar high"
          ],
          [
           "blood sugar insulin level gluco",
           "prdiabet"
          ],
          [
           "blood sugar insulin level gluco",
           "organ produc insulin glucagon"
          ],
          [
           "blood sugar insulin level gluco",
           "normal blood level"
          ],
          [
           "blood sugar insulin level gluco",
           "normal blood sugar rang diabet meal"
          ],
          [
           "blood sugar insulin level gluco",
           "find blood glucos level chart"
          ],
          [
           "blood sugar insulin level gluco",
           "effect sucralos blood sugar"
          ],
          [
           "blood sugar insulin level gluco",
           "normal blood glucos number diabet"
          ],
          [
           "blood sugar insulin level gluco",
           "glucos drip given diabet patient"
          ],
          [
           "blood sugar insulin level gluco",
           "eleven point one high diabet"
          ],
          [
           "blood sugar insulin level gluco",
           "test diabet without go doctor buy test strip"
          ],
          [
           "blood sugar insulin level gluco",
           "actrapid insulin short act insulin"
          ],
          [
           "blood sugar insulin level gluco",
           "diabet person collaps low high blood sugar"
          ],
          [
           "blood sugar insulin level gluco",
           "diabet bodi make use whatproperli"
          ],
          [
           "blood sugar insulin level gluco",
           "gland control glucos blood level"
          ],
          [
           "blood sugar insulin level gluco",
           "insulin chang world back"
          ],
          [
           "blood sugar insulin level gluco",
           "process bodi function correctli patient diabet"
          ],
          [
           "blood sugar insulin level gluco",
           "type insulin use treat diabet"
          ],
          [
           "blood sugar insulin level gluco",
           "organ reli critic steadi suppli glucos"
          ],
          [
           "blood sugar insulin level gluco",
           "insulin fold"
          ],
          [
           "blood sugar insulin level gluco",
           "happen bood sugar level low"
          ],
          [
           "blood sugar insulin level gluco",
           "cigarett smoke affect sugar level diabet person"
          ],
          [
           "blood sugar insulin level gluco",
           "prognosi mild asymptomat insulin resist"
          ],
          [
           "blood sugar insulin level gluco",
           "broccoli bad diabet"
          ],
          [
           "blood sugar insulin level gluco",
           "role insulin bodi"
          ],
          [
           "blood sugar insulin level gluco",
           "diabet emerg caus high blood sugar level"
          ],
          [
           "blood sugar insulin level gluco",
           "draw nph insulin shake bottl gentli rotat bottl"
          ],
          [
           "blood sugar insulin level gluco",
           "scientif word low blood sugar"
          ],
          [
           "blood sugar insulin level gluco",
           "one hundr sixti high diabet"
          ],
          [
           "blood sugar insulin level gluco",
           "head hurt blood sugar high"
          ],
          [
           "blood sugar insulin level gluco",
           "black coffe affect glucos blood test"
          ],
          [
           "blood sugar insulin level gluco",
           "insulin pump cover high glucos level right"
          ],
          [
           "blood sugar insulin level gluco",
           "diabet needl"
          ],
          [
           "blood sugar insulin level gluco",
           "fake diabet test"
          ],
          [
           "blood sugar insulin level gluco",
           "function peduncl"
          ],
          [
           "blood sugar insulin level gluco",
           "insulin blood"
          ],
          [
           "blood sugar insulin level gluco",
           "compar insulin unit microgram"
          ],
          [
           "blood sugar insulin level gluco",
           "averag level blood sugar"
          ],
          [
           "blood sugar insulin level gluco",
           "normal blood surgar"
          ],
          [
           "blood sugar insulin level gluco",
           "coffe affect blood sugar level"
          ],
          [
           "blood sugar insulin level gluco",
           "diagnos diabet one high glucos read"
          ],
          [
           "blood sugar insulin level gluco",
           "blood sugar chart look"
          ],
          [
           "blood sugar insulin level gluco",
           "human insulin gene transfer bacterium make insulin"
          ],
          [
           "blood sugar insulin level gluco",
           "organ releas glucos help maintain normal blood glucos level meal"
          ],
          [
           "blood sugar insulin level gluco",
           "normal rang blood glucos teenag person"
          ],
          [
           "blood sugar insulin level gluco",
           "beta blocker caus hypoglycemia"
          ],
          [
           "blood sugar insulin level gluco",
           "counter insulin good prescript insulin"
          ],
          [
           "blood sugar insulin level gluco",
           "daughter eye brain go anoth place afew second could low high blood sugar"
          ],
          [
           "blood sugar insulin level gluco",
           "descript fast blood sugar"
          ],
          [
           "blood sugar insulin level gluco",
           "sugar found human blood"
          ],
          [
           "blood sugar insulin level gluco",
           "approxim insulin"
          ],
          [
           "blood sugar insulin level gluco",
           "diabet eat liver"
          ],
          [
           "blood sugar insulin level gluco",
           "normal blood glucos level"
          ],
          [
           "blood sugar insulin level gluco",
           "live react high level glucos blood convert glucos"
          ],
          [
           "blood sugar insulin level gluco",
           "give inject diabet"
          ],
          [
           "blood sugar insulin level gluco",
           "sugar level normal someon diabet"
          ],
          [
           "blood sugar insulin level gluco",
           "sugar normal rang"
          ],
          [
           "blood sugar insulin level gluco",
           "could caus headach dizzi feel surg electr run brain"
          ],
          [
           "blood sugar insulin level gluco",
           "took insluin diabet"
          ],
          [
           "blood sugar insulin level gluco",
           "diabet take royal jelli"
          ],
          [
           "blood sugar insulin level gluco",
           "get insulin"
          ],
          [
           "blood sugar insulin level gluco",
           "hormon continu make adjust blood glucos level"
          ]
         ],
         "hovertemplate": "summary=%{customdata[0]}<br>pc_1=%{x}<br>pc_2=%{y}<br>pc_3=%{z}<br>sentence=%{customdata[1]}<extra></extra>",
         "legendgroup": "blood sugar insulin level gluco",
         "marker": {
          "color": "#636efa",
          "size": 5,
          "symbol": "circle"
         },
         "mode": "markers",
         "name": "blood sugar insulin level gluco",
         "scene": "scene",
         "showlegend": true,
         "type": "scatter3d",
         "x": [
          9.753113746643066,
          -1.8810150623321533,
          0.748877227306366,
          5.527822971343994,
          14.907137870788574,
          9.567161560058594,
          0.4323987662792206,
          0.16784986853599548,
          -0.09557054191827774,
          5.474009990692139,
          -1.0589922666549683,
          -1.4200279712677002,
          11.384490013122559,
          12.077920913696289,
          -0.0058592213317751884,
          11.252935409545898,
          12.47994613647461,
          1.529688835144043,
          5.157133102416992,
          10.143197059631348,
          11.97050952911377,
          0.9319553375244141,
          6.852715969085693,
          4.673774719238281,
          1.30556321144104,
          1.496047854423523,
          9.479201316833496,
          14.979268074035645,
          10.343501091003418,
          0.8452102541923523,
          14.009906768798828,
          -2.0341074466705322,
          10.023648262023926,
          -0.8253156542778015,
          -1.3635307550430298,
          -0.8500455021858215,
          1.8961683511734009,
          13.544031143188477,
          14.909771919250488,
          -0.6793456077575684,
          0.9890731573104858,
          0.658035933971405,
          12.95409870147705,
          7.190405368804932,
          -1.4761850833892822,
          11.469210624694824,
          9.427002906799316,
          -0.27293941378593445,
          11.793354988098145,
          -0.8192778825759888,
          6.071936130523682,
          11.503632545471191,
          3.639880418777466,
          -0.8101127743721008,
          12.749236106872559,
          0.8632465600967407,
          12.217249870300293,
          6.524291038513184,
          13.17984390258789,
          9.050411224365234,
          8.621391296386719,
          -0.8382833003997803,
          5.838968753814697,
          9.79249382019043,
          11.818233489990234,
          12.321754455566406,
          9.260357856750488,
          11.340361595153809,
          7.456306457519531,
          12.945894241333008,
          5.11193323135376,
          8.782169342041016,
          -1.1124073266983032,
          8.847290992736816,
          -1.3639805316925049,
          14.39562702178955,
          8.86877155303955,
          9.080193519592285,
          8.852834701538086,
          5.474004745483398,
          9.516934394836426,
          16.56022834777832,
          -1.4053280353546143,
          1.961960792541504,
          15.213376998901367,
          15.680233001708984,
          14.322783470153809,
          -0.5674260854721069,
          3.1461455821990967,
          1.733608603477478,
          1.1882203817367554,
          15.243040084838867,
          10.065794944763184,
          15.47340202331543,
          13.19168472290039,
          13.894004821777344,
          4.12763786315918,
          -0.40964654088020325,
          -2.126887083053589,
          14.042623519897461,
          16.92489242553711,
          13.665326118469238,
          7.848748207092285,
          7.9882707595825195,
          -1.6997690200805664,
          3.9727470874786377,
          7.092307090759277,
          16.059907913208008,
          16.763872146606445,
          11.980567932128906,
          13.169724464416504,
          14.851458549499512,
          0.6949278712272644,
          15.181721687316895,
          9.309012413024902,
          5.9566144943237305,
          0.13767562806606293,
          10.746095657348633,
          9.402386665344238,
          7.0446038246154785,
          9.253765106201172,
          1.855298399925232,
          -0.6060175895690918,
          1.916590690612793,
          7.855474472045898,
          3.9355430603027344,
          -0.41131576895713806,
          9.235208511352539,
          7.600003719329834,
          9.605568885803223,
          16.97724723815918,
          8.97653865814209,
          4.910958766937256,
          8.838698387145996,
          -0.8181264400482178,
          0.10393655300140381,
          1.5143444538116455,
          0.8508173823356628,
          13.853179931640625,
          13.516182899475098,
          -0.851822018623352,
          7.39441442489624,
          8.464865684509277,
          4.3734612464904785,
          0.5745747685432434,
          7.725523948669434,
          12.759138107299805,
          7.212172985076904,
          4.821120262145996,
          1.5515034198760986,
          9.255824089050293,
          15.412647247314453,
          0.7329971790313721,
          -0.1732233613729477,
          1.041575312614441,
          16.882892608642578,
          -1.0152688026428223,
          9.521759033203125,
          10.584189414978027,
          11.194647789001465,
          4.382376194000244,
          12.111550331115723,
          2.367217779159546,
          1.4800437688827515,
          16.876968383789062,
          -0.5796501040458679,
          15.147040367126465,
          0.6153596043586731,
          3.324758529663086,
          16.086212158203125,
          2.160762071609497,
          4.023031234741211,
          5.298916816711426,
          13.254568099975586,
          10.177680969238281,
          -0.11542531847953796,
          0.5095512866973877,
          16.31378746032715,
          15.662763595581055,
          1.3709772825241089,
          0.7471908330917358,
          4.501143932342529,
          14.908890724182129,
          16.351764678955078,
          11.634903907775879,
          -1.178060531616211,
          2.79099178314209,
          8.464685440063477,
          1.6509836912155151,
          1.9990707635879517,
          -0.13968181610107422,
          13.820413589477539,
          9.813971519470215,
          7.117633819580078,
          10.796046257019043,
          8.973875045776367,
          10.62692642211914,
          10.699597358703613,
          4.267867088317871,
          -1.4644845724105835,
          6.1926350593566895,
          13.277129173278809,
          5.979697227478027,
          9.690620422363281,
          0.8814879059791565,
          2.0696847438812256,
          13.527901649475098,
          -1.6495119333267212,
          -0.7312815189361572,
          -1.634833574295044,
          6.163300037384033,
          12.068567276000977,
          -0.47793149948120117,
          1.7570230960845947,
          -0.0592518113553524,
          14.69896125793457,
          9.377408027648926,
          14.076831817626953,
          14.653763771057129,
          11.37723445892334,
          8.16324520111084,
          6.1865153312683105,
          12.366326332092285,
          -0.8338366150856018,
          7.6560468673706055,
          0.6267492175102234,
          15.76976203918457,
          -1.2595146894454956,
          4.72836446762085,
          -2.0057973861694336,
          8.696657180786133,
          -0.9126132130622864,
          4.958831310272217,
          5.993370056152344,
          -2.2283928394317627,
          4.113840579986572,
          -0.2994691729545593,
          0.8194863796234131,
          -1.2850821018218994,
          14.541292190551758,
          5.9883880615234375,
          2.3338370323181152,
          16.4732608795166,
          1.6811238527297974,
          1.3509749174118042,
          10.195415496826172,
          7.202451705932617,
          1.0947941541671753,
          -0.04269193857908249,
          15.863358497619629,
          12.451923370361328,
          11.48411750793457,
          11.909409523010254,
          10.772911071777344,
          -1.1517771482467651,
          16.578617095947266,
          16.356733322143555,
          13.76528549194336,
          -0.5040947198867798,
          1.8626458644866943,
          14.454675674438477,
          9.937148094177246,
          -1.839694857597351,
          4.896535396575928,
          15.021259307861328,
          14.388179779052734,
          5.428979396820068,
          8.629469871520996,
          14.130829811096191,
          11.989033699035645,
          4.489311695098877,
          3.864938974380493,
          -1.420027256011963,
          10.885099411010742
         ],
         "y": [
          7.139950752258301,
          1.8522173166275024,
          6.036719799041748,
          7.6451311111450195,
          4.021996974945068,
          7.355744361877441,
          1.2190568447113037,
          1.2318729162216187,
          1.253035068511963,
          7.5739030838012695,
          1.4382458925247192,
          2.3942995071411133,
          5.851414203643799,
          3.422473669052124,
          1.6782658100128174,
          6.386274814605713,
          5.831287860870361,
          7.490927696228027,
          7.599648475646973,
          6.055084705352783,
          7.448703765869141,
          1.4651364088058472,
          7.206474781036377,
          7.65032958984375,
          7.541086196899414,
          1.6517995595932007,
          5.191971302032471,
          3.1848411560058594,
          6.5209431648254395,
          5.913737773895264,
          1.6560133695602417,
          1.2247169017791748,
          7.184022426605225,
          3.4528005123138428,
          2.335674524307251,
          1.1093851327896118,
          7.502674102783203,
          5.249015808105469,
          4.80588960647583,
          0.37923017144203186,
          4.8065876960754395,
          1.327104091644287,
          2.456998586654663,
          6.742536544799805,
          0.8852794170379639,
          4.432558059692383,
          1.7361209392547607,
          1.038208246231079,
          3.8360323905944824,
          1.188730239868164,
          7.756795406341553,
          6.394067287445068,
          7.328219413757324,
          1.1990537643432617,
          2.588927745819092,
          6.330588340759277,
          4.609099388122559,
          5.566693305969238,
          4.530777454376221,
          7.37725305557251,
          3.162198543548584,
          1.3176555633544922,
          6.763848781585693,
          6.62007474899292,
          3.5750203132629395,
          4.939960479736328,
          5.617884635925293,
          6.056519031524658,
          6.438324928283691,
          2.139620780944824,
          7.378722190856934,
          1.4839342832565308,
          1.0253074169158936,
          4.416265964508057,
          1.7136175632476807,
          2.2100751399993896,
          4.268141746520996,
          1.6505827903747559,
          5.337863922119141,
          7.573902606964111,
          4.7949113845825195,
          2.708606481552124,
          1.5312025547027588,
          1.602628469467163,
          4.392936706542969,
          4.401356220245361,
          3.39957857131958,
          1.4013952016830444,
          7.222790241241455,
          1.774680256843567,
          7.591360569000244,
          4.314855098724365,
          4.649264335632324,
          3.4132473468780518,
          2.469627857208252,
          4.656280517578125,
          6.4268412590026855,
          1.4808398485183716,
          1.2665294408798218,
          4.530678749084473,
          2.9075024127960205,
          4.7921671867370605,
          5.958767890930176,
          6.216128349304199,
          1.2105324268341064,
          6.501039505004883,
          6.901997089385986,
          3.536663770675659,
          2.794891357421875,
          6.267467498779297,
          5.40415620803833,
          5.143873691558838,
          5.44326639175415,
          2.6887731552124023,
          7.10936164855957,
          7.225412368774414,
          1.2645466327667236,
          3.762261390686035,
          4.813239097595215,
          7.657050609588623,
          1.7361623048782349,
          1.6148107051849365,
          1.5499542951583862,
          5.147302627563477,
          7.124205112457275,
          7.359933376312256,
          1.2038180828094482,
          2.2565693855285645,
          5.983383655548096,
          5.581264019012451,
          2.4376206398010254,
          1.5884300470352173,
          7.453408718109131,
          3.111239433288574,
          1.1007872819900513,
          1.5379960536956787,
          1.620498538017273,
          1.6496964693069458,
          3.1139023303985596,
          5.207759857177734,
          3.388554334640503,
          7.986403465270996,
          7.5709052085876465,
          7.513908386230469,
          6.7837748527526855,
          7.764245510101318,
          3.382028818130493,
          6.452496528625488,
          6.500912666320801,
          1.617401123046875,
          5.034157752990723,
          4.4922285079956055,
          1.408808708190918,
          2.040191411972046,
          7.909405708312988,
          2.3830668926239014,
          3.0270917415618896,
          4.7415242195129395,
          7.896803379058838,
          7.030451774597168,
          7.620676040649414,
          6.374054431915283,
          2.4500460624694824,
          5.168635845184326,
          2.6462035179138184,
          2.0510969161987305,
          4.960219383239746,
          4.886692523956299,
          5.913483619689941,
          3.814384937286377,
          5.811148643493652,
          5.6402788162231445,
          6.4572834968566895,
          3.7718493938446045,
          5.904723167419434,
          2.4407293796539307,
          6.284154415130615,
          3.080629348754883,
          4.41950798034668,
          4.7405548095703125,
          1.4132623672485352,
          6.5181660652160645,
          1.9792053699493408,
          3.112076997756958,
          2.639066696166992,
          2.267266273498535,
          6.466271877288818,
          7.380151748657227,
          1.6193748712539673,
          7.322539806365967,
          3.8143956661224365,
          2.4800069332122803,
          5.500039577484131,
          6.480193138122559,
          7.594816207885742,
          4.976711750030518,
          4.434484481811523,
          5.556194305419922,
          6.752751350402832,
          1.5108891725540161,
          7.674997806549072,
          3.2705531120300293,
          7.700140476226807,
          5.486021041870117,
          1.5417625904083252,
          5.779534339904785,
          2.253284215927124,
          1.4141159057617188,
          0.6874275803565979,
          0.7870967388153076,
          5.989035129547119,
          5.404188632965088,
          3.606119155883789,
          5.525320053100586,
          1.1878571510314941,
          2.589017868041992,
          1.8362892866134644,
          1.775541067123413,
          4.576181888580322,
          5.405325412750244,
          5.5782389640808105,
          6.63249397277832,
          3.05043625831604,
          1.8461850881576538,
          7.487719535827637,
          4.849195957183838,
          4.583198070526123,
          1.5592042207717896,
          7.955376625061035,
          0.7635955810546875,
          3.073423147201538,
          1.3326281309127808,
          7.443802356719971,
          6.098082065582275,
          1.691612720489502,
          7.335051536560059,
          1.076892375946045,
          7.060229301452637,
          1.392899751663208,
          4.150459289550781,
          6.661759376525879,
          7.283688545227051,
          2.811647891998291,
          1.9253885746002197,
          5.043176174163818,
          5.77966833114624,
          7.568933010101318,
          1.6002970933914185,
          0.968082070350647,
          3.4239752292633057,
          4.338909149169922,
          2.2097811698913574,
          6.40919303894043,
          5.724625587463379,
          2.4830148220062256,
          3.2897114753723145,
          2.007200002670288,
          1.9551995992660522,
          0.9791909456253052,
          7.636634349822998,
          4.457586288452148,
          3.5346884727478027,
          1.7187912464141846,
          6.4149861335754395,
          2.8594653606414795,
          2.6461539268493652,
          8.141834259033203,
          5.005216121673584,
          2.003643274307251,
          5.991567134857178,
          7.459291458129883,
          7.022577285766602,
          2.394299268722534,
          7.733474254608154
         ],
         "z": [
          -9.821986198425293,
          -8.581866264343262,
          -7.751824855804443,
          -8.676362037658691,
          -9.067350387573242,
          -9.883650779724121,
          -14.296485900878906,
          -14.019309997558594,
          -13.835718154907227,
          -7.656593322753906,
          -10.918310165405273,
          -9.171667098999023,
          -9.448805809020996,
          -7.317522048950195,
          -13.871953010559082,
          -9.816929817199707,
          -9.72716999053955,
          -8.557583808898926,
          -7.401253700256348,
          -9.204621315002441,
          -10.771821975708008,
          -14.996509552001953,
          -8.52137279510498,
          -8.396769523620605,
          -8.43224048614502,
          -15.647161483764648,
          -8.05812931060791,
          -8.38371467590332,
          -9.61366081237793,
          -7.484530448913574,
          -6.751660346984863,
          -8.132152557373047,
          -9.985525131225586,
          -7.584771633148193,
          -9.434969902038574,
          -12.397486686706543,
          -8.728178977966309,
          -9.59997272491455,
          -9.79747200012207,
          -12.69796085357666,
          -7.17394495010376,
          -14.600398063659668,
          -6.857494354248047,
          -8.211334228515625,
          -9.653371810913086,
          -7.981307029724121,
          -5.731340408325195,
          -12.674466133117676,
          -7.547539234161377,
          -12.4841890335083,
          -8.664063453674316,
          -9.91219711303711,
          -8.551527976989746,
          -12.503410339355469,
          -6.928330898284912,
          -7.735121250152588,
          -8.452656745910645,
          -5.737922191619873,
          -8.767682075500488,
          -9.70054817199707,
          -7.3445048332214355,
          -11.760086059570312,
          -6.754032135009766,
          -9.482117652893066,
          -7.3629021644592285,
          -8.817933082580566,
          -8.76616382598877,
          -9.600984573364258,
          -7.979889869689941,
          -6.830782890319824,
          -9.255566596984863,
          -5.489502906799316,
          -10.862405776977539,
          -7.195696830749512,
          -9.975791931152344,
          -7.291240215301514,
          -7.320724010467529,
          -5.628731727600098,
          -8.168169975280762,
          -7.6565961837768555,
          -7.1195387840271,
          -8.75460433959961,
          -9.892985343933105,
          -16.546146392822266,
          -9.555815696716309,
          -9.796095848083496,
          -8.26648235321045,
          -12.99459457397461,
          -8.488371849060059,
          -15.742791175842285,
          -8.538755416870117,
          -9.475515365600586,
          -7.5344462394714355,
          -8.814164161682129,
          -6.962133407592773,
          -9.188325881958008,
          -6.154758930206299,
          -12.527027130126953,
          -8.062586784362793,
          -9.130764961242676,
          -9.1220121383667,
          -9.214177131652832,
          -7.849707126617432,
          -8.425861358642578,
          -9.40908432006836,
          -6.461301803588867,
          -8.222235679626465,
          -9.210041999816895,
          -8.931303977966309,
          -9.937599182128906,
          -9.600118637084961,
          -10.087814331054688,
          -8.017722129821777,
          -8.066555976867676,
          -9.63422966003418,
          -7.482410430908203,
          -13.615986824035645,
          -7.1195878982543945,
          -7.294308662414551,
          -8.929027557373047,
          -5.706223964691162,
          -16.34099006652832,
          -12.403802871704102,
          -6.594415664672852,
          -8.98857593536377,
          -7.837578773498535,
          -13.293015480041504,
          -5.996082305908203,
          -7.604862213134766,
          -8.55500602722168,
          -8.752963066101074,
          -5.575868606567383,
          -7.568805694580078,
          -7.013207912445068,
          -11.765713691711426,
          -14.001696586608887,
          -15.762803077697754,
          -14.929666519165039,
          -7.811186790466309,
          -9.552490234375,
          -8.10605239868164,
          -9.345468521118164,
          -9.585551261901855,
          -8.2399320602417,
          -7.848324775695801,
          -9.361042976379395,
          -7.5709404945373535,
          -9.855531692504883,
          -6.012244701385498,
          -15.833063125610352,
          -7.676200866699219,
          -9.747970581054688,
          -14.86145305633545,
          -13.692230224609375,
          -8.737898826599121,
          -8.65475845336914,
          -9.322444915771484,
          -7.683632850646973,
          -10.635826110839844,
          -10.244525909423828,
          -8.5848388671875,
          -10.05188274383545,
          -15.12700366973877,
          -7.495381832122803,
          -8.87291431427002,
          -12.408538818359375,
          -10.05063247680664,
          -7.319449424743652,
          -6.200486660003662,
          -9.47380542755127,
          -7.74216365814209,
          -5.532902717590332,
          -6.014910697937012,
          -8.119593620300293,
          -9.04806137084961,
          -13.850829124450684,
          -7.5530571937561035,
          -8.935976028442383,
          -9.808146476745605,
          -6.442985534667969,
          -14.810751914978027,
          -6.1927361488342285,
          -7.374228477478027,
          -8.986481666564941,
          -6.685632705688477,
          -9.983451843261719,
          -7.995242595672607,
          -9.479726791381836,
          -15.999147415161133,
          -8.643243789672852,
          -8.961639404296875,
          -7.267548084259033,
          -10.445255279541016,
          -10.045411109924316,
          -10.489251136779785,
          -7.246633529663086,
          -7.5846991539001465,
          -8.9159574508667,
          -6.387002944946289,
          -9.734556198120117,
          -8.719996452331543,
          -7.694686412811279,
          -8.495871543884277,
          -10.486281394958496,
          -14.716971397399902,
          -6.630478382110596,
          -6.968567848205566,
          -9.599287033081055,
          -11.551763534545898,
          -8.543646812438965,
          -5.995471954345703,
          -9.19543743133545,
          -8.727238655090332,
          -7.460968971252441,
          -13.829215049743652,
          -7.755856513977051,
          -5.78048038482666,
          -6.846531867980957,
          -9.455245971679688,
          -9.006399154663086,
          -7.594244480133057,
          -8.382476806640625,
          -7.15284538269043,
          -11.544904708862305,
          -9.159073829650879,
          -8.091954231262207,
          -10.0140380859375,
          -10.237471580505371,
          -7.6801629066467285,
          -9.369284629821777,
          -7.270517349243164,
          -11.53648567199707,
          -9.043404579162598,
          -6.04188871383667,
          -7.844106674194336,
          -8.014177322387695,
          -12.944832801818848,
          -8.111513137817383,
          -9.955802917480469,
          -9.019614219665527,
          -8.466238975524902,
          -8.61241340637207,
          -8.78612232208252,
          -15.243907928466797,
          -7.526579856872559,
          -8.957456588745117,
          -8.96040153503418,
          -15.17454719543457,
          -13.402053833007812,
          -9.012455940246582,
          -8.29107666015625,
          -6.398519039154053,
          -10.026274681091309,
          -9.098849296569824,
          -9.745980262756348,
          -9.26770305633545,
          -8.089637756347656,
          -6.839771747589111,
          -12.23277473449707,
          -8.796525001525879,
          -9.250741958618164,
          -6.52078104019165,
          -8.775009155273438,
          -6.0001678466796875,
          -8.130502700805664,
          -7.659557819366455,
          -8.118268013000488,
          -7.412569999694824,
          -7.042398452758789,
          -9.738686561584473,
          -8.097405433654785,
          -7.058430194854736,
          -9.17166805267334,
          -10.616072654724121
         ]
        },
        {
         "customdata": [
          [
           "sugar blood type insulin eat",
           "eat lot consid type behavior"
          ],
          [
           "sugar blood type insulin eat",
           "sugar level fluctuat wide"
          ],
          [
           "sugar blood type insulin eat",
           "one treat diabet mellitu"
          ],
          [
           "sugar blood type insulin eat",
           "eat blood sugar sixti eight rang"
          ],
          [
           "sugar blood type insulin eat",
           "bring blood sugar instantli somethig home"
          ],
          [
           "sugar blood type insulin eat",
           "orang make blood sugar level rais"
          ],
          [
           "sugar blood type insulin eat",
           "diabet treat"
          ],
          [
           "sugar blood type insulin eat",
           "advanc technolog help type one diabet"
          ],
          [
           "sugar blood type insulin eat",
           "diabet eat prawn"
          ],
          [
           "sugar blood type insulin eat",
           "kid diabet"
          ],
          [
           "sugar blood type insulin eat",
           "need shot type two diabet"
          ],
          [
           "sugar blood type insulin eat",
           "could low high blood sugar make tire immedi eat"
          ],
          [
           "sugar blood type insulin eat",
           "often go doctor diabet"
          ],
          [
           "sugar blood type insulin eat",
           "sugar mainli serv bodi"
          ],
          [
           "sugar blood type insulin eat",
           "medicin type one diabet"
          ],
          [
           "sugar blood type insulin eat",
           "one properli manag diabet symptom"
          ],
          [
           "sugar blood type insulin eat",
           "develop first effect treatment diabet"
          ],
          [
           "sugar blood type insulin eat",
           "diabet get fatigu"
          ],
          [
           "sugar blood type insulin eat",
           "troubl rememb thing"
          ],
          [
           "sugar blood type insulin eat",
           "control blood sugar"
          ],
          [
           "sugar blood type insulin eat",
           "use pedomet benefit peopl high risk type two diabet"
          ],
          [
           "sugar blood type insulin eat",
           "item diabet person eat"
          ],
          [
           "sugar blood type insulin eat",
           "hyperosmolar syndrom"
          ],
          [
           "sugar blood type insulin eat",
           "insulin right treatment diabet"
          ],
          [
           "sugar blood type insulin eat",
           "diabet drink liquor"
          ],
          [
           "sugar blood type insulin eat",
           "diabet peopl carrot"
          ],
          [
           "sugar blood type insulin eat",
           "iv fluid need diabet patient"
          ],
          [
           "sugar blood type insulin eat",
           "diabet patient minor ill cold flu"
          ],
          [
           "sugar blood type insulin eat",
           "posit result benedict test"
          ],
          [
           "sugar blood type insulin eat",
           "god diabet"
          ],
          [
           "sugar blood type insulin eat",
           "girl normal weight stay activ type two diabet blood sugar level anywher thirti five hundr eighteen eat healthi sinc diagnosi octob"
          ],
          [
           "sugar blood type insulin eat",
           "much sugar blood bad"
          ],
          [
           "sugar blood type insulin eat",
           "food best choic treat patient experiec hypoglycem low blood sugar reaction"
          ],
          [
           "sugar blood type insulin eat",
           "metformin work"
          ],
          [
           "sugar blood type insulin eat",
           "buy diabet"
          ],
          [
           "sugar blood type insulin eat",
           "medic issu diabet special need"
          ],
          [
           "sugar blood type insulin eat",
           "one hour eat diabet"
          ],
          [
           "sugar blood type insulin eat",
           "diabet one"
          ],
          [
           "sugar blood type insulin eat",
           "glucos administ intraven patient diabet mellitu patient probabl develop"
          ],
          [
           "sugar blood type insulin eat",
           "caus genit anal burn diabet"
          ],
          [
           "sugar blood type insulin eat",
           "best type insulin syring treatment diabet"
          ],
          [
           "sugar blood type insulin eat",
           "blood sugar rise high breakfast"
          ],
          [
           "sugar blood type insulin eat",
           "type doctor treat diabet"
          ],
          [
           "sugar blood type insulin eat",
           "caus hyperglycemia"
          ],
          [
           "sugar blood type insulin eat",
           "type two diabet known insulin depend diabet"
          ],
          [
           "sugar blood type insulin eat",
           "diseas make difficult person regul blood sugar"
          ],
          [
           "sugar blood type insulin eat",
           "develop diabet eat much sugar"
          ],
          [
           "sugar blood type insulin eat",
           "hospit diabet"
          ],
          [
           "sugar blood type insulin eat",
           "joke diabet"
          ],
          [
           "sugar blood type insulin eat",
           "diabet drink replenish electrolyt"
          ],
          [
           "sugar blood type insulin eat",
           "get four hundr hp six thousand five hundr rpm four bbl carb chevrolet three hundr five"
          ],
          [
           "sugar blood type insulin eat",
           "type two diabet take penicillin"
          ],
          [
           "sugar blood type insulin eat",
           "indocologist"
          ],
          [
           "sugar blood type insulin eat",
           "check diabet"
          ],
          [
           "sugar blood type insulin eat",
           "gland associ diabet"
          ],
          [
           "sugar blood type insulin eat",
           "diabet eat stawberri"
          ],
          [
           "sugar blood type insulin eat",
           "follow best describ effect meal rise blood glucos occur meal"
          ],
          [
           "sugar blood type insulin eat",
           "hypertens diabet patient typhoid vaccin"
          ],
          [
           "sugar blood type insulin eat",
           "describ insulin help bodi maintain intern balanc"
          ],
          [
           "sugar blood type insulin eat",
           "get tattoo diabet"
          ],
          [
           "sugar blood type insulin eat",
           "insulin oral administ diabet peopl"
          ],
          [
           "sugar blood type insulin eat",
           "much sugar man need daili"
          ],
          [
           "sugar blood type insulin eat",
           "us take insulin period avoid diabet"
          ],
          [
           "sugar blood type insulin eat",
           "actual diabet last three year feel durat sex time short pleas advis increas time"
          ],
          [
           "sugar blood type insulin eat",
           "someon diabet oper commerci motor vehicl texa"
          ],
          [
           "sugar blood type insulin eat",
           "cant sleep arm ach"
          ],
          [
           "sugar blood type insulin eat",
           "help diabet cold feel feet"
          ],
          [
           "sugar blood type insulin eat",
           "eat banana gestat diabet"
          ],
          [
           "sugar blood type insulin eat",
           ""
          ],
          [
           "sugar blood type insulin eat",
           "get type two diabet plan"
          ],
          [
           "sugar blood type insulin eat",
           "diabet take theraflu"
          ],
          [
           "sugar blood type insulin eat",
           "manag high blood sugar"
          ],
          [
           "sugar blood type insulin eat",
           "term occur much insulin taken"
          ],
          [
           "sugar blood type insulin eat",
           "diabeet"
          ],
          [
           "sugar blood type insulin eat",
           "take chanc diabet equip"
          ],
          [
           "sugar blood type insulin eat",
           "diabet coffe"
          ],
          [
           "sugar blood type insulin eat",
           "carbohydr process diabet non diabet person"
          ],
          [
           "sugar blood type insulin eat",
           "smoke diabet"
          ],
          [
           "sugar blood type insulin eat",
           "cat die diabet"
          ],
          [
           "sugar blood type insulin eat",
           "eat sugar type one diabeti"
          ],
          [
           "sugar blood type insulin eat",
           "diabet type one type two"
          ],
          [
           "sugar blood type insulin eat",
           "relationship diabet bhramari"
          ],
          [
           "sugar blood type insulin eat",
           "treat hypertens diabet"
          ],
          [
           "sugar blood type insulin eat",
           "way avoid diabet obes"
          ],
          [
           "sugar blood type insulin eat",
           "date harm diabet"
          ],
          [
           "sugar blood type insulin eat",
           "type wine avoid diabet"
          ],
          [
           "sugar blood type insulin eat",
           "true sixti nine percent world popul includ anim diabet"
          ],
          [
           "sugar blood type insulin eat",
           "chemic substanc diabet produc"
          ],
          [
           "sugar blood type insulin eat",
           "get eat lot sugar food"
          ],
          [
           "sugar blood type insulin eat",
           "use help diabet"
          ],
          [
           "sugar blood type insulin eat",
           "amount sucros diet affect concentr glucos blood"
          ],
          [
           "sugar blood type insulin eat",
           "diabet patient reluct learn give insulin inject first thing medic"
          ],
          [
           "sugar blood type insulin eat",
           "bodi control diabet"
          ],
          [
           "sugar blood type insulin eat",
           "type two diabet cure proper diet"
          ],
          [
           "sugar blood type insulin eat",
           "tomato bad diabet"
          ],
          [
           "sugar blood type insulin eat",
           "diabet resourc internet"
          ],
          [
           "sugar blood type insulin eat",
           "smoke affect someon type two diabet"
          ],
          [
           "sugar blood type insulin eat",
           "diabet affect homeostasi"
          ],
          [
           "sugar blood type insulin eat",
           "accid gave dog much insulin"
          ],
          [
           "sugar blood type insulin eat",
           "go get inform stomach bypass diabet"
          ],
          [
           "sugar blood type insulin eat",
           "home remedi blood sugar patient"
          ],
          [
           "sugar blood type insulin eat",
           "food bought poor rich person caus diabet"
          ],
          [
           "sugar blood type insulin eat",
           "get gestat diabet test"
          ],
          [
           "sugar blood type insulin eat",
           "type ii diabet produc insulin"
          ],
          [
           "sugar blood type insulin eat",
           "good thesi statement diabet peopl live"
          ],
          [
           "sugar blood type insulin eat",
           "differ complic type two diabet"
          ],
          [
           "sugar blood type insulin eat",
           "exercis lower blood sugar"
          ],
          [
           "sugar blood type insulin eat",
           "diabet seriou diseas"
          ],
          [
           "sugar blood type insulin eat",
           "peopl diabet experi low energi level"
          ],
          [
           "sugar blood type insulin eat",
           "better insulin pump anima medtron"
          ],
          [
           "sugar blood type insulin eat",
           "anyon type one diabet"
          ],
          [
           "sugar blood type insulin eat",
           "true fals type two diabet may reflect declin receptor sensit insulin rather decreas insulin product"
          ],
          [
           "sugar blood type insulin eat",
           "malfunct organ bodi caus diabet"
          ],
          [
           "sugar blood type insulin eat",
           "accident gave dog much insulin"
          ],
          [
           "sugar blood type insulin eat",
           "someon wear diabet medic id diabet emerg unclear whether person problem high low blood sugar"
          ],
          [
           "sugar blood type insulin eat",
           "lead caus diabet america prevent get"
          ],
          [
           "sugar blood type insulin eat",
           "hyponidd"
          ],
          [
           "sugar blood type insulin eat",
           "diabet mean high blood sugar"
          ],
          [
           "sugar blood type insulin eat",
           "diabet suffer frequent hypo low blood sugar requir emerg aid doctor prescrib metformin lower insulin sinc metformin lower blood sugar level"
          ],
          [
           "sugar blood type insulin eat",
           "sugar natur antifreez peopl cold climat appear prone diseas involv blood sugar"
          ],
          [
           "sugar blood type insulin eat",
           "ogct"
          ],
          [
           "sugar blood type insulin eat",
           "stephdaught age nine four risk juvenil diabet sinc youngest sleep lot rare activ diet limit fatti high carb fri food"
          ],
          [
           "sugar blood type insulin eat",
           "diabet affect bodi abil make insulin"
          ],
          [
           "sugar blood type insulin eat",
           "could dog die diabet"
          ],
          [
           "sugar blood type insulin eat",
           "get help diabet"
          ],
          [
           "sugar blood type insulin eat",
           "eat raw sugar sign ill"
          ],
          [
           "sugar blood type insulin eat",
           "sugar coma"
          ],
          [
           "sugar blood type insulin eat",
           "best insulin diabit"
          ],
          [
           "sugar blood type insulin eat",
           "kid love sugar"
          ],
          [
           "sugar blood type insulin eat",
           "go find latest diabet treatment"
          ],
          [
           "sugar blood type insulin eat",
           "could two human differ dna sequenc insulin yet still make exact insulin protein"
          ],
          [
           "sugar blood type insulin eat",
           "diabet eat granola"
          ],
          [
           "sugar blood type insulin eat",
           "food caus diabet"
          ],
          [
           "sugar blood type insulin eat",
           "happen diabet stop take insulin"
          ],
          [
           "sugar blood type insulin eat",
           "peopl type one diabet control blood pressur"
          ],
          [
           "sugar blood type insulin eat",
           "diabet form anim"
          ],
          [
           "sugar blood type insulin eat",
           "relat diabet blood sugar"
          ],
          [
           "sugar blood type insulin eat",
           "found diabet"
          ],
          [
           "sugar blood type insulin eat",
           "fish diabet"
          ],
          [
           "sugar blood type insulin eat",
           "much sugar bodi"
          ],
          [
           "sugar blood type insulin eat",
           "die diabet"
          ],
          [
           "sugar blood type insulin eat",
           "mani peopl diabet unit state"
          ],
          [
           "sugar blood type insulin eat",
           "effect diabet human bodi"
          ],
          [
           "sugar blood type insulin eat",
           "contribut type two diabet"
          ],
          [
           "sugar blood type insulin eat",
           "inject diabet shot mistak would diabet"
          ],
          [
           "sugar blood type insulin eat",
           "get diabet eat sugar"
          ],
          [
           "sugar blood type insulin eat",
           "check diabet cbc"
          ],
          [
           "sugar blood type insulin eat",
           "five fact diabet"
          ],
          [
           "sugar blood type insulin eat",
           "patient type diabet treat"
          ],
          [
           "sugar blood type insulin eat",
           "lot sugar"
          ],
          [
           "sugar blood type insulin eat",
           "raisin good diabet"
          ],
          [
           "sugar blood type insulin eat",
           "gin tonic affect blood sugar level"
          ],
          [
           "sugar blood type insulin eat",
           "diabet take paracetamol"
          ],
          [
           "sugar blood type insulin eat",
           "patholog diabet type two"
          ],
          [
           "sugar blood type insulin eat",
           "optim blood glucos control reduc risk coronari heart diseas patient type one diabet"
          ],
          [
           "sugar blood type insulin eat",
           "eat sugar free jello blood test"
          ],
          [
           "sugar blood type insulin eat",
           "diabet cappuccino"
          ],
          [
           "sugar blood type insulin eat",
           "effect medicin treat diabet"
          ],
          [
           "sugar blood type insulin eat",
           "qualif need diabet nurs"
          ],
          [
           "sugar blood type insulin eat",
           "gellium barea"
          ],
          [
           "sugar blood type insulin eat",
           "long diabet around"
          ],
          [
           "sugar blood type insulin eat",
           "diabet make sick"
          ],
          [
           "sugar blood type insulin eat",
           "exercis wheight loss help lower blood sugar level diabet patient"
          ],
          [
           "sugar blood type insulin eat",
           "import factor insid diabet guidelin"
          ],
          [
           "sugar blood type insulin eat",
           "treat patient give much insulin"
          ],
          [
           "sugar blood type insulin eat",
           "diabet mellitu blood glucos level high glucos appear urin due properti carrier protein along kidney tubul name"
          ],
          [
           "sugar blood type insulin eat",
           "inject insulin essenti part daili regim peopl diabet"
          ]
         ],
         "hovertemplate": "summary=%{customdata[0]}<br>pc_1=%{x}<br>pc_2=%{y}<br>pc_3=%{z}<br>sentence=%{customdata[1]}<extra></extra>",
         "legendgroup": "sugar blood type insulin eat",
         "marker": {
          "color": "#EF553B",
          "size": 5,
          "symbol": "circle"
         },
         "mode": "markers",
         "name": "sugar blood type insulin eat",
         "scene": "scene",
         "showlegend": true,
         "type": "scatter3d",
         "x": [
          -6.087392807006836,
          4.0664544105529785,
          -1.5216422080993652,
          7.742751121520996,
          6.621381759643555,
          7.97710657119751,
          3.3132598400115967,
          -1.3338295221328735,
          -4.752803802490234,
          -4.275656700134277,
          -4.206722259521484,
          3.7161006927490234,
          1.7611968517303467,
          4.624415397644043,
          -0.5502675175666809,
          -4.896762371063232,
          3.5691678524017334,
          -2.4747321605682373,
          -3.1455399990081787,
          7.133282661437988,
          -3.6920487880706787,
          3.1639246940612793,
          -3.3016064167022705,
          2.031825304031372,
          5.203838348388672,
          -3.746462106704712,
          0.11028259992599487,
          -4.308928966522217,
          -0.5613304376602173,
          3.2170159816741943,
          -3.6988115310668945,
          3.109623432159424,
          6.6463751792907715,
          -0.6763831377029419,
          -1.4089678525924683,
          -2.862046241760254,
          5.903531074523926,
          -3.6840779781341553,
          -0.2337752729654312,
          -2.545227527618408,
          0.12954869866371155,
          7.661674499511719,
          0.08218202739953995,
          -2.0000362396240234,
          -5.614202499389648,
          -2.4661052227020264,
          -5.269214153289795,
          2.8434791564941406,
          -6.1684489250183105,
          4.691709041595459,
          5.870569229125977,
          -2.5031936168670654,
          3.39139723777771,
          5.309515476226807,
          0.16282814741134644,
          -4.699336528778076,
          6.573986530303955,
          -0.4617377519607544,
          4.7300496101379395,
          -5.397911548614502,
          -2.5655040740966797,
          3.255983352661133,
          -3.35188627243042,
          -0.03476271033287048,
          0.8598883152008057,
          -5.9396491050720215,
          -3.1724963188171387,
          -3.1831846237182617,
          -0.3990495800971985,
          -5.045263290405273,
          3.6486499309539795,
          7.589139938354492,
          -2.403738498687744,
          -2.073298692703247,
          -2.9618618488311768,
          3.191653251647949,
          -4.242630958557129,
          -2.3834211826324463,
          3.5244436264038086,
          -4.361971378326416,
          -5.044021129608154,
          -4.791879653930664,
          1.2342549562454224,
          -4.178891181945801,
          2.819751262664795,
          -4.82601261138916,
          -2.338654041290283,
          0.3101338744163513,
          -1.772117018699646,
          6.506270408630371,
          6.6153764724731445,
          0.5036903023719788,
          -0.5057531595230103,
          -2.6271002292633057,
          3.2514772415161133,
          -3.24282169342041,
          -4.827192783355713,
          0.5072581768035889,
          -4.300589084625244,
          -5.014042377471924,
          6.567604064941406,
          -3.5508995056152344,
          -2.059420108795166,
          -3.1498403549194336,
          -3.045938730239868,
          -6.327371597290039,
          8.117377281188965,
          -3.3996500968933105,
          3.6883397102355957,
          -0.04273492470383644,
          -5.446034908294678,
          -3.2173824310302734,
          -2.322809934616089,
          -4.551060676574707,
          7.571557998657227,
          -4.664379596710205,
          0.04350081458687782,
          -0.4549649655818939,
          -1.9459458589553833,
          -5.892359256744385,
          -0.7112759947776794,
          -4.3231916427612305,
          -3.5314080715179443,
          -2.5965867042541504,
          2.5345168113708496,
          -2.753721237182617,
          6.925238609313965,
          -0.49902307987213135,
          -2.990710973739624,
          6.440663814544678,
          -2.5467021465301514,
          -4.753016948699951,
          -3.2288804054260254,
          -4.597926139831543,
          1.8384636640548706,
          -0.8023489117622375,
          0.36895906925201416,
          4.786683559417725,
          -4.423901081085205,
          3.733839511871338,
          -3.6546590328216553,
          -3.395538091659546,
          -2.582641839981079,
          -4.927148342132568,
          -0.18731173872947693,
          -4.623281002044678,
          6.297016143798828,
          -0.2997288703918457,
          1.9958860874176025,
          -4.827802658081055,
          3.4455530643463135,
          6.576592922210693,
          -4.627160549163818,
          -5.19680643081665,
          1.5088484287261963,
          6.55651330947876,
          0.558331310749054,
          3.6745235919952393,
          3.9223074913024902,
          -2.73750638961792,
          5.351110458374023,
          -0.6295911073684692,
          6.352567195892334,
          -5.297444820404053,
          -0.5436668992042542,
          0.19793085753917694,
          -0.17147226631641388
         ],
         "y": [
          0.32495272159576416,
          5.320592403411865,
          -3.9630935192108154,
          0.6565501093864441,
          -1.8233871459960938,
          0.860117495059967,
          -2.195291757583618,
          0.500618040561676,
          -0.2102060467004776,
          -1.7694276571273804,
          2.4520814418792725,
          5.330023765563965,
          4.728006839752197,
          0.8124194741249084,
          -0.031408097594976425,
          -1.7527611255645752,
          -3.8428843021392822,
          4.713769435882568,
          2.459141969680786,
          1.5939334630966187,
          -3.1524789333343506,
          -1.4779658317565918,
          3.9620699882507324,
          -0.613624632358551,
          -0.4239925444126129,
          -2.9733052253723145,
          4.512389659881592,
          -2.033240556716919,
          5.012181758880615,
          -0.2727140188217163,
          3.0947868824005127,
          5.009343147277832,
          -2.4147064685821533,
          4.412831783294678,
          -4.104318141937256,
          -3.525089740753174,
          -1.082233190536499,
          2.6386024951934814,
          4.365701675415039,
          -5.277326583862305,
          -0.3689359128475189,
          0.7408698201179504,
          -4.8375725746154785,
          4.733981609344482,
          1.9948850870132446,
          5.065282821655273,
          -1.111755609512329,
          -0.8356361985206604,
          0.40269890427589417,
          -0.938659131526947,
          -0.8668035268783569,
          -3.8546783924102783,
          -0.26303720474243164,
          0.7994964122772217,
          4.610917568206787,
          -0.8865771293640137,
          -1.734693169593811,
          3.406986951828003,
          -0.4903640151023865,
          -0.45833295583724976,
          2.3014378547668457,
          0.30350664258003235,
          1.824623703956604,
          4.633699893951416,
          2.299926280975342,
          -0.04898421838879585,
          -3.548190116882324,
          -4.201385021209717,
          3.9641122817993164,
          -1.4943798780441284,
          -2.1491360664367676,
          1.6210548877716064,
          2.1957576274871826,
          3.8088486194610596,
          -3.633641242980957,
          -0.8493691682815552,
          -1.8779728412628174,
          -4.333909034729004,
          -0.8113039135932922,
          -2.0392348766326904,
          1.9298789501190186,
          -0.6508069038391113,
          1.855249047279358,
          -2.589569091796875,
          0.9073485732078552,
          0.2562067210674286,
          3.926976442337036,
          4.09947395324707,
          -4.343694686889648,
          1.043939471244812,
          -2.8047125339508057,
          -0.5044520497322083,
          3.2030603885650635,
          -3.8113415241241455,
          0.2824241816997528,
          3.532487630844116,
          0.4577709436416626,
          4.486943244934082,
          2.233506917953491,
          -0.943670928478241,
          -0.6191735863685608,
          -3.360973834991455,
          5.007513046264648,
          2.098984956741333,
          2.5173332691192627,
          0.6904458999633789,
          0.8234104514122009,
          2.6218249797821045,
          5.354685306549072,
          -0.19897443056106567,
          1.9430934190750122,
          2.217521905899048,
          4.319121360778809,
          2.2288246154785156,
          1.592668056488037,
          -1.9739772081375122,
          4.473391532897949,
          5.117180347442627,
          2.7815864086151123,
          3.5794265270233154,
          3.909947395324707,
          -2.430835723876953,
          2.1431772708892822,
          4.128396987915039,
          -3.8560409545898438,
          -3.1696667671203613,
          1.649852991104126,
          -0.0284627303481102,
          -3.75246524810791,
          -2.141920804977417,
          2.3427271842956543,
          -0.3299160599708557,
          -3.615790367126465,
          2.1910972595214844,
          0.40946903824806213,
          3.609867572784424,
          3.39682936668396,
          1.1840944290161133,
          -1.4850623607635498,
          0.8857011795043945,
          2.6308400630950928,
          3.6299057006835938,
          3.9584758281707764,
          -0.7039238214492798,
          3.582374095916748,
          -1.9725974798202515,
          0.9964425563812256,
          2.931450605392456,
          -0.31337180733680725,
          3.3486390113830566,
          -0.05630461871623993,
          -2.806627035140991,
          -0.6481820344924927,
          2.0269665718078613,
          1.0290578603744507,
          -1.538544774055481,
          4.1965861320495605,
          6.92960786819458,
          -2.353835344314575,
          3.8990848064422607,
          -0.9346686005592346,
          3.6090903282165527,
          -1.2011198997497559,
          -1.2949260473251343,
          -0.03942052647471428,
          7.305228233337402,
          -4.742442607879639
         ],
         "z": [
          4.376723766326904,
          -5.344897270202637,
          1.3318586349487305,
          -4.925706386566162,
          -3.5258841514587402,
          -5.059901714324951,
          -2.6107468605041504,
          -8.337984085083008,
          1.8156224489212036,
          3.0044636726379395,
          -4.644957542419434,
          -5.460596561431885,
          -6.0226521492004395,
          -4.565250396728516,
          -7.9300971031188965,
          4.591224670410156,
          -2.3836662769317627,
          -3.0751852989196777,
          -1.25974440574646,
          -5.246232032775879,
          3.3093013763427734,
          -2.9821019172668457,
          -2.5945920944213867,
          -4.305678367614746,
          -4.087117671966553,
          3.280923366546631,
          -4.417938709259033,
          3.450835704803467,
          -4.289560317993164,
          -3.615718126296997,
          -2.8682138919830322,
          -5.243457794189453,
          -3.199836254119873,
          -4.770757675170898,
          1.386628270149231,
          2.2470946311950684,
          -3.8081483840942383,
          -1.203284502029419,
          -5.006320476531982,
          2.8137307167053223,
          -8.646293640136719,
          -4.951132297515869,
          -1.6312947273254395,
          -3.471524477005005,
          -4.435578346252441,
          -2.951700210571289,
          4.678247451782227,
          -3.213043689727783,
          4.633546352386475,
          -3.6834397315979004,
          -3.875197410583496,
          1.4268244504928589,
          -3.6692655086517334,
          -4.619433879852295,
          -5.719909191131592,
          2.7720468044281006,
          -3.5653645992279053,
          -4.220641136169434,
          -4.633445739746094,
          4.075287342071533,
          -6.976207256317139,
          -3.917581558227539,
          -6.467381954193115,
          -4.75312614440918,
          -4.302685737609863,
          4.924020767211914,
          2.847080707550049,
          3.122211456298828,
          -4.9527997970581055,
          4.623018741607666,
          -2.7042500972747803,
          -5.340563774108887,
          -7.302380084991455,
          -3.4823904037475586,
          2.541604518890381,
          -3.3456060886383057,
          3.091249942779541,
          2.487279176712036,
          -3.4119608402252197,
          3.5352816581726074,
          -4.391294479370117,
          2.648186206817627,
          -4.3221964836120605,
          3.8200862407684326,
          -4.133431434631348,
          0.8903250694274902,
          -2.994140625,
          -5.7752156257629395,
          2.2026331424713135,
          -4.9000563621521,
          -2.967771291732788,
          -8.997097969055176,
          -5.29467248916626,
          1.5524426698684692,
          -3.9111340045928955,
          -2.7331888675689697,
          0.5201942920684814,
          -5.900092124938965,
          -5.179523468017578,
          3.7172577381134033,
          -4.138716697692871,
          3.2227213382720947,
          -3.2877564430236816,
          -6.516287326812744,
          -1.389365553855896,
          4.218758583068848,
          -5.067439079284668,
          -1.2728444337844849,
          -5.481041431427002,
          -9.0958833694458,
          -4.151163578033447,
          -6.338594913482666,
          -3.504652261734009,
          -4.9743332862854,
          -5.3202595710754395,
          4.276690483093262,
          -5.726600170135498,
          -4.932350158691406,
          -7.181879997253418,
          3.227264165878296,
          -4.643352031707764,
          3.9913320541381836,
          -6.07158899307251,
          -3.0509438514709473,
          -2.3312718868255615,
          2.3334567546844482,
          -5.223137855529785,
          -8.530031204223633,
          2.7330877780914307,
          -3.320145606994629,
          -6.86681604385376,
          2.014495849609375,
          2.9242138862609863,
          -4.996713638305664,
          -4.3477253913879395,
          -4.602501392364502,
          -4.000553607940674,
          -4.690565586090088,
          2.963320732116699,
          -4.401002407073975,
          -1.1105186939239502,
          -2.4577009677886963,
          -3.532137393951416,
          3.067885398864746,
          -5.177377700805664,
          4.168457508087158,
          -4.854013442993164,
          -4.229205131530762,
          -4.16271448135376,
          0.538878858089447,
          -3.764343500137329,
          -2.9596688747406006,
          2.21171236038208,
          -4.137738227844238,
          -4.4279046058654785,
          -3.669038772583008,
          -5.942928314208984,
          -5.798703193664551,
          -2.648143768310547,
          -3.0085794925689697,
          -3.834029197692871,
          -4.682287693023682,
          -3.8133864402770996,
          5.0262908935546875,
          -8.045377731323242,
          -7.829648494720459,
          -1.8426800966262817
         ]
        },
        {
         "customdata": [
          [
           "diet eat food sugar good",
           "diabet patent eat pomegran fruit"
          ],
          [
           "diet eat food sugar good",
           "type food diabet eat"
          ],
          [
           "diet eat food sugar good",
           "free cooki recip diabet"
          ],
          [
           "diet eat food sugar good",
           "cinnamon help diabet"
          ],
          [
           "diet eat food sugar good",
           "better diabet arrowroot cornflour"
          ],
          [
           "diet eat food sugar good",
           "bad diabet eat"
          ],
          [
           "diet eat food sugar good",
           "mani gram sugar appropri per day averag teen"
          ],
          [
           "diet eat food sugar good",
           "five food carb"
          ],
          [
           "diet eat food sugar good",
           "research done suma"
          ],
          [
           "diet eat food sugar good",
           "mani carb one hundr eighti lb five six larg bone diabet femal daili lose weight"
          ],
          [
           "diet eat food sugar good",
           "find new diabet food list show good food choic"
          ],
          [
           "diet eat food sugar good",
           "diabet patient eat sweet corn"
          ],
          [
           "diet eat food sugar good",
           "diet plan use type one type two diabet"
          ],
          [
           "diet eat food sugar good",
           "consum cinnamon diabet"
          ],
          [
           "diet eat food sugar good",
           "type two diabet cure"
          ],
          [
           "diet eat food sugar good",
           "good desert diabet"
          ],
          [
           "diet eat food sugar good",
           "thirti nine year diabet high blood pressur well bring control"
          ],
          [
           "diet eat food sugar good",
           "diabet patient eat cashew seed"
          ],
          [
           "diet eat food sugar good",
           "borderlin diabet doctor said control diet mani carb per day"
          ],
          [
           "diet eat food sugar good",
           "honey diabet"
          ],
          [
           "diet eat food sugar good",
           "good idea diabet meal"
          ],
          [
           "diet eat food sugar good",
           "anyon assist inform diabet meal plan someon diabet"
          ],
          [
           "diet eat food sugar good",
           "good sampl breakfast menu diabet"
          ],
          [
           "diet eat food sugar good",
           "best beer diabet"
          ],
          [
           "diet eat food sugar good",
           "contraind diabet diet"
          ],
          [
           "diet eat food sugar good",
           "world diabet cookbook"
          ],
          [
           "diet eat food sugar good",
           "diabet suppli medicar"
          ],
          [
           "diet eat food sugar good",
           "food would diabet food list"
          ],
          [
           "diet eat food sugar good",
           "feder agenc help patient need follow diabet diet plan"
          ],
          [
           "diet eat food sugar good",
           "watermelon good diabet patient"
          ],
          [
           "diet eat food sugar good",
           "kevin trudeau recommend cure diabet"
          ],
          [
           "diet eat food sugar good",
           "onlin diet menu diabet"
          ],
          [
           "diet eat food sugar good",
           "treatment diabet"
          ],
          [
           "diet eat food sugar good",
           "list food high sugar"
          ],
          [
           "diet eat food sugar good",
           "save money test diabet suppli"
          ],
          [
           "diet eat food sugar good",
           "help peopl diabet"
          ],
          [
           "diet eat food sugar good",
           "scientist make educ guess diabet caus genet factor guess exampl n"
          ],
          [
           "diet eat food sugar good",
           "cocoyam good diabet"
          ],
          [
           "diet eat food sugar good",
           "websit help find diabet dtour diet"
          ],
          [
           "diet eat food sugar good",
           "eat best control diabet"
          ],
          [
           "diet eat food sugar good",
           "recommend dietari allow protein"
          ],
          [
           "diet eat food sugar good",
           "find meal plan diabet"
          ],
          [
           "diet eat food sugar good",
           "find inform diet diabet"
          ],
          [
           "diet eat food sugar good",
           "children receiv diabet educ"
          ],
          [
           "diet eat food sugar good",
           "mean di proverb faith friend medicin life"
          ],
          [
           "diet eat food sugar good",
           "bring high blood pressur"
          ],
          [
           "diet eat food sugar good",
           "food high ad sugar"
          ],
          [
           "diet eat food sugar good",
           "find inform diabet diet"
          ],
          [
           "diet eat food sugar good",
           "blood sugar mainten diabet weight loss diet plan"
          ],
          [
           "diet eat food sugar good",
           "type diet person keep angina"
          ],
          [
           "diet eat food sugar good",
           "import diabet food pyramid someon type two diabeti"
          ],
          [
           "diet eat food sugar good",
           "diabet diet menu help diabet"
          ],
          [
           "diet eat food sugar good",
           "product claim natur cure diabet"
          ],
          [
           "diet eat food sugar good",
           "diabet food found store"
          ],
          [
           "diet eat food sugar good",
           "low fat diet recommend treat diabet"
          ],
          [
           "diet eat food sugar good",
           "diabet still eat potato"
          ],
          [
           "diet eat food sugar good",
           "simpl dinner recip would work diabet menu plan"
          ],
          [
           "diet eat food sugar good",
           "list food high sugar"
          ],
          [
           "diet eat food sugar good",
           "research done reflexolog"
          ],
          [
           "diet eat food sugar good",
           "good diabet cheesecak recip"
          ],
          [
           "diet eat food sugar good",
           "easi diabet dessert"
          ],
          [
           "diet eat food sugar good",
           "one follow chemic artifici sweeten prescrib ot diabet person"
          ],
          [
           "diet eat food sugar good",
           "cook popular diabet recip"
          ],
          [
           "diet eat food sugar good",
           "restaur carri diabet diet menu"
          ],
          [
           "diet eat food sugar good",
           "eat sugar type two diabet"
          ],
          [
           "diet eat food sugar good",
           "diabet allow eat"
          ],
          [
           "diet eat food sugar good",
           "place one receiv free diabet suppli"
          ],
          [
           "diet eat food sugar good",
           "safe lower limit diabet patient normal control level"
          ],
          [
           "diet eat food sugar good",
           "name diabet specialist"
          ],
          [
           "diet eat food sugar good",
           "peopl type one diabet lose weight"
          ],
          [
           "diet eat food sugar good",
           "iu measur vitamin e translat mcg mg"
          ],
          [
           "diet eat food sugar good",
           "illeg diabet eat sugar"
          ],
          [
           "diet eat food sugar good",
           "tai chi cure diabet"
          ],
          [
           "diet eat food sugar good",
           "daili food eat"
          ],
          [
           "diet eat food sugar good",
           "purchas diabet food"
          ],
          [
           "diet eat food sugar good",
           "quantiti beet root one diabet patient daili"
          ],
          [
           "diet eat food sugar good",
           "effect way reduc risk heart diseas cancer diabet seriou ill"
          ],
          [
           "diet eat food sugar good",
           "diabet drink wine"
          ],
          [
           "diet eat food sugar good",
           "recip book diabet diabet cheesecak recip"
          ],
          [
           "diet eat food sugar good",
           "find diabet type two diet"
          ],
          [
           "diet eat food sugar good",
           "would chees help lower sugar level diabet"
          ],
          [
           "diet eat food sugar good",
           "tip follow diabet cooki recip"
          ],
          [
           "diet eat food sugar good",
           "prevent type one type two diabet"
          ],
          [
           "diet eat food sugar good",
           "anywher get free suppli blood sugar test"
          ],
          [
           "diet eat food sugar good",
           "amino acid good diabet"
          ],
          [
           "diet eat food sugar good",
           "kind doctor diabet see"
          ],
          [
           "diet eat food sugar good",
           "medicaid pay diabet shoe georgia"
          ],
          [
           "diet eat food sugar good",
           "diabet diet chart follow"
          ],
          [
           "diet eat food sugar good",
           "recommend good diabet diet"
          ],
          [
           "diet eat food sugar good",
           "eat fish egg good diabet person"
          ],
          [
           "diet eat food sugar good",
           "diabet dad order eat"
          ],
          [
           "diet eat food sugar good",
           "diabet supplement peopl diabet"
          ],
          [
           "diet eat food sugar good",
           "artifici sugar better"
          ],
          [
           "diet eat food sugar good",
           "diabet eat strawberri"
          ],
          [
           "diet eat food sugar good",
           "raven symon diabet"
          ],
          [
           "diet eat food sugar good",
           "mani gram sugar diabet intak day"
          ],
          [
           "diet eat food sugar good",
           "reput diabet cookbook purchas onlin"
          ],
          [
           "diet eat food sugar good",
           "lose weight pre diabet"
          ],
          [
           "diet eat food sugar good",
           "someon diabet medic treatment"
          ],
          [
           "diet eat food sugar good",
           "meal safe peopl diabet"
          ],
          [
           "diet eat food sugar good",
           "find inform diabet treatment internet"
          ],
          [
           "diet eat food sugar good",
           "would diet plan diabet food watch care"
          ],
          [
           "diet eat food sugar good",
           "cookbook diabet diabet"
          ],
          [
           "diet eat food sugar good",
           "dessert recip diabet found"
          ],
          [
           "diet eat food sugar good",
           "find recip mexican dessert"
          ],
          [
           "diet eat food sugar good",
           "specif type one diabet diet"
          ],
          [
           "diet eat food sugar good",
           "place one find diet diabet"
          ],
          [
           "diet eat food sugar good",
           "print diabet diet sheet"
          ],
          [
           "diet eat food sugar good",
           "diabet diet plan fit"
          ],
          [
           "diet eat food sugar good",
           "find good book diabet blood sugar level"
          ],
          [
           "diet eat food sugar good",
           "much sugar diabet eat"
          ],
          [
           "diet eat food sugar good",
           "ingredi avoid make diabet cooki recip"
          ],
          [
           "diet eat food sugar good",
           "exercis easili improv type one diabet"
          ],
          [
           "diet eat food sugar good",
           "melon watermelon safe fruit diabet"
          ],
          [
           "diet eat food sugar good",
           "parentern nutrit inject taken oral"
          ],
          [
           "diet eat food sugar good",
           "food make wors diabet"
          ],
          [
           "diet eat food sugar good",
           "much sugar haribo"
          ],
          [
           "diet eat food sugar good",
           "would person need diabet neuropathi treatment"
          ],
          [
           "diet eat food sugar good",
           "free medic suppli"
          ],
          [
           "diet eat food sugar good",
           "research done rolf"
          ],
          [
           "diet eat food sugar good",
           "food list diabet"
          ],
          [
           "diet eat food sugar good",
           "altern holisit remedi cure diabet"
          ],
          [
           "diet eat food sugar good",
           "ok eat ham diabet"
          ],
          [
           "diet eat food sugar good",
           "treatment diabet retinopathi"
          ],
          [
           "diet eat food sugar good",
           "carrot juic good diabet patient"
          ],
          [
           "diet eat food sugar good",
           "find free diabet diet book"
          ],
          [
           "diet eat food sugar good",
           "write school research paper diabet"
          ],
          [
           "diet eat food sugar good",
           "diabet shoe purchas singapor"
          ],
          [
           "diet eat food sugar good",
           "cook whole famili husband diabet diet"
          ],
          [
           "diet eat food sugar good",
           "food without glucos"
          ],
          [
           "diet eat food sugar good",
           "prevent diabet"
          ],
          [
           "diet eat food sugar good",
           "get free diabet suppli insur need meter well pleas help type two diabet insur ran"
          ],
          [
           "diet eat food sugar good",
           "best diabet diet go"
          ],
          [
           "diet eat food sugar good",
           "diabet safe diet eat"
          ],
          [
           "diet eat food sugar good",
           "one find joslin diabet center"
          ],
          [
           "diet eat food sugar good",
           "good old remedi diabet"
          ],
          [
           "diet eat food sugar good",
           "research done tangerin peel"
          ],
          [
           "diet eat food sugar good",
           "best cereal diabet"
          ],
          [
           "diet eat food sugar good",
           "one sweeten commonli use diabet cooki recip"
          ],
          [
           "diet eat food sugar good",
           "diabet eat peanut"
          ],
          [
           "diet eat food sugar good",
           "mani gram sugar woman consum per day"
          ],
          [
           "diet eat food sugar good",
           "diet would best diabet"
          ],
          [
           "diet eat food sugar good",
           "one find inform diet diabet"
          ],
          [
           "diet eat food sugar good",
           "find good sugar diabet diet"
          ],
          [
           "diet eat food sugar good",
           "danger consum cheap diabet suppli"
          ],
          [
           "diet eat food sugar good",
           "fruit eat blood sugar problem"
          ],
          [
           "diet eat food sugar good",
           "onlin site offer diabet recip"
          ],
          [
           "diet eat food sugar good",
           "good conclus diabet"
          ],
          [
           "diet eat food sugar good",
           "treatment medic diabet"
          ],
          [
           "diet eat food sugar good",
           "becom diabet educ"
          ],
          [
           "diet eat food sugar good",
           "ayurveda help someon diabet"
          ],
          [
           "diet eat food sugar good",
           "includ diabet diet menu"
          ],
          [
           "diet eat food sugar good",
           "find diabet diet chart"
          ],
          [
           "diet eat food sugar good",
           "diet meal plan sugar diabet"
          ],
          [
           "diet eat food sugar good",
           "nutrisystem diabet diet harm diabet"
          ],
          [
           "diet eat food sugar good",
           "recommend diet treatment prevent diabet neuropathi"
          ],
          [
           "diet eat food sugar good",
           "kind deal exist notebook type comput"
          ],
          [
           "diet eat food sugar good",
           "rice pasta better part diabet meal"
          ],
          [
           "diet eat food sugar good",
           "type food good peopl diabet eat"
          ],
          [
           "diet eat food sugar good",
           "diabet eat fruit"
          ],
          [
           "diet eat food sugar good",
           "combin food rais blood sugar"
          ],
          [
           "diet eat food sugar good",
           "ohip cover diabet medic"
          ],
          [
           "diet eat food sugar good",
           "mani carbohydr type one diabet eat day"
          ],
          [
           "diet eat food sugar good",
           "good diabet breakfast"
          ],
          [
           "diet eat food sugar good",
           "help three hundr eight pound type ii diabet lose weight"
          ],
          [
           "diet eat food sugar good",
           "kind sugar substitut use diabet pound cake recip"
          ],
          [
           "diet eat food sugar good",
           "someon diabet eat weetbix"
          ],
          [
           "diet eat food sugar good",
           "find good diabet diet food list"
          ],
          [
           "diet eat food sugar good",
           "find tasti diabet recip"
          ],
          [
           "diet eat food sugar good",
           "research done vegan"
          ],
          [
           "diet eat food sugar good",
           "herb cure scurvi"
          ],
          [
           "diet eat food sugar good",
           "ohio medicaid cover gastric bypass surgeri"
          ],
          [
           "diet eat food sugar good",
           "purpos diabet bracelet"
          ],
          [
           "diet eat food sugar good",
           "chang person make order achiev cure diabet type two"
          ],
          [
           "diet eat food sugar good",
           "control diabet"
          ],
          [
           "diet eat food sugar good",
           "cinnamon cure diabet"
          ],
          [
           "diet eat food sugar good",
           "latest nutrit guid diabet"
          ],
          [
           "diet eat food sugar good",
           "diabet test suppli mail"
          ],
          [
           "diet eat food sugar good",
           "import qualiti diabet suppli"
          ],
          [
           "diet eat food sugar good",
           "new food pyramind diabet"
          ],
          [
           "diet eat food sugar good",
           "glycem index grit"
          ],
          [
           "diet eat food sugar good",
           "combin vitamin"
          ],
          [
           "diet eat food sugar good",
           "best free diabet recip"
          ],
          [
           "diet eat food sugar good",
           "convert recip diabet"
          ],
          [
           "diet eat food sugar good",
           "peopl diabet eat sugar"
          ],
          [
           "diet eat food sugar good",
           "best natur diabet treatment"
          ],
          [
           "diet eat food sugar good",
           "best diet diabet"
          ],
          [
           "diet eat food sugar good",
           "mcclain sister diabet"
          ],
          [
           "diet eat food sugar good",
           "word diabetina spanish herb diabet"
          ],
          [
           "diet eat food sugar good",
           "fruit honey bad diabet"
          ],
          [
           "diet eat food sugar good",
           "kind differ treatment diabet"
          ],
          [
           "diet eat food sugar good",
           "go onlin find inform diabet recip"
          ],
          [
           "diet eat food sugar good",
           "onlin list diabet food"
          ],
          [
           "diet eat food sugar good",
           "diseas pandan leav cure"
          ],
          [
           "diet eat food sugar good",
           "mani gram carb eat per day low fat diet"
          ],
          [
           "diet eat food sugar good",
           "diabet eat papaya"
          ],
          [
           "diet eat food sugar good",
           "way treat diabet"
          ],
          [
           "diet eat food sugar good",
           "diabet nutrit"
          ],
          [
           "diet eat food sugar good",
           "great diabet recip"
          ],
          [
           "diet eat food sugar good",
           "person low blood sugar suggest could eat bring blood sugar level fastest way"
          ],
          [
           "diet eat food sugar good",
           "food make wors diabet"
          ],
          [
           "diet eat food sugar good",
           "involv diabet diet"
          ],
          [
           "diet eat food sugar good",
           "best way lose keep weight diabet"
          ],
          [
           "diet eat food sugar good",
           "nut bean eat diabet person"
          ],
          [
           "diet eat food sugar good",
           "one pleas tell find healthi food diabet like"
          ],
          [
           "diet eat food sugar good",
           "exampl diabet diet"
          ],
          [
           "diet eat food sugar good",
           "deliv diabet meal plan"
          ],
          [
           "diet eat food sugar good",
           "behavior doctor recommend avoid type two diabet"
          ],
          [
           "diet eat food sugar good",
           "healthi weekli meal plan diabet"
          ],
          [
           "diet eat food sugar good",
           "free diabet suppli"
          ],
          [
           "diet eat food sugar good",
           "diabet eat onion"
          ],
          [
           "diet eat food sugar good",
           "mani gram sugar allow per day"
          ],
          [
           "diet eat food sugar good",
           "banana bad type two diabet"
          ],
          [
           "diet eat food sugar good",
           "find onlin menu diabet"
          ],
          [
           "diet eat food sugar good",
           "diabet lasik surgeri"
          ],
          [
           "diet eat food sugar good",
           "good diabet cake recip"
          ],
          [
           "diet eat food sugar good",
           "effect diet diabet"
          ],
          [
           "diet eat food sugar good",
           "need balanc diet"
          ],
          [
           "diet eat food sugar good",
           "doctor refer diabet educ class"
          ],
          [
           "diet eat food sugar good",
           "treatment type one diabet"
          ],
          [
           "diet eat food sugar good",
           "appropri cooki recip diabet"
          ],
          [
           "diet eat food sugar good",
           "diabet eat sago seed"
          ],
          [
           "diet eat food sugar good",
           "diabet food chart compar basic food chart"
          ],
          [
           "diet eat food sugar good",
           "diabet total sugar diet"
          ],
          [
           "diet eat food sugar good",
           "good treatment diabet"
          ],
          [
           "diet eat food sugar good",
           "name diabet onlin diet program"
          ],
          [
           "diet eat food sugar good",
           "good chocol diabet cake recip"
          ],
          [
           "diet eat food sugar good",
           "main ingredi normal recip diabet eat"
          ],
          [
           "diet eat food sugar good",
           "get diabet cookbook"
          ],
          [
           "diet eat food sugar good",
           "recommend consum food five gram benefici weight control diabet even form cancer"
          ],
          [
           "diet eat food sugar good",
           "would like know good food diabet bad food diabet"
          ],
          [
           "diet eat food sugar good",
           "prediabeti carbohydr intak"
          ],
          [
           "diet eat food sugar good",
           "research done sargassum seawe"
          ],
          [
           "diet eat food sugar good",
           "diabet lost weight fast low glycem food gain"
          ],
          [
           "diet eat food sugar good",
           "diet young diabet men"
          ],
          [
           "diet eat food sugar good",
           "danger diabet eat meal contain lot sugar"
          ],
          [
           "diet eat food sugar good",
           "herb good diabet"
          ],
          [
           "diet eat food sugar good",
           "blood sugar high fresh fruit ok"
          ],
          [
           "diet eat food sugar good",
           "find diabet recip"
          ],
          [
           "diet eat food sugar good",
           "eat diabet"
          ],
          [
           "diet eat food sugar good",
           "good resourc use obtain diabet diet sheet"
          ],
          [
           "diet eat food sugar good",
           "one purchas sock suitabl diabet"
          ],
          [
           "diet eat food sugar good",
           "mani carb diabet eat one meal"
          ],
          [
           "diet eat food sugar good",
           "mani gram carb one hundr thirti five lb woman per day"
          ],
          [
           "diet eat food sugar good",
           "diabet friendli food"
          ],
          [
           "diet eat food sugar good",
           "type food diabet avoid"
          ],
          [
           "diet eat food sugar good",
           "oil base food good women"
          ],
          [
           "diet eat food sugar good",
           "kind diet diabet"
          ],
          [
           "diet eat food sugar good",
           "eat fish chip diabet"
          ],
          [
           "diet eat food sugar good",
           "type one diabet eat honey"
          ],
          [
           "diet eat food sugar good",
           "exactli food diabet mean"
          ],
          [
           "diet eat food sugar good",
           "effect diet diabet type two"
          ],
          [
           "diet eat food sugar good",
           "vitamin get rid diabet"
          ],
          [
           "diet eat food sugar good",
           "eat unsweeten appl sauc diabet diet"
          ],
          [
           "diet eat food sugar good",
           "eat diabet"
          ],
          [
           "diet eat food sugar good",
           "glycem index diet help diabet"
          ],
          [
           "diet eat food sugar good",
           "secretagogu substanc"
          ],
          [
           "diet eat food sugar good",
           "lose weight health reason"
          ],
          [
           "diet eat food sugar good",
           "drink beer safe diabet"
          ],
          [
           "diet eat food sugar good",
           "type one diabet affect sperm count"
          ],
          [
           "diet eat food sugar good",
           "find diet plan person type two diabet"
          ],
          [
           "diet eat food sugar good",
           "best diabet diet food give fifteen year old grow girl"
          ],
          [
           "diet eat food sugar good",
           "alcoh good diabet"
          ],
          [
           "diet eat food sugar good",
           "one purchas gourmet chocol suitabl diabet"
          ],
          [
           "diet eat food sugar good",
           "omega three good diabet"
          ],
          [
           "diet eat food sugar good",
           "find recip sugar free dessert"
          ],
          [
           "diet eat food sugar good",
           "find free diabet meter"
          ],
          [
           "diet eat food sugar good",
           "good diet diabet tri"
          ]
         ],
         "hovertemplate": "summary=%{customdata[0]}<br>pc_1=%{x}<br>pc_2=%{y}<br>pc_3=%{z}<br>sentence=%{customdata[1]}<extra></extra>",
         "legendgroup": "diet eat food sugar good",
         "marker": {
          "color": "#00cc96",
          "size": 5,
          "symbol": "circle"
         },
         "mode": "markers",
         "name": "diet eat food sugar good",
         "scene": "scene",
         "showlegend": true,
         "type": "scatter3d",
         "x": [
          2.1776201725006104,
          -0.8337178826332092,
          10.928633689880371,
          11.103815078735352,
          3.3829398155212402,
          3.2410004138946533,
          4.765527725219727,
          2.6916985511779785,
          3.5072011947631836,
          4.478944778442383,
          5.71668004989624,
          1.3857014179229736,
          9.31428050994873,
          4.986100673675537,
          -1.3111296892166138,
          2.029942274093628,
          5.248515605926514,
          3.425624132156372,
          4.633172988891602,
          0.9810084104537964,
          3.6357386112213135,
          9.15868854522705,
          10.472277641296387,
          2.4965083599090576,
          4.108738422393799,
          8.127909660339355,
          6.968563079833984,
          8.577444076538086,
          10.31515121459961,
          5.7165374755859375,
          7.063294410705566,
          10.59290599822998,
          4.6712327003479,
          5.234216213226318,
          6.079441070556641,
          1.9656178951263428,
          2.3147881031036377,
          2.008700370788574,
          4.375072002410889,
          0.19606275856494904,
          7.534538745880127,
          10.584000587463379,
          10.505236625671387,
          -2.4156105518341064,
          1.4122954607009888,
          5.568083763122559,
          3.9260783195495605,
          7.539176940917969,
          6.622824192047119,
          -0.06194479018449783,
          -1.212503433227539,
          11.357606887817383,
          8.861011505126953,
          5.325815677642822,
          8.728620529174805,
          2.4397263526916504,
          10.111513137817383,
          5.233124732971191,
          3.647646903991699,
          10.841527938842773,
          7.451340198516846,
          4.671449661254883,
          10.24088191986084,
          9.963858604431152,
          -1.4903316497802734,
          0.1312107890844345,
          9.11290454864502,
          5.783208847045898,
          -1.0654457807540894,
          -1.8488199710845947,
          5.83904504776001,
          4.978242874145508,
          3.7405738830566406,
          4.640228748321533,
          2.556412935256958,
          0.8362475037574768,
          1.5841635465621948,
          3.8397223949432373,
          11.081515312194824,
          -0.3111501634120941,
          6.039642810821533,
          10.559510231018066,
          -1.8914554119110107,
          6.821718692779541,
          2.245023250579834,
          2.0305089950561523,
          2.5333402156829834,
          6.950686454772949,
          6.196874141693115,
          3.9463658332824707,
          1.6660926342010498,
          -0.5695862174034119,
          5.694578647613525,
          1.640785813331604,
          2.2828826904296875,
          1.872658610343933,
          10.682503700256348,
          1.1261496543884277,
          4.89727258682251,
          4.95604133605957,
          6.841663837432861,
          10.12212085723877,
          8.422233581542969,
          11.420344352722168,
          11.354536056518555,
          2.0863826274871826,
          8.404522895812988,
          7.800926685333252,
          9.977828979492188,
          6.982107162475586,
          1.418562412261963,
          10.750292778015137,
          -1.7120665311813354,
          7.71235466003418,
          6.029235363006592,
          0.24249956011772156,
          3.748548984527588,
          -0.9470212459564209,
          4.979148864746094,
          3.6189165115356445,
          8.995550155639648,
          9.306136131286621,
          7.7977705001831055,
          2.0664496421813965,
          7.7985148429870605,
          9.360429763793945,
          -1.715926170349121,
          8.923900604248047,
          -0.8922698497772217,
          5.70903205871582,
          -0.9437001347541809,
          4.232187747955322,
          4.17817497253418,
          9.596939086914062,
          5.821243762969971,
          -2.2591447830200195,
          3.2916717529296875,
          5.080492973327637,
          10.697283744812012,
          3.4950482845306396,
          3.9619970321655273,
          4.273107528686523,
          10.370248794555664,
          6.441171169281006,
          8.099105834960938,
          4.3153862953186035,
          10.164871215820312,
          0.7198516726493835,
          5.1983137130737305,
          0.3840961754322052,
          5.445696830749512,
          10.002464294433594,
          8.170588493347168,
          8.143280982971191,
          10.878082275390625,
          10.165617942810059,
          -0.5599400997161865,
          4.955498218536377,
          2.058742046356201,
          7.95180606842041,
          6.176900386810303,
          2.997955560684204,
          -0.6768585443496704,
          2.0960185527801514,
          -1.185134768486023,
          10.38254451751709,
          3.483490467071533,
          10.90573501586914,
          10.355247497558594,
          3.0096840858459473,
          11.24431324005127,
          4.272064208984375,
          2.190962553024292,
          2.8450403213500977,
          0.07023555040359497,
          11.269523620605469,
          9.308733940124512,
          6.073470592498779,
          6.533109664916992,
          1.5205940008163452,
          8.872658729553223,
          -0.028568977490067482,
          10.357060432434082,
          6.6820454597473145,
          1.6301689147949219,
          5.1710615158081055,
          3.4721925258636475,
          0.20347021520137787,
          2.9873526096343994,
          9.17196273803711,
          6.92091703414917,
          10.316863059997559,
          -1.617364764213562,
          0.9643719792366028,
          7.654068946838379,
          0.7824161648750305,
          2.7568020820617676,
          6.780473709106445,
          10.506498336791992,
          6.541035175323486,
          0.2424992173910141,
          2.7428512573242188,
          1.4023456573486328,
          5.707360744476318,
          5.187862873077393,
          4.6555256843566895,
          6.221903324127197,
          -2.059326648712158,
          8.681309700012207,
          8.277585983276367,
          1.2721632719039917,
          4.753185272216797,
          -0.27454689145088196,
          9.49026870727539,
          2.310819625854492,
          10.85239028930664,
          0.568666934967041,
          5.192691326141357,
          5.160102844238281,
          -0.16159816086292267,
          10.221817970275879,
          1.6954160928726196,
          5.316688537597656,
          2.080432176589966,
          7.299715518951416,
          5.383650302886963,
          10.20522403717041,
          8.154401779174805,
          -1.836050033569336,
          4.727046012878418,
          2.8079898357391357,
          1.6052838563919067,
          5.419273376464844,
          0.49258941411972046,
          1.339946985244751,
          3.141789436340332,
          10.124624252319336,
          6.309610843658447,
          10.547173500061035,
          0.6396905183792114,
          4.2905144691467285,
          3.795607328414917,
          -0.2806030213832855,
          2.5003321170806885,
          -0.24609582126140594,
          -0.5660315155982971,
          2.8620080947875977,
          4.885921001434326,
          2.320840358734131,
          6.953380584716797,
          -0.7085517644882202,
          2.138913631439209,
          -1.8305071592330933,
          3.880002021789551,
          0.6396914124488831,
          11.086021423339844,
          3.521327257156372,
          -1.334589958190918,
          5.8193769454956055,
          -0.7851904034614563,
          10.19594669342041,
          9.834951400756836,
          1.8223317861557007,
          5.691754341125488,
          2.2997961044311523,
          11.473692893981934,
          6.558191776275635,
          5.655033111572266
         ],
         "y": [
          -10.066629409790039,
          -6.667624473571777,
          -8.036994934082031,
          -8.374238967895508,
          -3.708188056945801,
          -4.401602745056152,
          -3.8779754638671875,
          -10.197181701660156,
          -6.67142915725708,
          -6.357507705688477,
          -13.170546531677246,
          -8.21403694152832,
          -12.062620162963867,
          -13.191495895385742,
          -8.030071258544922,
          -10.0609130859375,
          -3.446960926055908,
          -5.404036998748779,
          -8.763432502746582,
          -10.300830841064453,
          -4.294217586517334,
          -10.903968811035156,
          -9.669422149658203,
          -9.328437805175781,
          -12.6527099609375,
          -12.879590034484863,
          -13.126699447631836,
          -12.153008460998535,
          -8.60173225402832,
          -5.695295333862305,
          -12.944147109985352,
          -9.224896430969238,
          -9.561370849609375,
          -13.189193725585938,
          -6.876031875610352,
          -5.155416488647461,
          -10.343292236328125,
          -7.310269832611084,
          -11.15102767944336,
          -7.525399684906006,
          -12.437005996704102,
          -8.62307071685791,
          -9.54659652709961,
          -5.6092143058776855,
          -4.618775367736816,
          -5.155143737792969,
          -7.313284397125244,
          -12.70147705078125,
          -13.504121780395508,
          -7.48742151260376,
          -8.374238014221191,
          -7.29794979095459,
          -11.103933334350586,
          -8.103867530822754,
          -11.998139381408691,
          -11.1912202835083,
          -8.997042655944824,
          -13.188863754272461,
          -6.663668155670166,
          -8.29576301574707,
          -12.687739372253418,
          -13.268195152282715,
          -8.505752563476562,
          -8.994731903076172,
          -6.087249755859375,
          -9.289175987243652,
          -11.263298034667969,
          -3.844555139541626,
          -7.364391803741455,
          -6.344964981079102,
          -3.7156171798706055,
          -3.6521553993225098,
          -12.306556701660156,
          -12.52578353881836,
          -11.181087493896484,
          -4.968953609466553,
          -5.984846591949463,
          -3.0045273303985596,
          -7.677679538726807,
          -5.417883396148682,
          -3.5212504863739014,
          -8.50142765045166,
          -6.079610347747803,
          -9.248024940490723,
          -5.207823276519775,
          -8.567434310913086,
          -11.193860054016113,
          -10.47506046295166,
          -13.152151107788086,
          -3.3289573192596436,
          -5.926176071166992,
          -4.548363208770752,
          -5.952751636505127,
          -7.109134197235107,
          -11.059861183166504,
          -9.54594898223877,
          -8.8531494140625,
          -8.230992317199707,
          -3.488908052444458,
          -6.670769691467285,
          -10.419018745422363,
          -10.064866065979004,
          -12.685009002685547,
          -7.115952491760254,
          -7.581909656524658,
          -12.592612266540527,
          -11.940319061279297,
          -12.463373184204102,
          -8.54262924194336,
          -10.362454414367676,
          -4.928468704223633,
          -8.284078598022461,
          -6.048937797546387,
          -9.626849174499512,
          -7.093027114868164,
          -5.84775972366333,
          -3.20864200592041,
          -8.004980087280273,
          -9.525449752807617,
          -6.659341335296631,
          -11.904745101928711,
          -11.118523597717285,
          -12.778380393981934,
          -10.145687103271484,
          -12.545238494873047,
          -10.818373680114746,
          -6.69700813293457,
          -11.741929054260254,
          -9.014206886291504,
          -3.7880747318267822,
          -7.707606792449951,
          -5.602260589599609,
          -11.126408576965332,
          -10.560564994812012,
          -5.7343831062316895,
          -6.1210455894470215,
          -6.688416957855225,
          -13.21129322052002,
          -9.173596382141113,
          -12.154614448547363,
          -3.3625552654266357,
          -8.783257484436035,
          -9.1897611618042,
          -9.742372512817383,
          -12.913592338562012,
          -11.071907043457031,
          -8.810745239257812,
          -7.951592445373535,
          -6.487179756164551,
          -6.6264753341674805,
          -13.086073875427246,
          -9.596230506896973,
          -10.573001861572266,
          -10.576224327087402,
          -9.013093948364258,
          -10.809318542480469,
          -7.212972640991211,
          -6.728272438049316,
          -12.545188903808594,
          -12.407547950744629,
          -4.431931495666504,
          -6.095959663391113,
          -5.757540225982666,
          -8.415653228759766,
          -5.863162040710449,
          -8.775527954101562,
          -6.907453536987305,
          -7.974197864532471,
          -8.485529899597168,
          -6.711484432220459,
          -8.785654067993164,
          -3.4916324615478516,
          -11.40164566040039,
          -4.433053970336914,
          -4.9980387687683105,
          -7.459352970123291,
          -11.10109806060791,
          -6.278611183166504,
          -13.188241004943848,
          -9.699650764465332,
          -11.405532836914062,
          -7.438166618347168,
          -8.13973331451416,
          -13.078343391418457,
          -8.404613494873047,
          -7.246500015258789,
          -12.115520477294922,
          -6.204123497009277,
          -11.283164024353027,
          -10.918036460876465,
          -12.91910457611084,
          -8.254416465759277,
          -7.466503620147705,
          -9.62691879272461,
          -12.75908088684082,
          -5.491840839385986,
          -6.529141426086426,
          -13.17130184173584,
          -8.44124984741211,
          -2.9425153732299805,
          -5.847760200500488,
          -11.292354583740234,
          -11.098691940307617,
          -9.720139503479004,
          -13.51607894897461,
          -10.943859100341797,
          -13.260334968566895,
          -6.308770179748535,
          -10.89213752746582,
          -12.281895637512207,
          -6.491194725036621,
          -8.703922271728516,
          -5.493926048278809,
          -10.750730514526367,
          -5.442976474761963,
          -8.452953338623047,
          -8.85621452331543,
          -12.000321388244629,
          -3.2053139209747314,
          -7.515988826751709,
          -9.481451988220215,
          -8.359040260314941,
          -8.2318754196167,
          -10.299906730651855,
          -10.615965843200684,
          -13.451667785644531,
          -9.448356628417969,
          -11.002567291259766,
          -8.232161521911621,
          -8.568695068359375,
          -11.398029327392578,
          -6.445073127746582,
          -3.8616788387298584,
          -8.456589698791504,
          -11.569994926452637,
          -8.0075044631958,
          -9.825624465942383,
          -4.110172748565674,
          -8.013790130615234,
          -7.165786266326904,
          -13.138903617858887,
          -12.381974220275879,
          -5.997184753417969,
          -4.546011924743652,
          -8.828861236572266,
          -7.239950656890869,
          -11.492877006530762,
          -12.921483993530273,
          -10.985075950622559,
          -14.084977149963379,
          -7.4171576499938965,
          -12.569658279418945,
          -6.610149383544922,
          -12.534004211425781,
          -7.165787220001221,
          -8.434670448303223,
          -3.4994606971740723,
          -6.917662620544434,
          -9.611489295959473,
          -5.663405418395996,
          -10.017833709716797,
          -10.218174934387207,
          -6.5802321434021,
          -13.180721282958984,
          -6.107631206512451,
          -7.508564472198486,
          -7.522927284240723,
          -12.962838172912598
         ],
         "z": [
          1.904742956161499,
          -0.5818251967430115,
          11.46579647064209,
          11.255568504333496,
          -1.494596242904663,
          -0.8244934678077698,
          -1.9016079902648926,
          1.9175223112106323,
          0.35618042945861816,
          -0.04860898107290268,
          3.394240140914917,
          1.8518387079238892,
          4.992837905883789,
          4.139266490936279,
          1.6335786581039429,
          2.0933845043182373,
          -2.420546054840088,
          -0.24475599825382233,
          1.1168341636657715,
          3.0065906047821045,
          -1.0645254850387573,
          5.749624252319336,
          9.19818115234375,
          1.6365413665771484,
          3.421144485473633,
          5.314750671386719,
          5.460315227508545,
          6.190266132354736,
          8.600418090820312,
          -0.8283774256706238,
          4.429940223693848,
          10.234601020812988,
          1.5794273614883423,
          4.216531276702881,
          -0.07306667417287827,
          0.5126892924308777,
          3.4289615154266357,
          1.1112611293792725,
          2.378866195678711,
          -0.5116055607795715,
          5.274174213409424,
          7.64725399017334,
          9.236328125,
          2.7766058444976807,
          0.27707579731941223,
          -1.1725307703018188,
          0.497191846370697,
          5.383690357208252,
          3.5370335578918457,
          -0.7298411726951599,
          2.879246473312378,
          11.708946228027344,
          5.213251113891602,
          0.7228707671165466,
          5.57430362701416,
          2.260164737701416,
          9.932860374450684,
          4.2164998054504395,
          0.2714961767196655,
          10.267914772033691,
          5.510822296142578,
          3.4669039249420166,
          10.32835578918457,
          8.873449325561523,
          0.15518656373023987,
          2.8716776371002197,
          5.799404144287109,
          -2.1890335083007812,
          2.7815065383911133,
          0.7655341625213623,
          -2.285381317138672,
          -2.1413960456848145,
          3.062725782394409,
          3.805436849594116,
          2.27738356590271,
          0.7802199125289917,
          1.49446439743042,
          -2.1892266273498535,
          11.680039405822754,
          -1.2342286109924316,
          -2.444031238555908,
          10.62053394317627,
          0.7198392152786255,
          2.0515363216400146,
          0.20608407258987427,
          1.514891266822815,
          2.37697434425354,
          2.961191415786743,
          4.571829319000244,
          -2.032508134841919,
          0.7606678009033203,
          1.475504755973816,
          -0.644523024559021,
          0.9094171524047852,
          2.6062018871307373,
          1.9262466430664062,
          10.245133399963379,
          2.0699045658111572,
          -2.227722644805908,
          -0.012958807870745659,
          2.861435651779175,
          8.572970390319824,
          5.357004642486572,
          11.671856880187988,
          11.649779319763184,
          0.8514528870582581,
          5.057426929473877,
          5.390914440155029,
          9.95522403717041,
          2.9138174057006836,
          0.3625028729438782,
          9.902067184448242,
          0.3641999661922455,
          3.0481879711151123,
          0.08190777897834778,
          1.8841859102249146,
          -2.020214319229126,
          2.8186354637145996,
          1.5991727113723755,
          0.2844173312187195,
          6.424838542938232,
          6.772775650024414,
          5.251441478729248,
          2.334599733352661,
          4.693405628204346,
          6.219703197479248,
          2.723184585571289,
          6.477614879608154,
          3.1108126640319824,
          -2.216306447982788,
          2.7821121215820312,
          -0.33378535509109497,
          2.3566877841949463,
          7.156501770019531,
          -0.8308520317077637,
          2.7218565940856934,
          0.5060361623764038,
          3.7672951221466064,
          9.35047721862793,
          2.948678731918335,
          -2.005903482437134,
          1.162937045097351,
          8.827737808227539,
          2.227565050125122,
          5.49620246887207,
          2.3264660835266113,
          10.388452529907227,
          2.361255168914795,
          -0.17387895286083221,
          2.396597385406494,
          3.7256200313568115,
          8.329219818115234,
          4.090694427490234,
          4.058797836303711,
          9.987183570861816,
          9.382955551147461,
          -0.5753970146179199,
          0.017559736967086792,
          0.8399618268013,
          5.872140884399414,
          -1.8477805852890015,
          0.18455933034420013,
          -0.9833366274833679,
          1.395707368850708,
          -0.33164042234420776,
          8.133932113647461,
          0.3900090157985687,
          9.989169120788574,
          9.262752532958984,
          0.7007445693016052,
          10.503047943115234,
          -2.043992280960083,
          2.890341281890869,
          -0.6008189916610718,
          -1.3373064994812012,
          11.726019859313965,
          6.211085796356201,
          -0.5035011768341064,
          5.118344306945801,
          2.2124903202056885,
          6.461002826690674,
          2.6412367820739746,
          10.187113761901855,
          4.004940032958984,
          1.5293434858322144,
          0.2541240155696869,
          2.9699363708496094,
          2.145284652709961,
          2.5176475048065186,
          5.959971904754639,
          4.198237419128418,
          10.138814926147461,
          2.948056697845459,
          2.6359920501708984,
          4.628750801086426,
          1.0413124561309814,
          -0.18647217750549316,
          5.3140645027160645,
          9.3790922164917,
          -2.872955560684204,
          1.8841862678527832,
          2.3900668621063232,
          3.229041576385498,
          1.9141943454742432,
          3.154017210006714,
          2.3029682636260986,
          3.7534449100494385,
          1.8027851581573486,
          4.889370918273926,
          5.630722999572754,
          0.9325746297836304,
          1.0830893516540527,
          -1.0568017959594727,
          6.799460411071777,
          0.1963622272014618,
          9.940437316894531,
          2.565099000930786,
          3.712402105331421,
          -2.4890079498291016,
          -0.8788033723831177,
          9.065716743469238,
          1.4425188302993774,
          0.8029066920280457,
          2.028672456741333,
          3.300846815109253,
          4.601927757263184,
          9.483736038208008,
          4.286974906921387,
          3.2796459197998047,
          1.0032795667648315,
          2.889892578125,
          1.6845370531082153,
          -2.1006157398223877,
          2.573739528656006,
          3.6905908584594727,
          1.0118316411972046,
          8.425695419311523,
          -2.0930628776550293,
          10.761469841003418,
          2.3477673530578613,
          3.413728952407837,
          3.102654218673706,
          2.2327880859375,
          -0.13053472340106964,
          2.847503185272217,
          -0.6048174500465393,
          2.8789713382720947,
          3.9038093090057373,
          2.3217406272888184,
          5.765242099761963,
          2.7284128665924072,
          0.9563848376274109,
          2.7094621658325195,
          3.3381426334381104,
          2.347768545150757,
          11.219335556030273,
          -1.7078893184661865,
          2.786776065826416,
          1.8833321332931519,
          -1.0236377716064453,
          9.888964653015137,
          7.699988842010498,
          0.9715901017189026,
          3.965512990951538,
          0.6482976078987122,
          11.620869636535645,
          0.41634222865104675,
          3.6953561305999756
         ]
        },
        {
         "customdata": [
          [
           "type cau two one symptom",
           "excess sugar urin caus tired"
          ],
          [
           "type cau two one symptom",
           "differ non insulin depend diabet insulin depend diabet"
          ],
          [
           "type cau two one symptom",
           "diabet mellitu diabet"
          ],
          [
           "type cau two one symptom",
           "diabet transfer kiss"
          ],
          [
           "type cau two one symptom",
           "diabet develop itch arm"
          ],
          [
           "type cau two one symptom",
           "chanc diabet babi born parent heterozyg normal"
          ],
          [
           "type cau two one symptom",
           "damag retina eye caus diabet mellitu known diabet"
          ],
          [
           "type cau two one symptom",
           "type diabet found small children"
          ],
          [
           "type cau two one symptom",
           "diabet mellitu affect spina bifida"
          ],
          [
           "type cau two one symptom",
           "common diabet"
          ],
          [
           "type cau two one symptom",
           "caus juvenil diabet"
          ],
          [
           "type cau two one symptom",
           "sign diabet"
          ],
          [
           "type cau two one symptom",
           "detect sign diabet"
          ],
          [
           "type cau two one symptom",
           "overweight peopl like get diabet"
          ],
          [
           "type cau two one symptom",
           "long jacki robinson diabet"
          ],
          [
           "type cau two one symptom",
           "kind guitar nick jona"
          ],
          [
           "type cau two one symptom",
           "aceton odor breath patient clinic symptom"
          ],
          [
           "type cau two one symptom",
           "big toe partial numb"
          ],
          [
           "type cau two one symptom",
           "diabet statist"
          ],
          [
           "type cau two one symptom",
           "type two diabet becom type one diabet"
          ],
          [
           "type cau two one symptom",
           "diabet get pregnant"
          ],
          [
           "type cau two one symptom",
           "dog develop diabet call"
          ],
          [
           "type cau two one symptom",
           "type one diabet common type two diabet"
          ],
          [
           "type cau two one symptom",
           "diabet caus viru bacteria"
          ],
          [
           "type cau two one symptom",
           "diabet mellitu diabet insipidu"
          ],
          [
           "type cau two one symptom",
           "caus diabet"
          ],
          [
           "type cau two one symptom",
           "diabet mellitu disord"
          ],
          [
           "type cau two one symptom",
           "diabet effect immun system"
          ],
          [
           "type cau two one symptom",
           "caus water loss carnegi area"
          ],
          [
           "type cau two one symptom",
           "eye problem symptom diabet"
          ],
          [
           "type cau two one symptom",
           "patient diabet insipidu begin suffer symptom dehydr"
          ],
          [
           "type cau two one symptom",
           "mani peopl georgia suffer diabet"
          ],
          [
           "type cau two one symptom",
           "diabet stop get hire job"
          ],
          [
           "type cau two one symptom",
           "sign look get test diabet"
          ],
          [
           "type cau two one symptom",
           "get diabet eat much salt"
          ],
          [
           "type cau two one symptom",
           "patient describ diabet kussmaul respir physiolog activ take place caus patient"
          ],
          [
           "type cau two one symptom",
           "diabet type one caus weight loss"
          ],
          [
           "type cau two one symptom",
           "big toe numb tender outsid tip"
          ],
          [
           "type cau two one symptom",
           "insulin depend diabet mellitu caus chronic renal failur"
          ],
          [
           "type cau two one symptom",
           "risk factor type two diabet"
          ],
          [
           "type cau two one symptom",
           "sign diabet"
          ],
          [
           "type cau two one symptom",
           "tell diabet"
          ],
          [
           "type cau two one symptom",
           "im forti five yr old male diabet enlarg pitiutari gland kill"
          ],
          [
           "type cau two one symptom",
           "common caus type two diabet"
          ],
          [
           "type cau two one symptom",
           "type one diabet strong type two"
          ],
          [
           "type cau two one symptom",
           "symptom mild insulin resist"
          ],
          [
           "type cau two one symptom",
           "kind diabet jacki robinson"
          ],
          [
           "type cau two one symptom",
           "caus tingl bodi"
          ],
          [
           "type cau two one symptom",
           "symptom distinguish type type ii diabet"
          ],
          [
           "type cau two one symptom",
           "five symptom diabet"
          ],
          [
           "type cau two one symptom",
           "mani peopl us type diabet"
          ],
          [
           "type cau two one symptom",
           "age diabet first becom evid"
          ],
          [
           "type cau two one symptom",
           "nick jona realli diabet"
          ],
          [
           "type cau two one symptom",
           "get type one diabet one els famili"
          ],
          [
           "type cau two one symptom",
           "dog develop diabet"
          ],
          [
           "type cau two one symptom",
           "caus circul finger tip stop finger becom numb"
          ],
          [
           "type cau two one symptom",
           "old nick got diabet"
          ],
          [
           "type cau two one symptom",
           "effect diabet bodi system"
          ],
          [
           "type cau two one symptom",
           "type ii diabet capit"
          ],
          [
           "type cau two one symptom",
           "could hard lump forehead cancer pain"
          ],
          [
           "type cau two one symptom",
           "diabet cantagi"
          ],
          [
           "type cau two one symptom",
           "percentag diabet type one"
          ],
          [
           "type cau two one symptom",
           "person chronic diabet exhibit sign"
          ],
          [
           "type cau two one symptom",
           "diabet insipidu occur"
          ],
          [
           "type cau two one symptom",
           "long effect diabet neuropathi last"
          ],
          [
           "type cau two one symptom",
           "might caus unexplain weight gain fatigu"
          ],
          [
           "type cau two one symptom",
           "diabet medicin caus cancer"
          ],
          [
           "type cau two one symptom",
           "get diabet"
          ],
          [
           "type cau two one symptom",
           "type one type two diabet"
          ],
          [
           "type cau two one symptom",
           "import foot care clean peopl diabet"
          ],
          [
           "type cau two one symptom",
           "famou songstress lost leg battl diabet"
          ],
          [
           "type cau two one symptom",
           "condit insulin resist fat cell type one diabet type two diabet"
          ],
          [
           "type cau two one symptom",
           "percentag famili member diabet get diseas"
          ],
          [
           "type cau two one symptom",
           "diabet caus swollen lymph node"
          ],
          [
           "type cau two one symptom",
           "number peopl worldwid diabet increas"
          ],
          [
           "type cau two one symptom",
           "diabet affect health"
          ],
          [
           "type cau two one symptom",
           "diabet caus semen tast differ"
          ],
          [
           "type cau two one symptom",
           "major caus type one juvenil diabet"
          ],
          [
           "type cau two one symptom",
           "mellitu diabet type one"
          ],
          [
           "type cau two one symptom",
           "two challeng die chronic ill"
          ],
          [
           "type cau two one symptom",
           "elvi aaron presley diabet type one two"
          ],
          [
           "type cau two one symptom",
           "studi diabet mellitu call"
          ],
          [
           "type cau two one symptom",
           "symptom diabet"
          ],
          [
           "type cau two one symptom",
           "caus diabet"
          ],
          [
           "type cau two one symptom",
           "two two risk factor diabet type two"
          ],
          [
           "type cau two one symptom",
           "husband diabet menstub"
          ],
          [
           "type cau two one symptom",
           "honeymoon period diabet mellitu"
          ],
          [
           "type cau two one symptom",
           "irregular high hgt diabet patient"
          ],
          [
           "type cau two one symptom",
           "flu shot affect diabet"
          ],
          [
           "type cau two one symptom",
           "bypass two slim ball interact diabet medic"
          ],
          [
           "type cau two one symptom",
           "diabet effect"
          ],
          [
           "type cau two one symptom",
           "diabet affect leg"
          ],
          [
           "type cau two one symptom",
           "person diabet smell alcohol"
          ],
          [
           "type cau two one symptom",
           "kid get type two diabet adult"
          ],
          [
           "type cau two one symptom",
           "get erect"
          ],
          [
           "type cau two one symptom",
           "get diabet es"
          ],
          [
           "type cau two one symptom",
           "caus diabet"
          ],
          [
           "type cau two one symptom",
           "mani type diabet"
          ],
          [
           "type cau two one symptom",
           "mani children nick jona want"
          ],
          [
           "type cau two one symptom",
           "obes caus diabet"
          ],
          [
           "type cau two one symptom",
           "selena diabet"
          ],
          [
           "type cau two one symptom",
           "member jona brother band diabet"
          ],
          [
           "type cau two one symptom",
           "kind condit diabet insipidu"
          ],
          [
           "type cau two one symptom",
           "commonli use actoplu met"
          ],
          [
           "type cau two one symptom",
           "type two diabet common"
          ],
          [
           "type cau two one symptom",
           "diabet insipidu character"
          ],
          [
           "type cau two one symptom",
           "diabet affect life span"
          ],
          [
           "type cau two one symptom",
           "thirsti urin like crazi"
          ],
          [
           "type cau two one symptom",
           "major sign diabet"
          ],
          [
           "type cau two one symptom",
           "two type diabet mellitu"
          ],
          [
           "type cau two one symptom",
           "diabet complic"
          ],
          [
           "type cau two one symptom",
           "type ii diabet known depend diabet"
          ],
          [
           "type cau two one symptom",
           "diabet advers affect bladder"
          ],
          [
           "type cau two one symptom",
           "kind diabet laura ingal wilder"
          ],
          [
           "type cau two one symptom",
           "diabet type two infecti"
          ],
          [
           "type cau two one symptom",
           "mean swollen ankl"
          ],
          [
           "type cau two one symptom",
           "pain radiat buttock back leg call"
          ],
          [
           "type cau two one symptom",
           "someon take pill diabet use urin therapi"
          ],
          [
           "type cau two one symptom",
           "get type two diabet"
          ],
          [
           "type cau two one symptom",
           "symptom diabet"
          ],
          [
           "type cau two one symptom",
           "happen diabet cut"
          ],
          [
           "type cau two one symptom",
           "normal heart rate eighti one yr old diabet woman"
          ],
          [
           "type cau two one symptom",
           "symptom uncontriol diabet adult"
          ],
          [
           "type cau two one symptom",
           "doctor induc labor gestat diabet"
          ],
          [
           "type cau two one symptom",
           "type diabet common children children treat diabet"
          ],
          [
           "type cau two one symptom",
           "symptom high blood sugar"
          ],
          [
           "type cau two one symptom",
           "pigment caus discolor bronz diabet"
          ],
          [
           "type cau two one symptom",
           "caus frequent urin men"
          ],
          [
           "type cau two one symptom",
           "much sugar caus"
          ],
          [
           "type cau two one symptom",
           "fast caus diabet"
          ],
          [
           "type cau two one symptom",
           "type two diabet affect lifestyl"
          ],
          [
           "type cau two one symptom",
           "diabet life"
          ],
          [
           "type cau two one symptom",
           "mani peopl die type one diabet year"
          ],
          [
           "type cau two one symptom",
           "sexual arous caus spike blood sugar diabet male"
          ],
          [
           "type cau two one symptom",
           "warn doctor might diabet"
          ],
          [
           "type cau two one symptom",
           "know diabet"
          ],
          [
           "type cau two one symptom",
           "youngest age get insulin pump"
          ],
          [
           "type cau two one symptom",
           "two type diabet"
          ],
          [
           "type cau two one symptom",
           "diabet kill"
          ],
          [
           "type cau two one symptom",
           "diabet slipper"
          ],
          [
           "type cau two one symptom",
           "common diabet medic"
          ],
          [
           "type cau two one symptom",
           "nick diabet"
          ],
          [
           "type cau two one symptom",
           "song nick wrote diabet"
          ],
          [
           "type cau two one symptom",
           "insulin resist would best observ peopl"
          ],
          [
           "type cau two one symptom",
           "relationship obes diabet"
          ],
          [
           "type cau two one symptom",
           "much sugar urin"
          ],
          [
           "type cau two one symptom",
           "lil boosi diabet"
          ],
          [
           "type cau two one symptom",
           "receiv social secur disabl diabet dirrhea"
          ],
          [
           "type cau two one symptom",
           "life cycl glucos"
          ],
          [
           "type cau two one symptom",
           "type l dm differ type diabet"
          ],
          [
           "type cau two one symptom",
           "gestat diabet show undiagnos type one diabet"
          ],
          [
           "type cau two one symptom",
           "nick jona blood sugar diagnos diabet"
          ],
          [
           "type cau two one symptom",
           "diseas symptom obes diabet facial hair growth femal arthritu thin fine hair head poylp fluid retent aortic valv replac surgeri"
          ],
          [
           "type cau two one symptom",
           "diabet caus symptom pregnanc even pregnant"
          ],
          [
           "type cau two one symptom",
           "mani peopl current diabet canada"
          ],
          [
           "type cau two one symptom",
           "diabet caus death"
          ],
          [
           "type cau two one symptom",
           "diabet ketoacidosi treat"
          ],
          [
           "type cau two one symptom",
           "alan rickman diabet"
          ],
          [
           "type cau two one symptom",
           "abbrevi acronym modi stand explain modi"
          ],
          [
           "type cau two one symptom",
           "abl join militari diabet"
          ],
          [
           "type cau two one symptom",
           "caus blur vision diabet"
          ],
          [
           "type cau two one symptom",
           "mani peopl get diabet year"
          ],
          [
           "type cau two one symptom",
           "type three diabet"
          ],
          [
           "type cau two one symptom",
           "prognosi untreat diabet foot infect"
          ],
          [
           "type cau two one symptom",
           "mani peopl us suffer diabet"
          ],
          [
           "type cau two one symptom",
           "would girl still go guy despit fact diabet"
          ],
          [
           "type cau two one symptom",
           "would caus extrem exhaust eat"
          ],
          [
           "type cau two one symptom",
           "constantli thirsti tire sometim eye go blurri wrong"
          ],
          [
           "type cau two one symptom",
           "insulin resist women conceiv"
          ],
          [
           "type cau two one symptom",
           "common diabet complic"
          ],
          [
           "type cau two one symptom",
           "area thet affect diabet"
          ],
          [
           "type cau two one symptom",
           "differ type one type two diabet"
          ],
          [
           "type cau two one symptom",
           "diabet caus drowsi"
          ],
          [
           "type cau two one symptom",
           "risk develop type ii diabet mellitu"
          ],
          [
           "type cau two one symptom",
           "know diabet"
          ],
          [
           "type cau two one symptom",
           "pathophysiolog type two diabet mellitu"
          ],
          [
           "type cau two one symptom",
           "diabet caus kidney damag"
          ],
          [
           "type cau two one symptom",
           "would nick jona write littl seven year old boy got type one diabet huge fan"
          ],
          [
           "type cau two one symptom",
           "diabet communic diseas"
          ],
          [
           "type cau two one symptom",
           "diabet abl pass along children"
          ],
          [
           "type cau two one symptom",
           "caus diabet"
          ],
          [
           "type cau two one symptom",
           "hand safe diabet get tattoo"
          ],
          [
           "type cau two one symptom",
           "relationship cholesterol heart diseas"
          ],
          [
           "type cau two one symptom",
           "diabet pass either parent child"
          ],
          [
           "type cau two one symptom",
           "retinopathi diagnos"
          ],
          [
           "type cau two one symptom",
           "retinopathi"
          ],
          [
           "type cau two one symptom",
           "effect type one diabet"
          ],
          [
           "type cau two one symptom",
           "diabet caus shin splint"
          ],
          [
           "type cau two one symptom",
           "organ type two diabet affect"
          ],
          [
           "type cau two one symptom",
           "type two diabet hereditari"
          ],
          [
           "type cau two one symptom",
           "punnett squar look like possibl parent combin type two diabet"
          ],
          [
           "type cau two one symptom",
           "kind diabet consid auto immun diseas"
          ],
          [
           "type cau two one symptom",
           "mental ill clearli defin physic ill diabet"
          ],
          [
           "type cau two one symptom",
           "two type diabet time like develop obes person person"
          ],
          [
           "type cau two one symptom",
           "sign symptom diabet"
          ],
          [
           "type cau two one symptom",
           "long usual take recov effect diabet seizur slure speech mobil gener concentr"
          ],
          [
           "type cau two one symptom",
           "need comma sentenc vascular diseas secondari diabet small vessel diseas"
          ],
          [
           "type cau two one symptom",
           "diabet mean"
          ],
          [
           "type cau two one symptom",
           "type diabet children develop symptom relat"
          ],
          [
           "type cau two one symptom",
           "might caus rapid weight loss"
          ],
          [
           "type cau two one symptom",
           "side affect cloud nine caus bodi use"
          ],
          [
           "type cau two one symptom",
           "diabet class disabl"
          ],
          [
           "type cau two one symptom",
           "mani differ type diabet"
          ],
          [
           "type cau two one symptom",
           "diabet hand foundat creat"
          ],
          [
           "type cau two one symptom",
           "common symptom diabet"
          ],
          [
           "type cau two one symptom",
           "caus type diabet"
          ],
          [
           "type cau two one symptom",
           "type one type two type three diabet"
          ],
          [
           "type cau two one symptom",
           "pre diabet symptom"
          ],
          [
           "type cau two one symptom",
           "diabet bodi"
          ],
          [
           "type cau two one symptom",
           "two main type diabet"
          ],
          [
           "type cau two one symptom",
           "ratio juvenil diabet"
          ],
          [
           "type cau two one symptom",
           "diabet earli sign"
          ],
          [
           "type cau two one symptom",
           "part human bodi effect diabet type one"
          ],
          [
           "type cau two one symptom",
           "diabet patient need nasogastr tube feed"
          ],
          [
           "type cau two one symptom",
           "good overweight"
          ],
          [
           "type cau two one symptom",
           "get diabet"
          ],
          [
           "type cau two one symptom",
           "get nick jona diabet tag"
          ],
          [
           "type cau two one symptom",
           "preval diabet mellitu philippin"
          ],
          [
           "type cau two one symptom",
           "nick jona diabet diabet"
          ],
          [
           "type cau two one symptom",
           "laura ingal wilder rose"
          ],
          [
           "type cau two one symptom",
           "symtom diabet mellitu"
          ],
          [
           "type cau two one symptom",
           "site attack type one diabet"
          ],
          [
           "type cau two one symptom",
           "lipotroph diabet"
          ],
          [
           "type cau two one symptom",
           "moder weight loss reduc elimin symptom type two diabet"
          ],
          [
           "type cau two one symptom",
           "know diabet"
          ],
          [
           "type cau two one symptom",
           "import thing know type two diabet"
          ],
          [
           "type cau two one symptom",
           "kind diabet tha nick jona"
          ],
          [
           "type cau two one symptom",
           "caus diabet coma"
          ],
          [
           "type cau two one symptom",
           "caus urin specif graviti high"
          ],
          [
           "type cau two one symptom",
           "diseas get eat drink thing contain much sugar"
          ],
          [
           "type cau two one symptom",
           "get lupu swine"
          ],
          [
           "type cau two one symptom",
           "diabet affect electrolysi"
          ],
          [
           "type cau two one symptom",
           "sever diabet symptom"
          ],
          [
           "type cau two one symptom",
           "women diabet pregnant"
          ],
          [
           "type cau two one symptom",
           "sign symptom type one diabet"
          ],
          [
           "type cau two one symptom",
           "know type one type two diabet"
          ],
          [
           "type cau two one symptom",
           "differenti diabet mellitu diabet insipidu"
          ],
          [
           "type cau two one symptom",
           "risk gestat diabet"
          ],
          [
           "type cau two one symptom",
           "percentag american diabet unawar diseas"
          ],
          [
           "type cau two one symptom",
           "three clinic sign insulin defici"
          ],
          [
           "type cau two one symptom",
           "diabet"
          ],
          [
           "type cau two one symptom",
           "nick jona brother know diabet"
          ],
          [
           "type cau two one symptom",
           "system diabet affect"
          ],
          [
           "type cau two one symptom",
           "symptom juvenil diabet"
          ],
          [
           "type cau two one symptom",
           "top ten communic diseas philippin"
          ],
          [
           "type cau two one symptom",
           "diabet urin often"
          ],
          [
           "type cau two one symptom",
           "diabet caus organ shut"
          ],
          [
           "type cau two one symptom",
           "two type diabet"
          ],
          [
           "type cau two one symptom",
           "root word diabet"
          ],
          [
           "type cau two one symptom",
           "mani peopl die diabet"
          ],
          [
           "type cau two one symptom",
           "nick jona diabet"
          ],
          [
           "type cau two one symptom",
           "nick jona quot diabet"
          ],
          [
           "type cau two one symptom",
           "steve redgrav diabet"
          ],
          [
           "type cau two one symptom",
           "diseas caus radiat"
          ],
          [
           "type cau two one symptom",
           "en symptom type one form diseas appear"
          ],
          [
           "type cau two one symptom",
           "diabet mellitu complic cholecystectomi"
          ],
          [
           "type cau two one symptom",
           "five foot twelv year old girl weigh eighti four pound"
          ],
          [
           "type cau two one symptom",
           "diabet feel"
          ],
          [
           "type cau two one symptom",
           "person diabet would keton urin"
          ],
          [
           "type cau two one symptom",
           "caus diabet melitu"
          ],
          [
           "type cau two one symptom",
           "type two diabet chronic diseas"
          ],
          [
           "type cau two one symptom",
           "classic symptom diabet"
          ],
          [
           "type cau two one symptom",
           "caus type diabet mellitu"
          ],
          [
           "type cau two one symptom",
           "person diabet melitu affect"
          ],
          [
           "type cau two one symptom",
           "could tell hamster got diabet"
          ],
          [
           "type cau two one symptom",
           "explain type two diabet controlledand type one"
          ],
          [
           "type cau two one symptom",
           "lack caus diabet"
          ],
          [
           "type cau two one symptom",
           "type one diabet male produc children type one diabet"
          ],
          [
           "type cau two one symptom",
           "may caus diabet neuropathi"
          ],
          [
           "type cau two one symptom",
           "type microb diabet"
          ],
          [
           "type cau two one symptom",
           "percent world popul diabet"
          ],
          [
           "type cau two one symptom",
           "bret michael daughter diabet"
          ],
          [
           "type cau two one symptom",
           "enter servic type two diabet"
          ],
          [
           "type cau two one symptom",
           "type diabet occur bodi make insulin enough meet bodi need bodi becom resist insulin produc"
          ],
          [
           "type cau two one symptom",
           "nick jona diabet doctor name"
          ],
          [
           "type cau two one symptom",
           "major symptom type two diabet"
          ],
          [
           "type cau two one symptom",
           "chanc get type one diabet"
          ],
          [
           "type cau two one symptom",
           "diabet caus"
          ],
          [
           "type cau two one symptom",
           "often diabet occur"
          ],
          [
           "type cau two one symptom",
           "diabet transfer sexual"
          ],
          [
           "type cau two one symptom",
           "affect peopl aid breast cancer diabet"
          ],
          [
           "type cau two one symptom",
           "person without diabet get ulcer"
          ],
          [
           "type cau two one symptom",
           "common sourc infect"
          ],
          [
           "type cau two one symptom",
           "obes diabet nation epidem us"
          ],
          [
           "type cau two one symptom",
           "get type diabet"
          ],
          [
           "type cau two one symptom",
           "get diabet life"
          ],
          [
           "type cau two one symptom",
           "mani peopl diabet insipidu"
          ],
          [
           "type cau two one symptom",
           "diabet fruiti odor"
          ],
          [
           "type cau two one symptom",
           "know anger problem"
          ],
          [
           "type cau two one symptom",
           "diabet caus"
          ],
          [
           "type cau two one symptom",
           "diabet use infrar sauna"
          ],
          [
           "type cau two one symptom",
           "diagnos diabet insipidu"
          ],
          [
           "type cau two one symptom",
           "diabet miletu"
          ],
          [
           "type cau two one symptom",
           "type two diabet iuss"
          ],
          [
           "type cau two one symptom",
           "common effect diabet diabet"
          ],
          [
           "type cau two one symptom",
           "cale blood aced"
          ],
          [
           "type cau two one symptom",
           "type four diabet"
          ],
          [
           "type cau two one symptom",
           "age symptom diabet occur"
          ],
          [
           "type cau two one symptom",
           "type one diabet transmit"
          ],
          [
           "type cau two one symptom",
           "know diabet"
          ],
          [
           "type cau two one symptom",
           "sixti two year old diabet black man swollen left leg area blanch blue mottl"
          ],
          [
           "type cau two one symptom",
           "itchyblist arm shoulder"
          ],
          [
           "type cau two one symptom",
           "need two kidney"
          ],
          [
           "type cau two one symptom",
           "reason person would start urin lot"
          ],
          [
           "type cau two one symptom",
           "could diabet mental ill born develop extrem depress suppress sad anger"
          ],
          [
           "type cau two one symptom",
           "type one diabet type two"
          ],
          [
           "type cau two one symptom",
           "diseas endocrin system"
          ],
          [
           "type cau two one symptom",
           "ophthalmoplegia happen diabet mellitu"
          ],
          [
           "type cau two one symptom",
           "life long condit"
          ],
          [
           "type cau two one symptom",
           "might diabet alter one everyday life"
          ],
          [
           "type cau two one symptom",
           "everyon diabet"
          ],
          [
           "type cau two one symptom",
           "diabet go away"
          ],
          [
           "type cau two one symptom",
           "briefli describ four type diabet insipidu"
          ],
          [
           "type cau two one symptom",
           "final caus sycmor fall"
          ],
          [
           "type cau two one symptom",
           "nick jona make big deal diabet"
          ]
         ],
         "hovertemplate": "summary=%{customdata[0]}<br>pc_1=%{x}<br>pc_2=%{y}<br>pc_3=%{z}<br>sentence=%{customdata[1]}<extra></extra>",
         "legendgroup": "type cau two one symptom",
         "marker": {
          "color": "#ab63fa",
          "size": 5,
          "symbol": "circle"
         },
         "mode": "markers",
         "name": "type cau two one symptom",
         "scene": "scene",
         "showlegend": true,
         "type": "scatter3d",
         "x": [
          -7.495748996734619,
          -5.860567092895508,
          -13.571162223815918,
          -12.490520477294922,
          -12.45880126953125,
          -11.161949157714844,
          -13.367785453796387,
          -11.922089576721191,
          -11.896553993225098,
          -8.808345794677734,
          -10.068480491638184,
          -11.086748123168945,
          -10.86657428741455,
          -10.831583023071289,
          -8.250898361206055,
          -9.184856414794922,
          -10.942578315734863,
          -9.236715316772461,
          -11.828030586242676,
          -12.167158126831055,
          -10.069174766540527,
          -9.853297233581543,
          -11.030611991882324,
          -13.941624641418457,
          -13.686907768249512,
          -11.88593864440918,
          -13.077665328979492,
          -13.05476188659668,
          -12.364556312561035,
          -8.74824333190918,
          -7.803155422210693,
          -11.97042179107666,
          -8.476067543029785,
          -7.343856334686279,
          -6.523648738861084,
          -5.838225364685059,
          -13.632343292236328,
          -7.2053704261779785,
          -6.508213996887207,
          -12.641790390014648,
          -11.08684253692627,
          -6.126906871795654,
          -9.000629425048828,
          -13.938393592834473,
          -10.250956535339355,
          -11.266498565673828,
          -7.459525108337402,
          -8.361247062683105,
          -12.936346054077148,
          -10.64952564239502,
          -12.823875427246094,
          -5.577070236206055,
          -10.608037948608398,
          -10.731731414794922,
          -10.892729759216309,
          -6.451715469360352,
          -12.324138641357422,
          -9.110118865966797,
          -6.891818046569824,
          -5.850748538970947,
          -4.179493427276611,
          -8.212810516357422,
          -12.992880821228027,
          -13.268067359924316,
          -10.075101852416992,
          -7.259383201599121,
          -6.097235679626465,
          -10.102655410766602,
          -7.304065704345703,
          -8.398173332214355,
          -9.50848388671875,
          -7.704820156097412,
          -12.339146614074707,
          -13.053455352783203,
          -12.744114875793457,
          -9.280013084411621,
          -6.95149040222168,
          -13.054515838623047,
          -10.423358917236328,
          -10.667634010314941,
          -7.24371337890625,
          -6.765432357788086,
          -8.864751815795898,
          -11.886279106140137,
          -11.736105918884277,
          -6.362360954284668,
          -11.354584693908691,
          -7.658844470977783,
          -8.0232515335083,
          -6.3949503898620605,
          -5.970966339111328,
          -10.900715827941895,
          -3.937324285507202,
          -10.814098358154297,
          -10.844712257385254,
          -7.408379077911377,
          -11.885936737060547,
          -10.268237113952637,
          -11.289037704467773,
          -11.882904052734375,
          -10.210029602050781,
          -11.956323623657227,
          -11.0850830078125,
          -8.09029483795166,
          -10.242218971252441,
          -10.729920387268066,
          -7.452744483947754,
          -8.295654296875,
          -10.277694702148438,
          -13.312889099121094,
          -9.400636672973633,
          -9.289392471313477,
          -8.830167770385742,
          -7.467764854431152,
          -8.98727035522461,
          -12.639277458190918,
          -12.819836616516113,
          -8.76892375946045,
          -13.752184867858887,
          -8.864751815795898,
          -6.292478561401367,
          -7.1209001541137695,
          -10.898666381835938,
          -8.230375289916992,
          -13.898603439331055,
          -10.504364967346191,
          -11.073039054870605,
          -9.460640907287598,
          -4.02030611038208,
          -5.253926753997803,
          -11.416240692138672,
          -7.898844242095947,
          -10.8020601272583,
          -8.526837348937988,
          -8.271757125854492,
          -5.377807140350342,
          -6.544412612915039,
          -12.3180513381958,
          -9.212124824523926,
          -8.49351692199707,
          -4.726129531860352,
          -12.434322357177734,
          -11.928901672363281,
          -10.447093963623047,
          -8.2269926071167,
          -11.825721740722656,
          -6.062007427215576,
          -7.333761692047119,
          -6.649175643920898,
          -13.759618759155273,
          -11.824647903442383,
          -7.289146900177002,
          -6.9813313484191895,
          -8.622471809387207,
          -11.8040771484375,
          -13.549266815185547,
          -9.070220947265625,
          -8.334728240966797,
          -12.731030464172363,
          -12.477256774902344,
          -10.559599876403809,
          -10.176427841186523,
          -7.594399929046631,
          -10.043391227722168,
          -12.347420692443848,
          -7.423185348510742,
          -6.64084005355835,
          -10.5792236328125,
          -10.945619583129883,
          -11.70323371887207,
          -10.890155792236328,
          -8.672205924987793,
          -13.310689926147461,
          -12.782214164733887,
          -5.377805233001709,
          -12.1190185546875,
          -13.466440200805664,
          -11.340676307678223,
          -12.033571243286133,
          -7.319967746734619,
          -11.886098861694336,
          -6.306643962860107,
          -5.602144718170166,
          -10.626087188720703,
          -10.715351104736328,
          -6.093951225280762,
          -7.498610973358154,
          -13.518744468688965,
          -6.887108325958252,
          -13.874818801879883,
          -12.586787223815918,
          -7.222017288208008,
          -9.541390419006348,
          -13.849534034729004,
          -9.276711463928223,
          -8.95146656036377,
          -10.024299621582031,
          -8.502326965332031,
          -11.417572021484375,
          -9.886603355407715,
          -6.093650817871094,
          -12.265118598937988,
          -11.960489273071289,
          -10.628907203674316,
          -8.550934791564941,
          -12.922261238098145,
          -6.8275837898254395,
          -7.82195520401001,
          -9.170381546020508,
          -10.936361312866211,
          -8.680221557617188,
          -11.40520191192627,
          -7.3571391105651855,
          -4.25667142868042,
          -8.106306076049805,
          -10.102649688720703,
          -12.237168312072754,
          -11.820886611938477,
          -10.301701545715332,
          -12.694141387939453,
          -10.537796974182129,
          -8.06346607208252,
          -7.7755866050720215,
          -6.418361186981201,
          -5.377807140350342,
          -12.193827629089355,
          -7.271030902862549,
          -7.690916538238525,
          -6.191372871398926,
          -6.826402187347412,
          -10.78238296508789,
          -8.529350280761719,
          -7.287109851837158,
          -10.081696510314941,
          -13.944808959960938,
          -6.1219916343688965,
          -10.510563850402832,
          -13.074817657470703,
          -7.8321733474731445,
          -7.875672340393066,
          -6.2798752784729,
          -12.040175437927246,
          -5.833203315734863,
          -11.119400978088379,
          -10.053956031799316,
          -9.949857711791992,
          -6.146026611328125,
          -12.31805419921875,
          -8.541674613952637,
          -11.175738334655762,
          -12.205154418945312,
          -10.541165351867676,
          -8.620600700378418,
          -11.806767463684082,
          -13.915382385253906,
          -13.47159481048584,
          -7.29494047164917,
          -6.22648811340332,
          -10.567401885986328,
          -12.375025749206543,
          -13.948555946350098,
          -9.116230010986328,
          -13.075428009033203,
          -5.008120059967041,
          -8.631978988647461,
          -11.361854553222656,
          -12.708199501037598,
          -13.682759284973145,
          -7.384183406829834,
          -7.667093276977539,
          -9.068800926208496,
          -12.373170852661133,
          -12.689562797546387,
          -8.311491966247559,
          -12.094900131225586,
          -11.37492847442627,
          -13.948663711547852,
          -13.504790306091309,
          -10.602688789367676,
          -11.53343677520752,
          -9.397717475891113,
          -7.259676933288574,
          -8.935401916503906,
          -8.982802391052246,
          -12.496504783630371,
          -9.699071884155273,
          -11.539916038513184,
          -11.64898681640625,
          -8.015759468078613,
          -13.504846572875977,
          -10.58460807800293,
          -3.8911924362182617,
          -8.587875366210938,
          -10.651093482971191,
          -9.630484580993652,
          -10.574369430541992,
          -7.04364013671875,
          -8.908003807067871,
          -10.433303833007812,
          -5.377804756164551,
          -9.603550910949707,
          -12.745055198669434,
          -5.470391750335693,
          -8.757174491882324,
          -8.280579566955566,
          -9.019369125366211,
          -6.293306827545166,
          -11.849125862121582,
          -9.969610214233398,
          -11.62231159210205,
          -7.221454620361328,
          -6.140681743621826,
          -12.434231758117676,
          -6.0794830322265625,
          -11.461593627929688
         ],
         "y": [
          6.016322612762451,
          2.00529146194458,
          2.2887141704559326,
          -0.5325844287872314,
          -0.23408642411231995,
          2.3254759311676025,
          4.136427402496338,
          2.169135332107544,
          3.3548734188079834,
          4.067154884338379,
          5.285682678222656,
          -1.5490792989730835,
          -2.8083765506744385,
          -2.643789529800415,
          -1.6216481924057007,
          -0.7907217741012573,
          -2.0319368839263916,
          -4.540333271026611,
          4.033049583435059,
          2.0827250480651855,
          3.361748456954956,
          5.136557102203369,
          2.1971542835235596,
          3.1509294509887695,
          0.8728453516960144,
          4.2930006980896,
          -0.3384961783885956,
          3.4518158435821533,
          3.697754144668579,
          -4.186190605163574,
          -3.3633275032043457,
          4.22784948348999,
          -1.7907965183258057,
          7.471195697784424,
          -0.175512433052063,
          4.213047981262207,
          1.500814437866211,
          -2.414945125579834,
          2.0610921382904053,
          2.0387260913848877,
          -1.5491143465042114,
          4.033437252044678,
          2.183117628097534,
          -0.3616917133331299,
          2.285794734954834,
          2.454026937484741,
          -1.4122333526611328,
          5.692717552185059,
          1.9124398231506348,
          -2.7594974040985107,
          2.048027515411377,
          4.74078893661499,
          -0.7687914371490479,
          2.6247684955596924,
          4.220317363739014,
          -0.3812808096408844,
          1.6209179162979126,
          3.4297707080841064,
          1.8211077451705933,
          3.893514633178711,
          3.6268389225006104,
          1.9792604446411133,
          0.9518060684204102,
          2.662712812423706,
          -1.1395199298858643,
          7.1217122077941895,
          4.444096565246582,
          1.7136133909225464,
          2.0362160205841064,
          -4.455275058746338,
          -3.6255486011505127,
          1.3726195096969604,
          -1.172881841659546,
          0.004049883224070072,
          1.3540362119674683,
          4.475834369659424,
          0.9771307706832886,
          1.924356460571289,
          1.8996473550796509,
          3.5799996852874756,
          3.2010467052459717,
          0.2730938196182251,
          -3.5403506755828857,
          4.290352821350098,
          2.2702202796936035,
          3.6095774173736572,
          -2.83927321434021,
          4.70556640625,
          5.628396987915039,
          5.4765191078186035,
          4.132994174957275,
          -2.3216300010681152,
          4.05251932144165,
          -4.532805919647217,
          6.1570329666137695,
          -0.25193068385124207,
          4.293008804321289,
          1.823333740234375,
          -2.403524398803711,
          4.2609405517578125,
          4.064188003540039,
          2.717703104019165,
          3.4151129722595215,
          5.935995101928711,
          2.157538652420044,
          3.0195822715759277,
          0.18612931668758392,
          -4.780089378356934,
          -3.3720481395721436,
          1.9009687900543213,
          4.158270359039307,
          2.0466067790985107,
          4.774570465087891,
          -1.2402702569961548,
          1.6619311571121216,
          4.050954341888428,
          1.7514936923980713,
          1.6618757247924805,
          1.9141168594360352,
          -3.540351152420044,
          0.5620445013046265,
          4.665262222290039,
          0.9299232959747314,
          -1.2653602361679077,
          0.8105478286743164,
          7.1627278327941895,
          4.278928279876709,
          -4.566812038421631,
          4.621165752410889,
          5.663755893707275,
          1.9610768556594849,
          3.1721320152282715,
          1.9795962572097778,
          2.932922840118408,
          3.9105827808380127,
          4.103443622589111,
          2.2505345344543457,
          2.4891130924224854,
          4.392579555511475,
          3.93595814704895,
          4.018045425415039,
          0.19950972497463226,
          3.362161636352539,
          1.9066414833068848,
          -2.6175479888916016,
          2.4422082901000977,
          3.9948668479919434,
          -0.47664058208465576,
          6.590877532958984,
          1.29954195022583,
          2.187718152999878,
          7.417791366577148,
          -2.66361665725708,
          -3.3214282989501953,
          2.381561517715454,
          2.28342604637146,
          3.4086999893188477,
          3.7952170372009277,
          1.8953694105148315,
          3.0661392211914062,
          6.136837959289551,
          -3.075800895690918,
          1.7916587591171265,
          -4.411596775054932,
          4.099618434906006,
          5.211787700653076,
          3.2157092094421387,
          6.498425483703613,
          2.437483310699463,
          3.9098522663116455,
          4.970484256744385,
          1.3076446056365967,
          0.8685958981513977,
          2.021418333053589,
          4.1034417152404785,
          2.4926235675811768,
          3.543210029602051,
          2.4554860591888428,
          -1.6051127910614014,
          -1.8077569007873535,
          4.293158054351807,
          0.4279034435749054,
          3.803143262863159,
          2.7109415531158447,
          6.459900856018066,
          4.776172637939453,
          2.013666868209839,
          2.9004807472229004,
          2.9567723274230957,
          0.9021481275558472,
          2.86588716506958,
          1.4750910997390747,
          4.063852787017822,
          0.03080604039132595,
          -3.999906539916992,
          2.583040714263916,
          3.98549222946167,
          4.430741786956787,
          -4.711330413818359,
          1.6010727882385254,
          6.22490930557251,
          4.203146934509277,
          2.0985465049743652,
          -3.571413040161133,
          -4.681215286254883,
          2.0966379642486572,
          1.866075873374939,
          -1.615775465965271,
          3.327908992767334,
          1.9427682161331177,
          4.534989356994629,
          -1.9707233905792236,
          2.0674993991851807,
          4.307605266571045,
          4.052052021026611,
          1.713588833808899,
          0.9610821604728699,
          3.7659246921539307,
          0.5986816883087158,
          1.7826675176620483,
          4.01932430267334,
          1.7982138395309448,
          3.0712153911590576,
          -0.4855737090110779,
          4.1034440994262695,
          2.1130166053771973,
          -1.664119839668274,
          6.113265037536621,
          6.079423427581787,
          0.9157704710960388,
          6.1895928382873535,
          4.220215797424316,
          -2.8481242656707764,
          4.044426918029785,
          -0.3586699962615967,
          2.1377809047698975,
          -1.0697513818740845,
          3.31854510307312,
          6.050350666046143,
          2.3785367012023926,
          3.7123255729675293,
          -1.640786051750183,
          4.363125801086426,
          -0.6414539217948914,
          -2.981933116912842,
          -4.310151100158691,
          6.147082328796387,
          2.4890761375427246,
          4.1599297523498535,
          4.246314525604248,
          0.5460793972015381,
          -0.796782374382019,
          4.179717540740967,
          -2.4413251876831055,
          0.5148191452026367,
          2.48002290725708,
          0.003172696568071842,
          6.051251411437988,
          -2.3095130920410156,
          3.575007438659668,
          -0.6544426679611206,
          -3.1724255084991455,
          1.964572787284851,
          3.917964220046997,
          4.653250694274902,
          2.0674636363983154,
          0.055100128054618835,
          1.4516421556472778,
          -0.23425845801830292,
          1.834725022315979,
          4.752047061920166,
          3.0850770473480225,
          2.659907102584839,
          2.595186471939087,
          0.8385603427886963,
          -4.688997268676758,
          -0.44143009185791016,
          2.9318814277648926,
          5.551724910736084,
          -2.386418581008911,
          4.655848503112793,
          5.01029109954834,
          -0.7360311150550842,
          1.7841840982437134,
          2.4146041870117188,
          1.9198803901672363,
          4.224674701690674,
          3.005613088607788,
          5.828071594238281,
          2.9320449829101562,
          5.683152675628662,
          4.593277931213379,
          4.053524494171143,
          2.122699737548828,
          4.076573371887207,
          6.596920013427734,
          1.8131698369979858,
          -4.9080610275268555,
          2.4096827507019043,
          4.103443145751953,
          -2.383164644241333,
          2.1886136531829834,
          5.046126842498779,
          -4.739266395568848,
          -2.067887306213379,
          2.0411174297332764,
          5.763759613037109,
          3.3301854133605957,
          5.0473151206970215,
          3.0951192378997803,
          1.5873759984970093,
          0.15970253944396973,
          2.027543306350708,
          6.188796043395996,
          0.06279725581407547
         ],
         "z": [
          2.171926259994507,
          -4.284012317657471,
          7.739428997039795,
          9.8646821975708,
          9.879883766174316,
          10.228157997131348,
          7.425113201141357,
          1.0491666793823242,
          3.754142999649048,
          3.136472225189209,
          4.887351036071777,
          10.543059349060059,
          10.824085235595703,
          10.85457992553711,
          10.377251625061035,
          10.395127296447754,
          11.081134796142578,
          10.99889087677002,
          5.316309928894043,
          1.181816577911377,
          8.39295768737793,
          4.920722484588623,
          -0.5001614689826965,
          7.153228759765625,
          7.897843837738037,
          7.016570091247559,
          9.212230682373047,
          6.53216028213501,
          8.433235168457031,
          10.956969261169434,
          10.6200532913208,
          5.9889326095581055,
          10.506293296813965,
          2.3659255504608154,
          6.748600959777832,
          0.17881034314632416,
          5.082942008972168,
          10.176739692687988,
          -3.920145034790039,
          2.041273593902588,
          10.543074607849121,
          0.46223780512809753,
          9.131708145141602,
          7.386050224304199,
          -1.0211769342422485,
          -0.957116425037384,
          9.824525833129883,
          1.9481732845306396,
          2.4901411533355713,
          10.845186233520508,
          2.5513012409210205,
          -0.7438272833824158,
          10.542444229125977,
          0.1788478046655655,
          6.22958517074585,
          6.819993495941162,
          9.838117599487305,
          0.24822857975959778,
          -3.587851047515869,
          1.6521730422973633,
          -2.198711395263672,
          -2.648883819580078,
          9.448493957519531,
          8.09121322631836,
          10.280454635620117,
          2.092439889907837,
          0.30672404170036316,
          9.841212272644043,
          -3.2771503925323486,
          10.956210136413574,
          10.967177391052246,
          -3.3473124504089355,
          10.066906929016113,
          9.270548820495605,
          9.958291053771973,
          3.7956483364105225,
          6.210831165313721,
          2.9320597648620605,
          -0.7928116917610168,
          8.575477600097656,
          -2.410897970199585,
          6.7385711669921875,
          10.904425621032715,
          7.016668796539307,
          0.5877298712730408,
          0.0641561895608902,
          10.502106666564941,
          3.0763423442840576,
          2.4246151447296143,
          0.32223963737487793,
          -0.3137196898460388,
          10.734033584594727,
          -2.0881307125091553,
          10.642231941223145,
          6.031033992767334,
          8.836949348449707,
          7.01658821105957,
          -0.7379680275917053,
          11.086191177368164,
          5.929666042327881,
          6.379591941833496,
          9.321762084960938,
          8.634200096130371,
          2.3508222103118896,
          -0.8005865812301636,
          9.09454345703125,
          8.474820137023926,
          11.045628547668457,
          10.937317848205566,
          4.446735382080078,
          4.135232925415039,
          -1.75019371509552,
          2.7012317180633545,
          9.707263946533203,
          -1.8398877382278442,
          8.222006797790527,
          10.312097549438477,
          9.49179744720459,
          6.310659885406494,
          10.904425621032715,
          4.684020042419434,
          3.065004587173462,
          10.147472381591797,
          10.234107971191406,
          6.617937088012695,
          6.070241451263428,
          6.955970287322998,
          10.97919750213623,
          -1.8271117210388184,
          -0.7487865090370178,
          0.4979289174079895,
          4.657411098480225,
          -0.1876826286315918,
          8.247066497802734,
          1.5626693964004517,
          -1.3829492330551147,
          -3.7209155559539795,
          2.2057197093963623,
          3.27606463432312,
          1.3220545053482056,
          -1.6944756507873535,
          9.896089553833008,
          8.758106231689453,
          -0.9956083297729492,
          10.617499351501465,
          9.975172996520996,
          0.2081652730703354,
          8.928165435791016,
          1.0385328531265259,
          5.509555339813232,
          1.0826891660690308,
          2.28080677986145,
          10.214574813842773,
          10.830330848693848,
          9.428651809692383,
          7.857160568237305,
          0.32507121562957764,
          2.843933582305908,
          9.648828506469727,
          8.665088653564453,
          5.366272926330566,
          10.973708152770996,
          -3.1492466926574707,
          10.864824295043945,
          6.63672399520874,
          2.813802480697632,
          4.269056797027588,
          5.551732063293457,
          -1.2295476198196411,
          4.9355926513671875,
          5.378433704376221,
          -2.036102771759033,
          8.832539558410645,
          2.3358819484710693,
          -1.3829481601715088,
          1.9269887208938599,
          7.108861446380615,
          0.12846174836158752,
          10.248502731323242,
          9.961385726928711,
          7.01664400100708,
          5.185702800750732,
          1.2735751867294312,
          9.33214282989502,
          6.036107540130615,
          0.28229713439941406,
          -3.113375663757324,
          7.432207107543945,
          -2.6950321197509766,
          6.044756889343262,
          4.2499823570251465,
          6.275051593780518,
          5.122580051422119,
          7.534372806549072,
          10.978313446044922,
          8.702341079711914,
          6.757482051849365,
          1.8042848110198975,
          10.390764236450195,
          9.841371536254883,
          0.0899769589304924,
          6.44042444229126,
          0.9261879324913025,
          10.867194175720215,
          11.032917022705078,
          3.0404915809631348,
          -3.6181464195251465,
          10.187246322631836,
          0.16830629110336304,
          -0.2688174843788147,
          2.351331949234009,
          10.663229942321777,
          -3.18729567527771,
          -1.7175238132476807,
          4.415075302124023,
          9.841241836547852,
          9.9815092086792,
          7.253942489624023,
          10.179681777954102,
          9.704421997070312,
          5.574101448059082,
          -2.760910987854004,
          4.074540615081787,
          6.8604044914245605,
          -1.382948875427246,
          1.2880066633224487,
          9.859091758728027,
          2.3772261142730713,
          0.2786758542060852,
          6.431000709533691,
          5.96517276763916,
          3.201265335083008,
          10.332118034362793,
          6.6930670738220215,
          7.363094329833984,
          -3.9303414821624756,
          10.07921314239502,
          6.591282367706299,
          2.2376339435577393,
          -2.8374009132385254,
          0.05874460190534592,
          10.330063819885254,
          -0.9929401278495789,
          10.46984577178955,
          11.035632133483887,
          10.902003288269043,
          0.04384913295507431,
          2.2057740688323975,
          2.778639554977417,
          5.583979606628418,
          10.039548873901367,
          10.535834312438965,
          2.773803949356079,
          10.651150703430176,
          6.897700786590576,
          7.746799945831299,
          8.367856979370117,
          0.20396006107330322,
          10.933835983276367,
          8.164899826049805,
          7.45051383972168,
          10.897907257080078,
          3.2537460327148438,
          -1.3879228830337524,
          2.4785830974578857,
          0.20874230563640594,
          9.729119300842285,
          5.2257914543151855,
          8.784642219543457,
          -3.089824914932251,
          2.8183796405792236,
          8.740324974060059,
          4.049015998840332,
          -2.5451741218566895,
          10.060463905334473,
          10.41419506072998,
          7.388375759124756,
          7.398860931396484,
          5.146703720092773,
          10.442005157470703,
          5.168371200561523,
          0.806686282157898,
          10.31913948059082,
          9.464960098266602,
          2.5644948482513428,
          9.614097595214844,
          5.9100341796875,
          9.053144454956055,
          2.0647318363189697,
          7.398398399353027,
          5.816743850708008,
          -1.9690020084381104,
          2.4347784519195557,
          -0.6046802997589111,
          4.9776411056518555,
          6.256008625030518,
          -3.5240976810455322,
          11.06392765045166,
          -1.0692393779754639,
          -1.3829491138458252,
          10.854813575744629,
          9.549630165100098,
          -0.6996386647224426,
          10.711946487426758,
          10.515872955322266,
          -2.0158567428588867,
          0.16418157517910004,
          3.5598766803741455,
          5.071311950683594,
          8.896306037902832,
          5.93482780456543,
          5.118072986602783,
          1.589367151260376,
          0.17634126543998718,
          10.278539657592773
         ]
        }
       ],
       "layout": {
        "height": 500,
        "legend": {
         "itemclick": "toggleothers",
         "title": {
          "text": "Cluster Summaries"
         },
         "tracegroupgap": 0
        },
        "margin": {
         "t": 60
        },
        "scene": {
         "domain": {
          "x": [
           0,
           1
          ],
          "y": [
           0,
           1
          ]
         },
         "xaxis": {
          "title": {
           "text": "pc_1"
          }
         },
         "yaxis": {
          "title": {
           "text": "pc_2"
          }
         },
         "zaxis": {
          "title": {
           "text": "pc_3"
          }
         }
        },
        "template": {
         "data": {
          "bar": [
           {
            "error_x": {
             "color": "#2a3f5f"
            },
            "error_y": {
             "color": "#2a3f5f"
            },
            "marker": {
             "line": {
              "color": "#E5ECF6",
              "width": 0.5
             }
            },
            "type": "bar"
           }
          ],
          "barpolar": [
           {
            "marker": {
             "line": {
              "color": "#E5ECF6",
              "width": 0.5
             }
            },
            "type": "barpolar"
           }
          ],
          "carpet": [
           {
            "aaxis": {
             "endlinecolor": "#2a3f5f",
             "gridcolor": "white",
             "linecolor": "white",
             "minorgridcolor": "white",
             "startlinecolor": "#2a3f5f"
            },
            "baxis": {
             "endlinecolor": "#2a3f5f",
             "gridcolor": "white",
             "linecolor": "white",
             "minorgridcolor": "white",
             "startlinecolor": "#2a3f5f"
            },
            "type": "carpet"
           }
          ],
          "choropleth": [
           {
            "colorbar": {
             "outlinewidth": 0,
             "ticks": ""
            },
            "type": "choropleth"
           }
          ],
          "contour": [
           {
            "colorbar": {
             "outlinewidth": 0,
             "ticks": ""
            },
            "colorscale": [
             [
              0,
              "#0d0887"
             ],
             [
              0.1111111111111111,
              "#46039f"
             ],
             [
              0.2222222222222222,
              "#7201a8"
             ],
             [
              0.3333333333333333,
              "#9c179e"
             ],
             [
              0.4444444444444444,
              "#bd3786"
             ],
             [
              0.5555555555555556,
              "#d8576b"
             ],
             [
              0.6666666666666666,
              "#ed7953"
             ],
             [
              0.7777777777777778,
              "#fb9f3a"
             ],
             [
              0.8888888888888888,
              "#fdca26"
             ],
             [
              1,
              "#f0f921"
             ]
            ],
            "type": "contour"
           }
          ],
          "contourcarpet": [
           {
            "colorbar": {
             "outlinewidth": 0,
             "ticks": ""
            },
            "type": "contourcarpet"
           }
          ],
          "heatmap": [
           {
            "colorbar": {
             "outlinewidth": 0,
             "ticks": ""
            },
            "colorscale": [
             [
              0,
              "#0d0887"
             ],
             [
              0.1111111111111111,
              "#46039f"
             ],
             [
              0.2222222222222222,
              "#7201a8"
             ],
             [
              0.3333333333333333,
              "#9c179e"
             ],
             [
              0.4444444444444444,
              "#bd3786"
             ],
             [
              0.5555555555555556,
              "#d8576b"
             ],
             [
              0.6666666666666666,
              "#ed7953"
             ],
             [
              0.7777777777777778,
              "#fb9f3a"
             ],
             [
              0.8888888888888888,
              "#fdca26"
             ],
             [
              1,
              "#f0f921"
             ]
            ],
            "type": "heatmap"
           }
          ],
          "heatmapgl": [
           {
            "colorbar": {
             "outlinewidth": 0,
             "ticks": ""
            },
            "colorscale": [
             [
              0,
              "#0d0887"
             ],
             [
              0.1111111111111111,
              "#46039f"
             ],
             [
              0.2222222222222222,
              "#7201a8"
             ],
             [
              0.3333333333333333,
              "#9c179e"
             ],
             [
              0.4444444444444444,
              "#bd3786"
             ],
             [
              0.5555555555555556,
              "#d8576b"
             ],
             [
              0.6666666666666666,
              "#ed7953"
             ],
             [
              0.7777777777777778,
              "#fb9f3a"
             ],
             [
              0.8888888888888888,
              "#fdca26"
             ],
             [
              1,
              "#f0f921"
             ]
            ],
            "type": "heatmapgl"
           }
          ],
          "histogram": [
           {
            "marker": {
             "colorbar": {
              "outlinewidth": 0,
              "ticks": ""
             }
            },
            "type": "histogram"
           }
          ],
          "histogram2d": [
           {
            "colorbar": {
             "outlinewidth": 0,
             "ticks": ""
            },
            "colorscale": [
             [
              0,
              "#0d0887"
             ],
             [
              0.1111111111111111,
              "#46039f"
             ],
             [
              0.2222222222222222,
              "#7201a8"
             ],
             [
              0.3333333333333333,
              "#9c179e"
             ],
             [
              0.4444444444444444,
              "#bd3786"
             ],
             [
              0.5555555555555556,
              "#d8576b"
             ],
             [
              0.6666666666666666,
              "#ed7953"
             ],
             [
              0.7777777777777778,
              "#fb9f3a"
             ],
             [
              0.8888888888888888,
              "#fdca26"
             ],
             [
              1,
              "#f0f921"
             ]
            ],
            "type": "histogram2d"
           }
          ],
          "histogram2dcontour": [
           {
            "colorbar": {
             "outlinewidth": 0,
             "ticks": ""
            },
            "colorscale": [
             [
              0,
              "#0d0887"
             ],
             [
              0.1111111111111111,
              "#46039f"
             ],
             [
              0.2222222222222222,
              "#7201a8"
             ],
             [
              0.3333333333333333,
              "#9c179e"
             ],
             [
              0.4444444444444444,
              "#bd3786"
             ],
             [
              0.5555555555555556,
              "#d8576b"
             ],
             [
              0.6666666666666666,
              "#ed7953"
             ],
             [
              0.7777777777777778,
              "#fb9f3a"
             ],
             [
              0.8888888888888888,
              "#fdca26"
             ],
             [
              1,
              "#f0f921"
             ]
            ],
            "type": "histogram2dcontour"
           }
          ],
          "mesh3d": [
           {
            "colorbar": {
             "outlinewidth": 0,
             "ticks": ""
            },
            "type": "mesh3d"
           }
          ],
          "parcoords": [
           {
            "line": {
             "colorbar": {
              "outlinewidth": 0,
              "ticks": ""
             }
            },
            "type": "parcoords"
           }
          ],
          "pie": [
           {
            "automargin": true,
            "type": "pie"
           }
          ],
          "scatter": [
           {
            "marker": {
             "colorbar": {
              "outlinewidth": 0,
              "ticks": ""
             }
            },
            "type": "scatter"
           }
          ],
          "scatter3d": [
           {
            "line": {
             "colorbar": {
              "outlinewidth": 0,
              "ticks": ""
             }
            },
            "marker": {
             "colorbar": {
              "outlinewidth": 0,
              "ticks": ""
             }
            },
            "type": "scatter3d"
           }
          ],
          "scattercarpet": [
           {
            "marker": {
             "colorbar": {
              "outlinewidth": 0,
              "ticks": ""
             }
            },
            "type": "scattercarpet"
           }
          ],
          "scattergeo": [
           {
            "marker": {
             "colorbar": {
              "outlinewidth": 0,
              "ticks": ""
             }
            },
            "type": "scattergeo"
           }
          ],
          "scattergl": [
           {
            "marker": {
             "colorbar": {
              "outlinewidth": 0,
              "ticks": ""
             }
            },
            "type": "scattergl"
           }
          ],
          "scattermapbox": [
           {
            "marker": {
             "colorbar": {
              "outlinewidth": 0,
              "ticks": ""
             }
            },
            "type": "scattermapbox"
           }
          ],
          "scatterpolar": [
           {
            "marker": {
             "colorbar": {
              "outlinewidth": 0,
              "ticks": ""
             }
            },
            "type": "scatterpolar"
           }
          ],
          "scatterpolargl": [
           {
            "marker": {
             "colorbar": {
              "outlinewidth": 0,
              "ticks": ""
             }
            },
            "type": "scatterpolargl"
           }
          ],
          "scatterternary": [
           {
            "marker": {
             "colorbar": {
              "outlinewidth": 0,
              "ticks": ""
             }
            },
            "type": "scatterternary"
           }
          ],
          "surface": [
           {
            "colorbar": {
             "outlinewidth": 0,
             "ticks": ""
            },
            "colorscale": [
             [
              0,
              "#0d0887"
             ],
             [
              0.1111111111111111,
              "#46039f"
             ],
             [
              0.2222222222222222,
              "#7201a8"
             ],
             [
              0.3333333333333333,
              "#9c179e"
             ],
             [
              0.4444444444444444,
              "#bd3786"
             ],
             [
              0.5555555555555556,
              "#d8576b"
             ],
             [
              0.6666666666666666,
              "#ed7953"
             ],
             [
              0.7777777777777778,
              "#fb9f3a"
             ],
             [
              0.8888888888888888,
              "#fdca26"
             ],
             [
              1,
              "#f0f921"
             ]
            ],
            "type": "surface"
           }
          ],
          "table": [
           {
            "cells": {
             "fill": {
              "color": "#EBF0F8"
             },
             "line": {
              "color": "white"
             }
            },
            "header": {
             "fill": {
              "color": "#C8D4E3"
             },
             "line": {
              "color": "white"
             }
            },
            "type": "table"
           }
          ]
         },
         "layout": {
          "annotationdefaults": {
           "arrowcolor": "#2a3f5f",
           "arrowhead": 0,
           "arrowwidth": 1
          },
          "autotypenumbers": "strict",
          "coloraxis": {
           "colorbar": {
            "outlinewidth": 0,
            "ticks": ""
           }
          },
          "colorscale": {
           "diverging": [
            [
             0,
             "#8e0152"
            ],
            [
             0.1,
             "#c51b7d"
            ],
            [
             0.2,
             "#de77ae"
            ],
            [
             0.3,
             "#f1b6da"
            ],
            [
             0.4,
             "#fde0ef"
            ],
            [
             0.5,
             "#f7f7f7"
            ],
            [
             0.6,
             "#e6f5d0"
            ],
            [
             0.7,
             "#b8e186"
            ],
            [
             0.8,
             "#7fbc41"
            ],
            [
             0.9,
             "#4d9221"
            ],
            [
             1,
             "#276419"
            ]
           ],
           "sequential": [
            [
             0,
             "#0d0887"
            ],
            [
             0.1111111111111111,
             "#46039f"
            ],
            [
             0.2222222222222222,
             "#7201a8"
            ],
            [
             0.3333333333333333,
             "#9c179e"
            ],
            [
             0.4444444444444444,
             "#bd3786"
            ],
            [
             0.5555555555555556,
             "#d8576b"
            ],
            [
             0.6666666666666666,
             "#ed7953"
            ],
            [
             0.7777777777777778,
             "#fb9f3a"
            ],
            [
             0.8888888888888888,
             "#fdca26"
            ],
            [
             1,
             "#f0f921"
            ]
           ],
           "sequentialminus": [
            [
             0,
             "#0d0887"
            ],
            [
             0.1111111111111111,
             "#46039f"
            ],
            [
             0.2222222222222222,
             "#7201a8"
            ],
            [
             0.3333333333333333,
             "#9c179e"
            ],
            [
             0.4444444444444444,
             "#bd3786"
            ],
            [
             0.5555555555555556,
             "#d8576b"
            ],
            [
             0.6666666666666666,
             "#ed7953"
            ],
            [
             0.7777777777777778,
             "#fb9f3a"
            ],
            [
             0.8888888888888888,
             "#fdca26"
            ],
            [
             1,
             "#f0f921"
            ]
           ]
          },
          "colorway": [
           "#636efa",
           "#EF553B",
           "#00cc96",
           "#ab63fa",
           "#FFA15A",
           "#19d3f3",
           "#FF6692",
           "#B6E880",
           "#FF97FF",
           "#FECB52"
          ],
          "font": {
           "color": "#2a3f5f"
          },
          "geo": {
           "bgcolor": "white",
           "lakecolor": "white",
           "landcolor": "#E5ECF6",
           "showlakes": true,
           "showland": true,
           "subunitcolor": "white"
          },
          "hoverlabel": {
           "align": "left"
          },
          "hovermode": "closest",
          "mapbox": {
           "style": "light"
          },
          "paper_bgcolor": "white",
          "plot_bgcolor": "#E5ECF6",
          "polar": {
           "angularaxis": {
            "gridcolor": "white",
            "linecolor": "white",
            "ticks": ""
           },
           "bgcolor": "#E5ECF6",
           "radialaxis": {
            "gridcolor": "white",
            "linecolor": "white",
            "ticks": ""
           }
          },
          "scene": {
           "xaxis": {
            "backgroundcolor": "#E5ECF6",
            "gridcolor": "white",
            "gridwidth": 2,
            "linecolor": "white",
            "showbackground": true,
            "ticks": "",
            "zerolinecolor": "white"
           },
           "yaxis": {
            "backgroundcolor": "#E5ECF6",
            "gridcolor": "white",
            "gridwidth": 2,
            "linecolor": "white",
            "showbackground": true,
            "ticks": "",
            "zerolinecolor": "white"
           },
           "zaxis": {
            "backgroundcolor": "#E5ECF6",
            "gridcolor": "white",
            "gridwidth": 2,
            "linecolor": "white",
            "showbackground": true,
            "ticks": "",
            "zerolinecolor": "white"
           }
          },
          "shapedefaults": {
           "line": {
            "color": "#2a3f5f"
           }
          },
          "ternary": {
           "aaxis": {
            "gridcolor": "white",
            "linecolor": "white",
            "ticks": ""
           },
           "baxis": {
            "gridcolor": "white",
            "linecolor": "white",
            "ticks": ""
           },
           "bgcolor": "#E5ECF6",
           "caxis": {
            "gridcolor": "white",
            "linecolor": "white",
            "ticks": ""
           }
          },
          "title": {
           "x": 0.05
          },
          "xaxis": {
           "automargin": true,
           "gridcolor": "white",
           "linecolor": "white",
           "ticks": "",
           "title": {
            "standoff": 15
           },
           "zerolinecolor": "white",
           "zerolinewidth": 2
          },
          "yaxis": {
           "automargin": true,
           "gridcolor": "white",
           "linecolor": "white",
           "ticks": "",
           "title": {
            "standoff": 15
           },
           "zerolinecolor": "white",
           "zerolinewidth": 2
          }
         }
        },
        "title": {
         "text": "Projected Question Vector Manifold"
        }
       }
      },
      "text/html": [
       "<div>                            <div id=\"f676dbcd-bd0a-4a54-a68c-8181e6e15b90\" class=\"plotly-graph-div\" style=\"height:500px; width:100%;\"></div>            <script type=\"text/javascript\">                require([\"plotly\"], function(Plotly) {                    window.PLOTLYENV=window.PLOTLYENV || {};                                    if (document.getElementById(\"f676dbcd-bd0a-4a54-a68c-8181e6e15b90\")) {                    Plotly.newPlot(                        \"f676dbcd-bd0a-4a54-a68c-8181e6e15b90\",                        [{\"customdata\": [[\"blood sugar insulin level gluco\", \"lantu\"], [\"blood sugar insulin level gluco\", \"bodi produc much insulin\"], [\"blood sugar insulin level gluco\", \"proper aha first aid respons diabet attack\"], [\"blood sugar insulin level gluco\", \"function clavic\"], [\"blood sugar insulin level gluco\", \"normal protein level blood\"], [\"blood sugar insulin level gluco\", \"medic abbrevi mean twice day\"], [\"blood sugar insulin level gluco\", \"inject insulin best absorb via rout\"], [\"blood sugar insulin level gluco\", \"insulin releas\"], [\"blood sugar insulin level gluco\", \"much insulin overdos\"], [\"blood sugar insulin level gluco\", \"test diabet\"], [\"blood sugar insulin level gluco\", \"differ humulin insulin relion insulin\"], [\"blood sugar insulin level gluco\", \"get insulin\"], [\"blood sugar insulin level gluco\", \"age affect blood sugar\"], [\"blood sugar insulin level gluco\", \"relationship mahogani seed lower blood glucos\"], [\"blood sugar insulin level gluco\", \"insulin shock occur quickli\"], [\"blood sugar insulin level gluco\", \"blood sugar one hundr fifti six normal\"], [\"blood sugar insulin level gluco\", \"blood sugar four hundr sixti\"], [\"blood sugar insulin level gluco\", \"top caus diabet high blood sugar\"], [\"blood sugar insulin level gluco\", \"best drug diabet\"], [\"blood sugar insulin level gluco\", \"blood sugar level affect eye\"], [\"blood sugar insulin level gluco\", \"pancreat hormon function lower blood gulcos level\"], [\"blood sugar insulin level gluco\", \"insulin signal cell take glucos\"], [\"blood sugar insulin level gluco\", \"alcohol bad pre diabet\"], [\"blood sugar insulin level gluco\", \"diabet discov\"], [\"blood sugar insulin level gluco\", \"get lighthead feel like im go faint\"], [\"blood sugar insulin level gluco\", \"give insulin someon hypoglycem caus go coma\"], [\"blood sugar insulin level gluco\", \"wake blood sugar one hundr forti eight high\"], [\"blood sugar insulin level gluco\", \"cocain affect blood sugar\"], [\"blood sugar insulin level gluco\", \"blood sugar level high\"], [\"blood sugar insulin level gluco\", \"diabet affect level\"], [\"blood sugar insulin level gluco\", \"hypoglycemia treatment\"], [\"blood sugar insulin level gluco\", \"person type two diabet take insulin\"], [\"blood sugar insulin level gluco\", \"diabet metformin number consid high enough seek hospit\"], [\"blood sugar insulin level gluco\", \"diabet hormon\"], [\"blood sugar insulin level gluco\", \"would happen pancrea stop releas insulin\"], [\"blood sugar insulin level gluco\", \"anyon take insulin\"], [\"blood sugar insulin level gluco\", \"blood transport glucos cell\"], [\"blood sugar insulin level gluco\", \"blood sugar level one hundr four someth worri\"], [\"blood sugar insulin level gluco\", \"often take blood sugar\"], [\"blood sugar insulin level gluco\", \"blood sugar five hundr seventi five type insulin one take\"], [\"blood sugar insulin level gluco\", \"diabet emerg\"], [\"blood sugar insulin level gluco\", \"use one ml insulin syring mani unit would draw\"], [\"blood sugar insulin level gluco\", \"way monitor blood sugar level without use needl draw blood\"], [\"blood sugar insulin level gluco\", \"diabet drink slim fast sugar\"], [\"blood sugar insulin level gluco\", \"insulin necessari\"], [\"blood sugar insulin level gluco\", \"long person medic staff continu give glucos patient experienc low blood glucos level\"], [\"blood sugar insulin level gluco\", \"marijuana lower blood sugar level\"], [\"blood sugar insulin level gluco\", \"role insulin regul blood sugar level\"], [\"blood sugar insulin level gluco\", \"diabet test strip realli work\"], [\"blood sugar insulin level gluco\", \"serum insulin\"], [\"blood sugar insulin level gluco\", \"synonym pedicur\"], [\"blood sugar insulin level gluco\", \"first function cater\"], [\"blood sugar insulin level gluco\", \"diabet effect endocrin system\"], [\"blood sugar insulin level gluco\", \"insulin refriger\"], [\"blood sugar insulin level gluco\", \"normal high sugar\"], [\"blood sugar insulin level gluco\", \"substanc creat save diabet\"], [\"blood sugar insulin level gluco\", \"averag blood glucos level\"], [\"blood sugar insulin level gluco\", \"eat mani banan caus increas blood sugar\"], [\"blood sugar insulin level gluco\", \"novocain affect blood sugar\"], [\"blood sugar insulin level gluco\", \"latest trend paediatr nurs\"], [\"blood sugar insulin level gluco\", \"keep level glucos bodi stabl level\"], [\"blood sugar insulin level gluco\", \"organ break insulin\"], [\"blood sugar insulin level gluco\", \"someon diabet alcohol breath\"], [\"blood sugar insulin level gluco\", \"diabet meter\"], [\"blood sugar insulin level gluco\", \"five hundr forti three good blood sugar level\"], [\"blood sugar insulin level gluco\", \"frequent blood sugar level one hundr sixti eat mean\"], [\"blood sugar insulin level gluco\", \"blood loss affect blood sugar\"], [\"blood sugar insulin level gluco\", \"caus blood sugar drop rapidli\"], [\"blood sugar insulin level gluco\", \"main blood sugar bodi\"], [\"blood sugar insulin level gluco\", \"onlin store carri diabet test strip order buy\"], [\"blood sugar insulin level gluco\", \"normal valu bloodsugar\"], [\"blood sugar insulin level gluco\", \"fri shrimp rise blood sugar\"], [\"blood sugar insulin level gluco\", \"mani time day take insulin type one diabet\"], [\"blood sugar insulin level gluco\", \"best time check blood sugar read\"], [\"blood sugar insulin level gluco\", \"differenti actrapid monotard insulin\"], [\"blood sugar insulin level gluco\", \"normal fast blood sugar level fifti year old woman\"], [\"blood sugar insulin level gluco\", \"sugar level four hundr fifti six\"], [\"blood sugar insulin level gluco\", \"would doctor suggest check patient blood sugar level\"], [\"blood sugar insulin level gluco\", \"normal blood sugar go diabet\"], [\"blood sugar insulin level gluco\", \"test diabet\"], [\"blood sugar insulin level gluco\", \"get older bone get stiff achey\"], [\"blood sugar insulin level gluco\", \"normal glucos level teenag\"], [\"blood sugar insulin level gluco\", \"cant pancrea make insulin type one diabet\"], [\"blood sugar insulin level gluco\", \"glucagon insulin help maintain normal glucos level\"], [\"blood sugar insulin level gluco\", \"test use detect\"], [\"blood sugar insulin level gluco\", \"follow would indic hypoglycemia diabet\"], [\"blood sugar insulin level gluco\", \"maintain good blood sugar level throughout day\"], [\"blood sugar insulin level gluco\", \"use insulin syring\"], [\"blood sugar insulin level gluco\", \"unhealthi mar bar\"], [\"blood sugar insulin level gluco\", \"code mean medtron mini med insulin pump\"], [\"blood sugar insulin level gluco\", \"maintain blood sugar level diabet problem\"], [\"blood sugar insulin level gluco\", \"often need check glucos level diagnos diabet\"], [\"blood sugar insulin level gluco\", \"long live without liver transplant\"], [\"blood sugar insulin level gluco\", \"amitriptylin affect blood sugar\"], [\"blood sugar insulin level gluco\", \"fast blood sugar level nineti nine consid suger\"], [\"blood sugar insulin level gluco\", \"low blood sugar level\"], [\"blood sugar insulin level gluco\", \"xylitol sugar\"], [\"blood sugar insulin level gluco\", \"mani insulin unit\"], [\"blood sugar insulin level gluco\", \"type diabet need insulin inject\"], [\"blood sugar insulin level gluco\", \"glucos fast nineti eight\"], [\"blood sugar insulin level gluco\", \"remov appendix draw blood blood test drug test also\"], [\"blood sugar insulin level gluco\", \"one hundr sixteen good blood sugar\"], [\"blood sugar insulin level gluco\", \"use diabet awar ribbon shirt without permiss diabet associ\"], [\"blood sugar insulin level gluco\", \"salt pool salt system increas blood pressur\"], [\"blood sugar insulin level gluco\", \"differ insulin diabet\"], [\"blood sugar insulin level gluco\", \"diabet blood test\"], [\"blood sugar insulin level gluco\", \"low mpv count\"], [\"blood sugar insulin level gluco\", \"fast blood sugar test\"], [\"blood sugar insulin level gluco\", \"normal rang glucos\"], [\"blood sugar insulin level gluco\", \"blood glucos number\"], [\"blood sugar insulin level gluco\", \"blood glucos meter requir blood\"], [\"blood sugar insulin level gluco\", \"diabet show drug test\"], [\"blood sugar insulin level gluco\", \"bodi system organ cell diabet affect\"], [\"blood sugar insulin level gluco\", \"normal blood glucos level human\"], [\"blood sugar insulin level gluco\", \"diabet color red tattoo\"], [\"blood sugar insulin level gluco\", \"inadin dress use patient levothyroxin\"], [\"blood sugar insulin level gluco\", \"advantag use genet engin insulin\"], [\"blood sugar insulin level gluco\", \"increas blood sugar level\"], [\"blood sugar insulin level gluco\", \"salt rais blood pressur\"], [\"blood sugar insulin level gluco\", \"someon pleas explain calcul\"], [\"blood sugar insulin level gluco\", \"sugar rais blood sugar\"], [\"blood sugar insulin level gluco\", \"insulin induc hypoglycemia mean\"], [\"blood sugar insulin level gluco\", \"synthet human insulin\"], [\"blood sugar insulin level gluco\", \"purpos american diabet associ\"], [\"blood sugar insulin level gluco\", \"blood sugar level diabet\"], [\"blood sugar insulin level gluco\", \"diabet emerg caus low sugar\"], [\"blood sugar insulin level gluco\", \"organ need insulin\"], [\"blood sugar insulin level gluco\", \"amount blood glucos level seen regular irregular\"], [\"blood sugar insulin level gluco\", \"insur compani start first insur scheme diabet patient\"], [\"blood sugar insulin level gluco\", \"diabet need monitor blood sugar level\"], [\"blood sugar insulin level gluco\", \"error code blood glucos aviva meter\"], [\"blood sugar insulin level gluco\", \"find blood sugar inform\"], [\"blood sugar insulin level gluco\", \"longest last action nph lent\"], [\"blood sugar insulin level gluco\", \"wine high sugar\"], [\"blood sugar insulin level gluco\", \"role insulin weight gain\"], [\"blood sugar insulin level gluco\", \"dextros insulin lower potassium\"], [\"blood sugar insulin level gluco\", \"need insulin blood sugar high stress\"], [\"blood sugar insulin level gluco\", \"insulin glucagon regul blood level\"], [\"blood sugar insulin level gluco\", \"sell diabet test strip legal\"], [\"blood sugar insulin level gluco\", \"main reason high glucos level\"], [\"blood sugar insulin level gluco\", \"chromosom number diabet type two\"], [\"blood sugar insulin level gluco\", \"glucagon produc\"], [\"blood sugar insulin level gluco\", \"nurs intervent dizzi\"], [\"blood sugar insulin level gluco\", \"cna shave diabet\"], [\"blood sugar insulin level gluco\", \"mani time need calibr glucomet week\"], [\"blood sugar insulin level gluco\", \"glucagon protein\"], [\"blood sugar insulin level gluco\", \"take blood glucos level two hour meal\"], [\"blood sugar insulin level gluco\", \"tell sugar remov blood\"], [\"blood sugar insulin level gluco\", \"use diabet lancet\"], [\"blood sugar insulin level gluco\", \"mani mg blood sugar lower one unit insulin\"], [\"blood sugar insulin level gluco\", \"involv diabet test\"], [\"blood sugar insulin level gluco\", \"one hundr twelv glucos high\"], [\"blood sugar insulin level gluco\", \"process make human insulin bacteria\"], [\"blood sugar insulin level gluco\", \"normal rang endogen insulin non diabet\"], [\"blood sugar insulin level gluco\", \"sign decreas bloo glucos level\"], [\"blood sugar insulin level gluco\", \"averag rang blood sugar level\"], [\"blood sugar insulin level gluco\", \"lack insulin caus high blood glucos level\"], [\"blood sugar insulin level gluco\", \"much apparatu blood sugar test\"], [\"blood sugar insulin level gluco\", \"hormon make blood glucos increas\"], [\"blood sugar insulin level gluco\", \"diabet test result glucos ac five point six glucos pc\"], [\"blood sugar insulin level gluco\", \"happen coma\"], [\"blood sugar insulin level gluco\", \"normal concentr blood sugar healthi person bodi\"], [\"blood sugar insulin level gluco\", \"type sugar blood sugar\"], [\"blood sugar insulin level gluco\", \"diabet scari\"], [\"blood sugar insulin level gluco\", \"normal rang someon blood sugar level\"], [\"blood sugar insulin level gluco\", \"insulin releas blood\"], [\"blood sugar insulin level gluco\", \"take drug screen diabet medicin show\"], [\"blood sugar insulin level gluco\", \"diabet take flu vaccin\"], [\"blood sugar insulin level gluco\", \"come shiatsu massag cushion recommend diabet\"], [\"blood sugar insulin level gluco\", \"fast blood sugar one hundr sixteen\"], [\"blood sugar insulin level gluco\", \"skin tingl\"], [\"blood sugar insulin level gluco\", \"nutrilit product women cancer take\"], [\"blood sugar insulin level gluco\", \"monitor diabet blood sugar level\"], [\"blood sugar insulin level gluco\", \"read review blood sugar test product\"], [\"blood sugar insulin level gluco\", \"drug make someon diabet\"], [\"blood sugar insulin level gluco\", \"blood level glucos amino acid insulin high glycogenesi occur liver bodi\"], [\"blood sugar insulin level gluco\", \"mani peopl diabet affect one hundr\"], [\"blood sugar insulin level gluco\", \"fast night normal blood sugar level morn\"], [\"blood sugar insulin level gluco\", \"one touch meter use\"], [\"blood sugar insulin level gluco\", \"medic need diabet\"], [\"blood sugar insulin level gluco\", \"make insulin bacteria\"], [\"blood sugar insulin level gluco\", \"papaya good fro diabet patient\"], [\"blood sugar insulin level gluco\", \"diabet help pass drug test faster\"], [\"blood sugar insulin level gluco\", \"normal human glucos level\"], [\"blood sugar insulin level gluco\", \"one hundr sixti blood sugar read eat right\"], [\"blood sugar insulin level gluco\", \"happen bodi littl insulin\"], [\"blood sugar insulin level gluco\", \"effect royal jelli diabet\"], [\"blood sugar insulin level gluco\", \"glucos startch relat\"], [\"blood sugar insulin level gluco\", \"differ insulin blood sugar\"], [\"blood sugar insulin level gluco\", \"happen blood acid\"], [\"blood sugar insulin level gluco\", \"effect alcohol diabet type two\"], [\"blood sugar insulin level gluco\", \"healthi level blood glucos fast\"], [\"blood sugar insulin level gluco\", \"condit abnorm low concentr glucos blood call\"], [\"blood sugar insulin level gluco\", \"condit low blood sugar level associ diabet call\"], [\"blood sugar insulin level gluco\", \"blood glucos level regul bodi\"], [\"blood sugar insulin level gluco\", \"blood sugar ach mean\"], [\"blood sugar insulin level gluco\", \"long fast glucos toler test\"], [\"blood sugar insulin level gluco\", \"get blood sugar rise diabet emerg\"], [\"blood sugar insulin level gluco\", \"whiskey safe diabet\"], [\"blood sugar insulin level gluco\", \"term best describ failur bodi cell resond insulin\"], [\"blood sugar insulin level gluco\", \"function ocular\"], [\"blood sugar insulin level gluco\", \"one buy test strip\"], [\"blood sugar insulin level gluco\", \"hypogycem\"], [\"blood sugar insulin level gluco\", \"test use diagnosi diabet mellitu\"], [\"blood sugar insulin level gluco\", \"much insulin take blood sugar two hundr forti one\"], [\"blood sugar insulin level gluco\", \"risk high blood sugar\"], [\"blood sugar insulin level gluco\", \"black coffe rais blood sugar\"], [\"blood sugar insulin level gluco\", \"diabet carri insulin flight\"], [\"blood sugar insulin level gluco\", \"canadian scientist insulin\"], [\"blood sugar insulin level gluco\", \"peopl type two diabet take insulin type one diabet\"], [\"blood sugar insulin level gluco\", \"onset menopaus caus fals posit diabet test\"], [\"blood sugar insulin level gluco\", \"person blood glucos level\"], [\"blood sugar insulin level gluco\", \"type diabt blood sugar high\"], [\"blood sugar insulin level gluco\", \"prdiabet\"], [\"blood sugar insulin level gluco\", \"organ produc insulin glucagon\"], [\"blood sugar insulin level gluco\", \"normal blood level\"], [\"blood sugar insulin level gluco\", \"normal blood sugar rang diabet meal\"], [\"blood sugar insulin level gluco\", \"find blood glucos level chart\"], [\"blood sugar insulin level gluco\", \"effect sucralos blood sugar\"], [\"blood sugar insulin level gluco\", \"normal blood glucos number diabet\"], [\"blood sugar insulin level gluco\", \"glucos drip given diabet patient\"], [\"blood sugar insulin level gluco\", \"eleven point one high diabet\"], [\"blood sugar insulin level gluco\", \"test diabet without go doctor buy test strip\"], [\"blood sugar insulin level gluco\", \"actrapid insulin short act insulin\"], [\"blood sugar insulin level gluco\", \"diabet person collaps low high blood sugar\"], [\"blood sugar insulin level gluco\", \"diabet bodi make use whatproperli\"], [\"blood sugar insulin level gluco\", \"gland control glucos blood level\"], [\"blood sugar insulin level gluco\", \"insulin chang world back\"], [\"blood sugar insulin level gluco\", \"process bodi function correctli patient diabet\"], [\"blood sugar insulin level gluco\", \"type insulin use treat diabet\"], [\"blood sugar insulin level gluco\", \"organ reli critic steadi suppli glucos\"], [\"blood sugar insulin level gluco\", \"insulin fold\"], [\"blood sugar insulin level gluco\", \"happen bood sugar level low\"], [\"blood sugar insulin level gluco\", \"cigarett smoke affect sugar level diabet person\"], [\"blood sugar insulin level gluco\", \"prognosi mild asymptomat insulin resist\"], [\"blood sugar insulin level gluco\", \"broccoli bad diabet\"], [\"blood sugar insulin level gluco\", \"role insulin bodi\"], [\"blood sugar insulin level gluco\", \"diabet emerg caus high blood sugar level\"], [\"blood sugar insulin level gluco\", \"draw nph insulin shake bottl gentli rotat bottl\"], [\"blood sugar insulin level gluco\", \"scientif word low blood sugar\"], [\"blood sugar insulin level gluco\", \"one hundr sixti high diabet\"], [\"blood sugar insulin level gluco\", \"head hurt blood sugar high\"], [\"blood sugar insulin level gluco\", \"black coffe affect glucos blood test\"], [\"blood sugar insulin level gluco\", \"insulin pump cover high glucos level right\"], [\"blood sugar insulin level gluco\", \"diabet needl\"], [\"blood sugar insulin level gluco\", \"fake diabet test\"], [\"blood sugar insulin level gluco\", \"function peduncl\"], [\"blood sugar insulin level gluco\", \"insulin blood\"], [\"blood sugar insulin level gluco\", \"compar insulin unit microgram\"], [\"blood sugar insulin level gluco\", \"averag level blood sugar\"], [\"blood sugar insulin level gluco\", \"normal blood surgar\"], [\"blood sugar insulin level gluco\", \"coffe affect blood sugar level\"], [\"blood sugar insulin level gluco\", \"diagnos diabet one high glucos read\"], [\"blood sugar insulin level gluco\", \"blood sugar chart look\"], [\"blood sugar insulin level gluco\", \"human insulin gene transfer bacterium make insulin\"], [\"blood sugar insulin level gluco\", \"organ releas glucos help maintain normal blood glucos level meal\"], [\"blood sugar insulin level gluco\", \"normal rang blood glucos teenag person\"], [\"blood sugar insulin level gluco\", \"beta blocker caus hypoglycemia\"], [\"blood sugar insulin level gluco\", \"counter insulin good prescript insulin\"], [\"blood sugar insulin level gluco\", \"daughter eye brain go anoth place afew second could low high blood sugar\"], [\"blood sugar insulin level gluco\", \"descript fast blood sugar\"], [\"blood sugar insulin level gluco\", \"sugar found human blood\"], [\"blood sugar insulin level gluco\", \"approxim insulin\"], [\"blood sugar insulin level gluco\", \"diabet eat liver\"], [\"blood sugar insulin level gluco\", \"normal blood glucos level\"], [\"blood sugar insulin level gluco\", \"live react high level glucos blood convert glucos\"], [\"blood sugar insulin level gluco\", \"give inject diabet\"], [\"blood sugar insulin level gluco\", \"sugar level normal someon diabet\"], [\"blood sugar insulin level gluco\", \"sugar normal rang\"], [\"blood sugar insulin level gluco\", \"could caus headach dizzi feel surg electr run brain\"], [\"blood sugar insulin level gluco\", \"took insluin diabet\"], [\"blood sugar insulin level gluco\", \"diabet take royal jelli\"], [\"blood sugar insulin level gluco\", \"get insulin\"], [\"blood sugar insulin level gluco\", \"hormon continu make adjust blood glucos level\"]], \"hovertemplate\": \"summary=%{customdata[0]}<br>pc_1=%{x}<br>pc_2=%{y}<br>pc_3=%{z}<br>sentence=%{customdata[1]}<extra></extra>\", \"legendgroup\": \"blood sugar insulin level gluco\", \"marker\": {\"color\": \"#636efa\", \"size\": 5, \"symbol\": \"circle\"}, \"mode\": \"markers\", \"name\": \"blood sugar insulin level gluco\", \"scene\": \"scene\", \"showlegend\": true, \"type\": \"scatter3d\", \"x\": [9.753113746643066, -1.8810150623321533, 0.748877227306366, 5.527822971343994, 14.907137870788574, 9.567161560058594, 0.4323987662792206, 0.16784986853599548, -0.09557054191827774, 5.474009990692139, -1.0589922666549683, -1.4200279712677002, 11.384490013122559, 12.077920913696289, -0.0058592213317751884, 11.252935409545898, 12.47994613647461, 1.529688835144043, 5.157133102416992, 10.143197059631348, 11.97050952911377, 0.9319553375244141, 6.852715969085693, 4.673774719238281, 1.30556321144104, 1.496047854423523, 9.479201316833496, 14.979268074035645, 10.343501091003418, 0.8452102541923523, 14.009906768798828, -2.0341074466705322, 10.023648262023926, -0.8253156542778015, -1.3635307550430298, -0.8500455021858215, 1.8961683511734009, 13.544031143188477, 14.909771919250488, -0.6793456077575684, 0.9890731573104858, 0.658035933971405, 12.95409870147705, 7.190405368804932, -1.4761850833892822, 11.469210624694824, 9.427002906799316, -0.27293941378593445, 11.793354988098145, -0.8192778825759888, 6.071936130523682, 11.503632545471191, 3.639880418777466, -0.8101127743721008, 12.749236106872559, 0.8632465600967407, 12.217249870300293, 6.524291038513184, 13.17984390258789, 9.050411224365234, 8.621391296386719, -0.8382833003997803, 5.838968753814697, 9.79249382019043, 11.818233489990234, 12.321754455566406, 9.260357856750488, 11.340361595153809, 7.456306457519531, 12.945894241333008, 5.11193323135376, 8.782169342041016, -1.1124073266983032, 8.847290992736816, -1.3639805316925049, 14.39562702178955, 8.86877155303955, 9.080193519592285, 8.852834701538086, 5.474004745483398, 9.516934394836426, 16.56022834777832, -1.4053280353546143, 1.961960792541504, 15.213376998901367, 15.680233001708984, 14.322783470153809, -0.5674260854721069, 3.1461455821990967, 1.733608603477478, 1.1882203817367554, 15.243040084838867, 10.065794944763184, 15.47340202331543, 13.19168472290039, 13.894004821777344, 4.12763786315918, -0.40964654088020325, -2.126887083053589, 14.042623519897461, 16.92489242553711, 13.665326118469238, 7.848748207092285, 7.9882707595825195, -1.6997690200805664, 3.9727470874786377, 7.092307090759277, 16.059907913208008, 16.763872146606445, 11.980567932128906, 13.169724464416504, 14.851458549499512, 0.6949278712272644, 15.181721687316895, 9.309012413024902, 5.9566144943237305, 0.13767562806606293, 10.746095657348633, 9.402386665344238, 7.0446038246154785, 9.253765106201172, 1.855298399925232, -0.6060175895690918, 1.916590690612793, 7.855474472045898, 3.9355430603027344, -0.41131576895713806, 9.235208511352539, 7.600003719329834, 9.605568885803223, 16.97724723815918, 8.97653865814209, 4.910958766937256, 8.838698387145996, -0.8181264400482178, 0.10393655300140381, 1.5143444538116455, 0.8508173823356628, 13.853179931640625, 13.516182899475098, -0.851822018623352, 7.39441442489624, 8.464865684509277, 4.3734612464904785, 0.5745747685432434, 7.725523948669434, 12.759138107299805, 7.212172985076904, 4.821120262145996, 1.5515034198760986, 9.255824089050293, 15.412647247314453, 0.7329971790313721, -0.1732233613729477, 1.041575312614441, 16.882892608642578, -1.0152688026428223, 9.521759033203125, 10.584189414978027, 11.194647789001465, 4.382376194000244, 12.111550331115723, 2.367217779159546, 1.4800437688827515, 16.876968383789062, -0.5796501040458679, 15.147040367126465, 0.6153596043586731, 3.324758529663086, 16.086212158203125, 2.160762071609497, 4.023031234741211, 5.298916816711426, 13.254568099975586, 10.177680969238281, -0.11542531847953796, 0.5095512866973877, 16.31378746032715, 15.662763595581055, 1.3709772825241089, 0.7471908330917358, 4.501143932342529, 14.908890724182129, 16.351764678955078, 11.634903907775879, -1.178060531616211, 2.79099178314209, 8.464685440063477, 1.6509836912155151, 1.9990707635879517, -0.13968181610107422, 13.820413589477539, 9.813971519470215, 7.117633819580078, 10.796046257019043, 8.973875045776367, 10.62692642211914, 10.699597358703613, 4.267867088317871, -1.4644845724105835, 6.1926350593566895, 13.277129173278809, 5.979697227478027, 9.690620422363281, 0.8814879059791565, 2.0696847438812256, 13.527901649475098, -1.6495119333267212, -0.7312815189361572, -1.634833574295044, 6.163300037384033, 12.068567276000977, -0.47793149948120117, 1.7570230960845947, -0.0592518113553524, 14.69896125793457, 9.377408027648926, 14.076831817626953, 14.653763771057129, 11.37723445892334, 8.16324520111084, 6.1865153312683105, 12.366326332092285, -0.8338366150856018, 7.6560468673706055, 0.6267492175102234, 15.76976203918457, -1.2595146894454956, 4.72836446762085, -2.0057973861694336, 8.696657180786133, -0.9126132130622864, 4.958831310272217, 5.993370056152344, -2.2283928394317627, 4.113840579986572, -0.2994691729545593, 0.8194863796234131, -1.2850821018218994, 14.541292190551758, 5.9883880615234375, 2.3338370323181152, 16.4732608795166, 1.6811238527297974, 1.3509749174118042, 10.195415496826172, 7.202451705932617, 1.0947941541671753, -0.04269193857908249, 15.863358497619629, 12.451923370361328, 11.48411750793457, 11.909409523010254, 10.772911071777344, -1.1517771482467651, 16.578617095947266, 16.356733322143555, 13.76528549194336, -0.5040947198867798, 1.8626458644866943, 14.454675674438477, 9.937148094177246, -1.839694857597351, 4.896535396575928, 15.021259307861328, 14.388179779052734, 5.428979396820068, 8.629469871520996, 14.130829811096191, 11.989033699035645, 4.489311695098877, 3.864938974380493, -1.420027256011963, 10.885099411010742], \"y\": [7.139950752258301, 1.8522173166275024, 6.036719799041748, 7.6451311111450195, 4.021996974945068, 7.355744361877441, 1.2190568447113037, 1.2318729162216187, 1.253035068511963, 7.5739030838012695, 1.4382458925247192, 2.3942995071411133, 5.851414203643799, 3.422473669052124, 1.6782658100128174, 6.386274814605713, 5.831287860870361, 7.490927696228027, 7.599648475646973, 6.055084705352783, 7.448703765869141, 1.4651364088058472, 7.206474781036377, 7.65032958984375, 7.541086196899414, 1.6517995595932007, 5.191971302032471, 3.1848411560058594, 6.5209431648254395, 5.913737773895264, 1.6560133695602417, 1.2247169017791748, 7.184022426605225, 3.4528005123138428, 2.335674524307251, 1.1093851327896118, 7.502674102783203, 5.249015808105469, 4.80588960647583, 0.37923017144203186, 4.8065876960754395, 1.327104091644287, 2.456998586654663, 6.742536544799805, 0.8852794170379639, 4.432558059692383, 1.7361209392547607, 1.038208246231079, 3.8360323905944824, 1.188730239868164, 7.756795406341553, 6.394067287445068, 7.328219413757324, 1.1990537643432617, 2.588927745819092, 6.330588340759277, 4.609099388122559, 5.566693305969238, 4.530777454376221, 7.37725305557251, 3.162198543548584, 1.3176555633544922, 6.763848781585693, 6.62007474899292, 3.5750203132629395, 4.939960479736328, 5.617884635925293, 6.056519031524658, 6.438324928283691, 2.139620780944824, 7.378722190856934, 1.4839342832565308, 1.0253074169158936, 4.416265964508057, 1.7136175632476807, 2.2100751399993896, 4.268141746520996, 1.6505827903747559, 5.337863922119141, 7.573902606964111, 4.7949113845825195, 2.708606481552124, 1.5312025547027588, 1.602628469467163, 4.392936706542969, 4.401356220245361, 3.39957857131958, 1.4013952016830444, 7.222790241241455, 1.774680256843567, 7.591360569000244, 4.314855098724365, 4.649264335632324, 3.4132473468780518, 2.469627857208252, 4.656280517578125, 6.4268412590026855, 1.4808398485183716, 1.2665294408798218, 4.530678749084473, 2.9075024127960205, 4.7921671867370605, 5.958767890930176, 6.216128349304199, 1.2105324268341064, 6.501039505004883, 6.901997089385986, 3.536663770675659, 2.794891357421875, 6.267467498779297, 5.40415620803833, 5.143873691558838, 5.44326639175415, 2.6887731552124023, 7.10936164855957, 7.225412368774414, 1.2645466327667236, 3.762261390686035, 4.813239097595215, 7.657050609588623, 1.7361623048782349, 1.6148107051849365, 1.5499542951583862, 5.147302627563477, 7.124205112457275, 7.359933376312256, 1.2038180828094482, 2.2565693855285645, 5.983383655548096, 5.581264019012451, 2.4376206398010254, 1.5884300470352173, 7.453408718109131, 3.111239433288574, 1.1007872819900513, 1.5379960536956787, 1.620498538017273, 1.6496964693069458, 3.1139023303985596, 5.207759857177734, 3.388554334640503, 7.986403465270996, 7.5709052085876465, 7.513908386230469, 6.7837748527526855, 7.764245510101318, 3.382028818130493, 6.452496528625488, 6.500912666320801, 1.617401123046875, 5.034157752990723, 4.4922285079956055, 1.408808708190918, 2.040191411972046, 7.909405708312988, 2.3830668926239014, 3.0270917415618896, 4.7415242195129395, 7.896803379058838, 7.030451774597168, 7.620676040649414, 6.374054431915283, 2.4500460624694824, 5.168635845184326, 2.6462035179138184, 2.0510969161987305, 4.960219383239746, 4.886692523956299, 5.913483619689941, 3.814384937286377, 5.811148643493652, 5.6402788162231445, 6.4572834968566895, 3.7718493938446045, 5.904723167419434, 2.4407293796539307, 6.284154415130615, 3.080629348754883, 4.41950798034668, 4.7405548095703125, 1.4132623672485352, 6.5181660652160645, 1.9792053699493408, 3.112076997756958, 2.639066696166992, 2.267266273498535, 6.466271877288818, 7.380151748657227, 1.6193748712539673, 7.322539806365967, 3.8143956661224365, 2.4800069332122803, 5.500039577484131, 6.480193138122559, 7.594816207885742, 4.976711750030518, 4.434484481811523, 5.556194305419922, 6.752751350402832, 1.5108891725540161, 7.674997806549072, 3.2705531120300293, 7.700140476226807, 5.486021041870117, 1.5417625904083252, 5.779534339904785, 2.253284215927124, 1.4141159057617188, 0.6874275803565979, 0.7870967388153076, 5.989035129547119, 5.404188632965088, 3.606119155883789, 5.525320053100586, 1.1878571510314941, 2.589017868041992, 1.8362892866134644, 1.775541067123413, 4.576181888580322, 5.405325412750244, 5.5782389640808105, 6.63249397277832, 3.05043625831604, 1.8461850881576538, 7.487719535827637, 4.849195957183838, 4.583198070526123, 1.5592042207717896, 7.955376625061035, 0.7635955810546875, 3.073423147201538, 1.3326281309127808, 7.443802356719971, 6.098082065582275, 1.691612720489502, 7.335051536560059, 1.076892375946045, 7.060229301452637, 1.392899751663208, 4.150459289550781, 6.661759376525879, 7.283688545227051, 2.811647891998291, 1.9253885746002197, 5.043176174163818, 5.77966833114624, 7.568933010101318, 1.6002970933914185, 0.968082070350647, 3.4239752292633057, 4.338909149169922, 2.2097811698913574, 6.40919303894043, 5.724625587463379, 2.4830148220062256, 3.2897114753723145, 2.007200002670288, 1.9551995992660522, 0.9791909456253052, 7.636634349822998, 4.457586288452148, 3.5346884727478027, 1.7187912464141846, 6.4149861335754395, 2.8594653606414795, 2.6461539268493652, 8.141834259033203, 5.005216121673584, 2.003643274307251, 5.991567134857178, 7.459291458129883, 7.022577285766602, 2.394299268722534, 7.733474254608154], \"z\": [-9.821986198425293, -8.581866264343262, -7.751824855804443, -8.676362037658691, -9.067350387573242, -9.883650779724121, -14.296485900878906, -14.019309997558594, -13.835718154907227, -7.656593322753906, -10.918310165405273, -9.171667098999023, -9.448805809020996, -7.317522048950195, -13.871953010559082, -9.816929817199707, -9.72716999053955, -8.557583808898926, -7.401253700256348, -9.204621315002441, -10.771821975708008, -14.996509552001953, -8.52137279510498, -8.396769523620605, -8.43224048614502, -15.647161483764648, -8.05812931060791, -8.38371467590332, -9.61366081237793, -7.484530448913574, -6.751660346984863, -8.132152557373047, -9.985525131225586, -7.584771633148193, -9.434969902038574, -12.397486686706543, -8.728178977966309, -9.59997272491455, -9.79747200012207, -12.69796085357666, -7.17394495010376, -14.600398063659668, -6.857494354248047, -8.211334228515625, -9.653371810913086, -7.981307029724121, -5.731340408325195, -12.674466133117676, -7.547539234161377, -12.4841890335083, -8.664063453674316, -9.91219711303711, -8.551527976989746, -12.503410339355469, -6.928330898284912, -7.735121250152588, -8.452656745910645, -5.737922191619873, -8.767682075500488, -9.70054817199707, -7.3445048332214355, -11.760086059570312, -6.754032135009766, -9.482117652893066, -7.3629021644592285, -8.817933082580566, -8.76616382598877, -9.600984573364258, -7.979889869689941, -6.830782890319824, -9.255566596984863, -5.489502906799316, -10.862405776977539, -7.195696830749512, -9.975791931152344, -7.291240215301514, -7.320724010467529, -5.628731727600098, -8.168169975280762, -7.6565961837768555, -7.1195387840271, -8.75460433959961, -9.892985343933105, -16.546146392822266, -9.555815696716309, -9.796095848083496, -8.26648235321045, -12.99459457397461, -8.488371849060059, -15.742791175842285, -8.538755416870117, -9.475515365600586, -7.5344462394714355, -8.814164161682129, -6.962133407592773, -9.188325881958008, -6.154758930206299, -12.527027130126953, -8.062586784362793, -9.130764961242676, -9.1220121383667, -9.214177131652832, -7.849707126617432, -8.425861358642578, -9.40908432006836, -6.461301803588867, -8.222235679626465, -9.210041999816895, -8.931303977966309, -9.937599182128906, -9.600118637084961, -10.087814331054688, -8.017722129821777, -8.066555976867676, -9.63422966003418, -7.482410430908203, -13.615986824035645, -7.1195878982543945, -7.294308662414551, -8.929027557373047, -5.706223964691162, -16.34099006652832, -12.403802871704102, -6.594415664672852, -8.98857593536377, -7.837578773498535, -13.293015480041504, -5.996082305908203, -7.604862213134766, -8.55500602722168, -8.752963066101074, -5.575868606567383, -7.568805694580078, -7.013207912445068, -11.765713691711426, -14.001696586608887, -15.762803077697754, -14.929666519165039, -7.811186790466309, -9.552490234375, -8.10605239868164, -9.345468521118164, -9.585551261901855, -8.2399320602417, -7.848324775695801, -9.361042976379395, -7.5709404945373535, -9.855531692504883, -6.012244701385498, -15.833063125610352, -7.676200866699219, -9.747970581054688, -14.86145305633545, -13.692230224609375, -8.737898826599121, -8.65475845336914, -9.322444915771484, -7.683632850646973, -10.635826110839844, -10.244525909423828, -8.5848388671875, -10.05188274383545, -15.12700366973877, -7.495381832122803, -8.87291431427002, -12.408538818359375, -10.05063247680664, -7.319449424743652, -6.200486660003662, -9.47380542755127, -7.74216365814209, -5.532902717590332, -6.014910697937012, -8.119593620300293, -9.04806137084961, -13.850829124450684, -7.5530571937561035, -8.935976028442383, -9.808146476745605, -6.442985534667969, -14.810751914978027, -6.1927361488342285, -7.374228477478027, -8.986481666564941, -6.685632705688477, -9.983451843261719, -7.995242595672607, -9.479726791381836, -15.999147415161133, -8.643243789672852, -8.961639404296875, -7.267548084259033, -10.445255279541016, -10.045411109924316, -10.489251136779785, -7.246633529663086, -7.5846991539001465, -8.9159574508667, -6.387002944946289, -9.734556198120117, -8.719996452331543, -7.694686412811279, -8.495871543884277, -10.486281394958496, -14.716971397399902, -6.630478382110596, -6.968567848205566, -9.599287033081055, -11.551763534545898, -8.543646812438965, -5.995471954345703, -9.19543743133545, -8.727238655090332, -7.460968971252441, -13.829215049743652, -7.755856513977051, -5.78048038482666, -6.846531867980957, -9.455245971679688, -9.006399154663086, -7.594244480133057, -8.382476806640625, -7.15284538269043, -11.544904708862305, -9.159073829650879, -8.091954231262207, -10.0140380859375, -10.237471580505371, -7.6801629066467285, -9.369284629821777, -7.270517349243164, -11.53648567199707, -9.043404579162598, -6.04188871383667, -7.844106674194336, -8.014177322387695, -12.944832801818848, -8.111513137817383, -9.955802917480469, -9.019614219665527, -8.466238975524902, -8.61241340637207, -8.78612232208252, -15.243907928466797, -7.526579856872559, -8.957456588745117, -8.96040153503418, -15.17454719543457, -13.402053833007812, -9.012455940246582, -8.29107666015625, -6.398519039154053, -10.026274681091309, -9.098849296569824, -9.745980262756348, -9.26770305633545, -8.089637756347656, -6.839771747589111, -12.23277473449707, -8.796525001525879, -9.250741958618164, -6.52078104019165, -8.775009155273438, -6.0001678466796875, -8.130502700805664, -7.659557819366455, -8.118268013000488, -7.412569999694824, -7.042398452758789, -9.738686561584473, -8.097405433654785, -7.058430194854736, -9.17166805267334, -10.616072654724121]}, {\"customdata\": [[\"sugar blood type insulin eat\", \"eat lot consid type behavior\"], [\"sugar blood type insulin eat\", \"sugar level fluctuat wide\"], [\"sugar blood type insulin eat\", \"one treat diabet mellitu\"], [\"sugar blood type insulin eat\", \"eat blood sugar sixti eight rang\"], [\"sugar blood type insulin eat\", \"bring blood sugar instantli somethig home\"], [\"sugar blood type insulin eat\", \"orang make blood sugar level rais\"], [\"sugar blood type insulin eat\", \"diabet treat\"], [\"sugar blood type insulin eat\", \"advanc technolog help type one diabet\"], [\"sugar blood type insulin eat\", \"diabet eat prawn\"], [\"sugar blood type insulin eat\", \"kid diabet\"], [\"sugar blood type insulin eat\", \"need shot type two diabet\"], [\"sugar blood type insulin eat\", \"could low high blood sugar make tire immedi eat\"], [\"sugar blood type insulin eat\", \"often go doctor diabet\"], [\"sugar blood type insulin eat\", \"sugar mainli serv bodi\"], [\"sugar blood type insulin eat\", \"medicin type one diabet\"], [\"sugar blood type insulin eat\", \"one properli manag diabet symptom\"], [\"sugar blood type insulin eat\", \"develop first effect treatment diabet\"], [\"sugar blood type insulin eat\", \"diabet get fatigu\"], [\"sugar blood type insulin eat\", \"troubl rememb thing\"], [\"sugar blood type insulin eat\", \"control blood sugar\"], [\"sugar blood type insulin eat\", \"use pedomet benefit peopl high risk type two diabet\"], [\"sugar blood type insulin eat\", \"item diabet person eat\"], [\"sugar blood type insulin eat\", \"hyperosmolar syndrom\"], [\"sugar blood type insulin eat\", \"insulin right treatment diabet\"], [\"sugar blood type insulin eat\", \"diabet drink liquor\"], [\"sugar blood type insulin eat\", \"diabet peopl carrot\"], [\"sugar blood type insulin eat\", \"iv fluid need diabet patient\"], [\"sugar blood type insulin eat\", \"diabet patient minor ill cold flu\"], [\"sugar blood type insulin eat\", \"posit result benedict test\"], [\"sugar blood type insulin eat\", \"god diabet\"], [\"sugar blood type insulin eat\", \"girl normal weight stay activ type two diabet blood sugar level anywher thirti five hundr eighteen eat healthi sinc diagnosi octob\"], [\"sugar blood type insulin eat\", \"much sugar blood bad\"], [\"sugar blood type insulin eat\", \"food best choic treat patient experiec hypoglycem low blood sugar reaction\"], [\"sugar blood type insulin eat\", \"metformin work\"], [\"sugar blood type insulin eat\", \"buy diabet\"], [\"sugar blood type insulin eat\", \"medic issu diabet special need\"], [\"sugar blood type insulin eat\", \"one hour eat diabet\"], [\"sugar blood type insulin eat\", \"diabet one\"], [\"sugar blood type insulin eat\", \"glucos administ intraven patient diabet mellitu patient probabl develop\"], [\"sugar blood type insulin eat\", \"caus genit anal burn diabet\"], [\"sugar blood type insulin eat\", \"best type insulin syring treatment diabet\"], [\"sugar blood type insulin eat\", \"blood sugar rise high breakfast\"], [\"sugar blood type insulin eat\", \"type doctor treat diabet\"], [\"sugar blood type insulin eat\", \"caus hyperglycemia\"], [\"sugar blood type insulin eat\", \"type two diabet known insulin depend diabet\"], [\"sugar blood type insulin eat\", \"diseas make difficult person regul blood sugar\"], [\"sugar blood type insulin eat\", \"develop diabet eat much sugar\"], [\"sugar blood type insulin eat\", \"hospit diabet\"], [\"sugar blood type insulin eat\", \"joke diabet\"], [\"sugar blood type insulin eat\", \"diabet drink replenish electrolyt\"], [\"sugar blood type insulin eat\", \"get four hundr hp six thousand five hundr rpm four bbl carb chevrolet three hundr five\"], [\"sugar blood type insulin eat\", \"type two diabet take penicillin\"], [\"sugar blood type insulin eat\", \"indocologist\"], [\"sugar blood type insulin eat\", \"check diabet\"], [\"sugar blood type insulin eat\", \"gland associ diabet\"], [\"sugar blood type insulin eat\", \"diabet eat stawberri\"], [\"sugar blood type insulin eat\", \"follow best describ effect meal rise blood glucos occur meal\"], [\"sugar blood type insulin eat\", \"hypertens diabet patient typhoid vaccin\"], [\"sugar blood type insulin eat\", \"describ insulin help bodi maintain intern balanc\"], [\"sugar blood type insulin eat\", \"get tattoo diabet\"], [\"sugar blood type insulin eat\", \"insulin oral administ diabet peopl\"], [\"sugar blood type insulin eat\", \"much sugar man need daili\"], [\"sugar blood type insulin eat\", \"us take insulin period avoid diabet\"], [\"sugar blood type insulin eat\", \"actual diabet last three year feel durat sex time short pleas advis increas time\"], [\"sugar blood type insulin eat\", \"someon diabet oper commerci motor vehicl texa\"], [\"sugar blood type insulin eat\", \"cant sleep arm ach\"], [\"sugar blood type insulin eat\", \"help diabet cold feel feet\"], [\"sugar blood type insulin eat\", \"eat banana gestat diabet\"], [\"sugar blood type insulin eat\", \"\"], [\"sugar blood type insulin eat\", \"get type two diabet plan\"], [\"sugar blood type insulin eat\", \"diabet take theraflu\"], [\"sugar blood type insulin eat\", \"manag high blood sugar\"], [\"sugar blood type insulin eat\", \"term occur much insulin taken\"], [\"sugar blood type insulin eat\", \"diabeet\"], [\"sugar blood type insulin eat\", \"take chanc diabet equip\"], [\"sugar blood type insulin eat\", \"diabet coffe\"], [\"sugar blood type insulin eat\", \"carbohydr process diabet non diabet person\"], [\"sugar blood type insulin eat\", \"smoke diabet\"], [\"sugar blood type insulin eat\", \"cat die diabet\"], [\"sugar blood type insulin eat\", \"eat sugar type one diabeti\"], [\"sugar blood type insulin eat\", \"diabet type one type two\"], [\"sugar blood type insulin eat\", \"relationship diabet bhramari\"], [\"sugar blood type insulin eat\", \"treat hypertens diabet\"], [\"sugar blood type insulin eat\", \"way avoid diabet obes\"], [\"sugar blood type insulin eat\", \"date harm diabet\"], [\"sugar blood type insulin eat\", \"type wine avoid diabet\"], [\"sugar blood type insulin eat\", \"true sixti nine percent world popul includ anim diabet\"], [\"sugar blood type insulin eat\", \"chemic substanc diabet produc\"], [\"sugar blood type insulin eat\", \"get eat lot sugar food\"], [\"sugar blood type insulin eat\", \"use help diabet\"], [\"sugar blood type insulin eat\", \"amount sucros diet affect concentr glucos blood\"], [\"sugar blood type insulin eat\", \"diabet patient reluct learn give insulin inject first thing medic\"], [\"sugar blood type insulin eat\", \"bodi control diabet\"], [\"sugar blood type insulin eat\", \"type two diabet cure proper diet\"], [\"sugar blood type insulin eat\", \"tomato bad diabet\"], [\"sugar blood type insulin eat\", \"diabet resourc internet\"], [\"sugar blood type insulin eat\", \"smoke affect someon type two diabet\"], [\"sugar blood type insulin eat\", \"diabet affect homeostasi\"], [\"sugar blood type insulin eat\", \"accid gave dog much insulin\"], [\"sugar blood type insulin eat\", \"go get inform stomach bypass diabet\"], [\"sugar blood type insulin eat\", \"home remedi blood sugar patient\"], [\"sugar blood type insulin eat\", \"food bought poor rich person caus diabet\"], [\"sugar blood type insulin eat\", \"get gestat diabet test\"], [\"sugar blood type insulin eat\", \"type ii diabet produc insulin\"], [\"sugar blood type insulin eat\", \"good thesi statement diabet peopl live\"], [\"sugar blood type insulin eat\", \"differ complic type two diabet\"], [\"sugar blood type insulin eat\", \"exercis lower blood sugar\"], [\"sugar blood type insulin eat\", \"diabet seriou diseas\"], [\"sugar blood type insulin eat\", \"peopl diabet experi low energi level\"], [\"sugar blood type insulin eat\", \"better insulin pump anima medtron\"], [\"sugar blood type insulin eat\", \"anyon type one diabet\"], [\"sugar blood type insulin eat\", \"true fals type two diabet may reflect declin receptor sensit insulin rather decreas insulin product\"], [\"sugar blood type insulin eat\", \"malfunct organ bodi caus diabet\"], [\"sugar blood type insulin eat\", \"accident gave dog much insulin\"], [\"sugar blood type insulin eat\", \"someon wear diabet medic id diabet emerg unclear whether person problem high low blood sugar\"], [\"sugar blood type insulin eat\", \"lead caus diabet america prevent get\"], [\"sugar blood type insulin eat\", \"hyponidd\"], [\"sugar blood type insulin eat\", \"diabet mean high blood sugar\"], [\"sugar blood type insulin eat\", \"diabet suffer frequent hypo low blood sugar requir emerg aid doctor prescrib metformin lower insulin sinc metformin lower blood sugar level\"], [\"sugar blood type insulin eat\", \"sugar natur antifreez peopl cold climat appear prone diseas involv blood sugar\"], [\"sugar blood type insulin eat\", \"ogct\"], [\"sugar blood type insulin eat\", \"stephdaught age nine four risk juvenil diabet sinc youngest sleep lot rare activ diet limit fatti high carb fri food\"], [\"sugar blood type insulin eat\", \"diabet affect bodi abil make insulin\"], [\"sugar blood type insulin eat\", \"could dog die diabet\"], [\"sugar blood type insulin eat\", \"get help diabet\"], [\"sugar blood type insulin eat\", \"eat raw sugar sign ill\"], [\"sugar blood type insulin eat\", \"sugar coma\"], [\"sugar blood type insulin eat\", \"best insulin diabit\"], [\"sugar blood type insulin eat\", \"kid love sugar\"], [\"sugar blood type insulin eat\", \"go find latest diabet treatment\"], [\"sugar blood type insulin eat\", \"could two human differ dna sequenc insulin yet still make exact insulin protein\"], [\"sugar blood type insulin eat\", \"diabet eat granola\"], [\"sugar blood type insulin eat\", \"food caus diabet\"], [\"sugar blood type insulin eat\", \"happen diabet stop take insulin\"], [\"sugar blood type insulin eat\", \"peopl type one diabet control blood pressur\"], [\"sugar blood type insulin eat\", \"diabet form anim\"], [\"sugar blood type insulin eat\", \"relat diabet blood sugar\"], [\"sugar blood type insulin eat\", \"found diabet\"], [\"sugar blood type insulin eat\", \"fish diabet\"], [\"sugar blood type insulin eat\", \"much sugar bodi\"], [\"sugar blood type insulin eat\", \"die diabet\"], [\"sugar blood type insulin eat\", \"mani peopl diabet unit state\"], [\"sugar blood type insulin eat\", \"effect diabet human bodi\"], [\"sugar blood type insulin eat\", \"contribut type two diabet\"], [\"sugar blood type insulin eat\", \"inject diabet shot mistak would diabet\"], [\"sugar blood type insulin eat\", \"get diabet eat sugar\"], [\"sugar blood type insulin eat\", \"check diabet cbc\"], [\"sugar blood type insulin eat\", \"five fact diabet\"], [\"sugar blood type insulin eat\", \"patient type diabet treat\"], [\"sugar blood type insulin eat\", \"lot sugar\"], [\"sugar blood type insulin eat\", \"raisin good diabet\"], [\"sugar blood type insulin eat\", \"gin tonic affect blood sugar level\"], [\"sugar blood type insulin eat\", \"diabet take paracetamol\"], [\"sugar blood type insulin eat\", \"patholog diabet type two\"], [\"sugar blood type insulin eat\", \"optim blood glucos control reduc risk coronari heart diseas patient type one diabet\"], [\"sugar blood type insulin eat\", \"eat sugar free jello blood test\"], [\"sugar blood type insulin eat\", \"diabet cappuccino\"], [\"sugar blood type insulin eat\", \"effect medicin treat diabet\"], [\"sugar blood type insulin eat\", \"qualif need diabet nurs\"], [\"sugar blood type insulin eat\", \"gellium barea\"], [\"sugar blood type insulin eat\", \"long diabet around\"], [\"sugar blood type insulin eat\", \"diabet make sick\"], [\"sugar blood type insulin eat\", \"exercis wheight loss help lower blood sugar level diabet patient\"], [\"sugar blood type insulin eat\", \"import factor insid diabet guidelin\"], [\"sugar blood type insulin eat\", \"treat patient give much insulin\"], [\"sugar blood type insulin eat\", \"diabet mellitu blood glucos level high glucos appear urin due properti carrier protein along kidney tubul name\"], [\"sugar blood type insulin eat\", \"inject insulin essenti part daili regim peopl diabet\"]], \"hovertemplate\": \"summary=%{customdata[0]}<br>pc_1=%{x}<br>pc_2=%{y}<br>pc_3=%{z}<br>sentence=%{customdata[1]}<extra></extra>\", \"legendgroup\": \"sugar blood type insulin eat\", \"marker\": {\"color\": \"#EF553B\", \"size\": 5, \"symbol\": \"circle\"}, \"mode\": \"markers\", \"name\": \"sugar blood type insulin eat\", \"scene\": \"scene\", \"showlegend\": true, \"type\": \"scatter3d\", \"x\": [-6.087392807006836, 4.0664544105529785, -1.5216422080993652, 7.742751121520996, 6.621381759643555, 7.97710657119751, 3.3132598400115967, -1.3338295221328735, -4.752803802490234, -4.275656700134277, -4.206722259521484, 3.7161006927490234, 1.7611968517303467, 4.624415397644043, -0.5502675175666809, -4.896762371063232, 3.5691678524017334, -2.4747321605682373, -3.1455399990081787, 7.133282661437988, -3.6920487880706787, 3.1639246940612793, -3.3016064167022705, 2.031825304031372, 5.203838348388672, -3.746462106704712, 0.11028259992599487, -4.308928966522217, -0.5613304376602173, 3.2170159816741943, -3.6988115310668945, 3.109623432159424, 6.6463751792907715, -0.6763831377029419, -1.4089678525924683, -2.862046241760254, 5.903531074523926, -3.6840779781341553, -0.2337752729654312, -2.545227527618408, 0.12954869866371155, 7.661674499511719, 0.08218202739953995, -2.0000362396240234, -5.614202499389648, -2.4661052227020264, -5.269214153289795, 2.8434791564941406, -6.1684489250183105, 4.691709041595459, 5.870569229125977, -2.5031936168670654, 3.39139723777771, 5.309515476226807, 0.16282814741134644, -4.699336528778076, 6.573986530303955, -0.4617377519607544, 4.7300496101379395, -5.397911548614502, -2.5655040740966797, 3.255983352661133, -3.35188627243042, -0.03476271033287048, 0.8598883152008057, -5.9396491050720215, -3.1724963188171387, -3.1831846237182617, -0.3990495800971985, -5.045263290405273, 3.6486499309539795, 7.589139938354492, -2.403738498687744, -2.073298692703247, -2.9618618488311768, 3.191653251647949, -4.242630958557129, -2.3834211826324463, 3.5244436264038086, -4.361971378326416, -5.044021129608154, -4.791879653930664, 1.2342549562454224, -4.178891181945801, 2.819751262664795, -4.82601261138916, -2.338654041290283, 0.3101338744163513, -1.772117018699646, 6.506270408630371, 6.6153764724731445, 0.5036903023719788, -0.5057531595230103, -2.6271002292633057, 3.2514772415161133, -3.24282169342041, -4.827192783355713, 0.5072581768035889, -4.300589084625244, -5.014042377471924, 6.567604064941406, -3.5508995056152344, -2.059420108795166, -3.1498403549194336, -3.045938730239868, -6.327371597290039, 8.117377281188965, -3.3996500968933105, 3.6883397102355957, -0.04273492470383644, -5.446034908294678, -3.2173824310302734, -2.322809934616089, -4.551060676574707, 7.571557998657227, -4.664379596710205, 0.04350081458687782, -0.4549649655818939, -1.9459458589553833, -5.892359256744385, -0.7112759947776794, -4.3231916427612305, -3.5314080715179443, -2.5965867042541504, 2.5345168113708496, -2.753721237182617, 6.925238609313965, -0.49902307987213135, -2.990710973739624, 6.440663814544678, -2.5467021465301514, -4.753016948699951, -3.2288804054260254, -4.597926139831543, 1.8384636640548706, -0.8023489117622375, 0.36895906925201416, 4.786683559417725, -4.423901081085205, 3.733839511871338, -3.6546590328216553, -3.395538091659546, -2.582641839981079, -4.927148342132568, -0.18731173872947693, -4.623281002044678, 6.297016143798828, -0.2997288703918457, 1.9958860874176025, -4.827802658081055, 3.4455530643463135, 6.576592922210693, -4.627160549163818, -5.19680643081665, 1.5088484287261963, 6.55651330947876, 0.558331310749054, 3.6745235919952393, 3.9223074913024902, -2.73750638961792, 5.351110458374023, -0.6295911073684692, 6.352567195892334, -5.297444820404053, -0.5436668992042542, 0.19793085753917694, -0.17147226631641388], \"y\": [0.32495272159576416, 5.320592403411865, -3.9630935192108154, 0.6565501093864441, -1.8233871459960938, 0.860117495059967, -2.195291757583618, 0.500618040561676, -0.2102060467004776, -1.7694276571273804, 2.4520814418792725, 5.330023765563965, 4.728006839752197, 0.8124194741249084, -0.031408097594976425, -1.7527611255645752, -3.8428843021392822, 4.713769435882568, 2.459141969680786, 1.5939334630966187, -3.1524789333343506, -1.4779658317565918, 3.9620699882507324, -0.613624632358551, -0.4239925444126129, -2.9733052253723145, 4.512389659881592, -2.033240556716919, 5.012181758880615, -0.2727140188217163, 3.0947868824005127, 5.009343147277832, -2.4147064685821533, 4.412831783294678, -4.104318141937256, -3.525089740753174, -1.082233190536499, 2.6386024951934814, 4.365701675415039, -5.277326583862305, -0.3689359128475189, 0.7408698201179504, -4.8375725746154785, 4.733981609344482, 1.9948850870132446, 5.065282821655273, -1.111755609512329, -0.8356361985206604, 0.40269890427589417, -0.938659131526947, -0.8668035268783569, -3.8546783924102783, -0.26303720474243164, 0.7994964122772217, 4.610917568206787, -0.8865771293640137, -1.734693169593811, 3.406986951828003, -0.4903640151023865, -0.45833295583724976, 2.3014378547668457, 0.30350664258003235, 1.824623703956604, 4.633699893951416, 2.299926280975342, -0.04898421838879585, -3.548190116882324, -4.201385021209717, 3.9641122817993164, -1.4943798780441284, -2.1491360664367676, 1.6210548877716064, 2.1957576274871826, 3.8088486194610596, -3.633641242980957, -0.8493691682815552, -1.8779728412628174, -4.333909034729004, -0.8113039135932922, -2.0392348766326904, 1.9298789501190186, -0.6508069038391113, 1.855249047279358, -2.589569091796875, 0.9073485732078552, 0.2562067210674286, 3.926976442337036, 4.09947395324707, -4.343694686889648, 1.043939471244812, -2.8047125339508057, -0.5044520497322083, 3.2030603885650635, -3.8113415241241455, 0.2824241816997528, 3.532487630844116, 0.4577709436416626, 4.486943244934082, 2.233506917953491, -0.943670928478241, -0.6191735863685608, -3.360973834991455, 5.007513046264648, 2.098984956741333, 2.5173332691192627, 0.6904458999633789, 0.8234104514122009, 2.6218249797821045, 5.354685306549072, -0.19897443056106567, 1.9430934190750122, 2.217521905899048, 4.319121360778809, 2.2288246154785156, 1.592668056488037, -1.9739772081375122, 4.473391532897949, 5.117180347442627, 2.7815864086151123, 3.5794265270233154, 3.909947395324707, -2.430835723876953, 2.1431772708892822, 4.128396987915039, -3.8560409545898438, -3.1696667671203613, 1.649852991104126, -0.0284627303481102, -3.75246524810791, -2.141920804977417, 2.3427271842956543, -0.3299160599708557, -3.615790367126465, 2.1910972595214844, 0.40946903824806213, 3.609867572784424, 3.39682936668396, 1.1840944290161133, -1.4850623607635498, 0.8857011795043945, 2.6308400630950928, 3.6299057006835938, 3.9584758281707764, -0.7039238214492798, 3.582374095916748, -1.9725974798202515, 0.9964425563812256, 2.931450605392456, -0.31337180733680725, 3.3486390113830566, -0.05630461871623993, -2.806627035140991, -0.6481820344924927, 2.0269665718078613, 1.0290578603744507, -1.538544774055481, 4.1965861320495605, 6.92960786819458, -2.353835344314575, 3.8990848064422607, -0.9346686005592346, 3.6090903282165527, -1.2011198997497559, -1.2949260473251343, -0.03942052647471428, 7.305228233337402, -4.742442607879639], \"z\": [4.376723766326904, -5.344897270202637, 1.3318586349487305, -4.925706386566162, -3.5258841514587402, -5.059901714324951, -2.6107468605041504, -8.337984085083008, 1.8156224489212036, 3.0044636726379395, -4.644957542419434, -5.460596561431885, -6.0226521492004395, -4.565250396728516, -7.9300971031188965, 4.591224670410156, -2.3836662769317627, -3.0751852989196777, -1.25974440574646, -5.246232032775879, 3.3093013763427734, -2.9821019172668457, -2.5945920944213867, -4.305678367614746, -4.087117671966553, 3.280923366546631, -4.417938709259033, 3.450835704803467, -4.289560317993164, -3.615718126296997, -2.8682138919830322, -5.243457794189453, -3.199836254119873, -4.770757675170898, 1.386628270149231, 2.2470946311950684, -3.8081483840942383, -1.203284502029419, -5.006320476531982, 2.8137307167053223, -8.646293640136719, -4.951132297515869, -1.6312947273254395, -3.471524477005005, -4.435578346252441, -2.951700210571289, 4.678247451782227, -3.213043689727783, 4.633546352386475, -3.6834397315979004, -3.875197410583496, 1.4268244504928589, -3.6692655086517334, -4.619433879852295, -5.719909191131592, 2.7720468044281006, -3.5653645992279053, -4.220641136169434, -4.633445739746094, 4.075287342071533, -6.976207256317139, -3.917581558227539, -6.467381954193115, -4.75312614440918, -4.302685737609863, 4.924020767211914, 2.847080707550049, 3.122211456298828, -4.9527997970581055, 4.623018741607666, -2.7042500972747803, -5.340563774108887, -7.302380084991455, -3.4823904037475586, 2.541604518890381, -3.3456060886383057, 3.091249942779541, 2.487279176712036, -3.4119608402252197, 3.5352816581726074, -4.391294479370117, 2.648186206817627, -4.3221964836120605, 3.8200862407684326, -4.133431434631348, 0.8903250694274902, -2.994140625, -5.7752156257629395, 2.2026331424713135, -4.9000563621521, -2.967771291732788, -8.997097969055176, -5.29467248916626, 1.5524426698684692, -3.9111340045928955, -2.7331888675689697, 0.5201942920684814, -5.900092124938965, -5.179523468017578, 3.7172577381134033, -4.138716697692871, 3.2227213382720947, -3.2877564430236816, -6.516287326812744, -1.389365553855896, 4.218758583068848, -5.067439079284668, -1.2728444337844849, -5.481041431427002, -9.0958833694458, -4.151163578033447, -6.338594913482666, -3.504652261734009, -4.9743332862854, -5.3202595710754395, 4.276690483093262, -5.726600170135498, -4.932350158691406, -7.181879997253418, 3.227264165878296, -4.643352031707764, 3.9913320541381836, -6.07158899307251, -3.0509438514709473, -2.3312718868255615, 2.3334567546844482, -5.223137855529785, -8.530031204223633, 2.7330877780914307, -3.320145606994629, -6.86681604385376, 2.014495849609375, 2.9242138862609863, -4.996713638305664, -4.3477253913879395, -4.602501392364502, -4.000553607940674, -4.690565586090088, 2.963320732116699, -4.401002407073975, -1.1105186939239502, -2.4577009677886963, -3.532137393951416, 3.067885398864746, -5.177377700805664, 4.168457508087158, -4.854013442993164, -4.229205131530762, -4.16271448135376, 0.538878858089447, -3.764343500137329, -2.9596688747406006, 2.21171236038208, -4.137738227844238, -4.4279046058654785, -3.669038772583008, -5.942928314208984, -5.798703193664551, -2.648143768310547, -3.0085794925689697, -3.834029197692871, -4.682287693023682, -3.8133864402770996, 5.0262908935546875, -8.045377731323242, -7.829648494720459, -1.8426800966262817]}, {\"customdata\": [[\"diet eat food sugar good\", \"diabet patent eat pomegran fruit\"], [\"diet eat food sugar good\", \"type food diabet eat\"], [\"diet eat food sugar good\", \"free cooki recip diabet\"], [\"diet eat food sugar good\", \"cinnamon help diabet\"], [\"diet eat food sugar good\", \"better diabet arrowroot cornflour\"], [\"diet eat food sugar good\", \"bad diabet eat\"], [\"diet eat food sugar good\", \"mani gram sugar appropri per day averag teen\"], [\"diet eat food sugar good\", \"five food carb\"], [\"diet eat food sugar good\", \"research done suma\"], [\"diet eat food sugar good\", \"mani carb one hundr eighti lb five six larg bone diabet femal daili lose weight\"], [\"diet eat food sugar good\", \"find new diabet food list show good food choic\"], [\"diet eat food sugar good\", \"diabet patient eat sweet corn\"], [\"diet eat food sugar good\", \"diet plan use type one type two diabet\"], [\"diet eat food sugar good\", \"consum cinnamon diabet\"], [\"diet eat food sugar good\", \"type two diabet cure\"], [\"diet eat food sugar good\", \"good desert diabet\"], [\"diet eat food sugar good\", \"thirti nine year diabet high blood pressur well bring control\"], [\"diet eat food sugar good\", \"diabet patient eat cashew seed\"], [\"diet eat food sugar good\", \"borderlin diabet doctor said control diet mani carb per day\"], [\"diet eat food sugar good\", \"honey diabet\"], [\"diet eat food sugar good\", \"good idea diabet meal\"], [\"diet eat food sugar good\", \"anyon assist inform diabet meal plan someon diabet\"], [\"diet eat food sugar good\", \"good sampl breakfast menu diabet\"], [\"diet eat food sugar good\", \"best beer diabet\"], [\"diet eat food sugar good\", \"contraind diabet diet\"], [\"diet eat food sugar good\", \"world diabet cookbook\"], [\"diet eat food sugar good\", \"diabet suppli medicar\"], [\"diet eat food sugar good\", \"food would diabet food list\"], [\"diet eat food sugar good\", \"feder agenc help patient need follow diabet diet plan\"], [\"diet eat food sugar good\", \"watermelon good diabet patient\"], [\"diet eat food sugar good\", \"kevin trudeau recommend cure diabet\"], [\"diet eat food sugar good\", \"onlin diet menu diabet\"], [\"diet eat food sugar good\", \"treatment diabet\"], [\"diet eat food sugar good\", \"list food high sugar\"], [\"diet eat food sugar good\", \"save money test diabet suppli\"], [\"diet eat food sugar good\", \"help peopl diabet\"], [\"diet eat food sugar good\", \"scientist make educ guess diabet caus genet factor guess exampl n\"], [\"diet eat food sugar good\", \"cocoyam good diabet\"], [\"diet eat food sugar good\", \"websit help find diabet dtour diet\"], [\"diet eat food sugar good\", \"eat best control diabet\"], [\"diet eat food sugar good\", \"recommend dietari allow protein\"], [\"diet eat food sugar good\", \"find meal plan diabet\"], [\"diet eat food sugar good\", \"find inform diet diabet\"], [\"diet eat food sugar good\", \"children receiv diabet educ\"], [\"diet eat food sugar good\", \"mean di proverb faith friend medicin life\"], [\"diet eat food sugar good\", \"bring high blood pressur\"], [\"diet eat food sugar good\", \"food high ad sugar\"], [\"diet eat food sugar good\", \"find inform diabet diet\"], [\"diet eat food sugar good\", \"blood sugar mainten diabet weight loss diet plan\"], [\"diet eat food sugar good\", \"type diet person keep angina\"], [\"diet eat food sugar good\", \"import diabet food pyramid someon type two diabeti\"], [\"diet eat food sugar good\", \"diabet diet menu help diabet\"], [\"diet eat food sugar good\", \"product claim natur cure diabet\"], [\"diet eat food sugar good\", \"diabet food found store\"], [\"diet eat food sugar good\", \"low fat diet recommend treat diabet\"], [\"diet eat food sugar good\", \"diabet still eat potato\"], [\"diet eat food sugar good\", \"simpl dinner recip would work diabet menu plan\"], [\"diet eat food sugar good\", \"list food high sugar\"], [\"diet eat food sugar good\", \"research done reflexolog\"], [\"diet eat food sugar good\", \"good diabet cheesecak recip\"], [\"diet eat food sugar good\", \"easi diabet dessert\"], [\"diet eat food sugar good\", \"one follow chemic artifici sweeten prescrib ot diabet person\"], [\"diet eat food sugar good\", \"cook popular diabet recip\"], [\"diet eat food sugar good\", \"restaur carri diabet diet menu\"], [\"diet eat food sugar good\", \"eat sugar type two diabet\"], [\"diet eat food sugar good\", \"diabet allow eat\"], [\"diet eat food sugar good\", \"place one receiv free diabet suppli\"], [\"diet eat food sugar good\", \"safe lower limit diabet patient normal control level\"], [\"diet eat food sugar good\", \"name diabet specialist\"], [\"diet eat food sugar good\", \"peopl type one diabet lose weight\"], [\"diet eat food sugar good\", \"iu measur vitamin e translat mcg mg\"], [\"diet eat food sugar good\", \"illeg diabet eat sugar\"], [\"diet eat food sugar good\", \"tai chi cure diabet\"], [\"diet eat food sugar good\", \"daili food eat\"], [\"diet eat food sugar good\", \"purchas diabet food\"], [\"diet eat food sugar good\", \"quantiti beet root one diabet patient daili\"], [\"diet eat food sugar good\", \"effect way reduc risk heart diseas cancer diabet seriou ill\"], [\"diet eat food sugar good\", \"diabet drink wine\"], [\"diet eat food sugar good\", \"recip book diabet diabet cheesecak recip\"], [\"diet eat food sugar good\", \"find diabet type two diet\"], [\"diet eat food sugar good\", \"would chees help lower sugar level diabet\"], [\"diet eat food sugar good\", \"tip follow diabet cooki recip\"], [\"diet eat food sugar good\", \"prevent type one type two diabet\"], [\"diet eat food sugar good\", \"anywher get free suppli blood sugar test\"], [\"diet eat food sugar good\", \"amino acid good diabet\"], [\"diet eat food sugar good\", \"kind doctor diabet see\"], [\"diet eat food sugar good\", \"medicaid pay diabet shoe georgia\"], [\"diet eat food sugar good\", \"diabet diet chart follow\"], [\"diet eat food sugar good\", \"recommend good diabet diet\"], [\"diet eat food sugar good\", \"eat fish egg good diabet person\"], [\"diet eat food sugar good\", \"diabet dad order eat\"], [\"diet eat food sugar good\", \"diabet supplement peopl diabet\"], [\"diet eat food sugar good\", \"artifici sugar better\"], [\"diet eat food sugar good\", \"diabet eat strawberri\"], [\"diet eat food sugar good\", \"raven symon diabet\"], [\"diet eat food sugar good\", \"mani gram sugar diabet intak day\"], [\"diet eat food sugar good\", \"reput diabet cookbook purchas onlin\"], [\"diet eat food sugar good\", \"lose weight pre diabet\"], [\"diet eat food sugar good\", \"someon diabet medic treatment\"], [\"diet eat food sugar good\", \"meal safe peopl diabet\"], [\"diet eat food sugar good\", \"find inform diabet treatment internet\"], [\"diet eat food sugar good\", \"would diet plan diabet food watch care\"], [\"diet eat food sugar good\", \"cookbook diabet diabet\"], [\"diet eat food sugar good\", \"dessert recip diabet found\"], [\"diet eat food sugar good\", \"find recip mexican dessert\"], [\"diet eat food sugar good\", \"specif type one diabet diet\"], [\"diet eat food sugar good\", \"place one find diet diabet\"], [\"diet eat food sugar good\", \"print diabet diet sheet\"], [\"diet eat food sugar good\", \"diabet diet plan fit\"], [\"diet eat food sugar good\", \"find good book diabet blood sugar level\"], [\"diet eat food sugar good\", \"much sugar diabet eat\"], [\"diet eat food sugar good\", \"ingredi avoid make diabet cooki recip\"], [\"diet eat food sugar good\", \"exercis easili improv type one diabet\"], [\"diet eat food sugar good\", \"melon watermelon safe fruit diabet\"], [\"diet eat food sugar good\", \"parentern nutrit inject taken oral\"], [\"diet eat food sugar good\", \"food make wors diabet\"], [\"diet eat food sugar good\", \"much sugar haribo\"], [\"diet eat food sugar good\", \"would person need diabet neuropathi treatment\"], [\"diet eat food sugar good\", \"free medic suppli\"], [\"diet eat food sugar good\", \"research done rolf\"], [\"diet eat food sugar good\", \"food list diabet\"], [\"diet eat food sugar good\", \"altern holisit remedi cure diabet\"], [\"diet eat food sugar good\", \"ok eat ham diabet\"], [\"diet eat food sugar good\", \"treatment diabet retinopathi\"], [\"diet eat food sugar good\", \"carrot juic good diabet patient\"], [\"diet eat food sugar good\", \"find free diabet diet book\"], [\"diet eat food sugar good\", \"write school research paper diabet\"], [\"diet eat food sugar good\", \"diabet shoe purchas singapor\"], [\"diet eat food sugar good\", \"cook whole famili husband diabet diet\"], [\"diet eat food sugar good\", \"food without glucos\"], [\"diet eat food sugar good\", \"prevent diabet\"], [\"diet eat food sugar good\", \"get free diabet suppli insur need meter well pleas help type two diabet insur ran\"], [\"diet eat food sugar good\", \"best diabet diet go\"], [\"diet eat food sugar good\", \"diabet safe diet eat\"], [\"diet eat food sugar good\", \"one find joslin diabet center\"], [\"diet eat food sugar good\", \"good old remedi diabet\"], [\"diet eat food sugar good\", \"research done tangerin peel\"], [\"diet eat food sugar good\", \"best cereal diabet\"], [\"diet eat food sugar good\", \"one sweeten commonli use diabet cooki recip\"], [\"diet eat food sugar good\", \"diabet eat peanut\"], [\"diet eat food sugar good\", \"mani gram sugar woman consum per day\"], [\"diet eat food sugar good\", \"diet would best diabet\"], [\"diet eat food sugar good\", \"one find inform diet diabet\"], [\"diet eat food sugar good\", \"find good sugar diabet diet\"], [\"diet eat food sugar good\", \"danger consum cheap diabet suppli\"], [\"diet eat food sugar good\", \"fruit eat blood sugar problem\"], [\"diet eat food sugar good\", \"onlin site offer diabet recip\"], [\"diet eat food sugar good\", \"good conclus diabet\"], [\"diet eat food sugar good\", \"treatment medic diabet\"], [\"diet eat food sugar good\", \"becom diabet educ\"], [\"diet eat food sugar good\", \"ayurveda help someon diabet\"], [\"diet eat food sugar good\", \"includ diabet diet menu\"], [\"diet eat food sugar good\", \"find diabet diet chart\"], [\"diet eat food sugar good\", \"diet meal plan sugar diabet\"], [\"diet eat food sugar good\", \"nutrisystem diabet diet harm diabet\"], [\"diet eat food sugar good\", \"recommend diet treatment prevent diabet neuropathi\"], [\"diet eat food sugar good\", \"kind deal exist notebook type comput\"], [\"diet eat food sugar good\", \"rice pasta better part diabet meal\"], [\"diet eat food sugar good\", \"type food good peopl diabet eat\"], [\"diet eat food sugar good\", \"diabet eat fruit\"], [\"diet eat food sugar good\", \"combin food rais blood sugar\"], [\"diet eat food sugar good\", \"ohip cover diabet medic\"], [\"diet eat food sugar good\", \"mani carbohydr type one diabet eat day\"], [\"diet eat food sugar good\", \"good diabet breakfast\"], [\"diet eat food sugar good\", \"help three hundr eight pound type ii diabet lose weight\"], [\"diet eat food sugar good\", \"kind sugar substitut use diabet pound cake recip\"], [\"diet eat food sugar good\", \"someon diabet eat weetbix\"], [\"diet eat food sugar good\", \"find good diabet diet food list\"], [\"diet eat food sugar good\", \"find tasti diabet recip\"], [\"diet eat food sugar good\", \"research done vegan\"], [\"diet eat food sugar good\", \"herb cure scurvi\"], [\"diet eat food sugar good\", \"ohio medicaid cover gastric bypass surgeri\"], [\"diet eat food sugar good\", \"purpos diabet bracelet\"], [\"diet eat food sugar good\", \"chang person make order achiev cure diabet type two\"], [\"diet eat food sugar good\", \"control diabet\"], [\"diet eat food sugar good\", \"cinnamon cure diabet\"], [\"diet eat food sugar good\", \"latest nutrit guid diabet\"], [\"diet eat food sugar good\", \"diabet test suppli mail\"], [\"diet eat food sugar good\", \"import qualiti diabet suppli\"], [\"diet eat food sugar good\", \"new food pyramind diabet\"], [\"diet eat food sugar good\", \"glycem index grit\"], [\"diet eat food sugar good\", \"combin vitamin\"], [\"diet eat food sugar good\", \"best free diabet recip\"], [\"diet eat food sugar good\", \"convert recip diabet\"], [\"diet eat food sugar good\", \"peopl diabet eat sugar\"], [\"diet eat food sugar good\", \"best natur diabet treatment\"], [\"diet eat food sugar good\", \"best diet diabet\"], [\"diet eat food sugar good\", \"mcclain sister diabet\"], [\"diet eat food sugar good\", \"word diabetina spanish herb diabet\"], [\"diet eat food sugar good\", \"fruit honey bad diabet\"], [\"diet eat food sugar good\", \"kind differ treatment diabet\"], [\"diet eat food sugar good\", \"go onlin find inform diabet recip\"], [\"diet eat food sugar good\", \"onlin list diabet food\"], [\"diet eat food sugar good\", \"diseas pandan leav cure\"], [\"diet eat food sugar good\", \"mani gram carb eat per day low fat diet\"], [\"diet eat food sugar good\", \"diabet eat papaya\"], [\"diet eat food sugar good\", \"way treat diabet\"], [\"diet eat food sugar good\", \"diabet nutrit\"], [\"diet eat food sugar good\", \"great diabet recip\"], [\"diet eat food sugar good\", \"person low blood sugar suggest could eat bring blood sugar level fastest way\"], [\"diet eat food sugar good\", \"food make wors diabet\"], [\"diet eat food sugar good\", \"involv diabet diet\"], [\"diet eat food sugar good\", \"best way lose keep weight diabet\"], [\"diet eat food sugar good\", \"nut bean eat diabet person\"], [\"diet eat food sugar good\", \"one pleas tell find healthi food diabet like\"], [\"diet eat food sugar good\", \"exampl diabet diet\"], [\"diet eat food sugar good\", \"deliv diabet meal plan\"], [\"diet eat food sugar good\", \"behavior doctor recommend avoid type two diabet\"], [\"diet eat food sugar good\", \"healthi weekli meal plan diabet\"], [\"diet eat food sugar good\", \"free diabet suppli\"], [\"diet eat food sugar good\", \"diabet eat onion\"], [\"diet eat food sugar good\", \"mani gram sugar allow per day\"], [\"diet eat food sugar good\", \"banana bad type two diabet\"], [\"diet eat food sugar good\", \"find onlin menu diabet\"], [\"diet eat food sugar good\", \"diabet lasik surgeri\"], [\"diet eat food sugar good\", \"good diabet cake recip\"], [\"diet eat food sugar good\", \"effect diet diabet\"], [\"diet eat food sugar good\", \"need balanc diet\"], [\"diet eat food sugar good\", \"doctor refer diabet educ class\"], [\"diet eat food sugar good\", \"treatment type one diabet\"], [\"diet eat food sugar good\", \"appropri cooki recip diabet\"], [\"diet eat food sugar good\", \"diabet eat sago seed\"], [\"diet eat food sugar good\", \"diabet food chart compar basic food chart\"], [\"diet eat food sugar good\", \"diabet total sugar diet\"], [\"diet eat food sugar good\", \"good treatment diabet\"], [\"diet eat food sugar good\", \"name diabet onlin diet program\"], [\"diet eat food sugar good\", \"good chocol diabet cake recip\"], [\"diet eat food sugar good\", \"main ingredi normal recip diabet eat\"], [\"diet eat food sugar good\", \"get diabet cookbook\"], [\"diet eat food sugar good\", \"recommend consum food five gram benefici weight control diabet even form cancer\"], [\"diet eat food sugar good\", \"would like know good food diabet bad food diabet\"], [\"diet eat food sugar good\", \"prediabeti carbohydr intak\"], [\"diet eat food sugar good\", \"research done sargassum seawe\"], [\"diet eat food sugar good\", \"diabet lost weight fast low glycem food gain\"], [\"diet eat food sugar good\", \"diet young diabet men\"], [\"diet eat food sugar good\", \"danger diabet eat meal contain lot sugar\"], [\"diet eat food sugar good\", \"herb good diabet\"], [\"diet eat food sugar good\", \"blood sugar high fresh fruit ok\"], [\"diet eat food sugar good\", \"find diabet recip\"], [\"diet eat food sugar good\", \"eat diabet\"], [\"diet eat food sugar good\", \"good resourc use obtain diabet diet sheet\"], [\"diet eat food sugar good\", \"one purchas sock suitabl diabet\"], [\"diet eat food sugar good\", \"mani carb diabet eat one meal\"], [\"diet eat food sugar good\", \"mani gram carb one hundr thirti five lb woman per day\"], [\"diet eat food sugar good\", \"diabet friendli food\"], [\"diet eat food sugar good\", \"type food diabet avoid\"], [\"diet eat food sugar good\", \"oil base food good women\"], [\"diet eat food sugar good\", \"kind diet diabet\"], [\"diet eat food sugar good\", \"eat fish chip diabet\"], [\"diet eat food sugar good\", \"type one diabet eat honey\"], [\"diet eat food sugar good\", \"exactli food diabet mean\"], [\"diet eat food sugar good\", \"effect diet diabet type two\"], [\"diet eat food sugar good\", \"vitamin get rid diabet\"], [\"diet eat food sugar good\", \"eat unsweeten appl sauc diabet diet\"], [\"diet eat food sugar good\", \"eat diabet\"], [\"diet eat food sugar good\", \"glycem index diet help diabet\"], [\"diet eat food sugar good\", \"secretagogu substanc\"], [\"diet eat food sugar good\", \"lose weight health reason\"], [\"diet eat food sugar good\", \"drink beer safe diabet\"], [\"diet eat food sugar good\", \"type one diabet affect sperm count\"], [\"diet eat food sugar good\", \"find diet plan person type two diabet\"], [\"diet eat food sugar good\", \"best diabet diet food give fifteen year old grow girl\"], [\"diet eat food sugar good\", \"alcoh good diabet\"], [\"diet eat food sugar good\", \"one purchas gourmet chocol suitabl diabet\"], [\"diet eat food sugar good\", \"omega three good diabet\"], [\"diet eat food sugar good\", \"find recip sugar free dessert\"], [\"diet eat food sugar good\", \"find free diabet meter\"], [\"diet eat food sugar good\", \"good diet diabet tri\"]], \"hovertemplate\": \"summary=%{customdata[0]}<br>pc_1=%{x}<br>pc_2=%{y}<br>pc_3=%{z}<br>sentence=%{customdata[1]}<extra></extra>\", \"legendgroup\": \"diet eat food sugar good\", \"marker\": {\"color\": \"#00cc96\", \"size\": 5, \"symbol\": \"circle\"}, \"mode\": \"markers\", \"name\": \"diet eat food sugar good\", \"scene\": \"scene\", \"showlegend\": true, \"type\": \"scatter3d\", \"x\": [2.1776201725006104, -0.8337178826332092, 10.928633689880371, 11.103815078735352, 3.3829398155212402, 3.2410004138946533, 4.765527725219727, 2.6916985511779785, 3.5072011947631836, 4.478944778442383, 5.71668004989624, 1.3857014179229736, 9.31428050994873, 4.986100673675537, -1.3111296892166138, 2.029942274093628, 5.248515605926514, 3.425624132156372, 4.633172988891602, 0.9810084104537964, 3.6357386112213135, 9.15868854522705, 10.472277641296387, 2.4965083599090576, 4.108738422393799, 8.127909660339355, 6.968563079833984, 8.577444076538086, 10.31515121459961, 5.7165374755859375, 7.063294410705566, 10.59290599822998, 4.6712327003479, 5.234216213226318, 6.079441070556641, 1.9656178951263428, 2.3147881031036377, 2.008700370788574, 4.375072002410889, 0.19606275856494904, 7.534538745880127, 10.584000587463379, 10.505236625671387, -2.4156105518341064, 1.4122954607009888, 5.568083763122559, 3.9260783195495605, 7.539176940917969, 6.622824192047119, -0.06194479018449783, -1.212503433227539, 11.357606887817383, 8.861011505126953, 5.325815677642822, 8.728620529174805, 2.4397263526916504, 10.111513137817383, 5.233124732971191, 3.647646903991699, 10.841527938842773, 7.451340198516846, 4.671449661254883, 10.24088191986084, 9.963858604431152, -1.4903316497802734, 0.1312107890844345, 9.11290454864502, 5.783208847045898, -1.0654457807540894, -1.8488199710845947, 5.83904504776001, 4.978242874145508, 3.7405738830566406, 4.640228748321533, 2.556412935256958, 0.8362475037574768, 1.5841635465621948, 3.8397223949432373, 11.081515312194824, -0.3111501634120941, 6.039642810821533, 10.559510231018066, -1.8914554119110107, 6.821718692779541, 2.245023250579834, 2.0305089950561523, 2.5333402156829834, 6.950686454772949, 6.196874141693115, 3.9463658332824707, 1.6660926342010498, -0.5695862174034119, 5.694578647613525, 1.640785813331604, 2.2828826904296875, 1.872658610343933, 10.682503700256348, 1.1261496543884277, 4.89727258682251, 4.95604133605957, 6.841663837432861, 10.12212085723877, 8.422233581542969, 11.420344352722168, 11.354536056518555, 2.0863826274871826, 8.404522895812988, 7.800926685333252, 9.977828979492188, 6.982107162475586, 1.418562412261963, 10.750292778015137, -1.7120665311813354, 7.71235466003418, 6.029235363006592, 0.24249956011772156, 3.748548984527588, -0.9470212459564209, 4.979148864746094, 3.6189165115356445, 8.995550155639648, 9.306136131286621, 7.7977705001831055, 2.0664496421813965, 7.7985148429870605, 9.360429763793945, -1.715926170349121, 8.923900604248047, -0.8922698497772217, 5.70903205871582, -0.9437001347541809, 4.232187747955322, 4.17817497253418, 9.596939086914062, 5.821243762969971, -2.2591447830200195, 3.2916717529296875, 5.080492973327637, 10.697283744812012, 3.4950482845306396, 3.9619970321655273, 4.273107528686523, 10.370248794555664, 6.441171169281006, 8.099105834960938, 4.3153862953186035, 10.164871215820312, 0.7198516726493835, 5.1983137130737305, 0.3840961754322052, 5.445696830749512, 10.002464294433594, 8.170588493347168, 8.143280982971191, 10.878082275390625, 10.165617942810059, -0.5599400997161865, 4.955498218536377, 2.058742046356201, 7.95180606842041, 6.176900386810303, 2.997955560684204, -0.6768585443496704, 2.0960185527801514, -1.185134768486023, 10.38254451751709, 3.483490467071533, 10.90573501586914, 10.355247497558594, 3.0096840858459473, 11.24431324005127, 4.272064208984375, 2.190962553024292, 2.8450403213500977, 0.07023555040359497, 11.269523620605469, 9.308733940124512, 6.073470592498779, 6.533109664916992, 1.5205940008163452, 8.872658729553223, -0.028568977490067482, 10.357060432434082, 6.6820454597473145, 1.6301689147949219, 5.1710615158081055, 3.4721925258636475, 0.20347021520137787, 2.9873526096343994, 9.17196273803711, 6.92091703414917, 10.316863059997559, -1.617364764213562, 0.9643719792366028, 7.654068946838379, 0.7824161648750305, 2.7568020820617676, 6.780473709106445, 10.506498336791992, 6.541035175323486, 0.2424992173910141, 2.7428512573242188, 1.4023456573486328, 5.707360744476318, 5.187862873077393, 4.6555256843566895, 6.221903324127197, -2.059326648712158, 8.681309700012207, 8.277585983276367, 1.2721632719039917, 4.753185272216797, -0.27454689145088196, 9.49026870727539, 2.310819625854492, 10.85239028930664, 0.568666934967041, 5.192691326141357, 5.160102844238281, -0.16159816086292267, 10.221817970275879, 1.6954160928726196, 5.316688537597656, 2.080432176589966, 7.299715518951416, 5.383650302886963, 10.20522403717041, 8.154401779174805, -1.836050033569336, 4.727046012878418, 2.8079898357391357, 1.6052838563919067, 5.419273376464844, 0.49258941411972046, 1.339946985244751, 3.141789436340332, 10.124624252319336, 6.309610843658447, 10.547173500061035, 0.6396905183792114, 4.2905144691467285, 3.795607328414917, -0.2806030213832855, 2.5003321170806885, -0.24609582126140594, -0.5660315155982971, 2.8620080947875977, 4.885921001434326, 2.320840358734131, 6.953380584716797, -0.7085517644882202, 2.138913631439209, -1.8305071592330933, 3.880002021789551, 0.6396914124488831, 11.086021423339844, 3.521327257156372, -1.334589958190918, 5.8193769454956055, -0.7851904034614563, 10.19594669342041, 9.834951400756836, 1.8223317861557007, 5.691754341125488, 2.2997961044311523, 11.473692893981934, 6.558191776275635, 5.655033111572266], \"y\": [-10.066629409790039, -6.667624473571777, -8.036994934082031, -8.374238967895508, -3.708188056945801, -4.401602745056152, -3.8779754638671875, -10.197181701660156, -6.67142915725708, -6.357507705688477, -13.170546531677246, -8.21403694152832, -12.062620162963867, -13.191495895385742, -8.030071258544922, -10.0609130859375, -3.446960926055908, -5.404036998748779, -8.763432502746582, -10.300830841064453, -4.294217586517334, -10.903968811035156, -9.669422149658203, -9.328437805175781, -12.6527099609375, -12.879590034484863, -13.126699447631836, -12.153008460998535, -8.60173225402832, -5.695295333862305, -12.944147109985352, -9.224896430969238, -9.561370849609375, -13.189193725585938, -6.876031875610352, -5.155416488647461, -10.343292236328125, -7.310269832611084, -11.15102767944336, -7.525399684906006, -12.437005996704102, -8.62307071685791, -9.54659652709961, -5.6092143058776855, -4.618775367736816, -5.155143737792969, -7.313284397125244, -12.70147705078125, -13.504121780395508, -7.48742151260376, -8.374238014221191, -7.29794979095459, -11.103933334350586, -8.103867530822754, -11.998139381408691, -11.1912202835083, -8.997042655944824, -13.188863754272461, -6.663668155670166, -8.29576301574707, -12.687739372253418, -13.268195152282715, -8.505752563476562, -8.994731903076172, -6.087249755859375, -9.289175987243652, -11.263298034667969, -3.844555139541626, -7.364391803741455, -6.344964981079102, -3.7156171798706055, -3.6521553993225098, -12.306556701660156, -12.52578353881836, -11.181087493896484, -4.968953609466553, -5.984846591949463, -3.0045273303985596, -7.677679538726807, -5.417883396148682, -3.5212504863739014, -8.50142765045166, -6.079610347747803, -9.248024940490723, -5.207823276519775, -8.567434310913086, -11.193860054016113, -10.47506046295166, -13.152151107788086, -3.3289573192596436, -5.926176071166992, -4.548363208770752, -5.952751636505127, -7.109134197235107, -11.059861183166504, -9.54594898223877, -8.8531494140625, -8.230992317199707, -3.488908052444458, -6.670769691467285, -10.419018745422363, -10.064866065979004, -12.685009002685547, -7.115952491760254, -7.581909656524658, -12.592612266540527, -11.940319061279297, -12.463373184204102, -8.54262924194336, -10.362454414367676, -4.928468704223633, -8.284078598022461, -6.048937797546387, -9.626849174499512, -7.093027114868164, -5.84775972366333, -3.20864200592041, -8.004980087280273, -9.525449752807617, -6.659341335296631, -11.904745101928711, -11.118523597717285, -12.778380393981934, -10.145687103271484, -12.545238494873047, -10.818373680114746, -6.69700813293457, -11.741929054260254, -9.014206886291504, -3.7880747318267822, -7.707606792449951, -5.602260589599609, -11.126408576965332, -10.560564994812012, -5.7343831062316895, -6.1210455894470215, -6.688416957855225, -13.21129322052002, -9.173596382141113, -12.154614448547363, -3.3625552654266357, -8.783257484436035, -9.1897611618042, -9.742372512817383, -12.913592338562012, -11.071907043457031, -8.810745239257812, -7.951592445373535, -6.487179756164551, -6.6264753341674805, -13.086073875427246, -9.596230506896973, -10.573001861572266, -10.576224327087402, -9.013093948364258, -10.809318542480469, -7.212972640991211, -6.728272438049316, -12.545188903808594, -12.407547950744629, -4.431931495666504, -6.095959663391113, -5.757540225982666, -8.415653228759766, -5.863162040710449, -8.775527954101562, -6.907453536987305, -7.974197864532471, -8.485529899597168, -6.711484432220459, -8.785654067993164, -3.4916324615478516, -11.40164566040039, -4.433053970336914, -4.9980387687683105, -7.459352970123291, -11.10109806060791, -6.278611183166504, -13.188241004943848, -9.699650764465332, -11.405532836914062, -7.438166618347168, -8.13973331451416, -13.078343391418457, -8.404613494873047, -7.246500015258789, -12.115520477294922, -6.204123497009277, -11.283164024353027, -10.918036460876465, -12.91910457611084, -8.254416465759277, -7.466503620147705, -9.62691879272461, -12.75908088684082, -5.491840839385986, -6.529141426086426, -13.17130184173584, -8.44124984741211, -2.9425153732299805, -5.847760200500488, -11.292354583740234, -11.098691940307617, -9.720139503479004, -13.51607894897461, -10.943859100341797, -13.260334968566895, -6.308770179748535, -10.89213752746582, -12.281895637512207, -6.491194725036621, -8.703922271728516, -5.493926048278809, -10.750730514526367, -5.442976474761963, -8.452953338623047, -8.85621452331543, -12.000321388244629, -3.2053139209747314, -7.515988826751709, -9.481451988220215, -8.359040260314941, -8.2318754196167, -10.299906730651855, -10.615965843200684, -13.451667785644531, -9.448356628417969, -11.002567291259766, -8.232161521911621, -8.568695068359375, -11.398029327392578, -6.445073127746582, -3.8616788387298584, -8.456589698791504, -11.569994926452637, -8.0075044631958, -9.825624465942383, -4.110172748565674, -8.013790130615234, -7.165786266326904, -13.138903617858887, -12.381974220275879, -5.997184753417969, -4.546011924743652, -8.828861236572266, -7.239950656890869, -11.492877006530762, -12.921483993530273, -10.985075950622559, -14.084977149963379, -7.4171576499938965, -12.569658279418945, -6.610149383544922, -12.534004211425781, -7.165787220001221, -8.434670448303223, -3.4994606971740723, -6.917662620544434, -9.611489295959473, -5.663405418395996, -10.017833709716797, -10.218174934387207, -6.5802321434021, -13.180721282958984, -6.107631206512451, -7.508564472198486, -7.522927284240723, -12.962838172912598], \"z\": [1.904742956161499, -0.5818251967430115, 11.46579647064209, 11.255568504333496, -1.494596242904663, -0.8244934678077698, -1.9016079902648926, 1.9175223112106323, 0.35618042945861816, -0.04860898107290268, 3.394240140914917, 1.8518387079238892, 4.992837905883789, 4.139266490936279, 1.6335786581039429, 2.0933845043182373, -2.420546054840088, -0.24475599825382233, 1.1168341636657715, 3.0065906047821045, -1.0645254850387573, 5.749624252319336, 9.19818115234375, 1.6365413665771484, 3.421144485473633, 5.314750671386719, 5.460315227508545, 6.190266132354736, 8.600418090820312, -0.8283774256706238, 4.429940223693848, 10.234601020812988, 1.5794273614883423, 4.216531276702881, -0.07306667417287827, 0.5126892924308777, 3.4289615154266357, 1.1112611293792725, 2.378866195678711, -0.5116055607795715, 5.274174213409424, 7.64725399017334, 9.236328125, 2.7766058444976807, 0.27707579731941223, -1.1725307703018188, 0.497191846370697, 5.383690357208252, 3.5370335578918457, -0.7298411726951599, 2.879246473312378, 11.708946228027344, 5.213251113891602, 0.7228707671165466, 5.57430362701416, 2.260164737701416, 9.932860374450684, 4.2164998054504395, 0.2714961767196655, 10.267914772033691, 5.510822296142578, 3.4669039249420166, 10.32835578918457, 8.873449325561523, 0.15518656373023987, 2.8716776371002197, 5.799404144287109, -2.1890335083007812, 2.7815065383911133, 0.7655341625213623, -2.285381317138672, -2.1413960456848145, 3.062725782394409, 3.805436849594116, 2.27738356590271, 0.7802199125289917, 1.49446439743042, -2.1892266273498535, 11.680039405822754, -1.2342286109924316, -2.444031238555908, 10.62053394317627, 0.7198392152786255, 2.0515363216400146, 0.20608407258987427, 1.514891266822815, 2.37697434425354, 2.961191415786743, 4.571829319000244, -2.032508134841919, 0.7606678009033203, 1.475504755973816, -0.644523024559021, 0.9094171524047852, 2.6062018871307373, 1.9262466430664062, 10.245133399963379, 2.0699045658111572, -2.227722644805908, -0.012958807870745659, 2.861435651779175, 8.572970390319824, 5.357004642486572, 11.671856880187988, 11.649779319763184, 0.8514528870582581, 5.057426929473877, 5.390914440155029, 9.95522403717041, 2.9138174057006836, 0.3625028729438782, 9.902067184448242, 0.3641999661922455, 3.0481879711151123, 0.08190777897834778, 1.8841859102249146, -2.020214319229126, 2.8186354637145996, 1.5991727113723755, 0.2844173312187195, 6.424838542938232, 6.772775650024414, 5.251441478729248, 2.334599733352661, 4.693405628204346, 6.219703197479248, 2.723184585571289, 6.477614879608154, 3.1108126640319824, -2.216306447982788, 2.7821121215820312, -0.33378535509109497, 2.3566877841949463, 7.156501770019531, -0.8308520317077637, 2.7218565940856934, 0.5060361623764038, 3.7672951221466064, 9.35047721862793, 2.948678731918335, -2.005903482437134, 1.162937045097351, 8.827737808227539, 2.227565050125122, 5.49620246887207, 2.3264660835266113, 10.388452529907227, 2.361255168914795, -0.17387895286083221, 2.396597385406494, 3.7256200313568115, 8.329219818115234, 4.090694427490234, 4.058797836303711, 9.987183570861816, 9.382955551147461, -0.5753970146179199, 0.017559736967086792, 0.8399618268013, 5.872140884399414, -1.8477805852890015, 0.18455933034420013, -0.9833366274833679, 1.395707368850708, -0.33164042234420776, 8.133932113647461, 0.3900090157985687, 9.989169120788574, 9.262752532958984, 0.7007445693016052, 10.503047943115234, -2.043992280960083, 2.890341281890869, -0.6008189916610718, -1.3373064994812012, 11.726019859313965, 6.211085796356201, -0.5035011768341064, 5.118344306945801, 2.2124903202056885, 6.461002826690674, 2.6412367820739746, 10.187113761901855, 4.004940032958984, 1.5293434858322144, 0.2541240155696869, 2.9699363708496094, 2.145284652709961, 2.5176475048065186, 5.959971904754639, 4.198237419128418, 10.138814926147461, 2.948056697845459, 2.6359920501708984, 4.628750801086426, 1.0413124561309814, -0.18647217750549316, 5.3140645027160645, 9.3790922164917, -2.872955560684204, 1.8841862678527832, 2.3900668621063232, 3.229041576385498, 1.9141943454742432, 3.154017210006714, 2.3029682636260986, 3.7534449100494385, 1.8027851581573486, 4.889370918273926, 5.630722999572754, 0.9325746297836304, 1.0830893516540527, -1.0568017959594727, 6.799460411071777, 0.1963622272014618, 9.940437316894531, 2.565099000930786, 3.712402105331421, -2.4890079498291016, -0.8788033723831177, 9.065716743469238, 1.4425188302993774, 0.8029066920280457, 2.028672456741333, 3.300846815109253, 4.601927757263184, 9.483736038208008, 4.286974906921387, 3.2796459197998047, 1.0032795667648315, 2.889892578125, 1.6845370531082153, -2.1006157398223877, 2.573739528656006, 3.6905908584594727, 1.0118316411972046, 8.425695419311523, -2.0930628776550293, 10.761469841003418, 2.3477673530578613, 3.413728952407837, 3.102654218673706, 2.2327880859375, -0.13053472340106964, 2.847503185272217, -0.6048174500465393, 2.8789713382720947, 3.9038093090057373, 2.3217406272888184, 5.765242099761963, 2.7284128665924072, 0.9563848376274109, 2.7094621658325195, 3.3381426334381104, 2.347768545150757, 11.219335556030273, -1.7078893184661865, 2.786776065826416, 1.8833321332931519, -1.0236377716064453, 9.888964653015137, 7.699988842010498, 0.9715901017189026, 3.965512990951538, 0.6482976078987122, 11.620869636535645, 0.41634222865104675, 3.6953561305999756]}, {\"customdata\": [[\"type cau two one symptom\", \"excess sugar urin caus tired\"], [\"type cau two one symptom\", \"differ non insulin depend diabet insulin depend diabet\"], [\"type cau two one symptom\", \"diabet mellitu diabet\"], [\"type cau two one symptom\", \"diabet transfer kiss\"], [\"type cau two one symptom\", \"diabet develop itch arm\"], [\"type cau two one symptom\", \"chanc diabet babi born parent heterozyg normal\"], [\"type cau two one symptom\", \"damag retina eye caus diabet mellitu known diabet\"], [\"type cau two one symptom\", \"type diabet found small children\"], [\"type cau two one symptom\", \"diabet mellitu affect spina bifida\"], [\"type cau two one symptom\", \"common diabet\"], [\"type cau two one symptom\", \"caus juvenil diabet\"], [\"type cau two one symptom\", \"sign diabet\"], [\"type cau two one symptom\", \"detect sign diabet\"], [\"type cau two one symptom\", \"overweight peopl like get diabet\"], [\"type cau two one symptom\", \"long jacki robinson diabet\"], [\"type cau two one symptom\", \"kind guitar nick jona\"], [\"type cau two one symptom\", \"aceton odor breath patient clinic symptom\"], [\"type cau two one symptom\", \"big toe partial numb\"], [\"type cau two one symptom\", \"diabet statist\"], [\"type cau two one symptom\", \"type two diabet becom type one diabet\"], [\"type cau two one symptom\", \"diabet get pregnant\"], [\"type cau two one symptom\", \"dog develop diabet call\"], [\"type cau two one symptom\", \"type one diabet common type two diabet\"], [\"type cau two one symptom\", \"diabet caus viru bacteria\"], [\"type cau two one symptom\", \"diabet mellitu diabet insipidu\"], [\"type cau two one symptom\", \"caus diabet\"], [\"type cau two one symptom\", \"diabet mellitu disord\"], [\"type cau two one symptom\", \"diabet effect immun system\"], [\"type cau two one symptom\", \"caus water loss carnegi area\"], [\"type cau two one symptom\", \"eye problem symptom diabet\"], [\"type cau two one symptom\", \"patient diabet insipidu begin suffer symptom dehydr\"], [\"type cau two one symptom\", \"mani peopl georgia suffer diabet\"], [\"type cau two one symptom\", \"diabet stop get hire job\"], [\"type cau two one symptom\", \"sign look get test diabet\"], [\"type cau two one symptom\", \"get diabet eat much salt\"], [\"type cau two one symptom\", \"patient describ diabet kussmaul respir physiolog activ take place caus patient\"], [\"type cau two one symptom\", \"diabet type one caus weight loss\"], [\"type cau two one symptom\", \"big toe numb tender outsid tip\"], [\"type cau two one symptom\", \"insulin depend diabet mellitu caus chronic renal failur\"], [\"type cau two one symptom\", \"risk factor type two diabet\"], [\"type cau two one symptom\", \"sign diabet\"], [\"type cau two one symptom\", \"tell diabet\"], [\"type cau two one symptom\", \"im forti five yr old male diabet enlarg pitiutari gland kill\"], [\"type cau two one symptom\", \"common caus type two diabet\"], [\"type cau two one symptom\", \"type one diabet strong type two\"], [\"type cau two one symptom\", \"symptom mild insulin resist\"], [\"type cau two one symptom\", \"kind diabet jacki robinson\"], [\"type cau two one symptom\", \"caus tingl bodi\"], [\"type cau two one symptom\", \"symptom distinguish type type ii diabet\"], [\"type cau two one symptom\", \"five symptom diabet\"], [\"type cau two one symptom\", \"mani peopl us type diabet\"], [\"type cau two one symptom\", \"age diabet first becom evid\"], [\"type cau two one symptom\", \"nick jona realli diabet\"], [\"type cau two one symptom\", \"get type one diabet one els famili\"], [\"type cau two one symptom\", \"dog develop diabet\"], [\"type cau two one symptom\", \"caus circul finger tip stop finger becom numb\"], [\"type cau two one symptom\", \"old nick got diabet\"], [\"type cau two one symptom\", \"effect diabet bodi system\"], [\"type cau two one symptom\", \"type ii diabet capit\"], [\"type cau two one symptom\", \"could hard lump forehead cancer pain\"], [\"type cau two one symptom\", \"diabet cantagi\"], [\"type cau two one symptom\", \"percentag diabet type one\"], [\"type cau two one symptom\", \"person chronic diabet exhibit sign\"], [\"type cau two one symptom\", \"diabet insipidu occur\"], [\"type cau two one symptom\", \"long effect diabet neuropathi last\"], [\"type cau two one symptom\", \"might caus unexplain weight gain fatigu\"], [\"type cau two one symptom\", \"diabet medicin caus cancer\"], [\"type cau two one symptom\", \"get diabet\"], [\"type cau two one symptom\", \"type one type two diabet\"], [\"type cau two one symptom\", \"import foot care clean peopl diabet\"], [\"type cau two one symptom\", \"famou songstress lost leg battl diabet\"], [\"type cau two one symptom\", \"condit insulin resist fat cell type one diabet type two diabet\"], [\"type cau two one symptom\", \"percentag famili member diabet get diseas\"], [\"type cau two one symptom\", \"diabet caus swollen lymph node\"], [\"type cau two one symptom\", \"number peopl worldwid diabet increas\"], [\"type cau two one symptom\", \"diabet affect health\"], [\"type cau two one symptom\", \"diabet caus semen tast differ\"], [\"type cau two one symptom\", \"major caus type one juvenil diabet\"], [\"type cau two one symptom\", \"mellitu diabet type one\"], [\"type cau two one symptom\", \"two challeng die chronic ill\"], [\"type cau two one symptom\", \"elvi aaron presley diabet type one two\"], [\"type cau two one symptom\", \"studi diabet mellitu call\"], [\"type cau two one symptom\", \"symptom diabet\"], [\"type cau two one symptom\", \"caus diabet\"], [\"type cau two one symptom\", \"two two risk factor diabet type two\"], [\"type cau two one symptom\", \"husband diabet menstub\"], [\"type cau two one symptom\", \"honeymoon period diabet mellitu\"], [\"type cau two one symptom\", \"irregular high hgt diabet patient\"], [\"type cau two one symptom\", \"flu shot affect diabet\"], [\"type cau two one symptom\", \"bypass two slim ball interact diabet medic\"], [\"type cau two one symptom\", \"diabet effect\"], [\"type cau two one symptom\", \"diabet affect leg\"], [\"type cau two one symptom\", \"person diabet smell alcohol\"], [\"type cau two one symptom\", \"kid get type two diabet adult\"], [\"type cau two one symptom\", \"get erect\"], [\"type cau two one symptom\", \"get diabet es\"], [\"type cau two one symptom\", \"caus diabet\"], [\"type cau two one symptom\", \"mani type diabet\"], [\"type cau two one symptom\", \"mani children nick jona want\"], [\"type cau two one symptom\", \"obes caus diabet\"], [\"type cau two one symptom\", \"selena diabet\"], [\"type cau two one symptom\", \"member jona brother band diabet\"], [\"type cau two one symptom\", \"kind condit diabet insipidu\"], [\"type cau two one symptom\", \"commonli use actoplu met\"], [\"type cau two one symptom\", \"type two diabet common\"], [\"type cau two one symptom\", \"diabet insipidu character\"], [\"type cau two one symptom\", \"diabet affect life span\"], [\"type cau two one symptom\", \"thirsti urin like crazi\"], [\"type cau two one symptom\", \"major sign diabet\"], [\"type cau two one symptom\", \"two type diabet mellitu\"], [\"type cau two one symptom\", \"diabet complic\"], [\"type cau two one symptom\", \"type ii diabet known depend diabet\"], [\"type cau two one symptom\", \"diabet advers affect bladder\"], [\"type cau two one symptom\", \"kind diabet laura ingal wilder\"], [\"type cau two one symptom\", \"diabet type two infecti\"], [\"type cau two one symptom\", \"mean swollen ankl\"], [\"type cau two one symptom\", \"pain radiat buttock back leg call\"], [\"type cau two one symptom\", \"someon take pill diabet use urin therapi\"], [\"type cau two one symptom\", \"get type two diabet\"], [\"type cau two one symptom\", \"symptom diabet\"], [\"type cau two one symptom\", \"happen diabet cut\"], [\"type cau two one symptom\", \"normal heart rate eighti one yr old diabet woman\"], [\"type cau two one symptom\", \"symptom uncontriol diabet adult\"], [\"type cau two one symptom\", \"doctor induc labor gestat diabet\"], [\"type cau two one symptom\", \"type diabet common children children treat diabet\"], [\"type cau two one symptom\", \"symptom high blood sugar\"], [\"type cau two one symptom\", \"pigment caus discolor bronz diabet\"], [\"type cau two one symptom\", \"caus frequent urin men\"], [\"type cau two one symptom\", \"much sugar caus\"], [\"type cau two one symptom\", \"fast caus diabet\"], [\"type cau two one symptom\", \"type two diabet affect lifestyl\"], [\"type cau two one symptom\", \"diabet life\"], [\"type cau two one symptom\", \"mani peopl die type one diabet year\"], [\"type cau two one symptom\", \"sexual arous caus spike blood sugar diabet male\"], [\"type cau two one symptom\", \"warn doctor might diabet\"], [\"type cau two one symptom\", \"know diabet\"], [\"type cau two one symptom\", \"youngest age get insulin pump\"], [\"type cau two one symptom\", \"two type diabet\"], [\"type cau two one symptom\", \"diabet kill\"], [\"type cau two one symptom\", \"diabet slipper\"], [\"type cau two one symptom\", \"common diabet medic\"], [\"type cau two one symptom\", \"nick diabet\"], [\"type cau two one symptom\", \"song nick wrote diabet\"], [\"type cau two one symptom\", \"insulin resist would best observ peopl\"], [\"type cau two one symptom\", \"relationship obes diabet\"], [\"type cau two one symptom\", \"much sugar urin\"], [\"type cau two one symptom\", \"lil boosi diabet\"], [\"type cau two one symptom\", \"receiv social secur disabl diabet dirrhea\"], [\"type cau two one symptom\", \"life cycl glucos\"], [\"type cau two one symptom\", \"type l dm differ type diabet\"], [\"type cau two one symptom\", \"gestat diabet show undiagnos type one diabet\"], [\"type cau two one symptom\", \"nick jona blood sugar diagnos diabet\"], [\"type cau two one symptom\", \"diseas symptom obes diabet facial hair growth femal arthritu thin fine hair head poylp fluid retent aortic valv replac surgeri\"], [\"type cau two one symptom\", \"diabet caus symptom pregnanc even pregnant\"], [\"type cau two one symptom\", \"mani peopl current diabet canada\"], [\"type cau two one symptom\", \"diabet caus death\"], [\"type cau two one symptom\", \"diabet ketoacidosi treat\"], [\"type cau two one symptom\", \"alan rickman diabet\"], [\"type cau two one symptom\", \"abbrevi acronym modi stand explain modi\"], [\"type cau two one symptom\", \"abl join militari diabet\"], [\"type cau two one symptom\", \"caus blur vision diabet\"], [\"type cau two one symptom\", \"mani peopl get diabet year\"], [\"type cau two one symptom\", \"type three diabet\"], [\"type cau two one symptom\", \"prognosi untreat diabet foot infect\"], [\"type cau two one symptom\", \"mani peopl us suffer diabet\"], [\"type cau two one symptom\", \"would girl still go guy despit fact diabet\"], [\"type cau two one symptom\", \"would caus extrem exhaust eat\"], [\"type cau two one symptom\", \"constantli thirsti tire sometim eye go blurri wrong\"], [\"type cau two one symptom\", \"insulin resist women conceiv\"], [\"type cau two one symptom\", \"common diabet complic\"], [\"type cau two one symptom\", \"area thet affect diabet\"], [\"type cau two one symptom\", \"differ type one type two diabet\"], [\"type cau two one symptom\", \"diabet caus drowsi\"], [\"type cau two one symptom\", \"risk develop type ii diabet mellitu\"], [\"type cau two one symptom\", \"know diabet\"], [\"type cau two one symptom\", \"pathophysiolog type two diabet mellitu\"], [\"type cau two one symptom\", \"diabet caus kidney damag\"], [\"type cau two one symptom\", \"would nick jona write littl seven year old boy got type one diabet huge fan\"], [\"type cau two one symptom\", \"diabet communic diseas\"], [\"type cau two one symptom\", \"diabet abl pass along children\"], [\"type cau two one symptom\", \"caus diabet\"], [\"type cau two one symptom\", \"hand safe diabet get tattoo\"], [\"type cau two one symptom\", \"relationship cholesterol heart diseas\"], [\"type cau two one symptom\", \"diabet pass either parent child\"], [\"type cau two one symptom\", \"retinopathi diagnos\"], [\"type cau two one symptom\", \"retinopathi\"], [\"type cau two one symptom\", \"effect type one diabet\"], [\"type cau two one symptom\", \"diabet caus shin splint\"], [\"type cau two one symptom\", \"organ type two diabet affect\"], [\"type cau two one symptom\", \"type two diabet hereditari\"], [\"type cau two one symptom\", \"punnett squar look like possibl parent combin type two diabet\"], [\"type cau two one symptom\", \"kind diabet consid auto immun diseas\"], [\"type cau two one symptom\", \"mental ill clearli defin physic ill diabet\"], [\"type cau two one symptom\", \"two type diabet time like develop obes person person\"], [\"type cau two one symptom\", \"sign symptom diabet\"], [\"type cau two one symptom\", \"long usual take recov effect diabet seizur slure speech mobil gener concentr\"], [\"type cau two one symptom\", \"need comma sentenc vascular diseas secondari diabet small vessel diseas\"], [\"type cau two one symptom\", \"diabet mean\"], [\"type cau two one symptom\", \"type diabet children develop symptom relat\"], [\"type cau two one symptom\", \"might caus rapid weight loss\"], [\"type cau two one symptom\", \"side affect cloud nine caus bodi use\"], [\"type cau two one symptom\", \"diabet class disabl\"], [\"type cau two one symptom\", \"mani differ type diabet\"], [\"type cau two one symptom\", \"diabet hand foundat creat\"], [\"type cau two one symptom\", \"common symptom diabet\"], [\"type cau two one symptom\", \"caus type diabet\"], [\"type cau two one symptom\", \"type one type two type three diabet\"], [\"type cau two one symptom\", \"pre diabet symptom\"], [\"type cau two one symptom\", \"diabet bodi\"], [\"type cau two one symptom\", \"two main type diabet\"], [\"type cau two one symptom\", \"ratio juvenil diabet\"], [\"type cau two one symptom\", \"diabet earli sign\"], [\"type cau two one symptom\", \"part human bodi effect diabet type one\"], [\"type cau two one symptom\", \"diabet patient need nasogastr tube feed\"], [\"type cau two one symptom\", \"good overweight\"], [\"type cau two one symptom\", \"get diabet\"], [\"type cau two one symptom\", \"get nick jona diabet tag\"], [\"type cau two one symptom\", \"preval diabet mellitu philippin\"], [\"type cau two one symptom\", \"nick jona diabet diabet\"], [\"type cau two one symptom\", \"laura ingal wilder rose\"], [\"type cau two one symptom\", \"symtom diabet mellitu\"], [\"type cau two one symptom\", \"site attack type one diabet\"], [\"type cau two one symptom\", \"lipotroph diabet\"], [\"type cau two one symptom\", \"moder weight loss reduc elimin symptom type two diabet\"], [\"type cau two one symptom\", \"know diabet\"], [\"type cau two one symptom\", \"import thing know type two diabet\"], [\"type cau two one symptom\", \"kind diabet tha nick jona\"], [\"type cau two one symptom\", \"caus diabet coma\"], [\"type cau two one symptom\", \"caus urin specif graviti high\"], [\"type cau two one symptom\", \"diseas get eat drink thing contain much sugar\"], [\"type cau two one symptom\", \"get lupu swine\"], [\"type cau two one symptom\", \"diabet affect electrolysi\"], [\"type cau two one symptom\", \"sever diabet symptom\"], [\"type cau two one symptom\", \"women diabet pregnant\"], [\"type cau two one symptom\", \"sign symptom type one diabet\"], [\"type cau two one symptom\", \"know type one type two diabet\"], [\"type cau two one symptom\", \"differenti diabet mellitu diabet insipidu\"], [\"type cau two one symptom\", \"risk gestat diabet\"], [\"type cau two one symptom\", \"percentag american diabet unawar diseas\"], [\"type cau two one symptom\", \"three clinic sign insulin defici\"], [\"type cau two one symptom\", \"diabet\"], [\"type cau two one symptom\", \"nick jona brother know diabet\"], [\"type cau two one symptom\", \"system diabet affect\"], [\"type cau two one symptom\", \"symptom juvenil diabet\"], [\"type cau two one symptom\", \"top ten communic diseas philippin\"], [\"type cau two one symptom\", \"diabet urin often\"], [\"type cau two one symptom\", \"diabet caus organ shut\"], [\"type cau two one symptom\", \"two type diabet\"], [\"type cau two one symptom\", \"root word diabet\"], [\"type cau two one symptom\", \"mani peopl die diabet\"], [\"type cau two one symptom\", \"nick jona diabet\"], [\"type cau two one symptom\", \"nick jona quot diabet\"], [\"type cau two one symptom\", \"steve redgrav diabet\"], [\"type cau two one symptom\", \"diseas caus radiat\"], [\"type cau two one symptom\", \"en symptom type one form diseas appear\"], [\"type cau two one symptom\", \"diabet mellitu complic cholecystectomi\"], [\"type cau two one symptom\", \"five foot twelv year old girl weigh eighti four pound\"], [\"type cau two one symptom\", \"diabet feel\"], [\"type cau two one symptom\", \"person diabet would keton urin\"], [\"type cau two one symptom\", \"caus diabet melitu\"], [\"type cau two one symptom\", \"type two diabet chronic diseas\"], [\"type cau two one symptom\", \"classic symptom diabet\"], [\"type cau two one symptom\", \"caus type diabet mellitu\"], [\"type cau two one symptom\", \"person diabet melitu affect\"], [\"type cau two one symptom\", \"could tell hamster got diabet\"], [\"type cau two one symptom\", \"explain type two diabet controlledand type one\"], [\"type cau two one symptom\", \"lack caus diabet\"], [\"type cau two one symptom\", \"type one diabet male produc children type one diabet\"], [\"type cau two one symptom\", \"may caus diabet neuropathi\"], [\"type cau two one symptom\", \"type microb diabet\"], [\"type cau two one symptom\", \"percent world popul diabet\"], [\"type cau two one symptom\", \"bret michael daughter diabet\"], [\"type cau two one symptom\", \"enter servic type two diabet\"], [\"type cau two one symptom\", \"type diabet occur bodi make insulin enough meet bodi need bodi becom resist insulin produc\"], [\"type cau two one symptom\", \"nick jona diabet doctor name\"], [\"type cau two one symptom\", \"major symptom type two diabet\"], [\"type cau two one symptom\", \"chanc get type one diabet\"], [\"type cau two one symptom\", \"diabet caus\"], [\"type cau two one symptom\", \"often diabet occur\"], [\"type cau two one symptom\", \"diabet transfer sexual\"], [\"type cau two one symptom\", \"affect peopl aid breast cancer diabet\"], [\"type cau two one symptom\", \"person without diabet get ulcer\"], [\"type cau two one symptom\", \"common sourc infect\"], [\"type cau two one symptom\", \"obes diabet nation epidem us\"], [\"type cau two one symptom\", \"get type diabet\"], [\"type cau two one symptom\", \"get diabet life\"], [\"type cau two one symptom\", \"mani peopl diabet insipidu\"], [\"type cau two one symptom\", \"diabet fruiti odor\"], [\"type cau two one symptom\", \"know anger problem\"], [\"type cau two one symptom\", \"diabet caus\"], [\"type cau two one symptom\", \"diabet use infrar sauna\"], [\"type cau two one symptom\", \"diagnos diabet insipidu\"], [\"type cau two one symptom\", \"diabet miletu\"], [\"type cau two one symptom\", \"type two diabet iuss\"], [\"type cau two one symptom\", \"common effect diabet diabet\"], [\"type cau two one symptom\", \"cale blood aced\"], [\"type cau two one symptom\", \"type four diabet\"], [\"type cau two one symptom\", \"age symptom diabet occur\"], [\"type cau two one symptom\", \"type one diabet transmit\"], [\"type cau two one symptom\", \"know diabet\"], [\"type cau two one symptom\", \"sixti two year old diabet black man swollen left leg area blanch blue mottl\"], [\"type cau two one symptom\", \"itchyblist arm shoulder\"], [\"type cau two one symptom\", \"need two kidney\"], [\"type cau two one symptom\", \"reason person would start urin lot\"], [\"type cau two one symptom\", \"could diabet mental ill born develop extrem depress suppress sad anger\"], [\"type cau two one symptom\", \"type one diabet type two\"], [\"type cau two one symptom\", \"diseas endocrin system\"], [\"type cau two one symptom\", \"ophthalmoplegia happen diabet mellitu\"], [\"type cau two one symptom\", \"life long condit\"], [\"type cau two one symptom\", \"might diabet alter one everyday life\"], [\"type cau two one symptom\", \"everyon diabet\"], [\"type cau two one symptom\", \"diabet go away\"], [\"type cau two one symptom\", \"briefli describ four type diabet insipidu\"], [\"type cau two one symptom\", \"final caus sycmor fall\"], [\"type cau two one symptom\", \"nick jona make big deal diabet\"]], \"hovertemplate\": \"summary=%{customdata[0]}<br>pc_1=%{x}<br>pc_2=%{y}<br>pc_3=%{z}<br>sentence=%{customdata[1]}<extra></extra>\", \"legendgroup\": \"type cau two one symptom\", \"marker\": {\"color\": \"#ab63fa\", \"size\": 5, \"symbol\": \"circle\"}, \"mode\": \"markers\", \"name\": \"type cau two one symptom\", \"scene\": \"scene\", \"showlegend\": true, \"type\": \"scatter3d\", \"x\": [-7.495748996734619, -5.860567092895508, -13.571162223815918, -12.490520477294922, -12.45880126953125, -11.161949157714844, -13.367785453796387, -11.922089576721191, -11.896553993225098, -8.808345794677734, -10.068480491638184, -11.086748123168945, -10.86657428741455, -10.831583023071289, -8.250898361206055, -9.184856414794922, -10.942578315734863, -9.236715316772461, -11.828030586242676, -12.167158126831055, -10.069174766540527, -9.853297233581543, -11.030611991882324, -13.941624641418457, -13.686907768249512, -11.88593864440918, -13.077665328979492, -13.05476188659668, -12.364556312561035, -8.74824333190918, -7.803155422210693, -11.97042179107666, -8.476067543029785, -7.343856334686279, -6.523648738861084, -5.838225364685059, -13.632343292236328, -7.2053704261779785, -6.508213996887207, -12.641790390014648, -11.08684253692627, -6.126906871795654, -9.000629425048828, -13.938393592834473, -10.250956535339355, -11.266498565673828, -7.459525108337402, -8.361247062683105, -12.936346054077148, -10.64952564239502, -12.823875427246094, -5.577070236206055, -10.608037948608398, -10.731731414794922, -10.892729759216309, -6.451715469360352, -12.324138641357422, -9.110118865966797, -6.891818046569824, -5.850748538970947, -4.179493427276611, -8.212810516357422, -12.992880821228027, -13.268067359924316, -10.075101852416992, -7.259383201599121, -6.097235679626465, -10.102655410766602, -7.304065704345703, -8.398173332214355, -9.50848388671875, -7.704820156097412, -12.339146614074707, -13.053455352783203, -12.744114875793457, -9.280013084411621, -6.95149040222168, -13.054515838623047, -10.423358917236328, -10.667634010314941, -7.24371337890625, -6.765432357788086, -8.864751815795898, -11.886279106140137, -11.736105918884277, -6.362360954284668, -11.354584693908691, -7.658844470977783, -8.0232515335083, -6.3949503898620605, -5.970966339111328, -10.900715827941895, -3.937324285507202, -10.814098358154297, -10.844712257385254, -7.408379077911377, -11.885936737060547, -10.268237113952637, -11.289037704467773, -11.882904052734375, -10.210029602050781, -11.956323623657227, -11.0850830078125, -8.09029483795166, -10.242218971252441, -10.729920387268066, -7.452744483947754, -8.295654296875, -10.277694702148438, -13.312889099121094, -9.400636672973633, -9.289392471313477, -8.830167770385742, -7.467764854431152, -8.98727035522461, -12.639277458190918, -12.819836616516113, -8.76892375946045, -13.752184867858887, -8.864751815795898, -6.292478561401367, -7.1209001541137695, -10.898666381835938, -8.230375289916992, -13.898603439331055, -10.504364967346191, -11.073039054870605, -9.460640907287598, -4.02030611038208, -5.253926753997803, -11.416240692138672, -7.898844242095947, -10.8020601272583, -8.526837348937988, -8.271757125854492, -5.377807140350342, -6.544412612915039, -12.3180513381958, -9.212124824523926, -8.49351692199707, -4.726129531860352, -12.434322357177734, -11.928901672363281, -10.447093963623047, -8.2269926071167, -11.825721740722656, -6.062007427215576, -7.333761692047119, -6.649175643920898, -13.759618759155273, -11.824647903442383, -7.289146900177002, -6.9813313484191895, -8.622471809387207, -11.8040771484375, -13.549266815185547, -9.070220947265625, -8.334728240966797, -12.731030464172363, -12.477256774902344, -10.559599876403809, -10.176427841186523, -7.594399929046631, -10.043391227722168, -12.347420692443848, -7.423185348510742, -6.64084005355835, -10.5792236328125, -10.945619583129883, -11.70323371887207, -10.890155792236328, -8.672205924987793, -13.310689926147461, -12.782214164733887, -5.377805233001709, -12.1190185546875, -13.466440200805664, -11.340676307678223, -12.033571243286133, -7.319967746734619, -11.886098861694336, -6.306643962860107, -5.602144718170166, -10.626087188720703, -10.715351104736328, -6.093951225280762, -7.498610973358154, -13.518744468688965, -6.887108325958252, -13.874818801879883, -12.586787223815918, -7.222017288208008, -9.541390419006348, -13.849534034729004, -9.276711463928223, -8.95146656036377, -10.024299621582031, -8.502326965332031, -11.417572021484375, -9.886603355407715, -6.093650817871094, -12.265118598937988, -11.960489273071289, -10.628907203674316, -8.550934791564941, -12.922261238098145, -6.8275837898254395, -7.82195520401001, -9.170381546020508, -10.936361312866211, -8.680221557617188, -11.40520191192627, -7.3571391105651855, -4.25667142868042, -8.106306076049805, -10.102649688720703, -12.237168312072754, -11.820886611938477, -10.301701545715332, -12.694141387939453, -10.537796974182129, -8.06346607208252, -7.7755866050720215, -6.418361186981201, -5.377807140350342, -12.193827629089355, -7.271030902862549, -7.690916538238525, -6.191372871398926, -6.826402187347412, -10.78238296508789, -8.529350280761719, -7.287109851837158, -10.081696510314941, -13.944808959960938, -6.1219916343688965, -10.510563850402832, -13.074817657470703, -7.8321733474731445, -7.875672340393066, -6.2798752784729, -12.040175437927246, -5.833203315734863, -11.119400978088379, -10.053956031799316, -9.949857711791992, -6.146026611328125, -12.31805419921875, -8.541674613952637, -11.175738334655762, -12.205154418945312, -10.541165351867676, -8.620600700378418, -11.806767463684082, -13.915382385253906, -13.47159481048584, -7.29494047164917, -6.22648811340332, -10.567401885986328, -12.375025749206543, -13.948555946350098, -9.116230010986328, -13.075428009033203, -5.008120059967041, -8.631978988647461, -11.361854553222656, -12.708199501037598, -13.682759284973145, -7.384183406829834, -7.667093276977539, -9.068800926208496, -12.373170852661133, -12.689562797546387, -8.311491966247559, -12.094900131225586, -11.37492847442627, -13.948663711547852, -13.504790306091309, -10.602688789367676, -11.53343677520752, -9.397717475891113, -7.259676933288574, -8.935401916503906, -8.982802391052246, -12.496504783630371, -9.699071884155273, -11.539916038513184, -11.64898681640625, -8.015759468078613, -13.504846572875977, -10.58460807800293, -3.8911924362182617, -8.587875366210938, -10.651093482971191, -9.630484580993652, -10.574369430541992, -7.04364013671875, -8.908003807067871, -10.433303833007812, -5.377804756164551, -9.603550910949707, -12.745055198669434, -5.470391750335693, -8.757174491882324, -8.280579566955566, -9.019369125366211, -6.293306827545166, -11.849125862121582, -9.969610214233398, -11.62231159210205, -7.221454620361328, -6.140681743621826, -12.434231758117676, -6.0794830322265625, -11.461593627929688], \"y\": [6.016322612762451, 2.00529146194458, 2.2887141704559326, -0.5325844287872314, -0.23408642411231995, 2.3254759311676025, 4.136427402496338, 2.169135332107544, 3.3548734188079834, 4.067154884338379, 5.285682678222656, -1.5490792989730835, -2.8083765506744385, -2.643789529800415, -1.6216481924057007, -0.7907217741012573, -2.0319368839263916, -4.540333271026611, 4.033049583435059, 2.0827250480651855, 3.361748456954956, 5.136557102203369, 2.1971542835235596, 3.1509294509887695, 0.8728453516960144, 4.2930006980896, -0.3384961783885956, 3.4518158435821533, 3.697754144668579, -4.186190605163574, -3.3633275032043457, 4.22784948348999, -1.7907965183258057, 7.471195697784424, -0.175512433052063, 4.213047981262207, 1.500814437866211, -2.414945125579834, 2.0610921382904053, 2.0387260913848877, -1.5491143465042114, 4.033437252044678, 2.183117628097534, -0.3616917133331299, 2.285794734954834, 2.454026937484741, -1.4122333526611328, 5.692717552185059, 1.9124398231506348, -2.7594974040985107, 2.048027515411377, 4.74078893661499, -0.7687914371490479, 2.6247684955596924, 4.220317363739014, -0.3812808096408844, 1.6209179162979126, 3.4297707080841064, 1.8211077451705933, 3.893514633178711, 3.6268389225006104, 1.9792604446411133, 0.9518060684204102, 2.662712812423706, -1.1395199298858643, 7.1217122077941895, 4.444096565246582, 1.7136133909225464, 2.0362160205841064, -4.455275058746338, -3.6255486011505127, 1.3726195096969604, -1.172881841659546, 0.004049883224070072, 1.3540362119674683, 4.475834369659424, 0.9771307706832886, 1.924356460571289, 1.8996473550796509, 3.5799996852874756, 3.2010467052459717, 0.2730938196182251, -3.5403506755828857, 4.290352821350098, 2.2702202796936035, 3.6095774173736572, -2.83927321434021, 4.70556640625, 5.628396987915039, 5.4765191078186035, 4.132994174957275, -2.3216300010681152, 4.05251932144165, -4.532805919647217, 6.1570329666137695, -0.25193068385124207, 4.293008804321289, 1.823333740234375, -2.403524398803711, 4.2609405517578125, 4.064188003540039, 2.717703104019165, 3.4151129722595215, 5.935995101928711, 2.157538652420044, 3.0195822715759277, 0.18612931668758392, -4.780089378356934, -3.3720481395721436, 1.9009687900543213, 4.158270359039307, 2.0466067790985107, 4.774570465087891, -1.2402702569961548, 1.6619311571121216, 4.050954341888428, 1.7514936923980713, 1.6618757247924805, 1.9141168594360352, -3.540351152420044, 0.5620445013046265, 4.665262222290039, 0.9299232959747314, -1.2653602361679077, 0.8105478286743164, 7.1627278327941895, 4.278928279876709, -4.566812038421631, 4.621165752410889, 5.663755893707275, 1.9610768556594849, 3.1721320152282715, 1.9795962572097778, 2.932922840118408, 3.9105827808380127, 4.103443622589111, 2.2505345344543457, 2.4891130924224854, 4.392579555511475, 3.93595814704895, 4.018045425415039, 0.19950972497463226, 3.362161636352539, 1.9066414833068848, -2.6175479888916016, 2.4422082901000977, 3.9948668479919434, -0.47664058208465576, 6.590877532958984, 1.29954195022583, 2.187718152999878, 7.417791366577148, -2.66361665725708, -3.3214282989501953, 2.381561517715454, 2.28342604637146, 3.4086999893188477, 3.7952170372009277, 1.8953694105148315, 3.0661392211914062, 6.136837959289551, -3.075800895690918, 1.7916587591171265, -4.411596775054932, 4.099618434906006, 5.211787700653076, 3.2157092094421387, 6.498425483703613, 2.437483310699463, 3.9098522663116455, 4.970484256744385, 1.3076446056365967, 0.8685958981513977, 2.021418333053589, 4.1034417152404785, 2.4926235675811768, 3.543210029602051, 2.4554860591888428, -1.6051127910614014, -1.8077569007873535, 4.293158054351807, 0.4279034435749054, 3.803143262863159, 2.7109415531158447, 6.459900856018066, 4.776172637939453, 2.013666868209839, 2.9004807472229004, 2.9567723274230957, 0.9021481275558472, 2.86588716506958, 1.4750910997390747, 4.063852787017822, 0.03080604039132595, -3.999906539916992, 2.583040714263916, 3.98549222946167, 4.430741786956787, -4.711330413818359, 1.6010727882385254, 6.22490930557251, 4.203146934509277, 2.0985465049743652, -3.571413040161133, -4.681215286254883, 2.0966379642486572, 1.866075873374939, -1.615775465965271, 3.327908992767334, 1.9427682161331177, 4.534989356994629, -1.9707233905792236, 2.0674993991851807, 4.307605266571045, 4.052052021026611, 1.713588833808899, 0.9610821604728699, 3.7659246921539307, 0.5986816883087158, 1.7826675176620483, 4.01932430267334, 1.7982138395309448, 3.0712153911590576, -0.4855737090110779, 4.1034440994262695, 2.1130166053771973, -1.664119839668274, 6.113265037536621, 6.079423427581787, 0.9157704710960388, 6.1895928382873535, 4.220215797424316, -2.8481242656707764, 4.044426918029785, -0.3586699962615967, 2.1377809047698975, -1.0697513818740845, 3.31854510307312, 6.050350666046143, 2.3785367012023926, 3.7123255729675293, -1.640786051750183, 4.363125801086426, -0.6414539217948914, -2.981933116912842, -4.310151100158691, 6.147082328796387, 2.4890761375427246, 4.1599297523498535, 4.246314525604248, 0.5460793972015381, -0.796782374382019, 4.179717540740967, -2.4413251876831055, 0.5148191452026367, 2.48002290725708, 0.003172696568071842, 6.051251411437988, -2.3095130920410156, 3.575007438659668, -0.6544426679611206, -3.1724255084991455, 1.964572787284851, 3.917964220046997, 4.653250694274902, 2.0674636363983154, 0.055100128054618835, 1.4516421556472778, -0.23425845801830292, 1.834725022315979, 4.752047061920166, 3.0850770473480225, 2.659907102584839, 2.595186471939087, 0.8385603427886963, -4.688997268676758, -0.44143009185791016, 2.9318814277648926, 5.551724910736084, -2.386418581008911, 4.655848503112793, 5.01029109954834, -0.7360311150550842, 1.7841840982437134, 2.4146041870117188, 1.9198803901672363, 4.224674701690674, 3.005613088607788, 5.828071594238281, 2.9320449829101562, 5.683152675628662, 4.593277931213379, 4.053524494171143, 2.122699737548828, 4.076573371887207, 6.596920013427734, 1.8131698369979858, -4.9080610275268555, 2.4096827507019043, 4.103443145751953, -2.383164644241333, 2.1886136531829834, 5.046126842498779, -4.739266395568848, -2.067887306213379, 2.0411174297332764, 5.763759613037109, 3.3301854133605957, 5.0473151206970215, 3.0951192378997803, 1.5873759984970093, 0.15970253944396973, 2.027543306350708, 6.188796043395996, 0.06279725581407547], \"z\": [2.171926259994507, -4.284012317657471, 7.739428997039795, 9.8646821975708, 9.879883766174316, 10.228157997131348, 7.425113201141357, 1.0491666793823242, 3.754142999649048, 3.136472225189209, 4.887351036071777, 10.543059349060059, 10.824085235595703, 10.85457992553711, 10.377251625061035, 10.395127296447754, 11.081134796142578, 10.99889087677002, 5.316309928894043, 1.181816577911377, 8.39295768737793, 4.920722484588623, -0.5001614689826965, 7.153228759765625, 7.897843837738037, 7.016570091247559, 9.212230682373047, 6.53216028213501, 8.433235168457031, 10.956969261169434, 10.6200532913208, 5.9889326095581055, 10.506293296813965, 2.3659255504608154, 6.748600959777832, 0.17881034314632416, 5.082942008972168, 10.176739692687988, -3.920145034790039, 2.041273593902588, 10.543074607849121, 0.46223780512809753, 9.131708145141602, 7.386050224304199, -1.0211769342422485, -0.957116425037384, 9.824525833129883, 1.9481732845306396, 2.4901411533355713, 10.845186233520508, 2.5513012409210205, -0.7438272833824158, 10.542444229125977, 0.1788478046655655, 6.22958517074585, 6.819993495941162, 9.838117599487305, 0.24822857975959778, -3.587851047515869, 1.6521730422973633, -2.198711395263672, -2.648883819580078, 9.448493957519531, 8.09121322631836, 10.280454635620117, 2.092439889907837, 0.30672404170036316, 9.841212272644043, -3.2771503925323486, 10.956210136413574, 10.967177391052246, -3.3473124504089355, 10.066906929016113, 9.270548820495605, 9.958291053771973, 3.7956483364105225, 6.210831165313721, 2.9320597648620605, -0.7928116917610168, 8.575477600097656, -2.410897970199585, 6.7385711669921875, 10.904425621032715, 7.016668796539307, 0.5877298712730408, 0.0641561895608902, 10.502106666564941, 3.0763423442840576, 2.4246151447296143, 0.32223963737487793, -0.3137196898460388, 10.734033584594727, -2.0881307125091553, 10.642231941223145, 6.031033992767334, 8.836949348449707, 7.01658821105957, -0.7379680275917053, 11.086191177368164, 5.929666042327881, 6.379591941833496, 9.321762084960938, 8.634200096130371, 2.3508222103118896, -0.8005865812301636, 9.09454345703125, 8.474820137023926, 11.045628547668457, 10.937317848205566, 4.446735382080078, 4.135232925415039, -1.75019371509552, 2.7012317180633545, 9.707263946533203, -1.8398877382278442, 8.222006797790527, 10.312097549438477, 9.49179744720459, 6.310659885406494, 10.904425621032715, 4.684020042419434, 3.065004587173462, 10.147472381591797, 10.234107971191406, 6.617937088012695, 6.070241451263428, 6.955970287322998, 10.97919750213623, -1.8271117210388184, -0.7487865090370178, 0.4979289174079895, 4.657411098480225, -0.1876826286315918, 8.247066497802734, 1.5626693964004517, -1.3829492330551147, -3.7209155559539795, 2.2057197093963623, 3.27606463432312, 1.3220545053482056, -1.6944756507873535, 9.896089553833008, 8.758106231689453, -0.9956083297729492, 10.617499351501465, 9.975172996520996, 0.2081652730703354, 8.928165435791016, 1.0385328531265259, 5.509555339813232, 1.0826891660690308, 2.28080677986145, 10.214574813842773, 10.830330848693848, 9.428651809692383, 7.857160568237305, 0.32507121562957764, 2.843933582305908, 9.648828506469727, 8.665088653564453, 5.366272926330566, 10.973708152770996, -3.1492466926574707, 10.864824295043945, 6.63672399520874, 2.813802480697632, 4.269056797027588, 5.551732063293457, -1.2295476198196411, 4.9355926513671875, 5.378433704376221, -2.036102771759033, 8.832539558410645, 2.3358819484710693, -1.3829481601715088, 1.9269887208938599, 7.108861446380615, 0.12846174836158752, 10.248502731323242, 9.961385726928711, 7.01664400100708, 5.185702800750732, 1.2735751867294312, 9.33214282989502, 6.036107540130615, 0.28229713439941406, -3.113375663757324, 7.432207107543945, -2.6950321197509766, 6.044756889343262, 4.2499823570251465, 6.275051593780518, 5.122580051422119, 7.534372806549072, 10.978313446044922, 8.702341079711914, 6.757482051849365, 1.8042848110198975, 10.390764236450195, 9.841371536254883, 0.0899769589304924, 6.44042444229126, 0.9261879324913025, 10.867194175720215, 11.032917022705078, 3.0404915809631348, -3.6181464195251465, 10.187246322631836, 0.16830629110336304, -0.2688174843788147, 2.351331949234009, 10.663229942321777, -3.18729567527771, -1.7175238132476807, 4.415075302124023, 9.841241836547852, 9.9815092086792, 7.253942489624023, 10.179681777954102, 9.704421997070312, 5.574101448059082, -2.760910987854004, 4.074540615081787, 6.8604044914245605, -1.382948875427246, 1.2880066633224487, 9.859091758728027, 2.3772261142730713, 0.2786758542060852, 6.431000709533691, 5.96517276763916, 3.201265335083008, 10.332118034362793, 6.6930670738220215, 7.363094329833984, -3.9303414821624756, 10.07921314239502, 6.591282367706299, 2.2376339435577393, -2.8374009132385254, 0.05874460190534592, 10.330063819885254, -0.9929401278495789, 10.46984577178955, 11.035632133483887, 10.902003288269043, 0.04384913295507431, 2.2057740688323975, 2.778639554977417, 5.583979606628418, 10.039548873901367, 10.535834312438965, 2.773803949356079, 10.651150703430176, 6.897700786590576, 7.746799945831299, 8.367856979370117, 0.20396006107330322, 10.933835983276367, 8.164899826049805, 7.45051383972168, 10.897907257080078, 3.2537460327148438, -1.3879228830337524, 2.4785830974578857, 0.20874230563640594, 9.729119300842285, 5.2257914543151855, 8.784642219543457, -3.089824914932251, 2.8183796405792236, 8.740324974060059, 4.049015998840332, -2.5451741218566895, 10.060463905334473, 10.41419506072998, 7.388375759124756, 7.398860931396484, 5.146703720092773, 10.442005157470703, 5.168371200561523, 0.806686282157898, 10.31913948059082, 9.464960098266602, 2.5644948482513428, 9.614097595214844, 5.9100341796875, 9.053144454956055, 2.0647318363189697, 7.398398399353027, 5.816743850708008, -1.9690020084381104, 2.4347784519195557, -0.6046802997589111, 4.9776411056518555, 6.256008625030518, -3.5240976810455322, 11.06392765045166, -1.0692393779754639, -1.3829491138458252, 10.854813575744629, 9.549630165100098, -0.6996386647224426, 10.711946487426758, 10.515872955322266, -2.0158567428588867, 0.16418157517910004, 3.5598766803741455, 5.071311950683594, 8.896306037902832, 5.93482780456543, 5.118072986602783, 1.589367151260376, 0.17634126543998718, 10.278539657592773]}],                        {\"height\": 500, \"legend\": {\"itemclick\": \"toggleothers\", \"title\": {\"text\": \"Cluster Summaries\"}, \"tracegroupgap\": 0}, \"margin\": {\"t\": 60}, \"scene\": {\"domain\": {\"x\": [0.0, 1.0], \"y\": [0.0, 1.0]}, \"xaxis\": {\"title\": {\"text\": \"pc_1\"}}, \"yaxis\": {\"title\": {\"text\": \"pc_2\"}}, \"zaxis\": {\"title\": {\"text\": \"pc_3\"}}}, \"template\": {\"data\": {\"bar\": [{\"error_x\": {\"color\": \"#2a3f5f\"}, \"error_y\": {\"color\": \"#2a3f5f\"}, \"marker\": {\"line\": {\"color\": \"#E5ECF6\", \"width\": 0.5}}, \"type\": \"bar\"}], \"barpolar\": [{\"marker\": {\"line\": {\"color\": \"#E5ECF6\", \"width\": 0.5}}, \"type\": \"barpolar\"}], \"carpet\": [{\"aaxis\": {\"endlinecolor\": \"#2a3f5f\", \"gridcolor\": \"white\", \"linecolor\": \"white\", \"minorgridcolor\": \"white\", \"startlinecolor\": \"#2a3f5f\"}, \"baxis\": {\"endlinecolor\": \"#2a3f5f\", \"gridcolor\": \"white\", \"linecolor\": \"white\", \"minorgridcolor\": \"white\", \"startlinecolor\": \"#2a3f5f\"}, \"type\": \"carpet\"}], \"choropleth\": [{\"colorbar\": {\"outlinewidth\": 0, \"ticks\": \"\"}, \"type\": \"choropleth\"}], \"contour\": [{\"colorbar\": {\"outlinewidth\": 0, \"ticks\": \"\"}, \"colorscale\": [[0.0, \"#0d0887\"], [0.1111111111111111, \"#46039f\"], [0.2222222222222222, \"#7201a8\"], [0.3333333333333333, \"#9c179e\"], [0.4444444444444444, \"#bd3786\"], [0.5555555555555556, \"#d8576b\"], [0.6666666666666666, \"#ed7953\"], [0.7777777777777778, \"#fb9f3a\"], [0.8888888888888888, \"#fdca26\"], [1.0, \"#f0f921\"]], \"type\": \"contour\"}], \"contourcarpet\": [{\"colorbar\": {\"outlinewidth\": 0, \"ticks\": \"\"}, \"type\": \"contourcarpet\"}], \"heatmap\": [{\"colorbar\": {\"outlinewidth\": 0, \"ticks\": \"\"}, \"colorscale\": [[0.0, \"#0d0887\"], [0.1111111111111111, \"#46039f\"], [0.2222222222222222, \"#7201a8\"], [0.3333333333333333, \"#9c179e\"], [0.4444444444444444, \"#bd3786\"], [0.5555555555555556, \"#d8576b\"], [0.6666666666666666, \"#ed7953\"], [0.7777777777777778, \"#fb9f3a\"], [0.8888888888888888, \"#fdca26\"], [1.0, \"#f0f921\"]], \"type\": \"heatmap\"}], \"heatmapgl\": [{\"colorbar\": {\"outlinewidth\": 0, \"ticks\": \"\"}, \"colorscale\": [[0.0, \"#0d0887\"], [0.1111111111111111, \"#46039f\"], [0.2222222222222222, \"#7201a8\"], [0.3333333333333333, \"#9c179e\"], [0.4444444444444444, \"#bd3786\"], [0.5555555555555556, \"#d8576b\"], [0.6666666666666666, \"#ed7953\"], [0.7777777777777778, \"#fb9f3a\"], [0.8888888888888888, \"#fdca26\"], [1.0, \"#f0f921\"]], \"type\": \"heatmapgl\"}], \"histogram\": [{\"marker\": {\"colorbar\": {\"outlinewidth\": 0, \"ticks\": \"\"}}, \"type\": \"histogram\"}], \"histogram2d\": [{\"colorbar\": {\"outlinewidth\": 0, \"ticks\": \"\"}, \"colorscale\": [[0.0, \"#0d0887\"], [0.1111111111111111, \"#46039f\"], [0.2222222222222222, \"#7201a8\"], [0.3333333333333333, \"#9c179e\"], [0.4444444444444444, \"#bd3786\"], [0.5555555555555556, \"#d8576b\"], [0.6666666666666666, \"#ed7953\"], [0.7777777777777778, \"#fb9f3a\"], [0.8888888888888888, \"#fdca26\"], [1.0, \"#f0f921\"]], \"type\": \"histogram2d\"}], \"histogram2dcontour\": [{\"colorbar\": {\"outlinewidth\": 0, \"ticks\": \"\"}, \"colorscale\": [[0.0, \"#0d0887\"], [0.1111111111111111, \"#46039f\"], [0.2222222222222222, \"#7201a8\"], [0.3333333333333333, \"#9c179e\"], [0.4444444444444444, \"#bd3786\"], [0.5555555555555556, \"#d8576b\"], [0.6666666666666666, \"#ed7953\"], [0.7777777777777778, \"#fb9f3a\"], [0.8888888888888888, \"#fdca26\"], [1.0, \"#f0f921\"]], \"type\": \"histogram2dcontour\"}], \"mesh3d\": [{\"colorbar\": {\"outlinewidth\": 0, \"ticks\": \"\"}, \"type\": \"mesh3d\"}], \"parcoords\": [{\"line\": {\"colorbar\": {\"outlinewidth\": 0, \"ticks\": \"\"}}, \"type\": \"parcoords\"}], \"pie\": [{\"automargin\": true, \"type\": \"pie\"}], \"scatter\": [{\"marker\": {\"colorbar\": {\"outlinewidth\": 0, \"ticks\": \"\"}}, \"type\": \"scatter\"}], \"scatter3d\": [{\"line\": {\"colorbar\": {\"outlinewidth\": 0, \"ticks\": \"\"}}, \"marker\": {\"colorbar\": {\"outlinewidth\": 0, \"ticks\": \"\"}}, \"type\": \"scatter3d\"}], \"scattercarpet\": [{\"marker\": {\"colorbar\": {\"outlinewidth\": 0, \"ticks\": \"\"}}, \"type\": \"scattercarpet\"}], \"scattergeo\": [{\"marker\": {\"colorbar\": {\"outlinewidth\": 0, \"ticks\": \"\"}}, \"type\": \"scattergeo\"}], \"scattergl\": [{\"marker\": {\"colorbar\": {\"outlinewidth\": 0, \"ticks\": \"\"}}, \"type\": \"scattergl\"}], \"scattermapbox\": [{\"marker\": {\"colorbar\": {\"outlinewidth\": 0, \"ticks\": \"\"}}, \"type\": \"scattermapbox\"}], \"scatterpolar\": [{\"marker\": {\"colorbar\": {\"outlinewidth\": 0, \"ticks\": \"\"}}, \"type\": \"scatterpolar\"}], \"scatterpolargl\": [{\"marker\": {\"colorbar\": {\"outlinewidth\": 0, \"ticks\": \"\"}}, \"type\": \"scatterpolargl\"}], \"scatterternary\": [{\"marker\": {\"colorbar\": {\"outlinewidth\": 0, \"ticks\": \"\"}}, \"type\": \"scatterternary\"}], \"surface\": [{\"colorbar\": {\"outlinewidth\": 0, \"ticks\": \"\"}, \"colorscale\": [[0.0, \"#0d0887\"], [0.1111111111111111, \"#46039f\"], [0.2222222222222222, \"#7201a8\"], [0.3333333333333333, \"#9c179e\"], [0.4444444444444444, \"#bd3786\"], [0.5555555555555556, \"#d8576b\"], [0.6666666666666666, \"#ed7953\"], [0.7777777777777778, \"#fb9f3a\"], [0.8888888888888888, \"#fdca26\"], [1.0, \"#f0f921\"]], \"type\": \"surface\"}], \"table\": [{\"cells\": {\"fill\": {\"color\": \"#EBF0F8\"}, \"line\": {\"color\": \"white\"}}, \"header\": {\"fill\": {\"color\": \"#C8D4E3\"}, \"line\": {\"color\": \"white\"}}, \"type\": \"table\"}]}, \"layout\": {\"annotationdefaults\": {\"arrowcolor\": \"#2a3f5f\", \"arrowhead\": 0, \"arrowwidth\": 1}, \"autotypenumbers\": \"strict\", \"coloraxis\": {\"colorbar\": {\"outlinewidth\": 0, \"ticks\": \"\"}}, \"colorscale\": {\"diverging\": [[0, \"#8e0152\"], [0.1, \"#c51b7d\"], [0.2, \"#de77ae\"], [0.3, \"#f1b6da\"], [0.4, \"#fde0ef\"], [0.5, \"#f7f7f7\"], [0.6, \"#e6f5d0\"], [0.7, \"#b8e186\"], [0.8, \"#7fbc41\"], [0.9, \"#4d9221\"], [1, \"#276419\"]], \"sequential\": [[0.0, \"#0d0887\"], [0.1111111111111111, \"#46039f\"], [0.2222222222222222, \"#7201a8\"], [0.3333333333333333, \"#9c179e\"], [0.4444444444444444, \"#bd3786\"], [0.5555555555555556, \"#d8576b\"], [0.6666666666666666, \"#ed7953\"], [0.7777777777777778, \"#fb9f3a\"], [0.8888888888888888, \"#fdca26\"], [1.0, \"#f0f921\"]], \"sequentialminus\": [[0.0, \"#0d0887\"], [0.1111111111111111, \"#46039f\"], [0.2222222222222222, \"#7201a8\"], [0.3333333333333333, \"#9c179e\"], [0.4444444444444444, \"#bd3786\"], [0.5555555555555556, \"#d8576b\"], [0.6666666666666666, \"#ed7953\"], [0.7777777777777778, \"#fb9f3a\"], [0.8888888888888888, \"#fdca26\"], [1.0, \"#f0f921\"]]}, \"colorway\": [\"#636efa\", \"#EF553B\", \"#00cc96\", \"#ab63fa\", \"#FFA15A\", \"#19d3f3\", \"#FF6692\", \"#B6E880\", \"#FF97FF\", \"#FECB52\"], \"font\": {\"color\": \"#2a3f5f\"}, \"geo\": {\"bgcolor\": \"white\", \"lakecolor\": \"white\", \"landcolor\": \"#E5ECF6\", \"showlakes\": true, \"showland\": true, \"subunitcolor\": \"white\"}, \"hoverlabel\": {\"align\": \"left\"}, \"hovermode\": \"closest\", \"mapbox\": {\"style\": \"light\"}, \"paper_bgcolor\": \"white\", \"plot_bgcolor\": \"#E5ECF6\", \"polar\": {\"angularaxis\": {\"gridcolor\": \"white\", \"linecolor\": \"white\", \"ticks\": \"\"}, \"bgcolor\": \"#E5ECF6\", \"radialaxis\": {\"gridcolor\": \"white\", \"linecolor\": \"white\", \"ticks\": \"\"}}, \"scene\": {\"xaxis\": {\"backgroundcolor\": \"#E5ECF6\", \"gridcolor\": \"white\", \"gridwidth\": 2, \"linecolor\": \"white\", \"showbackground\": true, \"ticks\": \"\", \"zerolinecolor\": \"white\"}, \"yaxis\": {\"backgroundcolor\": \"#E5ECF6\", \"gridcolor\": \"white\", \"gridwidth\": 2, \"linecolor\": \"white\", \"showbackground\": true, \"ticks\": \"\", \"zerolinecolor\": \"white\"}, \"zaxis\": {\"backgroundcolor\": \"#E5ECF6\", \"gridcolor\": \"white\", \"gridwidth\": 2, \"linecolor\": \"white\", \"showbackground\": true, \"ticks\": \"\", \"zerolinecolor\": \"white\"}}, \"shapedefaults\": {\"line\": {\"color\": \"#2a3f5f\"}}, \"ternary\": {\"aaxis\": {\"gridcolor\": \"white\", \"linecolor\": \"white\", \"ticks\": \"\"}, \"baxis\": {\"gridcolor\": \"white\", \"linecolor\": \"white\", \"ticks\": \"\"}, \"bgcolor\": \"#E5ECF6\", \"caxis\": {\"gridcolor\": \"white\", \"linecolor\": \"white\", \"ticks\": \"\"}}, \"title\": {\"x\": 0.05}, \"xaxis\": {\"automargin\": true, \"gridcolor\": \"white\", \"linecolor\": \"white\", \"ticks\": \"\", \"title\": {\"standoff\": 15}, \"zerolinecolor\": \"white\", \"zerolinewidth\": 2}, \"yaxis\": {\"automargin\": true, \"gridcolor\": \"white\", \"linecolor\": \"white\", \"ticks\": \"\", \"title\": {\"standoff\": 15}, \"zerolinecolor\": \"white\", \"zerolinewidth\": 2}}}, \"title\": {\"text\": \"Projected Question Vector Manifold\"}},                        {\"responsive\": true}                    ).then(function(){\n",
       "                            \n",
       "var gd = document.getElementById('f676dbcd-bd0a-4a54-a68c-8181e6e15b90');\n",
       "var x = new MutationObserver(function (mutations, observer) {{\n",
       "        var display = window.getComputedStyle(gd).display;\n",
       "        if (!display || display === 'none') {{\n",
       "            console.log([gd, 'removed!']);\n",
       "            Plotly.purge(gd);\n",
       "            observer.disconnect();\n",
       "        }}\n",
       "}});\n",
       "\n",
       "// Listen for the removal of the full notebook cells\n",
       "var notebookContainer = gd.closest('#notebook-container');\n",
       "if (notebookContainer) {{\n",
       "    x.observe(notebookContainer, {childList: true});\n",
       "}}\n",
       "\n",
       "// Listen for the clearing of the current output cell\n",
       "var outputEl = gd.closest('.output');\n",
       "if (outputEl) {{\n",
       "    x.observe(outputEl, {childList: true});\n",
       "}}\n",
       "\n",
       "                        })                };                });            </script>        </div>"
      ]
     },
     "metadata": {},
     "output_type": "display_data"
    }
   ],
   "source": [
    "fig = px.scatter_3d(\n",
    "    df, x='pc_1', y='pc_2', z='pc_3', color='summary', \n",
    "    hover_data=['summary', 'sentence'])\n",
    "fig.update_traces(marker_size=5)\n",
    "fig.update_layout(\n",
    "    title='Projected Question Vector Manifold',\n",
    "    legend={'title': 'Cluster Summaries', 'itemclick': 'toggleothers'},\n",
    "    height=500,\n",
    ")\n",
    "fig.show()"
   ]
  },
  {
   "cell_type": "code",
   "execution_count": null,
   "metadata": {},
   "outputs": [],
   "source": []
  }
 ],
 "metadata": {
  "kernelspec": {
   "display_name": "Python 3",
   "language": "python",
   "name": "python3"
  },
  "language_info": {
   "codemirror_mode": {
    "name": "ipython",
    "version": 3
   },
   "file_extension": ".py",
   "mimetype": "text/x-python",
   "name": "python",
   "nbconvert_exporter": "python",
   "pygments_lexer": "ipython3",
   "version": "3.8.5"
  }
 },
 "nbformat": 4,
 "nbformat_minor": 4
}
