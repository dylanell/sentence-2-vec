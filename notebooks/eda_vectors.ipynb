{
 "cells": [
  {
   "cell_type": "markdown",
   "metadata": {},
   "source": [
    "# Max Over Time CNN"
   ]
  },
  {
   "cell_type": "markdown",
   "metadata": {},
   "source": [
    "### Setup"
   ]
  },
  {
   "cell_type": "code",
   "execution_count": 1,
   "metadata": {},
   "outputs": [
    {
     "name": "stdout",
     "output_type": "stream",
     "text": [
      "[INFO]: using cuda:0 device\n"
     ]
    }
   ],
   "source": [
    "import sys\n",
    "sys.path.append('..')\n",
    "\n",
    "import yaml\n",
    "import torch\n",
    "import numpy as np\n",
    "from sklearn.cluster import OPTICS\n",
    "from sklearn.manifold import TSNE\n",
    "from sklearn.neighbors import NearestNeighbors\n",
    "from matplotlib import pyplot as plt\n",
    "import pandas as pd\n",
    "import plotly.express as px\n",
    "import nltk\n",
    "from nltk.corpus import stopwords\n",
    "\n",
    "from datasets.qa_triplet_dataset import QATripletDataset\n",
    "from models.max_over_time_cnn import MaxOverTimeCNN\n",
    "\n",
    "with open('../config/notebook_conf.yml', 'r') as fp:\n",
    "    config = yaml.load(fp, Loader=yaml.FullLoader)\n",
    "    \n",
    "dataset = QATripletDataset(\n",
    "        config['database_file'], config['database_table'], \n",
    "        config['vocab_file'])\n",
    "\n",
    "dataloader = dataset.build_dataloader(\n",
    "    batch_size=config['batch_size'], shuffle=True)\n",
    "\n",
    "encoder = MaxOverTimeCNN(\n",
    "    len(dataset.get_vocab()), config['wordvec_dim'], config['sentvec_dim'], \n",
    "    acceleration=True)\n",
    "\n",
    "encoder.load_state_dict(torch.load(\n",
    "    '../artifacts/models/max_over_time_cnn.pt', \n",
    "    map_location=torch.device('cpu')))\n",
    "\n",
    "encoder.eval()\n",
    "\n",
    "# grab a batch and encode anchor questions to vectors\n",
    "batch = next(iter(dataloader))\n",
    "question_str = batch['anc_str']\n",
    "question_enc = encoder(batch['anc_idxs'])\n",
    "\n",
    "# detach from pytorch and convert to numpy\n",
    "question_enc = question_enc.detach().numpy()"
   ]
  },
  {
   "cell_type": "markdown",
   "metadata": {},
   "source": [
    "### Nearest Neighbor Analysis"
   ]
  },
  {
   "cell_type": "code",
   "execution_count": 2,
   "metadata": {},
   "outputs": [],
   "source": [
    "# compute nearest neighbors\n",
    "neigh = NearestNeighbors(n_neighbors=5, metric='cosine')\n",
    "nbrs = neigh.fit(question_enc)\n",
    "nn_dist, nn_idx = nbrs.kneighbors(question_enc)"
   ]
  },
  {
   "cell_type": "markdown",
   "metadata": {},
   "source": [
    "### Print Some Nearest Neighbor Groups"
   ]
  },
  {
   "cell_type": "code",
   "execution_count": 3,
   "metadata": {},
   "outputs": [
    {
     "name": "stdout",
     "output_type": "stream",
     "text": [
      "Sample:\n",
      "\tcommon pre diabet symptom\n",
      "Neighbors:\n",
      "\tdiabet foot ulcer\n",
      "\tdiabet insipidu common male femal\n",
      "\tdiabet domin recess trait\n",
      "\tuncontrol diabet lead\n",
      "\n",
      "Sample:\n",
      "\twrite school research paper diabet\n",
      "Neighbors:\n",
      "\tvitamin get rid diabet\n",
      "\tone contact american diabet associ\n",
      "\tpantyhos benefit diabet men\n",
      "\tvitamin diabet\n",
      "\n",
      "Sample:\n",
      "\trecip diabet diet\n",
      "Neighbors:\n",
      "\tdiabet nutrit includ dessert\n",
      "\tfind diabet food list\n",
      "\tpurchas copi best menu diabet diet guidelin\n",
      "\tbuy diabet cookbook\n",
      "\n",
      "Sample:\n",
      "\tdiabet mauritiu\n",
      "Neighbors:\n",
      "\tdiabet awar month\n",
      "\tdiabet effect eye sight\n",
      "\tknow might diabet\n",
      "\tdiabet gangren\n",
      "\n",
      "Sample:\n",
      "\tdiabet ill\n",
      "Neighbors:\n",
      "\tskin tent dri mucou membran associ diabet\n",
      "\tdiabet gangren\n",
      "\tten peopl diabet\n",
      "\tway detect diabet\n",
      "\n",
      "Sample:\n",
      "\tneed balanc diet\n",
      "Neighbors:\n",
      "\teat fruit veget low carb diet\n",
      "\tdaili food eat\n",
      "\tdiabet diet follow\n",
      "\tfind inform diabet snack\n",
      "\n",
      "Sample:\n",
      "\tmain caus type two diabet\n",
      "Neighbors:\n",
      "\tsymptom type one diabet\n",
      "\tmani children diagnos type one diabet everi day\n",
      "\tinfect affect bodi system\n",
      "\tone know diabet symptom\n",
      "\n",
      "Sample:\n",
      "\turin lot sign diabet\n",
      "Neighbors:\n",
      "\tmain symptom lead diabet\n",
      "\tswollen ankl symptom diabet\n",
      "\tcaus diabet frequent urin\n",
      "\twoman diabet cystic fibrosi becom pregnant\n",
      "\n",
      "Sample:\n",
      "\tdaili food eat\n",
      "Neighbors:\n",
      "\tfind inform diabet snack\n",
      "\tdiabet diet\n",
      "\tpre diabet diet\n",
      "\tdiabet diet follow\n",
      "\n",
      "Sample:\n",
      "\tcurrent treatment diabet\n",
      "Neighbors:\n",
      "\ttreatment diabet\n",
      "\tfruit diabet person eat\n",
      "\tgreat tast food diabet\n",
      "\twebsit help find diabet dtour diet\n",
      "\n"
     ]
    }
   ],
   "source": [
    "for idx in np.random.choice(len(nn_idx), size=10, replace=False):\n",
    "    sample = question_str[nn_idx[idx, 0]]\n",
    "    neighbors = [question_str[i] for i in nn_idx[idx, 1:]]\n",
    "    \n",
    "    print(f'Sample:\\n\\t{sample}')\n",
    "    print(f'Neighbors:')\n",
    "    for neighbor in neighbors:\n",
    "        print(f'\\t{neighbor}')\n",
    "    print('')"
   ]
  },
  {
   "cell_type": "markdown",
   "metadata": {},
   "source": [
    "### Plot Nearest Neighbor Ordered Distances"
   ]
  },
  {
   "cell_type": "code",
   "execution_count": 4,
   "metadata": {},
   "outputs": [
    {
     "data": {
      "text/plain": [
       "[<matplotlib.lines.Line2D at 0x7ff544a7fee0>]"
      ]
     },
     "execution_count": 4,
     "metadata": {},
     "output_type": "execute_result"
    },
    {
     "data": {
      "image/png": "[encoded data removed]",
      "text/plain": [
       "<Figure size 432x288 with 1 Axes>"
      ]
     },
     "metadata": {
      "needs_background": "light"
     },
     "output_type": "display_data"
    }
   ],
   "source": [
    "plt.plot(np.sort(nn_dist[:,1], axis=0))"
   ]
  },
  {
   "cell_type": "markdown",
   "metadata": {},
   "source": [
    "### Cluster Sentence Vectors"
   ]
  },
  {
   "cell_type": "code",
   "execution_count": 5,
   "metadata": {},
   "outputs": [
    {
     "name": "stdout",
     "output_type": "stream",
     "text": [
      "[Num. Clusters]: 5, [Perc. Non-Outliers]: 83.8\n"
     ]
    }
   ],
   "source": [
    "from sklearn.cluster import DBSCAN, OPTICS\n",
    "\n",
    "clustering = DBSCAN(eps=0.009, min_samples=10, n_jobs=-1, metric='cosine')\n",
    "labels = clustering.fit_predict(question_enc)\n",
    "\n",
    "# optics = OPTICS(min_samples=10, metric='cosine')\n",
    "# optics.fit(question_enc)\n",
    "# labels = optics.labels_\n",
    "\n",
    "num_clusters = len(np.unique(labels))\n",
    "perc_labeled = 100 * (len(labels[labels != -1]) / len(labels))\n",
    "print(f'[Num. Clusters]: {num_clusters}, [Perc. Non-Outliers]: {perc_labeled:.1f}')"
   ]
  },
  {
   "cell_type": "markdown",
   "metadata": {},
   "source": [
    "### Project Sentence Vectors"
   ]
  },
  {
   "cell_type": "code",
   "execution_count": 12,
   "metadata": {},
   "outputs": [
    {
     "data": {
      "application/vnd.plotly.v1+json": {
       "config": {
        "plotlyServerURL": "https://plot.ly"
       },
       "data": [
        {
         "customdata": [
          [
           "best type insulin syring treatment diabet"
          ],
          [
           "differ regular insulin slide scale insulin"
          ],
          [
           "exercis diabet"
          ],
          [
           "normal"
          ],
          [
           "onlin find good diabet meal plan"
          ],
          [
           "diabet control nutrilit protein powder"
          ],
          [
           "food peopl diabet type one type two avoid"
          ],
          [
           "long onset regular insulin"
          ],
          [
           "mani new case diabet"
          ],
          [
           "postal worker diabet"
          ],
          [
           "serum insulin made"
          ],
          [
           "black ant red small ant attract human urin spill floor"
          ],
          [
           "iguana get diabet"
          ],
          [
           "diabet type one type two"
          ],
          [
           "peopl diabet eat dark chocol"
          ],
          [
           "cinnamon help diabet"
          ],
          [
           "shiatsu massag cushion worth money"
          ],
          [
           "much intak sugar caus diabet"
          ],
          [
           "david letterman diabet"
          ],
          [
           "dessert diabet enjoy"
          ],
          [
           "buildup keto acid result diabet mellitu"
          ],
          [
           "know diagnos diabet"
          ],
          [
           "tobacoo harm diabet man"
          ],
          [
           "normal level triglycerid implic abnorm level"
          ],
          [
           "need diabet"
          ],
          [
           "happen eat lot sugar still low blood sugar"
          ],
          [
           "blood sugar ach mean"
          ],
          [
           "smoke cigarett caus diabet"
          ],
          [
           "diabet caus drowsi"
          ],
          [
           "inherit diabet"
          ],
          [
           "nick jona get diabet"
          ],
          [
           "one hundr forti high type two diabet"
          ],
          [
           "pantyhos benefit diabet men"
          ],
          [
           "blood sugar count mean diabet"
          ],
          [
           "insulin shot produc bright yellow urin"
          ],
          [
           "bacteria use make insulin"
          ],
          [
           "much diabet cat"
          ],
          [
           "four p diabet"
          ],
          [
           "diabet food eat"
          ],
          [
           "hormon defici caus diabet"
          ],
          [
           "type two diabet occur pregnanc"
          ],
          [
           "caus type two diabet"
          ],
          [
           "newborn get diabet"
          ],
          [
           "diabet detect symptom appear diabet mellitu"
          ],
          [
           "get rid anger im thirteen type one diabet alway seem get anybodi help"
          ],
          [
           "type two diabet diet"
          ],
          [
           "mani gram sugar ok one thousand eight hundr ada diet"
          ],
          [
           "tell sugar enter blood"
          ],
          [
           "diabet get retinopathi treatment"
          ],
          [
           "abbrevi acronym modi stand explain modi"
          ],
          [
           "main caus type two diabet"
          ],
          [
           "mani gram sugar limit daili"
          ],
          [
           "research done valerian"
          ],
          [
           "regular insulin actrapid insulin"
          ],
          [
           "condit character insulin resist fat cell"
          ],
          [
           "number one caus adult us diabet"
          ],
          [
           "find diabet food list"
          ],
          [
           "first person diabet"
          ],
          [
           "type diabet associ pregnanc"
          ],
          [
           "diabet friendli food"
          ],
          [
           "danger gestat diabet"
          ],
          [
           "swim good type two diabet"
          ],
          [
           "high level albinum diabet"
          ],
          [
           "would need use continu glucos monitor"
          ],
          [
           "gland associ diabet"
          ],
          [
           "great tast food diabet"
          ],
          [
           "erythritol bad"
          ],
          [
           "celb diabet"
          ],
          [
           "frequent urin danger"
          ],
          [
           "ever cure type one two diabet"
          ],
          [
           "factor lead heart diseas"
          ],
          [
           "food avoid diabet person"
          ],
          [
           "activ goe diabet"
          ],
          [
           "diabet hurt"
          ],
          [
           "reduc blood glucos level immedi"
          ],
          [
           "diabet seriou health issu"
          ],
          [
           "two hundr fifti seven glucos read normal"
          ],
          [
           "caus dri mouth"
          ],
          [
           "number peopl worldwid diabet increas"
          ],
          [
           "inform sugar diet found"
          ],
          [
           "sugar beer wine"
          ],
          [
           "differ insulin formul"
          ],
          [
           "diabet"
          ],
          [
           "impact gestat diabet placenta"
          ],
          [
           "bodi produc much insulin"
          ],
          [
           "hyperglycemia lead kidney failur"
          ],
          [
           "peopl pisap"
          ],
          [
           "diabet drink beer"
          ],
          [
           "medic avail oral diabet"
          ],
          [
           "diabet go blue pool iceland"
          ],
          [
           "could person die diabet"
          ],
          [
           "tell blood sugar level"
          ],
          [
           "three p diabet mellitu"
          ],
          [
           "stop diabet affect"
          ],
          [
           "pancreat dysfunct relat diabet"
          ],
          [
           "healthi tip diabet"
          ],
          [
           "diabet blood sugar level"
          ],
          [
           "normal rang blood test mpv"
          ],
          [
           "diagnosi mean"
          ],
          [
           "cell type one diabet damag"
          ],
          [
           "hot chito affect blood sugar"
          ],
          [
           "wine reduc blood glucos"
          ],
          [
           "blood sugar averag person weigh one hundr lb"
          ],
          [
           "cookbook diabet"
          ],
          [
           "fast blood sugar three hundr danger"
          ],
          [
           "pyorrhea link diabet type one"
          ],
          [
           "symptom determin borderlin diabet"
          ],
          [
           "benefit use diabet test equip"
          ],
          [
           "haemoglobin test sugar test"
          ],
          [
           "know diabiti"
          ],
          [
           "would happen ate insulin tast"
          ],
          [
           "diabet eat sugar"
          ],
          [
           "caus arm ach"
          ],
          [
           "radish lower blood sugar"
          ],
          [
           "symptom type one diabet"
          ],
          [
           "side effect associ use arnica"
          ],
          [
           "anabol agent caus diabet"
          ],
          [
           "okay diabet eat chees"
          ],
          [
           "ingredi avoid make diabet cooki recip"
          ],
          [
           "blood glucos lost diabet mellitu"
          ],
          [
           "best natur diabet treatment"
          ],
          [
           "take sixti five unit day insulin mani day vial last lantu beadtim"
          ],
          [
           "test use diagnosi diabet mellitu"
          ],
          [
           "name someth happen eat much sugar"
          ],
          [
           "give insulin tuberculin syring"
          ],
          [
           "diabet test suppli mail"
          ],
          [
           "age diabet insipidu usual occur"
          ],
          [
           "mani mg insulin equal one unit insulin"
          ],
          [
           "one hundr seventi read food diabet"
          ],
          [
           "diabet color red tattoo"
          ],
          [
           "best way type capit sentenc"
          ],
          [
           "okay hit diabet"
          ],
          [
           "diabet fli delta"
          ],
          [
           "liquor best diabet"
          ],
          [
           "consid low glucos level"
          ],
          [
           "diet exercis help revers diabet"
          ],
          [
           "type one diabet becom insulin resist"
          ],
          [
           "involv treatment diabet"
          ],
          [
           "salt tablet lower blood sugar"
          ],
          [
           "normal blood sodium level"
          ],
          [
           "nausea relat chronic"
          ],
          [
           "yogurt good diabet"
          ],
          [
           "list five non communic communic diseas"
          ],
          [
           "get exampl diabet food"
          ],
          [
           "seventi seven normal blood sugar level eaten five hour extrem shaki dizzi irrit"
          ],
          [
           "diabet mellitu caus lack hormon"
          ],
          [
           "releas blood sugar level high"
          ],
          [
           "chang diet take slim fast"
          ],
          [
           "find free diabet diet book"
          ],
          [
           "earli warn sign diabet"
          ],
          [
           "ibsulin"
          ],
          [
           "give chocol person sugar five hundr eighti nine"
          ],
          [
           "symptom caus diabet treatment"
          ],
          [
           "happen eat lot sugar"
          ],
          [
           "good desert diabet"
          ],
          [
           "get type three diabet"
          ],
          [
           "type one diabet"
          ],
          [
           "scientist make educ guess diabet caus genet factor guess exampl"
          ],
          [
           "stage level becom diabet"
          ],
          [
           "treatment diabet"
          ],
          [
           "vitamin diabet"
          ],
          [
           "regul blood glucos level"
          ],
          [
           "dog diabet"
          ],
          [
           "rais glucos level mean diabet"
          ],
          [
           "find recip free diabet diet"
          ],
          [
           "diabet eat cake"
          ],
          [
           "therapeut intervent type one diabet"
          ],
          [
           "group oliv assign food exchang list"
          ],
          [
           "diabet menu"
          ],
          [
           "orang make blood sugar level rais"
          ],
          [
           "best bread eat"
          ],
          [
           "might caus unexplain weight gain fatigu"
          ],
          [
           "diabet cat"
          ],
          [
           "incid type one diabet"
          ],
          [
           "join airforc diabet"
          ],
          [
           "diabet use steam room"
          ],
          [
           "cocain affect blood sugar"
          ],
          [
           "get light head sugar diabet"
          ],
          [
           "organ bodi function properli diabet"
          ],
          [
           "two way diabet control"
          ],
          [
           "diabet meal plan servic"
          ],
          [
           "one follow choic best way control type ii diabet"
          ],
          [
           "child diabet develop sign hypoglycemia given"
          ],
          [
           "effect posit commun recoveri diabet patient pgh"
          ],
          [
           "plant use energi store glucos"
          ],
          [
           "diabet domin recess trait"
          ],
          [
           "diabet diet food list"
          ],
          [
           "get diabet girlfriend valentin day"
          ],
          [
           "prevent type two diabet"
          ],
          [
           "diabet somogyi phenomenon"
          ],
          [
           "diabet ill"
          ],
          [
           "insulin bruis becom bad drop bottl dog insulin still good"
          ],
          [
           "mani american diabet report"
          ],
          [
           "delici diabet carrot cake"
          ],
          [
           "diabet gastroparesi"
          ],
          [
           "type two diabet impact bodi extend period time"
          ],
          [
           "diabet foot ulcer"
          ],
          [
           "eat lunch dinner okay ham diabet"
          ],
          [
           "blood sugar low"
          ],
          [
           "mani peopl die diabet type one everyday"
          ],
          [
           "mode transmiss diabet mellitu"
          ],
          [
           "banana bad type two diabet"
          ],
          [
           "start american diabet associ"
          ],
          [
           "find good nutrit"
          ],
          [
           "get diabet life"
          ],
          [
           "hunger symptom diabet"
          ],
          [
           "lab test use rule diabet"
          ],
          [
           "would name program diabet care india specif"
          ],
          [
           "good recip diabet use make carrot cake"
          ],
          [
           "hire diabet meal planner"
          ],
          [
           "side effect insulin resist"
          ],
          [
           "three way prevent seriou ill heart diseas cancer diabet stroke"
          ],
          [
           "one find inform concern diabet diet"
          ],
          [
           "diet plan use type one type two diabet"
          ],
          [
           "diabet caus peripher neuropathi"
          ],
          [
           "one treat juvenil diabet"
          ],
          [
           "swollen ankl symptom diabet"
          ],
          [
           "problem tingl feet alway cold cotton mouth often urin could diabet anxieti disord"
          ],
          [
           "would someon subscrib magazin diabet care"
          ],
          [
           "insulin resist prevent"
          ],
          [
           "one hundr forti bad blood sugar read morn"
          ],
          [
           "get insulin"
          ],
          [
           "diff diabet one two"
          ],
          [
           "diabet recip cake"
          ],
          [
           "food high sugar"
          ],
          [
           "go onlin find inform diabet recip"
          ],
          [
           "level glucos cat"
          ],
          [
           "type food bad diabet"
          ],
          [
           "appl rais blood glucos"
          ],
          [
           "diabet medic caus anaemia"
          ],
          [
           "best way treat diabet without take drug"
          ],
          [
           "rule garden diabet"
          ],
          [
           "insulin pump cover high glucos level right"
          ],
          [
           "normal valu pu cell urin"
          ],
          [
           "diabet best stay away form starchi food eat"
          ],
          [
           "inject insulin muscl"
          ],
          [
           "remov appendix draw blood blood test drug test also"
          ],
          [
           "ohio medicaid cover gastric bypass surgeri"
          ],
          [
           "pete wentz diabet"
          ],
          [
           "part human bodi effect diabet type one"
          ],
          [
           "omnicef rare prescrib diabet"
          ],
          [
           "good diabet patient"
          ],
          [
           "inject wrong insulin"
          ],
          [
           "rais blood sugar"
          ],
          [
           "mani diseas human bodi"
          ],
          [
           "cdl driver florida still drive diabet use insulin"
          ],
          [
           "caus diabet frequent urin"
          ],
          [
           "horomon diabet mellitu affect"
          ],
          [
           "diabet australia third oldest diabet associ world follow countri"
          ],
          [
           "one medic must use type one diabet"
          ],
          [
           "eat orang rais blood sugar"
          ],
          [
           "type one diabet drink energi drink insulin depend person"
          ],
          [
           "number normal blood sugar level"
          ],
          [
           "whole food store sell healthi food diabet"
          ],
          [
           "diabet abnorm"
          ],
          [
           "type food list diabet type non diabet food buy"
          ],
          [
           "canadian scientist insulin"
          ],
          [
           "safe diabet work alon"
          ],
          [
           "use tuberculin syring instead insulin much insulin draw"
          ],
          [
           "kind treatment diabet eye problem"
          ],
          [
           "normal blood sugar level"
          ],
          [
           "insulin travel bodi"
          ],
          [
           "skin tent dri mucou membran associ diabet"
          ],
          [
           "purchas copi best menu diabet diet guidelin"
          ],
          [
           "confection sugar use diabet cooki"
          ],
          [
           "food lower high blood sugar quickli"
          ],
          [
           "diabet nephropathi"
          ],
          [
           "get dla child diabet insipidu"
          ],
          [
           "list food yeast"
          ],
          [
           "one purchas shoe diabet"
          ],
          [
           "diabet nutrit includ dessert"
          ],
          [
           "glycosuria failur"
          ],
          [
           "inject insulin"
          ],
          [
           "possibl genotyp parent diabet"
          ],
          [
           "expens diabet test strip"
          ],
          [
           "happen person blood sugar level soon eat meal contain carbohydr"
          ],
          [
           "christma cooki recip diabet"
          ],
          [
           "find recip sugar free dessert"
          ],
          [
           "eat peanut gestat diabet"
          ],
          [
           "bad low blood sugar level"
          ],
          [
           "best diabet medic"
          ],
          [
           "glycem index number mean"
          ],
          [
           "food bought poor rich person caus diabet"
          ],
          [
           "pancreat hormon function lower blood glucos level"
          ],
          [
           "fuction american diabet associ"
          ],
          [
           "diabet effect pregnanc"
          ],
          [
           "expect outcom patient type one type two diabet"
          ],
          [
           "tip diabet manag"
          ],
          [
           "best time check blood sugar read"
          ],
          [
           "use dna technolog help treat diabet"
          ],
          [
           "person drive unit state diabet"
          ],
          [
           "type genet disord diabet"
          ],
          [
           "take viagra type two diabet"
          ],
          [
           "take aspirin diabet"
          ],
          [
           "earli sign diabet peopl tend miss"
          ],
          [
           "happen blood sugar get high diabet"
          ],
          [
           "symptom diabet insteadof rise blood sugar"
          ],
          [
           "test diabet without go doctor buy test strip"
          ],
          [
           "type crystal urin might present diabet mellitu"
          ],
          [
           "nation guard kick diabet"
          ],
          [
           "diabet diet chart"
          ],
          [
           "sixti two year old diabet black man swollen left leg area blanch blue mottl"
          ],
          [
           "food carri healthi diabet nurtrit"
          ],
          [
           "name black actress diabet care club"
          ],
          [
           "anim turn diabet"
          ],
          [
           "best food eat diabet avoid"
          ],
          [
           "mani calori diabet day"
          ],
          [
           "laboratori procedur made possibl te develop bacteria synthes human insulin"
          ],
          [
           "differ diabet diabet mellitu"
          ],
          [
           "diabet affect fertil"
          ],
          [
           "organ unabl take glucos diabet mellitu"
          ],
          [
           "two hundr nineti seven blood sugar mean"
          ],
          [
           "herbalif formula one much sugar"
          ],
          [
           "diabet religion"
          ],
          [
           "diabet caus sweat"
          ],
          [
           "think husband cheat station japan biloxi ms would like know privat investig assist much would cost"
          ],
          [
           "use glucos recip call liquid glucos"
          ],
          [
           "relat hypokalemia diabet melitu"
          ],
          [
           "diabet awar month"
          ],
          [
           "husband diabet fast take med morn say take food"
          ],
          [
           "sign symptom diabet"
          ],
          [
           "increas risk diabet face"
          ],
          [
           "way help control blood sugar level"
          ],
          [
           "coutri diabet common"
          ],
          [
           "ball tingl"
          ],
          [
           "diabet develop bad temper"
          ],
          [
           "insulin taken oral type two diabet"
          ],
          [
           "synthroid rais blood sugar level"
          ],
          [
           "food fluid correct diabet emerg"
          ],
          [
           "diabet drink"
          ],
          [
           "use insulin"
          ],
          [
           "high level blood sugar bad"
          ],
          [
           "eyesight return retinopathi"
          ],
          [
           "type microb diabet"
          ],
          [
           "cinnamon cure diabet"
          ],
          [
           "diabet call diabet mellitu"
          ],
          [
           "candi diet type two diabet"
          ],
          [
           "use hemoglucotest"
          ],
          [
           "substanc increas urin untreat diabet"
          ],
          [
           "normal glucos level forti year old male"
          ],
          [
           "diabet test strip univers"
          ],
          [
           "true nick diabet"
          ],
          [
           "much emerg stash diabet suppli keep hand"
          ],
          [
           "im extrem tire time irrit feel dehydr im extrem thirsti pee lot symptom happen diabet seee doctor"
          ],
          [
           "dextrin caus sharp spike blood sugar level"
          ],
          [
           "children diabet cope school"
          ],
          [
           "arm ach elbow"
          ],
          [
           "date good diabet patient"
          ],
          [
           "frequent urin patient diabet elimin excess"
          ],
          [
           "bodi trembl diabet"
          ],
          [
           "buy diabet"
          ],
          [
           "diabet diet recip benefici"
          ],
          [
           "symptom type two diabet"
          ],
          [
           "tv caus diabet"
          ],
          [
           "old nick got diabet"
          ],
          [
           "worri friend fat famili diabet except tri help lose weight watch eat sport dosent listen"
          ],
          [
           "kill faster diabet lung cancer"
          ],
          [
           "sugar frost flake caus diabet"
          ],
          [
           "miley breack nick diabet"
          ],
          [
           "blood sugar two hr eat diabet"
          ],
          [
           "nineti seven one hundr ten blood sugar level within normal rang diabet"
          ],
          [
           "scientist make educ guess diabet caus genet factor guess exampl"
          ],
          [
           "kind diabet jacki robinson"
          ],
          [
           "food diabet avoid"
          ],
          [
           "import aspect treatment diabet mellitu"
          ],
          [
           "insulin founder"
          ],
          [
           "diabet take flu vaccin"
          ],
          [
           "blood sugar went eighti six one hundr seventi eight one hundr sixti eight shot fifti four normal"
          ],
          [
           "know might diabet"
          ],
          [
           "test use aid diagnos diabet"
          ],
          [
           "youngest age diagnos diabet"
          ],
          [
           "diabet eat stawberri"
          ],
          [
           "normal protein level blood"
          ],
          [
           "diabet mean high blood sugar"
          ],
          [
           "diabet physic disord"
          ],
          [
           "type sugar blood sugar"
          ],
          [
           "good thesi statement diabet type one"
          ],
          [
           "diet help treat diabet obes"
          ],
          [
           "parent say futur girlfriend futur diabet would"
          ],
          [
           "caus sore heal"
          ],
          [
           "gene affect type one diabet"
          ],
          [
           "doctor weight loss plan"
          ],
          [
           "write school research paper diabet"
          ],
          [
           "five fact diabet"
          ],
          [
           "individu get diabet"
          ],
          [
           "nutrisystem diabet diet harm diabet"
          ],
          [
           "herb known lower blood sugar"
          ],
          [
           "food low sugar"
          ],
          [
           "occur bodi type ii diabet"
          ],
          [
           "dietari supplement taken help reduc diabet"
          ],
          [
           "diabet make urin smell"
          ],
          [
           "would doctor suggest check patient blood sugar level"
          ],
          [
           "good diabet"
          ],
          [
           "type food diabet meant eat"
          ],
          [
           "diabet food avoid"
          ],
          [
           "resourc option creat diabet menu"
          ],
          [
           "preval diabet mellitu philippin"
          ],
          [
           "could whiskey soft drink rais blood sugar level"
          ],
          [
           "diabet eat carb"
          ],
          [
           "diabet cure without medicin"
          ],
          [
           "pediatr diabet creat"
          ],
          [
           "diabet skinni"
          ],
          [
           "one avoid adult onset diabet"
          ],
          [
           "peopl form diseas diabet treat inject"
          ],
          [
           "diabet eat bean"
          ],
          [
           "releas blood sugar level fall"
          ],
          [
           "mix long short insulin draw first"
          ],
          [
           "role diet exercis control hypertens diabet"
          ],
          [
           "type diet recommend type two diabet"
          ],
          [
           "signific diabet weight loss person diet tri lose weight"
          ],
          [
           "mani peanut diabet"
          ],
          [
           "join cheerlead diabet"
          ],
          [
           "diabet gangren"
          ],
          [
           "precaut take run diabet"
          ],
          [
           "passion fruit cure diabet"
          ],
          [
           "happen blood ph blood sugar level rise insulin present"
          ],
          [
           "person know diabet"
          ],
          [
           "current treatment diabet"
          ],
          [
           "medic term mean high blood sugar"
          ],
          [
           "diabet get addict medicin"
          ],
          [
           "pre diabet diet"
          ],
          [
           "find onlin cookbook diabet"
          ],
          [
           "could one find list food suitabl diabet"
          ],
          [
           "thing diabet cooki recip"
          ],
          [
           "must monitor individu diabet"
          ],
          [
           "correct dose insulin take blood sugar level seventeen point zero pre meal measur"
          ],
          [
           "macromolecul insulin"
          ],
          [
           "die diabet pregnant"
          ],
          [
           "normal blood sugar level woman thirti"
          ],
          [
           "allow sugar intak day diabet"
          ],
          [
           "simpl diet plan incorpor diabet"
          ],
          [
           "diabet cake recip allrecipescom"
          ],
          [
           "malt drink ok diabet"
          ],
          [
           "symptom diabet ulcer"
          ],
          [
           "pediatr diabeti"
          ],
          [
           "classic symptom diabet"
          ],
          [
           "diabet eat molass rich juic"
          ],
          [
           "diabet manag"
          ],
          [
           "urin lot sign diabet"
          ],
          [
           "chemic releas ketosi"
          ],
          [
           "reason koch abdomen"
          ],
          [
           "treat inject genet engin insulin"
          ],
          [
           "give insulin"
          ],
          [
           "caus hand cramp"
          ],
          [
           "caus type one diabet"
          ],
          [
           "insulin invent"
          ],
          [
           "get diabet consum blood someon diabet"
          ],
          [
           "diseas relat lack insulin product"
          ],
          [
           "blood test use patient diabet measur averag blood glucos level previou three four month"
          ],
          [
           "best insulin pen avail market"
          ],
          [
           "jona brother free ticket diabet"
          ],
          [
           "diabet develop"
          ],
          [
           "tissu insulin depend"
          ],
          [
           "eat inject human insulin"
          ],
          [
           "type diabet mellitu insulin resist disord gestat type one type two"
          ],
          [
           "low blood glucos level caus weight loss"
          ],
          [
           "someon diabet nephropathi without diabeti"
          ],
          [
           "someon take pill diabet use urin therapi"
          ],
          [
           "older diabet find reason price life insur polici"
          ],
          [
           "actress diabet test strip commerci"
          ],
          [
           "diabet affect peopl"
          ],
          [
           "test find diseas human bodi"
          ],
          [
           "diabet treatment requir convent medicin"
          ],
          [
           "rash repeat sign diabet"
          ],
          [
           "diabeet"
          ],
          [
           "good food diabet"
          ],
          [
           "differ type diabet"
          ],
          [
           "diabet treat psychic heal"
          ],
          [
           "diabet sore heal slower"
          ],
          [
           "realli good chile recip desert"
          ],
          [
           "condit make urin tasteless"
          ],
          [
           "found treatment diabet"
          ],
          [
           "rub alcohol caus cancer"
          ],
          [
           "test test perform confirm diagnosi diabet mellitu aid diagnos hypoglycemia"
          ],
          [
           "chanc diabet babi born parent heterozyg normal"
          ],
          [
           "much sugar date"
          ],
          [
           "normal valu random blood sugar"
          ],
          [
           "safe diabet bypass surgeri"
          ],
          [
           "inventor insulin"
          ],
          [
           "diabet run jona famili"
          ],
          [
           "safe legal way travel insulin inject equip sharp"
          ],
          [
           "caus ashi dermatosi"
          ],
          [
           "insulin use fraction urin coverag"
          ],
          [
           "diabet take clonazepam"
          ],
          [
           "jelli bean suitabl peopl diabet"
          ],
          [
           "hormon make blood glucos increas"
          ],
          [
           "cancer curabl"
          ],
          [
           "caus diabet environment hereditari"
          ],
          [
           "high concentr homocystein blood associ develop"
          ],
          [
           "sign seek diabet test"
          ],
          [
           "diseas bodi produc properli use insulin"
          ],
          [
           "fresh fruit veggi limit diabet"
          ],
          [
           "diabet sugar alcohol"
          ],
          [
           "gamer fat"
          ],
          [
           "sweet substanc use diet diabet slimmer"
          ],
          [
           "job diabet get"
          ],
          [
           "peopl get diabet diet plan"
          ],
          [
           "eat fruit veget low carb diet"
          ],
          [
           "scrub episod turk discov diabet"
          ],
          [
           "easi dessert recip diabet"
          ],
          [
           "choos food diabet"
          ],
          [
           "diabet mental ill physic ill"
          ],
          [
           "normal depakot blood level"
          ],
          [
           "food poison affect diabet"
          ],
          [
           "insulin make glucos"
          ],
          [
           "glucomet aviva error"
          ],
          [
           "insulin human growth hormon two exampl product produc"
          ],
          [
           "know diabet"
          ],
          [
           "type devic use check blood sugar"
          ],
          [
           "recip diabet diet"
          ],
          [
           "right consumpt everi kind process food"
          ],
          [
           "know type two diabet"
          ],
          [
           "happen hospit diabet"
          ],
          [
           "diabet peopl eat margarin"
          ],
          [
           "may diabet becom thin feel weak"
          ],
          [
           "happen someon type one diabet go long without insulin shot"
          ],
          [
           "find good sugar diabet diet"
          ],
          [
           "happen diabet treatment"
          ],
          [
           "diabet medicin caus drowsi"
          ],
          [
           "brandi bad diabet patient"
          ],
          [
           "import diagnos diabet earli"
          ],
          [
           "diabet cure diet exercis"
          ],
          [
           "diabet nutrit"
          ],
          [
           "caus prevent diabet"
          ],
          [
           "tell bodi much sugar"
          ],
          [
           "indonesian herb use treat diabet"
          ],
          [
           "know type one diabet"
          ],
          [
           "dri mouth alway thirsti diabet"
          ],
          [
           "nick jona develop diabet"
          ],
          [
           "diabet shoe purchas singapor"
          ],
          [
           "type two diabet diagnos"
          ],
          [
           "hormon secret pancreat islet respons low blood sugar"
          ],
          [
           "symptom hyperglycemia"
          ],
          [
           "advers affect scuba dive diabet"
          ],
          [
           "uncontrol diabet effect mental statu"
          ],
          [
           "treatment medic diabet"
          ],
          [
           "diabet contribut cvd"
          ],
          [
           "natur food reduc diabet"
          ],
          [
           "diabet drink beer"
          ],
          [
           "lipotroph diabet"
          ],
          [
           "nick jona ever diabet"
          ],
          [
           "find meal plan someon diabet"
          ],
          [
           "diabet symptom sign"
          ],
          [
           "mitchel musso diabet"
          ],
          [
           "much money certifi diabet educ earn"
          ],
          [
           "might find menu diabet diet use food prepar easili home"
          ],
          [
           "part endocrin system regul blood glucos level"
          ],
          [
           "blood glucos high azithromycin"
          ],
          [
           "get rid type two diabet"
          ],
          [
           "diabet take vitamin b complex"
          ],
          [
           "frequent night time urin symptom type two diabet"
          ],
          [
           "broccoli bad diabet"
          ],
          [
           "three clinic sign insulin defici"
          ],
          [
           "much sugar averag bottl cheap wine supermarket beer head toward diabet type two high blood glucos alcohol drink safe"
          ],
          [
           "caus diabet type one"
          ],
          [
           "cat diabet eat die"
          ],
          [
           "type diabet thoma edison"
          ],
          [
           "treatment diabet neuropathi"
          ],
          [
           "depend diabet mellitu caus chronic renal failur"
          ],
          [
           "five food carb"
          ],
          [
           "blood glucos level four point three normal sixteen year old"
          ],
          [
           "diabet need pay insulin prescript"
          ],
          [
           "sugar doctor diabet doctor"
          ],
          [
           "lower risk get diabet"
          ],
          [
           "differ diabet coma insulin reaction"
          ],
          [
           "normal rang blood gluclos test"
          ],
          [
           "common effect diabet diabet"
          ],
          [
           "averag output urin teenag day"
          ],
          [
           "diabet diagnos singl finger prick blood sugar"
          ],
          [
           "diabet get insulin"
          ],
          [
           "diabet patent use honey warm milk"
          ],
          [
           "best fruit diabet patient"
          ],
          [
           "brittl diabet treat"
          ],
          [
           "insulin need refrigir"
          ],
          [
           "advantag use bacteria contain human insulin gene produc insulin"
          ],
          [
           "orang rais blood sugar"
          ],
          [
           "buy diabet product pharmaci"
          ],
          [
           "gestat diabet syzgumj medicin mother tinctur safe pregnanc"
          ],
          [
           "disney cancel hannah montana diabet episod"
          ],
          [
           "easi stick diet diabet"
          ],
          [
           "happen drink bit insulin"
          ],
          [
           "glucos level high glucosuria"
          ],
          [
           "consid diabet eat"
          ],
          [
           "insulin help control diabet"
          ],
          [
           "diabet man impregn woman"
          ],
          [
           "world diabet day celebr"
          ],
          [
           "take diabet medic"
          ],
          [
           "treat cure diabet"
          ],
          [
           "sampl menu diabet recip"
          ],
          [
           "type three diabet"
          ],
          [
           "natur way cure blood sugar level"
          ],
          [
           "caus frequent urin men"
          ],
          [
           "slim fast good item diabet"
          ],
          [
           "type two diabet develop"
          ],
          [
           "uncommon symptom diabet"
          ],
          [
           "much sugar seven"
          ],
          [
           "mani peopl uk diabet"
          ],
          [
           "diabet instruct alway carri form carbohydr case emerg"
          ],
          [
           "good dessert recip diabet"
          ],
          [
           "averag blood sugar past three week measur test"
          ],
          [
           "bodi part produc insulin cell use sugar"
          ],
          [
           "diabet one common diabet two"
          ],
          [
           "salad lower blood sugar"
          ],
          [
           "dehydr diabet"
          ],
          [
           "symptom diabet mellitu"
          ],
          [
           "build lactic acid pain"
          ],
          [
           "vitamin allow diabet patient"
          ],
          [
           "organ produc enzym insulin"
          ],
          [
           "normal rang blood glucos"
          ],
          [
           "tell sugar remov blood"
          ],
          [
           "highest blood sugar"
          ],
          [
           "latest nutrit guid diabet"
          ],
          [
           "diabet eye"
          ],
          [
           "eat lot sugar day glucos test affect result"
          ],
          [
           "eat bring blood sugar"
          ],
          [
           "find inform diabet snack"
          ],
          [
           "kind pasta diabet person eat"
          ],
          [
           "im borderlin diabet eat cake might consequ"
          ],
          [
           "human get diabet"
          ],
          [
           "come get diabet mellitu"
          ],
          [
           "cinnamon help control blood sugar"
          ],
          [
           "food may tast sweet littl glucos"
          ],
          [
           "good diet someon suffer diabet nephropathi"
          ],
          [
           "quickli hypoglycemia occur receiv nph insulin"
          ],
          [
           "diabet lead organ psychos"
          ],
          [
           "person diabet diabet surgeri surgeri"
          ],
          [
           "caus red blood cell count decreas"
          ],
          [
           "one reason administ glucos test"
          ],
          [
           "diabet inherit"
          ],
          [
           "diabet movi isteel magnolia"
          ],
          [
           "averag life expect person diabet"
          ],
          [
           "product much insulin typic"
          ],
          [
           "find free diabet recip"
          ],
          [
           "mean blood sugar chart"
          ],
          [
           "normal blood sugar type one diabet"
          ],
          [
           "pre diabet make like get gestat diabet"
          ],
          [
           "full form grb"
          ],
          [
           "medic reason femal abort"
          ],
          [
           "one buy diabet support sock"
          ],
          [
           "glucos level"
          ],
          [
           "system diabet"
          ],
          [
           "get rid belli thigh fat still type one diabet"
          ],
          [
           "coupon one touch ultra two meter"
          ],
          [
           "ten peopl diabet"
          ],
          [
           "first human found"
          ],
          [
           "diabet affect daili life"
          ],
          [
           "get cdl colorado diabet"
          ],
          [
           "diabet amount carb eat per day"
          ],
          [
           "smoke affect someon type two diabet"
          ],
          [
           "mani diabet world"
          ],
          [
           "diabet caus due malfunct"
          ],
          [
           "check dog blood sugar"
          ],
          [
           "see doctor diabet neuropathi"
          ],
          [
           "food healthi appeal diabet"
          ],
          [
           "symptom diabet"
          ],
          [
           "specif type one diabet diet"
          ],
          [
           "food avoid diabet food benefici health"
          ],
          [
           "predispos factor diabet mellitu"
          ],
          [
           "diabet affect endocrin system"
          ],
          [
           "system affect diabet"
          ],
          [
           "gland produc glucagon"
          ],
          [
           "one find info diet diabet"
          ],
          [
           "treat diabet mellitu"
          ],
          [
           "diabet usual develop adolesc thought caus inherit predisposit pancrea problem"
          ],
          [
           "peopl diabet"
          ],
          [
           "right take oral antidiabet drug like metformin take lantu"
          ],
          [
           "tradjenta"
          ],
          [
           "symptom diabet"
          ],
          [
           "diabet exercis"
          ],
          [
           "diabet millitu"
          ],
          [
           "insulin legal illeg"
          ],
          [
           "diabet insipidu common male femal"
          ],
          [
           "optimum arous sport"
          ],
          [
           "keep insulin pump work"
          ],
          [
           "one contact american diabet associ"
          ],
          [
           "pain back right shoulder blade get wors night lay"
          ],
          [
           "diabet mauritiu"
          ],
          [
           "diabet affect result blood alcohol test"
          ],
          [
           "starch good diabet peopl"
          ],
          [
           "simpl recip found diabet menu"
          ],
          [
           "would person ketoacidosi follow heavi breath polydipsia tachycardia"
          ],
          [
           "long take insulin bring type one diabet"
          ],
          [
           "first person get diabet"
          ],
          [
           "veget diabet eat"
          ],
          [
           "blood sugar five hundr seventi five type insulin"
          ],
          [
           "normal blood sugar level"
          ],
          [
           "requir diabet wear medic alert bracelet"
          ],
          [
           "glucos startch relat"
          ],
          [
           "high glucomet read blood sugar"
          ],
          [
           "cure diabet"
          ],
          [
           "diabet type ii get angri mean forti three year marriag split"
          ],
          [
           "type two diabet caus lifestyl bacteria"
          ],
          [
           "diabet recip web"
          ],
          [
           "list slang colloqui word diabet"
          ],
          [
           "known reason caus diabet"
          ],
          [
           "cold feet relat diabet"
          ],
          [
           "happen take insulin diabet"
          ],
          [
           "diseas requir patient receiv regular insulin inject"
          ],
          [
           "emot effect diabet"
          ],
          [
           "type food need add diet diabet"
          ],
          [
           "hear loss relat diabet"
          ],
          [
           "allow eat drink one sugar diabet"
          ],
          [
           "happen non diabet take insulin"
          ],
          [
           "top brand diabet suppli"
          ],
          [
           "sugar conent banana"
          ],
          [
           "cure diabet"
          ],
          [
           "diabet blood sugar level"
          ],
          [
           "sign look get test diabet"
          ],
          [
           "diabet consult"
          ],
          [
           "diabet feel hungri time"
          ],
          [
           "produc insulin bodi"
          ],
          [
           "te ideal diet diabet patient"
          ],
          [
           "infect affect bodi system"
          ],
          [
           "peopl twenti diabet"
          ],
          [
           "two type diabet"
          ],
          [
           "lexapro rais blood sugar level"
          ],
          [
           "age diabet start"
          ],
          [
           "much apparatu blood sugar test"
          ],
          [
           "person urin frequent diabet"
          ],
          [
           "symptom diabet type ii"
          ],
          [
           "could gain indic whether diabet"
          ],
          [
           "differenti diagnosi retinopathi prematur"
          ],
          [
           "caus extrem bodi odor"
          ],
          [
           "insulin depand dibiti curabl"
          ],
          [
           "diabet eat peanut"
          ],
          [
           "educ requir diabet health counselor"
          ],
          [
           "differ novolog insulin novolin insulin type one diabet"
          ],
          [
           "chees eat diabet"
          ],
          [
           "caus hand fall asleep"
          ],
          [
           "durat diabet coma"
          ],
          [
           "cure diabet"
          ],
          [
           "maintain blood sugar level"
          ],
          [
           "fruit contain sugar bad diabet patient"
          ],
          [
           "salt elev diabet blood sugar level"
          ],
          [
           "diabet eat fruit"
          ],
          [
           "differ insulin blood sugar"
          ],
          [
           "diabet meter use"
          ],
          [
           "way detect diabet"
          ],
          [
           "fructos better granul sugar diabet"
          ],
          [
           "diabet"
          ],
          [
           "diabet top part foot cut use manual wheelchair handl"
          ],
          [
           "symptom diabet may effect health long term"
          ],
          [
           "miner help bodi maintain normal blood sugar level"
          ],
          [
           "diabet alcohol consumpt"
          ],
          [
           "find food diabet avoid"
          ],
          [
           "good diet plan diabet"
          ],
          [
           "children diabet"
          ],
          [
           "caus lack water"
          ],
          [
           "gestat diabet differ type diabet"
          ],
          [
           "happen get diabet"
          ],
          [
           "treat diabet type one"
          ],
          [
           "buy one touch surestep machin"
          ],
          [
           "diabet take hgh"
          ],
          [
           "good overweight"
          ],
          [
           "mani peopl expect develop diabet america"
          ],
          [
           "bodi keep blood sugar level around seventi one hundr ten"
          ],
          [
           "bird seed good diabet"
          ],
          [
           "fruit diabet person eat"
          ],
          [
           "need balanc diet"
          ],
          [
           "import solut remov diabet patient"
          ],
          [
           "compani offer free diabet test suppli"
          ],
          [
           "inform type one diabet"
          ],
          [
           "experienc twitch forefing thumb left hand sever week pain irrit could caus happen"
          ],
          [
           "diabet affect result breathalyz"
          ],
          [
           "diabet eat prawn"
          ],
          [
           "common pre diabet symptom"
          ],
          [
           "die diabet"
          ],
          [
           "good diabet dessert recip"
          ],
          [
           "type three diabet"
          ],
          [
           "diet diabet"
          ],
          [
           "type sugar found blood"
          ],
          [
           "organ control blood sugar"
          ],
          [
           "blood sugar high one hundr nineti three right lunch"
          ],
          [
           "use insulin syring"
          ],
          [
           "mani children diagnos type one diabet everi day"
          ],
          [
           "diabet insulin made pig cow human bacteria"
          ],
          [
           "hormon control suppli sugar blood muscl"
          ],
          [
           "kid love sugar"
          ],
          [
           "caus aceton breath seen type one diabet"
          ],
          [
           "main symptom lead diabet"
          ],
          [
           "definit diabet type one"
          ],
          [
           "diabet build callou feet"
          ],
          [
           "nick jona ever throw blood diabet"
          ],
          [
           "uncontrol diabet lead"
          ],
          [
           "patient suffer noninsulin depend diabet mellitu develop hypoglycemia"
          ],
          [
           "first insulin inject given"
          ],
          [
           "diabet treatabl"
          ],
          [
           "three hundr seven pop carb"
          ],
          [
           "mcdonald hurt kid diabet"
          ],
          [
           "insulin"
          ],
          [
           "snack still diabet mellitu"
          ],
          [
           "woman diabet cystic fibrosi becom pregnant"
          ],
          [
           "differ hiv aid diabet type two"
          ],
          [
           "normal blood sugar level eat"
          ],
          [
           "sit cross leg long time caus leg fall asleep"
          ],
          [
           "diabet pass uti"
          ],
          [
           "would suffer hypoglycemia get low blood glucos level excess insulin action"
          ],
          [
           "lower blood sugar quickli type two diabet monitor blood sugar twice day know low take barley sugar sweet feel fine"
          ],
          [
           "need comma sentenc vascular diseas secondari diabet small vessel diseas"
          ],
          [
           "healthiest sweetest diabet pound cake recip"
          ],
          [
           "cure diabet"
          ],
          [
           "mani gram sugar day diebet"
          ],
          [
           "best diet type two diabet"
          ],
          [
           "evapor cane juic right diabet"
          ],
          [
           "peopol suffer diabet"
          ],
          [
           "prevent diabet two"
          ],
          [
           "anti diabet plant"
          ],
          [
           "buy diabet cookbook"
          ],
          [
           "daili food eat"
          ],
          [
           "hormon releas blood sugar rise"
          ],
          [
           "medic type one diabet take"
          ],
          [
           "walk effect diabet patient"
          ],
          [
           "symptom distinguish type type ii diabet"
          ],
          [
           "diabet type one"
          ],
          [
           "liver diseas heal self person stop drink"
          ],
          [
           "iv fluid need diabet patient"
          ],
          [
           "eat lot consid type behavior"
          ],
          [
           "doctor ask diabet patient eye foot exam"
          ],
          [
           "diabet meal plan"
          ],
          [
           "give long act insulin low blood sugar level"
          ],
          [
           "effect carb diet diabet"
          ],
          [
           "surviv rate tripl bypass surgeri fifti five year old man diabet"
          ],
          [
           "tissu insulin depend"
          ],
          [
           "glucosamin safe diabet patient"
          ],
          [
           "sign diabet ketoacidosi appear"
          ],
          [
           "friend suffer acut liver shutdown kidney fail live long enough hope liver transplant"
          ],
          [
           "peopl type one diabet children"
          ],
          [
           "get type one two diabet"
          ],
          [
           "differ diabet diabet"
          ],
          [
           "unit nick sugar level"
          ],
          [
           "spanish word diabet"
          ],
          [
           "eat blood sugar low"
          ],
          [
           "diseas result lack insulin"
          ],
          [
           "lower blood sugar"
          ],
          [
           "know hamster diabet"
          ],
          [
           "might symptom person would suffer diabet"
          ],
          [
           "mani anim diagnos diabet"
          ],
          [
           "excess amount sugar caus diabet"
          ],
          [
           "blood sugar high eight point two glass milk"
          ],
          [
           "natur remedi diabet"
          ],
          [
           "find insulin"
          ],
          [
           "two type diabet"
          ],
          [
           "diabet affect bodi system"
          ],
          [
           "obes peopl get diabet"
          ],
          [
           "indulg tasti snack diabet"
          ],
          [
           "pasta good diabet"
          ],
          [
           "item breakfast diabet"
          ],
          [
           "control glucos level blood"
          ],
          [
           "good diet type two diabet"
          ],
          [
           "best choic diabet food"
          ],
          [
           "insulin taken daili"
          ],
          [
           "would one hundr forti seven blood sugar suggest"
          ],
          [
           "develop diabet"
          ],
          [
           "sugar per day bad"
          ],
          [
           "one know diabet symptom"
          ],
          [
           "cure diabet fruit"
          ],
          [
           "would good diabet diet someon diabet"
          ],
          [
           "happen health eat much chocol"
          ],
          [
           "type natur sugar spike insulin level"
          ],
          [
           "name condit affect blood sugar level"
          ],
          [
           "mother thyroid cancer caus type one diabet children"
          ],
          [
           "much urin indic much insulin"
          ],
          [
           "diabet effect eye sight"
          ],
          [
           "insulin like drug diabet patient take take lifetim"
          ],
          [
           "low mpv count"
          ],
          [
           "tell sugar remov blood"
          ],
          [
           "part human bodi affect diabet"
          ],
          [
           "diabet diet follow"
          ],
          [
           "diabet peripher neuropathi"
          ],
          [
           "substanc discov canadian save live diabet"
          ],
          [
           "diabet diet"
          ],
          [
           "join us armi diabet insipidu"
          ],
          [
           "calcium deposit form heel ball feet"
          ],
          [
           "iodin lower blood sugar"
          ],
          [
           "sleep effect blood sugar"
          ],
          [
           "diabet get blood finger"
          ],
          [
           "nick jona get rid diabet"
          ],
          [
           "get urin multipl time night urin much often normal symptom prostat cancer"
          ],
          [
           "diabet fake"
          ],
          [
           "could pleas tell diabet"
          ],
          [
           "headach hypoglycemia relat"
          ],
          [
           "peopl fund diabet"
          ],
          [
           "diabet person eat appl"
          ],
          [
           "diabet dehydr"
          ],
          [
           "onlin find glycem index chart"
          ],
          [
           "blood sugar rise fall intens exercis"
          ],
          [
           "buy diabet test suppli"
          ],
          [
           "diabet health counselor salari rang"
          ],
          [
           "much insulin overdos"
          ],
          [
           "exactli diabet meter"
          ],
          [
           "best diet diabet"
          ],
          [
           "two hundr eighti pound fat"
          ],
          [
           "diabet eat regular interv"
          ],
          [
           "gener rule diet diabet"
          ],
          [
           "lettuc good diabet"
          ],
          [
           "diabet caus viru bacteria"
          ],
          [
           "long till cure type two diabet"
          ],
          [
           "good diabet breakfast"
          ],
          [
           "iu measur vitamin e translat mcg mg"
          ],
          [
           "cure type two diabet"
          ],
          [
           "degre lifestyl chang reduc risk diabet associ insulin resist"
          ],
          [
           "amlodipin caus diabet"
          ],
          [
           "age children get diabet"
          ],
          [
           "appl regul blood sugar"
          ],
          [
           "orang juic recommend blood sugar low"
          ],
          [
           "diabet peopl juggl"
          ],
          [
           "lipozen affect diabet"
          ],
          [
           "caus frequent urin vagin odor"
          ],
          [
           "long liver transplant patient hospit"
          ],
          [
           "glucomet use"
          ],
          [
           "diabet affect blood sugar level"
          ],
          [
           "insulin store freezer"
          ],
          [
           "prognosi insulin resist"
          ],
          [
           "doctor control diabet"
          ],
          [
           "illeg ask applic diabet"
          ],
          [
           "peopl die diabet"
          ],
          [
           "strict diet need diabet"
          ],
          [
           "insulin first use"
          ],
          [
           "diabet eat kosher hot dog"
          ],
          [
           "five foot twelv year old girl weigh eighti four pound"
          ],
          [
           "could dog die diabet"
          ],
          [
           "diabet danger condit"
          ],
          [
           "face hurt four hundr thirti blood sugar"
          ],
          [
           "ok smoke marijuana diabet"
          ],
          [
           "get diabet meal recip"
          ],
          [
           "peopl diabet eat"
          ],
          [
           "oil base food good women"
          ],
          [
           "would someon diabet neuropathi"
          ],
          [
           "caus diabet"
          ],
          [
           "type one diabet"
          ],
          [
           "onetouch ultra product use"
          ],
          [
           "previou disabl claim alreadi deni question need answer"
          ],
          [
           "three type perment"
          ],
          [
           "food allow diabet food list"
          ],
          [
           "fri shrimp rise blood sugar"
          ],
          [
           "reput diabet cookbook purchas onlin"
          ],
          [
           "nutrilit bio c diabet"
          ],
          [
           "symptom hyperglycemia"
          ],
          [
           "mani carbohydr type one diabet eat day"
          ],
          [
           "essenti compon control type two diabet"
          ],
          [
           "katrina kaif diabet"
          ],
          [
           "person act drunk high blood sugar"
          ],
          [
           "famou peopl type one diabet"
          ],
          [
           "good blood sugar count"
          ],
          [
           "type diseas diabet"
          ],
          [
           "find sampl diabet diet"
          ],
          [
           "raisin good diabet"
          ],
          [
           "diabet foot infect"
          ],
          [
           "ingredi make reliv least diabet high blood pressur high cholesterol"
          ],
          [
           "food bad diabet"
          ],
          [
           "gestat diabet"
          ],
          [
           "supplement diabet"
          ],
          [
           "find inform cereal diabet"
          ],
          [
           "women diabet pregnant"
          ],
          [
           "best wine diabet"
          ],
          [
           "basic symptom high blood sugar"
          ],
          [
           "import qualiti diabet suppli"
          ],
          [
           "insulin depend diabet becom merchant marin"
          ],
          [
           "two type diabet"
          ],
          [
           "websit help find diabet dtour diet"
          ],
          [
           "daughter eye brain go anoth place afew second could low high blood sugar"
          ],
          [
           "resist lead hyperglycemia ketoacidosi"
          ],
          [
           "could get enough sun caus diabet"
          ],
          [
           "lose diabet"
          ],
          [
           "normal sugar level twenti year old"
          ],
          [
           "illeg diabet eat sugar"
          ],
          [
           "control diabit"
          ],
          [
           "treatment type one diabet"
          ],
          [
           "peopl diabet eat protein"
          ],
          [
           "blood glucos level one hundr thirti eight high"
          ],
          [
           "immedetli lower blood sugar"
          ],
          [
           "cookbook good diabet cooki recip"
          ],
          [
           "diabet caus semen tast differ"
          ],
          [
           "target organ insulin"
          ],
          [
           "makabuhay plant realli caus diabet"
          ],
          [
           "find someth check blood glucos level"
          ],
          [
           "type l dm differ type diabet"
          ],
          [
           "diabet common world"
          ],
          [
           "die haematosi"
          ],
          [
           "would know diabet"
          ],
          [
           "much normal blood sugar diabet"
          ],
          [
           "find recip book diabet diet"
          ],
          [
           "insulin depend diabet"
          ],
          [
           "organ use produc human insulin"
          ],
          [
           "get insulin"
          ],
          [
           "wwhat fruit cure diabet"
          ],
          [
           "type two diabet eat much junk food"
          ],
          [
           "normal blood sugar rate"
          ],
          [
           "treat diabet type one"
          ],
          [
           "diabet caus tachycardia"
          ],
          [
           "sixti low glucos read"
          ],
          [
           "blur vision time diabet"
          ],
          [
           "diabet treatment"
          ],
          [
           "joke diabet"
          ],
          [
           "vitamin get rid diabet"
          ],
          [
           "contract diabet"
          ],
          [
           "cure dibeti"
          ],
          [
           "diabet babi pregnant"
          ],
          [
           "diabet type two"
          ],
          [
           "raccoon get diabet"
          ],
          [
           "type three diabet differ type one two"
          ],
          [
           "lower blood glucos"
          ],
          [
           "term describ abnorm high concentr glucos blood"
          ],
          [
           "prevent type one diabet"
          ],
          [
           "long live without liver transplant"
          ],
          [
           "peopl diabet allow eat chocol"
          ],
          [
           "develop first effect treatment diabet"
          ],
          [
           "type peopl avoid select friend"
          ],
          [
           "mani diabet use insulin made certain bacteria abil bacteria produc insulin like result"
          ],
          [
           "nicotin increas blood sugar level affect diabet"
          ],
          [
           "ther organ secret insulin glucagon target tissu"
          ],
          [
           "insulin flammabl"
          ],
          [
           "diabet patient age thirti nine conceiv possibl becom pregnant"
          ],
          [
           "meal diabet"
          ],
          [
           "treatment type one diabet"
          ],
          [
           "treatment avail high blood plasma"
          ],
          [
           "find list food pantri arkansa"
          ],
          [
           "blood test measur averag blood glucos nineti day"
          ],
          [
           "mean seven point five sugar level eat"
          ],
          [
           "cope hypertens"
          ],
          [
           "function skeleton system"
          ],
          [
           "blood sugar five hundr sixteen"
          ],
          [
           "bring blood sugar"
          ],
          [
           "grow type one diabet"
          ]
         ],
         "hovertemplate": "pc_1=%{x}<br>pc_2=%{y}<br>pc_3=%{marker.color}<br>sentence=%{customdata[0]}<extra></extra>",
         "legendgroup": "",
         "marker": {
          "color": [
           -7.593077182769775,
           -10.875203132629395,
           -2.1310622692108154,
           -11.068061828613281,
           9.210033416748047,
           -6.384228229522705,
           3.971304178237915,
           -8.973455429077148,
           0.5606200695037842,
           6.282854080200195,
           -13.3173828125,
           -4.169502258300781,
           4.394073486328125,
           -4.7533955574035645,
           7.3732757568359375,
           8.660992622375488,
           -12.826692581176758,
           3.558739185333252,
           -3.368959903717041,
           10.185345649719238,
           -4.5137786865234375,
           -8.984278678894043,
           4.3910298347473145,
           -12.76226806640625,
           -4.502462863922119,
           -11.927690505981445,
           -11.107927322387695,
           6.10024356842041,
           7.168493270874023,
           9.726579666137695,
           10.70145320892334,
           -7.912354946136475,
           5.6966552734375,
           -8.411507606506348,
           -4.074429988861084,
           -14.602421760559082,
           0.04929787293076515,
           7.045424938201904,
           10.094075202941895,
           -0.9749085307121277,
           5.762707710266113,
           4.793575763702393,
           5.614078998565674,
           11.242526054382324,
           -0.10922212153673172,
           9.971830368041992,
           -2.9550905227661133,
           -9.208840370178223,
           3.4385299682617188,
           6.945514678955078,
           6.705475807189941,
           2.7322072982788086,
           3.154280424118042,
           -11.719237327575684,
           -3.1914329528808594,
           -5.929270267486572,
           9.496073722839355,
           -8.80162525177002,
           3.1244113445281982,
           8.923229217529297,
           4.591490268707275,
           0.5136470198631287,
           -5.340610504150391,
           -12.82241439819336,
           -8.170367240905762,
           6.945036888122559,
           -5.420243263244629,
           -7.449587345123291,
           10.797956466674805,
           5.024960041046143,
           -1.9845902919769287,
           9.668012619018555,
           -4.9451823234558105,
           1.986255168914795,
           -5.3902692794799805,
           3.0729169845581055,
           -11.343422889709473,
           6.368990898132324,
           7.109835624694824,
           2.1218647956848145,
           -0.8899527788162231,
           -11.099455833435059,
           -3.3610129356384277,
           3.820706605911255,
           -8.44742202758789,
           -8.795369148254395,
           -4.130537986755371,
           1.9078972339630127,
           -3.6123101711273193,
           -2.0272738933563232,
           -3.9346351623535156,
           -11.727267265319824,
           9.467771530151367,
           2.9819729328155518,
           -8.756670951843262,
           6.751031398773193,
           -8.996893882751465,
           -8.540765762329102,
           -4.022462368011475,
           -5.2442216873168945,
           -11.19112777709961,
           -7.403269290924072,
           -12.47213363647461,
           10.005182266235352,
           -9.847115516662598,
           -1.0374805927276611,
           -3.492828130722046,
           -4.7898054122924805,
           -12.316988945007324,
           -8.354448318481445,
           -12.268095970153809,
           6.148482799530029,
           4.7498393058776855,
           -9.654147148132324,
           6.144320964813232,
           -11.21907901763916,
           6.492926597595215,
           1.82086980342865,
           8.871390342712402,
           -7.3913445472717285,
           2.15175199508667,
           -13.907570838928223,
           -13.646615028381348,
           -2.9479451179504395,
           -13.47602367401123,
           0.2543380558490753,
           9.0829439163208,
           -13.144658088684082,
           -7.398317813873291,
           -12.433086395263672,
           3.924553871154785,
           -8.586709976196289,
           4.7228193283081055,
           -4.1456427574157715,
           -11.139830589294434,
           10.113951683044434,
           -4.6946210861206055,
           1.4808670282363892,
           -9.775801658630371,
           -9.893902778625488,
           4.345313549041748,
           5.019242763519287,
           4.855341911315918,
           2.5222256183624268,
           -8.345467567443848,
           6.094911575317383,
           -11.406137466430664,
           -3.378645420074463,
           9.305499076843262,
           10.186261177062988,
           -8.935051918029785,
           -8.382493019104004,
           2.6563589572906494,
           -4.2086567878723145,
           7.771347999572754,
           2.3698055744171143,
           -4.9526753425598145,
           9.15529727935791,
           -2.6836163997650146,
           6.54291296005249,
           5.587664604187012,
           -8.17414665222168,
           3.2309093475341797,
           -12.322437286376953,
           8.722991943359375,
           9.51339340209961,
           -8.304525375366211,
           8.306848526000977,
           9.897497177124023,
           -6.561396598815918,
           4.073190212249756,
           -4.152620792388916,
           -0.19878175854682922,
           -1.8852205276489258,
           1.5720582008361816,
           -8.038569450378418,
           -9.437393188476562,
           -8.479806900024414,
           -10.051933288574219,
           0.7724734544754028,
           9.393588066101074,
           3.8887696266174316,
           -10.401447296142578,
           4.6239519119262695,
           -7.847302436828613,
           10.464488983154297,
           9.568746566772461,
           4.998877048492432,
           4.623015403747559,
           -11.908792495727539,
           -1.2187329530715942,
           -9.167121887207031,
           -6.112503528594971,
           10.26911735534668,
           -6.810800075531006,
           -5.2693257331848145,
           10.785834312438965,
           4.9017486572265625,
           -12.632248878479004,
           -2.0104758739471436,
           -2.562901496887207,
           2.8574512004852295,
           -8.420692443847656,
           9.330649375915527,
           5.59912633895874,
           9.703405380249023,
           -12.210562705993652,
           -0.11085354536771774,
           8.480911254882812,
           7.84164571762085,
           -5.286384582519531,
           6.555238723754883,
           9.298592567443848,
           9.640914916992188,
           9.56521224975586,
           0.3557918965816498,
           10.217582702636719,
           8.419063568115234,
           2.4907798767089844,
           1.4560163021087646,
           -12.518524169921875,
           -8.962350845336914,
           0.0874260738492012,
           8.824627876281738,
           0.7493072152137756,
           9.091573715209961,
           -12.293074607849121,
           2.8750786781311035,
           -5.7939019203186035,
           -2.943533182144165,
           -3.4198763370513916,
           0.8028513789176941,
           -14.453930854797363,
           -6.610321521759033,
           8.365706443786621,
           -12.96904468536377,
           -9.1486177444458,
           -0.8405492901802063,
           -8.484908103942871,
           -2.837935447692871,
           1.6382806301116943,
           1.9634944200515747,
           -12.972270965576172,
           -8.836369514465332,
           -3.7374463081359863,
           -3.2663183212280273,
           10.601966857910156,
           0.02857792191207409,
           1.224177598953247,
           -5.556809902191162,
           -3.4409573078155518,
           -6.512417793273926,
           -8.952747344970703,
           9.38982105255127,
           4.260861396789551,
           10.999177932739258,
           -10.298298835754395,
           0.16961076855659485,
           -12.806829452514648,
           9.74856185913086,
           -9.00301742553711,
           -8.792336463928223,
           -1.2743905782699585,
           9.203130722045898,
           -6.432092666625977,
           0.2691914737224579,
           5.934916973114014,
           2.43697452545166,
           9.122358322143555,
           9.5982027053833,
           9.490962028503418,
           4.093874454498291,
           -11.987336158752441,
           -2.586979389190674,
           -10.168801307678223,
           -1.3527404069900513,
           9.141485214233398,
           8.374326705932617,
           3.625715970993042,
           -12.338801383972168,
           -1.7513995170593262,
           2.0020062923431396,
           3.6935553550720215,
           -12.356308937072754,
           3.436361789703369,
           9.58083438873291,
           -8.131660461425781,
           5.132202625274658,
           -10.892057418823242,
           -9.423155784606934,
           -6.161242485046387,
           2.3123891353607178,
           1.0004141330718994,
           -0.5138227343559265,
           7.958644390106201,
           -9.144532203674316,
           4.803338527679443,
           -9.313619613647461,
           12.403477668762207,
           1.2471716403961182,
           7.95480489730835,
           9.258037567138672,
           4.206762790679932,
           -3.1937098503112793,
           -0.8542096018791199,
           10.095431327819824,
           -4.891529560089111,
           -10.6322021484375,
           3.336489200592041,
           -5.465315818786621,
           -8.632463455200195,
           -11.84260368347168,
           -6.352267742156982,
           -4.922902584075928,
           10.717923164367676,
           -2.7969441413879395,
           -6.592407703399658,
           4.595423698425293,
           -1.3459151983261108,
           -4.843311786651611,
           10.326699256896973,
           2.642704486846924,
           -2.463102102279663,
           -0.08803088963031769,
           -7.401032447814941,
           10.571968078613281,
           -5.575280666351318,
           -10.132291793823242,
           -0.002940513426437974,
           -4.268717288970947,
           -9.476454734802246,
           -10.123395919799805,
           -4.302853107452393,
           -2.4767236709594727,
           8.710000991821289,
           3.879427433013916,
           10.51989459991455,
           2.0162785053253174,
           7.240635871887207,
           -10.833995819091797,
           -11.702676773071289,
           7.586394786834717,
           9.862804412841797,
           6.950412750244141,
           2.329508066177368,
           7.364223957061768,
           2.105502128601074,
           -5.8026652336120605,
           11.075136184692383,
           -7.1042704582214355,
           2.332953453063965,
           8.76118278503418,
           12.131271362304688,
           5.968791484832764,
           7.172144412994385,
           2.6625478267669678,
           -10.730172157287598,
           3.5545735359191895,
           9.585238456726074,
           -8.242162704467773,
           -12.864237785339355,
           9.155298233032227,
           7.046998500823975,
           8.41591739654541,
           8.839924812316895,
           -9.728507041931152,
           -8.244842529296875,
           -12.217826843261719,
           -2.287130117416382,
           -12.754069328308105,
           -3.9807732105255127,
           1.0542712211608887,
           -10.299522399902344,
           -8.87924861907959,
           10.996894836425781,
           -14.584270477294922,
           -2.3501150608062744,
           10.239507675170898,
           -9.389866828918457,
           4.104131698608398,
           -2.598849296569824,
           5.354414939880371,
           5.665825843811035,
           -6.143099308013916,
           4.857428550720215,
           8.904346466064453,
           -0.45300084352493286,
           0.597990095615387,
           -0.7068647146224976,
           0.8618193864822388,
           9.810602188110352,
           -7.599945068359375,
           2.9232676029205322,
           3.263942241668701,
           10.296294212341309,
           5.503952980041504,
           4.061246871948242,
           -8.044880867004395,
           8.670391082763672,
           10.09366512298584,
           9.172967910766602,
           -2.6326420307159424,
           4.833829879760742,
           -4.946889877319336,
           7.149137496948242,
           -10.098061561584473,
           -9.521427154541016,
           3.8374030590057373,
           10.123491287231445,
           5.673328876495361,
           -0.35887712240219116,
           0.24267950654029846,
           -1.2585798501968384,
           -2.4270811080932617,
           8.622777938842773,
           -14.897344589233398,
           -7.10780143737793,
           6.489590644836426,
           -12.854833602905273,
           3.465237855911255,
           9.629563331604004,
           9.247775077819824,
           9.378920555114746,
           9.484045028686523,
           -4.558606147766113,
           -13.829176902770996,
           -11.369569778442383,
           -3.8633084297180176,
           -9.302746772766113,
           3.2789371013641357,
           9.837576866149902,
           9.212566375732422,
           3.139106273651123,
           10.197961807250977,
           6.958030700683594,
           9.440841674804688,
           8.74874210357666,
           0.5753768086433411,
           10.379912376403809,
           -11.216867446899414,
           -0.1492047756910324,
           -12.327828407287598,
           -12.407599449157715,
           7.604405403137207,
           0.6896805167198181,
           -12.14937686920166,
           -6.41635274887085,
           1.151081919670105,
           -11.782224655151367,
           -8.15960693359375,
           5.586048126220703,
           2.9295151233673096,
           -8.998136520385742,
           -10.826536178588867,
           4.636283874511719,
           -12.536735534667969,
           3.6565659046173096,
           6.226053237915039,
           1.5046366453170776,
           -10.131770133972168,
           3.022329092025757,
           -12.910467147827148,
           4.339539527893066,
           -6.237321853637695,
           -6.695913314819336,
           9.782179832458496,
           -0.20656763017177582,
           5.021241664886475,
           9.260674476623535,
           8.465448379516602,
           9.021711349487305,
           -2.5202999114990234,
           -8.498315811157227,
           -9.781925201416016,
           6.2410783767700195,
           -5.759177207946777,
           -9.823424339294434,
           0.3706880807876587,
           -11.072375297546387,
           7.5109758377075195,
           -2.5337417125701904,
           -5.935734748840332,
           -9.191061019897461,
           -5.022314548492432,
           0.9580929279327393,
           -12.925154685974121,
           0.4321020841598511,
           8.509001731872559,
           -5.82344388961792,
           -9.62446403503418,
           -4.053598403930664,
           9.91694450378418,
           -7.323212146759033,
           3.0078251361846924,
           2.930467367172241,
           5.742660045623779,
           6.169986724853516,
           8.541581153869629,
           -10.857318878173828,
           8.693031311035156,
           6.8424787521362305,
           0.11586953699588776,
           -10.969630241394043,
           -2.858976364135742,
           -14.319327354431152,
           -11.102587699890137,
           -11.97555160522461,
           -4.52518892288208,
           -14.978334426879883,
           9.410295486450195,
           2.7552239894866943,
           -0.4187532365322113,
           -6.6820807456970215,
           3.957615613937378,
           -12.069415092468262,
           -3.3436546325683594,
           7.138733386993408,
           3.2814323902130127,
           -1.1136176586151123,
           -6.162196636199951,
           -5.165063381195068,
           10.25289535522461,
           10.302596092224121,
           2.7172675132751465,
           -7.3131914138793945,
           7.097070693969727,
           -4.524294853210449,
           7.00698709487915,
           9.854947090148926,
           10.047876358032227,
           -3.6877031326293945,
           -12.436576843261719,
           4.0677809715271,
           -4.381106853485107,
           10.288507461547852,
           1.5616507530212402,
           0.18961386382579803,
           8.860062599182129,
           1.9078911542892456,
           -1.380933403968811,
           9.272584915161133,
           7.118821144104004,
           10.895706176757812,
           0.7608898282051086,
           5.101816177368164,
           9.48421859741211,
           -12.907126426696777,
           -11.749364852905273,
           1.2364616394042969,
           3.7663471698760986,
           12.295100212097168,
           -10.294577598571777,
           -2.8638193607330322,
           -3.316298246383667,
           -0.14331845939159393,
           3.1727824211120605,
           -1.654640793800354,
           5.52627420425415,
           1.9913190603256226,
           7.383336067199707,
           -11.968286514282227,
           -10.92010498046875,
           0.20268695056438446,
           1.749796748161316,
           -6.426478385925293,
           -8.583927154541016,
           0.2589288353919983,
           10.69732666015625,
           -11.473523139953613,
           -5.4477009773254395,
           -6.215456962585449,
           9.65756893157959,
           -5.45796012878418,
           -10.849252700805664,
           -15.340792655944824,
           -6.20699405670166,
           0.43037453293800354,
           4.351509094238281,
           -10.20569133758545,
           8.0870361328125,
           -8.746475219726562,
           -11.482939720153809,
           2.858142852783203,
           -8.096343040466309,
           -4.587756633758545,
           2.4701740741729736,
           -7.375238418579102,
           9.443517684936523,
           9.324943542480469,
           -2.4885447025299072,
           -0.13184137642383575,
           11.09097671508789,
           -7.709281921386719,
           2.1090824604034424,
           10.263779640197754,
           -4.7616047859191895,
           4.021377086639404,
           -6.609492778778076,
           8.721949577331543,
           -11.570759773254395,
           -11.235207557678223,
           2.7046992778778076,
           -2.3852243423461914,
           2.4624240398406982,
           10.879830360412598,
           -4.945289611816406,
           10.079998016357422,
           -12.371679306030273,
           -8.503522872924805,
           -12.415431022644043,
           -8.593859672546387,
           9.637036323547363,
           -3.817566156387329,
           -8.43398380279541,
           -0.4143489599227905,
           9.875553131103516,
           3.2164783477783203,
           5.755765438079834,
           -2.041111469268799,
           10.943273544311523,
           8.85797119140625,
           -4.18587064743042,
           5.009077072143555,
           -15.480865478515625,
           -5.448099613189697,
           0.5117233395576477,
           -13.455578804016113,
           -10.50395679473877,
           10.917325973510742,
           0.1299045830965042,
           3.21366024017334,
           -7.09303092956543,
           8.64858627319336,
           -12.388561248779297,
           -14.632209777832031,
           5.557538986206055,
           -10.596835136413574,
           -9.928003311157227,
           4.679612636566162,
           -11.262743949890137,
           -4.068702220916748,
           -0.27369943261146545,
           -12.794111251831055,
           -1.1390951871871948,
           -12.384271621704102,
           1.7145854234695435,
           -3.590672492980957,
           9.869266510009766,
           -2.2991085052490234,
           -2.9406635761260986,
           -7.427670478820801,
           -11.085996627807617,
           4.749157428741455,
           5.554105758666992,
           9.516484260559082,
           10.819485664367676,
           9.979496955871582,
           3.9450418949127197,
           -10.395750045776367,
           -4.825021266937256,
           -12.86755657196045,
           9.5608491897583,
           3.1669487953186035,
           4.455688953399658,
           0.2944405674934387,
           -12.12179183959961,
           0.38990387320518494,
           9.51646900177002,
           -0.5559705495834351,
           -0.5252789258956909,
           -12.157108306884766,
           10.766926765441895,
           -2.0441250801086426,
           -6.869787693023682,
           5.485141754150391,
           5.406794548034668,
           -1.4194713830947876,
           -9.186121940612793,
           7.383029937744141,
           8.583752632141113,
           -2.8241491317749023,
           -7.72920036315918,
           -5.368470668792725,
           5.765370845794678,
           -11.251461029052734,
           -9.00301742553711,
           5.751948833465576,
           -12.067151069641113,
           -8.804389953613281,
           9.74087905883789,
           -11.93704891204834,
           2.3596112728118896,
           9.38829517364502,
           3.475327253341675,
           3.8314857482910156,
           2.8998630046844482,
           -9.935806274414062,
           -7.586093425750732,
           1.4047510623931885,
           10.553350448608398,
           2.7517337799072266,
           1.699901819229126,
           -6.862757682800293,
           9.926300048828125,
           1.970367431640625,
           9.740242004394531,
           -8.996760368347168,
           -4.243410587310791,
           0.7164446711540222,
           -3.3832290172576904,
           -11.508604049682617,
           6.729110240936279,
           7.145066738128662,
           -3.0637474060058594,
           1.5728627443313599,
           -2.2904205322265625,
           -2.978288173675537,
           -11.39306640625,
           9.543399810791016,
           4.094235897064209,
           -10.603792190551758,
           10.258292198181152,
           -1.8453307151794434,
           1.3483082056045532,
           9.400169372558594,
           1.8664127588272095,
           -10.658445358276367,
           7.576483249664307,
           10.347734451293945,
           -7.460086822509766,
           9.740602493286133,
           -10.358744621276855,
           0.4456051290035248,
           -11.75671100616455,
           10.19871997833252,
           -15.29322624206543,
           -12.0939302444458,
           -1.4014530181884766,
           2.3325469493865967,
           -3.3610124588012695,
           5.034738540649414,
           9.750373840332031,
           -8.9048433303833,
           -10.534286499023438,
           9.512104034423828,
           8.764752388000488,
           7.670835018157959,
           10.004548072814941,
           3.151540756225586,
           -1.325112223625183,
           0.9033375382423401,
           -6.442127227783203,
           -5.758681297302246,
           -1.6679309606552124,
           2.6294374465942383,
           -11.944581031799316,
           -8.666672706604004,
           6.805675983428955,
           8.775741577148438,
           -3.986495018005371,
           7.172727584838867,
           1.588301181793213,
           7.105207920074463,
           -3.9659578800201416,
           -0.5319156646728516,
           10.712815284729004,
           -3.6864776611328125,
           8.699040412902832,
           -2.4884591102600098,
           7.766870021820068,
           -11.188434600830078,
           -12.865896224975586,
           -11.115857124328613,
           -12.189812660217285,
           6.55437707901001,
           -9.076062202453613,
           -1.5421483516693115,
           3.7428836822509766,
           0.2638104259967804,
           10.521222114562988,
           -1.092077374458313,
           -0.8167798519134521,
           -4.434638023376465,
           10.759096145629883,
           -10.19705581665039,
           -14.640902519226074,
           -8.268433570861816,
           -11.62767219543457,
           4.392978191375732,
           -10.377155303955078,
           4.918551921844482,
           9.980948448181152,
           -0.03885788097977638,
           -8.879673957824707,
           10.208187103271484,
           9.937494277954102,
           -15.24813175201416,
           -6.707260608673096,
           2.864847421646118,
           9.32783031463623,
           9.74015998840332,
           0.23430459201335907,
           9.92914867401123,
           3.419358968734741,
           -2.6779491901397705,
           5.148910999298096,
           0.6744037866592407,
           9.53470516204834,
           9.680705070495605,
           -12.311674118041992,
           -7.535791397094727,
           -4.866828441619873,
           2.4429261684417725,
           -1.5225636959075928,
           -9.919421195983887,
           -7.826550483703613,
           1.616979718208313,
           6.148227214813232,
           8.4328031539917,
           -12.056326866149902,
           9.896951675415039,
           2.247746467590332,
           -8.998136520385742,
           3.348778009414673,
           10.482316017150879,
           -11.65190315246582,
           3.2817254066467285,
           1.0511696338653564,
           0.662522554397583,
           -11.217098236083984,
           -7.69653844833374,
           -2.8230581283569336,
           -3.4893763065338135,
           -7.267568111419678,
           4.737171649932861,
           10.715495109558105,
           -9.270975112915039,
           -4.8254547119140625,
           -11.568255424499512,
           9.791112899780273,
           -10.909627914428711,
           1.572852373123169,
           -4.501099109649658,
           8.60411262512207,
           9.58301067352295,
           6.390276908874512,
           4.971529960632324,
           -11.350282669067383,
           10.416020393371582,
           8.316987037658691,
           -9.238750457763672,
           -10.710992813110352,
           3.802591562271118,
           -4.77087926864624,
           7.358030319213867,
           9.876564979553223,
           9.51125717163086,
           2.0143721103668213,
           -2.0202066898345947,
           -13.419407844543457,
           3.3418233394622803,
           3.21096134185791,
           -1.7749841213226318,
           -11.614082336425781,
           -11.060157775878906,
           -12.415426254272461,
           -6.640310287475586,
           10.032512664794922,
           6.822049140930176,
           -9.834744453430176,
           9.96624755859375,
           3.2618584632873535,
           -11.266033172607422,
           -9.675895690917969,
           -12.597347259521484,
           -9.584253311157227,
           7.169061660766602,
           10.096927642822266,
           -6.193401336669922,
           -6.524925708770752,
           -8.828761100769043,
           2.695359706878662,
           1.3268465995788574,
           2.843816041946411,
           7.7459611892700195,
           -11.245882034301758,
           -0.1318018138408661,
           -12.073521614074707,
           -13.045401573181152,
           -11.631669044494629,
           9.384993553161621,
           -0.2992601990699768,
           2.9546470642089844,
           8.506580352783203,
           0.7595405578613281,
           5.473357200622559,
           10.431450843811035,
           5.676667213439941,
           -1.845703363418579,
           10.225064277648926,
           -3.677086353302002,
           3.818782329559326,
           10.571136474609375,
           -3.596281051635742,
           -3.866032123565674,
           2.9647951126098633,
           -8.514659881591797,
           9.39489459991455,
           -10.922577857971191,
           -12.008978843688965,
           -12.583398818969727,
           -12.92186450958252,
           -5.528365612030029,
           1.3918741941452026,
           -6.076574325561523,
           0.525213360786438,
           8.609047889709473,
           -14.070261001586914,
           3.4893362522125244,
           4.814030647277832,
           -6.515762805938721,
           2.7722721099853516,
           -13.594903945922852,
           4.112639904022217,
           9.943942070007324,
           4.868245601654053,
           8.841854095458984,
           3.871802806854248,
           3.9838201999664307,
           -4.95267915725708,
           -7.1742844581604,
           7.540807723999023,
           -1.609576940536499,
           10.066131591796875,
           -7.318596839904785,
           9.25274658203125,
           -10.621905326843262,
           4.067784309387207,
           3.009594202041626,
           4.279131889343262,
           1.2875548601150513,
           -12.815119743347168,
           1.3209145069122314,
           -7.798931121826172,
           -2.226263999938965,
           9.170601844787598,
           -4.465625286102295,
           10.414521217346191,
           0.4622672200202942,
           5.110745429992676,
           6.6743011474609375,
           1.7584153413772583,
           8.990008354187012,
           2.788648843765259,
           3.624901294708252,
           -6.258129119873047,
           10.326265335083008,
           -3.651712656021118,
           1.5728594064712524,
           8.179889678955078,
           -11.639065742492676,
           -2.2551934719085693,
           9.711355209350586,
           2.494009017944336,
           -11.821327209472656,
           -1.2951760292053223,
           -0.2673895061016083,
           4.008381366729736,
           4.156163215637207,
           -9.870098114013672,
           -8.904396057128906,
           8.798346519470215,
           2.8470375537872314,
           -13.75267505645752,
           4.6695733070373535,
           -3.40413236618042,
           4.637670040130615,
           -1.0160402059555054,
           -9.194140434265137,
           -6.9803690910339355,
           -11.778947830200195,
           8.680974960327148,
           -6.173201560974121,
           -13.776864051818848,
           -8.962556838989258,
           8.585817337036133,
           9.377376556396484,
           -9.327630996704102,
           0.9033375382423401,
           6.213048458099365,
           -11.506253242492676,
           -7.754507541656494,
           5.088080406188965,
           1.6877782344818115,
           5.658176422119141,
           2.890286684036255,
           5.744869232177734,
           5.638234615325928,
           -2.3859331607818604,
           6.334166049957275,
           1.019310712814331,
           -7.138383865356445,
           -13.564264297485352,
           4.418347358703613,
           -11.481842041015625,
           8.748717308044434,
           -0.8130015134811401,
           4.598304748535156,
           -13.417283058166504,
           -9.286724090576172,
           -14.91661262512207,
           -10.411941528320312,
           -1.8215433359146118,
           -1.0981497764587402,
           4.0083699226379395,
           -1.6931381225585938,
           9.782625198364258,
           -11.861138343811035,
           -9.301529884338379,
           -9.185864448547363,
           -11.216866493225098,
           -12.532188415527344,
           -4.087393283843994,
           2.083958148956299
          ],
          "coloraxis": "coloraxis",
          "size": 5,
          "symbol": "circle"
         },
         "mode": "markers",
         "name": "",
         "scene": "scene",
         "showlegend": false,
         "type": "scatter3d",
         "x": [
          2.2294912338256836,
          3.605713367462158,
          -3.1406617164611816,
          -2.091428518295288,
          14.7392578125,
          -1.1559340953826904,
          5.67857027053833,
          2.863705635070801,
          -10.633432388305664,
          5.029006004333496,
          4.589212417602539,
          -10.288203239440918,
          -10.965156555175781,
          -0.8115550875663757,
          6.290604591369629,
          18.829795837402344,
          0.667254626750946,
          -8.702877044677734,
          -6.036421298980713,
          11.164119720458984,
          -6.175884246826172,
          -3.319467306137085,
          5.660305023193359,
          0.64471036195755,
          -2.156593084335327,
          0.32252803444862366,
          1.1953762769699097,
          -8.935259819030762,
          -9.444613456726074,
          -9.243453979492188,
          -8.823596954345703,
          -4.066898345947266,
          2.0696310997009277,
          -1.6914753913879395,
          -3.073347568511963,
          4.809065818786621,
          0.820015549659729,
          -10.114569664001465,
          11.761001586914062,
          -8.789530754089355,
          -8.371729850769043,
          -8.734816551208496,
          -10.119608879089355,
          -8.44432258605957,
          -5.086625099182129,
          8.419831275939941,
          4.12634801864624,
          -3.4018752574920654,
          -2.1892523765563965,
          -10.125472068786621,
          -8.371973037719727,
          4.6872758865356445,
          5.775994300842285,
          4.073612213134766,
          -2.3958442211151123,
          -5.571720123291016,
          16.269296646118164,
          -3.095690965652466,
          -7.942194938659668,
          7.3266425132751465,
          -10.795378684997559,
          -3.7253949642181396,
          -7.470623970031738,
          0.7121497392654419,
          -2.8394267559051514,
          7.978249549865723,
          -5.1469526290893555,
          2.176938772201538,
          -8.97624397277832,
          -0.6695380210876465,
          -10.25200080871582,
          14.157947540283203,
          -0.9771718382835388,
          -10.819661140441895,
          2.97550106048584,
          2.1707465648651123,
          3.5046560764312744,
          -10.46814250946045,
          -9.570036888122559,
          7.538285732269287,
          4.903470516204834,
          3.8563709259033203,
          -6.009617328643799,
          -12.298008918762207,
          1.9051660299301147,
          -3.4064693450927734,
          -7.003072738647461,
          6.514983654022217,
          -3.7337963581085205,
          -10.14590072631836,
          -8.715448379516602,
          3.08235502243042,
          -8.977930068969727,
          -2.242504596710205,
          -2.9622817039489746,
          5.714285850524902,
          -2.188039779663086,
          5.209496974945068,
          -9.380791664123535,
          -0.8929377198219299,
          3.538031578063965,
          2.8423845767974854,
          -1.1577849388122559,
          11.456974983215332,
          4.394134521484375,
          -3.956643581390381,
          -10.135736465454102,
          3.593820571899414,
          2.3070240020751953,
          -3.2370541095733643,
          4.0587873458862305,
          5.497961521148682,
          -7.82315731048584,
          4.51520299911499,
          -8.403190612792969,
          -2.719519853591919,
          -10.19289493560791,
          6.186458110809326,
          17.797147750854492,
          -3.723438024520874,
          6.92552375793457,
          4.743930339813232,
          0.10124865174293518,
          -7.581521987915039,
          4.750027656555176,
          6.669036865234375,
          -9.36530876159668,
          4.626000881195068,
          2.1120870113372803,
          -0.56935054063797,
          5.543778896331787,
          -2.493743896484375,
          5.896463871002197,
          2.273620128631592,
          3.5141937732696533,
          12.860941886901855,
          -1.3429174423217773,
          6.25715970993042,
          4.459120273590088,
          4.527755260467529,
          -10.87159252166748,
          3.482602834701538,
          -7.432124614715576,
          5.376797676086426,
          4.385599136352539,
          -8.953783988952637,
          3.5575220584869385,
          3.399650812149048,
          15.556449890136719,
          -9.42091178894043,
          -3.0834426879882812,
          -1.5068790912628174,
          -4.337092399597168,
          -5.627755641937256,
          6.637115478515625,
          -7.960263729095459,
          -0.6641268134117126,
          6.041170597076416,
          -10.000041961669922,
          8.223442077636719,
          0.6907631158828735,
          3.206737756729126,
          -10.938703536987305,
          3.4461286067962646,
          19.1817626953125,
          9.156949996948242,
          3.3431410789489746,
          7.4501824378967285,
          9.786001205444336,
          3.2060582637786865,
          6.199241638183594,
          -9.968733787536621,
          0.9042497277259827,
          -3.650033712387085,
          -10.975526809692383,
          -2.5909295082092285,
          4.7572526931762695,
          -1.335715651512146,
          -3.313993215560913,
          -1.604850172996521,
          13.923803329467773,
          5.542537689208984,
          -2.431006669998169,
          5.293546199798584,
          3.060776948928833,
          -9.110550880432129,
          17.958765029907227,
          -8.833189010620117,
          -0.42204761505126953,
          -1.34603750705719,
          -9.204113960266113,
          3.5429022312164307,
          -2.7886624336242676,
          11.89851188659668,
          -2.7023849487304688,
          -3.060049295425415,
          -9.097705841064453,
          6.383277416229248,
          1.1627609729766846,
          -3.6626691818237305,
          -7.593376636505127,
          4.517879009246826,
          -2.4533941745758057,
          16.068464279174805,
          -9.713563919067383,
          -9.484149932861328,
          2.4062273502349854,
          -0.00449615390971303,
          17.740299224853516,
          6.5151286125183105,
          -0.9242022037506104,
          5.367249488830566,
          8.785994529724121,
          15.048783302307129,
          -9.126181602478027,
          0.654496967792511,
          -8.641100883483887,
          -8.661041259765625,
          4.051328182220459,
          3.6359665393829346,
          1.6548645496368408,
          2.056957483291626,
          -10.857707023620605,
          19.31120491027832,
          6.073458194732666,
          17.8859920501709,
          2.3479650020599365,
          4.294661521911621,
          3.23220157623291,
          -7.75076961517334,
          4.26077938079834,
          0.8871913552284241,
          4.7343831062316895,
          -5.294344425201416,
          7.546013832092285,
          4.493374347686768,
          4.81537389755249,
          4.097009181976318,
          -2.732945442199707,
          -2.704526424407959,
          -10.879484176635742,
          3.5244359970092773,
          4.298087120056152,
          4.304113864898682,
          -7.401659965515137,
          -3.15920352935791,
          -8.374654769897461,
          -10.851174354553223,
          -10.755646705627441,
          1.2847144603729248,
          4.333690643310547,
          0.6994770765304565,
          4.9464592933654785,
          9.540693283081055,
          -10.472844123840332,
          13.279309272766113,
          3.897538185119629,
          2.066040277481079,
          4.549663543701172,
          10.430566787719727,
          4.938514232635498,
          2.06418776512146,
          -9.198633193969727,
          16.9260311126709,
          1.8477253913879395,
          6.411810398101807,
          -10.281245231628418,
          -5.666385173797607,
          8.847701072692871,
          15.790118217468262,
          16.48516082763672,
          -12.068748474121094,
          4.244969844818115,
          -7.230855941772461,
          4.352669715881348,
          4.634145736694336,
          18.03164291381836,
          19.167875289916992,
          -1.9875788688659668,
          2.16994309425354,
          3.514127254486084,
          7.482736587524414,
          -1.9045958518981934,
          1.5676592588424683,
          3.768136978149414,
          -9.58029556274414,
          3.5998611450195312,
          5.363799571990967,
          1.3974486589431763,
          -1.6293425559997559,
          -3.1565186977386475,
          -7.210535049438477,
          -3.156277656555176,
          -3.004058837890625,
          -8.710976600646973,
          -2.9957101345062256,
          -7.974086284637451,
          4.348216533660889,
          -8.283832550048828,
          -10.999266624450684,
          12.074030876159668,
          -9.125490188598633,
          1.0417852401733398,
          -7.587006092071533,
          -3.029668092727661,
          14.883551597595215,
          1.066187858581543,
          4.038213729858398,
          -9.397697448730469,
          -4.281105995178223,
          -3.5005128383636475,
          3.054619312286377,
          1.7545485496520996,
          -1.0655783414840698,
          -8.986310005187988,
          3.1695144176483154,
          3.305508613586426,
          -9.351877212524414,
          -8.743042945861816,
          3.307337999343872,
          -8.777897834777832,
          -10.846606254577637,
          4.168704032897949,
          -10.622233390808105,
          -2.7825164794921875,
          -9.195334434509277,
          -0.466581791639328,
          4.456978797912598,
          1.5718287229537964,
          1.5403493642807007,
          2.7121925354003906,
          4.601463317871094,
          -7.012343883514404,
          -2.768380880355835,
          19.30205535888672,
          -9.445127487182617,
          10.257562637329102,
          6.276098728179932,
          -9.62817668914795,
          5.013796806335449,
          3.9635567665100098,
          -9.754561424255371,
          14.636174201965332,
          -9.228438377380371,
          0.320183664560318,
          -8.844043731689453,
          -6.338450908660889,
          -0.6181163191795349,
          -8.788986206054688,
          -2.4435200691223145,
          1.2660441398620605,
          19.355588912963867,
          -8.435086250305176,
          -10.440423011779785,
          -10.087543487548828,
          -4.585988998413086,
          -2.2995457649230957,
          -8.511438369750977,
          -9.472006797790527,
          -1.415093183517456,
          0.08429661393165588,
          6.041170597076416,
          -8.643082618713379,
          7.5085248947143555,
          7.353847503662109,
          2.9301068782806396,
          -3.398346424102783,
          2.407663345336914,
          -8.154155731201172,
          0.73145592212677,
          -7.653309345245361,
          -3.3595612049102783,
          4.393885612487793,
          -3.334859609603882,
          -8.744080543518066,
          4.588021755218506,
          -2.6089203357696533,
          9.916810035705566,
          -2.6869137287139893,
          -11.379229545593262,
          -3.39736008644104,
          7.045358180999756,
          1.387123703956604,
          -2.250398635864258,
          -10.96394157409668,
          18.207624435424805,
          6.51074743270874,
          4.069750785827637,
          -5.503032684326172,
          6.776553630828857,
          -8.875093460083008,
          3.189662456512451,
          2.9647865295410156,
          4.7395920753479,
          14.065953254699707,
          1.8073701858520508,
          -10.535988807678223,
          3.274851083755493,
          7.7480669021606445,
          13.829303741455078,
          -9.044367790222168,
          -7.325160980224609,
          3.398898124694824,
          -3.7872276306152344,
          6.40690803527832,
          4.481154441833496,
          3.763878107070923,
          3.2860448360443115,
          8.954717636108398,
          0.04887427017092705,
          1.2538419961929321,
          -10.938508033752441,
          -9.437247276306152,
          -7.552464485168457,
          18.832225799560547,
          4.840556621551514,
          -2.8674731254577637,
          8.315814971923828,
          -0.418170303106308,
          -10.765625953674316,
          10.219400405883789,
          17.128761291503906,
          17.390165328979492,
          17.994144439697266,
          1.814442753791809,
          4.805698871612549,
          3.8281590938568115,
          -3.422229051589966,
          4.856910228729248,
          3.176560401916504,
          13.375082969665527,
          17.77135467529297,
          2.012744665145874,
          -8.24163818359375,
          -10.256247520446777,
          -8.87244987487793,
          7.8273186683654785,
          0.28192856907844543,
          -8.394079208374023,
          -1.996244192123413,
          1.8011059761047363,
          4.719003677368164,
          4.485916614532471,
          -8.836981773376465,
          -6.467477321624756,
          4.259155750274658,
          -5.9100117683410645,
          -6.179861068725586,
          2.075756072998047,
          2.56518816947937,
          0.1299312710762024,
          -10.839868545532227,
          2.462110757827759,
          4.593039035797119,
          -7.907707214355469,
          -0.9156038761138916,
          -10.529214859008789,
          -9.36821460723877,
          0.2592489421367645,
          4.777177810668945,
          -10.93833065032959,
          -0.3561581075191498,
          6.4863152503967285,
          -4.646864891052246,
          -3.0754873752593994,
          12.881814956665039,
          -4.896897792816162,
          5.409148216247559,
          -8.359646797180176,
          18.304515838623047,
          -9.928308486938477,
          4.273416996002197,
          -1.8293992280960083,
          5.489048004150391,
          -10.015765190124512,
          -0.33945417404174805,
          4.405940532684326,
          3.173804759979248,
          3.7924647331237793,
          -9.876415252685547,
          -2.417362689971924,
          -5.984217166900635,
          1.9227625131607056,
          -1.2770494222640991,
          0.29773959517478943,
          -1.0581579208374023,
          2.1904549598693848,
          -9.455615043640137,
          -5.90241813659668,
          -3.5234696865081787,
          -2.3893868923187256,
          16.164630889892578,
          1.7936207056045532,
          0.2471216917037964,
          1.7875680923461914,
          -10.338025093078613,
          0.08248975872993469,
          10.69808578491211,
          -1.1832020282745361,
          19.271577835083008,
          5.819007396697998,
          -10.560991287231445,
          3.955122709274292,
          2.7946114540100098,
          4.774630069732666,
          -2.30379581451416,
          4.66022253036499,
          -4.883957386016846,
          4.679069519042969,
          16.63216781616211,
          -5.564591407775879,
          -5.67083215713501,
          -2.7114622592926025,
          0.6219771504402161,
          -0.14021122455596924,
          -1.3379884958267212,
          11.985284805297852,
          1.576529860496521,
          -10.16110897064209,
          -1.8461542129516602,
          -6.259525775909424,
          13.832710266113281,
          12.80251693725586,
          -3.1397416591644287,
          -2.6311938762664795,
          11.962160110473633,
          -1.6938103437423706,
          -9.615669250488281,
          -9.160510063171387,
          15.058459281921387,
          -2.7723634243011475,
          1.4143325090408325,
          -12.568955421447754,
          -5.771559715270996,
          -9.76965618133545,
          6.4201836585998535,
          -10.871150016784668,
          17.259965896606445,
          6.5149922370910645,
          -9.053873062133789,
          -9.513683319091797,
          12.21468734741211,
          -8.208601951599121,
          -10.806755065917969,
          6.958843231201172,
          14.68265151977539,
          0.13607364892959595,
          2.713881731033325,
          -3.793443441390991,
          0.4866161644458771,
          -8.351807594299316,
          -2.8565261363983154,
          -3.0200655460357666,
          2.9837646484375,
          -5.772352695465088,
          3.652216911315918,
          -3.5798451900482178,
          0.051648326218128204,
          -4.120575904846191,
          7.433345317840576,
          -0.7470617294311523,
          4.063100337982178,
          3.7078285217285156,
          -6.168837070465088,
          0.6566745042800903,
          5.184569358825684,
          -10.927286148071289,
          -10.130232810974121,
          -2.6071670055389404,
          -0.8416416645050049,
          2.6377148628234863,
          11.71666431427002,
          1.132580280303955,
          3.565753221511841,
          4.883590221405029,
          3.3408806324005127,
          3.646516799926758,
          -9.098952293395996,
          -3.1506154537200928,
          6.9321489334106445,
          2.0669281482696533,
          3.8138818740844727,
          3.5110132694244385,
          2.1745800971984863,
          -4.828194618225098,
          -10.990704536437988,
          -2.1276800632476807,
          14.433794021606445,
          18.51881980895996,
          -2.70619535446167,
          6.681039810180664,
          -8.627978324890137,
          -2.152433395385742,
          -7.456692695617676,
          -8.748970985412598,
          1.415900707244873,
          -10.981013298034668,
          -3.1139707565307617,
          19.21244239807129,
          1.34161376953125,
          3.0045156478881836,
          -10.657991409301758,
          4.844815254211426,
          -5.875764846801758,
          -8.29233455657959,
          0.7546324729919434,
          13.137473106384277,
          4.353321552276611,
          5.235882759094238,
          -1.0718042850494385,
          3.8798794746398926,
          15.648292541503906,
          -5.5057902336120605,
          4.025371551513672,
          6.46497917175293,
          10.962136268615723,
          5.401805877685547,
          6.808322429656982,
          -10.63526725769043,
          -9.0097074508667,
          15.901229858398438,
          3.248317241668701,
          -0.7269947528839111,
          4.906024932861328,
          -3.741736650466919,
          5.94856071472168,
          0.06958531588315964,
          3.828819751739502,
          -9.064868927001953,
          3.2538790702819824,
          -2.304417371749878,
          1.4199126958847046,
          17.68865203857422,
          2.120797634124756,
          4.655986785888672,
          -9.503880500793457,
          -2.4761292934417725,
          -3.1024363040924072,
          6.046994686126709,
          3.4187748432159424,
          -5.471718788146973,
          -4.690254211425781,
          0.45193496346473694,
          -9.597086906433105,
          2.13346266746521,
          -4.874529838562012,
          -7.587425708770752,
          11.892643928527832,
          -2.5949156284332275,
          -7.0796966552734375,
          -3.3546674251556396,
          3.5790159702301025,
          -7.428070545196533,
          3.4173336029052734,
          -8.721841812133789,
          8.107608795166016,
          14.939226150512695,
          -9.741899490356445,
          -3.295187473297119,
          -5.81338357925415,
          -0.5025001764297485,
          10.64113998413086,
          0.1405511200428009,
          -9.205768585205078,
          -3.632810592651367,
          2.358229637145996,
          3.4537627696990967,
          -8.722118377685547,
          1.3483713865280151,
          -10.009230613708496,
          4.1759724617004395,
          -9.191069602966309,
          -10.25342845916748,
          1.4321330785751343,
          1.4604591131210327,
          -8.87938117980957,
          -8.695889472961426,
          -3.4917662143707275,
          5.805980205535889,
          16.820560455322266,
          -10.0817289352417,
          2.2735650539398193,
          -6.074907302856445,
          3.2822914123535156,
          4.208773612976074,
          4.938512802124023,
          6.921356201171875,
          -1.0743463039398193,
          5.0381646156311035,
          10.427362442016602,
          4.688505172729492,
          -7.3055739402771,
          18.064786911010742,
          0.38115620613098145,
          -11.527649879455566,
          -11.023650169372559,
          3.0973408222198486,
          1.5028170347213745,
          -11.017268180847168,
          8.241515159606934,
          -6.2308478355407715,
          4.889411449432373,
          0.4388134479522705,
          12.683231353759766,
          6.240200519561768,
          10.427310943603516,
          -2.188274383544922,
          -10.501847267150879,
          -0.5825686454772949,
          -9.924686431884766,
          3.8235089778900146,
          6.129838943481445,
          -9.170992851257324,
          -7.4937567710876465,
          -7.458970546722412,
          4.746787071228027,
          -7.70182991027832,
          1.633671522140503,
          -9.497090339660645,
          -8.553422927856445,
          -2.8555805683135986,
          -9.849146842956543,
          -10.640525817871094,
          3.8700263500213623,
          9.100834846496582,
          7.223214149475098,
          3.9802656173706055,
          6.278088569641113,
          -9.900638580322266,
          -2.2054734230041504,
          10.42726993560791,
          4.191863536834717,
          6.503620624542236,
          -1.5954030752182007,
          14.046131134033203,
          4.883832931518555,
          3.1676313877105713,
          -9.501214981079102,
          6.296929359436035,
          -6.009617328643799,
          -9.96967601776123,
          -8.939833641052246,
          4.9713850021362305,
          -2.597935438156128,
          14.732908248901367,
          19.103534698486328,
          -8.731800079345703,
          -9.849679946899414,
          -8.207125663757324,
          -10.14594841003418,
          -0.9229631423950195,
          1.6280436515808105,
          -0.42305704951286316,
          -10.274364471435547,
          -3.9418492317199707,
          2.9980151653289795,
          -2.3189523220062256,
          8.698267936706543,
          10.887130737304688,
          -5.024179458618164,
          12.348666191101074,
          3.4830501079559326,
          -9.51234245300293,
          -7.553341388702393,
          -3.208773136138916,
          -8.994016647338867,
          -3.6468725204467773,
          19.29996109008789,
          -2.706279754638672,
          6.828490734100342,
          -1.8813064098358154,
          -1.0215861797332764,
          -0.05449581891298294,
          4.009880065917969,
          -8.675740242004395,
          2.2810981273651123,
          4.661072731018066,
          -1.0962380170822144,
          -6.063413143157959,
          -8.471911430358887,
          -3.72229266166687,
          -9.877379417419434,
          -10.915285110473633,
          -9.356510162353516,
          -2.3668739795684814,
          4.816220283508301,
          -3.0791916847229004,
          1.753689169883728,
          -9.305451393127441,
          3.3574986457824707,
          -0.6730676889419556,
          -8.278424263000488,
          -5.914681434631348,
          4.927060604095459,
          -8.899404525756836,
          -9.121489524841309,
          4.873450756072998,
          -1.368403434753418,
          -10.690751075744629,
          17.38133430480957,
          10.427316665649414,
          4.5471577644348145,
          8.378165245056152,
          -2.2160089015960693,
          -7.299866199493408,
          -0.35981062054634094,
          1.7162448167800903,
          16.099021911621094,
          10.56486988067627,
          1.6881582736968994,
          2.115741014480591,
          -2.301532745361328,
          -7.284167766571045,
          -3.794340133666992,
          -3.254194498062134,
          -2.4110302925109863,
          -5.242700576782227,
          -8.086444854736328,
          12.503199577331543,
          4.676681995391846,
          13.79444694519043,
          -6.3897857666015625,
          2.462110757827759,
          5.628273010253906,
          -9.005191802978516,
          2.1865410804748535,
          -8.424724578857422,
          -6.753607273101807,
          -4.619264602661133,
          -2.6995205879211426,
          -2.463531732559204,
          3.563814640045166,
          -3.0282022953033447,
          3.2208733558654785,
          -10.7239351272583,
          -8.796311378479004,
          -2.5887351036071777,
          -3.72532320022583,
          -2.5169007778167725,
          10.57423210144043,
          4.379788398742676,
          -7.458974361419678,
          -4.901137351989746,
          -8.43923568725586,
          10.050854682922363,
          5.458796501159668,
          5.250282287597656,
          3.676482915878296,
          9.214770317077637,
          7.390621662139893,
          3.3450767993927,
          4.075433254241943,
          -9.101873397827148,
          2.4384207725524902,
          -9.019062995910645,
          11.154546737670898,
          14.551575660705566,
          -4.469038009643555,
          2.8227808475494385,
          -0.38877344131469727,
          -7.710312843322754,
          -7.229137897491455,
          -8.70518970489502,
          4.604948043823242,
          -1.3377708196640015,
          -1.0718096494674683,
          -3.2508304119110107,
          11.128693580627441,
          -9.394240379333496,
          -2.815487861633301,
          10.188765525817871,
          -10.465170860290527,
          -2.702775478363037,
          4.553077220916748,
          0.06796755641698837,
          -3.3891448974609375,
          -8.438819885253906,
          -10.298274040222168,
          -3.2053749561309814,
          -3.523503303527832,
          5.02376127243042,
          -10.99881362915039,
          4.452437877655029,
          -7.448230266571045,
          16.50624656677246,
          2.0754168033599854,
          6.404552936553955,
          2.6513686180114746,
          4.311041355133057,
          0.5819981098175049,
          9.262968063354492,
          0.6441729664802551,
          2.6722288131713867,
          7.607065200805664,
          3.956674337387085,
          -9.894330024719238,
          9.351447105407715,
          5.936619758605957,
          4.721339702606201,
          8.793407440185547,
          -0.9122418165206909,
          -11.323019027709961,
          -8.89633846282959,
          3.858935832977295,
          3.8979272842407227,
          -10.947739601135254,
          -3.017665147781372,
          -8.961039543151855,
          3.917428493499756,
          2.794250726699829,
          1.083739995956421,
          4.590207099914551,
          -0.47950422763824463,
          4.264028549194336,
          -2.291962146759033,
          -10.97161865234375,
          7.790682315826416,
          4.745884895324707,
          0.22208359837532043,
          -8.145617485046387,
          -3.5078372955322266,
          -10.586423873901367,
          -0.2908999025821686,
          0.9564343094825745,
          17.43929672241211,
          3.425687789916992,
          8.468505859375,
          -8.499011993408203,
          -11.103901863098145,
          -0.6641299724578857,
          1.9625530242919922,
          -9.957859992980957,
          -2.9856271743774414,
          15.110023498535156,
          3.1920828819274902,
          18.27178192138672,
          -2.8468751907348633,
          -12.568940162658691,
          4.6011061668396,
          0.5881962776184082,
          -10.915658950805664,
          0.40655001997947693,
          -6.965242862701416,
          3.222398042678833,
          -3.3971993923187256,
          9.730057716369629,
          1.1909714937210083,
          -8.095612525939941,
          5.810328960418701,
          5.302882671356201,
          -9.667213439941406,
          3.415764570236206,
          18.692489624023438,
          -10.761513710021973,
          3.328531503677368,
          -6.604006767272949,
          12.788671493530273,
          -2.4068379402160645,
          -7.458979606628418,
          9.500205993652344,
          -2.5450477600097656,
          -10.094771385192871,
          -10.158340454101562,
          -3.2017111778259277,
          1.5451234579086304,
          4.46799373626709,
          3.0513038635253906,
          5.762022495269775,
          3.376559019088745,
          4.412634372711182,
          4.18394136428833,
          18.204853057861328,
          -7.337630748748779,
          4.684793472290039,
          -0.40068039298057556,
          4.301976203918457,
          -8.400298118591309,
          -9.799708366394043,
          -3.0589325428009033,
          -2.787400245666504,
          2.164530038833618,
          19.2913818359375,
          0.27911892533302307,
          4.664978504180908,
          2.0565202236175537,
          18.460636138916016,
          -8.539353370666504,
          4.8246750831604,
          -0.9229631423950195,
          -9.91558837890625,
          3.236168622970581,
          -3.006032943725586,
          6.57507848739624,
          -5.72482442855835,
          1.247999668121338,
          -9.918363571166992,
          6.8607892990112305,
          -10.323551177978516,
          -2.4947662353515625,
          -9.813720703125,
          -6.761858940124512,
          3.097923994064331,
          0.16420255601406097,
          0.9834070801734924,
          2.006347179412842,
          7.368325233459473,
          3.6782193183898926,
          0.4273059666156769,
          4.620937347412109,
          -2.8938114643096924,
          4.83931827545166,
          3.379117727279663,
          -10.232574462890625,
          3.3549304008483887,
          5.762012958526611,
          3.532642126083374,
          16.377504348754883,
          2.9681124687194824,
          -1.8582299947738647,
          -3.1742286682128906,
          -2.1883254051208496,
          1.7272053956985474,
          3.932279586791992,
          3.7880985736846924
         ],
         "y": [
          -3.7698094844818115,
          -5.424356937408447,
          -4.1461181640625,
          5.615760803222656,
          6.578255653381348,
          0.19290940463542938,
          -1.5637387037277222,
          -5.572131156921387,
          -7.7707343101501465,
          1.593833088874817,
          -3.8383891582489014,
          -8.786564826965332,
          -5.806710720062256,
          -5.791444778442383,
          1.9229987859725952,
          10.418416976928711,
          8.55268383026123,
          -3.1108968257904053,
          -5.977095127105713,
          4.288242340087891,
          -6.664464473724365,
          -0.6988264322280884,
          2.3726749420166016,
          7.122520446777344,
          -2.260882616043091,
          6.115911483764648,
          5.756506443023682,
          -2.0929946899414062,
          -7.320446014404297,
          -2.477022886276245,
          -0.7003578543663025,
          0.6302033066749573,
          0.077278271317482,
          4.020755290985107,
          -7.673018932342529,
          -2.5726144313812256,
          -0.8744567632675171,
          -6.630875587463379,
          5.116361141204834,
          -8.536844253540039,
          -8.862497329711914,
          -8.885615348815918,
          -4.486484050750732,
          0.2779020369052887,
          -8.200728416442871,
          0.8764066100120544,
          2.8941900730133057,
          -0.8555991649627686,
          -1.8966171741485596,
          -6.50252628326416,
          -8.527166366577148,
          2.0997111797332764,
          2.852114677429199,
          -5.111763954162598,
          -7.289973735809326,
          -5.971891403198242,
          8.277938842773438,
          1.7373138666152954,
          -9.398438453674316,
          0.9331026077270508,
          -6.922241687774658,
          -3.1013219356536865,
          -7.095488548278809,
          9.006746292114258,
          -0.10471685230731964,
          3.758094310760498,
          -5.787082195281982,
          4.7318339347839355,
          0.0016179238446056843,
          -1.4827549457550049,
          -8.48108959197998,
          6.756992816925049,
          -0.8194161057472229,
          -7.364631652832031,
          3.5265378952026367,
          0.04005268216133118,
          11.16903018951416,
          -6.173409461975098,
          -6.353832244873047,
          4.518465995788574,
          2.8159990310668945,
          -5.192825794219971,
          -6.007030487060547,
          -7.593249320983887,
          -6.261382102966309,
          -1.2638306617736816,
          -6.853060722351074,
          3.722507953643799,
          -4.368127822875977,
          -8.51120376586914,
          -7.925887584686279,
          9.455735206604004,
          -5.151443004608154,
          -1.9528913497924805,
          1.4008342027664185,
          2.0454678535461426,
          4.347190856933594,
          12.742337226867676,
          -8.294816017150879,
          -5.831070899963379,
          10.906500816345215,
          5.167688846588135,
          5.441668510437012,
          4.51898193359375,
          12.167369842529297,
          -7.836775779724121,
          -8.64489459991455,
          3.6037991046905518,
          9.226567268371582,
          -0.3418549597263336,
          -4.656222820281982,
          1.767760992050171,
          -1.596727728843689,
          8.862207412719727,
          -8.723956108093262,
          3.393622398376465,
          -6.7758989334106445,
          3.458665609359741,
          10.325655937194824,
          -3.5352749824523926,
          4.0122785568237305,
          -2.881958246231079,
          6.440601348876953,
          -6.194149017333984,
          -3.2124013900756836,
          4.167822360992432,
          -5.540339946746826,
          -4.008927822113037,
          4.635467529296875,
          7.582451820373535,
          -1.510779857635498,
          1.6309233903884888,
          2.483259439468384,
          1.9558055400848389,
          11.581832885742188,
          4.861581802368164,
          -6.496555805206299,
          3.5797462463378906,
          12.098605155944824,
          8.94438362121582,
          -5.180969715118408,
          0.7203006744384766,
          -1.2045258283615112,
          2.653738498687744,
          8.305886268615723,
          -8.358363151550293,
          9.8392972946167,
          2.51094126701355,
          7.4297709465026855,
          -3.138059377670288,
          1.841479778289795,
          4.265605449676514,
          -2.1929190158843994,
          -5.644138336181641,
          2.710949182510376,
          -9.384891510009766,
          -5.802326679229736,
          3.101595640182495,
          -8.362929344177246,
          3.987340211868286,
          -0.6729721426963806,
          6.123570442199707,
          -5.556408405303955,
          10.037537574768066,
          12.24292278289795,
          4.279687404632568,
          -5.141205787658691,
          3.0254642963409424,
          4.354834079742432,
          4.688760757446289,
          2.9561076164245605,
          -8.61757755279541,
          -0.684708297252655,
          -8.073698997497559,
          -6.7960333824157715,
          0.6575421094894409,
          10.918270111083984,
          4.552556037902832,
          4.256438732147217,
          -2.1426591873168945,
          6.021219730377197,
          -1.5237177610397339,
          0.6544139385223389,
          2.094681978225708,
          5.722961902618408,
          -3.9911906719207764,
          10.189072608947754,
          -2.4164798259735107,
          -1.6550334692001343,
          6.944602012634277,
          -6.5492353439331055,
          -4.826854228973389,
          -3.0473086833953857,
          4.700639724731445,
          -2.8673276901245117,
          -6.014890193939209,
          -3.223940372467041,
          2.896652936935425,
          8.000329971313477,
          -8.127970695495605,
          -7.435239791870117,
          -0.9283751249313354,
          1.22136390209198,
          7.933188438415527,
          -3.574676513671875,
          -3.1059160232543945,
          8.099709510803223,
          -0.6600602865219116,
          9.730807304382324,
          2.7321436405181885,
          -6.150888919830322,
          1.8092342615127563,
          3.5441839694976807,
          5.6501898765563965,
          -3.036712408065796,
          -0.995629072189331,
          0.7972822785377502,
          -0.3985675275325775,
          1.6484568119049072,
          -1.8750401735305786,
          10.542098999023438,
          -6.581624507904053,
          -6.305595397949219,
          11.326881408691406,
          3.540709972381592,
          10.4209566116333,
          10.027486801147461,
          -1.4719467163085938,
          4.070860385894775,
          -7.48472261428833,
          3.241743326187134,
          -0.7044058442115784,
          -1.7469513416290283,
          -5.59488582611084,
          3.070931911468506,
          -4.257993221282959,
          12.613746643066406,
          2.028266668319702,
          1.5056309700012207,
          -7.256528377532959,
          -7.206638336181641,
          1.088954210281372,
          -4.158658981323242,
          8.152015686035156,
          -7.911008358001709,
          -8.047837257385254,
          0.7961443066596985,
          -6.365501880645752,
          -7.617893695831299,
          1.273530125617981,
          3.316655397415161,
          -5.548075199127197,
          12.526942253112793,
          3.6328117847442627,
          -7.561539173126221,
          4.668846607208252,
          -4.682596683502197,
          0.07323668897151947,
          -4.034981727600098,
          2.304875612258911,
          10.836833953857422,
          -6.419514179229736,
          -6.937093257904053,
          9.072844505310059,
          3.441854476928711,
          3.9360098838806152,
          -7.2196455001831055,
          -2.403081178665161,
          3.4311137199401855,
          7.464763164520264,
          8.637848854064941,
          -7.122525215148926,
          -4.8919806480407715,
          -6.022082328796387,
          8.739228248596191,
          2.752121925354004,
          9.572810173034668,
          11.14316177368164,
          -1.8388690948486328,
          10.46524715423584,
          1.718674659729004,
          4.498017311096191,
          -1.810860276222229,
          11.786433219909668,
          1.222221851348877,
          -4.770071506500244,
          -5.149595737457275,
          1.9163591861724854,
          5.731596946716309,
          5.565489292144775,
          -3.456587791442871,
          -9.564692497253418,
          -2.6544806957244873,
          -3.1030216217041016,
          -0.7044422030448914,
          0.37460675835609436,
          -3.081266403198242,
          8.31452465057373,
          -2.952667713165283,
          -6.918338775634766,
          5.839314937591553,
          -1.7666524648666382,
          -0.5017740726470947,
          -7.598326683044434,
          -3.2080471515655518,
          6.670408248901367,
          1.2048643827438354,
          -4.4055891036987305,
          -3.4650635719299316,
          -5.478869438171387,
          -0.613774836063385,
          9.930886268615723,
          3.265660047531128,
          -0.943254292011261,
          -4.46215295791626,
          2.0821423530578613,
          4.793138027191162,
          -3.049258232116699,
          -7.89578104019165,
          3.391974925994873,
          -0.07449869811534882,
          -6.463254451751709,
          2.675008773803711,
          -6.893612861633301,
          -2.1340198516845703,
          -2.5259616374969482,
          -5.938553333282471,
          9.638650894165039,
          -0.1175919622182846,
          1.3160885572433472,
          -6.0591864585876465,
          10.429333686828613,
          -6.896684646606445,
          -7.253602981567383,
          11.252582550048828,
          -8.5908784866333,
          3.051013946533203,
          3.5035839080810547,
          -3.566997528076172,
          9.194613456726074,
          10.886802673339844,
          -6.5898919105529785,
          6.418995380401611,
          -2.027461290359497,
          -0.49247875809669495,
          -1.2629722356796265,
          -2.7088661193847656,
          0.24870342016220093,
          -0.6613547205924988,
          -2.513665199279785,
          -0.6491168737411499,
          11.465374946594238,
          -3.396350145339966,
          -6.8023881912231445,
          -6.167290210723877,
          -2.2012829780578613,
          5.588203430175781,
          -2.9427051544189453,
          -4.850616931915283,
          4.188799858093262,
          8.079598426818848,
          3.101595163345337,
          -1.1095384359359741,
          3.115623712539673,
          1.3244342803955078,
          -5.902017116546631,
          0.903761625289917,
          8.5743989944458,
          -7.7209014892578125,
          7.1065545082092285,
          -7.298940181732178,
          -2.673149347305298,
          11.21300983428955,
          -1.1256892681121826,
          -0.9738010168075562,
          -0.9604069590568542,
          -6.668236255645752,
          1.0188554525375366,
          4.1246514320373535,
          -6.2266669273376465,
          -7.897970676422119,
          3.3559038639068604,
          -0.27094048261642456,
          -2.1956288814544678,
          -6.5579833984375,
          9.710392951965332,
          4.178242206573486,
          1.56802237033844,
          -8.955198287963867,
          4.139391899108887,
          0.20871542394161224,
          5.611225605010986,
          0.4080154597759247,
          -1.4615366458892822,
          6.71155309677124,
          -0.03514287993311882,
          -6.730250835418701,
          6.109560966491699,
          3.4299192428588867,
          5.937450408935547,
          -5.311691761016846,
          -7.432834625244141,
          0.6556673049926758,
          -3.903939962387085,
          2.1342523097991943,
          10.465460777282715,
          -4.522367477416992,
          0.23231469094753265,
          1.144141435623169,
          -1.0326652526855469,
          -0.3644939064979553,
          -6.03104829788208,
          -7.149693012237549,
          -5.945895195007324,
          10.533499717712402,
          -2.3344359397888184,
          -2.82895565032959,
          4.058276176452637,
          8.589301109313965,
          -6.538275241851807,
          4.5561041831970215,
          8.876964569091797,
          9.0122652053833,
          9.357316970825195,
          1.7688441276550293,
          -1.0860713720321655,
          -5.222664833068848,
          -3.730593204498291,
          9.936311721801758,
          0.6728013753890991,
          5.32679557800293,
          10.038863182067871,
          0.004586546681821346,
          0.3023732304573059,
          -6.256466388702393,
          -0.7532288432121277,
          3.447812795639038,
          -1.151322841644287,
          1.3443468809127808,
          5.911412715911865,
          -0.03642570972442627,
          -2.7784316539764404,
          -3.978259801864624,
          -1.1429908275604248,
          -9.255839347839355,
          -4.74729061126709,
          -5.9760966300964355,
          -9.530726432800293,
          6.803999423980713,
          -4.310523986816406,
          -0.9826156497001648,
          -5.261638641357422,
          -6.074203014373779,
          -2.911627769470215,
          -9.32796573638916,
          4.501345634460449,
          -4.5173869132995605,
          -2.445626974105835,
          -0.6717821359634399,
          9.885390281677246,
          -5.774102210998535,
          8.703282356262207,
          3.1032354831695557,
          -5.29564905166626,
          -3.2269766330718994,
          5.164632320404053,
          -8.085733413696289,
          1.4200245141983032,
          0.2907210886478424,
          10.190534591674805,
          -5.273382663726807,
          2.836578130722046,
          3.7830028533935547,
          11.011419296264648,
          -5.1011857986450195,
          0.49379244446754456,
          12.210134506225586,
          0.7879496216773987,
          -5.200437545776367,
          -6.538546085357666,
          -6.484157562255859,
          -6.178155899047852,
          -6.9136061668396,
          -1.1498148441314697,
          -1.046367883682251,
          9.049100875854492,
          0.17029696702957153,
          -5.979696273803711,
          -6.085229873657227,
          -1.107085943222046,
          -7.195582866668701,
          7.529146194458008,
          4.351879596710205,
          -0.8225403428077698,
          0.18011023104190826,
          -7.161412715911865,
          -0.938879132270813,
          5.066595077514648,
          5.747855186462402,
          11.986221313476562,
          1.9869321584701538,
          -7.717916965484619,
          9.577040672302246,
          1.7685184478759766,
          -2.8047292232513428,
          5.32735013961792,
          -2.9233345985412598,
          -6.059098243713379,
          -1.1360862255096436,
          8.679895401000977,
          -2.229365110397339,
          -8.962121963500977,
          -2.827455520629883,
          -0.6898849606513977,
          5.978725433349609,
          -5.366305351257324,
          6.129668235778809,
          -0.16477425396442413,
          -7.576382160186768,
          -1.2955089807510376,
          -6.315577507019043,
          6.382144927978516,
          5.673651218414307,
          -2.1443960666656494,
          -2.022289276123047,
          6.132002830505371,
          -6.442611217498779,
          -3.593559741973877,
          -2.0776569843292236,
          7.298410415649414,
          -7.2163920402526855,
          11.67233943939209,
          -7.590381622314453,
          -6.1845316886901855,
          -3.9035048484802246,
          3.706920623779297,
          -6.454802989959717,
          9.09099006652832,
          3.72251558303833,
          -5.608537197113037,
          -3.5759077072143555,
          6.281142234802246,
          0.7211569547653198,
          -7.2924065589904785,
          3.3405866622924805,
          6.369039058685303,
          8.923262596130371,
          11.562907218933105,
          -2.710029125213623,
          -0.712572455406189,
          -3.14760422706604,
          4.404052257537842,
          -7.824763774871826,
          2.0804250240325928,
          -8.995806694030762,
          1.2189921140670776,
          -7.856733322143555,
          -1.032711148262024,
          -2.4424233436584473,
          3.2750344276428223,
          6.417736530303955,
          -5.228806018829346,
          1.331642985343933,
          -2.8403897285461426,
          -5.480113983154297,
          12.68628978729248,
          -6.290520668029785,
          -3.2462360858917236,
          3.043299913406372,
          -6.106448650360107,
          3.9254376888275146,
          4.127161502838135,
          1.5173413753509521,
          -5.5267014503479,
          -2.0146493911743164,
          4.494568824768066,
          1.1957695484161377,
          -2.9433224201202393,
          4.032829761505127,
          2.0994226932525635,
          -6.374579906463623,
          10.76030158996582,
          1.0865373611450195,
          -5.6027631759643555,
          -6.0832600593566895,
          -5.9640021324157715,
          0.5374042391777039,
          5.947775363922119,
          10.482025146484375,
          -7.154343605041504,
          4.256826877593994,
          0.3048447370529175,
          0.749402642250061,
          -9.493096351623535,
          -0.06734027713537216,
          1.490463376045227,
          -5.8223090171813965,
          -3.2394602298736572,
          12.153128623962402,
          6.155032634735107,
          -5.6429667472839355,
          -7.332414150238037,
          3.258178234100342,
          -2.424382448196411,
          -0.24036945402622223,
          1.0654923915863037,
          5.394199371337891,
          -4.576417446136475,
          12.714434623718262,
          5.590165615081787,
          7.317965984344482,
          7.115972995758057,
          -5.760948181152344,
          7.532618999481201,
          4.129356861114502,
          4.566601753234863,
          2.5323424339294434,
          3.0864036083221436,
          -8.584395408630371,
          -4.3414716720581055,
          8.290428161621094,
          2.8730294704437256,
          -1.4226858615875244,
          -2.008092164993286,
          -5.753866195678711,
          3.468672037124634,
          6.539516448974609,
          12.297213554382324,
          -2.991170644760132,
          0.9011304378509521,
          -1.9392348527908325,
          -5.083150863647461,
          10.128521919250488,
          9.368227005004883,
          -1.258698582649231,
          -3.1329145431518555,
          5.165798664093018,
          4.176253318786621,
          2.602576732635498,
          11.398977279663086,
          -6.240443229675293,
          -7.9217753410339355,
          8.108037948608398,
          -7.288426399230957,
          10.037456512451172,
          -2.6411867141723633,
          -6.6701788902282715,
          4.919276237487793,
          -4.882848262786865,
          -6.597443580627441,
          -3.0706381797790527,
          11.428181648254395,
          -1.2801564931869507,
          0.7023977041244507,
          -0.19936254620552063,
          2.681471586227417,
          7.18613862991333,
          -8.371007919311523,
          4.1935930252075195,
          -6.3279829025268555,
          8.676511764526367,
          3.9632394313812256,
          -1.2210482358932495,
          -8.674078941345215,
          -3.0496912002563477,
          8.110201835632324,
          1.065223217010498,
          -0.19928951561450958,
          -0.32802024483680725,
          -7.670623779296875,
          -4.732645511627197,
          -3.2585244178771973,
          -6.94706916809082,
          -4.5099382400512695,
          -0.22996394336223602,
          -2.3832597732543945,
          -7.858193397521973,
          -1.4054011106491089,
          2.4299707412719727,
          8.859006881713867,
          -8.583494186401367,
          -4.069068908691406,
          -6.336081027984619,
          0.638973593711853,
          -6.041567802429199,
          10.836835861206055,
          3.1743714809417725,
          7.066918849945068,
          12.661408424377441,
          3.897247791290283,
          -2.1275081634521484,
          -9.551450729370117,
          10.26008129119873,
          -0.8111010193824768,
          -7.284453868865967,
          -6.58936882019043,
          -5.818848133087158,
          -5.803640842437744,
          -6.685855388641357,
          2.724125623703003,
          -2.336859703063965,
          2.2299132347106934,
          -6.11280632019043,
          5.682246685028076,
          3.481904983520508,
          3.897122859954834,
          4.346844673156738,
          -8.900318145751953,
          -1.6091333627700806,
          -8.557276725769043,
          -5.156031131744385,
          2.311497688293457,
          -7.540663242340088,
          -7.552287578582764,
          -9.444887161254883,
          3.1390442848205566,
          -7.541658878326416,
          6.157270431518555,
          -3.832564353942871,
          -9.07900333404541,
          4.654757022857666,
          -3.795440435409546,
          -8.8799467086792,
          -1.6636979579925537,
          4.0789666175842285,
          4.3140058517456055,
          -5.279937267303467,
          2.586177110671997,
          -3.9323291778564453,
          0.45919570326805115,
          3.897245168685913,
          11.494922637939453,
          3.983319044113159,
          6.7959303855896,
          6.509586811065674,
          -2.0802698135375977,
          11.035002708435059,
          -6.018615245819092,
          3.457029342651367,
          -6.007030487060547,
          -3.874744415283203,
          -0.9904497861862183,
          10.434075355529785,
          5.120960235595703,
          6.475769519805908,
          10.843746185302734,
          -0.8913903832435608,
          -4.588592529296875,
          -9.304030418395996,
          -8.227062225341797,
          -1.958385944366455,
          3.2390213012695312,
          0.37714433670043945,
          -6.280875205993652,
          -2.1965115070343018,
          11.30466079711914,
          3.250169277191162,
          4.231817722320557,
          5.147514343261719,
          -4.984774589538574,
          6.344682216644287,
          -1.9633146524429321,
          -6.630979537963867,
          -7.488393783569336,
          -3.2933106422424316,
          -3.529232978820801,
          -4.03394889831543,
          11.932220458984375,
          -7.154211044311523,
          2.6035337448120117,
          6.234570026397705,
          8.855828285217285,
          5.782288074493408,
          -4.84252405166626,
          -8.363875389099121,
          -6.40185546875,
          2.8109309673309326,
          -1.4822628498077393,
          -9.110467910766602,
          1.2517465353012085,
          -7.565939426422119,
          -5.931591987609863,
          -9.120595932006836,
          -3.512885332107544,
          0.7105978727340698,
          -2.5847549438476562,
          1.1642664670944214,
          6.449277877807617,
          -3.0816869735717773,
          -5.678859233856201,
          -1.409766674041748,
          0.9523391723632812,
          -8.991007804870605,
          10.035191535949707,
          -0.21962301433086395,
          -4.6713786125183105,
          -2.081341505050659,
          0.429983913898468,
          -4.927011489868164,
          9.392426490783691,
          3.89711594581604,
          2.1652936935424805,
          0.8405991792678833,
          -1.903748631477356,
          -7.440054416656494,
          -1.2671228647232056,
          -0.2166636884212494,
          8.280019760131836,
          4.885940074920654,
          11.714716911315918,
          -4.042740821838379,
          -2.360196590423584,
          -9.563146591186523,
          -8.044266700744629,
          -0.4189341366291046,
          -1.0110268592834473,
          -2.740628957748413,
          -0.9551999568939209,
          5.816673755645752,
          -2.6196563243865967,
          5.773946762084961,
          -2.653555393218994,
          -6.074202060699463,
          2.6888084411621094,
          -4.615870952606201,
          6.61984920501709,
          -9.226725578308105,
          -9.35093879699707,
          -3.107255458831787,
          3.1297409534454346,
          0.20371367037296295,
          2.3928375244140625,
          -7.902331352233887,
          5.332122802734375,
          -6.808046340942383,
          0.9788390398025513,
          2.6762917041778564,
          -3.9723641872406006,
          3.2120158672332764,
          3.2893903255462646,
          -3.4861299991607666,
          -9.444890022277832,
          -6.463975429534912,
          0.25462618470191956,
          3.6978299617767334,
          1.837813138961792,
          1.861000895500183,
          10.226259231567383,
          2.1459226608276367,
          3.1541566848754883,
          -4.810160160064697,
          10.670936584472656,
          -3.1031064987182617,
          2.540607213973999,
          -7.518157958984375,
          4.437519550323486,
          6.5082573890686035,
          -2.462782382965088,
          0.18466347455978394,
          5.435359954833984,
          -9.47346305847168,
          -9.646842956542969,
          -7.883522987365723,
          -2.8996307849884033,
          5.909215450286865,
          5.5901665687561035,
          -3.8844285011291504,
          4.976953029632568,
          -2.947495460510254,
          3.825256586074829,
          4.844594478607178,
          -7.884594440460205,
          2.787567377090454,
          9.006417274475098,
          7.526848316192627,
          -0.618804931640625,
          -0.6941490173339844,
          -4.490079402923584,
          -3.9853415489196777,
          -3.9599177837371826,
          12.644580841064453,
          -6.004691123962402,
          1.7882356643676758,
          -2.721695899963379,
          9.366135597229004,
          6.274823188781738,
          4.013843536376953,
          8.437651634216309,
          -4.02808952331543,
          6.134149074554443,
          3.6709697246551514,
          -0.527565598487854,
          -0.02123182639479637,
          3.1055822372436523,
          1.4980931282043457,
          -8.024633407592773,
          2.0889811515808105,
          2.329111099243164,
          2.958531618118286,
          1.5423853397369385,
          -5.209131717681885,
          -7.304156303405762,
          -0.9079679846763611,
          3.0094847679138184,
          3.2058184146881104,
          -5.360908031463623,
          0.08342777192592621,
          -1.0650537014007568,
          9.842448234558105,
          10.18402099609375,
          7.511154651641846,
          -4.10862398147583,
          -5.936039447784424,
          1.010699987411499,
          -2.1569416522979736,
          -6.3967390060424805,
          3.208591938018799,
          -3.075570821762085,
          -0.7549275755882263,
          -1.837786078453064,
          -3.8228461742401123,
          -7.7595109939575195,
          5.569056987762451,
          -0.539461076259613,
          7.873222351074219,
          0.6730368137359619,
          3.2295854091644287,
          -3.0577781200408936,
          -6.687005996704102,
          -5.802321434020996,
          4.3048095703125,
          -6.3159871101379395,
          -4.280544757843018,
          7.204197406768799,
          5.355846405029297,
          9.963046073913574,
          4.172922134399414,
          -7.590353965759277,
          -1.393166184425354,
          -1.899288296699524,
          -7.073917865753174,
          8.039552688598633,
          -9.411456108093262,
          5.824280738830566,
          -7.917543411254883,
          4.020781993865967,
          1.1522793769836426,
          0.5187716484069824,
          3.3503336906433105,
          1.8325402736663818,
          -3.7170286178588867,
          0.918187141418457,
          10.011842727661133,
          -5.040960788726807,
          0.7246124744415283,
          -6.454627990722656,
          5.287599563598633,
          -7.29994535446167,
          -9.444887161254883,
          4.389986991882324,
          3.1257200241088867,
          -8.561676979064941,
          -4.7526068687438965,
          -2.2163519859313965,
          6.531893730163574,
          2.530543565750122,
          0.6233924627304077,
          -1.5759174823760986,
          0.6369117498397827,
          12.101454734802246,
          7.918316841125488,
          10.501667022705078,
          -2.6740124225616455,
          -3.483952283859253,
          -1.1903225183486938,
          3.2706897258758545,
          -9.089217185974121,
          -8.1087064743042,
          2.3080787658691406,
          -2.857215642929077,
          6.874176502227783,
          11.933451652526855,
          -5.701506614685059,
          -3.3860886096954346,
          -6.581331253051758,
          9.92712688446045,
          -5.6457366943359375,
          9.71998119354248,
          -1.9583860635757446,
          -7.482455730438232,
          11.29664134979248,
          -2.0223705768585205,
          3.018486261367798,
          -2.790687084197998,
          -0.34746578335762024,
          -4.133688926696777,
          3.129394054412842,
          -7.281634330749512,
          -5.750211715698242,
          -4.053559303283691,
          -9.336783409118652,
          5.1215362548828125,
          6.6183552742004395,
          -2.0080275535583496,
          6.361659526824951,
          1.58818781375885,
          2.109869956970215,
          -1.7630412578582764,
          -3.1974096298217773,
          1.161230444908142,
          -2.295428991317749,
          -5.665602207183838,
          -8.38147258758545,
          1.4001299142837524,
          -1.5757780075073242,
          2.2348203659057617,
          7.887700080871582,
          10.5869140625,
          4.970226287841797,
          2.0988576412200928,
          5.956100940704346,
          9.206687927246094,
          3.3816189765930176,
          -1.8364372253417969
         ],
         "z": [
          -7.593077182769775,
          -10.875203132629395,
          -2.1310622692108154,
          -11.068061828613281,
          9.210033416748047,
          -6.384228229522705,
          3.971304178237915,
          -8.973455429077148,
          0.5606200695037842,
          6.282854080200195,
          -13.3173828125,
          -4.169502258300781,
          4.394073486328125,
          -4.7533955574035645,
          7.3732757568359375,
          8.660992622375488,
          -12.826692581176758,
          3.558739185333252,
          -3.368959903717041,
          10.185345649719238,
          -4.5137786865234375,
          -8.984278678894043,
          4.3910298347473145,
          -12.76226806640625,
          -4.502462863922119,
          -11.927690505981445,
          -11.107927322387695,
          6.10024356842041,
          7.168493270874023,
          9.726579666137695,
          10.70145320892334,
          -7.912354946136475,
          5.6966552734375,
          -8.411507606506348,
          -4.074429988861084,
          -14.602421760559082,
          0.04929787293076515,
          7.045424938201904,
          10.094075202941895,
          -0.9749085307121277,
          5.762707710266113,
          4.793575763702393,
          5.614078998565674,
          11.242526054382324,
          -0.10922212153673172,
          9.971830368041992,
          -2.9550905227661133,
          -9.208840370178223,
          3.4385299682617188,
          6.945514678955078,
          6.705475807189941,
          2.7322072982788086,
          3.154280424118042,
          -11.719237327575684,
          -3.1914329528808594,
          -5.929270267486572,
          9.496073722839355,
          -8.80162525177002,
          3.1244113445281982,
          8.923229217529297,
          4.591490268707275,
          0.5136470198631287,
          -5.340610504150391,
          -12.82241439819336,
          -8.170367240905762,
          6.945036888122559,
          -5.420243263244629,
          -7.449587345123291,
          10.797956466674805,
          5.024960041046143,
          -1.9845902919769287,
          9.668012619018555,
          -4.9451823234558105,
          1.986255168914795,
          -5.3902692794799805,
          3.0729169845581055,
          -11.343422889709473,
          6.368990898132324,
          7.109835624694824,
          2.1218647956848145,
          -0.8899527788162231,
          -11.099455833435059,
          -3.3610129356384277,
          3.820706605911255,
          -8.44742202758789,
          -8.795369148254395,
          -4.130537986755371,
          1.9078972339630127,
          -3.6123101711273193,
          -2.0272738933563232,
          -3.9346351623535156,
          -11.727267265319824,
          9.467771530151367,
          2.9819729328155518,
          -8.756670951843262,
          6.751031398773193,
          -8.996893882751465,
          -8.540765762329102,
          -4.022462368011475,
          -5.2442216873168945,
          -11.19112777709961,
          -7.403269290924072,
          -12.47213363647461,
          10.005182266235352,
          -9.847115516662598,
          -1.0374805927276611,
          -3.492828130722046,
          -4.7898054122924805,
          -12.316988945007324,
          -8.354448318481445,
          -12.268095970153809,
          6.148482799530029,
          4.7498393058776855,
          -9.654147148132324,
          6.144320964813232,
          -11.21907901763916,
          6.492926597595215,
          1.82086980342865,
          8.871390342712402,
          -7.3913445472717285,
          2.15175199508667,
          -13.907570838928223,
          -13.646615028381348,
          -2.9479451179504395,
          -13.47602367401123,
          0.2543380558490753,
          9.0829439163208,
          -13.144658088684082,
          -7.398317813873291,
          -12.433086395263672,
          3.924553871154785,
          -8.586709976196289,
          4.7228193283081055,
          -4.1456427574157715,
          -11.139830589294434,
          10.113951683044434,
          -4.6946210861206055,
          1.4808670282363892,
          -9.775801658630371,
          -9.893902778625488,
          4.345313549041748,
          5.019242763519287,
          4.855341911315918,
          2.5222256183624268,
          -8.345467567443848,
          6.094911575317383,
          -11.406137466430664,
          -3.378645420074463,
          9.305499076843262,
          10.186261177062988,
          -8.935051918029785,
          -8.382493019104004,
          2.6563589572906494,
          -4.2086567878723145,
          7.771347999572754,
          2.3698055744171143,
          -4.9526753425598145,
          9.15529727935791,
          -2.6836163997650146,
          6.54291296005249,
          5.587664604187012,
          -8.17414665222168,
          3.2309093475341797,
          -12.322437286376953,
          8.722991943359375,
          9.51339340209961,
          -8.304525375366211,
          8.306848526000977,
          9.897497177124023,
          -6.561396598815918,
          4.073190212249756,
          -4.152620792388916,
          -0.19878175854682922,
          -1.8852205276489258,
          1.5720582008361816,
          -8.038569450378418,
          -9.437393188476562,
          -8.479806900024414,
          -10.051933288574219,
          0.7724734544754028,
          9.393588066101074,
          3.8887696266174316,
          -10.401447296142578,
          4.6239519119262695,
          -7.847302436828613,
          10.464488983154297,
          9.568746566772461,
          4.998877048492432,
          4.623015403747559,
          -11.908792495727539,
          -1.2187329530715942,
          -9.167121887207031,
          -6.112503528594971,
          10.26911735534668,
          -6.810800075531006,
          -5.2693257331848145,
          10.785834312438965,
          4.9017486572265625,
          -12.632248878479004,
          -2.0104758739471436,
          -2.562901496887207,
          2.8574512004852295,
          -8.420692443847656,
          9.330649375915527,
          5.59912633895874,
          9.703405380249023,
          -12.210562705993652,
          -0.11085354536771774,
          8.480911254882812,
          7.84164571762085,
          -5.286384582519531,
          6.555238723754883,
          9.298592567443848,
          9.640914916992188,
          9.56521224975586,
          0.3557918965816498,
          10.217582702636719,
          8.419063568115234,
          2.4907798767089844,
          1.4560163021087646,
          -12.518524169921875,
          -8.962350845336914,
          0.0874260738492012,
          8.824627876281738,
          0.7493072152137756,
          9.091573715209961,
          -12.293074607849121,
          2.8750786781311035,
          -5.7939019203186035,
          -2.943533182144165,
          -3.4198763370513916,
          0.8028513789176941,
          -14.453930854797363,
          -6.610321521759033,
          8.365706443786621,
          -12.96904468536377,
          -9.1486177444458,
          -0.8405492901802063,
          -8.484908103942871,
          -2.837935447692871,
          1.6382806301116943,
          1.9634944200515747,
          -12.972270965576172,
          -8.836369514465332,
          -3.7374463081359863,
          -3.2663183212280273,
          10.601966857910156,
          0.02857792191207409,
          1.224177598953247,
          -5.556809902191162,
          -3.4409573078155518,
          -6.512417793273926,
          -8.952747344970703,
          9.38982105255127,
          4.260861396789551,
          10.999177932739258,
          -10.298298835754395,
          0.16961076855659485,
          -12.806829452514648,
          9.74856185913086,
          -9.00301742553711,
          -8.792336463928223,
          -1.2743905782699585,
          9.203130722045898,
          -6.432092666625977,
          0.2691914737224579,
          5.934916973114014,
          2.43697452545166,
          9.122358322143555,
          9.5982027053833,
          9.490962028503418,
          4.093874454498291,
          -11.987336158752441,
          -2.586979389190674,
          -10.168801307678223,
          -1.3527404069900513,
          9.141485214233398,
          8.374326705932617,
          3.625715970993042,
          -12.338801383972168,
          -1.7513995170593262,
          2.0020062923431396,
          3.6935553550720215,
          -12.356308937072754,
          3.436361789703369,
          9.58083438873291,
          -8.131660461425781,
          5.132202625274658,
          -10.892057418823242,
          -9.423155784606934,
          -6.161242485046387,
          2.3123891353607178,
          1.0004141330718994,
          -0.5138227343559265,
          7.958644390106201,
          -9.144532203674316,
          4.803338527679443,
          -9.313619613647461,
          12.403477668762207,
          1.2471716403961182,
          7.95480489730835,
          9.258037567138672,
          4.206762790679932,
          -3.1937098503112793,
          -0.8542096018791199,
          10.095431327819824,
          -4.891529560089111,
          -10.6322021484375,
          3.336489200592041,
          -5.465315818786621,
          -8.632463455200195,
          -11.84260368347168,
          -6.352267742156982,
          -4.922902584075928,
          10.717923164367676,
          -2.7969441413879395,
          -6.592407703399658,
          4.595423698425293,
          -1.3459151983261108,
          -4.843311786651611,
          10.326699256896973,
          2.642704486846924,
          -2.463102102279663,
          -0.08803088963031769,
          -7.401032447814941,
          10.571968078613281,
          -5.575280666351318,
          -10.132291793823242,
          -0.002940513426437974,
          -4.268717288970947,
          -9.476454734802246,
          -10.123395919799805,
          -4.302853107452393,
          -2.4767236709594727,
          8.710000991821289,
          3.879427433013916,
          10.51989459991455,
          2.0162785053253174,
          7.240635871887207,
          -10.833995819091797,
          -11.702676773071289,
          7.586394786834717,
          9.862804412841797,
          6.950412750244141,
          2.329508066177368,
          7.364223957061768,
          2.105502128601074,
          -5.8026652336120605,
          11.075136184692383,
          -7.1042704582214355,
          2.332953453063965,
          8.76118278503418,
          12.131271362304688,
          5.968791484832764,
          7.172144412994385,
          2.6625478267669678,
          -10.730172157287598,
          3.5545735359191895,
          9.585238456726074,
          -8.242162704467773,
          -12.864237785339355,
          9.155298233032227,
          7.046998500823975,
          8.41591739654541,
          8.839924812316895,
          -9.728507041931152,
          -8.244842529296875,
          -12.217826843261719,
          -2.287130117416382,
          -12.754069328308105,
          -3.9807732105255127,
          1.0542712211608887,
          -10.299522399902344,
          -8.87924861907959,
          10.996894836425781,
          -14.584270477294922,
          -2.3501150608062744,
          10.239507675170898,
          -9.389866828918457,
          4.104131698608398,
          -2.598849296569824,
          5.354414939880371,
          5.665825843811035,
          -6.143099308013916,
          4.857428550720215,
          8.904346466064453,
          -0.45300084352493286,
          0.597990095615387,
          -0.7068647146224976,
          0.8618193864822388,
          9.810602188110352,
          -7.599945068359375,
          2.9232676029205322,
          3.263942241668701,
          10.296294212341309,
          5.503952980041504,
          4.061246871948242,
          -8.044880867004395,
          8.670391082763672,
          10.09366512298584,
          9.172967910766602,
          -2.6326420307159424,
          4.833829879760742,
          -4.946889877319336,
          7.149137496948242,
          -10.098061561584473,
          -9.521427154541016,
          3.8374030590057373,
          10.123491287231445,
          5.673328876495361,
          -0.35887712240219116,
          0.24267950654029846,
          -1.2585798501968384,
          -2.4270811080932617,
          8.622777938842773,
          -14.897344589233398,
          -7.10780143737793,
          6.489590644836426,
          -12.854833602905273,
          3.465237855911255,
          9.629563331604004,
          9.247775077819824,
          9.378920555114746,
          9.484045028686523,
          -4.558606147766113,
          -13.829176902770996,
          -11.369569778442383,
          -3.8633084297180176,
          -9.302746772766113,
          3.2789371013641357,
          9.837576866149902,
          9.212566375732422,
          3.139106273651123,
          10.197961807250977,
          6.958030700683594,
          9.440841674804688,
          8.74874210357666,
          0.5753768086433411,
          10.379912376403809,
          -11.216867446899414,
          -0.1492047756910324,
          -12.327828407287598,
          -12.407599449157715,
          7.604405403137207,
          0.6896805167198181,
          -12.14937686920166,
          -6.41635274887085,
          1.151081919670105,
          -11.782224655151367,
          -8.15960693359375,
          5.586048126220703,
          2.9295151233673096,
          -8.998136520385742,
          -10.826536178588867,
          4.636283874511719,
          -12.536735534667969,
          3.6565659046173096,
          6.226053237915039,
          1.5046366453170776,
          -10.131770133972168,
          3.022329092025757,
          -12.910467147827148,
          4.339539527893066,
          -6.237321853637695,
          -6.695913314819336,
          9.782179832458496,
          -0.20656763017177582,
          5.021241664886475,
          9.260674476623535,
          8.465448379516602,
          9.021711349487305,
          -2.5202999114990234,
          -8.498315811157227,
          -9.781925201416016,
          6.2410783767700195,
          -5.759177207946777,
          -9.823424339294434,
          0.3706880807876587,
          -11.072375297546387,
          7.5109758377075195,
          -2.5337417125701904,
          -5.935734748840332,
          -9.191061019897461,
          -5.022314548492432,
          0.9580929279327393,
          -12.925154685974121,
          0.4321020841598511,
          8.509001731872559,
          -5.82344388961792,
          -9.62446403503418,
          -4.053598403930664,
          9.91694450378418,
          -7.323212146759033,
          3.0078251361846924,
          2.930467367172241,
          5.742660045623779,
          6.169986724853516,
          8.541581153869629,
          -10.857318878173828,
          8.693031311035156,
          6.8424787521362305,
          0.11586953699588776,
          -10.969630241394043,
          -2.858976364135742,
          -14.319327354431152,
          -11.102587699890137,
          -11.97555160522461,
          -4.52518892288208,
          -14.978334426879883,
          9.410295486450195,
          2.7552239894866943,
          -0.4187532365322113,
          -6.6820807456970215,
          3.957615613937378,
          -12.069415092468262,
          -3.3436546325683594,
          7.138733386993408,
          3.2814323902130127,
          -1.1136176586151123,
          -6.162196636199951,
          -5.165063381195068,
          10.25289535522461,
          10.302596092224121,
          2.7172675132751465,
          -7.3131914138793945,
          7.097070693969727,
          -4.524294853210449,
          7.00698709487915,
          9.854947090148926,
          10.047876358032227,
          -3.6877031326293945,
          -12.436576843261719,
          4.0677809715271,
          -4.381106853485107,
          10.288507461547852,
          1.5616507530212402,
          0.18961386382579803,
          8.860062599182129,
          1.9078911542892456,
          -1.380933403968811,
          9.272584915161133,
          7.118821144104004,
          10.895706176757812,
          0.7608898282051086,
          5.101816177368164,
          9.48421859741211,
          -12.907126426696777,
          -11.749364852905273,
          1.2364616394042969,
          3.7663471698760986,
          12.295100212097168,
          -10.294577598571777,
          -2.8638193607330322,
          -3.316298246383667,
          -0.14331845939159393,
          3.1727824211120605,
          -1.654640793800354,
          5.52627420425415,
          1.9913190603256226,
          7.383336067199707,
          -11.968286514282227,
          -10.92010498046875,
          0.20268695056438446,
          1.749796748161316,
          -6.426478385925293,
          -8.583927154541016,
          0.2589288353919983,
          10.69732666015625,
          -11.473523139953613,
          -5.4477009773254395,
          -6.215456962585449,
          9.65756893157959,
          -5.45796012878418,
          -10.849252700805664,
          -15.340792655944824,
          -6.20699405670166,
          0.43037453293800354,
          4.351509094238281,
          -10.20569133758545,
          8.0870361328125,
          -8.746475219726562,
          -11.482939720153809,
          2.858142852783203,
          -8.096343040466309,
          -4.587756633758545,
          2.4701740741729736,
          -7.375238418579102,
          9.443517684936523,
          9.324943542480469,
          -2.4885447025299072,
          -0.13184137642383575,
          11.09097671508789,
          -7.709281921386719,
          2.1090824604034424,
          10.263779640197754,
          -4.7616047859191895,
          4.021377086639404,
          -6.609492778778076,
          8.721949577331543,
          -11.570759773254395,
          -11.235207557678223,
          2.7046992778778076,
          -2.3852243423461914,
          2.4624240398406982,
          10.879830360412598,
          -4.945289611816406,
          10.079998016357422,
          -12.371679306030273,
          -8.503522872924805,
          -12.415431022644043,
          -8.593859672546387,
          9.637036323547363,
          -3.817566156387329,
          -8.43398380279541,
          -0.4143489599227905,
          9.875553131103516,
          3.2164783477783203,
          5.755765438079834,
          -2.041111469268799,
          10.943273544311523,
          8.85797119140625,
          -4.18587064743042,
          5.009077072143555,
          -15.480865478515625,
          -5.448099613189697,
          0.5117233395576477,
          -13.455578804016113,
          -10.50395679473877,
          10.917325973510742,
          0.1299045830965042,
          3.21366024017334,
          -7.09303092956543,
          8.64858627319336,
          -12.388561248779297,
          -14.632209777832031,
          5.557538986206055,
          -10.596835136413574,
          -9.928003311157227,
          4.679612636566162,
          -11.262743949890137,
          -4.068702220916748,
          -0.27369943261146545,
          -12.794111251831055,
          -1.1390951871871948,
          -12.384271621704102,
          1.7145854234695435,
          -3.590672492980957,
          9.869266510009766,
          -2.2991085052490234,
          -2.9406635761260986,
          -7.427670478820801,
          -11.085996627807617,
          4.749157428741455,
          5.554105758666992,
          9.516484260559082,
          10.819485664367676,
          9.979496955871582,
          3.9450418949127197,
          -10.395750045776367,
          -4.825021266937256,
          -12.86755657196045,
          9.5608491897583,
          3.1669487953186035,
          4.455688953399658,
          0.2944405674934387,
          -12.12179183959961,
          0.38990387320518494,
          9.51646900177002,
          -0.5559705495834351,
          -0.5252789258956909,
          -12.157108306884766,
          10.766926765441895,
          -2.0441250801086426,
          -6.869787693023682,
          5.485141754150391,
          5.406794548034668,
          -1.4194713830947876,
          -9.186121940612793,
          7.383029937744141,
          8.583752632141113,
          -2.8241491317749023,
          -7.72920036315918,
          -5.368470668792725,
          5.765370845794678,
          -11.251461029052734,
          -9.00301742553711,
          5.751948833465576,
          -12.067151069641113,
          -8.804389953613281,
          9.74087905883789,
          -11.93704891204834,
          2.3596112728118896,
          9.38829517364502,
          3.475327253341675,
          3.8314857482910156,
          2.8998630046844482,
          -9.935806274414062,
          -7.586093425750732,
          1.4047510623931885,
          10.553350448608398,
          2.7517337799072266,
          1.699901819229126,
          -6.862757682800293,
          9.926300048828125,
          1.970367431640625,
          9.740242004394531,
          -8.996760368347168,
          -4.243410587310791,
          0.7164446711540222,
          -3.3832290172576904,
          -11.508604049682617,
          6.729110240936279,
          7.145066738128662,
          -3.0637474060058594,
          1.5728627443313599,
          -2.2904205322265625,
          -2.978288173675537,
          -11.39306640625,
          9.543399810791016,
          4.094235897064209,
          -10.603792190551758,
          10.258292198181152,
          -1.8453307151794434,
          1.3483082056045532,
          9.400169372558594,
          1.8664127588272095,
          -10.658445358276367,
          7.576483249664307,
          10.347734451293945,
          -7.460086822509766,
          9.740602493286133,
          -10.358744621276855,
          0.4456051290035248,
          -11.75671100616455,
          10.19871997833252,
          -15.29322624206543,
          -12.0939302444458,
          -1.4014530181884766,
          2.3325469493865967,
          -3.3610124588012695,
          5.034738540649414,
          9.750373840332031,
          -8.9048433303833,
          -10.534286499023438,
          9.512104034423828,
          8.764752388000488,
          7.670835018157959,
          10.004548072814941,
          3.151540756225586,
          -1.325112223625183,
          0.9033375382423401,
          -6.442127227783203,
          -5.758681297302246,
          -1.6679309606552124,
          2.6294374465942383,
          -11.944581031799316,
          -8.666672706604004,
          6.805675983428955,
          8.775741577148438,
          -3.986495018005371,
          7.172727584838867,
          1.588301181793213,
          7.105207920074463,
          -3.9659578800201416,
          -0.5319156646728516,
          10.712815284729004,
          -3.6864776611328125,
          8.699040412902832,
          -2.4884591102600098,
          7.766870021820068,
          -11.188434600830078,
          -12.865896224975586,
          -11.115857124328613,
          -12.189812660217285,
          6.55437707901001,
          -9.076062202453613,
          -1.5421483516693115,
          3.7428836822509766,
          0.2638104259967804,
          10.521222114562988,
          -1.092077374458313,
          -0.8167798519134521,
          -4.434638023376465,
          10.759096145629883,
          -10.19705581665039,
          -14.640902519226074,
          -8.268433570861816,
          -11.62767219543457,
          4.392978191375732,
          -10.377155303955078,
          4.918551921844482,
          9.980948448181152,
          -0.03885788097977638,
          -8.879673957824707,
          10.208187103271484,
          9.937494277954102,
          -15.24813175201416,
          -6.707260608673096,
          2.864847421646118,
          9.32783031463623,
          9.74015998840332,
          0.23430459201335907,
          9.92914867401123,
          3.419358968734741,
          -2.6779491901397705,
          5.148910999298096,
          0.6744037866592407,
          9.53470516204834,
          9.680705070495605,
          -12.311674118041992,
          -7.535791397094727,
          -4.866828441619873,
          2.4429261684417725,
          -1.5225636959075928,
          -9.919421195983887,
          -7.826550483703613,
          1.616979718208313,
          6.148227214813232,
          8.4328031539917,
          -12.056326866149902,
          9.896951675415039,
          2.247746467590332,
          -8.998136520385742,
          3.348778009414673,
          10.482316017150879,
          -11.65190315246582,
          3.2817254066467285,
          1.0511696338653564,
          0.662522554397583,
          -11.217098236083984,
          -7.69653844833374,
          -2.8230581283569336,
          -3.4893763065338135,
          -7.267568111419678,
          4.737171649932861,
          10.715495109558105,
          -9.270975112915039,
          -4.8254547119140625,
          -11.568255424499512,
          9.791112899780273,
          -10.909627914428711,
          1.572852373123169,
          -4.501099109649658,
          8.60411262512207,
          9.58301067352295,
          6.390276908874512,
          4.971529960632324,
          -11.350282669067383,
          10.416020393371582,
          8.316987037658691,
          -9.238750457763672,
          -10.710992813110352,
          3.802591562271118,
          -4.77087926864624,
          7.358030319213867,
          9.876564979553223,
          9.51125717163086,
          2.0143721103668213,
          -2.0202066898345947,
          -13.419407844543457,
          3.3418233394622803,
          3.21096134185791,
          -1.7749841213226318,
          -11.614082336425781,
          -11.060157775878906,
          -12.415426254272461,
          -6.640310287475586,
          10.032512664794922,
          6.822049140930176,
          -9.834744453430176,
          9.96624755859375,
          3.2618584632873535,
          -11.266033172607422,
          -9.675895690917969,
          -12.597347259521484,
          -9.584253311157227,
          7.169061660766602,
          10.096927642822266,
          -6.193401336669922,
          -6.524925708770752,
          -8.828761100769043,
          2.695359706878662,
          1.3268465995788574,
          2.843816041946411,
          7.7459611892700195,
          -11.245882034301758,
          -0.1318018138408661,
          -12.073521614074707,
          -13.045401573181152,
          -11.631669044494629,
          9.384993553161621,
          -0.2992601990699768,
          2.9546470642089844,
          8.506580352783203,
          0.7595405578613281,
          5.473357200622559,
          10.431450843811035,
          5.676667213439941,
          -1.845703363418579,
          10.225064277648926,
          -3.677086353302002,
          3.818782329559326,
          10.571136474609375,
          -3.596281051635742,
          -3.866032123565674,
          2.9647951126098633,
          -8.514659881591797,
          9.39489459991455,
          -10.922577857971191,
          -12.008978843688965,
          -12.583398818969727,
          -12.92186450958252,
          -5.528365612030029,
          1.3918741941452026,
          -6.076574325561523,
          0.525213360786438,
          8.609047889709473,
          -14.070261001586914,
          3.4893362522125244,
          4.814030647277832,
          -6.515762805938721,
          2.7722721099853516,
          -13.594903945922852,
          4.112639904022217,
          9.943942070007324,
          4.868245601654053,
          8.841854095458984,
          3.871802806854248,
          3.9838201999664307,
          -4.95267915725708,
          -7.1742844581604,
          7.540807723999023,
          -1.609576940536499,
          10.066131591796875,
          -7.318596839904785,
          9.25274658203125,
          -10.621905326843262,
          4.067784309387207,
          3.009594202041626,
          4.279131889343262,
          1.2875548601150513,
          -12.815119743347168,
          1.3209145069122314,
          -7.798931121826172,
          -2.226263999938965,
          9.170601844787598,
          -4.465625286102295,
          10.414521217346191,
          0.4622672200202942,
          5.110745429992676,
          6.6743011474609375,
          1.7584153413772583,
          8.990008354187012,
          2.788648843765259,
          3.624901294708252,
          -6.258129119873047,
          10.326265335083008,
          -3.651712656021118,
          1.5728594064712524,
          8.179889678955078,
          -11.639065742492676,
          -2.2551934719085693,
          9.711355209350586,
          2.494009017944336,
          -11.821327209472656,
          -1.2951760292053223,
          -0.2673895061016083,
          4.008381366729736,
          4.156163215637207,
          -9.870098114013672,
          -8.904396057128906,
          8.798346519470215,
          2.8470375537872314,
          -13.75267505645752,
          4.6695733070373535,
          -3.40413236618042,
          4.637670040130615,
          -1.0160402059555054,
          -9.194140434265137,
          -6.9803690910339355,
          -11.778947830200195,
          8.680974960327148,
          -6.173201560974121,
          -13.776864051818848,
          -8.962556838989258,
          8.585817337036133,
          9.377376556396484,
          -9.327630996704102,
          0.9033375382423401,
          6.213048458099365,
          -11.506253242492676,
          -7.754507541656494,
          5.088080406188965,
          1.6877782344818115,
          5.658176422119141,
          2.890286684036255,
          5.744869232177734,
          5.638234615325928,
          -2.3859331607818604,
          6.334166049957275,
          1.019310712814331,
          -7.138383865356445,
          -13.564264297485352,
          4.418347358703613,
          -11.481842041015625,
          8.748717308044434,
          -0.8130015134811401,
          4.598304748535156,
          -13.417283058166504,
          -9.286724090576172,
          -14.91661262512207,
          -10.411941528320312,
          -1.8215433359146118,
          -1.0981497764587402,
          4.0083699226379395,
          -1.6931381225585938,
          9.782625198364258,
          -11.861138343811035,
          -9.301529884338379,
          -9.185864448547363,
          -11.216866493225098,
          -12.532188415527344,
          -4.087393283843994,
          2.083958148956299
         ]
        }
       ],
       "layout": {
        "coloraxis": {
         "colorbar": {
          "title": {
           "text": "pc_3"
          }
         },
         "colorscale": [
          [
           0,
           "#0d0887"
          ],
          [
           0.1111111111111111,
           "#46039f"
          ],
          [
           0.2222222222222222,
           "#7201a8"
          ],
          [
           0.3333333333333333,
           "#9c179e"
          ],
          [
           0.4444444444444444,
           "#bd3786"
          ],
          [
           0.5555555555555556,
           "#d8576b"
          ],
          [
           0.6666666666666666,
           "#ed7953"
          ],
          [
           0.7777777777777778,
           "#fb9f3a"
          ],
          [
           0.8888888888888888,
           "#fdca26"
          ],
          [
           1,
           "#f0f921"
          ]
         ],
         "showscale": false
        },
        "height": 500,
        "legend": {
         "tracegroupgap": 0
        },
        "margin": {
         "t": 60
        },
        "scene": {
         "domain": {
          "x": [
           0,
           1
          ],
          "y": [
           0,
           1
          ]
         },
         "xaxis": {
          "title": {
           "text": "pc_1"
          }
         },
         "yaxis": {
          "title": {
           "text": "pc_2"
          }
         },
         "zaxis": {
          "title": {
           "text": "pc_3"
          }
         }
        },
        "showlegend": false,
        "template": {
         "data": {
          "bar": [
           {
            "error_x": {
             "color": "#2a3f5f"
            },
            "error_y": {
             "color": "#2a3f5f"
            },
            "marker": {
             "line": {
              "color": "#E5ECF6",
              "width": 0.5
             }
            },
            "type": "bar"
           }
          ],
          "barpolar": [
           {
            "marker": {
             "line": {
              "color": "#E5ECF6",
              "width": 0.5
             }
            },
            "type": "barpolar"
           }
          ],
          "carpet": [
           {
            "aaxis": {
             "endlinecolor": "#2a3f5f",
             "gridcolor": "white",
             "linecolor": "white",
             "minorgridcolor": "white",
             "startlinecolor": "#2a3f5f"
            },
            "baxis": {
             "endlinecolor": "#2a3f5f",
             "gridcolor": "white",
             "linecolor": "white",
             "minorgridcolor": "white",
             "startlinecolor": "#2a3f5f"
            },
            "type": "carpet"
           }
          ],
          "choropleth": [
           {
            "colorbar": {
             "outlinewidth": 0,
             "ticks": ""
            },
            "type": "choropleth"
           }
          ],
          "contour": [
           {
            "colorbar": {
             "outlinewidth": 0,
             "ticks": ""
            },
            "colorscale": [
             [
              0,
              "#0d0887"
             ],
             [
              0.1111111111111111,
              "#46039f"
             ],
             [
              0.2222222222222222,
              "#7201a8"
             ],
             [
              0.3333333333333333,
              "#9c179e"
             ],
             [
              0.4444444444444444,
              "#bd3786"
             ],
             [
              0.5555555555555556,
              "#d8576b"
             ],
             [
              0.6666666666666666,
              "#ed7953"
             ],
             [
              0.7777777777777778,
              "#fb9f3a"
             ],
             [
              0.8888888888888888,
              "#fdca26"
             ],
             [
              1,
              "#f0f921"
             ]
            ],
            "type": "contour"
           }
          ],
          "contourcarpet": [
           {
            "colorbar": {
             "outlinewidth": 0,
             "ticks": ""
            },
            "type": "contourcarpet"
           }
          ],
          "heatmap": [
           {
            "colorbar": {
             "outlinewidth": 0,
             "ticks": ""
            },
            "colorscale": [
             [
              0,
              "#0d0887"
             ],
             [
              0.1111111111111111,
              "#46039f"
             ],
             [
              0.2222222222222222,
              "#7201a8"
             ],
             [
              0.3333333333333333,
              "#9c179e"
             ],
             [
              0.4444444444444444,
              "#bd3786"
             ],
             [
              0.5555555555555556,
              "#d8576b"
             ],
             [
              0.6666666666666666,
              "#ed7953"
             ],
             [
              0.7777777777777778,
              "#fb9f3a"
             ],
             [
              0.8888888888888888,
              "#fdca26"
             ],
             [
              1,
              "#f0f921"
             ]
            ],
            "type": "heatmap"
           }
          ],
          "heatmapgl": [
           {
            "colorbar": {
             "outlinewidth": 0,
             "ticks": ""
            },
            "colorscale": [
             [
              0,
              "#0d0887"
             ],
             [
              0.1111111111111111,
              "#46039f"
             ],
             [
              0.2222222222222222,
              "#7201a8"
             ],
             [
              0.3333333333333333,
              "#9c179e"
             ],
             [
              0.4444444444444444,
              "#bd3786"
             ],
             [
              0.5555555555555556,
              "#d8576b"
             ],
             [
              0.6666666666666666,
              "#ed7953"
             ],
             [
              0.7777777777777778,
              "#fb9f3a"
             ],
             [
              0.8888888888888888,
              "#fdca26"
             ],
             [
              1,
              "#f0f921"
             ]
            ],
            "type": "heatmapgl"
           }
          ],
          "histogram": [
           {
            "marker": {
             "colorbar": {
              "outlinewidth": 0,
              "ticks": ""
             }
            },
            "type": "histogram"
           }
          ],
          "histogram2d": [
           {
            "colorbar": {
             "outlinewidth": 0,
             "ticks": ""
            },
            "colorscale": [
             [
              0,
              "#0d0887"
             ],
             [
              0.1111111111111111,
              "#46039f"
             ],
             [
              0.2222222222222222,
              "#7201a8"
             ],
             [
              0.3333333333333333,
              "#9c179e"
             ],
             [
              0.4444444444444444,
              "#bd3786"
             ],
             [
              0.5555555555555556,
              "#d8576b"
             ],
             [
              0.6666666666666666,
              "#ed7953"
             ],
             [
              0.7777777777777778,
              "#fb9f3a"
             ],
             [
              0.8888888888888888,
              "#fdca26"
             ],
             [
              1,
              "#f0f921"
             ]
            ],
            "type": "histogram2d"
           }
          ],
          "histogram2dcontour": [
           {
            "colorbar": {
             "outlinewidth": 0,
             "ticks": ""
            },
            "colorscale": [
             [
              0,
              "#0d0887"
             ],
             [
              0.1111111111111111,
              "#46039f"
             ],
             [
              0.2222222222222222,
              "#7201a8"
             ],
             [
              0.3333333333333333,
              "#9c179e"
             ],
             [
              0.4444444444444444,
              "#bd3786"
             ],
             [
              0.5555555555555556,
              "#d8576b"
             ],
             [
              0.6666666666666666,
              "#ed7953"
             ],
             [
              0.7777777777777778,
              "#fb9f3a"
             ],
             [
              0.8888888888888888,
              "#fdca26"
             ],
             [
              1,
              "#f0f921"
             ]
            ],
            "type": "histogram2dcontour"
           }
          ],
          "mesh3d": [
           {
            "colorbar": {
             "outlinewidth": 0,
             "ticks": ""
            },
            "type": "mesh3d"
           }
          ],
          "parcoords": [
           {
            "line": {
             "colorbar": {
              "outlinewidth": 0,
              "ticks": ""
             }
            },
            "type": "parcoords"
           }
          ],
          "pie": [
           {
            "automargin": true,
            "type": "pie"
           }
          ],
          "scatter": [
           {
            "marker": {
             "colorbar": {
              "outlinewidth": 0,
              "ticks": ""
             }
            },
            "type": "scatter"
           }
          ],
          "scatter3d": [
           {
            "line": {
             "colorbar": {
              "outlinewidth": 0,
              "ticks": ""
             }
            },
            "marker": {
             "colorbar": {
              "outlinewidth": 0,
              "ticks": ""
             }
            },
            "type": "scatter3d"
           }
          ],
          "scattercarpet": [
           {
            "marker": {
             "colorbar": {
              "outlinewidth": 0,
              "ticks": ""
             }
            },
            "type": "scattercarpet"
           }
          ],
          "scattergeo": [
           {
            "marker": {
             "colorbar": {
              "outlinewidth": 0,
              "ticks": ""
             }
            },
            "type": "scattergeo"
           }
          ],
          "scattergl": [
           {
            "marker": {
             "colorbar": {
              "outlinewidth": 0,
              "ticks": ""
             }
            },
            "type": "scattergl"
           }
          ],
          "scattermapbox": [
           {
            "marker": {
             "colorbar": {
              "outlinewidth": 0,
              "ticks": ""
             }
            },
            "type": "scattermapbox"
           }
          ],
          "scatterpolar": [
           {
            "marker": {
             "colorbar": {
              "outlinewidth": 0,
              "ticks": ""
             }
            },
            "type": "scatterpolar"
           }
          ],
          "scatterpolargl": [
           {
            "marker": {
             "colorbar": {
              "outlinewidth": 0,
              "ticks": ""
             }
            },
            "type": "scatterpolargl"
           }
          ],
          "scatterternary": [
           {
            "marker": {
             "colorbar": {
              "outlinewidth": 0,
              "ticks": ""
             }
            },
            "type": "scatterternary"
           }
          ],
          "surface": [
           {
            "colorbar": {
             "outlinewidth": 0,
             "ticks": ""
            },
            "colorscale": [
             [
              0,
              "#0d0887"
             ],
             [
              0.1111111111111111,
              "#46039f"
             ],
             [
              0.2222222222222222,
              "#7201a8"
             ],
             [
              0.3333333333333333,
              "#9c179e"
             ],
             [
              0.4444444444444444,
              "#bd3786"
             ],
             [
              0.5555555555555556,
              "#d8576b"
             ],
             [
              0.6666666666666666,
              "#ed7953"
             ],
             [
              0.7777777777777778,
              "#fb9f3a"
             ],
             [
              0.8888888888888888,
              "#fdca26"
             ],
             [
              1,
              "#f0f921"
             ]
            ],
            "type": "surface"
           }
          ],
          "table": [
           {
            "cells": {
             "fill": {
              "color": "#EBF0F8"
             },
             "line": {
              "color": "white"
             }
            },
            "header": {
             "fill": {
              "color": "#C8D4E3"
             },
             "line": {
              "color": "white"
             }
            },
            "type": "table"
           }
          ]
         },
         "layout": {
          "annotationdefaults": {
           "arrowcolor": "#2a3f5f",
           "arrowhead": 0,
           "arrowwidth": 1
          },
          "autotypenumbers": "strict",
          "coloraxis": {
           "colorbar": {
            "outlinewidth": 0,
            "ticks": ""
           }
          },
          "colorscale": {
           "diverging": [
            [
             0,
             "#8e0152"
            ],
            [
             0.1,
             "#c51b7d"
            ],
            [
             0.2,
             "#de77ae"
            ],
            [
             0.3,
             "#f1b6da"
            ],
            [
             0.4,
             "#fde0ef"
            ],
            [
             0.5,
             "#f7f7f7"
            ],
            [
             0.6,
             "#e6f5d0"
            ],
            [
             0.7,
             "#b8e186"
            ],
            [
             0.8,
             "#7fbc41"
            ],
            [
             0.9,
             "#4d9221"
            ],
            [
             1,
             "#276419"
            ]
           ],
           "sequential": [
            [
             0,
             "#0d0887"
            ],
            [
             0.1111111111111111,
             "#46039f"
            ],
            [
             0.2222222222222222,
             "#7201a8"
            ],
            [
             0.3333333333333333,
             "#9c179e"
            ],
            [
             0.4444444444444444,
             "#bd3786"
            ],
            [
             0.5555555555555556,
             "#d8576b"
            ],
            [
             0.6666666666666666,
             "#ed7953"
            ],
            [
             0.7777777777777778,
             "#fb9f3a"
            ],
            [
             0.8888888888888888,
             "#fdca26"
            ],
            [
             1,
             "#f0f921"
            ]
           ],
           "sequentialminus": [
            [
             0,
             "#0d0887"
            ],
            [
             0.1111111111111111,
             "#46039f"
            ],
            [
             0.2222222222222222,
             "#7201a8"
            ],
            [
             0.3333333333333333,
             "#9c179e"
            ],
            [
             0.4444444444444444,
             "#bd3786"
            ],
            [
             0.5555555555555556,
             "#d8576b"
            ],
            [
             0.6666666666666666,
             "#ed7953"
            ],
            [
             0.7777777777777778,
             "#fb9f3a"
            ],
            [
             0.8888888888888888,
             "#fdca26"
            ],
            [
             1,
             "#f0f921"
            ]
           ]
          },
          "colorway": [
           "#636efa",
           "#EF553B",
           "#00cc96",
           "#ab63fa",
           "#FFA15A",
           "#19d3f3",
           "#FF6692",
           "#B6E880",
           "#FF97FF",
           "#FECB52"
          ],
          "font": {
           "color": "#2a3f5f"
          },
          "geo": {
           "bgcolor": "white",
           "lakecolor": "white",
           "landcolor": "#E5ECF6",
           "showlakes": true,
           "showland": true,
           "subunitcolor": "white"
          },
          "hoverlabel": {
           "align": "left"
          },
          "hovermode": "closest",
          "mapbox": {
           "style": "light"
          },
          "paper_bgcolor": "white",
          "plot_bgcolor": "#E5ECF6",
          "polar": {
           "angularaxis": {
            "gridcolor": "white",
            "linecolor": "white",
            "ticks": ""
           },
           "bgcolor": "#E5ECF6",
           "radialaxis": {
            "gridcolor": "white",
            "linecolor": "white",
            "ticks": ""
           }
          },
          "scene": {
           "xaxis": {
            "backgroundcolor": "#E5ECF6",
            "gridcolor": "white",
            "gridwidth": 2,
            "linecolor": "white",
            "showbackground": true,
            "ticks": "",
            "zerolinecolor": "white"
           },
           "yaxis": {
            "backgroundcolor": "#E5ECF6",
            "gridcolor": "white",
            "gridwidth": 2,
            "linecolor": "white",
            "showbackground": true,
            "ticks": "",
            "zerolinecolor": "white"
           },
           "zaxis": {
            "backgroundcolor": "#E5ECF6",
            "gridcolor": "white",
            "gridwidth": 2,
            "linecolor": "white",
            "showbackground": true,
            "ticks": "",
            "zerolinecolor": "white"
           }
          },
          "shapedefaults": {
           "line": {
            "color": "#2a3f5f"
           }
          },
          "ternary": {
           "aaxis": {
            "gridcolor": "white",
            "linecolor": "white",
            "ticks": ""
           },
           "baxis": {
            "gridcolor": "white",
            "linecolor": "white",
            "ticks": ""
           },
           "bgcolor": "#E5ECF6",
           "caxis": {
            "gridcolor": "white",
            "linecolor": "white",
            "ticks": ""
           }
          },
          "title": {
           "x": 0.05
          },
          "xaxis": {
           "automargin": true,
           "gridcolor": "white",
           "linecolor": "white",
           "ticks": "",
           "title": {
            "standoff": 15
           },
           "zerolinecolor": "white",
           "zerolinewidth": 2
          },
          "yaxis": {
           "automargin": true,
           "gridcolor": "white",
           "linecolor": "white",
           "ticks": "",
           "title": {
            "standoff": 15
           },
           "zerolinecolor": "white",
           "zerolinewidth": 2
          }
         }
        },
        "title": {
         "text": "Projected Question Vector Manifold"
        }
       }
      },
      "text/html": [
       "<div>                            <div id=\"dae87512-6567-411a-8f00-c7da3d570b9c\" class=\"plotly-graph-div\" style=\"height:500px; width:100%;\"></div>            <script type=\"text/javascript\">                require([\"plotly\"], function(Plotly) {                    window.PLOTLYENV=window.PLOTLYENV || {};                                    if (document.getElementById(\"dae87512-6567-411a-8f00-c7da3d570b9c\")) {                    Plotly.newPlot(                        \"dae87512-6567-411a-8f00-c7da3d570b9c\",                        [{\"customdata\": [[\"best type insulin syring treatment diabet\"], [\"differ regular insulin slide scale insulin\"], [\"exercis diabet\"], [\"normal\"], [\"onlin find good diabet meal plan\"], [\"diabet control nutrilit protein powder\"], [\"food peopl diabet type one type two avoid\"], [\"long onset regular insulin\"], [\"mani new case diabet\"], [\"postal worker diabet\"], [\"serum insulin made\"], [\"black ant red small ant attract human urin spill floor\"], [\"iguana get diabet\"], [\"diabet type one type two\"], [\"peopl diabet eat dark chocol\"], [\"cinnamon help diabet\"], [\"shiatsu massag cushion worth money\"], [\"much intak sugar caus diabet\"], [\"david letterman diabet\"], [\"dessert diabet enjoy\"], [\"buildup keto acid result diabet mellitu\"], [\"know diagnos diabet\"], [\"tobacoo harm diabet man\"], [\"normal level triglycerid implic abnorm level\"], [\"need diabet\"], [\"happen eat lot sugar still low blood sugar\"], [\"blood sugar ach mean\"], [\"smoke cigarett caus diabet\"], [\"diabet caus drowsi\"], [\"inherit diabet\"], [\"nick jona get diabet\"], [\"one hundr forti high type two diabet\"], [\"pantyhos benefit diabet men\"], [\"blood sugar count mean diabet\"], [\"insulin shot produc bright yellow urin\"], [\"bacteria use make insulin\"], [\"much diabet cat\"], [\"four p diabet\"], [\"diabet food eat\"], [\"hormon defici caus diabet\"], [\"type two diabet occur pregnanc\"], [\"caus type two diabet\"], [\"newborn get diabet\"], [\"diabet detect symptom appear diabet mellitu\"], [\"get rid anger im thirteen type one diabet alway seem get anybodi help\"], [\"type two diabet diet\"], [\"mani gram sugar ok one thousand eight hundr ada diet\"], [\"tell sugar enter blood\"], [\"diabet get retinopathi treatment\"], [\"abbrevi acronym modi stand explain modi\"], [\"main caus type two diabet\"], [\"mani gram sugar limit daili\"], [\"research done valerian\"], [\"regular insulin actrapid insulin\"], [\"condit character insulin resist fat cell\"], [\"number one caus adult us diabet\"], [\"find diabet food list\"], [\"first person diabet\"], [\"type diabet associ pregnanc\"], [\"diabet friendli food\"], [\"danger gestat diabet\"], [\"swim good type two diabet\"], [\"high level albinum diabet\"], [\"would need use continu glucos monitor\"], [\"gland associ diabet\"], [\"great tast food diabet\"], [\"erythritol bad\"], [\"celb diabet\"], [\"frequent urin danger\"], [\"ever cure type one two diabet\"], [\"factor lead heart diseas\"], [\"food avoid diabet person\"], [\"activ goe diabet\"], [\"diabet hurt\"], [\"reduc blood glucos level immedi\"], [\"diabet seriou health issu\"], [\"two hundr fifti seven glucos read normal\"], [\"caus dri mouth\"], [\"number peopl worldwid diabet increas\"], [\"inform sugar diet found\"], [\"sugar beer wine\"], [\"differ insulin formul\"], [\"diabet\"], [\"impact gestat diabet placenta\"], [\"bodi produc much insulin\"], [\"hyperglycemia lead kidney failur\"], [\"peopl pisap\"], [\"diabet drink beer\"], [\"medic avail oral diabet\"], [\"diabet go blue pool iceland\"], [\"could person die diabet\"], [\"tell blood sugar level\"], [\"three p diabet mellitu\"], [\"stop diabet affect\"], [\"pancreat dysfunct relat diabet\"], [\"healthi tip diabet\"], [\"diabet blood sugar level\"], [\"normal rang blood test mpv\"], [\"diagnosi mean\"], [\"cell type one diabet damag\"], [\"hot chito affect blood sugar\"], [\"wine reduc blood glucos\"], [\"blood sugar averag person weigh one hundr lb\"], [\"cookbook diabet\"], [\"fast blood sugar three hundr danger\"], [\"pyorrhea link diabet type one\"], [\"symptom determin borderlin diabet\"], [\"benefit use diabet test equip\"], [\"haemoglobin test sugar test\"], [\"know diabiti\"], [\"would happen ate insulin tast\"], [\"diabet eat sugar\"], [\"caus arm ach\"], [\"radish lower blood sugar\"], [\"symptom type one diabet\"], [\"side effect associ use arnica\"], [\"anabol agent caus diabet\"], [\"okay diabet eat chees\"], [\"ingredi avoid make diabet cooki recip\"], [\"blood glucos lost diabet mellitu\"], [\"best natur diabet treatment\"], [\"take sixti five unit day insulin mani day vial last lantu beadtim\"], [\"test use diagnosi diabet mellitu\"], [\"name someth happen eat much sugar\"], [\"give insulin tuberculin syring\"], [\"diabet test suppli mail\"], [\"age diabet insipidu usual occur\"], [\"mani mg insulin equal one unit insulin\"], [\"one hundr seventi read food diabet\"], [\"diabet color red tattoo\"], [\"best way type capit sentenc\"], [\"okay hit diabet\"], [\"diabet fli delta\"], [\"liquor best diabet\"], [\"consid low glucos level\"], [\"diet exercis help revers diabet\"], [\"type one diabet becom insulin resist\"], [\"involv treatment diabet\"], [\"salt tablet lower blood sugar\"], [\"normal blood sodium level\"], [\"nausea relat chronic\"], [\"yogurt good diabet\"], [\"list five non communic communic diseas\"], [\"get exampl diabet food\"], [\"seventi seven normal blood sugar level eaten five hour extrem shaki dizzi irrit\"], [\"diabet mellitu caus lack hormon\"], [\"releas blood sugar level high\"], [\"chang diet take slim fast\"], [\"find free diabet diet book\"], [\"earli warn sign diabet\"], [\"ibsulin\"], [\"give chocol person sugar five hundr eighti nine\"], [\"symptom caus diabet treatment\"], [\"happen eat lot sugar\"], [\"good desert diabet\"], [\"get type three diabet\"], [\"type one diabet\"], [\"scientist make educ guess diabet caus genet factor guess exampl\"], [\"stage level becom diabet\"], [\"treatment diabet\"], [\"vitamin diabet\"], [\"regul blood glucos level\"], [\"dog diabet\"], [\"rais glucos level mean diabet\"], [\"find recip free diabet diet\"], [\"diabet eat cake\"], [\"therapeut intervent type one diabet\"], [\"group oliv assign food exchang list\"], [\"diabet menu\"], [\"orang make blood sugar level rais\"], [\"best bread eat\"], [\"might caus unexplain weight gain fatigu\"], [\"diabet cat\"], [\"incid type one diabet\"], [\"join airforc diabet\"], [\"diabet use steam room\"], [\"cocain affect blood sugar\"], [\"get light head sugar diabet\"], [\"organ bodi function properli diabet\"], [\"two way diabet control\"], [\"diabet meal plan servic\"], [\"one follow choic best way control type ii diabet\"], [\"child diabet develop sign hypoglycemia given\"], [\"effect posit commun recoveri diabet patient pgh\"], [\"plant use energi store glucos\"], [\"diabet domin recess trait\"], [\"diabet diet food list\"], [\"get diabet girlfriend valentin day\"], [\"prevent type two diabet\"], [\"diabet somogyi phenomenon\"], [\"diabet ill\"], [\"insulin bruis becom bad drop bottl dog insulin still good\"], [\"mani american diabet report\"], [\"delici diabet carrot cake\"], [\"diabet gastroparesi\"], [\"type two diabet impact bodi extend period time\"], [\"diabet foot ulcer\"], [\"eat lunch dinner okay ham diabet\"], [\"blood sugar low\"], [\"mani peopl die diabet type one everyday\"], [\"mode transmiss diabet mellitu\"], [\"banana bad type two diabet\"], [\"start american diabet associ\"], [\"find good nutrit\"], [\"get diabet life\"], [\"hunger symptom diabet\"], [\"lab test use rule diabet\"], [\"would name program diabet care india specif\"], [\"good recip diabet use make carrot cake\"], [\"hire diabet meal planner\"], [\"side effect insulin resist\"], [\"three way prevent seriou ill heart diseas cancer diabet stroke\"], [\"one find inform concern diabet diet\"], [\"diet plan use type one type two diabet\"], [\"diabet caus peripher neuropathi\"], [\"one treat juvenil diabet\"], [\"swollen ankl symptom diabet\"], [\"problem tingl feet alway cold cotton mouth often urin could diabet anxieti disord\"], [\"would someon subscrib magazin diabet care\"], [\"insulin resist prevent\"], [\"one hundr forti bad blood sugar read morn\"], [\"get insulin\"], [\"diff diabet one two\"], [\"diabet recip cake\"], [\"food high sugar\"], [\"go onlin find inform diabet recip\"], [\"level glucos cat\"], [\"type food bad diabet\"], [\"appl rais blood glucos\"], [\"diabet medic caus anaemia\"], [\"best way treat diabet without take drug\"], [\"rule garden diabet\"], [\"insulin pump cover high glucos level right\"], [\"normal valu pu cell urin\"], [\"diabet best stay away form starchi food eat\"], [\"inject insulin muscl\"], [\"remov appendix draw blood blood test drug test also\"], [\"ohio medicaid cover gastric bypass surgeri\"], [\"pete wentz diabet\"], [\"part human bodi effect diabet type one\"], [\"omnicef rare prescrib diabet\"], [\"good diabet patient\"], [\"inject wrong insulin\"], [\"rais blood sugar\"], [\"mani diseas human bodi\"], [\"cdl driver florida still drive diabet use insulin\"], [\"caus diabet frequent urin\"], [\"horomon diabet mellitu affect\"], [\"diabet australia third oldest diabet associ world follow countri\"], [\"one medic must use type one diabet\"], [\"eat orang rais blood sugar\"], [\"type one diabet drink energi drink insulin depend person\"], [\"number normal blood sugar level\"], [\"whole food store sell healthi food diabet\"], [\"diabet abnorm\"], [\"type food list diabet type non diabet food buy\"], [\"canadian scientist insulin\"], [\"safe diabet work alon\"], [\"use tuberculin syring instead insulin much insulin draw\"], [\"kind treatment diabet eye problem\"], [\"normal blood sugar level\"], [\"insulin travel bodi\"], [\"skin tent dri mucou membran associ diabet\"], [\"purchas copi best menu diabet diet guidelin\"], [\"confection sugar use diabet cooki\"], [\"food lower high blood sugar quickli\"], [\"diabet nephropathi\"], [\"get dla child diabet insipidu\"], [\"list food yeast\"], [\"one purchas shoe diabet\"], [\"diabet nutrit includ dessert\"], [\"glycosuria failur\"], [\"inject insulin\"], [\"possibl genotyp parent diabet\"], [\"expens diabet test strip\"], [\"happen person blood sugar level soon eat meal contain carbohydr\"], [\"christma cooki recip diabet\"], [\"find recip sugar free dessert\"], [\"eat peanut gestat diabet\"], [\"bad low blood sugar level\"], [\"best diabet medic\"], [\"glycem index number mean\"], [\"food bought poor rich person caus diabet\"], [\"pancreat hormon function lower blood glucos level\"], [\"fuction american diabet associ\"], [\"diabet effect pregnanc\"], [\"expect outcom patient type one type two diabet\"], [\"tip diabet manag\"], [\"best time check blood sugar read\"], [\"use dna technolog help treat diabet\"], [\"person drive unit state diabet\"], [\"type genet disord diabet\"], [\"take viagra type two diabet\"], [\"take aspirin diabet\"], [\"earli sign diabet peopl tend miss\"], [\"happen blood sugar get high diabet\"], [\"symptom diabet insteadof rise blood sugar\"], [\"test diabet without go doctor buy test strip\"], [\"type crystal urin might present diabet mellitu\"], [\"nation guard kick diabet\"], [\"diabet diet chart\"], [\"sixti two year old diabet black man swollen left leg area blanch blue mottl\"], [\"food carri healthi diabet nurtrit\"], [\"name black actress diabet care club\"], [\"anim turn diabet\"], [\"best food eat diabet avoid\"], [\"mani calori diabet day\"], [\"laboratori procedur made possibl te develop bacteria synthes human insulin\"], [\"differ diabet diabet mellitu\"], [\"diabet affect fertil\"], [\"organ unabl take glucos diabet mellitu\"], [\"two hundr nineti seven blood sugar mean\"], [\"herbalif formula one much sugar\"], [\"diabet religion\"], [\"diabet caus sweat\"], [\"think husband cheat station japan biloxi ms would like know privat investig assist much would cost\"], [\"use glucos recip call liquid glucos\"], [\"relat hypokalemia diabet melitu\"], [\"diabet awar month\"], [\"husband diabet fast take med morn say take food\"], [\"sign symptom diabet\"], [\"increas risk diabet face\"], [\"way help control blood sugar level\"], [\"coutri diabet common\"], [\"ball tingl\"], [\"diabet develop bad temper\"], [\"insulin taken oral type two diabet\"], [\"synthroid rais blood sugar level\"], [\"food fluid correct diabet emerg\"], [\"diabet drink\"], [\"use insulin\"], [\"high level blood sugar bad\"], [\"eyesight return retinopathi\"], [\"type microb diabet\"], [\"cinnamon cure diabet\"], [\"diabet call diabet mellitu\"], [\"candi diet type two diabet\"], [\"use hemoglucotest\"], [\"substanc increas urin untreat diabet\"], [\"normal glucos level forti year old male\"], [\"diabet test strip univers\"], [\"true nick diabet\"], [\"much emerg stash diabet suppli keep hand\"], [\"im extrem tire time irrit feel dehydr im extrem thirsti pee lot symptom happen diabet seee doctor\"], [\"dextrin caus sharp spike blood sugar level\"], [\"children diabet cope school\"], [\"arm ach elbow\"], [\"date good diabet patient\"], [\"frequent urin patient diabet elimin excess\"], [\"bodi trembl diabet\"], [\"buy diabet\"], [\"diabet diet recip benefici\"], [\"symptom type two diabet\"], [\"tv caus diabet\"], [\"old nick got diabet\"], [\"worri friend fat famili diabet except tri help lose weight watch eat sport dosent listen\"], [\"kill faster diabet lung cancer\"], [\"sugar frost flake caus diabet\"], [\"miley breack nick diabet\"], [\"blood sugar two hr eat diabet\"], [\"nineti seven one hundr ten blood sugar level within normal rang diabet\"], [\"scientist make educ guess diabet caus genet factor guess exampl\"], [\"kind diabet jacki robinson\"], [\"food diabet avoid\"], [\"import aspect treatment diabet mellitu\"], [\"insulin founder\"], [\"diabet take flu vaccin\"], [\"blood sugar went eighti six one hundr seventi eight one hundr sixti eight shot fifti four normal\"], [\"know might diabet\"], [\"test use aid diagnos diabet\"], [\"youngest age diagnos diabet\"], [\"diabet eat stawberri\"], [\"normal protein level blood\"], [\"diabet mean high blood sugar\"], [\"diabet physic disord\"], [\"type sugar blood sugar\"], [\"good thesi statement diabet type one\"], [\"diet help treat diabet obes\"], [\"parent say futur girlfriend futur diabet would\"], [\"caus sore heal\"], [\"gene affect type one diabet\"], [\"doctor weight loss plan\"], [\"write school research paper diabet\"], [\"five fact diabet\"], [\"individu get diabet\"], [\"nutrisystem diabet diet harm diabet\"], [\"herb known lower blood sugar\"], [\"food low sugar\"], [\"occur bodi type ii diabet\"], [\"dietari supplement taken help reduc diabet\"], [\"diabet make urin smell\"], [\"would doctor suggest check patient blood sugar level\"], [\"good diabet\"], [\"type food diabet meant eat\"], [\"diabet food avoid\"], [\"resourc option creat diabet menu\"], [\"preval diabet mellitu philippin\"], [\"could whiskey soft drink rais blood sugar level\"], [\"diabet eat carb\"], [\"diabet cure without medicin\"], [\"pediatr diabet creat\"], [\"diabet skinni\"], [\"one avoid adult onset diabet\"], [\"peopl form diseas diabet treat inject\"], [\"diabet eat bean\"], [\"releas blood sugar level fall\"], [\"mix long short insulin draw first\"], [\"role diet exercis control hypertens diabet\"], [\"type diet recommend type two diabet\"], [\"signific diabet weight loss person diet tri lose weight\"], [\"mani peanut diabet\"], [\"join cheerlead diabet\"], [\"diabet gangren\"], [\"precaut take run diabet\"], [\"passion fruit cure diabet\"], [\"happen blood ph blood sugar level rise insulin present\"], [\"person know diabet\"], [\"current treatment diabet\"], [\"medic term mean high blood sugar\"], [\"diabet get addict medicin\"], [\"pre diabet diet\"], [\"find onlin cookbook diabet\"], [\"could one find list food suitabl diabet\"], [\"thing diabet cooki recip\"], [\"must monitor individu diabet\"], [\"correct dose insulin take blood sugar level seventeen point zero pre meal measur\"], [\"macromolecul insulin\"], [\"die diabet pregnant\"], [\"normal blood sugar level woman thirti\"], [\"allow sugar intak day diabet\"], [\"simpl diet plan incorpor diabet\"], [\"diabet cake recip allrecipescom\"], [\"malt drink ok diabet\"], [\"symptom diabet ulcer\"], [\"pediatr diabeti\"], [\"classic symptom diabet\"], [\"diabet eat molass rich juic\"], [\"diabet manag\"], [\"urin lot sign diabet\"], [\"chemic releas ketosi\"], [\"reason koch abdomen\"], [\"treat inject genet engin insulin\"], [\"give insulin\"], [\"caus hand cramp\"], [\"caus type one diabet\"], [\"insulin invent\"], [\"get diabet consum blood someon diabet\"], [\"diseas relat lack insulin product\"], [\"blood test use patient diabet measur averag blood glucos level previou three four month\"], [\"best insulin pen avail market\"], [\"jona brother free ticket diabet\"], [\"diabet develop\"], [\"tissu insulin depend\"], [\"eat inject human insulin\"], [\"type diabet mellitu insulin resist disord gestat type one type two\"], [\"low blood glucos level caus weight loss\"], [\"someon diabet nephropathi without diabeti\"], [\"someon take pill diabet use urin therapi\"], [\"older diabet find reason price life insur polici\"], [\"actress diabet test strip commerci\"], [\"diabet affect peopl\"], [\"test find diseas human bodi\"], [\"diabet treatment requir convent medicin\"], [\"rash repeat sign diabet\"], [\"diabeet\"], [\"good food diabet\"], [\"differ type diabet\"], [\"diabet treat psychic heal\"], [\"diabet sore heal slower\"], [\"realli good chile recip desert\"], [\"condit make urin tasteless\"], [\"found treatment diabet\"], [\"rub alcohol caus cancer\"], [\"test test perform confirm diagnosi diabet mellitu aid diagnos hypoglycemia\"], [\"chanc diabet babi born parent heterozyg normal\"], [\"much sugar date\"], [\"normal valu random blood sugar\"], [\"safe diabet bypass surgeri\"], [\"inventor insulin\"], [\"diabet run jona famili\"], [\"safe legal way travel insulin inject equip sharp\"], [\"caus ashi dermatosi\"], [\"insulin use fraction urin coverag\"], [\"diabet take clonazepam\"], [\"jelli bean suitabl peopl diabet\"], [\"hormon make blood glucos increas\"], [\"cancer curabl\"], [\"caus diabet environment hereditari\"], [\"high concentr homocystein blood associ develop\"], [\"sign seek diabet test\"], [\"diseas bodi produc properli use insulin\"], [\"fresh fruit veggi limit diabet\"], [\"diabet sugar alcohol\"], [\"gamer fat\"], [\"sweet substanc use diet diabet slimmer\"], [\"job diabet get\"], [\"peopl get diabet diet plan\"], [\"eat fruit veget low carb diet\"], [\"scrub episod turk discov diabet\"], [\"easi dessert recip diabet\"], [\"choos food diabet\"], [\"diabet mental ill physic ill\"], [\"normal depakot blood level\"], [\"food poison affect diabet\"], [\"insulin make glucos\"], [\"glucomet aviva error\"], [\"insulin human growth hormon two exampl product produc\"], [\"know diabet\"], [\"type devic use check blood sugar\"], [\"recip diabet diet\"], [\"right consumpt everi kind process food\"], [\"know type two diabet\"], [\"happen hospit diabet\"], [\"diabet peopl eat margarin\"], [\"may diabet becom thin feel weak\"], [\"happen someon type one diabet go long without insulin shot\"], [\"find good sugar diabet diet\"], [\"happen diabet treatment\"], [\"diabet medicin caus drowsi\"], [\"brandi bad diabet patient\"], [\"import diagnos diabet earli\"], [\"diabet cure diet exercis\"], [\"diabet nutrit\"], [\"caus prevent diabet\"], [\"tell bodi much sugar\"], [\"indonesian herb use treat diabet\"], [\"know type one diabet\"], [\"dri mouth alway thirsti diabet\"], [\"nick jona develop diabet\"], [\"diabet shoe purchas singapor\"], [\"type two diabet diagnos\"], [\"hormon secret pancreat islet respons low blood sugar\"], [\"symptom hyperglycemia\"], [\"advers affect scuba dive diabet\"], [\"uncontrol diabet effect mental statu\"], [\"treatment medic diabet\"], [\"diabet contribut cvd\"], [\"natur food reduc diabet\"], [\"diabet drink beer\"], [\"lipotroph diabet\"], [\"nick jona ever diabet\"], [\"find meal plan someon diabet\"], [\"diabet symptom sign\"], [\"mitchel musso diabet\"], [\"much money certifi diabet educ earn\"], [\"might find menu diabet diet use food prepar easili home\"], [\"part endocrin system regul blood glucos level\"], [\"blood glucos high azithromycin\"], [\"get rid type two diabet\"], [\"diabet take vitamin b complex\"], [\"frequent night time urin symptom type two diabet\"], [\"broccoli bad diabet\"], [\"three clinic sign insulin defici\"], [\"much sugar averag bottl cheap wine supermarket beer head toward diabet type two high blood glucos alcohol drink safe\"], [\"caus diabet type one\"], [\"cat diabet eat die\"], [\"type diabet thoma edison\"], [\"treatment diabet neuropathi\"], [\"depend diabet mellitu caus chronic renal failur\"], [\"five food carb\"], [\"blood glucos level four point three normal sixteen year old\"], [\"diabet need pay insulin prescript\"], [\"sugar doctor diabet doctor\"], [\"lower risk get diabet\"], [\"differ diabet coma insulin reaction\"], [\"normal rang blood gluclos test\"], [\"common effect diabet diabet\"], [\"averag output urin teenag day\"], [\"diabet diagnos singl finger prick blood sugar\"], [\"diabet get insulin\"], [\"diabet patent use honey warm milk\"], [\"best fruit diabet patient\"], [\"brittl diabet treat\"], [\"insulin need refrigir\"], [\"advantag use bacteria contain human insulin gene produc insulin\"], [\"orang rais blood sugar\"], [\"buy diabet product pharmaci\"], [\"gestat diabet syzgumj medicin mother tinctur safe pregnanc\"], [\"disney cancel hannah montana diabet episod\"], [\"easi stick diet diabet\"], [\"happen drink bit insulin\"], [\"glucos level high glucosuria\"], [\"consid diabet eat\"], [\"insulin help control diabet\"], [\"diabet man impregn woman\"], [\"world diabet day celebr\"], [\"take diabet medic\"], [\"treat cure diabet\"], [\"sampl menu diabet recip\"], [\"type three diabet\"], [\"natur way cure blood sugar level\"], [\"caus frequent urin men\"], [\"slim fast good item diabet\"], [\"type two diabet develop\"], [\"uncommon symptom diabet\"], [\"much sugar seven\"], [\"mani peopl uk diabet\"], [\"diabet instruct alway carri form carbohydr case emerg\"], [\"good dessert recip diabet\"], [\"averag blood sugar past three week measur test\"], [\"bodi part produc insulin cell use sugar\"], [\"diabet one common diabet two\"], [\"salad lower blood sugar\"], [\"dehydr diabet\"], [\"symptom diabet mellitu\"], [\"build lactic acid pain\"], [\"vitamin allow diabet patient\"], [\"organ produc enzym insulin\"], [\"normal rang blood glucos\"], [\"tell sugar remov blood\"], [\"highest blood sugar\"], [\"latest nutrit guid diabet\"], [\"diabet eye\"], [\"eat lot sugar day glucos test affect result\"], [\"eat bring blood sugar\"], [\"find inform diabet snack\"], [\"kind pasta diabet person eat\"], [\"im borderlin diabet eat cake might consequ\"], [\"human get diabet\"], [\"come get diabet mellitu\"], [\"cinnamon help control blood sugar\"], [\"food may tast sweet littl glucos\"], [\"good diet someon suffer diabet nephropathi\"], [\"quickli hypoglycemia occur receiv nph insulin\"], [\"diabet lead organ psychos\"], [\"person diabet diabet surgeri surgeri\"], [\"caus red blood cell count decreas\"], [\"one reason administ glucos test\"], [\"diabet inherit\"], [\"diabet movi isteel magnolia\"], [\"averag life expect person diabet\"], [\"product much insulin typic\"], [\"find free diabet recip\"], [\"mean blood sugar chart\"], [\"normal blood sugar type one diabet\"], [\"pre diabet make like get gestat diabet\"], [\"full form grb\"], [\"medic reason femal abort\"], [\"one buy diabet support sock\"], [\"glucos level\"], [\"system diabet\"], [\"get rid belli thigh fat still type one diabet\"], [\"coupon one touch ultra two meter\"], [\"ten peopl diabet\"], [\"first human found\"], [\"diabet affect daili life\"], [\"get cdl colorado diabet\"], [\"diabet amount carb eat per day\"], [\"smoke affect someon type two diabet\"], [\"mani diabet world\"], [\"diabet caus due malfunct\"], [\"check dog blood sugar\"], [\"see doctor diabet neuropathi\"], [\"food healthi appeal diabet\"], [\"symptom diabet\"], [\"specif type one diabet diet\"], [\"food avoid diabet food benefici health\"], [\"predispos factor diabet mellitu\"], [\"diabet affect endocrin system\"], [\"system affect diabet\"], [\"gland produc glucagon\"], [\"one find info diet diabet\"], [\"treat diabet mellitu\"], [\"diabet usual develop adolesc thought caus inherit predisposit pancrea problem\"], [\"peopl diabet\"], [\"right take oral antidiabet drug like metformin take lantu\"], [\"tradjenta\"], [\"symptom diabet\"], [\"diabet exercis\"], [\"diabet millitu\"], [\"insulin legal illeg\"], [\"diabet insipidu common male femal\"], [\"optimum arous sport\"], [\"keep insulin pump work\"], [\"one contact american diabet associ\"], [\"pain back right shoulder blade get wors night lay\"], [\"diabet mauritiu\"], [\"diabet affect result blood alcohol test\"], [\"starch good diabet peopl\"], [\"simpl recip found diabet menu\"], [\"would person ketoacidosi follow heavi breath polydipsia tachycardia\"], [\"long take insulin bring type one diabet\"], [\"first person get diabet\"], [\"veget diabet eat\"], [\"blood sugar five hundr seventi five type insulin\"], [\"normal blood sugar level\"], [\"requir diabet wear medic alert bracelet\"], [\"glucos startch relat\"], [\"high glucomet read blood sugar\"], [\"cure diabet\"], [\"diabet type ii get angri mean forti three year marriag split\"], [\"type two diabet caus lifestyl bacteria\"], [\"diabet recip web\"], [\"list slang colloqui word diabet\"], [\"known reason caus diabet\"], [\"cold feet relat diabet\"], [\"happen take insulin diabet\"], [\"diseas requir patient receiv regular insulin inject\"], [\"emot effect diabet\"], [\"type food need add diet diabet\"], [\"hear loss relat diabet\"], [\"allow eat drink one sugar diabet\"], [\"happen non diabet take insulin\"], [\"top brand diabet suppli\"], [\"sugar conent banana\"], [\"cure diabet\"], [\"diabet blood sugar level\"], [\"sign look get test diabet\"], [\"diabet consult\"], [\"diabet feel hungri time\"], [\"produc insulin bodi\"], [\"te ideal diet diabet patient\"], [\"infect affect bodi system\"], [\"peopl twenti diabet\"], [\"two type diabet\"], [\"lexapro rais blood sugar level\"], [\"age diabet start\"], [\"much apparatu blood sugar test\"], [\"person urin frequent diabet\"], [\"symptom diabet type ii\"], [\"could gain indic whether diabet\"], [\"differenti diagnosi retinopathi prematur\"], [\"caus extrem bodi odor\"], [\"insulin depand dibiti curabl\"], [\"diabet eat peanut\"], [\"educ requir diabet health counselor\"], [\"differ novolog insulin novolin insulin type one diabet\"], [\"chees eat diabet\"], [\"caus hand fall asleep\"], [\"durat diabet coma\"], [\"cure diabet\"], [\"maintain blood sugar level\"], [\"fruit contain sugar bad diabet patient\"], [\"salt elev diabet blood sugar level\"], [\"diabet eat fruit\"], [\"differ insulin blood sugar\"], [\"diabet meter use\"], [\"way detect diabet\"], [\"fructos better granul sugar diabet\"], [\"diabet\"], [\"diabet top part foot cut use manual wheelchair handl\"], [\"symptom diabet may effect health long term\"], [\"miner help bodi maintain normal blood sugar level\"], [\"diabet alcohol consumpt\"], [\"find food diabet avoid\"], [\"good diet plan diabet\"], [\"children diabet\"], [\"caus lack water\"], [\"gestat diabet differ type diabet\"], [\"happen get diabet\"], [\"treat diabet type one\"], [\"buy one touch surestep machin\"], [\"diabet take hgh\"], [\"good overweight\"], [\"mani peopl expect develop diabet america\"], [\"bodi keep blood sugar level around seventi one hundr ten\"], [\"bird seed good diabet\"], [\"fruit diabet person eat\"], [\"need balanc diet\"], [\"import solut remov diabet patient\"], [\"compani offer free diabet test suppli\"], [\"inform type one diabet\"], [\"experienc twitch forefing thumb left hand sever week pain irrit could caus happen\"], [\"diabet affect result breathalyz\"], [\"diabet eat prawn\"], [\"common pre diabet symptom\"], [\"die diabet\"], [\"good diabet dessert recip\"], [\"type three diabet\"], [\"diet diabet\"], [\"type sugar found blood\"], [\"organ control blood sugar\"], [\"blood sugar high one hundr nineti three right lunch\"], [\"use insulin syring\"], [\"mani children diagnos type one diabet everi day\"], [\"diabet insulin made pig cow human bacteria\"], [\"hormon control suppli sugar blood muscl\"], [\"kid love sugar\"], [\"caus aceton breath seen type one diabet\"], [\"main symptom lead diabet\"], [\"definit diabet type one\"], [\"diabet build callou feet\"], [\"nick jona ever throw blood diabet\"], [\"uncontrol diabet lead\"], [\"patient suffer noninsulin depend diabet mellitu develop hypoglycemia\"], [\"first insulin inject given\"], [\"diabet treatabl\"], [\"three hundr seven pop carb\"], [\"mcdonald hurt kid diabet\"], [\"insulin\"], [\"snack still diabet mellitu\"], [\"woman diabet cystic fibrosi becom pregnant\"], [\"differ hiv aid diabet type two\"], [\"normal blood sugar level eat\"], [\"sit cross leg long time caus leg fall asleep\"], [\"diabet pass uti\"], [\"would suffer hypoglycemia get low blood glucos level excess insulin action\"], [\"lower blood sugar quickli type two diabet monitor blood sugar twice day know low take barley sugar sweet feel fine\"], [\"need comma sentenc vascular diseas secondari diabet small vessel diseas\"], [\"healthiest sweetest diabet pound cake recip\"], [\"cure diabet\"], [\"mani gram sugar day diebet\"], [\"best diet type two diabet\"], [\"evapor cane juic right diabet\"], [\"peopol suffer diabet\"], [\"prevent diabet two\"], [\"anti diabet plant\"], [\"buy diabet cookbook\"], [\"daili food eat\"], [\"hormon releas blood sugar rise\"], [\"medic type one diabet take\"], [\"walk effect diabet patient\"], [\"symptom distinguish type type ii diabet\"], [\"diabet type one\"], [\"liver diseas heal self person stop drink\"], [\"iv fluid need diabet patient\"], [\"eat lot consid type behavior\"], [\"doctor ask diabet patient eye foot exam\"], [\"diabet meal plan\"], [\"give long act insulin low blood sugar level\"], [\"effect carb diet diabet\"], [\"surviv rate tripl bypass surgeri fifti five year old man diabet\"], [\"tissu insulin depend\"], [\"glucosamin safe diabet patient\"], [\"sign diabet ketoacidosi appear\"], [\"friend suffer acut liver shutdown kidney fail live long enough hope liver transplant\"], [\"peopl type one diabet children\"], [\"get type one two diabet\"], [\"differ diabet diabet\"], [\"unit nick sugar level\"], [\"spanish word diabet\"], [\"eat blood sugar low\"], [\"diseas result lack insulin\"], [\"lower blood sugar\"], [\"know hamster diabet\"], [\"might symptom person would suffer diabet\"], [\"mani anim diagnos diabet\"], [\"excess amount sugar caus diabet\"], [\"blood sugar high eight point two glass milk\"], [\"natur remedi diabet\"], [\"find insulin\"], [\"two type diabet\"], [\"diabet affect bodi system\"], [\"obes peopl get diabet\"], [\"indulg tasti snack diabet\"], [\"pasta good diabet\"], [\"item breakfast diabet\"], [\"control glucos level blood\"], [\"good diet type two diabet\"], [\"best choic diabet food\"], [\"insulin taken daili\"], [\"would one hundr forti seven blood sugar suggest\"], [\"develop diabet\"], [\"sugar per day bad\"], [\"one know diabet symptom\"], [\"cure diabet fruit\"], [\"would good diabet diet someon diabet\"], [\"happen health eat much chocol\"], [\"type natur sugar spike insulin level\"], [\"name condit affect blood sugar level\"], [\"mother thyroid cancer caus type one diabet children\"], [\"much urin indic much insulin\"], [\"diabet effect eye sight\"], [\"insulin like drug diabet patient take take lifetim\"], [\"low mpv count\"], [\"tell sugar remov blood\"], [\"part human bodi affect diabet\"], [\"diabet diet follow\"], [\"diabet peripher neuropathi\"], [\"substanc discov canadian save live diabet\"], [\"diabet diet\"], [\"join us armi diabet insipidu\"], [\"calcium deposit form heel ball feet\"], [\"iodin lower blood sugar\"], [\"sleep effect blood sugar\"], [\"diabet get blood finger\"], [\"nick jona get rid diabet\"], [\"get urin multipl time night urin much often normal symptom prostat cancer\"], [\"diabet fake\"], [\"could pleas tell diabet\"], [\"headach hypoglycemia relat\"], [\"peopl fund diabet\"], [\"diabet person eat appl\"], [\"diabet dehydr\"], [\"onlin find glycem index chart\"], [\"blood sugar rise fall intens exercis\"], [\"buy diabet test suppli\"], [\"diabet health counselor salari rang\"], [\"much insulin overdos\"], [\"exactli diabet meter\"], [\"best diet diabet\"], [\"two hundr eighti pound fat\"], [\"diabet eat regular interv\"], [\"gener rule diet diabet\"], [\"lettuc good diabet\"], [\"diabet caus viru bacteria\"], [\"long till cure type two diabet\"], [\"good diabet breakfast\"], [\"iu measur vitamin e translat mcg mg\"], [\"cure type two diabet\"], [\"degre lifestyl chang reduc risk diabet associ insulin resist\"], [\"amlodipin caus diabet\"], [\"age children get diabet\"], [\"appl regul blood sugar\"], [\"orang juic recommend blood sugar low\"], [\"diabet peopl juggl\"], [\"lipozen affect diabet\"], [\"caus frequent urin vagin odor\"], [\"long liver transplant patient hospit\"], [\"glucomet use\"], [\"diabet affect blood sugar level\"], [\"insulin store freezer\"], [\"prognosi insulin resist\"], [\"doctor control diabet\"], [\"illeg ask applic diabet\"], [\"peopl die diabet\"], [\"strict diet need diabet\"], [\"insulin first use\"], [\"diabet eat kosher hot dog\"], [\"five foot twelv year old girl weigh eighti four pound\"], [\"could dog die diabet\"], [\"diabet danger condit\"], [\"face hurt four hundr thirti blood sugar\"], [\"ok smoke marijuana diabet\"], [\"get diabet meal recip\"], [\"peopl diabet eat\"], [\"oil base food good women\"], [\"would someon diabet neuropathi\"], [\"caus diabet\"], [\"type one diabet\"], [\"onetouch ultra product use\"], [\"previou disabl claim alreadi deni question need answer\"], [\"three type perment\"], [\"food allow diabet food list\"], [\"fri shrimp rise blood sugar\"], [\"reput diabet cookbook purchas onlin\"], [\"nutrilit bio c diabet\"], [\"symptom hyperglycemia\"], [\"mani carbohydr type one diabet eat day\"], [\"essenti compon control type two diabet\"], [\"katrina kaif diabet\"], [\"person act drunk high blood sugar\"], [\"famou peopl type one diabet\"], [\"good blood sugar count\"], [\"type diseas diabet\"], [\"find sampl diabet diet\"], [\"raisin good diabet\"], [\"diabet foot infect\"], [\"ingredi make reliv least diabet high blood pressur high cholesterol\"], [\"food bad diabet\"], [\"gestat diabet\"], [\"supplement diabet\"], [\"find inform cereal diabet\"], [\"women diabet pregnant\"], [\"best wine diabet\"], [\"basic symptom high blood sugar\"], [\"import qualiti diabet suppli\"], [\"insulin depend diabet becom merchant marin\"], [\"two type diabet\"], [\"websit help find diabet dtour diet\"], [\"daughter eye brain go anoth place afew second could low high blood sugar\"], [\"resist lead hyperglycemia ketoacidosi\"], [\"could get enough sun caus diabet\"], [\"lose diabet\"], [\"normal sugar level twenti year old\"], [\"illeg diabet eat sugar\"], [\"control diabit\"], [\"treatment type one diabet\"], [\"peopl diabet eat protein\"], [\"blood glucos level one hundr thirti eight high\"], [\"immedetli lower blood sugar\"], [\"cookbook good diabet cooki recip\"], [\"diabet caus semen tast differ\"], [\"target organ insulin\"], [\"makabuhay plant realli caus diabet\"], [\"find someth check blood glucos level\"], [\"type l dm differ type diabet\"], [\"diabet common world\"], [\"die haematosi\"], [\"would know diabet\"], [\"much normal blood sugar diabet\"], [\"find recip book diabet diet\"], [\"insulin depend diabet\"], [\"organ use produc human insulin\"], [\"get insulin\"], [\"wwhat fruit cure diabet\"], [\"type two diabet eat much junk food\"], [\"normal blood sugar rate\"], [\"treat diabet type one\"], [\"diabet caus tachycardia\"], [\"sixti low glucos read\"], [\"blur vision time diabet\"], [\"diabet treatment\"], [\"joke diabet\"], [\"vitamin get rid diabet\"], [\"contract diabet\"], [\"cure dibeti\"], [\"diabet babi pregnant\"], [\"diabet type two\"], [\"raccoon get diabet\"], [\"type three diabet differ type one two\"], [\"lower blood glucos\"], [\"term describ abnorm high concentr glucos blood\"], [\"prevent type one diabet\"], [\"long live without liver transplant\"], [\"peopl diabet allow eat chocol\"], [\"develop first effect treatment diabet\"], [\"type peopl avoid select friend\"], [\"mani diabet use insulin made certain bacteria abil bacteria produc insulin like result\"], [\"nicotin increas blood sugar level affect diabet\"], [\"ther organ secret insulin glucagon target tissu\"], [\"insulin flammabl\"], [\"diabet patient age thirti nine conceiv possibl becom pregnant\"], [\"meal diabet\"], [\"treatment type one diabet\"], [\"treatment avail high blood plasma\"], [\"find list food pantri arkansa\"], [\"blood test measur averag blood glucos nineti day\"], [\"mean seven point five sugar level eat\"], [\"cope hypertens\"], [\"function skeleton system\"], [\"blood sugar five hundr sixteen\"], [\"bring blood sugar\"], [\"grow type one diabet\"]], \"hovertemplate\": \"pc_1=%{x}<br>pc_2=%{y}<br>pc_3=%{marker.color}<br>sentence=%{customdata[0]}<extra></extra>\", \"legendgroup\": \"\", \"marker\": {\"color\": [-7.593077182769775, -10.875203132629395, -2.1310622692108154, -11.068061828613281, 9.210033416748047, -6.384228229522705, 3.971304178237915, -8.973455429077148, 0.5606200695037842, 6.282854080200195, -13.3173828125, -4.169502258300781, 4.394073486328125, -4.7533955574035645, 7.3732757568359375, 8.660992622375488, -12.826692581176758, 3.558739185333252, -3.368959903717041, 10.185345649719238, -4.5137786865234375, -8.984278678894043, 4.3910298347473145, -12.76226806640625, -4.502462863922119, -11.927690505981445, -11.107927322387695, 6.10024356842041, 7.168493270874023, 9.726579666137695, 10.70145320892334, -7.912354946136475, 5.6966552734375, -8.411507606506348, -4.074429988861084, -14.602421760559082, 0.04929787293076515, 7.045424938201904, 10.094075202941895, -0.9749085307121277, 5.762707710266113, 4.793575763702393, 5.614078998565674, 11.242526054382324, -0.10922212153673172, 9.971830368041992, -2.9550905227661133, -9.208840370178223, 3.4385299682617188, 6.945514678955078, 6.705475807189941, 2.7322072982788086, 3.154280424118042, -11.719237327575684, -3.1914329528808594, -5.929270267486572, 9.496073722839355, -8.80162525177002, 3.1244113445281982, 8.923229217529297, 4.591490268707275, 0.5136470198631287, -5.340610504150391, -12.82241439819336, -8.170367240905762, 6.945036888122559, -5.420243263244629, -7.449587345123291, 10.797956466674805, 5.024960041046143, -1.9845902919769287, 9.668012619018555, -4.9451823234558105, 1.986255168914795, -5.3902692794799805, 3.0729169845581055, -11.343422889709473, 6.368990898132324, 7.109835624694824, 2.1218647956848145, -0.8899527788162231, -11.099455833435059, -3.3610129356384277, 3.820706605911255, -8.44742202758789, -8.795369148254395, -4.130537986755371, 1.9078972339630127, -3.6123101711273193, -2.0272738933563232, -3.9346351623535156, -11.727267265319824, 9.467771530151367, 2.9819729328155518, -8.756670951843262, 6.751031398773193, -8.996893882751465, -8.540765762329102, -4.022462368011475, -5.2442216873168945, -11.19112777709961, -7.403269290924072, -12.47213363647461, 10.005182266235352, -9.847115516662598, -1.0374805927276611, -3.492828130722046, -4.7898054122924805, -12.316988945007324, -8.354448318481445, -12.268095970153809, 6.148482799530029, 4.7498393058776855, -9.654147148132324, 6.144320964813232, -11.21907901763916, 6.492926597595215, 1.82086980342865, 8.871390342712402, -7.3913445472717285, 2.15175199508667, -13.907570838928223, -13.646615028381348, -2.9479451179504395, -13.47602367401123, 0.2543380558490753, 9.0829439163208, -13.144658088684082, -7.398317813873291, -12.433086395263672, 3.924553871154785, -8.586709976196289, 4.7228193283081055, -4.1456427574157715, -11.139830589294434, 10.113951683044434, -4.6946210861206055, 1.4808670282363892, -9.775801658630371, -9.893902778625488, 4.345313549041748, 5.019242763519287, 4.855341911315918, 2.5222256183624268, -8.345467567443848, 6.094911575317383, -11.406137466430664, -3.378645420074463, 9.305499076843262, 10.186261177062988, -8.935051918029785, -8.382493019104004, 2.6563589572906494, -4.2086567878723145, 7.771347999572754, 2.3698055744171143, -4.9526753425598145, 9.15529727935791, -2.6836163997650146, 6.54291296005249, 5.587664604187012, -8.17414665222168, 3.2309093475341797, -12.322437286376953, 8.722991943359375, 9.51339340209961, -8.304525375366211, 8.306848526000977, 9.897497177124023, -6.561396598815918, 4.073190212249756, -4.152620792388916, -0.19878175854682922, -1.8852205276489258, 1.5720582008361816, -8.038569450378418, -9.437393188476562, -8.479806900024414, -10.051933288574219, 0.7724734544754028, 9.393588066101074, 3.8887696266174316, -10.401447296142578, 4.6239519119262695, -7.847302436828613, 10.464488983154297, 9.568746566772461, 4.998877048492432, 4.623015403747559, -11.908792495727539, -1.2187329530715942, -9.167121887207031, -6.112503528594971, 10.26911735534668, -6.810800075531006, -5.2693257331848145, 10.785834312438965, 4.9017486572265625, -12.632248878479004, -2.0104758739471436, -2.562901496887207, 2.8574512004852295, -8.420692443847656, 9.330649375915527, 5.59912633895874, 9.703405380249023, -12.210562705993652, -0.11085354536771774, 8.480911254882812, 7.84164571762085, -5.286384582519531, 6.555238723754883, 9.298592567443848, 9.640914916992188, 9.56521224975586, 0.3557918965816498, 10.217582702636719, 8.419063568115234, 2.4907798767089844, 1.4560163021087646, -12.518524169921875, -8.962350845336914, 0.0874260738492012, 8.824627876281738, 0.7493072152137756, 9.091573715209961, -12.293074607849121, 2.8750786781311035, -5.7939019203186035, -2.943533182144165, -3.4198763370513916, 0.8028513789176941, -14.453930854797363, -6.610321521759033, 8.365706443786621, -12.96904468536377, -9.1486177444458, -0.8405492901802063, -8.484908103942871, -2.837935447692871, 1.6382806301116943, 1.9634944200515747, -12.972270965576172, -8.836369514465332, -3.7374463081359863, -3.2663183212280273, 10.601966857910156, 0.02857792191207409, 1.224177598953247, -5.556809902191162, -3.4409573078155518, -6.512417793273926, -8.952747344970703, 9.38982105255127, 4.260861396789551, 10.999177932739258, -10.298298835754395, 0.16961076855659485, -12.806829452514648, 9.74856185913086, -9.00301742553711, -8.792336463928223, -1.2743905782699585, 9.203130722045898, -6.432092666625977, 0.2691914737224579, 5.934916973114014, 2.43697452545166, 9.122358322143555, 9.5982027053833, 9.490962028503418, 4.093874454498291, -11.987336158752441, -2.586979389190674, -10.168801307678223, -1.3527404069900513, 9.141485214233398, 8.374326705932617, 3.625715970993042, -12.338801383972168, -1.7513995170593262, 2.0020062923431396, 3.6935553550720215, -12.356308937072754, 3.436361789703369, 9.58083438873291, -8.131660461425781, 5.132202625274658, -10.892057418823242, -9.423155784606934, -6.161242485046387, 2.3123891353607178, 1.0004141330718994, -0.5138227343559265, 7.958644390106201, -9.144532203674316, 4.803338527679443, -9.313619613647461, 12.403477668762207, 1.2471716403961182, 7.95480489730835, 9.258037567138672, 4.206762790679932, -3.1937098503112793, -0.8542096018791199, 10.095431327819824, -4.891529560089111, -10.6322021484375, 3.336489200592041, -5.465315818786621, -8.632463455200195, -11.84260368347168, -6.352267742156982, -4.922902584075928, 10.717923164367676, -2.7969441413879395, -6.592407703399658, 4.595423698425293, -1.3459151983261108, -4.843311786651611, 10.326699256896973, 2.642704486846924, -2.463102102279663, -0.08803088963031769, -7.401032447814941, 10.571968078613281, -5.575280666351318, -10.132291793823242, -0.002940513426437974, -4.268717288970947, -9.476454734802246, -10.123395919799805, -4.302853107452393, -2.4767236709594727, 8.710000991821289, 3.879427433013916, 10.51989459991455, 2.0162785053253174, 7.240635871887207, -10.833995819091797, -11.702676773071289, 7.586394786834717, 9.862804412841797, 6.950412750244141, 2.329508066177368, 7.364223957061768, 2.105502128601074, -5.8026652336120605, 11.075136184692383, -7.1042704582214355, 2.332953453063965, 8.76118278503418, 12.131271362304688, 5.968791484832764, 7.172144412994385, 2.6625478267669678, -10.730172157287598, 3.5545735359191895, 9.585238456726074, -8.242162704467773, -12.864237785339355, 9.155298233032227, 7.046998500823975, 8.41591739654541, 8.839924812316895, -9.728507041931152, -8.244842529296875, -12.217826843261719, -2.287130117416382, -12.754069328308105, -3.9807732105255127, 1.0542712211608887, -10.299522399902344, -8.87924861907959, 10.996894836425781, -14.584270477294922, -2.3501150608062744, 10.239507675170898, -9.389866828918457, 4.104131698608398, -2.598849296569824, 5.354414939880371, 5.665825843811035, -6.143099308013916, 4.857428550720215, 8.904346466064453, -0.45300084352493286, 0.597990095615387, -0.7068647146224976, 0.8618193864822388, 9.810602188110352, -7.599945068359375, 2.9232676029205322, 3.263942241668701, 10.296294212341309, 5.503952980041504, 4.061246871948242, -8.044880867004395, 8.670391082763672, 10.09366512298584, 9.172967910766602, -2.6326420307159424, 4.833829879760742, -4.946889877319336, 7.149137496948242, -10.098061561584473, -9.521427154541016, 3.8374030590057373, 10.123491287231445, 5.673328876495361, -0.35887712240219116, 0.24267950654029846, -1.2585798501968384, -2.4270811080932617, 8.622777938842773, -14.897344589233398, -7.10780143737793, 6.489590644836426, -12.854833602905273, 3.465237855911255, 9.629563331604004, 9.247775077819824, 9.378920555114746, 9.484045028686523, -4.558606147766113, -13.829176902770996, -11.369569778442383, -3.8633084297180176, -9.302746772766113, 3.2789371013641357, 9.837576866149902, 9.212566375732422, 3.139106273651123, 10.197961807250977, 6.958030700683594, 9.440841674804688, 8.74874210357666, 0.5753768086433411, 10.379912376403809, -11.216867446899414, -0.1492047756910324, -12.327828407287598, -12.407599449157715, 7.604405403137207, 0.6896805167198181, -12.14937686920166, -6.41635274887085, 1.151081919670105, -11.782224655151367, -8.15960693359375, 5.586048126220703, 2.9295151233673096, -8.998136520385742, -10.826536178588867, 4.636283874511719, -12.536735534667969, 3.6565659046173096, 6.226053237915039, 1.5046366453170776, -10.131770133972168, 3.022329092025757, -12.910467147827148, 4.339539527893066, -6.237321853637695, -6.695913314819336, 9.782179832458496, -0.20656763017177582, 5.021241664886475, 9.260674476623535, 8.465448379516602, 9.021711349487305, -2.5202999114990234, -8.498315811157227, -9.781925201416016, 6.2410783767700195, -5.759177207946777, -9.823424339294434, 0.3706880807876587, -11.072375297546387, 7.5109758377075195, -2.5337417125701904, -5.935734748840332, -9.191061019897461, -5.022314548492432, 0.9580929279327393, -12.925154685974121, 0.4321020841598511, 8.509001731872559, -5.82344388961792, -9.62446403503418, -4.053598403930664, 9.91694450378418, -7.323212146759033, 3.0078251361846924, 2.930467367172241, 5.742660045623779, 6.169986724853516, 8.541581153869629, -10.857318878173828, 8.693031311035156, 6.8424787521362305, 0.11586953699588776, -10.969630241394043, -2.858976364135742, -14.319327354431152, -11.102587699890137, -11.97555160522461, -4.52518892288208, -14.978334426879883, 9.410295486450195, 2.7552239894866943, -0.4187532365322113, -6.6820807456970215, 3.957615613937378, -12.069415092468262, -3.3436546325683594, 7.138733386993408, 3.2814323902130127, -1.1136176586151123, -6.162196636199951, -5.165063381195068, 10.25289535522461, 10.302596092224121, 2.7172675132751465, -7.3131914138793945, 7.097070693969727, -4.524294853210449, 7.00698709487915, 9.854947090148926, 10.047876358032227, -3.6877031326293945, -12.436576843261719, 4.0677809715271, -4.381106853485107, 10.288507461547852, 1.5616507530212402, 0.18961386382579803, 8.860062599182129, 1.9078911542892456, -1.380933403968811, 9.272584915161133, 7.118821144104004, 10.895706176757812, 0.7608898282051086, 5.101816177368164, 9.48421859741211, -12.907126426696777, -11.749364852905273, 1.2364616394042969, 3.7663471698760986, 12.295100212097168, -10.294577598571777, -2.8638193607330322, -3.316298246383667, -0.14331845939159393, 3.1727824211120605, -1.654640793800354, 5.52627420425415, 1.9913190603256226, 7.383336067199707, -11.968286514282227, -10.92010498046875, 0.20268695056438446, 1.749796748161316, -6.426478385925293, -8.583927154541016, 0.2589288353919983, 10.69732666015625, -11.473523139953613, -5.4477009773254395, -6.215456962585449, 9.65756893157959, -5.45796012878418, -10.849252700805664, -15.340792655944824, -6.20699405670166, 0.43037453293800354, 4.351509094238281, -10.20569133758545, 8.0870361328125, -8.746475219726562, -11.482939720153809, 2.858142852783203, -8.096343040466309, -4.587756633758545, 2.4701740741729736, -7.375238418579102, 9.443517684936523, 9.324943542480469, -2.4885447025299072, -0.13184137642383575, 11.09097671508789, -7.709281921386719, 2.1090824604034424, 10.263779640197754, -4.7616047859191895, 4.021377086639404, -6.609492778778076, 8.721949577331543, -11.570759773254395, -11.235207557678223, 2.7046992778778076, -2.3852243423461914, 2.4624240398406982, 10.879830360412598, -4.945289611816406, 10.079998016357422, -12.371679306030273, -8.503522872924805, -12.415431022644043, -8.593859672546387, 9.637036323547363, -3.817566156387329, -8.43398380279541, -0.4143489599227905, 9.875553131103516, 3.2164783477783203, 5.755765438079834, -2.041111469268799, 10.943273544311523, 8.85797119140625, -4.18587064743042, 5.009077072143555, -15.480865478515625, -5.448099613189697, 0.5117233395576477, -13.455578804016113, -10.50395679473877, 10.917325973510742, 0.1299045830965042, 3.21366024017334, -7.09303092956543, 8.64858627319336, -12.388561248779297, -14.632209777832031, 5.557538986206055, -10.596835136413574, -9.928003311157227, 4.679612636566162, -11.262743949890137, -4.068702220916748, -0.27369943261146545, -12.794111251831055, -1.1390951871871948, -12.384271621704102, 1.7145854234695435, -3.590672492980957, 9.869266510009766, -2.2991085052490234, -2.9406635761260986, -7.427670478820801, -11.085996627807617, 4.749157428741455, 5.554105758666992, 9.516484260559082, 10.819485664367676, 9.979496955871582, 3.9450418949127197, -10.395750045776367, -4.825021266937256, -12.86755657196045, 9.5608491897583, 3.1669487953186035, 4.455688953399658, 0.2944405674934387, -12.12179183959961, 0.38990387320518494, 9.51646900177002, -0.5559705495834351, -0.5252789258956909, -12.157108306884766, 10.766926765441895, -2.0441250801086426, -6.869787693023682, 5.485141754150391, 5.406794548034668, -1.4194713830947876, -9.186121940612793, 7.383029937744141, 8.583752632141113, -2.8241491317749023, -7.72920036315918, -5.368470668792725, 5.765370845794678, -11.251461029052734, -9.00301742553711, 5.751948833465576, -12.067151069641113, -8.804389953613281, 9.74087905883789, -11.93704891204834, 2.3596112728118896, 9.38829517364502, 3.475327253341675, 3.8314857482910156, 2.8998630046844482, -9.935806274414062, -7.586093425750732, 1.4047510623931885, 10.553350448608398, 2.7517337799072266, 1.699901819229126, -6.862757682800293, 9.926300048828125, 1.970367431640625, 9.740242004394531, -8.996760368347168, -4.243410587310791, 0.7164446711540222, -3.3832290172576904, -11.508604049682617, 6.729110240936279, 7.145066738128662, -3.0637474060058594, 1.5728627443313599, -2.2904205322265625, -2.978288173675537, -11.39306640625, 9.543399810791016, 4.094235897064209, -10.603792190551758, 10.258292198181152, -1.8453307151794434, 1.3483082056045532, 9.400169372558594, 1.8664127588272095, -10.658445358276367, 7.576483249664307, 10.347734451293945, -7.460086822509766, 9.740602493286133, -10.358744621276855, 0.4456051290035248, -11.75671100616455, 10.19871997833252, -15.29322624206543, -12.0939302444458, -1.4014530181884766, 2.3325469493865967, -3.3610124588012695, 5.034738540649414, 9.750373840332031, -8.9048433303833, -10.534286499023438, 9.512104034423828, 8.764752388000488, 7.670835018157959, 10.004548072814941, 3.151540756225586, -1.325112223625183, 0.9033375382423401, -6.442127227783203, -5.758681297302246, -1.6679309606552124, 2.6294374465942383, -11.944581031799316, -8.666672706604004, 6.805675983428955, 8.775741577148438, -3.986495018005371, 7.172727584838867, 1.588301181793213, 7.105207920074463, -3.9659578800201416, -0.5319156646728516, 10.712815284729004, -3.6864776611328125, 8.699040412902832, -2.4884591102600098, 7.766870021820068, -11.188434600830078, -12.865896224975586, -11.115857124328613, -12.189812660217285, 6.55437707901001, -9.076062202453613, -1.5421483516693115, 3.7428836822509766, 0.2638104259967804, 10.521222114562988, -1.092077374458313, -0.8167798519134521, -4.434638023376465, 10.759096145629883, -10.19705581665039, -14.640902519226074, -8.268433570861816, -11.62767219543457, 4.392978191375732, -10.377155303955078, 4.918551921844482, 9.980948448181152, -0.03885788097977638, -8.879673957824707, 10.208187103271484, 9.937494277954102, -15.24813175201416, -6.707260608673096, 2.864847421646118, 9.32783031463623, 9.74015998840332, 0.23430459201335907, 9.92914867401123, 3.419358968734741, -2.6779491901397705, 5.148910999298096, 0.6744037866592407, 9.53470516204834, 9.680705070495605, -12.311674118041992, -7.535791397094727, -4.866828441619873, 2.4429261684417725, -1.5225636959075928, -9.919421195983887, -7.826550483703613, 1.616979718208313, 6.148227214813232, 8.4328031539917, -12.056326866149902, 9.896951675415039, 2.247746467590332, -8.998136520385742, 3.348778009414673, 10.482316017150879, -11.65190315246582, 3.2817254066467285, 1.0511696338653564, 0.662522554397583, -11.217098236083984, -7.69653844833374, -2.8230581283569336, -3.4893763065338135, -7.267568111419678, 4.737171649932861, 10.715495109558105, -9.270975112915039, -4.8254547119140625, -11.568255424499512, 9.791112899780273, -10.909627914428711, 1.572852373123169, -4.501099109649658, 8.60411262512207, 9.58301067352295, 6.390276908874512, 4.971529960632324, -11.350282669067383, 10.416020393371582, 8.316987037658691, -9.238750457763672, -10.710992813110352, 3.802591562271118, -4.77087926864624, 7.358030319213867, 9.876564979553223, 9.51125717163086, 2.0143721103668213, -2.0202066898345947, -13.419407844543457, 3.3418233394622803, 3.21096134185791, -1.7749841213226318, -11.614082336425781, -11.060157775878906, -12.415426254272461, -6.640310287475586, 10.032512664794922, 6.822049140930176, -9.834744453430176, 9.96624755859375, 3.2618584632873535, -11.266033172607422, -9.675895690917969, -12.597347259521484, -9.584253311157227, 7.169061660766602, 10.096927642822266, -6.193401336669922, -6.524925708770752, -8.828761100769043, 2.695359706878662, 1.3268465995788574, 2.843816041946411, 7.7459611892700195, -11.245882034301758, -0.1318018138408661, -12.073521614074707, -13.045401573181152, -11.631669044494629, 9.384993553161621, -0.2992601990699768, 2.9546470642089844, 8.506580352783203, 0.7595405578613281, 5.473357200622559, 10.431450843811035, 5.676667213439941, -1.845703363418579, 10.225064277648926, -3.677086353302002, 3.818782329559326, 10.571136474609375, -3.596281051635742, -3.866032123565674, 2.9647951126098633, -8.514659881591797, 9.39489459991455, -10.922577857971191, -12.008978843688965, -12.583398818969727, -12.92186450958252, -5.528365612030029, 1.3918741941452026, -6.076574325561523, 0.525213360786438, 8.609047889709473, -14.070261001586914, 3.4893362522125244, 4.814030647277832, -6.515762805938721, 2.7722721099853516, -13.594903945922852, 4.112639904022217, 9.943942070007324, 4.868245601654053, 8.841854095458984, 3.871802806854248, 3.9838201999664307, -4.95267915725708, -7.1742844581604, 7.540807723999023, -1.609576940536499, 10.066131591796875, -7.318596839904785, 9.25274658203125, -10.621905326843262, 4.067784309387207, 3.009594202041626, 4.279131889343262, 1.2875548601150513, -12.815119743347168, 1.3209145069122314, -7.798931121826172, -2.226263999938965, 9.170601844787598, -4.465625286102295, 10.414521217346191, 0.4622672200202942, 5.110745429992676, 6.6743011474609375, 1.7584153413772583, 8.990008354187012, 2.788648843765259, 3.624901294708252, -6.258129119873047, 10.326265335083008, -3.651712656021118, 1.5728594064712524, 8.179889678955078, -11.639065742492676, -2.2551934719085693, 9.711355209350586, 2.494009017944336, -11.821327209472656, -1.2951760292053223, -0.2673895061016083, 4.008381366729736, 4.156163215637207, -9.870098114013672, -8.904396057128906, 8.798346519470215, 2.8470375537872314, -13.75267505645752, 4.6695733070373535, -3.40413236618042, 4.637670040130615, -1.0160402059555054, -9.194140434265137, -6.9803690910339355, -11.778947830200195, 8.680974960327148, -6.173201560974121, -13.776864051818848, -8.962556838989258, 8.585817337036133, 9.377376556396484, -9.327630996704102, 0.9033375382423401, 6.213048458099365, -11.506253242492676, -7.754507541656494, 5.088080406188965, 1.6877782344818115, 5.658176422119141, 2.890286684036255, 5.744869232177734, 5.638234615325928, -2.3859331607818604, 6.334166049957275, 1.019310712814331, -7.138383865356445, -13.564264297485352, 4.418347358703613, -11.481842041015625, 8.748717308044434, -0.8130015134811401, 4.598304748535156, -13.417283058166504, -9.286724090576172, -14.91661262512207, -10.411941528320312, -1.8215433359146118, -1.0981497764587402, 4.0083699226379395, -1.6931381225585938, 9.782625198364258, -11.861138343811035, -9.301529884338379, -9.185864448547363, -11.216866493225098, -12.532188415527344, -4.087393283843994, 2.083958148956299], \"coloraxis\": \"coloraxis\", \"size\": 5, \"symbol\": \"circle\"}, \"mode\": \"markers\", \"name\": \"\", \"scene\": \"scene\", \"showlegend\": false, \"type\": \"scatter3d\", \"x\": [2.2294912338256836, 3.605713367462158, -3.1406617164611816, -2.091428518295288, 14.7392578125, -1.1559340953826904, 5.67857027053833, 2.863705635070801, -10.633432388305664, 5.029006004333496, 4.589212417602539, -10.288203239440918, -10.965156555175781, -0.8115550875663757, 6.290604591369629, 18.829795837402344, 0.667254626750946, -8.702877044677734, -6.036421298980713, 11.164119720458984, -6.175884246826172, -3.319467306137085, 5.660305023193359, 0.64471036195755, -2.156593084335327, 0.32252803444862366, 1.1953762769699097, -8.935259819030762, -9.444613456726074, -9.243453979492188, -8.823596954345703, -4.066898345947266, 2.0696310997009277, -1.6914753913879395, -3.073347568511963, 4.809065818786621, 0.820015549659729, -10.114569664001465, 11.761001586914062, -8.789530754089355, -8.371729850769043, -8.734816551208496, -10.119608879089355, -8.44432258605957, -5.086625099182129, 8.419831275939941, 4.12634801864624, -3.4018752574920654, -2.1892523765563965, -10.125472068786621, -8.371973037719727, 4.6872758865356445, 5.775994300842285, 4.073612213134766, -2.3958442211151123, -5.571720123291016, 16.269296646118164, -3.095690965652466, -7.942194938659668, 7.3266425132751465, -10.795378684997559, -3.7253949642181396, -7.470623970031738, 0.7121497392654419, -2.8394267559051514, 7.978249549865723, -5.1469526290893555, 2.176938772201538, -8.97624397277832, -0.6695380210876465, -10.25200080871582, 14.157947540283203, -0.9771718382835388, -10.819661140441895, 2.97550106048584, 2.1707465648651123, 3.5046560764312744, -10.46814250946045, -9.570036888122559, 7.538285732269287, 4.903470516204834, 3.8563709259033203, -6.009617328643799, -12.298008918762207, 1.9051660299301147, -3.4064693450927734, -7.003072738647461, 6.514983654022217, -3.7337963581085205, -10.14590072631836, -8.715448379516602, 3.08235502243042, -8.977930068969727, -2.242504596710205, -2.9622817039489746, 5.714285850524902, -2.188039779663086, 5.209496974945068, -9.380791664123535, -0.8929377198219299, 3.538031578063965, 2.8423845767974854, -1.1577849388122559, 11.456974983215332, 4.394134521484375, -3.956643581390381, -10.135736465454102, 3.593820571899414, 2.3070240020751953, -3.2370541095733643, 4.0587873458862305, 5.497961521148682, -7.82315731048584, 4.51520299911499, -8.403190612792969, -2.719519853591919, -10.19289493560791, 6.186458110809326, 17.797147750854492, -3.723438024520874, 6.92552375793457, 4.743930339813232, 0.10124865174293518, -7.581521987915039, 4.750027656555176, 6.669036865234375, -9.36530876159668, 4.626000881195068, 2.1120870113372803, -0.56935054063797, 5.543778896331787, -2.493743896484375, 5.896463871002197, 2.273620128631592, 3.5141937732696533, 12.860941886901855, -1.3429174423217773, 6.25715970993042, 4.459120273590088, 4.527755260467529, -10.87159252166748, 3.482602834701538, -7.432124614715576, 5.376797676086426, 4.385599136352539, -8.953783988952637, 3.5575220584869385, 3.399650812149048, 15.556449890136719, -9.42091178894043, -3.0834426879882812, -1.5068790912628174, -4.337092399597168, -5.627755641937256, 6.637115478515625, -7.960263729095459, -0.6641268134117126, 6.041170597076416, -10.000041961669922, 8.223442077636719, 0.6907631158828735, 3.206737756729126, -10.938703536987305, 3.4461286067962646, 19.1817626953125, 9.156949996948242, 3.3431410789489746, 7.4501824378967285, 9.786001205444336, 3.2060582637786865, 6.199241638183594, -9.968733787536621, 0.9042497277259827, -3.650033712387085, -10.975526809692383, -2.5909295082092285, 4.7572526931762695, -1.335715651512146, -3.313993215560913, -1.604850172996521, 13.923803329467773, 5.542537689208984, -2.431006669998169, 5.293546199798584, 3.060776948928833, -9.110550880432129, 17.958765029907227, -8.833189010620117, -0.42204761505126953, -1.34603750705719, -9.204113960266113, 3.5429022312164307, -2.7886624336242676, 11.89851188659668, -2.7023849487304688, -3.060049295425415, -9.097705841064453, 6.383277416229248, 1.1627609729766846, -3.6626691818237305, -7.593376636505127, 4.517879009246826, -2.4533941745758057, 16.068464279174805, -9.713563919067383, -9.484149932861328, 2.4062273502349854, -0.00449615390971303, 17.740299224853516, 6.5151286125183105, -0.9242022037506104, 5.367249488830566, 8.785994529724121, 15.048783302307129, -9.126181602478027, 0.654496967792511, -8.641100883483887, -8.661041259765625, 4.051328182220459, 3.6359665393829346, 1.6548645496368408, 2.056957483291626, -10.857707023620605, 19.31120491027832, 6.073458194732666, 17.8859920501709, 2.3479650020599365, 4.294661521911621, 3.23220157623291, -7.75076961517334, 4.26077938079834, 0.8871913552284241, 4.7343831062316895, -5.294344425201416, 7.546013832092285, 4.493374347686768, 4.81537389755249, 4.097009181976318, -2.732945442199707, -2.704526424407959, -10.879484176635742, 3.5244359970092773, 4.298087120056152, 4.304113864898682, -7.401659965515137, -3.15920352935791, -8.374654769897461, -10.851174354553223, -10.755646705627441, 1.2847144603729248, 4.333690643310547, 0.6994770765304565, 4.9464592933654785, 9.540693283081055, -10.472844123840332, 13.279309272766113, 3.897538185119629, 2.066040277481079, 4.549663543701172, 10.430566787719727, 4.938514232635498, 2.06418776512146, -9.198633193969727, 16.9260311126709, 1.8477253913879395, 6.411810398101807, -10.281245231628418, -5.666385173797607, 8.847701072692871, 15.790118217468262, 16.48516082763672, -12.068748474121094, 4.244969844818115, -7.230855941772461, 4.352669715881348, 4.634145736694336, 18.03164291381836, 19.167875289916992, -1.9875788688659668, 2.16994309425354, 3.514127254486084, 7.482736587524414, -1.9045958518981934, 1.5676592588424683, 3.768136978149414, -9.58029556274414, 3.5998611450195312, 5.363799571990967, 1.3974486589431763, -1.6293425559997559, -3.1565186977386475, -7.210535049438477, -3.156277656555176, -3.004058837890625, -8.710976600646973, -2.9957101345062256, -7.974086284637451, 4.348216533660889, -8.283832550048828, -10.999266624450684, 12.074030876159668, -9.125490188598633, 1.0417852401733398, -7.587006092071533, -3.029668092727661, 14.883551597595215, 1.066187858581543, 4.038213729858398, -9.397697448730469, -4.281105995178223, -3.5005128383636475, 3.054619312286377, 1.7545485496520996, -1.0655783414840698, -8.986310005187988, 3.1695144176483154, 3.305508613586426, -9.351877212524414, -8.743042945861816, 3.307337999343872, -8.777897834777832, -10.846606254577637, 4.168704032897949, -10.622233390808105, -2.7825164794921875, -9.195334434509277, -0.466581791639328, 4.456978797912598, 1.5718287229537964, 1.5403493642807007, 2.7121925354003906, 4.601463317871094, -7.012343883514404, -2.768380880355835, 19.30205535888672, -9.445127487182617, 10.257562637329102, 6.276098728179932, -9.62817668914795, 5.013796806335449, 3.9635567665100098, -9.754561424255371, 14.636174201965332, -9.228438377380371, 0.320183664560318, -8.844043731689453, -6.338450908660889, -0.6181163191795349, -8.788986206054688, -2.4435200691223145, 1.2660441398620605, 19.355588912963867, -8.435086250305176, -10.440423011779785, -10.087543487548828, -4.585988998413086, -2.2995457649230957, -8.511438369750977, -9.472006797790527, -1.415093183517456, 0.08429661393165588, 6.041170597076416, -8.643082618713379, 7.5085248947143555, 7.353847503662109, 2.9301068782806396, -3.398346424102783, 2.407663345336914, -8.154155731201172, 0.73145592212677, -7.653309345245361, -3.3595612049102783, 4.393885612487793, -3.334859609603882, -8.744080543518066, 4.588021755218506, -2.6089203357696533, 9.916810035705566, -2.6869137287139893, -11.379229545593262, -3.39736008644104, 7.045358180999756, 1.387123703956604, -2.250398635864258, -10.96394157409668, 18.207624435424805, 6.51074743270874, 4.069750785827637, -5.503032684326172, 6.776553630828857, -8.875093460083008, 3.189662456512451, 2.9647865295410156, 4.7395920753479, 14.065953254699707, 1.8073701858520508, -10.535988807678223, 3.274851083755493, 7.7480669021606445, 13.829303741455078, -9.044367790222168, -7.325160980224609, 3.398898124694824, -3.7872276306152344, 6.40690803527832, 4.481154441833496, 3.763878107070923, 3.2860448360443115, 8.954717636108398, 0.04887427017092705, 1.2538419961929321, -10.938508033752441, -9.437247276306152, -7.552464485168457, 18.832225799560547, 4.840556621551514, -2.8674731254577637, 8.315814971923828, -0.418170303106308, -10.765625953674316, 10.219400405883789, 17.128761291503906, 17.390165328979492, 17.994144439697266, 1.814442753791809, 4.805698871612549, 3.8281590938568115, -3.422229051589966, 4.856910228729248, 3.176560401916504, 13.375082969665527, 17.77135467529297, 2.012744665145874, -8.24163818359375, -10.256247520446777, -8.87244987487793, 7.8273186683654785, 0.28192856907844543, -8.394079208374023, -1.996244192123413, 1.8011059761047363, 4.719003677368164, 4.485916614532471, -8.836981773376465, -6.467477321624756, 4.259155750274658, -5.9100117683410645, -6.179861068725586, 2.075756072998047, 2.56518816947937, 0.1299312710762024, -10.839868545532227, 2.462110757827759, 4.593039035797119, -7.907707214355469, -0.9156038761138916, -10.529214859008789, -9.36821460723877, 0.2592489421367645, 4.777177810668945, -10.93833065032959, -0.3561581075191498, 6.4863152503967285, -4.646864891052246, -3.0754873752593994, 12.881814956665039, -4.896897792816162, 5.409148216247559, -8.359646797180176, 18.304515838623047, -9.928308486938477, 4.273416996002197, -1.8293992280960083, 5.489048004150391, -10.015765190124512, -0.33945417404174805, 4.405940532684326, 3.173804759979248, 3.7924647331237793, -9.876415252685547, -2.417362689971924, -5.984217166900635, 1.9227625131607056, -1.2770494222640991, 0.29773959517478943, -1.0581579208374023, 2.1904549598693848, -9.455615043640137, -5.90241813659668, -3.5234696865081787, -2.3893868923187256, 16.164630889892578, 1.7936207056045532, 0.2471216917037964, 1.7875680923461914, -10.338025093078613, 0.08248975872993469, 10.69808578491211, -1.1832020282745361, 19.271577835083008, 5.819007396697998, -10.560991287231445, 3.955122709274292, 2.7946114540100098, 4.774630069732666, -2.30379581451416, 4.66022253036499, -4.883957386016846, 4.679069519042969, 16.63216781616211, -5.564591407775879, -5.67083215713501, -2.7114622592926025, 0.6219771504402161, -0.14021122455596924, -1.3379884958267212, 11.985284805297852, 1.576529860496521, -10.16110897064209, -1.8461542129516602, -6.259525775909424, 13.832710266113281, 12.80251693725586, -3.1397416591644287, -2.6311938762664795, 11.962160110473633, -1.6938103437423706, -9.615669250488281, -9.160510063171387, 15.058459281921387, -2.7723634243011475, 1.4143325090408325, -12.568955421447754, -5.771559715270996, -9.76965618133545, 6.4201836585998535, -10.871150016784668, 17.259965896606445, 6.5149922370910645, -9.053873062133789, -9.513683319091797, 12.21468734741211, -8.208601951599121, -10.806755065917969, 6.958843231201172, 14.68265151977539, 0.13607364892959595, 2.713881731033325, -3.793443441390991, 0.4866161644458771, -8.351807594299316, -2.8565261363983154, -3.0200655460357666, 2.9837646484375, -5.772352695465088, 3.652216911315918, -3.5798451900482178, 0.051648326218128204, -4.120575904846191, 7.433345317840576, -0.7470617294311523, 4.063100337982178, 3.7078285217285156, -6.168837070465088, 0.6566745042800903, 5.184569358825684, -10.927286148071289, -10.130232810974121, -2.6071670055389404, -0.8416416645050049, 2.6377148628234863, 11.71666431427002, 1.132580280303955, 3.565753221511841, 4.883590221405029, 3.3408806324005127, 3.646516799926758, -9.098952293395996, -3.1506154537200928, 6.9321489334106445, 2.0669281482696533, 3.8138818740844727, 3.5110132694244385, 2.1745800971984863, -4.828194618225098, -10.990704536437988, -2.1276800632476807, 14.433794021606445, 18.51881980895996, -2.70619535446167, 6.681039810180664, -8.627978324890137, -2.152433395385742, -7.456692695617676, -8.748970985412598, 1.415900707244873, -10.981013298034668, -3.1139707565307617, 19.21244239807129, 1.34161376953125, 3.0045156478881836, -10.657991409301758, 4.844815254211426, -5.875764846801758, -8.29233455657959, 0.7546324729919434, 13.137473106384277, 4.353321552276611, 5.235882759094238, -1.0718042850494385, 3.8798794746398926, 15.648292541503906, -5.5057902336120605, 4.025371551513672, 6.46497917175293, 10.962136268615723, 5.401805877685547, 6.808322429656982, -10.63526725769043, -9.0097074508667, 15.901229858398438, 3.248317241668701, -0.7269947528839111, 4.906024932861328, -3.741736650466919, 5.94856071472168, 0.06958531588315964, 3.828819751739502, -9.064868927001953, 3.2538790702819824, -2.304417371749878, 1.4199126958847046, 17.68865203857422, 2.120797634124756, 4.655986785888672, -9.503880500793457, -2.4761292934417725, -3.1024363040924072, 6.046994686126709, 3.4187748432159424, -5.471718788146973, -4.690254211425781, 0.45193496346473694, -9.597086906433105, 2.13346266746521, -4.874529838562012, -7.587425708770752, 11.892643928527832, -2.5949156284332275, -7.0796966552734375, -3.3546674251556396, 3.5790159702301025, -7.428070545196533, 3.4173336029052734, -8.721841812133789, 8.107608795166016, 14.939226150512695, -9.741899490356445, -3.295187473297119, -5.81338357925415, -0.5025001764297485, 10.64113998413086, 0.1405511200428009, -9.205768585205078, -3.632810592651367, 2.358229637145996, 3.4537627696990967, -8.722118377685547, 1.3483713865280151, -10.009230613708496, 4.1759724617004395, -9.191069602966309, -10.25342845916748, 1.4321330785751343, 1.4604591131210327, -8.87938117980957, -8.695889472961426, -3.4917662143707275, 5.805980205535889, 16.820560455322266, -10.0817289352417, 2.2735650539398193, -6.074907302856445, 3.2822914123535156, 4.208773612976074, 4.938512802124023, 6.921356201171875, -1.0743463039398193, 5.0381646156311035, 10.427362442016602, 4.688505172729492, -7.3055739402771, 18.064786911010742, 0.38115620613098145, -11.527649879455566, -11.023650169372559, 3.0973408222198486, 1.5028170347213745, -11.017268180847168, 8.241515159606934, -6.2308478355407715, 4.889411449432373, 0.4388134479522705, 12.683231353759766, 6.240200519561768, 10.427310943603516, -2.188274383544922, -10.501847267150879, -0.5825686454772949, -9.924686431884766, 3.8235089778900146, 6.129838943481445, -9.170992851257324, -7.4937567710876465, -7.458970546722412, 4.746787071228027, -7.70182991027832, 1.633671522140503, -9.497090339660645, -8.553422927856445, -2.8555805683135986, -9.849146842956543, -10.640525817871094, 3.8700263500213623, 9.100834846496582, 7.223214149475098, 3.9802656173706055, 6.278088569641113, -9.900638580322266, -2.2054734230041504, 10.42726993560791, 4.191863536834717, 6.503620624542236, -1.5954030752182007, 14.046131134033203, 4.883832931518555, 3.1676313877105713, -9.501214981079102, 6.296929359436035, -6.009617328643799, -9.96967601776123, -8.939833641052246, 4.9713850021362305, -2.597935438156128, 14.732908248901367, 19.103534698486328, -8.731800079345703, -9.849679946899414, -8.207125663757324, -10.14594841003418, -0.9229631423950195, 1.6280436515808105, -0.42305704951286316, -10.274364471435547, -3.9418492317199707, 2.9980151653289795, -2.3189523220062256, 8.698267936706543, 10.887130737304688, -5.024179458618164, 12.348666191101074, 3.4830501079559326, -9.51234245300293, -7.553341388702393, -3.208773136138916, -8.994016647338867, -3.6468725204467773, 19.29996109008789, -2.706279754638672, 6.828490734100342, -1.8813064098358154, -1.0215861797332764, -0.05449581891298294, 4.009880065917969, -8.675740242004395, 2.2810981273651123, 4.661072731018066, -1.0962380170822144, -6.063413143157959, -8.471911430358887, -3.72229266166687, -9.877379417419434, -10.915285110473633, -9.356510162353516, -2.3668739795684814, 4.816220283508301, -3.0791916847229004, 1.753689169883728, -9.305451393127441, 3.3574986457824707, -0.6730676889419556, -8.278424263000488, -5.914681434631348, 4.927060604095459, -8.899404525756836, -9.121489524841309, 4.873450756072998, -1.368403434753418, -10.690751075744629, 17.38133430480957, 10.427316665649414, 4.5471577644348145, 8.378165245056152, -2.2160089015960693, -7.299866199493408, -0.35981062054634094, 1.7162448167800903, 16.099021911621094, 10.56486988067627, 1.6881582736968994, 2.115741014480591, -2.301532745361328, -7.284167766571045, -3.794340133666992, -3.254194498062134, -2.4110302925109863, -5.242700576782227, -8.086444854736328, 12.503199577331543, 4.676681995391846, 13.79444694519043, -6.3897857666015625, 2.462110757827759, 5.628273010253906, -9.005191802978516, 2.1865410804748535, -8.424724578857422, -6.753607273101807, -4.619264602661133, -2.6995205879211426, -2.463531732559204, 3.563814640045166, -3.0282022953033447, 3.2208733558654785, -10.7239351272583, -8.796311378479004, -2.5887351036071777, -3.72532320022583, -2.5169007778167725, 10.57423210144043, 4.379788398742676, -7.458974361419678, -4.901137351989746, -8.43923568725586, 10.050854682922363, 5.458796501159668, 5.250282287597656, 3.676482915878296, 9.214770317077637, 7.390621662139893, 3.3450767993927, 4.075433254241943, -9.101873397827148, 2.4384207725524902, -9.019062995910645, 11.154546737670898, 14.551575660705566, -4.469038009643555, 2.8227808475494385, -0.38877344131469727, -7.710312843322754, -7.229137897491455, -8.70518970489502, 4.604948043823242, -1.3377708196640015, -1.0718096494674683, -3.2508304119110107, 11.128693580627441, -9.394240379333496, -2.815487861633301, 10.188765525817871, -10.465170860290527, -2.702775478363037, 4.553077220916748, 0.06796755641698837, -3.3891448974609375, -8.438819885253906, -10.298274040222168, -3.2053749561309814, -3.523503303527832, 5.02376127243042, -10.99881362915039, 4.452437877655029, -7.448230266571045, 16.50624656677246, 2.0754168033599854, 6.404552936553955, 2.6513686180114746, 4.311041355133057, 0.5819981098175049, 9.262968063354492, 0.6441729664802551, 2.6722288131713867, 7.607065200805664, 3.956674337387085, -9.894330024719238, 9.351447105407715, 5.936619758605957, 4.721339702606201, 8.793407440185547, -0.9122418165206909, -11.323019027709961, -8.89633846282959, 3.858935832977295, 3.8979272842407227, -10.947739601135254, -3.017665147781372, -8.961039543151855, 3.917428493499756, 2.794250726699829, 1.083739995956421, 4.590207099914551, -0.47950422763824463, 4.264028549194336, -2.291962146759033, -10.97161865234375, 7.790682315826416, 4.745884895324707, 0.22208359837532043, -8.145617485046387, -3.5078372955322266, -10.586423873901367, -0.2908999025821686, 0.9564343094825745, 17.43929672241211, 3.425687789916992, 8.468505859375, -8.499011993408203, -11.103901863098145, -0.6641299724578857, 1.9625530242919922, -9.957859992980957, -2.9856271743774414, 15.110023498535156, 3.1920828819274902, 18.27178192138672, -2.8468751907348633, -12.568940162658691, 4.6011061668396, 0.5881962776184082, -10.915658950805664, 0.40655001997947693, -6.965242862701416, 3.222398042678833, -3.3971993923187256, 9.730057716369629, 1.1909714937210083, -8.095612525939941, 5.810328960418701, 5.302882671356201, -9.667213439941406, 3.415764570236206, 18.692489624023438, -10.761513710021973, 3.328531503677368, -6.604006767272949, 12.788671493530273, -2.4068379402160645, -7.458979606628418, 9.500205993652344, -2.5450477600097656, -10.094771385192871, -10.158340454101562, -3.2017111778259277, 1.5451234579086304, 4.46799373626709, 3.0513038635253906, 5.762022495269775, 3.376559019088745, 4.412634372711182, 4.18394136428833, 18.204853057861328, -7.337630748748779, 4.684793472290039, -0.40068039298057556, 4.301976203918457, -8.400298118591309, -9.799708366394043, -3.0589325428009033, -2.787400245666504, 2.164530038833618, 19.2913818359375, 0.27911892533302307, 4.664978504180908, 2.0565202236175537, 18.460636138916016, -8.539353370666504, 4.8246750831604, -0.9229631423950195, -9.91558837890625, 3.236168622970581, -3.006032943725586, 6.57507848739624, -5.72482442855835, 1.247999668121338, -9.918363571166992, 6.8607892990112305, -10.323551177978516, -2.4947662353515625, -9.813720703125, -6.761858940124512, 3.097923994064331, 0.16420255601406097, 0.9834070801734924, 2.006347179412842, 7.368325233459473, 3.6782193183898926, 0.4273059666156769, 4.620937347412109, -2.8938114643096924, 4.83931827545166, 3.379117727279663, -10.232574462890625, 3.3549304008483887, 5.762012958526611, 3.532642126083374, 16.377504348754883, 2.9681124687194824, -1.8582299947738647, -3.1742286682128906, -2.1883254051208496, 1.7272053956985474, 3.932279586791992, 3.7880985736846924], \"y\": [-3.7698094844818115, -5.424356937408447, -4.1461181640625, 5.615760803222656, 6.578255653381348, 0.19290940463542938, -1.5637387037277222, -5.572131156921387, -7.7707343101501465, 1.593833088874817, -3.8383891582489014, -8.786564826965332, -5.806710720062256, -5.791444778442383, 1.9229987859725952, 10.418416976928711, 8.55268383026123, -3.1108968257904053, -5.977095127105713, 4.288242340087891, -6.664464473724365, -0.6988264322280884, 2.3726749420166016, 7.122520446777344, -2.260882616043091, 6.115911483764648, 5.756506443023682, -2.0929946899414062, -7.320446014404297, -2.477022886276245, -0.7003578543663025, 0.6302033066749573, 0.077278271317482, 4.020755290985107, -7.673018932342529, -2.5726144313812256, -0.8744567632675171, -6.630875587463379, 5.116361141204834, -8.536844253540039, -8.862497329711914, -8.885615348815918, -4.486484050750732, 0.2779020369052887, -8.200728416442871, 0.8764066100120544, 2.8941900730133057, -0.8555991649627686, -1.8966171741485596, -6.50252628326416, -8.527166366577148, 2.0997111797332764, 2.852114677429199, -5.111763954162598, -7.289973735809326, -5.971891403198242, 8.277938842773438, 1.7373138666152954, -9.398438453674316, 0.9331026077270508, -6.922241687774658, -3.1013219356536865, -7.095488548278809, 9.006746292114258, -0.10471685230731964, 3.758094310760498, -5.787082195281982, 4.7318339347839355, 0.0016179238446056843, -1.4827549457550049, -8.48108959197998, 6.756992816925049, -0.8194161057472229, -7.364631652832031, 3.5265378952026367, 0.04005268216133118, 11.16903018951416, -6.173409461975098, -6.353832244873047, 4.518465995788574, 2.8159990310668945, -5.192825794219971, -6.007030487060547, -7.593249320983887, -6.261382102966309, -1.2638306617736816, -6.853060722351074, 3.722507953643799, -4.368127822875977, -8.51120376586914, -7.925887584686279, 9.455735206604004, -5.151443004608154, -1.9528913497924805, 1.4008342027664185, 2.0454678535461426, 4.347190856933594, 12.742337226867676, -8.294816017150879, -5.831070899963379, 10.906500816345215, 5.167688846588135, 5.441668510437012, 4.51898193359375, 12.167369842529297, -7.836775779724121, -8.64489459991455, 3.6037991046905518, 9.226567268371582, -0.3418549597263336, -4.656222820281982, 1.767760992050171, -1.596727728843689, 8.862207412719727, -8.723956108093262, 3.393622398376465, -6.7758989334106445, 3.458665609359741, 10.325655937194824, -3.5352749824523926, 4.0122785568237305, -2.881958246231079, 6.440601348876953, -6.194149017333984, -3.2124013900756836, 4.167822360992432, -5.540339946746826, -4.008927822113037, 4.635467529296875, 7.582451820373535, -1.510779857635498, 1.6309233903884888, 2.483259439468384, 1.9558055400848389, 11.581832885742188, 4.861581802368164, -6.496555805206299, 3.5797462463378906, 12.098605155944824, 8.94438362121582, -5.180969715118408, 0.7203006744384766, -1.2045258283615112, 2.653738498687744, 8.305886268615723, -8.358363151550293, 9.8392972946167, 2.51094126701355, 7.4297709465026855, -3.138059377670288, 1.841479778289795, 4.265605449676514, -2.1929190158843994, -5.644138336181641, 2.710949182510376, -9.384891510009766, -5.802326679229736, 3.101595640182495, -8.362929344177246, 3.987340211868286, -0.6729721426963806, 6.123570442199707, -5.556408405303955, 10.037537574768066, 12.24292278289795, 4.279687404632568, -5.141205787658691, 3.0254642963409424, 4.354834079742432, 4.688760757446289, 2.9561076164245605, -8.61757755279541, -0.684708297252655, -8.073698997497559, -6.7960333824157715, 0.6575421094894409, 10.918270111083984, 4.552556037902832, 4.256438732147217, -2.1426591873168945, 6.021219730377197, -1.5237177610397339, 0.6544139385223389, 2.094681978225708, 5.722961902618408, -3.9911906719207764, 10.189072608947754, -2.4164798259735107, -1.6550334692001343, 6.944602012634277, -6.5492353439331055, -4.826854228973389, -3.0473086833953857, 4.700639724731445, -2.8673276901245117, -6.014890193939209, -3.223940372467041, 2.896652936935425, 8.000329971313477, -8.127970695495605, -7.435239791870117, -0.9283751249313354, 1.22136390209198, 7.933188438415527, -3.574676513671875, -3.1059160232543945, 8.099709510803223, -0.6600602865219116, 9.730807304382324, 2.7321436405181885, -6.150888919830322, 1.8092342615127563, 3.5441839694976807, 5.6501898765563965, -3.036712408065796, -0.995629072189331, 0.7972822785377502, -0.3985675275325775, 1.6484568119049072, -1.8750401735305786, 10.542098999023438, -6.581624507904053, -6.305595397949219, 11.326881408691406, 3.540709972381592, 10.4209566116333, 10.027486801147461, -1.4719467163085938, 4.070860385894775, -7.48472261428833, 3.241743326187134, -0.7044058442115784, -1.7469513416290283, -5.59488582611084, 3.070931911468506, -4.257993221282959, 12.613746643066406, 2.028266668319702, 1.5056309700012207, -7.256528377532959, -7.206638336181641, 1.088954210281372, -4.158658981323242, 8.152015686035156, -7.911008358001709, -8.047837257385254, 0.7961443066596985, -6.365501880645752, -7.617893695831299, 1.273530125617981, 3.316655397415161, -5.548075199127197, 12.526942253112793, 3.6328117847442627, -7.561539173126221, 4.668846607208252, -4.682596683502197, 0.07323668897151947, -4.034981727600098, 2.304875612258911, 10.836833953857422, -6.419514179229736, -6.937093257904053, 9.072844505310059, 3.441854476928711, 3.9360098838806152, -7.2196455001831055, -2.403081178665161, 3.4311137199401855, 7.464763164520264, 8.637848854064941, -7.122525215148926, -4.8919806480407715, -6.022082328796387, 8.739228248596191, 2.752121925354004, 9.572810173034668, 11.14316177368164, -1.8388690948486328, 10.46524715423584, 1.718674659729004, 4.498017311096191, -1.810860276222229, 11.786433219909668, 1.222221851348877, -4.770071506500244, -5.149595737457275, 1.9163591861724854, 5.731596946716309, 5.565489292144775, -3.456587791442871, -9.564692497253418, -2.6544806957244873, -3.1030216217041016, -0.7044422030448914, 0.37460675835609436, -3.081266403198242, 8.31452465057373, -2.952667713165283, -6.918338775634766, 5.839314937591553, -1.7666524648666382, -0.5017740726470947, -7.598326683044434, -3.2080471515655518, 6.670408248901367, 1.2048643827438354, -4.4055891036987305, -3.4650635719299316, -5.478869438171387, -0.613774836063385, 9.930886268615723, 3.265660047531128, -0.943254292011261, -4.46215295791626, 2.0821423530578613, 4.793138027191162, -3.049258232116699, -7.89578104019165, 3.391974925994873, -0.07449869811534882, -6.463254451751709, 2.675008773803711, -6.893612861633301, -2.1340198516845703, -2.5259616374969482, -5.938553333282471, 9.638650894165039, -0.1175919622182846, 1.3160885572433472, -6.0591864585876465, 10.429333686828613, -6.896684646606445, -7.253602981567383, 11.252582550048828, -8.5908784866333, 3.051013946533203, 3.5035839080810547, -3.566997528076172, 9.194613456726074, 10.886802673339844, -6.5898919105529785, 6.418995380401611, -2.027461290359497, -0.49247875809669495, -1.2629722356796265, -2.7088661193847656, 0.24870342016220093, -0.6613547205924988, -2.513665199279785, -0.6491168737411499, 11.465374946594238, -3.396350145339966, -6.8023881912231445, -6.167290210723877, -2.2012829780578613, 5.588203430175781, -2.9427051544189453, -4.850616931915283, 4.188799858093262, 8.079598426818848, 3.101595163345337, -1.1095384359359741, 3.115623712539673, 1.3244342803955078, -5.902017116546631, 0.903761625289917, 8.5743989944458, -7.7209014892578125, 7.1065545082092285, -7.298940181732178, -2.673149347305298, 11.21300983428955, -1.1256892681121826, -0.9738010168075562, -0.9604069590568542, -6.668236255645752, 1.0188554525375366, 4.1246514320373535, -6.2266669273376465, -7.897970676422119, 3.3559038639068604, -0.27094048261642456, -2.1956288814544678, -6.5579833984375, 9.710392951965332, 4.178242206573486, 1.56802237033844, -8.955198287963867, 4.139391899108887, 0.20871542394161224, 5.611225605010986, 0.4080154597759247, -1.4615366458892822, 6.71155309677124, -0.03514287993311882, -6.730250835418701, 6.109560966491699, 3.4299192428588867, 5.937450408935547, -5.311691761016846, -7.432834625244141, 0.6556673049926758, -3.903939962387085, 2.1342523097991943, 10.465460777282715, -4.522367477416992, 0.23231469094753265, 1.144141435623169, -1.0326652526855469, -0.3644939064979553, -6.03104829788208, -7.149693012237549, -5.945895195007324, 10.533499717712402, -2.3344359397888184, -2.82895565032959, 4.058276176452637, 8.589301109313965, -6.538275241851807, 4.5561041831970215, 8.876964569091797, 9.0122652053833, 9.357316970825195, 1.7688441276550293, -1.0860713720321655, -5.222664833068848, -3.730593204498291, 9.936311721801758, 0.6728013753890991, 5.32679557800293, 10.038863182067871, 0.004586546681821346, 0.3023732304573059, -6.256466388702393, -0.7532288432121277, 3.447812795639038, -1.151322841644287, 1.3443468809127808, 5.911412715911865, -0.03642570972442627, -2.7784316539764404, -3.978259801864624, -1.1429908275604248, -9.255839347839355, -4.74729061126709, -5.9760966300964355, -9.530726432800293, 6.803999423980713, -4.310523986816406, -0.9826156497001648, -5.261638641357422, -6.074203014373779, -2.911627769470215, -9.32796573638916, 4.501345634460449, -4.5173869132995605, -2.445626974105835, -0.6717821359634399, 9.885390281677246, -5.774102210998535, 8.703282356262207, 3.1032354831695557, -5.29564905166626, -3.2269766330718994, 5.164632320404053, -8.085733413696289, 1.4200245141983032, 0.2907210886478424, 10.190534591674805, -5.273382663726807, 2.836578130722046, 3.7830028533935547, 11.011419296264648, -5.1011857986450195, 0.49379244446754456, 12.210134506225586, 0.7879496216773987, -5.200437545776367, -6.538546085357666, -6.484157562255859, -6.178155899047852, -6.9136061668396, -1.1498148441314697, -1.046367883682251, 9.049100875854492, 0.17029696702957153, -5.979696273803711, -6.085229873657227, -1.107085943222046, -7.195582866668701, 7.529146194458008, 4.351879596710205, -0.8225403428077698, 0.18011023104190826, -7.161412715911865, -0.938879132270813, 5.066595077514648, 5.747855186462402, 11.986221313476562, 1.9869321584701538, -7.717916965484619, 9.577040672302246, 1.7685184478759766, -2.8047292232513428, 5.32735013961792, -2.9233345985412598, -6.059098243713379, -1.1360862255096436, 8.679895401000977, -2.229365110397339, -8.962121963500977, -2.827455520629883, -0.6898849606513977, 5.978725433349609, -5.366305351257324, 6.129668235778809, -0.16477425396442413, -7.576382160186768, -1.2955089807510376, -6.315577507019043, 6.382144927978516, 5.673651218414307, -2.1443960666656494, -2.022289276123047, 6.132002830505371, -6.442611217498779, -3.593559741973877, -2.0776569843292236, 7.298410415649414, -7.2163920402526855, 11.67233943939209, -7.590381622314453, -6.1845316886901855, -3.9035048484802246, 3.706920623779297, -6.454802989959717, 9.09099006652832, 3.72251558303833, -5.608537197113037, -3.5759077072143555, 6.281142234802246, 0.7211569547653198, -7.2924065589904785, 3.3405866622924805, 6.369039058685303, 8.923262596130371, 11.562907218933105, -2.710029125213623, -0.712572455406189, -3.14760422706604, 4.404052257537842, -7.824763774871826, 2.0804250240325928, -8.995806694030762, 1.2189921140670776, -7.856733322143555, -1.032711148262024, -2.4424233436584473, 3.2750344276428223, 6.417736530303955, -5.228806018829346, 1.331642985343933, -2.8403897285461426, -5.480113983154297, 12.68628978729248, -6.290520668029785, -3.2462360858917236, 3.043299913406372, -6.106448650360107, 3.9254376888275146, 4.127161502838135, 1.5173413753509521, -5.5267014503479, -2.0146493911743164, 4.494568824768066, 1.1957695484161377, -2.9433224201202393, 4.032829761505127, 2.0994226932525635, -6.374579906463623, 10.76030158996582, 1.0865373611450195, -5.6027631759643555, -6.0832600593566895, -5.9640021324157715, 0.5374042391777039, 5.947775363922119, 10.482025146484375, -7.154343605041504, 4.256826877593994, 0.3048447370529175, 0.749402642250061, -9.493096351623535, -0.06734027713537216, 1.490463376045227, -5.8223090171813965, -3.2394602298736572, 12.153128623962402, 6.155032634735107, -5.6429667472839355, -7.332414150238037, 3.258178234100342, -2.424382448196411, -0.24036945402622223, 1.0654923915863037, 5.394199371337891, -4.576417446136475, 12.714434623718262, 5.590165615081787, 7.317965984344482, 7.115972995758057, -5.760948181152344, 7.532618999481201, 4.129356861114502, 4.566601753234863, 2.5323424339294434, 3.0864036083221436, -8.584395408630371, -4.3414716720581055, 8.290428161621094, 2.8730294704437256, -1.4226858615875244, -2.008092164993286, -5.753866195678711, 3.468672037124634, 6.539516448974609, 12.297213554382324, -2.991170644760132, 0.9011304378509521, -1.9392348527908325, -5.083150863647461, 10.128521919250488, 9.368227005004883, -1.258698582649231, -3.1329145431518555, 5.165798664093018, 4.176253318786621, 2.602576732635498, 11.398977279663086, -6.240443229675293, -7.9217753410339355, 8.108037948608398, -7.288426399230957, 10.037456512451172, -2.6411867141723633, -6.6701788902282715, 4.919276237487793, -4.882848262786865, -6.597443580627441, -3.0706381797790527, 11.428181648254395, -1.2801564931869507, 0.7023977041244507, -0.19936254620552063, 2.681471586227417, 7.18613862991333, -8.371007919311523, 4.1935930252075195, -6.3279829025268555, 8.676511764526367, 3.9632394313812256, -1.2210482358932495, -8.674078941345215, -3.0496912002563477, 8.110201835632324, 1.065223217010498, -0.19928951561450958, -0.32802024483680725, -7.670623779296875, -4.732645511627197, -3.2585244178771973, -6.94706916809082, -4.5099382400512695, -0.22996394336223602, -2.3832597732543945, -7.858193397521973, -1.4054011106491089, 2.4299707412719727, 8.859006881713867, -8.583494186401367, -4.069068908691406, -6.336081027984619, 0.638973593711853, -6.041567802429199, 10.836835861206055, 3.1743714809417725, 7.066918849945068, 12.661408424377441, 3.897247791290283, -2.1275081634521484, -9.551450729370117, 10.26008129119873, -0.8111010193824768, -7.284453868865967, -6.58936882019043, -5.818848133087158, -5.803640842437744, -6.685855388641357, 2.724125623703003, -2.336859703063965, 2.2299132347106934, -6.11280632019043, 5.682246685028076, 3.481904983520508, 3.897122859954834, 4.346844673156738, -8.900318145751953, -1.6091333627700806, -8.557276725769043, -5.156031131744385, 2.311497688293457, -7.540663242340088, -7.552287578582764, -9.444887161254883, 3.1390442848205566, -7.541658878326416, 6.157270431518555, -3.832564353942871, -9.07900333404541, 4.654757022857666, -3.795440435409546, -8.8799467086792, -1.6636979579925537, 4.0789666175842285, 4.3140058517456055, -5.279937267303467, 2.586177110671997, -3.9323291778564453, 0.45919570326805115, 3.897245168685913, 11.494922637939453, 3.983319044113159, 6.7959303855896, 6.509586811065674, -2.0802698135375977, 11.035002708435059, -6.018615245819092, 3.457029342651367, -6.007030487060547, -3.874744415283203, -0.9904497861862183, 10.434075355529785, 5.120960235595703, 6.475769519805908, 10.843746185302734, -0.8913903832435608, -4.588592529296875, -9.304030418395996, -8.227062225341797, -1.958385944366455, 3.2390213012695312, 0.37714433670043945, -6.280875205993652, -2.1965115070343018, 11.30466079711914, 3.250169277191162, 4.231817722320557, 5.147514343261719, -4.984774589538574, 6.344682216644287, -1.9633146524429321, -6.630979537963867, -7.488393783569336, -3.2933106422424316, -3.529232978820801, -4.03394889831543, 11.932220458984375, -7.154211044311523, 2.6035337448120117, 6.234570026397705, 8.855828285217285, 5.782288074493408, -4.84252405166626, -8.363875389099121, -6.40185546875, 2.8109309673309326, -1.4822628498077393, -9.110467910766602, 1.2517465353012085, -7.565939426422119, -5.931591987609863, -9.120595932006836, -3.512885332107544, 0.7105978727340698, -2.5847549438476562, 1.1642664670944214, 6.449277877807617, -3.0816869735717773, -5.678859233856201, -1.409766674041748, 0.9523391723632812, -8.991007804870605, 10.035191535949707, -0.21962301433086395, -4.6713786125183105, -2.081341505050659, 0.429983913898468, -4.927011489868164, 9.392426490783691, 3.89711594581604, 2.1652936935424805, 0.8405991792678833, -1.903748631477356, -7.440054416656494, -1.2671228647232056, -0.2166636884212494, 8.280019760131836, 4.885940074920654, 11.714716911315918, -4.042740821838379, -2.360196590423584, -9.563146591186523, -8.044266700744629, -0.4189341366291046, -1.0110268592834473, -2.740628957748413, -0.9551999568939209, 5.816673755645752, -2.6196563243865967, 5.773946762084961, -2.653555393218994, -6.074202060699463, 2.6888084411621094, -4.615870952606201, 6.61984920501709, -9.226725578308105, -9.35093879699707, -3.107255458831787, 3.1297409534454346, 0.20371367037296295, 2.3928375244140625, -7.902331352233887, 5.332122802734375, -6.808046340942383, 0.9788390398025513, 2.6762917041778564, -3.9723641872406006, 3.2120158672332764, 3.2893903255462646, -3.4861299991607666, -9.444890022277832, -6.463975429534912, 0.25462618470191956, 3.6978299617767334, 1.837813138961792, 1.861000895500183, 10.226259231567383, 2.1459226608276367, 3.1541566848754883, -4.810160160064697, 10.670936584472656, -3.1031064987182617, 2.540607213973999, -7.518157958984375, 4.437519550323486, 6.5082573890686035, -2.462782382965088, 0.18466347455978394, 5.435359954833984, -9.47346305847168, -9.646842956542969, -7.883522987365723, -2.8996307849884033, 5.909215450286865, 5.5901665687561035, -3.8844285011291504, 4.976953029632568, -2.947495460510254, 3.825256586074829, 4.844594478607178, -7.884594440460205, 2.787567377090454, 9.006417274475098, 7.526848316192627, -0.618804931640625, -0.6941490173339844, -4.490079402923584, -3.9853415489196777, -3.9599177837371826, 12.644580841064453, -6.004691123962402, 1.7882356643676758, -2.721695899963379, 9.366135597229004, 6.274823188781738, 4.013843536376953, 8.437651634216309, -4.02808952331543, 6.134149074554443, 3.6709697246551514, -0.527565598487854, -0.02123182639479637, 3.1055822372436523, 1.4980931282043457, -8.024633407592773, 2.0889811515808105, 2.329111099243164, 2.958531618118286, 1.5423853397369385, -5.209131717681885, -7.304156303405762, -0.9079679846763611, 3.0094847679138184, 3.2058184146881104, -5.360908031463623, 0.08342777192592621, -1.0650537014007568, 9.842448234558105, 10.18402099609375, 7.511154651641846, -4.10862398147583, -5.936039447784424, 1.010699987411499, -2.1569416522979736, -6.3967390060424805, 3.208591938018799, -3.075570821762085, -0.7549275755882263, -1.837786078453064, -3.8228461742401123, -7.7595109939575195, 5.569056987762451, -0.539461076259613, 7.873222351074219, 0.6730368137359619, 3.2295854091644287, -3.0577781200408936, -6.687005996704102, -5.802321434020996, 4.3048095703125, -6.3159871101379395, -4.280544757843018, 7.204197406768799, 5.355846405029297, 9.963046073913574, 4.172922134399414, -7.590353965759277, -1.393166184425354, -1.899288296699524, -7.073917865753174, 8.039552688598633, -9.411456108093262, 5.824280738830566, -7.917543411254883, 4.020781993865967, 1.1522793769836426, 0.5187716484069824, 3.3503336906433105, 1.8325402736663818, -3.7170286178588867, 0.918187141418457, 10.011842727661133, -5.040960788726807, 0.7246124744415283, -6.454627990722656, 5.287599563598633, -7.29994535446167, -9.444887161254883, 4.389986991882324, 3.1257200241088867, -8.561676979064941, -4.7526068687438965, -2.2163519859313965, 6.531893730163574, 2.530543565750122, 0.6233924627304077, -1.5759174823760986, 0.6369117498397827, 12.101454734802246, 7.918316841125488, 10.501667022705078, -2.6740124225616455, -3.483952283859253, -1.1903225183486938, 3.2706897258758545, -9.089217185974121, -8.1087064743042, 2.3080787658691406, -2.857215642929077, 6.874176502227783, 11.933451652526855, -5.701506614685059, -3.3860886096954346, -6.581331253051758, 9.92712688446045, -5.6457366943359375, 9.71998119354248, -1.9583860635757446, -7.482455730438232, 11.29664134979248, -2.0223705768585205, 3.018486261367798, -2.790687084197998, -0.34746578335762024, -4.133688926696777, 3.129394054412842, -7.281634330749512, -5.750211715698242, -4.053559303283691, -9.336783409118652, 5.1215362548828125, 6.6183552742004395, -2.0080275535583496, 6.361659526824951, 1.58818781375885, 2.109869956970215, -1.7630412578582764, -3.1974096298217773, 1.161230444908142, -2.295428991317749, -5.665602207183838, -8.38147258758545, 1.4001299142837524, -1.5757780075073242, 2.2348203659057617, 7.887700080871582, 10.5869140625, 4.970226287841797, 2.0988576412200928, 5.956100940704346, 9.206687927246094, 3.3816189765930176, -1.8364372253417969], \"z\": [-7.593077182769775, -10.875203132629395, -2.1310622692108154, -11.068061828613281, 9.210033416748047, -6.384228229522705, 3.971304178237915, -8.973455429077148, 0.5606200695037842, 6.282854080200195, -13.3173828125, -4.169502258300781, 4.394073486328125, -4.7533955574035645, 7.3732757568359375, 8.660992622375488, -12.826692581176758, 3.558739185333252, -3.368959903717041, 10.185345649719238, -4.5137786865234375, -8.984278678894043, 4.3910298347473145, -12.76226806640625, -4.502462863922119, -11.927690505981445, -11.107927322387695, 6.10024356842041, 7.168493270874023, 9.726579666137695, 10.70145320892334, -7.912354946136475, 5.6966552734375, -8.411507606506348, -4.074429988861084, -14.602421760559082, 0.04929787293076515, 7.045424938201904, 10.094075202941895, -0.9749085307121277, 5.762707710266113, 4.793575763702393, 5.614078998565674, 11.242526054382324, -0.10922212153673172, 9.971830368041992, -2.9550905227661133, -9.208840370178223, 3.4385299682617188, 6.945514678955078, 6.705475807189941, 2.7322072982788086, 3.154280424118042, -11.719237327575684, -3.1914329528808594, -5.929270267486572, 9.496073722839355, -8.80162525177002, 3.1244113445281982, 8.923229217529297, 4.591490268707275, 0.5136470198631287, -5.340610504150391, -12.82241439819336, -8.170367240905762, 6.945036888122559, -5.420243263244629, -7.449587345123291, 10.797956466674805, 5.024960041046143, -1.9845902919769287, 9.668012619018555, -4.9451823234558105, 1.986255168914795, -5.3902692794799805, 3.0729169845581055, -11.343422889709473, 6.368990898132324, 7.109835624694824, 2.1218647956848145, -0.8899527788162231, -11.099455833435059, -3.3610129356384277, 3.820706605911255, -8.44742202758789, -8.795369148254395, -4.130537986755371, 1.9078972339630127, -3.6123101711273193, -2.0272738933563232, -3.9346351623535156, -11.727267265319824, 9.467771530151367, 2.9819729328155518, -8.756670951843262, 6.751031398773193, -8.996893882751465, -8.540765762329102, -4.022462368011475, -5.2442216873168945, -11.19112777709961, -7.403269290924072, -12.47213363647461, 10.005182266235352, -9.847115516662598, -1.0374805927276611, -3.492828130722046, -4.7898054122924805, -12.316988945007324, -8.354448318481445, -12.268095970153809, 6.148482799530029, 4.7498393058776855, -9.654147148132324, 6.144320964813232, -11.21907901763916, 6.492926597595215, 1.82086980342865, 8.871390342712402, -7.3913445472717285, 2.15175199508667, -13.907570838928223, -13.646615028381348, -2.9479451179504395, -13.47602367401123, 0.2543380558490753, 9.0829439163208, -13.144658088684082, -7.398317813873291, -12.433086395263672, 3.924553871154785, -8.586709976196289, 4.7228193283081055, -4.1456427574157715, -11.139830589294434, 10.113951683044434, -4.6946210861206055, 1.4808670282363892, -9.775801658630371, -9.893902778625488, 4.345313549041748, 5.019242763519287, 4.855341911315918, 2.5222256183624268, -8.345467567443848, 6.094911575317383, -11.406137466430664, -3.378645420074463, 9.305499076843262, 10.186261177062988, -8.935051918029785, -8.382493019104004, 2.6563589572906494, -4.2086567878723145, 7.771347999572754, 2.3698055744171143, -4.9526753425598145, 9.15529727935791, -2.6836163997650146, 6.54291296005249, 5.587664604187012, -8.17414665222168, 3.2309093475341797, -12.322437286376953, 8.722991943359375, 9.51339340209961, -8.304525375366211, 8.306848526000977, 9.897497177124023, -6.561396598815918, 4.073190212249756, -4.152620792388916, -0.19878175854682922, -1.8852205276489258, 1.5720582008361816, -8.038569450378418, -9.437393188476562, -8.479806900024414, -10.051933288574219, 0.7724734544754028, 9.393588066101074, 3.8887696266174316, -10.401447296142578, 4.6239519119262695, -7.847302436828613, 10.464488983154297, 9.568746566772461, 4.998877048492432, 4.623015403747559, -11.908792495727539, -1.2187329530715942, -9.167121887207031, -6.112503528594971, 10.26911735534668, -6.810800075531006, -5.2693257331848145, 10.785834312438965, 4.9017486572265625, -12.632248878479004, -2.0104758739471436, -2.562901496887207, 2.8574512004852295, -8.420692443847656, 9.330649375915527, 5.59912633895874, 9.703405380249023, -12.210562705993652, -0.11085354536771774, 8.480911254882812, 7.84164571762085, -5.286384582519531, 6.555238723754883, 9.298592567443848, 9.640914916992188, 9.56521224975586, 0.3557918965816498, 10.217582702636719, 8.419063568115234, 2.4907798767089844, 1.4560163021087646, -12.518524169921875, -8.962350845336914, 0.0874260738492012, 8.824627876281738, 0.7493072152137756, 9.091573715209961, -12.293074607849121, 2.8750786781311035, -5.7939019203186035, -2.943533182144165, -3.4198763370513916, 0.8028513789176941, -14.453930854797363, -6.610321521759033, 8.365706443786621, -12.96904468536377, -9.1486177444458, -0.8405492901802063, -8.484908103942871, -2.837935447692871, 1.6382806301116943, 1.9634944200515747, -12.972270965576172, -8.836369514465332, -3.7374463081359863, -3.2663183212280273, 10.601966857910156, 0.02857792191207409, 1.224177598953247, -5.556809902191162, -3.4409573078155518, -6.512417793273926, -8.952747344970703, 9.38982105255127, 4.260861396789551, 10.999177932739258, -10.298298835754395, 0.16961076855659485, -12.806829452514648, 9.74856185913086, -9.00301742553711, -8.792336463928223, -1.2743905782699585, 9.203130722045898, -6.432092666625977, 0.2691914737224579, 5.934916973114014, 2.43697452545166, 9.122358322143555, 9.5982027053833, 9.490962028503418, 4.093874454498291, -11.987336158752441, -2.586979389190674, -10.168801307678223, -1.3527404069900513, 9.141485214233398, 8.374326705932617, 3.625715970993042, -12.338801383972168, -1.7513995170593262, 2.0020062923431396, 3.6935553550720215, -12.356308937072754, 3.436361789703369, 9.58083438873291, -8.131660461425781, 5.132202625274658, -10.892057418823242, -9.423155784606934, -6.161242485046387, 2.3123891353607178, 1.0004141330718994, -0.5138227343559265, 7.958644390106201, -9.144532203674316, 4.803338527679443, -9.313619613647461, 12.403477668762207, 1.2471716403961182, 7.95480489730835, 9.258037567138672, 4.206762790679932, -3.1937098503112793, -0.8542096018791199, 10.095431327819824, -4.891529560089111, -10.6322021484375, 3.336489200592041, -5.465315818786621, -8.632463455200195, -11.84260368347168, -6.352267742156982, -4.922902584075928, 10.717923164367676, -2.7969441413879395, -6.592407703399658, 4.595423698425293, -1.3459151983261108, -4.843311786651611, 10.326699256896973, 2.642704486846924, -2.463102102279663, -0.08803088963031769, -7.401032447814941, 10.571968078613281, -5.575280666351318, -10.132291793823242, -0.002940513426437974, -4.268717288970947, -9.476454734802246, -10.123395919799805, -4.302853107452393, -2.4767236709594727, 8.710000991821289, 3.879427433013916, 10.51989459991455, 2.0162785053253174, 7.240635871887207, -10.833995819091797, -11.702676773071289, 7.586394786834717, 9.862804412841797, 6.950412750244141, 2.329508066177368, 7.364223957061768, 2.105502128601074, -5.8026652336120605, 11.075136184692383, -7.1042704582214355, 2.332953453063965, 8.76118278503418, 12.131271362304688, 5.968791484832764, 7.172144412994385, 2.6625478267669678, -10.730172157287598, 3.5545735359191895, 9.585238456726074, -8.242162704467773, -12.864237785339355, 9.155298233032227, 7.046998500823975, 8.41591739654541, 8.839924812316895, -9.728507041931152, -8.244842529296875, -12.217826843261719, -2.287130117416382, -12.754069328308105, -3.9807732105255127, 1.0542712211608887, -10.299522399902344, -8.87924861907959, 10.996894836425781, -14.584270477294922, -2.3501150608062744, 10.239507675170898, -9.389866828918457, 4.104131698608398, -2.598849296569824, 5.354414939880371, 5.665825843811035, -6.143099308013916, 4.857428550720215, 8.904346466064453, -0.45300084352493286, 0.597990095615387, -0.7068647146224976, 0.8618193864822388, 9.810602188110352, -7.599945068359375, 2.9232676029205322, 3.263942241668701, 10.296294212341309, 5.503952980041504, 4.061246871948242, -8.044880867004395, 8.670391082763672, 10.09366512298584, 9.172967910766602, -2.6326420307159424, 4.833829879760742, -4.946889877319336, 7.149137496948242, -10.098061561584473, -9.521427154541016, 3.8374030590057373, 10.123491287231445, 5.673328876495361, -0.35887712240219116, 0.24267950654029846, -1.2585798501968384, -2.4270811080932617, 8.622777938842773, -14.897344589233398, -7.10780143737793, 6.489590644836426, -12.854833602905273, 3.465237855911255, 9.629563331604004, 9.247775077819824, 9.378920555114746, 9.484045028686523, -4.558606147766113, -13.829176902770996, -11.369569778442383, -3.8633084297180176, -9.302746772766113, 3.2789371013641357, 9.837576866149902, 9.212566375732422, 3.139106273651123, 10.197961807250977, 6.958030700683594, 9.440841674804688, 8.74874210357666, 0.5753768086433411, 10.379912376403809, -11.216867446899414, -0.1492047756910324, -12.327828407287598, -12.407599449157715, 7.604405403137207, 0.6896805167198181, -12.14937686920166, -6.41635274887085, 1.151081919670105, -11.782224655151367, -8.15960693359375, 5.586048126220703, 2.9295151233673096, -8.998136520385742, -10.826536178588867, 4.636283874511719, -12.536735534667969, 3.6565659046173096, 6.226053237915039, 1.5046366453170776, -10.131770133972168, 3.022329092025757, -12.910467147827148, 4.339539527893066, -6.237321853637695, -6.695913314819336, 9.782179832458496, -0.20656763017177582, 5.021241664886475, 9.260674476623535, 8.465448379516602, 9.021711349487305, -2.5202999114990234, -8.498315811157227, -9.781925201416016, 6.2410783767700195, -5.759177207946777, -9.823424339294434, 0.3706880807876587, -11.072375297546387, 7.5109758377075195, -2.5337417125701904, -5.935734748840332, -9.191061019897461, -5.022314548492432, 0.9580929279327393, -12.925154685974121, 0.4321020841598511, 8.509001731872559, -5.82344388961792, -9.62446403503418, -4.053598403930664, 9.91694450378418, -7.323212146759033, 3.0078251361846924, 2.930467367172241, 5.742660045623779, 6.169986724853516, 8.541581153869629, -10.857318878173828, 8.693031311035156, 6.8424787521362305, 0.11586953699588776, -10.969630241394043, -2.858976364135742, -14.319327354431152, -11.102587699890137, -11.97555160522461, -4.52518892288208, -14.978334426879883, 9.410295486450195, 2.7552239894866943, -0.4187532365322113, -6.6820807456970215, 3.957615613937378, -12.069415092468262, -3.3436546325683594, 7.138733386993408, 3.2814323902130127, -1.1136176586151123, -6.162196636199951, -5.165063381195068, 10.25289535522461, 10.302596092224121, 2.7172675132751465, -7.3131914138793945, 7.097070693969727, -4.524294853210449, 7.00698709487915, 9.854947090148926, 10.047876358032227, -3.6877031326293945, -12.436576843261719, 4.0677809715271, -4.381106853485107, 10.288507461547852, 1.5616507530212402, 0.18961386382579803, 8.860062599182129, 1.9078911542892456, -1.380933403968811, 9.272584915161133, 7.118821144104004, 10.895706176757812, 0.7608898282051086, 5.101816177368164, 9.48421859741211, -12.907126426696777, -11.749364852905273, 1.2364616394042969, 3.7663471698760986, 12.295100212097168, -10.294577598571777, -2.8638193607330322, -3.316298246383667, -0.14331845939159393, 3.1727824211120605, -1.654640793800354, 5.52627420425415, 1.9913190603256226, 7.383336067199707, -11.968286514282227, -10.92010498046875, 0.20268695056438446, 1.749796748161316, -6.426478385925293, -8.583927154541016, 0.2589288353919983, 10.69732666015625, -11.473523139953613, -5.4477009773254395, -6.215456962585449, 9.65756893157959, -5.45796012878418, -10.849252700805664, -15.340792655944824, -6.20699405670166, 0.43037453293800354, 4.351509094238281, -10.20569133758545, 8.0870361328125, -8.746475219726562, -11.482939720153809, 2.858142852783203, -8.096343040466309, -4.587756633758545, 2.4701740741729736, -7.375238418579102, 9.443517684936523, 9.324943542480469, -2.4885447025299072, -0.13184137642383575, 11.09097671508789, -7.709281921386719, 2.1090824604034424, 10.263779640197754, -4.7616047859191895, 4.021377086639404, -6.609492778778076, 8.721949577331543, -11.570759773254395, -11.235207557678223, 2.7046992778778076, -2.3852243423461914, 2.4624240398406982, 10.879830360412598, -4.945289611816406, 10.079998016357422, -12.371679306030273, -8.503522872924805, -12.415431022644043, -8.593859672546387, 9.637036323547363, -3.817566156387329, -8.43398380279541, -0.4143489599227905, 9.875553131103516, 3.2164783477783203, 5.755765438079834, -2.041111469268799, 10.943273544311523, 8.85797119140625, -4.18587064743042, 5.009077072143555, -15.480865478515625, -5.448099613189697, 0.5117233395576477, -13.455578804016113, -10.50395679473877, 10.917325973510742, 0.1299045830965042, 3.21366024017334, -7.09303092956543, 8.64858627319336, -12.388561248779297, -14.632209777832031, 5.557538986206055, -10.596835136413574, -9.928003311157227, 4.679612636566162, -11.262743949890137, -4.068702220916748, -0.27369943261146545, -12.794111251831055, -1.1390951871871948, -12.384271621704102, 1.7145854234695435, -3.590672492980957, 9.869266510009766, -2.2991085052490234, -2.9406635761260986, -7.427670478820801, -11.085996627807617, 4.749157428741455, 5.554105758666992, 9.516484260559082, 10.819485664367676, 9.979496955871582, 3.9450418949127197, -10.395750045776367, -4.825021266937256, -12.86755657196045, 9.5608491897583, 3.1669487953186035, 4.455688953399658, 0.2944405674934387, -12.12179183959961, 0.38990387320518494, 9.51646900177002, -0.5559705495834351, -0.5252789258956909, -12.157108306884766, 10.766926765441895, -2.0441250801086426, -6.869787693023682, 5.485141754150391, 5.406794548034668, -1.4194713830947876, -9.186121940612793, 7.383029937744141, 8.583752632141113, -2.8241491317749023, -7.72920036315918, -5.368470668792725, 5.765370845794678, -11.251461029052734, -9.00301742553711, 5.751948833465576, -12.067151069641113, -8.804389953613281, 9.74087905883789, -11.93704891204834, 2.3596112728118896, 9.38829517364502, 3.475327253341675, 3.8314857482910156, 2.8998630046844482, -9.935806274414062, -7.586093425750732, 1.4047510623931885, 10.553350448608398, 2.7517337799072266, 1.699901819229126, -6.862757682800293, 9.926300048828125, 1.970367431640625, 9.740242004394531, -8.996760368347168, -4.243410587310791, 0.7164446711540222, -3.3832290172576904, -11.508604049682617, 6.729110240936279, 7.145066738128662, -3.0637474060058594, 1.5728627443313599, -2.2904205322265625, -2.978288173675537, -11.39306640625, 9.543399810791016, 4.094235897064209, -10.603792190551758, 10.258292198181152, -1.8453307151794434, 1.3483082056045532, 9.400169372558594, 1.8664127588272095, -10.658445358276367, 7.576483249664307, 10.347734451293945, -7.460086822509766, 9.740602493286133, -10.358744621276855, 0.4456051290035248, -11.75671100616455, 10.19871997833252, -15.29322624206543, -12.0939302444458, -1.4014530181884766, 2.3325469493865967, -3.3610124588012695, 5.034738540649414, 9.750373840332031, -8.9048433303833, -10.534286499023438, 9.512104034423828, 8.764752388000488, 7.670835018157959, 10.004548072814941, 3.151540756225586, -1.325112223625183, 0.9033375382423401, -6.442127227783203, -5.758681297302246, -1.6679309606552124, 2.6294374465942383, -11.944581031799316, -8.666672706604004, 6.805675983428955, 8.775741577148438, -3.986495018005371, 7.172727584838867, 1.588301181793213, 7.105207920074463, -3.9659578800201416, -0.5319156646728516, 10.712815284729004, -3.6864776611328125, 8.699040412902832, -2.4884591102600098, 7.766870021820068, -11.188434600830078, -12.865896224975586, -11.115857124328613, -12.189812660217285, 6.55437707901001, -9.076062202453613, -1.5421483516693115, 3.7428836822509766, 0.2638104259967804, 10.521222114562988, -1.092077374458313, -0.8167798519134521, -4.434638023376465, 10.759096145629883, -10.19705581665039, -14.640902519226074, -8.268433570861816, -11.62767219543457, 4.392978191375732, -10.377155303955078, 4.918551921844482, 9.980948448181152, -0.03885788097977638, -8.879673957824707, 10.208187103271484, 9.937494277954102, -15.24813175201416, -6.707260608673096, 2.864847421646118, 9.32783031463623, 9.74015998840332, 0.23430459201335907, 9.92914867401123, 3.419358968734741, -2.6779491901397705, 5.148910999298096, 0.6744037866592407, 9.53470516204834, 9.680705070495605, -12.311674118041992, -7.535791397094727, -4.866828441619873, 2.4429261684417725, -1.5225636959075928, -9.919421195983887, -7.826550483703613, 1.616979718208313, 6.148227214813232, 8.4328031539917, -12.056326866149902, 9.896951675415039, 2.247746467590332, -8.998136520385742, 3.348778009414673, 10.482316017150879, -11.65190315246582, 3.2817254066467285, 1.0511696338653564, 0.662522554397583, -11.217098236083984, -7.69653844833374, -2.8230581283569336, -3.4893763065338135, -7.267568111419678, 4.737171649932861, 10.715495109558105, -9.270975112915039, -4.8254547119140625, -11.568255424499512, 9.791112899780273, -10.909627914428711, 1.572852373123169, -4.501099109649658, 8.60411262512207, 9.58301067352295, 6.390276908874512, 4.971529960632324, -11.350282669067383, 10.416020393371582, 8.316987037658691, -9.238750457763672, -10.710992813110352, 3.802591562271118, -4.77087926864624, 7.358030319213867, 9.876564979553223, 9.51125717163086, 2.0143721103668213, -2.0202066898345947, -13.419407844543457, 3.3418233394622803, 3.21096134185791, -1.7749841213226318, -11.614082336425781, -11.060157775878906, -12.415426254272461, -6.640310287475586, 10.032512664794922, 6.822049140930176, -9.834744453430176, 9.96624755859375, 3.2618584632873535, -11.266033172607422, -9.675895690917969, -12.597347259521484, -9.584253311157227, 7.169061660766602, 10.096927642822266, -6.193401336669922, -6.524925708770752, -8.828761100769043, 2.695359706878662, 1.3268465995788574, 2.843816041946411, 7.7459611892700195, -11.245882034301758, -0.1318018138408661, -12.073521614074707, -13.045401573181152, -11.631669044494629, 9.384993553161621, -0.2992601990699768, 2.9546470642089844, 8.506580352783203, 0.7595405578613281, 5.473357200622559, 10.431450843811035, 5.676667213439941, -1.845703363418579, 10.225064277648926, -3.677086353302002, 3.818782329559326, 10.571136474609375, -3.596281051635742, -3.866032123565674, 2.9647951126098633, -8.514659881591797, 9.39489459991455, -10.922577857971191, -12.008978843688965, -12.583398818969727, -12.92186450958252, -5.528365612030029, 1.3918741941452026, -6.076574325561523, 0.525213360786438, 8.609047889709473, -14.070261001586914, 3.4893362522125244, 4.814030647277832, -6.515762805938721, 2.7722721099853516, -13.594903945922852, 4.112639904022217, 9.943942070007324, 4.868245601654053, 8.841854095458984, 3.871802806854248, 3.9838201999664307, -4.95267915725708, -7.1742844581604, 7.540807723999023, -1.609576940536499, 10.066131591796875, -7.318596839904785, 9.25274658203125, -10.621905326843262, 4.067784309387207, 3.009594202041626, 4.279131889343262, 1.2875548601150513, -12.815119743347168, 1.3209145069122314, -7.798931121826172, -2.226263999938965, 9.170601844787598, -4.465625286102295, 10.414521217346191, 0.4622672200202942, 5.110745429992676, 6.6743011474609375, 1.7584153413772583, 8.990008354187012, 2.788648843765259, 3.624901294708252, -6.258129119873047, 10.326265335083008, -3.651712656021118, 1.5728594064712524, 8.179889678955078, -11.639065742492676, -2.2551934719085693, 9.711355209350586, 2.494009017944336, -11.821327209472656, -1.2951760292053223, -0.2673895061016083, 4.008381366729736, 4.156163215637207, -9.870098114013672, -8.904396057128906, 8.798346519470215, 2.8470375537872314, -13.75267505645752, 4.6695733070373535, -3.40413236618042, 4.637670040130615, -1.0160402059555054, -9.194140434265137, -6.9803690910339355, -11.778947830200195, 8.680974960327148, -6.173201560974121, -13.776864051818848, -8.962556838989258, 8.585817337036133, 9.377376556396484, -9.327630996704102, 0.9033375382423401, 6.213048458099365, -11.506253242492676, -7.754507541656494, 5.088080406188965, 1.6877782344818115, 5.658176422119141, 2.890286684036255, 5.744869232177734, 5.638234615325928, -2.3859331607818604, 6.334166049957275, 1.019310712814331, -7.138383865356445, -13.564264297485352, 4.418347358703613, -11.481842041015625, 8.748717308044434, -0.8130015134811401, 4.598304748535156, -13.417283058166504, -9.286724090576172, -14.91661262512207, -10.411941528320312, -1.8215433359146118, -1.0981497764587402, 4.0083699226379395, -1.6931381225585938, 9.782625198364258, -11.861138343811035, -9.301529884338379, -9.185864448547363, -11.216866493225098, -12.532188415527344, -4.087393283843994, 2.083958148956299]}],                        {\"coloraxis\": {\"colorbar\": {\"title\": {\"text\": \"pc_3\"}}, \"colorscale\": [[0.0, \"#0d0887\"], [0.1111111111111111, \"#46039f\"], [0.2222222222222222, \"#7201a8\"], [0.3333333333333333, \"#9c179e\"], [0.4444444444444444, \"#bd3786\"], [0.5555555555555556, \"#d8576b\"], [0.6666666666666666, \"#ed7953\"], [0.7777777777777778, \"#fb9f3a\"], [0.8888888888888888, \"#fdca26\"], [1.0, \"#f0f921\"]], \"showscale\": false}, \"height\": 500, \"legend\": {\"tracegroupgap\": 0}, \"margin\": {\"t\": 60}, \"scene\": {\"domain\": {\"x\": [0.0, 1.0], \"y\": [0.0, 1.0]}, \"xaxis\": {\"title\": {\"text\": \"pc_1\"}}, \"yaxis\": {\"title\": {\"text\": \"pc_2\"}}, \"zaxis\": {\"title\": {\"text\": \"pc_3\"}}}, \"showlegend\": false, \"template\": {\"data\": {\"bar\": [{\"error_x\": {\"color\": \"#2a3f5f\"}, \"error_y\": {\"color\": \"#2a3f5f\"}, \"marker\": {\"line\": {\"color\": \"#E5ECF6\", \"width\": 0.5}}, \"type\": \"bar\"}], \"barpolar\": [{\"marker\": {\"line\": {\"color\": \"#E5ECF6\", \"width\": 0.5}}, \"type\": \"barpolar\"}], \"carpet\": [{\"aaxis\": {\"endlinecolor\": \"#2a3f5f\", \"gridcolor\": \"white\", \"linecolor\": \"white\", \"minorgridcolor\": \"white\", \"startlinecolor\": \"#2a3f5f\"}, \"baxis\": {\"endlinecolor\": \"#2a3f5f\", \"gridcolor\": \"white\", \"linecolor\": \"white\", \"minorgridcolor\": \"white\", \"startlinecolor\": \"#2a3f5f\"}, \"type\": \"carpet\"}], \"choropleth\": [{\"colorbar\": {\"outlinewidth\": 0, \"ticks\": \"\"}, \"type\": \"choropleth\"}], \"contour\": [{\"colorbar\": {\"outlinewidth\": 0, \"ticks\": \"\"}, \"colorscale\": [[0.0, \"#0d0887\"], [0.1111111111111111, \"#46039f\"], [0.2222222222222222, \"#7201a8\"], [0.3333333333333333, \"#9c179e\"], [0.4444444444444444, \"#bd3786\"], [0.5555555555555556, \"#d8576b\"], [0.6666666666666666, \"#ed7953\"], [0.7777777777777778, \"#fb9f3a\"], [0.8888888888888888, \"#fdca26\"], [1.0, \"#f0f921\"]], \"type\": \"contour\"}], \"contourcarpet\": [{\"colorbar\": {\"outlinewidth\": 0, \"ticks\": \"\"}, \"type\": \"contourcarpet\"}], \"heatmap\": [{\"colorbar\": {\"outlinewidth\": 0, \"ticks\": \"\"}, \"colorscale\": [[0.0, \"#0d0887\"], [0.1111111111111111, \"#46039f\"], [0.2222222222222222, \"#7201a8\"], [0.3333333333333333, \"#9c179e\"], [0.4444444444444444, \"#bd3786\"], [0.5555555555555556, \"#d8576b\"], [0.6666666666666666, \"#ed7953\"], [0.7777777777777778, \"#fb9f3a\"], [0.8888888888888888, \"#fdca26\"], [1.0, \"#f0f921\"]], \"type\": \"heatmap\"}], \"heatmapgl\": [{\"colorbar\": {\"outlinewidth\": 0, \"ticks\": \"\"}, \"colorscale\": [[0.0, \"#0d0887\"], [0.1111111111111111, \"#46039f\"], [0.2222222222222222, \"#7201a8\"], [0.3333333333333333, \"#9c179e\"], [0.4444444444444444, \"#bd3786\"], [0.5555555555555556, \"#d8576b\"], [0.6666666666666666, \"#ed7953\"], [0.7777777777777778, \"#fb9f3a\"], [0.8888888888888888, \"#fdca26\"], [1.0, \"#f0f921\"]], \"type\": \"heatmapgl\"}], \"histogram\": [{\"marker\": {\"colorbar\": {\"outlinewidth\": 0, \"ticks\": \"\"}}, \"type\": \"histogram\"}], \"histogram2d\": [{\"colorbar\": {\"outlinewidth\": 0, \"ticks\": \"\"}, \"colorscale\": [[0.0, \"#0d0887\"], [0.1111111111111111, \"#46039f\"], [0.2222222222222222, \"#7201a8\"], [0.3333333333333333, \"#9c179e\"], [0.4444444444444444, \"#bd3786\"], [0.5555555555555556, \"#d8576b\"], [0.6666666666666666, \"#ed7953\"], [0.7777777777777778, \"#fb9f3a\"], [0.8888888888888888, \"#fdca26\"], [1.0, \"#f0f921\"]], \"type\": \"histogram2d\"}], \"histogram2dcontour\": [{\"colorbar\": {\"outlinewidth\": 0, \"ticks\": \"\"}, \"colorscale\": [[0.0, \"#0d0887\"], [0.1111111111111111, \"#46039f\"], [0.2222222222222222, \"#7201a8\"], [0.3333333333333333, \"#9c179e\"], [0.4444444444444444, \"#bd3786\"], [0.5555555555555556, \"#d8576b\"], [0.6666666666666666, \"#ed7953\"], [0.7777777777777778, \"#fb9f3a\"], [0.8888888888888888, \"#fdca26\"], [1.0, \"#f0f921\"]], \"type\": \"histogram2dcontour\"}], \"mesh3d\": [{\"colorbar\": {\"outlinewidth\": 0, \"ticks\": \"\"}, \"type\": \"mesh3d\"}], \"parcoords\": [{\"line\": {\"colorbar\": {\"outlinewidth\": 0, \"ticks\": \"\"}}, \"type\": \"parcoords\"}], \"pie\": [{\"automargin\": true, \"type\": \"pie\"}], \"scatter\": [{\"marker\": {\"colorbar\": {\"outlinewidth\": 0, \"ticks\": \"\"}}, \"type\": \"scatter\"}], \"scatter3d\": [{\"line\": {\"colorbar\": {\"outlinewidth\": 0, \"ticks\": \"\"}}, \"marker\": {\"colorbar\": {\"outlinewidth\": 0, \"ticks\": \"\"}}, \"type\": \"scatter3d\"}], \"scattercarpet\": [{\"marker\": {\"colorbar\": {\"outlinewidth\": 0, \"ticks\": \"\"}}, \"type\": \"scattercarpet\"}], \"scattergeo\": [{\"marker\": {\"colorbar\": {\"outlinewidth\": 0, \"ticks\": \"\"}}, \"type\": \"scattergeo\"}], \"scattergl\": [{\"marker\": {\"colorbar\": {\"outlinewidth\": 0, \"ticks\": \"\"}}, \"type\": \"scattergl\"}], \"scattermapbox\": [{\"marker\": {\"colorbar\": {\"outlinewidth\": 0, \"ticks\": \"\"}}, \"type\": \"scattermapbox\"}], \"scatterpolar\": [{\"marker\": {\"colorbar\": {\"outlinewidth\": 0, \"ticks\": \"\"}}, \"type\": \"scatterpolar\"}], \"scatterpolargl\": [{\"marker\": {\"colorbar\": {\"outlinewidth\": 0, \"ticks\": \"\"}}, \"type\": \"scatterpolargl\"}], \"scatterternary\": [{\"marker\": {\"colorbar\": {\"outlinewidth\": 0, \"ticks\": \"\"}}, \"type\": \"scatterternary\"}], \"surface\": [{\"colorbar\": {\"outlinewidth\": 0, \"ticks\": \"\"}, \"colorscale\": [[0.0, \"#0d0887\"], [0.1111111111111111, \"#46039f\"], [0.2222222222222222, \"#7201a8\"], [0.3333333333333333, \"#9c179e\"], [0.4444444444444444, \"#bd3786\"], [0.5555555555555556, \"#d8576b\"], [0.6666666666666666, \"#ed7953\"], [0.7777777777777778, \"#fb9f3a\"], [0.8888888888888888, \"#fdca26\"], [1.0, \"#f0f921\"]], \"type\": \"surface\"}], \"table\": [{\"cells\": {\"fill\": {\"color\": \"#EBF0F8\"}, \"line\": {\"color\": \"white\"}}, \"header\": {\"fill\": {\"color\": \"#C8D4E3\"}, \"line\": {\"color\": \"white\"}}, \"type\": \"table\"}]}, \"layout\": {\"annotationdefaults\": {\"arrowcolor\": \"#2a3f5f\", \"arrowhead\": 0, \"arrowwidth\": 1}, \"autotypenumbers\": \"strict\", \"coloraxis\": {\"colorbar\": {\"outlinewidth\": 0, \"ticks\": \"\"}}, \"colorscale\": {\"diverging\": [[0, \"#8e0152\"], [0.1, \"#c51b7d\"], [0.2, \"#de77ae\"], [0.3, \"#f1b6da\"], [0.4, \"#fde0ef\"], [0.5, \"#f7f7f7\"], [0.6, \"#e6f5d0\"], [0.7, \"#b8e186\"], [0.8, \"#7fbc41\"], [0.9, \"#4d9221\"], [1, \"#276419\"]], \"sequential\": [[0.0, \"#0d0887\"], [0.1111111111111111, \"#46039f\"], [0.2222222222222222, \"#7201a8\"], [0.3333333333333333, \"#9c179e\"], [0.4444444444444444, \"#bd3786\"], [0.5555555555555556, \"#d8576b\"], [0.6666666666666666, \"#ed7953\"], [0.7777777777777778, \"#fb9f3a\"], [0.8888888888888888, \"#fdca26\"], [1.0, \"#f0f921\"]], \"sequentialminus\": [[0.0, \"#0d0887\"], [0.1111111111111111, \"#46039f\"], [0.2222222222222222, \"#7201a8\"], [0.3333333333333333, \"#9c179e\"], [0.4444444444444444, \"#bd3786\"], [0.5555555555555556, \"#d8576b\"], [0.6666666666666666, \"#ed7953\"], [0.7777777777777778, \"#fb9f3a\"], [0.8888888888888888, \"#fdca26\"], [1.0, \"#f0f921\"]]}, \"colorway\": [\"#636efa\", \"#EF553B\", \"#00cc96\", \"#ab63fa\", \"#FFA15A\", \"#19d3f3\", \"#FF6692\", \"#B6E880\", \"#FF97FF\", \"#FECB52\"], \"font\": {\"color\": \"#2a3f5f\"}, \"geo\": {\"bgcolor\": \"white\", \"lakecolor\": \"white\", \"landcolor\": \"#E5ECF6\", \"showlakes\": true, \"showland\": true, \"subunitcolor\": \"white\"}, \"hoverlabel\": {\"align\": \"left\"}, \"hovermode\": \"closest\", \"mapbox\": {\"style\": \"light\"}, \"paper_bgcolor\": \"white\", \"plot_bgcolor\": \"#E5ECF6\", \"polar\": {\"angularaxis\": {\"gridcolor\": \"white\", \"linecolor\": \"white\", \"ticks\": \"\"}, \"bgcolor\": \"#E5ECF6\", \"radialaxis\": {\"gridcolor\": \"white\", \"linecolor\": \"white\", \"ticks\": \"\"}}, \"scene\": {\"xaxis\": {\"backgroundcolor\": \"#E5ECF6\", \"gridcolor\": \"white\", \"gridwidth\": 2, \"linecolor\": \"white\", \"showbackground\": true, \"ticks\": \"\", \"zerolinecolor\": \"white\"}, \"yaxis\": {\"backgroundcolor\": \"#E5ECF6\", \"gridcolor\": \"white\", \"gridwidth\": 2, \"linecolor\": \"white\", \"showbackground\": true, \"ticks\": \"\", \"zerolinecolor\": \"white\"}, \"zaxis\": {\"backgroundcolor\": \"#E5ECF6\", \"gridcolor\": \"white\", \"gridwidth\": 2, \"linecolor\": \"white\", \"showbackground\": true, \"ticks\": \"\", \"zerolinecolor\": \"white\"}}, \"shapedefaults\": {\"line\": {\"color\": \"#2a3f5f\"}}, \"ternary\": {\"aaxis\": {\"gridcolor\": \"white\", \"linecolor\": \"white\", \"ticks\": \"\"}, \"baxis\": {\"gridcolor\": \"white\", \"linecolor\": \"white\", \"ticks\": \"\"}, \"bgcolor\": \"#E5ECF6\", \"caxis\": {\"gridcolor\": \"white\", \"linecolor\": \"white\", \"ticks\": \"\"}}, \"title\": {\"x\": 0.05}, \"xaxis\": {\"automargin\": true, \"gridcolor\": \"white\", \"linecolor\": \"white\", \"ticks\": \"\", \"title\": {\"standoff\": 15}, \"zerolinecolor\": \"white\", \"zerolinewidth\": 2}, \"yaxis\": {\"automargin\": true, \"gridcolor\": \"white\", \"linecolor\": \"white\", \"ticks\": \"\", \"title\": {\"standoff\": 15}, \"zerolinecolor\": \"white\", \"zerolinewidth\": 2}}}, \"title\": {\"text\": \"Projected Question Vector Manifold\"}},                        {\"responsive\": true}                    ).then(function(){\n",
       "                            \n",
       "var gd = document.getElementById('dae87512-6567-411a-8f00-c7da3d570b9c');\n",
       "var x = new MutationObserver(function (mutations, observer) {{\n",
       "        var display = window.getComputedStyle(gd).display;\n",
       "        if (!display || display === 'none') {{\n",
       "            console.log([gd, 'removed!']);\n",
       "            Plotly.purge(gd);\n",
       "            observer.disconnect();\n",
       "        }}\n",
       "}});\n",
       "\n",
       "// Listen for the removal of the full notebook cells\n",
       "var notebookContainer = gd.closest('#notebook-container');\n",
       "if (notebookContainer) {{\n",
       "    x.observe(notebookContainer, {childList: true});\n",
       "}}\n",
       "\n",
       "// Listen for the clearing of the current output cell\n",
       "var outputEl = gd.closest('.output');\n",
       "if (outputEl) {{\n",
       "    x.observe(outputEl, {childList: true});\n",
       "}}\n",
       "\n",
       "                        })                };                });            </script>        </div>"
      ]
     },
     "metadata": {},
     "output_type": "display_data"
    }
   ],
   "source": [
    "tsne = TSNE(n_components=3, metric='cosine')\n",
    "question_proj = tsne.fit_transform(question_enc)\n",
    "\n",
    "df = pd.DataFrame({\n",
    "    'sentence': question_str,\n",
    "    'vector': [x for x in question_enc],\n",
    "    'label': labels,\n",
    "    'pc_1': question_proj[:, 0],\n",
    "    'pc_2': question_proj[:, 1],\n",
    "    'pc_3': question_proj[:, 2],\n",
    "})\n",
    "\n",
    "fig = px.scatter_3d(\n",
    "    df, x='pc_1', y='pc_2', z='pc_3', color='pc_3', \n",
    "    hover_data=['sentence'])\n",
    "fig.update_traces(marker_size=5)\n",
    "fig.layout.coloraxis.showscale = False\n",
    "fig.update_layout(\n",
    "    title='Projected Question Vector Manifold',\n",
    "    height=500,\n",
    "    showlegend=False\n",
    ")\n",
    "fig.show()"
   ]
  },
  {
   "cell_type": "markdown",
   "metadata": {},
   "source": [
    "### Cluster Summaries"
   ]
  },
  {
   "cell_type": "code",
   "execution_count": 7,
   "metadata": {},
   "outputs": [
    {
     "name": "stdout",
     "output_type": "stream",
     "text": [
      "Coarse Cluster Summaries:\n",
      "\n",
      "1. type sugar blood insulin one\n",
      "2. blood sugar insulin level gluco\n",
      "3. diet food eat type find\n",
      "4. type cau get symptom one\n",
      "5. person know could mani american\n"
     ]
    }
   ],
   "source": [
    "# get list standard stop words and add some custom ones to this list\n",
    "stop_words = stopwords.words('english')\n",
    "extras = ['diabetes', '?', '.', '!', '<unk>']\n",
    "stop_words += extras\n",
    "\n",
    "# initialize word stemmer\n",
    "stemmer = nltk.stem.PorterStemmer()\n",
    "\n",
    "# stem stop words\n",
    "stop_words = [stemmer.stem(word) for word in stop_words]\n",
    "\n",
    "# add a summary column\n",
    "df['summary'] = None\n",
    "\n",
    "# add column for average cluster vector\n",
    "df['avg_vector'] = None\n",
    "\n",
    "# infer cluster topics\n",
    "for label in sorted(df['label'].unique()):\n",
    "    # get all samples with this label\n",
    "    samples = df[df['label'] == label]['sentence']\n",
    "    \n",
    "    # get all vectors with this label\n",
    "    vectors = np.stack(df[df['label'] == label]['vector'].to_numpy())\n",
    "    \n",
    "    # compute average vec for this cluster label\n",
    "    avg_vector = np.mean(vectors, axis=0)\n",
    "    \n",
    "    # add average vector to dataframe\n",
    "    df.loc[df['label'] == label, 'avg_vector'] = df.loc[df['label'] == label, 'avg_vector'].map(\n",
    "        lambda x: avg_vector)\n",
    "    \n",
    "    # convert samples to a list\n",
    "    samples = samples.tolist()\n",
    "    \n",
    "    # tokenize samples by whitespace\n",
    "    tokens = [[word for word in sentence.split(' ')] for sentence in samples]\n",
    "    \n",
    "    # flatten samples list\n",
    "    tokens = [inner for outer in tokens for inner in outer]\n",
    "    \n",
    "    # stem tokens\n",
    "    tokens = [stemmer.stem(token) for token in tokens]\n",
    "    \n",
    "    # filter stopwords\n",
    "    tokens = [token for token in tokens if not token in stop_words]\n",
    "    \n",
    "    # get token frequencies\n",
    "    fdist = nltk.FreqDist(tokens)\n",
    "    \n",
    "    # get summary string from 5 most frequent tokens\n",
    "    summary = ' '.join([token for token, _ in fdist.most_common(5)])\n",
    "    \n",
    "    # add summary string to dataframe\n",
    "    df.loc[df['label'] == label, 'summary'] = summary\n",
    "    \n",
    "    \n",
    "print('Coarse Cluster Summaries:\\n')\n",
    "for i, summary in enumerate(df['summary'].unique()):\n",
    "    print(f'{i+1}. {summary}')"
   ]
  },
  {
   "cell_type": "code",
   "execution_count": 8,
   "metadata": {},
   "outputs": [
    {
     "data": {
      "application/vnd.plotly.v1+json": {
       "config": {
        "plotlyServerURL": "https://plot.ly"
       },
       "data": [
        {
         "customdata": [
          [
           "type sugar blood insulin one",
           "best type insulin syring treatment diabet"
          ],
          [
           "type sugar blood insulin one",
           "exercis diabet"
          ],
          [
           "type sugar blood insulin one",
           "diabet control nutrilit protein powder"
          ],
          [
           "type sugar blood insulin one",
           "diabet type one type two"
          ],
          [
           "type sugar blood insulin one",
           "need diabet"
          ],
          [
           "type sugar blood insulin one",
           "insulin shot produc bright yellow urin"
          ],
          [
           "type sugar blood insulin one",
           "much diabet cat"
          ],
          [
           "type sugar blood insulin one",
           "mani gram sugar ok one thousand eight hundr ada diet"
          ],
          [
           "type sugar blood insulin one",
           "diabet get retinopathi treatment"
          ],
          [
           "type sugar blood insulin one",
           "swim good type two diabet"
          ],
          [
           "type sugar blood insulin one",
           "celb diabet"
          ],
          [
           "type sugar blood insulin one",
           "activ goe diabet"
          ],
          [
           "type sugar blood insulin one",
           "reduc blood glucos level immedi"
          ],
          [
           "type sugar blood insulin one",
           "medic avail oral diabet"
          ],
          [
           "type sugar blood insulin one",
           "stop diabet affect"
          ],
          [
           "type sugar blood insulin one",
           "cell type one diabet damag"
          ],
          [
           "type sugar blood insulin one",
           "benefit use diabet test equip"
          ],
          [
           "type sugar blood insulin one",
           "blood glucos lost diabet mellitu"
          ],
          [
           "type sugar blood insulin one",
           "liquor best diabet"
          ],
          [
           "type sugar blood insulin one",
           "type one diabet becom insulin resist"
          ],
          [
           "type sugar blood insulin one",
           "chang diet take slim fast"
          ],
          [
           "type sugar blood insulin one",
           "symptom caus diabet treatment"
          ],
          [
           "type sugar blood insulin one",
           "type one diabet"
          ],
          [
           "type sugar blood insulin one",
           "orang make blood sugar level rais"
          ],
          [
           "type sugar blood insulin one",
           "diabet cat"
          ],
          [
           "type sugar blood insulin one",
           "two way diabet control"
          ],
          [
           "type sugar blood insulin one",
           "child diabet develop sign hypoglycemia given"
          ],
          [
           "type sugar blood insulin one",
           "type two diabet impact bodi extend period time"
          ],
          [
           "type sugar blood insulin one",
           "would name program diabet care india specif"
          ],
          [
           "type sugar blood insulin one",
           "side effect insulin resist"
          ],
          [
           "type sugar blood insulin one",
           "one treat juvenil diabet"
          ],
          [
           "type sugar blood insulin one",
           "insulin resist prevent"
          ],
          [
           "type sugar blood insulin one",
           "appl rais blood glucos"
          ],
          [
           "type sugar blood insulin one",
           "best way treat diabet without take drug"
          ],
          [
           "type sugar blood insulin one",
           "rule garden diabet"
          ],
          [
           "type sugar blood insulin one",
           "normal valu pu cell urin"
          ],
          [
           "type sugar blood insulin one",
           "one medic must use type one diabet"
          ],
          [
           "type sugar blood insulin one",
           "eat orang rais blood sugar"
          ],
          [
           "type sugar blood insulin one",
           "type one diabet drink energi drink insulin depend person"
          ],
          [
           "type sugar blood insulin one",
           "confection sugar use diabet cooki"
          ],
          [
           "type sugar blood insulin one",
           "eat peanut gestat diabet"
          ],
          [
           "type sugar blood insulin one",
           "food bought poor rich person caus diabet"
          ],
          [
           "type sugar blood insulin one",
           "expect outcom patient type one type two diabet"
          ],
          [
           "type sugar blood insulin one",
           "take viagra type two diabet"
          ],
          [
           "type sugar blood insulin one",
           "take aspirin diabet"
          ],
          [
           "type sugar blood insulin one",
           "symptom diabet insteadof rise blood sugar"
          ],
          [
           "type sugar blood insulin one",
           "anim turn diabet"
          ],
          [
           "type sugar blood insulin one",
           "mani calori diabet day"
          ],
          [
           "type sugar blood insulin one",
           "herbalif formula one much sugar"
          ],
          [
           "type sugar blood insulin one",
           "diabet religion"
          ],
          [
           "type sugar blood insulin one",
           "think husband cheat station japan biloxi ms would like know privat investig assist much would cost"
          ],
          [
           "type sugar blood insulin one",
           "use glucos recip call liquid glucos"
          ],
          [
           "type sugar blood insulin one",
           "husband diabet fast take med morn say take food"
          ],
          [
           "type sugar blood insulin one",
           "way help control blood sugar level"
          ],
          [
           "type sugar blood insulin one",
           "insulin taken oral type two diabet"
          ],
          [
           "type sugar blood insulin one",
           "food fluid correct diabet emerg"
          ],
          [
           "type sugar blood insulin one",
           "diabet drink"
          ],
          [
           "type sugar blood insulin one",
           "dextrin caus sharp spike blood sugar level"
          ],
          [
           "type sugar blood insulin one",
           "date good diabet patient"
          ],
          [
           "type sugar blood insulin one",
           "buy diabet"
          ],
          [
           "type sugar blood insulin one",
           "worri friend fat famili diabet except tri help lose weight watch eat sport dosent listen"
          ],
          [
           "type sugar blood insulin one",
           "blood sugar two hr eat diabet"
          ],
          [
           "type sugar blood insulin one",
           "diabet eat stawberri"
          ],
          [
           "type sugar blood insulin one",
           "five fact diabet"
          ],
          [
           "type sugar blood insulin one",
           "peopl form diseas diabet treat inject"
          ],
          [
           "type sugar blood insulin one",
           "mani peanut diabet"
          ],
          [
           "type sugar blood insulin one",
           "must monitor individu diabet"
          ],
          [
           "type sugar blood insulin one",
           "correct dose insulin take blood sugar level seventeen point zero pre meal measur"
          ],
          [
           "type sugar blood insulin one",
           "die diabet pregnant"
          ],
          [
           "type sugar blood insulin one",
           "diabet manag"
          ],
          [
           "type sugar blood insulin one",
           "reason koch abdomen"
          ],
          [
           "type sugar blood insulin one",
           "get diabet consum blood someon diabet"
          ],
          [
           "type sugar blood insulin one",
           "best insulin pen avail market"
          ],
          [
           "type sugar blood insulin one",
           "older diabet find reason price life insur polici"
          ],
          [
           "type sugar blood insulin one",
           "rash repeat sign diabet"
          ],
          [
           "type sugar blood insulin one",
           "found treatment diabet"
          ],
          [
           "type sugar blood insulin one",
           "much sugar date"
          ],
          [
           "type sugar blood insulin one",
           "diabet take clonazepam"
          ],
          [
           "type sugar blood insulin one",
           "jelli bean suitabl peopl diabet"
          ],
          [
           "type sugar blood insulin one",
           "sign seek diabet test"
          ],
          [
           "type sugar blood insulin one",
           "diseas bodi produc properli use insulin"
          ],
          [
           "type sugar blood insulin one",
           "diabet sugar alcohol"
          ],
          [
           "type sugar blood insulin one",
           "gamer fat"
          ],
          [
           "type sugar blood insulin one",
           "food poison affect diabet"
          ],
          [
           "type sugar blood insulin one",
           "happen someon type one diabet go long without insulin shot"
          ],
          [
           "type sugar blood insulin one",
           "brandi bad diabet patient"
          ],
          [
           "type sugar blood insulin one",
           "caus prevent diabet"
          ],
          [
           "type sugar blood insulin one",
           "tell bodi much sugar"
          ],
          [
           "type sugar blood insulin one",
           "know type one diabet"
          ],
          [
           "type sugar blood insulin one",
           "get rid type two diabet"
          ],
          [
           "type sugar blood insulin one",
           "much sugar averag bottl cheap wine supermarket beer head toward diabet type two high blood glucos alcohol drink safe"
          ],
          [
           "type sugar blood insulin one",
           "depend diabet mellitu caus chronic renal failur"
          ],
          [
           "type sugar blood insulin one",
           "lower risk get diabet"
          ],
          [
           "type sugar blood insulin one",
           "differ diabet coma insulin reaction"
          ],
          [
           "type sugar blood insulin one",
           "diabet get insulin"
          ],
          [
           "type sugar blood insulin one",
           "diabet patent use honey warm milk"
          ],
          [
           "type sugar blood insulin one",
           "brittl diabet treat"
          ],
          [
           "type sugar blood insulin one",
           "orang rais blood sugar"
          ],
          [
           "type sugar blood insulin one",
           "much sugar seven"
          ],
          [
           "type sugar blood insulin one",
           "salad lower blood sugar"
          ],
          [
           "type sugar blood insulin one",
           "build lactic acid pain"
          ],
          [
           "type sugar blood insulin one",
           "food may tast sweet littl glucos"
          ],
          [
           "type sugar blood insulin one",
           "diabet lead organ psychos"
          ],
          [
           "type sugar blood insulin one",
           "averag life expect person diabet"
          ],
          [
           "type sugar blood insulin one",
           "product much insulin typic"
          ],
          [
           "type sugar blood insulin one",
           "diabet affect daili life"
          ],
          [
           "type sugar blood insulin one",
           "smoke affect someon type two diabet"
          ],
          [
           "type sugar blood insulin one",
           "treat diabet mellitu"
          ],
          [
           "type sugar blood insulin one",
           "peopl diabet"
          ],
          [
           "type sugar blood insulin one",
           "diabet exercis"
          ],
          [
           "type sugar blood insulin one",
           "keep insulin pump work"
          ],
          [
           "type sugar blood insulin one",
           "diabet affect result blood alcohol test"
          ],
          [
           "type sugar blood insulin one",
           "long take insulin bring type one diabet"
          ],
          [
           "type sugar blood insulin one",
           "diseas requir patient receiv regular insulin inject"
          ],
          [
           "type sugar blood insulin one",
           "happen non diabet take insulin"
          ],
          [
           "type sugar blood insulin one",
           "diabet consult"
          ],
          [
           "type sugar blood insulin one",
           "lexapro rais blood sugar level"
          ],
          [
           "type sugar blood insulin one",
           "insulin depand dibiti curabl"
          ],
          [
           "type sugar blood insulin one",
           "treat diabet type one"
          ],
          [
           "type sugar blood insulin one",
           "buy one touch surestep machin"
          ],
          [
           "type sugar blood insulin one",
           "diabet take hgh"
          ],
          [
           "type sugar blood insulin one",
           "mani peopl expect develop diabet america"
          ],
          [
           "type sugar blood insulin one",
           "inform type one diabet"
          ],
          [
           "type sugar blood insulin one",
           "diabet eat prawn"
          ],
          [
           "type sugar blood insulin one",
           "die diabet"
          ],
          [
           "type sugar blood insulin one",
           "kid love sugar"
          ],
          [
           "type sugar blood insulin one",
           "patient suffer noninsulin depend diabet mellitu develop hypoglycemia"
          ],
          [
           "type sugar blood insulin one",
           "lower blood sugar quickli type two diabet monitor blood sugar twice day know low take barley sugar sweet feel fine"
          ],
          [
           "type sugar blood insulin one",
           "evapor cane juic right diabet"
          ],
          [
           "type sugar blood insulin one",
           "anti diabet plant"
          ],
          [
           "type sugar blood insulin one",
           "medic type one diabet take"
          ],
          [
           "type sugar blood insulin one",
           "walk effect diabet patient"
          ],
          [
           "type sugar blood insulin one",
           "liver diseas heal self person stop drink"
          ],
          [
           "type sugar blood insulin one",
           "iv fluid need diabet patient"
          ],
          [
           "type sugar blood insulin one",
           "eat lot consid type behavior"
          ],
          [
           "type sugar blood insulin one",
           "differ diabet diabet"
          ],
          [
           "type sugar blood insulin one",
           "eat blood sugar low"
          ],
          [
           "type sugar blood insulin one",
           "excess amount sugar caus diabet"
          ],
          [
           "type sugar blood insulin one",
           "sugar per day bad"
          ],
          [
           "type sugar blood insulin one",
           "happen health eat much chocol"
          ],
          [
           "type sugar blood insulin one",
           "type natur sugar spike insulin level"
          ],
          [
           "type sugar blood insulin one",
           "part human bodi affect diabet"
          ],
          [
           "type sugar blood insulin one",
           "diabet fake"
          ],
          [
           "type sugar blood insulin one",
           "two hundr eighti pound fat"
          ],
          [
           "type sugar blood insulin one",
           "degre lifestyl chang reduc risk diabet associ insulin resist"
          ],
          [
           "type sugar blood insulin one",
           "appl regul blood sugar"
          ],
          [
           "type sugar blood insulin one",
           "orang juic recommend blood sugar low"
          ],
          [
           "type sugar blood insulin one",
           "prognosi insulin resist"
          ],
          [
           "type sugar blood insulin one",
           "illeg ask applic diabet"
          ],
          [
           "type sugar blood insulin one",
           "type one diabet"
          ],
          [
           "type sugar blood insulin one",
           "onetouch ultra product use"
          ],
          [
           "type sugar blood insulin one",
           "three type perment"
          ],
          [
           "type sugar blood insulin one",
           "essenti compon control type two diabet"
          ],
          [
           "type sugar blood insulin one",
           "raisin good diabet"
          ],
          [
           "type sugar blood insulin one",
           "lose diabet"
          ],
          [
           "type sugar blood insulin one",
           "find someth check blood glucos level"
          ],
          [
           "type sugar blood insulin one",
           "insulin depend diabet"
          ],
          [
           "type sugar blood insulin one",
           "treat diabet type one"
          ],
          [
           "type sugar blood insulin one",
           "joke diabet"
          ],
          [
           "type sugar blood insulin one",
           "diabet type two"
          ],
          [
           "type sugar blood insulin one",
           "prevent type one diabet"
          ],
          [
           "type sugar blood insulin one",
           "develop first effect treatment diabet"
          ],
          [
           "type sugar blood insulin one",
           "type peopl avoid select friend"
          ],
          [
           "type sugar blood insulin one",
           "treatment avail high blood plasma"
          ],
          [
           "type sugar blood insulin one",
           "bring blood sugar"
          ],
          [
           "type sugar blood insulin one",
           "grow type one diabet"
          ]
         ],
         "hovertemplate": "summary=%{customdata[0]}<br>pc_1=%{x}<br>pc_2=%{y}<br>pc_3=%{z}<br>sentence=%{customdata[1]}<extra></extra>",
         "legendgroup": "type sugar blood insulin one",
         "marker": {
          "color": "#636efa",
          "size": 5,
          "symbol": "circle"
         },
         "mode": "markers",
         "name": "type sugar blood insulin one",
         "scene": "scene",
         "showlegend": true,
         "type": "scatter3d",
         "x": [
          7.623045921325684,
          2.828558921813965,
          4.806412220001221,
          6.1629958152771,
          3.679060220718384,
          6.583125591278076,
          -1.3976829051971436,
          -0.16329491138458252,
          -3.79146671295166,
          -0.44312599301338196,
          3.272423028945923,
          3.539470911026001,
          1.8536490201950073,
          3.8910200595855713,
          -3.332655668258667,
          6.561929702758789,
          1.2473986148834229,
          6.41023588180542,
          1.4748934507369995,
          6.492215156555176,
          0.43431320786476135,
          -2.699248790740967,
          6.354926586151123,
          2.2471232414245605,
          -1.2378735542297363,
          -1.2859464883804321,
          7.0028581619262695,
          6.228031635284424,
          -1.1715054512023926,
          6.780991554260254,
          -1.6172715425491333,
          -2.619420051574707,
          1.8994141817092896,
          0.16258569061756134,
          -2.1692628860473633,
          5.874009609222412,
          3.143277168273926,
          0.15005537867546082,
          7.6474809646606445,
          2.987511396408081,
          -4.021103858947754,
          -4.105793476104736,
          9.035774230957031,
          -1.0811028480529785,
          0.5505048632621765,
          -5.0333123207092285,
          0.9106018543243408,
          2.5803444385528564,
          3.005070924758911,
          3.566096067428589,
          0.06057998538017273,
          2.201148748397827,
          1.4044169187545776,
          -0.5685335993766785,
          6.949740409851074,
          -1.6981945037841797,
          1.9249114990234375,
          -3.5918750762939453,
          4.041179656982422,
          -3.7160849571228027,
          -2.6892237663269043,
          5.5701494216918945,
          -1.1020435094833374,
          5.06554651260376,
          4.572720527648926,
          -1.2409076690673828,
          1.980438470840454,
          11.048405647277832,
          3.741408586502075,
          -1.7116810083389282,
          -1.6332664489746094,
          5.6739091873168945,
          8.422341346740723,
          -2.732325315475464,
          5.817072868347168,
          -0.5693072080612183,
          3.8878486156463623,
          3.734769582748413,
          -2.10931658744812,
          7.418158531188965,
          6.349033355712891,
          3.4748640060424805,
          -4.1377787590026855,
          0.2522106170654297,
          4.739205360412598,
          4.830085754394531,
          -2.897339344024658,
          6.1352105140686035,
          6.273616313934326,
          -1.2302916049957275,
          0.5687851905822754,
          -2.0141375064849854,
          -1.6530065536499023,
          7.534196853637695,
          6.893726825714111,
          2.4316253662109375,
          2.977379083633423,
          2.0164458751678467,
          2.314742088317871,
          -0.8778783082962036,
          2.7149312496185303,
          1.049809217453003,
          5.994180679321289,
          -3.550537586212158,
          7.933660984039307,
          -1.6613670587539673,
          3.4823458194732666,
          -4.139933109283447,
          -0.2439115345478058,
          -1.0942797660827637,
          7.409983158111572,
          7.222080707550049,
          7.91077184677124,
          8.775691986083984,
          8.205268859863281,
          -1.5551841259002686,
          -0.9255698919296265,
          -2.5337679386138916,
          -1.5506548881530762,
          3.1304190158843994,
          3.943739175796509,
          -2.7075693607330322,
          -2.741889238357544,
          0.6022340059280396,
          3.7400238513946533,
          -4.39985466003418,
          6.9009690284729,
          4.994742393493652,
          -3.768494129180908,
          -2.34216570854187,
          7.729809284210205,
          4.011857986450195,
          7.406287670135498,
          5.915786266326904,
          -1.527284026145935,
          -0.5375260710716248,
          -0.06058575585484505,
          4.545923233032227,
          1.7866191864013672,
          -2.0077908039093018,
          -1.3496531248092651,
          6.040858268737793,
          5.7339396476745605,
          -1.1390602588653564,
          4.949151992797852,
          0.42593610286712646,
          0.5961875319480896,
          6.9111714363098145,
          4.975223064422607,
          6.354926109313965,
          3.2858572006225586,
          2.5075719356536865,
          -5.013836860656738,
          2.189852714538574,
          -2.6526501178741455,
          0.1355634331703186,
          7.402041912078857,
          -1.5506548881530762,
          -1.5930967330932617,
          4.167219638824463,
          -5.152329444885254,
          -1.8985801935195923,
          -5.335623741149902,
          -1.0731996297836304,
          0.7254137992858887,
          -3.2991061210632324
         ],
         "y": [
          1.977713942527771,
          0.2878774404525757,
          -2.0162370204925537,
          1.5545920133590698,
          -1.1104217767715454,
          1.2702287435531616,
          0.7598049640655518,
          0.34365198016166687,
          0.6366008520126343,
          0.11157093942165375,
          -3.2192118167877197,
          -1.2853981256484985,
          -1.4725221395492554,
          -0.49386876821517944,
          0.570734977722168,
          1.2692914009094238,
          -0.926003098487854,
          -2.8563389778137207,
          -0.6399606466293335,
          1.5653287172317505,
          -0.0257693063467741,
          -0.3690181076526642,
          1.574774146080017,
          -2.4053573608398438,
          0.6352664232254028,
          0.5519081354141235,
          -5.627838611602783,
          -0.244619220495224,
          0.060765571892261505,
          1.3905837535858154,
          0.7851125597953796,
          3.297673225402832,
          -1.7739975452423096,
          0.15369705855846405,
          0.7252767086029053,
          -2.850503921508789,
          -1.2012059688568115,
          0.1591714769601822,
          1.8103991746902466,
          -2.3542630672454834,
          0.7168978452682495,
          0.746252715587616,
          3.3625667095184326,
          0.20906153321266174,
          0.20982642471790314,
          -1.963744878768921,
          0.17535340785980225,
          -1.1182374954223633,
          -2.285797357559204,
          -1.2696795463562012,
          0.15005983412265778,
          -2.4224765300750732,
          -1.0009686946868896,
          0.5594114065170288,
          1.4870654344558716,
          0.5964295268058777,
          -0.7881578803062439,
          0.42376217246055603,
          -1.7419157028198242,
          1.0783801078796387,
          -0.49822306632995605,
          -4.548083782196045,
          0.13361865282058716,
          -1.8728102445602417,
          -1.5707051753997803,
          0.5902996063232422,
          -0.914823591709137,
          0.5809788107872009,
          -0.7971569895744324,
          0.721810519695282,
          0.7039382457733154,
          -2.96964168548584,
          2.2619476318359375,
          0.4194546043872833,
          -2.257995843887329,
          0.5314432382583618,
          -1.6924264430999756,
          -1.3234593868255615,
          0.6826534271240234,
          -4.746301174163818,
          1.495895504951477,
          -3.141204833984375,
          0.7732986211776733,
          0.07408726960420609,
          1.6927356719970703,
          -1.9956140518188477,
          0.22684936225414276,
          -2.498234510421753,
          1.384844183921814,
          -0.003968528006225824,
          -0.06589552015066147,
          -0.19087731838226318,
          -0.9041160345077515,
          1.792633295059204,
          1.3544588088989258,
          -2.1514055728912354,
          -1.3822975158691406,
          -2.102169990539551,
          -1.0458050966262817,
          0.7335678935050964,
          -1.2188750505447388,
          -0.5356066226959229,
          -0.9266017079353333,
          0.5750514268875122,
          1.9774514436721802,
          -0.4672999978065491,
          1.075217366218567,
          1.0696102380752563,
          0.07369498163461685,
          0.6405445337295532,
          1.8741815090179443,
          -4.343782424926758,
          2.0803394317626953,
          2.0638129711151123,
          1.578258752822876,
          0.6515250205993652,
          0.731853723526001,
          3.2464346885681152,
          0.7879748940467834,
          -2.3644511699676514,
          -1.6750622987747192,
          -0.15976189076900482,
          3.29254150390625,
          0.20888888835906982,
          -0.6680302023887634,
          0.8306769132614136,
          -5.451757431030273,
          -2.408284902572632,
          0.6264458298683167,
          0.8261303305625916,
          2.003099203109741,
          -1.3136351108551025,
          -5.036349296569824,
          -3.334939956665039,
          -0.5857661366462708,
          -0.24756397306919098,
          0.24608375132083893,
          -1.4160476922988892,
          -1.028645396232605,
          -0.3431408405303955,
          2.6994481086730957,
          -1.9977494478225708,
          -1.722812294960022,
          0.3350368142127991,
          1.7405787706375122,
          -0.0346171073615551,
          -0.19059284031391144,
          1.499686360359192,
          -1.9227749109268188,
          1.574765920639038,
          -3.001206636428833,
          0.7224477529525757,
          2.111055850982666,
          -0.9290380477905273,
          0.20565804839134216,
          0.1689973920583725,
          1.6850968599319458,
          0.7879749536514282,
          -0.7605714797973633,
          1.634151577949524,
          2.442551612854004,
          0.5763855576515198,
          1.9839531183242798,
          0.3892741799354553,
          -0.33832085132598877,
          3.475569009780884
         ],
         "z": [
          -1.263852596282959,
          4.707407474517822,
          -0.9999428391456604,
          3.0556771755218506,
          1.9827526807785034,
          5.925778388977051,
          0.29695042967796326,
          -5.323485374450684,
          4.209997653961182,
          5.251811981201172,
          -6.7311601638793945,
          0.09480911493301392,
          -5.690633773803711,
          4.924304962158203,
          4.131257057189941,
          2.9656267166137695,
          -5.968238830566406,
          3.2520201206207275,
          -3.79300856590271,
          3.8723325729370117,
          -4.705082893371582,
          5.823590278625488,
          2.890204906463623,
          -6.990401268005371,
          0.0487186536192894,
          3.073328971862793,
          -1.155714988708496,
          4.808114051818848,
          0.7535728812217712,
          3.1714205741882324,
          0.5885405540466309,
          -0.8101460337638855,
          -6.347109794616699,
          -5.777236461639404,
          0.38623136281967163,
          5.8979573249816895,
          -3.119908332824707,
          -5.8838958740234375,
          1.2818095684051514,
          -5.306941032409668,
          4.082157611846924,
          4.022678852081299,
          -1.2952719926834106,
          4.6743340492248535,
          4.469882011413574,
          9.827985763549805,
          4.457644939422607,
          -2.7039971351623535,
          -5.107848644256592,
          0.24399179220199585,
          -4.08262825012207,
          -7.12694787979126,
          -5.650068759918213,
          -5.068397045135498,
          2.634087324142456,
          -0.7308052778244019,
          -2.912569046020508,
          1.1823569536209106,
          -1.178096055984497,
          0.5183433890342712,
          6.026893615722656,
          -4.41746711730957,
          4.874752998352051,
          1.6484757661819458,
          4.271437644958496,
          -0.44998350739479065,
          -3.4821934700012207,
          -7.392793655395508,
          4.259350776672363,
          1.020658254623413,
          -0.9888750314712524,
          6.609035491943359,
          -1.35755455493927,
          1.066023588180542,
          5.365950107574463,
          -5.261699676513672,
          -1.5201770067214966,
          0.4992915093898773,
          1.0680230855941772,
          0.8683814406394958,
          5.181899547576904,
          -6.204514026641846,
          1.6073832511901855,
          -3.6425046920776367,
          3.650796413421631,
          0.698577344417572,
          4.872125148773193,
          1.445682406425476,
          4.1455464363098145,
          5.2925872802734375,
          -4.1373162269592285,
          5.625712871551514,
          7.513509273529053,
          1.298993468284607,
          3.0329196453094482,
          -6.026432037353516,
          -3.126629590988159,
          -6.821285247802734,
          -3.0920181274414062,
          -5.878662109375,
          -2.4075546264648438,
          -5.069719314575195,
          5.176346778869629,
          4.247781753540039,
          0.30387941002845764,
          6.297386169433594,
          4.642996788024902,
          1.9337941408157349,
          5.119007587432861,
          -0.5910327434539795,
          0.010543067008256912,
          1.1511961221694946,
          -1.1522164344787598,
          0.49966976046562195,
          1.6605597734451294,
          1.981582522392273,
          -5.70460844039917,
          -1.1925424337387085,
          2.476536750793457,
          -5.044461727142334,
          -1.3882490396499634,
          5.507628917694092,
          -0.558259904384613,
          4.710805892944336,
          4.643429756164551,
          3.2306783199310303,
          -1.2245142459869385,
          -1.1065114736557007,
          4.227402687072754,
          -0.563033938407898,
          -0.9892867803573608,
          2.0742173194885254,
          0.13763859868049622,
          0.5626859068870544,
          6.643863677978516,
          6.066579818725586,
          -4.567658424377441,
          4.306705474853516,
          -4.482898235321045,
          5.928283214569092,
          -1.8366097211837769,
          3.3973937034606934,
          3.5416290760040283,
          0.12183630466461182,
          3.128093957901001,
          -5.40695333480835,
          -5.642350673675537,
          2.657930374145508,
          1.663932204246521,
          2.890202522277832,
          -6.223374843597412,
          4.773505687713623,
          2.210543155670166,
          -2.620762586593628,
          4.890494346618652,
          -5.819572448730469,
          1.7765660285949707,
          2.476536750793457,
          7.0932793617248535,
          5.016238689422607,
          1.9727892875671387,
          -3.883197546005249,
          2.3775010108947754,
          -4.100081920623779,
          -5.8428053855896,
          -0.6787031888961792
         ]
        },
        {
         "customdata": [
          [
           "blood sugar insulin level gluco",
           "differ regular insulin slide scale insulin"
          ],
          [
           "blood sugar insulin level gluco",
           "normal"
          ],
          [
           "blood sugar insulin level gluco",
           "long onset regular insulin"
          ],
          [
           "blood sugar insulin level gluco",
           "serum insulin made"
          ],
          [
           "blood sugar insulin level gluco",
           "shiatsu massag cushion worth money"
          ],
          [
           "blood sugar insulin level gluco",
           "know diagnos diabet"
          ],
          [
           "blood sugar insulin level gluco",
           "normal level triglycerid implic abnorm level"
          ],
          [
           "blood sugar insulin level gluco",
           "happen eat lot sugar still low blood sugar"
          ],
          [
           "blood sugar insulin level gluco",
           "blood sugar ach mean"
          ],
          [
           "blood sugar insulin level gluco",
           "one hundr forti high type two diabet"
          ],
          [
           "blood sugar insulin level gluco",
           "blood sugar count mean diabet"
          ],
          [
           "blood sugar insulin level gluco",
           "bacteria use make insulin"
          ],
          [
           "blood sugar insulin level gluco",
           "tell sugar enter blood"
          ],
          [
           "blood sugar insulin level gluco",
           "regular insulin actrapid insulin"
          ],
          [
           "blood sugar insulin level gluco",
           "first person diabet"
          ],
          [
           "blood sugar insulin level gluco",
           "would need use continu glucos monitor"
          ],
          [
           "blood sugar insulin level gluco",
           "gland associ diabet"
          ],
          [
           "blood sugar insulin level gluco",
           "two hundr fifti seven glucos read normal"
          ],
          [
           "blood sugar insulin level gluco",
           "differ insulin formul"
          ],
          [
           "blood sugar insulin level gluco",
           "bodi produc much insulin"
          ],
          [
           "blood sugar insulin level gluco",
           "hyperglycemia lead kidney failur"
          ],
          [
           "blood sugar insulin level gluco",
           "tell blood sugar level"
          ],
          [
           "blood sugar insulin level gluco",
           "pancreat dysfunct relat diabet"
          ],
          [
           "blood sugar insulin level gluco",
           "diabet blood sugar level"
          ],
          [
           "blood sugar insulin level gluco",
           "normal rang blood test mpv"
          ],
          [
           "blood sugar insulin level gluco",
           "hot chito affect blood sugar"
          ],
          [
           "blood sugar insulin level gluco",
           "wine reduc blood glucos"
          ],
          [
           "blood sugar insulin level gluco",
           "blood sugar averag person weigh one hundr lb"
          ],
          [
           "blood sugar insulin level gluco",
           "fast blood sugar three hundr danger"
          ],
          [
           "blood sugar insulin level gluco",
           "haemoglobin test sugar test"
          ],
          [
           "blood sugar insulin level gluco",
           "know diabiti"
          ],
          [
           "blood sugar insulin level gluco",
           "would happen ate insulin tast"
          ],
          [
           "blood sugar insulin level gluco",
           "radish lower blood sugar"
          ],
          [
           "blood sugar insulin level gluco",
           "side effect associ use arnica"
          ],
          [
           "blood sugar insulin level gluco",
           "take sixti five unit day insulin mani day vial last lantu beadtim"
          ],
          [
           "blood sugar insulin level gluco",
           "test use diagnosi diabet mellitu"
          ],
          [
           "blood sugar insulin level gluco",
           "give insulin tuberculin syring"
          ],
          [
           "blood sugar insulin level gluco",
           "mani mg insulin equal one unit insulin"
          ],
          [
           "blood sugar insulin level gluco",
           "one hundr seventi read food diabet"
          ],
          [
           "blood sugar insulin level gluco",
           "diabet color red tattoo"
          ],
          [
           "blood sugar insulin level gluco",
           "okay hit diabet"
          ],
          [
           "blood sugar insulin level gluco",
           "consid low glucos level"
          ],
          [
           "blood sugar insulin level gluco",
           "salt tablet lower blood sugar"
          ],
          [
           "blood sugar insulin level gluco",
           "normal blood sodium level"
          ],
          [
           "blood sugar insulin level gluco",
           "seventi seven normal blood sugar level eaten five hour extrem shaki dizzi irrit"
          ],
          [
           "blood sugar insulin level gluco",
           "releas blood sugar level high"
          ],
          [
           "blood sugar insulin level gluco",
           "ibsulin"
          ],
          [
           "blood sugar insulin level gluco",
           "give chocol person sugar five hundr eighti nine"
          ],
          [
           "blood sugar insulin level gluco",
           "regul blood glucos level"
          ],
          [
           "blood sugar insulin level gluco",
           "rais glucos level mean diabet"
          ],
          [
           "blood sugar insulin level gluco",
           "therapeut intervent type one diabet"
          ],
          [
           "blood sugar insulin level gluco",
           "diabet use steam room"
          ],
          [
           "blood sugar insulin level gluco",
           "cocain affect blood sugar"
          ],
          [
           "blood sugar insulin level gluco",
           "get light head sugar diabet"
          ],
          [
           "blood sugar insulin level gluco",
           "organ bodi function properli diabet"
          ],
          [
           "blood sugar insulin level gluco",
           "plant use energi store glucos"
          ],
          [
           "blood sugar insulin level gluco",
           "diabet somogyi phenomenon"
          ],
          [
           "blood sugar insulin level gluco",
           "insulin bruis becom bad drop bottl dog insulin still good"
          ],
          [
           "blood sugar insulin level gluco",
           "blood sugar low"
          ],
          [
           "blood sugar insulin level gluco",
           "start american diabet associ"
          ],
          [
           "blood sugar insulin level gluco",
           "lab test use rule diabet"
          ],
          [
           "blood sugar insulin level gluco",
           "one hundr forti bad blood sugar read morn"
          ],
          [
           "blood sugar insulin level gluco",
           "get insulin"
          ],
          [
           "blood sugar insulin level gluco",
           "level glucos cat"
          ],
          [
           "blood sugar insulin level gluco",
           "insulin pump cover high glucos level right"
          ],
          [
           "blood sugar insulin level gluco",
           "inject insulin muscl"
          ],
          [
           "blood sugar insulin level gluco",
           "remov appendix draw blood blood test drug test also"
          ],
          [
           "blood sugar insulin level gluco",
           "pete wentz diabet"
          ],
          [
           "blood sugar insulin level gluco",
           "inject wrong insulin"
          ],
          [
           "blood sugar insulin level gluco",
           "rais blood sugar"
          ],
          [
           "blood sugar insulin level gluco",
           "number normal blood sugar level"
          ],
          [
           "blood sugar insulin level gluco",
           "canadian scientist insulin"
          ],
          [
           "blood sugar insulin level gluco",
           "use tuberculin syring instead insulin much insulin draw"
          ],
          [
           "blood sugar insulin level gluco",
           "normal blood sugar level"
          ],
          [
           "blood sugar insulin level gluco",
           "insulin travel bodi"
          ],
          [
           "blood sugar insulin level gluco",
           "inject insulin"
          ],
          [
           "blood sugar insulin level gluco",
           "expens diabet test strip"
          ],
          [
           "blood sugar insulin level gluco",
           "bad low blood sugar level"
          ],
          [
           "blood sugar insulin level gluco",
           "pancreat hormon function lower blood glucos level"
          ],
          [
           "blood sugar insulin level gluco",
           "best time check blood sugar read"
          ],
          [
           "blood sugar insulin level gluco",
           "use dna technolog help treat diabet"
          ],
          [
           "blood sugar insulin level gluco",
           "happen blood sugar get high diabet"
          ],
          [
           "blood sugar insulin level gluco",
           "test diabet without go doctor buy test strip"
          ],
          [
           "blood sugar insulin level gluco",
           "laboratori procedur made possibl te develop bacteria synthes human insulin"
          ],
          [
           "blood sugar insulin level gluco",
           "organ unabl take glucos diabet mellitu"
          ],
          [
           "blood sugar insulin level gluco",
           "two hundr nineti seven blood sugar mean"
          ],
          [
           "blood sugar insulin level gluco",
           "synthroid rais blood sugar level"
          ],
          [
           "blood sugar insulin level gluco",
           "use insulin"
          ],
          [
           "blood sugar insulin level gluco",
           "high level blood sugar bad"
          ],
          [
           "blood sugar insulin level gluco",
           "normal glucos level forti year old male"
          ],
          [
           "blood sugar insulin level gluco",
           "diabet test strip univers"
          ],
          [
           "blood sugar insulin level gluco",
           "kill faster diabet lung cancer"
          ],
          [
           "blood sugar insulin level gluco",
           "nineti seven one hundr ten blood sugar level within normal rang diabet"
          ],
          [
           "blood sugar insulin level gluco",
           "insulin founder"
          ],
          [
           "blood sugar insulin level gluco",
           "diabet take flu vaccin"
          ],
          [
           "blood sugar insulin level gluco",
           "blood sugar went eighti six one hundr seventi eight one hundr sixti eight shot fifti four normal"
          ],
          [
           "blood sugar insulin level gluco",
           "test use aid diagnos diabet"
          ],
          [
           "blood sugar insulin level gluco",
           "normal protein level blood"
          ],
          [
           "blood sugar insulin level gluco",
           "diabet mean high blood sugar"
          ],
          [
           "blood sugar insulin level gluco",
           "type sugar blood sugar"
          ],
          [
           "blood sugar insulin level gluco",
           "parent say futur girlfriend futur diabet would"
          ],
          [
           "blood sugar insulin level gluco",
           "would doctor suggest check patient blood sugar level"
          ],
          [
           "blood sugar insulin level gluco",
           "could whiskey soft drink rais blood sugar level"
          ],
          [
           "blood sugar insulin level gluco",
           "releas blood sugar level fall"
          ],
          [
           "blood sugar insulin level gluco",
           "mix long short insulin draw first"
          ],
          [
           "blood sugar insulin level gluco",
           "happen blood ph blood sugar level rise insulin present"
          ],
          [
           "blood sugar insulin level gluco",
           "medic term mean high blood sugar"
          ],
          [
           "blood sugar insulin level gluco",
           "macromolecul insulin"
          ],
          [
           "blood sugar insulin level gluco",
           "normal blood sugar level woman thirti"
          ],
          [
           "blood sugar insulin level gluco",
           "chemic releas ketosi"
          ],
          [
           "blood sugar insulin level gluco",
           "treat inject genet engin insulin"
          ],
          [
           "blood sugar insulin level gluco",
           "give insulin"
          ],
          [
           "blood sugar insulin level gluco",
           "insulin invent"
          ],
          [
           "blood sugar insulin level gluco",
           "blood test use patient diabet measur averag blood glucos level previou three four month"
          ],
          [
           "blood sugar insulin level gluco",
           "tissu insulin depend"
          ],
          [
           "blood sugar insulin level gluco",
           "eat inject human insulin"
          ],
          [
           "blood sugar insulin level gluco",
           "low blood glucos level caus weight loss"
          ],
          [
           "blood sugar insulin level gluco",
           "actress diabet test strip commerci"
          ],
          [
           "blood sugar insulin level gluco",
           "test find diseas human bodi"
          ],
          [
           "blood sugar insulin level gluco",
           "rub alcohol caus cancer"
          ],
          [
           "blood sugar insulin level gluco",
           "test test perform confirm diagnosi diabet mellitu aid diagnos hypoglycemia"
          ],
          [
           "blood sugar insulin level gluco",
           "normal valu random blood sugar"
          ],
          [
           "blood sugar insulin level gluco",
           "inventor insulin"
          ],
          [
           "blood sugar insulin level gluco",
           "insulin use fraction urin coverag"
          ],
          [
           "blood sugar insulin level gluco",
           "hormon make blood glucos increas"
          ],
          [
           "blood sugar insulin level gluco",
           "scrub episod turk discov diabet"
          ],
          [
           "blood sugar insulin level gluco",
           "normal depakot blood level"
          ],
          [
           "blood sugar insulin level gluco",
           "insulin make glucos"
          ],
          [
           "blood sugar insulin level gluco",
           "glucomet aviva error"
          ],
          [
           "blood sugar insulin level gluco",
           "insulin human growth hormon two exampl product produc"
          ],
          [
           "blood sugar insulin level gluco",
           "type devic use check blood sugar"
          ],
          [
           "blood sugar insulin level gluco",
           "may diabet becom thin feel weak"
          ],
          [
           "blood sugar insulin level gluco",
           "hormon secret pancreat islet respons low blood sugar"
          ],
          [
           "blood sugar insulin level gluco",
           "part endocrin system regul blood glucos level"
          ],
          [
           "blood sugar insulin level gluco",
           "blood glucos high azithromycin"
          ],
          [
           "blood sugar insulin level gluco",
           "broccoli bad diabet"
          ],
          [
           "blood sugar insulin level gluco",
           "blood glucos level four point three normal sixteen year old"
          ],
          [
           "blood sugar insulin level gluco",
           "diabet need pay insulin prescript"
          ],
          [
           "blood sugar insulin level gluco",
           "normal rang blood gluclos test"
          ],
          [
           "blood sugar insulin level gluco",
           "diabet diagnos singl finger prick blood sugar"
          ],
          [
           "blood sugar insulin level gluco",
           "insulin need refrigir"
          ],
          [
           "blood sugar insulin level gluco",
           "advantag use bacteria contain human insulin gene produc insulin"
          ],
          [
           "blood sugar insulin level gluco",
           "disney cancel hannah montana diabet episod"
          ],
          [
           "blood sugar insulin level gluco",
           "happen drink bit insulin"
          ],
          [
           "blood sugar insulin level gluco",
           "glucos level high glucosuria"
          ],
          [
           "blood sugar insulin level gluco",
           "insulin help control diabet"
          ],
          [
           "blood sugar insulin level gluco",
           "take diabet medic"
          ],
          [
           "blood sugar insulin level gluco",
           "slim fast good item diabet"
          ],
          [
           "blood sugar insulin level gluco",
           "averag blood sugar past three week measur test"
          ],
          [
           "blood sugar insulin level gluco",
           "bodi part produc insulin cell use sugar"
          ],
          [
           "blood sugar insulin level gluco",
           "organ produc enzym insulin"
          ],
          [
           "blood sugar insulin level gluco",
           "normal rang blood glucos"
          ],
          [
           "blood sugar insulin level gluco",
           "tell sugar remov blood"
          ],
          [
           "blood sugar insulin level gluco",
           "highest blood sugar"
          ],
          [
           "blood sugar insulin level gluco",
           "eat lot sugar day glucos test affect result"
          ],
          [
           "blood sugar insulin level gluco",
           "quickli hypoglycemia occur receiv nph insulin"
          ],
          [
           "blood sugar insulin level gluco",
           "caus red blood cell count decreas"
          ],
          [
           "blood sugar insulin level gluco",
           "one reason administ glucos test"
          ],
          [
           "blood sugar insulin level gluco",
           "mean blood sugar chart"
          ],
          [
           "blood sugar insulin level gluco",
           "normal blood sugar type one diabet"
          ],
          [
           "blood sugar insulin level gluco",
           "full form grb"
          ],
          [
           "blood sugar insulin level gluco",
           "medic reason femal abort"
          ],
          [
           "blood sugar insulin level gluco",
           "glucos level"
          ],
          [
           "blood sugar insulin level gluco",
           "coupon one touch ultra two meter"
          ],
          [
           "blood sugar insulin level gluco",
           "first human found"
          ],
          [
           "blood sugar insulin level gluco",
           "check dog blood sugar"
          ],
          [
           "blood sugar insulin level gluco",
           "diabet affect endocrin system"
          ],
          [
           "blood sugar insulin level gluco",
           "gland produc glucagon"
          ],
          [
           "blood sugar insulin level gluco",
           "right take oral antidiabet drug like metformin take lantu"
          ],
          [
           "blood sugar insulin level gluco",
           "insulin legal illeg"
          ],
          [
           "blood sugar insulin level gluco",
           "blood sugar five hundr seventi five type insulin"
          ],
          [
           "blood sugar insulin level gluco",
           "normal blood sugar level"
          ],
          [
           "blood sugar insulin level gluco",
           "glucos startch relat"
          ],
          [
           "blood sugar insulin level gluco",
           "high glucomet read blood sugar"
          ],
          [
           "blood sugar insulin level gluco",
           "diabet type ii get angri mean forti three year marriag split"
          ],
          [
           "blood sugar insulin level gluco",
           "happen take insulin diabet"
          ],
          [
           "blood sugar insulin level gluco",
           "diabet blood sugar level"
          ],
          [
           "blood sugar insulin level gluco",
           "produc insulin bodi"
          ],
          [
           "blood sugar insulin level gluco",
           "much apparatu blood sugar test"
          ],
          [
           "blood sugar insulin level gluco",
           "could gain indic whether diabet"
          ],
          [
           "blood sugar insulin level gluco",
           "differ novolog insulin novolin insulin type one diabet"
          ],
          [
           "blood sugar insulin level gluco",
           "durat diabet coma"
          ],
          [
           "blood sugar insulin level gluco",
           "maintain blood sugar level"
          ],
          [
           "blood sugar insulin level gluco",
           "salt elev diabet blood sugar level"
          ],
          [
           "blood sugar insulin level gluco",
           "differ insulin blood sugar"
          ],
          [
           "blood sugar insulin level gluco",
           "diabet meter use"
          ],
          [
           "blood sugar insulin level gluco",
           "miner help bodi maintain normal blood sugar level"
          ],
          [
           "blood sugar insulin level gluco",
           "diabet alcohol consumpt"
          ],
          [
           "blood sugar insulin level gluco",
           "bodi keep blood sugar level around seventi one hundr ten"
          ],
          [
           "blood sugar insulin level gluco",
           "bird seed good diabet"
          ],
          [
           "blood sugar insulin level gluco",
           "type sugar found blood"
          ],
          [
           "blood sugar insulin level gluco",
           "organ control blood sugar"
          ],
          [
           "blood sugar insulin level gluco",
           "blood sugar high one hundr nineti three right lunch"
          ],
          [
           "blood sugar insulin level gluco",
           "use insulin syring"
          ],
          [
           "blood sugar insulin level gluco",
           "diabet insulin made pig cow human bacteria"
          ],
          [
           "blood sugar insulin level gluco",
           "first insulin inject given"
          ],
          [
           "blood sugar insulin level gluco",
           "diabet treatabl"
          ],
          [
           "blood sugar insulin level gluco",
           "three hundr seven pop carb"
          ],
          [
           "blood sugar insulin level gluco",
           "insulin"
          ],
          [
           "blood sugar insulin level gluco",
           "normal blood sugar level eat"
          ],
          [
           "blood sugar insulin level gluco",
           "would suffer hypoglycemia get low blood glucos level excess insulin action"
          ],
          [
           "blood sugar insulin level gluco",
           "hormon releas blood sugar rise"
          ],
          [
           "blood sugar insulin level gluco",
           "give long act insulin low blood sugar level"
          ],
          [
           "blood sugar insulin level gluco",
           "tissu insulin depend"
          ],
          [
           "blood sugar insulin level gluco",
           "friend suffer acut liver shutdown kidney fail live long enough hope liver transplant"
          ],
          [
           "blood sugar insulin level gluco",
           "unit nick sugar level"
          ],
          [
           "blood sugar insulin level gluco",
           "spanish word diabet"
          ],
          [
           "blood sugar insulin level gluco",
           "lower blood sugar"
          ],
          [
           "blood sugar insulin level gluco",
           "mani anim diagnos diabet"
          ],
          [
           "blood sugar insulin level gluco",
           "blood sugar high eight point two glass milk"
          ],
          [
           "blood sugar insulin level gluco",
           "find insulin"
          ],
          [
           "blood sugar insulin level gluco",
           "control glucos level blood"
          ],
          [
           "blood sugar insulin level gluco",
           "insulin taken daili"
          ],
          [
           "blood sugar insulin level gluco",
           "would one hundr forti seven blood sugar suggest"
          ],
          [
           "blood sugar insulin level gluco",
           "name condit affect blood sugar level"
          ],
          [
           "blood sugar insulin level gluco",
           "insulin like drug diabet patient take take lifetim"
          ],
          [
           "blood sugar insulin level gluco",
           "low mpv count"
          ],
          [
           "blood sugar insulin level gluco",
           "tell sugar remov blood"
          ],
          [
           "blood sugar insulin level gluco",
           "substanc discov canadian save live diabet"
          ],
          [
           "blood sugar insulin level gluco",
           "calcium deposit form heel ball feet"
          ],
          [
           "blood sugar insulin level gluco",
           "iodin lower blood sugar"
          ],
          [
           "blood sugar insulin level gluco",
           "sleep effect blood sugar"
          ],
          [
           "blood sugar insulin level gluco",
           "diabet get blood finger"
          ],
          [
           "blood sugar insulin level gluco",
           "headach hypoglycemia relat"
          ],
          [
           "blood sugar insulin level gluco",
           "blood sugar rise fall intens exercis"
          ],
          [
           "blood sugar insulin level gluco",
           "diabet health counselor salari rang"
          ],
          [
           "blood sugar insulin level gluco",
           "much insulin overdos"
          ],
          [
           "blood sugar insulin level gluco",
           "exactli diabet meter"
          ],
          [
           "blood sugar insulin level gluco",
           "lipozen affect diabet"
          ],
          [
           "blood sugar insulin level gluco",
           "long liver transplant patient hospit"
          ],
          [
           "blood sugar insulin level gluco",
           "glucomet use"
          ],
          [
           "blood sugar insulin level gluco",
           "diabet affect blood sugar level"
          ],
          [
           "blood sugar insulin level gluco",
           "insulin store freezer"
          ],
          [
           "blood sugar insulin level gluco",
           "insulin first use"
          ],
          [
           "blood sugar insulin level gluco",
           "face hurt four hundr thirti blood sugar"
          ],
          [
           "blood sugar insulin level gluco",
           "fri shrimp rise blood sugar"
          ],
          [
           "blood sugar insulin level gluco",
           "nutrilit bio c diabet"
          ],
          [
           "blood sugar insulin level gluco",
           "person act drunk high blood sugar"
          ],
          [
           "blood sugar insulin level gluco",
           "good blood sugar count"
          ],
          [
           "blood sugar insulin level gluco",
           "daughter eye brain go anoth place afew second could low high blood sugar"
          ],
          [
           "blood sugar insulin level gluco",
           "normal sugar level twenti year old"
          ],
          [
           "blood sugar insulin level gluco",
           "blood glucos level one hundr thirti eight high"
          ],
          [
           "blood sugar insulin level gluco",
           "immedetli lower blood sugar"
          ],
          [
           "blood sugar insulin level gluco",
           "target organ insulin"
          ],
          [
           "blood sugar insulin level gluco",
           "die haematosi"
          ],
          [
           "blood sugar insulin level gluco",
           "much normal blood sugar diabet"
          ],
          [
           "blood sugar insulin level gluco",
           "organ use produc human insulin"
          ],
          [
           "blood sugar insulin level gluco",
           "get insulin"
          ],
          [
           "blood sugar insulin level gluco",
           "normal blood sugar rate"
          ],
          [
           "blood sugar insulin level gluco",
           "sixti low glucos read"
          ],
          [
           "blood sugar insulin level gluco",
           "lower blood glucos"
          ],
          [
           "blood sugar insulin level gluco",
           "term describ abnorm high concentr glucos blood"
          ],
          [
           "blood sugar insulin level gluco",
           "long live without liver transplant"
          ],
          [
           "blood sugar insulin level gluco",
           "mani diabet use insulin made certain bacteria abil bacteria produc insulin like result"
          ],
          [
           "blood sugar insulin level gluco",
           "nicotin increas blood sugar level affect diabet"
          ],
          [
           "blood sugar insulin level gluco",
           "ther organ secret insulin glucagon target tissu"
          ],
          [
           "blood sugar insulin level gluco",
           "insulin flammabl"
          ],
          [
           "blood sugar insulin level gluco",
           "blood test measur averag blood glucos nineti day"
          ],
          [
           "blood sugar insulin level gluco",
           "mean seven point five sugar level eat"
          ],
          [
           "blood sugar insulin level gluco",
           "cope hypertens"
          ],
          [
           "blood sugar insulin level gluco",
           "function skeleton system"
          ],
          [
           "blood sugar insulin level gluco",
           "blood sugar five hundr sixteen"
          ]
         ],
         "hovertemplate": "summary=%{customdata[0]}<br>pc_1=%{x}<br>pc_2=%{y}<br>pc_3=%{z}<br>sentence=%{customdata[1]}<extra></extra>",
         "legendgroup": "blood sugar insulin level gluco",
         "marker": {
          "color": "#EF553B",
          "size": 5,
          "symbol": "circle"
         },
         "mode": "markers",
         "name": "blood sugar insulin level gluco",
         "scene": "scene",
         "showlegend": true,
         "type": "scatter3d",
         "x": [
          11.383559226989746,
          8.195932388305664,
          9.901506423950195,
          12.388261795043945,
          8.036518096923828,
          7.1877546310424805,
          7.691762447357178,
          7.1718316078186035,
          5.929507255554199,
          7.947659015655518,
          5.884609699249268,
          12.54257583618164,
          7.275816917419434,
          11.878589630126953,
          7.425952911376953,
          8.113667488098145,
          6.672492504119873,
          5.513248443603516,
          11.449872970581055,
          9.785943984985352,
          7.117936611175537,
          5.737315654754639,
          7.230168342590332,
          6.625858783721924,
          2.4829154014587402,
          5.322059631347656,
          2.8325483798980713,
          8.502650260925293,
          3.937908887863159,
          6.63228702545166,
          7.04600191116333,
          12.062255859375,
          3.2315802574157715,
          8.621210098266602,
          12.238800048828125,
          8.517796516418457,
          12.145498275756836,
          12.360681533813477,
          3.295750379562378,
          8.445306777954102,
          6.743292808532715,
          5.407557010650635,
          3.8427834510803223,
          3.45283579826355,
          2.173393964767456,
          5.294163703918457,
          7.474014759063721,
          5.726016998291016,
          2.946805000305176,
          6.050373554229736,
          9.145880699157715,
          6.557849407196045,
          3.21712589263916,
          5.705228328704834,
          8.207426071166992,
          2.889740228652954,
          8.525188446044922,
          9.67917537689209,
          7.408281326293945,
          6.6117377281188965,
          6.212173938751221,
          7.569014549255371,
          10.37780475616455,
          6.7686848640441895,
          11.929719924926758,
          12.372236251831055,
          3.1769654750823975,
          6.9430084228515625,
          12.34765625,
          2.6128463745117188,
          2.9327077865600586,
          10.518585205078125,
          12.135251998901367,
          2.7293944358825684,
          10.162999153137207,
          11.97545337677002,
          3.7446000576019287,
          7.0326642990112305,
          7.822951316833496,
          5.640656471252441,
          6.579269886016846,
          7.152481555938721,
          2.98371958732605,
          10.618539810180664,
          7.288502216339111,
          5.942104339599609,
          3.7714717388153076,
          10.574016571044922,
          3.822061061859131,
          4.164973735809326,
          5.490839004516602,
          8.091790199279785,
          8.373212814331055,
          10.705953598022461,
          7.425612926483154,
          6.331787586212158,
          7.614861965179443,
          4.186089515686035,
          7.08251428604126,
          11.549089431762695,
          7.256319046020508,
          2.7035434246063232,
          2.841533899307251,
          3.8488686084747314,
          9.8032808303833,
          12.609354019165039,
          8.822327613830566,
          11.66077709197998,
          2.915517807006836,
          8.293558120727539,
          10.974042892456055,
          11.784197807312012,
          12.024147987365723,
          5.910518169403076,
          10.173929214477539,
          9.903982162475586,
          8.18653392791748,
          3.6960318088531494,
          8.844596862792969,
          6.050897598266602,
          3.256932258605957,
          3.919992446899414,
          11.433046340942383,
          10.712024688720703,
          9.390715599060059,
          7.4491400718688965,
          4.691628932952881,
          12.477278709411621,
          8.33978271484375,
          10.790786743164062,
          11.932469367980957,
          7.58318567276001,
          7.95805549621582,
          8.560419082641602,
          6.434886932373047,
          8.070493698120117,
          8.0424165725708,
          11.342602729797363,
          2.523150682449341,
          8.714858055114746,
          11.419739723205566,
          12.733553886413574,
          8.205066680908203,
          10.103074073791504,
          5.374065399169922,
          9.137185096740723,
          5.972077369689941,
          6.057589530944824,
          6.193800449371338,
          11.75003433227539,
          12.09017276763916,
          2.434771776199341,
          8.427671432495117,
          2.7020716667175293,
          2.4808921813964844,
          12.82702922821045,
          8.43996524810791,
          4.8049492835998535,
          6.8588128089904785,
          11.77401065826416,
          8.06212043762207,
          7.962446212768555,
          5.542962551116943,
          8.066558837890625,
          6.9962358474731445,
          5.306379795074463,
          8.434778213500977,
          8.903627395629883,
          6.202717304229736,
          12.024221420288086,
          12.112860679626465,
          2.7293951511383057,
          8.46130084991455,
          2.7754220962524414,
          10.260523796081543,
          10.82989501953125,
          6.625857830047607,
          11.733827590942383,
          5.863255023956299,
          8.299256324768066,
          11.173236846923828,
          6.033633232116699,
          4.377984046936035,
          8.567028045654297,
          12.740227699279785,
          6.256721019744873,
          2.5778472423553467,
          8.098687171936035,
          6.308832168579102,
          6.529058933258057,
          8.251465797424316,
          9.27828598022461,
          6.835419178009033,
          12.106210708618164,
          10.398816108703613,
          12.576632499694824,
          7.17991304397583,
          5.978546142578125,
          11.122442245483398,
          2.5232436656951904,
          12.708627700805664,
          7.685876846313477,
          10.65933609008789,
          10.174001693725586,
          5.70755672454834,
          8.606229782104492,
          6.275519847869873,
          2.5409128665924072,
          7.151329040527344,
          8.723899841308594,
          10.2916259765625,
          5.245263576507568,
          9.710198402404785,
          4.592236518859863,
          8.554707527160645,
          10.495861053466797,
          7.7257795333862305,
          8.427664756774902,
          7.691598892211914,
          8.646400451660156,
          3.252147912979126,
          8.090353965759277,
          7.402244567871094,
          2.801281213760376,
          5.471059322357178,
          6.017914772033691,
          12.295621871948242,
          6.7896037101745605,
          6.958861827850342,
          4.7061848640441895,
          6.285360336303711,
          7.3232102394104,
          12.22065258026123,
          12.470261573791504,
          8.620518684387207,
          2.5808005332946777,
          8.288204193115234,
          8.099806785583496,
          2.7683823108673096,
          8.785191535949707,
          6.275697708129883,
          3.942237377166748,
          2.730609893798828,
          12.504090309143066,
          7.59277868270874,
          5.858101844787598,
          12.459709167480469,
          10.377760887145996,
          2.9257009029388428,
          5.827803611755371,
          2.5603604316711426,
          8.456133842468262,
          5.681581974029541,
          12.094952583312988,
          7.276247024536133,
          12.599540710449219,
          11.143604278564453,
          6.13893461227417,
          6.6500749588012695,
          7.694743633270264,
          8.436824798583984,
          7.214691162109375
         ],
         "y": [
          2.611159563064575,
          -4.665190696716309,
          2.635128974914551,
          1.979883074760437,
          -4.95633602142334,
          -4.1515021324157715,
          -5.805402755737305,
          -5.862471103668213,
          -5.926301956176758,
          -2.6246116161346436,
          -4.508902072906494,
          1.0638951063156128,
          -4.356805801391602,
          2.62602162361145,
          -3.8215911388397217,
          -4.733251094818115,
          -3.4242260456085205,
          -4.006039619445801,
          2.660097599029541,
          2.1710293292999268,
          -3.9668047428131104,
          -4.621875286102295,
          -3.875199317932129,
          -4.324918746948242,
          -3.586268424987793,
          -4.112123489379883,
          -3.126131296157837,
          -6.039636135101318,
          -3.6587326526641846,
          -4.840686321258545,
          -3.510202169418335,
          2.285352945327759,
          -4.058053016662598,
          -5.512655258178711,
          1.4364553689956665,
          -6.61917781829834,
          1.7615903615951538,
          2.114098310470581,
          -3.179358959197998,
          -4.821854114532471,
          -3.9187216758728027,
          -3.9336092472076416,
          -3.642958164215088,
          -4.038437843322754,
          -3.700000047683716,
          -4.280512809753418,
          -3.9350898265838623,
          -4.53157901763916,
          -3.668532371520996,
          -3.808424711227417,
          3.1040570735931396,
          -3.3200929164886475,
          -3.699507713317871,
          -4.614469528198242,
          -4.042281150817871,
          -3.447657585144043,
          -4.60217809677124,
          2.916940927505493,
          -5.3537116050720215,
          -3.748730421066284,
          -5.385888576507568,
          -4.385795593261719,
          2.1196961402893066,
          -4.535188674926758,
          0.6006601452827454,
          2.173450469970703,
          -3.6112117767333984,
          -3.6932873725891113,
          2.1851766109466553,
          -3.8995754718780518,
          -3.6041505336761475,
          2.8163869380950928,
          2.2466776371002197,
          -3.6744956970214844,
          2.188041925430298,
          2.5878536701202393,
          -4.152273178100586,
          -4.409137725830078,
          -4.02325963973999,
          -5.861349582672119,
          -4.028093338012695,
          -4.302522659301758,
          -4.052363872528076,
          2.71579909324646,
          -3.7422642707824707,
          -4.436483383178711,
          -3.96764874458313,
          2.476654052734375,
          -3.7181482315063477,
          -3.1931426525115967,
          -3.4869425296783447,
          -4.376095294952393,
          -5.015746593475342,
          2.5492210388183594,
          -3.2626469135284424,
          -5.146239280700684,
          -5.8407883644104,
          -3.6846981048583984,
          -4.072054386138916,
          -0.06201668456196785,
          -4.217249870300293,
          -3.2508316040039062,
          -3.574039936065674,
          -3.8350443840026855,
          2.894406318664551,
          0.8597086071968079,
          -4.453874111175537,
          2.556128978729248,
          -3.7519309520721436,
          -4.602999687194824,
          2.024336576461792,
          2.324734687805176,
          2.4566431045532227,
          -5.916850566864014,
          2.4222195148468018,
          2.6433463096618652,
          -6.7908854484558105,
          -3.637873411178589,
          -4.441781997680664,
          -4.522830486297607,
          -2.9073987007141113,
          -3.6526341438293457,
          2.6295812129974365,
          1.9109344482421875,
          -3.790574312210083,
          -4.903908729553223,
          -4.154564380645752,
          1.2587474584579468,
          -4.73917293548584,
          2.1700780391693115,
          -0.014000099152326584,
          -5.866296768188477,
          -4.048505783081055,
          -4.561483860015869,
          -4.084051609039307,
          -4.458960056304932,
          -5.256921291351318,
          2.8992390632629395,
          -3.5874576568603516,
          -5.867780685424805,
          2.6132853031158447,
          0.5720774531364441,
          -4.338583946228027,
          2.2034313678741455,
          -3.786892890930176,
          2.386589527130127,
          -2.7360658645629883,
          -3.125349283218384,
          -5.979118824005127,
          2.0516300201416016,
          2.394923210144043,
          -3.5844666957855225,
          -5.947554588317871,
          -3.853471517562866,
          -3.7769346237182617,
          0.5497699975967407,
          -6.419075965881348,
          -3.7632968425750732,
          -4.786919593811035,
          0.17563261091709137,
          -4.464471340179443,
          -4.157777309417725,
          -4.021866798400879,
          -5.111618995666504,
          -4.541931629180908,
          -3.973090410232544,
          -4.288714408874512,
          -4.3606462478637695,
          -5.357110977172852,
          2.391676187515259,
          3.1822621822357178,
          -3.67449688911438,
          -4.7357611656188965,
          -3.5977489948272705,
          1.7216960191726685,
          2.6140716075897217,
          -4.324918746948242,
          2.5264711380004883,
          -5.967492580413818,
          -4.50651741027832,
          2.941422700881958,
          -2.824631929397583,
          -3.7662250995635986,
          -4.4988179206848145,
          0.6247841119766235,
          -3.8481719493865967,
          -3.6942965984344482,
          -4.368212699890137,
          -3.9607317447662354,
          -4.229268550872803,
          -4.4321794509887695,
          -3.9344475269317627,
          -5.472778797149658,
          2.332101345062256,
          2.282304048538208,
          1.0631169080734253,
          -3.368443489074707,
          -5.95764684677124,
          2.6444272994995117,
          -3.735381841659546,
          0.6322093605995178,
          -4.043844223022461,
          1.9628503322601318,
          2.4233717918395996,
          -6.00078010559082,
          -5.618503570556641,
          -3.0208182334899902,
          -2.9871044158935547,
          -4.493683815002441,
          -5.907771110534668,
          2.576669931411743,
          -4.106794834136963,
          2.736100673675537,
          -3.9411356449127197,
          -6.953514575958252,
          2.234208106994629,
          -4.835911273956299,
          -5.947561264038086,
          -4.45766544342041,
          -5.759355068206787,
          -4.031772136688232,
          -5.213950157165527,
          -4.70166015625,
          -3.5977673530578613,
          -5.941405296325684,
          -5.166519641876221,
          1.9803420305252075,
          -5.766340732574463,
          -3.70926570892334,
          -4.171417713165283,
          -4.439430236816406,
          -5.589670181274414,
          2.007906198501587,
          1.4640370607376099,
          -7.013587474822998,
          -3.0303494930267334,
          -4.755407810211182,
          -5.151050090789795,
          -3.3966081142425537,
          -5.978199481964111,
          -5.948723316192627,
          -3.642226219177246,
          -3.9509377479553223,
          1.7245174646377563,
          -4.106319427490234,
          -5.897598743438721,
          1.6535035371780396,
          2.119687795639038,
          -3.789720058441162,
          -4.056213855743408,
          -2.8922064304351807,
          -6.470882415771484,
          -6.012825965881348,
          1.7039862871170044,
          -4.405686378479004,
          0.8370268940925598,
          2.6489930152893066,
          -4.280296325683594,
          -4.341597557067871,
          -4.058159351348877,
          -4.4634881019592285,
          -4.838306427001953
         ],
         "z": [
          -2.4732861518859863,
          -6.288673400878906,
          -1.0485661029815674,
          -5.294754505157471,
          -10.616159439086914,
          0.43805116415023804,
          -9.53770637512207,
          -8.301915168762207,
          -8.171765327453613,
          -0.7426765561103821,
          -4.2134904861450195,
          -6.866159915924072,
          0.6040082573890686,
          -3.350292921066284,
          -1.9687349796295166,
          -10.981532096862793,
          -0.22969922423362732,
          -13.811543464660645,
          -2.856959581375122,
          0.15315213799476624,
          0.9976743459701538,
          -12.158475875854492,
          -1.6555074453353882,
          -4.529804706573486,
          -15.761434555053711,
          -13.607922554016113,
          -7.398125171661377,
          -7.232858180999756,
          -15.009017944335938,
          -11.7970609664917,
          0.0842650830745697,
          -3.9372925758361816,
          -11.808162689208984,
          -4.094417572021484,
          -6.2810893058776855,
          -9.12358570098877,
          -5.865322113037109,
          -5.092144966125488,
          -6.609670162200928,
          -9.070205688476562,
          -1.935388207435608,
          -14.246846199035645,
          -14.9534273147583,
          -11.883628845214844,
          -10.96893310546875,
          -12.554994583129883,
          -2.068758487701416,
          -4.496332168579102,
          -8.54591178894043,
          -12.442374229431152,
          -1.2551846504211426,
          -1.013346791267395,
          -13.841080665588379,
          -4.844882011413574,
          -4.389387607574463,
          -8.06761360168457,
          -7.986365795135498,
          -1.9904438257217407,
          -10.392125129699707,
          -1.5645170211791992,
          -10.899556159973145,
          -12.793294906616211,
          0.021999267861247063,
          -12.499689102172852,
          -7.214254379272461,
          -4.774772644042969,
          -15.56132698059082,
          -1.79226815700531,
          -4.803170680999756,
          -10.921525001525879,
          -15.50005054473877,
          -2.8234407901763916,
          -4.889553070068359,
          -13.809314727783203,
          0.00320910825394094,
          -3.722074031829834,
          -11.665494918823242,
          -12.851519584655762,
          -13.997681617736816,
          -8.163135528564453,
          -5.893713474273682,
          -0.6708018183708191,
          -11.187247276306152,
          -3.2592833042144775,
          0.4032302796840668,
          -12.551419258117676,
          -12.522910118103027,
          -0.8741325736045837,
          -13.274093627929688,
          -11.987797737121582,
          -13.397048950195312,
          -6.046936511993408,
          -9.9535493850708,
          -1.2151073217391968,
          -1.1077677011489868,
          -11.282837867736816,
          -9.56722640991211,
          -13.994026184082031,
          0.8533825874328613,
          -7.6069722175598145,
          -4.292022705078125,
          -7.969106197357178,
          -8.526050567626953,
          -13.322011947631836,
          -2.48545503616333,
          -7.180976390838623,
          -10.020953178405762,
          -2.9661242961883545,
          -12.885771751403809,
          -6.615622520446777,
          -5.566685676574707,
          -4.693729877471924,
          -3.901353120803833,
          -9.671429634094238,
          -0.5063289403915405,
          -4.725656986236572,
          -6.7247724533081055,
          -12.748242378234863,
          -10.15442943572998,
          -3.966597318649292,
          -13.860723495483398,
          -15.055004119873047,
          -2.807190179824829,
          0.17370478808879852,
          -9.921951293945312,
          -6.766939640045166,
          -12.36856460571289,
          -6.563694477081299,
          -5.973106384277344,
          -5.2678422927856445,
          -7.800790309906006,
          -8.010600090026855,
          -13.861101150512695,
          -10.610007286071777,
          -14.091851234436035,
          -4.7207932472229,
          -7.956095218658447,
          -2.8414506912231445,
          -15.701094627380371,
          -3.8664777278900146,
          -2.3648521900177,
          -7.6297712326049805,
          -4.283024311065674,
          -0.0037690114695578814,
          -13.363860130310059,
          -0.24075336754322052,
          -1.0084725618362427,
          -1.1905953884124756,
          -8.731229782104492,
          -2.1992740631103516,
          -4.186882495880127,
          -15.738821029663086,
          -7.361443042755127,
          -9.954718589782715,
          -10.149882316589355,
          -7.714174747467041,
          -9.09554672241211,
          -15.040093421936035,
          -11.859576225280762,
          -7.5192790031433105,
          -5.590818881988525,
          -4.350203037261963,
          -14.052056312561035,
          -10.153739929199219,
          -12.453031539916992,
          -14.11051082611084,
          -4.430483818054199,
          -10.03432846069336,
          -10.877018928527832,
          -3.8729686737060547,
          -2.4933934211730957,
          -13.809316635131836,
          -8.279860496520996,
          -15.647331237792969,
          -5.67929220199585,
          -1.4530845880508423,
          -4.529806613922119,
          -3.0936546325683594,
          -8.816868782043457,
          -5.027460098266602,
          -2.619401693344116,
          -0.9104524254798889,
          -14.267431259155273,
          -7.683535575866699,
          -7.565893173217773,
          -13.485082626342773,
          -13.423819541931152,
          -5.479461193084717,
          -13.783658027648926,
          -3.4230458736419678,
          -6.902941703796387,
          -9.816104888916016,
          -7.508387565612793,
          -3.7403340339660645,
          -0.24242065846920013,
          -6.885464191436768,
          -1.415406584739685,
          -9.187241554260254,
          -1.9052917957305908,
          -13.023160934448242,
          -7.534620761871338,
          -13.955928802490234,
          -5.47326135635376,
          -0.5062519311904907,
          -9.548643112182617,
          -3.855966091156006,
          -0.6051705479621887,
          -7.67413330078125,
          -2.9157841205596924,
          -4.061628818511963,
          -4.2185516357421875,
          -12.914584159851074,
          -1.951987385749817,
          -13.444746017456055,
          -8.03718376159668,
          -5.063991069793701,
          -6.890721321105957,
          -7.361437797546387,
          -4.1085052490234375,
          -3.557169198989868,
          -11.949336051940918,
          -9.44813346862793,
          0.36857184767723083,
          -15.62966251373291,
          -9.079305648803711,
          -11.228260040283203,
          -4.893892765045166,
          -8.328439712524414,
          -0.38209041953086853,
          -12.639763832092285,
          -12.74374771118164,
          -9.968420028686523,
          -4.837163925170898,
          -6.253978252410889,
          -8.260786056518555,
          -7.692414283752441,
          -4.628650188446045,
          -10.084433555603027,
          -8.208442687988281,
          -3.9923148155212402,
          -9.210978507995605,
          -14.939043998718262,
          -10.683250427246094,
          -5.798923015594482,
          -2.552442789077759,
          -9.76512336730957,
          -5.863407135009766,
          0.02202986367046833,
          -12.668498992919922,
          -13.905336380004883,
          -7.417239665985107,
          -9.250500679016113,
          -9.19914722442627,
          -5.786319255828857,
          -1.4419430494308472,
          -7.208856105804443,
          -1.9462857246398926,
          -13.161685943603516,
          -5.276340007781982,
          -2.3402762413024902,
          -6.554774761199951,
          -11.59022045135498
         ]
        },
        {
         "customdata": [
          [
           "diet food eat type find",
           "onlin find good diabet meal plan"
          ],
          [
           "diet food eat type find",
           "food peopl diabet type one type two avoid"
          ],
          [
           "diet food eat type find",
           "postal worker diabet"
          ],
          [
           "diet food eat type find",
           "peopl diabet eat dark chocol"
          ],
          [
           "diet food eat type find",
           "cinnamon help diabet"
          ],
          [
           "diet food eat type find",
           "dessert diabet enjoy"
          ],
          [
           "diet food eat type find",
           "tobacoo harm diabet man"
          ],
          [
           "diet food eat type find",
           "pantyhos benefit diabet men"
          ],
          [
           "diet food eat type find",
           "diabet food eat"
          ],
          [
           "diet food eat type find",
           "type two diabet diet"
          ],
          [
           "diet food eat type find",
           "mani gram sugar limit daili"
          ],
          [
           "diet food eat type find",
           "research done valerian"
          ],
          [
           "diet food eat type find",
           "find diabet food list"
          ],
          [
           "diet food eat type find",
           "diabet friendli food"
          ],
          [
           "diet food eat type find",
           "great tast food diabet"
          ],
          [
           "diet food eat type find",
           "ever cure type one two diabet"
          ],
          [
           "diet food eat type find",
           "food avoid diabet person"
          ],
          [
           "diet food eat type find",
           "diabet seriou health issu"
          ],
          [
           "diet food eat type find",
           "inform sugar diet found"
          ],
          [
           "diet food eat type find",
           "sugar beer wine"
          ],
          [
           "diet food eat type find",
           "diabet drink beer"
          ],
          [
           "diet food eat type find",
           "healthi tip diabet"
          ],
          [
           "diet food eat type find",
           "cookbook diabet"
          ],
          [
           "diet food eat type find",
           "diabet eat sugar"
          ],
          [
           "diet food eat type find",
           "okay diabet eat chees"
          ],
          [
           "diet food eat type find",
           "ingredi avoid make diabet cooki recip"
          ],
          [
           "diet food eat type find",
           "best natur diabet treatment"
          ],
          [
           "diet food eat type find",
           "diabet test suppli mail"
          ],
          [
           "diet food eat type find",
           "best way type capit sentenc"
          ],
          [
           "diet food eat type find",
           "diabet fli delta"
          ],
          [
           "diet food eat type find",
           "diet exercis help revers diabet"
          ],
          [
           "diet food eat type find",
           "involv treatment diabet"
          ],
          [
           "diet food eat type find",
           "yogurt good diabet"
          ],
          [
           "diet food eat type find",
           "get exampl diabet food"
          ],
          [
           "diet food eat type find",
           "find free diabet diet book"
          ],
          [
           "diet food eat type find",
           "good desert diabet"
          ],
          [
           "diet food eat type find",
           "scientist make educ guess diabet caus genet factor guess exampl"
          ],
          [
           "diet food eat type find",
           "treatment diabet"
          ],
          [
           "diet food eat type find",
           "vitamin diabet"
          ],
          [
           "diet food eat type find",
           "find recip free diabet diet"
          ],
          [
           "diet food eat type find",
           "diabet eat cake"
          ],
          [
           "diet food eat type find",
           "group oliv assign food exchang list"
          ],
          [
           "diet food eat type find",
           "diabet menu"
          ],
          [
           "diet food eat type find",
           "best bread eat"
          ],
          [
           "diet food eat type find",
           "diabet meal plan servic"
          ],
          [
           "diet food eat type find",
           "one follow choic best way control type ii diabet"
          ],
          [
           "diet food eat type find",
           "effect posit commun recoveri diabet patient pgh"
          ],
          [
           "diet food eat type find",
           "diabet diet food list"
          ],
          [
           "diet food eat type find",
           "prevent type two diabet"
          ],
          [
           "diet food eat type find",
           "delici diabet carrot cake"
          ],
          [
           "diet food eat type find",
           "eat lunch dinner okay ham diabet"
          ],
          [
           "diet food eat type find",
           "banana bad type two diabet"
          ],
          [
           "diet food eat type find",
           "find good nutrit"
          ],
          [
           "diet food eat type find",
           "good recip diabet use make carrot cake"
          ],
          [
           "diet food eat type find",
           "hire diabet meal planner"
          ],
          [
           "diet food eat type find",
           "three way prevent seriou ill heart diseas cancer diabet stroke"
          ],
          [
           "diet food eat type find",
           "one find inform concern diabet diet"
          ],
          [
           "diet food eat type find",
           "diet plan use type one type two diabet"
          ],
          [
           "diet food eat type find",
           "would someon subscrib magazin diabet care"
          ],
          [
           "diet food eat type find",
           "diabet recip cake"
          ],
          [
           "diet food eat type find",
           "food high sugar"
          ],
          [
           "diet food eat type find",
           "go onlin find inform diabet recip"
          ],
          [
           "diet food eat type find",
           "type food bad diabet"
          ],
          [
           "diet food eat type find",
           "diabet best stay away form starchi food eat"
          ],
          [
           "diet food eat type find",
           "ohio medicaid cover gastric bypass surgeri"
          ],
          [
           "diet food eat type find",
           "good diabet patient"
          ],
          [
           "diet food eat type find",
           "whole food store sell healthi food diabet"
          ],
          [
           "diet food eat type find",
           "type food list diabet type non diabet food buy"
          ],
          [
           "diet food eat type find",
           "safe diabet work alon"
          ],
          [
           "diet food eat type find",
           "kind treatment diabet eye problem"
          ],
          [
           "diet food eat type find",
           "purchas copi best menu diabet diet guidelin"
          ],
          [
           "diet food eat type find",
           "food lower high blood sugar quickli"
          ],
          [
           "diet food eat type find",
           "list food yeast"
          ],
          [
           "diet food eat type find",
           "one purchas shoe diabet"
          ],
          [
           "diet food eat type find",
           "diabet nutrit includ dessert"
          ],
          [
           "diet food eat type find",
           "happen person blood sugar level soon eat meal contain carbohydr"
          ],
          [
           "diet food eat type find",
           "christma cooki recip diabet"
          ],
          [
           "diet food eat type find",
           "find recip sugar free dessert"
          ],
          [
           "diet food eat type find",
           "best diabet medic"
          ],
          [
           "diet food eat type find",
           "glycem index number mean"
          ],
          [
           "diet food eat type find",
           "fuction american diabet associ"
          ],
          [
           "diet food eat type find",
           "tip diabet manag"
          ],
          [
           "diet food eat type find",
           "diabet diet chart"
          ],
          [
           "diet food eat type find",
           "food carri healthi diabet nurtrit"
          ],
          [
           "diet food eat type find",
           "best food eat diabet avoid"
          ],
          [
           "diet food eat type find",
           "cinnamon cure diabet"
          ],
          [
           "diet food eat type find",
           "candi diet type two diabet"
          ],
          [
           "diet food eat type find",
           "use hemoglucotest"
          ],
          [
           "diet food eat type find",
           "much emerg stash diabet suppli keep hand"
          ],
          [
           "diet food eat type find",
           "diabet diet recip benefici"
          ],
          [
           "diet food eat type find",
           "scientist make educ guess diabet caus genet factor guess exampl"
          ],
          [
           "diet food eat type find",
           "food diabet avoid"
          ],
          [
           "diet food eat type find",
           "import aspect treatment diabet mellitu"
          ],
          [
           "diet food eat type find",
           "diet help treat diabet obes"
          ],
          [
           "diet food eat type find",
           "doctor weight loss plan"
          ],
          [
           "diet food eat type find",
           "write school research paper diabet"
          ],
          [
           "diet food eat type find",
           "nutrisystem diabet diet harm diabet"
          ],
          [
           "diet food eat type find",
           "herb known lower blood sugar"
          ],
          [
           "diet food eat type find",
           "food low sugar"
          ],
          [
           "diet food eat type find",
           "dietari supplement taken help reduc diabet"
          ],
          [
           "diet food eat type find",
           "good diabet"
          ],
          [
           "diet food eat type find",
           "type food diabet meant eat"
          ],
          [
           "diet food eat type find",
           "diabet food avoid"
          ],
          [
           "diet food eat type find",
           "resourc option creat diabet menu"
          ],
          [
           "diet food eat type find",
           "diabet eat carb"
          ],
          [
           "diet food eat type find",
           "diabet cure without medicin"
          ],
          [
           "diet food eat type find",
           "one avoid adult onset diabet"
          ],
          [
           "diet food eat type find",
           "diabet eat bean"
          ],
          [
           "diet food eat type find",
           "role diet exercis control hypertens diabet"
          ],
          [
           "diet food eat type find",
           "type diet recommend type two diabet"
          ],
          [
           "diet food eat type find",
           "signific diabet weight loss person diet tri lose weight"
          ],
          [
           "diet food eat type find",
           "passion fruit cure diabet"
          ],
          [
           "diet food eat type find",
           "current treatment diabet"
          ],
          [
           "diet food eat type find",
           "pre diabet diet"
          ],
          [
           "diet food eat type find",
           "find onlin cookbook diabet"
          ],
          [
           "diet food eat type find",
           "could one find list food suitabl diabet"
          ],
          [
           "diet food eat type find",
           "thing diabet cooki recip"
          ],
          [
           "diet food eat type find",
           "allow sugar intak day diabet"
          ],
          [
           "diet food eat type find",
           "simpl diet plan incorpor diabet"
          ],
          [
           "diet food eat type find",
           "diabet cake recip allrecipescom"
          ],
          [
           "diet food eat type find",
           "malt drink ok diabet"
          ],
          [
           "diet food eat type find",
           "diabet eat molass rich juic"
          ],
          [
           "diet food eat type find",
           "jona brother free ticket diabet"
          ],
          [
           "diet food eat type find",
           "diabet treatment requir convent medicin"
          ],
          [
           "diet food eat type find",
           "good food diabet"
          ],
          [
           "diet food eat type find",
           "diabet treat psychic heal"
          ],
          [
           "diet food eat type find",
           "realli good chile recip desert"
          ],
          [
           "diet food eat type find",
           "safe diabet bypass surgeri"
          ],
          [
           "diet food eat type find",
           "cancer curabl"
          ],
          [
           "diet food eat type find",
           "fresh fruit veggi limit diabet"
          ],
          [
           "diet food eat type find",
           "sweet substanc use diet diabet slimmer"
          ],
          [
           "diet food eat type find",
           "peopl get diabet diet plan"
          ],
          [
           "diet food eat type find",
           "eat fruit veget low carb diet"
          ],
          [
           "diet food eat type find",
           "easi dessert recip diabet"
          ],
          [
           "diet food eat type find",
           "choos food diabet"
          ],
          [
           "diet food eat type find",
           "recip diabet diet"
          ],
          [
           "diet food eat type find",
           "diabet peopl eat margarin"
          ],
          [
           "diet food eat type find",
           "find good sugar diabet diet"
          ],
          [
           "diet food eat type find",
           "happen diabet treatment"
          ],
          [
           "diet food eat type find",
           "diabet cure diet exercis"
          ],
          [
           "diet food eat type find",
           "diabet nutrit"
          ],
          [
           "diet food eat type find",
           "indonesian herb use treat diabet"
          ],
          [
           "diet food eat type find",
           "diabet shoe purchas singapor"
          ],
          [
           "diet food eat type find",
           "treatment medic diabet"
          ],
          [
           "diet food eat type find",
           "natur food reduc diabet"
          ],
          [
           "diet food eat type find",
           "diabet drink beer"
          ],
          [
           "diet food eat type find",
           "find meal plan someon diabet"
          ],
          [
           "diet food eat type find",
           "much money certifi diabet educ earn"
          ],
          [
           "diet food eat type find",
           "might find menu diabet diet use food prepar easili home"
          ],
          [
           "diet food eat type find",
           "diabet take vitamin b complex"
          ],
          [
           "diet food eat type find",
           "cat diabet eat die"
          ],
          [
           "diet food eat type find",
           "treatment diabet neuropathi"
          ],
          [
           "diet food eat type find",
           "five food carb"
          ],
          [
           "diet food eat type find",
           "sugar doctor diabet doctor"
          ],
          [
           "diet food eat type find",
           "best fruit diabet patient"
          ],
          [
           "diet food eat type find",
           "buy diabet product pharmaci"
          ],
          [
           "diet food eat type find",
           "easi stick diet diabet"
          ],
          [
           "diet food eat type find",
           "consid diabet eat"
          ],
          [
           "diet food eat type find",
           "treat cure diabet"
          ],
          [
           "diet food eat type find",
           "sampl menu diabet recip"
          ],
          [
           "diet food eat type find",
           "natur way cure blood sugar level"
          ],
          [
           "diet food eat type find",
           "good dessert recip diabet"
          ],
          [
           "diet food eat type find",
           "vitamin allow diabet patient"
          ],
          [
           "diet food eat type find",
           "latest nutrit guid diabet"
          ],
          [
           "diet food eat type find",
           "eat bring blood sugar"
          ],
          [
           "diet food eat type find",
           "find inform diabet snack"
          ],
          [
           "diet food eat type find",
           "kind pasta diabet person eat"
          ],
          [
           "diet food eat type find",
           "im borderlin diabet eat cake might consequ"
          ],
          [
           "diet food eat type find",
           "cinnamon help control blood sugar"
          ],
          [
           "diet food eat type find",
           "good diet someon suffer diabet nephropathi"
          ],
          [
           "diet food eat type find",
           "person diabet diabet surgeri surgeri"
          ],
          [
           "diet food eat type find",
           "diabet movi isteel magnolia"
          ],
          [
           "diet food eat type find",
           "find free diabet recip"
          ],
          [
           "diet food eat type find",
           "one buy diabet support sock"
          ],
          [
           "diet food eat type find",
           "diabet amount carb eat per day"
          ],
          [
           "diet food eat type find",
           "food healthi appeal diabet"
          ],
          [
           "diet food eat type find",
           "specif type one diabet diet"
          ],
          [
           "diet food eat type find",
           "food avoid diabet food benefici health"
          ],
          [
           "diet food eat type find",
           "one find info diet diabet"
          ],
          [
           "diet food eat type find",
           "tradjenta"
          ],
          [
           "diet food eat type find",
           "one contact american diabet associ"
          ],
          [
           "diet food eat type find",
           "starch good diabet peopl"
          ],
          [
           "diet food eat type find",
           "simpl recip found diabet menu"
          ],
          [
           "diet food eat type find",
           "veget diabet eat"
          ],
          [
           "diet food eat type find",
           "requir diabet wear medic alert bracelet"
          ],
          [
           "diet food eat type find",
           "cure diabet"
          ],
          [
           "diet food eat type find",
           "diabet recip web"
          ],
          [
           "diet food eat type find",
           "list slang colloqui word diabet"
          ],
          [
           "diet food eat type find",
           "type food need add diet diabet"
          ],
          [
           "diet food eat type find",
           "allow eat drink one sugar diabet"
          ],
          [
           "diet food eat type find",
           "top brand diabet suppli"
          ],
          [
           "diet food eat type find",
           "sugar conent banana"
          ],
          [
           "diet food eat type find",
           "cure diabet"
          ],
          [
           "diet food eat type find",
           "te ideal diet diabet patient"
          ],
          [
           "diet food eat type find",
           "diabet eat peanut"
          ],
          [
           "diet food eat type find",
           "educ requir diabet health counselor"
          ],
          [
           "diet food eat type find",
           "chees eat diabet"
          ],
          [
           "diet food eat type find",
           "cure diabet"
          ],
          [
           "diet food eat type find",
           "fruit contain sugar bad diabet patient"
          ],
          [
           "diet food eat type find",
           "diabet eat fruit"
          ],
          [
           "diet food eat type find",
           "fructos better granul sugar diabet"
          ],
          [
           "diet food eat type find",
           "find food diabet avoid"
          ],
          [
           "diet food eat type find",
           "good diet plan diabet"
          ],
          [
           "diet food eat type find",
           "fruit diabet person eat"
          ],
          [
           "diet food eat type find",
           "need balanc diet"
          ],
          [
           "diet food eat type find",
           "compani offer free diabet test suppli"
          ],
          [
           "diet food eat type find",
           "good diabet dessert recip"
          ],
          [
           "diet food eat type find",
           "diet diabet"
          ],
          [
           "diet food eat type find",
           "hormon control suppli sugar blood muscl"
          ],
          [
           "diet food eat type find",
           "snack still diabet mellitu"
          ],
          [
           "diet food eat type find",
           "healthiest sweetest diabet pound cake recip"
          ],
          [
           "diet food eat type find",
           "cure diabet"
          ],
          [
           "diet food eat type find",
           "mani gram sugar day diebet"
          ],
          [
           "diet food eat type find",
           "best diet type two diabet"
          ],
          [
           "diet food eat type find",
           "prevent diabet two"
          ],
          [
           "diet food eat type find",
           "buy diabet cookbook"
          ],
          [
           "diet food eat type find",
           "daili food eat"
          ],
          [
           "diet food eat type find",
           "diabet meal plan"
          ],
          [
           "diet food eat type find",
           "effect carb diet diabet"
          ],
          [
           "diet food eat type find",
           "glucosamin safe diabet patient"
          ],
          [
           "diet food eat type find",
           "natur remedi diabet"
          ],
          [
           "diet food eat type find",
           "indulg tasti snack diabet"
          ],
          [
           "diet food eat type find",
           "pasta good diabet"
          ],
          [
           "diet food eat type find",
           "item breakfast diabet"
          ],
          [
           "diet food eat type find",
           "good diet type two diabet"
          ],
          [
           "diet food eat type find",
           "best choic diabet food"
          ],
          [
           "diet food eat type find",
           "cure diabet fruit"
          ],
          [
           "diet food eat type find",
           "would good diabet diet someon diabet"
          ],
          [
           "diet food eat type find",
           "diabet diet follow"
          ],
          [
           "diet food eat type find",
           "diabet diet"
          ],
          [
           "diet food eat type find",
           "diabet person eat appl"
          ],
          [
           "diet food eat type find",
           "onlin find glycem index chart"
          ],
          [
           "diet food eat type find",
           "buy diabet test suppli"
          ],
          [
           "diet food eat type find",
           "best diet diabet"
          ],
          [
           "diet food eat type find",
           "diabet eat regular interv"
          ],
          [
           "diet food eat type find",
           "gener rule diet diabet"
          ],
          [
           "diet food eat type find",
           "lettuc good diabet"
          ],
          [
           "diet food eat type find",
           "long till cure type two diabet"
          ],
          [
           "diet food eat type find",
           "good diabet breakfast"
          ],
          [
           "diet food eat type find",
           "iu measur vitamin e translat mcg mg"
          ],
          [
           "diet food eat type find",
           "cure type two diabet"
          ],
          [
           "diet food eat type find",
           "doctor control diabet"
          ],
          [
           "diet food eat type find",
           "strict diet need diabet"
          ],
          [
           "diet food eat type find",
           "diabet eat kosher hot dog"
          ],
          [
           "diet food eat type find",
           "ok smoke marijuana diabet"
          ],
          [
           "diet food eat type find",
           "get diabet meal recip"
          ],
          [
           "diet food eat type find",
           "peopl diabet eat"
          ],
          [
           "diet food eat type find",
           "oil base food good women"
          ],
          [
           "diet food eat type find",
           "food allow diabet food list"
          ],
          [
           "diet food eat type find",
           "reput diabet cookbook purchas onlin"
          ],
          [
           "diet food eat type find",
           "mani carbohydr type one diabet eat day"
          ],
          [
           "diet food eat type find",
           "find sampl diabet diet"
          ],
          [
           "diet food eat type find",
           "ingredi make reliv least diabet high blood pressur high cholesterol"
          ],
          [
           "diet food eat type find",
           "food bad diabet"
          ],
          [
           "diet food eat type find",
           "supplement diabet"
          ],
          [
           "diet food eat type find",
           "find inform cereal diabet"
          ],
          [
           "diet food eat type find",
           "best wine diabet"
          ],
          [
           "diet food eat type find",
           "import qualiti diabet suppli"
          ],
          [
           "diet food eat type find",
           "websit help find diabet dtour diet"
          ],
          [
           "diet food eat type find",
           "illeg diabet eat sugar"
          ],
          [
           "diet food eat type find",
           "control diabit"
          ],
          [
           "diet food eat type find",
           "treatment type one diabet"
          ],
          [
           "diet food eat type find",
           "peopl diabet eat protein"
          ],
          [
           "diet food eat type find",
           "cookbook good diabet cooki recip"
          ],
          [
           "diet food eat type find",
           "makabuhay plant realli caus diabet"
          ],
          [
           "diet food eat type find",
           "find recip book diabet diet"
          ],
          [
           "diet food eat type find",
           "wwhat fruit cure diabet"
          ],
          [
           "diet food eat type find",
           "diabet treatment"
          ],
          [
           "diet food eat type find",
           "vitamin get rid diabet"
          ],
          [
           "diet food eat type find",
           "cure dibeti"
          ],
          [
           "diet food eat type find",
           "peopl diabet allow eat chocol"
          ],
          [
           "diet food eat type find",
           "meal diabet"
          ],
          [
           "diet food eat type find",
           "treatment type one diabet"
          ],
          [
           "diet food eat type find",
           "find list food pantri arkansa"
          ]
         ],
         "hovertemplate": "summary=%{customdata[0]}<br>pc_1=%{x}<br>pc_2=%{y}<br>pc_3=%{z}<br>sentence=%{customdata[1]}<extra></extra>",
         "legendgroup": "diet food eat type find",
         "marker": {
          "color": "#00cc96",
          "size": 5,
          "symbol": "circle"
         },
         "mode": "markers",
         "name": "diet food eat type find",
         "scene": "scene",
         "showlegend": true,
         "type": "scatter3d",
         "x": [
          -9.147516250610352,
          -5.424528121948242,
          -8.714133262634277,
          -9.578458786010742,
          -7.290746688842773,
          -11.056755065917969,
          -7.335314750671387,
          -7.210241794586182,
          -10.973299026489258,
          -10.16416072845459,
          -5.467738628387451,
          -6.224743843078613,
          -8.75582218170166,
          -9.772758483886719,
          -9.482666015625,
          -5.667390823364258,
          -9.839472770690918,
          -4.78617000579834,
          -5.631089687347412,
          -2.2070860862731934,
          -5.277472972869873,
          -9.30580997467041,
          -10.87594985961914,
          -8.784873962402344,
          -5.123605251312256,
          -7.1649322509765625,
          -5.570022106170654,
          -3.812520980834961,
          -5.3773884773254395,
          -7.678071975708008,
          -10.436511039733887,
          -4.83073616027832,
          -7.006417274475098,
          -5.51627254486084,
          -8.956113815307617,
          -10.167112350463867,
          -11.659697532653809,
          -9.159503936767578,
          -6.663825035095215,
          -5.6090006828308105,
          -11.31984806060791,
          -10.50096607208252,
          -11.413076400756836,
          -7.143553256988525,
          -9.58934211730957,
          -5.341126441955566,
          -7.46613883972168,
          -7.404297828674316,
          -5.281982898712158,
          -10.930821418762207,
          -7.889613628387451,
          -4.478643894195557,
          -8.909751892089844,
          -7.667591094970703,
          -10.269840240478516,
          -9.060948371887207,
          -10.983946800231934,
          -9.235063552856445,
          -5.016505241394043,
          -6.408764839172363,
          -4.095755577087402,
          -7.105897426605225,
          -4.257887840270996,
          -10.512533187866211,
          -1.9524915218353271,
          -4.278325080871582,
          -10.821401596069336,
          -10.920186042785645,
          -2.0122830867767334,
          -10.10752010345459,
          -8.158514976501465,
          -3.7573959827423096,
          -10.8418550491333,
          -9.142436027526855,
          -8.529706001281738,
          -1.7048271894454956,
          -7.953452110290527,
          -6.714900016784668,
          -0.9254814982414246,
          -5.518914222717285,
          -5.730495929718018,
          -7.9339423179626465,
          -9.240267753601074,
          -5.491218090057373,
          -9.859517097473145,
          -6.517160415649414,
          -11.126381874084473,
          -5.3227643966674805,
          -9.724886894226074,
          -6.289735317230225,
          -11.659697532653809,
          -10.56332778930664,
          -9.984947204589844,
          -9.974963188171387,
          -8.287460327148438,
          -6.967998504638672,
          -7.845275402069092,
          -3.1247031688690186,
          -3.2021079063415527,
          -4.391403675079346,
          -4.87495756149292,
          -4.683403968811035,
          -10.411073684692383,
          -6.958565711975098,
          -10.808048248291016,
          -10.20573902130127,
          -6.795594215393066,
          -9.502065658569336,
          -5.702887058258057,
          -10.271462440490723,
          -6.527655601501465,
          -7.213177680969238,
          -9.110272407531738,
          -11.095147132873535,
          -8.369183540344238,
          -8.336938858032227,
          -8.179215431213379,
          -5.3205156326293945,
          -10.067134857177734,
          -7.469546318054199,
          -4.814449787139893,
          -10.849089622497559,
          -6.477479457855225,
          -7.425952434539795,
          -10.218390464782715,
          -7.8242573738098145,
          -7.437880516052246,
          -2.63214373588562,
          -2.3074920177459717,
          -9.36298656463623,
          -4.642762184143066,
          -7.024109363555908,
          -10.18875789642334,
          -5.843217849731445,
          -9.317789077758789,
          -8.480997085571289,
          -5.134378433227539,
          -8.65478515625,
          -4.823179721832275,
          -10.424562454223633,
          -10.788677215576172,
          -8.630208015441895,
          -9.804128646850586,
          -4.946473121643066,
          -8.157645225524902,
          -5.277469158172607,
          -8.568467140197754,
          -8.08474349975586,
          -9.380996704101562,
          -4.924156665802002,
          -5.465548515319824,
          -6.394221305847168,
          -9.845746994018555,
          -2.7100048065185547,
          -10.357980728149414,
          -2.8823599815368652,
          -10.009095191955566,
          -5.11176872253418,
          -9.38180923461914,
          -7.192293167114258,
          -3.4576520919799805,
          -5.687480449676514,
          -10.391966819763184,
          -9.214305877685547,
          -3.146705150604248,
          -11.004776000976562,
          -6.169574737548828,
          -8.59506893157959,
          -8.47712516784668,
          -5.663792610168457,
          -3.844630002975464,
          -2.4486138820648193,
          -7.290467262268066,
          -7.665027141571045,
          -10.6875581741333,
          -7.479557514190674,
          -11.90024471282959,
          -9.792061805725098,
          -10.682802200317383,
          -2.7769534587860107,
          -6.826090335845947,
          -9.975090026855469,
          -8.176749229431152,
          -7.628501892089844,
          -8.592696189880371,
          -10.874810218811035,
          -7.330569744110107,
          -4.602372646331787,
          -11.681122779846191,
          -4.540804386138916,
          -10.543710708618164,
          -5.274808883666992,
          -10.873686790466309,
          -9.296343803405762,
          -11.172624588012695,
          -5.367350101470947,
          -10.05825138092041,
          -10.875746726989746,
          -3.9434597492218018,
          -10.302510261535645,
          -5.606316089630127,
          -9.395121574401855,
          -6.874775409698486,
          -9.289982795715332,
          -10.331412315368652,
          -8.56590461730957,
          -5.884321212768555,
          -10.057899475097656,
          -1.5511552095413208,
          -5.596351146697998,
          -8.001852989196777,
          -10.874550819396973,
          -3.0786023139953613,
          -10.124797821044922,
          -5.903785705566406,
          -8.779590606689453,
          -11.124822616577148,
          -9.435476303100586,
          -10.018906593322754,
          -6.369605541229248,
          -10.601175308227539,
          -10.816143989562988,
          -8.951251983642578,
          -7.763128280639648,
          -10.9390230178833,
          -10.532912254333496,
          -10.886493682861328,
          -9.481155395507812,
          -11.172904014587402,
          -11.476936340332031,
          -4.011068344116211,
          -7.489829063415527,
          -3.3869006633758545,
          -10.945731163024902,
          -4.726467609405518,
          -10.607222557067871,
          -3.3215482234954834,
          -10.872208595275879,
          -8.463768005371094,
          -1.3004578351974487,
          -10.618040084838867,
          -3.8303792476654053,
          -10.67174243927002,
          -4.61072301864624,
          -5.379024028778076,
          -9.347743034362793,
          -6.836806297302246,
          -10.712550163269043,
          -9.790820121765137,
          -7.65487813949585,
          -4.456593036651611,
          -10.72984790802002,
          -3.7564103603363037,
          -7.895287990570068,
          -4.018193244934082,
          -7.652383804321289,
          -5.679391384124756,
          -10.735182762145996,
          -10.155993461608887,
          -1.6906192302703857,
          -1.9976513385772705,
          -5.467325687408447,
          -6.152057647705078,
          -7.0951714515686035,
          -5.484860897064209,
          -5.891578197479248,
          -7.648551940917969,
          -8.056903839111328,
          -6.916006088256836,
          -8.59056568145752,
          -10.075251579284668,
          -1.4191890954971313,
          -5.467311382293701,
          -9.140031814575195
         ],
         "y": [
          12.809135437011719,
          4.891027927398682,
          2.33121395111084,
          3.591315746307373,
          17.30248260498047,
          9.3579683303833,
          2.096240520477295,
          1.7044658660888672,
          10.094833374023438,
          6.363566875457764,
          1.4902760982513428,
          1.9938067197799683,
          14.793306350708008,
          4.933465003967285,
          5.165670871734619,
          1.2932642698287964,
          12.549756050109863,
          1.1944222450256348,
          2.913235902786255,
          1.1239582300186157,
          2.149932861328125,
          2.8431904315948486,
          9.615748405456543,
          2.403904914855957,
          1.9527032375335693,
          16.470203399658203,
          2.482112169265747,
          1.9812915325164795,
          4.751269340515137,
          2.358071804046631,
          10.979439735412598,
          1.930384874343872,
          1.8253971338272095,
          1.7132900953292847,
          13.834592819213867,
          4.08531379699707,
          4.068140029907227,
          5.282618522644043,
          1.4833934307098389,
          17.714574813842773,
          7.284478187561035,
          5.051976680755615,
          8.006244659423828,
          2.491055727005005,
          11.990989685058594,
          4.751198768615723,
          1.8610894680023193,
          16.864131927490234,
          1.4680930376052856,
          10.155823707580566,
          2.849032163619995,
          3.3993005752563477,
          14.436846733093262,
          16.069259643554688,
          4.000132083892822,
          2.5464439392089844,
          6.728632926940918,
          12.936634063720703,
          1.2670973539352417,
          17.84320640563965,
          1.7504923343658447,
          16.645009994506836,
          3.6573801040649414,
          5.176416397094727,
          0.9686346054077148,
          1.2051008939743042,
          7.4680070877075195,
          11.603668212890625,
          0.8058397173881531,
          8.256739616394043,
          15.4797945022583,
          1.8502817153930664,
          6.6890764236450195,
          14.158717155456543,
          15.085034370422363,
          0.9239638447761536,
          16.558700561523438,
          17.632265090942383,
          0.7404844760894775,
          2.845482587814331,
          1.4431871175765991,
          2.017921209335327,
          9.79471492767334,
          1.1745665073394775,
          13.299757957458496,
          17.80814552307129,
          8.434563636779785,
          2.03109073638916,
          12.911605834960938,
          17.88650131225586,
          4.068140029907227,
          5.174087047576904,
          4.999068260192871,
          7.865431785583496,
          3.6282877922058105,
          1.5778206586837769,
          16.65358543395996,
          1.8039547204971313,
          1.2108975648880005,
          2.1453232765197754,
          1.4071815013885498,
          4.02111291885376,
          12.697535514831543,
          1.5824205875396729,
          5.521775245666504,
          12.156866073608398,
          1.794000506401062,
          3.6000120639801025,
          1.8505297899246216,
          6.928975582122803,
          1.4495787620544434,
          17.318801879882812,
          5.3571062088012695,
          8.356931686401367,
          15.612664222717285,
          15.928689002990723,
          16.606592178344727,
          1.413034439086914,
          11.464513778686523,
          16.506925582885742,
          1.1307835578918457,
          5.627331733703613,
          1.4299376010894775,
          2.794238805770874,
          10.9699068069458,
          1.8356786966323853,
          16.715307235717773,
          1.0584834814071655,
          0.8148068785667419,
          14.62773323059082,
          0.8148385286331177,
          1.5139679908752441,
          8.548108100891113,
          17.769935607910156,
          2.9810597896575928,
          15.192968368530273,
          1.0415953397750854,
          9.525848388671875,
          1.0299392938613892,
          12.373495101928711,
          11.26805591583252,
          9.492300987243652,
          13.640619277954102,
          2.029942274093628,
          15.624807357788086,
          2.149937629699707,
          9.764481544494629,
          3.4650912284851074,
          12.795378684997559,
          0.9481525421142578,
          1.3377110958099365,
          1.413692593574524,
          4.751618385314941,
          1.0882093906402588,
          9.631717681884766,
          1.1287214756011963,
          4.4215874671936035,
          1.2921253442764282,
          12.423388481140137,
          17.307052612304688,
          1.9268354177474976,
          17.742074966430664,
          11.373968124389648,
          13.932852745056152,
          1.789175271987915,
          9.135183334350586,
          1.8175209760665894,
          3.529554605484009,
          14.214855194091797,
          1.214725375175476,
          1.675152063369751,
          1.0501848459243774,
          16.21695899963379,
          2.473895311355591,
          10.062633514404297,
          1.9494616985321045,
          6.5389323234558105,
          13.48824405670166,
          8.581247329711914,
          1.0732321739196777,
          1.5353550910949707,
          3.1575570106506348,
          15.054954528808594,
          1.9977084398269653,
          3.637808322906494,
          8.444666862487793,
          16.888181686401367,
          0.9144821166992188,
          6.5681962966918945,
          1.5167783498764038,
          11.02725887298584,
          2.00174880027771,
          8.444418907165527,
          3.20478892326355,
          7.149730205535889,
          2.638554096221924,
          3.6759557723999023,
          8.44444465637207,
          1.9189749956130981,
          12.57430648803711,
          2.108926296234131,
          12.879937171936035,
          17.628467559814453,
          5.843593120574951,
          8.819697380065918,
          9.920661926269531,
          17.802112579345703,
          4.250673770904541,
          0.9052757620811462,
          1.2117211818695068,
          16.01995277404785,
          8.44425106048584,
          1.230201244354248,
          6.305682182312012,
          1.3001621961593628,
          14.667308807373047,
          8.782489776611328,
          10.33304500579834,
          11.993725776672363,
          1.9416793584823608,
          8.47922134399414,
          8.00576400756836,
          2.530393362045288,
          1.8902502059936523,
          7.338033676147461,
          5.041204452514648,
          9.275663375854492,
          12.741742134094238,
          9.44903564453125,
          8.511826515197754,
          1.4081131219863892,
          14.589547157287598,
          1.7981469631195068,
          7.216316223144531,
          1.5235999822616577,
          5.2901387214660645,
          1.1708990335464478,
          7.4648518562316895,
          2.6796152591705322,
          0.8468807935714722,
          6.843179702758789,
          1.7703454494476318,
          5.507096290588379,
          0.788996160030365,
          1.1354540586471558,
          15.913758277893066,
          1.7987169027328491,
          6.205557823181152,
          13.658143043518066,
          16.91969108581543,
          3.829235792160034,
          7.631711006164551,
          1.615164041519165,
          1.959375262260437,
          1.2257213592529297,
          17.201995849609375,
          1.5221067667007446,
          11.133455276489258,
          7.1299357414245605,
          0.9325132369995117,
          1.2102680206298828,
          4.964780807495117,
          1.6797200441360474,
          16.828439712524414,
          1.1046687364578247,
          17.789621353149414,
          16.785400390625,
          3.0887491703033447,
          1.5582631826400757,
          3.5730154514312744,
          5.009928226470947,
          0.841189980506897,
          4.964767932891846,
          14.872833251953125
         ],
         "z": [
          -5.086366653442383,
          -1.4054455757141113,
          -2.26462721824646,
          -2.5001471042633057,
          -7.912255764007568,
          -3.418088436126709,
          -3.914729118347168,
          0.5340009927749634,
          -4.111967086791992,
          -0.4835887551307678,
          -3.565582752227783,
          -4.64924955368042,
          -6.057856559753418,
          -0.9773815274238586,
          -4.402839660644531,
          3.282759189605713,
          -5.250556945800781,
          -0.34877967834472656,
          -7.046804904937744,
          -5.185391426086426,
          -6.049671173095703,
          -2.800314426422119,
          -3.666555404663086,
          -2.7807257175445557,
          -5.720968723297119,
          -7.289620876312256,
          -6.387239456176758,
          -6.937841415405273,
          -1.3647842407226562,
          -3.986114025115967,
          -3.685286521911621,
          -5.945472717285156,
          -1.0932775735855103,
          -4.46370792388916,
          -5.590941905975342,
          -3.057267189025879,
          -2.667672634124756,
          -4.79020357131958,
          1.9712225198745728,
          -8.526472091674805,
          -3.7701175212860107,
          -3.1155927181243896,
          -3.6785264015197754,
          -4.623831748962402,
          -4.740541458129883,
          -1.3716151714324951,
          -3.4990592002868652,
          -6.75112771987915,
          3.0319173336029053,
          -3.6538009643554688,
          -4.371464729309082,
          -1.468632459640503,
          -6.009132385253906,
          -7.614710330963135,
          -3.027461051940918,
          -2.527221918106079,
          -3.179964303970337,
          -4.0290207862854,
          -2.9108939170837402,
          -8.085844993591309,
          -6.025996685028076,
          -7.147075653076172,
          -0.9655404090881348,
          -3.1202375888824463,
          -4.11448860168457,
          -2.3354103565216064,
          -3.248161554336548,
          -3.098066568374634,
          -1.1514889001846313,
          -1.9413681030273438,
          -6.617068290710449,
          -6.628652572631836,
          -3.1835594177246094,
          -5.516433238983154,
          -6.2148213386535645,
          -5.103228569030762,
          -7.118669033050537,
          -8.408827781677246,
          -3.767996072769165,
          -7.043256759643555,
          -2.1398866176605225,
          -3.218871831893921,
          -5.529035568237305,
          1.1788321733474731,
          -4.883142948150635,
          -8.179237365722656,
          -2.188626289367676,
          -5.743986129760742,
          -4.771833419799805,
          -8.172462463378906,
          -2.667672634124756,
          -3.1245439052581787,
          -1.3730340003967285,
          -0.6062776446342468,
          -4.700725078582764,
          1.2317477464675903,
          -7.417535781860352,
          -7.0536675453186035,
          -3.399343729019165,
          -6.787909507751465,
          -1.2150051593780518,
          -1.1260300874710083,
          -5.036654472351074,
          0.7336530685424805,
          -3.2829461097717285,
          -4.449062347412109,
          -1.0609893798828125,
          -2.845045804977417,
          -1.053653597831726,
          -0.6834356188774109,
          2.69341778755188,
          -7.980685710906982,
          -4.876251220703125,
          -3.96124267578125,
          -6.624014854431152,
          -6.627993106842041,
          -6.815601825714111,
          -1.4246008396148682,
          -4.0958781242370605,
          -6.976561546325684,
          -0.18752901256084442,
          -3.267458200454712,
          2.5774707794189453,
          -4.746641159057617,
          -4.072051048278809,
          -2.9516658782958984,
          -7.877767086029053,
          -2.3298962116241455,
          -1.2272998094558716,
          -5.489354133605957,
          -0.1793832927942276,
          2.785156011581421,
          -4.835372447967529,
          -8.443984985351562,
          -2.7164466381073,
          -6.3073248863220215,
          1.5357099771499634,
          -6.093667030334473,
          0.28728723526000977,
          -4.796463966369629,
          -4.360786437988281,
          -6.114954471588135,
          -5.3993706703186035,
          -6.097226619720459,
          -7.032593727111816,
          -6.0496826171875,
          -6.196343421936035,
          -4.7672905921936035,
          -4.835152626037598,
          1.598740577697754,
          -2.143177032470703,
          2.646104097366333,
          -3.7688417434692383,
          -3.102308511734009,
          -3.421755313873291,
          -2.90968656539917,
          -2.3914153575897217,
          -2.054882526397705,
          -4.51776647567749,
          -7.225472450256348,
          -7.114711284637451,
          -8.496612548828125,
          -4.123488426208496,
          -5.235994815826416,
          -6.983322620391846,
          -3.8128442764282227,
          -4.193650245666504,
          -4.292174339294434,
          -6.409294128417969,
          3.29862380027771,
          -5.961886405944824,
          -2.524808406829834,
          -7.439620018005371,
          -4.142183303833008,
          -4.0176897048950195,
          -0.8537312746047974,
          -1.5636056661605835,
          -5.352313041687012,
          -3.4338364601135254,
          -2.7034831047058105,
          1.096885323524475,
          -2.8960676193237305,
          -7.066923141479492,
          -0.6404849290847778,
          -4.380295276641846,
          -3.314011812210083,
          -6.962625980377197,
          1.6426211595535278,
          -1.7540593147277832,
          -4.0875396728515625,
          -4.523876667022705,
          -5.724720001220703,
          -3.3145861625671387,
          -3.126654624938965,
          -3.6319167613983154,
          -6.829827785491943,
          -3.005249261856079,
          -3.3142378330230713,
          -6.663229465484619,
          -4.8908257484436035,
          -5.620603561401367,
          -4.910764694213867,
          -7.956702709197998,
          -4.896451473236084,
          -4.796535015106201,
          -6.208470821380615,
          -8.406055450439453,
          -2.977384090423584,
          -5.211231708526611,
          3.2212915420532227,
          -6.7019944190979,
          -3.314424991607666,
          -4.221419334411621,
          -0.4700598418712616,
          2.97084379196167,
          -6.0402398109436035,
          -4.204536437988281,
          -5.257061004638672,
          -4.379879951477051,
          -4.3978447914123535,
          -2.756364345550537,
          -3.2191522121429443,
          -2.6726467609405518,
          -3.190002202987671,
          -1.4070008993148804,
          -3.194566488265991,
          -3.688598394393921,
          -4.970700740814209,
          -4.097866535186768,
          -4.075867652893066,
          -3.602536916732788,
          -7.671696186065674,
          -6.788583755493164,
          -3.2797720432281494,
          -0.7249100208282471,
          -3.0860252380371094,
          -3.2329351902008057,
          -1.360120415687561,
          -3.5225961208343506,
          -5.442131042480469,
          -0.957231342792511,
          -2.920098066329956,
          -3.1336522102355957,
          1.7494637966156006,
          1.237781286239624,
          -5.8734612464904785,
          -1.0786350965499878,
          -3.1193575859069824,
          -5.301399230957031,
          -7.172201633453369,
          -1.1749584674835205,
          -3.6886420249938965,
          -5.8026041984558105,
          -3.1419408321380615,
          -2.202316999435425,
          -7.56410026550293,
          -1.4510090351104736,
          -4.010141849517822,
          -4.431657791137695,
          -4.827334403991699,
          -2.2854084968566895,
          -1.4408012628555298,
          -1.262784719467163,
          -7.535635471343994,
          2.8226206302642822,
          -8.425904273986816,
          -7.830221652984619,
          -4.440548896789551,
          1.3767426013946533,
          -4.342390537261963,
          -1.6482117176055908,
          -3.257465124130249,
          -1.440814733505249,
          -5.7739949226379395
         ]
        },
        {
         "customdata": [
          [
           "type cau get symptom one",
           "mani new case diabet"
          ],
          [
           "type cau get symptom one",
           "black ant red small ant attract human urin spill floor"
          ],
          [
           "type cau get symptom one",
           "iguana get diabet"
          ],
          [
           "type cau get symptom one",
           "much intak sugar caus diabet"
          ],
          [
           "type cau get symptom one",
           "david letterman diabet"
          ],
          [
           "type cau get symptom one",
           "buildup keto acid result diabet mellitu"
          ],
          [
           "type cau get symptom one",
           "smoke cigarett caus diabet"
          ],
          [
           "type cau get symptom one",
           "diabet caus drowsi"
          ],
          [
           "type cau get symptom one",
           "inherit diabet"
          ],
          [
           "type cau get symptom one",
           "nick jona get diabet"
          ],
          [
           "type cau get symptom one",
           "four p diabet"
          ],
          [
           "type cau get symptom one",
           "hormon defici caus diabet"
          ],
          [
           "type cau get symptom one",
           "type two diabet occur pregnanc"
          ],
          [
           "type cau get symptom one",
           "caus type two diabet"
          ],
          [
           "type cau get symptom one",
           "newborn get diabet"
          ],
          [
           "type cau get symptom one",
           "diabet detect symptom appear diabet mellitu"
          ],
          [
           "type cau get symptom one",
           "get rid anger im thirteen type one diabet alway seem get anybodi help"
          ],
          [
           "type cau get symptom one",
           "abbrevi acronym modi stand explain modi"
          ],
          [
           "type cau get symptom one",
           "main caus type two diabet"
          ],
          [
           "type cau get symptom one",
           "condit character insulin resist fat cell"
          ],
          [
           "type cau get symptom one",
           "number one caus adult us diabet"
          ],
          [
           "type cau get symptom one",
           "type diabet associ pregnanc"
          ],
          [
           "type cau get symptom one",
           "danger gestat diabet"
          ],
          [
           "type cau get symptom one",
           "high level albinum diabet"
          ],
          [
           "type cau get symptom one",
           "erythritol bad"
          ],
          [
           "type cau get symptom one",
           "frequent urin danger"
          ],
          [
           "type cau get symptom one",
           "factor lead heart diseas"
          ],
          [
           "type cau get symptom one",
           "diabet hurt"
          ],
          [
           "type cau get symptom one",
           "caus dri mouth"
          ],
          [
           "type cau get symptom one",
           "number peopl worldwid diabet increas"
          ],
          [
           "type cau get symptom one",
           "diabet"
          ],
          [
           "type cau get symptom one",
           "impact gestat diabet placenta"
          ],
          [
           "type cau get symptom one",
           "peopl pisap"
          ],
          [
           "type cau get symptom one",
           "diabet go blue pool iceland"
          ],
          [
           "type cau get symptom one",
           "could person die diabet"
          ],
          [
           "type cau get symptom one",
           "three p diabet mellitu"
          ],
          [
           "type cau get symptom one",
           "diagnosi mean"
          ],
          [
           "type cau get symptom one",
           "pyorrhea link diabet type one"
          ],
          [
           "type cau get symptom one",
           "symptom determin borderlin diabet"
          ],
          [
           "type cau get symptom one",
           "caus arm ach"
          ],
          [
           "type cau get symptom one",
           "symptom type one diabet"
          ],
          [
           "type cau get symptom one",
           "anabol agent caus diabet"
          ],
          [
           "type cau get symptom one",
           "name someth happen eat much sugar"
          ],
          [
           "type cau get symptom one",
           "age diabet insipidu usual occur"
          ],
          [
           "type cau get symptom one",
           "nausea relat chronic"
          ],
          [
           "type cau get symptom one",
           "list five non communic communic diseas"
          ],
          [
           "type cau get symptom one",
           "diabet mellitu caus lack hormon"
          ],
          [
           "type cau get symptom one",
           "earli warn sign diabet"
          ],
          [
           "type cau get symptom one",
           "happen eat lot sugar"
          ],
          [
           "type cau get symptom one",
           "get type three diabet"
          ],
          [
           "type cau get symptom one",
           "stage level becom diabet"
          ],
          [
           "type cau get symptom one",
           "dog diabet"
          ],
          [
           "type cau get symptom one",
           "might caus unexplain weight gain fatigu"
          ],
          [
           "type cau get symptom one",
           "incid type one diabet"
          ],
          [
           "type cau get symptom one",
           "join airforc diabet"
          ],
          [
           "type cau get symptom one",
           "diabet domin recess trait"
          ],
          [
           "type cau get symptom one",
           "get diabet girlfriend valentin day"
          ],
          [
           "type cau get symptom one",
           "diabet ill"
          ],
          [
           "type cau get symptom one",
           "diabet foot ulcer"
          ],
          [
           "type cau get symptom one",
           "mani peopl die diabet type one everyday"
          ],
          [
           "type cau get symptom one",
           "mode transmiss diabet mellitu"
          ],
          [
           "type cau get symptom one",
           "get diabet life"
          ],
          [
           "type cau get symptom one",
           "hunger symptom diabet"
          ],
          [
           "type cau get symptom one",
           "diabet caus peripher neuropathi"
          ],
          [
           "type cau get symptom one",
           "swollen ankl symptom diabet"
          ],
          [
           "type cau get symptom one",
           "problem tingl feet alway cold cotton mouth often urin could diabet anxieti disord"
          ],
          [
           "type cau get symptom one",
           "diff diabet one two"
          ],
          [
           "type cau get symptom one",
           "diabet medic caus anaemia"
          ],
          [
           "type cau get symptom one",
           "part human bodi effect diabet type one"
          ],
          [
           "type cau get symptom one",
           "omnicef rare prescrib diabet"
          ],
          [
           "type cau get symptom one",
           "mani diseas human bodi"
          ],
          [
           "type cau get symptom one",
           "cdl driver florida still drive diabet use insulin"
          ],
          [
           "type cau get symptom one",
           "caus diabet frequent urin"
          ],
          [
           "type cau get symptom one",
           "horomon diabet mellitu affect"
          ],
          [
           "type cau get symptom one",
           "diabet australia third oldest diabet associ world follow countri"
          ],
          [
           "type cau get symptom one",
           "diabet abnorm"
          ],
          [
           "type cau get symptom one",
           "skin tent dri mucou membran associ diabet"
          ],
          [
           "type cau get symptom one",
           "diabet nephropathi"
          ],
          [
           "type cau get symptom one",
           "get dla child diabet insipidu"
          ],
          [
           "type cau get symptom one",
           "glycosuria failur"
          ],
          [
           "type cau get symptom one",
           "possibl genotyp parent diabet"
          ],
          [
           "type cau get symptom one",
           "diabet effect pregnanc"
          ],
          [
           "type cau get symptom one",
           "type genet disord diabet"
          ],
          [
           "type cau get symptom one",
           "earli sign diabet peopl tend miss"
          ],
          [
           "type cau get symptom one",
           "type crystal urin might present diabet mellitu"
          ],
          [
           "type cau get symptom one",
           "nation guard kick diabet"
          ],
          [
           "type cau get symptom one",
           "sixti two year old diabet black man swollen left leg area blanch blue mottl"
          ],
          [
           "type cau get symptom one",
           "name black actress diabet care club"
          ],
          [
           "type cau get symptom one",
           "differ diabet diabet mellitu"
          ],
          [
           "type cau get symptom one",
           "diabet affect fertil"
          ],
          [
           "type cau get symptom one",
           "diabet caus sweat"
          ],
          [
           "type cau get symptom one",
           "relat hypokalemia diabet melitu"
          ],
          [
           "type cau get symptom one",
           "diabet awar month"
          ],
          [
           "type cau get symptom one",
           "sign symptom diabet"
          ],
          [
           "type cau get symptom one",
           "increas risk diabet face"
          ],
          [
           "type cau get symptom one",
           "coutri diabet common"
          ],
          [
           "type cau get symptom one",
           "diabet develop bad temper"
          ],
          [
           "type cau get symptom one",
           "eyesight return retinopathi"
          ],
          [
           "type cau get symptom one",
           "type microb diabet"
          ],
          [
           "type cau get symptom one",
           "diabet call diabet mellitu"
          ],
          [
           "type cau get symptom one",
           "substanc increas urin untreat diabet"
          ],
          [
           "type cau get symptom one",
           "true nick diabet"
          ],
          [
           "type cau get symptom one",
           "im extrem tire time irrit feel dehydr im extrem thirsti pee lot symptom happen diabet seee doctor"
          ],
          [
           "type cau get symptom one",
           "children diabet cope school"
          ],
          [
           "type cau get symptom one",
           "arm ach elbow"
          ],
          [
           "type cau get symptom one",
           "frequent urin patient diabet elimin excess"
          ],
          [
           "type cau get symptom one",
           "symptom type two diabet"
          ],
          [
           "type cau get symptom one",
           "tv caus diabet"
          ],
          [
           "type cau get symptom one",
           "old nick got diabet"
          ],
          [
           "type cau get symptom one",
           "sugar frost flake caus diabet"
          ],
          [
           "type cau get symptom one",
           "miley breack nick diabet"
          ],
          [
           "type cau get symptom one",
           "kind diabet jacki robinson"
          ],
          [
           "type cau get symptom one",
           "know might diabet"
          ],
          [
           "type cau get symptom one",
           "youngest age diagnos diabet"
          ],
          [
           "type cau get symptom one",
           "diabet physic disord"
          ],
          [
           "type cau get symptom one",
           "good thesi statement diabet type one"
          ],
          [
           "type cau get symptom one",
           "caus sore heal"
          ],
          [
           "type cau get symptom one",
           "gene affect type one diabet"
          ],
          [
           "type cau get symptom one",
           "individu get diabet"
          ],
          [
           "type cau get symptom one",
           "occur bodi type ii diabet"
          ],
          [
           "type cau get symptom one",
           "diabet make urin smell"
          ],
          [
           "type cau get symptom one",
           "preval diabet mellitu philippin"
          ],
          [
           "type cau get symptom one",
           "pediatr diabet creat"
          ],
          [
           "type cau get symptom one",
           "diabet skinni"
          ],
          [
           "type cau get symptom one",
           "join cheerlead diabet"
          ],
          [
           "type cau get symptom one",
           "diabet gangren"
          ],
          [
           "type cau get symptom one",
           "precaut take run diabet"
          ],
          [
           "type cau get symptom one",
           "diabet get addict medicin"
          ],
          [
           "type cau get symptom one",
           "symptom diabet ulcer"
          ],
          [
           "type cau get symptom one",
           "pediatr diabeti"
          ],
          [
           "type cau get symptom one",
           "classic symptom diabet"
          ],
          [
           "type cau get symptom one",
           "urin lot sign diabet"
          ],
          [
           "type cau get symptom one",
           "caus hand cramp"
          ],
          [
           "type cau get symptom one",
           "caus type one diabet"
          ],
          [
           "type cau get symptom one",
           "diseas relat lack insulin product"
          ],
          [
           "type cau get symptom one",
           "diabet develop"
          ],
          [
           "type cau get symptom one",
           "type diabet mellitu insulin resist disord gestat type one type two"
          ],
          [
           "type cau get symptom one",
           "someon diabet nephropathi without diabeti"
          ],
          [
           "type cau get symptom one",
           "someon take pill diabet use urin therapi"
          ],
          [
           "type cau get symptom one",
           "diabet affect peopl"
          ],
          [
           "type cau get symptom one",
           "differ type diabet"
          ],
          [
           "type cau get symptom one",
           "diabet sore heal slower"
          ],
          [
           "type cau get symptom one",
           "condit make urin tasteless"
          ],
          [
           "type cau get symptom one",
           "chanc diabet babi born parent heterozyg normal"
          ],
          [
           "type cau get symptom one",
           "diabet run jona famili"
          ],
          [
           "type cau get symptom one",
           "safe legal way travel insulin inject equip sharp"
          ],
          [
           "type cau get symptom one",
           "caus ashi dermatosi"
          ],
          [
           "type cau get symptom one",
           "caus diabet environment hereditari"
          ],
          [
           "type cau get symptom one",
           "high concentr homocystein blood associ develop"
          ],
          [
           "type cau get symptom one",
           "job diabet get"
          ],
          [
           "type cau get symptom one",
           "diabet mental ill physic ill"
          ],
          [
           "type cau get symptom one",
           "know diabet"
          ],
          [
           "type cau get symptom one",
           "right consumpt everi kind process food"
          ],
          [
           "type cau get symptom one",
           "know type two diabet"
          ],
          [
           "type cau get symptom one",
           "diabet medicin caus drowsi"
          ],
          [
           "type cau get symptom one",
           "import diagnos diabet earli"
          ],
          [
           "type cau get symptom one",
           "dri mouth alway thirsti diabet"
          ],
          [
           "type cau get symptom one",
           "nick jona develop diabet"
          ],
          [
           "type cau get symptom one",
           "type two diabet diagnos"
          ],
          [
           "type cau get symptom one",
           "symptom hyperglycemia"
          ],
          [
           "type cau get symptom one",
           "advers affect scuba dive diabet"
          ],
          [
           "type cau get symptom one",
           "uncontrol diabet effect mental statu"
          ],
          [
           "type cau get symptom one",
           "diabet contribut cvd"
          ],
          [
           "type cau get symptom one",
           "lipotroph diabet"
          ],
          [
           "type cau get symptom one",
           "nick jona ever diabet"
          ],
          [
           "type cau get symptom one",
           "diabet symptom sign"
          ],
          [
           "type cau get symptom one",
           "mitchel musso diabet"
          ],
          [
           "type cau get symptom one",
           "frequent night time urin symptom type two diabet"
          ],
          [
           "type cau get symptom one",
           "three clinic sign insulin defici"
          ],
          [
           "type cau get symptom one",
           "caus diabet type one"
          ],
          [
           "type cau get symptom one",
           "type diabet thoma edison"
          ],
          [
           "type cau get symptom one",
           "common effect diabet diabet"
          ],
          [
           "type cau get symptom one",
           "averag output urin teenag day"
          ],
          [
           "type cau get symptom one",
           "gestat diabet syzgumj medicin mother tinctur safe pregnanc"
          ],
          [
           "type cau get symptom one",
           "diabet man impregn woman"
          ],
          [
           "type cau get symptom one",
           "world diabet day celebr"
          ],
          [
           "type cau get symptom one",
           "type three diabet"
          ],
          [
           "type cau get symptom one",
           "caus frequent urin men"
          ],
          [
           "type cau get symptom one",
           "type two diabet develop"
          ],
          [
           "type cau get symptom one",
           "uncommon symptom diabet"
          ],
          [
           "type cau get symptom one",
           "mani peopl uk diabet"
          ],
          [
           "type cau get symptom one",
           "diabet one common diabet two"
          ],
          [
           "type cau get symptom one",
           "dehydr diabet"
          ],
          [
           "type cau get symptom one",
           "symptom diabet mellitu"
          ],
          [
           "type cau get symptom one",
           "diabet eye"
          ],
          [
           "type cau get symptom one",
           "human get diabet"
          ],
          [
           "type cau get symptom one",
           "come get diabet mellitu"
          ],
          [
           "type cau get symptom one",
           "diabet inherit"
          ],
          [
           "type cau get symptom one",
           "pre diabet make like get gestat diabet"
          ],
          [
           "type cau get symptom one",
           "system diabet"
          ],
          [
           "type cau get symptom one",
           "get rid belli thigh fat still type one diabet"
          ],
          [
           "type cau get symptom one",
           "ten peopl diabet"
          ],
          [
           "type cau get symptom one",
           "get cdl colorado diabet"
          ],
          [
           "type cau get symptom one",
           "mani diabet world"
          ],
          [
           "type cau get symptom one",
           "see doctor diabet neuropathi"
          ],
          [
           "type cau get symptom one",
           "symptom diabet"
          ],
          [
           "type cau get symptom one",
           "predispos factor diabet mellitu"
          ],
          [
           "type cau get symptom one",
           "system affect diabet"
          ],
          [
           "type cau get symptom one",
           "diabet usual develop adolesc thought caus inherit predisposit pancrea problem"
          ],
          [
           "type cau get symptom one",
           "symptom diabet"
          ],
          [
           "type cau get symptom one",
           "diabet millitu"
          ],
          [
           "type cau get symptom one",
           "diabet insipidu common male femal"
          ],
          [
           "type cau get symptom one",
           "optimum arous sport"
          ],
          [
           "type cau get symptom one",
           "pain back right shoulder blade get wors night lay"
          ],
          [
           "type cau get symptom one",
           "diabet mauritiu"
          ],
          [
           "type cau get symptom one",
           "would person ketoacidosi follow heavi breath polydipsia tachycardia"
          ],
          [
           "type cau get symptom one",
           "first person get diabet"
          ],
          [
           "type cau get symptom one",
           "type two diabet caus lifestyl bacteria"
          ],
          [
           "type cau get symptom one",
           "known reason caus diabet"
          ],
          [
           "type cau get symptom one",
           "cold feet relat diabet"
          ],
          [
           "type cau get symptom one",
           "emot effect diabet"
          ],
          [
           "type cau get symptom one",
           "hear loss relat diabet"
          ],
          [
           "type cau get symptom one",
           "sign look get test diabet"
          ],
          [
           "type cau get symptom one",
           "diabet feel hungri time"
          ],
          [
           "type cau get symptom one",
           "infect affect bodi system"
          ],
          [
           "type cau get symptom one",
           "peopl twenti diabet"
          ],
          [
           "type cau get symptom one",
           "two type diabet"
          ],
          [
           "type cau get symptom one",
           "age diabet start"
          ],
          [
           "type cau get symptom one",
           "person urin frequent diabet"
          ],
          [
           "type cau get symptom one",
           "symptom diabet type ii"
          ],
          [
           "type cau get symptom one",
           "differenti diagnosi retinopathi prematur"
          ],
          [
           "type cau get symptom one",
           "caus extrem bodi odor"
          ],
          [
           "type cau get symptom one",
           "caus hand fall asleep"
          ],
          [
           "type cau get symptom one",
           "way detect diabet"
          ],
          [
           "type cau get symptom one",
           "diabet"
          ],
          [
           "type cau get symptom one",
           "diabet top part foot cut use manual wheelchair handl"
          ],
          [
           "type cau get symptom one",
           "symptom diabet may effect health long term"
          ],
          [
           "type cau get symptom one",
           "children diabet"
          ],
          [
           "type cau get symptom one",
           "caus lack water"
          ],
          [
           "type cau get symptom one",
           "gestat diabet differ type diabet"
          ],
          [
           "type cau get symptom one",
           "happen get diabet"
          ],
          [
           "type cau get symptom one",
           "good overweight"
          ],
          [
           "type cau get symptom one",
           "import solut remov diabet patient"
          ],
          [
           "type cau get symptom one",
           "experienc twitch forefing thumb left hand sever week pain irrit could caus happen"
          ],
          [
           "type cau get symptom one",
           "diabet affect result breathalyz"
          ],
          [
           "type cau get symptom one",
           "common pre diabet symptom"
          ],
          [
           "type cau get symptom one",
           "type three diabet"
          ],
          [
           "type cau get symptom one",
           "mani children diagnos type one diabet everi day"
          ],
          [
           "type cau get symptom one",
           "caus aceton breath seen type one diabet"
          ],
          [
           "type cau get symptom one",
           "main symptom lead diabet"
          ],
          [
           "type cau get symptom one",
           "definit diabet type one"
          ],
          [
           "type cau get symptom one",
           "diabet build callou feet"
          ],
          [
           "type cau get symptom one",
           "nick jona ever throw blood diabet"
          ],
          [
           "type cau get symptom one",
           "uncontrol diabet lead"
          ],
          [
           "type cau get symptom one",
           "mcdonald hurt kid diabet"
          ],
          [
           "type cau get symptom one",
           "woman diabet cystic fibrosi becom pregnant"
          ],
          [
           "type cau get symptom one",
           "differ hiv aid diabet type two"
          ],
          [
           "type cau get symptom one",
           "sit cross leg long time caus leg fall asleep"
          ],
          [
           "type cau get symptom one",
           "diabet pass uti"
          ],
          [
           "type cau get symptom one",
           "need comma sentenc vascular diseas secondari diabet small vessel diseas"
          ],
          [
           "type cau get symptom one",
           "peopol suffer diabet"
          ],
          [
           "type cau get symptom one",
           "symptom distinguish type type ii diabet"
          ],
          [
           "type cau get symptom one",
           "diabet type one"
          ],
          [
           "type cau get symptom one",
           "doctor ask diabet patient eye foot exam"
          ],
          [
           "type cau get symptom one",
           "surviv rate tripl bypass surgeri fifti five year old man diabet"
          ],
          [
           "type cau get symptom one",
           "sign diabet ketoacidosi appear"
          ],
          [
           "type cau get symptom one",
           "peopl type one diabet children"
          ],
          [
           "type cau get symptom one",
           "get type one two diabet"
          ],
          [
           "type cau get symptom one",
           "diseas result lack insulin"
          ],
          [
           "type cau get symptom one",
           "know hamster diabet"
          ],
          [
           "type cau get symptom one",
           "might symptom person would suffer diabet"
          ],
          [
           "type cau get symptom one",
           "two type diabet"
          ],
          [
           "type cau get symptom one",
           "diabet affect bodi system"
          ],
          [
           "type cau get symptom one",
           "obes peopl get diabet"
          ],
          [
           "type cau get symptom one",
           "develop diabet"
          ],
          [
           "type cau get symptom one",
           "one know diabet symptom"
          ],
          [
           "type cau get symptom one",
           "mother thyroid cancer caus type one diabet children"
          ],
          [
           "type cau get symptom one",
           "much urin indic much insulin"
          ],
          [
           "type cau get symptom one",
           "diabet effect eye sight"
          ],
          [
           "type cau get symptom one",
           "diabet peripher neuropathi"
          ],
          [
           "type cau get symptom one",
           "join us armi diabet insipidu"
          ],
          [
           "type cau get symptom one",
           "nick jona get rid diabet"
          ],
          [
           "type cau get symptom one",
           "get urin multipl time night urin much often normal symptom prostat cancer"
          ],
          [
           "type cau get symptom one",
           "peopl fund diabet"
          ],
          [
           "type cau get symptom one",
           "diabet dehydr"
          ],
          [
           "type cau get symptom one",
           "diabet caus viru bacteria"
          ],
          [
           "type cau get symptom one",
           "amlodipin caus diabet"
          ],
          [
           "type cau get symptom one",
           "age children get diabet"
          ],
          [
           "type cau get symptom one",
           "diabet peopl juggl"
          ],
          [
           "type cau get symptom one",
           "caus frequent urin vagin odor"
          ],
          [
           "type cau get symptom one",
           "peopl die diabet"
          ],
          [
           "type cau get symptom one",
           "five foot twelv year old girl weigh eighti four pound"
          ],
          [
           "type cau get symptom one",
           "diabet danger condit"
          ],
          [
           "type cau get symptom one",
           "would someon diabet neuropathi"
          ],
          [
           "type cau get symptom one",
           "caus diabet"
          ],
          [
           "type cau get symptom one",
           "previou disabl claim alreadi deni question need answer"
          ],
          [
           "type cau get symptom one",
           "symptom hyperglycemia"
          ],
          [
           "type cau get symptom one",
           "katrina kaif diabet"
          ],
          [
           "type cau get symptom one",
           "famou peopl type one diabet"
          ],
          [
           "type cau get symptom one",
           "type diseas diabet"
          ],
          [
           "type cau get symptom one",
           "diabet foot infect"
          ],
          [
           "type cau get symptom one",
           "gestat diabet"
          ],
          [
           "type cau get symptom one",
           "women diabet pregnant"
          ],
          [
           "type cau get symptom one",
           "basic symptom high blood sugar"
          ],
          [
           "type cau get symptom one",
           "insulin depend diabet becom merchant marin"
          ],
          [
           "type cau get symptom one",
           "two type diabet"
          ],
          [
           "type cau get symptom one",
           "resist lead hyperglycemia ketoacidosi"
          ],
          [
           "type cau get symptom one",
           "could get enough sun caus diabet"
          ],
          [
           "type cau get symptom one",
           "diabet caus semen tast differ"
          ],
          [
           "type cau get symptom one",
           "type l dm differ type diabet"
          ],
          [
           "type cau get symptom one",
           "diabet common world"
          ],
          [
           "type cau get symptom one",
           "type two diabet eat much junk food"
          ],
          [
           "type cau get symptom one",
           "diabet caus tachycardia"
          ],
          [
           "type cau get symptom one",
           "contract diabet"
          ],
          [
           "type cau get symptom one",
           "diabet babi pregnant"
          ],
          [
           "type cau get symptom one",
           "raccoon get diabet"
          ],
          [
           "type cau get symptom one",
           "type three diabet differ type one two"
          ],
          [
           "type cau get symptom one",
           "diabet patient age thirti nine conceiv possibl becom pregnant"
          ]
         ],
         "hovertemplate": "summary=%{customdata[0]}<br>pc_1=%{x}<br>pc_2=%{y}<br>pc_3=%{z}<br>sentence=%{customdata[1]}<extra></extra>",
         "legendgroup": "type cau get symptom one",
         "marker": {
          "color": "#ab63fa",
          "size": 5,
          "symbol": "circle"
         },
         "mode": "markers",
         "name": "type cau get symptom one",
         "scene": "scene",
         "showlegend": true,
         "type": "scatter3d",
         "x": [
          1.3019599914550781,
          2.9842138290405273,
          -2.303257703781128,
          -3.585876226425171,
          4.921811103820801,
          5.52426815032959,
          -5.283820629119873,
          -2.961668014526367,
          -6.726555824279785,
          -8.255669593811035,
          -3.4258816242218018,
          3.818141460418701,
          -0.9026735424995422,
          -0.37995991110801697,
          -3.7500336170196533,
          -9.24675464630127,
          4.30016565322876,
          -3.317455291748047,
          -1.689957857131958,
          5.804702281951904,
          5.662093639373779,
          1.3636338710784912,
          -1.754404902458191,
          4.935591220855713,
          5.506162166595459,
          -8.509778022766113,
          2.9327688217163086,
          -0.023096244782209396,
          -3.212175130844116,
          -3.277139902114868,
          4.943095684051514,
          -0.19466276466846466,
          5.281215190887451,
          3.033316135406494,
          4.373364448547363,
          -5.748821258544922,
          3.870633363723755,
          4.652656555175781,
          3.195314407348633,
          -4.560384750366211,
          -1.2403794527053833,
          -2.9268646240234375,
          4.692902088165283,
          -5.083871364593506,
          -2.650696039199829,
          -4.687173843383789,
          -1.5808523893356323,
          -6.574153423309326,
          4.808772087097168,
          1.7812891006469727,
          3.263767957687378,
          -1.8817676305770874,
          3.324458122253418,
          5.339962482452393,
          -0.08170142024755478,
          -6.613203525543213,
          -4.5541276931762695,
          3.137601613998413,
          -7.088874816894531,
          5.469966888427734,
          5.074105739593506,
          -4.271210193634033,
          -6.294790267944336,
          -6.519411087036133,
          -8.774930000305176,
          -7.264613151550293,
          0.9755648970603943,
          5.0413947105407715,
          5.4778032302856445,
          0.11639705300331116,
          5.554601669311523,
          6.304287433624268,
          -9.174921035766602,
          1.0783360004425049,
          0.7033240795135498,
          -1.2020264863967896,
          3.290146827697754,
          -2.4080405235290527,
          -2.39915132522583,
          -0.7897358536720276,
          4.698616981506348,
          -5.51557731628418,
          2.4239718914031982,
          -6.874747276306152,
          -8.605905532836914,
          0.24053950607776642,
          -6.833687782287598,
          5.228224754333496,
          -3.0366179943084717,
          5.646660327911377,
          -6.6435651779174805,
          -3.9382288455963135,
          3.9365909099578857,
          -8.347840309143066,
          -1.0700043439865112,
          1.464380145072937,
          -7.176267623901367,
          5.304052352905273,
          5.214536666870117,
          -0.19775770604610443,
          -5.083516597747803,
          -3.667080879211426,
          -5.826108932495117,
          -6.310585975646973,
          -2.028414487838745,
          -8.505061149597168,
          -8.182156562805176,
          -2.6164357662200928,
          -3.6512997150421143,
          -3.551295042037964,
          -5.564581871032715,
          -6.204892635345459,
          4.642746925354004,
          5.068118572235107,
          -8.360675811767578,
          4.738857269287109,
          -1.6895217895507812,
          5.714148044586182,
          -2.0567169189453125,
          4.881743907928467,
          -8.130328178405762,
          -1.764803171157837,
          -5.488218784332275,
          5.272365093231201,
          0.6990634202957153,
          3.1314995288848877,
          4.504552841186523,
          -1.5754432678222656,
          -8.819385528564453,
          -3.477210760116577,
          -7.503868103027344,
          -9.289521217346191,
          -6.480050563812256,
          3.7812349796295166,
          3.91055965423584,
          -1.9031108617782593,
          0.34476903080940247,
          -2.7797679901123047,
          -5.329807281494141,
          -1.6476399898529053,
          4.328540325164795,
          -8.201742172241211,
          -4.769443988800049,
          -3.7606313228607178,
          -3.689375400543213,
          4.763669490814209,
          5.593649864196777,
          -4.544458866119385,
          5.553139686584473,
          -2.3107218742370605,
          1.615196704864502,
          5.475036144256592,
          -2.741992235183716,
          4.720341205596924,
          2.5377705097198486,
          5.383749008178711,
          -4.956215858459473,
          -6.997483253479004,
          6.042140483856201,
          -0.17505940794944763,
          5.297788619995117,
          -6.061006546020508,
          0.960521399974823,
          2.890571117401123,
          -5.895744323730469,
          -9.415428161621094,
          0.8785094618797302,
          -8.426420211791992,
          5.881075859069824,
          4.548320770263672,
          5.0332746505737305,
          0.8094698786735535,
          -6.249640941619873,
          -3.944077491760254,
          5.531964302062988,
          -1.1671431064605713,
          5.158744812011719,
          -9.041511535644531,
          2.3306617736816406,
          -8.323240280151367,
          -2.120582103729248,
          -0.5389564633369446,
          -2.416069746017456,
          -8.926963806152344,
          4.870167255401611,
          2.5624282360076904,
          -6.782252788543701,
          -7.27157735824585,
          -4.509348392486572,
          5.34022855758667,
          4.32771635055542,
          2.9839179515838623,
          4.922224044799805,
          5.081924915313721,
          -4.593937873840332,
          -7.887299060821533,
          -0.44405776262283325,
          5.495780944824219,
          -0.45129236578941345,
          -7.887597560882568,
          2.438051462173462,
          -6.99580192565918,
          2.5576655864715576,
          -4.875380039215088,
          3.999391555786133,
          3.245981216430664,
          5.518515110015869,
          2.3222784996032715,
          -0.7861407995223999,
          -1.022890567779541,
          -0.007902112789452076,
          -2.7010927200317383,
          2.7193450927734375,
          3.413027763366699,
          -2.7349538803100586,
          5.260236740112305,
          2.6020121574401855,
          5.095544815063477,
          -5.93102502822876,
          0.26381823420524597,
          -6.021806716918945,
          2.5735504627227783,
          -5.976476669311523,
          2.7273576259613037,
          4.943095684051514,
          -3.841745138168335,
          -7.52108097076416,
          -6.638340950012207,
          -5.585916996002197,
          1.1355974674224854,
          2.7606678009033203,
          2.209507703781128,
          4.325995922088623,
          -3.1066055297851562,
          5.226752758026123,
          -7.012474536895752,
          5.158745765686035,
          -1.7857381105422974,
          4.211786270141602,
          -9.273155212402344,
          4.513972759246826,
          2.158249855041504,
          2.0653181076049805,
          -6.772573947906494,
          -3.84309983253479,
          -8.968147277832031,
          4.434810161590576,
          -8.138578414916992,
          -6.073018550872803,
          -2.066803455352783,
          5.295565605163574,
          2.29144549369812,
          5.072343349456787,
          -5.693667888641357,
          -2.179527521133423,
          -6.453492641448975,
          0.8854365944862366,
          3.4063761234283447,
          6.362984657287598,
          -1.9473955631256104,
          -9.032395362854004,
          2.602128505706787,
          5.751832485198975,
          -7.787412166595459,
          -3.520002841949463,
          -2.8287148475646973,
          1.4156924486160278,
          1.902470350265503,
          4.095417499542236,
          -5.1922454833984375,
          -0.41103118658065796,
          -6.456701755523682,
          -5.322196960449219,
          -1.2845263481140137,
          -2.830639362335205,
          -1.6256232261657715,
          -0.8525241613388062,
          -8.044461250305176,
          -1.815880298614502,
          -7.290553569793701,
          0.6023798584938049,
          -4.578829765319824,
          -0.22446197271347046,
          -3.9918935298919678,
          -1.463670253753662,
          -3.730937957763672,
          -0.17514951527118683,
          0.2998005747795105,
          3.1212124824523926,
          5.475367546081543,
          -9.142544746398926,
          -4.73137092590332,
          -1.945369005203247,
          5.431812763214111,
          6.1397385597229,
          2.602121591567993,
          3.152195930480957,
          -5.138916969299316,
          -2.8286612033843994,
          -0.026568381115794182,
          2.941756248474121,
          -5.8172736167907715,
          -2.3768985271453857,
          -2.5061440467834473,
          -2.188816547393799,
          -4.37846565246582,
          3.4033737182617188,
          2.874645471572876
         ],
         "y": [
          -1.0902073383331299,
          -3.7513389587402344,
          -2.787679433822632,
          -1.7519328594207764,
          -0.3574256896972656,
          -1.4477297067642212,
          -3.898664712905884,
          -5.524930000305176,
          -7.084294319152832,
          -7.679453372955322,
          -5.0311784744262695,
          -1.3370355367660522,
          -5.109591484069824,
          -4.252785682678223,
          -3.6501681804656982,
          -7.877861022949219,
          2.6723623275756836,
          -5.052732467651367,
          -5.7601776123046875,
          2.064025402069092,
          -2.384486436843872,
          -3.3822808265686035,
          -3.2152411937713623,
          -2.8692033290863037,
          -1.7692216634750366,
          -7.842939853668213,
          -2.100346326828003,
          -1.3458524942398071,
          -4.443493843078613,
          -5.569607734680176,
          -0.34000933170318604,
          -3.5381929874420166,
          -1.4896479845046997,
          -2.126328229904175,
          -2.5095033645629883,
          -6.790289878845215,
          -3.0666637420654297,
          2.7361464500427246,
          -3.168349266052246,
          -2.9442031383514404,
          -5.363258361816406,
          -4.71796178817749,
          -0.2723946273326874,
          -6.702373504638672,
          -2.6297144889831543,
          -3.0880815982818604,
          -5.069446563720703,
          -7.550493240356445,
          -1.0276415348052979,
          -2.815605878829956,
          -2.3650009632110596,
          -1.6974674463272095,
          -3.564927339553833,
          2.577608585357666,
          -0.8228984475135803,
          -7.631800174713135,
          -3.016995906829834,
          0.2537529766559601,
          -7.884373664855957,
          2.525386333465576,
          -0.7700963020324707,
          -3.56392240524292,
          -7.174034118652344,
          -6.8699951171875,
          -7.199725151062012,
          -5.776337146759033,
          0.22134815156459808,
          -1.116918921470642,
          2.0719363689422607,
          -1.0467256307601929,
          -1.8167872428894043,
          1.943940281867981,
          -7.340908050537109,
          0.263747900724411,
          -1.1488975286483765,
          -3.134488105773926,
          -0.08498632907867432,
          -4.304900169372559,
          -0.9409748911857605,
          -3.4424078464508057,
          0.10792652517557144,
          -7.158867835998535,
          -3.1007020473480225,
          -5.417145729064941,
          -8.816817283630371,
          -0.7371982336044312,
          -6.671355724334717,
          -1.3107610940933228,
          -1.7968897819519043,
          -1.4125908613204956,
          -7.798490047454834,
          -2.7985408306121826,
          -0.8066211938858032,
          -7.353594779968262,
          -1.4211299419403076,
          -0.17506171762943268,
          -7.753812313079834,
          -1.6596870422363281,
          2.2590808868408203,
          -3.299929618835449,
          -4.9463958740234375,
          -5.59886360168457,
          -4.538699626922607,
          -4.941192626953125,
          -1.0503731966018677,
          -7.956009864807129,
          -8.683768272399902,
          -4.271726608276367,
          -5.1546502113342285,
          -1.8392306566238403,
          -7.113147735595703,
          -4.691287040710449,
          -0.9748691320419312,
          -1.783279538154602,
          -7.8633856773376465,
          2.110196590423584,
          -2.8169562816619873,
          2.1676621437072754,
          -3.3835647106170654,
          -1.5255882740020752,
          -7.006176948547363,
          -2.5699257850646973,
          -6.597747802734375,
          -0.7266117930412292,
          0.3262123465538025,
          -0.3308388888835907,
          0.21087512373924255,
          -2.037834644317627,
          -6.938196182250977,
          -4.968986511230469,
          -6.71620512008667,
          -7.170221328735352,
          -5.143381595611572,
          -2.145777702331543,
          -2.600600481033325,
          -1.357851505279541,
          -4.518692970275879,
          -1.8180376291275024,
          -3.8901913166046143,
          -1.5741041898727417,
          2.6922433376312256,
          -6.2806172370910645,
          -6.872166633605957,
          -4.303635597229004,
          -5.462839603424072,
          2.018033981323242,
          -2.5873730182647705,
          -6.2867302894592285,
          -2.4501638412475586,
          -4.167026519775391,
          -0.9799341559410095,
          -0.837448239326477,
          -0.9979652762413025,
          -1.6120331287384033,
          -0.8971120715141296,
          -2.0430543422698975,
          -4.750211715698242,
          -7.160246849060059,
          1.4768692255020142,
          -3.8407490253448486,
          -1.1388548612594604,
          -7.825145721435547,
          0.1218370571732521,
          0.8678411245346069,
          -6.819408416748047,
          -7.470414638519287,
          -0.7219684720039368,
          -8.76942253112793,
          2.1764514446258545,
          -1.7201793193817139,
          2.6281485557556152,
          0.1925761103630066,
          -8.372014045715332,
          -2.5262510776519775,
          -0.8489959836006165,
          -1.2266205549240112,
          2.2342967987060547,
          -7.872306823730469,
          -2.8361358642578125,
          -7.289285659790039,
          -2.4477922916412354,
          -1.7901078462600708,
          -1.0319626331329346,
          -7.507326126098633,
          -0.5983683466911316,
          -2.3679723739624023,
          -7.987001419067383,
          -7.97709321975708,
          -3.4888195991516113,
          -0.7038639783859253,
          2.7146124839782715,
          -0.45199698209762573,
          -1.0779054164886475,
          -0.4469129741191864,
          -3.0022544860839844,
          -6.693212032318115,
          -3.23828125,
          -1.5313432216644287,
          -3.8123769760131836,
          -6.692621231079102,
          -0.7109650373458862,
          -7.914820671081543,
          -0.8099398612976074,
          -3.2644472122192383,
          -0.7924383282661438,
          -2.6508231163024902,
          -2.1315250396728516,
          -3.0978610515594482,
          -3.078401565551758,
          -1.7885311841964722,
          -0.7009497880935669,
          -1.2670615911483765,
          -3.8889782428741455,
          -2.980854034423828,
          -5.691527366638184,
          -1.1600008010864258,
          -2.423957109451294,
          -1.1619534492492676,
          -7.047665119171143,
          -3.835181951522827,
          -7.830446243286133,
          -2.51065993309021,
          -7.936105728149414,
          0.4736892580986023,
          -0.34000924229621887,
          -3.0759894847869873,
          -6.992051601409912,
          -5.18810510635376,
          -7.641519069671631,
          -3.288604497909546,
          -1.5595356225967407,
          -0.10445019602775574,
          -0.9385455846786499,
          -5.625406742095947,
          -1.8271300792694092,
          -7.7749714851379395,
          2.234295129776001,
          -5.517562389373779,
          -1.922145962715149,
          -7.3238725662231445,
          2.7092032432556152,
          0.6376180052757263,
          -4.163959980010986,
          -7.997781753540039,
          -2.6162736415863037,
          -6.789361000061035,
          -1.7532851696014404,
          -7.328011989593506,
          -7.226301193237305,
          -1.2540621757507324,
          -0.7583048343658447,
          -3.1648478507995605,
          2.683990955352783,
          -4.011305332183838,
          -1.1067675352096558,
          -7.620699882507324,
          -3.290743827819824,
          -2.31929874420166,
          1.8013372421264648,
          -3.2545924186706543,
          -7.683803558349609,
          -2.424062967300415,
          -0.7181140780448914,
          -5.813284873962402,
          -2.1469130516052246,
          -5.921485900878906,
          -3.644477128982544,
          -3.7650961875915527,
          -0.9853450655937195,
          -4.558109760284424,
          -2.510658025741577,
          -4.784999847412109,
          -7.956811428070068,
          -1.4090384244918823,
          -1.5009305477142334,
          -4.228721618652344,
          -2.9854094982147217,
          -7.614924430847168,
          -1.448629379272461,
          -6.721994876861572,
          -0.008585219271481037,
          -2.9502127170562744,
          -2.080003261566162,
          -1.7961926460266113,
          -2.7515628337860107,
          -5.533108711242676,
          -3.8407320976257324,
          -0.7672589421272278,
          -2.447638988494873,
          2.4199652671813965,
          -7.018538951873779,
          -4.479679584503174,
          -1.215139389038086,
          -3.182476282119751,
          1.7769049406051636,
          -2.4240686893463135,
          -2.262937068939209,
          -7.575788497924805,
          -1.4975738525390625,
          -4.292196273803711,
          -1.2037861347198486,
          -6.527365684509277,
          -4.68570613861084,
          -1.333472490310669,
          -4.103889465332031,
          -4.2273430824279785,
          -2.2815768718719482,
          -1.9379533529281616
         ],
         "z": [
          13.058242797851562,
          10.442129135131836,
          12.715296745300293,
          9.84938907623291,
          8.02708911895752,
          7.933256149291992,
          9.85010051727295,
          14.80422306060791,
          11.02244758605957,
          9.785642623901367,
          14.111471176147461,
          12.713430404663086,
          16.058748245239258,
          15.765145301818848,
          12.003495216369629,
          9.200369834899902,
          9.198588371276855,
          13.909173011779785,
          15.998010635375977,
          5.467970371246338,
          6.537282943725586,
          15.955538749694824,
          13.598301887512207,
          8.637275695800781,
          6.304977893829346,
          9.137331008911133,
          11.742910385131836,
          13.45131778717041,
          13.487156867980957,
          13.891569137573242,
          8.015728950500488,
          12.475858688354492,
          8.827878952026367,
          11.740511894226074,
          9.995800018310547,
          13.557466506958008,
          10.122661590576172,
          7.794753074645996,
          10.767359733581543,
          8.484134674072266,
          16.02323341369629,
          14.039470672607422,
          9.532666206359863,
          13.685775756835938,
          12.26466178894043,
          7.961408615112305,
          15.547281265258789,
          11.677513122558594,
          7.1518073081970215,
          15.724112510681152,
          11.167837142944336,
          12.425789833068848,
          10.27676010131836,
          7.149433135986328,
          12.952814102172852,
          12.608844757080078,
          9.771486282348633,
          11.596365928649902,
          11.987435340881348,
          7.116285800933838,
          10.543259620666504,
          11.179571151733398,
          11.533111572265625,
          11.551274299621582,
          8.396353721618652,
          8.989274024963379,
          12.321231842041016,
          10.366540908813477,
          5.801852226257324,
          13.24897289276123,
          9.968961715698242,
          6.392980098724365,
          8.601255416870117,
          12.40965461730957,
          13.304067611694336,
          14.111482620239258,
          11.725534439086914,
          14.288887023925781,
          6.963964939117432,
          12.529834747314453,
          9.430716514587402,
          12.999348640441895,
          15.968920707702637,
          9.136574745178223,
          12.363001823425293,
          12.872354507446289,
          10.3165283203125,
          10.202876091003418,
          10.336588859558105,
          5.4448323249816895,
          13.131597518920898,
          10.369790077209473,
          12.057965278625488,
          9.141420364379883,
          13.083720207214355,
          12.471901893615723,
          11.277630805969238,
          8.763522148132324,
          5.963685035705566,
          15.123699188232422,
          11.53111457824707,
          14.242619514465332,
          10.178914070129395,
          9.484020233154297,
          7.636206150054932,
          9.858104705810547,
          12.654438972473145,
          13.895381927490234,
          13.730609893798828,
          9.585627555847168,
          13.111014366149902,
          9.185993194580078,
          11.083983421325684,
          9.496746063232422,
          10.13839054107666,
          5.601106643676758,
          12.665200233459473,
          6.7059736251831055,
          13.27169132232666,
          14.55960464477539,
          8.728289604187012,
          13.66431713104248,
          13.642125129699707,
          10.384191513061523,
          12.223719596862793,
          11.815582275390625,
          9.67961597442627,
          13.368552207946777,
          8.951635360717773,
          13.702057838439941,
          9.497201919555664,
          8.05002212524414,
          9.442441940307617,
          15.256787300109863,
          15.59506607055664,
          12.168913841247559,
          16.290895462036133,
          11.7378511428833,
          10.425902366638184,
          12.57077407836914,
          9.050370216369629,
          8.671951293945312,
          13.219356536865234,
          12.618264198303223,
          14.174107551574707,
          5.300748348236084,
          6.946679592132568,
          13.936227798461914,
          6.879644393920898,
          14.169164657592773,
          12.79259967803955,
          6.583220958709717,
          6.8322529792785645,
          14.667893409729004,
          12.007490158081055,
          7.533441543579102,
          11.496188163757324,
          10.711326599121094,
          5.582907199859619,
          12.250362396240234,
          7.438442707061768,
          12.280306816101074,
          12.468734741210938,
          10.864415168762207,
          11.881094932556152,
          8.804497718811035,
          12.980164527893066,
          12.492254257202148,
          6.297274112701416,
          14.81937026977539,
          7.17842960357666,
          12.402129173278809,
          11.637337684631348,
          10.12173843383789,
          6.524756908416748,
          12.555693626403809,
          5.8651275634765625,
          9.072447776794434,
          15.831151962280273,
          9.112335205078125,
          12.714057922363281,
          13.702570915222168,
          7.151482105255127,
          9.604890823364258,
          7.279207706451416,
          11.719868659973145,
          13.06075382232666,
          11.81605052947998,
          10.766267776489258,
          7.336376667022705,
          8.895611763000488,
          11.957405090332031,
          9.367835998535156,
          9.462776184082031,
          7.98937463760376,
          9.062594413757324,
          14.87619400024414,
          7.34814977645874,
          15.386860847473145,
          9.061071395874023,
          12.5565824508667,
          11.983858108520508,
          10.951210021972656,
          9.894527435302734,
          11.970710754394531,
          11.186690330505371,
          7.322440147399902,
          15.955690383911133,
          13.037412643432617,
          13.032240867614746,
          12.793816566467285,
          7.424246311187744,
          10.532574653625488,
          10.7600736618042,
          15.023008346557617,
          10.229901313781738,
          15.655439376831055,
          10.356684684753418,
          12.169758796691895,
          15.803791999816895,
          12.154443740844727,
          12.032936096191406,
          12.272565841674805,
          11.147317886352539,
          8.015728950500488,
          11.385106086730957,
          9.768086433410645,
          9.220088005065918,
          12.818805694580078,
          15.839874267578125,
          12.13081169128418,
          10.961584091186523,
          6.363025665283203,
          14.08421802520752,
          9.588210105895996,
          12.283817291259766,
          5.865126609802246,
          15.74362850189209,
          15.042441368103027,
          8.142993927001953,
          7.533762454986572,
          11.59541130065918,
          10.761696815490723,
          12.15662670135498,
          10.323999404907227,
          8.327364921569824,
          14.834084510803223,
          9.192930221557617,
          13.13638973236084,
          11.87020492553711,
          10.346231460571289,
          15.997361183166504,
          7.410254001617432,
          8.516061782836914,
          7.665529727935791,
          13.220303535461426,
          15.776249885559082,
          15.454054832458496,
          6.165955066680908,
          13.619067192077637,
          8.326404571533203,
          15.655710220336914,
          6.769046783447266,
          8.507779121398926,
          10.069330215454102,
          15.0755033493042,
          16.107820510864258,
          16.29145050048828,
          11.667129516601562,
          10.85491943359375,
          14.12251091003418,
          8.799800872802734,
          12.599671363830566,
          12.63660717010498,
          8.611711502075195,
          14.868819236755371,
          13.225452423095703,
          9.915580749511719,
          12.21104621887207,
          9.744908332824707,
          12.504034042358398,
          8.88555908203125,
          13.91876220703125,
          9.812947273254395,
          13.145780563354492,
          13.91757583618164,
          12.25032901763916,
          13.079643249511719,
          15.578516960144043,
          6.815987586975098,
          8.876646041870117,
          11.535572052001953,
          11.953485488891602,
          7.413642883300781,
          5.349533557891846,
          15.655709266662598,
          11.601367950439453,
          12.811909675598145,
          8.49631118774414,
          15.981378555297852,
          12.365897178649902,
          14.170817375183105,
          14.625691413879395,
          10.923589706420898,
          14.248589515686035,
          11.764102935791016,
          15.44281005859375,
          11.817020416259766
         ]
        },
        {
         "customdata": [
          [
           "person know could mani american",
           "mani american diabet report"
          ],
          [
           "person know could mani american",
           "diabet gastroparesi"
          ],
          [
           "person know could mani american",
           "person drive unit state diabet"
          ],
          [
           "person know could mani american",
           "ball tingl"
          ],
          [
           "person know could mani american",
           "bodi trembl diabet"
          ],
          [
           "person know could mani american",
           "person know diabet"
          ],
          [
           "person know could mani american",
           "diabeet"
          ],
          [
           "person know could mani american",
           "happen hospit diabet"
          ],
          [
           "person know could mani american",
           "diabet instruct alway carri form carbohydr case emerg"
          ],
          [
           "person know could mani american",
           "diabet caus due malfunct"
          ],
          [
           "person know could mani american",
           "could pleas tell diabet"
          ],
          [
           "person know could mani american",
           "could dog die diabet"
          ],
          [
           "person know could mani american",
           "would know diabet"
          ],
          [
           "person know could mani american",
           "blur vision time diabet"
          ]
         ],
         "hovertemplate": "summary=%{customdata[0]}<br>pc_1=%{x}<br>pc_2=%{y}<br>pc_3=%{z}<br>sentence=%{customdata[1]}<extra></extra>",
         "legendgroup": "person know could mani american",
         "marker": {
          "color": "#FFA15A",
          "size": 5,
          "symbol": "circle"
         },
         "mode": "markers",
         "name": "person know could mani american",
         "scene": "scene",
         "showlegend": true,
         "type": "scatter3d",
         "x": [
          5.284006595611572,
          5.8802032470703125,
          5.439525604248047,
          6.189560413360596,
          6.096355438232422,
          6.117903232574463,
          5.814933776855469,
          5.738704681396484,
          5.73422384262085,
          6.381648063659668,
          5.890818119049072,
          5.815885543823242,
          6.02305269241333,
          6.472560405731201
         ],
         "y": [
          -1.8574178218841553,
          -2.0864615440368652,
          -1.9508631229400635,
          -2.6362452507019043,
          -2.0798871517181396,
          -2.3241147994995117,
          -2.2153053283691406,
          -2.0862984657287598,
          -2.2110233306884766,
          -2.7505581378936768,
          -2.129995822906494,
          -2.187657594680786,
          -2.2075023651123047,
          -2.955336332321167
         ],
         "z": [
          2.6264841556549072,
          2.2774927616119385,
          3.1511032581329346,
          1.6149111986160278,
          1.7903660535812378,
          2.2767369747161865,
          2.7934553623199463,
          2.2795627117156982,
          2.8461928367614746,
          2.667462110519409,
          3.651078462600708,
          3.551637887954712,
          2.281604051589966,
          1.570605993270874
         ]
        }
       ],
       "layout": {
        "height": 500,
        "legend": {
         "itemclick": "toggleothers",
         "title": {
          "text": "Cluster Summaries"
         },
         "tracegroupgap": 0
        },
        "margin": {
         "t": 60
        },
        "scene": {
         "domain": {
          "x": [
           0,
           1
          ],
          "y": [
           0,
           1
          ]
         },
         "xaxis": {
          "title": {
           "text": "pc_1"
          }
         },
         "yaxis": {
          "title": {
           "text": "pc_2"
          }
         },
         "zaxis": {
          "title": {
           "text": "pc_3"
          }
         }
        },
        "template": {
         "data": {
          "bar": [
           {
            "error_x": {
             "color": "#2a3f5f"
            },
            "error_y": {
             "color": "#2a3f5f"
            },
            "marker": {
             "line": {
              "color": "#E5ECF6",
              "width": 0.5
             }
            },
            "type": "bar"
           }
          ],
          "barpolar": [
           {
            "marker": {
             "line": {
              "color": "#E5ECF6",
              "width": 0.5
             }
            },
            "type": "barpolar"
           }
          ],
          "carpet": [
           {
            "aaxis": {
             "endlinecolor": "#2a3f5f",
             "gridcolor": "white",
             "linecolor": "white",
             "minorgridcolor": "white",
             "startlinecolor": "#2a3f5f"
            },
            "baxis": {
             "endlinecolor": "#2a3f5f",
             "gridcolor": "white",
             "linecolor": "white",
             "minorgridcolor": "white",
             "startlinecolor": "#2a3f5f"
            },
            "type": "carpet"
           }
          ],
          "choropleth": [
           {
            "colorbar": {
             "outlinewidth": 0,
             "ticks": ""
            },
            "type": "choropleth"
           }
          ],
          "contour": [
           {
            "colorbar": {
             "outlinewidth": 0,
             "ticks": ""
            },
            "colorscale": [
             [
              0,
              "#0d0887"
             ],
             [
              0.1111111111111111,
              "#46039f"
             ],
             [
              0.2222222222222222,
              "#7201a8"
             ],
             [
              0.3333333333333333,
              "#9c179e"
             ],
             [
              0.4444444444444444,
              "#bd3786"
             ],
             [
              0.5555555555555556,
              "#d8576b"
             ],
             [
              0.6666666666666666,
              "#ed7953"
             ],
             [
              0.7777777777777778,
              "#fb9f3a"
             ],
             [
              0.8888888888888888,
              "#fdca26"
             ],
             [
              1,
              "#f0f921"
             ]
            ],
            "type": "contour"
           }
          ],
          "contourcarpet": [
           {
            "colorbar": {
             "outlinewidth": 0,
             "ticks": ""
            },
            "type": "contourcarpet"
           }
          ],
          "heatmap": [
           {
            "colorbar": {
             "outlinewidth": 0,
             "ticks": ""
            },
            "colorscale": [
             [
              0,
              "#0d0887"
             ],
             [
              0.1111111111111111,
              "#46039f"
             ],
             [
              0.2222222222222222,
              "#7201a8"
             ],
             [
              0.3333333333333333,
              "#9c179e"
             ],
             [
              0.4444444444444444,
              "#bd3786"
             ],
             [
              0.5555555555555556,
              "#d8576b"
             ],
             [
              0.6666666666666666,
              "#ed7953"
             ],
             [
              0.7777777777777778,
              "#fb9f3a"
             ],
             [
              0.8888888888888888,
              "#fdca26"
             ],
             [
              1,
              "#f0f921"
             ]
            ],
            "type": "heatmap"
           }
          ],
          "heatmapgl": [
           {
            "colorbar": {
             "outlinewidth": 0,
             "ticks": ""
            },
            "colorscale": [
             [
              0,
              "#0d0887"
             ],
             [
              0.1111111111111111,
              "#46039f"
             ],
             [
              0.2222222222222222,
              "#7201a8"
             ],
             [
              0.3333333333333333,
              "#9c179e"
             ],
             [
              0.4444444444444444,
              "#bd3786"
             ],
             [
              0.5555555555555556,
              "#d8576b"
             ],
             [
              0.6666666666666666,
              "#ed7953"
             ],
             [
              0.7777777777777778,
              "#fb9f3a"
             ],
             [
              0.8888888888888888,
              "#fdca26"
             ],
             [
              1,
              "#f0f921"
             ]
            ],
            "type": "heatmapgl"
           }
          ],
          "histogram": [
           {
            "marker": {
             "colorbar": {
              "outlinewidth": 0,
              "ticks": ""
             }
            },
            "type": "histogram"
           }
          ],
          "histogram2d": [
           {
            "colorbar": {
             "outlinewidth": 0,
             "ticks": ""
            },
            "colorscale": [
             [
              0,
              "#0d0887"
             ],
             [
              0.1111111111111111,
              "#46039f"
             ],
             [
              0.2222222222222222,
              "#7201a8"
             ],
             [
              0.3333333333333333,
              "#9c179e"
             ],
             [
              0.4444444444444444,
              "#bd3786"
             ],
             [
              0.5555555555555556,
              "#d8576b"
             ],
             [
              0.6666666666666666,
              "#ed7953"
             ],
             [
              0.7777777777777778,
              "#fb9f3a"
             ],
             [
              0.8888888888888888,
              "#fdca26"
             ],
             [
              1,
              "#f0f921"
             ]
            ],
            "type": "histogram2d"
           }
          ],
          "histogram2dcontour": [
           {
            "colorbar": {
             "outlinewidth": 0,
             "ticks": ""
            },
            "colorscale": [
             [
              0,
              "#0d0887"
             ],
             [
              0.1111111111111111,
              "#46039f"
             ],
             [
              0.2222222222222222,
              "#7201a8"
             ],
             [
              0.3333333333333333,
              "#9c179e"
             ],
             [
              0.4444444444444444,
              "#bd3786"
             ],
             [
              0.5555555555555556,
              "#d8576b"
             ],
             [
              0.6666666666666666,
              "#ed7953"
             ],
             [
              0.7777777777777778,
              "#fb9f3a"
             ],
             [
              0.8888888888888888,
              "#fdca26"
             ],
             [
              1,
              "#f0f921"
             ]
            ],
            "type": "histogram2dcontour"
           }
          ],
          "mesh3d": [
           {
            "colorbar": {
             "outlinewidth": 0,
             "ticks": ""
            },
            "type": "mesh3d"
           }
          ],
          "parcoords": [
           {
            "line": {
             "colorbar": {
              "outlinewidth": 0,
              "ticks": ""
             }
            },
            "type": "parcoords"
           }
          ],
          "pie": [
           {
            "automargin": true,
            "type": "pie"
           }
          ],
          "scatter": [
           {
            "marker": {
             "colorbar": {
              "outlinewidth": 0,
              "ticks": ""
             }
            },
            "type": "scatter"
           }
          ],
          "scatter3d": [
           {
            "line": {
             "colorbar": {
              "outlinewidth": 0,
              "ticks": ""
             }
            },
            "marker": {
             "colorbar": {
              "outlinewidth": 0,
              "ticks": ""
             }
            },
            "type": "scatter3d"
           }
          ],
          "scattercarpet": [
           {
            "marker": {
             "colorbar": {
              "outlinewidth": 0,
              "ticks": ""
             }
            },
            "type": "scattercarpet"
           }
          ],
          "scattergeo": [
           {
            "marker": {
             "colorbar": {
              "outlinewidth": 0,
              "ticks": ""
             }
            },
            "type": "scattergeo"
           }
          ],
          "scattergl": [
           {
            "marker": {
             "colorbar": {
              "outlinewidth": 0,
              "ticks": ""
             }
            },
            "type": "scattergl"
           }
          ],
          "scattermapbox": [
           {
            "marker": {
             "colorbar": {
              "outlinewidth": 0,
              "ticks": ""
             }
            },
            "type": "scattermapbox"
           }
          ],
          "scatterpolar": [
           {
            "marker": {
             "colorbar": {
              "outlinewidth": 0,
              "ticks": ""
             }
            },
            "type": "scatterpolar"
           }
          ],
          "scatterpolargl": [
           {
            "marker": {
             "colorbar": {
              "outlinewidth": 0,
              "ticks": ""
             }
            },
            "type": "scatterpolargl"
           }
          ],
          "scatterternary": [
           {
            "marker": {
             "colorbar": {
              "outlinewidth": 0,
              "ticks": ""
             }
            },
            "type": "scatterternary"
           }
          ],
          "surface": [
           {
            "colorbar": {
             "outlinewidth": 0,
             "ticks": ""
            },
            "colorscale": [
             [
              0,
              "#0d0887"
             ],
             [
              0.1111111111111111,
              "#46039f"
             ],
             [
              0.2222222222222222,
              "#7201a8"
             ],
             [
              0.3333333333333333,
              "#9c179e"
             ],
             [
              0.4444444444444444,
              "#bd3786"
             ],
             [
              0.5555555555555556,
              "#d8576b"
             ],
             [
              0.6666666666666666,
              "#ed7953"
             ],
             [
              0.7777777777777778,
              "#fb9f3a"
             ],
             [
              0.8888888888888888,
              "#fdca26"
             ],
             [
              1,
              "#f0f921"
             ]
            ],
            "type": "surface"
           }
          ],
          "table": [
           {
            "cells": {
             "fill": {
              "color": "#EBF0F8"
             },
             "line": {
              "color": "white"
             }
            },
            "header": {
             "fill": {
              "color": "#C8D4E3"
             },
             "line": {
              "color": "white"
             }
            },
            "type": "table"
           }
          ]
         },
         "layout": {
          "annotationdefaults": {
           "arrowcolor": "#2a3f5f",
           "arrowhead": 0,
           "arrowwidth": 1
          },
          "autotypenumbers": "strict",
          "coloraxis": {
           "colorbar": {
            "outlinewidth": 0,
            "ticks": ""
           }
          },
          "colorscale": {
           "diverging": [
            [
             0,
             "#8e0152"
            ],
            [
             0.1,
             "#c51b7d"
            ],
            [
             0.2,
             "#de77ae"
            ],
            [
             0.3,
             "#f1b6da"
            ],
            [
             0.4,
             "#fde0ef"
            ],
            [
             0.5,
             "#f7f7f7"
            ],
            [
             0.6,
             "#e6f5d0"
            ],
            [
             0.7,
             "#b8e186"
            ],
            [
             0.8,
             "#7fbc41"
            ],
            [
             0.9,
             "#4d9221"
            ],
            [
             1,
             "#276419"
            ]
           ],
           "sequential": [
            [
             0,
             "#0d0887"
            ],
            [
             0.1111111111111111,
             "#46039f"
            ],
            [
             0.2222222222222222,
             "#7201a8"
            ],
            [
             0.3333333333333333,
             "#9c179e"
            ],
            [
             0.4444444444444444,
             "#bd3786"
            ],
            [
             0.5555555555555556,
             "#d8576b"
            ],
            [
             0.6666666666666666,
             "#ed7953"
            ],
            [
             0.7777777777777778,
             "#fb9f3a"
            ],
            [
             0.8888888888888888,
             "#fdca26"
            ],
            [
             1,
             "#f0f921"
            ]
           ],
           "sequentialminus": [
            [
             0,
             "#0d0887"
            ],
            [
             0.1111111111111111,
             "#46039f"
            ],
            [
             0.2222222222222222,
             "#7201a8"
            ],
            [
             0.3333333333333333,
             "#9c179e"
            ],
            [
             0.4444444444444444,
             "#bd3786"
            ],
            [
             0.5555555555555556,
             "#d8576b"
            ],
            [
             0.6666666666666666,
             "#ed7953"
            ],
            [
             0.7777777777777778,
             "#fb9f3a"
            ],
            [
             0.8888888888888888,
             "#fdca26"
            ],
            [
             1,
             "#f0f921"
            ]
           ]
          },
          "colorway": [
           "#636efa",
           "#EF553B",
           "#00cc96",
           "#ab63fa",
           "#FFA15A",
           "#19d3f3",
           "#FF6692",
           "#B6E880",
           "#FF97FF",
           "#FECB52"
          ],
          "font": {
           "color": "#2a3f5f"
          },
          "geo": {
           "bgcolor": "white",
           "lakecolor": "white",
           "landcolor": "#E5ECF6",
           "showlakes": true,
           "showland": true,
           "subunitcolor": "white"
          },
          "hoverlabel": {
           "align": "left"
          },
          "hovermode": "closest",
          "mapbox": {
           "style": "light"
          },
          "paper_bgcolor": "white",
          "plot_bgcolor": "#E5ECF6",
          "polar": {
           "angularaxis": {
            "gridcolor": "white",
            "linecolor": "white",
            "ticks": ""
           },
           "bgcolor": "#E5ECF6",
           "radialaxis": {
            "gridcolor": "white",
            "linecolor": "white",
            "ticks": ""
           }
          },
          "scene": {
           "xaxis": {
            "backgroundcolor": "#E5ECF6",
            "gridcolor": "white",
            "gridwidth": 2,
            "linecolor": "white",
            "showbackground": true,
            "ticks": "",
            "zerolinecolor": "white"
           },
           "yaxis": {
            "backgroundcolor": "#E5ECF6",
            "gridcolor": "white",
            "gridwidth": 2,
            "linecolor": "white",
            "showbackground": true,
            "ticks": "",
            "zerolinecolor": "white"
           },
           "zaxis": {
            "backgroundcolor": "#E5ECF6",
            "gridcolor": "white",
            "gridwidth": 2,
            "linecolor": "white",
            "showbackground": true,
            "ticks": "",
            "zerolinecolor": "white"
           }
          },
          "shapedefaults": {
           "line": {
            "color": "#2a3f5f"
           }
          },
          "ternary": {
           "aaxis": {
            "gridcolor": "white",
            "linecolor": "white",
            "ticks": ""
           },
           "baxis": {
            "gridcolor": "white",
            "linecolor": "white",
            "ticks": ""
           },
           "bgcolor": "#E5ECF6",
           "caxis": {
            "gridcolor": "white",
            "linecolor": "white",
            "ticks": ""
           }
          },
          "title": {
           "x": 0.05
          },
          "xaxis": {
           "automargin": true,
           "gridcolor": "white",
           "linecolor": "white",
           "ticks": "",
           "title": {
            "standoff": 15
           },
           "zerolinecolor": "white",
           "zerolinewidth": 2
          },
          "yaxis": {
           "automargin": true,
           "gridcolor": "white",
           "linecolor": "white",
           "ticks": "",
           "title": {
            "standoff": 15
           },
           "zerolinecolor": "white",
           "zerolinewidth": 2
          }
         }
        },
        "title": {
         "text": "Projected Question Vector Manifold"
        }
       }
      },
      "text/html": [
       "<div>                            <div id=\"03fb0308-75c7-4a34-a9ad-be87b1a2884d\" class=\"plotly-graph-div\" style=\"height:500px; width:100%;\"></div>            <script type=\"text/javascript\">                require([\"plotly\"], function(Plotly) {                    window.PLOTLYENV=window.PLOTLYENV || {};                                    if (document.getElementById(\"03fb0308-75c7-4a34-a9ad-be87b1a2884d\")) {                    Plotly.newPlot(                        \"03fb0308-75c7-4a34-a9ad-be87b1a2884d\",                        [{\"customdata\": [[\"type sugar blood insulin one\", \"best type insulin syring treatment diabet\"], [\"type sugar blood insulin one\", \"exercis diabet\"], [\"type sugar blood insulin one\", \"diabet control nutrilit protein powder\"], [\"type sugar blood insulin one\", \"diabet type one type two\"], [\"type sugar blood insulin one\", \"need diabet\"], [\"type sugar blood insulin one\", \"insulin shot produc bright yellow urin\"], [\"type sugar blood insulin one\", \"much diabet cat\"], [\"type sugar blood insulin one\", \"mani gram sugar ok one thousand eight hundr ada diet\"], [\"type sugar blood insulin one\", \"diabet get retinopathi treatment\"], [\"type sugar blood insulin one\", \"swim good type two diabet\"], [\"type sugar blood insulin one\", \"celb diabet\"], [\"type sugar blood insulin one\", \"activ goe diabet\"], [\"type sugar blood insulin one\", \"reduc blood glucos level immedi\"], [\"type sugar blood insulin one\", \"medic avail oral diabet\"], [\"type sugar blood insulin one\", \"stop diabet affect\"], [\"type sugar blood insulin one\", \"cell type one diabet damag\"], [\"type sugar blood insulin one\", \"benefit use diabet test equip\"], [\"type sugar blood insulin one\", \"blood glucos lost diabet mellitu\"], [\"type sugar blood insulin one\", \"liquor best diabet\"], [\"type sugar blood insulin one\", \"type one diabet becom insulin resist\"], [\"type sugar blood insulin one\", \"chang diet take slim fast\"], [\"type sugar blood insulin one\", \"symptom caus diabet treatment\"], [\"type sugar blood insulin one\", \"type one diabet\"], [\"type sugar blood insulin one\", \"orang make blood sugar level rais\"], [\"type sugar blood insulin one\", \"diabet cat\"], [\"type sugar blood insulin one\", \"two way diabet control\"], [\"type sugar blood insulin one\", \"child diabet develop sign hypoglycemia given\"], [\"type sugar blood insulin one\", \"type two diabet impact bodi extend period time\"], [\"type sugar blood insulin one\", \"would name program diabet care india specif\"], [\"type sugar blood insulin one\", \"side effect insulin resist\"], [\"type sugar blood insulin one\", \"one treat juvenil diabet\"], [\"type sugar blood insulin one\", \"insulin resist prevent\"], [\"type sugar blood insulin one\", \"appl rais blood glucos\"], [\"type sugar blood insulin one\", \"best way treat diabet without take drug\"], [\"type sugar blood insulin one\", \"rule garden diabet\"], [\"type sugar blood insulin one\", \"normal valu pu cell urin\"], [\"type sugar blood insulin one\", \"one medic must use type one diabet\"], [\"type sugar blood insulin one\", \"eat orang rais blood sugar\"], [\"type sugar blood insulin one\", \"type one diabet drink energi drink insulin depend person\"], [\"type sugar blood insulin one\", \"confection sugar use diabet cooki\"], [\"type sugar blood insulin one\", \"eat peanut gestat diabet\"], [\"type sugar blood insulin one\", \"food bought poor rich person caus diabet\"], [\"type sugar blood insulin one\", \"expect outcom patient type one type two diabet\"], [\"type sugar blood insulin one\", \"take viagra type two diabet\"], [\"type sugar blood insulin one\", \"take aspirin diabet\"], [\"type sugar blood insulin one\", \"symptom diabet insteadof rise blood sugar\"], [\"type sugar blood insulin one\", \"anim turn diabet\"], [\"type sugar blood insulin one\", \"mani calori diabet day\"], [\"type sugar blood insulin one\", \"herbalif formula one much sugar\"], [\"type sugar blood insulin one\", \"diabet religion\"], [\"type sugar blood insulin one\", \"think husband cheat station japan biloxi ms would like know privat investig assist much would cost\"], [\"type sugar blood insulin one\", \"use glucos recip call liquid glucos\"], [\"type sugar blood insulin one\", \"husband diabet fast take med morn say take food\"], [\"type sugar blood insulin one\", \"way help control blood sugar level\"], [\"type sugar blood insulin one\", \"insulin taken oral type two diabet\"], [\"type sugar blood insulin one\", \"food fluid correct diabet emerg\"], [\"type sugar blood insulin one\", \"diabet drink\"], [\"type sugar blood insulin one\", \"dextrin caus sharp spike blood sugar level\"], [\"type sugar blood insulin one\", \"date good diabet patient\"], [\"type sugar blood insulin one\", \"buy diabet\"], [\"type sugar blood insulin one\", \"worri friend fat famili diabet except tri help lose weight watch eat sport dosent listen\"], [\"type sugar blood insulin one\", \"blood sugar two hr eat diabet\"], [\"type sugar blood insulin one\", \"diabet eat stawberri\"], [\"type sugar blood insulin one\", \"five fact diabet\"], [\"type sugar blood insulin one\", \"peopl form diseas diabet treat inject\"], [\"type sugar blood insulin one\", \"mani peanut diabet\"], [\"type sugar blood insulin one\", \"must monitor individu diabet\"], [\"type sugar blood insulin one\", \"correct dose insulin take blood sugar level seventeen point zero pre meal measur\"], [\"type sugar blood insulin one\", \"die diabet pregnant\"], [\"type sugar blood insulin one\", \"diabet manag\"], [\"type sugar blood insulin one\", \"reason koch abdomen\"], [\"type sugar blood insulin one\", \"get diabet consum blood someon diabet\"], [\"type sugar blood insulin one\", \"best insulin pen avail market\"], [\"type sugar blood insulin one\", \"older diabet find reason price life insur polici\"], [\"type sugar blood insulin one\", \"rash repeat sign diabet\"], [\"type sugar blood insulin one\", \"found treatment diabet\"], [\"type sugar blood insulin one\", \"much sugar date\"], [\"type sugar blood insulin one\", \"diabet take clonazepam\"], [\"type sugar blood insulin one\", \"jelli bean suitabl peopl diabet\"], [\"type sugar blood insulin one\", \"sign seek diabet test\"], [\"type sugar blood insulin one\", \"diseas bodi produc properli use insulin\"], [\"type sugar blood insulin one\", \"diabet sugar alcohol\"], [\"type sugar blood insulin one\", \"gamer fat\"], [\"type sugar blood insulin one\", \"food poison affect diabet\"], [\"type sugar blood insulin one\", \"happen someon type one diabet go long without insulin shot\"], [\"type sugar blood insulin one\", \"brandi bad diabet patient\"], [\"type sugar blood insulin one\", \"caus prevent diabet\"], [\"type sugar blood insulin one\", \"tell bodi much sugar\"], [\"type sugar blood insulin one\", \"know type one diabet\"], [\"type sugar blood insulin one\", \"get rid type two diabet\"], [\"type sugar blood insulin one\", \"much sugar averag bottl cheap wine supermarket beer head toward diabet type two high blood glucos alcohol drink safe\"], [\"type sugar blood insulin one\", \"depend diabet mellitu caus chronic renal failur\"], [\"type sugar blood insulin one\", \"lower risk get diabet\"], [\"type sugar blood insulin one\", \"differ diabet coma insulin reaction\"], [\"type sugar blood insulin one\", \"diabet get insulin\"], [\"type sugar blood insulin one\", \"diabet patent use honey warm milk\"], [\"type sugar blood insulin one\", \"brittl diabet treat\"], [\"type sugar blood insulin one\", \"orang rais blood sugar\"], [\"type sugar blood insulin one\", \"much sugar seven\"], [\"type sugar blood insulin one\", \"salad lower blood sugar\"], [\"type sugar blood insulin one\", \"build lactic acid pain\"], [\"type sugar blood insulin one\", \"food may tast sweet littl glucos\"], [\"type sugar blood insulin one\", \"diabet lead organ psychos\"], [\"type sugar blood insulin one\", \"averag life expect person diabet\"], [\"type sugar blood insulin one\", \"product much insulin typic\"], [\"type sugar blood insulin one\", \"diabet affect daili life\"], [\"type sugar blood insulin one\", \"smoke affect someon type two diabet\"], [\"type sugar blood insulin one\", \"treat diabet mellitu\"], [\"type sugar blood insulin one\", \"peopl diabet\"], [\"type sugar blood insulin one\", \"diabet exercis\"], [\"type sugar blood insulin one\", \"keep insulin pump work\"], [\"type sugar blood insulin one\", \"diabet affect result blood alcohol test\"], [\"type sugar blood insulin one\", \"long take insulin bring type one diabet\"], [\"type sugar blood insulin one\", \"diseas requir patient receiv regular insulin inject\"], [\"type sugar blood insulin one\", \"happen non diabet take insulin\"], [\"type sugar blood insulin one\", \"diabet consult\"], [\"type sugar blood insulin one\", \"lexapro rais blood sugar level\"], [\"type sugar blood insulin one\", \"insulin depand dibiti curabl\"], [\"type sugar blood insulin one\", \"treat diabet type one\"], [\"type sugar blood insulin one\", \"buy one touch surestep machin\"], [\"type sugar blood insulin one\", \"diabet take hgh\"], [\"type sugar blood insulin one\", \"mani peopl expect develop diabet america\"], [\"type sugar blood insulin one\", \"inform type one diabet\"], [\"type sugar blood insulin one\", \"diabet eat prawn\"], [\"type sugar blood insulin one\", \"die diabet\"], [\"type sugar blood insulin one\", \"kid love sugar\"], [\"type sugar blood insulin one\", \"patient suffer noninsulin depend diabet mellitu develop hypoglycemia\"], [\"type sugar blood insulin one\", \"lower blood sugar quickli type two diabet monitor blood sugar twice day know low take barley sugar sweet feel fine\"], [\"type sugar blood insulin one\", \"evapor cane juic right diabet\"], [\"type sugar blood insulin one\", \"anti diabet plant\"], [\"type sugar blood insulin one\", \"medic type one diabet take\"], [\"type sugar blood insulin one\", \"walk effect diabet patient\"], [\"type sugar blood insulin one\", \"liver diseas heal self person stop drink\"], [\"type sugar blood insulin one\", \"iv fluid need diabet patient\"], [\"type sugar blood insulin one\", \"eat lot consid type behavior\"], [\"type sugar blood insulin one\", \"differ diabet diabet\"], [\"type sugar blood insulin one\", \"eat blood sugar low\"], [\"type sugar blood insulin one\", \"excess amount sugar caus diabet\"], [\"type sugar blood insulin one\", \"sugar per day bad\"], [\"type sugar blood insulin one\", \"happen health eat much chocol\"], [\"type sugar blood insulin one\", \"type natur sugar spike insulin level\"], [\"type sugar blood insulin one\", \"part human bodi affect diabet\"], [\"type sugar blood insulin one\", \"diabet fake\"], [\"type sugar blood insulin one\", \"two hundr eighti pound fat\"], [\"type sugar blood insulin one\", \"degre lifestyl chang reduc risk diabet associ insulin resist\"], [\"type sugar blood insulin one\", \"appl regul blood sugar\"], [\"type sugar blood insulin one\", \"orang juic recommend blood sugar low\"], [\"type sugar blood insulin one\", \"prognosi insulin resist\"], [\"type sugar blood insulin one\", \"illeg ask applic diabet\"], [\"type sugar blood insulin one\", \"type one diabet\"], [\"type sugar blood insulin one\", \"onetouch ultra product use\"], [\"type sugar blood insulin one\", \"three type perment\"], [\"type sugar blood insulin one\", \"essenti compon control type two diabet\"], [\"type sugar blood insulin one\", \"raisin good diabet\"], [\"type sugar blood insulin one\", \"lose diabet\"], [\"type sugar blood insulin one\", \"find someth check blood glucos level\"], [\"type sugar blood insulin one\", \"insulin depend diabet\"], [\"type sugar blood insulin one\", \"treat diabet type one\"], [\"type sugar blood insulin one\", \"joke diabet\"], [\"type sugar blood insulin one\", \"diabet type two\"], [\"type sugar blood insulin one\", \"prevent type one diabet\"], [\"type sugar blood insulin one\", \"develop first effect treatment diabet\"], [\"type sugar blood insulin one\", \"type peopl avoid select friend\"], [\"type sugar blood insulin one\", \"treatment avail high blood plasma\"], [\"type sugar blood insulin one\", \"bring blood sugar\"], [\"type sugar blood insulin one\", \"grow type one diabet\"]], \"hovertemplate\": \"summary=%{customdata[0]}<br>pc_1=%{x}<br>pc_2=%{y}<br>pc_3=%{z}<br>sentence=%{customdata[1]}<extra></extra>\", \"legendgroup\": \"type sugar blood insulin one\", \"marker\": {\"color\": \"#636efa\", \"size\": 5, \"symbol\": \"circle\"}, \"mode\": \"markers\", \"name\": \"type sugar blood insulin one\", \"scene\": \"scene\", \"showlegend\": true, \"type\": \"scatter3d\", \"x\": [7.623045921325684, 2.828558921813965, 4.806412220001221, 6.1629958152771, 3.679060220718384, 6.583125591278076, -1.3976829051971436, -0.16329491138458252, -3.79146671295166, -0.44312599301338196, 3.272423028945923, 3.539470911026001, 1.8536490201950073, 3.8910200595855713, -3.332655668258667, 6.561929702758789, 1.2473986148834229, 6.41023588180542, 1.4748934507369995, 6.492215156555176, 0.43431320786476135, -2.699248790740967, 6.354926586151123, 2.2471232414245605, -1.2378735542297363, -1.2859464883804321, 7.0028581619262695, 6.228031635284424, -1.1715054512023926, 6.780991554260254, -1.6172715425491333, -2.619420051574707, 1.8994141817092896, 0.16258569061756134, -2.1692628860473633, 5.874009609222412, 3.143277168273926, 0.15005537867546082, 7.6474809646606445, 2.987511396408081, -4.021103858947754, -4.105793476104736, 9.035774230957031, -1.0811028480529785, 0.5505048632621765, -5.0333123207092285, 0.9106018543243408, 2.5803444385528564, 3.005070924758911, 3.566096067428589, 0.06057998538017273, 2.201148748397827, 1.4044169187545776, -0.5685335993766785, 6.949740409851074, -1.6981945037841797, 1.9249114990234375, -3.5918750762939453, 4.041179656982422, -3.7160849571228027, -2.6892237663269043, 5.5701494216918945, -1.1020435094833374, 5.06554651260376, 4.572720527648926, -1.2409076690673828, 1.980438470840454, 11.048405647277832, 3.741408586502075, -1.7116810083389282, -1.6332664489746094, 5.6739091873168945, 8.422341346740723, -2.732325315475464, 5.817072868347168, -0.5693072080612183, 3.8878486156463623, 3.734769582748413, -2.10931658744812, 7.418158531188965, 6.349033355712891, 3.4748640060424805, -4.1377787590026855, 0.2522106170654297, 4.739205360412598, 4.830085754394531, -2.897339344024658, 6.1352105140686035, 6.273616313934326, -1.2302916049957275, 0.5687851905822754, -2.0141375064849854, -1.6530065536499023, 7.534196853637695, 6.893726825714111, 2.4316253662109375, 2.977379083633423, 2.0164458751678467, 2.314742088317871, -0.8778783082962036, 2.7149312496185303, 1.049809217453003, 5.994180679321289, -3.550537586212158, 7.933660984039307, -1.6613670587539673, 3.4823458194732666, -4.139933109283447, -0.2439115345478058, -1.0942797660827637, 7.409983158111572, 7.222080707550049, 7.91077184677124, 8.775691986083984, 8.205268859863281, -1.5551841259002686, -0.9255698919296265, -2.5337679386138916, -1.5506548881530762, 3.1304190158843994, 3.943739175796509, -2.7075693607330322, -2.741889238357544, 0.6022340059280396, 3.7400238513946533, -4.39985466003418, 6.9009690284729, 4.994742393493652, -3.768494129180908, -2.34216570854187, 7.729809284210205, 4.011857986450195, 7.406287670135498, 5.915786266326904, -1.527284026145935, -0.5375260710716248, -0.06058575585484505, 4.545923233032227, 1.7866191864013672, -2.0077908039093018, -1.3496531248092651, 6.040858268737793, 5.7339396476745605, -1.1390602588653564, 4.949151992797852, 0.42593610286712646, 0.5961875319480896, 6.9111714363098145, 4.975223064422607, 6.354926109313965, 3.2858572006225586, 2.5075719356536865, -5.013836860656738, 2.189852714538574, -2.6526501178741455, 0.1355634331703186, 7.402041912078857, -1.5506548881530762, -1.5930967330932617, 4.167219638824463, -5.152329444885254, -1.8985801935195923, -5.335623741149902, -1.0731996297836304, 0.7254137992858887, -3.2991061210632324], \"y\": [1.977713942527771, 0.2878774404525757, -2.0162370204925537, 1.5545920133590698, -1.1104217767715454, 1.2702287435531616, 0.7598049640655518, 0.34365198016166687, 0.6366008520126343, 0.11157093942165375, -3.2192118167877197, -1.2853981256484985, -1.4725221395492554, -0.49386876821517944, 0.570734977722168, 1.2692914009094238, -0.926003098487854, -2.8563389778137207, -0.6399606466293335, 1.5653287172317505, -0.0257693063467741, -0.3690181076526642, 1.574774146080017, -2.4053573608398438, 0.6352664232254028, 0.5519081354141235, -5.627838611602783, -0.244619220495224, 0.060765571892261505, 1.3905837535858154, 0.7851125597953796, 3.297673225402832, -1.7739975452423096, 0.15369705855846405, 0.7252767086029053, -2.850503921508789, -1.2012059688568115, 0.1591714769601822, 1.8103991746902466, -2.3542630672454834, 0.7168978452682495, 0.746252715587616, 3.3625667095184326, 0.20906153321266174, 0.20982642471790314, -1.963744878768921, 0.17535340785980225, -1.1182374954223633, -2.285797357559204, -1.2696795463562012, 0.15005983412265778, -2.4224765300750732, -1.0009686946868896, 0.5594114065170288, 1.4870654344558716, 0.5964295268058777, -0.7881578803062439, 0.42376217246055603, -1.7419157028198242, 1.0783801078796387, -0.49822306632995605, -4.548083782196045, 0.13361865282058716, -1.8728102445602417, -1.5707051753997803, 0.5902996063232422, -0.914823591709137, 0.5809788107872009, -0.7971569895744324, 0.721810519695282, 0.7039382457733154, -2.96964168548584, 2.2619476318359375, 0.4194546043872833, -2.257995843887329, 0.5314432382583618, -1.6924264430999756, -1.3234593868255615, 0.6826534271240234, -4.746301174163818, 1.495895504951477, -3.141204833984375, 0.7732986211776733, 0.07408726960420609, 1.6927356719970703, -1.9956140518188477, 0.22684936225414276, -2.498234510421753, 1.384844183921814, -0.003968528006225824, -0.06589552015066147, -0.19087731838226318, -0.9041160345077515, 1.792633295059204, 1.3544588088989258, -2.1514055728912354, -1.3822975158691406, -2.102169990539551, -1.0458050966262817, 0.7335678935050964, -1.2188750505447388, -0.5356066226959229, -0.9266017079353333, 0.5750514268875122, 1.9774514436721802, -0.4672999978065491, 1.075217366218567, 1.0696102380752563, 0.07369498163461685, 0.6405445337295532, 1.8741815090179443, -4.343782424926758, 2.0803394317626953, 2.0638129711151123, 1.578258752822876, 0.6515250205993652, 0.731853723526001, 3.2464346885681152, 0.7879748940467834, -2.3644511699676514, -1.6750622987747192, -0.15976189076900482, 3.29254150390625, 0.20888888835906982, -0.6680302023887634, 0.8306769132614136, -5.451757431030273, -2.408284902572632, 0.6264458298683167, 0.8261303305625916, 2.003099203109741, -1.3136351108551025, -5.036349296569824, -3.334939956665039, -0.5857661366462708, -0.24756397306919098, 0.24608375132083893, -1.4160476922988892, -1.028645396232605, -0.3431408405303955, 2.6994481086730957, -1.9977494478225708, -1.722812294960022, 0.3350368142127991, 1.7405787706375122, -0.0346171073615551, -0.19059284031391144, 1.499686360359192, -1.9227749109268188, 1.574765920639038, -3.001206636428833, 0.7224477529525757, 2.111055850982666, -0.9290380477905273, 0.20565804839134216, 0.1689973920583725, 1.6850968599319458, 0.7879749536514282, -0.7605714797973633, 1.634151577949524, 2.442551612854004, 0.5763855576515198, 1.9839531183242798, 0.3892741799354553, -0.33832085132598877, 3.475569009780884], \"z\": [-1.263852596282959, 4.707407474517822, -0.9999428391456604, 3.0556771755218506, 1.9827526807785034, 5.925778388977051, 0.29695042967796326, -5.323485374450684, 4.209997653961182, 5.251811981201172, -6.7311601638793945, 0.09480911493301392, -5.690633773803711, 4.924304962158203, 4.131257057189941, 2.9656267166137695, -5.968238830566406, 3.2520201206207275, -3.79300856590271, 3.8723325729370117, -4.705082893371582, 5.823590278625488, 2.890204906463623, -6.990401268005371, 0.0487186536192894, 3.073328971862793, -1.155714988708496, 4.808114051818848, 0.7535728812217712, 3.1714205741882324, 0.5885405540466309, -0.8101460337638855, -6.347109794616699, -5.777236461639404, 0.38623136281967163, 5.8979573249816895, -3.119908332824707, -5.8838958740234375, 1.2818095684051514, -5.306941032409668, 4.082157611846924, 4.022678852081299, -1.2952719926834106, 4.6743340492248535, 4.469882011413574, 9.827985763549805, 4.457644939422607, -2.7039971351623535, -5.107848644256592, 0.24399179220199585, -4.08262825012207, -7.12694787979126, -5.650068759918213, -5.068397045135498, 2.634087324142456, -0.7308052778244019, -2.912569046020508, 1.1823569536209106, -1.178096055984497, 0.5183433890342712, 6.026893615722656, -4.41746711730957, 4.874752998352051, 1.6484757661819458, 4.271437644958496, -0.44998350739479065, -3.4821934700012207, -7.392793655395508, 4.259350776672363, 1.020658254623413, -0.9888750314712524, 6.609035491943359, -1.35755455493927, 1.066023588180542, 5.365950107574463, -5.261699676513672, -1.5201770067214966, 0.4992915093898773, 1.0680230855941772, 0.8683814406394958, 5.181899547576904, -6.204514026641846, 1.6073832511901855, -3.6425046920776367, 3.650796413421631, 0.698577344417572, 4.872125148773193, 1.445682406425476, 4.1455464363098145, 5.2925872802734375, -4.1373162269592285, 5.625712871551514, 7.513509273529053, 1.298993468284607, 3.0329196453094482, -6.026432037353516, -3.126629590988159, -6.821285247802734, -3.0920181274414062, -5.878662109375, -2.4075546264648438, -5.069719314575195, 5.176346778869629, 4.247781753540039, 0.30387941002845764, 6.297386169433594, 4.642996788024902, 1.9337941408157349, 5.119007587432861, -0.5910327434539795, 0.010543067008256912, 1.1511961221694946, -1.1522164344787598, 0.49966976046562195, 1.6605597734451294, 1.981582522392273, -5.70460844039917, -1.1925424337387085, 2.476536750793457, -5.044461727142334, -1.3882490396499634, 5.507628917694092, -0.558259904384613, 4.710805892944336, 4.643429756164551, 3.2306783199310303, -1.2245142459869385, -1.1065114736557007, 4.227402687072754, -0.563033938407898, -0.9892867803573608, 2.0742173194885254, 0.13763859868049622, 0.5626859068870544, 6.643863677978516, 6.066579818725586, -4.567658424377441, 4.306705474853516, -4.482898235321045, 5.928283214569092, -1.8366097211837769, 3.3973937034606934, 3.5416290760040283, 0.12183630466461182, 3.128093957901001, -5.40695333480835, -5.642350673675537, 2.657930374145508, 1.663932204246521, 2.890202522277832, -6.223374843597412, 4.773505687713623, 2.210543155670166, -2.620762586593628, 4.890494346618652, -5.819572448730469, 1.7765660285949707, 2.476536750793457, 7.0932793617248535, 5.016238689422607, 1.9727892875671387, -3.883197546005249, 2.3775010108947754, -4.100081920623779, -5.8428053855896, -0.6787031888961792]}, {\"customdata\": [[\"blood sugar insulin level gluco\", \"differ regular insulin slide scale insulin\"], [\"blood sugar insulin level gluco\", \"normal\"], [\"blood sugar insulin level gluco\", \"long onset regular insulin\"], [\"blood sugar insulin level gluco\", \"serum insulin made\"], [\"blood sugar insulin level gluco\", \"shiatsu massag cushion worth money\"], [\"blood sugar insulin level gluco\", \"know diagnos diabet\"], [\"blood sugar insulin level gluco\", \"normal level triglycerid implic abnorm level\"], [\"blood sugar insulin level gluco\", \"happen eat lot sugar still low blood sugar\"], [\"blood sugar insulin level gluco\", \"blood sugar ach mean\"], [\"blood sugar insulin level gluco\", \"one hundr forti high type two diabet\"], [\"blood sugar insulin level gluco\", \"blood sugar count mean diabet\"], [\"blood sugar insulin level gluco\", \"bacteria use make insulin\"], [\"blood sugar insulin level gluco\", \"tell sugar enter blood\"], [\"blood sugar insulin level gluco\", \"regular insulin actrapid insulin\"], [\"blood sugar insulin level gluco\", \"first person diabet\"], [\"blood sugar insulin level gluco\", \"would need use continu glucos monitor\"], [\"blood sugar insulin level gluco\", \"gland associ diabet\"], [\"blood sugar insulin level gluco\", \"two hundr fifti seven glucos read normal\"], [\"blood sugar insulin level gluco\", \"differ insulin formul\"], [\"blood sugar insulin level gluco\", \"bodi produc much insulin\"], [\"blood sugar insulin level gluco\", \"hyperglycemia lead kidney failur\"], [\"blood sugar insulin level gluco\", \"tell blood sugar level\"], [\"blood sugar insulin level gluco\", \"pancreat dysfunct relat diabet\"], [\"blood sugar insulin level gluco\", \"diabet blood sugar level\"], [\"blood sugar insulin level gluco\", \"normal rang blood test mpv\"], [\"blood sugar insulin level gluco\", \"hot chito affect blood sugar\"], [\"blood sugar insulin level gluco\", \"wine reduc blood glucos\"], [\"blood sugar insulin level gluco\", \"blood sugar averag person weigh one hundr lb\"], [\"blood sugar insulin level gluco\", \"fast blood sugar three hundr danger\"], [\"blood sugar insulin level gluco\", \"haemoglobin test sugar test\"], [\"blood sugar insulin level gluco\", \"know diabiti\"], [\"blood sugar insulin level gluco\", \"would happen ate insulin tast\"], [\"blood sugar insulin level gluco\", \"radish lower blood sugar\"], [\"blood sugar insulin level gluco\", \"side effect associ use arnica\"], [\"blood sugar insulin level gluco\", \"take sixti five unit day insulin mani day vial last lantu beadtim\"], [\"blood sugar insulin level gluco\", \"test use diagnosi diabet mellitu\"], [\"blood sugar insulin level gluco\", \"give insulin tuberculin syring\"], [\"blood sugar insulin level gluco\", \"mani mg insulin equal one unit insulin\"], [\"blood sugar insulin level gluco\", \"one hundr seventi read food diabet\"], [\"blood sugar insulin level gluco\", \"diabet color red tattoo\"], [\"blood sugar insulin level gluco\", \"okay hit diabet\"], [\"blood sugar insulin level gluco\", \"consid low glucos level\"], [\"blood sugar insulin level gluco\", \"salt tablet lower blood sugar\"], [\"blood sugar insulin level gluco\", \"normal blood sodium level\"], [\"blood sugar insulin level gluco\", \"seventi seven normal blood sugar level eaten five hour extrem shaki dizzi irrit\"], [\"blood sugar insulin level gluco\", \"releas blood sugar level high\"], [\"blood sugar insulin level gluco\", \"ibsulin\"], [\"blood sugar insulin level gluco\", \"give chocol person sugar five hundr eighti nine\"], [\"blood sugar insulin level gluco\", \"regul blood glucos level\"], [\"blood sugar insulin level gluco\", \"rais glucos level mean diabet\"], [\"blood sugar insulin level gluco\", \"therapeut intervent type one diabet\"], [\"blood sugar insulin level gluco\", \"diabet use steam room\"], [\"blood sugar insulin level gluco\", \"cocain affect blood sugar\"], [\"blood sugar insulin level gluco\", \"get light head sugar diabet\"], [\"blood sugar insulin level gluco\", \"organ bodi function properli diabet\"], [\"blood sugar insulin level gluco\", \"plant use energi store glucos\"], [\"blood sugar insulin level gluco\", \"diabet somogyi phenomenon\"], [\"blood sugar insulin level gluco\", \"insulin bruis becom bad drop bottl dog insulin still good\"], [\"blood sugar insulin level gluco\", \"blood sugar low\"], [\"blood sugar insulin level gluco\", \"start american diabet associ\"], [\"blood sugar insulin level gluco\", \"lab test use rule diabet\"], [\"blood sugar insulin level gluco\", \"one hundr forti bad blood sugar read morn\"], [\"blood sugar insulin level gluco\", \"get insulin\"], [\"blood sugar insulin level gluco\", \"level glucos cat\"], [\"blood sugar insulin level gluco\", \"insulin pump cover high glucos level right\"], [\"blood sugar insulin level gluco\", \"inject insulin muscl\"], [\"blood sugar insulin level gluco\", \"remov appendix draw blood blood test drug test also\"], [\"blood sugar insulin level gluco\", \"pete wentz diabet\"], [\"blood sugar insulin level gluco\", \"inject wrong insulin\"], [\"blood sugar insulin level gluco\", \"rais blood sugar\"], [\"blood sugar insulin level gluco\", \"number normal blood sugar level\"], [\"blood sugar insulin level gluco\", \"canadian scientist insulin\"], [\"blood sugar insulin level gluco\", \"use tuberculin syring instead insulin much insulin draw\"], [\"blood sugar insulin level gluco\", \"normal blood sugar level\"], [\"blood sugar insulin level gluco\", \"insulin travel bodi\"], [\"blood sugar insulin level gluco\", \"inject insulin\"], [\"blood sugar insulin level gluco\", \"expens diabet test strip\"], [\"blood sugar insulin level gluco\", \"bad low blood sugar level\"], [\"blood sugar insulin level gluco\", \"pancreat hormon function lower blood glucos level\"], [\"blood sugar insulin level gluco\", \"best time check blood sugar read\"], [\"blood sugar insulin level gluco\", \"use dna technolog help treat diabet\"], [\"blood sugar insulin level gluco\", \"happen blood sugar get high diabet\"], [\"blood sugar insulin level gluco\", \"test diabet without go doctor buy test strip\"], [\"blood sugar insulin level gluco\", \"laboratori procedur made possibl te develop bacteria synthes human insulin\"], [\"blood sugar insulin level gluco\", \"organ unabl take glucos diabet mellitu\"], [\"blood sugar insulin level gluco\", \"two hundr nineti seven blood sugar mean\"], [\"blood sugar insulin level gluco\", \"synthroid rais blood sugar level\"], [\"blood sugar insulin level gluco\", \"use insulin\"], [\"blood sugar insulin level gluco\", \"high level blood sugar bad\"], [\"blood sugar insulin level gluco\", \"normal glucos level forti year old male\"], [\"blood sugar insulin level gluco\", \"diabet test strip univers\"], [\"blood sugar insulin level gluco\", \"kill faster diabet lung cancer\"], [\"blood sugar insulin level gluco\", \"nineti seven one hundr ten blood sugar level within normal rang diabet\"], [\"blood sugar insulin level gluco\", \"insulin founder\"], [\"blood sugar insulin level gluco\", \"diabet take flu vaccin\"], [\"blood sugar insulin level gluco\", \"blood sugar went eighti six one hundr seventi eight one hundr sixti eight shot fifti four normal\"], [\"blood sugar insulin level gluco\", \"test use aid diagnos diabet\"], [\"blood sugar insulin level gluco\", \"normal protein level blood\"], [\"blood sugar insulin level gluco\", \"diabet mean high blood sugar\"], [\"blood sugar insulin level gluco\", \"type sugar blood sugar\"], [\"blood sugar insulin level gluco\", \"parent say futur girlfriend futur diabet would\"], [\"blood sugar insulin level gluco\", \"would doctor suggest check patient blood sugar level\"], [\"blood sugar insulin level gluco\", \"could whiskey soft drink rais blood sugar level\"], [\"blood sugar insulin level gluco\", \"releas blood sugar level fall\"], [\"blood sugar insulin level gluco\", \"mix long short insulin draw first\"], [\"blood sugar insulin level gluco\", \"happen blood ph blood sugar level rise insulin present\"], [\"blood sugar insulin level gluco\", \"medic term mean high blood sugar\"], [\"blood sugar insulin level gluco\", \"macromolecul insulin\"], [\"blood sugar insulin level gluco\", \"normal blood sugar level woman thirti\"], [\"blood sugar insulin level gluco\", \"chemic releas ketosi\"], [\"blood sugar insulin level gluco\", \"treat inject genet engin insulin\"], [\"blood sugar insulin level gluco\", \"give insulin\"], [\"blood sugar insulin level gluco\", \"insulin invent\"], [\"blood sugar insulin level gluco\", \"blood test use patient diabet measur averag blood glucos level previou three four month\"], [\"blood sugar insulin level gluco\", \"tissu insulin depend\"], [\"blood sugar insulin level gluco\", \"eat inject human insulin\"], [\"blood sugar insulin level gluco\", \"low blood glucos level caus weight loss\"], [\"blood sugar insulin level gluco\", \"actress diabet test strip commerci\"], [\"blood sugar insulin level gluco\", \"test find diseas human bodi\"], [\"blood sugar insulin level gluco\", \"rub alcohol caus cancer\"], [\"blood sugar insulin level gluco\", \"test test perform confirm diagnosi diabet mellitu aid diagnos hypoglycemia\"], [\"blood sugar insulin level gluco\", \"normal valu random blood sugar\"], [\"blood sugar insulin level gluco\", \"inventor insulin\"], [\"blood sugar insulin level gluco\", \"insulin use fraction urin coverag\"], [\"blood sugar insulin level gluco\", \"hormon make blood glucos increas\"], [\"blood sugar insulin level gluco\", \"scrub episod turk discov diabet\"], [\"blood sugar insulin level gluco\", \"normal depakot blood level\"], [\"blood sugar insulin level gluco\", \"insulin make glucos\"], [\"blood sugar insulin level gluco\", \"glucomet aviva error\"], [\"blood sugar insulin level gluco\", \"insulin human growth hormon two exampl product produc\"], [\"blood sugar insulin level gluco\", \"type devic use check blood sugar\"], [\"blood sugar insulin level gluco\", \"may diabet becom thin feel weak\"], [\"blood sugar insulin level gluco\", \"hormon secret pancreat islet respons low blood sugar\"], [\"blood sugar insulin level gluco\", \"part endocrin system regul blood glucos level\"], [\"blood sugar insulin level gluco\", \"blood glucos high azithromycin\"], [\"blood sugar insulin level gluco\", \"broccoli bad diabet\"], [\"blood sugar insulin level gluco\", \"blood glucos level four point three normal sixteen year old\"], [\"blood sugar insulin level gluco\", \"diabet need pay insulin prescript\"], [\"blood sugar insulin level gluco\", \"normal rang blood gluclos test\"], [\"blood sugar insulin level gluco\", \"diabet diagnos singl finger prick blood sugar\"], [\"blood sugar insulin level gluco\", \"insulin need refrigir\"], [\"blood sugar insulin level gluco\", \"advantag use bacteria contain human insulin gene produc insulin\"], [\"blood sugar insulin level gluco\", \"disney cancel hannah montana diabet episod\"], [\"blood sugar insulin level gluco\", \"happen drink bit insulin\"], [\"blood sugar insulin level gluco\", \"glucos level high glucosuria\"], [\"blood sugar insulin level gluco\", \"insulin help control diabet\"], [\"blood sugar insulin level gluco\", \"take diabet medic\"], [\"blood sugar insulin level gluco\", \"slim fast good item diabet\"], [\"blood sugar insulin level gluco\", \"averag blood sugar past three week measur test\"], [\"blood sugar insulin level gluco\", \"bodi part produc insulin cell use sugar\"], [\"blood sugar insulin level gluco\", \"organ produc enzym insulin\"], [\"blood sugar insulin level gluco\", \"normal rang blood glucos\"], [\"blood sugar insulin level gluco\", \"tell sugar remov blood\"], [\"blood sugar insulin level gluco\", \"highest blood sugar\"], [\"blood sugar insulin level gluco\", \"eat lot sugar day glucos test affect result\"], [\"blood sugar insulin level gluco\", \"quickli hypoglycemia occur receiv nph insulin\"], [\"blood sugar insulin level gluco\", \"caus red blood cell count decreas\"], [\"blood sugar insulin level gluco\", \"one reason administ glucos test\"], [\"blood sugar insulin level gluco\", \"mean blood sugar chart\"], [\"blood sugar insulin level gluco\", \"normal blood sugar type one diabet\"], [\"blood sugar insulin level gluco\", \"full form grb\"], [\"blood sugar insulin level gluco\", \"medic reason femal abort\"], [\"blood sugar insulin level gluco\", \"glucos level\"], [\"blood sugar insulin level gluco\", \"coupon one touch ultra two meter\"], [\"blood sugar insulin level gluco\", \"first human found\"], [\"blood sugar insulin level gluco\", \"check dog blood sugar\"], [\"blood sugar insulin level gluco\", \"diabet affect endocrin system\"], [\"blood sugar insulin level gluco\", \"gland produc glucagon\"], [\"blood sugar insulin level gluco\", \"right take oral antidiabet drug like metformin take lantu\"], [\"blood sugar insulin level gluco\", \"insulin legal illeg\"], [\"blood sugar insulin level gluco\", \"blood sugar five hundr seventi five type insulin\"], [\"blood sugar insulin level gluco\", \"normal blood sugar level\"], [\"blood sugar insulin level gluco\", \"glucos startch relat\"], [\"blood sugar insulin level gluco\", \"high glucomet read blood sugar\"], [\"blood sugar insulin level gluco\", \"diabet type ii get angri mean forti three year marriag split\"], [\"blood sugar insulin level gluco\", \"happen take insulin diabet\"], [\"blood sugar insulin level gluco\", \"diabet blood sugar level\"], [\"blood sugar insulin level gluco\", \"produc insulin bodi\"], [\"blood sugar insulin level gluco\", \"much apparatu blood sugar test\"], [\"blood sugar insulin level gluco\", \"could gain indic whether diabet\"], [\"blood sugar insulin level gluco\", \"differ novolog insulin novolin insulin type one diabet\"], [\"blood sugar insulin level gluco\", \"durat diabet coma\"], [\"blood sugar insulin level gluco\", \"maintain blood sugar level\"], [\"blood sugar insulin level gluco\", \"salt elev diabet blood sugar level\"], [\"blood sugar insulin level gluco\", \"differ insulin blood sugar\"], [\"blood sugar insulin level gluco\", \"diabet meter use\"], [\"blood sugar insulin level gluco\", \"miner help bodi maintain normal blood sugar level\"], [\"blood sugar insulin level gluco\", \"diabet alcohol consumpt\"], [\"blood sugar insulin level gluco\", \"bodi keep blood sugar level around seventi one hundr ten\"], [\"blood sugar insulin level gluco\", \"bird seed good diabet\"], [\"blood sugar insulin level gluco\", \"type sugar found blood\"], [\"blood sugar insulin level gluco\", \"organ control blood sugar\"], [\"blood sugar insulin level gluco\", \"blood sugar high one hundr nineti three right lunch\"], [\"blood sugar insulin level gluco\", \"use insulin syring\"], [\"blood sugar insulin level gluco\", \"diabet insulin made pig cow human bacteria\"], [\"blood sugar insulin level gluco\", \"first insulin inject given\"], [\"blood sugar insulin level gluco\", \"diabet treatabl\"], [\"blood sugar insulin level gluco\", \"three hundr seven pop carb\"], [\"blood sugar insulin level gluco\", \"insulin\"], [\"blood sugar insulin level gluco\", \"normal blood sugar level eat\"], [\"blood sugar insulin level gluco\", \"would suffer hypoglycemia get low blood glucos level excess insulin action\"], [\"blood sugar insulin level gluco\", \"hormon releas blood sugar rise\"], [\"blood sugar insulin level gluco\", \"give long act insulin low blood sugar level\"], [\"blood sugar insulin level gluco\", \"tissu insulin depend\"], [\"blood sugar insulin level gluco\", \"friend suffer acut liver shutdown kidney fail live long enough hope liver transplant\"], [\"blood sugar insulin level gluco\", \"unit nick sugar level\"], [\"blood sugar insulin level gluco\", \"spanish word diabet\"], [\"blood sugar insulin level gluco\", \"lower blood sugar\"], [\"blood sugar insulin level gluco\", \"mani anim diagnos diabet\"], [\"blood sugar insulin level gluco\", \"blood sugar high eight point two glass milk\"], [\"blood sugar insulin level gluco\", \"find insulin\"], [\"blood sugar insulin level gluco\", \"control glucos level blood\"], [\"blood sugar insulin level gluco\", \"insulin taken daili\"], [\"blood sugar insulin level gluco\", \"would one hundr forti seven blood sugar suggest\"], [\"blood sugar insulin level gluco\", \"name condit affect blood sugar level\"], [\"blood sugar insulin level gluco\", \"insulin like drug diabet patient take take lifetim\"], [\"blood sugar insulin level gluco\", \"low mpv count\"], [\"blood sugar insulin level gluco\", \"tell sugar remov blood\"], [\"blood sugar insulin level gluco\", \"substanc discov canadian save live diabet\"], [\"blood sugar insulin level gluco\", \"calcium deposit form heel ball feet\"], [\"blood sugar insulin level gluco\", \"iodin lower blood sugar\"], [\"blood sugar insulin level gluco\", \"sleep effect blood sugar\"], [\"blood sugar insulin level gluco\", \"diabet get blood finger\"], [\"blood sugar insulin level gluco\", \"headach hypoglycemia relat\"], [\"blood sugar insulin level gluco\", \"blood sugar rise fall intens exercis\"], [\"blood sugar insulin level gluco\", \"diabet health counselor salari rang\"], [\"blood sugar insulin level gluco\", \"much insulin overdos\"], [\"blood sugar insulin level gluco\", \"exactli diabet meter\"], [\"blood sugar insulin level gluco\", \"lipozen affect diabet\"], [\"blood sugar insulin level gluco\", \"long liver transplant patient hospit\"], [\"blood sugar insulin level gluco\", \"glucomet use\"], [\"blood sugar insulin level gluco\", \"diabet affect blood sugar level\"], [\"blood sugar insulin level gluco\", \"insulin store freezer\"], [\"blood sugar insulin level gluco\", \"insulin first use\"], [\"blood sugar insulin level gluco\", \"face hurt four hundr thirti blood sugar\"], [\"blood sugar insulin level gluco\", \"fri shrimp rise blood sugar\"], [\"blood sugar insulin level gluco\", \"nutrilit bio c diabet\"], [\"blood sugar insulin level gluco\", \"person act drunk high blood sugar\"], [\"blood sugar insulin level gluco\", \"good blood sugar count\"], [\"blood sugar insulin level gluco\", \"daughter eye brain go anoth place afew second could low high blood sugar\"], [\"blood sugar insulin level gluco\", \"normal sugar level twenti year old\"], [\"blood sugar insulin level gluco\", \"blood glucos level one hundr thirti eight high\"], [\"blood sugar insulin level gluco\", \"immedetli lower blood sugar\"], [\"blood sugar insulin level gluco\", \"target organ insulin\"], [\"blood sugar insulin level gluco\", \"die haematosi\"], [\"blood sugar insulin level gluco\", \"much normal blood sugar diabet\"], [\"blood sugar insulin level gluco\", \"organ use produc human insulin\"], [\"blood sugar insulin level gluco\", \"get insulin\"], [\"blood sugar insulin level gluco\", \"normal blood sugar rate\"], [\"blood sugar insulin level gluco\", \"sixti low glucos read\"], [\"blood sugar insulin level gluco\", \"lower blood glucos\"], [\"blood sugar insulin level gluco\", \"term describ abnorm high concentr glucos blood\"], [\"blood sugar insulin level gluco\", \"long live without liver transplant\"], [\"blood sugar insulin level gluco\", \"mani diabet use insulin made certain bacteria abil bacteria produc insulin like result\"], [\"blood sugar insulin level gluco\", \"nicotin increas blood sugar level affect diabet\"], [\"blood sugar insulin level gluco\", \"ther organ secret insulin glucagon target tissu\"], [\"blood sugar insulin level gluco\", \"insulin flammabl\"], [\"blood sugar insulin level gluco\", \"blood test measur averag blood glucos nineti day\"], [\"blood sugar insulin level gluco\", \"mean seven point five sugar level eat\"], [\"blood sugar insulin level gluco\", \"cope hypertens\"], [\"blood sugar insulin level gluco\", \"function skeleton system\"], [\"blood sugar insulin level gluco\", \"blood sugar five hundr sixteen\"]], \"hovertemplate\": \"summary=%{customdata[0]}<br>pc_1=%{x}<br>pc_2=%{y}<br>pc_3=%{z}<br>sentence=%{customdata[1]}<extra></extra>\", \"legendgroup\": \"blood sugar insulin level gluco\", \"marker\": {\"color\": \"#EF553B\", \"size\": 5, \"symbol\": \"circle\"}, \"mode\": \"markers\", \"name\": \"blood sugar insulin level gluco\", \"scene\": \"scene\", \"showlegend\": true, \"type\": \"scatter3d\", \"x\": [11.383559226989746, 8.195932388305664, 9.901506423950195, 12.388261795043945, 8.036518096923828, 7.1877546310424805, 7.691762447357178, 7.1718316078186035, 5.929507255554199, 7.947659015655518, 5.884609699249268, 12.54257583618164, 7.275816917419434, 11.878589630126953, 7.425952911376953, 8.113667488098145, 6.672492504119873, 5.513248443603516, 11.449872970581055, 9.785943984985352, 7.117936611175537, 5.737315654754639, 7.230168342590332, 6.625858783721924, 2.4829154014587402, 5.322059631347656, 2.8325483798980713, 8.502650260925293, 3.937908887863159, 6.63228702545166, 7.04600191116333, 12.062255859375, 3.2315802574157715, 8.621210098266602, 12.238800048828125, 8.517796516418457, 12.145498275756836, 12.360681533813477, 3.295750379562378, 8.445306777954102, 6.743292808532715, 5.407557010650635, 3.8427834510803223, 3.45283579826355, 2.173393964767456, 5.294163703918457, 7.474014759063721, 5.726016998291016, 2.946805000305176, 6.050373554229736, 9.145880699157715, 6.557849407196045, 3.21712589263916, 5.705228328704834, 8.207426071166992, 2.889740228652954, 8.525188446044922, 9.67917537689209, 7.408281326293945, 6.6117377281188965, 6.212173938751221, 7.569014549255371, 10.37780475616455, 6.7686848640441895, 11.929719924926758, 12.372236251831055, 3.1769654750823975, 6.9430084228515625, 12.34765625, 2.6128463745117188, 2.9327077865600586, 10.518585205078125, 12.135251998901367, 2.7293944358825684, 10.162999153137207, 11.97545337677002, 3.7446000576019287, 7.0326642990112305, 7.822951316833496, 5.640656471252441, 6.579269886016846, 7.152481555938721, 2.98371958732605, 10.618539810180664, 7.288502216339111, 5.942104339599609, 3.7714717388153076, 10.574016571044922, 3.822061061859131, 4.164973735809326, 5.490839004516602, 8.091790199279785, 8.373212814331055, 10.705953598022461, 7.425612926483154, 6.331787586212158, 7.614861965179443, 4.186089515686035, 7.08251428604126, 11.549089431762695, 7.256319046020508, 2.7035434246063232, 2.841533899307251, 3.8488686084747314, 9.8032808303833, 12.609354019165039, 8.822327613830566, 11.66077709197998, 2.915517807006836, 8.293558120727539, 10.974042892456055, 11.784197807312012, 12.024147987365723, 5.910518169403076, 10.173929214477539, 9.903982162475586, 8.18653392791748, 3.6960318088531494, 8.844596862792969, 6.050897598266602, 3.256932258605957, 3.919992446899414, 11.433046340942383, 10.712024688720703, 9.390715599060059, 7.4491400718688965, 4.691628932952881, 12.477278709411621, 8.33978271484375, 10.790786743164062, 11.932469367980957, 7.58318567276001, 7.95805549621582, 8.560419082641602, 6.434886932373047, 8.070493698120117, 8.0424165725708, 11.342602729797363, 2.523150682449341, 8.714858055114746, 11.419739723205566, 12.733553886413574, 8.205066680908203, 10.103074073791504, 5.374065399169922, 9.137185096740723, 5.972077369689941, 6.057589530944824, 6.193800449371338, 11.75003433227539, 12.09017276763916, 2.434771776199341, 8.427671432495117, 2.7020716667175293, 2.4808921813964844, 12.82702922821045, 8.43996524810791, 4.8049492835998535, 6.8588128089904785, 11.77401065826416, 8.06212043762207, 7.962446212768555, 5.542962551116943, 8.066558837890625, 6.9962358474731445, 5.306379795074463, 8.434778213500977, 8.903627395629883, 6.202717304229736, 12.024221420288086, 12.112860679626465, 2.7293951511383057, 8.46130084991455, 2.7754220962524414, 10.260523796081543, 10.82989501953125, 6.625857830047607, 11.733827590942383, 5.863255023956299, 8.299256324768066, 11.173236846923828, 6.033633232116699, 4.377984046936035, 8.567028045654297, 12.740227699279785, 6.256721019744873, 2.5778472423553467, 8.098687171936035, 6.308832168579102, 6.529058933258057, 8.251465797424316, 9.27828598022461, 6.835419178009033, 12.106210708618164, 10.398816108703613, 12.576632499694824, 7.17991304397583, 5.978546142578125, 11.122442245483398, 2.5232436656951904, 12.708627700805664, 7.685876846313477, 10.65933609008789, 10.174001693725586, 5.70755672454834, 8.606229782104492, 6.275519847869873, 2.5409128665924072, 7.151329040527344, 8.723899841308594, 10.2916259765625, 5.245263576507568, 9.710198402404785, 4.592236518859863, 8.554707527160645, 10.495861053466797, 7.7257795333862305, 8.427664756774902, 7.691598892211914, 8.646400451660156, 3.252147912979126, 8.090353965759277, 7.402244567871094, 2.801281213760376, 5.471059322357178, 6.017914772033691, 12.295621871948242, 6.7896037101745605, 6.958861827850342, 4.7061848640441895, 6.285360336303711, 7.3232102394104, 12.22065258026123, 12.470261573791504, 8.620518684387207, 2.5808005332946777, 8.288204193115234, 8.099806785583496, 2.7683823108673096, 8.785191535949707, 6.275697708129883, 3.942237377166748, 2.730609893798828, 12.504090309143066, 7.59277868270874, 5.858101844787598, 12.459709167480469, 10.377760887145996, 2.9257009029388428, 5.827803611755371, 2.5603604316711426, 8.456133842468262, 5.681581974029541, 12.094952583312988, 7.276247024536133, 12.599540710449219, 11.143604278564453, 6.13893461227417, 6.6500749588012695, 7.694743633270264, 8.436824798583984, 7.214691162109375], \"y\": [2.611159563064575, -4.665190696716309, 2.635128974914551, 1.979883074760437, -4.95633602142334, -4.1515021324157715, -5.805402755737305, -5.862471103668213, -5.926301956176758, -2.6246116161346436, -4.508902072906494, 1.0638951063156128, -4.356805801391602, 2.62602162361145, -3.8215911388397217, -4.733251094818115, -3.4242260456085205, -4.006039619445801, 2.660097599029541, 2.1710293292999268, -3.9668047428131104, -4.621875286102295, -3.875199317932129, -4.324918746948242, -3.586268424987793, -4.112123489379883, -3.126131296157837, -6.039636135101318, -3.6587326526641846, -4.840686321258545, -3.510202169418335, 2.285352945327759, -4.058053016662598, -5.512655258178711, 1.4364553689956665, -6.61917781829834, 1.7615903615951538, 2.114098310470581, -3.179358959197998, -4.821854114532471, -3.9187216758728027, -3.9336092472076416, -3.642958164215088, -4.038437843322754, -3.700000047683716, -4.280512809753418, -3.9350898265838623, -4.53157901763916, -3.668532371520996, -3.808424711227417, 3.1040570735931396, -3.3200929164886475, -3.699507713317871, -4.614469528198242, -4.042281150817871, -3.447657585144043, -4.60217809677124, 2.916940927505493, -5.3537116050720215, -3.748730421066284, -5.385888576507568, -4.385795593261719, 2.1196961402893066, -4.535188674926758, 0.6006601452827454, 2.173450469970703, -3.6112117767333984, -3.6932873725891113, 2.1851766109466553, -3.8995754718780518, -3.6041505336761475, 2.8163869380950928, 2.2466776371002197, -3.6744956970214844, 2.188041925430298, 2.5878536701202393, -4.152273178100586, -4.409137725830078, -4.02325963973999, -5.861349582672119, -4.028093338012695, -4.302522659301758, -4.052363872528076, 2.71579909324646, -3.7422642707824707, -4.436483383178711, -3.96764874458313, 2.476654052734375, -3.7181482315063477, -3.1931426525115967, -3.4869425296783447, -4.376095294952393, -5.015746593475342, 2.5492210388183594, -3.2626469135284424, -5.146239280700684, -5.8407883644104, -3.6846981048583984, -4.072054386138916, -0.06201668456196785, -4.217249870300293, -3.2508316040039062, -3.574039936065674, -3.8350443840026855, 2.894406318664551, 0.8597086071968079, -4.453874111175537, 2.556128978729248, -3.7519309520721436, -4.602999687194824, 2.024336576461792, 2.324734687805176, 2.4566431045532227, -5.916850566864014, 2.4222195148468018, 2.6433463096618652, -6.7908854484558105, -3.637873411178589, -4.441781997680664, -4.522830486297607, -2.9073987007141113, -3.6526341438293457, 2.6295812129974365, 1.9109344482421875, -3.790574312210083, -4.903908729553223, -4.154564380645752, 1.2587474584579468, -4.73917293548584, 2.1700780391693115, -0.014000099152326584, -5.866296768188477, -4.048505783081055, -4.561483860015869, -4.084051609039307, -4.458960056304932, -5.256921291351318, 2.8992390632629395, -3.5874576568603516, -5.867780685424805, 2.6132853031158447, 0.5720774531364441, -4.338583946228027, 2.2034313678741455, -3.786892890930176, 2.386589527130127, -2.7360658645629883, -3.125349283218384, -5.979118824005127, 2.0516300201416016, 2.394923210144043, -3.5844666957855225, -5.947554588317871, -3.853471517562866, -3.7769346237182617, 0.5497699975967407, -6.419075965881348, -3.7632968425750732, -4.786919593811035, 0.17563261091709137, -4.464471340179443, -4.157777309417725, -4.021866798400879, -5.111618995666504, -4.541931629180908, -3.973090410232544, -4.288714408874512, -4.3606462478637695, -5.357110977172852, 2.391676187515259, 3.1822621822357178, -3.67449688911438, -4.7357611656188965, -3.5977489948272705, 1.7216960191726685, 2.6140716075897217, -4.324918746948242, 2.5264711380004883, -5.967492580413818, -4.50651741027832, 2.941422700881958, -2.824631929397583, -3.7662250995635986, -4.4988179206848145, 0.6247841119766235, -3.8481719493865967, -3.6942965984344482, -4.368212699890137, -3.9607317447662354, -4.229268550872803, -4.4321794509887695, -3.9344475269317627, -5.472778797149658, 2.332101345062256, 2.282304048538208, 1.0631169080734253, -3.368443489074707, -5.95764684677124, 2.6444272994995117, -3.735381841659546, 0.6322093605995178, -4.043844223022461, 1.9628503322601318, 2.4233717918395996, -6.00078010559082, -5.618503570556641, -3.0208182334899902, -2.9871044158935547, -4.493683815002441, -5.907771110534668, 2.576669931411743, -4.106794834136963, 2.736100673675537, -3.9411356449127197, -6.953514575958252, 2.234208106994629, -4.835911273956299, -5.947561264038086, -4.45766544342041, -5.759355068206787, -4.031772136688232, -5.213950157165527, -4.70166015625, -3.5977673530578613, -5.941405296325684, -5.166519641876221, 1.9803420305252075, -5.766340732574463, -3.70926570892334, -4.171417713165283, -4.439430236816406, -5.589670181274414, 2.007906198501587, 1.4640370607376099, -7.013587474822998, -3.0303494930267334, -4.755407810211182, -5.151050090789795, -3.3966081142425537, -5.978199481964111, -5.948723316192627, -3.642226219177246, -3.9509377479553223, 1.7245174646377563, -4.106319427490234, -5.897598743438721, 1.6535035371780396, 2.119687795639038, -3.789720058441162, -4.056213855743408, -2.8922064304351807, -6.470882415771484, -6.012825965881348, 1.7039862871170044, -4.405686378479004, 0.8370268940925598, 2.6489930152893066, -4.280296325683594, -4.341597557067871, -4.058159351348877, -4.4634881019592285, -4.838306427001953], \"z\": [-2.4732861518859863, -6.288673400878906, -1.0485661029815674, -5.294754505157471, -10.616159439086914, 0.43805116415023804, -9.53770637512207, -8.301915168762207, -8.171765327453613, -0.7426765561103821, -4.2134904861450195, -6.866159915924072, 0.6040082573890686, -3.350292921066284, -1.9687349796295166, -10.981532096862793, -0.22969922423362732, -13.811543464660645, -2.856959581375122, 0.15315213799476624, 0.9976743459701538, -12.158475875854492, -1.6555074453353882, -4.529804706573486, -15.761434555053711, -13.607922554016113, -7.398125171661377, -7.232858180999756, -15.009017944335938, -11.7970609664917, 0.0842650830745697, -3.9372925758361816, -11.808162689208984, -4.094417572021484, -6.2810893058776855, -9.12358570098877, -5.865322113037109, -5.092144966125488, -6.609670162200928, -9.070205688476562, -1.935388207435608, -14.246846199035645, -14.9534273147583, -11.883628845214844, -10.96893310546875, -12.554994583129883, -2.068758487701416, -4.496332168579102, -8.54591178894043, -12.442374229431152, -1.2551846504211426, -1.013346791267395, -13.841080665588379, -4.844882011413574, -4.389387607574463, -8.06761360168457, -7.986365795135498, -1.9904438257217407, -10.392125129699707, -1.5645170211791992, -10.899556159973145, -12.793294906616211, 0.021999267861247063, -12.499689102172852, -7.214254379272461, -4.774772644042969, -15.56132698059082, -1.79226815700531, -4.803170680999756, -10.921525001525879, -15.50005054473877, -2.8234407901763916, -4.889553070068359, -13.809314727783203, 0.00320910825394094, -3.722074031829834, -11.665494918823242, -12.851519584655762, -13.997681617736816, -8.163135528564453, -5.893713474273682, -0.6708018183708191, -11.187247276306152, -3.2592833042144775, 0.4032302796840668, -12.551419258117676, -12.522910118103027, -0.8741325736045837, -13.274093627929688, -11.987797737121582, -13.397048950195312, -6.046936511993408, -9.9535493850708, -1.2151073217391968, -1.1077677011489868, -11.282837867736816, -9.56722640991211, -13.994026184082031, 0.8533825874328613, -7.6069722175598145, -4.292022705078125, -7.969106197357178, -8.526050567626953, -13.322011947631836, -2.48545503616333, -7.180976390838623, -10.020953178405762, -2.9661242961883545, -12.885771751403809, -6.615622520446777, -5.566685676574707, -4.693729877471924, -3.901353120803833, -9.671429634094238, -0.5063289403915405, -4.725656986236572, -6.7247724533081055, -12.748242378234863, -10.15442943572998, -3.966597318649292, -13.860723495483398, -15.055004119873047, -2.807190179824829, 0.17370478808879852, -9.921951293945312, -6.766939640045166, -12.36856460571289, -6.563694477081299, -5.973106384277344, -5.2678422927856445, -7.800790309906006, -8.010600090026855, -13.861101150512695, -10.610007286071777, -14.091851234436035, -4.7207932472229, -7.956095218658447, -2.8414506912231445, -15.701094627380371, -3.8664777278900146, -2.3648521900177, -7.6297712326049805, -4.283024311065674, -0.0037690114695578814, -13.363860130310059, -0.24075336754322052, -1.0084725618362427, -1.1905953884124756, -8.731229782104492, -2.1992740631103516, -4.186882495880127, -15.738821029663086, -7.361443042755127, -9.954718589782715, -10.149882316589355, -7.714174747467041, -9.09554672241211, -15.040093421936035, -11.859576225280762, -7.5192790031433105, -5.590818881988525, -4.350203037261963, -14.052056312561035, -10.153739929199219, -12.453031539916992, -14.11051082611084, -4.430483818054199, -10.03432846069336, -10.877018928527832, -3.8729686737060547, -2.4933934211730957, -13.809316635131836, -8.279860496520996, -15.647331237792969, -5.67929220199585, -1.4530845880508423, -4.529806613922119, -3.0936546325683594, -8.816868782043457, -5.027460098266602, -2.619401693344116, -0.9104524254798889, -14.267431259155273, -7.683535575866699, -7.565893173217773, -13.485082626342773, -13.423819541931152, -5.479461193084717, -13.783658027648926, -3.4230458736419678, -6.902941703796387, -9.816104888916016, -7.508387565612793, -3.7403340339660645, -0.24242065846920013, -6.885464191436768, -1.415406584739685, -9.187241554260254, -1.9052917957305908, -13.023160934448242, -7.534620761871338, -13.955928802490234, -5.47326135635376, -0.5062519311904907, -9.548643112182617, -3.855966091156006, -0.6051705479621887, -7.67413330078125, -2.9157841205596924, -4.061628818511963, -4.2185516357421875, -12.914584159851074, -1.951987385749817, -13.444746017456055, -8.03718376159668, -5.063991069793701, -6.890721321105957, -7.361437797546387, -4.1085052490234375, -3.557169198989868, -11.949336051940918, -9.44813346862793, 0.36857184767723083, -15.62966251373291, -9.079305648803711, -11.228260040283203, -4.893892765045166, -8.328439712524414, -0.38209041953086853, -12.639763832092285, -12.74374771118164, -9.968420028686523, -4.837163925170898, -6.253978252410889, -8.260786056518555, -7.692414283752441, -4.628650188446045, -10.084433555603027, -8.208442687988281, -3.9923148155212402, -9.210978507995605, -14.939043998718262, -10.683250427246094, -5.798923015594482, -2.552442789077759, -9.76512336730957, -5.863407135009766, 0.02202986367046833, -12.668498992919922, -13.905336380004883, -7.417239665985107, -9.250500679016113, -9.19914722442627, -5.786319255828857, -1.4419430494308472, -7.208856105804443, -1.9462857246398926, -13.161685943603516, -5.276340007781982, -2.3402762413024902, -6.554774761199951, -11.59022045135498]}, {\"customdata\": [[\"diet food eat type find\", \"onlin find good diabet meal plan\"], [\"diet food eat type find\", \"food peopl diabet type one type two avoid\"], [\"diet food eat type find\", \"postal worker diabet\"], [\"diet food eat type find\", \"peopl diabet eat dark chocol\"], [\"diet food eat type find\", \"cinnamon help diabet\"], [\"diet food eat type find\", \"dessert diabet enjoy\"], [\"diet food eat type find\", \"tobacoo harm diabet man\"], [\"diet food eat type find\", \"pantyhos benefit diabet men\"], [\"diet food eat type find\", \"diabet food eat\"], [\"diet food eat type find\", \"type two diabet diet\"], [\"diet food eat type find\", \"mani gram sugar limit daili\"], [\"diet food eat type find\", \"research done valerian\"], [\"diet food eat type find\", \"find diabet food list\"], [\"diet food eat type find\", \"diabet friendli food\"], [\"diet food eat type find\", \"great tast food diabet\"], [\"diet food eat type find\", \"ever cure type one two diabet\"], [\"diet food eat type find\", \"food avoid diabet person\"], [\"diet food eat type find\", \"diabet seriou health issu\"], [\"diet food eat type find\", \"inform sugar diet found\"], [\"diet food eat type find\", \"sugar beer wine\"], [\"diet food eat type find\", \"diabet drink beer\"], [\"diet food eat type find\", \"healthi tip diabet\"], [\"diet food eat type find\", \"cookbook diabet\"], [\"diet food eat type find\", \"diabet eat sugar\"], [\"diet food eat type find\", \"okay diabet eat chees\"], [\"diet food eat type find\", \"ingredi avoid make diabet cooki recip\"], [\"diet food eat type find\", \"best natur diabet treatment\"], [\"diet food eat type find\", \"diabet test suppli mail\"], [\"diet food eat type find\", \"best way type capit sentenc\"], [\"diet food eat type find\", \"diabet fli delta\"], [\"diet food eat type find\", \"diet exercis help revers diabet\"], [\"diet food eat type find\", \"involv treatment diabet\"], [\"diet food eat type find\", \"yogurt good diabet\"], [\"diet food eat type find\", \"get exampl diabet food\"], [\"diet food eat type find\", \"find free diabet diet book\"], [\"diet food eat type find\", \"good desert diabet\"], [\"diet food eat type find\", \"scientist make educ guess diabet caus genet factor guess exampl\"], [\"diet food eat type find\", \"treatment diabet\"], [\"diet food eat type find\", \"vitamin diabet\"], [\"diet food eat type find\", \"find recip free diabet diet\"], [\"diet food eat type find\", \"diabet eat cake\"], [\"diet food eat type find\", \"group oliv assign food exchang list\"], [\"diet food eat type find\", \"diabet menu\"], [\"diet food eat type find\", \"best bread eat\"], [\"diet food eat type find\", \"diabet meal plan servic\"], [\"diet food eat type find\", \"one follow choic best way control type ii diabet\"], [\"diet food eat type find\", \"effect posit commun recoveri diabet patient pgh\"], [\"diet food eat type find\", \"diabet diet food list\"], [\"diet food eat type find\", \"prevent type two diabet\"], [\"diet food eat type find\", \"delici diabet carrot cake\"], [\"diet food eat type find\", \"eat lunch dinner okay ham diabet\"], [\"diet food eat type find\", \"banana bad type two diabet\"], [\"diet food eat type find\", \"find good nutrit\"], [\"diet food eat type find\", \"good recip diabet use make carrot cake\"], [\"diet food eat type find\", \"hire diabet meal planner\"], [\"diet food eat type find\", \"three way prevent seriou ill heart diseas cancer diabet stroke\"], [\"diet food eat type find\", \"one find inform concern diabet diet\"], [\"diet food eat type find\", \"diet plan use type one type two diabet\"], [\"diet food eat type find\", \"would someon subscrib magazin diabet care\"], [\"diet food eat type find\", \"diabet recip cake\"], [\"diet food eat type find\", \"food high sugar\"], [\"diet food eat type find\", \"go onlin find inform diabet recip\"], [\"diet food eat type find\", \"type food bad diabet\"], [\"diet food eat type find\", \"diabet best stay away form starchi food eat\"], [\"diet food eat type find\", \"ohio medicaid cover gastric bypass surgeri\"], [\"diet food eat type find\", \"good diabet patient\"], [\"diet food eat type find\", \"whole food store sell healthi food diabet\"], [\"diet food eat type find\", \"type food list diabet type non diabet food buy\"], [\"diet food eat type find\", \"safe diabet work alon\"], [\"diet food eat type find\", \"kind treatment diabet eye problem\"], [\"diet food eat type find\", \"purchas copi best menu diabet diet guidelin\"], [\"diet food eat type find\", \"food lower high blood sugar quickli\"], [\"diet food eat type find\", \"list food yeast\"], [\"diet food eat type find\", \"one purchas shoe diabet\"], [\"diet food eat type find\", \"diabet nutrit includ dessert\"], [\"diet food eat type find\", \"happen person blood sugar level soon eat meal contain carbohydr\"], [\"diet food eat type find\", \"christma cooki recip diabet\"], [\"diet food eat type find\", \"find recip sugar free dessert\"], [\"diet food eat type find\", \"best diabet medic\"], [\"diet food eat type find\", \"glycem index number mean\"], [\"diet food eat type find\", \"fuction american diabet associ\"], [\"diet food eat type find\", \"tip diabet manag\"], [\"diet food eat type find\", \"diabet diet chart\"], [\"diet food eat type find\", \"food carri healthi diabet nurtrit\"], [\"diet food eat type find\", \"best food eat diabet avoid\"], [\"diet food eat type find\", \"cinnamon cure diabet\"], [\"diet food eat type find\", \"candi diet type two diabet\"], [\"diet food eat type find\", \"use hemoglucotest\"], [\"diet food eat type find\", \"much emerg stash diabet suppli keep hand\"], [\"diet food eat type find\", \"diabet diet recip benefici\"], [\"diet food eat type find\", \"scientist make educ guess diabet caus genet factor guess exampl\"], [\"diet food eat type find\", \"food diabet avoid\"], [\"diet food eat type find\", \"import aspect treatment diabet mellitu\"], [\"diet food eat type find\", \"diet help treat diabet obes\"], [\"diet food eat type find\", \"doctor weight loss plan\"], [\"diet food eat type find\", \"write school research paper diabet\"], [\"diet food eat type find\", \"nutrisystem diabet diet harm diabet\"], [\"diet food eat type find\", \"herb known lower blood sugar\"], [\"diet food eat type find\", \"food low sugar\"], [\"diet food eat type find\", \"dietari supplement taken help reduc diabet\"], [\"diet food eat type find\", \"good diabet\"], [\"diet food eat type find\", \"type food diabet meant eat\"], [\"diet food eat type find\", \"diabet food avoid\"], [\"diet food eat type find\", \"resourc option creat diabet menu\"], [\"diet food eat type find\", \"diabet eat carb\"], [\"diet food eat type find\", \"diabet cure without medicin\"], [\"diet food eat type find\", \"one avoid adult onset diabet\"], [\"diet food eat type find\", \"diabet eat bean\"], [\"diet food eat type find\", \"role diet exercis control hypertens diabet\"], [\"diet food eat type find\", \"type diet recommend type two diabet\"], [\"diet food eat type find\", \"signific diabet weight loss person diet tri lose weight\"], [\"diet food eat type find\", \"passion fruit cure diabet\"], [\"diet food eat type find\", \"current treatment diabet\"], [\"diet food eat type find\", \"pre diabet diet\"], [\"diet food eat type find\", \"find onlin cookbook diabet\"], [\"diet food eat type find\", \"could one find list food suitabl diabet\"], [\"diet food eat type find\", \"thing diabet cooki recip\"], [\"diet food eat type find\", \"allow sugar intak day diabet\"], [\"diet food eat type find\", \"simpl diet plan incorpor diabet\"], [\"diet food eat type find\", \"diabet cake recip allrecipescom\"], [\"diet food eat type find\", \"malt drink ok diabet\"], [\"diet food eat type find\", \"diabet eat molass rich juic\"], [\"diet food eat type find\", \"jona brother free ticket diabet\"], [\"diet food eat type find\", \"diabet treatment requir convent medicin\"], [\"diet food eat type find\", \"good food diabet\"], [\"diet food eat type find\", \"diabet treat psychic heal\"], [\"diet food eat type find\", \"realli good chile recip desert\"], [\"diet food eat type find\", \"safe diabet bypass surgeri\"], [\"diet food eat type find\", \"cancer curabl\"], [\"diet food eat type find\", \"fresh fruit veggi limit diabet\"], [\"diet food eat type find\", \"sweet substanc use diet diabet slimmer\"], [\"diet food eat type find\", \"peopl get diabet diet plan\"], [\"diet food eat type find\", \"eat fruit veget low carb diet\"], [\"diet food eat type find\", \"easi dessert recip diabet\"], [\"diet food eat type find\", \"choos food diabet\"], [\"diet food eat type find\", \"recip diabet diet\"], [\"diet food eat type find\", \"diabet peopl eat margarin\"], [\"diet food eat type find\", \"find good sugar diabet diet\"], [\"diet food eat type find\", \"happen diabet treatment\"], [\"diet food eat type find\", \"diabet cure diet exercis\"], [\"diet food eat type find\", \"diabet nutrit\"], [\"diet food eat type find\", \"indonesian herb use treat diabet\"], [\"diet food eat type find\", \"diabet shoe purchas singapor\"], [\"diet food eat type find\", \"treatment medic diabet\"], [\"diet food eat type find\", \"natur food reduc diabet\"], [\"diet food eat type find\", \"diabet drink beer\"], [\"diet food eat type find\", \"find meal plan someon diabet\"], [\"diet food eat type find\", \"much money certifi diabet educ earn\"], [\"diet food eat type find\", \"might find menu diabet diet use food prepar easili home\"], [\"diet food eat type find\", \"diabet take vitamin b complex\"], [\"diet food eat type find\", \"cat diabet eat die\"], [\"diet food eat type find\", \"treatment diabet neuropathi\"], [\"diet food eat type find\", \"five food carb\"], [\"diet food eat type find\", \"sugar doctor diabet doctor\"], [\"diet food eat type find\", \"best fruit diabet patient\"], [\"diet food eat type find\", \"buy diabet product pharmaci\"], [\"diet food eat type find\", \"easi stick diet diabet\"], [\"diet food eat type find\", \"consid diabet eat\"], [\"diet food eat type find\", \"treat cure diabet\"], [\"diet food eat type find\", \"sampl menu diabet recip\"], [\"diet food eat type find\", \"natur way cure blood sugar level\"], [\"diet food eat type find\", \"good dessert recip diabet\"], [\"diet food eat type find\", \"vitamin allow diabet patient\"], [\"diet food eat type find\", \"latest nutrit guid diabet\"], [\"diet food eat type find\", \"eat bring blood sugar\"], [\"diet food eat type find\", \"find inform diabet snack\"], [\"diet food eat type find\", \"kind pasta diabet person eat\"], [\"diet food eat type find\", \"im borderlin diabet eat cake might consequ\"], [\"diet food eat type find\", \"cinnamon help control blood sugar\"], [\"diet food eat type find\", \"good diet someon suffer diabet nephropathi\"], [\"diet food eat type find\", \"person diabet diabet surgeri surgeri\"], [\"diet food eat type find\", \"diabet movi isteel magnolia\"], [\"diet food eat type find\", \"find free diabet recip\"], [\"diet food eat type find\", \"one buy diabet support sock\"], [\"diet food eat type find\", \"diabet amount carb eat per day\"], [\"diet food eat type find\", \"food healthi appeal diabet\"], [\"diet food eat type find\", \"specif type one diabet diet\"], [\"diet food eat type find\", \"food avoid diabet food benefici health\"], [\"diet food eat type find\", \"one find info diet diabet\"], [\"diet food eat type find\", \"tradjenta\"], [\"diet food eat type find\", \"one contact american diabet associ\"], [\"diet food eat type find\", \"starch good diabet peopl\"], [\"diet food eat type find\", \"simpl recip found diabet menu\"], [\"diet food eat type find\", \"veget diabet eat\"], [\"diet food eat type find\", \"requir diabet wear medic alert bracelet\"], [\"diet food eat type find\", \"cure diabet\"], [\"diet food eat type find\", \"diabet recip web\"], [\"diet food eat type find\", \"list slang colloqui word diabet\"], [\"diet food eat type find\", \"type food need add diet diabet\"], [\"diet food eat type find\", \"allow eat drink one sugar diabet\"], [\"diet food eat type find\", \"top brand diabet suppli\"], [\"diet food eat type find\", \"sugar conent banana\"], [\"diet food eat type find\", \"cure diabet\"], [\"diet food eat type find\", \"te ideal diet diabet patient\"], [\"diet food eat type find\", \"diabet eat peanut\"], [\"diet food eat type find\", \"educ requir diabet health counselor\"], [\"diet food eat type find\", \"chees eat diabet\"], [\"diet food eat type find\", \"cure diabet\"], [\"diet food eat type find\", \"fruit contain sugar bad diabet patient\"], [\"diet food eat type find\", \"diabet eat fruit\"], [\"diet food eat type find\", \"fructos better granul sugar diabet\"], [\"diet food eat type find\", \"find food diabet avoid\"], [\"diet food eat type find\", \"good diet plan diabet\"], [\"diet food eat type find\", \"fruit diabet person eat\"], [\"diet food eat type find\", \"need balanc diet\"], [\"diet food eat type find\", \"compani offer free diabet test suppli\"], [\"diet food eat type find\", \"good diabet dessert recip\"], [\"diet food eat type find\", \"diet diabet\"], [\"diet food eat type find\", \"hormon control suppli sugar blood muscl\"], [\"diet food eat type find\", \"snack still diabet mellitu\"], [\"diet food eat type find\", \"healthiest sweetest diabet pound cake recip\"], [\"diet food eat type find\", \"cure diabet\"], [\"diet food eat type find\", \"mani gram sugar day diebet\"], [\"diet food eat type find\", \"best diet type two diabet\"], [\"diet food eat type find\", \"prevent diabet two\"], [\"diet food eat type find\", \"buy diabet cookbook\"], [\"diet food eat type find\", \"daili food eat\"], [\"diet food eat type find\", \"diabet meal plan\"], [\"diet food eat type find\", \"effect carb diet diabet\"], [\"diet food eat type find\", \"glucosamin safe diabet patient\"], [\"diet food eat type find\", \"natur remedi diabet\"], [\"diet food eat type find\", \"indulg tasti snack diabet\"], [\"diet food eat type find\", \"pasta good diabet\"], [\"diet food eat type find\", \"item breakfast diabet\"], [\"diet food eat type find\", \"good diet type two diabet\"], [\"diet food eat type find\", \"best choic diabet food\"], [\"diet food eat type find\", \"cure diabet fruit\"], [\"diet food eat type find\", \"would good diabet diet someon diabet\"], [\"diet food eat type find\", \"diabet diet follow\"], [\"diet food eat type find\", \"diabet diet\"], [\"diet food eat type find\", \"diabet person eat appl\"], [\"diet food eat type find\", \"onlin find glycem index chart\"], [\"diet food eat type find\", \"buy diabet test suppli\"], [\"diet food eat type find\", \"best diet diabet\"], [\"diet food eat type find\", \"diabet eat regular interv\"], [\"diet food eat type find\", \"gener rule diet diabet\"], [\"diet food eat type find\", \"lettuc good diabet\"], [\"diet food eat type find\", \"long till cure type two diabet\"], [\"diet food eat type find\", \"good diabet breakfast\"], [\"diet food eat type find\", \"iu measur vitamin e translat mcg mg\"], [\"diet food eat type find\", \"cure type two diabet\"], [\"diet food eat type find\", \"doctor control diabet\"], [\"diet food eat type find\", \"strict diet need diabet\"], [\"diet food eat type find\", \"diabet eat kosher hot dog\"], [\"diet food eat type find\", \"ok smoke marijuana diabet\"], [\"diet food eat type find\", \"get diabet meal recip\"], [\"diet food eat type find\", \"peopl diabet eat\"], [\"diet food eat type find\", \"oil base food good women\"], [\"diet food eat type find\", \"food allow diabet food list\"], [\"diet food eat type find\", \"reput diabet cookbook purchas onlin\"], [\"diet food eat type find\", \"mani carbohydr type one diabet eat day\"], [\"diet food eat type find\", \"find sampl diabet diet\"], [\"diet food eat type find\", \"ingredi make reliv least diabet high blood pressur high cholesterol\"], [\"diet food eat type find\", \"food bad diabet\"], [\"diet food eat type find\", \"supplement diabet\"], [\"diet food eat type find\", \"find inform cereal diabet\"], [\"diet food eat type find\", \"best wine diabet\"], [\"diet food eat type find\", \"import qualiti diabet suppli\"], [\"diet food eat type find\", \"websit help find diabet dtour diet\"], [\"diet food eat type find\", \"illeg diabet eat sugar\"], [\"diet food eat type find\", \"control diabit\"], [\"diet food eat type find\", \"treatment type one diabet\"], [\"diet food eat type find\", \"peopl diabet eat protein\"], [\"diet food eat type find\", \"cookbook good diabet cooki recip\"], [\"diet food eat type find\", \"makabuhay plant realli caus diabet\"], [\"diet food eat type find\", \"find recip book diabet diet\"], [\"diet food eat type find\", \"wwhat fruit cure diabet\"], [\"diet food eat type find\", \"diabet treatment\"], [\"diet food eat type find\", \"vitamin get rid diabet\"], [\"diet food eat type find\", \"cure dibeti\"], [\"diet food eat type find\", \"peopl diabet allow eat chocol\"], [\"diet food eat type find\", \"meal diabet\"], [\"diet food eat type find\", \"treatment type one diabet\"], [\"diet food eat type find\", \"find list food pantri arkansa\"]], \"hovertemplate\": \"summary=%{customdata[0]}<br>pc_1=%{x}<br>pc_2=%{y}<br>pc_3=%{z}<br>sentence=%{customdata[1]}<extra></extra>\", \"legendgroup\": \"diet food eat type find\", \"marker\": {\"color\": \"#00cc96\", \"size\": 5, \"symbol\": \"circle\"}, \"mode\": \"markers\", \"name\": \"diet food eat type find\", \"scene\": \"scene\", \"showlegend\": true, \"type\": \"scatter3d\", \"x\": [-9.147516250610352, -5.424528121948242, -8.714133262634277, -9.578458786010742, -7.290746688842773, -11.056755065917969, -7.335314750671387, -7.210241794586182, -10.973299026489258, -10.16416072845459, -5.467738628387451, -6.224743843078613, -8.75582218170166, -9.772758483886719, -9.482666015625, -5.667390823364258, -9.839472770690918, -4.78617000579834, -5.631089687347412, -2.2070860862731934, -5.277472972869873, -9.30580997467041, -10.87594985961914, -8.784873962402344, -5.123605251312256, -7.1649322509765625, -5.570022106170654, -3.812520980834961, -5.3773884773254395, -7.678071975708008, -10.436511039733887, -4.83073616027832, -7.006417274475098, -5.51627254486084, -8.956113815307617, -10.167112350463867, -11.659697532653809, -9.159503936767578, -6.663825035095215, -5.6090006828308105, -11.31984806060791, -10.50096607208252, -11.413076400756836, -7.143553256988525, -9.58934211730957, -5.341126441955566, -7.46613883972168, -7.404297828674316, -5.281982898712158, -10.930821418762207, -7.889613628387451, -4.478643894195557, -8.909751892089844, -7.667591094970703, -10.269840240478516, -9.060948371887207, -10.983946800231934, -9.235063552856445, -5.016505241394043, -6.408764839172363, -4.095755577087402, -7.105897426605225, -4.257887840270996, -10.512533187866211, -1.9524915218353271, -4.278325080871582, -10.821401596069336, -10.920186042785645, -2.0122830867767334, -10.10752010345459, -8.158514976501465, -3.7573959827423096, -10.8418550491333, -9.142436027526855, -8.529706001281738, -1.7048271894454956, -7.953452110290527, -6.714900016784668, -0.9254814982414246, -5.518914222717285, -5.730495929718018, -7.9339423179626465, -9.240267753601074, -5.491218090057373, -9.859517097473145, -6.517160415649414, -11.126381874084473, -5.3227643966674805, -9.724886894226074, -6.289735317230225, -11.659697532653809, -10.56332778930664, -9.984947204589844, -9.974963188171387, -8.287460327148438, -6.967998504638672, -7.845275402069092, -3.1247031688690186, -3.2021079063415527, -4.391403675079346, -4.87495756149292, -4.683403968811035, -10.411073684692383, -6.958565711975098, -10.808048248291016, -10.20573902130127, -6.795594215393066, -9.502065658569336, -5.702887058258057, -10.271462440490723, -6.527655601501465, -7.213177680969238, -9.110272407531738, -11.095147132873535, -8.369183540344238, -8.336938858032227, -8.179215431213379, -5.3205156326293945, -10.067134857177734, -7.469546318054199, -4.814449787139893, -10.849089622497559, -6.477479457855225, -7.425952434539795, -10.218390464782715, -7.8242573738098145, -7.437880516052246, -2.63214373588562, -2.3074920177459717, -9.36298656463623, -4.642762184143066, -7.024109363555908, -10.18875789642334, -5.843217849731445, -9.317789077758789, -8.480997085571289, -5.134378433227539, -8.65478515625, -4.823179721832275, -10.424562454223633, -10.788677215576172, -8.630208015441895, -9.804128646850586, -4.946473121643066, -8.157645225524902, -5.277469158172607, -8.568467140197754, -8.08474349975586, -9.380996704101562, -4.924156665802002, -5.465548515319824, -6.394221305847168, -9.845746994018555, -2.7100048065185547, -10.357980728149414, -2.8823599815368652, -10.009095191955566, -5.11176872253418, -9.38180923461914, -7.192293167114258, -3.4576520919799805, -5.687480449676514, -10.391966819763184, -9.214305877685547, -3.146705150604248, -11.004776000976562, -6.169574737548828, -8.59506893157959, -8.47712516784668, -5.663792610168457, -3.844630002975464, -2.4486138820648193, -7.290467262268066, -7.665027141571045, -10.6875581741333, -7.479557514190674, -11.90024471282959, -9.792061805725098, -10.682802200317383, -2.7769534587860107, -6.826090335845947, -9.975090026855469, -8.176749229431152, -7.628501892089844, -8.592696189880371, -10.874810218811035, -7.330569744110107, -4.602372646331787, -11.681122779846191, -4.540804386138916, -10.543710708618164, -5.274808883666992, -10.873686790466309, -9.296343803405762, -11.172624588012695, -5.367350101470947, -10.05825138092041, -10.875746726989746, -3.9434597492218018, -10.302510261535645, -5.606316089630127, -9.395121574401855, -6.874775409698486, -9.289982795715332, -10.331412315368652, -8.56590461730957, -5.884321212768555, -10.057899475097656, -1.5511552095413208, -5.596351146697998, -8.001852989196777, -10.874550819396973, -3.0786023139953613, -10.124797821044922, -5.903785705566406, -8.779590606689453, -11.124822616577148, -9.435476303100586, -10.018906593322754, -6.369605541229248, -10.601175308227539, -10.816143989562988, -8.951251983642578, -7.763128280639648, -10.9390230178833, -10.532912254333496, -10.886493682861328, -9.481155395507812, -11.172904014587402, -11.476936340332031, -4.011068344116211, -7.489829063415527, -3.3869006633758545, -10.945731163024902, -4.726467609405518, -10.607222557067871, -3.3215482234954834, -10.872208595275879, -8.463768005371094, -1.3004578351974487, -10.618040084838867, -3.8303792476654053, -10.67174243927002, -4.61072301864624, -5.379024028778076, -9.347743034362793, -6.836806297302246, -10.712550163269043, -9.790820121765137, -7.65487813949585, -4.456593036651611, -10.72984790802002, -3.7564103603363037, -7.895287990570068, -4.018193244934082, -7.652383804321289, -5.679391384124756, -10.735182762145996, -10.155993461608887, -1.6906192302703857, -1.9976513385772705, -5.467325687408447, -6.152057647705078, -7.0951714515686035, -5.484860897064209, -5.891578197479248, -7.648551940917969, -8.056903839111328, -6.916006088256836, -8.59056568145752, -10.075251579284668, -1.4191890954971313, -5.467311382293701, -9.140031814575195], \"y\": [12.809135437011719, 4.891027927398682, 2.33121395111084, 3.591315746307373, 17.30248260498047, 9.3579683303833, 2.096240520477295, 1.7044658660888672, 10.094833374023438, 6.363566875457764, 1.4902760982513428, 1.9938067197799683, 14.793306350708008, 4.933465003967285, 5.165670871734619, 1.2932642698287964, 12.549756050109863, 1.1944222450256348, 2.913235902786255, 1.1239582300186157, 2.149932861328125, 2.8431904315948486, 9.615748405456543, 2.403904914855957, 1.9527032375335693, 16.470203399658203, 2.482112169265747, 1.9812915325164795, 4.751269340515137, 2.358071804046631, 10.979439735412598, 1.930384874343872, 1.8253971338272095, 1.7132900953292847, 13.834592819213867, 4.08531379699707, 4.068140029907227, 5.282618522644043, 1.4833934307098389, 17.714574813842773, 7.284478187561035, 5.051976680755615, 8.006244659423828, 2.491055727005005, 11.990989685058594, 4.751198768615723, 1.8610894680023193, 16.864131927490234, 1.4680930376052856, 10.155823707580566, 2.849032163619995, 3.3993005752563477, 14.436846733093262, 16.069259643554688, 4.000132083892822, 2.5464439392089844, 6.728632926940918, 12.936634063720703, 1.2670973539352417, 17.84320640563965, 1.7504923343658447, 16.645009994506836, 3.6573801040649414, 5.176416397094727, 0.9686346054077148, 1.2051008939743042, 7.4680070877075195, 11.603668212890625, 0.8058397173881531, 8.256739616394043, 15.4797945022583, 1.8502817153930664, 6.6890764236450195, 14.158717155456543, 15.085034370422363, 0.9239638447761536, 16.558700561523438, 17.632265090942383, 0.7404844760894775, 2.845482587814331, 1.4431871175765991, 2.017921209335327, 9.79471492767334, 1.1745665073394775, 13.299757957458496, 17.80814552307129, 8.434563636779785, 2.03109073638916, 12.911605834960938, 17.88650131225586, 4.068140029907227, 5.174087047576904, 4.999068260192871, 7.865431785583496, 3.6282877922058105, 1.5778206586837769, 16.65358543395996, 1.8039547204971313, 1.2108975648880005, 2.1453232765197754, 1.4071815013885498, 4.02111291885376, 12.697535514831543, 1.5824205875396729, 5.521775245666504, 12.156866073608398, 1.794000506401062, 3.6000120639801025, 1.8505297899246216, 6.928975582122803, 1.4495787620544434, 17.318801879882812, 5.3571062088012695, 8.356931686401367, 15.612664222717285, 15.928689002990723, 16.606592178344727, 1.413034439086914, 11.464513778686523, 16.506925582885742, 1.1307835578918457, 5.627331733703613, 1.4299376010894775, 2.794238805770874, 10.9699068069458, 1.8356786966323853, 16.715307235717773, 1.0584834814071655, 0.8148068785667419, 14.62773323059082, 0.8148385286331177, 1.5139679908752441, 8.548108100891113, 17.769935607910156, 2.9810597896575928, 15.192968368530273, 1.0415953397750854, 9.525848388671875, 1.0299392938613892, 12.373495101928711, 11.26805591583252, 9.492300987243652, 13.640619277954102, 2.029942274093628, 15.624807357788086, 2.149937629699707, 9.764481544494629, 3.4650912284851074, 12.795378684997559, 0.9481525421142578, 1.3377110958099365, 1.413692593574524, 4.751618385314941, 1.0882093906402588, 9.631717681884766, 1.1287214756011963, 4.4215874671936035, 1.2921253442764282, 12.423388481140137, 17.307052612304688, 1.9268354177474976, 17.742074966430664, 11.373968124389648, 13.932852745056152, 1.789175271987915, 9.135183334350586, 1.8175209760665894, 3.529554605484009, 14.214855194091797, 1.214725375175476, 1.675152063369751, 1.0501848459243774, 16.21695899963379, 2.473895311355591, 10.062633514404297, 1.9494616985321045, 6.5389323234558105, 13.48824405670166, 8.581247329711914, 1.0732321739196777, 1.5353550910949707, 3.1575570106506348, 15.054954528808594, 1.9977084398269653, 3.637808322906494, 8.444666862487793, 16.888181686401367, 0.9144821166992188, 6.5681962966918945, 1.5167783498764038, 11.02725887298584, 2.00174880027771, 8.444418907165527, 3.20478892326355, 7.149730205535889, 2.638554096221924, 3.6759557723999023, 8.44444465637207, 1.9189749956130981, 12.57430648803711, 2.108926296234131, 12.879937171936035, 17.628467559814453, 5.843593120574951, 8.819697380065918, 9.920661926269531, 17.802112579345703, 4.250673770904541, 0.9052757620811462, 1.2117211818695068, 16.01995277404785, 8.44425106048584, 1.230201244354248, 6.305682182312012, 1.3001621961593628, 14.667308807373047, 8.782489776611328, 10.33304500579834, 11.993725776672363, 1.9416793584823608, 8.47922134399414, 8.00576400756836, 2.530393362045288, 1.8902502059936523, 7.338033676147461, 5.041204452514648, 9.275663375854492, 12.741742134094238, 9.44903564453125, 8.511826515197754, 1.4081131219863892, 14.589547157287598, 1.7981469631195068, 7.216316223144531, 1.5235999822616577, 5.2901387214660645, 1.1708990335464478, 7.4648518562316895, 2.6796152591705322, 0.8468807935714722, 6.843179702758789, 1.7703454494476318, 5.507096290588379, 0.788996160030365, 1.1354540586471558, 15.913758277893066, 1.7987169027328491, 6.205557823181152, 13.658143043518066, 16.91969108581543, 3.829235792160034, 7.631711006164551, 1.615164041519165, 1.959375262260437, 1.2257213592529297, 17.201995849609375, 1.5221067667007446, 11.133455276489258, 7.1299357414245605, 0.9325132369995117, 1.2102680206298828, 4.964780807495117, 1.6797200441360474, 16.828439712524414, 1.1046687364578247, 17.789621353149414, 16.785400390625, 3.0887491703033447, 1.5582631826400757, 3.5730154514312744, 5.009928226470947, 0.841189980506897, 4.964767932891846, 14.872833251953125], \"z\": [-5.086366653442383, -1.4054455757141113, -2.26462721824646, -2.5001471042633057, -7.912255764007568, -3.418088436126709, -3.914729118347168, 0.5340009927749634, -4.111967086791992, -0.4835887551307678, -3.565582752227783, -4.64924955368042, -6.057856559753418, -0.9773815274238586, -4.402839660644531, 3.282759189605713, -5.250556945800781, -0.34877967834472656, -7.046804904937744, -5.185391426086426, -6.049671173095703, -2.800314426422119, -3.666555404663086, -2.7807257175445557, -5.720968723297119, -7.289620876312256, -6.387239456176758, -6.937841415405273, -1.3647842407226562, -3.986114025115967, -3.685286521911621, -5.945472717285156, -1.0932775735855103, -4.46370792388916, -5.590941905975342, -3.057267189025879, -2.667672634124756, -4.79020357131958, 1.9712225198745728, -8.526472091674805, -3.7701175212860107, -3.1155927181243896, -3.6785264015197754, -4.623831748962402, -4.740541458129883, -1.3716151714324951, -3.4990592002868652, -6.75112771987915, 3.0319173336029053, -3.6538009643554688, -4.371464729309082, -1.468632459640503, -6.009132385253906, -7.614710330963135, -3.027461051940918, -2.527221918106079, -3.179964303970337, -4.0290207862854, -2.9108939170837402, -8.085844993591309, -6.025996685028076, -7.147075653076172, -0.9655404090881348, -3.1202375888824463, -4.11448860168457, -2.3354103565216064, -3.248161554336548, -3.098066568374634, -1.1514889001846313, -1.9413681030273438, -6.617068290710449, -6.628652572631836, -3.1835594177246094, -5.516433238983154, -6.2148213386535645, -5.103228569030762, -7.118669033050537, -8.408827781677246, -3.767996072769165, -7.043256759643555, -2.1398866176605225, -3.218871831893921, -5.529035568237305, 1.1788321733474731, -4.883142948150635, -8.179237365722656, -2.188626289367676, -5.743986129760742, -4.771833419799805, -8.172462463378906, -2.667672634124756, -3.1245439052581787, -1.3730340003967285, -0.6062776446342468, -4.700725078582764, 1.2317477464675903, -7.417535781860352, -7.0536675453186035, -3.399343729019165, -6.787909507751465, -1.2150051593780518, -1.1260300874710083, -5.036654472351074, 0.7336530685424805, -3.2829461097717285, -4.449062347412109, -1.0609893798828125, -2.845045804977417, -1.053653597831726, -0.6834356188774109, 2.69341778755188, -7.980685710906982, -4.876251220703125, -3.96124267578125, -6.624014854431152, -6.627993106842041, -6.815601825714111, -1.4246008396148682, -4.0958781242370605, -6.976561546325684, -0.18752901256084442, -3.267458200454712, 2.5774707794189453, -4.746641159057617, -4.072051048278809, -2.9516658782958984, -7.877767086029053, -2.3298962116241455, -1.2272998094558716, -5.489354133605957, -0.1793832927942276, 2.785156011581421, -4.835372447967529, -8.443984985351562, -2.7164466381073, -6.3073248863220215, 1.5357099771499634, -6.093667030334473, 0.28728723526000977, -4.796463966369629, -4.360786437988281, -6.114954471588135, -5.3993706703186035, -6.097226619720459, -7.032593727111816, -6.0496826171875, -6.196343421936035, -4.7672905921936035, -4.835152626037598, 1.598740577697754, -2.143177032470703, 2.646104097366333, -3.7688417434692383, -3.102308511734009, -3.421755313873291, -2.90968656539917, -2.3914153575897217, -2.054882526397705, -4.51776647567749, -7.225472450256348, -7.114711284637451, -8.496612548828125, -4.123488426208496, -5.235994815826416, -6.983322620391846, -3.8128442764282227, -4.193650245666504, -4.292174339294434, -6.409294128417969, 3.29862380027771, -5.961886405944824, -2.524808406829834, -7.439620018005371, -4.142183303833008, -4.0176897048950195, -0.8537312746047974, -1.5636056661605835, -5.352313041687012, -3.4338364601135254, -2.7034831047058105, 1.096885323524475, -2.8960676193237305, -7.066923141479492, -0.6404849290847778, -4.380295276641846, -3.314011812210083, -6.962625980377197, 1.6426211595535278, -1.7540593147277832, -4.0875396728515625, -4.523876667022705, -5.724720001220703, -3.3145861625671387, -3.126654624938965, -3.6319167613983154, -6.829827785491943, -3.005249261856079, -3.3142378330230713, -6.663229465484619, -4.8908257484436035, -5.620603561401367, -4.910764694213867, -7.956702709197998, -4.896451473236084, -4.796535015106201, -6.208470821380615, -8.406055450439453, -2.977384090423584, -5.211231708526611, 3.2212915420532227, -6.7019944190979, -3.314424991607666, -4.221419334411621, -0.4700598418712616, 2.97084379196167, -6.0402398109436035, -4.204536437988281, -5.257061004638672, -4.379879951477051, -4.3978447914123535, -2.756364345550537, -3.2191522121429443, -2.6726467609405518, -3.190002202987671, -1.4070008993148804, -3.194566488265991, -3.688598394393921, -4.970700740814209, -4.097866535186768, -4.075867652893066, -3.602536916732788, -7.671696186065674, -6.788583755493164, -3.2797720432281494, -0.7249100208282471, -3.0860252380371094, -3.2329351902008057, -1.360120415687561, -3.5225961208343506, -5.442131042480469, -0.957231342792511, -2.920098066329956, -3.1336522102355957, 1.7494637966156006, 1.237781286239624, -5.8734612464904785, -1.0786350965499878, -3.1193575859069824, -5.301399230957031, -7.172201633453369, -1.1749584674835205, -3.6886420249938965, -5.8026041984558105, -3.1419408321380615, -2.202316999435425, -7.56410026550293, -1.4510090351104736, -4.010141849517822, -4.431657791137695, -4.827334403991699, -2.2854084968566895, -1.4408012628555298, -1.262784719467163, -7.535635471343994, 2.8226206302642822, -8.425904273986816, -7.830221652984619, -4.440548896789551, 1.3767426013946533, -4.342390537261963, -1.6482117176055908, -3.257465124130249, -1.440814733505249, -5.7739949226379395]}, {\"customdata\": [[\"type cau get symptom one\", \"mani new case diabet\"], [\"type cau get symptom one\", \"black ant red small ant attract human urin spill floor\"], [\"type cau get symptom one\", \"iguana get diabet\"], [\"type cau get symptom one\", \"much intak sugar caus diabet\"], [\"type cau get symptom one\", \"david letterman diabet\"], [\"type cau get symptom one\", \"buildup keto acid result diabet mellitu\"], [\"type cau get symptom one\", \"smoke cigarett caus diabet\"], [\"type cau get symptom one\", \"diabet caus drowsi\"], [\"type cau get symptom one\", \"inherit diabet\"], [\"type cau get symptom one\", \"nick jona get diabet\"], [\"type cau get symptom one\", \"four p diabet\"], [\"type cau get symptom one\", \"hormon defici caus diabet\"], [\"type cau get symptom one\", \"type two diabet occur pregnanc\"], [\"type cau get symptom one\", \"caus type two diabet\"], [\"type cau get symptom one\", \"newborn get diabet\"], [\"type cau get symptom one\", \"diabet detect symptom appear diabet mellitu\"], [\"type cau get symptom one\", \"get rid anger im thirteen type one diabet alway seem get anybodi help\"], [\"type cau get symptom one\", \"abbrevi acronym modi stand explain modi\"], [\"type cau get symptom one\", \"main caus type two diabet\"], [\"type cau get symptom one\", \"condit character insulin resist fat cell\"], [\"type cau get symptom one\", \"number one caus adult us diabet\"], [\"type cau get symptom one\", \"type diabet associ pregnanc\"], [\"type cau get symptom one\", \"danger gestat diabet\"], [\"type cau get symptom one\", \"high level albinum diabet\"], [\"type cau get symptom one\", \"erythritol bad\"], [\"type cau get symptom one\", \"frequent urin danger\"], [\"type cau get symptom one\", \"factor lead heart diseas\"], [\"type cau get symptom one\", \"diabet hurt\"], [\"type cau get symptom one\", \"caus dri mouth\"], [\"type cau get symptom one\", \"number peopl worldwid diabet increas\"], [\"type cau get symptom one\", \"diabet\"], [\"type cau get symptom one\", \"impact gestat diabet placenta\"], [\"type cau get symptom one\", \"peopl pisap\"], [\"type cau get symptom one\", \"diabet go blue pool iceland\"], [\"type cau get symptom one\", \"could person die diabet\"], [\"type cau get symptom one\", \"three p diabet mellitu\"], [\"type cau get symptom one\", \"diagnosi mean\"], [\"type cau get symptom one\", \"pyorrhea link diabet type one\"], [\"type cau get symptom one\", \"symptom determin borderlin diabet\"], [\"type cau get symptom one\", \"caus arm ach\"], [\"type cau get symptom one\", \"symptom type one diabet\"], [\"type cau get symptom one\", \"anabol agent caus diabet\"], [\"type cau get symptom one\", \"name someth happen eat much sugar\"], [\"type cau get symptom one\", \"age diabet insipidu usual occur\"], [\"type cau get symptom one\", \"nausea relat chronic\"], [\"type cau get symptom one\", \"list five non communic communic diseas\"], [\"type cau get symptom one\", \"diabet mellitu caus lack hormon\"], [\"type cau get symptom one\", \"earli warn sign diabet\"], [\"type cau get symptom one\", \"happen eat lot sugar\"], [\"type cau get symptom one\", \"get type three diabet\"], [\"type cau get symptom one\", \"stage level becom diabet\"], [\"type cau get symptom one\", \"dog diabet\"], [\"type cau get symptom one\", \"might caus unexplain weight gain fatigu\"], [\"type cau get symptom one\", \"incid type one diabet\"], [\"type cau get symptom one\", \"join airforc diabet\"], [\"type cau get symptom one\", \"diabet domin recess trait\"], [\"type cau get symptom one\", \"get diabet girlfriend valentin day\"], [\"type cau get symptom one\", \"diabet ill\"], [\"type cau get symptom one\", \"diabet foot ulcer\"], [\"type cau get symptom one\", \"mani peopl die diabet type one everyday\"], [\"type cau get symptom one\", \"mode transmiss diabet mellitu\"], [\"type cau get symptom one\", \"get diabet life\"], [\"type cau get symptom one\", \"hunger symptom diabet\"], [\"type cau get symptom one\", \"diabet caus peripher neuropathi\"], [\"type cau get symptom one\", \"swollen ankl symptom diabet\"], [\"type cau get symptom one\", \"problem tingl feet alway cold cotton mouth often urin could diabet anxieti disord\"], [\"type cau get symptom one\", \"diff diabet one two\"], [\"type cau get symptom one\", \"diabet medic caus anaemia\"], [\"type cau get symptom one\", \"part human bodi effect diabet type one\"], [\"type cau get symptom one\", \"omnicef rare prescrib diabet\"], [\"type cau get symptom one\", \"mani diseas human bodi\"], [\"type cau get symptom one\", \"cdl driver florida still drive diabet use insulin\"], [\"type cau get symptom one\", \"caus diabet frequent urin\"], [\"type cau get symptom one\", \"horomon diabet mellitu affect\"], [\"type cau get symptom one\", \"diabet australia third oldest diabet associ world follow countri\"], [\"type cau get symptom one\", \"diabet abnorm\"], [\"type cau get symptom one\", \"skin tent dri mucou membran associ diabet\"], [\"type cau get symptom one\", \"diabet nephropathi\"], [\"type cau get symptom one\", \"get dla child diabet insipidu\"], [\"type cau get symptom one\", \"glycosuria failur\"], [\"type cau get symptom one\", \"possibl genotyp parent diabet\"], [\"type cau get symptom one\", \"diabet effect pregnanc\"], [\"type cau get symptom one\", \"type genet disord diabet\"], [\"type cau get symptom one\", \"earli sign diabet peopl tend miss\"], [\"type cau get symptom one\", \"type crystal urin might present diabet mellitu\"], [\"type cau get symptom one\", \"nation guard kick diabet\"], [\"type cau get symptom one\", \"sixti two year old diabet black man swollen left leg area blanch blue mottl\"], [\"type cau get symptom one\", \"name black actress diabet care club\"], [\"type cau get symptom one\", \"differ diabet diabet mellitu\"], [\"type cau get symptom one\", \"diabet affect fertil\"], [\"type cau get symptom one\", \"diabet caus sweat\"], [\"type cau get symptom one\", \"relat hypokalemia diabet melitu\"], [\"type cau get symptom one\", \"diabet awar month\"], [\"type cau get symptom one\", \"sign symptom diabet\"], [\"type cau get symptom one\", \"increas risk diabet face\"], [\"type cau get symptom one\", \"coutri diabet common\"], [\"type cau get symptom one\", \"diabet develop bad temper\"], [\"type cau get symptom one\", \"eyesight return retinopathi\"], [\"type cau get symptom one\", \"type microb diabet\"], [\"type cau get symptom one\", \"diabet call diabet mellitu\"], [\"type cau get symptom one\", \"substanc increas urin untreat diabet\"], [\"type cau get symptom one\", \"true nick diabet\"], [\"type cau get symptom one\", \"im extrem tire time irrit feel dehydr im extrem thirsti pee lot symptom happen diabet seee doctor\"], [\"type cau get symptom one\", \"children diabet cope school\"], [\"type cau get symptom one\", \"arm ach elbow\"], [\"type cau get symptom one\", \"frequent urin patient diabet elimin excess\"], [\"type cau get symptom one\", \"symptom type two diabet\"], [\"type cau get symptom one\", \"tv caus diabet\"], [\"type cau get symptom one\", \"old nick got diabet\"], [\"type cau get symptom one\", \"sugar frost flake caus diabet\"], [\"type cau get symptom one\", \"miley breack nick diabet\"], [\"type cau get symptom one\", \"kind diabet jacki robinson\"], [\"type cau get symptom one\", \"know might diabet\"], [\"type cau get symptom one\", \"youngest age diagnos diabet\"], [\"type cau get symptom one\", \"diabet physic disord\"], [\"type cau get symptom one\", \"good thesi statement diabet type one\"], [\"type cau get symptom one\", \"caus sore heal\"], [\"type cau get symptom one\", \"gene affect type one diabet\"], [\"type cau get symptom one\", \"individu get diabet\"], [\"type cau get symptom one\", \"occur bodi type ii diabet\"], [\"type cau get symptom one\", \"diabet make urin smell\"], [\"type cau get symptom one\", \"preval diabet mellitu philippin\"], [\"type cau get symptom one\", \"pediatr diabet creat\"], [\"type cau get symptom one\", \"diabet skinni\"], [\"type cau get symptom one\", \"join cheerlead diabet\"], [\"type cau get symptom one\", \"diabet gangren\"], [\"type cau get symptom one\", \"precaut take run diabet\"], [\"type cau get symptom one\", \"diabet get addict medicin\"], [\"type cau get symptom one\", \"symptom diabet ulcer\"], [\"type cau get symptom one\", \"pediatr diabeti\"], [\"type cau get symptom one\", \"classic symptom diabet\"], [\"type cau get symptom one\", \"urin lot sign diabet\"], [\"type cau get symptom one\", \"caus hand cramp\"], [\"type cau get symptom one\", \"caus type one diabet\"], [\"type cau get symptom one\", \"diseas relat lack insulin product\"], [\"type cau get symptom one\", \"diabet develop\"], [\"type cau get symptom one\", \"type diabet mellitu insulin resist disord gestat type one type two\"], [\"type cau get symptom one\", \"someon diabet nephropathi without diabeti\"], [\"type cau get symptom one\", \"someon take pill diabet use urin therapi\"], [\"type cau get symptom one\", \"diabet affect peopl\"], [\"type cau get symptom one\", \"differ type diabet\"], [\"type cau get symptom one\", \"diabet sore heal slower\"], [\"type cau get symptom one\", \"condit make urin tasteless\"], [\"type cau get symptom one\", \"chanc diabet babi born parent heterozyg normal\"], [\"type cau get symptom one\", \"diabet run jona famili\"], [\"type cau get symptom one\", \"safe legal way travel insulin inject equip sharp\"], [\"type cau get symptom one\", \"caus ashi dermatosi\"], [\"type cau get symptom one\", \"caus diabet environment hereditari\"], [\"type cau get symptom one\", \"high concentr homocystein blood associ develop\"], [\"type cau get symptom one\", \"job diabet get\"], [\"type cau get symptom one\", \"diabet mental ill physic ill\"], [\"type cau get symptom one\", \"know diabet\"], [\"type cau get symptom one\", \"right consumpt everi kind process food\"], [\"type cau get symptom one\", \"know type two diabet\"], [\"type cau get symptom one\", \"diabet medicin caus drowsi\"], [\"type cau get symptom one\", \"import diagnos diabet earli\"], [\"type cau get symptom one\", \"dri mouth alway thirsti diabet\"], [\"type cau get symptom one\", \"nick jona develop diabet\"], [\"type cau get symptom one\", \"type two diabet diagnos\"], [\"type cau get symptom one\", \"symptom hyperglycemia\"], [\"type cau get symptom one\", \"advers affect scuba dive diabet\"], [\"type cau get symptom one\", \"uncontrol diabet effect mental statu\"], [\"type cau get symptom one\", \"diabet contribut cvd\"], [\"type cau get symptom one\", \"lipotroph diabet\"], [\"type cau get symptom one\", \"nick jona ever diabet\"], [\"type cau get symptom one\", \"diabet symptom sign\"], [\"type cau get symptom one\", \"mitchel musso diabet\"], [\"type cau get symptom one\", \"frequent night time urin symptom type two diabet\"], [\"type cau get symptom one\", \"three clinic sign insulin defici\"], [\"type cau get symptom one\", \"caus diabet type one\"], [\"type cau get symptom one\", \"type diabet thoma edison\"], [\"type cau get symptom one\", \"common effect diabet diabet\"], [\"type cau get symptom one\", \"averag output urin teenag day\"], [\"type cau get symptom one\", \"gestat diabet syzgumj medicin mother tinctur safe pregnanc\"], [\"type cau get symptom one\", \"diabet man impregn woman\"], [\"type cau get symptom one\", \"world diabet day celebr\"], [\"type cau get symptom one\", \"type three diabet\"], [\"type cau get symptom one\", \"caus frequent urin men\"], [\"type cau get symptom one\", \"type two diabet develop\"], [\"type cau get symptom one\", \"uncommon symptom diabet\"], [\"type cau get symptom one\", \"mani peopl uk diabet\"], [\"type cau get symptom one\", \"diabet one common diabet two\"], [\"type cau get symptom one\", \"dehydr diabet\"], [\"type cau get symptom one\", \"symptom diabet mellitu\"], [\"type cau get symptom one\", \"diabet eye\"], [\"type cau get symptom one\", \"human get diabet\"], [\"type cau get symptom one\", \"come get diabet mellitu\"], [\"type cau get symptom one\", \"diabet inherit\"], [\"type cau get symptom one\", \"pre diabet make like get gestat diabet\"], [\"type cau get symptom one\", \"system diabet\"], [\"type cau get symptom one\", \"get rid belli thigh fat still type one diabet\"], [\"type cau get symptom one\", \"ten peopl diabet\"], [\"type cau get symptom one\", \"get cdl colorado diabet\"], [\"type cau get symptom one\", \"mani diabet world\"], [\"type cau get symptom one\", \"see doctor diabet neuropathi\"], [\"type cau get symptom one\", \"symptom diabet\"], [\"type cau get symptom one\", \"predispos factor diabet mellitu\"], [\"type cau get symptom one\", \"system affect diabet\"], [\"type cau get symptom one\", \"diabet usual develop adolesc thought caus inherit predisposit pancrea problem\"], [\"type cau get symptom one\", \"symptom diabet\"], [\"type cau get symptom one\", \"diabet millitu\"], [\"type cau get symptom one\", \"diabet insipidu common male femal\"], [\"type cau get symptom one\", \"optimum arous sport\"], [\"type cau get symptom one\", \"pain back right shoulder blade get wors night lay\"], [\"type cau get symptom one\", \"diabet mauritiu\"], [\"type cau get symptom one\", \"would person ketoacidosi follow heavi breath polydipsia tachycardia\"], [\"type cau get symptom one\", \"first person get diabet\"], [\"type cau get symptom one\", \"type two diabet caus lifestyl bacteria\"], [\"type cau get symptom one\", \"known reason caus diabet\"], [\"type cau get symptom one\", \"cold feet relat diabet\"], [\"type cau get symptom one\", \"emot effect diabet\"], [\"type cau get symptom one\", \"hear loss relat diabet\"], [\"type cau get symptom one\", \"sign look get test diabet\"], [\"type cau get symptom one\", \"diabet feel hungri time\"], [\"type cau get symptom one\", \"infect affect bodi system\"], [\"type cau get symptom one\", \"peopl twenti diabet\"], [\"type cau get symptom one\", \"two type diabet\"], [\"type cau get symptom one\", \"age diabet start\"], [\"type cau get symptom one\", \"person urin frequent diabet\"], [\"type cau get symptom one\", \"symptom diabet type ii\"], [\"type cau get symptom one\", \"differenti diagnosi retinopathi prematur\"], [\"type cau get symptom one\", \"caus extrem bodi odor\"], [\"type cau get symptom one\", \"caus hand fall asleep\"], [\"type cau get symptom one\", \"way detect diabet\"], [\"type cau get symptom one\", \"diabet\"], [\"type cau get symptom one\", \"diabet top part foot cut use manual wheelchair handl\"], [\"type cau get symptom one\", \"symptom diabet may effect health long term\"], [\"type cau get symptom one\", \"children diabet\"], [\"type cau get symptom one\", \"caus lack water\"], [\"type cau get symptom one\", \"gestat diabet differ type diabet\"], [\"type cau get symptom one\", \"happen get diabet\"], [\"type cau get symptom one\", \"good overweight\"], [\"type cau get symptom one\", \"import solut remov diabet patient\"], [\"type cau get symptom one\", \"experienc twitch forefing thumb left hand sever week pain irrit could caus happen\"], [\"type cau get symptom one\", \"diabet affect result breathalyz\"], [\"type cau get symptom one\", \"common pre diabet symptom\"], [\"type cau get symptom one\", \"type three diabet\"], [\"type cau get symptom one\", \"mani children diagnos type one diabet everi day\"], [\"type cau get symptom one\", \"caus aceton breath seen type one diabet\"], [\"type cau get symptom one\", \"main symptom lead diabet\"], [\"type cau get symptom one\", \"definit diabet type one\"], [\"type cau get symptom one\", \"diabet build callou feet\"], [\"type cau get symptom one\", \"nick jona ever throw blood diabet\"], [\"type cau get symptom one\", \"uncontrol diabet lead\"], [\"type cau get symptom one\", \"mcdonald hurt kid diabet\"], [\"type cau get symptom one\", \"woman diabet cystic fibrosi becom pregnant\"], [\"type cau get symptom one\", \"differ hiv aid diabet type two\"], [\"type cau get symptom one\", \"sit cross leg long time caus leg fall asleep\"], [\"type cau get symptom one\", \"diabet pass uti\"], [\"type cau get symptom one\", \"need comma sentenc vascular diseas secondari diabet small vessel diseas\"], [\"type cau get symptom one\", \"peopol suffer diabet\"], [\"type cau get symptom one\", \"symptom distinguish type type ii diabet\"], [\"type cau get symptom one\", \"diabet type one\"], [\"type cau get symptom one\", \"doctor ask diabet patient eye foot exam\"], [\"type cau get symptom one\", \"surviv rate tripl bypass surgeri fifti five year old man diabet\"], [\"type cau get symptom one\", \"sign diabet ketoacidosi appear\"], [\"type cau get symptom one\", \"peopl type one diabet children\"], [\"type cau get symptom one\", \"get type one two diabet\"], [\"type cau get symptom one\", \"diseas result lack insulin\"], [\"type cau get symptom one\", \"know hamster diabet\"], [\"type cau get symptom one\", \"might symptom person would suffer diabet\"], [\"type cau get symptom one\", \"two type diabet\"], [\"type cau get symptom one\", \"diabet affect bodi system\"], [\"type cau get symptom one\", \"obes peopl get diabet\"], [\"type cau get symptom one\", \"develop diabet\"], [\"type cau get symptom one\", \"one know diabet symptom\"], [\"type cau get symptom one\", \"mother thyroid cancer caus type one diabet children\"], [\"type cau get symptom one\", \"much urin indic much insulin\"], [\"type cau get symptom one\", \"diabet effect eye sight\"], [\"type cau get symptom one\", \"diabet peripher neuropathi\"], [\"type cau get symptom one\", \"join us armi diabet insipidu\"], [\"type cau get symptom one\", \"nick jona get rid diabet\"], [\"type cau get symptom one\", \"get urin multipl time night urin much often normal symptom prostat cancer\"], [\"type cau get symptom one\", \"peopl fund diabet\"], [\"type cau get symptom one\", \"diabet dehydr\"], [\"type cau get symptom one\", \"diabet caus viru bacteria\"], [\"type cau get symptom one\", \"amlodipin caus diabet\"], [\"type cau get symptom one\", \"age children get diabet\"], [\"type cau get symptom one\", \"diabet peopl juggl\"], [\"type cau get symptom one\", \"caus frequent urin vagin odor\"], [\"type cau get symptom one\", \"peopl die diabet\"], [\"type cau get symptom one\", \"five foot twelv year old girl weigh eighti four pound\"], [\"type cau get symptom one\", \"diabet danger condit\"], [\"type cau get symptom one\", \"would someon diabet neuropathi\"], [\"type cau get symptom one\", \"caus diabet\"], [\"type cau get symptom one\", \"previou disabl claim alreadi deni question need answer\"], [\"type cau get symptom one\", \"symptom hyperglycemia\"], [\"type cau get symptom one\", \"katrina kaif diabet\"], [\"type cau get symptom one\", \"famou peopl type one diabet\"], [\"type cau get symptom one\", \"type diseas diabet\"], [\"type cau get symptom one\", \"diabet foot infect\"], [\"type cau get symptom one\", \"gestat diabet\"], [\"type cau get symptom one\", \"women diabet pregnant\"], [\"type cau get symptom one\", \"basic symptom high blood sugar\"], [\"type cau get symptom one\", \"insulin depend diabet becom merchant marin\"], [\"type cau get symptom one\", \"two type diabet\"], [\"type cau get symptom one\", \"resist lead hyperglycemia ketoacidosi\"], [\"type cau get symptom one\", \"could get enough sun caus diabet\"], [\"type cau get symptom one\", \"diabet caus semen tast differ\"], [\"type cau get symptom one\", \"type l dm differ type diabet\"], [\"type cau get symptom one\", \"diabet common world\"], [\"type cau get symptom one\", \"type two diabet eat much junk food\"], [\"type cau get symptom one\", \"diabet caus tachycardia\"], [\"type cau get symptom one\", \"contract diabet\"], [\"type cau get symptom one\", \"diabet babi pregnant\"], [\"type cau get symptom one\", \"raccoon get diabet\"], [\"type cau get symptom one\", \"type three diabet differ type one two\"], [\"type cau get symptom one\", \"diabet patient age thirti nine conceiv possibl becom pregnant\"]], \"hovertemplate\": \"summary=%{customdata[0]}<br>pc_1=%{x}<br>pc_2=%{y}<br>pc_3=%{z}<br>sentence=%{customdata[1]}<extra></extra>\", \"legendgroup\": \"type cau get symptom one\", \"marker\": {\"color\": \"#ab63fa\", \"size\": 5, \"symbol\": \"circle\"}, \"mode\": \"markers\", \"name\": \"type cau get symptom one\", \"scene\": \"scene\", \"showlegend\": true, \"type\": \"scatter3d\", \"x\": [1.3019599914550781, 2.9842138290405273, -2.303257703781128, -3.585876226425171, 4.921811103820801, 5.52426815032959, -5.283820629119873, -2.961668014526367, -6.726555824279785, -8.255669593811035, -3.4258816242218018, 3.818141460418701, -0.9026735424995422, -0.37995991110801697, -3.7500336170196533, -9.24675464630127, 4.30016565322876, -3.317455291748047, -1.689957857131958, 5.804702281951904, 5.662093639373779, 1.3636338710784912, -1.754404902458191, 4.935591220855713, 5.506162166595459, -8.509778022766113, 2.9327688217163086, -0.023096244782209396, -3.212175130844116, -3.277139902114868, 4.943095684051514, -0.19466276466846466, 5.281215190887451, 3.033316135406494, 4.373364448547363, -5.748821258544922, 3.870633363723755, 4.652656555175781, 3.195314407348633, -4.560384750366211, -1.2403794527053833, -2.9268646240234375, 4.692902088165283, -5.083871364593506, -2.650696039199829, -4.687173843383789, -1.5808523893356323, -6.574153423309326, 4.808772087097168, 1.7812891006469727, 3.263767957687378, -1.8817676305770874, 3.324458122253418, 5.339962482452393, -0.08170142024755478, -6.613203525543213, -4.5541276931762695, 3.137601613998413, -7.088874816894531, 5.469966888427734, 5.074105739593506, -4.271210193634033, -6.294790267944336, -6.519411087036133, -8.774930000305176, -7.264613151550293, 0.9755648970603943, 5.0413947105407715, 5.4778032302856445, 0.11639705300331116, 5.554601669311523, 6.304287433624268, -9.174921035766602, 1.0783360004425049, 0.7033240795135498, -1.2020264863967896, 3.290146827697754, -2.4080405235290527, -2.39915132522583, -0.7897358536720276, 4.698616981506348, -5.51557731628418, 2.4239718914031982, -6.874747276306152, -8.605905532836914, 0.24053950607776642, -6.833687782287598, 5.228224754333496, -3.0366179943084717, 5.646660327911377, -6.6435651779174805, -3.9382288455963135, 3.9365909099578857, -8.347840309143066, -1.0700043439865112, 1.464380145072937, -7.176267623901367, 5.304052352905273, 5.214536666870117, -0.19775770604610443, -5.083516597747803, -3.667080879211426, -5.826108932495117, -6.310585975646973, -2.028414487838745, -8.505061149597168, -8.182156562805176, -2.6164357662200928, -3.6512997150421143, -3.551295042037964, -5.564581871032715, -6.204892635345459, 4.642746925354004, 5.068118572235107, -8.360675811767578, 4.738857269287109, -1.6895217895507812, 5.714148044586182, -2.0567169189453125, 4.881743907928467, -8.130328178405762, -1.764803171157837, -5.488218784332275, 5.272365093231201, 0.6990634202957153, 3.1314995288848877, 4.504552841186523, -1.5754432678222656, -8.819385528564453, -3.477210760116577, -7.503868103027344, -9.289521217346191, -6.480050563812256, 3.7812349796295166, 3.91055965423584, -1.9031108617782593, 0.34476903080940247, -2.7797679901123047, -5.329807281494141, -1.6476399898529053, 4.328540325164795, -8.201742172241211, -4.769443988800049, -3.7606313228607178, -3.689375400543213, 4.763669490814209, 5.593649864196777, -4.544458866119385, 5.553139686584473, -2.3107218742370605, 1.615196704864502, 5.475036144256592, -2.741992235183716, 4.720341205596924, 2.5377705097198486, 5.383749008178711, -4.956215858459473, -6.997483253479004, 6.042140483856201, -0.17505940794944763, 5.297788619995117, -6.061006546020508, 0.960521399974823, 2.890571117401123, -5.895744323730469, -9.415428161621094, 0.8785094618797302, -8.426420211791992, 5.881075859069824, 4.548320770263672, 5.0332746505737305, 0.8094698786735535, -6.249640941619873, -3.944077491760254, 5.531964302062988, -1.1671431064605713, 5.158744812011719, -9.041511535644531, 2.3306617736816406, -8.323240280151367, -2.120582103729248, -0.5389564633369446, -2.416069746017456, -8.926963806152344, 4.870167255401611, 2.5624282360076904, -6.782252788543701, -7.27157735824585, -4.509348392486572, 5.34022855758667, 4.32771635055542, 2.9839179515838623, 4.922224044799805, 5.081924915313721, -4.593937873840332, -7.887299060821533, -0.44405776262283325, 5.495780944824219, -0.45129236578941345, -7.887597560882568, 2.438051462173462, -6.99580192565918, 2.5576655864715576, -4.875380039215088, 3.999391555786133, 3.245981216430664, 5.518515110015869, 2.3222784996032715, -0.7861407995223999, -1.022890567779541, -0.007902112789452076, -2.7010927200317383, 2.7193450927734375, 3.413027763366699, -2.7349538803100586, 5.260236740112305, 2.6020121574401855, 5.095544815063477, -5.93102502822876, 0.26381823420524597, -6.021806716918945, 2.5735504627227783, -5.976476669311523, 2.7273576259613037, 4.943095684051514, -3.841745138168335, -7.52108097076416, -6.638340950012207, -5.585916996002197, 1.1355974674224854, 2.7606678009033203, 2.209507703781128, 4.325995922088623, -3.1066055297851562, 5.226752758026123, -7.012474536895752, 5.158745765686035, -1.7857381105422974, 4.211786270141602, -9.273155212402344, 4.513972759246826, 2.158249855041504, 2.0653181076049805, -6.772573947906494, -3.84309983253479, -8.968147277832031, 4.434810161590576, -8.138578414916992, -6.073018550872803, -2.066803455352783, 5.295565605163574, 2.29144549369812, 5.072343349456787, -5.693667888641357, -2.179527521133423, -6.453492641448975, 0.8854365944862366, 3.4063761234283447, 6.362984657287598, -1.9473955631256104, -9.032395362854004, 2.602128505706787, 5.751832485198975, -7.787412166595459, -3.520002841949463, -2.8287148475646973, 1.4156924486160278, 1.902470350265503, 4.095417499542236, -5.1922454833984375, -0.41103118658065796, -6.456701755523682, -5.322196960449219, -1.2845263481140137, -2.830639362335205, -1.6256232261657715, -0.8525241613388062, -8.044461250305176, -1.815880298614502, -7.290553569793701, 0.6023798584938049, -4.578829765319824, -0.22446197271347046, -3.9918935298919678, -1.463670253753662, -3.730937957763672, -0.17514951527118683, 0.2998005747795105, 3.1212124824523926, 5.475367546081543, -9.142544746398926, -4.73137092590332, -1.945369005203247, 5.431812763214111, 6.1397385597229, 2.602121591567993, 3.152195930480957, -5.138916969299316, -2.8286612033843994, -0.026568381115794182, 2.941756248474121, -5.8172736167907715, -2.3768985271453857, -2.5061440467834473, -2.188816547393799, -4.37846565246582, 3.4033737182617188, 2.874645471572876], \"y\": [-1.0902073383331299, -3.7513389587402344, -2.787679433822632, -1.7519328594207764, -0.3574256896972656, -1.4477297067642212, -3.898664712905884, -5.524930000305176, -7.084294319152832, -7.679453372955322, -5.0311784744262695, -1.3370355367660522, -5.109591484069824, -4.252785682678223, -3.6501681804656982, -7.877861022949219, 2.6723623275756836, -5.052732467651367, -5.7601776123046875, 2.064025402069092, -2.384486436843872, -3.3822808265686035, -3.2152411937713623, -2.8692033290863037, -1.7692216634750366, -7.842939853668213, -2.100346326828003, -1.3458524942398071, -4.443493843078613, -5.569607734680176, -0.34000933170318604, -3.5381929874420166, -1.4896479845046997, -2.126328229904175, -2.5095033645629883, -6.790289878845215, -3.0666637420654297, 2.7361464500427246, -3.168349266052246, -2.9442031383514404, -5.363258361816406, -4.71796178817749, -0.2723946273326874, -6.702373504638672, -2.6297144889831543, -3.0880815982818604, -5.069446563720703, -7.550493240356445, -1.0276415348052979, -2.815605878829956, -2.3650009632110596, -1.6974674463272095, -3.564927339553833, 2.577608585357666, -0.8228984475135803, -7.631800174713135, -3.016995906829834, 0.2537529766559601, -7.884373664855957, 2.525386333465576, -0.7700963020324707, -3.56392240524292, -7.174034118652344, -6.8699951171875, -7.199725151062012, -5.776337146759033, 0.22134815156459808, -1.116918921470642, 2.0719363689422607, -1.0467256307601929, -1.8167872428894043, 1.943940281867981, -7.340908050537109, 0.263747900724411, -1.1488975286483765, -3.134488105773926, -0.08498632907867432, -4.304900169372559, -0.9409748911857605, -3.4424078464508057, 0.10792652517557144, -7.158867835998535, -3.1007020473480225, -5.417145729064941, -8.816817283630371, -0.7371982336044312, -6.671355724334717, -1.3107610940933228, -1.7968897819519043, -1.4125908613204956, -7.798490047454834, -2.7985408306121826, -0.8066211938858032, -7.353594779968262, -1.4211299419403076, -0.17506171762943268, -7.753812313079834, -1.6596870422363281, 2.2590808868408203, -3.299929618835449, -4.9463958740234375, -5.59886360168457, -4.538699626922607, -4.941192626953125, -1.0503731966018677, -7.956009864807129, -8.683768272399902, -4.271726608276367, -5.1546502113342285, -1.8392306566238403, -7.113147735595703, -4.691287040710449, -0.9748691320419312, -1.783279538154602, -7.8633856773376465, 2.110196590423584, -2.8169562816619873, 2.1676621437072754, -3.3835647106170654, -1.5255882740020752, -7.006176948547363, -2.5699257850646973, -6.597747802734375, -0.7266117930412292, 0.3262123465538025, -0.3308388888835907, 0.21087512373924255, -2.037834644317627, -6.938196182250977, -4.968986511230469, -6.71620512008667, -7.170221328735352, -5.143381595611572, -2.145777702331543, -2.600600481033325, -1.357851505279541, -4.518692970275879, -1.8180376291275024, -3.8901913166046143, -1.5741041898727417, 2.6922433376312256, -6.2806172370910645, -6.872166633605957, -4.303635597229004, -5.462839603424072, 2.018033981323242, -2.5873730182647705, -6.2867302894592285, -2.4501638412475586, -4.167026519775391, -0.9799341559410095, -0.837448239326477, -0.9979652762413025, -1.6120331287384033, -0.8971120715141296, -2.0430543422698975, -4.750211715698242, -7.160246849060059, 1.4768692255020142, -3.8407490253448486, -1.1388548612594604, -7.825145721435547, 0.1218370571732521, 0.8678411245346069, -6.819408416748047, -7.470414638519287, -0.7219684720039368, -8.76942253112793, 2.1764514446258545, -1.7201793193817139, 2.6281485557556152, 0.1925761103630066, -8.372014045715332, -2.5262510776519775, -0.8489959836006165, -1.2266205549240112, 2.2342967987060547, -7.872306823730469, -2.8361358642578125, -7.289285659790039, -2.4477922916412354, -1.7901078462600708, -1.0319626331329346, -7.507326126098633, -0.5983683466911316, -2.3679723739624023, -7.987001419067383, -7.97709321975708, -3.4888195991516113, -0.7038639783859253, 2.7146124839782715, -0.45199698209762573, -1.0779054164886475, -0.4469129741191864, -3.0022544860839844, -6.693212032318115, -3.23828125, -1.5313432216644287, -3.8123769760131836, -6.692621231079102, -0.7109650373458862, -7.914820671081543, -0.8099398612976074, -3.2644472122192383, -0.7924383282661438, -2.6508231163024902, -2.1315250396728516, -3.0978610515594482, -3.078401565551758, -1.7885311841964722, -0.7009497880935669, -1.2670615911483765, -3.8889782428741455, -2.980854034423828, -5.691527366638184, -1.1600008010864258, -2.423957109451294, -1.1619534492492676, -7.047665119171143, -3.835181951522827, -7.830446243286133, -2.51065993309021, -7.936105728149414, 0.4736892580986023, -0.34000924229621887, -3.0759894847869873, -6.992051601409912, -5.18810510635376, -7.641519069671631, -3.288604497909546, -1.5595356225967407, -0.10445019602775574, -0.9385455846786499, -5.625406742095947, -1.8271300792694092, -7.7749714851379395, 2.234295129776001, -5.517562389373779, -1.922145962715149, -7.3238725662231445, 2.7092032432556152, 0.6376180052757263, -4.163959980010986, -7.997781753540039, -2.6162736415863037, -6.789361000061035, -1.7532851696014404, -7.328011989593506, -7.226301193237305, -1.2540621757507324, -0.7583048343658447, -3.1648478507995605, 2.683990955352783, -4.011305332183838, -1.1067675352096558, -7.620699882507324, -3.290743827819824, -2.31929874420166, 1.8013372421264648, -3.2545924186706543, -7.683803558349609, -2.424062967300415, -0.7181140780448914, -5.813284873962402, -2.1469130516052246, -5.921485900878906, -3.644477128982544, -3.7650961875915527, -0.9853450655937195, -4.558109760284424, -2.510658025741577, -4.784999847412109, -7.956811428070068, -1.4090384244918823, -1.5009305477142334, -4.228721618652344, -2.9854094982147217, -7.614924430847168, -1.448629379272461, -6.721994876861572, -0.008585219271481037, -2.9502127170562744, -2.080003261566162, -1.7961926460266113, -2.7515628337860107, -5.533108711242676, -3.8407320976257324, -0.7672589421272278, -2.447638988494873, 2.4199652671813965, -7.018538951873779, -4.479679584503174, -1.215139389038086, -3.182476282119751, 1.7769049406051636, -2.4240686893463135, -2.262937068939209, -7.575788497924805, -1.4975738525390625, -4.292196273803711, -1.2037861347198486, -6.527365684509277, -4.68570613861084, -1.333472490310669, -4.103889465332031, -4.2273430824279785, -2.2815768718719482, -1.9379533529281616], \"z\": [13.058242797851562, 10.442129135131836, 12.715296745300293, 9.84938907623291, 8.02708911895752, 7.933256149291992, 9.85010051727295, 14.80422306060791, 11.02244758605957, 9.785642623901367, 14.111471176147461, 12.713430404663086, 16.058748245239258, 15.765145301818848, 12.003495216369629, 9.200369834899902, 9.198588371276855, 13.909173011779785, 15.998010635375977, 5.467970371246338, 6.537282943725586, 15.955538749694824, 13.598301887512207, 8.637275695800781, 6.304977893829346, 9.137331008911133, 11.742910385131836, 13.45131778717041, 13.487156867980957, 13.891569137573242, 8.015728950500488, 12.475858688354492, 8.827878952026367, 11.740511894226074, 9.995800018310547, 13.557466506958008, 10.122661590576172, 7.794753074645996, 10.767359733581543, 8.484134674072266, 16.02323341369629, 14.039470672607422, 9.532666206359863, 13.685775756835938, 12.26466178894043, 7.961408615112305, 15.547281265258789, 11.677513122558594, 7.1518073081970215, 15.724112510681152, 11.167837142944336, 12.425789833068848, 10.27676010131836, 7.149433135986328, 12.952814102172852, 12.608844757080078, 9.771486282348633, 11.596365928649902, 11.987435340881348, 7.116285800933838, 10.543259620666504, 11.179571151733398, 11.533111572265625, 11.551274299621582, 8.396353721618652, 8.989274024963379, 12.321231842041016, 10.366540908813477, 5.801852226257324, 13.24897289276123, 9.968961715698242, 6.392980098724365, 8.601255416870117, 12.40965461730957, 13.304067611694336, 14.111482620239258, 11.725534439086914, 14.288887023925781, 6.963964939117432, 12.529834747314453, 9.430716514587402, 12.999348640441895, 15.968920707702637, 9.136574745178223, 12.363001823425293, 12.872354507446289, 10.3165283203125, 10.202876091003418, 10.336588859558105, 5.4448323249816895, 13.131597518920898, 10.369790077209473, 12.057965278625488, 9.141420364379883, 13.083720207214355, 12.471901893615723, 11.277630805969238, 8.763522148132324, 5.963685035705566, 15.123699188232422, 11.53111457824707, 14.242619514465332, 10.178914070129395, 9.484020233154297, 7.636206150054932, 9.858104705810547, 12.654438972473145, 13.895381927490234, 13.730609893798828, 9.585627555847168, 13.111014366149902, 9.185993194580078, 11.083983421325684, 9.496746063232422, 10.13839054107666, 5.601106643676758, 12.665200233459473, 6.7059736251831055, 13.27169132232666, 14.55960464477539, 8.728289604187012, 13.66431713104248, 13.642125129699707, 10.384191513061523, 12.223719596862793, 11.815582275390625, 9.67961597442627, 13.368552207946777, 8.951635360717773, 13.702057838439941, 9.497201919555664, 8.05002212524414, 9.442441940307617, 15.256787300109863, 15.59506607055664, 12.168913841247559, 16.290895462036133, 11.7378511428833, 10.425902366638184, 12.57077407836914, 9.050370216369629, 8.671951293945312, 13.219356536865234, 12.618264198303223, 14.174107551574707, 5.300748348236084, 6.946679592132568, 13.936227798461914, 6.879644393920898, 14.169164657592773, 12.79259967803955, 6.583220958709717, 6.8322529792785645, 14.667893409729004, 12.007490158081055, 7.533441543579102, 11.496188163757324, 10.711326599121094, 5.582907199859619, 12.250362396240234, 7.438442707061768, 12.280306816101074, 12.468734741210938, 10.864415168762207, 11.881094932556152, 8.804497718811035, 12.980164527893066, 12.492254257202148, 6.297274112701416, 14.81937026977539, 7.17842960357666, 12.402129173278809, 11.637337684631348, 10.12173843383789, 6.524756908416748, 12.555693626403809, 5.8651275634765625, 9.072447776794434, 15.831151962280273, 9.112335205078125, 12.714057922363281, 13.702570915222168, 7.151482105255127, 9.604890823364258, 7.279207706451416, 11.719868659973145, 13.06075382232666, 11.81605052947998, 10.766267776489258, 7.336376667022705, 8.895611763000488, 11.957405090332031, 9.367835998535156, 9.462776184082031, 7.98937463760376, 9.062594413757324, 14.87619400024414, 7.34814977645874, 15.386860847473145, 9.061071395874023, 12.5565824508667, 11.983858108520508, 10.951210021972656, 9.894527435302734, 11.970710754394531, 11.186690330505371, 7.322440147399902, 15.955690383911133, 13.037412643432617, 13.032240867614746, 12.793816566467285, 7.424246311187744, 10.532574653625488, 10.7600736618042, 15.023008346557617, 10.229901313781738, 15.655439376831055, 10.356684684753418, 12.169758796691895, 15.803791999816895, 12.154443740844727, 12.032936096191406, 12.272565841674805, 11.147317886352539, 8.015728950500488, 11.385106086730957, 9.768086433410645, 9.220088005065918, 12.818805694580078, 15.839874267578125, 12.13081169128418, 10.961584091186523, 6.363025665283203, 14.08421802520752, 9.588210105895996, 12.283817291259766, 5.865126609802246, 15.74362850189209, 15.042441368103027, 8.142993927001953, 7.533762454986572, 11.59541130065918, 10.761696815490723, 12.15662670135498, 10.323999404907227, 8.327364921569824, 14.834084510803223, 9.192930221557617, 13.13638973236084, 11.87020492553711, 10.346231460571289, 15.997361183166504, 7.410254001617432, 8.516061782836914, 7.665529727935791, 13.220303535461426, 15.776249885559082, 15.454054832458496, 6.165955066680908, 13.619067192077637, 8.326404571533203, 15.655710220336914, 6.769046783447266, 8.507779121398926, 10.069330215454102, 15.0755033493042, 16.107820510864258, 16.29145050048828, 11.667129516601562, 10.85491943359375, 14.12251091003418, 8.799800872802734, 12.599671363830566, 12.63660717010498, 8.611711502075195, 14.868819236755371, 13.225452423095703, 9.915580749511719, 12.21104621887207, 9.744908332824707, 12.504034042358398, 8.88555908203125, 13.91876220703125, 9.812947273254395, 13.145780563354492, 13.91757583618164, 12.25032901763916, 13.079643249511719, 15.578516960144043, 6.815987586975098, 8.876646041870117, 11.535572052001953, 11.953485488891602, 7.413642883300781, 5.349533557891846, 15.655709266662598, 11.601367950439453, 12.811909675598145, 8.49631118774414, 15.981378555297852, 12.365897178649902, 14.170817375183105, 14.625691413879395, 10.923589706420898, 14.248589515686035, 11.764102935791016, 15.44281005859375, 11.817020416259766]}, {\"customdata\": [[\"person know could mani american\", \"mani american diabet report\"], [\"person know could mani american\", \"diabet gastroparesi\"], [\"person know could mani american\", \"person drive unit state diabet\"], [\"person know could mani american\", \"ball tingl\"], [\"person know could mani american\", \"bodi trembl diabet\"], [\"person know could mani american\", \"person know diabet\"], [\"person know could mani american\", \"diabeet\"], [\"person know could mani american\", \"happen hospit diabet\"], [\"person know could mani american\", \"diabet instruct alway carri form carbohydr case emerg\"], [\"person know could mani american\", \"diabet caus due malfunct\"], [\"person know could mani american\", \"could pleas tell diabet\"], [\"person know could mani american\", \"could dog die diabet\"], [\"person know could mani american\", \"would know diabet\"], [\"person know could mani american\", \"blur vision time diabet\"]], \"hovertemplate\": \"summary=%{customdata[0]}<br>pc_1=%{x}<br>pc_2=%{y}<br>pc_3=%{z}<br>sentence=%{customdata[1]}<extra></extra>\", \"legendgroup\": \"person know could mani american\", \"marker\": {\"color\": \"#FFA15A\", \"size\": 5, \"symbol\": \"circle\"}, \"mode\": \"markers\", \"name\": \"person know could mani american\", \"scene\": \"scene\", \"showlegend\": true, \"type\": \"scatter3d\", \"x\": [5.284006595611572, 5.8802032470703125, 5.439525604248047, 6.189560413360596, 6.096355438232422, 6.117903232574463, 5.814933776855469, 5.738704681396484, 5.73422384262085, 6.381648063659668, 5.890818119049072, 5.815885543823242, 6.02305269241333, 6.472560405731201], \"y\": [-1.8574178218841553, -2.0864615440368652, -1.9508631229400635, -2.6362452507019043, -2.0798871517181396, -2.3241147994995117, -2.2153053283691406, -2.0862984657287598, -2.2110233306884766, -2.7505581378936768, -2.129995822906494, -2.187657594680786, -2.2075023651123047, -2.955336332321167], \"z\": [2.6264841556549072, 2.2774927616119385, 3.1511032581329346, 1.6149111986160278, 1.7903660535812378, 2.2767369747161865, 2.7934553623199463, 2.2795627117156982, 2.8461928367614746, 2.667462110519409, 3.651078462600708, 3.551637887954712, 2.281604051589966, 1.570605993270874]}],                        {\"height\": 500, \"legend\": {\"itemclick\": \"toggleothers\", \"title\": {\"text\": \"Cluster Summaries\"}, \"tracegroupgap\": 0}, \"margin\": {\"t\": 60}, \"scene\": {\"domain\": {\"x\": [0.0, 1.0], \"y\": [0.0, 1.0]}, \"xaxis\": {\"title\": {\"text\": \"pc_1\"}}, \"yaxis\": {\"title\": {\"text\": \"pc_2\"}}, \"zaxis\": {\"title\": {\"text\": \"pc_3\"}}}, \"template\": {\"data\": {\"bar\": [{\"error_x\": {\"color\": \"#2a3f5f\"}, \"error_y\": {\"color\": \"#2a3f5f\"}, \"marker\": {\"line\": {\"color\": \"#E5ECF6\", \"width\": 0.5}}, \"type\": \"bar\"}], \"barpolar\": [{\"marker\": {\"line\": {\"color\": \"#E5ECF6\", \"width\": 0.5}}, \"type\": \"barpolar\"}], \"carpet\": [{\"aaxis\": {\"endlinecolor\": \"#2a3f5f\", \"gridcolor\": \"white\", \"linecolor\": \"white\", \"minorgridcolor\": \"white\", \"startlinecolor\": \"#2a3f5f\"}, \"baxis\": {\"endlinecolor\": \"#2a3f5f\", \"gridcolor\": \"white\", \"linecolor\": \"white\", \"minorgridcolor\": \"white\", \"startlinecolor\": \"#2a3f5f\"}, \"type\": \"carpet\"}], \"choropleth\": [{\"colorbar\": {\"outlinewidth\": 0, \"ticks\": \"\"}, \"type\": \"choropleth\"}], \"contour\": [{\"colorbar\": {\"outlinewidth\": 0, \"ticks\": \"\"}, \"colorscale\": [[0.0, \"#0d0887\"], [0.1111111111111111, \"#46039f\"], [0.2222222222222222, \"#7201a8\"], [0.3333333333333333, \"#9c179e\"], [0.4444444444444444, \"#bd3786\"], [0.5555555555555556, \"#d8576b\"], [0.6666666666666666, \"#ed7953\"], [0.7777777777777778, \"#fb9f3a\"], [0.8888888888888888, \"#fdca26\"], [1.0, \"#f0f921\"]], \"type\": \"contour\"}], \"contourcarpet\": [{\"colorbar\": {\"outlinewidth\": 0, \"ticks\": \"\"}, \"type\": \"contourcarpet\"}], \"heatmap\": [{\"colorbar\": {\"outlinewidth\": 0, \"ticks\": \"\"}, \"colorscale\": [[0.0, \"#0d0887\"], [0.1111111111111111, \"#46039f\"], [0.2222222222222222, \"#7201a8\"], [0.3333333333333333, \"#9c179e\"], [0.4444444444444444, \"#bd3786\"], [0.5555555555555556, \"#d8576b\"], [0.6666666666666666, \"#ed7953\"], [0.7777777777777778, \"#fb9f3a\"], [0.8888888888888888, \"#fdca26\"], [1.0, \"#f0f921\"]], \"type\": \"heatmap\"}], \"heatmapgl\": [{\"colorbar\": {\"outlinewidth\": 0, \"ticks\": \"\"}, \"colorscale\": [[0.0, \"#0d0887\"], [0.1111111111111111, \"#46039f\"], [0.2222222222222222, \"#7201a8\"], [0.3333333333333333, \"#9c179e\"], [0.4444444444444444, \"#bd3786\"], [0.5555555555555556, \"#d8576b\"], [0.6666666666666666, \"#ed7953\"], [0.7777777777777778, \"#fb9f3a\"], [0.8888888888888888, \"#fdca26\"], [1.0, \"#f0f921\"]], \"type\": \"heatmapgl\"}], \"histogram\": [{\"marker\": {\"colorbar\": {\"outlinewidth\": 0, \"ticks\": \"\"}}, \"type\": \"histogram\"}], \"histogram2d\": [{\"colorbar\": {\"outlinewidth\": 0, \"ticks\": \"\"}, \"colorscale\": [[0.0, \"#0d0887\"], [0.1111111111111111, \"#46039f\"], [0.2222222222222222, \"#7201a8\"], [0.3333333333333333, \"#9c179e\"], [0.4444444444444444, \"#bd3786\"], [0.5555555555555556, \"#d8576b\"], [0.6666666666666666, \"#ed7953\"], [0.7777777777777778, \"#fb9f3a\"], [0.8888888888888888, \"#fdca26\"], [1.0, \"#f0f921\"]], \"type\": \"histogram2d\"}], \"histogram2dcontour\": [{\"colorbar\": {\"outlinewidth\": 0, \"ticks\": \"\"}, \"colorscale\": [[0.0, \"#0d0887\"], [0.1111111111111111, \"#46039f\"], [0.2222222222222222, \"#7201a8\"], [0.3333333333333333, \"#9c179e\"], [0.4444444444444444, \"#bd3786\"], [0.5555555555555556, \"#d8576b\"], [0.6666666666666666, \"#ed7953\"], [0.7777777777777778, \"#fb9f3a\"], [0.8888888888888888, \"#fdca26\"], [1.0, \"#f0f921\"]], \"type\": \"histogram2dcontour\"}], \"mesh3d\": [{\"colorbar\": {\"outlinewidth\": 0, \"ticks\": \"\"}, \"type\": \"mesh3d\"}], \"parcoords\": [{\"line\": {\"colorbar\": {\"outlinewidth\": 0, \"ticks\": \"\"}}, \"type\": \"parcoords\"}], \"pie\": [{\"automargin\": true, \"type\": \"pie\"}], \"scatter\": [{\"marker\": {\"colorbar\": {\"outlinewidth\": 0, \"ticks\": \"\"}}, \"type\": \"scatter\"}], \"scatter3d\": [{\"line\": {\"colorbar\": {\"outlinewidth\": 0, \"ticks\": \"\"}}, \"marker\": {\"colorbar\": {\"outlinewidth\": 0, \"ticks\": \"\"}}, \"type\": \"scatter3d\"}], \"scattercarpet\": [{\"marker\": {\"colorbar\": {\"outlinewidth\": 0, \"ticks\": \"\"}}, \"type\": \"scattercarpet\"}], \"scattergeo\": [{\"marker\": {\"colorbar\": {\"outlinewidth\": 0, \"ticks\": \"\"}}, \"type\": \"scattergeo\"}], \"scattergl\": [{\"marker\": {\"colorbar\": {\"outlinewidth\": 0, \"ticks\": \"\"}}, \"type\": \"scattergl\"}], \"scattermapbox\": [{\"marker\": {\"colorbar\": {\"outlinewidth\": 0, \"ticks\": \"\"}}, \"type\": \"scattermapbox\"}], \"scatterpolar\": [{\"marker\": {\"colorbar\": {\"outlinewidth\": 0, \"ticks\": \"\"}}, \"type\": \"scatterpolar\"}], \"scatterpolargl\": [{\"marker\": {\"colorbar\": {\"outlinewidth\": 0, \"ticks\": \"\"}}, \"type\": \"scatterpolargl\"}], \"scatterternary\": [{\"marker\": {\"colorbar\": {\"outlinewidth\": 0, \"ticks\": \"\"}}, \"type\": \"scatterternary\"}], \"surface\": [{\"colorbar\": {\"outlinewidth\": 0, \"ticks\": \"\"}, \"colorscale\": [[0.0, \"#0d0887\"], [0.1111111111111111, \"#46039f\"], [0.2222222222222222, \"#7201a8\"], [0.3333333333333333, \"#9c179e\"], [0.4444444444444444, \"#bd3786\"], [0.5555555555555556, \"#d8576b\"], [0.6666666666666666, \"#ed7953\"], [0.7777777777777778, \"#fb9f3a\"], [0.8888888888888888, \"#fdca26\"], [1.0, \"#f0f921\"]], \"type\": \"surface\"}], \"table\": [{\"cells\": {\"fill\": {\"color\": \"#EBF0F8\"}, \"line\": {\"color\": \"white\"}}, \"header\": {\"fill\": {\"color\": \"#C8D4E3\"}, \"line\": {\"color\": \"white\"}}, \"type\": \"table\"}]}, \"layout\": {\"annotationdefaults\": {\"arrowcolor\": \"#2a3f5f\", \"arrowhead\": 0, \"arrowwidth\": 1}, \"autotypenumbers\": \"strict\", \"coloraxis\": {\"colorbar\": {\"outlinewidth\": 0, \"ticks\": \"\"}}, \"colorscale\": {\"diverging\": [[0, \"#8e0152\"], [0.1, \"#c51b7d\"], [0.2, \"#de77ae\"], [0.3, \"#f1b6da\"], [0.4, \"#fde0ef\"], [0.5, \"#f7f7f7\"], [0.6, \"#e6f5d0\"], [0.7, \"#b8e186\"], [0.8, \"#7fbc41\"], [0.9, \"#4d9221\"], [1, \"#276419\"]], \"sequential\": [[0.0, \"#0d0887\"], [0.1111111111111111, \"#46039f\"], [0.2222222222222222, \"#7201a8\"], [0.3333333333333333, \"#9c179e\"], [0.4444444444444444, \"#bd3786\"], [0.5555555555555556, \"#d8576b\"], [0.6666666666666666, \"#ed7953\"], [0.7777777777777778, \"#fb9f3a\"], [0.8888888888888888, \"#fdca26\"], [1.0, \"#f0f921\"]], \"sequentialminus\": [[0.0, \"#0d0887\"], [0.1111111111111111, \"#46039f\"], [0.2222222222222222, \"#7201a8\"], [0.3333333333333333, \"#9c179e\"], [0.4444444444444444, \"#bd3786\"], [0.5555555555555556, \"#d8576b\"], [0.6666666666666666, \"#ed7953\"], [0.7777777777777778, \"#fb9f3a\"], [0.8888888888888888, \"#fdca26\"], [1.0, \"#f0f921\"]]}, \"colorway\": [\"#636efa\", \"#EF553B\", \"#00cc96\", \"#ab63fa\", \"#FFA15A\", \"#19d3f3\", \"#FF6692\", \"#B6E880\", \"#FF97FF\", \"#FECB52\"], \"font\": {\"color\": \"#2a3f5f\"}, \"geo\": {\"bgcolor\": \"white\", \"lakecolor\": \"white\", \"landcolor\": \"#E5ECF6\", \"showlakes\": true, \"showland\": true, \"subunitcolor\": \"white\"}, \"hoverlabel\": {\"align\": \"left\"}, \"hovermode\": \"closest\", \"mapbox\": {\"style\": \"light\"}, \"paper_bgcolor\": \"white\", \"plot_bgcolor\": \"#E5ECF6\", \"polar\": {\"angularaxis\": {\"gridcolor\": \"white\", \"linecolor\": \"white\", \"ticks\": \"\"}, \"bgcolor\": \"#E5ECF6\", \"radialaxis\": {\"gridcolor\": \"white\", \"linecolor\": \"white\", \"ticks\": \"\"}}, \"scene\": {\"xaxis\": {\"backgroundcolor\": \"#E5ECF6\", \"gridcolor\": \"white\", \"gridwidth\": 2, \"linecolor\": \"white\", \"showbackground\": true, \"ticks\": \"\", \"zerolinecolor\": \"white\"}, \"yaxis\": {\"backgroundcolor\": \"#E5ECF6\", \"gridcolor\": \"white\", \"gridwidth\": 2, \"linecolor\": \"white\", \"showbackground\": true, \"ticks\": \"\", \"zerolinecolor\": \"white\"}, \"zaxis\": {\"backgroundcolor\": \"#E5ECF6\", \"gridcolor\": \"white\", \"gridwidth\": 2, \"linecolor\": \"white\", \"showbackground\": true, \"ticks\": \"\", \"zerolinecolor\": \"white\"}}, \"shapedefaults\": {\"line\": {\"color\": \"#2a3f5f\"}}, \"ternary\": {\"aaxis\": {\"gridcolor\": \"white\", \"linecolor\": \"white\", \"ticks\": \"\"}, \"baxis\": {\"gridcolor\": \"white\", \"linecolor\": \"white\", \"ticks\": \"\"}, \"bgcolor\": \"#E5ECF6\", \"caxis\": {\"gridcolor\": \"white\", \"linecolor\": \"white\", \"ticks\": \"\"}}, \"title\": {\"x\": 0.05}, \"xaxis\": {\"automargin\": true, \"gridcolor\": \"white\", \"linecolor\": \"white\", \"ticks\": \"\", \"title\": {\"standoff\": 15}, \"zerolinecolor\": \"white\", \"zerolinewidth\": 2}, \"yaxis\": {\"automargin\": true, \"gridcolor\": \"white\", \"linecolor\": \"white\", \"ticks\": \"\", \"title\": {\"standoff\": 15}, \"zerolinecolor\": \"white\", \"zerolinewidth\": 2}}}, \"title\": {\"text\": \"Projected Question Vector Manifold\"}},                        {\"responsive\": true}                    ).then(function(){\n",
       "                            \n",
       "var gd = document.getElementById('03fb0308-75c7-4a34-a9ad-be87b1a2884d');\n",
       "var x = new MutationObserver(function (mutations, observer) {{\n",
       "        var display = window.getComputedStyle(gd).display;\n",
       "        if (!display || display === 'none') {{\n",
       "            console.log([gd, 'removed!']);\n",
       "            Plotly.purge(gd);\n",
       "            observer.disconnect();\n",
       "        }}\n",
       "}});\n",
       "\n",
       "// Listen for the removal of the full notebook cells\n",
       "var notebookContainer = gd.closest('#notebook-container');\n",
       "if (notebookContainer) {{\n",
       "    x.observe(notebookContainer, {childList: true});\n",
       "}}\n",
       "\n",
       "// Listen for the clearing of the current output cell\n",
       "var outputEl = gd.closest('.output');\n",
       "if (outputEl) {{\n",
       "    x.observe(outputEl, {childList: true});\n",
       "}}\n",
       "\n",
       "                        })                };                });            </script>        </div>"
      ]
     },
     "metadata": {},
     "output_type": "display_data"
    }
   ],
   "source": [
    "fig = px.scatter_3d(\n",
    "    df, x='pc_1', y='pc_2', z='pc_3', color='summary', \n",
    "    hover_data=['summary', 'sentence'])\n",
    "fig.update_traces(marker_size=5)\n",
    "fig.update_layout(\n",
    "    title='Projected Question Vector Manifold',\n",
    "    legend={'title': 'Cluster Summaries', 'itemclick': 'toggleothers'},\n",
    "    height=500,\n",
    ")\n",
    "fig.show()"
   ]
  },
  {
   "cell_type": "code",
   "execution_count": null,
   "metadata": {},
   "outputs": [],
   "source": []
  }
 ],
 "metadata": {
  "kernelspec": {
   "display_name": "Python 3",
   "language": "python",
   "name": "python3"
  },
  "language_info": {
   "codemirror_mode": {
    "name": "ipython",
    "version": 3
   },
   "file_extension": ".py",
   "mimetype": "text/x-python",
   "name": "python",
   "nbconvert_exporter": "python",
   "pygments_lexer": "ipython3",
   "version": "3.8.5"
  }
 },
 "nbformat": 4,
 "nbformat_minor": 4
}
