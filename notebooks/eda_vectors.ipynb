{
 "cells": [
  {
   "cell_type": "markdown",
   "metadata": {},
   "source": [
    "# Max Over Time CNN"
   ]
  },
  {
   "cell_type": "markdown",
   "metadata": {},
   "source": [
    "### Setup"
   ]
  },
  {
   "cell_type": "code",
   "execution_count": 1,
   "metadata": {},
   "outputs": [
    {
     "name": "stderr",
     "output_type": "stream",
     "text": [
      "/home/dylan/workspace/sentence-2-vec/virtualenv/lib/python3.8/site-packages/gensim/similarities/__init__.py:15: UserWarning: The gensim.similarities.levenshtein submodule is disabled, because the optional Levenshtein package <https://pypi.org/project/python-Levenshtein/> is unavailable. Install Levenhstein (e.g. `pip install python-Levenshtein`) to suppress this warning.\n",
      "  warnings.warn(msg)\n",
      "/home/dylan/workspace/sentence-2-vec/virtualenv/lib/python3.8/site-packages/torch/cuda/__init__.py:52: UserWarning: CUDA initialization: Found no NVIDIA driver on your system. Please check that you have an NVIDIA GPU and installed a driver from http://www.nvidia.com/Download/index.aspx (Triggered internally at  /pytorch/c10/cuda/CUDAFunctions.cpp:100.)\n",
      "  return torch._C._cuda_getDeviceCount() > 0\n"
     ]
    },
    {
     "name": "stdout",
     "output_type": "stream",
     "text": [
      "[INFO]: using cpu device\n"
     ]
    }
   ],
   "source": [
    "import sys\n",
    "sys.path.append('..')\n",
    "\n",
    "import yaml\n",
    "import torch\n",
    "import numpy as np\n",
    "from sklearn.cluster import OPTICS\n",
    "from sklearn.manifold import TSNE\n",
    "from sklearn.neighbors import NearestNeighbors\n",
    "from matplotlib import pyplot as plt\n",
    "import pandas as pd\n",
    "import plotly.express as px\n",
    "import nltk\n",
    "from nltk.corpus import stopwords\n",
    "\n",
    "from dataset.qa_triplet_dataset import QATripletDataset\n",
    "from model.max_over_time_cnn import MaxOverTimeCNN\n",
    "\n",
    "with open('../config/notebook_cfg.yml', 'r') as fp:\n",
    "    config = yaml.load(fp, Loader=yaml.FullLoader)\n",
    "    \n",
    "dataset = QATripletDataset(\n",
    "        config['database_file'], config['database_table'], \n",
    "        config['vocab_file'])\n",
    "\n",
    "dataloader = dataset.build_dataloader(\n",
    "    batch_size=config['batch_size'], shuffle=True)\n",
    "\n",
    "encoder = MaxOverTimeCNN(\n",
    "    len(dataset.get_vocab()), config['wordvec_dim'], config['sentvec_dim'], \n",
    "    acceleration=True)\n",
    "\n",
    "encoder.load_state_dict(torch.load(\n",
    "    '../artifacts/models/max_over_time_cnn.pt', \n",
    "    map_location=torch.device('cpu')))\n",
    "\n",
    "encoder.eval()\n",
    "\n",
    "# grab a batch and encode anchor questions to vectors\n",
    "batch = next(iter(dataloader))\n",
    "question_str = batch['anc_str']\n",
    "question_enc = encoder(batch['anc_idxs'])\n",
    "\n",
    "# detach from pytorch and convert to numpy\n",
    "question_enc = question_enc.detach().numpy()"
   ]
  },
  {
   "cell_type": "markdown",
   "metadata": {},
   "source": [
    "### Nearest Neighbor Analysis"
   ]
  },
  {
   "cell_type": "code",
   "execution_count": 2,
   "metadata": {},
   "outputs": [],
   "source": [
    "# compute nearest neighbors\n",
    "neigh = NearestNeighbors(n_neighbors=5, metric='cosine')\n",
    "nbrs = neigh.fit(question_enc)\n",
    "nn_dist, nn_idx = nbrs.kneighbors(question_enc)"
   ]
  },
  {
   "cell_type": "markdown",
   "metadata": {},
   "source": [
    "### Print Some Nearest Neighbor Groups"
   ]
  },
  {
   "cell_type": "code",
   "execution_count": 3,
   "metadata": {},
   "outputs": [
    {
     "name": "stdout",
     "output_type": "stream",
     "text": [
      "Sample:\n",
      "\tpeopl diabet eat sever small meal\n",
      "Neighbors:\n",
      "\tsous safe diabet eat\n",
      "\thoney make diabet\n",
      "\texactli diabet diet\n",
      "\tfood diabet eat diarrhea\n",
      "\n",
      "Sample:\n",
      "\tdiabet glucos level two hr eat\n",
      "Neighbors:\n",
      "\tdiabet emerg caus high blood sugar\n",
      "\teffect copenhagen blood sugar\n",
      "\tdiabet affect intellectu\n",
      "\tgod diabet\n",
      "\n",
      "Sample:\n",
      "\tfound cure diabet\n",
      "Neighbors:\n",
      "\tdiabet drink boost\n",
      "\tchickpea flour good diabet\n",
      "\tway make chocol cooki diabet\n",
      "\treliv diabet\n",
      "\n",
      "Sample:\n",
      "\timport thing keep track diet person diabet\n",
      "Neighbors:\n",
      "\tmani gram sugar white potato\n",
      "\tregist nurs need educ diabet\n",
      "\tmuch sugar kill\n",
      "\tcinnamon good peopl diabet\n",
      "\n",
      "Sample:\n",
      "\tdiabet complic\n",
      "Neighbors:\n",
      "\tdiabet itch genit\n",
      "\tlong person live stage four kidney failur\n",
      "\tdiabet contraind massag\n",
      "\tmean definit diabet\n",
      "\n",
      "Sample:\n",
      "\tfind diabet recip\n",
      "Neighbors:\n",
      "\tdiabet recip free\n",
      "\tsugar subsitut use diabet dessert recip\n",
      "\tfind recip diabet dinner\n",
      "\tkind gestat recip diabet suffer\n",
      "\n",
      "Sample:\n",
      "\tswine flu particularli danger someon diabet\n",
      "Neighbors:\n",
      "\ttwin diabet\n",
      "\treleas date day life diabet two thousand ten\n",
      "\tdiabet effect circulatori system\n",
      "\tknown reason caus diabet\n",
      "\n",
      "Sample:\n",
      "\ttwo major problem underli type two diabet\n",
      "Neighbors:\n",
      "\tmitchel musso diabet\n",
      "\tmode transmiss diabet mellitu\n",
      "\tarm ach elbow\n",
      "\ttype one diabet live normal life\n",
      "\n",
      "Sample:\n",
      "\tdiabet peopl get help\n",
      "Neighbors:\n",
      "\tcentrum safe diabet mellitu type two patient\n",
      "\tdiabet abl pass along children\n",
      "\ttype two diabet much sugar\n",
      "\tpredispos factor gestat diabet mellitu\n",
      "\n",
      "Sample:\n",
      "\tcaus diabet insipidu\n",
      "Neighbors:\n",
      "\tsymptom type two diabet\n",
      "\tdiabet caus sweat\n",
      "\tsign symptom diabet\n",
      "\tdiabet gangren\n",
      "\n"
     ]
    }
   ],
   "source": [
    "for idx in np.random.choice(len(nn_idx), size=10, replace=False):\n",
    "    sample = question_str[nn_idx[idx, 0]]\n",
    "    neighbors = [question_str[i] for i in nn_idx[idx, 1:]]\n",
    "    \n",
    "    print(f'Sample:\\n\\t{sample}')\n",
    "    print(f'Neighbors:')\n",
    "    for neighbor in neighbors:\n",
    "        print(f'\\t{neighbor}')\n",
    "    print('')"
   ]
  },
  {
   "cell_type": "markdown",
   "metadata": {},
   "source": [
    "### Plot Nearest Neighbor Ordered Distances"
   ]
  },
  {
   "cell_type": "code",
   "execution_count": 4,
   "metadata": {},
   "outputs": [
    {
     "data": {
      "text/plain": [
       "[<matplotlib.lines.Line2D at 0x7f4a12b18b80>]"
      ]
     },
     "execution_count": 4,
     "metadata": {},
     "output_type": "execute_result"
    },
    {
     "data": {
      "image/png": "[encoded data removed]",
      "text/plain": [
       "<Figure size 432x288 with 1 Axes>"
      ]
     },
     "metadata": {
      "needs_background": "light"
     },
     "output_type": "display_data"
    }
   ],
   "source": [
    "plt.plot(np.sort(nn_dist[:,1], axis=0))"
   ]
  },
  {
   "cell_type": "markdown",
   "metadata": {},
   "source": [
    "### Cluster Sentence Vectors"
   ]
  },
  {
   "cell_type": "code",
   "execution_count": 10,
   "metadata": {},
   "outputs": [
    {
     "name": "stdout",
     "output_type": "stream",
     "text": [
      "[Num. Clusters]: 5, [Perc. Non-Outliers]: 74.5\n"
     ]
    }
   ],
   "source": [
    "from sklearn.cluster import DBSCAN, OPTICS\n",
    "\n",
    "clustering = DBSCAN(eps=0.006, min_samples=10, n_jobs=-1, metric='cosine')\n",
    "labels = clustering.fit_predict(question_enc)\n",
    "\n",
    "# optics = OPTICS(min_samples=10, metric='cosine')\n",
    "# optics.fit(question_enc)\n",
    "# labels = optics.labels_\n",
    "\n",
    "num_clusters = len(np.unique(labels))\n",
    "perc_labeled = 100 * (len(labels[labels != -1]) / len(labels))\n",
    "print(f'[Num. Clusters]: {num_clusters}, [Perc. Non-Outliers]: {perc_labeled:.1f}')"
   ]
  },
  {
   "cell_type": "markdown",
   "metadata": {},
   "source": [
    "### Project Sentence Vectors"
   ]
  },
  {
   "cell_type": "code",
   "execution_count": 11,
   "metadata": {},
   "outputs": [
    {
     "data": {
      "application/vnd.plotly.v1+json": {
       "config": {
        "plotlyServerURL": "https://plot.ly"
       },
       "data": [
        {
         "customdata": [
          [
           "diabet curabl"
          ],
          [
           "complic diabet"
          ],
          [
           "diabet take muscovado sugar"
          ],
          [
           "big toe often numb sign diabet"
          ],
          [
           "diabet mellitu result polyurea"
          ],
          [
           "one follow choic best way control type ii diabet"
          ],
          [
           "deni life insur diabet"
          ],
          [
           "diabet work post offic"
          ],
          [
           "take metformin blood sugar level two hundr five"
          ],
          [
           "caus frequent urin men"
          ],
          [
           "characterist gestat diabet differ type one type two diabet"
          ],
          [
           "research done sargassum seawe"
          ],
          [
           "diabet resourc internet"
          ],
          [
           "effect diet diabet"
          ],
          [
           "kind sugar substitut use diabet pound cake recip"
          ],
          [
           "peopl care nick jona diabet still teas peopl also type one diabet"
          ],
          [
           "diabet start"
          ],
          [
           "food serv someon diabet diet"
          ],
          [
           "kind food eat keep blood sugar stabl"
          ],
          [
           "diabet make brain shrink"
          ],
          [
           "orang good diabet peopl"
          ],
          [
           "organ affect diabet"
          ],
          [
           "symptom caus diabet"
          ],
          [
           "safe diabet bypass surgeri"
          ],
          [
           "differ insulin depend diabet non insulin independ diabet"
          ],
          [
           "diabet test strip realli work"
          ],
          [
           "long insulin good"
          ],
          [
           "type diabet would rather"
          ],
          [
           "medicina biorezonanta cancer diabet tulburari psihic hepatita c dr alexandru olga"
          ],
          [
           "treat hypoglycemia"
          ],
          [
           "lot sugar watermelon"
          ],
          [
           "symptom hypo got type one diabet"
          ],
          [
           "type one diabet affect sperm qualiti"
          ],
          [
           "fruit good diabet diet"
          ],
          [
           "suplement fruit veget stop diabet two"
          ],
          [
           "caus pain right arm elbow shoulder numb right finger"
          ],
          [
           "best diet type two diabet"
          ],
          [
           "name disord diabet"
          ],
          [
           "eat lean meat lower risk heart diseas diabet"
          ],
          [
           "releas date boxinbuddi knockout juvenil diabet two thousand six"
          ],
          [
           "happen continu high blood sugar level"
          ],
          [
           "diabet transplant good"
          ],
          [
           "follow diabet diet guidelin ensur diabet go away"
          ],
          [
           "danger consum cheap diabet suppli"
          ],
          [
           "gerson therapi work type two diabet"
          ],
          [
           "often diabet eat"
          ],
          [
           "one find blood sugar level chart onlin"
          ],
          [
           "patholog caus diabet"
          ],
          [
           "symptom associ diabet"
          ],
          [
           "schnauzer diabet"
          ],
          [
           "hormon involv diabet"
          ],
          [
           "find inform pre diabet diet"
          ],
          [
           "divis classif mean"
          ],
          [
           "might one go obtain diabet bracelet"
          ],
          [
           "diabet affect heal genit herp"
          ],
          [
           "glucos toler test exampl specimen"
          ],
          [
           "daili carb allow type two diabet"
          ],
          [
           "kid diabet"
          ],
          [
           "normal valu dc"
          ],
          [
           "happen blood glucos level get low"
          ],
          [
           "omnipod"
          ],
          [
           "diabet effect unbalanc diet"
          ],
          [
           "ideal diet diabet"
          ],
          [
           "long diabet last"
          ],
          [
           "patient fast oral glucos toler test"
          ],
          [
           "diabet eat grapefruit"
          ],
          [
           "nick jona type one diabet"
          ],
          [
           "know type one type two diabet"
          ],
          [
           "potato good diabet patient"
          ],
          [
           "mani peopl diabet insipidu"
          ],
          [
           "afford diabet suppli avail medicar patient"
          ],
          [
           "food diabet need avoid"
          ],
          [
           "test diabet"
          ],
          [
           "sign hypoglycemia"
          ],
          [
           "high blood sugar diabet"
          ],
          [
           "teenag get type two diabet"
          ],
          [
           "normal blood sugar rang"
          ],
          [
           "diabet affect result breathalyz"
          ],
          [
           "two hormon human bodi control blood sugar level"
          ],
          [
           "lexapro rais blood sugar level"
          ],
          [
           "relat diabet blood sugar"
          ],
          [
           "glucos polym rais blood glucos"
          ],
          [
           "kind treatment peopl diabet"
          ],
          [
           "get inform blood sugar chart"
          ],
          [
           "blood glucos level one thousand two hundr danger"
          ],
          [
           "b tell sugar enter blood"
          ],
          [
           "hormon produc properli diabet"
          ],
          [
           "novemb sixteen nick jona learn diabet"
          ],
          [
           "system caus diabet mellitu"
          ],
          [
           "mode transmiss diabet mellitu"
          ],
          [
           "need diabet"
          ],
          [
           "onion bad diabet"
          ],
          [
           "diabet eat glucos syrup"
          ],
          [
           "risk factor develop diabet"
          ],
          [
           "low carb diet caus diabet"
          ],
          [
           "diabet eat cucumb"
          ],
          [
           "import compon diabet diet plan"
          ],
          [
           "wine rais blood sugar level"
          ],
          [
           "kind diet softwar profession suffer problem like gassi constip"
          ],
          [
           "group chemic hormon insulin belong"
          ],
          [
           "diet peopl diabet"
          ],
          [
           "hormon produc inadequ would caus sexual immatur"
          ],
          [
           "low blood sugar lead diabet"
          ],
          [
           "diabet reaction"
          ],
          [
           "arm ach"
          ],
          [
           "organ system diabet belong"
          ],
          [
           "makabuhay plant realli caus diabet"
          ],
          [
           "find diabet food guid"
          ],
          [
           "difen diabet"
          ],
          [
           "insulin blood sugar level"
          ],
          [
           "cure hypertens diabet"
          ],
          [
           "lower blood sugar"
          ],
          [
           "sugar type two diabet"
          ],
          [
           "mani peopl die diabet year"
          ],
          [
           "good recip diabet"
          ],
          [
           "medicaid cover portabl insulin pump"
          ],
          [
           "percentag world popul diabet"
          ],
          [
           "famotidin twenti mg rais blood sugar level"
          ],
          [
           "world diabet commonli found"
          ],
          [
           "measur blood glucos level"
          ],
          [
           "happen bodi insulin inject"
          ],
          [
           "test use diagnosi diabet mellitu"
          ],
          [
           "non diabet take insulin plant leav"
          ],
          [
           "gender diabet affect"
          ],
          [
           "simpl recip found diabet menu"
          ],
          [
           "patient describ diabet kussmaul respir physiolog activ take place caus patient"
          ],
          [
           "part affect follow diseas diabet jaundic"
          ],
          [
           "esr rate thirti six mean"
          ],
          [
           "untreat diabet mellitu caus ketosi"
          ],
          [
           "diabet insipidu diabet mellitu"
          ],
          [
           "diabet defici diseas"
          ],
          [
           "color tube top diabet"
          ],
          [
           "diabet effect bodi"
          ],
          [
           "shoulder pain numb finger thumb"
          ],
          [
           "sugar milk harm diabet"
          ],
          [
           "anyon actual revers type two diabet"
          ],
          [
           "fast sleep pill work"
          ],
          [
           "special syring deliv insulin medic"
          ],
          [
           "walk effect diabet patient"
          ],
          [
           "natur pain relief gout"
          ],
          [
           "diabet eat peach"
          ],
          [
           "treatment option children diabet"
          ],
          [
           "blood sugar level diabet"
          ],
          [
           "vitamin diabet"
          ],
          [
           "fri shrimp rise blood sugar"
          ],
          [
           "diabet effect circulatori system"
          ],
          [
           "relationship kcal blood sugar"
          ],
          [
           "substanc need diabet produc genet engin"
          ],
          [
           "reason get thirsti usual"
          ],
          [
           "caus diabet type two"
          ],
          [
           "get diabet product"
          ],
          [
           "mean eye go cross eye get dizzi"
          ],
          [
           "good diet exercis plan avoid get diabet"
          ],
          [
           "regular insulin actrapid insulin"
          ],
          [
           "use diagnosi sentenc"
          ],
          [
           "happen diabet take viagra need"
          ],
          [
           "happen peopl diabet take insulin"
          ],
          [
           "effect royal jelli diabet"
          ],
          [
           "diabet patient need insulin"
          ],
          [
           "eat get diabet"
          ],
          [
           "dad diabet get rid forev"
          ],
          [
           ""
          ],
          [
           "get type two diabet plan"
          ],
          [
           "iddm mean"
          ],
          [
           "type diabet run famili"
          ],
          [
           "medicin diabet person"
          ],
          [
           "size insulin adapt"
          ],
          [
           "differ insulin depend diabet non insulin depend diabet"
          ],
          [
           "insulin first use treatment diabet"
          ],
          [
           "prevent diabet"
          ],
          [
           "dog diabet ate fudg give insulin shot"
          ],
          [
           "blood sugar two hundr high"
          ],
          [
           "type one diabet inherit condit"
          ],
          [
           "intern organ human bodi help regul blood sugar level"
          ],
          [
           "sugar solut use diabet"
          ],
          [
           "water melon increas blood sugar"
          ],
          [
           "kid get diabet"
          ],
          [
           "realli type four diabet"
          ],
          [
           "diabet medicin caus cancer"
          ],
          [
           "could get diabet grape"
          ],
          [
           "diabet affect peopl"
          ],
          [
           "exampl food type two diabet"
          ],
          [
           "happen diabet patient take carbohydr"
          ],
          [
           "hemogluco test"
          ],
          [
           "side affect diabet pregnanc"
          ],
          [
           "sensat burn feet diabet"
          ],
          [
           "nurs diagnosi diabet ketoacidosi"
          ],
          [
           "allow eat drink one sugar diabet"
          ],
          [
           "bodi process properli diabet"
          ],
          [
           "best type diet someon diabet"
          ],
          [
           "extrem critic indic diabet mellitu"
          ],
          [
           "diabet peopl eat margarin"
          ],
          [
           "exercis help gestat diabet"
          ],
          [
           "medic problem might help insulin"
          ],
          [
           "symptom type two diabet"
          ],
          [
           "caus weight gain fatigu heat sensit muscl ach"
          ],
          [
           "type one diabet easier harder treat type two diabet"
          ],
          [
           "averag blood glucos level"
          ],
          [
           "scientist make educ guess diabet caus genet factor guess exampl"
          ],
          [
           "diabet make much insulin true fals"
          ],
          [
           "herbal remedi insulin resist"
          ],
          [
           "diatiz"
          ],
          [
           "suboxon increasw blood sugar level"
          ],
          [
           "diabet caus hypertens"
          ],
          [
           "capsicum good diabet patient"
          ],
          [
           "make sim sim three diabet"
          ],
          [
           "massag diabet"
          ],
          [
           "stress caus high blood pressur"
          ],
          [
           "home medic care treat diabet"
          ],
          [
           "chanc gettin diabet dad diabet"
          ],
          [
           "check blood sugar level"
          ],
          [
           "eat banana diabet patient"
          ],
          [
           "mechan action eclipta alba hepatoprotect"
          ],
          [
           "find diet plan person type two diabet"
          ],
          [
           "mani pound nick jona loos got diabet"
          ],
          [
           "word diabet capit"
          ],
          [
           "reduc advers effect diabet"
          ],
          [
           "control diabet"
          ],
          [
           "gastric bypass surgeri recommend treatment diabet"
          ],
          [
           "diabet patient eat banana"
          ],
          [
           "precaut need diabet patient nalidix acid"
          ],
          [
           "bad eat noodl diabet"
          ],
          [
           "role diet exercis control hypertens diabet"
          ],
          [
           "blood sugar spike morn"
          ],
          [
           "spanish word diabet"
          ],
          [
           "normal blood sugar level"
          ],
          [
           "caus pin point pupil"
          ],
          [
           "get diabet father mother famili histori get diabet"
          ],
          [
           "alcohol reduc diabet"
          ],
          [
           "blood sugar level consid hypoglycemia"
          ],
          [
           "vision complic get diabet"
          ],
          [
           "caus constant itch right side constantli rub"
          ],
          [
           "find inform diet diabet type two"
          ],
          [
           "diabet caus due malfunct"
          ],
          [
           "effect insulin bodi"
          ],
          [
           "diabet die inject much insulin"
          ],
          [
           "fast blood sugar one hundr sixteen"
          ],
          [
           "drink alcohol type one diabet"
          ],
          [
           "need salt blood sugar high"
          ],
          [
           "rda diabet"
          ],
          [
           "thing diabet cooki recip"
          ],
          [
           "suspens taken oral"
          ],
          [
           "accident gave dog much insulin"
          ],
          [
           "dessert diabet enjoy"
          ],
          [
           "normal blood sugar rang fast"
          ],
          [
           "make urin cloudi"
          ],
          [
           "illeg ye consequ mom sell minor child excess diabet test suppli feed child"
          ],
          [
           "produc transgen bacteria make insulin step research take first"
          ],
          [
           "code diabet peripher neuropathi"
          ],
          [
           "keep sugar level diabet regul"
          ],
          [
           "diabet person eat cane sugar"
          ],
          [
           "hypoglycem becom diabet"
          ],
          [
           "kind fruit diabet eat"
          ],
          [
           "measur taken prevent diabet adult"
          ],
          [
           "type peopl suscept meralgia paresthetica"
          ],
          [
           "happen diabet eat anyth take insulin"
          ],
          [
           "averag age type one diabet"
          ],
          [
           "diabet serv size strawberri"
          ],
          [
           "starch use bodi"
          ],
          [
           "treatment diabet"
          ],
          [
           "insulin use diabet obtain"
          ],
          [
           "type two diabet known diabet"
          ],
          [
           "antibiot increas blood sugar"
          ],
          [
           "anyon know diabet snack recip"
          ],
          [
           "old join airforc"
          ],
          [
           "gastat diabet mellitu"
          ],
          [
           "type effect cephalosporin diabet"
          ],
          [
           "use hemoglucotest"
          ],
          [
           "good diet keep sugar level"
          ],
          [
           "one person type one diabet give anoth person"
          ],
          [
           "hard lose weight diabet"
          ],
          [
           "blood sugar level rise secret"
          ],
          [
           "diabet nrotc"
          ],
          [
           "sotalol caus blur vision"
          ],
          [
           "diabet transfer one partner anoth"
          ],
          [
           "quick diabet recip"
          ],
          [
           "less normal glucos level level low normal"
          ],
          [
           "vaccin prevent diabet"
          ],
          [
           "explain caus diabet control"
          ],
          [
           "pumpkin indic type two diabet patient"
          ],
          [
           "late dinner caus diabet"
          ],
          [
           "besid medic treatment insulin els everyday minim chanc get diabet"
          ],
          [
           "high blood sugar symptom"
          ],
          [
           "mani time day person diabet check blood sugar level"
          ],
          [
           "differ hiv aid diabet type two"
          ],
          [
           "diabet incep"
          ],
          [
           "effect ph diabet ketoacidosi"
          ],
          [
           "possibl diabet one els famili"
          ],
          [
           "person bobi produc enough insulin"
          ],
          [
           "substanc increas urin untreat diabet"
          ],
          [
           "cure type one diabet"
          ],
          [
           "four diseas communic"
          ],
          [
           "type microb diabet"
          ],
          [
           "nutrit diet diabet"
          ],
          [
           "diabet requir insulin"
          ],
          [
           "finger tip turn white numb hand get cold caus"
          ],
          [
           "caution take biguanid thiazolidinedion use treat insulin resist"
          ],
          [
           "find onlin cookbook diabet"
          ],
          [
           "differ care person insulin shock diabet coma"
          ],
          [
           "diabet warn sign"
          ],
          [
           "food good type one diabet also good type two"
          ],
          [
           "gestat diabet caus preterm labor"
          ],
          [
           "aceton breath"
          ],
          [
           "diabet eat bean"
          ],
          [
           "one common type diabet"
          ],
          [
           "food eat type two diabet"
          ],
          [
           "diabet control glucos level"
          ],
          [
           "control high blood sugar seven year old type one diabet"
          ],
          [
           "seriou type diabet"
          ],
          [
           "side affect lantu give"
          ],
          [
           "type diabet alway insulin depend"
          ],
          [
           "relev biochem test diabet mellitu two"
          ],
          [
           "bad glucos one hundr forti three"
          ],
          [
           "kevin okyer"
          ],
          [
           "diseas focu healthi peopl two thousand ten"
          ],
          [
           "much sugar ok diabet"
          ],
          [
           "possibl symptom diabet"
          ],
          [
           "type one diabet affect person relationship"
          ],
          [
           "organ system type two diabet affect"
          ],
          [
           "mani diagnos diabet patient medic"
          ],
          [
           "frequent urin sign diabet"
          ],
          [
           "cure diabet"
          ],
          [
           "drug class lantu insulin"
          ],
          [
           "nondairi creamer bad diabet"
          ],
          [
           "earth diabet"
          ],
          [
           "differ tuberculin syring insulin syring"
          ],
          [
           "much liquor take kill diabet"
          ],
          [
           "unhealthi diet lead diabet"
          ],
          [
           "diabet take medic"
          ],
          [
           "item diabet person eat"
          ],
          [
           "term life insur diabet"
          ],
          [
           "walk good diabet"
          ],
          [
           "deal diabet"
          ],
          [
           "good diabet recip"
          ],
          [
           "raini rodriguez diabet"
          ],
          [
           "uric acid found"
          ],
          [
           "type one diabet affect lifestyl"
          ],
          [
           "lose weight diabet"
          ],
          [
           "diabet use cornstarch"
          ],
          [
           "child sweat excess squirm"
          ],
          [
           "lolli affect"
          ],
          [
           "doctor weight loss plan"
          ],
          [
           "anywher get free suppli blood sugar test"
          ],
          [
           "hypoglycemia"
          ],
          [
           "children diabet"
          ],
          [
           "reason koch abdomen"
          ],
          [
           "post prandial"
          ],
          [
           "insulin shot produc bright yellow urin"
          ],
          [
           "get health insur maryland diabet rheumatoid arthriti husband medicar miss enrol period cobra endin"
          ],
          [
           "first aid treatment diabet mellitu"
          ],
          [
           "type mutat caus diabet type one"
          ],
          [
           "cure diabet"
          ],
          [
           "method rapid weight loss"
          ],
          [
           "get diabet cookbook"
          ],
          [
           "recombin human insulin"
          ],
          [
           "warn sign diabet mellitu"
          ],
          [
           "diabet raf"
          ],
          [
           "pancreat hormon increas blood sugar"
          ],
          [
           "diabet caus much sugar"
          ],
          [
           "drink diabet"
          ],
          [
           "diabet recip help keep healthi"
          ],
          [
           "true result meter show error"
          ],
          [
           "benefit carbon acid give human bodi"
          ],
          [
           "sous safe diabet eat"
          ],
          [
           "diabet becom super sensit pain"
          ],
          [
           "diabet life threaten"
          ],
          [
           "oral medic diabet"
          ],
          [
           "bring high blood glucos"
          ],
          [
           "develop diabet two"
          ],
          [
           "mom sad upset"
          ],
          [
           "youv start pee lot normal forti two year old male"
          ],
          [
           "caus sore heal"
          ],
          [
           "cant type one diabet prevent"
          ],
          [
           "sugar effect bodi"
          ],
          [
           "research done schizophrenia"
          ],
          [
           "get diabet"
          ],
          [
           "part bodi diabet type two affect"
          ],
          [
           "common diet program someon receiv diabet treatment"
          ],
          [
           "name type one type two"
          ],
          [
           "high blood sugar lead urinari tract infect"
          ],
          [
           "chees caus diabet"
          ],
          [
           "food diabet eat"
          ],
          [
           "food stay away diabet"
          ],
          [
           "first discov diabet"
          ],
          [
           "dehydr diabet"
          ],
          [
           "counter insulin good prescript insulin"
          ],
          [
           "friend lanc type one diabet still eat ton candi everi day problem also gay matter"
          ],
          [
           "insulin use"
          ],
          [
           "alcohol caus diabet"
          ],
          [
           "one common characterist form diabet mellitu"
          ],
          [
           "insulin taken oral"
          ],
          [
           "glucos level three hundr seventi one"
          ],
          [
           "kind transplant help diabet"
          ],
          [
           "diabet neuropathi treatment risk"
          ],
          [
           "six point three normal sugar human"
          ],
          [
           "diabet eat fruit"
          ],
          [
           "diabet discov"
          ],
          [
           "type food need add diet diabet"
          ],
          [
           "mani calori five eleven two hundr ten pound man eat high blood sugar"
          ],
          [
           "arm ach elbow"
          ],
          [
           "type diabet"
          ],
          [
           "bacardi light diet coke effect type two diabet"
          ],
          [
           "diabet eat salt nut honey etc"
          ],
          [
           "diabet still take nytric efx"
          ],
          [
           "best way young teenag type one diabet coeliac diseas lose weight"
          ],
          [
           "two type superstiti"
          ],
          [
           "type hormon insulin"
          ],
          [
           "make hand fall asleep"
          ],
          [
           "websit diabet educ"
          ],
          [
           "tell sugar enter bodi"
          ],
          [
           "diabet fruit"
          ],
          [
           "mani carb eaten day type two diabet"
          ],
          [
           "check sugar level good"
          ],
          [
           "diabet affect pancrea"
          ],
          [
           "diabet requir insulin inject"
          ],
          [
           "explain relationship type two diabet diet"
          ],
          [
           "region bodi storag excess bodi fat associ highest risk cardiovascular diseas diabet"
          ],
          [
           "thirteen yr old dalmatian diabet gone blind know time die"
          ],
          [
           "found insulin bodi"
          ],
          [
           "could diabet caus hand lock"
          ],
          [
           "insulin control sugar level"
          ],
          [
           "criteria ppb diabet"
          ],
          [
           "safe amount carbohydr gestat diabet"
          ],
          [
           "histori diabet"
          ],
          [
           "thyroid gland mean control blood sugar level"
          ],
          [
           "diabet statist"
          ],
          [
           "uncorrect type diabet mellitu may result"
          ],
          [
           "kind diabet consid auto immun diseas"
          ],
          [
           "diabet ill"
          ],
          [
           "worri friend fat famili diabet except tri help lose weight watch eat sport dosent listen"
          ],
          [
           "three type perment"
          ],
          [
           "littl insulin avail amount food ingest may result"
          ],
          [
           "mom diabet kid diabet"
          ],
          [
           "cure diabeti"
          ],
          [
           "caus red blood cell count decreas"
          ],
          [
           "addit take insulin one treat diabet"
          ],
          [
           "mani peopl die year type one diabet"
          ],
          [
           "mani peopl get diagnos diabet year"
          ],
          [
           "diabet dad order eat"
          ],
          [
           "releas date project diabet prevent two thousand twelv stay motiv"
          ],
          [
           "studi diabet mellitu call"
          ],
          [
           "insulin affect bodi"
          ],
          [
           "gestat diabet show undiagnos type one diabet"
          ],
          [
           "symptom diabet crave salti food"
          ],
          [
           "problem insulin"
          ],
          [
           "food lower blood sugar"
          ],
          [
           "link physic activ diabet"
          ],
          [
           "relationship mahogani seed lower blood glucos"
          ],
          [
           "take glucos tablet blood sugar high"
          ],
          [
           "know type one type two diabet"
          ],
          [
           "diabet contraind massag"
          ],
          [
           "part human digest system produc insulin control sugar blood"
          ],
          [
           "good method diabet prevent"
          ],
          [
           "first insulin inject given"
          ],
          [
           "synonym adher"
          ],
          [
           "prevent kidney damag"
          ],
          [
           "find menu internet cater diabet individu"
          ],
          [
           "best diet someon tri lose one hundr forti nine pound"
          ],
          [
           "sell diabet food rhode island"
          ],
          [
           "first person get diabet"
          ],
          [
           "cinnamon good diabet"
          ],
          [
           "contract diabet"
          ],
          [
           "type ii diabet consid milder form diabet"
          ],
          [
           "strength weak diabet"
          ],
          [
           "diabet patient eat mango fruit"
          ],
          [
           "number one caus adult us diabet"
          ],
          [
           "diabet dehydr"
          ],
          [
           "diabet cake recip use splenda sweet n low"
          ],
          [
           "nemic"
          ],
          [
           "good supplement diabet"
          ],
          [
           "healthi diabet diet plan"
          ],
          [
           "connect diabet enlarg prostat"
          ],
          [
           "blood sugar level two hour eat"
          ],
          [
           "old peopl get diabet"
          ],
          [
           "type two diabet affect endocrin system"
          ],
          [
           "diabet dessert recip make stove"
          ],
          [
           "blood sugar low hormon bodi produc help"
          ],
          [
           "fast glucos test rang nineti eight one hundr fourteen"
          ],
          [
           "one thousand nine hundr eighti nine chevi pu five point seven normal vacuum read"
          ],
          [
           "function gonad"
          ],
          [
           "substanc produc bacteria"
          ],
          [
           "normal rang fast blood glucos"
          ],
          [
           "type one diabet known depend diabet"
          ],
          [
           "test may done diabet neuropathi suspect"
          ],
          [
           "mean definit diabet"
          ],
          [
           "glucos rais sugar level"
          ],
          [
           "diseas blood glucos level normal"
          ],
          [
           "ever cure type one two diabet"
          ],
          [
           "diet use revers diabet"
          ],
          [
           "cell ribosom found"
          ],
          [
           "insulin produc genet engin"
          ],
          [
           "prevent adult onset diabet"
          ],
          [
           "top rate children diabet endocrinolog hospit"
          ],
          [
           "side effect metformin"
          ],
          [
           "give long act insulin low blood sugar level"
          ],
          [
           "alcohol drink diabet"
          ],
          [
           "type one diabet slow puberti"
          ],
          [
           "bolu insulin mean rapid insulin mix lent one"
          ],
          [
           "doctor said watch sugar intak verg diabet cut mani gram sugar daili sugar free best"
          ],
          [
           "diabet becom thin feel weak"
          ],
          [
           "food product peopl diabet"
          ],
          [
           "mani day one vial insulin last sig inject fifti unit sq qday"
          ],
          [
           "get diabet drink alcohol"
          ],
          [
           "glucos remov bloodstream"
          ],
          [
           "diabet drink tea"
          ],
          [
           "diabet patient eat couscou"
          ],
          [
           "countri highest diabet rate"
          ],
          [
           "tum rais blood sugar"
          ],
          [
           "miley break nick caus diabet"
          ],
          [
           "symtom diabet mellitu"
          ],
          [
           "prevent get diabet"
          ],
          [
           "differ candi diabet candi"
          ],
          [
           "peopl type one diabet control blood pressur"
          ],
          [
           "made cure diabet"
          ],
          [
           "get diabet touch infect person blood"
          ],
          [
           "interellectu need diabet type two diabet"
          ],
          [
           "diabet"
          ],
          [
           "symptom type two diabet"
          ],
          [
           "get diabet symptom"
          ],
          [
           "effect alcohol diabet type two"
          ],
          [
           "type diabet mellitu insulin resist disord"
          ],
          [
           "canadian diabet associ creat"
          ],
          [
           "molecular basi type one diabet"
          ],
          [
           "pima indian diabet"
          ],
          [
           "diabet diet menu help diabet"
          ],
          [
           "dri mouth sign diabet"
          ],
          [
           "start american diabet associ"
          ],
          [
           "nine point nine glucos read high"
          ],
          [
           "one hundr twelv high glucos read"
          ],
          [
           "normal sugar human"
          ],
          [
           "keyton danger diabet"
          ],
          [
           "food product good diabet"
          ],
          [
           "diabet emerg caus high blood sugar level"
          ],
          [
           "antibiot affect blood sugar level"
          ],
          [
           "type two diabet take insulin control sugar drive commerci vehicl road"
          ],
          [
           "mammal get diabet"
          ],
          [
           "maintain blood glucos level"
          ],
          [
           "type two diabet kill"
          ],
          [
           "eat regular meal"
          ],
          [
           "avascular necrosi caus diabet"
          ],
          [
           "list five non communic communic diseas"
          ],
          [
           "diabet food eat"
          ],
          [
           "blood sugar level read eaten"
          ],
          [
           "man diabet father child diabet"
          ],
          [
           "organ organ system close associ malfunct call diabet"
          ],
          [
           "pre diabet symptom"
          ],
          [
           "peopl diabet carri insulin needl airplan"
          ],
          [
           "diseas catch anoth person aid cancer diabet hypertens wart"
          ],
          [
           "osgood get leg cut"
          ],
          [
           "type diabet"
          ],
          [
           "good diabet food guid"
          ],
          [
           "diabet mental ill"
          ],
          [
           "good diet"
          ],
          [
           "peopl focu type two diabet"
          ],
          [
           "long term side affect diabet"
          ],
          [
           "good diet plan person diabet"
          ],
          [
           "dehydr affect high blood sugar"
          ],
          [
           "gland respons diabet insipidu"
          ],
          [
           "sign low blood sugar"
          ],
          [
           "tell bodi much sugar"
          ],
          [
           "type peopl risk develop diabet"
          ],
          [
           "turkey diabet"
          ],
          [
           "happen blood sugar level properli regul"
          ],
          [
           "symptom type one diabet"
          ],
          [
           "world diabet cookbook"
          ],
          [
           "recip diabet cookbook cooki"
          ],
          [
           "diabet meter"
          ],
          [
           "age group diabet affect"
          ],
          [
           "diabet patern test done still pregnant"
          ],
          [
           "occur bodi abl produc insulin"
          ],
          [
           "good conclus diabet"
          ],
          [
           "great diabet diet recip"
          ],
          [
           "hypoglcemia"
          ],
          [
           "normal blood glucos level adult"
          ],
          [
           "symptom treatment hypoglycemia hyperglycemia"
          ],
          [
           "goal diabet treatment"
          ],
          [
           "number one killer children worldwid"
          ],
          [
           "applesauc use diabet cake recip"
          ],
          [
           "sign symptom type one diabet"
          ],
          [
           "tell diabet without see doctor"
          ],
          [
           "type food diabet male eat"
          ],
          [
           "simpl dinner recip would work diabet menu plan"
          ],
          [
           "alcohol bad diabet"
          ],
          [
           "food would diabet food list"
          ],
          [
           "good diabet suppli adult"
          ],
          [
           "marri diabet"
          ],
          [
           "normal result fast blood sugar test"
          ],
          [
           "organ malfunct caus diabet"
          ],
          [
           "expert treat diabet"
          ],
          [
           "type one diabet live normal life"
          ],
          [
           "medicaid pay diabet shoe"
          ],
          [
           "relationship diabet bhramari"
          ],
          [
           "obes caus type two diabet"
          ],
          [
           "number seven mean diabet"
          ],
          [
           "treatment toe numb"
          ],
          [
           "famili histori diabet disqualifi person pursu career pilot major commerci airlin industri"
          ],
          [
           "eat orang rais blood sugar"
          ],
          [
           "proven diabet cure"
          ],
          [
           "blood sugar chart look"
          ],
          [
           "much fat much sugar daili diabet"
          ],
          [
           "salt pool salt system increas blood pressur"
          ],
          [
           "best way type capit sentenc"
          ],
          [
           "tell patient need given glucos"
          ],
          [
           "diet control effect treatment diabet"
          ],
          [
           "secondari complic diabet"
          ],
          [
           "healthi person bodi respond sugar enter blood"
          ],
          [
           "diabet patient eat date"
          ],
          [
           "two organ involv regul blood sugar level bodi"
          ],
          [
           "test find"
          ],
          [
           "egg rais blood sugar"
          ],
          [
           "realli want diabet tell truth"
          ],
          [
           "prevent get diabet"
          ],
          [
           "symptom feel type two diabet"
          ],
          [
           "one major food categori type two diabet diet"
          ],
          [
           "diabet hypothyroid link"
          ],
          [
           "eat carbohydr regul blood sugar"
          ],
          [
           "diseas caus lack miner fe"
          ],
          [
           "diabet obes relat"
          ],
          [
           "glucos relat diabet"
          ],
          [
           "purpos glucos toler test"
          ],
          [
           "caus elev level blood glucos"
          ],
          [
           "gestat diabet affect child"
          ],
          [
           "function dessic"
          ],
          [
           "mani carb diabet"
          ],
          [
           "pharmacolog effect insulin"
          ],
          [
           "yam good diabet"
          ],
          [
           "scientist get paid stop research diabet"
          ],
          [
           "gamer fat"
          ],
          [
           "insulin inject"
          ],
          [
           "print diabet diet sheet"
          ],
          [
           "side effect paneer ka phool diabet patient"
          ],
          [
           "type one type two compound"
          ],
          [
           "medic approv food list diabet"
          ],
          [
           "homemad chicken pot pie good diabet diet"
          ],
          [
           "blood test done diabet peopl"
          ],
          [
           "what differ diabet type one two"
          ],
          [
           "diabet eat orang"
          ],
          [
           "diabet neuropathi tend"
          ],
          [
           "treatment high blood sugar level diabet patient"
          ],
          [
           "diabet beat"
          ],
          [
           "medic term mean death tissu caus diabet"
          ],
          [
           "candi would best diabet low sugar"
          ],
          [
           "insulin diabet"
          ],
          [
           "pee lot"
          ],
          [
           "immedetli lower blood sugar"
          ],
          [
           "thing diabet cant"
          ],
          [
           "caus type one diabet"
          ],
          [
           "diabet moneran kingdom"
          ],
          [
           "necessari diabet food diabet"
          ],
          [
           "cholesterol poison"
          ],
          [
           "type two diabet revers"
          ],
          [
           "stress link type diabet"
          ],
          [
           "themechan action insulin diabet"
          ],
          [
           "honey dew melon cantaloup bad diabet"
          ],
          [
           "plant get diabet"
          ],
          [
           "explain virus might use copi gene produc human insulin"
          ],
          [
           "diabet"
          ],
          [
           "airman arriv unit mention burn cook accid last night assess burn indic burn superfici"
          ],
          [
           "much pizza diabet type two"
          ],
          [
           "diabet wors chronic fatigu syndrom"
          ],
          [
           "someth sweet diabet eat"
          ],
          [
           "mood swing diabet symptom"
          ],
          [
           "mazda stink"
          ],
          [
           "insulin use fraction urin coverag"
          ],
          [
           "men get diabet"
          ],
          [
           "move canada uk diabet"
          ],
          [
           "watermelon increas blood sugar"
          ],
          [
           "stick check blood sugar level"
          ],
          [
           "symptom diabet tell diabet without see doctor"
          ],
          [
           "get diabet exercis"
          ],
          [
           "possibl anyon diabet healthi use insulin"
          ],
          [
           "much sugar cherri"
          ],
          [
           "clinic find occur first metabol acidosi patient type one diabet"
          ],
          [
           "structur kidney damag diabet mellitu"
          ],
          [
           "diabet affect fertil"
          ],
          [
           "excess amount sugar caus diabet"
          ],
          [
           "diabet food pyramid"
          ],
          [
           "gestat diabet diet"
          ],
          [
           "diabet come"
          ],
          [
           "food drink sugar"
          ],
          [
           "diabet mellitu treat doctor"
          ],
          [
           "blood sugar number"
          ],
          [
           "normal sugar level teenag"
          ],
          [
           "must insulin inject taken mouth"
          ],
          [
           "reduc risk diabet"
          ],
          [
           "nick jona ever diabet"
          ],
          [
           "stop cut last year suicid attempt grade never told anyon day happi day well overeact past event sleep put self mess yeah"
          ],
          [
           "diabet cuas"
          ],
          [
           "calcul triglycerid level"
          ],
          [
           "viral gastroenter caus rise blood sugar"
          ],
          [
           "difficult diabet lose weight"
          ],
          [
           "complic diabet coma"
          ],
          [
           "could schnauzer diabet"
          ],
          [
           "insulin refriger"
          ],
          [
           "shiver due diabet occur"
          ],
          [
           "disadvantag ayurveda"
          ],
          [
           "peopl diabet lose therir meori drink alcohol"
          ],
          [
           "symptomp diabet"
          ],
          [
           "uncontrol diabet effect mental statu"
          ],
          [
           "blood sugar tester"
          ],
          [
           "diabet trait"
          ],
          [
           "tattoo diabet"
          ],
          [
           "would increas insulin secret type ii diabet"
          ],
          [
           "manag hypoglycemia diet"
          ],
          [
           "heavi diabet"
          ],
          [
           "diabet peopl avoid diabet complic"
          ],
          [
           "frequent urin diabet symptom"
          ],
          [
           "one find inform diabet type one"
          ],
          [
           "common type ii diabet"
          ],
          [
           "catch type two diabet"
          ],
          [
           "exist mani form"
          ],
          [
           "salt tablet lower blood sugar"
          ],
          [
           "food carri healthi diabet nurtrit"
          ],
          [
           "symptom diabet person"
          ],
          [
           "mani kilogram diabet consum sodium"
          ],
          [
           "danger drink diabet blood"
          ],
          [
           "type two diabet noninfecti"
          ],
          [
           "common diabet symptom"
          ],
          [
           "best medicin diabet"
          ],
          [
           "know diabet"
          ],
          [
           "type one diabet"
          ],
          [
           "post prandial blood sugar mean"
          ],
          [
           "chanc diabet babi born parent heterozyg normal"
          ],
          [
           "doctor diagnos diabet"
          ],
          [
           "bring high blood pressur"
          ],
          [
           "diabet air hunger lead death"
          ],
          [
           "gain weight diabet"
          ],
          [
           "happen blood sugar low"
          ],
          [
           "bodi system affect crohn diseas system affect"
          ],
          [
           "find inexpens food diabet"
          ],
          [
           "diabet gastroparesi"
          ],
          [
           "one find inform diet diabet"
          ],
          [
           "diabet ramen noodl"
          ],
          [
           "temp insulin store"
          ],
          [
           "ayurveda help someon diabet"
          ],
          [
           "common diabet symptom"
          ],
          [
           "lower hemoglobin"
          ],
          [
           "paneer booti"
          ],
          [
           "ancillari blood glucos test"
          ],
          [
           "liquor best diabet"
          ],
          [
           "gestat diabet everi pregnanc"
          ],
          [
           "one hypoglycem episod mean diabet laura"
          ],
          [
           "determin preexist condit"
          ],
          [
           "major differ type one type two diabet"
          ],
          [
           "list food high sugar"
          ],
          [
           "sugar content blood diabet"
          ],
          [
           "much diabet syring hold"
          ],
          [
           "hered play part diabet"
          ],
          [
           "get diabet much sugar"
          ],
          [
           "three p diabet"
          ],
          [
           "normal hormon test result premenopaus woman"
          ],
          [
           "sugar conent banana"
          ],
          [
           "genet engin factor increas cost insulin"
          ],
          [
           "low high blood sugar make chest hurt"
          ],
          [
           "two challeng die chronic ill"
          ],
          [
           "gland essenti metabol carboydr reduc blood sugar"
          ],
          [
           "describ diabet mellitu type two word"
          ],
          [
           "diabet affect urinari system"
          ],
          [
           "diabet caus numb finger"
          ],
          [
           "diabet type one"
          ],
          [
           "type one diabet contagi"
          ],
          [
           "diet soda make crave sugar bad diabet"
          ],
          [
           "blood sugar five hundr seventi five type insulin one take"
          ],
          [
           "swollen ankl symptom diabet"
          ],
          [
           "finger millet help diabet"
          ],
          [
           "diabet affect kidney"
          ],
          [
           "took insluin diabet"
          ],
          [
           "nineti seven one hundr twenti blood sugar level within normal rang non diabet"
          ],
          [
           "diabet pump use"
          ],
          [
           "diabet get insulin"
          ],
          [
           "diabet friendli food"
          ],
          [
           "find great recip diabet"
          ],
          [
           "blood glucos level one hundr one high"
          ],
          [
           "condit often indic anemia"
          ],
          [
           "famou peopl type one diabet"
          ],
          [
           "lidoderm rais blood sugar level"
          ],
          [
           "could sweet smell urin"
          ],
          [
           "enzym diabet affect"
          ],
          [
           "hard sleep diabet"
          ],
          [
           "qualiti servic american diabet"
          ],
          [
           "better insulin pump anima medtron"
          ],
          [
           "nut bean eat diabet person"
          ],
          [
           "cbc test"
          ],
          [
           "symptom hypoglycemia low low"
          ],
          [
           "frequent caus death hors cholesterol diarrhoea diabet pine poison"
          ],
          [
           "pancrea releas blood glucos concentr increas"
          ],
          [
           "urin sampl prove alcohol consumpt diabet"
          ],
          [
           "neither parent diabet get"
          ],
          [
           "guidelin food nutrit diabet"
          ],
          [
           "would name program diabet care india specif"
          ],
          [
           "diabet drink slim fast sugar"
          ],
          [
           "nineti two lb blood sugar level still high"
          ],
          [
           "glucos edibl"
          ],
          [
           "actual diabet last three year feel durat sex time short pleas advis increas time"
          ],
          [
           "diabet patient like need kidney transplant"
          ],
          [
           "insulin measur syring"
          ],
          [
           "averag blood sugar past three week measur test"
          ],
          [
           "illeg unwis someon prescrib slow act insulin use someon els fast act insulin instead refil prescript"
          ],
          [
           "vocat colleg univers differ"
          ],
          [
           "diabet patient sagoo dana"
          ],
          [
           "indocologist"
          ],
          [
           "age peopl diagnos diabet"
          ],
          [
           "diabet"
          ],
          [
           "rub alcohol caus cancer"
          ],
          [
           "get gestat diabet"
          ],
          [
           "much sugar urin indic"
          ],
          [
           "grandfath diabet"
          ],
          [
           "treatmint diabet"
          ],
          [
           "mani cc ten unit insulin"
          ],
          [
           "diabet make fat"
          ],
          [
           "doctor call studi child growth diabet"
          ],
          [
           "normal sugar level"
          ],
          [
           "diabet test strip univers"
          ],
          [
           "region like get diabet"
          ],
          [
           "food recomend diabet"
          ],
          [
           "nineti high blood sugar"
          ],
          [
           "dead skin cell foot spa attract ant left contain hour mean diabet"
          ],
          [
           "symptom diabet"
          ],
          [
           "mani type sugar like blood sugar"
          ],
          [
           "caus blood sugar drop rapidli"
          ],
          [
           "diabet woman mate diabet man"
          ],
          [
           "much cost purchas liberti diabet suppli"
          ],
          [
           "optimum arous sport"
          ],
          [
           "tissu insulin depend"
          ],
          [
           "neuropathi diabet"
          ],
          [
           "get dla child diabet insipidu"
          ],
          [
           "explain patient diabet"
          ],
          [
           "diabet patient age thirti nine conceiv possibl becom pregnant"
          ],
          [
           "kind treatment treat diabet"
          ],
          [
           "diabet urin often"
          ],
          [
           "salt water pool safe diabet"
          ],
          [
           "polyuria caus excess urin"
          ],
          [
           "use treat type one diabet"
          ],
          [
           "good diabet carrot cake recip"
          ],
          [
           "blood sugar level chart"
          ],
          [
           "sign diabet type one two"
          ],
          [
           "mani women diabet"
          ],
          [
           "would diabet stop get certifi drive truck"
          ],
          [
           "five pass stop cramp right leg"
          ],
          [
           "mani tube drawn three hour glucos toler test"
          ],
          [
           "safe diabet drink aspartam"
          ],
          [
           "good diabet breakfast"
          ],
          [
           "describ possibl complic poorli control diabet mellitu complic avoid"
          ],
          [
           "type juvenil diabet"
          ],
          [
           "diabet exampl degen diseas"
          ],
          [
           "diabet use insulin weightlift purpos"
          ],
          [
           "type wine best diabet"
          ],
          [
           "teeth relat headach"
          ],
          [
           "normal rang blood sugar test"
          ],
          [
           "find onlin menu diabet"
          ],
          [
           "best way lose forti pound fifti five borderlin diabet"
          ],
          [
           "choos food diabet"
          ],
          [
           "use printf insid isr"
          ],
          [
           "sugar toothpast danger diabet"
          ],
          [
           "lil boosi diabet"
          ],
          [
           "treat diabet insipidu"
          ],
          [
           "energi store glucos molecul"
          ],
          [
           "diabet diet menu"
          ],
          [
           "long take nph insulin nurs observ patient hypoglycemia"
          ],
          [
           "find diabet menu"
          ],
          [
           "happen eat excess amount sugar"
          ],
          [
           "advanc technolog help type one diabet"
          ],
          [
           "get free diabet suppli"
          ],
          [
           "system diabet relat"
          ],
          [
           "patient need given glucos"
          ],
          [
           "pee test nineti nine point nine percent accur"
          ],
          [
           "diabet mellitu multifactori diseas"
          ],
          [
           "exercis easili improv type one diabet"
          ],
          [
           "could diabet benefit naturopath medicin therapi"
          ],
          [
           "prevent diabet"
          ],
          [
           "keep diabet level"
          ],
          [
           "food diabet avoid besid sugar"
          ],
          [
           "diabet diet complet restrict type food"
          ],
          [
           "summar easi explain glucagon insulin work togeth maintain rel constant blood sugar level"
          ],
          [
           "best diet diabet"
          ],
          [
           "treat patient give much insulin"
          ],
          [
           "symptom diabet may effect health long term"
          ],
          [
           "diagnos diabet insipidu"
          ],
          [
           "function endrogen insulin"
          ],
          [
           "type one diabet discov"
          ],
          [
           "normal rang total iron bind capac blood"
          ],
          [
           "ther way find inform diabet diet"
          ],
          [
           "teeth ach diabet medicin increas sensit"
          ],
          [
           "two type diabet"
          ],
          [
           "endocrin system affect diabet"
          ],
          [
           "prevent diabet emerg affect day day life diabet"
          ],
          [
           "help diabet"
          ],
          [
           "food diabet avoid"
          ],
          [
           "good blood sugar level femal"
          ],
          [
           "betti crocker cookbook dessert recip diabet"
          ],
          [
           "celebr diabet"
          ],
          [
           "doctor treat type one diabet"
          ],
          [
           "would happen ate insulin tast"
          ],
          [
           "major sign diabet"
          ],
          [
           "clariten effect glucos read"
          ],
          [
           "recip diabet diet"
          ],
          [
           "wheat better rice diabet"
          ],
          [
           "diabet get pregent"
          ],
          [
           "carrot increas blood sugar"
          ],
          [
           "diabet energi eat sugari food"
          ],
          [
           "hormon inhibit insulin"
          ],
          [
           "happen bodi insulin longer work"
          ],
          [
           "know good sugar level"
          ],
          [
           "blood sugar rise high breakfast"
          ],
          [
           "diabet produc glucos urin"
          ],
          [
           "bolu use medicin"
          ],
          [
           "american type one diabect control glucos"
          ],
          [
           "find inform sign diabet"
          ],
          [
           "give diabet lactulos"
          ],
          [
           "diabet clinic educ"
          ],
          [
           "kind food diabet eat"
          ],
          [
           "way detect carrier diabet"
          ],
          [
           "ecoli make insulin"
          ],
          [
           "juvenil diabet treat"
          ],
          [
           "diabet diet guidelin"
          ],
          [
           "combin food rais blood sugar"
          ],
          [
           "mani diabet use insulin made certain bacteria abil bacteria produc insulin like result"
          ],
          [
           "caus low fever"
          ],
          [
           "organel insulin synthes"
          ],
          [
           "effect poor eat habit"
          ],
          [
           "diet cais diabet"
          ],
          [
           "five symptom diabet"
          ],
          [
           "fruit good diabet"
          ],
          [
           "cure juvenil diabet"
          ],
          [
           "creatinin test diabet type two peopl rang result healthi peopl"
          ],
          [
           "prevent diabet veget soup"
          ],
          [
           "sugar blood come"
          ],
          [
           "peopl diatbeat high low blood sugar"
          ],
          [
           "help diabet"
          ],
          [
           "mpv blood count"
          ],
          [
           "male diabet patient type one babi"
          ],
          [
           "carb count diabet"
          ],
          [
           "diabet pass increas volum urin"
          ],
          [
           "chees eat diabet"
          ],
          [
           "life expect someon diabet"
          ],
          [
           "two horomon regul blood sugar"
          ],
          [
           "consum cinnamon diabet"
          ],
          [
           "condit abnorm low concentr glucos blood call"
          ],
          [
           "eat diabet patient get energi"
          ],
          [
           "vodka caus diabet"
          ],
          [
           "cocker spaniel diabet"
          ],
          [
           "get gestat diabet test"
          ],
          [
           "meal diabet"
          ],
          [
           "mani peopl type one diabet"
          ],
          [
           "husband diabet fast take med morn say take food"
          ],
          [
           "common diabet symptom look"
          ],
          [
           "mani peopl heart diseas us"
          ],
          [
           "treatment diabet"
          ],
          [
           "best time take diabet pill"
          ],
          [
           "determin condit"
          ],
          [
           "happen pancrea stop produc insulin"
          ],
          [
           "treatment diabet retinopathi"
          ],
          [
           "find diet plan diabet healthi also help peopl loos weight"
          ],
          [
           "monkey diabet"
          ],
          [
           "find reasourc offici mayo clinic diet"
          ],
          [
           "smoke caus diabet two"
          ],
          [
           "organ produc insulin"
          ],
          [
           "ophthalmoplegia happen diabet mellitu"
          ],
          [
           "long take novalog react high blood sugar"
          ],
          [
           "normal glucos read"
          ],
          [
           "get diabet"
          ],
          [
           "diseas caus lack veggi friut"
          ],
          [
           "powder glucos liquid glucos"
          ],
          [
           "happen blood glucos level decreas"
          ],
          [
           "organ bodi ineffect diabet"
          ],
          [
           "infect caus blood glucos level increas decreas"
          ],
          [
           "diabet foot infect prevent"
          ],
          [
           "normal depakot blood level"
          ],
          [
           "lycasin safe diabet"
          ],
          [
           "mani children diagnos type one diabet everi day"
          ],
          [
           "sign symptom diabet"
          ],
          [
           "good food guid diabet"
          ],
          [
           "glucos level blood high pancrea secret"
          ],
          [
           "condit blood glucos level higher normal high enough diagnosi diabet"
          ],
          [
           "mani test strip diabet use daili"
          ],
          [
           "mani peopl uk suffer diabet"
          ],
          [
           "diabet drink"
          ],
          [
           "import keep blood glucos level within normal rang"
          ],
          [
           "ohip cover diabet medic"
          ],
          [
           "obes diabet"
          ],
          [
           "happen person diabet inject insulin"
          ],
          [
           "diabet muslim use insulin made dog pig pancrea fast day ramadan"
          ],
          [
           "juvenil diabet"
          ],
          [
           "feet burn sensat summer spite diabet hyper acid"
          ],
          [
           "hand safe diabet get tattoo"
          ],
          [
           "mani gram sugar woman consum per day"
          ],
          [
           "stay posit diabet"
          ],
          [
           "grill shrimp okay diabet"
          ],
          [
           "rang healthi person"
          ],
          [
           "eighti four glucos mean"
          ],
          [
           "high blood sugar level affect osmosi cell blood"
          ],
          [
           "avoid treat hyperglycemia"
          ],
          [
           "name hormon lower blood sugar level"
          ],
          [
           "afrin caus tingl head"
          ],
          [
           "beta blocker caus hypoglycemia"
          ],
          [
           "draw"
          ],
          [
           "obes lead type two diabet"
          ],
          [
           "type two diabet affect health"
          ],
          [
           "whiskey safe diabet"
          ],
          [
           "althlet take glucos tablet run race"
          ],
          [
           "food make wors diabet"
          ],
          [
           "would hungrier low high glucos level"
          ],
          [
           "type diet cure diabet"
          ],
          [
           "blood glucos meter work"
          ],
          [
           "diabet mellitu danger"
          ],
          [
           "common way detect diabet"
          ],
          [
           "twenti four ml insulin high comsump"
          ],
          [
           "would diabet mellitu caus urin acid"
          ],
          [
           "type medicin help pancr workbett"
          ],
          [
           "type devic use check blood sugar"
          ],
          [
           "fed diabet cat"
          ],
          [
           "homeopath remedi might effect treat diabet type two"
          ],
          [
           "caus tingl left hand finger"
          ],
          [
           "diabet retinopathi treatment consist"
          ],
          [
           "get diabet consum blood someon diabet"
          ],
          [
           "exercis help diabet"
          ],
          [
           "sever way life someon diabet impact disord"
          ],
          [
           "hydrocortison affect diabet"
          ],
          [
           "insulin transport liver"
          ],
          [
           "advantag blood glucos monitor"
          ],
          [
           "die diabet"
          ],
          [
           "herb rais sugar level"
          ],
          [
           "cocain affect blood sugar"
          ],
          [
           "diabet cure"
          ]
         ],
         "hovertemplate": "pc_1=%{x}<br>pc_2=%{y}<br>pc_3=%{marker.color}<br>sentence=%{customdata[0]}<extra></extra>",
         "legendgroup": "",
         "marker": {
          "color": [
           3.738556146621704,
           1.2203580141067505,
           1.4586243629455566,
           3.216381788253784,
           -1.9624525308609009,
           3.620681047439575,
           -0.5295436978340149,
           -0.2597693204879761,
           3.161146879196167,
           2.2080295085906982,
           -4.787882328033447,
           1.6871649026870728,
           -3.8886141777038574,
           6.5302019119262695,
           -0.30448704957962036,
           -4.895205974578857,
           -2.8238365650177,
           3.814985990524292,
           2.3643462657928467,
           1.1712288856506348,
           5.423525810241699,
           -0.12064448744058609,
           1.6314406394958496,
           2.4713799953460693,
           -6.636734962463379,
           3.982797145843506,
           -5.5038933753967285,
           -5.892072677612305,
           0.6935446262359619,
           3.4374232292175293,
           0.19689427316188812,
           -5.905367851257324,
           -3.0368435382843018,
           0.6536805629730225,
           1.5905240774154663,
           1.5856865644454956,
           5.297921180725098,
           -0.30278879404067993,
           2.296806812286377,
           -0.8121265769004822,
           1.368367314338684,
           -0.08135974407196045,
           1.6035569906234741,
           1.2640929222106934,
           2.693413734436035,
           3.8445143699645996,
           2.7845206260681152,
           -0.8449500203132629,
           2.1211020946502686,
           3.748772382736206,
           -0.052782393991947174,
           1.6465556621551514,
           0.016000883653759956,
           6.586876392364502,
           2.6284496784210205,
           3.169459819793701,
           0.8089644312858582,
           2.3132383823394775,
           2.1563589572906494,
           2.9216389656066895,
           -1.2117164134979248,
           6.452409744262695,
           6.147794246673584,
           3.2328100204467773,
           3.2369487285614014,
           6.1481709480285645,
           -5.030714988708496,
           -6.12675666809082,
           3.9452195167541504,
           -0.9718484878540039,
           5.215428829193115,
           5.630489349365234,
           0.730377197265625,
           3.8148720264434814,
           0.845151424407959,
           -2.579744815826416,
           3.48121976852417,
           -2.7544972896575928,
           -0.22542046010494232,
           1.494875431060791,
           -2.4317634105682373,
           3.2853870391845703,
           2.8576724529266357,
           0.5403797030448914,
           3.2274045944213867,
           -4.157876968383789,
           -4.394537448883057,
           2.4368364810943604,
           -1.1262317895889282,
           -2.1920976638793945,
           -2.723175525665283,
           -0.3275025188922882,
           -1.0256563425064087,
           0.6632221341133118,
           6.586948871612549,
           5.7894744873046875,
           -1.4196254014968872,
           3.8919103145599365,
           4.327083110809326,
           -7.128812313079834,
           3.4645767211914062,
           -4.648133277893066,
           -0.39479175209999084,
           -1.3740507364273071,
           2.0397613048553467,
           0.8429863452911377,
           4.790685653686523,
           2.7313597202301025,
           -2.049851655960083,
           -6.896000385284424,
           6.22014045715332,
           2.4822261333465576,
           2.373602867126465,
           -0.6717316508293152,
           -1.0279141664505005,
           1.8257780075073242,
           -2.6783230304718018,
           2.968885660171509,
           -4.376771926879883,
           4.068450450897217,
           -7.867045879364014,
           4.139537334442139,
           -6.659423351287842,
           -3.978501081466675,
           -0.20125284790992737,
           -2.8809707164764404,
           -1.7420099973678589,
           -2.5120351314544678,
           -2.0366973876953125,
           -1.3372734785079956,
           -1.2233420610427856,
           -1.550125002861023,
           -4.460566997528076,
           1.754669189453125,
           -0.08262843638658524,
           2.032883405685425,
           -1.7232749462127686,
           -5.003726482391357,
           -2.8166990280151367,
           4.411658763885498,
           6.025058746337891,
           5.063624858856201,
           1.4159787893295288,
           5.730085849761963,
           2.4929111003875732,
           -4.672360897064209,
           3.0347647666931152,
           -0.2645096182823181,
           0.9782559275627136,
           -5.695857048034668,
           2.362278461456299,
           -4.224404811859131,
           1.6158133745193481,
           -8.282052993774414,
           1.443774938583374,
           0.8575791120529175,
           -6.537775039672852,
           -0.4989011287689209,
           -6.6563191413879395,
           2.6533100605010986,
           2.5414302349090576,
           -3.6332149505615234,
           2.6203060150146484,
           -2.4439170360565186,
           -5.748791694641113,
           0.052306029945611954,
           -7.844361782073975,
           -6.251163959503174,
           -6.276910781860352,
           6.486142635345459,
           -6.002440929412842,
           3.3863253593444824,
           -3.2958807945251465,
           1.1260437965393066,
           -1.6139761209487915,
           1.2357388734817505,
           4.019250869750977,
           -4.270069122314453,
           -2.9220566749572754,
           0.9320732951164246,
           -0.23263080418109894,
           3.9275994300842285,
           1.5535544157028198,
           3.459510326385498,
           -0.09846054017543793,
           -0.720699667930603,
           -2.6751649379730225,
           3.4710464477539062,
           -3.9271483421325684,
           4.180634021759033,
           -1.607670545578003,
           4.722142696380615,
           3.640489339828491,
           -6.333174228668213,
           0.09643924981355667,
           0.844074547290802,
           3.303220272064209,
           4.0766096115112305,
           6.317381381988525,
           -6.29669713973999,
           -6.541618824005127,
           1.6015347242355347,
           3.9411916732788086,
           -1.716813087463379,
           -0.16420437395572662,
           6.237836837768555,
           1.7706886529922485,
           -4.279038906097412,
           0.30864793062210083,
           1.1760509014129639,
           3.445627450942993,
           4.532830238342285,
           4.284397125244141,
           -1.1312304735183716,
           1.8408393859863281,
           -2.703413248062134,
           3.748647451400757,
           2.8073339462280273,
           0.4209660291671753,
           3.480886936187744,
           2.227342128753662,
           6.078254699707031,
           4.708893299102783,
           3.710996150970459,
           -3.024188995361328,
           3.4903481006622314,
           -3.1525163650512695,
           3.130854368209839,
           1.1876246929168701,
           3.057023286819458,
           -1.7142417430877686,
           0.08963294327259064,
           -0.706534206867218,
           -4.0533671379089355,
           -8.19766902923584,
           -6.346734523773193,
           2.9662516117095947,
           -4.348563194274902,
           4.035895824432373,
           -2.182568311691284,
           -1.408414363861084,
           0.8911200165748596,
           -6.754822254180908,
           3.4093005657196045,
           3.387129545211792,
           -1.3663954734802246,
           3.3168752193450928,
           -7.9828033447265625,
           -4.02806282043457,
           0.16842427849769592,
           0.8840363025665283,
           -3.368298292160034,
           1.3364204168319702,
           5.356405735015869,
           -5.5884222984313965,
           -1.4241902828216553,
           -5.994035243988037,
           -0.6792224049568176,
           0.16283783316612244,
           4.174093723297119,
           -8.029911994934082,
           -6.016136169433594,
           3.1823570728302,
           -1.430167317390442,
           0.8788982033729553,
           -0.6246467232704163,
           -5.055606842041016,
           3.4144554138183594,
           2.506253242492676,
           -6.0290093421936035,
           6.611795902252197,
           3.52935791015625,
           -2.8559858798980713,
           -0.7120042443275452,
           0.15865322947502136,
           -1.1291773319244385,
           3.0684878826141357,
           0.6937240958213806,
           2.756235361099243,
           0.6063889265060425,
           2.026578187942505,
           1.7796224355697632,
           -3.9789130687713623,
           3.561326265335083,
           -5.8507537841796875,
           -2.25232195854187,
           -4.368588924407959,
           -1.8812702894210815,
           -6.796045780181885,
           2.4768636226654053,
           3.762410879135132,
           0.2552942633628845,
           -5.877560615539551,
           -1.4557756185531616,
           -6.341597557067871,
           4.238122940063477,
           -6.6807861328125,
           -0.6609611511230469,
           -7.940215587615967,
           1.3259003162384033,
           4.3201704025268555,
           1.5503225326538086,
           -1.5622516870498657,
           6.334470272064209,
           -5.712371826171875,
           3.849663734436035,
           0.7579123973846436,
           -3.768803358078003,
           -3.0491693019866943,
           2.8659417629241943,
           -6.472815990447998,
           -3.1504886150360107,
           2.8530569076538086,
           0.48513951897621155,
           2.1027724742889404,
           3.471205711364746,
           2.857454299926758,
           -6.108330726623535,
           -5.564884662628174,
           -3.5973308086395264,
           2.8556487560272217,
           3.7651636600494385,
           -6.9075140953063965,
           0.21255362033843994,
           -0.7886124849319458,
           -7.30112361907959,
           -0.7024112343788147,
           1.8267912864685059,
           0.16268861293792725,
           1.501177191734314,
           -0.5523964762687683,
           4.436350345611572,
           -1.8329582214355469,
           -0.9449940919876099,
           -2.0306339263916016,
           0.74483323097229,
           -5.28086519241333,
           6.541234970092773,
           1.516743540763855,
           -1.3133800029754639,
           -2.8085813522338867,
           4.632078647613525,
           2.4692294597625732,
           3.0159168243408203,
           3.6788666248321533,
           1.6340019702911377,
           0.4572676420211792,
           -5.819459438323975,
           2.706002712249756,
           4.481165409088135,
           -3.7846741676330566,
           3.7650182247161865,
           5.457387447357178,
           6.569707870483398,
           -7.71306037902832,
           0.5404617190361023,
           -2.4396049976348877,
           1.4355369806289673,
           0.021998511627316475,
           1.2408379316329956,
           -1.6664605140686035,
           2.9866020679473877,
           1.0454996824264526,
           5.726208209991455,
           -1.3689006567001343,
           3.280914306640625,
           -0.1650208681821823,
           1.636043667793274,
           2.3888354301452637,
           1.7129462957382202,
           0.5160491466522217,
           -0.08768686652183533,
           3.7013025283813477,
           -2.9192237854003906,
           5.964756965637207,
           1.8609082698822021,
           -5.979909896850586,
           3.2798612117767334,
           -5.910797595977783,
           3.2839200496673584,
           1.1376616954803467,
           5.7443695068359375,
           5.202230453491211,
           2.836130380630493,
           2.0979669094085693,
           -7.5539727210998535,
           3.2211594581604004,
           -7.714210033416748,
           -4.391998767852783,
           -2.300408124923706,
           -7.730234622955322,
           3.2139859199523926,
           1.0855668783187866,
           4.981357097625732,
           1.7262096405029297,
           1.0406278371810913,
           0.5630121827125549,
           4.179263114929199,
           0.7023974061012268,
           1.5746712684631348,
           -5.9621381759643555,
           3.4956133365631104,
           1.3892983198165894,
           0.4866945445537567,
           2.189324140548706,
           -3.886939287185669,
           -7.428499698638916,
           -1.3708161115646362,
           5.0651140213012695,
           -4.746870517730713,
           4.768306732177734,
           -2.226693868637085,
           2.267423629760742,
           -4.469950199127197,
           -6.999712944030762,
           4.697000026702881,
           4.404617786407471,
           -0.1407521516084671,
           -7.5432353019714355,
           3.5794296264648438,
           -7.758555889129639,
           -1.6026901006698608,
           6.077945232391357,
           -1.8356983661651611,
           -4.371799468994141,
           -1.65976881980896,
           -2.9536311626434326,
           1.848056435585022,
           -1.4349477291107178,
           2.6124367713928223,
           -3.2054450511932373,
           -1.6517093181610107,
           2.3530027866363525,
           6.075128078460693,
           3.9873974323272705,
           -6.912622928619385,
           -5.393784046173096,
           1.9107060432434082,
           4.8402419090271,
           6.379158973693848,
           2.3448092937469482,
           -8.153910636901855,
           -5.2990803718566895,
           2.910098075866699,
           -6.224923610687256,
           1.5141863822937012,
           -0.6209611296653748,
           3.9167089462280273,
           3.029005765914917,
           -6.126756191253662,
           3.4467129707336426,
           -7.6010260581970215,
           5.588973045349121,
           -7.129802703857422,
           0.764597475528717,
           3.468933582305908,
           2.60280704498291,
           1.6133369207382202,
           6.234976768493652,
           -3.77366304397583,
           -1.1366716623306274,
           0.7296589612960815,
           -6.095040321350098,
           4.484725475311279,
           1.8459452390670776,
           -4.2441534996032715,
           1.851918339729309,
           -0.9147050976753235,
           -4.108199596405029,
           4.485447883605957,
           -0.8466891050338745,
           -0.655687689781189,
           3.3348703384399414,
           3.8792288303375244,
           -5.867525100708008,
           -1.644054651260376,
           0.9233183860778809,
           2.99003267288208,
           2.795717239379883,
           1.8055915832519531,
           1.1396540403366089,
           3.086928367614746,
           -5.634537220001221,
           1.4000670909881592,
           -1.2781870365142822,
           3.9360344409942627,
           -1.894965410232544,
           4.932504177093506,
           6.544540882110596,
           1.097280740737915,
           -7.859004497528076,
           6.251405715942383,
           3.622593402862549,
           -4.125158786773682,
           -6.584083080291748,
           1.102449893951416,
           -6.024627208709717,
           -7.260422229766846,
           5.304445266723633,
           0.056129321455955505,
           4.903463840484619,
           -8.189964294433594,
           -3.86912202835083,
           2.4459781646728516,
           3.619811534881592,
           4.830338478088379,
           1.988486886024475,
           3.671126365661621,
           0.5511433482170105,
           -0.693981409072876,
           5.0897016525268555,
           5.450573921203613,
           -1.450656533241272,
           1.5602834224700928,
           3.5934064388275146,
           -4.195309162139893,
           -2.9981319904327393,
           0.0963171124458313,
           2.9916961193084717,
           -6.887529373168945,
           -6.508279800415039,
           0.9798587560653687,
           -6.002401351928711,
           -2.2124972343444824,
           -1.6959933042526245,
           2.959657669067383,
           -1.912346601486206,
           3.6219913959503174,
           2.8801450729370117,
           3.3225650787353516,
           -1.8832216262817383,
           2.6761388778686523,
           -2.644848346710205,
           3.715451717376709,
           -6.590325832366943,
           1.3029052019119263,
           3.3698463439941406,
           -5.774232864379883,
           0.9414736032485962,
           3.858765125274658,
           2.9406259059906006,
           2.9879677295684814,
           3.3171370029449463,
           -0.26081305742263794,
           -2.0114588737487793,
           3.7364418506622314,
           -6.715658664703369,
           -0.7682517170906067,
           2.764833688735962,
           -5.961645603179932,
           3.457523822784424,
           -2.1475069522857666,
           2.5538434982299805,
           -3.3034181594848633,
           -0.15668030083179474,
           -0.9346418380737305,
           1.7567676305770874,
           -3.232527494430542,
           -1.9465833902359009,
           -3.886587142944336,
           -3.2756152153015137,
           -2.7327802181243896,
           1.9193249940872192,
           -2.523585557937622,
           1.3167314529418945,
           -1.2910319566726685,
           2.2957279682159424,
           -0.6171765923500061,
           1.573137640953064,
           -6.8913068771362305,
           6.402038097381592,
           -1.4809699058532715,
           -0.11191268265247345,
           3.5036675930023193,
           2.981377363204956,
           6.150145530700684,
           -4.406172275543213,
           -0.053938787430524826,
           -2.375093460083008,
           -1.0160661935806274,
           3.3816378116607666,
           -0.8453977704048157,
           2.0216915607452393,
           0.677821934223175,
           0.038588281720876694,
           0.7337405681610107,
           3.3873214721679688,
           -4.711779594421387,
           4.814601898193359,
           -5.640078544616699,
           5.414965629577637,
           1.3046691417694092,
           -3.7651238441467285,
           -2.6743290424346924,
           2.6449520587921143,
           3.5449488162994385,
           1.2945305109024048,
           5.320129871368408,
           3.646739959716797,
           5.70000696182251,
           1.8420672416687012,
           3.679511547088623,
           2.7947165966033936,
           5.683477401733398,
           -2.022463083267212,
           -3.5763819217681885,
           2.7628304958343506,
           0.1960034817457199,
           3.3511345386505127,
           3.6242053508758545,
           1.094111680984497,
           5.089699745178223,
           -2.5731236934661865,
           6.614555358886719,
           -1.6795287132263184,
           1.8970386981964111,
           2.540496587753296,
           3.5726497173309326,
           -1.977254867553711,
           3.6088411808013916,
           3.893444299697876,
           2.098006010055542,
           1.0086541175842285,
           2.443870782852173,
           -8.291646003723145,
           6.003090858459473,
           6.389819145202637,
           3.8029942512512207,
           -8.020245552062988,
           1.3698879480361938,
           0.6868033409118652,
           -6.5949554443359375,
           1.2018284797668457,
           3.050614833831787,
           -1.8612258434295654,
           -6.14670991897583,
           3.665860414505005,
           2.9933722019195557,
           1.4693546295166016,
           3.40226411819458,
           -1.4265081882476807,
           1.049561619758606,
           -6.997684478759766,
           -1.1566842794418335,
           3.6176958084106445,
           -1.1615029573440552,
           -5.658374309539795,
           -2.1673827171325684,
           4.082472324371338,
           0.7642229199409485,
           -3.0101664066314697,
           -4.90209436416626,
           -1.611809492111206,
           4.530280113220215,
           2.457411050796509,
           -6.93737268447876,
           -2.998136281967163,
           1.1842312812805176,
           -5.137596130371094,
           -2.5997657775878906,
           3.2761895656585693,
           4.296128749847412,
           -0.4606378972530365,
           -7.75258207321167,
           0.6735881567001343,
           -1.643785834312439,
           1.3538620471954346,
           1.8600448369979858,
           3.49249529838562,
           2.0495340824127197,
           -6.4157514572143555,
           1.8306233882904053,
           -6.102193832397461,
           -2.6658456325531006,
           -4.335080623626709,
           -3.5789501667022705,
           3.681230306625366,
           4.977787494659424,
           -2.1783549785614014,
           3.0520849227905273,
           3.0260226726531982,
           3.4510669708251953,
           3.651005268096924,
           -7.006579875946045,
           3.4397315979003906,
           1.7873203754425049,
           -0.050097741186618805,
           -3.5514345169067383,
           1.1034488677978516,
           4.03023624420166,
           4.459125995635986,
           0.7657172679901123,
           1.5533243417739868,
           -8.214776039123535,
           4.815258502960205,
           5.305778980255127,
           -2.405862331390381,
           -3.036696195602417,
           1.21481192111969,
           3.6755638122558594,
           -2.07966685295105,
           3.348904848098755,
           -6.516477584838867,
           1.1658381223678589,
           -2.683258056640625,
           4.7578253746032715,
           3.1267154216766357,
           4.303439140319824,
           -5.961109161376953,
           -3.753596544265747,
           -3.5480194091796875,
           3.096025228500366,
           5.035389423370361,
           2.2749826908111572,
           -2.8504436016082764,
           -2.641054391860962,
           -5.964056491851807,
           2.3451833724975586,
           0.767174243927002,
           -4.166829586029053,
           -6.297304630279541,
           3.643690586090088,
           1.2122063636779785,
           -0.02330753393471241,
           2.2720587253570557,
           -4.3175153732299805,
           -1.0312693119049072,
           2.2425308227539062,
           -2.9590981006622314,
           0.7996290326118469,
           -4.008419036865234,
           -0.5569400191307068,
           -1.9135463237762451,
           -7.397332668304443,
           2.795924425125122,
           2.3451130390167236,
           2.4494848251342773,
           -0.25026386976242065,
           3.8969130516052246,
           0.6294223666191101,
           3.250927209854126,
           -1.6139768362045288,
           -1.3226289749145508,
           -5.96124792098999,
           2.8048789501190186,
           -2.4319100379943848,
           -2.70550274848938,
           -2.156254529953003,
           2.5077431201934814,
           1.810395359992981,
           1.5354735851287842,
           3.3974711894989014,
           -7.515371799468994,
           -4.042372703552246,
           0.8594443202018738,
           2.1786961555480957,
           -3.032836437225342,
           -2.5461385250091553,
           1.8849619626998901,
           -5.881373405456543,
           -5.552927494049072,
           3.1431691646575928,
           -8.018507957458496,
           2.733140468597412,
           3.941129446029663,
           -4.371124744415283,
           0.3897242546081543,
           3.2335407733917236,
           3.7752983570098877,
           -6.764305114746094,
           6.521895408630371,
           -1.7202115058898926,
           3.1112849712371826,
           -3.648444652557373,
           -5.24537992477417,
           4.000465393066406,
           3.480815887451172,
           3.4328184127807617,
           1.5660758018493652,
           4.531355381011963,
           -5.049955368041992,
           3.419584274291992,
           3.2420284748077393,
           4.337298393249512,
           2.064182996749878,
           1.4817626476287842,
           0.9950038194656372,
           -0.8912884593009949,
           -1.4576562643051147,
           1.7880275249481201,
           1.3621656894683838,
           -1.4154466390609741,
           1.619258999824524,
           -2.941997766494751,
           -3.7861249446868896,
           -7.900532245635986,
           3.1884918212890625,
           -6.985098361968994,
           4.034164905548096,
           4.847598075866699,
           0.2194141298532486,
           -2.769944190979004,
           -2.997971534729004,
           -0.9267322421073914,
           0.5230349898338318,
           1.6891978979110718,
           -2.933274984359741,
           3.622485637664795,
           -8.15953540802002,
           3.3167781829833984,
           -0.07401560992002487,
           3.819084644317627,
           3.6873042583465576,
           1.3514025211334229,
           6.542346954345703,
           -1.2081358432769775,
           3.0541841983795166,
           2.8305087089538574,
           -0.9895282983779907,
           3.5106451511383057,
           -0.6491246819496155,
           1.9132276773452759,
           -1.0973931550979614,
           -7.26268196105957,
           2.896379232406616,
           2.1543872356414795,
           -2.478388547897339,
           -1.8236377239227295,
           0.7293382883071899,
           2.0276753902435303,
           1.9802963733673096,
           0.6914920806884766,
           -4.767309188842773,
           -1.039360761642456,
           3.687614917755127,
           -4.514032363891602,
           0.0546393059194088,
           0.6789999008178711,
           2.787381410598755,
           4.030828475952148,
           3.5564351081848145,
           5.6859002113342285,
           1.8164433240890503,
           -6.007216453552246,
           -4.0300188064575195,
           -7.1737189292907715,
           -5.668083190917969,
           2.3948774337768555,
           3.085150957107544,
           0.08559075742959976,
           4.181459903717041,
           6.2603936195373535,
           -0.6847171187400818,
           4.852320671081543,
           -2.869546413421631,
           3.5085582733154297,
           3.3682260513305664,
           -0.6498501300811768,
           -6.8658952713012695,
           2.058720111846924,
           -1.5011587142944336,
           -5.622539043426514,
           2.1119911670684814,
           -3.528895139694214,
           3.433497667312622,
           -3.643805503845215,
           -2.1628036499023438,
           3.3831098079681396,
           6.519628524780273,
           6.486139297485352,
           1.571427583694458,
           4.307140350341797,
           1.7274832725524902,
           -7.700776100158691,
           4.622122287750244,
           -5.008541107177734,
           2.440927028656006,
           -4.350902080535889,
           -8.095998764038086,
           -6.658407688140869,
           1.177173376083374,
           1.8469170331954956,
           3.3006467819213867,
           -4.472187519073486,
           -3.026155710220337,
           2.334988832473755,
           3.435967206954956,
           5.70374059677124,
           2.77597713470459,
           -1.7180964946746826,
           2.1629319190979004,
           1.854360818862915,
           -7.826014041900635,
           1.915824294090271,
           3.2295823097229004,
           -0.4265642464160919,
           3.123685836791992,
           -4.219438552856445,
           1.3274420499801636,
           2.634143114089966,
           -8.082409858703613,
           -6.660356044769287,
           0.9054867625236511,
           1.238069772720337,
           -1.50101637840271,
           1.501022219657898,
           -4.108135223388672,
           6.375250816345215,
           1.9595476388931274,
           4.910703182220459,
           2.056495189666748,
           -1.9727401733398438,
           -7.601195812225342,
           2.060494899749756,
           -0.07710856199264526,
           1.782529354095459,
           -7.398805618286133,
           -4.40444803237915,
           -7.269150257110596,
           5.383456707000732,
           3.335878849029541,
           1.7749959230422974,
           1.0837464332580566,
           6.4792561531066895,
           -5.126051425933838,
           6.448992729187012,
           -0.5416480302810669,
           3.815730094909668,
           3.435967206954956,
           3.893723249435425,
           -5.224968433380127,
           2.584895133972168,
           2.328429937362671,
           6.093655109405518,
           5.716621398925781,
           -0.9352888464927673,
           3.1985392570495605,
           4.153085231781006,
           5.00994873046875,
           -0.7149568796157837,
           0.516555905342102,
           -4.094603061676025,
           1.6075352430343628,
           -5.974879741668701,
           1.1185016632080078,
           2.687011957168579,
           -1.7842187881469727,
           4.174093246459961,
           -2.8738763332366943,
           -0.11984724551439285,
           -6.790638446807861,
           6.041629791259766,
           -1.717401146888733,
           1.5085221529006958,
           3.8916265964508057,
           1.0726662874221802,
           -8.141754150390625,
           -2.9744625091552734,
           1.7816411256790161,
           3.0234992504119873,
           1.860856056213379,
           4.571839809417725,
           3.30759334564209,
           2.9830551147460938,
           -1.6224526166915894,
           -3.590003490447998,
           2.8122618198394775,
           3.984968662261963,
           -0.35365015268325806,
           -2.105203866958618,
           2.4394712448120117,
           0.8783838748931885,
           2.2887179851531982,
           4.075235366821289,
           3.972836971282959,
           -1.1874194145202637,
           0.3603469133377075,
           3.089123010635376,
           4.194221019744873,
           3.320127010345459,
           -6.803109645843506,
           -7.845001220703125,
           -2.1456687450408936,
           1.898008942604065,
           1.7224138975143433,
           1.8214836120605469,
           4.974808692932129,
           0.0420207679271698,
           3.4718358516693115,
           1.5630414485931396,
           3.1794793605804443,
           2.671938896179199,
           1.6056287288665771,
           -1.5907678604125977,
           3.665010690689087,
           1.1635146141052246,
           -3.673168659210205,
           -5.639942169189453,
           0.1688106507062912,
           2.970144271850586,
           5.238018989562988,
           3.0092227458953857,
           -0.8511546850204468,
           3.5969080924987793,
           -3.067781448364258,
           0.5609966516494751,
           -7.313309669494629,
           -2.341630697250366,
           -5.8608856201171875,
           -6.62609338760376,
           1.958863615989685,
           0.8306077718734741,
           -1.4721519947052002,
           5.914741516113281,
           -4.0257110595703125,
           3.7583305835723877,
           0.9018281102180481,
           -2.112102746963501,
           -6.891759395599365,
           3.9494993686676025,
           -2.879640579223633,
           2.55588698387146,
           3.5400497913360596,
           4.944112777709961
          ],
          "coloraxis": "coloraxis",
          "size": 5,
          "symbol": "circle"
         },
         "mode": "markers",
         "name": "",
         "scene": "scene",
         "showlegend": false,
         "type": "scatter3d",
         "x": [
          -2.014634847640991,
          1.00470769405365,
          -2.064075231552124,
          -6.9250807762146,
          2.201202392578125,
          -7.330971717834473,
          0.620262622833252,
          3.181382179260254,
          5.622998237609863,
          -5.892298221588135,
          1.7482293844223022,
          -3.2248315811157227,
          5.929698944091797,
          -7.704146862030029,
          -18.7526912689209,
          2.2540242671966553,
          6.679749965667725,
          -9.688535690307617,
          -11.764135360717773,
          8.054308891296387,
          -6.770397663116455,
          7.739436149597168,
          -2.972830057144165,
          -3.238211154937744,
          3.4266998767852783,
          4.058887481689453,
          2.066559314727783,
          2.9357309341430664,
          6.652635097503662,
          2.245242118835449,
          0.2890205979347229,
          3.488034248352051,
          2.123914957046509,
          -16.48467445373535,
          -15.30009937286377,
          -2.190068006515503,
          -8.203571319580078,
          0.9399530291557312,
          -1.3728930950164795,
          0.8393393158912659,
          8.404194831848145,
          3.7701797485351562,
          -15.277356147766113,
          -15.353787422180176,
          -1.5722960233688354,
          -3.543632745742798,
          2.3096725940704346,
          1.998788595199585,
          -1.9210853576660156,
          -2.914588212966919,
          7.175152778625488,
          -15.099977493286133,
          7.840108394622803,
          -8.29497241973877,
          -0.4451901912689209,
          3.0668389797210693,
          -16.0109920501709,
          -0.486376017332077,
          8.248198509216309,
          7.742382526397705,
          4.771307945251465,
          -6.337499141693115,
          -9.37362003326416,
          -2.96988844871521,
          5.258507251739502,
          -9.845900535583496,
          2.026634454727173,
          3.921738386154175,
          -5.998860836029053,
          2.57741641998291,
          -10.770149230957031,
          -10.630444526672363,
          7.223212242126465,
          6.242074012756348,
          6.2311015129089355,
          -0.11419399827718735,
          2.06671404838562,
          6.8144989013671875,
          8.273900985717773,
          -2.7572290897369385,
          5.132849216461182,
          3.0463573932647705,
          -12.847061157226562,
          1.8101524114608765,
          6.6629462242126465,
          7.508827209472656,
          4.6932806968688965,
          -3.7374844551086426,
          1.1262718439102173,
          5.73331356048584,
          4.477636337280273,
          6.898741245269775,
          1.8356982469558716,
          -2.0130455493927,
          -8.049349784851074,
          -10.667376518249512,
          -19.26280975341797,
          3.521911382675171,
          -2.1720035076141357,
          3.294268846511841,
          -13.27733325958252,
          6.909396648406982,
          8.918688774108887,
          4.955533981323242,
          0.11042270809412003,
          8.339241027832031,
          -2.961073637008667,
          -13.828307151794434,
          5.493906497955322,
          4.106042861938477,
          -7.12166690826416,
          2.0661633014678955,
          -1.3565887212753296,
          2.774402379989624,
          -19.200145721435547,
          -4.790863990783691,
          6.453062057495117,
          2.3842084407806396,
          6.616960525512695,
          4.82717227935791,
          3.2199511528015137,
          8.667007446289062,
          3.692462921142578,
          6.008625507354736,
          -18.471080780029297,
          6.080501079559326,
          6.7161126136779785,
          7.505436420440674,
          2.431068181991577,
          -0.37298914790153503,
          1.9789633750915527,
          4.692207336425781,
          5.746975421905518,
          -4.397028923034668,
          5.43173360824585,
          -0.25508829951286316,
          8.211263656616211,
          2.115800380706787,
          4.689877033233643,
          -4.240426063537598,
          -5.2916107177734375,
          -3.56343412399292,
          7.952122688293457,
          -4.709347724914551,
          2.0943872928619385,
          6.63651180267334,
          2.713007688522339,
          7.166450500488281,
          -2.1259403228759766,
          2.3792176246643066,
          0.13919463753700256,
          7.793333530426025,
          -15.274223327636719,
          2.35298490524292,
          -2.585636615753174,
          1.4310991764068604,
          3.6265015602111816,
          7.316009998321533,
          2.1865665912628174,
          -0.5109652280807495,
          -0.05516817793250084,
          5.602186679840088,
          -0.34641143679618835,
          6.742980480194092,
          2.2012388706207275,
          3.311246633529663,
          2.331578493118286,
          3.681943655014038,
          2.74934720993042,
          -6.517955303192139,
          3.4015676975250244,
          7.352853298187256,
          0.4792736768722534,
          8.181900978088379,
          2.420806884765625,
          1.2368074655532837,
          -5.747703552246094,
          2.07251238822937,
          6.3608832359313965,
          -0.3845076262950897,
          2.416632652282715,
          -7.643324375152588,
          -2.9878952503204346,
          7.24888801574707,
          -1.2193306684494019,
          2.693901300430298,
          7.972641468048096,
          -4.903613090515137,
          4.25518798828125,
          -10.058115005493164,
          8.80491828918457,
          -3.5389440059661865,
          -1.9322360754013062,
          3.2086024284362793,
          -3.7179813385009766,
          2.7035365104675293,
          -5.298437595367432,
          4.841529369354248,
          -10.375007629394531,
          3.6317672729492188,
          2.249729871749878,
          -2.155607223510742,
          3.7980270385742188,
          4.245450496673584,
          4.499040603637695,
          -8.576814651489258,
          -2.521371603012085,
          7.94256591796875,
          5.2614922523498535,
          -0.36920595169067383,
          2.9036049842834473,
          -12.031148910522461,
          -7.8652238845825195,
          -19.154348373413086,
          0.05181380733847618,
          4.916080474853516,
          -3.0932600498199463,
          -3.7771987915039062,
          -16.879344940185547,
          -11.30643081665039,
          -1.7308449745178223,
          -6.8777546882629395,
          -4.61622953414917,
          5.562236785888672,
          5.382225036621094,
          1.9720780849456787,
          8.195898056030273,
          -4.621764183044434,
          1.2824738025665283,
          1.8163373470306396,
          6.523447513580322,
          -0.11756577342748642,
          -18.504907608032227,
          6.728821754455566,
          3.099849224090576,
          2.811370611190796,
          3.03167462348938,
          2.262471914291382,
          5.217389106750488,
          5.447033405303955,
          -18.973804473876953,
          7.824592590332031,
          3.830171585083008,
          -13.416881561279297,
          1.707800269126892,
          5.860219478607178,
          -7.578897953033447,
          2.937314987182617,
          8.218001365661621,
          0.3035374879837036,
          2.1616837978363037,
          6.704499244689941,
          -15.609564781188965,
          -9.258578300476074,
          2.0866944789886475,
          0.35823196172714233,
          2.7724292278289795,
          6.392239570617676,
          3.0275843143463135,
          -9.544708251953125,
          3.00138783454895,
          2.7759618759155273,
          2.6707828044891357,
          -19.961788177490234,
          -0.29010844230651855,
          3.029172658920288,
          2.0222363471984863,
          -6.1510396003723145,
          -10.965928077697754,
          2.6890716552734375,
          -8.280173301696777,
          7.1155829429626465,
          5.685897350311279,
          4.102675914764404,
          -2.42056941986084,
          -18.383085250854492,
          1.2535330057144165,
          -0.5712988972663879,
          -2.534365653991699,
          6.716592311859131,
          -4.310275077819824,
          0.15804529190063477,
          8.569884300231934,
          6.318344593048096,
          2.3375699520111084,
          5.091045379638672,
          6.570674896240234,
          4.887814044952393,
          3.7421467304229736,
          -1.1576972007751465,
          -10.007572174072266,
          -0.9007245898246765,
          3.1869380474090576,
          -19.61475372314453,
          2.598409414291382,
          -5.100455284118652,
          2.1783041954040527,
          -18.43103790283203,
          3.1719939708709717,
          -2.350320816040039,
          -9.742873191833496,
          -1.9085581302642822,
          5.6552414894104,
          -8.770724296569824,
          2.158146381378174,
          -12.915413856506348,
          7.326145172119141,
          2.6777899265289307,
          2.217933416366577,
          7.866125583648682,
          2.5916130542755127,
          7.357213973999023,
          3.6955583095550537,
          7.868994235992432,
          -2.3962881565093994,
          -2.2822678089141846,
          -6.263198375701904,
          2.5608105659484863,
          5.441850662231445,
          6.15797758102417,
          -6.435105323791504,
          -12.665709495544434,
          4.091372013092041,
          7.3446526527404785,
          4.348504066467285,
          3.1332623958587646,
          4.232030391693115,
          0.34305351972579956,
          4.864395618438721,
          -1.5824483633041382,
          0.4498462677001953,
          -4.660595417022705,
          4.707392692565918,
          -19.95098114013672,
          4.935041904449463,
          7.070225238800049,
          2.5642549991607666,
          -6.683761119842529,
          7.9738850593566895,
          6.029537200927734,
          6.765000820159912,
          -8.368443489074707,
          -10.703349113464355,
          2.811638593673706,
          -4.27039098739624,
          -1.8030186891555786,
          7.815004348754883,
          4.804748058319092,
          0.05606403946876526,
          -4.660312175750732,
          1.9852721691131592,
          -12.665694236755371,
          -4.253427505493164,
          -6.704564094543457,
          2.9066455364227295,
          -3.615691661834717,
          4.141685962677002,
          7.623369216918945,
          3.321549415588379,
          -1.1122539043426514,
          -21.011083602905273,
          7.615068435668945,
          -0.14302778244018555,
          -6.543186664581299,
          6.27658224105835,
          -3.895979881286621,
          3.2683725357055664,
          -3.192575693130493,
          -0.5307482481002808,
          -1.410710334777832,
          0.6125982999801636,
          2.1055829524993896,
          -6.6777544021606445,
          4.72291374206543,
          -5.584334373474121,
          -0.15585260093212128,
          3.9855120182037354,
          -11.20965576171875,
          3.584632635116577,
          0.07238118350505829,
          2.0856568813323975,
          -10.39539623260498,
          -4.150899410247803,
          8.223868370056152,
          0.4722212255001068,
          2.2785184383392334,
          -3.648087978363037,
          3.1746883392333984,
          7.277734756469727,
          5.722692012786865,
          2.2545247077941895,
          2.4535019397735596,
          0.03384335711598396,
          -2.8362343311309814,
          8.340015411376953,
          -15.376935005187988,
          7.862793445587158,
          -10.145164489746094,
          1.9836376905441284,
          1.2266443967819214,
          2.306757926940918,
          -3.9892563819885254,
          -15.032835960388184,
          7.726204872131348,
          0.005870138294994831,
          2.605532646179199,
          2.867070198059082,
          5.206666469573975,
          -9.011309623718262,
          6.553188800811768,
          -11.810680389404297,
          2.649535894393921,
          6.100413799285889,
          5.961337089538574,
          2.3096210956573486,
          -2.5674703121185303,
          -4.534677505493164,
          1.0084459781646729,
          2.8740437030792236,
          -6.031871318817139,
          2.197284698486328,
          6.537021160125732,
          -5.598828315734863,
          4.85686731338501,
          7.762857437133789,
          2.624767541885376,
          0.760015070438385,
          1.301527976989746,
          4.740260601043701,
          -0.2949586510658264,
          2.4433348178863525,
          0.4608522355556488,
          0.08534222841262817,
          -8.86124038696289,
          8.603558540344238,
          1.8337548971176147,
          2.722076416015625,
          -2.1171774864196777,
          -5.157328128814697,
          -6.4453911781311035,
          0.14630816876888275,
          2.483452796936035,
          2.260777711868286,
          -0.5370382070541382,
          2.929265022277832,
          -2.834751844406128,
          3.5675806999206543,
          3.5747694969177246,
          1.786358118057251,
          3.921738624572754,
          -4.200973033905029,
          2.9380288124084473,
          -10.600096702575684,
          3.8079442977905273,
          8.02355670928955,
          -1.833348274230957,
          -11.740806579589844,
          -3.154242515563965,
          -8.441948890686035,
          7.184550762176514,
          -18.833791732788086,
          2.421722412109375,
          3.231292724609375,
          -2.763547897338867,
          -14.757915496826172,
          7.387905120849609,
          0.8318758010864258,
          -18.672412872314453,
          6.338009834289551,
          -8.100258827209473,
          -19.625463485717773,
          7.254040241241455,
          3.4237284660339355,
          -5.6883721351623535,
          4.441134929656982,
          -21.015352249145508,
          8.336913108825684,
          1.5594737529754639,
          7.945339679718018,
          8.326349258422852,
          8.427860260009766,
          0.9776281714439392,
          2.886645793914795,
          -3.268183708190918,
          4.829528331756592,
          4.290484428405762,
          8.791242599487305,
          -2.850491523742676,
          -7.340709686279297,
          -1.363653302192688,
          2.9366564750671387,
          -6.1118364334106445,
          -3.6567533016204834,
          6.914670467376709,
          2.7878427505493164,
          7.4229655265808105,
          3.635450839996338,
          2.5290162563323975,
          -11.388449668884277,
          9.446242332458496,
          -11.763504981994629,
          2.7663393020629883,
          8.386612892150879,
          8.108368873596191,
          -10.61086368560791,
          -8.4990234375,
          -0.26691582798957825,
          2.9562127590179443,
          -1.2940313816070557,
          2.8496994972229004,
          -3.1689929962158203,
          -6.102412700653076,
          0.43206271529197693,
          -2.956258773803711,
          -5.829235553741455,
          2.683833599090576,
          5.340505123138428,
          -3.716902017593384,
          -5.267726898193359,
          4.535210132598877,
          2.3666088581085205,
          2.366745948791504,
          2.7379708290100098,
          4.121824741363525,
          -20.899503707885742,
          -4.835926532745361,
          5.550448894500732,
          2.2420291900634766,
          4.672219753265381,
          5.99039363861084,
          6.554939270019531,
          -13.551302909851074,
          8.194317817687988,
          2.527082920074463,
          3.1114501953125,
          0.8131767511367798,
          4.423135280609131,
          2.1793410778045654,
          -1.005399227142334,
          -2.138509511947632,
          -0.5724755525588989,
          -13.941314697265625,
          3.8143904209136963,
          3.750413179397583,
          7.447778224945068,
          -4.023677349090576,
          1.825289011001587,
          4.181502819061279,
          -2.1081809997558594,
          2.307633399963379,
          -13.230326652526855,
          5.624048233032227,
          -13.268816947937012,
          2.161634922027588,
          3.868175983428955,
          -18.827077865600586,
          5.284788608551025,
          7.6079559326171875,
          8.953181266784668,
          5.468039512634277,
          0.8012138605117798,
          4.591022968292236,
          6.342624664306641,
          -0.28096112608909607,
          -15.39311695098877,
          -20.301443099975586,
          8.133447647094727,
          2.1375904083251953,
          7.476996898651123,
          3.9071991443634033,
          -6.766201019287109,
          -20.798131942749023,
          6.136105060577393,
          2.0789968967437744,
          5.680477142333984,
          -8.895576477050781,
          8.117080688476562,
          -18.743526458740234,
          -0.6091163754463196,
          4.496989727020264,
          -3.890317678451538,
          -19.5108642578125,
          8.186461448669434,
          -15.868971824645996,
          -17.390825271606445,
          1.2577906847000122,
          2.804727077484131,
          6.740967750549316,
          -8.660307884216309,
          2.9322991371154785,
          -10.903013229370117,
          0.6842300295829773,
          1.535581111907959,
          7.308215141296387,
          -0.39010095596313477,
          -6.372893810272217,
          -1.6709516048431396,
          -11.163338661193848,
          6.695949554443359,
          -4.691312789916992,
          7.329021453857422,
          -7.346299171447754,
          7.8880791664123535,
          -10.334416389465332,
          4.804791450500488,
          5.7813029289245605,
          -3.6454639434814453,
          9.348518371582031,
          3.119494915008545,
          4.394669532775879,
          1.137392282485962,
          -3.1689906120300293,
          -0.11388275772333145,
          -8.565282821655273,
          3.005427837371826,
          -3.8423876762390137,
          -6.486238479614258,
          -5.670068740844727,
          6.608771800994873,
          5.954195499420166,
          3.9162049293518066,
          -1.6216908693313599,
          8.030837059020996,
          -0.822559654712677,
          2.7466542720794678,
          -6.641566276550293,
          -6.366263389587402,
          -2.4721415042877197,
          2.766090154647827,
          -15.254669189453125,
          5.919689655303955,
          3.591177225112915,
          -15.503350257873535,
          -13.914764404296875,
          8.705029487609863,
          3.019052028656006,
          -13.269542694091797,
          -0.9783221483230591,
          -2.679940700531006,
          -3.020273208618164,
          4.854854583740234,
          -1.2234922647476196,
          2.3555819988250732,
          4.29511833190918,
          2.9392285346984863,
          4.818093776702881,
          2.2447474002838135,
          5.6109843254089355,
          -12.735942840576172,
          8.005960464477539,
          1.6854649782180786,
          1.8018152713775635,
          0.41161006689071655,
          -5.928447246551514,
          -0.11383599042892456,
          3.9604265689849854,
          5.340482711791992,
          -1.4290250539779663,
          3.750114679336548,
          7.103240013122559,
          -1.445314884185791,
          -5.042832851409912,
          7.315082550048828,
          3.586660146713257,
          -0.5134618878364563,
          5.029765605926514,
          1.2117061614990234,
          5.307441234588623,
          -5.015073299407959,
          0.9974304437637329,
          3.3104729652404785,
          -2.616229772567749,
          3.2773919105529785,
          3.0387024879455566,
          6.451018333435059,
          5.766107082366943,
          -13.567915916442871,
          -2.8688547611236572,
          3.5122828483581543,
          -4.893915176391602,
          -1.410997748374939,
          7.190523147583008,
          5.473535537719727,
          2.3441648483276367,
          -3.8762097358703613,
          -2.685769557952881,
          2.662545680999756,
          5.170273780822754,
          1.047963261604309,
          5.391811370849609,
          -2.352409601211548,
          1.2726399898529053,
          0.33847716450691223,
          2.3471133708953857,
          -3.208984136581421,
          -8.306984901428223,
          5.209268569946289,
          4.964053153991699,
          -3.0173141956329346,
          6.751272201538086,
          5.722553253173828,
          -1.8240584135055542,
          3.1653692722320557,
          -0.011710369028151035,
          3.5095643997192383,
          -2.7571170330047607,
          -7.030073165893555,
          -9.776436805725098,
          2.304497241973877,
          1.5919557809829712,
          5.69139289855957,
          2.7160654067993164,
          -3.9718477725982666,
          -2.2730541229248047,
          5.6397881507873535,
          5.413345813751221,
          2.3317713737487793,
          -5.836977005004883,
          -0.7378389835357666,
          5.8520684242248535,
          3.0984814167022705,
          3.4789340496063232,
          0.6875615119934082,
          3.5917840003967285,
          -4.335743427276611,
          6.80047082901001,
          4.38460111618042,
          8.230161666870117,
          8.031624794006348,
          -16.284366607666016,
          5.732971668243408,
          -18.978540420532227,
          5.453988075256348,
          3.4300360679626465,
          -13.206843376159668,
          -5.836968898773193,
          2.5499966144561768,
          4.382436752319336,
          3.4565446376800537,
          -0.29601725935935974,
          -5.930970191955566,
          5.533755779266357,
          5.41752815246582,
          2.3192808628082275,
          -13.626830101013184,
          5.183577537536621,
          4.852883338928223,
          3.501437187194824,
          -0.031432490795850754,
          -1.2823296785354614,
          7.564102649688721,
          -6.090766906738281,
          2.9643149375915527,
          7.535251140594482,
          1.4912890195846558,
          5.296030521392822,
          0.8884175419807434,
          3.6040825843811035,
          -5.423353672027588,
          2.618837594985962,
          1.9763675928115845,
          -7.360057830810547,
          1.5345371961593628,
          -6.065340995788574,
          -2.4572501182556152,
          6.978868007659912,
          7.541337966918945,
          8.3789701461792,
          -5.088316917419434,
          3.6942453384399414,
          -7.541306018829346,
          -20.993791580200195,
          2.933455228805542,
          6.763965606689453,
          2.1686880588531494,
          3.7660751342773438,
          -7.144598960876465,
          -3.0384392738342285,
          1.0849422216415405,
          -4.355988025665283,
          2.085087299346924,
          -10.321234703063965,
          6.283874988555908,
          8.698992729187012,
          1.8061364889144897,
          7.5944132804870605,
          1.0373986959457397,
          3.8968796730041504,
          -19.65056610107422,
          -1.1551741361618042,
          7.384631633758545,
          6.739710330963135,
          8.353486061096191,
          5.815767765045166,
          5.970019340515137,
          3.0340564250946045,
          5.98736572265625,
          3.6249735355377197,
          -5.203200340270996,
          -6.863647937774658,
          -0.0626588687300682,
          6.634745121002197,
          5.340749263763428,
          5.273594856262207,
          0.7154709696769714,
          1.1417955160140991,
          5.448657989501953,
          -3.4084763526916504,
          3.1379506587982178,
          -2.882751703262329,
          3.4982244968414307,
          4.990740776062012,
          4.56756067276001,
          -2.5966475009918213,
          -7.740121364593506,
          8.482385635375977,
          6.033219814300537,
          -5.169806957244873,
          7.155755519866943,
          7.2506585121154785,
          2.0207200050354004,
          -14.762140274047852,
          5.90431022644043,
          2.6302828788757324,
          -0.5216880440711975,
          0.38227930665016174,
          4.65367317199707,
          5.522364139556885,
          -16.746408462524414,
          -5.419492721557617,
          -1.2272493839263916,
          -2.5180842876434326,
          2.124861240386963,
          -20.024770736694336,
          5.536722660064697,
          1.605278491973877,
          0.24432897567749023,
          1.350252628326416,
          -0.7650144696235657,
          7.861439228057861,
          -6.943885803222656,
          -7.535136699676514,
          0.7797576785087585,
          3.016763210296631,
          7.615358829498291,
          2.5167629718780518,
          2.995304584503174,
          5.882089138031006,
          0.9153022766113281,
          -17.326631546020508,
          -5.577387809753418,
          -8.10937786102295,
          7.886046886444092,
          -4.614944934844971,
          5.7346577644348145,
          -2.8876304626464844,
          6.279764652252197,
          -19.58917808532715,
          4.114372253417969,
          -14.395011901855469,
          4.742210865020752,
          2.484532594680786,
          -14.224388122558594,
          5.641933917999268,
          7.261569499969482,
          7.471663475036621,
          2.07657790184021,
          -5.140415191650391,
          -7.4152092933654785,
          -6.517951488494873,
          -2.7733089923858643,
          -12.358115196228027,
          -14.056291580200195,
          3.2530338764190674,
          -11.986669540405273,
          1.8734018802642822,
          -4.664270401000977,
          7.112390041351318,
          2.2884745597839355,
          3.2844350337982178,
          -0.23145736753940582,
          -14.59304141998291,
          -6.147065162658691,
          2.2524595260620117,
          6.702767848968506,
          -4.27752161026001,
          -5.334430694580078,
          -10.491518020629883,
          2.3202426433563232,
          -21.155508041381836,
          -1.3527476787567139,
          -4.534665107727051,
          3.0801756381988525,
          -4.523604393005371,
          4.49355936050415,
          -18.129409790039062,
          -7.783185005187988,
          7.135354518890381,
          -2.0051894187927246,
          -0.7674261927604675,
          2.5450658798217773,
          3.5792038440704346,
          1.736220121383667,
          1.33821702003479,
          5.6533589363098145,
          8.232705116271973,
          2.726755380630493,
          -6.128525733947754,
          0.7807222008705139,
          -8.862466812133789,
          -14.567940711975098,
          5.500082015991211,
          2.4808008670806885,
          -1.348655343055725,
          -17.492088317871094,
          -3.6463329792022705,
          3.3135082721710205,
          6.728832244873047,
          2.306852340698242,
          -3.9263505935668945,
          -13.26734447479248,
          -3.8740932941436768,
          -16.06816864013672,
          -6.7270989418029785,
          6.286105155944824,
          -6.325900077819824,
          3.2649004459381104,
          8.535801887512207,
          -5.334430694580078,
          5.7263593673706055,
          2.2117533683776855,
          -13.102088928222656,
          -2.0166878700256348,
          -9.0643892288208,
          -7.3171467781066895,
          8.649903297424316,
          -13.628510475158691,
          8.582417488098145,
          -3.500211238861084,
          3.0840156078338623,
          2.646373748779297,
          7.720432758331299,
          -2.307088613510132,
          2.7077081203460693,
          0.209978386759758,
          -6.30230712890625,
          5.540008544921875,
          -9.544699668884277,
          4.008115291595459,
          7.026504039764404,
          3.7872793674468994,
          -9.599556922912598,
          -20.53632164001465,
          0.7138442397117615,
          -8.17109489440918,
          -1.1578501462936401,
          2.511763572692871,
          3.4556314945220947,
          7.845676422119141,
          1.8385785818099976,
          -0.1559290736913681,
          -6.349279403686523,
          3.985736131668091,
          5.944785118103027,
          6.7718729972839355,
          7.9453325271606445,
          -0.4845180809497833,
          4.28018856048584,
          0.3252588212490082,
          -0.2357175350189209,
          -5.4148945808410645,
          -15.897125244140625,
          5.57014799118042,
          8.61328125,
          4.012692928314209,
          2.413837194442749,
          -0.197862908244133,
          2.428034543991089,
          -5.387627601623535,
          -4.177712440490723,
          3.9258620738983154,
          2.885671854019165,
          5.1568498611450195,
          1.3357716798782349,
          1.0048326253890991,
          -2.7261030673980713,
          -3.9938952922821045,
          3.575577735900879,
          6.408923149108887,
          8.287847518920898,
          6.2559919357299805,
          -5.71307373046875,
          7.433100700378418,
          6.640505313873291,
          2.2468974590301514,
          8.17403793334961,
          1.328209638595581,
          2.145336151123047,
          5.83776330947876,
          6.349061489105225,
          -4.917149066925049,
          6.034468173980713,
          -19.007610321044922,
          3.3576481342315674,
          3.3049299716949463,
          2.570614814758301,
          3.56842303276062,
          3.8477847576141357,
          2.9420247077941895,
          4.306044578552246,
          0.7924844026565552,
          1.4250940084457397,
          4.952847480773926,
          -5.069822788238525,
          8.385345458984375,
          -7.107486248016357,
          1.9733610153198242,
          6.603966236114502,
          4.109638690948486,
          5.386241436004639,
          4.159206867218018,
          -6.6593098640441895,
          2.468524932861328,
          -11.673406600952148
         ],
         "y": [
          2.5484840869903564,
          5.6580119132995605,
          -4.353811740875244,
          15.726404190063477,
          13.280653953552246,
          -0.976119875907898,
          14.685783386230469,
          10.83746337890625,
          -16.064937591552734,
          15.962567329406738,
          11.903834342956543,
          -5.908724784851074,
          1.4074970483779907,
          -1.3030672073364258,
          -5.269402503967285,
          10.834136009216309,
          6.533553600311279,
          -4.981232166290283,
          -5.46848726272583,
          -9.652562141418457,
          -3.9524099826812744,
          -5.292174816131592,
          15.468338012695312,
          -3.161911964416504,
          0.3221379220485687,
          -12.64889144897461,
          -3.108889579772949,
          5.462228298187256,
          -7.8510355949401855,
          -16.428016662597656,
          -4.336556911468506,
          7.370719909667969,
          3.9276175498962402,
          -4.631741523742676,
          -2.01397442817688,
          15.274360656738281,
          -0.20754577219486237,
          14.424600601196289,
          0.6094562411308289,
          14.649222373962402,
          -10.70907974243164,
          -6.300051689147949,
          -2.0495529174804688,
          -3.9328901767730713,
          1.701090693473816,
          -1.8252546787261963,
          -10.546002388000488,
          13.65281867980957,
          14.506471633911133,
          1.0111610889434814,
          -4.710693836212158,
          -4.400931358337402,
          -7.06821346282959,
          -1.0252748727798462,
          12.255875587463379,
          -17.088712692260742,
          -3.589770793914795,
          3.9306321144104004,
          -12.295858383178711,
          -13.827010154724121,
          12.765241622924805,
          -0.06169268861413002,
          -3.082949638366699,
          -1.4733680486679077,
          -16.157981872558594,
          -3.2071692943573,
          11.237927436828613,
          3.00569748878479,
          -5.099200248718262,
          12.687596321105957,
          -3.0450425148010254,
          -2.94403076171875,
          -7.862603187561035,
          -14.2800931930542,
          -8.02823543548584,
          14.564773559570312,
          -16.094390869140625,
          6.901566028594971,
          -5.68720817565918,
          -6.485528945922852,
          -1.00635826587677,
          -16.879148483276367,
          -3.133911609649658,
          -6.4737091064453125,
          -15.045790672302246,
          0.2971982955932617,
          -1.8182252645492554,
          15.051058769226074,
          14.351902961730957,
          7.965606689453125,
          0.8098030686378479,
          -5.974632740020752,
          -4.188264846801758,
          15.32629680633545,
          0.10973764210939407,
          -3.115618944168091,
          -4.7203264236450195,
          -12.65321159362793,
          3.7225117683410645,
          -3.608560800552368,
          -3.093449354171753,
          3.6830179691314697,
          -8.218344688415527,
          8.170357704162598,
          5.390307426452637,
          -6.520150184631348,
          2.4956624507904053,
          -3.9689812660217285,
          7.517251491546631,
          -11.532463073730469,
          -2.7898075580596924,
          -9.980088233947754,
          1.4662123918533325,
          12.224198341369629,
          -5.216073989868164,
          -2.4815409183502197,
          7.074174404144287,
          -17.60393714904785,
          3.298959255218506,
          -14.031942367553711,
          -5.839494228363037,
          -11.180682182312012,
          0.8320783972740173,
          2.156633138656616,
          -5.277011871337891,
          5.352604389190674,
          -4.191233158111572,
          -3.9782755374908447,
          13.091086387634277,
          14.970226287841797,
          13.630045890808105,
          -4.5152201652526855,
          4.65782356262207,
          15.78487491607666,
          -6.570005416870117,
          3.8788180351257324,
          -6.006044387817383,
          -6.5366692543029785,
          0.6086217761039734,
          -3.659323215484619,
          0.6847335696220398,
          1.4771019220352173,
          -10.121170043945312,
          1.4721843004226685,
          -9.99909496307373,
          2.312701463699341,
          -10.95348072052002,
          -5.354464530944824,
          15.572806358337402,
          9.750054359436035,
          7.375704765319824,
          2.9457995891571045,
          -1.9727709293365479,
          -7.93483829498291,
          -5.6558051109313965,
          5.822408199310303,
          -1.8623743057250977,
          -5.419455528259277,
          -4.169597148895264,
          5.2941575050354,
          9.220033645629883,
          -1.877962350845337,
          6.133400917053223,
          7.195108413696289,
          8.91959285736084,
          -6.546602249145508,
          -6.915914535522461,
          2.837847948074341,
          -9.491005897521973,
          0.058914124965667725,
          -0.8203082084655762,
          -13.574230194091797,
          13.919195175170898,
          -13.783888816833496,
          -4.067540168762207,
          -7.571407318115234,
          14.505449295043945,
          5.8035502433776855,
          5.895516395568848,
          14.654924392700195,
          12.614876747131348,
          -1.0474419593811035,
          -4.747059345245361,
          -13.392887115478516,
          15.330653190612793,
          12.362936019897461,
          -3.95365834236145,
          -4.806764602661133,
          4.206719398498535,
          -1.7569140195846558,
          -5.984304904937744,
          1.1354843378067017,
          2.464571952819824,
          -0.8989904522895813,
          16.121488571166992,
          7.629055500030518,
          -0.3479261100292206,
          -13.610408782958984,
          -1.8375656604766846,
          2.5919313430786133,
          -4.341860294342041,
          -3.7137985229492188,
          -12.721436500549316,
          12.920881271362305,
          -6.454686164855957,
          -2.807973623275757,
          -3.74701189994812,
          1.3930774927139282,
          -5.897512912750244,
          14.294504165649414,
          -11.833062171936035,
          -2.9651646614074707,
          -5.0553154945373535,
          -4.154338359832764,
          14.261384963989258,
          4.938398838043213,
          0.4419207274913788,
          -2.584543228149414,
          -4.676423072814941,
          -4.526758670806885,
          -0.7994423508644104,
          -2.9589123725891113,
          -1.8258925676345825,
          -12.08514404296875,
          -2.7808163166046143,
          -16.00628089904785,
          -3.283743381500244,
          14.77933406829834,
          -7.506674289703369,
          -17.47431182861328,
          10.584362030029297,
          15.085124969482422,
          -4.301829814910889,
          -0.48441147804260254,
          -7.586172580718994,
          -2.414606809616089,
          -17.45577621459961,
          -6.746826648712158,
          -13.52812385559082,
          -3.739367723464966,
          -4.598450660705566,
          -8.493280410766602,
          0.8981468677520752,
          -3.1729345321655273,
          -16.34688377380371,
          12.240022659301758,
          -5.832120895385742,
          -7.160943984985352,
          1.5302529335021973,
          -4.33964729309082,
          7.422647953033447,
          -2.4658594131469727,
          -4.473360538482666,
          -3.6494498252868652,
          10.493789672851562,
          -2.5988290309906006,
          6.11998987197876,
          -5.221778869628906,
          -6.591586589813232,
          -4.711802005767822,
          -7.118928909301758,
          7.7828688621521,
          -11.28622817993164,
          -5.103639602661133,
          14.700469017028809,
          11.381692886352539,
          11.240534782409668,
          -5.584767818450928,
          -5.668591022491455,
          -4.031242847442627,
          0.5967732071876526,
          -13.370633125305176,
          6.742387294769287,
          14.2951021194458,
          15.679314613342285,
          -4.338101863861084,
          -17.62177848815918,
          -4.540567874908447,
          14.026987075805664,
          -4.75039005279541,
          15.564926147460938,
          9.219160079956055,
          2.9587388038635254,
          -14.948060035705566,
          8.806275367736816,
          9.559222221374512,
          3.9546797275543213,
          9.940718650817871,
          -0.3707525432109833,
          14.723909378051758,
          -1.249985933303833,
          15.233494758605957,
          4.867136001586914,
          -4.933143615722656,
          -2.8512020111083984,
          14.033539772033691,
          -4.4326982498168945,
          -4.828090667724609,
          -6.701108455657959,
          15.233430862426758,
          -1.235569953918457,
          14.33780288696289,
          11.39455509185791,
          -3.1646478176116943,
          9.861618995666504,
          -2.0504753589630127,
          -6.657753944396973,
          3.935631275177002,
          3.958627462387085,
          -13.49862003326416,
          6.302481651306152,
          -2.957731246948242,
          -17.403636932373047,
          -7.564798831939697,
          14.822362899780273,
          1.5600210428237915,
          15.489729881286621,
          8.206852912902832,
          2.1903765201568604,
          -0.6470465660095215,
          15.71020793914795,
          -3.142879009246826,
          -11.50582504272461,
          -6.947051048278809,
          7.9094648361206055,
          -9.859532356262207,
          7.509207248687744,
          5.492863655090332,
          -6.149298191070557,
          -2.648064136505127,
          14.771002769470215,
          -3.2056643962860107,
          5.71099328994751,
          -4.988982677459717,
          9.764939308166504,
          -8.037149429321289,
          5.613023281097412,
          0.7427634000778198,
          -10.377924919128418,
          9.774492263793945,
          6.442215442657471,
          -4.6990227699279785,
          -5.796818256378174,
          -17.420284271240234,
          14.13884162902832,
          -2.697098970413208,
          -7.591614723205566,
          3.8691601753234863,
          12.621782302856445,
          -3.8406801223754883,
          10.511946678161621,
          -3.1432056427001953,
          0.9581918120384216,
          1.3895224332809448,
          -7.879917144775391,
          15.98090648651123,
          10.646910667419434,
          -15.1195068359375,
          9.87735652923584,
          -2.225273847579956,
          -4.307024955749512,
          -13.992074966430664,
          -6.4094414710998535,
          -3.297873020172119,
          12.1973295211792,
          -3.1592535972595215,
          -6.249051094055176,
          -6.3072686195373535,
          12.563543319702148,
          -1.5146583318710327,
          15.596683502197266,
          13.3384370803833,
          -0.4583064615726471,
          -2.7507760524749756,
          -2.113476276397705,
          13.69385814666748,
          3.6004767417907715,
          -4.7911882400512695,
          4.433813571929932,
          13.771828651428223,
          10.6946382522583,
          -2.911100387573242,
          1.0982606410980225,
          -13.191890716552734,
          7.520763874053955,
          -7.709122657775879,
          0.6729317307472229,
          -9.638496398925781,
          3.0519046783447266,
          10.333328247070312,
          -7.440855979919434,
          -16.96725845336914,
          -6.664391040802002,
          3.4492478370666504,
          -11.741637229919434,
          -4.538964748382568,
          -7.205470085144043,
          -1.6077864170074463,
          -6.945641994476318,
          7.888009071350098,
          7.918267250061035,
          0.6419464945793152,
          -4.307684421539307,
          -6.668238639831543,
          5.677812099456787,
          11.383527755737305,
          -4.513454437255859,
          12.448822021484375,
          -4.060354709625244,
          1.9249448776245117,
          -2.9406630992889404,
          -4.19373083114624,
          -9.973827362060547,
          4.831085205078125,
          -4.4716901779174805,
          3.460615396499634,
          -3.1633520126342773,
          14.415983200073242,
          -9.407073020935059,
          15.10523509979248,
          -7.615938186645508,
          -4.3369317054748535,
          -1.8691747188568115,
          9.445618629455566,
          0.9822177886962891,
          12.61705207824707,
          13.920380592346191,
          10.380446434020996,
          8.882089614868164,
          6.369938373565674,
          4.072168350219727,
          -2.873098373413086,
          6.91502046585083,
          -3.22967529296875,
          -11.215507507324219,
          -6.92706823348999,
          5.425067901611328,
          15.907769203186035,
          -3.241431474685669,
          -1.8045140504837036,
          9.204656600952148,
          -7.283186435699463,
          10.031187057495117,
          8.97165298461914,
          -2.0058600902557373,
          -6.673842430114746,
          11.317841529846191,
          -12.752564430236816,
          -17.59456443786621,
          3.0056984424591064,
          -3.67899751663208,
          -5.137117862701416,
          -2.7078890800476074,
          -10.984224319458008,
          -8.32686996459961,
          2.2725722789764404,
          -5.224391937255859,
          -6.49057674407959,
          -3.048241376876831,
          4.648525714874268,
          -4.939822196960449,
          10.930670738220215,
          0.16910310089588165,
          2.108210325241089,
          -4.465591907501221,
          3.529597520828247,
          9.212212562561035,
          -4.89689826965332,
          1.2397866249084473,
          -4.858681678771973,
          -5.07418966293335,
          -5.643784046173096,
          -11.382452964782715,
          14.59001350402832,
          -1.9534448385238647,
          -4.315365314483643,
          -13.318360328674316,
          -17.7822208404541,
          -13.109100341796875,
          -11.793185234069824,
          -12.450236320495605,
          -17.668643951416016,
          5.271805763244629,
          -3.782386302947998,
          8.449416160583496,
          -14.992168426513672,
          -5.744833469390869,
          3.273195505142212,
          0.1379864513874054,
          -5.53760290145874,
          -8.881473541259766,
          -1.168427586555481,
          13.896111488342285,
          0.2243097722530365,
          -9.527607917785645,
          -8.944621086120605,
          4.12808895111084,
          -4.8422532081604,
          -2.4500932693481445,
          -9.049904823303223,
          -2.7267863750457764,
          -8.637032508850098,
          1.9897620677947998,
          -13.097851753234863,
          -4.747673034667969,
          -4.4702372550964355,
          13.509631156921387,
          -12.488122940063477,
          15.252900123596191,
          11.743911743164062,
          2.8371267318725586,
          -3.3420655727386475,
          -2.7663543224334717,
          -5.933026313781738,
          14.395306587219238,
          4.4703569412231445,
          5.7492876052856445,
          16.1214542388916,
          15.334547996520996,
          -5.806344509124756,
          7.486414432525635,
          8.172642707824707,
          6.7422404289245605,
          10.851247787475586,
          -4.486481666564941,
          15.011495590209961,
          -4.192426681518555,
          -15.520400047302246,
          -16.913362503051758,
          -11.348891258239746,
          -4.110236644744873,
          -3.442669153213501,
          -4.217199325561523,
          -13.645108222961426,
          -2.601632595062256,
          13.656805038452148,
          -16.333158493041992,
          9.800110816955566,
          -5.060370445251465,
          2.377776622772217,
          9.082877159118652,
          -3.9707891941070557,
          -16.668418884277344,
          8.181483268737793,
          -3.8989014625549316,
          13.970361709594727,
          -6.892076015472412,
          14.178268432617188,
          14.189973831176758,
          7.917966842651367,
          -3.695103406906128,
          8.58090877532959,
          -4.523833751678467,
          12.184015274047852,
          11.055428504943848,
          -5.084356307983398,
          -8.640955924987793,
          -2.8950717449188232,
          -5.860874652862549,
          -1.6873294115066528,
          13.708261489868164,
          0.37489545345306396,
          -9.540060043334961,
          14.67199993133545,
          -3.9356658458709717,
          -4.923050403594971,
          -11.810940742492676,
          13.389864921569824,
          -9.873624801635742,
          0.2981511652469635,
          -1.7591696977615356,
          -4.71621561050415,
          -6.550704002380371,
          -16.00755500793457,
          -8.81709098815918,
          -3.046203136444092,
          2.610764265060425,
          -5.566410064697266,
          14.863734245300293,
          7.114323616027832,
          0.794249951839447,
          -4.517364025115967,
          -11.354792594909668,
          -4.362096309661865,
          -4.704843997955322,
          13.69388198852539,
          -16.960693359375,
          1.886422872543335,
          -2.516718626022339,
          5.188710689544678,
          -2.792351245880127,
          4.872161865234375,
          12.829476356506348,
          -3.6572163105010986,
          5.986901760101318,
          15.254743576049805,
          -6.659829616546631,
          -2.804194211959839,
          -12.577470779418945,
          0.8367147445678711,
          -10.123701095581055,
          -0.9534803628921509,
          -12.659045219421387,
          -2.898536443710327,
          5.3004231452941895,
          -2.085670232772827,
          -3.8595433235168457,
          -9.137438774108887,
          -11.499313354492188,
          -15.83538818359375,
          5.625295162200928,
          2.837130308151245,
          14.569265365600586,
          0.8216127157211304,
          11.810139656066895,
          -6.400327205657959,
          16.00450325012207,
          15.030293464660645,
          -4.1972246170043945,
          -15.061972618103027,
          -15.67912483215332,
          13.96116828918457,
          -9.065796852111816,
          3.09928035736084,
          -8.105557441711426,
          -2.938584804534912,
          -1.3388700485229492,
          1.084201693534851,
          -8.857888221740723,
          -4.4353156089782715,
          -7.7283806800842285,
          0.7523701190948486,
          -3.9583866596221924,
          -3.5408670902252197,
          -5.747369289398193,
          8.03311538696289,
          -3.664105176925659,
          4.356654167175293,
          -6.241181373596191,
          -0.6378337740898132,
          12.513378143310547,
          -4.204920291900635,
          -4.4182963371276855,
          13.206329345703125,
          -12.323507308959961,
          7.889369964599609,
          9.861655235290527,
          8.609391212463379,
          -2.9183521270751953,
          -8.153290748596191,
          11.720672607421875,
          7.889873027801514,
          -3.003406286239624,
          -4.519739151000977,
          6.421995162963867,
          0.0741809532046318,
          5.749244689941406,
          -6.167921543121338,
          -2.2230727672576904,
          6.997076034545898,
          3.2720601558685303,
          13.983105659484863,
          -5.844010829925537,
          -4.754223823547363,
          14.829473495483398,
          8.936015129089355,
          -7.774494171142578,
          -8.68830680847168,
          14.6630859375,
          10.663578987121582,
          1.3371963500976562,
          -3.953014612197876,
          -0.007191438227891922,
          12.029569625854492,
          2.7056806087493896,
          1.9357085227966309,
          -3.8310115337371826,
          3.3385069370269775,
          11.466089248657227,
          -5.302657604217529,
          2.717916250228882,
          -13.600558280944824,
          -11.883875846862793,
          -8.528692245483398,
          -2.650838851928711,
          15.132772445678711,
          -5.79124116897583,
          -2.2821428775787354,
          -7.231807708740234,
          -13.804683685302734,
          3.4726667404174805,
          5.153353214263916,
          4.444180488586426,
          -7.795468807220459,
          1.7470823526382446,
          -4.04713773727417,
          -1.121199131011963,
          -0.033733200281858444,
          15.672600746154785,
          -12.917450904846191,
          8.854732513427734,
          2.229395866394043,
          -0.1594320684671402,
          -6.901012420654297,
          3.8829848766326904,
          3.0255043506622314,
          15.885185241699219,
          -1.022167682647705,
          8.919220924377441,
          12.746259689331055,
          0.8277941346168518,
          -17.173385620117188,
          0.9129070043563843,
          14.968217849731445,
          4.664813995361328,
          -2.1443209648132324,
          7.9303975105285645,
          15.9896240234375,
          -4.627322673797607,
          4.307170391082764,
          1.0448579788208008,
          -15.994345664978027,
          14.376012802124023,
          -6.396100044250488,
          -5.971512794494629,
          1.0704952478408813,
          6.722727298736572,
          -12.953330993652344,
          -3.520669460296631,
          -4.508869171142578,
          -0.553862988948822,
          -4.7946672439575195,
          -4.042642593383789,
          -10.270017623901367,
          -3.6050736904144287,
          15.989598274230957,
          -9.895282745361328,
          11.122964859008789,
          -15.004366874694824,
          -4.8619384765625,
          15.606399536132812,
          -4.8848347663879395,
          -5.7342424392700195,
          8.21693229675293,
          -3.2771928310394287,
          -1.1572901010513306,
          5.021401405334473,
          11.52574348449707,
          11.612916946411133,
          14.205801010131836,
          -15.164101600646973,
          -5.5859551429748535,
          -4.749427318572998,
          -0.11162534356117249,
          13.472268104553223,
          -9.125277519226074,
          13.769698143005371,
          11.374866485595703,
          16.084148406982422,
          6.3208818435668945,
          10.855172157287598,
          -5.958139896392822,
          -8.323481559753418,
          15.50229549407959,
          1.500983715057373,
          3.198329210281372,
          -7.053008079528809,
          -12.901718139648438,
          -4.686759948730469,
          0.6635281443595886,
          -0.35311901569366455,
          -4.403113842010498,
          -17.26203727722168,
          -1.7950056791305542,
          10.581910133361816,
          -14.427445411682129,
          15.626953125,
          -1.3820369243621826,
          7.280073642730713,
          -2.116213083267212,
          -6.231756687164307,
          -5.090023040771484,
          -15.4368896484375,
          -11.14161491394043,
          11.019209861755371,
          -15.146020889282227,
          15.802053451538086,
          11.506211280822754,
          -4.68480110168457,
          -0.5208472609519958,
          -9.40609359741211,
          11.844430923461914,
          -11.557066917419434,
          -1.9742047786712646,
          -1.664842128753662,
          -8.813465118408203,
          -11.046305656433105,
          -10.754559516906738,
          -4.548263072967529,
          -4.441629886627197,
          -3.7385287284851074,
          6.622359275817871,
          5.748691082000732,
          -6.198487281799316,
          14.31149959564209,
          13.558416366577148,
          6.539140224456787,
          -1.723935604095459,
          -8.096620559692383,
          -0.5932905077934265,
          7.8877716064453125,
          -12.242264747619629,
          -16.002779006958008,
          15.42043399810791,
          -0.4855465590953827,
          -6.258527755737305,
          -10.803935050964355,
          15.22514820098877,
          -4.405027389526367,
          -13.400147438049316,
          13.531661033630371,
          -3.8423566818237305,
          10.141599655151367,
          -4.539872646331787,
          8.898448944091797,
          7.263024806976318,
          5.124932765960693,
          11.116437911987305,
          -5.034805774688721,
          15.990336418151855,
          -0.03214479237794876,
          15.691729545593262,
          -4.832632064819336,
          -4.696789264678955,
          -15.156323432922363,
          12.286669731140137,
          14.816727638244629,
          13.75498104095459,
          4.566366672515869,
          -12.077876091003418,
          -5.605885982513428,
          -3.5427985191345215,
          9.098587036132812,
          5.377411842346191,
          1.838419795036316,
          -4.60485315322876,
          -3.7054970264434814,
          -10.036051750183105,
          -17.701629638671875,
          -4.659396648406982,
          -4.681933403015137,
          -2.902632713317871,
          -6.270256042480469,
          -1.9681421518325806,
          5.613258361816406,
          0.7804047465324402,
          -15.23420238494873,
          -4.829614639282227,
          -11.54209041595459,
          -4.1971564292907715,
          -4.5531005859375,
          -3.937086582183838,
          -3.883391857147217,
          5.408604145050049,
          -13.287351608276367,
          4.80569314956665,
          13.23094367980957,
          -0.05330764129757881,
          -0.13243332505226135,
          0.058903589844703674,
          -5.306395530700684,
          -3.063992738723755,
          -3.7738397121429443,
          -9.765058517456055,
          -2.8768603801727295,
          -3.530827045440674,
          15.365152359008789,
          2.6051430702209473,
          -7.533292293548584,
          -3.25877046585083,
          -6.852996826171875,
          -4.360536098480225,
          -5.675545692443848,
          10.939197540283203,
          -2.9653053283691406,
          -5.753240585327148,
          -5.246122360229492,
          -2.9132192134857178,
          -10.527752876281738,
          -3.93578839302063,
          13.887899398803711,
          -2.59379506111145,
          -8.383135795593262,
          15.712268829345703,
          -16.54800033569336,
          -4.738614082336426,
          -5.966194152832031,
          3.2472734451293945,
          -6.4996232986450195,
          3.9293200969696045,
          -8.602150917053223,
          -0.8397495746612549,
          -7.214209079742432,
          -7.620337963104248,
          12.331496238708496,
          -10.945345878601074,
          3.922124147415161,
          1.49690842628479,
          9.339261054992676,
          -4.2710041999816895,
          -4.038884162902832,
          8.526613235473633,
          -8.272551536560059,
          -0.11635328829288483,
          -4.678426265716553,
          -6.5510454177856445,
          -10.026233673095703,
          2.550016403198242,
          -8.497239112854004,
          0.633557140827179,
          -3.098578453063965,
          15.582985877990723,
          -4.511083126068115,
          -0.7045160531997681,
          2.2696712017059326,
          0.5127761960029602,
          -5.006061553955078,
          -11.106354713439941,
          -5.24612283706665,
          -14.23536491394043,
          10.395357131958008,
          -3.377751588821411,
          14.658421516418457,
          -2.8568830490112305,
          -3.489590644836426,
          -7.23050594329834,
          -3.1465837955474854,
          -11.329559326171875,
          1.4745912551879883,
          12.336669921875,
          10.867281913757324,
          0.14103493094444275,
          -4.034538269042969,
          6.080623149871826,
          -6.862990856170654,
          15.980969429016113,
          11.294246673583984,
          -4.711780548095703,
          3.1290268898010254,
          -6.939796447753906,
          -0.4524466097354889,
          -2.6756105422973633,
          -4.77556848526001,
          5.690981388092041,
          -5.346356391906738,
          14.68492603302002,
          -8.289230346679688,
          11.494240760803223,
          -10.71756362915039,
          -17.592466354370117,
          13.693815231323242,
          14.501830101013184,
          -16.620620727539062,
          -16.05879020690918,
          -3.8435750007629395,
          -1.8810973167419434,
          6.6845479011535645,
          -14.786833763122559,
          -3.2333621978759766,
          14.769927978515625,
          15.606943130493164,
          -4.064339637756348,
          -16.891273498535156,
          -11.122562408447266,
          -12.66184139251709,
          13.113127708435059,
          -4.093589782714844,
          -11.158546447753906,
          -4.506839752197266,
          14.419148445129395,
          -0.6920333504676819,
          -6.105448246002197,
          9.331360816955566,
          10.777815818786621,
          7.904916763305664,
          -4.265168190002441,
          0.9361799955368042,
          -6.514969348907471,
          -14.857705116271973,
          -10.944369316101074,
          -11.228276252746582,
          -6.079469203948975,
          -15.321029663085938,
          11.082239151000977,
          -14.075865745544434,
          -9.797099113464355,
          13.079282760620117,
          10.18708610534668,
          -6.726423263549805,
          -15.721762657165527,
          -1.760088324546814,
          -15.959319114685059,
          -4.217522621154785,
          -16.25040626525879,
          11.39766788482666,
          10.970959663391113,
          -10.527786254882812,
          12.061554908752441,
          -3.6781485080718994,
          -11.825464248657227,
          8.76912784576416,
          5.953967571258545,
          12.352521896362305,
          0.7334511876106262,
          2.998333215713501,
          -5.461789131164551,
          7.158480167388916,
          -4.028480052947998,
          -11.538455963134766,
          -14.37564468383789,
          3.1334617137908936,
          -6.372053146362305,
          -16.07533836364746,
          -2.983156681060791
         ],
         "z": [
          3.738556146621704,
          1.2203580141067505,
          1.4586243629455566,
          3.216381788253784,
          -1.9624525308609009,
          3.620681047439575,
          -0.5295436978340149,
          -0.2597693204879761,
          3.161146879196167,
          2.2080295085906982,
          -4.787882328033447,
          1.6871649026870728,
          -3.8886141777038574,
          6.5302019119262695,
          -0.30448704957962036,
          -4.895205974578857,
          -2.8238365650177,
          3.814985990524292,
          2.3643462657928467,
          1.1712288856506348,
          5.423525810241699,
          -0.12064448744058609,
          1.6314406394958496,
          2.4713799953460693,
          -6.636734962463379,
          3.982797145843506,
          -5.5038933753967285,
          -5.892072677612305,
          0.6935446262359619,
          3.4374232292175293,
          0.19689427316188812,
          -5.905367851257324,
          -3.0368435382843018,
          0.6536805629730225,
          1.5905240774154663,
          1.5856865644454956,
          5.297921180725098,
          -0.30278879404067993,
          2.296806812286377,
          -0.8121265769004822,
          1.368367314338684,
          -0.08135974407196045,
          1.6035569906234741,
          1.2640929222106934,
          2.693413734436035,
          3.8445143699645996,
          2.7845206260681152,
          -0.8449500203132629,
          2.1211020946502686,
          3.748772382736206,
          -0.052782393991947174,
          1.6465556621551514,
          0.016000883653759956,
          6.586876392364502,
          2.6284496784210205,
          3.169459819793701,
          0.8089644312858582,
          2.3132383823394775,
          2.1563589572906494,
          2.9216389656066895,
          -1.2117164134979248,
          6.452409744262695,
          6.147794246673584,
          3.2328100204467773,
          3.2369487285614014,
          6.1481709480285645,
          -5.030714988708496,
          -6.12675666809082,
          3.9452195167541504,
          -0.9718484878540039,
          5.215428829193115,
          5.630489349365234,
          0.730377197265625,
          3.8148720264434814,
          0.845151424407959,
          -2.579744815826416,
          3.48121976852417,
          -2.7544972896575928,
          -0.22542046010494232,
          1.494875431060791,
          -2.4317634105682373,
          3.2853870391845703,
          2.8576724529266357,
          0.5403797030448914,
          3.2274045944213867,
          -4.157876968383789,
          -4.394537448883057,
          2.4368364810943604,
          -1.1262317895889282,
          -2.1920976638793945,
          -2.723175525665283,
          -0.3275025188922882,
          -1.0256563425064087,
          0.6632221341133118,
          6.586948871612549,
          5.7894744873046875,
          -1.4196254014968872,
          3.8919103145599365,
          4.327083110809326,
          -7.128812313079834,
          3.4645767211914062,
          -4.648133277893066,
          -0.39479175209999084,
          -1.3740507364273071,
          2.0397613048553467,
          0.8429863452911377,
          4.790685653686523,
          2.7313597202301025,
          -2.049851655960083,
          -6.896000385284424,
          6.22014045715332,
          2.4822261333465576,
          2.373602867126465,
          -0.6717316508293152,
          -1.0279141664505005,
          1.8257780075073242,
          -2.6783230304718018,
          2.968885660171509,
          -4.376771926879883,
          4.068450450897217,
          -7.867045879364014,
          4.139537334442139,
          -6.659423351287842,
          -3.978501081466675,
          -0.20125284790992737,
          -2.8809707164764404,
          -1.7420099973678589,
          -2.5120351314544678,
          -2.0366973876953125,
          -1.3372734785079956,
          -1.2233420610427856,
          -1.550125002861023,
          -4.460566997528076,
          1.754669189453125,
          -0.08262843638658524,
          2.032883405685425,
          -1.7232749462127686,
          -5.003726482391357,
          -2.8166990280151367,
          4.411658763885498,
          6.025058746337891,
          5.063624858856201,
          1.4159787893295288,
          5.730085849761963,
          2.4929111003875732,
          -4.672360897064209,
          3.0347647666931152,
          -0.2645096182823181,
          0.9782559275627136,
          -5.695857048034668,
          2.362278461456299,
          -4.224404811859131,
          1.6158133745193481,
          -8.282052993774414,
          1.443774938583374,
          0.8575791120529175,
          -6.537775039672852,
          -0.4989011287689209,
          -6.6563191413879395,
          2.6533100605010986,
          2.5414302349090576,
          -3.6332149505615234,
          2.6203060150146484,
          -2.4439170360565186,
          -5.748791694641113,
          0.052306029945611954,
          -7.844361782073975,
          -6.251163959503174,
          -6.276910781860352,
          6.486142635345459,
          -6.002440929412842,
          3.3863253593444824,
          -3.2958807945251465,
          1.1260437965393066,
          -1.6139761209487915,
          1.2357388734817505,
          4.019250869750977,
          -4.270069122314453,
          -2.9220566749572754,
          0.9320732951164246,
          -0.23263080418109894,
          3.9275994300842285,
          1.5535544157028198,
          3.459510326385498,
          -0.09846054017543793,
          -0.720699667930603,
          -2.6751649379730225,
          3.4710464477539062,
          -3.9271483421325684,
          4.180634021759033,
          -1.607670545578003,
          4.722142696380615,
          3.640489339828491,
          -6.333174228668213,
          0.09643924981355667,
          0.844074547290802,
          3.303220272064209,
          4.0766096115112305,
          6.317381381988525,
          -6.29669713973999,
          -6.541618824005127,
          1.6015347242355347,
          3.9411916732788086,
          -1.716813087463379,
          -0.16420437395572662,
          6.237836837768555,
          1.7706886529922485,
          -4.279038906097412,
          0.30864793062210083,
          1.1760509014129639,
          3.445627450942993,
          4.532830238342285,
          4.284397125244141,
          -1.1312304735183716,
          1.8408393859863281,
          -2.703413248062134,
          3.748647451400757,
          2.8073339462280273,
          0.4209660291671753,
          3.480886936187744,
          2.227342128753662,
          6.078254699707031,
          4.708893299102783,
          3.710996150970459,
          -3.024188995361328,
          3.4903481006622314,
          -3.1525163650512695,
          3.130854368209839,
          1.1876246929168701,
          3.057023286819458,
          -1.7142417430877686,
          0.08963294327259064,
          -0.706534206867218,
          -4.0533671379089355,
          -8.19766902923584,
          -6.346734523773193,
          2.9662516117095947,
          -4.348563194274902,
          4.035895824432373,
          -2.182568311691284,
          -1.408414363861084,
          0.8911200165748596,
          -6.754822254180908,
          3.4093005657196045,
          3.387129545211792,
          -1.3663954734802246,
          3.3168752193450928,
          -7.9828033447265625,
          -4.02806282043457,
          0.16842427849769592,
          0.8840363025665283,
          -3.368298292160034,
          1.3364204168319702,
          5.356405735015869,
          -5.5884222984313965,
          -1.4241902828216553,
          -5.994035243988037,
          -0.6792224049568176,
          0.16283783316612244,
          4.174093723297119,
          -8.029911994934082,
          -6.016136169433594,
          3.1823570728302,
          -1.430167317390442,
          0.8788982033729553,
          -0.6246467232704163,
          -5.055606842041016,
          3.4144554138183594,
          2.506253242492676,
          -6.0290093421936035,
          6.611795902252197,
          3.52935791015625,
          -2.8559858798980713,
          -0.7120042443275452,
          0.15865322947502136,
          -1.1291773319244385,
          3.0684878826141357,
          0.6937240958213806,
          2.756235361099243,
          0.6063889265060425,
          2.026578187942505,
          1.7796224355697632,
          -3.9789130687713623,
          3.561326265335083,
          -5.8507537841796875,
          -2.25232195854187,
          -4.368588924407959,
          -1.8812702894210815,
          -6.796045780181885,
          2.4768636226654053,
          3.762410879135132,
          0.2552942633628845,
          -5.877560615539551,
          -1.4557756185531616,
          -6.341597557067871,
          4.238122940063477,
          -6.6807861328125,
          -0.6609611511230469,
          -7.940215587615967,
          1.3259003162384033,
          4.3201704025268555,
          1.5503225326538086,
          -1.5622516870498657,
          6.334470272064209,
          -5.712371826171875,
          3.849663734436035,
          0.7579123973846436,
          -3.768803358078003,
          -3.0491693019866943,
          2.8659417629241943,
          -6.472815990447998,
          -3.1504886150360107,
          2.8530569076538086,
          0.48513951897621155,
          2.1027724742889404,
          3.471205711364746,
          2.857454299926758,
          -6.108330726623535,
          -5.564884662628174,
          -3.5973308086395264,
          2.8556487560272217,
          3.7651636600494385,
          -6.9075140953063965,
          0.21255362033843994,
          -0.7886124849319458,
          -7.30112361907959,
          -0.7024112343788147,
          1.8267912864685059,
          0.16268861293792725,
          1.501177191734314,
          -0.5523964762687683,
          4.436350345611572,
          -1.8329582214355469,
          -0.9449940919876099,
          -2.0306339263916016,
          0.74483323097229,
          -5.28086519241333,
          6.541234970092773,
          1.516743540763855,
          -1.3133800029754639,
          -2.8085813522338867,
          4.632078647613525,
          2.4692294597625732,
          3.0159168243408203,
          3.6788666248321533,
          1.6340019702911377,
          0.4572676420211792,
          -5.819459438323975,
          2.706002712249756,
          4.481165409088135,
          -3.7846741676330566,
          3.7650182247161865,
          5.457387447357178,
          6.569707870483398,
          -7.71306037902832,
          0.5404617190361023,
          -2.4396049976348877,
          1.4355369806289673,
          0.021998511627316475,
          1.2408379316329956,
          -1.6664605140686035,
          2.9866020679473877,
          1.0454996824264526,
          5.726208209991455,
          -1.3689006567001343,
          3.280914306640625,
          -0.1650208681821823,
          1.636043667793274,
          2.3888354301452637,
          1.7129462957382202,
          0.5160491466522217,
          -0.08768686652183533,
          3.7013025283813477,
          -2.9192237854003906,
          5.964756965637207,
          1.8609082698822021,
          -5.979909896850586,
          3.2798612117767334,
          -5.910797595977783,
          3.2839200496673584,
          1.1376616954803467,
          5.7443695068359375,
          5.202230453491211,
          2.836130380630493,
          2.0979669094085693,
          -7.5539727210998535,
          3.2211594581604004,
          -7.714210033416748,
          -4.391998767852783,
          -2.300408124923706,
          -7.730234622955322,
          3.2139859199523926,
          1.0855668783187866,
          4.981357097625732,
          1.7262096405029297,
          1.0406278371810913,
          0.5630121827125549,
          4.179263114929199,
          0.7023974061012268,
          1.5746712684631348,
          -5.9621381759643555,
          3.4956133365631104,
          1.3892983198165894,
          0.4866945445537567,
          2.189324140548706,
          -3.886939287185669,
          -7.428499698638916,
          -1.3708161115646362,
          5.0651140213012695,
          -4.746870517730713,
          4.768306732177734,
          -2.226693868637085,
          2.267423629760742,
          -4.469950199127197,
          -6.999712944030762,
          4.697000026702881,
          4.404617786407471,
          -0.1407521516084671,
          -7.5432353019714355,
          3.5794296264648438,
          -7.758555889129639,
          -1.6026901006698608,
          6.077945232391357,
          -1.8356983661651611,
          -4.371799468994141,
          -1.65976881980896,
          -2.9536311626434326,
          1.848056435585022,
          -1.4349477291107178,
          2.6124367713928223,
          -3.2054450511932373,
          -1.6517093181610107,
          2.3530027866363525,
          6.075128078460693,
          3.9873974323272705,
          -6.912622928619385,
          -5.393784046173096,
          1.9107060432434082,
          4.8402419090271,
          6.379158973693848,
          2.3448092937469482,
          -8.153910636901855,
          -5.2990803718566895,
          2.910098075866699,
          -6.224923610687256,
          1.5141863822937012,
          -0.6209611296653748,
          3.9167089462280273,
          3.029005765914917,
          -6.126756191253662,
          3.4467129707336426,
          -7.6010260581970215,
          5.588973045349121,
          -7.129802703857422,
          0.764597475528717,
          3.468933582305908,
          2.60280704498291,
          1.6133369207382202,
          6.234976768493652,
          -3.77366304397583,
          -1.1366716623306274,
          0.7296589612960815,
          -6.095040321350098,
          4.484725475311279,
          1.8459452390670776,
          -4.2441534996032715,
          1.851918339729309,
          -0.9147050976753235,
          -4.108199596405029,
          4.485447883605957,
          -0.8466891050338745,
          -0.655687689781189,
          3.3348703384399414,
          3.8792288303375244,
          -5.867525100708008,
          -1.644054651260376,
          0.9233183860778809,
          2.99003267288208,
          2.795717239379883,
          1.8055915832519531,
          1.1396540403366089,
          3.086928367614746,
          -5.634537220001221,
          1.4000670909881592,
          -1.2781870365142822,
          3.9360344409942627,
          -1.894965410232544,
          4.932504177093506,
          6.544540882110596,
          1.097280740737915,
          -7.859004497528076,
          6.251405715942383,
          3.622593402862549,
          -4.125158786773682,
          -6.584083080291748,
          1.102449893951416,
          -6.024627208709717,
          -7.260422229766846,
          5.304445266723633,
          0.056129321455955505,
          4.903463840484619,
          -8.189964294433594,
          -3.86912202835083,
          2.4459781646728516,
          3.619811534881592,
          4.830338478088379,
          1.988486886024475,
          3.671126365661621,
          0.5511433482170105,
          -0.693981409072876,
          5.0897016525268555,
          5.450573921203613,
          -1.450656533241272,
          1.5602834224700928,
          3.5934064388275146,
          -4.195309162139893,
          -2.9981319904327393,
          0.0963171124458313,
          2.9916961193084717,
          -6.887529373168945,
          -6.508279800415039,
          0.9798587560653687,
          -6.002401351928711,
          -2.2124972343444824,
          -1.6959933042526245,
          2.959657669067383,
          -1.912346601486206,
          3.6219913959503174,
          2.8801450729370117,
          3.3225650787353516,
          -1.8832216262817383,
          2.6761388778686523,
          -2.644848346710205,
          3.715451717376709,
          -6.590325832366943,
          1.3029052019119263,
          3.3698463439941406,
          -5.774232864379883,
          0.9414736032485962,
          3.858765125274658,
          2.9406259059906006,
          2.9879677295684814,
          3.3171370029449463,
          -0.26081305742263794,
          -2.0114588737487793,
          3.7364418506622314,
          -6.715658664703369,
          -0.7682517170906067,
          2.764833688735962,
          -5.961645603179932,
          3.457523822784424,
          -2.1475069522857666,
          2.5538434982299805,
          -3.3034181594848633,
          -0.15668030083179474,
          -0.9346418380737305,
          1.7567676305770874,
          -3.232527494430542,
          -1.9465833902359009,
          -3.886587142944336,
          -3.2756152153015137,
          -2.7327802181243896,
          1.9193249940872192,
          -2.523585557937622,
          1.3167314529418945,
          -1.2910319566726685,
          2.2957279682159424,
          -0.6171765923500061,
          1.573137640953064,
          -6.8913068771362305,
          6.402038097381592,
          -1.4809699058532715,
          -0.11191268265247345,
          3.5036675930023193,
          2.981377363204956,
          6.150145530700684,
          -4.406172275543213,
          -0.053938787430524826,
          -2.375093460083008,
          -1.0160661935806274,
          3.3816378116607666,
          -0.8453977704048157,
          2.0216915607452393,
          0.677821934223175,
          0.038588281720876694,
          0.7337405681610107,
          3.3873214721679688,
          -4.711779594421387,
          4.814601898193359,
          -5.640078544616699,
          5.414965629577637,
          1.3046691417694092,
          -3.7651238441467285,
          -2.6743290424346924,
          2.6449520587921143,
          3.5449488162994385,
          1.2945305109024048,
          5.320129871368408,
          3.646739959716797,
          5.70000696182251,
          1.8420672416687012,
          3.679511547088623,
          2.7947165966033936,
          5.683477401733398,
          -2.022463083267212,
          -3.5763819217681885,
          2.7628304958343506,
          0.1960034817457199,
          3.3511345386505127,
          3.6242053508758545,
          1.094111680984497,
          5.089699745178223,
          -2.5731236934661865,
          6.614555358886719,
          -1.6795287132263184,
          1.8970386981964111,
          2.540496587753296,
          3.5726497173309326,
          -1.977254867553711,
          3.6088411808013916,
          3.893444299697876,
          2.098006010055542,
          1.0086541175842285,
          2.443870782852173,
          -8.291646003723145,
          6.003090858459473,
          6.389819145202637,
          3.8029942512512207,
          -8.020245552062988,
          1.3698879480361938,
          0.6868033409118652,
          -6.5949554443359375,
          1.2018284797668457,
          3.050614833831787,
          -1.8612258434295654,
          -6.14670991897583,
          3.665860414505005,
          2.9933722019195557,
          1.4693546295166016,
          3.40226411819458,
          -1.4265081882476807,
          1.049561619758606,
          -6.997684478759766,
          -1.1566842794418335,
          3.6176958084106445,
          -1.1615029573440552,
          -5.658374309539795,
          -2.1673827171325684,
          4.082472324371338,
          0.7642229199409485,
          -3.0101664066314697,
          -4.90209436416626,
          -1.611809492111206,
          4.530280113220215,
          2.457411050796509,
          -6.93737268447876,
          -2.998136281967163,
          1.1842312812805176,
          -5.137596130371094,
          -2.5997657775878906,
          3.2761895656585693,
          4.296128749847412,
          -0.4606378972530365,
          -7.75258207321167,
          0.6735881567001343,
          -1.643785834312439,
          1.3538620471954346,
          1.8600448369979858,
          3.49249529838562,
          2.0495340824127197,
          -6.4157514572143555,
          1.8306233882904053,
          -6.102193832397461,
          -2.6658456325531006,
          -4.335080623626709,
          -3.5789501667022705,
          3.681230306625366,
          4.977787494659424,
          -2.1783549785614014,
          3.0520849227905273,
          3.0260226726531982,
          3.4510669708251953,
          3.651005268096924,
          -7.006579875946045,
          3.4397315979003906,
          1.7873203754425049,
          -0.050097741186618805,
          -3.5514345169067383,
          1.1034488677978516,
          4.03023624420166,
          4.459125995635986,
          0.7657172679901123,
          1.5533243417739868,
          -8.214776039123535,
          4.815258502960205,
          5.305778980255127,
          -2.405862331390381,
          -3.036696195602417,
          1.21481192111969,
          3.6755638122558594,
          -2.07966685295105,
          3.348904848098755,
          -6.516477584838867,
          1.1658381223678589,
          -2.683258056640625,
          4.7578253746032715,
          3.1267154216766357,
          4.303439140319824,
          -5.961109161376953,
          -3.753596544265747,
          -3.5480194091796875,
          3.096025228500366,
          5.035389423370361,
          2.2749826908111572,
          -2.8504436016082764,
          -2.641054391860962,
          -5.964056491851807,
          2.3451833724975586,
          0.767174243927002,
          -4.166829586029053,
          -6.297304630279541,
          3.643690586090088,
          1.2122063636779785,
          -0.02330753393471241,
          2.2720587253570557,
          -4.3175153732299805,
          -1.0312693119049072,
          2.2425308227539062,
          -2.9590981006622314,
          0.7996290326118469,
          -4.008419036865234,
          -0.5569400191307068,
          -1.9135463237762451,
          -7.397332668304443,
          2.795924425125122,
          2.3451130390167236,
          2.4494848251342773,
          -0.25026386976242065,
          3.8969130516052246,
          0.6294223666191101,
          3.250927209854126,
          -1.6139768362045288,
          -1.3226289749145508,
          -5.96124792098999,
          2.8048789501190186,
          -2.4319100379943848,
          -2.70550274848938,
          -2.156254529953003,
          2.5077431201934814,
          1.810395359992981,
          1.5354735851287842,
          3.3974711894989014,
          -7.515371799468994,
          -4.042372703552246,
          0.8594443202018738,
          2.1786961555480957,
          -3.032836437225342,
          -2.5461385250091553,
          1.8849619626998901,
          -5.881373405456543,
          -5.552927494049072,
          3.1431691646575928,
          -8.018507957458496,
          2.733140468597412,
          3.941129446029663,
          -4.371124744415283,
          0.3897242546081543,
          3.2335407733917236,
          3.7752983570098877,
          -6.764305114746094,
          6.521895408630371,
          -1.7202115058898926,
          3.1112849712371826,
          -3.648444652557373,
          -5.24537992477417,
          4.000465393066406,
          3.480815887451172,
          3.4328184127807617,
          1.5660758018493652,
          4.531355381011963,
          -5.049955368041992,
          3.419584274291992,
          3.2420284748077393,
          4.337298393249512,
          2.064182996749878,
          1.4817626476287842,
          0.9950038194656372,
          -0.8912884593009949,
          -1.4576562643051147,
          1.7880275249481201,
          1.3621656894683838,
          -1.4154466390609741,
          1.619258999824524,
          -2.941997766494751,
          -3.7861249446868896,
          -7.900532245635986,
          3.1884918212890625,
          -6.985098361968994,
          4.034164905548096,
          4.847598075866699,
          0.2194141298532486,
          -2.769944190979004,
          -2.997971534729004,
          -0.9267322421073914,
          0.5230349898338318,
          1.6891978979110718,
          -2.933274984359741,
          3.622485637664795,
          -8.15953540802002,
          3.3167781829833984,
          -0.07401560992002487,
          3.819084644317627,
          3.6873042583465576,
          1.3514025211334229,
          6.542346954345703,
          -1.2081358432769775,
          3.0541841983795166,
          2.8305087089538574,
          -0.9895282983779907,
          3.5106451511383057,
          -0.6491246819496155,
          1.9132276773452759,
          -1.0973931550979614,
          -7.26268196105957,
          2.896379232406616,
          2.1543872356414795,
          -2.478388547897339,
          -1.8236377239227295,
          0.7293382883071899,
          2.0276753902435303,
          1.9802963733673096,
          0.6914920806884766,
          -4.767309188842773,
          -1.039360761642456,
          3.687614917755127,
          -4.514032363891602,
          0.0546393059194088,
          0.6789999008178711,
          2.787381410598755,
          4.030828475952148,
          3.5564351081848145,
          5.6859002113342285,
          1.8164433240890503,
          -6.007216453552246,
          -4.0300188064575195,
          -7.1737189292907715,
          -5.668083190917969,
          2.3948774337768555,
          3.085150957107544,
          0.08559075742959976,
          4.181459903717041,
          6.2603936195373535,
          -0.6847171187400818,
          4.852320671081543,
          -2.869546413421631,
          3.5085582733154297,
          3.3682260513305664,
          -0.6498501300811768,
          -6.8658952713012695,
          2.058720111846924,
          -1.5011587142944336,
          -5.622539043426514,
          2.1119911670684814,
          -3.528895139694214,
          3.433497667312622,
          -3.643805503845215,
          -2.1628036499023438,
          3.3831098079681396,
          6.519628524780273,
          6.486139297485352,
          1.571427583694458,
          4.307140350341797,
          1.7274832725524902,
          -7.700776100158691,
          4.622122287750244,
          -5.008541107177734,
          2.440927028656006,
          -4.350902080535889,
          -8.095998764038086,
          -6.658407688140869,
          1.177173376083374,
          1.8469170331954956,
          3.3006467819213867,
          -4.472187519073486,
          -3.026155710220337,
          2.334988832473755,
          3.435967206954956,
          5.70374059677124,
          2.77597713470459,
          -1.7180964946746826,
          2.1629319190979004,
          1.854360818862915,
          -7.826014041900635,
          1.915824294090271,
          3.2295823097229004,
          -0.4265642464160919,
          3.123685836791992,
          -4.219438552856445,
          1.3274420499801636,
          2.634143114089966,
          -8.082409858703613,
          -6.660356044769287,
          0.9054867625236511,
          1.238069772720337,
          -1.50101637840271,
          1.501022219657898,
          -4.108135223388672,
          6.375250816345215,
          1.9595476388931274,
          4.910703182220459,
          2.056495189666748,
          -1.9727401733398438,
          -7.601195812225342,
          2.060494899749756,
          -0.07710856199264526,
          1.782529354095459,
          -7.398805618286133,
          -4.40444803237915,
          -7.269150257110596,
          5.383456707000732,
          3.335878849029541,
          1.7749959230422974,
          1.0837464332580566,
          6.4792561531066895,
          -5.126051425933838,
          6.448992729187012,
          -0.5416480302810669,
          3.815730094909668,
          3.435967206954956,
          3.893723249435425,
          -5.224968433380127,
          2.584895133972168,
          2.328429937362671,
          6.093655109405518,
          5.716621398925781,
          -0.9352888464927673,
          3.1985392570495605,
          4.153085231781006,
          5.00994873046875,
          -0.7149568796157837,
          0.516555905342102,
          -4.094603061676025,
          1.6075352430343628,
          -5.974879741668701,
          1.1185016632080078,
          2.687011957168579,
          -1.7842187881469727,
          4.174093246459961,
          -2.8738763332366943,
          -0.11984724551439285,
          -6.790638446807861,
          6.041629791259766,
          -1.717401146888733,
          1.5085221529006958,
          3.8916265964508057,
          1.0726662874221802,
          -8.141754150390625,
          -2.9744625091552734,
          1.7816411256790161,
          3.0234992504119873,
          1.860856056213379,
          4.571839809417725,
          3.30759334564209,
          2.9830551147460938,
          -1.6224526166915894,
          -3.590003490447998,
          2.8122618198394775,
          3.984968662261963,
          -0.35365015268325806,
          -2.105203866958618,
          2.4394712448120117,
          0.8783838748931885,
          2.2887179851531982,
          4.075235366821289,
          3.972836971282959,
          -1.1874194145202637,
          0.3603469133377075,
          3.089123010635376,
          4.194221019744873,
          3.320127010345459,
          -6.803109645843506,
          -7.845001220703125,
          -2.1456687450408936,
          1.898008942604065,
          1.7224138975143433,
          1.8214836120605469,
          4.974808692932129,
          0.0420207679271698,
          3.4718358516693115,
          1.5630414485931396,
          3.1794793605804443,
          2.671938896179199,
          1.6056287288665771,
          -1.5907678604125977,
          3.665010690689087,
          1.1635146141052246,
          -3.673168659210205,
          -5.639942169189453,
          0.1688106507062912,
          2.970144271850586,
          5.238018989562988,
          3.0092227458953857,
          -0.8511546850204468,
          3.5969080924987793,
          -3.067781448364258,
          0.5609966516494751,
          -7.313309669494629,
          -2.341630697250366,
          -5.8608856201171875,
          -6.62609338760376,
          1.958863615989685,
          0.8306077718734741,
          -1.4721519947052002,
          5.914741516113281,
          -4.0257110595703125,
          3.7583305835723877,
          0.9018281102180481,
          -2.112102746963501,
          -6.891759395599365,
          3.9494993686676025,
          -2.879640579223633,
          2.55588698387146,
          3.5400497913360596,
          4.944112777709961
         ]
        }
       ],
       "layout": {
        "coloraxis": {
         "colorbar": {
          "title": {
           "text": "pc_3"
          }
         },
         "colorscale": [
          [
           0,
           "#0d0887"
          ],
          [
           0.1111111111111111,
           "#46039f"
          ],
          [
           0.2222222222222222,
           "#7201a8"
          ],
          [
           0.3333333333333333,
           "#9c179e"
          ],
          [
           0.4444444444444444,
           "#bd3786"
          ],
          [
           0.5555555555555556,
           "#d8576b"
          ],
          [
           0.6666666666666666,
           "#ed7953"
          ],
          [
           0.7777777777777778,
           "#fb9f3a"
          ],
          [
           0.8888888888888888,
           "#fdca26"
          ],
          [
           1,
           "#f0f921"
          ]
         ],
         "showscale": false
        },
        "height": 500,
        "legend": {
         "tracegroupgap": 0
        },
        "margin": {
         "t": 60
        },
        "scene": {
         "domain": {
          "x": [
           0,
           1
          ],
          "y": [
           0,
           1
          ]
         },
         "xaxis": {
          "title": {
           "text": "pc_1"
          }
         },
         "yaxis": {
          "title": {
           "text": "pc_2"
          }
         },
         "zaxis": {
          "title": {
           "text": "pc_3"
          }
         }
        },
        "showlegend": false,
        "template": {
         "data": {
          "bar": [
           {
            "error_x": {
             "color": "#2a3f5f"
            },
            "error_y": {
             "color": "#2a3f5f"
            },
            "marker": {
             "line": {
              "color": "#E5ECF6",
              "width": 0.5
             }
            },
            "type": "bar"
           }
          ],
          "barpolar": [
           {
            "marker": {
             "line": {
              "color": "#E5ECF6",
              "width": 0.5
             }
            },
            "type": "barpolar"
           }
          ],
          "carpet": [
           {
            "aaxis": {
             "endlinecolor": "#2a3f5f",
             "gridcolor": "white",
             "linecolor": "white",
             "minorgridcolor": "white",
             "startlinecolor": "#2a3f5f"
            },
            "baxis": {
             "endlinecolor": "#2a3f5f",
             "gridcolor": "white",
             "linecolor": "white",
             "minorgridcolor": "white",
             "startlinecolor": "#2a3f5f"
            },
            "type": "carpet"
           }
          ],
          "choropleth": [
           {
            "colorbar": {
             "outlinewidth": 0,
             "ticks": ""
            },
            "type": "choropleth"
           }
          ],
          "contour": [
           {
            "colorbar": {
             "outlinewidth": 0,
             "ticks": ""
            },
            "colorscale": [
             [
              0,
              "#0d0887"
             ],
             [
              0.1111111111111111,
              "#46039f"
             ],
             [
              0.2222222222222222,
              "#7201a8"
             ],
             [
              0.3333333333333333,
              "#9c179e"
             ],
             [
              0.4444444444444444,
              "#bd3786"
             ],
             [
              0.5555555555555556,
              "#d8576b"
             ],
             [
              0.6666666666666666,
              "#ed7953"
             ],
             [
              0.7777777777777778,
              "#fb9f3a"
             ],
             [
              0.8888888888888888,
              "#fdca26"
             ],
             [
              1,
              "#f0f921"
             ]
            ],
            "type": "contour"
           }
          ],
          "contourcarpet": [
           {
            "colorbar": {
             "outlinewidth": 0,
             "ticks": ""
            },
            "type": "contourcarpet"
           }
          ],
          "heatmap": [
           {
            "colorbar": {
             "outlinewidth": 0,
             "ticks": ""
            },
            "colorscale": [
             [
              0,
              "#0d0887"
             ],
             [
              0.1111111111111111,
              "#46039f"
             ],
             [
              0.2222222222222222,
              "#7201a8"
             ],
             [
              0.3333333333333333,
              "#9c179e"
             ],
             [
              0.4444444444444444,
              "#bd3786"
             ],
             [
              0.5555555555555556,
              "#d8576b"
             ],
             [
              0.6666666666666666,
              "#ed7953"
             ],
             [
              0.7777777777777778,
              "#fb9f3a"
             ],
             [
              0.8888888888888888,
              "#fdca26"
             ],
             [
              1,
              "#f0f921"
             ]
            ],
            "type": "heatmap"
           }
          ],
          "heatmapgl": [
           {
            "colorbar": {
             "outlinewidth": 0,
             "ticks": ""
            },
            "colorscale": [
             [
              0,
              "#0d0887"
             ],
             [
              0.1111111111111111,
              "#46039f"
             ],
             [
              0.2222222222222222,
              "#7201a8"
             ],
             [
              0.3333333333333333,
              "#9c179e"
             ],
             [
              0.4444444444444444,
              "#bd3786"
             ],
             [
              0.5555555555555556,
              "#d8576b"
             ],
             [
              0.6666666666666666,
              "#ed7953"
             ],
             [
              0.7777777777777778,
              "#fb9f3a"
             ],
             [
              0.8888888888888888,
              "#fdca26"
             ],
             [
              1,
              "#f0f921"
             ]
            ],
            "type": "heatmapgl"
           }
          ],
          "histogram": [
           {
            "marker": {
             "colorbar": {
              "outlinewidth": 0,
              "ticks": ""
             }
            },
            "type": "histogram"
           }
          ],
          "histogram2d": [
           {
            "colorbar": {
             "outlinewidth": 0,
             "ticks": ""
            },
            "colorscale": [
             [
              0,
              "#0d0887"
             ],
             [
              0.1111111111111111,
              "#46039f"
             ],
             [
              0.2222222222222222,
              "#7201a8"
             ],
             [
              0.3333333333333333,
              "#9c179e"
             ],
             [
              0.4444444444444444,
              "#bd3786"
             ],
             [
              0.5555555555555556,
              "#d8576b"
             ],
             [
              0.6666666666666666,
              "#ed7953"
             ],
             [
              0.7777777777777778,
              "#fb9f3a"
             ],
             [
              0.8888888888888888,
              "#fdca26"
             ],
             [
              1,
              "#f0f921"
             ]
            ],
            "type": "histogram2d"
           }
          ],
          "histogram2dcontour": [
           {
            "colorbar": {
             "outlinewidth": 0,
             "ticks": ""
            },
            "colorscale": [
             [
              0,
              "#0d0887"
             ],
             [
              0.1111111111111111,
              "#46039f"
             ],
             [
              0.2222222222222222,
              "#7201a8"
             ],
             [
              0.3333333333333333,
              "#9c179e"
             ],
             [
              0.4444444444444444,
              "#bd3786"
             ],
             [
              0.5555555555555556,
              "#d8576b"
             ],
             [
              0.6666666666666666,
              "#ed7953"
             ],
             [
              0.7777777777777778,
              "#fb9f3a"
             ],
             [
              0.8888888888888888,
              "#fdca26"
             ],
             [
              1,
              "#f0f921"
             ]
            ],
            "type": "histogram2dcontour"
           }
          ],
          "mesh3d": [
           {
            "colorbar": {
             "outlinewidth": 0,
             "ticks": ""
            },
            "type": "mesh3d"
           }
          ],
          "parcoords": [
           {
            "line": {
             "colorbar": {
              "outlinewidth": 0,
              "ticks": ""
             }
            },
            "type": "parcoords"
           }
          ],
          "pie": [
           {
            "automargin": true,
            "type": "pie"
           }
          ],
          "scatter": [
           {
            "marker": {
             "colorbar": {
              "outlinewidth": 0,
              "ticks": ""
             }
            },
            "type": "scatter"
           }
          ],
          "scatter3d": [
           {
            "line": {
             "colorbar": {
              "outlinewidth": 0,
              "ticks": ""
             }
            },
            "marker": {
             "colorbar": {
              "outlinewidth": 0,
              "ticks": ""
             }
            },
            "type": "scatter3d"
           }
          ],
          "scattercarpet": [
           {
            "marker": {
             "colorbar": {
              "outlinewidth": 0,
              "ticks": ""
             }
            },
            "type": "scattercarpet"
           }
          ],
          "scattergeo": [
           {
            "marker": {
             "colorbar": {
              "outlinewidth": 0,
              "ticks": ""
             }
            },
            "type": "scattergeo"
           }
          ],
          "scattergl": [
           {
            "marker": {
             "colorbar": {
              "outlinewidth": 0,
              "ticks": ""
             }
            },
            "type": "scattergl"
           }
          ],
          "scattermapbox": [
           {
            "marker": {
             "colorbar": {
              "outlinewidth": 0,
              "ticks": ""
             }
            },
            "type": "scattermapbox"
           }
          ],
          "scatterpolar": [
           {
            "marker": {
             "colorbar": {
              "outlinewidth": 0,
              "ticks": ""
             }
            },
            "type": "scatterpolar"
           }
          ],
          "scatterpolargl": [
           {
            "marker": {
             "colorbar": {
              "outlinewidth": 0,
              "ticks": ""
             }
            },
            "type": "scatterpolargl"
           }
          ],
          "scatterternary": [
           {
            "marker": {
             "colorbar": {
              "outlinewidth": 0,
              "ticks": ""
             }
            },
            "type": "scatterternary"
           }
          ],
          "surface": [
           {
            "colorbar": {
             "outlinewidth": 0,
             "ticks": ""
            },
            "colorscale": [
             [
              0,
              "#0d0887"
             ],
             [
              0.1111111111111111,
              "#46039f"
             ],
             [
              0.2222222222222222,
              "#7201a8"
             ],
             [
              0.3333333333333333,
              "#9c179e"
             ],
             [
              0.4444444444444444,
              "#bd3786"
             ],
             [
              0.5555555555555556,
              "#d8576b"
             ],
             [
              0.6666666666666666,
              "#ed7953"
             ],
             [
              0.7777777777777778,
              "#fb9f3a"
             ],
             [
              0.8888888888888888,
              "#fdca26"
             ],
             [
              1,
              "#f0f921"
             ]
            ],
            "type": "surface"
           }
          ],
          "table": [
           {
            "cells": {
             "fill": {
              "color": "#EBF0F8"
             },
             "line": {
              "color": "white"
             }
            },
            "header": {
             "fill": {
              "color": "#C8D4E3"
             },
             "line": {
              "color": "white"
             }
            },
            "type": "table"
           }
          ]
         },
         "layout": {
          "annotationdefaults": {
           "arrowcolor": "#2a3f5f",
           "arrowhead": 0,
           "arrowwidth": 1
          },
          "autotypenumbers": "strict",
          "coloraxis": {
           "colorbar": {
            "outlinewidth": 0,
            "ticks": ""
           }
          },
          "colorscale": {
           "diverging": [
            [
             0,
             "#8e0152"
            ],
            [
             0.1,
             "#c51b7d"
            ],
            [
             0.2,
             "#de77ae"
            ],
            [
             0.3,
             "#f1b6da"
            ],
            [
             0.4,
             "#fde0ef"
            ],
            [
             0.5,
             "#f7f7f7"
            ],
            [
             0.6,
             "#e6f5d0"
            ],
            [
             0.7,
             "#b8e186"
            ],
            [
             0.8,
             "#7fbc41"
            ],
            [
             0.9,
             "#4d9221"
            ],
            [
             1,
             "#276419"
            ]
           ],
           "sequential": [
            [
             0,
             "#0d0887"
            ],
            [
             0.1111111111111111,
             "#46039f"
            ],
            [
             0.2222222222222222,
             "#7201a8"
            ],
            [
             0.3333333333333333,
             "#9c179e"
            ],
            [
             0.4444444444444444,
             "#bd3786"
            ],
            [
             0.5555555555555556,
             "#d8576b"
            ],
            [
             0.6666666666666666,
             "#ed7953"
            ],
            [
             0.7777777777777778,
             "#fb9f3a"
            ],
            [
             0.8888888888888888,
             "#fdca26"
            ],
            [
             1,
             "#f0f921"
            ]
           ],
           "sequentialminus": [
            [
             0,
             "#0d0887"
            ],
            [
             0.1111111111111111,
             "#46039f"
            ],
            [
             0.2222222222222222,
             "#7201a8"
            ],
            [
             0.3333333333333333,
             "#9c179e"
            ],
            [
             0.4444444444444444,
             "#bd3786"
            ],
            [
             0.5555555555555556,
             "#d8576b"
            ],
            [
             0.6666666666666666,
             "#ed7953"
            ],
            [
             0.7777777777777778,
             "#fb9f3a"
            ],
            [
             0.8888888888888888,
             "#fdca26"
            ],
            [
             1,
             "#f0f921"
            ]
           ]
          },
          "colorway": [
           "#636efa",
           "#EF553B",
           "#00cc96",
           "#ab63fa",
           "#FFA15A",
           "#19d3f3",
           "#FF6692",
           "#B6E880",
           "#FF97FF",
           "#FECB52"
          ],
          "font": {
           "color": "#2a3f5f"
          },
          "geo": {
           "bgcolor": "white",
           "lakecolor": "white",
           "landcolor": "#E5ECF6",
           "showlakes": true,
           "showland": true,
           "subunitcolor": "white"
          },
          "hoverlabel": {
           "align": "left"
          },
          "hovermode": "closest",
          "mapbox": {
           "style": "light"
          },
          "paper_bgcolor": "white",
          "plot_bgcolor": "#E5ECF6",
          "polar": {
           "angularaxis": {
            "gridcolor": "white",
            "linecolor": "white",
            "ticks": ""
           },
           "bgcolor": "#E5ECF6",
           "radialaxis": {
            "gridcolor": "white",
            "linecolor": "white",
            "ticks": ""
           }
          },
          "scene": {
           "xaxis": {
            "backgroundcolor": "#E5ECF6",
            "gridcolor": "white",
            "gridwidth": 2,
            "linecolor": "white",
            "showbackground": true,
            "ticks": "",
            "zerolinecolor": "white"
           },
           "yaxis": {
            "backgroundcolor": "#E5ECF6",
            "gridcolor": "white",
            "gridwidth": 2,
            "linecolor": "white",
            "showbackground": true,
            "ticks": "",
            "zerolinecolor": "white"
           },
           "zaxis": {
            "backgroundcolor": "#E5ECF6",
            "gridcolor": "white",
            "gridwidth": 2,
            "linecolor": "white",
            "showbackground": true,
            "ticks": "",
            "zerolinecolor": "white"
           }
          },
          "shapedefaults": {
           "line": {
            "color": "#2a3f5f"
           }
          },
          "ternary": {
           "aaxis": {
            "gridcolor": "white",
            "linecolor": "white",
            "ticks": ""
           },
           "baxis": {
            "gridcolor": "white",
            "linecolor": "white",
            "ticks": ""
           },
           "bgcolor": "#E5ECF6",
           "caxis": {
            "gridcolor": "white",
            "linecolor": "white",
            "ticks": ""
           }
          },
          "title": {
           "x": 0.05
          },
          "xaxis": {
           "automargin": true,
           "gridcolor": "white",
           "linecolor": "white",
           "ticks": "",
           "title": {
            "standoff": 15
           },
           "zerolinecolor": "white",
           "zerolinewidth": 2
          },
          "yaxis": {
           "automargin": true,
           "gridcolor": "white",
           "linecolor": "white",
           "ticks": "",
           "title": {
            "standoff": 15
           },
           "zerolinecolor": "white",
           "zerolinewidth": 2
          }
         }
        },
        "title": {
         "text": "Projected Question Vector Manifold"
        }
       }
      },
      "text/html": [
       "<div>                            <div id=\"76722573-a0e9-4f2f-87a1-dcd4c9354bd6\" class=\"plotly-graph-div\" style=\"height:500px; width:100%;\"></div>            <script type=\"text/javascript\">                require([\"plotly\"], function(Plotly) {                    window.PLOTLYENV=window.PLOTLYENV || {};                                    if (document.getElementById(\"76722573-a0e9-4f2f-87a1-dcd4c9354bd6\")) {                    Plotly.newPlot(                        \"76722573-a0e9-4f2f-87a1-dcd4c9354bd6\",                        [{\"customdata\": [[\"diabet curabl\"], [\"complic diabet\"], [\"diabet take muscovado sugar\"], [\"big toe often numb sign diabet\"], [\"diabet mellitu result polyurea\"], [\"one follow choic best way control type ii diabet\"], [\"deni life insur diabet\"], [\"diabet work post offic\"], [\"take metformin blood sugar level two hundr five\"], [\"caus frequent urin men\"], [\"characterist gestat diabet differ type one type two diabet\"], [\"research done sargassum seawe\"], [\"diabet resourc internet\"], [\"effect diet diabet\"], [\"kind sugar substitut use diabet pound cake recip\"], [\"peopl care nick jona diabet still teas peopl also type one diabet\"], [\"diabet start\"], [\"food serv someon diabet diet\"], [\"kind food eat keep blood sugar stabl\"], [\"diabet make brain shrink\"], [\"orang good diabet peopl\"], [\"organ affect diabet\"], [\"symptom caus diabet\"], [\"safe diabet bypass surgeri\"], [\"differ insulin depend diabet non insulin independ diabet\"], [\"diabet test strip realli work\"], [\"long insulin good\"], [\"type diabet would rather\"], [\"medicina biorezonanta cancer diabet tulburari psihic hepatita c dr alexandru olga\"], [\"treat hypoglycemia\"], [\"lot sugar watermelon\"], [\"symptom hypo got type one diabet\"], [\"type one diabet affect sperm qualiti\"], [\"fruit good diabet diet\"], [\"suplement fruit veget stop diabet two\"], [\"caus pain right arm elbow shoulder numb right finger\"], [\"best diet type two diabet\"], [\"name disord diabet\"], [\"eat lean meat lower risk heart diseas diabet\"], [\"releas date boxinbuddi knockout juvenil diabet two thousand six\"], [\"happen continu high blood sugar level\"], [\"diabet transplant good\"], [\"follow diabet diet guidelin ensur diabet go away\"], [\"danger consum cheap diabet suppli\"], [\"gerson therapi work type two diabet\"], [\"often diabet eat\"], [\"one find blood sugar level chart onlin\"], [\"patholog caus diabet\"], [\"symptom associ diabet\"], [\"schnauzer diabet\"], [\"hormon involv diabet\"], [\"find inform pre diabet diet\"], [\"divis classif mean\"], [\"might one go obtain diabet bracelet\"], [\"diabet affect heal genit herp\"], [\"glucos toler test exampl specimen\"], [\"daili carb allow type two diabet\"], [\"kid diabet\"], [\"normal valu dc\"], [\"happen blood glucos level get low\"], [\"omnipod\"], [\"diabet effect unbalanc diet\"], [\"ideal diet diabet\"], [\"long diabet last\"], [\"patient fast oral glucos toler test\"], [\"diabet eat grapefruit\"], [\"nick jona type one diabet\"], [\"know type one type two diabet\"], [\"potato good diabet patient\"], [\"mani peopl diabet insipidu\"], [\"afford diabet suppli avail medicar patient\"], [\"food diabet need avoid\"], [\"test diabet\"], [\"sign hypoglycemia\"], [\"high blood sugar diabet\"], [\"teenag get type two diabet\"], [\"normal blood sugar rang\"], [\"diabet affect result breathalyz\"], [\"two hormon human bodi control blood sugar level\"], [\"lexapro rais blood sugar level\"], [\"relat diabet blood sugar\"], [\"glucos polym rais blood glucos\"], [\"kind treatment peopl diabet\"], [\"get inform blood sugar chart\"], [\"blood glucos level one thousand two hundr danger\"], [\"b tell sugar enter blood\"], [\"hormon produc properli diabet\"], [\"novemb sixteen nick jona learn diabet\"], [\"system caus diabet mellitu\"], [\"mode transmiss diabet mellitu\"], [\"need diabet\"], [\"onion bad diabet\"], [\"diabet eat glucos syrup\"], [\"risk factor develop diabet\"], [\"low carb diet caus diabet\"], [\"diabet eat cucumb\"], [\"import compon diabet diet plan\"], [\"wine rais blood sugar level\"], [\"kind diet softwar profession suffer problem like gassi constip\"], [\"group chemic hormon insulin belong\"], [\"diet peopl diabet\"], [\"hormon produc inadequ would caus sexual immatur\"], [\"low blood sugar lead diabet\"], [\"diabet reaction\"], [\"arm ach\"], [\"organ system diabet belong\"], [\"makabuhay plant realli caus diabet\"], [\"find diabet food guid\"], [\"difen diabet\"], [\"insulin blood sugar level\"], [\"cure hypertens diabet\"], [\"lower blood sugar\"], [\"sugar type two diabet\"], [\"mani peopl die diabet year\"], [\"good recip diabet\"], [\"medicaid cover portabl insulin pump\"], [\"percentag world popul diabet\"], [\"famotidin twenti mg rais blood sugar level\"], [\"world diabet commonli found\"], [\"measur blood glucos level\"], [\"happen bodi insulin inject\"], [\"test use diagnosi diabet mellitu\"], [\"non diabet take insulin plant leav\"], [\"gender diabet affect\"], [\"simpl recip found diabet menu\"], [\"patient describ diabet kussmaul respir physiolog activ take place caus patient\"], [\"part affect follow diseas diabet jaundic\"], [\"esr rate thirti six mean\"], [\"untreat diabet mellitu caus ketosi\"], [\"diabet insipidu diabet mellitu\"], [\"diabet defici diseas\"], [\"color tube top diabet\"], [\"diabet effect bodi\"], [\"shoulder pain numb finger thumb\"], [\"sugar milk harm diabet\"], [\"anyon actual revers type two diabet\"], [\"fast sleep pill work\"], [\"special syring deliv insulin medic\"], [\"walk effect diabet patient\"], [\"natur pain relief gout\"], [\"diabet eat peach\"], [\"treatment option children diabet\"], [\"blood sugar level diabet\"], [\"vitamin diabet\"], [\"fri shrimp rise blood sugar\"], [\"diabet effect circulatori system\"], [\"relationship kcal blood sugar\"], [\"substanc need diabet produc genet engin\"], [\"reason get thirsti usual\"], [\"caus diabet type two\"], [\"get diabet product\"], [\"mean eye go cross eye get dizzi\"], [\"good diet exercis plan avoid get diabet\"], [\"regular insulin actrapid insulin\"], [\"use diagnosi sentenc\"], [\"happen diabet take viagra need\"], [\"happen peopl diabet take insulin\"], [\"effect royal jelli diabet\"], [\"diabet patient need insulin\"], [\"eat get diabet\"], [\"dad diabet get rid forev\"], [\"\"], [\"get type two diabet plan\"], [\"iddm mean\"], [\"type diabet run famili\"], [\"medicin diabet person\"], [\"size insulin adapt\"], [\"differ insulin depend diabet non insulin depend diabet\"], [\"insulin first use treatment diabet\"], [\"prevent diabet\"], [\"dog diabet ate fudg give insulin shot\"], [\"blood sugar two hundr high\"], [\"type one diabet inherit condit\"], [\"intern organ human bodi help regul blood sugar level\"], [\"sugar solut use diabet\"], [\"water melon increas blood sugar\"], [\"kid get diabet\"], [\"realli type four diabet\"], [\"diabet medicin caus cancer\"], [\"could get diabet grape\"], [\"diabet affect peopl\"], [\"exampl food type two diabet\"], [\"happen diabet patient take carbohydr\"], [\"hemogluco test\"], [\"side affect diabet pregnanc\"], [\"sensat burn feet diabet\"], [\"nurs diagnosi diabet ketoacidosi\"], [\"allow eat drink one sugar diabet\"], [\"bodi process properli diabet\"], [\"best type diet someon diabet\"], [\"extrem critic indic diabet mellitu\"], [\"diabet peopl eat margarin\"], [\"exercis help gestat diabet\"], [\"medic problem might help insulin\"], [\"symptom type two diabet\"], [\"caus weight gain fatigu heat sensit muscl ach\"], [\"type one diabet easier harder treat type two diabet\"], [\"averag blood glucos level\"], [\"scientist make educ guess diabet caus genet factor guess exampl\"], [\"diabet make much insulin true fals\"], [\"herbal remedi insulin resist\"], [\"diatiz\"], [\"suboxon increasw blood sugar level\"], [\"diabet caus hypertens\"], [\"capsicum good diabet patient\"], [\"make sim sim three diabet\"], [\"massag diabet\"], [\"stress caus high blood pressur\"], [\"home medic care treat diabet\"], [\"chanc gettin diabet dad diabet\"], [\"check blood sugar level\"], [\"eat banana diabet patient\"], [\"mechan action eclipta alba hepatoprotect\"], [\"find diet plan person type two diabet\"], [\"mani pound nick jona loos got diabet\"], [\"word diabet capit\"], [\"reduc advers effect diabet\"], [\"control diabet\"], [\"gastric bypass surgeri recommend treatment diabet\"], [\"diabet patient eat banana\"], [\"precaut need diabet patient nalidix acid\"], [\"bad eat noodl diabet\"], [\"role diet exercis control hypertens diabet\"], [\"blood sugar spike morn\"], [\"spanish word diabet\"], [\"normal blood sugar level\"], [\"caus pin point pupil\"], [\"get diabet father mother famili histori get diabet\"], [\"alcohol reduc diabet\"], [\"blood sugar level consid hypoglycemia\"], [\"vision complic get diabet\"], [\"caus constant itch right side constantli rub\"], [\"find inform diet diabet type two\"], [\"diabet caus due malfunct\"], [\"effect insulin bodi\"], [\"diabet die inject much insulin\"], [\"fast blood sugar one hundr sixteen\"], [\"drink alcohol type one diabet\"], [\"need salt blood sugar high\"], [\"rda diabet\"], [\"thing diabet cooki recip\"], [\"suspens taken oral\"], [\"accident gave dog much insulin\"], [\"dessert diabet enjoy\"], [\"normal blood sugar rang fast\"], [\"make urin cloudi\"], [\"illeg ye consequ mom sell minor child excess diabet test suppli feed child\"], [\"produc transgen bacteria make insulin step research take first\"], [\"code diabet peripher neuropathi\"], [\"keep sugar level diabet regul\"], [\"diabet person eat cane sugar\"], [\"hypoglycem becom diabet\"], [\"kind fruit diabet eat\"], [\"measur taken prevent diabet adult\"], [\"type peopl suscept meralgia paresthetica\"], [\"happen diabet eat anyth take insulin\"], [\"averag age type one diabet\"], [\"diabet serv size strawberri\"], [\"starch use bodi\"], [\"treatment diabet\"], [\"insulin use diabet obtain\"], [\"type two diabet known diabet\"], [\"antibiot increas blood sugar\"], [\"anyon know diabet snack recip\"], [\"old join airforc\"], [\"gastat diabet mellitu\"], [\"type effect cephalosporin diabet\"], [\"use hemoglucotest\"], [\"good diet keep sugar level\"], [\"one person type one diabet give anoth person\"], [\"hard lose weight diabet\"], [\"blood sugar level rise secret\"], [\"diabet nrotc\"], [\"sotalol caus blur vision\"], [\"diabet transfer one partner anoth\"], [\"quick diabet recip\"], [\"less normal glucos level level low normal\"], [\"vaccin prevent diabet\"], [\"explain caus diabet control\"], [\"pumpkin indic type two diabet patient\"], [\"late dinner caus diabet\"], [\"besid medic treatment insulin els everyday minim chanc get diabet\"], [\"high blood sugar symptom\"], [\"mani time day person diabet check blood sugar level\"], [\"differ hiv aid diabet type two\"], [\"diabet incep\"], [\"effect ph diabet ketoacidosi\"], [\"possibl diabet one els famili\"], [\"person bobi produc enough insulin\"], [\"substanc increas urin untreat diabet\"], [\"cure type one diabet\"], [\"four diseas communic\"], [\"type microb diabet\"], [\"nutrit diet diabet\"], [\"diabet requir insulin\"], [\"finger tip turn white numb hand get cold caus\"], [\"caution take biguanid thiazolidinedion use treat insulin resist\"], [\"find onlin cookbook diabet\"], [\"differ care person insulin shock diabet coma\"], [\"diabet warn sign\"], [\"food good type one diabet also good type two\"], [\"gestat diabet caus preterm labor\"], [\"aceton breath\"], [\"diabet eat bean\"], [\"one common type diabet\"], [\"food eat type two diabet\"], [\"diabet control glucos level\"], [\"control high blood sugar seven year old type one diabet\"], [\"seriou type diabet\"], [\"side affect lantu give\"], [\"type diabet alway insulin depend\"], [\"relev biochem test diabet mellitu two\"], [\"bad glucos one hundr forti three\"], [\"kevin okyer\"], [\"diseas focu healthi peopl two thousand ten\"], [\"much sugar ok diabet\"], [\"possibl symptom diabet\"], [\"type one diabet affect person relationship\"], [\"organ system type two diabet affect\"], [\"mani diagnos diabet patient medic\"], [\"frequent urin sign diabet\"], [\"cure diabet\"], [\"drug class lantu insulin\"], [\"nondairi creamer bad diabet\"], [\"earth diabet\"], [\"differ tuberculin syring insulin syring\"], [\"much liquor take kill diabet\"], [\"unhealthi diet lead diabet\"], [\"diabet take medic\"], [\"item diabet person eat\"], [\"term life insur diabet\"], [\"walk good diabet\"], [\"deal diabet\"], [\"good diabet recip\"], [\"raini rodriguez diabet\"], [\"uric acid found\"], [\"type one diabet affect lifestyl\"], [\"lose weight diabet\"], [\"diabet use cornstarch\"], [\"child sweat excess squirm\"], [\"lolli affect\"], [\"doctor weight loss plan\"], [\"anywher get free suppli blood sugar test\"], [\"hypoglycemia\"], [\"children diabet\"], [\"reason koch abdomen\"], [\"post prandial\"], [\"insulin shot produc bright yellow urin\"], [\"get health insur maryland diabet rheumatoid arthriti husband medicar miss enrol period cobra endin\"], [\"first aid treatment diabet mellitu\"], [\"type mutat caus diabet type one\"], [\"cure diabet\"], [\"method rapid weight loss\"], [\"get diabet cookbook\"], [\"recombin human insulin\"], [\"warn sign diabet mellitu\"], [\"diabet raf\"], [\"pancreat hormon increas blood sugar\"], [\"diabet caus much sugar\"], [\"drink diabet\"], [\"diabet recip help keep healthi\"], [\"true result meter show error\"], [\"benefit carbon acid give human bodi\"], [\"sous safe diabet eat\"], [\"diabet becom super sensit pain\"], [\"diabet life threaten\"], [\"oral medic diabet\"], [\"bring high blood glucos\"], [\"develop diabet two\"], [\"mom sad upset\"], [\"youv start pee lot normal forti two year old male\"], [\"caus sore heal\"], [\"cant type one diabet prevent\"], [\"sugar effect bodi\"], [\"research done schizophrenia\"], [\"get diabet\"], [\"part bodi diabet type two affect\"], [\"common diet program someon receiv diabet treatment\"], [\"name type one type two\"], [\"high blood sugar lead urinari tract infect\"], [\"chees caus diabet\"], [\"food diabet eat\"], [\"food stay away diabet\"], [\"first discov diabet\"], [\"dehydr diabet\"], [\"counter insulin good prescript insulin\"], [\"friend lanc type one diabet still eat ton candi everi day problem also gay matter\"], [\"insulin use\"], [\"alcohol caus diabet\"], [\"one common characterist form diabet mellitu\"], [\"insulin taken oral\"], [\"glucos level three hundr seventi one\"], [\"kind transplant help diabet\"], [\"diabet neuropathi treatment risk\"], [\"six point three normal sugar human\"], [\"diabet eat fruit\"], [\"diabet discov\"], [\"type food need add diet diabet\"], [\"mani calori five eleven two hundr ten pound man eat high blood sugar\"], [\"arm ach elbow\"], [\"type diabet\"], [\"bacardi light diet coke effect type two diabet\"], [\"diabet eat salt nut honey etc\"], [\"diabet still take nytric efx\"], [\"best way young teenag type one diabet coeliac diseas lose weight\"], [\"two type superstiti\"], [\"type hormon insulin\"], [\"make hand fall asleep\"], [\"websit diabet educ\"], [\"tell sugar enter bodi\"], [\"diabet fruit\"], [\"mani carb eaten day type two diabet\"], [\"check sugar level good\"], [\"diabet affect pancrea\"], [\"diabet requir insulin inject\"], [\"explain relationship type two diabet diet\"], [\"region bodi storag excess bodi fat associ highest risk cardiovascular diseas diabet\"], [\"thirteen yr old dalmatian diabet gone blind know time die\"], [\"found insulin bodi\"], [\"could diabet caus hand lock\"], [\"insulin control sugar level\"], [\"criteria ppb diabet\"], [\"safe amount carbohydr gestat diabet\"], [\"histori diabet\"], [\"thyroid gland mean control blood sugar level\"], [\"diabet statist\"], [\"uncorrect type diabet mellitu may result\"], [\"kind diabet consid auto immun diseas\"], [\"diabet ill\"], [\"worri friend fat famili diabet except tri help lose weight watch eat sport dosent listen\"], [\"three type perment\"], [\"littl insulin avail amount food ingest may result\"], [\"mom diabet kid diabet\"], [\"cure diabeti\"], [\"caus red blood cell count decreas\"], [\"addit take insulin one treat diabet\"], [\"mani peopl die year type one diabet\"], [\"mani peopl get diagnos diabet year\"], [\"diabet dad order eat\"], [\"releas date project diabet prevent two thousand twelv stay motiv\"], [\"studi diabet mellitu call\"], [\"insulin affect bodi\"], [\"gestat diabet show undiagnos type one diabet\"], [\"symptom diabet crave salti food\"], [\"problem insulin\"], [\"food lower blood sugar\"], [\"link physic activ diabet\"], [\"relationship mahogani seed lower blood glucos\"], [\"take glucos tablet blood sugar high\"], [\"know type one type two diabet\"], [\"diabet contraind massag\"], [\"part human digest system produc insulin control sugar blood\"], [\"good method diabet prevent\"], [\"first insulin inject given\"], [\"synonym adher\"], [\"prevent kidney damag\"], [\"find menu internet cater diabet individu\"], [\"best diet someon tri lose one hundr forti nine pound\"], [\"sell diabet food rhode island\"], [\"first person get diabet\"], [\"cinnamon good diabet\"], [\"contract diabet\"], [\"type ii diabet consid milder form diabet\"], [\"strength weak diabet\"], [\"diabet patient eat mango fruit\"], [\"number one caus adult us diabet\"], [\"diabet dehydr\"], [\"diabet cake recip use splenda sweet n low\"], [\"nemic\"], [\"good supplement diabet\"], [\"healthi diabet diet plan\"], [\"connect diabet enlarg prostat\"], [\"blood sugar level two hour eat\"], [\"old peopl get diabet\"], [\"type two diabet affect endocrin system\"], [\"diabet dessert recip make stove\"], [\"blood sugar low hormon bodi produc help\"], [\"fast glucos test rang nineti eight one hundr fourteen\"], [\"one thousand nine hundr eighti nine chevi pu five point seven normal vacuum read\"], [\"function gonad\"], [\"substanc produc bacteria\"], [\"normal rang fast blood glucos\"], [\"type one diabet known depend diabet\"], [\"test may done diabet neuropathi suspect\"], [\"mean definit diabet\"], [\"glucos rais sugar level\"], [\"diseas blood glucos level normal\"], [\"ever cure type one two diabet\"], [\"diet use revers diabet\"], [\"cell ribosom found\"], [\"insulin produc genet engin\"], [\"prevent adult onset diabet\"], [\"top rate children diabet endocrinolog hospit\"], [\"side effect metformin\"], [\"give long act insulin low blood sugar level\"], [\"alcohol drink diabet\"], [\"type one diabet slow puberti\"], [\"bolu insulin mean rapid insulin mix lent one\"], [\"doctor said watch sugar intak verg diabet cut mani gram sugar daili sugar free best\"], [\"diabet becom thin feel weak\"], [\"food product peopl diabet\"], [\"mani day one vial insulin last sig inject fifti unit sq qday\"], [\"get diabet drink alcohol\"], [\"glucos remov bloodstream\"], [\"diabet drink tea\"], [\"diabet patient eat couscou\"], [\"countri highest diabet rate\"], [\"tum rais blood sugar\"], [\"miley break nick caus diabet\"], [\"symtom diabet mellitu\"], [\"prevent get diabet\"], [\"differ candi diabet candi\"], [\"peopl type one diabet control blood pressur\"], [\"made cure diabet\"], [\"get diabet touch infect person blood\"], [\"interellectu need diabet type two diabet\"], [\"diabet\"], [\"symptom type two diabet\"], [\"get diabet symptom\"], [\"effect alcohol diabet type two\"], [\"type diabet mellitu insulin resist disord\"], [\"canadian diabet associ creat\"], [\"molecular basi type one diabet\"], [\"pima indian diabet\"], [\"diabet diet menu help diabet\"], [\"dri mouth sign diabet\"], [\"start american diabet associ\"], [\"nine point nine glucos read high\"], [\"one hundr twelv high glucos read\"], [\"normal sugar human\"], [\"keyton danger diabet\"], [\"food product good diabet\"], [\"diabet emerg caus high blood sugar level\"], [\"antibiot affect blood sugar level\"], [\"type two diabet take insulin control sugar drive commerci vehicl road\"], [\"mammal get diabet\"], [\"maintain blood glucos level\"], [\"type two diabet kill\"], [\"eat regular meal\"], [\"avascular necrosi caus diabet\"], [\"list five non communic communic diseas\"], [\"diabet food eat\"], [\"blood sugar level read eaten\"], [\"man diabet father child diabet\"], [\"organ organ system close associ malfunct call diabet\"], [\"pre diabet symptom\"], [\"peopl diabet carri insulin needl airplan\"], [\"diseas catch anoth person aid cancer diabet hypertens wart\"], [\"osgood get leg cut\"], [\"type diabet\"], [\"good diabet food guid\"], [\"diabet mental ill\"], [\"good diet\"], [\"peopl focu type two diabet\"], [\"long term side affect diabet\"], [\"good diet plan person diabet\"], [\"dehydr affect high blood sugar\"], [\"gland respons diabet insipidu\"], [\"sign low blood sugar\"], [\"tell bodi much sugar\"], [\"type peopl risk develop diabet\"], [\"turkey diabet\"], [\"happen blood sugar level properli regul\"], [\"symptom type one diabet\"], [\"world diabet cookbook\"], [\"recip diabet cookbook cooki\"], [\"diabet meter\"], [\"age group diabet affect\"], [\"diabet patern test done still pregnant\"], [\"occur bodi abl produc insulin\"], [\"good conclus diabet\"], [\"great diabet diet recip\"], [\"hypoglcemia\"], [\"normal blood glucos level adult\"], [\"symptom treatment hypoglycemia hyperglycemia\"], [\"goal diabet treatment\"], [\"number one killer children worldwid\"], [\"applesauc use diabet cake recip\"], [\"sign symptom type one diabet\"], [\"tell diabet without see doctor\"], [\"type food diabet male eat\"], [\"simpl dinner recip would work diabet menu plan\"], [\"alcohol bad diabet\"], [\"food would diabet food list\"], [\"good diabet suppli adult\"], [\"marri diabet\"], [\"normal result fast blood sugar test\"], [\"organ malfunct caus diabet\"], [\"expert treat diabet\"], [\"type one diabet live normal life\"], [\"medicaid pay diabet shoe\"], [\"relationship diabet bhramari\"], [\"obes caus type two diabet\"], [\"number seven mean diabet\"], [\"treatment toe numb\"], [\"famili histori diabet disqualifi person pursu career pilot major commerci airlin industri\"], [\"eat orang rais blood sugar\"], [\"proven diabet cure\"], [\"blood sugar chart look\"], [\"much fat much sugar daili diabet\"], [\"salt pool salt system increas blood pressur\"], [\"best way type capit sentenc\"], [\"tell patient need given glucos\"], [\"diet control effect treatment diabet\"], [\"secondari complic diabet\"], [\"healthi person bodi respond sugar enter blood\"], [\"diabet patient eat date\"], [\"two organ involv regul blood sugar level bodi\"], [\"test find\"], [\"egg rais blood sugar\"], [\"realli want diabet tell truth\"], [\"prevent get diabet\"], [\"symptom feel type two diabet\"], [\"one major food categori type two diabet diet\"], [\"diabet hypothyroid link\"], [\"eat carbohydr regul blood sugar\"], [\"diseas caus lack miner fe\"], [\"diabet obes relat\"], [\"glucos relat diabet\"], [\"purpos glucos toler test\"], [\"caus elev level blood glucos\"], [\"gestat diabet affect child\"], [\"function dessic\"], [\"mani carb diabet\"], [\"pharmacolog effect insulin\"], [\"yam good diabet\"], [\"scientist get paid stop research diabet\"], [\"gamer fat\"], [\"insulin inject\"], [\"print diabet diet sheet\"], [\"side effect paneer ka phool diabet patient\"], [\"type one type two compound\"], [\"medic approv food list diabet\"], [\"homemad chicken pot pie good diabet diet\"], [\"blood test done diabet peopl\"], [\"what differ diabet type one two\"], [\"diabet eat orang\"], [\"diabet neuropathi tend\"], [\"treatment high blood sugar level diabet patient\"], [\"diabet beat\"], [\"medic term mean death tissu caus diabet\"], [\"candi would best diabet low sugar\"], [\"insulin diabet\"], [\"pee lot\"], [\"immedetli lower blood sugar\"], [\"thing diabet cant\"], [\"caus type one diabet\"], [\"diabet moneran kingdom\"], [\"necessari diabet food diabet\"], [\"cholesterol poison\"], [\"type two diabet revers\"], [\"stress link type diabet\"], [\"themechan action insulin diabet\"], [\"honey dew melon cantaloup bad diabet\"], [\"plant get diabet\"], [\"explain virus might use copi gene produc human insulin\"], [\"diabet\"], [\"airman arriv unit mention burn cook accid last night assess burn indic burn superfici\"], [\"much pizza diabet type two\"], [\"diabet wors chronic fatigu syndrom\"], [\"someth sweet diabet eat\"], [\"mood swing diabet symptom\"], [\"mazda stink\"], [\"insulin use fraction urin coverag\"], [\"men get diabet\"], [\"move canada uk diabet\"], [\"watermelon increas blood sugar\"], [\"stick check blood sugar level\"], [\"symptom diabet tell diabet without see doctor\"], [\"get diabet exercis\"], [\"possibl anyon diabet healthi use insulin\"], [\"much sugar cherri\"], [\"clinic find occur first metabol acidosi patient type one diabet\"], [\"structur kidney damag diabet mellitu\"], [\"diabet affect fertil\"], [\"excess amount sugar caus diabet\"], [\"diabet food pyramid\"], [\"gestat diabet diet\"], [\"diabet come\"], [\"food drink sugar\"], [\"diabet mellitu treat doctor\"], [\"blood sugar number\"], [\"normal sugar level teenag\"], [\"must insulin inject taken mouth\"], [\"reduc risk diabet\"], [\"nick jona ever diabet\"], [\"stop cut last year suicid attempt grade never told anyon day happi day well overeact past event sleep put self mess yeah\"], [\"diabet cuas\"], [\"calcul triglycerid level\"], [\"viral gastroenter caus rise blood sugar\"], [\"difficult diabet lose weight\"], [\"complic diabet coma\"], [\"could schnauzer diabet\"], [\"insulin refriger\"], [\"shiver due diabet occur\"], [\"disadvantag ayurveda\"], [\"peopl diabet lose therir meori drink alcohol\"], [\"symptomp diabet\"], [\"uncontrol diabet effect mental statu\"], [\"blood sugar tester\"], [\"diabet trait\"], [\"tattoo diabet\"], [\"would increas insulin secret type ii diabet\"], [\"manag hypoglycemia diet\"], [\"heavi diabet\"], [\"diabet peopl avoid diabet complic\"], [\"frequent urin diabet symptom\"], [\"one find inform diabet type one\"], [\"common type ii diabet\"], [\"catch type two diabet\"], [\"exist mani form\"], [\"salt tablet lower blood sugar\"], [\"food carri healthi diabet nurtrit\"], [\"symptom diabet person\"], [\"mani kilogram diabet consum sodium\"], [\"danger drink diabet blood\"], [\"type two diabet noninfecti\"], [\"common diabet symptom\"], [\"best medicin diabet\"], [\"know diabet\"], [\"type one diabet\"], [\"post prandial blood sugar mean\"], [\"chanc diabet babi born parent heterozyg normal\"], [\"doctor diagnos diabet\"], [\"bring high blood pressur\"], [\"diabet air hunger lead death\"], [\"gain weight diabet\"], [\"happen blood sugar low\"], [\"bodi system affect crohn diseas system affect\"], [\"find inexpens food diabet\"], [\"diabet gastroparesi\"], [\"one find inform diet diabet\"], [\"diabet ramen noodl\"], [\"temp insulin store\"], [\"ayurveda help someon diabet\"], [\"common diabet symptom\"], [\"lower hemoglobin\"], [\"paneer booti\"], [\"ancillari blood glucos test\"], [\"liquor best diabet\"], [\"gestat diabet everi pregnanc\"], [\"one hypoglycem episod mean diabet laura\"], [\"determin preexist condit\"], [\"major differ type one type two diabet\"], [\"list food high sugar\"], [\"sugar content blood diabet\"], [\"much diabet syring hold\"], [\"hered play part diabet\"], [\"get diabet much sugar\"], [\"three p diabet\"], [\"normal hormon test result premenopaus woman\"], [\"sugar conent banana\"], [\"genet engin factor increas cost insulin\"], [\"low high blood sugar make chest hurt\"], [\"two challeng die chronic ill\"], [\"gland essenti metabol carboydr reduc blood sugar\"], [\"describ diabet mellitu type two word\"], [\"diabet affect urinari system\"], [\"diabet caus numb finger\"], [\"diabet type one\"], [\"type one diabet contagi\"], [\"diet soda make crave sugar bad diabet\"], [\"blood sugar five hundr seventi five type insulin one take\"], [\"swollen ankl symptom diabet\"], [\"finger millet help diabet\"], [\"diabet affect kidney\"], [\"took insluin diabet\"], [\"nineti seven one hundr twenti blood sugar level within normal rang non diabet\"], [\"diabet pump use\"], [\"diabet get insulin\"], [\"diabet friendli food\"], [\"find great recip diabet\"], [\"blood glucos level one hundr one high\"], [\"condit often indic anemia\"], [\"famou peopl type one diabet\"], [\"lidoderm rais blood sugar level\"], [\"could sweet smell urin\"], [\"enzym diabet affect\"], [\"hard sleep diabet\"], [\"qualiti servic american diabet\"], [\"better insulin pump anima medtron\"], [\"nut bean eat diabet person\"], [\"cbc test\"], [\"symptom hypoglycemia low low\"], [\"frequent caus death hors cholesterol diarrhoea diabet pine poison\"], [\"pancrea releas blood glucos concentr increas\"], [\"urin sampl prove alcohol consumpt diabet\"], [\"neither parent diabet get\"], [\"guidelin food nutrit diabet\"], [\"would name program diabet care india specif\"], [\"diabet drink slim fast sugar\"], [\"nineti two lb blood sugar level still high\"], [\"glucos edibl\"], [\"actual diabet last three year feel durat sex time short pleas advis increas time\"], [\"diabet patient like need kidney transplant\"], [\"insulin measur syring\"], [\"averag blood sugar past three week measur test\"], [\"illeg unwis someon prescrib slow act insulin use someon els fast act insulin instead refil prescript\"], [\"vocat colleg univers differ\"], [\"diabet patient sagoo dana\"], [\"indocologist\"], [\"age peopl diagnos diabet\"], [\"diabet\"], [\"rub alcohol caus cancer\"], [\"get gestat diabet\"], [\"much sugar urin indic\"], [\"grandfath diabet\"], [\"treatmint diabet\"], [\"mani cc ten unit insulin\"], [\"diabet make fat\"], [\"doctor call studi child growth diabet\"], [\"normal sugar level\"], [\"diabet test strip univers\"], [\"region like get diabet\"], [\"food recomend diabet\"], [\"nineti high blood sugar\"], [\"dead skin cell foot spa attract ant left contain hour mean diabet\"], [\"symptom diabet\"], [\"mani type sugar like blood sugar\"], [\"caus blood sugar drop rapidli\"], [\"diabet woman mate diabet man\"], [\"much cost purchas liberti diabet suppli\"], [\"optimum arous sport\"], [\"tissu insulin depend\"], [\"neuropathi diabet\"], [\"get dla child diabet insipidu\"], [\"explain patient diabet\"], [\"diabet patient age thirti nine conceiv possibl becom pregnant\"], [\"kind treatment treat diabet\"], [\"diabet urin often\"], [\"salt water pool safe diabet\"], [\"polyuria caus excess urin\"], [\"use treat type one diabet\"], [\"good diabet carrot cake recip\"], [\"blood sugar level chart\"], [\"sign diabet type one two\"], [\"mani women diabet\"], [\"would diabet stop get certifi drive truck\"], [\"five pass stop cramp right leg\"], [\"mani tube drawn three hour glucos toler test\"], [\"safe diabet drink aspartam\"], [\"good diabet breakfast\"], [\"describ possibl complic poorli control diabet mellitu complic avoid\"], [\"type juvenil diabet\"], [\"diabet exampl degen diseas\"], [\"diabet use insulin weightlift purpos\"], [\"type wine best diabet\"], [\"teeth relat headach\"], [\"normal rang blood sugar test\"], [\"find onlin menu diabet\"], [\"best way lose forti pound fifti five borderlin diabet\"], [\"choos food diabet\"], [\"use printf insid isr\"], [\"sugar toothpast danger diabet\"], [\"lil boosi diabet\"], [\"treat diabet insipidu\"], [\"energi store glucos molecul\"], [\"diabet diet menu\"], [\"long take nph insulin nurs observ patient hypoglycemia\"], [\"find diabet menu\"], [\"happen eat excess amount sugar\"], [\"advanc technolog help type one diabet\"], [\"get free diabet suppli\"], [\"system diabet relat\"], [\"patient need given glucos\"], [\"pee test nineti nine point nine percent accur\"], [\"diabet mellitu multifactori diseas\"], [\"exercis easili improv type one diabet\"], [\"could diabet benefit naturopath medicin therapi\"], [\"prevent diabet\"], [\"keep diabet level\"], [\"food diabet avoid besid sugar\"], [\"diabet diet complet restrict type food\"], [\"summar easi explain glucagon insulin work togeth maintain rel constant blood sugar level\"], [\"best diet diabet\"], [\"treat patient give much insulin\"], [\"symptom diabet may effect health long term\"], [\"diagnos diabet insipidu\"], [\"function endrogen insulin\"], [\"type one diabet discov\"], [\"normal rang total iron bind capac blood\"], [\"ther way find inform diabet diet\"], [\"teeth ach diabet medicin increas sensit\"], [\"two type diabet\"], [\"endocrin system affect diabet\"], [\"prevent diabet emerg affect day day life diabet\"], [\"help diabet\"], [\"food diabet avoid\"], [\"good blood sugar level femal\"], [\"betti crocker cookbook dessert recip diabet\"], [\"celebr diabet\"], [\"doctor treat type one diabet\"], [\"would happen ate insulin tast\"], [\"major sign diabet\"], [\"clariten effect glucos read\"], [\"recip diabet diet\"], [\"wheat better rice diabet\"], [\"diabet get pregent\"], [\"carrot increas blood sugar\"], [\"diabet energi eat sugari food\"], [\"hormon inhibit insulin\"], [\"happen bodi insulin longer work\"], [\"know good sugar level\"], [\"blood sugar rise high breakfast\"], [\"diabet produc glucos urin\"], [\"bolu use medicin\"], [\"american type one diabect control glucos\"], [\"find inform sign diabet\"], [\"give diabet lactulos\"], [\"diabet clinic educ\"], [\"kind food diabet eat\"], [\"way detect carrier diabet\"], [\"ecoli make insulin\"], [\"juvenil diabet treat\"], [\"diabet diet guidelin\"], [\"combin food rais blood sugar\"], [\"mani diabet use insulin made certain bacteria abil bacteria produc insulin like result\"], [\"caus low fever\"], [\"organel insulin synthes\"], [\"effect poor eat habit\"], [\"diet cais diabet\"], [\"five symptom diabet\"], [\"fruit good diabet\"], [\"cure juvenil diabet\"], [\"creatinin test diabet type two peopl rang result healthi peopl\"], [\"prevent diabet veget soup\"], [\"sugar blood come\"], [\"peopl diatbeat high low blood sugar\"], [\"help diabet\"], [\"mpv blood count\"], [\"male diabet patient type one babi\"], [\"carb count diabet\"], [\"diabet pass increas volum urin\"], [\"chees eat diabet\"], [\"life expect someon diabet\"], [\"two horomon regul blood sugar\"], [\"consum cinnamon diabet\"], [\"condit abnorm low concentr glucos blood call\"], [\"eat diabet patient get energi\"], [\"vodka caus diabet\"], [\"cocker spaniel diabet\"], [\"get gestat diabet test\"], [\"meal diabet\"], [\"mani peopl type one diabet\"], [\"husband diabet fast take med morn say take food\"], [\"common diabet symptom look\"], [\"mani peopl heart diseas us\"], [\"treatment diabet\"], [\"best time take diabet pill\"], [\"determin condit\"], [\"happen pancrea stop produc insulin\"], [\"treatment diabet retinopathi\"], [\"find diet plan diabet healthi also help peopl loos weight\"], [\"monkey diabet\"], [\"find reasourc offici mayo clinic diet\"], [\"smoke caus diabet two\"], [\"organ produc insulin\"], [\"ophthalmoplegia happen diabet mellitu\"], [\"long take novalog react high blood sugar\"], [\"normal glucos read\"], [\"get diabet\"], [\"diseas caus lack veggi friut\"], [\"powder glucos liquid glucos\"], [\"happen blood glucos level decreas\"], [\"organ bodi ineffect diabet\"], [\"infect caus blood glucos level increas decreas\"], [\"diabet foot infect prevent\"], [\"normal depakot blood level\"], [\"lycasin safe diabet\"], [\"mani children diagnos type one diabet everi day\"], [\"sign symptom diabet\"], [\"good food guid diabet\"], [\"glucos level blood high pancrea secret\"], [\"condit blood glucos level higher normal high enough diagnosi diabet\"], [\"mani test strip diabet use daili\"], [\"mani peopl uk suffer diabet\"], [\"diabet drink\"], [\"import keep blood glucos level within normal rang\"], [\"ohip cover diabet medic\"], [\"obes diabet\"], [\"happen person diabet inject insulin\"], [\"diabet muslim use insulin made dog pig pancrea fast day ramadan\"], [\"juvenil diabet\"], [\"feet burn sensat summer spite diabet hyper acid\"], [\"hand safe diabet get tattoo\"], [\"mani gram sugar woman consum per day\"], [\"stay posit diabet\"], [\"grill shrimp okay diabet\"], [\"rang healthi person\"], [\"eighti four glucos mean\"], [\"high blood sugar level affect osmosi cell blood\"], [\"avoid treat hyperglycemia\"], [\"name hormon lower blood sugar level\"], [\"afrin caus tingl head\"], [\"beta blocker caus hypoglycemia\"], [\"draw\"], [\"obes lead type two diabet\"], [\"type two diabet affect health\"], [\"whiskey safe diabet\"], [\"althlet take glucos tablet run race\"], [\"food make wors diabet\"], [\"would hungrier low high glucos level\"], [\"type diet cure diabet\"], [\"blood glucos meter work\"], [\"diabet mellitu danger\"], [\"common way detect diabet\"], [\"twenti four ml insulin high comsump\"], [\"would diabet mellitu caus urin acid\"], [\"type medicin help pancr workbett\"], [\"type devic use check blood sugar\"], [\"fed diabet cat\"], [\"homeopath remedi might effect treat diabet type two\"], [\"caus tingl left hand finger\"], [\"diabet retinopathi treatment consist\"], [\"get diabet consum blood someon diabet\"], [\"exercis help diabet\"], [\"sever way life someon diabet impact disord\"], [\"hydrocortison affect diabet\"], [\"insulin transport liver\"], [\"advantag blood glucos monitor\"], [\"die diabet\"], [\"herb rais sugar level\"], [\"cocain affect blood sugar\"], [\"diabet cure\"]], \"hovertemplate\": \"pc_1=%{x}<br>pc_2=%{y}<br>pc_3=%{marker.color}<br>sentence=%{customdata[0]}<extra></extra>\", \"legendgroup\": \"\", \"marker\": {\"color\": [3.738556146621704, 1.2203580141067505, 1.4586243629455566, 3.216381788253784, -1.9624525308609009, 3.620681047439575, -0.5295436978340149, -0.2597693204879761, 3.161146879196167, 2.2080295085906982, -4.787882328033447, 1.6871649026870728, -3.8886141777038574, 6.5302019119262695, -0.30448704957962036, -4.895205974578857, -2.8238365650177, 3.814985990524292, 2.3643462657928467, 1.1712288856506348, 5.423525810241699, -0.12064448744058609, 1.6314406394958496, 2.4713799953460693, -6.636734962463379, 3.982797145843506, -5.5038933753967285, -5.892072677612305, 0.6935446262359619, 3.4374232292175293, 0.19689427316188812, -5.905367851257324, -3.0368435382843018, 0.6536805629730225, 1.5905240774154663, 1.5856865644454956, 5.297921180725098, -0.30278879404067993, 2.296806812286377, -0.8121265769004822, 1.368367314338684, -0.08135974407196045, 1.6035569906234741, 1.2640929222106934, 2.693413734436035, 3.8445143699645996, 2.7845206260681152, -0.8449500203132629, 2.1211020946502686, 3.748772382736206, -0.052782393991947174, 1.6465556621551514, 0.016000883653759956, 6.586876392364502, 2.6284496784210205, 3.169459819793701, 0.8089644312858582, 2.3132383823394775, 2.1563589572906494, 2.9216389656066895, -1.2117164134979248, 6.452409744262695, 6.147794246673584, 3.2328100204467773, 3.2369487285614014, 6.1481709480285645, -5.030714988708496, -6.12675666809082, 3.9452195167541504, -0.9718484878540039, 5.215428829193115, 5.630489349365234, 0.730377197265625, 3.8148720264434814, 0.845151424407959, -2.579744815826416, 3.48121976852417, -2.7544972896575928, -0.22542046010494232, 1.494875431060791, -2.4317634105682373, 3.2853870391845703, 2.8576724529266357, 0.5403797030448914, 3.2274045944213867, -4.157876968383789, -4.394537448883057, 2.4368364810943604, -1.1262317895889282, -2.1920976638793945, -2.723175525665283, -0.3275025188922882, -1.0256563425064087, 0.6632221341133118, 6.586948871612549, 5.7894744873046875, -1.4196254014968872, 3.8919103145599365, 4.327083110809326, -7.128812313079834, 3.4645767211914062, -4.648133277893066, -0.39479175209999084, -1.3740507364273071, 2.0397613048553467, 0.8429863452911377, 4.790685653686523, 2.7313597202301025, -2.049851655960083, -6.896000385284424, 6.22014045715332, 2.4822261333465576, 2.373602867126465, -0.6717316508293152, -1.0279141664505005, 1.8257780075073242, -2.6783230304718018, 2.968885660171509, -4.376771926879883, 4.068450450897217, -7.867045879364014, 4.139537334442139, -6.659423351287842, -3.978501081466675, -0.20125284790992737, -2.8809707164764404, -1.7420099973678589, -2.5120351314544678, -2.0366973876953125, -1.3372734785079956, -1.2233420610427856, -1.550125002861023, -4.460566997528076, 1.754669189453125, -0.08262843638658524, 2.032883405685425, -1.7232749462127686, -5.003726482391357, -2.8166990280151367, 4.411658763885498, 6.025058746337891, 5.063624858856201, 1.4159787893295288, 5.730085849761963, 2.4929111003875732, -4.672360897064209, 3.0347647666931152, -0.2645096182823181, 0.9782559275627136, -5.695857048034668, 2.362278461456299, -4.224404811859131, 1.6158133745193481, -8.282052993774414, 1.443774938583374, 0.8575791120529175, -6.537775039672852, -0.4989011287689209, -6.6563191413879395, 2.6533100605010986, 2.5414302349090576, -3.6332149505615234, 2.6203060150146484, -2.4439170360565186, -5.748791694641113, 0.052306029945611954, -7.844361782073975, -6.251163959503174, -6.276910781860352, 6.486142635345459, -6.002440929412842, 3.3863253593444824, -3.2958807945251465, 1.1260437965393066, -1.6139761209487915, 1.2357388734817505, 4.019250869750977, -4.270069122314453, -2.9220566749572754, 0.9320732951164246, -0.23263080418109894, 3.9275994300842285, 1.5535544157028198, 3.459510326385498, -0.09846054017543793, -0.720699667930603, -2.6751649379730225, 3.4710464477539062, -3.9271483421325684, 4.180634021759033, -1.607670545578003, 4.722142696380615, 3.640489339828491, -6.333174228668213, 0.09643924981355667, 0.844074547290802, 3.303220272064209, 4.0766096115112305, 6.317381381988525, -6.29669713973999, -6.541618824005127, 1.6015347242355347, 3.9411916732788086, -1.716813087463379, -0.16420437395572662, 6.237836837768555, 1.7706886529922485, -4.279038906097412, 0.30864793062210083, 1.1760509014129639, 3.445627450942993, 4.532830238342285, 4.284397125244141, -1.1312304735183716, 1.8408393859863281, -2.703413248062134, 3.748647451400757, 2.8073339462280273, 0.4209660291671753, 3.480886936187744, 2.227342128753662, 6.078254699707031, 4.708893299102783, 3.710996150970459, -3.024188995361328, 3.4903481006622314, -3.1525163650512695, 3.130854368209839, 1.1876246929168701, 3.057023286819458, -1.7142417430877686, 0.08963294327259064, -0.706534206867218, -4.0533671379089355, -8.19766902923584, -6.346734523773193, 2.9662516117095947, -4.348563194274902, 4.035895824432373, -2.182568311691284, -1.408414363861084, 0.8911200165748596, -6.754822254180908, 3.4093005657196045, 3.387129545211792, -1.3663954734802246, 3.3168752193450928, -7.9828033447265625, -4.02806282043457, 0.16842427849769592, 0.8840363025665283, -3.368298292160034, 1.3364204168319702, 5.356405735015869, -5.5884222984313965, -1.4241902828216553, -5.994035243988037, -0.6792224049568176, 0.16283783316612244, 4.174093723297119, -8.029911994934082, -6.016136169433594, 3.1823570728302, -1.430167317390442, 0.8788982033729553, -0.6246467232704163, -5.055606842041016, 3.4144554138183594, 2.506253242492676, -6.0290093421936035, 6.611795902252197, 3.52935791015625, -2.8559858798980713, -0.7120042443275452, 0.15865322947502136, -1.1291773319244385, 3.0684878826141357, 0.6937240958213806, 2.756235361099243, 0.6063889265060425, 2.026578187942505, 1.7796224355697632, -3.9789130687713623, 3.561326265335083, -5.8507537841796875, -2.25232195854187, -4.368588924407959, -1.8812702894210815, -6.796045780181885, 2.4768636226654053, 3.762410879135132, 0.2552942633628845, -5.877560615539551, -1.4557756185531616, -6.341597557067871, 4.238122940063477, -6.6807861328125, -0.6609611511230469, -7.940215587615967, 1.3259003162384033, 4.3201704025268555, 1.5503225326538086, -1.5622516870498657, 6.334470272064209, -5.712371826171875, 3.849663734436035, 0.7579123973846436, -3.768803358078003, -3.0491693019866943, 2.8659417629241943, -6.472815990447998, -3.1504886150360107, 2.8530569076538086, 0.48513951897621155, 2.1027724742889404, 3.471205711364746, 2.857454299926758, -6.108330726623535, -5.564884662628174, -3.5973308086395264, 2.8556487560272217, 3.7651636600494385, -6.9075140953063965, 0.21255362033843994, -0.7886124849319458, -7.30112361907959, -0.7024112343788147, 1.8267912864685059, 0.16268861293792725, 1.501177191734314, -0.5523964762687683, 4.436350345611572, -1.8329582214355469, -0.9449940919876099, -2.0306339263916016, 0.74483323097229, -5.28086519241333, 6.541234970092773, 1.516743540763855, -1.3133800029754639, -2.8085813522338867, 4.632078647613525, 2.4692294597625732, 3.0159168243408203, 3.6788666248321533, 1.6340019702911377, 0.4572676420211792, -5.819459438323975, 2.706002712249756, 4.481165409088135, -3.7846741676330566, 3.7650182247161865, 5.457387447357178, 6.569707870483398, -7.71306037902832, 0.5404617190361023, -2.4396049976348877, 1.4355369806289673, 0.021998511627316475, 1.2408379316329956, -1.6664605140686035, 2.9866020679473877, 1.0454996824264526, 5.726208209991455, -1.3689006567001343, 3.280914306640625, -0.1650208681821823, 1.636043667793274, 2.3888354301452637, 1.7129462957382202, 0.5160491466522217, -0.08768686652183533, 3.7013025283813477, -2.9192237854003906, 5.964756965637207, 1.8609082698822021, -5.979909896850586, 3.2798612117767334, -5.910797595977783, 3.2839200496673584, 1.1376616954803467, 5.7443695068359375, 5.202230453491211, 2.836130380630493, 2.0979669094085693, -7.5539727210998535, 3.2211594581604004, -7.714210033416748, -4.391998767852783, -2.300408124923706, -7.730234622955322, 3.2139859199523926, 1.0855668783187866, 4.981357097625732, 1.7262096405029297, 1.0406278371810913, 0.5630121827125549, 4.179263114929199, 0.7023974061012268, 1.5746712684631348, -5.9621381759643555, 3.4956133365631104, 1.3892983198165894, 0.4866945445537567, 2.189324140548706, -3.886939287185669, -7.428499698638916, -1.3708161115646362, 5.0651140213012695, -4.746870517730713, 4.768306732177734, -2.226693868637085, 2.267423629760742, -4.469950199127197, -6.999712944030762, 4.697000026702881, 4.404617786407471, -0.1407521516084671, -7.5432353019714355, 3.5794296264648438, -7.758555889129639, -1.6026901006698608, 6.077945232391357, -1.8356983661651611, -4.371799468994141, -1.65976881980896, -2.9536311626434326, 1.848056435585022, -1.4349477291107178, 2.6124367713928223, -3.2054450511932373, -1.6517093181610107, 2.3530027866363525, 6.075128078460693, 3.9873974323272705, -6.912622928619385, -5.393784046173096, 1.9107060432434082, 4.8402419090271, 6.379158973693848, 2.3448092937469482, -8.153910636901855, -5.2990803718566895, 2.910098075866699, -6.224923610687256, 1.5141863822937012, -0.6209611296653748, 3.9167089462280273, 3.029005765914917, -6.126756191253662, 3.4467129707336426, -7.6010260581970215, 5.588973045349121, -7.129802703857422, 0.764597475528717, 3.468933582305908, 2.60280704498291, 1.6133369207382202, 6.234976768493652, -3.77366304397583, -1.1366716623306274, 0.7296589612960815, -6.095040321350098, 4.484725475311279, 1.8459452390670776, -4.2441534996032715, 1.851918339729309, -0.9147050976753235, -4.108199596405029, 4.485447883605957, -0.8466891050338745, -0.655687689781189, 3.3348703384399414, 3.8792288303375244, -5.867525100708008, -1.644054651260376, 0.9233183860778809, 2.99003267288208, 2.795717239379883, 1.8055915832519531, 1.1396540403366089, 3.086928367614746, -5.634537220001221, 1.4000670909881592, -1.2781870365142822, 3.9360344409942627, -1.894965410232544, 4.932504177093506, 6.544540882110596, 1.097280740737915, -7.859004497528076, 6.251405715942383, 3.622593402862549, -4.125158786773682, -6.584083080291748, 1.102449893951416, -6.024627208709717, -7.260422229766846, 5.304445266723633, 0.056129321455955505, 4.903463840484619, -8.189964294433594, -3.86912202835083, 2.4459781646728516, 3.619811534881592, 4.830338478088379, 1.988486886024475, 3.671126365661621, 0.5511433482170105, -0.693981409072876, 5.0897016525268555, 5.450573921203613, -1.450656533241272, 1.5602834224700928, 3.5934064388275146, -4.195309162139893, -2.9981319904327393, 0.0963171124458313, 2.9916961193084717, -6.887529373168945, -6.508279800415039, 0.9798587560653687, -6.002401351928711, -2.2124972343444824, -1.6959933042526245, 2.959657669067383, -1.912346601486206, 3.6219913959503174, 2.8801450729370117, 3.3225650787353516, -1.8832216262817383, 2.6761388778686523, -2.644848346710205, 3.715451717376709, -6.590325832366943, 1.3029052019119263, 3.3698463439941406, -5.774232864379883, 0.9414736032485962, 3.858765125274658, 2.9406259059906006, 2.9879677295684814, 3.3171370029449463, -0.26081305742263794, -2.0114588737487793, 3.7364418506622314, -6.715658664703369, -0.7682517170906067, 2.764833688735962, -5.961645603179932, 3.457523822784424, -2.1475069522857666, 2.5538434982299805, -3.3034181594848633, -0.15668030083179474, -0.9346418380737305, 1.7567676305770874, -3.232527494430542, -1.9465833902359009, -3.886587142944336, -3.2756152153015137, -2.7327802181243896, 1.9193249940872192, -2.523585557937622, 1.3167314529418945, -1.2910319566726685, 2.2957279682159424, -0.6171765923500061, 1.573137640953064, -6.8913068771362305, 6.402038097381592, -1.4809699058532715, -0.11191268265247345, 3.5036675930023193, 2.981377363204956, 6.150145530700684, -4.406172275543213, -0.053938787430524826, -2.375093460083008, -1.0160661935806274, 3.3816378116607666, -0.8453977704048157, 2.0216915607452393, 0.677821934223175, 0.038588281720876694, 0.7337405681610107, 3.3873214721679688, -4.711779594421387, 4.814601898193359, -5.640078544616699, 5.414965629577637, 1.3046691417694092, -3.7651238441467285, -2.6743290424346924, 2.6449520587921143, 3.5449488162994385, 1.2945305109024048, 5.320129871368408, 3.646739959716797, 5.70000696182251, 1.8420672416687012, 3.679511547088623, 2.7947165966033936, 5.683477401733398, -2.022463083267212, -3.5763819217681885, 2.7628304958343506, 0.1960034817457199, 3.3511345386505127, 3.6242053508758545, 1.094111680984497, 5.089699745178223, -2.5731236934661865, 6.614555358886719, -1.6795287132263184, 1.8970386981964111, 2.540496587753296, 3.5726497173309326, -1.977254867553711, 3.6088411808013916, 3.893444299697876, 2.098006010055542, 1.0086541175842285, 2.443870782852173, -8.291646003723145, 6.003090858459473, 6.389819145202637, 3.8029942512512207, -8.020245552062988, 1.3698879480361938, 0.6868033409118652, -6.5949554443359375, 1.2018284797668457, 3.050614833831787, -1.8612258434295654, -6.14670991897583, 3.665860414505005, 2.9933722019195557, 1.4693546295166016, 3.40226411819458, -1.4265081882476807, 1.049561619758606, -6.997684478759766, -1.1566842794418335, 3.6176958084106445, -1.1615029573440552, -5.658374309539795, -2.1673827171325684, 4.082472324371338, 0.7642229199409485, -3.0101664066314697, -4.90209436416626, -1.611809492111206, 4.530280113220215, 2.457411050796509, -6.93737268447876, -2.998136281967163, 1.1842312812805176, -5.137596130371094, -2.5997657775878906, 3.2761895656585693, 4.296128749847412, -0.4606378972530365, -7.75258207321167, 0.6735881567001343, -1.643785834312439, 1.3538620471954346, 1.8600448369979858, 3.49249529838562, 2.0495340824127197, -6.4157514572143555, 1.8306233882904053, -6.102193832397461, -2.6658456325531006, -4.335080623626709, -3.5789501667022705, 3.681230306625366, 4.977787494659424, -2.1783549785614014, 3.0520849227905273, 3.0260226726531982, 3.4510669708251953, 3.651005268096924, -7.006579875946045, 3.4397315979003906, 1.7873203754425049, -0.050097741186618805, -3.5514345169067383, 1.1034488677978516, 4.03023624420166, 4.459125995635986, 0.7657172679901123, 1.5533243417739868, -8.214776039123535, 4.815258502960205, 5.305778980255127, -2.405862331390381, -3.036696195602417, 1.21481192111969, 3.6755638122558594, -2.07966685295105, 3.348904848098755, -6.516477584838867, 1.1658381223678589, -2.683258056640625, 4.7578253746032715, 3.1267154216766357, 4.303439140319824, -5.961109161376953, -3.753596544265747, -3.5480194091796875, 3.096025228500366, 5.035389423370361, 2.2749826908111572, -2.8504436016082764, -2.641054391860962, -5.964056491851807, 2.3451833724975586, 0.767174243927002, -4.166829586029053, -6.297304630279541, 3.643690586090088, 1.2122063636779785, -0.02330753393471241, 2.2720587253570557, -4.3175153732299805, -1.0312693119049072, 2.2425308227539062, -2.9590981006622314, 0.7996290326118469, -4.008419036865234, -0.5569400191307068, -1.9135463237762451, -7.397332668304443, 2.795924425125122, 2.3451130390167236, 2.4494848251342773, -0.25026386976242065, 3.8969130516052246, 0.6294223666191101, 3.250927209854126, -1.6139768362045288, -1.3226289749145508, -5.96124792098999, 2.8048789501190186, -2.4319100379943848, -2.70550274848938, -2.156254529953003, 2.5077431201934814, 1.810395359992981, 1.5354735851287842, 3.3974711894989014, -7.515371799468994, -4.042372703552246, 0.8594443202018738, 2.1786961555480957, -3.032836437225342, -2.5461385250091553, 1.8849619626998901, -5.881373405456543, -5.552927494049072, 3.1431691646575928, -8.018507957458496, 2.733140468597412, 3.941129446029663, -4.371124744415283, 0.3897242546081543, 3.2335407733917236, 3.7752983570098877, -6.764305114746094, 6.521895408630371, -1.7202115058898926, 3.1112849712371826, -3.648444652557373, -5.24537992477417, 4.000465393066406, 3.480815887451172, 3.4328184127807617, 1.5660758018493652, 4.531355381011963, -5.049955368041992, 3.419584274291992, 3.2420284748077393, 4.337298393249512, 2.064182996749878, 1.4817626476287842, 0.9950038194656372, -0.8912884593009949, -1.4576562643051147, 1.7880275249481201, 1.3621656894683838, -1.4154466390609741, 1.619258999824524, -2.941997766494751, -3.7861249446868896, -7.900532245635986, 3.1884918212890625, -6.985098361968994, 4.034164905548096, 4.847598075866699, 0.2194141298532486, -2.769944190979004, -2.997971534729004, -0.9267322421073914, 0.5230349898338318, 1.6891978979110718, -2.933274984359741, 3.622485637664795, -8.15953540802002, 3.3167781829833984, -0.07401560992002487, 3.819084644317627, 3.6873042583465576, 1.3514025211334229, 6.542346954345703, -1.2081358432769775, 3.0541841983795166, 2.8305087089538574, -0.9895282983779907, 3.5106451511383057, -0.6491246819496155, 1.9132276773452759, -1.0973931550979614, -7.26268196105957, 2.896379232406616, 2.1543872356414795, -2.478388547897339, -1.8236377239227295, 0.7293382883071899, 2.0276753902435303, 1.9802963733673096, 0.6914920806884766, -4.767309188842773, -1.039360761642456, 3.687614917755127, -4.514032363891602, 0.0546393059194088, 0.6789999008178711, 2.787381410598755, 4.030828475952148, 3.5564351081848145, 5.6859002113342285, 1.8164433240890503, -6.007216453552246, -4.0300188064575195, -7.1737189292907715, -5.668083190917969, 2.3948774337768555, 3.085150957107544, 0.08559075742959976, 4.181459903717041, 6.2603936195373535, -0.6847171187400818, 4.852320671081543, -2.869546413421631, 3.5085582733154297, 3.3682260513305664, -0.6498501300811768, -6.8658952713012695, 2.058720111846924, -1.5011587142944336, -5.622539043426514, 2.1119911670684814, -3.528895139694214, 3.433497667312622, -3.643805503845215, -2.1628036499023438, 3.3831098079681396, 6.519628524780273, 6.486139297485352, 1.571427583694458, 4.307140350341797, 1.7274832725524902, -7.700776100158691, 4.622122287750244, -5.008541107177734, 2.440927028656006, -4.350902080535889, -8.095998764038086, -6.658407688140869, 1.177173376083374, 1.8469170331954956, 3.3006467819213867, -4.472187519073486, -3.026155710220337, 2.334988832473755, 3.435967206954956, 5.70374059677124, 2.77597713470459, -1.7180964946746826, 2.1629319190979004, 1.854360818862915, -7.826014041900635, 1.915824294090271, 3.2295823097229004, -0.4265642464160919, 3.123685836791992, -4.219438552856445, 1.3274420499801636, 2.634143114089966, -8.082409858703613, -6.660356044769287, 0.9054867625236511, 1.238069772720337, -1.50101637840271, 1.501022219657898, -4.108135223388672, 6.375250816345215, 1.9595476388931274, 4.910703182220459, 2.056495189666748, -1.9727401733398438, -7.601195812225342, 2.060494899749756, -0.07710856199264526, 1.782529354095459, -7.398805618286133, -4.40444803237915, -7.269150257110596, 5.383456707000732, 3.335878849029541, 1.7749959230422974, 1.0837464332580566, 6.4792561531066895, -5.126051425933838, 6.448992729187012, -0.5416480302810669, 3.815730094909668, 3.435967206954956, 3.893723249435425, -5.224968433380127, 2.584895133972168, 2.328429937362671, 6.093655109405518, 5.716621398925781, -0.9352888464927673, 3.1985392570495605, 4.153085231781006, 5.00994873046875, -0.7149568796157837, 0.516555905342102, -4.094603061676025, 1.6075352430343628, -5.974879741668701, 1.1185016632080078, 2.687011957168579, -1.7842187881469727, 4.174093246459961, -2.8738763332366943, -0.11984724551439285, -6.790638446807861, 6.041629791259766, -1.717401146888733, 1.5085221529006958, 3.8916265964508057, 1.0726662874221802, -8.141754150390625, -2.9744625091552734, 1.7816411256790161, 3.0234992504119873, 1.860856056213379, 4.571839809417725, 3.30759334564209, 2.9830551147460938, -1.6224526166915894, -3.590003490447998, 2.8122618198394775, 3.984968662261963, -0.35365015268325806, -2.105203866958618, 2.4394712448120117, 0.8783838748931885, 2.2887179851531982, 4.075235366821289, 3.972836971282959, -1.1874194145202637, 0.3603469133377075, 3.089123010635376, 4.194221019744873, 3.320127010345459, -6.803109645843506, -7.845001220703125, -2.1456687450408936, 1.898008942604065, 1.7224138975143433, 1.8214836120605469, 4.974808692932129, 0.0420207679271698, 3.4718358516693115, 1.5630414485931396, 3.1794793605804443, 2.671938896179199, 1.6056287288665771, -1.5907678604125977, 3.665010690689087, 1.1635146141052246, -3.673168659210205, -5.639942169189453, 0.1688106507062912, 2.970144271850586, 5.238018989562988, 3.0092227458953857, -0.8511546850204468, 3.5969080924987793, -3.067781448364258, 0.5609966516494751, -7.313309669494629, -2.341630697250366, -5.8608856201171875, -6.62609338760376, 1.958863615989685, 0.8306077718734741, -1.4721519947052002, 5.914741516113281, -4.0257110595703125, 3.7583305835723877, 0.9018281102180481, -2.112102746963501, -6.891759395599365, 3.9494993686676025, -2.879640579223633, 2.55588698387146, 3.5400497913360596, 4.944112777709961], \"coloraxis\": \"coloraxis\", \"size\": 5, \"symbol\": \"circle\"}, \"mode\": \"markers\", \"name\": \"\", \"scene\": \"scene\", \"showlegend\": false, \"type\": \"scatter3d\", \"x\": [-2.014634847640991, 1.00470769405365, -2.064075231552124, -6.9250807762146, 2.201202392578125, -7.330971717834473, 0.620262622833252, 3.181382179260254, 5.622998237609863, -5.892298221588135, 1.7482293844223022, -3.2248315811157227, 5.929698944091797, -7.704146862030029, -18.7526912689209, 2.2540242671966553, 6.679749965667725, -9.688535690307617, -11.764135360717773, 8.054308891296387, -6.770397663116455, 7.739436149597168, -2.972830057144165, -3.238211154937744, 3.4266998767852783, 4.058887481689453, 2.066559314727783, 2.9357309341430664, 6.652635097503662, 2.245242118835449, 0.2890205979347229, 3.488034248352051, 2.123914957046509, -16.48467445373535, -15.30009937286377, -2.190068006515503, -8.203571319580078, 0.9399530291557312, -1.3728930950164795, 0.8393393158912659, 8.404194831848145, 3.7701797485351562, -15.277356147766113, -15.353787422180176, -1.5722960233688354, -3.543632745742798, 2.3096725940704346, 1.998788595199585, -1.9210853576660156, -2.914588212966919, 7.175152778625488, -15.099977493286133, 7.840108394622803, -8.29497241973877, -0.4451901912689209, 3.0668389797210693, -16.0109920501709, -0.486376017332077, 8.248198509216309, 7.742382526397705, 4.771307945251465, -6.337499141693115, -9.37362003326416, -2.96988844871521, 5.258507251739502, -9.845900535583496, 2.026634454727173, 3.921738386154175, -5.998860836029053, 2.57741641998291, -10.770149230957031, -10.630444526672363, 7.223212242126465, 6.242074012756348, 6.2311015129089355, -0.11419399827718735, 2.06671404838562, 6.8144989013671875, 8.273900985717773, -2.7572290897369385, 5.132849216461182, 3.0463573932647705, -12.847061157226562, 1.8101524114608765, 6.6629462242126465, 7.508827209472656, 4.6932806968688965, -3.7374844551086426, 1.1262718439102173, 5.73331356048584, 4.477636337280273, 6.898741245269775, 1.8356982469558716, -2.0130455493927, -8.049349784851074, -10.667376518249512, -19.26280975341797, 3.521911382675171, -2.1720035076141357, 3.294268846511841, -13.27733325958252, 6.909396648406982, 8.918688774108887, 4.955533981323242, 0.11042270809412003, 8.339241027832031, -2.961073637008667, -13.828307151794434, 5.493906497955322, 4.106042861938477, -7.12166690826416, 2.0661633014678955, -1.3565887212753296, 2.774402379989624, -19.200145721435547, -4.790863990783691, 6.453062057495117, 2.3842084407806396, 6.616960525512695, 4.82717227935791, 3.2199511528015137, 8.667007446289062, 3.692462921142578, 6.008625507354736, -18.471080780029297, 6.080501079559326, 6.7161126136779785, 7.505436420440674, 2.431068181991577, -0.37298914790153503, 1.9789633750915527, 4.692207336425781, 5.746975421905518, -4.397028923034668, 5.43173360824585, -0.25508829951286316, 8.211263656616211, 2.115800380706787, 4.689877033233643, -4.240426063537598, -5.2916107177734375, -3.56343412399292, 7.952122688293457, -4.709347724914551, 2.0943872928619385, 6.63651180267334, 2.713007688522339, 7.166450500488281, -2.1259403228759766, 2.3792176246643066, 0.13919463753700256, 7.793333530426025, -15.274223327636719, 2.35298490524292, -2.585636615753174, 1.4310991764068604, 3.6265015602111816, 7.316009998321533, 2.1865665912628174, -0.5109652280807495, -0.05516817793250084, 5.602186679840088, -0.34641143679618835, 6.742980480194092, 2.2012388706207275, 3.311246633529663, 2.331578493118286, 3.681943655014038, 2.74934720993042, -6.517955303192139, 3.4015676975250244, 7.352853298187256, 0.4792736768722534, 8.181900978088379, 2.420806884765625, 1.2368074655532837, -5.747703552246094, 2.07251238822937, 6.3608832359313965, -0.3845076262950897, 2.416632652282715, -7.643324375152588, -2.9878952503204346, 7.24888801574707, -1.2193306684494019, 2.693901300430298, 7.972641468048096, -4.903613090515137, 4.25518798828125, -10.058115005493164, 8.80491828918457, -3.5389440059661865, -1.9322360754013062, 3.2086024284362793, -3.7179813385009766, 2.7035365104675293, -5.298437595367432, 4.841529369354248, -10.375007629394531, 3.6317672729492188, 2.249729871749878, -2.155607223510742, 3.7980270385742188, 4.245450496673584, 4.499040603637695, -8.576814651489258, -2.521371603012085, 7.94256591796875, 5.2614922523498535, -0.36920595169067383, 2.9036049842834473, -12.031148910522461, -7.8652238845825195, -19.154348373413086, 0.05181380733847618, 4.916080474853516, -3.0932600498199463, -3.7771987915039062, -16.879344940185547, -11.30643081665039, -1.7308449745178223, -6.8777546882629395, -4.61622953414917, 5.562236785888672, 5.382225036621094, 1.9720780849456787, 8.195898056030273, -4.621764183044434, 1.2824738025665283, 1.8163373470306396, 6.523447513580322, -0.11756577342748642, -18.504907608032227, 6.728821754455566, 3.099849224090576, 2.811370611190796, 3.03167462348938, 2.262471914291382, 5.217389106750488, 5.447033405303955, -18.973804473876953, 7.824592590332031, 3.830171585083008, -13.416881561279297, 1.707800269126892, 5.860219478607178, -7.578897953033447, 2.937314987182617, 8.218001365661621, 0.3035374879837036, 2.1616837978363037, 6.704499244689941, -15.609564781188965, -9.258578300476074, 2.0866944789886475, 0.35823196172714233, 2.7724292278289795, 6.392239570617676, 3.0275843143463135, -9.544708251953125, 3.00138783454895, 2.7759618759155273, 2.6707828044891357, -19.961788177490234, -0.29010844230651855, 3.029172658920288, 2.0222363471984863, -6.1510396003723145, -10.965928077697754, 2.6890716552734375, -8.280173301696777, 7.1155829429626465, 5.685897350311279, 4.102675914764404, -2.42056941986084, -18.383085250854492, 1.2535330057144165, -0.5712988972663879, -2.534365653991699, 6.716592311859131, -4.310275077819824, 0.15804529190063477, 8.569884300231934, 6.318344593048096, 2.3375699520111084, 5.091045379638672, 6.570674896240234, 4.887814044952393, 3.7421467304229736, -1.1576972007751465, -10.007572174072266, -0.9007245898246765, 3.1869380474090576, -19.61475372314453, 2.598409414291382, -5.100455284118652, 2.1783041954040527, -18.43103790283203, 3.1719939708709717, -2.350320816040039, -9.742873191833496, -1.9085581302642822, 5.6552414894104, -8.770724296569824, 2.158146381378174, -12.915413856506348, 7.326145172119141, 2.6777899265289307, 2.217933416366577, 7.866125583648682, 2.5916130542755127, 7.357213973999023, 3.6955583095550537, 7.868994235992432, -2.3962881565093994, -2.2822678089141846, -6.263198375701904, 2.5608105659484863, 5.441850662231445, 6.15797758102417, -6.435105323791504, -12.665709495544434, 4.091372013092041, 7.3446526527404785, 4.348504066467285, 3.1332623958587646, 4.232030391693115, 0.34305351972579956, 4.864395618438721, -1.5824483633041382, 0.4498462677001953, -4.660595417022705, 4.707392692565918, -19.95098114013672, 4.935041904449463, 7.070225238800049, 2.5642549991607666, -6.683761119842529, 7.9738850593566895, 6.029537200927734, 6.765000820159912, -8.368443489074707, -10.703349113464355, 2.811638593673706, -4.27039098739624, -1.8030186891555786, 7.815004348754883, 4.804748058319092, 0.05606403946876526, -4.660312175750732, 1.9852721691131592, -12.665694236755371, -4.253427505493164, -6.704564094543457, 2.9066455364227295, -3.615691661834717, 4.141685962677002, 7.623369216918945, 3.321549415588379, -1.1122539043426514, -21.011083602905273, 7.615068435668945, -0.14302778244018555, -6.543186664581299, 6.27658224105835, -3.895979881286621, 3.2683725357055664, -3.192575693130493, -0.5307482481002808, -1.410710334777832, 0.6125982999801636, 2.1055829524993896, -6.6777544021606445, 4.72291374206543, -5.584334373474121, -0.15585260093212128, 3.9855120182037354, -11.20965576171875, 3.584632635116577, 0.07238118350505829, 2.0856568813323975, -10.39539623260498, -4.150899410247803, 8.223868370056152, 0.4722212255001068, 2.2785184383392334, -3.648087978363037, 3.1746883392333984, 7.277734756469727, 5.722692012786865, 2.2545247077941895, 2.4535019397735596, 0.03384335711598396, -2.8362343311309814, 8.340015411376953, -15.376935005187988, 7.862793445587158, -10.145164489746094, 1.9836376905441284, 1.2266443967819214, 2.306757926940918, -3.9892563819885254, -15.032835960388184, 7.726204872131348, 0.005870138294994831, 2.605532646179199, 2.867070198059082, 5.206666469573975, -9.011309623718262, 6.553188800811768, -11.810680389404297, 2.649535894393921, 6.100413799285889, 5.961337089538574, 2.3096210956573486, -2.5674703121185303, -4.534677505493164, 1.0084459781646729, 2.8740437030792236, -6.031871318817139, 2.197284698486328, 6.537021160125732, -5.598828315734863, 4.85686731338501, 7.762857437133789, 2.624767541885376, 0.760015070438385, 1.301527976989746, 4.740260601043701, -0.2949586510658264, 2.4433348178863525, 0.4608522355556488, 0.08534222841262817, -8.86124038696289, 8.603558540344238, 1.8337548971176147, 2.722076416015625, -2.1171774864196777, -5.157328128814697, -6.4453911781311035, 0.14630816876888275, 2.483452796936035, 2.260777711868286, -0.5370382070541382, 2.929265022277832, -2.834751844406128, 3.5675806999206543, 3.5747694969177246, 1.786358118057251, 3.921738624572754, -4.200973033905029, 2.9380288124084473, -10.600096702575684, 3.8079442977905273, 8.02355670928955, -1.833348274230957, -11.740806579589844, -3.154242515563965, -8.441948890686035, 7.184550762176514, -18.833791732788086, 2.421722412109375, 3.231292724609375, -2.763547897338867, -14.757915496826172, 7.387905120849609, 0.8318758010864258, -18.672412872314453, 6.338009834289551, -8.100258827209473, -19.625463485717773, 7.254040241241455, 3.4237284660339355, -5.6883721351623535, 4.441134929656982, -21.015352249145508, 8.336913108825684, 1.5594737529754639, 7.945339679718018, 8.326349258422852, 8.427860260009766, 0.9776281714439392, 2.886645793914795, -3.268183708190918, 4.829528331756592, 4.290484428405762, 8.791242599487305, -2.850491523742676, -7.340709686279297, -1.363653302192688, 2.9366564750671387, -6.1118364334106445, -3.6567533016204834, 6.914670467376709, 2.7878427505493164, 7.4229655265808105, 3.635450839996338, 2.5290162563323975, -11.388449668884277, 9.446242332458496, -11.763504981994629, 2.7663393020629883, 8.386612892150879, 8.108368873596191, -10.61086368560791, -8.4990234375, -0.26691582798957825, 2.9562127590179443, -1.2940313816070557, 2.8496994972229004, -3.1689929962158203, -6.102412700653076, 0.43206271529197693, -2.956258773803711, -5.829235553741455, 2.683833599090576, 5.340505123138428, -3.716902017593384, -5.267726898193359, 4.535210132598877, 2.3666088581085205, 2.366745948791504, 2.7379708290100098, 4.121824741363525, -20.899503707885742, -4.835926532745361, 5.550448894500732, 2.2420291900634766, 4.672219753265381, 5.99039363861084, 6.554939270019531, -13.551302909851074, 8.194317817687988, 2.527082920074463, 3.1114501953125, 0.8131767511367798, 4.423135280609131, 2.1793410778045654, -1.005399227142334, -2.138509511947632, -0.5724755525588989, -13.941314697265625, 3.8143904209136963, 3.750413179397583, 7.447778224945068, -4.023677349090576, 1.825289011001587, 4.181502819061279, -2.1081809997558594, 2.307633399963379, -13.230326652526855, 5.624048233032227, -13.268816947937012, 2.161634922027588, 3.868175983428955, -18.827077865600586, 5.284788608551025, 7.6079559326171875, 8.953181266784668, 5.468039512634277, 0.8012138605117798, 4.591022968292236, 6.342624664306641, -0.28096112608909607, -15.39311695098877, -20.301443099975586, 8.133447647094727, 2.1375904083251953, 7.476996898651123, 3.9071991443634033, -6.766201019287109, -20.798131942749023, 6.136105060577393, 2.0789968967437744, 5.680477142333984, -8.895576477050781, 8.117080688476562, -18.743526458740234, -0.6091163754463196, 4.496989727020264, -3.890317678451538, -19.5108642578125, 8.186461448669434, -15.868971824645996, -17.390825271606445, 1.2577906847000122, 2.804727077484131, 6.740967750549316, -8.660307884216309, 2.9322991371154785, -10.903013229370117, 0.6842300295829773, 1.535581111907959, 7.308215141296387, -0.39010095596313477, -6.372893810272217, -1.6709516048431396, -11.163338661193848, 6.695949554443359, -4.691312789916992, 7.329021453857422, -7.346299171447754, 7.8880791664123535, -10.334416389465332, 4.804791450500488, 5.7813029289245605, -3.6454639434814453, 9.348518371582031, 3.119494915008545, 4.394669532775879, 1.137392282485962, -3.1689906120300293, -0.11388275772333145, -8.565282821655273, 3.005427837371826, -3.8423876762390137, -6.486238479614258, -5.670068740844727, 6.608771800994873, 5.954195499420166, 3.9162049293518066, -1.6216908693313599, 8.030837059020996, -0.822559654712677, 2.7466542720794678, -6.641566276550293, -6.366263389587402, -2.4721415042877197, 2.766090154647827, -15.254669189453125, 5.919689655303955, 3.591177225112915, -15.503350257873535, -13.914764404296875, 8.705029487609863, 3.019052028656006, -13.269542694091797, -0.9783221483230591, -2.679940700531006, -3.020273208618164, 4.854854583740234, -1.2234922647476196, 2.3555819988250732, 4.29511833190918, 2.9392285346984863, 4.818093776702881, 2.2447474002838135, 5.6109843254089355, -12.735942840576172, 8.005960464477539, 1.6854649782180786, 1.8018152713775635, 0.41161006689071655, -5.928447246551514, -0.11383599042892456, 3.9604265689849854, 5.340482711791992, -1.4290250539779663, 3.750114679336548, 7.103240013122559, -1.445314884185791, -5.042832851409912, 7.315082550048828, 3.586660146713257, -0.5134618878364563, 5.029765605926514, 1.2117061614990234, 5.307441234588623, -5.015073299407959, 0.9974304437637329, 3.3104729652404785, -2.616229772567749, 3.2773919105529785, 3.0387024879455566, 6.451018333435059, 5.766107082366943, -13.567915916442871, -2.8688547611236572, 3.5122828483581543, -4.893915176391602, -1.410997748374939, 7.190523147583008, 5.473535537719727, 2.3441648483276367, -3.8762097358703613, -2.685769557952881, 2.662545680999756, 5.170273780822754, 1.047963261604309, 5.391811370849609, -2.352409601211548, 1.2726399898529053, 0.33847716450691223, 2.3471133708953857, -3.208984136581421, -8.306984901428223, 5.209268569946289, 4.964053153991699, -3.0173141956329346, 6.751272201538086, 5.722553253173828, -1.8240584135055542, 3.1653692722320557, -0.011710369028151035, 3.5095643997192383, -2.7571170330047607, -7.030073165893555, -9.776436805725098, 2.304497241973877, 1.5919557809829712, 5.69139289855957, 2.7160654067993164, -3.9718477725982666, -2.2730541229248047, 5.6397881507873535, 5.413345813751221, 2.3317713737487793, -5.836977005004883, -0.7378389835357666, 5.8520684242248535, 3.0984814167022705, 3.4789340496063232, 0.6875615119934082, 3.5917840003967285, -4.335743427276611, 6.80047082901001, 4.38460111618042, 8.230161666870117, 8.031624794006348, -16.284366607666016, 5.732971668243408, -18.978540420532227, 5.453988075256348, 3.4300360679626465, -13.206843376159668, -5.836968898773193, 2.5499966144561768, 4.382436752319336, 3.4565446376800537, -0.29601725935935974, -5.930970191955566, 5.533755779266357, 5.41752815246582, 2.3192808628082275, -13.626830101013184, 5.183577537536621, 4.852883338928223, 3.501437187194824, -0.031432490795850754, -1.2823296785354614, 7.564102649688721, -6.090766906738281, 2.9643149375915527, 7.535251140594482, 1.4912890195846558, 5.296030521392822, 0.8884175419807434, 3.6040825843811035, -5.423353672027588, 2.618837594985962, 1.9763675928115845, -7.360057830810547, 1.5345371961593628, -6.065340995788574, -2.4572501182556152, 6.978868007659912, 7.541337966918945, 8.3789701461792, -5.088316917419434, 3.6942453384399414, -7.541306018829346, -20.993791580200195, 2.933455228805542, 6.763965606689453, 2.1686880588531494, 3.7660751342773438, -7.144598960876465, -3.0384392738342285, 1.0849422216415405, -4.355988025665283, 2.085087299346924, -10.321234703063965, 6.283874988555908, 8.698992729187012, 1.8061364889144897, 7.5944132804870605, 1.0373986959457397, 3.8968796730041504, -19.65056610107422, -1.1551741361618042, 7.384631633758545, 6.739710330963135, 8.353486061096191, 5.815767765045166, 5.970019340515137, 3.0340564250946045, 5.98736572265625, 3.6249735355377197, -5.203200340270996, -6.863647937774658, -0.0626588687300682, 6.634745121002197, 5.340749263763428, 5.273594856262207, 0.7154709696769714, 1.1417955160140991, 5.448657989501953, -3.4084763526916504, 3.1379506587982178, -2.882751703262329, 3.4982244968414307, 4.990740776062012, 4.56756067276001, -2.5966475009918213, -7.740121364593506, 8.482385635375977, 6.033219814300537, -5.169806957244873, 7.155755519866943, 7.2506585121154785, 2.0207200050354004, -14.762140274047852, 5.90431022644043, 2.6302828788757324, -0.5216880440711975, 0.38227930665016174, 4.65367317199707, 5.522364139556885, -16.746408462524414, -5.419492721557617, -1.2272493839263916, -2.5180842876434326, 2.124861240386963, -20.024770736694336, 5.536722660064697, 1.605278491973877, 0.24432897567749023, 1.350252628326416, -0.7650144696235657, 7.861439228057861, -6.943885803222656, -7.535136699676514, 0.7797576785087585, 3.016763210296631, 7.615358829498291, 2.5167629718780518, 2.995304584503174, 5.882089138031006, 0.9153022766113281, -17.326631546020508, -5.577387809753418, -8.10937786102295, 7.886046886444092, -4.614944934844971, 5.7346577644348145, -2.8876304626464844, 6.279764652252197, -19.58917808532715, 4.114372253417969, -14.395011901855469, 4.742210865020752, 2.484532594680786, -14.224388122558594, 5.641933917999268, 7.261569499969482, 7.471663475036621, 2.07657790184021, -5.140415191650391, -7.4152092933654785, -6.517951488494873, -2.7733089923858643, -12.358115196228027, -14.056291580200195, 3.2530338764190674, -11.986669540405273, 1.8734018802642822, -4.664270401000977, 7.112390041351318, 2.2884745597839355, 3.2844350337982178, -0.23145736753940582, -14.59304141998291, -6.147065162658691, 2.2524595260620117, 6.702767848968506, -4.27752161026001, -5.334430694580078, -10.491518020629883, 2.3202426433563232, -21.155508041381836, -1.3527476787567139, -4.534665107727051, 3.0801756381988525, -4.523604393005371, 4.49355936050415, -18.129409790039062, -7.783185005187988, 7.135354518890381, -2.0051894187927246, -0.7674261927604675, 2.5450658798217773, 3.5792038440704346, 1.736220121383667, 1.33821702003479, 5.6533589363098145, 8.232705116271973, 2.726755380630493, -6.128525733947754, 0.7807222008705139, -8.862466812133789, -14.567940711975098, 5.500082015991211, 2.4808008670806885, -1.348655343055725, -17.492088317871094, -3.6463329792022705, 3.3135082721710205, 6.728832244873047, 2.306852340698242, -3.9263505935668945, -13.26734447479248, -3.8740932941436768, -16.06816864013672, -6.7270989418029785, 6.286105155944824, -6.325900077819824, 3.2649004459381104, 8.535801887512207, -5.334430694580078, 5.7263593673706055, 2.2117533683776855, -13.102088928222656, -2.0166878700256348, -9.0643892288208, -7.3171467781066895, 8.649903297424316, -13.628510475158691, 8.582417488098145, -3.500211238861084, 3.0840156078338623, 2.646373748779297, 7.720432758331299, -2.307088613510132, 2.7077081203460693, 0.209978386759758, -6.30230712890625, 5.540008544921875, -9.544699668884277, 4.008115291595459, 7.026504039764404, 3.7872793674468994, -9.599556922912598, -20.53632164001465, 0.7138442397117615, -8.17109489440918, -1.1578501462936401, 2.511763572692871, 3.4556314945220947, 7.845676422119141, 1.8385785818099976, -0.1559290736913681, -6.349279403686523, 3.985736131668091, 5.944785118103027, 6.7718729972839355, 7.9453325271606445, -0.4845180809497833, 4.28018856048584, 0.3252588212490082, -0.2357175350189209, -5.4148945808410645, -15.897125244140625, 5.57014799118042, 8.61328125, 4.012692928314209, 2.413837194442749, -0.197862908244133, 2.428034543991089, -5.387627601623535, -4.177712440490723, 3.9258620738983154, 2.885671854019165, 5.1568498611450195, 1.3357716798782349, 1.0048326253890991, -2.7261030673980713, -3.9938952922821045, 3.575577735900879, 6.408923149108887, 8.287847518920898, 6.2559919357299805, -5.71307373046875, 7.433100700378418, 6.640505313873291, 2.2468974590301514, 8.17403793334961, 1.328209638595581, 2.145336151123047, 5.83776330947876, 6.349061489105225, -4.917149066925049, 6.034468173980713, -19.007610321044922, 3.3576481342315674, 3.3049299716949463, 2.570614814758301, 3.56842303276062, 3.8477847576141357, 2.9420247077941895, 4.306044578552246, 0.7924844026565552, 1.4250940084457397, 4.952847480773926, -5.069822788238525, 8.385345458984375, -7.107486248016357, 1.9733610153198242, 6.603966236114502, 4.109638690948486, 5.386241436004639, 4.159206867218018, -6.6593098640441895, 2.468524932861328, -11.673406600952148], \"y\": [2.5484840869903564, 5.6580119132995605, -4.353811740875244, 15.726404190063477, 13.280653953552246, -0.976119875907898, 14.685783386230469, 10.83746337890625, -16.064937591552734, 15.962567329406738, 11.903834342956543, -5.908724784851074, 1.4074970483779907, -1.3030672073364258, -5.269402503967285, 10.834136009216309, 6.533553600311279, -4.981232166290283, -5.46848726272583, -9.652562141418457, -3.9524099826812744, -5.292174816131592, 15.468338012695312, -3.161911964416504, 0.3221379220485687, -12.64889144897461, -3.108889579772949, 5.462228298187256, -7.8510355949401855, -16.428016662597656, -4.336556911468506, 7.370719909667969, 3.9276175498962402, -4.631741523742676, -2.01397442817688, 15.274360656738281, -0.20754577219486237, 14.424600601196289, 0.6094562411308289, 14.649222373962402, -10.70907974243164, -6.300051689147949, -2.0495529174804688, -3.9328901767730713, 1.701090693473816, -1.8252546787261963, -10.546002388000488, 13.65281867980957, 14.506471633911133, 1.0111610889434814, -4.710693836212158, -4.400931358337402, -7.06821346282959, -1.0252748727798462, 12.255875587463379, -17.088712692260742, -3.589770793914795, 3.9306321144104004, -12.295858383178711, -13.827010154724121, 12.765241622924805, -0.06169268861413002, -3.082949638366699, -1.4733680486679077, -16.157981872558594, -3.2071692943573, 11.237927436828613, 3.00569748878479, -5.099200248718262, 12.687596321105957, -3.0450425148010254, -2.94403076171875, -7.862603187561035, -14.2800931930542, -8.02823543548584, 14.564773559570312, -16.094390869140625, 6.901566028594971, -5.68720817565918, -6.485528945922852, -1.00635826587677, -16.879148483276367, -3.133911609649658, -6.4737091064453125, -15.045790672302246, 0.2971982955932617, -1.8182252645492554, 15.051058769226074, 14.351902961730957, 7.965606689453125, 0.8098030686378479, -5.974632740020752, -4.188264846801758, 15.32629680633545, 0.10973764210939407, -3.115618944168091, -4.7203264236450195, -12.65321159362793, 3.7225117683410645, -3.608560800552368, -3.093449354171753, 3.6830179691314697, -8.218344688415527, 8.170357704162598, 5.390307426452637, -6.520150184631348, 2.4956624507904053, -3.9689812660217285, 7.517251491546631, -11.532463073730469, -2.7898075580596924, -9.980088233947754, 1.4662123918533325, 12.224198341369629, -5.216073989868164, -2.4815409183502197, 7.074174404144287, -17.60393714904785, 3.298959255218506, -14.031942367553711, -5.839494228363037, -11.180682182312012, 0.8320783972740173, 2.156633138656616, -5.277011871337891, 5.352604389190674, -4.191233158111572, -3.9782755374908447, 13.091086387634277, 14.970226287841797, 13.630045890808105, -4.5152201652526855, 4.65782356262207, 15.78487491607666, -6.570005416870117, 3.8788180351257324, -6.006044387817383, -6.5366692543029785, 0.6086217761039734, -3.659323215484619, 0.6847335696220398, 1.4771019220352173, -10.121170043945312, 1.4721843004226685, -9.99909496307373, 2.312701463699341, -10.95348072052002, -5.354464530944824, 15.572806358337402, 9.750054359436035, 7.375704765319824, 2.9457995891571045, -1.9727709293365479, -7.93483829498291, -5.6558051109313965, 5.822408199310303, -1.8623743057250977, -5.419455528259277, -4.169597148895264, 5.2941575050354, 9.220033645629883, -1.877962350845337, 6.133400917053223, 7.195108413696289, 8.91959285736084, -6.546602249145508, -6.915914535522461, 2.837847948074341, -9.491005897521973, 0.058914124965667725, -0.8203082084655762, -13.574230194091797, 13.919195175170898, -13.783888816833496, -4.067540168762207, -7.571407318115234, 14.505449295043945, 5.8035502433776855, 5.895516395568848, 14.654924392700195, 12.614876747131348, -1.0474419593811035, -4.747059345245361, -13.392887115478516, 15.330653190612793, 12.362936019897461, -3.95365834236145, -4.806764602661133, 4.206719398498535, -1.7569140195846558, -5.984304904937744, 1.1354843378067017, 2.464571952819824, -0.8989904522895813, 16.121488571166992, 7.629055500030518, -0.3479261100292206, -13.610408782958984, -1.8375656604766846, 2.5919313430786133, -4.341860294342041, -3.7137985229492188, -12.721436500549316, 12.920881271362305, -6.454686164855957, -2.807973623275757, -3.74701189994812, 1.3930774927139282, -5.897512912750244, 14.294504165649414, -11.833062171936035, -2.9651646614074707, -5.0553154945373535, -4.154338359832764, 14.261384963989258, 4.938398838043213, 0.4419207274913788, -2.584543228149414, -4.676423072814941, -4.526758670806885, -0.7994423508644104, -2.9589123725891113, -1.8258925676345825, -12.08514404296875, -2.7808163166046143, -16.00628089904785, -3.283743381500244, 14.77933406829834, -7.506674289703369, -17.47431182861328, 10.584362030029297, 15.085124969482422, -4.301829814910889, -0.48441147804260254, -7.586172580718994, -2.414606809616089, -17.45577621459961, -6.746826648712158, -13.52812385559082, -3.739367723464966, -4.598450660705566, -8.493280410766602, 0.8981468677520752, -3.1729345321655273, -16.34688377380371, 12.240022659301758, -5.832120895385742, -7.160943984985352, 1.5302529335021973, -4.33964729309082, 7.422647953033447, -2.4658594131469727, -4.473360538482666, -3.6494498252868652, 10.493789672851562, -2.5988290309906006, 6.11998987197876, -5.221778869628906, -6.591586589813232, -4.711802005767822, -7.118928909301758, 7.7828688621521, -11.28622817993164, -5.103639602661133, 14.700469017028809, 11.381692886352539, 11.240534782409668, -5.584767818450928, -5.668591022491455, -4.031242847442627, 0.5967732071876526, -13.370633125305176, 6.742387294769287, 14.2951021194458, 15.679314613342285, -4.338101863861084, -17.62177848815918, -4.540567874908447, 14.026987075805664, -4.75039005279541, 15.564926147460938, 9.219160079956055, 2.9587388038635254, -14.948060035705566, 8.806275367736816, 9.559222221374512, 3.9546797275543213, 9.940718650817871, -0.3707525432109833, 14.723909378051758, -1.249985933303833, 15.233494758605957, 4.867136001586914, -4.933143615722656, -2.8512020111083984, 14.033539772033691, -4.4326982498168945, -4.828090667724609, -6.701108455657959, 15.233430862426758, -1.235569953918457, 14.33780288696289, 11.39455509185791, -3.1646478176116943, 9.861618995666504, -2.0504753589630127, -6.657753944396973, 3.935631275177002, 3.958627462387085, -13.49862003326416, 6.302481651306152, -2.957731246948242, -17.403636932373047, -7.564798831939697, 14.822362899780273, 1.5600210428237915, 15.489729881286621, 8.206852912902832, 2.1903765201568604, -0.6470465660095215, 15.71020793914795, -3.142879009246826, -11.50582504272461, -6.947051048278809, 7.9094648361206055, -9.859532356262207, 7.509207248687744, 5.492863655090332, -6.149298191070557, -2.648064136505127, 14.771002769470215, -3.2056643962860107, 5.71099328994751, -4.988982677459717, 9.764939308166504, -8.037149429321289, 5.613023281097412, 0.7427634000778198, -10.377924919128418, 9.774492263793945, 6.442215442657471, -4.6990227699279785, -5.796818256378174, -17.420284271240234, 14.13884162902832, -2.697098970413208, -7.591614723205566, 3.8691601753234863, 12.621782302856445, -3.8406801223754883, 10.511946678161621, -3.1432056427001953, 0.9581918120384216, 1.3895224332809448, -7.879917144775391, 15.98090648651123, 10.646910667419434, -15.1195068359375, 9.87735652923584, -2.225273847579956, -4.307024955749512, -13.992074966430664, -6.4094414710998535, -3.297873020172119, 12.1973295211792, -3.1592535972595215, -6.249051094055176, -6.3072686195373535, 12.563543319702148, -1.5146583318710327, 15.596683502197266, 13.3384370803833, -0.4583064615726471, -2.7507760524749756, -2.113476276397705, 13.69385814666748, 3.6004767417907715, -4.7911882400512695, 4.433813571929932, 13.771828651428223, 10.6946382522583, -2.911100387573242, 1.0982606410980225, -13.191890716552734, 7.520763874053955, -7.709122657775879, 0.6729317307472229, -9.638496398925781, 3.0519046783447266, 10.333328247070312, -7.440855979919434, -16.96725845336914, -6.664391040802002, 3.4492478370666504, -11.741637229919434, -4.538964748382568, -7.205470085144043, -1.6077864170074463, -6.945641994476318, 7.888009071350098, 7.918267250061035, 0.6419464945793152, -4.307684421539307, -6.668238639831543, 5.677812099456787, 11.383527755737305, -4.513454437255859, 12.448822021484375, -4.060354709625244, 1.9249448776245117, -2.9406630992889404, -4.19373083114624, -9.973827362060547, 4.831085205078125, -4.4716901779174805, 3.460615396499634, -3.1633520126342773, 14.415983200073242, -9.407073020935059, 15.10523509979248, -7.615938186645508, -4.3369317054748535, -1.8691747188568115, 9.445618629455566, 0.9822177886962891, 12.61705207824707, 13.920380592346191, 10.380446434020996, 8.882089614868164, 6.369938373565674, 4.072168350219727, -2.873098373413086, 6.91502046585083, -3.22967529296875, -11.215507507324219, -6.92706823348999, 5.425067901611328, 15.907769203186035, -3.241431474685669, -1.8045140504837036, 9.204656600952148, -7.283186435699463, 10.031187057495117, 8.97165298461914, -2.0058600902557373, -6.673842430114746, 11.317841529846191, -12.752564430236816, -17.59456443786621, 3.0056984424591064, -3.67899751663208, -5.137117862701416, -2.7078890800476074, -10.984224319458008, -8.32686996459961, 2.2725722789764404, -5.224391937255859, -6.49057674407959, -3.048241376876831, 4.648525714874268, -4.939822196960449, 10.930670738220215, 0.16910310089588165, 2.108210325241089, -4.465591907501221, 3.529597520828247, 9.212212562561035, -4.89689826965332, 1.2397866249084473, -4.858681678771973, -5.07418966293335, -5.643784046173096, -11.382452964782715, 14.59001350402832, -1.9534448385238647, -4.315365314483643, -13.318360328674316, -17.7822208404541, -13.109100341796875, -11.793185234069824, -12.450236320495605, -17.668643951416016, 5.271805763244629, -3.782386302947998, 8.449416160583496, -14.992168426513672, -5.744833469390869, 3.273195505142212, 0.1379864513874054, -5.53760290145874, -8.881473541259766, -1.168427586555481, 13.896111488342285, 0.2243097722530365, -9.527607917785645, -8.944621086120605, 4.12808895111084, -4.8422532081604, -2.4500932693481445, -9.049904823303223, -2.7267863750457764, -8.637032508850098, 1.9897620677947998, -13.097851753234863, -4.747673034667969, -4.4702372550964355, 13.509631156921387, -12.488122940063477, 15.252900123596191, 11.743911743164062, 2.8371267318725586, -3.3420655727386475, -2.7663543224334717, -5.933026313781738, 14.395306587219238, 4.4703569412231445, 5.7492876052856445, 16.1214542388916, 15.334547996520996, -5.806344509124756, 7.486414432525635, 8.172642707824707, 6.7422404289245605, 10.851247787475586, -4.486481666564941, 15.011495590209961, -4.192426681518555, -15.520400047302246, -16.913362503051758, -11.348891258239746, -4.110236644744873, -3.442669153213501, -4.217199325561523, -13.645108222961426, -2.601632595062256, 13.656805038452148, -16.333158493041992, 9.800110816955566, -5.060370445251465, 2.377776622772217, 9.082877159118652, -3.9707891941070557, -16.668418884277344, 8.181483268737793, -3.8989014625549316, 13.970361709594727, -6.892076015472412, 14.178268432617188, 14.189973831176758, 7.917966842651367, -3.695103406906128, 8.58090877532959, -4.523833751678467, 12.184015274047852, 11.055428504943848, -5.084356307983398, -8.640955924987793, -2.8950717449188232, -5.860874652862549, -1.6873294115066528, 13.708261489868164, 0.37489545345306396, -9.540060043334961, 14.67199993133545, -3.9356658458709717, -4.923050403594971, -11.810940742492676, 13.389864921569824, -9.873624801635742, 0.2981511652469635, -1.7591696977615356, -4.71621561050415, -6.550704002380371, -16.00755500793457, -8.81709098815918, -3.046203136444092, 2.610764265060425, -5.566410064697266, 14.863734245300293, 7.114323616027832, 0.794249951839447, -4.517364025115967, -11.354792594909668, -4.362096309661865, -4.704843997955322, 13.69388198852539, -16.960693359375, 1.886422872543335, -2.516718626022339, 5.188710689544678, -2.792351245880127, 4.872161865234375, 12.829476356506348, -3.6572163105010986, 5.986901760101318, 15.254743576049805, -6.659829616546631, -2.804194211959839, -12.577470779418945, 0.8367147445678711, -10.123701095581055, -0.9534803628921509, -12.659045219421387, -2.898536443710327, 5.3004231452941895, -2.085670232772827, -3.8595433235168457, -9.137438774108887, -11.499313354492188, -15.83538818359375, 5.625295162200928, 2.837130308151245, 14.569265365600586, 0.8216127157211304, 11.810139656066895, -6.400327205657959, 16.00450325012207, 15.030293464660645, -4.1972246170043945, -15.061972618103027, -15.67912483215332, 13.96116828918457, -9.065796852111816, 3.09928035736084, -8.105557441711426, -2.938584804534912, -1.3388700485229492, 1.084201693534851, -8.857888221740723, -4.4353156089782715, -7.7283806800842285, 0.7523701190948486, -3.9583866596221924, -3.5408670902252197, -5.747369289398193, 8.03311538696289, -3.664105176925659, 4.356654167175293, -6.241181373596191, -0.6378337740898132, 12.513378143310547, -4.204920291900635, -4.4182963371276855, 13.206329345703125, -12.323507308959961, 7.889369964599609, 9.861655235290527, 8.609391212463379, -2.9183521270751953, -8.153290748596191, 11.720672607421875, 7.889873027801514, -3.003406286239624, -4.519739151000977, 6.421995162963867, 0.0741809532046318, 5.749244689941406, -6.167921543121338, -2.2230727672576904, 6.997076034545898, 3.2720601558685303, 13.983105659484863, -5.844010829925537, -4.754223823547363, 14.829473495483398, 8.936015129089355, -7.774494171142578, -8.68830680847168, 14.6630859375, 10.663578987121582, 1.3371963500976562, -3.953014612197876, -0.007191438227891922, 12.029569625854492, 2.7056806087493896, 1.9357085227966309, -3.8310115337371826, 3.3385069370269775, 11.466089248657227, -5.302657604217529, 2.717916250228882, -13.600558280944824, -11.883875846862793, -8.528692245483398, -2.650838851928711, 15.132772445678711, -5.79124116897583, -2.2821428775787354, -7.231807708740234, -13.804683685302734, 3.4726667404174805, 5.153353214263916, 4.444180488586426, -7.795468807220459, 1.7470823526382446, -4.04713773727417, -1.121199131011963, -0.033733200281858444, 15.672600746154785, -12.917450904846191, 8.854732513427734, 2.229395866394043, -0.1594320684671402, -6.901012420654297, 3.8829848766326904, 3.0255043506622314, 15.885185241699219, -1.022167682647705, 8.919220924377441, 12.746259689331055, 0.8277941346168518, -17.173385620117188, 0.9129070043563843, 14.968217849731445, 4.664813995361328, -2.1443209648132324, 7.9303975105285645, 15.9896240234375, -4.627322673797607, 4.307170391082764, 1.0448579788208008, -15.994345664978027, 14.376012802124023, -6.396100044250488, -5.971512794494629, 1.0704952478408813, 6.722727298736572, -12.953330993652344, -3.520669460296631, -4.508869171142578, -0.553862988948822, -4.7946672439575195, -4.042642593383789, -10.270017623901367, -3.6050736904144287, 15.989598274230957, -9.895282745361328, 11.122964859008789, -15.004366874694824, -4.8619384765625, 15.606399536132812, -4.8848347663879395, -5.7342424392700195, 8.21693229675293, -3.2771928310394287, -1.1572901010513306, 5.021401405334473, 11.52574348449707, 11.612916946411133, 14.205801010131836, -15.164101600646973, -5.5859551429748535, -4.749427318572998, -0.11162534356117249, 13.472268104553223, -9.125277519226074, 13.769698143005371, 11.374866485595703, 16.084148406982422, 6.3208818435668945, 10.855172157287598, -5.958139896392822, -8.323481559753418, 15.50229549407959, 1.500983715057373, 3.198329210281372, -7.053008079528809, -12.901718139648438, -4.686759948730469, 0.6635281443595886, -0.35311901569366455, -4.403113842010498, -17.26203727722168, -1.7950056791305542, 10.581910133361816, -14.427445411682129, 15.626953125, -1.3820369243621826, 7.280073642730713, -2.116213083267212, -6.231756687164307, -5.090023040771484, -15.4368896484375, -11.14161491394043, 11.019209861755371, -15.146020889282227, 15.802053451538086, 11.506211280822754, -4.68480110168457, -0.5208472609519958, -9.40609359741211, 11.844430923461914, -11.557066917419434, -1.9742047786712646, -1.664842128753662, -8.813465118408203, -11.046305656433105, -10.754559516906738, -4.548263072967529, -4.441629886627197, -3.7385287284851074, 6.622359275817871, 5.748691082000732, -6.198487281799316, 14.31149959564209, 13.558416366577148, 6.539140224456787, -1.723935604095459, -8.096620559692383, -0.5932905077934265, 7.8877716064453125, -12.242264747619629, -16.002779006958008, 15.42043399810791, -0.4855465590953827, -6.258527755737305, -10.803935050964355, 15.22514820098877, -4.405027389526367, -13.400147438049316, 13.531661033630371, -3.8423566818237305, 10.141599655151367, -4.539872646331787, 8.898448944091797, 7.263024806976318, 5.124932765960693, 11.116437911987305, -5.034805774688721, 15.990336418151855, -0.03214479237794876, 15.691729545593262, -4.832632064819336, -4.696789264678955, -15.156323432922363, 12.286669731140137, 14.816727638244629, 13.75498104095459, 4.566366672515869, -12.077876091003418, -5.605885982513428, -3.5427985191345215, 9.098587036132812, 5.377411842346191, 1.838419795036316, -4.60485315322876, -3.7054970264434814, -10.036051750183105, -17.701629638671875, -4.659396648406982, -4.681933403015137, -2.902632713317871, -6.270256042480469, -1.9681421518325806, 5.613258361816406, 0.7804047465324402, -15.23420238494873, -4.829614639282227, -11.54209041595459, -4.1971564292907715, -4.5531005859375, -3.937086582183838, -3.883391857147217, 5.408604145050049, -13.287351608276367, 4.80569314956665, 13.23094367980957, -0.05330764129757881, -0.13243332505226135, 0.058903589844703674, -5.306395530700684, -3.063992738723755, -3.7738397121429443, -9.765058517456055, -2.8768603801727295, -3.530827045440674, 15.365152359008789, 2.6051430702209473, -7.533292293548584, -3.25877046585083, -6.852996826171875, -4.360536098480225, -5.675545692443848, 10.939197540283203, -2.9653053283691406, -5.753240585327148, -5.246122360229492, -2.9132192134857178, -10.527752876281738, -3.93578839302063, 13.887899398803711, -2.59379506111145, -8.383135795593262, 15.712268829345703, -16.54800033569336, -4.738614082336426, -5.966194152832031, 3.2472734451293945, -6.4996232986450195, 3.9293200969696045, -8.602150917053223, -0.8397495746612549, -7.214209079742432, -7.620337963104248, 12.331496238708496, -10.945345878601074, 3.922124147415161, 1.49690842628479, 9.339261054992676, -4.2710041999816895, -4.038884162902832, 8.526613235473633, -8.272551536560059, -0.11635328829288483, -4.678426265716553, -6.5510454177856445, -10.026233673095703, 2.550016403198242, -8.497239112854004, 0.633557140827179, -3.098578453063965, 15.582985877990723, -4.511083126068115, -0.7045160531997681, 2.2696712017059326, 0.5127761960029602, -5.006061553955078, -11.106354713439941, -5.24612283706665, -14.23536491394043, 10.395357131958008, -3.377751588821411, 14.658421516418457, -2.8568830490112305, -3.489590644836426, -7.23050594329834, -3.1465837955474854, -11.329559326171875, 1.4745912551879883, 12.336669921875, 10.867281913757324, 0.14103493094444275, -4.034538269042969, 6.080623149871826, -6.862990856170654, 15.980969429016113, 11.294246673583984, -4.711780548095703, 3.1290268898010254, -6.939796447753906, -0.4524466097354889, -2.6756105422973633, -4.77556848526001, 5.690981388092041, -5.346356391906738, 14.68492603302002, -8.289230346679688, 11.494240760803223, -10.71756362915039, -17.592466354370117, 13.693815231323242, 14.501830101013184, -16.620620727539062, -16.05879020690918, -3.8435750007629395, -1.8810973167419434, 6.6845479011535645, -14.786833763122559, -3.2333621978759766, 14.769927978515625, 15.606943130493164, -4.064339637756348, -16.891273498535156, -11.122562408447266, -12.66184139251709, 13.113127708435059, -4.093589782714844, -11.158546447753906, -4.506839752197266, 14.419148445129395, -0.6920333504676819, -6.105448246002197, 9.331360816955566, 10.777815818786621, 7.904916763305664, -4.265168190002441, 0.9361799955368042, -6.514969348907471, -14.857705116271973, -10.944369316101074, -11.228276252746582, -6.079469203948975, -15.321029663085938, 11.082239151000977, -14.075865745544434, -9.797099113464355, 13.079282760620117, 10.18708610534668, -6.726423263549805, -15.721762657165527, -1.760088324546814, -15.959319114685059, -4.217522621154785, -16.25040626525879, 11.39766788482666, 10.970959663391113, -10.527786254882812, 12.061554908752441, -3.6781485080718994, -11.825464248657227, 8.76912784576416, 5.953967571258545, 12.352521896362305, 0.7334511876106262, 2.998333215713501, -5.461789131164551, 7.158480167388916, -4.028480052947998, -11.538455963134766, -14.37564468383789, 3.1334617137908936, -6.372053146362305, -16.07533836364746, -2.983156681060791], \"z\": [3.738556146621704, 1.2203580141067505, 1.4586243629455566, 3.216381788253784, -1.9624525308609009, 3.620681047439575, -0.5295436978340149, -0.2597693204879761, 3.161146879196167, 2.2080295085906982, -4.787882328033447, 1.6871649026870728, -3.8886141777038574, 6.5302019119262695, -0.30448704957962036, -4.895205974578857, -2.8238365650177, 3.814985990524292, 2.3643462657928467, 1.1712288856506348, 5.423525810241699, -0.12064448744058609, 1.6314406394958496, 2.4713799953460693, -6.636734962463379, 3.982797145843506, -5.5038933753967285, -5.892072677612305, 0.6935446262359619, 3.4374232292175293, 0.19689427316188812, -5.905367851257324, -3.0368435382843018, 0.6536805629730225, 1.5905240774154663, 1.5856865644454956, 5.297921180725098, -0.30278879404067993, 2.296806812286377, -0.8121265769004822, 1.368367314338684, -0.08135974407196045, 1.6035569906234741, 1.2640929222106934, 2.693413734436035, 3.8445143699645996, 2.7845206260681152, -0.8449500203132629, 2.1211020946502686, 3.748772382736206, -0.052782393991947174, 1.6465556621551514, 0.016000883653759956, 6.586876392364502, 2.6284496784210205, 3.169459819793701, 0.8089644312858582, 2.3132383823394775, 2.1563589572906494, 2.9216389656066895, -1.2117164134979248, 6.452409744262695, 6.147794246673584, 3.2328100204467773, 3.2369487285614014, 6.1481709480285645, -5.030714988708496, -6.12675666809082, 3.9452195167541504, -0.9718484878540039, 5.215428829193115, 5.630489349365234, 0.730377197265625, 3.8148720264434814, 0.845151424407959, -2.579744815826416, 3.48121976852417, -2.7544972896575928, -0.22542046010494232, 1.494875431060791, -2.4317634105682373, 3.2853870391845703, 2.8576724529266357, 0.5403797030448914, 3.2274045944213867, -4.157876968383789, -4.394537448883057, 2.4368364810943604, -1.1262317895889282, -2.1920976638793945, -2.723175525665283, -0.3275025188922882, -1.0256563425064087, 0.6632221341133118, 6.586948871612549, 5.7894744873046875, -1.4196254014968872, 3.8919103145599365, 4.327083110809326, -7.128812313079834, 3.4645767211914062, -4.648133277893066, -0.39479175209999084, -1.3740507364273071, 2.0397613048553467, 0.8429863452911377, 4.790685653686523, 2.7313597202301025, -2.049851655960083, -6.896000385284424, 6.22014045715332, 2.4822261333465576, 2.373602867126465, -0.6717316508293152, -1.0279141664505005, 1.8257780075073242, -2.6783230304718018, 2.968885660171509, -4.376771926879883, 4.068450450897217, -7.867045879364014, 4.139537334442139, -6.659423351287842, -3.978501081466675, -0.20125284790992737, -2.8809707164764404, -1.7420099973678589, -2.5120351314544678, -2.0366973876953125, -1.3372734785079956, -1.2233420610427856, -1.550125002861023, -4.460566997528076, 1.754669189453125, -0.08262843638658524, 2.032883405685425, -1.7232749462127686, -5.003726482391357, -2.8166990280151367, 4.411658763885498, 6.025058746337891, 5.063624858856201, 1.4159787893295288, 5.730085849761963, 2.4929111003875732, -4.672360897064209, 3.0347647666931152, -0.2645096182823181, 0.9782559275627136, -5.695857048034668, 2.362278461456299, -4.224404811859131, 1.6158133745193481, -8.282052993774414, 1.443774938583374, 0.8575791120529175, -6.537775039672852, -0.4989011287689209, -6.6563191413879395, 2.6533100605010986, 2.5414302349090576, -3.6332149505615234, 2.6203060150146484, -2.4439170360565186, -5.748791694641113, 0.052306029945611954, -7.844361782073975, -6.251163959503174, -6.276910781860352, 6.486142635345459, -6.002440929412842, 3.3863253593444824, -3.2958807945251465, 1.1260437965393066, -1.6139761209487915, 1.2357388734817505, 4.019250869750977, -4.270069122314453, -2.9220566749572754, 0.9320732951164246, -0.23263080418109894, 3.9275994300842285, 1.5535544157028198, 3.459510326385498, -0.09846054017543793, -0.720699667930603, -2.6751649379730225, 3.4710464477539062, -3.9271483421325684, 4.180634021759033, -1.607670545578003, 4.722142696380615, 3.640489339828491, -6.333174228668213, 0.09643924981355667, 0.844074547290802, 3.303220272064209, 4.0766096115112305, 6.317381381988525, -6.29669713973999, -6.541618824005127, 1.6015347242355347, 3.9411916732788086, -1.716813087463379, -0.16420437395572662, 6.237836837768555, 1.7706886529922485, -4.279038906097412, 0.30864793062210083, 1.1760509014129639, 3.445627450942993, 4.532830238342285, 4.284397125244141, -1.1312304735183716, 1.8408393859863281, -2.703413248062134, 3.748647451400757, 2.8073339462280273, 0.4209660291671753, 3.480886936187744, 2.227342128753662, 6.078254699707031, 4.708893299102783, 3.710996150970459, -3.024188995361328, 3.4903481006622314, -3.1525163650512695, 3.130854368209839, 1.1876246929168701, 3.057023286819458, -1.7142417430877686, 0.08963294327259064, -0.706534206867218, -4.0533671379089355, -8.19766902923584, -6.346734523773193, 2.9662516117095947, -4.348563194274902, 4.035895824432373, -2.182568311691284, -1.408414363861084, 0.8911200165748596, -6.754822254180908, 3.4093005657196045, 3.387129545211792, -1.3663954734802246, 3.3168752193450928, -7.9828033447265625, -4.02806282043457, 0.16842427849769592, 0.8840363025665283, -3.368298292160034, 1.3364204168319702, 5.356405735015869, -5.5884222984313965, -1.4241902828216553, -5.994035243988037, -0.6792224049568176, 0.16283783316612244, 4.174093723297119, -8.029911994934082, -6.016136169433594, 3.1823570728302, -1.430167317390442, 0.8788982033729553, -0.6246467232704163, -5.055606842041016, 3.4144554138183594, 2.506253242492676, -6.0290093421936035, 6.611795902252197, 3.52935791015625, -2.8559858798980713, -0.7120042443275452, 0.15865322947502136, -1.1291773319244385, 3.0684878826141357, 0.6937240958213806, 2.756235361099243, 0.6063889265060425, 2.026578187942505, 1.7796224355697632, -3.9789130687713623, 3.561326265335083, -5.8507537841796875, -2.25232195854187, -4.368588924407959, -1.8812702894210815, -6.796045780181885, 2.4768636226654053, 3.762410879135132, 0.2552942633628845, -5.877560615539551, -1.4557756185531616, -6.341597557067871, 4.238122940063477, -6.6807861328125, -0.6609611511230469, -7.940215587615967, 1.3259003162384033, 4.3201704025268555, 1.5503225326538086, -1.5622516870498657, 6.334470272064209, -5.712371826171875, 3.849663734436035, 0.7579123973846436, -3.768803358078003, -3.0491693019866943, 2.8659417629241943, -6.472815990447998, -3.1504886150360107, 2.8530569076538086, 0.48513951897621155, 2.1027724742889404, 3.471205711364746, 2.857454299926758, -6.108330726623535, -5.564884662628174, -3.5973308086395264, 2.8556487560272217, 3.7651636600494385, -6.9075140953063965, 0.21255362033843994, -0.7886124849319458, -7.30112361907959, -0.7024112343788147, 1.8267912864685059, 0.16268861293792725, 1.501177191734314, -0.5523964762687683, 4.436350345611572, -1.8329582214355469, -0.9449940919876099, -2.0306339263916016, 0.74483323097229, -5.28086519241333, 6.541234970092773, 1.516743540763855, -1.3133800029754639, -2.8085813522338867, 4.632078647613525, 2.4692294597625732, 3.0159168243408203, 3.6788666248321533, 1.6340019702911377, 0.4572676420211792, -5.819459438323975, 2.706002712249756, 4.481165409088135, -3.7846741676330566, 3.7650182247161865, 5.457387447357178, 6.569707870483398, -7.71306037902832, 0.5404617190361023, -2.4396049976348877, 1.4355369806289673, 0.021998511627316475, 1.2408379316329956, -1.6664605140686035, 2.9866020679473877, 1.0454996824264526, 5.726208209991455, -1.3689006567001343, 3.280914306640625, -0.1650208681821823, 1.636043667793274, 2.3888354301452637, 1.7129462957382202, 0.5160491466522217, -0.08768686652183533, 3.7013025283813477, -2.9192237854003906, 5.964756965637207, 1.8609082698822021, -5.979909896850586, 3.2798612117767334, -5.910797595977783, 3.2839200496673584, 1.1376616954803467, 5.7443695068359375, 5.202230453491211, 2.836130380630493, 2.0979669094085693, -7.5539727210998535, 3.2211594581604004, -7.714210033416748, -4.391998767852783, -2.300408124923706, -7.730234622955322, 3.2139859199523926, 1.0855668783187866, 4.981357097625732, 1.7262096405029297, 1.0406278371810913, 0.5630121827125549, 4.179263114929199, 0.7023974061012268, 1.5746712684631348, -5.9621381759643555, 3.4956133365631104, 1.3892983198165894, 0.4866945445537567, 2.189324140548706, -3.886939287185669, -7.428499698638916, -1.3708161115646362, 5.0651140213012695, -4.746870517730713, 4.768306732177734, -2.226693868637085, 2.267423629760742, -4.469950199127197, -6.999712944030762, 4.697000026702881, 4.404617786407471, -0.1407521516084671, -7.5432353019714355, 3.5794296264648438, -7.758555889129639, -1.6026901006698608, 6.077945232391357, -1.8356983661651611, -4.371799468994141, -1.65976881980896, -2.9536311626434326, 1.848056435585022, -1.4349477291107178, 2.6124367713928223, -3.2054450511932373, -1.6517093181610107, 2.3530027866363525, 6.075128078460693, 3.9873974323272705, -6.912622928619385, -5.393784046173096, 1.9107060432434082, 4.8402419090271, 6.379158973693848, 2.3448092937469482, -8.153910636901855, -5.2990803718566895, 2.910098075866699, -6.224923610687256, 1.5141863822937012, -0.6209611296653748, 3.9167089462280273, 3.029005765914917, -6.126756191253662, 3.4467129707336426, -7.6010260581970215, 5.588973045349121, -7.129802703857422, 0.764597475528717, 3.468933582305908, 2.60280704498291, 1.6133369207382202, 6.234976768493652, -3.77366304397583, -1.1366716623306274, 0.7296589612960815, -6.095040321350098, 4.484725475311279, 1.8459452390670776, -4.2441534996032715, 1.851918339729309, -0.9147050976753235, -4.108199596405029, 4.485447883605957, -0.8466891050338745, -0.655687689781189, 3.3348703384399414, 3.8792288303375244, -5.867525100708008, -1.644054651260376, 0.9233183860778809, 2.99003267288208, 2.795717239379883, 1.8055915832519531, 1.1396540403366089, 3.086928367614746, -5.634537220001221, 1.4000670909881592, -1.2781870365142822, 3.9360344409942627, -1.894965410232544, 4.932504177093506, 6.544540882110596, 1.097280740737915, -7.859004497528076, 6.251405715942383, 3.622593402862549, -4.125158786773682, -6.584083080291748, 1.102449893951416, -6.024627208709717, -7.260422229766846, 5.304445266723633, 0.056129321455955505, 4.903463840484619, -8.189964294433594, -3.86912202835083, 2.4459781646728516, 3.619811534881592, 4.830338478088379, 1.988486886024475, 3.671126365661621, 0.5511433482170105, -0.693981409072876, 5.0897016525268555, 5.450573921203613, -1.450656533241272, 1.5602834224700928, 3.5934064388275146, -4.195309162139893, -2.9981319904327393, 0.0963171124458313, 2.9916961193084717, -6.887529373168945, -6.508279800415039, 0.9798587560653687, -6.002401351928711, -2.2124972343444824, -1.6959933042526245, 2.959657669067383, -1.912346601486206, 3.6219913959503174, 2.8801450729370117, 3.3225650787353516, -1.8832216262817383, 2.6761388778686523, -2.644848346710205, 3.715451717376709, -6.590325832366943, 1.3029052019119263, 3.3698463439941406, -5.774232864379883, 0.9414736032485962, 3.858765125274658, 2.9406259059906006, 2.9879677295684814, 3.3171370029449463, -0.26081305742263794, -2.0114588737487793, 3.7364418506622314, -6.715658664703369, -0.7682517170906067, 2.764833688735962, -5.961645603179932, 3.457523822784424, -2.1475069522857666, 2.5538434982299805, -3.3034181594848633, -0.15668030083179474, -0.9346418380737305, 1.7567676305770874, -3.232527494430542, -1.9465833902359009, -3.886587142944336, -3.2756152153015137, -2.7327802181243896, 1.9193249940872192, -2.523585557937622, 1.3167314529418945, -1.2910319566726685, 2.2957279682159424, -0.6171765923500061, 1.573137640953064, -6.8913068771362305, 6.402038097381592, -1.4809699058532715, -0.11191268265247345, 3.5036675930023193, 2.981377363204956, 6.150145530700684, -4.406172275543213, -0.053938787430524826, -2.375093460083008, -1.0160661935806274, 3.3816378116607666, -0.8453977704048157, 2.0216915607452393, 0.677821934223175, 0.038588281720876694, 0.7337405681610107, 3.3873214721679688, -4.711779594421387, 4.814601898193359, -5.640078544616699, 5.414965629577637, 1.3046691417694092, -3.7651238441467285, -2.6743290424346924, 2.6449520587921143, 3.5449488162994385, 1.2945305109024048, 5.320129871368408, 3.646739959716797, 5.70000696182251, 1.8420672416687012, 3.679511547088623, 2.7947165966033936, 5.683477401733398, -2.022463083267212, -3.5763819217681885, 2.7628304958343506, 0.1960034817457199, 3.3511345386505127, 3.6242053508758545, 1.094111680984497, 5.089699745178223, -2.5731236934661865, 6.614555358886719, -1.6795287132263184, 1.8970386981964111, 2.540496587753296, 3.5726497173309326, -1.977254867553711, 3.6088411808013916, 3.893444299697876, 2.098006010055542, 1.0086541175842285, 2.443870782852173, -8.291646003723145, 6.003090858459473, 6.389819145202637, 3.8029942512512207, -8.020245552062988, 1.3698879480361938, 0.6868033409118652, -6.5949554443359375, 1.2018284797668457, 3.050614833831787, -1.8612258434295654, -6.14670991897583, 3.665860414505005, 2.9933722019195557, 1.4693546295166016, 3.40226411819458, -1.4265081882476807, 1.049561619758606, -6.997684478759766, -1.1566842794418335, 3.6176958084106445, -1.1615029573440552, -5.658374309539795, -2.1673827171325684, 4.082472324371338, 0.7642229199409485, -3.0101664066314697, -4.90209436416626, -1.611809492111206, 4.530280113220215, 2.457411050796509, -6.93737268447876, -2.998136281967163, 1.1842312812805176, -5.137596130371094, -2.5997657775878906, 3.2761895656585693, 4.296128749847412, -0.4606378972530365, -7.75258207321167, 0.6735881567001343, -1.643785834312439, 1.3538620471954346, 1.8600448369979858, 3.49249529838562, 2.0495340824127197, -6.4157514572143555, 1.8306233882904053, -6.102193832397461, -2.6658456325531006, -4.335080623626709, -3.5789501667022705, 3.681230306625366, 4.977787494659424, -2.1783549785614014, 3.0520849227905273, 3.0260226726531982, 3.4510669708251953, 3.651005268096924, -7.006579875946045, 3.4397315979003906, 1.7873203754425049, -0.050097741186618805, -3.5514345169067383, 1.1034488677978516, 4.03023624420166, 4.459125995635986, 0.7657172679901123, 1.5533243417739868, -8.214776039123535, 4.815258502960205, 5.305778980255127, -2.405862331390381, -3.036696195602417, 1.21481192111969, 3.6755638122558594, -2.07966685295105, 3.348904848098755, -6.516477584838867, 1.1658381223678589, -2.683258056640625, 4.7578253746032715, 3.1267154216766357, 4.303439140319824, -5.961109161376953, -3.753596544265747, -3.5480194091796875, 3.096025228500366, 5.035389423370361, 2.2749826908111572, -2.8504436016082764, -2.641054391860962, -5.964056491851807, 2.3451833724975586, 0.767174243927002, -4.166829586029053, -6.297304630279541, 3.643690586090088, 1.2122063636779785, -0.02330753393471241, 2.2720587253570557, -4.3175153732299805, -1.0312693119049072, 2.2425308227539062, -2.9590981006622314, 0.7996290326118469, -4.008419036865234, -0.5569400191307068, -1.9135463237762451, -7.397332668304443, 2.795924425125122, 2.3451130390167236, 2.4494848251342773, -0.25026386976242065, 3.8969130516052246, 0.6294223666191101, 3.250927209854126, -1.6139768362045288, -1.3226289749145508, -5.96124792098999, 2.8048789501190186, -2.4319100379943848, -2.70550274848938, -2.156254529953003, 2.5077431201934814, 1.810395359992981, 1.5354735851287842, 3.3974711894989014, -7.515371799468994, -4.042372703552246, 0.8594443202018738, 2.1786961555480957, -3.032836437225342, -2.5461385250091553, 1.8849619626998901, -5.881373405456543, -5.552927494049072, 3.1431691646575928, -8.018507957458496, 2.733140468597412, 3.941129446029663, -4.371124744415283, 0.3897242546081543, 3.2335407733917236, 3.7752983570098877, -6.764305114746094, 6.521895408630371, -1.7202115058898926, 3.1112849712371826, -3.648444652557373, -5.24537992477417, 4.000465393066406, 3.480815887451172, 3.4328184127807617, 1.5660758018493652, 4.531355381011963, -5.049955368041992, 3.419584274291992, 3.2420284748077393, 4.337298393249512, 2.064182996749878, 1.4817626476287842, 0.9950038194656372, -0.8912884593009949, -1.4576562643051147, 1.7880275249481201, 1.3621656894683838, -1.4154466390609741, 1.619258999824524, -2.941997766494751, -3.7861249446868896, -7.900532245635986, 3.1884918212890625, -6.985098361968994, 4.034164905548096, 4.847598075866699, 0.2194141298532486, -2.769944190979004, -2.997971534729004, -0.9267322421073914, 0.5230349898338318, 1.6891978979110718, -2.933274984359741, 3.622485637664795, -8.15953540802002, 3.3167781829833984, -0.07401560992002487, 3.819084644317627, 3.6873042583465576, 1.3514025211334229, 6.542346954345703, -1.2081358432769775, 3.0541841983795166, 2.8305087089538574, -0.9895282983779907, 3.5106451511383057, -0.6491246819496155, 1.9132276773452759, -1.0973931550979614, -7.26268196105957, 2.896379232406616, 2.1543872356414795, -2.478388547897339, -1.8236377239227295, 0.7293382883071899, 2.0276753902435303, 1.9802963733673096, 0.6914920806884766, -4.767309188842773, -1.039360761642456, 3.687614917755127, -4.514032363891602, 0.0546393059194088, 0.6789999008178711, 2.787381410598755, 4.030828475952148, 3.5564351081848145, 5.6859002113342285, 1.8164433240890503, -6.007216453552246, -4.0300188064575195, -7.1737189292907715, -5.668083190917969, 2.3948774337768555, 3.085150957107544, 0.08559075742959976, 4.181459903717041, 6.2603936195373535, -0.6847171187400818, 4.852320671081543, -2.869546413421631, 3.5085582733154297, 3.3682260513305664, -0.6498501300811768, -6.8658952713012695, 2.058720111846924, -1.5011587142944336, -5.622539043426514, 2.1119911670684814, -3.528895139694214, 3.433497667312622, -3.643805503845215, -2.1628036499023438, 3.3831098079681396, 6.519628524780273, 6.486139297485352, 1.571427583694458, 4.307140350341797, 1.7274832725524902, -7.700776100158691, 4.622122287750244, -5.008541107177734, 2.440927028656006, -4.350902080535889, -8.095998764038086, -6.658407688140869, 1.177173376083374, 1.8469170331954956, 3.3006467819213867, -4.472187519073486, -3.026155710220337, 2.334988832473755, 3.435967206954956, 5.70374059677124, 2.77597713470459, -1.7180964946746826, 2.1629319190979004, 1.854360818862915, -7.826014041900635, 1.915824294090271, 3.2295823097229004, -0.4265642464160919, 3.123685836791992, -4.219438552856445, 1.3274420499801636, 2.634143114089966, -8.082409858703613, -6.660356044769287, 0.9054867625236511, 1.238069772720337, -1.50101637840271, 1.501022219657898, -4.108135223388672, 6.375250816345215, 1.9595476388931274, 4.910703182220459, 2.056495189666748, -1.9727401733398438, -7.601195812225342, 2.060494899749756, -0.07710856199264526, 1.782529354095459, -7.398805618286133, -4.40444803237915, -7.269150257110596, 5.383456707000732, 3.335878849029541, 1.7749959230422974, 1.0837464332580566, 6.4792561531066895, -5.126051425933838, 6.448992729187012, -0.5416480302810669, 3.815730094909668, 3.435967206954956, 3.893723249435425, -5.224968433380127, 2.584895133972168, 2.328429937362671, 6.093655109405518, 5.716621398925781, -0.9352888464927673, 3.1985392570495605, 4.153085231781006, 5.00994873046875, -0.7149568796157837, 0.516555905342102, -4.094603061676025, 1.6075352430343628, -5.974879741668701, 1.1185016632080078, 2.687011957168579, -1.7842187881469727, 4.174093246459961, -2.8738763332366943, -0.11984724551439285, -6.790638446807861, 6.041629791259766, -1.717401146888733, 1.5085221529006958, 3.8916265964508057, 1.0726662874221802, -8.141754150390625, -2.9744625091552734, 1.7816411256790161, 3.0234992504119873, 1.860856056213379, 4.571839809417725, 3.30759334564209, 2.9830551147460938, -1.6224526166915894, -3.590003490447998, 2.8122618198394775, 3.984968662261963, -0.35365015268325806, -2.105203866958618, 2.4394712448120117, 0.8783838748931885, 2.2887179851531982, 4.075235366821289, 3.972836971282959, -1.1874194145202637, 0.3603469133377075, 3.089123010635376, 4.194221019744873, 3.320127010345459, -6.803109645843506, -7.845001220703125, -2.1456687450408936, 1.898008942604065, 1.7224138975143433, 1.8214836120605469, 4.974808692932129, 0.0420207679271698, 3.4718358516693115, 1.5630414485931396, 3.1794793605804443, 2.671938896179199, 1.6056287288665771, -1.5907678604125977, 3.665010690689087, 1.1635146141052246, -3.673168659210205, -5.639942169189453, 0.1688106507062912, 2.970144271850586, 5.238018989562988, 3.0092227458953857, -0.8511546850204468, 3.5969080924987793, -3.067781448364258, 0.5609966516494751, -7.313309669494629, -2.341630697250366, -5.8608856201171875, -6.62609338760376, 1.958863615989685, 0.8306077718734741, -1.4721519947052002, 5.914741516113281, -4.0257110595703125, 3.7583305835723877, 0.9018281102180481, -2.112102746963501, -6.891759395599365, 3.9494993686676025, -2.879640579223633, 2.55588698387146, 3.5400497913360596, 4.944112777709961]}],                        {\"coloraxis\": {\"colorbar\": {\"title\": {\"text\": \"pc_3\"}}, \"colorscale\": [[0.0, \"#0d0887\"], [0.1111111111111111, \"#46039f\"], [0.2222222222222222, \"#7201a8\"], [0.3333333333333333, \"#9c179e\"], [0.4444444444444444, \"#bd3786\"], [0.5555555555555556, \"#d8576b\"], [0.6666666666666666, \"#ed7953\"], [0.7777777777777778, \"#fb9f3a\"], [0.8888888888888888, \"#fdca26\"], [1.0, \"#f0f921\"]], \"showscale\": false}, \"height\": 500, \"legend\": {\"tracegroupgap\": 0}, \"margin\": {\"t\": 60}, \"scene\": {\"domain\": {\"x\": [0.0, 1.0], \"y\": [0.0, 1.0]}, \"xaxis\": {\"title\": {\"text\": \"pc_1\"}}, \"yaxis\": {\"title\": {\"text\": \"pc_2\"}}, \"zaxis\": {\"title\": {\"text\": \"pc_3\"}}}, \"showlegend\": false, \"template\": {\"data\": {\"bar\": [{\"error_x\": {\"color\": \"#2a3f5f\"}, \"error_y\": {\"color\": \"#2a3f5f\"}, \"marker\": {\"line\": {\"color\": \"#E5ECF6\", \"width\": 0.5}}, \"type\": \"bar\"}], \"barpolar\": [{\"marker\": {\"line\": {\"color\": \"#E5ECF6\", \"width\": 0.5}}, \"type\": \"barpolar\"}], \"carpet\": [{\"aaxis\": {\"endlinecolor\": \"#2a3f5f\", \"gridcolor\": \"white\", \"linecolor\": \"white\", \"minorgridcolor\": \"white\", \"startlinecolor\": \"#2a3f5f\"}, \"baxis\": {\"endlinecolor\": \"#2a3f5f\", \"gridcolor\": \"white\", \"linecolor\": \"white\", \"minorgridcolor\": \"white\", \"startlinecolor\": \"#2a3f5f\"}, \"type\": \"carpet\"}], \"choropleth\": [{\"colorbar\": {\"outlinewidth\": 0, \"ticks\": \"\"}, \"type\": \"choropleth\"}], \"contour\": [{\"colorbar\": {\"outlinewidth\": 0, \"ticks\": \"\"}, \"colorscale\": [[0.0, \"#0d0887\"], [0.1111111111111111, \"#46039f\"], [0.2222222222222222, \"#7201a8\"], [0.3333333333333333, \"#9c179e\"], [0.4444444444444444, \"#bd3786\"], [0.5555555555555556, \"#d8576b\"], [0.6666666666666666, \"#ed7953\"], [0.7777777777777778, \"#fb9f3a\"], [0.8888888888888888, \"#fdca26\"], [1.0, \"#f0f921\"]], \"type\": \"contour\"}], \"contourcarpet\": [{\"colorbar\": {\"outlinewidth\": 0, \"ticks\": \"\"}, \"type\": \"contourcarpet\"}], \"heatmap\": [{\"colorbar\": {\"outlinewidth\": 0, \"ticks\": \"\"}, \"colorscale\": [[0.0, \"#0d0887\"], [0.1111111111111111, \"#46039f\"], [0.2222222222222222, \"#7201a8\"], [0.3333333333333333, \"#9c179e\"], [0.4444444444444444, \"#bd3786\"], [0.5555555555555556, \"#d8576b\"], [0.6666666666666666, \"#ed7953\"], [0.7777777777777778, \"#fb9f3a\"], [0.8888888888888888, \"#fdca26\"], [1.0, \"#f0f921\"]], \"type\": \"heatmap\"}], \"heatmapgl\": [{\"colorbar\": {\"outlinewidth\": 0, \"ticks\": \"\"}, \"colorscale\": [[0.0, \"#0d0887\"], [0.1111111111111111, \"#46039f\"], [0.2222222222222222, \"#7201a8\"], [0.3333333333333333, \"#9c179e\"], [0.4444444444444444, \"#bd3786\"], [0.5555555555555556, \"#d8576b\"], [0.6666666666666666, \"#ed7953\"], [0.7777777777777778, \"#fb9f3a\"], [0.8888888888888888, \"#fdca26\"], [1.0, \"#f0f921\"]], \"type\": \"heatmapgl\"}], \"histogram\": [{\"marker\": {\"colorbar\": {\"outlinewidth\": 0, \"ticks\": \"\"}}, \"type\": \"histogram\"}], \"histogram2d\": [{\"colorbar\": {\"outlinewidth\": 0, \"ticks\": \"\"}, \"colorscale\": [[0.0, \"#0d0887\"], [0.1111111111111111, \"#46039f\"], [0.2222222222222222, \"#7201a8\"], [0.3333333333333333, \"#9c179e\"], [0.4444444444444444, \"#bd3786\"], [0.5555555555555556, \"#d8576b\"], [0.6666666666666666, \"#ed7953\"], [0.7777777777777778, \"#fb9f3a\"], [0.8888888888888888, \"#fdca26\"], [1.0, \"#f0f921\"]], \"type\": \"histogram2d\"}], \"histogram2dcontour\": [{\"colorbar\": {\"outlinewidth\": 0, \"ticks\": \"\"}, \"colorscale\": [[0.0, \"#0d0887\"], [0.1111111111111111, \"#46039f\"], [0.2222222222222222, \"#7201a8\"], [0.3333333333333333, \"#9c179e\"], [0.4444444444444444, \"#bd3786\"], [0.5555555555555556, \"#d8576b\"], [0.6666666666666666, \"#ed7953\"], [0.7777777777777778, \"#fb9f3a\"], [0.8888888888888888, \"#fdca26\"], [1.0, \"#f0f921\"]], \"type\": \"histogram2dcontour\"}], \"mesh3d\": [{\"colorbar\": {\"outlinewidth\": 0, \"ticks\": \"\"}, \"type\": \"mesh3d\"}], \"parcoords\": [{\"line\": {\"colorbar\": {\"outlinewidth\": 0, \"ticks\": \"\"}}, \"type\": \"parcoords\"}], \"pie\": [{\"automargin\": true, \"type\": \"pie\"}], \"scatter\": [{\"marker\": {\"colorbar\": {\"outlinewidth\": 0, \"ticks\": \"\"}}, \"type\": \"scatter\"}], \"scatter3d\": [{\"line\": {\"colorbar\": {\"outlinewidth\": 0, \"ticks\": \"\"}}, \"marker\": {\"colorbar\": {\"outlinewidth\": 0, \"ticks\": \"\"}}, \"type\": \"scatter3d\"}], \"scattercarpet\": [{\"marker\": {\"colorbar\": {\"outlinewidth\": 0, \"ticks\": \"\"}}, \"type\": \"scattercarpet\"}], \"scattergeo\": [{\"marker\": {\"colorbar\": {\"outlinewidth\": 0, \"ticks\": \"\"}}, \"type\": \"scattergeo\"}], \"scattergl\": [{\"marker\": {\"colorbar\": {\"outlinewidth\": 0, \"ticks\": \"\"}}, \"type\": \"scattergl\"}], \"scattermapbox\": [{\"marker\": {\"colorbar\": {\"outlinewidth\": 0, \"ticks\": \"\"}}, \"type\": \"scattermapbox\"}], \"scatterpolar\": [{\"marker\": {\"colorbar\": {\"outlinewidth\": 0, \"ticks\": \"\"}}, \"type\": \"scatterpolar\"}], \"scatterpolargl\": [{\"marker\": {\"colorbar\": {\"outlinewidth\": 0, \"ticks\": \"\"}}, \"type\": \"scatterpolargl\"}], \"scatterternary\": [{\"marker\": {\"colorbar\": {\"outlinewidth\": 0, \"ticks\": \"\"}}, \"type\": \"scatterternary\"}], \"surface\": [{\"colorbar\": {\"outlinewidth\": 0, \"ticks\": \"\"}, \"colorscale\": [[0.0, \"#0d0887\"], [0.1111111111111111, \"#46039f\"], [0.2222222222222222, \"#7201a8\"], [0.3333333333333333, \"#9c179e\"], [0.4444444444444444, \"#bd3786\"], [0.5555555555555556, \"#d8576b\"], [0.6666666666666666, \"#ed7953\"], [0.7777777777777778, \"#fb9f3a\"], [0.8888888888888888, \"#fdca26\"], [1.0, \"#f0f921\"]], \"type\": \"surface\"}], \"table\": [{\"cells\": {\"fill\": {\"color\": \"#EBF0F8\"}, \"line\": {\"color\": \"white\"}}, \"header\": {\"fill\": {\"color\": \"#C8D4E3\"}, \"line\": {\"color\": \"white\"}}, \"type\": \"table\"}]}, \"layout\": {\"annotationdefaults\": {\"arrowcolor\": \"#2a3f5f\", \"arrowhead\": 0, \"arrowwidth\": 1}, \"autotypenumbers\": \"strict\", \"coloraxis\": {\"colorbar\": {\"outlinewidth\": 0, \"ticks\": \"\"}}, \"colorscale\": {\"diverging\": [[0, \"#8e0152\"], [0.1, \"#c51b7d\"], [0.2, \"#de77ae\"], [0.3, \"#f1b6da\"], [0.4, \"#fde0ef\"], [0.5, \"#f7f7f7\"], [0.6, \"#e6f5d0\"], [0.7, \"#b8e186\"], [0.8, \"#7fbc41\"], [0.9, \"#4d9221\"], [1, \"#276419\"]], \"sequential\": [[0.0, \"#0d0887\"], [0.1111111111111111, \"#46039f\"], [0.2222222222222222, \"#7201a8\"], [0.3333333333333333, \"#9c179e\"], [0.4444444444444444, \"#bd3786\"], [0.5555555555555556, \"#d8576b\"], [0.6666666666666666, \"#ed7953\"], [0.7777777777777778, \"#fb9f3a\"], [0.8888888888888888, \"#fdca26\"], [1.0, \"#f0f921\"]], \"sequentialminus\": [[0.0, \"#0d0887\"], [0.1111111111111111, \"#46039f\"], [0.2222222222222222, \"#7201a8\"], [0.3333333333333333, \"#9c179e\"], [0.4444444444444444, \"#bd3786\"], [0.5555555555555556, \"#d8576b\"], [0.6666666666666666, \"#ed7953\"], [0.7777777777777778, \"#fb9f3a\"], [0.8888888888888888, \"#fdca26\"], [1.0, \"#f0f921\"]]}, \"colorway\": [\"#636efa\", \"#EF553B\", \"#00cc96\", \"#ab63fa\", \"#FFA15A\", \"#19d3f3\", \"#FF6692\", \"#B6E880\", \"#FF97FF\", \"#FECB52\"], \"font\": {\"color\": \"#2a3f5f\"}, \"geo\": {\"bgcolor\": \"white\", \"lakecolor\": \"white\", \"landcolor\": \"#E5ECF6\", \"showlakes\": true, \"showland\": true, \"subunitcolor\": \"white\"}, \"hoverlabel\": {\"align\": \"left\"}, \"hovermode\": \"closest\", \"mapbox\": {\"style\": \"light\"}, \"paper_bgcolor\": \"white\", \"plot_bgcolor\": \"#E5ECF6\", \"polar\": {\"angularaxis\": {\"gridcolor\": \"white\", \"linecolor\": \"white\", \"ticks\": \"\"}, \"bgcolor\": \"#E5ECF6\", \"radialaxis\": {\"gridcolor\": \"white\", \"linecolor\": \"white\", \"ticks\": \"\"}}, \"scene\": {\"xaxis\": {\"backgroundcolor\": \"#E5ECF6\", \"gridcolor\": \"white\", \"gridwidth\": 2, \"linecolor\": \"white\", \"showbackground\": true, \"ticks\": \"\", \"zerolinecolor\": \"white\"}, \"yaxis\": {\"backgroundcolor\": \"#E5ECF6\", \"gridcolor\": \"white\", \"gridwidth\": 2, \"linecolor\": \"white\", \"showbackground\": true, \"ticks\": \"\", \"zerolinecolor\": \"white\"}, \"zaxis\": {\"backgroundcolor\": \"#E5ECF6\", \"gridcolor\": \"white\", \"gridwidth\": 2, \"linecolor\": \"white\", \"showbackground\": true, \"ticks\": \"\", \"zerolinecolor\": \"white\"}}, \"shapedefaults\": {\"line\": {\"color\": \"#2a3f5f\"}}, \"ternary\": {\"aaxis\": {\"gridcolor\": \"white\", \"linecolor\": \"white\", \"ticks\": \"\"}, \"baxis\": {\"gridcolor\": \"white\", \"linecolor\": \"white\", \"ticks\": \"\"}, \"bgcolor\": \"#E5ECF6\", \"caxis\": {\"gridcolor\": \"white\", \"linecolor\": \"white\", \"ticks\": \"\"}}, \"title\": {\"x\": 0.05}, \"xaxis\": {\"automargin\": true, \"gridcolor\": \"white\", \"linecolor\": \"white\", \"ticks\": \"\", \"title\": {\"standoff\": 15}, \"zerolinecolor\": \"white\", \"zerolinewidth\": 2}, \"yaxis\": {\"automargin\": true, \"gridcolor\": \"white\", \"linecolor\": \"white\", \"ticks\": \"\", \"title\": {\"standoff\": 15}, \"zerolinecolor\": \"white\", \"zerolinewidth\": 2}}}, \"title\": {\"text\": \"Projected Question Vector Manifold\"}},                        {\"responsive\": true}                    ).then(function(){\n",
       "                            \n",
       "var gd = document.getElementById('76722573-a0e9-4f2f-87a1-dcd4c9354bd6');\n",
       "var x = new MutationObserver(function (mutations, observer) {{\n",
       "        var display = window.getComputedStyle(gd).display;\n",
       "        if (!display || display === 'none') {{\n",
       "            console.log([gd, 'removed!']);\n",
       "            Plotly.purge(gd);\n",
       "            observer.disconnect();\n",
       "        }}\n",
       "}});\n",
       "\n",
       "// Listen for the removal of the full notebook cells\n",
       "var notebookContainer = gd.closest('#notebook-container');\n",
       "if (notebookContainer) {{\n",
       "    x.observe(notebookContainer, {childList: true});\n",
       "}}\n",
       "\n",
       "// Listen for the clearing of the current output cell\n",
       "var outputEl = gd.closest('.output');\n",
       "if (outputEl) {{\n",
       "    x.observe(outputEl, {childList: true});\n",
       "}}\n",
       "\n",
       "                        })                };                });            </script>        </div>"
      ]
     },
     "metadata": {},
     "output_type": "display_data"
    }
   ],
   "source": [
    "tsne = TSNE(n_components=3, metric='cosine')\n",
    "question_proj = tsne.fit_transform(question_enc)\n",
    "\n",
    "df = pd.DataFrame({\n",
    "    'sentence': question_str,\n",
    "    'vector': [x for x in question_enc],\n",
    "    'label': labels,\n",
    "    'pc_1': question_proj[:, 0],\n",
    "    'pc_2': question_proj[:, 1],\n",
    "    'pc_3': question_proj[:, 2],\n",
    "})\n",
    "\n",
    "fig = px.scatter_3d(\n",
    "    df, x='pc_1', y='pc_2', z='pc_3', color='pc_3', \n",
    "    hover_data=['sentence'])\n",
    "fig.update_traces(marker_size=5)\n",
    "fig.layout.coloraxis.showscale = False\n",
    "fig.update_layout(\n",
    "    title='Projected Question Vector Manifold',\n",
    "    height=500,\n",
    "    showlegend=False\n",
    ")\n",
    "fig.show()"
   ]
  },
  {
   "cell_type": "markdown",
   "metadata": {},
   "source": [
    "### Cluster Summaries"
   ]
  },
  {
   "cell_type": "code",
   "execution_count": 12,
   "metadata": {},
   "outputs": [
    {
     "name": "stdout",
     "output_type": "stream",
     "text": [
      "Coarse Cluster Summaries:\n",
      "\n",
      "1. type sugar insulin blood one\n",
      "2. type cau one two get\n",
      "3. diet food eat good recip\n",
      "4. blood sugar insulin level gluco\n",
      "5. cau effect eye get affect\n"
     ]
    }
   ],
   "source": [
    "# get list standard stop words and add some custom ones to this list\n",
    "stop_words = stopwords.words('english')\n",
    "extras = ['diabetes', '?', '.', '!', '<unk>']\n",
    "stop_words += extras\n",
    "\n",
    "# initialize word stemmer\n",
    "stemmer = nltk.stem.PorterStemmer()\n",
    "\n",
    "# stem stop words\n",
    "stop_words = [stemmer.stem(word) for word in stop_words]\n",
    "\n",
    "# add a summary column\n",
    "df['summary'] = None\n",
    "\n",
    "# add column for average cluster vector\n",
    "df['avg_vector'] = None\n",
    "\n",
    "# infer cluster topics\n",
    "for label in sorted(df['label'].unique()):\n",
    "    # get all samples with this label\n",
    "    samples = df[df['label'] == label]['sentence']\n",
    "    \n",
    "    # get all vectors with this label\n",
    "    vectors = np.stack(df[df['label'] == label]['vector'].to_numpy())\n",
    "    \n",
    "    # compute average vec for this cluster label\n",
    "    avg_vector = np.mean(vectors, axis=0)\n",
    "    \n",
    "    # add average vector to dataframe\n",
    "    df.loc[df['label'] == label, 'avg_vector'] = df.loc[df['label'] == label, 'avg_vector'].map(\n",
    "        lambda x: avg_vector)\n",
    "    \n",
    "    # convert samples to a list\n",
    "    samples = samples.tolist()\n",
    "    \n",
    "    # tokenize samples by whitespace\n",
    "    tokens = [[word for word in sentence.split(' ')] for sentence in samples]\n",
    "    \n",
    "    # flatten samples list\n",
    "    tokens = [inner for outer in tokens for inner in outer]\n",
    "    \n",
    "    # stem tokens\n",
    "    tokens = [stemmer.stem(token) for token in tokens]\n",
    "    \n",
    "    # filter stopwords\n",
    "    tokens = [token for token in tokens if not token in stop_words]\n",
    "    \n",
    "    # get token frequencies\n",
    "    fdist = nltk.FreqDist(tokens)\n",
    "    \n",
    "    # get summary string from 5 most frequent tokens\n",
    "    summary = ' '.join([token for token, _ in fdist.most_common(5)])\n",
    "    \n",
    "    # add summary string to dataframe\n",
    "    df.loc[df['label'] == label, 'summary'] = summary\n",
    "    \n",
    "    \n",
    "print('Coarse Cluster Summaries:\\n')\n",
    "for i, summary in enumerate(df['summary'].unique()):\n",
    "    print(f'{i+1}. {summary}')"
   ]
  },
  {
   "cell_type": "code",
   "execution_count": 13,
   "metadata": {},
   "outputs": [
    {
     "data": {
      "application/vnd.plotly.v1+json": {
       "config": {
        "plotlyServerURL": "https://plot.ly"
       },
       "data": [
        {
         "customdata": [
          [
           "type sugar insulin blood one",
           "diabet curabl"
          ],
          [
           "type sugar insulin blood one",
           "complic diabet"
          ],
          [
           "type sugar insulin blood one",
           "diabet take muscovado sugar"
          ],
          [
           "type sugar insulin blood one",
           "research done sargassum seawe"
          ],
          [
           "type sugar insulin blood one",
           "diabet resourc internet"
          ],
          [
           "type sugar insulin blood one",
           "safe diabet bypass surgeri"
          ],
          [
           "type sugar insulin blood one",
           "differ insulin depend diabet non insulin independ diabet"
          ],
          [
           "type sugar insulin blood one",
           "long insulin good"
          ],
          [
           "type sugar insulin blood one",
           "lot sugar watermelon"
          ],
          [
           "type sugar insulin blood one",
           "type one diabet affect sperm qualiti"
          ],
          [
           "type sugar insulin blood one",
           "eat lean meat lower risk heart diseas diabet"
          ],
          [
           "type sugar insulin blood one",
           "diabet transplant good"
          ],
          [
           "type sugar insulin blood one",
           "gerson therapi work type two diabet"
          ],
          [
           "type sugar insulin blood one",
           "kid diabet"
          ],
          [
           "type sugar insulin blood one",
           "long diabet last"
          ],
          [
           "type sugar insulin blood one",
           "know type one type two diabet"
          ],
          [
           "type sugar insulin blood one",
           "lexapro rais blood sugar level"
          ],
          [
           "type sugar insulin blood one",
           "relat diabet blood sugar"
          ],
          [
           "type sugar insulin blood one",
           "get inform blood sugar chart"
          ],
          [
           "type sugar insulin blood one",
           "b tell sugar enter blood"
          ],
          [
           "type sugar insulin blood one",
           "hormon produc properli diabet"
          ],
          [
           "type sugar insulin blood one",
           "need diabet"
          ],
          [
           "type sugar insulin blood one",
           "diabet eat glucos syrup"
          ],
          [
           "type sugar insulin blood one",
           "kind diet softwar profession suffer problem like gassi constip"
          ],
          [
           "type sugar insulin blood one",
           "arm ach"
          ],
          [
           "type sugar insulin blood one",
           "makabuhay plant realli caus diabet"
          ],
          [
           "type sugar insulin blood one",
           "lower blood sugar"
          ],
          [
           "type sugar insulin blood one",
           "sugar type two diabet"
          ],
          [
           "type sugar insulin blood one",
           "medicaid cover portabl insulin pump"
          ],
          [
           "type sugar insulin blood one",
           "non diabet take insulin plant leav"
          ],
          [
           "type sugar insulin blood one",
           "gender diabet affect"
          ],
          [
           "type sugar insulin blood one",
           "esr rate thirti six mean"
          ],
          [
           "type sugar insulin blood one",
           "color tube top diabet"
          ],
          [
           "type sugar insulin blood one",
           "anyon actual revers type two diabet"
          ],
          [
           "type sugar insulin blood one",
           "special syring deliv insulin medic"
          ],
          [
           "type sugar insulin blood one",
           "walk effect diabet patient"
          ],
          [
           "type sugar insulin blood one",
           "fri shrimp rise blood sugar"
          ],
          [
           "type sugar insulin blood one",
           "get diabet product"
          ],
          [
           "type sugar insulin blood one",
           "use diagnosi sentenc"
          ],
          [
           "type sugar insulin blood one",
           "happen diabet take viagra need"
          ],
          [
           "type sugar insulin blood one",
           "happen peopl diabet take insulin"
          ],
          [
           "type sugar insulin blood one",
           "eat get diabet"
          ],
          [
           "type sugar insulin blood one",
           ""
          ],
          [
           "type sugar insulin blood one",
           "get type two diabet plan"
          ],
          [
           "type sugar insulin blood one",
           "medicin diabet person"
          ],
          [
           "type sugar insulin blood one",
           "differ insulin depend diabet non insulin depend diabet"
          ],
          [
           "type sugar insulin blood one",
           "dog diabet ate fudg give insulin shot"
          ],
          [
           "type sugar insulin blood one",
           "sugar solut use diabet"
          ],
          [
           "type sugar insulin blood one",
           "water melon increas blood sugar"
          ],
          [
           "type sugar insulin blood one",
           "realli type four diabet"
          ],
          [
           "type sugar insulin blood one",
           "happen diabet patient take carbohydr"
          ],
          [
           "type sugar insulin blood one",
           "nurs diagnosi diabet ketoacidosi"
          ],
          [
           "type sugar insulin blood one",
           "bodi process properli diabet"
          ],
          [
           "type sugar insulin blood one",
           "exercis help gestat diabet"
          ],
          [
           "type sugar insulin blood one",
           "medic problem might help insulin"
          ],
          [
           "type sugar insulin blood one",
           "caus weight gain fatigu heat sensit muscl ach"
          ],
          [
           "type sugar insulin blood one",
           "type one diabet easier harder treat type two diabet"
          ],
          [
           "type sugar insulin blood one",
           "diabet make much insulin true fals"
          ],
          [
           "type sugar insulin blood one",
           "diatiz"
          ],
          [
           "type sugar insulin blood one",
           "capsicum good diabet patient"
          ],
          [
           "type sugar insulin blood one",
           "massag diabet"
          ],
          [
           "type sugar insulin blood one",
           "stress caus high blood pressur"
          ],
          [
           "type sugar insulin blood one",
           "home medic care treat diabet"
          ],
          [
           "type sugar insulin blood one",
           "control diabet"
          ],
          [
           "type sugar insulin blood one",
           "precaut need diabet patient nalidix acid"
          ],
          [
           "type sugar insulin blood one",
           "spanish word diabet"
          ],
          [
           "type sugar insulin blood one",
           "caus pin point pupil"
          ],
          [
           "type sugar insulin blood one",
           "alcohol reduc diabet"
          ],
          [
           "type sugar insulin blood one",
           "diabet caus due malfunct"
          ],
          [
           "type sugar insulin blood one",
           "diabet die inject much insulin"
          ],
          [
           "type sugar insulin blood one",
           "drink alcohol type one diabet"
          ],
          [
           "type sugar insulin blood one",
           "rda diabet"
          ],
          [
           "type sugar insulin blood one",
           "accident gave dog much insulin"
          ],
          [
           "type sugar insulin blood one",
           "code diabet peripher neuropathi"
          ],
          [
           "type sugar insulin blood one",
           "keep sugar level diabet regul"
          ],
          [
           "type sugar insulin blood one",
           "diabet person eat cane sugar"
          ],
          [
           "type sugar insulin blood one",
           "hypoglycem becom diabet"
          ],
          [
           "type sugar insulin blood one",
           "happen diabet eat anyth take insulin"
          ],
          [
           "type sugar insulin blood one",
           "starch use bodi"
          ],
          [
           "type sugar insulin blood one",
           "one person type one diabet give anoth person"
          ],
          [
           "type sugar insulin blood one",
           "vaccin prevent diabet"
          ],
          [
           "type sugar insulin blood one",
           "pumpkin indic type two diabet patient"
          ],
          [
           "type sugar insulin blood one",
           "high blood sugar symptom"
          ],
          [
           "type sugar insulin blood one",
           "person bobi produc enough insulin"
          ],
          [
           "type sugar insulin blood one",
           "diabet requir insulin"
          ],
          [
           "type sugar insulin blood one",
           "control high blood sugar seven year old type one diabet"
          ],
          [
           "type sugar insulin blood one",
           "seriou type diabet"
          ],
          [
           "type sugar insulin blood one",
           "relev biochem test diabet mellitu two"
          ],
          [
           "type sugar insulin blood one",
           "much sugar ok diabet"
          ],
          [
           "type sugar insulin blood one",
           "organ system type two diabet affect"
          ],
          [
           "type sugar insulin blood one",
           "mani diagnos diabet patient medic"
          ],
          [
           "type sugar insulin blood one",
           "unhealthi diet lead diabet"
          ],
          [
           "type sugar insulin blood one",
           "diabet take medic"
          ],
          [
           "type sugar insulin blood one",
           "item diabet person eat"
          ],
          [
           "type sugar insulin blood one",
           "reason koch abdomen"
          ],
          [
           "type sugar insulin blood one",
           "insulin shot produc bright yellow urin"
          ],
          [
           "type sugar insulin blood one",
           "drink diabet"
          ],
          [
           "type sugar insulin blood one",
           "benefit carbon acid give human bodi"
          ],
          [
           "type sugar insulin blood one",
           "oral medic diabet"
          ],
          [
           "type sugar insulin blood one",
           "bring high blood glucos"
          ],
          [
           "type sugar insulin blood one",
           "mom sad upset"
          ],
          [
           "type sugar insulin blood one",
           "cant type one diabet prevent"
          ],
          [
           "type sugar insulin blood one",
           "sugar effect bodi"
          ],
          [
           "type sugar insulin blood one",
           "part bodi diabet type two affect"
          ],
          [
           "type sugar insulin blood one",
           "dehydr diabet"
          ],
          [
           "type sugar insulin blood one",
           "friend lanc type one diabet still eat ton candi everi day problem also gay matter"
          ],
          [
           "type sugar insulin blood one",
           "kind transplant help diabet"
          ],
          [
           "type sugar insulin blood one",
           "diabet neuropathi treatment risk"
          ],
          [
           "type sugar insulin blood one",
           "mani calori five eleven two hundr ten pound man eat high blood sugar"
          ],
          [
           "type sugar insulin blood one",
           "bacardi light diet coke effect type two diabet"
          ],
          [
           "type sugar insulin blood one",
           "best way young teenag type one diabet coeliac diseas lose weight"
          ],
          [
           "type sugar insulin blood one",
           "mani carb eaten day type two diabet"
          ],
          [
           "type sugar insulin blood one",
           "explain relationship type two diabet diet"
          ],
          [
           "type sugar insulin blood one",
           "thyroid gland mean control blood sugar level"
          ],
          [
           "type sugar insulin blood one",
           "worri friend fat famili diabet except tri help lose weight watch eat sport dosent listen"
          ],
          [
           "type sugar insulin blood one",
           "three type perment"
          ],
          [
           "type sugar insulin blood one",
           "littl insulin avail amount food ingest may result"
          ],
          [
           "type sugar insulin blood one",
           "mom diabet kid diabet"
          ],
          [
           "type sugar insulin blood one",
           "problem insulin"
          ],
          [
           "type sugar insulin blood one",
           "food lower blood sugar"
          ],
          [
           "type sugar insulin blood one",
           "know type one type two diabet"
          ],
          [
           "type sugar insulin blood one",
           "prevent kidney damag"
          ],
          [
           "type sugar insulin blood one",
           "best diet someon tri lose one hundr forti nine pound"
          ],
          [
           "type sugar insulin blood one",
           "type ii diabet consid milder form diabet"
          ],
          [
           "type sugar insulin blood one",
           "nemic"
          ],
          [
           "type sugar insulin blood one",
           "type two diabet affect endocrin system"
          ],
          [
           "type sugar insulin blood one",
           "test may done diabet neuropathi suspect"
          ],
          [
           "type sugar insulin blood one",
           "ever cure type one two diabet"
          ],
          [
           "type sugar insulin blood one",
           "cell ribosom found"
          ],
          [
           "type sugar insulin blood one",
           "side effect metformin"
          ],
          [
           "type sugar insulin blood one",
           "type one diabet slow puberti"
          ],
          [
           "type sugar insulin blood one",
           "get diabet drink alcohol"
          ],
          [
           "type sugar insulin blood one",
           "prevent get diabet"
          ],
          [
           "type sugar insulin blood one",
           "peopl type one diabet control blood pressur"
          ],
          [
           "type sugar insulin blood one",
           "made cure diabet"
          ],
          [
           "type sugar insulin blood one",
           "interellectu need diabet type two diabet"
          ],
          [
           "type sugar insulin blood one",
           "diabet emerg caus high blood sugar level"
          ],
          [
           "type sugar insulin blood one",
           "type two diabet take insulin control sugar drive commerci vehicl road"
          ],
          [
           "type sugar insulin blood one",
           "eat regular meal"
          ],
          [
           "type sugar insulin blood one",
           "avascular necrosi caus diabet"
          ],
          [
           "type sugar insulin blood one",
           "gland respons diabet insipidu"
          ],
          [
           "type sugar insulin blood one",
           "tell bodi much sugar"
          ],
          [
           "type sugar insulin blood one",
           "turkey diabet"
          ],
          [
           "type sugar insulin blood one",
           "occur bodi abl produc insulin"
          ],
          [
           "type sugar insulin blood one",
           "symptom treatment hypoglycemia hyperglycemia"
          ],
          [
           "type sugar insulin blood one",
           "number one killer children worldwid"
          ],
          [
           "type sugar insulin blood one",
           "type food diabet male eat"
          ],
          [
           "type sugar insulin blood one",
           "relationship diabet bhramari"
          ],
          [
           "type sugar insulin blood one",
           "number seven mean diabet"
          ],
          [
           "type sugar insulin blood one",
           "treatment toe numb"
          ],
          [
           "type sugar insulin blood one",
           "eat orang rais blood sugar"
          ],
          [
           "type sugar insulin blood one",
           "healthi person bodi respond sugar enter blood"
          ],
          [
           "type sugar insulin blood one",
           "realli want diabet tell truth"
          ],
          [
           "type sugar insulin blood one",
           "prevent get diabet"
          ],
          [
           "type sugar insulin blood one",
           "eat carbohydr regul blood sugar"
          ],
          [
           "type sugar insulin blood one",
           "mani carb diabet"
          ],
          [
           "type sugar insulin blood one",
           "gamer fat"
          ],
          [
           "type sugar insulin blood one",
           "type one type two compound"
          ],
          [
           "type sugar insulin blood one",
           "diabet neuropathi tend"
          ],
          [
           "type sugar insulin blood one",
           "treatment high blood sugar level diabet patient"
          ],
          [
           "type sugar insulin blood one",
           "diabet beat"
          ],
          [
           "type sugar insulin blood one",
           "candi would best diabet low sugar"
          ],
          [
           "type sugar insulin blood one",
           "stress link type diabet"
          ],
          [
           "type sugar insulin blood one",
           "themechan action insulin diabet"
          ],
          [
           "type sugar insulin blood one",
           "plant get diabet"
          ],
          [
           "type sugar insulin blood one",
           "explain virus might use copi gene produc human insulin"
          ],
          [
           "type sugar insulin blood one",
           "airman arriv unit mention burn cook accid last night assess burn indic burn superfici"
          ],
          [
           "type sugar insulin blood one",
           "much pizza diabet type two"
          ],
          [
           "type sugar insulin blood one",
           "someth sweet diabet eat"
          ],
          [
           "type sugar insulin blood one",
           "watermelon increas blood sugar"
          ],
          [
           "type sugar insulin blood one",
           "stick check blood sugar level"
          ],
          [
           "type sugar insulin blood one",
           "possibl anyon diabet healthi use insulin"
          ],
          [
           "type sugar insulin blood one",
           "much sugar cherri"
          ],
          [
           "type sugar insulin blood one",
           "clinic find occur first metabol acidosi patient type one diabet"
          ],
          [
           "type sugar insulin blood one",
           "excess amount sugar caus diabet"
          ],
          [
           "type sugar insulin blood one",
           "gestat diabet diet"
          ],
          [
           "type sugar insulin blood one",
           "diabet mellitu treat doctor"
          ],
          [
           "type sugar insulin blood one",
           "stop cut last year suicid attempt grade never told anyon day happi day well overeact past event sleep put self mess yeah"
          ],
          [
           "type sugar insulin blood one",
           "diabet cuas"
          ],
          [
           "type sugar insulin blood one",
           "calcul triglycerid level"
          ],
          [
           "type sugar insulin blood one",
           "difficult diabet lose weight"
          ],
          [
           "type sugar insulin blood one",
           "complic diabet coma"
          ],
          [
           "type sugar insulin blood one",
           "could schnauzer diabet"
          ],
          [
           "type sugar insulin blood one",
           "peopl diabet lose therir meori drink alcohol"
          ],
          [
           "type sugar insulin blood one",
           "symptomp diabet"
          ],
          [
           "type sugar insulin blood one",
           "tattoo diabet"
          ],
          [
           "type sugar insulin blood one",
           "would increas insulin secret type ii diabet"
          ],
          [
           "type sugar insulin blood one",
           "manag hypoglycemia diet"
          ],
          [
           "type sugar insulin blood one",
           "heavi diabet"
          ],
          [
           "type sugar insulin blood one",
           "diabet peopl avoid diabet complic"
          ],
          [
           "type sugar insulin blood one",
           "exist mani form"
          ],
          [
           "type sugar insulin blood one",
           "danger drink diabet blood"
          ],
          [
           "type sugar insulin blood one",
           "best medicin diabet"
          ],
          [
           "type sugar insulin blood one",
           "type one diabet"
          ],
          [
           "type sugar insulin blood one",
           "doctor diagnos diabet"
          ],
          [
           "type sugar insulin blood one",
           "diabet air hunger lead death"
          ],
          [
           "type sugar insulin blood one",
           "bodi system affect crohn diseas system affect"
          ],
          [
           "type sugar insulin blood one",
           "diabet gastroparesi"
          ],
          [
           "type sugar insulin blood one",
           "diabet ramen noodl"
          ],
          [
           "type sugar insulin blood one",
           "lower hemoglobin"
          ],
          [
           "type sugar insulin blood one",
           "liquor best diabet"
          ],
          [
           "type sugar insulin blood one",
           "one hypoglycem episod mean diabet laura"
          ],
          [
           "type sugar insulin blood one",
           "determin preexist condit"
          ],
          [
           "type sugar insulin blood one",
           "sugar content blood diabet"
          ],
          [
           "type sugar insulin blood one",
           "low high blood sugar make chest hurt"
          ],
          [
           "type sugar insulin blood one",
           "finger millet help diabet"
          ],
          [
           "type sugar insulin blood one",
           "diabet get insulin"
          ],
          [
           "type sugar insulin blood one",
           "condit often indic anemia"
          ],
          [
           "type sugar insulin blood one",
           "enzym diabet affect"
          ],
          [
           "type sugar insulin blood one",
           "hard sleep diabet"
          ],
          [
           "type sugar insulin blood one",
           "better insulin pump anima medtron"
          ],
          [
           "type sugar insulin blood one",
           "would name program diabet care india specif"
          ],
          [
           "type sugar insulin blood one",
           "actual diabet last three year feel durat sex time short pleas advis increas time"
          ],
          [
           "type sugar insulin blood one",
           "diabet patient like need kidney transplant"
          ],
          [
           "type sugar insulin blood one",
           "indocologist"
          ],
          [
           "type sugar insulin blood one",
           "rub alcohol caus cancer"
          ],
          [
           "type sugar insulin blood one",
           "diabet make fat"
          ],
          [
           "type sugar insulin blood one",
           "get dla child diabet insipidu"
          ],
          [
           "type sugar insulin blood one",
           "salt water pool safe diabet"
          ],
          [
           "type sugar insulin blood one",
           "use treat type one diabet"
          ],
          [
           "type sugar insulin blood one",
           "five pass stop cramp right leg"
          ],
          [
           "type sugar insulin blood one",
           "diabet exampl degen diseas"
          ],
          [
           "type sugar insulin blood one",
           "type wine best diabet"
          ],
          [
           "type sugar insulin blood one",
           "treat diabet insipidu"
          ],
          [
           "type sugar insulin blood one",
           "happen eat excess amount sugar"
          ],
          [
           "type sugar insulin blood one",
           "advanc technolog help type one diabet"
          ],
          [
           "type sugar insulin blood one",
           "pee test nineti nine point nine percent accur"
          ],
          [
           "type sugar insulin blood one",
           "exercis easili improv type one diabet"
          ],
          [
           "type sugar insulin blood one",
           "keep diabet level"
          ],
          [
           "type sugar insulin blood one",
           "treat patient give much insulin"
          ],
          [
           "type sugar insulin blood one",
           "type one diabet discov"
          ],
          [
           "type sugar insulin blood one",
           "normal rang total iron bind capac blood"
          ],
          [
           "type sugar insulin blood one",
           "endocrin system affect diabet"
          ],
          [
           "type sugar insulin blood one",
           "doctor treat type one diabet"
          ],
          [
           "type sugar insulin blood one",
           "carrot increas blood sugar"
          ],
          [
           "type sugar insulin blood one",
           "diabet energi eat sugari food"
          ],
          [
           "type sugar insulin blood one",
           "happen bodi insulin longer work"
          ],
          [
           "type sugar insulin blood one",
           "know good sugar level"
          ],
          [
           "type sugar insulin blood one",
           "blood sugar rise high breakfast"
          ],
          [
           "type sugar insulin blood one",
           "american type one diabect control glucos"
          ],
          [
           "type sugar insulin blood one",
           "juvenil diabet treat"
          ],
          [
           "type sugar insulin blood one",
           "combin food rais blood sugar"
          ],
          [
           "type sugar insulin blood one",
           "sugar blood come"
          ],
          [
           "type sugar insulin blood one",
           "get gestat diabet test"
          ],
          [
           "type sugar insulin blood one",
           "meal diabet"
          ],
          [
           "type sugar insulin blood one",
           "husband diabet fast take med morn say take food"
          ],
          [
           "type sugar insulin blood one",
           "best time take diabet pill"
          ],
          [
           "type sugar insulin blood one",
           "happen pancrea stop produc insulin"
          ],
          [
           "type sugar insulin blood one",
           "monkey diabet"
          ],
          [
           "type sugar insulin blood one",
           "infect caus blood glucos level increas decreas"
          ],
          [
           "type sugar insulin blood one",
           "diabet foot infect prevent"
          ],
          [
           "type sugar insulin blood one",
           "lycasin safe diabet"
          ],
          [
           "type sugar insulin blood one",
           "diabet drink"
          ],
          [
           "type sugar insulin blood one",
           "happen person diabet inject insulin"
          ],
          [
           "type sugar insulin blood one",
           "mani gram sugar woman consum per day"
          ],
          [
           "type sugar insulin blood one",
           "grill shrimp okay diabet"
          ],
          [
           "type sugar insulin blood one",
           "type medicin help pancr workbett"
          ],
          [
           "type sugar insulin blood one",
           "homeopath remedi might effect treat diabet type two"
          ],
          [
           "type sugar insulin blood one",
           "get diabet consum blood someon diabet"
          ],
          [
           "type sugar insulin blood one",
           "sever way life someon diabet impact disord"
          ],
          [
           "type sugar insulin blood one",
           "die diabet"
          ]
         ],
         "hovertemplate": "summary=%{customdata[0]}<br>pc_1=%{x}<br>pc_2=%{y}<br>pc_3=%{z}<br>sentence=%{customdata[1]}<extra></extra>",
         "legendgroup": "type sugar insulin blood one",
         "marker": {
          "color": "#636efa",
          "size": 5,
          "symbol": "circle"
         },
         "mode": "markers",
         "name": "type sugar insulin blood one",
         "scene": "scene",
         "showlegend": true,
         "type": "scatter3d",
         "x": [
          -2.014634847640991,
          1.00470769405365,
          -2.064075231552124,
          -3.2248315811157227,
          5.929698944091797,
          -3.238211154937744,
          3.4266998767852783,
          2.066559314727783,
          0.2890205979347229,
          2.123914957046509,
          -1.3728930950164795,
          3.7701797485351562,
          -1.5722960233688354,
          -0.486376017332077,
          -2.96988844871521,
          3.921738386154175,
          -2.7572290897369385,
          5.132849216461182,
          1.8101524114608765,
          7.508827209472656,
          4.6932806968688965,
          4.477636337280273,
          1.8356982469558716,
          -2.1720035076141357,
          0.11042270809412003,
          -2.961073637008667,
          2.0661633014678955,
          -1.3565887212753296,
          -4.790863990783691,
          3.692462921142578,
          6.008625507354736,
          7.505436420440674,
          4.692207336425781,
          -0.25508829951286316,
          2.115800380706787,
          4.689877033233643,
          2.0943872928619385,
          0.13919463753700256,
          -2.585636615753174,
          1.4310991764068604,
          3.6265015602111816,
          -0.5109652280807495,
          5.602186679840088,
          -0.34641143679618835,
          3.311246633529663,
          3.681943655014038,
          3.4015676975250244,
          2.420806884765625,
          1.2368074655532837,
          2.07251238822937,
          -2.9878952503204346,
          7.972641468048096,
          4.25518798828125,
          -1.9322360754013062,
          3.2086024284362793,
          2.7035365104675293,
          -5.298437595367432,
          3.6317672729492188,
          -2.155607223510742,
          4.499040603637695,
          -2.521371603012085,
          7.94256591796875,
          5.2614922523498535,
          -3.7771987915039062,
          -1.7308449745178223,
          5.382225036621094,
          8.195898056030273,
          1.2824738025665283,
          6.728821754455566,
          2.811370611190796,
          2.262471914291382,
          5.447033405303955,
          3.830171585083008,
          8.218001365661621,
          0.3035374879837036,
          2.1616837978363037,
          6.704499244689941,
          0.35823196172714233,
          3.0275843143463135,
          2.6890716552734375,
          -0.5712988972663879,
          6.716592311859131,
          8.569884300231934,
          3.7421467304229736,
          2.598409414291382,
          2.6777899265289307,
          2.217933416366577,
          7.357213973999023,
          -2.2822678089141846,
          5.441850662231445,
          6.15797758102417,
          0.34305351972579956,
          4.864395618438721,
          -1.5824483633041382,
          -1.8030186891555786,
          4.804748058319092,
          -1.1122539043426514,
          -0.14302778244018555,
          3.2683725357055664,
          -3.192575693130493,
          -1.410710334777832,
          -6.6777544021606445,
          4.72291374206543,
          3.9855120182037354,
          0.4722212255001068,
          -3.648087978363037,
          0.03384335711598396,
          -2.8362343311309814,
          1.9836376905441284,
          -3.9892563819885254,
          0.005870138294994831,
          2.649535894393921,
          -2.5674703121185303,
          7.762857437133789,
          -0.2949586510658264,
          2.4433348178863525,
          0.4608522355556488,
          0.08534222841262817,
          2.929265022277832,
          -2.834751844406128,
          3.921738624572754,
          -1.833348274230957,
          -3.154242515563965,
          3.231292724609375,
          6.338009834289551,
          4.441134929656982,
          -3.268183708190918,
          -2.850491523742676,
          -1.363653302192688,
          6.914670467376709,
          3.635450839996338,
          8.386612892150879,
          -3.1689929962158203,
          0.43206271529197693,
          -2.956258773803711,
          2.683833599090576,
          8.194317817687988,
          3.1114501953125,
          -1.005399227142334,
          -2.138509511947632,
          7.6079559326171875,
          5.468039512634277,
          4.591022968292236,
          3.9071991443634033,
          5.680477142333984,
          8.117080688476562,
          -3.890317678451538,
          0.6842300295829773,
          7.308215141296387,
          -0.39010095596313477,
          -1.6709516048431396,
          5.7813029289245605,
          1.137392282485962,
          -3.1689906120300293,
          -3.8423876762390137,
          -0.822559654712677,
          -2.4721415042877197,
          3.591177225112915,
          -0.9783221483230591,
          -2.679940700531006,
          -3.020273208618164,
          -1.2234922647476196,
          1.8018152713775635,
          0.41161006689071655,
          -0.11383599042892456,
          3.9604265689849854,
          -1.4290250539779663,
          3.750114679336548,
          -1.445314884185791,
          1.2117061614990234,
          5.307441234588623,
          3.3104729652404785,
          -2.616229772567749,
          3.2773919105529785,
          5.766107082366943,
          -2.8688547611236572,
          -1.410997748374939,
          2.662545680999756,
          5.170273780822754,
          1.047963261604309,
          -2.352409601211548,
          1.2726399898529053,
          0.33847716450691223,
          5.209268569946289,
          4.964053153991699,
          -1.8240584135055542,
          3.1653692722320557,
          -0.011710369028151035,
          3.5095643997192383,
          -2.7571170330047607,
          5.69139289855957,
          5.413345813751221,
          -0.7378389835357666,
          3.0984814167022705,
          3.5917840003967285,
          6.80047082901001,
          8.031624794006348,
          5.732971668243408,
          5.453988075256348,
          2.5499966144561768,
          -0.29601725935935974,
          5.533755779266357,
          5.41752815246582,
          5.183577537536621,
          7.535251140594482,
          -2.4572501182556152,
          3.6942453384399414,
          6.763965606689453,
          -3.0384392738342285,
          1.0849422216415405,
          2.085087299346924,
          -1.1551741361618042,
          5.815767765045166,
          5.970019340515137,
          -0.0626588687300682,
          5.273594856262207,
          -2.882751703262329,
          0.38227930665016174,
          -1.2272493839263916,
          2.124861240386963,
          -0.7650144696235657,
          7.615358829498291,
          2.995304584503174,
          -2.8876304626464844,
          4.742210865020752,
          2.484532594680786,
          7.471663475036621,
          -5.140415191650391,
          -2.7733089923858643,
          1.8734018802642822,
          3.2844350337982178,
          -0.23145736753940582,
          6.702767848968506,
          -4.534665107727051,
          -2.0051894187927246,
          -0.7674261927604675,
          3.5792038440704346,
          1.736220121383667,
          1.33821702003479,
          2.726755380630493,
          -1.348655343055725,
          -3.6463329792022705,
          3.2649004459381104,
          7.720432758331299,
          -2.307088613510132,
          0.209978386759758,
          4.008115291595459,
          3.7872793674468994,
          0.7138442397117615,
          7.9453325271606445,
          -0.4845180809497833,
          0.3252588212490082,
          -0.197862908244133,
          3.9258620738983154,
          -2.7261030673980713,
          3.575577735900879,
          2.9420247077941895,
          1.4250940084457397,
          8.385345458984375,
          1.9733610153198242,
          4.159206867218018
         ],
         "y": [
          2.5484840869903564,
          5.6580119132995605,
          -4.353811740875244,
          -5.908724784851074,
          1.4074970483779907,
          -3.161911964416504,
          0.3221379220485687,
          -3.108889579772949,
          -4.336556911468506,
          3.9276175498962402,
          0.6094562411308289,
          -6.300051689147949,
          1.701090693473816,
          3.9306321144104004,
          -1.4733680486679077,
          3.00569748878479,
          -6.485528945922852,
          -1.00635826587677,
          -6.4737091064453125,
          0.2971982955932617,
          -1.8182252645492554,
          0.8098030686378479,
          -4.188264846801758,
          3.7225117683410645,
          5.390307426452637,
          2.4956624507904053,
          -9.980088233947754,
          1.4662123918533325,
          -2.4815409183502197,
          0.8320783972740173,
          2.156633138656616,
          -3.9782755374908447,
          -4.5152201652526855,
          3.8788180351257324,
          -6.5366692543029785,
          0.6086217761039734,
          -9.99909496307373,
          7.375704765319824,
          -5.6558051109313965,
          5.822408199310303,
          -1.8623743057250977,
          5.2941575050354,
          -1.877962350845337,
          6.133400917053223,
          -6.546602249145508,
          2.837847948074341,
          -0.8203082084655762,
          -4.067540168762207,
          -7.571407318115234,
          5.8035502433776855,
          -4.747059345245361,
          -3.95365834236145,
          4.206719398498535,
          2.464571952819824,
          -0.8989904522895813,
          7.629055500030518,
          -0.3479261100292206,
          2.5919313430786133,
          -3.7137985229492188,
          -6.454686164855957,
          -3.74701189994812,
          1.3930774927139282,
          -5.897512912750244,
          -2.584543228149414,
          -0.7994423508644104,
          -2.7808163166046143,
          -3.283743381500244,
          -7.506674289703369,
          -0.48441147804260254,
          -2.414606809616089,
          -6.746826648712158,
          -3.739367723464966,
          0.8981468677520752,
          1.5302529335021973,
          -4.33964729309082,
          7.422647953033447,
          -2.4658594131469727,
          -2.5988290309906006,
          -6.591586589813232,
          -4.031242847442627,
          -4.540567874908447,
          -4.75039005279541,
          2.9587388038635254,
          -0.3707525432109833,
          -2.8512020111083984,
          3.935631275177002,
          3.958627462387085,
          -2.957731246948242,
          1.5600210428237915,
          2.1903765201568604,
          -0.6470465660095215,
          5.492863655090332,
          -6.149298191070557,
          -2.648064136505127,
          -2.697098970413208,
          3.8691601753234863,
          -2.225273847579956,
          -6.4094414710998535,
          -6.249051094055176,
          -6.3072686195373535,
          -1.5146583318710327,
          -0.4583064615726471,
          -2.7507760524749756,
          3.6004767417907715,
          7.520763874053955,
          0.6729317307472229,
          -6.664391040802002,
          3.4492478370666504,
          -6.945641994476318,
          0.6419464945793152,
          5.677812099456787,
          -4.19373083114624,
          3.460615396499634,
          0.9822177886962891,
          6.369938373565674,
          4.072168350219727,
          -2.873098373413086,
          6.91502046585083,
          -2.0058600902557373,
          -6.673842430114746,
          3.0056984424591064,
          2.2725722789764404,
          -6.49057674407959,
          0.16910310089588165,
          1.2397866249084473,
          -1.9534448385238647,
          -3.782386302947998,
          3.273195505142212,
          -5.53760290145874,
          0.2243097722530365,
          4.12808895111084,
          1.9897620677947998,
          2.8371267318725586,
          -2.7663543224334717,
          -5.933026313781738,
          4.4703569412231445,
          -4.217199325561523,
          -2.601632595062256,
          -5.060370445251465,
          2.377776622772217,
          -2.8950717449188232,
          -1.6873294115066528,
          0.37489545345306396,
          0.2981511652469635,
          -8.81709098815918,
          2.610764265060425,
          0.794249951839447,
          4.872161865234375,
          -3.6572163105010986,
          5.986901760101318,
          -6.659829616546631,
          -2.085670232772827,
          5.625295162200928,
          2.837130308151245,
          -6.400327205657959,
          3.09928035736084,
          1.084201693534851,
          0.7523701190948486,
          4.356654167175293,
          -6.241181373596191,
          -0.6378337740898132,
          -4.204920291900635,
          7.889873027801514,
          -3.003406286239624,
          6.421995162963867,
          0.0741809532046318,
          -6.167921543121338,
          -2.2230727672576904,
          3.2720601558685303,
          -7.774494171142578,
          -8.68830680847168,
          1.3371963500976562,
          -3.953014612197876,
          -0.007191438227891922,
          1.9357085227966309,
          3.3385069370269775,
          2.717916250228882,
          -5.79124116897583,
          -2.2821428775787354,
          -7.231807708740234,
          3.4726667404174805,
          5.153353214263916,
          4.444180488586426,
          -1.121199131011963,
          -0.033733200281858444,
          2.229395866394043,
          -0.1594320684671402,
          -6.901012420654297,
          3.8829848766326904,
          3.0255043506622314,
          0.8277941346168518,
          -2.1443209648132324,
          -4.627322673797607,
          1.0448579788208008,
          -6.396100044250488,
          1.0704952478408813,
          -3.520669460296631,
          -0.553862988948822,
          -4.042642593383789,
          -9.895282745361328,
          -4.8619384765625,
          -4.8848347663879395,
          -5.7342424392700195,
          -1.1572901010513306,
          -0.11162534356117249,
          1.500983715057373,
          0.6635281443595886,
          -1.7950056791305542,
          -1.3820369243621826,
          7.280073642730713,
          -6.231756687164307,
          -0.5208472609519958,
          -1.9742047786712646,
          -1.664842128753662,
          -3.7385287284851074,
          -6.198487281799316,
          -0.5932905077934265,
          7.263024806976318,
          -0.03214479237794876,
          -4.832632064819336,
          4.566366672515869,
          1.838419795036316,
          -3.7054970264434814,
          0.7804047465324402,
          -4.5531005859375,
          -3.937086582183838,
          4.80569314956665,
          -0.05330764129757881,
          -5.306395530700684,
          -3.530827045440674,
          -3.25877046585083,
          -6.852996826171875,
          -2.9653053283691406,
          -2.59379506111145,
          -6.4996232986450195,
          3.9293200969696045,
          -0.8397495746612549,
          -7.214209079742432,
          -7.620337963104248,
          3.922124147415161,
          -0.11635328829288483,
          -6.5510454177856445,
          -5.006061553955078,
          0.14103493094444275,
          -4.034538269042969,
          -6.862990856170654,
          3.1290268898010254,
          -0.4524466097354889,
          5.690981388092041,
          -1.8810973167419434,
          6.6845479011535645,
          -3.2333621978759766,
          -4.093589782714844,
          -0.6920333504676819,
          -4.265168190002441,
          -6.514969348907471,
          -3.6781485080718994,
          5.953967571258545,
          2.998333215713501,
          7.158480167388916,
          3.1334617137908936
         ],
         "z": [
          3.738556146621704,
          1.2203580141067505,
          1.4586243629455566,
          1.6871649026870728,
          -3.8886141777038574,
          2.4713799953460693,
          -6.636734962463379,
          -5.5038933753967285,
          0.19689427316188812,
          -3.0368435382843018,
          2.296806812286377,
          -0.08135974407196045,
          2.693413734436035,
          2.3132383823394775,
          3.2328100204467773,
          -6.12675666809082,
          1.494875431060791,
          -2.4317634105682373,
          0.5403797030448914,
          -4.157876968383789,
          -4.394537448883057,
          -2.723175525665283,
          -1.0256563425064087,
          4.327083110809326,
          2.0397613048553467,
          4.790685653686523,
          2.4822261333465576,
          2.373602867126465,
          1.8257780075073242,
          -6.659423351287842,
          -3.978501081466675,
          -2.5120351314544678,
          -1.550125002861023,
          2.032883405685425,
          -5.003726482391357,
          -2.8166990280151367,
          2.4929111003875732,
          2.362278461456299,
          1.443774938583374,
          0.8575791120529175,
          -6.537775039672852,
          2.6533100605010986,
          -3.6332149505615234,
          2.6203060150146484,
          0.052306029945611954,
          -6.251163959503174,
          -6.002440929412842,
          -1.6139761209487915,
          1.2357388734817505,
          -4.270069122314453,
          1.5535544157028198,
          -2.6751649379730225,
          -3.9271483421325684,
          3.640489339828491,
          -6.333174228668213,
          0.844074547290802,
          3.303220272064209,
          -6.29669713973999,
          1.6015347242355347,
          -0.16420437395572662,
          1.7706886529922485,
          -4.279038906097412,
          0.30864793062210083,
          2.8073339462280273,
          2.227342128753662,
          -3.024188995361328,
          -3.1525163650512695,
          1.1876246929168701,
          -4.0533671379089355,
          -6.346734523773193,
          -4.348563194274902,
          -2.182568311691284,
          -6.754822254180908,
          -4.02806282043457,
          0.16842427849769592,
          0.8840363025665283,
          -3.368298292160034,
          -1.4241902828216553,
          0.16283783316612244,
          -6.0290093421936035,
          0.6937240958213806,
          0.6063889265060425,
          -3.9789130687713623,
          -6.796045780181885,
          -6.341597557067871,
          -3.768803358078003,
          -3.0491693019866943,
          -3.1504886150360107,
          3.471205711364746,
          -5.564884662628174,
          -3.5973308086395264,
          1.8267912864685059,
          0.16268861293792725,
          1.501177191734314,
          1.6340019702911377,
          -5.819459438323975,
          1.2408379316329956,
          1.0454996824264526,
          -0.1650208681821823,
          1.636043667793274,
          1.7129462957382202,
          3.7013025283813477,
          -2.9192237854003906,
          -5.979909896850586,
          2.0979669094085693,
          3.2211594581604004,
          1.0855668783187866,
          4.981357097625732,
          0.7023974061012268,
          3.4956133365631104,
          2.189324140548706,
          -2.226693868637085,
          4.697000026702881,
          -4.371799468994141,
          2.6124367713928223,
          -3.2054450511932373,
          -1.6517093181610107,
          2.3530027866363525,
          -6.224923610687256,
          1.5141863822937012,
          -6.126756191253662,
          3.468933582305908,
          1.6133369207382202,
          -6.095040321350098,
          -4.108199596405029,
          -5.867525100708008,
          1.4000670909881592,
          4.932504177093506,
          1.097280740737915,
          -4.125158786773682,
          -6.024627208709717,
          -3.86912202835083,
          5.0897016525268555,
          -1.450656533241272,
          1.5602834224700928,
          -4.195309162139893,
          -2.644848346710205,
          -6.590325832366943,
          0.9414736032485962,
          3.858765125274658,
          -3.232527494430542,
          -3.886587142944336,
          -2.7327802181243896,
          -6.8913068771362305,
          2.981377363204956,
          -4.406172275543213,
          3.3816378116607666,
          1.3046691417694092,
          -2.6743290424346924,
          2.6449520587921143,
          1.2945305109024048,
          -3.5763819217681885,
          1.094111680984497,
          5.089699745178223,
          1.8970386981964111,
          2.443870782852173,
          3.8029942512512207,
          -6.5949554443359375,
          2.9933722019195557,
          1.4693546295166016,
          3.40226411819458,
          1.049561619758606,
          -4.90209436416626,
          -1.611809492111206,
          2.457411050796509,
          -6.93737268447876,
          1.1842312812805176,
          -5.137596130371094,
          3.2761895656585693,
          1.3538620471954346,
          1.8600448369979858,
          -6.4157514572143555,
          1.8306233882904053,
          -6.102193832397461,
          -3.5789501667022705,
          4.977787494659424,
          3.0260226726531982,
          -0.050097741186618805,
          -3.5514345169067383,
          1.1034488677978516,
          4.459125995635986,
          0.7657172679901123,
          1.5533243417739868,
          -2.405862331390381,
          -3.036696195602417,
          3.348904848098755,
          -6.516477584838867,
          1.1658381223678589,
          -2.683258056640625,
          4.7578253746032715,
          -3.5480194091796875,
          -2.641054391860962,
          0.767174243927002,
          -6.297304630279541,
          -0.02330753393471241,
          -4.3175153732299805,
          -2.9590981006622314,
          -4.008419036865234,
          -1.9135463237762451,
          2.4494848251342773,
          0.6294223666191101,
          -1.6139768362045288,
          -1.3226289749145508,
          -2.4319100379943848,
          -4.042372703552246,
          3.941129446029663,
          -6.764305114746094,
          -3.648444652557373,
          3.4328184127807617,
          1.5660758018493652,
          -5.049955368041992,
          1.7880275249481201,
          -2.941997766494751,
          -3.7861249446868896,
          0.2194141298532486,
          -0.9267322421073914,
          3.3167781829833984,
          2.1543872356414795,
          1.9802963733673096,
          -4.767309188842773,
          2.787381410598755,
          -4.0300188064575195,
          -5.668083190917969,
          3.5085582733154297,
          -1.5011587142944336,
          -5.622539043426514,
          -3.643805503845215,
          3.3831098079681396,
          1.571427583694458,
          -5.008541107177734,
          -6.658407688140869,
          1.177173376083374,
          -3.026155710220337,
          1.854360818862915,
          1.3274420499801636,
          2.634143114089966,
          -6.660356044769287,
          0.9054867625236511,
          1.238069772720337,
          -4.108135223388672,
          2.060494899749756,
          1.782529354095459,
          -0.5416480302810669,
          -4.094603061676025,
          1.6075352430343628,
          1.1185016632080078,
          -2.8738763332366943,
          -6.790638446807861,
          1.5085221529006958,
          -3.590003490447998,
          2.8122618198394775,
          -0.35365015268325806,
          0.3603469133377075,
          -6.803109645843506,
          1.8214836120605469,
          0.0420207679271698,
          -5.8608856201171875,
          0.8306077718734741,
          -4.0257110595703125,
          0.9018281102180481,
          -2.879640579223633
         ]
        },
        {
         "customdata": [
          [
           "type cau one two get",
           "big toe often numb sign diabet"
          ],
          [
           "type cau one two get",
           "diabet mellitu result polyurea"
          ],
          [
           "type cau one two get",
           "deni life insur diabet"
          ],
          [
           "type cau one two get",
           "diabet work post offic"
          ],
          [
           "type cau one two get",
           "caus frequent urin men"
          ],
          [
           "type cau one two get",
           "characterist gestat diabet differ type one type two diabet"
          ],
          [
           "type cau one two get",
           "peopl care nick jona diabet still teas peopl also type one diabet"
          ],
          [
           "type cau one two get",
           "diabet start"
          ],
          [
           "type cau one two get",
           "symptom caus diabet"
          ],
          [
           "type cau one two get",
           "type diabet would rather"
          ],
          [
           "type cau one two get",
           "symptom hypo got type one diabet"
          ],
          [
           "type cau one two get",
           "caus pain right arm elbow shoulder numb right finger"
          ],
          [
           "type cau one two get",
           "name disord diabet"
          ],
          [
           "type cau one two get",
           "releas date boxinbuddi knockout juvenil diabet two thousand six"
          ],
          [
           "type cau one two get",
           "patholog caus diabet"
          ],
          [
           "type cau one two get",
           "symptom associ diabet"
          ],
          [
           "type cau one two get",
           "diabet affect heal genit herp"
          ],
          [
           "type cau one two get",
           "omnipod"
          ],
          [
           "type cau one two get",
           "nick jona type one diabet"
          ],
          [
           "type cau one two get",
           "mani peopl diabet insipidu"
          ],
          [
           "type cau one two get",
           "teenag get type two diabet"
          ],
          [
           "type cau one two get",
           "diabet affect result breathalyz"
          ],
          [
           "type cau one two get",
           "novemb sixteen nick jona learn diabet"
          ],
          [
           "type cau one two get",
           "system caus diabet mellitu"
          ],
          [
           "type cau one two get",
           "mode transmiss diabet mellitu"
          ],
          [
           "type cau one two get",
           "risk factor develop diabet"
          ],
          [
           "type cau one two get",
           "diabet reaction"
          ],
          [
           "type cau one two get",
           "difen diabet"
          ],
          [
           "type cau one two get",
           "mani peopl die diabet year"
          ],
          [
           "type cau one two get",
           "percentag world popul diabet"
          ],
          [
           "type cau one two get",
           "patient describ diabet kussmaul respir physiolog activ take place caus patient"
          ],
          [
           "type cau one two get",
           "untreat diabet mellitu caus ketosi"
          ],
          [
           "type cau one two get",
           "diabet insipidu diabet mellitu"
          ],
          [
           "type cau one two get",
           "diabet defici diseas"
          ],
          [
           "type cau one two get",
           "diabet effect bodi"
          ],
          [
           "type cau one two get",
           "shoulder pain numb finger thumb"
          ],
          [
           "type cau one two get",
           "reason get thirsti usual"
          ],
          [
           "type cau one two get",
           "caus diabet type two"
          ],
          [
           "type cau one two get",
           "dad diabet get rid forev"
          ],
          [
           "type cau one two get",
           "iddm mean"
          ],
          [
           "type cau one two get",
           "type diabet run famili"
          ],
          [
           "type cau one two get",
           "type one diabet inherit condit"
          ],
          [
           "type cau one two get",
           "kid get diabet"
          ],
          [
           "type cau one two get",
           "diabet medicin caus cancer"
          ],
          [
           "type cau one two get",
           "could get diabet grape"
          ],
          [
           "type cau one two get",
           "diabet affect peopl"
          ],
          [
           "type cau one two get",
           "side affect diabet pregnanc"
          ],
          [
           "type cau one two get",
           "sensat burn feet diabet"
          ],
          [
           "type cau one two get",
           "symptom type two diabet"
          ],
          [
           "type cau one two get",
           "diabet caus hypertens"
          ],
          [
           "type cau one two get",
           "chanc gettin diabet dad diabet"
          ],
          [
           "type cau one two get",
           "mani pound nick jona loos got diabet"
          ],
          [
           "type cau one two get",
           "word diabet capit"
          ],
          [
           "type cau one two get",
           "get diabet father mother famili histori get diabet"
          ],
          [
           "type cau one two get",
           "vision complic get diabet"
          ],
          [
           "type cau one two get",
           "caus constant itch right side constantli rub"
          ],
          [
           "type cau one two get",
           "make urin cloudi"
          ],
          [
           "type cau one two get",
           "type peopl suscept meralgia paresthetica"
          ],
          [
           "type cau one two get",
           "averag age type one diabet"
          ],
          [
           "type cau one two get",
           "type two diabet known diabet"
          ],
          [
           "type cau one two get",
           "old join airforc"
          ],
          [
           "type cau one two get",
           "gastat diabet mellitu"
          ],
          [
           "type cau one two get",
           "type effect cephalosporin diabet"
          ],
          [
           "type cau one two get",
           "diabet nrotc"
          ],
          [
           "type cau one two get",
           "sotalol caus blur vision"
          ],
          [
           "type cau one two get",
           "diabet transfer one partner anoth"
          ],
          [
           "type cau one two get",
           "explain caus diabet control"
          ],
          [
           "type cau one two get",
           "late dinner caus diabet"
          ],
          [
           "type cau one two get",
           "besid medic treatment insulin els everyday minim chanc get diabet"
          ],
          [
           "type cau one two get",
           "differ hiv aid diabet type two"
          ],
          [
           "type cau one two get",
           "diabet incep"
          ],
          [
           "type cau one two get",
           "possibl diabet one els famili"
          ],
          [
           "type cau one two get",
           "substanc increas urin untreat diabet"
          ],
          [
           "type cau one two get",
           "four diseas communic"
          ],
          [
           "type cau one two get",
           "type microb diabet"
          ],
          [
           "type cau one two get",
           "finger tip turn white numb hand get cold caus"
          ],
          [
           "type cau one two get",
           "diabet warn sign"
          ],
          [
           "type cau one two get",
           "gestat diabet caus preterm labor"
          ],
          [
           "type cau one two get",
           "aceton breath"
          ],
          [
           "type cau one two get",
           "one common type diabet"
          ],
          [
           "type cau one two get",
           "type diabet alway insulin depend"
          ],
          [
           "type cau one two get",
           "diseas focu healthi peopl two thousand ten"
          ],
          [
           "type cau one two get",
           "possibl symptom diabet"
          ],
          [
           "type cau one two get",
           "type one diabet affect person relationship"
          ],
          [
           "type cau one two get",
           "frequent urin sign diabet"
          ],
          [
           "type cau one two get",
           "earth diabet"
          ],
          [
           "type cau one two get",
           "much liquor take kill diabet"
          ],
          [
           "type cau one two get",
           "term life insur diabet"
          ],
          [
           "type cau one two get",
           "deal diabet"
          ],
          [
           "type cau one two get",
           "raini rodriguez diabet"
          ],
          [
           "type cau one two get",
           "type one diabet affect lifestyl"
          ],
          [
           "type cau one two get",
           "child sweat excess squirm"
          ],
          [
           "type cau one two get",
           "lolli affect"
          ],
          [
           "type cau one two get",
           "children diabet"
          ],
          [
           "type cau one two get",
           "get health insur maryland diabet rheumatoid arthriti husband medicar miss enrol period cobra endin"
          ],
          [
           "type cau one two get",
           "type mutat caus diabet type one"
          ],
          [
           "type cau one two get",
           "warn sign diabet mellitu"
          ],
          [
           "type cau one two get",
           "diabet raf"
          ],
          [
           "type cau one two get",
           "diabet caus much sugar"
          ],
          [
           "type cau one two get",
           "diabet becom super sensit pain"
          ],
          [
           "type cau one two get",
           "develop diabet two"
          ],
          [
           "type cau one two get",
           "youv start pee lot normal forti two year old male"
          ],
          [
           "type cau one two get",
           "caus sore heal"
          ],
          [
           "type cau one two get",
           "get diabet"
          ],
          [
           "type cau one two get",
           "name type one type two"
          ],
          [
           "type cau one two get",
           "high blood sugar lead urinari tract infect"
          ],
          [
           "type cau one two get",
           "chees caus diabet"
          ],
          [
           "type cau one two get",
           "one common characterist form diabet mellitu"
          ],
          [
           "type cau one two get",
           "arm ach elbow"
          ],
          [
           "type cau one two get",
           "type diabet"
          ],
          [
           "type cau one two get",
           "two type superstiti"
          ],
          [
           "type cau one two get",
           "make hand fall asleep"
          ],
          [
           "type cau one two get",
           "diabet affect pancrea"
          ],
          [
           "type cau one two get",
           "thirteen yr old dalmatian diabet gone blind know time die"
          ],
          [
           "type cau one two get",
           "could diabet caus hand lock"
          ],
          [
           "type cau one two get",
           "histori diabet"
          ],
          [
           "type cau one two get",
           "diabet statist"
          ],
          [
           "type cau one two get",
           "uncorrect type diabet mellitu may result"
          ],
          [
           "type cau one two get",
           "kind diabet consid auto immun diseas"
          ],
          [
           "type cau one two get",
           "diabet ill"
          ],
          [
           "type cau one two get",
           "mani peopl die year type one diabet"
          ],
          [
           "type cau one two get",
           "mani peopl get diagnos diabet year"
          ],
          [
           "type cau one two get",
           "studi diabet mellitu call"
          ],
          [
           "type cau one two get",
           "gestat diabet show undiagnos type one diabet"
          ],
          [
           "type cau one two get",
           "symptom diabet crave salti food"
          ],
          [
           "type cau one two get",
           "link physic activ diabet"
          ],
          [
           "type cau one two get",
           "first person get diabet"
          ],
          [
           "type cau one two get",
           "contract diabet"
          ],
          [
           "type cau one two get",
           "diabet dehydr"
          ],
          [
           "type cau one two get",
           "old peopl get diabet"
          ],
          [
           "type cau one two get",
           "type one diabet known depend diabet"
          ],
          [
           "type cau one two get",
           "mean definit diabet"
          ],
          [
           "type cau one two get",
           "top rate children diabet endocrinolog hospit"
          ],
          [
           "type cau one two get",
           "countri highest diabet rate"
          ],
          [
           "type cau one two get",
           "miley break nick caus diabet"
          ],
          [
           "type cau one two get",
           "symtom diabet mellitu"
          ],
          [
           "type cau one two get",
           "get diabet touch infect person blood"
          ],
          [
           "type cau one two get",
           "diabet"
          ],
          [
           "type cau one two get",
           "symptom type two diabet"
          ],
          [
           "type cau one two get",
           "get diabet symptom"
          ],
          [
           "type cau one two get",
           "type diabet mellitu insulin resist disord"
          ],
          [
           "type cau one two get",
           "canadian diabet associ creat"
          ],
          [
           "type cau one two get",
           "molecular basi type one diabet"
          ],
          [
           "type cau one two get",
           "pima indian diabet"
          ],
          [
           "type cau one two get",
           "dri mouth sign diabet"
          ],
          [
           "type cau one two get",
           "mammal get diabet"
          ],
          [
           "type cau one two get",
           "type two diabet kill"
          ],
          [
           "type cau one two get",
           "list five non communic communic diseas"
          ],
          [
           "type cau one two get",
           "man diabet father child diabet"
          ],
          [
           "type cau one two get",
           "pre diabet symptom"
          ],
          [
           "type cau one two get",
           "diseas catch anoth person aid cancer diabet hypertens wart"
          ],
          [
           "type cau one two get",
           "osgood get leg cut"
          ],
          [
           "type cau one two get",
           "type diabet"
          ],
          [
           "type cau one two get",
           "diabet mental ill"
          ],
          [
           "type cau one two get",
           "peopl focu type two diabet"
          ],
          [
           "type cau one two get",
           "long term side affect diabet"
          ],
          [
           "type cau one two get",
           "type peopl risk develop diabet"
          ],
          [
           "type cau one two get",
           "symptom type one diabet"
          ],
          [
           "type cau one two get",
           "age group diabet affect"
          ],
          [
           "type cau one two get",
           "sign symptom type one diabet"
          ],
          [
           "type cau one two get",
           "tell diabet without see doctor"
          ],
          [
           "type cau one two get",
           "marri diabet"
          ],
          [
           "type cau one two get",
           "type one diabet live normal life"
          ],
          [
           "type cau one two get",
           "obes caus type two diabet"
          ],
          [
           "type cau one two get",
           "famili histori diabet disqualifi person pursu career pilot major commerci airlin industri"
          ],
          [
           "type cau one two get",
           "secondari complic diabet"
          ],
          [
           "type cau one two get",
           "symptom feel type two diabet"
          ],
          [
           "type cau one two get",
           "diabet hypothyroid link"
          ],
          [
           "type cau one two get",
           "diseas caus lack miner fe"
          ],
          [
           "type cau one two get",
           "diabet obes relat"
          ],
          [
           "type cau one two get",
           "gestat diabet affect child"
          ],
          [
           "type cau one two get",
           "what differ diabet type one two"
          ],
          [
           "type cau one two get",
           "medic term mean death tissu caus diabet"
          ],
          [
           "type cau one two get",
           "pee lot"
          ],
          [
           "type cau one two get",
           "thing diabet cant"
          ],
          [
           "type cau one two get",
           "caus type one diabet"
          ],
          [
           "type cau one two get",
           "diabet moneran kingdom"
          ],
          [
           "type cau one two get",
           "type two diabet revers"
          ],
          [
           "type cau one two get",
           "diabet"
          ],
          [
           "type cau one two get",
           "diabet wors chronic fatigu syndrom"
          ],
          [
           "type cau one two get",
           "mood swing diabet symptom"
          ],
          [
           "type cau one two get",
           "men get diabet"
          ],
          [
           "type cau one two get",
           "move canada uk diabet"
          ],
          [
           "type cau one two get",
           "symptom diabet tell diabet without see doctor"
          ],
          [
           "type cau one two get",
           "get diabet exercis"
          ],
          [
           "type cau one two get",
           "structur kidney damag diabet mellitu"
          ],
          [
           "type cau one two get",
           "diabet come"
          ],
          [
           "type cau one two get",
           "nick jona ever diabet"
          ],
          [
           "type cau one two get",
           "uncontrol diabet effect mental statu"
          ],
          [
           "type cau one two get",
           "diabet trait"
          ],
          [
           "type cau one two get",
           "frequent urin diabet symptom"
          ],
          [
           "type cau one two get",
           "common type ii diabet"
          ],
          [
           "type cau one two get",
           "catch type two diabet"
          ],
          [
           "type cau one two get",
           "symptom diabet person"
          ],
          [
           "type cau one two get",
           "mani kilogram diabet consum sodium"
          ],
          [
           "type cau one two get",
           "type two diabet noninfecti"
          ],
          [
           "type cau one two get",
           "common diabet symptom"
          ],
          [
           "type cau one two get",
           "know diabet"
          ],
          [
           "type cau one two get",
           "chanc diabet babi born parent heterozyg normal"
          ],
          [
           "type cau one two get",
           "gain weight diabet"
          ],
          [
           "type cau one two get",
           "common diabet symptom"
          ],
          [
           "type cau one two get",
           "paneer booti"
          ],
          [
           "type cau one two get",
           "gestat diabet everi pregnanc"
          ],
          [
           "type cau one two get",
           "major differ type one type two diabet"
          ],
          [
           "type cau one two get",
           "much diabet syring hold"
          ],
          [
           "type cau one two get",
           "hered play part diabet"
          ],
          [
           "type cau one two get",
           "get diabet much sugar"
          ],
          [
           "type cau one two get",
           "three p diabet"
          ],
          [
           "type cau one two get",
           "two challeng die chronic ill"
          ],
          [
           "type cau one two get",
           "describ diabet mellitu type two word"
          ],
          [
           "type cau one two get",
           "diabet affect urinari system"
          ],
          [
           "type cau one two get",
           "diabet caus numb finger"
          ],
          [
           "type cau one two get",
           "diabet type one"
          ],
          [
           "type cau one two get",
           "type one diabet contagi"
          ],
          [
           "type cau one two get",
           "swollen ankl symptom diabet"
          ],
          [
           "type cau one two get",
           "famou peopl type one diabet"
          ],
          [
           "type cau one two get",
           "could sweet smell urin"
          ],
          [
           "type cau one two get",
           "frequent caus death hors cholesterol diarrhoea diabet pine poison"
          ],
          [
           "type cau one two get",
           "urin sampl prove alcohol consumpt diabet"
          ],
          [
           "type cau one two get",
           "neither parent diabet get"
          ],
          [
           "type cau one two get",
           "nineti two lb blood sugar level still high"
          ],
          [
           "type cau one two get",
           "age peopl diagnos diabet"
          ],
          [
           "type cau one two get",
           "diabet"
          ],
          [
           "type cau one two get",
           "get gestat diabet"
          ],
          [
           "type cau one two get",
           "much sugar urin indic"
          ],
          [
           "type cau one two get",
           "grandfath diabet"
          ],
          [
           "type cau one two get",
           "doctor call studi child growth diabet"
          ],
          [
           "type cau one two get",
           "region like get diabet"
          ],
          [
           "type cau one two get",
           "symptom diabet"
          ],
          [
           "type cau one two get",
           "diabet woman mate diabet man"
          ],
          [
           "type cau one two get",
           "optimum arous sport"
          ],
          [
           "type cau one two get",
           "neuropathi diabet"
          ],
          [
           "type cau one two get",
           "explain patient diabet"
          ],
          [
           "type cau one two get",
           "diabet patient age thirti nine conceiv possibl becom pregnant"
          ],
          [
           "type cau one two get",
           "diabet urin often"
          ],
          [
           "type cau one two get",
           "polyuria caus excess urin"
          ],
          [
           "type cau one two get",
           "sign diabet type one two"
          ],
          [
           "type cau one two get",
           "mani women diabet"
          ],
          [
           "type cau one two get",
           "would diabet stop get certifi drive truck"
          ],
          [
           "type cau one two get",
           "describ possibl complic poorli control diabet mellitu complic avoid"
          ],
          [
           "type cau one two get",
           "type juvenil diabet"
          ],
          [
           "type cau one two get",
           "lil boosi diabet"
          ],
          [
           "type cau one two get",
           "system diabet relat"
          ],
          [
           "type cau one two get",
           "diabet mellitu multifactori diseas"
          ],
          [
           "type cau one two get",
           "symptom diabet may effect health long term"
          ],
          [
           "type cau one two get",
           "two type diabet"
          ],
          [
           "type cau one two get",
           "celebr diabet"
          ],
          [
           "type cau one two get",
           "major sign diabet"
          ],
          [
           "type cau one two get",
           "diabet produc glucos urin"
          ],
          [
           "type cau one two get",
           "give diabet lactulos"
          ],
          [
           "type cau one two get",
           "way detect carrier diabet"
          ],
          [
           "type cau one two get",
           "five symptom diabet"
          ],
          [
           "type cau one two get",
           "male diabet patient type one babi"
          ],
          [
           "type cau one two get",
           "diabet pass increas volum urin"
          ],
          [
           "type cau one two get",
           "vodka caus diabet"
          ],
          [
           "type cau one two get",
           "cocker spaniel diabet"
          ],
          [
           "type cau one two get",
           "mani peopl type one diabet"
          ],
          [
           "type cau one two get",
           "common diabet symptom look"
          ],
          [
           "type cau one two get",
           "mani peopl heart diseas us"
          ],
          [
           "type cau one two get",
           "smoke caus diabet two"
          ],
          [
           "type cau one two get",
           "ophthalmoplegia happen diabet mellitu"
          ],
          [
           "type cau one two get",
           "get diabet"
          ],
          [
           "type cau one two get",
           "diseas caus lack veggi friut"
          ],
          [
           "type cau one two get",
           "mani children diagnos type one diabet everi day"
          ],
          [
           "type cau one two get",
           "sign symptom diabet"
          ],
          [
           "type cau one two get",
           "mani peopl uk suffer diabet"
          ],
          [
           "type cau one two get",
           "obes diabet"
          ],
          [
           "type cau one two get",
           "juvenil diabet"
          ],
          [
           "type cau one two get",
           "feet burn sensat summer spite diabet hyper acid"
          ],
          [
           "type cau one two get",
           "hand safe diabet get tattoo"
          ],
          [
           "type cau one two get",
           "afrin caus tingl head"
          ],
          [
           "type cau one two get",
           "obes lead type two diabet"
          ],
          [
           "type cau one two get",
           "type two diabet affect health"
          ],
          [
           "type cau one two get",
           "diabet mellitu danger"
          ],
          [
           "type cau one two get",
           "common way detect diabet"
          ],
          [
           "type cau one two get",
           "would diabet mellitu caus urin acid"
          ],
          [
           "type cau one two get",
           "fed diabet cat"
          ],
          [
           "type cau one two get",
           "caus tingl left hand finger"
          ]
         ],
         "hovertemplate": "summary=%{customdata[0]}<br>pc_1=%{x}<br>pc_2=%{y}<br>pc_3=%{z}<br>sentence=%{customdata[1]}<extra></extra>",
         "legendgroup": "type cau one two get",
         "marker": {
          "color": "#EF553B",
          "size": 5,
          "symbol": "circle"
         },
         "mode": "markers",
         "name": "type cau one two get",
         "scene": "scene",
         "showlegend": true,
         "type": "scatter3d",
         "x": [
          -6.9250807762146,
          2.201202392578125,
          0.620262622833252,
          3.181382179260254,
          -5.892298221588135,
          1.7482293844223022,
          2.2540242671966553,
          6.679749965667725,
          -2.972830057144165,
          2.9357309341430664,
          3.488034248352051,
          -2.190068006515503,
          0.9399530291557312,
          0.8393393158912659,
          1.998788595199585,
          -1.9210853576660156,
          -0.4451901912689209,
          4.771307945251465,
          2.026634454727173,
          2.57741641998291,
          -0.11419399827718735,
          6.8144989013671875,
          -3.7374844551086426,
          1.1262718439102173,
          5.73331356048584,
          -2.0130455493927,
          4.955533981323242,
          5.493906497955322,
          2.774402379989624,
          6.453062057495117,
          6.080501079559326,
          2.431068181991577,
          -0.37298914790153503,
          1.9789633750915527,
          5.746975421905518,
          -4.397028923034668,
          -2.1259403228759766,
          2.3792176246643066,
          -0.05516817793250084,
          6.742980480194092,
          2.2012388706207275,
          0.4792736768722534,
          -5.747703552246094,
          6.3608832359313965,
          -0.3845076262950897,
          2.416632652282715,
          -1.2193306684494019,
          2.693901300430298,
          -3.7179813385009766,
          4.245450496673584,
          -0.36920595169067383,
          0.05181380733847618,
          4.916080474853516,
          -4.621764183044434,
          6.523447513580322,
          -0.11756577342748642,
          5.860219478607178,
          2.0866944789886475,
          2.7724292278289795,
          2.7759618759155273,
          -0.29010844230651855,
          3.029172658920288,
          2.0222363471984863,
          5.685897350311279,
          4.102675914764404,
          -2.42056941986084,
          -2.534365653991699,
          -4.310275077819824,
          0.15804529190063477,
          2.3375699520111084,
          5.091045379638672,
          4.887814044952393,
          -1.1576972007751465,
          -0.9007245898246765,
          3.1869380474090576,
          -5.100455284118652,
          -2.350320816040039,
          -1.9085581302642822,
          5.6552414894104,
          2.158146381378174,
          2.5916130542755127,
          -2.3962881565093994,
          -6.263198375701904,
          2.5608105659484863,
          -6.435105323791504,
          4.348504066467285,
          4.232030391693115,
          0.4498462677001953,
          4.707392692565918,
          4.935041904449463,
          2.5642549991607666,
          6.029537200927734,
          6.765000820159912,
          -4.27039098739624,
          0.05606403946876526,
          1.9852721691131592,
          -3.615691661834717,
          4.141685962677002,
          3.321549415588379,
          6.27658224105835,
          -0.5307482481002808,
          0.6125982999801636,
          2.1055829524993896,
          -0.15585260093212128,
          3.584632635116577,
          0.07238118350505829,
          2.0856568813323975,
          5.722692012786865,
          1.2266443967819214,
          2.306757926940918,
          2.605532646179199,
          5.206666469573975,
          5.961337089538574,
          1.0084459781646729,
          -6.031871318817139,
          4.85686731338501,
          2.624767541885376,
          0.760015070438385,
          1.301527976989746,
          4.740260601043701,
          2.722076416015625,
          -2.1171774864196777,
          0.14630816876888275,
          2.260777711868286,
          -0.5370382070541382,
          3.5675806999206543,
          7.184550762176514,
          2.421722412109375,
          0.8318758010864258,
          -5.6883721351623535,
          2.886645793914795,
          4.829528331756592,
          -3.6567533016204834,
          -0.26691582798957825,
          -1.2940313816070557,
          2.8496994972229004,
          -5.829235553741455,
          5.340505123138428,
          -3.716902017593384,
          -5.267726898193359,
          2.3666088581085205,
          2.366745948791504,
          2.7379708290100098,
          4.121824741363525,
          -4.835926532745361,
          0.8131767511367798,
          2.1793410778045654,
          -0.5724755525588989,
          3.750413179397583,
          -4.023677349090576,
          4.181502819061279,
          -2.1081809997558594,
          2.307633399963379,
          5.624048233032227,
          2.161634922027588,
          3.868175983428955,
          0.8012138605117798,
          -0.28096112608909607,
          2.1375904083251953,
          -0.6091163754463196,
          4.496989727020264,
          1.2577906847000122,
          2.9322991371154785,
          1.535581111907959,
          -6.372893810272217,
          4.804791450500488,
          -0.11388275772333145,
          3.005427837371826,
          -6.486238479614258,
          -5.670068740844727,
          -1.6216908693313599,
          3.019052028656006,
          4.854854583740234,
          4.29511833190918,
          4.818093776702881,
          2.2447474002838135,
          5.6109843254089355,
          1.6854649782180786,
          5.340482711791992,
          7.103240013122559,
          -5.042832851409912,
          -0.5134618878364563,
          5.029765605926514,
          -5.015073299407959,
          0.9974304437637329,
          3.0387024879455566,
          3.5122828483581543,
          -2.685769557952881,
          -3.0173141956329346,
          5.722553253173828,
          -7.030073165893555,
          2.304497241973877,
          1.5919557809829712,
          -2.2730541229248047,
          5.6397881507873535,
          2.3317713737487793,
          -5.836977005004883,
          5.8520684242248535,
          0.6875615119934082,
          4.38460111618042,
          -5.836968898773193,
          4.382436752319336,
          -5.930970191955566,
          2.3192808628082275,
          4.852883338928223,
          3.501437187194824,
          -0.031432490795850754,
          -1.2823296785354614,
          1.4912890195846558,
          0.8884175419807434,
          3.6040825843811035,
          -5.423353672027588,
          2.618837594985962,
          1.9763675928115845,
          -6.065340995788574,
          2.1686880588531494,
          -7.144598960876465,
          1.8061364889144897,
          1.0373986959457397,
          3.8968796730041504,
          6.739710330963135,
          6.634745121002197,
          5.340749263763428,
          0.7154709696769714,
          1.1417955160140991,
          5.448657989501953,
          3.4982244968414307,
          -2.5966475009918213,
          -5.169806957244873,
          2.0207200050354004,
          5.90431022644043,
          -0.5216880440711975,
          4.65367317199707,
          5.522364139556885,
          -5.419492721557617,
          -2.5180842876434326,
          1.605278491973877,
          0.24432897567749023,
          1.350252628326416,
          0.7797576785087585,
          3.016763210296631,
          5.7346577644348145,
          5.641933917999268,
          2.07657790184021,
          -4.664270401000977,
          2.2524595260620117,
          -1.3527476787567139,
          -4.523604393005371,
          5.6533589363098145,
          0.7807222008705139,
          5.500082015991211,
          -3.8740932941436768,
          2.2117533683776855,
          -2.0166878700256348,
          3.0840156078338623,
          2.646373748779297,
          2.7077081203460693,
          -6.30230712890625,
          5.540008544921875,
          -1.1578501462936401,
          3.4556314945220947,
          -0.1559290736913681,
          -6.349279403686523,
          -0.2357175350189209,
          -5.4148945808410645,
          2.413837194442749,
          -4.177712440490723,
          5.1568498611450195,
          1.3357716798782349,
          1.0048326253890991,
          6.640505313873291,
          1.328209638595581,
          2.145336151123047,
          3.3049299716949463,
          2.570614814758301,
          3.8477847576141357,
          0.7924844026565552,
          4.952847480773926
         ],
         "y": [
          15.726404190063477,
          13.280653953552246,
          14.685783386230469,
          10.83746337890625,
          15.962567329406738,
          11.903834342956543,
          10.834136009216309,
          6.533553600311279,
          15.468338012695312,
          5.462228298187256,
          7.370719909667969,
          15.274360656738281,
          14.424600601196289,
          14.649222373962402,
          13.65281867980957,
          14.506471633911133,
          12.255875587463379,
          12.765241622924805,
          11.237927436828613,
          12.687596321105957,
          14.564773559570312,
          6.901566028594971,
          15.051058769226074,
          14.351902961730957,
          7.965606689453125,
          15.32629680633545,
          8.170357704162598,
          7.517251491546631,
          12.224198341369629,
          7.074174404144287,
          5.352604389190674,
          13.091086387634277,
          14.970226287841797,
          13.630045890808105,
          4.65782356262207,
          15.78487491607666,
          15.572806358337402,
          9.750054359436035,
          9.220033645629883,
          7.195108413696289,
          8.91959285736084,
          13.919195175170898,
          14.505449295043945,
          5.895516395568848,
          14.654924392700195,
          12.614876747131348,
          15.330653190612793,
          12.362936019897461,
          16.121488571166992,
          12.920881271362305,
          14.294504165649414,
          14.261384963989258,
          4.938398838043213,
          14.77933406829834,
          10.584362030029297,
          15.085124969482422,
          12.240022659301758,
          10.493789672851562,
          6.11998987197876,
          7.7828688621521,
          14.700469017028809,
          11.381692886352539,
          11.240534782409668,
          6.742387294769287,
          14.2951021194458,
          15.679314613342285,
          14.026987075805664,
          15.564926147460938,
          9.219160079956055,
          8.806275367736816,
          9.559222221374512,
          9.940718650817871,
          14.723909378051758,
          15.233494758605957,
          4.867136001586914,
          14.033539772033691,
          15.233430862426758,
          14.33780288696289,
          11.39455509185791,
          9.861618995666504,
          6.302481651306152,
          14.822362899780273,
          15.489729881286621,
          8.206852912902832,
          15.71020793914795,
          7.9094648361206055,
          7.509207248687744,
          14.771002769470215,
          5.71099328994751,
          9.764939308166504,
          5.613023281097412,
          9.774492263793945,
          6.442215442657471,
          14.13884162902832,
          12.621782302856445,
          10.511946678161621,
          15.98090648651123,
          10.646910667419434,
          9.87735652923584,
          12.1973295211792,
          12.563543319702148,
          15.596683502197266,
          13.3384370803833,
          13.69385814666748,
          4.433813571929932,
          13.771828651428223,
          10.6946382522583,
          10.333328247070312,
          7.888009071350098,
          7.918267250061035,
          11.383527755737305,
          12.448822021484375,
          4.831085205078125,
          14.415983200073242,
          15.10523509979248,
          9.445618629455566,
          12.61705207824707,
          13.920380592346191,
          10.380446434020996,
          8.882089614868164,
          5.425067901611328,
          15.907769203186035,
          9.204656600952148,
          10.031187057495117,
          8.97165298461914,
          11.317841529846191,
          4.648525714874268,
          10.930670738220215,
          9.212212562561035,
          14.59001350402832,
          5.271805763244629,
          8.449416160583496,
          13.896111488342285,
          13.509631156921387,
          15.252900123596191,
          11.743911743164062,
          14.395306587219238,
          5.7492876052856445,
          16.1214542388916,
          15.334547996520996,
          7.486414432525635,
          8.172642707824707,
          6.7422404289245605,
          10.851247787475586,
          15.011495590209961,
          13.656805038452148,
          9.800110816955566,
          9.082877159118652,
          8.181483268737793,
          13.970361709594727,
          14.178268432617188,
          14.189973831176758,
          7.917966842651367,
          8.58090877532959,
          12.184015274047852,
          11.055428504943848,
          13.708261489868164,
          14.67199993133545,
          13.389864921569824,
          14.863734245300293,
          7.114323616027832,
          13.69388198852539,
          5.188710689544678,
          12.829476356506348,
          15.254743576049805,
          5.3004231452941895,
          14.569265365600586,
          11.810139656066895,
          16.00450325012207,
          15.030293464660645,
          13.96116828918457,
          8.03311538696289,
          12.513378143310547,
          13.206329345703125,
          7.889369964599609,
          9.861655235290527,
          8.609391212463379,
          11.720672607421875,
          5.749244689941406,
          6.997076034545898,
          13.983105659484863,
          14.829473495483398,
          8.936015129089355,
          14.6630859375,
          10.663578987121582,
          12.029569625854492,
          11.466089248657227,
          15.132772445678711,
          15.672600746154785,
          8.854732513427734,
          15.885185241699219,
          8.919220924377441,
          12.746259689331055,
          14.968217849731445,
          4.664813995361328,
          7.9303975105285645,
          15.9896240234375,
          4.307170391082764,
          14.376012802124023,
          6.722727298736572,
          15.989598274230957,
          11.122964859008789,
          15.606399536132812,
          8.21693229675293,
          5.021401405334473,
          11.52574348449707,
          11.612916946411133,
          14.205801010131836,
          13.472268104553223,
          13.769698143005371,
          11.374866485595703,
          16.084148406982422,
          6.3208818435668945,
          10.855172157287598,
          15.50229549407959,
          10.581910133361816,
          15.626953125,
          11.019209861755371,
          15.802053451538086,
          11.506211280822754,
          11.844430923461914,
          6.622359275817871,
          5.748691082000732,
          14.31149959564209,
          13.558416366577148,
          6.539140224456787,
          7.8877716064453125,
          15.42043399810791,
          15.22514820098877,
          13.531661033630371,
          10.141599655151367,
          8.898448944091797,
          5.124932765960693,
          11.116437911987305,
          15.990336418151855,
          15.691729545593262,
          12.286669731140137,
          14.816727638244629,
          13.75498104095459,
          9.098587036132812,
          5.377411842346191,
          5.613258361816406,
          5.408604145050049,
          13.23094367980957,
          15.365152359008789,
          10.939197540283203,
          13.887899398803711,
          15.712268829345703,
          12.331496238708496,
          9.339261054992676,
          8.526613235473633,
          15.582985877990723,
          10.395357131958008,
          14.658421516418457,
          12.336669921875,
          10.867281913757324,
          6.080623149871826,
          15.980969429016113,
          11.294246673583984,
          14.68492603302002,
          11.494240760803223,
          13.693815231323242,
          14.501830101013184,
          14.769927978515625,
          15.606943130493164,
          13.113127708435059,
          14.419148445129395,
          9.331360816955566,
          10.777815818786621,
          7.904916763305664,
          11.082239151000977,
          13.079282760620117,
          10.18708610534668,
          11.39766788482666,
          10.970959663391113,
          12.061554908752441,
          8.76912784576416,
          12.352521896362305
         ],
         "z": [
          3.216381788253784,
          -1.9624525308609009,
          -0.5295436978340149,
          -0.2597693204879761,
          2.2080295085906982,
          -4.787882328033447,
          -4.895205974578857,
          -2.8238365650177,
          1.6314406394958496,
          -5.892072677612305,
          -5.905367851257324,
          1.5856865644454956,
          -0.30278879404067993,
          -0.8121265769004822,
          -0.8449500203132629,
          2.1211020946502686,
          2.6284496784210205,
          -1.2117164134979248,
          -5.030714988708496,
          -0.9718484878540039,
          -2.579744815826416,
          -2.7544972896575928,
          2.4368364810943604,
          -1.1262317895889282,
          -2.1920976638793945,
          0.6632221341133118,
          -1.3740507364273071,
          -2.049851655960083,
          -0.6717316508293152,
          -2.6783230304718018,
          -2.8809707164764404,
          -2.0366973876953125,
          -1.3372734785079956,
          -1.2233420610427856,
          -4.460566997528076,
          1.754669189453125,
          0.9782559275627136,
          -5.695857048034668,
          2.5414302349090576,
          -2.4439170360565186,
          -5.748791694641113,
          -3.2958807945251465,
          4.019250869750977,
          -2.9220566749572754,
          0.9320732951164246,
          -0.23263080418109894,
          -0.09846054017543793,
          -0.720699667930603,
          0.09643924981355667,
          -1.716813087463379,
          1.1760509014129639,
          1.8408393859863281,
          -2.703413248062134,
          3.130854368209839,
          -1.7142417430877686,
          0.08963294327259064,
          -1.3663954734802246,
          -5.5884222984313965,
          -5.994035243988037,
          -6.016136169433594,
          0.8788982033729553,
          -0.6246467232704163,
          -5.055606842041016,
          -2.8559858798980713,
          -0.7120042443275452,
          0.15865322947502136,
          2.756235361099243,
          2.026578187942505,
          1.7796224355697632,
          -5.8507537841796875,
          -2.25232195854187,
          -1.8812702894210815,
          2.4768636226654053,
          0.2552942633628845,
          -5.877560615539551,
          4.238122940063477,
          1.3259003162384033,
          1.5503225326538086,
          -1.5622516870498657,
          -5.712371826171875,
          -6.472815990447998,
          2.1027724742889404,
          2.857454299926758,
          -6.108330726623535,
          2.8556487560272217,
          -0.7886124849319458,
          -0.7024112343788147,
          -0.5523964762687683,
          -1.8329582214355469,
          -2.0306339263916016,
          -5.28086519241333,
          -1.3133800029754639,
          -2.8085813522338867,
          3.6788666248321533,
          2.706002712249756,
          -3.7846741676330566,
          0.5404617190361023,
          -2.4396049976348877,
          0.021998511627316475,
          -1.3689006567001343,
          2.3888354301452637,
          0.5160491466522217,
          -0.08768686652183533,
          1.8609082698822021,
          -5.910797595977783,
          3.2839200496673584,
          1.1376616954803467,
          -2.300408124923706,
          1.5746712684631348,
          -5.9621381759643555,
          -3.886939287185669,
          -1.3708161115646362,
          -4.469950199127197,
          -0.1407521516084671,
          3.5794296264648438,
          -1.8356983661651611,
          -1.65976881980896,
          -2.9536311626434326,
          1.848056435585022,
          -1.4349477291107178,
          -5.393784046173096,
          1.9107060432434082,
          2.3448092937469482,
          -5.2990803718566895,
          2.910098075866699,
          -0.6209611296653748,
          -3.77366304397583,
          0.7296589612960815,
          1.851918339729309,
          3.8792288303375244,
          -5.634537220001221,
          -1.2781870365142822,
          3.622593402862549,
          1.988486886024475,
          0.5511433482170105,
          -0.693981409072876,
          3.5934064388275146,
          -2.9981319904327393,
          0.0963171124458313,
          2.9916961193084717,
          -6.508279800415039,
          0.9798587560653687,
          -6.002401351928711,
          -2.2124972343444824,
          2.959657669067383,
          1.3029052019119263,
          -5.774232864379883,
          2.9406259059906006,
          -0.26081305742263794,
          3.7364418506622314,
          -0.7682517170906067,
          2.764833688735962,
          -5.961645603179932,
          -2.1475069522857666,
          -3.3034181594848633,
          -0.15668030083179474,
          -3.2756152153015137,
          -2.523585557937622,
          -0.6171765923500061,
          -2.375093460083008,
          -1.0160661935806274,
          0.7337405681610107,
          -5.640078544616699,
          -3.7651238441467285,
          3.5449488162994385,
          -2.022463083267212,
          -2.5731236934661865,
          -1.6795287132263184,
          2.540496587753296,
          3.5726497173309326,
          2.098006010055542,
          -6.14670991897583,
          -1.4265081882476807,
          -1.1566842794418335,
          -1.1615029573440552,
          -5.658374309539795,
          -2.1673827171325684,
          -3.0101664066314697,
          -2.998136281967163,
          -2.5997657775878906,
          4.296128749847412,
          0.6735881567001343,
          -1.643785834312439,
          3.49249529838562,
          2.0495340824127197,
          -2.6658456325531006,
          -2.1783549785614014,
          1.7873203754425049,
          1.21481192111969,
          -2.07966685295105,
          3.1267154216766357,
          -5.961109161376953,
          -3.753596544265747,
          2.2749826908111572,
          -2.8504436016082764,
          -5.964056491851807,
          2.3451833724975586,
          -4.166829586029053,
          1.2122063636779785,
          -1.0312693119049072,
          2.3451130390167236,
          -0.25026386976242065,
          3.250927209854126,
          -5.96124792098999,
          -2.70550274848938,
          -2.156254529953003,
          2.5077431201934814,
          1.810395359992981,
          0.8594443202018738,
          -3.032836437225342,
          -2.5461385250091553,
          1.8849619626998901,
          -5.881373405456543,
          -5.552927494049072,
          2.733140468597412,
          -5.24537992477417,
          3.480815887451172,
          2.064182996749878,
          0.9950038194656372,
          -0.8912884593009949,
          -1.4154466390609741,
          -2.769944190979004,
          -2.997971534729004,
          0.5230349898338318,
          1.6891978979110718,
          -2.933274984359741,
          -0.07401560992002487,
          1.3514025211334229,
          2.8305087089538574,
          -0.6491246819496155,
          -1.0973931550979614,
          2.896379232406616,
          -2.478388547897339,
          -1.8236377239227295,
          2.0276753902435303,
          0.6914920806884766,
          -4.514032363891602,
          0.0546393059194088,
          0.6789999008178711,
          1.8164433240890503,
          -6.007216453552246,
          -2.869546413421631,
          -3.528895139694214,
          -2.1628036499023438,
          2.440927028656006,
          -4.472187519073486,
          2.1629319190979004,
          1.915824294090271,
          -1.50101637840271,
          1.9595476388931274,
          -1.9727401733398438,
          1.7749959230422974,
          -5.224968433380127,
          2.328429937362671,
          -0.7149568796157837,
          0.516555905342102,
          -5.974879741668701,
          2.687011957168579,
          -1.7842187881469727,
          1.0726662874221802,
          -2.9744625091552734,
          1.860856056213379,
          4.571839809417725,
          -2.105203866958618,
          2.4394712448120117,
          -1.1874194145202637,
          3.320127010345459,
          -2.1456687450408936,
          1.898008942604065,
          1.7224138975143433,
          -1.5907678604125977,
          -3.673168659210205,
          -5.639942169189453,
          -3.067781448364258,
          0.5609966516494751,
          -2.341630697250366,
          1.958863615989685,
          -1.4721519947052002
         ]
        },
        {
         "customdata": [
          [
           "diet food eat good recip",
           "one follow choic best way control type ii diabet"
          ],
          [
           "diet food eat good recip",
           "effect diet diabet"
          ],
          [
           "diet food eat good recip",
           "kind sugar substitut use diabet pound cake recip"
          ],
          [
           "diet food eat good recip",
           "food serv someon diabet diet"
          ],
          [
           "diet food eat good recip",
           "kind food eat keep blood sugar stabl"
          ],
          [
           "diet food eat good recip",
           "orang good diabet peopl"
          ],
          [
           "diet food eat good recip",
           "fruit good diabet diet"
          ],
          [
           "diet food eat good recip",
           "suplement fruit veget stop diabet two"
          ],
          [
           "diet food eat good recip",
           "best diet type two diabet"
          ],
          [
           "diet food eat good recip",
           "follow diabet diet guidelin ensur diabet go away"
          ],
          [
           "diet food eat good recip",
           "danger consum cheap diabet suppli"
          ],
          [
           "diet food eat good recip",
           "often diabet eat"
          ],
          [
           "diet food eat good recip",
           "schnauzer diabet"
          ],
          [
           "diet food eat good recip",
           "find inform pre diabet diet"
          ],
          [
           "diet food eat good recip",
           "might one go obtain diabet bracelet"
          ],
          [
           "diet food eat good recip",
           "daili carb allow type two diabet"
          ],
          [
           "diet food eat good recip",
           "diabet effect unbalanc diet"
          ],
          [
           "diet food eat good recip",
           "ideal diet diabet"
          ],
          [
           "diet food eat good recip",
           "diabet eat grapefruit"
          ],
          [
           "diet food eat good recip",
           "potato good diabet patient"
          ],
          [
           "diet food eat good recip",
           "afford diabet suppli avail medicar patient"
          ],
          [
           "diet food eat good recip",
           "food diabet need avoid"
          ],
          [
           "diet food eat good recip",
           "kind treatment peopl diabet"
          ],
          [
           "diet food eat good recip",
           "low carb diet caus diabet"
          ],
          [
           "diet food eat good recip",
           "diabet eat cucumb"
          ],
          [
           "diet food eat good recip",
           "import compon diabet diet plan"
          ],
          [
           "diet food eat good recip",
           "diet peopl diabet"
          ],
          [
           "diet food eat good recip",
           "find diabet food guid"
          ],
          [
           "diet food eat good recip",
           "cure hypertens diabet"
          ],
          [
           "diet food eat good recip",
           "good recip diabet"
          ],
          [
           "diet food eat good recip",
           "simpl recip found diabet menu"
          ],
          [
           "diet food eat good recip",
           "natur pain relief gout"
          ],
          [
           "diet food eat good recip",
           "diabet eat peach"
          ],
          [
           "diet food eat good recip",
           "treatment option children diabet"
          ],
          [
           "diet food eat good recip",
           "vitamin diabet"
          ],
          [
           "diet food eat good recip",
           "good diet exercis plan avoid get diabet"
          ],
          [
           "diet food eat good recip",
           "prevent diabet"
          ],
          [
           "diet food eat good recip",
           "exampl food type two diabet"
          ],
          [
           "diet food eat good recip",
           "allow eat drink one sugar diabet"
          ],
          [
           "diet food eat good recip",
           "best type diet someon diabet"
          ],
          [
           "diet food eat good recip",
           "diabet peopl eat margarin"
          ],
          [
           "diet food eat good recip",
           "scientist make educ guess diabet caus genet factor guess exampl"
          ],
          [
           "diet food eat good recip",
           "make sim sim three diabet"
          ],
          [
           "diet food eat good recip",
           "eat banana diabet patient"
          ],
          [
           "diet food eat good recip",
           "mechan action eclipta alba hepatoprotect"
          ],
          [
           "diet food eat good recip",
           "find diet plan person type two diabet"
          ],
          [
           "diet food eat good recip",
           "reduc advers effect diabet"
          ],
          [
           "diet food eat good recip",
           "gastric bypass surgeri recommend treatment diabet"
          ],
          [
           "diet food eat good recip",
           "diabet patient eat banana"
          ],
          [
           "diet food eat good recip",
           "bad eat noodl diabet"
          ],
          [
           "diet food eat good recip",
           "role diet exercis control hypertens diabet"
          ],
          [
           "diet food eat good recip",
           "find inform diet diabet type two"
          ],
          [
           "diet food eat good recip",
           "thing diabet cooki recip"
          ],
          [
           "diet food eat good recip",
           "dessert diabet enjoy"
          ],
          [
           "diet food eat good recip",
           "illeg ye consequ mom sell minor child excess diabet test suppli feed child"
          ],
          [
           "diet food eat good recip",
           "kind fruit diabet eat"
          ],
          [
           "diet food eat good recip",
           "measur taken prevent diabet adult"
          ],
          [
           "diet food eat good recip",
           "treatment diabet"
          ],
          [
           "diet food eat good recip",
           "anyon know diabet snack recip"
          ],
          [
           "diet food eat good recip",
           "use hemoglucotest"
          ],
          [
           "diet food eat good recip",
           "good diet keep sugar level"
          ],
          [
           "diet food eat good recip",
           "hard lose weight diabet"
          ],
          [
           "diet food eat good recip",
           "quick diabet recip"
          ],
          [
           "diet food eat good recip",
           "cure type one diabet"
          ],
          [
           "diet food eat good recip",
           "nutrit diet diabet"
          ],
          [
           "diet food eat good recip",
           "find onlin cookbook diabet"
          ],
          [
           "diet food eat good recip",
           "food good type one diabet also good type two"
          ],
          [
           "diet food eat good recip",
           "diabet eat bean"
          ],
          [
           "diet food eat good recip",
           "food eat type two diabet"
          ],
          [
           "diet food eat good recip",
           "cure diabet"
          ],
          [
           "diet food eat good recip",
           "walk good diabet"
          ],
          [
           "diet food eat good recip",
           "good diabet recip"
          ],
          [
           "diet food eat good recip",
           "lose weight diabet"
          ],
          [
           "diet food eat good recip",
           "doctor weight loss plan"
          ],
          [
           "diet food eat good recip",
           "anywher get free suppli blood sugar test"
          ],
          [
           "diet food eat good recip",
           "first aid treatment diabet mellitu"
          ],
          [
           "diet food eat good recip",
           "cure diabet"
          ],
          [
           "diet food eat good recip",
           "method rapid weight loss"
          ],
          [
           "diet food eat good recip",
           "get diabet cookbook"
          ],
          [
           "diet food eat good recip",
           "diabet recip help keep healthi"
          ],
          [
           "diet food eat good recip",
           "sous safe diabet eat"
          ],
          [
           "diet food eat good recip",
           "diabet life threaten"
          ],
          [
           "diet food eat good recip",
           "research done schizophrenia"
          ],
          [
           "diet food eat good recip",
           "common diet program someon receiv diabet treatment"
          ],
          [
           "diet food eat good recip",
           "food diabet eat"
          ],
          [
           "diet food eat good recip",
           "food stay away diabet"
          ],
          [
           "diet food eat good recip",
           "diabet eat fruit"
          ],
          [
           "diet food eat good recip",
           "type food need add diet diabet"
          ],
          [
           "diet food eat good recip",
           "diabet eat salt nut honey etc"
          ],
          [
           "diet food eat good recip",
           "websit diabet educ"
          ],
          [
           "diet food eat good recip",
           "diabet fruit"
          ],
          [
           "diet food eat good recip",
           "region bodi storag excess bodi fat associ highest risk cardiovascular diseas diabet"
          ],
          [
           "diet food eat good recip",
           "safe amount carbohydr gestat diabet"
          ],
          [
           "diet food eat good recip",
           "cure diabeti"
          ],
          [
           "diet food eat good recip",
           "diabet dad order eat"
          ],
          [
           "diet food eat good recip",
           "releas date project diabet prevent two thousand twelv stay motiv"
          ],
          [
           "diet food eat good recip",
           "diabet contraind massag"
          ],
          [
           "diet food eat good recip",
           "good method diabet prevent"
          ],
          [
           "diet food eat good recip",
           "find menu internet cater diabet individu"
          ],
          [
           "diet food eat good recip",
           "sell diabet food rhode island"
          ],
          [
           "diet food eat good recip",
           "cinnamon good diabet"
          ],
          [
           "diet food eat good recip",
           "strength weak diabet"
          ],
          [
           "diet food eat good recip",
           "diabet patient eat mango fruit"
          ],
          [
           "diet food eat good recip",
           "diabet cake recip use splenda sweet n low"
          ],
          [
           "diet food eat good recip",
           "good supplement diabet"
          ],
          [
           "diet food eat good recip",
           "healthi diabet diet plan"
          ],
          [
           "diet food eat good recip",
           "diabet dessert recip make stove"
          ],
          [
           "diet food eat good recip",
           "diet use revers diabet"
          ],
          [
           "diet food eat good recip",
           "prevent adult onset diabet"
          ],
          [
           "diet food eat good recip",
           "doctor said watch sugar intak verg diabet cut mani gram sugar daili sugar free best"
          ],
          [
           "diet food eat good recip",
           "food product peopl diabet"
          ],
          [
           "diet food eat good recip",
           "diabet drink tea"
          ],
          [
           "diet food eat good recip",
           "diabet patient eat couscou"
          ],
          [
           "diet food eat good recip",
           "differ candi diabet candi"
          ],
          [
           "diet food eat good recip",
           "diabet diet menu help diabet"
          ],
          [
           "diet food eat good recip",
           "food product good diabet"
          ],
          [
           "diet food eat good recip",
           "diabet food eat"
          ],
          [
           "diet food eat good recip",
           "good diabet food guid"
          ],
          [
           "diet food eat good recip",
           "good diet"
          ],
          [
           "diet food eat good recip",
           "good diet plan person diabet"
          ],
          [
           "diet food eat good recip",
           "world diabet cookbook"
          ],
          [
           "diet food eat good recip",
           "recip diabet cookbook cooki"
          ],
          [
           "diet food eat good recip",
           "good conclus diabet"
          ],
          [
           "diet food eat good recip",
           "great diabet diet recip"
          ],
          [
           "diet food eat good recip",
           "goal diabet treatment"
          ],
          [
           "diet food eat good recip",
           "applesauc use diabet cake recip"
          ],
          [
           "diet food eat good recip",
           "simpl dinner recip would work diabet menu plan"
          ],
          [
           "diet food eat good recip",
           "food would diabet food list"
          ],
          [
           "diet food eat good recip",
           "good diabet suppli adult"
          ],
          [
           "diet food eat good recip",
           "expert treat diabet"
          ],
          [
           "diet food eat good recip",
           "medicaid pay diabet shoe"
          ],
          [
           "diet food eat good recip",
           "proven diabet cure"
          ],
          [
           "diet food eat good recip",
           "much fat much sugar daili diabet"
          ],
          [
           "diet food eat good recip",
           "best way type capit sentenc"
          ],
          [
           "diet food eat good recip",
           "diet control effect treatment diabet"
          ],
          [
           "diet food eat good recip",
           "diabet patient eat date"
          ],
          [
           "diet food eat good recip",
           "one major food categori type two diabet diet"
          ],
          [
           "diet food eat good recip",
           "yam good diabet"
          ],
          [
           "diet food eat good recip",
           "scientist get paid stop research diabet"
          ],
          [
           "diet food eat good recip",
           "print diabet diet sheet"
          ],
          [
           "diet food eat good recip",
           "medic approv food list diabet"
          ],
          [
           "diet food eat good recip",
           "homemad chicken pot pie good diabet diet"
          ],
          [
           "diet food eat good recip",
           "diabet eat orang"
          ],
          [
           "diet food eat good recip",
           "necessari diabet food diabet"
          ],
          [
           "diet food eat good recip",
           "honey dew melon cantaloup bad diabet"
          ],
          [
           "diet food eat good recip",
           "diabet food pyramid"
          ],
          [
           "diet food eat good recip",
           "food drink sugar"
          ],
          [
           "diet food eat good recip",
           "reduc risk diabet"
          ],
          [
           "diet food eat good recip",
           "shiver due diabet occur"
          ],
          [
           "diet food eat good recip",
           "disadvantag ayurveda"
          ],
          [
           "diet food eat good recip",
           "one find inform diabet type one"
          ],
          [
           "diet food eat good recip",
           "food carri healthi diabet nurtrit"
          ],
          [
           "diet food eat good recip",
           "bring high blood pressur"
          ],
          [
           "diet food eat good recip",
           "find inexpens food diabet"
          ],
          [
           "diet food eat good recip",
           "one find inform diet diabet"
          ],
          [
           "diet food eat good recip",
           "ayurveda help someon diabet"
          ],
          [
           "diet food eat good recip",
           "list food high sugar"
          ],
          [
           "diet food eat good recip",
           "sugar conent banana"
          ],
          [
           "diet food eat good recip",
           "diet soda make crave sugar bad diabet"
          ],
          [
           "diet food eat good recip",
           "diabet pump use"
          ],
          [
           "diet food eat good recip",
           "diabet friendli food"
          ],
          [
           "diet food eat good recip",
           "find great recip diabet"
          ],
          [
           "diet food eat good recip",
           "qualiti servic american diabet"
          ],
          [
           "diet food eat good recip",
           "nut bean eat diabet person"
          ],
          [
           "diet food eat good recip",
           "guidelin food nutrit diabet"
          ],
          [
           "diet food eat good recip",
           "vocat colleg univers differ"
          ],
          [
           "diet food eat good recip",
           "diabet patient sagoo dana"
          ],
          [
           "diet food eat good recip",
           "treatmint diabet"
          ],
          [
           "diet food eat good recip",
           "food recomend diabet"
          ],
          [
           "diet food eat good recip",
           "much cost purchas liberti diabet suppli"
          ],
          [
           "diet food eat good recip",
           "kind treatment treat diabet"
          ],
          [
           "diet food eat good recip",
           "good diabet carrot cake recip"
          ],
          [
           "diet food eat good recip",
           "safe diabet drink aspartam"
          ],
          [
           "diet food eat good recip",
           "good diabet breakfast"
          ],
          [
           "diet food eat good recip",
           "find onlin menu diabet"
          ],
          [
           "diet food eat good recip",
           "best way lose forti pound fifti five borderlin diabet"
          ],
          [
           "diet food eat good recip",
           "choos food diabet"
          ],
          [
           "diet food eat good recip",
           "sugar toothpast danger diabet"
          ],
          [
           "diet food eat good recip",
           "diabet diet menu"
          ],
          [
           "diet food eat good recip",
           "find diabet menu"
          ],
          [
           "diet food eat good recip",
           "get free diabet suppli"
          ],
          [
           "diet food eat good recip",
           "could diabet benefit naturopath medicin therapi"
          ],
          [
           "diet food eat good recip",
           "prevent diabet"
          ],
          [
           "diet food eat good recip",
           "food diabet avoid besid sugar"
          ],
          [
           "diet food eat good recip",
           "diabet diet complet restrict type food"
          ],
          [
           "diet food eat good recip",
           "best diet diabet"
          ],
          [
           "diet food eat good recip",
           "ther way find inform diabet diet"
          ],
          [
           "diet food eat good recip",
           "teeth ach diabet medicin increas sensit"
          ],
          [
           "diet food eat good recip",
           "prevent diabet emerg affect day day life diabet"
          ],
          [
           "diet food eat good recip",
           "help diabet"
          ],
          [
           "diet food eat good recip",
           "food diabet avoid"
          ],
          [
           "diet food eat good recip",
           "betti crocker cookbook dessert recip diabet"
          ],
          [
           "diet food eat good recip",
           "recip diabet diet"
          ],
          [
           "diet food eat good recip",
           "wheat better rice diabet"
          ],
          [
           "diet food eat good recip",
           "find inform sign diabet"
          ],
          [
           "diet food eat good recip",
           "diabet clinic educ"
          ],
          [
           "diet food eat good recip",
           "kind food diabet eat"
          ],
          [
           "diet food eat good recip",
           "diabet diet guidelin"
          ],
          [
           "diet food eat good recip",
           "effect poor eat habit"
          ],
          [
           "diet food eat good recip",
           "diet cais diabet"
          ],
          [
           "diet food eat good recip",
           "fruit good diabet"
          ],
          [
           "diet food eat good recip",
           "cure juvenil diabet"
          ],
          [
           "diet food eat good recip",
           "prevent diabet veget soup"
          ],
          [
           "diet food eat good recip",
           "help diabet"
          ],
          [
           "diet food eat good recip",
           "carb count diabet"
          ],
          [
           "diet food eat good recip",
           "chees eat diabet"
          ],
          [
           "diet food eat good recip",
           "life expect someon diabet"
          ],
          [
           "diet food eat good recip",
           "consum cinnamon diabet"
          ],
          [
           "diet food eat good recip",
           "eat diabet patient get energi"
          ],
          [
           "diet food eat good recip",
           "treatment diabet"
          ],
          [
           "diet food eat good recip",
           "treatment diabet retinopathi"
          ],
          [
           "diet food eat good recip",
           "find diet plan diabet healthi also help peopl loos weight"
          ],
          [
           "diet food eat good recip",
           "find reasourc offici mayo clinic diet"
          ],
          [
           "diet food eat good recip",
           "good food guid diabet"
          ],
          [
           "diet food eat good recip",
           "ohip cover diabet medic"
          ],
          [
           "diet food eat good recip",
           "stay posit diabet"
          ],
          [
           "diet food eat good recip",
           "avoid treat hyperglycemia"
          ],
          [
           "diet food eat good recip",
           "food make wors diabet"
          ],
          [
           "diet food eat good recip",
           "type diet cure diabet"
          ],
          [
           "diet food eat good recip",
           "diabet retinopathi treatment consist"
          ],
          [
           "diet food eat good recip",
           "exercis help diabet"
          ],
          [
           "diet food eat good recip",
           "herb rais sugar level"
          ],
          [
           "diet food eat good recip",
           "diabet cure"
          ]
         ],
         "hovertemplate": "summary=%{customdata[0]}<br>pc_1=%{x}<br>pc_2=%{y}<br>pc_3=%{z}<br>sentence=%{customdata[1]}<extra></extra>",
         "legendgroup": "diet food eat good recip",
         "marker": {
          "color": "#00cc96",
          "size": 5,
          "symbol": "circle"
         },
         "mode": "markers",
         "name": "diet food eat good recip",
         "scene": "scene",
         "showlegend": true,
         "type": "scatter3d",
         "x": [
          -7.330971717834473,
          -7.704146862030029,
          -18.7526912689209,
          -9.688535690307617,
          -11.764135360717773,
          -6.770397663116455,
          -16.48467445373535,
          -15.30009937286377,
          -8.203571319580078,
          -15.277356147766113,
          -15.353787422180176,
          -3.543632745742798,
          -2.914588212966919,
          -15.099977493286133,
          -8.29497241973877,
          -16.0109920501709,
          -6.337499141693115,
          -9.37362003326416,
          -9.845900535583496,
          -5.998860836029053,
          -10.770149230957031,
          -10.630444526672363,
          -12.847061157226562,
          -8.049349784851074,
          -10.667376518249512,
          -19.26280975341797,
          -13.27733325958252,
          -13.828307151794434,
          -7.12166690826416,
          -19.200145721435547,
          -18.471080780029297,
          -4.240426063537598,
          -5.2916107177734375,
          -3.56343412399292,
          -4.709347724914551,
          -15.274223327636719,
          -6.517955303192139,
          -7.643324375152588,
          -4.903613090515137,
          -10.058115005493164,
          -3.5389440059661865,
          -10.375007629394531,
          -8.576814651489258,
          -12.031148910522461,
          -7.8652238845825195,
          -19.154348373413086,
          -3.0932600498199463,
          -16.879344940185547,
          -11.30643081665039,
          -6.8777546882629395,
          -4.61622953414917,
          -18.504907608032227,
          -18.973804473876953,
          -13.416881561279297,
          -7.578897953033447,
          -15.609564781188965,
          -9.258578300476074,
          -9.544708251953125,
          -19.961788177490234,
          -6.1510396003723145,
          -10.965928077697754,
          -8.280173301696777,
          -18.383085250854492,
          -10.007572174072266,
          -19.61475372314453,
          -18.43103790283203,
          -9.742873191833496,
          -8.770724296569824,
          -12.915413856506348,
          -12.665709495544434,
          -4.660595417022705,
          -19.95098114013672,
          -6.683761119842529,
          -8.368443489074707,
          -10.703349113464355,
          -4.660312175750732,
          -12.665694236755371,
          -4.253427505493164,
          -6.704564094543457,
          -21.011083602905273,
          -6.543186664581299,
          -3.895979881286621,
          -5.584334373474121,
          -11.20965576171875,
          -10.39539623260498,
          -4.150899410247803,
          -15.376935005187988,
          -10.145164489746094,
          -15.032835960388184,
          -9.011309623718262,
          -11.810680389404297,
          -4.534677505493164,
          -5.598828315734863,
          -8.86124038696289,
          -5.157328128814697,
          -6.4453911781311035,
          -4.200973033905029,
          -10.600096702575684,
          -11.740806579589844,
          -8.441948890686035,
          -18.833791732788086,
          -2.763547897338867,
          -14.757915496826172,
          -18.672412872314453,
          -8.100258827209473,
          -19.625463485717773,
          -21.015352249145508,
          -7.340709686279297,
          -6.1118364334106445,
          -11.388449668884277,
          -11.763504981994629,
          -10.61086368560791,
          -8.4990234375,
          -6.102412700653076,
          -20.899503707885742,
          -13.551302909851074,
          -13.941314697265625,
          -13.230326652526855,
          -13.268816947937012,
          -18.827077865600586,
          -15.39311695098877,
          -20.301443099975586,
          -6.766201019287109,
          -20.798131942749023,
          -8.895576477050781,
          -18.743526458740234,
          -19.5108642578125,
          -15.868971824645996,
          -17.390825271606445,
          -8.660307884216309,
          -10.903013229370117,
          -11.163338661193848,
          -4.691312789916992,
          -7.346299171447754,
          -10.334416389465332,
          -3.6454639434814453,
          -8.565282821655273,
          -6.641566276550293,
          -6.366263389587402,
          -15.254669189453125,
          -15.503350257873535,
          -13.914764404296875,
          -13.269542694091797,
          -12.735942840576172,
          -5.928447246551514,
          -13.567915916442871,
          -4.893915176391602,
          -3.8762097358703613,
          -3.208984136581421,
          -8.306984901428223,
          -9.776436805725098,
          -3.9718477725982666,
          -4.335743427276611,
          -16.284366607666016,
          -18.978540420532227,
          -13.206843376159668,
          -13.626830101013184,
          -6.090766906738281,
          -7.360057830810547,
          -5.088316917419434,
          -7.541306018829346,
          -20.993791580200195,
          -4.355988025665283,
          -10.321234703063965,
          -19.65056610107422,
          -5.203200340270996,
          -6.863647937774658,
          -3.4084763526916504,
          -7.740121364593506,
          -14.762140274047852,
          -16.746408462524414,
          -20.024770736694336,
          -6.943885803222656,
          -7.535136699676514,
          -17.326631546020508,
          -5.577387809753418,
          -8.10937786102295,
          -4.614944934844971,
          -19.58917808532715,
          -14.395011901855469,
          -14.224388122558594,
          -7.4152092933654785,
          -6.517951488494873,
          -12.358115196228027,
          -14.056291580200195,
          -11.986669540405273,
          -14.59304141998291,
          -6.147065162658691,
          -4.27752161026001,
          -5.334430694580078,
          -10.491518020629883,
          -21.155508041381836,
          -18.129409790039062,
          -7.783185005187988,
          -6.128525733947754,
          -8.862466812133789,
          -14.567940711975098,
          -17.492088317871094,
          -3.9263505935668945,
          -13.26734447479248,
          -16.06816864013672,
          -6.7270989418029785,
          -6.325900077819824,
          -5.334430694580078,
          -13.102088928222656,
          -9.0643892288208,
          -7.3171467781066895,
          -13.628510475158691,
          -3.500211238861084,
          -9.544699668884277,
          -9.599556922912598,
          -20.53632164001465,
          -8.17109489440918,
          -15.897125244140625,
          -5.387627601623535,
          -3.9938952922821045,
          -5.71307373046875,
          -4.917149066925049,
          -19.007610321044922,
          -5.069822788238525,
          -7.107486248016357,
          -6.6593098640441895,
          -11.673406600952148
         ],
         "y": [
          -0.976119875907898,
          -1.3030672073364258,
          -5.269402503967285,
          -4.981232166290283,
          -5.46848726272583,
          -3.9524099826812744,
          -4.631741523742676,
          -2.01397442817688,
          -0.20754577219486237,
          -2.0495529174804688,
          -3.9328901767730713,
          -1.8252546787261963,
          1.0111610889434814,
          -4.400931358337402,
          -1.0252748727798462,
          -3.589770793914795,
          -0.06169268861413002,
          -3.082949638366699,
          -3.2071692943573,
          -5.099200248718262,
          -3.0450425148010254,
          -2.94403076171875,
          -3.133911609649658,
          0.10973764210939407,
          -3.115618944168091,
          -4.7203264236450195,
          -3.093449354171753,
          -3.9689812660217285,
          -2.7898075580596924,
          -5.216073989868164,
          -5.277011871337891,
          -3.659323215484619,
          0.6847335696220398,
          1.4771019220352173,
          1.4721843004226685,
          -1.9727709293365479,
          0.058914124965667725,
          -1.0474419593811035,
          -4.806764602661133,
          -1.7569140195846558,
          1.1354843378067017,
          -1.8375656604766846,
          -2.807973623275757,
          -2.9651646614074707,
          -5.0553154945373535,
          -4.154338359832764,
          0.4419207274913788,
          -4.676423072814941,
          -4.526758670806885,
          -2.9589123725891113,
          -1.8258925676345825,
          -4.301829814910889,
          -4.598450660705566,
          -3.1729345321655273,
          -5.832120895385742,
          -4.473360538482666,
          -3.6494498252868652,
          -4.711802005767822,
          -5.103639602661133,
          -5.584767818450928,
          -5.668591022491455,
          0.5967732071876526,
          -4.338101863861084,
          -1.249985933303833,
          -4.933143615722656,
          -4.828090667724609,
          -1.235569953918457,
          -3.1646478176116943,
          -2.0504753589630127,
          -3.142879009246826,
          -3.2056643962860107,
          -4.988982677459717,
          0.7427634000778198,
          -4.6990227699279785,
          -5.796818256378174,
          -3.8406801223754883,
          -3.1432056427001953,
          0.9581918120384216,
          1.3895224332809448,
          -4.307024955749512,
          -3.297873020172119,
          -3.1592535972595215,
          -2.113476276397705,
          -4.7911882400512695,
          -2.911100387573242,
          1.0982606410980225,
          -4.538964748382568,
          -1.6077864170074463,
          -4.307684421539307,
          -4.060354709625244,
          -2.9406630992889404,
          -3.1633520126342773,
          -1.8691747188568115,
          -3.22967529296875,
          -3.241431474685669,
          -1.8045140504837036,
          -3.67899751663208,
          -2.7078890800476074,
          -5.224391937255859,
          -3.048241376876831,
          -4.939822196960449,
          2.108210325241089,
          -4.465591907501221,
          -4.89689826965332,
          -4.858681678771973,
          -5.07418966293335,
          -4.315365314483643,
          0.1379864513874054,
          -1.168427586555481,
          -2.4500932693481445,
          -2.7267863750457764,
          -4.747673034667969,
          -4.4702372550964355,
          -3.3420655727386475,
          -4.486481666564941,
          -3.442669153213501,
          -3.9707891941070557,
          -3.695103406906128,
          -4.523833751678467,
          -5.084356307983398,
          -3.9356658458709717,
          -4.923050403594971,
          -1.7591696977615356,
          -4.71621561050415,
          -3.046203136444092,
          -5.566410064697266,
          -4.517364025115967,
          -4.362096309661865,
          -4.704843997955322,
          -2.516718626022339,
          -2.792351245880127,
          -2.804194211959839,
          0.8367147445678711,
          -0.9534803628921509,
          -2.898536443710327,
          -3.8595433235168457,
          0.8216127157211304,
          -2.938584804534912,
          -1.3388700485229492,
          -4.4353156089782715,
          -3.9583866596221924,
          -3.5408670902252197,
          -3.664105176925659,
          -2.9183521270751953,
          -4.519739151000977,
          -3.8310115337371826,
          -5.302657604217529,
          -2.650838851928711,
          1.7470823526382446,
          -4.04713773727417,
          -1.022167682647705,
          0.9129070043563843,
          -5.971512794494629,
          -4.508869171142578,
          -4.7946672439575195,
          -3.6050736904144287,
          -3.2771928310394287,
          -5.5859551429748535,
          -5.958139896392822,
          -4.686759948730469,
          -0.35311901569366455,
          -4.403113842010498,
          -2.116213083267212,
          -5.090023040771484,
          -4.68480110168457,
          -4.548263072967529,
          -4.441629886627197,
          -1.723935604095459,
          -0.4855465590953827,
          -3.8423566818237305,
          -5.034805774688721,
          -4.696789264678955,
          -5.605885982513428,
          -3.5427985191345215,
          -4.659396648406982,
          -4.681933403015137,
          -2.902632713317871,
          -1.9681421518325806,
          -4.829614639282227,
          -4.1971564292907715,
          -3.883391857147217,
          -0.13243332505226135,
          0.058903589844703674,
          -3.063992738723755,
          -3.7738397121429443,
          -2.8768603801727295,
          -4.360536098480225,
          -5.675545692443848,
          -5.753240585327148,
          -5.246122360229492,
          -2.9132192134857178,
          -3.93578839302063,
          -4.738614082336426,
          -5.966194152832031,
          1.49690842628479,
          -4.2710041999816895,
          -4.038884162902832,
          -4.678426265716553,
          0.633557140827179,
          -3.098578453063965,
          -4.511083126068115,
          -0.7045160531997681,
          0.5127761960029602,
          -5.24612283706665,
          -3.377751588821411,
          -2.8568830490112305,
          -3.489590644836426,
          -3.1465837955474854,
          1.4745912551879883,
          -4.711780548095703,
          -2.6756105422973633,
          -4.77556848526001,
          -5.346356391906738,
          -4.064339637756348,
          -4.506839752197266,
          0.9361799955368042,
          -6.079469203948975,
          -1.760088324546814,
          -4.217522621154785,
          0.7334511876106262,
          -5.461789131164551,
          -6.372053146362305,
          -2.983156681060791
         ],
         "z": [
          3.620681047439575,
          6.5302019119262695,
          -0.30448704957962036,
          3.814985990524292,
          2.3643462657928467,
          5.423525810241699,
          0.6536805629730225,
          1.5905240774154663,
          5.297921180725098,
          1.6035569906234741,
          1.2640929222106934,
          3.8445143699645996,
          3.748772382736206,
          1.6465556621551514,
          6.586876392364502,
          0.8089644312858582,
          6.452409744262695,
          6.147794246673584,
          6.1481709480285645,
          3.9452195167541504,
          5.215428829193115,
          5.630489349365234,
          2.8576724529266357,
          6.586948871612549,
          5.7894744873046875,
          -1.4196254014968872,
          3.4645767211914062,
          2.7313597202301025,
          6.22014045715332,
          -1.0279141664505005,
          -0.20125284790992737,
          4.411658763885498,
          6.025058746337891,
          5.063624858856201,
          5.730085849761963,
          1.6158133745193481,
          6.486142635345459,
          3.9275994300842285,
          3.4710464477539062,
          4.180634021759033,
          4.722142696380615,
          6.317381381988525,
          6.237836837768555,
          4.532830238342285,
          4.284397125244141,
          -1.1312304735183716,
          3.748647451400757,
          0.4209660291671753,
          3.480886936187744,
          6.078254699707031,
          4.708893299102783,
          -0.706534206867218,
          -1.408414363861084,
          3.4093005657196045,
          3.3168752193450928,
          1.3364204168319702,
          5.356405735015869,
          4.174093723297119,
          -1.430167317390442,
          3.4144554138183594,
          2.506253242492676,
          6.611795902252197,
          -1.1291773319244385,
          3.762410879135132,
          -1.4557756185531616,
          -0.6609611511230469,
          4.3201704025268555,
          6.334470272064209,
          3.849663734436035,
          3.7651636600494385,
          4.436350345611572,
          -0.9449940919876099,
          6.541234970092773,
          4.632078647613525,
          2.4692294597625732,
          4.481165409088135,
          3.7650182247161865,
          5.457387447357178,
          6.569707870483398,
          -1.6664605140686035,
          5.726208209991455,
          3.280914306640625,
          5.964756965637207,
          3.2798612117767334,
          5.7443695068359375,
          5.202230453491211,
          1.0406278371810913,
          4.179263114929199,
          1.3892983198165894,
          5.0651140213012695,
          4.768306732177734,
          4.404617786407471,
          6.077945232391357,
          6.075128078460693,
          4.8402419090271,
          6.379158973693848,
          3.4467129707336426,
          5.588973045349121,
          2.60280704498291,
          6.234976768493652,
          -1.1366716623306274,
          4.484725475311279,
          1.8459452390670776,
          -0.9147050976753235,
          4.485447883605957,
          -0.8466891050338745,
          -1.644054651260376,
          6.544540882110596,
          6.251405715942383,
          5.304445266723633,
          4.903463840484619,
          3.619811534881592,
          4.830338478088379,
          5.450573921203613,
          -1.6959933042526245,
          2.6761388778686523,
          2.9879677295684814,
          3.457523822784424,
          2.5538434982299805,
          -0.9346418380737305,
          1.3167314529418945,
          -1.2910319566726685,
          6.402038097381592,
          -1.4809699058532715,
          6.150145530700684,
          -0.053938787430524826,
          -0.8453977704048157,
          0.677821934223175,
          0.038588281720876694,
          4.814601898193359,
          5.414965629577637,
          5.320129871368408,
          5.70000696182251,
          3.679511547088623,
          5.683477401733398,
          2.7628304958343506,
          6.614555358886719,
          6.003090858459473,
          6.389819145202637,
          1.3698879480361938,
          1.2018284797668457,
          3.050614833831787,
          3.665860414505005,
          4.082472324371338,
          4.530280113220215,
          3.681230306625366,
          3.0520849227905273,
          3.4397315979003906,
          4.815258502960205,
          5.305778980255127,
          4.303439140319824,
          5.035389423370361,
          2.2720587253570557,
          0.7996290326118469,
          -0.5569400191307068,
          2.795924425125122,
          2.8048789501190186,
          3.3974711894989014,
          3.1431691646575928,
          3.7752983570098877,
          6.521895408630371,
          -1.7202115058898926,
          4.531355381011963,
          3.419584274291992,
          -1.4576562643051147,
          4.034164905548096,
          4.847598075866699,
          3.622485637664795,
          6.542346954345703,
          1.9132276773452759,
          0.7293382883071899,
          -1.039360761642456,
          3.5564351081848145,
          5.6859002113342285,
          0.08559075742959976,
          4.181459903717041,
          6.2603936195373535,
          4.852320671081543,
          -0.6498501300811768,
          2.058720111846924,
          2.1119911670684814,
          6.519628524780273,
          6.486139297485352,
          4.307140350341797,
          1.7274832725524902,
          4.622122287750244,
          1.8469170331954956,
          3.3006467819213867,
          2.334988832473755,
          3.435967206954956,
          5.70374059677124,
          -1.7180964946746826,
          -0.4265642464160919,
          3.123685836791992,
          6.375250816345215,
          4.910703182220459,
          2.056495189666748,
          -0.07710856199264526,
          5.383456707000732,
          3.335878849029541,
          1.0837464332580566,
          6.4792561531066895,
          6.448992729187012,
          3.435967206954956,
          2.584895133972168,
          6.093655109405518,
          5.716621398925781,
          3.1985392570495605,
          5.00994873046875,
          4.174093246459961,
          6.041629791259766,
          -1.717401146888733,
          3.8916265964508057,
          0.8783838748931885,
          4.194221019744873,
          4.974808692932129,
          2.671938896179199,
          5.238018989562988,
          -0.8511546850204468,
          5.914741516113281,
          3.7583305835723877,
          2.55588698387146,
          4.944112777709961
         ]
        },
        {
         "customdata": [
          [
           "blood sugar insulin level gluco",
           "take metformin blood sugar level two hundr five"
          ],
          [
           "blood sugar insulin level gluco",
           "diabet make brain shrink"
          ],
          [
           "blood sugar insulin level gluco",
           "organ affect diabet"
          ],
          [
           "blood sugar insulin level gluco",
           "diabet test strip realli work"
          ],
          [
           "blood sugar insulin level gluco",
           "medicina biorezonanta cancer diabet tulburari psihic hepatita c dr alexandru olga"
          ],
          [
           "blood sugar insulin level gluco",
           "treat hypoglycemia"
          ],
          [
           "blood sugar insulin level gluco",
           "happen continu high blood sugar level"
          ],
          [
           "blood sugar insulin level gluco",
           "one find blood sugar level chart onlin"
          ],
          [
           "blood sugar insulin level gluco",
           "hormon involv diabet"
          ],
          [
           "blood sugar insulin level gluco",
           "divis classif mean"
          ],
          [
           "blood sugar insulin level gluco",
           "glucos toler test exampl specimen"
          ],
          [
           "blood sugar insulin level gluco",
           "normal valu dc"
          ],
          [
           "blood sugar insulin level gluco",
           "happen blood glucos level get low"
          ],
          [
           "blood sugar insulin level gluco",
           "patient fast oral glucos toler test"
          ],
          [
           "blood sugar insulin level gluco",
           "test diabet"
          ],
          [
           "blood sugar insulin level gluco",
           "sign hypoglycemia"
          ],
          [
           "blood sugar insulin level gluco",
           "high blood sugar diabet"
          ],
          [
           "blood sugar insulin level gluco",
           "normal blood sugar rang"
          ],
          [
           "blood sugar insulin level gluco",
           "two hormon human bodi control blood sugar level"
          ],
          [
           "blood sugar insulin level gluco",
           "glucos polym rais blood glucos"
          ],
          [
           "blood sugar insulin level gluco",
           "blood glucos level one thousand two hundr danger"
          ],
          [
           "blood sugar insulin level gluco",
           "onion bad diabet"
          ],
          [
           "blood sugar insulin level gluco",
           "wine rais blood sugar level"
          ],
          [
           "blood sugar insulin level gluco",
           "group chemic hormon insulin belong"
          ],
          [
           "blood sugar insulin level gluco",
           "low blood sugar lead diabet"
          ],
          [
           "blood sugar insulin level gluco",
           "organ system diabet belong"
          ],
          [
           "blood sugar insulin level gluco",
           "insulin blood sugar level"
          ],
          [
           "blood sugar insulin level gluco",
           "famotidin twenti mg rais blood sugar level"
          ],
          [
           "blood sugar insulin level gluco",
           "measur blood glucos level"
          ],
          [
           "blood sugar insulin level gluco",
           "happen bodi insulin inject"
          ],
          [
           "blood sugar insulin level gluco",
           "test use diagnosi diabet mellitu"
          ],
          [
           "blood sugar insulin level gluco",
           "part affect follow diseas diabet jaundic"
          ],
          [
           "blood sugar insulin level gluco",
           "sugar milk harm diabet"
          ],
          [
           "blood sugar insulin level gluco",
           "fast sleep pill work"
          ],
          [
           "blood sugar insulin level gluco",
           "blood sugar level diabet"
          ],
          [
           "blood sugar insulin level gluco",
           "relationship kcal blood sugar"
          ],
          [
           "blood sugar insulin level gluco",
           "substanc need diabet produc genet engin"
          ],
          [
           "blood sugar insulin level gluco",
           "regular insulin actrapid insulin"
          ],
          [
           "blood sugar insulin level gluco",
           "effect royal jelli diabet"
          ],
          [
           "blood sugar insulin level gluco",
           "diabet patient need insulin"
          ],
          [
           "blood sugar insulin level gluco",
           "size insulin adapt"
          ],
          [
           "blood sugar insulin level gluco",
           "insulin first use treatment diabet"
          ],
          [
           "blood sugar insulin level gluco",
           "blood sugar two hundr high"
          ],
          [
           "blood sugar insulin level gluco",
           "intern organ human bodi help regul blood sugar level"
          ],
          [
           "blood sugar insulin level gluco",
           "hemogluco test"
          ],
          [
           "blood sugar insulin level gluco",
           "extrem critic indic diabet mellitu"
          ],
          [
           "blood sugar insulin level gluco",
           "averag blood glucos level"
          ],
          [
           "blood sugar insulin level gluco",
           "herbal remedi insulin resist"
          ],
          [
           "blood sugar insulin level gluco",
           "suboxon increasw blood sugar level"
          ],
          [
           "blood sugar insulin level gluco",
           "check blood sugar level"
          ],
          [
           "blood sugar insulin level gluco",
           "blood sugar spike morn"
          ],
          [
           "blood sugar insulin level gluco",
           "normal blood sugar level"
          ],
          [
           "blood sugar insulin level gluco",
           "blood sugar level consid hypoglycemia"
          ],
          [
           "blood sugar insulin level gluco",
           "effect insulin bodi"
          ],
          [
           "blood sugar insulin level gluco",
           "fast blood sugar one hundr sixteen"
          ],
          [
           "blood sugar insulin level gluco",
           "need salt blood sugar high"
          ],
          [
           "blood sugar insulin level gluco",
           "suspens taken oral"
          ],
          [
           "blood sugar insulin level gluco",
           "normal blood sugar rang fast"
          ],
          [
           "blood sugar insulin level gluco",
           "produc transgen bacteria make insulin step research take first"
          ],
          [
           "blood sugar insulin level gluco",
           "diabet serv size strawberri"
          ],
          [
           "blood sugar insulin level gluco",
           "insulin use diabet obtain"
          ],
          [
           "blood sugar insulin level gluco",
           "antibiot increas blood sugar"
          ],
          [
           "blood sugar insulin level gluco",
           "blood sugar level rise secret"
          ],
          [
           "blood sugar insulin level gluco",
           "less normal glucos level level low normal"
          ],
          [
           "blood sugar insulin level gluco",
           "mani time day person diabet check blood sugar level"
          ],
          [
           "blood sugar insulin level gluco",
           "caution take biguanid thiazolidinedion use treat insulin resist"
          ],
          [
           "blood sugar insulin level gluco",
           "differ care person insulin shock diabet coma"
          ],
          [
           "blood sugar insulin level gluco",
           "diabet control glucos level"
          ],
          [
           "blood sugar insulin level gluco",
           "side affect lantu give"
          ],
          [
           "blood sugar insulin level gluco",
           "bad glucos one hundr forti three"
          ],
          [
           "blood sugar insulin level gluco",
           "kevin okyer"
          ],
          [
           "blood sugar insulin level gluco",
           "drug class lantu insulin"
          ],
          [
           "blood sugar insulin level gluco",
           "nondairi creamer bad diabet"
          ],
          [
           "blood sugar insulin level gluco",
           "differ tuberculin syring insulin syring"
          ],
          [
           "blood sugar insulin level gluco",
           "uric acid found"
          ],
          [
           "blood sugar insulin level gluco",
           "diabet use cornstarch"
          ],
          [
           "blood sugar insulin level gluco",
           "hypoglycemia"
          ],
          [
           "blood sugar insulin level gluco",
           "post prandial"
          ],
          [
           "blood sugar insulin level gluco",
           "recombin human insulin"
          ],
          [
           "blood sugar insulin level gluco",
           "pancreat hormon increas blood sugar"
          ],
          [
           "blood sugar insulin level gluco",
           "true result meter show error"
          ],
          [
           "blood sugar insulin level gluco",
           "first discov diabet"
          ],
          [
           "blood sugar insulin level gluco",
           "counter insulin good prescript insulin"
          ],
          [
           "blood sugar insulin level gluco",
           "insulin use"
          ],
          [
           "blood sugar insulin level gluco",
           "insulin taken oral"
          ],
          [
           "blood sugar insulin level gluco",
           "glucos level three hundr seventi one"
          ],
          [
           "blood sugar insulin level gluco",
           "six point three normal sugar human"
          ],
          [
           "blood sugar insulin level gluco",
           "diabet discov"
          ],
          [
           "blood sugar insulin level gluco",
           "diabet still take nytric efx"
          ],
          [
           "blood sugar insulin level gluco",
           "type hormon insulin"
          ],
          [
           "blood sugar insulin level gluco",
           "check sugar level good"
          ],
          [
           "blood sugar insulin level gluco",
           "diabet requir insulin inject"
          ],
          [
           "blood sugar insulin level gluco",
           "found insulin bodi"
          ],
          [
           "blood sugar insulin level gluco",
           "insulin control sugar level"
          ],
          [
           "blood sugar insulin level gluco",
           "criteria ppb diabet"
          ],
          [
           "blood sugar insulin level gluco",
           "caus red blood cell count decreas"
          ],
          [
           "blood sugar insulin level gluco",
           "addit take insulin one treat diabet"
          ],
          [
           "blood sugar insulin level gluco",
           "insulin affect bodi"
          ],
          [
           "blood sugar insulin level gluco",
           "relationship mahogani seed lower blood glucos"
          ],
          [
           "blood sugar insulin level gluco",
           "take glucos tablet blood sugar high"
          ],
          [
           "blood sugar insulin level gluco",
           "part human digest system produc insulin control sugar blood"
          ],
          [
           "blood sugar insulin level gluco",
           "first insulin inject given"
          ],
          [
           "blood sugar insulin level gluco",
           "synonym adher"
          ],
          [
           "blood sugar insulin level gluco",
           "connect diabet enlarg prostat"
          ],
          [
           "blood sugar insulin level gluco",
           "blood sugar level two hour eat"
          ],
          [
           "blood sugar insulin level gluco",
           "blood sugar low hormon bodi produc help"
          ],
          [
           "blood sugar insulin level gluco",
           "fast glucos test rang nineti eight one hundr fourteen"
          ],
          [
           "blood sugar insulin level gluco",
           "one thousand nine hundr eighti nine chevi pu five point seven normal vacuum read"
          ],
          [
           "blood sugar insulin level gluco",
           "function gonad"
          ],
          [
           "blood sugar insulin level gluco",
           "substanc produc bacteria"
          ],
          [
           "blood sugar insulin level gluco",
           "normal rang fast blood glucos"
          ],
          [
           "blood sugar insulin level gluco",
           "glucos rais sugar level"
          ],
          [
           "blood sugar insulin level gluco",
           "diseas blood glucos level normal"
          ],
          [
           "blood sugar insulin level gluco",
           "insulin produc genet engin"
          ],
          [
           "blood sugar insulin level gluco",
           "give long act insulin low blood sugar level"
          ],
          [
           "blood sugar insulin level gluco",
           "alcohol drink diabet"
          ],
          [
           "blood sugar insulin level gluco",
           "bolu insulin mean rapid insulin mix lent one"
          ],
          [
           "blood sugar insulin level gluco",
           "diabet becom thin feel weak"
          ],
          [
           "blood sugar insulin level gluco",
           "mani day one vial insulin last sig inject fifti unit sq qday"
          ],
          [
           "blood sugar insulin level gluco",
           "glucos remov bloodstream"
          ],
          [
           "blood sugar insulin level gluco",
           "tum rais blood sugar"
          ],
          [
           "blood sugar insulin level gluco",
           "effect alcohol diabet type two"
          ],
          [
           "blood sugar insulin level gluco",
           "start american diabet associ"
          ],
          [
           "blood sugar insulin level gluco",
           "nine point nine glucos read high"
          ],
          [
           "blood sugar insulin level gluco",
           "one hundr twelv high glucos read"
          ],
          [
           "blood sugar insulin level gluco",
           "normal sugar human"
          ],
          [
           "blood sugar insulin level gluco",
           "keyton danger diabet"
          ],
          [
           "blood sugar insulin level gluco",
           "antibiot affect blood sugar level"
          ],
          [
           "blood sugar insulin level gluco",
           "maintain blood glucos level"
          ],
          [
           "blood sugar insulin level gluco",
           "blood sugar level read eaten"
          ],
          [
           "blood sugar insulin level gluco",
           "organ organ system close associ malfunct call diabet"
          ],
          [
           "blood sugar insulin level gluco",
           "peopl diabet carri insulin needl airplan"
          ],
          [
           "blood sugar insulin level gluco",
           "dehydr affect high blood sugar"
          ],
          [
           "blood sugar insulin level gluco",
           "sign low blood sugar"
          ],
          [
           "blood sugar insulin level gluco",
           "happen blood sugar level properli regul"
          ],
          [
           "blood sugar insulin level gluco",
           "diabet meter"
          ],
          [
           "blood sugar insulin level gluco",
           "diabet patern test done still pregnant"
          ],
          [
           "blood sugar insulin level gluco",
           "hypoglcemia"
          ],
          [
           "blood sugar insulin level gluco",
           "normal blood glucos level adult"
          ],
          [
           "blood sugar insulin level gluco",
           "alcohol bad diabet"
          ],
          [
           "blood sugar insulin level gluco",
           "normal result fast blood sugar test"
          ],
          [
           "blood sugar insulin level gluco",
           "blood sugar chart look"
          ],
          [
           "blood sugar insulin level gluco",
           "salt pool salt system increas blood pressur"
          ],
          [
           "blood sugar insulin level gluco",
           "tell patient need given glucos"
          ],
          [
           "blood sugar insulin level gluco",
           "two organ involv regul blood sugar level bodi"
          ],
          [
           "blood sugar insulin level gluco",
           "test find"
          ],
          [
           "blood sugar insulin level gluco",
           "egg rais blood sugar"
          ],
          [
           "blood sugar insulin level gluco",
           "glucos relat diabet"
          ],
          [
           "blood sugar insulin level gluco",
           "purpos glucos toler test"
          ],
          [
           "blood sugar insulin level gluco",
           "caus elev level blood glucos"
          ],
          [
           "blood sugar insulin level gluco",
           "function dessic"
          ],
          [
           "blood sugar insulin level gluco",
           "pharmacolog effect insulin"
          ],
          [
           "blood sugar insulin level gluco",
           "insulin inject"
          ],
          [
           "blood sugar insulin level gluco",
           "side effect paneer ka phool diabet patient"
          ],
          [
           "blood sugar insulin level gluco",
           "blood test done diabet peopl"
          ],
          [
           "blood sugar insulin level gluco",
           "insulin diabet"
          ],
          [
           "blood sugar insulin level gluco",
           "immedetli lower blood sugar"
          ],
          [
           "blood sugar insulin level gluco",
           "cholesterol poison"
          ],
          [
           "blood sugar insulin level gluco",
           "mazda stink"
          ],
          [
           "blood sugar insulin level gluco",
           "insulin use fraction urin coverag"
          ],
          [
           "blood sugar insulin level gluco",
           "blood sugar number"
          ],
          [
           "blood sugar insulin level gluco",
           "normal sugar level teenag"
          ],
          [
           "blood sugar insulin level gluco",
           "must insulin inject taken mouth"
          ],
          [
           "blood sugar insulin level gluco",
           "viral gastroenter caus rise blood sugar"
          ],
          [
           "blood sugar insulin level gluco",
           "insulin refriger"
          ],
          [
           "blood sugar insulin level gluco",
           "blood sugar tester"
          ],
          [
           "blood sugar insulin level gluco",
           "salt tablet lower blood sugar"
          ],
          [
           "blood sugar insulin level gluco",
           "post prandial blood sugar mean"
          ],
          [
           "blood sugar insulin level gluco",
           "happen blood sugar low"
          ],
          [
           "blood sugar insulin level gluco",
           "temp insulin store"
          ],
          [
           "blood sugar insulin level gluco",
           "ancillari blood glucos test"
          ],
          [
           "blood sugar insulin level gluco",
           "normal hormon test result premenopaus woman"
          ],
          [
           "blood sugar insulin level gluco",
           "genet engin factor increas cost insulin"
          ],
          [
           "blood sugar insulin level gluco",
           "gland essenti metabol carboydr reduc blood sugar"
          ],
          [
           "blood sugar insulin level gluco",
           "blood sugar five hundr seventi five type insulin one take"
          ],
          [
           "blood sugar insulin level gluco",
           "took insluin diabet"
          ],
          [
           "blood sugar insulin level gluco",
           "nineti seven one hundr twenti blood sugar level within normal rang non diabet"
          ],
          [
           "blood sugar insulin level gluco",
           "blood glucos level one hundr one high"
          ],
          [
           "blood sugar insulin level gluco",
           "lidoderm rais blood sugar level"
          ],
          [
           "blood sugar insulin level gluco",
           "cbc test"
          ],
          [
           "blood sugar insulin level gluco",
           "symptom hypoglycemia low low"
          ],
          [
           "blood sugar insulin level gluco",
           "pancrea releas blood glucos concentr increas"
          ],
          [
           "blood sugar insulin level gluco",
           "diabet drink slim fast sugar"
          ],
          [
           "blood sugar insulin level gluco",
           "glucos edibl"
          ],
          [
           "blood sugar insulin level gluco",
           "insulin measur syring"
          ],
          [
           "blood sugar insulin level gluco",
           "averag blood sugar past three week measur test"
          ],
          [
           "blood sugar insulin level gluco",
           "illeg unwis someon prescrib slow act insulin use someon els fast act insulin instead refil prescript"
          ],
          [
           "blood sugar insulin level gluco",
           "mani cc ten unit insulin"
          ],
          [
           "blood sugar insulin level gluco",
           "normal sugar level"
          ],
          [
           "blood sugar insulin level gluco",
           "diabet test strip univers"
          ],
          [
           "blood sugar insulin level gluco",
           "nineti high blood sugar"
          ],
          [
           "blood sugar insulin level gluco",
           "dead skin cell foot spa attract ant left contain hour mean diabet"
          ],
          [
           "blood sugar insulin level gluco",
           "mani type sugar like blood sugar"
          ],
          [
           "blood sugar insulin level gluco",
           "caus blood sugar drop rapidli"
          ],
          [
           "blood sugar insulin level gluco",
           "tissu insulin depend"
          ],
          [
           "blood sugar insulin level gluco",
           "blood sugar level chart"
          ],
          [
           "blood sugar insulin level gluco",
           "mani tube drawn three hour glucos toler test"
          ],
          [
           "blood sugar insulin level gluco",
           "diabet use insulin weightlift purpos"
          ],
          [
           "blood sugar insulin level gluco",
           "teeth relat headach"
          ],
          [
           "blood sugar insulin level gluco",
           "normal rang blood sugar test"
          ],
          [
           "blood sugar insulin level gluco",
           "use printf insid isr"
          ],
          [
           "blood sugar insulin level gluco",
           "energi store glucos molecul"
          ],
          [
           "blood sugar insulin level gluco",
           "long take nph insulin nurs observ patient hypoglycemia"
          ],
          [
           "blood sugar insulin level gluco",
           "patient need given glucos"
          ],
          [
           "blood sugar insulin level gluco",
           "summar easi explain glucagon insulin work togeth maintain rel constant blood sugar level"
          ],
          [
           "blood sugar insulin level gluco",
           "function endrogen insulin"
          ],
          [
           "blood sugar insulin level gluco",
           "good blood sugar level femal"
          ],
          [
           "blood sugar insulin level gluco",
           "would happen ate insulin tast"
          ],
          [
           "blood sugar insulin level gluco",
           "clariten effect glucos read"
          ],
          [
           "blood sugar insulin level gluco",
           "hormon inhibit insulin"
          ],
          [
           "blood sugar insulin level gluco",
           "bolu use medicin"
          ],
          [
           "blood sugar insulin level gluco",
           "ecoli make insulin"
          ],
          [
           "blood sugar insulin level gluco",
           "mani diabet use insulin made certain bacteria abil bacteria produc insulin like result"
          ],
          [
           "blood sugar insulin level gluco",
           "organel insulin synthes"
          ],
          [
           "blood sugar insulin level gluco",
           "peopl diatbeat high low blood sugar"
          ],
          [
           "blood sugar insulin level gluco",
           "mpv blood count"
          ],
          [
           "blood sugar insulin level gluco",
           "two horomon regul blood sugar"
          ],
          [
           "blood sugar insulin level gluco",
           "condit abnorm low concentr glucos blood call"
          ],
          [
           "blood sugar insulin level gluco",
           "determin condit"
          ],
          [
           "blood sugar insulin level gluco",
           "organ produc insulin"
          ],
          [
           "blood sugar insulin level gluco",
           "long take novalog react high blood sugar"
          ],
          [
           "blood sugar insulin level gluco",
           "normal glucos read"
          ],
          [
           "blood sugar insulin level gluco",
           "powder glucos liquid glucos"
          ],
          [
           "blood sugar insulin level gluco",
           "happen blood glucos level decreas"
          ],
          [
           "blood sugar insulin level gluco",
           "organ bodi ineffect diabet"
          ],
          [
           "blood sugar insulin level gluco",
           "normal depakot blood level"
          ],
          [
           "blood sugar insulin level gluco",
           "glucos level blood high pancrea secret"
          ],
          [
           "blood sugar insulin level gluco",
           "condit blood glucos level higher normal high enough diagnosi diabet"
          ],
          [
           "blood sugar insulin level gluco",
           "mani test strip diabet use daili"
          ],
          [
           "blood sugar insulin level gluco",
           "import keep blood glucos level within normal rang"
          ],
          [
           "blood sugar insulin level gluco",
           "diabet muslim use insulin made dog pig pancrea fast day ramadan"
          ],
          [
           "blood sugar insulin level gluco",
           "rang healthi person"
          ],
          [
           "blood sugar insulin level gluco",
           "eighti four glucos mean"
          ],
          [
           "blood sugar insulin level gluco",
           "high blood sugar level affect osmosi cell blood"
          ],
          [
           "blood sugar insulin level gluco",
           "name hormon lower blood sugar level"
          ],
          [
           "blood sugar insulin level gluco",
           "beta blocker caus hypoglycemia"
          ],
          [
           "blood sugar insulin level gluco",
           "draw"
          ],
          [
           "blood sugar insulin level gluco",
           "whiskey safe diabet"
          ],
          [
           "blood sugar insulin level gluco",
           "althlet take glucos tablet run race"
          ],
          [
           "blood sugar insulin level gluco",
           "would hungrier low high glucos level"
          ],
          [
           "blood sugar insulin level gluco",
           "blood glucos meter work"
          ],
          [
           "blood sugar insulin level gluco",
           "twenti four ml insulin high comsump"
          ],
          [
           "blood sugar insulin level gluco",
           "type devic use check blood sugar"
          ],
          [
           "blood sugar insulin level gluco",
           "hydrocortison affect diabet"
          ],
          [
           "blood sugar insulin level gluco",
           "insulin transport liver"
          ],
          [
           "blood sugar insulin level gluco",
           "advantag blood glucos monitor"
          ],
          [
           "blood sugar insulin level gluco",
           "cocain affect blood sugar"
          ]
         ],
         "hovertemplate": "summary=%{customdata[0]}<br>pc_1=%{x}<br>pc_2=%{y}<br>pc_3=%{z}<br>sentence=%{customdata[1]}<extra></extra>",
         "legendgroup": "blood sugar insulin level gluco",
         "marker": {
          "color": "#ab63fa",
          "size": 5,
          "symbol": "circle"
         },
         "mode": "markers",
         "name": "blood sugar insulin level gluco",
         "scene": "scene",
         "showlegend": true,
         "type": "scatter3d",
         "x": [
          5.622998237609863,
          8.054308891296387,
          7.739436149597168,
          4.058887481689453,
          6.652635097503662,
          2.245242118835449,
          8.404194831848145,
          2.3096725940704346,
          7.175152778625488,
          7.840108394622803,
          3.0668389797210693,
          8.248198509216309,
          7.742382526397705,
          5.258507251739502,
          7.223212242126465,
          6.242074012756348,
          6.2311015129089355,
          2.06671404838562,
          8.273900985717773,
          3.0463573932647705,
          6.6629462242126465,
          6.898741245269775,
          3.521911382675171,
          3.294268846511841,
          8.918688774108887,
          8.339241027832031,
          4.106042861938477,
          2.3842084407806396,
          4.82717227935791,
          3.2199511528015137,
          8.667007446289062,
          6.7161126136779785,
          5.43173360824585,
          8.211263656616211,
          7.952122688293457,
          2.713007688522339,
          7.166450500488281,
          2.35298490524292,
          7.316009998321533,
          2.1865665912628174,
          2.331578493118286,
          2.74934720993042,
          7.352853298187256,
          8.181900978088379,
          7.24888801574707,
          8.80491828918457,
          4.841529369354248,
          2.249729871749878,
          3.7980270385742188,
          2.9036049842834473,
          5.562236785888672,
          1.9720780849456787,
          1.8163373470306396,
          3.099849224090576,
          3.03167462348938,
          5.217389106750488,
          7.824592590332031,
          1.707800269126892,
          2.937314987182617,
          6.392239570617676,
          3.00138783454895,
          2.6707828044891357,
          7.1155829429626465,
          1.2535330057144165,
          6.318344593048096,
          2.1783041954040527,
          3.1719939708709717,
          7.326145172119141,
          7.866125583648682,
          3.6955583095550537,
          7.868994235992432,
          4.091372013092041,
          7.3446526527404785,
          3.1332623958587646,
          7.070225238800049,
          7.9738850593566895,
          2.811638593673706,
          7.815004348754883,
          2.9066455364227295,
          7.623369216918945,
          7.615068435668945,
          8.223868370056152,
          2.2785184383392334,
          3.1746883392333984,
          2.2545247077941895,
          2.4535019397735596,
          8.340015411376953,
          7.862793445587158,
          7.726204872131348,
          2.867070198059082,
          6.100413799285889,
          2.3096210956573486,
          2.8740437030792236,
          2.197284698486328,
          6.537021160125732,
          8.603558540344238,
          1.8337548971176147,
          2.483452796936035,
          3.5747694969177246,
          1.786358118057251,
          2.9380288124084473,
          3.8079442977905273,
          8.02355670928955,
          7.254040241241455,
          3.4237284660339355,
          8.336913108825684,
          1.5594737529754639,
          7.945339679718018,
          8.326349258422852,
          8.427860260009766,
          0.9776281714439392,
          4.290484428405762,
          8.791242599487305,
          2.9366564750671387,
          2.7878427505493164,
          7.4229655265808105,
          2.5290162563323975,
          9.446242332458496,
          2.7663393020629883,
          8.108368873596191,
          2.9562127590179443,
          4.535210132598877,
          5.550448894500732,
          2.2420291900634766,
          4.672219753265381,
          5.99039363861084,
          6.554939270019531,
          2.527082920074463,
          4.423135280609131,
          3.8143904209136963,
          7.447778224945068,
          1.825289011001587,
          5.284788608551025,
          8.953181266784668,
          6.342624664306641,
          8.133447647094727,
          7.476996898651123,
          6.136105060577393,
          2.0789968967437744,
          8.186461448669434,
          2.804727077484131,
          6.695949554443359,
          7.329021453857422,
          7.8880791664123535,
          9.348518371582031,
          3.119494915008545,
          4.394669532775879,
          6.608771800994873,
          5.954195499420166,
          3.9162049293518066,
          8.030837059020996,
          2.7466542720794678,
          2.766090154647827,
          5.919689655303955,
          8.705029487609863,
          2.3555819988250732,
          2.9392285346984863,
          8.005960464477539,
          7.315082550048828,
          3.586660146713257,
          7.190523147583008,
          5.473535537719727,
          2.3441648483276367,
          5.391811370849609,
          2.3471133708953857,
          6.751272201538086,
          2.7160654067993164,
          3.4789340496063232,
          8.230161666870117,
          3.4300360679626465,
          3.4565446376800537,
          7.564102649688721,
          2.9643149375915527,
          5.296030521392822,
          1.5345371961593628,
          7.541337966918945,
          8.3789701461792,
          2.933455228805542,
          3.7660751342773438,
          6.283874988555908,
          8.698992729187012,
          7.5944132804870605,
          7.384631633758545,
          8.353486061096191,
          3.0340564250946045,
          5.98736572265625,
          3.6249735355377197,
          3.1379506587982178,
          4.990740776062012,
          4.56756067276001,
          8.482385635375977,
          6.033219814300537,
          7.155755519866943,
          7.2506585121154785,
          2.6302828788757324,
          5.536722660064697,
          7.861439228057861,
          2.5167629718780518,
          5.882089138031006,
          0.9153022766113281,
          7.886046886444092,
          6.279764652252197,
          4.114372253417969,
          7.261569499969482,
          3.2530338764190674,
          2.2884745597839355,
          2.3202426433563232,
          3.0801756381988525,
          4.49355936050415,
          2.5450658798217773,
          8.232705116271973,
          2.4808008670806885,
          3.3135082721710205,
          2.306852340698242,
          8.535801887512207,
          5.7263593673706055,
          8.649903297424316,
          8.582417488098145,
          7.026504039764404,
          2.511763572692871,
          7.845676422119141,
          1.8385785818099976,
          3.985736131668091,
          5.944785118103027,
          6.7718729972839355,
          4.28018856048584,
          5.57014799118042,
          8.61328125,
          4.012692928314209,
          2.428034543991089,
          2.885671854019165,
          6.408923149108887,
          8.287847518920898,
          6.2559919357299805,
          7.433100700378418,
          2.2468974590301514,
          8.17403793334961,
          5.83776330947876,
          6.349061489105225,
          6.034468173980713,
          3.3576481342315674,
          3.56842303276062,
          4.306044578552246,
          6.603966236114502,
          4.109638690948486,
          5.386241436004639,
          2.468524932861328
         ],
         "y": [
          -16.064937591552734,
          -9.652562141418457,
          -5.292174816131592,
          -12.64889144897461,
          -7.8510355949401855,
          -16.428016662597656,
          -10.70907974243164,
          -10.546002388000488,
          -4.710693836212158,
          -7.06821346282959,
          -17.088712692260742,
          -12.295858383178711,
          -13.827010154724121,
          -16.157981872558594,
          -7.862603187561035,
          -14.2800931930542,
          -8.02823543548584,
          -16.094390869140625,
          -5.68720817565918,
          -16.879148483276367,
          -15.045790672302246,
          -5.974632740020752,
          -12.65321159362793,
          -3.608560800552368,
          -8.218344688415527,
          -6.520150184631348,
          -11.532463073730469,
          -17.60393714904785,
          -14.031942367553711,
          -5.839494228363037,
          -11.180682182312012,
          -4.191233158111572,
          -6.570005416870117,
          -6.006044387817383,
          -10.121170043945312,
          -10.95348072052002,
          -5.354464530944824,
          -7.93483829498291,
          -5.419455528259277,
          -4.169597148895264,
          -6.915914535522461,
          -9.491005897521973,
          -13.574230194091797,
          -13.783888816833496,
          -13.392887115478516,
          -5.984304904937744,
          -13.610408782958984,
          -4.341860294342041,
          -12.721436500549316,
          -11.833062171936035,
          -12.08514404296875,
          -16.00628089904785,
          -17.47431182861328,
          -7.586172580718994,
          -17.45577621459961,
          -13.52812385559082,
          -8.493280410766602,
          -16.34688377380371,
          -7.160943984985352,
          -5.221778869628906,
          -7.118928909301758,
          -11.28622817993164,
          -13.370633125305176,
          -17.62177848815918,
          -14.948060035705566,
          -4.4326982498168945,
          -6.701108455657959,
          -6.657753944396973,
          -13.49862003326416,
          -17.403636932373047,
          -7.564798831939697,
          -11.50582504272461,
          -6.947051048278809,
          -9.859532356262207,
          -8.037149429321289,
          -10.377924919128418,
          -17.420284271240234,
          -7.591614723205566,
          -7.879917144775391,
          -15.1195068359375,
          -13.992074966430664,
          -13.191890716552734,
          -7.709122657775879,
          -9.638496398925781,
          -7.440855979919434,
          -16.96725845336914,
          -11.741637229919434,
          -7.205470085144043,
          -6.668238639831543,
          -4.513454437255859,
          -9.973827362060547,
          -4.4716901779174805,
          -9.407073020935059,
          -7.615938186645508,
          -4.3369317054748535,
          -11.215507507324219,
          -6.92706823348999,
          -7.283186435699463,
          -12.752564430236816,
          -17.59456443786621,
          -5.137117862701416,
          -10.984224319458008,
          -8.32686996459961,
          -5.643784046173096,
          -11.382452964782715,
          -13.318360328674316,
          -17.7822208404541,
          -13.109100341796875,
          -11.793185234069824,
          -12.450236320495605,
          -17.668643951416016,
          -14.992168426513672,
          -5.744833469390869,
          -8.881473541259766,
          -9.527607917785645,
          -8.944621086120605,
          -4.8422532081604,
          -9.049904823303223,
          -8.637032508850098,
          -13.097851753234863,
          -12.488122940063477,
          -5.806344509124756,
          -4.192426681518555,
          -15.520400047302246,
          -16.913362503051758,
          -11.348891258239746,
          -4.110236644744873,
          -13.645108222961426,
          -16.333158493041992,
          -16.668418884277344,
          -3.8989014625549316,
          -6.892076015472412,
          -8.640955924987793,
          -5.860874652862549,
          -9.540060043334961,
          -11.810940742492676,
          -9.873624801635742,
          -6.550704002380371,
          -16.00755500793457,
          -11.354792594909668,
          -16.960693359375,
          -12.577470779418945,
          -10.123701095581055,
          -12.659045219421387,
          -9.137438774108887,
          -11.499313354492188,
          -15.83538818359375,
          -4.1972246170043945,
          -15.061972618103027,
          -15.67912483215332,
          -9.065796852111816,
          -8.105557441711426,
          -8.857888221740723,
          -7.7283806800842285,
          -5.747369289398193,
          -4.4182963371276855,
          -12.323507308959961,
          -8.153290748596191,
          -5.844010829925537,
          -4.754223823547363,
          -13.600558280944824,
          -11.883875846862793,
          -8.528692245483398,
          -13.804683685302734,
          -7.795468807220459,
          -12.917450904846191,
          -17.173385620117188,
          -15.994345664978027,
          -12.953330993652344,
          -10.270017623901367,
          -15.004366874694824,
          -15.164101600646973,
          -4.749427318572998,
          -9.125277519226074,
          -8.323481559753418,
          -7.053008079528809,
          -12.901718139648438,
          -17.26203727722168,
          -14.427445411682129,
          -15.4368896484375,
          -11.14161491394043,
          -15.146020889282227,
          -9.40609359741211,
          -11.557066917419434,
          -8.813465118408203,
          -11.046305656433105,
          -10.754559516906738,
          -8.096620559692383,
          -12.242264747619629,
          -16.002779006958008,
          -6.258527755737305,
          -10.803935050964355,
          -4.405027389526367,
          -13.400147438049316,
          -4.539872646331787,
          -15.156323432922363,
          -12.077876091003418,
          -4.60485315322876,
          -10.036051750183105,
          -17.701629638671875,
          -6.270256042480469,
          -15.23420238494873,
          -11.54209041595459,
          -13.287351608276367,
          -9.765058517456055,
          -7.533292293548584,
          -10.527752876281738,
          -8.383135795593262,
          -16.54800033569336,
          -8.602150917053223,
          -10.945345878601074,
          -8.272551536560059,
          -10.026233673095703,
          -8.497239112854004,
          -11.106354713439941,
          -14.23536491394043,
          -7.23050594329834,
          -11.329559326171875,
          -6.939796447753906,
          -8.289230346679688,
          -10.71756362915039,
          -17.592466354370117,
          -16.620620727539062,
          -16.05879020690918,
          -3.8435750007629395,
          -14.786833763122559,
          -16.891273498535156,
          -11.122562408447266,
          -12.66184139251709,
          -11.158546447753906,
          -6.105448246002197,
          -14.857705116271973,
          -10.944369316101074,
          -11.228276252746582,
          -15.321029663085938,
          -14.075865745544434,
          -9.797099113464355,
          -6.726423263549805,
          -15.721762657165527,
          -15.959319114685059,
          -16.25040626525879,
          -10.527786254882812,
          -11.825464248657227,
          -4.028480052947998,
          -11.538455963134766,
          -14.37564468383789,
          -16.07533836364746
         ],
         "z": [
          3.161146879196167,
          1.1712288856506348,
          -0.12064448744058609,
          3.982797145843506,
          0.6935446262359619,
          3.4374232292175293,
          1.368367314338684,
          2.7845206260681152,
          -0.052782393991947174,
          0.016000883653759956,
          3.169459819793701,
          2.1563589572906494,
          2.9216389656066895,
          3.2369487285614014,
          0.730377197265625,
          3.8148720264434814,
          0.845151424407959,
          3.48121976852417,
          -0.22542046010494232,
          3.2853870391845703,
          3.2274045944213867,
          -0.3275025188922882,
          3.8919103145599365,
          -7.128812313079834,
          -0.39479175209999084,
          0.8429863452911377,
          -6.896000385284424,
          2.968885660171509,
          4.068450450897217,
          -7.867045879364014,
          4.139537334442139,
          -1.7420099973678589,
          -0.08262843638658524,
          -1.7232749462127686,
          1.4159787893295288,
          3.0347647666931152,
          -0.2645096182823181,
          -8.282052993774414,
          -0.4989011287689209,
          -6.6563191413879395,
          -7.844361782073975,
          -6.276910781860352,
          3.3863253593444824,
          1.1260437965393066,
          3.459510326385498,
          -1.607670545578003,
          4.0766096115112305,
          -6.541618824005127,
          3.9411916732788086,
          3.445627450942993,
          3.710996150970459,
          3.4903481006622314,
          3.057023286819458,
          -8.19766902923584,
          2.9662516117095947,
          4.035895824432373,
          0.8911200165748596,
          3.387129545211792,
          -7.9828033447265625,
          -0.6792224049568176,
          -8.029911994934082,
          3.1823570728302,
          3.52935791015625,
          3.0684878826141357,
          3.561326265335083,
          -6.6807861328125,
          -7.940215587615967,
          0.7579123973846436,
          2.8659417629241943,
          2.8530569076538086,
          0.48513951897621155,
          -6.9075140953063965,
          0.21255362033843994,
          -7.30112361907959,
          0.74483323097229,
          1.516743540763855,
          3.0159168243408203,
          0.4572676420211792,
          -7.71306037902832,
          1.4355369806289673,
          2.9866020679473877,
          2.836130380630493,
          -7.5539727210998535,
          -7.714210033416748,
          -7.730234622955322,
          3.2139859199523926,
          1.7262096405029297,
          0.5630121827125549,
          0.4866945445537567,
          -7.428499698638916,
          2.267423629760742,
          -6.999712944030762,
          -7.5432353019714355,
          -7.758555889129639,
          -1.6026901006698608,
          3.9873974323272705,
          -6.912622928619385,
          -8.153910636901855,
          3.9167089462280273,
          3.029005765914917,
          -7.6010260581970215,
          -7.129802703857422,
          0.764597475528717,
          -0.655687689781189,
          3.3348703384399414,
          0.9233183860778809,
          2.99003267288208,
          2.795717239379883,
          1.8055915832519531,
          1.1396540403366089,
          3.086928367614746,
          3.9360344409942627,
          -1.894965410232544,
          -7.859004497528076,
          -6.584083080291748,
          1.102449893951416,
          -7.260422229766846,
          0.056129321455955505,
          -8.189964294433594,
          2.4459781646728516,
          3.671126365661621,
          -6.887529373168945,
          -1.912346601486206,
          3.6219913959503174,
          2.8801450729370117,
          3.3225650787353516,
          -1.8832216262817383,
          3.715451717376709,
          3.3698463439941406,
          3.3171370029449463,
          -2.0114588737487793,
          -6.715658664703369,
          1.7567676305770874,
          -1.9465833902359009,
          1.9193249940872192,
          2.2957279682159424,
          1.573137640953064,
          -0.11191268265247345,
          3.5036675930023193,
          2.0216915607452393,
          3.3873214721679688,
          3.646739959716797,
          1.8420672416687012,
          2.7947165966033936,
          0.1960034817457199,
          3.3511345386505127,
          3.6242053508758545,
          -1.977254867553711,
          3.6088411808013916,
          3.893444299697876,
          1.0086541175842285,
          -8.291646003723145,
          -8.020245552062988,
          0.6868033409118652,
          -1.8612258434295654,
          -6.997684478759766,
          3.6176958084106445,
          0.7642229199409485,
          -0.4606378972530365,
          -7.75258207321167,
          3.4510669708251953,
          3.651005268096924,
          -7.006579875946045,
          4.03023624420166,
          -8.214776039123535,
          3.6755638122558594,
          3.096025228500366,
          3.643690586090088,
          2.2425308227539062,
          -7.397332668304443,
          3.8969130516052246,
          1.5354735851287842,
          -7.515371799468994,
          2.1786961555480957,
          -8.018507957458496,
          0.3897242546081543,
          3.2335407733917236,
          3.1112849712371826,
          4.000465393066406,
          3.2420284748077393,
          4.337298393249512,
          1.4817626476287842,
          1.3621656894683838,
          1.619258999824524,
          -7.900532245635986,
          3.1884918212890625,
          -6.985098361968994,
          -8.15953540802002,
          3.819084644317627,
          3.6873042583465576,
          -1.2081358432769775,
          3.0541841983795166,
          -0.9895282983779907,
          3.5106451511383057,
          -7.26268196105957,
          3.687614917755127,
          4.030828475952148,
          -7.1737189292907715,
          2.3948774337768555,
          3.085150957107544,
          -0.6847171187400818,
          3.3682260513305664,
          -6.8658952713012695,
          3.433497667312622,
          -7.700776100158691,
          -8.095998764038086,
          2.77597713470459,
          -7.826014041900635,
          3.2295823097229004,
          -8.082409858703613,
          1.501022219657898,
          -7.601195812225342,
          -7.398805618286133,
          -7.269150257110596,
          3.815730094909668,
          3.893723249435425,
          -0.9352888464927673,
          4.153085231781006,
          -0.11984724551439285,
          -8.141754150390625,
          1.7816411256790161,
          3.0234992504119873,
          3.30759334564209,
          2.9830551147460938,
          -1.6224526166915894,
          3.984968662261963,
          2.2887179851531982,
          4.075235366821289,
          3.972836971282959,
          3.089123010635376,
          -7.845001220703125,
          3.4718358516693115,
          1.5630414485931396,
          3.1794793605804443,
          1.6056287288665771,
          3.665010690689087,
          1.1635146141052246,
          0.1688106507062912,
          2.970144271850586,
          3.0092227458953857,
          3.5969080924987793,
          -7.313309669494629,
          -6.62609338760376,
          -2.112102746963501,
          -6.891759395599365,
          3.9494993686676025,
          3.5400497913360596
         ]
        },
        {
         "customdata": [
          [
           "cau effect eye get affect",
           "hormon produc inadequ would caus sexual immatur"
          ],
          [
           "cau effect eye get affect",
           "world diabet commonli found"
          ],
          [
           "cau effect eye get affect",
           "diabet effect circulatori system"
          ],
          [
           "cau effect eye get affect",
           "mean eye go cross eye get dizzi"
          ],
          [
           "cau effect eye get affect",
           "effect ph diabet ketoacidosi"
          ],
          [
           "cau effect eye get affect",
           "alcohol caus diabet"
          ],
          [
           "cau effect eye get affect",
           "tell sugar enter bodi"
          ],
          [
           "cau effect eye get affect",
           "number one caus adult us diabet"
          ],
          [
           "cau effect eye get affect",
           "organ malfunct caus diabet"
          ],
          [
           "cau effect eye get affect",
           "diabet affect fertil"
          ],
          [
           "cau effect eye get affect",
           "diabet affect kidney"
          ],
          [
           "cau effect eye get affect",
           "diagnos diabet insipidu"
          ],
          [
           "cau effect eye get affect",
           "diabet get pregent"
          ],
          [
           "cau effect eye get affect",
           "caus low fever"
          ],
          [
           "cau effect eye get affect",
           "creatinin test diabet type two peopl rang result healthi peopl"
          ]
         ],
         "hovertemplate": "summary=%{customdata[0]}<br>pc_1=%{x}<br>pc_2=%{y}<br>pc_3=%{z}<br>sentence=%{customdata[1]}<extra></extra>",
         "legendgroup": "cau effect eye get affect",
         "marker": {
          "color": "#FFA15A",
          "size": 5,
          "symbol": "circle"
         },
         "mode": "markers",
         "name": "cau effect eye get affect",
         "scene": "scene",
         "showlegend": true,
         "type": "scatter3d",
         "x": [
          6.909396648406982,
          6.616960525512695,
          6.63651180267334,
          7.793333530426025,
          6.570674896240234,
          7.277734756469727,
          6.553188800811768,
          7.387905120849609,
          6.740967750549316,
          6.451018333435059,
          6.978868007659912,
          7.112390041351318,
          7.135354518890381,
          6.728832244873047,
          6.286105155944824
         ],
         "y": [
          3.6830179691314697,
          3.298959255218506,
          2.312701463699341,
          2.9457995891571045,
          3.9546797275543213,
          3.0519046783447266,
          1.9249448776245117,
          3.529597520828247,
          1.886422872543335,
          2.7056806087493896,
          3.198329210281372,
          2.6051430702209473,
          3.2472734451293945,
          2.550016403198242,
          2.2696712017059326
         ],
         "z": [
          -4.648133277893066,
          -4.376771926879883,
          -4.672360897064209,
          -4.224404811859131,
          -4.368588924407959,
          -4.391998767852783,
          -4.746870517730713,
          -4.2441534996032715,
          -4.711779594421387,
          -4.335080623626709,
          -4.371124744415283,
          -4.350902080535889,
          -4.219438552856445,
          -4.40444803237915,
          -5.126051425933838
         ]
        }
       ],
       "layout": {
        "height": 500,
        "legend": {
         "itemclick": "toggleothers",
         "title": {
          "text": "Cluster Summaries"
         },
         "tracegroupgap": 0
        },
        "margin": {
         "t": 60
        },
        "scene": {
         "domain": {
          "x": [
           0,
           1
          ],
          "y": [
           0,
           1
          ]
         },
         "xaxis": {
          "title": {
           "text": "pc_1"
          }
         },
         "yaxis": {
          "title": {
           "text": "pc_2"
          }
         },
         "zaxis": {
          "title": {
           "text": "pc_3"
          }
         }
        },
        "template": {
         "data": {
          "bar": [
           {
            "error_x": {
             "color": "#2a3f5f"
            },
            "error_y": {
             "color": "#2a3f5f"
            },
            "marker": {
             "line": {
              "color": "#E5ECF6",
              "width": 0.5
             }
            },
            "type": "bar"
           }
          ],
          "barpolar": [
           {
            "marker": {
             "line": {
              "color": "#E5ECF6",
              "width": 0.5
             }
            },
            "type": "barpolar"
           }
          ],
          "carpet": [
           {
            "aaxis": {
             "endlinecolor": "#2a3f5f",
             "gridcolor": "white",
             "linecolor": "white",
             "minorgridcolor": "white",
             "startlinecolor": "#2a3f5f"
            },
            "baxis": {
             "endlinecolor": "#2a3f5f",
             "gridcolor": "white",
             "linecolor": "white",
             "minorgridcolor": "white",
             "startlinecolor": "#2a3f5f"
            },
            "type": "carpet"
           }
          ],
          "choropleth": [
           {
            "colorbar": {
             "outlinewidth": 0,
             "ticks": ""
            },
            "type": "choropleth"
           }
          ],
          "contour": [
           {
            "colorbar": {
             "outlinewidth": 0,
             "ticks": ""
            },
            "colorscale": [
             [
              0,
              "#0d0887"
             ],
             [
              0.1111111111111111,
              "#46039f"
             ],
             [
              0.2222222222222222,
              "#7201a8"
             ],
             [
              0.3333333333333333,
              "#9c179e"
             ],
             [
              0.4444444444444444,
              "#bd3786"
             ],
             [
              0.5555555555555556,
              "#d8576b"
             ],
             [
              0.6666666666666666,
              "#ed7953"
             ],
             [
              0.7777777777777778,
              "#fb9f3a"
             ],
             [
              0.8888888888888888,
              "#fdca26"
             ],
             [
              1,
              "#f0f921"
             ]
            ],
            "type": "contour"
           }
          ],
          "contourcarpet": [
           {
            "colorbar": {
             "outlinewidth": 0,
             "ticks": ""
            },
            "type": "contourcarpet"
           }
          ],
          "heatmap": [
           {
            "colorbar": {
             "outlinewidth": 0,
             "ticks": ""
            },
            "colorscale": [
             [
              0,
              "#0d0887"
             ],
             [
              0.1111111111111111,
              "#46039f"
             ],
             [
              0.2222222222222222,
              "#7201a8"
             ],
             [
              0.3333333333333333,
              "#9c179e"
             ],
             [
              0.4444444444444444,
              "#bd3786"
             ],
             [
              0.5555555555555556,
              "#d8576b"
             ],
             [
              0.6666666666666666,
              "#ed7953"
             ],
             [
              0.7777777777777778,
              "#fb9f3a"
             ],
             [
              0.8888888888888888,
              "#fdca26"
             ],
             [
              1,
              "#f0f921"
             ]
            ],
            "type": "heatmap"
           }
          ],
          "heatmapgl": [
           {
            "colorbar": {
             "outlinewidth": 0,
             "ticks": ""
            },
            "colorscale": [
             [
              0,
              "#0d0887"
             ],
             [
              0.1111111111111111,
              "#46039f"
             ],
             [
              0.2222222222222222,
              "#7201a8"
             ],
             [
              0.3333333333333333,
              "#9c179e"
             ],
             [
              0.4444444444444444,
              "#bd3786"
             ],
             [
              0.5555555555555556,
              "#d8576b"
             ],
             [
              0.6666666666666666,
              "#ed7953"
             ],
             [
              0.7777777777777778,
              "#fb9f3a"
             ],
             [
              0.8888888888888888,
              "#fdca26"
             ],
             [
              1,
              "#f0f921"
             ]
            ],
            "type": "heatmapgl"
           }
          ],
          "histogram": [
           {
            "marker": {
             "colorbar": {
              "outlinewidth": 0,
              "ticks": ""
             }
            },
            "type": "histogram"
           }
          ],
          "histogram2d": [
           {
            "colorbar": {
             "outlinewidth": 0,
             "ticks": ""
            },
            "colorscale": [
             [
              0,
              "#0d0887"
             ],
             [
              0.1111111111111111,
              "#46039f"
             ],
             [
              0.2222222222222222,
              "#7201a8"
             ],
             [
              0.3333333333333333,
              "#9c179e"
             ],
             [
              0.4444444444444444,
              "#bd3786"
             ],
             [
              0.5555555555555556,
              "#d8576b"
             ],
             [
              0.6666666666666666,
              "#ed7953"
             ],
             [
              0.7777777777777778,
              "#fb9f3a"
             ],
             [
              0.8888888888888888,
              "#fdca26"
             ],
             [
              1,
              "#f0f921"
             ]
            ],
            "type": "histogram2d"
           }
          ],
          "histogram2dcontour": [
           {
            "colorbar": {
             "outlinewidth": 0,
             "ticks": ""
            },
            "colorscale": [
             [
              0,
              "#0d0887"
             ],
             [
              0.1111111111111111,
              "#46039f"
             ],
             [
              0.2222222222222222,
              "#7201a8"
             ],
             [
              0.3333333333333333,
              "#9c179e"
             ],
             [
              0.4444444444444444,
              "#bd3786"
             ],
             [
              0.5555555555555556,
              "#d8576b"
             ],
             [
              0.6666666666666666,
              "#ed7953"
             ],
             [
              0.7777777777777778,
              "#fb9f3a"
             ],
             [
              0.8888888888888888,
              "#fdca26"
             ],
             [
              1,
              "#f0f921"
             ]
            ],
            "type": "histogram2dcontour"
           }
          ],
          "mesh3d": [
           {
            "colorbar": {
             "outlinewidth": 0,
             "ticks": ""
            },
            "type": "mesh3d"
           }
          ],
          "parcoords": [
           {
            "line": {
             "colorbar": {
              "outlinewidth": 0,
              "ticks": ""
             }
            },
            "type": "parcoords"
           }
          ],
          "pie": [
           {
            "automargin": true,
            "type": "pie"
           }
          ],
          "scatter": [
           {
            "marker": {
             "colorbar": {
              "outlinewidth": 0,
              "ticks": ""
             }
            },
            "type": "scatter"
           }
          ],
          "scatter3d": [
           {
            "line": {
             "colorbar": {
              "outlinewidth": 0,
              "ticks": ""
             }
            },
            "marker": {
             "colorbar": {
              "outlinewidth": 0,
              "ticks": ""
             }
            },
            "type": "scatter3d"
           }
          ],
          "scattercarpet": [
           {
            "marker": {
             "colorbar": {
              "outlinewidth": 0,
              "ticks": ""
             }
            },
            "type": "scattercarpet"
           }
          ],
          "scattergeo": [
           {
            "marker": {
             "colorbar": {
              "outlinewidth": 0,
              "ticks": ""
             }
            },
            "type": "scattergeo"
           }
          ],
          "scattergl": [
           {
            "marker": {
             "colorbar": {
              "outlinewidth": 0,
              "ticks": ""
             }
            },
            "type": "scattergl"
           }
          ],
          "scattermapbox": [
           {
            "marker": {
             "colorbar": {
              "outlinewidth": 0,
              "ticks": ""
             }
            },
            "type": "scattermapbox"
           }
          ],
          "scatterpolar": [
           {
            "marker": {
             "colorbar": {
              "outlinewidth": 0,
              "ticks": ""
             }
            },
            "type": "scatterpolar"
           }
          ],
          "scatterpolargl": [
           {
            "marker": {
             "colorbar": {
              "outlinewidth": 0,
              "ticks": ""
             }
            },
            "type": "scatterpolargl"
           }
          ],
          "scatterternary": [
           {
            "marker": {
             "colorbar": {
              "outlinewidth": 0,
              "ticks": ""
             }
            },
            "type": "scatterternary"
           }
          ],
          "surface": [
           {
            "colorbar": {
             "outlinewidth": 0,
             "ticks": ""
            },
            "colorscale": [
             [
              0,
              "#0d0887"
             ],
             [
              0.1111111111111111,
              "#46039f"
             ],
             [
              0.2222222222222222,
              "#7201a8"
             ],
             [
              0.3333333333333333,
              "#9c179e"
             ],
             [
              0.4444444444444444,
              "#bd3786"
             ],
             [
              0.5555555555555556,
              "#d8576b"
             ],
             [
              0.6666666666666666,
              "#ed7953"
             ],
             [
              0.7777777777777778,
              "#fb9f3a"
             ],
             [
              0.8888888888888888,
              "#fdca26"
             ],
             [
              1,
              "#f0f921"
             ]
            ],
            "type": "surface"
           }
          ],
          "table": [
           {
            "cells": {
             "fill": {
              "color": "#EBF0F8"
             },
             "line": {
              "color": "white"
             }
            },
            "header": {
             "fill": {
              "color": "#C8D4E3"
             },
             "line": {
              "color": "white"
             }
            },
            "type": "table"
           }
          ]
         },
         "layout": {
          "annotationdefaults": {
           "arrowcolor": "#2a3f5f",
           "arrowhead": 0,
           "arrowwidth": 1
          },
          "autotypenumbers": "strict",
          "coloraxis": {
           "colorbar": {
            "outlinewidth": 0,
            "ticks": ""
           }
          },
          "colorscale": {
           "diverging": [
            [
             0,
             "#8e0152"
            ],
            [
             0.1,
             "#c51b7d"
            ],
            [
             0.2,
             "#de77ae"
            ],
            [
             0.3,
             "#f1b6da"
            ],
            [
             0.4,
             "#fde0ef"
            ],
            [
             0.5,
             "#f7f7f7"
            ],
            [
             0.6,
             "#e6f5d0"
            ],
            [
             0.7,
             "#b8e186"
            ],
            [
             0.8,
             "#7fbc41"
            ],
            [
             0.9,
             "#4d9221"
            ],
            [
             1,
             "#276419"
            ]
           ],
           "sequential": [
            [
             0,
             "#0d0887"
            ],
            [
             0.1111111111111111,
             "#46039f"
            ],
            [
             0.2222222222222222,
             "#7201a8"
            ],
            [
             0.3333333333333333,
             "#9c179e"
            ],
            [
             0.4444444444444444,
             "#bd3786"
            ],
            [
             0.5555555555555556,
             "#d8576b"
            ],
            [
             0.6666666666666666,
             "#ed7953"
            ],
            [
             0.7777777777777778,
             "#fb9f3a"
            ],
            [
             0.8888888888888888,
             "#fdca26"
            ],
            [
             1,
             "#f0f921"
            ]
           ],
           "sequentialminus": [
            [
             0,
             "#0d0887"
            ],
            [
             0.1111111111111111,
             "#46039f"
            ],
            [
             0.2222222222222222,
             "#7201a8"
            ],
            [
             0.3333333333333333,
             "#9c179e"
            ],
            [
             0.4444444444444444,
             "#bd3786"
            ],
            [
             0.5555555555555556,
             "#d8576b"
            ],
            [
             0.6666666666666666,
             "#ed7953"
            ],
            [
             0.7777777777777778,
             "#fb9f3a"
            ],
            [
             0.8888888888888888,
             "#fdca26"
            ],
            [
             1,
             "#f0f921"
            ]
           ]
          },
          "colorway": [
           "#636efa",
           "#EF553B",
           "#00cc96",
           "#ab63fa",
           "#FFA15A",
           "#19d3f3",
           "#FF6692",
           "#B6E880",
           "#FF97FF",
           "#FECB52"
          ],
          "font": {
           "color": "#2a3f5f"
          },
          "geo": {
           "bgcolor": "white",
           "lakecolor": "white",
           "landcolor": "#E5ECF6",
           "showlakes": true,
           "showland": true,
           "subunitcolor": "white"
          },
          "hoverlabel": {
           "align": "left"
          },
          "hovermode": "closest",
          "mapbox": {
           "style": "light"
          },
          "paper_bgcolor": "white",
          "plot_bgcolor": "#E5ECF6",
          "polar": {
           "angularaxis": {
            "gridcolor": "white",
            "linecolor": "white",
            "ticks": ""
           },
           "bgcolor": "#E5ECF6",
           "radialaxis": {
            "gridcolor": "white",
            "linecolor": "white",
            "ticks": ""
           }
          },
          "scene": {
           "xaxis": {
            "backgroundcolor": "#E5ECF6",
            "gridcolor": "white",
            "gridwidth": 2,
            "linecolor": "white",
            "showbackground": true,
            "ticks": "",
            "zerolinecolor": "white"
           },
           "yaxis": {
            "backgroundcolor": "#E5ECF6",
            "gridcolor": "white",
            "gridwidth": 2,
            "linecolor": "white",
            "showbackground": true,
            "ticks": "",
            "zerolinecolor": "white"
           },
           "zaxis": {
            "backgroundcolor": "#E5ECF6",
            "gridcolor": "white",
            "gridwidth": 2,
            "linecolor": "white",
            "showbackground": true,
            "ticks": "",
            "zerolinecolor": "white"
           }
          },
          "shapedefaults": {
           "line": {
            "color": "#2a3f5f"
           }
          },
          "ternary": {
           "aaxis": {
            "gridcolor": "white",
            "linecolor": "white",
            "ticks": ""
           },
           "baxis": {
            "gridcolor": "white",
            "linecolor": "white",
            "ticks": ""
           },
           "bgcolor": "#E5ECF6",
           "caxis": {
            "gridcolor": "white",
            "linecolor": "white",
            "ticks": ""
           }
          },
          "title": {
           "x": 0.05
          },
          "xaxis": {
           "automargin": true,
           "gridcolor": "white",
           "linecolor": "white",
           "ticks": "",
           "title": {
            "standoff": 15
           },
           "zerolinecolor": "white",
           "zerolinewidth": 2
          },
          "yaxis": {
           "automargin": true,
           "gridcolor": "white",
           "linecolor": "white",
           "ticks": "",
           "title": {
            "standoff": 15
           },
           "zerolinecolor": "white",
           "zerolinewidth": 2
          }
         }
        },
        "title": {
         "text": "Projected Question Vector Manifold"
        }
       }
      },
      "text/html": [
       "<div>                            <div id=\"407de342-baaf-46fc-9fd6-031c016c95b2\" class=\"plotly-graph-div\" style=\"height:500px; width:100%;\"></div>            <script type=\"text/javascript\">                require([\"plotly\"], function(Plotly) {                    window.PLOTLYENV=window.PLOTLYENV || {};                                    if (document.getElementById(\"407de342-baaf-46fc-9fd6-031c016c95b2\")) {                    Plotly.newPlot(                        \"407de342-baaf-46fc-9fd6-031c016c95b2\",                        [{\"customdata\": [[\"type sugar insulin blood one\", \"diabet curabl\"], [\"type sugar insulin blood one\", \"complic diabet\"], [\"type sugar insulin blood one\", \"diabet take muscovado sugar\"], [\"type sugar insulin blood one\", \"research done sargassum seawe\"], [\"type sugar insulin blood one\", \"diabet resourc internet\"], [\"type sugar insulin blood one\", \"safe diabet bypass surgeri\"], [\"type sugar insulin blood one\", \"differ insulin depend diabet non insulin independ diabet\"], [\"type sugar insulin blood one\", \"long insulin good\"], [\"type sugar insulin blood one\", \"lot sugar watermelon\"], [\"type sugar insulin blood one\", \"type one diabet affect sperm qualiti\"], [\"type sugar insulin blood one\", \"eat lean meat lower risk heart diseas diabet\"], [\"type sugar insulin blood one\", \"diabet transplant good\"], [\"type sugar insulin blood one\", \"gerson therapi work type two diabet\"], [\"type sugar insulin blood one\", \"kid diabet\"], [\"type sugar insulin blood one\", \"long diabet last\"], [\"type sugar insulin blood one\", \"know type one type two diabet\"], [\"type sugar insulin blood one\", \"lexapro rais blood sugar level\"], [\"type sugar insulin blood one\", \"relat diabet blood sugar\"], [\"type sugar insulin blood one\", \"get inform blood sugar chart\"], [\"type sugar insulin blood one\", \"b tell sugar enter blood\"], [\"type sugar insulin blood one\", \"hormon produc properli diabet\"], [\"type sugar insulin blood one\", \"need diabet\"], [\"type sugar insulin blood one\", \"diabet eat glucos syrup\"], [\"type sugar insulin blood one\", \"kind diet softwar profession suffer problem like gassi constip\"], [\"type sugar insulin blood one\", \"arm ach\"], [\"type sugar insulin blood one\", \"makabuhay plant realli caus diabet\"], [\"type sugar insulin blood one\", \"lower blood sugar\"], [\"type sugar insulin blood one\", \"sugar type two diabet\"], [\"type sugar insulin blood one\", \"medicaid cover portabl insulin pump\"], [\"type sugar insulin blood one\", \"non diabet take insulin plant leav\"], [\"type sugar insulin blood one\", \"gender diabet affect\"], [\"type sugar insulin blood one\", \"esr rate thirti six mean\"], [\"type sugar insulin blood one\", \"color tube top diabet\"], [\"type sugar insulin blood one\", \"anyon actual revers type two diabet\"], [\"type sugar insulin blood one\", \"special syring deliv insulin medic\"], [\"type sugar insulin blood one\", \"walk effect diabet patient\"], [\"type sugar insulin blood one\", \"fri shrimp rise blood sugar\"], [\"type sugar insulin blood one\", \"get diabet product\"], [\"type sugar insulin blood one\", \"use diagnosi sentenc\"], [\"type sugar insulin blood one\", \"happen diabet take viagra need\"], [\"type sugar insulin blood one\", \"happen peopl diabet take insulin\"], [\"type sugar insulin blood one\", \"eat get diabet\"], [\"type sugar insulin blood one\", \"\"], [\"type sugar insulin blood one\", \"get type two diabet plan\"], [\"type sugar insulin blood one\", \"medicin diabet person\"], [\"type sugar insulin blood one\", \"differ insulin depend diabet non insulin depend diabet\"], [\"type sugar insulin blood one\", \"dog diabet ate fudg give insulin shot\"], [\"type sugar insulin blood one\", \"sugar solut use diabet\"], [\"type sugar insulin blood one\", \"water melon increas blood sugar\"], [\"type sugar insulin blood one\", \"realli type four diabet\"], [\"type sugar insulin blood one\", \"happen diabet patient take carbohydr\"], [\"type sugar insulin blood one\", \"nurs diagnosi diabet ketoacidosi\"], [\"type sugar insulin blood one\", \"bodi process properli diabet\"], [\"type sugar insulin blood one\", \"exercis help gestat diabet\"], [\"type sugar insulin blood one\", \"medic problem might help insulin\"], [\"type sugar insulin blood one\", \"caus weight gain fatigu heat sensit muscl ach\"], [\"type sugar insulin blood one\", \"type one diabet easier harder treat type two diabet\"], [\"type sugar insulin blood one\", \"diabet make much insulin true fals\"], [\"type sugar insulin blood one\", \"diatiz\"], [\"type sugar insulin blood one\", \"capsicum good diabet patient\"], [\"type sugar insulin blood one\", \"massag diabet\"], [\"type sugar insulin blood one\", \"stress caus high blood pressur\"], [\"type sugar insulin blood one\", \"home medic care treat diabet\"], [\"type sugar insulin blood one\", \"control diabet\"], [\"type sugar insulin blood one\", \"precaut need diabet patient nalidix acid\"], [\"type sugar insulin blood one\", \"spanish word diabet\"], [\"type sugar insulin blood one\", \"caus pin point pupil\"], [\"type sugar insulin blood one\", \"alcohol reduc diabet\"], [\"type sugar insulin blood one\", \"diabet caus due malfunct\"], [\"type sugar insulin blood one\", \"diabet die inject much insulin\"], [\"type sugar insulin blood one\", \"drink alcohol type one diabet\"], [\"type sugar insulin blood one\", \"rda diabet\"], [\"type sugar insulin blood one\", \"accident gave dog much insulin\"], [\"type sugar insulin blood one\", \"code diabet peripher neuropathi\"], [\"type sugar insulin blood one\", \"keep sugar level diabet regul\"], [\"type sugar insulin blood one\", \"diabet person eat cane sugar\"], [\"type sugar insulin blood one\", \"hypoglycem becom diabet\"], [\"type sugar insulin blood one\", \"happen diabet eat anyth take insulin\"], [\"type sugar insulin blood one\", \"starch use bodi\"], [\"type sugar insulin blood one\", \"one person type one diabet give anoth person\"], [\"type sugar insulin blood one\", \"vaccin prevent diabet\"], [\"type sugar insulin blood one\", \"pumpkin indic type two diabet patient\"], [\"type sugar insulin blood one\", \"high blood sugar symptom\"], [\"type sugar insulin blood one\", \"person bobi produc enough insulin\"], [\"type sugar insulin blood one\", \"diabet requir insulin\"], [\"type sugar insulin blood one\", \"control high blood sugar seven year old type one diabet\"], [\"type sugar insulin blood one\", \"seriou type diabet\"], [\"type sugar insulin blood one\", \"relev biochem test diabet mellitu two\"], [\"type sugar insulin blood one\", \"much sugar ok diabet\"], [\"type sugar insulin blood one\", \"organ system type two diabet affect\"], [\"type sugar insulin blood one\", \"mani diagnos diabet patient medic\"], [\"type sugar insulin blood one\", \"unhealthi diet lead diabet\"], [\"type sugar insulin blood one\", \"diabet take medic\"], [\"type sugar insulin blood one\", \"item diabet person eat\"], [\"type sugar insulin blood one\", \"reason koch abdomen\"], [\"type sugar insulin blood one\", \"insulin shot produc bright yellow urin\"], [\"type sugar insulin blood one\", \"drink diabet\"], [\"type sugar insulin blood one\", \"benefit carbon acid give human bodi\"], [\"type sugar insulin blood one\", \"oral medic diabet\"], [\"type sugar insulin blood one\", \"bring high blood glucos\"], [\"type sugar insulin blood one\", \"mom sad upset\"], [\"type sugar insulin blood one\", \"cant type one diabet prevent\"], [\"type sugar insulin blood one\", \"sugar effect bodi\"], [\"type sugar insulin blood one\", \"part bodi diabet type two affect\"], [\"type sugar insulin blood one\", \"dehydr diabet\"], [\"type sugar insulin blood one\", \"friend lanc type one diabet still eat ton candi everi day problem also gay matter\"], [\"type sugar insulin blood one\", \"kind transplant help diabet\"], [\"type sugar insulin blood one\", \"diabet neuropathi treatment risk\"], [\"type sugar insulin blood one\", \"mani calori five eleven two hundr ten pound man eat high blood sugar\"], [\"type sugar insulin blood one\", \"bacardi light diet coke effect type two diabet\"], [\"type sugar insulin blood one\", \"best way young teenag type one diabet coeliac diseas lose weight\"], [\"type sugar insulin blood one\", \"mani carb eaten day type two diabet\"], [\"type sugar insulin blood one\", \"explain relationship type two diabet diet\"], [\"type sugar insulin blood one\", \"thyroid gland mean control blood sugar level\"], [\"type sugar insulin blood one\", \"worri friend fat famili diabet except tri help lose weight watch eat sport dosent listen\"], [\"type sugar insulin blood one\", \"three type perment\"], [\"type sugar insulin blood one\", \"littl insulin avail amount food ingest may result\"], [\"type sugar insulin blood one\", \"mom diabet kid diabet\"], [\"type sugar insulin blood one\", \"problem insulin\"], [\"type sugar insulin blood one\", \"food lower blood sugar\"], [\"type sugar insulin blood one\", \"know type one type two diabet\"], [\"type sugar insulin blood one\", \"prevent kidney damag\"], [\"type sugar insulin blood one\", \"best diet someon tri lose one hundr forti nine pound\"], [\"type sugar insulin blood one\", \"type ii diabet consid milder form diabet\"], [\"type sugar insulin blood one\", \"nemic\"], [\"type sugar insulin blood one\", \"type two diabet affect endocrin system\"], [\"type sugar insulin blood one\", \"test may done diabet neuropathi suspect\"], [\"type sugar insulin blood one\", \"ever cure type one two diabet\"], [\"type sugar insulin blood one\", \"cell ribosom found\"], [\"type sugar insulin blood one\", \"side effect metformin\"], [\"type sugar insulin blood one\", \"type one diabet slow puberti\"], [\"type sugar insulin blood one\", \"get diabet drink alcohol\"], [\"type sugar insulin blood one\", \"prevent get diabet\"], [\"type sugar insulin blood one\", \"peopl type one diabet control blood pressur\"], [\"type sugar insulin blood one\", \"made cure diabet\"], [\"type sugar insulin blood one\", \"interellectu need diabet type two diabet\"], [\"type sugar insulin blood one\", \"diabet emerg caus high blood sugar level\"], [\"type sugar insulin blood one\", \"type two diabet take insulin control sugar drive commerci vehicl road\"], [\"type sugar insulin blood one\", \"eat regular meal\"], [\"type sugar insulin blood one\", \"avascular necrosi caus diabet\"], [\"type sugar insulin blood one\", \"gland respons diabet insipidu\"], [\"type sugar insulin blood one\", \"tell bodi much sugar\"], [\"type sugar insulin blood one\", \"turkey diabet\"], [\"type sugar insulin blood one\", \"occur bodi abl produc insulin\"], [\"type sugar insulin blood one\", \"symptom treatment hypoglycemia hyperglycemia\"], [\"type sugar insulin blood one\", \"number one killer children worldwid\"], [\"type sugar insulin blood one\", \"type food diabet male eat\"], [\"type sugar insulin blood one\", \"relationship diabet bhramari\"], [\"type sugar insulin blood one\", \"number seven mean diabet\"], [\"type sugar insulin blood one\", \"treatment toe numb\"], [\"type sugar insulin blood one\", \"eat orang rais blood sugar\"], [\"type sugar insulin blood one\", \"healthi person bodi respond sugar enter blood\"], [\"type sugar insulin blood one\", \"realli want diabet tell truth\"], [\"type sugar insulin blood one\", \"prevent get diabet\"], [\"type sugar insulin blood one\", \"eat carbohydr regul blood sugar\"], [\"type sugar insulin blood one\", \"mani carb diabet\"], [\"type sugar insulin blood one\", \"gamer fat\"], [\"type sugar insulin blood one\", \"type one type two compound\"], [\"type sugar insulin blood one\", \"diabet neuropathi tend\"], [\"type sugar insulin blood one\", \"treatment high blood sugar level diabet patient\"], [\"type sugar insulin blood one\", \"diabet beat\"], [\"type sugar insulin blood one\", \"candi would best diabet low sugar\"], [\"type sugar insulin blood one\", \"stress link type diabet\"], [\"type sugar insulin blood one\", \"themechan action insulin diabet\"], [\"type sugar insulin blood one\", \"plant get diabet\"], [\"type sugar insulin blood one\", \"explain virus might use copi gene produc human insulin\"], [\"type sugar insulin blood one\", \"airman arriv unit mention burn cook accid last night assess burn indic burn superfici\"], [\"type sugar insulin blood one\", \"much pizza diabet type two\"], [\"type sugar insulin blood one\", \"someth sweet diabet eat\"], [\"type sugar insulin blood one\", \"watermelon increas blood sugar\"], [\"type sugar insulin blood one\", \"stick check blood sugar level\"], [\"type sugar insulin blood one\", \"possibl anyon diabet healthi use insulin\"], [\"type sugar insulin blood one\", \"much sugar cherri\"], [\"type sugar insulin blood one\", \"clinic find occur first metabol acidosi patient type one diabet\"], [\"type sugar insulin blood one\", \"excess amount sugar caus diabet\"], [\"type sugar insulin blood one\", \"gestat diabet diet\"], [\"type sugar insulin blood one\", \"diabet mellitu treat doctor\"], [\"type sugar insulin blood one\", \"stop cut last year suicid attempt grade never told anyon day happi day well overeact past event sleep put self mess yeah\"], [\"type sugar insulin blood one\", \"diabet cuas\"], [\"type sugar insulin blood one\", \"calcul triglycerid level\"], [\"type sugar insulin blood one\", \"difficult diabet lose weight\"], [\"type sugar insulin blood one\", \"complic diabet coma\"], [\"type sugar insulin blood one\", \"could schnauzer diabet\"], [\"type sugar insulin blood one\", \"peopl diabet lose therir meori drink alcohol\"], [\"type sugar insulin blood one\", \"symptomp diabet\"], [\"type sugar insulin blood one\", \"tattoo diabet\"], [\"type sugar insulin blood one\", \"would increas insulin secret type ii diabet\"], [\"type sugar insulin blood one\", \"manag hypoglycemia diet\"], [\"type sugar insulin blood one\", \"heavi diabet\"], [\"type sugar insulin blood one\", \"diabet peopl avoid diabet complic\"], [\"type sugar insulin blood one\", \"exist mani form\"], [\"type sugar insulin blood one\", \"danger drink diabet blood\"], [\"type sugar insulin blood one\", \"best medicin diabet\"], [\"type sugar insulin blood one\", \"type one diabet\"], [\"type sugar insulin blood one\", \"doctor diagnos diabet\"], [\"type sugar insulin blood one\", \"diabet air hunger lead death\"], [\"type sugar insulin blood one\", \"bodi system affect crohn diseas system affect\"], [\"type sugar insulin blood one\", \"diabet gastroparesi\"], [\"type sugar insulin blood one\", \"diabet ramen noodl\"], [\"type sugar insulin blood one\", \"lower hemoglobin\"], [\"type sugar insulin blood one\", \"liquor best diabet\"], [\"type sugar insulin blood one\", \"one hypoglycem episod mean diabet laura\"], [\"type sugar insulin blood one\", \"determin preexist condit\"], [\"type sugar insulin blood one\", \"sugar content blood diabet\"], [\"type sugar insulin blood one\", \"low high blood sugar make chest hurt\"], [\"type sugar insulin blood one\", \"finger millet help diabet\"], [\"type sugar insulin blood one\", \"diabet get insulin\"], [\"type sugar insulin blood one\", \"condit often indic anemia\"], [\"type sugar insulin blood one\", \"enzym diabet affect\"], [\"type sugar insulin blood one\", \"hard sleep diabet\"], [\"type sugar insulin blood one\", \"better insulin pump anima medtron\"], [\"type sugar insulin blood one\", \"would name program diabet care india specif\"], [\"type sugar insulin blood one\", \"actual diabet last three year feel durat sex time short pleas advis increas time\"], [\"type sugar insulin blood one\", \"diabet patient like need kidney transplant\"], [\"type sugar insulin blood one\", \"indocologist\"], [\"type sugar insulin blood one\", \"rub alcohol caus cancer\"], [\"type sugar insulin blood one\", \"diabet make fat\"], [\"type sugar insulin blood one\", \"get dla child diabet insipidu\"], [\"type sugar insulin blood one\", \"salt water pool safe diabet\"], [\"type sugar insulin blood one\", \"use treat type one diabet\"], [\"type sugar insulin blood one\", \"five pass stop cramp right leg\"], [\"type sugar insulin blood one\", \"diabet exampl degen diseas\"], [\"type sugar insulin blood one\", \"type wine best diabet\"], [\"type sugar insulin blood one\", \"treat diabet insipidu\"], [\"type sugar insulin blood one\", \"happen eat excess amount sugar\"], [\"type sugar insulin blood one\", \"advanc technolog help type one diabet\"], [\"type sugar insulin blood one\", \"pee test nineti nine point nine percent accur\"], [\"type sugar insulin blood one\", \"exercis easili improv type one diabet\"], [\"type sugar insulin blood one\", \"keep diabet level\"], [\"type sugar insulin blood one\", \"treat patient give much insulin\"], [\"type sugar insulin blood one\", \"type one diabet discov\"], [\"type sugar insulin blood one\", \"normal rang total iron bind capac blood\"], [\"type sugar insulin blood one\", \"endocrin system affect diabet\"], [\"type sugar insulin blood one\", \"doctor treat type one diabet\"], [\"type sugar insulin blood one\", \"carrot increas blood sugar\"], [\"type sugar insulin blood one\", \"diabet energi eat sugari food\"], [\"type sugar insulin blood one\", \"happen bodi insulin longer work\"], [\"type sugar insulin blood one\", \"know good sugar level\"], [\"type sugar insulin blood one\", \"blood sugar rise high breakfast\"], [\"type sugar insulin blood one\", \"american type one diabect control glucos\"], [\"type sugar insulin blood one\", \"juvenil diabet treat\"], [\"type sugar insulin blood one\", \"combin food rais blood sugar\"], [\"type sugar insulin blood one\", \"sugar blood come\"], [\"type sugar insulin blood one\", \"get gestat diabet test\"], [\"type sugar insulin blood one\", \"meal diabet\"], [\"type sugar insulin blood one\", \"husband diabet fast take med morn say take food\"], [\"type sugar insulin blood one\", \"best time take diabet pill\"], [\"type sugar insulin blood one\", \"happen pancrea stop produc insulin\"], [\"type sugar insulin blood one\", \"monkey diabet\"], [\"type sugar insulin blood one\", \"infect caus blood glucos level increas decreas\"], [\"type sugar insulin blood one\", \"diabet foot infect prevent\"], [\"type sugar insulin blood one\", \"lycasin safe diabet\"], [\"type sugar insulin blood one\", \"diabet drink\"], [\"type sugar insulin blood one\", \"happen person diabet inject insulin\"], [\"type sugar insulin blood one\", \"mani gram sugar woman consum per day\"], [\"type sugar insulin blood one\", \"grill shrimp okay diabet\"], [\"type sugar insulin blood one\", \"type medicin help pancr workbett\"], [\"type sugar insulin blood one\", \"homeopath remedi might effect treat diabet type two\"], [\"type sugar insulin blood one\", \"get diabet consum blood someon diabet\"], [\"type sugar insulin blood one\", \"sever way life someon diabet impact disord\"], [\"type sugar insulin blood one\", \"die diabet\"]], \"hovertemplate\": \"summary=%{customdata[0]}<br>pc_1=%{x}<br>pc_2=%{y}<br>pc_3=%{z}<br>sentence=%{customdata[1]}<extra></extra>\", \"legendgroup\": \"type sugar insulin blood one\", \"marker\": {\"color\": \"#636efa\", \"size\": 5, \"symbol\": \"circle\"}, \"mode\": \"markers\", \"name\": \"type sugar insulin blood one\", \"scene\": \"scene\", \"showlegend\": true, \"type\": \"scatter3d\", \"x\": [-2.014634847640991, 1.00470769405365, -2.064075231552124, -3.2248315811157227, 5.929698944091797, -3.238211154937744, 3.4266998767852783, 2.066559314727783, 0.2890205979347229, 2.123914957046509, -1.3728930950164795, 3.7701797485351562, -1.5722960233688354, -0.486376017332077, -2.96988844871521, 3.921738386154175, -2.7572290897369385, 5.132849216461182, 1.8101524114608765, 7.508827209472656, 4.6932806968688965, 4.477636337280273, 1.8356982469558716, -2.1720035076141357, 0.11042270809412003, -2.961073637008667, 2.0661633014678955, -1.3565887212753296, -4.790863990783691, 3.692462921142578, 6.008625507354736, 7.505436420440674, 4.692207336425781, -0.25508829951286316, 2.115800380706787, 4.689877033233643, 2.0943872928619385, 0.13919463753700256, -2.585636615753174, 1.4310991764068604, 3.6265015602111816, -0.5109652280807495, 5.602186679840088, -0.34641143679618835, 3.311246633529663, 3.681943655014038, 3.4015676975250244, 2.420806884765625, 1.2368074655532837, 2.07251238822937, -2.9878952503204346, 7.972641468048096, 4.25518798828125, -1.9322360754013062, 3.2086024284362793, 2.7035365104675293, -5.298437595367432, 3.6317672729492188, -2.155607223510742, 4.499040603637695, -2.521371603012085, 7.94256591796875, 5.2614922523498535, -3.7771987915039062, -1.7308449745178223, 5.382225036621094, 8.195898056030273, 1.2824738025665283, 6.728821754455566, 2.811370611190796, 2.262471914291382, 5.447033405303955, 3.830171585083008, 8.218001365661621, 0.3035374879837036, 2.1616837978363037, 6.704499244689941, 0.35823196172714233, 3.0275843143463135, 2.6890716552734375, -0.5712988972663879, 6.716592311859131, 8.569884300231934, 3.7421467304229736, 2.598409414291382, 2.6777899265289307, 2.217933416366577, 7.357213973999023, -2.2822678089141846, 5.441850662231445, 6.15797758102417, 0.34305351972579956, 4.864395618438721, -1.5824483633041382, -1.8030186891555786, 4.804748058319092, -1.1122539043426514, -0.14302778244018555, 3.2683725357055664, -3.192575693130493, -1.410710334777832, -6.6777544021606445, 4.72291374206543, 3.9855120182037354, 0.4722212255001068, -3.648087978363037, 0.03384335711598396, -2.8362343311309814, 1.9836376905441284, -3.9892563819885254, 0.005870138294994831, 2.649535894393921, -2.5674703121185303, 7.762857437133789, -0.2949586510658264, 2.4433348178863525, 0.4608522355556488, 0.08534222841262817, 2.929265022277832, -2.834751844406128, 3.921738624572754, -1.833348274230957, -3.154242515563965, 3.231292724609375, 6.338009834289551, 4.441134929656982, -3.268183708190918, -2.850491523742676, -1.363653302192688, 6.914670467376709, 3.635450839996338, 8.386612892150879, -3.1689929962158203, 0.43206271529197693, -2.956258773803711, 2.683833599090576, 8.194317817687988, 3.1114501953125, -1.005399227142334, -2.138509511947632, 7.6079559326171875, 5.468039512634277, 4.591022968292236, 3.9071991443634033, 5.680477142333984, 8.117080688476562, -3.890317678451538, 0.6842300295829773, 7.308215141296387, -0.39010095596313477, -1.6709516048431396, 5.7813029289245605, 1.137392282485962, -3.1689906120300293, -3.8423876762390137, -0.822559654712677, -2.4721415042877197, 3.591177225112915, -0.9783221483230591, -2.679940700531006, -3.020273208618164, -1.2234922647476196, 1.8018152713775635, 0.41161006689071655, -0.11383599042892456, 3.9604265689849854, -1.4290250539779663, 3.750114679336548, -1.445314884185791, 1.2117061614990234, 5.307441234588623, 3.3104729652404785, -2.616229772567749, 3.2773919105529785, 5.766107082366943, -2.8688547611236572, -1.410997748374939, 2.662545680999756, 5.170273780822754, 1.047963261604309, -2.352409601211548, 1.2726399898529053, 0.33847716450691223, 5.209268569946289, 4.964053153991699, -1.8240584135055542, 3.1653692722320557, -0.011710369028151035, 3.5095643997192383, -2.7571170330047607, 5.69139289855957, 5.413345813751221, -0.7378389835357666, 3.0984814167022705, 3.5917840003967285, 6.80047082901001, 8.031624794006348, 5.732971668243408, 5.453988075256348, 2.5499966144561768, -0.29601725935935974, 5.533755779266357, 5.41752815246582, 5.183577537536621, 7.535251140594482, -2.4572501182556152, 3.6942453384399414, 6.763965606689453, -3.0384392738342285, 1.0849422216415405, 2.085087299346924, -1.1551741361618042, 5.815767765045166, 5.970019340515137, -0.0626588687300682, 5.273594856262207, -2.882751703262329, 0.38227930665016174, -1.2272493839263916, 2.124861240386963, -0.7650144696235657, 7.615358829498291, 2.995304584503174, -2.8876304626464844, 4.742210865020752, 2.484532594680786, 7.471663475036621, -5.140415191650391, -2.7733089923858643, 1.8734018802642822, 3.2844350337982178, -0.23145736753940582, 6.702767848968506, -4.534665107727051, -2.0051894187927246, -0.7674261927604675, 3.5792038440704346, 1.736220121383667, 1.33821702003479, 2.726755380630493, -1.348655343055725, -3.6463329792022705, 3.2649004459381104, 7.720432758331299, -2.307088613510132, 0.209978386759758, 4.008115291595459, 3.7872793674468994, 0.7138442397117615, 7.9453325271606445, -0.4845180809497833, 0.3252588212490082, -0.197862908244133, 3.9258620738983154, -2.7261030673980713, 3.575577735900879, 2.9420247077941895, 1.4250940084457397, 8.385345458984375, 1.9733610153198242, 4.159206867218018], \"y\": [2.5484840869903564, 5.6580119132995605, -4.353811740875244, -5.908724784851074, 1.4074970483779907, -3.161911964416504, 0.3221379220485687, -3.108889579772949, -4.336556911468506, 3.9276175498962402, 0.6094562411308289, -6.300051689147949, 1.701090693473816, 3.9306321144104004, -1.4733680486679077, 3.00569748878479, -6.485528945922852, -1.00635826587677, -6.4737091064453125, 0.2971982955932617, -1.8182252645492554, 0.8098030686378479, -4.188264846801758, 3.7225117683410645, 5.390307426452637, 2.4956624507904053, -9.980088233947754, 1.4662123918533325, -2.4815409183502197, 0.8320783972740173, 2.156633138656616, -3.9782755374908447, -4.5152201652526855, 3.8788180351257324, -6.5366692543029785, 0.6086217761039734, -9.99909496307373, 7.375704765319824, -5.6558051109313965, 5.822408199310303, -1.8623743057250977, 5.2941575050354, -1.877962350845337, 6.133400917053223, -6.546602249145508, 2.837847948074341, -0.8203082084655762, -4.067540168762207, -7.571407318115234, 5.8035502433776855, -4.747059345245361, -3.95365834236145, 4.206719398498535, 2.464571952819824, -0.8989904522895813, 7.629055500030518, -0.3479261100292206, 2.5919313430786133, -3.7137985229492188, -6.454686164855957, -3.74701189994812, 1.3930774927139282, -5.897512912750244, -2.584543228149414, -0.7994423508644104, -2.7808163166046143, -3.283743381500244, -7.506674289703369, -0.48441147804260254, -2.414606809616089, -6.746826648712158, -3.739367723464966, 0.8981468677520752, 1.5302529335021973, -4.33964729309082, 7.422647953033447, -2.4658594131469727, -2.5988290309906006, -6.591586589813232, -4.031242847442627, -4.540567874908447, -4.75039005279541, 2.9587388038635254, -0.3707525432109833, -2.8512020111083984, 3.935631275177002, 3.958627462387085, -2.957731246948242, 1.5600210428237915, 2.1903765201568604, -0.6470465660095215, 5.492863655090332, -6.149298191070557, -2.648064136505127, -2.697098970413208, 3.8691601753234863, -2.225273847579956, -6.4094414710998535, -6.249051094055176, -6.3072686195373535, -1.5146583318710327, -0.4583064615726471, -2.7507760524749756, 3.6004767417907715, 7.520763874053955, 0.6729317307472229, -6.664391040802002, 3.4492478370666504, -6.945641994476318, 0.6419464945793152, 5.677812099456787, -4.19373083114624, 3.460615396499634, 0.9822177886962891, 6.369938373565674, 4.072168350219727, -2.873098373413086, 6.91502046585083, -2.0058600902557373, -6.673842430114746, 3.0056984424591064, 2.2725722789764404, -6.49057674407959, 0.16910310089588165, 1.2397866249084473, -1.9534448385238647, -3.782386302947998, 3.273195505142212, -5.53760290145874, 0.2243097722530365, 4.12808895111084, 1.9897620677947998, 2.8371267318725586, -2.7663543224334717, -5.933026313781738, 4.4703569412231445, -4.217199325561523, -2.601632595062256, -5.060370445251465, 2.377776622772217, -2.8950717449188232, -1.6873294115066528, 0.37489545345306396, 0.2981511652469635, -8.81709098815918, 2.610764265060425, 0.794249951839447, 4.872161865234375, -3.6572163105010986, 5.986901760101318, -6.659829616546631, -2.085670232772827, 5.625295162200928, 2.837130308151245, -6.400327205657959, 3.09928035736084, 1.084201693534851, 0.7523701190948486, 4.356654167175293, -6.241181373596191, -0.6378337740898132, -4.204920291900635, 7.889873027801514, -3.003406286239624, 6.421995162963867, 0.0741809532046318, -6.167921543121338, -2.2230727672576904, 3.2720601558685303, -7.774494171142578, -8.68830680847168, 1.3371963500976562, -3.953014612197876, -0.007191438227891922, 1.9357085227966309, 3.3385069370269775, 2.717916250228882, -5.79124116897583, -2.2821428775787354, -7.231807708740234, 3.4726667404174805, 5.153353214263916, 4.444180488586426, -1.121199131011963, -0.033733200281858444, 2.229395866394043, -0.1594320684671402, -6.901012420654297, 3.8829848766326904, 3.0255043506622314, 0.8277941346168518, -2.1443209648132324, -4.627322673797607, 1.0448579788208008, -6.396100044250488, 1.0704952478408813, -3.520669460296631, -0.553862988948822, -4.042642593383789, -9.895282745361328, -4.8619384765625, -4.8848347663879395, -5.7342424392700195, -1.1572901010513306, -0.11162534356117249, 1.500983715057373, 0.6635281443595886, -1.7950056791305542, -1.3820369243621826, 7.280073642730713, -6.231756687164307, -0.5208472609519958, -1.9742047786712646, -1.664842128753662, -3.7385287284851074, -6.198487281799316, -0.5932905077934265, 7.263024806976318, -0.03214479237794876, -4.832632064819336, 4.566366672515869, 1.838419795036316, -3.7054970264434814, 0.7804047465324402, -4.5531005859375, -3.937086582183838, 4.80569314956665, -0.05330764129757881, -5.306395530700684, -3.530827045440674, -3.25877046585083, -6.852996826171875, -2.9653053283691406, -2.59379506111145, -6.4996232986450195, 3.9293200969696045, -0.8397495746612549, -7.214209079742432, -7.620337963104248, 3.922124147415161, -0.11635328829288483, -6.5510454177856445, -5.006061553955078, 0.14103493094444275, -4.034538269042969, -6.862990856170654, 3.1290268898010254, -0.4524466097354889, 5.690981388092041, -1.8810973167419434, 6.6845479011535645, -3.2333621978759766, -4.093589782714844, -0.6920333504676819, -4.265168190002441, -6.514969348907471, -3.6781485080718994, 5.953967571258545, 2.998333215713501, 7.158480167388916, 3.1334617137908936], \"z\": [3.738556146621704, 1.2203580141067505, 1.4586243629455566, 1.6871649026870728, -3.8886141777038574, 2.4713799953460693, -6.636734962463379, -5.5038933753967285, 0.19689427316188812, -3.0368435382843018, 2.296806812286377, -0.08135974407196045, 2.693413734436035, 2.3132383823394775, 3.2328100204467773, -6.12675666809082, 1.494875431060791, -2.4317634105682373, 0.5403797030448914, -4.157876968383789, -4.394537448883057, -2.723175525665283, -1.0256563425064087, 4.327083110809326, 2.0397613048553467, 4.790685653686523, 2.4822261333465576, 2.373602867126465, 1.8257780075073242, -6.659423351287842, -3.978501081466675, -2.5120351314544678, -1.550125002861023, 2.032883405685425, -5.003726482391357, -2.8166990280151367, 2.4929111003875732, 2.362278461456299, 1.443774938583374, 0.8575791120529175, -6.537775039672852, 2.6533100605010986, -3.6332149505615234, 2.6203060150146484, 0.052306029945611954, -6.251163959503174, -6.002440929412842, -1.6139761209487915, 1.2357388734817505, -4.270069122314453, 1.5535544157028198, -2.6751649379730225, -3.9271483421325684, 3.640489339828491, -6.333174228668213, 0.844074547290802, 3.303220272064209, -6.29669713973999, 1.6015347242355347, -0.16420437395572662, 1.7706886529922485, -4.279038906097412, 0.30864793062210083, 2.8073339462280273, 2.227342128753662, -3.024188995361328, -3.1525163650512695, 1.1876246929168701, -4.0533671379089355, -6.346734523773193, -4.348563194274902, -2.182568311691284, -6.754822254180908, -4.02806282043457, 0.16842427849769592, 0.8840363025665283, -3.368298292160034, -1.4241902828216553, 0.16283783316612244, -6.0290093421936035, 0.6937240958213806, 0.6063889265060425, -3.9789130687713623, -6.796045780181885, -6.341597557067871, -3.768803358078003, -3.0491693019866943, -3.1504886150360107, 3.471205711364746, -5.564884662628174, -3.5973308086395264, 1.8267912864685059, 0.16268861293792725, 1.501177191734314, 1.6340019702911377, -5.819459438323975, 1.2408379316329956, 1.0454996824264526, -0.1650208681821823, 1.636043667793274, 1.7129462957382202, 3.7013025283813477, -2.9192237854003906, -5.979909896850586, 2.0979669094085693, 3.2211594581604004, 1.0855668783187866, 4.981357097625732, 0.7023974061012268, 3.4956133365631104, 2.189324140548706, -2.226693868637085, 4.697000026702881, -4.371799468994141, 2.6124367713928223, -3.2054450511932373, -1.6517093181610107, 2.3530027866363525, -6.224923610687256, 1.5141863822937012, -6.126756191253662, 3.468933582305908, 1.6133369207382202, -6.095040321350098, -4.108199596405029, -5.867525100708008, 1.4000670909881592, 4.932504177093506, 1.097280740737915, -4.125158786773682, -6.024627208709717, -3.86912202835083, 5.0897016525268555, -1.450656533241272, 1.5602834224700928, -4.195309162139893, -2.644848346710205, -6.590325832366943, 0.9414736032485962, 3.858765125274658, -3.232527494430542, -3.886587142944336, -2.7327802181243896, -6.8913068771362305, 2.981377363204956, -4.406172275543213, 3.3816378116607666, 1.3046691417694092, -2.6743290424346924, 2.6449520587921143, 1.2945305109024048, -3.5763819217681885, 1.094111680984497, 5.089699745178223, 1.8970386981964111, 2.443870782852173, 3.8029942512512207, -6.5949554443359375, 2.9933722019195557, 1.4693546295166016, 3.40226411819458, 1.049561619758606, -4.90209436416626, -1.611809492111206, 2.457411050796509, -6.93737268447876, 1.1842312812805176, -5.137596130371094, 3.2761895656585693, 1.3538620471954346, 1.8600448369979858, -6.4157514572143555, 1.8306233882904053, -6.102193832397461, -3.5789501667022705, 4.977787494659424, 3.0260226726531982, -0.050097741186618805, -3.5514345169067383, 1.1034488677978516, 4.459125995635986, 0.7657172679901123, 1.5533243417739868, -2.405862331390381, -3.036696195602417, 3.348904848098755, -6.516477584838867, 1.1658381223678589, -2.683258056640625, 4.7578253746032715, -3.5480194091796875, -2.641054391860962, 0.767174243927002, -6.297304630279541, -0.02330753393471241, -4.3175153732299805, -2.9590981006622314, -4.008419036865234, -1.9135463237762451, 2.4494848251342773, 0.6294223666191101, -1.6139768362045288, -1.3226289749145508, -2.4319100379943848, -4.042372703552246, 3.941129446029663, -6.764305114746094, -3.648444652557373, 3.4328184127807617, 1.5660758018493652, -5.049955368041992, 1.7880275249481201, -2.941997766494751, -3.7861249446868896, 0.2194141298532486, -0.9267322421073914, 3.3167781829833984, 2.1543872356414795, 1.9802963733673096, -4.767309188842773, 2.787381410598755, -4.0300188064575195, -5.668083190917969, 3.5085582733154297, -1.5011587142944336, -5.622539043426514, -3.643805503845215, 3.3831098079681396, 1.571427583694458, -5.008541107177734, -6.658407688140869, 1.177173376083374, -3.026155710220337, 1.854360818862915, 1.3274420499801636, 2.634143114089966, -6.660356044769287, 0.9054867625236511, 1.238069772720337, -4.108135223388672, 2.060494899749756, 1.782529354095459, -0.5416480302810669, -4.094603061676025, 1.6075352430343628, 1.1185016632080078, -2.8738763332366943, -6.790638446807861, 1.5085221529006958, -3.590003490447998, 2.8122618198394775, -0.35365015268325806, 0.3603469133377075, -6.803109645843506, 1.8214836120605469, 0.0420207679271698, -5.8608856201171875, 0.8306077718734741, -4.0257110595703125, 0.9018281102180481, -2.879640579223633]}, {\"customdata\": [[\"type cau one two get\", \"big toe often numb sign diabet\"], [\"type cau one two get\", \"diabet mellitu result polyurea\"], [\"type cau one two get\", \"deni life insur diabet\"], [\"type cau one two get\", \"diabet work post offic\"], [\"type cau one two get\", \"caus frequent urin men\"], [\"type cau one two get\", \"characterist gestat diabet differ type one type two diabet\"], [\"type cau one two get\", \"peopl care nick jona diabet still teas peopl also type one diabet\"], [\"type cau one two get\", \"diabet start\"], [\"type cau one two get\", \"symptom caus diabet\"], [\"type cau one two get\", \"type diabet would rather\"], [\"type cau one two get\", \"symptom hypo got type one diabet\"], [\"type cau one two get\", \"caus pain right arm elbow shoulder numb right finger\"], [\"type cau one two get\", \"name disord diabet\"], [\"type cau one two get\", \"releas date boxinbuddi knockout juvenil diabet two thousand six\"], [\"type cau one two get\", \"patholog caus diabet\"], [\"type cau one two get\", \"symptom associ diabet\"], [\"type cau one two get\", \"diabet affect heal genit herp\"], [\"type cau one two get\", \"omnipod\"], [\"type cau one two get\", \"nick jona type one diabet\"], [\"type cau one two get\", \"mani peopl diabet insipidu\"], [\"type cau one two get\", \"teenag get type two diabet\"], [\"type cau one two get\", \"diabet affect result breathalyz\"], [\"type cau one two get\", \"novemb sixteen nick jona learn diabet\"], [\"type cau one two get\", \"system caus diabet mellitu\"], [\"type cau one two get\", \"mode transmiss diabet mellitu\"], [\"type cau one two get\", \"risk factor develop diabet\"], [\"type cau one two get\", \"diabet reaction\"], [\"type cau one two get\", \"difen diabet\"], [\"type cau one two get\", \"mani peopl die diabet year\"], [\"type cau one two get\", \"percentag world popul diabet\"], [\"type cau one two get\", \"patient describ diabet kussmaul respir physiolog activ take place caus patient\"], [\"type cau one two get\", \"untreat diabet mellitu caus ketosi\"], [\"type cau one two get\", \"diabet insipidu diabet mellitu\"], [\"type cau one two get\", \"diabet defici diseas\"], [\"type cau one two get\", \"diabet effect bodi\"], [\"type cau one two get\", \"shoulder pain numb finger thumb\"], [\"type cau one two get\", \"reason get thirsti usual\"], [\"type cau one two get\", \"caus diabet type two\"], [\"type cau one two get\", \"dad diabet get rid forev\"], [\"type cau one two get\", \"iddm mean\"], [\"type cau one two get\", \"type diabet run famili\"], [\"type cau one two get\", \"type one diabet inherit condit\"], [\"type cau one two get\", \"kid get diabet\"], [\"type cau one two get\", \"diabet medicin caus cancer\"], [\"type cau one two get\", \"could get diabet grape\"], [\"type cau one two get\", \"diabet affect peopl\"], [\"type cau one two get\", \"side affect diabet pregnanc\"], [\"type cau one two get\", \"sensat burn feet diabet\"], [\"type cau one two get\", \"symptom type two diabet\"], [\"type cau one two get\", \"diabet caus hypertens\"], [\"type cau one two get\", \"chanc gettin diabet dad diabet\"], [\"type cau one two get\", \"mani pound nick jona loos got diabet\"], [\"type cau one two get\", \"word diabet capit\"], [\"type cau one two get\", \"get diabet father mother famili histori get diabet\"], [\"type cau one two get\", \"vision complic get diabet\"], [\"type cau one two get\", \"caus constant itch right side constantli rub\"], [\"type cau one two get\", \"make urin cloudi\"], [\"type cau one two get\", \"type peopl suscept meralgia paresthetica\"], [\"type cau one two get\", \"averag age type one diabet\"], [\"type cau one two get\", \"type two diabet known diabet\"], [\"type cau one two get\", \"old join airforc\"], [\"type cau one two get\", \"gastat diabet mellitu\"], [\"type cau one two get\", \"type effect cephalosporin diabet\"], [\"type cau one two get\", \"diabet nrotc\"], [\"type cau one two get\", \"sotalol caus blur vision\"], [\"type cau one two get\", \"diabet transfer one partner anoth\"], [\"type cau one two get\", \"explain caus diabet control\"], [\"type cau one two get\", \"late dinner caus diabet\"], [\"type cau one two get\", \"besid medic treatment insulin els everyday minim chanc get diabet\"], [\"type cau one two get\", \"differ hiv aid diabet type two\"], [\"type cau one two get\", \"diabet incep\"], [\"type cau one two get\", \"possibl diabet one els famili\"], [\"type cau one two get\", \"substanc increas urin untreat diabet\"], [\"type cau one two get\", \"four diseas communic\"], [\"type cau one two get\", \"type microb diabet\"], [\"type cau one two get\", \"finger tip turn white numb hand get cold caus\"], [\"type cau one two get\", \"diabet warn sign\"], [\"type cau one two get\", \"gestat diabet caus preterm labor\"], [\"type cau one two get\", \"aceton breath\"], [\"type cau one two get\", \"one common type diabet\"], [\"type cau one two get\", \"type diabet alway insulin depend\"], [\"type cau one two get\", \"diseas focu healthi peopl two thousand ten\"], [\"type cau one two get\", \"possibl symptom diabet\"], [\"type cau one two get\", \"type one diabet affect person relationship\"], [\"type cau one two get\", \"frequent urin sign diabet\"], [\"type cau one two get\", \"earth diabet\"], [\"type cau one two get\", \"much liquor take kill diabet\"], [\"type cau one two get\", \"term life insur diabet\"], [\"type cau one two get\", \"deal diabet\"], [\"type cau one two get\", \"raini rodriguez diabet\"], [\"type cau one two get\", \"type one diabet affect lifestyl\"], [\"type cau one two get\", \"child sweat excess squirm\"], [\"type cau one two get\", \"lolli affect\"], [\"type cau one two get\", \"children diabet\"], [\"type cau one two get\", \"get health insur maryland diabet rheumatoid arthriti husband medicar miss enrol period cobra endin\"], [\"type cau one two get\", \"type mutat caus diabet type one\"], [\"type cau one two get\", \"warn sign diabet mellitu\"], [\"type cau one two get\", \"diabet raf\"], [\"type cau one two get\", \"diabet caus much sugar\"], [\"type cau one two get\", \"diabet becom super sensit pain\"], [\"type cau one two get\", \"develop diabet two\"], [\"type cau one two get\", \"youv start pee lot normal forti two year old male\"], [\"type cau one two get\", \"caus sore heal\"], [\"type cau one two get\", \"get diabet\"], [\"type cau one two get\", \"name type one type two\"], [\"type cau one two get\", \"high blood sugar lead urinari tract infect\"], [\"type cau one two get\", \"chees caus diabet\"], [\"type cau one two get\", \"one common characterist form diabet mellitu\"], [\"type cau one two get\", \"arm ach elbow\"], [\"type cau one two get\", \"type diabet\"], [\"type cau one two get\", \"two type superstiti\"], [\"type cau one two get\", \"make hand fall asleep\"], [\"type cau one two get\", \"diabet affect pancrea\"], [\"type cau one two get\", \"thirteen yr old dalmatian diabet gone blind know time die\"], [\"type cau one two get\", \"could diabet caus hand lock\"], [\"type cau one two get\", \"histori diabet\"], [\"type cau one two get\", \"diabet statist\"], [\"type cau one two get\", \"uncorrect type diabet mellitu may result\"], [\"type cau one two get\", \"kind diabet consid auto immun diseas\"], [\"type cau one two get\", \"diabet ill\"], [\"type cau one two get\", \"mani peopl die year type one diabet\"], [\"type cau one two get\", \"mani peopl get diagnos diabet year\"], [\"type cau one two get\", \"studi diabet mellitu call\"], [\"type cau one two get\", \"gestat diabet show undiagnos type one diabet\"], [\"type cau one two get\", \"symptom diabet crave salti food\"], [\"type cau one two get\", \"link physic activ diabet\"], [\"type cau one two get\", \"first person get diabet\"], [\"type cau one two get\", \"contract diabet\"], [\"type cau one two get\", \"diabet dehydr\"], [\"type cau one two get\", \"old peopl get diabet\"], [\"type cau one two get\", \"type one diabet known depend diabet\"], [\"type cau one two get\", \"mean definit diabet\"], [\"type cau one two get\", \"top rate children diabet endocrinolog hospit\"], [\"type cau one two get\", \"countri highest diabet rate\"], [\"type cau one two get\", \"miley break nick caus diabet\"], [\"type cau one two get\", \"symtom diabet mellitu\"], [\"type cau one two get\", \"get diabet touch infect person blood\"], [\"type cau one two get\", \"diabet\"], [\"type cau one two get\", \"symptom type two diabet\"], [\"type cau one two get\", \"get diabet symptom\"], [\"type cau one two get\", \"type diabet mellitu insulin resist disord\"], [\"type cau one two get\", \"canadian diabet associ creat\"], [\"type cau one two get\", \"molecular basi type one diabet\"], [\"type cau one two get\", \"pima indian diabet\"], [\"type cau one two get\", \"dri mouth sign diabet\"], [\"type cau one two get\", \"mammal get diabet\"], [\"type cau one two get\", \"type two diabet kill\"], [\"type cau one two get\", \"list five non communic communic diseas\"], [\"type cau one two get\", \"man diabet father child diabet\"], [\"type cau one two get\", \"pre diabet symptom\"], [\"type cau one two get\", \"diseas catch anoth person aid cancer diabet hypertens wart\"], [\"type cau one two get\", \"osgood get leg cut\"], [\"type cau one two get\", \"type diabet\"], [\"type cau one two get\", \"diabet mental ill\"], [\"type cau one two get\", \"peopl focu type two diabet\"], [\"type cau one two get\", \"long term side affect diabet\"], [\"type cau one two get\", \"type peopl risk develop diabet\"], [\"type cau one two get\", \"symptom type one diabet\"], [\"type cau one two get\", \"age group diabet affect\"], [\"type cau one two get\", \"sign symptom type one diabet\"], [\"type cau one two get\", \"tell diabet without see doctor\"], [\"type cau one two get\", \"marri diabet\"], [\"type cau one two get\", \"type one diabet live normal life\"], [\"type cau one two get\", \"obes caus type two diabet\"], [\"type cau one two get\", \"famili histori diabet disqualifi person pursu career pilot major commerci airlin industri\"], [\"type cau one two get\", \"secondari complic diabet\"], [\"type cau one two get\", \"symptom feel type two diabet\"], [\"type cau one two get\", \"diabet hypothyroid link\"], [\"type cau one two get\", \"diseas caus lack miner fe\"], [\"type cau one two get\", \"diabet obes relat\"], [\"type cau one two get\", \"gestat diabet affect child\"], [\"type cau one two get\", \"what differ diabet type one two\"], [\"type cau one two get\", \"medic term mean death tissu caus diabet\"], [\"type cau one two get\", \"pee lot\"], [\"type cau one two get\", \"thing diabet cant\"], [\"type cau one two get\", \"caus type one diabet\"], [\"type cau one two get\", \"diabet moneran kingdom\"], [\"type cau one two get\", \"type two diabet revers\"], [\"type cau one two get\", \"diabet\"], [\"type cau one two get\", \"diabet wors chronic fatigu syndrom\"], [\"type cau one two get\", \"mood swing diabet symptom\"], [\"type cau one two get\", \"men get diabet\"], [\"type cau one two get\", \"move canada uk diabet\"], [\"type cau one two get\", \"symptom diabet tell diabet without see doctor\"], [\"type cau one two get\", \"get diabet exercis\"], [\"type cau one two get\", \"structur kidney damag diabet mellitu\"], [\"type cau one two get\", \"diabet come\"], [\"type cau one two get\", \"nick jona ever diabet\"], [\"type cau one two get\", \"uncontrol diabet effect mental statu\"], [\"type cau one two get\", \"diabet trait\"], [\"type cau one two get\", \"frequent urin diabet symptom\"], [\"type cau one two get\", \"common type ii diabet\"], [\"type cau one two get\", \"catch type two diabet\"], [\"type cau one two get\", \"symptom diabet person\"], [\"type cau one two get\", \"mani kilogram diabet consum sodium\"], [\"type cau one two get\", \"type two diabet noninfecti\"], [\"type cau one two get\", \"common diabet symptom\"], [\"type cau one two get\", \"know diabet\"], [\"type cau one two get\", \"chanc diabet babi born parent heterozyg normal\"], [\"type cau one two get\", \"gain weight diabet\"], [\"type cau one two get\", \"common diabet symptom\"], [\"type cau one two get\", \"paneer booti\"], [\"type cau one two get\", \"gestat diabet everi pregnanc\"], [\"type cau one two get\", \"major differ type one type two diabet\"], [\"type cau one two get\", \"much diabet syring hold\"], [\"type cau one two get\", \"hered play part diabet\"], [\"type cau one two get\", \"get diabet much sugar\"], [\"type cau one two get\", \"three p diabet\"], [\"type cau one two get\", \"two challeng die chronic ill\"], [\"type cau one two get\", \"describ diabet mellitu type two word\"], [\"type cau one two get\", \"diabet affect urinari system\"], [\"type cau one two get\", \"diabet caus numb finger\"], [\"type cau one two get\", \"diabet type one\"], [\"type cau one two get\", \"type one diabet contagi\"], [\"type cau one two get\", \"swollen ankl symptom diabet\"], [\"type cau one two get\", \"famou peopl type one diabet\"], [\"type cau one two get\", \"could sweet smell urin\"], [\"type cau one two get\", \"frequent caus death hors cholesterol diarrhoea diabet pine poison\"], [\"type cau one two get\", \"urin sampl prove alcohol consumpt diabet\"], [\"type cau one two get\", \"neither parent diabet get\"], [\"type cau one two get\", \"nineti two lb blood sugar level still high\"], [\"type cau one two get\", \"age peopl diagnos diabet\"], [\"type cau one two get\", \"diabet\"], [\"type cau one two get\", \"get gestat diabet\"], [\"type cau one two get\", \"much sugar urin indic\"], [\"type cau one two get\", \"grandfath diabet\"], [\"type cau one two get\", \"doctor call studi child growth diabet\"], [\"type cau one two get\", \"region like get diabet\"], [\"type cau one two get\", \"symptom diabet\"], [\"type cau one two get\", \"diabet woman mate diabet man\"], [\"type cau one two get\", \"optimum arous sport\"], [\"type cau one two get\", \"neuropathi diabet\"], [\"type cau one two get\", \"explain patient diabet\"], [\"type cau one two get\", \"diabet patient age thirti nine conceiv possibl becom pregnant\"], [\"type cau one two get\", \"diabet urin often\"], [\"type cau one two get\", \"polyuria caus excess urin\"], [\"type cau one two get\", \"sign diabet type one two\"], [\"type cau one two get\", \"mani women diabet\"], [\"type cau one two get\", \"would diabet stop get certifi drive truck\"], [\"type cau one two get\", \"describ possibl complic poorli control diabet mellitu complic avoid\"], [\"type cau one two get\", \"type juvenil diabet\"], [\"type cau one two get\", \"lil boosi diabet\"], [\"type cau one two get\", \"system diabet relat\"], [\"type cau one two get\", \"diabet mellitu multifactori diseas\"], [\"type cau one two get\", \"symptom diabet may effect health long term\"], [\"type cau one two get\", \"two type diabet\"], [\"type cau one two get\", \"celebr diabet\"], [\"type cau one two get\", \"major sign diabet\"], [\"type cau one two get\", \"diabet produc glucos urin\"], [\"type cau one two get\", \"give diabet lactulos\"], [\"type cau one two get\", \"way detect carrier diabet\"], [\"type cau one two get\", \"five symptom diabet\"], [\"type cau one two get\", \"male diabet patient type one babi\"], [\"type cau one two get\", \"diabet pass increas volum urin\"], [\"type cau one two get\", \"vodka caus diabet\"], [\"type cau one two get\", \"cocker spaniel diabet\"], [\"type cau one two get\", \"mani peopl type one diabet\"], [\"type cau one two get\", \"common diabet symptom look\"], [\"type cau one two get\", \"mani peopl heart diseas us\"], [\"type cau one two get\", \"smoke caus diabet two\"], [\"type cau one two get\", \"ophthalmoplegia happen diabet mellitu\"], [\"type cau one two get\", \"get diabet\"], [\"type cau one two get\", \"diseas caus lack veggi friut\"], [\"type cau one two get\", \"mani children diagnos type one diabet everi day\"], [\"type cau one two get\", \"sign symptom diabet\"], [\"type cau one two get\", \"mani peopl uk suffer diabet\"], [\"type cau one two get\", \"obes diabet\"], [\"type cau one two get\", \"juvenil diabet\"], [\"type cau one two get\", \"feet burn sensat summer spite diabet hyper acid\"], [\"type cau one two get\", \"hand safe diabet get tattoo\"], [\"type cau one two get\", \"afrin caus tingl head\"], [\"type cau one two get\", \"obes lead type two diabet\"], [\"type cau one two get\", \"type two diabet affect health\"], [\"type cau one two get\", \"diabet mellitu danger\"], [\"type cau one two get\", \"common way detect diabet\"], [\"type cau one two get\", \"would diabet mellitu caus urin acid\"], [\"type cau one two get\", \"fed diabet cat\"], [\"type cau one two get\", \"caus tingl left hand finger\"]], \"hovertemplate\": \"summary=%{customdata[0]}<br>pc_1=%{x}<br>pc_2=%{y}<br>pc_3=%{z}<br>sentence=%{customdata[1]}<extra></extra>\", \"legendgroup\": \"type cau one two get\", \"marker\": {\"color\": \"#EF553B\", \"size\": 5, \"symbol\": \"circle\"}, \"mode\": \"markers\", \"name\": \"type cau one two get\", \"scene\": \"scene\", \"showlegend\": true, \"type\": \"scatter3d\", \"x\": [-6.9250807762146, 2.201202392578125, 0.620262622833252, 3.181382179260254, -5.892298221588135, 1.7482293844223022, 2.2540242671966553, 6.679749965667725, -2.972830057144165, 2.9357309341430664, 3.488034248352051, -2.190068006515503, 0.9399530291557312, 0.8393393158912659, 1.998788595199585, -1.9210853576660156, -0.4451901912689209, 4.771307945251465, 2.026634454727173, 2.57741641998291, -0.11419399827718735, 6.8144989013671875, -3.7374844551086426, 1.1262718439102173, 5.73331356048584, -2.0130455493927, 4.955533981323242, 5.493906497955322, 2.774402379989624, 6.453062057495117, 6.080501079559326, 2.431068181991577, -0.37298914790153503, 1.9789633750915527, 5.746975421905518, -4.397028923034668, -2.1259403228759766, 2.3792176246643066, -0.05516817793250084, 6.742980480194092, 2.2012388706207275, 0.4792736768722534, -5.747703552246094, 6.3608832359313965, -0.3845076262950897, 2.416632652282715, -1.2193306684494019, 2.693901300430298, -3.7179813385009766, 4.245450496673584, -0.36920595169067383, 0.05181380733847618, 4.916080474853516, -4.621764183044434, 6.523447513580322, -0.11756577342748642, 5.860219478607178, 2.0866944789886475, 2.7724292278289795, 2.7759618759155273, -0.29010844230651855, 3.029172658920288, 2.0222363471984863, 5.685897350311279, 4.102675914764404, -2.42056941986084, -2.534365653991699, -4.310275077819824, 0.15804529190063477, 2.3375699520111084, 5.091045379638672, 4.887814044952393, -1.1576972007751465, -0.9007245898246765, 3.1869380474090576, -5.100455284118652, -2.350320816040039, -1.9085581302642822, 5.6552414894104, 2.158146381378174, 2.5916130542755127, -2.3962881565093994, -6.263198375701904, 2.5608105659484863, -6.435105323791504, 4.348504066467285, 4.232030391693115, 0.4498462677001953, 4.707392692565918, 4.935041904449463, 2.5642549991607666, 6.029537200927734, 6.765000820159912, -4.27039098739624, 0.05606403946876526, 1.9852721691131592, -3.615691661834717, 4.141685962677002, 3.321549415588379, 6.27658224105835, -0.5307482481002808, 0.6125982999801636, 2.1055829524993896, -0.15585260093212128, 3.584632635116577, 0.07238118350505829, 2.0856568813323975, 5.722692012786865, 1.2266443967819214, 2.306757926940918, 2.605532646179199, 5.206666469573975, 5.961337089538574, 1.0084459781646729, -6.031871318817139, 4.85686731338501, 2.624767541885376, 0.760015070438385, 1.301527976989746, 4.740260601043701, 2.722076416015625, -2.1171774864196777, 0.14630816876888275, 2.260777711868286, -0.5370382070541382, 3.5675806999206543, 7.184550762176514, 2.421722412109375, 0.8318758010864258, -5.6883721351623535, 2.886645793914795, 4.829528331756592, -3.6567533016204834, -0.26691582798957825, -1.2940313816070557, 2.8496994972229004, -5.829235553741455, 5.340505123138428, -3.716902017593384, -5.267726898193359, 2.3666088581085205, 2.366745948791504, 2.7379708290100098, 4.121824741363525, -4.835926532745361, 0.8131767511367798, 2.1793410778045654, -0.5724755525588989, 3.750413179397583, -4.023677349090576, 4.181502819061279, -2.1081809997558594, 2.307633399963379, 5.624048233032227, 2.161634922027588, 3.868175983428955, 0.8012138605117798, -0.28096112608909607, 2.1375904083251953, -0.6091163754463196, 4.496989727020264, 1.2577906847000122, 2.9322991371154785, 1.535581111907959, -6.372893810272217, 4.804791450500488, -0.11388275772333145, 3.005427837371826, -6.486238479614258, -5.670068740844727, -1.6216908693313599, 3.019052028656006, 4.854854583740234, 4.29511833190918, 4.818093776702881, 2.2447474002838135, 5.6109843254089355, 1.6854649782180786, 5.340482711791992, 7.103240013122559, -5.042832851409912, -0.5134618878364563, 5.029765605926514, -5.015073299407959, 0.9974304437637329, 3.0387024879455566, 3.5122828483581543, -2.685769557952881, -3.0173141956329346, 5.722553253173828, -7.030073165893555, 2.304497241973877, 1.5919557809829712, -2.2730541229248047, 5.6397881507873535, 2.3317713737487793, -5.836977005004883, 5.8520684242248535, 0.6875615119934082, 4.38460111618042, -5.836968898773193, 4.382436752319336, -5.930970191955566, 2.3192808628082275, 4.852883338928223, 3.501437187194824, -0.031432490795850754, -1.2823296785354614, 1.4912890195846558, 0.8884175419807434, 3.6040825843811035, -5.423353672027588, 2.618837594985962, 1.9763675928115845, -6.065340995788574, 2.1686880588531494, -7.144598960876465, 1.8061364889144897, 1.0373986959457397, 3.8968796730041504, 6.739710330963135, 6.634745121002197, 5.340749263763428, 0.7154709696769714, 1.1417955160140991, 5.448657989501953, 3.4982244968414307, -2.5966475009918213, -5.169806957244873, 2.0207200050354004, 5.90431022644043, -0.5216880440711975, 4.65367317199707, 5.522364139556885, -5.419492721557617, -2.5180842876434326, 1.605278491973877, 0.24432897567749023, 1.350252628326416, 0.7797576785087585, 3.016763210296631, 5.7346577644348145, 5.641933917999268, 2.07657790184021, -4.664270401000977, 2.2524595260620117, -1.3527476787567139, -4.523604393005371, 5.6533589363098145, 0.7807222008705139, 5.500082015991211, -3.8740932941436768, 2.2117533683776855, -2.0166878700256348, 3.0840156078338623, 2.646373748779297, 2.7077081203460693, -6.30230712890625, 5.540008544921875, -1.1578501462936401, 3.4556314945220947, -0.1559290736913681, -6.349279403686523, -0.2357175350189209, -5.4148945808410645, 2.413837194442749, -4.177712440490723, 5.1568498611450195, 1.3357716798782349, 1.0048326253890991, 6.640505313873291, 1.328209638595581, 2.145336151123047, 3.3049299716949463, 2.570614814758301, 3.8477847576141357, 0.7924844026565552, 4.952847480773926], \"y\": [15.726404190063477, 13.280653953552246, 14.685783386230469, 10.83746337890625, 15.962567329406738, 11.903834342956543, 10.834136009216309, 6.533553600311279, 15.468338012695312, 5.462228298187256, 7.370719909667969, 15.274360656738281, 14.424600601196289, 14.649222373962402, 13.65281867980957, 14.506471633911133, 12.255875587463379, 12.765241622924805, 11.237927436828613, 12.687596321105957, 14.564773559570312, 6.901566028594971, 15.051058769226074, 14.351902961730957, 7.965606689453125, 15.32629680633545, 8.170357704162598, 7.517251491546631, 12.224198341369629, 7.074174404144287, 5.352604389190674, 13.091086387634277, 14.970226287841797, 13.630045890808105, 4.65782356262207, 15.78487491607666, 15.572806358337402, 9.750054359436035, 9.220033645629883, 7.195108413696289, 8.91959285736084, 13.919195175170898, 14.505449295043945, 5.895516395568848, 14.654924392700195, 12.614876747131348, 15.330653190612793, 12.362936019897461, 16.121488571166992, 12.920881271362305, 14.294504165649414, 14.261384963989258, 4.938398838043213, 14.77933406829834, 10.584362030029297, 15.085124969482422, 12.240022659301758, 10.493789672851562, 6.11998987197876, 7.7828688621521, 14.700469017028809, 11.381692886352539, 11.240534782409668, 6.742387294769287, 14.2951021194458, 15.679314613342285, 14.026987075805664, 15.564926147460938, 9.219160079956055, 8.806275367736816, 9.559222221374512, 9.940718650817871, 14.723909378051758, 15.233494758605957, 4.867136001586914, 14.033539772033691, 15.233430862426758, 14.33780288696289, 11.39455509185791, 9.861618995666504, 6.302481651306152, 14.822362899780273, 15.489729881286621, 8.206852912902832, 15.71020793914795, 7.9094648361206055, 7.509207248687744, 14.771002769470215, 5.71099328994751, 9.764939308166504, 5.613023281097412, 9.774492263793945, 6.442215442657471, 14.13884162902832, 12.621782302856445, 10.511946678161621, 15.98090648651123, 10.646910667419434, 9.87735652923584, 12.1973295211792, 12.563543319702148, 15.596683502197266, 13.3384370803833, 13.69385814666748, 4.433813571929932, 13.771828651428223, 10.6946382522583, 10.333328247070312, 7.888009071350098, 7.918267250061035, 11.383527755737305, 12.448822021484375, 4.831085205078125, 14.415983200073242, 15.10523509979248, 9.445618629455566, 12.61705207824707, 13.920380592346191, 10.380446434020996, 8.882089614868164, 5.425067901611328, 15.907769203186035, 9.204656600952148, 10.031187057495117, 8.97165298461914, 11.317841529846191, 4.648525714874268, 10.930670738220215, 9.212212562561035, 14.59001350402832, 5.271805763244629, 8.449416160583496, 13.896111488342285, 13.509631156921387, 15.252900123596191, 11.743911743164062, 14.395306587219238, 5.7492876052856445, 16.1214542388916, 15.334547996520996, 7.486414432525635, 8.172642707824707, 6.7422404289245605, 10.851247787475586, 15.011495590209961, 13.656805038452148, 9.800110816955566, 9.082877159118652, 8.181483268737793, 13.970361709594727, 14.178268432617188, 14.189973831176758, 7.917966842651367, 8.58090877532959, 12.184015274047852, 11.055428504943848, 13.708261489868164, 14.67199993133545, 13.389864921569824, 14.863734245300293, 7.114323616027832, 13.69388198852539, 5.188710689544678, 12.829476356506348, 15.254743576049805, 5.3004231452941895, 14.569265365600586, 11.810139656066895, 16.00450325012207, 15.030293464660645, 13.96116828918457, 8.03311538696289, 12.513378143310547, 13.206329345703125, 7.889369964599609, 9.861655235290527, 8.609391212463379, 11.720672607421875, 5.749244689941406, 6.997076034545898, 13.983105659484863, 14.829473495483398, 8.936015129089355, 14.6630859375, 10.663578987121582, 12.029569625854492, 11.466089248657227, 15.132772445678711, 15.672600746154785, 8.854732513427734, 15.885185241699219, 8.919220924377441, 12.746259689331055, 14.968217849731445, 4.664813995361328, 7.9303975105285645, 15.9896240234375, 4.307170391082764, 14.376012802124023, 6.722727298736572, 15.989598274230957, 11.122964859008789, 15.606399536132812, 8.21693229675293, 5.021401405334473, 11.52574348449707, 11.612916946411133, 14.205801010131836, 13.472268104553223, 13.769698143005371, 11.374866485595703, 16.084148406982422, 6.3208818435668945, 10.855172157287598, 15.50229549407959, 10.581910133361816, 15.626953125, 11.019209861755371, 15.802053451538086, 11.506211280822754, 11.844430923461914, 6.622359275817871, 5.748691082000732, 14.31149959564209, 13.558416366577148, 6.539140224456787, 7.8877716064453125, 15.42043399810791, 15.22514820098877, 13.531661033630371, 10.141599655151367, 8.898448944091797, 5.124932765960693, 11.116437911987305, 15.990336418151855, 15.691729545593262, 12.286669731140137, 14.816727638244629, 13.75498104095459, 9.098587036132812, 5.377411842346191, 5.613258361816406, 5.408604145050049, 13.23094367980957, 15.365152359008789, 10.939197540283203, 13.887899398803711, 15.712268829345703, 12.331496238708496, 9.339261054992676, 8.526613235473633, 15.582985877990723, 10.395357131958008, 14.658421516418457, 12.336669921875, 10.867281913757324, 6.080623149871826, 15.980969429016113, 11.294246673583984, 14.68492603302002, 11.494240760803223, 13.693815231323242, 14.501830101013184, 14.769927978515625, 15.606943130493164, 13.113127708435059, 14.419148445129395, 9.331360816955566, 10.777815818786621, 7.904916763305664, 11.082239151000977, 13.079282760620117, 10.18708610534668, 11.39766788482666, 10.970959663391113, 12.061554908752441, 8.76912784576416, 12.352521896362305], \"z\": [3.216381788253784, -1.9624525308609009, -0.5295436978340149, -0.2597693204879761, 2.2080295085906982, -4.787882328033447, -4.895205974578857, -2.8238365650177, 1.6314406394958496, -5.892072677612305, -5.905367851257324, 1.5856865644454956, -0.30278879404067993, -0.8121265769004822, -0.8449500203132629, 2.1211020946502686, 2.6284496784210205, -1.2117164134979248, -5.030714988708496, -0.9718484878540039, -2.579744815826416, -2.7544972896575928, 2.4368364810943604, -1.1262317895889282, -2.1920976638793945, 0.6632221341133118, -1.3740507364273071, -2.049851655960083, -0.6717316508293152, -2.6783230304718018, -2.8809707164764404, -2.0366973876953125, -1.3372734785079956, -1.2233420610427856, -4.460566997528076, 1.754669189453125, 0.9782559275627136, -5.695857048034668, 2.5414302349090576, -2.4439170360565186, -5.748791694641113, -3.2958807945251465, 4.019250869750977, -2.9220566749572754, 0.9320732951164246, -0.23263080418109894, -0.09846054017543793, -0.720699667930603, 0.09643924981355667, -1.716813087463379, 1.1760509014129639, 1.8408393859863281, -2.703413248062134, 3.130854368209839, -1.7142417430877686, 0.08963294327259064, -1.3663954734802246, -5.5884222984313965, -5.994035243988037, -6.016136169433594, 0.8788982033729553, -0.6246467232704163, -5.055606842041016, -2.8559858798980713, -0.7120042443275452, 0.15865322947502136, 2.756235361099243, 2.026578187942505, 1.7796224355697632, -5.8507537841796875, -2.25232195854187, -1.8812702894210815, 2.4768636226654053, 0.2552942633628845, -5.877560615539551, 4.238122940063477, 1.3259003162384033, 1.5503225326538086, -1.5622516870498657, -5.712371826171875, -6.472815990447998, 2.1027724742889404, 2.857454299926758, -6.108330726623535, 2.8556487560272217, -0.7886124849319458, -0.7024112343788147, -0.5523964762687683, -1.8329582214355469, -2.0306339263916016, -5.28086519241333, -1.3133800029754639, -2.8085813522338867, 3.6788666248321533, 2.706002712249756, -3.7846741676330566, 0.5404617190361023, -2.4396049976348877, 0.021998511627316475, -1.3689006567001343, 2.3888354301452637, 0.5160491466522217, -0.08768686652183533, 1.8609082698822021, -5.910797595977783, 3.2839200496673584, 1.1376616954803467, -2.300408124923706, 1.5746712684631348, -5.9621381759643555, -3.886939287185669, -1.3708161115646362, -4.469950199127197, -0.1407521516084671, 3.5794296264648438, -1.8356983661651611, -1.65976881980896, -2.9536311626434326, 1.848056435585022, -1.4349477291107178, -5.393784046173096, 1.9107060432434082, 2.3448092937469482, -5.2990803718566895, 2.910098075866699, -0.6209611296653748, -3.77366304397583, 0.7296589612960815, 1.851918339729309, 3.8792288303375244, -5.634537220001221, -1.2781870365142822, 3.622593402862549, 1.988486886024475, 0.5511433482170105, -0.693981409072876, 3.5934064388275146, -2.9981319904327393, 0.0963171124458313, 2.9916961193084717, -6.508279800415039, 0.9798587560653687, -6.002401351928711, -2.2124972343444824, 2.959657669067383, 1.3029052019119263, -5.774232864379883, 2.9406259059906006, -0.26081305742263794, 3.7364418506622314, -0.7682517170906067, 2.764833688735962, -5.961645603179932, -2.1475069522857666, -3.3034181594848633, -0.15668030083179474, -3.2756152153015137, -2.523585557937622, -0.6171765923500061, -2.375093460083008, -1.0160661935806274, 0.7337405681610107, -5.640078544616699, -3.7651238441467285, 3.5449488162994385, -2.022463083267212, -2.5731236934661865, -1.6795287132263184, 2.540496587753296, 3.5726497173309326, 2.098006010055542, -6.14670991897583, -1.4265081882476807, -1.1566842794418335, -1.1615029573440552, -5.658374309539795, -2.1673827171325684, -3.0101664066314697, -2.998136281967163, -2.5997657775878906, 4.296128749847412, 0.6735881567001343, -1.643785834312439, 3.49249529838562, 2.0495340824127197, -2.6658456325531006, -2.1783549785614014, 1.7873203754425049, 1.21481192111969, -2.07966685295105, 3.1267154216766357, -5.961109161376953, -3.753596544265747, 2.2749826908111572, -2.8504436016082764, -5.964056491851807, 2.3451833724975586, -4.166829586029053, 1.2122063636779785, -1.0312693119049072, 2.3451130390167236, -0.25026386976242065, 3.250927209854126, -5.96124792098999, -2.70550274848938, -2.156254529953003, 2.5077431201934814, 1.810395359992981, 0.8594443202018738, -3.032836437225342, -2.5461385250091553, 1.8849619626998901, -5.881373405456543, -5.552927494049072, 2.733140468597412, -5.24537992477417, 3.480815887451172, 2.064182996749878, 0.9950038194656372, -0.8912884593009949, -1.4154466390609741, -2.769944190979004, -2.997971534729004, 0.5230349898338318, 1.6891978979110718, -2.933274984359741, -0.07401560992002487, 1.3514025211334229, 2.8305087089538574, -0.6491246819496155, -1.0973931550979614, 2.896379232406616, -2.478388547897339, -1.8236377239227295, 2.0276753902435303, 0.6914920806884766, -4.514032363891602, 0.0546393059194088, 0.6789999008178711, 1.8164433240890503, -6.007216453552246, -2.869546413421631, -3.528895139694214, -2.1628036499023438, 2.440927028656006, -4.472187519073486, 2.1629319190979004, 1.915824294090271, -1.50101637840271, 1.9595476388931274, -1.9727401733398438, 1.7749959230422974, -5.224968433380127, 2.328429937362671, -0.7149568796157837, 0.516555905342102, -5.974879741668701, 2.687011957168579, -1.7842187881469727, 1.0726662874221802, -2.9744625091552734, 1.860856056213379, 4.571839809417725, -2.105203866958618, 2.4394712448120117, -1.1874194145202637, 3.320127010345459, -2.1456687450408936, 1.898008942604065, 1.7224138975143433, -1.5907678604125977, -3.673168659210205, -5.639942169189453, -3.067781448364258, 0.5609966516494751, -2.341630697250366, 1.958863615989685, -1.4721519947052002]}, {\"customdata\": [[\"diet food eat good recip\", \"one follow choic best way control type ii diabet\"], [\"diet food eat good recip\", \"effect diet diabet\"], [\"diet food eat good recip\", \"kind sugar substitut use diabet pound cake recip\"], [\"diet food eat good recip\", \"food serv someon diabet diet\"], [\"diet food eat good recip\", \"kind food eat keep blood sugar stabl\"], [\"diet food eat good recip\", \"orang good diabet peopl\"], [\"diet food eat good recip\", \"fruit good diabet diet\"], [\"diet food eat good recip\", \"suplement fruit veget stop diabet two\"], [\"diet food eat good recip\", \"best diet type two diabet\"], [\"diet food eat good recip\", \"follow diabet diet guidelin ensur diabet go away\"], [\"diet food eat good recip\", \"danger consum cheap diabet suppli\"], [\"diet food eat good recip\", \"often diabet eat\"], [\"diet food eat good recip\", \"schnauzer diabet\"], [\"diet food eat good recip\", \"find inform pre diabet diet\"], [\"diet food eat good recip\", \"might one go obtain diabet bracelet\"], [\"diet food eat good recip\", \"daili carb allow type two diabet\"], [\"diet food eat good recip\", \"diabet effect unbalanc diet\"], [\"diet food eat good recip\", \"ideal diet diabet\"], [\"diet food eat good recip\", \"diabet eat grapefruit\"], [\"diet food eat good recip\", \"potato good diabet patient\"], [\"diet food eat good recip\", \"afford diabet suppli avail medicar patient\"], [\"diet food eat good recip\", \"food diabet need avoid\"], [\"diet food eat good recip\", \"kind treatment peopl diabet\"], [\"diet food eat good recip\", \"low carb diet caus diabet\"], [\"diet food eat good recip\", \"diabet eat cucumb\"], [\"diet food eat good recip\", \"import compon diabet diet plan\"], [\"diet food eat good recip\", \"diet peopl diabet\"], [\"diet food eat good recip\", \"find diabet food guid\"], [\"diet food eat good recip\", \"cure hypertens diabet\"], [\"diet food eat good recip\", \"good recip diabet\"], [\"diet food eat good recip\", \"simpl recip found diabet menu\"], [\"diet food eat good recip\", \"natur pain relief gout\"], [\"diet food eat good recip\", \"diabet eat peach\"], [\"diet food eat good recip\", \"treatment option children diabet\"], [\"diet food eat good recip\", \"vitamin diabet\"], [\"diet food eat good recip\", \"good diet exercis plan avoid get diabet\"], [\"diet food eat good recip\", \"prevent diabet\"], [\"diet food eat good recip\", \"exampl food type two diabet\"], [\"diet food eat good recip\", \"allow eat drink one sugar diabet\"], [\"diet food eat good recip\", \"best type diet someon diabet\"], [\"diet food eat good recip\", \"diabet peopl eat margarin\"], [\"diet food eat good recip\", \"scientist make educ guess diabet caus genet factor guess exampl\"], [\"diet food eat good recip\", \"make sim sim three diabet\"], [\"diet food eat good recip\", \"eat banana diabet patient\"], [\"diet food eat good recip\", \"mechan action eclipta alba hepatoprotect\"], [\"diet food eat good recip\", \"find diet plan person type two diabet\"], [\"diet food eat good recip\", \"reduc advers effect diabet\"], [\"diet food eat good recip\", \"gastric bypass surgeri recommend treatment diabet\"], [\"diet food eat good recip\", \"diabet patient eat banana\"], [\"diet food eat good recip\", \"bad eat noodl diabet\"], [\"diet food eat good recip\", \"role diet exercis control hypertens diabet\"], [\"diet food eat good recip\", \"find inform diet diabet type two\"], [\"diet food eat good recip\", \"thing diabet cooki recip\"], [\"diet food eat good recip\", \"dessert diabet enjoy\"], [\"diet food eat good recip\", \"illeg ye consequ mom sell minor child excess diabet test suppli feed child\"], [\"diet food eat good recip\", \"kind fruit diabet eat\"], [\"diet food eat good recip\", \"measur taken prevent diabet adult\"], [\"diet food eat good recip\", \"treatment diabet\"], [\"diet food eat good recip\", \"anyon know diabet snack recip\"], [\"diet food eat good recip\", \"use hemoglucotest\"], [\"diet food eat good recip\", \"good diet keep sugar level\"], [\"diet food eat good recip\", \"hard lose weight diabet\"], [\"diet food eat good recip\", \"quick diabet recip\"], [\"diet food eat good recip\", \"cure type one diabet\"], [\"diet food eat good recip\", \"nutrit diet diabet\"], [\"diet food eat good recip\", \"find onlin cookbook diabet\"], [\"diet food eat good recip\", \"food good type one diabet also good type two\"], [\"diet food eat good recip\", \"diabet eat bean\"], [\"diet food eat good recip\", \"food eat type two diabet\"], [\"diet food eat good recip\", \"cure diabet\"], [\"diet food eat good recip\", \"walk good diabet\"], [\"diet food eat good recip\", \"good diabet recip\"], [\"diet food eat good recip\", \"lose weight diabet\"], [\"diet food eat good recip\", \"doctor weight loss plan\"], [\"diet food eat good recip\", \"anywher get free suppli blood sugar test\"], [\"diet food eat good recip\", \"first aid treatment diabet mellitu\"], [\"diet food eat good recip\", \"cure diabet\"], [\"diet food eat good recip\", \"method rapid weight loss\"], [\"diet food eat good recip\", \"get diabet cookbook\"], [\"diet food eat good recip\", \"diabet recip help keep healthi\"], [\"diet food eat good recip\", \"sous safe diabet eat\"], [\"diet food eat good recip\", \"diabet life threaten\"], [\"diet food eat good recip\", \"research done schizophrenia\"], [\"diet food eat good recip\", \"common diet program someon receiv diabet treatment\"], [\"diet food eat good recip\", \"food diabet eat\"], [\"diet food eat good recip\", \"food stay away diabet\"], [\"diet food eat good recip\", \"diabet eat fruit\"], [\"diet food eat good recip\", \"type food need add diet diabet\"], [\"diet food eat good recip\", \"diabet eat salt nut honey etc\"], [\"diet food eat good recip\", \"websit diabet educ\"], [\"diet food eat good recip\", \"diabet fruit\"], [\"diet food eat good recip\", \"region bodi storag excess bodi fat associ highest risk cardiovascular diseas diabet\"], [\"diet food eat good recip\", \"safe amount carbohydr gestat diabet\"], [\"diet food eat good recip\", \"cure diabeti\"], [\"diet food eat good recip\", \"diabet dad order eat\"], [\"diet food eat good recip\", \"releas date project diabet prevent two thousand twelv stay motiv\"], [\"diet food eat good recip\", \"diabet contraind massag\"], [\"diet food eat good recip\", \"good method diabet prevent\"], [\"diet food eat good recip\", \"find menu internet cater diabet individu\"], [\"diet food eat good recip\", \"sell diabet food rhode island\"], [\"diet food eat good recip\", \"cinnamon good diabet\"], [\"diet food eat good recip\", \"strength weak diabet\"], [\"diet food eat good recip\", \"diabet patient eat mango fruit\"], [\"diet food eat good recip\", \"diabet cake recip use splenda sweet n low\"], [\"diet food eat good recip\", \"good supplement diabet\"], [\"diet food eat good recip\", \"healthi diabet diet plan\"], [\"diet food eat good recip\", \"diabet dessert recip make stove\"], [\"diet food eat good recip\", \"diet use revers diabet\"], [\"diet food eat good recip\", \"prevent adult onset diabet\"], [\"diet food eat good recip\", \"doctor said watch sugar intak verg diabet cut mani gram sugar daili sugar free best\"], [\"diet food eat good recip\", \"food product peopl diabet\"], [\"diet food eat good recip\", \"diabet drink tea\"], [\"diet food eat good recip\", \"diabet patient eat couscou\"], [\"diet food eat good recip\", \"differ candi diabet candi\"], [\"diet food eat good recip\", \"diabet diet menu help diabet\"], [\"diet food eat good recip\", \"food product good diabet\"], [\"diet food eat good recip\", \"diabet food eat\"], [\"diet food eat good recip\", \"good diabet food guid\"], [\"diet food eat good recip\", \"good diet\"], [\"diet food eat good recip\", \"good diet plan person diabet\"], [\"diet food eat good recip\", \"world diabet cookbook\"], [\"diet food eat good recip\", \"recip diabet cookbook cooki\"], [\"diet food eat good recip\", \"good conclus diabet\"], [\"diet food eat good recip\", \"great diabet diet recip\"], [\"diet food eat good recip\", \"goal diabet treatment\"], [\"diet food eat good recip\", \"applesauc use diabet cake recip\"], [\"diet food eat good recip\", \"simpl dinner recip would work diabet menu plan\"], [\"diet food eat good recip\", \"food would diabet food list\"], [\"diet food eat good recip\", \"good diabet suppli adult\"], [\"diet food eat good recip\", \"expert treat diabet\"], [\"diet food eat good recip\", \"medicaid pay diabet shoe\"], [\"diet food eat good recip\", \"proven diabet cure\"], [\"diet food eat good recip\", \"much fat much sugar daili diabet\"], [\"diet food eat good recip\", \"best way type capit sentenc\"], [\"diet food eat good recip\", \"diet control effect treatment diabet\"], [\"diet food eat good recip\", \"diabet patient eat date\"], [\"diet food eat good recip\", \"one major food categori type two diabet diet\"], [\"diet food eat good recip\", \"yam good diabet\"], [\"diet food eat good recip\", \"scientist get paid stop research diabet\"], [\"diet food eat good recip\", \"print diabet diet sheet\"], [\"diet food eat good recip\", \"medic approv food list diabet\"], [\"diet food eat good recip\", \"homemad chicken pot pie good diabet diet\"], [\"diet food eat good recip\", \"diabet eat orang\"], [\"diet food eat good recip\", \"necessari diabet food diabet\"], [\"diet food eat good recip\", \"honey dew melon cantaloup bad diabet\"], [\"diet food eat good recip\", \"diabet food pyramid\"], [\"diet food eat good recip\", \"food drink sugar\"], [\"diet food eat good recip\", \"reduc risk diabet\"], [\"diet food eat good recip\", \"shiver due diabet occur\"], [\"diet food eat good recip\", \"disadvantag ayurveda\"], [\"diet food eat good recip\", \"one find inform diabet type one\"], [\"diet food eat good recip\", \"food carri healthi diabet nurtrit\"], [\"diet food eat good recip\", \"bring high blood pressur\"], [\"diet food eat good recip\", \"find inexpens food diabet\"], [\"diet food eat good recip\", \"one find inform diet diabet\"], [\"diet food eat good recip\", \"ayurveda help someon diabet\"], [\"diet food eat good recip\", \"list food high sugar\"], [\"diet food eat good recip\", \"sugar conent banana\"], [\"diet food eat good recip\", \"diet soda make crave sugar bad diabet\"], [\"diet food eat good recip\", \"diabet pump use\"], [\"diet food eat good recip\", \"diabet friendli food\"], [\"diet food eat good recip\", \"find great recip diabet\"], [\"diet food eat good recip\", \"qualiti servic american diabet\"], [\"diet food eat good recip\", \"nut bean eat diabet person\"], [\"diet food eat good recip\", \"guidelin food nutrit diabet\"], [\"diet food eat good recip\", \"vocat colleg univers differ\"], [\"diet food eat good recip\", \"diabet patient sagoo dana\"], [\"diet food eat good recip\", \"treatmint diabet\"], [\"diet food eat good recip\", \"food recomend diabet\"], [\"diet food eat good recip\", \"much cost purchas liberti diabet suppli\"], [\"diet food eat good recip\", \"kind treatment treat diabet\"], [\"diet food eat good recip\", \"good diabet carrot cake recip\"], [\"diet food eat good recip\", \"safe diabet drink aspartam\"], [\"diet food eat good recip\", \"good diabet breakfast\"], [\"diet food eat good recip\", \"find onlin menu diabet\"], [\"diet food eat good recip\", \"best way lose forti pound fifti five borderlin diabet\"], [\"diet food eat good recip\", \"choos food diabet\"], [\"diet food eat good recip\", \"sugar toothpast danger diabet\"], [\"diet food eat good recip\", \"diabet diet menu\"], [\"diet food eat good recip\", \"find diabet menu\"], [\"diet food eat good recip\", \"get free diabet suppli\"], [\"diet food eat good recip\", \"could diabet benefit naturopath medicin therapi\"], [\"diet food eat good recip\", \"prevent diabet\"], [\"diet food eat good recip\", \"food diabet avoid besid sugar\"], [\"diet food eat good recip\", \"diabet diet complet restrict type food\"], [\"diet food eat good recip\", \"best diet diabet\"], [\"diet food eat good recip\", \"ther way find inform diabet diet\"], [\"diet food eat good recip\", \"teeth ach diabet medicin increas sensit\"], [\"diet food eat good recip\", \"prevent diabet emerg affect day day life diabet\"], [\"diet food eat good recip\", \"help diabet\"], [\"diet food eat good recip\", \"food diabet avoid\"], [\"diet food eat good recip\", \"betti crocker cookbook dessert recip diabet\"], [\"diet food eat good recip\", \"recip diabet diet\"], [\"diet food eat good recip\", \"wheat better rice diabet\"], [\"diet food eat good recip\", \"find inform sign diabet\"], [\"diet food eat good recip\", \"diabet clinic educ\"], [\"diet food eat good recip\", \"kind food diabet eat\"], [\"diet food eat good recip\", \"diabet diet guidelin\"], [\"diet food eat good recip\", \"effect poor eat habit\"], [\"diet food eat good recip\", \"diet cais diabet\"], [\"diet food eat good recip\", \"fruit good diabet\"], [\"diet food eat good recip\", \"cure juvenil diabet\"], [\"diet food eat good recip\", \"prevent diabet veget soup\"], [\"diet food eat good recip\", \"help diabet\"], [\"diet food eat good recip\", \"carb count diabet\"], [\"diet food eat good recip\", \"chees eat diabet\"], [\"diet food eat good recip\", \"life expect someon diabet\"], [\"diet food eat good recip\", \"consum cinnamon diabet\"], [\"diet food eat good recip\", \"eat diabet patient get energi\"], [\"diet food eat good recip\", \"treatment diabet\"], [\"diet food eat good recip\", \"treatment diabet retinopathi\"], [\"diet food eat good recip\", \"find diet plan diabet healthi also help peopl loos weight\"], [\"diet food eat good recip\", \"find reasourc offici mayo clinic diet\"], [\"diet food eat good recip\", \"good food guid diabet\"], [\"diet food eat good recip\", \"ohip cover diabet medic\"], [\"diet food eat good recip\", \"stay posit diabet\"], [\"diet food eat good recip\", \"avoid treat hyperglycemia\"], [\"diet food eat good recip\", \"food make wors diabet\"], [\"diet food eat good recip\", \"type diet cure diabet\"], [\"diet food eat good recip\", \"diabet retinopathi treatment consist\"], [\"diet food eat good recip\", \"exercis help diabet\"], [\"diet food eat good recip\", \"herb rais sugar level\"], [\"diet food eat good recip\", \"diabet cure\"]], \"hovertemplate\": \"summary=%{customdata[0]}<br>pc_1=%{x}<br>pc_2=%{y}<br>pc_3=%{z}<br>sentence=%{customdata[1]}<extra></extra>\", \"legendgroup\": \"diet food eat good recip\", \"marker\": {\"color\": \"#00cc96\", \"size\": 5, \"symbol\": \"circle\"}, \"mode\": \"markers\", \"name\": \"diet food eat good recip\", \"scene\": \"scene\", \"showlegend\": true, \"type\": \"scatter3d\", \"x\": [-7.330971717834473, -7.704146862030029, -18.7526912689209, -9.688535690307617, -11.764135360717773, -6.770397663116455, -16.48467445373535, -15.30009937286377, -8.203571319580078, -15.277356147766113, -15.353787422180176, -3.543632745742798, -2.914588212966919, -15.099977493286133, -8.29497241973877, -16.0109920501709, -6.337499141693115, -9.37362003326416, -9.845900535583496, -5.998860836029053, -10.770149230957031, -10.630444526672363, -12.847061157226562, -8.049349784851074, -10.667376518249512, -19.26280975341797, -13.27733325958252, -13.828307151794434, -7.12166690826416, -19.200145721435547, -18.471080780029297, -4.240426063537598, -5.2916107177734375, -3.56343412399292, -4.709347724914551, -15.274223327636719, -6.517955303192139, -7.643324375152588, -4.903613090515137, -10.058115005493164, -3.5389440059661865, -10.375007629394531, -8.576814651489258, -12.031148910522461, -7.8652238845825195, -19.154348373413086, -3.0932600498199463, -16.879344940185547, -11.30643081665039, -6.8777546882629395, -4.61622953414917, -18.504907608032227, -18.973804473876953, -13.416881561279297, -7.578897953033447, -15.609564781188965, -9.258578300476074, -9.544708251953125, -19.961788177490234, -6.1510396003723145, -10.965928077697754, -8.280173301696777, -18.383085250854492, -10.007572174072266, -19.61475372314453, -18.43103790283203, -9.742873191833496, -8.770724296569824, -12.915413856506348, -12.665709495544434, -4.660595417022705, -19.95098114013672, -6.683761119842529, -8.368443489074707, -10.703349113464355, -4.660312175750732, -12.665694236755371, -4.253427505493164, -6.704564094543457, -21.011083602905273, -6.543186664581299, -3.895979881286621, -5.584334373474121, -11.20965576171875, -10.39539623260498, -4.150899410247803, -15.376935005187988, -10.145164489746094, -15.032835960388184, -9.011309623718262, -11.810680389404297, -4.534677505493164, -5.598828315734863, -8.86124038696289, -5.157328128814697, -6.4453911781311035, -4.200973033905029, -10.600096702575684, -11.740806579589844, -8.441948890686035, -18.833791732788086, -2.763547897338867, -14.757915496826172, -18.672412872314453, -8.100258827209473, -19.625463485717773, -21.015352249145508, -7.340709686279297, -6.1118364334106445, -11.388449668884277, -11.763504981994629, -10.61086368560791, -8.4990234375, -6.102412700653076, -20.899503707885742, -13.551302909851074, -13.941314697265625, -13.230326652526855, -13.268816947937012, -18.827077865600586, -15.39311695098877, -20.301443099975586, -6.766201019287109, -20.798131942749023, -8.895576477050781, -18.743526458740234, -19.5108642578125, -15.868971824645996, -17.390825271606445, -8.660307884216309, -10.903013229370117, -11.163338661193848, -4.691312789916992, -7.346299171447754, -10.334416389465332, -3.6454639434814453, -8.565282821655273, -6.641566276550293, -6.366263389587402, -15.254669189453125, -15.503350257873535, -13.914764404296875, -13.269542694091797, -12.735942840576172, -5.928447246551514, -13.567915916442871, -4.893915176391602, -3.8762097358703613, -3.208984136581421, -8.306984901428223, -9.776436805725098, -3.9718477725982666, -4.335743427276611, -16.284366607666016, -18.978540420532227, -13.206843376159668, -13.626830101013184, -6.090766906738281, -7.360057830810547, -5.088316917419434, -7.541306018829346, -20.993791580200195, -4.355988025665283, -10.321234703063965, -19.65056610107422, -5.203200340270996, -6.863647937774658, -3.4084763526916504, -7.740121364593506, -14.762140274047852, -16.746408462524414, -20.024770736694336, -6.943885803222656, -7.535136699676514, -17.326631546020508, -5.577387809753418, -8.10937786102295, -4.614944934844971, -19.58917808532715, -14.395011901855469, -14.224388122558594, -7.4152092933654785, -6.517951488494873, -12.358115196228027, -14.056291580200195, -11.986669540405273, -14.59304141998291, -6.147065162658691, -4.27752161026001, -5.334430694580078, -10.491518020629883, -21.155508041381836, -18.129409790039062, -7.783185005187988, -6.128525733947754, -8.862466812133789, -14.567940711975098, -17.492088317871094, -3.9263505935668945, -13.26734447479248, -16.06816864013672, -6.7270989418029785, -6.325900077819824, -5.334430694580078, -13.102088928222656, -9.0643892288208, -7.3171467781066895, -13.628510475158691, -3.500211238861084, -9.544699668884277, -9.599556922912598, -20.53632164001465, -8.17109489440918, -15.897125244140625, -5.387627601623535, -3.9938952922821045, -5.71307373046875, -4.917149066925049, -19.007610321044922, -5.069822788238525, -7.107486248016357, -6.6593098640441895, -11.673406600952148], \"y\": [-0.976119875907898, -1.3030672073364258, -5.269402503967285, -4.981232166290283, -5.46848726272583, -3.9524099826812744, -4.631741523742676, -2.01397442817688, -0.20754577219486237, -2.0495529174804688, -3.9328901767730713, -1.8252546787261963, 1.0111610889434814, -4.400931358337402, -1.0252748727798462, -3.589770793914795, -0.06169268861413002, -3.082949638366699, -3.2071692943573, -5.099200248718262, -3.0450425148010254, -2.94403076171875, -3.133911609649658, 0.10973764210939407, -3.115618944168091, -4.7203264236450195, -3.093449354171753, -3.9689812660217285, -2.7898075580596924, -5.216073989868164, -5.277011871337891, -3.659323215484619, 0.6847335696220398, 1.4771019220352173, 1.4721843004226685, -1.9727709293365479, 0.058914124965667725, -1.0474419593811035, -4.806764602661133, -1.7569140195846558, 1.1354843378067017, -1.8375656604766846, -2.807973623275757, -2.9651646614074707, -5.0553154945373535, -4.154338359832764, 0.4419207274913788, -4.676423072814941, -4.526758670806885, -2.9589123725891113, -1.8258925676345825, -4.301829814910889, -4.598450660705566, -3.1729345321655273, -5.832120895385742, -4.473360538482666, -3.6494498252868652, -4.711802005767822, -5.103639602661133, -5.584767818450928, -5.668591022491455, 0.5967732071876526, -4.338101863861084, -1.249985933303833, -4.933143615722656, -4.828090667724609, -1.235569953918457, -3.1646478176116943, -2.0504753589630127, -3.142879009246826, -3.2056643962860107, -4.988982677459717, 0.7427634000778198, -4.6990227699279785, -5.796818256378174, -3.8406801223754883, -3.1432056427001953, 0.9581918120384216, 1.3895224332809448, -4.307024955749512, -3.297873020172119, -3.1592535972595215, -2.113476276397705, -4.7911882400512695, -2.911100387573242, 1.0982606410980225, -4.538964748382568, -1.6077864170074463, -4.307684421539307, -4.060354709625244, -2.9406630992889404, -3.1633520126342773, -1.8691747188568115, -3.22967529296875, -3.241431474685669, -1.8045140504837036, -3.67899751663208, -2.7078890800476074, -5.224391937255859, -3.048241376876831, -4.939822196960449, 2.108210325241089, -4.465591907501221, -4.89689826965332, -4.858681678771973, -5.07418966293335, -4.315365314483643, 0.1379864513874054, -1.168427586555481, -2.4500932693481445, -2.7267863750457764, -4.747673034667969, -4.4702372550964355, -3.3420655727386475, -4.486481666564941, -3.442669153213501, -3.9707891941070557, -3.695103406906128, -4.523833751678467, -5.084356307983398, -3.9356658458709717, -4.923050403594971, -1.7591696977615356, -4.71621561050415, -3.046203136444092, -5.566410064697266, -4.517364025115967, -4.362096309661865, -4.704843997955322, -2.516718626022339, -2.792351245880127, -2.804194211959839, 0.8367147445678711, -0.9534803628921509, -2.898536443710327, -3.8595433235168457, 0.8216127157211304, -2.938584804534912, -1.3388700485229492, -4.4353156089782715, -3.9583866596221924, -3.5408670902252197, -3.664105176925659, -2.9183521270751953, -4.519739151000977, -3.8310115337371826, -5.302657604217529, -2.650838851928711, 1.7470823526382446, -4.04713773727417, -1.022167682647705, 0.9129070043563843, -5.971512794494629, -4.508869171142578, -4.7946672439575195, -3.6050736904144287, -3.2771928310394287, -5.5859551429748535, -5.958139896392822, -4.686759948730469, -0.35311901569366455, -4.403113842010498, -2.116213083267212, -5.090023040771484, -4.68480110168457, -4.548263072967529, -4.441629886627197, -1.723935604095459, -0.4855465590953827, -3.8423566818237305, -5.034805774688721, -4.696789264678955, -5.605885982513428, -3.5427985191345215, -4.659396648406982, -4.681933403015137, -2.902632713317871, -1.9681421518325806, -4.829614639282227, -4.1971564292907715, -3.883391857147217, -0.13243332505226135, 0.058903589844703674, -3.063992738723755, -3.7738397121429443, -2.8768603801727295, -4.360536098480225, -5.675545692443848, -5.753240585327148, -5.246122360229492, -2.9132192134857178, -3.93578839302063, -4.738614082336426, -5.966194152832031, 1.49690842628479, -4.2710041999816895, -4.038884162902832, -4.678426265716553, 0.633557140827179, -3.098578453063965, -4.511083126068115, -0.7045160531997681, 0.5127761960029602, -5.24612283706665, -3.377751588821411, -2.8568830490112305, -3.489590644836426, -3.1465837955474854, 1.4745912551879883, -4.711780548095703, -2.6756105422973633, -4.77556848526001, -5.346356391906738, -4.064339637756348, -4.506839752197266, 0.9361799955368042, -6.079469203948975, -1.760088324546814, -4.217522621154785, 0.7334511876106262, -5.461789131164551, -6.372053146362305, -2.983156681060791], \"z\": [3.620681047439575, 6.5302019119262695, -0.30448704957962036, 3.814985990524292, 2.3643462657928467, 5.423525810241699, 0.6536805629730225, 1.5905240774154663, 5.297921180725098, 1.6035569906234741, 1.2640929222106934, 3.8445143699645996, 3.748772382736206, 1.6465556621551514, 6.586876392364502, 0.8089644312858582, 6.452409744262695, 6.147794246673584, 6.1481709480285645, 3.9452195167541504, 5.215428829193115, 5.630489349365234, 2.8576724529266357, 6.586948871612549, 5.7894744873046875, -1.4196254014968872, 3.4645767211914062, 2.7313597202301025, 6.22014045715332, -1.0279141664505005, -0.20125284790992737, 4.411658763885498, 6.025058746337891, 5.063624858856201, 5.730085849761963, 1.6158133745193481, 6.486142635345459, 3.9275994300842285, 3.4710464477539062, 4.180634021759033, 4.722142696380615, 6.317381381988525, 6.237836837768555, 4.532830238342285, 4.284397125244141, -1.1312304735183716, 3.748647451400757, 0.4209660291671753, 3.480886936187744, 6.078254699707031, 4.708893299102783, -0.706534206867218, -1.408414363861084, 3.4093005657196045, 3.3168752193450928, 1.3364204168319702, 5.356405735015869, 4.174093723297119, -1.430167317390442, 3.4144554138183594, 2.506253242492676, 6.611795902252197, -1.1291773319244385, 3.762410879135132, -1.4557756185531616, -0.6609611511230469, 4.3201704025268555, 6.334470272064209, 3.849663734436035, 3.7651636600494385, 4.436350345611572, -0.9449940919876099, 6.541234970092773, 4.632078647613525, 2.4692294597625732, 4.481165409088135, 3.7650182247161865, 5.457387447357178, 6.569707870483398, -1.6664605140686035, 5.726208209991455, 3.280914306640625, 5.964756965637207, 3.2798612117767334, 5.7443695068359375, 5.202230453491211, 1.0406278371810913, 4.179263114929199, 1.3892983198165894, 5.0651140213012695, 4.768306732177734, 4.404617786407471, 6.077945232391357, 6.075128078460693, 4.8402419090271, 6.379158973693848, 3.4467129707336426, 5.588973045349121, 2.60280704498291, 6.234976768493652, -1.1366716623306274, 4.484725475311279, 1.8459452390670776, -0.9147050976753235, 4.485447883605957, -0.8466891050338745, -1.644054651260376, 6.544540882110596, 6.251405715942383, 5.304445266723633, 4.903463840484619, 3.619811534881592, 4.830338478088379, 5.450573921203613, -1.6959933042526245, 2.6761388778686523, 2.9879677295684814, 3.457523822784424, 2.5538434982299805, -0.9346418380737305, 1.3167314529418945, -1.2910319566726685, 6.402038097381592, -1.4809699058532715, 6.150145530700684, -0.053938787430524826, -0.8453977704048157, 0.677821934223175, 0.038588281720876694, 4.814601898193359, 5.414965629577637, 5.320129871368408, 5.70000696182251, 3.679511547088623, 5.683477401733398, 2.7628304958343506, 6.614555358886719, 6.003090858459473, 6.389819145202637, 1.3698879480361938, 1.2018284797668457, 3.050614833831787, 3.665860414505005, 4.082472324371338, 4.530280113220215, 3.681230306625366, 3.0520849227905273, 3.4397315979003906, 4.815258502960205, 5.305778980255127, 4.303439140319824, 5.035389423370361, 2.2720587253570557, 0.7996290326118469, -0.5569400191307068, 2.795924425125122, 2.8048789501190186, 3.3974711894989014, 3.1431691646575928, 3.7752983570098877, 6.521895408630371, -1.7202115058898926, 4.531355381011963, 3.419584274291992, -1.4576562643051147, 4.034164905548096, 4.847598075866699, 3.622485637664795, 6.542346954345703, 1.9132276773452759, 0.7293382883071899, -1.039360761642456, 3.5564351081848145, 5.6859002113342285, 0.08559075742959976, 4.181459903717041, 6.2603936195373535, 4.852320671081543, -0.6498501300811768, 2.058720111846924, 2.1119911670684814, 6.519628524780273, 6.486139297485352, 4.307140350341797, 1.7274832725524902, 4.622122287750244, 1.8469170331954956, 3.3006467819213867, 2.334988832473755, 3.435967206954956, 5.70374059677124, -1.7180964946746826, -0.4265642464160919, 3.123685836791992, 6.375250816345215, 4.910703182220459, 2.056495189666748, -0.07710856199264526, 5.383456707000732, 3.335878849029541, 1.0837464332580566, 6.4792561531066895, 6.448992729187012, 3.435967206954956, 2.584895133972168, 6.093655109405518, 5.716621398925781, 3.1985392570495605, 5.00994873046875, 4.174093246459961, 6.041629791259766, -1.717401146888733, 3.8916265964508057, 0.8783838748931885, 4.194221019744873, 4.974808692932129, 2.671938896179199, 5.238018989562988, -0.8511546850204468, 5.914741516113281, 3.7583305835723877, 2.55588698387146, 4.944112777709961]}, {\"customdata\": [[\"blood sugar insulin level gluco\", \"take metformin blood sugar level two hundr five\"], [\"blood sugar insulin level gluco\", \"diabet make brain shrink\"], [\"blood sugar insulin level gluco\", \"organ affect diabet\"], [\"blood sugar insulin level gluco\", \"diabet test strip realli work\"], [\"blood sugar insulin level gluco\", \"medicina biorezonanta cancer diabet tulburari psihic hepatita c dr alexandru olga\"], [\"blood sugar insulin level gluco\", \"treat hypoglycemia\"], [\"blood sugar insulin level gluco\", \"happen continu high blood sugar level\"], [\"blood sugar insulin level gluco\", \"one find blood sugar level chart onlin\"], [\"blood sugar insulin level gluco\", \"hormon involv diabet\"], [\"blood sugar insulin level gluco\", \"divis classif mean\"], [\"blood sugar insulin level gluco\", \"glucos toler test exampl specimen\"], [\"blood sugar insulin level gluco\", \"normal valu dc\"], [\"blood sugar insulin level gluco\", \"happen blood glucos level get low\"], [\"blood sugar insulin level gluco\", \"patient fast oral glucos toler test\"], [\"blood sugar insulin level gluco\", \"test diabet\"], [\"blood sugar insulin level gluco\", \"sign hypoglycemia\"], [\"blood sugar insulin level gluco\", \"high blood sugar diabet\"], [\"blood sugar insulin level gluco\", \"normal blood sugar rang\"], [\"blood sugar insulin level gluco\", \"two hormon human bodi control blood sugar level\"], [\"blood sugar insulin level gluco\", \"glucos polym rais blood glucos\"], [\"blood sugar insulin level gluco\", \"blood glucos level one thousand two hundr danger\"], [\"blood sugar insulin level gluco\", \"onion bad diabet\"], [\"blood sugar insulin level gluco\", \"wine rais blood sugar level\"], [\"blood sugar insulin level gluco\", \"group chemic hormon insulin belong\"], [\"blood sugar insulin level gluco\", \"low blood sugar lead diabet\"], [\"blood sugar insulin level gluco\", \"organ system diabet belong\"], [\"blood sugar insulin level gluco\", \"insulin blood sugar level\"], [\"blood sugar insulin level gluco\", \"famotidin twenti mg rais blood sugar level\"], [\"blood sugar insulin level gluco\", \"measur blood glucos level\"], [\"blood sugar insulin level gluco\", \"happen bodi insulin inject\"], [\"blood sugar insulin level gluco\", \"test use diagnosi diabet mellitu\"], [\"blood sugar insulin level gluco\", \"part affect follow diseas diabet jaundic\"], [\"blood sugar insulin level gluco\", \"sugar milk harm diabet\"], [\"blood sugar insulin level gluco\", \"fast sleep pill work\"], [\"blood sugar insulin level gluco\", \"blood sugar level diabet\"], [\"blood sugar insulin level gluco\", \"relationship kcal blood sugar\"], [\"blood sugar insulin level gluco\", \"substanc need diabet produc genet engin\"], [\"blood sugar insulin level gluco\", \"regular insulin actrapid insulin\"], [\"blood sugar insulin level gluco\", \"effect royal jelli diabet\"], [\"blood sugar insulin level gluco\", \"diabet patient need insulin\"], [\"blood sugar insulin level gluco\", \"size insulin adapt\"], [\"blood sugar insulin level gluco\", \"insulin first use treatment diabet\"], [\"blood sugar insulin level gluco\", \"blood sugar two hundr high\"], [\"blood sugar insulin level gluco\", \"intern organ human bodi help regul blood sugar level\"], [\"blood sugar insulin level gluco\", \"hemogluco test\"], [\"blood sugar insulin level gluco\", \"extrem critic indic diabet mellitu\"], [\"blood sugar insulin level gluco\", \"averag blood glucos level\"], [\"blood sugar insulin level gluco\", \"herbal remedi insulin resist\"], [\"blood sugar insulin level gluco\", \"suboxon increasw blood sugar level\"], [\"blood sugar insulin level gluco\", \"check blood sugar level\"], [\"blood sugar insulin level gluco\", \"blood sugar spike morn\"], [\"blood sugar insulin level gluco\", \"normal blood sugar level\"], [\"blood sugar insulin level gluco\", \"blood sugar level consid hypoglycemia\"], [\"blood sugar insulin level gluco\", \"effect insulin bodi\"], [\"blood sugar insulin level gluco\", \"fast blood sugar one hundr sixteen\"], [\"blood sugar insulin level gluco\", \"need salt blood sugar high\"], [\"blood sugar insulin level gluco\", \"suspens taken oral\"], [\"blood sugar insulin level gluco\", \"normal blood sugar rang fast\"], [\"blood sugar insulin level gluco\", \"produc transgen bacteria make insulin step research take first\"], [\"blood sugar insulin level gluco\", \"diabet serv size strawberri\"], [\"blood sugar insulin level gluco\", \"insulin use diabet obtain\"], [\"blood sugar insulin level gluco\", \"antibiot increas blood sugar\"], [\"blood sugar insulin level gluco\", \"blood sugar level rise secret\"], [\"blood sugar insulin level gluco\", \"less normal glucos level level low normal\"], [\"blood sugar insulin level gluco\", \"mani time day person diabet check blood sugar level\"], [\"blood sugar insulin level gluco\", \"caution take biguanid thiazolidinedion use treat insulin resist\"], [\"blood sugar insulin level gluco\", \"differ care person insulin shock diabet coma\"], [\"blood sugar insulin level gluco\", \"diabet control glucos level\"], [\"blood sugar insulin level gluco\", \"side affect lantu give\"], [\"blood sugar insulin level gluco\", \"bad glucos one hundr forti three\"], [\"blood sugar insulin level gluco\", \"kevin okyer\"], [\"blood sugar insulin level gluco\", \"drug class lantu insulin\"], [\"blood sugar insulin level gluco\", \"nondairi creamer bad diabet\"], [\"blood sugar insulin level gluco\", \"differ tuberculin syring insulin syring\"], [\"blood sugar insulin level gluco\", \"uric acid found\"], [\"blood sugar insulin level gluco\", \"diabet use cornstarch\"], [\"blood sugar insulin level gluco\", \"hypoglycemia\"], [\"blood sugar insulin level gluco\", \"post prandial\"], [\"blood sugar insulin level gluco\", \"recombin human insulin\"], [\"blood sugar insulin level gluco\", \"pancreat hormon increas blood sugar\"], [\"blood sugar insulin level gluco\", \"true result meter show error\"], [\"blood sugar insulin level gluco\", \"first discov diabet\"], [\"blood sugar insulin level gluco\", \"counter insulin good prescript insulin\"], [\"blood sugar insulin level gluco\", \"insulin use\"], [\"blood sugar insulin level gluco\", \"insulin taken oral\"], [\"blood sugar insulin level gluco\", \"glucos level three hundr seventi one\"], [\"blood sugar insulin level gluco\", \"six point three normal sugar human\"], [\"blood sugar insulin level gluco\", \"diabet discov\"], [\"blood sugar insulin level gluco\", \"diabet still take nytric efx\"], [\"blood sugar insulin level gluco\", \"type hormon insulin\"], [\"blood sugar insulin level gluco\", \"check sugar level good\"], [\"blood sugar insulin level gluco\", \"diabet requir insulin inject\"], [\"blood sugar insulin level gluco\", \"found insulin bodi\"], [\"blood sugar insulin level gluco\", \"insulin control sugar level\"], [\"blood sugar insulin level gluco\", \"criteria ppb diabet\"], [\"blood sugar insulin level gluco\", \"caus red blood cell count decreas\"], [\"blood sugar insulin level gluco\", \"addit take insulin one treat diabet\"], [\"blood sugar insulin level gluco\", \"insulin affect bodi\"], [\"blood sugar insulin level gluco\", \"relationship mahogani seed lower blood glucos\"], [\"blood sugar insulin level gluco\", \"take glucos tablet blood sugar high\"], [\"blood sugar insulin level gluco\", \"part human digest system produc insulin control sugar blood\"], [\"blood sugar insulin level gluco\", \"first insulin inject given\"], [\"blood sugar insulin level gluco\", \"synonym adher\"], [\"blood sugar insulin level gluco\", \"connect diabet enlarg prostat\"], [\"blood sugar insulin level gluco\", \"blood sugar level two hour eat\"], [\"blood sugar insulin level gluco\", \"blood sugar low hormon bodi produc help\"], [\"blood sugar insulin level gluco\", \"fast glucos test rang nineti eight one hundr fourteen\"], [\"blood sugar insulin level gluco\", \"one thousand nine hundr eighti nine chevi pu five point seven normal vacuum read\"], [\"blood sugar insulin level gluco\", \"function gonad\"], [\"blood sugar insulin level gluco\", \"substanc produc bacteria\"], [\"blood sugar insulin level gluco\", \"normal rang fast blood glucos\"], [\"blood sugar insulin level gluco\", \"glucos rais sugar level\"], [\"blood sugar insulin level gluco\", \"diseas blood glucos level normal\"], [\"blood sugar insulin level gluco\", \"insulin produc genet engin\"], [\"blood sugar insulin level gluco\", \"give long act insulin low blood sugar level\"], [\"blood sugar insulin level gluco\", \"alcohol drink diabet\"], [\"blood sugar insulin level gluco\", \"bolu insulin mean rapid insulin mix lent one\"], [\"blood sugar insulin level gluco\", \"diabet becom thin feel weak\"], [\"blood sugar insulin level gluco\", \"mani day one vial insulin last sig inject fifti unit sq qday\"], [\"blood sugar insulin level gluco\", \"glucos remov bloodstream\"], [\"blood sugar insulin level gluco\", \"tum rais blood sugar\"], [\"blood sugar insulin level gluco\", \"effect alcohol diabet type two\"], [\"blood sugar insulin level gluco\", \"start american diabet associ\"], [\"blood sugar insulin level gluco\", \"nine point nine glucos read high\"], [\"blood sugar insulin level gluco\", \"one hundr twelv high glucos read\"], [\"blood sugar insulin level gluco\", \"normal sugar human\"], [\"blood sugar insulin level gluco\", \"keyton danger diabet\"], [\"blood sugar insulin level gluco\", \"antibiot affect blood sugar level\"], [\"blood sugar insulin level gluco\", \"maintain blood glucos level\"], [\"blood sugar insulin level gluco\", \"blood sugar level read eaten\"], [\"blood sugar insulin level gluco\", \"organ organ system close associ malfunct call diabet\"], [\"blood sugar insulin level gluco\", \"peopl diabet carri insulin needl airplan\"], [\"blood sugar insulin level gluco\", \"dehydr affect high blood sugar\"], [\"blood sugar insulin level gluco\", \"sign low blood sugar\"], [\"blood sugar insulin level gluco\", \"happen blood sugar level properli regul\"], [\"blood sugar insulin level gluco\", \"diabet meter\"], [\"blood sugar insulin level gluco\", \"diabet patern test done still pregnant\"], [\"blood sugar insulin level gluco\", \"hypoglcemia\"], [\"blood sugar insulin level gluco\", \"normal blood glucos level adult\"], [\"blood sugar insulin level gluco\", \"alcohol bad diabet\"], [\"blood sugar insulin level gluco\", \"normal result fast blood sugar test\"], [\"blood sugar insulin level gluco\", \"blood sugar chart look\"], [\"blood sugar insulin level gluco\", \"salt pool salt system increas blood pressur\"], [\"blood sugar insulin level gluco\", \"tell patient need given glucos\"], [\"blood sugar insulin level gluco\", \"two organ involv regul blood sugar level bodi\"], [\"blood sugar insulin level gluco\", \"test find\"], [\"blood sugar insulin level gluco\", \"egg rais blood sugar\"], [\"blood sugar insulin level gluco\", \"glucos relat diabet\"], [\"blood sugar insulin level gluco\", \"purpos glucos toler test\"], [\"blood sugar insulin level gluco\", \"caus elev level blood glucos\"], [\"blood sugar insulin level gluco\", \"function dessic\"], [\"blood sugar insulin level gluco\", \"pharmacolog effect insulin\"], [\"blood sugar insulin level gluco\", \"insulin inject\"], [\"blood sugar insulin level gluco\", \"side effect paneer ka phool diabet patient\"], [\"blood sugar insulin level gluco\", \"blood test done diabet peopl\"], [\"blood sugar insulin level gluco\", \"insulin diabet\"], [\"blood sugar insulin level gluco\", \"immedetli lower blood sugar\"], [\"blood sugar insulin level gluco\", \"cholesterol poison\"], [\"blood sugar insulin level gluco\", \"mazda stink\"], [\"blood sugar insulin level gluco\", \"insulin use fraction urin coverag\"], [\"blood sugar insulin level gluco\", \"blood sugar number\"], [\"blood sugar insulin level gluco\", \"normal sugar level teenag\"], [\"blood sugar insulin level gluco\", \"must insulin inject taken mouth\"], [\"blood sugar insulin level gluco\", \"viral gastroenter caus rise blood sugar\"], [\"blood sugar insulin level gluco\", \"insulin refriger\"], [\"blood sugar insulin level gluco\", \"blood sugar tester\"], [\"blood sugar insulin level gluco\", \"salt tablet lower blood sugar\"], [\"blood sugar insulin level gluco\", \"post prandial blood sugar mean\"], [\"blood sugar insulin level gluco\", \"happen blood sugar low\"], [\"blood sugar insulin level gluco\", \"temp insulin store\"], [\"blood sugar insulin level gluco\", \"ancillari blood glucos test\"], [\"blood sugar insulin level gluco\", \"normal hormon test result premenopaus woman\"], [\"blood sugar insulin level gluco\", \"genet engin factor increas cost insulin\"], [\"blood sugar insulin level gluco\", \"gland essenti metabol carboydr reduc blood sugar\"], [\"blood sugar insulin level gluco\", \"blood sugar five hundr seventi five type insulin one take\"], [\"blood sugar insulin level gluco\", \"took insluin diabet\"], [\"blood sugar insulin level gluco\", \"nineti seven one hundr twenti blood sugar level within normal rang non diabet\"], [\"blood sugar insulin level gluco\", \"blood glucos level one hundr one high\"], [\"blood sugar insulin level gluco\", \"lidoderm rais blood sugar level\"], [\"blood sugar insulin level gluco\", \"cbc test\"], [\"blood sugar insulin level gluco\", \"symptom hypoglycemia low low\"], [\"blood sugar insulin level gluco\", \"pancrea releas blood glucos concentr increas\"], [\"blood sugar insulin level gluco\", \"diabet drink slim fast sugar\"], [\"blood sugar insulin level gluco\", \"glucos edibl\"], [\"blood sugar insulin level gluco\", \"insulin measur syring\"], [\"blood sugar insulin level gluco\", \"averag blood sugar past three week measur test\"], [\"blood sugar insulin level gluco\", \"illeg unwis someon prescrib slow act insulin use someon els fast act insulin instead refil prescript\"], [\"blood sugar insulin level gluco\", \"mani cc ten unit insulin\"], [\"blood sugar insulin level gluco\", \"normal sugar level\"], [\"blood sugar insulin level gluco\", \"diabet test strip univers\"], [\"blood sugar insulin level gluco\", \"nineti high blood sugar\"], [\"blood sugar insulin level gluco\", \"dead skin cell foot spa attract ant left contain hour mean diabet\"], [\"blood sugar insulin level gluco\", \"mani type sugar like blood sugar\"], [\"blood sugar insulin level gluco\", \"caus blood sugar drop rapidli\"], [\"blood sugar insulin level gluco\", \"tissu insulin depend\"], [\"blood sugar insulin level gluco\", \"blood sugar level chart\"], [\"blood sugar insulin level gluco\", \"mani tube drawn three hour glucos toler test\"], [\"blood sugar insulin level gluco\", \"diabet use insulin weightlift purpos\"], [\"blood sugar insulin level gluco\", \"teeth relat headach\"], [\"blood sugar insulin level gluco\", \"normal rang blood sugar test\"], [\"blood sugar insulin level gluco\", \"use printf insid isr\"], [\"blood sugar insulin level gluco\", \"energi store glucos molecul\"], [\"blood sugar insulin level gluco\", \"long take nph insulin nurs observ patient hypoglycemia\"], [\"blood sugar insulin level gluco\", \"patient need given glucos\"], [\"blood sugar insulin level gluco\", \"summar easi explain glucagon insulin work togeth maintain rel constant blood sugar level\"], [\"blood sugar insulin level gluco\", \"function endrogen insulin\"], [\"blood sugar insulin level gluco\", \"good blood sugar level femal\"], [\"blood sugar insulin level gluco\", \"would happen ate insulin tast\"], [\"blood sugar insulin level gluco\", \"clariten effect glucos read\"], [\"blood sugar insulin level gluco\", \"hormon inhibit insulin\"], [\"blood sugar insulin level gluco\", \"bolu use medicin\"], [\"blood sugar insulin level gluco\", \"ecoli make insulin\"], [\"blood sugar insulin level gluco\", \"mani diabet use insulin made certain bacteria abil bacteria produc insulin like result\"], [\"blood sugar insulin level gluco\", \"organel insulin synthes\"], [\"blood sugar insulin level gluco\", \"peopl diatbeat high low blood sugar\"], [\"blood sugar insulin level gluco\", \"mpv blood count\"], [\"blood sugar insulin level gluco\", \"two horomon regul blood sugar\"], [\"blood sugar insulin level gluco\", \"condit abnorm low concentr glucos blood call\"], [\"blood sugar insulin level gluco\", \"determin condit\"], [\"blood sugar insulin level gluco\", \"organ produc insulin\"], [\"blood sugar insulin level gluco\", \"long take novalog react high blood sugar\"], [\"blood sugar insulin level gluco\", \"normal glucos read\"], [\"blood sugar insulin level gluco\", \"powder glucos liquid glucos\"], [\"blood sugar insulin level gluco\", \"happen blood glucos level decreas\"], [\"blood sugar insulin level gluco\", \"organ bodi ineffect diabet\"], [\"blood sugar insulin level gluco\", \"normal depakot blood level\"], [\"blood sugar insulin level gluco\", \"glucos level blood high pancrea secret\"], [\"blood sugar insulin level gluco\", \"condit blood glucos level higher normal high enough diagnosi diabet\"], [\"blood sugar insulin level gluco\", \"mani test strip diabet use daili\"], [\"blood sugar insulin level gluco\", \"import keep blood glucos level within normal rang\"], [\"blood sugar insulin level gluco\", \"diabet muslim use insulin made dog pig pancrea fast day ramadan\"], [\"blood sugar insulin level gluco\", \"rang healthi person\"], [\"blood sugar insulin level gluco\", \"eighti four glucos mean\"], [\"blood sugar insulin level gluco\", \"high blood sugar level affect osmosi cell blood\"], [\"blood sugar insulin level gluco\", \"name hormon lower blood sugar level\"], [\"blood sugar insulin level gluco\", \"beta blocker caus hypoglycemia\"], [\"blood sugar insulin level gluco\", \"draw\"], [\"blood sugar insulin level gluco\", \"whiskey safe diabet\"], [\"blood sugar insulin level gluco\", \"althlet take glucos tablet run race\"], [\"blood sugar insulin level gluco\", \"would hungrier low high glucos level\"], [\"blood sugar insulin level gluco\", \"blood glucos meter work\"], [\"blood sugar insulin level gluco\", \"twenti four ml insulin high comsump\"], [\"blood sugar insulin level gluco\", \"type devic use check blood sugar\"], [\"blood sugar insulin level gluco\", \"hydrocortison affect diabet\"], [\"blood sugar insulin level gluco\", \"insulin transport liver\"], [\"blood sugar insulin level gluco\", \"advantag blood glucos monitor\"], [\"blood sugar insulin level gluco\", \"cocain affect blood sugar\"]], \"hovertemplate\": \"summary=%{customdata[0]}<br>pc_1=%{x}<br>pc_2=%{y}<br>pc_3=%{z}<br>sentence=%{customdata[1]}<extra></extra>\", \"legendgroup\": \"blood sugar insulin level gluco\", \"marker\": {\"color\": \"#ab63fa\", \"size\": 5, \"symbol\": \"circle\"}, \"mode\": \"markers\", \"name\": \"blood sugar insulin level gluco\", \"scene\": \"scene\", \"showlegend\": true, \"type\": \"scatter3d\", \"x\": [5.622998237609863, 8.054308891296387, 7.739436149597168, 4.058887481689453, 6.652635097503662, 2.245242118835449, 8.404194831848145, 2.3096725940704346, 7.175152778625488, 7.840108394622803, 3.0668389797210693, 8.248198509216309, 7.742382526397705, 5.258507251739502, 7.223212242126465, 6.242074012756348, 6.2311015129089355, 2.06671404838562, 8.273900985717773, 3.0463573932647705, 6.6629462242126465, 6.898741245269775, 3.521911382675171, 3.294268846511841, 8.918688774108887, 8.339241027832031, 4.106042861938477, 2.3842084407806396, 4.82717227935791, 3.2199511528015137, 8.667007446289062, 6.7161126136779785, 5.43173360824585, 8.211263656616211, 7.952122688293457, 2.713007688522339, 7.166450500488281, 2.35298490524292, 7.316009998321533, 2.1865665912628174, 2.331578493118286, 2.74934720993042, 7.352853298187256, 8.181900978088379, 7.24888801574707, 8.80491828918457, 4.841529369354248, 2.249729871749878, 3.7980270385742188, 2.9036049842834473, 5.562236785888672, 1.9720780849456787, 1.8163373470306396, 3.099849224090576, 3.03167462348938, 5.217389106750488, 7.824592590332031, 1.707800269126892, 2.937314987182617, 6.392239570617676, 3.00138783454895, 2.6707828044891357, 7.1155829429626465, 1.2535330057144165, 6.318344593048096, 2.1783041954040527, 3.1719939708709717, 7.326145172119141, 7.866125583648682, 3.6955583095550537, 7.868994235992432, 4.091372013092041, 7.3446526527404785, 3.1332623958587646, 7.070225238800049, 7.9738850593566895, 2.811638593673706, 7.815004348754883, 2.9066455364227295, 7.623369216918945, 7.615068435668945, 8.223868370056152, 2.2785184383392334, 3.1746883392333984, 2.2545247077941895, 2.4535019397735596, 8.340015411376953, 7.862793445587158, 7.726204872131348, 2.867070198059082, 6.100413799285889, 2.3096210956573486, 2.8740437030792236, 2.197284698486328, 6.537021160125732, 8.603558540344238, 1.8337548971176147, 2.483452796936035, 3.5747694969177246, 1.786358118057251, 2.9380288124084473, 3.8079442977905273, 8.02355670928955, 7.254040241241455, 3.4237284660339355, 8.336913108825684, 1.5594737529754639, 7.945339679718018, 8.326349258422852, 8.427860260009766, 0.9776281714439392, 4.290484428405762, 8.791242599487305, 2.9366564750671387, 2.7878427505493164, 7.4229655265808105, 2.5290162563323975, 9.446242332458496, 2.7663393020629883, 8.108368873596191, 2.9562127590179443, 4.535210132598877, 5.550448894500732, 2.2420291900634766, 4.672219753265381, 5.99039363861084, 6.554939270019531, 2.527082920074463, 4.423135280609131, 3.8143904209136963, 7.447778224945068, 1.825289011001587, 5.284788608551025, 8.953181266784668, 6.342624664306641, 8.133447647094727, 7.476996898651123, 6.136105060577393, 2.0789968967437744, 8.186461448669434, 2.804727077484131, 6.695949554443359, 7.329021453857422, 7.8880791664123535, 9.348518371582031, 3.119494915008545, 4.394669532775879, 6.608771800994873, 5.954195499420166, 3.9162049293518066, 8.030837059020996, 2.7466542720794678, 2.766090154647827, 5.919689655303955, 8.705029487609863, 2.3555819988250732, 2.9392285346984863, 8.005960464477539, 7.315082550048828, 3.586660146713257, 7.190523147583008, 5.473535537719727, 2.3441648483276367, 5.391811370849609, 2.3471133708953857, 6.751272201538086, 2.7160654067993164, 3.4789340496063232, 8.230161666870117, 3.4300360679626465, 3.4565446376800537, 7.564102649688721, 2.9643149375915527, 5.296030521392822, 1.5345371961593628, 7.541337966918945, 8.3789701461792, 2.933455228805542, 3.7660751342773438, 6.283874988555908, 8.698992729187012, 7.5944132804870605, 7.384631633758545, 8.353486061096191, 3.0340564250946045, 5.98736572265625, 3.6249735355377197, 3.1379506587982178, 4.990740776062012, 4.56756067276001, 8.482385635375977, 6.033219814300537, 7.155755519866943, 7.2506585121154785, 2.6302828788757324, 5.536722660064697, 7.861439228057861, 2.5167629718780518, 5.882089138031006, 0.9153022766113281, 7.886046886444092, 6.279764652252197, 4.114372253417969, 7.261569499969482, 3.2530338764190674, 2.2884745597839355, 2.3202426433563232, 3.0801756381988525, 4.49355936050415, 2.5450658798217773, 8.232705116271973, 2.4808008670806885, 3.3135082721710205, 2.306852340698242, 8.535801887512207, 5.7263593673706055, 8.649903297424316, 8.582417488098145, 7.026504039764404, 2.511763572692871, 7.845676422119141, 1.8385785818099976, 3.985736131668091, 5.944785118103027, 6.7718729972839355, 4.28018856048584, 5.57014799118042, 8.61328125, 4.012692928314209, 2.428034543991089, 2.885671854019165, 6.408923149108887, 8.287847518920898, 6.2559919357299805, 7.433100700378418, 2.2468974590301514, 8.17403793334961, 5.83776330947876, 6.349061489105225, 6.034468173980713, 3.3576481342315674, 3.56842303276062, 4.306044578552246, 6.603966236114502, 4.109638690948486, 5.386241436004639, 2.468524932861328], \"y\": [-16.064937591552734, -9.652562141418457, -5.292174816131592, -12.64889144897461, -7.8510355949401855, -16.428016662597656, -10.70907974243164, -10.546002388000488, -4.710693836212158, -7.06821346282959, -17.088712692260742, -12.295858383178711, -13.827010154724121, -16.157981872558594, -7.862603187561035, -14.2800931930542, -8.02823543548584, -16.094390869140625, -5.68720817565918, -16.879148483276367, -15.045790672302246, -5.974632740020752, -12.65321159362793, -3.608560800552368, -8.218344688415527, -6.520150184631348, -11.532463073730469, -17.60393714904785, -14.031942367553711, -5.839494228363037, -11.180682182312012, -4.191233158111572, -6.570005416870117, -6.006044387817383, -10.121170043945312, -10.95348072052002, -5.354464530944824, -7.93483829498291, -5.419455528259277, -4.169597148895264, -6.915914535522461, -9.491005897521973, -13.574230194091797, -13.783888816833496, -13.392887115478516, -5.984304904937744, -13.610408782958984, -4.341860294342041, -12.721436500549316, -11.833062171936035, -12.08514404296875, -16.00628089904785, -17.47431182861328, -7.586172580718994, -17.45577621459961, -13.52812385559082, -8.493280410766602, -16.34688377380371, -7.160943984985352, -5.221778869628906, -7.118928909301758, -11.28622817993164, -13.370633125305176, -17.62177848815918, -14.948060035705566, -4.4326982498168945, -6.701108455657959, -6.657753944396973, -13.49862003326416, -17.403636932373047, -7.564798831939697, -11.50582504272461, -6.947051048278809, -9.859532356262207, -8.037149429321289, -10.377924919128418, -17.420284271240234, -7.591614723205566, -7.879917144775391, -15.1195068359375, -13.992074966430664, -13.191890716552734, -7.709122657775879, -9.638496398925781, -7.440855979919434, -16.96725845336914, -11.741637229919434, -7.205470085144043, -6.668238639831543, -4.513454437255859, -9.973827362060547, -4.4716901779174805, -9.407073020935059, -7.615938186645508, -4.3369317054748535, -11.215507507324219, -6.92706823348999, -7.283186435699463, -12.752564430236816, -17.59456443786621, -5.137117862701416, -10.984224319458008, -8.32686996459961, -5.643784046173096, -11.382452964782715, -13.318360328674316, -17.7822208404541, -13.109100341796875, -11.793185234069824, -12.450236320495605, -17.668643951416016, -14.992168426513672, -5.744833469390869, -8.881473541259766, -9.527607917785645, -8.944621086120605, -4.8422532081604, -9.049904823303223, -8.637032508850098, -13.097851753234863, -12.488122940063477, -5.806344509124756, -4.192426681518555, -15.520400047302246, -16.913362503051758, -11.348891258239746, -4.110236644744873, -13.645108222961426, -16.333158493041992, -16.668418884277344, -3.8989014625549316, -6.892076015472412, -8.640955924987793, -5.860874652862549, -9.540060043334961, -11.810940742492676, -9.873624801635742, -6.550704002380371, -16.00755500793457, -11.354792594909668, -16.960693359375, -12.577470779418945, -10.123701095581055, -12.659045219421387, -9.137438774108887, -11.499313354492188, -15.83538818359375, -4.1972246170043945, -15.061972618103027, -15.67912483215332, -9.065796852111816, -8.105557441711426, -8.857888221740723, -7.7283806800842285, -5.747369289398193, -4.4182963371276855, -12.323507308959961, -8.153290748596191, -5.844010829925537, -4.754223823547363, -13.600558280944824, -11.883875846862793, -8.528692245483398, -13.804683685302734, -7.795468807220459, -12.917450904846191, -17.173385620117188, -15.994345664978027, -12.953330993652344, -10.270017623901367, -15.004366874694824, -15.164101600646973, -4.749427318572998, -9.125277519226074, -8.323481559753418, -7.053008079528809, -12.901718139648438, -17.26203727722168, -14.427445411682129, -15.4368896484375, -11.14161491394043, -15.146020889282227, -9.40609359741211, -11.557066917419434, -8.813465118408203, -11.046305656433105, -10.754559516906738, -8.096620559692383, -12.242264747619629, -16.002779006958008, -6.258527755737305, -10.803935050964355, -4.405027389526367, -13.400147438049316, -4.539872646331787, -15.156323432922363, -12.077876091003418, -4.60485315322876, -10.036051750183105, -17.701629638671875, -6.270256042480469, -15.23420238494873, -11.54209041595459, -13.287351608276367, -9.765058517456055, -7.533292293548584, -10.527752876281738, -8.383135795593262, -16.54800033569336, -8.602150917053223, -10.945345878601074, -8.272551536560059, -10.026233673095703, -8.497239112854004, -11.106354713439941, -14.23536491394043, -7.23050594329834, -11.329559326171875, -6.939796447753906, -8.289230346679688, -10.71756362915039, -17.592466354370117, -16.620620727539062, -16.05879020690918, -3.8435750007629395, -14.786833763122559, -16.891273498535156, -11.122562408447266, -12.66184139251709, -11.158546447753906, -6.105448246002197, -14.857705116271973, -10.944369316101074, -11.228276252746582, -15.321029663085938, -14.075865745544434, -9.797099113464355, -6.726423263549805, -15.721762657165527, -15.959319114685059, -16.25040626525879, -10.527786254882812, -11.825464248657227, -4.028480052947998, -11.538455963134766, -14.37564468383789, -16.07533836364746], \"z\": [3.161146879196167, 1.1712288856506348, -0.12064448744058609, 3.982797145843506, 0.6935446262359619, 3.4374232292175293, 1.368367314338684, 2.7845206260681152, -0.052782393991947174, 0.016000883653759956, 3.169459819793701, 2.1563589572906494, 2.9216389656066895, 3.2369487285614014, 0.730377197265625, 3.8148720264434814, 0.845151424407959, 3.48121976852417, -0.22542046010494232, 3.2853870391845703, 3.2274045944213867, -0.3275025188922882, 3.8919103145599365, -7.128812313079834, -0.39479175209999084, 0.8429863452911377, -6.896000385284424, 2.968885660171509, 4.068450450897217, -7.867045879364014, 4.139537334442139, -1.7420099973678589, -0.08262843638658524, -1.7232749462127686, 1.4159787893295288, 3.0347647666931152, -0.2645096182823181, -8.282052993774414, -0.4989011287689209, -6.6563191413879395, -7.844361782073975, -6.276910781860352, 3.3863253593444824, 1.1260437965393066, 3.459510326385498, -1.607670545578003, 4.0766096115112305, -6.541618824005127, 3.9411916732788086, 3.445627450942993, 3.710996150970459, 3.4903481006622314, 3.057023286819458, -8.19766902923584, 2.9662516117095947, 4.035895824432373, 0.8911200165748596, 3.387129545211792, -7.9828033447265625, -0.6792224049568176, -8.029911994934082, 3.1823570728302, 3.52935791015625, 3.0684878826141357, 3.561326265335083, -6.6807861328125, -7.940215587615967, 0.7579123973846436, 2.8659417629241943, 2.8530569076538086, 0.48513951897621155, -6.9075140953063965, 0.21255362033843994, -7.30112361907959, 0.74483323097229, 1.516743540763855, 3.0159168243408203, 0.4572676420211792, -7.71306037902832, 1.4355369806289673, 2.9866020679473877, 2.836130380630493, -7.5539727210998535, -7.714210033416748, -7.730234622955322, 3.2139859199523926, 1.7262096405029297, 0.5630121827125549, 0.4866945445537567, -7.428499698638916, 2.267423629760742, -6.999712944030762, -7.5432353019714355, -7.758555889129639, -1.6026901006698608, 3.9873974323272705, -6.912622928619385, -8.153910636901855, 3.9167089462280273, 3.029005765914917, -7.6010260581970215, -7.129802703857422, 0.764597475528717, -0.655687689781189, 3.3348703384399414, 0.9233183860778809, 2.99003267288208, 2.795717239379883, 1.8055915832519531, 1.1396540403366089, 3.086928367614746, 3.9360344409942627, -1.894965410232544, -7.859004497528076, -6.584083080291748, 1.102449893951416, -7.260422229766846, 0.056129321455955505, -8.189964294433594, 2.4459781646728516, 3.671126365661621, -6.887529373168945, -1.912346601486206, 3.6219913959503174, 2.8801450729370117, 3.3225650787353516, -1.8832216262817383, 3.715451717376709, 3.3698463439941406, 3.3171370029449463, -2.0114588737487793, -6.715658664703369, 1.7567676305770874, -1.9465833902359009, 1.9193249940872192, 2.2957279682159424, 1.573137640953064, -0.11191268265247345, 3.5036675930023193, 2.0216915607452393, 3.3873214721679688, 3.646739959716797, 1.8420672416687012, 2.7947165966033936, 0.1960034817457199, 3.3511345386505127, 3.6242053508758545, -1.977254867553711, 3.6088411808013916, 3.893444299697876, 1.0086541175842285, -8.291646003723145, -8.020245552062988, 0.6868033409118652, -1.8612258434295654, -6.997684478759766, 3.6176958084106445, 0.7642229199409485, -0.4606378972530365, -7.75258207321167, 3.4510669708251953, 3.651005268096924, -7.006579875946045, 4.03023624420166, -8.214776039123535, 3.6755638122558594, 3.096025228500366, 3.643690586090088, 2.2425308227539062, -7.397332668304443, 3.8969130516052246, 1.5354735851287842, -7.515371799468994, 2.1786961555480957, -8.018507957458496, 0.3897242546081543, 3.2335407733917236, 3.1112849712371826, 4.000465393066406, 3.2420284748077393, 4.337298393249512, 1.4817626476287842, 1.3621656894683838, 1.619258999824524, -7.900532245635986, 3.1884918212890625, -6.985098361968994, -8.15953540802002, 3.819084644317627, 3.6873042583465576, -1.2081358432769775, 3.0541841983795166, -0.9895282983779907, 3.5106451511383057, -7.26268196105957, 3.687614917755127, 4.030828475952148, -7.1737189292907715, 2.3948774337768555, 3.085150957107544, -0.6847171187400818, 3.3682260513305664, -6.8658952713012695, 3.433497667312622, -7.700776100158691, -8.095998764038086, 2.77597713470459, -7.826014041900635, 3.2295823097229004, -8.082409858703613, 1.501022219657898, -7.601195812225342, -7.398805618286133, -7.269150257110596, 3.815730094909668, 3.893723249435425, -0.9352888464927673, 4.153085231781006, -0.11984724551439285, -8.141754150390625, 1.7816411256790161, 3.0234992504119873, 3.30759334564209, 2.9830551147460938, -1.6224526166915894, 3.984968662261963, 2.2887179851531982, 4.075235366821289, 3.972836971282959, 3.089123010635376, -7.845001220703125, 3.4718358516693115, 1.5630414485931396, 3.1794793605804443, 1.6056287288665771, 3.665010690689087, 1.1635146141052246, 0.1688106507062912, 2.970144271850586, 3.0092227458953857, 3.5969080924987793, -7.313309669494629, -6.62609338760376, -2.112102746963501, -6.891759395599365, 3.9494993686676025, 3.5400497913360596]}, {\"customdata\": [[\"cau effect eye get affect\", \"hormon produc inadequ would caus sexual immatur\"], [\"cau effect eye get affect\", \"world diabet commonli found\"], [\"cau effect eye get affect\", \"diabet effect circulatori system\"], [\"cau effect eye get affect\", \"mean eye go cross eye get dizzi\"], [\"cau effect eye get affect\", \"effect ph diabet ketoacidosi\"], [\"cau effect eye get affect\", \"alcohol caus diabet\"], [\"cau effect eye get affect\", \"tell sugar enter bodi\"], [\"cau effect eye get affect\", \"number one caus adult us diabet\"], [\"cau effect eye get affect\", \"organ malfunct caus diabet\"], [\"cau effect eye get affect\", \"diabet affect fertil\"], [\"cau effect eye get affect\", \"diabet affect kidney\"], [\"cau effect eye get affect\", \"diagnos diabet insipidu\"], [\"cau effect eye get affect\", \"diabet get pregent\"], [\"cau effect eye get affect\", \"caus low fever\"], [\"cau effect eye get affect\", \"creatinin test diabet type two peopl rang result healthi peopl\"]], \"hovertemplate\": \"summary=%{customdata[0]}<br>pc_1=%{x}<br>pc_2=%{y}<br>pc_3=%{z}<br>sentence=%{customdata[1]}<extra></extra>\", \"legendgroup\": \"cau effect eye get affect\", \"marker\": {\"color\": \"#FFA15A\", \"size\": 5, \"symbol\": \"circle\"}, \"mode\": \"markers\", \"name\": \"cau effect eye get affect\", \"scene\": \"scene\", \"showlegend\": true, \"type\": \"scatter3d\", \"x\": [6.909396648406982, 6.616960525512695, 6.63651180267334, 7.793333530426025, 6.570674896240234, 7.277734756469727, 6.553188800811768, 7.387905120849609, 6.740967750549316, 6.451018333435059, 6.978868007659912, 7.112390041351318, 7.135354518890381, 6.728832244873047, 6.286105155944824], \"y\": [3.6830179691314697, 3.298959255218506, 2.312701463699341, 2.9457995891571045, 3.9546797275543213, 3.0519046783447266, 1.9249448776245117, 3.529597520828247, 1.886422872543335, 2.7056806087493896, 3.198329210281372, 2.6051430702209473, 3.2472734451293945, 2.550016403198242, 2.2696712017059326], \"z\": [-4.648133277893066, -4.376771926879883, -4.672360897064209, -4.224404811859131, -4.368588924407959, -4.391998767852783, -4.746870517730713, -4.2441534996032715, -4.711779594421387, -4.335080623626709, -4.371124744415283, -4.350902080535889, -4.219438552856445, -4.40444803237915, -5.126051425933838]}],                        {\"height\": 500, \"legend\": {\"itemclick\": \"toggleothers\", \"title\": {\"text\": \"Cluster Summaries\"}, \"tracegroupgap\": 0}, \"margin\": {\"t\": 60}, \"scene\": {\"domain\": {\"x\": [0.0, 1.0], \"y\": [0.0, 1.0]}, \"xaxis\": {\"title\": {\"text\": \"pc_1\"}}, \"yaxis\": {\"title\": {\"text\": \"pc_2\"}}, \"zaxis\": {\"title\": {\"text\": \"pc_3\"}}}, \"template\": {\"data\": {\"bar\": [{\"error_x\": {\"color\": \"#2a3f5f\"}, \"error_y\": {\"color\": \"#2a3f5f\"}, \"marker\": {\"line\": {\"color\": \"#E5ECF6\", \"width\": 0.5}}, \"type\": \"bar\"}], \"barpolar\": [{\"marker\": {\"line\": {\"color\": \"#E5ECF6\", \"width\": 0.5}}, \"type\": \"barpolar\"}], \"carpet\": [{\"aaxis\": {\"endlinecolor\": \"#2a3f5f\", \"gridcolor\": \"white\", \"linecolor\": \"white\", \"minorgridcolor\": \"white\", \"startlinecolor\": \"#2a3f5f\"}, \"baxis\": {\"endlinecolor\": \"#2a3f5f\", \"gridcolor\": \"white\", \"linecolor\": \"white\", \"minorgridcolor\": \"white\", \"startlinecolor\": \"#2a3f5f\"}, \"type\": \"carpet\"}], \"choropleth\": [{\"colorbar\": {\"outlinewidth\": 0, \"ticks\": \"\"}, \"type\": \"choropleth\"}], \"contour\": [{\"colorbar\": {\"outlinewidth\": 0, \"ticks\": \"\"}, \"colorscale\": [[0.0, \"#0d0887\"], [0.1111111111111111, \"#46039f\"], [0.2222222222222222, \"#7201a8\"], [0.3333333333333333, \"#9c179e\"], [0.4444444444444444, \"#bd3786\"], [0.5555555555555556, \"#d8576b\"], [0.6666666666666666, \"#ed7953\"], [0.7777777777777778, \"#fb9f3a\"], [0.8888888888888888, \"#fdca26\"], [1.0, \"#f0f921\"]], \"type\": \"contour\"}], \"contourcarpet\": [{\"colorbar\": {\"outlinewidth\": 0, \"ticks\": \"\"}, \"type\": \"contourcarpet\"}], \"heatmap\": [{\"colorbar\": {\"outlinewidth\": 0, \"ticks\": \"\"}, \"colorscale\": [[0.0, \"#0d0887\"], [0.1111111111111111, \"#46039f\"], [0.2222222222222222, \"#7201a8\"], [0.3333333333333333, \"#9c179e\"], [0.4444444444444444, \"#bd3786\"], [0.5555555555555556, \"#d8576b\"], [0.6666666666666666, \"#ed7953\"], [0.7777777777777778, \"#fb9f3a\"], [0.8888888888888888, \"#fdca26\"], [1.0, \"#f0f921\"]], \"type\": \"heatmap\"}], \"heatmapgl\": [{\"colorbar\": {\"outlinewidth\": 0, \"ticks\": \"\"}, \"colorscale\": [[0.0, \"#0d0887\"], [0.1111111111111111, \"#46039f\"], [0.2222222222222222, \"#7201a8\"], [0.3333333333333333, \"#9c179e\"], [0.4444444444444444, \"#bd3786\"], [0.5555555555555556, \"#d8576b\"], [0.6666666666666666, \"#ed7953\"], [0.7777777777777778, \"#fb9f3a\"], [0.8888888888888888, \"#fdca26\"], [1.0, \"#f0f921\"]], \"type\": \"heatmapgl\"}], \"histogram\": [{\"marker\": {\"colorbar\": {\"outlinewidth\": 0, \"ticks\": \"\"}}, \"type\": \"histogram\"}], \"histogram2d\": [{\"colorbar\": {\"outlinewidth\": 0, \"ticks\": \"\"}, \"colorscale\": [[0.0, \"#0d0887\"], [0.1111111111111111, \"#46039f\"], [0.2222222222222222, \"#7201a8\"], [0.3333333333333333, \"#9c179e\"], [0.4444444444444444, \"#bd3786\"], [0.5555555555555556, \"#d8576b\"], [0.6666666666666666, \"#ed7953\"], [0.7777777777777778, \"#fb9f3a\"], [0.8888888888888888, \"#fdca26\"], [1.0, \"#f0f921\"]], \"type\": \"histogram2d\"}], \"histogram2dcontour\": [{\"colorbar\": {\"outlinewidth\": 0, \"ticks\": \"\"}, \"colorscale\": [[0.0, \"#0d0887\"], [0.1111111111111111, \"#46039f\"], [0.2222222222222222, \"#7201a8\"], [0.3333333333333333, \"#9c179e\"], [0.4444444444444444, \"#bd3786\"], [0.5555555555555556, \"#d8576b\"], [0.6666666666666666, \"#ed7953\"], [0.7777777777777778, \"#fb9f3a\"], [0.8888888888888888, \"#fdca26\"], [1.0, \"#f0f921\"]], \"type\": \"histogram2dcontour\"}], \"mesh3d\": [{\"colorbar\": {\"outlinewidth\": 0, \"ticks\": \"\"}, \"type\": \"mesh3d\"}], \"parcoords\": [{\"line\": {\"colorbar\": {\"outlinewidth\": 0, \"ticks\": \"\"}}, \"type\": \"parcoords\"}], \"pie\": [{\"automargin\": true, \"type\": \"pie\"}], \"scatter\": [{\"marker\": {\"colorbar\": {\"outlinewidth\": 0, \"ticks\": \"\"}}, \"type\": \"scatter\"}], \"scatter3d\": [{\"line\": {\"colorbar\": {\"outlinewidth\": 0, \"ticks\": \"\"}}, \"marker\": {\"colorbar\": {\"outlinewidth\": 0, \"ticks\": \"\"}}, \"type\": \"scatter3d\"}], \"scattercarpet\": [{\"marker\": {\"colorbar\": {\"outlinewidth\": 0, \"ticks\": \"\"}}, \"type\": \"scattercarpet\"}], \"scattergeo\": [{\"marker\": {\"colorbar\": {\"outlinewidth\": 0, \"ticks\": \"\"}}, \"type\": \"scattergeo\"}], \"scattergl\": [{\"marker\": {\"colorbar\": {\"outlinewidth\": 0, \"ticks\": \"\"}}, \"type\": \"scattergl\"}], \"scattermapbox\": [{\"marker\": {\"colorbar\": {\"outlinewidth\": 0, \"ticks\": \"\"}}, \"type\": \"scattermapbox\"}], \"scatterpolar\": [{\"marker\": {\"colorbar\": {\"outlinewidth\": 0, \"ticks\": \"\"}}, \"type\": \"scatterpolar\"}], \"scatterpolargl\": [{\"marker\": {\"colorbar\": {\"outlinewidth\": 0, \"ticks\": \"\"}}, \"type\": \"scatterpolargl\"}], \"scatterternary\": [{\"marker\": {\"colorbar\": {\"outlinewidth\": 0, \"ticks\": \"\"}}, \"type\": \"scatterternary\"}], \"surface\": [{\"colorbar\": {\"outlinewidth\": 0, \"ticks\": \"\"}, \"colorscale\": [[0.0, \"#0d0887\"], [0.1111111111111111, \"#46039f\"], [0.2222222222222222, \"#7201a8\"], [0.3333333333333333, \"#9c179e\"], [0.4444444444444444, \"#bd3786\"], [0.5555555555555556, \"#d8576b\"], [0.6666666666666666, \"#ed7953\"], [0.7777777777777778, \"#fb9f3a\"], [0.8888888888888888, \"#fdca26\"], [1.0, \"#f0f921\"]], \"type\": \"surface\"}], \"table\": [{\"cells\": {\"fill\": {\"color\": \"#EBF0F8\"}, \"line\": {\"color\": \"white\"}}, \"header\": {\"fill\": {\"color\": \"#C8D4E3\"}, \"line\": {\"color\": \"white\"}}, \"type\": \"table\"}]}, \"layout\": {\"annotationdefaults\": {\"arrowcolor\": \"#2a3f5f\", \"arrowhead\": 0, \"arrowwidth\": 1}, \"autotypenumbers\": \"strict\", \"coloraxis\": {\"colorbar\": {\"outlinewidth\": 0, \"ticks\": \"\"}}, \"colorscale\": {\"diverging\": [[0, \"#8e0152\"], [0.1, \"#c51b7d\"], [0.2, \"#de77ae\"], [0.3, \"#f1b6da\"], [0.4, \"#fde0ef\"], [0.5, \"#f7f7f7\"], [0.6, \"#e6f5d0\"], [0.7, \"#b8e186\"], [0.8, \"#7fbc41\"], [0.9, \"#4d9221\"], [1, \"#276419\"]], \"sequential\": [[0.0, \"#0d0887\"], [0.1111111111111111, \"#46039f\"], [0.2222222222222222, \"#7201a8\"], [0.3333333333333333, \"#9c179e\"], [0.4444444444444444, \"#bd3786\"], [0.5555555555555556, \"#d8576b\"], [0.6666666666666666, \"#ed7953\"], [0.7777777777777778, \"#fb9f3a\"], [0.8888888888888888, \"#fdca26\"], [1.0, \"#f0f921\"]], \"sequentialminus\": [[0.0, \"#0d0887\"], [0.1111111111111111, \"#46039f\"], [0.2222222222222222, \"#7201a8\"], [0.3333333333333333, \"#9c179e\"], [0.4444444444444444, \"#bd3786\"], [0.5555555555555556, \"#d8576b\"], [0.6666666666666666, \"#ed7953\"], [0.7777777777777778, \"#fb9f3a\"], [0.8888888888888888, \"#fdca26\"], [1.0, \"#f0f921\"]]}, \"colorway\": [\"#636efa\", \"#EF553B\", \"#00cc96\", \"#ab63fa\", \"#FFA15A\", \"#19d3f3\", \"#FF6692\", \"#B6E880\", \"#FF97FF\", \"#FECB52\"], \"font\": {\"color\": \"#2a3f5f\"}, \"geo\": {\"bgcolor\": \"white\", \"lakecolor\": \"white\", \"landcolor\": \"#E5ECF6\", \"showlakes\": true, \"showland\": true, \"subunitcolor\": \"white\"}, \"hoverlabel\": {\"align\": \"left\"}, \"hovermode\": \"closest\", \"mapbox\": {\"style\": \"light\"}, \"paper_bgcolor\": \"white\", \"plot_bgcolor\": \"#E5ECF6\", \"polar\": {\"angularaxis\": {\"gridcolor\": \"white\", \"linecolor\": \"white\", \"ticks\": \"\"}, \"bgcolor\": \"#E5ECF6\", \"radialaxis\": {\"gridcolor\": \"white\", \"linecolor\": \"white\", \"ticks\": \"\"}}, \"scene\": {\"xaxis\": {\"backgroundcolor\": \"#E5ECF6\", \"gridcolor\": \"white\", \"gridwidth\": 2, \"linecolor\": \"white\", \"showbackground\": true, \"ticks\": \"\", \"zerolinecolor\": \"white\"}, \"yaxis\": {\"backgroundcolor\": \"#E5ECF6\", \"gridcolor\": \"white\", \"gridwidth\": 2, \"linecolor\": \"white\", \"showbackground\": true, \"ticks\": \"\", \"zerolinecolor\": \"white\"}, \"zaxis\": {\"backgroundcolor\": \"#E5ECF6\", \"gridcolor\": \"white\", \"gridwidth\": 2, \"linecolor\": \"white\", \"showbackground\": true, \"ticks\": \"\", \"zerolinecolor\": \"white\"}}, \"shapedefaults\": {\"line\": {\"color\": \"#2a3f5f\"}}, \"ternary\": {\"aaxis\": {\"gridcolor\": \"white\", \"linecolor\": \"white\", \"ticks\": \"\"}, \"baxis\": {\"gridcolor\": \"white\", \"linecolor\": \"white\", \"ticks\": \"\"}, \"bgcolor\": \"#E5ECF6\", \"caxis\": {\"gridcolor\": \"white\", \"linecolor\": \"white\", \"ticks\": \"\"}}, \"title\": {\"x\": 0.05}, \"xaxis\": {\"automargin\": true, \"gridcolor\": \"white\", \"linecolor\": \"white\", \"ticks\": \"\", \"title\": {\"standoff\": 15}, \"zerolinecolor\": \"white\", \"zerolinewidth\": 2}, \"yaxis\": {\"automargin\": true, \"gridcolor\": \"white\", \"linecolor\": \"white\", \"ticks\": \"\", \"title\": {\"standoff\": 15}, \"zerolinecolor\": \"white\", \"zerolinewidth\": 2}}}, \"title\": {\"text\": \"Projected Question Vector Manifold\"}},                        {\"responsive\": true}                    ).then(function(){\n",
       "                            \n",
       "var gd = document.getElementById('407de342-baaf-46fc-9fd6-031c016c95b2');\n",
       "var x = new MutationObserver(function (mutations, observer) {{\n",
       "        var display = window.getComputedStyle(gd).display;\n",
       "        if (!display || display === 'none') {{\n",
       "            console.log([gd, 'removed!']);\n",
       "            Plotly.purge(gd);\n",
       "            observer.disconnect();\n",
       "        }}\n",
       "}});\n",
       "\n",
       "// Listen for the removal of the full notebook cells\n",
       "var notebookContainer = gd.closest('#notebook-container');\n",
       "if (notebookContainer) {{\n",
       "    x.observe(notebookContainer, {childList: true});\n",
       "}}\n",
       "\n",
       "// Listen for the clearing of the current output cell\n",
       "var outputEl = gd.closest('.output');\n",
       "if (outputEl) {{\n",
       "    x.observe(outputEl, {childList: true});\n",
       "}}\n",
       "\n",
       "                        })                };                });            </script>        </div>"
      ]
     },
     "metadata": {},
     "output_type": "display_data"
    }
   ],
   "source": [
    "fig = px.scatter_3d(\n",
    "    df, x='pc_1', y='pc_2', z='pc_3', color='summary', \n",
    "    hover_data=['summary', 'sentence'])\n",
    "fig.update_traces(marker_size=5)\n",
    "fig.update_layout(\n",
    "    title='Projected Question Vector Manifold',\n",
    "    legend={'title': 'Cluster Summaries', 'itemclick': 'toggleothers'},\n",
    "    height=500,\n",
    ")\n",
    "fig.show()"
   ]
  },
  {
   "cell_type": "code",
   "execution_count": null,
   "metadata": {},
   "outputs": [],
   "source": []
  }
 ],
 "metadata": {
  "kernelspec": {
   "display_name": "Python 3",
   "language": "python",
   "name": "python3"
  },
  "language_info": {
   "codemirror_mode": {
    "name": "ipython",
    "version": 3
   },
   "file_extension": ".py",
   "mimetype": "text/x-python",
   "name": "python",
   "nbconvert_exporter": "python",
   "pygments_lexer": "ipython3",
   "version": "3.8.10"
  }
 },
 "nbformat": 4,
 "nbformat_minor": 4
}
