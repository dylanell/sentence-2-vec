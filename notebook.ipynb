{
 "cells": [
  {
   "cell_type": "markdown",
   "metadata": {},
   "source": [
    "# Learning Sentence Representations from Question-Answer Pairs\n",
    "\n",
    "In this project, we explore methods to learn fixed length vector representations for variable lengthed \"short\" sentences (on the order of at most around 50 words) of text data. These \"short\" sentences are questions scraped from an online forum like answers.com, and each sample is accompanied by the top response (answer) corresponding to each question. We use question-answer data scraped from an online forum because the \"label\" (answer) for each training sample (question) is free. We use quotes around the word \"label\" because these labels are more like \"soft labels\" since they are responses taken verbatim from the general public. Our goal is to use these labels in order to learn sentence representations from within a specific topic domain (like \"diabetes\")."
   ]
  },
  {
   "cell_type": "markdown",
   "metadata": {},
   "source": [
    "### Text-based Representation Learning\n",
    "\n",
    "The application of understanding user questions might be the starting point if you are attempting to build a chatbot to automatically handle customer queries. As an initial step, you might want to cluster queries into different high-level feature categories, requiring a numerical learned feature representation of consistent dimensionality for all queries. A fully supervised approach could potentially work for this, where a model is trained to output the correct answer given a quesion, but would most likely require a lot of data and some clever model design and depend too heavily on the answer \"labels\" which may sometimes be donwright wrong. On the other hand, this could be attempted in an entirely unsupervised manner, perhaps by learning to unscramble augmented question strings or impute missing words. Unsupervised methods may learn to bias too heavily towards unexpected features (like individual words or low-level grammatical logic), and still, we have useful information nonetheless in the answers, so why not try to use this. The method we choose here involves using comparison-based learning samples (between questions and answers) in order to directly learn a feature representation for text-based inputs. Specifically, by constructing \"positive\" question-answer pairs, where the paired answer is the \"correct\" answer, and \"negative\" question-answer pairs, where the paired answer is the \"incorrect\" answer, we can train a model to simply discriminate between these two pairs. Usually this is done by satisfying some criterion based on a distance/similarity measurement in a learned, fixed-dimensionality feature space, requiring that samples from a \"positive\" pair be mapped closer together (on average) than samples form a \"negative\" pair. Here, we explore the learned features for some of these comparison-based representation learning models, including the [Triplet Network](https://arxiv.org/pdf/1412.6622.pdf) and the [Siamese Network](https://papers.nips.cc/paper/1993/file/288cc0ff022877bd3df94bc9360b9c5d-Paper.pdf). "
   ]
  },
  {
   "cell_type": "markdown",
   "metadata": {},
   "source": [
    "### Training the Models"
   ]
  },
  {
   "cell_type": "markdown",
   "metadata": {},
   "source": [
    "### Exploring Learned Representations"
   ]
  },
  {
   "cell_type": "markdown",
   "metadata": {},
   "source": [
    "#### 1. Setup\n",
    "\n",
    "Import packages and load learned feature representation data files."
   ]
  },
  {
   "cell_type": "code",
   "execution_count": 1,
   "metadata": {},
   "outputs": [],
   "source": [
    "import torch\n",
    "import pandas as pd\n",
    "import numpy as np\n",
    "\n",
    "data_dir = '/home/dylan/trained_model_files/pytorch/sentence2vec/'\n",
    "out_dir = '/tmp/'\n",
    "\n",
    "# load validation question and answer token lists\n",
    "with open('{}margin_val_question_tok.txt'.format(data_dir), 'r') as fp:\n",
    "    val_question_tok = [line.strip('\\n') for line in fp]\n",
    "with open('{}margin_val_answer_tok.txt'.format(data_dir), 'r') as fp:\n",
    "    val_answer_tok = [line.strip('\\n') for line in fp]\n",
    "    \n",
    "# load validation question and answer vectors\n",
    "val_question_vec = torch.tensor(np.genfromtxt(\n",
    "    '{}margin_val_question_vec.txt'.format(data_dir), delimiter=','))\n",
    "val_answer_vec = torch.tensor(np.genfromtxt(\n",
    "    '{}margin_val_answer_vec.txt'.format(data_dir), delimiter=','))"
   ]
  },
  {
   "cell_type": "markdown",
   "metadata": {},
   "source": [
    "#### 2. K-nearest Neighbors\n",
    "\n",
    "For each question in the validation set, compute the k-nearest neighbors ($k=3$) within the learned feature space and write these neighbors, along with the original question, to a csv file. "
   ]
  },
  {
   "cell_type": "code",
   "execution_count": 2,
   "metadata": {},
   "outputs": [],
   "source": [
    "# k nearest neighbors dataframe\n",
    "knn_df = pd.DataFrame(columns=['question', 'neighbor_1', 'neighbor_2', 'neighbor_3'])\n",
    "\n",
    "# iterate through question sample texts\n",
    "for i, sample in enumerate(val_question_tok):\n",
    "    # create a stacked array of the anchor question\n",
    "    vec = val_question_vec[i].unsqueeze(0).repeat(len(val_question_vec)-1, 1)\n",
    "    \n",
    "    # compute pairwise cosine similarity b/w anchor question and every other question\n",
    "    dists = torch.nn.functional.cosine_similarity(\n",
    "        vec, torch.cat([val_question_vec[:i], val_question_vec[i+1:]]), dim=1)\n",
    "    knns = torch.argsort(dists, descending=True)[:4].long()\n",
    "    \n",
    "    # compute euclidiean pairwise dist b/w anchor question and every other question\n",
    "    #dists = torch.nn.functional.pairwise_distance(\n",
    "    #    vec, torch.cat([val_question_vec[:i], val_question_vec[i+1:]]), p=1.0)\n",
    "    #knns = torch.argsort(dists, descending=False)[:4].long()\n",
    "    \n",
    "    knn_df = knn_df.append({\n",
    "        'question': sample,\n",
    "        'neighbor_1': val_question_tok[knns[0].item()],\n",
    "        'neighbor_2': val_question_tok[knns[1].item()],\n",
    "        'neighbor_3': val_question_tok[knns[2].item()],\n",
    "    }, ignore_index=True)\n",
    "    \n",
    "# save question neighbors\n",
    "knn_df.to_csv('{}question_knns.csv'.format(out_dir), index=False)"
   ]
  },
  {
   "cell_type": "code",
   "execution_count": 3,
   "metadata": {},
   "outputs": [
    {
     "name": "stdout",
     "output_type": "stream",
     "text": [
      "question      why does a diabetic person has high blood suga...\n",
      "neighbor_1         what are the best choices of diabetic food ?\n",
      "neighbor_2    what is the normal <unk> of glucose in 100ml o...\n",
      "neighbor_3                           define diabetes mellitus ?\n",
      "Name: 116, dtype: object\n",
      "\n",
      "question             can diabetes affect a tattoo ?\n",
      "neighbor_1            does diabetes get passed on ?\n",
      "neighbor_2    what should my blood sugar level be ?\n",
      "neighbor_3          can someone die from diabetes ?\n",
      "Name: 895, dtype: object\n",
      "\n",
      "question         is marijuana a benefit to type one diabetics ?\n",
      "neighbor_1                         is honey good for diabetes ?\n",
      "neighbor_2    can being upset cause blood sugar to drop with...\n",
      "neighbor_3         can you take viagra with type two diabetes ?\n",
      "Name: 930, dtype: object\n",
      "\n",
      "question      how can you tell the difference between a drun...\n",
      "neighbor_1                          can a diabetic smoke weed ?\n",
      "neighbor_2    will being diabetic affect the result of a pre...\n",
      "neighbor_3    will <unk> not show up in a drug test if youre...\n",
      "Name: 2530, dtype: object\n",
      "\n",
      "question                                 making eating easy ?\n",
      "neighbor_1                                 prevent diabetes ?\n",
      "neighbor_2    will drinking water affect your diabetes test ?\n",
      "neighbor_3            do you suspect that you have diabetes ?\n",
      "Name: 710, dtype: object\n",
      "\n",
      "question      what is the normal <unk> of glucose in 100ml o...\n",
      "neighbor_1      what lowers the level of glucose in the blood ?\n",
      "neighbor_2    what are the ideal numbers for fasting glucose...\n",
      "neighbor_3    what does a decreasing level of cea in the blo...\n",
      "Name: 2975, dtype: object\n",
      "\n",
      "question      what is the number that determines high blood ...\n",
      "neighbor_1    is type two diabetes known as insulin-dependen...\n",
      "neighbor_2                             is diabetes an allergy ?\n",
      "neighbor_3                   is type two diabetic preventable ?\n",
      "Name: 118, dtype: object\n",
      "\n",
      "question      explain the relationship between type two diab...\n",
      "neighbor_1                             treatment for diabetes ?\n",
      "neighbor_2    how long till you have a cure for type two dia...\n",
      "neighbor_3               how can i treat my type two diabetes ?\n",
      "Name: 2847, dtype: object\n",
      "\n",
      "question                      how do you develop diabetes two ?\n",
      "neighbor_1    which endocrine gland releases a hormone that ...\n",
      "neighbor_2    what are recent books with tasty diabetic food...\n",
      "neighbor_3        can people with type one diabetes use <unk> ?\n",
      "Name: 1461, dtype: object\n",
      "\n",
      "question      what could you do if you could not control dia...\n",
      "neighbor_1                   how do you get diabetes type one ?\n",
      "neighbor_2    <unk> of insulin <unk> how much amount of gluc...\n",
      "neighbor_3    how do you know if you have type one or type t...\n",
      "Name: 527, dtype: object\n",
      "\n"
     ]
    }
   ],
   "source": [
    "for i in range(10):\n",
    "    print(knn_df.iloc[np.random.randint(len(knn_df))])\n",
    "    print('')"
   ]
  },
  {
   "cell_type": "markdown",
   "metadata": {},
   "source": [
    "#### 3. Clustering\n",
    "\n",
    "Perform DBSCAN clustering on question representations from the validation set."
   ]
  },
  {
   "cell_type": "code",
   "execution_count": 4,
   "metadata": {},
   "outputs": [],
   "source": [
    "from sklearn.manifold import TSNE\n",
    "\n",
    "tsne = TSNE(n_components=3, metric='cosine')\n",
    "val_question_proj = tsne.fit_transform(val_question_vec)"
   ]
  },
  {
   "cell_type": "code",
   "execution_count": 14,
   "metadata": {},
   "outputs": [
    {
     "name": "stdout",
     "output_type": "stream",
     "text": [
      "26 clusters found\n"
     ]
    },
    {
     "data": {
      "application/vnd.plotly.v1+json": {
       "config": {
        "plotlyServerURL": "https://plot.ly"
       },
       "data": [
        {
         "customdata": [
          [
           "are dates harmful for a diabetic ?"
          ],
          [
           "what is gestational diabetes and what are the sign and symptoms ?"
          ],
          [
           "what type of diet is best for the treatment of diabetes ?"
          ],
          [
           "where in the cell are <unk> located ?"
          ],
          [
           "the organ located near the stomach that makes insulin ?"
          ],
          [
           "what is the nursing intervention for the dehydration ?"
          ],
          [
           "why does the risk for developing diabetes increase with age ?"
          ],
          [
           "if you are diabetic what foods should you avoid ?"
          ],
          [
           "are dry eyes and dry mouth symptoms of diabetes ?"
          ],
          [
           "does type two diabetes cause toe problems ?"
          ],
          [
           "what type of cereal is good for a person with diabetes ?"
          ],
          [
           "what may be the cause of diabetic neuropathy ?"
          ],
          [
           "your sugar stays high a lot but when it is normal for a few days your whole body swells with fluid what could cause this ?"
          ],
          [
           "what food should diabetics avoid ?"
          ],
          [
           "is there anywhere i can get free supplies for blood sugar testing ?"
          ],
          [
           "what is a positive result for the benedict test ?"
          ],
          [
           "what kind of foods are diabetic friendly ?"
          ],
          [
           "where do i go to find the latest diabetes treatment ?"
          ],
          [
           "can a diabetic have a seizure with a blood sugar level at seventy seven ?"
          ],
          [
           "do low blood glucose levels cause weight loss ?"
          ],
          [
           "can being a diabetic cause a home pregnancy test to read negative ?"
          ],
          [
           "do you have to change your diet to take slim fast ?"
          ],
          [
           "the link between physical activity and diabetes ?"
          ],
          [
           "can you die from diabetes ?"
          ],
          [
           "storage center of a cell ?"
          ],
          [
           "normal blood glucose reading ?"
          ],
          [
           "what liquor is best for diabetes ?"
          ],
          [
           "are diabetic diets safe to follow ?"
          ],
          [
           "why do people with diabetes have to test their blood sugar level before injecting themselves insulin ?"
          ],
          [
           "what are the emotional effects of diabetes ?"
          ],
          [
           "will drinking water lower blood sugar ?"
          ],
          [
           "what system <unk> glucose levels ?"
          ],
          [
           "did laura ingalls wilder have diabetes ?"
          ],
          [
           "are most diabetic snacks sugar free ?"
          ],
          [
           "why is glucose elevated in the urine of diabetics ?"
          ],
          [
           "when is blood sugar level is too high ?"
          ],
          [
           "what impact does gestational diabetes have on the placenta ?"
          ],
          [
           "how do you consume cinnamon for diabetes ?"
          ],
          [
           "what are the different ways to administer diabetic medications ?"
          ],
          [
           "how can one research what diabetes is ?"
          ],
          [
           "what is the difference between a type-1 diabetic and an insulin-dependent diabetic ?"
          ],
          [
           "how do diet and exercise help reverse diabetes ?"
          ],
          [
           "where can i find good diabetic cook books ?"
          ],
          [
           "can you get diabetes from smoking ?"
          ],
          [
           "the ph of blood is usually maintained at about ?"
          ],
          [
           "which sweet substance is used in the diet of diabetics and <unk> ?"
          ],
          [
           "does black coffee affect your blood sugar levels ?"
          ],
          [
           "how many diabetics are there in the world ?"
          ],
          [
           "can taking cinnamon help your blood glucose levels ?"
          ],
          [
           "what causes diabetes insipidus ?"
          ],
          [
           "is artificial honey causes diabetes ?"
          ],
          [
           "what type of medications are used in the treatment of diabetes ?"
          ],
          [
           "what is the purpose of diabetes ?"
          ],
          [
           "what if gangrene is not treated ?"
          ],
          [
           "if your blood sugar is four hundred and thirty should you go to the hospital ?"
          ],
          [
           "what effect do high triglycerides have on long term health of a person ?"
          ],
          [
           "does reliv helps type one diabetes and <unk> ?"
          ],
          [
           "where can you find insulin ?"
          ],
          [
           "what does ensure help you for ?"
          ],
          [
           "where can i find more information on diabetes recipes ?"
          ],
          [
           "can drinking a regular coke jump start your body to lower your blood sugar ?"
          ],
          [
           "your dog is diabetic and ate some fudge should you give her her insulin shot ?"
          ],
          [
           "what are the symptoms of dibetes ?"
          ],
          [
           "what is <unk> ?"
          ],
          [
           "in diabetes mellitus the blood glucose level is high and glucose appears in the urine this is due to a <unk> of the carrier proteins along the kidney <unk> namely ?"
          ],
          [
           "what glucose level is high for glucosuria ?"
          ],
          [
           "what is type i diabetes ?"
          ],
          [
           "what are the two types of shock that diabetics go into ?"
          ],
          [
           "is blood sugar of one hundred and twelve high ?"
          ],
          [
           "is diabetes a <unk> ?"
          ],
          [
           "which type of diabetes mellitus is an insulin resistant disorder ?"
          ],
          [
           "can a diabetic have brown <unk> ?"
          ],
          [
           "can the loss of an appendix cause diabetes ?"
          ],
          [
           "can diabetes affect the urine alcohol test ?"
          ],
          [
           "abnormally low concentration of glucose in the blood ?"
          ],
          [
           "what are some good recipes for a diabetic <unk> ?"
          ],
          [
           "what to do when glucose levels are high ?"
          ],
          [
           "why is ampalaya good for diabetic people ?"
          ],
          [
           "if im borderline diabetic and eat cake what might be the consequences ?"
          ],
          [
           "what gland <unk> diabetes mellitus ?"
          ],
          [
           "where can i find more information on signs of diabetes ?"
          ],
          [
           "is cheese good for a diabetic person ?"
          ],
          [
           "can ham be in a diabetics diet ?"
          ],
          [
           "where did diabetes first start ?"
          ],
          [
           "can i protect myself from diabetes ?"
          ],
          [
           "can you take tylenol if your diabetic ?"
          ],
          [
           "can diabetes be cured without medicines ?"
          ],
          [
           "is blood slightly acidic ?"
          ],
          [
           "what condition may develop in a distal pancreatectomy patient after surgery ?"
          ],
          [
           "if you lose weight will type two diabetes go away ?"
          ],
          [
           "your friend is suffering from acute liver shutdown and now his kidneys are failing can he live long enough to hope for a liver transplant ?"
          ],
          [
           "what are good blood sugar counts ?"
          ],
          [
           "what sugar is responsible for rising blood sugar levels ?"
          ],
          [
           "do foods with a high glycemic index cause decreased blood sugar ?"
          ],
          [
           "are there any foods that prevent diabetes ?"
          ],
          [
           "what is know as damage to the retina of the eye caused by diabetes mellitus ?"
          ],
          [
           "where can i find out what foods are good for a diabetic diet ?"
          ],
          [
           "what happens if you have too much sugar ?"
          ],
          [
           "what is normal sugar level ?"
          ],
          [
           "does gin and tonic affect blood sugar levels ?"
          ],
          [
           "what is the sugar content of the blood of a diabetic ?"
          ],
          [
           "what causes elevated levels of blood glucose ?"
          ],
          [
           "is insulin a substance produced by genetically engineered bacteria ?"
          ],
          [
           "how do you check if i am diabetic ?"
          ],
          [
           "if you are borderline diabetic and the doctor said to control it by diet how many carbs should you have per day ?"
          ],
          [
           "what does it mean if your blood sugar level is two hundred and fifteen ?"
          ],
          [
           "is the diabetes mellitus inherited ?"
          ],
          [
           "does lack of insulin will cause high blood glucose levels ?"
          ],
          [
           "process of producing too much insulin ?"
          ],
          [
           "why are bacteria used to produce insulin ?"
          ],
          [
           "what <unk> is added to indicate sugar diabetes ?"
          ],
          [
           "what are the uncommon questions about diabetes ?"
          ],
          [
           "what is lack of water caused by ?"
          ],
          [
           "when did nick jonas find out he had diabetic ?"
          ],
          [
           "who is more likely to develop diabetic ketoacidosis ?"
          ],
          [
           "prevent diabetes ?"
          ],
          [
           "why does a diabetic person has high blood sugar levels ?"
          ],
          [
           "when was jack <unk> diagnosed with diabetes ?"
          ],
          [
           "what is the number that determines high blood sugar i know my blood tests numbers what i want to know is if i am diabete ?"
          ],
          [
           "what are some diabetic recipes ?"
          ],
          [
           "does <unk> cause diabetes for children ?"
          ],
          [
           "what is the buildup of keto acids that can result from diabetes mellitus ?"
          ],
          [
           "you have a one thousand , nine hundred and ninety five <unk> <unk> you can not find the <unk> cap could someone please tell you the location ?"
          ],
          [
           "are cashew bad for diabetics ?"
          ],
          [
           "can diabetics use lidocaine patch ?"
          ],
          [
           "is metformin one of the diabetes drugs that you can gain weight from ?"
          ],
          [
           "why glucose essential nutrient ?"
          ],
          [
           "what is type three diabetes ?"
          ],
          [
           "do strawberries raise blood sugar levels ?"
          ],
          [
           "diabetic supply equipment for testing and regulating diabetes ?"
          ],
          [
           "where can i find more information on diets for diabetes ?"
          ],
          [
           "are diabetic diets used to control the patients sugar level or to help the patient lose weight ?"
          ],
          [
           "what substances in urine might indicate a person has diabetes ?"
          ],
          [
           "what measurement is used to measure blood sugar levels ?"
          ],
          [
           "what is cause of genital and <unk> burning in a diabetic ?"
          ],
          [
           "what symptoms does someone with high blood sugar have ?"
          ],
          [
           "how many grams of sugar should a <unk> eat daily ?"
          ],
          [
           "what are the symptoms of severe insulin resistance ?"
          ],
          [
           "is ninety high blood sugar ?"
          ],
          [
           "is ninety seven to one hundred and twenty blood sugar level within normal range for a non diabetic ?"
          ],
          [
           "why does your hands get numb ?"
          ],
          [
           "how can people with high blood sugar treat themselves ?"
          ],
          [
           "is it a myth for getting diabetes by eating to much sugar ?"
          ],
          [
           "what is the medical treatment for retinopathy ?"
          ],
          [
           "what experience do you have with lipoic acid ?"
          ],
          [
           "can diabetic neuropathy cause muscle twitching or spasms in fingers ?"
          ],
          [
           "what is a good <unk> for a diabetic ?"
          ],
          [
           "what is the medical abbreviation meaning twice a day ?"
          ],
          [
           "what are some diabetic foot problems known to occur ?"
          ],
          [
           "what levels of blood glucose indicates diabetes ?"
          ],
          [
           "is diabetes an example of a degenerative disease ?"
          ],
          [
           "can nph insulin be given iv ?"
          ],
          [
           "if a person has diabetes and there blood sugars drop to fifty what can happen ?"
          ],
          [
           "what do you take <unk> for ?"
          ],
          [
           "can gestational diabetes show up if you were an undiagnosed type one diabetic ?"
          ],
          [
           "can low blood sugar cause you to vomit ?"
          ],
          [
           "what is a healthy diet when you have gestational diabetes ?"
          ],
          [
           "can a type one diabetics live a normal life ?"
          ],
          [
           "what are some examples of recipes suitable for diabetic cooking ?"
          ],
          [
           "what do you do if you <unk> gave your dog too much insulin ?"
          ],
          [
           "does high blood sugar affect the memory and brain skills ?"
          ],
          [
           "what is that machine diabetics use to monitor their blood sugar ?"
          ],
          [
           "what exactly does polydipsia mean ?"
          ],
          [
           "how many grams of sugar with diabetes type two ?"
          ],
          [
           "what are three types of diabetes ?"
          ],
          [
           "home medical care : treating diabetes ?"
          ],
          [
           "what are the cardinal symptoms of diabetes <unk> and provide the <unk> for the occurrence of each symptom ?"
          ],
          [
           "can diabetics eat chicken ?"
          ],
          [
           "what happens if you inject <unk> insulin ?"
          ],
          [
           "what causes your hand to fall asleep ?"
          ],
          [
           "what types of people are more at risk for the development of diabetes ?"
          ],
          [
           "what are some foods diabetics should not eat ?"
          ],
          [
           "when is <unk> diabetes day ?"
          ],
          [
           "what is acetone breath ?"
          ],
          [
           "what is the best way to store insulin ?"
          ],
          [
           "what are some good diabetic recipes ?"
          ],
          [
           "how you can get a diabetes mellitus ?"
          ],
          [
           "can a seizure seem similar to a diabetic hypoglycemic reaction combined with a few seconds of unconsciousness ?"
          ],
          [
           "your blood sugar is running between one hundred and fifty and two hundred and thirty seven is that bad ?"
          ],
          [
           "is a symptom of diabetes craving salty food ?"
          ],
          [
           "what substance interferes with the body is ability to carry oxygen ?"
          ],
          [
           "what will high blood sugar do to you ?"
          ],
          [
           "what percent of type two diabetes patients are overweight and obese ?"
          ],
          [
           "does a diabetic male have low sperm count ?"
          ],
          [
           "how many <unk> should a diabetic consume in sodium ?"
          ],
          [
           "how might diabetes alter ones everyday life ?"
          ],
          [
           "what are the side affects of a diabetic pregnancy ?"
          ],
          [
           "can you die from edema ?"
          ],
          [
           "what are early diabetes symptoms ?"
          ],
          [
           "what are the signs of being a diabetic ?"
          ],
          [
           "does diabetes get passed on ?"
          ],
          [
           "what is the normal blood sugar level in human body ?"
          ],
          [
           "does reliv helps diabetes ?"
          ],
          [
           "what symptoms does a dog show if it is diabetic ?"
          ],
          [
           "what do you get when you eat a lot of sugar foods ?"
          ],
          [
           "what glucose meters and supplies are covered by medicaid ?"
          ],
          [
           "is easy blood blisters a symptom of diabetes ?"
          ],
          [
           "can you be an <unk> agent if you have type i diabetes ?"
          ],
          [
           "what is <unk> one ' diabetes and <unk> two ' diabetes ?"
          ],
          [
           "what tells the body how much sugar should be in the blood ?"
          ],
          [
           "can diabetic patient drink ginger beer ?"
          ],
          [
           "what are some books that feature diabetic desserts ?"
          ],
          [
           "how do you get diabet es ?"
          ],
          [
           "can you be denied life insurance if you have diabetes ?"
          ],
          [
           "can allergies cause brown spots on back of tongue ?"
          ],
          [
           "diabetes cure ?"
          ],
          [
           "how do you get diabetes in your life ?"
          ],
          [
           "diabetes diets ?"
          ],
          [
           "how do you prevent kidney damage ?"
          ],
          [
           "what are the top ten lifestyle diseases ?"
          ],
          [
           "adult onset diabetes ?"
          ],
          [
           "how can diabetes <unk> ?"
          ],
          [
           "major symptom of diabetes mellitus is glucose in the urine ?"
          ],
          [
           "what if your glucose is one hundred and ninety two is that too high ?"
          ],
          [
           "when was diabetes hands foundation created ?"
          ],
          [
           "when was the first insulin injection given ?"
          ],
          [
           "what happens to people that eat to much sugar ?"
          ],
          [
           "where did they get the insulin from ?"
          ],
          [
           "how do you know if your blood sugar levels are low ?"
          ],
          [
           "what is the hormone that lowers blood sugar levels is ?"
          ],
          [
           "what is the recommended carbohydrate intake for an active man ?"
          ],
          [
           "can insulin therapy be administered by an oral medication ?"
          ],
          [
           "what are the foods that is low in sugar ?"
          ],
          [
           "what makes a diabetic lower leg turn black ?"
          ],
          [
           "where can one find information concerning a diabetic diet ?"
          ],
          [
           "how infection affect the body system ?"
          ],
          [
           "what are the complications of diabetes ?"
          ],
          [
           "can you develop diabetes from eating too much sugar ?"
          ],
          [
           "what are the release dates for <unk> <unk> juvenile diabetes - two thousand and six ?"
          ],
          [
           "does <unk> cause blood sugar to increase ?"
          ],
          [
           "what is a good diet for someone who suffers from diabetic nephropathy ?"
          ],
          [
           "can a diabetic use <unk> ?"
          ],
          [
           "what are the risks of diabetes ?"
          ],
          [
           "what is the approximate <unk> of insulin ?"
          ],
          [
           "who was the first diabetic ?"
          ],
          [
           "where is type two diabetes commonly found ?"
          ],
          [
           "you are insulin resistant you do not however have diabetes if you lose the weight will your insulin resistance go too along with it your chance of developing diabetes ?"
          ],
          [
           "what foods should diabetic people avoid ?"
          ],
          [
           "how can you tell you have diabetes ?"
          ],
          [
           "what is the difference of fasting blood sugar and <unk> blood sugar ?"
          ],
          [
           "are there any diabetic food stores in the seattle area ?"
          ],
          [
           "how does cinnamon help with diabetes ?"
          ],
          [
           "is regular insulin added before nph when mixed together ?"
          ],
          [
           "will my cat die from diabetes ?"
          ],
          [
           "can dates can cause diabetes ?"
          ],
          [
           "where can i find out more about recipe for diabetics ?"
          ],
          [
           "will having a family history of diabetes <unk> a person <unk> a career as a pilot in the major commercial airline industry ?"
          ],
          [
           "what is the nursing intervention of dizziness ?"
          ],
          [
           "what are the early symptoms diabetes ?"
          ],
          [
           "what makes insulin in your body ?"
          ],
          [
           "can you <unk> with diabetes ?"
          ],
          [
           "is white <unk> good for diabetics ?"
          ],
          [
           "what are some of the diet meal plans for a sugar diabetic ?"
          ],
          [
           "what causes type two diabetes ?"
          ],
          [
           "where can i find information on diabetic meal planning ?"
          ],
          [
           "should a diabetic drink alcohol ?"
          ],
          [
           "how does your teeth relate to a headache ?"
          ],
          [
           "is nick jonas really a diabetic ?"
          ],
          [
           "is cinnamon good for diabetics ?"
          ],
          [
           "how much insulin should you be taking ?"
          ],
          [
           "how would you need to adjust your insulin and or diet when you are going to be very active ?"
          ],
          [
           "does nick jonas have diabetes type one or two ?"
          ],
          [
           "does diabetes effect the color of your urine ?"
          ],
          [
           "what are some recommended food for diabetics ?"
          ],
          [
           "can you have increased hunger instead of having increased thirst when having symptoms of diabetes ?"
          ],
          [
           "is it prediabetes is considered as diabetes ?"
          ],
          [
           "can low blood sugar cause headaches ?"
          ],
          [
           "what are some good recipes for diabetics to have ?"
          ],
          [
           "why can not you prevent type one diabetes ?"
          ],
          [
           "are contour blood test strips <unk> the same as 7098c ?"
          ],
          [
           "what if blood sugar is five hundred and thirty nine ?"
          ],
          [
           "what is the difference between insulin and blood sugar ?"
          ],
          [
           "what are some diets for young diabetic men ?"
          ],
          [
           "what is low levels of glucose in the blood called ?"
          ],
          [
           "the doctor said your blood sugar was slightly elevated and put you on a diabetes diet but never said either way if you were a diabetic or not should you be concerned ?"
          ],
          [
           "can optimal blood glucose control reduce the risk of coronary heart disease in patients with type one diabetes ?"
          ],
          [
           "can you get lupus from swine ?"
          ],
          [
           "can a diabetic eat a kosher hot dog ?"
          ],
          [
           "what are the symptoms of diabetic ketoacidosis ?"
          ],
          [
           "why <unk> of human insulin does not match with human body ?"
          ],
          [
           "what is the term for what occurs when too much insulin has been taken ?"
          ],
          [
           "how can i treat my type two diabetes ?"
          ],
          [
           "is there diabetic beer ?"
          ],
          [
           "how you maintain blood sugar level if you have diabetes problem ?"
          ],
          [
           "what is the main cause of gestational diabetes ?"
          ],
          [
           "food exchange systems were originally developed for people with ?"
          ],
          [
           "best time to take diabetic pill ?"
          ],
          [
           "who of ten people who has diabetes ?"
          ],
          [
           "what can happen if diabetic foot infections are left untreated ?"
          ],
          [
           "what is a diet sheet ?"
          ],
          [
           "how does a diabetic control their diabetes ?"
          ],
          [
           "how often should you take blood sugar ?"
          ],
          [
           "is nausea and <unk> and back pain symptoms of diabetes ?"
          ],
          [
           "how do you control diabites ?"
          ],
          [
           "which are the insulin dependent cells ?"
          ],
          [
           "what items can diabetic persons eat ?"
          ],
          [
           "what does diabetic <unk> bs ac and qhs mean in medical terms ?"
          ],
          [
           "can hand numbness be caused by diabetes ?"
          ],
          [
           "what should you fed a diabetic cat ?"
          ],
          [
           "how expensive are diabetic test strips ?"
          ],
          [
           "will <unk> not show up in a drug test if youre a diabetic ?"
          ],
          [
           "can a diabetic join border patrol ?"
          ],
          [
           "where can one find a gestational diabetes diet ?"
          ],
          [
           "what happens when people get type two diabetes ?"
          ],
          [
           "early signs of diabetes mellitus ?"
          ],
          [
           "what part of the body is affected by <unk> periodic paralysis ?"
          ],
          [
           "what is the name for a good diabetic cook book ?"
          ],
          [
           "what is the best cereal for type two diabetes ?"
          ],
          [
           "what is normal blood sugar in human body ?"
          ],
          [
           "which organs are affected when you have diabetes type one ?"
          ],
          [
           "does every body die from diabetes ?"
          ],
          [
           "you have not got diabetes but an eye specialist found bleeding behind the eye what might the cause be as he did not explain ?"
          ],
          [
           "what is the best way to treat diabetis ?"
          ],
          [
           "what is the diabetic food pyramid ?"
          ],
          [
           "what are the <unk> for taking biguanides and thiazolidinediones used for treating insulin resistance ?"
          ],
          [
           "can diabetics stop using insulin ?"
          ],
          [
           "organ that produces the liquid <unk> of the body ?"
          ],
          [
           "how many grams of carbs should a type one diabetic eat per day ?"
          ],
          [
           "how you can care for your feet if you are diabetic ?"
          ],
          [
           "what <unk> venom <unk> a drug that controls blood sugar levels ?"
          ],
          [
           "will diabetes make a person die ?"
          ],
          [
           "does diabetes insipidus cause weight gain ?"
          ],
          [
           "what are the symptoms of diabetes mellitus ?"
          ],
          [
           "how can body parts affected from tattoo ?"
          ],
          [
           "what fruit can you eat with type two diabetes ?"
          ],
          [
           "why does insulin in the blood increase after meals ?"
          ],
          [
           "which diabetes require insulin injections ?"
          ],
          [
           "where can you buy diabetic shoes ?"
          ],
          [
           "what is the affect of high blood sugar and the kidneys and capillaries ?"
          ],
          [
           "what fiber should be recommended to patients with type two diabetes ?"
          ],
          [
           "what research has been done on <unk> ?"
          ],
          [
           "what is the normal blood sugar level for diabetes ?"
          ],
          [
           "what do you eat to get diabetes ?"
          ],
          [
           "who has diabetes out of the jonas brothers ?"
          ],
          [
           "what is the name of the condition in which the body is not producing adequate amounts of insulin ?"
          ],
          [
           "do you let a diabetic person having a seizure <unk> ?"
          ],
          [
           "how can having a unhealthy diet lead to having diabetes ?"
          ],
          [
           "if a diabetic goes into a coma what blood number would it read ?"
          ],
          [
           "what is the pathophysiology of type two diabetes mellitus ?"
          ],
          [
           "what are all the names for diabetes type one ?"
          ],
          [
           "what will most likely result if a diabetic injects an overdose of insulin ?"
          ],
          [
           "what food do i need to avoid as a diabetic ?"
          ],
          [
           "do you get diabetes if you get scared or any other kind of disease ?"
          ],
          [
           "what should a diabetic person is blood sugar be ?"
          ],
          [
           "how do you treat a diabetic emergency ?"
          ],
          [
           "is it bad if a twelve year old girl is always hungry ?"
          ],
          [
           "what kind of things do students with diabetes need to think about during gym class or sports ?"
          ],
          [
           "is <unk> support network is diabetic pack effective ?"
          ],
          [
           "what is the endocrine gland that controls the levels of sugar in your blood ?"
          ],
          [
           "how many grams of sugar should you eat per day when borderline diabetic ?"
          ],
          [
           "how much fats should a diabetic have ?"
          ],
          [
           "do you suspect that you have diabetes ?"
          ],
          [
           "what are some of the most common diabetes symptoms i should look out for ?"
          ],
          [
           "diets for diabetes ?"
          ],
          [
           "the major cause of insulin resistance is related to ?"
          ],
          [
           "what should be in a diabetic is diet book ?"
          ],
          [
           "if im diabetic should you watch your sugar levels ?"
          ],
          [
           "why do you experience severe cramps after taking insulin ?"
          ],
          [
           "what symptoms are associated with diabetes ?"
          ],
          [
           "why does sitting cross <unk> for a long time cause your legs to fall asleep ?"
          ],
          [
           "what is insulin is functions ?"
          ],
          [
           "why does a diabetic crave milk ?"
          ],
          [
           "what negative effects the ingredient sugar has on the human body if too much is eaten ?"
          ],
          [
           "why does polyphagia occur with diabetes mellitus ?"
          ],
          [
           "are there any cook books with suggestions for tasty diabetic foods ?"
          ],
          [
           "what type of diabetes are you born with ?"
          ],
          [
           "can you drink beer and lower blood sugar ?"
          ],
          [
           "the number one cause of what in adults in the us is diabetes ?"
          ],
          [
           "if your blood sugar is high do you take more insulin to bring it down ?"
          ],
          [
           "can worrying make you have diabetes ?"
          ],
          [
           "when fasting what should your blood sugar be in the morning ?"
          ],
          [
           "why do you get sudden body <unk> ?"
          ],
          [
           "is salt and pepper good for diabetics ?"
          ],
          [
           "what is the blood sugar for pregnant that is <unk> old ?"
          ],
          [
           "how do you pronounce <unk> ?"
          ],
          [
           "what are some good diabetic dessert recipes ?"
          ],
          [
           "can infection cause diabetes ?"
          ],
          [
           "what are the symptoms that <unk> between type i and type ii diabetes ?"
          ],
          [
           "where in your body does diabetes happen ?"
          ],
          [
           "do people with diabetes have to take shots ?"
          ],
          [
           "what are <unk> ?"
          ],
          [
           "how can you tell your blood sugar level ?"
          ],
          [
           "how does fasting affect glucose levels ?"
          ],
          [
           "how you can diagnosis diabete ?"
          ],
          [
           "can someone die from diabetes ?"
          ],
          [
           "can yoga exercises cure diabetes ?"
          ],
          [
           "how do you explain calorie counting to diabetic clients ?"
          ],
          [
           "why do diabetics have to watch what they eat ?"
          ],
          [
           "why black ants not red small ants are attracted to human urine <unk> on <unk> ?"
          ],
          [
           "how safe is it for a diabetic to have your belly button pierced ?"
          ],
          [
           "how do you get diabetes ?"
          ],
          [
           "what is a <unk> ?"
          ],
          [
           "what is the hormone responsible for diabetes mellitus ?"
          ],
          [
           "what is it <unk> when blood is too <unk> ?"
          ],
          [
           "what is a good diet chart for a diabetic ?"
          ],
          [
           "will wheat grass help your diabetes ?"
          ],
          [
           "is coffee good for a diabetic ?"
          ],
          [
           "what are two hormones that regulate blood sugar ?"
          ],
          [
           "how severe do diabetes symptoms have to be before you have diabetes ?"
          ],
          [
           "why does diabetics build up <unk> on feet ?"
          ],
          [
           "what organs malfunction causes diabetes ?"
          ],
          [
           "which diseases are caused due unbalanced diet ?"
          ],
          [
           "what is normal level of blood sugar ?"
          ],
          [
           "what research has been done on vitamin k ?"
          ],
          [
           "what is one important dietary step to help treat type two diabetes mellitus ?"
          ],
          [
           "how many diabetics patients in <unk> ?"
          ],
          [
           "are banana good for diabetic ?"
          ],
          [
           "is there any connection between poor nutrition and diabetes ?"
          ],
          [
           "how do you treat diabetes ?"
          ],
          [
           "will peanut butter help lower blood sugar ?"
          ],
          [
           "what should my diet be if i have diabetes ?"
          ],
          [
           "your husband was recently diagnosed with type two diabetes you know nothing what should you do ?"
          ],
          [
           "diabetic supply companies ?"
          ],
          [
           "what is the cause of juvenile diabetes ?"
          ],
          [
           "which is the most reliable blood sugar test for a diabetic ?"
          ],
          [
           "what is diabetes nerve damage ?"
          ],
          [
           "what is a diabetic reaction ?"
          ],
          [
           "what is a good starting grocery list for a family with a diabetic member ?"
          ],
          [
           "juveniles diabetes foundation ?"
          ],
          [
           "what are some good thanksgiving recipes ?"
          ],
          [
           "does <unk> affect the breathalyzer ?"
          ],
          [
           "what is the normal sugar intake for a day ?"
          ],
          [
           "what are the three poly is in diabetes ?"
          ],
          [
           "what percent of the <unk> population are diabetic ?"
          ],
          [
           "can you use normal saline with regular insulin when using as iv ?"
          ],
          [
           "what are the precautions people need to take if they have both type one and type two diabetes ?"
          ],
          [
           "how does the body maintain blood sugar levels when a person has not eaten a meal for many hours ?"
          ],
          [
           "do regular insulin same with actrapid insulin ?"
          ],
          [
           "is diabetes related to anemia ?"
          ],
          [
           "is it safe for a diabetic to get a pedicure ?"
          ],
          [
           "would not a military physical show whether a person has kidney disease or diabetes ?"
          ],
          [
           "what is a healthy a1c range for someone without diabetes ?"
          ],
          [
           "the pharmacological effects of administering insulin to a hyperglycemic patient is an example of increased ?"
          ],
          [
           "what are some really good diabetic recipes that do not include pasta ?"
          ],
          [
           "is type one diabetes hereditary ?"
          ],
          [
           "does am la control blood sugar ?"
          ],
          [
           "where does insulin get injected ?"
          ],
          [
           "highest blood sugar reading a glucometer can have ?"
          ],
          [
           "can one treat juvenile diabetes ?"
          ],
          [
           "have no money need insulin bad medicaid wont cover it ?"
          ],
          [
           "is type one and type two diabetes curable ?"
          ],
          [
           "i am are constantly thirsty and tired and sometimes my eyes go blurry what is wrong ?"
          ],
          [
           "what is endogenous insulin ?"
          ],
          [
           "what are the best choices of diabetic food ?"
          ],
          [
           "why does blood sugar spike in the morning ?"
          ],
          [
           "what are the symptoms of type one <unk> ?"
          ],
          [
           "is six grams of sugar too much for a diabetic ?"
          ],
          [
           "finding free diabetic recipes ?"
          ],
          [
           "insulin how is it used ?"
          ],
          [
           "why must type i diabetes patients inject insulin ?"
          ],
          [
           "how do you prevent type one and type two diabetes ?"
          ],
          [
           "what is release when blood sugar levels fall ?"
          ],
          [
           "can diabetic drink beer ?"
          ],
          [
           "where can one find information on the best diabetic desserts ?"
          ],
          [
           "diabetic menus ?"
          ],
          [
           "can diabetic shock be life threatening ?"
          ],
          [
           "natural remedy for diabetes ?"
          ],
          [
           "is nph insulin cloudy ?"
          ],
          [
           "do diet sodas make you crave sugar and is it bad for diabetes ?"
          ],
          [
           "can someone please explain what an a1c <unk> is ?"
          ],
          [
           "how did type one diabetes begin ?"
          ],
          [
           "what are the symptoms of very high blood sugar ?"
          ],
          [
           "can you buy diabetic products from pharmacies ?"
          ],
          [
           "which condition is the most nutrition responsive ?"
          ],
          [
           "does <unk> <unk> <unk> raise blood alcohol levels ?"
          ],
          [
           "a bolus insulin does it means some rapid insulin mixed with a lente one ?"
          ],
          [
           "how do you talk your mom into <unk> you get a diabetes test ?"
          ],
          [
           "i am a type two diabetic my problem is my blood sugar is high when i wake up , how can i correct it ?"
          ],
          [
           "what is the purpose of the american diabetes association ?"
          ],
          [
           "what is the normal sugar level for teenagers ?"
          ],
          [
           "does the endocrine system affect diabetes ?"
          ],
          [
           "which country is called diabetes capital ?"
          ],
          [
           "what conditions result in polydipsia and polyuria ?"
          ],
          [
           "is honey good for diabetes ?"
          ],
          [
           "what is the difference between type two diabetes and type one diabetes ?"
          ],
          [
           "what condition can make urine tasteless ?"
          ],
          [
           "who discovered how to make insulin ?"
          ],
          [
           "what are some foods allowed for consumption in a type two diabetes diet plan ?"
          ],
          [
           "is there any way to monitor blood sugar levels without using a needle to draw blood ?"
          ],
          [
           "when do type ii diabetics need insulin ?"
          ],
          [
           "what are the other names for diabetes ?"
          ],
          [
           "what is the difference between a forty <unk> syringe and a one hundred <unk> syringe ?"
          ],
          [
           "will smoking cigarettes cause diabetes ?"
          ],
          [
           "how do <unk> treat diabetes ?"
          ],
          [
           "do you know any info about hemoglobin a1c test ?"
          ],
          [
           "could you die from diabetes ?"
          ],
          [
           "what causes loss of consciousness in a person with diabetic ketoacidosis ?"
          ],
          [
           "do you need help with your diabetes ?"
          ],
          [
           "what <unk> does diabetes mellitus affect ?"
          ],
          [
           "what medical stores offer the best diabetic supplies ?"
          ],
          [
           "what type of diabetes is it if it runs in the family ?"
          ],
          [
           "what possible problems can result from poor food choices when you have diabetes ?"
          ],
          [
           "what is the reason why you draw first regular insulin before the nph insulin ?"
          ],
          [
           "what alcohol drinks are safe for diabetics ?"
          ],
          [
           "what is a safe amount of carbohydrates when you have gestational diabetes ?"
          ],
          [
           "how to follow a diabetic diet ?"
          ],
          [
           "can you get a tattoo when your diabetic ?"
          ],
          [
           "in the one thousand , nine hundred and twenty <unk> physician <unk> <unk> treated drug addiction by <unk> inducing comas through <unk> of what <unk> drug ?"
          ],
          [
           "can you lose body parts from diabetes ?"
          ],
          [
           "what is a cpt code for uncontrolled diabetes ?"
          ],
          [
           "what organ is unable to take up glucose in diabetes mellitus ?"
          ],
          [
           "what should you do if your blood sugar is high ?"
          ],
          [
           "what are any options for pregnant ladies so that their kids can not get diabetes ?"
          ],
          [
           "how many people are diagnosed with diabetes every year ?"
          ],
          [
           "does diabetes patient can eat turmeric ?"
          ],
          [
           "what if your diabetic client asks you to fill a syringe with her morning dose of insulin what should you do ?"
          ],
          [
           "are women who are type one diabetics allowed to adopt children ?"
          ],
          [
           "what is an effective way to reduce risk of heart disease cancer diabetes and other serious illnesses ?"
          ],
          [
           "does people with <unk> have high or low blood sugar ?"
          ],
          [
           "what is <unk> ?"
          ],
          [
           "how do you know if you have diabetes ?"
          ],
          [
           "what are two symptoms diabetes mellitus and diabetes insipidus have in common ?"
          ],
          [
           "how can i lose weight fast and healthy when i have diabetes ?"
          ],
          [
           "how does one properly manage their diabetes symptoms ?"
          ],
          [
           "is milk bad for uric acid ?"
          ],
          [
           "what is wrong with a diabetic <unk> blood sugar ?"
          ],
          [
           "why is diabetes a dominant gene ?"
          ],
          [
           "are there any websites that can help me find diabetic food list ?"
          ],
          [
           "what sugars are in bananas ?"
          ],
          [
           "what are some of the primary concerns of people with diabetes ?"
          ],
          [
           "what limitations does a person with diabetes type one have ?"
          ],
          [
           "where can i find more information on vitamins for diabetics ?"
          ],
          [
           "a diabetes diagnosis is not the end of the world ?"
          ],
          [
           "what is the difference between candy and diabetic candy ?"
          ],
          [
           "what important chemical does the pancreas secrete to control carbohydrate and glucose sugar levels in the blood ?"
          ],
          [
           "what medicine is there to control diabetes ?"
          ],
          [
           "is six hundred and sixty six the highest reading on a glucometer ?"
          ],
          [
           "what could you do if you could not control diabetes ?"
          ],
          [
           "which <unk> have diabetes ?"
          ],
          [
           "where can i find advice and information on non diabetic neuropathy ?"
          ],
          [
           "glycosuria is a failure in ?"
          ],
          [
           "where can i find inexpensive food for diabetics ?"
          ],
          [
           "is it normal to hear a low <unk> <unk> ' when stopped the <unk> <unk> you bought does this and you was told it was normal but is that accurate ?"
          ],
          [
           "what can happen to a diabetic man if he takes birth control pills ?"
          ],
          [
           "what is a normal level of triglycerides and what are the implications of having abnormal levels ?"
          ],
          [
           "where is the receptor that detects an increase in blood sugar ?"
          ],
          [
           "blood sugar level two hours after eating ?"
          ],
          [
           "what is a normal blood sugar ?"
          ],
          [
           "what can i do to stay healthy with diabetes ?"
          ],
          [
           "what is made from the glucose in <unk> ?"
          ],
          [
           "what are some great diabetic recipes ?"
          ],
          [
           "how big is one unit of insulin in liquid ?"
          ],
          [
           "how common is type ii diabetes ?"
          ],
          [
           "what should be included in a diabetic diet ?"
          ],
          [
           "are they bad for diabetics ?"
          ],
          [
           "what is diabetes best characterized by ?"
          ],
          [
           "what organ breaks down insulin ?"
          ],
          [
           "is diabetes type two a disease or a disorder ?"
          ],
          [
           "what are normal blood sodium levels ?"
          ],
          [
           "how do you reverse diabetes ?"
          ],
          [
           "what is the prognosis for your dog with diabetes <unk> and pancreatitis ?"
          ],
          [
           "what if your neuro assessment of an unresponsive patient reveals pin point pupils what is your primary field diagnosis ?"
          ],
          [
           "can type two diabetes be cured ?"
          ],
          [
           "how do you get type1 diabetes ?"
          ],
          [
           "how do i control my diabetes ?"
          ],
          [
           "does <unk> help control diabetes ?"
          ],
          [
           "can you take viagra with type two diabetes ?"
          ],
          [
           "how do you prevent hypertension ?"
          ],
          [
           "does medicaid cover portable insulin pumps ?"
          ],
          [
           "how long does insulin last in your <unk> ?"
          ],
          [
           "is type two diabetes also known as pre-diabetes ?"
          ],
          [
           "diabetes mellitus is caused by what ?"
          ],
          [
           "how does diabetes mellitus affect your body ?"
          ],
          [
           "how does diabetes effect people ?"
          ],
          [
           "can diabetics have anorexia ?"
          ],
          [
           "what should i know if i am diagnosed with diabetes ?"
          ],
          [
           "what is the <unk> sugar intake a day for a diabetic ?"
          ],
          [
           "how do you make a diabetic coconut cake ?"
          ],
          [
           "how much sugar is safe for a juvenile diabetic ?"
          ],
          [
           "how can diabetes be detected ?"
          ],
          [
           "what are the symptoms of diabetic ulcers ?"
          ],
          [
           "can cat drink human water ?"
          ],
          [
           "does thyroid gland mean controls blood sugar levels ?"
          ],
          [
           "how does <unk> interfere with fluid and electrolyte balance ?"
          ],
          [
           "is type one diabetes also known as insulin <unk> diabetes ?"
          ],
          [
           "is <unk> <unk> diabetic ?"
          ],
          [
           "is hearing loss related to diabetes ?"
          ],
          [
           "have many people died because of diabetes ?"
          ],
          [
           "do not <unk> your blood sugar ! ?"
          ],
          [
           "can diabetics have fruits ?"
          ],
          [
           "could a person die from diabetes ?"
          ],
          [
           "diabetes diet meal plan ?"
          ],
          [
           "what is the cure for your diabetic cat ?"
          ],
          [
           "is sugarcane good for diabetes patient ?"
          ],
          [
           "how does wind influence <unk> patterns ?"
          ],
          [
           "can a <unk> diet be healthy for diabetics ?"
          ],
          [
           "what are some of the best methods of diabetes prevention ?"
          ],
          [
           "do you get diabetes for not exercising ?"
          ],
          [
           "why does your blood sugar rise after eating raisin bran cereals ?"
          ],
          [
           "does a person with diabetes mellitus have to avoid sugar completely ?"
          ],
          [
           "what levels must sugar in the blood be to be considered diabetis <unk> ?"
          ],
          [
           "are there treatments for diabetics ?"
          ],
          [
           "why does eating slowly prevents type two diabetes ?"
          ],
          [
           "what is a treament for diabetes ?"
          ],
          [
           "is a differential diagnosis the same as a <unk> ?"
          ],
          [
           "is insulin legal or illegal ?"
          ],
          [
           "can diabetes be harmful ?"
          ],
          [
           "what research has been done on <unk> ?"
          ],
          [
           "how many people currently have diabetes ?"
          ],
          [
           "is type two diabetes from eating too much junk food ?"
          ],
          [
           "can diabetes form in animals ?"
          ],
          [
           "where can i get tools to test my blood sugar level ?"
          ],
          [
           "what are some names of some diabetic cook books ?"
          ],
          [
           "what kind of insulin pump will va supply ?"
          ],
          [
           "how does high blood sugar levels affect <unk> between the cells and the blood ?"
          ],
          [
           "can diabetes cause blurry vision and how long does it last ?"
          ],
          [
           "how is technology used to diagnose or treat type two diabetes ?"
          ],
          [
           "can you get type one diabetes at twenty four years old ?"
          ],
          [
           "what is the treatment for diabetes ?"
          ],
          [
           "can diabetic patients eat beetroot ?"
          ],
          [
           "can type ii diabetes turn into type i diabetes ?"
          ],
          [
           "does diabetes cause liver enzymes to be elevated ?"
          ],
          [
           "can diabetics drink <unk> ?"
          ],
          [
           "how many grams of carbohydrates should a pre-diabetic woman eat ?"
          ],
          [
           "what kind of juice is good for a diabetic ?"
          ],
          [
           "what are the names of five organisms which affect human health ?"
          ],
          [
           "is <unk> useful in diabetes ?"
          ],
          [
           "is diabetes preventable ?"
          ],
          [
           "glucose can be elevated in the blood of a diabetic person relate this information to glucose in the urine and glucose <unk> ?"
          ],
          [
           "i take an amino acid supplement does <unk> acid or <unk> affect or raise your blood sugar ?"
          ],
          [
           "how can a person make sure their blood sugar is at a normal level ?"
          ],
          [
           "what is paneer booti ?"
          ],
          [
           "can diabetes cause a false positive on a breath test ?"
          ],
          [
           "what online site has gestational diabetes recipe is ?"
          ],
          [
           "where can i find a sample diabetes menu ?"
          ],
          [
           "which eye doctor <unk> or <unk> treats diabetes problems in the eyes ?"
          ],
          [
           "how can diabetes be avoided ?"
          ],
          [
           "where can i find more information on diabetic neuropathy ?"
          ],
          [
           "what is the <unk> of instrument to check blood sugar ?"
          ],
          [
           "in which <unk> episode does <unk> discover his diabetes ?"
          ],
          [
           "symptoms of diabetes ?"
          ],
          [
           "what types of food can diabetic males eat ?"
          ],
          [
           "can you eat a banana if you have gestational diabetes ?"
          ],
          [
           "how could the author position on type ii diabetes be <unk> in the article ?"
          ],
          [
           "what is sulfonylurea used for ?"
          ],
          [
           "how do you keep sugar levels for diabetes regulated ?"
          ],
          [
           "where can i find a diabetic cookbook with southern recipes ?"
          ],
          [
           "will <unk> health <unk> cover the cost of diabetic supplies ?"
          ],
          [
           "where did diabetes get its name ?"
          ],
          [
           "what is a good diet for a diabetic ?"
          ],
          [
           "do illegal drugs show up in a blood test if they are testing for diabetes ?"
          ],
          [
           "what <unk> conditions can arise from a large increase in blood levels of ketone bodies in diabetics ?"
          ],
          [
           "can applesauce be used in a diabetic cake recipe ?"
          ],
          [
           "what can diabetic neuropathy lead to ?"
          ],
          [
           "what is a prediabetes diet ?"
          ],
          [
           "how often should you get a <unk> if you know that a certain disease runs in your family ?"
          ],
          [
           "can diabetic patient eat banana ?"
          ],
          [
           "what can cause changes to blood sugar ?"
          ],
          [
           "what does ada stand for ?"
          ],
          [
           "does diabetes hurt you ?"
          ],
          [
           "is diabetes a race of <unk> ?"
          ],
          [
           "what is an a1c blood sugar for ?"
          ],
          [
           "what disease does a pandan leaves cure ?"
          ],
          [
           "what is the normal value of <unk> ?"
          ],
          [
           "what are some low sugar dessert recipes for diabetics ?"
          ],
          [
           "can diabetes mellitus be dangerous ?"
          ],
          [
           "what diabetic supplies should a diabetic always have available ?"
          ],
          [
           "effectiveness of positive communication in the recovery of diabetic patients in <unk> ?"
          ],
          [
           "can mountain <unk> be bad for a type one diabetic ?"
          ],
          [
           "what food will increase hemoglobin level in diabetic ?"
          ],
          [
           "can you be fighter pilot if you have diabetes ?"
          ],
          [
           "what foods should diabetics avoid ?"
          ],
          [
           "this is an odd question but does glucose have any other <unk> or jobs in the <unk> other than a food or fuel for metabolism ?"
          ],
          [
           "how does insulin lower the blood glucose level if it is too high ?"
          ],
          [
           "will a person with type two diabetes taking insulin twice a day test positive on a urine drug test ?"
          ],
          [
           "is <unk> safe for diabetics to eat ?"
          ],
          [
           "what can happen if your blood glucose levels rise to high ?"
          ],
          [
           "what is a normal range of glucose fluctuation ?"
          ],
          [
           "did nick jonas ever pass out on stage due to his diabetes ?"
          ],
          [
           "how does exercise lower blood sugars ?"
          ],
          [
           "is sugar connected to diabetes ?"
          ],
          [
           "is <unk> weed good for diabetics ?"
          ],
          [
           "can type two diabetes be reversed ?"
          ],
          [
           "is diabetes infectious ?"
          ],
          [
           "how do you have know if it is a type one or type two diabetes ?"
          ],
          [
           "why do the diabetic patients have glucose in their urine ?"
          ],
          [
           "can you eat fruits with type two diabeties ?"
          ],
          [
           "how many times does a person have to get a diabetes diagnosis ?"
          ],
          [
           "inform us of assistance for a diabetic child entering <unk> this would be in <unk> and would be to check her blood sugar levels <unk> the two hours <unk> <unk> ?"
          ],
          [
           "how can you tell sugar is removed from the blood ?"
          ],
          [
           "what happens if you take insulin and you are not diabetic ?"
          ],
          [
           "how many servings of fruit is a mango ?"
          ],
          [
           "when you have type one diabetes what do you do when you are sick ?"
          ],
          [
           "why would insulin not bring down a high sugar reading ?"
          ],
          [
           "are there any vitamins for diabetics ?"
          ],
          [
           "what substance was created to save diabetics ?"
          ],
          [
           "how do you get diabities ?"
          ],
          [
           "what hormone <unk> the effect of glucagon ?"
          ],
          [
           "what kind of pasta a diabetic person should eat ?"
          ],
          [
           "what symptoms show signs of diabetes ?"
          ],
          [
           "the advantages of a diabetic diet plan ?"
          ],
          [
           "diabetes australia is the third <unk> diabetes association in the world following what other countries ?"
          ],
          [
           "what do you give a diabetic that is having a low blood sugar issue ?"
          ],
          [
           "this chronic disease occurs when a persons body does not produce enough insulin ?"
          ],
          [
           "what are the most obvious signs of diabetes in young children ?"
          ],
          [
           "does numbness in the head have to do with persistent <unk> or something ?"
          ],
          [
           "how would blood sugar react if insulin stopped working ?"
          ],
          [
           "if you are type-1 diabetic is the amount of carbs you should eat per day ?"
          ],
          [
           "where can i find a blood sugar level table ?"
          ],
          [
           "are there any websites that can help me find diabetes dtour diet ?"
          ],
          [
           "how much vodka can a diabetic drink ?"
          ],
          [
           "when did laura ingalls wilder have rose ?"
          ],
          [
           "how is exercise related to diabetes ?"
          ],
          [
           "how many carbs should a diabetic eat at one meal ?"
          ],
          [
           "can <unk> speech be a symptom of diabetes ?"
          ],
          [
           "what fruits can a diabetic person eat ?"
          ],
          [
           "can a diabetic eat strawberries ?"
          ],
          [
           "why is type two diabetes and <unk> ?"
          ],
          [
           "what are the symptoms of <unk> ?"
          ],
          [
           "are there any good diabetic recipes books online ?"
          ],
          [
           "making eating easy ?"
          ],
          [
           "why are the legs cut when a person has diabetes ?"
          ],
          [
           "what are some appropriate cookie recipes for diabetics ?"
          ],
          [
           "can being upset cause blood sugar to drop with diabetics ?"
          ],
          [
           "diabetic retinopathy , a <unk> consequence ?"
          ],
          [
           "does <unk> <unk> have diabetes ?"
          ],
          [
           "what is the remedy for diabetes ?"
          ],
          [
           "where can you find out how much sugar there is in various fruits ?"
          ],
          [
           "what is the cure if a diabetes ?"
          ],
          [
           "how long does it take to lower your blood sugar ?"
          ],
          [
           "what type of diabetes has <unk> onset usually seen in adults over forty years of age ?"
          ],
          [
           "do you like diabetes ?"
          ],
          [
           "why do both major types of diabetes occur ?"
          ],
          [
           "is diabetes curable ?"
          ],
          [
           "what foods carry healthy diabetes <unk> ?"
          ],
          [
           "twenty units equals how many mls ?"
          ],
          [
           "how quickly can hypoglycemia occur after receiving nph insulin ?"
          ],
          [
           "what is the maximum safe blood glucose level to perform a tooth extraction ?"
          ],
          [
           "what alcohol can you drink when you have diabetes ?"
          ],
          [
           "how does a diabetes monitor work ?"
          ],
          [
           "difference between non insulin dependent diabetes and insulin dependent diabetes ?"
          ],
          [
           "where can i find some diabetic cookie recipes ?"
          ],
          [
           "what is a good diet for an adult with gestational diabetes ?"
          ],
          [
           "how do you control high blood sugars of seven year old with type one diabetes ?"
          ],
          [
           "which gland is involved in the disease diabetes mellitus ?"
          ],
          [
           "can you kiss nick jonas is he has diabetes ?"
          ],
          [
           "how do you make insulin from bacteria ?"
          ],
          [
           "diabetic diet plan ?"
          ],
          [
           "who does diabetes affect the most ?"
          ],
          [
           "how could i tell if my hamster has got diabetes ?"
          ],
          [
           "free diabetic meter ?"
          ],
          [
           "what should a normal child blood sugars run ?"
          ],
          [
           "can diabetic patients eat <unk> ?"
          ],
          [
           "what is juvenile diabetes ?"
          ],
          [
           "does <unk> have diabetes ?"
          ],
          [
           "can a person with diabetes eat <unk> ?"
          ],
          [
           "what is <unk> for ?"
          ],
          [
           "what causes type one diabetes ?"
          ],
          [
           "finding free diabetic meters ?"
          ],
          [
           "what can i do on my own as a diabetes treatment ?"
          ],
          [
           "diabetes symptoms ?"
          ],
          [
           "<unk> mineral that is almost always missing from the diets of diabetics ?"
          ],
          [
           "safe for diabetics to take <unk> chocolate candy ?"
          ],
          [
           "which fruit diabetic patients can eat <unk> ?"
          ],
          [
           "what does glucose do to people with type one diabetes ?"
          ],
          [
           "can you use a diabetes lancet more than once ?"
          ],
          [
           "how does sugar effect your body ?"
          ],
          [
           "what are the key categories of a diabetic diet ?"
          ],
          [
           "what organ of the body is not functioning properly in diabetics ?"
          ],
          [
           "does steve redgrave have diabetes ?"
          ],
          [
           "if you know your blood sugar is low how do you know if you are a diabetic ?"
          ],
          [
           "is alcohol bad for a pre diabetic ?"
          ],
          [
           "where can i find information about weight loss for diabetics ?"
          ],
          [
           "is <unk> safe if you have diabetes ?"
          ],
          [
           "how to keep your blood sugar within the healthy range ?"
          ],
          [
           "diabetic recipes free ?"
          ],
          [
           "how many teens have diabetes ?"
          ],
          [
           "what happens to diabetics if they eat the wrong foods ?"
          ],
          [
           "how do doctors test for diabetes ?"
          ],
          [
           "what are the other types of physiological diseases away fro hypertension and diabetes ?"
          ],
          [
           "what is <unk> diabete ?"
          ],
          [
           "what is different about them two diabetes ?"
          ],
          [
           "can a <unk> have diabetes ?"
          ],
          [
           "what drugs can be used to treat insulin resistance ?"
          ],
          [
           "is <unk> good for diabetic ?"
          ],
          [
           "what would be a good diabetic meal plan for me to follow ?"
          ],
          [
           "can diabetics eat <unk> ?"
          ],
          [
           "the different symptoms of diabetes ?"
          ],
          [
           "any cures for type one diabetes ?"
          ],
          [
           "what are type one diabetes ?"
          ],
          [
           "list as many symptoms as possible in a diabetic patient who has <unk> to eat after taking their daily dose insulin ?"
          ],
          [
           "can you get light headed from sugar diabetes ?"
          ],
          [
           "what is a good diabetes meal plan ?"
          ],
          [
           "do ya think i have diabetes i am kinda thirsty and feel like i have to go the bathroom quite a bit off and on went to doc few days ago urine was normal did not think i had it blood test fine month ago ?"
          ],
          [
           "which is better for diabetics <unk> or <unk> ?"
          ],
          [
           "where can you purchase diabetic supply online ?"
          ],
          [
           "what are causes of low iron and high sugar levels in a fifty five year old man ?"
          ],
          [
           "which organ helps control blood sugar level ?"
          ],
          [
           "is the cause of diabetes environmental or hereditary ?"
          ],
          [
           "are diabetes test <unk> good past expiration dates ?"
          ],
          [
           "what are some good recipes for people with diabetes ?"
          ],
          [
           "can calories cause diabetes ?"
          ],
          [
           "what level of glucose in the urine can be normal ?"
          ],
          [
           "what causes type i diabetes mellitus ?"
          ],
          [
           "eat what you are told ?"
          ],
          [
           "top ten non communicable diseases ?"
          ],
          [
           "does paneer ka phool <unk> diabetes completely ?"
          ],
          [
           "can diabeties kill you ?"
          ],
          [
           "how long did jackie robinson have diabetes for ?"
          ],
          [
           "is it normal to have high levels of sugar in your blood ?"
          ],
          [
           "what is the normal blood sugar level for adults ?"
          ],
          [
           "where can i get a cheap a1c <unk> ?"
          ],
          [
           "if you have sulfur <unk> and <unk> and you are a diabetic what is wrong ?"
          ],
          [
           "how do you diagnose diabetes mellitus ?"
          ],
          [
           "is fresh fruit bad for a diabetic ?"
          ],
          [
           "how do you keep your diabetes under control ?"
          ],
          [
           "where can i get diabetes supplies ?"
          ],
          [
           "what type of diet is suggested for diabetes ?"
          ],
          [
           "where was the first human found ?"
          ],
          [
           "how do i test me blood sugar level to keep healthy ?"
          ],
          [
           "what are some <unk> and <unk> of diabetes ?"
          ],
          [
           "can a diabetic person drink coconut water ?"
          ],
          [
           "what <unk> have diabetes ?"
          ],
          [
           "does eating walnuts lower blood sugar ?"
          ],
          [
           "when was pediatric diabetes created ?"
          ],
          [
           "can you bring your blood sugar down instantly with <unk> at home ?"
          ],
          [
           "are there vitamins that will benefit a diabetic person ?"
          ],
          [
           "how long does it take insulin to bring down a type one diabetic ?"
          ],
          [
           "what herbs are known to lower blood sugar ?"
          ],
          [
           "what would happen if someone did not control their diabetes ?"
          ],
          [
           "what are the diseases caused by radiation ?"
          ],
          [
           "what is something sweet that a diabetic can eat ?"
          ],
          [
           "can you drink <unk> <unk> <unk> if your diabetic ?"
          ],
          [
           "what is a controlled diabetic ?"
          ],
          [
           "who <unk> diabetes ?"
          ],
          [
           "why is viagra needed for men with diabetes ?"
          ],
          [
           "what research has been done on saw <unk> ?"
          ],
          [
           "does sugar directly cause diabetes ?"
          ],
          [
           "what is the difference between <unk> and two ?"
          ],
          [
           "what does a glucose monitor measure ?"
          ],
          [
           "why are you very thirsty and urinating like crazy ?"
          ],
          [
           "how will associate carpal tunnel syndrome to diabetes mellitus ?"
          ],
          [
           "where can i buy low calorie foods online ?"
          ],
          [
           "is diabetes dominant or recessive trait ?"
          ],
          [
           "what will happen if you do not take enough insulin ?"
          ],
          [
           "what side affects for using the <unk> diabetic nerve <unk> ?"
          ],
          [
           "what day did nick jonas <unk> his diabetes ?"
          ],
          [
           "are bagels bad for diabetics ?"
          ],
          [
           "what are the effects of mothers with gestational diabetes on their babies ?"
          ],
          [
           "where does insulin in the body happen ?"
          ],
          [
           "who discovered diabeties ?"
          ],
          [
           "how does diabetes affect the urinary system ?"
          ],
          [
           "how many good carbs should you eat if you are five ' four and want to lose fifteen pounds ?"
          ],
          [
           "can a diabetic take <unk> ?"
          ],
          [
           "can diabetes medicine taken with urine therapy ?"
          ],
          [
           "can anyone give information about the rare complication of diabetes known as amyotrophy ?"
          ],
          [
           "being a diabetic is it possible to inject insulin in your <unk> and get a sufficient effect from it ?"
          ],
          [
           "what are the symptoms for low sugar ?"
          ],
          [
           "what amount of blood glucose level is normal ?"
          ],
          [
           "why is there glucose in urine ?"
          ],
          [
           "what should a diabetics carbohydrate intake be ?"
          ],
          [
           "where can i get free diabetic diet information ?"
          ],
          [
           "where can i find more information about a pre-diabetic diet ?"
          ],
          [
           "what can a person on a diabetes diet eat ?"
          ],
          [
           "is there a food without glucose ?"
          ],
          [
           "how is a person is daily life affected by diabetes ?"
          ],
          [
           "who is diabetes insipidus is more common in males or females ?"
          ],
          [
           "how do you know if you have type one or type two diabetes ?"
          ],
          [
           "can you drink protein shake like monster milk with type two diabetes ?"
          ],
          [
           "what are some tests for diabetes ?"
          ],
          [
           "when taking a drug screening can diabetes medicine show up ?"
          ],
          [
           "is diabetes a mental illness or physical illness ?"
          ],
          [
           "how do doctors diagnose diabetes ?"
          ],
          [
           "why does your arm ache after sleeping ?"
          ],
          [
           "why do people with diabetes have have a <unk> chance of developing foot infections ?"
          ],
          [
           "what are symptoms of hypoglycemia , and how low is too low ?"
          ],
          [
           "how do you get diabetes type one ?"
          ],
          [
           "you are a type two diabetic and take insulin to control your sugar can you drive a commercial vehicle over the road ?"
          ],
          [
           "can diabetics be doctors ?"
          ],
          [
           "why is glucose known as blood sugar ?"
          ],
          [
           "nick jonas diabetic ?"
          ],
          [
           "can stress trigger diabetes mellitus ?"
          ],
          [
           "i need some good recipes for people with diabetes . ?"
          ],
          [
           "what is hgt used in diabetes mellitus ?"
          ],
          [
           "why is blood black when the person is diabetic ?"
          ],
          [
           "should diabetics eat any sugar ?"
          ],
          [
           "how do you know you have diabities ?"
          ],
          [
           "what are the symptoms of diabetes in children ?"
          ],
          [
           "which pancreatic hormone functions to lower blood <unk> levels ?"
          ],
          [
           "what sugar is found in human blood ?"
          ],
          [
           "can males with type one diabetes have babies ?"
          ],
          [
           "what is the effect when the body does not produce insulin ?"
          ],
          [
           "how effective is dr <unk> <unk> diabetes <unk> program ?"
          ],
          [
           "do you get diabetes when you damage your pancreas ?"
          ],
          [
           "all patients with diabetes need injection ?"
          ],
          [
           "diabetes and over <unk> with track and field exercise ?"
          ],
          [
           "what diseases is related to lack of insulin production ?"
          ],
          [
           "what is the average output of urine for a teenager a day ?"
          ],
          [
           "is inulin bad for you ?"
          ],
          [
           "is dylan <unk> a diabetic ?"
          ],
          [
           "which term describes a <unk> complication of diabetes mellitus ?"
          ],
          [
           "does <unk> young have diabetes ?"
          ],
          [
           "what <unk> the disease of diabetes ?"
          ],
          [
           "does diabetes cause <unk> ?"
          ],
          [
           "can diabetes be diagnosed by a single finger prick blood sugar ?"
          ],
          [
           "can diabetes affect a tattoo ?"
          ],
          [
           "what is an a1c test used to detect ?"
          ],
          [
           "insulin dependent diabetes ?"
          ],
          [
           "what type of crystals in urine might be present with diabetes mellitus ?"
          ],
          [
           "what is a risk factor for developing diabetes ?"
          ],
          [
           "can <unk> get diabetes ?"
          ],
          [
           "can smoking cigarettes increases the sugar levels ?"
          ],
          [
           "you are a thirty nine year diabetic with high blood pressure as well what can you do to bring them both under control ?"
          ],
          [
           "husband was diagnosed with type ii diabetes two months ago does that make his son who is twelve more apt to get it ?"
          ],
          [
           "why diabetic patient care to their foot ?"
          ],
          [
           "what is the pathophysiology of diabetes mellitus ?"
          ],
          [
           "what hormone if produced <unk> would cause sexual immaturity ?"
          ],
          [
           "your thirteen yr old <unk> is diabetic and has gone blind how will you know when it is his time to die ?"
          ],
          [
           "what happens to someone who has diabetes ?"
          ],
          [
           "are two symptoms of diabetes sudden ?"
          ],
          [
           "why is it important that urea be removed from diabetic patients ?"
          ],
          [
           "does type two diabetes cause insulin deficiency or insulin resistance ?"
          ],
          [
           "blood sugar level is one hundred to two hundred after eatting a meal . is two hundred to high ?"
          ],
          [
           "how can someone tell if a loved one could possibly have type two diabetes ?"
          ],
          [
           "can you tell me what amount of blood sugar range is normal ?"
          ],
          [
           "how is diabetes tested ?"
          ],
          [
           "does type one diabetes affect your sperm count ?"
          ],
          [
           "does eating carbohydrates regulate your blood sugar ?"
          ],
          [
           "what is <unk> <unk> ?"
          ],
          [
           "what food for supper for the diabetic person ?"
          ],
          [
           "what is a diabetes specialist nurse is code of practice ?"
          ],
          [
           "does sugar give you diabetes ?"
          ],
          [
           "what research has been done on diabetes mellitus ?"
          ],
          [
           "does <unk> raise or lower blood sugar blood co2 concentration ?"
          ],
          [
           "what is the control mechanism of diabetes ?"
          ],
          [
           "where can i find out more about diabetic testing supplies ?"
          ],
          [
           "the condition of very low blood sugar is known as ?"
          ],
          [
           "what hormone secretion abnormality causes diabetes ?"
          ],
          [
           "how much does it cost for treatment of diabetes ?"
          ],
          [
           "is mango bad for diabetes ?"
          ],
          [
           "is marijuana a benefit to type one diabetics ?"
          ],
          [
           "what will heal a chronic rash under breasts of diabetic ?"
          ],
          [
           "how does a no sugar diet works ?"
          ],
          [
           "how the belly fat cure burns stomach fat ?"
          ],
          [
           "what is the normal glucose range in blood ?"
          ],
          [
           "why do <unk> take glucose tablets before they run a race ?"
          ],
          [
           "how was diabetes treated before the discovery of insulin ?"
          ],
          [
           "how do genes play <unk> in getting diabetes ?"
          ],
          [
           "what are the release dates for <unk> <unk> is diabetes ad - two thousand and twelve ?"
          ],
          [
           "what are <unk> diabetes if parent has it ?"
          ],
          [
           "how is diabetes spreads among human ?"
          ],
          [
           "is whiskey safe for diabetics ?"
          ],
          [
           "pre diabetes testing ?"
          ],
          [
           "what controls the blood glucose levels ?"
          ],
          [
           "can bright orange urine be related to diabetes ?"
          ],
          [
           "can a diabetic eat almonds ?"
          ],
          [
           "how does insulin bring sugar down to normal levels after a meal ?"
          ],
          [
           "what is a person called with diabetes ?"
          ],
          [
           "what is <unk> ?"
          ],
          [
           "what is the main cause of type two diabetes ?"
          ],
          [
           "where can i purchase diabetic needles ?"
          ],
          [
           "my partner has got type one diabetes . is it possible for us to have a baby ?"
          ],
          [
           "can diabetics dye their hair ?"
          ],
          [
           "is insulin administered as an intramuscular injection ?"
          ],
          [
           "is it normal to be high on sugar ?"
          ],
          [
           "what happens to a person is blood glucose level after eating ?"
          ],
          [
           "what symptoms do horses have with diabetes ?"
          ],
          [
           "does your head hurt when blood sugar is high ?"
          ],
          [
           "ayurveda medicine for diabeties ?"
          ],
          [
           "is mango eating harmful to a diabetic ?"
          ],
          [
           "diabetes education for patients ?"
          ],
          [
           "what kind of medicines are available to treat diabetes ?"
          ],
          [
           "which diet would be best for a diabetic ?"
          ],
          [
           "what kinds of food can diabetics not eat ?"
          ],
          [
           "can a diabetic smoke weed ?"
          ],
          [
           "what is the normal postprandial blood glucose for a human ?"
          ],
          [
           "what happens in there is less secretion of insulin ?"
          ],
          [
           "what are some meals that are safe for people with diabetes ?"
          ],
          [
           "how does a diabetic neuropathy treatment affect the body ?"
          ],
          [
           "who discovered hypoglycemia ?"
          ],
          [
           "what kind of exercises can i do to prevent diabetes ?"
          ],
          [
           "what <unk> code would you use for <unk> ulcer on heel in a patient with diabetes type two ?"
          ],
          [
           "do you check your glucose levels ?"
          ],
          [
           "is diabetes a non communicable disease ?"
          ],
          [
           "can diabetics take <unk> <unk> ?"
          ],
          [
           "where can i find a diabetic meals food guide ?"
          ],
          [
           "is blood that was drawn an hour and half before <unk> true readings for sugar ?"
          ],
          [
           "why is juvenile diabetes such a concern in australia ?"
          ],
          [
           "what is a healthy blood glucose level for a thirty year old female ?"
          ],
          [
           "what is serum insulin ?"
          ],
          [
           "does <unk> <unk> plants good for high blood and diabetic person ?"
          ],
          [
           "who is more likely to develop diabetes ?"
          ],
          [
           "what is the effect of sugar alcohol on the body ?"
          ],
          [
           "how does exercise help gestational diabetes ?"
          ],
          [
           "can mental <unk> increase diabetes ?"
          ],
          [
           "does cinnamon help blood sugar ?"
          ],
          [
           "is type two diabetes known as insulin-dependent diabetes ?"
          ],
          [
           "will vision change due to an increase in sugar levels ?"
          ],
          [
           "what part of the body does diabetes effect ?"
          ],
          [
           "how diseases get into your body ?"
          ],
          [
           "why would the doctor suggest check the patients blood sugar level ?"
          ],
          [
           "could you die if you had diabetes and did not take your insulin ?"
          ],
          [
           "what is the average blood sugar level for an adult woman ?"
          ],
          [
           "what are healthy blood sugar levels ?"
          ],
          [
           "what are some good diabetes supplies ?"
          ],
          [
           "what is the difference between type two diabetes and diabetes <unk> ?"
          ],
          [
           "are diabetics <unk> ?"
          ],
          [
           "do radishes lower blood sugar ?"
          ],
          [
           "what can diabetes come from ?"
          ],
          [
           "what food can lower high blood sugar quickly ?"
          ],
          [
           "did nick jonas ever throw up blood from diabetes ?"
          ],
          [
           "is fructose better than granulated sugar for diabetics ?"
          ],
          [
           "can a low blood sugar level cause a panic attack ?"
          ],
          [
           "how does your body keep your blood sugar level around seventy to one hundred and ten ?"
          ],
          [
           "what is a normal blood sugar range for fasting ?"
          ],
          [
           "how do i prevent developing diabetes ?"
          ],
          [
           "does <unk> <unk> have diabetes ?"
          ],
          [
           "can smoking marijuana help type two diabetes ?"
          ],
          [
           "is one hundred and twelve high for someone that is not diabetic ?"
          ],
          [
           "what causes inflammation of organs ?"
          ],
          [
           "how many people in us have diabetes ?"
          ],
          [
           "does chinese food raise blood sugar ?"
          ],
          [
           "does hear heartbeat in ear have to do with blood sugar level ?"
          ],
          [
           "do more people die of aids or diabetes ?"
          ],
          [
           "why is type two diabetes is an issue in your community ?"
          ],
          [
           "what are the three poly conditions of diabetes mellitus ?"
          ],
          [
           "how you can prevent diabetes ?"
          ],
          [
           "does vodka lower diabetic blood sugar level ?"
          ],
          [
           "what type of sugar is blood sugar ?"
          ],
          [
           "what is sugar doctor or diabetes doctor ?"
          ],
          [
           "what are normal glucose levels for a healthy person ?"
          ],
          [
           "what is the normal range for blood sugar level ?"
          ],
          [
           "what are some sugar substitutes used in diabetic recipes ?"
          ],
          [
           "what glucose tolerance test is an example of a specimen ?"
          ],
          [
           "is exercis <unk> to diabetes ?"
          ],
          [
           "why would the doctor suggest checking the patient is blood sugar levels ?"
          ],
          [
           "how are blood glucose levels regulated in the body ?"
          ],
          [
           "is honey not good for a diabetic person ?"
          ],
          [
           "what is the cause of constant fatigue ?"
          ],
          [
           "what kinds of sugars can cause you to have diabetes ?"
          ],
          [
           "diabetes is it dominant or recessive ?"
          ],
          [
           "can you be a <unk> if you have type one diabetes ?"
          ],
          [
           "does magnesium and chromium may play a role in decreasing the risk of type two diabetes ?"
          ],
          [
           "what should my blood sugar level be ?"
          ],
          [
           "what gland is in diabetes mellitus ?"
          ],
          [
           "what should a diabetic person do ?"
          ],
          [
           "how is gestational diabetes different from other types of diabetes ?"
          ],
          [
           "how people die of diabetes ?"
          ],
          [
           "ability of bacteria to produce insulin was result of ?"
          ],
          [
           "does thyroxine increase blood glucose ?"
          ],
          [
           "what percentage of <unk> <unk> have diabetes ?"
          ],
          [
           "what are diabetes symptoms and preventions ?"
          ],
          [
           "what cheese can you eat as a diabetic ?"
          ],
          [
           "can you wean yourself off of insulin ?"
          ],
          [
           "is <unk> is harmful for a diabetic man ?"
          ],
          [
           "what is the metabolic abnormality that <unk> the characteristic symptoms of diabetes mellitus ?"
          ],
          [
           "what snacks can a type two diabetics eat ?"
          ],
          [
           "you have been experiencing twitching in your <unk> and thumb on your left hand for several weeks it is not painful but is very <unk> what could be causing this to happen ?"
          ],
          [
           "is type two diabetes curable ?"
          ],
          [
           "what glands produce insulin and glucagon ?"
          ],
          [
           "is <unk> good for diabetic patients ?"
          ],
          [
           "is drinking beer safe for diabetics ?"
          ],
          [
           "how do people with type two diabetes look ?"
          ],
          [
           "one unit of regular insulin decrease serum glucose by how much ?"
          ],
          [
           "why should insulin be refrigerated ?"
          ],
          [
           "what hormone increases blood sugar levels ?"
          ],
          [
           "what is a gland not working in a diabetic ?"
          ],
          [
           "what research has been done on <unk> ?"
          ],
          [
           "two types of diabetes ?"
          ],
          [
           "how is serum insulin made ?"
          ],
          [
           "can you be fired if you fall asleep at work after just be <unk> with diabetes and taking medication at work related to injury that you were on <unk> <unk> two years ago ?"
          ],
          [
           "diabetes type two ?"
          ],
          [
           "do diabetes hurt ?"
          ],
          [
           "does diabetes affect male sexual performance ?"
          ],
          [
           "can diabetics use insulin for <unk> purposes ?"
          ],
          [
           "diabetes mellitus is a disorder of ?"
          ],
          [
           "what hormone causes diabetes ?"
          ],
          [
           "what does a decreasing level of cea in the blood indicate ?"
          ],
          [
           "how many people die from diabetic complications of hypoglycemia ?"
          ],
          [
           "how is insulin taken ?"
          ],
          [
           "how can you develop type two diabetes ?"
          ],
          [
           "can diabetes tab <unk> be taken with cold meds ?"
          ],
          [
           "what is wrong with a person is body if they have diabetes ?"
          ],
          [
           "does <unk> raise blood sugar levels ?"
          ],
          [
           "what branch of science that deals with diabetes ?"
          ],
          [
           "what does diabetes do in the body ?"
          ],
          [
           "does herbs actually help diabetes ?"
          ],
          [
           "is type one diabetes also called niddm ?"
          ],
          [
           "what is the function of the <unk> ?"
          ],
          [
           "is insulin a carbohydrate ?"
          ],
          [
           "can you die from <unk> <unk> ?"
          ],
          [
           "where can i find more information on high blood sugar ?"
          ],
          [
           "<unk> in <unk> of managing diabetes ?"
          ],
          [
           "what is a good diet for one who is diabetic ?"
          ],
          [
           "can diabetes cause a false positive drug test ?"
          ],
          [
           "who was <unk> person to get diabetes ?"
          ],
          [
           "can diabetics drink <unk> ?"
          ],
          [
           "is <unk> safe for diabetics ?"
          ],
          [
           "can you use <unk> inside <unk> ?"
          ],
          [
           "what fruit will manage blood sugar level ?"
          ],
          [
           "why does drinking alcohol lower blood sugar ?"
          ],
          [
           "what might be the cause of rapid weight loss ?"
          ],
          [
           "what is the definition of low sugar ?"
          ],
          [
           "can diabetics drink <unk> coffee ?"
          ],
          [
           "what are the top recommended diabetics diets ?"
          ],
          [
           "what is main blood sugar in the body ?"
          ],
          [
           "how can i get diabetes diet <unk> for someone with serious diabetis ?"
          ],
          [
           "will drinking lots of water help to lower your blood sugar quickly ?"
          ],
          [
           "is diabetes able to be passed along to your children ?"
          ],
          [
           "is nick jonas diabetes getting worse ?"
          ],
          [
           "is it harder for a man with diabetes to get a woman pregnant ?"
          ],
          [
           "where can i find a detailed blood sugar levels chart to download ?"
          ],
          [
           "for a diabetic what is a good diet to follow ?"
          ],
          [
           "what are the effects of <unk> on blood sugar ?"
          ],
          [
           "what kind of diet do i need to follow if i am borderline diabetic ?"
          ],
          [
           "blood sugar <unk> of two hundred and fifty seven what is emergency action to take for a type two diabetic ?"
          ],
          [
           "who lived with cancer and <unk> ?"
          ],
          [
           "does heat <unk> raise blood sugar ?"
          ],
          [
           "is nausea related to chronic diabetes- ?"
          ],
          [
           "why take a blood glucose level two hours after a meal ?"
          ],
          [
           "is diabetes a genetic disorder ?"
          ],
          [
           "why are human <unk> not the best source for insulin ?"
          ],
          [
           "could i please have some information on the plate method ?"
          ],
          [
           "how can i improve my diabetes ?"
          ],
          [
           "can you diabetes from eating a lot of sugar ?"
          ],
          [
           "what exactly is a diabetes diet ?"
          ],
          [
           "if you have <unk> do you get your leg cut off ?"
          ],
          [
           "what are some risks that people take ?"
          ],
          [
           "is <unk> wine also good for diabetes ?"
          ],
          [
           "chronic disorder caused by inadequate production or use of insulin is a ?"
          ],
          [
           "how much insulin would you have to take to die ?"
          ],
          [
           "what causes teeth gum and tongue numbness especially while doing resistance training ?"
          ],
          [
           "diabetic strips ?"
          ],
          [
           "how do you know if it is a type one or type two diabetes ?"
          ],
          [
           "why does diabetes happen ?"
          ],
          [
           "can you claim any money if you are a diabetic ?"
          ],
          [
           "where can one purchase diabetic supplies from ?"
          ],
          [
           "how does one avoid adult onset diabetes ?"
          ],
          [
           "is there a list of foods for type two diabetics ?"
          ],
          [
           "what are some diabetic diets to follow ?"
          ],
          [
           "what causes numbness of tip of the tongue ?"
          ],
          [
           "what is the average salary for counselors in cook county ?"
          ],
          [
           "where can i find out more about diabetic diet sheet ?"
          ],
          [
           "is ketoacidosis diabetic retinopathy and nephropathy may be complications of iddm ?"
          ],
          [
           "what is a sugar coma ?"
          ],
          [
           "what age do most people get type diabetes and what age do it end ?"
          ],
          [
           "what do you have when you have trouble <unk> things ?"
          ],
          [
           "when is <unk> diabetes day celebrated ?"
          ],
          [
           "is the prognosis good for patients with <unk> ?"
          ],
          [
           "what is a normal blood glucose levels for a horse ?"
          ],
          [
           "why does your child sweat excessively and <unk> ?"
          ],
          [
           "why do you have to inject insulin ?"
          ],
          [
           "the components of a diabetic food plan ?"
          ],
          [
           "what does diabetes do to a body ?"
          ],
          [
           "is there something you can eat or drink to bring down high blood glucose ?"
          ],
          [
           "is a five % a1c range healthy what is the normal range ?"
          ],
          [
           "safe and legal way to travel with insulin injection equipment and <unk> ?"
          ],
          [
           "signs to seek diabetes testing ?"
          ],
          [
           "how is diabetes transferred ?"
          ],
          [
           "how does diabetes affect the stomach ?"
          ],
          [
           "what kind of macromolecule is insulin and what does it do ?"
          ],
          [
           "what is happening to someones blood glucose levels right before a race ?"
          ],
          [
           "how do you <unk> lower my blood sugar ?"
          ],
          [
           "can type two diabetes be a symptom of high triglycerides ?"
          ],
          [
           "what caused diabetes ?"
          ],
          [
           "how does exercise affect diabetes ?"
          ],
          [
           "what is the major cause of insulin resistance ?"
          ],
          [
           "what are the most common diabetic medications ?"
          ],
          [
           "how many people have heart disease in the us ?"
          ],
          [
           "what research has been done on <unk> ?"
          ],
          [
           "what are good carbohydrates for diabetics ?"
          ],
          [
           "how long till you have a cure for type two diabetes ?"
          ],
          [
           "who would suffer hypoglycemia if they get low blood glucose levels from excess insulin action ?"
          ],
          [
           "where can i find more info on free diabetic diet plans ?"
          ],
          [
           "what desserts can diabetics enjoy ?"
          ],
          [
           "what is diabetes and how is it treated ?"
          ],
          [
           "how can a person improve his health ?"
          ],
          [
           "what kind of diet would a person with diabetes have ?"
          ],
          [
           "what can you eat if you are diabetic ?"
          ],
          [
           "how does preventing a diabetic emergency affect the day to day life of a diabetic ?"
          ],
          [
           "what happens with blood sugar level of four hundred and eighty ?"
          ],
          [
           "you are newly diagnosed with type one diabetes your numbers were up to one thousand and fifty and they said your organs were shutting down why ?"
          ],
          [
           "is <unk> good for diabetes ?"
          ],
          [
           "how does glucagon cause hyperglycemia ?"
          ],
          [
           "what type of diabetes are obese people most likely to develop ?"
          ],
          [
           "is a blood glucose level of one hundred and six too high ?"
          ],
          [
           "what parts of the body can be affected by focal dystonia ?"
          ],
          [
           "when does diabetes insipidus occur ?"
          ],
          [
           "blood sugar maintenance in a diabetic weight loss diet plan ?"
          ],
          [
           "does a diabetic have to get blood only from a finger ?"
          ],
          [
           "why drink fluids when you are sick ?"
          ],
          [
           "what can you take for leg cramps if you take diabetic medicine ?"
          ],
          [
           "what tells the body how much sugar should be in the <unk> ?"
          ],
          [
           "if your mother and father have diabetes then will you get diabetes ?"
          ],
          [
           "will antibiotic affect blood sugar ?"
          ],
          [
           "what is the meal plan example for people like me who are diabetic ?"
          ],
          [
           "what is an effective way to reduce the risk of heart disease cancer diabetes and other serious illnesses ?"
          ],
          [
           "what are high blood sugar symptoms ?"
          ],
          [
           "diabetes pump ?"
          ],
          [
           "what are the dangers of consuming cheap diabetic supplies ?"
          ],
          [
           "is diabetes mellitus a complication of <unk> ?"
          ],
          [
           "insulin is synthesized and released by the ?"
          ],
          [
           "which condition is often an indication of <unk> anemia ?"
          ],
          [
           "difference between a diabetic and a non diabetic ?"
          ],
          [
           "what kind of diet plan will you need with type two diabetes ?"
          ],
          [
           "why is there increase in urination in diabetes mellitus ?"
          ],
          [
           "what makes up your lower leg ?"
          ],
          [
           "how can a person acquire diabetes ?"
          ],
          [
           "is watermelon bad for type two diabetics ?"
          ],
          [
           "if nph is given at 7am when is hypoglycemic reaction going to happen ?"
          ],
          [
           "is nine point nine glucose reading high ?"
          ],
          [
           "what precautions should i take running if i have diabetes . ?"
          ],
          [
           "what would to much insulin cause ?"
          ],
          [
           "what hormone raises blood sugar between meals ?"
          ],
          [
           "buying a reliable blood sugar monitor ?"
          ],
          [
           "what different sizes of skim board can i buy ?"
          ],
          [
           "is low or high pressure related to diabetes ?"
          ],
          [
           "what is kosher insulin ?"
          ],
          [
           "what are some diseases spread by air ?"
          ],
          [
           "what are the <unk> of the american diabetes association ?"
          ],
          [
           "where are the receptors that sense changes in blood glucose ?"
          ],
          [
           "is blood sugar one hundred and fifty six is normal ?"
          ],
          [
           "what is diabetes two ?"
          ],
          [
           "what are insulin dependent diabetics ?"
          ],
          [
           "what gland controls glucose blood levels ?"
          ],
          [
           "does low blood sugar mean i have hypoglycemia ?"
          ],
          [
           "how does diabetes affect endocrine system ?"
          ],
          [
           "if your husband has diabetes is it ok for you to get pregnant ?"
          ],
          [
           "is six point two diabetes severe ?"
          ],
          [
           "the symptoms of diabetes in children ?"
          ],
          [
           "what vitamins are recommended for a diabetic ?"
          ],
          [
           "how many grams of sugar are allowed for an adult with type two diabetes ?"
          ],
          [
           "what is insulin resistance ?"
          ],
          [
           "diabetes in pregnancy ?"
          ],
          [
           "where can i find information on a diabetic diet , and the link between diet and overall health ?"
          ],
          [
           "why is high glucose bad ?"
          ],
          [
           "how old was nick jonas when he got diabetes ?"
          ],
          [
           "can diabetics eat granola ?"
          ],
          [
           "use of paneer booti in <unk> ?"
          ],
          [
           "what are a diabetes health counselor is <unk> ?"
          ],
          [
           "which of the following <unk> about insulin resistance and pre-diabetes is true ?"
          ],
          [
           "when a persons <unk> can not produce enough insulin ?"
          ],
          [
           "what disorder is type two diabetes ?"
          ],
          [
           "diabetes can be inherited ?"
          ],
          [
           "what is a normal range for fasting blood glucose ?"
          ],
          [
           "do health care workers need to wear <unk> when checking a blood sugar ?"
          ],
          [
           "is <unk> <unk> vitamin good for diabetics ?"
          ],
          [
           "is it dangerous taking the <unk> if you are not diabetes ?"
          ],
          [
           "cause of diabetes ?"
          ],
          [
           "what does <unk> mean on <unk> check glucose meter for diabetes ?"
          ],
          [
           "i want to get a tattoo but i also have diabetes . is it safer if i just not get one ?"
          ],
          [
           "thirty unit of forty iu insulin is equal to how much unit of one hundred iu insulin ?"
          ],
          [
           "is diabetes real ?"
          ],
          [
           "how diabetes affect the pancreas ?"
          ],
          [
           "diabetes mellitus is a disease that occurs when the body either can not produce the hormone insulin or produces an insufficient amount of insulin . the disease is caused by a <unk> in the system . ?"
          ],
          [
           "where can i find blood glucose level chart ?"
          ],
          [
           "can <unk> meat increase blood sugar ?"
          ],
          [
           "what is the danger of high fructose corn syrup ?"
          ],
          [
           "how do you fake a diabetes test ?"
          ],
          [
           "can you take <unk> if you are a diabetic ?"
          ],
          [
           "when your diabetic and pregnant are you allowed to drink milk ?"
          ],
          [
           "how do you know if it is type two diabetes ?"
          ],
          [
           "when does post prandial hypoglycemia occurs ?"
          ],
          [
           "can diabetes be transferred sexually ?"
          ],
          [
           "what kind of different treatments are there for diabetes ?"
          ],
          [
           "what happens when blood sugar is low ?"
          ],
          [
           "does eating sugar make you sweat more ?"
          ],
          [
           "where can one purchase the best diabetic chocolates ?"
          ],
          [
           "is it true that type two diabetes occurs much less frequently than type one ?"
          ],
          [
           "what is the quantity of <unk> roots that one diabetic patient can have daily ?"
          ],
          [
           "<unk> why it is needed for treatment ?"
          ],
          [
           "can an overdose of diabetic medicine cause brain damage ?"
          ],
          [
           "which organs are affected when you have diabetes type two ?"
          ],
          [
           "how to get pregnant by a men with type two diabetes ?"
          ],
          [
           "what is involved in a diabetic diet ?"
          ],
          [
           "information about diabetes ?"
          ],
          [
           "is borderline diabetes also known as type two ?"
          ],
          [
           "can diabetes cause your feet to burn on the bottom ?"
          ],
          [
           "why does insulin decrease potassium levels ?"
          ],
          [
           "can a diabetic take metronidazole or <unk> ?"
          ],
          [
           "where can you find diet plans ?"
          ],
          [
           "could nineteen on diabetes reading bad ?"
          ],
          [
           "what is a good <unk> for diabetics to use for sore feet ?"
          ],
          [
           "what is the best way to type a capital a in a sentence ?"
          ],
          [
           "what is a good pre diabetes diet ?"
          ],
          [
           "what sugar is in your urine ?"
          ],
          [
           "does diabetes make you go a lot if the sugar is up ?"
          ],
          [
           "what are the symptoms of diabetics ?"
          ],
          [
           "what do diabetes doctors do ?"
          ],
          [
           "why relation of insulin to diabetes ?"
          ],
          [
           "what is the survival rate of triple bypass surgery for a fifty five year old man with diabetes ?"
          ],
          [
           "what are some healthy recipes for the diabetic consumer ?"
          ],
          [
           "if diabetic person always feel headache and dizzy ?"
          ],
          [
           "what kind of medicines are available to treat diabetes ?"
          ],
          [
           "what is the normal range for blood glucose ?"
          ],
          [
           "which blood test measures glucose levels eight to twelve hours after eating and is used to screen for diabetes mellitus ?"
          ],
          [
           "what preparation should be used with caution in diabetic patients tincture syrup <unk> <unk> ?"
          ],
          [
           "what is the scientific name for diabetes ?"
          ],
          [
           "why the patients of diabetes use insulin injections ?"
          ],
          [
           "how can you recognize diabetes ?"
          ],
          [
           "what is dm diabetes mellitus ?"
          ],
          [
           "what are some foods for a diabetic ?"
          ],
          [
           "why is type two diabetes more common in the us then in any other country ?"
          ],
          [
           "how do you lower your blood sugar if i dont have my meds with me ?"
          ],
          [
           "why did the pima <unk> have diabetes ?"
          ],
          [
           "does coffee affect blood sugar levels ?"
          ],
          [
           "how can you get type one or two diabetes ?"
          ],
          [
           "what <unk> do you need to be a diabetes nurse ?"
          ],
          [
           "out of how many how may people have diabetes in us ?"
          ],
          [
           "is one thousand high for glucose reading ?"
          ],
          [
           "where can i find a chart on the average number of us <unk> with diabetes ?"
          ],
          [
           "should diabetics eat a diet with a lot corn ?"
          ],
          [
           "what exercise regimen will help get rid of a wouldiabetic middle ' ?"
          ],
          [
           "how do you check a dogs blood sugar ?"
          ],
          [
           "can a person suddenly acquire diabetes ?"
          ],
          [
           "what is a normal range for blood glucose ?"
          ],
          [
           "are there any natural remedies that work the same as taking diabetes medicine ?"
          ],
          [
           "i have just been diagnosed with type one diabetes is it normal two want two like <unk> suicide or something ?"
          ],
          [
           "what is the earliest age you could get a cure for diabetes ?"
          ],
          [
           "first aid treatment for diabetes mellitus ?"
          ],
          [
           "what are the signs and symptoms of a person suffering from a diabetic coma ?"
          ],
          [
           "what are typical dangerous blood sugar levels for a diabetic ?"
          ],
          [
           "what is the cause of diabeties ?"
          ],
          [
           "how do you treat hypertension with diabetes ?"
          ],
          [
           "what are the characteristics of a person with type one diabetes ?"
          ],
          [
           "is there a cure for diabeties ?"
          ],
          [
           "can you recover from diabetes ?"
          ],
          [
           "what part of the body is affected by primary lateral sclerosis ?"
          ],
          [
           "what should you do if you injected the wrong insulin ?"
          ],
          [
           "what benefit is low carbon sugar is it helpful in the management of diabetes ?"
          ],
          [
           "what are the types of diabetes children can develop and the symptoms related to these ?"
          ],
          [
           "how do you treat diabetes insipidus ?"
          ],
          [
           "how to keep a normal blood sugar level ?"
          ],
          [
           "what are the food that patient have diabetic need to eat ?"
          ],
          [
           "how could the liver maintain homeostasis after a person eats a meal that <unk> in large amounts of sugar entering the blood ?"
          ],
          [
           "what are the release dates for project not me diabetes prevention - two thousand and twelve taking <unk> <unk> ?"
          ],
          [
           "can diabetics donate a kidney ?"
          ],
          [
           "when you have sweets and get sleepy do you have diabetes ?"
          ],
          [
           "how many carbs are in a shot of whiskey ?"
          ],
          [
           "what is considered and good low and high blood sugar ?"
          ],
          [
           "what is normal blood sugar for kids ?"
          ],
          [
           "what is the name of a disease when blood sugar levels are above normal ?"
          ],
          [
           "why does mango help in <unk> diabetes ?"
          ],
          [
           "diabetes is a result of the insufficient production of what ?"
          ],
          [
           "what to do when blood sugar is over three hundred ?"
          ],
          [
           "diabetes support groups ?"
          ],
          [
           "can you die of type two diabetes ?"
          ],
          [
           "what is the diagnosis code for <unk> ?"
          ],
          [
           "are there any websites that can help me find diabetic menu planning ?"
          ],
          [
           "what is the risk of insulin ?"
          ],
          [
           "what is ther organ that secretes insulin and glucagon target tissues ?"
          ],
          [
           "what is the prognosis for patients with early stage diabetic neuropathy ?"
          ],
          [
           "would his <unk> beliefs prevent nick jonas from getting stem cell treatment for type one diabetes ?"
          ],
          [
           "what hormone increases blood glucose ?"
          ],
          [
           "if ants are on your toilet bowl does it mean you have diabetes already ?"
          ],
          [
           "how does kevin <unk> recommend curing diabetes ?"
          ],
          [
           "what causes diabetes in human <unk> ?"
          ],
          [
           "i have weak arm is muscles since i am under diabetes and high blood pressure <unk> i suppose to do ?"
          ],
          [
           "what is insulin an example of ?"
          ],
          [
           "information on type one diabetes ?"
          ],
          [
           "diabetes supplies ?"
          ],
          [
           "do any <unk> have diabetes ?"
          ],
          [
           "why is diabetes such a serious disease ?"
          ],
          [
           "what are the health risks in relation to eating too many carbs ?"
          ],
          [
           "can i test my blood sugar with out pricking my finger ?"
          ],
          [
           "what diabetic medicine helps you lose weight ?"
          ],
          [
           "what is the highest blood sugar ?"
          ],
          [
           "what effect does eating have on blood glucose level ?"
          ],
          [
           "is diabetes the epidemic of the <unk> century ?"
          ],
          [
           "what are some ways to manage your diabetes ?"
          ],
          [
           "why is type ii diabetes considered to be a <unk> form of diabetes ?"
          ],
          [
           "can people under twenty have diabetes ?"
          ],
          [
           "what are cures for diabetes ?"
          ],
          [
           "diabetes treatment ?"
          ],
          [
           "food for diabetics ?"
          ],
          [
           "when and how was diabetes discovered ?"
          ],
          [
           "what is gestational diabetes and how can it be controlled ?"
          ],
          [
           "do people only eat some food if they have diabetes ?"
          ],
          [
           "was insulin first used in the <unk> of diabetes in one thousand , nine hundred and twenty two or one thousand , nine hundred and fifty two or one thousand , nine hundred and eighty two ?"
          ],
          [
           "diabetics should be <unk> to always carry a form of <unk> carbohydrate in case of emergency ?"
          ],
          [
           "what is the function of the <unk> ?"
          ],
          [
           "what kind of sugar is in bananas ?"
          ],
          [
           "choose blood glucose strip brands carefully ?"
          ],
          [
           "who made the cure for diabetes ?"
          ],
          [
           "can you really make a cheesecake recipe that is good for a diabetic ?"
          ],
          [
           "why would athletes develop type two diabetes ?"
          ],
          [
           "what are some common autoimmune disorders and their symptoms ?"
          ],
          [
           "what happens if low blood sugar is not treated ?"
          ],
          [
           "what is a fatal dose of insulin ?"
          ],
          [
           "how many people died because of diabetes before insulin was discovered ?"
          ],
          [
           "why do you need a balanced diet ?"
          ],
          [
           "can you get type one diabetes at any stage of your life ?"
          ],
          [
           "does chicken affect diabetes ?"
          ],
          [
           "free diabetes meter ?"
          ],
          [
           "what types of food are recommended to be avoided when on a diabetic diet ?"
          ],
          [
           "can type two diabetics drink milo ?"
          ],
          [
           "do antibiotics affect blood sugar levels ?"
          ],
          [
           "how does type one daibetes differ from type two diabetes ?"
          ],
          [
           "why does decreased insulin cause diabetes ?"
          ],
          [
           "does diabetic neuropathy treatment have any risks ?"
          ],
          [
           "what kind of treatment there is for diabetes ?"
          ],
          [
           "what diseases can diabetes give you ?"
          ],
          [
           "how much people died of diabetes before insulin ?"
          ],
          [
           "does diabetes affect pregnancy ?"
          ],
          [
           "where can one obtain diabetic testing ?"
          ],
          [
           "can diabetics on insulin take amoxicillin ?"
          ],
          [
           "what are the top rated hospitals for diabetes and endocrinology ?"
          ],
          [
           "why a person who has diabetes mellitus have more acidic urine ?"
          ],
          [
           "what foods should a diabetic eat ?"
          ],
          [
           "can you get diabetes from to much sugar ?"
          ],
          [
           "my doctor asked me if a patient of <unk> had diabetes . i said no just high blood pressure . he said that is diabetes . does having high blood pressure mean you have diabetes ?"
          ],
          [
           "how can you control your diabetes ?"
          ],
          [
           "can insulin syringes be used to measure any medication for <unk> use ?"
          ],
          [
           "should you use a blood glucose test daily if you have too much insulin ?"
          ],
          [
           "where did insulin come from ?"
          ],
          [
           "how do people handle diabetes ?"
          ],
          [
           "what is the most common sign of diabetes ?"
          ],
          [
           "could hepatitis be caused from agent orange ?"
          ],
          [
           "can smoking cause diabetes ?"
          ],
          [
           "why do diabetic people go blind ?"
          ],
          [
           "the islets of langerhans produce two peptide hormones insulin and glucagon that interact to <unk> the level of glucose in the blood ?"
          ],
          [
           "what is the best cereal for a diabetic ?"
          ],
          [
           "gastric bypass surgery recommended as treatment for diabetes ?"
          ],
          [
           "are sweeteners bad for diabetics ?"
          ],
          [
           "what are healthy levels for blood glucose during fasting ?"
          ],
          [
           "how does diabetes function in the body including immune system function brain function mutation gene function or anything else ?"
          ],
          [
           "which one of the following choices is the best way to control type ii diabetes ?"
          ],
          [
           "is diabetes testing recommended for everyone ?"
          ],
          [
           "how does alcohol affect diabetes people ?"
          ],
          [
           "what causes excessive thirst high blood glucose levels acidosis ?"
          ],
          [
           "what is a normal range of total iron <unk> capacity in the blood ?"
          ],
          [
           "what kind of diabetes did nick jonas had ?"
          ],
          [
           "can you <unk> if you have diabetes ?"
          ],
          [
           "what is the difference between humulin insulin and <unk> insulin ?"
          ],
          [
           "can diabetics eat <unk> ?"
          ],
          [
           "how do children cope with diabetes ?"
          ],
          [
           "who gets diabetes ?"
          ],
          [
           "why is insulin the right treatment for diabetes ?"
          ],
          [
           "what are the different types of diabetes ?"
          ],
          [
           "who would <unk> a diabetic <unk> ?"
          ],
          [
           "what is an iu when measuring vitamins a d and e and how does it translate to <unk> and or mg ?"
          ],
          [
           "does <unk> affect your diabetes ?"
          ],
          [
           "where can i purchase or copy the best menu for nutrition for diabetics ?"
          ],
          [
           "what are some symptoms of being borderline diabetic ?"
          ],
          [
           "what kinds of treatment are there for diabetic eye problems ?"
          ],
          [
           "what are normal blood glucose levels for an adult ?"
          ],
          [
           "what animals can have diabetes ?"
          ],
          [
           "is a blood sugar level of three hundred and eighty dangerous ?"
          ],
          [
           "what affects does crack have on diabetics ?"
          ],
          [
           "is tequila good for a diabetic patient ?"
          ],
          [
           "how did nick get diabetes ?"
          ],
          [
           "name something that happens to you when you eat too much sugar ?"
          ],
          [
           "what causes hand cramps ?"
          ],
          [
           "how does insulin work ?"
          ],
          [
           "what healthy foods for diabetics should i start cooking ?"
          ],
          [
           "how long after taking diabetes medicine can you drink tea ?"
          ],
          [
           "how do you get rid of type one diabetes ?"
          ],
          [
           "is one hundred and sixty blood sugar reading after eating all right ?"
          ],
          [
           "diabetic test strips ?"
          ],
          [
           "<unk> of insulin <unk> how much amount of glucose ?"
          ],
          [
           "what do people with type one diabetes do to control their blood pressure ?"
          ],
          [
           "what are some quick diabetes recipes ?"
          ],
          [
           "do cranberries help diabetes ?"
          ],
          [
           "what to eat if you have diabetes type two ?"
          ],
          [
           "where can an older diabetic find a reasonably priced life insurance policy ?"
          ],
          [
           "what is ketosis ?"
          ],
          [
           "how many children die each year from diabetes ?"
          ],
          [
           "why do you suddenly fall asleep after eating ?"
          ],
          [
           "where can i find more information on diabetes dtour diet ?"
          ],
          [
           "should diabetics drink beer ?"
          ],
          [
           "how do you treat or cure diabetes ?"
          ],
          [
           "how do you develop diabetes two ?"
          ],
          [
           "who said diabetics can not have cake ?"
          ],
          [
           "insulin shock is a form of what ?"
          ],
          [
           "what year was the insulin pump invented ?"
          ],
          [
           "initial onset of regular insulin given subcutaneously ?"
          ],
          [
           "who invented the insulin ?"
          ],
          [
           "how do you know you have gestational diabetes ?"
          ],
          [
           "can someone be health and get diabetes because your dad has it ?"
          ],
          [
           "concerns with <unk> engineered insulin ?"
          ],
          [
           "diabetes treatment guidelines ?"
          ],
          [
           "what happens if you mix different brands of insulin such as novorapid and lantus ?"
          ],
          [
           "what causes the red color of blood ?"
          ],
          [
           "what surgical treatment can be used for diabetes ?"
          ],
          [
           "can type one diabetes be cured ?"
          ],
          [
           "did <unk> winters die of diabetes ?"
          ],
          [
           "what are some side effects from diabetes drugs ?"
          ],
          [
           "will the flu shot affect you if you are a diabetic ?"
          ],
          [
           "why does blood sugar not go to <unk> ?"
          ],
          [
           "could you get diabetes if your uncle has it ?"
          ],
          [
           "why polyuria occurs in <unk> ?"
          ],
          [
           "what is the normal blood glucose levels for a healthy person ?"
          ],
          [
           "can homeopathy cure diabetes ?"
          ],
          [
           "how can i get diabetes ?"
          ],
          [
           "what dosage of glyburide is given to a cat with diabetes ?"
          ],
          [
           "what are <unk> lancets ?"
          ],
          [
           "will hamburger raise your blood sugar levels ?"
          ],
          [
           "what is the diabetes that is not to bad ?"
          ],
          [
           "is coffee help full in diabetes two ?"
          ],
          [
           "is anorexia part of diabetes ?"
          ],
          [
           "what is precision <unk> glucose meter <unk> ?"
          ],
          [
           "why do patients suffering from <unk> dependent diabetes mellitus develop hypoglycemia ?"
          ],
          [
           "what is the abbreviation for postprandial blood sugar ?"
          ],
          [
           "what would a diabetics diet menu consist of ?"
          ],
          [
           "how many hours should you fast before a diabetes test ?"
          ],
          [
           "one hour of exercise lows blood sugar level ?"
          ],
          [
           "high concentrations of <unk> in the blood are associated with the development of ?"
          ],
          [
           "what are some good diabetic food recipes that will help <unk> my symptoms ?"
          ],
          [
           "can diabetes cause alcohol breath ?"
          ],
          [
           "medications for diabetes ?"
          ],
          [
           "does banana contribute to diabetes ?"
          ],
          [
           "what is the normal range of blood sugar for diabetic ?"
          ],
          [
           "what fruits can a diabetic have ?"
          ],
          [
           "three ways to prevent serious illnesses such as heart disease cancer diabetes and stroke ?"
          ],
          [
           "which group of chemicals does the hormone insulin belong ?"
          ],
          [
           "can diabetics drink <unk> blue ?"
          ],
          [
           "what does diabetes do ?"
          ],
          [
           "what is <unk> diabetes ?"
          ],
          [
           "is wheat good four diabetes ?"
          ],
          [
           "can <unk> sugar be used on diabetic cookies ?"
          ],
          [
           "describe diabetes mellitus type two in your own words ?"
          ],
          [
           "are doctors who have specialized in nephrology currently in high demand ?"
          ],
          [
           "what do <unk> <unk> in a person with diabetes ?"
          ],
          [
           "what resistance leads to hyperglycemia and ketoacidosis ?"
          ],
          [
           "why do diabetics take insulin ?"
          ],
          [
           "is itching a symptom of diabetes ?"
          ],
          [
           "what is a bone marrow biopsy ?"
          ],
          [
           "where can i find a yoga <unk> in south florida ?"
          ],
          [
           "what type of infection can lead to diabetes ?"
          ],
          [
           "why is <unk> nutrition injected and not taken orally ?"
          ],
          [
           "sometimes prolonged excessive exposure to high hormone concentrations causes a phenomenon known as ?"
          ],
          [
           "are bananas good for diabetics ?"
          ],
          [
           "can anyone assist me with more information about diabetic meal plan for someone who is diabetic ?"
          ],
          [
           "is <unk> root good for diabetics ?"
          ],
          [
           "what is the structure in the human body that is the usual source of insulin ?"
          ],
          [
           "can you use <unk> with type two diabetes ?"
          ],
          [
           "where can i find diabetes supplements online ?"
          ],
          [
           "does diabetes cause peripheral neuropathy ?"
          ],
          [
           "what causes high triglycerides ?"
          ],
          [
           "is cabbage good for diabetes ?"
          ],
          [
           "does diabetes make you sick ?"
          ],
          [
           "how do you make simple syrup with sodium saccharin ?"
          ],
          [
           "does diabetes require round the <unk> care ?"
          ],
          [
           "what are the best ways of controlling diabetes ?"
          ],
          [
           "can a cdl <unk> in florida still drive if he is a diabetic using insulin ?"
          ],
          [
           "what causes tingling in left hand fingers ?"
          ],
          [
           "how do you deliver sugar to an unconscious diabetic ?"
          ],
          [
           "how does diabetes affect personal relationships ?"
          ],
          [
           "what is the doctor in diabetes ?"
          ],
          [
           "what the <unk> of type two diabetes ?"
          ],
          [
           "does beer affect diabetes ?"
          ],
          [
           "can you inherit diabetes from your family ?"
          ],
          [
           "what happens when thyroxine increases ?"
          ],
          [
           "what are the treatment for diabetes ?"
          ],
          [
           "what kind of organism is used to produce human insulin ?"
          ],
          [
           "how much is two grams of sugar ?"
          ],
          [
           "can you develop diabetes from eating too many carbs ?"
          ],
          [
           "normal protein levels in blood ?"
          ],
          [
           "why are overweight people more likely to get diabetes ?"
          ],
          [
           "is beer or wine bad for diabetics ?"
          ],
          [
           "what types of diabetes are determined by the functioning of the ?"
          ],
          [
           "what if i had diabetes for a while and did not know it and can not go to the doctor is to see if you do have it will it get worse ?"
          ],
          [
           "what are the different types of insulin currently available for diabetes patients ?"
          ],
          [
           "is there a pill that you can take to lose weight ?"
          ],
          [
           "what would increase insulin secretion in type ii diabetes ?"
          ],
          [
           "can sugar free rise blood sugar ?"
          ],
          [
           "what is one of the major food categories in a type two diabetes diet ?"
          ],
          [
           "what is the symptoms of diabetics ?"
          ],
          [
           "how can you help people that has diabetes ?"
          ],
          [
           "what can you do for type two diabetic ?"
          ],
          [
           "can diabetes be <unk> down from your parents ?"
          ],
          [
           "what gland does diabetes affect ?"
          ],
          [
           "are diabetes fatal ?"
          ],
          [
           "why is insulin taken orally ?"
          ],
          [
           "can diabetic supplies be dangerous ?"
          ],
          [
           "what is the treatment of diabetes ?"
          ],
          [
           "can being diabetic cause an ongoing cold and flu ?"
          ],
          [
           "which type of diabetes needs insulin injections ?"
          ],
          [
           "what are side effects from insulin ?"
          ],
          [
           "what are some diabetic foods to avoid ?"
          ],
          [
           "signs of diabetes mellitus ?"
          ],
          [
           "using a glucose meter to adjust your diet ?"
          ],
          [
           "where would it be possible to access a supply of diabetic sweets online ?"
          ],
          [
           "what is smart insulin ?"
          ],
          [
           "can a type diabetic be admitted to the naval academy ?"
          ],
          [
           "where to buy diabetic testing supplies ?"
          ],
          [
           "how <unk> to eat banana for a diabetes patient ?"
          ],
          [
           "glucose level one hundred and eleven ?"
          ],
          [
           "how do you know if your blood sugar is low ?"
          ],
          [
           "blood sugar levels are lowered by ?"
          ],
          [
           "what occurs when the body is not able to produce insulin ?"
          ],
          [
           "diabetic nutrition ?"
          ],
          [
           "what kind of food should a diabetes person as to eat ?"
          ],
          [
           "if a diabetic passes out do you give smelling salts ?"
          ],
          [
           "what is the predisposing factors of diabetes mellitus ?"
          ],
          [
           "where can you find dbx-13 for diabetes ?"
          ],
          [
           "what are some reasons a person would start urinating a lot ?"
          ],
          [
           "what kind of foods cause rapid weight loss ?"
          ],
          [
           "how does diet affect diabetes ?"
          ],
          [
           "can <unk> cause a sharp spike in blood sugar levels ?"
          ],
          [
           "how did scientists find the human gene that makes insulin ?"
          ],
          [
           "does novocaine affect your blood sugar ?"
          ],
          [
           "what is the role of liver and pancreas in controlling the blood glucose level ?"
          ],
          [
           "when you are diabetic and on insulin what can you do to bring down you glucose level aside from giving yourself an insulin shot ?"
          ],
          [
           "how much <unk> do you give an adult pregnant patient having a one hour gestational diabetes screen ?"
          ],
          [
           "where is the american diabetes association ?"
          ],
          [
           "is diabetes a dominant or recessive trait ?"
          ],
          [
           "what will happen if a diabetic patient drinks alcohol ?"
          ],
          [
           "where can one find dessert recipes for diabetics ?"
          ],
          [
           "is <unk> suitable for diabetics ?"
          ],
          [
           "what are some suggestions for eating with diabetes ?"
          ],
          [
           "how could parents protect their children against diabetes ?"
          ],
          [
           "how many peoples day from diabetes in america ?"
          ],
          [
           "is diabetes can eat bananas ?"
          ],
          [
           "can you take <unk> when you got diabetes ?"
          ],
          [
           "is it bad to have low blood sugar levels ?"
          ],
          [
           "do you have to be a certain age to buy glucose tablets from the shops ?"
          ],
          [
           "factors that can lead to heart disease ?"
          ],
          [
           "a deficiency in what hormone could cause the immune system to <unk> ?"
          ],
          [
           "why must insulin be administered in injection ?"
          ],
          [
           "what is the leading cause of diabetes type two ?"
          ],
          [
           "how many people in the us have type i diabetes ?"
          ],
          [
           "cost of diabetic supplies at <unk> ?"
          ],
          [
           "can you have a tattoo if your diabetic ?"
          ],
          [
           "how can i prevent adult onset diabetes . ?"
          ],
          [
           "does diabetes cause headaches after eating sweets ?"
          ],
          [
           "what is diabetes millitus ?"
          ],
          [
           "who discovered the cure for the diabetes ?"
          ],
          [
           "what does coma mean ?"
          ],
          [
           "what is normal blood sugar level after eating ?"
          ],
          [
           "does the diabetic drug lantus have side effects ?"
          ],
          [
           "when did nick had diabetes ?"
          ],
          [
           "where can i find more information on diabetic meals ?"
          ],
          [
           "what is a good diet that a diabetic should try ?"
          ],
          [
           "have you tried <unk> ?"
          ],
          [
           "can feeding dogs sugar cause diabetes ?"
          ],
          [
           "can <unk> is hurt kids with diabetes ?"
          ],
          [
           "treatment for diabetes ?"
          ],
          [
           "is diabetes mellitus a chronic disease ?"
          ],
          [
           "is their a relationship between diabetes and the pancreas ?"
          ],
          [
           "does <unk> one hundred mg tabs raise ones blood sugar a lot ?"
          ],
          [
           "what is the most common meal planning for diabetic people ?"
          ],
          [
           "in type one diabetes what may be destroyed by the auto immune disease ?"
          ],
          [
           "how many people in <unk> have diabetes ?"
          ],
          [
           "what organs do diabetes mellitus and diabetes <unk> affect ?"
          ],
          [
           "what is niddm ?"
          ],
          [
           "is diabetes a diseas ?"
          ],
          [
           "does a diabetic have excess sugar in semen ?"
          ],
          [
           "what organs are affected by diabetes ?"
          ],
          [
           "how can you avoid getting diabetes ?"
          ],
          [
           "what can be done about swollen leg due to diabetes ?"
          ],
          [
           "what food is bad for diabetes ?"
          ],
          [
           "how many seconds should it take to inject insulin ?"
          ],
          [
           "what is the proper aha first aid response to diabetic attack ?"
          ],
          [
           "what are glucose tablets ?"
          ],
          [
           "`` i know lantus is a diabetes medicine , but how is it applied i could not find the lantus package <unk> '' ?"
          ],
          [
           "what are the side effects associated with using <unk> ?"
          ],
          [
           "how do you get tested for type three diabetes ?"
          ],
          [
           "what is a major cause of type one juvenile diabetes ?"
          ],
          [
           "what happens when blood glucose levels get too low ?"
          ],
          [
           "could tibicos good for diabetic person ?"
          ],
          [
           "what diet <unk> diabetes ?"
          ],
          [
           "when a person who has diabetes has difficulty producing what ?"
          ],
          [
           "what types of foods can diabetics eat ?"
          ],
          [
           "is there a type four diabetes ?"
          ],
          [
           "what are the <unk> ' of diabetes ?"
          ],
          [
           "how does a diabetics body respond to sugar entering the blood ?"
          ],
          [
           "what effect dies not taking your diabetes medication have on the body ?"
          ],
          [
           "what do you do if your blood sugar is low ?"
          ],
          [
           "what is the best way to lose forty pounds if you are fifty five and borderline diabetic ?"
          ],
          [
           "what are some diet and exercise tips for diabetic men that do not like to exercise and love to eat unhealthy foods ?"
          ],
          [
           "what is a <unk> blood glucose test ?"
          ],
          [
           "what type of information can you follow on track three ?"
          ],
          [
           "true or false scientists use genetic engineering to produce bacteria that is capable of <unk> human proteins ?"
          ],
          [
           "what diet is the best to follow for someone with diabetes ?"
          ],
          [
           "what is <unk> diabetic ?"
          ],
          [
           "how many new case of diabetes are diagnosed each day in the us ?"
          ],
          [
           "how long does it take for <unk> to react to high blood sugars ?"
          ],
          [
           "what can you eat with diabetes ?"
          ],
          [
           "do mice have diabetes ?"
          ],
          [
           "what is the normal range of fasting blood glucose ?"
          ],
          [
           "what is hypogycemic ?"
          ],
          [
           "how many units of insulin are in zero point five ml of regular u-100 insulin ?"
          ],
          [
           "how do you treated a patient that has been giving too much insulin ?"
          ],
          [
           "how many <unk> had diabetes ?"
          ],
          [
           "if a parent has diabetes is it likely the baby will have diabetes ?"
          ],
          [
           "after fasting all night , what is a normal blood sugar level in the morning ?"
          ],
          [
           "what diet do i need to take for diabetes type two ?"
          ],
          [
           "which beer is good for diabetic patients ?"
          ],
          [
           "what is the function of <unk> ?"
          ],
          [
           "what is glycosuria ?"
          ],
          [
           "how does type two diabetes affect the <unk> system ?"
          ],
          [
           "i has diabetes type1 <unk> to leave the insulin injections and use drug called januvia <unk> co . for type2 because i <unk> had very <unk> in my sleeping lead me to the epilepsy in my sleep ?"
          ],
          [
           "what hormone involved in diabetes insipidus ?"
          ],
          [
           "if a person has diabetes and their blood sugars drop to fifty what can happen ?"
          ],
          [
           "what sugar levels are normal for someone with diabetes ?"
          ],
          [
           "what is the healthy blood sugar levels chart ?"
          ],
          [
           "what are some warning signs of diabetes when you are twenty years old ?"
          ],
          [
           "diet plans for diabetics ?"
          ],
          [
           "can diabetes cause organ shut down ?"
          ],
          [
           "where can one purchase the <unk> diabetic testing supplies ?"
          ],
          [
           "how common is diabetes type one ?"
          ],
          [
           "what is the definition of diabetes ?"
          ],
          [
           "tell when does a patient need to be given glucose ?"
          ],
          [
           "why do people with type one diabetes have their feet <unk> ?"
          ],
          [
           "why go for a glucose tolerance test ?"
          ],
          [
           "how long do people live with diabetes ?"
          ],
          [
           "what are the genes responsible for diabetes ?"
          ],
          [
           "does high blood sugar effect male sexual performance ?"
          ],
          [
           "can <unk> care help diabetes ?"
          ],
          [
           "what does starch do for your body ?"
          ],
          [
           "why do some foods test positive for glucose but do not taste sweet ?"
          ],
          [
           "what is an activity that goes with diabetes ?"
          ],
          [
           "what is the electrolyte disorder that <unk> diabetic ketosis ?"
          ],
          [
           "what is the effect of low sugar in the blood ?"
          ],
          [
           "what supplements can help with diabetes ?"
          ],
          [
           "the trouble with weight ?"
          ],
          [
           "does diabetes affect the eyes ?"
          ],
          [
           "whats the difference between diabetes types one and two ?"
          ],
          [
           "if blood sugar is spiking can you do anything about it ?"
          ],
          [
           "what is the range of glucose in <unk> ?"
          ],
          [
           "how many americans die <unk> from diabetes and its complications ?"
          ],
          [
           "how to avoid or treat a hyperglycemia ?"
          ],
          [
           "what can you eat to lower your blood sugar quick ?"
          ],
          [
           "what is one common type of diabetes ?"
          ],
          [
           "do they let diabetics do any part of the marine <unk> ?"
          ],
          [
           "can a diabetic have the color red in a tattoo ?"
          ],
          [
           "who founded the american <unk> association ?"
          ],
          [
           "are there any home remedies to treat diabetes ?"
          ],
          [
           "what should you do if you have type one diabetes and have your recommended level of sugar yet still feel low on energy ?"
          ],
          [
           "where can one find information on diabetes ?"
          ],
          [
           "what are some pre diabetes symptoms ?"
          ],
          [
           "are there any natural herbs that can cure diabetes ?"
          ],
          [
           "how does a high level of triglycerides present in the bloodstream affect your health ?"
          ],
          [
           "what are the two types of <unk> ?"
          ],
          [
           "what happens if you do not control diabetes ?"
          ],
          [
           "is broccoli is bad for diabetics ?"
          ],
          [
           "what is the importance of testing for electrolyte levels and what can happen if the electrolyte levels are not in balance ?"
          ],
          [
           "how are blood glucose levels controlled ?"
          ],
          [
           "where can i find restaurants with diabetic menus ?"
          ],
          [
           "can <unk> year <unk> get diabetes ?"
          ],
          [
           "can you <unk> with diabetes ?"
          ],
          [
           "what is do you have to wear when you have diabetes ?"
          ],
          [
           "are pee tests ninety nine point nine percent accurate ?"
          ],
          [
           "where can i obtain a diabetic food pyramid ?"
          ],
          [
           "what diagnostic tests are used to confirm diabetes ?"
          ],
          [
           "what does diabetes type one affect ?"
          ],
          [
           "what diets are out there for people with diabetes ?"
          ],
          [
           "where can i find a list of foods a diabetic can eat ?"
          ],
          [
           "what kind of diet is recommended for diabetics ?"
          ],
          [
           "what is a good diet to keep your sugar levels down ?"
          ],
          [
           "what should a diabetic avoid to eat ?"
          ],
          [
           "can a dog develop diabetes ?"
          ],
          [
           "can you prevent type one diabetes ?"
          ],
          [
           "where can i find more information on sugar solution ?"
          ],
          [
           "what affects more people aids breast cancer or diabetes ?"
          ],
          [
           "what happens when your blood sugar is above normal ?"
          ],
          [
           "what are the medicine for diabetic person ?"
          ],
          [
           "why is orange juice recommended when blood sugar is low ?"
          ],
          [
           "where can i buy a blood sugar levels chart ?"
          ],
          [
           "what is mechanism of action <unk> <unk> as <unk> ?"
          ],
          [
           "what shape is gangrene ?"
          ],
          [
           "what is the best dry dog food for diabetic dogs ?"
          ],
          [
           "what are some foods to serve to someone on a diabetic diet ?"
          ],
          [
           "does having pre diabetes make you more likely to get gestational diabetes ?"
          ],
          [
           "type one and type two diabetes ?"
          ],
          [
           "what does it mean when your blood sugar count is two hundred and ninety seven ?"
          ],
          [
           "is diabetes type two something to be worried about ?"
          ],
          [
           "where online can i find a glycemic index chart ?"
          ],
          [
           "were does the sugar in your blood come from ?"
          ],
          [
           "when someone dies of a diabetic seizure what do they look like in detail please ?"
          ],
          [
           "what enzyme does diabetes affect ?"
          ],
          [
           "doctors sometimes <unk> that people with diabetes eat several small meals rather than three large ones why do you think doctors give this advice ?"
          ],
          [
           "how is bacteria used to make insulin ?"
          ],
          [
           "what are two causes leading to diabetes ?"
          ],
          [
           "is it good to massage the head of <unk> one with headache ?"
          ],
          [
           "where can i find diabetic recipes ?"
          ],
          [
           "i have pins and needles in your hands and pain im a diabetic and am on <unk> what could b the cause of this ?"
          ],
          [
           "is <unk> good for diabetes ?"
          ],
          [
           "what is the normal blood surgar ?"
          ],
          [
           "normal blood sugar level for type two diabetes ?"
          ],
          [
           "what is the best diet for a diabetic ?"
          ],
          [
           "how do you test for <unk> autoimmune diabetes ?"
          ],
          [
           "what is the function of <unk> ?"
          ],
          [
           "how are blood glucose levels tested ?"
          ],
          [
           "what happens to diabetics if they stop taking insulin ?"
          ],
          [
           "does swelling in the leg cause nerve damage ?"
          ],
          [
           "what are the main ingredients in diabetic recipes ?"
          ],
          [
           "what is caused by the body is inability to produce or properly use insulin ?"
          ],
          [
           "why do not people <unk> diabetes ?"
          ],
          [
           "how do you get type one diabetes ?"
          ],
          [
           "what kind of products does the novo nordisk company produce ?"
          ],
          [
           "is diabetes <unk> inherited ?"
          ],
          [
           "how do you control your blood sugar ?"
          ],
          [
           "what are the release dates for project not me diabetes prevention - two thousand and twelve fat <unk> 1-2 ?"
          ],
          [
           "where can i find a free diabetes meter ?"
          ],
          [
           "what is a good test to see if you have diabetes ?"
          ],
          [
           "where can i find recipes for <unk> desserts ?"
          ],
          [
           "is swimming good for type two diabetes ?"
          ],
          [
           "do diabetic cookbooks only contain diabetic specific meals ?"
          ],
          [
           "what are some simple diet plans for a diabetic ?"
          ],
          [
           "does dark chocolate help type two diabetes ?"
          ],
          [
           "can low blood sugar cause renal failure ?"
          ],
          [
           "where can i find information about type i diabetes ?"
          ],
          [
           "who is most likely to get diabetes ?"
          ],
          [
           "can german <unk> get diabetes ?"
          ],
          [
           "latest medicine for type two diabetes ?"
          ],
          [
           "what is daily carb allowed for diabetic ?"
          ],
          [
           "can a diabetic <unk> in <unk> ?"
          ],
          [
           "what are the diseases that can be inherited ?"
          ],
          [
           "how many people get diabetes in a year ?"
          ],
          [
           "what is known about <unk> for diabetics ?"
          ],
          [
           "diabetic ulcers ?"
          ],
          [
           "can too much insulin kill you ?"
          ],
          [
           "is diabetes mellitus an acute disorder ?"
          ],
          [
           "if you are hypoglycemic how can you become diabetic ?"
          ],
          [
           "what type medicine helps pancres <unk> ?"
          ],
          [
           "is <unk> <unk> safe for type two diabetics ?"
          ],
          [
           "how many diabetes are there ?"
          ],
          [
           "which is the worst diabetes ?"
          ],
          [
           "what are the negative effects of massage to a person with diabetes ?"
          ],
          [
           "how does walking help blood sugar levels ?"
          ],
          [
           "why do diabetics need to monitor their blood sugar levels ?"
          ],
          [
           "why does diabetic patient experience more <unk> than a non diabetic patient ?"
          ],
          [
           "is diabetes life threatening ?"
          ],
          [
           "what are signs and symptoms for diabetic coma ?"
          ],
          [
           "where is glucose released from ?"
          ],
          [
           "is type one diabetes a mutation ?"
          ],
          [
           "can diabetes raise blood alcohol content ?"
          ],
          [
           "hormone action is regulated by ?"
          ],
          [
           "what is the type two diabetes ?"
          ],
          [
           "do diabetics eat more or less sugar ?"
          ],
          [
           "is <unk> good for diabetic ?"
          ],
          [
           "why do you need two kidneys ?"
          ],
          [
           "if you are fifteen and have type one diabetes can you die ?"
          ],
          [
           "how dangerous are high blood sugar levels ?"
          ],
          [
           "did elvis <unk> presley have diabetes type one or two ?"
          ],
          [
           "how is diabetes controlled ?"
          ],
          [
           "at what age are most people diagnosed with diabetes ?"
          ],
          [
           "who discovered type one diabetes ?"
          ],
          [
           "what causes a bad taste in your mouth ?"
          ],
          [
           "when was type one diabetes discovered ?"
          ],
          [
           "diabetes meal planning services ?"
          ],
          [
           "is type one diabetes easier or harder to treat than type two diabetes ?"
          ],
          [
           "which endocrine gland controls sugar levels in the blood ?"
          ],
          [
           "what animal can turn diabetes on and off ?"
          ],
          [
           "<unk> makes insulin because ?"
          ],
          [
           "what should my diabetic dad order when eating out ?"
          ],
          [
           "what health problems will <unk> salt interfere with ?"
          ],
          [
           "the average blood sugar over the past three weeks is measured by what test ?"
          ],
          [
           "do most diabetic cake recipes use splenda or sweet n low ?"
          ],
          [
           "do diabetics have fits ?"
          ],
          [
           "who discovered the causes of diabetes ?"
          ],
          [
           "what does frequent blood sugar levels over one hundred and sixty after eating mean ?"
          ],
          [
           "can you get diabetes from consuming the blood of someone with diabetes ?"
          ],
          [
           "what is the recovery time for laser surgery for retinopathy ?"
          ],
          [
           "whats the best dessert recipe for a diabetic female ?"
          ],
          [
           "is sugar free <unk> ok to drink with type two diabetes ?"
          ],
          [
           "is diabetes severe than a stroke ?"
          ],
          [
           "is <unk> lil boosie type one or type two diabetic ?"
          ],
          [
           "what are the common sources of infection ?"
          ],
          [
           "when a person had a low blood sugar suggest what he could eat to bring up his blood sugar level in the fastest way ?"
          ],
          [
           "what are some ways to help prevent diabetes ?"
          ],
          [
           "how would a <unk> be used in treating diabetes ?"
          ],
          [
           "is diabetes insipidus recognized as a disability ?"
          ],
          [
           "what are normal glucose levels ?"
          ],
          [
           "what is the <unk> of insulin ?"
          ],
          [
           "what type of sugar is in bananas ?"
          ],
          [
           "four diseases that are communicable ?"
          ],
          [
           "what are the the first treatments implemented in diabetes ?"
          ],
          [
           "how many people currently have diabetes in <unk> ?"
          ],
          [
           "how dangerous are blood sugar levels above three hundred ?"
          ],
          [
           "how many cc in ten units of insulin ?"
          ],
          [
           "what symptom is common to a patient with diabetes mellitus as well as diabetes insipidus ?"
          ],
          [
           "is there a way to detect a diabetes carrier ?"
          ],
          [
           "treatment for diabetic retinopathy ?"
          ],
          [
           "what happens if you get insulin in your eye ?"
          ],
          [
           "do diabetic people need to smoke ?"
          ],
          [
           "how many calories can a diabetic have a day ?"
          ],
          [
           "what is the <unk> name of glucose ?"
          ],
          [
           "is there a difference between hypoglycemia and add ?"
          ],
          [
           "why diabetic patient prefer to use sheep insulin than human insulin ?"
          ],
          [
           "how can you control diabetes ?"
          ],
          [
           "what is a condition in which the body is unable to produce or use insulin ?"
          ],
          [
           "was diabetes contagious in world war one ?"
          ],
          [
           "is diabetes medicine available without a prescription ?"
          ],
          [
           "what are some treatment types for diabetes ?"
          ],
          [
           "what do a1c levels tell you about a diabetic person ?"
          ],
          [
           "what special precautions are taken for children with known food allergies diabetes or <unk> disease ?"
          ],
          [
           "what nutrients help you prevent diabetes ?"
          ],
          [
           "do you know where to find diabetes recipes ?"
          ],
          [
           "indulge in tasty snacks for diabetics ?"
          ],
          [
           "controlling diabetes ?"
          ],
          [
           "what groups of women get diabetes more often ?"
          ],
          [
           "why is a test for hba1c so important for diabetics ?"
          ],
          [
           "what is the <unk> of symptoms called metabolic syndrome or insulin resistance syndrome linked to insulin resistance ?"
          ],
          [
           "what causes type one diabetes mellitus caused by ?"
          ],
          [
           "what does the code <unk> mean on an medtronic mini med insulin pump ?"
          ],
          [
           "how many carbohydrates for non diabetic ?"
          ],
          [
           "can <unk> be of benefit to diabetic men ?"
          ],
          [
           "meal planning for diabetes - carbs count ?"
          ],
          [
           "polyuria is a common symptom of diabetes mellitus ?"
          ],
          [
           "what is the scientific name for the bacteria that causes diabetes ?"
          ],
          [
           "do <unk> treat diabetes ?"
          ],
          [
           "what is a disease in which the body does not produce or properly use insulin . ?"
          ],
          [
           "what herb cures <unk> ?"
          ],
          [
           "what should your blood sugar levels be before eating a meal ?"
          ],
          [
           "what is a normal sugar level for twenty year old ?"
          ],
          [
           "what is the medical term meaning accumulation of ketone bodies in the blood results of the condition diabetes mellitus ?"
          ],
          [
           "what number is low sugar ?"
          ],
          [
           "how is is diabetes genetically transfer ?"
          ],
          [
           "what cause diabetics ?"
          ],
          [
           "are there any good diabetic carrot cake recipes ?"
          ],
          [
           "what is the name of the organ or gland that produces insulin ?"
          ],
          [
           "can tv cause diabetes ?"
          ],
          [
           "can eating too much sweets cause diabetes ?"
          ],
          [
           "what are some simple dessert recipes for diabetics ?"
          ],
          [
           "which endocrine gland regulates blood sugar levels ?"
          ],
          [
           "can diabetes be detected before the symptoms appear diabetes mellitus ?"
          ],
          [
           "can diabetes be transmitted ?"
          ],
          [
           "what are the release dates for project not me diabetes prevention - two thousand and twelve eat less fat <unk> ?"
          ],
          [
           "kids with diabetes ?"
          ],
          [
           "is it a bad thing if you lose one <unk> in a week and then one point five pounds in a day without trying and if you are thirsty all the time so you drink lots of water ?"
          ],
          [
           "type one diabetes is known as non insulin dependent diabetes ?"
          ],
          [
           "my hba1c level is five point nine what is normal level ?"
          ],
          [
           "will a patient with type ii diabetes require daily insulin injections on a regular basis ?"
          ],
          [
           "what is wrong with a diabetic person when he has extreme thirst ?"
          ],
          [
           "which endocrine gland releases a hormone that increases blood sugar level ?"
          ],
          [
           "how do you get gestational diabetes ?"
          ],
          [
           "is diabetic curable ?"
          ],
          [
           "what is a good thesis statement for diabetes type one ?"
          ],
          [
           "a person with chronic diabetes will <unk> signs of ?"
          ],
          [
           "is diabetes mellitus contagious ?"
          ],
          [
           "what is the normal average for blood sugar ?"
          ],
          [
           "can a diabetic have beetroot juice ?"
          ],
          [
           "what foods are on a reputable diabetic diet food list ?"
          ],
          [
           "why do diabetics get thirsty ?"
          ],
          [
           "what risks contribute to diabetes ?"
          ],
          [
           "how much sugar is in <unk> water ?"
          ],
          [
           "can a person without diabetes get a ulcer ?"
          ],
          [
           "what organ produces insulin ?"
          ],
          [
           "what medicine do people with type one diabetes have to take ?"
          ],
          [
           "what will happen if a non diabetic takes insulin ?"
          ],
          [
           "what are diabetes symptoms in young children ?"
          ],
          [
           "teens with diabetes can eat sugar sweets and deserts ?"
          ],
          [
           "could diabetes cause other sickness ?"
          ],
          [
           "insulin injection cpt code ?"
          ],
          [
           "which type of diabetes is due to a deficiency in the secretion of antidiuretic hormone ?"
          ],
          [
           "how much fluid in a renal diet ?"
          ],
          [
           "how many suffer from diabetes ?"
          ],
          [
           "where can one find medical supplies for someone who is diabetic ?"
          ],
          [
           "how do you manage diabetes ?"
          ],
          [
           "where can i find a glucose level chart online ?"
          ],
          [
           "what is causes high blood glucose levels ?"
          ],
          [
           "ketoacidosis associated with diabetes mellitus is likely to produce what acid imbalance ?"
          ],
          [
           "what are some cures for type one diabetes ?"
          ],
          [
           "how does doda paneer help in diabetes ?"
          ],
          [
           "what is a diabetes type two diet ?"
          ],
          [
           "did miley cyrus cry when she found out nick jonas had type one diabetes ?"
          ],
          [
           "will my diabetes mean i can not enjoy the breakfast sweets i love ?"
          ],
          [
           "is yogurt good for a diabetic ?"
          ],
          [
           "what are some healthy diabetic desserts ?"
          ],
          [
           "what are the warning signs for diabetes ?"
          ],
          [
           "is milk good or bad for uric acid ?"
          ],
          [
           "taking sixty five units a day of insulin how many days will a 100ml vial last this is lantus at <unk> ?"
          ],
          [
           "when should diabetic eat ?"
          ],
          [
           "why can you not ingest insulin ?"
          ],
          [
           "can diabetes affect the eyes ?"
          ],
          [
           "how can hereditary diseases be treated ?"
          ],
          [
           "what year did sonia sotomayor have one type of diabetes ?"
          ],
          [
           "blood sugar levels ?"
          ],
          [
           "what can cause hypoglycemia ?"
          ],
          [
           "which fiber should be recommended to patients with type two diabetes ?"
          ],
          [
           "what are symptoms of diabetes that have to do with blood sugar ?"
          ],
          [
           "how does one get diabetic ?"
          ],
          [
           "what kind of food can a dog with diabetes eat ?"
          ],
          [
           "<unk> does cover diabetes medication ?"
          ],
          [
           "what foods are <unk> on a type two diabetes diet plan ?"
          ],
          [
           "what is the normal blood sugar range for non-diabetics ?"
          ],
          [
           "does liquor affect your blood sugar ?"
          ],
          [
           "where does type i diabetes most often occur ?"
          ],
          [
           "can <unk> suffers eat butter ?"
          ],
          [
           "where can one get free diabetes education ?"
          ],
          [
           "different drugs for different control ?"
          ],
          [
           "where to find books about diabetes ?"
          ],
          [
           "the major function of insulin is <unk> in what ?"
          ],
          [
           "what medical specialists do you see if you have diabetes mellitus ?"
          ],
          [
           "what to do when diabetic wants food not good for them ?"
          ],
          [
           "how can diabetes spread from generation to generation ?"
          ],
          [
           "how fast will thirty one grams of carbs in a banana bring up a low blood sugar of thirty eight ?"
          ],
          [
           "what diseases can you get with lack of <unk> ?"
          ],
          [
           "what is a good type of diabetes ?"
          ],
          [
           "can teenagers get type two diabetes ?"
          ],
          [
           "what are various treatment options for type one diabetes ?"
          ],
          [
           "what are some things i can do to prevent diabetes ?"
          ],
          [
           "what is considered a low glucose level ?"
          ],
          [
           "what is dibeties ?"
          ],
          [
           "where can you find information about the grapefruit diet ?"
          ],
          [
           "is a glucose monitor watch the best way to keep track of your diabeties ?"
          ],
          [
           "who <unk> if nick is the only one with diabetes in his family ?"
          ],
          [
           "how is genetically engineered insulin made ?"
          ],
          [
           "is a blood sugar level of one hundred and eleven normal ?"
          ],
          [
           "what does a stable or increasing level of cea in the blood indicate ?"
          ],
          [
           "when a person is in treatment for diabetic ketoacidosis what happens ?"
          ],
          [
           "what lab test do you use to rule out diabetes ?"
          ],
          [
           "does smoking cause diabetes two ?"
          ],
          [
           "how common are diabetes complications ?"
          ],
          [
           "is there a cure for pediatric diabetes ?"
          ],
          [
           "how are carbohydrates processed in a diabetic and non diabetic person ?"
          ],
          [
           "what to do when you inject insulin in muscle ?"
          ],
          [
           "what <unk> and fruits and vegetables can stop diabetes two ?"
          ],
          [
           "what is a diabetic comma ?"
          ],
          [
           "does honey increase you sugar level ?"
          ],
          [
           "medicare diabetic supplies ?"
          ],
          [
           "where can your children receive diabetes education ?"
          ],
          [
           "did miley cyrus break up with nick jonas because nick had diabetes ?"
          ],
          [
           "what food can you eat on a typical type two diabetes plan ?"
          ],
          [
           "what can you do if you lose your cdl due to diabetes ?"
          ],
          [
           "what are type two diabetes symptoms ?"
          ],
          [
           "what are some recipes for a diabetic diet ?"
          ],
          [
           "what pancreatic hormone increases blood sugar ?"
          ],
          [
           "what are recent books with tasty diabetic food recipes ?"
          ],
          [
           "how do you catch type two diabetes ?"
          ],
          [
           "is v8 juice good for diabetics ?"
          ],
          [
           "what does three point zero to seven point zero mean in blood sugar ?"
          ],
          [
           "what mineral increases insulin activity ?"
          ],
          [
           "is potato is good for diabetic patients ?"
          ],
          [
           "does the pancreas control blood sugar levels ?"
          ],
          [
           "what are some causes of lack of water ?"
          ],
          [
           "how high or low should your sugar be ?"
          ],
          [
           "are any types of diabetes hereditary ?"
          ],
          [
           "does someone have the answers to the <unk> gestational diabetes case study ?"
          ],
          [
           "what should you do if you are diabetic and have a fever and why ?"
          ],
          [
           "what are the ideal numbers for fasting glucose levels ?"
          ],
          [
           "how much sugar is in urine ?"
          ],
          [
           "explain the are the three types of diabetes ?"
          ],
          [
           "if someone has diabetes and they eat too much sweets what will happen ?"
          ],
          [
           "what does glucose give us ?"
          ],
          [
           "what are the medications associated with diabetes ?"
          ],
          [
           "which diabetes is rare ?"
          ],
          [
           "what are the health benefits of <unk> ?"
          ],
          [
           "type i diabetes ?"
          ],
          [
           "what information can you tell me about sugar ?"
          ],
          [
           "what are two serious consequences that are possible for someone with type two diabetes if a <unk> diet is not followed ?"
          ],
          [
           "where do you give insulin ?"
          ],
          [
           "is it possible for a blood sugar level to be five hundred and seventy and they are fine ?"
          ],
          [
           "how does a vet treat canine diabetes ?"
          ],
          [
           "where can one find information on how to make diabetic cookies ?"
          ],
          [
           "your <unk> rate is thirty six what does this mean ?"
          ],
          [
           "where was diabetes discovered ?"
          ],
          [
           "what should my blood sugar level be ?"
          ],
          [
           "does <unk> come from diabetes ?"
          ],
          [
           "what are the foods diabetics need to avoid ?"
          ],
          [
           "where can i find good information on normal sugar levels ?"
          ],
          [
           "is diabetes a sex-linked trait ?"
          ],
          [
           "diabetics and <unk> ?"
          ],
          [
           "can a diabetic consume sugar ?"
          ],
          [
           "what causes urine specific gravity to be high ?"
          ],
          [
           "is ther any way to find more information about diabetes and diet ?"
          ],
          [
           "is there a chart that shows foods that are high in protein online ?"
          ],
          [
           "what is the normal average ph of blood ?"
          ],
          [
           "how many children are diagnosed with type one diabetes every day ?"
          ],
          [
           "who is at increased risk for developing type one and type two ?"
          ],
          [
           "if there is diabetes on both sides of a child is family what can that child do to lower the risks of getting diabetes ?"
          ],
          [
           "what is the spice that cures diabetes ?"
          ],
          [
           "what is leptin secreted by ?"
          ],
          [
           "pregnancy diabetes ?"
          ],
          [
           "when should a rapid acting insulin administered ?"
          ],
          [
           "what are the foods a diabetic can eat ?"
          ],
          [
           "<unk> <unk> has diabetes like nick could they be friends like that ?"
          ],
          [
           "how do you get my blood sugar to rise in a diabetic emergency ?"
          ],
          [
           "what is the chance of getting type one diabetes ?"
          ],
          [
           "what are the best fruits for a diabetic ?"
          ],
          [
           "what is the colour of the awareness ribbon for diabetes ?"
          ],
          [
           "when is insulin released ?"
          ],
          [
           "why does type two diabetics can not take penicillin ?"
          ],
          [
           "symptoms of hyperglycemia ?"
          ],
          [
           "why are drinking water levels often so low ?"
          ],
          [
           "what does diabetic neuropathy treatment entail ?"
          ],
          [
           "what disease occurs when the islets of langerhans fails to produce enough insulin ?"
          ],
          [
           "diabetic grocery list ?"
          ],
          [
           "how can one tell if he has diabetes ?"
          ],
          [
           "what is a good food guide for diabetics ?"
          ],
          [
           "what does two hundred and ninety seven as a blood sugar means ?"
          ],
          [
           "why does diabetes cause impaired blood flow ?"
          ],
          [
           "could diabetes spread ?"
          ],
          [
           "what is <unk> <unk> five hundred mg the after effects of using this tablet i am sixty two years old having high blood pressure and diabetic ?"
          ],
          [
           "how diabetes causes decrease in immunity ?"
          ],
          [
           "why do some diabetics take medications orally ?"
          ],
          [
           "what will happen if you take diabetic medication and you are not diabetic ?"
          ],
          [
           "how are nerves affected by low blood sugar ?"
          ],
          [
           "how does diabetes produce glucose in the urine ?"
          ],
          [
           "what test is test is performed to confirm a diagnosis of diabetes mellitus and to aid in diagnosing hypoglycemia ?"
          ],
          [
           "what foods are included in diabetes food chart ?"
          ],
          [
           "explain the health education for diabetic patient ?"
          ],
          [
           "when to start treatment for diabetes ?"
          ],
          [
           "who is the actress in the diabetes test strip commercial ?"
          ],
          [
           "what kind of foods are good for a diet for diabetes ?"
          ],
          [
           "what type of insulin is given to a patient with diabetic ketoacidosis ?"
          ],
          [
           "what is regular insulin made of ?"
          ],
          [
           "what are the effects of ph in diabetic ketoacidosis ?"
          ],
          [
           "why do diabetics feel hungry all the time ?"
          ],
          [
           "can you have diabetes and not be diagnosed till a later date ?"
          ],
          [
           "how do you know if you are type one diabetes ?"
          ],
          [
           "is diabetes prevention helpful ?"
          ],
          [
           "what is the normal fasting blood glucose range in a diabetic teenager ?"
          ],
          [
           "what are the early signs of diabetes that people tend to miss ?"
          ],
          [
           "what do people with diabetes do not produce enough ?"
          ],
          [
           "where can i find the new diabetic food list ?"
          ],
          [
           "what is considered a normal blood sugar level ?"
          ],
          [
           "is salt solution good for diabetic foot ulcers ?"
          ],
          [
           "what are the diabetes symptoms ?"
          ],
          [
           "is there anything that makes you pee a lot ?"
          ],
          [
           "is dieting important for diabetis <unk> condition ?"
          ],
          [
           "what are the symptoms of type ii diabetes ?"
          ],
          [
           "where can you stick yourself to check blood sugar levels ?"
          ],
          [
           "where can i find the diabetic food guide ?"
          ],
          [
           "are tomatoes good for diabetes ?"
          ],
          [
           "should all diabetics wear diabetic bracelets ?"
          ],
          [
           "can high glucose levels result in diabetes ?"
          ],
          [
           "does brown rice affect diabetes ?"
          ],
          [
           "can a diabetic eat mango ?"
          ],
          [
           "what are the best diabetic diet foods i can give a fifteen year old growing girl ?"
          ],
          [
           "why do you have a dry mouth and always thirsty but not diabetic ?"
          ],
          [
           "what are the treatments for type one diabetes ?"
          ],
          [
           "what could be the symptoms of diabetes ?"
          ],
          [
           "what effect does <unk> have on blood sugars ?"
          ],
          [
           "what is hypoglycemia and its treatment ?"
          ],
          [
           "what <unk> are there available in medical field dealing with diabetes ?"
          ],
          [
           "what are symptoms of diabetes ?"
          ],
          [
           "how to tell your own normal blood glucose ?"
          ],
          [
           "how does the <unk> respond to diabetes ?"
          ],
          [
           "what happens when the rate of <unk> glycogen is high ?"
          ],
          [
           "where in the cell are <unk> found ?"
          ],
          [
           "do most people with diabetes suffer from type two diabetes ?"
          ],
          [
           "what is the purpose of checking diabetes sugar levels ?"
          ],
          [
           "what macromolecule is in insulin ?"
          ],
          [
           "could diabetes be a mental illness you are born with or can developed do to extreme depression or suppressed <unk> and anger ?"
          ],
          [
           "what is hyperosmolar syndrome ?"
          ],
          [
           "what are some signs that a person is suffering from diabetes ?"
          ],
          [
           "what are the <unk> of diabetes ?"
          ],
          [
           "is noni good for diabetics ?"
          ],
          [
           "what effects does diabetes have on the human body ?"
          ],
          [
           "where can i go online to find some information on diabetic diet plans ?"
          ],
          [
           "diabetic needles ?"
          ],
          [
           "can exercise and diet reverse diabetes ?"
          ],
          [
           "where can one find information on diabetes in children ?"
          ],
          [
           "does milk raise blood sugar ?"
          ],
          [
           "where can i <unk> a diabetic meal planner ?"
          ],
          [
           "when would a diabetic need to see the doctor with sore feet ?"
          ],
          [
           "what is diabetes <unk> ?"
          ],
          [
           "what is a glucose levels chart and can it help with diabetes ?"
          ],
          [
           "is the chance of diabetic baby born to parents both heterozygous normal ?"
          ],
          [
           "what are the characteristics of type one diabetes ?"
          ],
          [
           "can you make your <unk> on <unk> three have diabetes and how ?"
          ],
          [
           "is one hundred and thirty nine a high sugar reading ?"
          ],
          [
           "is <unk> disease related to diabetes ?"
          ],
          [
           "what happens if diabetes is untreated ?"
          ],
          [
           "who discovered insulin is a treatment for diabetes ?"
          ],
          [
           "is grapes not good for diabetic ?"
          ],
          [
           "is swollen ankles a symptom of diabetes ?"
          ],
          [
           "can diabetics use the <unk> <unk> ?"
          ],
          [
           "how does diabetes affect decision making for older teachers ?"
          ],
          [
           "what is blood glucose level and why you ?"
          ],
          [
           "when was pacific <unk> diabetes research institute created ?"
          ],
          [
           "are there good diabetic cake recipes ?"
          ],
          [
           "how high is fasting blood sugar seven point zero ?"
          ],
          [
           "is <unk> a diabetic ?"
          ],
          [
           "is cholesterol a poison ?"
          ],
          [
           "is there a cure to diabetes ?"
          ],
          [
           "what was the diagnosis for the black death ?"
          ],
          [
           "can diabetic take date ?"
          ],
          [
           "what causes a red burning rash on your face ?"
          ],
          [
           "is there affordable diabetic supplies available for medicare patients ?"
          ],
          [
           "why is glucose given to a <unk> person ?"
          ],
          [
           "use of psyllium <unk> in diabetes and <unk> ?"
          ],
          [
           "why does type one diabetes turn into type two diabetes in the future when you become an adult ?"
          ],
          [
           "is it safe to fast for <unk> reasons with type two diabetes ?"
          ],
          [
           "what is alpha lipoic acid ?"
          ],
          [
           "what is the difference between type two diabetes mellitus and type1 diabetes mellitus ?"
          ],
          [
           "can people with type one diabetes get nose jobs ?"
          ],
          [
           "which sugar is found in greater than normal amounts in the blood of a diabetic ?"
          ],
          [
           "is <unk> necrosis caused by diabetes ?"
          ],
          [
           "high blood sugar reading ?"
          ],
          [
           "who are at risk for diabetes ?"
          ],
          [
           "what causes diabetes ?"
          ],
          [
           "will <unk> cause diabetes ?"
          ],
          [
           "will mango fruit prevent diabetes ?"
          ],
          [
           "what does the glucose meter read ?"
          ],
          [
           "what is the normal range for blood sugar ?"
          ],
          [
           "does insulin make glucose ?"
          ],
          [
           "why is protein insulin not given by mouth ?"
          ],
          [
           "what type of hormone is insulin ?"
          ],
          [
           "which <unk> promotes insulin resistance ?"
          ],
          [
           "will an exercise plan help me manage my diabetes ?"
          ],
          [
           "how does the diabetic food chart compare to the basic food chart ?"
          ],
          [
           "where is energy stored in glucose ?"
          ],
          [
           "raised serum <unk> levels ?"
          ],
          [
           "what is type 1diabetes ?"
          ],
          [
           "how does one get help for diabetic supplies ?"
          ],
          [
           "what kinds of vegetables can a diabetic eat ?"
          ],
          [
           "can you lose diabetes ?"
          ],
          [
           "what is the blood sugar range for non diabetics ?"
          ],
          [
           "what is the difference between non insulin dependent diabetes and <unk> dependent diabetes ?"
          ],
          [
           "what deserts are recommended for diabetics ?"
          ],
          [
           "what diabetics should not eat ?"
          ],
          [
           "what is <unk> ?"
          ],
          [
           "where can i find out more about diabetes type two diets ?"
          ],
          [
           "how do you know if it is a type1 or type2 diabetes ?"
          ],
          [
           "how can one tell when glucose has a high concentration ?"
          ],
          [
           "<unk> that increase blood sugar levels ?"
          ],
          [
           "when was diabetes care created ?"
          ],
          [
           "does diabetic high blood sugars make a person cranky and mean ?"
          ],
          [
           "how do you get dibetes ?"
          ],
          [
           "can people with type two diabetes get tattoos ?"
          ],
          [
           "can diabetes stop you from being certified from <unk> a truck ?"
          ],
          [
           "what fruit is good for gout and diabetes ?"
          ],
          [
           "i was eleven weeks but found out fetus died at nine weeks is it safe for a diabetic to have a <unk> ?"
          ],
          [
           "how does type two diabetes affect the nervous system ?"
          ],
          [
           "what iv fluids needed by a diabetic patient ?"
          ],
          [
           "is there an informational source online for diabetes in children ?"
          ],
          [
           "what is dibetes ?"
          ],
          [
           "does diabetes cause weight loss ?"
          ],
          [
           "what can cure hypertension and diabetes ?"
          ],
          [
           "where can i obtain free list of dessert foods that are ok for diabetics ?"
          ],
          [
           "can you get type one diabetes form being overweight ?"
          ],
          [
           "what medical conditions cause hands and feet to fall asleep ?"
          ],
          [
           "what type of effect does <unk> have on diabetes ?"
          ],
          [
           "why are diabetes classified as a noninfectious disease ?"
          ],
          [
           "when was insulin first used in the treatment of diabetes ?"
          ],
          [
           "how you get type one diabetes ?"
          ],
          [
           "are there any websites that could help me find easy diabetic recipes ?"
          ],
          [
           "will diabetes along with thyroid disease along with high blood pressure along with eye disease qualify you ?"
          ],
          [
           "is it tomato suitable food for diabetics ?"
          ],
          [
           "fasting blood sugar is higher than <unk> after dinner blood sugar ?"
          ],
          [
           "what causes nausea frequent urination and fatigue ?"
          ],
          [
           "is diabetes insulin made in a pig cow human or bacteria ?"
          ],
          [
           "does everyone have diabetes ?"
          ],
          [
           "what type of diet should someone with diabetes have ?"
          ],
          [
           "what are the warning signs of diabetes mellitus ?"
          ],
          [
           "does your dog have diabetes ?"
          ],
          [
           "how does type two diabetes affect your body ?"
          ],
          [
           "what does it mean when a person is diabetic ?"
          ],
          [
           "does being overweight cause diabetes ?"
          ],
          [
           "what are the names of the different type of diabetes ?"
          ],
          [
           "what is the recommended diet for treatment and/or prevention of diabetic neuropathy ?"
          ],
          [
           "what causes gestational diabetes ?"
          ],
          [
           "what can i eat to bring down my blood sugar ?"
          ],
          [
           "diabetes guidelines ?"
          ],
          [
           "what race is type one diabetes more common ?"
          ],
          [
           "can low blood sugars lead to diabetes ?"
          ],
          [
           "how does a person know when they have diabetes ?"
          ],
          [
           "where would be the best place to find diabetic sugar free recipes ?"
          ],
          [
           "does the basement membrane become <unk> in diabetics ?"
          ],
          [
           "what are the chances of diabetes being hereditary ?"
          ],
          [
           "is it advisable for a person with diabetes and suffering from <unk> to fly on a plane ?"
          ],
          [
           "should type two diabetics use <unk> sugar ?"
          ],
          [
           "what are classic symptoms of diabetes ?"
          ],
          [
           "where to find recipes for sugar free desserts ?"
          ],
          [
           "is diabetes from having a bad diet ?"
          ],
          [
           "how does type two diabetes affect lymphatic system ?"
          ],
          [
           "are there any websites that offer diabetes education ?"
          ],
          [
           "what is the difference in type1 and type2 diabetes ?"
          ],
          [
           "what does the american diabetes association do ?"
          ],
          [
           "<unk> , sugar free recipes for the elderly ?"
          ],
          [
           "what parts of the human body is affected by diabetes ?"
          ],
          [
           "what supplies do i need to test for diabetes ?"
          ],
          [
           "what term describes a <unk> complication of diabetes mellitus ?"
          ],
          [
           "how much sugar is in a potato ?"
          ],
          [
           "do high triglyceride levels affect your blood sugar ?"
          ],
          [
           "what is characteristic of the onset of insulin resistance ?"
          ],
          [
           "can you join the us army if you have diabetes insipidus ?"
          ],
          [
           "where might i find <unk> for a diabetic diet which use foods that can be prepared easily at home ?"
          ],
          [
           "drinking a lot of water but urinating normally diabetes ?"
          ],
          [
           "what foods can you eat if you have type two diabetes ?"
          ],
          [
           "what kind of doctor should you see if you think you have diabetes ?"
          ],
          [
           "can diabetics go in the blue pool in iceland ?"
          ],
          [
           "does a diabetic test their blood sugar before a meal or after ?"
          ],
          [
           "where can you get a type two diabetes plan ?"
          ],
          [
           "conditions associated with type two diabetes ?"
          ],
          [
           "if you have blurred vision at times are you diabetic ?"
          ],
          [
           "can diabetics eat foods with garlic ?"
          ],
          [
           "what is dlife ?"
          ],
          [
           "where can you find a list of food <unk> in <unk> ?"
          ],
          [
           "can you use any function inside <unk> ?"
          ],
          [
           "does discharge education in the new diabetic patient impact <unk> rates for <unk> ?"
          ],
          [
           "will being diabetic affect the result of a pregnancy test ?"
          ],
          [
           "where can i find a good diet plan for diabetics ?"
          ],
          [
           "does joint pain occurs because of diabetes ?"
          ],
          [
           "what do the signs of diabetic ketoacidosis appear as ?"
          ],
          [
           "could you recommend a top selling cookbook with healthy diabetic recipes ?"
          ],
          [
           "which organ produces insulin ?"
          ],
          [
           "if you use a one ml insulin syringe how many units would you draw up ?"
          ],
          [
           "what are the signs of pre diabetes ?"
          ],
          [
           "how man people in america have diabetes ?"
          ],
          [
           "is almond good for diabetic ?"
          ],
          [
           "what causes dry mouth ?"
          ],
          [
           "why eat protein with high blood sugar ?"
          ],
          [
           "how much glucose is in diabetic person ?"
          ],
          [
           "can you get type a diabetes by dirty hands ?"
          ],
          [
           "what does an alt lab test screen for ?"
          ],
          [
           "what research has been done on selenium deficiency ?"
          ],
          [
           "can diet be used to control type one and type two diabetes ?"
          ],
          [
           "what condition is caused by too much insulin and too little sugar in the blood ?"
          ],
          [
           "does <unk> raise blood sugars ?"
          ],
          [
           "can diabetics drink <unk> ?"
          ],
          [
           "if your mate has diabetes and you get pregnant what are the odds the baby would have diabetes ?"
          ],
          [
           "are <unk> product are safe to be use especially in a pregnant women ?"
          ],
          [
           "how many carbohydrates should a type two diabetic safely consume per day ?"
          ],
          [
           "how can you get pregnant if your diabetic ?"
          ],
          [
           "are diabetics <unk> ?"
          ],
          [
           "can diabetes supplies be ordered online ?"
          ],
          [
           "how is insulin <unk> ?"
          ],
          [
           "do diabetes shots hurt ?"
          ],
          [
           "how does bacteria help people with diabetes ?"
          ],
          [
           "how is the blood level of of insulin controlled and regulated ?"
          ],
          [
           "does diabetes cause cloudy urine ?"
          ],
          [
           "is diabetes a <unk> ?"
          ],
          [
           "did nick jonas consider leaving the jonas brothers when he found out that he had diabetes ?"
          ],
          [
           "is sugar levels an important part of diagnosing diabetes ?"
          ],
          [
           "diabetic diet recipes ?"
          ],
          [
           "does whole foods store sell healthy foods for diabetics ?"
          ],
          [
           "can you control type two diabetes by simply not eating any sugar or carbs ever ?"
          ],
          [
           "how do you treat <unk> ?"
          ],
          [
           "are there certain things diabetics can or can not have or eat or drink ?"
          ],
          [
           "does the <unk> change with diabetes ?"
          ],
          [
           "if you are a diabetic do you have to take the flu vaccine ?"
          ],
          [
           "what are the stages of <unk> cancer , and does diet play a part ?"
          ],
          [
           "if a person is not diabetic why would he have ketones in the urine ?"
          ],
          [
           "is one hundred a high glycemic index reading ?"
          ],
          [
           "can you name some diabetic online diet programs ?"
          ],
          [
           "what is considered a normal blood sugar range ?"
          ],
          [
           "if i only eat lunch and dinner is this okay if i ham a diabetic ?"
          ],
          [
           "is there a connection between stress and blood sugar levels ?"
          ],
          [
           "where can i obtain the information on glucose level chart ?"
          ],
          [
           "why are type two diabetics insulin <unk> ?"
          ],
          [
           "what are the two type of diabetes ?"
          ],
          [
           "what diabetes foods should he avoid ?"
          ],
          [
           "what is a good type two diabetes diet ?"
          ],
          [
           "you have had chest pains that your doctor said were panic attacks and now you are having them again can <unk> cause chest pain or diabetes ?"
          ],
          [
           "what lowers the level of glucose in the blood ?"
          ],
          [
           "what are some symptoms to determine borderline diabetes ?"
          ],
          [
           "how many gram of sugar are ok in a one thousand , eight hundred ada diet ?"
          ],
          [
           "is five hundred and forty three a good blood sugar level ?"
          ],
          [
           "what are two symptoms of diabetes mellitus ?"
          ],
          [
           "is one hundred and sixteen a good blood sugar ?"
          ],
          [
           "to what group are olives <unk> in food exchange lists ?"
          ],
          [
           "why do your teeth ache can diabetes medicine increase sensitivity ?"
          ],
          [
           "what kind of foods do diabetics eat ?"
          ],
          [
           "what kind of diabetes medications do people usually take ?"
          ],
          [
           "can you get type one diabetes by being obese ?"
          ],
          [
           "is it ok to smoke marijuana with diabetes ?"
          ],
          [
           "what could happen if a person does not take care of their diabetic condition ?"
          ],
          [
           "can people with diabetes eat blueberries ?"
          ],
          [
           "how much of what fruits can a type two diabetic have ?"
          ],
          [
           "when is the best time to test blood glucose levels ?"
          ],
          [
           "does your groin itch when you have diabetes ?"
          ],
          [
           "what places offer advice on low blood sugar ?"
          ],
          [
           "can salt elevate a diabetics blood sugar levels ?"
          ],
          [
           "what is a v-go needle ?"
          ],
          [
           "when was diabetes found ?"
          ],
          [
           "is ninety healthy for a glucose reading ?"
          ],
          [
           "what is a normal blood sugar range for a diabetic ?"
          ],
          [
           "which diabetes usually develops during adolescence and is thought to be caused by an inherited predisposition to pancreas problems ?"
          ],
          [
           "what is the life expectancy of someone with terminal colon and liver cancer he is seventy seven years old and had diabetes the dr is told us approx six months he has <unk> that . any <unk> would be helpful . ?"
          ],
          [
           "what is in simple english diabetic <unk> ?"
          ],
          [
           "a chronic disorder of <unk> metabolism which results in hyperglycemia and glucosuria is ?"
          ],
          [
           "can mental illness be considering the same as having diabetes ?"
          ],
          [
           "what age does diabetes start ?"
          ],
          [
           "do <unk> affect diabetes ?"
          ],
          [
           "can you have hypoglycemia without diabetes ?"
          ],
          [
           "can a diabetic patient eat one mango a day ?"
          ],
          [
           "should diabetics avoid rum and brandy ?"
          ],
          [
           "how is it that the insulin stops working and or does not produce enough ?"
          ],
          [
           "what do people with diabetes suffer from ?"
          ],
          [
           "is <unk> okay for a diabetic ?"
          ],
          [
           "can a thirteen year old get type two diabetes ?"
          ],
          [
           "remedy for stings ?"
          ],
          [
           "what is the difference between the sports <unk> <unk> and baseball ?"
          ],
          [
           "treatments for diabetes ?"
          ],
          [
           "where can you find a diabetic cake recipe ?"
          ],
          [
           "which cells are prone to damage from low blood sugar ?"
          ],
          [
           "what type of insulin has the <unk> onset period ?"
          ],
          [
           "what medications are used to treat diabetes mellitus ?"
          ],
          [
           "is evaporated cane juice all right for diabetics ?"
          ],
          [
           "why is it important for diabetics to be careful about the amount of sugar in their diets ?"
          ],
          [
           "what are causes of diabetes ?"
          ],
          [
           "what if blood glucose is normal but hemoglobin a1c high ?"
          ],
          [
           "can i find diabetic foods in any grocery store ?"
          ],
          [
           "what parts of the body are affected by diabetes ?"
          ],
          [
           "is bread good for diabetic patients ?"
          ],
          [
           "can diabetes turn a penis black ?"
          ],
          [
           "can diabetes be passed on to your baby ?"
          ],
          [
           "how many grams of sugar should a pre diabetic woman consume per day ?"
          ],
          [
           "is diabetes a contraindication to massage if so why ?"
          ],
          [
           "how many types of sugar like blood sugar ?"
          ],
          [
           "what is the lowest fasting glucose level for a diagnosis of diabetes ?"
          ],
          [
           "what tools you use for diabetes ?"
          ],
          [
           "is watermelon harmful for the patients with high blood sugar levels ?"
          ],
          [
           "trying a diabetes diet ?"
          ],
          [
           "how are babies of women with gestational diabetes affected ?"
          ],
          [
           "the blood level of what is most significant in regulating the respiratory center in mammals ?"
          ],
          [
           "what can cause a diabetic sugars to rise ?"
          ],
          [
           "what are some good ideas for diabetic foods ?"
          ],
          [
           "if your best friend is a ten year old with diabetes and you have to take daily shots and you miss one shot in one day only will you die ?"
          ],
          [
           "what does human insulin do ?"
          ],
          [
           "you are forty nine what are healthy levels of blood glucose before and after food ?"
          ],
          [
           "what are the advantages of undergoing a diabetic diet ?"
          ],
          [
           "what is nick jonas diabetes doctor is name ?"
          ],
          [
           "what is the <unk> <unk> check machine ?"
          ],
          [
           "what is a disease in which the body does not produce or properly use insulin ?"
          ],
          [
           "would a girl still go out with a guy despite the fact if he is diabetic ?"
          ],
          [
           "what is the spanish word for diabetes ?"
          ],
          [
           "what are some popular diets to lose weight ?"
          ],
          [
           "what is the <unk> cost for having diabetes ?"
          ],
          [
           "why do you have to keep the blood glucose level within the normal cycle ?"
          ],
          [
           "having too little or no insulin available for the amount of food ingested may result in ?"
          ],
          [
           "will the glycemic index diet help diabetics ?"
          ],
          [
           "where can one learn more information about the symptoms of high blood sugar ?"
          ],
          [
           "what are the types of diabetes ?"
          ],
          [
           "why do you urinate more often with diabetes ?"
          ],
          [
           "i have very high blood sugar and i do not eat suger at all are ther and herbal <unk> that lower blood sugar ?"
          ],
          [
           "how can you check diabetes ?"
          ],
          [
           "is type ii diabetes contagious ?"
          ],
          [
           "does diabetic <unk> <unk> go away ?"
          ],
          [
           "does diabetes produce insulin ?"
          ],
          [
           "can diabetics eat <unk> ?"
          ],
          [
           "are there any diet recipes for diabetics ?"
          ],
          [
           "can i get a nick jonas diabetes dog <unk> from england or do i have to order one from the us ?"
          ],
          [
           "can type two diabetes in the early stages be cured with medications ?"
          ],
          [
           "what is the fastest way of checking your blood sugar ?"
          ],
          [
           "whether diabetic patients can eat oats ?"
          ],
          [
           "what is a normal glucose reading ?"
          ],
          [
           "what kind of diabetes did laura ingalls wilder have ?"
          ],
          [
           "where is diabetes very common in the world ?"
          ],
          [
           "where can one find the <unk> diabetes center ?"
          ],
          [
           "what is the treatment for <unk> ?"
          ],
          [
           "the two major problems underlying type two diabetes are ?"
          ],
          [
           "if glucose is administered intravenously to a patient with insulin dependent diabetes mellitus the patient will probably develop ?"
          ],
          [
           "what body system does diabetes affect ?"
          ],
          [
           "what is a cure for diabetes ?"
          ],
          [
           "how do i check my blood sugar levels ?"
          ],
          [
           "is there a diet for type ii diabetes that will help be avoid needing insulin ?"
          ],
          [
           "why insulin is used ?"
          ],
          [
           "being overweight is a major cause of diabetes ?"
          ],
          [
           "which body system is functioning <unk> when not enough of the hormone insulin is produced ?"
          ],
          [
           "how is type two diabetes typically treated ?"
          ],
          [
           "what are the nutrition <unk> for people suffering from diabetes ?"
          ],
          [
           "what kind of deals exists for the notebook type computer ?"
          ],
          [
           "can a diabetic get <unk> ?"
          ],
          [
           "what does it mean if you have swollen ankles ?"
          ],
          [
           "are apples good for diabetes ?"
          ],
          [
           "who get diabetes ?"
          ],
          [
           "what is the normal blood sugar range of an insulin dependent diabetic ?"
          ],
          [
           "why do you smell <unk> after you <unk> ?"
          ],
          [
           "what are risk factors of diabetes ?"
          ],
          [
           "a safe diabetic meal plan ?"
          ],
          [
           "how can someone with diabetes cope ?"
          ],
          [
           "can you loose part of your body by having diabetes ?"
          ],
          [
           "is following a diabetic diet plan harmful if you do not have diabetes ?"
          ],
          [
           "does insulin have to be taken daily ?"
          ],
          [
           "can i test my blood sugar from other areas than my fingers ?"
          ],
          [
           "could your schnauzer be diabetic ?"
          ],
          [
           "how do you know when you are diabetic ?"
          ],
          [
           "oral medications for diabetes ?"
          ],
          [
           "food to lower high blood <unk> ?"
          ],
          [
           "does eating dates cause diabetes ?"
          ],
          [
           "what causes the amount of glucose in foods to increase ?"
          ],
          [
           "does diabetes cause emotional symptoms ?"
          ],
          [
           "is diabetes a <unk> ?"
          ],
          [
           "can children die from diabetes ?"
          ],
          [
           "how many calories should a five ' eleven two hundred and ten pound man eat with high blood sugar ?"
          ],
          [
           "how are type one diabetes and type two diabetes similar ?"
          ],
          [
           "are you able to join the military if you have diabetes ?"
          ],
          [
           "where is burdock root grown ?"
          ],
          [
           "should a diabetic eat rice ?"
          ],
          [
           "what type of disease is diabetes ?"
          ],
          [
           "what organism is used to produce human insulin ?"
          ],
          [
           "how many sugar grams should a fourteen year old have daily ?"
          ],
          [
           "can diabetic patients eat pineapple ?"
          ],
          [
           "what is the function of <unk> ?"
          ],
          [
           "what is a description for fasting blood sugar ?"
          ],
          [
           "what can one do with a medtronic insulin pump ?"
          ],
          [
           "what can i eat in a diabetic diet ?"
          ],
          [
           "what is the body is response to insulin ?"
          ],
          [
           "three ways to decrease the risk of developing type two diabetes ?"
          ],
          [
           "which disease require patients receive regular insulin injection ?"
          ],
          [
           "what happens to the body when blood glucose levels rise after a meal ?"
          ],
          [
           "can you go to the army with diabetes ?"
          ],
          [
           "who <unk> the insulin pump ?"
          ],
          [
           "where can one find information on type two diabetes friendly diets ?"
          ],
          [
           "if you start a continuous <unk> of one hundred and fifty units of insulin in <unk> of normal saline solution if the prescribed dose is eight insulin units per hour what is the flow rate in ml per hour ?"
          ],
          [
           "are there any side effects from melabic an herb for diabetics ?"
          ],
          [
           "why are diabetes patients more likely to need kidney <unk> ?"
          ],
          [
           "is diabetes autosomal ?"
          ],
          [
           "what is a good example of a diabetic meal ?"
          ],
          [
           "if i follow a pre diabetes diet will i stay healthy and <unk> clear of diabetes ?"
          ],
          [
           "what is the diabetes diet ?"
          ],
          [
           "can fish have diabetes ?"
          ],
          [
           "is nick jonas worried of having diabetes ?"
          ],
          [
           "are diabetes meter useful ?"
          ],
          [
           "which hormone acts antagonistically to insulin produced by the same endocrine organ ?"
          ],
          [
           "name at least six symptoms of diabetes ?"
          ],
          [
           "could low high blood sugar be making you very tired immediately after you eat ?"
          ],
          [
           "what is ac test for diabetes ?"
          ],
          [
           "where can one find information on a cure for diabetes ?"
          ],
          [
           "what would happen to bodies with no insulin ?"
          ],
          [
           "what diabetes can you be born with ?"
          ],
          [
           "where is the best location for insulin injections ?"
          ],
          [
           "how do you cure <unk> for a two year old ?"
          ],
          [
           "what can you do to prevent from diabeties ?"
          ],
          [
           "does thyroxine increase blood sugar levels ?"
          ],
          [
           "which term describes a <unk> complication of diabetes mellitus ?"
          ],
          [
           "what will happen to a person if they stop taking insulin suddenly ?"
          ],
          [
           "what gland produce insulin ?"
          ],
          [
           "the glucose molecule has a great deal of energy in its ?"
          ],
          [
           "what is <unk> mellitus ?"
          ],
          [
           "i am looking for a simple chart to show normal blood glucose levels . ?"
          ],
          [
           "is type one diabetes sex-linked or <unk> ?"
          ],
          [
           "does a diabetic who has had the top part of their foot cut off use a manual <unk> with no handles ?"
          ],
          [
           "is <unk> safe for diabetes patients ?"
          ],
          [
           "what is hard for teens to deal with diabetes ?"
          ],
          [
           "how do people get diabetes ?"
          ],
          [
           "if a person has blood sugar of six point two after eating is he called a diabetic ?"
          ],
          [
           "how common is diabetes in america ?"
          ],
          [
           "can <unk> is <unk> be done on women with diabetes ?"
          ],
          [
           "who was the first person with diabetes ?"
          ],
          [
           "why are kids getting type-2 diabetes more often than they used to ?"
          ],
          [
           "can type one diabetics eat honey ?"
          ],
          [
           "average a1c level in non diabetic patient ?"
          ],
          [
           "what is carb counting for diabetes ?"
          ],
          [
           "how can you tell if you have diabetes ?"
          ],
          [
           "is there any treatment for cystic fibrosis ?"
          ],
          [
           "what are uses of insulin ?"
          ],
          [
           "i think im on the verge of becoming diabetic ?"
          ],
          [
           "what exactly is pediatric diabetes ?"
          ],
          [
           "if a patient is blood sugar is to low they may go into a diabetic coma ?"
          ],
          [
           "define diabetes mellitus ?"
          ],
          [
           "what refers to an early morning increase in blood glucose without <unk> <unk> hypoglycemia ?"
          ],
          [
           "how many grams of sugar can a diabetic have in one day ?"
          ],
          [
           "how can you tell the difference between a drunk and a diabetic ?"
          ],
          [
           "insulin syringes are calibrated in ?"
          ],
          [
           "what percentage of diabetics are type one ?"
          ],
          [
           "the doctor has your weight loss plan ?"
          ],
          [
           "is gestational diabetes a disease ?"
          ],
          [
           "what is the importance of foot care and cleaning for people with diabetes ?"
          ],
          [
           "diabetic meter ?"
          ],
          [
           "what are the foods that can cause diabetes ?"
          ],
          [
           "what are some of the main causes of diabetes ?"
          ],
          [
           "what is the relation between diabetes and blood sugar ?"
          ],
          [
           "is exercise related to diabetes ?"
          ],
          [
           "what kind of diet should a software professional have if he is suffering from problems like <unk> and constipation ?"
          ],
          [
           "how does one get started in <unk> and have to check ones blood sugar and <unk> ?"
          ],
          [
           "what <unk> for a diabetic patient ?"
          ],
          [
           "test is performed to confirm a diagnosis of diabetes mellitus and to aid in diagnosing hypoglycemia ?"
          ],
          [
           "what happens when people are unable to produce enough <unk> ?"
          ],
          [
           "does <unk> <unk> <unk> have diabetes ?"
          ],
          [
           "can be treated by injecting genetically engineered insulin ?"
          ],
          [
           "if neither of your parents have diabetes can you get it ?"
          ],
          [
           "do bananas increase blood sugar ?"
          ],
          [
           "how many people have type one diabetes in th uk ?"
          ],
          [
           "what are the symptoms and causes of diabetes and its treatment ?"
          ],
          [
           "does diabetes symptoms come on suddenly ?"
          ],
          [
           "function of a <unk> ?"
          ],
          [
           "why doctors ask diabetic patients if they have a eye and foot exam ?"
          ],
          [
           "how would someone get diabetes and what are some things i can do to prevent diabetes ?"
          ],
          [
           "what famous people have diabetes ?"
          ],
          [
           "does stress elevated blood sugars in non diabetics ?"
          ],
          [
           "does sex have an affect on blood sugar in a person with type two diabetes will it cause it to elevate ?"
          ],
          [
           "diabetes increases your likelihood of suffering from ?"
          ],
          [
           "what is the prognosis for patients with diabetes insipidus ?"
          ],
          [
           "what research has been done on <unk> ?"
          ],
          [
           "how can you get rid of your anger im thirteen and have type one diabetes it always seems to get me down can anybody help ?"
          ],
          [
           "what does food for diabetics need ?"
          ],
          [
           "what might be the cause of unexplained weight gain and fatigue ?"
          ],
          [
           "how is human insulin manufactured ?"
          ],
          [
           "how would you know if you had diabetes ?"
          ],
          [
           "how are the lives of a person with type one diabetes the same ?"
          ],
          [
           "insulin can be orally administered to diabetic people or not ?"
          ],
          [
           "will the diagnosis of diabetes change the way i eat ?"
          ],
          [
           "diabetic snack ideas ?"
          ],
          [
           "how low can blood sugar go before is causes lost consciousness ?"
          ],
          [
           "what are the symptoms of diabetes person ?"
          ],
          [
           "a feature of ketosis is that it ?"
          ],
          [
           "difference between shots and pills for diabetes ?"
          ],
          [
           "how diabetes affects the body systems ?"
          ],
          [
           "can people not be at risk of diabetes ?"
          ],
          [
           "what do you do if your blood sugar is five hundred and sixteen ?"
          ],
          [
           "would you gain weight if you had diabetes ?"
          ],
          [
           "what fruits and vegetables are <unk> foods on the diabetes food list and are the portion size restrictions the same ?"
          ],
          [
           "where is the donor liver <unk> in a <unk> transplantation ?"
          ],
          [
           "is type two diabetic preventable ?"
          ],
          [
           "what does insulin do to blood glucose ?"
          ],
          [
           "diabetes type one ?"
          ],
          [
           "what is a good tasting diabetic drink ?"
          ],
          [
           "are low hdl levels a risk for type two diabetes ?"
          ],
          [
           "what is a good wine for a diabetic ?"
          ],
          [
           "is diabetes mellitus controllable ?"
          ],
          [
           "how can type one diabetes be avoided ?"
          ],
          [
           "is papaya good fro diabetic patient ?"
          ],
          [
           "can diabetics drink tequila ?"
          ],
          [
           "what happens when a diabetic takes viagra when not needed ?"
          ],
          [
           "best lager to drink if your a diabetic ?"
          ],
          [
           "what class of drugs stimulates insulin release in the body and is used in type ii diabetes ?"
          ],
          [
           "which is not a sign of diabetes ?"
          ],
          [
           "is diabetes classed as a disability ?"
          ],
          [
           "where can you get the best quality diabetes supplies ?"
          ],
          [
           "what should you do if you think you have diabetes ?"
          ],
          [
           "where can i find diabetic diet charts ?"
          ],
          [
           "where can i find more information on free diabetic diet ?"
          ],
          [
           "what is the normal <unk> blood level ?"
          ],
          [
           "what <unk> techniques that may be used in the treatment cure or prevention of diabetes ?"
          ],
          [
           "why can insulin not be given orally ?"
          ],
          [
           "why is massage not for diabetics ?"
          ],
          [
           "does type one diabetes need insulin ?"
          ],
          [
           "what are uncommon symptoms of diabetes ?"
          ],
          [
           "is drinking lots of water a sign of diabetes ?"
          ],
          [
           "<unk> diabetes patients protect society . ?"
          ],
          [
           "why are you always thirsty and how can you stop it ?"
          ],
          [
           "how vitamin or fiber deficiency <unk> to the onset diabetes ?"
          ],
          [
           "how can you lower your blood sugar ?"
          ],
          [
           "diabetes symptoms and signs ?"
          ],
          [
           "is weight loss a sign of type two diabetes ?"
          ],
          [
           "what is the hormone involved in type one diabetes ?"
          ],
          [
           "how common is gestational diabetes ?"
          ],
          [
           "what is a normal blood sugar level ?"
          ],
          [
           "is juvenile diabetes o genetic disorder ?"
          ],
          [
           "how much does it cost to purchase from liberty diabetic supplies ?"
          ],
          [
           "if your grandma had diabetes and it runs in your dads side of the family will you get it ?"
          ],
          [
           "what treatments or medications are given to patients with type two diabetes ?"
          ],
          [
           "are there stages of diabetes ?"
          ],
          [
           "can it lower blood sugar levels if you soak <unk> in a glass of water <unk> and drink the water on an empty stomach the next morning ?"
          ],
          [
           "what are the symptoms of diabities ?"
          ],
          [
           "what causes a diabetic to have frequent urination ?"
          ],
          [
           "type two diabetes is known as non insulin dependent diabetes ?"
          ],
          [
           "what are some ways of eating with diabetes ?"
          ],
          [
           "what is hypoglycemic coma ?"
          ],
          [
           "are there any vitamins specifically for diabetics ?"
          ],
          [
           "what happens to an athletes blood sugar level ?"
          ],
          [
           "what clinical findings occurs first in metabolic acidosis of a patient with type one diabetes ?"
          ],
          [
           "who was the scientist who made the diabetes shot ?"
          ],
          [
           "are jelly beans suitable for people with diabetes ?"
          ],
          [
           "can you get rid of diabetes ?"
          ],
          [
           "is one hundred and eleven a high blood sugar ?"
          ],
          [
           "is it bad for diabetes to eat rice ?"
          ],
          [
           "what are normal levels for triglyceride ?"
          ],
          [
           "where can i find information on a diabetic food plan ?"
          ],
          [
           "if a girl weighs one hundred and thirty pound and is a ten year old <unk> grader but her family has a history of over weight family member you are really scared you do not want to be diabetic but i cant <unk> <unk> ?"
          ],
          [
           "why can hypoglycemia cause lethargy ?"
          ],
          [
           "how is insulin resistance prevented ?"
          ],
          [
           "what are diabetes insipidus and diabetes mellitus ?"
          ],
          [
           "how do people put up with diabetes ?"
          ],
          [
           "what is two types of diabetes ?"
          ],
          [
           "what research has been done on <unk> ?"
          ],
          [
           "i am diabetic can i use <unk> ?"
          ],
          [
           "another name for the sugar dissolved in human blood is ?"
          ],
          [
           "is it difficult for diabetics to lose weight ?"
          ],
          [
           "can <unk> <unk> safe as an <unk> agent on diabetics ?"
          ],
          [
           "what kind of food do diabetic people eat most of the time ?"
          ],
          [
           "which condition is an acute and <unk> complication of diabetes mellitus ?"
          ],
          [
           "why do diabetics need candy ?"
          ],
          [
           "<unk> <unk> s comments on diabetes ?"
          ],
          [
           "is beetroot good for diabetics ?"
          ],
          [
           "how is diabetes controlled and why can not it be cured ?"
          ],
          [
           "insulin is released into the blood when ?"
          ],
          [
           "does drinking alcohol lower your blood sugar ?"
          ],
          [
           "is <unk> a form of cancer ?"
          ],
          [
           "what does insulin have to do with the disease diabetes ?"
          ],
          [
           "where can you buy nick jonas ' diabetes dog <unk> ?"
          ],
          [
           "where can i go to get information for stomach bypass diabetes ?"
          ],
          [
           "can type two diabetes be inherited ?"
          ],
          [
           "how does diabetes feel ?"
          ],
          [
           "can a diabetic have children ?"
          ],
          [
           "what type of food is good for people with diabetes to eat ?"
          ],
          [
           "what do your sugar levels have to be for diabetes ?"
          ],
          [
           "what is the normal rate of blood sugar level for age fifty ?"
          ],
          [
           "high level of a fatty substance in the blood ?"
          ],
          [
           "what classification of acidosis is diabetic ketoacidosis ?"
          ],
          [
           "can diabetes mellitus be cured ?"
          ],
          [
           "is one hundred and forty bad blood sugar reading in morning ?"
          ],
          [
           "what is the treatment of both diabetes ?"
          ],
          [
           "if you have children with nick jonas would they have diabetes ?"
          ],
          [
           "can you play football if you have type one diabetes ?"
          ],
          [
           "diabetic supplies online ?"
          ],
          [
           "in what year was insulin invented ?"
          ],
          [
           "which gland is associated with <unk> ?"
          ],
          [
           "what produces insulin in the body ?"
          ],
          [
           "does diabetes dehydrate ?"
          ],
          [
           "what is a disease in which blood glucose levels are above normal ?"
          ],
          [
           "what are the symptoms of diabetes in a dog ?"
          ],
          [
           "where can i find more information on diabetes diet for seniors ?"
          ],
          [
           "who did nick jonas give his diabetes necklace to ?"
          ],
          [
           "where can i learn more about the american diabetes ?"
          ],
          [
           "what are the normal glucose levels in a non diabetic person ?"
          ],
          [
           "what to eat if your diabetic ?"
          ],
          [
           "can diabetic people <unk> ?"
          ],
          [
           "when should insulin be taken ?"
          ],
          [
           "when the blood glucose of a patient is high is it dangerous for doctors to perform surgery - on the leg for example ?"
          ],
          [
           "what does insulin do to the blood sugar levels ?"
          ],
          [
           "how is diabetes related to teenagers ?"
          ],
          [
           "where can i get the foods to follow a diabetic plan ?"
          ],
          [
           "what will be the right consumption of every kind of processed foods ?"
          ],
          [
           "how is diabetic ketoacidosis treated ?"
          ],
          [
           "is there any cure for type one diabetes ?"
          ],
          [
           "what are the synonyms and <unk> of adherence ?"
          ],
          [
           "what causes blood sugar to be too low ?"
          ],
          [
           "what molecule is produced in the liver during <unk> or type one diabetes ?"
          ],
          [
           "how does bacteria help with diabetes ?"
          ],
          [
           "how many people per year are diagnosed with type ii diabetes ?"
          ],
          [
           "will drinking water affect your diabetes test ?"
          ],
          [
           "you are not eating but drinking a lot of water could you have diabetes ?"
          ],
          [
           "what do diabetics use to check blood sugar ?"
          ],
          [
           "which kill you faster diabetes or lung cancer ?"
          ],
          [
           "is skin <unk> and dry mucous membranes associated with diabetes ?"
          ],
          [
           "do diabetics get their belly <unk> pierced ?"
          ],
          [
           "is three hundred and seven considered a normal rate for your blood sugar ?"
          ],
          [
           "is <unk> ka phool a treatment of diabetes ?"
          ],
          [
           "<unk> is your body is ability to detect something what ?"
          ],
          [
           "do kids get diabetes ?"
          ],
          [
           "do you know anything about diabetes ?"
          ],
          [
           "can cinnamon cure diabetes ?"
          ],
          [
           "what body organ is not working correctly with type one diabetes ?"
          ],
          [
           "where can i go online to find some information on diabetics recipes ?"
          ],
          [
           "what are some diabetes complications ?"
          ],
          [
           "is massage contraindicated after insulin injection ?"
          ],
          [
           "what is insulin made by ?"
          ],
          [
           "what is the value of renal function tests on <unk> and diabetic patients ?"
          ],
          [
           "what is hypoglcemia ?"
          ],
          [
           "alan rickman is diabetic ?"
          ],
          [
           "can you get a food list for diabetics ?"
          ],
          [
           "can i check my blood sugar for diabetes without poking my finger ?"
          ],
          [
           "what are the symptoms of having a hypo when you have got type one diabetes ?"
          ],
          [
           "what are the three p is of diabetes ?"
          ],
          [
           "how could the ingredients in an ice <unk> be changed to make it more suitable for diabetics ?"
          ],
          [
           "is eating pizza ok for a diabetic ?"
          ],
          [
           "how can you get gangrene ?"
          ],
          [
           "will glucose levels rise during infection ?"
          ],
          [
           "what is a good diet and exercise plan to avoid getting diabetes ?"
          ],
          [
           "tips on following a diabetic cookie recipe ?"
          ],
          [
           "diabetes type one and type two ?"
          ],
          [
           "why can not diabetics get pregnant ?"
          ],
          [
           "will <unk> is syndrome effect diabetes ?"
          ],
          [
           "how long can live without insulin ?"
          ],
          [
           "can a insulin dependent diabetic become a merchant marine ?"
          ],
          [
           "my blood sugar was over four hundred last week ?"
          ],
          [
           "are there any good diet plans for patients that have been <unk> with diabetis ?"
          ],
          [
           "finding free diabetic cookbooks ?"
          ],
          [
           "is one hundred and sixty two a high blood sugar reading after eating two hours ago ?"
          ],
          [
           "how do <unk> <unk> and <unk> differ ?"
          ],
          [
           "insulin <unk> to cells and the mechanism involved in triggering the cells to take in glucose ?"
          ],
          [
           "is this safe for diabetic to use ?"
          ],
          [
           "what are good foods for those with diabetes ?"
          ],
          [
           "can you survive without knowing you have diabetes ?"
          ],
          [
           "do i need a prescription to buy a blood sugar tester ?"
          ],
          [
           "does metformin help with weight loss ?"
          ],
          [
           "can diabetic patient drink sugarcane juice ?"
          ],
          [
           "what is a good carbohydrate <unk> for a person with type two diabetes ?"
          ],
          [
           "is carbohydrate allowed for a diabetic patient ?"
          ],
          [
           "what organ is used to produce human insulin ?"
          ],
          [
           "does <unk> <unk> have diabetes ?"
          ],
          [
           "what test is used to diagnosis of diabetes mellitus ?"
          ],
          [
           "what does it mean to have high a1c ?"
          ],
          [
           "what would happen if you give insulin to a diabetic rat ?"
          ],
          [
           "where was insulin invented ?"
          ],
          [
           "are most diabetics skinny ?"
          ],
          [
           "what are some quick and easy diabetes recipes ?"
          ],
          [
           "how much liquor does it take to kill a diabetic ?"
          ],
          [
           "can a diabetic type two eat honey ?"
          ],
          [
           "when is regular insulin used ?"
          ],
          [
           "when was insulin first used ?"
          ],
          [
           "is diabetes found more in one ethnicity than another ?"
          ],
          [
           "what areas of the body are affected by diabetic neuropathy ?"
          ],
          [
           "does soda cause diabetes ?"
          ],
          [
           "does low blood sugar mean you have diabetes ?"
          ],
          [
           "how long will you with diabetes ?"
          ],
          [
           "does the <unk> vaccine affect blood sugars of diabetics ?"
          ],
          [
           "registered nurse needs education on diabetes ?"
          ],
          [
           "diabetes meters ?"
          ],
          [
           "i there a toothpaste for diabetics ?"
          ],
          [
           "what is the solution for hypoglycemia ?"
          ],
          [
           "what is a noninfectious disease in which the body secretes too little insulin ?"
          ],
          [
           "explain the effect on blood sugar levels if insulin receptors stopped working ?"
          ],
          [
           "are you allow to eat or drink one sugar if you have diabetes ?"
          ],
          [
           "if blood sugar falls twenty six mg what happened to patient ?"
          ],
          [
           "where can i find diabetic diet plans ?"
          ],
          [
           "my blood sugar is one hundred and forty one how do i get it down ?"
          ],
          [
           "can diabetes cause death during sleep ?"
          ],
          [
           "is carrot juice good for diabetic patients ?"
          ],
          [
           "what condition is insulin resistance of fat cells type one diabetes or type two diabetes ?"
          ],
          [
           "does <unk> have diabetes ?"
          ],
          [
           "what do you do if the insulin dependent diabetic person complain of pain and become pale and sweaty ?"
          ],
          [
           "why do people focus more on type two diabetes ?"
          ],
          [
           "guinea pig weight loss ?"
          ],
          [
           "why is your blood sugar high after fasting ?"
          ],
          [
           "<unk> and diabetes ?"
          ],
          [
           "which diabetic test strips really work ?"
          ],
          [
           "abbreviation for three <unk> a day ?"
          ],
          [
           "what type of natural sugar will not spike insulin levels ?"
          ],
          [
           "could diabetes cause your hands to lock up ?"
          ],
          [
           "do you have pre-diabetes fasting glucose tests range from ninety eight to one hundred and fourteen ?"
          ],
          [
           "in ohio how would <unk> work if the father and mother are not married but the mother is chemically dependent and the father is the primary care <unk> of their four year old son with type one diabetes ?"
          ],
          [
           "what are the major manifestations of diabetes mellitus ?"
          ],
          [
           "what is a diabetic safe diet i can eat ?"
          ],
          [
           "what makes <unk> insulin and glucagon ?"
          ],
          [
           "why is blood glucose lost in diabetes mellitus ?"
          ],
          [
           "what is the function of <unk> insulin ?"
          ],
          [
           "what can i do to keep my diabetes level down ?"
          ],
          [
           "can non-insulin dependent diabetes mellitus cause chronic kidney failure ?"
          ],
          [
           "what is the <unk> for a sugar ?"
          ],
          [
           "does glycogenesis lower sugar in blood ?"
          ],
          [
           "does <unk> chi cure diabetes ?"
          ],
          [
           "can a person that has diabetes eat jackfruit ?"
          ],
          [
           "how can we control the levels of high sugar in a diabetic person or patient ?"
          ],
          [
           "what do you do if you have diabetes mellitus ?"
          ],
          [
           "what is is the treatment for type one diabetes ?"
          ],
          [
           "what are the most popular diabetes diet meal plans ?"
          ],
          [
           "do nick jonas have diabete ?"
          ],
          [
           "is yam good for diabetes ?"
          ],
          [
           "who from the jonas brother has type one diabetes ?"
          ],
          [
           "how do you determine if one is diabetic ?"
          ],
          [
           "how does diabetes effect the immune system ?"
          ],
          [
           "why would there be a high glucose content after eating ?"
          ],
          [
           "could you be pregnant if you still have what seems like a cycle minus the usual clotting and you have had a negative <unk> and you have type two diabetes ?"
          ],
          [
           "does <unk> food cause diabetes ?"
          ],
          [
           "who should be screened for diabetes ?"
          ],
          [
           "what are the chances of gettin diabetes if your dad had diabetes ?"
          ],
          [
           "what are some safe dessert alternatives when following a diabetic diet ?"
          ],
          [
           "why you should not ignore the signs of diabetes ?"
          ],
          [
           "how is diabetes spread from person to person ?"
          ],
          [
           "is there any new stem cell technology in the field of diabetes ?"
          ],
          [
           "im fifteen what should you do if you suspect diabetes ?"
          ],
          [
           "is it ok to eat ham when you are a diabetic ?"
          ],
          [
           "what is the main reason for high glucose levels ?"
          ],
          [
           "<unk> has recently been diagnosed with type two diabetes . which kind of diet is best for her ?"
          ],
          [
           "what do you give a person who may have type one diabetes and may be feeling light headed ?"
          ],
          [
           "what is the best cure for diabetes ?"
          ],
          [
           "how long does nph insulin last ?"
          ],
          [
           "is over the counter insulin not as good as prescription insulin ?"
          ],
          [
           "is cookie monster diabetic ?"
          ],
          [
           "what are the systems for diabetes ?"
          ],
          [
           "does diabetes show in drug tests ?"
          ],
          [
           "what can a diabetic have instead of rice or potatoes ?"
          ],
          [
           "can too much sugar give you diabetes ?"
          ],
          [
           "what is the study of diabetes mellitus called ?"
          ],
          [
           "what system is the diabetes related to ?"
          ],
          [
           "what is <unk> used for ?"
          ],
          [
           "does exercise help lowering sugar levels in type one diabetes ?"
          ],
          [
           "what happens when a diabetic takes a <unk> ?"
          ],
          [
           "what is type 1diabetes juvenile diabetes ?"
          ],
          [
           "can type one diabetes ever go away ?"
          ],
          [
           "which famous <unk> lost her legs in a <unk> with diabetes ?"
          ],
          [
           "what is a good diet to prevent type two diabetes ?"
          ],
          [
           "when is insulin pump given ?"
          ],
          [
           "how many people in the urban world have diabetes ?"
          ],
          [
           "can you have high blood sugar but not have diabetes ?"
          ],
          [
           "where can i find information about a pre diabetes diet ?"
          ],
          [
           "when injected insulin is best absorbed via which route ?"
          ],
          [
           "explain the relationship between type two diabetes and diet ?"
          ],
          [
           "can people with type one diabetes use <unk> ?"
          ],
          [
           "what are the symptoms of type one and type two diabetes ?"
          ],
          [
           "what are some diabetes super foods ?"
          ],
          [
           "how recombinant insulin is used to reduce aggregation and inactivation ?"
          ],
          [
           "is there an association or website where i could get free diabetic recipes ?"
          ],
          [
           "malfunctioning of which organ of body causes diabetes ?"
          ],
          [
           "why is diabetes is a deficiency disease ?"
          ],
          [
           "what to eat for pre diabetes ?"
          ],
          [
           "explain how local <unk> can influence the local pattern of <unk> ?"
          ],
          [
           "what are the causes of diabetes mellitus ?"
          ],
          [
           "where can i find a diabetic diet guideline online ?"
          ],
          [
           "what type of diabetes is known as the water diabetes ?"
          ],
          [
           "can diabetics eat <unk> rice ?"
          ],
          [
           "what are causes of frequent urination in men ?"
          ],
          [
           "what do you call the presence of glucose in the urine ?"
          ],
          [
           "does caffeine ingestion affect blood test levels of serum glucose or ldl ?"
          ],
          [
           "what herbs are good for diabetes ?"
          ],
          [
           "what are the consequences or effects of diabetes ?"
          ],
          [
           "how are the lives of diabetic and non diabetic the same ?"
          ],
          [
           "does nick jonas <unk> off his dog <unk> when he sleeps ?"
          ],
          [
           "why diabete insulin can not made a pill same as diabete ?"
          ],
          [
           "what is acceptable blood glucose level for a diabetic ?"
          ],
          [
           "is diabetes found only in the us ?"
          ],
          [
           "is frequent urination dangerous ?"
          ],
          [
           "what are some ways to manage diabetes ?"
          ],
          [
           "can a diabetic eat cake ?"
          ],
          [
           "what are the normal ranges of blood glucose for <unk> and fasting samples ?"
          ],
          [
           "what organs do type one diabetes affect ?"
          ],
          [
           "what dessert recipes are safe for diabetics ?"
          ],
          [
           "are peanuts can cure diabetes ?"
          ],
          [
           "what are the symptoms and causes of diabetes ?"
          ],
          [
           "what process results in genetically different bacteria ?"
          ],
          [
           "how did you it you are diabetes ?"
          ],
          [
           "what fiber is recommended for type two diabetes ?"
          ],
          [
           "what does a glucose meter measure ?"
          ],
          [
           "if you were a thirteen year old girl and had diabetes would you try to kill yourself ?"
          ],
          [
           "how is diabetic ketoacidosis diagnosed ?"
          ],
          [
           "where can i read reviews on blood sugar testing products ?"
          ],
          [
           "is honey <unk> melon and cantaloupe bad for diabetes ?"
          ],
          [
           "why sugar level becomes high in a <unk> patient ?"
          ],
          [
           "what causes diabetes what is diabetes and what can diabetes cause ?"
          ],
          [
           "what foods are not allowed on a diabetic food list ?"
          ],
          [
           "do <unk> help regulate the responses of hormones ?"
          ],
          [
           "is ensure safe for diabetics ?"
          ],
          [
           "are there any <unk> treatments for diabetes ?"
          ],
          [
           "what happens when a diabetic person does not inject insulin ?"
          ],
          [
           "what are the normal blood sugar ranges for a diabetic before and after meals ?"
          ],
          [
           "how can you die from diabetes ?"
          ],
          [
           "a diabetic is diet in a nutshell ?"
          ],
          [
           "what causes the lack of blood flow to the hands ?"
          ],
          [
           "how is diabetes mellitus caused ?"
          ],
          [
           "how do know if a child has diabetes ?"
          ],
          [
           "why do you get <unk> were you inject your insulin ?"
          ],
          [
           "what insurance companies has started first insurance <unk> for diabetic patients ?"
          ],
          [
           "what is type one type two or type three diabetes ?"
          ],
          [
           "what is the nursing intervention of diabetes ?"
          ],
          [
           "just because you have diabetes does it mean you automatically lose your toes ?"
          ],
          [
           "what are good foods for diabetics ?"
          ],
          [
           "what kind of diabetes did jackie robinson have ?"
          ],
          [
           "has diabetes all ways been diabetes ?"
          ],
          [
           "is fruits containing sugar bad for diabetic patients ?"
          ],
          [
           "is diabetes an allergy ?"
          ],
          [
           "what is diabetic blood sugar level ?"
          ],
          [
           "when a person is a diabetic do they have to have a special diet to control there diabetes ?"
          ],
          [
           "what is a diabetic emergency ?"
          ],
          [
           "what happens when someone has high blood sugar ?"
          ],
          [
           "where are the <unk> that manufacture proteins for transport out of the cell located ?"
          ],
          [
           "what condition affects insulin levels ?"
          ],
          [
           "why insulin can not be taken orally ?"
          ],
          [
           "how do you cater for special dietary such as coeliac and diabetes ?"
          ],
          [
           "insulin dependent diabetes mellitus is caused by ?"
          ],
          [
           "do bananas raise blood sugar level ?"
          ],
          [
           "can a insulin resistant women conceive ?"
          ],
          [
           "do you have to have all the symptoms to be diabetic ?"
          ],
          [
           "are oranges good for diabetic people ?"
          ],
          [
           "is twelve grams of sugar per <unk> of milk harmful for diabetics ?"
          ],
          [
           "can diabetics who have herpes live ?"
          ],
          [
           "why do diabetics develop itching arms ?"
          ],
          [
           "what foods should you avoid if you are diabetic ?"
          ],
          [
           "are chips bad for a diabetic ?"
          ],
          [
           "what is the target organ for insulin ?"
          ],
          [
           "how will a person know if they have low or high blood sugar ?"
          ],
          [
           "what are the symptoms of being a diabetic ?"
          ],
          [
           "how does diabetes affect people ?"
          ],
          [
           "what are the common diabetes symptoms ?"
          ],
          [
           "what two factors mainly influence <unk> <unk> ?"
          ],
          [
           "what is the pathogen that causes diabetes ?"
          ],
          [
           "what is the full form of <unk> ?"
          ],
          [
           "what two actions can help reduce the possibility of developing diabetes ?"
          ],
          [
           "which human organ produces insulin ?"
          ],
          [
           "what fruit is good with diabetes ?"
          ],
          [
           "can a diabetic be a police officer ?"
          ],
          [
           "does <unk> lower blood sugars ?"
          ],
          [
           "can <unk> cause diabetes ?"
          ],
          [
           "what research has been done on <unk> seaweed ?"
          ],
          [
           "how many carbs in <unk> ?"
          ],
          [
           "does <unk> affect diabetes ?"
          ],
          [
           "what is the association between type two diabetes and body fat ?"
          ],
          [
           "is type diabetes when you cant have sugar ?"
          ],
          [
           "can a <unk> have diabetes ?"
          ],
          [
           "how do you explain to a patient about diabetes ?"
          ],
          [
           "is there cure for <unk> ?"
          ],
          [
           "what happens to a person with diabetes mellitus ?"
          ],
          [
           "are there sample diabetic diets online ?"
          ],
          [
           "can someone please help me find a healthy diabetes plan ?"
          ],
          [
           "what are types of synthetic insulins ?"
          ],
          [
           "what gene and chromosome causes diabetes ?"
          ],
          [
           "how do you get type two diabetes ?"
          ],
          [
           "what organ makes insulin ?"
          ],
          [
           "can people with type two diabetes take insulin or is this only for type one diabetes ?"
          ],
          [
           "where can i find a diet plan for a person who has type two diabetes ?"
          ],
          [
           "are watermelon dried skin good to treat diabetes two ?"
          ],
          [
           "can uncontrolled diabetes kill you ?"
          ],
          [
           "can diabetes insipidus be as dangerous as diabetes mellitus ?"
          ],
          [
           "what are the latest nutrition guides for diabetics ?"
          ],
          [
           "is type ii diabetes known as non-insulin dependent diabetes ?"
          ],
          [
           "will drinking vinegar prevent diabetes ?"
          ],
          [
           "is there a diabetic meal plan that is easy to use when you are away from home ?"
          ],
          [
           "what is the holistic approach to diabetes treatment ?"
          ],
          [
           "can insulin dependent diabetes mellitus cause chronic renal failure ?"
          ],
          [
           "what gene is affected by type one diabetes ?"
          ],
          [
           "what is the <unk> of insulin ?"
          ],
          [
           "is coca cola good to drink for those who are diabetics ?"
          ],
          [
           "what are the two main body systems are affected by diabetes ?"
          ],
          [
           "how does diabetes effect pregnancy ?"
          ],
          [
           "how many cup of rice a day you can eat if you are a diabetic ?"
          ],
          [
           "what type of hereditary condition is <unk> <unk> ?"
          ],
          [
           "what is the normal <unk> of glucose in 100ml of blood ?"
          ],
          [
           "how much metaformin do you take ?"
          ],
          [
           "safe for people with problems . ?"
          ],
          [
           "difference between insulin dependent diabetes and non insulin independent diabetes ?"
          ],
          [
           "what is the normal blood glucose level in human ?"
          ],
          [
           "what does metformin treat ?"
          ],
          [
           "how is it living with diabetes ?"
          ],
          [
           "what is a type one and two diabetes ?"
          ],
          [
           "what is the normal blood sugar level reading ?"
          ],
          [
           "what does insulin do for the body ?"
          ],
          [
           "what is diabetes <unk> ?"
          ],
          [
           "what is a glucometer ?"
          ],
          [
           "what effect would elevated cortisol levels have on blood glucose levels ?"
          ],
          [
           "what are the best fruits to bring down blood sugar levels ?"
          ],
          [
           "what is a life long condition ?"
          ],
          [
           "is a one hundred and nine fasting blood sugar reading mean you have diabetes ?"
          ],
          [
           "is type two diabetes also known as insulin <unk> diabetes ?"
          ],
          [
           "how would you modify your diet if you had diabetes ?"
          ],
          [
           "where can i find meal plans for diabetics ?"
          ],
          [
           "what organ is the center for the storage and production of glucose ?"
          ],
          [
           "why do diabetic people have to have a injection ?"
          ],
          [
           "how did nick jonas find out he had diabetes ?"
          ],
          [
           "what glands are associated with diabetes ?"
          ],
          [
           "do is and do nots to prevent spread of communicable diseases ?"
          ],
          [
           "how do you lower high blood sugar ?"
          ],
          [
           "can a thin person be diabetic ?"
          ]
         ],
         "hovertemplate": "pc_1=%{x}<br>pc_2=%{y}<br>pc_3=%{z}<br>question=%{customdata[0]}<br>color=%{marker.color}<extra></extra>",
         "legendgroup": "",
         "marker": {
          "color": [
           0,
           1,
           2,
           6,
           3,
           -1,
           4,
           5,
           1,
           0,
           -1,
           6,
           -1,
           5,
           5,
           18,
           5,
           5,
           0,
           -1,
           -1,
           2,
           6,
           0,
           3,
           8,
           5,
           21,
           8,
           3,
           22,
           9,
           7,
           20,
           3,
           8,
           6,
           -1,
           -1,
           6,
           19,
           2,
           5,
           0,
           -1,
           20,
           8,
           14,
           0,
           3,
           4,
           6,
           3,
           10,
           8,
           18,
           -1,
           18,
           5,
           5,
           8,
           -1,
           1,
           10,
           9,
           8,
           6,
           3,
           8,
           16,
           3,
           0,
           7,
           16,
           9,
           5,
           9,
           21,
           5,
           3,
           5,
           0,
           5,
           6,
           0,
           0,
           -1,
           8,
           6,
           2,
           -1,
           8,
           8,
           -1,
           5,
           6,
           5,
           -1,
           8,
           8,
           8,
           9,
           3,
           18,
           5,
           8,
           12,
           -1,
           3,
           3,
           8,
           3,
           -1,
           7,
           3,
           -1,
           8,
           -1,
           8,
           5,
           0,
           6,
           0,
           0,
           0,
           -1,
           10,
           6,
           8,
           20,
           5,
           8,
           6,
           8,
           3,
           8,
           -1,
           3,
           8,
           8,
           -1,
           8,
           -1,
           6,
           9,
           23,
           21,
           3,
           6,
           9,
           6,
           -1,
           -1,
           8,
           -1,
           -1,
           2,
           -1,
           5,
           -1,
           8,
           8,
           9,
           11,
           13,
           -1,
           24,
           0,
           9,
           6,
           13,
           5,
           -1,
           -1,
           9,
           5,
           4,
           0,
           8,
           2,
           3,
           8,
           13,
           0,
           19,
           6,
           3,
           -1,
           1,
           1,
           0,
           8,
           0,
           -1,
           5,
           6,
           -1,
           0,
           13,
           8,
           15,
           3,
           3,
           -1,
           23,
           5,
           6,
           5,
           1,
           6,
           4,
           4,
           3,
           9,
           -1,
           3,
           8,
           3,
           8,
           3,
           -1,
           3,
           5,
           6,
           5,
           10,
           6,
           -1,
           -1,
           8,
           5,
           0,
           -1,
           3,
           -1,
           -1,
           -1,
           5,
           1,
           8,
           5,
           -1,
           3,
           -1,
           0,
           5,
           0,
           6,
           1,
           3,
           0,
           0,
           5,
           6,
           5,
           8,
           -1,
           7,
           0,
           8,
           8,
           7,
           7,
           5,
           1,
           -1,
           -1,
           5,
           -1,
           18,
           8,
           9,
           5,
           8,
           22,
           11,
           0,
           0,
           -1,
           3,
           9,
           2,
           0,
           8,
           6,
           20,
           21,
           6,
           6,
           2,
           -1,
           8,
           1,
           8,
           3,
           5,
           6,
           7,
           5,
           18,
           19,
           -1,
           5,
           6,
           1,
           3,
           5,
           13,
           8,
           3,
           12,
           7,
           8,
           5,
           3,
           -1,
           -1,
           -1,
           5,
           8,
           -1,
           0,
           1,
           3,
           2,
           -1,
           -1,
           5,
           8,
           2,
           6,
           8,
           2,
           7,
           3,
           0,
           0,
           -1,
           6,
           6,
           8,
           5,
           4,
           8,
           5,
           -1,
           6,
           19,
           8,
           8,
           5,
           -1,
           2,
           5,
           -1,
           5,
           -1,
           3,
           1,
           0,
           3,
           -1,
           9,
           12,
           20,
           6,
           8,
           6,
           8,
           0,
           8,
           10,
           0,
           8,
           8,
           5,
           0,
           6,
           12,
           0,
           3,
           8,
           8,
           6,
           0,
           5,
           -1,
           5,
           23,
           0,
           4,
           9,
           3,
           9,
           5,
           21,
           0,
           3,
           -1,
           19,
           3,
           6,
           8,
           6,
           13,
           24,
           0,
           0,
           2,
           8,
           5,
           2,
           23,
           6,
           -1,
           6,
           10,
           20,
           5,
           5,
           -1,
           8,
           14,
           -1,
           8,
           11,
           8,
           -1,
           7,
           0,
           0,
           8,
           3,
           5,
           11,
           8,
           3,
           8,
           6,
           0,
           11,
           21,
           3,
           5,
           8,
           1,
           8,
           5,
           3,
           -1,
           2,
           8,
           15,
           5,
           -1,
           -1,
           5,
           3,
           22,
           3,
           6,
           -1,
           23,
           13,
           8,
           3,
           18,
           8,
           3,
           8,
           -1,
           4,
           9,
           -1,
           6,
           -1,
           24,
           5,
           8,
           3,
           13,
           -1,
           0,
           14,
           18,
           0,
           6,
           15,
           3,
           -1,
           6,
           6,
           3,
           0,
           5,
           5,
           -1,
           23,
           0,
           3,
           3,
           8,
           -1,
           6,
           0,
           18,
           -1,
           6,
           8,
           10,
           1,
           1,
           2,
           -1,
           0,
           8,
           -1,
           5,
           3,
           6,
           -1,
           5,
           7,
           8,
           8,
           13,
           0,
           -1,
           -1,
           5,
           7,
           5,
           0,
           6,
           8,
           8,
           8,
           8,
           2,
           3,
           5,
           3,
           6,
           5,
           0,
           13,
           3,
           11,
           8,
           2,
           13,
           10,
           11,
           6,
           2,
           0,
           0,
           5,
           3,
           3,
           11,
           3,
           3,
           3,
           0,
           5,
           8,
           20,
           -1,
           4,
           1,
           15,
           9,
           -1,
           11,
           0,
           7,
           7,
           8,
           0,
           0,
           5,
           5,
           0,
           19,
           5,
           2,
           16,
           8,
           -1,
           3,
           5,
           6,
           6,
           23,
           3,
           16,
           6,
           6,
           2,
           7,
           8,
           -1,
           3,
           8,
           12,
           6,
           0,
           13,
           0,
           -1,
           -1,
           15,
           8,
           17,
           3,
           16,
           7,
           -1,
           0,
           8,
           -1,
           0,
           -1,
           5,
           6,
           -1,
           5,
           8,
           7,
           1,
           5,
           15,
           -1,
           -1,
           8,
           5,
           6,
           3,
           5,
           19,
           24,
           19,
           6,
           8,
           5,
           0,
           -1,
           3,
           16,
           4,
           8,
           5,
           3,
           5,
           7,
           20,
           -1,
           0,
           -1,
           0,
           5,
           19,
           8,
           3,
           17,
           9,
           8,
           7,
           8,
           -1,
           0,
           11,
           -1,
           6,
           3,
           5,
           7,
           21,
           8,
           8,
           -1,
           6,
           8,
           17,
           -1,
           -1,
           9,
           8,
           1,
           5,
           6,
           8,
           3,
           1,
           23,
           -1,
           -1,
           18,
           20,
           -1,
           -1,
           6,
           5,
           0,
           17,
           0,
           6,
           1,
           5,
           -1,
           -1,
           5,
           8,
           6,
           0,
           2,
           17,
           5,
           8,
           7,
           -1,
           12,
           11,
           5,
           -1,
           3,
           8,
           -1,
           9,
           11,
           5,
           5,
           -1,
           6,
           7,
           9,
           5,
           7,
           7,
           5,
           8,
           0,
           6,
           0,
           15,
           -1,
           6,
           5,
           -1,
           1,
           20,
           0,
           17,
           -1,
           0,
           8,
           5,
           3,
           0,
           8,
           0,
           5,
           15,
           8,
           5,
           6,
           5,
           18,
           13,
           3,
           14,
           0,
           3,
           0,
           5,
           0,
           1,
           -1,
           6,
           3,
           8,
           5,
           0,
           17,
           5,
           3,
           8,
           4,
           0,
           5,
           0,
           8,
           3,
           5,
           -1,
           -1,
           0,
           6,
           8,
           8,
           5,
           -1,
           3,
           0,
           2,
           -1,
           2,
           24,
           8,
           -1,
           8,
           6,
           22,
           -1,
           8,
           0,
           -1,
           3,
           12,
           6,
           5,
           15,
           8,
           6,
           12,
           6,
           0,
           3,
           9,
           1,
           6,
           5,
           7,
           -1,
           6,
           7,
           16,
           6,
           10,
           6,
           -1,
           8,
           0,
           -1,
           7,
           -1,
           -1,
           8,
           10,
           17,
           5,
           5,
           -1,
           21,
           3,
           3,
           6,
           -1,
           6,
           23,
           12,
           3,
           10,
           7,
           -1,
           6,
           -1,
           0,
           8,
           7,
           7,
           5,
           3,
           10,
           -1,
           -1,
           1,
           9,
           8,
           7,
           3,
           6,
           1,
           -1,
           11,
           3,
           13,
           8,
           0,
           3,
           0,
           6,
           0,
           8,
           0,
           18,
           11,
           6,
           4,
           0,
           8,
           0,
           11,
           6,
           3,
           -1,
           3,
           6,
           1,
           3,
           11,
           8,
           11,
           8,
           11,
           -1,
           22,
           -1,
           5,
           -1,
           8,
           6,
           8,
           -1,
           5,
           9,
           3,
           14,
           16,
           -1,
           3,
           22,
           -1,
           8,
           -1,
           3,
           3,
           -1,
           3,
           -1,
           0,
           5,
           8,
           7,
           0,
           8,
           -1,
           10,
           6,
           5,
           0,
           0,
           -1,
           8,
           8,
           1,
           8,
           0,
           -1,
           -1,
           14,
           5,
           5,
           19,
           8,
           3,
           5,
           6,
           3,
           -1,
           5,
           8,
           0,
           0,
           5,
           0,
           3,
           8,
           3,
           0,
           4,
           8,
           6,
           7,
           8,
           11,
           8,
           3,
           10,
           8,
           -1,
           8,
           8,
           5,
           6,
           0,
           8,
           4,
           8,
           7,
           0,
           8,
           8,
           8,
           -1,
           0,
           11,
           0,
           3,
           6,
           8,
           -1,
           -1,
           6,
           3,
           -1,
           0,
           -1,
           2,
           8,
           8,
           20,
           -1,
           -1,
           8,
           9,
           0,
           -1,
           -1,
           7,
           -1,
           11,
           8,
           3,
           -1,
           6,
           6,
           3,
           8,
           13,
           1,
           17,
           8,
           0,
           1,
           2,
           0,
           11,
           3,
           0,
           0,
           13,
           3,
           3,
           9,
           3,
           6,
           11,
           3,
           0,
           11,
           16,
           7,
           0,
           -1,
           3,
           9,
           8,
           3,
           6,
           -1,
           12,
           8,
           6,
           3,
           -1,
           11,
           6,
           -1,
           0,
           -1,
           -1,
           5,
           16,
           7,
           15,
           0,
           0,
           8,
           8,
           6,
           -1,
           0,
           5,
           9,
           5,
           -1,
           0,
           7,
           0,
           -1,
           5,
           8,
           5,
           -1,
           7,
           8,
           -1,
           8,
           7,
           3,
           23,
           2,
           -1,
           2,
           0,
           6,
           0,
           3,
           9,
           14,
           23,
           6,
           12,
           -1,
           6,
           6,
           5,
           5,
           6,
           -1,
           5,
           6,
           8,
           -1,
           18,
           -1,
           0,
           8,
           7,
           -1,
           5,
           1,
           8,
           8,
           -1,
           1,
           8,
           -1,
           3,
           -1,
           8,
           -1,
           1,
           -1,
           3,
           6,
           6,
           6,
           17,
           2,
           -1,
           5,
           0,
           6,
           -1,
           2,
           5,
           6,
           8,
           -1,
           0,
           9,
           13,
           8,
           6,
           12,
           -1,
           -1,
           -1,
           -1,
           8,
           0,
           8,
           5,
           6,
           -1,
           7,
           -1,
           -1,
           3,
           3,
           19,
           2,
           -1,
           14,
           12,
           -1,
           10,
           0,
           17,
           3,
           8,
           8,
           6,
           7,
           3,
           6,
           14,
           3,
           8,
           6,
           13,
           3,
           8,
           -1,
           0,
           -1,
           1,
           5,
           -1,
           3,
           3,
           5,
           -1,
           7,
           0,
           20,
           14,
           3,
           3,
           6,
           0,
           8,
           0,
           0,
           16,
           -1,
           8,
           0,
           3,
           11,
           3,
           -1,
           18,
           8,
           3,
           18,
           -1,
           8,
           6,
           -1,
           8,
           13,
           9,
           -1,
           20,
           -1,
           -1,
           3,
           23,
           3,
           -1,
           5,
           -1,
           11,
           0,
           3,
           0,
           5,
           0,
           17,
           8,
           5,
           -1,
           -1,
           1,
           3,
           3,
           -1,
           5,
           -1,
           14,
           8,
           -1,
           20,
           -1,
           3,
           2,
           6,
           5,
           11,
           8,
           7,
           8,
           2,
           8,
           6,
           0,
           5,
           5,
           -1,
           8,
           16,
           8,
           20,
           -1,
           -1,
           13,
           1,
           8,
           12,
           14,
           6,
           5,
           -1,
           3,
           8,
           -1,
           -1,
           -1,
           8,
           5,
           -1,
           -1,
           16,
           0,
           24,
           8,
           8,
           -1,
           -1,
           3,
           8,
           5,
           -1,
           3,
           5,
           6,
           3,
           6,
           -1,
           9,
           1,
           6,
           3,
           0,
           3,
           11,
           -1,
           0,
           6,
           6,
           8,
           -1,
           8,
           8,
           3,
           2,
           6,
           -1,
           5,
           -1,
           5,
           6,
           6,
           5,
           -1,
           0,
           6,
           3,
           8,
           5,
           0,
           6,
           1,
           -1,
           3,
           -1,
           -1,
           11,
           0,
           5,
           5,
           15,
           8,
           6,
           -1,
           23,
           13,
           2,
           3,
           -1,
           6,
           0,
           5,
           -1,
           5,
           -1,
           0,
           2,
           -1,
           8,
           3,
           6,
           6,
           7,
           0,
           -1,
           3,
           5,
           20,
           0,
           8,
           6,
           6,
           21,
           -1,
           -1,
           8,
           7,
           0,
           3,
           0,
           13,
           6,
           3,
           6,
           3,
           -1,
           16,
           5,
           1,
           -1,
           8,
           7,
           8,
           19,
           0,
           7,
           -1,
           6,
           9,
           5,
           22,
           13,
           8,
           19,
           8,
           -1,
           5,
           0,
           2,
           20,
           3,
           6,
           -1,
           5,
           15,
           -1,
           6,
           0,
           3,
           3,
           3,
           3,
           -1,
           7,
           3,
           11,
           9,
           -1,
           5,
           11,
           7,
           6,
           0,
           8,
           16,
           3,
           8,
           5,
           2,
           -1,
           14,
           8,
           11,
           -1,
           -1,
           8,
           7,
           8,
           5,
           8,
           8,
           3,
           5,
           0,
           -1,
           7,
           8,
           21,
           -1,
           3,
           15,
           12,
           3,
           0,
           21,
           -1,
           -1,
           -1,
           10,
           3,
           11,
           10,
           6,
           -1,
           -1,
           -1,
           0,
           20,
           0,
           3,
           -1,
           5,
           23,
           -1,
           0,
           0,
           6,
           23,
           5,
           0,
           6,
           8,
           3,
           -1,
           6,
           16,
           0,
           10,
           13,
           3,
           -1,
           -1,
           8,
           4,
           15,
           6,
           16,
           3,
           5,
           3,
           -1,
           2,
           1,
           -1,
           -1,
           0,
           3,
           -1,
           3,
           0,
           -1,
           0,
           11,
           3,
           5,
           1,
           -1,
           6,
           3,
           0,
           6,
           5,
           8,
           8,
           9,
           9,
           17,
           2,
           19,
           6,
           5,
           10,
           2,
           2,
           8,
           -1,
           8,
           9,
           8,
           -1,
           6,
           7,
           -1,
           5,
           0,
           2,
           -1,
           6,
           0,
           0,
           8,
           19,
           7,
           3,
           3,
           6,
           6,
           -1,
           -1,
           -1,
           -1,
           13,
           5,
           10,
           8,
           -1,
           7,
           5,
           5,
           -1,
           -1,
           0,
           2,
           11,
           3,
           8,
           5,
           6,
           -1,
           3,
           -1,
           -1,
           0,
           3,
           13,
           6,
           2,
           -1,
           -1,
           9,
           0,
           3,
           2,
           6,
           9,
           0,
           2,
           6,
           5,
           11,
           6,
           8,
           3,
           8,
           8,
           5,
           -1,
           14,
           -1,
           5,
           3,
           6,
           0,
           2,
           0,
           8,
           8,
           3,
           3,
           3,
           7,
           8,
           2,
           0,
           6,
           6,
           3,
           -1,
           3,
           12,
           8,
           8,
           1,
           5,
           -1,
           6,
           6,
           14,
           -1,
           7,
           -1,
           -1,
           3,
           0,
           0,
           6,
           20,
           3,
           24,
           8,
           5,
           20,
           -1,
           6,
           8,
           8,
           6,
           3,
           8,
           6,
           21,
           7,
           24,
           13,
           -1,
           5,
           1,
           5,
           8,
           6,
           -1,
           8,
           3,
           8,
           5,
           0,
           0,
           -1,
           6,
           5,
           3,
           6,
           5,
           5,
           5,
           5,
           5,
           0,
           -1,
           5,
           6,
           8,
           3,
           8,
           8,
           24,
           -1,
           5,
           5,
           5,
           11,
           8,
           11,
           5,
           -1,
           24,
           3,
           5,
           3,
           6,
           0,
           5,
           -1,
           0,
           9,
           8,
           5,
           18,
           6,
           8,
           -1,
           7,
           5,
           3,
           -1,
           6,
           6,
           4,
           8,
           -1,
           5,
           -1,
           5,
           -1,
           20,
           5,
           11,
           8,
           5,
           7,
           0,
           -1,
           -1,
           0,
           6,
           24,
           3,
           19,
           -1,
           3,
           -1,
           3,
           0,
           6,
           6,
           3,
           8,
           8,
           -1,
           12,
           1,
           3,
           11,
           16,
           3,
           6,
           -1,
           0,
           12,
           0,
           8,
           11,
           8,
           6,
           6,
           19,
           7,
           5,
           11,
           3,
           -1,
           -1,
           5,
           6,
           3,
           5,
           0,
           6,
           8,
           0,
           6,
           20,
           5,
           -1,
           11,
           3,
           8,
           2,
           3,
           12,
           8,
           3,
           9,
           0,
           13,
           -1,
           8,
           3,
           3,
           -1,
           6,
           9,
           0,
           19,
           9,
           8,
           3,
           2,
           3,
           7,
           0,
           13,
           3,
           13,
           2,
           5,
           -1,
           -1,
           6,
           18,
           1,
           3,
           3,
           -1,
           15,
           5,
           11,
           3,
           5,
           3,
           5,
           5,
           8,
           3,
           9,
           6,
           6,
           5,
           3,
           0,
           -1,
           5,
           3,
           1,
           16,
           -1,
           6,
           8,
           11,
           8,
           3,
           6,
           3,
           -1,
           0,
           11,
           1,
           7,
           8,
           0,
           5,
           1,
           6,
           8,
           0,
           3,
           11,
           9,
           1,
           5,
           7,
           3,
           6,
           5,
           6,
           6,
           2,
           5,
           9,
           3,
           5,
           -1,
           2,
           11,
           0,
           0,
           5,
           1,
           0,
           -1,
           -1,
           -1,
           0,
           -1,
           6,
           8,
           -1,
           5,
           -1,
           6,
           2,
           0,
           5,
           8,
           8,
           4,
           0,
           -1,
           3,
           -1,
           3,
           12,
           20,
           7,
           8,
           6,
           11,
           11,
           13,
           -1,
           8,
           24,
           5,
           8,
           7,
           3,
           8,
           3,
           3,
           5,
           0,
           6,
           5,
           -1,
           9,
           5,
           3,
           8,
           19,
           6,
           7,
           2,
           1,
           1,
           5,
           9,
           5,
           6,
           0,
           8,
           3,
           0,
           -1,
           1,
           8,
           11,
           0,
           18,
           8,
           8,
           6,
           -1,
           3,
           6,
           -1,
           6,
           -1,
           5,
           5,
           9,
           8,
           14,
           5,
           -1,
           6,
           8,
           0,
           5,
           8,
           7,
           0,
           15,
           -1,
           5,
           5,
           8,
           6,
           11,
           -1,
           5,
           3,
           -1,
           3,
           5,
           -1,
           8,
           6,
           5,
           3,
           3,
           -1,
           1,
           14,
           6,
           3,
           20,
           7,
           17,
           8,
           12,
           7,
           8,
           3,
           23,
           -1,
           3,
           10,
           -1,
           5,
           -1,
           6,
           -1,
           5,
           3,
           3,
           6,
           10,
           16,
           6,
           0,
           8,
           1,
           7,
           5,
           8,
           23,
           1,
           5,
           3,
           1,
           8,
           5,
           0,
           21,
           8,
           0,
           0,
           5,
           0,
           13,
           1,
           0,
           9,
           -1,
           1,
           9,
           3,
           10,
           3,
           11,
           8,
           3,
           -1,
           12,
           1,
           -1,
           0,
           3,
           5,
           -1,
           2,
           5,
           8,
           5,
           -1,
           -1,
           8,
           3,
           6,
           5,
           0,
           4,
           12,
           -1,
           0,
           -1,
           0,
           -1,
           9,
           7,
           5,
           8,
           0,
           6,
           5,
           6,
           0,
           6,
           20,
           -1,
           -1,
           6,
           -1,
           9,
           6,
           0,
           -1,
           7,
           8,
           -1,
           6,
           0,
           17,
           -1,
           8,
           8,
           -1,
           3,
           3,
           5,
           5,
           3,
           8,
           3,
           20,
           5,
           -1,
           8,
           -1,
           5,
           -1,
           3,
           5,
           -1,
           3,
           8,
           -1,
           0,
           -1,
           -1,
           0,
           5,
           0,
           -1,
           3,
           20,
           10,
           0,
           5,
           20,
           -1,
           6,
           0,
           4,
           3,
           6,
           5,
           -1,
           0,
           8,
           -1,
           3,
           7,
           2,
           1,
           0,
           6,
           10,
           0,
           6,
           5,
           6,
           8,
           16,
           6,
           -1,
           -1,
           5,
           23,
           6,
           0,
           -1,
           1,
           5,
           -1,
           6,
           -1,
           6,
           6,
           5,
           3,
           5,
           3,
           8,
           8,
           3,
           7,
           5,
           5,
           2,
           -1,
           -1,
           0,
           5,
           11,
           -1,
           5,
           24,
           5,
           0,
           23,
           -1,
           5,
           1,
           -1,
           5,
           3,
           -1,
           1,
           6,
           0,
           6,
           8,
           3,
           4,
           3,
           6,
           2,
           -1,
           8,
           15,
           7,
           -1,
           5,
           -1,
           0,
           -1,
           3,
           16,
           3,
           9,
           0,
           16,
           7,
           -1,
           5,
           5,
           -1,
           5,
           0,
           5,
           16,
           14,
           -1,
           8,
           5,
           8,
           -1,
           9,
           18,
           3,
           6,
           5,
           2,
           7,
           9,
           1,
           5,
           8,
           1,
           8,
           6,
           0,
           5,
           -1,
           4,
           0,
           10,
           5,
           5,
           -1,
           1,
           8,
           -1,
           -1,
           3,
           0,
           8,
           3,
           -1,
           -1,
           3,
           -1,
           -1,
           16,
           8,
           0,
           17,
           3,
           6,
           19,
           7,
           5,
           3,
           5,
           5,
           9,
           3,
           3,
           0,
           5,
           6,
           8,
           5,
           3,
           0,
           0,
           0,
           8,
           12,
           8,
           3,
           8,
           8,
           5,
           -1,
           3,
           21,
           5,
           0,
           3,
           8,
           5,
           6,
           3,
           3,
           23,
           3,
           5,
           24,
           8,
           0,
           5,
           1,
           6,
           1,
           -1,
           -1,
           4,
           0,
           7,
           0,
           5,
           7,
           -1,
           8,
           0,
           8,
           6,
           6,
           -1,
           13,
           6,
           3,
           -1,
           -1,
           8,
           13,
           3,
           -1,
           3,
           6,
           13,
           6,
           0,
           -1,
           0,
           6,
           8,
           -1,
           2,
           17,
           6,
           12,
           -1,
           3,
           0,
           23,
           3,
           -1,
           -1,
           0,
           5,
           1,
           16,
           -1,
           8,
           -1,
           1,
           6,
           17,
           6,
           3,
           -1,
           0,
           6,
           8,
           3,
           5,
           9,
           -1,
           3,
           8,
           0,
           24,
           5,
           3,
           -1,
           6,
           -1,
           5,
           5,
           2,
           0,
           7,
           22,
           3,
           -1,
           8,
           18,
           5,
           -1,
           2,
           -1,
           5,
           2,
           8,
           3,
           9,
           3,
           3,
           3,
           8,
           -1,
           23,
           -1,
           14,
           11,
           -1,
           6,
           0,
           -1,
           -1,
           0,
           19,
           3,
           -1,
           21,
           3,
           19,
           3,
           0,
           7,
           8,
           0,
           -1,
           -1,
           13,
           -1,
           4,
           6,
           19,
           2,
           6,
           -1,
           -1,
           -1,
           0,
           5,
           -1,
           14,
           0,
           3,
           0,
           8,
           -1,
           1,
           1,
           6,
           23,
           -1,
           6,
           -1,
           -1,
           -1,
           3,
           6,
           5,
           5,
           14,
           3,
           12,
           6,
           3,
           8,
           23,
           8,
           1,
           -1,
           -1,
           3,
           0,
           8,
           -1,
           5,
           3,
           -1,
           8,
           11,
           -1,
           2,
           0,
           7,
           11,
           0,
           15,
           10,
           22,
           3,
           7,
           4,
           5,
           22,
           5,
           5,
           8,
           5,
           -1,
           -1,
           11,
           1,
           -1,
           7,
           1,
           5,
           8,
           1,
           0,
           3,
           6,
           8,
           11,
           -1,
           7,
           13,
           5,
           0,
           1,
           6,
           11,
           2,
           -1,
           5,
           -1,
           6,
           6,
           -1,
           5,
           8,
           8,
           8,
           5,
           0,
           -1,
           -1,
           3,
           6,
           6,
           6,
           -1,
           -1,
           -1,
           0,
           5,
           3,
           -1,
           -1,
           0,
           4,
           -1,
           8,
           7,
           6,
           7,
           -1,
           11,
           3,
           0,
           2,
           8,
           8,
           0,
           3,
           7,
           8,
           -1,
           7,
           0,
           5,
           3,
           3,
           3,
           5,
           -1,
           1,
           5,
           7,
           6,
           8,
           5,
           0,
           3,
           3,
           -1,
           6,
           5,
           14,
           3,
           5,
           3,
           -1,
           3,
           3,
           6,
           0,
           -1,
           8,
           1,
           -1,
           0,
           8,
           11,
           3,
           7,
           -1,
           5,
           6,
           5,
           6,
           -1,
           3,
           -1,
           10,
           0,
           5,
           8,
           6,
           6,
           19,
           0,
           0,
           8,
           5,
           6,
           11,
           16,
           0,
           3,
           0,
           0,
           5,
           -1,
           8,
           -1,
           3,
           21,
           5,
           0,
           8,
           0,
           15,
           -1,
           0,
           3,
           0,
           6,
           8,
           9,
           3,
           0,
           5,
           8,
           0,
           3,
           3,
           3,
           6,
           7,
           8,
           -1,
           16,
           23,
           3,
           17,
           9,
           3,
           8,
           22,
           8,
           5,
           8,
           7,
           0,
           6,
           0,
           3,
           4,
           6,
           8,
           11,
           19,
           21,
           -1,
           0,
           -1,
           -1,
           3,
           5,
           3,
           -1,
           3,
           -1,
           7,
           8,
           8,
           5,
           0,
           8,
           12,
           6,
           5,
           7,
           0,
           7,
           -1,
           -1,
           8,
           0,
           0,
           5,
           3,
           6,
           1,
           -1,
           6,
           -1,
           -1,
           8,
           5,
           0,
           5,
           3,
           3,
           -1,
           6,
           23,
           20,
           -1,
           6,
           3,
           -1,
           11,
           -1,
           6,
           -1,
           7,
           2,
           3,
           -1,
           8,
           -1,
           3,
           2,
           11,
           6,
           2,
           3,
           5,
           3,
           6,
           5,
           23,
           3,
           5,
           6,
           0,
           1,
           9,
           -1,
           -1,
           -1,
           -1,
           -1,
           3,
           8,
           3,
           7,
           2,
           0,
           8,
           3,
           5,
           5,
           1,
           -1,
           1,
           2,
           8,
           -1,
           10,
           -1,
           0,
           8,
           4,
           5,
           3,
           0,
           5,
           -1,
           8,
           1,
           5,
           -1,
           12,
           7,
           -1,
           20,
           6,
           6,
           0,
           5,
           6,
           -1,
           17,
           -1,
           8,
           0,
           3,
           8,
           24,
           3,
           -1,
           5,
           -1,
           8,
           3,
           -1,
           21,
           0,
           0,
           7,
           5,
           0,
           3,
           8,
           -1,
           7,
           1,
           3,
           6,
           3,
           6,
           3,
           -1,
           15,
           0,
           0,
           6,
           3,
           16,
           6,
           -1,
           0,
           2,
           5,
           12,
           20,
           20,
           3,
           6,
           6,
           3,
           11,
           5,
           5,
           -1,
           7,
           5,
           11,
           5,
           5,
           13,
           11,
           6,
           3,
           17,
           6,
           3,
           5,
           6,
           9,
           8,
           0,
           11,
           8,
           -1,
           6,
           6,
           8,
           9,
           6,
           8,
           8,
           8,
           -1,
           8,
           11,
           -1,
           5,
           9,
           -1,
           7,
           13,
           -1,
           8,
           -1
          ],
          "coloraxis": "coloraxis",
          "size": 3,
          "symbol": "circle"
         },
         "mode": "markers",
         "name": "",
         "scene": "scene",
         "showlegend": false,
         "type": "scatter3d",
         "x": [
          2.164767265319824,
          13.500222206115723,
          12.156831741333008,
          -4.363658428192139,
          -10.74577808380127,
          -8.435307502746582,
          3.514850616455078,
          8.703714370727539,
          13.34543228149414,
          6.948068618774414,
          11.209920883178711,
          -3.9477338790893555,
          -0.9915475249290466,
          9.421369552612305,
          3.276113271713257,
          -4.053420066833496,
          7.209289073944092,
          1.5469231605529785,
          -0.25902697443962097,
          7.267836093902588,
          -0.2906837463378906,
          10.729970932006836,
          -1.7195342779159546,
          4.093649387359619,
          -6.407853126525879,
          -4.499572277069092,
          9.197405815124512,
          4.489007949829102,
          -2.9826619625091553,
          -3.5382235050201416,
          -1.7736891508102417,
          -13.026991844177246,
          -0.41304436326026917,
          3.685235023498535,
          -5.917014122009277,
          -8.103463172912598,
          -1.1239967346191406,
          12.847892761230469,
          -0.7288523316383362,
          -2.06634259223938,
          -1.7308863401412964,
          12.306760787963867,
          2.525862455368042,
          4.119583606719971,
          -7.423356533050537,
          1.0999047756195068,
          -0.4680914580821991,
          1.8159642219543457,
          -3.3743886947631836,
          -3.2686097621917725,
          2.882892608642578,
          2.643077850341797,
          -3.216930866241455,
          -4.894232749938965,
          -4.3503875732421875,
          -4.055676460266113,
          11.81031322479248,
          -2.725137710571289,
          5.53027868270874,
          2.1864092350006104,
          -1.7778215408325195,
          -0.8321917653083801,
          13.506186485290527,
          -7.6215949058532715,
          -11.889944076538086,
          -8.994778633117676,
          6.262298583984375,
          -10.960759162902832,
          -4.070888042449951,
          0.5288658142089844,
          -8.777090072631836,
          4.946596145629883,
          1.0751063823699951,
          0.30177295207977295,
          -11.471083641052246,
          1.1196762323379517,
          -12.469507217407227,
          2.3548965454101562,
          5.542651653289795,
          -7.082424163818359,
          4.071365833282471,
          0.2596488296985626,
          10.974668502807617,
          -1.1718719005584717,
          4.611395835876465,
          4.341744422912598,
          5.127904891967773,
          -4.2113471031188965,
          -6.37440299987793,
          9.883111953735352,
          3.8746044635772705,
          -3.928968667984009,
          -8.500879287719727,
          -0.9413385391235352,
          11.39107894897461,
          -4.67779016494751,
          6.4342427253723145,
          -9.669819831848145,
          -10.03984546661377,
          -7.377589702606201,
          -10.26980209350586,
          -14.139708518981934,
          -7.955777645111084,
          -4.140801429748535,
          8.43945026397705,
          -8.276490211486816,
          -4.1591796875,
          -8.459967613220215,
          -11.793817520141602,
          -8.55554485321045,
          -8.578850746154785,
          -5.360410690307617,
          -5.54169225692749,
          -0.09293632954359055,
          -5.478965759277344,
          6.9496355056762695,
          -6.8245320320129395,
          -2.753025770187378,
          -8.170646667480469,
          0.9949290156364441,
          5.197351455688477,
          -3.0477945804595947,
          -0.6444416642189026,
          5.481922149658203,
          5.307490825653076,
          4.982614040374756,
          -5.707529067993164,
          4.593164443969727,
          -0.5148376226425171,
          1.0750932693481445,
          4.398640155792236,
          -4.95001220703125,
          -4.722536563873291,
          -8.771698951721191,
          -5.4512810707092285,
          -5.199178218841553,
          -4.933544635772705,
          -2.986360549926758,
          -2.5325024127960205,
          -3.741612434387207,
          -3.624445676803589,
          -3.9387927055358887,
          10.731779098510742,
          -3.0043675899505615,
          -13.763540267944336,
          0.48484402894973755,
          4.387472629547119,
          -8.692667007446289,
          -2.708526372909546,
          -13.642937660217285,
          -0.6495510935783386,
          -5.743743419647217,
          -3.9576051235198975,
          -4.483710289001465,
          6.5122880935668945,
          2.1976869106292725,
          12.081978797912598,
          4.775618553161621,
          0.38060328364372253,
          -11.081405639648438,
          -5.171557426452637,
          -4.934394359588623,
          -14.348373413085938,
          9.891837120056152,
          5.239048480987549,
          -3.675945281982422,
          -3.7100677490234375,
          6.452506065368652,
          -12.360121726989746,
          -3.543675422668457,
          5.079423427581787,
          8.138998985290527,
          -3.262986421585083,
          -3.584240436553955,
          -13.154214859008789,
          1.3093923330307007,
          4.153153419494629,
          5.027463912963867,
          -2.6319899559020996,
          11.981047630310059,
          -7.915249824523926,
          -5.956975936889648,
          5.821914196014404,
          2.2989418506622314,
          1.0983459949493408,
          6.09650182723999,
          -6.266730308532715,
          -0.810061514377594,
          12.81015682220459,
          14.082803726196289,
          1.5199980735778809,
          -10.32274341583252,
          0.8874202370643616,
          -4.338757514953613,
          11.8694486618042,
          -6.0656585693359375,
          4.985583305358887,
          4.868360996246338,
          4.578527927398682,
          -8.368912696838379,
          3.2062089443206787,
          -7.2943644523620605,
          -10.565155029296875,
          5.152426242828369,
          0.32848480343818665,
          9.265386581420898,
          4.872435569763184,
          8.308732032775879,
          14.735432624816895,
          -5.066810607910156,
          4.09021520614624,
          4.6613311767578125,
          -7.484341144561768,
          -10.844176292419434,
          -2.49385142326355,
          -7.0656843185424805,
          -9.162654876708984,
          -7.482989311218262,
          -10.5646390914917,
          -13.815940856933594,
          -4.096945285797119,
          -7.264951229095459,
          8.569465637207031,
          -3.667390823364258,
          2.4395766258239746,
          -5.614035129547119,
          -1.9635865688323975,
          7.838802814483643,
          2.778480291366577,
          -0.2362779676914215,
          5.638927459716797,
          3.675037384033203,
          -1.1309518814086914,
          -8.98147964477539,
          -4.044022083282471,
          4.249093055725098,
          6.218196868896484,
          7.432305335998535,
          10.510656356811523,
          -10.873544692993164,
          0.930967390537262,
          2.848814010620117,
          -7.545434474945068,
          7.808393478393555,
          3.7984659671783447,
          1.7911080121994019,
          1.8487409353256226,
          -5.443320274353027,
          12.781495094299316,
          -13.328557014465332,
          4.176490783691406,
          4.702439308166504,
          9.673171997070312,
          5.2392449378967285,
          5.093499660491943,
          1.7145241498947144,
          -4.144407749176025,
          1.6130993366241455,
          5.010997295379639,
          -10.346717834472656,
          -8.937070846557617,
          2.260378122329712,
          -0.7684884071350098,
          9.085967063903809,
          13.069877624511719,
          -4.364042282104492,
          2.44195556640625,
          3.5858216285705566,
          6.38509464263916,
          -2.592046022415161,
          -8.045626640319824,
          -12.98462963104248,
          12.532562255859375,
          -12.374238014221191,
          -0.7181795239448547,
          4.700571537017822,
          2.597109317779541,
          2.977351188659668,
          -5.751162528991699,
          -7.905444622039795,
          -13.683267593383789,
          11.824397087097168,
          1.7476918697357178,
          -6.461073875427246,
          3.723700761795044,
          1.167577862739563,
          2.2128968238830566,
          -0.9137425422668457,
          -4.824960231781006,
          12.44251823425293,
          -3.9778335094451904,
          -5.948969841003418,
          13.73030948638916,
          -8.247025489807129,
          -9.787464141845703,
          4.692687511444092,
          -3.9716899394989014,
          0.9695233106613159,
          8.026419639587402,
          -2.517914295196533,
          -0.7730860114097595,
          1.3432942628860474,
          4.098484039306641,
          5.1576313972473145,
          12.27963638305664,
          -6.876250267028809,
          4.902080535888672,
          6.921067714691162,
          -10.651666641235352,
          -7.474122047424316,
          -3.425203323364258,
          3.366663932800293,
          -11.466633796691895,
          9.646400451660156,
          -6.992519855499268,
          11.857870101928711,
          -6.5724263191223145,
          -4.770843982696533,
          0.8678489923477173,
          -9.265157699584961,
          -3.7822489738464355,
          4.331930637359619,
          9.768871307373047,
          -4.954610824584961,
          8.769046783447266,
          -9.227357864379883,
          3.101202964782715,
          -1.6199020147323608,
          -5.506575584411621,
          9.082663536071777,
          -4.086995601654053,
          -9.274599075317383,
          10.123967170715332,
          1.4794617891311646,
          -8.840433120727539,
          -2.3345985412597656,
          5.304233551025391,
          -4.6219096183776855,
          2.467074155807495,
          4.896589279174805,
          -7.570474624633789,
          8.838645935058594,
          2.4142394065856934,
          -4.351503372192383,
          1.8933086395263672,
          -4.811874866485596,
          1.8973783254623413,
          1.0015593767166138,
          -8.635790824890137,
          -5.782774448394775,
          3.255345344543457,
          7.9404706954956055,
          11.547112464904785,
          8.841620445251465,
          -7.5965423583984375,
          6.984710216522217,
          9.215876579284668,
          -8.360758781433105,
          11.912226676940918,
          -1.5472990274429321,
          -8.590682983398438,
          -4.29439115524292,
          -10.947875022888184,
          -4.086369037628174,
          3.608076810836792,
          6.275041103363037,
          -1.7100342512130737,
          -1.6010401248931885,
          -3.3531975746154785,
          4.550076007843018,
          -8.814051628112793,
          -4.315835475921631,
          3.7651853561401367,
          -4.871825695037842,
          -5.118903636932373,
          1.8386366367340088,
          4.670424461364746,
          6.842128753662109,
          -4.050537109375,
          4.16706657409668,
          -8.30821418762207,
          -6.3228020668029785,
          -10.93470573425293,
          -1.7196346521377563,
          2.236520528793335,
          8.968765258789062,
          -1.108095407485962,
          7.820572853088379,
          -0.905077338218689,
          1.5317624807357788,
          5.170638561248779,
          -11.031621932983398,
          -10.470794677734375,
          -11.678825378417969,
          7.333075046539307,
          3.129611015319824,
          2.8400824069976807,
          -14.142683982849121,
          12.717826843261719,
          -0.82852703332901,
          -5.528781890869141,
          -1.1808607578277588,
          -10.139124870300293,
          -3.6506383419036865,
          5.079746246337891,
          -6.524914264678955,
          2.165256977081299,
          2.227786064147949,
          12.985112190246582,
          -4.055409908294678,
          10.924107551574707,
          10.245498657226562,
          0.5165481567382812,
          0.11254746466875076,
          -2.7774131298065186,
          -1.6891450881958008,
          -5.099716663360596,
          2.4544758796691895,
          7.478368759155273,
          0.1107419952750206,
          -0.5886748433113098,
          -8.235344886779785,
          2.5503647327423096,
          -0.15874098241329193,
          -5.709753513336182,
          8.182144165039062,
          -3.729212999343872,
          -9.393167495727539,
          1.269551157951355,
          2.1745615005493164,
          4.393964767456055,
          -5.07632303237915,
          -7.302886962890625,
          2.2144672870635986,
          4.030587673187256,
          -3.3932840824127197,
          -7.387414455413818,
          -0.7276359796524048,
          1.868792176246643,
          0.6674590706825256,
          7.973455429077148,
          4.312558650970459,
          -12.60081672668457,
          4.99868631362915,
          -7.123026371002197,
          10.346786499023438,
          -3.554263114929199,
          1.2865182161331177,
          -11.088156700134277,
          3.8339641094207764,
          9.735421180725098,
          -10.805695533752441,
          2.778008222579956,
          3.222801923751831,
          -0.952775239944458,
          -3.9161410331726074,
          12.210495948791504,
          -6.259339332580566,
          -0.35800543427467346,
          -7.264632225036621,
          0.5066197514533997,
          -9.535970687866211,
          1.3894577026367188,
          4.30435848236084,
          -0.6365217566490173,
          -7.448182582855225,
          -3.208777666091919,
          -0.3169232904911041,
          -4.0595011711120605,
          -9.176371574401855,
          -3.7990427017211914,
          4.32832670211792,
          -14.270639419555664,
          4.668235778808594,
          4.58076286315918,
          9.390740394592285,
          -6.974226951599121,
          10.345804214477539,
          -2.9560391902923584,
          -8.189336776733398,
          6.546717643737793,
          -8.476747512817383,
          4.695743083953857,
          3.178860902786255,
          -2.409999370574951,
          3.6538074016571045,
          -6.159959316253662,
          5.192447185516357,
          -5.979706287384033,
          -1.6253548860549927,
          3.327529191970825,
          -3.5694148540496826,
          -10.562646865844727,
          1.2520464658737183,
          8.251163482666016,
          7.182552337646484,
          -0.06850839406251907,
          -0.5799269676208496,
          6.681906700134277,
          -12.700479507446289,
          -9.551090240478516,
          -5.44928503036499,
          2.740485668182373,
          -4.54684591293335,
          6.484299182891846,
          -2.818439483642578,
          4.594584941864014,
          0.8888105750083923,
          -2.261152982711792,
          -7.553984642028809,
          12.09168815612793,
          8.563859939575195,
          9.667952537536621,
          12.596352577209473,
          1.825499415397644,
          -5.3104047775268555,
          -2.0915613174438477,
          4.135308265686035,
          -9.45241641998291,
          0.021354394033551216,
          3.423081874847412,
          2.8771097660064697,
          -0.3487672209739685,
          -10.943563461303711,
          -11.146002769470215,
          6.7441511154174805,
          -0.814946711063385,
          9.999715805053711,
          1.6679290533065796,
          -1.2642501592636108,
          2.4880776405334473,
          4.179964065551758,
          4.865005970001221,
          -5.165378570556641,
          -9.261072158813477,
          -5.771096229553223,
          -1.8204952478408813,
          -10.294108390808105,
          11.303519248962402,
          -7.154535293579102,
          0.8961600661277771,
          -10.838663101196289,
          2.174168348312378,
          8.962574005126953,
          3.8200104236602783,
          4.979044437408447,
          -13.757817268371582,
          5.475374221801758,
          -10.257969856262207,
          12.484476089477539,
          4.841370582580566,
          -4.803493976593018,
          6.335663318634033,
          3.379166841506958,
          9.431766510009766,
          4.443985939025879,
          7.181021213531494,
          4.216844081878662,
          -5.1888933181762695,
          -8.111551284790039,
          5.808630466461182,
          -4.669392108917236,
          -4.923745155334473,
          -6.014581680297852,
          3.340196132659912,
          11.966161727905273,
          -9.958368301391602,
          2.4197981357574463,
          -9.240428924560547,
          2.526043176651001,
          14.968655586242676,
          3.612942934036255,
          -10.554645538330078,
          3.5182504653930664,
          4.572995662689209,
          -0.5324336290359497,
          1.3374475240707397,
          0.46764859557151794,
          -2.088380813598633,
          4.65321683883667,
          1.3502506017684937,
          9.825058937072754,
          10.63280963897705,
          4.523138999938965,
          -1.708295464515686,
          10.589038848876953,
          12.652514457702637,
          2.6399765014648438,
          -4.415631294250488,
          -6.63835334777832,
          -13.104915618896484,
          7.1666059494018555,
          5.822300910949707,
          4.177276134490967,
          -0.9888147711753845,
          -7.4631452560424805,
          1.4439139366149902,
          -3.8614654541015625,
          -0.7201257944107056,
          10.445206642150879,
          1.0337111949920654,
          -4.98237943649292,
          1.2373270988464355,
          -9.95931339263916,
          -8.532958030700684,
          -4.182785511016846,
          2.8394665718078613,
          6.490243434906006,
          5.940460681915283,
          3.406465768814087,
          7.813889026641846,
          -2.449619770050049,
          4.160066604614258,
          -4.856579780578613,
          6.514780044555664,
          -6.138804912567139,
          -0.12188360840082169,
          -0.0032642409205436707,
          -5.095633029937744,
          -0.349705308675766,
          -4.399569511413574,
          -0.7754083275794983,
          1.4135454893112183,
          2.86515736579895,
          4.323586463928223,
          -1.4523208141326904,
          6.608267784118652,
          -1.3343782424926758,
          -8.480401992797852,
          -1.4095698595046997,
          12.88238525390625,
          8.408799171447754,
          4.157700538635254,
          1.6334795951843262,
          -9.142502784729004,
          -8.367422103881836,
          -0.43313130736351013,
          -2.939826011657715,
          -5.552103519439697,
          8.579480171203613,
          -0.6056715846061707,
          -4.719808101654053,
          0.9029291272163391,
          -3.614938735961914,
          -9.671222686767578,
          9.453009605407715,
          2.2434182167053223,
          -8.98635196685791,
          -12.604978561401367,
          2.382185459136963,
          2.897946834564209,
          -10.05280876159668,
          10.359357833862305,
          -14.534384727478027,
          4.501776695251465,
          1.6699388027191162,
          2.420322895050049,
          -3.9113709926605225,
          1.348065733909607,
          -0.6502421498298645,
          3.648759126663208,
          8.62309741973877,
          -0.30098655819892883,
          -9.713236808776855,
          -8.068666458129883,
          6.597611427307129,
          -12.408204078674316,
          -11.008613586425781,
          0.07626055926084518,
          -10.738393783569336,
          -8.28775405883789,
          1.9172840118408203,
          7.511732578277588,
          -4.171444892883301,
          6.517489910125732,
          -5.700749397277832,
          7.7270002365112305,
          1.4181203842163086,
          2.374457359313965,
          -9.372881889343262,
          -3.462219715118408,
          -0.6275339722633362,
          6.433354377746582,
          -5.156679153442383,
          5.395925998687744,
          -3.5347800254821777,
          -6.20150899887085,
          -13.746131896972656,
          -4.805724143981934,
          12.825511932373047,
          8.362616539001465,
          -0.9521621465682983,
          -4.408150672912598,
          -8.073570251464844,
          12.110112190246582,
          -0.10628555715084076,
          -8.257072448730469,
          -2.2073445320129395,
          -3.3352675437927246,
          2.7328500747680664,
          -2.9314897060394287,
          -2.5731983184814453,
          5.3209123611450195,
          8.363387107849121,
          4.054880142211914,
          7.224402904510498,
          6.555298805236816,
          4.130463600158691,
          13.569416046142578,
          1.598607063293457,
          7.07048225402832,
          -3.695549964904785,
          1.3862650394439697,
          1.3768420219421387,
          -3.6403706073760986,
          2.1767489910125732,
          10.796833038330078,
          7.403017044067383,
          10.593803405761719,
          -4.926549434661865,
          2.308990240097046,
          6.447222709655762,
          -2.416217088699341,
          6.743041515350342,
          11.758553504943848,
          -0.8810819983482361,
          -10.208993911743164,
          -8.758912086486816,
          2.821579694747925,
          -10.652131080627441,
          5.132269859313965,
          0.148207426071167,
          11.441505432128906,
          9.033799171447754,
          0.35213232040405273,
          2.5383412837982178,
          -13.015625953674316,
          6.55687952041626,
          -0.6859660744667053,
          -0.7932412028312683,
          0.7425643801689148,
          -6.5396952629089355,
          5.640222072601318,
          1.9743242263793945,
          2.3287339210510254,
          3.332721471786499,
          -9.910356521606445,
          5.092013835906982,
          0.12121063470840454,
          7.427602767944336,
          13.072941780090332,
          2.055330276489258,
          6.13238525390625,
          6.310248374938965,
          5.727787017822266,
          2.5514636039733887,
          -9.104528427124023,
          8.512246131896973,
          -11.086281776428223,
          1.7415040731430054,
          -5.202044486999512,
          1.5993376970291138,
          2.709028720855713,
          2.70867919921875,
          -6.912137508392334,
          1.71682608127594,
          -0.16668415069580078,
          6.573980331420898,
          -3.5987260341644287,
          3.7190418243408203,
          -8.534828186035156,
          2.0970208644866943,
          3.6417555809020996,
          -10.157668113708496,
          3.046724557876587,
          7.226129055023193,
          6.47202730178833,
          13.67276382446289,
          6.503511905670166,
          3.1354849338531494,
          -4.746496200561523,
          0.5126131176948547,
          8.204425811767578,
          3.448042631149292,
          6.693265914916992,
          -0.9534453749656677,
          -14.263284683227539,
          -8.752751350402832,
          3.3816540241241455,
          3.2564539909362793,
          3.936943769454956,
          5.118413925170898,
          -10.719474792480469,
          -1.7180917263031006,
          11.96798038482666,
          0.8645330667495728,
          3.8204312324523926,
          6.296722412109375,
          1.1568886041641235,
          -6.574606895446777,
          -9.346549034118652,
          0.5171539783477783,
          -2.6678402423858643,
          -7.2617387771606445,
          1.893512487411499,
          9.503043174743652,
          7.82741117477417,
          10.361661911010742,
          -6.04806661605835,
          -6.902729034423828,
          2.581043004989624,
          2.1651506423950195,
          -3.103672742843628,
          -1.6720386743545532,
          -3.5021631717681885,
          -2.3131792545318604,
          0.6635451912879944,
          -9.871798515319824,
          -14.091588973999023,
          -4.01696252822876,
          -5.066168308258057,
          5.242640495300293,
          3.2769250869750977,
          -10.450754165649414,
          -1.069959282875061,
          -2.5562052726745605,
          -3.604151964187622,
          6.73328161239624,
          -12.543167114257812,
          -13.006113052368164,
          13.216109275817871,
          -1.877261996269226,
          1.1293737888336182,
          1.2995628118515015,
          -9.316129684448242,
          -2.2080469131469727,
          -0.44629526138305664,
          0.5782122015953064,
          -2.120037317276001,
          -5.806847095489502,
          -0.4610205292701721,
          -5.571411609649658,
          -5.2525529861450195,
          2.3370492458343506,
          4.3416337966918945,
          1.8411433696746826,
          -4.5332560539245605,
          -9.455025672912598,
          -10.6810302734375,
          -5.009920597076416,
          7.911618709564209,
          4.3837080001831055,
          4.084295749664307,
          12.322822570800781,
          3.979313611984253,
          -4.364040374755859,
          -4.015053749084473,
          6.752397060394287,
          5.713590621948242,
          -1.4329220056533813,
          -0.8634231686592102,
          -2.425544500350952,
          -6.456070423126221,
          -4.79656457901001,
          0.493242084980011,
          -9.52795124053955,
          5.854427337646484,
          9.90101432800293,
          3.4724819660186768,
          -8.196002006530762,
          1.4646495580673218,
          -1.1338303089141846,
          3.116969347000122,
          -7.694298267364502,
          -4.8545823097229,
          -0.5580769777297974,
          -6.068985462188721,
          11.911526679992676,
          -13.940166473388672,
          -8.830448150634766,
          0.9097152352333069,
          -9.189863204956055,
          -0.9536815285682678,
          9.519936561584473,
          4.400177478790283,
          5.720552921295166,
          -5.099038124084473,
          6.149243354797363,
          -1.628754734992981,
          0.7242623567581177,
          -4.714160919189453,
          3.4642105102539062,
          1.2350214719772339,
          4.576674938201904,
          1.1241514682769775,
          1.4247223138809204,
          -2.799588918685913,
          6.257352828979492,
          1.3824321031570435,
          4.548478603363037,
          4.094649791717529,
          -0.3637128472328186,
          -2.479665994644165,
          5.910187244415283,
          -3.9542171955108643,
          -3.666391372680664,
          -6.798833847045898,
          -5.483244895935059,
          0.22957003116607666,
          13.389810562133789,
          -4.581042289733887,
          4.5853753089904785,
          -4.073825359344482,
          5.366125106811523,
          -8.358406066894531,
          4.140276908874512,
          5.162428855895996,
          -1.9764622449874878,
          -7.757344722747803,
          5.6521100997924805,
          -7.259853839874268,
          -0.5878261923789978,
          -3.685316801071167,
          -4.850895881652832,
          -11.806095123291016,
          -0.5139039158821106,
          -10.567516326904297,
          -4.108334541320801,
          2.4071075916290283,
          -0.011079696007072926,
          4.4438581466674805,
          -11.013845443725586,
          -0.530503511428833,
          11.20834732055664,
          -10.82591438293457,
          -4.841819763183594,
          -10.219554901123047,
          -7.839596748352051,
          3.378709077835083,
          -7.949339866638184,
          2.5999813079833984,
          2.684696912765503,
          4.436617374420166,
          -11.547411918640137,
          2.3791632652282715,
          2.764979362487793,
          -9.277503967285156,
          -6.305070400238037,
          -7.510879039764404,
          4.082062244415283,
          -1.5877832174301147,
          6.475482940673828,
          1.2218714952468872,
          -9.027637481689453,
          -4.152814865112305,
          -5.950694561004639,
          10.581475257873535,
          -3.9145960807800293,
          1.7784574031829834,
          0.938258707523346,
          2.5307910442352295,
          2.3165931701660156,
          8.28746509552002,
          11.64330768585205,
          -0.844756007194519,
          -10.401653289794922,
          -10.430838584899902,
          7.231677055358887,
          -4.453157901763916,
          -6.08184289932251,
          12.329018592834473,
          8.671868324279785,
          -1.9945183992385864,
          4.0979743003845215,
          3.09102201461792,
          3.717801809310913,
          2.1860196590423584,
          -4.239486217498779,
          -8.785266876220703,
          -11.59023666381836,
          -1.156156301498413,
          4.442825794219971,
          -3.258150100708008,
          6.252246856689453,
          1.3290016651153564,
          -0.8613710999488831,
          7.297651290893555,
          -8.232288360595703,
          -3.691481113433838,
          -7.157989025115967,
          -8.607772827148438,
          -4.036869525909424,
          -10.18532657623291,
          -9.360772132873535,
          10.802173614501953,
          4.438331604003906,
          3.1439216136932373,
          -2.4339826107025146,
          2.4929916858673096,
          -5.585937023162842,
          1.2336294651031494,
          2.3594775199890137,
          -2.3583669662475586,
          -5.867783546447754,
          -8.138370513916016,
          6.1782379150390625,
          1.9122737646102905,
          7.147895336151123,
          0.14086425304412842,
          -7.917194366455078,
          -0.32706373929977417,
          -0.4086715281009674,
          -0.7300264835357666,
          5.787322998046875,
          3.2326242923736572,
          -5.252654075622559,
          13.376133918762207,
          -3.314122438430786,
          -8.894513130187988,
          10.109869956970215,
          -8.450178146362305,
          -7.937752723693848,
          2.3627467155456543,
          -6.229961395263672,
          -4.264326095581055,
          -10.271844863891602,
          -12.274892807006836,
          0.9410226941108704,
          -5.674013614654541,
          12.885127067565918,
          1.2463585138320923,
          5.141724586486816,
          4.581693172454834,
          -6.238049030303955,
          -7.4723591804504395,
          -2.9201178550720215,
          7.203212261199951,
          2.717280149459839,
          -8.301567077636719,
          -1.7673265933990479,
          4.727719306945801,
          12.56154727935791,
          7.540923118591309,
          0.9579113721847534,
          -0.28213948011398315,
          11.25771427154541,
          9.328332901000977,
          2.658405303955078,
          7.9844560623168945,
          -13.753640174865723,
          2.2732908725738525,
          6.2704339027404785,
          6.9644880294799805,
          -10.673114776611328,
          -10.092449188232422,
          -14.489205360412598,
          -8.221365928649902,
          -3.8114471435546875,
          7.941315174102783,
          -9.514630317687988,
          6.111351490020752,
          7.801304817199707,
          0.5935560464859009,
          1.074113130569458,
          0.9080369472503662,
          -6.570928573608398,
          -2.8239588737487793,
          -11.222127914428711,
          -7.300387859344482,
          -11.666866302490234,
          6.96802282333374,
          7.463371753692627,
          -4.1786699295043945,
          -0.8560507297515869,
          2.332801103591919,
          -5.040182590484619,
          -4.4821929931640625,
          3.42105770111084,
          -5.720176696777344,
          -5.283361911773682,
          1.745580792427063,
          -3.2216293811798096,
          7.50598669052124,
          6.598042964935303,
          0.08328603208065033,
          0.9555478096008301,
          4.134770393371582,
          2.4205336570739746,
          4.505922794342041,
          -5.553285598754883,
          -1.1884404420852661,
          1.956684947013855,
          -11.008363723754883,
          6.087495803833008,
          6.0358991622924805,
          -12.885918617248535,
          9.668216705322266,
          -3.169477939605713,
          6.284848690032959,
          1.5035297870635986,
          1.5237197875976562,
          12.31888198852539,
          8.448651313781738,
          -10.84138011932373,
          8.583832740783691,
          -3.4259912967681885,
          0.7783511877059937,
          -0.8685429692268372,
          -4.845986843109131,
          -9.392129898071289,
          -0.9941885471343994,
          -7.835328578948975,
          -0.9572834372520447,
          12.198110580444336,
          6.0871758460998535,
          12.294468879699707,
          3.152928113937378,
          -0.6419705152511597,
          4.520936965942383,
          -7.8958740234375,
          -10.714874267578125,
          1.9996957778930664,
          -0.02597757801413536,
          6.6308746337890625,
          -4.140964031219482,
          -0.6512613892555237,
          -3.0684330463409424,
          3.2240943908691406,
          9.882530212402344,
          4.843703746795654,
          -1.683667778968811,
          -0.6744717955589294,
          2.6169283390045166,
          -4.164766788482666,
          -3.9536099433898926,
          8.634173393249512,
          -2.3623907566070557,
          -4.247525691986084,
          2.907221555709839,
          -10.225041389465332,
          -0.8377540111541748,
          -8.650247573852539,
          5.191314697265625,
          8.942647933959961,
          -3.1191890239715576,
          -10.01888656616211,
          -7.7768168449401855,
          13.292776107788086,
          -10.551892280578613,
          -3.486086845397949,
          -9.796087265014648,
          -12.794955253601074,
          -6.113534927368164,
          10.670280456542969,
          9.141053199768066,
          -1.9831422567367554,
          -12.268172264099121,
          0.8578692674636841,
          -1.5232172012329102,
          -4.07664155960083,
          6.567770481109619,
          10.171178817749023,
          -9.246622085571289,
          1.1698886156082153,
          6.0457763671875,
          -1.483254313468933,
          -3.034132480621338,
          12.357244491577148,
          7.345828533172607,
          -3.285801410675049,
          -9.1487398147583,
          6.641420841217041,
          4.550785064697266,
          -10.699156761169434,
          6.863035678863525,
          -5.136835098266602,
          -6.538219928741455,
          -4.070356369018555,
          9.047895431518555,
          -0.5276665091514587,
          -9.547359466552734,
          0.36938315629959106,
          -10.503926277160645,
          2.4913837909698486,
          -2.6634836196899414,
          5.699206829071045,
          0.7843942642211914,
          -9.530584335327148,
          2.2933003902435303,
          1.5827925205230713,
          -4.215176105499268,
          -6.20593786239624,
          -10.280747413635254,
          -0.47651103138923645,
          10.44946002960205,
          -3.6856677532196045,
          1.558689832687378,
          -2.097156286239624,
          11.090971946716309,
          -4.692461013793945,
          -1.5050017833709717,
          7.488948822021484,
          -13.375676155090332,
          -11.465620040893555,
          -1.6513543128967285,
          -3.6488263607025146,
          1.1448639631271362,
          -12.612826347351074,
          -4.336552143096924,
          1.6278623342514038,
          -6.2973737716674805,
          -4.728911876678467,
          5.203578472137451,
          7.130263328552246,
          -14.246872901916504,
          -2.966952323913574,
          -6.288815021514893,
          2.2763702869415283,
          4.924463748931885,
          12.617758750915527,
          6.202605247497559,
          11.14664077758789,
          -12.537602424621582,
          -7.2420220375061035,
          4.3547539710998535,
          -9.0716552734375,
          -1.44781494140625,
          4.0822577476501465,
          0.9014229774475098,
          2.3307297229766846,
          -9.136603355407715,
          -5.7297587394714355,
          4.894039154052734,
          3.700310230255127,
          -10.517998695373535,
          -3.6235179901123047,
          4.573324203491211,
          0.4972587525844574,
          5.3905348777771,
          -5.276580333709717,
          3.5102696418762207,
          -11.07273006439209,
          3.9117777347564697,
          -13.369139671325684,
          2.922778606414795,
          -3.4078962802886963,
          0.7106029391288757,
          -10.961817741394043,
          -3.2506425380706787,
          1.600672960281372,
          -0.38527706265449524,
          6.128146648406982,
          -8.699978828430176,
          1.4892936944961548,
          5.777749061584473,
          -12.961644172668457,
          2.5489375591278076,
          2.5345563888549805,
          4.3705267906188965,
          2.3365797996520996,
          -6.416957378387451,
          -1.147059679031372,
          -8.335617065429688,
          8.05307674407959,
          10.344277381896973,
          12.889742851257324,
          8.104650497436523,
          4.079013824462891,
          -9.159192085266113,
          0.7902891039848328,
          4.161073207855225,
          4.299190044403076,
          6.097391128540039,
          -8.894939422607422,
          10.520686149597168,
          -11.303695678710938,
          -8.112635612487793,
          12.630022048950195,
          -1.5648874044418335,
          -3.2061707973480225,
          2.590886116027832,
          0.9409907460212708,
          -0.9210371375083923,
          2.640111207962036,
          -10.455427169799805,
          -4.345377445220947,
          1.5741831064224243,
          -11.95248794555664,
          -8.40514850616455,
          11.730596542358398,
          0.11293742805719376,
          7.399234294891357,
          3.6247129440307617,
          -3.2254879474639893,
          -1.5214309692382812,
          0.009391099214553833,
          9.984495162963867,
          -7.258760929107666,
          0.3823557198047638,
          -1.3417458534240723,
          -0.7801381945610046,
          9.543259620666504,
          -0.5655523538589478,
          -4.980295658111572,
          1.6363264322280884,
          -10.289911270141602,
          1.4921709299087524,
          10.504780769348145,
          11.322929382324219,
          5.047826766967773,
          15.24478816986084,
          -4.06178092956543,
          -3.0806381702423096,
          2.8517072200775146,
          2.730731725692749,
          8.985128402709961,
          7.091609477996826,
          -8.1473388671875,
          -10.559185028076172,
          7.3932905197143555,
          9.170528411865234,
          -4.776216506958008,
          -8.094217300415039,
          8.6357421875,
          -8.35296630859375,
          3.546159267425537,
          1.054531216621399,
          3.9935007095336914,
          -6.498524188995361,
          -6.226809024810791,
          -9.493569374084473,
          -11.345244407653809,
          -2.7505745887756348,
          -11.855916023254395,
          -8.938187599182129,
          11.21078872680664,
          7.945472717285156,
          -8.600624084472656,
          2.517266273498535,
          6.002541542053223,
          -12.294246673583984,
          -3.472429037094116,
          5.183413982391357,
          -13.118829727172852,
          13.387336730957031,
          -1.761536717414856,
          -3.458024263381958,
          -1.6697548627853394,
          -12.24560546875,
          6.8873209953308105,
          5.55882453918457,
          2.9166324138641357,
          0.3696734607219696,
          1.312637209892273,
          -1.7974876165390015,
          -0.7003148794174194,
          -9.7138032913208,
          -4.858482837677002,
          -6.046382427215576,
          10.114900588989258,
          4.178440093994141,
          5.012445449829102,
          10.50125503540039,
          8.988151550292969,
          11.175654411315918,
          -4.669532299041748,
          6.305396556854248,
          11.542149543762207,
          4.895589351654053,
          2.7663323879241943,
          -5.696492671966553,
          -13.330446243286133,
          -7.804056644439697,
          8.481389045715332,
          4.3442301750183105,
          2.7391247749328613,
          9.468663215637207,
          -12.248747825622559,
          -13.367488861083984,
          -4.655579566955566,
          12.629304885864258,
          6.628551006317139,
          2.4647772312164307,
          4.923564910888672,
          9.257089614868164,
          5.033088684082031,
          -4.231245040893555,
          4.935009956359863,
          -8.122993469238281,
          0.5101526379585266,
          5.121744155883789,
          12.855070114135742,
          -9.523221969604492,
          -2.320221424102783,
          -2.588650703430176,
          0.9336249232292175,
          6.8834733963012695,
          -4.133688449859619,
          8.739275932312012,
          2.717705488204956,
          4.416884422302246,
          9.429862022399902,
          -0.7904039621353149,
          -7.3478617668151855,
          -4.835608005523682,
          2.0916335582733154,
          -1.2959365844726562,
          -0.9022162556648254,
          4.595751762390137,
          -2.534860134124756,
          -10.698104858398438,
          4.9186506271362305,
          2.520998239517212,
          5.448797225952148,
          -10.534825325012207,
          -4.733939170837402,
          3.912665843963623,
          3.919430732727051,
          -4.445809364318848,
          -2.8084027767181396,
          -10.506153106689453,
          -0.5179999470710754,
          4.008517742156982,
          -10.929484367370605,
          6.343990802764893,
          6.085867404937744,
          -1.818564534187317,
          -8.708464622497559,
          4.837447643280029,
          -4.806995391845703,
          4.186888694763184,
          1.058091402053833,
          6.1111297607421875,
          10.291627883911133,
          -0.6435199975967407,
          -11.54250431060791,
          0.054716844111680984,
          -4.565553665161133,
          -0.5036434531211853,
          2.8918631076812744,
          -0.7368025183677673,
          -8.990026473999023,
          -2.52388596534729,
          -10.81148910522461,
          8.243127822875977,
          -0.42325711250305176,
          6.007355213165283,
          -1.072485089302063,
          -0.7331861853599548,
          -10.640645027160645,
          9.354937553405762,
          1.5516862869262695,
          0.9881119728088379,
          9.539691925048828,
          1.112141489982605,
          -11.9507417678833,
          -3.4138877391815186,
          -3.871614694595337,
          3.8620057106018066,
          4.977153301239014,
          11.382170677185059,
          7.363413333892822,
          2.0950639247894287,
          -12.500694274902344,
          -8.466469764709473,
          -7.9975786209106445,
          -7.300244331359863,
          12.659403800964355,
          -0.8775646686553955,
          -9.092903137207031,
          6.545866966247559,
          -12.731082916259766,
          -5.609625816345215,
          7.539616584777832,
          6.023397922515869,
          1.2241272926330566,
          -2.796330451965332,
          -2.5091960430145264,
          -3.5597951412200928,
          2.1363842487335205,
          -5.518277645111084,
          -9.091772079467773,
          9.033693313598633,
          12.095568656921387,
          2.0898470878601074,
          2.372450828552246,
          -1.2589659690856934,
          4.238050937652588,
          4.873330116271973,
          1.9859323501586914,
          -10.083547592163086,
          -0.7832977175712585,
          -6.243680000305176,
          9.03363037109375,
          -5.261866569519043,
          -3.2348718643188477,
          -7.662710666656494,
          3.386627674102783,
          4.53895378112793,
          5.806554794311523,
          1.4455405473709106,
          -7.750558853149414,
          3.7291207313537598,
          7.146387577056885,
          -7.299310207366943,
          4.913237571716309,
          -2.511162519454956,
          -11.704110145568848,
          4.51676607131958,
          2.8007607460021973,
          3.6879444122314453,
          -3.201873302459717,
          -1.2232728004455566,
          -5.637433052062988,
          -8.411880493164062,
          2.098992347717285,
          -4.271719455718994,
          -4.72135591506958,
          8.675629615783691,
          -2.3504891395568848,
          -11.569733619689941,
          4.44918155670166,
          3.4212820529937744,
          2.0948739051818848,
          -7.054584980010986,
          8.47238540649414,
          2.2679924964904785,
          0.4838133752346039,
          8.04370403289795,
          5.148740291595459,
          3.8171377182006836,
          -2.552191972732544,
          0.8620889186859131,
          9.78476619720459,
          2.621626615524292,
          -1.227087140083313,
          -6.610616683959961,
          -6.541692733764648,
          -3.0189883708953857,
          5.077471733093262,
          0.9330334663391113,
          5.549594879150391,
          -5.927789211273193,
          5.937512397766113,
          -11.987223625183105,
          -5.506869792938232,
          7.070091247558594,
          -7.980015754699707,
          3.550274610519409,
          1.6898765563964844,
          -1.2735724449157715,
          2.5831515789031982,
          -10.35348129272461,
          9.02596378326416,
          -11.31260871887207,
          8.082565307617188,
          11.948553085327148,
          12.502504348754883,
          4.9431023597717285,
          7.895592212677002,
          4.518754959106445,
          -7.694463729858398,
          4.920982360839844,
          -8.15620231628418,
          3.760676383972168,
          5.046932220458984,
          2.166154146194458,
          4.594699859619141,
          -12.800728797912598,
          7.451443195343018,
          12.353946685791016,
          12.482084274291992,
          -3.101992130279541,
          -12.864994049072266,
          4.344244003295898,
          -2.293539047241211,
          8.83939266204834,
          -5.443137168884277,
          -6.4698896408081055,
          -10.407966613769531,
          -13.82219123840332,
          6.734830379486084,
          10.268407821655273,
          -0.5586668848991394,
          -0.030728191137313843,
          3.915499210357666,
          -4.721676826477051,
          12.790050506591797,
          12.419283866882324,
          -0.8985344767570496,
          -6.440860271453857,
          -3.537749767303467,
          -11.973976135253906,
          -7.879741191864014,
          -3.9886157512664795,
          -1.7223942279815674,
          1.3498411178588867,
          -4.420042037963867,
          2.198913812637329,
          3.304494619369507,
          12.017727851867676,
          7.297882080078125,
          -2.874392032623291,
          6.291890621185303,
          3.259643793106079,
          -2.130181074142456,
          -0.8657187819480896,
          2.0235235691070557,
          -13.50483226776123,
          -8.08007526397705,
          3.6544082164764404,
          3.718264579772949,
          -2.659905433654785,
          -0.08284511417150497,
          12.681046485900879,
          3.9622979164123535,
          3.942058563232422,
          8.420256614685059,
          -4.88831090927124,
          -9.766172409057617,
          -0.5311488509178162,
          -0.9835405945777893,
          3.055712938308716,
          8.882004737854004,
          -0.7906186580657959,
          4.907139301300049,
          4.930808067321777,
          10.277472496032715,
          4.0046539306640625,
          -11.310098648071289,
          -1.393276333808899,
          6.149242401123047,
          2.8952279090881348,
          1.3104126453399658,
          -5.688991069793701,
          -6.222227096557617,
          -2.522472381591797,
          -0.6054649949073792,
          -6.737338542938232,
          6.915666580200195,
          -1.9812910556793213,
          9.512179374694824,
          -9.718058586120605,
          -0.6510917544364929,
          -12.45678997039795,
          4.565024375915527,
          -10.356548309326172,
          9.456341743469238,
          3.363466262817383,
          -12.438936233520508,
          2.1880738735198975,
          12.489415168762207,
          -2.5807127952575684,
          8.584460258483887,
          7.583593368530273,
          1.1998929977416992,
          -9.602025985717773,
          -5.599234104156494,
          -5.914147853851318,
          -5.240407943725586,
          11.495429992675781,
          -6.01980447769165,
          2.824347734451294,
          2.829439163208008,
          9.80142879486084,
          -7.853329658508301,
          -2.3646187782287598,
          -3.852410316467285,
          10.437540054321289,
          5.698315620422363,
          -10.758050918579102,
          -8.75367546081543,
          -9.276238441467285,
          -10.833887100219727,
          -5.3147430419921875,
          0.8822457790374756,
          -10.493090629577637,
          9.912914276123047,
          2.0333633422851562,
          -5.521744728088379,
          -1.768290400505066,
          -11.571606636047363,
          3.9759480953216553,
          -13.127983093261719,
          -4.325933933258057,
          -8.795503616333008,
          -8.711935043334961,
          12.533817291259766,
          11.6334810256958,
          1.8600807189941406,
          -2.4109561443328857,
          1.5942178964614868,
          2.6414794921875,
          -5.00591516494751,
          1.1202671527862549,
          -6.063139915466309,
          13.034584045410156,
          -4.1211838722229,
          -1.0829395055770874,
          2.680781364440918,
          -6.653619766235352,
          2.231292486190796,
          -5.887905597686768,
          -6.64294958114624,
          -11.452004432678223,
          9.728605270385742,
          2.470036506652832,
          0.11972332745790482,
          4.473178386688232,
          -1.9495114088058472,
          -11.348037719726562,
          -1.965819001197815,
          -10.835125923156738,
          -5.462298393249512,
          2.7104666233062744,
          3.760228395462036,
          -0.5881769061088562,
          -4.109033584594727,
          4.233490943908691,
          -0.8242825865745544,
          1.6358269453048706,
          13.220412254333496,
          8.352036476135254,
          -11.274140357971191,
          4.339303016662598,
          -9.065443992614746,
          1.8002551794052124,
          -9.838539123535156,
          -11.47646427154541,
          -0.6606795191764832,
          1.9928932189941406,
          4.291934013366699,
          12.950191497802734,
          -4.399186134338379,
          4.019526958465576,
          -8.058905601501465,
          2.5196220874786377,
          12.530699729919434,
          5.8624043464660645,
          9.66403865814209,
          11.908591270446777,
          7.980027198791504,
          4.401309490203857,
          5.26151180267334,
          4.866204261779785,
          -1.2721054553985596,
          -10.481918334960938,
          -7.288489818572998,
          -8.558473587036133,
          -6.153811454772949,
          -4.822957515716553,
          -11.631989479064941,
          5.725094318389893,
          8.67271614074707,
          8.24264907836914,
          7.861808776855469,
          -5.831634044647217,
          7.435234069824219,
          5.013980388641357,
          -4.527588844299316,
          -5.02143669128418,
          -5.133998870849609,
          7.086909294128418,
          -11.094167709350586,
          4.126361846923828,
          -0.38434526324272156,
          0.40497148036956787,
          1.0702149868011475,
          4.894985198974609,
          -13.46555233001709,
          -7.921289443969727,
          9.30821418762207,
          -4.203099727630615,
          -5.601933479309082,
          -10.932122230529785,
          -9.686293601989746,
          -0.6209158301353455,
          0.39899304509162903,
          -11.340333938598633,
          -3.6419222354888916,
          5.8389201164245605,
          -4.2571916580200195,
          3.079420566558838,
          -6.416341781616211,
          3.447138786315918,
          4.121678352355957,
          -0.7534522414207458,
          2.277405261993408,
          10.639869689941406,
          3.862391233444214,
          8.4397554397583,
          5.848696708679199,
          1.0914585590362549,
          4.0139665603637695,
          2.365983247756958,
          4.570141315460205,
          10.745027542114258,
          -0.8733291625976562,
          1.4258521795272827,
          -0.9678469896316528,
          -5.61177396774292,
          -10.296504020690918,
          0.9585604667663574,
          -8.2029447555542,
          -5.497011184692383,
          -2.0300710201263428,
          -7.065528392791748,
          1.4426616430282593,
          2.1196353435516357,
          1.9266499280929565,
          -4.277100563049316,
          -9.132795333862305,
          -2.600731134414673,
          -3.000640869140625,
          -2.6347270011901855,
          14.044629096984863,
          -5.822515487670898,
          5.4247517585754395,
          1.2382614612579346,
          -6.497865676879883,
          5.081209182739258,
          -0.24952921271324158,
          3.098573923110962,
          -4.210235595703125,
          5.499114990234375,
          -9.42278003692627,
          3.999598979949951,
          -9.885665893554688,
          2.1582534313201904,
          -0.4131773114204407,
          -0.7160331010818481,
          -1.5724749565124512,
          13.001847267150879,
          8.270127296447754,
          -13.247591018676758,
          5.458900451660156,
          -5.431182861328125,
          7.546550273895264,
          -2.827974796295166,
          -7.9107747077941895,
          1.392585277557373,
          3.069338321685791,
          -1.808529257774353,
          -6.544346809387207,
          3.7059593200683594,
          -3.441713333129883,
          3.238893747329712,
          8.702099800109863,
          -4.807356357574463,
          5.991339683532715,
          -4.54742956161499,
          -8.454219818115234,
          11.79690933227539,
          -8.342552185058594,
          -3.1915123462677,
          -11.163806915283203,
          -11.678525924682617,
          -13.2274751663208,
          4.511890411376953,
          5.035467624664307,
          1.071566104888916,
          -8.106362342834473,
          -9.486483573913574,
          -4.5572614669799805,
          -2.48136568069458,
          -3.0990653038024902,
          -13.027814865112305,
          4.2871551513671875,
          0.7023534178733826,
          -12.40130615234375,
          -5.039889335632324,
          -8.342267990112305,
          9.444316864013672,
          -11.914247512817383,
          1.324895977973938,
          1.6116691827774048,
          6.259396076202393,
          -6.527219772338867,
          4.769736289978027,
          12.605528831481934,
          3.132139205932617,
          3.8021533489227295,
          3.430677890777588,
          0.8314253687858582,
          -2.273085117340088,
          9.467805862426758,
          -3.863551616668701,
          -8.658970832824707,
          -0.5130196213722229,
          3.2496800422668457,
          11.599529266357422,
          3.0712437629699707,
          -11.274367332458496,
          9.536520957946777,
          -11.161754608154297,
          3.903677225112915,
          12.121618270874023,
          -10.62187671661377,
          -7.382434844970703,
          -13.174534797668457,
          4.929917335510254,
          2.513190746307373,
          2.1051247119903564,
          -12.61561393737793,
          4.583107948303223,
          7.3004469871521,
          3.5011606216430664,
          -13.312348365783691,
          13.035730361938477,
          2.0870182514190674,
          3.4754467010498047,
          1.0003712177276611,
          0.2253289520740509,
          4.8591718673706055,
          -10.804484367370605,
          -8.123618125915527,
          -4.8298420906066895,
          -13.384530067443848,
          9.051886558532715,
          1.4260352849960327,
          9.186300277709961,
          13.741451263427734,
          -1.4258532524108887,
          -8.671010971069336,
          2.7867703437805176,
          8.420660972595215,
          13.438288688659668,
          0.7619834542274475,
          -8.736233711242676,
          3.3183774948120117,
          -12.832170486450195,
          6.873867511749268,
          -10.945382118225098,
          12.620360374450684,
          8.026530265808105,
          1.8592710494995117,
          -8.947089195251465,
          0.8606420755386353,
          4.035844326019287,
          -0.01350175030529499,
          -2.3258936405181885,
          11.915826797485352,
          2.639859914779663,
          -12.880043029785156,
          -8.0681734085083,
          10.288786888122559,
          0.34550905227661133,
          9.461630821228027,
          3.7855165004730225,
          3.1576952934265137,
          2.160658597946167,
          5.007710933685303,
          11.308854103088379,
          2.5177743434906006,
          5.109646797180176,
          -2.705582618713379,
          -8.931465148925781,
          2.485568046569824,
          1.2481732368469238,
          0.5411083698272705,
          -3.709091901779175,
          -11.137520790100098,
          8.729734420776367,
          12.638236045837402,
          -3.657726526260376,
          11.661169052124023,
          0.23118412494659424,
          10.103107452392578,
          -7.859653949737549,
          -1.792914628982544,
          4.221589088439941,
          2.7726964950561523,
          1.4972028732299805,
          -7.583493232727051,
          -0.4767844080924988,
          -9.180880546569824,
          -3.486618757247925,
          2.3848724365234375,
          -0.853544294834137,
          -5.115773677825928,
          -3.0024445056915283,
          8.510746002197266,
          7.578649044036865,
          5.649783134460449,
          13.719866752624512,
          -9.867210388183594,
          -6.059439182281494,
          3.0836265087127686,
          -3.3716354370117188,
          0.7314542531967163,
          -10.25151538848877,
          -4.5734782218933105,
          -7.279940128326416,
          -6.339477062225342,
          1.708510398864746,
          6.184454917907715,
          -0.3867115080356598,
          8.450343132019043,
          -2.0611798763275146,
          -13.579631805419922,
          10.300206184387207,
          -6.3510870933532715,
          -0.7079224586486816,
          0.5045874118804932,
          -1.1520887613296509,
          -0.5756095051765442,
          9.609281539916992,
          13.688970565795898,
          10.990167617797852,
          2.4279708862304688,
          -14.339624404907227,
          1.0597535371780396,
          6.746981620788574,
          3.2602086067199707,
          -6.479563236236572,
          -12.748043060302734,
          0.7798541188240051,
          -8.72072696685791,
          9.085105895996094,
          -6.0573930740356445,
          6.163210868835449,
          2.3501412868499756,
          -2.6578257083892822,
          -10.662513732910156,
          -9.128817558288574,
          3.297969341278076,
          -11.141796112060547,
          -6.254973411560059,
          3.4403934478759766,
          -9.001971244812012,
          -4.970219135284424,
          7.7941789627075195,
          12.027193069458008,
          9.395163536071777,
          -13.001287460327148,
          -2.56083345413208,
          2.2190213203430176,
          0.48921579122543335,
          -9.895959854125977,
          -2.8793022632598877,
          -6.790949821472168,
          1.1768169403076172,
          7.820035457611084,
          -5.293560028076172,
          -0.7054022550582886,
          5.7475996017456055,
          1.9581648111343384,
          -3.112567186355591,
          4.783780574798584,
          6.430174827575684,
          -11.968393325805664,
          0.7474013566970825,
          5.675025463104248,
          6.440066814422607,
          11.218167304992676,
          -6.989777565002441,
          -4.8930344581604,
          -9.38998031616211,
          8.256441116333008,
          4.412534713745117,
          -7.27995491027832,
          5.6207990646362305,
          4.656179428100586,
          -5.176300048828125,
          -7.567849159240723,
          -4.882500648498535,
          13.497833251953125,
          1.2804474830627441,
          -3.7193522453308105,
          -6.793795108795166,
          2.2230615615844727,
          -0.5964550971984863,
          6.59218692779541,
          -8.67522144317627,
          -3.990649938583374,
          2.9775216579437256,
          0.8129419088363647,
          -7.2228474617004395,
          0.6110557317733765,
          -4.739229679107666,
          -13.66879653930664,
          -6.87355899810791,
          -9.82535457611084,
          9.050801277160645,
          -0.49124905467033386,
          2.271104335784912,
          -4.504190444946289,
          10.212956428527832,
          -10.795021057128906,
          -10.321125030517578,
          -6.401841640472412,
          -4.6512370109558105,
          2.8819141387939453,
          6.17514705657959,
          4.97053861618042,
          -10.536837577819824,
          13.062906265258789,
          2.589909315109253,
          2.1269516944885254,
          -10.231526374816895,
          1.3055974245071411,
          12.398019790649414,
          1.2515552043914795,
          -8.641772270202637,
          10.981557846069336,
          -6.348362445831299,
          2.6620395183563232,
          5.00617790222168,
          3.3414461612701416,
          -1.78889799118042,
          4.156501770019531,
          3.512491226196289,
          5.328513145446777,
          1.827598214149475,
          6.71398401260376,
          12.355440139770508,
          -4.371287822723389,
          -13.376315116882324,
          -0.8354858756065369,
          11.90395450592041,
          -11.528016090393066,
          -6.594889163970947,
          -5.594695568084717,
          -8.045750617980957,
          7.856274604797363,
          -10.87692642211914,
          -9.935445785522461,
          5.130188465118408,
          -2.870152235031128,
          12.356925964355469,
          -1.8692721128463745,
          3.610318422317505,
          -6.808124542236328,
          2.829176425933838,
          0.25766146183013916,
          12.024471282958984,
          1.1549439430236816,
          -0.6982532739639282,
          4.673072338104248,
          -0.8152357339859009,
          -1.5849366188049316,
          -6.997992038726807,
          -6.024054050445557,
          1.4971482753753662,
          4.346395969390869,
          -0.886920690536499,
          3.3367981910705566,
          -3.5458621978759766,
          1.8138277530670166,
          1.9005751609802246,
          5.025620460510254,
          3.8578269481658936,
          4.185797214508057,
          -12.324981689453125,
          -1.1742057800292969,
          1.8648183345794678,
          -9.611038208007812,
          -0.7450329065322876,
          -4.4188079833984375,
          9.824848175048828,
          -5.792646884918213,
          0.8569871783256531,
          -1.3752716779708862,
          1.0789861679077148,
          -4.775201797485352,
          3.4560396671295166,
          3.8438289165496826,
          11.00694465637207,
          -13.800445556640625,
          3.185948610305786,
          5.569051742553711,
          -10.123617172241211,
          -0.9840596914291382,
          -0.681584358215332,
          6.392343997955322,
          7.193023204803467,
          4.520963191986084,
          6.423019886016846,
          -6.27330207824707,
          -7.944351673126221,
          -5.322527885437012,
          -7.778982639312744,
          -11.772090911865234,
          -8.821637153625488,
          8.29962158203125,
          7.26837682723999,
          -6.675766944885254,
          -1.3777351379394531,
          -11.244040489196777,
          1.8512636423110962,
          7.124478816986084,
          4.993488311767578,
          -7.13929557800293,
          3.4092111587524414,
          6.328458309173584,
          8.969864845275879,
          -9.012228965759277,
          12.835394859313965,
          -8.969131469726562,
          -6.428366184234619,
          -0.45335134863853455,
          -2.4113826751708984,
          -3.5647525787353516,
          -5.677957534790039,
          8.353232383728027,
          5.504054069519043,
          5.7964396476745605,
          4.919619560241699,
          -1.7402797937393188,
          -6.725460052490234,
          2.1501078605651855,
          -4.948454856872559,
          4.783363342285156,
          10.821272850036621,
          4.051717281341553,
          6.665539264678955,
          -3.9668569564819336,
          1.3662123680114746,
          2.9175422191619873,
          -7.193140983581543,
          4.769340515136719,
          1.7457807064056396,
          4.8602118492126465,
          3.8470089435577393,
          -4.865702152252197,
          -5.559474468231201,
          -8.355903625488281,
          2.4582324028015137,
          10.634162902832031,
          10.499464988708496,
          4.451704025268555,
          6.0011138916015625,
          -4.911367416381836,
          5.423234462738037,
          4.730422019958496,
          1.1862366199493408,
          7.3234453201293945,
          -5.872213840484619,
          1.3260878324508667,
          2.8520545959472656,
          3.708268404006958,
          -3.9304423332214355,
          4.80019474029541,
          -0.9026973247528076,
          0.347491055727005,
          4.475393772125244,
          -0.06757617741823196,
          11.929476737976074,
          4.441399574279785,
          6.473740100860596,
          2.746405839920044,
          3.357919931411743,
          4.4908447265625,
          0.4811807870864868,
          3.1909735202789307,
          -6.403707504272461,
          6.3627543449401855,
          -4.931645393371582,
          -7.886993408203125,
          -2.120591878890991,
          -10.999028205871582,
          -0.5323965549468994,
          3.033961296081543,
          8.557659149169922,
          10.39002513885498,
          13.833505630493164,
          -1.3985635042190552,
          -3.208902597427368,
          9.990599632263184,
          8.121777534484863,
          -3.9701783657073975,
          10.045618057250977,
          -6.761285781860352,
          1.0444990396499634,
          2.5734026432037354,
          1.2176073789596558,
          -3.075371026992798,
          5.648464202880859,
          13.29255199432373,
          -5.563410758972168,
          0.7875177264213562,
          -12.36759090423584,
          2.8976218700408936,
          13.166605949401855,
          2.6139469146728516,
          2.7030718326568604,
          -1.7294929027557373,
          -7.945052623748779,
          -6.431852340698242,
          3.108959674835205,
          -5.81282377243042,
          -4.745044708251953,
          9.493997573852539,
          -11.563791275024414,
          -0.6107421517372131,
          4.374068737030029,
          2.4456605911254883,
          -0.8312608599662781,
          8.721683502197266,
          -1.4326075315475464,
          2.910534381866455,
          7.450504779815674,
          -10.070292472839355,
          0.1420387476682663,
          -8.774953842163086,
          -12.685032844543457,
          4.490358352661133,
          0.3565843999385834,
          1.1918245553970337,
          -9.14148235321045,
          2.0460546016693115,
          6.939339637756348,
          10.59907054901123,
          7.3342485427856445,
          6.6684746742248535,
          9.669922828674316,
          0.6829054951667786,
          2.3108606338500977,
          -2.615368604660034,
          -1.6171058416366577,
          4.640314102172852,
          -8.223875999450684,
          2.42728328704834,
          -10.430290222167969,
          -3.5097012519836426,
          -8.787813186645508,
          5.215359210968018,
          11.421233177185059,
          10.262764930725098,
          3.257026195526123,
          -11.324048042297363,
          12.561424255371094,
          5.823212623596191,
          -1.8951356410980225,
          9.789034843444824,
          -1.3418761491775513,
          -0.3331626355648041,
          1.989906907081604,
          9.59176254272461,
          2.8404181003570557,
          3.9991049766540527,
          4.424821853637695,
          -4.3900041580200195,
          7.678216457366943,
          8.083279609680176,
          -6.17823600769043,
          13.548246383666992,
          -10.418530464172363,
          0.5091119408607483,
          -1.639086365699768,
          -5.625749111175537,
          -0.645926833152771,
          -7.958489894866943,
          -5.635894775390625,
          4.5016770362854,
          -0.9533364772796631,
          -9.105903625488281,
          -3.1476099491119385,
          8.751315116882324,
          -0.5014596581459045,
          0.8977342844009399,
          2.083740711212158,
          6.538142681121826,
          -9.3892183303833,
          3.580888509750366,
          -0.24649301171302795,
          0.5936281085014343,
          8.385865211486816,
          -7.96473503112793,
          9.523987770080566,
          0.13930588960647583,
          -13.114727020263672,
          -9.737113952636719,
          -10.225549697875977,
          0.07029961794614792,
          5.681303977966309,
          7.171506404876709,
          -10.310921669006348,
          4.174773216247559,
          -5.307258605957031,
          2.758636474609375,
          2.23225474357605,
          2.5949864387512207,
          -4.799919128417969,
          -4.116084098815918,
          -9.923739433288574,
          -6.308342456817627,
          -10.82396125793457,
          -3.396392345428467,
          11.846631050109863,
          -3.830857038497925,
          -8.2811861038208,
          4.441764831542969,
          6.407797813415527,
          5.792172431945801,
          -12.115982055664062,
          -9.95196533203125,
          8.503928184509277,
          -1.2424911260604858,
          -6.356442928314209,
          -7.717655181884766,
          0.23459340631961823,
          -6.0406365394592285,
          12.485227584838867,
          -5.660351276397705,
          -9.128242492675781,
          -0.8030173182487488,
          10.414567947387695,
          14.229673385620117,
          4.621498107910156,
          13.111772537231445,
          -0.9076625108718872,
          13.27599811553955,
          3.3011045455932617,
          -1.3558615446090698,
          0.8271745443344116,
          6.359367847442627,
          3.7002718448638916,
          2.9425735473632812,
          6.591287136077881,
          -12.22773551940918,
          2.7268309593200684,
          -9.727441787719727,
          -2.2230308055877686,
          0.4337678849697113,
          -0.3229339122772217,
          5.918816089630127,
          3.3900880813598633,
          -8.198636054992676,
          -6.361057281494141,
          10.907148361206055,
          -6.2219390869140625,
          7.375839710235596,
          -9.244596481323242,
          6.273009300231934,
          -11.066134452819824,
          4.421689510345459,
          6.397036075592041,
          2.156588077545166,
          3.9450223445892334,
          -1.2300479412078857,
          6.103785514831543,
          -1.0746979713439941,
          -9.205547332763672,
          -11.624336242675781,
          9.680665969848633,
          7.5032124519348145,
          5.370589733123779,
          -2.1829519271850586,
          7.193120956420898,
          -6.47628116607666,
          -2.6082959175109863,
          2.1025595664978027,
          -4.704801082611084,
          5.061822891235352,
          13.032066345214844,
          4.796637058258057,
          7.1339616775512695,
          13.482715606689453,
          0.31677088141441345,
          5.564389705657959,
          -6.5566725730896,
          8.848103523254395,
          13.36931037902832,
          -4.457206726074219,
          7.006418704986572,
          2.612159252166748,
          -12.134708404541016,
          -4.048957347869873,
          1.8605555295944214,
          -5.641805171966553,
          -10.729264259338379,
          -11.81087875366211,
          9.8460693359375,
          -13.859264373779297,
          8.229537010192871,
          -7.248395919799805,
          -11.042118072509766,
          3.4918370246887207,
          -6.716922283172607,
          12.959283828735352,
          -5.553393363952637,
          0.09592548757791519,
          -0.8605210781097412,
          7.589197635650635,
          5.997725009918213,
          11.800870895385742,
          12.300073623657227,
          4.5433783531188965,
          1.8510637283325195,
          -0.5784294605255127,
          -12.312074661254883,
          -9.52320384979248,
          -4.731894016265869,
          -3.3833162784576416,
          12.612844467163086,
          -8.622040748596191,
          9.321873664855957,
          -9.130878448486328,
          9.61435604095459,
          13.068192481994629,
          -1.0286791324615479,
          -4.3731794357299805,
          -9.89154052734375,
          -10.642237663269043,
          -5.133434772491455,
          -10.769268035888672,
          -6.223099708557129,
          1.8022288084030151,
          0.19413074851036072,
          4.861559867858887,
          1.2458597421646118,
          4.349752426147461,
          -0.44813603162765503,
          0.40411922335624695,
          2.4807369709014893,
          -2.03753662109375,
          2.3977863788604736,
          6.5488996505737305,
          -1.3650245666503906,
          -12.113511085510254,
          12.953107833862305,
          3.9807703495025635,
          -11.41343879699707,
          -0.7417894005775452,
          -7.958653926849365,
          -3.0174238681793213,
          -1.563793659210205,
          -6.635740280151367,
          1.2266682386398315,
          -3.135863780975342,
          -7.934597015380859,
          6.863433837890625,
          2.5209476947784424,
          3.7038521766662598,
          -0.8178194165229797,
          -1.3554904460906982,
          12.948919296264648,
          -0.7776474356651306,
          -13.560259819030762,
          7.994349956512451,
          7.5455403327941895,
          -0.6655246019363403,
          3.8544886112213135,
          11.434407234191895,
          2.728471517562866,
          1.9651174545288086,
          -6.847095966339111,
          4.240171909332275,
          -0.8710787296295166,
          2.3665645122528076,
          11.780795097351074,
          13.778349876403809,
          -4.209172248840332,
          0.36826685070991516,
          12.571595191955566,
          -0.6334643959999084,
          -0.7175067067146301,
          3.3146677017211914,
          7.125123500823975,
          -5.022582054138184,
          -3.9834940433502197,
          8.67410659790039,
          10.450300216674805,
          2.0566227436065674,
          -7.518913269042969,
          -4.41747522354126,
          2.5300064086914062,
          -5.751480579376221,
          -7.421034336090088,
          1.113510012626648,
          -7.536032199859619,
          12.527246475219727,
          -8.219956398010254,
          -5.159784317016602,
          -4.1733880043029785,
          5.573478698730469,
          -6.091833114624023,
          12.975887298583984,
          6.393019676208496,
          -5.8533406257629395,
          -6.6036577224731445,
          -8.128524780273438,
          5.633133411407471,
          -1.3659734725952148,
          9.696759223937988,
          2.1783454418182373,
          -1.081477165222168,
          5.914570331573486,
          2.423139810562134,
          4.575056076049805,
          -5.143383979797363,
          -0.6803038120269775,
          -9.478829383850098,
          -0.1580703854560852,
          4.908886909484863,
          12.598054885864258,
          -0.7936127185821533,
          4.320962905883789,
          1.9399477243423462,
          -10.903213500976562,
          12.58424186706543,
          -5.484279155731201,
          -4.733861446380615,
          4.871359348297119,
          11.974844932556152,
          0.5521430373191833,
          1.783841848373413,
          13.1624116897583,
          12.922051429748535,
          -5.934085369110107,
          12.805535316467285,
          4.576233863830566,
          -12.472711563110352,
          1.0808801651000977,
          -10.390074729919434,
          3.3803629875183105,
          -4.099277496337891,
          2.289416551589966,
          5.36390495300293,
          11.429262161254883,
          -2.9578986167907715,
          13.785120010375977,
          -2.5234715938568115,
          4.945305824279785,
          11.602347373962402,
          -9.345088958740234,
          4.977592945098877,
          -13.420905113220215,
          1.4988971948623657,
          -1.2633459568023682,
          3.897836923599243,
          8.529693603515625,
          -3.325951337814331,
          0.2639113664627075,
          -9.437479019165039,
          3.201033353805542,
          2.0817506313323975,
          -9.180517196655273,
          -11.409526824951172,
          -4.4469313621521,
          1.948051929473877,
          5.640056133270264,
          -3.8229293823242188,
          4.528421878814697,
          -10.16191577911377,
          6.304086208343506,
          1.1042782068252563,
          7.935081958770752,
          -5.573662281036377,
          -0.1551220715045929,
          5.083407878875732,
          4.371974945068359,
          4.231900215148926,
          -9.05360221862793,
          0.5925692319869995,
          -1.595395803451538,
          2.083223581314087,
          0.6648802757263184,
          13.385208129882812,
          6.933385372161865,
          -2.25478196144104,
          4.245521545410156,
          8.800395965576172,
          -8.092352867126465,
          -9.519451141357422,
          -3.676870107650757,
          -6.788225173950195,
          2.3479461669921875,
          -2.4291164875030518,
          4.997326374053955,
          2.359792947769165,
          5.236948013305664,
          -1.0205764770507812,
          -9.356193542480469,
          -10.538932800292969,
          -12.819411277770996,
          10.684697151184082,
          -11.477645874023438,
          12.214866638183594,
          4.080024242401123,
          1.2952735424041748,
          -1.2624189853668213,
          -10.587201118469238,
          8.378031730651855,
          2.2782018184661865,
          -9.019317626953125,
          -4.942956924438477,
          -8.6732177734375,
          0.5574265718460083,
          5.618564128875732,
          1.8646341562271118,
          -5.135726451873779,
          9.71084213256836,
          -9.787530899047852,
          -13.66362190246582,
          -8.373814582824707,
          -8.452208518981934,
          3.4238851070404053,
          -2.432556390762329,
          6.708535194396973,
          -5.620750427246094,
          8.894427299499512,
          5.063438415527344,
          1.552196979522705,
          -4.904935836791992,
          4.628492832183838,
          -8.548627853393555,
          2.2562386989593506,
          13.475531578063965,
          8.884170532226562,
          3.2737269401550293,
          2.449558734893799,
          -1.3447405099868774,
          -8.678105354309082,
          -9.621058464050293,
          -4.261240482330322,
          -5.393359184265137,
          0.9302558898925781,
          11.609190940856934,
          -0.06655294448137283,
          5.321862697601318,
          2.9730618000030518,
          -0.4588054418563843,
          6.6626296043396,
          -2.500866174697876,
          -7.817616939544678,
          9.789305686950684,
          -3.8808693885803223,
          8.100394248962402,
          0.770878255367279,
          2.4863522052764893,
          -8.354787826538086,
          0.5184683799743652,
          -1.6149035692214966,
          4.445572853088379,
          1.7533625364303589,
          -1.2897802591323853,
          -9.079244613647461,
          -7.892807483673096,
          2.458672523498535,
          9.824739456176758,
          4.771420478820801,
          -4.708454608917236,
          4.562594413757324,
          2.958634376525879,
          10.564990043640137,
          0.5101543068885803,
          -12.254122734069824,
          2.0773439407348633,
          -5.82867956161499,
          -6.883925914764404,
          -11.88758373260498,
          -8.920026779174805,
          4.501725673675537,
          2.2821085453033447,
          -7.174219608306885,
          6.904891014099121,
          -8.852289199829102,
          -7.832332611083984,
          -8.615196228027344,
          -4.4400835037231445,
          2.5897648334503174,
          -0.5189447402954102,
          4.448043346405029,
          0.26738089323043823,
          0.20998241007328033,
          -5.86044979095459,
          5.310138702392578,
          -11.786846160888672,
          -11.438722610473633,
          -3.87207293510437,
          -0.13869339227676392,
          -11.541230201721191,
          3.0707435607910156,
          -4.684976100921631,
          1.2225162982940674,
          2.905552625656128,
          3.6692264080047607,
          1.90324866771698,
          -9.079225540161133,
          3.7259721755981445,
          0.08300789445638657,
          -8.687088012695312,
          7.615755558013916,
          -0.791736364364624,
          2.462583303451538,
          -11.370657920837402,
          3.974963665008545,
          -4.908506393432617,
          -3.767885208129883,
          -3.6794402599334717,
          9.642797470092773,
          -13.433414459228516,
          -6.210838794708252,
          -9.628988265991211,
          12.499532699584961,
          2.513070583343506,
          -9.049063682556152,
          -2.9470789432525635,
          9.157015800476074,
          6.100013256072998,
          -4.8283371925354,
          -3.2078983783721924,
          4.931516170501709,
          9.44489574432373,
          1.1396437883377075,
          6.453805446624756,
          1.818384051322937,
          -6.192470073699951,
          -2.042239189147949,
          -7.480543613433838,
          6.2653961181640625,
          3.6928751468658447,
          4.0627641677856445,
          -6.209604740142822,
          -0.7890763878822327,
          13.096508026123047,
          -1.2620974779129028,
          -1.3837674856185913,
          12.872334480285645,
          4.66314172744751,
          -10.45246410369873,
          9.449080467224121,
          7.0630927085876465,
          10.28378963470459,
          -6.98307991027832,
          -6.081290245056152,
          -2.7110745906829834,
          2.7134063243865967,
          -0.34127551317214966,
          2.5607094764709473,
          3.491462469100952,
          -0.006510051432996988,
          -3.29423451423645,
          -9.563324928283691,
          9.859468460083008,
          -6.008602142333984,
          2.0230154991149902,
          8.44091510772705,
          -0.7768187522888184,
          10.546667098999023,
          -7.022988796234131,
          1.7042440176010132,
          1.78678560256958,
          13.618371963500977,
          -6.420488357543945,
          10.464476585388184,
          7.378572463989258,
          6.878611087799072,
          11.983956336975098,
          -10.69552230834961,
          1.170649528503418,
          -2.640118360519409,
          0.5877234935760498,
          9.831949234008789,
          -0.5313676595687866,
          -3.8907923698425293,
          3.5744965076446533,
          3.537567138671875,
          5.925127029418945,
          9.040467262268066,
          -11.47911262512207,
          -4.864274024963379,
          5.5013861656188965,
          -2.85813307762146,
          -0.7866418957710266,
          0.21887533366680145,
          -8.152392387390137,
          -8.124066352844238,
          -5.237340927124023,
          0.015763746574521065,
          10.95568561553955,
          5.9706830978393555,
          -11.496338844299316,
          -10.01758098602295,
          3.415679693222046,
          8.76264476776123,
          11.572552680969238,
          -12.150641441345215,
          9.69157600402832,
          8.902982711791992,
          -10.076929092407227,
          14.070755004882812,
          -5.257515907287598,
          -2.7217087745666504,
          6.699880123138428,
          -7.972475528717041,
          4.527027606964111,
          4.844167232513428,
          -8.217268943786621,
          3.385599136352539,
          6.866486549377441,
          -8.434236526489258,
          -6.547204494476318,
          11.122323036193848,
          4.385173797607422,
          -6.153098106384277,
          -3.5183937549591064,
          0.9520359039306641,
          -8.16344928741455,
          2.2539420127868652,
          5.188366889953613,
          -3.3144705295562744,
          3.9501142501831055,
          7.266543865203857,
          1.2405242919921875,
          7.4059157371521,
          6.441217422485352,
          -2.767052173614502,
          -8.595864295959473,
          6.649947166442871,
          -4.621467590332031,
          -11.236760139465332,
          -6.631717681884766,
          -13.508537292480469,
          -5.337199687957764,
          9.61425495147705,
          -6.774350166320801,
          -2.541259288787842,
          -6.1476664543151855,
          -0.887739896774292,
          3.599147319793701,
          0.9349575638771057,
          3.767660140991211,
          -2.6105430126190186,
          8.674909591674805,
          1.3798221349716187,
          -12.412880897521973,
          -4.700470924377441,
          -5.558061599731445,
          -1.498511791229248,
          10.951149940490723,
          -10.252808570861816,
          1.0110927820205688,
          -12.92632007598877,
          0.9773566722869873,
          -12.205011367797852,
          -3.8463354110717773,
          2.6079294681549072,
          -2.7428066730499268,
          4.444917678833008,
          -4.174373626708984,
          -9.28801441192627,
          0.49273502826690674,
          5.0082268714904785,
          4.048084259033203,
          3.59690523147583,
          11.678911209106445,
          8.605547904968262,
          -3.9516773223876953,
          2.5683233737945557,
          3.2477450370788574,
          -9.6998929977417,
          1.4951331615447998,
          6.935786724090576,
          -13.565460205078125,
          7.734119892120361,
          8.556812286376953,
          9.507150650024414,
          5.061319828033447,
          -0.7798612117767334,
          7.825606346130371,
          6.185146331787109,
          7.8251051902771,
          7.284719467163086,
          4.165818691253662,
          4.549711227416992,
          1.223526120185852,
          -10.739295959472656,
          6.59832239151001,
          2.577230215072632,
          -6.147382736206055,
          9.813352584838867,
          0.746866762638092,
          -11.258607864379883,
          -7.01619815826416,
          1.9671663045883179,
          4.941571235656738,
          -9.889975547790527,
          -11.222427368164062,
          -2.304626941680908,
          5.352731704711914,
          -8.470611572265625,
          -13.286005973815918,
          2.623826503753662,
          -7.589641094207764,
          -9.438519477844238,
          -5.2575364112854,
          -6.113461971282959,
          -0.8250752091407776,
          5.958982467651367,
          13.278802871704102,
          5.3911004066467285,
          -12.595789909362793,
          -1.1027915477752686,
          0.25410640239715576,
          5.4417948722839355,
          7.239402770996094,
          -6.502708911895752,
          -1.028745412826538
         ],
         "y": [
          -2.1539580821990967,
          7.836024284362793,
          6.460331439971924,
          6.151352405548096,
          -0.36234933137893677,
          -2.22043514251709,
          -5.524325370788574,
          6.299709796905518,
          4.747315883636475,
          -7.015321254730225,
          -1.2082964181900024,
          9.55991268157959,
          -8.669236183166504,
          6.132600784301758,
          4.637059211730957,
          2.164091110229492,
          7.168929100036621,
          12.591347694396973,
          -7.267206192016602,
          -6.39221715927124,
          -5.62169885635376,
          7.073531150817871,
          5.284244537353516,
          -7.353522777557373,
          -0.18205328285694122,
          -9.94315242767334,
          5.252293109893799,
          1.0689291954040527,
          -9.003077507019043,
          4.255864143371582,
          -11.69652271270752,
          -5.323971271514893,
          -0.048610564321279526,
          6.9511494636535645,
          -1.1777199506759644,
          -8.264856338500977,
          9.844417572021484,
          3.0060904026031494,
          6.047996520996094,
          8.461968421936035,
          1.5910992622375488,
          6.367678165435791,
          7.956633567810059,
          -6.8644795417785645,
          -3.2681777477264404,
          4.955146312713623,
          -10.396106719970703,
          8.818702697753906,
          -6.027414798736572,
          1.9645193815231323,
          -5.567959785461426,
          7.773715496063232,
          3.9087414741516113,
          -0.26968371868133545,
          -11.817171096801758,
          1.9252458810806274,
          -1.9191384315490723,
          4.029516220092773,
          5.493864059448242,
          12.773316383361816,
          -13.13530158996582,
          -3.590548038482666,
          6.875221252441406,
          -0.30760660767555237,
          -3.2671799659729004,
          -6.808716773986816,
          5.2081828117370605,
          0.8644821643829346,
          -9.693946838378906,
          -9.0950345993042,
          0.57792067527771,
          -2.4720873832702637,
          -4.205157279968262,
          -7.149485111236572,
          -6.34648323059082,
          10.70065975189209,
          -5.452584743499756,
          -0.38598206639289856,
          4.826056957244873,
          3.254361152648926,
          14.401045799255371,
          -5.705687999725342,
          1.8646939992904663,
          7.1218085289001465,
          -2.6935513019561768,
          -4.063015460968018,
          -1.8289358615875244,
          -10.131948471069336,
          6.421074390411377,
          6.568119049072266,
          2.457357168197632,
          -8.612985610961914,
          -5.499252796173096,
          -9.994601249694824,
          2.570323944091797,
          6.895030498504639,
          8.598397254943848,
          -0.8022231459617615,
          -6.645817279815674,
          -7.6941237449646,
          -6.590226173400879,
          -6.957746505737305,
          0.2726535201072693,
          1.9278396368026733,
          5.610626220703125,
          -9.536848068237305,
          0.6350000500679016,
          -7.3191728591918945,
          -1.4677703380584717,
          0.5674362182617188,
          -5.936385631561279,
          4.6684112548828125,
          7.659918308258057,
          0.7392327785491943,
          0.5847710967063904,
          -9.654995918273926,
          -7.281284332275391,
          -1.028084397315979,
          -8.322334289550781,
          11.48984432220459,
          -6.386449813842773,
          6.160654544830322,
          -5.839181900024414,
          -6.551779270172119,
          -2.857076644897461,
          0.5882633924484253,
          -1.3623236417770386,
          5.277100086212158,
          -11.429027557373047,
          6.314539909362793,
          11.504719734191895,
          -6.625027656555176,
          5.79339075088501,
          -5.476484775543213,
          0.1358315497636795,
          -13.65065860748291,
          -6.032941818237305,
          3.082214117050171,
          -10.993326187133789,
          -8.94487190246582,
          -1.204742431640625,
          -8.681198120117188,
          -3.014813184738159,
          8.580416679382324,
          -5.328632831573486,
          0.15653996169567108,
          -0.49561819434165955,
          1.8843052387237549,
          7.85959529876709,
          -7.163690567016602,
          5.604222297668457,
          -2.568138837814331,
          -6.705813407897949,
          -8.64874267578125,
          0.4073699414730072,
          -12.532408714294434,
          6.296871662139893,
          -10.823766708374023,
          10.436978340148926,
          -8.841216087341309,
          -8.236479759216309,
          -9.078431129455566,
          -6.082435607910156,
          -1.7123059034347534,
          8.367779731750488,
          0.44855278730392456,
          4.498451232910156,
          -4.916651725769043,
          -7.822319507598877,
          8.161751747131348,
          6.914765357971191,
          5.80569314956665,
          -0.5332725048065186,
          1.2854633331298828,
          -3.6337249279022217,
          11.017187118530273,
          -5.767535209655762,
          -2.8774216175079346,
          -8.061192512512207,
          4.095047950744629,
          3.8193957805633545,
          -12.480107307434082,
          6.172801971435547,
          -0.3649006485939026,
          1.5923033952713013,
          3.9669365882873535,
          3.442559003829956,
          -5.5116286277771,
          8.34512996673584,
          7.589581489562988,
          -4.260580062866211,
          -6.5991997718811035,
          -4.488152503967285,
          -3.6950531005859375,
          6.60624885559082,
          6.473524570465088,
          -6.781340599060059,
          -9.869770050048828,
          7.611576080322266,
          -8.249258041381836,
          -8.969231605529785,
          3.6417288780212402,
          -1.6190910339355469,
          -2.4995362758636475,
          0.0453137569129467,
          -0.5105470418930054,
          4.097815036773682,
          -0.22734414041042328,
          7.5528364181518555,
          7.062922477722168,
          -5.502888202667236,
          -6.22421932220459,
          -0.3659595847129822,
          -5.430907726287842,
          -0.672329306602478,
          -0.7312519550323486,
          -5.646025657653809,
          0.5432949066162109,
          -8.628973007202148,
          -2.294618606567383,
          -4.801326274871826,
          -3.152730703353882,
          4.106644153594971,
          7.432159900665283,
          12.396199226379395,
          -0.9674846529960632,
          8.272859573364258,
          -5.949882984161377,
          3.8612725734710693,
          -10.630969047546387,
          5.337724685668945,
          -3.1395680904388428,
          3.3475441932678223,
          0.6291502714157104,
          5.474931240081787,
          2.883194923400879,
          -7.439554214477539,
          5.723177433013916,
          7.914796352386475,
          -7.79823637008667,
          8.497447967529297,
          9.020344734191895,
          -0.7846247553825378,
          -3.346029758453369,
          -4.296463966369629,
          9.948845863342285,
          -3.8276045322418213,
          6.910548210144043,
          8.311853408813477,
          -0.4393902122974396,
          -8.591414451599121,
          -3.7656612396240234,
          6.4699811935424805,
          5.891014099121094,
          9.816778182983398,
          -9.789533615112305,
          -3.850139856338501,
          -0.9591639041900635,
          -4.250359535217285,
          -5.439314365386963,
          -5.804520606994629,
          -1.76397705078125,
          1.482327938079834,
          7.877400875091553,
          5.523533344268799,
          -3.8299412727355957,
          -12.328855514526367,
          10.155922889709473,
          -7.141055583953857,
          2.4140868186950684,
          -7.815164566040039,
          -2.490973472595215,
          3.7385058403015137,
          -6.503199100494385,
          -12.974743843078613,
          -2.801454782485962,
          -7.9484429359436035,
          -5.3917670249938965,
          8.061393737792969,
          -0.5399616956710815,
          -4.2849626541137695,
          6.372066974639893,
          -2.5941975116729736,
          -11.87231731414795,
          3.4557394981384277,
          5.572793960571289,
          -0.370490163564682,
          5.816083908081055,
          9.700566291809082,
          6.359739303588867,
          -4.796444416046143,
          -9.899701118469238,
          5.266510486602783,
          -5.9227070808410645,
          0.6488067507743835,
          5.1973652839660645,
          5.887828826904297,
          -0.9498876333236694,
          6.556949138641357,
          3.1811256408691406,
          -0.4041009843349457,
          7.161149978637695,
          13.64382266998291,
          6.370947360992432,
          6.316076278686523,
          5.754459857940674,
          4.189102649688721,
          8.923008918762207,
          -6.286890506744385,
          2.0999016761779785,
          0.38200077414512634,
          -0.2853274941444397,
          -4.523874759674072,
          8.661086082458496,
          4.849386692047119,
          -1.926951289176941,
          1.8700635433197021,
          -5.7471394538879395,
          10.91303825378418,
          -6.097635746002197,
          -6.908684253692627,
          -4.920865535736084,
          8.200937271118164,
          0.4502827227115631,
          5.347552299499512,
          -5.419922828674316,
          3.295154094696045,
          10.451942443847656,
          -10.225180625915527,
          5.068656921386719,
          9.288984298706055,
          -6.584980487823486,
          8.154670715332031,
          0.3807697296142578,
          0.2914482355117798,
          -4.885338306427002,
          -5.755350589752197,
          -5.058439254760742,
          4.314662456512451,
          5.301901340484619,
          -5.680581092834473,
          6.378001689910889,
          -6.536212921142578,
          -9.065093994140625,
          10.136456489562988,
          -6.154117584228516,
          5.552325248718262,
          0.6463726758956909,
          -5.0910749435424805,
          -6.295650005340576,
          4.754360198974609,
          -3.3117916584014893,
          4.174005031585693,
          1.6709474325180054,
          -1.9355460405349731,
          8.242798805236816,
          3.401568651199341,
          -1.843134880065918,
          8.347640991210938,
          -6.375824451446533,
          -2.83569073677063,
          -5.5095415115356445,
          -3.16343092918396,
          0.0009253271855413914,
          6.878580570220947,
          5.604416370391846,
          -12.91433048248291,
          5.1942458152771,
          -10.805414199829102,
          -8.315940856933594,
          -5.712740421295166,
          -1.431067705154419,
          -4.221513271331787,
          -8.07443618774414,
          -13.906569480895996,
          11.029373168945312,
          -7.528786659240723,
          4.342046737670898,
          -0.30977851152420044,
          -6.132020950317383,
          3.5564486980438232,
          -12.519044876098633,
          -5.664099216461182,
          8.95025634765625,
          -5.671087741851807,
          -1.126320481300354,
          5.6254191398620605,
          4.9894843101501465,
          0.6064667701721191,
          -3.3907830715179443,
          -6.256969451904297,
          -5.374001979827881,
          1.0045002698898315,
          -6.973276138305664,
          5.5821099281311035,
          0.00885099545121193,
          -3.418250799179077,
          -2.1674704551696777,
          4.319011688232422,
          -0.19892896711826324,
          4.04428768157959,
          9.03990650177002,
          -8.317872047424316,
          9.13782787322998,
          8.255327224731445,
          5.098689079284668,
          -2.5670740604400635,
          -2.1042885780334473,
          5.297307968139648,
          -9.484394073486328,
          7.38659143447876,
          6.749784469604492,
          0.17764019966125488,
          5.254071235656738,
          -5.8842926025390625,
          8.346732139587402,
          -2.712658166885376,
          4.161978244781494,
          2.5983917713165283,
          12.090109825134277,
          -5.77805757522583,
          -6.9942545890808105,
          8.596763610839844,
          4.993897438049316,
          -8.072158813476562,
          -1.2211402654647827,
          -10.918655395507812,
          -2.1040165424346924,
          -4.525816917419434,
          -3.9965953826904297,
          -6.260249614715576,
          -6.975203037261963,
          3.2721219062805176,
          10.584136009216309,
          -3.2990925312042236,
          -9.862296104431152,
          -3.0955750942230225,
          -8.630066871643066,
          5.290879249572754,
          -4.866077899932861,
          -1.4773157835006714,
          0.7210455536842346,
          -0.14647454023361206,
          9.649559020996094,
          -6.946977615356445,
          7.945995807647705,
          -8.309247016906738,
          10.887776374816895,
          0.9309618473052979,
          0.785023033618927,
          6.652536392211914,
          -7.338363170623779,
          -9.06519889831543,
          10.613673210144043,
          2.763835906982422,
          -6.704757213592529,
          2.7618372440338135,
          -4.6931352615356445,
          -11.202948570251465,
          -0.10294775664806366,
          6.69899320602417,
          -0.1372191160917282,
          1.2508292198181152,
          7.926174163818359,
          -10.497377395629883,
          -3.1733765602111816,
          2.2096428871154785,
          -11.555570602416992,
          4.7963056564331055,
          -6.640663146972656,
          -3.0450870990753174,
          -4.398377895355225,
          -6.085002422332764,
          -10.123193740844727,
          4.807465553283691,
          6.750487327575684,
          3.8965277671813965,
          5.30773401260376,
          -10.864449501037598,
          -5.372406959533691,
          8.17575454711914,
          -1.8995707035064697,
          -7.901674747467041,
          8.550318717956543,
          2.563586711883545,
          -5.150019645690918,
          6.821556091308594,
          -9.597450256347656,
          2.5877182483673096,
          4.464200973510742,
          5.542402744293213,
          10.186145782470703,
          0.55443274974823,
          -5.526461601257324,
          5.613020896911621,
          8.317891120910645,
          -4.625786304473877,
          0.33267146348953247,
          -7.0877532958984375,
          0.6683136224746704,
          2.0196547508239746,
          -11.930140495300293,
          3.9977681636810303,
          6.208470344543457,
          -4.847561836242676,
          3.796067476272583,
          0.017599988728761673,
          8.020541191101074,
          -8.955041885375977,
          -0.25827446579933167,
          7.822571754455566,
          8.832168579101562,
          6.476673126220703,
          6.787631988525391,
          -3.792043685913086,
          -8.193251609802246,
          0.8225075602531433,
          10.700918197631836,
          3.214956283569336,
          7.863185882568359,
          1.1003154516220093,
          10.180157661437988,
          -1.0101938247680664,
          -3.3870978355407715,
          -6.626181125640869,
          10.168608665466309,
          -5.925781726837158,
          -3.6629745960235596,
          3.859861373901367,
          10.733798027038574,
          -0.8800228834152222,
          12.077383041381836,
          -2.1793746948242188,
          9.788687705993652,
          -6.1559624671936035,
          -7.83945369720459,
          -11.167160987854004,
          -8.627772331237793,
          6.253224849700928,
          1.7475751638412476,
          11.780292510986328,
          -0.3618260324001312,
          6.523295879364014,
          7.802311420440674,
          -4.245367050170898,
          8.257380485534668,
          -0.6549025774002075,
          -2.6286611557006836,
          -7.965483665466309,
          6.714443683624268,
          8.39440631866455,
          0.33792999386787415,
          -3.0187323093414307,
          3.4818060398101807,
          7.910583019256592,
          -6.129998207092285,
          -6.512168884277344,
          13.946761131286621,
          -4.582340717315674,
          1.973734736442566,
          -1.1074988842010498,
          2.900416374206543,
          3.2216129302978516,
          -4.188195705413818,
          -5.645516872406006,
          7.463964939117432,
          -3.4590182304382324,
          4.859373569488525,
          -1.7529453039169312,
          -6.578391075134277,
          7.5229811668396,
          -9.584493637084961,
          -2.494241714477539,
          4.238437652587891,
          0.3537369966506958,
          -4.458973407745361,
          -3.848350763320923,
          -1.633885383605957,
          -11.644460678100586,
          -3.1717946529388428,
          -4.952634334564209,
          6.885178565979004,
          2.133495330810547,
          -6.697546482086182,
          1.85745108127594,
          1.9372056722640991,
          5.516702651977539,
          -9.155823707580566,
          -12.265786170959473,
          -5.939088344573975,
          -0.9010922312736511,
          4.862258434295654,
          4.1391682624816895,
          3.268463611602783,
          -0.6434109807014465,
          -1.7552623748779297,
          -7.752988815307617,
          9.27066707611084,
          4.7392778396606445,
          6.412856101989746,
          -3.890484571456909,
          -11.803855895996094,
          9.88272762298584,
          2.4840893745422363,
          -8.323620796203613,
          -1.5530463457107544,
          7.508899688720703,
          -6.259589195251465,
          8.494956016540527,
          -4.7997612953186035,
          -5.064786911010742,
          -4.650923252105713,
          -9.515703201293945,
          -6.546420574188232,
          2.131378650665283,
          4.851753234863281,
          -8.367023468017578,
          -3.4204766750335693,
          -5.048962116241455,
          -6.606036186218262,
          -10.277582168579102,
          6.138030529022217,
          -7.704865455627441,
          9.112929344177246,
          12.65522289276123,
          5.4709553718566895,
          0.12518996000289917,
          10.717750549316406,
          -8.927079200744629,
          -0.7178452610969543,
          6.023510932922363,
          5.579138278961182,
          -8.84481143951416,
          3.656418800354004,
          -2.144735097885132,
          -5.802459716796875,
          11.242205619812012,
          7.423909664154053,
          4.051376819610596,
          5.689626216888428,
          -0.77857506275177,
          4.655052185058594,
          1.1996362209320068,
          9.543524742126465,
          -6.627868175506592,
          8.221527099609375,
          -3.4617693424224854,
          -1.6605857610702515,
          1.627380132675171,
          -9.382315635681152,
          -5.317506790161133,
          -7.929421424865723,
          2.097378730773926,
          -1.9367951154708862,
          10.016809463500977,
          -4.196746349334717,
          4.634594440460205,
          4.545194625854492,
          -5.694839954376221,
          5.909329414367676,
          -7.856808185577393,
          5.665933132171631,
          -0.8710871338844299,
          -6.87437629699707,
          -4.997926235198975,
          0.3483562171459198,
          -7.9742045402526855,
          -10.374259948730469,
          -0.8143406510353088,
          -8.30732536315918,
          -8.191697120666504,
          -3.3750717639923096,
          -3.5655884742736816,
          -4.1181960105896,
          4.368937015533447,
          1.8330193758010864,
          2.7513234615325928,
          -0.23693551123142242,
          -0.1909763216972351,
          -8.918902397155762,
          -9.236489295959473,
          5.876443386077881,
          6.375924587249756,
          -8.173133850097656,
          1.7165369987487793,
          4.732678413391113,
          0.015099904499948025,
          -4.692298412322998,
          -7.198775291442871,
          8.334942817687988,
          7.562198638916016,
          6.311802864074707,
          -11.184565544128418,
          -2.0599489212036133,
          8.294097900390625,
          -1.210579514503479,
          -5.099491119384766,
          -7.31541109085083,
          2.7721080780029297,
          7.915670394897461,
          -11.357592582702637,
          0.3119105398654938,
          6.356123447418213,
          5.881446361541748,
          -5.072756290435791,
          2.0955841541290283,
          -3.3343889713287354,
          3.6060214042663574,
          6.869694709777832,
          9.89645004272461,
          -9.599596977233887,
          -2.2469098567962646,
          10.668404579162598,
          -9.869556427001953,
          10.331732749938965,
          -4.107129096984863,
          7.24401330947876,
          2.543525457382202,
          2.129462242126465,
          -11.377623558044434,
          -0.2941068708896637,
          -9.869003295898438,
          -0.07657737284898758,
          -3.044773578643799,
          4.835576057434082,
          5.862918853759766,
          -2.17574143409729,
          -8.138134956359863,
          -12.242147445678711,
          -3.5742180347442627,
          0.22417791187763214,
          11.711854934692383,
          7.068687438964844,
          -3.7069945335388184,
          5.0692458152771,
          -2.7409021854400635,
          -4.437189102172852,
          7.186333656311035,
          0.15479619801044464,
          -3.1724483966827393,
          8.674057006835938,
          -9.913113594055176,
          -3.403167724609375,
          4.912631511688232,
          -4.472536087036133,
          -7.596033573150635,
          -2.723257541656494,
          5.468347072601318,
          10.397565841674805,
          -2.0386552810668945,
          5.688045978546143,
          5.974401473999023,
          -4.14046049118042,
          1.3125412464141846,
          1.9750561714172363,
          -4.115477085113525,
          -6.884739398956299,
          8.939652442932129,
          -0.3025192320346832,
          -2.5616254806518555,
          -13.514483451843262,
          -7.39150857925415,
          10.390990257263184,
          -8.119264602661133,
          -9.727094650268555,
          10.356507301330566,
          6.572322845458984,
          5.707279682159424,
          2.798733949661255,
          8.113749504089355,
          2.752042531967163,
          10.820062637329102,
          -4.934442520141602,
          3.411691665649414,
          -5.1634111404418945,
          5.566507816314697,
          -4.432719707489014,
          7.327676773071289,
          0.5470978021621704,
          4.718604564666748,
          2.881544828414917,
          -10.42992877960205,
          4.393178939819336,
          -3.4403810501098633,
          0.014425351284444332,
          10.92920207977295,
          -1.7403558492660522,
          -5.015194416046143,
          -5.926867485046387,
          -2.207486152648926,
          11.725105285644531,
          -6.686620235443115,
          -5.02521276473999,
          3.566707134246826,
          7.061922073364258,
          7.095114707946777,
          2.6719372272491455,
          -7.071377754211426,
          5.018495559692383,
          -10.369283676147461,
          -4.6273064613342285,
          11.864463806152344,
          -1.4195770025253296,
          4.259130954742432,
          -4.2908501625061035,
          7.9275431632995605,
          1.4296897649765015,
          7.693941593170166,
          4.96004056930542,
          -8.918611526489258,
          9.416611671447754,
          -9.69416618347168,
          5.02834415435791,
          -11.66010570526123,
          0.21263447403907776,
          -8.795228004455566,
          -3.832582950592041,
          -2.22922682762146,
          -1.006088137626648,
          0.385966956615448,
          7.236990451812744,
          3.928440809249878,
          -9.184942245483398,
          -7.398508548736572,
          4.954098224639893,
          -0.3267112970352173,
          8.350987434387207,
          -7.357198715209961,
          1.6305490732192993,
          -5.735645771026611,
          6.097394943237305,
          8.994068145751953,
          12.144213676452637,
          -0.2127206176519394,
          -7.117180824279785,
          7.991682529449463,
          1.8005810976028442,
          -9.15379810333252,
          7.857619285583496,
          -1.4989027976989746,
          5.966612339019775,
          8.560979843139648,
          -6.353016376495361,
          -4.398591041564941,
          0.038706038147211075,
          -0.4991491436958313,
          -5.81466007232666,
          -0.03922415152192116,
          -9.448365211486816,
          0.05486714467406273,
          2.569072961807251,
          10.84272289276123,
          13.561232566833496,
          7.641102313995361,
          0.06479932367801666,
          1.6058930158615112,
          1.4915690422058105,
          4.3772172927856445,
          -10.22171688079834,
          9.065382957458496,
          0.7464475631713867,
          -0.3038058578968048,
          4.382999897003174,
          -1.5837029218673706,
          -1.8267934322357178,
          0.10793259739875793,
          4.543779373168945,
          -3.614021062850952,
          -5.181667804718018,
          -8.128556251525879,
          -0.721787691116333,
          -1.8453922271728516,
          10.540481567382812,
          1.2504044771194458,
          -2.8400230407714844,
          -8.75921630859375,
          -0.1265759915113449,
          8.36863899230957,
          -4.661460876464844,
          -5.3124098777771,
          -3.767746686935425,
          -1.8905580043792725,
          6.16796350479126,
          7.657089710235596,
          -0.3848811089992523,
          -2.4672670364379883,
          3.498932123184204,
          10.500821113586426,
          -11.066439628601074,
          -2.1934380531311035,
          1.4288796186447144,
          -4.854956150054932,
          8.383099555969238,
          -8.783767700195312,
          -10.0458984375,
          -4.543631553649902,
          3.054251194000244,
          -0.8996684551239014,
          6.585481643676758,
          -6.024284839630127,
          -5.254823684692383,
          -11.094216346740723,
          -5.21190881729126,
          -2.5295886993408203,
          9.483720779418945,
          4.486937999725342,
          2.154437780380249,
          -2.5793251991271973,
          7.247424602508545,
          6.852165222167969,
          3.540604591369629,
          0.6713661551475525,
          -9.204516410827637,
          -1.7721346616744995,
          -9.00342845916748,
          -2.6447317600250244,
          -9.904553413391113,
          -11.830124855041504,
          -0.22925247251987457,
          4.96073579788208,
          -1.0635647773742676,
          -11.59182071685791,
          7.054017543792725,
          -12.360626220703125,
          3.5391039848327637,
          10.907036781311035,
          -3.847440481185913,
          3.6428780555725098,
          8.612967491149902,
          -8.47423267364502,
          -10.183435440063477,
          1.4459024667739868,
          -11.234898567199707,
          2.9448721408843994,
          -9.65634822845459,
          -5.649475574493408,
          4.228264331817627,
          2.3031091690063477,
          3.2544190883636475,
          -5.373904705047607,
          3.590294599533081,
          -2.904787540435791,
          5.392635822296143,
          -6.53673791885376,
          -4.230733871459961,
          -5.991237163543701,
          -6.91580057144165,
          1.4699734449386597,
          -0.26620087027549744,
          4.298048496246338,
          10.432679176330566,
          -6.511554718017578,
          -4.41725492477417,
          -4.45619535446167,
          -9.376347541809082,
          -12.54456615447998,
          7.9245734214782715,
          -11.275568962097168,
          -3.594350814819336,
          -7.474592208862305,
          3.908308267593384,
          9.70347785949707,
          6.272510528564453,
          2.601019859313965,
          -0.8641500473022461,
          -9.823375701904297,
          -0.8253509402275085,
          5.504404544830322,
          9.698973655700684,
          -4.021078586578369,
          3.828037738800049,
          0.7223603129386902,
          -11.611764907836914,
          -4.578278541564941,
          -3.880500316619873,
          10.405289649963379,
          -0.9125508069992065,
          3.2007246017456055,
          -6.906972408294678,
          -1.309943675994873,
          -6.283255100250244,
          -3.658367395401001,
          -8.80078125,
          4.262105464935303,
          -4.360922813415527,
          -9.058120727539062,
          -1.328169345855713,
          -8.243581771850586,
          3.5099048614501953,
          -0.2088417410850525,
          -7.0421223640441895,
          -4.530344009399414,
          -6.911474704742432,
          -5.097986698150635,
          1.5959436893463135,
          4.6229143142700195,
          -3.963880777359009,
          -11.523848533630371,
          -6.585452556610107,
          -11.22380256652832,
          -4.059422492980957,
          -5.120816230773926,
          -11.215729713439941,
          -9.883890151977539,
          -9.016141891479492,
          -6.657899856567383,
          -3.4304561614990234,
          -3.872999906539917,
          -4.506540298461914,
          5.610797882080078,
          5.957657814025879,
          -11.990058898925781,
          -7.7364115715026855,
          -2.650818109512329,
          1.5911915302276611,
          4.263858795166016,
          3.8422701358795166,
          -6.028016567230225,
          -3.185696840286255,
          8.734313011169434,
          -8.112305641174316,
          -8.777615547180176,
          5.75183629989624,
          1.0224084854125977,
          -4.907608985900879,
          -8.394828796386719,
          -5.522047996520996,
          -6.048312664031982,
          8.315912246704102,
          3.94378662109375,
          -2.4070675373077393,
          -9.76611328125,
          -2.3857767581939697,
          -9.997426986694336,
          3.1259422302246094,
          -6.700565814971924,
          7.063232421875,
          4.585540771484375,
          -1.9469619989395142,
          -8.995920181274414,
          8.727187156677246,
          8.356643676757812,
          1.7033467292785645,
          -10.02338695526123,
          -6.088276386260986,
          8.717039108276367,
          5.283668518066406,
          -0.5214169025421143,
          -1.4187532663345337,
          -0.8812976479530334,
          -4.864414215087891,
          -3.7303998470306396,
          6.701031684875488,
          0.17882633209228516,
          -1.9036916494369507,
          -3.485827684402466,
          2.5544140338897705,
          9.320082664489746,
          -1.0393942594528198,
          -0.13561944663524628,
          -3.1854302883148193,
          -1.752379298210144,
          -9.414907455444336,
          -0.02133483998477459,
          -3.9129750728607178,
          -1.964181661605835,
          3.6940760612487793,
          -5.486082553863525,
          -5.319597244262695,
          -0.01241663470864296,
          4.2927703857421875,
          -2.269033908843994,
          -1.0467946529388428,
          -10.441320419311523,
          7.201943397521973,
          3.054442882537842,
          -4.938483715057373,
          -2.6284806728363037,
          6.335689544677734,
          -5.0845465660095215,
          -7.819978713989258,
          2.719604015350342,
          1.446280598640442,
          3.886026620864868,
          -6.704313278198242,
          0.422541081905365,
          -9.53436279296875,
          -4.870707988739014,
          -4.851019859313965,
          -6.709712982177734,
          -11.235844612121582,
          9.241703987121582,
          -3.3893542289733887,
          -6.3958001136779785,
          6.68717098236084,
          -5.290301322937012,
          1.760963797569275,
          -11.568971633911133,
          -8.0095796585083,
          -2.9202818870544434,
          -7.4411139488220215,
          7.587247371673584,
          5.976670265197754,
          -10.216150283813477,
          8.636222839355469,
          -4.958714962005615,
          0.25969573855400085,
          -10.961130142211914,
          -4.212666034698486,
          -9.72109603881836,
          -2.787926435470581,
          -1.7519696950912476,
          0.44674521684646606,
          5.41817045211792,
          -10.087249755859375,
          6.480823516845703,
          -10.251021385192871,
          4.741826057434082,
          -6.115147590637207,
          -2.761547088623047,
          -2.479189395904541,
          8.482746124267578,
          -0.145857572555542,
          4.453390121459961,
          -1.1381171941757202,
          1.1013193130493164,
          10.288248062133789,
          7.50176477432251,
          3.935967206954956,
          9.439824104309082,
          8.372076988220215,
          5.865396976470947,
          12.460494995117188,
          10.583580017089844,
          -10.652732849121094,
          6.20463228225708,
          3.6568150520324707,
          -0.4540084898471832,
          -2.4692745208740234,
          -9.208952903747559,
          -2.1996967792510986,
          -7.282090663909912,
          8.39804458618164,
          7.7047953605651855,
          -12.077165603637695,
          -10.660502433776855,
          -3.1995413303375244,
          6.058455944061279,
          -4.050333023071289,
          -0.7584446668624878,
          -2.428670883178711,
          -7.410737037658691,
          -11.886099815368652,
          -3.2786903381347656,
          8.76993465423584,
          3.123483180999756,
          0.3042553961277008,
          8.35905647277832,
          6.127679347991943,
          9.417095184326172,
          2.4210503101348877,
          6.032859802246094,
          -5.082673072814941,
          11.343070030212402,
          -2.9047069549560547,
          5.029507160186768,
          3.050342321395874,
          6.187339782714844,
          8.011175155639648,
          6.661437034606934,
          -9.476042747497559,
          -1.0441243648529053,
          -6.826349258422852,
          -6.447758197784424,
          6.83074426651001,
          -9.714564323425293,
          5.97236967086792,
          -1.269868016242981,
          3.3971190452575684,
          -5.101053714752197,
          -0.5956268310546875,
          -0.927740216255188,
          -4.256677150726318,
          -5.471118927001953,
          -11.069845199584961,
          5.19508171081543,
          7.82960844039917,
          -0.044325072318315506,
          0.08381019532680511,
          9.16909122467041,
          -3.6719024181365967,
          0.5295593738555908,
          1.1392344236373901,
          0.4944806694984436,
          7.143251895904541,
          1.1790443658828735,
          10.291328430175781,
          -0.5008347034454346,
          -2.383084297180176,
          -2.338481903076172,
          -6.333671569824219,
          1.866949200630188,
          0.2858966290950775,
          -6.090582370758057,
          -12.732855796813965,
          10.02341365814209,
          -4.341999530792236,
          -0.47465914487838745,
          6.576942443847656,
          8.77517032623291,
          -0.029636967927217484,
          -9.83735179901123,
          6.368758678436279,
          10.505230903625488,
          -1.5101321935653687,
          -11.109780311584473,
          1.4821776151657104,
          -2.8328874111175537,
          0.8536314964294434,
          7.919852256774902,
          5.790439605712891,
          -1.2485201358795166,
          -1.0550166368484497,
          -2.9596340656280518,
          10.709290504455566,
          -7.167636871337891,
          0.23813489079475403,
          -5.706521034240723,
          5.280205726623535,
          8.703558921813965,
          1.0282485485076904,
          -4.097523212432861,
          5.064375877380371,
          -5.66801118850708,
          -10.145831108093262,
          -5.633675575256348,
          -3.305284261703491,
          -6.585543155670166,
          -7.108443737030029,
          -7.352290153503418,
          -5.1883955001831055,
          -0.9566635489463806,
          -2.5047764778137207,
          0.3274754285812378,
          -0.8736221194267273,
          3.0215296745300293,
          -10.250360488891602,
          1.7512394189834595,
          2.4047296047210693,
          -6.261377811431885,
          -10.996878623962402,
          5.551429748535156,
          -5.943645477294922,
          -9.512648582458496,
          10.053980827331543,
          -7.244930744171143,
          -11.767788887023926,
          6.164212703704834,
          1.050875186920166,
          5.5218000411987305,
          4.723994731903076,
          -1.272478699684143,
          2.1475584506988525,
          6.126675128936768,
          7.182175636291504,
          4.032809257507324,
          -1.3674755096435547,
          -5.77230978012085,
          -1.8468430042266846,
          -2.608194589614868,
          13.645536422729492,
          -6.218098163604736,
          1.150848388671875,
          -6.309848308563232,
          7.1935248374938965,
          -4.44984769821167,
          -8.22559642791748,
          6.708494663238525,
          3.5780515670776367,
          3.3343663215637207,
          4.0428009033203125,
          10.619996070861816,
          -4.6838765144348145,
          9.547321319580078,
          -10.191100120544434,
          -5.107694149017334,
          5.0475754737854,
          3.4931061267852783,
          1.151168704032898,
          6.264886856079102,
          5.570236682891846,
          6.619107246398926,
          -2.007019519805908,
          -11.943747520446777,
          1.0108457803726196,
          -10.114255905151367,
          6.372931957244873,
          -5.132419109344482,
          6.938850402832031,
          -6.302803039550781,
          10.333575248718262,
          3.9032468795776367,
          6.273177146911621,
          -12.762706756591797,
          -7.516422748565674,
          -9.56214714050293,
          5.608914375305176,
          -2.768725872039795,
          3.0493714809417725,
          6.268432140350342,
          7.339019298553467,
          -8.478546142578125,
          1.3700000047683716,
          9.045356750488281,
          2.6277801990509033,
          -0.4409278929233551,
          -2.7351131439208984,
          5.470152378082275,
          -7.865636825561523,
          10.549827575683594,
          6.477515697479248,
          6.587947368621826,
          -9.302629470825195,
          7.244054317474365,
          -2.3122081756591797,
          3.1952247619628906,
          -6.479732036590576,
          -5.155432224273682,
          5.085714340209961,
          -8.90523624420166,
          -6.923830509185791,
          -4.618212699890137,
          -0.8430256843566895,
          -0.7959303259849548,
          -9.288796424865723,
          2.902179479598999,
          -5.365695953369141,
          2.335975408554077,
          9.133100509643555,
          3.432478189468384,
          -0.8769475817680359,
          7.923498630523682,
          0.9589982032775879,
          -5.309890270233154,
          4.534981727600098,
          8.374350547790527,
          4.586117267608643,
          -5.942382335662842,
          1.2871040105819702,
          -3.5385711193084717,
          0.3923930823802948,
          -3.2535147666931152,
          6.911042213439941,
          8.011613845825195,
          -12.969653129577637,
          6.178306579589844,
          -7.200992584228516,
          -11.42053508758545,
          -4.725024223327637,
          7.140130043029785,
          3.7494630813598633,
          0.7124066352844238,
          1.3693102598190308,
          6.293163776397705,
          2.385650873184204,
          6.840211391448975,
          4.63224458694458,
          1.2750426530838013,
          3.1004433631896973,
          -4.311975955963135,
          6.178865909576416,
          -1.2522069215774536,
          -8.00847053527832,
          0.5719249844551086,
          -1.7250298261642456,
          2.7214207649230957,
          8.493307113647461,
          -7.8943657875061035,
          -0.6649911999702454,
          0.9998229146003723,
          7.791847229003906,
          -3.136500835418701,
          -4.857299327850342,
          9.406440734863281,
          7.91570520401001,
          -9.981369018554688,
          -10.847612380981445,
          4.775784492492676,
          -1.5938972234725952,
          -0.0011437302455306053,
          8.691667556762695,
          6.513052940368652,
          2.4252138137817383,
          -5.042661190032959,
          7.800338268280029,
          -5.051959037780762,
          7.4037251472473145,
          1.1964585781097412,
          5.744175434112549,
          -11.856281280517578,
          -8.877388000488281,
          8.044513702392578,
          -1.3559015989303589,
          -8.432732582092285,
          3.1096649169921875,
          6.63718843460083,
          7.653017520904541,
          -2.0564727783203125,
          -8.281098365783691,
          -0.9941904544830322,
          -1.865815281867981,
          5.019448757171631,
          7.058238506317139,
          -5.08224630355835,
          -4.870119094848633,
          6.062943458557129,
          4.7441606521606445,
          0.5998549461364746,
          -4.38904333114624,
          2.1232688426971436,
          -10.575936317443848,
          1.6741292476654053,
          -8.411811828613281,
          -0.5918062925338745,
          -4.232333183288574,
          7.915243625640869,
          7.2226080894470215,
          0.07289531826972961,
          7.15889310836792,
          2.976759195327759,
          -11.61707592010498,
          -7.379483699798584,
          7.774831295013428,
          8.016718864440918,
          6.254323959350586,
          -7.240598678588867,
          -0.6357284784317017,
          -9.519187927246094,
          2.1982762813568115,
          -4.135305404663086,
          0.4859665632247925,
          -1.686371088027954,
          6.956727981567383,
          -3.3954532146453857,
          6.063950538635254,
          -12.05272102355957,
          6.216911315917969,
          -10.797497749328613,
          -0.13433106243610382,
          -4.3286519050598145,
          -3.4383127689361572,
          12.425152778625488,
          -4.076694011688232,
          7.475671768188477,
          6.459855079650879,
          0.0032603663858026266,
          6.503452777862549,
          -3.7337746620178223,
          12.563902854919434,
          -9.38026237487793,
          3.308223247528076,
          5.437725067138672,
          -1.3513792753219604,
          -0.5735291242599487,
          2.648531436920166,
          -3.5509467124938965,
          3.5966217517852783,
          6.829738140106201,
          -2.0346641540527344,
          -2.225067138671875,
          -2.764028310775757,
          -2.703129768371582,
          7.30721378326416,
          5.629946708679199,
          -2.9683945178985596,
          -0.567954957485199,
          6.785182952880859,
          -4.729733467102051,
          -10.599235534667969,
          -7.717320919036865,
          -1.0979013442993164,
          -9.131711959838867,
          -1.1544883251190186,
          4.055919647216797,
          6.541032791137695,
          7.920302867889404,
          -11.515674591064453,
          -1.9890862703323364,
          0.5985444188117981,
          -1.8506742715835571,
          -10.113332748413086,
          -3.2736566066741943,
          -8.778463363647461,
          8.41515064239502,
          -8.435014724731445,
          -10.489875793457031,
          -3.2766029834747314,
          11.948986053466797,
          -9.157445907592773,
          1.8737084865570068,
          -3.1931862831115723,
          -8.65489673614502,
          1.9571943283081055,
          1.4419374465942383,
          -2.8019440174102783,
          -9.56678295135498,
          0.9124501943588257,
          -1.1739195585250854,
          -6.800314426422119,
          -0.12303420901298523,
          0.8088091015815735,
          4.389652729034424,
          -3.2922298908233643,
          -0.8545888066291809,
          -4.638322830200195,
          -2.4574551582336426,
          -1.8863352537155151,
          9.91237735748291,
          6.229503154754639,
          -1.5966402292251587,
          -7.888120174407959,
          -3.4244561195373535,
          6.910144329071045,
          -2.65415358543396,
          2.0057148933410645,
          -3.466482639312744,
          13.194629669189453,
          -0.9549850225448608,
          7.584230899810791,
          -6.540865421295166,
          -9.840372085571289,
          10.842116355895996,
          -0.16770939528942108,
          5.534046649932861,
          -2.7246415615081787,
          5.7986297607421875,
          -6.935493469238281,
          6.588160514831543,
          6.8124566078186035,
          5.607085227966309,
          -7.097748756408691,
          -6.797179222106934,
          -0.8192570805549622,
          8.81855297088623,
          0.4877000153064728,
          -6.725632667541504,
          -6.409915924072266,
          -8.706101417541504,
          -5.1421966552734375,
          -7.766829490661621,
          5.472105979919434,
          -8.697038650512695,
          4.226434707641602,
          0.5182015299797058,
          -1.3063749074935913,
          2.896362781524658,
          6.7423882484436035,
          6.597085475921631,
          0.5812377333641052,
          3.9482827186584473,
          -6.436370849609375,
          3.08730411529541,
          1.1208089590072632,
          -1.6717071533203125,
          -2.987274646759033,
          8.378707885742188,
          -4.368922233581543,
          0.6150686144828796,
          1.1357845067977905,
          6.366384983062744,
          6.373752593994141,
          7.669557571411133,
          7.413589954376221,
          -0.159898042678833,
          -7.025651454925537,
          8.269383430480957,
          3.2566909790039062,
          -8.095224380493164,
          -12.71674633026123,
          -3.9986279010772705,
          -5.184277057647705,
          2.454538583755493,
          7.589225769042969,
          0.1815672069787979,
          5.559323787689209,
          13.812764167785645,
          -1.8011547327041626,
          5.163197040557861,
          6.410008430480957,
          -11.543745040893555,
          2.743793487548828,
          -10.872330665588379,
          -4.96541690826416,
          -5.493530750274658,
          -3.559915781021118,
          6.985157489776611,
          -1.3319389820098877,
          -6.800584316253662,
          10.53275203704834,
          -3.701387405395508,
          6.063005447387695,
          1.301815152168274,
          6.175528049468994,
          -6.349070072174072,
          -10.045160293579102,
          -11.806991577148438,
          2.366868734359741,
          -0.35783323645591736,
          0.37666240334510803,
          0.09196243435144424,
          4.106256008148193,
          5.191203594207764,
          4.993326187133789,
          -5.097023963928223,
          4.391617298126221,
          -11.888641357421875,
          8.58632755279541,
          0.2320346087217331,
          -2.672499179840088,
          -8.366185188293457,
          -3.423818349838257,
          -0.7341606020927429,
          10.834677696228027,
          7.09909725189209,
          -5.336952209472656,
          -10.543304443359375,
          -5.507143020629883,
          6.331499099731445,
          -2.4463279247283936,
          -1.3015421628952026,
          -10.862919807434082,
          6.755302906036377,
          6.460559368133545,
          3.840998888015747,
          3.1327145099639893,
          0.5296247601509094,
          -3.738288164138794,
          -6.583371639251709,
          4.614503860473633,
          8.846281051635742,
          8.252349853515625,
          7.901739120483398,
          -1.8699854612350464,
          5.996931552886963,
          -3.3261325359344482,
          -7.060619354248047,
          3.244734764099121,
          6.812984943389893,
          4.359160423278809,
          -7.146486759185791,
          -3.5643374919891357,
          6.448394775390625,
          7.837030410766602,
          5.422077178955078,
          -1.166488528251648,
          7.965297698974609,
          -7.03059720993042,
          -2.709076166152954,
          -12.9954833984375,
          -7.300564289093018,
          2.5172319412231445,
          -0.15668916702270508,
          9.74142074584961,
          3.117680788040161,
          7.961193084716797,
          3.0315496921539307,
          7.662628650665283,
          -5.899676322937012,
          7.265283584594727,
          -2.851736545562744,
          -9.6355619430542,
          -5.3890886306762695,
          3.7866806983947754,
          -2.4216763973236084,
          4.22304105758667,
          -3.4577720165252686,
          -4.802213191986084,
          7.386899948120117,
          -3.0963687896728516,
          6.105062961578369,
          7.511153221130371,
          0.44540897011756897,
          2.571105480194092,
          0.30647557973861694,
          -1.063645839691162,
          -5.8882269859313965,
          -5.927587032318115,
          7.3658766746521,
          2.598818063735962,
          -2.2772130966186523,
          8.139235496520996,
          6.555487155914307,
          8.800675392150879,
          -5.48853874206543,
          -3.5250556468963623,
          0.023919284343719482,
          6.483016014099121,
          4.70322847366333,
          -6.056272506713867,
          -2.6121575832366943,
          5.7784271240234375,
          4.500134468078613,
          4.241448879241943,
          4.528164863586426,
          -7.340487957000732,
          1.3761117458343506,
          7.803865909576416,
          -2.092759609222412,
          5.654186248779297,
          -13.09167766571045,
          -9.812297821044922,
          5.928689002990723,
          2.820800304412842,
          -11.41394329071045,
          5.953120231628418,
          0.1153375431895256,
          0.030152427032589912,
          4.820414066314697,
          8.325848579406738,
          -10.532204627990723,
          12.676105499267578,
          8.966533660888672,
          -0.5884711146354675,
          -10.669118881225586,
          6.487062931060791,
          -1.2718926668167114,
          -9.781092643737793,
          2.782296657562256,
          -7.384643077850342,
          11.113661766052246,
          -2.5111501216888428,
          -8.49733829498291,
          3.97046160697937,
          10.85842514038086,
          11.820414543151855,
          3.364344596862793,
          2.9692070484161377,
          4.3364338874816895,
          8.707640647888184,
          7.281447887420654,
          6.802553176879883,
          4.287310600280762,
          -5.8980207443237305,
          -9.784581184387207,
          7.394594192504883,
          9.66980266571045,
          -8.440313339233398,
          2.1886463165283203,
          -7.15521764755249,
          -10.090755462646484,
          4.650689601898193,
          3.4170584678649902,
          5.339895248413086,
          8.316638946533203,
          -2.5199222564697266,
          -1.5840504169464111,
          -10.368958473205566,
          -0.765316367149353,
          10.17895221710205,
          -5.013038635253906,
          4.521370887756348,
          4.044515609741211,
          0.22615639865398407,
          0.9619115591049194,
          7.350122928619385,
          -6.240871429443359,
          11.42342758178711,
          1.626481294631958,
          -6.483700275421143,
          -6.863050937652588,
          -4.960208892822266,
          6.900658130645752,
          1.9700849056243896,
          6.311971664428711,
          -7.915741920471191,
          -2.189286470413208,
          0.6964265704154968,
          10.186088562011719,
          0.4707578122615814,
          -3.1121931076049805,
          4.2316203117370605,
          5.814823150634766,
          -5.082805156707764,
          -11.279090881347656,
          4.313741683959961,
          11.892898559570312,
          1.159319519996643,
          12.15403938293457,
          -3.0795836448669434,
          6.65358829498291,
          8.907456398010254,
          -2.746593713760376,
          -10.56535816192627,
          13.889801979064941,
          -0.18005497753620148,
          -5.757191181182861,
          -2.686579704284668,
          -1.266576886177063,
          -2.9079880714416504,
          8.271075248718262,
          4.67958927154541,
          4.765369892120361,
          1.5557047128677368,
          -8.390769004821777,
          -4.016871452331543,
          1.9241902828216553,
          -1.1375024318695068,
          -5.658829212188721,
          7.697154521942139,
          5.049449443817139,
          1.6602134704589844,
          -7.698983192443848,
          -11.173758506774902,
          3.062847852706909,
          -0.03165531903505325,
          7.50271463394165,
          2.0828471183776855,
          -2.5095996856689453,
          -9.734306335449219,
          0.2107001692056656,
          5.2330427169799805,
          -8.921348571777344,
          -4.783732891082764,
          -0.49095624685287476,
          -9.551410675048828,
          -7.0392842292785645,
          -3.362313747406006,
          -3.9518229961395264,
          8.89761734008789,
          4.86333703994751,
          0.9300968647003174,
          -1.893265724182129,
          2.265946388244629,
          -0.5706669688224792,
          -1.4167319536209106,
          -2.528412342071533,
          -2.7814583778381348,
          7.795446395874023,
          7.577077388763428,
          2.793656826019287,
          10.622018814086914,
          -4.085085868835449,
          5.735623836517334,
          -12.175583839416504,
          -7.6759514808654785,
          8.453967094421387,
          7.0762038230896,
          3.5595364570617676,
          -3.979959487915039,
          -1.5824576616287231,
          4.463165283203125,
          -9.253396987915039,
          4.222283363342285,
          3.041358709335327,
          -0.05884108319878578,
          -6.471246242523193,
          0.45797786116600037,
          -1.572142243385315,
          -2.713569402694702,
          9.031303405761719,
          3.81377911567688,
          -8.200288772583008,
          3.6323416233062744,
          2.9592339992523193,
          -4.6516499519348145,
          10.059274673461914,
          -5.182037830352783,
          -3.419004201889038,
          0.8718927502632141,
          -3.271437883377075,
          -8.335246086120605,
          -0.029418647289276123,
          7.9433488845825195,
          0.62803053855896,
          0.2812562584877014,
          -3.9074599742889404,
          8.121850967407227,
          0.9401865601539612,
          8.580297470092773,
          6.358254432678223,
          12.49180793762207,
          2.6220510005950928,
          0.029051871970295906,
          7.869348049163818,
          2.59708833694458,
          7.804309368133545,
          3.568620443344116,
          2.5134165287017822,
          5.636159896850586,
          -7.867971420288086,
          2.466547966003418,
          -1.2786736488342285,
          3.3967721462249756,
          1.6416476964950562,
          0.34679779410362244,
          3.97338604927063,
          6.9929609298706055,
          -4.544880390167236,
          4.54193639755249,
          -2.05753755569458,
          5.212647438049316,
          7.834846019744873,
          9.873373031616211,
          0.76640385389328,
          -8.112020492553711,
          -6.411977291107178,
          10.36751651763916,
          -0.47172966599464417,
          5.145031929016113,
          -7.404094696044922,
          4.166971206665039,
          6.232933521270752,
          -8.633735656738281,
          0.4346049427986145,
          -5.4188032150268555,
          -5.284942150115967,
          8.474156379699707,
          -1.1353613138198853,
          6.326532363891602,
          -0.9462763667106628,
          -1.2632606029510498,
          5.308013916015625,
          -1.8581953048706055,
          -7.779840469360352,
          -4.050876140594482,
          8.429203987121582,
          4.800705909729004,
          6.341102123260498,
          -6.321996212005615,
          -3.628460645675659,
          -0.10349933803081512,
          -0.11308107525110245,
          -6.039800643920898,
          8.337859153747559,
          2.1723315715789795,
          -2.3944034576416016,
          -1.5635722875595093,
          4.04991340637207,
          4.980443954467773,
          6.506162643432617,
          8.093896865844727,
          6.76727294921875,
          10.357691764831543,
          -7.059847354888916,
          2.6885762214660645,
          1.7377513647079468,
          4.992780685424805,
          6.576637268066406,
          -2.190107822418213,
          -1.8417701721191406,
          -3.7541286945343018,
          9.594974517822266,
          8.53794002532959,
          -3.2124335765838623,
          3.0414927005767822,
          -5.898730278015137,
          -7.110751628875732,
          -4.223693370819092,
          3.8037285804748535,
          4.7710113525390625,
          -11.009052276611328,
          -8.065905570983887,
          4.5487494468688965,
          6.785660266876221,
          7.504324913024902,
          7.141383171081543,
          -3.616122245788574,
          5.749166011810303,
          -8.741628646850586,
          -10.597333908081055,
          -4.9593892097473145,
          -3.185447931289673,
          9.318967819213867,
          3.442713737487793,
          11.355718612670898,
          1.6457759141921997,
          0.2835623025894165,
          5.331943988800049,
          1.6672632694244385,
          -7.4760003089904785,
          8.859619140625,
          -1.4443907737731934,
          -3.8361854553222656,
          7.987753868103027,
          3.1809351444244385,
          -6.4360504150390625,
          4.400653839111328,
          12.499540328979492,
          -10.402036666870117,
          0.44618016481399536,
          -0.23608723282814026,
          -10.68801212310791,
          2.921159029006958,
          1.5892295837402344,
          10.216946601867676,
          -7.703705787658691,
          6.268336296081543,
          0.7938678860664368,
          2.679042100906372,
          -4.663313388824463,
          4.309702396392822,
          1.1586040258407593,
          -11.666333198547363,
          1.6805458068847656,
          9.966419219970703,
          -0.10068121552467346,
          6.771162509918213,
          7.23624324798584,
          8.356980323791504,
          10.533553123474121,
          -3.7487525939941406,
          11.599396705627441,
          5.166580677032471,
          -5.087561130523682,
          -6.877708911895752,
          -0.17894995212554932,
          -4.7914347648620605,
          -3.194674015045166,
          8.921801567077637,
          -8.668166160583496,
          -2.8207197189331055,
          -3.38165283203125,
          2.1595795154571533,
          -4.817123889923096,
          -5.448203086853027,
          5.190797805786133,
          -8.608651161193848,
          1.7453504800796509,
          5.777760028839111,
          -1.2001807689666748,
          7.00031852722168,
          -5.443284034729004,
          7.317639350891113,
          0.593811571598053,
          -3.6808977127075195,
          -8.720528602600098,
          7.984517574310303,
          10.025040626525879,
          -2.588207960128784,
          7.473946571350098,
          -9.569792747497559,
          -4.013096332550049,
          5.907503128051758,
          -8.551165580749512,
          -3.517982244491577,
          -3.1034653186798096,
          -7.78560733795166,
          6.60487699508667,
          11.172168731689453,
          6.711935520172119,
          -6.459595680236816,
          6.828429698944092,
          -2.331364631652832,
          -0.6017543077468872,
          2.005671977996826,
          3.5911314487457275,
          -4.290114402770996,
          -1.8590400218963623,
          6.000054836273193,
          -0.7788636088371277,
          -9.349681854248047,
          3.841844081878662,
          5.003633975982666,
          3.2032737731933594,
          -1.4934916496276855,
          -4.246589660644531,
          6.176567077636719,
          10.893197059631348,
          9.427814483642578,
          3.9399726390838623,
          5.6584954261779785,
          1.6888649463653564,
          1.5892995595932007,
          -9.397713661193848,
          -1.1195560693740845,
          -2.4715359210968018,
          -9.583589553833008,
          3.6627941131591797,
          -0.812341034412384,
          -4.481595993041992,
          -0.7266194820404053,
          -0.21612317860126495,
          -2.2843375205993652,
          7.818126201629639,
          4.786679267883301,
          8.365578651428223,
          3.894538640975952,
          6.744457244873047,
          -0.43491318821907043,
          -0.5300922393798828,
          6.087696075439453,
          -1.998447299003601,
          -8.852431297302246,
          4.340277671813965,
          -7.301899433135986,
          -5.051680564880371,
          8.332192420959473,
          -5.234897613525391,
          12.26197338104248,
          -8.240171432495117,
          -0.05933256819844246,
          7.164999008178711,
          12.237863540649414,
          -3.3479723930358887,
          8.245567321777344,
          -12.689186096191406,
          12.350475311279297,
          -3.873175621032715,
          -0.3281164765357971,
          -9.887054443359375,
          -3.542407751083374,
          -4.230116367340088,
          6.8769989013671875,
          -6.3901753425598145,
          8.797541618347168,
          8.1605224609375,
          -5.0292205810546875,
          -3.417773723602295,
          6.165999412536621,
          7.4446892738342285,
          -6.990961074829102,
          6.0168328285217285,
          -1.2417410612106323,
          3.738424301147461,
          -1.070621132850647,
          -4.401886463165283,
          -1.2602723836898804,
          -9.698993682861328,
          0.581774115562439,
          6.950371265411377,
          5.730659008026123,
          -3.079357385635376,
          5.380385398864746,
          12.255732536315918,
          1.7471168041229248,
          5.958123207092285,
          12.017518997192383,
          -11.025365829467773,
          7.550344467163086,
          2.7370479106903076,
          3.473268508911133,
          -5.818418025970459,
          4.013099670410156,
          5.958449840545654,
          7.53985071182251,
          -7.6739702224731445,
          -5.115147590637207,
          0.9296074509620667,
          3.8748464584350586,
          -2.7603659629821777,
          -2.119436740875244,
          -2.81002140045166,
          2.9666452407836914,
          -7.760263442993164,
          0.2415991872549057,
          10.390289306640625,
          -10.19013500213623,
          -4.535742282867432,
          10.675480842590332,
          0.1282145231962204,
          5.9690985679626465,
          -2.8990437984466553,
          9.03729248046875,
          5.805785655975342,
          -4.338021278381348,
          4.316518306732178,
          3.462022542953491,
          -2.528648614883423,
          -4.816575050354004,
          4.4572248458862305,
          -5.313150882720947,
          -2.2183549404144287,
          -1.0795539617538452,
          -10.046711921691895,
          0.7660778164863586,
          7.541518688201904,
          -9.032615661621094,
          0.40137484669685364,
          0.6943722367286682,
          -9.008759498596191,
          -8.102008819580078,
          -3.7419865131378174,
          -1.1452693939208984,
          -3.430853843688965,
          3.018876075744629,
          8.137894630432129,
          1.3030695915222168,
          -10.352038383483887,
          -1.2780559062957764,
          4.9453840255737305,
          5.431640625,
          -9.663249969482422,
          -8.667740821838379,
          3.6446127891540527,
          6.596476078033447,
          3.2954792976379395,
          -2.1312692165374756,
          3.3177788257598877,
          -1.545702576637268,
          0.4102479815483093,
          -10.350371360778809,
          -0.35797247290611267,
          -5.5629191398620605,
          -0.3383655250072479,
          -3.5849366188049316,
          -5.3517842292785645,
          3.425967216491699,
          -4.009478569030762,
          3.4041969776153564,
          5.502228260040283,
          6.3323187828063965,
          -0.38963156938552856,
          -4.904263019561768,
          2.5261056423187256,
          7.368987083435059,
          -5.366718769073486,
          8.125377655029297,
          -3.250415563583374,
          -5.720718860626221,
          3.703258752822876,
          5.209356307983398,
          10.08804988861084,
          -6.961073398590088,
          -3.4001355171203613,
          -9.772854804992676,
          7.415219783782959,
          -4.646553039550781,
          -2.4081149101257324,
          7.383114337921143,
          7.87557315826416,
          -5.484700679779053,
          6.20589017868042,
          -2.4220547676086426,
          -6.769952297210693,
          6.915014266967773,
          9.921998977661133,
          7.364866256713867,
          -11.749582290649414,
          -7.92253303527832,
          6.140028953552246,
          -8.939309120178223,
          -6.688386917114258,
          8.831393241882324,
          -0.41068387031555176,
          5.487824440002441,
          -4.9236531257629395,
          -8.817455291748047,
          7.486105918884277,
          10.55679702758789,
          -9.885345458984375,
          2.9397149085998535,
          3.3223721981048584,
          6.496121883392334,
          5.2310991287231445,
          8.628183364868164,
          3.343183755874634,
          7.522618293762207,
          3.1584253311157227,
          -7.3491291999816895,
          -11.827978134155273,
          3.1824071407318115,
          -3.227039337158203,
          7.231066703796387,
          -2.2447545528411865,
          7.050337314605713,
          3.1144890785217285,
          -1.2945722341537476,
          -5.955676078796387,
          1.1633310317993164,
          -2.473090410232544,
          -3.932796001434326,
          1.9374817609786987,
          4.018512725830078,
          12.782505989074707,
          -0.7559367418289185,
          0.1816408336162567,
          -4.066318511962891,
          8.395174026489258,
          4.807487964630127,
          8.805005073547363,
          11.03441333770752,
          -0.07158089429140091,
          3.5966851711273193,
          8.912406921386719,
          5.851817607879639,
          -4.66453742980957,
          5.5372772216796875,
          -8.236844062805176,
          0.8054172396659851,
          -4.5984344482421875,
          3.3110785484313965,
          8.620416641235352,
          6.572396278381348,
          -7.754733562469482,
          -10.728135108947754,
          -9.56027889251709,
          0.36628326773643494,
          -1.161834716796875,
          3.554680109024048,
          1.5348423719406128,
          -3.3813045024871826,
          -2.0609946250915527,
          -1.5567569732666016,
          -8.728099822998047,
          3.8397555351257324,
          -2.553720712661743,
          -8.157614707946777,
          -9.047420501708984,
          0.009513364173471928,
          -2.920044183731079,
          10.608799934387207,
          5.018214702606201,
          -3.1259610652923584,
          8.241344451904297,
          -3.9429097175598145,
          1.3686883449554443,
          -6.462152481079102,
          10.716083526611328,
          -0.9260357618331909,
          -8.839007377624512,
          11.590765953063965,
          -9.12322998046875,
          2.3135502338409424,
          -4.073443412780762,
          3.3523364067077637,
          -3.954767942428589,
          5.553233623504639,
          5.178118705749512,
          7.089096546173096,
          -0.9587641358375549,
          -5.242829322814941,
          8.454652786254883,
          3.667792797088623,
          -8.897302627563477,
          8.116413116455078,
          -8.97571849822998,
          8.814628601074219,
          -3.4364757537841797,
          5.978204727172852,
          3.3792078495025635,
          -3.571859836578369,
          -3.9984207153320312,
          -2.350773811340332,
          2.699059247970581,
          4.199383735656738,
          0.03933166339993477,
          7.147430419921875,
          -6.72710657119751,
          -10.541269302368164,
          4.23715353012085,
          0.09519938379526138,
          -7.6561737060546875,
          -8.80366039276123,
          2.949880599975586,
          0.10135281831026077,
          5.781604766845703,
          -1.4551701545715332,
          -4.596366882324219,
          6.345957279205322,
          -8.319080352783203,
          -10.024859428405762,
          -2.7303755283355713,
          1.0285117626190186,
          -0.3578997850418091,
          6.221076011657715,
          -0.8786888122558594,
          -3.660691738128662,
          -0.24884997308254242,
          1.5801695585250854,
          5.5817131996154785,
          11.290251731872559,
          -6.726152420043945,
          2.2959234714508057,
          3.1749000549316406,
          -3.344705581665039,
          3.702141761779785,
          7.469014644622803,
          -10.113333702087402,
          9.274169921875,
          4.110561847686768,
          -5.115509510040283,
          -5.962540149688721,
          -5.49461030960083,
          -6.188797950744629,
          -1.4910705089569092,
          -4.733291149139404,
          3.7848081588745117,
          -4.442748546600342,
          -8.95174503326416,
          7.205358028411865,
          1.193396806716919,
          3.110893726348877,
          1.2521209716796875,
          6.414242744445801,
          -6.264347076416016,
          -0.8514618873596191,
          -7.54078483581543,
          9.173429489135742,
          5.24194860458374,
          1.8207058906555176,
          3.7453067302703857,
          -0.5502263307571411,
          0.6728663444519043,
          4.651733875274658,
          4.427175045013428,
          -9.28320026397705,
          -6.0773091316223145,
          6.1163506507873535,
          7.547407150268555,
          7.115606784820557,
          5.102750301361084,
          -8.734591484069824,
          8.262237548828125,
          -4.451140880584717,
          -6.340333461761475,
          -3.4069178104400635,
          -4.5251922607421875,
          10.19145393371582,
          -1.0342891216278076,
          0.13644513487815857,
          -8.021750450134277,
          -4.790396213531494,
          -6.595386028289795,
          5.749545574188232,
          5.776557445526123,
          11.28475570678711,
          10.37881851196289,
          4.64312219619751,
          -2.3469114303588867,
          1.574541687965393,
          2.9516499042510986,
          -11.478703498840332,
          10.035286903381348,
          0.3683600425720215,
          -5.957711219787598,
          0.7351734042167664,
          6.694022178649902,
          10.471155166625977,
          5.776612758636475,
          -3.4592957496643066,
          11.426525115966797,
          -5.966399192810059,
          5.011653900146484,
          -5.632040500640869,
          -8.754414558410645,
          6.412275791168213,
          2.4491753578186035,
          6.180278778076172,
          -0.42278555035591125,
          -2.616870880126953,
          -5.168004035949707,
          -5.141051769256592,
          0.22909267246723175,
          0.6823269724845886,
          3.0494368076324463,
          8.087119102478027,
          -5.986178874969482,
          7.515746593475342,
          4.162206649780273,
          -8.95941162109375,
          -2.7757081985473633,
          -7.748457908630371,
          6.224430084228516,
          5.017582416534424,
          5.837158203125,
          0.6389180421829224,
          6.380891799926758,
          0.29977524280548096,
          -4.932286262512207,
          -4.409934043884277,
          5.9689040184021,
          -5.706960678100586,
          1.5667742490768433,
          6.703303813934326,
          -4.913637161254883,
          -3.30128812789917,
          3.6506998538970947,
          -9.424174308776855,
          -10.02477741241455,
          3.917693614959717,
          3.6452229022979736,
          -0.2081775963306427,
          4.746556758880615,
          5.510298252105713,
          -5.692407131195068,
          6.053344249725342,
          7.290860652923584,
          6.552125453948975,
          -2.433962345123291,
          -2.0600602626800537,
          -11.033313751220703,
          0.5563452243804932,
          0.24900420010089874,
          -12.685394287109375,
          2.93424391746521,
          2.723749876022339,
          -6.160482406616211,
          6.384117126464844,
          -1.7944194078445435,
          1.3513329029083252,
          4.1877970695495605,
          -10.167436599731445,
          1.1562927961349487,
          -6.538464069366455,
          2.912358283996582,
          2.560410976409912,
          0.9208943247795105,
          -8.835450172424316,
          -2.199375867843628,
          -0.012220853939652443,
          0.7919925451278687,
          8.198525428771973,
          -2.284226655960083,
          -8.518282890319824,
          6.7009992599487305,
          -3.2374231815338135,
          4.256547451019287,
          3.8243536949157715,
          -6.716012477874756,
          0.5014413595199585,
          1.1333608627319336,
          6.603696823120117,
          0.1689920574426651,
          0.6664916276931763,
          -0.4040125608444214,
          5.392083644866943,
          -5.927615165710449,
          -1.6725573539733887,
          -6.322531223297119,
          -5.104803562164307,
          -3.3891868591308594,
          -3.007310390472412,
          8.896895408630371,
          4.932557106018066,
          -4.604345321655273,
          7.324324607849121,
          1.0842599868774414,
          4.683194637298584,
          7.8593902587890625,
          -6.870602607727051,
          -4.89208984375,
          -1.8125499486923218,
          -5.758803844451904,
          5.0193705558776855,
          -1.2042944431304932,
          9.444610595703125,
          -3.8503611087799072,
          -3.537210464477539,
          -8.351421356201172,
          -10.036555290222168,
          3.701049327850342,
          8.441315650939941,
          5.112689018249512,
          10.589788436889648,
          0.46491917967796326,
          3.000852346420288,
          4.853128910064697,
          -2.7523977756500244,
          -11.602269172668457,
          -6.490151882171631,
          3.5064151287078857,
          9.127466201782227,
          0.25248852372169495,
          7.146307945251465,
          7.76656436920166,
          0.5003669261932373,
          0.718583881855011,
          6.543783664703369,
          -4.5919880867004395,
          -5.233675479888916,
          1.5341380834579468,
          -9.71463680267334,
          6.460649490356445,
          -7.081021785736084,
          -4.232569217681885,
          3.604200839996338,
          -5.426713466644287,
          -12.710598945617676,
          3.9432268142700195,
          6.105596542358398,
          3.532132625579834,
          -5.897761344909668,
          -8.291231155395508,
          -0.9605951905250549,
          -8.258977890014648,
          6.527886867523193,
          -4.275917053222656,
          -2.62536883354187,
          -2.7580506801605225,
          -2.6125903129577637,
          -9.62243938446045,
          -1.2643612623214722,
          -12.377397537231445,
          2.119460105895996,
          -3.217212200164795,
          -6.316592693328857,
          2.4970345497131348,
          -12.569446563720703,
          10.325024604797363,
          11.030754089355469,
          -8.162191390991211,
          4.711327075958252,
          -2.8203563690185547,
          -5.952067852020264,
          0.4550909101963043,
          7.164710998535156,
          -3.629692316055298,
          -2.2479915618896484,
          5.962138652801514,
          4.537577152252197,
          -12.273378372192383,
          8.076530456542969,
          -4.678350925445557,
          -0.8032774925231934,
          7.154603958129883,
          -8.357379913330078,
          -1.7172492742538452,
          5.517843723297119,
          -5.147826671600342,
          8.057458877563477,
          2.0997061729431152,
          -5.941609859466553,
          6.611189842224121,
          8.683415412902832,
          0.44411182403564453,
          6.485685348510742,
          -6.982747554779053,
          2.759721279144287,
          -6.979180812835693,
          7.343461513519287,
          4.977555751800537,
          2.4349024295806885,
          -1.1208535432815552,
          -10.53173542022705,
          -11.261631965637207,
          -6.4498395919799805,
          11.744200706481934,
          -2.2598140239715576,
          -7.175543308258057,
          -4.433444499969482,
          3.342076063156128,
          7.025586128234863,
          5.811489105224609,
          9.231618881225586,
          -1.7117666006088257,
          -2.2406277656555176,
          2.2417514324188232,
          -4.039112091064453,
          7.895601272583008,
          1.8900901079177856,
          -8.767873764038086,
          -0.15798386931419373,
          -5.332249641418457,
          -5.655030250549316,
          -5.092074394226074,
          -10.985827445983887,
          -2.4820735454559326,
          4.744340419769287,
          0.9222458600997925,
          2.824714422225952,
          -3.676300525665283,
          3.5580356121063232,
          -2.512718439102173,
          5.140454292297363,
          -5.417189598083496,
          -5.4781904220581055,
          -5.538217067718506,
          5.465937614440918,
          -1.0201681852340698,
          -8.6455717086792,
          8.306471824645996,
          -2.5066232681274414,
          -5.87747049331665,
          10.218178749084473,
          1.765384554862976,
          2.3359575271606445,
          0.16442778706550598,
          3.4711978435516357,
          -4.8740715980529785,
          7.299741268157959,
          13.63446044921875,
          -0.2062654048204422,
          9.247440338134766,
          -4.79917049407959,
          5.79566764831543,
          -3.0705645084381104,
          -2.0414347648620605,
          2.752556085586548,
          -3.3058319091796875,
          6.532252788543701,
          8.368428230285645,
          9.710000038146973,
          0.6860523819923401,
          0.7353438138961792,
          3.115821599960327,
          -6.972217082977295,
          0.6847774982452393,
          3.253884792327881,
          4.686770915985107,
          -4.695159912109375,
          -9.735939979553223,
          -10.548629760742188,
          8.675833702087402,
          1.0121593475341797,
          -1.0284079313278198,
          -8.822893142700195,
          -3.3573107719421387,
          3.1662511825561523,
          -3.813516855239868,
          3.829237937927246,
          -1.2772897481918335,
          3.4704253673553467,
          12.18177604675293,
          9.661147117614746,
          -5.524231910705566,
          0.698251485824585,
          5.410398483276367,
          -1.3540198802947998,
          -3.9942967891693115,
          2.0936174392700195,
          -11.615460395812988,
          4.073465347290039,
          6.005363941192627,
          0.21867676079273224,
          -3.4586620330810547,
          -5.057101726531982,
          -5.555490016937256,
          5.823544502258301,
          9.713456153869629,
          -1.6469069719314575,
          -7.053614616394043,
          -6.072823524475098,
          -2.159557342529297,
          -5.131136894226074,
          -6.634236812591553,
          3.926069974899292,
          9.034486770629883,
          -11.07425594329834,
          -2.104936122894287,
          0.7091111540794373,
          -0.3056200444698334,
          5.999875545501709,
          -6.800255298614502,
          -12.716095924377441,
          -2.1146934032440186,
          -9.10437297821045,
          -3.006509780883789,
          -6.002956390380859,
          0.3427984118461609,
          -4.192866325378418,
          5.964470386505127,
          -5.525006294250488,
          -6.7526984214782715,
          2.0640292167663574,
          -1.390067219734192,
          12.524406433105469,
          -5.4579057693481445,
          -5.273465156555176,
          -0.963645875453949,
          -0.1776268482208252,
          -3.6077170372009277,
          8.172687530517578,
          -5.986586570739746,
          -11.821038246154785,
          14.431375503540039,
          -6.886811256408691,
          -0.03478164225816727,
          3.742753028869629,
          1.2682254314422607,
          -2.7595784664154053,
          0.6153832077980042,
          -8.73888874053955,
          -11.507368087768555,
          -6.398674964904785,
          11.994935989379883,
          -10.46595287322998,
          -4.090529441833496,
          -5.070407390594482,
          4.257274150848389,
          -3.5926010608673096,
          -2.2801384925842285,
          -5.447929859161377,
          6.680984973907471,
          -8.38608455657959,
          -3.1884829998016357,
          2.2051005363464355,
          0.27971023321151733,
          -4.0742692947387695,
          -5.706567287445068,
          -5.042922019958496,
          -4.9106059074401855,
          4.5798020362854,
          5.405935764312744,
          -0.7852485179901123,
          0.06480475515127182,
          1.587844729423523,
          7.6641764640808105,
          -4.222838401794434,
          -5.496877193450928,
          -11.492660522460938,
          -0.41272637248039246,
          -5.865298271179199,
          -8.151541709899902,
          0.9944484829902649,
          5.743210315704346,
          8.317423820495605,
          -1.010642647743225,
          -6.467149257659912,
          0.6392996907234192,
          0.2685932219028473,
          3.0776612758636475,
          -7.493575096130371,
          -6.323270797729492,
          -6.272986888885498,
          3.860576629638672,
          5.609524726867676,
          7.972257137298584,
          8.055337905883789,
          -2.9324710369110107,
          5.437191486358643,
          7.9810967445373535,
          -1.3569039106369019,
          -4.795403957366943,
          1.121719479560852,
          -6.904256820678711,
          3.886474370956421,
          0.3357279896736145,
          -4.873650550842285,
          4.223801612854004,
          6.250247478485107,
          0.16093166172504425,
          4.874159812927246,
          -12.070691108703613,
          6.590200424194336,
          3.5287485122680664,
          -2.3927459716796875,
          -1.951683759689331,
          -0.018615975975990295,
          4.02305269241333,
          -4.314265727996826,
          0.4034348726272583,
          6.8262858390808105,
          -2.642508029937744,
          4.0862345695495605,
          -9.98134708404541,
          2.624493360519409,
          2.3542041778564453,
          6.3034234046936035,
          -3.2082114219665527,
          4.766505718231201,
          5.344705581665039,
          1.9440616369247437,
          11.383233070373535,
          3.5146164894104004,
          6.528536319732666,
          6.32352352142334,
          0.5807226300239563,
          3.8793609142303467,
          11.74881649017334,
          4.609257221221924,
          -3.8786463737487793,
          9.055784225463867,
          -5.199918746948242,
          -5.3692755699157715,
          2.7742092609405518,
          6.783884048461914,
          5.852757453918457,
          -1.798818588256836,
          -0.14863188564777374,
          -6.642666816711426,
          -4.536177158355713,
          -2.720546007156372,
          6.133080959320068,
          -2.2163186073303223,
          -9.875672340393066,
          0.8420162200927734,
          9.670690536499023,
          -1.1956617832183838,
          7.478521347045898,
          3.832109212875366,
          8.08294677734375,
          5.438153266906738,
          -10.648316383361816,
          2.997663974761963,
          -0.0041976794600486755,
          -7.008877277374268,
          -3.9343528747558594,
          -7.3561859130859375,
          -5.829227924346924,
          6.0969953536987305,
          -2.46380615234375,
          -3.1678338050842285,
          4.483864784240723,
          -5.292102813720703,
          -8.462018966674805,
          8.153904914855957,
          7.707074165344238,
          6.989561080932617,
          0.5075454711914062,
          -1.269195318222046,
          -7.9493842124938965,
          6.810746669769287,
          4.471776962280273,
          5.4666547775268555,
          -9.74052906036377,
          5.182621002197266,
          5.011882305145264,
          -4.12473726272583,
          0.5622962117195129,
          -3.367676019668579,
          -8.895004272460938,
          -4.013710975646973,
          0.5047813653945923,
          -8.742941856384277,
          5.095734119415283,
          -0.470878541469574,
          -3.3835084438323975,
          1.878297209739685,
          -1.9997361898422241,
          -9.311819076538086,
          -2.3057897090911865,
          -5.535641193389893,
          0.1026981994509697,
          -5.875605583190918,
          -5.273813247680664,
          -2.0333142280578613,
          6.509311676025391,
          -7.164769172668457,
          -0.6693922281265259,
          -11.993227005004883,
          8.574913024902344,
          -2.5515811443328857,
          8.35750675201416,
          4.332162857055664,
          6.698322296142578,
          2.33398175239563,
          6.484715461730957,
          -0.05957472696900368,
          -4.789249420166016,
          -8.709630012512207,
          -5.767691135406494,
          -8.118033409118652,
          9.154671669006348,
          3.315817356109619,
          -7.415596961975098,
          5.14674186706543,
          -11.857110023498535,
          -5.0827250480651855,
          5.538949489593506,
          1.0411163568496704,
          -0.2359628528356552,
          7.611550807952881,
          6.933371067047119,
          2.2477595806121826,
          6.908432960510254,
          4.47047758102417,
          -0.47377288341522217,
          -0.7046390771865845,
          3.3113131523132324,
          1.767460823059082,
          -9.853752136230469,
          -2.9420292377471924,
          5.94619083404541,
          -1.4142602682113647,
          -1.8997024297714233,
          5.357268333435059,
          8.516318321228027,
          0.022732188925147057,
          4.215087413787842,
          -0.5726993083953857,
          0.729387104511261,
          6.113301753997803,
          1.6002260446548462,
          3.704782485961914,
          5.966965675354004,
          -5.084597110748291,
          -7.474312782287598,
          -0.8665497303009033,
          0.34781262278556824,
          -6.659629821777344,
          -3.1440036296844482,
          6.538900375366211,
          4.196164608001709,
          -8.99970817565918,
          -4.673025131225586,
          2.7095088958740234,
          -5.934080600738525,
          -8.971908569335938,
          -6.716623306274414,
          0.19930090010166168,
          -10.917584419250488,
          -1.1735143661499023,
          8.292585372924805,
          9.165912628173828,
          -3.3877339363098145,
          -3.589740514755249,
          1.1218701601028442,
          8.99262523651123,
          -2.5585532188415527,
          -12.594339370727539,
          -4.245569705963135
         ],
         "z": [
          3.6553902626037598,
          -10.366868019104004,
          -0.13583490252494812,
          1.9572474956512451,
          -1.5124458074569702,
          4.378955841064453,
          -9.502189636230469,
          5.682467460632324,
          -8.397305488586426,
          -4.617405891418457,
          -7.159353733062744,
          0.2734626531600952,
          8.438375473022461,
          3.319282054901123,
          7.169154167175293,
          7.588397026062012,
          2.9480011463165283,
          3.3055479526519775,
          5.276421546936035,
          -8.825542449951172,
          0.5850149989128113,
          0.7966770529747009,
          -5.612559795379639,
          -4.14599084854126,
          -2.4224703311920166,
          4.105538845062256,
          2.498549222946167,
          4.494666576385498,
          5.355709552764893,
          -9.351000785827637,
          9.005152702331543,
          2.5003840923309326,
          -4.26883602142334,
          4.90000581741333,
          -2.265204668045044,
          2.3243484497070312,
          -3.9950554370880127,
          -0.4981818199157715,
          7.53239631652832,
          -4.8753204345703125,
          5.864491939544678,
          -0.12487915903329849,
          5.841603755950928,
          -4.08845329284668,
          -0.8922436237335205,
          5.9020819664001465,
          4.367659091949463,
          -3.886427402496338,
          3.3537919521331787,
          -10.357512474060059,
          -7.70644474029541,
          -5.033311367034912,
          -8.725845336914062,
          0.623374879360199,
          8.056337356567383,
          7.866934776306152,
          -5.86912727355957,
          7.092765808105469,
          8.028037071228027,
          4.299370765686035,
          7.026185035705566,
          1.3720065355300903,
          -11.928766250610352,
          1.4639910459518433,
          0.4294337332248688,
          5.490166664123535,
          -12.851820945739746,
          -5.2589111328125,
          4.319136619567871,
          0.0970848947763443,
          -5.737853050231934,
          4.292064189910889,
          -6.771212577819824,
          0.8929224610328674,
          2.2673909664154053,
          5.847622394561768,
          2.7541980743408203,
          6.278223991394043,
          7.957776069641113,
          -5.389090061187744,
          2.9975104331970215,
          3.9093143939971924,
          3.038774251937866,
          -4.045024871826172,
          -2.379713773727417,
          2.258291721343994,
          -3.5291709899902344,
          3.166416883468628,
          -3.2314612865448,
          -4.059841632843018,
          1.766299843788147,
          8.141744613647461,
          9.737730026245117,
          9.725266456604004,
          1.527133822441101,
          -4.4001970291137695,
          6.5860137939453125,
          12.395757675170898,
          9.917802810668945,
          4.920168876647949,
          6.584920406341553,
          1.3422272205352783,
          -5.843170642852783,
          7.722659587860107,
          6.5751495361328125,
          7.393271446228027,
          -7.095239639282227,
          0.05431476980447769,
          -3.90714430809021,
          -1.3994590044021606,
          13.49866771697998,
          -4.086461067199707,
          -6.675817012786865,
          -3.0213890075683594,
          -2.4398581981658936,
          2.4844515323638916,
          3.407123565673828,
          -1.992283582687378,
          6.320436954498291,
          5.235734939575195,
          -4.515476226806641,
          -3.729480504989624,
          3.8179216384887695,
          4.753354549407959,
          3.2180233001708984,
          -2.9566729068756104,
          2.4374005794525146,
          -9.669968605041504,
          7.187486171722412,
          4.619802951812744,
          4.6725263595581055,
          11.928627014160156,
          -2.4065287113189697,
          8.79336929321289,
          -3.3589179515838623,
          9.725866317749023,
          12.90512466430664,
          -10.59454345703125,
          3.601125955581665,
          8.107931137084961,
          -6.420116901397705,
          8.167582511901855,
          -8.143521308898926,
          -1.4342360496520996,
          -1.0599161386489868,
          -0.48812049627304077,
          7.1940083503723145,
          -0.27382737398147583,
          2.412198066711426,
          2.368605613708496,
          -5.551771640777588,
          -4.8423590660095215,
          -0.843687891960144,
          8.058785438537598,
          0.7569121718406677,
          0.48315709829330444,
          -3.845896005630493,
          -0.35265907645225525,
          5.798108100891113,
          0.5550001263618469,
          3.1704342365264893,
          8.644360542297363,
          -0.03200836852192879,
          -8.686513900756836,
          -6.252939224243164,
          -3.839625358581543,
          0.07566127181053162,
          4.868861675262451,
          2.397491216659546,
          0.7681901454925537,
          -4.426208019256592,
          4.525052547454834,
          -6.1447038650512695,
          -6.053427696228027,
          0.5501313805580139,
          5.803168773651123,
          -10.393413543701172,
          2.9339730739593506,
          5.172684192657471,
          -3.7154834270477295,
          2.4288859367370605,
          10.58934497833252,
          -5.7441630363464355,
          3.452923059463501,
          4.597564220428467,
          -8.942989349365234,
          3.76829195022583,
          -0.9696326851844788,
          -12.461921691894531,
          -11.555182456970215,
          -2.514575481414795,
          7.807535171508789,
          5.1960272789001465,
          3.3263561725616455,
          5.761405944824219,
          -2.248971939086914,
          -8.372407913208008,
          -3.6237809658050537,
          -6.642382621765137,
          10.389348030090332,
          4.673828125,
          4.065406799316406,
          -1.2258410453796387,
          -2.921880006790161,
          0.12097842246294022,
          -1.7283037900924683,
          -12.865954399108887,
          -0.6656380295753479,
          -11.564614295959473,
          0.6114988923072815,
          -10.962255477905273,
          -10.318499565124512,
          -3.168203592300415,
          1.496238350868225,
          -2.7626805305480957,
          -1.3524643182754517,
          12.678658485412598,
          -2.5587050914764404,
          11.012608528137207,
          0.19878794252872467,
          11.59341049194336,
          -3.2950682640075684,
          5.038496017456055,
          1.688236951828003,
          4.494931697845459,
          2.109163522720337,
          -4.006157875061035,
          -8.666196823120117,
          1.2665053606033325,
          2.2909703254699707,
          7.679835796356201,
          2.5629889965057373,
          -11.061074256896973,
          -0.7351219058036804,
          1.3956410884857178,
          -8.29746150970459,
          -8.648835182189941,
          3.191051483154297,
          -13.317405700683594,
          6.84778356552124,
          5.548698902130127,
          -0.3418591320514679,
          -0.5932103991508484,
          -2.1692283153533936,
          -1.7825846672058105,
          4.680642604827881,
          0.24322940409183502,
          -0.5883559584617615,
          -12.512182235717773,
          -3.108560800552368,
          -1.6411596536636353,
          5.91931676864624,
          6.980649471282959,
          -11.33635425567627,
          7.1860551834106445,
          3.7799863815307617,
          3.3023874759674072,
          -3.281569719314575,
          5.735888957977295,
          8.490595817565918,
          13.123603820800781,
          -6.107673645019531,
          -5.987842082977295,
          4.848862171173096,
          -10.216517448425293,
          -6.818613052368164,
          0.5446491837501526,
          5.355173110961914,
          -8.627039909362793,
          6.423563003540039,
          4.52948522567749,
          2.270493507385254,
          1.5575908422470093,
          8.061482429504395,
          9.0121488571167,
          -9.650453567504883,
          -2.6004629135131836,
          5.883775234222412,
          -6.669569969177246,
          -3.0205931663513184,
          -0.9523485898971558,
          -2.0457303524017334,
          7.196478366851807,
          10.791579246520996,
          -12.844916343688965,
          4.520275592803955,
          6.378958225250244,
          -2.2624285221099854,
          -1.0045106410980225,
          -1.635748267173767,
          11.813807487487793,
          11.287010192871094,
          -9.729951858520508,
          13.333320617675781,
          -4.7816386222839355,
          5.924539089202881,
          1.8666387796401978,
          -4.358978748321533,
          7.632504463195801,
          6.4778337478637695,
          4.433024883270264,
          1.523897647857666,
          3.2003984451293945,
          -12.089465141296387,
          -11.723198890686035,
          -5.471969127655029,
          6.2374162673950195,
          -4.242212772369385,
          8.195576667785645,
          -5.84652042388916,
          -8.807263374328613,
          -3.365605115890503,
          9.62026309967041,
          4.345741271972656,
          1.0544737577438354,
          -5.760962963104248,
          -9.744983673095703,
          12.824152946472168,
          7.907785415649414,
          12.004279136657715,
          -0.5399592518806458,
          -6.284435272216797,
          -11.1395263671875,
          -3.072676420211792,
          0.11231238394975662,
          -0.07874687761068344,
          -5.198134422302246,
          3.6138603687286377,
          4.868709087371826,
          0.508050799369812,
          0.6872812509536743,
          11.818062782287598,
          0.720366895198822,
          -4.312371253967285,
          -6.456363201141357,
          3.869357109069824,
          6.160676002502441,
          2.696059226989746,
          -10.004322052001953,
          -9.365549087524414,
          3.7524781227111816,
          5.658662796020508,
          -10.708904266357422,
          7.283431529998779,
          7.55877161026001,
          0.3780413269996643,
          -4.079387664794922,
          4.7583513259887695,
          8.566579818725586,
          12.890878677368164,
          7.172238826751709,
          -2.0061802864074707,
          -1.579774260520935,
          0.521956205368042,
          -5.617415428161621,
          6.719833850860596,
          7.653429985046387,
          -3.2884347438812256,
          -11.728246688842773,
          2.1336305141448975,
          -4.780063152313232,
          2.2076265811920166,
          1.1097835302352905,
          -7.668820858001709,
          5.148279190063477,
          -10.781529426574707,
          7.275883674621582,
          -5.6409149169921875,
          4.2272467613220215,
          -4.649290084838867,
          5.863000869750977,
          -0.2908569574356079,
          6.783574104309082,
          6.429800987243652,
          9.68998908996582,
          5.910506725311279,
          -5.335537433624268,
          -12.645076751708984,
          -10.450653076171875,
          0.01878792978823185,
          3.121633529663086,
          9.840551376342773,
          4.030368804931641,
          -5.652584075927734,
          -2.9236323833465576,
          -1.7337591648101807,
          6.9912309646606445,
          3.968770742416382,
          1.4988497495651245,
          7.646288871765137,
          -9.371475219726562,
          1.4161146879196167,
          -5.1042327880859375,
          0.7991042137145996,
          6.855001449584961,
          6.221039772033691,
          5.154058456420898,
          0.7199975252151489,
          -5.906416893005371,
          3.7267630100250244,
          -6.336555480957031,
          -1.8490475416183472,
          10.369170188903809,
          0.5199441313743591,
          -5.7507805824279785,
          0.5129315257072449,
          5.105615615844727,
          1.3886398077011108,
          -0.2597779631614685,
          7.831324100494385,
          2.3780014514923096,
          -3.6550822257995605,
          0.08566520363092422,
          -9.76879596710205,
          8.358777046203613,
          -4.847869873046875,
          0.38029852509498596,
          7.042873382568359,
          0.2885608375072479,
          4.835821151733398,
          1.2709126472473145,
          11.650050163269043,
          -2.974109649658203,
          4.9812541007995605,
          2.8087122440338135,
          -10.326866149902344,
          5.000087261199951,
          2.234046220779419,
          -7.181063652038574,
          6.42277193069458,
          -0.2545495927333832,
          12.744340896606445,
          -4.295805931091309,
          4.370381832122803,
          -8.646772384643555,
          6.435172080993652,
          -0.9479205012321472,
          5.933199405670166,
          -4.113225936889648,
          3.1897354125976562,
          -10.335443496704102,
          5.473958969116211,
          -4.483490943908691,
          4.47018575668335,
          3.5249509811401367,
          -12.395426750183105,
          8.026517868041992,
          4.709792613983154,
          1.0228545665740967,
          -10.087958335876465,
          -4.202780246734619,
          5.667548179626465,
          3.710712432861328,
          7.215938568115234,
          3.940023422241211,
          -0.8885855078697205,
          -0.6693511605262756,
          -2.538910150527954,
          9.51713752746582,
          -0.9098149538040161,
          -10.536677360534668,
          13.200627326965332,
          2.242964029312134,
          -6.870626926422119,
          2.4876861572265625,
          -0.6113662123680115,
          8.660608291625977,
          7.225302696228027,
          -4.999679088592529,
          11.556135177612305,
          -7.365618705749512,
          -10.930913925170898,
          0.12543156743049622,
          0.22534291446208954,
          -10.547791481018066,
          -8.159162521362305,
          -0.8118835687637329,
          1.8285690546035767,
          6.660881519317627,
          -4.304401397705078,
          -6.278563022613525,
          5.000693321228027,
          -5.187007904052734,
          -3.64274001121521,
          6.657837867736816,
          -3.0783069133758545,
          -3.143409252166748,
          3.7374281883239746,
          -6.345737934112549,
          6.55930757522583,
          -9.966323852539062,
          -1.087361216545105,
          -2.0122060775756836,
          8.411157608032227,
          8.185698509216309,
          6.894230365753174,
          -1.9981480836868286,
          1.569061040878296,
          -4.576963424682617,
          -2.9019927978515625,
          -5.6064276695251465,
          10.631117820739746,
          1.2408396005630493,
          -2.8057472705841064,
          3.9680464267730713,
          7.098719596862793,
          -0.160794198513031,
          -8.613262176513672,
          4.918062686920166,
          1.5040441751480103,
          -13.011371612548828,
          -10.625502586364746,
          -5.220688343048096,
          -5.967007160186768,
          -0.5353274941444397,
          3.22127103805542,
          -7.118176460266113,
          4.999695301055908,
          1.5512577295303345,
          -6.611866474151611,
          -11.027434349060059,
          6.330188751220703,
          -5.465306282043457,
          7.789641380310059,
          7.885366439819336,
          -3.831812620162964,
          6.252352714538574,
          -9.288104057312012,
          -3.7776987552642822,
          3.6907951831817627,
          -3.2563974857330322,
          4.766636371612549,
          5.944329738616943,
          -1.3953098058700562,
          12.350354194641113,
          3.7420754432678223,
          6.8002753257751465,
          10.7772855758667,
          -4.360798358917236,
          2.3859472274780273,
          4.895450115203857,
          -1.3372814655303955,
          -9.541071891784668,
          6.490586280822754,
          2.725877285003662,
          -5.695367336273193,
          -1.8040281534194946,
          -9.26416015625,
          11.895828247070312,
          -1.5596767663955688,
          -6.862127304077148,
          1.2902946472167969,
          -7.001143455505371,
          -11.750118255615234,
          -1.5801467895507812,
          6.480382919311523,
          -4.299034118652344,
          4.226354122161865,
          -3.24115252494812,
          1.2965872287750244,
          -9.755714416503906,
          -7.1044535636901855,
          -9.139083862304688,
          -2.8942935466766357,
          0.2038387805223465,
          6.355114936828613,
          6.923173904418945,
          7.4105424880981445,
          4.125504493713379,
          -10.665617942810059,
          -11.432100296020508,
          3.588622570037842,
          2.2920608520507812,
          4.430010795593262,
          -9.613775253295898,
          3.5779449939727783,
          -6.284536361694336,
          -4.0564799308776855,
          3.6044838428497314,
          5.8526692390441895,
          -3.8091518878936768,
          5.931878566741943,
          2.7064125537872314,
          6.210883140563965,
          5.881944179534912,
          3.4211392402648926,
          0.2636909484863281,
          0.023151962086558342,
          7.727803707122803,
          -3.781812906265259,
          0.8441731929779053,
          3.9945571422576904,
          -13.420628547668457,
          -8.560522079467773,
          -0.14543263614177704,
          -3.5421791076660156,
          -0.4745853841304779,
          0.6961424350738525,
          -3.3832876682281494,
          -4.493772029876709,
          -6.994356632232666,
          7.6588850021362305,
          2.4317376613616943,
          -4.363684177398682,
          3.0698277950286865,
          -10.488778114318848,
          -5.268857002258301,
          -4.515736103057861,
          -5.8932671546936035,
          6.5959320068359375,
          -9.093633651733398,
          -4.543281078338623,
          3.283872604370117,
          11.949247360229492,
          7.288369655609131,
          -4.387670993804932,
          -0.3315318822860718,
          -6.3114142417907715,
          5.467861652374268,
          5.02725076675415,
          7.220959663391113,
          7.023000240325928,
          -2.101090431213379,
          -0.1258029192686081,
          5.295635223388672,
          -0.6532351970672607,
          -2.9503026008605957,
          3.527639627456665,
          9.50849723815918,
          -5.267189025878906,
          -10.918946266174316,
          4.600257396697998,
          2.587347984313965,
          -3.4811902046203613,
          5.468202114105225,
          13.519563674926758,
          5.2946624755859375,
          2.619633674621582,
          -6.131471633911133,
          6.612362861633301,
          4.565140724182129,
          -0.10116714984178543,
          4.850049018859863,
          0.47445884346961975,
          14.2095308303833,
          5.07011604309082,
          5.976637363433838,
          13.509547233581543,
          -2.9908390045166016,
          0.48032936453819275,
          -7.842099666595459,
          10.068120956420898,
          -2.161830186843872,
          0.21793878078460693,
          6.316254615783691,
          -4.583836078643799,
          7.270456314086914,
          0.5715988874435425,
          8.127294540405273,
          8.298532485961914,
          -2.927259922027588,
          3.218778133392334,
          5.1851420402526855,
          4.2518839836120605,
          -3.633009433746338,
          7.256533622741699,
          2.7118282318115234,
          8.57580852508545,
          -4.557090759277344,
          10.496236801147461,
          -0.8610770106315613,
          7.5074567794799805,
          -6.261916160583496,
          -6.586435317993164,
          -13.263623237609863,
          2.812208890914917,
          0.35315191745758057,
          -3.342275381088257,
          6.077847480773926,
          6.363727569580078,
          5.86906099319458,
          8.57768726348877,
          -12.850484848022461,
          3.4377729892730713,
          5.635207176208496,
          0.6829644441604614,
          6.234023094177246,
          -0.5518505573272705,
          11.673678398132324,
          -12.611268043518066,
          5.1031012535095215,
          -5.98980188369751,
          7.92252254486084,
          -4.846162796020508,
          -10.636337280273438,
          0.09409765899181366,
          8.606074333190918,
          9.606036186218262,
          9.194002151489258,
          2.754291296005249,
          9.57465648651123,
          -3.9303345680236816,
          -12.20034408569336,
          7.710904598236084,
          -2.1214113235473633,
          7.5727314949035645,
          6.675539016723633,
          -12.744507789611816,
          -12.219099044799805,
          4.772045135498047,
          2.443881034851074,
          -7.683556079864502,
          5.872937202453613,
          1.7701785564422607,
          -0.46287065744400024,
          -0.5037087202072144,
          -1.903110384941101,
          7.561903476715088,
          -2.0422959327697754,
          7.453007221221924,
          -6.32997465133667,
          2.658299684524536,
          -9.808377265930176,
          -6.943596839904785,
          1.512701153755188,
          8.723925590515137,
          -0.5785914063453674,
          5.204667568206787,
          0.31945595145225525,
          0.8654913902282715,
          -9.069743156433105,
          5.236968994140625,
          1.975268006324768,
          -9.489357948303223,
          -7.0537519454956055,
          -3.9891791343688965,
          0.7383465766906738,
          6.078664779663086,
          -5.468844890594482,
          -3.3012001514434814,
          5.60358190536499,
          11.31062126159668,
          6.409007549285889,
          -8.665975570678711,
          -1.4104400873184204,
          4.131431579589844,
          5.902764320373535,
          -11.56485366821289,
          5.169134140014648,
          1.0072741508483887,
          -10.989034652709961,
          2.7311015129089355,
          6.729284763336182,
          7.088364601135254,
          -9.634913444519043,
          -1.6469025611877441,
          4.351719379425049,
          5.266763687133789,
          -2.0842177867889404,
          -1.0406599044799805,
          9.75045108795166,
          4.790435314178467,
          4.329463958740234,
          3.5879650115966797,
          10.421209335327148,
          4.912754058837891,
          -2.074533224105835,
          6.150656700134277,
          7.24981164932251,
          -7.056053638458252,
          -4.743640899658203,
          -1.5995928049087524,
          -2.0071187019348145,
          1.0923031568527222,
          6.618108749389648,
          7.8659467697143555,
          6.265793800354004,
          -12.370549201965332,
          0.722499668598175,
          -10.032444953918457,
          1.6935696601867676,
          6.089252471923828,
          5.451921463012695,
          2.4641621112823486,
          7.101875305175781,
          3.2551801204681396,
          -0.28622105717658997,
          8.459957122802734,
          -9.820805549621582,
          2.954862356185913,
          4.883736610412598,
          -4.34896993637085,
          7.2892746925354,
          -11.183747291564941,
          5.265356063842773,
          0.7037878036499023,
          1.4588416814804077,
          -4.561506748199463,
          -4.571368217468262,
          10.107646942138672,
          12.740456581115723,
          7.896224498748779,
          -1.2506814002990723,
          -6.582965850830078,
          8.688767433166504,
          -0.6955833435058594,
          -3.2950618267059326,
          -2.057276725769043,
          0.5945637822151184,
          12.097040176391602,
          -7.791068077087402,
          3.6932053565979004,
          -4.929738998413086,
          9.412768363952637,
          -3.6754770278930664,
          6.744656085968018,
          4.391017436981201,
          2.6862070560455322,
          -1.0861899852752686,
          -10.61155891418457,
          -4.2609076499938965,
          5.643784046173096,
          4.171139717102051,
          9.05790901184082,
          -2.9851174354553223,
          -9.64052677154541,
          -0.7785734534263611,
          -4.523613452911377,
          -2.7981715202331543,
          1.7168676853179932,
          -11.275980949401855,
          -5.843999862670898,
          3.875325918197632,
          -4.5687255859375,
          0.6358117461204529,
          2.8568997383117676,
          -5.510828971862793,
          0.2115263193845749,
          -2.2031562328338623,
          2.564054012298584,
          -2.9627127647399902,
          -6.596405029296875,
          12.757867813110352,
          2.7508318424224854,
          -3.0366711616516113,
          -4.635610103607178,
          0.5156495571136475,
          13.477468490600586,
          8.282365798950195,
          0.848680317401886,
          7.809624671936035,
          4.961514472961426,
          4.2372355461120605,
          4.322081565856934,
          6.24465274810791,
          -6.1996588706970215,
          -6.171608924865723,
          -12.920411109924316,
          2.2369775772094727,
          -1.8273682594299316,
          -0.0247019175440073,
          -9.61971664428711,
          -6.554618835449219,
          1.6307249069213867,
          -4.002143859863281,
          13.393348693847656,
          -12.051474571228027,
          -9.280899047851562,
          0.6622998118400574,
          2.312720775604248,
          -3.2955331802368164,
          -6.060879707336426,
          4.282001495361328,
          -2.502568244934082,
          0.5820472240447998,
          9.502148628234863,
          6.543269634246826,
          -10.291446685791016,
          0.10088169574737549,
          8.469988822937012,
          -6.345064163208008,
          -2.743805408477783,
          -2.9300971031188965,
          -13.550155639648438,
          -0.43912675976753235,
          -8.864668846130371,
          -9.14674186706543,
          -3.6907787322998047,
          2.626185417175293,
          3.8073039054870605,
          -6.39948034286499,
          -1.6748383045196533,
          -8.223151206970215,
          -4.725784778594971,
          1.3276305198669434,
          -3.229187250137329,
          6.70580530166626,
          -9.371922492980957,
          -8.971855163574219,
          -10.074332237243652,
          -2.5489580631256104,
          6.308315753936768,
          5.170682907104492,
          -8.356341361999512,
          0.6805382966995239,
          -8.805520057678223,
          -9.578470230102539,
          -4.410839080810547,
          -2.2164227962493896,
          -10.05174732208252,
          2.607603073120117,
          -10.196388244628906,
          8.043804168701172,
          -9.179136276245117,
          11.524565696716309,
          -9.20042610168457,
          2.1186764240264893,
          8.883907318115234,
          1.4317582845687866,
          7.81856632232666,
          -5.481929302215576,
          4.760164260864258,
          -3.2942073345184326,
          7.506861209869385,
          -4.740100383758545,
          5.201912879943848,
          1.9878342151641846,
          -10.184514999389648,
          -3.841176748275757,
          0.533043622970581,
          0.3375512659549713,
          1.5806835889816284,
          9.414347648620605,
          -0.8849873542785645,
          7.056404113769531,
          0.6345072984695435,
          0.05536878481507301,
          -5.605788230895996,
          1.6335629224777222,
          -4.1681013107299805,
          -4.540980339050293,
          6.75621223449707,
          5.772409439086914,
          8.850483894348145,
          -6.541738510131836,
          5.56174898147583,
          10.650814056396484,
          -10.161723136901855,
          1.5932683944702148,
          -11.051288604736328,
          3.700953483581543,
          -4.137273788452148,
          3.422595262527466,
          -1.4148396253585815,
          7.816285133361816,
          7.926321506500244,
          -12.430176734924316,
          4.839465141296387,
          0.8046007752418518,
          5.287831783294678,
          1.0467280149459839,
          -2.3289124965667725,
          6.103845596313477,
          2.2161848545074463,
          4.262092590332031,
          7.309963226318359,
          -0.5352317094802856,
          3.803678274154663,
          0.9949036240577698,
          -2.289041757583618,
          -3.067892551422119,
          -0.3348870277404785,
          3.630678653717041,
          -6.392541885375977,
          2.1951711177825928,
          7.281484603881836,
          6.657764434814453,
          -7.297811031341553,
          5.3816046714782715,
          -1.7708288431167603,
          5.339976787567139,
          -10.77297306060791,
          4.9469075202941895,
          -9.08541202545166,
          -5.691756248474121,
          6.269906520843506,
          -9.571381568908691,
          6.089370250701904,
          -10.154970169067383,
          1.8114680051803589,
          4.986523151397705,
          -7.5814127922058105,
          7.279836177825928,
          12.732070922851562,
          0.6509951949119568,
          -11.018035888671875,
          2.0772337913513184,
          5.830812931060791,
          -10.690398216247559,
          11.674424171447754,
          -5.609189987182617,
          7.504946708679199,
          3.256103515625,
          8.980966567993164,
          10.517394065856934,
          -7.204870223999023,
          -0.6904502511024475,
          -6.3559041023254395,
          5.0944342613220215,
          -5.4295220375061035,
          -2.0734026432037354,
          7.453927516937256,
          5.505356788635254,
          -3.2609546184539795,
          -11.390754699707031,
          -4.251591205596924,
          -3.798973798751831,
          6.280155658721924,
          10.98659610748291,
          0.6494219899177551,
          10.372502326965332,
          9.921442031860352,
          7.732752799987793,
          5.54906702041626,
          -7.604081630706787,
          6.151549339294434,
          2.781301498413086,
          3.977179527282715,
          -6.815518856048584,
          -6.702301502227783,
          -5.330668926239014,
          -1.4937680959701538,
          -9.556384086608887,
          11.074518203735352,
          -5.323336124420166,
          9.246408462524414,
          -12.261608123779297,
          -10.065474510192871,
          0.9033585786819458,
          1.9491350650787354,
          -4.30286169052124,
          -12.642407417297363,
          7.6654157638549805,
          1.109662652015686,
          3.9238498210906982,
          -9.70877742767334,
          0.8412905931472778,
          6.407758712768555,
          -10.299827575683594,
          -1.4113563299179077,
          6.431772708892822,
          6.454135417938232,
          -6.3428826332092285,
          0.5859646201133728,
          -0.8242595195770264,
          1.3508116006851196,
          1.013627052307129,
          0.059734053909778595,
          -11.06128215789795,
          -0.648857057094574,
          2.6932995319366455,
          -9.874791145324707,
          0.5753786563873291,
          -4.517216682434082,
          7.708776473999023,
          -5.436419486999512,
          -10.652074813842773,
          3.858412981033325,
          3.482905387878418,
          -0.024777492508292198,
          -12.252557754516602,
          0.020531319081783295,
          -8.00798225402832,
          4.856212139129639,
          -5.554759502410889,
          -9.626375198364258,
          -3.672261953353882,
          -9.097943305969238,
          -2.1176743507385254,
          -6.6474785804748535,
          -2.0943517684936523,
          9.411232948303223,
          -2.893825054168701,
          5.797362327575684,
          0.9739658236503601,
          -3.4417543411254883,
          3.448822021484375,
          7.521877288818359,
          2.2229161262512207,
          12.54626750946045,
          3.274576425552368,
          -6.95612096786499,
          8.601984977722168,
          4.654420852661133,
          4.225210189819336,
          2.199536085128784,
          0.7679417729377747,
          9.612451553344727,
          -4.684405326843262,
          -5.89371395111084,
          5.0417375564575195,
          6.053138256072998,
          6.695767402648926,
          8.618438720703125,
          6.71102237701416,
          12.7927827835083,
          -3.3249671459198,
          2.6790521144866943,
          -6.122910976409912,
          7.216939449310303,
          -6.3954033851623535,
          -0.09951461106538773,
          0.19101552665233612,
          -4.670389175415039,
          2.3899991512298584,
          -2.1375882625579834,
          -3.5504074096679688,
          -3.8505160808563232,
          5.86040735244751,
          -0.7220086455345154,
          2.3711113929748535,
          -3.378242254257202,
          2.425971031188965,
          -13.046819686889648,
          -10.378238677978516,
          8.558344841003418,
          1.3884377479553223,
          -5.453408718109131,
          1.6363219022750854,
          4.02831506729126,
          -3.959221601486206,
          8.587274551391602,
          4.651155948638916,
          0.6137923002243042,
          4.057987689971924,
          -7.288112640380859,
          6.449337005615234,
          -2.7988197803497314,
          6.705938816070557,
          8.074174880981445,
          -3.7033536434173584,
          -0.4499128758907318,
          7.096747875213623,
          -12.656601905822754,
          9.133164405822754,
          7.614525318145752,
          2.106539726257324,
          -10.800997734069824,
          8.023738861083984,
          -6.409162521362305,
          -1.7049866914749146,
          5.1988372802734375,
          10.899396896362305,
          -7.2358784675598145,
          -10.622900009155273,
          -12.741983413696289,
          -5.6677327156066895,
          -2.8772270679473877,
          -2.4222190380096436,
          0.4953365921974182,
          6.622775554656982,
          -2.897144079208374,
          -0.18872001767158508,
          5.593666076660156,
          2.6030385494232178,
          -9.593995094299316,
          2.781970739364624,
          -1.8511549234390259,
          7.264166831970215,
          2.695544481277466,
          6.909536838531494,
          -3.418449640274048,
          5.645632266998291,
          1.414599895477295,
          -6.6046671867370605,
          3.8644981384277344,
          -1.1403311491012573,
          -8.09450912475586,
          7.627450466156006,
          -0.41247692704200745,
          12.848348617553711,
          5.670717716217041,
          7.960559368133545,
          -2.8091390132904053,
          3.9237732887268066,
          7.7667107582092285,
          -8.717863082885742,
          13.275846481323242,
          -5.123605251312256,
          2.464094638824463,
          -6.870752811431885,
          -2.6020524501800537,
          -5.806053638458252,
          4.338960647583008,
          -1.5961759090423584,
          -5.288786888122559,
          -1.8583462238311768,
          -9.487350463867188,
          -7.021965980529785,
          0.3811202943325043,
          2.1422338485717773,
          7.9365458488464355,
          -5.8478617668151855,
          9.097256660461426,
          6.865821361541748,
          -1.0493255853652954,
          -7.0738630294799805,
          -3.8072376251220703,
          -2.948366165161133,
          -3.613654375076294,
          3.657761335372925,
          7.934516429901123,
          -11.809362411499023,
          -3.701472043991089,
          -0.43059858679771423,
          3.7176642417907715,
          -9.92436408996582,
          1.7610288858413696,
          -8.935741424560547,
          -10.562640190124512,
          7.956568717956543,
          -7.253239631652832,
          -5.421767711639404,
          -3.06339693069458,
          7.023675918579102,
          0.82490074634552,
          -3.8010520935058594,
          6.156375885009766,
          4.636076927185059,
          -3.672697067260742,
          -5.1904826164245605,
          -3.2694902420043945,
          -9.01235294342041,
          -4.537932395935059,
          7.473537445068359,
          5.993968963623047,
          6.200438499450684,
          -2.2827250957489014,
          -8.41748046875,
          11.07638168334961,
          -1.027817726135254,
          -0.38340628147125244,
          -9.280458450317383,
          -5.85833215713501,
          -11.185718536376953,
          9.079326629638672,
          3.249274253845215,
          1.8266589641571045,
          8.6044921875,
          2.1826789379119873,
          2.910912275314331,
          -13.115616798400879,
          0.2066400945186615,
          3.4887337684631348,
          -4.02170991897583,
          2.5008678436279297,
          0.9262773394584656,
          5.786847114562988,
          -10.729830741882324,
          1.7690616846084595,
          -6.130568027496338,
          -0.5583540201187134,
          -5.574005603790283,
          -7.592781066894531,
          5.779987335205078,
          -6.684177398681641,
          -9.177103996276855,
          -4.629737854003906,
          -2.7557356357574463,
          3.3934314250946045,
          4.378271579742432,
          -0.0002283476060256362,
          6.411601543426514,
          12.950260162353516,
          2.649087429046631,
          11.145861625671387,
          -0.23083098232746124,
          -12.098350524902344,
          -11.156683921813965,
          -8.549957275390625,
          1.0724836587905884,
          5.54150390625,
          -0.13579905033111572,
          -2.4455454349517822,
          7.529062747955322,
          11.560314178466797,
          6.248884201049805,
          -4.478118419647217,
          -5.690786361694336,
          -4.485444068908691,
          -9.422212600708008,
          4.70922327041626,
          -10.956311225891113,
          9.481385231018066,
          -6.807147979736328,
          3.622406482696533,
          -5.018503665924072,
          14.733810424804688,
          -2.2414019107818604,
          2.2246479988098145,
          4.716005325317383,
          7.437381744384766,
          7.752392292022705,
          8.447152137756348,
          -0.7246993780136108,
          8.357611656188965,
          3.9555912017822266,
          -8.04753589630127,
          -1.1333461999893188,
          -4.850937843322754,
          -11.529643058776855,
          8.549503326416016,
          -9.824140548706055,
          -0.44502195715904236,
          -11.55059814453125,
          -1.440859317779541,
          -0.5077179074287415,
          -5.7740349769592285,
          6.198361396789551,
          -3.6587576866149902,
          -7.545093536376953,
          -7.558562755584717,
          9.846817970275879,
          5.077808856964111,
          4.22356653213501,
          1.9372159242630005,
          1.8188486099243164,
          -2.945143938064575,
          0.3751862347126007,
          11.119108200073242,
          11.485780715942383,
          10.817780494689941,
          -2.231780529022217,
          -5.613712787628174,
          7.2094807624816895,
          1.7910304069519043,
          -8.91427993774414,
          0.428916871547699,
          4.704475402832031,
          -8.76951789855957,
          -2.037914276123047,
          1.6331157684326172,
          -3.0424671173095703,
          1.7958159446716309,
          -10.945116996765137,
          -4.486844539642334,
          -8.23388671875,
          4.637693881988525,
          -3.189514636993408,
          -6.898236274719238,
          -2.9378879070281982,
          2.8606784343719482,
          -10.838406562805176,
          -6.011698246002197,
          7.486138820648193,
          7.5394206047058105,
          11.946762084960938,
          7.558895587921143,
          -3.0134057998657227,
          -1.4259223937988281,
          -12.852543830871582,
          0.5143308043479919,
          0.18900805711746216,
          -6.6644206047058105,
          2.5719902515411377,
          -3.3488471508026123,
          -9.243871688842773,
          2.634122610092163,
          -0.5761700868606567,
          7.131678581237793,
          -2.073275327682495,
          0.8397511839866638,
          4.171975612640381,
          -1.3796058893203735,
          5.782181739807129,
          -11.777703285217285,
          -10.827704429626465,
          5.017670631408691,
          -1.8117834329605103,
          -5.16035270690918,
          4.741920471191406,
          -6.988222122192383,
          -2.8084356784820557,
          4.107061862945557,
          5.658373832702637,
          2.628739833831787,
          4.7900776863098145,
          -10.805218696594238,
          -6.441288948059082,
          -0.4173031151294708,
          -5.032468795776367,
          -3.703583002090454,
          -4.361127853393555,
          -4.380808353424072,
          2.836627244949341,
          3.174419641494751,
          2.5177133083343506,
          -5.397696495056152,
          5.832759380340576,
          0.7806361317634583,
          -3.2112767696380615,
          -0.9984843134880066,
          6.547381401062012,
          3.4741804599761963,
          -7.318225860595703,
          -9.595000267028809,
          -5.856088161468506,
          -4.705436706542969,
          -4.573410511016846,
          -2.097139358520508,
          -1.1289348602294922,
          7.963376045227051,
          3.3520424365997314,
          6.452889919281006,
          6.403797149658203,
          -2.873037338256836,
          -10.413958549499512,
          6.011826515197754,
          -7.046066761016846,
          -12.937829971313477,
          7.369706630706787,
          -5.630256175994873,
          -2.066591501235962,
          -1.5125141143798828,
          6.3152852058410645,
          -6.063666343688965,
          -3.806272268295288,
          -6.084506988525391,
          -9.362936973571777,
          2.0029776096343994,
          0.04390064626932144,
          0.4734775722026825,
          6.873697280883789,
          -11.144156455993652,
          4.908008098602295,
          7.765239238739014,
          -5.297170162200928,
          6.749850273132324,
          4.269309043884277,
          6.998288631439209,
          -5.570982456207275,
          13.534358978271484,
          -3.8999550342559814,
          0.8415552377700806,
          4.726193428039551,
          8.092794418334961,
          -5.703609466552734,
          4.423217296600342,
          3.8714804649353027,
          6.621366500854492,
          -9.409881591796875,
          3.5528724193573,
          7.801814556121826,
          -2.0834293365478516,
          4.7106733322143555,
          -5.1822190284729,
          -2.9320406913757324,
          3.4168026447296143,
          3.540520668029785,
          4.632785320281982,
          -1.4620548486709595,
          -11.517285346984863,
          1.4161348342895508,
          -4.310239791870117,
          -0.28270307183265686,
          -3.671224355697632,
          -1.057029366493225,
          -6.38552713394165,
          -4.013111114501953,
          2.042262554168701,
          -7.095268249511719,
          2.043691635131836,
          -6.69500732421875,
          2.8831946849823,
          -7.4240922927856445,
          -5.489855766296387,
          -2.6544604301452637,
          5.113731861114502,
          3.016885757446289,
          -1.0502887964248657,
          -2.4584171772003174,
          7.0559468269348145,
          -1.8138432502746582,
          -3.4978573322296143,
          2.173222541809082,
          -1.7668251991271973,
          6.297780990600586,
          -9.195323944091797,
          0.22485598921775818,
          -9.508916854858398,
          7.030659198760986,
          -6.769783973693848,
          10.3067045211792,
          5.439799785614014,
          12.517207145690918,
          6.522334098815918,
          -0.6901233196258545,
          6.870827674865723,
          -4.545709609985352,
          0.31098607182502747,
          -5.908079147338867,
          10.51990032196045,
          6.179935455322266,
          -3.44236421585083,
          -3.0155060291290283,
          4.121666431427002,
          -10.071199417114258,
          -6.194497585296631,
          5.5255842208862305,
          6.429953098297119,
          -10.446283340454102,
          -0.22575320303440094,
          0.2752695381641388,
          2.158234119415283,
          -3.14378023147583,
          -9.18924617767334,
          -0.336870402097702,
          1.583259105682373,
          -6.933164596557617,
          -1.1369633674621582,
          0.006155598908662796,
          6.4848785400390625,
          5.086061477661133,
          5.498922348022461,
          -5.9425787925720215,
          -7.360246181488037,
          3.976393222808838,
          -0.990719199180603,
          -12.845091819763184,
          4.580956935882568,
          -4.225229263305664,
          2.4342377185821533,
          1.1342066526412964,
          1.9145978689193726,
          -1.2151497602462769,
          -1.478929877281189,
          10.541877746582031,
          -6.650763988494873,
          -7.991313457489014,
          -9.562592506408691,
          -0.42361539602279663,
          -6.724583148956299,
          2.122086524963379,
          -5.507249355316162,
          0.32815420627593994,
          8.281783103942871,
          -7.954158782958984,
          9.577860832214355,
          -9.29034423828125,
          4.991736888885498,
          -9.355049133300781,
          -0.40045323967933655,
          -0.08641106635332108,
          -0.9264144897460938,
          -6.318576812744141,
          7.865541934967041,
          -2.086711883544922,
          -12.112895965576172,
          0.3454760015010834,
          0.11294801533222198,
          -0.6808194518089294,
          -5.249991416931152,
          0.7400845289230347,
          -3.0315423011779785,
          1.4678646326065063,
          -7.767571449279785,
          -1.5763696432113647,
          -9.694130897521973,
          -3.405336380004883,
          3.2506613731384277,
          -11.751670837402344,
          4.751675605773926,
          2.4445934295654297,
          -1.0672237873077393,
          5.4674973487854,
          3.062067985534668,
          5.01863431930542,
          3.565981388092041,
          9.681795120239258,
          1.5910120010375977,
          -0.9201540946960449,
          7.090036869049072,
          1.5824930667877197,
          4.12554931640625,
          -9.771024703979492,
          3.1474008560180664,
          1.5273501873016357,
          0.4284994602203369,
          -3.658024311065674,
          4.185196876525879,
          -2.1508781909942627,
          4.333146095275879,
          2.6412062644958496,
          4.116654396057129,
          -7.031748294830322,
          -2.2526886463165283,
          -4.422895431518555,
          -0.002073772717267275,
          5.323558807373047,
          2.634382963180542,
          -2.7734153270721436,
          -3.059077262878418,
          -3.6329729557037354,
          4.879644393920898,
          -3.8075778484344482,
          6.258702278137207,
          4.14954137802124,
          -5.524138450622559,
          -5.6503987312316895,
          -2.97993803024292,
          -11.258508682250977,
          -5.426097869873047,
          0.7562634348869324,
          -1.3972874879837036,
          -5.613396644592285,
          -0.4172559976577759,
          -4.1457600593566895,
          -1.4443607330322266,
          0.8312935829162598,
          10.444025993347168,
          1.2552448511123657,
          -5.773512363433838,
          7.240146636962891,
          6.864931583404541,
          -0.7119784951210022,
          -0.6287312507629395,
          -4.231503009796143,
          -2.918471336364746,
          -9.682612419128418,
          -6.301906108856201,
          3.257206439971924,
          5.864770412445068,
          -5.649209976196289,
          -3.033789873123169,
          -5.871598243713379,
          -9.530671119689941,
          -7.8337249755859375,
          2.4983158111572266,
          -4.03407096862793,
          -4.281950950622559,
          -2.4850502014160156,
          -1.4440182447433472,
          3.6370553970336914,
          8.230566024780273,
          0.4621349275112152,
          5.527909755706787,
          1.2163928747177124,
          -2.0099637508392334,
          -11.04358196258545,
          2.1605331897735596,
          4.51484489440918,
          -1.6467820405960083,
          -1.9152311086654663,
          4.037100791931152,
          -9.166479110717773,
          -6.200896739959717,
          5.59645414352417,
          -4.7162909507751465,
          10.108842849731445,
          11.273463249206543,
          1.90005362033844,
          6.6165852546691895,
          -2.517111301422119,
          -4.837100505828857,
          4.035210132598877,
          2.551823854446411,
          -2.371703863143921,
          6.093550682067871,
          0.7159977555274963,
          2.630530595779419,
          7.626595497131348,
          8.479395866394043,
          0.4523393511772156,
          -0.6195711493492126,
          -5.944934368133545,
          -8.885379791259766,
          6.488688945770264,
          -1.4099750518798828,
          7.284541606903076,
          -2.5074617862701416,
          -4.0576701164245605,
          -6.0790114402771,
          1.2683902978897095,
          -5.897487640380859,
          -10.456124305725098,
          13.396111488342285,
          13.267175674438477,
          -11.919392585754395,
          2.9987316131591797,
          -9.321271896362305,
          2.971757411956787,
          -9.198915481567383,
          -3.362229108810425,
          0.6091101169586182,
          -8.693405151367188,
          5.92551851272583,
          -8.002552032470703,
          -5.195845127105713,
          2.5509278774261475,
          -1.189226508140564,
          -3.7211525440216064,
          7.351691246032715,
          -7.331937313079834,
          0.09696956723928452,
          7.658596515655518,
          -0.06721585243940353,
          2.7895007133483887,
          -0.9102620482444763,
          -5.544106483459473,
          7.225531578063965,
          6.408606052398682,
          -5.107361316680908,
          1.8486154079437256,
          11.564908981323242,
          -9.758732795715332,
          6.561431884765625,
          -2.855342149734497,
          0.46698689460754395,
          -3.8932015895843506,
          9.631026268005371,
          3.6813602447509766,
          -10.75621509552002,
          -1.1118053197860718,
          8.833574295043945,
          -8.017457962036133,
          13.599905014038086,
          2.9596633911132812,
          -0.27705517411231995,
          7.3383331298828125,
          5.330342769622803,
          -1.1853420734405518,
          -1.6671909093856812,
          -6.938425540924072,
          0.5284833908081055,
          6.2010111808776855,
          3.4988818168640137,
          -11.559703826904297,
          1.2185548543930054,
          6.7828545570373535,
          4.2787275314331055,
          5.621170520782471,
          5.6779632568359375,
          -4.506897449493408,
          -1.3442168235778809,
          7.539784908294678,
          -4.914018630981445,
          10.750066757202148,
          2.101987361907959,
          4.751188278198242,
          11.831254959106445,
          -0.04231603816151619,
          -4.531068325042725,
          8.122611999511719,
          5.0861897468566895,
          -1.2062430381774902,
          -10.032783508300781,
          9.070603370666504,
          -9.256994247436523,
          7.275251865386963,
          2.752016067504883,
          -0.07498650997877121,
          -6.30746603012085,
          -2.141213893890381,
          1.1066495180130005,
          -9.822877883911133,
          3.9642715454101562,
          5.50070333480835,
          2.8989975452423096,
          5.636675834655762,
          3.6361708641052246,
          13.093482971191406,
          6.319190502166748,
          7.654773235321045,
          -1.9569486379623413,
          5.788815975189209,
          2.728351593017578,
          -3.4977192878723145,
          5.873992919921875,
          -3.7055206298828125,
          -7.5797529220581055,
          -11.657793045043945,
          1.9579237699508667,
          -7.876460552215576,
          10.797605514526367,
          2.8772096633911133,
          4.941707611083984,
          8.53832721710205,
          6.340763568878174,
          -7.053678512573242,
          5.399898052215576,
          5.2374138832092285,
          -7.842540740966797,
          1.8028753995895386,
          2.860276937484741,
          -5.830841541290283,
          -1.4648492336273193,
          -7.244351863861084,
          6.431239604949951,
          2.882728099822998,
          -2.3016841411590576,
          -0.48306742310523987,
          0.38692381978034973,
          3.857999086380005,
          -0.8595513105392456,
          -3.0623300075531006,
          8.292052268981934,
          -1.868964433670044,
          8.854470252990723,
          -5.666058540344238,
          -8.107328414916992,
          -6.328596591949463,
          10.273233413696289,
          6.438351631164551,
          2.7435693740844727,
          -9.706954002380371,
          -12.212435722351074,
          3.002962827682495,
          -8.817316055297852,
          0.5255541801452637,
          -2.7220163345336914,
          -10.35653018951416,
          9.70567512512207,
          6.613438129425049,
          -10.523653030395508,
          -1.9970046281814575,
          11.08195972442627,
          -10.526460647583008,
          12.054956436157227,
          -7.290016174316406,
          -5.358804225921631,
          4.931354522705078,
          -5.835350513458252,
          0.5717458724975586,
          -10.609582901000977,
          1.271484136581421,
          -3.1107773780822754,
          -4.874941825866699,
          7.146692276000977,
          2.6759965419769287,
          4.075535774230957,
          5.693333625793457,
          2.138179063796997,
          -5.056548595428467,
          9.0670804977417,
          -3.610083818435669,
          -0.9336502552032471,
          5.473984241485596,
          0.34997913241386414,
          -6.3015313148498535,
          -9.432562828063965,
          -5.383555889129639,
          9.319969177246094,
          -2.7058184146881104,
          1.3119052648544312,
          -8.865744590759277,
          9.377093315124512,
          -2.810457468032837,
          1.7849690914154053,
          -2.372771739959717,
          -4.271018028259277,
          -2.756178855895996,
          10.395147323608398,
          0.6564422845840454,
          -7.211414813995361,
          -4.696285247802734,
          -1.6420294046401978,
          1.2166637182235718,
          6.330290794372559,
          4.415996551513672,
          0.2826380431652069,
          3.443744659423828,
          -0.9907031655311584,
          -1.3333775997161865,
          -3.1946310997009277,
          -4.012899875640869,
          0.03720942884683609,
          -6.286508083343506,
          3.478588819503784,
          -5.129859924316406,
          0.02461070753633976,
          5.090206146240234,
          1.8906915187835693,
          -10.42405891418457,
          -6.517125129699707,
          6.156214714050293,
          -12.4510498046875,
          -7.998371601104736,
          0.7895733714103699,
          8.72830867767334,
          4.135881423950195,
          2.980910301208496,
          -11.192194938659668,
          -5.270082473754883,
          0.9534214735031128,
          -3.578829765319824,
          4.529276371002197,
          5.739212989807129,
          7.520740032196045,
          -6.580392837524414,
          1.9743432998657227,
          -11.116393089294434,
          -7.913966655731201,
          4.951046943664551,
          -3.247742176055908,
          -5.05604362487793,
          -8.611879348754883,
          5.211319446563721,
          -1.1253159046173096,
          -9.755656242370605,
          -0.9251127243041992,
          3.047152519226074,
          -9.645984649658203,
          3.112542152404785,
          -9.394173622131348,
          7.373280048370361,
          -4.169713973999023,
          -3.099954843521118,
          -0.48274973034858704,
          -7.166025161743164,
          4.756790637969971,
          -8.86368179321289,
          -10.564537048339844,
          -6.3474812507629395,
          11.462471961975098,
          2.4409568309783936,
          5.372928619384766,
          -9.015680313110352,
          -10.477730751037598,
          7.437909126281738,
          -1.6171642541885376,
          -3.7699167728424072,
          -8.885763168334961,
          1.634864330291748,
          -10.419682502746582,
          0.2536149322986603,
          -5.911916732788086,
          0.1722356379032135,
          -9.311864852905273,
          7.954514026641846,
          -8.079869270324707,
          3.259037494659424,
          -5.048722743988037,
          8.069491386413574,
          2.158189296722412,
          -5.378007411956787,
          -2.146177053451538,
          5.193753242492676,
          -5.061164855957031,
          -10.860031127929688,
          2.877786874771118,
          6.214521884918213,
          4.332518577575684,
          -12.812994956970215,
          5.546800136566162,
          -0.4162336587905884,
          8.572368621826172,
          -0.44278115034103394,
          -1.7813900709152222,
          -3.079723358154297,
          -7.432975769042969,
          5.378166198730469,
          0.010410798713564873,
          0.45035308599472046,
          -6.211248397827148,
          1.5509485006332397,
          1.6389769315719604,
          0.8871888518333435,
          2.1845130920410156,
          10.574546813964844,
          2.524688482284546,
          -10.80748176574707,
          4.471911430358887,
          2.4644129276275635,
          2.230614423751831,
          2.7553253173828125,
          -0.821366548538208,
          -8.38260555267334,
          7.456178188323975,
          -6.219878673553467,
          7.988661766052246,
          -5.029546737670898,
          -9.332841873168945,
          -7.023127555847168,
          -5.0697550773620605,
          -2.8817765712738037,
          5.2166643142700195,
          1.147444725036621,
          4.801699638366699,
          6.75180721282959,
          -3.359239101409912,
          -1.4256163835525513,
          7.140041351318359,
          3.2932469844818115,
          3.297485828399658,
          7.708143711090088,
          -4.621179580688477,
          -6.2082390785217285,
          -0.4236452579498291,
          5.702076435089111,
          -0.07508422434329987,
          1.8648451566696167,
          4.21991491317749,
          4.066370964050293,
          4.017004489898682,
          -4.080822944641113,
          -5.3797454833984375,
          -0.39975062012672424,
          -9.952088356018066,
          -12.894350051879883,
          5.889169692993164,
          1.5313881635665894,
          4.880984306335449,
          -11.301146507263184,
          6.65306282043457,
          10.674540519714355,
          0.02761703170835972,
          4.796186923980713,
          10.716092109680176,
          -10.476351737976074,
          11.787185668945312,
          -7.053076267242432,
          -4.009986877441406,
          8.702188491821289,
          6.027945518493652,
          8.724501609802246,
          -5.215795993804932,
          0.4523868262767792,
          2.885416030883789,
          -6.816856861114502,
          -5.730434417724609,
          0.7473772764205933,
          -8.976183891296387,
          5.033406734466553,
          -1.6370466947555542,
          1.1586365699768066,
          6.9441752433776855,
          -2.526996374130249,
          5.8451337814331055,
          5.615678787231445,
          -2.169353485107422,
          10.787639617919922,
          -3.9805026054382324,
          3.193136692047119,
          12.557398796081543,
          -5.9539995193481445,
          2.7324581146240234,
          4.82319450378418,
          -8.08253002166748,
          4.67453670501709,
          5.974949359893799,
          8.554203033447266,
          -8.235577583312988,
          -9.108580589294434,
          -3.1428020000457764,
          0.9329404234886169,
          -4.8032612800598145,
          -6.374030590057373,
          -0.5787587761878967,
          5.439471244812012,
          -0.5938403010368347,
          12.051628112792969,
          -9.035841941833496,
          6.49390172958374,
          -8.0675630569458,
          -2.759241819381714,
          -6.279235363006592,
          -11.820934295654297,
          -1.5187888145446777,
          -0.012924456968903542,
          -6.673551559448242,
          5.964178085327148,
          -5.761443138122559,
          5.8500142097473145,
          8.457464218139648,
          -10.437981605529785,
          -3.6994473934173584,
          3.86686110496521,
          -6.189916133880615,
          -0.6952571868896484,
          1.8095766305923462,
          -2.880784511566162,
          1.840664029121399,
          2.8908653259277344,
          3.8627679347991943,
          5.079442501068115,
          -7.376220703125,
          2.7542924880981445,
          2.771127700805664,
          -1.4223957061767578,
          -1.2215662002563477,
          -3.031719207763672,
          0.059615980833768845,
          -0.34216728806495667,
          -13.23331069946289,
          -5.684438228607178,
          6.342714786529541,
          -10.03591537475586,
          -7.384064674377441,
          6.134154796600342,
          10.534170150756836,
          2.8823280334472656,
          -12.108098030090332,
          3.618642807006836,
          -4.395543575286865,
          -12.743605613708496,
          9.636923789978027,
          5.951572418212891,
          6.225219249725342,
          6.341056823730469,
          2.48502779006958,
          6.110569477081299,
          6.46428918838501,
          7.446303367614746,
          -2.604771852493286,
          -4.466060161590576,
          -11.158434867858887,
          5.629246711730957,
          2.0989394187927246,
          4.881915092468262,
          -11.821610450744629,
          2.8489129543304443,
          -6.163891792297363,
          2.3816728591918945,
          2.0545520782470703,
          -11.35841178894043,
          12.481258392333984,
          -0.6169394850730896,
          -1.3434587717056274,
          -7.32853889465332,
          -11.282695770263672,
          -8.931196212768555,
          3.3843257427215576,
          -4.431410789489746,
          6.372887134552002,
          2.664029121398926,
          -2.1384379863739014,
          3.3145618438720703,
          2.9800264835357666,
          7.82689905166626,
          3.8338658809661865,
          -11.25992488861084,
          13.167282104492188,
          1.6098195314407349,
          -8.92455768585205,
          7.054494857788086,
          4.17404317855835,
          -8.664713859558105,
          -10.3696870803833,
          -3.871511697769165,
          3.896420955657959,
          -3.357626438140869,
          3.502352237701416,
          -8.36251449584961,
          2.5827701091766357,
          -3.6037232875823975,
          5.1475982666015625,
          7.663947105407715,
          3.512037754058838,
          0.23339705169200897,
          -1.9744685888290405,
          -1.9034045934677124,
          2.8123395442962646,
          -1.8061059713363647,
          4.754222869873047,
          1.5473556518554688,
          2.9853031635284424,
          -12.628228187561035,
          -7.060885906219482,
          -0.6601749658584595,
          -10.05673885345459,
          -4.49319314956665,
          3.518173933029175,
          -5.998435974121094,
          3.453289747238159,
          -3.132530927658081,
          -12.236679077148438,
          -4.573040962219238,
          6.815021514892578,
          5.507009506225586,
          10.851094245910645,
          3.362452983856201,
          -0.7589269280433655,
          -5.989807605743408,
          -4.418740749359131,
          0.4321977496147156,
          6.841869354248047,
          3.145137310028076,
          2.8814198970794678,
          -6.310563087463379,
          6.313766002655029,
          4.527668476104736,
          -1.2779546976089478,
          10.014342308044434,
          -6.030398845672607,
          4.327341556549072,
          7.6552605628967285,
          -0.37440723180770874,
          0.1483536660671234,
          13.67420768737793,
          3.599670886993408,
          4.60483980178833,
          -3.1497087478637695,
          3.225173234939575,
          6.718512058258057,
          -7.113321304321289,
          -4.965785026550293,
          5.567716121673584,
          5.525206565856934,
          -11.779532432556152,
          -4.247857570648193,
          2.355963706970215,
          0.6708446741104126,
          -6.027899265289307,
          -1.7731404304504395,
          4.582505226135254,
          -8.646723747253418,
          -0.2607722580432892,
          -0.2822912633419037,
          -10.521370887756348,
          -1.0135531425476074,
          -11.192200660705566,
          4.860790729522705,
          -8.259230613708496,
          2.526646614074707,
          4.090953350067139,
          -6.81483268737793,
          -3.885488986968994,
          -4.207345485687256,
          1.5587241649627686,
          -11.519356727600098,
          -2.5512099266052246,
          -12.728649139404297,
          0.5360488891601562,
          -6.013055324554443,
          -9.211220741271973,
          6.205408096313477,
          -12.300469398498535,
          11.058585166931152,
          0.5685238242149353,
          -10.134830474853516,
          -0.8266148567199707,
          -0.6018379330635071,
          7.273641109466553,
          0.05625392869114876,
          -6.288045883178711,
          2.1936302185058594,
          9.778294563293457,
          -11.88060188293457,
          7.054862022399902,
          2.651672124862671,
          -11.700759887695312,
          1.657045841217041,
          -8.06617546081543,
          -6.792346477508545,
          6.072910308837891,
          -5.237184047698975,
          8.301090240478516,
          -8.025581359863281,
          5.787087440490723,
          6.371461868286133,
          -4.327834129333496,
          -3.337344169616699,
          4.526061058044434,
          -1.924059271812439,
          -0.08302237838506699,
          -2.821134090423584,
          -0.4278572201728821,
          6.603777885437012,
          -1.863015055656433,
          -10.083290100097656,
          3.408919095993042,
          2.8678431510925293,
          -0.7137938737869263,
          5.509336471557617,
          2.839294195175171,
          2.5332038402557373,
          3.807997226715088,
          6.7851080894470215,
          -9.39272689819336,
          -6.061911582946777,
          7.820092678070068,
          -3.850564479827881,
          -4.750108242034912,
          -10.591503143310547,
          -5.060809135437012,
          5.907763481140137,
          -5.525448322296143,
          4.259631156921387,
          3.900341510772705,
          -7.684724807739258,
          3.47572922706604,
          -2.4945380687713623,
          -3.282402753829956,
          0.06100883707404137,
          2.4416072368621826,
          3.4603638648986816,
          -4.936158180236816,
          6.317620754241943,
          5.015617370605469,
          8.35766887664795,
          1.709343433380127,
          0.8523005247116089,
          -0.9664629101753235,
          -0.12536464631557465,
          0.27109864354133606,
          2.0342178344726562,
          -4.867237567901611,
          0.24330151081085205,
          -4.264878273010254,
          11.343128204345703,
          5.023282527923584,
          4.233143329620361,
          -7.838090896606445,
          2.8756046295166016,
          6.53226900100708,
          -0.7064952850341797,
          1.7501102685928345,
          -1.6958287954330444,
          -2.0314345359802246,
          6.135960578918457,
          4.786524772644043,
          11.314602851867676,
          7.444738864898682,
          1.5301860570907593,
          9.165239334106445,
          -4.437553882598877,
          -10.321388244628906,
          1.5057166814804077,
          -1.626143455505371,
          -2.6291635036468506,
          3.883235216140747,
          -12.502971649169922,
          5.62598180770874,
          6.275529861450195,
          -11.32167911529541,
          6.107369422912598,
          -1.9170607328414917,
          -3.9729597568511963,
          3.310314655303955,
          -4.860066890716553,
          -8.547719955444336,
          2.3922903537750244,
          0.15827065706253052,
          0.39885473251342773,
          5.64107608795166,
          5.940352439880371,
          -9.842967987060547,
          9.47145938873291,
          6.349557399749756,
          6.400929927825928,
          -3.197817325592041,
          3.4362998008728027,
          11.059802055358887,
          -6.309720516204834,
          -2.785078763961792,
          5.6330037117004395,
          1.277552604675293,
          -4.603498458862305,
          -7.15546989440918,
          0.8636035323143005,
          1.0496159791946411,
          5.714592933654785,
          6.217020034790039,
          -5.3380537033081055,
          -7.401421070098877,
          5.209405422210693,
          -6.787996768951416,
          -1.0417402982711792,
          -2.0195181369781494,
          1.5679067373275757,
          5.365917682647705,
          1.5505719184875488,
          -4.938919544219971,
          -0.5739356279373169,
          1.5766634941101074,
          5.714138984680176,
          -12.20091438293457,
          7.224899768829346,
          6.366991996765137,
          -4.9982194900512695,
          7.224914073944092,
          -2.9737961292266846,
          -2.7718091011047363,
          12.823654174804688,
          -8.480609893798828,
          12.445801734924316,
          -4.507253170013428,
          12.71263313293457,
          5.735388278961182,
          1.8261773586273193,
          -4.810931205749512,
          2.152261734008789,
          4.493404388427734,
          4.900825500488281,
          -3.794511079788208,
          -0.8976819515228271,
          12.0025634765625,
          5.142702579498291,
          -4.932649612426758,
          3.164764642715454,
          -6.650552749633789,
          -0.2001596987247467,
          -2.2950332164764404,
          1.1229554414749146,
          -0.5473824143409729,
          6.438918590545654,
          2.8904287815093994,
          5.905975818634033,
          -12.478531837463379,
          -10.269837379455566,
          -9.723058700561523,
          8.442819595336914,
          5.108042240142822,
          -8.145039558410645,
          6.345789432525635,
          -8.842373847961426,
          6.227537631988525,
          5.024937629699707,
          -3.0222277641296387,
          -2.9542911052703857,
          5.575363636016846,
          6.9056172370910645,
          5.246251583099365,
          -5.16563606262207,
          -6.539450168609619,
          2.522068738937378,
          -3.892216920852661,
          -6.4041032791137695,
          -5.061379432678223,
          -9.918536186218262,
          -1.3147073984146118,
          11.056407928466797,
          -3.8152918815612793,
          -0.7464929223060608,
          -8.69873046875,
          -5.308046340942383,
          -8.796771049499512,
          -3.7179834842681885,
          -7.303934097290039,
          1.5469787120819092,
          2.288998603820801,
          4.637246131896973,
          -3.7118260860443115,
          8.923047065734863,
          0.992853045463562,
          -5.461758136749268,
          7.745785713195801,
          -9.254278182983398,
          -9.42076301574707,
          0.17516054213047028,
          -3.4084348678588867,
          3.672206163406372,
          2.366431474685669,
          1.991794228553772,
          -0.47906792163848877,
          5.651928424835205,
          -1.350608229637146,
          2.6802635192871094,
          -10.97951889038086,
          -0.00676860474050045,
          -3.6013565063476562,
          11.193754196166992,
          -6.697326183319092,
          -9.476839065551758,
          2.193849563598633,
          7.586152076721191,
          -10.139908790588379,
          0.5336722731590271,
          11.741647720336914,
          6.078755855560303,
          -2.4009296894073486,
          7.3298187255859375,
          -0.4979453682899475,
          6.463066577911377,
          -0.514201283454895,
          -7.355493068695068,
          -1.2208080291748047,
          9.049284934997559,
          -3.8920705318450928,
          -0.8489771485328674,
          0.4163150489330292,
          -3.5190818309783936,
          4.828287124633789,
          -5.531925201416016,
          -9.047737121582031,
          7.42284631729126,
          1.9438719749450684,
          -2.0275657176971436,
          -2.3763375282287598,
          -4.725044250488281,
          9.6041841506958,
          -3.3427000045776367,
          13.499590873718262,
          8.590502738952637,
          7.166259288787842,
          0.19480620324611664,
          -0.4369511008262634,
          -5.999281883239746,
          4.1044769287109375,
          -0.6413004994392395,
          -4.357242584228516,
          2.7382049560546875,
          -6.520803451538086,
          1.1037381887435913,
          -0.5561728477478027,
          2.649900197982788,
          -6.065347194671631,
          11.825440406799316,
          -9.387320518493652,
          1.7148547172546387,
          0.6155569553375244,
          -2.7687768936157227,
          -10.157933235168457,
          7.582806587219238,
          -7.880245208740234,
          1.5579416751861572,
          -0.690247654914856,
          0.8351455926895142,
          4.638824462890625,
          5.764281749725342,
          -0.44587668776512146,
          -7.645423412322998,
          6.4931960105896,
          -4.295993804931641,
          4.322585105895996,
          -5.971632480621338,
          5.818572998046875,
          -6.199944496154785,
          3.7543859481811523,
          8.668639183044434,
          3.816697597503662,
          2.2015206813812256,
          -4.2502899169921875,
          1.4732575416564941,
          -8.300517082214355,
          -1.2233421802520752,
          5.635486125946045,
          -0.06215543672442436,
          -6.3338518142700195,
          4.6536478996276855,
          -9.244393348693848,
          1.2063403129577637,
          6.245792388916016,
          7.8792405128479,
          -6.871014595031738,
          -2.384633779525757,
          -0.14237377047538757,
          -3.4606919288635254,
          -2.586297035217285,
          2.9843251705169678,
          -4.306148529052734,
          -10.273633003234863,
          -9.749939918518066,
          0.6265971660614014,
          1.03047776222229,
          -0.8043816685676575,
          -4.980255603790283,
          0.47338777780532837,
          0.6132804155349731,
          -7.9013566970825195,
          -6.898319244384766,
          0.4565494954586029,
          -1.3682078123092651,
          2.961503267288208,
          -2.877218008041382,
          -2.750317096710205,
          -11.2223482131958,
          -6.193578243255615,
          -3.039210081100464,
          14.472829818725586,
          2.5270869731903076,
          6.791000843048096,
          -11.71253490447998,
          -0.12455005198717117,
          -5.966009616851807,
          -9.671968460083008,
          -4.55640983581543,
          9.332866668701172,
          -7.061443328857422,
          4.255985736846924,
          3.494424343109131,
          -3.77766752243042,
          5.780063152313232,
          -9.95889949798584,
          9.242321014404297,
          -3.1408040523529053,
          8.321098327636719,
          -6.43091344833374,
          -9.212492942810059,
          4.99614143371582,
          3.4279258251190186,
          1.9627125263214111,
          9.029684066772461,
          -4.478269100189209,
          -3.3411524295806885,
          -9.404454231262207,
          0.7754865884780884,
          8.80897045135498,
          7.007530212402344,
          5.745607376098633,
          8.104150772094727,
          1.0008724927902222,
          -4.822174549102783,
          0.4417179524898529,
          -9.514435768127441,
          -11.885000228881836,
          -2.904714822769165,
          -4.740117073059082,
          -11.268924713134766,
          0.7568469643592834,
          10.682008743286133,
          -12.68077278137207,
          -6.108786106109619,
          -5.715087413787842,
          -8.168689727783203,
          10.575139999389648,
          -11.142979621887207,
          1.1900895833969116,
          -7.0676045417785645,
          -4.915337562561035,
          0.9875251650810242,
          4.583166599273682,
          -12.406587600708008,
          -4.8445000648498535,
          -9.409682273864746,
          -4.483036994934082,
          0.8789180517196655,
          5.459672451019287,
          4.6848931312561035,
          -7.14198637008667,
          -2.4710960388183594,
          1.8515194654464722,
          -1.5117156505584717,
          4.033138751983643,
          7.312700271606445,
          13.837080955505371,
          6.570005416870117,
          1.5412613153457642,
          0.5643072724342346,
          10.980402946472168,
          -9.209226608276367,
          -5.411323547363281,
          -10.729024887084961,
          0.3284660875797272,
          7.904239654541016,
          3.426071882247925,
          0.24697361886501312,
          3.9598655700683594,
          3.085252285003662,
          -6.408993721008301,
          9.87154769897461,
          -3.3577520847320557,
          6.598536968231201,
          -10.48102855682373,
          -0.22192907333374023,
          4.245051860809326,
          -6.829580783843994,
          -8.276095390319824,
          -4.440319061279297,
          -0.20242057740688324,
          -7.023659706115723,
          -10.939053535461426,
          1.170089840888977,
          0.35476914048194885,
          13.22828483581543,
          12.804804801940918,
          3.2992684841156006,
          -4.4227213859558105,
          -6.016637802124023,
          5.217094421386719,
          -8.004316329956055,
          -4.142511367797852,
          -5.389753818511963,
          4.4267778396606445,
          -0.7558546662330627,
          -0.5633112788200378,
          -3.2921104431152344,
          1.5088731050491333,
          10.061858177185059,
          -11.83769416809082,
          3.3585731983184814,
          -4.64609432220459,
          -2.047180652618408,
          6.31543493270874,
          7.740644931793213,
          2.604707717895508,
          1.6500319242477417,
          2.462327241897583,
          10.647859573364258,
          -10.668478965759277,
          6.851518154144287,
          -2.454598903656006,
          -1.5756325721740723,
          -1.5787394046783447,
          0.028070244938135147,
          4.277144432067871,
          -5.890278339385986,
          0.5783127546310425,
          -6.08465051651001,
          4.904094219207764,
          2.5626044273376465,
          10.807616233825684,
          -10.751511573791504,
          0.5584185719490051,
          1.3404970169067383,
          7.175612926483154,
          -10.472244262695312,
          1.4529105424880981,
          -7.2932024002075195,
          -3.928478956222534,
          -1.5835367441177368,
          -11.337077140808105,
          7.146214008331299,
          -4.289438724517822,
          -0.5009655356407166,
          -1.3727126121520996,
          2.4929161071777344,
          2.441042184829712,
          2.954082727432251,
          2.950911521911621,
          7.3022074699401855,
          -13.119240760803223,
          -7.14077615737915,
          2.435882091522217,
          6.8026580810546875,
          5.197699546813965,
          4.448421955108643,
          2.1850368976593018,
          0.696411669254303,
          -10.318316459655762,
          -1.4875214099884033,
          -2.5285561084747314,
          -5.080850124359131,
          3.5756337642669678,
          5.492712020874023,
          5.13353157043457,
          2.4704461097717285,
          7.037381649017334,
          5.612574100494385,
          -2.818164825439453,
          6.410780429840088,
          2.8717329502105713,
          -2.235093593597412,
          8.218085289001465,
          0.8003377318382263,
          4.400309085845947,
          -7.984755516052246,
          3.7687489986419678,
          0.06066042184829712,
          -0.383161336183548,
          -1.8715258836746216,
          3.6249959468841553,
          1.8140321969985962,
          -0.5824528932571411,
          0.5328687429428101,
          4.0629119873046875,
          3.4104666709899902,
          6.130672454833984,
          -0.08651047945022583,
          -0.4584276080131531,
          -4.1989593505859375,
          -1.2013882398605347,
          -7.156435012817383,
          4.876735210418701,
          4.0233941078186035,
          1.2218372821807861,
          0.22443683445453644,
          1.8447648286819458,
          5.779122352600098,
          1.537831425666809,
          -5.2368483543396,
          5.640313148498535,
          8.326016426086426,
          8.926538467407227,
          6.35671329498291,
          7.556634902954102,
          -6.387211322784424,
          6.872435569763184,
          -9.912445068359375,
          -0.8113421201705933,
          0.2274484485387802,
          -10.47673511505127,
          -2.153697967529297,
          3.136477470397949,
          -6.604605197906494,
          4.293085098266602,
          6.128749370574951,
          11.31722640991211,
          -4.65867805480957,
          5.604756832122803,
          -4.064502716064453,
          -8.87174129486084,
          7.139176845550537,
          -1.5505458116531372,
          -9.419293403625488,
          -0.9755809307098389,
          4.462049961090088,
          -7.274148464202881,
          8.79741382598877,
          4.026440143585205,
          -1.5233154296875,
          4.425441265106201,
          7.543704986572266,
          -10.033065795898438,
          -8.885648727416992,
          5.164252758026123,
          -3.584075450897217,
          4.725172519683838,
          -4.805098056793213,
          5.641786575317383,
          -12.662201881408691,
          3.039151668548584,
          -3.6962199211120605,
          -4.3538289070129395,
          4.686249256134033,
          -6.441553115844727,
          -1.0742563009262085,
          -10.533647537231445,
          -0.08219429105520248,
          -0.7916333079338074,
          5.3741135597229,
          7.757612228393555,
          5.990824222564697,
          -1.2791956663131714,
          -4.375512599945068,
          0.7812914252281189,
          -0.786410927772522,
          -2.461897611618042,
          -0.3705486059188843,
          -6.454639911651611,
          2.1302638053894043,
          7.410959720611572,
          -0.056010354310274124,
          -7.755494594573975,
          -10.19899845123291,
          5.647538185119629,
          -8.802082061767578,
          6.043081760406494,
          -8.87371826171875,
          -9.412016868591309,
          -3.7661798000335693,
          -0.3809356689453125,
          -3.1868696212768555,
          -4.076445579528809,
          2.8806991577148438,
          0.13223351538181305,
          -2.3453164100646973,
          -2.857511520385742,
          -6.070888996124268,
          -12.209033966064453,
          1.0780771970748901,
          -0.424633651971817,
          6.803387641906738,
          -10.550027847290039,
          -10.613200187683105,
          3.093505382537842,
          1.7582650184631348,
          -9.180991172790527,
          6.763245105743408,
          -10.87610912322998,
          6.470521450042725,
          -10.342609405517578,
          3.8117458820343018,
          3.3946523666381836,
          -0.006874217186123133,
          -8.042052268981934,
          5.035623073577881,
          -1.859014630317688,
          -2.000124216079712,
          4.858310699462891,
          -3.283578395843506,
          -3.714649200439453,
          -1.6810026168823242,
          6.562331676483154,
          6.437303066253662,
          -5.970216274261475,
          5.769165515899658,
          -1.4745320081710815,
          -11.79126262664795,
          -3.591768503189087,
          -11.460953712463379,
          0.183034285902977,
          7.359792232513428,
          -2.9339048862457275,
          1.0628206729888916,
          9.273341178894043,
          2.840177536010742,
          3.9991841316223145,
          -10.90105152130127,
          5.9494829177856445,
          -0.08618779480457306,
          6.070404052734375,
          3.8024065494537354,
          -0.06964286416769028,
          11.625873565673828,
          -12.29940414428711,
          7.033891677856445,
          -6.694993019104004,
          -7.855232238769531,
          -4.031702995300293,
          0.11056025326251984,
          4.161733627319336,
          -10.567659378051758,
          -4.302319526672363,
          -3.9039647579193115,
          4.440001010894775,
          -4.718638896942139,
          -5.931613445281982,
          7.222605228424072,
          -7.6781110763549805,
          7.300817966461182,
          3.0769340991973877,
          1.8619736433029175,
          5.367889881134033,
          0.6871151924133301,
          -5.305546283721924,
          -4.905272960662842,
          1.4508754014968872,
          -5.737096309661865,
          5.276242733001709,
          -4.742653846740723,
          -1.1006304025650024,
          6.255351543426514,
          8.13455581665039,
          -1.9912694692611694,
          -7.250490188598633,
          6.064268589019775,
          4.998730182647705,
          -0.7475361227989197,
          7.553847789764404,
          -6.670279502868652,
          -7.043792724609375,
          -10.210296630859375,
          0.4090975224971771,
          -8.633495330810547,
          -2.991600513458252,
          -10.048633575439453,
          -3.2961671352386475,
          12.081552505493164,
          3.7910704612731934,
          4.904366493225098,
          -4.951783657073975,
          0.7778017520904541,
          0.6548681259155273,
          -0.8244940042495728,
          -10.462286949157715,
          0.04900427535176277,
          -1.6370753049850464,
          -3.922154664993286,
          -0.1987747848033905,
          -10.451655387878418,
          2.9349071979522705,
          5.057143688201904,
          -5.29741096496582,
          -8.808817863464355,
          -12.372629165649414,
          -2.050177574157715,
          -9.656279563903809,
          0.4474572539329529,
          1.5064470767974854,
          -1.3790463209152222,
          -6.025339603424072,
          4.280721664428711,
          -9.39476203918457,
          0.19178439676761627,
          3.895026206970215,
          -3.889846086502075,
          -9.065411567687988,
          -9.121391296386719,
          -1.687098503112793,
          7.227853298187256,
          -6.901752948760986,
          3.0894134044647217,
          7.442594051361084,
          -10.263795852661133,
          4.141935348510742,
          3.1668572425842285,
          6.400206089019775,
          -9.003133773803711,
          5.596347332000732,
          7.998869895935059,
          -2.778404712677002,
          -10.557476043701172,
          8.033956527709961,
          0.3130706250667572,
          -11.769132614135742,
          3.683535099029541,
          5.992250442504883,
          12.312600135803223,
          -9.507034301757812,
          4.435235500335693,
          -9.450390815734863,
          4.9800705909729,
          7.165390968322754,
          0.6605625748634338,
          1.0373276472091675,
          -4.446061611175537,
          -4.914848327636719,
          -0.42840903997421265,
          9.614917755126953,
          0.08458904922008514
         ]
        }
       ],
       "layout": {
        "coloraxis": {
         "colorbar": {
          "title": {
           "text": "color"
          }
         },
         "colorscale": [
          [
           0,
           "#0d0887"
          ],
          [
           0.1111111111111111,
           "#46039f"
          ],
          [
           0.2222222222222222,
           "#7201a8"
          ],
          [
           0.3333333333333333,
           "#9c179e"
          ],
          [
           0.4444444444444444,
           "#bd3786"
          ],
          [
           0.5555555555555556,
           "#d8576b"
          ],
          [
           0.6666666666666666,
           "#ed7953"
          ],
          [
           0.7777777777777778,
           "#fb9f3a"
          ],
          [
           0.8888888888888888,
           "#fdca26"
          ],
          [
           1,
           "#f0f921"
          ]
         ]
        },
        "legend": {
         "tracegroupgap": 0
        },
        "margin": {
         "t": 60
        },
        "scene": {
         "domain": {
          "x": [
           0,
           1
          ],
          "y": [
           0,
           1
          ]
         },
         "xaxis": {
          "title": {
           "text": "pc_1"
          }
         },
         "yaxis": {
          "title": {
           "text": "pc_2"
          }
         },
         "zaxis": {
          "title": {
           "text": "pc_3"
          }
         }
        },
        "template": {
         "data": {
          "bar": [
           {
            "error_x": {
             "color": "#2a3f5f"
            },
            "error_y": {
             "color": "#2a3f5f"
            },
            "marker": {
             "line": {
              "color": "#E5ECF6",
              "width": 0.5
             }
            },
            "type": "bar"
           }
          ],
          "barpolar": [
           {
            "marker": {
             "line": {
              "color": "#E5ECF6",
              "width": 0.5
             }
            },
            "type": "barpolar"
           }
          ],
          "carpet": [
           {
            "aaxis": {
             "endlinecolor": "#2a3f5f",
             "gridcolor": "white",
             "linecolor": "white",
             "minorgridcolor": "white",
             "startlinecolor": "#2a3f5f"
            },
            "baxis": {
             "endlinecolor": "#2a3f5f",
             "gridcolor": "white",
             "linecolor": "white",
             "minorgridcolor": "white",
             "startlinecolor": "#2a3f5f"
            },
            "type": "carpet"
           }
          ],
          "choropleth": [
           {
            "colorbar": {
             "outlinewidth": 0,
             "ticks": ""
            },
            "type": "choropleth"
           }
          ],
          "contour": [
           {
            "colorbar": {
             "outlinewidth": 0,
             "ticks": ""
            },
            "colorscale": [
             [
              0,
              "#0d0887"
             ],
             [
              0.1111111111111111,
              "#46039f"
             ],
             [
              0.2222222222222222,
              "#7201a8"
             ],
             [
              0.3333333333333333,
              "#9c179e"
             ],
             [
              0.4444444444444444,
              "#bd3786"
             ],
             [
              0.5555555555555556,
              "#d8576b"
             ],
             [
              0.6666666666666666,
              "#ed7953"
             ],
             [
              0.7777777777777778,
              "#fb9f3a"
             ],
             [
              0.8888888888888888,
              "#fdca26"
             ],
             [
              1,
              "#f0f921"
             ]
            ],
            "type": "contour"
           }
          ],
          "contourcarpet": [
           {
            "colorbar": {
             "outlinewidth": 0,
             "ticks": ""
            },
            "type": "contourcarpet"
           }
          ],
          "heatmap": [
           {
            "colorbar": {
             "outlinewidth": 0,
             "ticks": ""
            },
            "colorscale": [
             [
              0,
              "#0d0887"
             ],
             [
              0.1111111111111111,
              "#46039f"
             ],
             [
              0.2222222222222222,
              "#7201a8"
             ],
             [
              0.3333333333333333,
              "#9c179e"
             ],
             [
              0.4444444444444444,
              "#bd3786"
             ],
             [
              0.5555555555555556,
              "#d8576b"
             ],
             [
              0.6666666666666666,
              "#ed7953"
             ],
             [
              0.7777777777777778,
              "#fb9f3a"
             ],
             [
              0.8888888888888888,
              "#fdca26"
             ],
             [
              1,
              "#f0f921"
             ]
            ],
            "type": "heatmap"
           }
          ],
          "heatmapgl": [
           {
            "colorbar": {
             "outlinewidth": 0,
             "ticks": ""
            },
            "colorscale": [
             [
              0,
              "#0d0887"
             ],
             [
              0.1111111111111111,
              "#46039f"
             ],
             [
              0.2222222222222222,
              "#7201a8"
             ],
             [
              0.3333333333333333,
              "#9c179e"
             ],
             [
              0.4444444444444444,
              "#bd3786"
             ],
             [
              0.5555555555555556,
              "#d8576b"
             ],
             [
              0.6666666666666666,
              "#ed7953"
             ],
             [
              0.7777777777777778,
              "#fb9f3a"
             ],
             [
              0.8888888888888888,
              "#fdca26"
             ],
             [
              1,
              "#f0f921"
             ]
            ],
            "type": "heatmapgl"
           }
          ],
          "histogram": [
           {
            "marker": {
             "colorbar": {
              "outlinewidth": 0,
              "ticks": ""
             }
            },
            "type": "histogram"
           }
          ],
          "histogram2d": [
           {
            "colorbar": {
             "outlinewidth": 0,
             "ticks": ""
            },
            "colorscale": [
             [
              0,
              "#0d0887"
             ],
             [
              0.1111111111111111,
              "#46039f"
             ],
             [
              0.2222222222222222,
              "#7201a8"
             ],
             [
              0.3333333333333333,
              "#9c179e"
             ],
             [
              0.4444444444444444,
              "#bd3786"
             ],
             [
              0.5555555555555556,
              "#d8576b"
             ],
             [
              0.6666666666666666,
              "#ed7953"
             ],
             [
              0.7777777777777778,
              "#fb9f3a"
             ],
             [
              0.8888888888888888,
              "#fdca26"
             ],
             [
              1,
              "#f0f921"
             ]
            ],
            "type": "histogram2d"
           }
          ],
          "histogram2dcontour": [
           {
            "colorbar": {
             "outlinewidth": 0,
             "ticks": ""
            },
            "colorscale": [
             [
              0,
              "#0d0887"
             ],
             [
              0.1111111111111111,
              "#46039f"
             ],
             [
              0.2222222222222222,
              "#7201a8"
             ],
             [
              0.3333333333333333,
              "#9c179e"
             ],
             [
              0.4444444444444444,
              "#bd3786"
             ],
             [
              0.5555555555555556,
              "#d8576b"
             ],
             [
              0.6666666666666666,
              "#ed7953"
             ],
             [
              0.7777777777777778,
              "#fb9f3a"
             ],
             [
              0.8888888888888888,
              "#fdca26"
             ],
             [
              1,
              "#f0f921"
             ]
            ],
            "type": "histogram2dcontour"
           }
          ],
          "mesh3d": [
           {
            "colorbar": {
             "outlinewidth": 0,
             "ticks": ""
            },
            "type": "mesh3d"
           }
          ],
          "parcoords": [
           {
            "line": {
             "colorbar": {
              "outlinewidth": 0,
              "ticks": ""
             }
            },
            "type": "parcoords"
           }
          ],
          "pie": [
           {
            "automargin": true,
            "type": "pie"
           }
          ],
          "scatter": [
           {
            "marker": {
             "colorbar": {
              "outlinewidth": 0,
              "ticks": ""
             }
            },
            "type": "scatter"
           }
          ],
          "scatter3d": [
           {
            "line": {
             "colorbar": {
              "outlinewidth": 0,
              "ticks": ""
             }
            },
            "marker": {
             "colorbar": {
              "outlinewidth": 0,
              "ticks": ""
             }
            },
            "type": "scatter3d"
           }
          ],
          "scattercarpet": [
           {
            "marker": {
             "colorbar": {
              "outlinewidth": 0,
              "ticks": ""
             }
            },
            "type": "scattercarpet"
           }
          ],
          "scattergeo": [
           {
            "marker": {
             "colorbar": {
              "outlinewidth": 0,
              "ticks": ""
             }
            },
            "type": "scattergeo"
           }
          ],
          "scattergl": [
           {
            "marker": {
             "colorbar": {
              "outlinewidth": 0,
              "ticks": ""
             }
            },
            "type": "scattergl"
           }
          ],
          "scattermapbox": [
           {
            "marker": {
             "colorbar": {
              "outlinewidth": 0,
              "ticks": ""
             }
            },
            "type": "scattermapbox"
           }
          ],
          "scatterpolar": [
           {
            "marker": {
             "colorbar": {
              "outlinewidth": 0,
              "ticks": ""
             }
            },
            "type": "scatterpolar"
           }
          ],
          "scatterpolargl": [
           {
            "marker": {
             "colorbar": {
              "outlinewidth": 0,
              "ticks": ""
             }
            },
            "type": "scatterpolargl"
           }
          ],
          "scatterternary": [
           {
            "marker": {
             "colorbar": {
              "outlinewidth": 0,
              "ticks": ""
             }
            },
            "type": "scatterternary"
           }
          ],
          "surface": [
           {
            "colorbar": {
             "outlinewidth": 0,
             "ticks": ""
            },
            "colorscale": [
             [
              0,
              "#0d0887"
             ],
             [
              0.1111111111111111,
              "#46039f"
             ],
             [
              0.2222222222222222,
              "#7201a8"
             ],
             [
              0.3333333333333333,
              "#9c179e"
             ],
             [
              0.4444444444444444,
              "#bd3786"
             ],
             [
              0.5555555555555556,
              "#d8576b"
             ],
             [
              0.6666666666666666,
              "#ed7953"
             ],
             [
              0.7777777777777778,
              "#fb9f3a"
             ],
             [
              0.8888888888888888,
              "#fdca26"
             ],
             [
              1,
              "#f0f921"
             ]
            ],
            "type": "surface"
           }
          ],
          "table": [
           {
            "cells": {
             "fill": {
              "color": "#EBF0F8"
             },
             "line": {
              "color": "white"
             }
            },
            "header": {
             "fill": {
              "color": "#C8D4E3"
             },
             "line": {
              "color": "white"
             }
            },
            "type": "table"
           }
          ]
         },
         "layout": {
          "annotationdefaults": {
           "arrowcolor": "#2a3f5f",
           "arrowhead": 0,
           "arrowwidth": 1
          },
          "coloraxis": {
           "colorbar": {
            "outlinewidth": 0,
            "ticks": ""
           }
          },
          "colorscale": {
           "diverging": [
            [
             0,
             "#8e0152"
            ],
            [
             0.1,
             "#c51b7d"
            ],
            [
             0.2,
             "#de77ae"
            ],
            [
             0.3,
             "#f1b6da"
            ],
            [
             0.4,
             "#fde0ef"
            ],
            [
             0.5,
             "#f7f7f7"
            ],
            [
             0.6,
             "#e6f5d0"
            ],
            [
             0.7,
             "#b8e186"
            ],
            [
             0.8,
             "#7fbc41"
            ],
            [
             0.9,
             "#4d9221"
            ],
            [
             1,
             "#276419"
            ]
           ],
           "sequential": [
            [
             0,
             "#0d0887"
            ],
            [
             0.1111111111111111,
             "#46039f"
            ],
            [
             0.2222222222222222,
             "#7201a8"
            ],
            [
             0.3333333333333333,
             "#9c179e"
            ],
            [
             0.4444444444444444,
             "#bd3786"
            ],
            [
             0.5555555555555556,
             "#d8576b"
            ],
            [
             0.6666666666666666,
             "#ed7953"
            ],
            [
             0.7777777777777778,
             "#fb9f3a"
            ],
            [
             0.8888888888888888,
             "#fdca26"
            ],
            [
             1,
             "#f0f921"
            ]
           ],
           "sequentialminus": [
            [
             0,
             "#0d0887"
            ],
            [
             0.1111111111111111,
             "#46039f"
            ],
            [
             0.2222222222222222,
             "#7201a8"
            ],
            [
             0.3333333333333333,
             "#9c179e"
            ],
            [
             0.4444444444444444,
             "#bd3786"
            ],
            [
             0.5555555555555556,
             "#d8576b"
            ],
            [
             0.6666666666666666,
             "#ed7953"
            ],
            [
             0.7777777777777778,
             "#fb9f3a"
            ],
            [
             0.8888888888888888,
             "#fdca26"
            ],
            [
             1,
             "#f0f921"
            ]
           ]
          },
          "colorway": [
           "#636efa",
           "#EF553B",
           "#00cc96",
           "#ab63fa",
           "#FFA15A",
           "#19d3f3",
           "#FF6692",
           "#B6E880",
           "#FF97FF",
           "#FECB52"
          ],
          "font": {
           "color": "#2a3f5f"
          },
          "geo": {
           "bgcolor": "white",
           "lakecolor": "white",
           "landcolor": "#E5ECF6",
           "showlakes": true,
           "showland": true,
           "subunitcolor": "white"
          },
          "hoverlabel": {
           "align": "left"
          },
          "hovermode": "closest",
          "mapbox": {
           "style": "light"
          },
          "paper_bgcolor": "white",
          "plot_bgcolor": "#E5ECF6",
          "polar": {
           "angularaxis": {
            "gridcolor": "white",
            "linecolor": "white",
            "ticks": ""
           },
           "bgcolor": "#E5ECF6",
           "radialaxis": {
            "gridcolor": "white",
            "linecolor": "white",
            "ticks": ""
           }
          },
          "scene": {
           "xaxis": {
            "backgroundcolor": "#E5ECF6",
            "gridcolor": "white",
            "gridwidth": 2,
            "linecolor": "white",
            "showbackground": true,
            "ticks": "",
            "zerolinecolor": "white"
           },
           "yaxis": {
            "backgroundcolor": "#E5ECF6",
            "gridcolor": "white",
            "gridwidth": 2,
            "linecolor": "white",
            "showbackground": true,
            "ticks": "",
            "zerolinecolor": "white"
           },
           "zaxis": {
            "backgroundcolor": "#E5ECF6",
            "gridcolor": "white",
            "gridwidth": 2,
            "linecolor": "white",
            "showbackground": true,
            "ticks": "",
            "zerolinecolor": "white"
           }
          },
          "shapedefaults": {
           "line": {
            "color": "#2a3f5f"
           }
          },
          "ternary": {
           "aaxis": {
            "gridcolor": "white",
            "linecolor": "white",
            "ticks": ""
           },
           "baxis": {
            "gridcolor": "white",
            "linecolor": "white",
            "ticks": ""
           },
           "bgcolor": "#E5ECF6",
           "caxis": {
            "gridcolor": "white",
            "linecolor": "white",
            "ticks": ""
           }
          },
          "title": {
           "x": 0.05
          },
          "xaxis": {
           "automargin": true,
           "gridcolor": "white",
           "linecolor": "white",
           "ticks": "",
           "title": {
            "standoff": 15
           },
           "zerolinecolor": "white",
           "zerolinewidth": 2
          },
          "yaxis": {
           "automargin": true,
           "gridcolor": "white",
           "linecolor": "white",
           "ticks": "",
           "title": {
            "standoff": 15
           },
           "zerolinecolor": "white",
           "zerolinewidth": 2
          }
         }
        }
       }
      },
      "text/html": [
       "<div>                            <div id=\"26aa6b04-61ac-42e2-afd6-8524be45f1ff\" class=\"plotly-graph-div\" style=\"height:525px; width:100%;\"></div>            <script type=\"text/javascript\">                require([\"plotly\"], function(Plotly) {                    window.PLOTLYENV=window.PLOTLYENV || {};                                    if (document.getElementById(\"26aa6b04-61ac-42e2-afd6-8524be45f1ff\")) {                    Plotly.newPlot(                        \"26aa6b04-61ac-42e2-afd6-8524be45f1ff\",                        [{\"customdata\": [[\"are dates harmful for a diabetic ?\"], [\"what is gestational diabetes and what are the sign and symptoms ?\"], [\"what type of diet is best for the treatment of diabetes ?\"], [\"where in the cell are <unk> located ?\"], [\"the organ located near the stomach that makes insulin ?\"], [\"what is the nursing intervention for the dehydration ?\"], [\"why does the risk for developing diabetes increase with age ?\"], [\"if you are diabetic what foods should you avoid ?\"], [\"are dry eyes and dry mouth symptoms of diabetes ?\"], [\"does type two diabetes cause toe problems ?\"], [\"what type of cereal is good for a person with diabetes ?\"], [\"what may be the cause of diabetic neuropathy ?\"], [\"your sugar stays high a lot but when it is normal for a few days your whole body swells with fluid what could cause this ?\"], [\"what food should diabetics avoid ?\"], [\"is there anywhere i can get free supplies for blood sugar testing ?\"], [\"what is a positive result for the benedict test ?\"], [\"what kind of foods are diabetic friendly ?\"], [\"where do i go to find the latest diabetes treatment ?\"], [\"can a diabetic have a seizure with a blood sugar level at seventy seven ?\"], [\"do low blood glucose levels cause weight loss ?\"], [\"can being a diabetic cause a home pregnancy test to read negative ?\"], [\"do you have to change your diet to take slim fast ?\"], [\"the link between physical activity and diabetes ?\"], [\"can you die from diabetes ?\"], [\"storage center of a cell ?\"], [\"normal blood glucose reading ?\"], [\"what liquor is best for diabetes ?\"], [\"are diabetic diets safe to follow ?\"], [\"why do people with diabetes have to test their blood sugar level before injecting themselves insulin ?\"], [\"what are the emotional effects of diabetes ?\"], [\"will drinking water lower blood sugar ?\"], [\"what system <unk> glucose levels ?\"], [\"did laura ingalls wilder have diabetes ?\"], [\"are most diabetic snacks sugar free ?\"], [\"why is glucose elevated in the urine of diabetics ?\"], [\"when is blood sugar level is too high ?\"], [\"what impact does gestational diabetes have on the placenta ?\"], [\"how do you consume cinnamon for diabetes ?\"], [\"what are the different ways to administer diabetic medications ?\"], [\"how can one research what diabetes is ?\"], [\"what is the difference between a type-1 diabetic and an insulin-dependent diabetic ?\"], [\"how do diet and exercise help reverse diabetes ?\"], [\"where can i find good diabetic cook books ?\"], [\"can you get diabetes from smoking ?\"], [\"the ph of blood is usually maintained at about ?\"], [\"which sweet substance is used in the diet of diabetics and <unk> ?\"], [\"does black coffee affect your blood sugar levels ?\"], [\"how many diabetics are there in the world ?\"], [\"can taking cinnamon help your blood glucose levels ?\"], [\"what causes diabetes insipidus ?\"], [\"is artificial honey causes diabetes ?\"], [\"what type of medications are used in the treatment of diabetes ?\"], [\"what is the purpose of diabetes ?\"], [\"what if gangrene is not treated ?\"], [\"if your blood sugar is four hundred and thirty should you go to the hospital ?\"], [\"what effect do high triglycerides have on long term health of a person ?\"], [\"does reliv helps type one diabetes and <unk> ?\"], [\"where can you find insulin ?\"], [\"what does ensure help you for ?\"], [\"where can i find more information on diabetes recipes ?\"], [\"can drinking a regular coke jump start your body to lower your blood sugar ?\"], [\"your dog is diabetic and ate some fudge should you give her her insulin shot ?\"], [\"what are the symptoms of dibetes ?\"], [\"what is <unk> ?\"], [\"in diabetes mellitus the blood glucose level is high and glucose appears in the urine this is due to a <unk> of the carrier proteins along the kidney <unk> namely ?\"], [\"what glucose level is high for glucosuria ?\"], [\"what is type i diabetes ?\"], [\"what are the two types of shock that diabetics go into ?\"], [\"is blood sugar of one hundred and twelve high ?\"], [\"is diabetes a <unk> ?\"], [\"which type of diabetes mellitus is an insulin resistant disorder ?\"], [\"can a diabetic have brown <unk> ?\"], [\"can the loss of an appendix cause diabetes ?\"], [\"can diabetes affect the urine alcohol test ?\"], [\"abnormally low concentration of glucose in the blood ?\"], [\"what are some good recipes for a diabetic <unk> ?\"], [\"what to do when glucose levels are high ?\"], [\"why is ampalaya good for diabetic people ?\"], [\"if im borderline diabetic and eat cake what might be the consequences ?\"], [\"what gland <unk> diabetes mellitus ?\"], [\"where can i find more information on signs of diabetes ?\"], [\"is cheese good for a diabetic person ?\"], [\"can ham be in a diabetics diet ?\"], [\"where did diabetes first start ?\"], [\"can i protect myself from diabetes ?\"], [\"can you take tylenol if your diabetic ?\"], [\"can diabetes be cured without medicines ?\"], [\"is blood slightly acidic ?\"], [\"what condition may develop in a distal pancreatectomy patient after surgery ?\"], [\"if you lose weight will type two diabetes go away ?\"], [\"your friend is suffering from acute liver shutdown and now his kidneys are failing can he live long enough to hope for a liver transplant ?\"], [\"what are good blood sugar counts ?\"], [\"what sugar is responsible for rising blood sugar levels ?\"], [\"do foods with a high glycemic index cause decreased blood sugar ?\"], [\"are there any foods that prevent diabetes ?\"], [\"what is know as damage to the retina of the eye caused by diabetes mellitus ?\"], [\"where can i find out what foods are good for a diabetic diet ?\"], [\"what happens if you have too much sugar ?\"], [\"what is normal sugar level ?\"], [\"does gin and tonic affect blood sugar levels ?\"], [\"what is the sugar content of the blood of a diabetic ?\"], [\"what causes elevated levels of blood glucose ?\"], [\"is insulin a substance produced by genetically engineered bacteria ?\"], [\"how do you check if i am diabetic ?\"], [\"if you are borderline diabetic and the doctor said to control it by diet how many carbs should you have per day ?\"], [\"what does it mean if your blood sugar level is two hundred and fifteen ?\"], [\"is the diabetes mellitus inherited ?\"], [\"does lack of insulin will cause high blood glucose levels ?\"], [\"process of producing too much insulin ?\"], [\"why are bacteria used to produce insulin ?\"], [\"what <unk> is added to indicate sugar diabetes ?\"], [\"what are the uncommon questions about diabetes ?\"], [\"what is lack of water caused by ?\"], [\"when did nick jonas find out he had diabetic ?\"], [\"who is more likely to develop diabetic ketoacidosis ?\"], [\"prevent diabetes ?\"], [\"why does a diabetic person has high blood sugar levels ?\"], [\"when was jack <unk> diagnosed with diabetes ?\"], [\"what is the number that determines high blood sugar i know my blood tests numbers what i want to know is if i am diabete ?\"], [\"what are some diabetic recipes ?\"], [\"does <unk> cause diabetes for children ?\"], [\"what is the buildup of keto acids that can result from diabetes mellitus ?\"], [\"you have a one thousand , nine hundred and ninety five <unk> <unk> you can not find the <unk> cap could someone please tell you the location ?\"], [\"are cashew bad for diabetics ?\"], [\"can diabetics use lidocaine patch ?\"], [\"is metformin one of the diabetes drugs that you can gain weight from ?\"], [\"why glucose essential nutrient ?\"], [\"what is type three diabetes ?\"], [\"do strawberries raise blood sugar levels ?\"], [\"diabetic supply equipment for testing and regulating diabetes ?\"], [\"where can i find more information on diets for diabetes ?\"], [\"are diabetic diets used to control the patients sugar level or to help the patient lose weight ?\"], [\"what substances in urine might indicate a person has diabetes ?\"], [\"what measurement is used to measure blood sugar levels ?\"], [\"what is cause of genital and <unk> burning in a diabetic ?\"], [\"what symptoms does someone with high blood sugar have ?\"], [\"how many grams of sugar should a <unk> eat daily ?\"], [\"what are the symptoms of severe insulin resistance ?\"], [\"is ninety high blood sugar ?\"], [\"is ninety seven to one hundred and twenty blood sugar level within normal range for a non diabetic ?\"], [\"why does your hands get numb ?\"], [\"how can people with high blood sugar treat themselves ?\"], [\"is it a myth for getting diabetes by eating to much sugar ?\"], [\"what is the medical treatment for retinopathy ?\"], [\"what experience do you have with lipoic acid ?\"], [\"can diabetic neuropathy cause muscle twitching or spasms in fingers ?\"], [\"what is a good <unk> for a diabetic ?\"], [\"what is the medical abbreviation meaning twice a day ?\"], [\"what are some diabetic foot problems known to occur ?\"], [\"what levels of blood glucose indicates diabetes ?\"], [\"is diabetes an example of a degenerative disease ?\"], [\"can nph insulin be given iv ?\"], [\"if a person has diabetes and there blood sugars drop to fifty what can happen ?\"], [\"what do you take <unk> for ?\"], [\"can gestational diabetes show up if you were an undiagnosed type one diabetic ?\"], [\"can low blood sugar cause you to vomit ?\"], [\"what is a healthy diet when you have gestational diabetes ?\"], [\"can a type one diabetics live a normal life ?\"], [\"what are some examples of recipes suitable for diabetic cooking ?\"], [\"what do you do if you <unk> gave your dog too much insulin ?\"], [\"does high blood sugar affect the memory and brain skills ?\"], [\"what is that machine diabetics use to monitor their blood sugar ?\"], [\"what exactly does polydipsia mean ?\"], [\"how many grams of sugar with diabetes type two ?\"], [\"what are three types of diabetes ?\"], [\"home medical care : treating diabetes ?\"], [\"what are the cardinal symptoms of diabetes <unk> and provide the <unk> for the occurrence of each symptom ?\"], [\"can diabetics eat chicken ?\"], [\"what happens if you inject <unk> insulin ?\"], [\"what causes your hand to fall asleep ?\"], [\"what types of people are more at risk for the development of diabetes ?\"], [\"what are some foods diabetics should not eat ?\"], [\"when is <unk> diabetes day ?\"], [\"what is acetone breath ?\"], [\"what is the best way to store insulin ?\"], [\"what are some good diabetic recipes ?\"], [\"how you can get a diabetes mellitus ?\"], [\"can a seizure seem similar to a diabetic hypoglycemic reaction combined with a few seconds of unconsciousness ?\"], [\"your blood sugar is running between one hundred and fifty and two hundred and thirty seven is that bad ?\"], [\"is a symptom of diabetes craving salty food ?\"], [\"what substance interferes with the body is ability to carry oxygen ?\"], [\"what will high blood sugar do to you ?\"], [\"what percent of type two diabetes patients are overweight and obese ?\"], [\"does a diabetic male have low sperm count ?\"], [\"how many <unk> should a diabetic consume in sodium ?\"], [\"how might diabetes alter ones everyday life ?\"], [\"what are the side affects of a diabetic pregnancy ?\"], [\"can you die from edema ?\"], [\"what are early diabetes symptoms ?\"], [\"what are the signs of being a diabetic ?\"], [\"does diabetes get passed on ?\"], [\"what is the normal blood sugar level in human body ?\"], [\"does reliv helps diabetes ?\"], [\"what symptoms does a dog show if it is diabetic ?\"], [\"what do you get when you eat a lot of sugar foods ?\"], [\"what glucose meters and supplies are covered by medicaid ?\"], [\"is easy blood blisters a symptom of diabetes ?\"], [\"can you be an <unk> agent if you have type i diabetes ?\"], [\"what is <unk> one ' diabetes and <unk> two ' diabetes ?\"], [\"what tells the body how much sugar should be in the blood ?\"], [\"can diabetic patient drink ginger beer ?\"], [\"what are some books that feature diabetic desserts ?\"], [\"how do you get diabet es ?\"], [\"can you be denied life insurance if you have diabetes ?\"], [\"can allergies cause brown spots on back of tongue ?\"], [\"diabetes cure ?\"], [\"how do you get diabetes in your life ?\"], [\"diabetes diets ?\"], [\"how do you prevent kidney damage ?\"], [\"what are the top ten lifestyle diseases ?\"], [\"adult onset diabetes ?\"], [\"how can diabetes <unk> ?\"], [\"major symptom of diabetes mellitus is glucose in the urine ?\"], [\"what if your glucose is one hundred and ninety two is that too high ?\"], [\"when was diabetes hands foundation created ?\"], [\"when was the first insulin injection given ?\"], [\"what happens to people that eat to much sugar ?\"], [\"where did they get the insulin from ?\"], [\"how do you know if your blood sugar levels are low ?\"], [\"what is the hormone that lowers blood sugar levels is ?\"], [\"what is the recommended carbohydrate intake for an active man ?\"], [\"can insulin therapy be administered by an oral medication ?\"], [\"what are the foods that is low in sugar ?\"], [\"what makes a diabetic lower leg turn black ?\"], [\"where can one find information concerning a diabetic diet ?\"], [\"how infection affect the body system ?\"], [\"what are the complications of diabetes ?\"], [\"can you develop diabetes from eating too much sugar ?\"], [\"what are the release dates for <unk> <unk> juvenile diabetes - two thousand and six ?\"], [\"does <unk> cause blood sugar to increase ?\"], [\"what is a good diet for someone who suffers from diabetic nephropathy ?\"], [\"can a diabetic use <unk> ?\"], [\"what are the risks of diabetes ?\"], [\"what is the approximate <unk> of insulin ?\"], [\"who was the first diabetic ?\"], [\"where is type two diabetes commonly found ?\"], [\"you are insulin resistant you do not however have diabetes if you lose the weight will your insulin resistance go too along with it your chance of developing diabetes ?\"], [\"what foods should diabetic people avoid ?\"], [\"how can you tell you have diabetes ?\"], [\"what is the difference of fasting blood sugar and <unk> blood sugar ?\"], [\"are there any diabetic food stores in the seattle area ?\"], [\"how does cinnamon help with diabetes ?\"], [\"is regular insulin added before nph when mixed together ?\"], [\"will my cat die from diabetes ?\"], [\"can dates can cause diabetes ?\"], [\"where can i find out more about recipe for diabetics ?\"], [\"will having a family history of diabetes <unk> a person <unk> a career as a pilot in the major commercial airline industry ?\"], [\"what is the nursing intervention of dizziness ?\"], [\"what are the early symptoms diabetes ?\"], [\"what makes insulin in your body ?\"], [\"can you <unk> with diabetes ?\"], [\"is white <unk> good for diabetics ?\"], [\"what are some of the diet meal plans for a sugar diabetic ?\"], [\"what causes type two diabetes ?\"], [\"where can i find information on diabetic meal planning ?\"], [\"should a diabetic drink alcohol ?\"], [\"how does your teeth relate to a headache ?\"], [\"is nick jonas really a diabetic ?\"], [\"is cinnamon good for diabetics ?\"], [\"how much insulin should you be taking ?\"], [\"how would you need to adjust your insulin and or diet when you are going to be very active ?\"], [\"does nick jonas have diabetes type one or two ?\"], [\"does diabetes effect the color of your urine ?\"], [\"what are some recommended food for diabetics ?\"], [\"can you have increased hunger instead of having increased thirst when having symptoms of diabetes ?\"], [\"is it prediabetes is considered as diabetes ?\"], [\"can low blood sugar cause headaches ?\"], [\"what are some good recipes for diabetics to have ?\"], [\"why can not you prevent type one diabetes ?\"], [\"are contour blood test strips <unk> the same as 7098c ?\"], [\"what if blood sugar is five hundred and thirty nine ?\"], [\"what is the difference between insulin and blood sugar ?\"], [\"what are some diets for young diabetic men ?\"], [\"what is low levels of glucose in the blood called ?\"], [\"the doctor said your blood sugar was slightly elevated and put you on a diabetes diet but never said either way if you were a diabetic or not should you be concerned ?\"], [\"can optimal blood glucose control reduce the risk of coronary heart disease in patients with type one diabetes ?\"], [\"can you get lupus from swine ?\"], [\"can a diabetic eat a kosher hot dog ?\"], [\"what are the symptoms of diabetic ketoacidosis ?\"], [\"why <unk> of human insulin does not match with human body ?\"], [\"what is the term for what occurs when too much insulin has been taken ?\"], [\"how can i treat my type two diabetes ?\"], [\"is there diabetic beer ?\"], [\"how you maintain blood sugar level if you have diabetes problem ?\"], [\"what is the main cause of gestational diabetes ?\"], [\"food exchange systems were originally developed for people with ?\"], [\"best time to take diabetic pill ?\"], [\"who of ten people who has diabetes ?\"], [\"what can happen if diabetic foot infections are left untreated ?\"], [\"what is a diet sheet ?\"], [\"how does a diabetic control their diabetes ?\"], [\"how often should you take blood sugar ?\"], [\"is nausea and <unk> and back pain symptoms of diabetes ?\"], [\"how do you control diabites ?\"], [\"which are the insulin dependent cells ?\"], [\"what items can diabetic persons eat ?\"], [\"what does diabetic <unk> bs ac and qhs mean in medical terms ?\"], [\"can hand numbness be caused by diabetes ?\"], [\"what should you fed a diabetic cat ?\"], [\"how expensive are diabetic test strips ?\"], [\"will <unk> not show up in a drug test if youre a diabetic ?\"], [\"can a diabetic join border patrol ?\"], [\"where can one find a gestational diabetes diet ?\"], [\"what happens when people get type two diabetes ?\"], [\"early signs of diabetes mellitus ?\"], [\"what part of the body is affected by <unk> periodic paralysis ?\"], [\"what is the name for a good diabetic cook book ?\"], [\"what is the best cereal for type two diabetes ?\"], [\"what is normal blood sugar in human body ?\"], [\"which organs are affected when you have diabetes type one ?\"], [\"does every body die from diabetes ?\"], [\"you have not got diabetes but an eye specialist found bleeding behind the eye what might the cause be as he did not explain ?\"], [\"what is the best way to treat diabetis ?\"], [\"what is the diabetic food pyramid ?\"], [\"what are the <unk> for taking biguanides and thiazolidinediones used for treating insulin resistance ?\"], [\"can diabetics stop using insulin ?\"], [\"organ that produces the liquid <unk> of the body ?\"], [\"how many grams of carbs should a type one diabetic eat per day ?\"], [\"how you can care for your feet if you are diabetic ?\"], [\"what <unk> venom <unk> a drug that controls blood sugar levels ?\"], [\"will diabetes make a person die ?\"], [\"does diabetes insipidus cause weight gain ?\"], [\"what are the symptoms of diabetes mellitus ?\"], [\"how can body parts affected from tattoo ?\"], [\"what fruit can you eat with type two diabetes ?\"], [\"why does insulin in the blood increase after meals ?\"], [\"which diabetes require insulin injections ?\"], [\"where can you buy diabetic shoes ?\"], [\"what is the affect of high blood sugar and the kidneys and capillaries ?\"], [\"what fiber should be recommended to patients with type two diabetes ?\"], [\"what research has been done on <unk> ?\"], [\"what is the normal blood sugar level for diabetes ?\"], [\"what do you eat to get diabetes ?\"], [\"who has diabetes out of the jonas brothers ?\"], [\"what is the name of the condition in which the body is not producing adequate amounts of insulin ?\"], [\"do you let a diabetic person having a seizure <unk> ?\"], [\"how can having a unhealthy diet lead to having diabetes ?\"], [\"if a diabetic goes into a coma what blood number would it read ?\"], [\"what is the pathophysiology of type two diabetes mellitus ?\"], [\"what are all the names for diabetes type one ?\"], [\"what will most likely result if a diabetic injects an overdose of insulin ?\"], [\"what food do i need to avoid as a diabetic ?\"], [\"do you get diabetes if you get scared or any other kind of disease ?\"], [\"what should a diabetic person is blood sugar be ?\"], [\"how do you treat a diabetic emergency ?\"], [\"is it bad if a twelve year old girl is always hungry ?\"], [\"what kind of things do students with diabetes need to think about during gym class or sports ?\"], [\"is <unk> support network is diabetic pack effective ?\"], [\"what is the endocrine gland that controls the levels of sugar in your blood ?\"], [\"how many grams of sugar should you eat per day when borderline diabetic ?\"], [\"how much fats should a diabetic have ?\"], [\"do you suspect that you have diabetes ?\"], [\"what are some of the most common diabetes symptoms i should look out for ?\"], [\"diets for diabetes ?\"], [\"the major cause of insulin resistance is related to ?\"], [\"what should be in a diabetic is diet book ?\"], [\"if im diabetic should you watch your sugar levels ?\"], [\"why do you experience severe cramps after taking insulin ?\"], [\"what symptoms are associated with diabetes ?\"], [\"why does sitting cross <unk> for a long time cause your legs to fall asleep ?\"], [\"what is insulin is functions ?\"], [\"why does a diabetic crave milk ?\"], [\"what negative effects the ingredient sugar has on the human body if too much is eaten ?\"], [\"why does polyphagia occur with diabetes mellitus ?\"], [\"are there any cook books with suggestions for tasty diabetic foods ?\"], [\"what type of diabetes are you born with ?\"], [\"can you drink beer and lower blood sugar ?\"], [\"the number one cause of what in adults in the us is diabetes ?\"], [\"if your blood sugar is high do you take more insulin to bring it down ?\"], [\"can worrying make you have diabetes ?\"], [\"when fasting what should your blood sugar be in the morning ?\"], [\"why do you get sudden body <unk> ?\"], [\"is salt and pepper good for diabetics ?\"], [\"what is the blood sugar for pregnant that is <unk> old ?\"], [\"how do you pronounce <unk> ?\"], [\"what are some good diabetic dessert recipes ?\"], [\"can infection cause diabetes ?\"], [\"what are the symptoms that <unk> between type i and type ii diabetes ?\"], [\"where in your body does diabetes happen ?\"], [\"do people with diabetes have to take shots ?\"], [\"what are <unk> ?\"], [\"how can you tell your blood sugar level ?\"], [\"how does fasting affect glucose levels ?\"], [\"how you can diagnosis diabete ?\"], [\"can someone die from diabetes ?\"], [\"can yoga exercises cure diabetes ?\"], [\"how do you explain calorie counting to diabetic clients ?\"], [\"why do diabetics have to watch what they eat ?\"], [\"why black ants not red small ants are attracted to human urine <unk> on <unk> ?\"], [\"how safe is it for a diabetic to have your belly button pierced ?\"], [\"how do you get diabetes ?\"], [\"what is a <unk> ?\"], [\"what is the hormone responsible for diabetes mellitus ?\"], [\"what is it <unk> when blood is too <unk> ?\"], [\"what is a good diet chart for a diabetic ?\"], [\"will wheat grass help your diabetes ?\"], [\"is coffee good for a diabetic ?\"], [\"what are two hormones that regulate blood sugar ?\"], [\"how severe do diabetes symptoms have to be before you have diabetes ?\"], [\"why does diabetics build up <unk> on feet ?\"], [\"what organs malfunction causes diabetes ?\"], [\"which diseases are caused due unbalanced diet ?\"], [\"what is normal level of blood sugar ?\"], [\"what research has been done on vitamin k ?\"], [\"what is one important dietary step to help treat type two diabetes mellitus ?\"], [\"how many diabetics patients in <unk> ?\"], [\"are banana good for diabetic ?\"], [\"is there any connection between poor nutrition and diabetes ?\"], [\"how do you treat diabetes ?\"], [\"will peanut butter help lower blood sugar ?\"], [\"what should my diet be if i have diabetes ?\"], [\"your husband was recently diagnosed with type two diabetes you know nothing what should you do ?\"], [\"diabetic supply companies ?\"], [\"what is the cause of juvenile diabetes ?\"], [\"which is the most reliable blood sugar test for a diabetic ?\"], [\"what is diabetes nerve damage ?\"], [\"what is a diabetic reaction ?\"], [\"what is a good starting grocery list for a family with a diabetic member ?\"], [\"juveniles diabetes foundation ?\"], [\"what are some good thanksgiving recipes ?\"], [\"does <unk> affect the breathalyzer ?\"], [\"what is the normal sugar intake for a day ?\"], [\"what are the three poly is in diabetes ?\"], [\"what percent of the <unk> population are diabetic ?\"], [\"can you use normal saline with regular insulin when using as iv ?\"], [\"what are the precautions people need to take if they have both type one and type two diabetes ?\"], [\"how does the body maintain blood sugar levels when a person has not eaten a meal for many hours ?\"], [\"do regular insulin same with actrapid insulin ?\"], [\"is diabetes related to anemia ?\"], [\"is it safe for a diabetic to get a pedicure ?\"], [\"would not a military physical show whether a person has kidney disease or diabetes ?\"], [\"what is a healthy a1c range for someone without diabetes ?\"], [\"the pharmacological effects of administering insulin to a hyperglycemic patient is an example of increased ?\"], [\"what are some really good diabetic recipes that do not include pasta ?\"], [\"is type one diabetes hereditary ?\"], [\"does am la control blood sugar ?\"], [\"where does insulin get injected ?\"], [\"highest blood sugar reading a glucometer can have ?\"], [\"can one treat juvenile diabetes ?\"], [\"have no money need insulin bad medicaid wont cover it ?\"], [\"is type one and type two diabetes curable ?\"], [\"i am are constantly thirsty and tired and sometimes my eyes go blurry what is wrong ?\"], [\"what is endogenous insulin ?\"], [\"what are the best choices of diabetic food ?\"], [\"why does blood sugar spike in the morning ?\"], [\"what are the symptoms of type one <unk> ?\"], [\"is six grams of sugar too much for a diabetic ?\"], [\"finding free diabetic recipes ?\"], [\"insulin how is it used ?\"], [\"why must type i diabetes patients inject insulin ?\"], [\"how do you prevent type one and type two diabetes ?\"], [\"what is release when blood sugar levels fall ?\"], [\"can diabetic drink beer ?\"], [\"where can one find information on the best diabetic desserts ?\"], [\"diabetic menus ?\"], [\"can diabetic shock be life threatening ?\"], [\"natural remedy for diabetes ?\"], [\"is nph insulin cloudy ?\"], [\"do diet sodas make you crave sugar and is it bad for diabetes ?\"], [\"can someone please explain what an a1c <unk> is ?\"], [\"how did type one diabetes begin ?\"], [\"what are the symptoms of very high blood sugar ?\"], [\"can you buy diabetic products from pharmacies ?\"], [\"which condition is the most nutrition responsive ?\"], [\"does <unk> <unk> <unk> raise blood alcohol levels ?\"], [\"a bolus insulin does it means some rapid insulin mixed with a lente one ?\"], [\"how do you talk your mom into <unk> you get a diabetes test ?\"], [\"i am a type two diabetic my problem is my blood sugar is high when i wake up , how can i correct it ?\"], [\"what is the purpose of the american diabetes association ?\"], [\"what is the normal sugar level for teenagers ?\"], [\"does the endocrine system affect diabetes ?\"], [\"which country is called diabetes capital ?\"], [\"what conditions result in polydipsia and polyuria ?\"], [\"is honey good for diabetes ?\"], [\"what is the difference between type two diabetes and type one diabetes ?\"], [\"what condition can make urine tasteless ?\"], [\"who discovered how to make insulin ?\"], [\"what are some foods allowed for consumption in a type two diabetes diet plan ?\"], [\"is there any way to monitor blood sugar levels without using a needle to draw blood ?\"], [\"when do type ii diabetics need insulin ?\"], [\"what are the other names for diabetes ?\"], [\"what is the difference between a forty <unk> syringe and a one hundred <unk> syringe ?\"], [\"will smoking cigarettes cause diabetes ?\"], [\"how do <unk> treat diabetes ?\"], [\"do you know any info about hemoglobin a1c test ?\"], [\"could you die from diabetes ?\"], [\"what causes loss of consciousness in a person with diabetic ketoacidosis ?\"], [\"do you need help with your diabetes ?\"], [\"what <unk> does diabetes mellitus affect ?\"], [\"what medical stores offer the best diabetic supplies ?\"], [\"what type of diabetes is it if it runs in the family ?\"], [\"what possible problems can result from poor food choices when you have diabetes ?\"], [\"what is the reason why you draw first regular insulin before the nph insulin ?\"], [\"what alcohol drinks are safe for diabetics ?\"], [\"what is a safe amount of carbohydrates when you have gestational diabetes ?\"], [\"how to follow a diabetic diet ?\"], [\"can you get a tattoo when your diabetic ?\"], [\"in the one thousand , nine hundred and twenty <unk> physician <unk> <unk> treated drug addiction by <unk> inducing comas through <unk> of what <unk> drug ?\"], [\"can you lose body parts from diabetes ?\"], [\"what is a cpt code for uncontrolled diabetes ?\"], [\"what organ is unable to take up glucose in diabetes mellitus ?\"], [\"what should you do if your blood sugar is high ?\"], [\"what are any options for pregnant ladies so that their kids can not get diabetes ?\"], [\"how many people are diagnosed with diabetes every year ?\"], [\"does diabetes patient can eat turmeric ?\"], [\"what if your diabetic client asks you to fill a syringe with her morning dose of insulin what should you do ?\"], [\"are women who are type one diabetics allowed to adopt children ?\"], [\"what is an effective way to reduce risk of heart disease cancer diabetes and other serious illnesses ?\"], [\"does people with <unk> have high or low blood sugar ?\"], [\"what is <unk> ?\"], [\"how do you know if you have diabetes ?\"], [\"what are two symptoms diabetes mellitus and diabetes insipidus have in common ?\"], [\"how can i lose weight fast and healthy when i have diabetes ?\"], [\"how does one properly manage their diabetes symptoms ?\"], [\"is milk bad for uric acid ?\"], [\"what is wrong with a diabetic <unk> blood sugar ?\"], [\"why is diabetes a dominant gene ?\"], [\"are there any websites that can help me find diabetic food list ?\"], [\"what sugars are in bananas ?\"], [\"what are some of the primary concerns of people with diabetes ?\"], [\"what limitations does a person with diabetes type one have ?\"], [\"where can i find more information on vitamins for diabetics ?\"], [\"a diabetes diagnosis is not the end of the world ?\"], [\"what is the difference between candy and diabetic candy ?\"], [\"what important chemical does the pancreas secrete to control carbohydrate and glucose sugar levels in the blood ?\"], [\"what medicine is there to control diabetes ?\"], [\"is six hundred and sixty six the highest reading on a glucometer ?\"], [\"what could you do if you could not control diabetes ?\"], [\"which <unk> have diabetes ?\"], [\"where can i find advice and information on non diabetic neuropathy ?\"], [\"glycosuria is a failure in ?\"], [\"where can i find inexpensive food for diabetics ?\"], [\"is it normal to hear a low <unk> <unk> ' when stopped the <unk> <unk> you bought does this and you was told it was normal but is that accurate ?\"], [\"what can happen to a diabetic man if he takes birth control pills ?\"], [\"what is a normal level of triglycerides and what are the implications of having abnormal levels ?\"], [\"where is the receptor that detects an increase in blood sugar ?\"], [\"blood sugar level two hours after eating ?\"], [\"what is a normal blood sugar ?\"], [\"what can i do to stay healthy with diabetes ?\"], [\"what is made from the glucose in <unk> ?\"], [\"what are some great diabetic recipes ?\"], [\"how big is one unit of insulin in liquid ?\"], [\"how common is type ii diabetes ?\"], [\"what should be included in a diabetic diet ?\"], [\"are they bad for diabetics ?\"], [\"what is diabetes best characterized by ?\"], [\"what organ breaks down insulin ?\"], [\"is diabetes type two a disease or a disorder ?\"], [\"what are normal blood sodium levels ?\"], [\"how do you reverse diabetes ?\"], [\"what is the prognosis for your dog with diabetes <unk> and pancreatitis ?\"], [\"what if your neuro assessment of an unresponsive patient reveals pin point pupils what is your primary field diagnosis ?\"], [\"can type two diabetes be cured ?\"], [\"how do you get type1 diabetes ?\"], [\"how do i control my diabetes ?\"], [\"does <unk> help control diabetes ?\"], [\"can you take viagra with type two diabetes ?\"], [\"how do you prevent hypertension ?\"], [\"does medicaid cover portable insulin pumps ?\"], [\"how long does insulin last in your <unk> ?\"], [\"is type two diabetes also known as pre-diabetes ?\"], [\"diabetes mellitus is caused by what ?\"], [\"how does diabetes mellitus affect your body ?\"], [\"how does diabetes effect people ?\"], [\"can diabetics have anorexia ?\"], [\"what should i know if i am diagnosed with diabetes ?\"], [\"what is the <unk> sugar intake a day for a diabetic ?\"], [\"how do you make a diabetic coconut cake ?\"], [\"how much sugar is safe for a juvenile diabetic ?\"], [\"how can diabetes be detected ?\"], [\"what are the symptoms of diabetic ulcers ?\"], [\"can cat drink human water ?\"], [\"does thyroid gland mean controls blood sugar levels ?\"], [\"how does <unk> interfere with fluid and electrolyte balance ?\"], [\"is type one diabetes also known as insulin <unk> diabetes ?\"], [\"is <unk> <unk> diabetic ?\"], [\"is hearing loss related to diabetes ?\"], [\"have many people died because of diabetes ?\"], [\"do not <unk> your blood sugar ! ?\"], [\"can diabetics have fruits ?\"], [\"could a person die from diabetes ?\"], [\"diabetes diet meal plan ?\"], [\"what is the cure for your diabetic cat ?\"], [\"is sugarcane good for diabetes patient ?\"], [\"how does wind influence <unk> patterns ?\"], [\"can a <unk> diet be healthy for diabetics ?\"], [\"what are some of the best methods of diabetes prevention ?\"], [\"do you get diabetes for not exercising ?\"], [\"why does your blood sugar rise after eating raisin bran cereals ?\"], [\"does a person with diabetes mellitus have to avoid sugar completely ?\"], [\"what levels must sugar in the blood be to be considered diabetis <unk> ?\"], [\"are there treatments for diabetics ?\"], [\"why does eating slowly prevents type two diabetes ?\"], [\"what is a treament for diabetes ?\"], [\"is a differential diagnosis the same as a <unk> ?\"], [\"is insulin legal or illegal ?\"], [\"can diabetes be harmful ?\"], [\"what research has been done on <unk> ?\"], [\"how many people currently have diabetes ?\"], [\"is type two diabetes from eating too much junk food ?\"], [\"can diabetes form in animals ?\"], [\"where can i get tools to test my blood sugar level ?\"], [\"what are some names of some diabetic cook books ?\"], [\"what kind of insulin pump will va supply ?\"], [\"how does high blood sugar levels affect <unk> between the cells and the blood ?\"], [\"can diabetes cause blurry vision and how long does it last ?\"], [\"how is technology used to diagnose or treat type two diabetes ?\"], [\"can you get type one diabetes at twenty four years old ?\"], [\"what is the treatment for diabetes ?\"], [\"can diabetic patients eat beetroot ?\"], [\"can type ii diabetes turn into type i diabetes ?\"], [\"does diabetes cause liver enzymes to be elevated ?\"], [\"can diabetics drink <unk> ?\"], [\"how many grams of carbohydrates should a pre-diabetic woman eat ?\"], [\"what kind of juice is good for a diabetic ?\"], [\"what are the names of five organisms which affect human health ?\"], [\"is <unk> useful in diabetes ?\"], [\"is diabetes preventable ?\"], [\"glucose can be elevated in the blood of a diabetic person relate this information to glucose in the urine and glucose <unk> ?\"], [\"i take an amino acid supplement does <unk> acid or <unk> affect or raise your blood sugar ?\"], [\"how can a person make sure their blood sugar is at a normal level ?\"], [\"what is paneer booti ?\"], [\"can diabetes cause a false positive on a breath test ?\"], [\"what online site has gestational diabetes recipe is ?\"], [\"where can i find a sample diabetes menu ?\"], [\"which eye doctor <unk> or <unk> treats diabetes problems in the eyes ?\"], [\"how can diabetes be avoided ?\"], [\"where can i find more information on diabetic neuropathy ?\"], [\"what is the <unk> of instrument to check blood sugar ?\"], [\"in which <unk> episode does <unk> discover his diabetes ?\"], [\"symptoms of diabetes ?\"], [\"what types of food can diabetic males eat ?\"], [\"can you eat a banana if you have gestational diabetes ?\"], [\"how could the author position on type ii diabetes be <unk> in the article ?\"], [\"what is sulfonylurea used for ?\"], [\"how do you keep sugar levels for diabetes regulated ?\"], [\"where can i find a diabetic cookbook with southern recipes ?\"], [\"will <unk> health <unk> cover the cost of diabetic supplies ?\"], [\"where did diabetes get its name ?\"], [\"what is a good diet for a diabetic ?\"], [\"do illegal drugs show up in a blood test if they are testing for diabetes ?\"], [\"what <unk> conditions can arise from a large increase in blood levels of ketone bodies in diabetics ?\"], [\"can applesauce be used in a diabetic cake recipe ?\"], [\"what can diabetic neuropathy lead to ?\"], [\"what is a prediabetes diet ?\"], [\"how often should you get a <unk> if you know that a certain disease runs in your family ?\"], [\"can diabetic patient eat banana ?\"], [\"what can cause changes to blood sugar ?\"], [\"what does ada stand for ?\"], [\"does diabetes hurt you ?\"], [\"is diabetes a race of <unk> ?\"], [\"what is an a1c blood sugar for ?\"], [\"what disease does a pandan leaves cure ?\"], [\"what is the normal value of <unk> ?\"], [\"what are some low sugar dessert recipes for diabetics ?\"], [\"can diabetes mellitus be dangerous ?\"], [\"what diabetic supplies should a diabetic always have available ?\"], [\"effectiveness of positive communication in the recovery of diabetic patients in <unk> ?\"], [\"can mountain <unk> be bad for a type one diabetic ?\"], [\"what food will increase hemoglobin level in diabetic ?\"], [\"can you be fighter pilot if you have diabetes ?\"], [\"what foods should diabetics avoid ?\"], [\"this is an odd question but does glucose have any other <unk> or jobs in the <unk> other than a food or fuel for metabolism ?\"], [\"how does insulin lower the blood glucose level if it is too high ?\"], [\"will a person with type two diabetes taking insulin twice a day test positive on a urine drug test ?\"], [\"is <unk> safe for diabetics to eat ?\"], [\"what can happen if your blood glucose levels rise to high ?\"], [\"what is a normal range of glucose fluctuation ?\"], [\"did nick jonas ever pass out on stage due to his diabetes ?\"], [\"how does exercise lower blood sugars ?\"], [\"is sugar connected to diabetes ?\"], [\"is <unk> weed good for diabetics ?\"], [\"can type two diabetes be reversed ?\"], [\"is diabetes infectious ?\"], [\"how do you have know if it is a type one or type two diabetes ?\"], [\"why do the diabetic patients have glucose in their urine ?\"], [\"can you eat fruits with type two diabeties ?\"], [\"how many times does a person have to get a diabetes diagnosis ?\"], [\"inform us of assistance for a diabetic child entering <unk> this would be in <unk> and would be to check her blood sugar levels <unk> the two hours <unk> <unk> ?\"], [\"how can you tell sugar is removed from the blood ?\"], [\"what happens if you take insulin and you are not diabetic ?\"], [\"how many servings of fruit is a mango ?\"], [\"when you have type one diabetes what do you do when you are sick ?\"], [\"why would insulin not bring down a high sugar reading ?\"], [\"are there any vitamins for diabetics ?\"], [\"what substance was created to save diabetics ?\"], [\"how do you get diabities ?\"], [\"what hormone <unk> the effect of glucagon ?\"], [\"what kind of pasta a diabetic person should eat ?\"], [\"what symptoms show signs of diabetes ?\"], [\"the advantages of a diabetic diet plan ?\"], [\"diabetes australia is the third <unk> diabetes association in the world following what other countries ?\"], [\"what do you give a diabetic that is having a low blood sugar issue ?\"], [\"this chronic disease occurs when a persons body does not produce enough insulin ?\"], [\"what are the most obvious signs of diabetes in young children ?\"], [\"does numbness in the head have to do with persistent <unk> or something ?\"], [\"how would blood sugar react if insulin stopped working ?\"], [\"if you are type-1 diabetic is the amount of carbs you should eat per day ?\"], [\"where can i find a blood sugar level table ?\"], [\"are there any websites that can help me find diabetes dtour diet ?\"], [\"how much vodka can a diabetic drink ?\"], [\"when did laura ingalls wilder have rose ?\"], [\"how is exercise related to diabetes ?\"], [\"how many carbs should a diabetic eat at one meal ?\"], [\"can <unk> speech be a symptom of diabetes ?\"], [\"what fruits can a diabetic person eat ?\"], [\"can a diabetic eat strawberries ?\"], [\"why is type two diabetes and <unk> ?\"], [\"what are the symptoms of <unk> ?\"], [\"are there any good diabetic recipes books online ?\"], [\"making eating easy ?\"], [\"why are the legs cut when a person has diabetes ?\"], [\"what are some appropriate cookie recipes for diabetics ?\"], [\"can being upset cause blood sugar to drop with diabetics ?\"], [\"diabetic retinopathy , a <unk> consequence ?\"], [\"does <unk> <unk> have diabetes ?\"], [\"what is the remedy for diabetes ?\"], [\"where can you find out how much sugar there is in various fruits ?\"], [\"what is the cure if a diabetes ?\"], [\"how long does it take to lower your blood sugar ?\"], [\"what type of diabetes has <unk> onset usually seen in adults over forty years of age ?\"], [\"do you like diabetes ?\"], [\"why do both major types of diabetes occur ?\"], [\"is diabetes curable ?\"], [\"what foods carry healthy diabetes <unk> ?\"], [\"twenty units equals how many mls ?\"], [\"how quickly can hypoglycemia occur after receiving nph insulin ?\"], [\"what is the maximum safe blood glucose level to perform a tooth extraction ?\"], [\"what alcohol can you drink when you have diabetes ?\"], [\"how does a diabetes monitor work ?\"], [\"difference between non insulin dependent diabetes and insulin dependent diabetes ?\"], [\"where can i find some diabetic cookie recipes ?\"], [\"what is a good diet for an adult with gestational diabetes ?\"], [\"how do you control high blood sugars of seven year old with type one diabetes ?\"], [\"which gland is involved in the disease diabetes mellitus ?\"], [\"can you kiss nick jonas is he has diabetes ?\"], [\"how do you make insulin from bacteria ?\"], [\"diabetic diet plan ?\"], [\"who does diabetes affect the most ?\"], [\"how could i tell if my hamster has got diabetes ?\"], [\"free diabetic meter ?\"], [\"what should a normal child blood sugars run ?\"], [\"can diabetic patients eat <unk> ?\"], [\"what is juvenile diabetes ?\"], [\"does <unk> have diabetes ?\"], [\"can a person with diabetes eat <unk> ?\"], [\"what is <unk> for ?\"], [\"what causes type one diabetes ?\"], [\"finding free diabetic meters ?\"], [\"what can i do on my own as a diabetes treatment ?\"], [\"diabetes symptoms ?\"], [\"<unk> mineral that is almost always missing from the diets of diabetics ?\"], [\"safe for diabetics to take <unk> chocolate candy ?\"], [\"which fruit diabetic patients can eat <unk> ?\"], [\"what does glucose do to people with type one diabetes ?\"], [\"can you use a diabetes lancet more than once ?\"], [\"how does sugar effect your body ?\"], [\"what are the key categories of a diabetic diet ?\"], [\"what organ of the body is not functioning properly in diabetics ?\"], [\"does steve redgrave have diabetes ?\"], [\"if you know your blood sugar is low how do you know if you are a diabetic ?\"], [\"is alcohol bad for a pre diabetic ?\"], [\"where can i find information about weight loss for diabetics ?\"], [\"is <unk> safe if you have diabetes ?\"], [\"how to keep your blood sugar within the healthy range ?\"], [\"diabetic recipes free ?\"], [\"how many teens have diabetes ?\"], [\"what happens to diabetics if they eat the wrong foods ?\"], [\"how do doctors test for diabetes ?\"], [\"what are the other types of physiological diseases away fro hypertension and diabetes ?\"], [\"what is <unk> diabete ?\"], [\"what is different about them two diabetes ?\"], [\"can a <unk> have diabetes ?\"], [\"what drugs can be used to treat insulin resistance ?\"], [\"is <unk> good for diabetic ?\"], [\"what would be a good diabetic meal plan for me to follow ?\"], [\"can diabetics eat <unk> ?\"], [\"the different symptoms of diabetes ?\"], [\"any cures for type one diabetes ?\"], [\"what are type one diabetes ?\"], [\"list as many symptoms as possible in a diabetic patient who has <unk> to eat after taking their daily dose insulin ?\"], [\"can you get light headed from sugar diabetes ?\"], [\"what is a good diabetes meal plan ?\"], [\"do ya think i have diabetes i am kinda thirsty and feel like i have to go the bathroom quite a bit off and on went to doc few days ago urine was normal did not think i had it blood test fine month ago ?\"], [\"which is better for diabetics <unk> or <unk> ?\"], [\"where can you purchase diabetic supply online ?\"], [\"what are causes of low iron and high sugar levels in a fifty five year old man ?\"], [\"which organ helps control blood sugar level ?\"], [\"is the cause of diabetes environmental or hereditary ?\"], [\"are diabetes test <unk> good past expiration dates ?\"], [\"what are some good recipes for people with diabetes ?\"], [\"can calories cause diabetes ?\"], [\"what level of glucose in the urine can be normal ?\"], [\"what causes type i diabetes mellitus ?\"], [\"eat what you are told ?\"], [\"top ten non communicable diseases ?\"], [\"does paneer ka phool <unk> diabetes completely ?\"], [\"can diabeties kill you ?\"], [\"how long did jackie robinson have diabetes for ?\"], [\"is it normal to have high levels of sugar in your blood ?\"], [\"what is the normal blood sugar level for adults ?\"], [\"where can i get a cheap a1c <unk> ?\"], [\"if you have sulfur <unk> and <unk> and you are a diabetic what is wrong ?\"], [\"how do you diagnose diabetes mellitus ?\"], [\"is fresh fruit bad for a diabetic ?\"], [\"how do you keep your diabetes under control ?\"], [\"where can i get diabetes supplies ?\"], [\"what type of diet is suggested for diabetes ?\"], [\"where was the first human found ?\"], [\"how do i test me blood sugar level to keep healthy ?\"], [\"what are some <unk> and <unk> of diabetes ?\"], [\"can a diabetic person drink coconut water ?\"], [\"what <unk> have diabetes ?\"], [\"does eating walnuts lower blood sugar ?\"], [\"when was pediatric diabetes created ?\"], [\"can you bring your blood sugar down instantly with <unk> at home ?\"], [\"are there vitamins that will benefit a diabetic person ?\"], [\"how long does it take insulin to bring down a type one diabetic ?\"], [\"what herbs are known to lower blood sugar ?\"], [\"what would happen if someone did not control their diabetes ?\"], [\"what are the diseases caused by radiation ?\"], [\"what is something sweet that a diabetic can eat ?\"], [\"can you drink <unk> <unk> <unk> if your diabetic ?\"], [\"what is a controlled diabetic ?\"], [\"who <unk> diabetes ?\"], [\"why is viagra needed for men with diabetes ?\"], [\"what research has been done on saw <unk> ?\"], [\"does sugar directly cause diabetes ?\"], [\"what is the difference between <unk> and two ?\"], [\"what does a glucose monitor measure ?\"], [\"why are you very thirsty and urinating like crazy ?\"], [\"how will associate carpal tunnel syndrome to diabetes mellitus ?\"], [\"where can i buy low calorie foods online ?\"], [\"is diabetes dominant or recessive trait ?\"], [\"what will happen if you do not take enough insulin ?\"], [\"what side affects for using the <unk> diabetic nerve <unk> ?\"], [\"what day did nick jonas <unk> his diabetes ?\"], [\"are bagels bad for diabetics ?\"], [\"what are the effects of mothers with gestational diabetes on their babies ?\"], [\"where does insulin in the body happen ?\"], [\"who discovered diabeties ?\"], [\"how does diabetes affect the urinary system ?\"], [\"how many good carbs should you eat if you are five ' four and want to lose fifteen pounds ?\"], [\"can a diabetic take <unk> ?\"], [\"can diabetes medicine taken with urine therapy ?\"], [\"can anyone give information about the rare complication of diabetes known as amyotrophy ?\"], [\"being a diabetic is it possible to inject insulin in your <unk> and get a sufficient effect from it ?\"], [\"what are the symptoms for low sugar ?\"], [\"what amount of blood glucose level is normal ?\"], [\"why is there glucose in urine ?\"], [\"what should a diabetics carbohydrate intake be ?\"], [\"where can i get free diabetic diet information ?\"], [\"where can i find more information about a pre-diabetic diet ?\"], [\"what can a person on a diabetes diet eat ?\"], [\"is there a food without glucose ?\"], [\"how is a person is daily life affected by diabetes ?\"], [\"who is diabetes insipidus is more common in males or females ?\"], [\"how do you know if you have type one or type two diabetes ?\"], [\"can you drink protein shake like monster milk with type two diabetes ?\"], [\"what are some tests for diabetes ?\"], [\"when taking a drug screening can diabetes medicine show up ?\"], [\"is diabetes a mental illness or physical illness ?\"], [\"how do doctors diagnose diabetes ?\"], [\"why does your arm ache after sleeping ?\"], [\"why do people with diabetes have have a <unk> chance of developing foot infections ?\"], [\"what are symptoms of hypoglycemia , and how low is too low ?\"], [\"how do you get diabetes type one ?\"], [\"you are a type two diabetic and take insulin to control your sugar can you drive a commercial vehicle over the road ?\"], [\"can diabetics be doctors ?\"], [\"why is glucose known as blood sugar ?\"], [\"nick jonas diabetic ?\"], [\"can stress trigger diabetes mellitus ?\"], [\"i need some good recipes for people with diabetes . ?\"], [\"what is hgt used in diabetes mellitus ?\"], [\"why is blood black when the person is diabetic ?\"], [\"should diabetics eat any sugar ?\"], [\"how do you know you have diabities ?\"], [\"what are the symptoms of diabetes in children ?\"], [\"which pancreatic hormone functions to lower blood <unk> levels ?\"], [\"what sugar is found in human blood ?\"], [\"can males with type one diabetes have babies ?\"], [\"what is the effect when the body does not produce insulin ?\"], [\"how effective is dr <unk> <unk> diabetes <unk> program ?\"], [\"do you get diabetes when you damage your pancreas ?\"], [\"all patients with diabetes need injection ?\"], [\"diabetes and over <unk> with track and field exercise ?\"], [\"what diseases is related to lack of insulin production ?\"], [\"what is the average output of urine for a teenager a day ?\"], [\"is inulin bad for you ?\"], [\"is dylan <unk> a diabetic ?\"], [\"which term describes a <unk> complication of diabetes mellitus ?\"], [\"does <unk> young have diabetes ?\"], [\"what <unk> the disease of diabetes ?\"], [\"does diabetes cause <unk> ?\"], [\"can diabetes be diagnosed by a single finger prick blood sugar ?\"], [\"can diabetes affect a tattoo ?\"], [\"what is an a1c test used to detect ?\"], [\"insulin dependent diabetes ?\"], [\"what type of crystals in urine might be present with diabetes mellitus ?\"], [\"what is a risk factor for developing diabetes ?\"], [\"can <unk> get diabetes ?\"], [\"can smoking cigarettes increases the sugar levels ?\"], [\"you are a thirty nine year diabetic with high blood pressure as well what can you do to bring them both under control ?\"], [\"husband was diagnosed with type ii diabetes two months ago does that make his son who is twelve more apt to get it ?\"], [\"why diabetic patient care to their foot ?\"], [\"what is the pathophysiology of diabetes mellitus ?\"], [\"what hormone if produced <unk> would cause sexual immaturity ?\"], [\"your thirteen yr old <unk> is diabetic and has gone blind how will you know when it is his time to die ?\"], [\"what happens to someone who has diabetes ?\"], [\"are two symptoms of diabetes sudden ?\"], [\"why is it important that urea be removed from diabetic patients ?\"], [\"does type two diabetes cause insulin deficiency or insulin resistance ?\"], [\"blood sugar level is one hundred to two hundred after eatting a meal . is two hundred to high ?\"], [\"how can someone tell if a loved one could possibly have type two diabetes ?\"], [\"can you tell me what amount of blood sugar range is normal ?\"], [\"how is diabetes tested ?\"], [\"does type one diabetes affect your sperm count ?\"], [\"does eating carbohydrates regulate your blood sugar ?\"], [\"what is <unk> <unk> ?\"], [\"what food for supper for the diabetic person ?\"], [\"what is a diabetes specialist nurse is code of practice ?\"], [\"does sugar give you diabetes ?\"], [\"what research has been done on diabetes mellitus ?\"], [\"does <unk> raise or lower blood sugar blood co2 concentration ?\"], [\"what is the control mechanism of diabetes ?\"], [\"where can i find out more about diabetic testing supplies ?\"], [\"the condition of very low blood sugar is known as ?\"], [\"what hormone secretion abnormality causes diabetes ?\"], [\"how much does it cost for treatment of diabetes ?\"], [\"is mango bad for diabetes ?\"], [\"is marijuana a benefit to type one diabetics ?\"], [\"what will heal a chronic rash under breasts of diabetic ?\"], [\"how does a no sugar diet works ?\"], [\"how the belly fat cure burns stomach fat ?\"], [\"what is the normal glucose range in blood ?\"], [\"why do <unk> take glucose tablets before they run a race ?\"], [\"how was diabetes treated before the discovery of insulin ?\"], [\"how do genes play <unk> in getting diabetes ?\"], [\"what are the release dates for <unk> <unk> is diabetes ad - two thousand and twelve ?\"], [\"what are <unk> diabetes if parent has it ?\"], [\"how is diabetes spreads among human ?\"], [\"is whiskey safe for diabetics ?\"], [\"pre diabetes testing ?\"], [\"what controls the blood glucose levels ?\"], [\"can bright orange urine be related to diabetes ?\"], [\"can a diabetic eat almonds ?\"], [\"how does insulin bring sugar down to normal levels after a meal ?\"], [\"what is a person called with diabetes ?\"], [\"what is <unk> ?\"], [\"what is the main cause of type two diabetes ?\"], [\"where can i purchase diabetic needles ?\"], [\"my partner has got type one diabetes . is it possible for us to have a baby ?\"], [\"can diabetics dye their hair ?\"], [\"is insulin administered as an intramuscular injection ?\"], [\"is it normal to be high on sugar ?\"], [\"what happens to a person is blood glucose level after eating ?\"], [\"what symptoms do horses have with diabetes ?\"], [\"does your head hurt when blood sugar is high ?\"], [\"ayurveda medicine for diabeties ?\"], [\"is mango eating harmful to a diabetic ?\"], [\"diabetes education for patients ?\"], [\"what kind of medicines are available to treat diabetes ?\"], [\"which diet would be best for a diabetic ?\"], [\"what kinds of food can diabetics not eat ?\"], [\"can a diabetic smoke weed ?\"], [\"what is the normal postprandial blood glucose for a human ?\"], [\"what happens in there is less secretion of insulin ?\"], [\"what are some meals that are safe for people with diabetes ?\"], [\"how does a diabetic neuropathy treatment affect the body ?\"], [\"who discovered hypoglycemia ?\"], [\"what kind of exercises can i do to prevent diabetes ?\"], [\"what <unk> code would you use for <unk> ulcer on heel in a patient with diabetes type two ?\"], [\"do you check your glucose levels ?\"], [\"is diabetes a non communicable disease ?\"], [\"can diabetics take <unk> <unk> ?\"], [\"where can i find a diabetic meals food guide ?\"], [\"is blood that was drawn an hour and half before <unk> true readings for sugar ?\"], [\"why is juvenile diabetes such a concern in australia ?\"], [\"what is a healthy blood glucose level for a thirty year old female ?\"], [\"what is serum insulin ?\"], [\"does <unk> <unk> plants good for high blood and diabetic person ?\"], [\"who is more likely to develop diabetes ?\"], [\"what is the effect of sugar alcohol on the body ?\"], [\"how does exercise help gestational diabetes ?\"], [\"can mental <unk> increase diabetes ?\"], [\"does cinnamon help blood sugar ?\"], [\"is type two diabetes known as insulin-dependent diabetes ?\"], [\"will vision change due to an increase in sugar levels ?\"], [\"what part of the body does diabetes effect ?\"], [\"how diseases get into your body ?\"], [\"why would the doctor suggest check the patients blood sugar level ?\"], [\"could you die if you had diabetes and did not take your insulin ?\"], [\"what is the average blood sugar level for an adult woman ?\"], [\"what are healthy blood sugar levels ?\"], [\"what are some good diabetes supplies ?\"], [\"what is the difference between type two diabetes and diabetes <unk> ?\"], [\"are diabetics <unk> ?\"], [\"do radishes lower blood sugar ?\"], [\"what can diabetes come from ?\"], [\"what food can lower high blood sugar quickly ?\"], [\"did nick jonas ever throw up blood from diabetes ?\"], [\"is fructose better than granulated sugar for diabetics ?\"], [\"can a low blood sugar level cause a panic attack ?\"], [\"how does your body keep your blood sugar level around seventy to one hundred and ten ?\"], [\"what is a normal blood sugar range for fasting ?\"], [\"how do i prevent developing diabetes ?\"], [\"does <unk> <unk> have diabetes ?\"], [\"can smoking marijuana help type two diabetes ?\"], [\"is one hundred and twelve high for someone that is not diabetic ?\"], [\"what causes inflammation of organs ?\"], [\"how many people in us have diabetes ?\"], [\"does chinese food raise blood sugar ?\"], [\"does hear heartbeat in ear have to do with blood sugar level ?\"], [\"do more people die of aids or diabetes ?\"], [\"why is type two diabetes is an issue in your community ?\"], [\"what are the three poly conditions of diabetes mellitus ?\"], [\"how you can prevent diabetes ?\"], [\"does vodka lower diabetic blood sugar level ?\"], [\"what type of sugar is blood sugar ?\"], [\"what is sugar doctor or diabetes doctor ?\"], [\"what are normal glucose levels for a healthy person ?\"], [\"what is the normal range for blood sugar level ?\"], [\"what are some sugar substitutes used in diabetic recipes ?\"], [\"what glucose tolerance test is an example of a specimen ?\"], [\"is exercis <unk> to diabetes ?\"], [\"why would the doctor suggest checking the patient is blood sugar levels ?\"], [\"how are blood glucose levels regulated in the body ?\"], [\"is honey not good for a diabetic person ?\"], [\"what is the cause of constant fatigue ?\"], [\"what kinds of sugars can cause you to have diabetes ?\"], [\"diabetes is it dominant or recessive ?\"], [\"can you be a <unk> if you have type one diabetes ?\"], [\"does magnesium and chromium may play a role in decreasing the risk of type two diabetes ?\"], [\"what should my blood sugar level be ?\"], [\"what gland is in diabetes mellitus ?\"], [\"what should a diabetic person do ?\"], [\"how is gestational diabetes different from other types of diabetes ?\"], [\"how people die of diabetes ?\"], [\"ability of bacteria to produce insulin was result of ?\"], [\"does thyroxine increase blood glucose ?\"], [\"what percentage of <unk> <unk> have diabetes ?\"], [\"what are diabetes symptoms and preventions ?\"], [\"what cheese can you eat as a diabetic ?\"], [\"can you wean yourself off of insulin ?\"], [\"is <unk> is harmful for a diabetic man ?\"], [\"what is the metabolic abnormality that <unk> the characteristic symptoms of diabetes mellitus ?\"], [\"what snacks can a type two diabetics eat ?\"], [\"you have been experiencing twitching in your <unk> and thumb on your left hand for several weeks it is not painful but is very <unk> what could be causing this to happen ?\"], [\"is type two diabetes curable ?\"], [\"what glands produce insulin and glucagon ?\"], [\"is <unk> good for diabetic patients ?\"], [\"is drinking beer safe for diabetics ?\"], [\"how do people with type two diabetes look ?\"], [\"one unit of regular insulin decrease serum glucose by how much ?\"], [\"why should insulin be refrigerated ?\"], [\"what hormone increases blood sugar levels ?\"], [\"what is a gland not working in a diabetic ?\"], [\"what research has been done on <unk> ?\"], [\"two types of diabetes ?\"], [\"how is serum insulin made ?\"], [\"can you be fired if you fall asleep at work after just be <unk> with diabetes and taking medication at work related to injury that you were on <unk> <unk> two years ago ?\"], [\"diabetes type two ?\"], [\"do diabetes hurt ?\"], [\"does diabetes affect male sexual performance ?\"], [\"can diabetics use insulin for <unk> purposes ?\"], [\"diabetes mellitus is a disorder of ?\"], [\"what hormone causes diabetes ?\"], [\"what does a decreasing level of cea in the blood indicate ?\"], [\"how many people die from diabetic complications of hypoglycemia ?\"], [\"how is insulin taken ?\"], [\"how can you develop type two diabetes ?\"], [\"can diabetes tab <unk> be taken with cold meds ?\"], [\"what is wrong with a person is body if they have diabetes ?\"], [\"does <unk> raise blood sugar levels ?\"], [\"what branch of science that deals with diabetes ?\"], [\"what does diabetes do in the body ?\"], [\"does herbs actually help diabetes ?\"], [\"is type one diabetes also called niddm ?\"], [\"what is the function of the <unk> ?\"], [\"is insulin a carbohydrate ?\"], [\"can you die from <unk> <unk> ?\"], [\"where can i find more information on high blood sugar ?\"], [\"<unk> in <unk> of managing diabetes ?\"], [\"what is a good diet for one who is diabetic ?\"], [\"can diabetes cause a false positive drug test ?\"], [\"who was <unk> person to get diabetes ?\"], [\"can diabetics drink <unk> ?\"], [\"is <unk> safe for diabetics ?\"], [\"can you use <unk> inside <unk> ?\"], [\"what fruit will manage blood sugar level ?\"], [\"why does drinking alcohol lower blood sugar ?\"], [\"what might be the cause of rapid weight loss ?\"], [\"what is the definition of low sugar ?\"], [\"can diabetics drink <unk> coffee ?\"], [\"what are the top recommended diabetics diets ?\"], [\"what is main blood sugar in the body ?\"], [\"how can i get diabetes diet <unk> for someone with serious diabetis ?\"], [\"will drinking lots of water help to lower your blood sugar quickly ?\"], [\"is diabetes able to be passed along to your children ?\"], [\"is nick jonas diabetes getting worse ?\"], [\"is it harder for a man with diabetes to get a woman pregnant ?\"], [\"where can i find a detailed blood sugar levels chart to download ?\"], [\"for a diabetic what is a good diet to follow ?\"], [\"what are the effects of <unk> on blood sugar ?\"], [\"what kind of diet do i need to follow if i am borderline diabetic ?\"], [\"blood sugar <unk> of two hundred and fifty seven what is emergency action to take for a type two diabetic ?\"], [\"who lived with cancer and <unk> ?\"], [\"does heat <unk> raise blood sugar ?\"], [\"is nausea related to chronic diabetes- ?\"], [\"why take a blood glucose level two hours after a meal ?\"], [\"is diabetes a genetic disorder ?\"], [\"why are human <unk> not the best source for insulin ?\"], [\"could i please have some information on the plate method ?\"], [\"how can i improve my diabetes ?\"], [\"can you diabetes from eating a lot of sugar ?\"], [\"what exactly is a diabetes diet ?\"], [\"if you have <unk> do you get your leg cut off ?\"], [\"what are some risks that people take ?\"], [\"is <unk> wine also good for diabetes ?\"], [\"chronic disorder caused by inadequate production or use of insulin is a ?\"], [\"how much insulin would you have to take to die ?\"], [\"what causes teeth gum and tongue numbness especially while doing resistance training ?\"], [\"diabetic strips ?\"], [\"how do you know if it is a type one or type two diabetes ?\"], [\"why does diabetes happen ?\"], [\"can you claim any money if you are a diabetic ?\"], [\"where can one purchase diabetic supplies from ?\"], [\"how does one avoid adult onset diabetes ?\"], [\"is there a list of foods for type two diabetics ?\"], [\"what are some diabetic diets to follow ?\"], [\"what causes numbness of tip of the tongue ?\"], [\"what is the average salary for counselors in cook county ?\"], [\"where can i find out more about diabetic diet sheet ?\"], [\"is ketoacidosis diabetic retinopathy and nephropathy may be complications of iddm ?\"], [\"what is a sugar coma ?\"], [\"what age do most people get type diabetes and what age do it end ?\"], [\"what do you have when you have trouble <unk> things ?\"], [\"when is <unk> diabetes day celebrated ?\"], [\"is the prognosis good for patients with <unk> ?\"], [\"what is a normal blood glucose levels for a horse ?\"], [\"why does your child sweat excessively and <unk> ?\"], [\"why do you have to inject insulin ?\"], [\"the components of a diabetic food plan ?\"], [\"what does diabetes do to a body ?\"], [\"is there something you can eat or drink to bring down high blood glucose ?\"], [\"is a five % a1c range healthy what is the normal range ?\"], [\"safe and legal way to travel with insulin injection equipment and <unk> ?\"], [\"signs to seek diabetes testing ?\"], [\"how is diabetes transferred ?\"], [\"how does diabetes affect the stomach ?\"], [\"what kind of macromolecule is insulin and what does it do ?\"], [\"what is happening to someones blood glucose levels right before a race ?\"], [\"how do you <unk> lower my blood sugar ?\"], [\"can type two diabetes be a symptom of high triglycerides ?\"], [\"what caused diabetes ?\"], [\"how does exercise affect diabetes ?\"], [\"what is the major cause of insulin resistance ?\"], [\"what are the most common diabetic medications ?\"], [\"how many people have heart disease in the us ?\"], [\"what research has been done on <unk> ?\"], [\"what are good carbohydrates for diabetics ?\"], [\"how long till you have a cure for type two diabetes ?\"], [\"who would suffer hypoglycemia if they get low blood glucose levels from excess insulin action ?\"], [\"where can i find more info on free diabetic diet plans ?\"], [\"what desserts can diabetics enjoy ?\"], [\"what is diabetes and how is it treated ?\"], [\"how can a person improve his health ?\"], [\"what kind of diet would a person with diabetes have ?\"], [\"what can you eat if you are diabetic ?\"], [\"how does preventing a diabetic emergency affect the day to day life of a diabetic ?\"], [\"what happens with blood sugar level of four hundred and eighty ?\"], [\"you are newly diagnosed with type one diabetes your numbers were up to one thousand and fifty and they said your organs were shutting down why ?\"], [\"is <unk> good for diabetes ?\"], [\"how does glucagon cause hyperglycemia ?\"], [\"what type of diabetes are obese people most likely to develop ?\"], [\"is a blood glucose level of one hundred and six too high ?\"], [\"what parts of the body can be affected by focal dystonia ?\"], [\"when does diabetes insipidus occur ?\"], [\"blood sugar maintenance in a diabetic weight loss diet plan ?\"], [\"does a diabetic have to get blood only from a finger ?\"], [\"why drink fluids when you are sick ?\"], [\"what can you take for leg cramps if you take diabetic medicine ?\"], [\"what tells the body how much sugar should be in the <unk> ?\"], [\"if your mother and father have diabetes then will you get diabetes ?\"], [\"will antibiotic affect blood sugar ?\"], [\"what is the meal plan example for people like me who are diabetic ?\"], [\"what is an effective way to reduce the risk of heart disease cancer diabetes and other serious illnesses ?\"], [\"what are high blood sugar symptoms ?\"], [\"diabetes pump ?\"], [\"what are the dangers of consuming cheap diabetic supplies ?\"], [\"is diabetes mellitus a complication of <unk> ?\"], [\"insulin is synthesized and released by the ?\"], [\"which condition is often an indication of <unk> anemia ?\"], [\"difference between a diabetic and a non diabetic ?\"], [\"what kind of diet plan will you need with type two diabetes ?\"], [\"why is there increase in urination in diabetes mellitus ?\"], [\"what makes up your lower leg ?\"], [\"how can a person acquire diabetes ?\"], [\"is watermelon bad for type two diabetics ?\"], [\"if nph is given at 7am when is hypoglycemic reaction going to happen ?\"], [\"is nine point nine glucose reading high ?\"], [\"what precautions should i take running if i have diabetes . ?\"], [\"what would to much insulin cause ?\"], [\"what hormone raises blood sugar between meals ?\"], [\"buying a reliable blood sugar monitor ?\"], [\"what different sizes of skim board can i buy ?\"], [\"is low or high pressure related to diabetes ?\"], [\"what is kosher insulin ?\"], [\"what are some diseases spread by air ?\"], [\"what are the <unk> of the american diabetes association ?\"], [\"where are the receptors that sense changes in blood glucose ?\"], [\"is blood sugar one hundred and fifty six is normal ?\"], [\"what is diabetes two ?\"], [\"what are insulin dependent diabetics ?\"], [\"what gland controls glucose blood levels ?\"], [\"does low blood sugar mean i have hypoglycemia ?\"], [\"how does diabetes affect endocrine system ?\"], [\"if your husband has diabetes is it ok for you to get pregnant ?\"], [\"is six point two diabetes severe ?\"], [\"the symptoms of diabetes in children ?\"], [\"what vitamins are recommended for a diabetic ?\"], [\"how many grams of sugar are allowed for an adult with type two diabetes ?\"], [\"what is insulin resistance ?\"], [\"diabetes in pregnancy ?\"], [\"where can i find information on a diabetic diet , and the link between diet and overall health ?\"], [\"why is high glucose bad ?\"], [\"how old was nick jonas when he got diabetes ?\"], [\"can diabetics eat granola ?\"], [\"use of paneer booti in <unk> ?\"], [\"what are a diabetes health counselor is <unk> ?\"], [\"which of the following <unk> about insulin resistance and pre-diabetes is true ?\"], [\"when a persons <unk> can not produce enough insulin ?\"], [\"what disorder is type two diabetes ?\"], [\"diabetes can be inherited ?\"], [\"what is a normal range for fasting blood glucose ?\"], [\"do health care workers need to wear <unk> when checking a blood sugar ?\"], [\"is <unk> <unk> vitamin good for diabetics ?\"], [\"is it dangerous taking the <unk> if you are not diabetes ?\"], [\"cause of diabetes ?\"], [\"what does <unk> mean on <unk> check glucose meter for diabetes ?\"], [\"i want to get a tattoo but i also have diabetes . is it safer if i just not get one ?\"], [\"thirty unit of forty iu insulin is equal to how much unit of one hundred iu insulin ?\"], [\"is diabetes real ?\"], [\"how diabetes affect the pancreas ?\"], [\"diabetes mellitus is a disease that occurs when the body either can not produce the hormone insulin or produces an insufficient amount of insulin . the disease is caused by a <unk> in the system . ?\"], [\"where can i find blood glucose level chart ?\"], [\"can <unk> meat increase blood sugar ?\"], [\"what is the danger of high fructose corn syrup ?\"], [\"how do you fake a diabetes test ?\"], [\"can you take <unk> if you are a diabetic ?\"], [\"when your diabetic and pregnant are you allowed to drink milk ?\"], [\"how do you know if it is type two diabetes ?\"], [\"when does post prandial hypoglycemia occurs ?\"], [\"can diabetes be transferred sexually ?\"], [\"what kind of different treatments are there for diabetes ?\"], [\"what happens when blood sugar is low ?\"], [\"does eating sugar make you sweat more ?\"], [\"where can one purchase the best diabetic chocolates ?\"], [\"is it true that type two diabetes occurs much less frequently than type one ?\"], [\"what is the quantity of <unk> roots that one diabetic patient can have daily ?\"], [\"<unk> why it is needed for treatment ?\"], [\"can an overdose of diabetic medicine cause brain damage ?\"], [\"which organs are affected when you have diabetes type two ?\"], [\"how to get pregnant by a men with type two diabetes ?\"], [\"what is involved in a diabetic diet ?\"], [\"information about diabetes ?\"], [\"is borderline diabetes also known as type two ?\"], [\"can diabetes cause your feet to burn on the bottom ?\"], [\"why does insulin decrease potassium levels ?\"], [\"can a diabetic take metronidazole or <unk> ?\"], [\"where can you find diet plans ?\"], [\"could nineteen on diabetes reading bad ?\"], [\"what is a good <unk> for diabetics to use for sore feet ?\"], [\"what is the best way to type a capital a in a sentence ?\"], [\"what is a good pre diabetes diet ?\"], [\"what sugar is in your urine ?\"], [\"does diabetes make you go a lot if the sugar is up ?\"], [\"what are the symptoms of diabetics ?\"], [\"what do diabetes doctors do ?\"], [\"why relation of insulin to diabetes ?\"], [\"what is the survival rate of triple bypass surgery for a fifty five year old man with diabetes ?\"], [\"what are some healthy recipes for the diabetic consumer ?\"], [\"if diabetic person always feel headache and dizzy ?\"], [\"what kind of medicines are available to treat diabetes ?\"], [\"what is the normal range for blood glucose ?\"], [\"which blood test measures glucose levels eight to twelve hours after eating and is used to screen for diabetes mellitus ?\"], [\"what preparation should be used with caution in diabetic patients tincture syrup <unk> <unk> ?\"], [\"what is the scientific name for diabetes ?\"], [\"why the patients of diabetes use insulin injections ?\"], [\"how can you recognize diabetes ?\"], [\"what is dm diabetes mellitus ?\"], [\"what are some foods for a diabetic ?\"], [\"why is type two diabetes more common in the us then in any other country ?\"], [\"how do you lower your blood sugar if i dont have my meds with me ?\"], [\"why did the pima <unk> have diabetes ?\"], [\"does coffee affect blood sugar levels ?\"], [\"how can you get type one or two diabetes ?\"], [\"what <unk> do you need to be a diabetes nurse ?\"], [\"out of how many how may people have diabetes in us ?\"], [\"is one thousand high for glucose reading ?\"], [\"where can i find a chart on the average number of us <unk> with diabetes ?\"], [\"should diabetics eat a diet with a lot corn ?\"], [\"what exercise regimen will help get rid of a wouldiabetic middle ' ?\"], [\"how do you check a dogs blood sugar ?\"], [\"can a person suddenly acquire diabetes ?\"], [\"what is a normal range for blood glucose ?\"], [\"are there any natural remedies that work the same as taking diabetes medicine ?\"], [\"i have just been diagnosed with type one diabetes is it normal two want two like <unk> suicide or something ?\"], [\"what is the earliest age you could get a cure for diabetes ?\"], [\"first aid treatment for diabetes mellitus ?\"], [\"what are the signs and symptoms of a person suffering from a diabetic coma ?\"], [\"what are typical dangerous blood sugar levels for a diabetic ?\"], [\"what is the cause of diabeties ?\"], [\"how do you treat hypertension with diabetes ?\"], [\"what are the characteristics of a person with type one diabetes ?\"], [\"is there a cure for diabeties ?\"], [\"can you recover from diabetes ?\"], [\"what part of the body is affected by primary lateral sclerosis ?\"], [\"what should you do if you injected the wrong insulin ?\"], [\"what benefit is low carbon sugar is it helpful in the management of diabetes ?\"], [\"what are the types of diabetes children can develop and the symptoms related to these ?\"], [\"how do you treat diabetes insipidus ?\"], [\"how to keep a normal blood sugar level ?\"], [\"what are the food that patient have diabetic need to eat ?\"], [\"how could the liver maintain homeostasis after a person eats a meal that <unk> in large amounts of sugar entering the blood ?\"], [\"what are the release dates for project not me diabetes prevention - two thousand and twelve taking <unk> <unk> ?\"], [\"can diabetics donate a kidney ?\"], [\"when you have sweets and get sleepy do you have diabetes ?\"], [\"how many carbs are in a shot of whiskey ?\"], [\"what is considered and good low and high blood sugar ?\"], [\"what is normal blood sugar for kids ?\"], [\"what is the name of a disease when blood sugar levels are above normal ?\"], [\"why does mango help in <unk> diabetes ?\"], [\"diabetes is a result of the insufficient production of what ?\"], [\"what to do when blood sugar is over three hundred ?\"], [\"diabetes support groups ?\"], [\"can you die of type two diabetes ?\"], [\"what is the diagnosis code for <unk> ?\"], [\"are there any websites that can help me find diabetic menu planning ?\"], [\"what is the risk of insulin ?\"], [\"what is ther organ that secretes insulin and glucagon target tissues ?\"], [\"what is the prognosis for patients with early stage diabetic neuropathy ?\"], [\"would his <unk> beliefs prevent nick jonas from getting stem cell treatment for type one diabetes ?\"], [\"what hormone increases blood glucose ?\"], [\"if ants are on your toilet bowl does it mean you have diabetes already ?\"], [\"how does kevin <unk> recommend curing diabetes ?\"], [\"what causes diabetes in human <unk> ?\"], [\"i have weak arm is muscles since i am under diabetes and high blood pressure <unk> i suppose to do ?\"], [\"what is insulin an example of ?\"], [\"information on type one diabetes ?\"], [\"diabetes supplies ?\"], [\"do any <unk> have diabetes ?\"], [\"why is diabetes such a serious disease ?\"], [\"what are the health risks in relation to eating too many carbs ?\"], [\"can i test my blood sugar with out pricking my finger ?\"], [\"what diabetic medicine helps you lose weight ?\"], [\"what is the highest blood sugar ?\"], [\"what effect does eating have on blood glucose level ?\"], [\"is diabetes the epidemic of the <unk> century ?\"], [\"what are some ways to manage your diabetes ?\"], [\"why is type ii diabetes considered to be a <unk> form of diabetes ?\"], [\"can people under twenty have diabetes ?\"], [\"what are cures for diabetes ?\"], [\"diabetes treatment ?\"], [\"food for diabetics ?\"], [\"when and how was diabetes discovered ?\"], [\"what is gestational diabetes and how can it be controlled ?\"], [\"do people only eat some food if they have diabetes ?\"], [\"was insulin first used in the <unk> of diabetes in one thousand , nine hundred and twenty two or one thousand , nine hundred and fifty two or one thousand , nine hundred and eighty two ?\"], [\"diabetics should be <unk> to always carry a form of <unk> carbohydrate in case of emergency ?\"], [\"what is the function of the <unk> ?\"], [\"what kind of sugar is in bananas ?\"], [\"choose blood glucose strip brands carefully ?\"], [\"who made the cure for diabetes ?\"], [\"can you really make a cheesecake recipe that is good for a diabetic ?\"], [\"why would athletes develop type two diabetes ?\"], [\"what are some common autoimmune disorders and their symptoms ?\"], [\"what happens if low blood sugar is not treated ?\"], [\"what is a fatal dose of insulin ?\"], [\"how many people died because of diabetes before insulin was discovered ?\"], [\"why do you need a balanced diet ?\"], [\"can you get type one diabetes at any stage of your life ?\"], [\"does chicken affect diabetes ?\"], [\"free diabetes meter ?\"], [\"what types of food are recommended to be avoided when on a diabetic diet ?\"], [\"can type two diabetics drink milo ?\"], [\"do antibiotics affect blood sugar levels ?\"], [\"how does type one daibetes differ from type two diabetes ?\"], [\"why does decreased insulin cause diabetes ?\"], [\"does diabetic neuropathy treatment have any risks ?\"], [\"what kind of treatment there is for diabetes ?\"], [\"what diseases can diabetes give you ?\"], [\"how much people died of diabetes before insulin ?\"], [\"does diabetes affect pregnancy ?\"], [\"where can one obtain diabetic testing ?\"], [\"can diabetics on insulin take amoxicillin ?\"], [\"what are the top rated hospitals for diabetes and endocrinology ?\"], [\"why a person who has diabetes mellitus have more acidic urine ?\"], [\"what foods should a diabetic eat ?\"], [\"can you get diabetes from to much sugar ?\"], [\"my doctor asked me if a patient of <unk> had diabetes . i said no just high blood pressure . he said that is diabetes . does having high blood pressure mean you have diabetes ?\"], [\"how can you control your diabetes ?\"], [\"can insulin syringes be used to measure any medication for <unk> use ?\"], [\"should you use a blood glucose test daily if you have too much insulin ?\"], [\"where did insulin come from ?\"], [\"how do people handle diabetes ?\"], [\"what is the most common sign of diabetes ?\"], [\"could hepatitis be caused from agent orange ?\"], [\"can smoking cause diabetes ?\"], [\"why do diabetic people go blind ?\"], [\"the islets of langerhans produce two peptide hormones insulin and glucagon that interact to <unk> the level of glucose in the blood ?\"], [\"what is the best cereal for a diabetic ?\"], [\"gastric bypass surgery recommended as treatment for diabetes ?\"], [\"are sweeteners bad for diabetics ?\"], [\"what are healthy levels for blood glucose during fasting ?\"], [\"how does diabetes function in the body including immune system function brain function mutation gene function or anything else ?\"], [\"which one of the following choices is the best way to control type ii diabetes ?\"], [\"is diabetes testing recommended for everyone ?\"], [\"how does alcohol affect diabetes people ?\"], [\"what causes excessive thirst high blood glucose levels acidosis ?\"], [\"what is a normal range of total iron <unk> capacity in the blood ?\"], [\"what kind of diabetes did nick jonas had ?\"], [\"can you <unk> if you have diabetes ?\"], [\"what is the difference between humulin insulin and <unk> insulin ?\"], [\"can diabetics eat <unk> ?\"], [\"how do children cope with diabetes ?\"], [\"who gets diabetes ?\"], [\"why is insulin the right treatment for diabetes ?\"], [\"what are the different types of diabetes ?\"], [\"who would <unk> a diabetic <unk> ?\"], [\"what is an iu when measuring vitamins a d and e and how does it translate to <unk> and or mg ?\"], [\"does <unk> affect your diabetes ?\"], [\"where can i purchase or copy the best menu for nutrition for diabetics ?\"], [\"what are some symptoms of being borderline diabetic ?\"], [\"what kinds of treatment are there for diabetic eye problems ?\"], [\"what are normal blood glucose levels for an adult ?\"], [\"what animals can have diabetes ?\"], [\"is a blood sugar level of three hundred and eighty dangerous ?\"], [\"what affects does crack have on diabetics ?\"], [\"is tequila good for a diabetic patient ?\"], [\"how did nick get diabetes ?\"], [\"name something that happens to you when you eat too much sugar ?\"], [\"what causes hand cramps ?\"], [\"how does insulin work ?\"], [\"what healthy foods for diabetics should i start cooking ?\"], [\"how long after taking diabetes medicine can you drink tea ?\"], [\"how do you get rid of type one diabetes ?\"], [\"is one hundred and sixty blood sugar reading after eating all right ?\"], [\"diabetic test strips ?\"], [\"<unk> of insulin <unk> how much amount of glucose ?\"], [\"what do people with type one diabetes do to control their blood pressure ?\"], [\"what are some quick diabetes recipes ?\"], [\"do cranberries help diabetes ?\"], [\"what to eat if you have diabetes type two ?\"], [\"where can an older diabetic find a reasonably priced life insurance policy ?\"], [\"what is ketosis ?\"], [\"how many children die each year from diabetes ?\"], [\"why do you suddenly fall asleep after eating ?\"], [\"where can i find more information on diabetes dtour diet ?\"], [\"should diabetics drink beer ?\"], [\"how do you treat or cure diabetes ?\"], [\"how do you develop diabetes two ?\"], [\"who said diabetics can not have cake ?\"], [\"insulin shock is a form of what ?\"], [\"what year was the insulin pump invented ?\"], [\"initial onset of regular insulin given subcutaneously ?\"], [\"who invented the insulin ?\"], [\"how do you know you have gestational diabetes ?\"], [\"can someone be health and get diabetes because your dad has it ?\"], [\"concerns with <unk> engineered insulin ?\"], [\"diabetes treatment guidelines ?\"], [\"what happens if you mix different brands of insulin such as novorapid and lantus ?\"], [\"what causes the red color of blood ?\"], [\"what surgical treatment can be used for diabetes ?\"], [\"can type one diabetes be cured ?\"], [\"did <unk> winters die of diabetes ?\"], [\"what are some side effects from diabetes drugs ?\"], [\"will the flu shot affect you if you are a diabetic ?\"], [\"why does blood sugar not go to <unk> ?\"], [\"could you get diabetes if your uncle has it ?\"], [\"why polyuria occurs in <unk> ?\"], [\"what is the normal blood glucose levels for a healthy person ?\"], [\"can homeopathy cure diabetes ?\"], [\"how can i get diabetes ?\"], [\"what dosage of glyburide is given to a cat with diabetes ?\"], [\"what are <unk> lancets ?\"], [\"will hamburger raise your blood sugar levels ?\"], [\"what is the diabetes that is not to bad ?\"], [\"is coffee help full in diabetes two ?\"], [\"is anorexia part of diabetes ?\"], [\"what is precision <unk> glucose meter <unk> ?\"], [\"why do patients suffering from <unk> dependent diabetes mellitus develop hypoglycemia ?\"], [\"what is the abbreviation for postprandial blood sugar ?\"], [\"what would a diabetics diet menu consist of ?\"], [\"how many hours should you fast before a diabetes test ?\"], [\"one hour of exercise lows blood sugar level ?\"], [\"high concentrations of <unk> in the blood are associated with the development of ?\"], [\"what are some good diabetic food recipes that will help <unk> my symptoms ?\"], [\"can diabetes cause alcohol breath ?\"], [\"medications for diabetes ?\"], [\"does banana contribute to diabetes ?\"], [\"what is the normal range of blood sugar for diabetic ?\"], [\"what fruits can a diabetic have ?\"], [\"three ways to prevent serious illnesses such as heart disease cancer diabetes and stroke ?\"], [\"which group of chemicals does the hormone insulin belong ?\"], [\"can diabetics drink <unk> blue ?\"], [\"what does diabetes do ?\"], [\"what is <unk> diabetes ?\"], [\"is wheat good four diabetes ?\"], [\"can <unk> sugar be used on diabetic cookies ?\"], [\"describe diabetes mellitus type two in your own words ?\"], [\"are doctors who have specialized in nephrology currently in high demand ?\"], [\"what do <unk> <unk> in a person with diabetes ?\"], [\"what resistance leads to hyperglycemia and ketoacidosis ?\"], [\"why do diabetics take insulin ?\"], [\"is itching a symptom of diabetes ?\"], [\"what is a bone marrow biopsy ?\"], [\"where can i find a yoga <unk> in south florida ?\"], [\"what type of infection can lead to diabetes ?\"], [\"why is <unk> nutrition injected and not taken orally ?\"], [\"sometimes prolonged excessive exposure to high hormone concentrations causes a phenomenon known as ?\"], [\"are bananas good for diabetics ?\"], [\"can anyone assist me with more information about diabetic meal plan for someone who is diabetic ?\"], [\"is <unk> root good for diabetics ?\"], [\"what is the structure in the human body that is the usual source of insulin ?\"], [\"can you use <unk> with type two diabetes ?\"], [\"where can i find diabetes supplements online ?\"], [\"does diabetes cause peripheral neuropathy ?\"], [\"what causes high triglycerides ?\"], [\"is cabbage good for diabetes ?\"], [\"does diabetes make you sick ?\"], [\"how do you make simple syrup with sodium saccharin ?\"], [\"does diabetes require round the <unk> care ?\"], [\"what are the best ways of controlling diabetes ?\"], [\"can a cdl <unk> in florida still drive if he is a diabetic using insulin ?\"], [\"what causes tingling in left hand fingers ?\"], [\"how do you deliver sugar to an unconscious diabetic ?\"], [\"how does diabetes affect personal relationships ?\"], [\"what is the doctor in diabetes ?\"], [\"what the <unk> of type two diabetes ?\"], [\"does beer affect diabetes ?\"], [\"can you inherit diabetes from your family ?\"], [\"what happens when thyroxine increases ?\"], [\"what are the treatment for diabetes ?\"], [\"what kind of organism is used to produce human insulin ?\"], [\"how much is two grams of sugar ?\"], [\"can you develop diabetes from eating too many carbs ?\"], [\"normal protein levels in blood ?\"], [\"why are overweight people more likely to get diabetes ?\"], [\"is beer or wine bad for diabetics ?\"], [\"what types of diabetes are determined by the functioning of the ?\"], [\"what if i had diabetes for a while and did not know it and can not go to the doctor is to see if you do have it will it get worse ?\"], [\"what are the different types of insulin currently available for diabetes patients ?\"], [\"is there a pill that you can take to lose weight ?\"], [\"what would increase insulin secretion in type ii diabetes ?\"], [\"can sugar free rise blood sugar ?\"], [\"what is one of the major food categories in a type two diabetes diet ?\"], [\"what is the symptoms of diabetics ?\"], [\"how can you help people that has diabetes ?\"], [\"what can you do for type two diabetic ?\"], [\"can diabetes be <unk> down from your parents ?\"], [\"what gland does diabetes affect ?\"], [\"are diabetes fatal ?\"], [\"why is insulin taken orally ?\"], [\"can diabetic supplies be dangerous ?\"], [\"what is the treatment of diabetes ?\"], [\"can being diabetic cause an ongoing cold and flu ?\"], [\"which type of diabetes needs insulin injections ?\"], [\"what are side effects from insulin ?\"], [\"what are some diabetic foods to avoid ?\"], [\"signs of diabetes mellitus ?\"], [\"using a glucose meter to adjust your diet ?\"], [\"where would it be possible to access a supply of diabetic sweets online ?\"], [\"what is smart insulin ?\"], [\"can a type diabetic be admitted to the naval academy ?\"], [\"where to buy diabetic testing supplies ?\"], [\"how <unk> to eat banana for a diabetes patient ?\"], [\"glucose level one hundred and eleven ?\"], [\"how do you know if your blood sugar is low ?\"], [\"blood sugar levels are lowered by ?\"], [\"what occurs when the body is not able to produce insulin ?\"], [\"diabetic nutrition ?\"], [\"what kind of food should a diabetes person as to eat ?\"], [\"if a diabetic passes out do you give smelling salts ?\"], [\"what is the predisposing factors of diabetes mellitus ?\"], [\"where can you find dbx-13 for diabetes ?\"], [\"what are some reasons a person would start urinating a lot ?\"], [\"what kind of foods cause rapid weight loss ?\"], [\"how does diet affect diabetes ?\"], [\"can <unk> cause a sharp spike in blood sugar levels ?\"], [\"how did scientists find the human gene that makes insulin ?\"], [\"does novocaine affect your blood sugar ?\"], [\"what is the role of liver and pancreas in controlling the blood glucose level ?\"], [\"when you are diabetic and on insulin what can you do to bring down you glucose level aside from giving yourself an insulin shot ?\"], [\"how much <unk> do you give an adult pregnant patient having a one hour gestational diabetes screen ?\"], [\"where is the american diabetes association ?\"], [\"is diabetes a dominant or recessive trait ?\"], [\"what will happen if a diabetic patient drinks alcohol ?\"], [\"where can one find dessert recipes for diabetics ?\"], [\"is <unk> suitable for diabetics ?\"], [\"what are some suggestions for eating with diabetes ?\"], [\"how could parents protect their children against diabetes ?\"], [\"how many peoples day from diabetes in america ?\"], [\"is diabetes can eat bananas ?\"], [\"can you take <unk> when you got diabetes ?\"], [\"is it bad to have low blood sugar levels ?\"], [\"do you have to be a certain age to buy glucose tablets from the shops ?\"], [\"factors that can lead to heart disease ?\"], [\"a deficiency in what hormone could cause the immune system to <unk> ?\"], [\"why must insulin be administered in injection ?\"], [\"what is the leading cause of diabetes type two ?\"], [\"how many people in the us have type i diabetes ?\"], [\"cost of diabetic supplies at <unk> ?\"], [\"can you have a tattoo if your diabetic ?\"], [\"how can i prevent adult onset diabetes . ?\"], [\"does diabetes cause headaches after eating sweets ?\"], [\"what is diabetes millitus ?\"], [\"who discovered the cure for the diabetes ?\"], [\"what does coma mean ?\"], [\"what is normal blood sugar level after eating ?\"], [\"does the diabetic drug lantus have side effects ?\"], [\"when did nick had diabetes ?\"], [\"where can i find more information on diabetic meals ?\"], [\"what is a good diet that a diabetic should try ?\"], [\"have you tried <unk> ?\"], [\"can feeding dogs sugar cause diabetes ?\"], [\"can <unk> is hurt kids with diabetes ?\"], [\"treatment for diabetes ?\"], [\"is diabetes mellitus a chronic disease ?\"], [\"is their a relationship between diabetes and the pancreas ?\"], [\"does <unk> one hundred mg tabs raise ones blood sugar a lot ?\"], [\"what is the most common meal planning for diabetic people ?\"], [\"in type one diabetes what may be destroyed by the auto immune disease ?\"], [\"how many people in <unk> have diabetes ?\"], [\"what organs do diabetes mellitus and diabetes <unk> affect ?\"], [\"what is niddm ?\"], [\"is diabetes a diseas ?\"], [\"does a diabetic have excess sugar in semen ?\"], [\"what organs are affected by diabetes ?\"], [\"how can you avoid getting diabetes ?\"], [\"what can be done about swollen leg due to diabetes ?\"], [\"what food is bad for diabetes ?\"], [\"how many seconds should it take to inject insulin ?\"], [\"what is the proper aha first aid response to diabetic attack ?\"], [\"what are glucose tablets ?\"], [\"`` i know lantus is a diabetes medicine , but how is it applied i could not find the lantus package <unk> '' ?\"], [\"what are the side effects associated with using <unk> ?\"], [\"how do you get tested for type three diabetes ?\"], [\"what is a major cause of type one juvenile diabetes ?\"], [\"what happens when blood glucose levels get too low ?\"], [\"could tibicos good for diabetic person ?\"], [\"what diet <unk> diabetes ?\"], [\"when a person who has diabetes has difficulty producing what ?\"], [\"what types of foods can diabetics eat ?\"], [\"is there a type four diabetes ?\"], [\"what are the <unk> ' of diabetes ?\"], [\"how does a diabetics body respond to sugar entering the blood ?\"], [\"what effect dies not taking your diabetes medication have on the body ?\"], [\"what do you do if your blood sugar is low ?\"], [\"what is the best way to lose forty pounds if you are fifty five and borderline diabetic ?\"], [\"what are some diet and exercise tips for diabetic men that do not like to exercise and love to eat unhealthy foods ?\"], [\"what is a <unk> blood glucose test ?\"], [\"what type of information can you follow on track three ?\"], [\"true or false scientists use genetic engineering to produce bacteria that is capable of <unk> human proteins ?\"], [\"what diet is the best to follow for someone with diabetes ?\"], [\"what is <unk> diabetic ?\"], [\"how many new case of diabetes are diagnosed each day in the us ?\"], [\"how long does it take for <unk> to react to high blood sugars ?\"], [\"what can you eat with diabetes ?\"], [\"do mice have diabetes ?\"], [\"what is the normal range of fasting blood glucose ?\"], [\"what is hypogycemic ?\"], [\"how many units of insulin are in zero point five ml of regular u-100 insulin ?\"], [\"how do you treated a patient that has been giving too much insulin ?\"], [\"how many <unk> had diabetes ?\"], [\"if a parent has diabetes is it likely the baby will have diabetes ?\"], [\"after fasting all night , what is a normal blood sugar level in the morning ?\"], [\"what diet do i need to take for diabetes type two ?\"], [\"which beer is good for diabetic patients ?\"], [\"what is the function of <unk> ?\"], [\"what is glycosuria ?\"], [\"how does type two diabetes affect the <unk> system ?\"], [\"i has diabetes type1 <unk> to leave the insulin injections and use drug called januvia <unk> co . for type2 because i <unk> had very <unk> in my sleeping lead me to the epilepsy in my sleep ?\"], [\"what hormone involved in diabetes insipidus ?\"], [\"if a person has diabetes and their blood sugars drop to fifty what can happen ?\"], [\"what sugar levels are normal for someone with diabetes ?\"], [\"what is the healthy blood sugar levels chart ?\"], [\"what are some warning signs of diabetes when you are twenty years old ?\"], [\"diet plans for diabetics ?\"], [\"can diabetes cause organ shut down ?\"], [\"where can one purchase the <unk> diabetic testing supplies ?\"], [\"how common is diabetes type one ?\"], [\"what is the definition of diabetes ?\"], [\"tell when does a patient need to be given glucose ?\"], [\"why do people with type one diabetes have their feet <unk> ?\"], [\"why go for a glucose tolerance test ?\"], [\"how long do people live with diabetes ?\"], [\"what are the genes responsible for diabetes ?\"], [\"does high blood sugar effect male sexual performance ?\"], [\"can <unk> care help diabetes ?\"], [\"what does starch do for your body ?\"], [\"why do some foods test positive for glucose but do not taste sweet ?\"], [\"what is an activity that goes with diabetes ?\"], [\"what is the electrolyte disorder that <unk> diabetic ketosis ?\"], [\"what is the effect of low sugar in the blood ?\"], [\"what supplements can help with diabetes ?\"], [\"the trouble with weight ?\"], [\"does diabetes affect the eyes ?\"], [\"whats the difference between diabetes types one and two ?\"], [\"if blood sugar is spiking can you do anything about it ?\"], [\"what is the range of glucose in <unk> ?\"], [\"how many americans die <unk> from diabetes and its complications ?\"], [\"how to avoid or treat a hyperglycemia ?\"], [\"what can you eat to lower your blood sugar quick ?\"], [\"what is one common type of diabetes ?\"], [\"do they let diabetics do any part of the marine <unk> ?\"], [\"can a diabetic have the color red in a tattoo ?\"], [\"who founded the american <unk> association ?\"], [\"are there any home remedies to treat diabetes ?\"], [\"what should you do if you have type one diabetes and have your recommended level of sugar yet still feel low on energy ?\"], [\"where can one find information on diabetes ?\"], [\"what are some pre diabetes symptoms ?\"], [\"are there any natural herbs that can cure diabetes ?\"], [\"how does a high level of triglycerides present in the bloodstream affect your health ?\"], [\"what are the two types of <unk> ?\"], [\"what happens if you do not control diabetes ?\"], [\"is broccoli is bad for diabetics ?\"], [\"what is the importance of testing for electrolyte levels and what can happen if the electrolyte levels are not in balance ?\"], [\"how are blood glucose levels controlled ?\"], [\"where can i find restaurants with diabetic menus ?\"], [\"can <unk> year <unk> get diabetes ?\"], [\"can you <unk> with diabetes ?\"], [\"what is do you have to wear when you have diabetes ?\"], [\"are pee tests ninety nine point nine percent accurate ?\"], [\"where can i obtain a diabetic food pyramid ?\"], [\"what diagnostic tests are used to confirm diabetes ?\"], [\"what does diabetes type one affect ?\"], [\"what diets are out there for people with diabetes ?\"], [\"where can i find a list of foods a diabetic can eat ?\"], [\"what kind of diet is recommended for diabetics ?\"], [\"what is a good diet to keep your sugar levels down ?\"], [\"what should a diabetic avoid to eat ?\"], [\"can a dog develop diabetes ?\"], [\"can you prevent type one diabetes ?\"], [\"where can i find more information on sugar solution ?\"], [\"what affects more people aids breast cancer or diabetes ?\"], [\"what happens when your blood sugar is above normal ?\"], [\"what are the medicine for diabetic person ?\"], [\"why is orange juice recommended when blood sugar is low ?\"], [\"where can i buy a blood sugar levels chart ?\"], [\"what is mechanism of action <unk> <unk> as <unk> ?\"], [\"what shape is gangrene ?\"], [\"what is the best dry dog food for diabetic dogs ?\"], [\"what are some foods to serve to someone on a diabetic diet ?\"], [\"does having pre diabetes make you more likely to get gestational diabetes ?\"], [\"type one and type two diabetes ?\"], [\"what does it mean when your blood sugar count is two hundred and ninety seven ?\"], [\"is diabetes type two something to be worried about ?\"], [\"where online can i find a glycemic index chart ?\"], [\"were does the sugar in your blood come from ?\"], [\"when someone dies of a diabetic seizure what do they look like in detail please ?\"], [\"what enzyme does diabetes affect ?\"], [\"doctors sometimes <unk> that people with diabetes eat several small meals rather than three large ones why do you think doctors give this advice ?\"], [\"how is bacteria used to make insulin ?\"], [\"what are two causes leading to diabetes ?\"], [\"is it good to massage the head of <unk> one with headache ?\"], [\"where can i find diabetic recipes ?\"], [\"i have pins and needles in your hands and pain im a diabetic and am on <unk> what could b the cause of this ?\"], [\"is <unk> good for diabetes ?\"], [\"what is the normal blood surgar ?\"], [\"normal blood sugar level for type two diabetes ?\"], [\"what is the best diet for a diabetic ?\"], [\"how do you test for <unk> autoimmune diabetes ?\"], [\"what is the function of <unk> ?\"], [\"how are blood glucose levels tested ?\"], [\"what happens to diabetics if they stop taking insulin ?\"], [\"does swelling in the leg cause nerve damage ?\"], [\"what are the main ingredients in diabetic recipes ?\"], [\"what is caused by the body is inability to produce or properly use insulin ?\"], [\"why do not people <unk> diabetes ?\"], [\"how do you get type one diabetes ?\"], [\"what kind of products does the novo nordisk company produce ?\"], [\"is diabetes <unk> inherited ?\"], [\"how do you control your blood sugar ?\"], [\"what are the release dates for project not me diabetes prevention - two thousand and twelve fat <unk> 1-2 ?\"], [\"where can i find a free diabetes meter ?\"], [\"what is a good test to see if you have diabetes ?\"], [\"where can i find recipes for <unk> desserts ?\"], [\"is swimming good for type two diabetes ?\"], [\"do diabetic cookbooks only contain diabetic specific meals ?\"], [\"what are some simple diet plans for a diabetic ?\"], [\"does dark chocolate help type two diabetes ?\"], [\"can low blood sugar cause renal failure ?\"], [\"where can i find information about type i diabetes ?\"], [\"who is most likely to get diabetes ?\"], [\"can german <unk> get diabetes ?\"], [\"latest medicine for type two diabetes ?\"], [\"what is daily carb allowed for diabetic ?\"], [\"can a diabetic <unk> in <unk> ?\"], [\"what are the diseases that can be inherited ?\"], [\"how many people get diabetes in a year ?\"], [\"what is known about <unk> for diabetics ?\"], [\"diabetic ulcers ?\"], [\"can too much insulin kill you ?\"], [\"is diabetes mellitus an acute disorder ?\"], [\"if you are hypoglycemic how can you become diabetic ?\"], [\"what type medicine helps pancres <unk> ?\"], [\"is <unk> <unk> safe for type two diabetics ?\"], [\"how many diabetes are there ?\"], [\"which is the worst diabetes ?\"], [\"what are the negative effects of massage to a person with diabetes ?\"], [\"how does walking help blood sugar levels ?\"], [\"why do diabetics need to monitor their blood sugar levels ?\"], [\"why does diabetic patient experience more <unk> than a non diabetic patient ?\"], [\"is diabetes life threatening ?\"], [\"what are signs and symptoms for diabetic coma ?\"], [\"where is glucose released from ?\"], [\"is type one diabetes a mutation ?\"], [\"can diabetes raise blood alcohol content ?\"], [\"hormone action is regulated by ?\"], [\"what is the type two diabetes ?\"], [\"do diabetics eat more or less sugar ?\"], [\"is <unk> good for diabetic ?\"], [\"why do you need two kidneys ?\"], [\"if you are fifteen and have type one diabetes can you die ?\"], [\"how dangerous are high blood sugar levels ?\"], [\"did elvis <unk> presley have diabetes type one or two ?\"], [\"how is diabetes controlled ?\"], [\"at what age are most people diagnosed with diabetes ?\"], [\"who discovered type one diabetes ?\"], [\"what causes a bad taste in your mouth ?\"], [\"when was type one diabetes discovered ?\"], [\"diabetes meal planning services ?\"], [\"is type one diabetes easier or harder to treat than type two diabetes ?\"], [\"which endocrine gland controls sugar levels in the blood ?\"], [\"what animal can turn diabetes on and off ?\"], [\"<unk> makes insulin because ?\"], [\"what should my diabetic dad order when eating out ?\"], [\"what health problems will <unk> salt interfere with ?\"], [\"the average blood sugar over the past three weeks is measured by what test ?\"], [\"do most diabetic cake recipes use splenda or sweet n low ?\"], [\"do diabetics have fits ?\"], [\"who discovered the causes of diabetes ?\"], [\"what does frequent blood sugar levels over one hundred and sixty after eating mean ?\"], [\"can you get diabetes from consuming the blood of someone with diabetes ?\"], [\"what is the recovery time for laser surgery for retinopathy ?\"], [\"whats the best dessert recipe for a diabetic female ?\"], [\"is sugar free <unk> ok to drink with type two diabetes ?\"], [\"is diabetes severe than a stroke ?\"], [\"is <unk> lil boosie type one or type two diabetic ?\"], [\"what are the common sources of infection ?\"], [\"when a person had a low blood sugar suggest what he could eat to bring up his blood sugar level in the fastest way ?\"], [\"what are some ways to help prevent diabetes ?\"], [\"how would a <unk> be used in treating diabetes ?\"], [\"is diabetes insipidus recognized as a disability ?\"], [\"what are normal glucose levels ?\"], [\"what is the <unk> of insulin ?\"], [\"what type of sugar is in bananas ?\"], [\"four diseases that are communicable ?\"], [\"what are the the first treatments implemented in diabetes ?\"], [\"how many people currently have diabetes in <unk> ?\"], [\"how dangerous are blood sugar levels above three hundred ?\"], [\"how many cc in ten units of insulin ?\"], [\"what symptom is common to a patient with diabetes mellitus as well as diabetes insipidus ?\"], [\"is there a way to detect a diabetes carrier ?\"], [\"treatment for diabetic retinopathy ?\"], [\"what happens if you get insulin in your eye ?\"], [\"do diabetic people need to smoke ?\"], [\"how many calories can a diabetic have a day ?\"], [\"what is the <unk> name of glucose ?\"], [\"is there a difference between hypoglycemia and add ?\"], [\"why diabetic patient prefer to use sheep insulin than human insulin ?\"], [\"how can you control diabetes ?\"], [\"what is a condition in which the body is unable to produce or use insulin ?\"], [\"was diabetes contagious in world war one ?\"], [\"is diabetes medicine available without a prescription ?\"], [\"what are some treatment types for diabetes ?\"], [\"what do a1c levels tell you about a diabetic person ?\"], [\"what special precautions are taken for children with known food allergies diabetes or <unk> disease ?\"], [\"what nutrients help you prevent diabetes ?\"], [\"do you know where to find diabetes recipes ?\"], [\"indulge in tasty snacks for diabetics ?\"], [\"controlling diabetes ?\"], [\"what groups of women get diabetes more often ?\"], [\"why is a test for hba1c so important for diabetics ?\"], [\"what is the <unk> of symptoms called metabolic syndrome or insulin resistance syndrome linked to insulin resistance ?\"], [\"what causes type one diabetes mellitus caused by ?\"], [\"what does the code <unk> mean on an medtronic mini med insulin pump ?\"], [\"how many carbohydrates for non diabetic ?\"], [\"can <unk> be of benefit to diabetic men ?\"], [\"meal planning for diabetes - carbs count ?\"], [\"polyuria is a common symptom of diabetes mellitus ?\"], [\"what is the scientific name for the bacteria that causes diabetes ?\"], [\"do <unk> treat diabetes ?\"], [\"what is a disease in which the body does not produce or properly use insulin . ?\"], [\"what herb cures <unk> ?\"], [\"what should your blood sugar levels be before eating a meal ?\"], [\"what is a normal sugar level for twenty year old ?\"], [\"what is the medical term meaning accumulation of ketone bodies in the blood results of the condition diabetes mellitus ?\"], [\"what number is low sugar ?\"], [\"how is is diabetes genetically transfer ?\"], [\"what cause diabetics ?\"], [\"are there any good diabetic carrot cake recipes ?\"], [\"what is the name of the organ or gland that produces insulin ?\"], [\"can tv cause diabetes ?\"], [\"can eating too much sweets cause diabetes ?\"], [\"what are some simple dessert recipes for diabetics ?\"], [\"which endocrine gland regulates blood sugar levels ?\"], [\"can diabetes be detected before the symptoms appear diabetes mellitus ?\"], [\"can diabetes be transmitted ?\"], [\"what are the release dates for project not me diabetes prevention - two thousand and twelve eat less fat <unk> ?\"], [\"kids with diabetes ?\"], [\"is it a bad thing if you lose one <unk> in a week and then one point five pounds in a day without trying and if you are thirsty all the time so you drink lots of water ?\"], [\"type one diabetes is known as non insulin dependent diabetes ?\"], [\"my hba1c level is five point nine what is normal level ?\"], [\"will a patient with type ii diabetes require daily insulin injections on a regular basis ?\"], [\"what is wrong with a diabetic person when he has extreme thirst ?\"], [\"which endocrine gland releases a hormone that increases blood sugar level ?\"], [\"how do you get gestational diabetes ?\"], [\"is diabetic curable ?\"], [\"what is a good thesis statement for diabetes type one ?\"], [\"a person with chronic diabetes will <unk> signs of ?\"], [\"is diabetes mellitus contagious ?\"], [\"what is the normal average for blood sugar ?\"], [\"can a diabetic have beetroot juice ?\"], [\"what foods are on a reputable diabetic diet food list ?\"], [\"why do diabetics get thirsty ?\"], [\"what risks contribute to diabetes ?\"], [\"how much sugar is in <unk> water ?\"], [\"can a person without diabetes get a ulcer ?\"], [\"what organ produces insulin ?\"], [\"what medicine do people with type one diabetes have to take ?\"], [\"what will happen if a non diabetic takes insulin ?\"], [\"what are diabetes symptoms in young children ?\"], [\"teens with diabetes can eat sugar sweets and deserts ?\"], [\"could diabetes cause other sickness ?\"], [\"insulin injection cpt code ?\"], [\"which type of diabetes is due to a deficiency in the secretion of antidiuretic hormone ?\"], [\"how much fluid in a renal diet ?\"], [\"how many suffer from diabetes ?\"], [\"where can one find medical supplies for someone who is diabetic ?\"], [\"how do you manage diabetes ?\"], [\"where can i find a glucose level chart online ?\"], [\"what is causes high blood glucose levels ?\"], [\"ketoacidosis associated with diabetes mellitus is likely to produce what acid imbalance ?\"], [\"what are some cures for type one diabetes ?\"], [\"how does doda paneer help in diabetes ?\"], [\"what is a diabetes type two diet ?\"], [\"did miley cyrus cry when she found out nick jonas had type one diabetes ?\"], [\"will my diabetes mean i can not enjoy the breakfast sweets i love ?\"], [\"is yogurt good for a diabetic ?\"], [\"what are some healthy diabetic desserts ?\"], [\"what are the warning signs for diabetes ?\"], [\"is milk good or bad for uric acid ?\"], [\"taking sixty five units a day of insulin how many days will a 100ml vial last this is lantus at <unk> ?\"], [\"when should diabetic eat ?\"], [\"why can you not ingest insulin ?\"], [\"can diabetes affect the eyes ?\"], [\"how can hereditary diseases be treated ?\"], [\"what year did sonia sotomayor have one type of diabetes ?\"], [\"blood sugar levels ?\"], [\"what can cause hypoglycemia ?\"], [\"which fiber should be recommended to patients with type two diabetes ?\"], [\"what are symptoms of diabetes that have to do with blood sugar ?\"], [\"how does one get diabetic ?\"], [\"what kind of food can a dog with diabetes eat ?\"], [\"<unk> does cover diabetes medication ?\"], [\"what foods are <unk> on a type two diabetes diet plan ?\"], [\"what is the normal blood sugar range for non-diabetics ?\"], [\"does liquor affect your blood sugar ?\"], [\"where does type i diabetes most often occur ?\"], [\"can <unk> suffers eat butter ?\"], [\"where can one get free diabetes education ?\"], [\"different drugs for different control ?\"], [\"where to find books about diabetes ?\"], [\"the major function of insulin is <unk> in what ?\"], [\"what medical specialists do you see if you have diabetes mellitus ?\"], [\"what to do when diabetic wants food not good for them ?\"], [\"how can diabetes spread from generation to generation ?\"], [\"how fast will thirty one grams of carbs in a banana bring up a low blood sugar of thirty eight ?\"], [\"what diseases can you get with lack of <unk> ?\"], [\"what is a good type of diabetes ?\"], [\"can teenagers get type two diabetes ?\"], [\"what are various treatment options for type one diabetes ?\"], [\"what are some things i can do to prevent diabetes ?\"], [\"what is considered a low glucose level ?\"], [\"what is dibeties ?\"], [\"where can you find information about the grapefruit diet ?\"], [\"is a glucose monitor watch the best way to keep track of your diabeties ?\"], [\"who <unk> if nick is the only one with diabetes in his family ?\"], [\"how is genetically engineered insulin made ?\"], [\"is a blood sugar level of one hundred and eleven normal ?\"], [\"what does a stable or increasing level of cea in the blood indicate ?\"], [\"when a person is in treatment for diabetic ketoacidosis what happens ?\"], [\"what lab test do you use to rule out diabetes ?\"], [\"does smoking cause diabetes two ?\"], [\"how common are diabetes complications ?\"], [\"is there a cure for pediatric diabetes ?\"], [\"how are carbohydrates processed in a diabetic and non diabetic person ?\"], [\"what to do when you inject insulin in muscle ?\"], [\"what <unk> and fruits and vegetables can stop diabetes two ?\"], [\"what is a diabetic comma ?\"], [\"does honey increase you sugar level ?\"], [\"medicare diabetic supplies ?\"], [\"where can your children receive diabetes education ?\"], [\"did miley cyrus break up with nick jonas because nick had diabetes ?\"], [\"what food can you eat on a typical type two diabetes plan ?\"], [\"what can you do if you lose your cdl due to diabetes ?\"], [\"what are type two diabetes symptoms ?\"], [\"what are some recipes for a diabetic diet ?\"], [\"what pancreatic hormone increases blood sugar ?\"], [\"what are recent books with tasty diabetic food recipes ?\"], [\"how do you catch type two diabetes ?\"], [\"is v8 juice good for diabetics ?\"], [\"what does three point zero to seven point zero mean in blood sugar ?\"], [\"what mineral increases insulin activity ?\"], [\"is potato is good for diabetic patients ?\"], [\"does the pancreas control blood sugar levels ?\"], [\"what are some causes of lack of water ?\"], [\"how high or low should your sugar be ?\"], [\"are any types of diabetes hereditary ?\"], [\"does someone have the answers to the <unk> gestational diabetes case study ?\"], [\"what should you do if you are diabetic and have a fever and why ?\"], [\"what are the ideal numbers for fasting glucose levels ?\"], [\"how much sugar is in urine ?\"], [\"explain the are the three types of diabetes ?\"], [\"if someone has diabetes and they eat too much sweets what will happen ?\"], [\"what does glucose give us ?\"], [\"what are the medications associated with diabetes ?\"], [\"which diabetes is rare ?\"], [\"what are the health benefits of <unk> ?\"], [\"type i diabetes ?\"], [\"what information can you tell me about sugar ?\"], [\"what are two serious consequences that are possible for someone with type two diabetes if a <unk> diet is not followed ?\"], [\"where do you give insulin ?\"], [\"is it possible for a blood sugar level to be five hundred and seventy and they are fine ?\"], [\"how does a vet treat canine diabetes ?\"], [\"where can one find information on how to make diabetic cookies ?\"], [\"your <unk> rate is thirty six what does this mean ?\"], [\"where was diabetes discovered ?\"], [\"what should my blood sugar level be ?\"], [\"does <unk> come from diabetes ?\"], [\"what are the foods diabetics need to avoid ?\"], [\"where can i find good information on normal sugar levels ?\"], [\"is diabetes a sex-linked trait ?\"], [\"diabetics and <unk> ?\"], [\"can a diabetic consume sugar ?\"], [\"what causes urine specific gravity to be high ?\"], [\"is ther any way to find more information about diabetes and diet ?\"], [\"is there a chart that shows foods that are high in protein online ?\"], [\"what is the normal average ph of blood ?\"], [\"how many children are diagnosed with type one diabetes every day ?\"], [\"who is at increased risk for developing type one and type two ?\"], [\"if there is diabetes on both sides of a child is family what can that child do to lower the risks of getting diabetes ?\"], [\"what is the spice that cures diabetes ?\"], [\"what is leptin secreted by ?\"], [\"pregnancy diabetes ?\"], [\"when should a rapid acting insulin administered ?\"], [\"what are the foods a diabetic can eat ?\"], [\"<unk> <unk> has diabetes like nick could they be friends like that ?\"], [\"how do you get my blood sugar to rise in a diabetic emergency ?\"], [\"what is the chance of getting type one diabetes ?\"], [\"what are the best fruits for a diabetic ?\"], [\"what is the colour of the awareness ribbon for diabetes ?\"], [\"when is insulin released ?\"], [\"why does type two diabetics can not take penicillin ?\"], [\"symptoms of hyperglycemia ?\"], [\"why are drinking water levels often so low ?\"], [\"what does diabetic neuropathy treatment entail ?\"], [\"what disease occurs when the islets of langerhans fails to produce enough insulin ?\"], [\"diabetic grocery list ?\"], [\"how can one tell if he has diabetes ?\"], [\"what is a good food guide for diabetics ?\"], [\"what does two hundred and ninety seven as a blood sugar means ?\"], [\"why does diabetes cause impaired blood flow ?\"], [\"could diabetes spread ?\"], [\"what is <unk> <unk> five hundred mg the after effects of using this tablet i am sixty two years old having high blood pressure and diabetic ?\"], [\"how diabetes causes decrease in immunity ?\"], [\"why do some diabetics take medications orally ?\"], [\"what will happen if you take diabetic medication and you are not diabetic ?\"], [\"how are nerves affected by low blood sugar ?\"], [\"how does diabetes produce glucose in the urine ?\"], [\"what test is test is performed to confirm a diagnosis of diabetes mellitus and to aid in diagnosing hypoglycemia ?\"], [\"what foods are included in diabetes food chart ?\"], [\"explain the health education for diabetic patient ?\"], [\"when to start treatment for diabetes ?\"], [\"who is the actress in the diabetes test strip commercial ?\"], [\"what kind of foods are good for a diet for diabetes ?\"], [\"what type of insulin is given to a patient with diabetic ketoacidosis ?\"], [\"what is regular insulin made of ?\"], [\"what are the effects of ph in diabetic ketoacidosis ?\"], [\"why do diabetics feel hungry all the time ?\"], [\"can you have diabetes and not be diagnosed till a later date ?\"], [\"how do you know if you are type one diabetes ?\"], [\"is diabetes prevention helpful ?\"], [\"what is the normal fasting blood glucose range in a diabetic teenager ?\"], [\"what are the early signs of diabetes that people tend to miss ?\"], [\"what do people with diabetes do not produce enough ?\"], [\"where can i find the new diabetic food list ?\"], [\"what is considered a normal blood sugar level ?\"], [\"is salt solution good for diabetic foot ulcers ?\"], [\"what are the diabetes symptoms ?\"], [\"is there anything that makes you pee a lot ?\"], [\"is dieting important for diabetis <unk> condition ?\"], [\"what are the symptoms of type ii diabetes ?\"], [\"where can you stick yourself to check blood sugar levels ?\"], [\"where can i find the diabetic food guide ?\"], [\"are tomatoes good for diabetes ?\"], [\"should all diabetics wear diabetic bracelets ?\"], [\"can high glucose levels result in diabetes ?\"], [\"does brown rice affect diabetes ?\"], [\"can a diabetic eat mango ?\"], [\"what are the best diabetic diet foods i can give a fifteen year old growing girl ?\"], [\"why do you have a dry mouth and always thirsty but not diabetic ?\"], [\"what are the treatments for type one diabetes ?\"], [\"what could be the symptoms of diabetes ?\"], [\"what effect does <unk> have on blood sugars ?\"], [\"what is hypoglycemia and its treatment ?\"], [\"what <unk> are there available in medical field dealing with diabetes ?\"], [\"what are symptoms of diabetes ?\"], [\"how to tell your own normal blood glucose ?\"], [\"how does the <unk> respond to diabetes ?\"], [\"what happens when the rate of <unk> glycogen is high ?\"], [\"where in the cell are <unk> found ?\"], [\"do most people with diabetes suffer from type two diabetes ?\"], [\"what is the purpose of checking diabetes sugar levels ?\"], [\"what macromolecule is in insulin ?\"], [\"could diabetes be a mental illness you are born with or can developed do to extreme depression or suppressed <unk> and anger ?\"], [\"what is hyperosmolar syndrome ?\"], [\"what are some signs that a person is suffering from diabetes ?\"], [\"what are the <unk> of diabetes ?\"], [\"is noni good for diabetics ?\"], [\"what effects does diabetes have on the human body ?\"], [\"where can i go online to find some information on diabetic diet plans ?\"], [\"diabetic needles ?\"], [\"can exercise and diet reverse diabetes ?\"], [\"where can one find information on diabetes in children ?\"], [\"does milk raise blood sugar ?\"], [\"where can i <unk> a diabetic meal planner ?\"], [\"when would a diabetic need to see the doctor with sore feet ?\"], [\"what is diabetes <unk> ?\"], [\"what is a glucose levels chart and can it help with diabetes ?\"], [\"is the chance of diabetic baby born to parents both heterozygous normal ?\"], [\"what are the characteristics of type one diabetes ?\"], [\"can you make your <unk> on <unk> three have diabetes and how ?\"], [\"is one hundred and thirty nine a high sugar reading ?\"], [\"is <unk> disease related to diabetes ?\"], [\"what happens if diabetes is untreated ?\"], [\"who discovered insulin is a treatment for diabetes ?\"], [\"is grapes not good for diabetic ?\"], [\"is swollen ankles a symptom of diabetes ?\"], [\"can diabetics use the <unk> <unk> ?\"], [\"how does diabetes affect decision making for older teachers ?\"], [\"what is blood glucose level and why you ?\"], [\"when was pacific <unk> diabetes research institute created ?\"], [\"are there good diabetic cake recipes ?\"], [\"how high is fasting blood sugar seven point zero ?\"], [\"is <unk> a diabetic ?\"], [\"is cholesterol a poison ?\"], [\"is there a cure to diabetes ?\"], [\"what was the diagnosis for the black death ?\"], [\"can diabetic take date ?\"], [\"what causes a red burning rash on your face ?\"], [\"is there affordable diabetic supplies available for medicare patients ?\"], [\"why is glucose given to a <unk> person ?\"], [\"use of psyllium <unk> in diabetes and <unk> ?\"], [\"why does type one diabetes turn into type two diabetes in the future when you become an adult ?\"], [\"is it safe to fast for <unk> reasons with type two diabetes ?\"], [\"what is alpha lipoic acid ?\"], [\"what is the difference between type two diabetes mellitus and type1 diabetes mellitus ?\"], [\"can people with type one diabetes get nose jobs ?\"], [\"which sugar is found in greater than normal amounts in the blood of a diabetic ?\"], [\"is <unk> necrosis caused by diabetes ?\"], [\"high blood sugar reading ?\"], [\"who are at risk for diabetes ?\"], [\"what causes diabetes ?\"], [\"will <unk> cause diabetes ?\"], [\"will mango fruit prevent diabetes ?\"], [\"what does the glucose meter read ?\"], [\"what is the normal range for blood sugar ?\"], [\"does insulin make glucose ?\"], [\"why is protein insulin not given by mouth ?\"], [\"what type of hormone is insulin ?\"], [\"which <unk> promotes insulin resistance ?\"], [\"will an exercise plan help me manage my diabetes ?\"], [\"how does the diabetic food chart compare to the basic food chart ?\"], [\"where is energy stored in glucose ?\"], [\"raised serum <unk> levels ?\"], [\"what is type 1diabetes ?\"], [\"how does one get help for diabetic supplies ?\"], [\"what kinds of vegetables can a diabetic eat ?\"], [\"can you lose diabetes ?\"], [\"what is the blood sugar range for non diabetics ?\"], [\"what is the difference between non insulin dependent diabetes and <unk> dependent diabetes ?\"], [\"what deserts are recommended for diabetics ?\"], [\"what diabetics should not eat ?\"], [\"what is <unk> ?\"], [\"where can i find out more about diabetes type two diets ?\"], [\"how do you know if it is a type1 or type2 diabetes ?\"], [\"how can one tell when glucose has a high concentration ?\"], [\"<unk> that increase blood sugar levels ?\"], [\"when was diabetes care created ?\"], [\"does diabetic high blood sugars make a person cranky and mean ?\"], [\"how do you get dibetes ?\"], [\"can people with type two diabetes get tattoos ?\"], [\"can diabetes stop you from being certified from <unk> a truck ?\"], [\"what fruit is good for gout and diabetes ?\"], [\"i was eleven weeks but found out fetus died at nine weeks is it safe for a diabetic to have a <unk> ?\"], [\"how does type two diabetes affect the nervous system ?\"], [\"what iv fluids needed by a diabetic patient ?\"], [\"is there an informational source online for diabetes in children ?\"], [\"what is dibetes ?\"], [\"does diabetes cause weight loss ?\"], [\"what can cure hypertension and diabetes ?\"], [\"where can i obtain free list of dessert foods that are ok for diabetics ?\"], [\"can you get type one diabetes form being overweight ?\"], [\"what medical conditions cause hands and feet to fall asleep ?\"], [\"what type of effect does <unk> have on diabetes ?\"], [\"why are diabetes classified as a noninfectious disease ?\"], [\"when was insulin first used in the treatment of diabetes ?\"], [\"how you get type one diabetes ?\"], [\"are there any websites that could help me find easy diabetic recipes ?\"], [\"will diabetes along with thyroid disease along with high blood pressure along with eye disease qualify you ?\"], [\"is it tomato suitable food for diabetics ?\"], [\"fasting blood sugar is higher than <unk> after dinner blood sugar ?\"], [\"what causes nausea frequent urination and fatigue ?\"], [\"is diabetes insulin made in a pig cow human or bacteria ?\"], [\"does everyone have diabetes ?\"], [\"what type of diet should someone with diabetes have ?\"], [\"what are the warning signs of diabetes mellitus ?\"], [\"does your dog have diabetes ?\"], [\"how does type two diabetes affect your body ?\"], [\"what does it mean when a person is diabetic ?\"], [\"does being overweight cause diabetes ?\"], [\"what are the names of the different type of diabetes ?\"], [\"what is the recommended diet for treatment and/or prevention of diabetic neuropathy ?\"], [\"what causes gestational diabetes ?\"], [\"what can i eat to bring down my blood sugar ?\"], [\"diabetes guidelines ?\"], [\"what race is type one diabetes more common ?\"], [\"can low blood sugars lead to diabetes ?\"], [\"how does a person know when they have diabetes ?\"], [\"where would be the best place to find diabetic sugar free recipes ?\"], [\"does the basement membrane become <unk> in diabetics ?\"], [\"what are the chances of diabetes being hereditary ?\"], [\"is it advisable for a person with diabetes and suffering from <unk> to fly on a plane ?\"], [\"should type two diabetics use <unk> sugar ?\"], [\"what are classic symptoms of diabetes ?\"], [\"where to find recipes for sugar free desserts ?\"], [\"is diabetes from having a bad diet ?\"], [\"how does type two diabetes affect lymphatic system ?\"], [\"are there any websites that offer diabetes education ?\"], [\"what is the difference in type1 and type2 diabetes ?\"], [\"what does the american diabetes association do ?\"], [\"<unk> , sugar free recipes for the elderly ?\"], [\"what parts of the human body is affected by diabetes ?\"], [\"what supplies do i need to test for diabetes ?\"], [\"what term describes a <unk> complication of diabetes mellitus ?\"], [\"how much sugar is in a potato ?\"], [\"do high triglyceride levels affect your blood sugar ?\"], [\"what is characteristic of the onset of insulin resistance ?\"], [\"can you join the us army if you have diabetes insipidus ?\"], [\"where might i find <unk> for a diabetic diet which use foods that can be prepared easily at home ?\"], [\"drinking a lot of water but urinating normally diabetes ?\"], [\"what foods can you eat if you have type two diabetes ?\"], [\"what kind of doctor should you see if you think you have diabetes ?\"], [\"can diabetics go in the blue pool in iceland ?\"], [\"does a diabetic test their blood sugar before a meal or after ?\"], [\"where can you get a type two diabetes plan ?\"], [\"conditions associated with type two diabetes ?\"], [\"if you have blurred vision at times are you diabetic ?\"], [\"can diabetics eat foods with garlic ?\"], [\"what is dlife ?\"], [\"where can you find a list of food <unk> in <unk> ?\"], [\"can you use any function inside <unk> ?\"], [\"does discharge education in the new diabetic patient impact <unk> rates for <unk> ?\"], [\"will being diabetic affect the result of a pregnancy test ?\"], [\"where can i find a good diet plan for diabetics ?\"], [\"does joint pain occurs because of diabetes ?\"], [\"what do the signs of diabetic ketoacidosis appear as ?\"], [\"could you recommend a top selling cookbook with healthy diabetic recipes ?\"], [\"which organ produces insulin ?\"], [\"if you use a one ml insulin syringe how many units would you draw up ?\"], [\"what are the signs of pre diabetes ?\"], [\"how man people in america have diabetes ?\"], [\"is almond good for diabetic ?\"], [\"what causes dry mouth ?\"], [\"why eat protein with high blood sugar ?\"], [\"how much glucose is in diabetic person ?\"], [\"can you get type a diabetes by dirty hands ?\"], [\"what does an alt lab test screen for ?\"], [\"what research has been done on selenium deficiency ?\"], [\"can diet be used to control type one and type two diabetes ?\"], [\"what condition is caused by too much insulin and too little sugar in the blood ?\"], [\"does <unk> raise blood sugars ?\"], [\"can diabetics drink <unk> ?\"], [\"if your mate has diabetes and you get pregnant what are the odds the baby would have diabetes ?\"], [\"are <unk> product are safe to be use especially in a pregnant women ?\"], [\"how many carbohydrates should a type two diabetic safely consume per day ?\"], [\"how can you get pregnant if your diabetic ?\"], [\"are diabetics <unk> ?\"], [\"can diabetes supplies be ordered online ?\"], [\"how is insulin <unk> ?\"], [\"do diabetes shots hurt ?\"], [\"how does bacteria help people with diabetes ?\"], [\"how is the blood level of of insulin controlled and regulated ?\"], [\"does diabetes cause cloudy urine ?\"], [\"is diabetes a <unk> ?\"], [\"did nick jonas consider leaving the jonas brothers when he found out that he had diabetes ?\"], [\"is sugar levels an important part of diagnosing diabetes ?\"], [\"diabetic diet recipes ?\"], [\"does whole foods store sell healthy foods for diabetics ?\"], [\"can you control type two diabetes by simply not eating any sugar or carbs ever ?\"], [\"how do you treat <unk> ?\"], [\"are there certain things diabetics can or can not have or eat or drink ?\"], [\"does the <unk> change with diabetes ?\"], [\"if you are a diabetic do you have to take the flu vaccine ?\"], [\"what are the stages of <unk> cancer , and does diet play a part ?\"], [\"if a person is not diabetic why would he have ketones in the urine ?\"], [\"is one hundred a high glycemic index reading ?\"], [\"can you name some diabetic online diet programs ?\"], [\"what is considered a normal blood sugar range ?\"], [\"if i only eat lunch and dinner is this okay if i ham a diabetic ?\"], [\"is there a connection between stress and blood sugar levels ?\"], [\"where can i obtain the information on glucose level chart ?\"], [\"why are type two diabetics insulin <unk> ?\"], [\"what are the two type of diabetes ?\"], [\"what diabetes foods should he avoid ?\"], [\"what is a good type two diabetes diet ?\"], [\"you have had chest pains that your doctor said were panic attacks and now you are having them again can <unk> cause chest pain or diabetes ?\"], [\"what lowers the level of glucose in the blood ?\"], [\"what are some symptoms to determine borderline diabetes ?\"], [\"how many gram of sugar are ok in a one thousand , eight hundred ada diet ?\"], [\"is five hundred and forty three a good blood sugar level ?\"], [\"what are two symptoms of diabetes mellitus ?\"], [\"is one hundred and sixteen a good blood sugar ?\"], [\"to what group are olives <unk> in food exchange lists ?\"], [\"why do your teeth ache can diabetes medicine increase sensitivity ?\"], [\"what kind of foods do diabetics eat ?\"], [\"what kind of diabetes medications do people usually take ?\"], [\"can you get type one diabetes by being obese ?\"], [\"is it ok to smoke marijuana with diabetes ?\"], [\"what could happen if a person does not take care of their diabetic condition ?\"], [\"can people with diabetes eat blueberries ?\"], [\"how much of what fruits can a type two diabetic have ?\"], [\"when is the best time to test blood glucose levels ?\"], [\"does your groin itch when you have diabetes ?\"], [\"what places offer advice on low blood sugar ?\"], [\"can salt elevate a diabetics blood sugar levels ?\"], [\"what is a v-go needle ?\"], [\"when was diabetes found ?\"], [\"is ninety healthy for a glucose reading ?\"], [\"what is a normal blood sugar range for a diabetic ?\"], [\"which diabetes usually develops during adolescence and is thought to be caused by an inherited predisposition to pancreas problems ?\"], [\"what is the life expectancy of someone with terminal colon and liver cancer he is seventy seven years old and had diabetes the dr is told us approx six months he has <unk> that . any <unk> would be helpful . ?\"], [\"what is in simple english diabetic <unk> ?\"], [\"a chronic disorder of <unk> metabolism which results in hyperglycemia and glucosuria is ?\"], [\"can mental illness be considering the same as having diabetes ?\"], [\"what age does diabetes start ?\"], [\"do <unk> affect diabetes ?\"], [\"can you have hypoglycemia without diabetes ?\"], [\"can a diabetic patient eat one mango a day ?\"], [\"should diabetics avoid rum and brandy ?\"], [\"how is it that the insulin stops working and or does not produce enough ?\"], [\"what do people with diabetes suffer from ?\"], [\"is <unk> okay for a diabetic ?\"], [\"can a thirteen year old get type two diabetes ?\"], [\"remedy for stings ?\"], [\"what is the difference between the sports <unk> <unk> and baseball ?\"], [\"treatments for diabetes ?\"], [\"where can you find a diabetic cake recipe ?\"], [\"which cells are prone to damage from low blood sugar ?\"], [\"what type of insulin has the <unk> onset period ?\"], [\"what medications are used to treat diabetes mellitus ?\"], [\"is evaporated cane juice all right for diabetics ?\"], [\"why is it important for diabetics to be careful about the amount of sugar in their diets ?\"], [\"what are causes of diabetes ?\"], [\"what if blood glucose is normal but hemoglobin a1c high ?\"], [\"can i find diabetic foods in any grocery store ?\"], [\"what parts of the body are affected by diabetes ?\"], [\"is bread good for diabetic patients ?\"], [\"can diabetes turn a penis black ?\"], [\"can diabetes be passed on to your baby ?\"], [\"how many grams of sugar should a pre diabetic woman consume per day ?\"], [\"is diabetes a contraindication to massage if so why ?\"], [\"how many types of sugar like blood sugar ?\"], [\"what is the lowest fasting glucose level for a diagnosis of diabetes ?\"], [\"what tools you use for diabetes ?\"], [\"is watermelon harmful for the patients with high blood sugar levels ?\"], [\"trying a diabetes diet ?\"], [\"how are babies of women with gestational diabetes affected ?\"], [\"the blood level of what is most significant in regulating the respiratory center in mammals ?\"], [\"what can cause a diabetic sugars to rise ?\"], [\"what are some good ideas for diabetic foods ?\"], [\"if your best friend is a ten year old with diabetes and you have to take daily shots and you miss one shot in one day only will you die ?\"], [\"what does human insulin do ?\"], [\"you are forty nine what are healthy levels of blood glucose before and after food ?\"], [\"what are the advantages of undergoing a diabetic diet ?\"], [\"what is nick jonas diabetes doctor is name ?\"], [\"what is the <unk> <unk> check machine ?\"], [\"what is a disease in which the body does not produce or properly use insulin ?\"], [\"would a girl still go out with a guy despite the fact if he is diabetic ?\"], [\"what is the spanish word for diabetes ?\"], [\"what are some popular diets to lose weight ?\"], [\"what is the <unk> cost for having diabetes ?\"], [\"why do you have to keep the blood glucose level within the normal cycle ?\"], [\"having too little or no insulin available for the amount of food ingested may result in ?\"], [\"will the glycemic index diet help diabetics ?\"], [\"where can one learn more information about the symptoms of high blood sugar ?\"], [\"what are the types of diabetes ?\"], [\"why do you urinate more often with diabetes ?\"], [\"i have very high blood sugar and i do not eat suger at all are ther and herbal <unk> that lower blood sugar ?\"], [\"how can you check diabetes ?\"], [\"is type ii diabetes contagious ?\"], [\"does diabetic <unk> <unk> go away ?\"], [\"does diabetes produce insulin ?\"], [\"can diabetics eat <unk> ?\"], [\"are there any diet recipes for diabetics ?\"], [\"can i get a nick jonas diabetes dog <unk> from england or do i have to order one from the us ?\"], [\"can type two diabetes in the early stages be cured with medications ?\"], [\"what is the fastest way of checking your blood sugar ?\"], [\"whether diabetic patients can eat oats ?\"], [\"what is a normal glucose reading ?\"], [\"what kind of diabetes did laura ingalls wilder have ?\"], [\"where is diabetes very common in the world ?\"], [\"where can one find the <unk> diabetes center ?\"], [\"what is the treatment for <unk> ?\"], [\"the two major problems underlying type two diabetes are ?\"], [\"if glucose is administered intravenously to a patient with insulin dependent diabetes mellitus the patient will probably develop ?\"], [\"what body system does diabetes affect ?\"], [\"what is a cure for diabetes ?\"], [\"how do i check my blood sugar levels ?\"], [\"is there a diet for type ii diabetes that will help be avoid needing insulin ?\"], [\"why insulin is used ?\"], [\"being overweight is a major cause of diabetes ?\"], [\"which body system is functioning <unk> when not enough of the hormone insulin is produced ?\"], [\"how is type two diabetes typically treated ?\"], [\"what are the nutrition <unk> for people suffering from diabetes ?\"], [\"what kind of deals exists for the notebook type computer ?\"], [\"can a diabetic get <unk> ?\"], [\"what does it mean if you have swollen ankles ?\"], [\"are apples good for diabetes ?\"], [\"who get diabetes ?\"], [\"what is the normal blood sugar range of an insulin dependent diabetic ?\"], [\"why do you smell <unk> after you <unk> ?\"], [\"what are risk factors of diabetes ?\"], [\"a safe diabetic meal plan ?\"], [\"how can someone with diabetes cope ?\"], [\"can you loose part of your body by having diabetes ?\"], [\"is following a diabetic diet plan harmful if you do not have diabetes ?\"], [\"does insulin have to be taken daily ?\"], [\"can i test my blood sugar from other areas than my fingers ?\"], [\"could your schnauzer be diabetic ?\"], [\"how do you know when you are diabetic ?\"], [\"oral medications for diabetes ?\"], [\"food to lower high blood <unk> ?\"], [\"does eating dates cause diabetes ?\"], [\"what causes the amount of glucose in foods to increase ?\"], [\"does diabetes cause emotional symptoms ?\"], [\"is diabetes a <unk> ?\"], [\"can children die from diabetes ?\"], [\"how many calories should a five ' eleven two hundred and ten pound man eat with high blood sugar ?\"], [\"how are type one diabetes and type two diabetes similar ?\"], [\"are you able to join the military if you have diabetes ?\"], [\"where is burdock root grown ?\"], [\"should a diabetic eat rice ?\"], [\"what type of disease is diabetes ?\"], [\"what organism is used to produce human insulin ?\"], [\"how many sugar grams should a fourteen year old have daily ?\"], [\"can diabetic patients eat pineapple ?\"], [\"what is the function of <unk> ?\"], [\"what is a description for fasting blood sugar ?\"], [\"what can one do with a medtronic insulin pump ?\"], [\"what can i eat in a diabetic diet ?\"], [\"what is the body is response to insulin ?\"], [\"three ways to decrease the risk of developing type two diabetes ?\"], [\"which disease require patients receive regular insulin injection ?\"], [\"what happens to the body when blood glucose levels rise after a meal ?\"], [\"can you go to the army with diabetes ?\"], [\"who <unk> the insulin pump ?\"], [\"where can one find information on type two diabetes friendly diets ?\"], [\"if you start a continuous <unk> of one hundred and fifty units of insulin in <unk> of normal saline solution if the prescribed dose is eight insulin units per hour what is the flow rate in ml per hour ?\"], [\"are there any side effects from melabic an herb for diabetics ?\"], [\"why are diabetes patients more likely to need kidney <unk> ?\"], [\"is diabetes autosomal ?\"], [\"what is a good example of a diabetic meal ?\"], [\"if i follow a pre diabetes diet will i stay healthy and <unk> clear of diabetes ?\"], [\"what is the diabetes diet ?\"], [\"can fish have diabetes ?\"], [\"is nick jonas worried of having diabetes ?\"], [\"are diabetes meter useful ?\"], [\"which hormone acts antagonistically to insulin produced by the same endocrine organ ?\"], [\"name at least six symptoms of diabetes ?\"], [\"could low high blood sugar be making you very tired immediately after you eat ?\"], [\"what is ac test for diabetes ?\"], [\"where can one find information on a cure for diabetes ?\"], [\"what would happen to bodies with no insulin ?\"], [\"what diabetes can you be born with ?\"], [\"where is the best location for insulin injections ?\"], [\"how do you cure <unk> for a two year old ?\"], [\"what can you do to prevent from diabeties ?\"], [\"does thyroxine increase blood sugar levels ?\"], [\"which term describes a <unk> complication of diabetes mellitus ?\"], [\"what will happen to a person if they stop taking insulin suddenly ?\"], [\"what gland produce insulin ?\"], [\"the glucose molecule has a great deal of energy in its ?\"], [\"what is <unk> mellitus ?\"], [\"i am looking for a simple chart to show normal blood glucose levels . ?\"], [\"is type one diabetes sex-linked or <unk> ?\"], [\"does a diabetic who has had the top part of their foot cut off use a manual <unk> with no handles ?\"], [\"is <unk> safe for diabetes patients ?\"], [\"what is hard for teens to deal with diabetes ?\"], [\"how do people get diabetes ?\"], [\"if a person has blood sugar of six point two after eating is he called a diabetic ?\"], [\"how common is diabetes in america ?\"], [\"can <unk> is <unk> be done on women with diabetes ?\"], [\"who was the first person with diabetes ?\"], [\"why are kids getting type-2 diabetes more often than they used to ?\"], [\"can type one diabetics eat honey ?\"], [\"average a1c level in non diabetic patient ?\"], [\"what is carb counting for diabetes ?\"], [\"how can you tell if you have diabetes ?\"], [\"is there any treatment for cystic fibrosis ?\"], [\"what are uses of insulin ?\"], [\"i think im on the verge of becoming diabetic ?\"], [\"what exactly is pediatric diabetes ?\"], [\"if a patient is blood sugar is to low they may go into a diabetic coma ?\"], [\"define diabetes mellitus ?\"], [\"what refers to an early morning increase in blood glucose without <unk> <unk> hypoglycemia ?\"], [\"how many grams of sugar can a diabetic have in one day ?\"], [\"how can you tell the difference between a drunk and a diabetic ?\"], [\"insulin syringes are calibrated in ?\"], [\"what percentage of diabetics are type one ?\"], [\"the doctor has your weight loss plan ?\"], [\"is gestational diabetes a disease ?\"], [\"what is the importance of foot care and cleaning for people with diabetes ?\"], [\"diabetic meter ?\"], [\"what are the foods that can cause diabetes ?\"], [\"what are some of the main causes of diabetes ?\"], [\"what is the relation between diabetes and blood sugar ?\"], [\"is exercise related to diabetes ?\"], [\"what kind of diet should a software professional have if he is suffering from problems like <unk> and constipation ?\"], [\"how does one get started in <unk> and have to check ones blood sugar and <unk> ?\"], [\"what <unk> for a diabetic patient ?\"], [\"test is performed to confirm a diagnosis of diabetes mellitus and to aid in diagnosing hypoglycemia ?\"], [\"what happens when people are unable to produce enough <unk> ?\"], [\"does <unk> <unk> <unk> have diabetes ?\"], [\"can be treated by injecting genetically engineered insulin ?\"], [\"if neither of your parents have diabetes can you get it ?\"], [\"do bananas increase blood sugar ?\"], [\"how many people have type one diabetes in th uk ?\"], [\"what are the symptoms and causes of diabetes and its treatment ?\"], [\"does diabetes symptoms come on suddenly ?\"], [\"function of a <unk> ?\"], [\"why doctors ask diabetic patients if they have a eye and foot exam ?\"], [\"how would someone get diabetes and what are some things i can do to prevent diabetes ?\"], [\"what famous people have diabetes ?\"], [\"does stress elevated blood sugars in non diabetics ?\"], [\"does sex have an affect on blood sugar in a person with type two diabetes will it cause it to elevate ?\"], [\"diabetes increases your likelihood of suffering from ?\"], [\"what is the prognosis for patients with diabetes insipidus ?\"], [\"what research has been done on <unk> ?\"], [\"how can you get rid of your anger im thirteen and have type one diabetes it always seems to get me down can anybody help ?\"], [\"what does food for diabetics need ?\"], [\"what might be the cause of unexplained weight gain and fatigue ?\"], [\"how is human insulin manufactured ?\"], [\"how would you know if you had diabetes ?\"], [\"how are the lives of a person with type one diabetes the same ?\"], [\"insulin can be orally administered to diabetic people or not ?\"], [\"will the diagnosis of diabetes change the way i eat ?\"], [\"diabetic snack ideas ?\"], [\"how low can blood sugar go before is causes lost consciousness ?\"], [\"what are the symptoms of diabetes person ?\"], [\"a feature of ketosis is that it ?\"], [\"difference between shots and pills for diabetes ?\"], [\"how diabetes affects the body systems ?\"], [\"can people not be at risk of diabetes ?\"], [\"what do you do if your blood sugar is five hundred and sixteen ?\"], [\"would you gain weight if you had diabetes ?\"], [\"what fruits and vegetables are <unk> foods on the diabetes food list and are the portion size restrictions the same ?\"], [\"where is the donor liver <unk> in a <unk> transplantation ?\"], [\"is type two diabetic preventable ?\"], [\"what does insulin do to blood glucose ?\"], [\"diabetes type one ?\"], [\"what is a good tasting diabetic drink ?\"], [\"are low hdl levels a risk for type two diabetes ?\"], [\"what is a good wine for a diabetic ?\"], [\"is diabetes mellitus controllable ?\"], [\"how can type one diabetes be avoided ?\"], [\"is papaya good fro diabetic patient ?\"], [\"can diabetics drink tequila ?\"], [\"what happens when a diabetic takes viagra when not needed ?\"], [\"best lager to drink if your a diabetic ?\"], [\"what class of drugs stimulates insulin release in the body and is used in type ii diabetes ?\"], [\"which is not a sign of diabetes ?\"], [\"is diabetes classed as a disability ?\"], [\"where can you get the best quality diabetes supplies ?\"], [\"what should you do if you think you have diabetes ?\"], [\"where can i find diabetic diet charts ?\"], [\"where can i find more information on free diabetic diet ?\"], [\"what is the normal <unk> blood level ?\"], [\"what <unk> techniques that may be used in the treatment cure or prevention of diabetes ?\"], [\"why can insulin not be given orally ?\"], [\"why is massage not for diabetics ?\"], [\"does type one diabetes need insulin ?\"], [\"what are uncommon symptoms of diabetes ?\"], [\"is drinking lots of water a sign of diabetes ?\"], [\"<unk> diabetes patients protect society . ?\"], [\"why are you always thirsty and how can you stop it ?\"], [\"how vitamin or fiber deficiency <unk> to the onset diabetes ?\"], [\"how can you lower your blood sugar ?\"], [\"diabetes symptoms and signs ?\"], [\"is weight loss a sign of type two diabetes ?\"], [\"what is the hormone involved in type one diabetes ?\"], [\"how common is gestational diabetes ?\"], [\"what is a normal blood sugar level ?\"], [\"is juvenile diabetes o genetic disorder ?\"], [\"how much does it cost to purchase from liberty diabetic supplies ?\"], [\"if your grandma had diabetes and it runs in your dads side of the family will you get it ?\"], [\"what treatments or medications are given to patients with type two diabetes ?\"], [\"are there stages of diabetes ?\"], [\"can it lower blood sugar levels if you soak <unk> in a glass of water <unk> and drink the water on an empty stomach the next morning ?\"], [\"what are the symptoms of diabities ?\"], [\"what causes a diabetic to have frequent urination ?\"], [\"type two diabetes is known as non insulin dependent diabetes ?\"], [\"what are some ways of eating with diabetes ?\"], [\"what is hypoglycemic coma ?\"], [\"are there any vitamins specifically for diabetics ?\"], [\"what happens to an athletes blood sugar level ?\"], [\"what clinical findings occurs first in metabolic acidosis of a patient with type one diabetes ?\"], [\"who was the scientist who made the diabetes shot ?\"], [\"are jelly beans suitable for people with diabetes ?\"], [\"can you get rid of diabetes ?\"], [\"is one hundred and eleven a high blood sugar ?\"], [\"is it bad for diabetes to eat rice ?\"], [\"what are normal levels for triglyceride ?\"], [\"where can i find information on a diabetic food plan ?\"], [\"if a girl weighs one hundred and thirty pound and is a ten year old <unk> grader but her family has a history of over weight family member you are really scared you do not want to be diabetic but i cant <unk> <unk> ?\"], [\"why can hypoglycemia cause lethargy ?\"], [\"how is insulin resistance prevented ?\"], [\"what are diabetes insipidus and diabetes mellitus ?\"], [\"how do people put up with diabetes ?\"], [\"what is two types of diabetes ?\"], [\"what research has been done on <unk> ?\"], [\"i am diabetic can i use <unk> ?\"], [\"another name for the sugar dissolved in human blood is ?\"], [\"is it difficult for diabetics to lose weight ?\"], [\"can <unk> <unk> safe as an <unk> agent on diabetics ?\"], [\"what kind of food do diabetic people eat most of the time ?\"], [\"which condition is an acute and <unk> complication of diabetes mellitus ?\"], [\"why do diabetics need candy ?\"], [\"<unk> <unk> s comments on diabetes ?\"], [\"is beetroot good for diabetics ?\"], [\"how is diabetes controlled and why can not it be cured ?\"], [\"insulin is released into the blood when ?\"], [\"does drinking alcohol lower your blood sugar ?\"], [\"is <unk> a form of cancer ?\"], [\"what does insulin have to do with the disease diabetes ?\"], [\"where can you buy nick jonas ' diabetes dog <unk> ?\"], [\"where can i go to get information for stomach bypass diabetes ?\"], [\"can type two diabetes be inherited ?\"], [\"how does diabetes feel ?\"], [\"can a diabetic have children ?\"], [\"what type of food is good for people with diabetes to eat ?\"], [\"what do your sugar levels have to be for diabetes ?\"], [\"what is the normal rate of blood sugar level for age fifty ?\"], [\"high level of a fatty substance in the blood ?\"], [\"what classification of acidosis is diabetic ketoacidosis ?\"], [\"can diabetes mellitus be cured ?\"], [\"is one hundred and forty bad blood sugar reading in morning ?\"], [\"what is the treatment of both diabetes ?\"], [\"if you have children with nick jonas would they have diabetes ?\"], [\"can you play football if you have type one diabetes ?\"], [\"diabetic supplies online ?\"], [\"in what year was insulin invented ?\"], [\"which gland is associated with <unk> ?\"], [\"what produces insulin in the body ?\"], [\"does diabetes dehydrate ?\"], [\"what is a disease in which blood glucose levels are above normal ?\"], [\"what are the symptoms of diabetes in a dog ?\"], [\"where can i find more information on diabetes diet for seniors ?\"], [\"who did nick jonas give his diabetes necklace to ?\"], [\"where can i learn more about the american diabetes ?\"], [\"what are the normal glucose levels in a non diabetic person ?\"], [\"what to eat if your diabetic ?\"], [\"can diabetic people <unk> ?\"], [\"when should insulin be taken ?\"], [\"when the blood glucose of a patient is high is it dangerous for doctors to perform surgery - on the leg for example ?\"], [\"what does insulin do to the blood sugar levels ?\"], [\"how is diabetes related to teenagers ?\"], [\"where can i get the foods to follow a diabetic plan ?\"], [\"what will be the right consumption of every kind of processed foods ?\"], [\"how is diabetic ketoacidosis treated ?\"], [\"is there any cure for type one diabetes ?\"], [\"what are the synonyms and <unk> of adherence ?\"], [\"what causes blood sugar to be too low ?\"], [\"what molecule is produced in the liver during <unk> or type one diabetes ?\"], [\"how does bacteria help with diabetes ?\"], [\"how many people per year are diagnosed with type ii diabetes ?\"], [\"will drinking water affect your diabetes test ?\"], [\"you are not eating but drinking a lot of water could you have diabetes ?\"], [\"what do diabetics use to check blood sugar ?\"], [\"which kill you faster diabetes or lung cancer ?\"], [\"is skin <unk> and dry mucous membranes associated with diabetes ?\"], [\"do diabetics get their belly <unk> pierced ?\"], [\"is three hundred and seven considered a normal rate for your blood sugar ?\"], [\"is <unk> ka phool a treatment of diabetes ?\"], [\"<unk> is your body is ability to detect something what ?\"], [\"do kids get diabetes ?\"], [\"do you know anything about diabetes ?\"], [\"can cinnamon cure diabetes ?\"], [\"what body organ is not working correctly with type one diabetes ?\"], [\"where can i go online to find some information on diabetics recipes ?\"], [\"what are some diabetes complications ?\"], [\"is massage contraindicated after insulin injection ?\"], [\"what is insulin made by ?\"], [\"what is the value of renal function tests on <unk> and diabetic patients ?\"], [\"what is hypoglcemia ?\"], [\"alan rickman is diabetic ?\"], [\"can you get a food list for diabetics ?\"], [\"can i check my blood sugar for diabetes without poking my finger ?\"], [\"what are the symptoms of having a hypo when you have got type one diabetes ?\"], [\"what are the three p is of diabetes ?\"], [\"how could the ingredients in an ice <unk> be changed to make it more suitable for diabetics ?\"], [\"is eating pizza ok for a diabetic ?\"], [\"how can you get gangrene ?\"], [\"will glucose levels rise during infection ?\"], [\"what is a good diet and exercise plan to avoid getting diabetes ?\"], [\"tips on following a diabetic cookie recipe ?\"], [\"diabetes type one and type two ?\"], [\"why can not diabetics get pregnant ?\"], [\"will <unk> is syndrome effect diabetes ?\"], [\"how long can live without insulin ?\"], [\"can a insulin dependent diabetic become a merchant marine ?\"], [\"my blood sugar was over four hundred last week ?\"], [\"are there any good diet plans for patients that have been <unk> with diabetis ?\"], [\"finding free diabetic cookbooks ?\"], [\"is one hundred and sixty two a high blood sugar reading after eating two hours ago ?\"], [\"how do <unk> <unk> and <unk> differ ?\"], [\"insulin <unk> to cells and the mechanism involved in triggering the cells to take in glucose ?\"], [\"is this safe for diabetic to use ?\"], [\"what are good foods for those with diabetes ?\"], [\"can you survive without knowing you have diabetes ?\"], [\"do i need a prescription to buy a blood sugar tester ?\"], [\"does metformin help with weight loss ?\"], [\"can diabetic patient drink sugarcane juice ?\"], [\"what is a good carbohydrate <unk> for a person with type two diabetes ?\"], [\"is carbohydrate allowed for a diabetic patient ?\"], [\"what organ is used to produce human insulin ?\"], [\"does <unk> <unk> have diabetes ?\"], [\"what test is used to diagnosis of diabetes mellitus ?\"], [\"what does it mean to have high a1c ?\"], [\"what would happen if you give insulin to a diabetic rat ?\"], [\"where was insulin invented ?\"], [\"are most diabetics skinny ?\"], [\"what are some quick and easy diabetes recipes ?\"], [\"how much liquor does it take to kill a diabetic ?\"], [\"can a diabetic type two eat honey ?\"], [\"when is regular insulin used ?\"], [\"when was insulin first used ?\"], [\"is diabetes found more in one ethnicity than another ?\"], [\"what areas of the body are affected by diabetic neuropathy ?\"], [\"does soda cause diabetes ?\"], [\"does low blood sugar mean you have diabetes ?\"], [\"how long will you with diabetes ?\"], [\"does the <unk> vaccine affect blood sugars of diabetics ?\"], [\"registered nurse needs education on diabetes ?\"], [\"diabetes meters ?\"], [\"i there a toothpaste for diabetics ?\"], [\"what is the solution for hypoglycemia ?\"], [\"what is a noninfectious disease in which the body secretes too little insulin ?\"], [\"explain the effect on blood sugar levels if insulin receptors stopped working ?\"], [\"are you allow to eat or drink one sugar if you have diabetes ?\"], [\"if blood sugar falls twenty six mg what happened to patient ?\"], [\"where can i find diabetic diet plans ?\"], [\"my blood sugar is one hundred and forty one how do i get it down ?\"], [\"can diabetes cause death during sleep ?\"], [\"is carrot juice good for diabetic patients ?\"], [\"what condition is insulin resistance of fat cells type one diabetes or type two diabetes ?\"], [\"does <unk> have diabetes ?\"], [\"what do you do if the insulin dependent diabetic person complain of pain and become pale and sweaty ?\"], [\"why do people focus more on type two diabetes ?\"], [\"guinea pig weight loss ?\"], [\"why is your blood sugar high after fasting ?\"], [\"<unk> and diabetes ?\"], [\"which diabetic test strips really work ?\"], [\"abbreviation for three <unk> a day ?\"], [\"what type of natural sugar will not spike insulin levels ?\"], [\"could diabetes cause your hands to lock up ?\"], [\"do you have pre-diabetes fasting glucose tests range from ninety eight to one hundred and fourteen ?\"], [\"in ohio how would <unk> work if the father and mother are not married but the mother is chemically dependent and the father is the primary care <unk> of their four year old son with type one diabetes ?\"], [\"what are the major manifestations of diabetes mellitus ?\"], [\"what is a diabetic safe diet i can eat ?\"], [\"what makes <unk> insulin and glucagon ?\"], [\"why is blood glucose lost in diabetes mellitus ?\"], [\"what is the function of <unk> insulin ?\"], [\"what can i do to keep my diabetes level down ?\"], [\"can non-insulin dependent diabetes mellitus cause chronic kidney failure ?\"], [\"what is the <unk> for a sugar ?\"], [\"does glycogenesis lower sugar in blood ?\"], [\"does <unk> chi cure diabetes ?\"], [\"can a person that has diabetes eat jackfruit ?\"], [\"how can we control the levels of high sugar in a diabetic person or patient ?\"], [\"what do you do if you have diabetes mellitus ?\"], [\"what is is the treatment for type one diabetes ?\"], [\"what are the most popular diabetes diet meal plans ?\"], [\"do nick jonas have diabete ?\"], [\"is yam good for diabetes ?\"], [\"who from the jonas brother has type one diabetes ?\"], [\"how do you determine if one is diabetic ?\"], [\"how does diabetes effect the immune system ?\"], [\"why would there be a high glucose content after eating ?\"], [\"could you be pregnant if you still have what seems like a cycle minus the usual clotting and you have had a negative <unk> and you have type two diabetes ?\"], [\"does <unk> food cause diabetes ?\"], [\"who should be screened for diabetes ?\"], [\"what are the chances of gettin diabetes if your dad had diabetes ?\"], [\"what are some safe dessert alternatives when following a diabetic diet ?\"], [\"why you should not ignore the signs of diabetes ?\"], [\"how is diabetes spread from person to person ?\"], [\"is there any new stem cell technology in the field of diabetes ?\"], [\"im fifteen what should you do if you suspect diabetes ?\"], [\"is it ok to eat ham when you are a diabetic ?\"], [\"what is the main reason for high glucose levels ?\"], [\"<unk> has recently been diagnosed with type two diabetes . which kind of diet is best for her ?\"], [\"what do you give a person who may have type one diabetes and may be feeling light headed ?\"], [\"what is the best cure for diabetes ?\"], [\"how long does nph insulin last ?\"], [\"is over the counter insulin not as good as prescription insulin ?\"], [\"is cookie monster diabetic ?\"], [\"what are the systems for diabetes ?\"], [\"does diabetes show in drug tests ?\"], [\"what can a diabetic have instead of rice or potatoes ?\"], [\"can too much sugar give you diabetes ?\"], [\"what is the study of diabetes mellitus called ?\"], [\"what system is the diabetes related to ?\"], [\"what is <unk> used for ?\"], [\"does exercise help lowering sugar levels in type one diabetes ?\"], [\"what happens when a diabetic takes a <unk> ?\"], [\"what is type 1diabetes juvenile diabetes ?\"], [\"can type one diabetes ever go away ?\"], [\"which famous <unk> lost her legs in a <unk> with diabetes ?\"], [\"what is a good diet to prevent type two diabetes ?\"], [\"when is insulin pump given ?\"], [\"how many people in the urban world have diabetes ?\"], [\"can you have high blood sugar but not have diabetes ?\"], [\"where can i find information about a pre diabetes diet ?\"], [\"when injected insulin is best absorbed via which route ?\"], [\"explain the relationship between type two diabetes and diet ?\"], [\"can people with type one diabetes use <unk> ?\"], [\"what are the symptoms of type one and type two diabetes ?\"], [\"what are some diabetes super foods ?\"], [\"how recombinant insulin is used to reduce aggregation and inactivation ?\"], [\"is there an association or website where i could get free diabetic recipes ?\"], [\"malfunctioning of which organ of body causes diabetes ?\"], [\"why is diabetes is a deficiency disease ?\"], [\"what to eat for pre diabetes ?\"], [\"explain how local <unk> can influence the local pattern of <unk> ?\"], [\"what are the causes of diabetes mellitus ?\"], [\"where can i find a diabetic diet guideline online ?\"], [\"what type of diabetes is known as the water diabetes ?\"], [\"can diabetics eat <unk> rice ?\"], [\"what are causes of frequent urination in men ?\"], [\"what do you call the presence of glucose in the urine ?\"], [\"does caffeine ingestion affect blood test levels of serum glucose or ldl ?\"], [\"what herbs are good for diabetes ?\"], [\"what are the consequences or effects of diabetes ?\"], [\"how are the lives of diabetic and non diabetic the same ?\"], [\"does nick jonas <unk> off his dog <unk> when he sleeps ?\"], [\"why diabete insulin can not made a pill same as diabete ?\"], [\"what is acceptable blood glucose level for a diabetic ?\"], [\"is diabetes found only in the us ?\"], [\"is frequent urination dangerous ?\"], [\"what are some ways to manage diabetes ?\"], [\"can a diabetic eat cake ?\"], [\"what are the normal ranges of blood glucose for <unk> and fasting samples ?\"], [\"what organs do type one diabetes affect ?\"], [\"what dessert recipes are safe for diabetics ?\"], [\"are peanuts can cure diabetes ?\"], [\"what are the symptoms and causes of diabetes ?\"], [\"what process results in genetically different bacteria ?\"], [\"how did you it you are diabetes ?\"], [\"what fiber is recommended for type two diabetes ?\"], [\"what does a glucose meter measure ?\"], [\"if you were a thirteen year old girl and had diabetes would you try to kill yourself ?\"], [\"how is diabetic ketoacidosis diagnosed ?\"], [\"where can i read reviews on blood sugar testing products ?\"], [\"is honey <unk> melon and cantaloupe bad for diabetes ?\"], [\"why sugar level becomes high in a <unk> patient ?\"], [\"what causes diabetes what is diabetes and what can diabetes cause ?\"], [\"what foods are not allowed on a diabetic food list ?\"], [\"do <unk> help regulate the responses of hormones ?\"], [\"is ensure safe for diabetics ?\"], [\"are there any <unk> treatments for diabetes ?\"], [\"what happens when a diabetic person does not inject insulin ?\"], [\"what are the normal blood sugar ranges for a diabetic before and after meals ?\"], [\"how can you die from diabetes ?\"], [\"a diabetic is diet in a nutshell ?\"], [\"what causes the lack of blood flow to the hands ?\"], [\"how is diabetes mellitus caused ?\"], [\"how do know if a child has diabetes ?\"], [\"why do you get <unk> were you inject your insulin ?\"], [\"what insurance companies has started first insurance <unk> for diabetic patients ?\"], [\"what is type one type two or type three diabetes ?\"], [\"what is the nursing intervention of diabetes ?\"], [\"just because you have diabetes does it mean you automatically lose your toes ?\"], [\"what are good foods for diabetics ?\"], [\"what kind of diabetes did jackie robinson have ?\"], [\"has diabetes all ways been diabetes ?\"], [\"is fruits containing sugar bad for diabetic patients ?\"], [\"is diabetes an allergy ?\"], [\"what is diabetic blood sugar level ?\"], [\"when a person is a diabetic do they have to have a special diet to control there diabetes ?\"], [\"what is a diabetic emergency ?\"], [\"what happens when someone has high blood sugar ?\"], [\"where are the <unk> that manufacture proteins for transport out of the cell located ?\"], [\"what condition affects insulin levels ?\"], [\"why insulin can not be taken orally ?\"], [\"how do you cater for special dietary such as coeliac and diabetes ?\"], [\"insulin dependent diabetes mellitus is caused by ?\"], [\"do bananas raise blood sugar level ?\"], [\"can a insulin resistant women conceive ?\"], [\"do you have to have all the symptoms to be diabetic ?\"], [\"are oranges good for diabetic people ?\"], [\"is twelve grams of sugar per <unk> of milk harmful for diabetics ?\"], [\"can diabetics who have herpes live ?\"], [\"why do diabetics develop itching arms ?\"], [\"what foods should you avoid if you are diabetic ?\"], [\"are chips bad for a diabetic ?\"], [\"what is the target organ for insulin ?\"], [\"how will a person know if they have low or high blood sugar ?\"], [\"what are the symptoms of being a diabetic ?\"], [\"how does diabetes affect people ?\"], [\"what are the common diabetes symptoms ?\"], [\"what two factors mainly influence <unk> <unk> ?\"], [\"what is the pathogen that causes diabetes ?\"], [\"what is the full form of <unk> ?\"], [\"what two actions can help reduce the possibility of developing diabetes ?\"], [\"which human organ produces insulin ?\"], [\"what fruit is good with diabetes ?\"], [\"can a diabetic be a police officer ?\"], [\"does <unk> lower blood sugars ?\"], [\"can <unk> cause diabetes ?\"], [\"what research has been done on <unk> seaweed ?\"], [\"how many carbs in <unk> ?\"], [\"does <unk> affect diabetes ?\"], [\"what is the association between type two diabetes and body fat ?\"], [\"is type diabetes when you cant have sugar ?\"], [\"can a <unk> have diabetes ?\"], [\"how do you explain to a patient about diabetes ?\"], [\"is there cure for <unk> ?\"], [\"what happens to a person with diabetes mellitus ?\"], [\"are there sample diabetic diets online ?\"], [\"can someone please help me find a healthy diabetes plan ?\"], [\"what are types of synthetic insulins ?\"], [\"what gene and chromosome causes diabetes ?\"], [\"how do you get type two diabetes ?\"], [\"what organ makes insulin ?\"], [\"can people with type two diabetes take insulin or is this only for type one diabetes ?\"], [\"where can i find a diet plan for a person who has type two diabetes ?\"], [\"are watermelon dried skin good to treat diabetes two ?\"], [\"can uncontrolled diabetes kill you ?\"], [\"can diabetes insipidus be as dangerous as diabetes mellitus ?\"], [\"what are the latest nutrition guides for diabetics ?\"], [\"is type ii diabetes known as non-insulin dependent diabetes ?\"], [\"will drinking vinegar prevent diabetes ?\"], [\"is there a diabetic meal plan that is easy to use when you are away from home ?\"], [\"what is the holistic approach to diabetes treatment ?\"], [\"can insulin dependent diabetes mellitus cause chronic renal failure ?\"], [\"what gene is affected by type one diabetes ?\"], [\"what is the <unk> of insulin ?\"], [\"is coca cola good to drink for those who are diabetics ?\"], [\"what are the two main body systems are affected by diabetes ?\"], [\"how does diabetes effect pregnancy ?\"], [\"how many cup of rice a day you can eat if you are a diabetic ?\"], [\"what type of hereditary condition is <unk> <unk> ?\"], [\"what is the normal <unk> of glucose in 100ml of blood ?\"], [\"how much metaformin do you take ?\"], [\"safe for people with problems . ?\"], [\"difference between insulin dependent diabetes and non insulin independent diabetes ?\"], [\"what is the normal blood glucose level in human ?\"], [\"what does metformin treat ?\"], [\"how is it living with diabetes ?\"], [\"what is a type one and two diabetes ?\"], [\"what is the normal blood sugar level reading ?\"], [\"what does insulin do for the body ?\"], [\"what is diabetes <unk> ?\"], [\"what is a glucometer ?\"], [\"what effect would elevated cortisol levels have on blood glucose levels ?\"], [\"what are the best fruits to bring down blood sugar levels ?\"], [\"what is a life long condition ?\"], [\"is a one hundred and nine fasting blood sugar reading mean you have diabetes ?\"], [\"is type two diabetes also known as insulin <unk> diabetes ?\"], [\"how would you modify your diet if you had diabetes ?\"], [\"where can i find meal plans for diabetics ?\"], [\"what organ is the center for the storage and production of glucose ?\"], [\"why do diabetic people have to have a injection ?\"], [\"how did nick jonas find out he had diabetes ?\"], [\"what glands are associated with diabetes ?\"], [\"do is and do nots to prevent spread of communicable diseases ?\"], [\"how do you lower high blood sugar ?\"], [\"can a thin person be diabetic ?\"]], \"hovertemplate\": \"pc_1=%{x}<br>pc_2=%{y}<br>pc_3=%{z}<br>question=%{customdata[0]}<br>color=%{marker.color}<extra></extra>\", \"legendgroup\": \"\", \"marker\": {\"color\": [0, 1, 2, 6, 3, -1, 4, 5, 1, 0, -1, 6, -1, 5, 5, 18, 5, 5, 0, -1, -1, 2, 6, 0, 3, 8, 5, 21, 8, 3, 22, 9, 7, 20, 3, 8, 6, -1, -1, 6, 19, 2, 5, 0, -1, 20, 8, 14, 0, 3, 4, 6, 3, 10, 8, 18, -1, 18, 5, 5, 8, -1, 1, 10, 9, 8, 6, 3, 8, 16, 3, 0, 7, 16, 9, 5, 9, 21, 5, 3, 5, 0, 5, 6, 0, 0, -1, 8, 6, 2, -1, 8, 8, -1, 5, 6, 5, -1, 8, 8, 8, 9, 3, 18, 5, 8, 12, -1, 3, 3, 8, 3, -1, 7, 3, -1, 8, -1, 8, 5, 0, 6, 0, 0, 0, -1, 10, 6, 8, 20, 5, 8, 6, 8, 3, 8, -1, 3, 8, 8, -1, 8, -1, 6, 9, 23, 21, 3, 6, 9, 6, -1, -1, 8, -1, -1, 2, -1, 5, -1, 8, 8, 9, 11, 13, -1, 24, 0, 9, 6, 13, 5, -1, -1, 9, 5, 4, 0, 8, 2, 3, 8, 13, 0, 19, 6, 3, -1, 1, 1, 0, 8, 0, -1, 5, 6, -1, 0, 13, 8, 15, 3, 3, -1, 23, 5, 6, 5, 1, 6, 4, 4, 3, 9, -1, 3, 8, 3, 8, 3, -1, 3, 5, 6, 5, 10, 6, -1, -1, 8, 5, 0, -1, 3, -1, -1, -1, 5, 1, 8, 5, -1, 3, -1, 0, 5, 0, 6, 1, 3, 0, 0, 5, 6, 5, 8, -1, 7, 0, 8, 8, 7, 7, 5, 1, -1, -1, 5, -1, 18, 8, 9, 5, 8, 22, 11, 0, 0, -1, 3, 9, 2, 0, 8, 6, 20, 21, 6, 6, 2, -1, 8, 1, 8, 3, 5, 6, 7, 5, 18, 19, -1, 5, 6, 1, 3, 5, 13, 8, 3, 12, 7, 8, 5, 3, -1, -1, -1, 5, 8, -1, 0, 1, 3, 2, -1, -1, 5, 8, 2, 6, 8, 2, 7, 3, 0, 0, -1, 6, 6, 8, 5, 4, 8, 5, -1, 6, 19, 8, 8, 5, -1, 2, 5, -1, 5, -1, 3, 1, 0, 3, -1, 9, 12, 20, 6, 8, 6, 8, 0, 8, 10, 0, 8, 8, 5, 0, 6, 12, 0, 3, 8, 8, 6, 0, 5, -1, 5, 23, 0, 4, 9, 3, 9, 5, 21, 0, 3, -1, 19, 3, 6, 8, 6, 13, 24, 0, 0, 2, 8, 5, 2, 23, 6, -1, 6, 10, 20, 5, 5, -1, 8, 14, -1, 8, 11, 8, -1, 7, 0, 0, 8, 3, 5, 11, 8, 3, 8, 6, 0, 11, 21, 3, 5, 8, 1, 8, 5, 3, -1, 2, 8, 15, 5, -1, -1, 5, 3, 22, 3, 6, -1, 23, 13, 8, 3, 18, 8, 3, 8, -1, 4, 9, -1, 6, -1, 24, 5, 8, 3, 13, -1, 0, 14, 18, 0, 6, 15, 3, -1, 6, 6, 3, 0, 5, 5, -1, 23, 0, 3, 3, 8, -1, 6, 0, 18, -1, 6, 8, 10, 1, 1, 2, -1, 0, 8, -1, 5, 3, 6, -1, 5, 7, 8, 8, 13, 0, -1, -1, 5, 7, 5, 0, 6, 8, 8, 8, 8, 2, 3, 5, 3, 6, 5, 0, 13, 3, 11, 8, 2, 13, 10, 11, 6, 2, 0, 0, 5, 3, 3, 11, 3, 3, 3, 0, 5, 8, 20, -1, 4, 1, 15, 9, -1, 11, 0, 7, 7, 8, 0, 0, 5, 5, 0, 19, 5, 2, 16, 8, -1, 3, 5, 6, 6, 23, 3, 16, 6, 6, 2, 7, 8, -1, 3, 8, 12, 6, 0, 13, 0, -1, -1, 15, 8, 17, 3, 16, 7, -1, 0, 8, -1, 0, -1, 5, 6, -1, 5, 8, 7, 1, 5, 15, -1, -1, 8, 5, 6, 3, 5, 19, 24, 19, 6, 8, 5, 0, -1, 3, 16, 4, 8, 5, 3, 5, 7, 20, -1, 0, -1, 0, 5, 19, 8, 3, 17, 9, 8, 7, 8, -1, 0, 11, -1, 6, 3, 5, 7, 21, 8, 8, -1, 6, 8, 17, -1, -1, 9, 8, 1, 5, 6, 8, 3, 1, 23, -1, -1, 18, 20, -1, -1, 6, 5, 0, 17, 0, 6, 1, 5, -1, -1, 5, 8, 6, 0, 2, 17, 5, 8, 7, -1, 12, 11, 5, -1, 3, 8, -1, 9, 11, 5, 5, -1, 6, 7, 9, 5, 7, 7, 5, 8, 0, 6, 0, 15, -1, 6, 5, -1, 1, 20, 0, 17, -1, 0, 8, 5, 3, 0, 8, 0, 5, 15, 8, 5, 6, 5, 18, 13, 3, 14, 0, 3, 0, 5, 0, 1, -1, 6, 3, 8, 5, 0, 17, 5, 3, 8, 4, 0, 5, 0, 8, 3, 5, -1, -1, 0, 6, 8, 8, 5, -1, 3, 0, 2, -1, 2, 24, 8, -1, 8, 6, 22, -1, 8, 0, -1, 3, 12, 6, 5, 15, 8, 6, 12, 6, 0, 3, 9, 1, 6, 5, 7, -1, 6, 7, 16, 6, 10, 6, -1, 8, 0, -1, 7, -1, -1, 8, 10, 17, 5, 5, -1, 21, 3, 3, 6, -1, 6, 23, 12, 3, 10, 7, -1, 6, -1, 0, 8, 7, 7, 5, 3, 10, -1, -1, 1, 9, 8, 7, 3, 6, 1, -1, 11, 3, 13, 8, 0, 3, 0, 6, 0, 8, 0, 18, 11, 6, 4, 0, 8, 0, 11, 6, 3, -1, 3, 6, 1, 3, 11, 8, 11, 8, 11, -1, 22, -1, 5, -1, 8, 6, 8, -1, 5, 9, 3, 14, 16, -1, 3, 22, -1, 8, -1, 3, 3, -1, 3, -1, 0, 5, 8, 7, 0, 8, -1, 10, 6, 5, 0, 0, -1, 8, 8, 1, 8, 0, -1, -1, 14, 5, 5, 19, 8, 3, 5, 6, 3, -1, 5, 8, 0, 0, 5, 0, 3, 8, 3, 0, 4, 8, 6, 7, 8, 11, 8, 3, 10, 8, -1, 8, 8, 5, 6, 0, 8, 4, 8, 7, 0, 8, 8, 8, -1, 0, 11, 0, 3, 6, 8, -1, -1, 6, 3, -1, 0, -1, 2, 8, 8, 20, -1, -1, 8, 9, 0, -1, -1, 7, -1, 11, 8, 3, -1, 6, 6, 3, 8, 13, 1, 17, 8, 0, 1, 2, 0, 11, 3, 0, 0, 13, 3, 3, 9, 3, 6, 11, 3, 0, 11, 16, 7, 0, -1, 3, 9, 8, 3, 6, -1, 12, 8, 6, 3, -1, 11, 6, -1, 0, -1, -1, 5, 16, 7, 15, 0, 0, 8, 8, 6, -1, 0, 5, 9, 5, -1, 0, 7, 0, -1, 5, 8, 5, -1, 7, 8, -1, 8, 7, 3, 23, 2, -1, 2, 0, 6, 0, 3, 9, 14, 23, 6, 12, -1, 6, 6, 5, 5, 6, -1, 5, 6, 8, -1, 18, -1, 0, 8, 7, -1, 5, 1, 8, 8, -1, 1, 8, -1, 3, -1, 8, -1, 1, -1, 3, 6, 6, 6, 17, 2, -1, 5, 0, 6, -1, 2, 5, 6, 8, -1, 0, 9, 13, 8, 6, 12, -1, -1, -1, -1, 8, 0, 8, 5, 6, -1, 7, -1, -1, 3, 3, 19, 2, -1, 14, 12, -1, 10, 0, 17, 3, 8, 8, 6, 7, 3, 6, 14, 3, 8, 6, 13, 3, 8, -1, 0, -1, 1, 5, -1, 3, 3, 5, -1, 7, 0, 20, 14, 3, 3, 6, 0, 8, 0, 0, 16, -1, 8, 0, 3, 11, 3, -1, 18, 8, 3, 18, -1, 8, 6, -1, 8, 13, 9, -1, 20, -1, -1, 3, 23, 3, -1, 5, -1, 11, 0, 3, 0, 5, 0, 17, 8, 5, -1, -1, 1, 3, 3, -1, 5, -1, 14, 8, -1, 20, -1, 3, 2, 6, 5, 11, 8, 7, 8, 2, 8, 6, 0, 5, 5, -1, 8, 16, 8, 20, -1, -1, 13, 1, 8, 12, 14, 6, 5, -1, 3, 8, -1, -1, -1, 8, 5, -1, -1, 16, 0, 24, 8, 8, -1, -1, 3, 8, 5, -1, 3, 5, 6, 3, 6, -1, 9, 1, 6, 3, 0, 3, 11, -1, 0, 6, 6, 8, -1, 8, 8, 3, 2, 6, -1, 5, -1, 5, 6, 6, 5, -1, 0, 6, 3, 8, 5, 0, 6, 1, -1, 3, -1, -1, 11, 0, 5, 5, 15, 8, 6, -1, 23, 13, 2, 3, -1, 6, 0, 5, -1, 5, -1, 0, 2, -1, 8, 3, 6, 6, 7, 0, -1, 3, 5, 20, 0, 8, 6, 6, 21, -1, -1, 8, 7, 0, 3, 0, 13, 6, 3, 6, 3, -1, 16, 5, 1, -1, 8, 7, 8, 19, 0, 7, -1, 6, 9, 5, 22, 13, 8, 19, 8, -1, 5, 0, 2, 20, 3, 6, -1, 5, 15, -1, 6, 0, 3, 3, 3, 3, -1, 7, 3, 11, 9, -1, 5, 11, 7, 6, 0, 8, 16, 3, 8, 5, 2, -1, 14, 8, 11, -1, -1, 8, 7, 8, 5, 8, 8, 3, 5, 0, -1, 7, 8, 21, -1, 3, 15, 12, 3, 0, 21, -1, -1, -1, 10, 3, 11, 10, 6, -1, -1, -1, 0, 20, 0, 3, -1, 5, 23, -1, 0, 0, 6, 23, 5, 0, 6, 8, 3, -1, 6, 16, 0, 10, 13, 3, -1, -1, 8, 4, 15, 6, 16, 3, 5, 3, -1, 2, 1, -1, -1, 0, 3, -1, 3, 0, -1, 0, 11, 3, 5, 1, -1, 6, 3, 0, 6, 5, 8, 8, 9, 9, 17, 2, 19, 6, 5, 10, 2, 2, 8, -1, 8, 9, 8, -1, 6, 7, -1, 5, 0, 2, -1, 6, 0, 0, 8, 19, 7, 3, 3, 6, 6, -1, -1, -1, -1, 13, 5, 10, 8, -1, 7, 5, 5, -1, -1, 0, 2, 11, 3, 8, 5, 6, -1, 3, -1, -1, 0, 3, 13, 6, 2, -1, -1, 9, 0, 3, 2, 6, 9, 0, 2, 6, 5, 11, 6, 8, 3, 8, 8, 5, -1, 14, -1, 5, 3, 6, 0, 2, 0, 8, 8, 3, 3, 3, 7, 8, 2, 0, 6, 6, 3, -1, 3, 12, 8, 8, 1, 5, -1, 6, 6, 14, -1, 7, -1, -1, 3, 0, 0, 6, 20, 3, 24, 8, 5, 20, -1, 6, 8, 8, 6, 3, 8, 6, 21, 7, 24, 13, -1, 5, 1, 5, 8, 6, -1, 8, 3, 8, 5, 0, 0, -1, 6, 5, 3, 6, 5, 5, 5, 5, 5, 0, -1, 5, 6, 8, 3, 8, 8, 24, -1, 5, 5, 5, 11, 8, 11, 5, -1, 24, 3, 5, 3, 6, 0, 5, -1, 0, 9, 8, 5, 18, 6, 8, -1, 7, 5, 3, -1, 6, 6, 4, 8, -1, 5, -1, 5, -1, 20, 5, 11, 8, 5, 7, 0, -1, -1, 0, 6, 24, 3, 19, -1, 3, -1, 3, 0, 6, 6, 3, 8, 8, -1, 12, 1, 3, 11, 16, 3, 6, -1, 0, 12, 0, 8, 11, 8, 6, 6, 19, 7, 5, 11, 3, -1, -1, 5, 6, 3, 5, 0, 6, 8, 0, 6, 20, 5, -1, 11, 3, 8, 2, 3, 12, 8, 3, 9, 0, 13, -1, 8, 3, 3, -1, 6, 9, 0, 19, 9, 8, 3, 2, 3, 7, 0, 13, 3, 13, 2, 5, -1, -1, 6, 18, 1, 3, 3, -1, 15, 5, 11, 3, 5, 3, 5, 5, 8, 3, 9, 6, 6, 5, 3, 0, -1, 5, 3, 1, 16, -1, 6, 8, 11, 8, 3, 6, 3, -1, 0, 11, 1, 7, 8, 0, 5, 1, 6, 8, 0, 3, 11, 9, 1, 5, 7, 3, 6, 5, 6, 6, 2, 5, 9, 3, 5, -1, 2, 11, 0, 0, 5, 1, 0, -1, -1, -1, 0, -1, 6, 8, -1, 5, -1, 6, 2, 0, 5, 8, 8, 4, 0, -1, 3, -1, 3, 12, 20, 7, 8, 6, 11, 11, 13, -1, 8, 24, 5, 8, 7, 3, 8, 3, 3, 5, 0, 6, 5, -1, 9, 5, 3, 8, 19, 6, 7, 2, 1, 1, 5, 9, 5, 6, 0, 8, 3, 0, -1, 1, 8, 11, 0, 18, 8, 8, 6, -1, 3, 6, -1, 6, -1, 5, 5, 9, 8, 14, 5, -1, 6, 8, 0, 5, 8, 7, 0, 15, -1, 5, 5, 8, 6, 11, -1, 5, 3, -1, 3, 5, -1, 8, 6, 5, 3, 3, -1, 1, 14, 6, 3, 20, 7, 17, 8, 12, 7, 8, 3, 23, -1, 3, 10, -1, 5, -1, 6, -1, 5, 3, 3, 6, 10, 16, 6, 0, 8, 1, 7, 5, 8, 23, 1, 5, 3, 1, 8, 5, 0, 21, 8, 0, 0, 5, 0, 13, 1, 0, 9, -1, 1, 9, 3, 10, 3, 11, 8, 3, -1, 12, 1, -1, 0, 3, 5, -1, 2, 5, 8, 5, -1, -1, 8, 3, 6, 5, 0, 4, 12, -1, 0, -1, 0, -1, 9, 7, 5, 8, 0, 6, 5, 6, 0, 6, 20, -1, -1, 6, -1, 9, 6, 0, -1, 7, 8, -1, 6, 0, 17, -1, 8, 8, -1, 3, 3, 5, 5, 3, 8, 3, 20, 5, -1, 8, -1, 5, -1, 3, 5, -1, 3, 8, -1, 0, -1, -1, 0, 5, 0, -1, 3, 20, 10, 0, 5, 20, -1, 6, 0, 4, 3, 6, 5, -1, 0, 8, -1, 3, 7, 2, 1, 0, 6, 10, 0, 6, 5, 6, 8, 16, 6, -1, -1, 5, 23, 6, 0, -1, 1, 5, -1, 6, -1, 6, 6, 5, 3, 5, 3, 8, 8, 3, 7, 5, 5, 2, -1, -1, 0, 5, 11, -1, 5, 24, 5, 0, 23, -1, 5, 1, -1, 5, 3, -1, 1, 6, 0, 6, 8, 3, 4, 3, 6, 2, -1, 8, 15, 7, -1, 5, -1, 0, -1, 3, 16, 3, 9, 0, 16, 7, -1, 5, 5, -1, 5, 0, 5, 16, 14, -1, 8, 5, 8, -1, 9, 18, 3, 6, 5, 2, 7, 9, 1, 5, 8, 1, 8, 6, 0, 5, -1, 4, 0, 10, 5, 5, -1, 1, 8, -1, -1, 3, 0, 8, 3, -1, -1, 3, -1, -1, 16, 8, 0, 17, 3, 6, 19, 7, 5, 3, 5, 5, 9, 3, 3, 0, 5, 6, 8, 5, 3, 0, 0, 0, 8, 12, 8, 3, 8, 8, 5, -1, 3, 21, 5, 0, 3, 8, 5, 6, 3, 3, 23, 3, 5, 24, 8, 0, 5, 1, 6, 1, -1, -1, 4, 0, 7, 0, 5, 7, -1, 8, 0, 8, 6, 6, -1, 13, 6, 3, -1, -1, 8, 13, 3, -1, 3, 6, 13, 6, 0, -1, 0, 6, 8, -1, 2, 17, 6, 12, -1, 3, 0, 23, 3, -1, -1, 0, 5, 1, 16, -1, 8, -1, 1, 6, 17, 6, 3, -1, 0, 6, 8, 3, 5, 9, -1, 3, 8, 0, 24, 5, 3, -1, 6, -1, 5, 5, 2, 0, 7, 22, 3, -1, 8, 18, 5, -1, 2, -1, 5, 2, 8, 3, 9, 3, 3, 3, 8, -1, 23, -1, 14, 11, -1, 6, 0, -1, -1, 0, 19, 3, -1, 21, 3, 19, 3, 0, 7, 8, 0, -1, -1, 13, -1, 4, 6, 19, 2, 6, -1, -1, -1, 0, 5, -1, 14, 0, 3, 0, 8, -1, 1, 1, 6, 23, -1, 6, -1, -1, -1, 3, 6, 5, 5, 14, 3, 12, 6, 3, 8, 23, 8, 1, -1, -1, 3, 0, 8, -1, 5, 3, -1, 8, 11, -1, 2, 0, 7, 11, 0, 15, 10, 22, 3, 7, 4, 5, 22, 5, 5, 8, 5, -1, -1, 11, 1, -1, 7, 1, 5, 8, 1, 0, 3, 6, 8, 11, -1, 7, 13, 5, 0, 1, 6, 11, 2, -1, 5, -1, 6, 6, -1, 5, 8, 8, 8, 5, 0, -1, -1, 3, 6, 6, 6, -1, -1, -1, 0, 5, 3, -1, -1, 0, 4, -1, 8, 7, 6, 7, -1, 11, 3, 0, 2, 8, 8, 0, 3, 7, 8, -1, 7, 0, 5, 3, 3, 3, 5, -1, 1, 5, 7, 6, 8, 5, 0, 3, 3, -1, 6, 5, 14, 3, 5, 3, -1, 3, 3, 6, 0, -1, 8, 1, -1, 0, 8, 11, 3, 7, -1, 5, 6, 5, 6, -1, 3, -1, 10, 0, 5, 8, 6, 6, 19, 0, 0, 8, 5, 6, 11, 16, 0, 3, 0, 0, 5, -1, 8, -1, 3, 21, 5, 0, 8, 0, 15, -1, 0, 3, 0, 6, 8, 9, 3, 0, 5, 8, 0, 3, 3, 3, 6, 7, 8, -1, 16, 23, 3, 17, 9, 3, 8, 22, 8, 5, 8, 7, 0, 6, 0, 3, 4, 6, 8, 11, 19, 21, -1, 0, -1, -1, 3, 5, 3, -1, 3, -1, 7, 8, 8, 5, 0, 8, 12, 6, 5, 7, 0, 7, -1, -1, 8, 0, 0, 5, 3, 6, 1, -1, 6, -1, -1, 8, 5, 0, 5, 3, 3, -1, 6, 23, 20, -1, 6, 3, -1, 11, -1, 6, -1, 7, 2, 3, -1, 8, -1, 3, 2, 11, 6, 2, 3, 5, 3, 6, 5, 23, 3, 5, 6, 0, 1, 9, -1, -1, -1, -1, -1, 3, 8, 3, 7, 2, 0, 8, 3, 5, 5, 1, -1, 1, 2, 8, -1, 10, -1, 0, 8, 4, 5, 3, 0, 5, -1, 8, 1, 5, -1, 12, 7, -1, 20, 6, 6, 0, 5, 6, -1, 17, -1, 8, 0, 3, 8, 24, 3, -1, 5, -1, 8, 3, -1, 21, 0, 0, 7, 5, 0, 3, 8, -1, 7, 1, 3, 6, 3, 6, 3, -1, 15, 0, 0, 6, 3, 16, 6, -1, 0, 2, 5, 12, 20, 20, 3, 6, 6, 3, 11, 5, 5, -1, 7, 5, 11, 5, 5, 13, 11, 6, 3, 17, 6, 3, 5, 6, 9, 8, 0, 11, 8, -1, 6, 6, 8, 9, 6, 8, 8, 8, -1, 8, 11, -1, 5, 9, -1, 7, 13, -1, 8, -1], \"coloraxis\": \"coloraxis\", \"size\": 3, \"symbol\": \"circle\"}, \"mode\": \"markers\", \"name\": \"\", \"scene\": \"scene\", \"showlegend\": false, \"type\": \"scatter3d\", \"x\": [2.164767265319824, 13.500222206115723, 12.156831741333008, -4.363658428192139, -10.74577808380127, -8.435307502746582, 3.514850616455078, 8.703714370727539, 13.34543228149414, 6.948068618774414, 11.209920883178711, -3.9477338790893555, -0.9915475249290466, 9.421369552612305, 3.276113271713257, -4.053420066833496, 7.209289073944092, 1.5469231605529785, -0.25902697443962097, 7.267836093902588, -0.2906837463378906, 10.729970932006836, -1.7195342779159546, 4.093649387359619, -6.407853126525879, -4.499572277069092, 9.197405815124512, 4.489007949829102, -2.9826619625091553, -3.5382235050201416, -1.7736891508102417, -13.026991844177246, -0.41304436326026917, 3.685235023498535, -5.917014122009277, -8.103463172912598, -1.1239967346191406, 12.847892761230469, -0.7288523316383362, -2.06634259223938, -1.7308863401412964, 12.306760787963867, 2.525862455368042, 4.119583606719971, -7.423356533050537, 1.0999047756195068, -0.4680914580821991, 1.8159642219543457, -3.3743886947631836, -3.2686097621917725, 2.882892608642578, 2.643077850341797, -3.216930866241455, -4.894232749938965, -4.3503875732421875, -4.055676460266113, 11.81031322479248, -2.725137710571289, 5.53027868270874, 2.1864092350006104, -1.7778215408325195, -0.8321917653083801, 13.506186485290527, -7.6215949058532715, -11.889944076538086, -8.994778633117676, 6.262298583984375, -10.960759162902832, -4.070888042449951, 0.5288658142089844, -8.777090072631836, 4.946596145629883, 1.0751063823699951, 0.30177295207977295, -11.471083641052246, 1.1196762323379517, -12.469507217407227, 2.3548965454101562, 5.542651653289795, -7.082424163818359, 4.071365833282471, 0.2596488296985626, 10.974668502807617, -1.1718719005584717, 4.611395835876465, 4.341744422912598, 5.127904891967773, -4.2113471031188965, -6.37440299987793, 9.883111953735352, 3.8746044635772705, -3.928968667984009, -8.500879287719727, -0.9413385391235352, 11.39107894897461, -4.67779016494751, 6.4342427253723145, -9.669819831848145, -10.03984546661377, -7.377589702606201, -10.26980209350586, -14.139708518981934, -7.955777645111084, -4.140801429748535, 8.43945026397705, -8.276490211486816, -4.1591796875, -8.459967613220215, -11.793817520141602, -8.55554485321045, -8.578850746154785, -5.360410690307617, -5.54169225692749, -0.09293632954359055, -5.478965759277344, 6.9496355056762695, -6.8245320320129395, -2.753025770187378, -8.170646667480469, 0.9949290156364441, 5.197351455688477, -3.0477945804595947, -0.6444416642189026, 5.481922149658203, 5.307490825653076, 4.982614040374756, -5.707529067993164, 4.593164443969727, -0.5148376226425171, 1.0750932693481445, 4.398640155792236, -4.95001220703125, -4.722536563873291, -8.771698951721191, -5.4512810707092285, -5.199178218841553, -4.933544635772705, -2.986360549926758, -2.5325024127960205, -3.741612434387207, -3.624445676803589, -3.9387927055358887, 10.731779098510742, -3.0043675899505615, -13.763540267944336, 0.48484402894973755, 4.387472629547119, -8.692667007446289, -2.708526372909546, -13.642937660217285, -0.6495510935783386, -5.743743419647217, -3.9576051235198975, -4.483710289001465, 6.5122880935668945, 2.1976869106292725, 12.081978797912598, 4.775618553161621, 0.38060328364372253, -11.081405639648438, -5.171557426452637, -4.934394359588623, -14.348373413085938, 9.891837120056152, 5.239048480987549, -3.675945281982422, -3.7100677490234375, 6.452506065368652, -12.360121726989746, -3.543675422668457, 5.079423427581787, 8.138998985290527, -3.262986421585083, -3.584240436553955, -13.154214859008789, 1.3093923330307007, 4.153153419494629, 5.027463912963867, -2.6319899559020996, 11.981047630310059, -7.915249824523926, -5.956975936889648, 5.821914196014404, 2.2989418506622314, 1.0983459949493408, 6.09650182723999, -6.266730308532715, -0.810061514377594, 12.81015682220459, 14.082803726196289, 1.5199980735778809, -10.32274341583252, 0.8874202370643616, -4.338757514953613, 11.8694486618042, -6.0656585693359375, 4.985583305358887, 4.868360996246338, 4.578527927398682, -8.368912696838379, 3.2062089443206787, -7.2943644523620605, -10.565155029296875, 5.152426242828369, 0.32848480343818665, 9.265386581420898, 4.872435569763184, 8.308732032775879, 14.735432624816895, -5.066810607910156, 4.09021520614624, 4.6613311767578125, -7.484341144561768, -10.844176292419434, -2.49385142326355, -7.0656843185424805, -9.162654876708984, -7.482989311218262, -10.5646390914917, -13.815940856933594, -4.096945285797119, -7.264951229095459, 8.569465637207031, -3.667390823364258, 2.4395766258239746, -5.614035129547119, -1.9635865688323975, 7.838802814483643, 2.778480291366577, -0.2362779676914215, 5.638927459716797, 3.675037384033203, -1.1309518814086914, -8.98147964477539, -4.044022083282471, 4.249093055725098, 6.218196868896484, 7.432305335998535, 10.510656356811523, -10.873544692993164, 0.930967390537262, 2.848814010620117, -7.545434474945068, 7.808393478393555, 3.7984659671783447, 1.7911080121994019, 1.8487409353256226, -5.443320274353027, 12.781495094299316, -13.328557014465332, 4.176490783691406, 4.702439308166504, 9.673171997070312, 5.2392449378967285, 5.093499660491943, 1.7145241498947144, -4.144407749176025, 1.6130993366241455, 5.010997295379639, -10.346717834472656, -8.937070846557617, 2.260378122329712, -0.7684884071350098, 9.085967063903809, 13.069877624511719, -4.364042282104492, 2.44195556640625, 3.5858216285705566, 6.38509464263916, -2.592046022415161, -8.045626640319824, -12.98462963104248, 12.532562255859375, -12.374238014221191, -0.7181795239448547, 4.700571537017822, 2.597109317779541, 2.977351188659668, -5.751162528991699, -7.905444622039795, -13.683267593383789, 11.824397087097168, 1.7476918697357178, -6.461073875427246, 3.723700761795044, 1.167577862739563, 2.2128968238830566, -0.9137425422668457, -4.824960231781006, 12.44251823425293, -3.9778335094451904, -5.948969841003418, 13.73030948638916, -8.247025489807129, -9.787464141845703, 4.692687511444092, -3.9716899394989014, 0.9695233106613159, 8.026419639587402, -2.517914295196533, -0.7730860114097595, 1.3432942628860474, 4.098484039306641, 5.1576313972473145, 12.27963638305664, -6.876250267028809, 4.902080535888672, 6.921067714691162, -10.651666641235352, -7.474122047424316, -3.425203323364258, 3.366663932800293, -11.466633796691895, 9.646400451660156, -6.992519855499268, 11.857870101928711, -6.5724263191223145, -4.770843982696533, 0.8678489923477173, -9.265157699584961, -3.7822489738464355, 4.331930637359619, 9.768871307373047, -4.954610824584961, 8.769046783447266, -9.227357864379883, 3.101202964782715, -1.6199020147323608, -5.506575584411621, 9.082663536071777, -4.086995601654053, -9.274599075317383, 10.123967170715332, 1.4794617891311646, -8.840433120727539, -2.3345985412597656, 5.304233551025391, -4.6219096183776855, 2.467074155807495, 4.896589279174805, -7.570474624633789, 8.838645935058594, 2.4142394065856934, -4.351503372192383, 1.8933086395263672, -4.811874866485596, 1.8973783254623413, 1.0015593767166138, -8.635790824890137, -5.782774448394775, 3.255345344543457, 7.9404706954956055, 11.547112464904785, 8.841620445251465, -7.5965423583984375, 6.984710216522217, 9.215876579284668, -8.360758781433105, 11.912226676940918, -1.5472990274429321, -8.590682983398438, -4.29439115524292, -10.947875022888184, -4.086369037628174, 3.608076810836792, 6.275041103363037, -1.7100342512130737, -1.6010401248931885, -3.3531975746154785, 4.550076007843018, -8.814051628112793, -4.315835475921631, 3.7651853561401367, -4.871825695037842, -5.118903636932373, 1.8386366367340088, 4.670424461364746, 6.842128753662109, -4.050537109375, 4.16706657409668, -8.30821418762207, -6.3228020668029785, -10.93470573425293, -1.7196346521377563, 2.236520528793335, 8.968765258789062, -1.108095407485962, 7.820572853088379, -0.905077338218689, 1.5317624807357788, 5.170638561248779, -11.031621932983398, -10.470794677734375, -11.678825378417969, 7.333075046539307, 3.129611015319824, 2.8400824069976807, -14.142683982849121, 12.717826843261719, -0.82852703332901, -5.528781890869141, -1.1808607578277588, -10.139124870300293, -3.6506383419036865, 5.079746246337891, -6.524914264678955, 2.165256977081299, 2.227786064147949, 12.985112190246582, -4.055409908294678, 10.924107551574707, 10.245498657226562, 0.5165481567382812, 0.11254746466875076, -2.7774131298065186, -1.6891450881958008, -5.099716663360596, 2.4544758796691895, 7.478368759155273, 0.1107419952750206, -0.5886748433113098, -8.235344886779785, 2.5503647327423096, -0.15874098241329193, -5.709753513336182, 8.182144165039062, -3.729212999343872, -9.393167495727539, 1.269551157951355, 2.1745615005493164, 4.393964767456055, -5.07632303237915, -7.302886962890625, 2.2144672870635986, 4.030587673187256, -3.3932840824127197, -7.387414455413818, -0.7276359796524048, 1.868792176246643, 0.6674590706825256, 7.973455429077148, 4.312558650970459, -12.60081672668457, 4.99868631362915, -7.123026371002197, 10.346786499023438, -3.554263114929199, 1.2865182161331177, -11.088156700134277, 3.8339641094207764, 9.735421180725098, -10.805695533752441, 2.778008222579956, 3.222801923751831, -0.952775239944458, -3.9161410331726074, 12.210495948791504, -6.259339332580566, -0.35800543427467346, -7.264632225036621, 0.5066197514533997, -9.535970687866211, 1.3894577026367188, 4.30435848236084, -0.6365217566490173, -7.448182582855225, -3.208777666091919, -0.3169232904911041, -4.0595011711120605, -9.176371574401855, -3.7990427017211914, 4.32832670211792, -14.270639419555664, 4.668235778808594, 4.58076286315918, 9.390740394592285, -6.974226951599121, 10.345804214477539, -2.9560391902923584, -8.189336776733398, 6.546717643737793, -8.476747512817383, 4.695743083953857, 3.178860902786255, -2.409999370574951, 3.6538074016571045, -6.159959316253662, 5.192447185516357, -5.979706287384033, -1.6253548860549927, 3.327529191970825, -3.5694148540496826, -10.562646865844727, 1.2520464658737183, 8.251163482666016, 7.182552337646484, -0.06850839406251907, -0.5799269676208496, 6.681906700134277, -12.700479507446289, -9.551090240478516, -5.44928503036499, 2.740485668182373, -4.54684591293335, 6.484299182891846, -2.818439483642578, 4.594584941864014, 0.8888105750083923, -2.261152982711792, -7.553984642028809, 12.09168815612793, 8.563859939575195, 9.667952537536621, 12.596352577209473, 1.825499415397644, -5.3104047775268555, -2.0915613174438477, 4.135308265686035, -9.45241641998291, 0.021354394033551216, 3.423081874847412, 2.8771097660064697, -0.3487672209739685, -10.943563461303711, -11.146002769470215, 6.7441511154174805, -0.814946711063385, 9.999715805053711, 1.6679290533065796, -1.2642501592636108, 2.4880776405334473, 4.179964065551758, 4.865005970001221, -5.165378570556641, -9.261072158813477, -5.771096229553223, -1.8204952478408813, -10.294108390808105, 11.303519248962402, -7.154535293579102, 0.8961600661277771, -10.838663101196289, 2.174168348312378, 8.962574005126953, 3.8200104236602783, 4.979044437408447, -13.757817268371582, 5.475374221801758, -10.257969856262207, 12.484476089477539, 4.841370582580566, -4.803493976593018, 6.335663318634033, 3.379166841506958, 9.431766510009766, 4.443985939025879, 7.181021213531494, 4.216844081878662, -5.1888933181762695, -8.111551284790039, 5.808630466461182, -4.669392108917236, -4.923745155334473, -6.014581680297852, 3.340196132659912, 11.966161727905273, -9.958368301391602, 2.4197981357574463, -9.240428924560547, 2.526043176651001, 14.968655586242676, 3.612942934036255, -10.554645538330078, 3.5182504653930664, 4.572995662689209, -0.5324336290359497, 1.3374475240707397, 0.46764859557151794, -2.088380813598633, 4.65321683883667, 1.3502506017684937, 9.825058937072754, 10.63280963897705, 4.523138999938965, -1.708295464515686, 10.589038848876953, 12.652514457702637, 2.6399765014648438, -4.415631294250488, -6.63835334777832, -13.104915618896484, 7.1666059494018555, 5.822300910949707, 4.177276134490967, -0.9888147711753845, -7.4631452560424805, 1.4439139366149902, -3.8614654541015625, -0.7201257944107056, 10.445206642150879, 1.0337111949920654, -4.98237943649292, 1.2373270988464355, -9.95931339263916, -8.532958030700684, -4.182785511016846, 2.8394665718078613, 6.490243434906006, 5.940460681915283, 3.406465768814087, 7.813889026641846, -2.449619770050049, 4.160066604614258, -4.856579780578613, 6.514780044555664, -6.138804912567139, -0.12188360840082169, -0.0032642409205436707, -5.095633029937744, -0.349705308675766, -4.399569511413574, -0.7754083275794983, 1.4135454893112183, 2.86515736579895, 4.323586463928223, -1.4523208141326904, 6.608267784118652, -1.3343782424926758, -8.480401992797852, -1.4095698595046997, 12.88238525390625, 8.408799171447754, 4.157700538635254, 1.6334795951843262, -9.142502784729004, -8.367422103881836, -0.43313130736351013, -2.939826011657715, -5.552103519439697, 8.579480171203613, -0.6056715846061707, -4.719808101654053, 0.9029291272163391, -3.614938735961914, -9.671222686767578, 9.453009605407715, 2.2434182167053223, -8.98635196685791, -12.604978561401367, 2.382185459136963, 2.897946834564209, -10.05280876159668, 10.359357833862305, -14.534384727478027, 4.501776695251465, 1.6699388027191162, 2.420322895050049, -3.9113709926605225, 1.348065733909607, -0.6502421498298645, 3.648759126663208, 8.62309741973877, -0.30098655819892883, -9.713236808776855, -8.068666458129883, 6.597611427307129, -12.408204078674316, -11.008613586425781, 0.07626055926084518, -10.738393783569336, -8.28775405883789, 1.9172840118408203, 7.511732578277588, -4.171444892883301, 6.517489910125732, -5.700749397277832, 7.7270002365112305, 1.4181203842163086, 2.374457359313965, -9.372881889343262, -3.462219715118408, -0.6275339722633362, 6.433354377746582, -5.156679153442383, 5.395925998687744, -3.5347800254821777, -6.20150899887085, -13.746131896972656, -4.805724143981934, 12.825511932373047, 8.362616539001465, -0.9521621465682983, -4.408150672912598, -8.073570251464844, 12.110112190246582, -0.10628555715084076, -8.257072448730469, -2.2073445320129395, -3.3352675437927246, 2.7328500747680664, -2.9314897060394287, -2.5731983184814453, 5.3209123611450195, 8.363387107849121, 4.054880142211914, 7.224402904510498, 6.555298805236816, 4.130463600158691, 13.569416046142578, 1.598607063293457, 7.07048225402832, -3.695549964904785, 1.3862650394439697, 1.3768420219421387, -3.6403706073760986, 2.1767489910125732, 10.796833038330078, 7.403017044067383, 10.593803405761719, -4.926549434661865, 2.308990240097046, 6.447222709655762, -2.416217088699341, 6.743041515350342, 11.758553504943848, -0.8810819983482361, -10.208993911743164, -8.758912086486816, 2.821579694747925, -10.652131080627441, 5.132269859313965, 0.148207426071167, 11.441505432128906, 9.033799171447754, 0.35213232040405273, 2.5383412837982178, -13.015625953674316, 6.55687952041626, -0.6859660744667053, -0.7932412028312683, 0.7425643801689148, -6.5396952629089355, 5.640222072601318, 1.9743242263793945, 2.3287339210510254, 3.332721471786499, -9.910356521606445, 5.092013835906982, 0.12121063470840454, 7.427602767944336, 13.072941780090332, 2.055330276489258, 6.13238525390625, 6.310248374938965, 5.727787017822266, 2.5514636039733887, -9.104528427124023, 8.512246131896973, -11.086281776428223, 1.7415040731430054, -5.202044486999512, 1.5993376970291138, 2.709028720855713, 2.70867919921875, -6.912137508392334, 1.71682608127594, -0.16668415069580078, 6.573980331420898, -3.5987260341644287, 3.7190418243408203, -8.534828186035156, 2.0970208644866943, 3.6417555809020996, -10.157668113708496, 3.046724557876587, 7.226129055023193, 6.47202730178833, 13.67276382446289, 6.503511905670166, 3.1354849338531494, -4.746496200561523, 0.5126131176948547, 8.204425811767578, 3.448042631149292, 6.693265914916992, -0.9534453749656677, -14.263284683227539, -8.752751350402832, 3.3816540241241455, 3.2564539909362793, 3.936943769454956, 5.118413925170898, -10.719474792480469, -1.7180917263031006, 11.96798038482666, 0.8645330667495728, 3.8204312324523926, 6.296722412109375, 1.1568886041641235, -6.574606895446777, -9.346549034118652, 0.5171539783477783, -2.6678402423858643, -7.2617387771606445, 1.893512487411499, 9.503043174743652, 7.82741117477417, 10.361661911010742, -6.04806661605835, -6.902729034423828, 2.581043004989624, 2.1651506423950195, -3.103672742843628, -1.6720386743545532, -3.5021631717681885, -2.3131792545318604, 0.6635451912879944, -9.871798515319824, -14.091588973999023, -4.01696252822876, -5.066168308258057, 5.242640495300293, 3.2769250869750977, -10.450754165649414, -1.069959282875061, -2.5562052726745605, -3.604151964187622, 6.73328161239624, -12.543167114257812, -13.006113052368164, 13.216109275817871, -1.877261996269226, 1.1293737888336182, 1.2995628118515015, -9.316129684448242, -2.2080469131469727, -0.44629526138305664, 0.5782122015953064, -2.120037317276001, -5.806847095489502, -0.4610205292701721, -5.571411609649658, -5.2525529861450195, 2.3370492458343506, 4.3416337966918945, 1.8411433696746826, -4.5332560539245605, -9.455025672912598, -10.6810302734375, -5.009920597076416, 7.911618709564209, 4.3837080001831055, 4.084295749664307, 12.322822570800781, 3.979313611984253, -4.364040374755859, -4.015053749084473, 6.752397060394287, 5.713590621948242, -1.4329220056533813, -0.8634231686592102, -2.425544500350952, -6.456070423126221, -4.79656457901001, 0.493242084980011, -9.52795124053955, 5.854427337646484, 9.90101432800293, 3.4724819660186768, -8.196002006530762, 1.4646495580673218, -1.1338303089141846, 3.116969347000122, -7.694298267364502, -4.8545823097229, -0.5580769777297974, -6.068985462188721, 11.911526679992676, -13.940166473388672, -8.830448150634766, 0.9097152352333069, -9.189863204956055, -0.9536815285682678, 9.519936561584473, 4.400177478790283, 5.720552921295166, -5.099038124084473, 6.149243354797363, -1.628754734992981, 0.7242623567581177, -4.714160919189453, 3.4642105102539062, 1.2350214719772339, 4.576674938201904, 1.1241514682769775, 1.4247223138809204, -2.799588918685913, 6.257352828979492, 1.3824321031570435, 4.548478603363037, 4.094649791717529, -0.3637128472328186, -2.479665994644165, 5.910187244415283, -3.9542171955108643, -3.666391372680664, -6.798833847045898, -5.483244895935059, 0.22957003116607666, 13.389810562133789, -4.581042289733887, 4.5853753089904785, -4.073825359344482, 5.366125106811523, -8.358406066894531, 4.140276908874512, 5.162428855895996, -1.9764622449874878, -7.757344722747803, 5.6521100997924805, -7.259853839874268, -0.5878261923789978, -3.685316801071167, -4.850895881652832, -11.806095123291016, -0.5139039158821106, -10.567516326904297, -4.108334541320801, 2.4071075916290283, -0.011079696007072926, 4.4438581466674805, -11.013845443725586, -0.530503511428833, 11.20834732055664, -10.82591438293457, -4.841819763183594, -10.219554901123047, -7.839596748352051, 3.378709077835083, -7.949339866638184, 2.5999813079833984, 2.684696912765503, 4.436617374420166, -11.547411918640137, 2.3791632652282715, 2.764979362487793, -9.277503967285156, -6.305070400238037, -7.510879039764404, 4.082062244415283, -1.5877832174301147, 6.475482940673828, 1.2218714952468872, -9.027637481689453, -4.152814865112305, -5.950694561004639, 10.581475257873535, -3.9145960807800293, 1.7784574031829834, 0.938258707523346, 2.5307910442352295, 2.3165931701660156, 8.28746509552002, 11.64330768585205, -0.844756007194519, -10.401653289794922, -10.430838584899902, 7.231677055358887, -4.453157901763916, -6.08184289932251, 12.329018592834473, 8.671868324279785, -1.9945183992385864, 4.0979743003845215, 3.09102201461792, 3.717801809310913, 2.1860196590423584, -4.239486217498779, -8.785266876220703, -11.59023666381836, -1.156156301498413, 4.442825794219971, -3.258150100708008, 6.252246856689453, 1.3290016651153564, -0.8613710999488831, 7.297651290893555, -8.232288360595703, -3.691481113433838, -7.157989025115967, -8.607772827148438, -4.036869525909424, -10.18532657623291, -9.360772132873535, 10.802173614501953, 4.438331604003906, 3.1439216136932373, -2.4339826107025146, 2.4929916858673096, -5.585937023162842, 1.2336294651031494, 2.3594775199890137, -2.3583669662475586, -5.867783546447754, -8.138370513916016, 6.1782379150390625, 1.9122737646102905, 7.147895336151123, 0.14086425304412842, -7.917194366455078, -0.32706373929977417, -0.4086715281009674, -0.7300264835357666, 5.787322998046875, 3.2326242923736572, -5.252654075622559, 13.376133918762207, -3.314122438430786, -8.894513130187988, 10.109869956970215, -8.450178146362305, -7.937752723693848, 2.3627467155456543, -6.229961395263672, -4.264326095581055, -10.271844863891602, -12.274892807006836, 0.9410226941108704, -5.674013614654541, 12.885127067565918, 1.2463585138320923, 5.141724586486816, 4.581693172454834, -6.238049030303955, -7.4723591804504395, -2.9201178550720215, 7.203212261199951, 2.717280149459839, -8.301567077636719, -1.7673265933990479, 4.727719306945801, 12.56154727935791, 7.540923118591309, 0.9579113721847534, -0.28213948011398315, 11.25771427154541, 9.328332901000977, 2.658405303955078, 7.9844560623168945, -13.753640174865723, 2.2732908725738525, 6.2704339027404785, 6.9644880294799805, -10.673114776611328, -10.092449188232422, -14.489205360412598, -8.221365928649902, -3.8114471435546875, 7.941315174102783, -9.514630317687988, 6.111351490020752, 7.801304817199707, 0.5935560464859009, 1.074113130569458, 0.9080369472503662, -6.570928573608398, -2.8239588737487793, -11.222127914428711, -7.300387859344482, -11.666866302490234, 6.96802282333374, 7.463371753692627, -4.1786699295043945, -0.8560507297515869, 2.332801103591919, -5.040182590484619, -4.4821929931640625, 3.42105770111084, -5.720176696777344, -5.283361911773682, 1.745580792427063, -3.2216293811798096, 7.50598669052124, 6.598042964935303, 0.08328603208065033, 0.9555478096008301, 4.134770393371582, 2.4205336570739746, 4.505922794342041, -5.553285598754883, -1.1884404420852661, 1.956684947013855, -11.008363723754883, 6.087495803833008, 6.0358991622924805, -12.885918617248535, 9.668216705322266, -3.169477939605713, 6.284848690032959, 1.5035297870635986, 1.5237197875976562, 12.31888198852539, 8.448651313781738, -10.84138011932373, 8.583832740783691, -3.4259912967681885, 0.7783511877059937, -0.8685429692268372, -4.845986843109131, -9.392129898071289, -0.9941885471343994, -7.835328578948975, -0.9572834372520447, 12.198110580444336, 6.0871758460998535, 12.294468879699707, 3.152928113937378, -0.6419705152511597, 4.520936965942383, -7.8958740234375, -10.714874267578125, 1.9996957778930664, -0.02597757801413536, 6.6308746337890625, -4.140964031219482, -0.6512613892555237, -3.0684330463409424, 3.2240943908691406, 9.882530212402344, 4.843703746795654, -1.683667778968811, -0.6744717955589294, 2.6169283390045166, -4.164766788482666, -3.9536099433898926, 8.634173393249512, -2.3623907566070557, -4.247525691986084, 2.907221555709839, -10.225041389465332, -0.8377540111541748, -8.650247573852539, 5.191314697265625, 8.942647933959961, -3.1191890239715576, -10.01888656616211, -7.7768168449401855, 13.292776107788086, -10.551892280578613, -3.486086845397949, -9.796087265014648, -12.794955253601074, -6.113534927368164, 10.670280456542969, 9.141053199768066, -1.9831422567367554, -12.268172264099121, 0.8578692674636841, -1.5232172012329102, -4.07664155960083, 6.567770481109619, 10.171178817749023, -9.246622085571289, 1.1698886156082153, 6.0457763671875, -1.483254313468933, -3.034132480621338, 12.357244491577148, 7.345828533172607, -3.285801410675049, -9.1487398147583, 6.641420841217041, 4.550785064697266, -10.699156761169434, 6.863035678863525, -5.136835098266602, -6.538219928741455, -4.070356369018555, 9.047895431518555, -0.5276665091514587, -9.547359466552734, 0.36938315629959106, -10.503926277160645, 2.4913837909698486, -2.6634836196899414, 5.699206829071045, 0.7843942642211914, -9.530584335327148, 2.2933003902435303, 1.5827925205230713, -4.215176105499268, -6.20593786239624, -10.280747413635254, -0.47651103138923645, 10.44946002960205, -3.6856677532196045, 1.558689832687378, -2.097156286239624, 11.090971946716309, -4.692461013793945, -1.5050017833709717, 7.488948822021484, -13.375676155090332, -11.465620040893555, -1.6513543128967285, -3.6488263607025146, 1.1448639631271362, -12.612826347351074, -4.336552143096924, 1.6278623342514038, -6.2973737716674805, -4.728911876678467, 5.203578472137451, 7.130263328552246, -14.246872901916504, -2.966952323913574, -6.288815021514893, 2.2763702869415283, 4.924463748931885, 12.617758750915527, 6.202605247497559, 11.14664077758789, -12.537602424621582, -7.2420220375061035, 4.3547539710998535, -9.0716552734375, -1.44781494140625, 4.0822577476501465, 0.9014229774475098, 2.3307297229766846, -9.136603355407715, -5.7297587394714355, 4.894039154052734, 3.700310230255127, -10.517998695373535, -3.6235179901123047, 4.573324203491211, 0.4972587525844574, 5.3905348777771, -5.276580333709717, 3.5102696418762207, -11.07273006439209, 3.9117777347564697, -13.369139671325684, 2.922778606414795, -3.4078962802886963, 0.7106029391288757, -10.961817741394043, -3.2506425380706787, 1.600672960281372, -0.38527706265449524, 6.128146648406982, -8.699978828430176, 1.4892936944961548, 5.777749061584473, -12.961644172668457, 2.5489375591278076, 2.5345563888549805, 4.3705267906188965, 2.3365797996520996, -6.416957378387451, -1.147059679031372, -8.335617065429688, 8.05307674407959, 10.344277381896973, 12.889742851257324, 8.104650497436523, 4.079013824462891, -9.159192085266113, 0.7902891039848328, 4.161073207855225, 4.299190044403076, 6.097391128540039, -8.894939422607422, 10.520686149597168, -11.303695678710938, -8.112635612487793, 12.630022048950195, -1.5648874044418335, -3.2061707973480225, 2.590886116027832, 0.9409907460212708, -0.9210371375083923, 2.640111207962036, -10.455427169799805, -4.345377445220947, 1.5741831064224243, -11.95248794555664, -8.40514850616455, 11.730596542358398, 0.11293742805719376, 7.399234294891357, 3.6247129440307617, -3.2254879474639893, -1.5214309692382812, 0.009391099214553833, 9.984495162963867, -7.258760929107666, 0.3823557198047638, -1.3417458534240723, -0.7801381945610046, 9.543259620666504, -0.5655523538589478, -4.980295658111572, 1.6363264322280884, -10.289911270141602, 1.4921709299087524, 10.504780769348145, 11.322929382324219, 5.047826766967773, 15.24478816986084, -4.06178092956543, -3.0806381702423096, 2.8517072200775146, 2.730731725692749, 8.985128402709961, 7.091609477996826, -8.1473388671875, -10.559185028076172, 7.3932905197143555, 9.170528411865234, -4.776216506958008, -8.094217300415039, 8.6357421875, -8.35296630859375, 3.546159267425537, 1.054531216621399, 3.9935007095336914, -6.498524188995361, -6.226809024810791, -9.493569374084473, -11.345244407653809, -2.7505745887756348, -11.855916023254395, -8.938187599182129, 11.21078872680664, 7.945472717285156, -8.600624084472656, 2.517266273498535, 6.002541542053223, -12.294246673583984, -3.472429037094116, 5.183413982391357, -13.118829727172852, 13.387336730957031, -1.761536717414856, -3.458024263381958, -1.6697548627853394, -12.24560546875, 6.8873209953308105, 5.55882453918457, 2.9166324138641357, 0.3696734607219696, 1.312637209892273, -1.7974876165390015, -0.7003148794174194, -9.7138032913208, -4.858482837677002, -6.046382427215576, 10.114900588989258, 4.178440093994141, 5.012445449829102, 10.50125503540039, 8.988151550292969, 11.175654411315918, -4.669532299041748, 6.305396556854248, 11.542149543762207, 4.895589351654053, 2.7663323879241943, -5.696492671966553, -13.330446243286133, -7.804056644439697, 8.481389045715332, 4.3442301750183105, 2.7391247749328613, 9.468663215637207, -12.248747825622559, -13.367488861083984, -4.655579566955566, 12.629304885864258, 6.628551006317139, 2.4647772312164307, 4.923564910888672, 9.257089614868164, 5.033088684082031, -4.231245040893555, 4.935009956359863, -8.122993469238281, 0.5101526379585266, 5.121744155883789, 12.855070114135742, -9.523221969604492, -2.320221424102783, -2.588650703430176, 0.9336249232292175, 6.8834733963012695, -4.133688449859619, 8.739275932312012, 2.717705488204956, 4.416884422302246, 9.429862022399902, -0.7904039621353149, -7.3478617668151855, -4.835608005523682, 2.0916335582733154, -1.2959365844726562, -0.9022162556648254, 4.595751762390137, -2.534860134124756, -10.698104858398438, 4.9186506271362305, 2.520998239517212, 5.448797225952148, -10.534825325012207, -4.733939170837402, 3.912665843963623, 3.919430732727051, -4.445809364318848, -2.8084027767181396, -10.506153106689453, -0.5179999470710754, 4.008517742156982, -10.929484367370605, 6.343990802764893, 6.085867404937744, -1.818564534187317, -8.708464622497559, 4.837447643280029, -4.806995391845703, 4.186888694763184, 1.058091402053833, 6.1111297607421875, 10.291627883911133, -0.6435199975967407, -11.54250431060791, 0.054716844111680984, -4.565553665161133, -0.5036434531211853, 2.8918631076812744, -0.7368025183677673, -8.990026473999023, -2.52388596534729, -10.81148910522461, 8.243127822875977, -0.42325711250305176, 6.007355213165283, -1.072485089302063, -0.7331861853599548, -10.640645027160645, 9.354937553405762, 1.5516862869262695, 0.9881119728088379, 9.539691925048828, 1.112141489982605, -11.9507417678833, -3.4138877391815186, -3.871614694595337, 3.8620057106018066, 4.977153301239014, 11.382170677185059, 7.363413333892822, 2.0950639247894287, -12.500694274902344, -8.466469764709473, -7.9975786209106445, -7.300244331359863, 12.659403800964355, -0.8775646686553955, -9.092903137207031, 6.545866966247559, -12.731082916259766, -5.609625816345215, 7.539616584777832, 6.023397922515869, 1.2241272926330566, -2.796330451965332, -2.5091960430145264, -3.5597951412200928, 2.1363842487335205, -5.518277645111084, -9.091772079467773, 9.033693313598633, 12.095568656921387, 2.0898470878601074, 2.372450828552246, -1.2589659690856934, 4.238050937652588, 4.873330116271973, 1.9859323501586914, -10.083547592163086, -0.7832977175712585, -6.243680000305176, 9.03363037109375, -5.261866569519043, -3.2348718643188477, -7.662710666656494, 3.386627674102783, 4.53895378112793, 5.806554794311523, 1.4455405473709106, -7.750558853149414, 3.7291207313537598, 7.146387577056885, -7.299310207366943, 4.913237571716309, -2.511162519454956, -11.704110145568848, 4.51676607131958, 2.8007607460021973, 3.6879444122314453, -3.201873302459717, -1.2232728004455566, -5.637433052062988, -8.411880493164062, 2.098992347717285, -4.271719455718994, -4.72135591506958, 8.675629615783691, -2.3504891395568848, -11.569733619689941, 4.44918155670166, 3.4212820529937744, 2.0948739051818848, -7.054584980010986, 8.47238540649414, 2.2679924964904785, 0.4838133752346039, 8.04370403289795, 5.148740291595459, 3.8171377182006836, -2.552191972732544, 0.8620889186859131, 9.78476619720459, 2.621626615524292, -1.227087140083313, -6.610616683959961, -6.541692733764648, -3.0189883708953857, 5.077471733093262, 0.9330334663391113, 5.549594879150391, -5.927789211273193, 5.937512397766113, -11.987223625183105, -5.506869792938232, 7.070091247558594, -7.980015754699707, 3.550274610519409, 1.6898765563964844, -1.2735724449157715, 2.5831515789031982, -10.35348129272461, 9.02596378326416, -11.31260871887207, 8.082565307617188, 11.948553085327148, 12.502504348754883, 4.9431023597717285, 7.895592212677002, 4.518754959106445, -7.694463729858398, 4.920982360839844, -8.15620231628418, 3.760676383972168, 5.046932220458984, 2.166154146194458, 4.594699859619141, -12.800728797912598, 7.451443195343018, 12.353946685791016, 12.482084274291992, -3.101992130279541, -12.864994049072266, 4.344244003295898, -2.293539047241211, 8.83939266204834, -5.443137168884277, -6.4698896408081055, -10.407966613769531, -13.82219123840332, 6.734830379486084, 10.268407821655273, -0.5586668848991394, -0.030728191137313843, 3.915499210357666, -4.721676826477051, 12.790050506591797, 12.419283866882324, -0.8985344767570496, -6.440860271453857, -3.537749767303467, -11.973976135253906, -7.879741191864014, -3.9886157512664795, -1.7223942279815674, 1.3498411178588867, -4.420042037963867, 2.198913812637329, 3.304494619369507, 12.017727851867676, 7.297882080078125, -2.874392032623291, 6.291890621185303, 3.259643793106079, -2.130181074142456, -0.8657187819480896, 2.0235235691070557, -13.50483226776123, -8.08007526397705, 3.6544082164764404, 3.718264579772949, -2.659905433654785, -0.08284511417150497, 12.681046485900879, 3.9622979164123535, 3.942058563232422, 8.420256614685059, -4.88831090927124, -9.766172409057617, -0.5311488509178162, -0.9835405945777893, 3.055712938308716, 8.882004737854004, -0.7906186580657959, 4.907139301300049, 4.930808067321777, 10.277472496032715, 4.0046539306640625, -11.310098648071289, -1.393276333808899, 6.149242401123047, 2.8952279090881348, 1.3104126453399658, -5.688991069793701, -6.222227096557617, -2.522472381591797, -0.6054649949073792, -6.737338542938232, 6.915666580200195, -1.9812910556793213, 9.512179374694824, -9.718058586120605, -0.6510917544364929, -12.45678997039795, 4.565024375915527, -10.356548309326172, 9.456341743469238, 3.363466262817383, -12.438936233520508, 2.1880738735198975, 12.489415168762207, -2.5807127952575684, 8.584460258483887, 7.583593368530273, 1.1998929977416992, -9.602025985717773, -5.599234104156494, -5.914147853851318, -5.240407943725586, 11.495429992675781, -6.01980447769165, 2.824347734451294, 2.829439163208008, 9.80142879486084, -7.853329658508301, -2.3646187782287598, -3.852410316467285, 10.437540054321289, 5.698315620422363, -10.758050918579102, -8.75367546081543, -9.276238441467285, -10.833887100219727, -5.3147430419921875, 0.8822457790374756, -10.493090629577637, 9.912914276123047, 2.0333633422851562, -5.521744728088379, -1.768290400505066, -11.571606636047363, 3.9759480953216553, -13.127983093261719, -4.325933933258057, -8.795503616333008, -8.711935043334961, 12.533817291259766, 11.6334810256958, 1.8600807189941406, -2.4109561443328857, 1.5942178964614868, 2.6414794921875, -5.00591516494751, 1.1202671527862549, -6.063139915466309, 13.034584045410156, -4.1211838722229, -1.0829395055770874, 2.680781364440918, -6.653619766235352, 2.231292486190796, -5.887905597686768, -6.64294958114624, -11.452004432678223, 9.728605270385742, 2.470036506652832, 0.11972332745790482, 4.473178386688232, -1.9495114088058472, -11.348037719726562, -1.965819001197815, -10.835125923156738, -5.462298393249512, 2.7104666233062744, 3.760228395462036, -0.5881769061088562, -4.109033584594727, 4.233490943908691, -0.8242825865745544, 1.6358269453048706, 13.220412254333496, 8.352036476135254, -11.274140357971191, 4.339303016662598, -9.065443992614746, 1.8002551794052124, -9.838539123535156, -11.47646427154541, -0.6606795191764832, 1.9928932189941406, 4.291934013366699, 12.950191497802734, -4.399186134338379, 4.019526958465576, -8.058905601501465, 2.5196220874786377, 12.530699729919434, 5.8624043464660645, 9.66403865814209, 11.908591270446777, 7.980027198791504, 4.401309490203857, 5.26151180267334, 4.866204261779785, -1.2721054553985596, -10.481918334960938, -7.288489818572998, -8.558473587036133, -6.153811454772949, -4.822957515716553, -11.631989479064941, 5.725094318389893, 8.67271614074707, 8.24264907836914, 7.861808776855469, -5.831634044647217, 7.435234069824219, 5.013980388641357, -4.527588844299316, -5.02143669128418, -5.133998870849609, 7.086909294128418, -11.094167709350586, 4.126361846923828, -0.38434526324272156, 0.40497148036956787, 1.0702149868011475, 4.894985198974609, -13.46555233001709, -7.921289443969727, 9.30821418762207, -4.203099727630615, -5.601933479309082, -10.932122230529785, -9.686293601989746, -0.6209158301353455, 0.39899304509162903, -11.340333938598633, -3.6419222354888916, 5.8389201164245605, -4.2571916580200195, 3.079420566558838, -6.416341781616211, 3.447138786315918, 4.121678352355957, -0.7534522414207458, 2.277405261993408, 10.639869689941406, 3.862391233444214, 8.4397554397583, 5.848696708679199, 1.0914585590362549, 4.0139665603637695, 2.365983247756958, 4.570141315460205, 10.745027542114258, -0.8733291625976562, 1.4258521795272827, -0.9678469896316528, -5.61177396774292, -10.296504020690918, 0.9585604667663574, -8.2029447555542, -5.497011184692383, -2.0300710201263428, -7.065528392791748, 1.4426616430282593, 2.1196353435516357, 1.9266499280929565, -4.277100563049316, -9.132795333862305, -2.600731134414673, -3.000640869140625, -2.6347270011901855, 14.044629096984863, -5.822515487670898, 5.4247517585754395, 1.2382614612579346, -6.497865676879883, 5.081209182739258, -0.24952921271324158, 3.098573923110962, -4.210235595703125, 5.499114990234375, -9.42278003692627, 3.999598979949951, -9.885665893554688, 2.1582534313201904, -0.4131773114204407, -0.7160331010818481, -1.5724749565124512, 13.001847267150879, 8.270127296447754, -13.247591018676758, 5.458900451660156, -5.431182861328125, 7.546550273895264, -2.827974796295166, -7.9107747077941895, 1.392585277557373, 3.069338321685791, -1.808529257774353, -6.544346809387207, 3.7059593200683594, -3.441713333129883, 3.238893747329712, 8.702099800109863, -4.807356357574463, 5.991339683532715, -4.54742956161499, -8.454219818115234, 11.79690933227539, -8.342552185058594, -3.1915123462677, -11.163806915283203, -11.678525924682617, -13.2274751663208, 4.511890411376953, 5.035467624664307, 1.071566104888916, -8.106362342834473, -9.486483573913574, -4.5572614669799805, -2.48136568069458, -3.0990653038024902, -13.027814865112305, 4.2871551513671875, 0.7023534178733826, -12.40130615234375, -5.039889335632324, -8.342267990112305, 9.444316864013672, -11.914247512817383, 1.324895977973938, 1.6116691827774048, 6.259396076202393, -6.527219772338867, 4.769736289978027, 12.605528831481934, 3.132139205932617, 3.8021533489227295, 3.430677890777588, 0.8314253687858582, -2.273085117340088, 9.467805862426758, -3.863551616668701, -8.658970832824707, -0.5130196213722229, 3.2496800422668457, 11.599529266357422, 3.0712437629699707, -11.274367332458496, 9.536520957946777, -11.161754608154297, 3.903677225112915, 12.121618270874023, -10.62187671661377, -7.382434844970703, -13.174534797668457, 4.929917335510254, 2.513190746307373, 2.1051247119903564, -12.61561393737793, 4.583107948303223, 7.3004469871521, 3.5011606216430664, -13.312348365783691, 13.035730361938477, 2.0870182514190674, 3.4754467010498047, 1.0003712177276611, 0.2253289520740509, 4.8591718673706055, -10.804484367370605, -8.123618125915527, -4.8298420906066895, -13.384530067443848, 9.051886558532715, 1.4260352849960327, 9.186300277709961, 13.741451263427734, -1.4258532524108887, -8.671010971069336, 2.7867703437805176, 8.420660972595215, 13.438288688659668, 0.7619834542274475, -8.736233711242676, 3.3183774948120117, -12.832170486450195, 6.873867511749268, -10.945382118225098, 12.620360374450684, 8.026530265808105, 1.8592710494995117, -8.947089195251465, 0.8606420755386353, 4.035844326019287, -0.01350175030529499, -2.3258936405181885, 11.915826797485352, 2.639859914779663, -12.880043029785156, -8.0681734085083, 10.288786888122559, 0.34550905227661133, 9.461630821228027, 3.7855165004730225, 3.1576952934265137, 2.160658597946167, 5.007710933685303, 11.308854103088379, 2.5177743434906006, 5.109646797180176, -2.705582618713379, -8.931465148925781, 2.485568046569824, 1.2481732368469238, 0.5411083698272705, -3.709091901779175, -11.137520790100098, 8.729734420776367, 12.638236045837402, -3.657726526260376, 11.661169052124023, 0.23118412494659424, 10.103107452392578, -7.859653949737549, -1.792914628982544, 4.221589088439941, 2.7726964950561523, 1.4972028732299805, -7.583493232727051, -0.4767844080924988, -9.180880546569824, -3.486618757247925, 2.3848724365234375, -0.853544294834137, -5.115773677825928, -3.0024445056915283, 8.510746002197266, 7.578649044036865, 5.649783134460449, 13.719866752624512, -9.867210388183594, -6.059439182281494, 3.0836265087127686, -3.3716354370117188, 0.7314542531967163, -10.25151538848877, -4.5734782218933105, -7.279940128326416, -6.339477062225342, 1.708510398864746, 6.184454917907715, -0.3867115080356598, 8.450343132019043, -2.0611798763275146, -13.579631805419922, 10.300206184387207, -6.3510870933532715, -0.7079224586486816, 0.5045874118804932, -1.1520887613296509, -0.5756095051765442, 9.609281539916992, 13.688970565795898, 10.990167617797852, 2.4279708862304688, -14.339624404907227, 1.0597535371780396, 6.746981620788574, 3.2602086067199707, -6.479563236236572, -12.748043060302734, 0.7798541188240051, -8.72072696685791, 9.085105895996094, -6.0573930740356445, 6.163210868835449, 2.3501412868499756, -2.6578257083892822, -10.662513732910156, -9.128817558288574, 3.297969341278076, -11.141796112060547, -6.254973411560059, 3.4403934478759766, -9.001971244812012, -4.970219135284424, 7.7941789627075195, 12.027193069458008, 9.395163536071777, -13.001287460327148, -2.56083345413208, 2.2190213203430176, 0.48921579122543335, -9.895959854125977, -2.8793022632598877, -6.790949821472168, 1.1768169403076172, 7.820035457611084, -5.293560028076172, -0.7054022550582886, 5.7475996017456055, 1.9581648111343384, -3.112567186355591, 4.783780574798584, 6.430174827575684, -11.968393325805664, 0.7474013566970825, 5.675025463104248, 6.440066814422607, 11.218167304992676, -6.989777565002441, -4.8930344581604, -9.38998031616211, 8.256441116333008, 4.412534713745117, -7.27995491027832, 5.6207990646362305, 4.656179428100586, -5.176300048828125, -7.567849159240723, -4.882500648498535, 13.497833251953125, 1.2804474830627441, -3.7193522453308105, -6.793795108795166, 2.2230615615844727, -0.5964550971984863, 6.59218692779541, -8.67522144317627, -3.990649938583374, 2.9775216579437256, 0.8129419088363647, -7.2228474617004395, 0.6110557317733765, -4.739229679107666, -13.66879653930664, -6.87355899810791, -9.82535457611084, 9.050801277160645, -0.49124905467033386, 2.271104335784912, -4.504190444946289, 10.212956428527832, -10.795021057128906, -10.321125030517578, -6.401841640472412, -4.6512370109558105, 2.8819141387939453, 6.17514705657959, 4.97053861618042, -10.536837577819824, 13.062906265258789, 2.589909315109253, 2.1269516944885254, -10.231526374816895, 1.3055974245071411, 12.398019790649414, 1.2515552043914795, -8.641772270202637, 10.981557846069336, -6.348362445831299, 2.6620395183563232, 5.00617790222168, 3.3414461612701416, -1.78889799118042, 4.156501770019531, 3.512491226196289, 5.328513145446777, 1.827598214149475, 6.71398401260376, 12.355440139770508, -4.371287822723389, -13.376315116882324, -0.8354858756065369, 11.90395450592041, -11.528016090393066, -6.594889163970947, -5.594695568084717, -8.045750617980957, 7.856274604797363, -10.87692642211914, -9.935445785522461, 5.130188465118408, -2.870152235031128, 12.356925964355469, -1.8692721128463745, 3.610318422317505, -6.808124542236328, 2.829176425933838, 0.25766146183013916, 12.024471282958984, 1.1549439430236816, -0.6982532739639282, 4.673072338104248, -0.8152357339859009, -1.5849366188049316, -6.997992038726807, -6.024054050445557, 1.4971482753753662, 4.346395969390869, -0.886920690536499, 3.3367981910705566, -3.5458621978759766, 1.8138277530670166, 1.9005751609802246, 5.025620460510254, 3.8578269481658936, 4.185797214508057, -12.324981689453125, -1.1742057800292969, 1.8648183345794678, -9.611038208007812, -0.7450329065322876, -4.4188079833984375, 9.824848175048828, -5.792646884918213, 0.8569871783256531, -1.3752716779708862, 1.0789861679077148, -4.775201797485352, 3.4560396671295166, 3.8438289165496826, 11.00694465637207, -13.800445556640625, 3.185948610305786, 5.569051742553711, -10.123617172241211, -0.9840596914291382, -0.681584358215332, 6.392343997955322, 7.193023204803467, 4.520963191986084, 6.423019886016846, -6.27330207824707, -7.944351673126221, -5.322527885437012, -7.778982639312744, -11.772090911865234, -8.821637153625488, 8.29962158203125, 7.26837682723999, -6.675766944885254, -1.3777351379394531, -11.244040489196777, 1.8512636423110962, 7.124478816986084, 4.993488311767578, -7.13929557800293, 3.4092111587524414, 6.328458309173584, 8.969864845275879, -9.012228965759277, 12.835394859313965, -8.969131469726562, -6.428366184234619, -0.45335134863853455, -2.4113826751708984, -3.5647525787353516, -5.677957534790039, 8.353232383728027, 5.504054069519043, 5.7964396476745605, 4.919619560241699, -1.7402797937393188, -6.725460052490234, 2.1501078605651855, -4.948454856872559, 4.783363342285156, 10.821272850036621, 4.051717281341553, 6.665539264678955, -3.9668569564819336, 1.3662123680114746, 2.9175422191619873, -7.193140983581543, 4.769340515136719, 1.7457807064056396, 4.8602118492126465, 3.8470089435577393, -4.865702152252197, -5.559474468231201, -8.355903625488281, 2.4582324028015137, 10.634162902832031, 10.499464988708496, 4.451704025268555, 6.0011138916015625, -4.911367416381836, 5.423234462738037, 4.730422019958496, 1.1862366199493408, 7.3234453201293945, -5.872213840484619, 1.3260878324508667, 2.8520545959472656, 3.708268404006958, -3.9304423332214355, 4.80019474029541, -0.9026973247528076, 0.347491055727005, 4.475393772125244, -0.06757617741823196, 11.929476737976074, 4.441399574279785, 6.473740100860596, 2.746405839920044, 3.357919931411743, 4.4908447265625, 0.4811807870864868, 3.1909735202789307, -6.403707504272461, 6.3627543449401855, -4.931645393371582, -7.886993408203125, -2.120591878890991, -10.999028205871582, -0.5323965549468994, 3.033961296081543, 8.557659149169922, 10.39002513885498, 13.833505630493164, -1.3985635042190552, -3.208902597427368, 9.990599632263184, 8.121777534484863, -3.9701783657073975, 10.045618057250977, -6.761285781860352, 1.0444990396499634, 2.5734026432037354, 1.2176073789596558, -3.075371026992798, 5.648464202880859, 13.29255199432373, -5.563410758972168, 0.7875177264213562, -12.36759090423584, 2.8976218700408936, 13.166605949401855, 2.6139469146728516, 2.7030718326568604, -1.7294929027557373, -7.945052623748779, -6.431852340698242, 3.108959674835205, -5.81282377243042, -4.745044708251953, 9.493997573852539, -11.563791275024414, -0.6107421517372131, 4.374068737030029, 2.4456605911254883, -0.8312608599662781, 8.721683502197266, -1.4326075315475464, 2.910534381866455, 7.450504779815674, -10.070292472839355, 0.1420387476682663, -8.774953842163086, -12.685032844543457, 4.490358352661133, 0.3565843999385834, 1.1918245553970337, -9.14148235321045, 2.0460546016693115, 6.939339637756348, 10.59907054901123, 7.3342485427856445, 6.6684746742248535, 9.669922828674316, 0.6829054951667786, 2.3108606338500977, -2.615368604660034, -1.6171058416366577, 4.640314102172852, -8.223875999450684, 2.42728328704834, -10.430290222167969, -3.5097012519836426, -8.787813186645508, 5.215359210968018, 11.421233177185059, 10.262764930725098, 3.257026195526123, -11.324048042297363, 12.561424255371094, 5.823212623596191, -1.8951356410980225, 9.789034843444824, -1.3418761491775513, -0.3331626355648041, 1.989906907081604, 9.59176254272461, 2.8404181003570557, 3.9991049766540527, 4.424821853637695, -4.3900041580200195, 7.678216457366943, 8.083279609680176, -6.17823600769043, 13.548246383666992, -10.418530464172363, 0.5091119408607483, -1.639086365699768, -5.625749111175537, -0.645926833152771, -7.958489894866943, -5.635894775390625, 4.5016770362854, -0.9533364772796631, -9.105903625488281, -3.1476099491119385, 8.751315116882324, -0.5014596581459045, 0.8977342844009399, 2.083740711212158, 6.538142681121826, -9.3892183303833, 3.580888509750366, -0.24649301171302795, 0.5936281085014343, 8.385865211486816, -7.96473503112793, 9.523987770080566, 0.13930588960647583, -13.114727020263672, -9.737113952636719, -10.225549697875977, 0.07029961794614792, 5.681303977966309, 7.171506404876709, -10.310921669006348, 4.174773216247559, -5.307258605957031, 2.758636474609375, 2.23225474357605, 2.5949864387512207, -4.799919128417969, -4.116084098815918, -9.923739433288574, -6.308342456817627, -10.82396125793457, -3.396392345428467, 11.846631050109863, -3.830857038497925, -8.2811861038208, 4.441764831542969, 6.407797813415527, 5.792172431945801, -12.115982055664062, -9.95196533203125, 8.503928184509277, -1.2424911260604858, -6.356442928314209, -7.717655181884766, 0.23459340631961823, -6.0406365394592285, 12.485227584838867, -5.660351276397705, -9.128242492675781, -0.8030173182487488, 10.414567947387695, 14.229673385620117, 4.621498107910156, 13.111772537231445, -0.9076625108718872, 13.27599811553955, 3.3011045455932617, -1.3558615446090698, 0.8271745443344116, 6.359367847442627, 3.7002718448638916, 2.9425735473632812, 6.591287136077881, -12.22773551940918, 2.7268309593200684, -9.727441787719727, -2.2230308055877686, 0.4337678849697113, -0.3229339122772217, 5.918816089630127, 3.3900880813598633, -8.198636054992676, -6.361057281494141, 10.907148361206055, -6.2219390869140625, 7.375839710235596, -9.244596481323242, 6.273009300231934, -11.066134452819824, 4.421689510345459, 6.397036075592041, 2.156588077545166, 3.9450223445892334, -1.2300479412078857, 6.103785514831543, -1.0746979713439941, -9.205547332763672, -11.624336242675781, 9.680665969848633, 7.5032124519348145, 5.370589733123779, -2.1829519271850586, 7.193120956420898, -6.47628116607666, -2.6082959175109863, 2.1025595664978027, -4.704801082611084, 5.061822891235352, 13.032066345214844, 4.796637058258057, 7.1339616775512695, 13.482715606689453, 0.31677088141441345, 5.564389705657959, -6.5566725730896, 8.848103523254395, 13.36931037902832, -4.457206726074219, 7.006418704986572, 2.612159252166748, -12.134708404541016, -4.048957347869873, 1.8605555295944214, -5.641805171966553, -10.729264259338379, -11.81087875366211, 9.8460693359375, -13.859264373779297, 8.229537010192871, -7.248395919799805, -11.042118072509766, 3.4918370246887207, -6.716922283172607, 12.959283828735352, -5.553393363952637, 0.09592548757791519, -0.8605210781097412, 7.589197635650635, 5.997725009918213, 11.800870895385742, 12.300073623657227, 4.5433783531188965, 1.8510637283325195, -0.5784294605255127, -12.312074661254883, -9.52320384979248, -4.731894016265869, -3.3833162784576416, 12.612844467163086, -8.622040748596191, 9.321873664855957, -9.130878448486328, 9.61435604095459, 13.068192481994629, -1.0286791324615479, -4.3731794357299805, -9.89154052734375, -10.642237663269043, -5.133434772491455, -10.769268035888672, -6.223099708557129, 1.8022288084030151, 0.19413074851036072, 4.861559867858887, 1.2458597421646118, 4.349752426147461, -0.44813603162765503, 0.40411922335624695, 2.4807369709014893, -2.03753662109375, 2.3977863788604736, 6.5488996505737305, -1.3650245666503906, -12.113511085510254, 12.953107833862305, 3.9807703495025635, -11.41343879699707, -0.7417894005775452, -7.958653926849365, -3.0174238681793213, -1.563793659210205, -6.635740280151367, 1.2266682386398315, -3.135863780975342, -7.934597015380859, 6.863433837890625, 2.5209476947784424, 3.7038521766662598, -0.8178194165229797, -1.3554904460906982, 12.948919296264648, -0.7776474356651306, -13.560259819030762, 7.994349956512451, 7.5455403327941895, -0.6655246019363403, 3.8544886112213135, 11.434407234191895, 2.728471517562866, 1.9651174545288086, -6.847095966339111, 4.240171909332275, -0.8710787296295166, 2.3665645122528076, 11.780795097351074, 13.778349876403809, -4.209172248840332, 0.36826685070991516, 12.571595191955566, -0.6334643959999084, -0.7175067067146301, 3.3146677017211914, 7.125123500823975, -5.022582054138184, -3.9834940433502197, 8.67410659790039, 10.450300216674805, 2.0566227436065674, -7.518913269042969, -4.41747522354126, 2.5300064086914062, -5.751480579376221, -7.421034336090088, 1.113510012626648, -7.536032199859619, 12.527246475219727, -8.219956398010254, -5.159784317016602, -4.1733880043029785, 5.573478698730469, -6.091833114624023, 12.975887298583984, 6.393019676208496, -5.8533406257629395, -6.6036577224731445, -8.128524780273438, 5.633133411407471, -1.3659734725952148, 9.696759223937988, 2.1783454418182373, -1.081477165222168, 5.914570331573486, 2.423139810562134, 4.575056076049805, -5.143383979797363, -0.6803038120269775, -9.478829383850098, -0.1580703854560852, 4.908886909484863, 12.598054885864258, -0.7936127185821533, 4.320962905883789, 1.9399477243423462, -10.903213500976562, 12.58424186706543, -5.484279155731201, -4.733861446380615, 4.871359348297119, 11.974844932556152, 0.5521430373191833, 1.783841848373413, 13.1624116897583, 12.922051429748535, -5.934085369110107, 12.805535316467285, 4.576233863830566, -12.472711563110352, 1.0808801651000977, -10.390074729919434, 3.3803629875183105, -4.099277496337891, 2.289416551589966, 5.36390495300293, 11.429262161254883, -2.9578986167907715, 13.785120010375977, -2.5234715938568115, 4.945305824279785, 11.602347373962402, -9.345088958740234, 4.977592945098877, -13.420905113220215, 1.4988971948623657, -1.2633459568023682, 3.897836923599243, 8.529693603515625, -3.325951337814331, 0.2639113664627075, -9.437479019165039, 3.201033353805542, 2.0817506313323975, -9.180517196655273, -11.409526824951172, -4.4469313621521, 1.948051929473877, 5.640056133270264, -3.8229293823242188, 4.528421878814697, -10.16191577911377, 6.304086208343506, 1.1042782068252563, 7.935081958770752, -5.573662281036377, -0.1551220715045929, 5.083407878875732, 4.371974945068359, 4.231900215148926, -9.05360221862793, 0.5925692319869995, -1.595395803451538, 2.083223581314087, 0.6648802757263184, 13.385208129882812, 6.933385372161865, -2.25478196144104, 4.245521545410156, 8.800395965576172, -8.092352867126465, -9.519451141357422, -3.676870107650757, -6.788225173950195, 2.3479461669921875, -2.4291164875030518, 4.997326374053955, 2.359792947769165, 5.236948013305664, -1.0205764770507812, -9.356193542480469, -10.538932800292969, -12.819411277770996, 10.684697151184082, -11.477645874023438, 12.214866638183594, 4.080024242401123, 1.2952735424041748, -1.2624189853668213, -10.587201118469238, 8.378031730651855, 2.2782018184661865, -9.019317626953125, -4.942956924438477, -8.6732177734375, 0.5574265718460083, 5.618564128875732, 1.8646341562271118, -5.135726451873779, 9.71084213256836, -9.787530899047852, -13.66362190246582, -8.373814582824707, -8.452208518981934, 3.4238851070404053, -2.432556390762329, 6.708535194396973, -5.620750427246094, 8.894427299499512, 5.063438415527344, 1.552196979522705, -4.904935836791992, 4.628492832183838, -8.548627853393555, 2.2562386989593506, 13.475531578063965, 8.884170532226562, 3.2737269401550293, 2.449558734893799, -1.3447405099868774, -8.678105354309082, -9.621058464050293, -4.261240482330322, -5.393359184265137, 0.9302558898925781, 11.609190940856934, -0.06655294448137283, 5.321862697601318, 2.9730618000030518, -0.4588054418563843, 6.6626296043396, -2.500866174697876, -7.817616939544678, 9.789305686950684, -3.8808693885803223, 8.100394248962402, 0.770878255367279, 2.4863522052764893, -8.354787826538086, 0.5184683799743652, -1.6149035692214966, 4.445572853088379, 1.7533625364303589, -1.2897802591323853, -9.079244613647461, -7.892807483673096, 2.458672523498535, 9.824739456176758, 4.771420478820801, -4.708454608917236, 4.562594413757324, 2.958634376525879, 10.564990043640137, 0.5101543068885803, -12.254122734069824, 2.0773439407348633, -5.82867956161499, -6.883925914764404, -11.88758373260498, -8.920026779174805, 4.501725673675537, 2.2821085453033447, -7.174219608306885, 6.904891014099121, -8.852289199829102, -7.832332611083984, -8.615196228027344, -4.4400835037231445, 2.5897648334503174, -0.5189447402954102, 4.448043346405029, 0.26738089323043823, 0.20998241007328033, -5.86044979095459, 5.310138702392578, -11.786846160888672, -11.438722610473633, -3.87207293510437, -0.13869339227676392, -11.541230201721191, 3.0707435607910156, -4.684976100921631, 1.2225162982940674, 2.905552625656128, 3.6692264080047607, 1.90324866771698, -9.079225540161133, 3.7259721755981445, 0.08300789445638657, -8.687088012695312, 7.615755558013916, -0.791736364364624, 2.462583303451538, -11.370657920837402, 3.974963665008545, -4.908506393432617, -3.767885208129883, -3.6794402599334717, 9.642797470092773, -13.433414459228516, -6.210838794708252, -9.628988265991211, 12.499532699584961, 2.513070583343506, -9.049063682556152, -2.9470789432525635, 9.157015800476074, 6.100013256072998, -4.8283371925354, -3.2078983783721924, 4.931516170501709, 9.44489574432373, 1.1396437883377075, 6.453805446624756, 1.818384051322937, -6.192470073699951, -2.042239189147949, -7.480543613433838, 6.2653961181640625, 3.6928751468658447, 4.0627641677856445, -6.209604740142822, -0.7890763878822327, 13.096508026123047, -1.2620974779129028, -1.3837674856185913, 12.872334480285645, 4.66314172744751, -10.45246410369873, 9.449080467224121, 7.0630927085876465, 10.28378963470459, -6.98307991027832, -6.081290245056152, -2.7110745906829834, 2.7134063243865967, -0.34127551317214966, 2.5607094764709473, 3.491462469100952, -0.006510051432996988, -3.29423451423645, -9.563324928283691, 9.859468460083008, -6.008602142333984, 2.0230154991149902, 8.44091510772705, -0.7768187522888184, 10.546667098999023, -7.022988796234131, 1.7042440176010132, 1.78678560256958, 13.618371963500977, -6.420488357543945, 10.464476585388184, 7.378572463989258, 6.878611087799072, 11.983956336975098, -10.69552230834961, 1.170649528503418, -2.640118360519409, 0.5877234935760498, 9.831949234008789, -0.5313676595687866, -3.8907923698425293, 3.5744965076446533, 3.537567138671875, 5.925127029418945, 9.040467262268066, -11.47911262512207, -4.864274024963379, 5.5013861656188965, -2.85813307762146, -0.7866418957710266, 0.21887533366680145, -8.152392387390137, -8.124066352844238, -5.237340927124023, 0.015763746574521065, 10.95568561553955, 5.9706830978393555, -11.496338844299316, -10.01758098602295, 3.415679693222046, 8.76264476776123, 11.572552680969238, -12.150641441345215, 9.69157600402832, 8.902982711791992, -10.076929092407227, 14.070755004882812, -5.257515907287598, -2.7217087745666504, 6.699880123138428, -7.972475528717041, 4.527027606964111, 4.844167232513428, -8.217268943786621, 3.385599136352539, 6.866486549377441, -8.434236526489258, -6.547204494476318, 11.122323036193848, 4.385173797607422, -6.153098106384277, -3.5183937549591064, 0.9520359039306641, -8.16344928741455, 2.2539420127868652, 5.188366889953613, -3.3144705295562744, 3.9501142501831055, 7.266543865203857, 1.2405242919921875, 7.4059157371521, 6.441217422485352, -2.767052173614502, -8.595864295959473, 6.649947166442871, -4.621467590332031, -11.236760139465332, -6.631717681884766, -13.508537292480469, -5.337199687957764, 9.61425495147705, -6.774350166320801, -2.541259288787842, -6.1476664543151855, -0.887739896774292, 3.599147319793701, 0.9349575638771057, 3.767660140991211, -2.6105430126190186, 8.674909591674805, 1.3798221349716187, -12.412880897521973, -4.700470924377441, -5.558061599731445, -1.498511791229248, 10.951149940490723, -10.252808570861816, 1.0110927820205688, -12.92632007598877, 0.9773566722869873, -12.205011367797852, -3.8463354110717773, 2.6079294681549072, -2.7428066730499268, 4.444917678833008, -4.174373626708984, -9.28801441192627, 0.49273502826690674, 5.0082268714904785, 4.048084259033203, 3.59690523147583, 11.678911209106445, 8.605547904968262, -3.9516773223876953, 2.5683233737945557, 3.2477450370788574, -9.6998929977417, 1.4951331615447998, 6.935786724090576, -13.565460205078125, 7.734119892120361, 8.556812286376953, 9.507150650024414, 5.061319828033447, -0.7798612117767334, 7.825606346130371, 6.185146331787109, 7.8251051902771, 7.284719467163086, 4.165818691253662, 4.549711227416992, 1.223526120185852, -10.739295959472656, 6.59832239151001, 2.577230215072632, -6.147382736206055, 9.813352584838867, 0.746866762638092, -11.258607864379883, -7.01619815826416, 1.9671663045883179, 4.941571235656738, -9.889975547790527, -11.222427368164062, -2.304626941680908, 5.352731704711914, -8.470611572265625, -13.286005973815918, 2.623826503753662, -7.589641094207764, -9.438519477844238, -5.2575364112854, -6.113461971282959, -0.8250752091407776, 5.958982467651367, 13.278802871704102, 5.3911004066467285, -12.595789909362793, -1.1027915477752686, 0.25410640239715576, 5.4417948722839355, 7.239402770996094, -6.502708911895752, -1.028745412826538], \"y\": [-2.1539580821990967, 7.836024284362793, 6.460331439971924, 6.151352405548096, -0.36234933137893677, -2.22043514251709, -5.524325370788574, 6.299709796905518, 4.747315883636475, -7.015321254730225, -1.2082964181900024, 9.55991268157959, -8.669236183166504, 6.132600784301758, 4.637059211730957, 2.164091110229492, 7.168929100036621, 12.591347694396973, -7.267206192016602, -6.39221715927124, -5.62169885635376, 7.073531150817871, 5.284244537353516, -7.353522777557373, -0.18205328285694122, -9.94315242767334, 5.252293109893799, 1.0689291954040527, -9.003077507019043, 4.255864143371582, -11.69652271270752, -5.323971271514893, -0.048610564321279526, 6.9511494636535645, -1.1777199506759644, -8.264856338500977, 9.844417572021484, 3.0060904026031494, 6.047996520996094, 8.461968421936035, 1.5910992622375488, 6.367678165435791, 7.956633567810059, -6.8644795417785645, -3.2681777477264404, 4.955146312713623, -10.396106719970703, 8.818702697753906, -6.027414798736572, 1.9645193815231323, -5.567959785461426, 7.773715496063232, 3.9087414741516113, -0.26968371868133545, -11.817171096801758, 1.9252458810806274, -1.9191384315490723, 4.029516220092773, 5.493864059448242, 12.773316383361816, -13.13530158996582, -3.590548038482666, 6.875221252441406, -0.30760660767555237, -3.2671799659729004, -6.808716773986816, 5.2081828117370605, 0.8644821643829346, -9.693946838378906, -9.0950345993042, 0.57792067527771, -2.4720873832702637, -4.205157279968262, -7.149485111236572, -6.34648323059082, 10.70065975189209, -5.452584743499756, -0.38598206639289856, 4.826056957244873, 3.254361152648926, 14.401045799255371, -5.705687999725342, 1.8646939992904663, 7.1218085289001465, -2.6935513019561768, -4.063015460968018, -1.8289358615875244, -10.131948471069336, 6.421074390411377, 6.568119049072266, 2.457357168197632, -8.612985610961914, -5.499252796173096, -9.994601249694824, 2.570323944091797, 6.895030498504639, 8.598397254943848, -0.8022231459617615, -6.645817279815674, -7.6941237449646, -6.590226173400879, -6.957746505737305, 0.2726535201072693, 1.9278396368026733, 5.610626220703125, -9.536848068237305, 0.6350000500679016, -7.3191728591918945, -1.4677703380584717, 0.5674362182617188, -5.936385631561279, 4.6684112548828125, 7.659918308258057, 0.7392327785491943, 0.5847710967063904, -9.654995918273926, -7.281284332275391, -1.028084397315979, -8.322334289550781, 11.48984432220459, -6.386449813842773, 6.160654544830322, -5.839181900024414, -6.551779270172119, -2.857076644897461, 0.5882633924484253, -1.3623236417770386, 5.277100086212158, -11.429027557373047, 6.314539909362793, 11.504719734191895, -6.625027656555176, 5.79339075088501, -5.476484775543213, 0.1358315497636795, -13.65065860748291, -6.032941818237305, 3.082214117050171, -10.993326187133789, -8.94487190246582, -1.204742431640625, -8.681198120117188, -3.014813184738159, 8.580416679382324, -5.328632831573486, 0.15653996169567108, -0.49561819434165955, 1.8843052387237549, 7.85959529876709, -7.163690567016602, 5.604222297668457, -2.568138837814331, -6.705813407897949, -8.64874267578125, 0.4073699414730072, -12.532408714294434, 6.296871662139893, -10.823766708374023, 10.436978340148926, -8.841216087341309, -8.236479759216309, -9.078431129455566, -6.082435607910156, -1.7123059034347534, 8.367779731750488, 0.44855278730392456, 4.498451232910156, -4.916651725769043, -7.822319507598877, 8.161751747131348, 6.914765357971191, 5.80569314956665, -0.5332725048065186, 1.2854633331298828, -3.6337249279022217, 11.017187118530273, -5.767535209655762, -2.8774216175079346, -8.061192512512207, 4.095047950744629, 3.8193957805633545, -12.480107307434082, 6.172801971435547, -0.3649006485939026, 1.5923033952713013, 3.9669365882873535, 3.442559003829956, -5.5116286277771, 8.34512996673584, 7.589581489562988, -4.260580062866211, -6.5991997718811035, -4.488152503967285, -3.6950531005859375, 6.60624885559082, 6.473524570465088, -6.781340599060059, -9.869770050048828, 7.611576080322266, -8.249258041381836, -8.969231605529785, 3.6417288780212402, -1.6190910339355469, -2.4995362758636475, 0.0453137569129467, -0.5105470418930054, 4.097815036773682, -0.22734414041042328, 7.5528364181518555, 7.062922477722168, -5.502888202667236, -6.22421932220459, -0.3659595847129822, -5.430907726287842, -0.672329306602478, -0.7312519550323486, -5.646025657653809, 0.5432949066162109, -8.628973007202148, -2.294618606567383, -4.801326274871826, -3.152730703353882, 4.106644153594971, 7.432159900665283, 12.396199226379395, -0.9674846529960632, 8.272859573364258, -5.949882984161377, 3.8612725734710693, -10.630969047546387, 5.337724685668945, -3.1395680904388428, 3.3475441932678223, 0.6291502714157104, 5.474931240081787, 2.883194923400879, -7.439554214477539, 5.723177433013916, 7.914796352386475, -7.79823637008667, 8.497447967529297, 9.020344734191895, -0.7846247553825378, -3.346029758453369, -4.296463966369629, 9.948845863342285, -3.8276045322418213, 6.910548210144043, 8.311853408813477, -0.4393902122974396, -8.591414451599121, -3.7656612396240234, 6.4699811935424805, 5.891014099121094, 9.816778182983398, -9.789533615112305, -3.850139856338501, -0.9591639041900635, -4.250359535217285, -5.439314365386963, -5.804520606994629, -1.76397705078125, 1.482327938079834, 7.877400875091553, 5.523533344268799, -3.8299412727355957, -12.328855514526367, 10.155922889709473, -7.141055583953857, 2.4140868186950684, -7.815164566040039, -2.490973472595215, 3.7385058403015137, -6.503199100494385, -12.974743843078613, -2.801454782485962, -7.9484429359436035, -5.3917670249938965, 8.061393737792969, -0.5399616956710815, -4.2849626541137695, 6.372066974639893, -2.5941975116729736, -11.87231731414795, 3.4557394981384277, 5.572793960571289, -0.370490163564682, 5.816083908081055, 9.700566291809082, 6.359739303588867, -4.796444416046143, -9.899701118469238, 5.266510486602783, -5.9227070808410645, 0.6488067507743835, 5.1973652839660645, 5.887828826904297, -0.9498876333236694, 6.556949138641357, 3.1811256408691406, -0.4041009843349457, 7.161149978637695, 13.64382266998291, 6.370947360992432, 6.316076278686523, 5.754459857940674, 4.189102649688721, 8.923008918762207, -6.286890506744385, 2.0999016761779785, 0.38200077414512634, -0.2853274941444397, -4.523874759674072, 8.661086082458496, 4.849386692047119, -1.926951289176941, 1.8700635433197021, -5.7471394538879395, 10.91303825378418, -6.097635746002197, -6.908684253692627, -4.920865535736084, 8.200937271118164, 0.4502827227115631, 5.347552299499512, -5.419922828674316, 3.295154094696045, 10.451942443847656, -10.225180625915527, 5.068656921386719, 9.288984298706055, -6.584980487823486, 8.154670715332031, 0.3807697296142578, 0.2914482355117798, -4.885338306427002, -5.755350589752197, -5.058439254760742, 4.314662456512451, 5.301901340484619, -5.680581092834473, 6.378001689910889, -6.536212921142578, -9.065093994140625, 10.136456489562988, -6.154117584228516, 5.552325248718262, 0.6463726758956909, -5.0910749435424805, -6.295650005340576, 4.754360198974609, -3.3117916584014893, 4.174005031585693, 1.6709474325180054, -1.9355460405349731, 8.242798805236816, 3.401568651199341, -1.843134880065918, 8.347640991210938, -6.375824451446533, -2.83569073677063, -5.5095415115356445, -3.16343092918396, 0.0009253271855413914, 6.878580570220947, 5.604416370391846, -12.91433048248291, 5.1942458152771, -10.805414199829102, -8.315940856933594, -5.712740421295166, -1.431067705154419, -4.221513271331787, -8.07443618774414, -13.906569480895996, 11.029373168945312, -7.528786659240723, 4.342046737670898, -0.30977851152420044, -6.132020950317383, 3.5564486980438232, -12.519044876098633, -5.664099216461182, 8.95025634765625, -5.671087741851807, -1.126320481300354, 5.6254191398620605, 4.9894843101501465, 0.6064667701721191, -3.3907830715179443, -6.256969451904297, -5.374001979827881, 1.0045002698898315, -6.973276138305664, 5.5821099281311035, 0.00885099545121193, -3.418250799179077, -2.1674704551696777, 4.319011688232422, -0.19892896711826324, 4.04428768157959, 9.03990650177002, -8.317872047424316, 9.13782787322998, 8.255327224731445, 5.098689079284668, -2.5670740604400635, -2.1042885780334473, 5.297307968139648, -9.484394073486328, 7.38659143447876, 6.749784469604492, 0.17764019966125488, 5.254071235656738, -5.8842926025390625, 8.346732139587402, -2.712658166885376, 4.161978244781494, 2.5983917713165283, 12.090109825134277, -5.77805757522583, -6.9942545890808105, 8.596763610839844, 4.993897438049316, -8.072158813476562, -1.2211402654647827, -10.918655395507812, -2.1040165424346924, -4.525816917419434, -3.9965953826904297, -6.260249614715576, -6.975203037261963, 3.2721219062805176, 10.584136009216309, -3.2990925312042236, -9.862296104431152, -3.0955750942230225, -8.630066871643066, 5.290879249572754, -4.866077899932861, -1.4773157835006714, 0.7210455536842346, -0.14647454023361206, 9.649559020996094, -6.946977615356445, 7.945995807647705, -8.309247016906738, 10.887776374816895, 0.9309618473052979, 0.785023033618927, 6.652536392211914, -7.338363170623779, -9.06519889831543, 10.613673210144043, 2.763835906982422, -6.704757213592529, 2.7618372440338135, -4.6931352615356445, -11.202948570251465, -0.10294775664806366, 6.69899320602417, -0.1372191160917282, 1.2508292198181152, 7.926174163818359, -10.497377395629883, -3.1733765602111816, 2.2096428871154785, -11.555570602416992, 4.7963056564331055, -6.640663146972656, -3.0450870990753174, -4.398377895355225, -6.085002422332764, -10.123193740844727, 4.807465553283691, 6.750487327575684, 3.8965277671813965, 5.30773401260376, -10.864449501037598, -5.372406959533691, 8.17575454711914, -1.8995707035064697, -7.901674747467041, 8.550318717956543, 2.563586711883545, -5.150019645690918, 6.821556091308594, -9.597450256347656, 2.5877182483673096, 4.464200973510742, 5.542402744293213, 10.186145782470703, 0.55443274974823, -5.526461601257324, 5.613020896911621, 8.317891120910645, -4.625786304473877, 0.33267146348953247, -7.0877532958984375, 0.6683136224746704, 2.0196547508239746, -11.930140495300293, 3.9977681636810303, 6.208470344543457, -4.847561836242676, 3.796067476272583, 0.017599988728761673, 8.020541191101074, -8.955041885375977, -0.25827446579933167, 7.822571754455566, 8.832168579101562, 6.476673126220703, 6.787631988525391, -3.792043685913086, -8.193251609802246, 0.8225075602531433, 10.700918197631836, 3.214956283569336, 7.863185882568359, 1.1003154516220093, 10.180157661437988, -1.0101938247680664, -3.3870978355407715, -6.626181125640869, 10.168608665466309, -5.925781726837158, -3.6629745960235596, 3.859861373901367, 10.733798027038574, -0.8800228834152222, 12.077383041381836, -2.1793746948242188, 9.788687705993652, -6.1559624671936035, -7.83945369720459, -11.167160987854004, -8.627772331237793, 6.253224849700928, 1.7475751638412476, 11.780292510986328, -0.3618260324001312, 6.523295879364014, 7.802311420440674, -4.245367050170898, 8.257380485534668, -0.6549025774002075, -2.6286611557006836, -7.965483665466309, 6.714443683624268, 8.39440631866455, 0.33792999386787415, -3.0187323093414307, 3.4818060398101807, 7.910583019256592, -6.129998207092285, -6.512168884277344, 13.946761131286621, -4.582340717315674, 1.973734736442566, -1.1074988842010498, 2.900416374206543, 3.2216129302978516, -4.188195705413818, -5.645516872406006, 7.463964939117432, -3.4590182304382324, 4.859373569488525, -1.7529453039169312, -6.578391075134277, 7.5229811668396, -9.584493637084961, -2.494241714477539, 4.238437652587891, 0.3537369966506958, -4.458973407745361, -3.848350763320923, -1.633885383605957, -11.644460678100586, -3.1717946529388428, -4.952634334564209, 6.885178565979004, 2.133495330810547, -6.697546482086182, 1.85745108127594, 1.9372056722640991, 5.516702651977539, -9.155823707580566, -12.265786170959473, -5.939088344573975, -0.9010922312736511, 4.862258434295654, 4.1391682624816895, 3.268463611602783, -0.6434109807014465, -1.7552623748779297, -7.752988815307617, 9.27066707611084, 4.7392778396606445, 6.412856101989746, -3.890484571456909, -11.803855895996094, 9.88272762298584, 2.4840893745422363, -8.323620796203613, -1.5530463457107544, 7.508899688720703, -6.259589195251465, 8.494956016540527, -4.7997612953186035, -5.064786911010742, -4.650923252105713, -9.515703201293945, -6.546420574188232, 2.131378650665283, 4.851753234863281, -8.367023468017578, -3.4204766750335693, -5.048962116241455, -6.606036186218262, -10.277582168579102, 6.138030529022217, -7.704865455627441, 9.112929344177246, 12.65522289276123, 5.4709553718566895, 0.12518996000289917, 10.717750549316406, -8.927079200744629, -0.7178452610969543, 6.023510932922363, 5.579138278961182, -8.84481143951416, 3.656418800354004, -2.144735097885132, -5.802459716796875, 11.242205619812012, 7.423909664154053, 4.051376819610596, 5.689626216888428, -0.77857506275177, 4.655052185058594, 1.1996362209320068, 9.543524742126465, -6.627868175506592, 8.221527099609375, -3.4617693424224854, -1.6605857610702515, 1.627380132675171, -9.382315635681152, -5.317506790161133, -7.929421424865723, 2.097378730773926, -1.9367951154708862, 10.016809463500977, -4.196746349334717, 4.634594440460205, 4.545194625854492, -5.694839954376221, 5.909329414367676, -7.856808185577393, 5.665933132171631, -0.8710871338844299, -6.87437629699707, -4.997926235198975, 0.3483562171459198, -7.9742045402526855, -10.374259948730469, -0.8143406510353088, -8.30732536315918, -8.191697120666504, -3.3750717639923096, -3.5655884742736816, -4.1181960105896, 4.368937015533447, 1.8330193758010864, 2.7513234615325928, -0.23693551123142242, -0.1909763216972351, -8.918902397155762, -9.236489295959473, 5.876443386077881, 6.375924587249756, -8.173133850097656, 1.7165369987487793, 4.732678413391113, 0.015099904499948025, -4.692298412322998, -7.198775291442871, 8.334942817687988, 7.562198638916016, 6.311802864074707, -11.184565544128418, -2.0599489212036133, 8.294097900390625, -1.210579514503479, -5.099491119384766, -7.31541109085083, 2.7721080780029297, 7.915670394897461, -11.357592582702637, 0.3119105398654938, 6.356123447418213, 5.881446361541748, -5.072756290435791, 2.0955841541290283, -3.3343889713287354, 3.6060214042663574, 6.869694709777832, 9.89645004272461, -9.599596977233887, -2.2469098567962646, 10.668404579162598, -9.869556427001953, 10.331732749938965, -4.107129096984863, 7.24401330947876, 2.543525457382202, 2.129462242126465, -11.377623558044434, -0.2941068708896637, -9.869003295898438, -0.07657737284898758, -3.044773578643799, 4.835576057434082, 5.862918853759766, -2.17574143409729, -8.138134956359863, -12.242147445678711, -3.5742180347442627, 0.22417791187763214, 11.711854934692383, 7.068687438964844, -3.7069945335388184, 5.0692458152771, -2.7409021854400635, -4.437189102172852, 7.186333656311035, 0.15479619801044464, -3.1724483966827393, 8.674057006835938, -9.913113594055176, -3.403167724609375, 4.912631511688232, -4.472536087036133, -7.596033573150635, -2.723257541656494, 5.468347072601318, 10.397565841674805, -2.0386552810668945, 5.688045978546143, 5.974401473999023, -4.14046049118042, 1.3125412464141846, 1.9750561714172363, -4.115477085113525, -6.884739398956299, 8.939652442932129, -0.3025192320346832, -2.5616254806518555, -13.514483451843262, -7.39150857925415, 10.390990257263184, -8.119264602661133, -9.727094650268555, 10.356507301330566, 6.572322845458984, 5.707279682159424, 2.798733949661255, 8.113749504089355, 2.752042531967163, 10.820062637329102, -4.934442520141602, 3.411691665649414, -5.1634111404418945, 5.566507816314697, -4.432719707489014, 7.327676773071289, 0.5470978021621704, 4.718604564666748, 2.881544828414917, -10.42992877960205, 4.393178939819336, -3.4403810501098633, 0.014425351284444332, 10.92920207977295, -1.7403558492660522, -5.015194416046143, -5.926867485046387, -2.207486152648926, 11.725105285644531, -6.686620235443115, -5.02521276473999, 3.566707134246826, 7.061922073364258, 7.095114707946777, 2.6719372272491455, -7.071377754211426, 5.018495559692383, -10.369283676147461, -4.6273064613342285, 11.864463806152344, -1.4195770025253296, 4.259130954742432, -4.2908501625061035, 7.9275431632995605, 1.4296897649765015, 7.693941593170166, 4.96004056930542, -8.918611526489258, 9.416611671447754, -9.69416618347168, 5.02834415435791, -11.66010570526123, 0.21263447403907776, -8.795228004455566, -3.832582950592041, -2.22922682762146, -1.006088137626648, 0.385966956615448, 7.236990451812744, 3.928440809249878, -9.184942245483398, -7.398508548736572, 4.954098224639893, -0.3267112970352173, 8.350987434387207, -7.357198715209961, 1.6305490732192993, -5.735645771026611, 6.097394943237305, 8.994068145751953, 12.144213676452637, -0.2127206176519394, -7.117180824279785, 7.991682529449463, 1.8005810976028442, -9.15379810333252, 7.857619285583496, -1.4989027976989746, 5.966612339019775, 8.560979843139648, -6.353016376495361, -4.398591041564941, 0.038706038147211075, -0.4991491436958313, -5.81466007232666, -0.03922415152192116, -9.448365211486816, 0.05486714467406273, 2.569072961807251, 10.84272289276123, 13.561232566833496, 7.641102313995361, 0.06479932367801666, 1.6058930158615112, 1.4915690422058105, 4.3772172927856445, -10.22171688079834, 9.065382957458496, 0.7464475631713867, -0.3038058578968048, 4.382999897003174, -1.5837029218673706, -1.8267934322357178, 0.10793259739875793, 4.543779373168945, -3.614021062850952, -5.181667804718018, -8.128556251525879, -0.721787691116333, -1.8453922271728516, 10.540481567382812, 1.2504044771194458, -2.8400230407714844, -8.75921630859375, -0.1265759915113449, 8.36863899230957, -4.661460876464844, -5.3124098777771, -3.767746686935425, -1.8905580043792725, 6.16796350479126, 7.657089710235596, -0.3848811089992523, -2.4672670364379883, 3.498932123184204, 10.500821113586426, -11.066439628601074, -2.1934380531311035, 1.4288796186447144, -4.854956150054932, 8.383099555969238, -8.783767700195312, -10.0458984375, -4.543631553649902, 3.054251194000244, -0.8996684551239014, 6.585481643676758, -6.024284839630127, -5.254823684692383, -11.094216346740723, -5.21190881729126, -2.5295886993408203, 9.483720779418945, 4.486937999725342, 2.154437780380249, -2.5793251991271973, 7.247424602508545, 6.852165222167969, 3.540604591369629, 0.6713661551475525, -9.204516410827637, -1.7721346616744995, -9.00342845916748, -2.6447317600250244, -9.904553413391113, -11.830124855041504, -0.22925247251987457, 4.96073579788208, -1.0635647773742676, -11.59182071685791, 7.054017543792725, -12.360626220703125, 3.5391039848327637, 10.907036781311035, -3.847440481185913, 3.6428780555725098, 8.612967491149902, -8.47423267364502, -10.183435440063477, 1.4459024667739868, -11.234898567199707, 2.9448721408843994, -9.65634822845459, -5.649475574493408, 4.228264331817627, 2.3031091690063477, 3.2544190883636475, -5.373904705047607, 3.590294599533081, -2.904787540435791, 5.392635822296143, -6.53673791885376, -4.230733871459961, -5.991237163543701, -6.91580057144165, 1.4699734449386597, -0.26620087027549744, 4.298048496246338, 10.432679176330566, -6.511554718017578, -4.41725492477417, -4.45619535446167, -9.376347541809082, -12.54456615447998, 7.9245734214782715, -11.275568962097168, -3.594350814819336, -7.474592208862305, 3.908308267593384, 9.70347785949707, 6.272510528564453, 2.601019859313965, -0.8641500473022461, -9.823375701904297, -0.8253509402275085, 5.504404544830322, 9.698973655700684, -4.021078586578369, 3.828037738800049, 0.7223603129386902, -11.611764907836914, -4.578278541564941, -3.880500316619873, 10.405289649963379, -0.9125508069992065, 3.2007246017456055, -6.906972408294678, -1.309943675994873, -6.283255100250244, -3.658367395401001, -8.80078125, 4.262105464935303, -4.360922813415527, -9.058120727539062, -1.328169345855713, -8.243581771850586, 3.5099048614501953, -0.2088417410850525, -7.0421223640441895, -4.530344009399414, -6.911474704742432, -5.097986698150635, 1.5959436893463135, 4.6229143142700195, -3.963880777359009, -11.523848533630371, -6.585452556610107, -11.22380256652832, -4.059422492980957, -5.120816230773926, -11.215729713439941, -9.883890151977539, -9.016141891479492, -6.657899856567383, -3.4304561614990234, -3.872999906539917, -4.506540298461914, 5.610797882080078, 5.957657814025879, -11.990058898925781, -7.7364115715026855, -2.650818109512329, 1.5911915302276611, 4.263858795166016, 3.8422701358795166, -6.028016567230225, -3.185696840286255, 8.734313011169434, -8.112305641174316, -8.777615547180176, 5.75183629989624, 1.0224084854125977, -4.907608985900879, -8.394828796386719, -5.522047996520996, -6.048312664031982, 8.315912246704102, 3.94378662109375, -2.4070675373077393, -9.76611328125, -2.3857767581939697, -9.997426986694336, 3.1259422302246094, -6.700565814971924, 7.063232421875, 4.585540771484375, -1.9469619989395142, -8.995920181274414, 8.727187156677246, 8.356643676757812, 1.7033467292785645, -10.02338695526123, -6.088276386260986, 8.717039108276367, 5.283668518066406, -0.5214169025421143, -1.4187532663345337, -0.8812976479530334, -4.864414215087891, -3.7303998470306396, 6.701031684875488, 0.17882633209228516, -1.9036916494369507, -3.485827684402466, 2.5544140338897705, 9.320082664489746, -1.0393942594528198, -0.13561944663524628, -3.1854302883148193, -1.752379298210144, -9.414907455444336, -0.02133483998477459, -3.9129750728607178, -1.964181661605835, 3.6940760612487793, -5.486082553863525, -5.319597244262695, -0.01241663470864296, 4.2927703857421875, -2.269033908843994, -1.0467946529388428, -10.441320419311523, 7.201943397521973, 3.054442882537842, -4.938483715057373, -2.6284806728363037, 6.335689544677734, -5.0845465660095215, -7.819978713989258, 2.719604015350342, 1.446280598640442, 3.886026620864868, -6.704313278198242, 0.422541081905365, -9.53436279296875, -4.870707988739014, -4.851019859313965, -6.709712982177734, -11.235844612121582, 9.241703987121582, -3.3893542289733887, -6.3958001136779785, 6.68717098236084, -5.290301322937012, 1.760963797569275, -11.568971633911133, -8.0095796585083, -2.9202818870544434, -7.4411139488220215, 7.587247371673584, 5.976670265197754, -10.216150283813477, 8.636222839355469, -4.958714962005615, 0.25969573855400085, -10.961130142211914, -4.212666034698486, -9.72109603881836, -2.787926435470581, -1.7519696950912476, 0.44674521684646606, 5.41817045211792, -10.087249755859375, 6.480823516845703, -10.251021385192871, 4.741826057434082, -6.115147590637207, -2.761547088623047, -2.479189395904541, 8.482746124267578, -0.145857572555542, 4.453390121459961, -1.1381171941757202, 1.1013193130493164, 10.288248062133789, 7.50176477432251, 3.935967206954956, 9.439824104309082, 8.372076988220215, 5.865396976470947, 12.460494995117188, 10.583580017089844, -10.652732849121094, 6.20463228225708, 3.6568150520324707, -0.4540084898471832, -2.4692745208740234, -9.208952903747559, -2.1996967792510986, -7.282090663909912, 8.39804458618164, 7.7047953605651855, -12.077165603637695, -10.660502433776855, -3.1995413303375244, 6.058455944061279, -4.050333023071289, -0.7584446668624878, -2.428670883178711, -7.410737037658691, -11.886099815368652, -3.2786903381347656, 8.76993465423584, 3.123483180999756, 0.3042553961277008, 8.35905647277832, 6.127679347991943, 9.417095184326172, 2.4210503101348877, 6.032859802246094, -5.082673072814941, 11.343070030212402, -2.9047069549560547, 5.029507160186768, 3.050342321395874, 6.187339782714844, 8.011175155639648, 6.661437034606934, -9.476042747497559, -1.0441243648529053, -6.826349258422852, -6.447758197784424, 6.83074426651001, -9.714564323425293, 5.97236967086792, -1.269868016242981, 3.3971190452575684, -5.101053714752197, -0.5956268310546875, -0.927740216255188, -4.256677150726318, -5.471118927001953, -11.069845199584961, 5.19508171081543, 7.82960844039917, -0.044325072318315506, 0.08381019532680511, 9.16909122467041, -3.6719024181365967, 0.5295593738555908, 1.1392344236373901, 0.4944806694984436, 7.143251895904541, 1.1790443658828735, 10.291328430175781, -0.5008347034454346, -2.383084297180176, -2.338481903076172, -6.333671569824219, 1.866949200630188, 0.2858966290950775, -6.090582370758057, -12.732855796813965, 10.02341365814209, -4.341999530792236, -0.47465914487838745, 6.576942443847656, 8.77517032623291, -0.029636967927217484, -9.83735179901123, 6.368758678436279, 10.505230903625488, -1.5101321935653687, -11.109780311584473, 1.4821776151657104, -2.8328874111175537, 0.8536314964294434, 7.919852256774902, 5.790439605712891, -1.2485201358795166, -1.0550166368484497, -2.9596340656280518, 10.709290504455566, -7.167636871337891, 0.23813489079475403, -5.706521034240723, 5.280205726623535, 8.703558921813965, 1.0282485485076904, -4.097523212432861, 5.064375877380371, -5.66801118850708, -10.145831108093262, -5.633675575256348, -3.305284261703491, -6.585543155670166, -7.108443737030029, -7.352290153503418, -5.1883955001831055, -0.9566635489463806, -2.5047764778137207, 0.3274754285812378, -0.8736221194267273, 3.0215296745300293, -10.250360488891602, 1.7512394189834595, 2.4047296047210693, -6.261377811431885, -10.996878623962402, 5.551429748535156, -5.943645477294922, -9.512648582458496, 10.053980827331543, -7.244930744171143, -11.767788887023926, 6.164212703704834, 1.050875186920166, 5.5218000411987305, 4.723994731903076, -1.272478699684143, 2.1475584506988525, 6.126675128936768, 7.182175636291504, 4.032809257507324, -1.3674755096435547, -5.77230978012085, -1.8468430042266846, -2.608194589614868, 13.645536422729492, -6.218098163604736, 1.150848388671875, -6.309848308563232, 7.1935248374938965, -4.44984769821167, -8.22559642791748, 6.708494663238525, 3.5780515670776367, 3.3343663215637207, 4.0428009033203125, 10.619996070861816, -4.6838765144348145, 9.547321319580078, -10.191100120544434, -5.107694149017334, 5.0475754737854, 3.4931061267852783, 1.151168704032898, 6.264886856079102, 5.570236682891846, 6.619107246398926, -2.007019519805908, -11.943747520446777, 1.0108457803726196, -10.114255905151367, 6.372931957244873, -5.132419109344482, 6.938850402832031, -6.302803039550781, 10.333575248718262, 3.9032468795776367, 6.273177146911621, -12.762706756591797, -7.516422748565674, -9.56214714050293, 5.608914375305176, -2.768725872039795, 3.0493714809417725, 6.268432140350342, 7.339019298553467, -8.478546142578125, 1.3700000047683716, 9.045356750488281, 2.6277801990509033, -0.4409278929233551, -2.7351131439208984, 5.470152378082275, -7.865636825561523, 10.549827575683594, 6.477515697479248, 6.587947368621826, -9.302629470825195, 7.244054317474365, -2.3122081756591797, 3.1952247619628906, -6.479732036590576, -5.155432224273682, 5.085714340209961, -8.90523624420166, -6.923830509185791, -4.618212699890137, -0.8430256843566895, -0.7959303259849548, -9.288796424865723, 2.902179479598999, -5.365695953369141, 2.335975408554077, 9.133100509643555, 3.432478189468384, -0.8769475817680359, 7.923498630523682, 0.9589982032775879, -5.309890270233154, 4.534981727600098, 8.374350547790527, 4.586117267608643, -5.942382335662842, 1.2871040105819702, -3.5385711193084717, 0.3923930823802948, -3.2535147666931152, 6.911042213439941, 8.011613845825195, -12.969653129577637, 6.178306579589844, -7.200992584228516, -11.42053508758545, -4.725024223327637, 7.140130043029785, 3.7494630813598633, 0.7124066352844238, 1.3693102598190308, 6.293163776397705, 2.385650873184204, 6.840211391448975, 4.63224458694458, 1.2750426530838013, 3.1004433631896973, -4.311975955963135, 6.178865909576416, -1.2522069215774536, -8.00847053527832, 0.5719249844551086, -1.7250298261642456, 2.7214207649230957, 8.493307113647461, -7.8943657875061035, -0.6649911999702454, 0.9998229146003723, 7.791847229003906, -3.136500835418701, -4.857299327850342, 9.406440734863281, 7.91570520401001, -9.981369018554688, -10.847612380981445, 4.775784492492676, -1.5938972234725952, -0.0011437302455306053, 8.691667556762695, 6.513052940368652, 2.4252138137817383, -5.042661190032959, 7.800338268280029, -5.051959037780762, 7.4037251472473145, 1.1964585781097412, 5.744175434112549, -11.856281280517578, -8.877388000488281, 8.044513702392578, -1.3559015989303589, -8.432732582092285, 3.1096649169921875, 6.63718843460083, 7.653017520904541, -2.0564727783203125, -8.281098365783691, -0.9941904544830322, -1.865815281867981, 5.019448757171631, 7.058238506317139, -5.08224630355835, -4.870119094848633, 6.062943458557129, 4.7441606521606445, 0.5998549461364746, -4.38904333114624, 2.1232688426971436, -10.575936317443848, 1.6741292476654053, -8.411811828613281, -0.5918062925338745, -4.232333183288574, 7.915243625640869, 7.2226080894470215, 0.07289531826972961, 7.15889310836792, 2.976759195327759, -11.61707592010498, -7.379483699798584, 7.774831295013428, 8.016718864440918, 6.254323959350586, -7.240598678588867, -0.6357284784317017, -9.519187927246094, 2.1982762813568115, -4.135305404663086, 0.4859665632247925, -1.686371088027954, 6.956727981567383, -3.3954532146453857, 6.063950538635254, -12.05272102355957, 6.216911315917969, -10.797497749328613, -0.13433106243610382, -4.3286519050598145, -3.4383127689361572, 12.425152778625488, -4.076694011688232, 7.475671768188477, 6.459855079650879, 0.0032603663858026266, 6.503452777862549, -3.7337746620178223, 12.563902854919434, -9.38026237487793, 3.308223247528076, 5.437725067138672, -1.3513792753219604, -0.5735291242599487, 2.648531436920166, -3.5509467124938965, 3.5966217517852783, 6.829738140106201, -2.0346641540527344, -2.225067138671875, -2.764028310775757, -2.703129768371582, 7.30721378326416, 5.629946708679199, -2.9683945178985596, -0.567954957485199, 6.785182952880859, -4.729733467102051, -10.599235534667969, -7.717320919036865, -1.0979013442993164, -9.131711959838867, -1.1544883251190186, 4.055919647216797, 6.541032791137695, 7.920302867889404, -11.515674591064453, -1.9890862703323364, 0.5985444188117981, -1.8506742715835571, -10.113332748413086, -3.2736566066741943, -8.778463363647461, 8.41515064239502, -8.435014724731445, -10.489875793457031, -3.2766029834747314, 11.948986053466797, -9.157445907592773, 1.8737084865570068, -3.1931862831115723, -8.65489673614502, 1.9571943283081055, 1.4419374465942383, -2.8019440174102783, -9.56678295135498, 0.9124501943588257, -1.1739195585250854, -6.800314426422119, -0.12303420901298523, 0.8088091015815735, 4.389652729034424, -3.2922298908233643, -0.8545888066291809, -4.638322830200195, -2.4574551582336426, -1.8863352537155151, 9.91237735748291, 6.229503154754639, -1.5966402292251587, -7.888120174407959, -3.4244561195373535, 6.910144329071045, -2.65415358543396, 2.0057148933410645, -3.466482639312744, 13.194629669189453, -0.9549850225448608, 7.584230899810791, -6.540865421295166, -9.840372085571289, 10.842116355895996, -0.16770939528942108, 5.534046649932861, -2.7246415615081787, 5.7986297607421875, -6.935493469238281, 6.588160514831543, 6.8124566078186035, 5.607085227966309, -7.097748756408691, -6.797179222106934, -0.8192570805549622, 8.81855297088623, 0.4877000153064728, -6.725632667541504, -6.409915924072266, -8.706101417541504, -5.1421966552734375, -7.766829490661621, 5.472105979919434, -8.697038650512695, 4.226434707641602, 0.5182015299797058, -1.3063749074935913, 2.896362781524658, 6.7423882484436035, 6.597085475921631, 0.5812377333641052, 3.9482827186584473, -6.436370849609375, 3.08730411529541, 1.1208089590072632, -1.6717071533203125, -2.987274646759033, 8.378707885742188, -4.368922233581543, 0.6150686144828796, 1.1357845067977905, 6.366384983062744, 6.373752593994141, 7.669557571411133, 7.413589954376221, -0.159898042678833, -7.025651454925537, 8.269383430480957, 3.2566909790039062, -8.095224380493164, -12.71674633026123, -3.9986279010772705, -5.184277057647705, 2.454538583755493, 7.589225769042969, 0.1815672069787979, 5.559323787689209, 13.812764167785645, -1.8011547327041626, 5.163197040557861, 6.410008430480957, -11.543745040893555, 2.743793487548828, -10.872330665588379, -4.96541690826416, -5.493530750274658, -3.559915781021118, 6.985157489776611, -1.3319389820098877, -6.800584316253662, 10.53275203704834, -3.701387405395508, 6.063005447387695, 1.301815152168274, 6.175528049468994, -6.349070072174072, -10.045160293579102, -11.806991577148438, 2.366868734359741, -0.35783323645591736, 0.37666240334510803, 0.09196243435144424, 4.106256008148193, 5.191203594207764, 4.993326187133789, -5.097023963928223, 4.391617298126221, -11.888641357421875, 8.58632755279541, 0.2320346087217331, -2.672499179840088, -8.366185188293457, -3.423818349838257, -0.7341606020927429, 10.834677696228027, 7.09909725189209, -5.336952209472656, -10.543304443359375, -5.507143020629883, 6.331499099731445, -2.4463279247283936, -1.3015421628952026, -10.862919807434082, 6.755302906036377, 6.460559368133545, 3.840998888015747, 3.1327145099639893, 0.5296247601509094, -3.738288164138794, -6.583371639251709, 4.614503860473633, 8.846281051635742, 8.252349853515625, 7.901739120483398, -1.8699854612350464, 5.996931552886963, -3.3261325359344482, -7.060619354248047, 3.244734764099121, 6.812984943389893, 4.359160423278809, -7.146486759185791, -3.5643374919891357, 6.448394775390625, 7.837030410766602, 5.422077178955078, -1.166488528251648, 7.965297698974609, -7.03059720993042, -2.709076166152954, -12.9954833984375, -7.300564289093018, 2.5172319412231445, -0.15668916702270508, 9.74142074584961, 3.117680788040161, 7.961193084716797, 3.0315496921539307, 7.662628650665283, -5.899676322937012, 7.265283584594727, -2.851736545562744, -9.6355619430542, -5.3890886306762695, 3.7866806983947754, -2.4216763973236084, 4.22304105758667, -3.4577720165252686, -4.802213191986084, 7.386899948120117, -3.0963687896728516, 6.105062961578369, 7.511153221130371, 0.44540897011756897, 2.571105480194092, 0.30647557973861694, -1.063645839691162, -5.8882269859313965, -5.927587032318115, 7.3658766746521, 2.598818063735962, -2.2772130966186523, 8.139235496520996, 6.555487155914307, 8.800675392150879, -5.48853874206543, -3.5250556468963623, 0.023919284343719482, 6.483016014099121, 4.70322847366333, -6.056272506713867, -2.6121575832366943, 5.7784271240234375, 4.500134468078613, 4.241448879241943, 4.528164863586426, -7.340487957000732, 1.3761117458343506, 7.803865909576416, -2.092759609222412, 5.654186248779297, -13.09167766571045, -9.812297821044922, 5.928689002990723, 2.820800304412842, -11.41394329071045, 5.953120231628418, 0.1153375431895256, 0.030152427032589912, 4.820414066314697, 8.325848579406738, -10.532204627990723, 12.676105499267578, 8.966533660888672, -0.5884711146354675, -10.669118881225586, 6.487062931060791, -1.2718926668167114, -9.781092643737793, 2.782296657562256, -7.384643077850342, 11.113661766052246, -2.5111501216888428, -8.49733829498291, 3.97046160697937, 10.85842514038086, 11.820414543151855, 3.364344596862793, 2.9692070484161377, 4.3364338874816895, 8.707640647888184, 7.281447887420654, 6.802553176879883, 4.287310600280762, -5.8980207443237305, -9.784581184387207, 7.394594192504883, 9.66980266571045, -8.440313339233398, 2.1886463165283203, -7.15521764755249, -10.090755462646484, 4.650689601898193, 3.4170584678649902, 5.339895248413086, 8.316638946533203, -2.5199222564697266, -1.5840504169464111, -10.368958473205566, -0.765316367149353, 10.17895221710205, -5.013038635253906, 4.521370887756348, 4.044515609741211, 0.22615639865398407, 0.9619115591049194, 7.350122928619385, -6.240871429443359, 11.42342758178711, 1.626481294631958, -6.483700275421143, -6.863050937652588, -4.960208892822266, 6.900658130645752, 1.9700849056243896, 6.311971664428711, -7.915741920471191, -2.189286470413208, 0.6964265704154968, 10.186088562011719, 0.4707578122615814, -3.1121931076049805, 4.2316203117370605, 5.814823150634766, -5.082805156707764, -11.279090881347656, 4.313741683959961, 11.892898559570312, 1.159319519996643, 12.15403938293457, -3.0795836448669434, 6.65358829498291, 8.907456398010254, -2.746593713760376, -10.56535816192627, 13.889801979064941, -0.18005497753620148, -5.757191181182861, -2.686579704284668, -1.266576886177063, -2.9079880714416504, 8.271075248718262, 4.67958927154541, 4.765369892120361, 1.5557047128677368, -8.390769004821777, -4.016871452331543, 1.9241902828216553, -1.1375024318695068, -5.658829212188721, 7.697154521942139, 5.049449443817139, 1.6602134704589844, -7.698983192443848, -11.173758506774902, 3.062847852706909, -0.03165531903505325, 7.50271463394165, 2.0828471183776855, -2.5095996856689453, -9.734306335449219, 0.2107001692056656, 5.2330427169799805, -8.921348571777344, -4.783732891082764, -0.49095624685287476, -9.551410675048828, -7.0392842292785645, -3.362313747406006, -3.9518229961395264, 8.89761734008789, 4.86333703994751, 0.9300968647003174, -1.893265724182129, 2.265946388244629, -0.5706669688224792, -1.4167319536209106, -2.528412342071533, -2.7814583778381348, 7.795446395874023, 7.577077388763428, 2.793656826019287, 10.622018814086914, -4.085085868835449, 5.735623836517334, -12.175583839416504, -7.6759514808654785, 8.453967094421387, 7.0762038230896, 3.5595364570617676, -3.979959487915039, -1.5824576616287231, 4.463165283203125, -9.253396987915039, 4.222283363342285, 3.041358709335327, -0.05884108319878578, -6.471246242523193, 0.45797786116600037, -1.572142243385315, -2.713569402694702, 9.031303405761719, 3.81377911567688, -8.200288772583008, 3.6323416233062744, 2.9592339992523193, -4.6516499519348145, 10.059274673461914, -5.182037830352783, -3.419004201889038, 0.8718927502632141, -3.271437883377075, -8.335246086120605, -0.029418647289276123, 7.9433488845825195, 0.62803053855896, 0.2812562584877014, -3.9074599742889404, 8.121850967407227, 0.9401865601539612, 8.580297470092773, 6.358254432678223, 12.49180793762207, 2.6220510005950928, 0.029051871970295906, 7.869348049163818, 2.59708833694458, 7.804309368133545, 3.568620443344116, 2.5134165287017822, 5.636159896850586, -7.867971420288086, 2.466547966003418, -1.2786736488342285, 3.3967721462249756, 1.6416476964950562, 0.34679779410362244, 3.97338604927063, 6.9929609298706055, -4.544880390167236, 4.54193639755249, -2.05753755569458, 5.212647438049316, 7.834846019744873, 9.873373031616211, 0.76640385389328, -8.112020492553711, -6.411977291107178, 10.36751651763916, -0.47172966599464417, 5.145031929016113, -7.404094696044922, 4.166971206665039, 6.232933521270752, -8.633735656738281, 0.4346049427986145, -5.4188032150268555, -5.284942150115967, 8.474156379699707, -1.1353613138198853, 6.326532363891602, -0.9462763667106628, -1.2632606029510498, 5.308013916015625, -1.8581953048706055, -7.779840469360352, -4.050876140594482, 8.429203987121582, 4.800705909729004, 6.341102123260498, -6.321996212005615, -3.628460645675659, -0.10349933803081512, -0.11308107525110245, -6.039800643920898, 8.337859153747559, 2.1723315715789795, -2.3944034576416016, -1.5635722875595093, 4.04991340637207, 4.980443954467773, 6.506162643432617, 8.093896865844727, 6.76727294921875, 10.357691764831543, -7.059847354888916, 2.6885762214660645, 1.7377513647079468, 4.992780685424805, 6.576637268066406, -2.190107822418213, -1.8417701721191406, -3.7541286945343018, 9.594974517822266, 8.53794002532959, -3.2124335765838623, 3.0414927005767822, -5.898730278015137, -7.110751628875732, -4.223693370819092, 3.8037285804748535, 4.7710113525390625, -11.009052276611328, -8.065905570983887, 4.5487494468688965, 6.785660266876221, 7.504324913024902, 7.141383171081543, -3.616122245788574, 5.749166011810303, -8.741628646850586, -10.597333908081055, -4.9593892097473145, -3.185447931289673, 9.318967819213867, 3.442713737487793, 11.355718612670898, 1.6457759141921997, 0.2835623025894165, 5.331943988800049, 1.6672632694244385, -7.4760003089904785, 8.859619140625, -1.4443907737731934, -3.8361854553222656, 7.987753868103027, 3.1809351444244385, -6.4360504150390625, 4.400653839111328, 12.499540328979492, -10.402036666870117, 0.44618016481399536, -0.23608723282814026, -10.68801212310791, 2.921159029006958, 1.5892295837402344, 10.216946601867676, -7.703705787658691, 6.268336296081543, 0.7938678860664368, 2.679042100906372, -4.663313388824463, 4.309702396392822, 1.1586040258407593, -11.666333198547363, 1.6805458068847656, 9.966419219970703, -0.10068121552467346, 6.771162509918213, 7.23624324798584, 8.356980323791504, 10.533553123474121, -3.7487525939941406, 11.599396705627441, 5.166580677032471, -5.087561130523682, -6.877708911895752, -0.17894995212554932, -4.7914347648620605, -3.194674015045166, 8.921801567077637, -8.668166160583496, -2.8207197189331055, -3.38165283203125, 2.1595795154571533, -4.817123889923096, -5.448203086853027, 5.190797805786133, -8.608651161193848, 1.7453504800796509, 5.777760028839111, -1.2001807689666748, 7.00031852722168, -5.443284034729004, 7.317639350891113, 0.593811571598053, -3.6808977127075195, -8.720528602600098, 7.984517574310303, 10.025040626525879, -2.588207960128784, 7.473946571350098, -9.569792747497559, -4.013096332550049, 5.907503128051758, -8.551165580749512, -3.517982244491577, -3.1034653186798096, -7.78560733795166, 6.60487699508667, 11.172168731689453, 6.711935520172119, -6.459595680236816, 6.828429698944092, -2.331364631652832, -0.6017543077468872, 2.005671977996826, 3.5911314487457275, -4.290114402770996, -1.8590400218963623, 6.000054836273193, -0.7788636088371277, -9.349681854248047, 3.841844081878662, 5.003633975982666, 3.2032737731933594, -1.4934916496276855, -4.246589660644531, 6.176567077636719, 10.893197059631348, 9.427814483642578, 3.9399726390838623, 5.6584954261779785, 1.6888649463653564, 1.5892995595932007, -9.397713661193848, -1.1195560693740845, -2.4715359210968018, -9.583589553833008, 3.6627941131591797, -0.812341034412384, -4.481595993041992, -0.7266194820404053, -0.21612317860126495, -2.2843375205993652, 7.818126201629639, 4.786679267883301, 8.365578651428223, 3.894538640975952, 6.744457244873047, -0.43491318821907043, -0.5300922393798828, 6.087696075439453, -1.998447299003601, -8.852431297302246, 4.340277671813965, -7.301899433135986, -5.051680564880371, 8.332192420959473, -5.234897613525391, 12.26197338104248, -8.240171432495117, -0.05933256819844246, 7.164999008178711, 12.237863540649414, -3.3479723930358887, 8.245567321777344, -12.689186096191406, 12.350475311279297, -3.873175621032715, -0.3281164765357971, -9.887054443359375, -3.542407751083374, -4.230116367340088, 6.8769989013671875, -6.3901753425598145, 8.797541618347168, 8.1605224609375, -5.0292205810546875, -3.417773723602295, 6.165999412536621, 7.4446892738342285, -6.990961074829102, 6.0168328285217285, -1.2417410612106323, 3.738424301147461, -1.070621132850647, -4.401886463165283, -1.2602723836898804, -9.698993682861328, 0.581774115562439, 6.950371265411377, 5.730659008026123, -3.079357385635376, 5.380385398864746, 12.255732536315918, 1.7471168041229248, 5.958123207092285, 12.017518997192383, -11.025365829467773, 7.550344467163086, 2.7370479106903076, 3.473268508911133, -5.818418025970459, 4.013099670410156, 5.958449840545654, 7.53985071182251, -7.6739702224731445, -5.115147590637207, 0.9296074509620667, 3.8748464584350586, -2.7603659629821777, -2.119436740875244, -2.81002140045166, 2.9666452407836914, -7.760263442993164, 0.2415991872549057, 10.390289306640625, -10.19013500213623, -4.535742282867432, 10.675480842590332, 0.1282145231962204, 5.9690985679626465, -2.8990437984466553, 9.03729248046875, 5.805785655975342, -4.338021278381348, 4.316518306732178, 3.462022542953491, -2.528648614883423, -4.816575050354004, 4.4572248458862305, -5.313150882720947, -2.2183549404144287, -1.0795539617538452, -10.046711921691895, 0.7660778164863586, 7.541518688201904, -9.032615661621094, 0.40137484669685364, 0.6943722367286682, -9.008759498596191, -8.102008819580078, -3.7419865131378174, -1.1452693939208984, -3.430853843688965, 3.018876075744629, 8.137894630432129, 1.3030695915222168, -10.352038383483887, -1.2780559062957764, 4.9453840255737305, 5.431640625, -9.663249969482422, -8.667740821838379, 3.6446127891540527, 6.596476078033447, 3.2954792976379395, -2.1312692165374756, 3.3177788257598877, -1.545702576637268, 0.4102479815483093, -10.350371360778809, -0.35797247290611267, -5.5629191398620605, -0.3383655250072479, -3.5849366188049316, -5.3517842292785645, 3.425967216491699, -4.009478569030762, 3.4041969776153564, 5.502228260040283, 6.3323187828063965, -0.38963156938552856, -4.904263019561768, 2.5261056423187256, 7.368987083435059, -5.366718769073486, 8.125377655029297, -3.250415563583374, -5.720718860626221, 3.703258752822876, 5.209356307983398, 10.08804988861084, -6.961073398590088, -3.4001355171203613, -9.772854804992676, 7.415219783782959, -4.646553039550781, -2.4081149101257324, 7.383114337921143, 7.87557315826416, -5.484700679779053, 6.20589017868042, -2.4220547676086426, -6.769952297210693, 6.915014266967773, 9.921998977661133, 7.364866256713867, -11.749582290649414, -7.92253303527832, 6.140028953552246, -8.939309120178223, -6.688386917114258, 8.831393241882324, -0.41068387031555176, 5.487824440002441, -4.9236531257629395, -8.817455291748047, 7.486105918884277, 10.55679702758789, -9.885345458984375, 2.9397149085998535, 3.3223721981048584, 6.496121883392334, 5.2310991287231445, 8.628183364868164, 3.343183755874634, 7.522618293762207, 3.1584253311157227, -7.3491291999816895, -11.827978134155273, 3.1824071407318115, -3.227039337158203, 7.231066703796387, -2.2447545528411865, 7.050337314605713, 3.1144890785217285, -1.2945722341537476, -5.955676078796387, 1.1633310317993164, -2.473090410232544, -3.932796001434326, 1.9374817609786987, 4.018512725830078, 12.782505989074707, -0.7559367418289185, 0.1816408336162567, -4.066318511962891, 8.395174026489258, 4.807487964630127, 8.805005073547363, 11.03441333770752, -0.07158089429140091, 3.5966851711273193, 8.912406921386719, 5.851817607879639, -4.66453742980957, 5.5372772216796875, -8.236844062805176, 0.8054172396659851, -4.5984344482421875, 3.3110785484313965, 8.620416641235352, 6.572396278381348, -7.754733562469482, -10.728135108947754, -9.56027889251709, 0.36628326773643494, -1.161834716796875, 3.554680109024048, 1.5348423719406128, -3.3813045024871826, -2.0609946250915527, -1.5567569732666016, -8.728099822998047, 3.8397555351257324, -2.553720712661743, -8.157614707946777, -9.047420501708984, 0.009513364173471928, -2.920044183731079, 10.608799934387207, 5.018214702606201, -3.1259610652923584, 8.241344451904297, -3.9429097175598145, 1.3686883449554443, -6.462152481079102, 10.716083526611328, -0.9260357618331909, -8.839007377624512, 11.590765953063965, -9.12322998046875, 2.3135502338409424, -4.073443412780762, 3.3523364067077637, -3.954767942428589, 5.553233623504639, 5.178118705749512, 7.089096546173096, -0.9587641358375549, -5.242829322814941, 8.454652786254883, 3.667792797088623, -8.897302627563477, 8.116413116455078, -8.97571849822998, 8.814628601074219, -3.4364757537841797, 5.978204727172852, 3.3792078495025635, -3.571859836578369, -3.9984207153320312, -2.350773811340332, 2.699059247970581, 4.199383735656738, 0.03933166339993477, 7.147430419921875, -6.72710657119751, -10.541269302368164, 4.23715353012085, 0.09519938379526138, -7.6561737060546875, -8.80366039276123, 2.949880599975586, 0.10135281831026077, 5.781604766845703, -1.4551701545715332, -4.596366882324219, 6.345957279205322, -8.319080352783203, -10.024859428405762, -2.7303755283355713, 1.0285117626190186, -0.3578997850418091, 6.221076011657715, -0.8786888122558594, -3.660691738128662, -0.24884997308254242, 1.5801695585250854, 5.5817131996154785, 11.290251731872559, -6.726152420043945, 2.2959234714508057, 3.1749000549316406, -3.344705581665039, 3.702141761779785, 7.469014644622803, -10.113333702087402, 9.274169921875, 4.110561847686768, -5.115509510040283, -5.962540149688721, -5.49461030960083, -6.188797950744629, -1.4910705089569092, -4.733291149139404, 3.7848081588745117, -4.442748546600342, -8.95174503326416, 7.205358028411865, 1.193396806716919, 3.110893726348877, 1.2521209716796875, 6.414242744445801, -6.264347076416016, -0.8514618873596191, -7.54078483581543, 9.173429489135742, 5.24194860458374, 1.8207058906555176, 3.7453067302703857, -0.5502263307571411, 0.6728663444519043, 4.651733875274658, 4.427175045013428, -9.28320026397705, -6.0773091316223145, 6.1163506507873535, 7.547407150268555, 7.115606784820557, 5.102750301361084, -8.734591484069824, 8.262237548828125, -4.451140880584717, -6.340333461761475, -3.4069178104400635, -4.5251922607421875, 10.19145393371582, -1.0342891216278076, 0.13644513487815857, -8.021750450134277, -4.790396213531494, -6.595386028289795, 5.749545574188232, 5.776557445526123, 11.28475570678711, 10.37881851196289, 4.64312219619751, -2.3469114303588867, 1.574541687965393, 2.9516499042510986, -11.478703498840332, 10.035286903381348, 0.3683600425720215, -5.957711219787598, 0.7351734042167664, 6.694022178649902, 10.471155166625977, 5.776612758636475, -3.4592957496643066, 11.426525115966797, -5.966399192810059, 5.011653900146484, -5.632040500640869, -8.754414558410645, 6.412275791168213, 2.4491753578186035, 6.180278778076172, -0.42278555035591125, -2.616870880126953, -5.168004035949707, -5.141051769256592, 0.22909267246723175, 0.6823269724845886, 3.0494368076324463, 8.087119102478027, -5.986178874969482, 7.515746593475342, 4.162206649780273, -8.95941162109375, -2.7757081985473633, -7.748457908630371, 6.224430084228516, 5.017582416534424, 5.837158203125, 0.6389180421829224, 6.380891799926758, 0.29977524280548096, -4.932286262512207, -4.409934043884277, 5.9689040184021, -5.706960678100586, 1.5667742490768433, 6.703303813934326, -4.913637161254883, -3.30128812789917, 3.6506998538970947, -9.424174308776855, -10.02477741241455, 3.917693614959717, 3.6452229022979736, -0.2081775963306427, 4.746556758880615, 5.510298252105713, -5.692407131195068, 6.053344249725342, 7.290860652923584, 6.552125453948975, -2.433962345123291, -2.0600602626800537, -11.033313751220703, 0.5563452243804932, 0.24900420010089874, -12.685394287109375, 2.93424391746521, 2.723749876022339, -6.160482406616211, 6.384117126464844, -1.7944194078445435, 1.3513329029083252, 4.1877970695495605, -10.167436599731445, 1.1562927961349487, -6.538464069366455, 2.912358283996582, 2.560410976409912, 0.9208943247795105, -8.835450172424316, -2.199375867843628, -0.012220853939652443, 0.7919925451278687, 8.198525428771973, -2.284226655960083, -8.518282890319824, 6.7009992599487305, -3.2374231815338135, 4.256547451019287, 3.8243536949157715, -6.716012477874756, 0.5014413595199585, 1.1333608627319336, 6.603696823120117, 0.1689920574426651, 0.6664916276931763, -0.4040125608444214, 5.392083644866943, -5.927615165710449, -1.6725573539733887, -6.322531223297119, -5.104803562164307, -3.3891868591308594, -3.007310390472412, 8.896895408630371, 4.932557106018066, -4.604345321655273, 7.324324607849121, 1.0842599868774414, 4.683194637298584, 7.8593902587890625, -6.870602607727051, -4.89208984375, -1.8125499486923218, -5.758803844451904, 5.0193705558776855, -1.2042944431304932, 9.444610595703125, -3.8503611087799072, -3.537210464477539, -8.351421356201172, -10.036555290222168, 3.701049327850342, 8.441315650939941, 5.112689018249512, 10.589788436889648, 0.46491917967796326, 3.000852346420288, 4.853128910064697, -2.7523977756500244, -11.602269172668457, -6.490151882171631, 3.5064151287078857, 9.127466201782227, 0.25248852372169495, 7.146307945251465, 7.76656436920166, 0.5003669261932373, 0.718583881855011, 6.543783664703369, -4.5919880867004395, -5.233675479888916, 1.5341380834579468, -9.71463680267334, 6.460649490356445, -7.081021785736084, -4.232569217681885, 3.604200839996338, -5.426713466644287, -12.710598945617676, 3.9432268142700195, 6.105596542358398, 3.532132625579834, -5.897761344909668, -8.291231155395508, -0.9605951905250549, -8.258977890014648, 6.527886867523193, -4.275917053222656, -2.62536883354187, -2.7580506801605225, -2.6125903129577637, -9.62243938446045, -1.2643612623214722, -12.377397537231445, 2.119460105895996, -3.217212200164795, -6.316592693328857, 2.4970345497131348, -12.569446563720703, 10.325024604797363, 11.030754089355469, -8.162191390991211, 4.711327075958252, -2.8203563690185547, -5.952067852020264, 0.4550909101963043, 7.164710998535156, -3.629692316055298, -2.2479915618896484, 5.962138652801514, 4.537577152252197, -12.273378372192383, 8.076530456542969, -4.678350925445557, -0.8032774925231934, 7.154603958129883, -8.357379913330078, -1.7172492742538452, 5.517843723297119, -5.147826671600342, 8.057458877563477, 2.0997061729431152, -5.941609859466553, 6.611189842224121, 8.683415412902832, 0.44411182403564453, 6.485685348510742, -6.982747554779053, 2.759721279144287, -6.979180812835693, 7.343461513519287, 4.977555751800537, 2.4349024295806885, -1.1208535432815552, -10.53173542022705, -11.261631965637207, -6.4498395919799805, 11.744200706481934, -2.2598140239715576, -7.175543308258057, -4.433444499969482, 3.342076063156128, 7.025586128234863, 5.811489105224609, 9.231618881225586, -1.7117666006088257, -2.2406277656555176, 2.2417514324188232, -4.039112091064453, 7.895601272583008, 1.8900901079177856, -8.767873764038086, -0.15798386931419373, -5.332249641418457, -5.655030250549316, -5.092074394226074, -10.985827445983887, -2.4820735454559326, 4.744340419769287, 0.9222458600997925, 2.824714422225952, -3.676300525665283, 3.5580356121063232, -2.512718439102173, 5.140454292297363, -5.417189598083496, -5.4781904220581055, -5.538217067718506, 5.465937614440918, -1.0201681852340698, -8.6455717086792, 8.306471824645996, -2.5066232681274414, -5.87747049331665, 10.218178749084473, 1.765384554862976, 2.3359575271606445, 0.16442778706550598, 3.4711978435516357, -4.8740715980529785, 7.299741268157959, 13.63446044921875, -0.2062654048204422, 9.247440338134766, -4.79917049407959, 5.79566764831543, -3.0705645084381104, -2.0414347648620605, 2.752556085586548, -3.3058319091796875, 6.532252788543701, 8.368428230285645, 9.710000038146973, 0.6860523819923401, 0.7353438138961792, 3.115821599960327, -6.972217082977295, 0.6847774982452393, 3.253884792327881, 4.686770915985107, -4.695159912109375, -9.735939979553223, -10.548629760742188, 8.675833702087402, 1.0121593475341797, -1.0284079313278198, -8.822893142700195, -3.3573107719421387, 3.1662511825561523, -3.813516855239868, 3.829237937927246, -1.2772897481918335, 3.4704253673553467, 12.18177604675293, 9.661147117614746, -5.524231910705566, 0.698251485824585, 5.410398483276367, -1.3540198802947998, -3.9942967891693115, 2.0936174392700195, -11.615460395812988, 4.073465347290039, 6.005363941192627, 0.21867676079273224, -3.4586620330810547, -5.057101726531982, -5.555490016937256, 5.823544502258301, 9.713456153869629, -1.6469069719314575, -7.053614616394043, -6.072823524475098, -2.159557342529297, -5.131136894226074, -6.634236812591553, 3.926069974899292, 9.034486770629883, -11.07425594329834, -2.104936122894287, 0.7091111540794373, -0.3056200444698334, 5.999875545501709, -6.800255298614502, -12.716095924377441, -2.1146934032440186, -9.10437297821045, -3.006509780883789, -6.002956390380859, 0.3427984118461609, -4.192866325378418, 5.964470386505127, -5.525006294250488, -6.7526984214782715, 2.0640292167663574, -1.390067219734192, 12.524406433105469, -5.4579057693481445, -5.273465156555176, -0.963645875453949, -0.1776268482208252, -3.6077170372009277, 8.172687530517578, -5.986586570739746, -11.821038246154785, 14.431375503540039, -6.886811256408691, -0.03478164225816727, 3.742753028869629, 1.2682254314422607, -2.7595784664154053, 0.6153832077980042, -8.73888874053955, -11.507368087768555, -6.398674964904785, 11.994935989379883, -10.46595287322998, -4.090529441833496, -5.070407390594482, 4.257274150848389, -3.5926010608673096, -2.2801384925842285, -5.447929859161377, 6.680984973907471, -8.38608455657959, -3.1884829998016357, 2.2051005363464355, 0.27971023321151733, -4.0742692947387695, -5.706567287445068, -5.042922019958496, -4.9106059074401855, 4.5798020362854, 5.405935764312744, -0.7852485179901123, 0.06480475515127182, 1.587844729423523, 7.6641764640808105, -4.222838401794434, -5.496877193450928, -11.492660522460938, -0.41272637248039246, -5.865298271179199, -8.151541709899902, 0.9944484829902649, 5.743210315704346, 8.317423820495605, -1.010642647743225, -6.467149257659912, 0.6392996907234192, 0.2685932219028473, 3.0776612758636475, -7.493575096130371, -6.323270797729492, -6.272986888885498, 3.860576629638672, 5.609524726867676, 7.972257137298584, 8.055337905883789, -2.9324710369110107, 5.437191486358643, 7.9810967445373535, -1.3569039106369019, -4.795403957366943, 1.121719479560852, -6.904256820678711, 3.886474370956421, 0.3357279896736145, -4.873650550842285, 4.223801612854004, 6.250247478485107, 0.16093166172504425, 4.874159812927246, -12.070691108703613, 6.590200424194336, 3.5287485122680664, -2.3927459716796875, -1.951683759689331, -0.018615975975990295, 4.02305269241333, -4.314265727996826, 0.4034348726272583, 6.8262858390808105, -2.642508029937744, 4.0862345695495605, -9.98134708404541, 2.624493360519409, 2.3542041778564453, 6.3034234046936035, -3.2082114219665527, 4.766505718231201, 5.344705581665039, 1.9440616369247437, 11.383233070373535, 3.5146164894104004, 6.528536319732666, 6.32352352142334, 0.5807226300239563, 3.8793609142303467, 11.74881649017334, 4.609257221221924, -3.8786463737487793, 9.055784225463867, -5.199918746948242, -5.3692755699157715, 2.7742092609405518, 6.783884048461914, 5.852757453918457, -1.798818588256836, -0.14863188564777374, -6.642666816711426, -4.536177158355713, -2.720546007156372, 6.133080959320068, -2.2163186073303223, -9.875672340393066, 0.8420162200927734, 9.670690536499023, -1.1956617832183838, 7.478521347045898, 3.832109212875366, 8.08294677734375, 5.438153266906738, -10.648316383361816, 2.997663974761963, -0.0041976794600486755, -7.008877277374268, -3.9343528747558594, -7.3561859130859375, -5.829227924346924, 6.0969953536987305, -2.46380615234375, -3.1678338050842285, 4.483864784240723, -5.292102813720703, -8.462018966674805, 8.153904914855957, 7.707074165344238, 6.989561080932617, 0.5075454711914062, -1.269195318222046, -7.9493842124938965, 6.810746669769287, 4.471776962280273, 5.4666547775268555, -9.74052906036377, 5.182621002197266, 5.011882305145264, -4.12473726272583, 0.5622962117195129, -3.367676019668579, -8.895004272460938, -4.013710975646973, 0.5047813653945923, -8.742941856384277, 5.095734119415283, -0.470878541469574, -3.3835084438323975, 1.878297209739685, -1.9997361898422241, -9.311819076538086, -2.3057897090911865, -5.535641193389893, 0.1026981994509697, -5.875605583190918, -5.273813247680664, -2.0333142280578613, 6.509311676025391, -7.164769172668457, -0.6693922281265259, -11.993227005004883, 8.574913024902344, -2.5515811443328857, 8.35750675201416, 4.332162857055664, 6.698322296142578, 2.33398175239563, 6.484715461730957, -0.05957472696900368, -4.789249420166016, -8.709630012512207, -5.767691135406494, -8.118033409118652, 9.154671669006348, 3.315817356109619, -7.415596961975098, 5.14674186706543, -11.857110023498535, -5.0827250480651855, 5.538949489593506, 1.0411163568496704, -0.2359628528356552, 7.611550807952881, 6.933371067047119, 2.2477595806121826, 6.908432960510254, 4.47047758102417, -0.47377288341522217, -0.7046390771865845, 3.3113131523132324, 1.767460823059082, -9.853752136230469, -2.9420292377471924, 5.94619083404541, -1.4142602682113647, -1.8997024297714233, 5.357268333435059, 8.516318321228027, 0.022732188925147057, 4.215087413787842, -0.5726993083953857, 0.729387104511261, 6.113301753997803, 1.6002260446548462, 3.704782485961914, 5.966965675354004, -5.084597110748291, -7.474312782287598, -0.8665497303009033, 0.34781262278556824, -6.659629821777344, -3.1440036296844482, 6.538900375366211, 4.196164608001709, -8.99970817565918, -4.673025131225586, 2.7095088958740234, -5.934080600738525, -8.971908569335938, -6.716623306274414, 0.19930090010166168, -10.917584419250488, -1.1735143661499023, 8.292585372924805, 9.165912628173828, -3.3877339363098145, -3.589740514755249, 1.1218701601028442, 8.99262523651123, -2.5585532188415527, -12.594339370727539, -4.245569705963135], \"z\": [3.6553902626037598, -10.366868019104004, -0.13583490252494812, 1.9572474956512451, -1.5124458074569702, 4.378955841064453, -9.502189636230469, 5.682467460632324, -8.397305488586426, -4.617405891418457, -7.159353733062744, 0.2734626531600952, 8.438375473022461, 3.319282054901123, 7.169154167175293, 7.588397026062012, 2.9480011463165283, 3.3055479526519775, 5.276421546936035, -8.825542449951172, 0.5850149989128113, 0.7966770529747009, -5.612559795379639, -4.14599084854126, -2.4224703311920166, 4.105538845062256, 2.498549222946167, 4.494666576385498, 5.355709552764893, -9.351000785827637, 9.005152702331543, 2.5003840923309326, -4.26883602142334, 4.90000581741333, -2.265204668045044, 2.3243484497070312, -3.9950554370880127, -0.4981818199157715, 7.53239631652832, -4.8753204345703125, 5.864491939544678, -0.12487915903329849, 5.841603755950928, -4.08845329284668, -0.8922436237335205, 5.9020819664001465, 4.367659091949463, -3.886427402496338, 3.3537919521331787, -10.357512474060059, -7.70644474029541, -5.033311367034912, -8.725845336914062, 0.623374879360199, 8.056337356567383, 7.866934776306152, -5.86912727355957, 7.092765808105469, 8.028037071228027, 4.299370765686035, 7.026185035705566, 1.3720065355300903, -11.928766250610352, 1.4639910459518433, 0.4294337332248688, 5.490166664123535, -12.851820945739746, -5.2589111328125, 4.319136619567871, 0.0970848947763443, -5.737853050231934, 4.292064189910889, -6.771212577819824, 0.8929224610328674, 2.2673909664154053, 5.847622394561768, 2.7541980743408203, 6.278223991394043, 7.957776069641113, -5.389090061187744, 2.9975104331970215, 3.9093143939971924, 3.038774251937866, -4.045024871826172, -2.379713773727417, 2.258291721343994, -3.5291709899902344, 3.166416883468628, -3.2314612865448, -4.059841632843018, 1.766299843788147, 8.141744613647461, 9.737730026245117, 9.725266456604004, 1.527133822441101, -4.4001970291137695, 6.5860137939453125, 12.395757675170898, 9.917802810668945, 4.920168876647949, 6.584920406341553, 1.3422272205352783, -5.843170642852783, 7.722659587860107, 6.5751495361328125, 7.393271446228027, -7.095239639282227, 0.05431476980447769, -3.90714430809021, -1.3994590044021606, 13.49866771697998, -4.086461067199707, -6.675817012786865, -3.0213890075683594, -2.4398581981658936, 2.4844515323638916, 3.407123565673828, -1.992283582687378, 6.320436954498291, 5.235734939575195, -4.515476226806641, -3.729480504989624, 3.8179216384887695, 4.753354549407959, 3.2180233001708984, -2.9566729068756104, 2.4374005794525146, -9.669968605041504, 7.187486171722412, 4.619802951812744, 4.6725263595581055, 11.928627014160156, -2.4065287113189697, 8.79336929321289, -3.3589179515838623, 9.725866317749023, 12.90512466430664, -10.59454345703125, 3.601125955581665, 8.107931137084961, -6.420116901397705, 8.167582511901855, -8.143521308898926, -1.4342360496520996, -1.0599161386489868, -0.48812049627304077, 7.1940083503723145, -0.27382737398147583, 2.412198066711426, 2.368605613708496, -5.551771640777588, -4.8423590660095215, -0.843687891960144, 8.058785438537598, 0.7569121718406677, 0.48315709829330444, -3.845896005630493, -0.35265907645225525, 5.798108100891113, 0.5550001263618469, 3.1704342365264893, 8.644360542297363, -0.03200836852192879, -8.686513900756836, -6.252939224243164, -3.839625358581543, 0.07566127181053162, 4.868861675262451, 2.397491216659546, 0.7681901454925537, -4.426208019256592, 4.525052547454834, -6.1447038650512695, -6.053427696228027, 0.5501313805580139, 5.803168773651123, -10.393413543701172, 2.9339730739593506, 5.172684192657471, -3.7154834270477295, 2.4288859367370605, 10.58934497833252, -5.7441630363464355, 3.452923059463501, 4.597564220428467, -8.942989349365234, 3.76829195022583, -0.9696326851844788, -12.461921691894531, -11.555182456970215, -2.514575481414795, 7.807535171508789, 5.1960272789001465, 3.3263561725616455, 5.761405944824219, -2.248971939086914, -8.372407913208008, -3.6237809658050537, -6.642382621765137, 10.389348030090332, 4.673828125, 4.065406799316406, -1.2258410453796387, -2.921880006790161, 0.12097842246294022, -1.7283037900924683, -12.865954399108887, -0.6656380295753479, -11.564614295959473, 0.6114988923072815, -10.962255477905273, -10.318499565124512, -3.168203592300415, 1.496238350868225, -2.7626805305480957, -1.3524643182754517, 12.678658485412598, -2.5587050914764404, 11.012608528137207, 0.19878794252872467, 11.59341049194336, -3.2950682640075684, 5.038496017456055, 1.688236951828003, 4.494931697845459, 2.109163522720337, -4.006157875061035, -8.666196823120117, 1.2665053606033325, 2.2909703254699707, 7.679835796356201, 2.5629889965057373, -11.061074256896973, -0.7351219058036804, 1.3956410884857178, -8.29746150970459, -8.648835182189941, 3.191051483154297, -13.317405700683594, 6.84778356552124, 5.548698902130127, -0.3418591320514679, -0.5932103991508484, -2.1692283153533936, -1.7825846672058105, 4.680642604827881, 0.24322940409183502, -0.5883559584617615, -12.512182235717773, -3.108560800552368, -1.6411596536636353, 5.91931676864624, 6.980649471282959, -11.33635425567627, 7.1860551834106445, 3.7799863815307617, 3.3023874759674072, -3.281569719314575, 5.735888957977295, 8.490595817565918, 13.123603820800781, -6.107673645019531, -5.987842082977295, 4.848862171173096, -10.216517448425293, -6.818613052368164, 0.5446491837501526, 5.355173110961914, -8.627039909362793, 6.423563003540039, 4.52948522567749, 2.270493507385254, 1.5575908422470093, 8.061482429504395, 9.0121488571167, -9.650453567504883, -2.6004629135131836, 5.883775234222412, -6.669569969177246, -3.0205931663513184, -0.9523485898971558, -2.0457303524017334, 7.196478366851807, 10.791579246520996, -12.844916343688965, 4.520275592803955, 6.378958225250244, -2.2624285221099854, -1.0045106410980225, -1.635748267173767, 11.813807487487793, 11.287010192871094, -9.729951858520508, 13.333320617675781, -4.7816386222839355, 5.924539089202881, 1.8666387796401978, -4.358978748321533, 7.632504463195801, 6.4778337478637695, 4.433024883270264, 1.523897647857666, 3.2003984451293945, -12.089465141296387, -11.723198890686035, -5.471969127655029, 6.2374162673950195, -4.242212772369385, 8.195576667785645, -5.84652042388916, -8.807263374328613, -3.365605115890503, 9.62026309967041, 4.345741271972656, 1.0544737577438354, -5.760962963104248, -9.744983673095703, 12.824152946472168, 7.907785415649414, 12.004279136657715, -0.5399592518806458, -6.284435272216797, -11.1395263671875, -3.072676420211792, 0.11231238394975662, -0.07874687761068344, -5.198134422302246, 3.6138603687286377, 4.868709087371826, 0.508050799369812, 0.6872812509536743, 11.818062782287598, 0.720366895198822, -4.312371253967285, -6.456363201141357, 3.869357109069824, 6.160676002502441, 2.696059226989746, -10.004322052001953, -9.365549087524414, 3.7524781227111816, 5.658662796020508, -10.708904266357422, 7.283431529998779, 7.55877161026001, 0.3780413269996643, -4.079387664794922, 4.7583513259887695, 8.566579818725586, 12.890878677368164, 7.172238826751709, -2.0061802864074707, -1.579774260520935, 0.521956205368042, -5.617415428161621, 6.719833850860596, 7.653429985046387, -3.2884347438812256, -11.728246688842773, 2.1336305141448975, -4.780063152313232, 2.2076265811920166, 1.1097835302352905, -7.668820858001709, 5.148279190063477, -10.781529426574707, 7.275883674621582, -5.6409149169921875, 4.2272467613220215, -4.649290084838867, 5.863000869750977, -0.2908569574356079, 6.783574104309082, 6.429800987243652, 9.68998908996582, 5.910506725311279, -5.335537433624268, -12.645076751708984, -10.450653076171875, 0.01878792978823185, 3.121633529663086, 9.840551376342773, 4.030368804931641, -5.652584075927734, -2.9236323833465576, -1.7337591648101807, 6.9912309646606445, 3.968770742416382, 1.4988497495651245, 7.646288871765137, -9.371475219726562, 1.4161146879196167, -5.1042327880859375, 0.7991042137145996, 6.855001449584961, 6.221039772033691, 5.154058456420898, 0.7199975252151489, -5.906416893005371, 3.7267630100250244, -6.336555480957031, -1.8490475416183472, 10.369170188903809, 0.5199441313743591, -5.7507805824279785, 0.5129315257072449, 5.105615615844727, 1.3886398077011108, -0.2597779631614685, 7.831324100494385, 2.3780014514923096, -3.6550822257995605, 0.08566520363092422, -9.76879596710205, 8.358777046203613, -4.847869873046875, 0.38029852509498596, 7.042873382568359, 0.2885608375072479, 4.835821151733398, 1.2709126472473145, 11.650050163269043, -2.974109649658203, 4.9812541007995605, 2.8087122440338135, -10.326866149902344, 5.000087261199951, 2.234046220779419, -7.181063652038574, 6.42277193069458, -0.2545495927333832, 12.744340896606445, -4.295805931091309, 4.370381832122803, -8.646772384643555, 6.435172080993652, -0.9479205012321472, 5.933199405670166, -4.113225936889648, 3.1897354125976562, -10.335443496704102, 5.473958969116211, -4.483490943908691, 4.47018575668335, 3.5249509811401367, -12.395426750183105, 8.026517868041992, 4.709792613983154, 1.0228545665740967, -10.087958335876465, -4.202780246734619, 5.667548179626465, 3.710712432861328, 7.215938568115234, 3.940023422241211, -0.8885855078697205, -0.6693511605262756, -2.538910150527954, 9.51713752746582, -0.9098149538040161, -10.536677360534668, 13.200627326965332, 2.242964029312134, -6.870626926422119, 2.4876861572265625, -0.6113662123680115, 8.660608291625977, 7.225302696228027, -4.999679088592529, 11.556135177612305, -7.365618705749512, -10.930913925170898, 0.12543156743049622, 0.22534291446208954, -10.547791481018066, -8.159162521362305, -0.8118835687637329, 1.8285690546035767, 6.660881519317627, -4.304401397705078, -6.278563022613525, 5.000693321228027, -5.187007904052734, -3.64274001121521, 6.657837867736816, -3.0783069133758545, -3.143409252166748, 3.7374281883239746, -6.345737934112549, 6.55930757522583, -9.966323852539062, -1.087361216545105, -2.0122060775756836, 8.411157608032227, 8.185698509216309, 6.894230365753174, -1.9981480836868286, 1.569061040878296, -4.576963424682617, -2.9019927978515625, -5.6064276695251465, 10.631117820739746, 1.2408396005630493, -2.8057472705841064, 3.9680464267730713, 7.098719596862793, -0.160794198513031, -8.613262176513672, 4.918062686920166, 1.5040441751480103, -13.011371612548828, -10.625502586364746, -5.220688343048096, -5.967007160186768, -0.5353274941444397, 3.22127103805542, -7.118176460266113, 4.999695301055908, 1.5512577295303345, -6.611866474151611, -11.027434349060059, 6.330188751220703, -5.465306282043457, 7.789641380310059, 7.885366439819336, -3.831812620162964, 6.252352714538574, -9.288104057312012, -3.7776987552642822, 3.6907951831817627, -3.2563974857330322, 4.766636371612549, 5.944329738616943, -1.3953098058700562, 12.350354194641113, 3.7420754432678223, 6.8002753257751465, 10.7772855758667, -4.360798358917236, 2.3859472274780273, 4.895450115203857, -1.3372814655303955, -9.541071891784668, 6.490586280822754, 2.725877285003662, -5.695367336273193, -1.8040281534194946, -9.26416015625, 11.895828247070312, -1.5596767663955688, -6.862127304077148, 1.2902946472167969, -7.001143455505371, -11.750118255615234, -1.5801467895507812, 6.480382919311523, -4.299034118652344, 4.226354122161865, -3.24115252494812, 1.2965872287750244, -9.755714416503906, -7.1044535636901855, -9.139083862304688, -2.8942935466766357, 0.2038387805223465, 6.355114936828613, 6.923173904418945, 7.4105424880981445, 4.125504493713379, -10.665617942810059, -11.432100296020508, 3.588622570037842, 2.2920608520507812, 4.430010795593262, -9.613775253295898, 3.5779449939727783, -6.284536361694336, -4.0564799308776855, 3.6044838428497314, 5.8526692390441895, -3.8091518878936768, 5.931878566741943, 2.7064125537872314, 6.210883140563965, 5.881944179534912, 3.4211392402648926, 0.2636909484863281, 0.023151962086558342, 7.727803707122803, -3.781812906265259, 0.8441731929779053, 3.9945571422576904, -13.420628547668457, -8.560522079467773, -0.14543263614177704, -3.5421791076660156, -0.4745853841304779, 0.6961424350738525, -3.3832876682281494, -4.493772029876709, -6.994356632232666, 7.6588850021362305, 2.4317376613616943, -4.363684177398682, 3.0698277950286865, -10.488778114318848, -5.268857002258301, -4.515736103057861, -5.8932671546936035, 6.5959320068359375, -9.093633651733398, -4.543281078338623, 3.283872604370117, 11.949247360229492, 7.288369655609131, -4.387670993804932, -0.3315318822860718, -6.3114142417907715, 5.467861652374268, 5.02725076675415, 7.220959663391113, 7.023000240325928, -2.101090431213379, -0.1258029192686081, 5.295635223388672, -0.6532351970672607, -2.9503026008605957, 3.527639627456665, 9.50849723815918, -5.267189025878906, -10.918946266174316, 4.600257396697998, 2.587347984313965, -3.4811902046203613, 5.468202114105225, 13.519563674926758, 5.2946624755859375, 2.619633674621582, -6.131471633911133, 6.612362861633301, 4.565140724182129, -0.10116714984178543, 4.850049018859863, 0.47445884346961975, 14.2095308303833, 5.07011604309082, 5.976637363433838, 13.509547233581543, -2.9908390045166016, 0.48032936453819275, -7.842099666595459, 10.068120956420898, -2.161830186843872, 0.21793878078460693, 6.316254615783691, -4.583836078643799, 7.270456314086914, 0.5715988874435425, 8.127294540405273, 8.298532485961914, -2.927259922027588, 3.218778133392334, 5.1851420402526855, 4.2518839836120605, -3.633009433746338, 7.256533622741699, 2.7118282318115234, 8.57580852508545, -4.557090759277344, 10.496236801147461, -0.8610770106315613, 7.5074567794799805, -6.261916160583496, -6.586435317993164, -13.263623237609863, 2.812208890914917, 0.35315191745758057, -3.342275381088257, 6.077847480773926, 6.363727569580078, 5.86906099319458, 8.57768726348877, -12.850484848022461, 3.4377729892730713, 5.635207176208496, 0.6829644441604614, 6.234023094177246, -0.5518505573272705, 11.673678398132324, -12.611268043518066, 5.1031012535095215, -5.98980188369751, 7.92252254486084, -4.846162796020508, -10.636337280273438, 0.09409765899181366, 8.606074333190918, 9.606036186218262, 9.194002151489258, 2.754291296005249, 9.57465648651123, -3.9303345680236816, -12.20034408569336, 7.710904598236084, -2.1214113235473633, 7.5727314949035645, 6.675539016723633, -12.744507789611816, -12.219099044799805, 4.772045135498047, 2.443881034851074, -7.683556079864502, 5.872937202453613, 1.7701785564422607, -0.46287065744400024, -0.5037087202072144, -1.903110384941101, 7.561903476715088, -2.0422959327697754, 7.453007221221924, -6.32997465133667, 2.658299684524536, -9.808377265930176, -6.943596839904785, 1.512701153755188, 8.723925590515137, -0.5785914063453674, 5.204667568206787, 0.31945595145225525, 0.8654913902282715, -9.069743156433105, 5.236968994140625, 1.975268006324768, -9.489357948303223, -7.0537519454956055, -3.9891791343688965, 0.7383465766906738, 6.078664779663086, -5.468844890594482, -3.3012001514434814, 5.60358190536499, 11.31062126159668, 6.409007549285889, -8.665975570678711, -1.4104400873184204, 4.131431579589844, 5.902764320373535, -11.56485366821289, 5.169134140014648, 1.0072741508483887, -10.989034652709961, 2.7311015129089355, 6.729284763336182, 7.088364601135254, -9.634913444519043, -1.6469025611877441, 4.351719379425049, 5.266763687133789, -2.0842177867889404, -1.0406599044799805, 9.75045108795166, 4.790435314178467, 4.329463958740234, 3.5879650115966797, 10.421209335327148, 4.912754058837891, -2.074533224105835, 6.150656700134277, 7.24981164932251, -7.056053638458252, -4.743640899658203, -1.5995928049087524, -2.0071187019348145, 1.0923031568527222, 6.618108749389648, 7.8659467697143555, 6.265793800354004, -12.370549201965332, 0.722499668598175, -10.032444953918457, 1.6935696601867676, 6.089252471923828, 5.451921463012695, 2.4641621112823486, 7.101875305175781, 3.2551801204681396, -0.28622105717658997, 8.459957122802734, -9.820805549621582, 2.954862356185913, 4.883736610412598, -4.34896993637085, 7.2892746925354, -11.183747291564941, 5.265356063842773, 0.7037878036499023, 1.4588416814804077, -4.561506748199463, -4.571368217468262, 10.107646942138672, 12.740456581115723, 7.896224498748779, -1.2506814002990723, -6.582965850830078, 8.688767433166504, -0.6955833435058594, -3.2950618267059326, -2.057276725769043, 0.5945637822151184, 12.097040176391602, -7.791068077087402, 3.6932053565979004, -4.929738998413086, 9.412768363952637, -3.6754770278930664, 6.744656085968018, 4.391017436981201, 2.6862070560455322, -1.0861899852752686, -10.61155891418457, -4.2609076499938965, 5.643784046173096, 4.171139717102051, 9.05790901184082, -2.9851174354553223, -9.64052677154541, -0.7785734534263611, -4.523613452911377, -2.7981715202331543, 1.7168676853179932, -11.275980949401855, -5.843999862670898, 3.875325918197632, -4.5687255859375, 0.6358117461204529, 2.8568997383117676, -5.510828971862793, 0.2115263193845749, -2.2031562328338623, 2.564054012298584, -2.9627127647399902, -6.596405029296875, 12.757867813110352, 2.7508318424224854, -3.0366711616516113, -4.635610103607178, 0.5156495571136475, 13.477468490600586, 8.282365798950195, 0.848680317401886, 7.809624671936035, 4.961514472961426, 4.2372355461120605, 4.322081565856934, 6.24465274810791, -6.1996588706970215, -6.171608924865723, -12.920411109924316, 2.2369775772094727, -1.8273682594299316, -0.0247019175440073, -9.61971664428711, -6.554618835449219, 1.6307249069213867, -4.002143859863281, 13.393348693847656, -12.051474571228027, -9.280899047851562, 0.6622998118400574, 2.312720775604248, -3.2955331802368164, -6.060879707336426, 4.282001495361328, -2.502568244934082, 0.5820472240447998, 9.502148628234863, 6.543269634246826, -10.291446685791016, 0.10088169574737549, 8.469988822937012, -6.345064163208008, -2.743805408477783, -2.9300971031188965, -13.550155639648438, -0.43912675976753235, -8.864668846130371, -9.14674186706543, -3.6907787322998047, 2.626185417175293, 3.8073039054870605, -6.39948034286499, -1.6748383045196533, -8.223151206970215, -4.725784778594971, 1.3276305198669434, -3.229187250137329, 6.70580530166626, -9.371922492980957, -8.971855163574219, -10.074332237243652, -2.5489580631256104, 6.308315753936768, 5.170682907104492, -8.356341361999512, 0.6805382966995239, -8.805520057678223, -9.578470230102539, -4.410839080810547, -2.2164227962493896, -10.05174732208252, 2.607603073120117, -10.196388244628906, 8.043804168701172, -9.179136276245117, 11.524565696716309, -9.20042610168457, 2.1186764240264893, 8.883907318115234, 1.4317582845687866, 7.81856632232666, -5.481929302215576, 4.760164260864258, -3.2942073345184326, 7.506861209869385, -4.740100383758545, 5.201912879943848, 1.9878342151641846, -10.184514999389648, -3.841176748275757, 0.533043622970581, 0.3375512659549713, 1.5806835889816284, 9.414347648620605, -0.8849873542785645, 7.056404113769531, 0.6345072984695435, 0.05536878481507301, -5.605788230895996, 1.6335629224777222, -4.1681013107299805, -4.540980339050293, 6.75621223449707, 5.772409439086914, 8.850483894348145, -6.541738510131836, 5.56174898147583, 10.650814056396484, -10.161723136901855, 1.5932683944702148, -11.051288604736328, 3.700953483581543, -4.137273788452148, 3.422595262527466, -1.4148396253585815, 7.816285133361816, 7.926321506500244, -12.430176734924316, 4.839465141296387, 0.8046007752418518, 5.287831783294678, 1.0467280149459839, -2.3289124965667725, 6.103845596313477, 2.2161848545074463, 4.262092590332031, 7.309963226318359, -0.5352317094802856, 3.803678274154663, 0.9949036240577698, -2.289041757583618, -3.067892551422119, -0.3348870277404785, 3.630678653717041, -6.392541885375977, 2.1951711177825928, 7.281484603881836, 6.657764434814453, -7.297811031341553, 5.3816046714782715, -1.7708288431167603, 5.339976787567139, -10.77297306060791, 4.9469075202941895, -9.08541202545166, -5.691756248474121, 6.269906520843506, -9.571381568908691, 6.089370250701904, -10.154970169067383, 1.8114680051803589, 4.986523151397705, -7.5814127922058105, 7.279836177825928, 12.732070922851562, 0.6509951949119568, -11.018035888671875, 2.0772337913513184, 5.830812931060791, -10.690398216247559, 11.674424171447754, -5.609189987182617, 7.504946708679199, 3.256103515625, 8.980966567993164, 10.517394065856934, -7.204870223999023, -0.6904502511024475, -6.3559041023254395, 5.0944342613220215, -5.4295220375061035, -2.0734026432037354, 7.453927516937256, 5.505356788635254, -3.2609546184539795, -11.390754699707031, -4.251591205596924, -3.798973798751831, 6.280155658721924, 10.98659610748291, 0.6494219899177551, 10.372502326965332, 9.921442031860352, 7.732752799987793, 5.54906702041626, -7.604081630706787, 6.151549339294434, 2.781301498413086, 3.977179527282715, -6.815518856048584, -6.702301502227783, -5.330668926239014, -1.4937680959701538, -9.556384086608887, 11.074518203735352, -5.323336124420166, 9.246408462524414, -12.261608123779297, -10.065474510192871, 0.9033585786819458, 1.9491350650787354, -4.30286169052124, -12.642407417297363, 7.6654157638549805, 1.109662652015686, 3.9238498210906982, -9.70877742767334, 0.8412905931472778, 6.407758712768555, -10.299827575683594, -1.4113563299179077, 6.431772708892822, 6.454135417938232, -6.3428826332092285, 0.5859646201133728, -0.8242595195770264, 1.3508116006851196, 1.013627052307129, 0.059734053909778595, -11.06128215789795, -0.648857057094574, 2.6932995319366455, -9.874791145324707, 0.5753786563873291, -4.517216682434082, 7.708776473999023, -5.436419486999512, -10.652074813842773, 3.858412981033325, 3.482905387878418, -0.024777492508292198, -12.252557754516602, 0.020531319081783295, -8.00798225402832, 4.856212139129639, -5.554759502410889, -9.626375198364258, -3.672261953353882, -9.097943305969238, -2.1176743507385254, -6.6474785804748535, -2.0943517684936523, 9.411232948303223, -2.893825054168701, 5.797362327575684, 0.9739658236503601, -3.4417543411254883, 3.448822021484375, 7.521877288818359, 2.2229161262512207, 12.54626750946045, 3.274576425552368, -6.95612096786499, 8.601984977722168, 4.654420852661133, 4.225210189819336, 2.199536085128784, 0.7679417729377747, 9.612451553344727, -4.684405326843262, -5.89371395111084, 5.0417375564575195, 6.053138256072998, 6.695767402648926, 8.618438720703125, 6.71102237701416, 12.7927827835083, -3.3249671459198, 2.6790521144866943, -6.122910976409912, 7.216939449310303, -6.3954033851623535, -0.09951461106538773, 0.19101552665233612, -4.670389175415039, 2.3899991512298584, -2.1375882625579834, -3.5504074096679688, -3.8505160808563232, 5.86040735244751, -0.7220086455345154, 2.3711113929748535, -3.378242254257202, 2.425971031188965, -13.046819686889648, -10.378238677978516, 8.558344841003418, 1.3884377479553223, -5.453408718109131, 1.6363219022750854, 4.02831506729126, -3.959221601486206, 8.587274551391602, 4.651155948638916, 0.6137923002243042, 4.057987689971924, -7.288112640380859, 6.449337005615234, -2.7988197803497314, 6.705938816070557, 8.074174880981445, -3.7033536434173584, -0.4499128758907318, 7.096747875213623, -12.656601905822754, 9.133164405822754, 7.614525318145752, 2.106539726257324, -10.800997734069824, 8.023738861083984, -6.409162521362305, -1.7049866914749146, 5.1988372802734375, 10.899396896362305, -7.2358784675598145, -10.622900009155273, -12.741983413696289, -5.6677327156066895, -2.8772270679473877, -2.4222190380096436, 0.4953365921974182, 6.622775554656982, -2.897144079208374, -0.18872001767158508, 5.593666076660156, 2.6030385494232178, -9.593995094299316, 2.781970739364624, -1.8511549234390259, 7.264166831970215, 2.695544481277466, 6.909536838531494, -3.418449640274048, 5.645632266998291, 1.414599895477295, -6.6046671867370605, 3.8644981384277344, -1.1403311491012573, -8.09450912475586, 7.627450466156006, -0.41247692704200745, 12.848348617553711, 5.670717716217041, 7.960559368133545, -2.8091390132904053, 3.9237732887268066, 7.7667107582092285, -8.717863082885742, 13.275846481323242, -5.123605251312256, 2.464094638824463, -6.870752811431885, -2.6020524501800537, -5.806053638458252, 4.338960647583008, -1.5961759090423584, -5.288786888122559, -1.8583462238311768, -9.487350463867188, -7.021965980529785, 0.3811202943325043, 2.1422338485717773, 7.9365458488464355, -5.8478617668151855, 9.097256660461426, 6.865821361541748, -1.0493255853652954, -7.0738630294799805, -3.8072376251220703, -2.948366165161133, -3.613654375076294, 3.657761335372925, 7.934516429901123, -11.809362411499023, -3.701472043991089, -0.43059858679771423, 3.7176642417907715, -9.92436408996582, 1.7610288858413696, -8.935741424560547, -10.562640190124512, 7.956568717956543, -7.253239631652832, -5.421767711639404, -3.06339693069458, 7.023675918579102, 0.82490074634552, -3.8010520935058594, 6.156375885009766, 4.636076927185059, -3.672697067260742, -5.1904826164245605, -3.2694902420043945, -9.01235294342041, -4.537932395935059, 7.473537445068359, 5.993968963623047, 6.200438499450684, -2.2827250957489014, -8.41748046875, 11.07638168334961, -1.027817726135254, -0.38340628147125244, -9.280458450317383, -5.85833215713501, -11.185718536376953, 9.079326629638672, 3.249274253845215, 1.8266589641571045, 8.6044921875, 2.1826789379119873, 2.910912275314331, -13.115616798400879, 0.2066400945186615, 3.4887337684631348, -4.02170991897583, 2.5008678436279297, 0.9262773394584656, 5.786847114562988, -10.729830741882324, 1.7690616846084595, -6.130568027496338, -0.5583540201187134, -5.574005603790283, -7.592781066894531, 5.779987335205078, -6.684177398681641, -9.177103996276855, -4.629737854003906, -2.7557356357574463, 3.3934314250946045, 4.378271579742432, -0.0002283476060256362, 6.411601543426514, 12.950260162353516, 2.649087429046631, 11.145861625671387, -0.23083098232746124, -12.098350524902344, -11.156683921813965, -8.549957275390625, 1.0724836587905884, 5.54150390625, -0.13579905033111572, -2.4455454349517822, 7.529062747955322, 11.560314178466797, 6.248884201049805, -4.478118419647217, -5.690786361694336, -4.485444068908691, -9.422212600708008, 4.70922327041626, -10.956311225891113, 9.481385231018066, -6.807147979736328, 3.622406482696533, -5.018503665924072, 14.733810424804688, -2.2414019107818604, 2.2246479988098145, 4.716005325317383, 7.437381744384766, 7.752392292022705, 8.447152137756348, -0.7246993780136108, 8.357611656188965, 3.9555912017822266, -8.04753589630127, -1.1333461999893188, -4.850937843322754, -11.529643058776855, 8.549503326416016, -9.824140548706055, -0.44502195715904236, -11.55059814453125, -1.440859317779541, -0.5077179074287415, -5.7740349769592285, 6.198361396789551, -3.6587576866149902, -7.545093536376953, -7.558562755584717, 9.846817970275879, 5.077808856964111, 4.22356653213501, 1.9372159242630005, 1.8188486099243164, -2.945143938064575, 0.3751862347126007, 11.119108200073242, 11.485780715942383, 10.817780494689941, -2.231780529022217, -5.613712787628174, 7.2094807624816895, 1.7910304069519043, -8.91427993774414, 0.428916871547699, 4.704475402832031, -8.76951789855957, -2.037914276123047, 1.6331157684326172, -3.0424671173095703, 1.7958159446716309, -10.945116996765137, -4.486844539642334, -8.23388671875, 4.637693881988525, -3.189514636993408, -6.898236274719238, -2.9378879070281982, 2.8606784343719482, -10.838406562805176, -6.011698246002197, 7.486138820648193, 7.5394206047058105, 11.946762084960938, 7.558895587921143, -3.0134057998657227, -1.4259223937988281, -12.852543830871582, 0.5143308043479919, 0.18900805711746216, -6.6644206047058105, 2.5719902515411377, -3.3488471508026123, -9.243871688842773, 2.634122610092163, -0.5761700868606567, 7.131678581237793, -2.073275327682495, 0.8397511839866638, 4.171975612640381, -1.3796058893203735, 5.782181739807129, -11.777703285217285, -10.827704429626465, 5.017670631408691, -1.8117834329605103, -5.16035270690918, 4.741920471191406, -6.988222122192383, -2.8084356784820557, 4.107061862945557, 5.658373832702637, 2.628739833831787, 4.7900776863098145, -10.805218696594238, -6.441288948059082, -0.4173031151294708, -5.032468795776367, -3.703583002090454, -4.361127853393555, -4.380808353424072, 2.836627244949341, 3.174419641494751, 2.5177133083343506, -5.397696495056152, 5.832759380340576, 0.7806361317634583, -3.2112767696380615, -0.9984843134880066, 6.547381401062012, 3.4741804599761963, -7.318225860595703, -9.595000267028809, -5.856088161468506, -4.705436706542969, -4.573410511016846, -2.097139358520508, -1.1289348602294922, 7.963376045227051, 3.3520424365997314, 6.452889919281006, 6.403797149658203, -2.873037338256836, -10.413958549499512, 6.011826515197754, -7.046066761016846, -12.937829971313477, 7.369706630706787, -5.630256175994873, -2.066591501235962, -1.5125141143798828, 6.3152852058410645, -6.063666343688965, -3.806272268295288, -6.084506988525391, -9.362936973571777, 2.0029776096343994, 0.04390064626932144, 0.4734775722026825, 6.873697280883789, -11.144156455993652, 4.908008098602295, 7.765239238739014, -5.297170162200928, 6.749850273132324, 4.269309043884277, 6.998288631439209, -5.570982456207275, 13.534358978271484, -3.8999550342559814, 0.8415552377700806, 4.726193428039551, 8.092794418334961, -5.703609466552734, 4.423217296600342, 3.8714804649353027, 6.621366500854492, -9.409881591796875, 3.5528724193573, 7.801814556121826, -2.0834293365478516, 4.7106733322143555, -5.1822190284729, -2.9320406913757324, 3.4168026447296143, 3.540520668029785, 4.632785320281982, -1.4620548486709595, -11.517285346984863, 1.4161348342895508, -4.310239791870117, -0.28270307183265686, -3.671224355697632, -1.057029366493225, -6.38552713394165, -4.013111114501953, 2.042262554168701, -7.095268249511719, 2.043691635131836, -6.69500732421875, 2.8831946849823, -7.4240922927856445, -5.489855766296387, -2.6544604301452637, 5.113731861114502, 3.016885757446289, -1.0502887964248657, -2.4584171772003174, 7.0559468269348145, -1.8138432502746582, -3.4978573322296143, 2.173222541809082, -1.7668251991271973, 6.297780990600586, -9.195323944091797, 0.22485598921775818, -9.508916854858398, 7.030659198760986, -6.769783973693848, 10.3067045211792, 5.439799785614014, 12.517207145690918, 6.522334098815918, -0.6901233196258545, 6.870827674865723, -4.545709609985352, 0.31098607182502747, -5.908079147338867, 10.51990032196045, 6.179935455322266, -3.44236421585083, -3.0155060291290283, 4.121666431427002, -10.071199417114258, -6.194497585296631, 5.5255842208862305, 6.429953098297119, -10.446283340454102, -0.22575320303440094, 0.2752695381641388, 2.158234119415283, -3.14378023147583, -9.18924617767334, -0.336870402097702, 1.583259105682373, -6.933164596557617, -1.1369633674621582, 0.006155598908662796, 6.4848785400390625, 5.086061477661133, 5.498922348022461, -5.9425787925720215, -7.360246181488037, 3.976393222808838, -0.990719199180603, -12.845091819763184, 4.580956935882568, -4.225229263305664, 2.4342377185821533, 1.1342066526412964, 1.9145978689193726, -1.2151497602462769, -1.478929877281189, 10.541877746582031, -6.650763988494873, -7.991313457489014, -9.562592506408691, -0.42361539602279663, -6.724583148956299, 2.122086524963379, -5.507249355316162, 0.32815420627593994, 8.281783103942871, -7.954158782958984, 9.577860832214355, -9.29034423828125, 4.991736888885498, -9.355049133300781, -0.40045323967933655, -0.08641106635332108, -0.9264144897460938, -6.318576812744141, 7.865541934967041, -2.086711883544922, -12.112895965576172, 0.3454760015010834, 0.11294801533222198, -0.6808194518089294, -5.249991416931152, 0.7400845289230347, -3.0315423011779785, 1.4678646326065063, -7.767571449279785, -1.5763696432113647, -9.694130897521973, -3.405336380004883, 3.2506613731384277, -11.751670837402344, 4.751675605773926, 2.4445934295654297, -1.0672237873077393, 5.4674973487854, 3.062067985534668, 5.01863431930542, 3.565981388092041, 9.681795120239258, 1.5910120010375977, -0.9201540946960449, 7.090036869049072, 1.5824930667877197, 4.12554931640625, -9.771024703979492, 3.1474008560180664, 1.5273501873016357, 0.4284994602203369, -3.658024311065674, 4.185196876525879, -2.1508781909942627, 4.333146095275879, 2.6412062644958496, 4.116654396057129, -7.031748294830322, -2.2526886463165283, -4.422895431518555, -0.002073772717267275, 5.323558807373047, 2.634382963180542, -2.7734153270721436, -3.059077262878418, -3.6329729557037354, 4.879644393920898, -3.8075778484344482, 6.258702278137207, 4.14954137802124, -5.524138450622559, -5.6503987312316895, -2.97993803024292, -11.258508682250977, -5.426097869873047, 0.7562634348869324, -1.3972874879837036, -5.613396644592285, -0.4172559976577759, -4.1457600593566895, -1.4443607330322266, 0.8312935829162598, 10.444025993347168, 1.2552448511123657, -5.773512363433838, 7.240146636962891, 6.864931583404541, -0.7119784951210022, -0.6287312507629395, -4.231503009796143, -2.918471336364746, -9.682612419128418, -6.301906108856201, 3.257206439971924, 5.864770412445068, -5.649209976196289, -3.033789873123169, -5.871598243713379, -9.530671119689941, -7.8337249755859375, 2.4983158111572266, -4.03407096862793, -4.281950950622559, -2.4850502014160156, -1.4440182447433472, 3.6370553970336914, 8.230566024780273, 0.4621349275112152, 5.527909755706787, 1.2163928747177124, -2.0099637508392334, -11.04358196258545, 2.1605331897735596, 4.51484489440918, -1.6467820405960083, -1.9152311086654663, 4.037100791931152, -9.166479110717773, -6.200896739959717, 5.59645414352417, -4.7162909507751465, 10.108842849731445, 11.273463249206543, 1.90005362033844, 6.6165852546691895, -2.517111301422119, -4.837100505828857, 4.035210132598877, 2.551823854446411, -2.371703863143921, 6.093550682067871, 0.7159977555274963, 2.630530595779419, 7.626595497131348, 8.479395866394043, 0.4523393511772156, -0.6195711493492126, -5.944934368133545, -8.885379791259766, 6.488688945770264, -1.4099750518798828, 7.284541606903076, -2.5074617862701416, -4.0576701164245605, -6.0790114402771, 1.2683902978897095, -5.897487640380859, -10.456124305725098, 13.396111488342285, 13.267175674438477, -11.919392585754395, 2.9987316131591797, -9.321271896362305, 2.971757411956787, -9.198915481567383, -3.362229108810425, 0.6091101169586182, -8.693405151367188, 5.92551851272583, -8.002552032470703, -5.195845127105713, 2.5509278774261475, -1.189226508140564, -3.7211525440216064, 7.351691246032715, -7.331937313079834, 0.09696956723928452, 7.658596515655518, -0.06721585243940353, 2.7895007133483887, -0.9102620482444763, -5.544106483459473, 7.225531578063965, 6.408606052398682, -5.107361316680908, 1.8486154079437256, 11.564908981323242, -9.758732795715332, 6.561431884765625, -2.855342149734497, 0.46698689460754395, -3.8932015895843506, 9.631026268005371, 3.6813602447509766, -10.75621509552002, -1.1118053197860718, 8.833574295043945, -8.017457962036133, 13.599905014038086, 2.9596633911132812, -0.27705517411231995, 7.3383331298828125, 5.330342769622803, -1.1853420734405518, -1.6671909093856812, -6.938425540924072, 0.5284833908081055, 6.2010111808776855, 3.4988818168640137, -11.559703826904297, 1.2185548543930054, 6.7828545570373535, 4.2787275314331055, 5.621170520782471, 5.6779632568359375, -4.506897449493408, -1.3442168235778809, 7.539784908294678, -4.914018630981445, 10.750066757202148, 2.101987361907959, 4.751188278198242, 11.831254959106445, -0.04231603816151619, -4.531068325042725, 8.122611999511719, 5.0861897468566895, -1.2062430381774902, -10.032783508300781, 9.070603370666504, -9.256994247436523, 7.275251865386963, 2.752016067504883, -0.07498650997877121, -6.30746603012085, -2.141213893890381, 1.1066495180130005, -9.822877883911133, 3.9642715454101562, 5.50070333480835, 2.8989975452423096, 5.636675834655762, 3.6361708641052246, 13.093482971191406, 6.319190502166748, 7.654773235321045, -1.9569486379623413, 5.788815975189209, 2.728351593017578, -3.4977192878723145, 5.873992919921875, -3.7055206298828125, -7.5797529220581055, -11.657793045043945, 1.9579237699508667, -7.876460552215576, 10.797605514526367, 2.8772096633911133, 4.941707611083984, 8.53832721710205, 6.340763568878174, -7.053678512573242, 5.399898052215576, 5.2374138832092285, -7.842540740966797, 1.8028753995895386, 2.860276937484741, -5.830841541290283, -1.4648492336273193, -7.244351863861084, 6.431239604949951, 2.882728099822998, -2.3016841411590576, -0.48306742310523987, 0.38692381978034973, 3.857999086380005, -0.8595513105392456, -3.0623300075531006, 8.292052268981934, -1.868964433670044, 8.854470252990723, -5.666058540344238, -8.107328414916992, -6.328596591949463, 10.273233413696289, 6.438351631164551, 2.7435693740844727, -9.706954002380371, -12.212435722351074, 3.002962827682495, -8.817316055297852, 0.5255541801452637, -2.7220163345336914, -10.35653018951416, 9.70567512512207, 6.613438129425049, -10.523653030395508, -1.9970046281814575, 11.08195972442627, -10.526460647583008, 12.054956436157227, -7.290016174316406, -5.358804225921631, 4.931354522705078, -5.835350513458252, 0.5717458724975586, -10.609582901000977, 1.271484136581421, -3.1107773780822754, -4.874941825866699, 7.146692276000977, 2.6759965419769287, 4.075535774230957, 5.693333625793457, 2.138179063796997, -5.056548595428467, 9.0670804977417, -3.610083818435669, -0.9336502552032471, 5.473984241485596, 0.34997913241386414, -6.3015313148498535, -9.432562828063965, -5.383555889129639, 9.319969177246094, -2.7058184146881104, 1.3119052648544312, -8.865744590759277, 9.377093315124512, -2.810457468032837, 1.7849690914154053, -2.372771739959717, -4.271018028259277, -2.756178855895996, 10.395147323608398, 0.6564422845840454, -7.211414813995361, -4.696285247802734, -1.6420294046401978, 1.2166637182235718, 6.330290794372559, 4.415996551513672, 0.2826380431652069, 3.443744659423828, -0.9907031655311584, -1.3333775997161865, -3.1946310997009277, -4.012899875640869, 0.03720942884683609, -6.286508083343506, 3.478588819503784, -5.129859924316406, 0.02461070753633976, 5.090206146240234, 1.8906915187835693, -10.42405891418457, -6.517125129699707, 6.156214714050293, -12.4510498046875, -7.998371601104736, 0.7895733714103699, 8.72830867767334, 4.135881423950195, 2.980910301208496, -11.192194938659668, -5.270082473754883, 0.9534214735031128, -3.578829765319824, 4.529276371002197, 5.739212989807129, 7.520740032196045, -6.580392837524414, 1.9743432998657227, -11.116393089294434, -7.913966655731201, 4.951046943664551, -3.247742176055908, -5.05604362487793, -8.611879348754883, 5.211319446563721, -1.1253159046173096, -9.755656242370605, -0.9251127243041992, 3.047152519226074, -9.645984649658203, 3.112542152404785, -9.394173622131348, 7.373280048370361, -4.169713973999023, -3.099954843521118, -0.48274973034858704, -7.166025161743164, 4.756790637969971, -8.86368179321289, -10.564537048339844, -6.3474812507629395, 11.462471961975098, 2.4409568309783936, 5.372928619384766, -9.015680313110352, -10.477730751037598, 7.437909126281738, -1.6171642541885376, -3.7699167728424072, -8.885763168334961, 1.634864330291748, -10.419682502746582, 0.2536149322986603, -5.911916732788086, 0.1722356379032135, -9.311864852905273, 7.954514026641846, -8.079869270324707, 3.259037494659424, -5.048722743988037, 8.069491386413574, 2.158189296722412, -5.378007411956787, -2.146177053451538, 5.193753242492676, -5.061164855957031, -10.860031127929688, 2.877786874771118, 6.214521884918213, 4.332518577575684, -12.812994956970215, 5.546800136566162, -0.4162336587905884, 8.572368621826172, -0.44278115034103394, -1.7813900709152222, -3.079723358154297, -7.432975769042969, 5.378166198730469, 0.010410798713564873, 0.45035308599472046, -6.211248397827148, 1.5509485006332397, 1.6389769315719604, 0.8871888518333435, 2.1845130920410156, 10.574546813964844, 2.524688482284546, -10.80748176574707, 4.471911430358887, 2.4644129276275635, 2.230614423751831, 2.7553253173828125, -0.821366548538208, -8.38260555267334, 7.456178188323975, -6.219878673553467, 7.988661766052246, -5.029546737670898, -9.332841873168945, -7.023127555847168, -5.0697550773620605, -2.8817765712738037, 5.2166643142700195, 1.147444725036621, 4.801699638366699, 6.75180721282959, -3.359239101409912, -1.4256163835525513, 7.140041351318359, 3.2932469844818115, 3.297485828399658, 7.708143711090088, -4.621179580688477, -6.2082390785217285, -0.4236452579498291, 5.702076435089111, -0.07508422434329987, 1.8648451566696167, 4.21991491317749, 4.066370964050293, 4.017004489898682, -4.080822944641113, -5.3797454833984375, -0.39975062012672424, -9.952088356018066, -12.894350051879883, 5.889169692993164, 1.5313881635665894, 4.880984306335449, -11.301146507263184, 6.65306282043457, 10.674540519714355, 0.02761703170835972, 4.796186923980713, 10.716092109680176, -10.476351737976074, 11.787185668945312, -7.053076267242432, -4.009986877441406, 8.702188491821289, 6.027945518493652, 8.724501609802246, -5.215795993804932, 0.4523868262767792, 2.885416030883789, -6.816856861114502, -5.730434417724609, 0.7473772764205933, -8.976183891296387, 5.033406734466553, -1.6370466947555542, 1.1586365699768066, 6.9441752433776855, -2.526996374130249, 5.8451337814331055, 5.615678787231445, -2.169353485107422, 10.787639617919922, -3.9805026054382324, 3.193136692047119, 12.557398796081543, -5.9539995193481445, 2.7324581146240234, 4.82319450378418, -8.08253002166748, 4.67453670501709, 5.974949359893799, 8.554203033447266, -8.235577583312988, -9.108580589294434, -3.1428020000457764, 0.9329404234886169, -4.8032612800598145, -6.374030590057373, -0.5787587761878967, 5.439471244812012, -0.5938403010368347, 12.051628112792969, -9.035841941833496, 6.49390172958374, -8.0675630569458, -2.759241819381714, -6.279235363006592, -11.820934295654297, -1.5187888145446777, -0.012924456968903542, -6.673551559448242, 5.964178085327148, -5.761443138122559, 5.8500142097473145, 8.457464218139648, -10.437981605529785, -3.6994473934173584, 3.86686110496521, -6.189916133880615, -0.6952571868896484, 1.8095766305923462, -2.880784511566162, 1.840664029121399, 2.8908653259277344, 3.8627679347991943, 5.079442501068115, -7.376220703125, 2.7542924880981445, 2.771127700805664, -1.4223957061767578, -1.2215662002563477, -3.031719207763672, 0.059615980833768845, -0.34216728806495667, -13.23331069946289, -5.684438228607178, 6.342714786529541, -10.03591537475586, -7.384064674377441, 6.134154796600342, 10.534170150756836, 2.8823280334472656, -12.108098030090332, 3.618642807006836, -4.395543575286865, -12.743605613708496, 9.636923789978027, 5.951572418212891, 6.225219249725342, 6.341056823730469, 2.48502779006958, 6.110569477081299, 6.46428918838501, 7.446303367614746, -2.604771852493286, -4.466060161590576, -11.158434867858887, 5.629246711730957, 2.0989394187927246, 4.881915092468262, -11.821610450744629, 2.8489129543304443, -6.163891792297363, 2.3816728591918945, 2.0545520782470703, -11.35841178894043, 12.481258392333984, -0.6169394850730896, -1.3434587717056274, -7.32853889465332, -11.282695770263672, -8.931196212768555, 3.3843257427215576, -4.431410789489746, 6.372887134552002, 2.664029121398926, -2.1384379863739014, 3.3145618438720703, 2.9800264835357666, 7.82689905166626, 3.8338658809661865, -11.25992488861084, 13.167282104492188, 1.6098195314407349, -8.92455768585205, 7.054494857788086, 4.17404317855835, -8.664713859558105, -10.3696870803833, -3.871511697769165, 3.896420955657959, -3.357626438140869, 3.502352237701416, -8.36251449584961, 2.5827701091766357, -3.6037232875823975, 5.1475982666015625, 7.663947105407715, 3.512037754058838, 0.23339705169200897, -1.9744685888290405, -1.9034045934677124, 2.8123395442962646, -1.8061059713363647, 4.754222869873047, 1.5473556518554688, 2.9853031635284424, -12.628228187561035, -7.060885906219482, -0.6601749658584595, -10.05673885345459, -4.49319314956665, 3.518173933029175, -5.998435974121094, 3.453289747238159, -3.132530927658081, -12.236679077148438, -4.573040962219238, 6.815021514892578, 5.507009506225586, 10.851094245910645, 3.362452983856201, -0.7589269280433655, -5.989807605743408, -4.418740749359131, 0.4321977496147156, 6.841869354248047, 3.145137310028076, 2.8814198970794678, -6.310563087463379, 6.313766002655029, 4.527668476104736, -1.2779546976089478, 10.014342308044434, -6.030398845672607, 4.327341556549072, 7.6552605628967285, -0.37440723180770874, 0.1483536660671234, 13.67420768737793, 3.599670886993408, 4.60483980178833, -3.1497087478637695, 3.225173234939575, 6.718512058258057, -7.113321304321289, -4.965785026550293, 5.567716121673584, 5.525206565856934, -11.779532432556152, -4.247857570648193, 2.355963706970215, 0.6708446741104126, -6.027899265289307, -1.7731404304504395, 4.582505226135254, -8.646723747253418, -0.2607722580432892, -0.2822912633419037, -10.521370887756348, -1.0135531425476074, -11.192200660705566, 4.860790729522705, -8.259230613708496, 2.526646614074707, 4.090953350067139, -6.81483268737793, -3.885488986968994, -4.207345485687256, 1.5587241649627686, -11.519356727600098, -2.5512099266052246, -12.728649139404297, 0.5360488891601562, -6.013055324554443, -9.211220741271973, 6.205408096313477, -12.300469398498535, 11.058585166931152, 0.5685238242149353, -10.134830474853516, -0.8266148567199707, -0.6018379330635071, 7.273641109466553, 0.05625392869114876, -6.288045883178711, 2.1936302185058594, 9.778294563293457, -11.88060188293457, 7.054862022399902, 2.651672124862671, -11.700759887695312, 1.657045841217041, -8.06617546081543, -6.792346477508545, 6.072910308837891, -5.237184047698975, 8.301090240478516, -8.025581359863281, 5.787087440490723, 6.371461868286133, -4.327834129333496, -3.337344169616699, 4.526061058044434, -1.924059271812439, -0.08302237838506699, -2.821134090423584, -0.4278572201728821, 6.603777885437012, -1.863015055656433, -10.083290100097656, 3.408919095993042, 2.8678431510925293, -0.7137938737869263, 5.509336471557617, 2.839294195175171, 2.5332038402557373, 3.807997226715088, 6.7851080894470215, -9.39272689819336, -6.061911582946777, 7.820092678070068, -3.850564479827881, -4.750108242034912, -10.591503143310547, -5.060809135437012, 5.907763481140137, -5.525448322296143, 4.259631156921387, 3.900341510772705, -7.684724807739258, 3.47572922706604, -2.4945380687713623, -3.282402753829956, 0.06100883707404137, 2.4416072368621826, 3.4603638648986816, -4.936158180236816, 6.317620754241943, 5.015617370605469, 8.35766887664795, 1.709343433380127, 0.8523005247116089, -0.9664629101753235, -0.12536464631557465, 0.27109864354133606, 2.0342178344726562, -4.867237567901611, 0.24330151081085205, -4.264878273010254, 11.343128204345703, 5.023282527923584, 4.233143329620361, -7.838090896606445, 2.8756046295166016, 6.53226900100708, -0.7064952850341797, 1.7501102685928345, -1.6958287954330444, -2.0314345359802246, 6.135960578918457, 4.786524772644043, 11.314602851867676, 7.444738864898682, 1.5301860570907593, 9.165239334106445, -4.437553882598877, -10.321388244628906, 1.5057166814804077, -1.626143455505371, -2.6291635036468506, 3.883235216140747, -12.502971649169922, 5.62598180770874, 6.275529861450195, -11.32167911529541, 6.107369422912598, -1.9170607328414917, -3.9729597568511963, 3.310314655303955, -4.860066890716553, -8.547719955444336, 2.3922903537750244, 0.15827065706253052, 0.39885473251342773, 5.64107608795166, 5.940352439880371, -9.842967987060547, 9.47145938873291, 6.349557399749756, 6.400929927825928, -3.197817325592041, 3.4362998008728027, 11.059802055358887, -6.309720516204834, -2.785078763961792, 5.6330037117004395, 1.277552604675293, -4.603498458862305, -7.15546989440918, 0.8636035323143005, 1.0496159791946411, 5.714592933654785, 6.217020034790039, -5.3380537033081055, -7.401421070098877, 5.209405422210693, -6.787996768951416, -1.0417402982711792, -2.0195181369781494, 1.5679067373275757, 5.365917682647705, 1.5505719184875488, -4.938919544219971, -0.5739356279373169, 1.5766634941101074, 5.714138984680176, -12.20091438293457, 7.224899768829346, 6.366991996765137, -4.9982194900512695, 7.224914073944092, -2.9737961292266846, -2.7718091011047363, 12.823654174804688, -8.480609893798828, 12.445801734924316, -4.507253170013428, 12.71263313293457, 5.735388278961182, 1.8261773586273193, -4.810931205749512, 2.152261734008789, 4.493404388427734, 4.900825500488281, -3.794511079788208, -0.8976819515228271, 12.0025634765625, 5.142702579498291, -4.932649612426758, 3.164764642715454, -6.650552749633789, -0.2001596987247467, -2.2950332164764404, 1.1229554414749146, -0.5473824143409729, 6.438918590545654, 2.8904287815093994, 5.905975818634033, -12.478531837463379, -10.269837379455566, -9.723058700561523, 8.442819595336914, 5.108042240142822, -8.145039558410645, 6.345789432525635, -8.842373847961426, 6.227537631988525, 5.024937629699707, -3.0222277641296387, -2.9542911052703857, 5.575363636016846, 6.9056172370910645, 5.246251583099365, -5.16563606262207, -6.539450168609619, 2.522068738937378, -3.892216920852661, -6.4041032791137695, -5.061379432678223, -9.918536186218262, -1.3147073984146118, 11.056407928466797, -3.8152918815612793, -0.7464929223060608, -8.69873046875, -5.308046340942383, -8.796771049499512, -3.7179834842681885, -7.303934097290039, 1.5469787120819092, 2.288998603820801, 4.637246131896973, -3.7118260860443115, 8.923047065734863, 0.992853045463562, -5.461758136749268, 7.745785713195801, -9.254278182983398, -9.42076301574707, 0.17516054213047028, -3.4084348678588867, 3.672206163406372, 2.366431474685669, 1.991794228553772, -0.47906792163848877, 5.651928424835205, -1.350608229637146, 2.6802635192871094, -10.97951889038086, -0.00676860474050045, -3.6013565063476562, 11.193754196166992, -6.697326183319092, -9.476839065551758, 2.193849563598633, 7.586152076721191, -10.139908790588379, 0.5336722731590271, 11.741647720336914, 6.078755855560303, -2.4009296894073486, 7.3298187255859375, -0.4979453682899475, 6.463066577911377, -0.514201283454895, -7.355493068695068, -1.2208080291748047, 9.049284934997559, -3.8920705318450928, -0.8489771485328674, 0.4163150489330292, -3.5190818309783936, 4.828287124633789, -5.531925201416016, -9.047737121582031, 7.42284631729126, 1.9438719749450684, -2.0275657176971436, -2.3763375282287598, -4.725044250488281, 9.6041841506958, -3.3427000045776367, 13.499590873718262, 8.590502738952637, 7.166259288787842, 0.19480620324611664, -0.4369511008262634, -5.999281883239746, 4.1044769287109375, -0.6413004994392395, -4.357242584228516, 2.7382049560546875, -6.520803451538086, 1.1037381887435913, -0.5561728477478027, 2.649900197982788, -6.065347194671631, 11.825440406799316, -9.387320518493652, 1.7148547172546387, 0.6155569553375244, -2.7687768936157227, -10.157933235168457, 7.582806587219238, -7.880245208740234, 1.5579416751861572, -0.690247654914856, 0.8351455926895142, 4.638824462890625, 5.764281749725342, -0.44587668776512146, -7.645423412322998, 6.4931960105896, -4.295993804931641, 4.322585105895996, -5.971632480621338, 5.818572998046875, -6.199944496154785, 3.7543859481811523, 8.668639183044434, 3.816697597503662, 2.2015206813812256, -4.2502899169921875, 1.4732575416564941, -8.300517082214355, -1.2233421802520752, 5.635486125946045, -0.06215543672442436, -6.3338518142700195, 4.6536478996276855, -9.244393348693848, 1.2063403129577637, 6.245792388916016, 7.8792405128479, -6.871014595031738, -2.384633779525757, -0.14237377047538757, -3.4606919288635254, -2.586297035217285, 2.9843251705169678, -4.306148529052734, -10.273633003234863, -9.749939918518066, 0.6265971660614014, 1.03047776222229, -0.8043816685676575, -4.980255603790283, 0.47338777780532837, 0.6132804155349731, -7.9013566970825195, -6.898319244384766, 0.4565494954586029, -1.3682078123092651, 2.961503267288208, -2.877218008041382, -2.750317096710205, -11.2223482131958, -6.193578243255615, -3.039210081100464, 14.472829818725586, 2.5270869731903076, 6.791000843048096, -11.71253490447998, -0.12455005198717117, -5.966009616851807, -9.671968460083008, -4.55640983581543, 9.332866668701172, -7.061443328857422, 4.255985736846924, 3.494424343109131, -3.77766752243042, 5.780063152313232, -9.95889949798584, 9.242321014404297, -3.1408040523529053, 8.321098327636719, -6.43091344833374, -9.212492942810059, 4.99614143371582, 3.4279258251190186, 1.9627125263214111, 9.029684066772461, -4.478269100189209, -3.3411524295806885, -9.404454231262207, 0.7754865884780884, 8.80897045135498, 7.007530212402344, 5.745607376098633, 8.104150772094727, 1.0008724927902222, -4.822174549102783, 0.4417179524898529, -9.514435768127441, -11.885000228881836, -2.904714822769165, -4.740117073059082, -11.268924713134766, 0.7568469643592834, 10.682008743286133, -12.68077278137207, -6.108786106109619, -5.715087413787842, -8.168689727783203, 10.575139999389648, -11.142979621887207, 1.1900895833969116, -7.0676045417785645, -4.915337562561035, 0.9875251650810242, 4.583166599273682, -12.406587600708008, -4.8445000648498535, -9.409682273864746, -4.483036994934082, 0.8789180517196655, 5.459672451019287, 4.6848931312561035, -7.14198637008667, -2.4710960388183594, 1.8515194654464722, -1.5117156505584717, 4.033138751983643, 7.312700271606445, 13.837080955505371, 6.570005416870117, 1.5412613153457642, 0.5643072724342346, 10.980402946472168, -9.209226608276367, -5.411323547363281, -10.729024887084961, 0.3284660875797272, 7.904239654541016, 3.426071882247925, 0.24697361886501312, 3.9598655700683594, 3.085252285003662, -6.408993721008301, 9.87154769897461, -3.3577520847320557, 6.598536968231201, -10.48102855682373, -0.22192907333374023, 4.245051860809326, -6.829580783843994, -8.276095390319824, -4.440319061279297, -0.20242057740688324, -7.023659706115723, -10.939053535461426, 1.170089840888977, 0.35476914048194885, 13.22828483581543, 12.804804801940918, 3.2992684841156006, -4.4227213859558105, -6.016637802124023, 5.217094421386719, -8.004316329956055, -4.142511367797852, -5.389753818511963, 4.4267778396606445, -0.7558546662330627, -0.5633112788200378, -3.2921104431152344, 1.5088731050491333, 10.061858177185059, -11.83769416809082, 3.3585731983184814, -4.64609432220459, -2.047180652618408, 6.31543493270874, 7.740644931793213, 2.604707717895508, 1.6500319242477417, 2.462327241897583, 10.647859573364258, -10.668478965759277, 6.851518154144287, -2.454598903656006, -1.5756325721740723, -1.5787394046783447, 0.028070244938135147, 4.277144432067871, -5.890278339385986, 0.5783127546310425, -6.08465051651001, 4.904094219207764, 2.5626044273376465, 10.807616233825684, -10.751511573791504, 0.5584185719490051, 1.3404970169067383, 7.175612926483154, -10.472244262695312, 1.4529105424880981, -7.2932024002075195, -3.928478956222534, -1.5835367441177368, -11.337077140808105, 7.146214008331299, -4.289438724517822, -0.5009655356407166, -1.3727126121520996, 2.4929161071777344, 2.441042184829712, 2.954082727432251, 2.950911521911621, 7.3022074699401855, -13.119240760803223, -7.14077615737915, 2.435882091522217, 6.8026580810546875, 5.197699546813965, 4.448421955108643, 2.1850368976593018, 0.696411669254303, -10.318316459655762, -1.4875214099884033, -2.5285561084747314, -5.080850124359131, 3.5756337642669678, 5.492712020874023, 5.13353157043457, 2.4704461097717285, 7.037381649017334, 5.612574100494385, -2.818164825439453, 6.410780429840088, 2.8717329502105713, -2.235093593597412, 8.218085289001465, 0.8003377318382263, 4.400309085845947, -7.984755516052246, 3.7687489986419678, 0.06066042184829712, -0.383161336183548, -1.8715258836746216, 3.6249959468841553, 1.8140321969985962, -0.5824528932571411, 0.5328687429428101, 4.0629119873046875, 3.4104666709899902, 6.130672454833984, -0.08651047945022583, -0.4584276080131531, -4.1989593505859375, -1.2013882398605347, -7.156435012817383, 4.876735210418701, 4.0233941078186035, 1.2218372821807861, 0.22443683445453644, 1.8447648286819458, 5.779122352600098, 1.537831425666809, -5.2368483543396, 5.640313148498535, 8.326016426086426, 8.926538467407227, 6.35671329498291, 7.556634902954102, -6.387211322784424, 6.872435569763184, -9.912445068359375, -0.8113421201705933, 0.2274484485387802, -10.47673511505127, -2.153697967529297, 3.136477470397949, -6.604605197906494, 4.293085098266602, 6.128749370574951, 11.31722640991211, -4.65867805480957, 5.604756832122803, -4.064502716064453, -8.87174129486084, 7.139176845550537, -1.5505458116531372, -9.419293403625488, -0.9755809307098389, 4.462049961090088, -7.274148464202881, 8.79741382598877, 4.026440143585205, -1.5233154296875, 4.425441265106201, 7.543704986572266, -10.033065795898438, -8.885648727416992, 5.164252758026123, -3.584075450897217, 4.725172519683838, -4.805098056793213, 5.641786575317383, -12.662201881408691, 3.039151668548584, -3.6962199211120605, -4.3538289070129395, 4.686249256134033, -6.441553115844727, -1.0742563009262085, -10.533647537231445, -0.08219429105520248, -0.7916333079338074, 5.3741135597229, 7.757612228393555, 5.990824222564697, -1.2791956663131714, -4.375512599945068, 0.7812914252281189, -0.786410927772522, -2.461897611618042, -0.3705486059188843, -6.454639911651611, 2.1302638053894043, 7.410959720611572, -0.056010354310274124, -7.755494594573975, -10.19899845123291, 5.647538185119629, -8.802082061767578, 6.043081760406494, -8.87371826171875, -9.412016868591309, -3.7661798000335693, -0.3809356689453125, -3.1868696212768555, -4.076445579528809, 2.8806991577148438, 0.13223351538181305, -2.3453164100646973, -2.857511520385742, -6.070888996124268, -12.209033966064453, 1.0780771970748901, -0.424633651971817, 6.803387641906738, -10.550027847290039, -10.613200187683105, 3.093505382537842, 1.7582650184631348, -9.180991172790527, 6.763245105743408, -10.87610912322998, 6.470521450042725, -10.342609405517578, 3.8117458820343018, 3.3946523666381836, -0.006874217186123133, -8.042052268981934, 5.035623073577881, -1.859014630317688, -2.000124216079712, 4.858310699462891, -3.283578395843506, -3.714649200439453, -1.6810026168823242, 6.562331676483154, 6.437303066253662, -5.970216274261475, 5.769165515899658, -1.4745320081710815, -11.79126262664795, -3.591768503189087, -11.460953712463379, 0.183034285902977, 7.359792232513428, -2.9339048862457275, 1.0628206729888916, 9.273341178894043, 2.840177536010742, 3.9991841316223145, -10.90105152130127, 5.9494829177856445, -0.08618779480457306, 6.070404052734375, 3.8024065494537354, -0.06964286416769028, 11.625873565673828, -12.29940414428711, 7.033891677856445, -6.694993019104004, -7.855232238769531, -4.031702995300293, 0.11056025326251984, 4.161733627319336, -10.567659378051758, -4.302319526672363, -3.9039647579193115, 4.440001010894775, -4.718638896942139, -5.931613445281982, 7.222605228424072, -7.6781110763549805, 7.300817966461182, 3.0769340991973877, 1.8619736433029175, 5.367889881134033, 0.6871151924133301, -5.305546283721924, -4.905272960662842, 1.4508754014968872, -5.737096309661865, 5.276242733001709, -4.742653846740723, -1.1006304025650024, 6.255351543426514, 8.13455581665039, -1.9912694692611694, -7.250490188598633, 6.064268589019775, 4.998730182647705, -0.7475361227989197, 7.553847789764404, -6.670279502868652, -7.043792724609375, -10.210296630859375, 0.4090975224971771, -8.633495330810547, -2.991600513458252, -10.048633575439453, -3.2961671352386475, 12.081552505493164, 3.7910704612731934, 4.904366493225098, -4.951783657073975, 0.7778017520904541, 0.6548681259155273, -0.8244940042495728, -10.462286949157715, 0.04900427535176277, -1.6370753049850464, -3.922154664993286, -0.1987747848033905, -10.451655387878418, 2.9349071979522705, 5.057143688201904, -5.29741096496582, -8.808817863464355, -12.372629165649414, -2.050177574157715, -9.656279563903809, 0.4474572539329529, 1.5064470767974854, -1.3790463209152222, -6.025339603424072, 4.280721664428711, -9.39476203918457, 0.19178439676761627, 3.895026206970215, -3.889846086502075, -9.065411567687988, -9.121391296386719, -1.687098503112793, 7.227853298187256, -6.901752948760986, 3.0894134044647217, 7.442594051361084, -10.263795852661133, 4.141935348510742, 3.1668572425842285, 6.400206089019775, -9.003133773803711, 5.596347332000732, 7.998869895935059, -2.778404712677002, -10.557476043701172, 8.033956527709961, 0.3130706250667572, -11.769132614135742, 3.683535099029541, 5.992250442504883, 12.312600135803223, -9.507034301757812, 4.435235500335693, -9.450390815734863, 4.9800705909729, 7.165390968322754, 0.6605625748634338, 1.0373276472091675, -4.446061611175537, -4.914848327636719, -0.42840903997421265, 9.614917755126953, 0.08458904922008514]}],                        {\"coloraxis\": {\"colorbar\": {\"title\": {\"text\": \"color\"}}, \"colorscale\": [[0.0, \"#0d0887\"], [0.1111111111111111, \"#46039f\"], [0.2222222222222222, \"#7201a8\"], [0.3333333333333333, \"#9c179e\"], [0.4444444444444444, \"#bd3786\"], [0.5555555555555556, \"#d8576b\"], [0.6666666666666666, \"#ed7953\"], [0.7777777777777778, \"#fb9f3a\"], [0.8888888888888888, \"#fdca26\"], [1.0, \"#f0f921\"]]}, \"legend\": {\"tracegroupgap\": 0}, \"margin\": {\"t\": 60}, \"scene\": {\"domain\": {\"x\": [0.0, 1.0], \"y\": [0.0, 1.0]}, \"xaxis\": {\"title\": {\"text\": \"pc_1\"}}, \"yaxis\": {\"title\": {\"text\": \"pc_2\"}}, \"zaxis\": {\"title\": {\"text\": \"pc_3\"}}}, \"template\": {\"data\": {\"bar\": [{\"error_x\": {\"color\": \"#2a3f5f\"}, \"error_y\": {\"color\": \"#2a3f5f\"}, \"marker\": {\"line\": {\"color\": \"#E5ECF6\", \"width\": 0.5}}, \"type\": \"bar\"}], \"barpolar\": [{\"marker\": {\"line\": {\"color\": \"#E5ECF6\", \"width\": 0.5}}, \"type\": \"barpolar\"}], \"carpet\": [{\"aaxis\": {\"endlinecolor\": \"#2a3f5f\", \"gridcolor\": \"white\", \"linecolor\": \"white\", \"minorgridcolor\": \"white\", \"startlinecolor\": \"#2a3f5f\"}, \"baxis\": {\"endlinecolor\": \"#2a3f5f\", \"gridcolor\": \"white\", \"linecolor\": \"white\", \"minorgridcolor\": \"white\", \"startlinecolor\": \"#2a3f5f\"}, \"type\": \"carpet\"}], \"choropleth\": [{\"colorbar\": {\"outlinewidth\": 0, \"ticks\": \"\"}, \"type\": \"choropleth\"}], \"contour\": [{\"colorbar\": {\"outlinewidth\": 0, \"ticks\": \"\"}, \"colorscale\": [[0.0, \"#0d0887\"], [0.1111111111111111, \"#46039f\"], [0.2222222222222222, \"#7201a8\"], [0.3333333333333333, \"#9c179e\"], [0.4444444444444444, \"#bd3786\"], [0.5555555555555556, \"#d8576b\"], [0.6666666666666666, \"#ed7953\"], [0.7777777777777778, \"#fb9f3a\"], [0.8888888888888888, \"#fdca26\"], [1.0, \"#f0f921\"]], \"type\": \"contour\"}], \"contourcarpet\": [{\"colorbar\": {\"outlinewidth\": 0, \"ticks\": \"\"}, \"type\": \"contourcarpet\"}], \"heatmap\": [{\"colorbar\": {\"outlinewidth\": 0, \"ticks\": \"\"}, \"colorscale\": [[0.0, \"#0d0887\"], [0.1111111111111111, \"#46039f\"], [0.2222222222222222, \"#7201a8\"], [0.3333333333333333, \"#9c179e\"], [0.4444444444444444, \"#bd3786\"], [0.5555555555555556, \"#d8576b\"], [0.6666666666666666, \"#ed7953\"], [0.7777777777777778, \"#fb9f3a\"], [0.8888888888888888, \"#fdca26\"], [1.0, \"#f0f921\"]], \"type\": \"heatmap\"}], \"heatmapgl\": [{\"colorbar\": {\"outlinewidth\": 0, \"ticks\": \"\"}, \"colorscale\": [[0.0, \"#0d0887\"], [0.1111111111111111, \"#46039f\"], [0.2222222222222222, \"#7201a8\"], [0.3333333333333333, \"#9c179e\"], [0.4444444444444444, \"#bd3786\"], [0.5555555555555556, \"#d8576b\"], [0.6666666666666666, \"#ed7953\"], [0.7777777777777778, \"#fb9f3a\"], [0.8888888888888888, \"#fdca26\"], [1.0, \"#f0f921\"]], \"type\": \"heatmapgl\"}], \"histogram\": [{\"marker\": {\"colorbar\": {\"outlinewidth\": 0, \"ticks\": \"\"}}, \"type\": \"histogram\"}], \"histogram2d\": [{\"colorbar\": {\"outlinewidth\": 0, \"ticks\": \"\"}, \"colorscale\": [[0.0, \"#0d0887\"], [0.1111111111111111, \"#46039f\"], [0.2222222222222222, \"#7201a8\"], [0.3333333333333333, \"#9c179e\"], [0.4444444444444444, \"#bd3786\"], [0.5555555555555556, \"#d8576b\"], [0.6666666666666666, \"#ed7953\"], [0.7777777777777778, \"#fb9f3a\"], [0.8888888888888888, \"#fdca26\"], [1.0, \"#f0f921\"]], \"type\": \"histogram2d\"}], \"histogram2dcontour\": [{\"colorbar\": {\"outlinewidth\": 0, \"ticks\": \"\"}, \"colorscale\": [[0.0, \"#0d0887\"], [0.1111111111111111, \"#46039f\"], [0.2222222222222222, \"#7201a8\"], [0.3333333333333333, \"#9c179e\"], [0.4444444444444444, \"#bd3786\"], [0.5555555555555556, \"#d8576b\"], [0.6666666666666666, \"#ed7953\"], [0.7777777777777778, \"#fb9f3a\"], [0.8888888888888888, \"#fdca26\"], [1.0, \"#f0f921\"]], \"type\": \"histogram2dcontour\"}], \"mesh3d\": [{\"colorbar\": {\"outlinewidth\": 0, \"ticks\": \"\"}, \"type\": \"mesh3d\"}], \"parcoords\": [{\"line\": {\"colorbar\": {\"outlinewidth\": 0, \"ticks\": \"\"}}, \"type\": \"parcoords\"}], \"pie\": [{\"automargin\": true, \"type\": \"pie\"}], \"scatter\": [{\"marker\": {\"colorbar\": {\"outlinewidth\": 0, \"ticks\": \"\"}}, \"type\": \"scatter\"}], \"scatter3d\": [{\"line\": {\"colorbar\": {\"outlinewidth\": 0, \"ticks\": \"\"}}, \"marker\": {\"colorbar\": {\"outlinewidth\": 0, \"ticks\": \"\"}}, \"type\": \"scatter3d\"}], \"scattercarpet\": [{\"marker\": {\"colorbar\": {\"outlinewidth\": 0, \"ticks\": \"\"}}, \"type\": \"scattercarpet\"}], \"scattergeo\": [{\"marker\": {\"colorbar\": {\"outlinewidth\": 0, \"ticks\": \"\"}}, \"type\": \"scattergeo\"}], \"scattergl\": [{\"marker\": {\"colorbar\": {\"outlinewidth\": 0, \"ticks\": \"\"}}, \"type\": \"scattergl\"}], \"scattermapbox\": [{\"marker\": {\"colorbar\": {\"outlinewidth\": 0, \"ticks\": \"\"}}, \"type\": \"scattermapbox\"}], \"scatterpolar\": [{\"marker\": {\"colorbar\": {\"outlinewidth\": 0, \"ticks\": \"\"}}, \"type\": \"scatterpolar\"}], \"scatterpolargl\": [{\"marker\": {\"colorbar\": {\"outlinewidth\": 0, \"ticks\": \"\"}}, \"type\": \"scatterpolargl\"}], \"scatterternary\": [{\"marker\": {\"colorbar\": {\"outlinewidth\": 0, \"ticks\": \"\"}}, \"type\": \"scatterternary\"}], \"surface\": [{\"colorbar\": {\"outlinewidth\": 0, \"ticks\": \"\"}, \"colorscale\": [[0.0, \"#0d0887\"], [0.1111111111111111, \"#46039f\"], [0.2222222222222222, \"#7201a8\"], [0.3333333333333333, \"#9c179e\"], [0.4444444444444444, \"#bd3786\"], [0.5555555555555556, \"#d8576b\"], [0.6666666666666666, \"#ed7953\"], [0.7777777777777778, \"#fb9f3a\"], [0.8888888888888888, \"#fdca26\"], [1.0, \"#f0f921\"]], \"type\": \"surface\"}], \"table\": [{\"cells\": {\"fill\": {\"color\": \"#EBF0F8\"}, \"line\": {\"color\": \"white\"}}, \"header\": {\"fill\": {\"color\": \"#C8D4E3\"}, \"line\": {\"color\": \"white\"}}, \"type\": \"table\"}]}, \"layout\": {\"annotationdefaults\": {\"arrowcolor\": \"#2a3f5f\", \"arrowhead\": 0, \"arrowwidth\": 1}, \"coloraxis\": {\"colorbar\": {\"outlinewidth\": 0, \"ticks\": \"\"}}, \"colorscale\": {\"diverging\": [[0, \"#8e0152\"], [0.1, \"#c51b7d\"], [0.2, \"#de77ae\"], [0.3, \"#f1b6da\"], [0.4, \"#fde0ef\"], [0.5, \"#f7f7f7\"], [0.6, \"#e6f5d0\"], [0.7, \"#b8e186\"], [0.8, \"#7fbc41\"], [0.9, \"#4d9221\"], [1, \"#276419\"]], \"sequential\": [[0.0, \"#0d0887\"], [0.1111111111111111, \"#46039f\"], [0.2222222222222222, \"#7201a8\"], [0.3333333333333333, \"#9c179e\"], [0.4444444444444444, \"#bd3786\"], [0.5555555555555556, \"#d8576b\"], [0.6666666666666666, \"#ed7953\"], [0.7777777777777778, \"#fb9f3a\"], [0.8888888888888888, \"#fdca26\"], [1.0, \"#f0f921\"]], \"sequentialminus\": [[0.0, \"#0d0887\"], [0.1111111111111111, \"#46039f\"], [0.2222222222222222, \"#7201a8\"], [0.3333333333333333, \"#9c179e\"], [0.4444444444444444, \"#bd3786\"], [0.5555555555555556, \"#d8576b\"], [0.6666666666666666, \"#ed7953\"], [0.7777777777777778, \"#fb9f3a\"], [0.8888888888888888, \"#fdca26\"], [1.0, \"#f0f921\"]]}, \"colorway\": [\"#636efa\", \"#EF553B\", \"#00cc96\", \"#ab63fa\", \"#FFA15A\", \"#19d3f3\", \"#FF6692\", \"#B6E880\", \"#FF97FF\", \"#FECB52\"], \"font\": {\"color\": \"#2a3f5f\"}, \"geo\": {\"bgcolor\": \"white\", \"lakecolor\": \"white\", \"landcolor\": \"#E5ECF6\", \"showlakes\": true, \"showland\": true, \"subunitcolor\": \"white\"}, \"hoverlabel\": {\"align\": \"left\"}, \"hovermode\": \"closest\", \"mapbox\": {\"style\": \"light\"}, \"paper_bgcolor\": \"white\", \"plot_bgcolor\": \"#E5ECF6\", \"polar\": {\"angularaxis\": {\"gridcolor\": \"white\", \"linecolor\": \"white\", \"ticks\": \"\"}, \"bgcolor\": \"#E5ECF6\", \"radialaxis\": {\"gridcolor\": \"white\", \"linecolor\": \"white\", \"ticks\": \"\"}}, \"scene\": {\"xaxis\": {\"backgroundcolor\": \"#E5ECF6\", \"gridcolor\": \"white\", \"gridwidth\": 2, \"linecolor\": \"white\", \"showbackground\": true, \"ticks\": \"\", \"zerolinecolor\": \"white\"}, \"yaxis\": {\"backgroundcolor\": \"#E5ECF6\", \"gridcolor\": \"white\", \"gridwidth\": 2, \"linecolor\": \"white\", \"showbackground\": true, \"ticks\": \"\", \"zerolinecolor\": \"white\"}, \"zaxis\": {\"backgroundcolor\": \"#E5ECF6\", \"gridcolor\": \"white\", \"gridwidth\": 2, \"linecolor\": \"white\", \"showbackground\": true, \"ticks\": \"\", \"zerolinecolor\": \"white\"}}, \"shapedefaults\": {\"line\": {\"color\": \"#2a3f5f\"}}, \"ternary\": {\"aaxis\": {\"gridcolor\": \"white\", \"linecolor\": \"white\", \"ticks\": \"\"}, \"baxis\": {\"gridcolor\": \"white\", \"linecolor\": \"white\", \"ticks\": \"\"}, \"bgcolor\": \"#E5ECF6\", \"caxis\": {\"gridcolor\": \"white\", \"linecolor\": \"white\", \"ticks\": \"\"}}, \"title\": {\"x\": 0.05}, \"xaxis\": {\"automargin\": true, \"gridcolor\": \"white\", \"linecolor\": \"white\", \"ticks\": \"\", \"title\": {\"standoff\": 15}, \"zerolinecolor\": \"white\", \"zerolinewidth\": 2}, \"yaxis\": {\"automargin\": true, \"gridcolor\": \"white\", \"linecolor\": \"white\", \"ticks\": \"\", \"title\": {\"standoff\": 15}, \"zerolinecolor\": \"white\", \"zerolinewidth\": 2}}}},                        {\"responsive\": true}                    ).then(function(){\n",
       "                            \n",
       "var gd = document.getElementById('26aa6b04-61ac-42e2-afd6-8524be45f1ff');\n",
       "var x = new MutationObserver(function (mutations, observer) {{\n",
       "        var display = window.getComputedStyle(gd).display;\n",
       "        if (!display || display === 'none') {{\n",
       "            console.log([gd, 'removed!']);\n",
       "            Plotly.purge(gd);\n",
       "            observer.disconnect();\n",
       "        }}\n",
       "}});\n",
       "\n",
       "// Listen for the removal of the full notebook cells\n",
       "var notebookContainer = gd.closest('#notebook-container');\n",
       "if (notebookContainer) {{\n",
       "    x.observe(notebookContainer, {childList: true});\n",
       "}}\n",
       "\n",
       "// Listen for the clearing of the current output cell\n",
       "var outputEl = gd.closest('.output');\n",
       "if (outputEl) {{\n",
       "    x.observe(outputEl, {childList: true});\n",
       "}}\n",
       "\n",
       "                        })                };                });            </script>        </div>"
      ]
     },
     "metadata": {},
     "output_type": "display_data"
    }
   ],
   "source": [
    "from sklearn.cluster import DBSCAN\n",
    "import plotly.express as px\n",
    "\n",
    "# NOTE: low eps, high min_samples -> search for higher density clusters\n",
    "clustering = DBSCAN(eps=2.0, min_samples=20, n_jobs=-1, metric='l2')\n",
    "\n",
    "clusters = clustering.fit_predict(val_question_proj)\n",
    "n_clusters = len(np.unique(clusters))\n",
    "print('{} clusters found'.format(n_clusters))\n",
    "\n",
    "\n",
    "df = pd.DataFrame(val_question_proj, columns=['pc_1', 'pc_2', 'pc_3'])\n",
    "df = pd.concat([df, knn_df['question']], axis=1)\n",
    "fig = px.scatter_3d(df, x='pc_1', y='pc_2', z='pc_3', color=clusters, hover_data=['question'])\n",
    "fig.update_traces(marker_size=3)\n",
    "fig.show()"
   ]
  },
  {
   "cell_type": "markdown",
   "metadata": {},
   "source": [
    "### Notes:\n",
    "\n",
    "1. From [When is \"Nearest Neighbor\" Meaningful?](https://members.loria.fr/MOBerger/Enseignement/Master2/Exposes/beyer.pdf) - \"Another possible scenario where high dimensional nearest neighbor queries are meaningful occurs when the underlying dimensionality of the data is much lower than the actual dimensionality.\"\n",
    "\n",
    "    - Can we perform nearest neighbor calculations better if we enforce a sparsity constraint on the learned embeddings?\n",
    "    \n",
    "2. "
   ]
  },
  {
   "cell_type": "code",
   "execution_count": null,
   "metadata": {},
   "outputs": [],
   "source": []
  }
 ],
 "metadata": {
  "kernelspec": {
   "display_name": "Python 3",
   "language": "python",
   "name": "python3"
  },
  "language_info": {
   "codemirror_mode": {
    "name": "ipython",
    "version": 3
   },
   "file_extension": ".py",
   "mimetype": "text/x-python",
   "name": "python",
   "nbconvert_exporter": "python",
   "pygments_lexer": "ipython3",
   "version": "3.8.3"
  }
 },
 "nbformat": 4,
 "nbformat_minor": 4
}
