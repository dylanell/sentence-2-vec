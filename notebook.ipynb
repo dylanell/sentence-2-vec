{
 "cells": [
  {
   "cell_type": "markdown",
   "metadata": {},
   "source": [
    "# Learning Sentence Representations from Question-Answer Pairs\n",
    "\n",
    "In this project, we explore a method to learn fixed length vector representations for variable lengthed \"short\" sentences (on the order of at most around 50 words) of text data collected from a limited-scope topic domain (like \"diabetes\"). These sentences are questions scraped from an online forum like answers.com, and each sample is accompanied by the top response (answer) corresponding to each question. We use question-answer data scraped from an online forum because the \"label\" (answer) for each training sample (question) is free. These labels are technically \"soft labels\" since they are responses taken verbatim from the general public. Our goal is to use these labels to supervise corresponding answers in a sort of \"skip-thought\" fashion in order to learn sentence representations from within a specific topic domain."
   ]
  },
  {
   "cell_type": "markdown",
   "metadata": {},
   "source": [
    "### Text-based Representation Learning\n",
    "\n",
    "The application of understanding user questions might be the starting point if you are attempting to build a chatbot to automatically handle customer queries. As an initial step, you might want to cluster queries into different high-level feature categories, requiring a numerical learned feature representation of consistent dimensionality for all queries. A fully supervised approach could potentially work for this, where a model is trained to output the correct answer given a quesion, but would most likely require a lot of data and some clever model design and depend too heavily on soft-labels which could sometimes be downright wrong. On the other hand, this could be attempted in an entirely unsupervised manner, perhaps by learning to unscramble augmented question strings or impute missing words. Unsupervised methods may learn to bias too heavily towards unexpected features (like individual words or low-level grammatical logic), and still, we have useful information nonetheless in the answers, so why not try to use this."
   ]
  },
  {
   "cell_type": "markdown",
   "metadata": {},
   "source": [
    "### Triplet Networks\n",
    "\n",
    "The method chosen here involves constructing \"triplets\" of comparison-based learning samples consisting of a question, it's correct answer, and a sampled incorrect answer, usually refered to as the anchor, positive and negative samples, respectively. Specifically, by constructing \"positive\" question-answer pairs of anchor and positive samples, and \"negative\" question-answer pairs of anchor and negative samples, we train a model to discriminate between these two pairs. Usually this is done by satisfying some criterion based on a distance/similarity measurement in a learned, fixed-dimensionality feature space, requiring that samples from a positive pair be mapped closer together (on average) than samples form a negative pair. Deep networks constructed to solve this learning problem are popularly called \"Triplet Networks\"."
   ]
  },
  {
   "cell_type": "markdown",
   "metadata": {},
   "source": [
    "### Model Architecture and Objective\n",
    "\n",
    "The authors in the paper [Learning Thematic Similarity Metric Using Triplet Networks](https://pdfs.semanticscholar.org/0846/f3cb0ae555c4f7015dca2fce6a047501154f.pdf?_ga=2.178325220.1389316910.1606965483-939693653.1606965483) use a triplet network equipped with the \"Ratio Loss\" loss-function, which converts distances between samples in representation space into probabilities. The authors report better results using this loss function instead of using the popular \"Triplet Margin Loss\" loss-function used in other triplet network implementations such as this [FaceNet](https://arxiv.org/pdf/1503.03832.pdf) paper. Upon visual investigation using nearest-neighbor searches, dimensionality reduction, and clustering, we were able to obtain good results using either loss function, therefore we allow the choice between these two losses to be set as a configuration parameter (\"margin\" for the Triplet Margin Loss and \"ratio\" for the Ratio Loss). \n",
    "\n",
    "Since our dataset consists of question-answer pairs, constructing the positive pair for a triplet is simply done by pairing a question with its corresponding answer. To construct the negative pair for a triplet, we randomly sample a different answer uniformly from the dataset, resulting in an answer that is most-likely incorrect for the anchor sample. Like most triplet network implementations, our triplet network consists of 3 identical deep sentence encoders with tied weights. Each identical encoder computes a representation for the anchor, positive, and negative sample, and then these 3 representations are used to compute the overall loss based on their \"closeness\" to each other as measured in the representation space. We test if indeed \"Attention Is All You Need\" by choosing our encoder architecture to be a series of stacked transformer networks, described in the paper [Attention Is All You Need](https://arxiv.org/pdf/1706.03762.pdf). The generalized model architecure we use is summarized in the diagram below. \n",
    "\n",
    "Anchor, positive, and negative sentences are provided as vocabulary-indexed batches which are converted to batches of word-vector arrays by the embedding layer. The embedding layer can be loaded with pre-trained word embeddings by specifying a word vector text file with the `wordvec_file` variable in `config.yaml`. This file must be in a format with each line containing a word string followed by its corresponding word vector where every value is separated by a space (i.e. 'hello 0.1 -0.2 0.4\\n'). More information can be found on this file format [here](https://medium.com/@martinpella/how-to-use-pre-trained-word-embeddings-in-pytorch-71ca59249f76). If `wordvec_file` is set to `null`, the word vectors are randomly initialized. regardless of whether loading pre-trained word vectors or initializing them from random, they can either be trained along with the rest of the model or kept constant by setting `freeze_wordvecs` to `False` or `True`, respectively. The output from the stacked transformers is summed along the sentence length dimension to construct fixed lengthed representations for every sentence. The distance function used to compare the pooled transformer outputs is selected by setting the `distance_metric` variable in `config.yaml` to either 'l2', 'l1', or 'cosine', corresponding to euclidean or similarity-based distance functions. The transformers at each common level (i.e. $Transformer_{i}$) are all weight-tied as well as the embedding layer weights resulting in identical processing streams for the anchor, positive, and negative samples up until the distance function computation."
   ]
  },
  {
   "cell_type": "markdown",
   "metadata": {},
   "source": [
    "![title](images/triplet_net.png)"
   ]
  },
  {
   "cell_type": "markdown",
   "metadata": {},
   "source": [
    "### Exploring Learned Representations\n",
    "\n",
    "The steps below involve exploring learned representations from files of encoded sentence vectors after a model has been trained. The `README` in this repo explains how to preprocess the data and train a model, which will write `val_question_tok.txt` and `val_question_vec.txt` files consisting of question strings and their encoded learned representations from the validation split, respectively. You can use the code blocks to explore learned representations for various pretrained models and clustering parameters. We experimented with varying loss functions (Ratio Loss vs. Triplet Margin Loss), model architectures (only pre-trained word vectors, only custom word-vectors, 2 transformers, 4 transformers, 100d word-vectors, 300d word-vectors, etc.), and various other model parameters (transformer activation, distance metric, etc.), and found we could find clusters in each case, but generally observed less bias on individual words when transformer layers were included. Below, we include a set of `config.yaml` model parameters and DBSCAN clustering parameters that together yield some nice clusters, as well as the `val_question_tok.txt` and `val_question_vec.txt` files written to the `out_files` directory, from a model trained with these parameters. \n",
    "\n",
    "`config.yaml` Parameter Settings:\n",
    "\n",
    "```\n",
    "wordvec_file: 'glove.6B.300d.txt'\n",
    "freeze_wordvecs: True\n",
    "wordvec_dim: 300\n",
    "number_epochs: 100\n",
    "batch_size: 64\n",
    "learning_rate: 0.0001\n",
    "weight_decay: 0.01\n",
    "number_transformers: 2\n",
    "number_attention_heads: 10\n",
    "transformer_activation: 'tanh'\n",
    "distance_metric: 'l1'\n",
    "output_process: 'normalize'\n",
    "margin: 0.2\n",
    "loss: 'margin'\n",
    "```\n",
    "\n",
    "DBSCAN Parameter Settings:\n",
    "```\n",
    "eps: 0.1\n",
    "min_samples: 10\n",
    "metric: 'l2'\n",
    "```"
   ]
  },
  {
   "cell_type": "markdown",
   "metadata": {},
   "source": [
    "#### 1. Setup\n",
    "\n",
    "Import packages, define some variables, and load validation question tokens and representations files."
   ]
  },
  {
   "cell_type": "code",
   "execution_count": 1,
   "metadata": {},
   "outputs": [],
   "source": [
    "import torch\n",
    "import pandas as pd\n",
    "import numpy as np\n",
    "from sklearn.manifold import TSNE\n",
    "from sklearn.cluster import DBSCAN\n",
    "import nltk\n",
    "from nltk.corpus import stopwords\n",
    "import plotly.express as px\n",
    "\n",
    "metric = 'l1'\n",
    "\n",
    "# load validation question and answer token lists\n",
    "with open('out_files/val_question_tok.txt', 'r') as fp:\n",
    "    val_question_tok = [line.strip('\\n') for line in fp]\n",
    "    \n",
    "# load validation question and answer vectors\n",
    "val_question_vec = np.genfromtxt('out_files/val_question_vec.txt', delimiter=',')"
   ]
  },
  {
   "cell_type": "markdown",
   "metadata": {},
   "source": [
    "#### 2. t-SNE Projection\n",
    "\n",
    "Project the validation question vectors onto their first three t-SNE components. We use the same distance metric used for training the representations for t-SNE since this algorithm operates in same feature space. Additionally, we normalize the projections along each component dimension in order to bring all features to the common scale $[0, 1]^3$, which simplifies the search for good clustering with varying model parameters and stochastic outputs of t-SNE."
   ]
  },
  {
   "cell_type": "code",
   "execution_count": 2,
   "metadata": {},
   "outputs": [],
   "source": [
    "# compute t-SNE projections\n",
    "tsne = TSNE(n_components=3, metric=metric)\n",
    "val_question_proj = tsne.fit_transform(val_question_vec)\n",
    "\n",
    "# normalize projections along each dimension to lie in [0, 1]^3\n",
    "val_question_proj = val_question_proj / np.max(np.abs(val_question_proj), axis=0)"
   ]
  },
  {
   "cell_type": "markdown",
   "metadata": {},
   "source": [
    "#### 3. Clustering in Projection Space\n",
    "\n",
    "In the code block below, we perform density-based DBSCAN clustering on the t-SNE projected question representations. We use Euclidean L2 distance for evaluating clusters since this algorithm operates in a 3D space in which the L2 norm is nicely behaved. The values of `eps` and `min_samples` control the density of clusters for DBSCAN to search for. Generally, lower `eps` and higher `min_samples` leads to the discovery of high-density clusters (more samples within less space). Lower values of `min_samples` will generally lead to the discovery of more specific clusters (and therefore bias more heavily towards specific words) while higher values will yeild more general clusters. Iterating on different values of these parameters provides a good method to explore the projected feature space of the learned representations. Since DBSCAN also creates a cluster for \"outlier\" samples (label=-1), we report the percentage of clusters found to be \"non-outliers\" and how many of these clusters are found. We perform analysis moving forward on only the non-outlier clusters, and ignore the rest for now. "
   ]
  },
  {
   "cell_type": "code",
   "execution_count": 3,
   "metadata": {},
   "outputs": [
    {
     "name": "stdout",
     "output_type": "stream",
     "text": [
      "[Num. Clusters]: 46, [Perc. Non-Outliers]: 51.8\n"
     ]
    }
   ],
   "source": [
    "# cluster 3D t-SNE projections\n",
    "# NOTE: low eps, high min_samples -> search for higher density clusters\n",
    "clustering = DBSCAN(eps=0.1, min_samples=10, n_jobs=-1, metric='l2')\n",
    "clusters = clustering.fit_predict(val_question_proj)\n",
    "\n",
    "# cluster info\n",
    "num_clusters = len(np.unique(clusters))\n",
    "perc_labeled = 100 * (len(clusters[clusters != -1]) / len(clusters))\n",
    "print('[Num. Clusters]: {}, [Perc. Non-Outliers]: {:.1f}'.format(num_clusters, perc_labeled))"
   ]
  },
  {
   "cell_type": "code",
   "execution_count": 81,
   "metadata": {},
   "outputs": [],
   "source": [
    "# initialize dataframe of question token strings\n",
    "df = pd.DataFrame(val_question_tok, columns=['question'])\n",
    "\n",
    "# add sentence vectors to dataframe as numpy arrays\n",
    "df['vector'] = val_question_vec.tolist()\n",
    "df['vector'] = df['vector'].map(lambda x: np.array(x))\n",
    "\n",
    "# add cluster labels to dataframe\n",
    "df['label'] = clusters\n",
    "\n",
    "# add projection components to dataframe\n",
    "proj_df = pd.DataFrame(val_question_proj, columns=['pc_1', 'pc_2', 'pc_3'])\n",
    "df = pd.concat([proj_df, df], axis=1)"
   ]
  },
  {
   "cell_type": "markdown",
   "metadata": {},
   "source": [
    "#### 4. Cluster Summary Strings\n",
    "\n",
    "For each cluster label returned by DBSCAN (omitting outlier clusters with label=-1), we create a psuedo-label consisting of the top-5 words from questions assigned to that label, omitting all standard stop words and some common extra stop words defined above. These psuedo-labels aim to provide a natural language rough topic summary for each cluster and are added to the dataframe as a 'summary' column. Additionally, we average the sentence vectors sharing each common cluster label to compute representative vectors for each cluster label and these are added to the dataframe as an 'avg_vector' column. "
   ]
  },
  {
   "cell_type": "code",
   "execution_count": 82,
   "metadata": {},
   "outputs": [],
   "source": [
    "# get list standard stop words and add some custom ones to this list\n",
    "stop_words = stopwords.words('english')\n",
    "extras = ['diabetes', '?', '.', '!', '<unk>']\n",
    "stop_words += extras\n",
    "\n",
    "# initialize word stemmer\n",
    "stemmer = nltk.stem.PorterStemmer()\n",
    "\n",
    "# stem stop words\n",
    "stop_words = [stemmer.stem(word) for word in stop_words]\n",
    "\n",
    "# add a summary column\n",
    "df['summary'] = None\n",
    "\n",
    "# add column for average cluster vector\n",
    "df['avg_vector'] = None\n",
    "\n",
    "# infer cluster topics\n",
    "for label in sorted(df['label'].unique()):\n",
    "    # get all samples with this label\n",
    "    samples = df[df['label'] == label]['question']\n",
    "    \n",
    "    # get all vectors with this label\n",
    "    vectors = np.stack(df[df['label'] == label]['vector'].to_numpy())\n",
    "    \n",
    "    # compute average vec for this cluster label\n",
    "    avg_vector = np.mean(vectors, axis=0)\n",
    "    \n",
    "    # add average vector to dataframe\n",
    "    df.loc[df['label'] == label, 'avg_vector'] = df.loc[df['label'] == label, 'avg_vector'].map(\n",
    "        lambda x: avg_vector)\n",
    "    \n",
    "    # convert samples to a list\n",
    "    samples = samples.tolist()\n",
    "    \n",
    "    # tokenize samples by whitespace\n",
    "    tokens = [[word for word in sentence.split(' ')] for sentence in samples]\n",
    "    \n",
    "    # flatten samples list\n",
    "    tokens = [inner for outer in tokens for inner in outer]\n",
    "    \n",
    "    # stem tokens\n",
    "    tokens = [stemmer.stem(token) for token in tokens]\n",
    "    \n",
    "    # filter stopwords\n",
    "    tokens = [token for token in tokens if not token in stop_words]\n",
    "    \n",
    "    # get token frequencies\n",
    "    fdist = nltk.FreqDist(tokens)\n",
    "    \n",
    "    # get summary string from 5 most frequent tokens\n",
    "    summary = ' '.join([token for token, _ in fdist.most_common(5)])\n",
    "    \n",
    "    # add summary string to dataframe\n",
    "    df.loc[df['label'] == label, 'summary'] = summary\n",
    "\n",
    "# write dataframe of just unique labels, label summaries, and label vectors to csv\n",
    "labels_df = df[df['label'] != -1][['label', 'summary', 'avg_vector']].drop_duplicates(\n",
    "    subset='label', ignore_index=True)\n",
    "labels_df = labels_df.sort_values(by='label')\n",
    "labels_df.to_csv('out_files/clusters.csv', index=False)"
   ]
  },
  {
   "cell_type": "markdown",
   "metadata": {},
   "source": [
    "#### 5. Plot 3D Clusters\n",
    "\n",
    "In the code block below, we create a 3D scatter plot of the validation question t-SNE projections, omitting all samples assigned to the outlier cluster label by DBSCAN. Points are color coded by cluster labels to reveal the organized structure in feature space and a legend is included which maps the numerical cluster label to its generated psuedo-label topic summary. "
   ]
  },
  {
   "cell_type": "code",
   "execution_count": 83,
   "metadata": {},
   "outputs": [
    {
     "data": {
      "application/vnd.plotly.v1+json": {
       "config": {
        "plotlyServerURL": "https://plot.ly"
       },
       "data": [
        {
         "customdata": [
          [
           "how is diabetes type one transmitted ?",
           "type one two caus mellitu",
           12
          ],
          [
           "how many women have diabetes ?",
           "type one two caus mellitu",
           12
          ],
          [
           "can a thirteen year old get type two diabetes ?",
           "type one two caus mellitu",
           12
          ],
          [
           "is type two diabetes deadly ?",
           "type one two caus mellitu",
           12
          ],
          [
           "which <unk> have diabetes ?",
           "type one two caus mellitu",
           12
          ],
          [
           "is diabetes found only in the us ?",
           "type one two caus mellitu",
           12
          ],
          [
           "how is type two diabetes transmitted ?",
           "type one two caus mellitu",
           12
          ],
          [
           "what is the difference between type ii diabetes and juvenile or type i diabetes ?",
           "type one two caus mellitu",
           12
          ],
          [
           "why is type two diabetes an issue ?",
           "type one two caus mellitu",
           12
          ],
          [
           "raised serum <unk> levels ?",
           "type one two caus mellitu",
           12
          ],
          [
           "high levels of <unk> in diabetes ?",
           "type one two caus mellitu",
           12
          ],
          [
           "did <unk> <unk> <unk> have diabetes type one or two ?",
           "type one two caus mellitu",
           12
          ],
          [
           "what chromosome number is diabetes type two ?",
           "type one two caus mellitu",
           12
          ],
          [
           "is type one diabetes a dominant or recessive gene ?",
           "type one two caus mellitu",
           12
          ],
          [
           "is there really type four diabetes ?",
           "type one two caus mellitu",
           12
          ],
          [
           "does diabetes reduce a person lifespan ?",
           "type one two caus mellitu",
           12
          ],
          [
           "type i diabetes ?",
           "type one two caus mellitu",
           12
          ],
          [
           "is glucose related to diabetes ?",
           "type one two caus mellitu",
           12
          ],
          [
           "diabetes chart ?",
           "type one two caus mellitu",
           12
          ],
          [
           "is type one diabetes bad ?",
           "type one two caus mellitu",
           12
          ],
          [
           "can diabetes be prevented or not ?",
           "type one two caus mellitu",
           12
          ],
          [
           "neuropathy diabetes ?",
           "type one two caus mellitu",
           12
          ],
          [
           "is diabetes a <unk> error ?",
           "type one two caus mellitu",
           12
          ],
          [
           "why beta <unk> is not given in diabetes ?",
           "type one two caus mellitu",
           12
          ],
          [
           "is juvenile diabetes o genetic disorder ?",
           "type one two caus mellitu",
           12
          ],
          [
           "is there any connection between poor nutrition and diabetes ?",
           "type one two caus mellitu",
           12
          ],
          [
           "diabetes mellitus is a disorder of the ?",
           "type one two caus mellitu",
           12
          ],
          [
           "can type two diabetes kill you ?",
           "type one two caus mellitu",
           12
          ],
          [
           "can type one diabetes ever go away ?",
           "type one two caus mellitu",
           12
          ],
          [
           "diabetes guidelines ?",
           "type one two caus mellitu",
           12
          ],
          [
           "is a vector <unk> in diabetes mellitus ?",
           "type one two caus mellitu",
           12
          ],
          [
           "is type one diabetes more common than type two diabetes ?",
           "type one two caus mellitu",
           12
          ],
          [
           "is medical issues and diabetes special needs ?",
           "type one two caus mellitu",
           12
          ],
          [
           "is <unk> necrosis caused by diabetes ?",
           "type one two caus mellitu",
           12
          ],
          [
           "who is most likely to be affected by type two diabetes ?",
           "type one two caus mellitu",
           12
          ],
          [
           "where is diabetes very common in the world ?",
           "type one two caus mellitu",
           12
          ],
          [
           "is type two diabetes hereditary ?",
           "type one two caus mellitu",
           12
          ],
          [
           "diabetes levels ?",
           "type one two caus mellitu",
           12
          ],
          [
           "is diabetes hereditary ?",
           "type one two caus mellitu",
           12
          ],
          [
           "can type one diabetes be prevented ?",
           "type one two caus mellitu",
           12
          ],
          [
           "who <unk> diabetes ?",
           "type one two caus mellitu",
           12
          ],
          [
           "can a person suddenly acquire diabetes ?",
           "type one two caus mellitu",
           12
          ],
          [
           "is type one diabetes a sex linked gene ?",
           "type one two caus mellitu",
           12
          ],
          [
           "will a type one diabetic male produce children with type one diabetes ?",
           "type one two caus mellitu",
           12
          ],
          [
           "is type one diabetes worse then type two ?",
           "type one two caus mellitu",
           12
          ],
          [
           "is nutrilite bio c for diabetes ?",
           "type one two caus mellitu",
           12
          ],
          [
           "can diabetes be inherited ?",
           "type one two caus mellitu",
           12
          ],
          [
           "how is diabetes spread from person to person ?",
           "type one two caus mellitu",
           12
          ],
          [
           "does diabetes cause <unk> ?",
           "type one two caus mellitu",
           12
          ],
          [
           "is diabetes an example of <unk> hyposecretion or receptor problem ?",
           "type one two caus mellitu",
           12
          ],
          [
           "what disorder is type two diabetes ?",
           "type one two caus mellitu",
           12
          ],
          [
           "what risks contribute to diabetes ?",
           "type one two caus mellitu",
           12
          ],
          [
           "the number one cause of what in adults in the us is diabetes ?",
           "type one two caus mellitu",
           12
          ],
          [
           "is diabetes transferable through any body contact ?",
           "type one two caus mellitu",
           12
          ],
          [
           "how can diabetes mellitus result in <unk> ?",
           "type one two caus mellitu",
           12
          ],
          [
           "how would someone subscribe to the magazine diabetes care ?",
           "type one two caus mellitu",
           12
          ],
          [
           "juveniles diabetes foundation ?",
           "type one two caus mellitu",
           12
          ],
          [
           "what causes diabetes insipidus ?",
           "type one two caus mellitu",
           12
          ],
          [
           "is type one diabetes easier or harder to treat than type two diabetes ?",
           "type one two caus mellitu",
           12
          ],
          [
           "why is type two diabetes more common in the us then in any other country ?",
           "type one two caus mellitu",
           12
          ],
          [
           "is type one diabetes a mutation ?",
           "type one two caus mellitu",
           12
          ],
          [
           "is type two diabetes rarer than type one ?",
           "type one two caus mellitu",
           12
          ],
          [
           "<unk> of type two diabetes ?",
           "type one two caus mellitu",
           12
          ],
          [
           "is type one diabetes an inherited condition ?",
           "type one two caus mellitu",
           12
          ],
          [
           "when is diabetes awareness month ?",
           "type one two caus mellitu",
           12
          ],
          [
           "does <unk> <unk> have type one diabetes ?",
           "type one two caus mellitu",
           12
          ],
          [
           "what may contribute to the onset of type ii diabetes ?",
           "type one two caus mellitu",
           12
          ],
          [
           "reverse diabetes ?",
           "type one two caus mellitu",
           12
          ],
          [
           "name of disorder of diabetes ?",
           "type one two caus mellitu",
           12
          ],
          [
           "is type two diabetes known as insulin-dependent diabetes ?",
           "type one two caus mellitu",
           12
          ],
          [
           "diabetes and <unk> ?",
           "type one two caus mellitu",
           12
          ],
          [
           "will <unk> cause diabetes ?",
           "type one two caus mellitu",
           12
          ],
          [
           "is diabetes transferable sexually ?",
           "type one two caus mellitu",
           12
          ],
          [
           "diabetes increases your <unk> of suffering from ?",
           "type one two caus mellitu",
           12
          ],
          [
           "who are more at risk of developing type ii diabetes mellitus ?",
           "type one two caus mellitu",
           12
          ],
          [
           "<unk> of diabetes ?",
           "type one two caus mellitu",
           12
          ],
          [
           "is diabetes autosomal or sex linked ?",
           "type one two caus mellitu",
           12
          ],
          [
           "can people with type one diabetes use <unk> ?",
           "type one two caus mellitu",
           12
          ],
          [
           "is there a type three diabetes ?",
           "type one two caus mellitu",
           12
          ],
          [
           "type one and type two diabetes ?",
           "type one two caus mellitu",
           12
          ],
          [
           "is stress linked to type ll diabetes ?",
           "type one two caus mellitu",
           12
          ],
          [
           "what type of hereditary condition is <unk> <unk> ?",
           "type one two caus mellitu",
           12
          ],
          [
           "low mpv count ?",
           "type one two caus mellitu",
           12
          ],
          [
           "is diabetes one more common than diabetes two ?",
           "type one two caus mellitu",
           12
          ],
          [
           "how is diabetes transferred ?",
           "type one two caus mellitu",
           12
          ],
          [
           "what may be the cause of a twenty seven yr old girl found suffering from diabetes who has no such family history ?",
           "type one two caus mellitu",
           12
          ],
          [
           "can diabetes be <unk> ?",
           "type one two caus mellitu",
           12
          ],
          [
           "what type of diabetes is it if it runs in the family ?",
           "type one two caus mellitu",
           12
          ],
          [
           "are <unk> and <unk> strait <unk> more susceptible to getting diabetes ?",
           "type one two caus mellitu",
           12
          ],
          [
           "how does <unk> lead to hyperglycemia ?",
           "type one two caus mellitu",
           12
          ],
          [
           "can hypoglycemia lead to diabetes ?",
           "type one two caus mellitu",
           12
          ],
          [
           "is rolling your tongue a dominant or recessive trait ?",
           "type one two caus mellitu",
           12
          ],
          [
           "what is type i diabetes ?",
           "type one two caus mellitu",
           12
          ],
          [
           "how is type one diabetes mellitus similar to starvation ?",
           "type one two caus mellitu",
           12
          ],
          [
           "what percent of type two diabetes patients are overweight and obese ?",
           "type one two caus mellitu",
           12
          ],
          [
           "<unk> and diabetes ?",
           "type one two caus mellitu",
           12
          ],
          [
           "why do afro-americans suffer from such diseases as hypertension diabetes cancer and heart failure than any other race of people ?",
           "type one two caus mellitu",
           12
          ],
          [
           "which <unk> <unk> has diabetes ?",
           "type one two caus mellitu",
           12
          ],
          [
           "risk of developing type two diabetes can be <unk> by ?",
           "type one two caus mellitu",
           12
          ],
          [
           "scientific name for diabetes ?",
           "type one two caus mellitu",
           12
          ],
          [
           "can children have type one or type two diabetes ?",
           "type one two caus mellitu",
           12
          ],
          [
           "how could the author position on type ii diabetes be <unk> in the article ?",
           "type one two caus mellitu",
           12
          ],
          [
           "<unk> in <unk> of managing diabetes ?",
           "type one two caus mellitu",
           12
          ],
          [
           "education and diabetes management ?",
           "type one two caus mellitu",
           12
          ]
         ],
         "hovertemplate": "summary=%{customdata[1]}<br>pc_1=%{x}<br>pc_2=%{y}<br>pc_3=%{z}<br>question=%{customdata[0]}<br>label=%{customdata[2]}<extra></extra>",
         "legendgroup": "type one two caus mellitu",
         "marker": {
          "color": "#636efa",
          "size": 8,
          "symbol": "circle"
         },
         "mode": "markers",
         "name": "type one two caus mellitu",
         "scene": "scene",
         "showlegend": true,
         "type": "scatter3d",
         "x": [
          -0.2555118203163147,
          -0.19506867229938507,
          -0.6072947382926941,
          -0.27987343072891235,
          -0.33499962091445923,
          -0.46906763315200806,
          -0.20818385481834412,
          -0.3651634752750397,
          -0.36024418473243713,
          -0.3621741831302643,
          -0.30420082807540894,
          -0.33536580204963684,
          -0.4632059931755066,
          -0.5484558939933777,
          -0.3951209783554077,
          -0.5718705058097839,
          -0.39999255537986755,
          -0.34431329369544983,
          -0.28472965955734253,
          -0.3220618963241577,
          -0.5357718467712402,
          -0.3136754333972931,
          -0.38480696082115173,
          -0.38137805461883545,
          -0.5903123021125793,
          -0.417900025844574,
          -0.35423216223716736,
          -0.6349600553512573,
          -0.5859814286231995,
          -0.2891779839992523,
          -0.4302750825881958,
          -0.37839800119400024,
          -0.3402601480484009,
          -0.4407648742198944,
          -0.5480446219444275,
          -0.26636987924575806,
          -0.4614717662334442,
          -0.31699758768081665,
          -0.4839499890804291,
          -0.5752232670783997,
          -0.1758163422346115,
          -0.41216200590133667,
          -0.49413490295410156,
          -0.5007857084274292,
          -0.3149990141391754,
          -0.2753812372684479,
          -0.47049736976623535,
          -0.28037962317466736,
          -0.3970418870449066,
          -0.46973687410354614,
          -0.30328160524368286,
          -0.27317994832992554,
          -0.34712785482406616,
          -0.4991406202316284,
          -0.25872427225112915,
          -0.2348395735025406,
          -0.3632969558238983,
          -0.20520754158496857,
          -0.38089755177497864,
          -0.3208347260951996,
          -0.5074096918106079,
          -0.37972062826156616,
          -0.3094499409198761,
          -0.4507561922073364,
          -0.3383447527885437,
          -0.36425426602363586,
          -0.22909708321094513,
          -0.30639025568962097,
          -0.40489518642425537,
          -0.4169507324695587,
          -0.3860752582550049,
          -0.3854488730430603,
          -0.4980635941028595,
          -0.2805890440940857,
          -0.4261927306652069,
          -0.33948537707328796,
          -0.5138121843338013,
          -0.6701012253761292,
          -0.4144381284713745,
          -0.29714536666870117,
          -0.43287718296051025,
          -0.24798843264579773,
          -0.45343446731567383,
          -0.38041388988494873,
          -0.2804809808731079,
          -0.6453092694282532,
          -0.49542874097824097,
          -0.3093670904636383,
          -0.4476223587989807,
          -0.40324676036834717,
          -0.4344997704029083,
          -0.5316166281700134,
          -0.32996270060539246,
          -0.28052133321762085,
          -0.4158018231391907,
          -0.369137704372406,
          -0.3318324685096741,
          -0.34468603134155273,
          -0.6207231879234314,
          -0.22241872549057007,
          -0.6576532125473022,
          -0.2282836139202118,
          -0.33306998014450073,
          -0.346658855676651
         ],
         "y": [
          -0.4261765480041504,
          -0.17872600257396698,
          -0.04264596477150917,
          -0.39471933245658875,
          -0.235452339053154,
          -0.2889251410961151,
          -0.43330419063568115,
          -0.38124334812164307,
          -0.41314440965652466,
          -0.2692001461982727,
          -0.22296114265918732,
          -0.3438315987586975,
          -0.5092459321022034,
          -0.4819386303424835,
          -0.46408191323280334,
          -0.17834821343421936,
          -0.3732495605945587,
          -0.37576934695243835,
          -0.1765410602092743,
          -0.5311383008956909,
          -0.12771059572696686,
          -0.2828056216239929,
          -0.3136847913265228,
          -0.2656481862068176,
          -0.4081219434738159,
          -0.19244688749313354,
          -0.4055696129798889,
          -0.11174119263887405,
          -0.089385487139225,
          -0.25385990738868713,
          -0.3377104699611664,
          -0.45487987995147705,
          -0.16651885211467743,
          -0.1479407548904419,
          -0.126639723777771,
          -0.4134250581264496,
          -0.4534815847873688,
          -0.23907198011875153,
          -0.42351022362709045,
          -0.13303230702877045,
          -0.17421869933605194,
          -0.1583855301141739,
          -0.4921458661556244,
          -0.3302949368953705,
          -0.5102254748344421,
          -0.272023469209671,
          -0.18513385951519012,
          -0.35344398021698,
          -0.17217984795570374,
          -0.2745567262172699,
          -0.38582107424736023,
          -0.2289063185453415,
          -0.22686973214149475,
          -0.23771440982818604,
          -0.2663031816482544,
          -0.233954519033432,
          -0.22720979154109955,
          -0.2541400194168091,
          -0.4463236331939697,
          -0.3086789548397064,
          -0.4792262315750122,
          -0.5025891661643982,
          -0.3825508952140808,
          -0.38876083493232727,
          -0.24332109093666077,
          -0.35613617300987244,
          -0.3522420823574066,
          -0.2314058095216751,
          -0.39891183376312256,
          -0.5834128260612488,
          -0.23572520911693573,
          -0.14418809115886688,
          -0.4137357473373413,
          -0.17595642805099487,
          -0.37674379348754883,
          -0.2766595184803009,
          -0.44390013813972473,
          -0.10995081812143326,
          -0.48464521765708923,
          -0.4775618016719818,
          -0.3362249732017517,
          -0.5002930760383606,
          -0.22949016094207764,
          -0.4305347502231598,
          -0.3403775095939636,
          -0.01476890780031681,
          -0.16391006112098694,
          -0.3465179204940796,
          -0.21330825984477997,
          -0.08403198421001434,
          -0.11031685769557953,
          -0.40603917837142944,
          -0.3896789848804474,
          -0.4596744477748871,
          -0.29319101572036743,
          -0.24120594561100006,
          -0.13751372694969177,
          -0.2089986354112625,
          -0.15320393443107605,
          -0.2834460437297821,
          -0.10356617718935013,
          -0.3027198016643524,
          -0.29860565066337585,
          -0.20690639317035675
         ],
         "z": [
          0.29828357696533203,
          0.20753048360347748,
          0.26006123423576355,
          0.3612286448478699,
          0.0753243938088417,
          0.06760567426681519,
          0.30583441257476807,
          0.44372957944869995,
          0.30295324325561523,
          0.3062676787376404,
          0.3382726311683655,
          0.35521164536476135,
          0.35240912437438965,
          0.36942702531814575,
          0.2628626823425293,
          0.31920862197875977,
          0.29951319098472595,
          0.1055421233177185,
          0.2823072373867035,
          0.32332679629325867,
          0.3184906542301178,
          0.07697364687919617,
          0.1084684506058693,
          0.023677945137023926,
          0.4100753664970398,
          0.13261058926582336,
          0.17540325224399567,
          0.3445555865764618,
          0.2683631479740143,
          0.24860817193984985,
          0.11935291439294815,
          0.39267024397850037,
          0.19707027077674866,
          0.38223886489868164,
          0.22410917282104492,
          0.17732544243335724,
          0.35729074478149414,
          0.2808071970939636,
          0.36276349425315857,
          0.28609582781791687,
          0.27054154872894287,
          0.2538200616836548,
          0.4280378520488739,
          0.39497700333595276,
          0.35598817467689514,
          0.3049105405807495,
          0.28698188066482544,
          0.10171973705291748,
          0.3296884596347809,
          0.12703917920589447,
          0.22170297801494598,
          0.1918439120054245,
          0.3907153606414795,
          0.2928595542907715,
          0.1342577189207077,
          0.24983832240104675,
          0.2825034558773041,
          0.1084713563323021,
          0.4456258714199066,
          0.4138096868991852,
          0.34798455238342285,
          0.3858659267425537,
          0.32756051421165466,
          0.28050506114959717,
          -0.007256598677486181,
          0.33183151483535767,
          0.2403436154127121,
          0.1251055896282196,
          0.19111527502536774,
          0.3942122161388397,
          0.14548957347869873,
          0.36983874440193176,
          0.41243380308151245,
          0.11937427520751953,
          0.3708418905735016,
          0.147795170545578,
          0.44506126642227173,
          0.3004595935344696,
          0.25894367694854736,
          0.3962269127368927,
          0.29840928316116333,
          0.2560736835002899,
          0.2999720573425293,
          0.3678413927555084,
          0.1581449657678604,
          0.2631528377532959,
          0.2909233272075653,
          0.252022385597229,
          0.19145777821540833,
          0.31807106733322144,
          0.32288670539855957,
          0.33570942282676697,
          0.24556545913219452,
          0.28149303793907166,
          0.21694926917552948,
          0.1675879806280136,
          0.36564427614212036,
          0.04678349569439888,
          0.24812039732933044,
          0.3304583728313446,
          0.22115759551525116,
          0.2298194020986557,
          0.19272896647453308,
          0.22059214115142822
         ]
        },
        {
         "customdata": [
          [
           "what are the side effects of insulin ?",
           "effect caus side urin frequent",
           19
          ],
          [
           "what is the cause of constant fatigue ?",
           "effect caus side urin frequent",
           19
          ],
          [
           "effects of diabetes mellitus ?",
           "effect caus side urin frequent",
           19
          ],
          [
           "whats are the side effects of diabetes . ?",
           "effect caus side urin frequent",
           19
          ],
          [
           "what are some of the effects of type one diabetes ?",
           "effect caus side urin frequent",
           19
          ],
          [
           "what are the negative effects of massage to a person with diabetes ?",
           "effect caus side urin frequent",
           19
          ],
          [
           "what causes a diabetic to have frequent urination ?",
           "effect caus side urin frequent",
           19
          ],
          [
           "what is the effect of alcohol on diabetes mellitus ?",
           "effect caus side urin frequent",
           19
          ],
          [
           "what are diabetes effects on the body ?",
           "effect caus side urin frequent",
           19
          ],
          [
           "what are the causes of frequent urination ?",
           "effect caus side urin frequent",
           19
          ],
          [
           "what are some side effects of metformin ?",
           "effect caus side urin frequent",
           19
          ],
          [
           "what are the long term side effects of diabetes ?",
           "effect caus side urin frequent",
           19
          ],
          [
           "what type of effect does <unk> have on diabetes ?",
           "effect caus side urin frequent",
           19
          ],
          [
           "what organs does smoking effect ?",
           "effect caus side urin frequent",
           19
          ],
          [
           "what are some short term effects of type two diabetes ?",
           "effect caus side urin frequent",
           19
          ],
          [
           "can pioglitazone cause <unk> <unk> on prolonged use ?",
           "effect caus side urin frequent",
           19
          ],
          [
           "is blindness a long term effect of diabetes ?",
           "effect caus side urin frequent",
           19
          ],
          [
           "can diabetes cause alcohol breath ?",
           "effect caus side urin frequent",
           19
          ],
          [
           "does long term use of steroids cause diabetes ?",
           "effect caus side urin frequent",
           19
          ],
          [
           "does <unk> cause frequent urination ?",
           "effect caus side urin frequent",
           19
          ],
          [
           "is there any side effects of paneer ka phool on diabetes patient ?",
           "effect caus side urin frequent",
           19
          ],
          [
           "what are the effects of diabetes ?",
           "effect caus side urin frequent",
           19
          ],
          [
           "causes of frequent urination ?",
           "effect caus side urin frequent",
           19
          ],
          [
           "what are the side effects of using <unk> ?",
           "effect caus side urin frequent",
           19
          ],
          [
           "does polyuria cause excessive urination ?",
           "effect caus side urin frequent",
           19
          ],
          [
           "why are drinking water levels often so low ?",
           "effect caus side urin frequent",
           19
          ],
          [
           "what side affects can lantus give you ?",
           "effect caus side urin frequent",
           19
          ],
          [
           "what are the consequences or effects of diabetes ?",
           "effect caus side urin frequent",
           19
          ],
          [
           "what are the medications associated with diabetes ?",
           "effect caus side urin frequent",
           19
          ]
         ],
         "hovertemplate": "summary=%{customdata[1]}<br>pc_1=%{x}<br>pc_2=%{y}<br>pc_3=%{z}<br>question=%{customdata[0]}<br>label=%{customdata[2]}<extra></extra>",
         "legendgroup": "effect caus side urin frequent",
         "marker": {
          "color": "#EF553B",
          "size": 8,
          "symbol": "circle"
         },
         "mode": "markers",
         "name": "effect caus side urin frequent",
         "scene": "scene",
         "showlegend": true,
         "type": "scatter3d",
         "x": [
          0.1359296590089798,
          0.09931223094463348,
          -0.009818422608077526,
          0.08259952068328857,
          0.02012394182384014,
          0.08959904313087463,
          0.10913298279047012,
          -0.04842807352542877,
          0.03580644726753235,
          0.07144273072481155,
          0.1286190152168274,
          0.08889040350914001,
          -0.03333254158496857,
          -0.04806002229452133,
          0.10197850316762924,
          0.012234088033437729,
          0.0418449304997921,
          -0.03736380860209465,
          0.0405319444835186,
          0.004699758719652891,
          0.11089733988046646,
          0.027702756226062775,
          0.05065659061074257,
          0.1261378526687622,
          0.0347907692193985,
          0.1893155723810196,
          0.020700175315141678,
          0.023630041629076004,
          0.14450813829898834
         ],
         "y": [
          -0.2619406580924988,
          -0.19895046949386597,
          -0.362577348947525,
          -0.23259355127811432,
          -0.415922611951828,
          -0.3084586560726166,
          -0.12388569116592407,
          -0.3074551820755005,
          -0.33250173926353455,
          -0.13632012903690338,
          -0.31597229838371277,
          -0.30657699704170227,
          -0.31398701667785645,
          -0.2880718410015106,
          -0.23318061232566833,
          -0.21613827347755432,
          -0.3106723427772522,
          -0.13782398402690887,
          -0.29821664094924927,
          -0.1328992247581482,
          -0.3203969895839691,
          -0.3541867733001709,
          -0.14075179398059845,
          -0.2653401792049408,
          -0.1615196019411087,
          -0.2172025442123413,
          -0.2347380816936493,
          -0.340451717376709,
          -0.21800237894058228
         ],
         "z": [
          0.15436764061450958,
          0.05995332822203636,
          0.15627892315387726,
          0.10962497442960739,
          0.03410816565155983,
          0.05141061916947365,
          0.0747852548956871,
          0.16032159328460693,
          0.0034367279149591923,
          0.03344873711466789,
          0.10744862258434296,
          0.14558221399784088,
          0.10864485055208206,
          0.05709829926490784,
          0.17151828110218048,
          0.17211732268333435,
          0.17247357964515686,
          0.15187063813209534,
          0.2405264973640442,
          0.1189790591597557,
          0.21043148636817932,
          0.04449665546417236,
          0.11232437938451767,
          0.11759046465158463,
          0.09354687482118607,
          0.1727500855922699,
          0.0791817158460617,
          0.08195727318525314,
          0.2508717179298401
         ]
        },
        {
         "customdata": [
          [
           "do insulin-dependent diabetics ever inject themselves with glucagon or cortisol ?",
           "insulin inject use type human",
           0
          ],
          [
           "why must insulin be injected not taken by mouth ?",
           "insulin inject use type human",
           0
          ],
          [
           "how often do you have to put insulin in your insulin pump ?",
           "insulin inject use type human",
           0
          ],
          [
           "who <unk> the insulin pump ?",
           "insulin inject use type human",
           0
          ],
          [
           "can you give insulin in a tuberculin syringe ?",
           "insulin inject use type human",
           0
          ],
          [
           "what is the only insulin that can be given intravenously ?",
           "insulin inject use type human",
           0
          ],
          [
           "which <unk> promotes insulin resistance ?",
           "insulin inject use type human",
           0
          ],
          [
           "why would a diabetic need an insulin shot ?",
           "insulin inject use type human",
           0
          ],
          [
           "when does type two diabetes turn into insulin dependent ?",
           "insulin inject use type human",
           0
          ],
          [
           "how is commercially insulin prepared ?",
           "insulin inject use type human",
           0
          ],
          [
           "which type of diabetes may involve injections of insulin ?",
           "insulin inject use type human",
           0
          ],
          [
           "what is lancet insulin ?",
           "insulin inject use type human",
           0
          ],
          [
           "difference between insulin <unk> and insulin human actrapid ?",
           "insulin inject use type human",
           0
          ],
          [
           "when is regular insulin used ?",
           "insulin inject use type human",
           0
          ],
          [
           "how do you differentiate actrapid and <unk> insulin ?",
           "insulin inject use type human",
           0
          ],
          [
           "will taking 30-60 units of insulin a day hurt me ?",
           "insulin inject use type human",
           0
          ],
          [
           "why does the amount of insulin injected need to be controlled ?",
           "insulin inject use type human",
           0
          ],
          [
           "why does your body need insulin ?",
           "insulin inject use type human",
           0
          ],
          [
           "how do you inject insulin ?",
           "insulin inject use type human",
           0
          ],
          [
           "why should insulin be <unk> ?",
           "insulin inject use type human",
           0
          ],
          [
           "who is the <unk> of insulin ?",
           "insulin inject use type human",
           0
          ],
          [
           "why is insulin necessary ?",
           "insulin inject use type human",
           0
          ],
          [
           "why diabete insulin can not made a pill same as diabete ?",
           "insulin inject use type human",
           0
          ],
          [
           "<unk> makes insulin because ?",
           "insulin inject use type human",
           0
          ],
          [
           "why insulin is used ?",
           "insulin inject use type human",
           0
          ],
          [
           "does insulin need to be <unk> ?",
           "insulin inject use type human",
           0
          ],
          [
           "how is insulin <unk> ?",
           "insulin inject use type human",
           0
          ],
          [
           "why are human <unk> not the best source for insulin ?",
           "insulin inject use type human",
           0
          ],
          [
           "what is insulin made by ?",
           "insulin inject use type human",
           0
          ],
          [
           "why must insulin be taken as an injection ?",
           "insulin inject use type human",
           0
          ],
          [
           "why are bacteria used to make human insulin ?",
           "insulin inject use type human",
           0
          ],
          [
           "what are the dangers for a type one diabetic taking only twenty four hour insulin stabilizer ?",
           "insulin inject use type human",
           0
          ],
          [
           "how is insulin released and regulated ?",
           "insulin inject use type human",
           0
          ],
          [
           "why do you have to inject insulin ?",
           "insulin inject use type human",
           0
          ],
          [
           "how is human insulin manufactured ?",
           "insulin inject use type human",
           0
          ],
          [
           "insulin how is it used ?",
           "insulin inject use type human",
           0
          ],
          [
           "mechanism of insulin zinc <unk> in type one diabetes ?",
           "insulin inject use type human",
           0
          ],
          [
           "can nph insulin be given iv ?",
           "insulin inject use type human",
           0
          ],
          [
           "will insulin kill if injected into vein ?",
           "insulin inject use type human",
           0
          ],
          [
           "what makes <unk> insulin and glucagon ?",
           "insulin inject use type human",
           0
          ],
          [
           "what are uses of insulin ?",
           "insulin inject use type human",
           0
          ],
          [
           "what is insulin responsible for ?",
           "insulin inject use type human",
           0
          ],
          [
           "why insulin can not be taken orally ?",
           "insulin inject use type human",
           0
          ],
          [
           "why is insulin injected ?",
           "insulin inject use type human",
           0
          ],
          [
           "what if you have to much insulin resistance ?",
           "insulin inject use type human",
           0
          ],
          [
           "do regular insulin same with actrapid insulin ?",
           "insulin inject use type human",
           0
          ],
          [
           "is insulin available in <unk> ?",
           "insulin inject use type human",
           0
          ],
          [
           "can insulin be taken with exenatide ?",
           "insulin inject use type human",
           0
          ],
          [
           "when should a rapid acting insulin administered ?",
           "insulin inject use type human",
           0
          ],
          [
           "why is pig insulin being used as a substitute of human insulin ?",
           "insulin inject use type human",
           0
          ],
          [
           "insulin and human growth hormone are two examples of products produced by what ?",
           "insulin inject use type human",
           0
          ],
          [
           "what should a physician do to treat insulin shock ?",
           "insulin inject use type human",
           0
          ],
          [
           "insulin works as an <unk> to ?",
           "insulin inject use type human",
           0
          ],
          [
           "how do you use insulin ?",
           "insulin inject use type human",
           0
          ],
          [
           "how does a type one diabetic become insulin resistance ?",
           "insulin inject use type human",
           0
          ],
          [
           "why must type i diabetes patients inject insulin ?",
           "insulin inject use type human",
           0
          ],
          [
           "when should insulin be taken ?",
           "insulin inject use type human",
           0
          ],
          [
           "what is smart insulin ?",
           "insulin inject use type human",
           0
          ],
          [
           "how is the insulin measured on the syringe ?",
           "insulin inject use type human",
           0
          ],
          [
           "why do diabetics inject insulin ?",
           "insulin inject use type human",
           0
          ],
          [
           "what happens if you inject expired insulin ?",
           "insulin inject use type human",
           0
          ],
          [
           "does the body of a diabetic not produce enough insulin or can not properly use the insulin it does make ?",
           "insulin inject use type human",
           0
          ],
          [
           "how often do type one diabetics take insulin ?",
           "insulin inject use type human",
           0
          ],
          [
           "how is insulin regulated ?",
           "insulin inject use type human",
           0
          ],
          [
           "how long is insulin good ?",
           "insulin inject use type human",
           0
          ],
          [
           "what is the longest acting insulin ?",
           "insulin inject use type human",
           0
          ],
          [
           "how do you give insulin ?",
           "insulin inject use type human",
           0
          ],
          [
           "how much insulin should you be taking ?",
           "insulin inject use type human",
           0
          ],
          [
           "when is insulin pump given ?",
           "insulin inject use type human",
           0
          ],
          [
           "how was insulin made ?",
           "insulin inject use type human",
           0
          ]
         ],
         "hovertemplate": "summary=%{customdata[1]}<br>pc_1=%{x}<br>pc_2=%{y}<br>pc_3=%{z}<br>question=%{customdata[0]}<br>label=%{customdata[2]}<extra></extra>",
         "legendgroup": "insulin inject use type human",
         "marker": {
          "color": "#00cc96",
          "size": 8,
          "symbol": "circle"
         },
         "mode": "markers",
         "name": "insulin inject use type human",
         "scene": "scene",
         "showlegend": true,
         "type": "scatter3d",
         "x": [
          0.4046532213687897,
          0.4463510811328888,
          0.6222491264343262,
          0.5683393478393555,
          0.596420168876648,
          0.40545788407325745,
          0.3866094648838043,
          0.3093236982822418,
          0.39873024821281433,
          0.5446456670761108,
          0.46153584122657776,
          0.6682182550430298,
          0.6106494665145874,
          0.5694396495819092,
          0.5750378370285034,
          0.6082440614700317,
          0.5107896327972412,
          0.7621235847473145,
          0.5654661655426025,
          0.7038047909736633,
          0.6364279389381409,
          0.6967464685440063,
          0.42419177293777466,
          0.36657071113586426,
          0.5277164578437805,
          0.3718216121196747,
          0.661077618598938,
          0.4446902871131897,
          0.6491914391517639,
          0.4792192578315735,
          0.5186302661895752,
          0.41250765323638916,
          0.5406225323677063,
          0.6067031025886536,
          0.5766553282737732,
          0.6198115348815918,
          0.4093943238258362,
          0.39022356271743774,
          0.48427286744117737,
          0.5124894976615906,
          0.6818900108337402,
          0.7021533250808716,
          0.37449121475219727,
          0.5133968591690063,
          0.6836568713188171,
          0.488945335149765,
          0.46825408935546875,
          0.4236890971660614,
          0.43641501665115356,
          0.5141201019287109,
          0.44868192076683044,
          0.5312126278877258,
          0.4192548990249634,
          0.6072943806648254,
          0.43338239192962646,
          0.44447749853134155,
          0.40507882833480835,
          0.4777388870716095,
          0.6018813252449036,
          0.45323264598846436,
          0.5525152087211609,
          0.301597535610199,
          0.45136651396751404,
          0.5552918910980225,
          0.6428131461143494,
          0.6831357479095459,
          0.614579975605011,
          0.6917716860771179,
          0.5334286093711853,
          0.49763983488082886
         ],
         "y": [
          -0.3198794424533844,
          -0.27436649799346924,
          -0.28076520562171936,
          -0.33095723390579224,
          -0.28745266795158386,
          -0.16302275657653809,
          -0.36068394780158997,
          -0.3283393383026123,
          -0.4021317660808563,
          -0.36430904269218445,
          -0.3750264346599579,
          -0.2903197109699249,
          -0.4700514078140259,
          -0.4196462035179138,
          -0.28445106744766235,
          -0.14889703691005707,
          -0.2929292321205139,
          -0.29241374135017395,
          -0.2338925451040268,
          -0.2986487150192261,
          -0.4309200346469879,
          -0.3218284249305725,
          -0.24958373606204987,
          -0.38981083035469055,
          -0.3989477753639221,
          -0.30383598804473877,
          -0.42821362614631653,
          -0.4479537010192871,
          -0.4786432385444641,
          -0.23773111402988434,
          -0.48323938250541687,
          -0.25376614928245544,
          -0.3727092742919922,
          -0.23292259871959686,
          -0.4737401008605957,
          -0.4292623698711395,
          -0.42525187134742737,
          -0.3348909020423889,
          -0.2642541229724884,
          -0.32947736978530884,
          -0.4710216820240021,
          -0.38941362500190735,
          -0.2027098536491394,
          -0.29584649205207825,
          -0.2275596410036087,
          -0.34032848477363586,
          -0.36724841594696045,
          -0.2065524309873581,
          -0.2057429850101471,
          -0.4358113706111908,
          -0.47412654757499695,
          -0.20381417870521545,
          -0.3576487600803375,
          -0.27871984243392944,
          -0.43734943866729736,
          -0.31511420011520386,
          -0.2757387161254883,
          -0.39956480264663696,
          -0.35415753722190857,
          -0.3289147615432739,
          -0.19812938570976257,
          -0.3210689425468445,
          -0.37724727392196655,
          -0.3685506284236908,
          -0.35568010807037354,
          -0.3786900043487549,
          -0.25052911043167114,
          -0.24431073665618896,
          -0.32178327441215515,
          -0.4382639527320862
         ],
         "z": [
          0.3329543471336365,
          0.27346983551979065,
          0.2485322803258896,
          0.27558302879333496,
          0.3627144396305084,
          0.3676309883594513,
          0.17510248720645905,
          0.3594568073749542,
          0.3677673935890198,
          0.1932445764541626,
          0.41280537843704224,
          0.10378460586071014,
          0.0950530618429184,
          0.2264867126941681,
          0.1608530431985855,
          0.28272441029548645,
          0.4088801145553589,
          0.11878833919763565,
          0.27733883261680603,
          0.1945517212152481,
          0.2553321421146393,
          0.17230194807052612,
          0.34137558937072754,
          0.3831586241722107,
          0.21272240579128265,
          0.22741922736167908,
          0.15245653688907623,
          0.1785823106765747,
          0.24770677089691162,
          0.3470286428928375,
          0.11549916118383408,
          0.19759362936019897,
          0.10987371951341629,
          0.29047566652297974,
          0.1231728345155716,
          0.174538254737854,
          0.22478123009204865,
          0.2495744675397873,
          0.24112366139888763,
          0.10800349712371826,
          0.17463532090187073,
          0.15472280979156494,
          0.38362783193588257,
          0.3115834593772888,
          0.18526358902454376,
          0.2636127769947052,
          0.19100074470043182,
          0.4185030460357666,
          0.26936888694763184,
          0.1829473078250885,
          0.15132863819599152,
          0.3559737801551819,
          0.14527982473373413,
          0.1966111660003662,
          0.3628343343734741,
          0.41377657651901245,
          0.2423153668642044,
          0.2423301786184311,
          0.09790125489234924,
          0.33236587047576904,
          0.26611995697021484,
          0.23546357452869415,
          0.331997811794281,
          0.14383624494075775,
          0.19478380680084229,
          0.2291620820760727,
          0.20416469871997833,
          0.2194717973470688,
          0.27785003185272217,
          0.2823435664176941
         ]
        },
        {
         "customdata": [
          [
           "how is diabetes dignosed ?",
           "type mean definit two dignos",
           41
          ],
          [
           "what on <unk> is diabetes ?",
           "type mean definit two dignos",
           41
          ],
          [
           "which is the worst diabetes ?",
           "type mean definit two dignos",
           41
          ],
          [
           "what is diabetes management ?",
           "type mean definit two dignos",
           41
          ],
          [
           "what is generic diabetes ?",
           "type mean definit two dignos",
           41
          ],
          [
           "what is diabetes inspidus ?",
           "type mean definit two dignos",
           41
          ],
          [
           "what is diabetes myelitis ?",
           "type mean definit two dignos",
           41
          ],
          [
           "why is diabetes called diabetes ?",
           "type mean definit two dignos",
           41
          ],
          [
           "how prevalent is diabetes ?",
           "type mean definit two dignos",
           41
          ],
          [
           "what is the root word of diabetes ?",
           "type mean definit two dignos",
           41
          ],
          [
           "what important about diabetes ?",
           "type mean definit two dignos",
           41
          ],
          [
           "what is the history of diabetes ?",
           "type mean definit two dignos",
           41
          ],
          [
           "what is <unk> diabetes ?",
           "type mean definit two dignos",
           41
          ],
          [
           "what is diabetes <unk> ?",
           "type mean definit two dignos",
           41
          ],
          [
           "how is diabetes diagnosed ?",
           "type mean definit two dignos",
           41
          ],
          [
           "is diabetes environmental ?",
           "type mean definit two dignos",
           41
          ],
          [
           "what is the meaning or definition of diabetes ?",
           "type mean definit two dignos",
           41
          ],
          [
           "what is diabetes <unk> . ?",
           "type mean definit two dignos",
           41
          ],
          [
           "is diabetes type two something to be worried about ?",
           "type mean definit two dignos",
           41
          ],
          [
           "what 3ps mean in diabetes ?",
           "type mean definit two dignos",
           41
          ],
          [
           "what is the definition of diabetes ?",
           "type mean definit two dignos",
           41
          ],
          [
           "what is diabetes in <unk> ?",
           "type mean definit two dignos",
           41
          ],
          [
           "what is the chance of getting type one diabetes ?",
           "type mean definit two dignos",
           41
          ],
          [
           "how is diabetes <unk> ?",
           "type mean definit two dignos",
           41
          ],
          [
           "what is the author is <unk> about type two diabetes ?",
           "type mean definit two dignos",
           41
          ],
          [
           "what is diabetes millitus ?",
           "type mean definit two dignos",
           41
          ],
          [
           "what is the name of a diabetes specialist ?",
           "type mean definit two dignos",
           41
          ],
          [
           "what is obesity and diabetes ?",
           "type mean definit two dignos",
           41
          ],
          [
           "what is diabetes ?",
           "type mean definit two dignos",
           41
          ]
         ],
         "hovertemplate": "summary=%{customdata[1]}<br>pc_1=%{x}<br>pc_2=%{y}<br>pc_3=%{z}<br>question=%{customdata[0]}<br>label=%{customdata[2]}<extra></extra>",
         "legendgroup": "type mean definit two dignos",
         "marker": {
          "color": "#ab63fa",
          "size": 8,
          "symbol": "circle"
         },
         "mode": "markers",
         "name": "type mean definit two dignos",
         "scene": "scene",
         "showlegend": true,
         "type": "scatter3d",
         "x": [
          -0.18547536432743073,
          -0.09378302097320557,
          -0.13929133117198944,
          -0.1743253767490387,
          -0.1136651411652565,
          -0.1816418319940567,
          -0.19781595468521118,
          -0.19260597229003906,
          -0.23327206075191498,
          -0.11230296641588211,
          -0.17853879928588867,
          -0.08251938223838806,
          -0.14830733835697174,
          -0.171841099858284,
          -0.22932040691375732,
          -0.32215553522109985,
          -0.04897385090589523,
          -0.18200565874576569,
          -0.24292103946208954,
          -0.08583203703165054,
          -0.05928710475564003,
          -0.11277198791503906,
          -0.22997406125068665,
          -0.19598086178302765,
          -0.14245425164699554,
          -0.13554508984088898,
          -0.09992814809083939,
          -0.2437458336353302,
          -0.16523492336273193
         ],
         "y": [
          -0.4450739920139313,
          -0.4603704512119293,
          -0.4079190194606781,
          -0.47814980149269104,
          -0.5046443939208984,
          -0.6568292379379272,
          -0.6552461385726929,
          -0.5358713865280151,
          -0.46701183915138245,
          -0.6345483064651489,
          -0.4590641260147095,
          -0.6562376618385315,
          -0.4822046160697937,
          -0.6225506663322449,
          -0.5914252400398254,
          -0.6062342524528503,
          -0.6527019739151001,
          -0.565971314907074,
          -0.5308292508125305,
          -0.5684859752655029,
          -0.6509381532669067,
          -0.585585355758667,
          -0.6133729219436646,
          -0.5887948274612427,
          -0.5052890777587891,
          -0.4624101221561432,
          -0.4468946158885956,
          -0.6034459471702576,
          -0.5962942242622375
         ],
         "z": [
          -0.06913745403289795,
          -0.10463699698448181,
          -0.08079200983047485,
          -0.005090208724141121,
          -0.016919001936912537,
          -0.09880156815052032,
          -0.16016416251659393,
          -0.006851679179817438,
          -0.09101800620555878,
          -0.028507832437753677,
          -0.1708238422870636,
          -0.12566445767879486,
          -0.0631023570895195,
          -0.11120623350143433,
          -0.1972591131925583,
          -0.10001054406166077,
          -0.049916308373212814,
          -0.06429532170295715,
          -0.0754190981388092,
          -0.1119430735707283,
          -0.0886700227856636,
          -0.07809852808713913,
          -0.005576104391366243,
          -0.1408180594444275,
          -0.12205623835325241,
          -0.05512119457125664,
          -0.00654373224824667,
          -0.1043514832854271,
          -0.0876678004860878
         ]
        },
        {
         "customdata": [
          [
           "what are symptoms of hypoglycemia ?",
           "symptom sign blood sugar low",
           6
          ],
          [
           "what are diabetes early signs ?",
           "symptom sign blood sugar low",
           6
          ],
          [
           "what are diabetes symptoms and preventions ?",
           "symptom sign blood sugar low",
           6
          ],
          [
           "what colour does blue <unk> paper turn to indicate diabetes ?",
           "symptom sign blood sugar low",
           6
          ],
          [
           "what are the symptoms of type two diabetes ?",
           "symptom sign blood sugar low",
           6
          ],
          [
           "what are the signs of gestational diabetes ?",
           "symptom sign blood sugar low",
           6
          ],
          [
           "diabetes warning signs ?",
           "symptom sign blood sugar low",
           6
          ],
          [
           "i think i have diabetes , what are clues ?",
           "symptom sign blood sugar low",
           6
          ],
          [
           "diabetes symptoms and signs ?",
           "symptom sign blood sugar low",
           6
          ],
          [
           "what are signs of your cat having diabetes ?",
           "symptom sign blood sugar low",
           6
          ],
          [
           "what are the symptoms of dibetes ?",
           "symptom sign blood sugar low",
           6
          ],
          [
           "what are the symptoms of diabetes person ?",
           "symptom sign blood sugar low",
           6
          ],
          [
           "whats the symptoms of hamster diabetes ?",
           "symptom sign blood sugar low",
           6
          ],
          [
           "the different symptoms of diabetes ?",
           "symptom sign blood sugar low",
           6
          ],
          [
           "diabetes symptoms ?",
           "symptom sign blood sugar low",
           6
          ],
          [
           "high blood sugar symptoms ?",
           "symptom sign blood sugar low",
           6
          ],
          [
           "what other symptoms are their of diabetes <unk> rise of blood sugar ?",
           "symptom sign blood sugar low",
           6
          ],
          [
           "common diabetes symptoms ?",
           "symptom sign blood sugar low",
           6
          ],
          [
           "what are the symptoms of being a diabetic ?",
           "symptom sign blood sugar low",
           6
          ],
          [
           "why do diabetics are always urinating ?",
           "symptom sign blood sugar low",
           6
          ],
          [
           "what are the symptoms of high blood sugar ?",
           "symptom sign blood sugar low",
           6
          ],
          [
           "where can i find the symptoms of low blood sugar ?",
           "symptom sign blood sugar low",
           6
          ],
          [
           "what are two symptoms of diabetes mellitus ?",
           "symptom sign blood sugar low",
           6
          ],
          [
           "what are some signs of type one diabetes ?",
           "symptom sign blood sugar low",
           6
          ],
          [
           "what is diabetes and what are the symptoms ?",
           "symptom sign blood sugar low",
           6
          ],
          [
           "why does the signs and symptoms of diabetes appear together ?",
           "symptom sign blood sugar low",
           6
          ],
          [
           "what are the symptoms of diabetics ?",
           "symptom sign blood sugar low",
           6
          ],
          [
           "what are classic symptoms of diabetes ?",
           "symptom sign blood sugar low",
           6
          ],
          [
           "signs of hypoglycemia ?",
           "symptom sign blood sugar low",
           6
          ],
          [
           "what are symptoms of diabetes mellitus ?",
           "symptom sign blood sugar low",
           6
          ],
          [
           "detecting signs of diabetes ?",
           "symptom sign blood sugar low",
           6
          ],
          [
           "what are some symptoms of type two diabetes ?",
           "symptom sign blood sugar low",
           6
          ],
          [
           "what are the symptoms and causes of diabetes ?",
           "symptom sign blood sugar low",
           6
          ],
          [
           "what can persistent hunger or thirst be a symptom of ?",
           "symptom sign blood sugar low",
           6
          ],
          [
           "what are the warning signs of diabetes mellitus ?",
           "symptom sign blood sugar low",
           6
          ],
          [
           "what are the warning signs for diabetes ?",
           "symptom sign blood sugar low",
           6
          ],
          [
           "what are the first signs of childhood diabetes ?",
           "symptom sign blood sugar low",
           6
          ],
          [
           "what are some signs and symptoms for diabetes ?",
           "symptom sign blood sugar low",
           6
          ],
          [
           "what are some of the most common diabetes symptoms i should look out for ?",
           "symptom sign blood sugar low",
           6
          ],
          [
           "symptoms of type one diabetes ?",
           "symptom sign blood sugar low",
           6
          ],
          [
           "what are the symptom is of keto acidosis ?",
           "symptom sign blood sugar low",
           6
          ],
          [
           "what are signs of <unk> ?",
           "symptom sign blood sugar low",
           6
          ],
          [
           "what are classic signs of diabetes ?",
           "symptom sign blood sugar low",
           6
          ],
          [
           "common diabetes signs ?",
           "symptom sign blood sugar low",
           6
          ],
          [
           "what are symptoms of <unk> diabetes in adults ?",
           "symptom sign blood sugar low",
           6
          ],
          [
           "what could be the symptoms of diabetes ?",
           "symptom sign blood sugar low",
           6
          ],
          [
           "what are the early symptoms of diabetes ?",
           "symptom sign blood sugar low",
           6
          ],
          [
           "how do i identify the symptoms of diabetes ?",
           "symptom sign blood sugar low",
           6
          ],
          [
           "symptoms and signs of diabetic coma include ?",
           "symptom sign blood sugar low",
           6
          ],
          [
           "what are the symptoms and signs of having high blood sugar ?",
           "symptom sign blood sugar low",
           6
          ],
          [
           "the symptoms of diabetes in children ?",
           "symptom sign blood sugar low",
           6
          ],
          [
           "what are some signs of your blood sugar being low ?",
           "symptom sign blood sugar low",
           6
          ],
          [
           "what are symptoms of hypoglycemia , and how low is too low ?",
           "symptom sign blood sugar low",
           6
          ],
          [
           "what are some signs and symptoms of diabetes in children ?",
           "symptom sign blood sugar low",
           6
          ],
          [
           "what are some high blood sugar symptoms ?",
           "symptom sign blood sugar low",
           6
          ],
          [
           "what age do the symptoms of diabetes occur ?",
           "symptom sign blood sugar low",
           6
          ],
          [
           "what are five symptoms of diabetes ?",
           "symptom sign blood sugar low",
           6
          ],
          [
           "what are symptoms of low blood sugar ?",
           "symptom sign blood sugar low",
           6
          ],
          [
           "what are symptoms of diebetes ?",
           "symptom sign blood sugar low",
           6
          ],
          [
           "what are three classic signs of hyperglycemia ?",
           "symptom sign blood sugar low",
           6
          ],
          [
           "what are some <unk> nursing diagnosis for diabetes mellitus ?",
           "symptom sign blood sugar low",
           6
          ]
         ],
         "hovertemplate": "summary=%{customdata[1]}<br>pc_1=%{x}<br>pc_2=%{y}<br>pc_3=%{z}<br>question=%{customdata[0]}<br>label=%{customdata[2]}<extra></extra>",
         "legendgroup": "symptom sign blood sugar low",
         "marker": {
          "color": "#FFA15A",
          "size": 8,
          "symbol": "circle"
         },
         "mode": "markers",
         "name": "symptom sign blood sugar low",
         "scene": "scene",
         "showlegend": true,
         "type": "scatter3d",
         "x": [
          -0.12847179174423218,
          -0.2140488177537918,
          -0.24611879885196686,
          -0.1390952616930008,
          -0.26499757170677185,
          -0.18358047306537628,
          -0.2703656852245331,
          -0.2222098708152771,
          -0.3321877419948578,
          -0.2389337718486786,
          -0.24072223901748657,
          -0.27549201250076294,
          -0.4002644419670105,
          -0.31926828622817993,
          -0.33069637417793274,
          -0.055937230587005615,
          -0.1587855964899063,
          -0.32913410663604736,
          -0.21990978717803955,
          -0.08885570615530014,
          -0.10473595559597015,
          -0.0372992679476738,
          -0.2836214303970337,
          -0.1689843088388443,
          -0.22591958940029144,
          -0.3106563985347748,
          -0.258269727230072,
          -0.2957174479961395,
          -0.10801489651203156,
          -0.31343674659729004,
          -0.3092118799686432,
          -0.2587314248085022,
          -0.2832881510257721,
          -0.24834614992141724,
          -0.20966430008411407,
          -0.24420689046382904,
          -0.2110302895307541,
          -0.2682549059391022,
          -0.3021690249443054,
          -0.308860719203949,
          -0.17610900104045868,
          -0.17329633235931396,
          -0.20134884119033813,
          -0.3230218291282654,
          -0.36842113733291626,
          -0.3168072998523712,
          -0.31674924492836,
          -0.31430256366729736,
          -0.0710819810628891,
          -0.08750991523265839,
          -0.4128762483596802,
          -0.02740822732448578,
          -0.09616384655237198,
          -0.25953689217567444,
          -0.0628531202673912,
          -0.3662322461605072,
          -0.26821836829185486,
          -0.08857589215040207,
          -0.23640261590480804,
          -0.16626304388046265,
          -0.13925664126873016
         ],
         "y": [
          -0.3711016774177551,
          -0.27652743458747864,
          -0.32711488008499146,
          -0.24991697072982788,
          -0.42817258834838867,
          -0.34782662987709045,
          -0.19950512051582336,
          -0.21008628606796265,
          -0.27729952335357666,
          -0.2644615173339844,
          -0.42533984780311584,
          -0.39440399408340454,
          -0.37945571541786194,
          -0.38478848338127136,
          -0.3041892945766449,
          -0.3574698865413666,
          -0.40278810262680054,
          -0.3364678621292114,
          -0.4234520494937897,
          -0.2561717927455902,
          -0.39467981457710266,
          -0.32683509588241577,
          -0.5104051232337952,
          -0.2629242241382599,
          -0.38178300857543945,
          -0.3013485074043274,
          -0.4467543363571167,
          -0.4733242094516754,
          -0.32386571168899536,
          -0.5077164173126221,
          -0.21611006557941437,
          -0.45520010590553284,
          -0.36476194858551025,
          -0.2581358253955841,
          -0.22062787413597107,
          -0.22619886696338654,
          -0.2707614302635193,
          -0.25150245428085327,
          -0.2803560793399811,
          -0.4045891761779785,
          -0.4765298068523407,
          -0.29482001066207886,
          -0.29697149991989136,
          -0.21684712171554565,
          -0.36827531456947327,
          -0.4071826636791229,
          -0.4015229046344757,
          -0.3437427878379822,
          -0.30551302433013916,
          -0.36008769273757935,
          -0.34363842010498047,
          -0.4089316725730896,
          -0.3839156925678253,
          -0.2790536880493164,
          -0.39862340688705444,
          -0.41249385476112366,
          -0.42399653792381287,
          -0.4013743996620178,
          -0.4519493579864502,
          -0.313780814409256,
          -0.1996581107378006
         ],
         "z": [
          -0.658794641494751,
          -0.6133100986480713,
          -0.6286333799362183,
          -0.5184620022773743,
          -0.6133373379707336,
          -0.5673505663871765,
          -0.5555225014686584,
          -0.6562209129333496,
          -0.7142717838287354,
          -0.7586232423782349,
          -0.7351477742195129,
          -0.646718442440033,
          -0.5876055359840393,
          -0.6156725883483887,
          -0.5062228441238403,
          -0.7946791648864746,
          -0.7214775085449219,
          -0.5132015347480774,
          -0.8267364501953125,
          -0.6249244213104248,
          -0.7544494867324829,
          -0.8022456765174866,
          -0.6619014143943787,
          -0.6528169512748718,
          -0.6592335104942322,
          -0.7117184996604919,
          -0.785775899887085,
          -0.7354125380516052,
          -0.6724046468734741,
          -0.6612498760223389,
          -0.6979856491088867,
          -0.6309826374053955,
          -0.6956522464752197,
          -0.4860679507255554,
          -0.5283188223838806,
          -0.5447869896888733,
          -0.5689769387245178,
          -0.557773768901825,
          -0.5734169483184814,
          -0.5555484890937805,
          -0.6820539832115173,
          -0.6277703642845154,
          -0.7225438356399536,
          -0.6269220113754272,
          -0.7381576895713806,
          -0.7402054667472839,
          -0.6793858408927917,
          -0.6234659552574158,
          -0.7449385523796082,
          -0.7369356155395508,
          -0.681218147277832,
          -0.7046424746513367,
          -0.6466917991638184,
          -0.6630090475082397,
          -0.7574717402458191,
          -0.6673710942268372,
          -0.6786714792251587,
          -0.7138832211494446,
          -0.7298303842544556,
          -0.7024111151695251,
          -0.6896097660064697
         ]
        },
        {
         "customdata": [
          [
           "do high glucose means that you are a diabetic ?",
           "patient use take get give",
           25
          ],
          [
           "can <unk> <unk> be <unk> in diabetic patient ?",
           "patient use take get give",
           25
          ],
          [
           "when you give blood would they no if you were a diabetic ?",
           "patient use take get give",
           25
          ],
          [
           "can you be hospitalized for diabetics ?",
           "patient use take get give",
           25
          ],
          [
           "can doing drugs make someone diabetic ?",
           "patient use take get give",
           25
          ],
          [
           "can a diabetic get <unk> ?",
           "patient use take get give",
           25
          ],
          [
           "which one of the following chemicals is an artificial sweetener prescribed ot diabetic persons ?",
           "patient use take get give",
           25
          ],
          [
           "can you be a borderline diabetic ?",
           "patient use take get give",
           25
          ],
          [
           "is <unk> mountain herbs is suitable for me because i am looking chinese herbs for my grand mother is diabetes ?",
           "patient use take get give",
           25
          ],
          [
           "diabetic needles ?",
           "patient use take get give",
           25
          ],
          [
           "i am diabetic can i use <unk> ?",
           "patient use take get give",
           25
          ],
          [
           "best time to take diabetic pill ?",
           "patient use take get give",
           25
          ],
          [
           "is a <unk> sting bad for a diabetic ?",
           "patient use take get give",
           25
          ],
          [
           "can a cna shave a diabetic in the state of california ?",
           "patient use take get give",
           25
          ],
          [
           "why is it important that this solute be removed from diabetic patients ?",
           "patient use take get give",
           25
          ],
          [
           "if a diabetic passes out do you give smelling salts ?",
           "patient use take get give",
           25
          ],
          [
           "how are brittle diabetics treated ?",
           "patient use take get give",
           25
          ],
          [
           "is cereal suitable for diabetic patient ?",
           "patient use take get give",
           25
          ],
          [
           "how can you become a member of a medical research team in us ?",
           "patient use take get give",
           25
          ],
          [
           "can a diabetic join a <unk> team ?",
           "patient use take get give",
           25
          ],
          [
           "is mango good for diabetic patients ?",
           "patient use take get give",
           25
          ],
          [
           "if i am diabetic how can i get retinopathy treatment ?",
           "patient use take get give",
           25
          ],
          [
           "can diabetic supplies be dangerous ?",
           "patient use take get give",
           25
          ],
          [
           "when a diabetic patient has a minor illness such as a cold or flu what should they do ?",
           "patient use take get give",
           25
          ],
          [
           "can diabetics pass on a uti ?",
           "patient use take get give",
           25
          ],
          [
           "can a diabetic person use <unk> for eye inflammation ?",
           "patient use take get give",
           25
          ],
          [
           "can a diabetic use <unk> ?",
           "patient use take get give",
           25
          ],
          [
           "your father has a diabetic <unk> all precautions he should take two avoid ulcers ?",
           "patient use take get give",
           25
          ],
          [
           "can diabetic patient use aspartame as alternative sweetener except sugar ?",
           "patient use take get give",
           25
          ],
          [
           "nursing diagnosis for diabetic ketoacidosis ?",
           "patient use take get give",
           25
          ],
          [
           "can a diabetic patient take honey ?",
           "patient use take get give",
           25
          ],
          [
           "diabetic slippers ?",
           "patient use take get give",
           25
          ],
          [
           "can you massage on a diabetic ?",
           "patient use take get give",
           25
          ],
          [
           "can you take paracetamol if you have diabetes ?",
           "patient use take get give",
           25
          ],
          [
           "can you be diabetic and not take medication ?",
           "patient use take get give",
           25
          ],
          [
           "should a diabetic use a sauna ?",
           "patient use take get give",
           25
          ],
          [
           "can a diabetic get a piercing ?",
           "patient use take get give",
           25
          ],
          [
           "can diabetes tab metforin be taken with cold meds ?",
           "patient use take get give",
           25
          ],
          [
           "can you use a diabetes lancet more than once ?",
           "patient use take get give",
           25
          ],
          [
           "diabetic deserts ?",
           "patient use take get give",
           25
          ]
         ],
         "hovertemplate": "summary=%{customdata[1]}<br>pc_1=%{x}<br>pc_2=%{y}<br>pc_3=%{z}<br>question=%{customdata[0]}<br>label=%{customdata[2]}<extra></extra>",
         "legendgroup": "patient use take get give",
         "marker": {
          "color": "#19d3f3",
          "size": 8,
          "symbol": "circle"
         },
         "mode": "markers",
         "name": "patient use take get give",
         "scene": "scene",
         "showlegend": true,
         "type": "scatter3d",
         "x": [
          -0.1693616509437561,
          -0.06502534449100494,
          -0.22685424983501434,
          -0.0635359063744545,
          -0.19218921661376953,
          -0.2924361228942871,
          -0.04086656868457794,
          -0.3281334638595581,
          0.03637629374861717,
          -0.2053980529308319,
          -0.1455986499786377,
          -0.0687737911939621,
          -0.2876174747943878,
          -0.3367823660373688,
          -0.08025728166103363,
          -0.08848685771226883,
          -0.235020712018013,
          -0.013003912754356861,
          -0.3317314684391022,
          -0.4177110493183136,
          -0.0010870425030589104,
          -0.1443563848733902,
          -0.2275916337966919,
          -0.16201606392860413,
          -0.3528451919555664,
          -0.302639901638031,
          -0.2471022605895996,
          -0.1534060686826706,
          0.026133958250284195,
          -0.10370098799467087,
          -0.034871261566877365,
          -0.236003115773201,
          -0.27286452054977417,
          -0.08556216210126877,
          -0.14019881188869476,
          -0.23984020948410034,
          -0.26627177000045776,
          -0.14690834283828735,
          -0.27571627497673035,
          -0.2121540606021881
         ],
         "y": [
          0.3532097041606903,
          0.36226531863212585,
          0.2451571673154831,
          0.33051347732543945,
          0.28996315598487854,
          0.34247255325317383,
          0.3201780915260315,
          0.3997783064842224,
          0.37643006443977356,
          0.4160018563270569,
          0.34313270449638367,
          0.2785201370716095,
          0.3471929430961609,
          0.3287869989871979,
          0.3947538733482361,
          0.23813661932945251,
          0.46001937985420227,
          0.3966066837310791,
          0.3736543357372284,
          0.3596242070198059,
          0.36301642656326294,
          0.3163536787033081,
          0.39031291007995605,
          0.3407941460609436,
          0.2551986575126648,
          0.2866320312023163,
          0.3419629633426666,
          0.280513733625412,
          0.30649563670158386,
          0.3460412919521332,
          0.3313778042793274,
          0.3883398473262787,
          0.3348272144794464,
          0.2768475115299225,
          0.29534175992012024,
          0.3233335018157959,
          0.3745206296443939,
          0.2573537826538086,
          0.31707292795181274,
          0.36591604351997375
         ],
         "z": [
          0.16131599247455597,
          0.07422928512096405,
          -0.022356128320097923,
          0.029836446046829224,
          0.09650924056768417,
          0.0708945021033287,
          0.19151996076107025,
          0.08718166500329971,
          0.10035187005996704,
          0.08277630805969238,
          0.03983070328831673,
          0.10968615114688873,
          0.1407610923051834,
          0.04926050454378128,
          0.07478082180023193,
          -0.03378862515091896,
          0.11065363138914108,
          0.16254481673240662,
          -0.03575173765420914,
          0.07229918986558914,
          0.13545796275138855,
          -0.022700268775224686,
          0.029203107580542564,
          -0.06369564682245255,
          -0.013402347452938557,
          0.10566859692335129,
          0.06016021966934204,
          -0.0898095890879631,
          0.1983208805322647,
          -0.06540103256702423,
          0.12357623130083084,
          0.124068982899189,
          -0.021386945620179176,
          0.008801504038274288,
          0.014638273045420647,
          0.0194986704736948,
          0.01578926295042038,
          0.03255802392959595,
          -0.07270179688930511,
          0.20642589032649994
         ]
        },
        {
         "customdata": [
          [
           "you have had two missed periods in the past six months you have not got diabetes am not pregnant but have not been using <unk> in the past four years am only twenty two and fear you are infertile ?",
           "sugar blood one type insulin",
           1
          ],
          [
           "i have never been diagnosed with diabetes . my fasting blood sugar was one hundred and seventeen and hemoglobin aic was six . what does this mean ?",
           "sugar blood one type insulin",
           1
          ],
          [
           "if your doctor has said to watch sugar intake because you are on the verge of diabetes how do cut down and how many grams of sugar can you have daily or is sugar free the best ?",
           "sugar blood one type insulin",
           1
          ],
          [
           "what is the best foods i can eat to keep my blood sugar levels stable throughout the day ?",
           "sugar blood one type insulin",
           1
          ],
          [
           "the most immediate response to a high level of blood sugar in a human is an increase in the ?",
           "sugar blood one type insulin",
           1
          ],
          [
           "when a person has niddm and they have to start using insulin are they still considered to have adult onset or does it change to iddm ?",
           "sugar blood one type insulin",
           1
          ],
          [
           "is it just irritation down there if i feel like i have go the bathroom quite a bit and doctor says i have no infection or probably do not have diabetes ?",
           "sugar blood one type insulin",
           1
          ],
          [
           "when the body does not produce enough insulin to maintain a normal glucose level would you have type one or type two diabetes ?",
           "sugar blood one type insulin",
           1
          ],
          [
           "how can a <unk> girl who is a normal weight and stays active have type two diabetes blood sugar levels have been anywhere from thirty to five hundred and eighteen while eating healthy since diagnosis in october ?",
           "sugar blood one type insulin",
           1
          ],
          [
           "what fact does the author use to support the idea that the cause of the increase in type ii diabetes among young people is that they are overweight ?",
           "sugar blood one type insulin",
           1
          ],
          [
           "if you are <unk> diabetic and the doctor said you should control it by diet how many carbohydrates should you have a day ?",
           "sugar blood one type insulin",
           1
          ],
          [
           "why is it important for a type one diabetic to regulate insulin meals and exercise ?",
           "sugar blood one type insulin",
           1
          ],
          [
           "if your mother and father have diabetes then will you get diabetes ?",
           "sugar blood one type insulin",
           1
          ],
          [
           "if your blood sugar is high do you take more insulin to bring it down ?",
           "sugar blood one type insulin",
           1
          ],
          [
           "is it ok to drink diet pop with alcohol when you have diabetes ?",
           "sugar blood one type insulin",
           1
          ],
          [
           "what if your friend <unk> has type one diabetes but still eats tons of candy every day is this a problem also he is gay if that matters ?",
           "sugar blood one type insulin",
           1
          ],
          [
           "are people responsible for suffering from heart diseases diabetes and other <unk> due to eating junk food or the fat food industry is to <unk> ?",
           "sugar blood one type insulin",
           1
          ],
          [
           "is a state of increased acidity of blood due to the breakdown of fats when the blood sugar level is very low ?",
           "sugar blood one type insulin",
           1
          ],
          [
           "could diabetes be a mental illness you are born with or can developed do to extreme depression or suppressed <unk> and anger ?",
           "sugar blood one type insulin",
           1
          ],
          [
           "acceptable fasting blood sugars in elderly should elderly be allowed to have a slightly higher blood glucose in am if on meds ?",
           "sugar blood one type insulin",
           1
          ],
          [
           "what is the probability a child will have type one diabetes if a thirty five year old mother who wears size six had gestational diabetes ?",
           "sugar blood one type insulin",
           1
          ],
          [
           "do i need to keep a diabetes medication list in case of an emergency ?",
           "sugar blood one type insulin",
           1
          ],
          [
           "how can i prevent stroke , and is there a diet i should be taking for it ?",
           "sugar blood one type insulin",
           1
          ],
          [
           "is frequent urination and dry mouth is the only cause of high blood sugar ?",
           "sugar blood one type insulin",
           1
          ],
          [
           "do illegal drugs show up in a blood test if they are testing for diabetes ?",
           "sugar blood one type insulin",
           1
          ],
          [
           "which type of diabetes is mainly treated with insulin injections received several times a day ?",
           "sugar blood one type insulin",
           1
          ],
          [
           "what does these symptoms mean if you see a person sweating profusely look like they are about to pass out frequently urinating and smell sweet what would you suggest ?",
           "sugar blood one type insulin",
           1
          ],
          [
           "where can i get free diabetes supplies , <unk> insurance . i need a meter as well please help . i have type two diabetes . my insurance ran out . ?",
           "sugar blood one type insulin",
           1
          ],
          [
           "why is the function of the hormone insulin in regulating blood sugar level a good example of a negative feedback mechanism for maintaining homeostasis ?",
           "sugar blood one type insulin",
           1
          ],
          [
           "what are some ways to tell if you have premature diabetes and how can you deal with it if you have it ?",
           "sugar blood one type insulin",
           1
          ],
          [
           "your husband got diabetes and you are trying for three or four months for a second child is it something wrong with his diabetes to cause no conception or you ?",
           "sugar blood one type insulin",
           1
          ],
          [
           "diabetes mellitus is a disease that occurs when the body either can not produce the hormone insulin or produces an insufficient amount of insulin . the disease is caused by a <unk> in the system . ?",
           "sugar blood one type insulin",
           1
          ],
          [
           "i had cortisol levels done the dr . sent me a paper stating that they were essentially normal . why that instead of normal or abnormal ?",
           "sugar blood one type insulin",
           1
          ],
          [
           "i am hypoglycemic my teachers at school know about it but they always seem to forget how do i tell my teacher that i feel low and need to go to the nurse to get a snack it is <unk> help ?",
           "sugar blood one type insulin",
           1
          ],
          [
           "what test is administered to patients with diabetes to measure average glucose levels over the past three weeks ?",
           "sugar blood one type insulin",
           1
          ],
          [
           "my <unk> insulin injections needle pricked your hand will i be affected by h i v ?",
           "sugar blood one type insulin",
           1
          ],
          [
           "how safe is it for a diabetic to have your belly button pierced ?",
           "sugar blood one type insulin",
           1
          ],
          [
           "my mother is sixty nine years old and has diabetes , does medicare cover foot care , can she have her nails <unk> and feet looked at and have medicare pay for it ?",
           "sugar blood one type insulin",
           1
          ],
          [
           "my partner has got type one diabetes . is it possible for us to have a baby ?",
           "sugar blood one type insulin",
           1
          ],
          [
           "if i am not losing weight and have no sugar in my urine but could i still have diabetes ?",
           "sugar blood one type insulin",
           1
          ],
          [
           "what is the medical term meaning accumulation of ketone bodies in the blood results of the condition diabetes mellitus called ?",
           "sugar blood one type insulin",
           1
          ],
          [
           "what can you do to help you i am diabetic and have sugar in your urine ?",
           "sugar blood one type insulin",
           1
          ],
          [
           "i am are thirteen and my blood sugar went from eighty six to one hundred and seventy eight to one hundred and sixty eight then shot down to fifty four in a matter of four hours is that normal ?",
           "sugar blood one type insulin",
           1
          ],
          [
           "i was eleven weeks but found out fetus died at nine weeks is it safe for a diabetic to have a <unk> ?",
           "sugar blood one type insulin",
           1
          ],
          [
           "does pre diabetes hurt me how do i treat its symptoms does treating it hurt me at all ?",
           "sugar blood one type insulin",
           1
          ],
          [
           "can you get fired on a job at the post office due to not putting on the <unk> you did not have diabetes ?",
           "sugar blood one type insulin",
           1
          ],
          [
           "what if your diabetic client asks you to fill a syringe with her morning dose of insulin what should you do ?",
           "sugar blood one type insulin",
           1
          ],
          [
           "explain why there is too little sugar in the blood if the person exercises more than usual ?",
           "sugar blood one type insulin",
           1
          ],
          [
           "what kind of things do <unk> with diabetes need to think about during gym class or sports ?",
           "sugar blood one type insulin",
           1
          ],
          [
           "you are making a grocery list right now and you am diabetic what should you put on it ?",
           "sugar blood one type insulin",
           1
          ],
          [
           "is there something you can eat or drink to bring down high blood glucose ?",
           "sugar blood one type insulin",
           1
          ],
          [
           "<unk> . gave me <unk> insulin an my blood sugar has been up every . i have been to the hospital twice . right now my sugar is five hundred and forty six bp <unk> <unk> . it has been like this all week , what can i do to get it <unk> already take <unk> times a day and lantus for <unk> ?",
           "sugar blood one type insulin",
           1
          ],
          [
           "are there any vitamins or natural herbs that might be purchased at like a health store or a gnc <unk> that could possibly help improve type one diabetes ?",
           "sugar blood one type insulin",
           1
          ],
          [
           "if you have left shoulder pain whenever you are stressed <unk> also have a lot of <unk> this heart <unk> am a diabetic ?",
           "sugar blood one type insulin",
           1
          ],
          [
           "your sugar level was one time high but later when <unk> it is nil why do you have any <unk> ?",
           "sugar blood one type insulin",
           1
          ],
          [
           "your blood sugar is normal so why are you dropping things and feeling funny ?",
           "sugar blood one type insulin",
           1
          ],
          [
           "is there a cure for diabetes or can it be managed with exercise and diet ?",
           "sugar blood one type insulin",
           1
          ],
          [
           "you are not eating but drinking a lot of water could you have diabetes ?",
           "sugar blood one type insulin",
           1
          ],
          [
           "your husband was recently diagnosed with type two diabetes you know nothing what should you do ?",
           "sugar blood one type insulin",
           1
          ],
          [
           "can you control type two diabetes by simply not eating any sugar or carbs ever ?",
           "sugar blood one type insulin",
           1
          ],
          [
           "your blood sugar is one hundred and eleven without eating and you just <unk> from a cruise do you have diabetes ?",
           "sugar blood one type insulin",
           1
          ],
          [
           "this is an odd question but does glucose have any other <unk> or jobs in the <unk> other than a food or fuel for metabolism ?",
           "sugar blood one type insulin",
           1
          ],
          [
           "i think my husband is <unk> on me while i am <unk> in japan and he is in <unk> , ms . i would like to know if a private <unk> can assist and how much would it cost . ?",
           "sugar blood one type insulin",
           1
          ],
          [
           "you have had <unk> <unk> for a couple of weeks and they said your progesterone level was low now it has turned to blood is this still normal ?",
           "sugar blood one type insulin",
           1
          ],
          [
           "what type of diabetes must monitor their blood sugar levels carefully and take insulin on a strict schedule ?",
           "sugar blood one type insulin",
           1
          ],
          [
           "why do you always feel like you have to cough up <unk> but you never can get any up ?",
           "sugar blood one type insulin",
           1
          ],
          [
           "how can <unk> made in one part of the world affect people in another part of the world ?",
           "sugar blood one type insulin",
           1
          ],
          [
           "which of the following is not a common underlying cause of diabetic skin ulcers a . poor circulation b . pressure points c . neuropathy d . dermatitis ?",
           "sugar blood one type insulin",
           1
          ],
          [
           "how long should you test your blood before you take the results to the doctor to help <unk> her that she should test you ?",
           "sugar blood one type insulin",
           1
          ],
          [
           "is it a higher possibility for you to get diabetes if two family members on your dads side have sugar diabetes ?",
           "sugar blood one type insulin",
           1
          ],
          [
           "you are a forty year old diabetic you ave a temp of one hundred and one and just had a kidney infection when should you call your doctor ?",
           "sugar blood one type insulin",
           1
          ],
          [
           "you are suffering from extreme thirst and frequent urine you lose you feel exhausted <unk> <unk> and you missed this month period you did home pregnancy <unk> negative feel <unk> pain in lower <unk> ?",
           "sugar blood one type insulin",
           1
          ],
          [
           "i have pain in my back under my right shoulder <unk> . it gets worse at night when i <unk> down . ?",
           "sugar blood one type insulin",
           1
          ],
          [
           "both big toes and <unk> feel like they <unk> up with novacaine it never goes away you are not fat or diabetic ?",
           "sugar blood one type insulin",
           1
          ],
          [
           "would nick jonas write to a little seven year old boy that just got type one diabetes and is a huge fan ?",
           "sugar blood one type insulin",
           1
          ],
          [
           "what you should do as the doctor detected the pregnancy diabetes at thirty five weeks of pregnancy . is the treatment at this time will be sufficient for the mother and fetus ?",
           "sugar blood one type insulin",
           1
          ],
          [
           "i am having a fasting test for diabetes <unk> . this <unk> i went crazy and smoked a pack of cigarettes with my friends . will the <unk> of nicotine show up on the test ?",
           "sugar blood one type insulin",
           1
          ],
          [
           "is it a bad thing if you lose one <unk> in a week and then one point five pounds in a day without trying and if you are thirsty all the time so you drink lots of water ?",
           "sugar blood one type insulin",
           1
          ],
          [
           "what is the ability of the human body to keep blood-sugar levels within a fairly narrow range despite the intake of meals high in carbohydrates an example of ?",
           "sugar blood one type insulin",
           1
          ],
          [
           "how do you get type one diabetes when no one else in your family has had it or has it ?",
           "sugar blood one type insulin",
           1
          ],
          [
           "my finger tip turns white and numb when my hand gets cold . what causes that ?",
           "sugar blood one type insulin",
           1
          ],
          [
           "what type of diabetes generally occurs in younger years and always requires insulin as part of the treatment plan ?",
           "sugar blood one type insulin",
           1
          ],
          [
           "do ya think i have diabetes i am kinda thirsty and feel like i have to go the bathroom quite a bit off and on went to doc few days ago urine was normal did not think i had it blood test fine month ago ?",
           "sugar blood one type insulin",
           1
          ],
          [
           "it is recommended that you consume foods with five grams or more of as it is beneficial for weight control diabetes and even forms of cancer ?",
           "sugar blood one type insulin",
           1
          ],
          [
           "to find a specific picture book where a father <unk> a strawberry cake if you remember correctly for his son it starts off as a regular cake then it is a huge beautiful cake who is the author and what ?",
           "sugar blood one type insulin",
           1
          ],
          [
           "if a girl weighs one hundred and thirty pound and is a ten year old <unk> grader but her family has a history of over weight family member you are really scared you do not want to be diabetic but i cant <unk> <unk> ?",
           "sugar blood one type insulin",
           1
          ],
          [
           "your husband is diabetic has to fast does he take his meds in the morning it says take with food ?",
           "sugar blood one type insulin",
           1
          ],
          [
           "if you could lower your dosage of insulin by taking other drugs or meds should you do so or would you be better off to just continue with the insulin ?",
           "sugar blood one type insulin",
           1
          ],
          [
           "is a <unk> pool or a <unk> pool better for someone who lives an area with cold winters and is diabetic so <unk> your feet is a major issue ?",
           "sugar blood one type insulin",
           1
          ],
          [
           "in <unk> how would <unk> work if the father and mother are not married but the mother is chemically dependent and the father is the primary care <unk> of their four year old son with type one diabetes ?",
           "sugar blood one type insulin",
           1
          ]
         ],
         "hovertemplate": "summary=%{customdata[1]}<br>pc_1=%{x}<br>pc_2=%{y}<br>pc_3=%{z}<br>question=%{customdata[0]}<br>label=%{customdata[2]}<extra></extra>",
         "legendgroup": "sugar blood one type insulin",
         "marker": {
          "color": "#FF6692",
          "size": 8,
          "symbol": "circle"
         },
         "mode": "markers",
         "name": "sugar blood one type insulin",
         "scene": "scene",
         "showlegend": true,
         "type": "scatter3d",
         "x": [
          0.031186744570732117,
          0.04446525126695633,
          -0.042863354086875916,
          0.002879256382584572,
          -0.03501037135720253,
          0.042056526988744736,
          -0.16636474430561066,
          0.0611637607216835,
          0.03212213143706322,
          -0.024268565699458122,
          -0.06747950613498688,
          0.061849407851696014,
          -0.16401702165603638,
          -0.03998464718461037,
          -0.17573320865631104,
          -0.08623715490102768,
          -0.03405892476439476,
          -0.007921244949102402,
          -0.17009103298187256,
          0.034317221492528915,
          -0.0088853994384408,
          -0.2276870757341385,
          -0.10700424760580063,
          -0.013218944892287254,
          -0.049839723855257034,
          0.06727056205272675,
          -0.17816787958145142,
          -0.10240046679973602,
          0.06648752838373184,
          -0.20595581829547882,
          -0.13373662531375885,
          0.06063075363636017,
          -0.001777447061613202,
          -0.15932722389698029,
          0.06956552714109421,
          -0.039091579616069794,
          -0.25459781289100647,
          -0.06361091881990433,
          -0.1544836014509201,
          -0.13182707130908966,
          0.027370290830731392,
          -0.007201963569968939,
          0.10569547116756439,
          0.04607453569769859,
          -0.24088536202907562,
          -0.08981325477361679,
          -0.050177209079265594,
          -0.025546833872795105,
          -0.17932356894016266,
          -0.0786161795258522,
          -0.13662278652191162,
          -0.032349612563848495,
          -0.053942423313856125,
          -0.2343979775905609,
          0.010652659460902214,
          -0.14383433759212494,
          -0.11981502920389175,
          -0.15530970692634583,
          -0.17552195489406586,
          -0.0765092745423317,
          0.08760970085859299,
          -0.03108149580657482,
          -0.11096762865781784,
          -0.00579585088416934,
          0.06082265451550484,
          -0.2074889838695526,
          -0.08934066444635391,
          0.10548044741153717,
          -0.05253675580024719,
          -0.11521898210048676,
          -0.02199619635939598,
          -0.15916331112384796,
          -0.16450855135917664,
          -0.21811817586421967,
          -0.10709269344806671,
          0.006758372765034437,
          -0.044220417737960815,
          -0.05101579427719116,
          -0.013712399639189243,
          -0.13059403002262115,
          -0.19318720698356628,
          0.032914504408836365,
          -0.13967826962471008,
          -0.11845112591981888,
          -0.08599391579627991,
          -0.06013390049338341,
          -0.12308243662118912,
          -0.023846333846449852,
          -0.15540793538093567,
          -0.08199161291122437
         ],
         "y": [
          0.18711453676223755,
          0.12910939753055573,
          0.2707783877849579,
          0.2752855122089386,
          0.3796328604221344,
          0.19637040793895721,
          0.22492587566375732,
          0.225725919008255,
          0.22317326068878174,
          0.31780338287353516,
          0.34730637073516846,
          0.3299746513366699,
          0.18067601323127747,
          0.23736663162708282,
          0.3002401292324066,
          0.2626281678676605,
          0.3675740957260132,
          0.40726009011268616,
          0.3154999017715454,
          0.21853569149971008,
          0.24191951751708984,
          0.32989302277565,
          0.28282082080841064,
          0.45802661776542664,
          0.08779793977737427,
          0.3004930317401886,
          0.18066921830177307,
          0.2369086891412735,
          0.37458536028862,
          0.24706698954105377,
          0.15711626410484314,
          0.34603193402290344,
          0.17383603751659393,
          0.18845424056053162,
          0.2632984519004822,
          0.20397934317588806,
          0.14947248995304108,
          0.1579647958278656,
          0.12613292038440704,
          0.24420253932476044,
          0.36789119243621826,
          0.311197429895401,
          0.19460727274417877,
          0.08999063819646835,
          0.2288110852241516,
          0.16559338569641113,
          0.1897565871477127,
          0.2533332109451294,
          0.19008611142635345,
          0.21008697152137756,
          0.2374991923570633,
          0.1777980476617813,
          0.33054134249687195,
          0.10395792871713638,
          0.21722635626792908,
          0.19703367352485657,
          0.31722524762153625,
          0.263833224773407,
          0.25212231278419495,
          0.2934955954551697,
          0.1954553723335266,
          0.3074687421321869,
          0.1927085965871811,
          0.1756056398153305,
          0.29609426856040955,
          0.19958415627479553,
          0.34047532081604004,
          0.3607269823551178,
          0.11020474135875702,
          0.13697409629821777,
          0.19390080869197845,
          0.13130146265029907,
          0.12691403925418854,
          0.21265701949596405,
          0.2179405838251114,
          0.0951029509305954,
          0.13073976337909698,
          0.21705712378025055,
          0.37424418330192566,
          0.2499527782201767,
          0.10136041790246964,
          0.3217376172542572,
          0.1967720240354538,
          0.3428135812282562,
          0.2616828382015228,
          0.2132844775915146,
          0.11152870953083038,
          0.22227628529071808,
          0.2586435377597809,
          0.17697212100028992
         ],
         "z": [
          -0.7269822359085083,
          -0.7016909122467041,
          -0.5958017110824585,
          -0.591941773891449,
          -0.7795249223709106,
          -0.8482890129089355,
          -0.6202042102813721,
          -0.8566688299179077,
          -0.7392776012420654,
          -0.7874292135238647,
          -0.4795438051223755,
          -0.7053098082542419,
          -0.8679580688476562,
          -0.5371381640434265,
          -0.514664351940155,
          -0.7262492775917053,
          -0.6179278492927551,
          -0.7742756009101868,
          -0.6865794062614441,
          -0.5131058692932129,
          -0.7878012657165527,
          -0.597748339176178,
          -0.6428377628326416,
          -0.765931248664856,
          -0.6902207136154175,
          -0.8332525491714478,
          -0.5565109848976135,
          -0.6589778661727905,
          -0.7629833221435547,
          -0.5881472229957581,
          -0.8409879207611084,
          -0.8214212656021118,
          -0.6023868322372437,
          -0.6630203127861023,
          -0.737742006778717,
          -0.44351956248283386,
          -0.5164681077003479,
          -0.7355210781097412,
          -0.8329021334648132,
          -0.5933863520622253,
          -0.8530511260032654,
          -0.4918733239173889,
          -0.727246105670929,
          -0.5914808511734009,
          -0.6632940769195557,
          -0.647503674030304,
          -0.5061437487602234,
          -0.6750249862670898,
          -0.7277343273162842,
          -0.6067540049552917,
          -0.4618538022041321,
          -0.6856468319892883,
          -0.6473758220672607,
          -0.5737295746803284,
          -0.6507641673088074,
          -0.5153427124023438,
          -0.6371755003929138,
          -0.5320740342140198,
          -0.6754341125488281,
          -0.5608906149864197,
          -0.6195743680000305,
          -0.6872988939285278,
          -0.6886918544769287,
          -0.6602092385292053,
          -0.6638257503509521,
          -0.60739666223526,
          -0.7736794352531433,
          -0.8514654636383057,
          -0.609073281288147,
          -0.9097704291343689,
          -0.7670469284057617,
          -0.580689549446106,
          -0.6545421481132507,
          -0.5233190655708313,
          -0.7779819369316101,
          -0.6043347120285034,
          -0.6692010760307312,
          -0.6796165108680725,
          -0.7437557578086853,
          -0.6992829442024231,
          -0.668049156665802,
          -0.8088537454605103,
          -0.6088271141052246,
          -0.5950157046318054,
          -0.7893519401550293,
          -0.7475176453590393,
          -0.7666874527931213,
          -0.506026029586792,
          -0.7891409993171692,
          -0.8319380879402161
         ]
        },
        {
         "customdata": [
          [
           "is football good for a diabetic person ?",
           "good patient sugar honey bad",
           14
          ],
          [
           "is gluten free good for diabetics ?",
           "good patient sugar honey bad",
           14
          ],
          [
           "is milo good for diabetic patients ?",
           "good patient sugar honey bad",
           14
          ],
          [
           "is sugar apple good for diabetics ?",
           "good patient sugar honey bad",
           14
          ],
          [
           "can <unk> iodine safe as an <unk> agent on diabetics ?",
           "good patient sugar honey bad",
           14
          ],
          [
           "why is massage not for diabetics ?",
           "good patient sugar honey bad",
           14
          ],
          [
           "are oranges good for diabetic people ?",
           "good patient sugar honey bad",
           14
          ],
          [
           "is honey a good sweetener for diabetics ?",
           "good patient sugar honey bad",
           14
          ],
          [
           "can honey make you diabetic ?",
           "good patient sugar honey bad",
           14
          ],
          [
           "what are some good deserts for diabetics ?",
           "good patient sugar honey bad",
           14
          ],
          [
           "are <unk> good for diabetics ?",
           "good patient sugar honey bad",
           14
          ],
          [
           "is beetroot good for diabetics ?",
           "good patient sugar honey bad",
           14
          ],
          [
           "is cottage chese good for diabetics ?",
           "good patient sugar honey bad",
           14
          ],
          [
           "is cheese good for a diabetic person ?",
           "good patient sugar honey bad",
           14
          ],
          [
           "is <unk> good for diabetic ?",
           "good patient sugar honey bad",
           14
          ],
          [
           "is honey good for diabetes ?",
           "good patient sugar honey bad",
           14
          ],
          [
           "is there term life insurance for diabetics ?",
           "good patient sugar honey bad",
           14
          ],
          [
           "is carrot juice good for diabetic patients ?",
           "good patient sugar honey bad",
           14
          ],
          [
           "is mango bad for diabetes ?",
           "good patient sugar honey bad",
           14
          ],
          [
           "is <unk> good for diabetic ?",
           "good patient sugar honey bad",
           14
          ],
          [
           "is centrum silver safe for diabetics ?",
           "good patient sugar honey bad",
           14
          ],
          [
           "how come shiatsu massaging cushion is not recommended for diabetics ?",
           "good patient sugar honey bad",
           14
          ],
          [
           "is almond good for diabetic ?",
           "good patient sugar honey bad",
           14
          ],
          [
           "is sugar in toothpaste a danger for diabetics ?",
           "good patient sugar honey bad",
           14
          ],
          [
           "is <unk> root good for diabetics ?",
           "good patient sugar honey bad",
           14
          ],
          [
           "is <unk> good for diabetics ?",
           "good patient sugar honey bad",
           14
          ],
          [
           "is cheese good for a diabetic ?",
           "good patient sugar honey bad",
           14
          ],
          [
           "is mango harmful for diabetics ?",
           "good patient sugar honey bad",
           14
          ],
          [
           "is weed bad for diabetics ?",
           "good patient sugar honey bad",
           14
          ],
          [
           "is walking good for diabetics ?",
           "good patient sugar honey bad",
           14
          ],
          [
           "is dates good for diabetic patient ?",
           "good patient sugar honey bad",
           14
          ],
          [
           "is dates good for diabetics patients ?",
           "good patient sugar honey bad",
           14
          ],
          [
           "is strawberry good for diabete ?",
           "good patient sugar honey bad",
           14
          ],
          [
           "how good is noodles for diabetic patient ?",
           "good patient sugar honey bad",
           14
          ],
          [
           "is carrot bad for diabetes ?",
           "good patient sugar honey bad",
           14
          ],
          [
           "is raw sugar good for diabetes ?",
           "good patient sugar honey bad",
           14
          ],
          [
           "are black olives good for you ?",
           "good patient sugar honey bad",
           14
          ],
          [
           "is cinnamon good for people with diabetes ?",
           "good patient sugar honey bad",
           14
          ],
          [
           "are apples good for diabetic ?",
           "good patient sugar honey bad",
           14
          ],
          [
           "is pineapple good for diabetics ?",
           "good patient sugar honey bad",
           14
          ],
          [
           "is there any sugar in diabetic cookies ?",
           "good patient sugar honey bad",
           14
          ],
          [
           "is watermelon good for diabetics ?",
           "good patient sugar honey bad",
           14
          ]
         ],
         "hovertemplate": "summary=%{customdata[1]}<br>pc_1=%{x}<br>pc_2=%{y}<br>pc_3=%{z}<br>question=%{customdata[0]}<br>label=%{customdata[2]}<extra></extra>",
         "legendgroup": "good patient sugar honey bad",
         "marker": {
          "color": "#B6E880",
          "size": 8,
          "symbol": "circle"
         },
         "mode": "markers",
         "name": "good patient sugar honey bad",
         "scene": "scene",
         "showlegend": true,
         "type": "scatter3d",
         "x": [
          0.14686602354049683,
          0.02997140772640705,
          0.2428775578737259,
          0.21797765791416168,
          -0.01922111213207245,
          0.0629785880446434,
          0.14604784548282623,
          0.1825435608625412,
          0.27525463700294495,
          0.030393358319997787,
          0.04442311078310013,
          0.07739993184804916,
          0.09933891892433167,
          0.14558082818984985,
          0.20692095160484314,
          0.1493246853351593,
          -0.06507279723882675,
          0.17424826323986053,
          0.17151470482349396,
          0.16685695946216583,
          -0.042622487992048264,
          0.05489049106836319,
          0.2298436462879181,
          0.060610730201005936,
          0.09080156683921814,
          0.07436788082122803,
          0.17193982005119324,
          0.08747401088476181,
          0.11267775297164917,
          0.03872591629624367,
          0.21566468477249146,
          0.1673119217157364,
          0.10964620858430862,
          0.2214280366897583,
          0.17388726770877838,
          0.125686377286911,
          0.08778054267168045,
          0.17943698167800903,
          0.16500355303287506,
          0.13802629709243774,
          0.24401068687438965,
          0.10925702005624771
         ],
         "y": [
          0.4184970259666443,
          0.4069295823574066,
          0.41876542568206787,
          0.4609030783176422,
          0.372737854719162,
          0.3350315988063812,
          0.5255835652351379,
          0.43829095363616943,
          0.4487643241882324,
          0.4890498220920563,
          0.4489673376083374,
          0.3657563030719757,
          0.45425766706466675,
          0.5028790235519409,
          0.44182249903678894,
          0.37109827995300293,
          0.39146870374679565,
          0.5005000829696655,
          0.34431761503219604,
          0.4275674819946289,
          0.4535186290740967,
          0.30238139629364014,
          0.4753188192844391,
          0.4596746265888214,
          0.40445494651794434,
          0.42163988947868347,
          0.5040067434310913,
          0.4793604612350464,
          0.387437105178833,
          0.41258546710014343,
          0.45125439763069153,
          0.4462032616138458,
          0.3858562111854553,
          0.5019778609275818,
          0.325361043214798,
          0.34372493624687195,
          0.4129473865032196,
          0.3634856641292572,
          0.49753913283348083,
          0.4457678496837616,
          0.4904485046863556,
          0.42508283257484436
         ],
         "z": [
          0.5190825462341309,
          0.2936517000198364,
          0.4540073275566101,
          0.20155569911003113,
          0.3513031005859375,
          0.38011443614959717,
          0.3759538531303406,
          0.24492353200912476,
          0.2717539668083191,
          0.42909231781959534,
          0.42566248774528503,
          0.33941659331321716,
          0.4349832534790039,
          0.5269280076026917,
          0.4815736711025238,
          0.25516945123672485,
          0.2685369849205017,
          0.28831738233566284,
          0.3933318555355072,
          0.4711512625217438,
          0.32348862290382385,
          0.41165417432785034,
          0.5043904781341553,
          0.33013322949409485,
          0.31270021200180054,
          0.384333074092865,
          0.5126600861549377,
          0.2642309367656708,
          0.4119866192340851,
          0.37745994329452515,
          0.39009812474250793,
          0.3574625849723816,
          0.24317355453968048,
          0.3767189383506775,
          0.36111778020858765,
          0.23484739661216736,
          0.18808260560035706,
          0.29653772711753845,
          0.35352930426597595,
          0.27037519216537476,
          0.19637514650821686,
          0.28237226605415344
         ]
        },
        {
         "customdata": [
          [
           "is diabetes a communicable disease ?",
           "diseas communic type curabl chronic",
           2
          ],
          [
           "is diabetes mellitus a chronic disease ?",
           "diseas communic type curabl chronic",
           2
          ],
          [
           "what is diabetes pain and complication a generation diseases ?",
           "diseas communic type curabl chronic",
           2
          ],
          [
           "is diabetes a disease or a condition ?",
           "diseas communic type curabl chronic",
           2
          ],
          [
           "how close is diabetes to becoming cured ?",
           "diseas communic type curabl chronic",
           2
          ],
          [
           "can a woman with diabetes and cystic fibrosis become pregnant ?",
           "diseas communic type curabl chronic",
           2
          ],
          [
           "why is <unk> not possible for diseases such as diabetes ?",
           "diseas communic type curabl chronic",
           2
          ],
          [
           "is diabetes a <unk> disease ?",
           "diseas communic type curabl chronic",
           2
          ],
          [
           "why is diabetes such a serious disease ?",
           "diseas communic type curabl chronic",
           2
          ],
          [
           "is diabetes infectious ?",
           "diseas communic type curabl chronic",
           2
          ],
          [
           "is type two diabetes a genetic disease ?",
           "diseas communic type curabl chronic",
           2
          ],
          [
           "cat has diabetes and not eating is he dying ?",
           "diseas communic type curabl chronic",
           2
          ],
          [
           "why is diabetes is a deficiency disease ?",
           "diseas communic type curabl chronic",
           2
          ],
          [
           "is diabetes a curable disease if detected in early ?",
           "diseas communic type curabl chronic",
           2
          ],
          [
           "is insulin <unk> <unk> is curable ?",
           "diseas communic type curabl chronic",
           2
          ],
          [
           "is diabetes an illness ?",
           "diseas communic type curabl chronic",
           2
          ],
          [
           "if diabetes is <unk> it a genetic disease or is it caused by the environment ?",
           "diseas communic type curabl chronic",
           2
          ],
          [
           "how serious a disease is diabetes ?",
           "diseas communic type curabl chronic",
           2
          ],
          [
           "is diabetes mellitus a <unk> disease ?",
           "diseas communic type curabl chronic",
           2
          ],
          [
           "is diabetes type two infectious ?",
           "diseas communic type curabl chronic",
           2
          ],
          [
           "list of five non communicable and communicable diseases ?",
           "diseas communic type curabl chronic",
           2
          ],
          [
           "is diabetes a disorder or a disease ?",
           "diseas communic type curabl chronic",
           2
          ],
          [
           "is diabetes a disease or ailment ?",
           "diseas communic type curabl chronic",
           2
          ],
          [
           "is diabetes a <unk> disease ?",
           "diseas communic type curabl chronic",
           2
          ],
          [
           "is diabetes a virus or bacteria ?",
           "diseas communic type curabl chronic",
           2
          ],
          [
           "what makes diabetes a chronic disease ?",
           "diseas communic type curabl chronic",
           2
          ],
          [
           "is type one diabetes contagious ?",
           "diseas communic type curabl chronic",
           2
          ],
          [
           "is diabetes curable ?",
           "diseas communic type curabl chronic",
           2
          ],
          [
           "is diabetes myelitis contagious ?",
           "diseas communic type curabl chronic",
           2
          ],
          [
           "is type one diabetes deadly or is there a cure ?",
           "diseas communic type curabl chronic",
           2
          ],
          [
           "is diabetes a chronic or communicable diseases ?",
           "diseas communic type curabl chronic",
           2
          ],
          [
           "does blood sugar level increase with lyme disease ?",
           "diseas communic type curabl chronic",
           2
          ],
          [
           "top ten communicable diseases in the <unk> ?",
           "diseas communic type curabl chronic",
           2
          ],
          [
           "is type ii diabetes contagious ?",
           "diseas communic type curabl chronic",
           2
          ],
          [
           "is diabetic curable ?",
           "diseas communic type curabl chronic",
           2
          ],
          [
           "which one of these is a communicable <unk> or diabetes ?",
           "diseas communic type curabl chronic",
           2
          ]
         ],
         "hovertemplate": "summary=%{customdata[1]}<br>pc_1=%{x}<br>pc_2=%{y}<br>pc_3=%{z}<br>question=%{customdata[0]}<br>label=%{customdata[2]}<extra></extra>",
         "legendgroup": "diseas communic type curabl chronic",
         "marker": {
          "color": "#FF97FF",
          "size": 8,
          "symbol": "circle"
         },
         "mode": "markers",
         "name": "diseas communic type curabl chronic",
         "scene": "scene",
         "showlegend": true,
         "type": "scatter3d",
         "x": [
          -0.6199887990951538,
          -0.4934842884540558,
          -0.650174081325531,
          -0.6109619140625,
          -0.6060114502906799,
          -0.554492712020874,
          -0.6447988748550415,
          -0.5839940905570984,
          -0.6264359951019287,
          -0.6515629291534424,
          -0.5381141304969788,
          -0.5421493649482727,
          -0.545418381690979,
          -0.7133570313453674,
          -0.6454454064369202,
          -0.549892783164978,
          -0.6622934341430664,
          -0.6418511867523193,
          -0.49435049295425415,
          -0.5480234026908875,
          -0.6954061985015869,
          -0.6122361421585083,
          -0.5677441954612732,
          -0.6034263968467712,
          -0.6781038045883179,
          -0.6014894843101501,
          -0.5376402735710144,
          -0.6200233697891235,
          -0.5586280822753906,
          -0.6244416832923889,
          -0.6407844424247742,
          -0.5646405816078186,
          -0.7221442461013794,
          -0.5003105401992798,
          -0.65714430809021,
          -0.6185393333435059
         ],
         "y": [
          -0.45581141114234924,
          -0.4645220637321472,
          -0.2938196659088135,
          -0.38117337226867676,
          -0.31977880001068115,
          -0.293588787317276,
          -0.5159522294998169,
          -0.4494450092315674,
          -0.5494503974914551,
          -0.4602663218975067,
          -0.49721959233283997,
          -0.31929194927215576,
          -0.4771146774291992,
          -0.38497036695480347,
          -0.3434280753135681,
          -0.33755314350128174,
          -0.37401512265205383,
          -0.5437437295913696,
          -0.5113685727119446,
          -0.4369805157184601,
          -0.4830021858215332,
          -0.3774864971637726,
          -0.49892833828926086,
          -0.4710560739040375,
          -0.4124620258808136,
          -0.5559145212173462,
          -0.3945254683494568,
          -0.34285250306129456,
          -0.35999661684036255,
          -0.3807813227176666,
          -0.4682943522930145,
          -0.3920009434223175,
          -0.49493926763534546,
          -0.3922803997993469,
          -0.3161156475543976,
          -0.4466259777545929
         ],
         "z": [
          0.19098225235939026,
          0.14200320839881897,
          0.24313217401504517,
          0.26685982942581177,
          0.20497779548168182,
          0.15877430140972137,
          0.1862066388130188,
          0.147233784198761,
          0.12034857273101807,
          0.09323692321777344,
          0.26356449723243713,
          0.26979905366897583,
          0.10728432983160019,
          0.17748700082302094,
          0.10059264302253723,
          0.1969338357448578,
          0.30459362268447876,
          0.07974469661712646,
          0.12757374346256256,
          0.2221057116985321,
          0.2456144094467163,
          0.3024846017360687,
          0.15594813227653503,
          0.11399742215871811,
          0.21889598667621613,
          0.07730178534984589,
          0.21492822468280792,
          0.15930695831775665,
          0.15907543897628784,
          0.17938005924224854,
          0.21528908610343933,
          0.0846392959356308,
          0.2653754651546478,
          0.23304030299186707,
          0.13970758020877838,
          0.27045926451683044
         ]
        },
        {
         "customdata": [
          [
           "does your diabetes medication prevent you from getting pregnant ?",
           "get pregnant without affect join",
           32
          ],
          [
           "can you survive without knowing you have diabetes ?",
           "get pregnant without affect join",
           32
          ],
          [
           "what are the chances of gettin diabetes if your dad had diabetes ?",
           "get pregnant without affect join",
           32
          ],
          [
           "should you be concerned if you have diabetes ?",
           "get pregnant without affect join",
           32
          ],
          [
           "will the flu shot affect you if you are a diabetic ?",
           "get pregnant without affect join",
           32
          ],
          [
           "is it true if someone <unk> you badly you can get diabetes ?",
           "get pregnant without affect join",
           32
          ],
          [
           "can you lose your fertility from diabetes ?",
           "get pregnant without affect join",
           32
          ],
          [
           "could you get diabetes if your <unk> has it ?",
           "get pregnant without affect join",
           32
          ],
          [
           "can you join the marines if you have diabetes ?",
           "get pregnant without affect join",
           32
          ],
          [
           "does glucose help kids to remember ?",
           "get pregnant without affect join",
           32
          ],
          [
           "can talking give you diabetes ?",
           "get pregnant without affect join",
           32
          ],
          [
           "can <unk> make you have diabetes ?",
           "get pregnant without affect join",
           32
          ],
          [
           "if you have diabetes should you get a pedicure ?",
           "get pregnant without affect join",
           32
          ],
          [
           "can i protect myself from diabetes ?",
           "get pregnant without affect join",
           32
          ],
          [
           "can you get diabetes after kissing a <unk> that has <unk> ?",
           "get pregnant without affect join",
           32
          ],
          [
           "does diabetes effect you getting pregnant ?",
           "get pregnant without affect join",
           32
          ],
          [
           "can you be a police officer if you have diabetes ?",
           "get pregnant without affect join",
           32
          ],
          [
           "will diabetes qualify you ?",
           "get pregnant without affect join",
           32
          ],
          [
           "can having diabetes make it hard to get over a cold ?",
           "get pregnant without affect join",
           32
          ],
          [
           "if you have diabetes will it affect your children ?",
           "get pregnant without affect join",
           32
          ],
          [
           "if you have diabetes do you get fatigue ?",
           "get pregnant without affect join",
           32
          ],
          [
           "are you able to join the military if you have diabetes ?",
           "get pregnant without affect join",
           32
          ],
          [
           "if your <unk> had diabetes can you ?",
           "get pregnant without affect join",
           32
          ],
          [
           "can you have hyperglycemia without diabetes ?",
           "get pregnant without affect join",
           32
          ],
          [
           "can you sue if you have diabetes and carpal tunnel ?",
           "get pregnant without affect join",
           32
          ]
         ],
         "hovertemplate": "summary=%{customdata[1]}<br>pc_1=%{x}<br>pc_2=%{y}<br>pc_3=%{z}<br>question=%{customdata[0]}<br>label=%{customdata[2]}<extra></extra>",
         "legendgroup": "get pregnant without affect join",
         "marker": {
          "color": "#FECB52",
          "size": 8,
          "symbol": "circle"
         },
         "mode": "markers",
         "name": "get pregnant without affect join",
         "scene": "scene",
         "showlegend": true,
         "type": "scatter3d",
         "x": [
          -0.3547636568546295,
          -0.3632393777370453,
          -0.3983075022697449,
          -0.25101935863494873,
          -0.30558714270591736,
          -0.26142796874046326,
          -0.36814063787460327,
          -0.28073734045028687,
          -0.38079801201820374,
          -0.44352883100509644,
          -0.3840412497520447,
          -0.42687201499938965,
          -0.2315409779548645,
          -0.3688368499279022,
          -0.27600184082984924,
          -0.3143346309661865,
          -0.3331965208053589,
          -0.39825645089149475,
          -0.3383065164089203,
          -0.361575722694397,
          -0.26292333006858826,
          -0.35711225867271423,
          -0.3554752469062805,
          -0.4279155135154724,
          -0.30410128831863403
         ],
         "y": [
          0.17547239363193512,
          0.1287941336631775,
          0.000902678060811013,
          0.1678992211818695,
          0.22609445452690125,
          0.11042872816324234,
          0.08419866114854813,
          0.09999217092990875,
          0.1876107156276703,
          0.14386866986751556,
          0.11305444687604904,
          0.11288122832775116,
          0.14602996408939362,
          0.20619255304336548,
          0.07316906005144119,
          0.03772073611617088,
          0.24354684352874756,
          0.11907891929149628,
          0.1396820992231369,
          0.08488944172859192,
          0.1153770312666893,
          0.18874591588974,
          0.13006313145160675,
          0.13128353655338287,
          0.14775772392749786
         ],
         "z": [
          0.11894919723272324,
          0.16098614037036896,
          0.08260860294103622,
          0.13372792303562164,
          0.005345214158296585,
          -0.049502190202474594,
          0.15541483461856842,
          0.08984241634607315,
          0.036239348351955414,
          -0.027868665754795074,
          -0.04138876870274544,
          0.0886896625161171,
          0.09040071815252304,
          0.16150610148906708,
          0.04238395020365715,
          0.08504009991884232,
          -0.08910860121250153,
          0.004947583191096783,
          -0.0944591537117958,
          0.04400353878736496,
          0.01887657307088375,
          -0.019734658300876617,
          0.10362254083156586,
          0.16811557114124298,
          0.0006706888671033084
         ]
        },
        {
         "customdata": [
          [
           "where can i find an online menu for diabetics ?",
           "find recip food diet list",
           3
          ],
          [
           "what websites have cake recipes for diabetics ?",
           "find recip food diet list",
           3
          ],
          [
           "what are some sugar substitutes used in diabetic recipes ?",
           "find recip food diet list",
           3
          ],
          [
           "where can i go online to find some information on diabetics recipes ?",
           "find recip food diet list",
           3
          ],
          [
           "where can i find information about type i diabetes ?",
           "find recip food diet list",
           3
          ],
          [
           "where can i find diabetic diet plans for free ?",
           "find recip food diet list",
           3
          ],
          [
           "what kinds of sugar substitutes can you use for a diabetic pound cake recipe ?",
           "find recip food diet list",
           3
          ],
          [
           "finding free diabetic cookbooks ?",
           "find recip food diet list",
           3
          ],
          [
           "is there a list of food diabetics can not eat online ?",
           "find recip food diet list",
           3
          ],
          [
           "where can i get a diabetic cookbook ?",
           "find recip food diet list",
           3
          ],
          [
           "where can one get the recipes of food for diabetics ?",
           "find recip food diet list",
           3
          ],
          [
           "are there any diabetic food stores in the <unk> area ?",
           "find recip food diet list",
           3
          ],
          [
           "is there a medically approved food list for diabetics ?",
           "find recip food diet list",
           3
          ],
          [
           "what are some options for recipes for someone with diabetes ?",
           "find recip food diet list",
           3
          ],
          [
           "what is a good menu for diabetics ?",
           "find recip food diet list",
           3
          ],
          [
           "are there any websites that can help me find pre diabetic diet ?",
           "find recip food diet list",
           3
          ],
          [
           "where can i find recipes for free diabetic diets ?",
           "find recip food diet list",
           3
          ],
          [
           "where to find diabetes food lists ?",
           "find recip food diet list",
           3
          ],
          [
           "what foods are included in diabetes food chart ?",
           "find recip food diet list",
           3
          ],
          [
           "how do you know if your dessert recipe is good for diabetics ?",
           "find recip food diet list",
           3
          ],
          [
           "which websites provide diabetic food lists ?",
           "find recip food diet list",
           3
          ],
          [
           "what are good dessert recipe ideas for thanksgiving ?",
           "find recip food diet list",
           3
          ],
          [
           "what are some quick diabetes recipes ?",
           "find recip food diet list",
           3
          ],
          [
           "what is the most <unk> diabetic cheesecake recipe ?",
           "find recip food diet list",
           3
          ],
          [
           "what are some examples of recipes suitable for diabetic cooking ?",
           "find recip food diet list",
           3
          ],
          [
           "breakfast - the key to healthy diabetic meal plans ?",
           "find recip food diet list",
           3
          ],
          [
           "is there an informational source online for diabetes in children ?",
           "find recip food diet list",
           3
          ],
          [
           "where can one find information concerning a diabetic diet ?",
           "find recip food diet list",
           3
          ],
          [
           "what are good foods for diabetics ?",
           "find recip food diet list",
           3
          ],
          [
           "where can i find a list of food for a diabetic ?",
           "find recip food diet list",
           3
          ],
          [
           "where can i find a complete list of foods mentioned in the <unk> ?",
           "find recip food diet list",
           3
          ],
          [
           "where can i find more information on diet for diabetic ?",
           "find recip food diet list",
           3
          ],
          [
           "are there any good diabetic recipes books online ?",
           "find recip food diet list",
           3
          ],
          [
           "where can i find a complete food chart for diabetes including carbohydrate information ?",
           "find recip food diet list",
           3
          ],
          [
           "what foods should a diabetic buy at the grocery store ?",
           "find recip food diet list",
           3
          ],
          [
           "where can i find information on a diabetic diet , and the link between diet and overall health ?",
           "find recip food diet list",
           3
          ],
          [
           "where can i get recipes for a diabetes meal diet that produce tasty results ?",
           "find recip food diet list",
           3
          ],
          [
           "where can you find information about the grapefruit diet ?",
           "find recip food diet list",
           3
          ],
          [
           "where can i find a new diabetic food list that shows good food choices ?",
           "find recip food diet list",
           3
          ],
          [
           "what is the difference between a diabetic food list and a low glucose food list ?",
           "find recip food diet list",
           3
          ],
          [
           "where can someone purchase diabetic cookbooks ?",
           "find recip food diet list",
           3
          ],
          [
           "diabetic food list tip ?",
           "find recip food diet list",
           3
          ],
          [
           "what are a list of foods for diabetics ?",
           "find recip food diet list",
           3
          ],
          [
           "where can i find list of diabetic eating guidelines ?",
           "find recip food diet list",
           3
          ],
          [
           "where can people get diabetic diet plans ?",
           "find recip food diet list",
           3
          ],
          [
           "where can i find more information on diabetes diet plans ?",
           "find recip food diet list",
           3
          ],
          [
           "are there diabetes meals i can buy instead of cooking ?",
           "find recip food diet list",
           3
          ],
          [
           "what diabetes info can i expect to receive from my physician ?",
           "find recip food diet list",
           3
          ],
          [
           "where can i find some dessert recipes for diabetics ?",
           "find recip food diet list",
           3
          ],
          [
           "what is the healthiest and <unk> diabetic pound cake recipe ?",
           "find recip food diet list",
           3
          ],
          [
           "can i get diabetic meal plans online ?",
           "find recip food diet list",
           3
          ],
          [
           "where would be the best place to find diabetic sugar free recipes ?",
           "find recip food diet list",
           3
          ],
          [
           "where can i find recipes for <unk> desserts ?",
           "find recip food diet list",
           3
          ],
          [
           "what are some good tasting diabetic recipes ?",
           "find recip food diet list",
           3
          ],
          [
           "creating a healthy diabetic food list ?",
           "find recip food diet list",
           3
          ],
          [
           "which diabetic cake recipes are recommended ?",
           "find recip food diet list",
           3
          ],
          [
           "can applesauce be used in a diabetic cake recipe ?",
           "find recip food diet list",
           3
          ],
          [
           "for dietary health , is there a site that offers help with diabetic diet plans ?",
           "find recip food diet list",
           3
          ],
          [
           "what cookbooks have good diabetic cookie recipes ?",
           "find recip food diet list",
           3
          ],
          [
           "what healthy foods for diabetics should i start cooking ?",
           "find recip food diet list",
           3
          ],
          [
           "diabetic recipes help keep you healthy ?",
           "find recip food diet list",
           3
          ],
          [
           "where can i find information about diabetic eating ?",
           "find recip food diet list",
           3
          ],
          [
           "where can i find the new diabetic food list ?",
           "find recip food diet list",
           3
          ],
          [
           "is there a diabetic food pyramid i can follow ?",
           "find recip food diet list",
           3
          ],
          [
           "what are some good recipes for diabetics ?",
           "find recip food diet list",
           3
          ],
          [
           "are there any cookbooks for diabetics by diabetics ?",
           "find recip food diet list",
           3
          ],
          [
           "what are the nutritious recipes for diabetic people ?",
           "find recip food diet list",
           3
          ],
          [
           "can i use sugar substitutes to make diabetic recipes for dessert ?",
           "find recip food diet list",
           3
          ],
          [
           "where can one find info on diets for diabetics ?",
           "find recip food diet list",
           3
          ],
          [
           "what website is the best at finding diabetic supplies ?",
           "find recip food diet list",
           3
          ],
          [
           "how to find free diabetic recipes ?",
           "find recip food diet list",
           3
          ],
          [
           "where can i find a recipe book for a diabetic diet ?",
           "find recip food diet list",
           3
          ],
          [
           "can you name some diabetic cookbooks with easy instructions ?",
           "find recip food diet list",
           3
          ],
          [
           "best free diabetic recipes ?",
           "find recip food diet list",
           3
          ],
          [
           "are their any recipe books for diabetics that have a diabetic cheesecake recipe ?",
           "find recip food diet list",
           3
          ],
          [
           "where can i find out more about diabetic diet sheet ?",
           "find recip food diet list",
           3
          ],
          [
           "finding diabetic recipes ?",
           "find recip food diet list",
           3
          ],
          [
           "where can i find good information on normal sugar levels ?",
           "find recip food diet list",
           3
          ],
          [
           "where can i find good diabetic cook books ?",
           "find recip food diet list",
           3
          ],
          [
           "where can i find diabetic recipes ?",
           "find recip food diet list",
           3
          ],
          [
           "what low carb desserts are suitable for diabetics ?",
           "find recip food diet list",
           3
          ],
          [
           "where can i get the foods to follow a diabetic plan ?",
           "find recip food diet list",
           3
          ],
          [
           "where can i find a list of diabetic approved foods ?",
           "find recip food diet list",
           3
          ],
          [
           "are there soy based diabetic recipes ?",
           "find recip food diet list",
           3
          ],
          [
           "what foods would be on a diabetic food list ?",
           "find recip food diet list",
           3
          ],
          [
           "where can i find out more about diabetes diet guidelines ?",
           "find recip food diet list",
           3
          ],
          [
           "where can i order my diabetic supplies online ?",
           "find recip food diet list",
           3
          ],
          [
           "where can i find diabetic diet charts ?",
           "find recip food diet list",
           3
          ],
          [
           "where can i find some information about a diet for diabetes type two ?",
           "find recip food diet list",
           3
          ],
          [
           "where can i purchase or copy the best menu for nutrition for diabetics ?",
           "find recip food diet list",
           3
          ],
          [
           "where can i find recipes for diabetic <unk> ?",
           "find recip food diet list",
           3
          ],
          [
           "could you recommend a top selling cookbook with healthy diabetic recipes ?",
           "find recip food diet list",
           3
          ],
          [
           "are there any cook books with suggestions for tasty diabetic foods ?",
           "find recip food diet list",
           3
          ],
          [
           "where can i find some diabetic cookie recipes ?",
           "find recip food diet list",
           3
          ],
          [
           "what are some good dessert recipes for diabetics ?",
           "find recip food diet list",
           3
          ],
          [
           "are there any diet recipes for diabetics ?",
           "find recip food diet list",
           3
          ],
          [
           "where can i find a recipe for diabetic or sugar-free desserts ?",
           "find recip food diet list",
           3
          ],
          [
           "is there a diet plan for diabetes online i can use ?",
           "find recip food diet list",
           3
          ],
          [
           "can i find any online cookbooks for diabetics ?",
           "find recip food diet list",
           3
          ],
          [
           "what are recent books with tasty diabetic food recipes ?",
           "find recip food diet list",
           3
          ],
          [
           "does whole foods store sell healthy foods for diabetics ?",
           "find recip food diet list",
           3
          ],
          [
           "what are some stevia dessert recipes ?",
           "find recip food diet list",
           3
          ],
          [
           "are there any websites that can help me find diabetes dtour diet ?",
           "find recip food diet list",
           3
          ],
          [
           "where can i find diabetic meal plans ?",
           "find recip food diet list",
           3
          ],
          [
           "what are the main ingredients in diabetic recipes ?",
           "find recip food diet list",
           3
          ],
          [
           "is there a website that offers a diabetic diet meal plan ?",
           "find recip food diet list",
           3
          ],
          [
           "what are some good thanksgiving recipes ?",
           "find recip food diet list",
           3
          ],
          [
           "where can i find a good sugar diabetes diet ?",
           "find recip food diet list",
           3
          ],
          [
           "where can i find more information on diabetic snacks ?",
           "find recip food diet list",
           3
          ],
          [
           "where can i find a diabetic diet <unk> online ?",
           "find recip food diet list",
           3
          ],
          [
           "where can i find out more about diabetic diet menu ?",
           "find recip food diet list",
           3
          ],
          [
           "is <unk> chicken pot pie good for diabetic diets ?",
           "find recip food diet list",
           3
          ],
          [
           "what are some tasty , easy diabetic cheesecake recipes ?",
           "find recip food diet list",
           3
          ],
          [
           "where can one find online diabetic diets ?",
           "find recip food diet list",
           3
          ],
          [
           "what are some simple dessert recipes for diabetics ?",
           "find recip food diet list",
           3
          ],
          [
           "where can i find information about a gestational diabetes diet ?",
           "find recip food diet list",
           3
          ],
          [
           "what are some good recipes for diabetics to have ?",
           "find recip food diet list",
           3
          ],
          [
           "whats the best dessert recipe for a diabetic female ?",
           "find recip food diet list",
           3
          ],
          [
           "where can i find recipes for people with high blood sugar during pregnancy ?",
           "find recip food diet list",
           3
          ],
          [
           "where can i find some recipes for diabetics for free ?",
           "find recip food diet list",
           3
          ],
          [
           "where can information on `` no sugar '' diets be found ?",
           "find recip food diet list",
           3
          ],
          [
           "where can you find a diabetic food list ?",
           "find recip food diet list",
           3
          ]
         ],
         "hovertemplate": "summary=%{customdata[1]}<br>pc_1=%{x}<br>pc_2=%{y}<br>pc_3=%{z}<br>question=%{customdata[0]}<br>label=%{customdata[2]}<extra></extra>",
         "legendgroup": "find recip food diet list",
         "marker": {
          "color": "#636efa",
          "size": 8,
          "symbol": "circle"
         },
         "mode": "markers",
         "name": "find recip food diet list",
         "scene": "scene",
         "showlegend": true,
         "type": "scatter3d",
         "x": [
          -0.3216018080711365,
          -0.20774276554584503,
          -0.0878189280629158,
          -0.3355366885662079,
          -0.4628453254699707,
          -0.3097948431968689,
          -0.18258020281791687,
          -0.3522566258907318,
          -0.23412057757377625,
          -0.3326170742511749,
          -0.2297440767288208,
          -0.2652980387210846,
          -0.18574221432209015,
          -0.09767460078001022,
          -0.04878954216837883,
          -0.328460156917572,
          -0.3618223965167999,
          -0.29577621817588806,
          -0.159969761967659,
          -0.09081314504146576,
          -0.2518768608570099,
          -0.060395192354917526,
          -0.14765390753746033,
          -0.20573990046977997,
          -0.03824608400464058,
          -0.1470535844564438,
          -0.35537949204444885,
          -0.4598909616470337,
          0.06290939450263977,
          -0.28170856833457947,
          -0.28646719455718994,
          -0.3734898269176483,
          -0.2415664792060852,
          -0.3379265069961548,
          -0.21294257044792175,
          -0.39588555693626404,
          -0.23210081458091736,
          -0.46067938208580017,
          -0.23730914294719696,
          -0.1954088807106018,
          -0.2727568447589874,
          -0.231021910905838,
          0.09607252478599548,
          -0.38459789752960205,
          -0.2748199701309204,
          -0.40490487217903137,
          -0.15299755334854126,
          -0.27883049845695496,
          -0.28880271315574646,
          -0.17586661875247955,
          -0.24003060162067413,
          -0.30614030361175537,
          -0.3381296694278717,
          0.020015869289636612,
          -0.17773208022117615,
          -0.1675475835800171,
          -0.2273038774728775,
          -0.23674096167087555,
          -0.20053663849830627,
          -0.09760791063308716,
          -0.29833927750587463,
          -0.4183465242385864,
          -0.2811450660228729,
          -0.18593166768550873,
          -0.005795549135655165,
          -0.11373261362314224,
          0.0060899341478943825,
          -0.15767905116081238,
          -0.4131070077419281,
          -0.376619815826416,
          -0.37699413299560547,
          -0.2921074628829956,
          -0.23113466799259186,
          -0.23438206315040588,
          -0.14154958724975586,
          -0.3273029029369354,
          -0.24817292392253876,
          -0.37894102931022644,
          -0.362199604511261,
          -0.3283839821815491,
          0.030174706131219864,
          -0.18291598558425903,
          -0.23763246834278107,
          -0.1775745004415512,
          -0.18187567591667175,
          -0.4052508473396301,
          -0.353140264749527,
          -0.3277285695075989,
          -0.42729949951171875,
          -0.2772286534309387,
          -0.35213422775268555,
          -0.24852758646011353,
          -0.15450690686702728,
          -0.27116987109184265,
          -0.07946954667568207,
          -0.15847504138946533,
          -0.242884561419487,
          -0.2616961598396301,
          -0.2905338704586029,
          -0.11446201801300049,
          -0.1570984572172165,
          -0.014677773229777813,
          -0.33461377024650574,
          -0.27814722061157227,
          -0.16698744893074036,
          -0.21565014123916626,
          -0.08976667374372482,
          -0.29842644929885864,
          -0.32515743374824524,
          -0.3297860324382782,
          -0.3710996210575104,
          -0.11206316947937012,
          -0.11966881155967712,
          -0.40195056796073914,
          -0.052179861813783646,
          -0.45884785056114197,
          -0.020670201629400253,
          -0.24596057832241058,
          -0.35100704431533813,
          -0.3583303987979889,
          -0.30192938446998596,
          -0.26725155115127563
         ],
         "y": [
          0.7855657935142517,
          0.9118300080299377,
          0.9745425581932068,
          0.775000810623169,
          0.6343933939933777,
          0.6851519346237183,
          0.9945923089981079,
          0.8324753046035767,
          0.7367398142814636,
          0.9102290868759155,
          0.771682858467102,
          0.5788154006004333,
          0.5800668597221375,
          0.8726306557655334,
          0.8462496399879456,
          0.6575525403022766,
          0.8538550138473511,
          0.661727249622345,
          0.7710965871810913,
          0.9459698796272278,
          0.6294572353363037,
          0.9838656187057495,
          0.9023111462593079,
          1,
          0.9004557132720947,
          0.6550934910774231,
          0.7904751896858215,
          0.6635622382164001,
          0.8706612586975098,
          0.6964182257652283,
          0.7002086043357849,
          0.6745270490646362,
          0.8296325206756592,
          0.6666289567947388,
          0.7515091896057129,
          0.6332356333732605,
          0.7284057140350342,
          0.7089694142341614,
          0.6997831463813782,
          0.6429663300514221,
          0.6307438015937805,
          0.5924563407897949,
          0.8958651423454285,
          0.7306932806968689,
          0.7102749943733215,
          0.6877064108848572,
          0.7833825945854187,
          0.5826764702796936,
          0.869876503944397,
          0.9860938787460327,
          0.6640806794166565,
          0.9470270276069641,
          0.8784181475639343,
          0.9698421955108643,
          0.6944689750671387,
          0.9484047293663025,
          0.9986937642097473,
          0.6726585626602173,
          0.887574315071106,
          0.8003574013710022,
          0.8653007745742798,
          0.7026931643486023,
          0.7140073776245117,
          0.5981114506721497,
          0.9400731325149536,
          0.8978778123855591,
          0.9265532493591309,
          0.9985652565956116,
          0.812767744064331,
          0.7034088373184204,
          0.8803882002830505,
          0.8299753069877625,
          0.8520404696464539,
          0.7998217344284058,
          0.9206667542457581,
          0.7385451793670654,
          0.8462367057800293,
          0.6234306693077087,
          0.9255944490432739,
          0.8919210433959961,
          0.890823245048523,
          0.6375598311424255,
          0.7229138612747192,
          0.9097220301628113,
          0.7334798574447632,
          0.7261951565742493,
          0.5542920231819153,
          0.6910288333892822,
          0.6853000521659851,
          0.7809658646583557,
          0.8703271150588989,
          0.8691238760948181,
          0.845544695854187,
          0.8883303999900818,
          0.9170177578926086,
          0.884598970413208,
          0.8698763847351074,
          0.6072025299072266,
          0.8013331294059753,
          0.8755857944488525,
          0.7374885082244873,
          0.9747463464736938,
          0.6204747557640076,
          0.6262741684913635,
          0.8558917045593262,
          0.6977587938308716,
          0.8715929985046387,
          0.6252175569534302,
          0.6291337013244629,
          0.6582707166671753,
          0.7284329533576965,
          0.9590314030647278,
          0.9140755534172058,
          0.7753013372421265,
          0.9305780529975891,
          0.73878413438797,
          0.9159667491912842,
          0.9658084511756897,
          0.5991284251213074,
          0.8360529541969299,
          0.5804058909416199,
          0.6810607314109802
         ],
         "z": [
          -0.16449016332626343,
          -0.07705102115869522,
          -0.10791008919477463,
          -0.1237306222319603,
          -0.04446455463767052,
          0.09693574160337448,
          -0.10107573866844177,
          0.04182102903723717,
          -0.12095199525356293,
          -0.013461576774716377,
          -0.13475646078586578,
          -0.18965290486812592,
          -0.21398378908634186,
          0.04458674043416977,
          0.052478618919849396,
          0.14251674711704254,
          -0.004010980483144522,
          -0.25016358494758606,
          -0.21891996264457703,
          0.03613738343119621,
          -0.24307183921337128,
          -0.014691943302750587,
          0.03197962045669556,
          0.010268214158713818,
          -0.07446544617414474,
          -0.004891759250313044,
          -0.2153031826019287,
          0.08915262669324875,
          0.05660990998148918,
          -0.15622657537460327,
          -0.09618416428565979,
          0.049394652247428894,
          -0.08671966940164566,
          -0.0551285594701767,
          -0.296110063791275,
          0.05416683480143547,
          0.021437572315335274,
          0.009439924731850624,
          -0.2388654202222824,
          -0.31346938014030457,
          -0.11326143145561218,
          -0.21075215935707092,
          0.013535954058170319,
          -0.08460857719182968,
          0.15734539926052094,
          0.09468955546617508,
          -0.10278356075286865,
          -0.0322917103767395,
          -0.1297106146812439,
          -0.02691115066409111,
          -0.020254595205187798,
          0.04195398837327957,
          -0.14395728707313538,
          0.01315054390579462,
          -0.2396010011434555,
          -0.04541855677962303,
          -0.10897520929574966,
          0.08459025621414185,
          -0.05413355305790901,
          -0.08166585117578506,
          0.03911007568240166,
          -0.057852230966091156,
          -0.21456994116306305,
          -0.06272623687982559,
          0.03822813555598259,
          -0.2201239913702011,
          -0.09588855504989624,
          -0.12768647074699402,
          -0.045105211436748505,
          -0.23733004927635193,
          0.040040306746959686,
          -0.027525197714567184,
          -0.1929207295179367,
          -0.014369763433933258,
          -0.13034385442733765,
          0.05395401269197464,
          -0.03632455691695213,
          -0.05400236323475838,
          -0.08914853632450104,
          -0.0687139630317688,
          -0.02907547354698181,
          -0.012539314106106758,
          -0.19301031529903412,
          -0.169405996799469,
          -0.22186757624149323,
          0.07190792262554169,
          -0.09385523200035095,
          0.022613557055592537,
          0.0306777972728014,
          -0.19585402309894562,
          -0.065424345433712,
          0.03795964643359184,
          -0.1376369446516037,
          -0.07989545166492462,
          -0.017286384478211403,
          -0.18137899041175842,
          -0.1437084823846817,
          0.14420054852962494,
          -0.12264776229858398,
          -0.08424031734466553,
          -0.27746111154556274,
          -0.03796786442399025,
          0.1482701301574707,
          -0.04750712215900421,
          -0.031058859080076218,
          0.06577382236719131,
          -0.009023424237966537,
          0.0693204253911972,
          -0.04296533763408661,
          0.0308095533400774,
          0.027078252285718918,
          0.126396045088768,
          -0.060149695724248886,
          -0.044093843549489975,
          -0.03831788897514343,
          0.11857809871435165,
          0.04347916692495346,
          -0.04404905065894127,
          0.01117019448429346,
          -0.09579320251941681,
          0.10879435390233994,
          -0.193539559841156
         ]
        },
        {
         "customdata": [
          [
           "what are some of the major diabetes symptoms a health care worker should look for ?",
           "treatment take major symptom health",
           44
          ],
          [
           "when to start treatment for diabetes ?",
           "treatment take major symptom health",
           44
          ],
          [
           "how much does it cost for treatment of diabetes ?",
           "treatment take major symptom health",
           44
          ],
          [
           "treatments for type one of diabetes ?",
           "treatment take major symptom health",
           44
          ],
          [
           "remedy for <unk> ?",
           "treatment take major symptom health",
           44
          ],
          [
           "how long should five pills per day of <unk> two hundred be continued for rheumatoid arthritis ?",
           "treatment take major symptom health",
           44
          ],
          [
           "what medications are you supposed to take for diabetes ?",
           "treatment take major symptom health",
           44
          ],
          [
           "what are the results of not taking medicine for diabetes ?",
           "treatment take major symptom health",
           44
          ],
          [
           "what can i do on my own as a diabetes treatment ?",
           "treatment take major symptom health",
           44
          ]
         ],
         "hovertemplate": "summary=%{customdata[1]}<br>pc_1=%{x}<br>pc_2=%{y}<br>pc_3=%{z}<br>question=%{customdata[0]}<br>label=%{customdata[2]}<extra></extra>",
         "legendgroup": "treatment take major symptom health",
         "marker": {
          "color": "#EF553B",
          "size": 8,
          "symbol": "circle"
         },
         "mode": "markers",
         "name": "treatment take major symptom health",
         "scene": "scene",
         "showlegend": true,
         "type": "scatter3d",
         "x": [
          0.11860711872577667,
          0.10905405879020691,
          0.17612364888191223,
          0.024489881470799446,
          0.04847181588411331,
          0.18825693428516388,
          0.1605386584997177,
          0.1135220155119896,
          0.12651677429676056
         ],
         "y": [
          0.04220130294561386,
          0.10848379880189896,
          0.006170352920889854,
          0.04037536308169365,
          0.11169856041669846,
          0.10440778732299805,
          0.04200552776455879,
          0.07870765775442123,
          0.12208852171897888
         ],
         "z": [
          0.5775460004806519,
          0.6520939469337463,
          0.6399592757225037,
          0.6383038759231567,
          0.6443811058998108,
          0.6510431170463562,
          0.7269259691238403,
          0.6506741046905518,
          0.5698351263999939
         ]
        },
        {
         "customdata": [
          [
           "nick jonas diabetic ?",
           "nick jona brother get miley",
           4
          ],
          [
           "which jonas brother has diabetes ?",
           "nick jona brother get miley",
           4
          ],
          [
           "did nick jonas write a song for his diabetes ?",
           "nick jona brother get miley",
           4
          ],
          [
           "when did nick jonas find out he had diabetic ?",
           "nick jona brother get miley",
           4
          ],
          [
           "who has diabetes out of the jonas brothers ?",
           "nick jona brother get miley",
           4
          ],
          [
           "are there any videos of nick talking about his diabetes ?",
           "nick jona brother get miley",
           4
          ],
          [
           "who did nick jonas give his diabetes necklace to ?",
           "nick jona brother get miley",
           4
          ],
          [
           "does nick jonas <unk> off his dog tag when he sleeps ?",
           "nick jona brother get miley",
           4
          ],
          [
           "does nick jonas really have a meet and <unk> with diabetics before all of his <unk> ?",
           "nick jona brother get miley",
           4
          ],
          [
           "did miley cyrus break up with nick jonas because nick had diabetes ?",
           "nick jona brother get miley",
           4
          ],
          [
           "does nick like having diabetes ?",
           "nick jona brother get miley",
           4
          ],
          [
           "when was nick jonas diagnosed with diabetes ?",
           "nick jona brother get miley",
           4
          ],
          [
           "what is nick jonas diabetes doctor is name ?",
           "nick jona brother get miley",
           4
          ],
          [
           "does nick jonas support the diabetes research institute ?",
           "nick jona brother get miley",
           4
          ],
          [
           "does michael phelps have type one diabetes ?",
           "nick jona brother get miley",
           4
          ],
          [
           "what year was nick jonas get diabetes ?",
           "nick jona brother get miley",
           4
          ],
          [
           "what day did nick jonas <unk> his diabetes ?",
           "nick jona brother get miley",
           4
          ],
          [
           "did miley <unk> up with nick because of diabetes ?",
           "nick jona brother get miley",
           4
          ],
          [
           "how did nick jonas find out he had diabetes ?",
           "nick jona brother get miley",
           4
          ],
          [
           "is it nick jonas diabetic ?",
           "nick jona brother get miley",
           4
          ],
          [
           "when was nick jonas diagnosed with type one diabetes ?",
           "nick jona brother get miley",
           4
          ],
          [
           "when did nick jonas become a diabetic ?",
           "nick jona brother get miley",
           4
          ],
          [
           "is a little bit longer by the jonas brothers about nick is diabetes ?",
           "nick jona brother get miley",
           4
          ],
          [
           "did <unk> graham get to meet nick jonas about their diabetes ?",
           "nick jona brother get miley",
           4
          ],
          [
           "how many pounds did nick jonas loose when he got his diabetes ?",
           "nick jona brother get miley",
           4
          ],
          [
           "does nick jonas have <unk> diabetes ' or diabetes ?",
           "nick jona brother get miley",
           4
          ],
          [
           "did nick <unk> have diabetes ?",
           "nick jona brother get miley",
           4
          ],
          [
           "was it november sixteen that nick jonas learned he had diabetes ?",
           "nick jona brother get miley",
           4
          ],
          [
           "how does nick jonas brothers help him through living with diabetes ?",
           "nick jona brother get miley",
           4
          ],
          [
           "would justin bieber go out with a girl that has diabetes ?",
           "nick jona brother get miley",
           4
          ],
          [
           "did nick really have diabetes ?",
           "nick jona brother get miley",
           4
          ],
          [
           "can you kiss nick jonas is he has diabetes ?",
           "nick jona brother get miley",
           4
          ],
          [
           "what does nick jonas use for his diabetes ?",
           "nick jona brother get miley",
           4
          ],
          [
           "is it true nick has diabetes ?",
           "nick jona brother get miley",
           4
          ],
          [
           "how did nick get diabetes ?",
           "nick jona brother get miley",
           4
          ],
          [
           "did miley cyrus cry when she found out nick jonas had type one diabetes ?",
           "nick jona brother get miley",
           4
          ],
          [
           "did nick jonas consider leaving the jonas brothers when he found out that he had diabetes ?",
           "nick jona brother get miley",
           4
          ],
          [
           "is nick jonas worried of having diabetes ?",
           "nick jona brother get miley",
           4
          ],
          [
           "can nick jonas get rid of his diabetes ?",
           "nick jona brother get miley",
           4
          ]
         ],
         "hovertemplate": "summary=%{customdata[1]}<br>pc_1=%{x}<br>pc_2=%{y}<br>pc_3=%{z}<br>question=%{customdata[0]}<br>label=%{customdata[2]}<extra></extra>",
         "legendgroup": "nick jona brother get miley",
         "marker": {
          "color": "#00cc96",
          "size": 8,
          "symbol": "circle"
         },
         "mode": "markers",
         "name": "nick jona brother get miley",
         "scene": "scene",
         "showlegend": true,
         "type": "scatter3d",
         "x": [
          0.10613926500082016,
          0.1750003695487976,
          0.1795438975095749,
          0.08308713138103485,
          0.03186739236116409,
          0.09812469780445099,
          0.02406236156821251,
          -0.036419548094272614,
          0.09063572436571121,
          -0.012339347042143345,
          -0.07622601091861725,
          0.1024193987250328,
          0.053584128618240356,
          0.23573489487171173,
          -0.1533973515033722,
          0.02548566833138466,
          0.04278047755360603,
          -0.04886886104941368,
          0.049901124089956284,
          0.04216458648443222,
          0.11664890497922897,
          0.029246557503938675,
          0.15076516568660736,
          0.13531048595905304,
          0.026033662259578705,
          -0.05501972883939743,
          -0.052542902529239655,
          0.13540981709957123,
          -0.008249140344560146,
          0.18144793808460236,
          -0.07556859403848648,
          0.020889179781079292,
          -0.022184135392308235,
          -0.036502815783023834,
          -0.12058532983064651,
          0.12999673187732697,
          0.10913267731666565,
          0.12003554403781891,
          0.0020747827365994453
         ],
         "y": [
          -0.8411855697631836,
          -0.8312877416610718,
          -0.8810676336288452,
          -0.9191016554832458,
          -0.9734876155853271,
          -0.7837839126586914,
          -0.9306213855743408,
          -0.8956321477890015,
          -0.8590950965881348,
          -0.9624730348587036,
          -0.8805158138275146,
          -0.9426523447036743,
          -0.8940834999084473,
          -0.8698267340660095,
          -0.8453913331031799,
          -0.8813632130622864,
          -0.9069992899894714,
          -0.9487535953521729,
          -0.9661948680877686,
          -0.8688150644302368,
          -0.921552300453186,
          -0.9118388891220093,
          -0.7960424423217773,
          -0.8366225957870483,
          -0.9409558176994324,
          -0.8548126816749573,
          -0.8892487287521362,
          -0.9175565242767334,
          -0.9935542345046997,
          -0.8420549631118774,
          -0.9065308570861816,
          -0.830673098564148,
          -0.9232892394065857,
          -0.851550281047821,
          -0.9430123567581177,
          -0.9129411578178406,
          -0.9414899349212646,
          -0.815683901309967,
          -0.8581728935241699
         ],
         "z": [
          0.030706685036420822,
          -0.008298917673528194,
          -0.04247057065367699,
          -0.027305390685796738,
          -0.013455798849463463,
          -0.01112779974937439,
          -0.021311448886990547,
          -0.11342878639698029,
          -0.03124116361141205,
          0.03689274936914444,
          0.05864419788122177,
          0.07038833945989609,
          0.12319351732730865,
          -0.008207561448216438,
          0.029561350122094154,
          -0.07046100497245789,
          -0.09091626107692719,
          0.04623657464981079,
          -0.0833577811717987,
          0.06850039213895798,
          0.0807020515203476,
          0.03561257943511009,
          0.06800513714551926,
          -0.022763004526495934,
          -0.11539038270711899,
          0.0234481580555439,
          0.002381139900535345,
          -0.04918624833226204,
          -0.0392492450773716,
          -0.07595452666282654,
          0.016638610512018204,
          0.055158331990242004,
          -0.04909691959619522,
          0.08804529160261154,
          0.0032041454687714577,
          0.013764874078333378,
          -0.04252469539642334,
          0.02552100643515587,
          -0.03176956996321678
         ]
        },
        {
         "customdata": [
          [
           "what are the four <unk> for diabetes <unk> ?",
           "four complic system",
           40
          ],
          [
           "what are the complications of diabetes ?",
           "four complic system",
           40
          ],
          [
           "what are <unk> of diabetes ?",
           "four complic system",
           40
          ],
          [
           "what are the <unk> for diabetes ?",
           "four complic system",
           40
          ],
          [
           "what are the <unk> in diabetes ?",
           "four complic system",
           40
          ],
          [
           "what are the <unk> of diabetes ?",
           "four complic system",
           40
          ],
          [
           "how are diabetes <unk> ?",
           "four complic system",
           40
          ],
          [
           "what are the systems for diabetes ?",
           "four complic system",
           40
          ],
          [
           "what are the <unk> of diabetes ?",
           "four complic system",
           40
          ]
         ],
         "hovertemplate": "summary=%{customdata[1]}<br>pc_1=%{x}<br>pc_2=%{y}<br>pc_3=%{z}<br>question=%{customdata[0]}<br>label=%{customdata[2]}<extra></extra>",
         "legendgroup": "four complic system",
         "marker": {
          "color": "#ab63fa",
          "size": 8,
          "symbol": "circle"
         },
         "mode": "markers",
         "name": "four complic system",
         "scene": "scene",
         "showlegend": true,
         "type": "scatter3d",
         "x": [
          0.01321274135261774,
          -0.011768065392971039,
          -0.0024046606849879026,
          -0.0008493920904584229,
          -0.018030444160103798,
          -0.010160762816667557,
          0.032616179436445236,
          0.05748136714100838,
          -0.008847645483911037
         ],
         "y": [
          -0.4997147023677826,
          -0.4800766408443451,
          -0.5815460085868835,
          -0.5587012767791748,
          -0.4839499592781067,
          -0.5339027047157288,
          -0.6031002998352051,
          -0.49875250458717346,
          -0.5078607201576233
         ],
         "z": [
          -0.07434413582086563,
          0.04280529171228409,
          -0.010887378826737404,
          -0.06659864634275436,
          -0.052448492497205734,
          0.002088481094688177,
          -0.023332424461841583,
          -0.043107710778713226,
          -0.0008157967822626233
         ]
        },
        {
         "customdata": [
          [
           "can diabetics drink boost ?",
           "drink alcohol milk type two",
           5
          ],
          [
           "can you drink milk if you have type two diabetes ?",
           "drink alcohol milk type two",
           5
          ],
          [
           "diabetic drinks ?",
           "drink alcohol milk type two",
           5
          ],
          [
           "does a diabetic have excess sugar in semen ?",
           "drink alcohol milk type two",
           5
          ],
          [
           "can you drink <unk> <unk> <unk> if your diabetic ?",
           "drink alcohol milk type two",
           5
          ],
          [
           "does drinking alcohol lower your blood sugar ?",
           "drink alcohol milk type two",
           5
          ],
          [
           "what alcohol drinks are safe for diabetics ?",
           "drink alcohol milk type two",
           5
          ],
          [
           "what can diabetics drink when dehydrated ?",
           "drink alcohol milk type two",
           5
          ],
          [
           "can diabetes raise blood alcohol content ?",
           "drink alcohol milk type two",
           5
          ],
          [
           "can you drink alcohol with type one diabetes ?",
           "drink alcohol milk type two",
           5
          ],
          [
           "can diabetics drink <unk> blue ?",
           "drink alcohol milk type two",
           5
          ],
          [
           "smokers with diabetes need more insulin than diabetics who do not smoke ?",
           "drink alcohol milk type two",
           5
          ],
          [
           "what alcohol can you drink when you have diabetes ?",
           "drink alcohol milk type two",
           5
          ],
          [
           "can diabetics drink tequila ?",
           "drink alcohol milk type two",
           5
          ],
          [
           "is marijuana harm full if have diabetes type two ?",
           "drink alcohol milk type two",
           5
          ],
          [
           "can diabetics drink <unk> ?",
           "drink alcohol milk type two",
           5
          ],
          [
           "what will happen if a diabetic patient drinks alcohol ?",
           "drink alcohol milk type two",
           5
          ],
          [
           "can a diabetic drink milk ?",
           "drink alcohol milk type two",
           5
          ],
          [
           "can diabetics drink orange <unk> ?",
           "drink alcohol milk type two",
           5
          ],
          [
           "can you get diabetes from drinking alcohol ?",
           "drink alcohol milk type two",
           5
          ],
          [
           "can alcohol reduce diabetes ?",
           "drink alcohol milk type two",
           5
          ],
          [
           "is beer or wine bad for diabetics ?",
           "drink alcohol milk type two",
           5
          ],
          [
           "how is marijuana bad for diabetics ?",
           "drink alcohol milk type two",
           5
          ],
          [
           "can diabetics drink <unk> coffee ?",
           "drink alcohol milk type two",
           5
          ],
          [
           "should diabetics drink milk ?",
           "drink alcohol milk type two",
           5
          ],
          [
           "is drinking beer safe for diabetics ?",
           "drink alcohol milk type two",
           5
          ]
         ],
         "hovertemplate": "summary=%{customdata[1]}<br>pc_1=%{x}<br>pc_2=%{y}<br>pc_3=%{z}<br>question=%{customdata[0]}<br>label=%{customdata[2]}<extra></extra>",
         "legendgroup": "drink alcohol milk type two",
         "marker": {
          "color": "#FFA15A",
          "size": 8,
          "symbol": "circle"
         },
         "mode": "markers",
         "name": "drink alcohol milk type two",
         "scene": "scene",
         "showlegend": true,
         "type": "scatter3d",
         "x": [
          0.3572189509868622,
          0.478776216506958,
          0.3151528239250183,
          0.29064059257507324,
          0.34620484709739685,
          0.4666616916656494,
          0.4068891108036041,
          0.4703185558319092,
          0.4720868468284607,
          0.47900012135505676,
          0.3901262879371643,
          0.2736777067184448,
          0.4511791467666626,
          0.42669767141342163,
          0.32157695293426514,
          0.3415140211582184,
          0.4066599905490875,
          0.40134233236312866,
          0.3418627083301544,
          0.480994313955307,
          0.5279444456100464,
          0.42722758650779724,
          0.3718399107456207,
          0.3540499806404114,
          0.4117099642753601,
          0.4240892827510834
         ],
         "y": [
          0.2957931160926819,
          0.3258288502693176,
          0.3254256248474121,
          0.3814406096935272,
          0.2854765057563782,
          0.25440916419029236,
          0.37730270624160767,
          0.3240533173084259,
          0.21537435054779053,
          0.28824248909950256,
          0.30479195713996887,
          0.2928538918495178,
          0.271128386259079,
          0.3483145534992218,
          0.24487857520580292,
          0.30312877893447876,
          0.2682863771915436,
          0.3206672668457031,
          0.2963397204875946,
          0.24699661135673523,
          0.24587100744247437,
          0.4274902045726776,
          0.3700414001941681,
          0.3327331840991974,
          0.3382095694541931,
          0.4158608019351959
         ],
         "z": [
          0.21736569702625275,
          0.22960257530212402,
          0.249919593334198,
          0.24079348146915436,
          0.276910662651062,
          0.22117236256599426,
          0.2813761234283447,
          0.38926854729652405,
          0.23845916986465454,
          0.2605516314506531,
          0.14701984822750092,
          0.17276662588119507,
          0.3331625759601593,
          0.3178313970565796,
          0.20845161378383636,
          0.17871034145355225,
          0.36763495206832886,
          0.2689858078956604,
          0.1304483413696289,
          0.316501259803772,
          0.29319557547569275,
          0.3537706136703491,
          0.356622576713562,
          0.21168260276317596,
          0.2241237610578537,
          0.2919900715351105
         ]
        },
        {
         "customdata": [
          [
           "what is the prevalence of diabetes mellitus in the <unk> ?",
           "caus mellitu type one two",
           11
          ],
          [
           "what are the causes of diabetes mellitus ?",
           "caus mellitu type one two",
           11
          ],
          [
           "what is the difference between diabetes and diabetes mellitus ?",
           "caus mellitu type one two",
           11
          ],
          [
           "what are common causes of diabetes ?",
           "caus mellitu type one two",
           11
          ],
          [
           "what is the other name of diabetes mellitus ?",
           "caus mellitu type one two",
           11
          ],
          [
           "understanding diabetes mellitus ?",
           "caus mellitu type one two",
           11
          ],
          [
           "<unk> of diabetes mellitus ?",
           "caus mellitu type one two",
           11
          ],
          [
           "why is diabetes called diabetes mellitus ?",
           "caus mellitu type one two",
           11
          ],
          [
           "what causes diabetes mellitus ?",
           "caus mellitu type one two",
           11
          ],
          [
           "what causes type one diabetes mellitus caused by ?",
           "caus mellitu type one two",
           11
          ],
          [
           "what is the predisposing factors of diabetes mellitus ?",
           "caus mellitu type one two",
           11
          ],
          [
           "what are causes of fasting hyperglycemia in diabetes ?",
           "caus mellitu type one two",
           11
          ],
          [
           "what is the causes of diabetes ?",
           "caus mellitu type one two",
           11
          ],
          [
           "what are the three p is of diabetes mellitus ?",
           "caus mellitu type one two",
           11
          ],
          [
           "what causes diabetes ?",
           "caus mellitu type one two",
           11
          ],
          [
           "what problems cause type two diabetes ?",
           "caus mellitu type one two",
           11
          ],
          [
           "what is the complications of diabetes mellitus ?",
           "caus mellitu type one two",
           11
          ],
          [
           "what is <unk> diabetes mellitus ?",
           "caus mellitu type one two",
           11
          ],
          [
           "what is the main cause of diabetes ?",
           "caus mellitu type one two",
           11
          ],
          [
           "what is the pathophysiology of type two diabetes mellitus ?",
           "caus mellitu type one two",
           11
          ],
          [
           "what causes type two diabetes ?",
           "caus mellitu type one two",
           11
          ],
          [
           "diabetes mellitus is caused by what ?",
           "caus mellitu type one two",
           11
          ],
          [
           "what is diabetes mellitus characterized by ?",
           "caus mellitu type one two",
           11
          ],
          [
           "what are the causes of hyperglycemia ?",
           "caus mellitu type one two",
           11
          ],
          [
           "what is <unk> mellitus ?",
           "caus mellitu type one two",
           11
          ],
          [
           "what causes blurred vision with diabetes ?",
           "caus mellitu type one two",
           11
          ],
          [
           "what did matthew dobson about diabetes ?",
           "caus mellitu type one two",
           11
          ],
          [
           "what is the cause of diabetes type two ?",
           "caus mellitu type one two",
           11
          ],
          [
           "what is type one diabetes mellitus ?",
           "caus mellitu type one two",
           11
          ],
          [
           "what are some of the main causes of diabetes ?",
           "caus mellitu type one two",
           11
          ],
          [
           "what is a major cause of type one juvenile diabetes ?",
           "caus mellitu type one two",
           11
          ],
          [
           "what are the causes of diabetes in children ?",
           "caus mellitu type one two",
           11
          ],
          [
           "what causes type i diabetes mellitus ?",
           "caus mellitu type one two",
           11
          ],
          [
           "what is the leading cause of death in childhood diabetes ?",
           "caus mellitu type one two",
           11
          ],
          [
           "what are the cardinal signs of diabetes mellitus the three p is ?",
           "caus mellitu type one two",
           11
          ],
          [
           "what is the cause of type one diabetes ?",
           "caus mellitu type one two",
           11
          ],
          [
           "what are the causes of diabetes miletus ?",
           "caus mellitu type one two",
           11
          ],
          [
           "what is type one mellitus diabetes ?",
           "caus mellitu type one two",
           11
          ]
         ],
         "hovertemplate": "summary=%{customdata[1]}<br>pc_1=%{x}<br>pc_2=%{y}<br>pc_3=%{z}<br>question=%{customdata[0]}<br>label=%{customdata[2]}<extra></extra>",
         "legendgroup": "caus mellitu type one two",
         "marker": {
          "color": "#19d3f3",
          "size": 8,
          "symbol": "circle"
         },
         "mode": "markers",
         "name": "caus mellitu type one two",
         "scene": "scene",
         "showlegend": true,
         "type": "scatter3d",
         "x": [
          -0.10288207232952118,
          -0.031154725700616837,
          -0.05636293813586235,
          -0.03587261959910393,
          -0.12695948779582977,
          -0.12272696942090988,
          -0.1893809586763382,
          -0.15107955038547516,
          -0.05255832150578499,
          -0.014099528081715107,
          -0.1795615404844284,
          0.022215235978364944,
          -0.11908283829689026,
          -0.03287482634186745,
          -0.12494117021560669,
          0.0032665657345205545,
          -0.2151460200548172,
          -0.14474695920944214,
          -0.12933871150016785,
          -0.06025753542780876,
          0.008390134200453758,
          -0.07243456691503525,
          -0.09366443753242493,
          -0.02708452194929123,
          -0.12216617166996002,
          -0.13186581432819366,
          -0.18619191646575928,
          -0.06828610599040985,
          -0.15071192383766174,
          -0.09338024258613586,
          -0.10131340473890305,
          -0.10720128566026688,
          0.006061529275029898,
          -0.13078853487968445,
          0.007729657460004091,
          -0.06482098251581192,
          -0.08767417073249817,
          -0.12655937671661377
         ],
         "y": [
          -0.5905828475952148,
          -0.5154281258583069,
          -0.6776865720748901,
          -0.488736629486084,
          -0.6907294392585754,
          -0.7043042778968811,
          -0.6666628122329712,
          -0.6685532331466675,
          -0.5508034229278564,
          -0.5525894165039062,
          -0.5931910276412964,
          -0.4894869029521942,
          -0.4739096760749817,
          -0.6406903862953186,
          -0.43321657180786133,
          -0.4681240916252136,
          -0.6330504417419434,
          -0.6483076214790344,
          -0.5130048394203186,
          -0.6442447304725647,
          -0.45565634965896606,
          -0.5971493721008301,
          -0.6340484023094177,
          -0.4452522099018097,
          -0.6388358473777771,
          -0.3686055541038513,
          -0.4652770161628723,
          -0.5502613186836243,
          -0.6337510943412781,
          -0.5171001553535461,
          -0.4932090938091278,
          -0.4180017411708832,
          -0.5025987029075623,
          -0.44112443923950195,
          -0.5546688437461853,
          -0.4969862997531891,
          -0.4864670932292938,
          -0.6458540558815002
         ],
         "z": [
          0.02650127187371254,
          0.17976459860801697,
          0.11354296654462814,
          0.21446147561073303,
          0.23667627573013306,
          0.13612069189548492,
          0.1480761468410492,
          0.17822301387786865,
          0.1911264955997467,
          0.23770874738693237,
          0.12311283499002457,
          0.16894549131393433,
          0.15777920186519623,
          0.09339693933725357,
          0.1480875462293625,
          0.32749658823013306,
          0.14075973629951477,
          0.1317267268896103,
          0.16304346919059753,
          0.2567780613899231,
          0.2995295226573944,
          0.17706157267093658,
          0.17504221200942993,
          0.13855372369289398,
          0.09677809476852417,
          0.14531831443309784,
          0.1219935268163681,
          0.32328739762306213,
          0.23373517394065857,
          0.11390738934278488,
          0.28438904881477356,
          0.09229320287704468,
          0.2742103636264801,
          0.2123098075389862,
          0.0980299562215805,
          0.2635674476623535,
          0.1104183942079544,
          0.2503441274166107
         ]
        },
        {
         "customdata": [
          [
           "does gestational diabetes return ?",
           "gestat pregnanc occur pregnant women",
           7
          ],
          [
           "what is worse to have during pregnancy <unk> or having diabetes ?",
           "gestat pregnanc occur pregnant women",
           7
          ],
          [
           "can gestational diabetes go away ?",
           "gestat pregnanc occur pregnant women",
           7
          ],
          [
           "is gestational diabetes the kind that only occurs during pregnancy ?",
           "gestat pregnanc occur pregnant women",
           7
          ],
          [
           "can you have anemia and gestational diabetes at the same time ?",
           "gestat pregnanc occur pregnant women",
           7
          ],
          [
           "does a pregnant women with diabetes take different prescriptions than a pregnant women without diabetes ?",
           "gestat pregnanc occur pregnant women",
           7
          ],
          [
           "gestational diabetes symptoms ?",
           "gestat pregnanc occur pregnant women",
           7
          ],
          [
           "in gestational diabetes <unk> a medicine of mother tincture safe in pregnancy ?",
           "gestat pregnanc occur pregnant women",
           7
          ],
          [
           "in gestational diabetes the mother passes diabetes to her <unk> ?",
           "gestat pregnanc occur pregnant women",
           7
          ],
          [
           "does gestational diabetes cause preterm labor ?",
           "gestat pregnanc occur pregnant women",
           7
          ],
          [
           "does having pre diabetes make you more likely to get gestational diabetes ?",
           "gestat pregnanc occur pregnant women",
           7
          ],
          [
           "can type two diabetes occur during pregnancy ?",
           "gestat pregnanc occur pregnant women",
           7
          ]
         ],
         "hovertemplate": "summary=%{customdata[1]}<br>pc_1=%{x}<br>pc_2=%{y}<br>pc_3=%{z}<br>question=%{customdata[0]}<br>label=%{customdata[2]}<extra></extra>",
         "legendgroup": "gestat pregnanc occur pregnant women",
         "marker": {
          "color": "#FF6692",
          "size": 8,
          "symbol": "circle"
         },
         "mode": "markers",
         "name": "gestat pregnanc occur pregnant women",
         "scene": "scene",
         "showlegend": true,
         "type": "scatter3d",
         "x": [
          -0.562204897403717,
          -0.5050715804100037,
          -0.5714126229286194,
          -0.6271149516105652,
          -0.5613540410995483,
          -0.5932637453079224,
          -0.5306188464164734,
          -0.6214348077774048,
          -0.5944027900695801,
          -0.6209920048713684,
          -0.5015789866447449,
          -0.5611650943756104
         ],
         "y": [
          -0.22488726675510406,
          -0.18242919445037842,
          -0.23428237438201904,
          -0.24154098331928253,
          -0.2315865308046341,
          -0.16547323763370514,
          -0.25926676392555237,
          -0.20390522480010986,
          -0.20687858760356903,
          -0.2474357634782791,
          -0.1834845393896103,
          -0.2154792696237564
         ],
         "z": [
          -0.12816587090492249,
          -0.07121127098798752,
          -0.08981870114803314,
          -0.15185245871543884,
          -0.21234627068042755,
          -0.14851593971252441,
          -0.14414414763450623,
          -0.21152561902999878,
          -0.13046057522296906,
          -0.06048189848661423,
          -0.11822450160980225,
          -0.02955910935997963
         ]
        },
        {
         "customdata": [
          [
           "what systems balance blood glucose and insulin levels ?",
           "glucos blood level control insulin",
           8
          ],
          [
           "what regulates blood glucose levels ?",
           "glucos blood level control insulin",
           8
          ],
          [
           "how does diabetes affect the level of glucose in the blood and in body cells ?",
           "glucos blood level control insulin",
           8
          ],
          [
           "what is the storage form of glucose in humans ?",
           "glucos blood level control insulin",
           8
          ],
          [
           "what are the three main types of tissues that respond to insulin well and help lower blood glucose level ?",
           "glucos blood level control insulin",
           8
          ],
          [
           "how type one diabetic can control the glucose content of the blood ?",
           "glucos blood level control insulin",
           8
          ],
          [
           "what is the role of liver and pancreas in controlling the blood glucose level ?",
           "glucos blood level control insulin",
           8
          ],
          [
           "how does the pancreas control blood glucose levels ?",
           "glucos blood level control insulin",
           8
          ],
          [
           "what can reduce blood glucose levels immediately ?",
           "glucos blood level control insulin",
           8
          ],
          [
           "where is the energy stored in glucose ?",
           "glucos blood level control insulin",
           8
          ],
          [
           "what gland controls glucose blood levels ?",
           "glucos blood level control insulin",
           8
          ],
          [
           "how does a person with type one diabetes monitor their blood glucose levels ?",
           "glucos blood level control insulin",
           8
          ],
          [
           "what is the role of insulin in blood glucose levels ?",
           "glucos blood level control insulin",
           8
          ],
          [
           "the storage form of glucose in muscles is called ?",
           "glucos blood level control insulin",
           8
          ],
          [
           "how to tell your own normal blood glucose ?",
           "glucos blood level control insulin",
           8
          ],
          [
           "what are the brands of blood glucose meter available at <unk> drug ?",
           "glucos blood level control insulin",
           8
          ],
          [
           "how does blood transport glucose to the cells ?",
           "glucos blood level control insulin",
           8
          ],
          [
           "what happens to insulin levels when blood glucose levels increase ?",
           "glucos blood level control insulin",
           8
          ],
          [
           "what lowers the level of glucose in the blood ?",
           "glucos blood level control insulin",
           8
          ],
          [
           "what controls glucose levels in the blood ?",
           "glucos blood level control insulin",
           8
          ],
          [
           "what controls the blood glucose levels ?",
           "glucos blood level control insulin",
           8
          ],
          [
           "what regulates insulin levels in blood ?",
           "glucos blood level control insulin",
           8
          ]
         ],
         "hovertemplate": "summary=%{customdata[1]}<br>pc_1=%{x}<br>pc_2=%{y}<br>pc_3=%{z}<br>question=%{customdata[0]}<br>label=%{customdata[2]}<extra></extra>",
         "legendgroup": "glucos blood level control insulin",
         "marker": {
          "color": "#B6E880",
          "size": 8,
          "symbol": "circle"
         },
         "mode": "markers",
         "name": "glucos blood level control insulin",
         "scene": "scene",
         "showlegend": true,
         "type": "scatter3d",
         "x": [
          0.4498053789138794,
          0.4751695692539215,
          0.5282114744186401,
          0.3828185796737671,
          0.46929675340652466,
          0.39528295397758484,
          0.5303921699523926,
          0.5069805383682251,
          0.41573983430862427,
          0.3884759545326233,
          0.535132884979248,
          0.43560802936553955,
          0.5332499742507935,
          0.3959650695323944,
          0.4294569492340088,
          0.4337784945964813,
          0.5126540064811707,
          0.4432114362716675,
          0.5193551182746887,
          0.4398198127746582,
          0.4595099091529846,
          0.4903191328048706
         ],
         "y": [
          -0.31589922308921814,
          -0.3274163007736206,
          -0.2617014944553375,
          -0.3726355731487274,
          -0.3120105266571045,
          -0.27986305952072144,
          -0.28919222950935364,
          -0.3482382893562317,
          -0.2717551290988922,
          -0.32896819710731506,
          -0.36247536540031433,
          -0.25281423330307007,
          -0.28239133954048157,
          -0.36822691559791565,
          -0.2182551473379135,
          -0.3925340175628662,
          -0.3718894422054291,
          -0.3228756785392761,
          -0.31760552525520325,
          -0.31619080901145935,
          -0.3381161391735077,
          -0.37128812074661255
         ],
         "z": [
          -0.23787641525268555,
          -0.3644704520702362,
          -0.24462664127349854,
          -0.21246318519115448,
          -0.1886029690504074,
          -0.2568488121032715,
          -0.2973836064338684,
          -0.27772825956344604,
          -0.17447474598884583,
          -0.3098045885562897,
          -0.30923929810523987,
          -0.2953542172908783,
          -0.36110085248947144,
          -0.18137723207473755,
          -0.3103797435760498,
          -0.3097515106201172,
          -0.18219280242919922,
          -0.41015222668647766,
          -0.4126066565513611,
          -0.29785865545272827,
          -0.3057785928249359,
          -0.38584792613983154
         ]
        },
        {
         "customdata": [
          [
           "what research has been done on sun is soup ?",
           "research done sun soup scientist",
           28
          ],
          [
           "what is a scientist who studies diabetes called ?",
           "research done sun soup scientist",
           28
          ],
          [
           "what research has been done on <unk> chi ?",
           "research done sun soup scientist",
           28
          ],
          [
           "what research has been done on <unk> massage ?",
           "research done sun soup scientist",
           28
          ],
          [
           "what research has been done on saw <unk> ?",
           "research done sun soup scientist",
           28
          ],
          [
           "what research has been done on <unk> mushroom ?",
           "research done sun soup scientist",
           28
          ],
          [
           "how do you write a school research paper on diabetes ?",
           "research done sun soup scientist",
           28
          ],
          [
           "what research has been done on shiatsu ?",
           "research done sun soup scientist",
           28
          ],
          [
           "what research has been done on <unk> <unk> therapy ?",
           "research done sun soup scientist",
           28
          ],
          [
           "what research has been done on <unk> ?",
           "research done sun soup scientist",
           28
          ],
          [
           "what research has been done on retinopathy ?",
           "research done sun soup scientist",
           28
          ]
         ],
         "hovertemplate": "summary=%{customdata[1]}<br>pc_1=%{x}<br>pc_2=%{y}<br>pc_3=%{z}<br>question=%{customdata[0]}<br>label=%{customdata[2]}<extra></extra>",
         "legendgroup": "research done sun soup scientist",
         "marker": {
          "color": "#FF97FF",
          "size": 8,
          "symbol": "circle"
         },
         "mode": "markers",
         "name": "research done sun soup scientist",
         "scene": "scene",
         "showlegend": true,
         "type": "scatter3d",
         "x": [
          0.13460689783096313,
          0.08350931107997894,
          0.06137082353234291,
          0.08734733611345291,
          0.09258700907230377,
          0.11329822987318039,
          0.005958600901067257,
          0.1209130585193634,
          0.07695509493350983,
          0.09712014347314835,
          0.11886312067508698
         ],
         "y": [
          -0.21246233582496643,
          -0.2182539850473404,
          -0.184535413980484,
          -0.15258780121803284,
          -0.16968263685703278,
          -0.2070920467376709,
          -0.2008790224790573,
          -0.13744932413101196,
          -0.1216777041554451,
          -0.20847053825855255,
          -0.14198799431324005
         ],
         "z": [
          -0.41344743967056274,
          -0.47609496116638184,
          -0.39394545555114746,
          -0.34187912940979004,
          -0.41752156615257263,
          -0.3660891056060791,
          -0.47321128845214844,
          -0.3511199653148651,
          -0.3553069531917572,
          -0.4149474799633026,
          -0.42829111218452454
         ]
        },
        {
         "customdata": [
          [
           "diabetic blood sugar levels fluctuate throughout the day ?",
           "blood sugar level consid eat",
           36
          ],
          [
           "what should my blood sugar level be ?",
           "blood sugar level consid eat",
           36
          ],
          [
           "what levels must sugar in the blood be to be considered diabetis <unk> ?",
           "blood sugar level consid eat",
           36
          ],
          [
           "fasting blood sugar is higher than <unk> after dinner blood sugar ?",
           "blood sugar level consid eat",
           36
          ],
          [
           "what is considered and good low and high blood sugar ?",
           "blood sugar level consid eat",
           36
          ],
          [
           "when after eating what is normal blood sugar ?",
           "blood sugar level consid eat",
           36
          ],
          [
           "what are healthy blood sugar levels ?",
           "blood sugar level consid eat",
           36
          ],
          [
           "can <unk> blood improve blood sugar level ?",
           "blood sugar level consid eat",
           36
          ],
          [
           "what is normal blood sugar level after eating ?",
           "blood sugar level consid eat",
           36
          ],
          [
           "blood sugar levels ?",
           "blood sugar level consid eat",
           36
          ]
         ],
         "hovertemplate": "summary=%{customdata[1]}<br>pc_1=%{x}<br>pc_2=%{y}<br>pc_3=%{z}<br>question=%{customdata[0]}<br>label=%{customdata[2]}<extra></extra>",
         "legendgroup": "blood sugar level consid eat",
         "marker": {
          "color": "#FECB52",
          "size": 8,
          "symbol": "circle"
         },
         "mode": "markers",
         "name": "blood sugar level consid eat",
         "scene": "scene",
         "showlegend": true,
         "type": "scatter3d",
         "x": [
          0.5019412040710449,
          0.5414667129516602,
          0.580460250377655,
          0.4872611165046692,
          0.49057796597480774,
          0.5312787294387817,
          0.5980919599533081,
          0.5334176421165466,
          0.55954509973526,
          0.5560638904571533
         ],
         "y": [
          0.0063955518417060375,
          0.0421610064804554,
          0.05142275616526604,
          0.039868149906396866,
          0.11180893331766129,
          -0.0030128026846796274,
          0.022236471995711327,
          0.058940500020980835,
          -0.015253892168402672,
          0.04432502016425133
         ],
         "z": [
          -0.2650478482246399,
          -0.2883926331996918,
          -0.32170361280441284,
          -0.3486837148666382,
          -0.3115474283695221,
          -0.3492122292518616,
          -0.2405133843421936,
          -0.20035918056964874,
          -0.3640599548816681,
          -0.24444666504859924
         ]
        },
        {
         "customdata": [
          [
           "blood sugar level is one hundred to two hundred after eatting a meal . is two hundred to high ?",
           "hundr blood one sugar level",
           9
          ],
          [
           "is one hundred and twelve glucose high ?",
           "hundr blood one sugar level",
           9
          ],
          [
           "what does two hundred and three as a blood sugar means ?",
           "hundr blood one sugar level",
           9
          ],
          [
           "what are patient interventions for blood glucose reading of one hundred and twenty ?",
           "hundr blood one sugar level",
           9
          ],
          [
           "is a glucose level of one hundred and ten too high in the morning ?",
           "hundr blood one sugar level",
           9
          ],
          [
           "is eighty six a normal blood sugar for a none diabetic ?",
           "hundr blood one sugar level",
           9
          ],
          [
           "how can you maintain your blood glucose level ?",
           "hundr blood one sugar level",
           9
          ],
          [
           "on a one thousand , nine hundred and eighty nine <unk> pu five point seven what is the normal <unk> reading ?",
           "hundr blood one sugar level",
           9
          ],
          [
           "if blood sugar is five hundred and seventy five what type of insulin ?",
           "hundr blood one sugar level",
           9
          ],
          [
           "is blood sugar one hundred and fifty six is normal ?",
           "hundr blood one sugar level",
           9
          ],
          [
           "how long does regular insulin peak if its given at seven hundred and thirty ?",
           "hundr blood one sugar level",
           9
          ],
          [
           "what is a normal glucose level for a woman in her thirty is ?",
           "hundr blood one sugar level",
           9
          ],
          [
           "is a blood sugar level of one hundred and eighty seven average dangerous in a type two diabetic ?",
           "hundr blood one sugar level",
           9
          ],
          [
           "your fasting blood sugars are three hundred is that dangerous ?",
           "hundr blood one sugar level",
           9
          ],
          [
           "is ninety seven to one hundred and ten blood sugar level within normal range for a diabetic ?",
           "hundr blood one sugar level",
           9
          ],
          [
           "is blood sugar level of two hundred and eighty dangerous ?",
           "hundr blood one sugar level",
           9
          ],
          [
           "is one hundred and twelve high for someone that is not diabetic ?",
           "hundr blood one sugar level",
           9
          ],
          [
           "is one hundred and twelve high for a glucose reading ?",
           "hundr blood one sugar level",
           9
          ],
          [
           "is three hundred and eighty four to high in being a diabetic ?",
           "hundr blood one sugar level",
           9
          ],
          [
           "if your blood sugar is two hundred and seventy is that high ?",
           "hundr blood one sugar level",
           9
          ],
          [
           "is one hundred and eight glucose high ?",
           "hundr blood one sugar level",
           9
          ],
          [
           "is a blood sugar level of one hundred and eleven normal ?",
           "hundr blood one sugar level",
           9
          ],
          [
           "is seventy a good blood glucose level ?",
           "hundr blood one sugar level",
           9
          ],
          [
           "if your blood sugar is four hundred and thirty should you go to the hospital ?",
           "hundr blood one sugar level",
           9
          ],
          [
           "is a blood glucose level over one thousand , two hundred dangerous ?",
           "hundr blood one sugar level",
           9
          ],
          [
           "what if your blood sugar is one hundred is that good ?",
           "hundr blood one sugar level",
           9
          ],
          [
           "what is most <unk> for maintaining god blood glucose levels for a dibetic patient ?",
           "hundr blood one sugar level",
           9
          ],
          [
           "what should your blood glucose number be ?",
           "hundr blood one sugar level",
           9
          ],
          [
           "should your face hurt if you have four hundred and thirty blood sugar ?",
           "hundr blood one sugar level",
           9
          ],
          [
           "is one hundred and thirty eight blood sugar too high after three hrs eating ?",
           "hundr blood one sugar level",
           9
          ],
          [
           "is two hundred and fifty seven glucose reading is normal ?",
           "hundr blood one sugar level",
           9
          ],
          [
           "what to <unk> your blood sugar is five hundred ?",
           "hundr blood one sugar level",
           9
          ],
          [
           "what does it mean when your blood sugar count is two hundred and ninety seven ?",
           "hundr blood one sugar level",
           9
          ],
          [
           "what should you do if your glucose level is three hundred and seventy one ?",
           "hundr blood one sugar level",
           9
          ],
          [
           "is two hundred and thirty eight a high blood glucose reading ?",
           "hundr blood one sugar level",
           9
          ],
          [
           "is sixty low for a glucose reading ?",
           "hundr blood one sugar level",
           9
          ],
          [
           "is a <unk> blood level of one point three five high ?",
           "hundr blood one sugar level",
           9
          ],
          [
           "is one hundred and sixteen a good blood sugar ?",
           "hundr blood one sugar level",
           9
          ],
          [
           "what to do if sugar level is four hundred and fifty six ?",
           "hundr blood one sugar level",
           9
          ],
          [
           "blood sugar is five point six in morning ?",
           "hundr blood one sugar level",
           9
          ],
          [
           "why is my blood glucose so high while on <unk> ?",
           "hundr blood one sugar level",
           9
          ],
          [
           "is your blood sugar high if it is one hundred and ninety three right after lunch ?",
           "hundr blood one sugar level",
           9
          ],
          [
           "suger level one hundred and eighty five to high ?",
           "hundr blood one sugar level",
           9
          ],
          [
           "is a blood sugar level of one hundred and twenty four considered high for men who is sixty three yrs old ?",
           "hundr blood one sugar level",
           9
          ],
          [
           "is a glucose reading of one hundred and seventeen of concern ?",
           "hundr blood one sugar level",
           9
          ],
          [
           "is a blood sugar level of one hundred and sixty one dangerous ?",
           "hundr blood one sugar level",
           9
          ],
          [
           "my blood sugar was over four hundred last week ?",
           "hundr blood one sugar level",
           9
          ],
          [
           "is ninety high blood sugar ?",
           "hundr blood one sugar level",
           9
          ],
          [
           "what is the normal oil <unk> range for a one thousand , nine hundred and eighty eight <unk> ?",
           "hundr blood one sugar level",
           9
          ],
          [
           "is a reading of one hundred and one in a diabetes test considered high ?",
           "hundr blood one sugar level",
           9
          ],
          [
           "is a blood sugar level of one hundred and sixty dangerous ?",
           "hundr blood one sugar level",
           9
          ],
          [
           "what should my blood glucose level be to be considered normal ?",
           "hundr blood one sugar level",
           9
          ],
          [
           "is one hundred and sixty six a safe glucose level ?",
           "hundr blood one sugar level",
           9
          ],
          [
           "what does it mean if your blood sugar level is two hundred and fifteen ?",
           "hundr blood one sugar level",
           9
          ],
          [
           "is three hundred and seven considered a normal rate for your blood sugar ?",
           "hundr blood one sugar level",
           9
          ],
          [
           "while fasting is blood sugar readings of one hundred and ten normal for a thirteen year old girl ?",
           "hundr blood one sugar level",
           9
          ]
         ],
         "hovertemplate": "summary=%{customdata[1]}<br>pc_1=%{x}<br>pc_2=%{y}<br>pc_3=%{z}<br>question=%{customdata[0]}<br>label=%{customdata[2]}<extra></extra>",
         "legendgroup": "hundr blood one sugar level",
         "marker": {
          "color": "#636efa",
          "size": 8,
          "symbol": "circle"
         },
         "mode": "markers",
         "name": "hundr blood one sugar level",
         "scene": "scene",
         "showlegend": true,
         "type": "scatter3d",
         "x": [
          0.41407209634780884,
          0.4565487205982208,
          0.5297770500183105,
          0.4255872666835785,
          0.5045017004013062,
          0.3573029637336731,
          0.36717844009399414,
          0.3478095829486847,
          0.45708560943603516,
          0.46274882555007935,
          0.3906067907810211,
          0.5768018960952759,
          0.37294265627861023,
          0.31298354268074036,
          0.41812726855278015,
          0.4574059247970581,
          0.4004485607147217,
          0.5102741718292236,
          0.4804116189479828,
          0.4504038095474243,
          0.4499295949935913,
          0.4527249038219452,
          0.455003023147583,
          0.3891390860080719,
          0.3956185281276703,
          0.5104462504386902,
          0.45450106263160706,
          0.34704262018203735,
          0.37900200486183167,
          0.3454495370388031,
          0.49308305978775024,
          0.5131406784057617,
          0.38586968183517456,
          0.4060671329498291,
          0.44640129804611206,
          0.535668671131134,
          0.41691523790359497,
          0.5205487608909607,
          0.5084009766578674,
          0.3703121840953827,
          0.42306333780288696,
          0.4177168011665344,
          0.43989771604537964,
          0.5231130719184875,
          0.5048381090164185,
          0.4912409782409668,
          0.34891411662101746,
          0.4693281054496765,
          0.3782069683074951,
          0.5650137066841125,
          0.5182830095291138,
          0.49582889676094055,
          0.41959670186042786,
          0.4732241928577423,
          0.4011884927749634,
          0.5020073056221008
         ],
         "y": [
          0.12653043866157532,
          0.0003247018321417272,
          0.17659245431423187,
          -0.09187816828489304,
          0.014916935004293919,
          0.07206632196903229,
          -0.08206937462091446,
          0.09202385693788528,
          0.1805502027273178,
          0.09344686567783356,
          0.15275336802005768,
          -0.05769742280244827,
          0.05281388759613037,
          -0.015934357419610023,
          0.07073602825403214,
          0.030977971851825714,
          0.03313039615750313,
          0.0157827939838171,
          0.1093481183052063,
          0.13856583833694458,
          0.010940486565232277,
          0.05717207118868828,
          -0.053077854216098785,
          0.17665676772594452,
          -0.013120077550411224,
          0.20204666256904602,
          -0.08605886995792389,
          -0.026451095938682556,
          0.15865272283554077,
          0.12508076429367065,
          0.0243197213858366,
          0.22488825023174286,
          0.010835318826138973,
          -0.016448725014925003,
          0.0001990267337532714,
          -0.016820769757032394,
          0.005659103859215975,
          0.1342816799879074,
          0.17117664217948914,
          0.1721051037311554,
          -0.03310304880142212,
          0.13795578479766846,
          0.07899940758943558,
          0.11908381432294846,
          -0.024556303396821022,
          0.07301332801580429,
          0.18387150764465332,
          0.12758305668830872,
          0.11036104708909988,
          0.02408955991268158,
          0.06762941926717758,
          -0.10860689729452133,
          -0.044324036687612534,
          0.15369656682014465,
          0.08621370792388916,
          0.06787104159593582
         ],
         "z": [
          -0.5423061847686768,
          -0.5536757707595825,
          -0.4668272137641907,
          -0.678864061832428,
          -0.5356948375701904,
          -0.4719107151031494,
          -0.49944403767585754,
          -0.6692456007003784,
          -0.590425968170166,
          -0.528915524482727,
          -0.6756799221038818,
          -0.5291250944137573,
          -0.5751405358314514,
          -0.548911452293396,
          -0.5800491571426392,
          -0.4885784983634949,
          -0.4080098271369934,
          -0.5892595648765564,
          -0.6715550422668457,
          -0.4307621121406555,
          -0.6036227345466614,
          -0.5455076098442078,
          -0.5151534676551819,
          -0.45639768242836,
          -0.6240242719650269,
          -0.41115668416023254,
          -0.5505531430244446,
          -0.5195624232292175,
          -0.38585802912712097,
          -0.5591750741004944,
          -0.6616222262382507,
          -0.45202669501304626,
          -0.5114239454269409,
          -0.5276111364364624,
          -0.6611007452011108,
          -0.638805627822876,
          -0.7143334150314331,
          -0.4257220923900604,
          -0.5217151641845703,
          -0.5300451517105103,
          -0.46052637696266174,
          -0.46632155776023865,
          -0.6510099768638611,
          -0.589909553527832,
          -0.5737576484680176,
          -0.45915907621383667,
          -0.5876613259315491,
          -0.3681570887565613,
          -0.6707482933998108,
          -0.585041344165802,
          -0.46524500846862793,
          -0.49292635917663574,
          -0.5776160955429077,
          -0.4803091287612915,
          -0.5086965560913086,
          -0.582359790802002
         ]
        },
        {
         "customdata": [
          [
           "what is sugar normal range ?",
           "normal blood level sugar glucos",
           10
          ],
          [
           "what is a normal blood sugar level reading ?",
           "normal blood level sugar glucos",
           10
          ],
          [
           "what is the normal range for anion gap ?",
           "normal blood level sugar glucos",
           10
          ],
          [
           "communicate with the school nurse ?",
           "normal blood level sugar glucos",
           10
          ],
          [
           "what are the normal sugar levels ?",
           "normal blood level sugar glucos",
           10
          ],
          [
           "what is the normal blood glucose range ?",
           "normal blood level sugar glucos",
           10
          ],
          [
           "what are normal glucose levels ?",
           "normal blood level sugar glucos",
           10
          ],
          [
           "what is the normal blood sugar level in human body ?",
           "normal blood level sugar glucos",
           10
          ],
          [
           "why is it important it to keep the blood glucose level within the normal range ?",
           "normal blood level sugar glucos",
           10
          ],
          [
           "what is the normal range of hb1ac ?",
           "normal blood level sugar glucos",
           10
          ],
          [
           "which glucose levels are normal while fasting ?",
           "normal blood level sugar glucos",
           10
          ],
          [
           "what is the normal range of blood sugar for diabetic ?",
           "normal blood level sugar glucos",
           10
          ],
          [
           "what are healthy fasting blood glucose levels ?",
           "normal blood level sugar glucos",
           10
          ],
          [
           "what is the normal blood glucose level in human ?",
           "normal blood level sugar glucos",
           10
          ],
          [
           "what is the average blood sugar level for an adult woman ?",
           "normal blood level sugar glucos",
           10
          ],
          [
           "what is the normal value of random blood sugar ?",
           "normal blood level sugar glucos",
           10
          ],
          [
           "the normal value of glucose per one hundred ml of blood is ?",
           "normal blood level sugar glucos",
           10
          ],
          [
           "what is the healthy normal blood sugar range for a person who is predisposed to diabetes ?",
           "normal blood level sugar glucos",
           10
          ],
          [
           "my hba1c level is five point nine what is normal level ?",
           "normal blood level sugar glucos",
           10
          ],
          [
           "what is the normal level for cholesterol in the blood ?",
           "normal blood level sugar glucos",
           10
          ],
          [
           "what are the acceptable amounts of normal glucose levels ?",
           "normal blood level sugar glucos",
           10
          ],
          [
           "what is the uk <unk> range for <unk> blood sugar levels ?",
           "normal blood level sugar glucos",
           10
          ],
          [
           "what levels of blood glucose indicates diabetes ?",
           "normal blood level sugar glucos",
           10
          ],
          [
           "what does a decreasing level of cea in the blood indicate ?",
           "normal blood level sugar glucos",
           10
          ],
          [
           "what is the normal number for blood sugar ?",
           "normal blood level sugar glucos",
           10
          ],
          [
           "what is the normal range of blood glucose ?",
           "normal blood level sugar glucos",
           10
          ],
          [
           "what is normal glucose levels for diabetic ?",
           "normal blood level sugar glucos",
           10
          ],
          [
           "what is a normal glucose level ?",
           "normal blood level sugar glucos",
           10
          ],
          [
           "average a1c level in non diabetic patient ?",
           "normal blood level sugar glucos",
           10
          ],
          [
           "what is the normal range for preprandial blood sugar in an <unk> client who has diabetes ?",
           "normal blood level sugar glucos",
           10
          ],
          [
           "what are the normal glucose levels of a forty year old male ?",
           "normal blood level sugar glucos",
           10
          ],
          [
           "what is the normal range for blood sugar ?",
           "normal blood level sugar glucos",
           10
          ],
          [
           "what is the normal fasting blood glucose range in a diabetic teenager ?",
           "normal blood level sugar glucos",
           10
          ],
          [
           "what is the normal range in a blood <unk> test ?",
           "normal blood level sugar glucos",
           10
          ],
          [
           "what is a disease in which blood glucose levels are above normal ?",
           "normal blood level sugar glucos",
           10
          ],
          [
           "what is the normal heart rate for eighty one yr old diabetic woman ?",
           "normal blood level sugar glucos",
           10
          ],
          [
           "blood glucose levels normal range is ?",
           "normal blood level sugar glucos",
           10
          ],
          [
           "what is a normal sugar level for twenty year old ?",
           "normal blood level sugar glucos",
           10
          ],
          [
           "medical terms what is the name of blood condition of less than normal sugar ?",
           "normal blood level sugar glucos",
           10
          ],
          [
           "a normal fasting glucose level is ?",
           "normal blood level sugar glucos",
           10
          ],
          [
           "the ph of blood is usually maintained at about ?",
           "normal blood level sugar glucos",
           10
          ],
          [
           "what is a normal blood sugar range for fasting ?",
           "normal blood level sugar glucos",
           10
          ],
          [
           "what is the normal ranges of sugar after eating ?",
           "normal blood level sugar glucos",
           10
          ],
          [
           "when glucose levels are above normal the pancrease secretes ?",
           "normal blood level sugar glucos",
           10
          ],
          [
           "do you know the amounts of normal glucose levels ?",
           "normal blood level sugar glucos",
           10
          ],
          [
           "what is the range of glucose in <unk> ?",
           "normal blood level sugar glucos",
           10
          ],
          [
           "what is the best website for normal glucose levels ?",
           "normal blood level sugar glucos",
           10
          ],
          [
           "what is the level of glucose in a cat ?",
           "normal blood level sugar glucos",
           10
          ],
          [
           "what is the normal range for someone is blood sugar level ?",
           "normal blood level sugar glucos",
           10
          ],
          [
           "normal blood sugar level for type two diabetes ?",
           "normal blood level sugar glucos",
           10
          ],
          [
           "what is normal blood sugar for kids ?",
           "normal blood level sugar glucos",
           10
          ],
          [
           "what is the normal range of running and blood sugar ?",
           "normal blood level sugar glucos",
           10
          ],
          [
           "what is the normal blood sugar level for a child ?",
           "normal blood level sugar glucos",
           10
          ],
          [
           "what is a normal blood level ?",
           "normal blood level sugar glucos",
           10
          ],
          [
           "what is the normal blood sugar level for a woman in her forty ' ?",
           "normal blood level sugar glucos",
           10
          ],
          [
           "what is the normal human glucose level ?",
           "normal blood level sugar glucos",
           10
          ],
          [
           "what is considered a normal blood sugar level ?",
           "normal blood level sugar glucos",
           10
          ],
          [
           "what is a normal level of triglycerides and what are the implications of having abnormal levels ?",
           "normal blood level sugar glucos",
           10
          ],
          [
           "what is the normal average ph of blood ?",
           "normal blood level sugar glucos",
           10
          ],
          [
           "why sugar level becomes high in a <unk> patient ?",
           "normal blood level sugar glucos",
           10
          ],
          [
           "what is a blood sugar range that is safe for someone over the age of thirty ?",
           "normal blood level sugar glucos",
           10
          ],
          [
           "what is normal blood sugar rate ?",
           "normal blood level sugar glucos",
           10
          ],
          [
           "what is a normal blood glucose levels for a horse ?",
           "normal blood level sugar glucos",
           10
          ],
          [
           "is a high level of a1c blood sugar bad ?",
           "normal blood level sugar glucos",
           10
          ],
          [
           "what is the normal blood <unk> ?",
           "normal blood level sugar glucos",
           10
          ],
          [
           "what normal level of glucose in human blood ?",
           "normal blood level sugar glucos",
           10
          ],
          [
           "in homeostasis what is blood glucose range between ?",
           "normal blood level sugar glucos",
           10
          ],
          [
           "what is the normal blood glucose level for a child ?",
           "normal blood level sugar glucos",
           10
          ]
         ],
         "hovertemplate": "summary=%{customdata[1]}<br>pc_1=%{x}<br>pc_2=%{y}<br>pc_3=%{z}<br>question=%{customdata[0]}<br>label=%{customdata[2]}<extra></extra>",
         "legendgroup": "normal blood level sugar glucos",
         "marker": {
          "color": "#EF553B",
          "size": 8,
          "symbol": "circle"
         },
         "mode": "markers",
         "name": "normal blood level sugar glucos",
         "scene": "scene",
         "showlegend": true,
         "type": "scatter3d",
         "x": [
          0.7279415130615234,
          0.7588434815406799,
          0.719663679599762,
          0.6472883820533752,
          0.6847834587097168,
          0.6317795515060425,
          0.5353150367736816,
          0.6134662628173828,
          0.5903366804122925,
          0.7174129486083984,
          0.5155224800109863,
          0.8213955163955688,
          0.43067875504493713,
          0.5594199299812317,
          0.7223160862922668,
          0.7937831878662109,
          0.7585551142692566,
          0.7789687514305115,
          0.6399605870246887,
          0.6113944053649902,
          0.5393054485321045,
          0.7134071588516235,
          0.473085880279541,
          0.5053668022155762,
          0.681382417678833,
          0.673678457736969,
          0.5712792873382568,
          0.6461471915245056,
          0.576907753944397,
          0.7749725580215454,
          0.6246432065963745,
          0.8318047523498535,
          0.6615040302276611,
          0.6936748623847961,
          0.5212551355361938,
          0.6506698131561279,
          0.5423749685287476,
          0.7291578650474548,
          0.7202165126800537,
          0.5269917249679565,
          0.5786120295524597,
          0.8015673160552979,
          0.7450779676437378,
          0.5095429420471191,
          0.49579787254333496,
          0.675853967666626,
          0.6681408286094666,
          0.6891207695007324,
          0.8140767216682434,
          0.701545238494873,
          0.7810510396957397,
          0.8707119822502136,
          0.691241979598999,
          0.6436265110969543,
          0.6387022137641907,
          0.5555570721626282,
          0.7399610280990601,
          0.5516144633293152,
          0.613619327545166,
          0.6276617646217346,
          0.7185601592063904,
          0.647288978099823,
          0.6199708580970764,
          0.7647673487663269,
          0.634128987789154,
          0.5572579503059387,
          0.6215788722038269,
          0.6056390404701233
         ],
         "y": [
          -0.11270265281200409,
          -0.05050148069858551,
          -0.12829352915287018,
          0.08057412505149841,
          -0.09923693537712097,
          -0.18954022228717804,
          -0.191771999001503,
          -0.27693620324134827,
          -0.1788802593946457,
          -0.13771146535873413,
          -0.14761072397232056,
          -0.1300038844347,
          -0.20018620789051056,
          -0.2507690191268921,
          0.01760908029973507,
          -0.17888973653316498,
          -0.20669949054718018,
          0.013523568399250507,
          -0.16813328862190247,
          -0.08830256015062332,
          -0.20630700886249542,
          -0.04953273758292198,
          -0.24964077770709991,
          -0.3086971938610077,
          -0.021868642419576645,
          -0.21212539076805115,
          -0.16413351893424988,
          -0.20300614833831787,
          -0.13427111506462097,
          -0.036252204328775406,
          -0.07785288244485855,
          -0.09685438126325607,
          -0.17072220146656036,
          -0.21157360076904297,
          -0.21839968860149384,
          -0.022229140624403954,
          -0.15023738145828247,
          0.027926716953516006,
          -0.06297832727432251,
          -0.12715530395507812,
          -0.1411188244819641,
          -0.06739193201065063,
          -0.1367558240890503,
          -0.18967579305171967,
          -0.18767955899238586,
          -0.23987184464931488,
          -0.07655180990695953,
          -0.2617369592189789,
          -0.07221268117427826,
          0.009326382540166378,
          0.035856861621141434,
          -0.10204339027404785,
          -0.014771257527172565,
          -0.17987990379333496,
          -0.0055028293281793594,
          -0.21201081573963165,
          -0.03552728518843651,
          -0.2544723451137543,
          -0.14038899540901184,
          0.03310602530837059,
          -0.03196827694773674,
          -0.03368652984499931,
          -0.12519855797290802,
          -0.012439500540494919,
          -0.20381592214107513,
          -0.23917268216609955,
          -0.25219306349754333,
          -0.11432395875453949
         ],
         "z": [
          -0.39430394768714905,
          -0.3892609179019928,
          -0.4858091175556183,
          -0.5297518372535706,
          -0.36816710233688354,
          -0.4801252484321594,
          -0.5931224226951599,
          -0.41966259479522705,
          -0.48607707023620605,
          -0.43333593010902405,
          -0.5640873312950134,
          -0.3708239793777466,
          -0.48053207993507385,
          -0.4362850487232208,
          -0.47373270988464355,
          -0.41898080706596375,
          -0.469154953956604,
          -0.4080040752887726,
          -0.6311890482902527,
          -0.43442273139953613,
          -0.6481250524520874,
          -0.4578748345375061,
          -0.4464914798736572,
          -0.4831678867340088,
          -0.4292376637458801,
          -0.47189486026763916,
          -0.6107429265975952,
          -0.5872945189476013,
          -0.6633976697921753,
          -0.5003287196159363,
          -0.6095154285430908,
          -0.42755910754203796,
          -0.5173013806343079,
          -0.4050430357456207,
          -0.439919114112854,
          -0.5888726115226746,
          -0.4915521740913391,
          -0.5445153117179871,
          -0.2979552745819092,
          -0.5339850783348083,
          -0.39683887362480164,
          -0.371979683637619,
          -0.34211859107017517,
          -0.5325244069099426,
          -0.6315020322799683,
          -0.5236028432846069,
          -0.49566885828971863,
          -0.5670104026794434,
          -0.44673991203308105,
          -0.3687119483947754,
          -0.5500040650367737,
          -0.4046298563480377,
          -0.48862224817276,
          -0.402057945728302,
          -0.517187237739563,
          -0.5182220935821533,
          -0.36119702458381653,
          -0.5870687961578369,
          -0.429577499628067,
          -0.489503413438797,
          -0.5361477136611938,
          -0.3902297616004944,
          -0.5428777933120728,
          -0.31480488181114197,
          -0.3753291964530945,
          -0.47785934805870056,
          -0.504307210445404,
          -0.5087263584136963
         ]
        },
        {
         "customdata": [
          [
           "how do you reduce the effects of diabetes from your body ?",
           "affect system bodi effect type",
           18
          ],
          [
           "how endocrine system affects the beauty therapist when treating clients ?",
           "affect system bodi effect type",
           18
          ],
          [
           "who does diabetes affect the most ?",
           "affect system bodi effect type",
           18
          ],
          [
           "do diabetes hurt ?",
           "affect system bodi effect type",
           18
          ],
          [
           "what body system does diabetes affect ?",
           "affect system bodi effect type",
           18
          ],
          [
           "how does genital herpes affect diabetics ?",
           "affect system bodi effect type",
           18
          ],
          [
           "does a period affect type one diabetes ?",
           "affect system bodi effect type",
           18
          ],
          [
           "how does diabetes effect people ?",
           "affect system bodi effect type",
           18
          ],
          [
           "does diabetes effect the immune system ?",
           "affect system bodi effect type",
           18
          ],
          [
           "what body systems are affected by diabetes type two ?",
           "affect system bodi effect type",
           18
          ],
          [
           "when does type i diabetes usually begin ?",
           "affect system bodi effect type",
           18
          ],
          [
           "how does diabetes affect a1c levels ?",
           "affect system bodi effect type",
           18
          ],
          [
           "what organs do type two diabetes affect ?",
           "affect system bodi effect type",
           18
          ],
          [
           "does <unk> affect the breathalyzer ?",
           "affect system bodi effect type",
           18
          ],
          [
           "what body system does diabetes effect ?",
           "affect system bodi effect type",
           18
          ],
          [
           "how does type two diabetes affect the nervous system ?",
           "affect system bodi effect type",
           18
          ],
          [
           "why does <unk> due to diabetes occur ?",
           "affect system bodi effect type",
           18
          ],
          [
           "how does diabetes effect the endocrine system ?",
           "affect system bodi effect type",
           18
          ],
          [
           "does beetroot affect diabetes ?",
           "affect system bodi effect type",
           18
          ],
          [
           "diabetes affects the bodys ability to do what ?",
           "affect system bodi effect type",
           18
          ],
          [
           "how does diabetes affect homeostasis ?",
           "affect system bodi effect type",
           18
          ],
          [
           "how does diabetes start ?",
           "affect system bodi effect type",
           18
          ],
          [
           "how can diabetes survive in the human body ?",
           "affect system bodi effect type",
           18
          ],
          [
           "how does diabetes affect <unk> ?",
           "affect system bodi effect type",
           18
          ],
          [
           "how does diabetes affect you physically ?",
           "affect system bodi effect type",
           18
          ],
          [
           "how does diabetes change your life ?",
           "affect system bodi effect type",
           18
          ],
          [
           "how does the first stage of diabetes affect second stage of diabetes ?",
           "affect system bodi effect type",
           18
          ],
          [
           "what body systems does diabetes type one affect ?",
           "affect system bodi effect type",
           18
          ],
          [
           "how does the diabetes affect the tissues ?",
           "affect system bodi effect type",
           18
          ],
          [
           "how does diabetes affect your cells ?",
           "affect system bodi effect type",
           18
          ],
          [
           "how can diabetes affect your body ?",
           "affect system bodi effect type",
           18
          ],
          [
           "how does diabetes affect vision ?",
           "affect system bodi effect type",
           18
          ],
          [
           "what enzyme does diabetes affect ?",
           "affect system bodi effect type",
           18
          ],
          [
           "explain the cause of diabetes and how its controlled ?",
           "affect system bodi effect type",
           18
          ],
          [
           "which aspect of the nervous system is involved with diabetes ?",
           "affect system bodi effect type",
           18
          ],
          [
           "how does diabetes affect decision making for older teachers ?",
           "affect system bodi effect type",
           18
          ],
          [
           "will <unk> is syndrome effect diabetes ?",
           "affect system bodi effect type",
           18
          ],
          [
           "how does diabetes affect you <unk> ?",
           "affect system bodi effect type",
           18
          ],
          [
           "does <unk> affect diabetes ?",
           "affect system bodi effect type",
           18
          ],
          [
           "how much <unk> less insulin will the body produce prior to having diabetes ?",
           "affect system bodi effect type",
           18
          ],
          [
           "how does exercise affect diabetics blood sugar and circulation ?",
           "affect system bodi effect type",
           18
          ],
          [
           "how does diabetes affect your circulation system ?",
           "affect system bodi effect type",
           18
          ],
          [
           "can diabetes affect a tattoo ?",
           "affect system bodi effect type",
           18
          ],
          [
           "does diabetes affect the eyes ?",
           "affect system bodi effect type",
           18
          ],
          [
           "what effects does diabetes have on our body system ?",
           "affect system bodi effect type",
           18
          ],
          [
           "how does one keep diabetes in check ?",
           "affect system bodi effect type",
           18
          ],
          [
           "how long does the human organs take before they shutting down ?",
           "affect system bodi effect type",
           18
          ],
          [
           "how diabetes affect the pancreas ?",
           "affect system bodi effect type",
           18
          ],
          [
           "how does a person know when they have diabetes ?",
           "affect system bodi effect type",
           18
          ],
          [
           "what organ system does diabetes belong ?",
           "affect system bodi effect type",
           18
          ],
          [
           "does diabetes affect pregnancy ?",
           "affect system bodi effect type",
           18
          ],
          [
           "does diabetes affect the circulatory system ?",
           "affect system bodi effect type",
           18
          ]
         ],
         "hovertemplate": "summary=%{customdata[1]}<br>pc_1=%{x}<br>pc_2=%{y}<br>pc_3=%{z}<br>question=%{customdata[0]}<br>label=%{customdata[2]}<extra></extra>",
         "legendgroup": "affect system bodi effect type",
         "marker": {
          "color": "#00cc96",
          "size": 8,
          "symbol": "circle"
         },
         "mode": "markers",
         "name": "affect system bodi effect type",
         "scene": "scene",
         "showlegend": true,
         "type": "scatter3d",
         "x": [
          -0.03123634122312069,
          -0.011077417992055416,
          -0.21100300550460815,
          -0.17088240385055542,
          -0.11160614341497421,
          -0.26615527272224426,
          -0.23554281890392303,
          -0.10121755301952362,
          -0.09714557975530624,
          -0.06044308468699455,
          -0.29864123463630676,
          -0.1357443481683731,
          -0.09347672015428543,
          -0.1721353828907013,
          -0.049658674746751785,
          -0.1307775229215622,
          -0.20610347390174866,
          -0.05808982625603676,
          -0.24930135905742645,
          -0.037160858511924744,
          -0.10488935559988022,
          -0.07211067527532578,
          0.04243174567818642,
          -0.13503985106945038,
          -0.07533815503120422,
          -0.0183680709451437,
          -0.2537364363670349,
          -0.13062110543251038,
          -0.10109750181436539,
          -0.08515875041484833,
          -0.025442887097597122,
          -0.1458308845758438,
          -0.15035949647426605,
          -0.06568289548158646,
          -0.19870597124099731,
          -0.18307144939899445,
          -0.27178308367729187,
          -0.10165190696716309,
          -0.2222314327955246,
          -0.05223163217306137,
          -0.16218623518943787,
          -0.17641974985599518,
          -0.08565323799848557,
          -0.2016657143831253,
          -0.06881238520145416,
          -0.050385814160108566,
          0.013503431342542171,
          -0.04379814863204956,
          -0.035344820469617844,
          -0.1622570902109146,
          -0.2845262289047241,
          -0.1579817831516266
         ],
         "y": [
          -0.30353114008903503,
          -0.2219880074262619,
          -0.16227026283740997,
          -0.03557758405804634,
          -0.2640584111213684,
          -0.0939534604549408,
          -0.21495887637138367,
          -0.14639295637607574,
          -0.2267761081457138,
          -0.37913817167282104,
          -0.24593095481395721,
          -0.08906867355108261,
          -0.2703225314617157,
          -0.16950874030590057,
          -0.24415044486522675,
          -0.2253129631280899,
          -0.2045760601758957,
          -0.23542633652687073,
          -0.12930327653884888,
          -0.15321116149425507,
          -0.14714354276657104,
          -0.09105844050645828,
          -0.31982681155204773,
          -0.14566636085510254,
          -0.13062429428100586,
          -0.16016782820224762,
          -0.2910066843032837,
          -0.2770299017429352,
          -0.1896737962961197,
          -0.21998395025730133,
          -0.1974112093448639,
          -0.17629678547382355,
          -0.18173585832118988,
          -0.34254881739616394,
          -0.2853360176086426,
          -0.13358138501644135,
          -0.18831297755241394,
          -0.136415496468544,
          -0.17552490532398224,
          -0.3240372836589813,
          -0.10106924176216125,
          -0.22864602506160736,
          -0.13621525466442108,
          -0.20290160179138184,
          -0.27539828419685364,
          0.0011825887486338615,
          -0.2936799228191376,
          -0.2883991301059723,
          -0.04854691028594971,
          -0.3193141222000122,
          -0.15890099108219147,
          -0.24578365683555603
         ],
         "z": [
          -0.04720515385270119,
          -0.022974707186222076,
          -0.18823711574077606,
          -0.02171304263174534,
          -0.08999460935592651,
          -0.04964689165353775,
          -0.09950151294469833,
          -0.04837901517748833,
          -0.022818204015493393,
          -0.22938717901706696,
          -0.14589135348796844,
          -0.15573880076408386,
          -0.21781282126903534,
          -0.004777819383889437,
          -0.09310309588909149,
          -0.11622437089681625,
          0.06586955487728119,
          -0.03824789077043533,
          -0.026337653398513794,
          -0.09769459813833237,
          -0.21874834597110748,
          -0.0861707478761673,
          -0.13979122042655945,
          -0.09604911506175995,
          -0.1557069718837738,
          -0.2200441211462021,
          -0.05661417543888092,
          -0.12681607902050018,
          -0.1693597286939621,
          -0.1946329027414322,
          -0.1613076776266098,
          -0.09969348460435867,
          -0.23372206091880798,
          -0.07667805999517441,
          -0.014685208909213543,
          -0.13166390359401703,
          -0.015892494469881058,
          -0.10919714719057083,
          -0.060091570019721985,
          -0.15157756209373474,
          -0.06168296933174133,
          -0.15675674378871918,
          0.0005279167089611292,
          -0.03686728700995445,
          -0.06875947117805481,
          -0.08334852755069733,
          -0.1721470206975937,
          -0.202596053481102,
          -0.016390876844525337,
          -0.15026704967021942,
          -0.09107103943824768,
          -0.05709995701909065
         ]
        },
        {
         "customdata": [
          [
           "a feature of ketosis is that it ?",
           "blood level featur ketosi hypoglcemia",
           21
          ],
          [
           "what is hypoglcemia ?",
           "blood level featur ketosi hypoglcemia",
           21
          ],
          [
           "high level of a fatty substance in the blood ?",
           "blood level featur ketosi hypoglcemia",
           21
          ],
          [
           "what is a person called with diabetes ?",
           "blood level featur ketosi hypoglcemia",
           21
          ],
          [
           "what is <unk> ?",
           "blood level featur ketosi hypoglcemia",
           21
          ],
          [
           "what is an <unk> ?",
           "blood level featur ketosi hypoglcemia",
           21
          ],
          [
           "what is an omnipod ?",
           "blood level featur ketosi hypoglcemia",
           21
          ],
          [
           "where is uric acid found ?",
           "blood level featur ketosi hypoglcemia",
           21
          ],
          [
           "what are the reasons for <unk> is abdomen ?",
           "blood level featur ketosi hypoglcemia",
           21
          ],
          [
           "what if diabetes is left untreated ?",
           "blood level featur ketosi hypoglcemia",
           21
          ],
          [
           "what is paneer booti ?",
           "blood level featur ketosi hypoglcemia",
           21
          ],
          [
           "what is mechanism of action <unk> <unk> as <unk> ?",
           "blood level featur ketosi hypoglcemia",
           21
          ],
          [
           "function of a <unk> ?",
           "blood level featur ketosi hypoglcemia",
           21
          ],
          [
           "what are the uses of dextrose strip ?",
           "blood level featur ketosi hypoglcemia",
           21
          ],
          [
           "what gland is essential in the metabolism of <unk> and reduces blood sugar ?",
           "blood level featur ketosi hypoglcemia",
           21
          ],
          [
           "what is grade two <unk> ?",
           "blood level featur ketosi hypoglcemia",
           21
          ],
          [
           "<unk> , pain in the ?",
           "blood level featur ketosi hypoglcemia",
           21
          ],
          [
           "can <unk> lower <unk> levels in the blood ?",
           "blood level featur ketosi hypoglcemia",
           21
          ],
          [
           "what is a hemoglucotest ?",
           "blood level featur ketosi hypoglcemia",
           21
          ]
         ],
         "hovertemplate": "summary=%{customdata[1]}<br>pc_1=%{x}<br>pc_2=%{y}<br>pc_3=%{z}<br>question=%{customdata[0]}<br>label=%{customdata[2]}<extra></extra>",
         "legendgroup": "blood level featur ketosi hypoglcemia",
         "marker": {
          "color": "#ab63fa",
          "size": 8,
          "symbol": "circle"
         },
         "mode": "markers",
         "name": "blood level featur ketosi hypoglcemia",
         "scene": "scene",
         "showlegend": true,
         "type": "scatter3d",
         "x": [
          0.217739999294281,
          0.14939825236797333,
          0.31496483087539673,
          0.15616458654403687,
          0.1589571088552475,
          0.19937586784362793,
          0.22489474713802338,
          0.2763538360595703,
          0.2331436276435852,
          0.16542872786521912,
          0.2332378327846527,
          0.1329542100429535,
          0.2578337490558624,
          0.26466861367225647,
          0.29215261340141296,
          0.10156300663948059,
          0.24385032057762146,
          0.28445884585380554,
          0.20169863104820251
         ],
         "y": [
          -0.33214738965034485,
          -0.39163780212402344,
          -0.31165099143981934,
          -0.4653921127319336,
          -0.4136032462120056,
          -0.41024863719940186,
          -0.3644368350505829,
          -0.3507924973964691,
          -0.31470033526420593,
          -0.31234976649284363,
          -0.33908551931381226,
          -0.3922256529331207,
          -0.3796144127845764,
          -0.4559713900089264,
          -0.39876940846443176,
          -0.42080482840538025,
          -0.27656692266464233,
          -0.2696177065372467,
          -0.38661646842956543
         ],
         "z": [
          -0.0777471736073494,
          -0.16620683670043945,
          -0.11807037889957428,
          -0.11721985787153244,
          -0.17582836747169495,
          -0.12664462625980377,
          -0.1289810687303543,
          -0.08410031348466873,
          -0.1878010630607605,
          -0.1681266874074936,
          -0.15631990134716034,
          -0.09473567456007004,
          -0.2031284123659134,
          -0.18358734250068665,
          -0.09745586663484573,
          -0.18559031188488007,
          -0.14995430409908295,
          -0.17798374593257904,
          -0.1806894689798355
         ]
        },
        {
         "customdata": [
          [
           "what are the three major diabetic foods to avoid ?",
           "eat food type avoid fruit",
           16
          ],
          [
           "can <unk> eat sugar ?",
           "eat food type avoid fruit",
           16
          ],
          [
           "can diabetics eat <unk> ?",
           "eat food type avoid fruit",
           16
          ],
          [
           "can diabetics eat glucose syrup ?",
           "eat food type avoid fruit",
           16
          ],
          [
           "what types of wine to avoid if diabetic ?",
           "eat food type avoid fruit",
           16
          ],
          [
           "what foods are healthy and <unk> to diabetics ?",
           "eat food type avoid fruit",
           16
          ],
          [
           "is it possible to make a cake that is diabetic friendly ?",
           "eat food type avoid fruit",
           16
          ],
          [
           "why do diabetics need to eat a lump of sugar ?",
           "eat food type avoid fruit",
           16
          ],
          [
           "can you eat honey if you have type two diabetes ?",
           "eat food type avoid fruit",
           16
          ],
          [
           "can diabetics eat bananas ?",
           "eat food type avoid fruit",
           16
          ],
          [
           "can a diabetic eat orange ?",
           "eat food type avoid fruit",
           16
          ],
          [
           "can a diabetic patient eat <unk> rice ?",
           "eat food type avoid fruit",
           16
          ],
          [
           "can a diabetic eat <unk> ?",
           "eat food type avoid fruit",
           16
          ],
          [
           "what should people with type two diabetes not eat ?",
           "eat food type avoid fruit",
           16
          ],
          [
           "what vegetables can a diabetic eat ?",
           "eat food type avoid fruit",
           16
          ],
          [
           "what foods should a diabetic avoid ?",
           "eat food type avoid fruit",
           16
          ],
          [
           "can diabetics eat cake ?",
           "eat food type avoid fruit",
           16
          ],
          [
           "can a diabetic pregnant woman eat almonds and pasta ?",
           "eat food type avoid fruit",
           16
          ],
          [
           "can diabetic patients eat pineapple ?",
           "eat food type avoid fruit",
           16
          ],
          [
           "can you eat watermelon if you are diabetic ?",
           "eat food type avoid fruit",
           16
          ],
          [
           "can diabetics eat granola ?",
           "eat food type avoid fruit",
           16
          ],
          [
           "can eating to much honey cause you to become diabetic ?",
           "eat food type avoid fruit",
           16
          ],
          [
           "what cheese can you eat as a diabetic ?",
           "eat food type avoid fruit",
           16
          ],
          [
           "can a type two diabetic eat mango ?",
           "eat food type avoid fruit",
           16
          ],
          [
           "what types of food should a diabetic eat ?",
           "eat food type avoid fruit",
           16
          ],
          [
           "what are the food that patient have diabetic need to eat ?",
           "eat food type avoid fruit",
           16
          ],
          [
           "what kind of pasta a diabetic person should eat ?",
           "eat food type avoid fruit",
           16
          ],
          [
           "should a diabetics eat mango ?",
           "eat food type avoid fruit",
           16
          ],
          [
           "should diabetics eat any sugar ?",
           "eat food type avoid fruit",
           16
          ],
          [
           "can a diabetic eat cake ?",
           "eat food type avoid fruit",
           16
          ],
          [
           "eat what you are told ?",
           "eat food type avoid fruit",
           16
          ],
          [
           "can you eat fish and chips if you are diabetic ?",
           "eat food type avoid fruit",
           16
          ],
          [
           "can a person who has diabetes eat jack fruit ?",
           "eat food type avoid fruit",
           16
          ],
          [
           "can a diabetic eat apples ?",
           "eat food type avoid fruit",
           16
          ],
          [
           "what disease can you get if you eat and drink things that contain to much sugar ?",
           "eat food type avoid fruit",
           16
          ],
          [
           "what foods can you eat if you have type two diabetes ?",
           "eat food type avoid fruit",
           16
          ],
          [
           "what are foods for a diabetic to avoid ?",
           "eat food type avoid fruit",
           16
          ],
          [
           "where do they sell diabetic foods in <unk> <unk> ?",
           "eat food type avoid fruit",
           16
          ],
          [
           "what are some healthy diabetic desserts ?",
           "eat food type avoid fruit",
           16
          ],
          [
           "what foods should diabetic people avoid ?",
           "eat food type avoid fruit",
           16
          ],
          [
           "can you eat sugar if you have type two diabetes ?",
           "eat food type avoid fruit",
           16
          ],
          [
           "what are good carbohydrates for diabetics ?",
           "eat food type avoid fruit",
           16
          ],
          [
           "can a diabetic patient eat watermelon ?",
           "eat food type avoid fruit",
           16
          ],
          [
           "is rice or pasta better as part of a diabetic meal ?",
           "eat food type avoid fruit",
           16
          ],
          [
           "what foods should diabetics avoid ?",
           "eat food type avoid fruit",
           16
          ],
          [
           "can diabetics eat onions ?",
           "eat food type avoid fruit",
           16
          ],
          [
           "how important is diabetic food pyramid to someone with type two diabetis ?",
           "eat food type avoid fruit",
           16
          ],
          [
           "what do diabetic <unk> eat if they can not eat pasta ?",
           "eat food type avoid fruit",
           16
          ],
          [
           "are blood sugars the same as sugars that you eat ?",
           "eat food type avoid fruit",
           16
          ],
          [
           "what fruits can a diabetic have ?",
           "eat food type avoid fruit",
           16
          ],
          [
           "do diabetics have to eat more salt ?",
           "eat food type avoid fruit",
           16
          ],
          [
           "is eating fresh fruit good for diabetics ?",
           "eat food type avoid fruit",
           16
          ],
          [
           "are the carbs in fruit bad carbs or good carbs ?",
           "eat food type avoid fruit",
           16
          ],
          [
           "can <unk> meat increase blood sugar ?",
           "eat food type avoid fruit",
           16
          ],
          [
           "what is best bread to eat ?",
           "eat food type avoid fruit",
           16
          ],
          [
           "can a diabetic eat before a physical ?",
           "eat food type avoid fruit",
           16
          ],
          [
           "what kind of foods do diabetics eat ?",
           "eat food type avoid fruit",
           16
          ],
          [
           "how are carbohydrates processed in a diabetic and non diabetic person ?",
           "eat food type avoid fruit",
           16
          ],
          [
           "why do diabetics have to eat carbohydrates ?",
           "eat food type avoid fruit",
           16
          ],
          [
           "what does it mean when you do not feel good after eating chocolate ?",
           "eat food type avoid fruit",
           16
          ],
          [
           "can diabetics eat peaches ?",
           "eat food type avoid fruit",
           16
          ],
          [
           "what types of foods can diabetics eat ?",
           "eat food type avoid fruit",
           16
          ],
          [
           "what can you eat while you are diabetic and pregnant ?",
           "eat food type avoid fruit",
           16
          ],
          [
           "do you have diabetes if you have energy when you eat sugary foods ?",
           "eat food type avoid fruit",
           16
          ],
          [
           "how many servings of fruit is a mango ?",
           "eat food type avoid fruit",
           16
          ],
          [
           "fruits are ideal diabetic dessert ?",
           "eat food type avoid fruit",
           16
          ],
          [
           "what diabetes foods should he avoid ?",
           "eat food type avoid fruit",
           16
          ],
          [
           "what foods can i eat to avoid diabetic complications ?",
           "eat food type avoid fruit",
           16
          ],
          [
           "why can not people with diabetes eat sugar ?",
           "eat food type avoid fruit",
           16
          ],
          [
           "what fruits can diabetic people eat ?",
           "eat food type avoid fruit",
           16
          ],
          [
           "what food should diabetics avoid ?",
           "eat food type avoid fruit",
           16
          ],
          [
           "are jelly beans suitable for people with diabetes ?",
           "eat food type avoid fruit",
           16
          ],
          [
           "is it bad for diabetes to eat rice ?",
           "eat food type avoid fruit",
           16
          ],
          [
           "should a diabetic eat honey ?",
           "eat food type avoid fruit",
           16
          ],
          [
           "is fresh fruit bad for a diabetic ?",
           "eat food type avoid fruit",
           16
          ],
          [
           "is wheat bran good fiber for type two diabetes patients ?",
           "eat food type avoid fruit",
           16
          ],
          [
           "is it ok to eat ham when you are a diabetic ?",
           "eat food type avoid fruit",
           16
          ],
          [
           "if you are diabetic what foods should you absolutely avoid ?",
           "eat food type avoid fruit",
           16
          ],
          [
           "is eating peanut butter and graham crackers a good snack for a type one diabetic ?",
           "eat food type avoid fruit",
           16
          ],
          [
           "can diabetics type two ever have a good pasta dish ?",
           "eat food type avoid fruit",
           16
          ],
          [
           "what types of food can diabetic males eat ?",
           "eat food type avoid fruit",
           16
          ],
          [
           "i would like to know what is good food to have for a diabetic and the bad foods to have for a diabetic . ?",
           "eat food type avoid fruit",
           16
          ],
          [
           "what is something sweet that a diabetic can eat ?",
           "eat food type avoid fruit",
           16
          ],
          [
           "can diabetics eat rice ?",
           "eat food type avoid fruit",
           16
          ],
          [
           "should a diabetic not eat fruit ?",
           "eat food type avoid fruit",
           16
          ],
          [
           "can diabetics eat liver ?",
           "eat food type avoid fruit",
           16
          ],
          [
           "if you are pregnant and have diabetes what should you eat ?",
           "eat food type avoid fruit",
           16
          ],
          [
           "can diabetics eat plums ?",
           "eat food type avoid fruit",
           16
          ],
          [
           "can a diabetic eat steak ?",
           "eat food type avoid fruit",
           16
          ],
          [
           "can a person with diabetes eat <unk> ?",
           "eat food type avoid fruit",
           16
          ],
          [
           "can a diabetic eat chinese chicken <unk> ?",
           "eat food type avoid fruit",
           16
          ],
          [
           "is it bad if diabetes people eat peach ?",
           "eat food type avoid fruit",
           16
          ],
          [
           "what are the best choices of diabetic food ?",
           "eat food type avoid fruit",
           16
          ],
          [
           "list of <unk> foods to avoid ?",
           "eat food type avoid fruit",
           16
          ],
          [
           "can diabetic patients eat <unk> ?",
           "eat food type avoid fruit",
           16
          ],
          [
           "how many peanuts can a diabetic have ?",
           "eat food type avoid fruit",
           16
          ],
          [
           "can diabetics eat peanuts ?",
           "eat food type avoid fruit",
           16
          ],
          [
           "is it ok to eat bananas if you have diabetes ?",
           "eat food type avoid fruit",
           16
          ],
          [
           "if blood sugar is ninety seven before food is that healthy ?",
           "eat food type avoid fruit",
           16
          ],
          [
           "what is a good list of foods a diabetic should avoid ?",
           "eat food type avoid fruit",
           16
          ],
          [
           "what to do when diabetic wants food not good for them ?",
           "eat food type avoid fruit",
           16
          ],
          [
           "can diabetics eat sago seeds ?",
           "eat food type avoid fruit",
           16
          ],
          [
           "what foods to avoid when borderline diabetic ?",
           "eat food type avoid fruit",
           16
          ],
          [
           "is it bad to eat noodles when you have diabetes ?",
           "eat food type avoid fruit",
           16
          ],
          [
           "what are some diabetic foods to avoid ?",
           "eat food type avoid fruit",
           16
          ],
          [
           "what foods should a diabetic not have ?",
           "eat food type avoid fruit",
           16
          ],
          [
           "are you allow to eat or drink one sugar if you have diabetes ?",
           "eat food type avoid fruit",
           16
          ],
          [
           "are fruits and honey bad for diabetes ?",
           "eat food type avoid fruit",
           16
          ],
          [
           "do people only eat some food if they have diabetes ?",
           "eat food type avoid fruit",
           16
          ],
          [
           "can a diabetic type two eat honey ?",
           "eat food type avoid fruit",
           16
          ],
          [
           "should a diabetic eat fresh mango ?",
           "eat food type avoid fruit",
           16
          ],
          [
           "could i get the fruit name s which diabetic <unk> can eat ?",
           "eat food type avoid fruit",
           16
          ],
          [
           "can diabetes <unk> eat <unk> fruit ?",
           "eat food type avoid fruit",
           16
          ],
          [
           "what foods should a diabetic eat ?",
           "eat food type avoid fruit",
           16
          ],
          [
           "can diabetes type two patients eat mangoes ?",
           "eat food type avoid fruit",
           16
          ]
         ],
         "hovertemplate": "summary=%{customdata[1]}<br>pc_1=%{x}<br>pc_2=%{y}<br>pc_3=%{z}<br>question=%{customdata[0]}<br>label=%{customdata[2]}<extra></extra>",
         "legendgroup": "eat food type avoid fruit",
         "marker": {
          "color": "#FFA15A",
          "size": 8,
          "symbol": "circle"
         },
         "mode": "markers",
         "name": "eat food type avoid fruit",
         "scene": "scene",
         "showlegend": true,
         "type": "scatter3d",
         "x": [
          0.07109097391366959,
          0.2357507050037384,
          0.22042900323867798,
          0.32949191331863403,
          0.07627079635858536,
          0.02364005520939827,
          -0.03792642802000046,
          0.3136262595653534,
          0.1792316436767578,
          0.22462017834186554,
          -0.027058254927396774,
          0.08453687280416489,
          0.011233176104724407,
          0.2062261700630188,
          0.08958540856838226,
          0.13219396770000458,
          0.13898411393165588,
          0.054090581834316254,
          0.07538788765668869,
          0.07457885891199112,
          0.18699292838573456,
          -0.042809415608644485,
          0.06040104106068611,
          0.16875462234020233,
          0.11239307373762131,
          0.04347090423107147,
          0.12090721726417542,
          0.19270682334899902,
          0.23305705189704895,
          -0.004512115381658077,
          0.14546418190002441,
          0.08289407193660736,
          0.2932041883468628,
          0.0647999718785286,
          0.15604431927204132,
          0.16190668940544128,
          0.10000090301036835,
          -0.006518665701150894,
          0.08938298374414444,
          0.10991150885820389,
          0.17594504356384277,
          0.1632312536239624,
          0.08293530344963074,
          -0.03285769745707512,
          0.1659720540046692,
          0.2866325080394745,
          0.04388323426246643,
          0.09362385421991348,
          0.15558642148971558,
          0.07429902255535126,
          0.21301370859146118,
          0.21179470419883728,
          0.199574813246727,
          0.2937762141227722,
          0.07083005458116531,
          -0.08550412952899933,
          0.1669822335243225,
          0.08564183115959167,
          0.13518354296684265,
          0.22371062636375427,
          0.2555491328239441,
          0.17568086087703705,
          0.03262291103601456,
          0.10290209949016571,
          0.16876691579818726,
          0.15287475287914276,
          0.17947347462177277,
          0.14390622079372406,
          0.27030932903289795,
          0.11168355494737625,
          0.1718161553144455,
          0.2612781524658203,
          0.32156965136528015,
          0.13830390572547913,
          0.15219911932945251,
          0.200588658452034,
          0.01612195186316967,
          0.16569110751152039,
          -0.07937166094779968,
          0.15105821192264557,
          0.18935203552246094,
          -0.08352693170309067,
          0.016400529071688652,
          0.19316793978214264,
          0.12165840715169907,
          0.2572984993457794,
          0.02974776364862919,
          0.26232096552848816,
          0.04402259737253189,
          0.25999918580055237,
          0.09941010922193527,
          0.2972007989883423,
          0.07546679675579071,
          0.03895144164562225,
          -0.031762171536684036,
          0.014069506898522377,
          0.22459915280342102,
          0.22770822048187256,
          0.25604477524757385,
          0.07011381536722183,
          -0.06679964065551758,
          0.2670271396636963,
          0.031009051948785782,
          0.20979371666908264,
          0.07419908791780472,
          0.0684150978922844,
          0.16242417693138123,
          0.1625642478466034,
          0.07437831163406372,
          0.14875011146068573,
          0.15312965214252472,
          -0.007810170296579599,
          0.24958159029483795,
          0.07802747189998627,
          0.21600505709648132
         ],
         "y": [
          0.7131343483924866,
          0.42517346143722534,
          0.5697438716888428,
          0.5056794881820679,
          0.7895350456237793,
          0.6527299880981445,
          0.4547896385192871,
          0.5300654768943787,
          0.4471006691455841,
          0.5005229115486145,
          0.5063839554786682,
          0.5209813714027405,
          0.5068875551223755,
          0.5206053256988525,
          0.5852741003036499,
          0.7521199584007263,
          0.5410831570625305,
          0.43987786769866943,
          0.4884529113769531,
          0.49545854330062866,
          0.5468066930770874,
          0.5079478621482849,
          0.5601423978805542,
          0.451947957277298,
          0.6667126417160034,
          0.6314163208007812,
          0.6312991380691528,
          0.5222316980361938,
          0.547881007194519,
          0.48758944869041443,
          0.5436689257621765,
          0.4708814024925232,
          0.506174623966217,
          0.4859780967235565,
          0.4232737123966217,
          0.480751633644104,
          0.7692333459854126,
          0.7464189529418945,
          0.8138853907585144,
          0.7443491816520691,
          0.43866831064224243,
          0.36852115392684937,
          0.5212435126304626,
          0.5036994218826294,
          0.7909464836120605,
          0.5650577545166016,
          0.6665533781051636,
          0.5203914642333984,
          0.36739668250083923,
          0.5869969129562378,
          0.5901872515678406,
          0.47225096821784973,
          0.40418002009391785,
          0.39520886540412903,
          0.588567852973938,
          0.4594559371471405,
          0.7054681181907654,
          0.39484134316444397,
          0.38484764099121094,
          0.29392361640930176,
          0.5144292116165161,
          0.6721353530883789,
          0.3877793848514557,
          0.4467107355594635,
          0.524191677570343,
          0.5888158679008484,
          0.729041576385498,
          0.6819536089897156,
          0.4325372874736786,
          0.6120625734329224,
          0.7975519895553589,
          0.47748297452926636,
          0.43895217776298523,
          0.5390287041664124,
          0.45941779017448425,
          0.3734796643257141,
          0.4513518214225769,
          0.7250074744224548,
          0.4973420202732086,
          0.4838133454322815,
          0.6379202008247375,
          0.5659021735191345,
          0.5507038235664368,
          0.49851319193840027,
          0.48579221963882446,
          0.5660069584846497,
          0.36287033557891846,
          0.5215879082679749,
          0.5291154384613037,
          0.47479885816574097,
          0.5755645632743835,
          0.40646064281463623,
          0.7905343770980835,
          0.7619144320487976,
          0.4047304689884186,
          0.4583616852760315,
          0.45712757110595703,
          0.38022929430007935,
          0.348825067281723,
          0.7264496088027954,
          0.5900536179542542,
          0.4712183475494385,
          0.7165235877037048,
          0.36471596360206604,
          0.7376605868339539,
          0.6922075152397156,
          0.39630866050720215,
          0.39687013626098633,
          0.5085417628288269,
          0.44496631622314453,
          0.49899354577064514,
          0.5460755825042725,
          0.48313403129577637,
          0.675673246383667,
          0.5164230465888977
         ],
         "z": [
          0.023867132142186165,
          -0.1411059945821762,
          -0.10947487503290176,
          -0.05956052616238594,
          -0.05437302961945534,
          -0.15017656981945038,
          -0.11384379118680954,
          0.05625516176223755,
          -0.1949538290500641,
          -0.11323267966508865,
          -0.04150000959634781,
          -0.01439636666327715,
          -0.04307916387915611,
          -0.2748323380947113,
          -0.03266088292002678,
          -0.01723414659500122,
          -0.12145720422267914,
          -0.08135239034891129,
          0.05805206671357155,
          -0.13222947716712952,
          -0.07973376661539078,
          0.042872462421655655,
          -0.13989092409610748,
          -0.04858957231044769,
          -0.13068270683288574,
          -0.08551782369613647,
          -0.12387166172266006,
          -0.012313327752053738,
          0.027152659371495247,
          -0.10419661551713943,
          -0.24320057034492493,
          -0.17201392352581024,
          -0.22020503878593445,
          -0.026536649093031883,
          -0.2983076274394989,
          -0.24659815430641174,
          0.021432681009173393,
          -0.003609870560467243,
          0.06158855929970741,
          -0.05439877510070801,
          -0.2313852310180664,
          -0.004067277070134878,
          0.054899271577596664,
          -0.15819565951824188,
          -0.029298944398760796,
          -0.05653615668416023,
          -0.1978001594543457,
          -0.2024611085653305,
          -0.11322712898254395,
          0.032022662460803986,
          -0.03778610751032829,
          0.0498284287750721,
          -0.026514042168855667,
          -0.0690985918045044,
          -0.19348986446857452,
          -0.029975807294249535,
          -0.17125558853149414,
          -0.007211317773908377,
          -0.05045351758599281,
          -0.16861455142498016,
          -0.053812772035598755,
          -0.1988864541053772,
          -0.11680320650339127,
          -0.2778678834438324,
          0.09291839599609375,
          0.07230228185653687,
          0.03219682350754738,
          -0.04662623256444931,
          -0.21082036197185516,
          1.9845872884616256e-05,
          -0.06549756973981857,
          -0.011370936408638954,
          -0.19768108427524567,
          0.024860231205821037,
          0.05324475094676018,
          0.05874432623386383,
          -0.18322224915027618,
          -0.06175452843308449,
          -0.16765877604484558,
          -0.13090960681438446,
          -0.18586046993732452,
          -0.06391413509845734,
          -0.14211483299732208,
          -0.08923400938510895,
          -0.020416932180523872,
          -0.147284135222435,
          -0.12647487223148346,
          -0.09241689741611481,
          -0.07873065769672394,
          -0.27429160475730896,
          -0.07180748134851456,
          -0.2504855990409851,
          0.10645601153373718,
          -0.16450023651123047,
          0.040843416005373,
          -0.004090227652341127,
          -0.10465283691883087,
          -0.19518938660621643,
          -0.22184966504573822,
          -0.09700773656368256,
          -0.07247801870107651,
          -0.09230384975671768,
          -0.06869398802518845,
          -0.16723491251468658,
          -0.0003565270744729787,
          -0.04988991096615791,
          -0.21517765522003174,
          0.11864623427391052,
          -0.2532326281070709,
          -0.07510721683502197,
          0.017119435593485832,
          0.014798104763031006,
          -0.18523366749286652,
          -0.09368386119604111,
          -0.18361979722976685
         ]
        },
        {
         "customdata": [
          [
           "is <unk> safe for diabetic person ?",
           "safe person work alon god",
           17
          ],
          [
           "is it safe for diabetics to work out alone ?",
           "safe person work alon god",
           17
          ],
          [
           "is god diabetic ?",
           "safe person work alon god",
           17
          ],
          [
           "is ensure safe for diabetics ?",
           "safe person work alon god",
           17
          ],
          [
           "is it safe for a diabetic to get a pedicure ?",
           "safe person work alon god",
           17
          ],
          [
           "is <unk> safe for diabetics ?",
           "safe person work alon god",
           17
          ],
          [
           "is <unk> safe for diabetics ?",
           "safe person work alon god",
           17
          ],
          [
           "is <unk> glucose safe for diabetics ?",
           "safe person work alon god",
           17
          ],
          [
           "are there any rules on <unk> for diabetics ?",
           "safe person work alon god",
           17
          ],
          [
           "is <unk> safe for diabetic ?",
           "safe person work alon god",
           17
          ]
         ],
         "hovertemplate": "summary=%{customdata[1]}<br>pc_1=%{x}<br>pc_2=%{y}<br>pc_3=%{z}<br>question=%{customdata[0]}<br>label=%{customdata[2]}<extra></extra>",
         "legendgroup": "safe person work alon god",
         "marker": {
          "color": "#19d3f3",
          "size": 8,
          "symbol": "circle"
         },
         "mode": "markers",
         "name": "safe person work alon god",
         "scene": "scene",
         "showlegend": true,
         "type": "scatter3d",
         "x": [
          -0.08584489673376083,
          -0.1314900517463684,
          -0.12002870440483093,
          -0.08731035143136978,
          -0.1780400425195694,
          -0.055958688259124756,
          -0.08857666701078415,
          -0.054842423647642136,
          -0.13292275369167328,
          -0.09868137538433075
         ],
         "y": [
          0.44097381830215454,
          0.4584605395793915,
          0.37796929478645325,
          0.4918396472930908,
          0.462361216545105,
          0.4984666705131531,
          0.43492671847343445,
          0.4713965654373169,
          0.42577064037323,
          0.4227074980735779
         ],
         "z": [
          0.1817416548728943,
          0.2808774709701538,
          0.1798410415649414,
          0.3100524842739105,
          0.23590096831321716,
          0.306295245885849,
          0.24860024452209473,
          0.2475125640630722,
          0.35774922370910645,
          0.21212176978588104
         ]
        },
        {
         "customdata": [
          [
           "does <unk> vitamins raise glucose ?",
           "insulin glucos produc vitamin rais",
           13
          ],
          [
           "in response to low blood sugar the alpha cells of the pancreatic islets secrete ?",
           "insulin glucos produc vitamin rais",
           13
          ],
          [
           "how is it that the insulin stops working and or does not produce enough ?",
           "insulin glucos produc vitamin rais",
           13
          ],
          [
           "what insulins can not be mixed with other insulins ?",
           "insulin glucos produc vitamin rais",
           13
          ],
          [
           "what condition results if insulin is not produced ?",
           "insulin glucos produc vitamin rais",
           13
          ],
          [
           "do diabetics lack glucose ?",
           "insulin glucos produc vitamin rais",
           13
          ]
         ],
         "hovertemplate": "summary=%{customdata[1]}<br>pc_1=%{x}<br>pc_2=%{y}<br>pc_3=%{z}<br>question=%{customdata[0]}<br>label=%{customdata[2]}<extra></extra>",
         "legendgroup": "insulin glucos produc vitamin rais",
         "marker": {
          "color": "#FF6692",
          "size": 8,
          "symbol": "circle"
         },
         "mode": "markers",
         "name": "insulin glucos produc vitamin rais",
         "scene": "scene",
         "showlegend": true,
         "type": "scatter3d",
         "x": [
          0.3487549126148224,
          0.3638695776462555,
          0.37022507190704346,
          0.3487423062324524,
          0.3537982404232025,
          0.29124823212623596
         ],
         "y": [
          -0.2916888892650604,
          -0.3275498151779175,
          -0.28877532482147217,
          -0.24243426322937012,
          -0.25136253237724304,
          -0.2697802782058716
         ],
         "z": [
          0.15092530846595764,
          0.06227638199925423,
          0.08484714478254318,
          0.2254938930273056,
          0.06986282765865326,
          0.14145463705062866
         ]
        },
        {
         "customdata": [
          [
           "what is a good treatment for diabetes ?",
           "treatment medic natur good remedi",
           15
          ],
          [
           "what is is the treatment for type one diabetes ?",
           "treatment medic natur good remedi",
           15
          ],
          [
           "oral medications for diabetes ?",
           "treatment medic natur good remedi",
           15
          ],
          [
           "natural remedy for diabetes ?",
           "treatment medic natur good remedi",
           15
          ],
          [
           "what are the natural remedies for diabetes ?",
           "treatment medic natur good remedi",
           15
          ],
          [
           "natural diabetes treatment ?",
           "treatment medic natur good remedi",
           15
          ],
          [
           "<unk> why it is needed for treatment ?",
           "treatment medic natur good remedi",
           15
          ],
          [
           "what supplements help manage diabetes ?",
           "treatment medic natur good remedi",
           15
          ],
          [
           "what is the treatment for diabetes ?",
           "treatment medic natur good remedi",
           15
          ],
          [
           "what is good for diabetes patient ?",
           "treatment medic natur good remedi",
           15
          ],
          [
           "what is the holistic approach to diabetes treatment ?",
           "treatment medic natur good remedi",
           15
          ],
          [
           "is the prognosis good for patients with <unk> ?",
           "treatment medic natur good remedi",
           15
          ],
          [
           "what is the herbal treatment of diabetes ?",
           "treatment medic natur good remedi",
           15
          ],
          [
           "treatment of diabetes ?",
           "treatment medic natur good remedi",
           15
          ],
          [
           "what are the treatment for diabetes ?",
           "treatment medic natur good remedi",
           15
          ],
          [
           "diabetes medications ?",
           "treatment medic natur good remedi",
           15
          ],
          [
           "what medication for diabetes is contraindication for massage to be perform ?",
           "treatment medic natur good remedi",
           15
          ],
          [
           "what are some effective medicines that treat diabetes ?",
           "treatment medic natur good remedi",
           15
          ],
          [
           "what is the most important <unk> for treatment of diabetes two ?",
           "treatment medic natur good remedi",
           15
          ],
          [
           "what is the best natural treatment for adult diabetes ?",
           "treatment medic natur good remedi",
           15
          ],
          [
           "what supplements should be taken for diabetes ?",
           "treatment medic natur good remedi",
           15
          ],
          [
           "what is the <unk> treatment of diabetes ?",
           "treatment medic natur good remedi",
           15
          ],
          [
           "treatments for diabetes ?",
           "treatment medic natur good remedi",
           15
          ],
          [
           "how can diabetes be treated without medications ?",
           "treatment medic natur good remedi",
           15
          ],
          [
           "what is the treatment of both diabetes ?",
           "treatment medic natur good remedi",
           15
          ],
          [
           "what treatments or medications are given to patients with type two diabetes ?",
           "treatment medic natur good remedi",
           15
          ],
          [
           "what is the remedy for diabetes ?",
           "treatment medic natur good remedi",
           15
          ],
          [
           "treatment options for diabetes ?",
           "treatment medic natur good remedi",
           15
          ]
         ],
         "hovertemplate": "summary=%{customdata[1]}<br>pc_1=%{x}<br>pc_2=%{y}<br>pc_3=%{z}<br>question=%{customdata[0]}<br>label=%{customdata[2]}<extra></extra>",
         "legendgroup": "treatment medic natur good remedi",
         "marker": {
          "color": "#B6E880",
          "size": 8,
          "symbol": "circle"
         },
         "mode": "markers",
         "name": "treatment medic natur good remedi",
         "scene": "scene",
         "showlegend": true,
         "type": "scatter3d",
         "x": [
          0.0906820073723793,
          0.09065669029951096,
          0.053069014102220535,
          0.036060452461242676,
          0.2326977699995041,
          0.07376937568187714,
          0.0757223442196846,
          -0.04614020884037018,
          0.08443325012922287,
          0.10565733909606934,
          0.10568248480558395,
          0.12516379356384277,
          0.17678415775299072,
          0.09360326826572418,
          0.19913385808467865,
          0.0513296015560627,
          0.031128879636526108,
          0.11060038954019547,
          0.1466848999261856,
          0.03496372327208519,
          0.1073552593588829,
          0.10168678313493729,
          0.037547145038843155,
          0.05861184000968933,
          0.12657718360424042,
          0.16242197155952454,
          0.04925224930047989,
          0.06953392177820206
         ],
         "y": [
          0.0875626653432846,
          0.04509851336479187,
          -0.09642180800437927,
          -0.0015244267415255308,
          -0.0005302760982885957,
          -0.02143399976193905,
          0.10486670583486557,
          -0.01714005134999752,
          0.05149661377072334,
          0.10474490374326706,
          -0.03995870426297188,
          0.1478041559457779,
          -0.03404979780316353,
          -0.03132908418774605,
          0.008462057448923588,
          -0.08992467820644379,
          0.1169196218252182,
          -0.09052444249391556,
          0.038279857486486435,
          0.04843767359852791,
          0.05361398309469223,
          0.003187445690855384,
          0.04063519835472107,
          -0.08425159752368927,
          -0.0019768436904996634,
          -0.0386437252163887,
          0.04290614277124405,
          0.0011758808977901936
         ],
         "z": [
          0.8091899156570435,
          0.8883775472640991,
          0.8150539398193359,
          0.7535511255264282,
          0.8847956657409668,
          0.7638705372810364,
          0.7692915797233582,
          0.7282545566558838,
          0.8158454298973083,
          0.869015634059906,
          0.8995711803436279,
          0.7763705849647522,
          0.9054377675056458,
          0.8048037886619568,
          0.8662176728248596,
          0.7795639634132385,
          0.7978869080543518,
          0.7119676470756531,
          0.8571283221244812,
          0.9128815531730652,
          0.7071089148521423,
          0.8542718887329102,
          0.6710501909255981,
          0.7060610055923462,
          0.8691765069961548,
          0.7307188510894775,
          0.8338736891746521,
          0.6698765158653259
         ]
        },
        {
         "customdata": [
          [
           "can you die from diabetes mellitus ?",
           "die lead caus peopl blood",
           43
          ],
          [
           "factors that can lead to heart disease ?",
           "die lead caus peopl blood",
           43
          ],
          [
           "can diabetes lead to death ?",
           "die lead caus peopl blood",
           43
          ],
          [
           "can a husband is diabetes be the cause of a <unk> ?",
           "die lead caus peopl blood",
           43
          ],
          [
           "can someone die from diabetes ?",
           "die lead caus peopl blood",
           43
          ],
          [
           "can you die from diabetes ?",
           "die lead caus peopl blood",
           43
          ],
          [
           "is it likely you will die from diabetes ?",
           "die lead caus peopl blood",
           43
          ],
          [
           "can you get diabetes from drinking blood ?",
           "die lead caus peopl blood",
           43
          ],
          [
           "can people not be at risk of diabetes ?",
           "die lead caus peopl blood",
           43
          ],
          [
           "could gingivitis be transmitted by kissing ?",
           "die lead caus peopl blood",
           43
          ],
          [
           "do more people die of aids or diabetes ?",
           "die lead caus peopl blood",
           43
          ],
          [
           "can hyperglycemia lead to kidney failure ?",
           "die lead caus peopl blood",
           43
          ],
          [
           "does <unk> cause diabetes for children ?",
           "die lead caus peopl blood",
           43
          ],
          [
           "can infected teeth cause higher blood sugars ?",
           "die lead caus peopl blood",
           43
          ],
          [
           "can you die from edema ?",
           "die lead caus peopl blood",
           43
          ],
          [
           "can people die of diabetes ?",
           "die lead caus peopl blood",
           43
          ],
          [
           "can you die from <unk> <unk> ?",
           "die lead caus peopl blood",
           43
          ]
         ],
         "hovertemplate": "summary=%{customdata[1]}<br>pc_1=%{x}<br>pc_2=%{y}<br>pc_3=%{z}<br>question=%{customdata[0]}<br>label=%{customdata[2]}<extra></extra>",
         "legendgroup": "die lead caus peopl blood",
         "marker": {
          "color": "#FF97FF",
          "size": 8,
          "symbol": "circle"
         },
         "mode": "markers",
         "name": "die lead caus peopl blood",
         "scene": "scene",
         "showlegend": true,
         "type": "scatter3d",
         "x": [
          -0.5363755226135254,
          -0.3923485279083252,
          -0.4376818835735321,
          -0.49395331740379333,
          -0.4892822802066803,
          -0.4810580015182495,
          -0.5309579968452454,
          -0.42752543091773987,
          -0.5575275421142578,
          -0.5375655889511108,
          -0.5164299011230469,
          -0.4099033772945404,
          -0.36748039722442627,
          -0.4981749951839447,
          -0.4909922778606415,
          -0.5220316052436829,
          -0.4767638146877289
         ],
         "y": [
          -0.03466491773724556,
          -0.07395098358392715,
          -0.07364772260189056,
          -0.10908018797636032,
          0.028293151408433914,
          0.016002831980586052,
          0.04252215474843979,
          0.04204808920621872,
          -0.07890898734331131,
          -0.12941282987594604,
          -0.02299780212342739,
          -0.06233309209346771,
          -0.005971582606434822,
          -0.09015913307666779,
          -0.04962977021932602,
          -0.031231755390763283,
          -0.015165039338171482
         ],
         "z": [
          0.39083588123321533,
          0.4731747508049011,
          0.46296846866607666,
          0.5089461803436279,
          0.36189574003219604,
          0.39700350165367126,
          0.3922368884086609,
          0.4228227138519287,
          0.5154265761375427,
          0.3823273777961731,
          0.5121795535087585,
          0.3778509199619293,
          0.31567075848579407,
          0.4026951193809509,
          0.41509532928466797,
          0.47025370597839355,
          0.41440844535827637
         ]
        },
        {
         "customdata": [
          [
           "are there any <unk> that have diabetes ?",
           "might male frequent urin twin",
           29
          ],
          [
           "why might a male have to frequently urinate ?",
           "might male frequent urin twin",
           29
          ],
          [
           "do any <unk> have diabetes ?",
           "might male frequent urin twin",
           29
          ],
          [
           "if a twin has diabetes do they both have it ?",
           "might male frequent urin twin",
           29
          ],
          [
           "are ther any <unk> with diabetes ?",
           "might male frequent urin twin",
           29
          ],
          [
           "does your dog have diabetes ?",
           "might male frequent urin twin",
           29
          ],
          [
           "why is juvenile diabetes such a concern in australia ?",
           "might male frequent urin twin",
           29
          ],
          [
           "what year did <unk> <unk> have one type of diabetes ?",
           "might male frequent urin twin",
           29
          ],
          [
           "did <unk> <unk> have diabetes ?",
           "might male frequent urin twin",
           29
          ],
          [
           "if your mate has diabetes and you get pregnant what are the odds the baby would have diabetes ?",
           "might male frequent urin twin",
           29
          ],
          [
           "thyroid does it have any relationship with diabetes ?",
           "might male frequent urin twin",
           29
          ]
         ],
         "hovertemplate": "summary=%{customdata[1]}<br>pc_1=%{x}<br>pc_2=%{y}<br>pc_3=%{z}<br>question=%{customdata[0]}<br>label=%{customdata[2]}<extra></extra>",
         "legendgroup": "might male frequent urin twin",
         "marker": {
          "color": "#FECB52",
          "size": 8,
          "symbol": "circle"
         },
         "mode": "markers",
         "name": "might male frequent urin twin",
         "scene": "scene",
         "showlegend": true,
         "type": "scatter3d",
         "x": [
          -0.4573487937450409,
          -0.46946364641189575,
          -0.4319106936454773,
          -0.407132089138031,
          -0.5095732808113098,
          -0.46992871165275574,
          -0.4247582256793976,
          -0.49941495060920715,
          -0.4481220245361328,
          -0.40713226795196533,
          -0.36611035466194153
         ],
         "y": [
          -0.058725353330373764,
          -0.14622677862644196,
          -0.07192080467939377,
          -0.03201007470488548,
          -0.05907827243208885,
          -0.05147426575422287,
          -0.20525532960891724,
          -0.1312873661518097,
          -0.11048363149166107,
          0.008108304813504219,
          -0.15644876658916473
         ],
         "z": [
          -0.021558837965130806,
          -0.030616533011198044,
          0.009200705215334892,
          -0.05319161340594292,
          -0.04124998301267624,
          0.11728522181510925,
          0.02715211734175682,
          0.06876128911972046,
          0.044690679758787155,
          0.04362589865922928,
          0.020652908831834793
         ]
        },
        {
         "customdata": [
          [
           "how can you tell if your cat gets diabetes ?",
           "get wors kid tell cat",
           23
          ],
          [
           "is nick <unk> diabetes getting worse ?",
           "get wors kid tell cat",
           23
          ],
          [
           "why do kids become diabetes ?",
           "get wors kid tell cat",
           23
          ],
          [
           "does <unk> <unk> have diabetes ?",
           "get wors kid tell cat",
           23
          ],
          [
           "is there anything that makes diabetes worse or better ?",
           "get wors kid tell cat",
           23
          ],
          [
           "who investigated diabetes ?",
           "get wors kid tell cat",
           23
          ],
          [
           "does david <unk> have diabetes ?",
           "get wors kid tell cat",
           23
          ],
          [
           "what are chances of kids developing diabetes if father has type1 diabetes ?",
           "get wors kid tell cat",
           23
          ],
          [
           "does lil boosie have diabetes ?",
           "get wors kid tell cat",
           23
          ],
          [
           "how do you know if your male dog has diabetes ?",
           "get wors kid tell cat",
           23
          ],
          [
           "does heredity play a part in diabetes ?",
           "get wors kid tell cat",
           23
          ],
          [
           "does <unk> <unk> have diabetes ?",
           "get wors kid tell cat",
           23
          ],
          [
           "who gets diabetes ?",
           "get wors kid tell cat",
           23
          ],
          [
           "does the <unk> man alive have diabetes ?",
           "get wors kid tell cat",
           23
          ],
          [
           "does <unk> young have diabetes ?",
           "get wors kid tell cat",
           23
          ],
          [
           "does <unk> have diabetes ?",
           "get wors kid tell cat",
           23
          ],
          [
           "does <unk> come from diabetes ?",
           "get wors kid tell cat",
           23
          ],
          [
           "does everyone have diabetes ?",
           "get wors kid tell cat",
           23
          ],
          [
           "does <unk> <unk> still have diabetes ?",
           "get wors kid tell cat",
           23
          ]
         ],
         "hovertemplate": "summary=%{customdata[1]}<br>pc_1=%{x}<br>pc_2=%{y}<br>pc_3=%{z}<br>question=%{customdata[0]}<br>label=%{customdata[2]}<extra></extra>",
         "legendgroup": "get wors kid tell cat",
         "marker": {
          "color": "#636efa",
          "size": 8,
          "symbol": "circle"
         },
         "mode": "markers",
         "name": "get wors kid tell cat",
         "scene": "scene",
         "showlegend": true,
         "type": "scatter3d",
         "x": [
          -0.21760231256484985,
          -0.20290155708789825,
          -0.2171182781457901,
          -0.3974267244338989,
          -0.21487191319465637,
          -0.21423150599002838,
          -0.3993757963180542,
          -0.2996825575828552,
          -0.3453510105609894,
          -0.21802625060081482,
          -0.2792389690876007,
          -0.3246091306209564,
          -0.24962985515594482,
          -0.3649604618549347,
          -0.3039858341217041,
          -0.39328455924987793,
          -0.3216313421726227,
          -0.2887682616710663,
          -0.3346549868583679
         ],
         "y": [
          0.07289613038301468,
          -0.10177939385175705,
          -0.009485521353781223,
          -0.11657830327749252,
          -0.09968116879463196,
          -0.0611630454659462,
          -0.11567133665084839,
          0.0021514485124498606,
          -0.08382146805524826,
          0.04802221059799194,
          -0.04382386431097984,
          -0.05925988405942917,
          -0.054407957941293716,
          -0.0584503710269928,
          -0.03581281006336212,
          -0.09641745686531067,
          -0.09637242555618286,
          -0.054960206151008606,
          -0.0868995264172554
         ],
         "z": [
          0.1552126258611679,
          0.13631588220596313,
          0.16755621135234833,
          0.038716480135917664,
          0.10187909007072449,
          0.24999026954174042,
          0.10740426927804947,
          0.17838960886001587,
          0.014882329851388931,
          0.12586164474487305,
          0.06381472200155258,
          0.11554312705993652,
          0.22320556640625,
          0.16075673699378967,
          0.20027747750282288,
          0.056607577949762344,
          0.17262905836105347,
          0.1458945870399475,
          0.10895662754774094
         ]
        },
        {
         "customdata": [
          [
           "who invented insulin ?",
           "insulin invent discov year frederick",
           27
          ],
          [
           "how was insulin invented ?",
           "insulin invent discov year frederick",
           27
          ],
          [
           "where is insulin was invented ?",
           "insulin invent discov year frederick",
           27
          ],
          [
           "insulin was discovered by ?",
           "insulin invent discov year frederick",
           27
          ],
          [
           "how did frederick banting conduct the experiment to discover insulin ?",
           "insulin invent discov year frederick",
           27
          ],
          [
           "what year was the insulin pump invented ?",
           "insulin invent discov year frederick",
           27
          ],
          [
           "when was insulin invented ?",
           "insulin invent discov year frederick",
           27
          ],
          [
           "in what year was insulin invented ?",
           "insulin invent discov year frederick",
           27
          ],
          [
           "who discovered how to make insulin ?",
           "insulin invent discov year frederick",
           27
          ]
         ],
         "hovertemplate": "summary=%{customdata[1]}<br>pc_1=%{x}<br>pc_2=%{y}<br>pc_3=%{z}<br>question=%{customdata[0]}<br>label=%{customdata[2]}<extra></extra>",
         "legendgroup": "insulin invent discov year frederick",
         "marker": {
          "color": "#EF553B",
          "size": 8,
          "symbol": "circle"
         },
         "mode": "markers",
         "name": "insulin invent discov year frederick",
         "scene": "scene",
         "showlegend": true,
         "type": "scatter3d",
         "x": [
          0.574941098690033,
          0.5531900525093079,
          0.6055407524108887,
          0.4793364703655243,
          0.5515521764755249,
          0.6309335827827454,
          0.523401141166687,
          0.6123089790344238,
          0.570537805557251
         ],
         "y": [
          -0.5527739524841309,
          -0.5064665675163269,
          -0.5241584181785583,
          -0.514207661151886,
          -0.5617605447769165,
          -0.5142841935157776,
          -0.5060493350028992,
          -0.5332878828048706,
          -0.5688439607620239
         ],
         "z": [
          0.2634051740169525,
          0.2966042160987854,
          0.25055739283561707,
          0.26059579849243164,
          0.37920036911964417,
          0.3386847972869873,
          0.27111080288887024,
          0.31745433807373047,
          0.3266552984714508
         ]
        },
        {
         "customdata": [
          [
           "defeat diabetes with the glycemic impact diet ?",
           "diet type two plan good",
           33
          ],
          [
           "do the diabetes diet guidelines help people with diabetes manage their eating ?",
           "diet type two plan good",
           33
          ],
          [
           "what is a good diet for someone with arthritis ?",
           "diet type two plan good",
           33
          ],
          [
           "what is the best diet for someone who is diabetic ?",
           "diet type two plan good",
           33
          ],
          [
           "diabetes diet meal plan ?",
           "diet type two plan good",
           33
          ],
          [
           "what are some foods used when creating a diabetic diet plan ?",
           "diet type two plan good",
           33
          ],
          [
           "what diet is the best to follow for someone with diabetes ?",
           "diet type two plan good",
           33
          ],
          [
           "what are some of the restrictions of a diabetes diet ?",
           "diet type two plan good",
           33
          ],
          [
           "is a diabetic diet plan healthy ?",
           "diet type two plan good",
           33
          ],
          [
           "what is a sample diabetic diet menu ?",
           "diet type two plan good",
           33
          ],
          [
           "diabetes diet menu ?",
           "diet type two plan good",
           33
          ],
          [
           "how can an unbalanced diet lead to type two diabetes ?",
           "diet type two plan good",
           33
          ],
          [
           "what are some of the popular diet <unk> for a sugar diabetic ?",
           "diet type two plan good",
           33
          ],
          [
           "what is a typical diabetic diet ?",
           "diet type two plan good",
           33
          ],
          [
           "following a type two diabetes diet ?",
           "diet type two plan good",
           33
          ],
          [
           "what type of diet is people with type two diabetes ?",
           "diet type two plan good",
           33
          ],
          [
           "what recipes can i make to suit my diabetic diet ?",
           "diet type two plan good",
           33
          ],
          [
           "how can i get good information on avoiding the onset of diabetes ?",
           "diet type two plan good",
           33
          ],
          [
           "what would be a good diabetic diet for someone with diabetes ?",
           "diet type two plan good",
           33
          ],
          [
           "how can having a unhealthy diet lead to having diabetes ?",
           "diet type two plan good",
           33
          ],
          [
           "what type of diabetes can be managed and disappear if you <unk> a healthy diet ?",
           "diet type two plan good",
           33
          ],
          [
           "how can unbalanced diet contribute to diabetes ?",
           "diet type two plan good",
           33
          ],
          [
           "what is a good diet plan for a person with diabetes ?",
           "diet type two plan good",
           33
          ],
          [
           "what type of diet is recommend for type two diabetes ?",
           "diet type two plan good",
           33
          ],
          [
           "why type of diet should type two diabetics stay on ?",
           "diet type two plan good",
           33
          ],
          [
           "what is the best diet for diabetics ?",
           "diet type two plan good",
           33
          ],
          [
           "how important is diabetes diet chart with type two form of diabetes ?",
           "diet type two plan good",
           33
          ],
          [
           "what is a good diet to keep your sugar levels down ?",
           "diet type two plan good",
           33
          ],
          [
           "how does a high-fiber diet help to treat diabetes and obesity ?",
           "diet type two plan good",
           33
          ],
          [
           "why do you need a balanced diet ?",
           "diet type two plan good",
           33
          ],
          [
           "what diet do i need to take for diabetes type two ?",
           "diet type two plan good",
           33
          ],
          [
           "what can an unbalanced diet lead to when you are a diabetic ?",
           "diet type two plan good",
           33
          ],
          [
           "what type of diets for weight loss are best for a type two diabetic ?",
           "diet type two plan good",
           33
          ],
          [
           "what is an effective diet for diabetes type two ?",
           "diet type two plan good",
           33
          ],
          [
           "would the diabetes type two diet work for those who have type one ?",
           "diet type two plan good",
           33
          ],
          [
           "do people without diabetes benefit from a diabetic diet ?",
           "diet type two plan good",
           33
          ],
          [
           "what kind of diet is good for diabetics ?",
           "diet type two plan good",
           33
          ],
          [
           "what is a healthy type ii diabetes diet plan ?",
           "diet type two plan good",
           33
          ],
          [
           "asking about best diet for someone with diabetic . ?",
           "diet type two plan good",
           33
          ],
          [
           "what are some diabetic menu planner ideas ?",
           "diet type two plan good",
           33
          ],
          [
           "what kind of diet plan will you need with type two diabetes ?",
           "diet type two plan good",
           33
          ],
          [
           "what is the recommended diet for treatment and/or prevention of diabetic neuropathy ?",
           "diet type two plan good",
           33
          ],
          [
           "what should be in a diabetic is diet book ?",
           "diet type two plan good",
           33
          ],
          [
           "trying a diabetes diet ?",
           "diet type two plan good",
           33
          ],
          [
           "what are the key categories of a diabetic diet ?",
           "diet type two plan good",
           33
          ],
          [
           "cutting white bread in a diabetic diet ?",
           "diet type two plan good",
           33
          ],
          [
           "what should be included in a diabetic diet ?",
           "diet type two plan good",
           33
          ],
          [
           "what are good diet plans for a diabetic patient ?",
           "diet type two plan good",
           33
          ],
          [
           "what famous people are on a diabetic diet ?",
           "diet type two plan good",
           33
          ],
          [
           "what is the best bread for type two diabetes ?",
           "diet type two plan good",
           33
          ],
          [
           "what is a diabetic exchange diet ?",
           "diet type two plan good",
           33
          ],
          [
           "what kind of diet is recommended for diabetics ?",
           "diet type two plan good",
           33
          ],
          [
           "how can i get diabetes diet <unk> for someone with serious diabetis ?",
           "diet type two plan good",
           33
          ],
          [
           "what kind of diet should you be on if you have diabetes ?",
           "diet type two plan good",
           33
          ],
          [
           "what is a good diet for a diabetic ?",
           "diet type two plan good",
           33
          ],
          [
           "what is the best type one diabetes diet to go on ?",
           "diet type two plan good",
           33
          ],
          [
           "what is involved in a diabetic diet ?",
           "diet type two plan good",
           33
          ],
          [
           "how easy is it to stick to a diet for diabetes ?",
           "diet type two plan good",
           33
          ],
          [
           "which foods should be avoided while on a type two diabetes diet ?",
           "diet type two plan good",
           33
          ],
          [
           "what is the diet plan for diabetics ?",
           "diet type two plan good",
           33
          ],
          [
           "what is a healthy diet for a diabetic with type two diabetes ?",
           "diet type two plan good",
           33
          ],
          [
           "overcoming challenges with a diabetes diet for seniors ?",
           "diet type two plan good",
           33
          ],
          [
           "how can a bad diet and lack of exercise cause diabetes ?",
           "diet type two plan good",
           33
          ],
          [
           "what is an ideal diet for a diabetic ?",
           "diet type two plan good",
           33
          ],
          [
           "diabetic diet menu ?",
           "diet type two plan good",
           33
          ],
          [
           "what is the normal diet for people with diabetes ?",
           "diet type two plan good",
           33
          ],
          [
           "what is the allowable sugar intake a day for a diabetic ?",
           "diet type two plan good",
           33
          ],
          [
           "why do diabetics need a balanced diet ?",
           "diet type two plan good",
           33
          ],
          [
           "what are some simple diet plans for a diabetic ?",
           "diet type two plan good",
           33
          ],
          [
           "what is the right diet for diabetics ?",
           "diet type two plan good",
           33
          ]
         ],
         "hovertemplate": "summary=%{customdata[1]}<br>pc_1=%{x}<br>pc_2=%{y}<br>pc_3=%{z}<br>question=%{customdata[0]}<br>label=%{customdata[2]}<extra></extra>",
         "legendgroup": "diet type two plan good",
         "marker": {
          "color": "#00cc96",
          "size": 8,
          "symbol": "circle"
         },
         "mode": "markers",
         "name": "diet type two plan good",
         "scene": "scene",
         "showlegend": true,
         "type": "scatter3d",
         "x": [
          -0.17915408313274384,
          -0.19328215718269348,
          -0.07433871179819107,
          0.04128522425889969,
          -0.21001695096492767,
          -0.040197521448135376,
          -0.10318519920110703,
          0.05900886282324791,
          -0.12196101993322372,
          -0.12218194454908371,
          -0.1767764836549759,
          -0.24635687470436096,
          -0.006210196763277054,
          0.028884440660476685,
          -0.3193817734718323,
          -0.21864990890026093,
          -0.11322774738073349,
          -0.30936428904533386,
          -0.09563303738832474,
          -0.28887611627578735,
          -0.3107410669326782,
          -0.25488173961639404,
          -0.09654537588357925,
          -0.1861811876296997,
          -0.27335959672927856,
          0.0513727143406868,
          -0.3109518587589264,
          -0.12620411813259125,
          -0.2130587249994278,
          -0.16697265207767487,
          -0.23867741227149963,
          -0.23702478408813477,
          -0.36634141206741333,
          -0.17562150955200195,
          -0.29905155301094055,
          -0.13024494051933289,
          0.02613515406847,
          -0.22071628272533417,
          -0.042868297547101974,
          -0.06521818786859512,
          -0.23653914034366608,
          -0.025375796481966972,
          -0.018852703273296356,
          -0.1597306877374649,
          0.0489727146923542,
          -0.06347887217998505,
          -0.04083251953125,
          -0.07021889090538025,
          0.02052547223865986,
          0.082706019282341,
          -0.027058878913521767,
          0.010434978641569614,
          -0.3162026107311249,
          -0.16688132286071777,
          -0.014716002158820629,
          -0.14807434380054474,
          0.009927503764629364,
          -0.17773523926734924,
          -0.353254497051239,
          0.02289229817688465,
          -0.284866064786911,
          -0.3715251088142395,
          -0.30121132731437683,
          0.017664747312664986,
          -0.14567673206329346,
          -0.064750075340271,
          0.10563084483146667,
          -0.1471126675605774,
          -0.056286100298166275,
          0.04997037351131439
         ],
         "y": [
          0.6377567648887634,
          0.7433563470840454,
          0.6406052708625793,
          0.6982090473175049,
          0.7819895148277283,
          0.7785375118255615,
          0.7017710208892822,
          0.7256172895431519,
          0.7109026312828064,
          0.8018954992294312,
          0.7612111568450928,
          0.6581500768661499,
          0.726140558719635,
          0.7938295006752014,
          0.7249841094017029,
          0.7109642028808594,
          0.7581000924110413,
          0.5712860822677612,
          0.6672825217247009,
          0.6343966126441956,
          0.6708404421806335,
          0.6249422430992126,
          0.6948819756507874,
          0.7383291721343994,
          0.7816654443740845,
          0.6813957095146179,
          0.6886293888092041,
          0.7412691116333008,
          0.7037431597709656,
          0.7959785461425781,
          0.7610542178153992,
          0.6616131663322449,
          0.7584418654441833,
          0.7644397020339966,
          0.7754791975021362,
          0.6724835634231567,
          0.6791307926177979,
          0.7341760993003845,
          0.6579923033714294,
          0.8397856950759888,
          0.7564632296562195,
          0.6368837952613831,
          0.7339824438095093,
          0.7121486067771912,
          0.7730065584182739,
          0.7136226296424866,
          0.732975423336029,
          0.7950590252876282,
          0.7878096699714661,
          0.6319539546966553,
          0.7545526027679443,
          0.6775310039520264,
          0.6344320774078369,
          0.6147667765617371,
          0.7146836519241333,
          0.7132947444915771,
          0.7832188606262207,
          0.7024369835853577,
          0.7301256656646729,
          0.6944082379341125,
          0.7097412943840027,
          0.6373513340950012,
          0.5983806252479553,
          0.7299838066101074,
          0.7571136951446533,
          0.7769898176193237,
          0.739480197429657,
          0.8069332242012024,
          0.7932189106941223,
          0.7068639397621155
         ],
         "z": [
          0.5167180895805359,
          0.2615085542201996,
          0.48604363203048706,
          0.4899808168411255,
          0.20162002742290497,
          0.2048303484916687,
          0.4905135929584503,
          0.26137006282806396,
          0.3027350604534149,
          0.160661518573761,
          0.17470312118530273,
          0.524065375328064,
          0.2345585823059082,
          0.4325709640979767,
          0.531209409236908,
          0.595187246799469,
          0.19579154253005981,
          0.45601001381874084,
          0.3986037075519562,
          0.4713122844696045,
          0.41180387139320374,
          0.5045651793479919,
          0.4335402548313141,
          0.572975218296051,
          0.4766722619533539,
          0.3676690459251404,
          0.5656855702400208,
          0.41066357493400574,
          0.31819432973861694,
          0.36670443415641785,
          0.4272758662700653,
          0.43996042013168335,
          0.4609464108943939,
          0.531708300113678,
          0.5289753079414368,
          0.2505466043949127,
          0.4325464367866516,
          0.505116879940033,
          0.4001297652721405,
          0.17529648542404175,
          0.39272215962409973,
          0.27442941069602966,
          0.32812801003456116,
          0.3373800814151764,
          0.16858242452144623,
          0.25106996297836304,
          0.29461050033569336,
          0.29252949357032776,
          0.32688602805137634,
          0.3918338716030121,
          0.3741070628166199,
          0.33609265089035034,
          0.42178940773010254,
          0.3904380798339844,
          0.44243916869163513,
          0.506924033164978,
          0.38004937767982483,
          0.4068639576435089,
          0.5143366456031799,
          0.30137696862220764,
          0.4898722171783447,
          0.4705028235912323,
          0.4974473714828491,
          0.4397149682044983,
          0.15143515169620514,
          0.46731749176979065,
          0.4028822183609009,
          0.3458058834075928,
          0.2553393244743347,
          0.33836624026298523
         ]
        },
        {
         "customdata": [
          [
           "does stress cause high blood pressure ?",
           "caus blood high sugar low",
           34
          ],
          [
           "what causes hypoglycemia on a diabetic ?",
           "caus blood high sugar low",
           34
          ],
          [
           "what causes <unk> ?",
           "caus blood high sugar low",
           34
          ],
          [
           "what causes eye bleeding ?",
           "caus blood high sugar low",
           34
          ],
          [
           "what causes inflammation of organs ?",
           "caus blood high sugar low",
           34
          ],
          [
           "how low can blood sugar go before is causes lost consciousness ?",
           "caus blood high sugar low",
           34
          ],
          [
           "is diabetes the only thing that causes high blood sugars ?",
           "caus blood high sugar low",
           34
          ],
          [
           "what causes <unk> ?",
           "caus blood high sugar low",
           34
          ],
          [
           "what can cause hypoglycemia ?",
           "caus blood high sugar low",
           34
          ],
          [
           "what causes low <unk> in the blood ?",
           "caus blood high sugar low",
           34
          ],
          [
           "can viral gastroenteritis cause a rise in blood sugar ?",
           "caus blood high sugar low",
           34
          ],
          [
           "what causes high triglycerides please ?",
           "caus blood high sugar low",
           34
          ],
          [
           "is there a cause for <unk> and what causes it ?",
           "caus blood high sugar low",
           34
          ],
          [
           "what finally causes the <unk> to fall ?",
           "caus blood high sugar low",
           34
          ],
          [
           "what are causes of high blood sugar ?",
           "caus blood high sugar low",
           34
          ],
          [
           "what causes high blood sugar ?",
           "caus blood high sugar low",
           34
          ],
          [
           "what causes tightening of stomach in men ?",
           "caus blood high sugar low",
           34
          ],
          [
           "what causes hyperglycemia ?",
           "caus blood high sugar low",
           34
          ],
          [
           "what is the cause of low blood pressure ?",
           "caus blood high sugar low",
           34
          ]
         ],
         "hovertemplate": "summary=%{customdata[1]}<br>pc_1=%{x}<br>pc_2=%{y}<br>pc_3=%{z}<br>question=%{customdata[0]}<br>label=%{customdata[2]}<extra></extra>",
         "legendgroup": "caus blood high sugar low",
         "marker": {
          "color": "#ab63fa",
          "size": 8,
          "symbol": "circle"
         },
         "mode": "markers",
         "name": "caus blood high sugar low",
         "scene": "scene",
         "showlegend": true,
         "type": "scatter3d",
         "x": [
          0.28628191351890564,
          0.16552269458770752,
          0.18407927453517914,
          0.098116934299469,
          0.16693252325057983,
          0.29071876406669617,
          0.25513550639152527,
          0.192148819565773,
          0.19238190352916718,
          0.26880767941474915,
          0.19932472705841064,
          0.257322758436203,
          0.19619865715503693,
          0.19687342643737793,
          0.3093562126159668,
          0.28652331233024597,
          0.1295386254787445,
          0.20764091610908508,
          0.28766804933547974
         ],
         "y": [
          -0.15683817863464355,
          -0.12437377870082855,
          -0.12355893105268478,
          -0.12284379452466965,
          -0.15528789162635803,
          -0.045685045421123505,
          -0.09601388871669769,
          -0.10397731512784958,
          -0.11170441657304764,
          -0.12719912827014923,
          -0.0628018006682396,
          -0.1780497133731842,
          -0.06533568352460861,
          -0.0759192630648613,
          -0.10435266047716141,
          -0.09387083351612091,
          -0.14035099744796753,
          -0.12066579610109329,
          -0.15700414776802063
         ],
         "z": [
          -0.0024861914571374655,
          0.0535799041390419,
          -0.08803678303956985,
          -0.11072435230016708,
          -0.1427767127752304,
          -0.13263440132141113,
          -0.011957485228776932,
          -0.10658296197652817,
          0.03932400792837143,
          -0.09085202217102051,
          0.03787089139223099,
          -0.17229028046131134,
          -0.027757329866290092,
          -0.15158972144126892,
          -0.14554613828659058,
          -0.11527322232723236,
          -0.06780155003070831,
          -0.033383917063474655,
          -0.06213918328285217
         ]
        },
        {
         "customdata": [
          [
           "how not to get diabetes ?",
           "get type know two one",
           22
          ],
          [
           "how do you know if your hamster is diabetic ?",
           "get type know two one",
           22
          ],
          [
           "why are overweight people more likely to get diabetes ?",
           "get type know two one",
           22
          ],
          [
           "how do you get diabetes ?",
           "get type know two one",
           22
          ],
          [
           "your dad has diabetes how can he get rid of them forever ?",
           "get type know two one",
           22
          ],
          [
           "how do you get diabetes two ?",
           "get type know two one",
           22
          ],
          [
           "why do diabetics loose <unk> ?",
           "get type know two one",
           22
          ],
          [
           "why do you urinate more often with diabetes ?",
           "get type know two one",
           22
          ],
          [
           "why did you get diabetes ?",
           "get type know two one",
           22
          ],
          [
           "how does type one diabetes go away ?",
           "get type know two one",
           22
          ],
          [
           "how do you know if it is type one diabetes ?",
           "get type know two one",
           22
          ],
          [
           "how do you know if you have type two diabetes ?",
           "get type know two one",
           22
          ],
          [
           "how you can get a diabetes mellitus ?",
           "get type know two one",
           22
          ],
          [
           "how do you get juvenile diabetes ?",
           "get type know two one",
           22
          ],
          [
           "how diabetes happens ?",
           "get type know two one",
           22
          ],
          [
           "how can you get rid of diabetes ?",
           "get type know two one",
           22
          ],
          [
           "how can you tell you have diabetes ?",
           "get type know two one",
           22
          ],
          [
           "what do you do if you have diabetes and you suddenly feel weak ?",
           "get type know two one",
           22
          ],
          [
           "what do you eat when you have diabetes ?",
           "get type know two one",
           22
          ],
          [
           "how do you get diabet es ?",
           "get type know two one",
           22
          ],
          [
           "as we get older why do are bones get <unk> and <unk> ?",
           "get type know two one",
           22
          ],
          [
           "how do you know if it is a type1 or type2 diabetes ?",
           "get type know two one",
           22
          ],
          [
           "why does diabetes suck so much ?",
           "get type know two one",
           22
          ],
          [
           "how do you get type three diabetes ?",
           "get type know two one",
           22
          ],
          [
           "how do you <unk> diabetes type one ?",
           "get type know two one",
           22
          ],
          [
           "how can you not get diabetes ?",
           "get type know two one",
           22
          ],
          [
           "how do people get type one diabetes ?",
           "get type know two one",
           22
          ],
          [
           "how do you catch type one diabetes ?",
           "get type know two one",
           22
          ],
          [
           "how do you get diabetes mellitus ?",
           "get type know two one",
           22
          ],
          [
           "do <unk> get diabetes easily ?",
           "get type know two one",
           22
          ],
          [
           "how long does it take to get rid of diabetes ?",
           "get type know two one",
           22
          ],
          [
           "what do burps <unk> in a person with diabetes ?",
           "get type know two one",
           22
          ],
          [
           "how did you get diabetes ?",
           "get type know two one",
           22
          ],
          [
           "what do you eat to get diabetes ?",
           "get type know two one",
           22
          ],
          [
           "how do you know if you have got diabetes ?",
           "get type know two one",
           22
          ],
          [
           "how do you know if it is type two diabetes ?",
           "get type know two one",
           22
          ],
          [
           "how do you prevent kidney damage ?",
           "get type know two one",
           22
          ],
          [
           "why do you experience severe cramps after taking insulin ?",
           "get type know two one",
           22
          ],
          [
           "how long will you with diabetes ?",
           "get type know two one",
           22
          ],
          [
           "what do you do if you have diabetes mellitus ?",
           "get type know two one",
           22
          ],
          [
           "how do you talk your mom into letting you get a diabetes test ?",
           "get type know two one",
           22
          ],
          [
           "how do you give yourself type one diabetes ?",
           "get type know two one",
           22
          ],
          [
           "what would you have if you had <unk> ?",
           "get type know two one",
           22
          ],
          [
           "what do you do if you have diabetes ?",
           "get type know two one",
           22
          ],
          [
           "how do you develop diabetes two ?",
           "get type know two one",
           22
          ],
          [
           "how do you prevent type one diabetes ?",
           "get type know two one",
           22
          ],
          [
           "do <unk> <unk> ?",
           "get type know two one",
           22
          ],
          [
           "why do not people <unk> diabetes ?",
           "get type know two one",
           22
          ],
          [
           "how can you pass diabetes to your children ?",
           "get type know two one",
           22
          ],
          [
           "how do you prevent heredity diabetes type two ?",
           "get type know two one",
           22
          ],
          [
           "how can you deal with diabetes ?",
           "get type know two one",
           22
          ],
          [
           "how can you tell that you have diabetes if you did not have it before ?",
           "get type know two one",
           22
          ],
          [
           "what do people with diabetes do not produce enough ?",
           "get type know two one",
           22
          ],
          [
           "can you make your <unk> on <unk> three have diabetes and how ?",
           "get type know two one",
           22
          ],
          [
           "what is do you have to wear when you have diabetes ?",
           "get type know two one",
           22
          ],
          [
           "how do you get diabetes type two ?",
           "get type know two one",
           22
          ],
          [
           "do you need math for diabetes ?",
           "get type know two one",
           22
          ],
          [
           "how do you get diabetes i want to have it ?",
           "get type know two one",
           22
          ],
          [
           "how do diabetes happen ?",
           "get type know two one",
           22
          ],
          [
           "how do you avoid diabetes ?",
           "get type know two one",
           22
          ],
          [
           "what happens if you do not control diabetes ?",
           "get type know two one",
           22
          ],
          [
           "why does eating slowly prevents type two diabetes ?",
           "get type know two one",
           22
          ],
          [
           "why can not you get a new pancreas if you have diabetes ?",
           "get type know two one",
           22
          ],
          [
           "why do people get diabetes ?",
           "get type know two one",
           22
          ],
          [
           "why do doctors think diabetes might be a virus ?",
           "get type know two one",
           22
          ],
          [
           "what do you have when you have trouble <unk> things ?",
           "get type know two one",
           22
          ],
          [
           "do you know anything about diabetes ?",
           "get type know two one",
           22
          ],
          [
           "what do you do if you get diabetes ?",
           "get type know two one",
           22
          ],
          [
           "how can you stop diabetes from affecting you ?",
           "get type know two one",
           22
          ]
         ],
         "hovertemplate": "summary=%{customdata[1]}<br>pc_1=%{x}<br>pc_2=%{y}<br>pc_3=%{z}<br>question=%{customdata[0]}<br>label=%{customdata[2]}<extra></extra>",
         "legendgroup": "get type know two one",
         "marker": {
          "color": "#FFA15A",
          "size": 8,
          "symbol": "circle"
         },
         "mode": "markers",
         "name": "get type know two one",
         "scene": "scene",
         "showlegend": true,
         "type": "scatter3d",
         "x": [
          -0.13397173583507538,
          0.14237773418426514,
          -0.11807620525360107,
          -0.07265669852495193,
          -0.2099999487400055,
          -0.04998905584216118,
          -0.13740694522857666,
          0.023439891636371613,
          -0.12879332900047302,
          -0.036139849573373795,
          0.06791636347770691,
          0.020729992538690567,
          -0.019200995564460754,
          -0.17267577350139618,
          0.10984835773706436,
          -0.12393997609615326,
          -0.027605488896369934,
          0.04833149537444115,
          0.16890321671962738,
          -0.030892901122570038,
          -0.14595980942249298,
          0.10920780152082443,
          -0.13150721788406372,
          -0.03091755136847496,
          -0.02560408040881157,
          -0.14105895161628723,
          -0.00092064228374511,
          -0.05916594713926315,
          0.07595691829919815,
          -0.21938900649547577,
          -0.1209692507982254,
          0.01645496115088463,
          -0.11336489766836166,
          -0.11966513097286224,
          -0.0741085484623909,
          0.05346786975860596,
          0.004320318810641766,
          0.08862075954675674,
          -0.0417499765753746,
          0.09831087291240692,
          -0.10807181894779205,
          -0.026509491726756096,
          0.06265019625425339,
          0.1232752799987793,
          0.03623896837234497,
          -0.04799969866871834,
          -0.16940420866012573,
          -0.11247283965349197,
          -0.158492773771286,
          -0.03286062926054001,
          -0.01761358603835106,
          0.02516988106071949,
          -0.1495610922574997,
          -0.03653261438012123,
          0.08924481272697449,
          -0.004460094030946493,
          -0.17234912514686584,
          -0.0711076632142067,
          0.1087910607457161,
          -0.052569009363651276,
          0.10065890848636627,
          -0.023095211014151573,
          -0.10718679428100586,
          -0.11294668912887573,
          -0.05090605095028877,
          0.07785776257514954,
          -0.056544702500104904,
          0.12466540932655334,
          -0.06879856437444687
         ],
         "y": [
          0.021019989624619484,
          0.11054471135139465,
          -0.07196636497974396,
          0.058984048664569855,
          0.09271622449159622,
          0.0603354349732399,
          -0.0021683047525584698,
          0.025085339322686195,
          -0.017633970826864243,
          -0.057288363575935364,
          0.06279191374778748,
          0.057918865233659744,
          0.022926582023501396,
          0.031236441805958748,
          -0.057288724929094315,
          0.08282466977834702,
          0.0709908977150917,
          0.02511168085038662,
          0.06966380774974823,
          0.1216365322470665,
          0.06718470901250839,
          0.08811690658330917,
          -0.053313687443733215,
          0.02612585388123989,
          -0.022097546607255936,
          0.06804908066987991,
          -0.04793275520205498,
          -0.02516636811196804,
          -0.028527136892080307,
          0.044337909668684006,
          0.12719029188156128,
          -0.06971479952335358,
          0.010514088906347752,
          0.05106083303689957,
          0.049603939056396484,
          0.06722211837768555,
          0.1267554759979248,
          -0.0031566123943775892,
          0.15880757570266724,
          -0.0006453680107370019,
          0.07940197736024857,
          0.01844525896012783,
          0.10376647114753723,
          0.040457434952259064,
          0.01590304635465145,
          0.02347744256258011,
          0.009202300570905209,
          -0.032614801079034805,
          0.11007716506719589,
          0.04045873507857323,
          0.12669792771339417,
          0.11389469355344772,
          0.0121171148493886,
          0.10773780196905136,
          0.055815231055021286,
          0.00826876237988472,
          0.08655306696891785,
          0.07579367607831955,
          -0.03168404847383499,
          0.05983688682317734,
          0.0023760367184877396,
          -0.02894585207104683,
          0.10290572047233582,
          -0.015609223395586014,
          0.0743662416934967,
          0.07799838483333588,
          0.016470402479171753,
          0.03882112726569176,
          0.0256386399269104
         ],
         "z": [
          0.2753668427467346,
          0.16919846832752228,
          0.0633559376001358,
          0.1984388679265976,
          0.2654121518135071,
          0.16475608944892883,
          -0.08786501735448837,
          -0.026064038276672363,
          0.2033417969942093,
          0.256881982088089,
          0.24678291380405426,
          0.1796853244304657,
          0.09152134507894516,
          0.17118124663829803,
          0.2755572199821472,
          0.28775185346603394,
          0.07760313153266907,
          -0.07263278216123581,
          0.11625660210847855,
          0.2636955678462982,
          -0.11096013337373734,
          0.2185402512550354,
          0.16179217398166656,
          0.15877783298492432,
          0.29081687331199646,
          0.26414167881011963,
          0.3232257664203644,
          0.30903688073158264,
          0.13235566020011902,
          0.23297230899333954,
          0.2042817920446396,
          -0.011332865804433823,
          0.23410920798778534,
          -0.0296326857060194,
          -0.01129772700369358,
          0.2182294726371765,
          0.3226929008960724,
          -0.09179394692182541,
          0.1729031205177307,
          0.11195444315671921,
          0.1033371090888977,
          0.2060607671737671,
          -0.015670189633965492,
          0.13108310103416443,
          0.3020172715187073,
          0.34151721000671387,
          -0.05946426838636398,
          0.04659854993224144,
          0.30499446392059326,
          0.3701578378677368,
          0.1484338939189911,
          -0.012674723751842976,
          0.02882537618279457,
          0.07699322700500488,
          0.08570157736539841,
          0.28668728470802307,
          0.023743918165564537,
          0.03920193016529083,
          0.2592885196208954,
          0.29861193895339966,
          0.2024720460176468,
          0.1710623949766159,
          -0.03528224304318428,
          0.005942508112639189,
          -0.07112164050340652,
          0.011180942878127098,
          -0.017456570640206337,
          0.16856539249420166,
          0.08286488056182861
         ]
        },
        {
         "customdata": [
          [
           "is it normal to have low blood sugar ?",
           "blood sugar low high level",
           42
          ],
          [
           "can too much honey cause a drop in blood sugar level ?",
           "blood sugar low high level",
           42
          ],
          [
           "does putting cinnamon in your coffee help with blood sugar ?",
           "blood sugar low high level",
           42
          ],
          [
           "how many times a day should a person with diabetes check there blood sugar levels ?",
           "blood sugar low high level",
           42
          ],
          [
           "can high blood sugar make you dizzy and <unk> ?",
           "blood sugar low high level",
           42
          ],
          [
           "how do i find out if i have normal blood sugar levels ?",
           "blood sugar low high level",
           42
          ],
          [
           "managing high blood sugar ?",
           "blood sugar low high level",
           42
          ],
          [
           "when blood sugar drops then <unk> up high when does it balance out ?",
           "blood sugar low high level",
           42
          ],
          [
           "does a diabetic know if or when his or her blood sugar is too high or low ?",
           "blood sugar low high level",
           42
          ],
          [
           "what does your body do when your blood sugar is too high ?",
           "blood sugar low high level",
           42
          ],
          [
           "how do you know if your blood sugar levels are low ?",
           "blood sugar low high level",
           42
          ],
          [
           "do not <unk> your blood sugar ! ?",
           "blood sugar low high level",
           42
          ],
          [
           "how can i find out if i have low blood sugar ?",
           "blood sugar low high level",
           42
          ],
          [
           "do you need salt if your blood sugar is high ?",
           "blood sugar low high level",
           42
          ],
          [
           "low blood sugar ?",
           "blood sugar low high level",
           42
          ],
          [
           "can low blood sugar make you vomit ?",
           "blood sugar low high level",
           42
          ],
          [
           "what type <unk> do you have when your blood sugar is high ?",
           "blood sugar low high level",
           42
          ],
          [
           "does <unk> one hundred mg tabs raise ones blood sugar a lot ?",
           "blood sugar low high level",
           42
          ],
          [
           "is it better to have low or high blood sugar levels ?",
           "blood sugar low high level",
           42
          ],
          [
           "should you take glucose tablets if your blood sugar is high ?",
           "blood sugar low high level",
           42
          ],
          [
           "if you know your blood sugar is low how do you know if you are a diabetic ?",
           "blood sugar low high level",
           42
          ],
          [
           "are hot <unk> good for <unk> blood sugar ?",
           "blood sugar low high level",
           42
          ],
          [
           "why would drinking molasses in the morning not help with low blood sugar ?",
           "blood sugar low high level",
           42
          ],
          [
           "why is orange juice recommended when blood sugar is low ?",
           "blood sugar low high level",
           42
          ],
          [
           "highest blood sugar reading a glucometer can have ?",
           "blood sugar low high level",
           42
          ],
          [
           "can <unk> increase blood sugar readings ?",
           "blood sugar low high level",
           42
          ],
          [
           "the another name for high blood sugar ?",
           "blood sugar low high level",
           42
          ]
         ],
         "hovertemplate": "summary=%{customdata[1]}<br>pc_1=%{x}<br>pc_2=%{y}<br>pc_3=%{z}<br>question=%{customdata[0]}<br>label=%{customdata[2]}<extra></extra>",
         "legendgroup": "blood sugar low high level",
         "marker": {
          "color": "#19d3f3",
          "size": 8,
          "symbol": "circle"
         },
         "mode": "markers",
         "name": "blood sugar low high level",
         "scene": "scene",
         "showlegend": true,
         "type": "scatter3d",
         "x": [
          0.4130149185657501,
          0.3831656277179718,
          0.4991101026535034,
          0.5495212078094482,
          0.3862212598323822,
          0.6032747030258179,
          0.5113149881362915,
          0.33699020743370056,
          0.3471665680408478,
          0.5987092852592468,
          0.5635431408882141,
          0.4545012414455414,
          0.5933693051338196,
          0.4930153489112854,
          0.4829176962375641,
          0.42630261182785034,
          0.6021174788475037,
          0.47266778349876404,
          0.377682089805603,
          0.42290836572647095,
          0.534976601600647,
          0.4969031512737274,
          0.4324357211589813,
          0.5277552008628845,
          0.4545903205871582,
          0.41530871391296387,
          0.5266031622886658
         ],
         "y": [
          0.11375778168439865,
          0.10958769917488098,
          0.2662779688835144,
          0.34052774310112,
          0.20057539641857147,
          0.31649935245513916,
          0.12820008397102356,
          0.2059992551803589,
          0.07207339257001877,
          0.19123601913452148,
          0.26259058713912964,
          0.21614249050617218,
          0.3118172585964203,
          0.25076571106910706,
          0.15707002580165863,
          0.18793487548828125,
          0.21461611986160278,
          0.31992772221565247,
          0.10151965916156769,
          0.16496865451335907,
          0.25563982129096985,
          0.19356483221054077,
          0.2078244686126709,
          0.1731167584657669,
          0.09088581055402756,
          0.11301703006029129,
          0.13273970782756805
         ],
         "z": [
          -0.2740258276462555,
          -0.17327122390270233,
          -0.2108052670955658,
          -0.35182052850723267,
          -0.22137297689914703,
          -0.33095046877861023,
          -0.22811901569366455,
          -0.23111942410469055,
          -0.13937558233737946,
          -0.3488411009311676,
          -0.3312183916568756,
          -0.28972822427749634,
          -0.2857549786567688,
          -0.27076488733291626,
          -0.24690620601177216,
          -0.23079392313957214,
          -0.33804625272750854,
          -0.34029197692871094,
          -0.23565338551998138,
          -0.27151015400886536,
          -0.3155770003795624,
          -0.2076415866613388,
          -0.16514557600021362,
          -0.2857586443424225,
          -0.17809991538524628,
          -0.18702246248722076,
          -0.1637340784072876
         ]
        },
        {
         "customdata": [
          [
           "which blood test is used by patients with diabetes to measure the average blood glucose level over the previous three to four months ?",
           "test blood sugar glucos fast",
           35
          ],
          [
           "what are the nursing considerations before doing a random blood sugar test ?",
           "test blood sugar glucos fast",
           35
          ],
          [
           "how many hours should you fast before a diabetes test ?",
           "test blood sugar glucos fast",
           35
          ],
          [
           "what is <unk> of five point seven on an a1c test ?",
           "test blood sugar glucos fast",
           35
          ],
          [
           "what is a fasting blood sugar test ?",
           "test blood sugar glucos fast",
           35
          ],
          [
           "what are the normal results of a fasting blood sugar test ?",
           "test blood sugar glucos fast",
           35
          ],
          [
           "what is the normal urine sugar level ?",
           "test blood sugar glucos fast",
           35
          ],
          [
           "when is the best time to test blood glucose levels ?",
           "test blood sugar glucos fast",
           35
          ],
          [
           "what is a <unk> blood glucose test ?",
           "test blood sugar glucos fast",
           35
          ],
          [
           "what is a description for fasting blood sugar ?",
           "test blood sugar glucos fast",
           35
          ],
          [
           "how many tubes are drawn for a three hour glucose tolerance test ?",
           "test blood sugar glucos fast",
           35
          ]
         ],
         "hovertemplate": "summary=%{customdata[1]}<br>pc_1=%{x}<br>pc_2=%{y}<br>pc_3=%{z}<br>question=%{customdata[0]}<br>label=%{customdata[2]}<extra></extra>",
         "legendgroup": "test blood sugar glucos fast",
         "marker": {
          "color": "#FF6692",
          "size": 8,
          "symbol": "circle"
         },
         "mode": "markers",
         "name": "test blood sugar glucos fast",
         "scene": "scene",
         "showlegend": true,
         "type": "scatter3d",
         "x": [
          0.3299849033355713,
          0.2614258825778961,
          0.2456081509590149,
          0.21070368587970734,
          0.28135350346565247,
          0.2806364595890045,
          0.2635152339935303,
          0.263112336397171,
          0.2742953896522522,
          0.31988492608070374,
          0.2843759059906006
         ],
         "y": [
          -0.08588716387748718,
          -0.059612937271595,
          -0.020391840487718582,
          -0.1269247680902481,
          -0.13556836545467377,
          -0.1097746193408966,
          -0.22382444143295288,
          -0.17932426929473877,
          -0.15176551043987274,
          -0.1580915004014969,
          -0.05443621426820755
         ],
         "z": [
          -0.7070967555046082,
          -0.8206750154495239,
          -0.7856189608573914,
          -0.7703784704208374,
          -0.7787653803825378,
          -0.7809045314788818,
          -0.747734010219574,
          -0.7310043573379517,
          -0.7143741846084595,
          -0.8232744932174683,
          -0.729796290397644
         ]
        },
        {
         "customdata": [
          [
           "what condition would cause blurred vision shortness of breath fatigue and finger and hand weakness ?",
           "caus would finger feet ach",
           20
          ],
          [
           "do sore toenails have anything to do with diabetes ?",
           "caus would finger feet ach",
           20
          ],
          [
           "why do the top of your feet ache ?",
           "caus would finger feet ach",
           20
          ],
          [
           "hair loss on lower legs ?",
           "caus would finger feet ach",
           20
          ],
          [
           "why have your ankles swollen up ?",
           "caus would finger feet ach",
           20
          ],
          [
           "if your big toes are often numb is that a sign of diabetes ?",
           "caus would finger feet ach",
           20
          ],
          [
           "do you have foot pain with diabetes ?",
           "caus would finger feet ach",
           20
          ],
          [
           "what causes your toes to feel numb ?",
           "caus would finger feet ach",
           20
          ],
          [
           "you cant sleep as arms ache ?",
           "caus would finger feet ach",
           20
          ],
          [
           "when would a diabetic need to see the doctor with sore feet ?",
           "caus would finger feet ach",
           20
          ],
          [
           "what is causing your feet and ankles to become swollen and very painful ?",
           "caus would finger feet ach",
           20
          ],
          [
           "what can cause severe pain in upper right arm near the shoulder area ?",
           "caus would finger feet ach",
           20
          ],
          [
           "what cause tingling in stomach ?",
           "caus would finger feet ach",
           20
          ],
          [
           "what causes tingling in left hand fingers ?",
           "caus would finger feet ach",
           20
          ],
          [
           "what could cause twitching in you thumb and head ?",
           "caus would finger feet ach",
           20
          ],
          [
           "does diabetes cause numbness in fingers ?",
           "caus would finger feet ach",
           20
          ],
          [
           "what would cause cold chills up and down the spine ?",
           "caus would finger feet ach",
           20
          ],
          [
           "can <unk> cause tingling on head ?",
           "caus would finger feet ach",
           20
          ],
          [
           "why do your arms ache ?",
           "caus would finger feet ach",
           20
          ],
          [
           "what could be causing my headaches and dizziness with a feeling of a surge of <unk> running through your brain now and then ?",
           "caus would finger feet ach",
           20
          ]
         ],
         "hovertemplate": "summary=%{customdata[1]}<br>pc_1=%{x}<br>pc_2=%{y}<br>pc_3=%{z}<br>question=%{customdata[0]}<br>label=%{customdata[2]}<extra></extra>",
         "legendgroup": "caus would finger feet ach",
         "marker": {
          "color": "#B6E880",
          "size": 8,
          "symbol": "circle"
         },
         "mode": "markers",
         "name": "caus would finger feet ach",
         "scene": "scene",
         "showlegend": true,
         "type": "scatter3d",
         "x": [
          -0.3121214807033539,
          -0.39196693897247314,
          -0.40815266966819763,
          -0.35525280237197876,
          -0.37257739901542664,
          -0.45450469851493835,
          -0.40041229128837585,
          -0.35550442337989807,
          -0.47319433093070984,
          -0.35930266976356506,
          -0.3188316822052002,
          -0.2711549997329712,
          -0.358377069234848,
          -0.33961164951324463,
          -0.30229875445365906,
          -0.45411938428878784,
          -0.36680856347084045,
          -0.4065755605697632,
          -0.45018285512924194,
          -0.3493645191192627
         ],
         "y": [
          -0.08016686886548996,
          0.03437603637576103,
          0.01678839512169361,
          0.04035171866416931,
          0.013553005643188953,
          -0.014032039791345596,
          0.07052861154079437,
          -0.013597877696156502,
          0.004473465494811535,
          0.08962730318307877,
          -0.01899973675608635,
          0.005862132646143436,
          -0.08000874519348145,
          -0.021390661597251892,
          -0.024167900905013084,
          -0.03147104009985924,
          -0.05991401523351669,
          -0.04975584149360657,
          0.0019414579728618264,
          -0.05972585454583168
         ],
         "z": [
          -0.5671541690826416,
          -0.44002848863601685,
          -0.5353766679763794,
          -0.6087633371353149,
          -0.4649769961833954,
          -0.42800968885421753,
          -0.4187183678150177,
          -0.5179667472839355,
          -0.5734609961509705,
          -0.4993795156478882,
          -0.5497838854789734,
          -0.5442387461662292,
          -0.46170443296432495,
          -0.4577673673629761,
          -0.41941362619400024,
          -0.4964127242565155,
          -0.6288137435913086,
          -0.5595633387565613,
          -0.5499772429466248,
          -0.599619448184967
         ]
        },
        {
         "customdata": [
          [
           "are there any natural medicines for diabetes ?",
           "cure one natur type found",
           26
          ],
          [
           "is there ever a cure for type one or two diabetes ?",
           "cure one natur type found",
           26
          ],
          [
           "natural cure for diabetes ?",
           "cure one natur type found",
           26
          ],
          [
           "has a cure been found for diabetes ?",
           "cure one natur type found",
           26
          ],
          [
           "is there any treatment for cystic fibrosis ?",
           "cure one natur type found",
           26
          ],
          [
           "is there a cure for juvenile diabetes ?",
           "cure one natur type found",
           26
          ],
          [
           "how far has research come for a cure for diabetes ?",
           "cure one natur type found",
           26
          ],
          [
           "can you find a cure for diabetes ?",
           "cure one natur type found",
           26
          ],
          [
           "can you cure for diabetes ?",
           "cure one natur type found",
           26
          ],
          [
           "is there any way to cure diabetes ?",
           "cure one natur type found",
           26
          ],
          [
           "are there any cures to type one diabetes ?",
           "cure one natur type found",
           26
          ],
          [
           "are there any home remedies for diabetes ?",
           "cure one natur type found",
           26
          ],
          [
           "can homeopathy cure diabetes ?",
           "cure one natur type found",
           26
          ],
          [
           "is there a cure for blood diabetes ?",
           "cure one natur type found",
           26
          ],
          [
           "what products claim to be natural cures for diabetes ?",
           "cure one natur type found",
           26
          ],
          [
           "do neurologists help cure diabetes ?",
           "cure one natur type found",
           26
          ],
          [
           "are there any supplements for diabetes ?",
           "cure one natur type found",
           26
          ],
          [
           "has any one found a cure for diabetes ?",
           "cure one natur type found",
           26
          ],
          [
           "are there any natural herbs that can cure diabetes ?",
           "cure one natur type found",
           26
          ],
          [
           "is there gene therapy for cystic fibrosis ?",
           "cure one natur type found",
           26
          ],
          [
           "you need help finding a cure for <unk> your husband has been <unk> for eight years ?",
           "cure one natur type found",
           26
          ],
          [
           "are there any home remedies to treat diabetes ?",
           "cure one natur type found",
           26
          ],
          [
           "is there a cure for diabetes ?",
           "cure one natur type found",
           26
          ],
          [
           "why is there no cure for type one diabetes ?",
           "cure one natur type found",
           26
          ],
          [
           "can gene therapy cure type one diabetes ?",
           "cure one natur type found",
           26
          ]
         ],
         "hovertemplate": "summary=%{customdata[1]}<br>pc_1=%{x}<br>pc_2=%{y}<br>pc_3=%{z}<br>question=%{customdata[0]}<br>label=%{customdata[2]}<extra></extra>",
         "legendgroup": "cure one natur type found",
         "marker": {
          "color": "#FF97FF",
          "size": 8,
          "symbol": "circle"
         },
         "mode": "markers",
         "name": "cure one natur type found",
         "scene": "scene",
         "showlegend": true,
         "type": "scatter3d",
         "x": [
          -0.1487809270620346,
          -0.3534334599971771,
          -0.20436114072799683,
          -0.25808170437812805,
          -0.3477343022823334,
          -0.3012620508670807,
          -0.2758764624595642,
          -0.29329994320869446,
          -0.2268601357936859,
          -0.32290223240852356,
          -0.3576769530773163,
          -0.1391828954219818,
          -0.18460309505462646,
          -0.25445568561553955,
          -0.16843920946121216,
          -0.1738642454147339,
          -0.1552562564611435,
          -0.2869301736354828,
          -0.1702197641134262,
          -0.3902420699596405,
          -0.25796762108802795,
          -0.13615073263645172,
          -0.2744445204734802,
          -0.33775952458381653,
          -0.4029657244682312
         ],
         "y": [
          0.13773618638515472,
          0.04710984602570534,
          0.07109537720680237,
          0.09304310381412506,
          0.06645965576171875,
          0.008899359032511711,
          0.13364647328853607,
          0.10017003118991852,
          0.03773533180356026,
          0.01768265664577484,
          -0.005861139390617609,
          0.16832509636878967,
          0.04521431401371956,
          0.0019062352366745472,
          0.07588378340005875,
          0.014391294680535793,
          0.18133167922496796,
          0.08236716687679291,
          0.10400436073541641,
          0.07262345403432846,
          0.12178192287683487,
          0.1481185257434845,
          0.02595457248389721,
          0.02054007351398468,
          0.055099647492170334
         ],
         "z": [
          0.7195680141448975,
          0.7385470271110535,
          0.7689027786254883,
          0.7651686668395996,
          0.8557839393615723,
          0.8312952518463135,
          0.7617544531822205,
          0.6766918301582336,
          0.8408516049385071,
          0.689177393913269,
          0.7707027196884155,
          0.796813428401947,
          0.8296263217926025,
          0.7625635862350464,
          0.7262378334999084,
          0.8619648814201355,
          0.8239970803260803,
          0.7767543792724609,
          0.7974125146865845,
          0.8384873867034912,
          0.7073224186897278,
          0.7625444531440735,
          0.7833449840545654,
          0.7861105799674988,
          0.7887439131736755
         ]
        },
        {
         "customdata": [
          [
           "what effect does glucagon has on blood sugar levels ?",
           "blood sugar level affect effect",
           39
          ],
          [
           "why does giving steroids increase blood sugar level ?",
           "blood sugar level affect effect",
           39
          ],
          [
           "does blood loss affect blood sugar ?",
           "blood sugar level affect effect",
           39
          ],
          [
           "does your head hurt when blood sugar is high ?",
           "blood sugar level affect effect",
           39
          ],
          [
           "does adrenaline increase blood sugar ?",
           "blood sugar level affect effect",
           39
          ],
          [
           "does alcohol affect blood sugar levels ?",
           "blood sugar level affect effect",
           39
          ],
          [
           "could <unk> and soft drink raise blood sugar level ?",
           "blood sugar level affect effect",
           39
          ],
          [
           "does gin and tonic affect blood sugar levels ?",
           "blood sugar level affect effect",
           39
          ],
          [
           "does drinking scotch raise your blood sugar ?",
           "blood sugar level affect effect",
           39
          ],
          [
           "does fructose have a strong effect on blood sugar ?",
           "blood sugar level affect effect",
           39
          ],
          [
           "will high sugar make you sleepy ?",
           "blood sugar level affect effect",
           39
          ],
          [
           "does the <unk> vaccine affect blood sugars of diabetics ?",
           "blood sugar level affect effect",
           39
          ],
          [
           "does taking vitamin c increase your blood sugar level ?",
           "blood sugar level affect effect",
           39
          ],
          [
           "does novocaine affect your blood sugar ?",
           "blood sugar level affect effect",
           39
          ],
          [
           "does sleep effect blood sugar ?",
           "blood sugar level affect effect",
           39
          ]
         ],
         "hovertemplate": "summary=%{customdata[1]}<br>pc_1=%{x}<br>pc_2=%{y}<br>pc_3=%{z}<br>question=%{customdata[0]}<br>label=%{customdata[2]}<extra></extra>",
         "legendgroup": "blood sugar level affect effect",
         "marker": {
          "color": "#FECB52",
          "size": 8,
          "symbol": "circle"
         },
         "mode": "markers",
         "name": "blood sugar level affect effect",
         "scene": "scene",
         "showlegend": true,
         "type": "scatter3d",
         "x": [
          0.48863035440444946,
          0.4981054961681366,
          0.5164018869400024,
          0.47825661301612854,
          0.4544721245765686,
          0.40832483768463135,
          0.4165765047073364,
          0.4113709032535553,
          0.38773220777511597,
          0.36790701746940613,
          0.39485204219818115,
          0.47682222723960876,
          0.5101256966590881,
          0.45401421189308167,
          0.45317962765693665
         ],
         "y": [
          0.24986392259597778,
          0.29470428824424744,
          0.15627984702587128,
          0.14304301142692566,
          0.2628217339515686,
          0.21813122928142548,
          0.2567466199398041,
          0.2185078114271164,
          0.28236329555511475,
          0.2205655872821808,
          0.232609361410141,
          0.14759691059589386,
          0.3225790560245514,
          0.1882549673318863,
          0.21619091928005219
         ],
         "z": [
          -0.047589294612407684,
          0.03306930884718895,
          -0.022911394014954567,
          -0.058539267629384995,
          0.040539588779211044,
          0.13988497853279114,
          0.07333322614431381,
          0.09154354780912399,
          0.08830145746469498,
          0.02873135358095169,
          -0.06361935287714005,
          0.0737498551607132,
          0.001388768432661891,
          0.02111157216131687,
          -0.0009167982498183846
         ]
        },
        {
         "customdata": [
          [
           "what is the definition of high in fats ?",
           "definit high fat dibeti ii",
           38
          ],
          [
           "what is dibeties ?",
           "definit high fat dibeti ii",
           38
          ],
          [
           "what is <unk> ii ?",
           "definit high fat dibeti ii",
           38
          ],
          [
           "what is <unk> ?",
           "definit high fat dibeti ii",
           38
          ],
          [
           "what is pre-diabetes ?",
           "definit high fat dibeti ii",
           38
          ],
          [
           "what is <unk> ?",
           "definit high fat dibeti ii",
           38
          ],
          [
           "what is the difference between antibiotics and <unk> ?",
           "definit high fat dibeti ii",
           38
          ],
          [
           "what is diabtetes ?",
           "definit high fat dibeti ii",
           38
          ],
          [
           "what is the opposite of lethargy ?",
           "definit high fat dibeti ii",
           38
          ],
          [
           "what is <unk> <unk> ?",
           "definit high fat dibeti ii",
           38
          ],
          [
           "what is a gland not working in a diabetic ?",
           "definit high fat dibeti ii",
           38
          ],
          [
           "what is the diff between diabetes one and two ?",
           "definit high fat dibeti ii",
           38
          ],
          [
           "what is <unk> <unk> ?",
           "definit high fat dibeti ii",
           38
          ]
         ],
         "hovertemplate": "summary=%{customdata[1]}<br>pc_1=%{x}<br>pc_2=%{y}<br>pc_3=%{z}<br>question=%{customdata[0]}<br>label=%{customdata[2]}<extra></extra>",
         "legendgroup": "definit high fat dibeti ii",
         "marker": {
          "color": "#636efa",
          "size": 8,
          "symbol": "circle"
         },
         "mode": "markers",
         "name": "definit high fat dibeti ii",
         "scene": "scene",
         "showlegend": true,
         "type": "scatter3d",
         "x": [
          0.09911108762025833,
          0.03387854993343353,
          0.09802345186471939,
          0.02369886450469494,
          -0.02679998241364956,
          -0.044624339789152145,
          -0.016065947711467743,
          0.0697762593626976,
          0.017409702762961388,
          0.043076638132333755,
          0.09643537551164627,
          -0.0057380483485758305,
          0.06451653689146042
         ],
         "y": [
          -0.5690275430679321,
          -0.5440741777420044,
          -0.5460516810417175,
          -0.5777376890182495,
          -0.617213785648346,
          -0.6327089667320251,
          -0.550870954990387,
          -0.5578256845474243,
          -0.6410945653915405,
          -0.5418306589126587,
          -0.4792414903640747,
          -0.5051999688148499,
          -0.5136803984642029
         ],
         "z": [
          -0.2591696083545685,
          -0.16795560717582703,
          -0.12953291833400726,
          -0.19537745416164398,
          -0.20866860449314117,
          -0.22792404890060425,
          -0.2573111355304718,
          -0.1880417913198471,
          -0.16752013564109802,
          -0.21675404906272888,
          -0.2595744729042053,
          -0.19674450159072876,
          -0.18556222319602966
         ]
        },
        {
         "customdata": [
          [
           "how many people currently have diabetes ?",
           "mani peopl suffer current us",
           24
          ],
          [
           "out of how many how may people have diabetes in us ?",
           "mani peopl suffer current us",
           24
          ],
          [
           "how many children in the us have type two diabetes ?",
           "mani peopl suffer current us",
           24
          ],
          [
           "how many kids die from diabetes ?",
           "mani peopl suffer current us",
           24
          ],
          [
           "how many suffer from diabetes ?",
           "mani peopl suffer current us",
           24
          ],
          [
           "how many people die from type two diabetes each year world wide ?",
           "mani peopl suffer current us",
           24
          ],
          [
           "how many people are diagnosed with diabetes every year ?",
           "mani peopl suffer current us",
           24
          ],
          [
           "how old are most people who get diabetes ?",
           "mani peopl suffer current us",
           24
          ],
          [
           "how many people have diabetes in the world ?",
           "mani peopl suffer current us",
           24
          ],
          [
           "in every ten people how many have diabetes ?",
           "mani peopl suffer current us",
           24
          ],
          [
           "why are so many people getting diabetes now then in past years ?",
           "mani peopl suffer current us",
           24
          ],
          [
           "how many people currently have diabetes in canada ?",
           "mani peopl suffer current us",
           24
          ],
          [
           "how many people currently have diabetes in <unk> ?",
           "mani peopl suffer current us",
           24
          ],
          [
           "how many people in uk suffer with diabetes ?",
           "mani peopl suffer current us",
           24
          ],
          [
           "how many people in the us are suffering from diabetes ?",
           "mani peopl suffer current us",
           24
          ],
          [
           "who are some famous people or people who have made major <unk> to society who suffered from diabetes ?",
           "mani peopl suffer current us",
           24
          ],
          [
           "how many americans die <unk> from diabetes and its complications ?",
           "mani peopl suffer current us",
           24
          ]
         ],
         "hovertemplate": "summary=%{customdata[1]}<br>pc_1=%{x}<br>pc_2=%{y}<br>pc_3=%{z}<br>question=%{customdata[0]}<br>label=%{customdata[2]}<extra></extra>",
         "legendgroup": "mani peopl suffer current us",
         "marker": {
          "color": "#EF553B",
          "size": 8,
          "symbol": "circle"
         },
         "mode": "markers",
         "name": "mani peopl suffer current us",
         "scene": "scene",
         "showlegend": true,
         "type": "scatter3d",
         "x": [
          0.02959573082625866,
          0.005121869966387749,
          -0.04672845080494881,
          0.03762563318014145,
          0.03147882968187332,
          -0.0574357807636261,
          0.1253899484872818,
          0.08070005476474762,
          0.05243217945098877,
          0.0769214928150177,
          0.11061985045671463,
          -0.011425225995481014,
          0.03507554531097412,
          -0.07679618149995804,
          -0.017420487478375435,
          -0.043907925486564636,
          -0.012274526990950108
         ],
         "y": [
          -0.22802045941352844,
          -0.2663358151912689,
          -0.3185950219631195,
          -0.16672192513942719,
          -0.20259630680084229,
          -0.29234281182289124,
          -0.22766751050949097,
          -0.1808009296655655,
          -0.28316110372543335,
          -0.2678941488265991,
          -0.22309599816799164,
          -0.24019137024879456,
          -0.236252099275589,
          -0.22496376931667328,
          -0.23762930929660797,
          -0.1778147667646408,
          -0.2115631252527237
         ],
         "z": [
          0.5594545006752014,
          0.5131439566612244,
          0.5122207403182983,
          0.4721605181694031,
          0.4474155604839325,
          0.5687543749809265,
          0.5613072514533997,
          0.5570273399353027,
          0.5628624558448792,
          0.5894227623939514,
          0.5295599699020386,
          0.5910547375679016,
          0.5927289128303528,
          0.49777281284332275,
          0.49412673711776733,
          0.5678933262825012,
          0.4471316337585449
         ]
        },
        {
         "customdata": [
          [
           "are diabetics <unk> ?",
           "insulin take doctor claim money",
           31
          ],
          [
           "can diabetics have a <unk> ?",
           "insulin take doctor claim money",
           31
          ],
          [
           "can diabetics be <unk> ?",
           "insulin take doctor claim money",
           31
          ],
          [
           "can diabetics on insulin take <unk> ?",
           "insulin take doctor claim money",
           31
          ],
          [
           "can diabetics be doctors ?",
           "insulin take doctor claim money",
           31
          ],
          [
           "are there diabetic <unk> ?",
           "insulin take doctor claim money",
           31
          ],
          [
           "can you claim any money if you are a diabetic ?",
           "insulin take doctor claim money",
           31
          ],
          [
           "can diabetics be <unk> ?",
           "insulin take doctor claim money",
           31
          ],
          [
           "can diabetics who have herpes live ?",
           "insulin take doctor claim money",
           31
          ],
          [
           "can diabetics use <unk> ?",
           "insulin take doctor claim money",
           31
          ]
         ],
         "hovertemplate": "summary=%{customdata[1]}<br>pc_1=%{x}<br>pc_2=%{y}<br>pc_3=%{z}<br>question=%{customdata[0]}<br>label=%{customdata[2]}<extra></extra>",
         "legendgroup": "insulin take doctor claim money",
         "marker": {
          "color": "#00cc96",
          "size": 8,
          "symbol": "circle"
         },
         "mode": "markers",
         "name": "insulin take doctor claim money",
         "scene": "scene",
         "showlegend": true,
         "type": "scatter3d",
         "x": [
          -0.19815097749233246,
          -0.22324909269809723,
          -0.19940496981143951,
          -0.12903834879398346,
          -0.23346032202243805,
          -0.23130744695663452,
          -0.2810264825820923,
          -0.22519446909427643,
          -0.15551739931106567,
          -0.1243661567568779
         ],
         "y": [
          0.4056897759437561,
          0.27077358961105347,
          0.32415369153022766,
          0.3090640902519226,
          0.33022698760032654,
          0.39830148220062256,
          0.3113647401332855,
          0.316704124212265,
          0.29008692502975464,
          0.3414469361305237
         ],
         "z": [
          0.381846159696579,
          0.3975214660167694,
          0.39438584446907043,
          0.4544598162174225,
          0.46283864974975586,
          0.34433865547180176,
          0.36374735832214355,
          0.3992965519428253,
          0.344519704580307,
          0.3816985785961151
         ]
        },
        {
         "customdata": [
          [
           "can you suggest a reliable diabetes center in india ?",
           "test blood diagnos aid determin",
           37
          ],
          [
           "test is performed to confirm a diagnosis of diabetes mellitus and to aid in diagnosing hypoglycemia ?",
           "test blood diagnos aid determin",
           37
          ],
          [
           "how can a doctor determine the type of diabetes one may have just from a sample of blood ?",
           "test blood diagnos aid determin",
           37
          ],
          [
           "test for diabetes ?",
           "test blood diagnos aid determin",
           37
          ],
          [
           "which test is used as an aid in diagnosing diabetes ?",
           "test blood diagnos aid determin",
           37
          ],
          [
           "tests for diabetes ?",
           "test blood diagnos aid determin",
           37
          ],
          [
           "what are the release dates for project not me diabetes prevention - two thousand and twelve taking <unk> <unk> ?",
           "test blood diagnos aid determin",
           37
          ],
          [
           "blood tests for diabetes ?",
           "test blood diagnos aid determin",
           37
          ],
          [
           "how are <unk> tests used in diagnosing pain ?",
           "test blood diagnos aid determin",
           37
          ],
          [
           "which finding on a urinalysis is commonly due to diabetes ?",
           "test blood diagnos aid determin",
           37
          ],
          [
           "can x-ray detect diabetes ?",
           "test blood diagnos aid determin",
           37
          ],
          [
           "what is ac test for diabetes ?",
           "test blood diagnos aid determin",
           37
          ],
          [
           "how do you fake a diabetes test ?",
           "test blood diagnos aid determin",
           37
          ],
          [
           "can blood tests determine diabetes ?",
           "test blood diagnos aid determin",
           37
          ],
          [
           "<unk> - <unk> c did your blood test high for diabetes ?",
           "test blood diagnos aid determin",
           37
          ],
          [
           "i got twenty two on my diabetes test . what does that mean ?",
           "test blood diagnos aid determin",
           37
          ],
          [
           "do you always have to test you <unk> dr did not tell my <unk> to test is that normal ?",
           "test blood diagnos aid determin",
           37
          ]
         ],
         "hovertemplate": "summary=%{customdata[1]}<br>pc_1=%{x}<br>pc_2=%{y}<br>pc_3=%{z}<br>question=%{customdata[0]}<br>label=%{customdata[2]}<extra></extra>",
         "legendgroup": "test blood diagnos aid determin",
         "marker": {
          "color": "#ab63fa",
          "size": 8,
          "symbol": "circle"
         },
         "mode": "markers",
         "name": "test blood diagnos aid determin",
         "scene": "scene",
         "showlegend": true,
         "type": "scatter3d",
         "x": [
          -0.07801670581102371,
          -0.024732070043683052,
          -0.00010596008360153064,
          0.05724920704960823,
          -0.05316988006234169,
          -0.00017155494424514472,
          0.08662667125463486,
          0.016406822949647903,
          0.025546714663505554,
          -0.07339823246002197,
          -0.013832172378897667,
          0.004506781697273254,
          -0.017902789637446404,
          0.04040500894188881,
          0.03799701854586601,
          0.0707801952958107,
          0.08812040090560913
         ],
         "y": [
          -0.036167144775390625,
          -0.0032706456258893013,
          0.008891211822628975,
          -0.11440963298082352,
          -0.0287808608263731,
          -0.0711425393819809,
          -0.003923655021935701,
          -0.05753606557846069,
          -0.1154448390007019,
          -0.09028899669647217,
          -0.08816763758659363,
          -0.11951733380556107,
          -0.04720388725399971,
          -0.0637497529387474,
          -0.048709314316511154,
          0.016681812703609467,
          -0.026475446298718452
         ],
         "z": [
          -0.6083455085754395,
          -0.6807442903518677,
          -0.5426721572875977,
          -0.7321913838386536,
          -0.7208859324455261,
          -0.6755335927009583,
          -0.7928811311721802,
          -0.650424063205719,
          -0.6006329655647278,
          -0.6683281660079956,
          -0.5758100748062134,
          -0.6982998847961426,
          -0.6069521307945251,
          -0.6077309250831604,
          -0.7213727831840515,
          -0.6811386346817017,
          -0.6535012722015381
         ]
        },
        {
         "customdata": [
          [
           "diabetic menus ?",
           "diet menu food safe plan",
           30
          ],
          [
           "make diabetic diet food your friend ?",
           "diet menu food safe plan",
           30
          ],
          [
           "do restaurants carry diabetic diet menus ?",
           "diet menu food safe plan",
           30
          ],
          [
           "creating your own diabetic dessert ?",
           "diet menu food safe plan",
           30
          ],
          [
           "a safe diabetic meal plan ?",
           "diet menu food safe plan",
           30
          ],
          [
           "what does a diabetic diet include and exclude ?",
           "diet menu food safe plan",
           30
          ],
          [
           "safe diabetic diet plans ?",
           "diet menu food safe plan",
           30
          ],
          [
           "what are the best diabetic diet foods i can give a fifteen year old growing girl ?",
           "diet menu food safe plan",
           30
          ],
          [
           "what would a diabetics diet menu consist of ?",
           "diet menu food safe plan",
           30
          ]
         ],
         "hovertemplate": "summary=%{customdata[1]}<br>pc_1=%{x}<br>pc_2=%{y}<br>pc_3=%{z}<br>question=%{customdata[0]}<br>label=%{customdata[2]}<extra></extra>",
         "legendgroup": "diet menu food safe plan",
         "marker": {
          "color": "#FFA15A",
          "size": 8,
          "symbol": "circle"
         },
         "mode": "markers",
         "name": "diet menu food safe plan",
         "scene": "scene",
         "showlegend": true,
         "type": "scatter3d",
         "x": [
          -0.10540089011192322,
          -0.0672101303935051,
          -0.11033610254526138,
          -0.04603458195924759,
          -0.12776751816272736,
          -0.11201164126396179,
          -0.14035913348197937,
          -0.05673849955201149,
          -0.16856922209262848
         ],
         "y": [
          0.70524662733078,
          0.7482947707176208,
          0.7437804937362671,
          0.7186715006828308,
          0.6291226148605347,
          0.6889145374298096,
          0.6539208889007568,
          0.6518212556838989,
          0.757710874080658
         ],
         "z": [
          0.04929303750395775,
          0.10269621759653091,
          0.02746618539094925,
          0.10848067700862885,
          0.09490440785884857,
          0.1306525468826294,
          0.12182736396789551,
          0.003678262699395418,
          0.09451589733362198
         ]
        }
       ],
       "layout": {
        "height": 500,
        "legend": {
         "itemclick": "toggleothers",
         "title": {
          "text": "Cluster Summaries"
         },
         "tracegroupgap": 0
        },
        "margin": {
         "t": 60
        },
        "scene": {
         "domain": {
          "x": [
           0,
           1
          ],
          "y": [
           0,
           1
          ]
         },
         "xaxis": {
          "title": {
           "text": "pc_1"
          }
         },
         "yaxis": {
          "title": {
           "text": "pc_2"
          }
         },
         "zaxis": {
          "title": {
           "text": "pc_3"
          }
         }
        },
        "template": {
         "data": {
          "bar": [
           {
            "error_x": {
             "color": "#2a3f5f"
            },
            "error_y": {
             "color": "#2a3f5f"
            },
            "marker": {
             "line": {
              "color": "#E5ECF6",
              "width": 0.5
             }
            },
            "type": "bar"
           }
          ],
          "barpolar": [
           {
            "marker": {
             "line": {
              "color": "#E5ECF6",
              "width": 0.5
             }
            },
            "type": "barpolar"
           }
          ],
          "carpet": [
           {
            "aaxis": {
             "endlinecolor": "#2a3f5f",
             "gridcolor": "white",
             "linecolor": "white",
             "minorgridcolor": "white",
             "startlinecolor": "#2a3f5f"
            },
            "baxis": {
             "endlinecolor": "#2a3f5f",
             "gridcolor": "white",
             "linecolor": "white",
             "minorgridcolor": "white",
             "startlinecolor": "#2a3f5f"
            },
            "type": "carpet"
           }
          ],
          "choropleth": [
           {
            "colorbar": {
             "outlinewidth": 0,
             "ticks": ""
            },
            "type": "choropleth"
           }
          ],
          "contour": [
           {
            "colorbar": {
             "outlinewidth": 0,
             "ticks": ""
            },
            "colorscale": [
             [
              0,
              "#0d0887"
             ],
             [
              0.1111111111111111,
              "#46039f"
             ],
             [
              0.2222222222222222,
              "#7201a8"
             ],
             [
              0.3333333333333333,
              "#9c179e"
             ],
             [
              0.4444444444444444,
              "#bd3786"
             ],
             [
              0.5555555555555556,
              "#d8576b"
             ],
             [
              0.6666666666666666,
              "#ed7953"
             ],
             [
              0.7777777777777778,
              "#fb9f3a"
             ],
             [
              0.8888888888888888,
              "#fdca26"
             ],
             [
              1,
              "#f0f921"
             ]
            ],
            "type": "contour"
           }
          ],
          "contourcarpet": [
           {
            "colorbar": {
             "outlinewidth": 0,
             "ticks": ""
            },
            "type": "contourcarpet"
           }
          ],
          "heatmap": [
           {
            "colorbar": {
             "outlinewidth": 0,
             "ticks": ""
            },
            "colorscale": [
             [
              0,
              "#0d0887"
             ],
             [
              0.1111111111111111,
              "#46039f"
             ],
             [
              0.2222222222222222,
              "#7201a8"
             ],
             [
              0.3333333333333333,
              "#9c179e"
             ],
             [
              0.4444444444444444,
              "#bd3786"
             ],
             [
              0.5555555555555556,
              "#d8576b"
             ],
             [
              0.6666666666666666,
              "#ed7953"
             ],
             [
              0.7777777777777778,
              "#fb9f3a"
             ],
             [
              0.8888888888888888,
              "#fdca26"
             ],
             [
              1,
              "#f0f921"
             ]
            ],
            "type": "heatmap"
           }
          ],
          "heatmapgl": [
           {
            "colorbar": {
             "outlinewidth": 0,
             "ticks": ""
            },
            "colorscale": [
             [
              0,
              "#0d0887"
             ],
             [
              0.1111111111111111,
              "#46039f"
             ],
             [
              0.2222222222222222,
              "#7201a8"
             ],
             [
              0.3333333333333333,
              "#9c179e"
             ],
             [
              0.4444444444444444,
              "#bd3786"
             ],
             [
              0.5555555555555556,
              "#d8576b"
             ],
             [
              0.6666666666666666,
              "#ed7953"
             ],
             [
              0.7777777777777778,
              "#fb9f3a"
             ],
             [
              0.8888888888888888,
              "#fdca26"
             ],
             [
              1,
              "#f0f921"
             ]
            ],
            "type": "heatmapgl"
           }
          ],
          "histogram": [
           {
            "marker": {
             "colorbar": {
              "outlinewidth": 0,
              "ticks": ""
             }
            },
            "type": "histogram"
           }
          ],
          "histogram2d": [
           {
            "colorbar": {
             "outlinewidth": 0,
             "ticks": ""
            },
            "colorscale": [
             [
              0,
              "#0d0887"
             ],
             [
              0.1111111111111111,
              "#46039f"
             ],
             [
              0.2222222222222222,
              "#7201a8"
             ],
             [
              0.3333333333333333,
              "#9c179e"
             ],
             [
              0.4444444444444444,
              "#bd3786"
             ],
             [
              0.5555555555555556,
              "#d8576b"
             ],
             [
              0.6666666666666666,
              "#ed7953"
             ],
             [
              0.7777777777777778,
              "#fb9f3a"
             ],
             [
              0.8888888888888888,
              "#fdca26"
             ],
             [
              1,
              "#f0f921"
             ]
            ],
            "type": "histogram2d"
           }
          ],
          "histogram2dcontour": [
           {
            "colorbar": {
             "outlinewidth": 0,
             "ticks": ""
            },
            "colorscale": [
             [
              0,
              "#0d0887"
             ],
             [
              0.1111111111111111,
              "#46039f"
             ],
             [
              0.2222222222222222,
              "#7201a8"
             ],
             [
              0.3333333333333333,
              "#9c179e"
             ],
             [
              0.4444444444444444,
              "#bd3786"
             ],
             [
              0.5555555555555556,
              "#d8576b"
             ],
             [
              0.6666666666666666,
              "#ed7953"
             ],
             [
              0.7777777777777778,
              "#fb9f3a"
             ],
             [
              0.8888888888888888,
              "#fdca26"
             ],
             [
              1,
              "#f0f921"
             ]
            ],
            "type": "histogram2dcontour"
           }
          ],
          "mesh3d": [
           {
            "colorbar": {
             "outlinewidth": 0,
             "ticks": ""
            },
            "type": "mesh3d"
           }
          ],
          "parcoords": [
           {
            "line": {
             "colorbar": {
              "outlinewidth": 0,
              "ticks": ""
             }
            },
            "type": "parcoords"
           }
          ],
          "pie": [
           {
            "automargin": true,
            "type": "pie"
           }
          ],
          "scatter": [
           {
            "marker": {
             "colorbar": {
              "outlinewidth": 0,
              "ticks": ""
             }
            },
            "type": "scatter"
           }
          ],
          "scatter3d": [
           {
            "line": {
             "colorbar": {
              "outlinewidth": 0,
              "ticks": ""
             }
            },
            "marker": {
             "colorbar": {
              "outlinewidth": 0,
              "ticks": ""
             }
            },
            "type": "scatter3d"
           }
          ],
          "scattercarpet": [
           {
            "marker": {
             "colorbar": {
              "outlinewidth": 0,
              "ticks": ""
             }
            },
            "type": "scattercarpet"
           }
          ],
          "scattergeo": [
           {
            "marker": {
             "colorbar": {
              "outlinewidth": 0,
              "ticks": ""
             }
            },
            "type": "scattergeo"
           }
          ],
          "scattergl": [
           {
            "marker": {
             "colorbar": {
              "outlinewidth": 0,
              "ticks": ""
             }
            },
            "type": "scattergl"
           }
          ],
          "scattermapbox": [
           {
            "marker": {
             "colorbar": {
              "outlinewidth": 0,
              "ticks": ""
             }
            },
            "type": "scattermapbox"
           }
          ],
          "scatterpolar": [
           {
            "marker": {
             "colorbar": {
              "outlinewidth": 0,
              "ticks": ""
             }
            },
            "type": "scatterpolar"
           }
          ],
          "scatterpolargl": [
           {
            "marker": {
             "colorbar": {
              "outlinewidth": 0,
              "ticks": ""
             }
            },
            "type": "scatterpolargl"
           }
          ],
          "scatterternary": [
           {
            "marker": {
             "colorbar": {
              "outlinewidth": 0,
              "ticks": ""
             }
            },
            "type": "scatterternary"
           }
          ],
          "surface": [
           {
            "colorbar": {
             "outlinewidth": 0,
             "ticks": ""
            },
            "colorscale": [
             [
              0,
              "#0d0887"
             ],
             [
              0.1111111111111111,
              "#46039f"
             ],
             [
              0.2222222222222222,
              "#7201a8"
             ],
             [
              0.3333333333333333,
              "#9c179e"
             ],
             [
              0.4444444444444444,
              "#bd3786"
             ],
             [
              0.5555555555555556,
              "#d8576b"
             ],
             [
              0.6666666666666666,
              "#ed7953"
             ],
             [
              0.7777777777777778,
              "#fb9f3a"
             ],
             [
              0.8888888888888888,
              "#fdca26"
             ],
             [
              1,
              "#f0f921"
             ]
            ],
            "type": "surface"
           }
          ],
          "table": [
           {
            "cells": {
             "fill": {
              "color": "#EBF0F8"
             },
             "line": {
              "color": "white"
             }
            },
            "header": {
             "fill": {
              "color": "#C8D4E3"
             },
             "line": {
              "color": "white"
             }
            },
            "type": "table"
           }
          ]
         },
         "layout": {
          "annotationdefaults": {
           "arrowcolor": "#2a3f5f",
           "arrowhead": 0,
           "arrowwidth": 1
          },
          "autotypenumbers": "strict",
          "coloraxis": {
           "colorbar": {
            "outlinewidth": 0,
            "ticks": ""
           }
          },
          "colorscale": {
           "diverging": [
            [
             0,
             "#8e0152"
            ],
            [
             0.1,
             "#c51b7d"
            ],
            [
             0.2,
             "#de77ae"
            ],
            [
             0.3,
             "#f1b6da"
            ],
            [
             0.4,
             "#fde0ef"
            ],
            [
             0.5,
             "#f7f7f7"
            ],
            [
             0.6,
             "#e6f5d0"
            ],
            [
             0.7,
             "#b8e186"
            ],
            [
             0.8,
             "#7fbc41"
            ],
            [
             0.9,
             "#4d9221"
            ],
            [
             1,
             "#276419"
            ]
           ],
           "sequential": [
            [
             0,
             "#0d0887"
            ],
            [
             0.1111111111111111,
             "#46039f"
            ],
            [
             0.2222222222222222,
             "#7201a8"
            ],
            [
             0.3333333333333333,
             "#9c179e"
            ],
            [
             0.4444444444444444,
             "#bd3786"
            ],
            [
             0.5555555555555556,
             "#d8576b"
            ],
            [
             0.6666666666666666,
             "#ed7953"
            ],
            [
             0.7777777777777778,
             "#fb9f3a"
            ],
            [
             0.8888888888888888,
             "#fdca26"
            ],
            [
             1,
             "#f0f921"
            ]
           ],
           "sequentialminus": [
            [
             0,
             "#0d0887"
            ],
            [
             0.1111111111111111,
             "#46039f"
            ],
            [
             0.2222222222222222,
             "#7201a8"
            ],
            [
             0.3333333333333333,
             "#9c179e"
            ],
            [
             0.4444444444444444,
             "#bd3786"
            ],
            [
             0.5555555555555556,
             "#d8576b"
            ],
            [
             0.6666666666666666,
             "#ed7953"
            ],
            [
             0.7777777777777778,
             "#fb9f3a"
            ],
            [
             0.8888888888888888,
             "#fdca26"
            ],
            [
             1,
             "#f0f921"
            ]
           ]
          },
          "colorway": [
           "#636efa",
           "#EF553B",
           "#00cc96",
           "#ab63fa",
           "#FFA15A",
           "#19d3f3",
           "#FF6692",
           "#B6E880",
           "#FF97FF",
           "#FECB52"
          ],
          "font": {
           "color": "#2a3f5f"
          },
          "geo": {
           "bgcolor": "white",
           "lakecolor": "white",
           "landcolor": "#E5ECF6",
           "showlakes": true,
           "showland": true,
           "subunitcolor": "white"
          },
          "hoverlabel": {
           "align": "left"
          },
          "hovermode": "closest",
          "mapbox": {
           "style": "light"
          },
          "paper_bgcolor": "white",
          "plot_bgcolor": "#E5ECF6",
          "polar": {
           "angularaxis": {
            "gridcolor": "white",
            "linecolor": "white",
            "ticks": ""
           },
           "bgcolor": "#E5ECF6",
           "radialaxis": {
            "gridcolor": "white",
            "linecolor": "white",
            "ticks": ""
           }
          },
          "scene": {
           "xaxis": {
            "backgroundcolor": "#E5ECF6",
            "gridcolor": "white",
            "gridwidth": 2,
            "linecolor": "white",
            "showbackground": true,
            "ticks": "",
            "zerolinecolor": "white"
           },
           "yaxis": {
            "backgroundcolor": "#E5ECF6",
            "gridcolor": "white",
            "gridwidth": 2,
            "linecolor": "white",
            "showbackground": true,
            "ticks": "",
            "zerolinecolor": "white"
           },
           "zaxis": {
            "backgroundcolor": "#E5ECF6",
            "gridcolor": "white",
            "gridwidth": 2,
            "linecolor": "white",
            "showbackground": true,
            "ticks": "",
            "zerolinecolor": "white"
           }
          },
          "shapedefaults": {
           "line": {
            "color": "#2a3f5f"
           }
          },
          "ternary": {
           "aaxis": {
            "gridcolor": "white",
            "linecolor": "white",
            "ticks": ""
           },
           "baxis": {
            "gridcolor": "white",
            "linecolor": "white",
            "ticks": ""
           },
           "bgcolor": "#E5ECF6",
           "caxis": {
            "gridcolor": "white",
            "linecolor": "white",
            "ticks": ""
           }
          },
          "title": {
           "x": 0.05
          },
          "xaxis": {
           "automargin": true,
           "gridcolor": "white",
           "linecolor": "white",
           "ticks": "",
           "title": {
            "standoff": 15
           },
           "zerolinecolor": "white",
           "zerolinewidth": 2
          },
          "yaxis": {
           "automargin": true,
           "gridcolor": "white",
           "linecolor": "white",
           "ticks": "",
           "title": {
            "standoff": 15
           },
           "zerolinecolor": "white",
           "zerolinewidth": 2
          }
         }
        },
        "title": {
         "text": "Projected Feature Space of Validation Questions"
        }
       }
      },
      "text/html": [
       "<div>                            <div id=\"2a027dab-ff87-47ad-8929-05e852cc41f3\" class=\"plotly-graph-div\" style=\"height:500px; width:100%;\"></div>            <script type=\"text/javascript\">                require([\"plotly\"], function(Plotly) {                    window.PLOTLYENV=window.PLOTLYENV || {};                                    if (document.getElementById(\"2a027dab-ff87-47ad-8929-05e852cc41f3\")) {                    Plotly.newPlot(                        \"2a027dab-ff87-47ad-8929-05e852cc41f3\",                        [{\"customdata\": [[\"how is diabetes type one transmitted ?\", \"type one two caus mellitu\", 12], [\"how many women have diabetes ?\", \"type one two caus mellitu\", 12], [\"can a thirteen year old get type two diabetes ?\", \"type one two caus mellitu\", 12], [\"is type two diabetes deadly ?\", \"type one two caus mellitu\", 12], [\"which <unk> have diabetes ?\", \"type one two caus mellitu\", 12], [\"is diabetes found only in the us ?\", \"type one two caus mellitu\", 12], [\"how is type two diabetes transmitted ?\", \"type one two caus mellitu\", 12], [\"what is the difference between type ii diabetes and juvenile or type i diabetes ?\", \"type one two caus mellitu\", 12], [\"why is type two diabetes an issue ?\", \"type one two caus mellitu\", 12], [\"raised serum <unk> levels ?\", \"type one two caus mellitu\", 12], [\"high levels of <unk> in diabetes ?\", \"type one two caus mellitu\", 12], [\"did <unk> <unk> <unk> have diabetes type one or two ?\", \"type one two caus mellitu\", 12], [\"what chromosome number is diabetes type two ?\", \"type one two caus mellitu\", 12], [\"is type one diabetes a dominant or recessive gene ?\", \"type one two caus mellitu\", 12], [\"is there really type four diabetes ?\", \"type one two caus mellitu\", 12], [\"does diabetes reduce a person lifespan ?\", \"type one two caus mellitu\", 12], [\"type i diabetes ?\", \"type one two caus mellitu\", 12], [\"is glucose related to diabetes ?\", \"type one two caus mellitu\", 12], [\"diabetes chart ?\", \"type one two caus mellitu\", 12], [\"is type one diabetes bad ?\", \"type one two caus mellitu\", 12], [\"can diabetes be prevented or not ?\", \"type one two caus mellitu\", 12], [\"neuropathy diabetes ?\", \"type one two caus mellitu\", 12], [\"is diabetes a <unk> error ?\", \"type one two caus mellitu\", 12], [\"why beta <unk> is not given in diabetes ?\", \"type one two caus mellitu\", 12], [\"is juvenile diabetes o genetic disorder ?\", \"type one two caus mellitu\", 12], [\"is there any connection between poor nutrition and diabetes ?\", \"type one two caus mellitu\", 12], [\"diabetes mellitus is a disorder of the ?\", \"type one two caus mellitu\", 12], [\"can type two diabetes kill you ?\", \"type one two caus mellitu\", 12], [\"can type one diabetes ever go away ?\", \"type one two caus mellitu\", 12], [\"diabetes guidelines ?\", \"type one two caus mellitu\", 12], [\"is a vector <unk> in diabetes mellitus ?\", \"type one two caus mellitu\", 12], [\"is type one diabetes more common than type two diabetes ?\", \"type one two caus mellitu\", 12], [\"is medical issues and diabetes special needs ?\", \"type one two caus mellitu\", 12], [\"is <unk> necrosis caused by diabetes ?\", \"type one two caus mellitu\", 12], [\"who is most likely to be affected by type two diabetes ?\", \"type one two caus mellitu\", 12], [\"where is diabetes very common in the world ?\", \"type one two caus mellitu\", 12], [\"is type two diabetes hereditary ?\", \"type one two caus mellitu\", 12], [\"diabetes levels ?\", \"type one two caus mellitu\", 12], [\"is diabetes hereditary ?\", \"type one two caus mellitu\", 12], [\"can type one diabetes be prevented ?\", \"type one two caus mellitu\", 12], [\"who <unk> diabetes ?\", \"type one two caus mellitu\", 12], [\"can a person suddenly acquire diabetes ?\", \"type one two caus mellitu\", 12], [\"is type one diabetes a sex linked gene ?\", \"type one two caus mellitu\", 12], [\"will a type one diabetic male produce children with type one diabetes ?\", \"type one two caus mellitu\", 12], [\"is type one diabetes worse then type two ?\", \"type one two caus mellitu\", 12], [\"is nutrilite bio c for diabetes ?\", \"type one two caus mellitu\", 12], [\"can diabetes be inherited ?\", \"type one two caus mellitu\", 12], [\"how is diabetes spread from person to person ?\", \"type one two caus mellitu\", 12], [\"does diabetes cause <unk> ?\", \"type one two caus mellitu\", 12], [\"is diabetes an example of <unk> hyposecretion or receptor problem ?\", \"type one two caus mellitu\", 12], [\"what disorder is type two diabetes ?\", \"type one two caus mellitu\", 12], [\"what risks contribute to diabetes ?\", \"type one two caus mellitu\", 12], [\"the number one cause of what in adults in the us is diabetes ?\", \"type one two caus mellitu\", 12], [\"is diabetes transferable through any body contact ?\", \"type one two caus mellitu\", 12], [\"how can diabetes mellitus result in <unk> ?\", \"type one two caus mellitu\", 12], [\"how would someone subscribe to the magazine diabetes care ?\", \"type one two caus mellitu\", 12], [\"juveniles diabetes foundation ?\", \"type one two caus mellitu\", 12], [\"what causes diabetes insipidus ?\", \"type one two caus mellitu\", 12], [\"is type one diabetes easier or harder to treat than type two diabetes ?\", \"type one two caus mellitu\", 12], [\"why is type two diabetes more common in the us then in any other country ?\", \"type one two caus mellitu\", 12], [\"is type one diabetes a mutation ?\", \"type one two caus mellitu\", 12], [\"is type two diabetes rarer than type one ?\", \"type one two caus mellitu\", 12], [\"<unk> of type two diabetes ?\", \"type one two caus mellitu\", 12], [\"is type one diabetes an inherited condition ?\", \"type one two caus mellitu\", 12], [\"when is diabetes awareness month ?\", \"type one two caus mellitu\", 12], [\"does <unk> <unk> have type one diabetes ?\", \"type one two caus mellitu\", 12], [\"what may contribute to the onset of type ii diabetes ?\", \"type one two caus mellitu\", 12], [\"reverse diabetes ?\", \"type one two caus mellitu\", 12], [\"name of disorder of diabetes ?\", \"type one two caus mellitu\", 12], [\"is type two diabetes known as insulin-dependent diabetes ?\", \"type one two caus mellitu\", 12], [\"diabetes and <unk> ?\", \"type one two caus mellitu\", 12], [\"will <unk> cause diabetes ?\", \"type one two caus mellitu\", 12], [\"is diabetes transferable sexually ?\", \"type one two caus mellitu\", 12], [\"diabetes increases your <unk> of suffering from ?\", \"type one two caus mellitu\", 12], [\"who are more at risk of developing type ii diabetes mellitus ?\", \"type one two caus mellitu\", 12], [\"<unk> of diabetes ?\", \"type one two caus mellitu\", 12], [\"is diabetes autosomal or sex linked ?\", \"type one two caus mellitu\", 12], [\"can people with type one diabetes use <unk> ?\", \"type one two caus mellitu\", 12], [\"is there a type three diabetes ?\", \"type one two caus mellitu\", 12], [\"type one and type two diabetes ?\", \"type one two caus mellitu\", 12], [\"is stress linked to type ll diabetes ?\", \"type one two caus mellitu\", 12], [\"what type of hereditary condition is <unk> <unk> ?\", \"type one two caus mellitu\", 12], [\"low mpv count ?\", \"type one two caus mellitu\", 12], [\"is diabetes one more common than diabetes two ?\", \"type one two caus mellitu\", 12], [\"how is diabetes transferred ?\", \"type one two caus mellitu\", 12], [\"what may be the cause of a twenty seven yr old girl found suffering from diabetes who has no such family history ?\", \"type one two caus mellitu\", 12], [\"can diabetes be <unk> ?\", \"type one two caus mellitu\", 12], [\"what type of diabetes is it if it runs in the family ?\", \"type one two caus mellitu\", 12], [\"are <unk> and <unk> strait <unk> more susceptible to getting diabetes ?\", \"type one two caus mellitu\", 12], [\"how does <unk> lead to hyperglycemia ?\", \"type one two caus mellitu\", 12], [\"can hypoglycemia lead to diabetes ?\", \"type one two caus mellitu\", 12], [\"is rolling your tongue a dominant or recessive trait ?\", \"type one two caus mellitu\", 12], [\"what is type i diabetes ?\", \"type one two caus mellitu\", 12], [\"how is type one diabetes mellitus similar to starvation ?\", \"type one two caus mellitu\", 12], [\"what percent of type two diabetes patients are overweight and obese ?\", \"type one two caus mellitu\", 12], [\"<unk> and diabetes ?\", \"type one two caus mellitu\", 12], [\"why do afro-americans suffer from such diseases as hypertension diabetes cancer and heart failure than any other race of people ?\", \"type one two caus mellitu\", 12], [\"which <unk> <unk> has diabetes ?\", \"type one two caus mellitu\", 12], [\"risk of developing type two diabetes can be <unk> by ?\", \"type one two caus mellitu\", 12], [\"scientific name for diabetes ?\", \"type one two caus mellitu\", 12], [\"can children have type one or type two diabetes ?\", \"type one two caus mellitu\", 12], [\"how could the author position on type ii diabetes be <unk> in the article ?\", \"type one two caus mellitu\", 12], [\"<unk> in <unk> of managing diabetes ?\", \"type one two caus mellitu\", 12], [\"education and diabetes management ?\", \"type one two caus mellitu\", 12]], \"hovertemplate\": \"summary=%{customdata[1]}<br>pc_1=%{x}<br>pc_2=%{y}<br>pc_3=%{z}<br>question=%{customdata[0]}<br>label=%{customdata[2]}<extra></extra>\", \"legendgroup\": \"type one two caus mellitu\", \"marker\": {\"color\": \"#636efa\", \"size\": 8, \"symbol\": \"circle\"}, \"mode\": \"markers\", \"name\": \"type one two caus mellitu\", \"scene\": \"scene\", \"showlegend\": true, \"type\": \"scatter3d\", \"x\": [-0.2555118203163147, -0.19506867229938507, -0.6072947382926941, -0.27987343072891235, -0.33499962091445923, -0.46906763315200806, -0.20818385481834412, -0.3651634752750397, -0.36024418473243713, -0.3621741831302643, -0.30420082807540894, -0.33536580204963684, -0.4632059931755066, -0.5484558939933777, -0.3951209783554077, -0.5718705058097839, -0.39999255537986755, -0.34431329369544983, -0.28472965955734253, -0.3220618963241577, -0.5357718467712402, -0.3136754333972931, -0.38480696082115173, -0.38137805461883545, -0.5903123021125793, -0.417900025844574, -0.35423216223716736, -0.6349600553512573, -0.5859814286231995, -0.2891779839992523, -0.4302750825881958, -0.37839800119400024, -0.3402601480484009, -0.4407648742198944, -0.5480446219444275, -0.26636987924575806, -0.4614717662334442, -0.31699758768081665, -0.4839499890804291, -0.5752232670783997, -0.1758163422346115, -0.41216200590133667, -0.49413490295410156, -0.5007857084274292, -0.3149990141391754, -0.2753812372684479, -0.47049736976623535, -0.28037962317466736, -0.3970418870449066, -0.46973687410354614, -0.30328160524368286, -0.27317994832992554, -0.34712785482406616, -0.4991406202316284, -0.25872427225112915, -0.2348395735025406, -0.3632969558238983, -0.20520754158496857, -0.38089755177497864, -0.3208347260951996, -0.5074096918106079, -0.37972062826156616, -0.3094499409198761, -0.4507561922073364, -0.3383447527885437, -0.36425426602363586, -0.22909708321094513, -0.30639025568962097, -0.40489518642425537, -0.4169507324695587, -0.3860752582550049, -0.3854488730430603, -0.4980635941028595, -0.2805890440940857, -0.4261927306652069, -0.33948537707328796, -0.5138121843338013, -0.6701012253761292, -0.4144381284713745, -0.29714536666870117, -0.43287718296051025, -0.24798843264579773, -0.45343446731567383, -0.38041388988494873, -0.2804809808731079, -0.6453092694282532, -0.49542874097824097, -0.3093670904636383, -0.4476223587989807, -0.40324676036834717, -0.4344997704029083, -0.5316166281700134, -0.32996270060539246, -0.28052133321762085, -0.4158018231391907, -0.369137704372406, -0.3318324685096741, -0.34468603134155273, -0.6207231879234314, -0.22241872549057007, -0.6576532125473022, -0.2282836139202118, -0.33306998014450073, -0.346658855676651], \"y\": [-0.4261765480041504, -0.17872600257396698, -0.04264596477150917, -0.39471933245658875, -0.235452339053154, -0.2889251410961151, -0.43330419063568115, -0.38124334812164307, -0.41314440965652466, -0.2692001461982727, -0.22296114265918732, -0.3438315987586975, -0.5092459321022034, -0.4819386303424835, -0.46408191323280334, -0.17834821343421936, -0.3732495605945587, -0.37576934695243835, -0.1765410602092743, -0.5311383008956909, -0.12771059572696686, -0.2828056216239929, -0.3136847913265228, -0.2656481862068176, -0.4081219434738159, -0.19244688749313354, -0.4055696129798889, -0.11174119263887405, -0.089385487139225, -0.25385990738868713, -0.3377104699611664, -0.45487987995147705, -0.16651885211467743, -0.1479407548904419, -0.126639723777771, -0.4134250581264496, -0.4534815847873688, -0.23907198011875153, -0.42351022362709045, -0.13303230702877045, -0.17421869933605194, -0.1583855301141739, -0.4921458661556244, -0.3302949368953705, -0.5102254748344421, -0.272023469209671, -0.18513385951519012, -0.35344398021698, -0.17217984795570374, -0.2745567262172699, -0.38582107424736023, -0.2289063185453415, -0.22686973214149475, -0.23771440982818604, -0.2663031816482544, -0.233954519033432, -0.22720979154109955, -0.2541400194168091, -0.4463236331939697, -0.3086789548397064, -0.4792262315750122, -0.5025891661643982, -0.3825508952140808, -0.38876083493232727, -0.24332109093666077, -0.35613617300987244, -0.3522420823574066, -0.2314058095216751, -0.39891183376312256, -0.5834128260612488, -0.23572520911693573, -0.14418809115886688, -0.4137357473373413, -0.17595642805099487, -0.37674379348754883, -0.2766595184803009, -0.44390013813972473, -0.10995081812143326, -0.48464521765708923, -0.4775618016719818, -0.3362249732017517, -0.5002930760383606, -0.22949016094207764, -0.4305347502231598, -0.3403775095939636, -0.01476890780031681, -0.16391006112098694, -0.3465179204940796, -0.21330825984477997, -0.08403198421001434, -0.11031685769557953, -0.40603917837142944, -0.3896789848804474, -0.4596744477748871, -0.29319101572036743, -0.24120594561100006, -0.13751372694969177, -0.2089986354112625, -0.15320393443107605, -0.2834460437297821, -0.10356617718935013, -0.3027198016643524, -0.29860565066337585, -0.20690639317035675], \"z\": [0.29828357696533203, 0.20753048360347748, 0.26006123423576355, 0.3612286448478699, 0.0753243938088417, 0.06760567426681519, 0.30583441257476807, 0.44372957944869995, 0.30295324325561523, 0.3062676787376404, 0.3382726311683655, 0.35521164536476135, 0.35240912437438965, 0.36942702531814575, 0.2628626823425293, 0.31920862197875977, 0.29951319098472595, 0.1055421233177185, 0.2823072373867035, 0.32332679629325867, 0.3184906542301178, 0.07697364687919617, 0.1084684506058693, 0.023677945137023926, 0.4100753664970398, 0.13261058926582336, 0.17540325224399567, 0.3445555865764618, 0.2683631479740143, 0.24860817193984985, 0.11935291439294815, 0.39267024397850037, 0.19707027077674866, 0.38223886489868164, 0.22410917282104492, 0.17732544243335724, 0.35729074478149414, 0.2808071970939636, 0.36276349425315857, 0.28609582781791687, 0.27054154872894287, 0.2538200616836548, 0.4280378520488739, 0.39497700333595276, 0.35598817467689514, 0.3049105405807495, 0.28698188066482544, 0.10171973705291748, 0.3296884596347809, 0.12703917920589447, 0.22170297801494598, 0.1918439120054245, 0.3907153606414795, 0.2928595542907715, 0.1342577189207077, 0.24983832240104675, 0.2825034558773041, 0.1084713563323021, 0.4456258714199066, 0.4138096868991852, 0.34798455238342285, 0.3858659267425537, 0.32756051421165466, 0.28050506114959717, -0.007256598677486181, 0.33183151483535767, 0.2403436154127121, 0.1251055896282196, 0.19111527502536774, 0.3942122161388397, 0.14548957347869873, 0.36983874440193176, 0.41243380308151245, 0.11937427520751953, 0.3708418905735016, 0.147795170545578, 0.44506126642227173, 0.3004595935344696, 0.25894367694854736, 0.3962269127368927, 0.29840928316116333, 0.2560736835002899, 0.2999720573425293, 0.3678413927555084, 0.1581449657678604, 0.2631528377532959, 0.2909233272075653, 0.252022385597229, 0.19145777821540833, 0.31807106733322144, 0.32288670539855957, 0.33570942282676697, 0.24556545913219452, 0.28149303793907166, 0.21694926917552948, 0.1675879806280136, 0.36564427614212036, 0.04678349569439888, 0.24812039732933044, 0.3304583728313446, 0.22115759551525116, 0.2298194020986557, 0.19272896647453308, 0.22059214115142822]}, {\"customdata\": [[\"what are the side effects of insulin ?\", \"effect caus side urin frequent\", 19], [\"what is the cause of constant fatigue ?\", \"effect caus side urin frequent\", 19], [\"effects of diabetes mellitus ?\", \"effect caus side urin frequent\", 19], [\"whats are the side effects of diabetes . ?\", \"effect caus side urin frequent\", 19], [\"what are some of the effects of type one diabetes ?\", \"effect caus side urin frequent\", 19], [\"what are the negative effects of massage to a person with diabetes ?\", \"effect caus side urin frequent\", 19], [\"what causes a diabetic to have frequent urination ?\", \"effect caus side urin frequent\", 19], [\"what is the effect of alcohol on diabetes mellitus ?\", \"effect caus side urin frequent\", 19], [\"what are diabetes effects on the body ?\", \"effect caus side urin frequent\", 19], [\"what are the causes of frequent urination ?\", \"effect caus side urin frequent\", 19], [\"what are some side effects of metformin ?\", \"effect caus side urin frequent\", 19], [\"what are the long term side effects of diabetes ?\", \"effect caus side urin frequent\", 19], [\"what type of effect does <unk> have on diabetes ?\", \"effect caus side urin frequent\", 19], [\"what organs does smoking effect ?\", \"effect caus side urin frequent\", 19], [\"what are some short term effects of type two diabetes ?\", \"effect caus side urin frequent\", 19], [\"can pioglitazone cause <unk> <unk> on prolonged use ?\", \"effect caus side urin frequent\", 19], [\"is blindness a long term effect of diabetes ?\", \"effect caus side urin frequent\", 19], [\"can diabetes cause alcohol breath ?\", \"effect caus side urin frequent\", 19], [\"does long term use of steroids cause diabetes ?\", \"effect caus side urin frequent\", 19], [\"does <unk> cause frequent urination ?\", \"effect caus side urin frequent\", 19], [\"is there any side effects of paneer ka phool on diabetes patient ?\", \"effect caus side urin frequent\", 19], [\"what are the effects of diabetes ?\", \"effect caus side urin frequent\", 19], [\"causes of frequent urination ?\", \"effect caus side urin frequent\", 19], [\"what are the side effects of using <unk> ?\", \"effect caus side urin frequent\", 19], [\"does polyuria cause excessive urination ?\", \"effect caus side urin frequent\", 19], [\"why are drinking water levels often so low ?\", \"effect caus side urin frequent\", 19], [\"what side affects can lantus give you ?\", \"effect caus side urin frequent\", 19], [\"what are the consequences or effects of diabetes ?\", \"effect caus side urin frequent\", 19], [\"what are the medications associated with diabetes ?\", \"effect caus side urin frequent\", 19]], \"hovertemplate\": \"summary=%{customdata[1]}<br>pc_1=%{x}<br>pc_2=%{y}<br>pc_3=%{z}<br>question=%{customdata[0]}<br>label=%{customdata[2]}<extra></extra>\", \"legendgroup\": \"effect caus side urin frequent\", \"marker\": {\"color\": \"#EF553B\", \"size\": 8, \"symbol\": \"circle\"}, \"mode\": \"markers\", \"name\": \"effect caus side urin frequent\", \"scene\": \"scene\", \"showlegend\": true, \"type\": \"scatter3d\", \"x\": [0.1359296590089798, 0.09931223094463348, -0.009818422608077526, 0.08259952068328857, 0.02012394182384014, 0.08959904313087463, 0.10913298279047012, -0.04842807352542877, 0.03580644726753235, 0.07144273072481155, 0.1286190152168274, 0.08889040350914001, -0.03333254158496857, -0.04806002229452133, 0.10197850316762924, 0.012234088033437729, 0.0418449304997921, -0.03736380860209465, 0.0405319444835186, 0.004699758719652891, 0.11089733988046646, 0.027702756226062775, 0.05065659061074257, 0.1261378526687622, 0.0347907692193985, 0.1893155723810196, 0.020700175315141678, 0.023630041629076004, 0.14450813829898834], \"y\": [-0.2619406580924988, -0.19895046949386597, -0.362577348947525, -0.23259355127811432, -0.415922611951828, -0.3084586560726166, -0.12388569116592407, -0.3074551820755005, -0.33250173926353455, -0.13632012903690338, -0.31597229838371277, -0.30657699704170227, -0.31398701667785645, -0.2880718410015106, -0.23318061232566833, -0.21613827347755432, -0.3106723427772522, -0.13782398402690887, -0.29821664094924927, -0.1328992247581482, -0.3203969895839691, -0.3541867733001709, -0.14075179398059845, -0.2653401792049408, -0.1615196019411087, -0.2172025442123413, -0.2347380816936493, -0.340451717376709, -0.21800237894058228], \"z\": [0.15436764061450958, 0.05995332822203636, 0.15627892315387726, 0.10962497442960739, 0.03410816565155983, 0.05141061916947365, 0.0747852548956871, 0.16032159328460693, 0.0034367279149591923, 0.03344873711466789, 0.10744862258434296, 0.14558221399784088, 0.10864485055208206, 0.05709829926490784, 0.17151828110218048, 0.17211732268333435, 0.17247357964515686, 0.15187063813209534, 0.2405264973640442, 0.1189790591597557, 0.21043148636817932, 0.04449665546417236, 0.11232437938451767, 0.11759046465158463, 0.09354687482118607, 0.1727500855922699, 0.0791817158460617, 0.08195727318525314, 0.2508717179298401]}, {\"customdata\": [[\"do insulin-dependent diabetics ever inject themselves with glucagon or cortisol ?\", \"insulin inject use type human\", 0], [\"why must insulin be injected not taken by mouth ?\", \"insulin inject use type human\", 0], [\"how often do you have to put insulin in your insulin pump ?\", \"insulin inject use type human\", 0], [\"who <unk> the insulin pump ?\", \"insulin inject use type human\", 0], [\"can you give insulin in a tuberculin syringe ?\", \"insulin inject use type human\", 0], [\"what is the only insulin that can be given intravenously ?\", \"insulin inject use type human\", 0], [\"which <unk> promotes insulin resistance ?\", \"insulin inject use type human\", 0], [\"why would a diabetic need an insulin shot ?\", \"insulin inject use type human\", 0], [\"when does type two diabetes turn into insulin dependent ?\", \"insulin inject use type human\", 0], [\"how is commercially insulin prepared ?\", \"insulin inject use type human\", 0], [\"which type of diabetes may involve injections of insulin ?\", \"insulin inject use type human\", 0], [\"what is lancet insulin ?\", \"insulin inject use type human\", 0], [\"difference between insulin <unk> and insulin human actrapid ?\", \"insulin inject use type human\", 0], [\"when is regular insulin used ?\", \"insulin inject use type human\", 0], [\"how do you differentiate actrapid and <unk> insulin ?\", \"insulin inject use type human\", 0], [\"will taking 30-60 units of insulin a day hurt me ?\", \"insulin inject use type human\", 0], [\"why does the amount of insulin injected need to be controlled ?\", \"insulin inject use type human\", 0], [\"why does your body need insulin ?\", \"insulin inject use type human\", 0], [\"how do you inject insulin ?\", \"insulin inject use type human\", 0], [\"why should insulin be <unk> ?\", \"insulin inject use type human\", 0], [\"who is the <unk> of insulin ?\", \"insulin inject use type human\", 0], [\"why is insulin necessary ?\", \"insulin inject use type human\", 0], [\"why diabete insulin can not made a pill same as diabete ?\", \"insulin inject use type human\", 0], [\"<unk> makes insulin because ?\", \"insulin inject use type human\", 0], [\"why insulin is used ?\", \"insulin inject use type human\", 0], [\"does insulin need to be <unk> ?\", \"insulin inject use type human\", 0], [\"how is insulin <unk> ?\", \"insulin inject use type human\", 0], [\"why are human <unk> not the best source for insulin ?\", \"insulin inject use type human\", 0], [\"what is insulin made by ?\", \"insulin inject use type human\", 0], [\"why must insulin be taken as an injection ?\", \"insulin inject use type human\", 0], [\"why are bacteria used to make human insulin ?\", \"insulin inject use type human\", 0], [\"what are the dangers for a type one diabetic taking only twenty four hour insulin stabilizer ?\", \"insulin inject use type human\", 0], [\"how is insulin released and regulated ?\", \"insulin inject use type human\", 0], [\"why do you have to inject insulin ?\", \"insulin inject use type human\", 0], [\"how is human insulin manufactured ?\", \"insulin inject use type human\", 0], [\"insulin how is it used ?\", \"insulin inject use type human\", 0], [\"mechanism of insulin zinc <unk> in type one diabetes ?\", \"insulin inject use type human\", 0], [\"can nph insulin be given iv ?\", \"insulin inject use type human\", 0], [\"will insulin kill if injected into vein ?\", \"insulin inject use type human\", 0], [\"what makes <unk> insulin and glucagon ?\", \"insulin inject use type human\", 0], [\"what are uses of insulin ?\", \"insulin inject use type human\", 0], [\"what is insulin responsible for ?\", \"insulin inject use type human\", 0], [\"why insulin can not be taken orally ?\", \"insulin inject use type human\", 0], [\"why is insulin injected ?\", \"insulin inject use type human\", 0], [\"what if you have to much insulin resistance ?\", \"insulin inject use type human\", 0], [\"do regular insulin same with actrapid insulin ?\", \"insulin inject use type human\", 0], [\"is insulin available in <unk> ?\", \"insulin inject use type human\", 0], [\"can insulin be taken with exenatide ?\", \"insulin inject use type human\", 0], [\"when should a rapid acting insulin administered ?\", \"insulin inject use type human\", 0], [\"why is pig insulin being used as a substitute of human insulin ?\", \"insulin inject use type human\", 0], [\"insulin and human growth hormone are two examples of products produced by what ?\", \"insulin inject use type human\", 0], [\"what should a physician do to treat insulin shock ?\", \"insulin inject use type human\", 0], [\"insulin works as an <unk> to ?\", \"insulin inject use type human\", 0], [\"how do you use insulin ?\", \"insulin inject use type human\", 0], [\"how does a type one diabetic become insulin resistance ?\", \"insulin inject use type human\", 0], [\"why must type i diabetes patients inject insulin ?\", \"insulin inject use type human\", 0], [\"when should insulin be taken ?\", \"insulin inject use type human\", 0], [\"what is smart insulin ?\", \"insulin inject use type human\", 0], [\"how is the insulin measured on the syringe ?\", \"insulin inject use type human\", 0], [\"why do diabetics inject insulin ?\", \"insulin inject use type human\", 0], [\"what happens if you inject expired insulin ?\", \"insulin inject use type human\", 0], [\"does the body of a diabetic not produce enough insulin or can not properly use the insulin it does make ?\", \"insulin inject use type human\", 0], [\"how often do type one diabetics take insulin ?\", \"insulin inject use type human\", 0], [\"how is insulin regulated ?\", \"insulin inject use type human\", 0], [\"how long is insulin good ?\", \"insulin inject use type human\", 0], [\"what is the longest acting insulin ?\", \"insulin inject use type human\", 0], [\"how do you give insulin ?\", \"insulin inject use type human\", 0], [\"how much insulin should you be taking ?\", \"insulin inject use type human\", 0], [\"when is insulin pump given ?\", \"insulin inject use type human\", 0], [\"how was insulin made ?\", \"insulin inject use type human\", 0]], \"hovertemplate\": \"summary=%{customdata[1]}<br>pc_1=%{x}<br>pc_2=%{y}<br>pc_3=%{z}<br>question=%{customdata[0]}<br>label=%{customdata[2]}<extra></extra>\", \"legendgroup\": \"insulin inject use type human\", \"marker\": {\"color\": \"#00cc96\", \"size\": 8, \"symbol\": \"circle\"}, \"mode\": \"markers\", \"name\": \"insulin inject use type human\", \"scene\": \"scene\", \"showlegend\": true, \"type\": \"scatter3d\", \"x\": [0.4046532213687897, 0.4463510811328888, 0.6222491264343262, 0.5683393478393555, 0.596420168876648, 0.40545788407325745, 0.3866094648838043, 0.3093236982822418, 0.39873024821281433, 0.5446456670761108, 0.46153584122657776, 0.6682182550430298, 0.6106494665145874, 0.5694396495819092, 0.5750378370285034, 0.6082440614700317, 0.5107896327972412, 0.7621235847473145, 0.5654661655426025, 0.7038047909736633, 0.6364279389381409, 0.6967464685440063, 0.42419177293777466, 0.36657071113586426, 0.5277164578437805, 0.3718216121196747, 0.661077618598938, 0.4446902871131897, 0.6491914391517639, 0.4792192578315735, 0.5186302661895752, 0.41250765323638916, 0.5406225323677063, 0.6067031025886536, 0.5766553282737732, 0.6198115348815918, 0.4093943238258362, 0.39022356271743774, 0.48427286744117737, 0.5124894976615906, 0.6818900108337402, 0.7021533250808716, 0.37449121475219727, 0.5133968591690063, 0.6836568713188171, 0.488945335149765, 0.46825408935546875, 0.4236890971660614, 0.43641501665115356, 0.5141201019287109, 0.44868192076683044, 0.5312126278877258, 0.4192548990249634, 0.6072943806648254, 0.43338239192962646, 0.44447749853134155, 0.40507882833480835, 0.4777388870716095, 0.6018813252449036, 0.45323264598846436, 0.5525152087211609, 0.301597535610199, 0.45136651396751404, 0.5552918910980225, 0.6428131461143494, 0.6831357479095459, 0.614579975605011, 0.6917716860771179, 0.5334286093711853, 0.49763983488082886], \"y\": [-0.3198794424533844, -0.27436649799346924, -0.28076520562171936, -0.33095723390579224, -0.28745266795158386, -0.16302275657653809, -0.36068394780158997, -0.3283393383026123, -0.4021317660808563, -0.36430904269218445, -0.3750264346599579, -0.2903197109699249, -0.4700514078140259, -0.4196462035179138, -0.28445106744766235, -0.14889703691005707, -0.2929292321205139, -0.29241374135017395, -0.2338925451040268, -0.2986487150192261, -0.4309200346469879, -0.3218284249305725, -0.24958373606204987, -0.38981083035469055, -0.3989477753639221, -0.30383598804473877, -0.42821362614631653, -0.4479537010192871, -0.4786432385444641, -0.23773111402988434, -0.48323938250541687, -0.25376614928245544, -0.3727092742919922, -0.23292259871959686, -0.4737401008605957, -0.4292623698711395, -0.42525187134742737, -0.3348909020423889, -0.2642541229724884, -0.32947736978530884, -0.4710216820240021, -0.38941362500190735, -0.2027098536491394, -0.29584649205207825, -0.2275596410036087, -0.34032848477363586, -0.36724841594696045, -0.2065524309873581, -0.2057429850101471, -0.4358113706111908, -0.47412654757499695, -0.20381417870521545, -0.3576487600803375, -0.27871984243392944, -0.43734943866729736, -0.31511420011520386, -0.2757387161254883, -0.39956480264663696, -0.35415753722190857, -0.3289147615432739, -0.19812938570976257, -0.3210689425468445, -0.37724727392196655, -0.3685506284236908, -0.35568010807037354, -0.3786900043487549, -0.25052911043167114, -0.24431073665618896, -0.32178327441215515, -0.4382639527320862], \"z\": [0.3329543471336365, 0.27346983551979065, 0.2485322803258896, 0.27558302879333496, 0.3627144396305084, 0.3676309883594513, 0.17510248720645905, 0.3594568073749542, 0.3677673935890198, 0.1932445764541626, 0.41280537843704224, 0.10378460586071014, 0.0950530618429184, 0.2264867126941681, 0.1608530431985855, 0.28272441029548645, 0.4088801145553589, 0.11878833919763565, 0.27733883261680603, 0.1945517212152481, 0.2553321421146393, 0.17230194807052612, 0.34137558937072754, 0.3831586241722107, 0.21272240579128265, 0.22741922736167908, 0.15245653688907623, 0.1785823106765747, 0.24770677089691162, 0.3470286428928375, 0.11549916118383408, 0.19759362936019897, 0.10987371951341629, 0.29047566652297974, 0.1231728345155716, 0.174538254737854, 0.22478123009204865, 0.2495744675397873, 0.24112366139888763, 0.10800349712371826, 0.17463532090187073, 0.15472280979156494, 0.38362783193588257, 0.3115834593772888, 0.18526358902454376, 0.2636127769947052, 0.19100074470043182, 0.4185030460357666, 0.26936888694763184, 0.1829473078250885, 0.15132863819599152, 0.3559737801551819, 0.14527982473373413, 0.1966111660003662, 0.3628343343734741, 0.41377657651901245, 0.2423153668642044, 0.2423301786184311, 0.09790125489234924, 0.33236587047576904, 0.26611995697021484, 0.23546357452869415, 0.331997811794281, 0.14383624494075775, 0.19478380680084229, 0.2291620820760727, 0.20416469871997833, 0.2194717973470688, 0.27785003185272217, 0.2823435664176941]}, {\"customdata\": [[\"how is diabetes dignosed ?\", \"type mean definit two dignos\", 41], [\"what on <unk> is diabetes ?\", \"type mean definit two dignos\", 41], [\"which is the worst diabetes ?\", \"type mean definit two dignos\", 41], [\"what is diabetes management ?\", \"type mean definit two dignos\", 41], [\"what is generic diabetes ?\", \"type mean definit two dignos\", 41], [\"what is diabetes inspidus ?\", \"type mean definit two dignos\", 41], [\"what is diabetes myelitis ?\", \"type mean definit two dignos\", 41], [\"why is diabetes called diabetes ?\", \"type mean definit two dignos\", 41], [\"how prevalent is diabetes ?\", \"type mean definit two dignos\", 41], [\"what is the root word of diabetes ?\", \"type mean definit two dignos\", 41], [\"what important about diabetes ?\", \"type mean definit two dignos\", 41], [\"what is the history of diabetes ?\", \"type mean definit two dignos\", 41], [\"what is <unk> diabetes ?\", \"type mean definit two dignos\", 41], [\"what is diabetes <unk> ?\", \"type mean definit two dignos\", 41], [\"how is diabetes diagnosed ?\", \"type mean definit two dignos\", 41], [\"is diabetes environmental ?\", \"type mean definit two dignos\", 41], [\"what is the meaning or definition of diabetes ?\", \"type mean definit two dignos\", 41], [\"what is diabetes <unk> . ?\", \"type mean definit two dignos\", 41], [\"is diabetes type two something to be worried about ?\", \"type mean definit two dignos\", 41], [\"what 3ps mean in diabetes ?\", \"type mean definit two dignos\", 41], [\"what is the definition of diabetes ?\", \"type mean definit two dignos\", 41], [\"what is diabetes in <unk> ?\", \"type mean definit two dignos\", 41], [\"what is the chance of getting type one diabetes ?\", \"type mean definit two dignos\", 41], [\"how is diabetes <unk> ?\", \"type mean definit two dignos\", 41], [\"what is the author is <unk> about type two diabetes ?\", \"type mean definit two dignos\", 41], [\"what is diabetes millitus ?\", \"type mean definit two dignos\", 41], [\"what is the name of a diabetes specialist ?\", \"type mean definit two dignos\", 41], [\"what is obesity and diabetes ?\", \"type mean definit two dignos\", 41], [\"what is diabetes ?\", \"type mean definit two dignos\", 41]], \"hovertemplate\": \"summary=%{customdata[1]}<br>pc_1=%{x}<br>pc_2=%{y}<br>pc_3=%{z}<br>question=%{customdata[0]}<br>label=%{customdata[2]}<extra></extra>\", \"legendgroup\": \"type mean definit two dignos\", \"marker\": {\"color\": \"#ab63fa\", \"size\": 8, \"symbol\": \"circle\"}, \"mode\": \"markers\", \"name\": \"type mean definit two dignos\", \"scene\": \"scene\", \"showlegend\": true, \"type\": \"scatter3d\", \"x\": [-0.18547536432743073, -0.09378302097320557, -0.13929133117198944, -0.1743253767490387, -0.1136651411652565, -0.1816418319940567, -0.19781595468521118, -0.19260597229003906, -0.23327206075191498, -0.11230296641588211, -0.17853879928588867, -0.08251938223838806, -0.14830733835697174, -0.171841099858284, -0.22932040691375732, -0.32215553522109985, -0.04897385090589523, -0.18200565874576569, -0.24292103946208954, -0.08583203703165054, -0.05928710475564003, -0.11277198791503906, -0.22997406125068665, -0.19598086178302765, -0.14245425164699554, -0.13554508984088898, -0.09992814809083939, -0.2437458336353302, -0.16523492336273193], \"y\": [-0.4450739920139313, -0.4603704512119293, -0.4079190194606781, -0.47814980149269104, -0.5046443939208984, -0.6568292379379272, -0.6552461385726929, -0.5358713865280151, -0.46701183915138245, -0.6345483064651489, -0.4590641260147095, -0.6562376618385315, -0.4822046160697937, -0.6225506663322449, -0.5914252400398254, -0.6062342524528503, -0.6527019739151001, -0.565971314907074, -0.5308292508125305, -0.5684859752655029, -0.6509381532669067, -0.585585355758667, -0.6133729219436646, -0.5887948274612427, -0.5052890777587891, -0.4624101221561432, -0.4468946158885956, -0.6034459471702576, -0.5962942242622375], \"z\": [-0.06913745403289795, -0.10463699698448181, -0.08079200983047485, -0.005090208724141121, -0.016919001936912537, -0.09880156815052032, -0.16016416251659393, -0.006851679179817438, -0.09101800620555878, -0.028507832437753677, -0.1708238422870636, -0.12566445767879486, -0.0631023570895195, -0.11120623350143433, -0.1972591131925583, -0.10001054406166077, -0.049916308373212814, -0.06429532170295715, -0.0754190981388092, -0.1119430735707283, -0.0886700227856636, -0.07809852808713913, -0.005576104391366243, -0.1408180594444275, -0.12205623835325241, -0.05512119457125664, -0.00654373224824667, -0.1043514832854271, -0.0876678004860878]}, {\"customdata\": [[\"what are symptoms of hypoglycemia ?\", \"symptom sign blood sugar low\", 6], [\"what are diabetes early signs ?\", \"symptom sign blood sugar low\", 6], [\"what are diabetes symptoms and preventions ?\", \"symptom sign blood sugar low\", 6], [\"what colour does blue <unk> paper turn to indicate diabetes ?\", \"symptom sign blood sugar low\", 6], [\"what are the symptoms of type two diabetes ?\", \"symptom sign blood sugar low\", 6], [\"what are the signs of gestational diabetes ?\", \"symptom sign blood sugar low\", 6], [\"diabetes warning signs ?\", \"symptom sign blood sugar low\", 6], [\"i think i have diabetes , what are clues ?\", \"symptom sign blood sugar low\", 6], [\"diabetes symptoms and signs ?\", \"symptom sign blood sugar low\", 6], [\"what are signs of your cat having diabetes ?\", \"symptom sign blood sugar low\", 6], [\"what are the symptoms of dibetes ?\", \"symptom sign blood sugar low\", 6], [\"what are the symptoms of diabetes person ?\", \"symptom sign blood sugar low\", 6], [\"whats the symptoms of hamster diabetes ?\", \"symptom sign blood sugar low\", 6], [\"the different symptoms of diabetes ?\", \"symptom sign blood sugar low\", 6], [\"diabetes symptoms ?\", \"symptom sign blood sugar low\", 6], [\"high blood sugar symptoms ?\", \"symptom sign blood sugar low\", 6], [\"what other symptoms are their of diabetes <unk> rise of blood sugar ?\", \"symptom sign blood sugar low\", 6], [\"common diabetes symptoms ?\", \"symptom sign blood sugar low\", 6], [\"what are the symptoms of being a diabetic ?\", \"symptom sign blood sugar low\", 6], [\"why do diabetics are always urinating ?\", \"symptom sign blood sugar low\", 6], [\"what are the symptoms of high blood sugar ?\", \"symptom sign blood sugar low\", 6], [\"where can i find the symptoms of low blood sugar ?\", \"symptom sign blood sugar low\", 6], [\"what are two symptoms of diabetes mellitus ?\", \"symptom sign blood sugar low\", 6], [\"what are some signs of type one diabetes ?\", \"symptom sign blood sugar low\", 6], [\"what is diabetes and what are the symptoms ?\", \"symptom sign blood sugar low\", 6], [\"why does the signs and symptoms of diabetes appear together ?\", \"symptom sign blood sugar low\", 6], [\"what are the symptoms of diabetics ?\", \"symptom sign blood sugar low\", 6], [\"what are classic symptoms of diabetes ?\", \"symptom sign blood sugar low\", 6], [\"signs of hypoglycemia ?\", \"symptom sign blood sugar low\", 6], [\"what are symptoms of diabetes mellitus ?\", \"symptom sign blood sugar low\", 6], [\"detecting signs of diabetes ?\", \"symptom sign blood sugar low\", 6], [\"what are some symptoms of type two diabetes ?\", \"symptom sign blood sugar low\", 6], [\"what are the symptoms and causes of diabetes ?\", \"symptom sign blood sugar low\", 6], [\"what can persistent hunger or thirst be a symptom of ?\", \"symptom sign blood sugar low\", 6], [\"what are the warning signs of diabetes mellitus ?\", \"symptom sign blood sugar low\", 6], [\"what are the warning signs for diabetes ?\", \"symptom sign blood sugar low\", 6], [\"what are the first signs of childhood diabetes ?\", \"symptom sign blood sugar low\", 6], [\"what are some signs and symptoms for diabetes ?\", \"symptom sign blood sugar low\", 6], [\"what are some of the most common diabetes symptoms i should look out for ?\", \"symptom sign blood sugar low\", 6], [\"symptoms of type one diabetes ?\", \"symptom sign blood sugar low\", 6], [\"what are the symptom is of keto acidosis ?\", \"symptom sign blood sugar low\", 6], [\"what are signs of <unk> ?\", \"symptom sign blood sugar low\", 6], [\"what are classic signs of diabetes ?\", \"symptom sign blood sugar low\", 6], [\"common diabetes signs ?\", \"symptom sign blood sugar low\", 6], [\"what are symptoms of <unk> diabetes in adults ?\", \"symptom sign blood sugar low\", 6], [\"what could be the symptoms of diabetes ?\", \"symptom sign blood sugar low\", 6], [\"what are the early symptoms of diabetes ?\", \"symptom sign blood sugar low\", 6], [\"how do i identify the symptoms of diabetes ?\", \"symptom sign blood sugar low\", 6], [\"symptoms and signs of diabetic coma include ?\", \"symptom sign blood sugar low\", 6], [\"what are the symptoms and signs of having high blood sugar ?\", \"symptom sign blood sugar low\", 6], [\"the symptoms of diabetes in children ?\", \"symptom sign blood sugar low\", 6], [\"what are some signs of your blood sugar being low ?\", \"symptom sign blood sugar low\", 6], [\"what are symptoms of hypoglycemia , and how low is too low ?\", \"symptom sign blood sugar low\", 6], [\"what are some signs and symptoms of diabetes in children ?\", \"symptom sign blood sugar low\", 6], [\"what are some high blood sugar symptoms ?\", \"symptom sign blood sugar low\", 6], [\"what age do the symptoms of diabetes occur ?\", \"symptom sign blood sugar low\", 6], [\"what are five symptoms of diabetes ?\", \"symptom sign blood sugar low\", 6], [\"what are symptoms of low blood sugar ?\", \"symptom sign blood sugar low\", 6], [\"what are symptoms of diebetes ?\", \"symptom sign blood sugar low\", 6], [\"what are three classic signs of hyperglycemia ?\", \"symptom sign blood sugar low\", 6], [\"what are some <unk> nursing diagnosis for diabetes mellitus ?\", \"symptom sign blood sugar low\", 6]], \"hovertemplate\": \"summary=%{customdata[1]}<br>pc_1=%{x}<br>pc_2=%{y}<br>pc_3=%{z}<br>question=%{customdata[0]}<br>label=%{customdata[2]}<extra></extra>\", \"legendgroup\": \"symptom sign blood sugar low\", \"marker\": {\"color\": \"#FFA15A\", \"size\": 8, \"symbol\": \"circle\"}, \"mode\": \"markers\", \"name\": \"symptom sign blood sugar low\", \"scene\": \"scene\", \"showlegend\": true, \"type\": \"scatter3d\", \"x\": [-0.12847179174423218, -0.2140488177537918, -0.24611879885196686, -0.1390952616930008, -0.26499757170677185, -0.18358047306537628, -0.2703656852245331, -0.2222098708152771, -0.3321877419948578, -0.2389337718486786, -0.24072223901748657, -0.27549201250076294, -0.4002644419670105, -0.31926828622817993, -0.33069637417793274, -0.055937230587005615, -0.1587855964899063, -0.32913410663604736, -0.21990978717803955, -0.08885570615530014, -0.10473595559597015, -0.0372992679476738, -0.2836214303970337, -0.1689843088388443, -0.22591958940029144, -0.3106563985347748, -0.258269727230072, -0.2957174479961395, -0.10801489651203156, -0.31343674659729004, -0.3092118799686432, -0.2587314248085022, -0.2832881510257721, -0.24834614992141724, -0.20966430008411407, -0.24420689046382904, -0.2110302895307541, -0.2682549059391022, -0.3021690249443054, -0.308860719203949, -0.17610900104045868, -0.17329633235931396, -0.20134884119033813, -0.3230218291282654, -0.36842113733291626, -0.3168072998523712, -0.31674924492836, -0.31430256366729736, -0.0710819810628891, -0.08750991523265839, -0.4128762483596802, -0.02740822732448578, -0.09616384655237198, -0.25953689217567444, -0.0628531202673912, -0.3662322461605072, -0.26821836829185486, -0.08857589215040207, -0.23640261590480804, -0.16626304388046265, -0.13925664126873016], \"y\": [-0.3711016774177551, -0.27652743458747864, -0.32711488008499146, -0.24991697072982788, -0.42817258834838867, -0.34782662987709045, -0.19950512051582336, -0.21008628606796265, -0.27729952335357666, -0.2644615173339844, -0.42533984780311584, -0.39440399408340454, -0.37945571541786194, -0.38478848338127136, -0.3041892945766449, -0.3574698865413666, -0.40278810262680054, -0.3364678621292114, -0.4234520494937897, -0.2561717927455902, -0.39467981457710266, -0.32683509588241577, -0.5104051232337952, -0.2629242241382599, -0.38178300857543945, -0.3013485074043274, -0.4467543363571167, -0.4733242094516754, -0.32386571168899536, -0.5077164173126221, -0.21611006557941437, -0.45520010590553284, -0.36476194858551025, -0.2581358253955841, -0.22062787413597107, -0.22619886696338654, -0.2707614302635193, -0.25150245428085327, -0.2803560793399811, -0.4045891761779785, -0.4765298068523407, -0.29482001066207886, -0.29697149991989136, -0.21684712171554565, -0.36827531456947327, -0.4071826636791229, -0.4015229046344757, -0.3437427878379822, -0.30551302433013916, -0.36008769273757935, -0.34363842010498047, -0.4089316725730896, -0.3839156925678253, -0.2790536880493164, -0.39862340688705444, -0.41249385476112366, -0.42399653792381287, -0.4013743996620178, -0.4519493579864502, -0.313780814409256, -0.1996581107378006], \"z\": [-0.658794641494751, -0.6133100986480713, -0.6286333799362183, -0.5184620022773743, -0.6133373379707336, -0.5673505663871765, -0.5555225014686584, -0.6562209129333496, -0.7142717838287354, -0.7586232423782349, -0.7351477742195129, -0.646718442440033, -0.5876055359840393, -0.6156725883483887, -0.5062228441238403, -0.7946791648864746, -0.7214775085449219, -0.5132015347480774, -0.8267364501953125, -0.6249244213104248, -0.7544494867324829, -0.8022456765174866, -0.6619014143943787, -0.6528169512748718, -0.6592335104942322, -0.7117184996604919, -0.785775899887085, -0.7354125380516052, -0.6724046468734741, -0.6612498760223389, -0.6979856491088867, -0.6309826374053955, -0.6956522464752197, -0.4860679507255554, -0.5283188223838806, -0.5447869896888733, -0.5689769387245178, -0.557773768901825, -0.5734169483184814, -0.5555484890937805, -0.6820539832115173, -0.6277703642845154, -0.7225438356399536, -0.6269220113754272, -0.7381576895713806, -0.7402054667472839, -0.6793858408927917, -0.6234659552574158, -0.7449385523796082, -0.7369356155395508, -0.681218147277832, -0.7046424746513367, -0.6466917991638184, -0.6630090475082397, -0.7574717402458191, -0.6673710942268372, -0.6786714792251587, -0.7138832211494446, -0.7298303842544556, -0.7024111151695251, -0.6896097660064697]}, {\"customdata\": [[\"do high glucose means that you are a diabetic ?\", \"patient use take get give\", 25], [\"can <unk> <unk> be <unk> in diabetic patient ?\", \"patient use take get give\", 25], [\"when you give blood would they no if you were a diabetic ?\", \"patient use take get give\", 25], [\"can you be hospitalized for diabetics ?\", \"patient use take get give\", 25], [\"can doing drugs make someone diabetic ?\", \"patient use take get give\", 25], [\"can a diabetic get <unk> ?\", \"patient use take get give\", 25], [\"which one of the following chemicals is an artificial sweetener prescribed ot diabetic persons ?\", \"patient use take get give\", 25], [\"can you be a borderline diabetic ?\", \"patient use take get give\", 25], [\"is <unk> mountain herbs is suitable for me because i am looking chinese herbs for my grand mother is diabetes ?\", \"patient use take get give\", 25], [\"diabetic needles ?\", \"patient use take get give\", 25], [\"i am diabetic can i use <unk> ?\", \"patient use take get give\", 25], [\"best time to take diabetic pill ?\", \"patient use take get give\", 25], [\"is a <unk> sting bad for a diabetic ?\", \"patient use take get give\", 25], [\"can a cna shave a diabetic in the state of california ?\", \"patient use take get give\", 25], [\"why is it important that this solute be removed from diabetic patients ?\", \"patient use take get give\", 25], [\"if a diabetic passes out do you give smelling salts ?\", \"patient use take get give\", 25], [\"how are brittle diabetics treated ?\", \"patient use take get give\", 25], [\"is cereal suitable for diabetic patient ?\", \"patient use take get give\", 25], [\"how can you become a member of a medical research team in us ?\", \"patient use take get give\", 25], [\"can a diabetic join a <unk> team ?\", \"patient use take get give\", 25], [\"is mango good for diabetic patients ?\", \"patient use take get give\", 25], [\"if i am diabetic how can i get retinopathy treatment ?\", \"patient use take get give\", 25], [\"can diabetic supplies be dangerous ?\", \"patient use take get give\", 25], [\"when a diabetic patient has a minor illness such as a cold or flu what should they do ?\", \"patient use take get give\", 25], [\"can diabetics pass on a uti ?\", \"patient use take get give\", 25], [\"can a diabetic person use <unk> for eye inflammation ?\", \"patient use take get give\", 25], [\"can a diabetic use <unk> ?\", \"patient use take get give\", 25], [\"your father has a diabetic <unk> all precautions he should take two avoid ulcers ?\", \"patient use take get give\", 25], [\"can diabetic patient use aspartame as alternative sweetener except sugar ?\", \"patient use take get give\", 25], [\"nursing diagnosis for diabetic ketoacidosis ?\", \"patient use take get give\", 25], [\"can a diabetic patient take honey ?\", \"patient use take get give\", 25], [\"diabetic slippers ?\", \"patient use take get give\", 25], [\"can you massage on a diabetic ?\", \"patient use take get give\", 25], [\"can you take paracetamol if you have diabetes ?\", \"patient use take get give\", 25], [\"can you be diabetic and not take medication ?\", \"patient use take get give\", 25], [\"should a diabetic use a sauna ?\", \"patient use take get give\", 25], [\"can a diabetic get a piercing ?\", \"patient use take get give\", 25], [\"can diabetes tab metforin be taken with cold meds ?\", \"patient use take get give\", 25], [\"can you use a diabetes lancet more than once ?\", \"patient use take get give\", 25], [\"diabetic deserts ?\", \"patient use take get give\", 25]], \"hovertemplate\": \"summary=%{customdata[1]}<br>pc_1=%{x}<br>pc_2=%{y}<br>pc_3=%{z}<br>question=%{customdata[0]}<br>label=%{customdata[2]}<extra></extra>\", \"legendgroup\": \"patient use take get give\", \"marker\": {\"color\": \"#19d3f3\", \"size\": 8, \"symbol\": \"circle\"}, \"mode\": \"markers\", \"name\": \"patient use take get give\", \"scene\": \"scene\", \"showlegend\": true, \"type\": \"scatter3d\", \"x\": [-0.1693616509437561, -0.06502534449100494, -0.22685424983501434, -0.0635359063744545, -0.19218921661376953, -0.2924361228942871, -0.04086656868457794, -0.3281334638595581, 0.03637629374861717, -0.2053980529308319, -0.1455986499786377, -0.0687737911939621, -0.2876174747943878, -0.3367823660373688, -0.08025728166103363, -0.08848685771226883, -0.235020712018013, -0.013003912754356861, -0.3317314684391022, -0.4177110493183136, -0.0010870425030589104, -0.1443563848733902, -0.2275916337966919, -0.16201606392860413, -0.3528451919555664, -0.302639901638031, -0.2471022605895996, -0.1534060686826706, 0.026133958250284195, -0.10370098799467087, -0.034871261566877365, -0.236003115773201, -0.27286452054977417, -0.08556216210126877, -0.14019881188869476, -0.23984020948410034, -0.26627177000045776, -0.14690834283828735, -0.27571627497673035, -0.2121540606021881], \"y\": [0.3532097041606903, 0.36226531863212585, 0.2451571673154831, 0.33051347732543945, 0.28996315598487854, 0.34247255325317383, 0.3201780915260315, 0.3997783064842224, 0.37643006443977356, 0.4160018563270569, 0.34313270449638367, 0.2785201370716095, 0.3471929430961609, 0.3287869989871979, 0.3947538733482361, 0.23813661932945251, 0.46001937985420227, 0.3966066837310791, 0.3736543357372284, 0.3596242070198059, 0.36301642656326294, 0.3163536787033081, 0.39031291007995605, 0.3407941460609436, 0.2551986575126648, 0.2866320312023163, 0.3419629633426666, 0.280513733625412, 0.30649563670158386, 0.3460412919521332, 0.3313778042793274, 0.3883398473262787, 0.3348272144794464, 0.2768475115299225, 0.29534175992012024, 0.3233335018157959, 0.3745206296443939, 0.2573537826538086, 0.31707292795181274, 0.36591604351997375], \"z\": [0.16131599247455597, 0.07422928512096405, -0.022356128320097923, 0.029836446046829224, 0.09650924056768417, 0.0708945021033287, 0.19151996076107025, 0.08718166500329971, 0.10035187005996704, 0.08277630805969238, 0.03983070328831673, 0.10968615114688873, 0.1407610923051834, 0.04926050454378128, 0.07478082180023193, -0.03378862515091896, 0.11065363138914108, 0.16254481673240662, -0.03575173765420914, 0.07229918986558914, 0.13545796275138855, -0.022700268775224686, 0.029203107580542564, -0.06369564682245255, -0.013402347452938557, 0.10566859692335129, 0.06016021966934204, -0.0898095890879631, 0.1983208805322647, -0.06540103256702423, 0.12357623130083084, 0.124068982899189, -0.021386945620179176, 0.008801504038274288, 0.014638273045420647, 0.0194986704736948, 0.01578926295042038, 0.03255802392959595, -0.07270179688930511, 0.20642589032649994]}, {\"customdata\": [[\"you have had two missed periods in the past six months you have not got diabetes am not pregnant but have not been using <unk> in the past four years am only twenty two and fear you are infertile ?\", \"sugar blood one type insulin\", 1], [\"i have never been diagnosed with diabetes . my fasting blood sugar was one hundred and seventeen and hemoglobin aic was six . what does this mean ?\", \"sugar blood one type insulin\", 1], [\"if your doctor has said to watch sugar intake because you are on the verge of diabetes how do cut down and how many grams of sugar can you have daily or is sugar free the best ?\", \"sugar blood one type insulin\", 1], [\"what is the best foods i can eat to keep my blood sugar levels stable throughout the day ?\", \"sugar blood one type insulin\", 1], [\"the most immediate response to a high level of blood sugar in a human is an increase in the ?\", \"sugar blood one type insulin\", 1], [\"when a person has niddm and they have to start using insulin are they still considered to have adult onset or does it change to iddm ?\", \"sugar blood one type insulin\", 1], [\"is it just irritation down there if i feel like i have go the bathroom quite a bit and doctor says i have no infection or probably do not have diabetes ?\", \"sugar blood one type insulin\", 1], [\"when the body does not produce enough insulin to maintain a normal glucose level would you have type one or type two diabetes ?\", \"sugar blood one type insulin\", 1], [\"how can a <unk> girl who is a normal weight and stays active have type two diabetes blood sugar levels have been anywhere from thirty to five hundred and eighteen while eating healthy since diagnosis in october ?\", \"sugar blood one type insulin\", 1], [\"what fact does the author use to support the idea that the cause of the increase in type ii diabetes among young people is that they are overweight ?\", \"sugar blood one type insulin\", 1], [\"if you are <unk> diabetic and the doctor said you should control it by diet how many carbohydrates should you have a day ?\", \"sugar blood one type insulin\", 1], [\"why is it important for a type one diabetic to regulate insulin meals and exercise ?\", \"sugar blood one type insulin\", 1], [\"if your mother and father have diabetes then will you get diabetes ?\", \"sugar blood one type insulin\", 1], [\"if your blood sugar is high do you take more insulin to bring it down ?\", \"sugar blood one type insulin\", 1], [\"is it ok to drink diet pop with alcohol when you have diabetes ?\", \"sugar blood one type insulin\", 1], [\"what if your friend <unk> has type one diabetes but still eats tons of candy every day is this a problem also he is gay if that matters ?\", \"sugar blood one type insulin\", 1], [\"are people responsible for suffering from heart diseases diabetes and other <unk> due to eating junk food or the fat food industry is to <unk> ?\", \"sugar blood one type insulin\", 1], [\"is a state of increased acidity of blood due to the breakdown of fats when the blood sugar level is very low ?\", \"sugar blood one type insulin\", 1], [\"could diabetes be a mental illness you are born with or can developed do to extreme depression or suppressed <unk> and anger ?\", \"sugar blood one type insulin\", 1], [\"acceptable fasting blood sugars in elderly should elderly be allowed to have a slightly higher blood glucose in am if on meds ?\", \"sugar blood one type insulin\", 1], [\"what is the probability a child will have type one diabetes if a thirty five year old mother who wears size six had gestational diabetes ?\", \"sugar blood one type insulin\", 1], [\"do i need to keep a diabetes medication list in case of an emergency ?\", \"sugar blood one type insulin\", 1], [\"how can i prevent stroke , and is there a diet i should be taking for it ?\", \"sugar blood one type insulin\", 1], [\"is frequent urination and dry mouth is the only cause of high blood sugar ?\", \"sugar blood one type insulin\", 1], [\"do illegal drugs show up in a blood test if they are testing for diabetes ?\", \"sugar blood one type insulin\", 1], [\"which type of diabetes is mainly treated with insulin injections received several times a day ?\", \"sugar blood one type insulin\", 1], [\"what does these symptoms mean if you see a person sweating profusely look like they are about to pass out frequently urinating and smell sweet what would you suggest ?\", \"sugar blood one type insulin\", 1], [\"where can i get free diabetes supplies , <unk> insurance . i need a meter as well please help . i have type two diabetes . my insurance ran out . ?\", \"sugar blood one type insulin\", 1], [\"why is the function of the hormone insulin in regulating blood sugar level a good example of a negative feedback mechanism for maintaining homeostasis ?\", \"sugar blood one type insulin\", 1], [\"what are some ways to tell if you have premature diabetes and how can you deal with it if you have it ?\", \"sugar blood one type insulin\", 1], [\"your husband got diabetes and you are trying for three or four months for a second child is it something wrong with his diabetes to cause no conception or you ?\", \"sugar blood one type insulin\", 1], [\"diabetes mellitus is a disease that occurs when the body either can not produce the hormone insulin or produces an insufficient amount of insulin . the disease is caused by a <unk> in the system . ?\", \"sugar blood one type insulin\", 1], [\"i had cortisol levels done the dr . sent me a paper stating that they were essentially normal . why that instead of normal or abnormal ?\", \"sugar blood one type insulin\", 1], [\"i am hypoglycemic my teachers at school know about it but they always seem to forget how do i tell my teacher that i feel low and need to go to the nurse to get a snack it is <unk> help ?\", \"sugar blood one type insulin\", 1], [\"what test is administered to patients with diabetes to measure average glucose levels over the past three weeks ?\", \"sugar blood one type insulin\", 1], [\"my <unk> insulin injections needle pricked your hand will i be affected by h i v ?\", \"sugar blood one type insulin\", 1], [\"how safe is it for a diabetic to have your belly button pierced ?\", \"sugar blood one type insulin\", 1], [\"my mother is sixty nine years old and has diabetes , does medicare cover foot care , can she have her nails <unk> and feet looked at and have medicare pay for it ?\", \"sugar blood one type insulin\", 1], [\"my partner has got type one diabetes . is it possible for us to have a baby ?\", \"sugar blood one type insulin\", 1], [\"if i am not losing weight and have no sugar in my urine but could i still have diabetes ?\", \"sugar blood one type insulin\", 1], [\"what is the medical term meaning accumulation of ketone bodies in the blood results of the condition diabetes mellitus called ?\", \"sugar blood one type insulin\", 1], [\"what can you do to help you i am diabetic and have sugar in your urine ?\", \"sugar blood one type insulin\", 1], [\"i am are thirteen and my blood sugar went from eighty six to one hundred and seventy eight to one hundred and sixty eight then shot down to fifty four in a matter of four hours is that normal ?\", \"sugar blood one type insulin\", 1], [\"i was eleven weeks but found out fetus died at nine weeks is it safe for a diabetic to have a <unk> ?\", \"sugar blood one type insulin\", 1], [\"does pre diabetes hurt me how do i treat its symptoms does treating it hurt me at all ?\", \"sugar blood one type insulin\", 1], [\"can you get fired on a job at the post office due to not putting on the <unk> you did not have diabetes ?\", \"sugar blood one type insulin\", 1], [\"what if your diabetic client asks you to fill a syringe with her morning dose of insulin what should you do ?\", \"sugar blood one type insulin\", 1], [\"explain why there is too little sugar in the blood if the person exercises more than usual ?\", \"sugar blood one type insulin\", 1], [\"what kind of things do <unk> with diabetes need to think about during gym class or sports ?\", \"sugar blood one type insulin\", 1], [\"you are making a grocery list right now and you am diabetic what should you put on it ?\", \"sugar blood one type insulin\", 1], [\"is there something you can eat or drink to bring down high blood glucose ?\", \"sugar blood one type insulin\", 1], [\"<unk> . gave me <unk> insulin an my blood sugar has been up every . i have been to the hospital twice . right now my sugar is five hundred and forty six bp <unk> <unk> . it has been like this all week , what can i do to get it <unk> already take <unk> times a day and lantus for <unk> ?\", \"sugar blood one type insulin\", 1], [\"are there any vitamins or natural herbs that might be purchased at like a health store or a gnc <unk> that could possibly help improve type one diabetes ?\", \"sugar blood one type insulin\", 1], [\"if you have left shoulder pain whenever you are stressed <unk> also have a lot of <unk> this heart <unk> am a diabetic ?\", \"sugar blood one type insulin\", 1], [\"your sugar level was one time high but later when <unk> it is nil why do you have any <unk> ?\", \"sugar blood one type insulin\", 1], [\"your blood sugar is normal so why are you dropping things and feeling funny ?\", \"sugar blood one type insulin\", 1], [\"is there a cure for diabetes or can it be managed with exercise and diet ?\", \"sugar blood one type insulin\", 1], [\"you are not eating but drinking a lot of water could you have diabetes ?\", \"sugar blood one type insulin\", 1], [\"your husband was recently diagnosed with type two diabetes you know nothing what should you do ?\", \"sugar blood one type insulin\", 1], [\"can you control type two diabetes by simply not eating any sugar or carbs ever ?\", \"sugar blood one type insulin\", 1], [\"your blood sugar is one hundred and eleven without eating and you just <unk> from a cruise do you have diabetes ?\", \"sugar blood one type insulin\", 1], [\"this is an odd question but does glucose have any other <unk> or jobs in the <unk> other than a food or fuel for metabolism ?\", \"sugar blood one type insulin\", 1], [\"i think my husband is <unk> on me while i am <unk> in japan and he is in <unk> , ms . i would like to know if a private <unk> can assist and how much would it cost . ?\", \"sugar blood one type insulin\", 1], [\"you have had <unk> <unk> for a couple of weeks and they said your progesterone level was low now it has turned to blood is this still normal ?\", \"sugar blood one type insulin\", 1], [\"what type of diabetes must monitor their blood sugar levels carefully and take insulin on a strict schedule ?\", \"sugar blood one type insulin\", 1], [\"why do you always feel like you have to cough up <unk> but you never can get any up ?\", \"sugar blood one type insulin\", 1], [\"how can <unk> made in one part of the world affect people in another part of the world ?\", \"sugar blood one type insulin\", 1], [\"which of the following is not a common underlying cause of diabetic skin ulcers a . poor circulation b . pressure points c . neuropathy d . dermatitis ?\", \"sugar blood one type insulin\", 1], [\"how long should you test your blood before you take the results to the doctor to help <unk> her that she should test you ?\", \"sugar blood one type insulin\", 1], [\"is it a higher possibility for you to get diabetes if two family members on your dads side have sugar diabetes ?\", \"sugar blood one type insulin\", 1], [\"you are a forty year old diabetic you ave a temp of one hundred and one and just had a kidney infection when should you call your doctor ?\", \"sugar blood one type insulin\", 1], [\"you are suffering from extreme thirst and frequent urine you lose you feel exhausted <unk> <unk> and you missed this month period you did home pregnancy <unk> negative feel <unk> pain in lower <unk> ?\", \"sugar blood one type insulin\", 1], [\"i have pain in my back under my right shoulder <unk> . it gets worse at night when i <unk> down . ?\", \"sugar blood one type insulin\", 1], [\"both big toes and <unk> feel like they <unk> up with novacaine it never goes away you are not fat or diabetic ?\", \"sugar blood one type insulin\", 1], [\"would nick jonas write to a little seven year old boy that just got type one diabetes and is a huge fan ?\", \"sugar blood one type insulin\", 1], [\"what you should do as the doctor detected the pregnancy diabetes at thirty five weeks of pregnancy . is the treatment at this time will be sufficient for the mother and fetus ?\", \"sugar blood one type insulin\", 1], [\"i am having a fasting test for diabetes <unk> . this <unk> i went crazy and smoked a pack of cigarettes with my friends . will the <unk> of nicotine show up on the test ?\", \"sugar blood one type insulin\", 1], [\"is it a bad thing if you lose one <unk> in a week and then one point five pounds in a day without trying and if you are thirsty all the time so you drink lots of water ?\", \"sugar blood one type insulin\", 1], [\"what is the ability of the human body to keep blood-sugar levels within a fairly narrow range despite the intake of meals high in carbohydrates an example of ?\", \"sugar blood one type insulin\", 1], [\"how do you get type one diabetes when no one else in your family has had it or has it ?\", \"sugar blood one type insulin\", 1], [\"my finger tip turns white and numb when my hand gets cold . what causes that ?\", \"sugar blood one type insulin\", 1], [\"what type of diabetes generally occurs in younger years and always requires insulin as part of the treatment plan ?\", \"sugar blood one type insulin\", 1], [\"do ya think i have diabetes i am kinda thirsty and feel like i have to go the bathroom quite a bit off and on went to doc few days ago urine was normal did not think i had it blood test fine month ago ?\", \"sugar blood one type insulin\", 1], [\"it is recommended that you consume foods with five grams or more of as it is beneficial for weight control diabetes and even forms of cancer ?\", \"sugar blood one type insulin\", 1], [\"to find a specific picture book where a father <unk> a strawberry cake if you remember correctly for his son it starts off as a regular cake then it is a huge beautiful cake who is the author and what ?\", \"sugar blood one type insulin\", 1], [\"if a girl weighs one hundred and thirty pound and is a ten year old <unk> grader but her family has a history of over weight family member you are really scared you do not want to be diabetic but i cant <unk> <unk> ?\", \"sugar blood one type insulin\", 1], [\"your husband is diabetic has to fast does he take his meds in the morning it says take with food ?\", \"sugar blood one type insulin\", 1], [\"if you could lower your dosage of insulin by taking other drugs or meds should you do so or would you be better off to just continue with the insulin ?\", \"sugar blood one type insulin\", 1], [\"is a <unk> pool or a <unk> pool better for someone who lives an area with cold winters and is diabetic so <unk> your feet is a major issue ?\", \"sugar blood one type insulin\", 1], [\"in <unk> how would <unk> work if the father and mother are not married but the mother is chemically dependent and the father is the primary care <unk> of their four year old son with type one diabetes ?\", \"sugar blood one type insulin\", 1]], \"hovertemplate\": \"summary=%{customdata[1]}<br>pc_1=%{x}<br>pc_2=%{y}<br>pc_3=%{z}<br>question=%{customdata[0]}<br>label=%{customdata[2]}<extra></extra>\", \"legendgroup\": \"sugar blood one type insulin\", \"marker\": {\"color\": \"#FF6692\", \"size\": 8, \"symbol\": \"circle\"}, \"mode\": \"markers\", \"name\": \"sugar blood one type insulin\", \"scene\": \"scene\", \"showlegend\": true, \"type\": \"scatter3d\", \"x\": [0.031186744570732117, 0.04446525126695633, -0.042863354086875916, 0.002879256382584572, -0.03501037135720253, 0.042056526988744736, -0.16636474430561066, 0.0611637607216835, 0.03212213143706322, -0.024268565699458122, -0.06747950613498688, 0.061849407851696014, -0.16401702165603638, -0.03998464718461037, -0.17573320865631104, -0.08623715490102768, -0.03405892476439476, -0.007921244949102402, -0.17009103298187256, 0.034317221492528915, -0.0088853994384408, -0.2276870757341385, -0.10700424760580063, -0.013218944892287254, -0.049839723855257034, 0.06727056205272675, -0.17816787958145142, -0.10240046679973602, 0.06648752838373184, -0.20595581829547882, -0.13373662531375885, 0.06063075363636017, -0.001777447061613202, -0.15932722389698029, 0.06956552714109421, -0.039091579616069794, -0.25459781289100647, -0.06361091881990433, -0.1544836014509201, -0.13182707130908966, 0.027370290830731392, -0.007201963569968939, 0.10569547116756439, 0.04607453569769859, -0.24088536202907562, -0.08981325477361679, -0.050177209079265594, -0.025546833872795105, -0.17932356894016266, -0.0786161795258522, -0.13662278652191162, -0.032349612563848495, -0.053942423313856125, -0.2343979775905609, 0.010652659460902214, -0.14383433759212494, -0.11981502920389175, -0.15530970692634583, -0.17552195489406586, -0.0765092745423317, 0.08760970085859299, -0.03108149580657482, -0.11096762865781784, -0.00579585088416934, 0.06082265451550484, -0.2074889838695526, -0.08934066444635391, 0.10548044741153717, -0.05253675580024719, -0.11521898210048676, -0.02199619635939598, -0.15916331112384796, -0.16450855135917664, -0.21811817586421967, -0.10709269344806671, 0.006758372765034437, -0.044220417737960815, -0.05101579427719116, -0.013712399639189243, -0.13059403002262115, -0.19318720698356628, 0.032914504408836365, -0.13967826962471008, -0.11845112591981888, -0.08599391579627991, -0.06013390049338341, -0.12308243662118912, -0.023846333846449852, -0.15540793538093567, -0.08199161291122437], \"y\": [0.18711453676223755, 0.12910939753055573, 0.2707783877849579, 0.2752855122089386, 0.3796328604221344, 0.19637040793895721, 0.22492587566375732, 0.225725919008255, 0.22317326068878174, 0.31780338287353516, 0.34730637073516846, 0.3299746513366699, 0.18067601323127747, 0.23736663162708282, 0.3002401292324066, 0.2626281678676605, 0.3675740957260132, 0.40726009011268616, 0.3154999017715454, 0.21853569149971008, 0.24191951751708984, 0.32989302277565, 0.28282082080841064, 0.45802661776542664, 0.08779793977737427, 0.3004930317401886, 0.18066921830177307, 0.2369086891412735, 0.37458536028862, 0.24706698954105377, 0.15711626410484314, 0.34603193402290344, 0.17383603751659393, 0.18845424056053162, 0.2632984519004822, 0.20397934317588806, 0.14947248995304108, 0.1579647958278656, 0.12613292038440704, 0.24420253932476044, 0.36789119243621826, 0.311197429895401, 0.19460727274417877, 0.08999063819646835, 0.2288110852241516, 0.16559338569641113, 0.1897565871477127, 0.2533332109451294, 0.19008611142635345, 0.21008697152137756, 0.2374991923570633, 0.1777980476617813, 0.33054134249687195, 0.10395792871713638, 0.21722635626792908, 0.19703367352485657, 0.31722524762153625, 0.263833224773407, 0.25212231278419495, 0.2934955954551697, 0.1954553723335266, 0.3074687421321869, 0.1927085965871811, 0.1756056398153305, 0.29609426856040955, 0.19958415627479553, 0.34047532081604004, 0.3607269823551178, 0.11020474135875702, 0.13697409629821777, 0.19390080869197845, 0.13130146265029907, 0.12691403925418854, 0.21265701949596405, 0.2179405838251114, 0.0951029509305954, 0.13073976337909698, 0.21705712378025055, 0.37424418330192566, 0.2499527782201767, 0.10136041790246964, 0.3217376172542572, 0.1967720240354538, 0.3428135812282562, 0.2616828382015228, 0.2132844775915146, 0.11152870953083038, 0.22227628529071808, 0.2586435377597809, 0.17697212100028992], \"z\": [-0.7269822359085083, -0.7016909122467041, -0.5958017110824585, -0.591941773891449, -0.7795249223709106, -0.8482890129089355, -0.6202042102813721, -0.8566688299179077, -0.7392776012420654, -0.7874292135238647, -0.4795438051223755, -0.7053098082542419, -0.8679580688476562, -0.5371381640434265, -0.514664351940155, -0.7262492775917053, -0.6179278492927551, -0.7742756009101868, -0.6865794062614441, -0.5131058692932129, -0.7878012657165527, -0.597748339176178, -0.6428377628326416, -0.765931248664856, -0.6902207136154175, -0.8332525491714478, -0.5565109848976135, -0.6589778661727905, -0.7629833221435547, -0.5881472229957581, -0.8409879207611084, -0.8214212656021118, -0.6023868322372437, -0.6630203127861023, -0.737742006778717, -0.44351956248283386, -0.5164681077003479, -0.7355210781097412, -0.8329021334648132, -0.5933863520622253, -0.8530511260032654, -0.4918733239173889, -0.727246105670929, -0.5914808511734009, -0.6632940769195557, -0.647503674030304, -0.5061437487602234, -0.6750249862670898, -0.7277343273162842, -0.6067540049552917, -0.4618538022041321, -0.6856468319892883, -0.6473758220672607, -0.5737295746803284, -0.6507641673088074, -0.5153427124023438, -0.6371755003929138, -0.5320740342140198, -0.6754341125488281, -0.5608906149864197, -0.6195743680000305, -0.6872988939285278, -0.6886918544769287, -0.6602092385292053, -0.6638257503509521, -0.60739666223526, -0.7736794352531433, -0.8514654636383057, -0.609073281288147, -0.9097704291343689, -0.7670469284057617, -0.580689549446106, -0.6545421481132507, -0.5233190655708313, -0.7779819369316101, -0.6043347120285034, -0.6692010760307312, -0.6796165108680725, -0.7437557578086853, -0.6992829442024231, -0.668049156665802, -0.8088537454605103, -0.6088271141052246, -0.5950157046318054, -0.7893519401550293, -0.7475176453590393, -0.7666874527931213, -0.506026029586792, -0.7891409993171692, -0.8319380879402161]}, {\"customdata\": [[\"is football good for a diabetic person ?\", \"good patient sugar honey bad\", 14], [\"is gluten free good for diabetics ?\", \"good patient sugar honey bad\", 14], [\"is milo good for diabetic patients ?\", \"good patient sugar honey bad\", 14], [\"is sugar apple good for diabetics ?\", \"good patient sugar honey bad\", 14], [\"can <unk> iodine safe as an <unk> agent on diabetics ?\", \"good patient sugar honey bad\", 14], [\"why is massage not for diabetics ?\", \"good patient sugar honey bad\", 14], [\"are oranges good for diabetic people ?\", \"good patient sugar honey bad\", 14], [\"is honey a good sweetener for diabetics ?\", \"good patient sugar honey bad\", 14], [\"can honey make you diabetic ?\", \"good patient sugar honey bad\", 14], [\"what are some good deserts for diabetics ?\", \"good patient sugar honey bad\", 14], [\"are <unk> good for diabetics ?\", \"good patient sugar honey bad\", 14], [\"is beetroot good for diabetics ?\", \"good patient sugar honey bad\", 14], [\"is cottage chese good for diabetics ?\", \"good patient sugar honey bad\", 14], [\"is cheese good for a diabetic person ?\", \"good patient sugar honey bad\", 14], [\"is <unk> good for diabetic ?\", \"good patient sugar honey bad\", 14], [\"is honey good for diabetes ?\", \"good patient sugar honey bad\", 14], [\"is there term life insurance for diabetics ?\", \"good patient sugar honey bad\", 14], [\"is carrot juice good for diabetic patients ?\", \"good patient sugar honey bad\", 14], [\"is mango bad for diabetes ?\", \"good patient sugar honey bad\", 14], [\"is <unk> good for diabetic ?\", \"good patient sugar honey bad\", 14], [\"is centrum silver safe for diabetics ?\", \"good patient sugar honey bad\", 14], [\"how come shiatsu massaging cushion is not recommended for diabetics ?\", \"good patient sugar honey bad\", 14], [\"is almond good for diabetic ?\", \"good patient sugar honey bad\", 14], [\"is sugar in toothpaste a danger for diabetics ?\", \"good patient sugar honey bad\", 14], [\"is <unk> root good for diabetics ?\", \"good patient sugar honey bad\", 14], [\"is <unk> good for diabetics ?\", \"good patient sugar honey bad\", 14], [\"is cheese good for a diabetic ?\", \"good patient sugar honey bad\", 14], [\"is mango harmful for diabetics ?\", \"good patient sugar honey bad\", 14], [\"is weed bad for diabetics ?\", \"good patient sugar honey bad\", 14], [\"is walking good for diabetics ?\", \"good patient sugar honey bad\", 14], [\"is dates good for diabetic patient ?\", \"good patient sugar honey bad\", 14], [\"is dates good for diabetics patients ?\", \"good patient sugar honey bad\", 14], [\"is strawberry good for diabete ?\", \"good patient sugar honey bad\", 14], [\"how good is noodles for diabetic patient ?\", \"good patient sugar honey bad\", 14], [\"is carrot bad for diabetes ?\", \"good patient sugar honey bad\", 14], [\"is raw sugar good for diabetes ?\", \"good patient sugar honey bad\", 14], [\"are black olives good for you ?\", \"good patient sugar honey bad\", 14], [\"is cinnamon good for people with diabetes ?\", \"good patient sugar honey bad\", 14], [\"are apples good for diabetic ?\", \"good patient sugar honey bad\", 14], [\"is pineapple good for diabetics ?\", \"good patient sugar honey bad\", 14], [\"is there any sugar in diabetic cookies ?\", \"good patient sugar honey bad\", 14], [\"is watermelon good for diabetics ?\", \"good patient sugar honey bad\", 14]], \"hovertemplate\": \"summary=%{customdata[1]}<br>pc_1=%{x}<br>pc_2=%{y}<br>pc_3=%{z}<br>question=%{customdata[0]}<br>label=%{customdata[2]}<extra></extra>\", \"legendgroup\": \"good patient sugar honey bad\", \"marker\": {\"color\": \"#B6E880\", \"size\": 8, \"symbol\": \"circle\"}, \"mode\": \"markers\", \"name\": \"good patient sugar honey bad\", \"scene\": \"scene\", \"showlegend\": true, \"type\": \"scatter3d\", \"x\": [0.14686602354049683, 0.02997140772640705, 0.2428775578737259, 0.21797765791416168, -0.01922111213207245, 0.0629785880446434, 0.14604784548282623, 0.1825435608625412, 0.27525463700294495, 0.030393358319997787, 0.04442311078310013, 0.07739993184804916, 0.09933891892433167, 0.14558082818984985, 0.20692095160484314, 0.1493246853351593, -0.06507279723882675, 0.17424826323986053, 0.17151470482349396, 0.16685695946216583, -0.042622487992048264, 0.05489049106836319, 0.2298436462879181, 0.060610730201005936, 0.09080156683921814, 0.07436788082122803, 0.17193982005119324, 0.08747401088476181, 0.11267775297164917, 0.03872591629624367, 0.21566468477249146, 0.1673119217157364, 0.10964620858430862, 0.2214280366897583, 0.17388726770877838, 0.125686377286911, 0.08778054267168045, 0.17943698167800903, 0.16500355303287506, 0.13802629709243774, 0.24401068687438965, 0.10925702005624771], \"y\": [0.4184970259666443, 0.4069295823574066, 0.41876542568206787, 0.4609030783176422, 0.372737854719162, 0.3350315988063812, 0.5255835652351379, 0.43829095363616943, 0.4487643241882324, 0.4890498220920563, 0.4489673376083374, 0.3657563030719757, 0.45425766706466675, 0.5028790235519409, 0.44182249903678894, 0.37109827995300293, 0.39146870374679565, 0.5005000829696655, 0.34431761503219604, 0.4275674819946289, 0.4535186290740967, 0.30238139629364014, 0.4753188192844391, 0.4596746265888214, 0.40445494651794434, 0.42163988947868347, 0.5040067434310913, 0.4793604612350464, 0.387437105178833, 0.41258546710014343, 0.45125439763069153, 0.4462032616138458, 0.3858562111854553, 0.5019778609275818, 0.325361043214798, 0.34372493624687195, 0.4129473865032196, 0.3634856641292572, 0.49753913283348083, 0.4457678496837616, 0.4904485046863556, 0.42508283257484436], \"z\": [0.5190825462341309, 0.2936517000198364, 0.4540073275566101, 0.20155569911003113, 0.3513031005859375, 0.38011443614959717, 0.3759538531303406, 0.24492353200912476, 0.2717539668083191, 0.42909231781959534, 0.42566248774528503, 0.33941659331321716, 0.4349832534790039, 0.5269280076026917, 0.4815736711025238, 0.25516945123672485, 0.2685369849205017, 0.28831738233566284, 0.3933318555355072, 0.4711512625217438, 0.32348862290382385, 0.41165417432785034, 0.5043904781341553, 0.33013322949409485, 0.31270021200180054, 0.384333074092865, 0.5126600861549377, 0.2642309367656708, 0.4119866192340851, 0.37745994329452515, 0.39009812474250793, 0.3574625849723816, 0.24317355453968048, 0.3767189383506775, 0.36111778020858765, 0.23484739661216736, 0.18808260560035706, 0.29653772711753845, 0.35352930426597595, 0.27037519216537476, 0.19637514650821686, 0.28237226605415344]}, {\"customdata\": [[\"is diabetes a communicable disease ?\", \"diseas communic type curabl chronic\", 2], [\"is diabetes mellitus a chronic disease ?\", \"diseas communic type curabl chronic\", 2], [\"what is diabetes pain and complication a generation diseases ?\", \"diseas communic type curabl chronic\", 2], [\"is diabetes a disease or a condition ?\", \"diseas communic type curabl chronic\", 2], [\"how close is diabetes to becoming cured ?\", \"diseas communic type curabl chronic\", 2], [\"can a woman with diabetes and cystic fibrosis become pregnant ?\", \"diseas communic type curabl chronic\", 2], [\"why is <unk> not possible for diseases such as diabetes ?\", \"diseas communic type curabl chronic\", 2], [\"is diabetes a <unk> disease ?\", \"diseas communic type curabl chronic\", 2], [\"why is diabetes such a serious disease ?\", \"diseas communic type curabl chronic\", 2], [\"is diabetes infectious ?\", \"diseas communic type curabl chronic\", 2], [\"is type two diabetes a genetic disease ?\", \"diseas communic type curabl chronic\", 2], [\"cat has diabetes and not eating is he dying ?\", \"diseas communic type curabl chronic\", 2], [\"why is diabetes is a deficiency disease ?\", \"diseas communic type curabl chronic\", 2], [\"is diabetes a curable disease if detected in early ?\", \"diseas communic type curabl chronic\", 2], [\"is insulin <unk> <unk> is curable ?\", \"diseas communic type curabl chronic\", 2], [\"is diabetes an illness ?\", \"diseas communic type curabl chronic\", 2], [\"if diabetes is <unk> it a genetic disease or is it caused by the environment ?\", \"diseas communic type curabl chronic\", 2], [\"how serious a disease is diabetes ?\", \"diseas communic type curabl chronic\", 2], [\"is diabetes mellitus a <unk> disease ?\", \"diseas communic type curabl chronic\", 2], [\"is diabetes type two infectious ?\", \"diseas communic type curabl chronic\", 2], [\"list of five non communicable and communicable diseases ?\", \"diseas communic type curabl chronic\", 2], [\"is diabetes a disorder or a disease ?\", \"diseas communic type curabl chronic\", 2], [\"is diabetes a disease or ailment ?\", \"diseas communic type curabl chronic\", 2], [\"is diabetes a <unk> disease ?\", \"diseas communic type curabl chronic\", 2], [\"is diabetes a virus or bacteria ?\", \"diseas communic type curabl chronic\", 2], [\"what makes diabetes a chronic disease ?\", \"diseas communic type curabl chronic\", 2], [\"is type one diabetes contagious ?\", \"diseas communic type curabl chronic\", 2], [\"is diabetes curable ?\", \"diseas communic type curabl chronic\", 2], [\"is diabetes myelitis contagious ?\", \"diseas communic type curabl chronic\", 2], [\"is type one diabetes deadly or is there a cure ?\", \"diseas communic type curabl chronic\", 2], [\"is diabetes a chronic or communicable diseases ?\", \"diseas communic type curabl chronic\", 2], [\"does blood sugar level increase with lyme disease ?\", \"diseas communic type curabl chronic\", 2], [\"top ten communicable diseases in the <unk> ?\", \"diseas communic type curabl chronic\", 2], [\"is type ii diabetes contagious ?\", \"diseas communic type curabl chronic\", 2], [\"is diabetic curable ?\", \"diseas communic type curabl chronic\", 2], [\"which one of these is a communicable <unk> or diabetes ?\", \"diseas communic type curabl chronic\", 2]], \"hovertemplate\": \"summary=%{customdata[1]}<br>pc_1=%{x}<br>pc_2=%{y}<br>pc_3=%{z}<br>question=%{customdata[0]}<br>label=%{customdata[2]}<extra></extra>\", \"legendgroup\": \"diseas communic type curabl chronic\", \"marker\": {\"color\": \"#FF97FF\", \"size\": 8, \"symbol\": \"circle\"}, \"mode\": \"markers\", \"name\": \"diseas communic type curabl chronic\", \"scene\": \"scene\", \"showlegend\": true, \"type\": \"scatter3d\", \"x\": [-0.6199887990951538, -0.4934842884540558, -0.650174081325531, -0.6109619140625, -0.6060114502906799, -0.554492712020874, -0.6447988748550415, -0.5839940905570984, -0.6264359951019287, -0.6515629291534424, -0.5381141304969788, -0.5421493649482727, -0.545418381690979, -0.7133570313453674, -0.6454454064369202, -0.549892783164978, -0.6622934341430664, -0.6418511867523193, -0.49435049295425415, -0.5480234026908875, -0.6954061985015869, -0.6122361421585083, -0.5677441954612732, -0.6034263968467712, -0.6781038045883179, -0.6014894843101501, -0.5376402735710144, -0.6200233697891235, -0.5586280822753906, -0.6244416832923889, -0.6407844424247742, -0.5646405816078186, -0.7221442461013794, -0.5003105401992798, -0.65714430809021, -0.6185393333435059], \"y\": [-0.45581141114234924, -0.4645220637321472, -0.2938196659088135, -0.38117337226867676, -0.31977880001068115, -0.293588787317276, -0.5159522294998169, -0.4494450092315674, -0.5494503974914551, -0.4602663218975067, -0.49721959233283997, -0.31929194927215576, -0.4771146774291992, -0.38497036695480347, -0.3434280753135681, -0.33755314350128174, -0.37401512265205383, -0.5437437295913696, -0.5113685727119446, -0.4369805157184601, -0.4830021858215332, -0.3774864971637726, -0.49892833828926086, -0.4710560739040375, -0.4124620258808136, -0.5559145212173462, -0.3945254683494568, -0.34285250306129456, -0.35999661684036255, -0.3807813227176666, -0.4682943522930145, -0.3920009434223175, -0.49493926763534546, -0.3922803997993469, -0.3161156475543976, -0.4466259777545929], \"z\": [0.19098225235939026, 0.14200320839881897, 0.24313217401504517, 0.26685982942581177, 0.20497779548168182, 0.15877430140972137, 0.1862066388130188, 0.147233784198761, 0.12034857273101807, 0.09323692321777344, 0.26356449723243713, 0.26979905366897583, 0.10728432983160019, 0.17748700082302094, 0.10059264302253723, 0.1969338357448578, 0.30459362268447876, 0.07974469661712646, 0.12757374346256256, 0.2221057116985321, 0.2456144094467163, 0.3024846017360687, 0.15594813227653503, 0.11399742215871811, 0.21889598667621613, 0.07730178534984589, 0.21492822468280792, 0.15930695831775665, 0.15907543897628784, 0.17938005924224854, 0.21528908610343933, 0.0846392959356308, 0.2653754651546478, 0.23304030299186707, 0.13970758020877838, 0.27045926451683044]}, {\"customdata\": [[\"does your diabetes medication prevent you from getting pregnant ?\", \"get pregnant without affect join\", 32], [\"can you survive without knowing you have diabetes ?\", \"get pregnant without affect join\", 32], [\"what are the chances of gettin diabetes if your dad had diabetes ?\", \"get pregnant without affect join\", 32], [\"should you be concerned if you have diabetes ?\", \"get pregnant without affect join\", 32], [\"will the flu shot affect you if you are a diabetic ?\", \"get pregnant without affect join\", 32], [\"is it true if someone <unk> you badly you can get diabetes ?\", \"get pregnant without affect join\", 32], [\"can you lose your fertility from diabetes ?\", \"get pregnant without affect join\", 32], [\"could you get diabetes if your <unk> has it ?\", \"get pregnant without affect join\", 32], [\"can you join the marines if you have diabetes ?\", \"get pregnant without affect join\", 32], [\"does glucose help kids to remember ?\", \"get pregnant without affect join\", 32], [\"can talking give you diabetes ?\", \"get pregnant without affect join\", 32], [\"can <unk> make you have diabetes ?\", \"get pregnant without affect join\", 32], [\"if you have diabetes should you get a pedicure ?\", \"get pregnant without affect join\", 32], [\"can i protect myself from diabetes ?\", \"get pregnant without affect join\", 32], [\"can you get diabetes after kissing a <unk> that has <unk> ?\", \"get pregnant without affect join\", 32], [\"does diabetes effect you getting pregnant ?\", \"get pregnant without affect join\", 32], [\"can you be a police officer if you have diabetes ?\", \"get pregnant without affect join\", 32], [\"will diabetes qualify you ?\", \"get pregnant without affect join\", 32], [\"can having diabetes make it hard to get over a cold ?\", \"get pregnant without affect join\", 32], [\"if you have diabetes will it affect your children ?\", \"get pregnant without affect join\", 32], [\"if you have diabetes do you get fatigue ?\", \"get pregnant without affect join\", 32], [\"are you able to join the military if you have diabetes ?\", \"get pregnant without affect join\", 32], [\"if your <unk> had diabetes can you ?\", \"get pregnant without affect join\", 32], [\"can you have hyperglycemia without diabetes ?\", \"get pregnant without affect join\", 32], [\"can you sue if you have diabetes and carpal tunnel ?\", \"get pregnant without affect join\", 32]], \"hovertemplate\": \"summary=%{customdata[1]}<br>pc_1=%{x}<br>pc_2=%{y}<br>pc_3=%{z}<br>question=%{customdata[0]}<br>label=%{customdata[2]}<extra></extra>\", \"legendgroup\": \"get pregnant without affect join\", \"marker\": {\"color\": \"#FECB52\", \"size\": 8, \"symbol\": \"circle\"}, \"mode\": \"markers\", \"name\": \"get pregnant without affect join\", \"scene\": \"scene\", \"showlegend\": true, \"type\": \"scatter3d\", \"x\": [-0.3547636568546295, -0.3632393777370453, -0.3983075022697449, -0.25101935863494873, -0.30558714270591736, -0.26142796874046326, -0.36814063787460327, -0.28073734045028687, -0.38079801201820374, -0.44352883100509644, -0.3840412497520447, -0.42687201499938965, -0.2315409779548645, -0.3688368499279022, -0.27600184082984924, -0.3143346309661865, -0.3331965208053589, -0.39825645089149475, -0.3383065164089203, -0.361575722694397, -0.26292333006858826, -0.35711225867271423, -0.3554752469062805, -0.4279155135154724, -0.30410128831863403], \"y\": [0.17547239363193512, 0.1287941336631775, 0.000902678060811013, 0.1678992211818695, 0.22609445452690125, 0.11042872816324234, 0.08419866114854813, 0.09999217092990875, 0.1876107156276703, 0.14386866986751556, 0.11305444687604904, 0.11288122832775116, 0.14602996408939362, 0.20619255304336548, 0.07316906005144119, 0.03772073611617088, 0.24354684352874756, 0.11907891929149628, 0.1396820992231369, 0.08488944172859192, 0.1153770312666893, 0.18874591588974, 0.13006313145160675, 0.13128353655338287, 0.14775772392749786], \"z\": [0.11894919723272324, 0.16098614037036896, 0.08260860294103622, 0.13372792303562164, 0.005345214158296585, -0.049502190202474594, 0.15541483461856842, 0.08984241634607315, 0.036239348351955414, -0.027868665754795074, -0.04138876870274544, 0.0886896625161171, 0.09040071815252304, 0.16150610148906708, 0.04238395020365715, 0.08504009991884232, -0.08910860121250153, 0.004947583191096783, -0.0944591537117958, 0.04400353878736496, 0.01887657307088375, -0.019734658300876617, 0.10362254083156586, 0.16811557114124298, 0.0006706888671033084]}, {\"customdata\": [[\"where can i find an online menu for diabetics ?\", \"find recip food diet list\", 3], [\"what websites have cake recipes for diabetics ?\", \"find recip food diet list\", 3], [\"what are some sugar substitutes used in diabetic recipes ?\", \"find recip food diet list\", 3], [\"where can i go online to find some information on diabetics recipes ?\", \"find recip food diet list\", 3], [\"where can i find information about type i diabetes ?\", \"find recip food diet list\", 3], [\"where can i find diabetic diet plans for free ?\", \"find recip food diet list\", 3], [\"what kinds of sugar substitutes can you use for a diabetic pound cake recipe ?\", \"find recip food diet list\", 3], [\"finding free diabetic cookbooks ?\", \"find recip food diet list\", 3], [\"is there a list of food diabetics can not eat online ?\", \"find recip food diet list\", 3], [\"where can i get a diabetic cookbook ?\", \"find recip food diet list\", 3], [\"where can one get the recipes of food for diabetics ?\", \"find recip food diet list\", 3], [\"are there any diabetic food stores in the <unk> area ?\", \"find recip food diet list\", 3], [\"is there a medically approved food list for diabetics ?\", \"find recip food diet list\", 3], [\"what are some options for recipes for someone with diabetes ?\", \"find recip food diet list\", 3], [\"what is a good menu for diabetics ?\", \"find recip food diet list\", 3], [\"are there any websites that can help me find pre diabetic diet ?\", \"find recip food diet list\", 3], [\"where can i find recipes for free diabetic diets ?\", \"find recip food diet list\", 3], [\"where to find diabetes food lists ?\", \"find recip food diet list\", 3], [\"what foods are included in diabetes food chart ?\", \"find recip food diet list\", 3], [\"how do you know if your dessert recipe is good for diabetics ?\", \"find recip food diet list\", 3], [\"which websites provide diabetic food lists ?\", \"find recip food diet list\", 3], [\"what are good dessert recipe ideas for thanksgiving ?\", \"find recip food diet list\", 3], [\"what are some quick diabetes recipes ?\", \"find recip food diet list\", 3], [\"what is the most <unk> diabetic cheesecake recipe ?\", \"find recip food diet list\", 3], [\"what are some examples of recipes suitable for diabetic cooking ?\", \"find recip food diet list\", 3], [\"breakfast - the key to healthy diabetic meal plans ?\", \"find recip food diet list\", 3], [\"is there an informational source online for diabetes in children ?\", \"find recip food diet list\", 3], [\"where can one find information concerning a diabetic diet ?\", \"find recip food diet list\", 3], [\"what are good foods for diabetics ?\", \"find recip food diet list\", 3], [\"where can i find a list of food for a diabetic ?\", \"find recip food diet list\", 3], [\"where can i find a complete list of foods mentioned in the <unk> ?\", \"find recip food diet list\", 3], [\"where can i find more information on diet for diabetic ?\", \"find recip food diet list\", 3], [\"are there any good diabetic recipes books online ?\", \"find recip food diet list\", 3], [\"where can i find a complete food chart for diabetes including carbohydrate information ?\", \"find recip food diet list\", 3], [\"what foods should a diabetic buy at the grocery store ?\", \"find recip food diet list\", 3], [\"where can i find information on a diabetic diet , and the link between diet and overall health ?\", \"find recip food diet list\", 3], [\"where can i get recipes for a diabetes meal diet that produce tasty results ?\", \"find recip food diet list\", 3], [\"where can you find information about the grapefruit diet ?\", \"find recip food diet list\", 3], [\"where can i find a new diabetic food list that shows good food choices ?\", \"find recip food diet list\", 3], [\"what is the difference between a diabetic food list and a low glucose food list ?\", \"find recip food diet list\", 3], [\"where can someone purchase diabetic cookbooks ?\", \"find recip food diet list\", 3], [\"diabetic food list tip ?\", \"find recip food diet list\", 3], [\"what are a list of foods for diabetics ?\", \"find recip food diet list\", 3], [\"where can i find list of diabetic eating guidelines ?\", \"find recip food diet list\", 3], [\"where can people get diabetic diet plans ?\", \"find recip food diet list\", 3], [\"where can i find more information on diabetes diet plans ?\", \"find recip food diet list\", 3], [\"are there diabetes meals i can buy instead of cooking ?\", \"find recip food diet list\", 3], [\"what diabetes info can i expect to receive from my physician ?\", \"find recip food diet list\", 3], [\"where can i find some dessert recipes for diabetics ?\", \"find recip food diet list\", 3], [\"what is the healthiest and <unk> diabetic pound cake recipe ?\", \"find recip food diet list\", 3], [\"can i get diabetic meal plans online ?\", \"find recip food diet list\", 3], [\"where would be the best place to find diabetic sugar free recipes ?\", \"find recip food diet list\", 3], [\"where can i find recipes for <unk> desserts ?\", \"find recip food diet list\", 3], [\"what are some good tasting diabetic recipes ?\", \"find recip food diet list\", 3], [\"creating a healthy diabetic food list ?\", \"find recip food diet list\", 3], [\"which diabetic cake recipes are recommended ?\", \"find recip food diet list\", 3], [\"can applesauce be used in a diabetic cake recipe ?\", \"find recip food diet list\", 3], [\"for dietary health , is there a site that offers help with diabetic diet plans ?\", \"find recip food diet list\", 3], [\"what cookbooks have good diabetic cookie recipes ?\", \"find recip food diet list\", 3], [\"what healthy foods for diabetics should i start cooking ?\", \"find recip food diet list\", 3], [\"diabetic recipes help keep you healthy ?\", \"find recip food diet list\", 3], [\"where can i find information about diabetic eating ?\", \"find recip food diet list\", 3], [\"where can i find the new diabetic food list ?\", \"find recip food diet list\", 3], [\"is there a diabetic food pyramid i can follow ?\", \"find recip food diet list\", 3], [\"what are some good recipes for diabetics ?\", \"find recip food diet list\", 3], [\"are there any cookbooks for diabetics by diabetics ?\", \"find recip food diet list\", 3], [\"what are the nutritious recipes for diabetic people ?\", \"find recip food diet list\", 3], [\"can i use sugar substitutes to make diabetic recipes for dessert ?\", \"find recip food diet list\", 3], [\"where can one find info on diets for diabetics ?\", \"find recip food diet list\", 3], [\"what website is the best at finding diabetic supplies ?\", \"find recip food diet list\", 3], [\"how to find free diabetic recipes ?\", \"find recip food diet list\", 3], [\"where can i find a recipe book for a diabetic diet ?\", \"find recip food diet list\", 3], [\"can you name some diabetic cookbooks with easy instructions ?\", \"find recip food diet list\", 3], [\"best free diabetic recipes ?\", \"find recip food diet list\", 3], [\"are their any recipe books for diabetics that have a diabetic cheesecake recipe ?\", \"find recip food diet list\", 3], [\"where can i find out more about diabetic diet sheet ?\", \"find recip food diet list\", 3], [\"finding diabetic recipes ?\", \"find recip food diet list\", 3], [\"where can i find good information on normal sugar levels ?\", \"find recip food diet list\", 3], [\"where can i find good diabetic cook books ?\", \"find recip food diet list\", 3], [\"where can i find diabetic recipes ?\", \"find recip food diet list\", 3], [\"what low carb desserts are suitable for diabetics ?\", \"find recip food diet list\", 3], [\"where can i get the foods to follow a diabetic plan ?\", \"find recip food diet list\", 3], [\"where can i find a list of diabetic approved foods ?\", \"find recip food diet list\", 3], [\"are there soy based diabetic recipes ?\", \"find recip food diet list\", 3], [\"what foods would be on a diabetic food list ?\", \"find recip food diet list\", 3], [\"where can i find out more about diabetes diet guidelines ?\", \"find recip food diet list\", 3], [\"where can i order my diabetic supplies online ?\", \"find recip food diet list\", 3], [\"where can i find diabetic diet charts ?\", \"find recip food diet list\", 3], [\"where can i find some information about a diet for diabetes type two ?\", \"find recip food diet list\", 3], [\"where can i purchase or copy the best menu for nutrition for diabetics ?\", \"find recip food diet list\", 3], [\"where can i find recipes for diabetic <unk> ?\", \"find recip food diet list\", 3], [\"could you recommend a top selling cookbook with healthy diabetic recipes ?\", \"find recip food diet list\", 3], [\"are there any cook books with suggestions for tasty diabetic foods ?\", \"find recip food diet list\", 3], [\"where can i find some diabetic cookie recipes ?\", \"find recip food diet list\", 3], [\"what are some good dessert recipes for diabetics ?\", \"find recip food diet list\", 3], [\"are there any diet recipes for diabetics ?\", \"find recip food diet list\", 3], [\"where can i find a recipe for diabetic or sugar-free desserts ?\", \"find recip food diet list\", 3], [\"is there a diet plan for diabetes online i can use ?\", \"find recip food diet list\", 3], [\"can i find any online cookbooks for diabetics ?\", \"find recip food diet list\", 3], [\"what are recent books with tasty diabetic food recipes ?\", \"find recip food diet list\", 3], [\"does whole foods store sell healthy foods for diabetics ?\", \"find recip food diet list\", 3], [\"what are some stevia dessert recipes ?\", \"find recip food diet list\", 3], [\"are there any websites that can help me find diabetes dtour diet ?\", \"find recip food diet list\", 3], [\"where can i find diabetic meal plans ?\", \"find recip food diet list\", 3], [\"what are the main ingredients in diabetic recipes ?\", \"find recip food diet list\", 3], [\"is there a website that offers a diabetic diet meal plan ?\", \"find recip food diet list\", 3], [\"what are some good thanksgiving recipes ?\", \"find recip food diet list\", 3], [\"where can i find a good sugar diabetes diet ?\", \"find recip food diet list\", 3], [\"where can i find more information on diabetic snacks ?\", \"find recip food diet list\", 3], [\"where can i find a diabetic diet <unk> online ?\", \"find recip food diet list\", 3], [\"where can i find out more about diabetic diet menu ?\", \"find recip food diet list\", 3], [\"is <unk> chicken pot pie good for diabetic diets ?\", \"find recip food diet list\", 3], [\"what are some tasty , easy diabetic cheesecake recipes ?\", \"find recip food diet list\", 3], [\"where can one find online diabetic diets ?\", \"find recip food diet list\", 3], [\"what are some simple dessert recipes for diabetics ?\", \"find recip food diet list\", 3], [\"where can i find information about a gestational diabetes diet ?\", \"find recip food diet list\", 3], [\"what are some good recipes for diabetics to have ?\", \"find recip food diet list\", 3], [\"whats the best dessert recipe for a diabetic female ?\", \"find recip food diet list\", 3], [\"where can i find recipes for people with high blood sugar during pregnancy ?\", \"find recip food diet list\", 3], [\"where can i find some recipes for diabetics for free ?\", \"find recip food diet list\", 3], [\"where can information on `` no sugar '' diets be found ?\", \"find recip food diet list\", 3], [\"where can you find a diabetic food list ?\", \"find recip food diet list\", 3]], \"hovertemplate\": \"summary=%{customdata[1]}<br>pc_1=%{x}<br>pc_2=%{y}<br>pc_3=%{z}<br>question=%{customdata[0]}<br>label=%{customdata[2]}<extra></extra>\", \"legendgroup\": \"find recip food diet list\", \"marker\": {\"color\": \"#636efa\", \"size\": 8, \"symbol\": \"circle\"}, \"mode\": \"markers\", \"name\": \"find recip food diet list\", \"scene\": \"scene\", \"showlegend\": true, \"type\": \"scatter3d\", \"x\": [-0.3216018080711365, -0.20774276554584503, -0.0878189280629158, -0.3355366885662079, -0.4628453254699707, -0.3097948431968689, -0.18258020281791687, -0.3522566258907318, -0.23412057757377625, -0.3326170742511749, -0.2297440767288208, -0.2652980387210846, -0.18574221432209015, -0.09767460078001022, -0.04878954216837883, -0.328460156917572, -0.3618223965167999, -0.29577621817588806, -0.159969761967659, -0.09081314504146576, -0.2518768608570099, -0.060395192354917526, -0.14765390753746033, -0.20573990046977997, -0.03824608400464058, -0.1470535844564438, -0.35537949204444885, -0.4598909616470337, 0.06290939450263977, -0.28170856833457947, -0.28646719455718994, -0.3734898269176483, -0.2415664792060852, -0.3379265069961548, -0.21294257044792175, -0.39588555693626404, -0.23210081458091736, -0.46067938208580017, -0.23730914294719696, -0.1954088807106018, -0.2727568447589874, -0.231021910905838, 0.09607252478599548, -0.38459789752960205, -0.2748199701309204, -0.40490487217903137, -0.15299755334854126, -0.27883049845695496, -0.28880271315574646, -0.17586661875247955, -0.24003060162067413, -0.30614030361175537, -0.3381296694278717, 0.020015869289636612, -0.17773208022117615, -0.1675475835800171, -0.2273038774728775, -0.23674096167087555, -0.20053663849830627, -0.09760791063308716, -0.29833927750587463, -0.4183465242385864, -0.2811450660228729, -0.18593166768550873, -0.005795549135655165, -0.11373261362314224, 0.0060899341478943825, -0.15767905116081238, -0.4131070077419281, -0.376619815826416, -0.37699413299560547, -0.2921074628829956, -0.23113466799259186, -0.23438206315040588, -0.14154958724975586, -0.3273029029369354, -0.24817292392253876, -0.37894102931022644, -0.362199604511261, -0.3283839821815491, 0.030174706131219864, -0.18291598558425903, -0.23763246834278107, -0.1775745004415512, -0.18187567591667175, -0.4052508473396301, -0.353140264749527, -0.3277285695075989, -0.42729949951171875, -0.2772286534309387, -0.35213422775268555, -0.24852758646011353, -0.15450690686702728, -0.27116987109184265, -0.07946954667568207, -0.15847504138946533, -0.242884561419487, -0.2616961598396301, -0.2905338704586029, -0.11446201801300049, -0.1570984572172165, -0.014677773229777813, -0.33461377024650574, -0.27814722061157227, -0.16698744893074036, -0.21565014123916626, -0.08976667374372482, -0.29842644929885864, -0.32515743374824524, -0.3297860324382782, -0.3710996210575104, -0.11206316947937012, -0.11966881155967712, -0.40195056796073914, -0.052179861813783646, -0.45884785056114197, -0.020670201629400253, -0.24596057832241058, -0.35100704431533813, -0.3583303987979889, -0.30192938446998596, -0.26725155115127563], \"y\": [0.7855657935142517, 0.9118300080299377, 0.9745425581932068, 0.775000810623169, 0.6343933939933777, 0.6851519346237183, 0.9945923089981079, 0.8324753046035767, 0.7367398142814636, 0.9102290868759155, 0.771682858467102, 0.5788154006004333, 0.5800668597221375, 0.8726306557655334, 0.8462496399879456, 0.6575525403022766, 0.8538550138473511, 0.661727249622345, 0.7710965871810913, 0.9459698796272278, 0.6294572353363037, 0.9838656187057495, 0.9023111462593079, 1.0, 0.9004557132720947, 0.6550934910774231, 0.7904751896858215, 0.6635622382164001, 0.8706612586975098, 0.6964182257652283, 0.7002086043357849, 0.6745270490646362, 0.8296325206756592, 0.6666289567947388, 0.7515091896057129, 0.6332356333732605, 0.7284057140350342, 0.7089694142341614, 0.6997831463813782, 0.6429663300514221, 0.6307438015937805, 0.5924563407897949, 0.8958651423454285, 0.7306932806968689, 0.7102749943733215, 0.6877064108848572, 0.7833825945854187, 0.5826764702796936, 0.869876503944397, 0.9860938787460327, 0.6640806794166565, 0.9470270276069641, 0.8784181475639343, 0.9698421955108643, 0.6944689750671387, 0.9484047293663025, 0.9986937642097473, 0.6726585626602173, 0.887574315071106, 0.8003574013710022, 0.8653007745742798, 0.7026931643486023, 0.7140073776245117, 0.5981114506721497, 0.9400731325149536, 0.8978778123855591, 0.9265532493591309, 0.9985652565956116, 0.812767744064331, 0.7034088373184204, 0.8803882002830505, 0.8299753069877625, 0.8520404696464539, 0.7998217344284058, 0.9206667542457581, 0.7385451793670654, 0.8462367057800293, 0.6234306693077087, 0.9255944490432739, 0.8919210433959961, 0.890823245048523, 0.6375598311424255, 0.7229138612747192, 0.9097220301628113, 0.7334798574447632, 0.7261951565742493, 0.5542920231819153, 0.6910288333892822, 0.6853000521659851, 0.7809658646583557, 0.8703271150588989, 0.8691238760948181, 0.845544695854187, 0.8883303999900818, 0.9170177578926086, 0.884598970413208, 0.8698763847351074, 0.6072025299072266, 0.8013331294059753, 0.8755857944488525, 0.7374885082244873, 0.9747463464736938, 0.6204747557640076, 0.6262741684913635, 0.8558917045593262, 0.6977587938308716, 0.8715929985046387, 0.6252175569534302, 0.6291337013244629, 0.6582707166671753, 0.7284329533576965, 0.9590314030647278, 0.9140755534172058, 0.7753013372421265, 0.9305780529975891, 0.73878413438797, 0.9159667491912842, 0.9658084511756897, 0.5991284251213074, 0.8360529541969299, 0.5804058909416199, 0.6810607314109802], \"z\": [-0.16449016332626343, -0.07705102115869522, -0.10791008919477463, -0.1237306222319603, -0.04446455463767052, 0.09693574160337448, -0.10107573866844177, 0.04182102903723717, -0.12095199525356293, -0.013461576774716377, -0.13475646078586578, -0.18965290486812592, -0.21398378908634186, 0.04458674043416977, 0.052478618919849396, 0.14251674711704254, -0.004010980483144522, -0.25016358494758606, -0.21891996264457703, 0.03613738343119621, -0.24307183921337128, -0.014691943302750587, 0.03197962045669556, 0.010268214158713818, -0.07446544617414474, -0.004891759250313044, -0.2153031826019287, 0.08915262669324875, 0.05660990998148918, -0.15622657537460327, -0.09618416428565979, 0.049394652247428894, -0.08671966940164566, -0.0551285594701767, -0.296110063791275, 0.05416683480143547, 0.021437572315335274, 0.009439924731850624, -0.2388654202222824, -0.31346938014030457, -0.11326143145561218, -0.21075215935707092, 0.013535954058170319, -0.08460857719182968, 0.15734539926052094, 0.09468955546617508, -0.10278356075286865, -0.0322917103767395, -0.1297106146812439, -0.02691115066409111, -0.020254595205187798, 0.04195398837327957, -0.14395728707313538, 0.01315054390579462, -0.2396010011434555, -0.04541855677962303, -0.10897520929574966, 0.08459025621414185, -0.05413355305790901, -0.08166585117578506, 0.03911007568240166, -0.057852230966091156, -0.21456994116306305, -0.06272623687982559, 0.03822813555598259, -0.2201239913702011, -0.09588855504989624, -0.12768647074699402, -0.045105211436748505, -0.23733004927635193, 0.040040306746959686, -0.027525197714567184, -0.1929207295179367, -0.014369763433933258, -0.13034385442733765, 0.05395401269197464, -0.03632455691695213, -0.05400236323475838, -0.08914853632450104, -0.0687139630317688, -0.02907547354698181, -0.012539314106106758, -0.19301031529903412, -0.169405996799469, -0.22186757624149323, 0.07190792262554169, -0.09385523200035095, 0.022613557055592537, 0.0306777972728014, -0.19585402309894562, -0.065424345433712, 0.03795964643359184, -0.1376369446516037, -0.07989545166492462, -0.017286384478211403, -0.18137899041175842, -0.1437084823846817, 0.14420054852962494, -0.12264776229858398, -0.08424031734466553, -0.27746111154556274, -0.03796786442399025, 0.1482701301574707, -0.04750712215900421, -0.031058859080076218, 0.06577382236719131, -0.009023424237966537, 0.0693204253911972, -0.04296533763408661, 0.0308095533400774, 0.027078252285718918, 0.126396045088768, -0.060149695724248886, -0.044093843549489975, -0.03831788897514343, 0.11857809871435165, 0.04347916692495346, -0.04404905065894127, 0.01117019448429346, -0.09579320251941681, 0.10879435390233994, -0.193539559841156]}, {\"customdata\": [[\"what are some of the major diabetes symptoms a health care worker should look for ?\", \"treatment take major symptom health\", 44], [\"when to start treatment for diabetes ?\", \"treatment take major symptom health\", 44], [\"how much does it cost for treatment of diabetes ?\", \"treatment take major symptom health\", 44], [\"treatments for type one of diabetes ?\", \"treatment take major symptom health\", 44], [\"remedy for <unk> ?\", \"treatment take major symptom health\", 44], [\"how long should five pills per day of <unk> two hundred be continued for rheumatoid arthritis ?\", \"treatment take major symptom health\", 44], [\"what medications are you supposed to take for diabetes ?\", \"treatment take major symptom health\", 44], [\"what are the results of not taking medicine for diabetes ?\", \"treatment take major symptom health\", 44], [\"what can i do on my own as a diabetes treatment ?\", \"treatment take major symptom health\", 44]], \"hovertemplate\": \"summary=%{customdata[1]}<br>pc_1=%{x}<br>pc_2=%{y}<br>pc_3=%{z}<br>question=%{customdata[0]}<br>label=%{customdata[2]}<extra></extra>\", \"legendgroup\": \"treatment take major symptom health\", \"marker\": {\"color\": \"#EF553B\", \"size\": 8, \"symbol\": \"circle\"}, \"mode\": \"markers\", \"name\": \"treatment take major symptom health\", \"scene\": \"scene\", \"showlegend\": true, \"type\": \"scatter3d\", \"x\": [0.11860711872577667, 0.10905405879020691, 0.17612364888191223, 0.024489881470799446, 0.04847181588411331, 0.18825693428516388, 0.1605386584997177, 0.1135220155119896, 0.12651677429676056], \"y\": [0.04220130294561386, 0.10848379880189896, 0.006170352920889854, 0.04037536308169365, 0.11169856041669846, 0.10440778732299805, 0.04200552776455879, 0.07870765775442123, 0.12208852171897888], \"z\": [0.5775460004806519, 0.6520939469337463, 0.6399592757225037, 0.6383038759231567, 0.6443811058998108, 0.6510431170463562, 0.7269259691238403, 0.6506741046905518, 0.5698351263999939]}, {\"customdata\": [[\"nick jonas diabetic ?\", \"nick jona brother get miley\", 4], [\"which jonas brother has diabetes ?\", \"nick jona brother get miley\", 4], [\"did nick jonas write a song for his diabetes ?\", \"nick jona brother get miley\", 4], [\"when did nick jonas find out he had diabetic ?\", \"nick jona brother get miley\", 4], [\"who has diabetes out of the jonas brothers ?\", \"nick jona brother get miley\", 4], [\"are there any videos of nick talking about his diabetes ?\", \"nick jona brother get miley\", 4], [\"who did nick jonas give his diabetes necklace to ?\", \"nick jona brother get miley\", 4], [\"does nick jonas <unk> off his dog tag when he sleeps ?\", \"nick jona brother get miley\", 4], [\"does nick jonas really have a meet and <unk> with diabetics before all of his <unk> ?\", \"nick jona brother get miley\", 4], [\"did miley cyrus break up with nick jonas because nick had diabetes ?\", \"nick jona brother get miley\", 4], [\"does nick like having diabetes ?\", \"nick jona brother get miley\", 4], [\"when was nick jonas diagnosed with diabetes ?\", \"nick jona brother get miley\", 4], [\"what is nick jonas diabetes doctor is name ?\", \"nick jona brother get miley\", 4], [\"does nick jonas support the diabetes research institute ?\", \"nick jona brother get miley\", 4], [\"does michael phelps have type one diabetes ?\", \"nick jona brother get miley\", 4], [\"what year was nick jonas get diabetes ?\", \"nick jona brother get miley\", 4], [\"what day did nick jonas <unk> his diabetes ?\", \"nick jona brother get miley\", 4], [\"did miley <unk> up with nick because of diabetes ?\", \"nick jona brother get miley\", 4], [\"how did nick jonas find out he had diabetes ?\", \"nick jona brother get miley\", 4], [\"is it nick jonas diabetic ?\", \"nick jona brother get miley\", 4], [\"when was nick jonas diagnosed with type one diabetes ?\", \"nick jona brother get miley\", 4], [\"when did nick jonas become a diabetic ?\", \"nick jona brother get miley\", 4], [\"is a little bit longer by the jonas brothers about nick is diabetes ?\", \"nick jona brother get miley\", 4], [\"did <unk> graham get to meet nick jonas about their diabetes ?\", \"nick jona brother get miley\", 4], [\"how many pounds did nick jonas loose when he got his diabetes ?\", \"nick jona brother get miley\", 4], [\"does nick jonas have <unk> diabetes ' or diabetes ?\", \"nick jona brother get miley\", 4], [\"did nick <unk> have diabetes ?\", \"nick jona brother get miley\", 4], [\"was it november sixteen that nick jonas learned he had diabetes ?\", \"nick jona brother get miley\", 4], [\"how does nick jonas brothers help him through living with diabetes ?\", \"nick jona brother get miley\", 4], [\"would justin bieber go out with a girl that has diabetes ?\", \"nick jona brother get miley\", 4], [\"did nick really have diabetes ?\", \"nick jona brother get miley\", 4], [\"can you kiss nick jonas is he has diabetes ?\", \"nick jona brother get miley\", 4], [\"what does nick jonas use for his diabetes ?\", \"nick jona brother get miley\", 4], [\"is it true nick has diabetes ?\", \"nick jona brother get miley\", 4], [\"how did nick get diabetes ?\", \"nick jona brother get miley\", 4], [\"did miley cyrus cry when she found out nick jonas had type one diabetes ?\", \"nick jona brother get miley\", 4], [\"did nick jonas consider leaving the jonas brothers when he found out that he had diabetes ?\", \"nick jona brother get miley\", 4], [\"is nick jonas worried of having diabetes ?\", \"nick jona brother get miley\", 4], [\"can nick jonas get rid of his diabetes ?\", \"nick jona brother get miley\", 4]], \"hovertemplate\": \"summary=%{customdata[1]}<br>pc_1=%{x}<br>pc_2=%{y}<br>pc_3=%{z}<br>question=%{customdata[0]}<br>label=%{customdata[2]}<extra></extra>\", \"legendgroup\": \"nick jona brother get miley\", \"marker\": {\"color\": \"#00cc96\", \"size\": 8, \"symbol\": \"circle\"}, \"mode\": \"markers\", \"name\": \"nick jona brother get miley\", \"scene\": \"scene\", \"showlegend\": true, \"type\": \"scatter3d\", \"x\": [0.10613926500082016, 0.1750003695487976, 0.1795438975095749, 0.08308713138103485, 0.03186739236116409, 0.09812469780445099, 0.02406236156821251, -0.036419548094272614, 0.09063572436571121, -0.012339347042143345, -0.07622601091861725, 0.1024193987250328, 0.053584128618240356, 0.23573489487171173, -0.1533973515033722, 0.02548566833138466, 0.04278047755360603, -0.04886886104941368, 0.049901124089956284, 0.04216458648443222, 0.11664890497922897, 0.029246557503938675, 0.15076516568660736, 0.13531048595905304, 0.026033662259578705, -0.05501972883939743, -0.052542902529239655, 0.13540981709957123, -0.008249140344560146, 0.18144793808460236, -0.07556859403848648, 0.020889179781079292, -0.022184135392308235, -0.036502815783023834, -0.12058532983064651, 0.12999673187732697, 0.10913267731666565, 0.12003554403781891, 0.0020747827365994453], \"y\": [-0.8411855697631836, -0.8312877416610718, -0.8810676336288452, -0.9191016554832458, -0.9734876155853271, -0.7837839126586914, -0.9306213855743408, -0.8956321477890015, -0.8590950965881348, -0.9624730348587036, -0.8805158138275146, -0.9426523447036743, -0.8940834999084473, -0.8698267340660095, -0.8453913331031799, -0.8813632130622864, -0.9069992899894714, -0.9487535953521729, -0.9661948680877686, -0.8688150644302368, -0.921552300453186, -0.9118388891220093, -0.7960424423217773, -0.8366225957870483, -0.9409558176994324, -0.8548126816749573, -0.8892487287521362, -0.9175565242767334, -0.9935542345046997, -0.8420549631118774, -0.9065308570861816, -0.830673098564148, -0.9232892394065857, -0.851550281047821, -0.9430123567581177, -0.9129411578178406, -0.9414899349212646, -0.815683901309967, -0.8581728935241699], \"z\": [0.030706685036420822, -0.008298917673528194, -0.04247057065367699, -0.027305390685796738, -0.013455798849463463, -0.01112779974937439, -0.021311448886990547, -0.11342878639698029, -0.03124116361141205, 0.03689274936914444, 0.05864419788122177, 0.07038833945989609, 0.12319351732730865, -0.008207561448216438, 0.029561350122094154, -0.07046100497245789, -0.09091626107692719, 0.04623657464981079, -0.0833577811717987, 0.06850039213895798, 0.0807020515203476, 0.03561257943511009, 0.06800513714551926, -0.022763004526495934, -0.11539038270711899, 0.0234481580555439, 0.002381139900535345, -0.04918624833226204, -0.0392492450773716, -0.07595452666282654, 0.016638610512018204, 0.055158331990242004, -0.04909691959619522, 0.08804529160261154, 0.0032041454687714577, 0.013764874078333378, -0.04252469539642334, 0.02552100643515587, -0.03176956996321678]}, {\"customdata\": [[\"what are the four <unk> for diabetes <unk> ?\", \"four complic system\", 40], [\"what are the complications of diabetes ?\", \"four complic system\", 40], [\"what are <unk> of diabetes ?\", \"four complic system\", 40], [\"what are the <unk> for diabetes ?\", \"four complic system\", 40], [\"what are the <unk> in diabetes ?\", \"four complic system\", 40], [\"what are the <unk> of diabetes ?\", \"four complic system\", 40], [\"how are diabetes <unk> ?\", \"four complic system\", 40], [\"what are the systems for diabetes ?\", \"four complic system\", 40], [\"what are the <unk> of diabetes ?\", \"four complic system\", 40]], \"hovertemplate\": \"summary=%{customdata[1]}<br>pc_1=%{x}<br>pc_2=%{y}<br>pc_3=%{z}<br>question=%{customdata[0]}<br>label=%{customdata[2]}<extra></extra>\", \"legendgroup\": \"four complic system\", \"marker\": {\"color\": \"#ab63fa\", \"size\": 8, \"symbol\": \"circle\"}, \"mode\": \"markers\", \"name\": \"four complic system\", \"scene\": \"scene\", \"showlegend\": true, \"type\": \"scatter3d\", \"x\": [0.01321274135261774, -0.011768065392971039, -0.0024046606849879026, -0.0008493920904584229, -0.018030444160103798, -0.010160762816667557, 0.032616179436445236, 0.05748136714100838, -0.008847645483911037], \"y\": [-0.4997147023677826, -0.4800766408443451, -0.5815460085868835, -0.5587012767791748, -0.4839499592781067, -0.5339027047157288, -0.6031002998352051, -0.49875250458717346, -0.5078607201576233], \"z\": [-0.07434413582086563, 0.04280529171228409, -0.010887378826737404, -0.06659864634275436, -0.052448492497205734, 0.002088481094688177, -0.023332424461841583, -0.043107710778713226, -0.0008157967822626233]}, {\"customdata\": [[\"can diabetics drink boost ?\", \"drink alcohol milk type two\", 5], [\"can you drink milk if you have type two diabetes ?\", \"drink alcohol milk type two\", 5], [\"diabetic drinks ?\", \"drink alcohol milk type two\", 5], [\"does a diabetic have excess sugar in semen ?\", \"drink alcohol milk type two\", 5], [\"can you drink <unk> <unk> <unk> if your diabetic ?\", \"drink alcohol milk type two\", 5], [\"does drinking alcohol lower your blood sugar ?\", \"drink alcohol milk type two\", 5], [\"what alcohol drinks are safe for diabetics ?\", \"drink alcohol milk type two\", 5], [\"what can diabetics drink when dehydrated ?\", \"drink alcohol milk type two\", 5], [\"can diabetes raise blood alcohol content ?\", \"drink alcohol milk type two\", 5], [\"can you drink alcohol with type one diabetes ?\", \"drink alcohol milk type two\", 5], [\"can diabetics drink <unk> blue ?\", \"drink alcohol milk type two\", 5], [\"smokers with diabetes need more insulin than diabetics who do not smoke ?\", \"drink alcohol milk type two\", 5], [\"what alcohol can you drink when you have diabetes ?\", \"drink alcohol milk type two\", 5], [\"can diabetics drink tequila ?\", \"drink alcohol milk type two\", 5], [\"is marijuana harm full if have diabetes type two ?\", \"drink alcohol milk type two\", 5], [\"can diabetics drink <unk> ?\", \"drink alcohol milk type two\", 5], [\"what will happen if a diabetic patient drinks alcohol ?\", \"drink alcohol milk type two\", 5], [\"can a diabetic drink milk ?\", \"drink alcohol milk type two\", 5], [\"can diabetics drink orange <unk> ?\", \"drink alcohol milk type two\", 5], [\"can you get diabetes from drinking alcohol ?\", \"drink alcohol milk type two\", 5], [\"can alcohol reduce diabetes ?\", \"drink alcohol milk type two\", 5], [\"is beer or wine bad for diabetics ?\", \"drink alcohol milk type two\", 5], [\"how is marijuana bad for diabetics ?\", \"drink alcohol milk type two\", 5], [\"can diabetics drink <unk> coffee ?\", \"drink alcohol milk type two\", 5], [\"should diabetics drink milk ?\", \"drink alcohol milk type two\", 5], [\"is drinking beer safe for diabetics ?\", \"drink alcohol milk type two\", 5]], \"hovertemplate\": \"summary=%{customdata[1]}<br>pc_1=%{x}<br>pc_2=%{y}<br>pc_3=%{z}<br>question=%{customdata[0]}<br>label=%{customdata[2]}<extra></extra>\", \"legendgroup\": \"drink alcohol milk type two\", \"marker\": {\"color\": \"#FFA15A\", \"size\": 8, \"symbol\": \"circle\"}, \"mode\": \"markers\", \"name\": \"drink alcohol milk type two\", \"scene\": \"scene\", \"showlegend\": true, \"type\": \"scatter3d\", \"x\": [0.3572189509868622, 0.478776216506958, 0.3151528239250183, 0.29064059257507324, 0.34620484709739685, 0.4666616916656494, 0.4068891108036041, 0.4703185558319092, 0.4720868468284607, 0.47900012135505676, 0.3901262879371643, 0.2736777067184448, 0.4511791467666626, 0.42669767141342163, 0.32157695293426514, 0.3415140211582184, 0.4066599905490875, 0.40134233236312866, 0.3418627083301544, 0.480994313955307, 0.5279444456100464, 0.42722758650779724, 0.3718399107456207, 0.3540499806404114, 0.4117099642753601, 0.4240892827510834], \"y\": [0.2957931160926819, 0.3258288502693176, 0.3254256248474121, 0.3814406096935272, 0.2854765057563782, 0.25440916419029236, 0.37730270624160767, 0.3240533173084259, 0.21537435054779053, 0.28824248909950256, 0.30479195713996887, 0.2928538918495178, 0.271128386259079, 0.3483145534992218, 0.24487857520580292, 0.30312877893447876, 0.2682863771915436, 0.3206672668457031, 0.2963397204875946, 0.24699661135673523, 0.24587100744247437, 0.4274902045726776, 0.3700414001941681, 0.3327331840991974, 0.3382095694541931, 0.4158608019351959], \"z\": [0.21736569702625275, 0.22960257530212402, 0.249919593334198, 0.24079348146915436, 0.276910662651062, 0.22117236256599426, 0.2813761234283447, 0.38926854729652405, 0.23845916986465454, 0.2605516314506531, 0.14701984822750092, 0.17276662588119507, 0.3331625759601593, 0.3178313970565796, 0.20845161378383636, 0.17871034145355225, 0.36763495206832886, 0.2689858078956604, 0.1304483413696289, 0.316501259803772, 0.29319557547569275, 0.3537706136703491, 0.356622576713562, 0.21168260276317596, 0.2241237610578537, 0.2919900715351105]}, {\"customdata\": [[\"what is the prevalence of diabetes mellitus in the <unk> ?\", \"caus mellitu type one two\", 11], [\"what are the causes of diabetes mellitus ?\", \"caus mellitu type one two\", 11], [\"what is the difference between diabetes and diabetes mellitus ?\", \"caus mellitu type one two\", 11], [\"what are common causes of diabetes ?\", \"caus mellitu type one two\", 11], [\"what is the other name of diabetes mellitus ?\", \"caus mellitu type one two\", 11], [\"understanding diabetes mellitus ?\", \"caus mellitu type one two\", 11], [\"<unk> of diabetes mellitus ?\", \"caus mellitu type one two\", 11], [\"why is diabetes called diabetes mellitus ?\", \"caus mellitu type one two\", 11], [\"what causes diabetes mellitus ?\", \"caus mellitu type one two\", 11], [\"what causes type one diabetes mellitus caused by ?\", \"caus mellitu type one two\", 11], [\"what is the predisposing factors of diabetes mellitus ?\", \"caus mellitu type one two\", 11], [\"what are causes of fasting hyperglycemia in diabetes ?\", \"caus mellitu type one two\", 11], [\"what is the causes of diabetes ?\", \"caus mellitu type one two\", 11], [\"what are the three p is of diabetes mellitus ?\", \"caus mellitu type one two\", 11], [\"what causes diabetes ?\", \"caus mellitu type one two\", 11], [\"what problems cause type two diabetes ?\", \"caus mellitu type one two\", 11], [\"what is the complications of diabetes mellitus ?\", \"caus mellitu type one two\", 11], [\"what is <unk> diabetes mellitus ?\", \"caus mellitu type one two\", 11], [\"what is the main cause of diabetes ?\", \"caus mellitu type one two\", 11], [\"what is the pathophysiology of type two diabetes mellitus ?\", \"caus mellitu type one two\", 11], [\"what causes type two diabetes ?\", \"caus mellitu type one two\", 11], [\"diabetes mellitus is caused by what ?\", \"caus mellitu type one two\", 11], [\"what is diabetes mellitus characterized by ?\", \"caus mellitu type one two\", 11], [\"what are the causes of hyperglycemia ?\", \"caus mellitu type one two\", 11], [\"what is <unk> mellitus ?\", \"caus mellitu type one two\", 11], [\"what causes blurred vision with diabetes ?\", \"caus mellitu type one two\", 11], [\"what did matthew dobson about diabetes ?\", \"caus mellitu type one two\", 11], [\"what is the cause of diabetes type two ?\", \"caus mellitu type one two\", 11], [\"what is type one diabetes mellitus ?\", \"caus mellitu type one two\", 11], [\"what are some of the main causes of diabetes ?\", \"caus mellitu type one two\", 11], [\"what is a major cause of type one juvenile diabetes ?\", \"caus mellitu type one two\", 11], [\"what are the causes of diabetes in children ?\", \"caus mellitu type one two\", 11], [\"what causes type i diabetes mellitus ?\", \"caus mellitu type one two\", 11], [\"what is the leading cause of death in childhood diabetes ?\", \"caus mellitu type one two\", 11], [\"what are the cardinal signs of diabetes mellitus the three p is ?\", \"caus mellitu type one two\", 11], [\"what is the cause of type one diabetes ?\", \"caus mellitu type one two\", 11], [\"what are the causes of diabetes miletus ?\", \"caus mellitu type one two\", 11], [\"what is type one mellitus diabetes ?\", \"caus mellitu type one two\", 11]], \"hovertemplate\": \"summary=%{customdata[1]}<br>pc_1=%{x}<br>pc_2=%{y}<br>pc_3=%{z}<br>question=%{customdata[0]}<br>label=%{customdata[2]}<extra></extra>\", \"legendgroup\": \"caus mellitu type one two\", \"marker\": {\"color\": \"#19d3f3\", \"size\": 8, \"symbol\": \"circle\"}, \"mode\": \"markers\", \"name\": \"caus mellitu type one two\", \"scene\": \"scene\", \"showlegend\": true, \"type\": \"scatter3d\", \"x\": [-0.10288207232952118, -0.031154725700616837, -0.05636293813586235, -0.03587261959910393, -0.12695948779582977, -0.12272696942090988, -0.1893809586763382, -0.15107955038547516, -0.05255832150578499, -0.014099528081715107, -0.1795615404844284, 0.022215235978364944, -0.11908283829689026, -0.03287482634186745, -0.12494117021560669, 0.0032665657345205545, -0.2151460200548172, -0.14474695920944214, -0.12933871150016785, -0.06025753542780876, 0.008390134200453758, -0.07243456691503525, -0.09366443753242493, -0.02708452194929123, -0.12216617166996002, -0.13186581432819366, -0.18619191646575928, -0.06828610599040985, -0.15071192383766174, -0.09338024258613586, -0.10131340473890305, -0.10720128566026688, 0.006061529275029898, -0.13078853487968445, 0.007729657460004091, -0.06482098251581192, -0.08767417073249817, -0.12655937671661377], \"y\": [-0.5905828475952148, -0.5154281258583069, -0.6776865720748901, -0.488736629486084, -0.6907294392585754, -0.7043042778968811, -0.6666628122329712, -0.6685532331466675, -0.5508034229278564, -0.5525894165039062, -0.5931910276412964, -0.4894869029521942, -0.4739096760749817, -0.6406903862953186, -0.43321657180786133, -0.4681240916252136, -0.6330504417419434, -0.6483076214790344, -0.5130048394203186, -0.6442447304725647, -0.45565634965896606, -0.5971493721008301, -0.6340484023094177, -0.4452522099018097, -0.6388358473777771, -0.3686055541038513, -0.4652770161628723, -0.5502613186836243, -0.6337510943412781, -0.5171001553535461, -0.4932090938091278, -0.4180017411708832, -0.5025987029075623, -0.44112443923950195, -0.5546688437461853, -0.4969862997531891, -0.4864670932292938, -0.6458540558815002], \"z\": [0.02650127187371254, 0.17976459860801697, 0.11354296654462814, 0.21446147561073303, 0.23667627573013306, 0.13612069189548492, 0.1480761468410492, 0.17822301387786865, 0.1911264955997467, 0.23770874738693237, 0.12311283499002457, 0.16894549131393433, 0.15777920186519623, 0.09339693933725357, 0.1480875462293625, 0.32749658823013306, 0.14075973629951477, 0.1317267268896103, 0.16304346919059753, 0.2567780613899231, 0.2995295226573944, 0.17706157267093658, 0.17504221200942993, 0.13855372369289398, 0.09677809476852417, 0.14531831443309784, 0.1219935268163681, 0.32328739762306213, 0.23373517394065857, 0.11390738934278488, 0.28438904881477356, 0.09229320287704468, 0.2742103636264801, 0.2123098075389862, 0.0980299562215805, 0.2635674476623535, 0.1104183942079544, 0.2503441274166107]}, {\"customdata\": [[\"does gestational diabetes return ?\", \"gestat pregnanc occur pregnant women\", 7], [\"what is worse to have during pregnancy <unk> or having diabetes ?\", \"gestat pregnanc occur pregnant women\", 7], [\"can gestational diabetes go away ?\", \"gestat pregnanc occur pregnant women\", 7], [\"is gestational diabetes the kind that only occurs during pregnancy ?\", \"gestat pregnanc occur pregnant women\", 7], [\"can you have anemia and gestational diabetes at the same time ?\", \"gestat pregnanc occur pregnant women\", 7], [\"does a pregnant women with diabetes take different prescriptions than a pregnant women without diabetes ?\", \"gestat pregnanc occur pregnant women\", 7], [\"gestational diabetes symptoms ?\", \"gestat pregnanc occur pregnant women\", 7], [\"in gestational diabetes <unk> a medicine of mother tincture safe in pregnancy ?\", \"gestat pregnanc occur pregnant women\", 7], [\"in gestational diabetes the mother passes diabetes to her <unk> ?\", \"gestat pregnanc occur pregnant women\", 7], [\"does gestational diabetes cause preterm labor ?\", \"gestat pregnanc occur pregnant women\", 7], [\"does having pre diabetes make you more likely to get gestational diabetes ?\", \"gestat pregnanc occur pregnant women\", 7], [\"can type two diabetes occur during pregnancy ?\", \"gestat pregnanc occur pregnant women\", 7]], \"hovertemplate\": \"summary=%{customdata[1]}<br>pc_1=%{x}<br>pc_2=%{y}<br>pc_3=%{z}<br>question=%{customdata[0]}<br>label=%{customdata[2]}<extra></extra>\", \"legendgroup\": \"gestat pregnanc occur pregnant women\", \"marker\": {\"color\": \"#FF6692\", \"size\": 8, \"symbol\": \"circle\"}, \"mode\": \"markers\", \"name\": \"gestat pregnanc occur pregnant women\", \"scene\": \"scene\", \"showlegend\": true, \"type\": \"scatter3d\", \"x\": [-0.562204897403717, -0.5050715804100037, -0.5714126229286194, -0.6271149516105652, -0.5613540410995483, -0.5932637453079224, -0.5306188464164734, -0.6214348077774048, -0.5944027900695801, -0.6209920048713684, -0.5015789866447449, -0.5611650943756104], \"y\": [-0.22488726675510406, -0.18242919445037842, -0.23428237438201904, -0.24154098331928253, -0.2315865308046341, -0.16547323763370514, -0.25926676392555237, -0.20390522480010986, -0.20687858760356903, -0.2474357634782791, -0.1834845393896103, -0.2154792696237564], \"z\": [-0.12816587090492249, -0.07121127098798752, -0.08981870114803314, -0.15185245871543884, -0.21234627068042755, -0.14851593971252441, -0.14414414763450623, -0.21152561902999878, -0.13046057522296906, -0.06048189848661423, -0.11822450160980225, -0.02955910935997963]}, {\"customdata\": [[\"what systems balance blood glucose and insulin levels ?\", \"glucos blood level control insulin\", 8], [\"what regulates blood glucose levels ?\", \"glucos blood level control insulin\", 8], [\"how does diabetes affect the level of glucose in the blood and in body cells ?\", \"glucos blood level control insulin\", 8], [\"what is the storage form of glucose in humans ?\", \"glucos blood level control insulin\", 8], [\"what are the three main types of tissues that respond to insulin well and help lower blood glucose level ?\", \"glucos blood level control insulin\", 8], [\"how type one diabetic can control the glucose content of the blood ?\", \"glucos blood level control insulin\", 8], [\"what is the role of liver and pancreas in controlling the blood glucose level ?\", \"glucos blood level control insulin\", 8], [\"how does the pancreas control blood glucose levels ?\", \"glucos blood level control insulin\", 8], [\"what can reduce blood glucose levels immediately ?\", \"glucos blood level control insulin\", 8], [\"where is the energy stored in glucose ?\", \"glucos blood level control insulin\", 8], [\"what gland controls glucose blood levels ?\", \"glucos blood level control insulin\", 8], [\"how does a person with type one diabetes monitor their blood glucose levels ?\", \"glucos blood level control insulin\", 8], [\"what is the role of insulin in blood glucose levels ?\", \"glucos blood level control insulin\", 8], [\"the storage form of glucose in muscles is called ?\", \"glucos blood level control insulin\", 8], [\"how to tell your own normal blood glucose ?\", \"glucos blood level control insulin\", 8], [\"what are the brands of blood glucose meter available at <unk> drug ?\", \"glucos blood level control insulin\", 8], [\"how does blood transport glucose to the cells ?\", \"glucos blood level control insulin\", 8], [\"what happens to insulin levels when blood glucose levels increase ?\", \"glucos blood level control insulin\", 8], [\"what lowers the level of glucose in the blood ?\", \"glucos blood level control insulin\", 8], [\"what controls glucose levels in the blood ?\", \"glucos blood level control insulin\", 8], [\"what controls the blood glucose levels ?\", \"glucos blood level control insulin\", 8], [\"what regulates insulin levels in blood ?\", \"glucos blood level control insulin\", 8]], \"hovertemplate\": \"summary=%{customdata[1]}<br>pc_1=%{x}<br>pc_2=%{y}<br>pc_3=%{z}<br>question=%{customdata[0]}<br>label=%{customdata[2]}<extra></extra>\", \"legendgroup\": \"glucos blood level control insulin\", \"marker\": {\"color\": \"#B6E880\", \"size\": 8, \"symbol\": \"circle\"}, \"mode\": \"markers\", \"name\": \"glucos blood level control insulin\", \"scene\": \"scene\", \"showlegend\": true, \"type\": \"scatter3d\", \"x\": [0.4498053789138794, 0.4751695692539215, 0.5282114744186401, 0.3828185796737671, 0.46929675340652466, 0.39528295397758484, 0.5303921699523926, 0.5069805383682251, 0.41573983430862427, 0.3884759545326233, 0.535132884979248, 0.43560802936553955, 0.5332499742507935, 0.3959650695323944, 0.4294569492340088, 0.4337784945964813, 0.5126540064811707, 0.4432114362716675, 0.5193551182746887, 0.4398198127746582, 0.4595099091529846, 0.4903191328048706], \"y\": [-0.31589922308921814, -0.3274163007736206, -0.2617014944553375, -0.3726355731487274, -0.3120105266571045, -0.27986305952072144, -0.28919222950935364, -0.3482382893562317, -0.2717551290988922, -0.32896819710731506, -0.36247536540031433, -0.25281423330307007, -0.28239133954048157, -0.36822691559791565, -0.2182551473379135, -0.3925340175628662, -0.3718894422054291, -0.3228756785392761, -0.31760552525520325, -0.31619080901145935, -0.3381161391735077, -0.37128812074661255], \"z\": [-0.23787641525268555, -0.3644704520702362, -0.24462664127349854, -0.21246318519115448, -0.1886029690504074, -0.2568488121032715, -0.2973836064338684, -0.27772825956344604, -0.17447474598884583, -0.3098045885562897, -0.30923929810523987, -0.2953542172908783, -0.36110085248947144, -0.18137723207473755, -0.3103797435760498, -0.3097515106201172, -0.18219280242919922, -0.41015222668647766, -0.4126066565513611, -0.29785865545272827, -0.3057785928249359, -0.38584792613983154]}, {\"customdata\": [[\"what research has been done on sun is soup ?\", \"research done sun soup scientist\", 28], [\"what is a scientist who studies diabetes called ?\", \"research done sun soup scientist\", 28], [\"what research has been done on <unk> chi ?\", \"research done sun soup scientist\", 28], [\"what research has been done on <unk> massage ?\", \"research done sun soup scientist\", 28], [\"what research has been done on saw <unk> ?\", \"research done sun soup scientist\", 28], [\"what research has been done on <unk> mushroom ?\", \"research done sun soup scientist\", 28], [\"how do you write a school research paper on diabetes ?\", \"research done sun soup scientist\", 28], [\"what research has been done on shiatsu ?\", \"research done sun soup scientist\", 28], [\"what research has been done on <unk> <unk> therapy ?\", \"research done sun soup scientist\", 28], [\"what research has been done on <unk> ?\", \"research done sun soup scientist\", 28], [\"what research has been done on retinopathy ?\", \"research done sun soup scientist\", 28]], \"hovertemplate\": \"summary=%{customdata[1]}<br>pc_1=%{x}<br>pc_2=%{y}<br>pc_3=%{z}<br>question=%{customdata[0]}<br>label=%{customdata[2]}<extra></extra>\", \"legendgroup\": \"research done sun soup scientist\", \"marker\": {\"color\": \"#FF97FF\", \"size\": 8, \"symbol\": \"circle\"}, \"mode\": \"markers\", \"name\": \"research done sun soup scientist\", \"scene\": \"scene\", \"showlegend\": true, \"type\": \"scatter3d\", \"x\": [0.13460689783096313, 0.08350931107997894, 0.06137082353234291, 0.08734733611345291, 0.09258700907230377, 0.11329822987318039, 0.005958600901067257, 0.1209130585193634, 0.07695509493350983, 0.09712014347314835, 0.11886312067508698], \"y\": [-0.21246233582496643, -0.2182539850473404, -0.184535413980484, -0.15258780121803284, -0.16968263685703278, -0.2070920467376709, -0.2008790224790573, -0.13744932413101196, -0.1216777041554451, -0.20847053825855255, -0.14198799431324005], \"z\": [-0.41344743967056274, -0.47609496116638184, -0.39394545555114746, -0.34187912940979004, -0.41752156615257263, -0.3660891056060791, -0.47321128845214844, -0.3511199653148651, -0.3553069531917572, -0.4149474799633026, -0.42829111218452454]}, {\"customdata\": [[\"diabetic blood sugar levels fluctuate throughout the day ?\", \"blood sugar level consid eat\", 36], [\"what should my blood sugar level be ?\", \"blood sugar level consid eat\", 36], [\"what levels must sugar in the blood be to be considered diabetis <unk> ?\", \"blood sugar level consid eat\", 36], [\"fasting blood sugar is higher than <unk> after dinner blood sugar ?\", \"blood sugar level consid eat\", 36], [\"what is considered and good low and high blood sugar ?\", \"blood sugar level consid eat\", 36], [\"when after eating what is normal blood sugar ?\", \"blood sugar level consid eat\", 36], [\"what are healthy blood sugar levels ?\", \"blood sugar level consid eat\", 36], [\"can <unk> blood improve blood sugar level ?\", \"blood sugar level consid eat\", 36], [\"what is normal blood sugar level after eating ?\", \"blood sugar level consid eat\", 36], [\"blood sugar levels ?\", \"blood sugar level consid eat\", 36]], \"hovertemplate\": \"summary=%{customdata[1]}<br>pc_1=%{x}<br>pc_2=%{y}<br>pc_3=%{z}<br>question=%{customdata[0]}<br>label=%{customdata[2]}<extra></extra>\", \"legendgroup\": \"blood sugar level consid eat\", \"marker\": {\"color\": \"#FECB52\", \"size\": 8, \"symbol\": \"circle\"}, \"mode\": \"markers\", \"name\": \"blood sugar level consid eat\", \"scene\": \"scene\", \"showlegend\": true, \"type\": \"scatter3d\", \"x\": [0.5019412040710449, 0.5414667129516602, 0.580460250377655, 0.4872611165046692, 0.49057796597480774, 0.5312787294387817, 0.5980919599533081, 0.5334176421165466, 0.55954509973526, 0.5560638904571533], \"y\": [0.0063955518417060375, 0.0421610064804554, 0.05142275616526604, 0.039868149906396866, 0.11180893331766129, -0.0030128026846796274, 0.022236471995711327, 0.058940500020980835, -0.015253892168402672, 0.04432502016425133], \"z\": [-0.2650478482246399, -0.2883926331996918, -0.32170361280441284, -0.3486837148666382, -0.3115474283695221, -0.3492122292518616, -0.2405133843421936, -0.20035918056964874, -0.3640599548816681, -0.24444666504859924]}, {\"customdata\": [[\"blood sugar level is one hundred to two hundred after eatting a meal . is two hundred to high ?\", \"hundr blood one sugar level\", 9], [\"is one hundred and twelve glucose high ?\", \"hundr blood one sugar level\", 9], [\"what does two hundred and three as a blood sugar means ?\", \"hundr blood one sugar level\", 9], [\"what are patient interventions for blood glucose reading of one hundred and twenty ?\", \"hundr blood one sugar level\", 9], [\"is a glucose level of one hundred and ten too high in the morning ?\", \"hundr blood one sugar level\", 9], [\"is eighty six a normal blood sugar for a none diabetic ?\", \"hundr blood one sugar level\", 9], [\"how can you maintain your blood glucose level ?\", \"hundr blood one sugar level\", 9], [\"on a one thousand , nine hundred and eighty nine <unk> pu five point seven what is the normal <unk> reading ?\", \"hundr blood one sugar level\", 9], [\"if blood sugar is five hundred and seventy five what type of insulin ?\", \"hundr blood one sugar level\", 9], [\"is blood sugar one hundred and fifty six is normal ?\", \"hundr blood one sugar level\", 9], [\"how long does regular insulin peak if its given at seven hundred and thirty ?\", \"hundr blood one sugar level\", 9], [\"what is a normal glucose level for a woman in her thirty is ?\", \"hundr blood one sugar level\", 9], [\"is a blood sugar level of one hundred and eighty seven average dangerous in a type two diabetic ?\", \"hundr blood one sugar level\", 9], [\"your fasting blood sugars are three hundred is that dangerous ?\", \"hundr blood one sugar level\", 9], [\"is ninety seven to one hundred and ten blood sugar level within normal range for a diabetic ?\", \"hundr blood one sugar level\", 9], [\"is blood sugar level of two hundred and eighty dangerous ?\", \"hundr blood one sugar level\", 9], [\"is one hundred and twelve high for someone that is not diabetic ?\", \"hundr blood one sugar level\", 9], [\"is one hundred and twelve high for a glucose reading ?\", \"hundr blood one sugar level\", 9], [\"is three hundred and eighty four to high in being a diabetic ?\", \"hundr blood one sugar level\", 9], [\"if your blood sugar is two hundred and seventy is that high ?\", \"hundr blood one sugar level\", 9], [\"is one hundred and eight glucose high ?\", \"hundr blood one sugar level\", 9], [\"is a blood sugar level of one hundred and eleven normal ?\", \"hundr blood one sugar level\", 9], [\"is seventy a good blood glucose level ?\", \"hundr blood one sugar level\", 9], [\"if your blood sugar is four hundred and thirty should you go to the hospital ?\", \"hundr blood one sugar level\", 9], [\"is a blood glucose level over one thousand , two hundred dangerous ?\", \"hundr blood one sugar level\", 9], [\"what if your blood sugar is one hundred is that good ?\", \"hundr blood one sugar level\", 9], [\"what is most <unk> for maintaining god blood glucose levels for a dibetic patient ?\", \"hundr blood one sugar level\", 9], [\"what should your blood glucose number be ?\", \"hundr blood one sugar level\", 9], [\"should your face hurt if you have four hundred and thirty blood sugar ?\", \"hundr blood one sugar level\", 9], [\"is one hundred and thirty eight blood sugar too high after three hrs eating ?\", \"hundr blood one sugar level\", 9], [\"is two hundred and fifty seven glucose reading is normal ?\", \"hundr blood one sugar level\", 9], [\"what to <unk> your blood sugar is five hundred ?\", \"hundr blood one sugar level\", 9], [\"what does it mean when your blood sugar count is two hundred and ninety seven ?\", \"hundr blood one sugar level\", 9], [\"what should you do if your glucose level is three hundred and seventy one ?\", \"hundr blood one sugar level\", 9], [\"is two hundred and thirty eight a high blood glucose reading ?\", \"hundr blood one sugar level\", 9], [\"is sixty low for a glucose reading ?\", \"hundr blood one sugar level\", 9], [\"is a <unk> blood level of one point three five high ?\", \"hundr blood one sugar level\", 9], [\"is one hundred and sixteen a good blood sugar ?\", \"hundr blood one sugar level\", 9], [\"what to do if sugar level is four hundred and fifty six ?\", \"hundr blood one sugar level\", 9], [\"blood sugar is five point six in morning ?\", \"hundr blood one sugar level\", 9], [\"why is my blood glucose so high while on <unk> ?\", \"hundr blood one sugar level\", 9], [\"is your blood sugar high if it is one hundred and ninety three right after lunch ?\", \"hundr blood one sugar level\", 9], [\"suger level one hundred and eighty five to high ?\", \"hundr blood one sugar level\", 9], [\"is a blood sugar level of one hundred and twenty four considered high for men who is sixty three yrs old ?\", \"hundr blood one sugar level\", 9], [\"is a glucose reading of one hundred and seventeen of concern ?\", \"hundr blood one sugar level\", 9], [\"is a blood sugar level of one hundred and sixty one dangerous ?\", \"hundr blood one sugar level\", 9], [\"my blood sugar was over four hundred last week ?\", \"hundr blood one sugar level\", 9], [\"is ninety high blood sugar ?\", \"hundr blood one sugar level\", 9], [\"what is the normal oil <unk> range for a one thousand , nine hundred and eighty eight <unk> ?\", \"hundr blood one sugar level\", 9], [\"is a reading of one hundred and one in a diabetes test considered high ?\", \"hundr blood one sugar level\", 9], [\"is a blood sugar level of one hundred and sixty dangerous ?\", \"hundr blood one sugar level\", 9], [\"what should my blood glucose level be to be considered normal ?\", \"hundr blood one sugar level\", 9], [\"is one hundred and sixty six a safe glucose level ?\", \"hundr blood one sugar level\", 9], [\"what does it mean if your blood sugar level is two hundred and fifteen ?\", \"hundr blood one sugar level\", 9], [\"is three hundred and seven considered a normal rate for your blood sugar ?\", \"hundr blood one sugar level\", 9], [\"while fasting is blood sugar readings of one hundred and ten normal for a thirteen year old girl ?\", \"hundr blood one sugar level\", 9]], \"hovertemplate\": \"summary=%{customdata[1]}<br>pc_1=%{x}<br>pc_2=%{y}<br>pc_3=%{z}<br>question=%{customdata[0]}<br>label=%{customdata[2]}<extra></extra>\", \"legendgroup\": \"hundr blood one sugar level\", \"marker\": {\"color\": \"#636efa\", \"size\": 8, \"symbol\": \"circle\"}, \"mode\": \"markers\", \"name\": \"hundr blood one sugar level\", \"scene\": \"scene\", \"showlegend\": true, \"type\": \"scatter3d\", \"x\": [0.41407209634780884, 0.4565487205982208, 0.5297770500183105, 0.4255872666835785, 0.5045017004013062, 0.3573029637336731, 0.36717844009399414, 0.3478095829486847, 0.45708560943603516, 0.46274882555007935, 0.3906067907810211, 0.5768018960952759, 0.37294265627861023, 0.31298354268074036, 0.41812726855278015, 0.4574059247970581, 0.4004485607147217, 0.5102741718292236, 0.4804116189479828, 0.4504038095474243, 0.4499295949935913, 0.4527249038219452, 0.455003023147583, 0.3891390860080719, 0.3956185281276703, 0.5104462504386902, 0.45450106263160706, 0.34704262018203735, 0.37900200486183167, 0.3454495370388031, 0.49308305978775024, 0.5131406784057617, 0.38586968183517456, 0.4060671329498291, 0.44640129804611206, 0.535668671131134, 0.41691523790359497, 0.5205487608909607, 0.5084009766578674, 0.3703121840953827, 0.42306333780288696, 0.4177168011665344, 0.43989771604537964, 0.5231130719184875, 0.5048381090164185, 0.4912409782409668, 0.34891411662101746, 0.4693281054496765, 0.3782069683074951, 0.5650137066841125, 0.5182830095291138, 0.49582889676094055, 0.41959670186042786, 0.4732241928577423, 0.4011884927749634, 0.5020073056221008], \"y\": [0.12653043866157532, 0.0003247018321417272, 0.17659245431423187, -0.09187816828489304, 0.014916935004293919, 0.07206632196903229, -0.08206937462091446, 0.09202385693788528, 0.1805502027273178, 0.09344686567783356, 0.15275336802005768, -0.05769742280244827, 0.05281388759613037, -0.015934357419610023, 0.07073602825403214, 0.030977971851825714, 0.03313039615750313, 0.0157827939838171, 0.1093481183052063, 0.13856583833694458, 0.010940486565232277, 0.05717207118868828, -0.053077854216098785, 0.17665676772594452, -0.013120077550411224, 0.20204666256904602, -0.08605886995792389, -0.026451095938682556, 0.15865272283554077, 0.12508076429367065, 0.0243197213858366, 0.22488825023174286, 0.010835318826138973, -0.016448725014925003, 0.0001990267337532714, -0.016820769757032394, 0.005659103859215975, 0.1342816799879074, 0.17117664217948914, 0.1721051037311554, -0.03310304880142212, 0.13795578479766846, 0.07899940758943558, 0.11908381432294846, -0.024556303396821022, 0.07301332801580429, 0.18387150764465332, 0.12758305668830872, 0.11036104708909988, 0.02408955991268158, 0.06762941926717758, -0.10860689729452133, -0.044324036687612534, 0.15369656682014465, 0.08621370792388916, 0.06787104159593582], \"z\": [-0.5423061847686768, -0.5536757707595825, -0.4668272137641907, -0.678864061832428, -0.5356948375701904, -0.4719107151031494, -0.49944403767585754, -0.6692456007003784, -0.590425968170166, -0.528915524482727, -0.6756799221038818, -0.5291250944137573, -0.5751405358314514, -0.548911452293396, -0.5800491571426392, -0.4885784983634949, -0.4080098271369934, -0.5892595648765564, -0.6715550422668457, -0.4307621121406555, -0.6036227345466614, -0.5455076098442078, -0.5151534676551819, -0.45639768242836, -0.6240242719650269, -0.41115668416023254, -0.5505531430244446, -0.5195624232292175, -0.38585802912712097, -0.5591750741004944, -0.6616222262382507, -0.45202669501304626, -0.5114239454269409, -0.5276111364364624, -0.6611007452011108, -0.638805627822876, -0.7143334150314331, -0.4257220923900604, -0.5217151641845703, -0.5300451517105103, -0.46052637696266174, -0.46632155776023865, -0.6510099768638611, -0.589909553527832, -0.5737576484680176, -0.45915907621383667, -0.5876613259315491, -0.3681570887565613, -0.6707482933998108, -0.585041344165802, -0.46524500846862793, -0.49292635917663574, -0.5776160955429077, -0.4803091287612915, -0.5086965560913086, -0.582359790802002]}, {\"customdata\": [[\"what is sugar normal range ?\", \"normal blood level sugar glucos\", 10], [\"what is a normal blood sugar level reading ?\", \"normal blood level sugar glucos\", 10], [\"what is the normal range for anion gap ?\", \"normal blood level sugar glucos\", 10], [\"communicate with the school nurse ?\", \"normal blood level sugar glucos\", 10], [\"what are the normal sugar levels ?\", \"normal blood level sugar glucos\", 10], [\"what is the normal blood glucose range ?\", \"normal blood level sugar glucos\", 10], [\"what are normal glucose levels ?\", \"normal blood level sugar glucos\", 10], [\"what is the normal blood sugar level in human body ?\", \"normal blood level sugar glucos\", 10], [\"why is it important it to keep the blood glucose level within the normal range ?\", \"normal blood level sugar glucos\", 10], [\"what is the normal range of hb1ac ?\", \"normal blood level sugar glucos\", 10], [\"which glucose levels are normal while fasting ?\", \"normal blood level sugar glucos\", 10], [\"what is the normal range of blood sugar for diabetic ?\", \"normal blood level sugar glucos\", 10], [\"what are healthy fasting blood glucose levels ?\", \"normal blood level sugar glucos\", 10], [\"what is the normal blood glucose level in human ?\", \"normal blood level sugar glucos\", 10], [\"what is the average blood sugar level for an adult woman ?\", \"normal blood level sugar glucos\", 10], [\"what is the normal value of random blood sugar ?\", \"normal blood level sugar glucos\", 10], [\"the normal value of glucose per one hundred ml of blood is ?\", \"normal blood level sugar glucos\", 10], [\"what is the healthy normal blood sugar range for a person who is predisposed to diabetes ?\", \"normal blood level sugar glucos\", 10], [\"my hba1c level is five point nine what is normal level ?\", \"normal blood level sugar glucos\", 10], [\"what is the normal level for cholesterol in the blood ?\", \"normal blood level sugar glucos\", 10], [\"what are the acceptable amounts of normal glucose levels ?\", \"normal blood level sugar glucos\", 10], [\"what is the uk <unk> range for <unk> blood sugar levels ?\", \"normal blood level sugar glucos\", 10], [\"what levels of blood glucose indicates diabetes ?\", \"normal blood level sugar glucos\", 10], [\"what does a decreasing level of cea in the blood indicate ?\", \"normal blood level sugar glucos\", 10], [\"what is the normal number for blood sugar ?\", \"normal blood level sugar glucos\", 10], [\"what is the normal range of blood glucose ?\", \"normal blood level sugar glucos\", 10], [\"what is normal glucose levels for diabetic ?\", \"normal blood level sugar glucos\", 10], [\"what is a normal glucose level ?\", \"normal blood level sugar glucos\", 10], [\"average a1c level in non diabetic patient ?\", \"normal blood level sugar glucos\", 10], [\"what is the normal range for preprandial blood sugar in an <unk> client who has diabetes ?\", \"normal blood level sugar glucos\", 10], [\"what are the normal glucose levels of a forty year old male ?\", \"normal blood level sugar glucos\", 10], [\"what is the normal range for blood sugar ?\", \"normal blood level sugar glucos\", 10], [\"what is the normal fasting blood glucose range in a diabetic teenager ?\", \"normal blood level sugar glucos\", 10], [\"what is the normal range in a blood <unk> test ?\", \"normal blood level sugar glucos\", 10], [\"what is a disease in which blood glucose levels are above normal ?\", \"normal blood level sugar glucos\", 10], [\"what is the normal heart rate for eighty one yr old diabetic woman ?\", \"normal blood level sugar glucos\", 10], [\"blood glucose levels normal range is ?\", \"normal blood level sugar glucos\", 10], [\"what is a normal sugar level for twenty year old ?\", \"normal blood level sugar glucos\", 10], [\"medical terms what is the name of blood condition of less than normal sugar ?\", \"normal blood level sugar glucos\", 10], [\"a normal fasting glucose level is ?\", \"normal blood level sugar glucos\", 10], [\"the ph of blood is usually maintained at about ?\", \"normal blood level sugar glucos\", 10], [\"what is a normal blood sugar range for fasting ?\", \"normal blood level sugar glucos\", 10], [\"what is the normal ranges of sugar after eating ?\", \"normal blood level sugar glucos\", 10], [\"when glucose levels are above normal the pancrease secretes ?\", \"normal blood level sugar glucos\", 10], [\"do you know the amounts of normal glucose levels ?\", \"normal blood level sugar glucos\", 10], [\"what is the range of glucose in <unk> ?\", \"normal blood level sugar glucos\", 10], [\"what is the best website for normal glucose levels ?\", \"normal blood level sugar glucos\", 10], [\"what is the level of glucose in a cat ?\", \"normal blood level sugar glucos\", 10], [\"what is the normal range for someone is blood sugar level ?\", \"normal blood level sugar glucos\", 10], [\"normal blood sugar level for type two diabetes ?\", \"normal blood level sugar glucos\", 10], [\"what is normal blood sugar for kids ?\", \"normal blood level sugar glucos\", 10], [\"what is the normal range of running and blood sugar ?\", \"normal blood level sugar glucos\", 10], [\"what is the normal blood sugar level for a child ?\", \"normal blood level sugar glucos\", 10], [\"what is a normal blood level ?\", \"normal blood level sugar glucos\", 10], [\"what is the normal blood sugar level for a woman in her forty ' ?\", \"normal blood level sugar glucos\", 10], [\"what is the normal human glucose level ?\", \"normal blood level sugar glucos\", 10], [\"what is considered a normal blood sugar level ?\", \"normal blood level sugar glucos\", 10], [\"what is a normal level of triglycerides and what are the implications of having abnormal levels ?\", \"normal blood level sugar glucos\", 10], [\"what is the normal average ph of blood ?\", \"normal blood level sugar glucos\", 10], [\"why sugar level becomes high in a <unk> patient ?\", \"normal blood level sugar glucos\", 10], [\"what is a blood sugar range that is safe for someone over the age of thirty ?\", \"normal blood level sugar glucos\", 10], [\"what is normal blood sugar rate ?\", \"normal blood level sugar glucos\", 10], [\"what is a normal blood glucose levels for a horse ?\", \"normal blood level sugar glucos\", 10], [\"is a high level of a1c blood sugar bad ?\", \"normal blood level sugar glucos\", 10], [\"what is the normal blood <unk> ?\", \"normal blood level sugar glucos\", 10], [\"what normal level of glucose in human blood ?\", \"normal blood level sugar glucos\", 10], [\"in homeostasis what is blood glucose range between ?\", \"normal blood level sugar glucos\", 10], [\"what is the normal blood glucose level for a child ?\", \"normal blood level sugar glucos\", 10]], \"hovertemplate\": \"summary=%{customdata[1]}<br>pc_1=%{x}<br>pc_2=%{y}<br>pc_3=%{z}<br>question=%{customdata[0]}<br>label=%{customdata[2]}<extra></extra>\", \"legendgroup\": \"normal blood level sugar glucos\", \"marker\": {\"color\": \"#EF553B\", \"size\": 8, \"symbol\": \"circle\"}, \"mode\": \"markers\", \"name\": \"normal blood level sugar glucos\", \"scene\": \"scene\", \"showlegend\": true, \"type\": \"scatter3d\", \"x\": [0.7279415130615234, 0.7588434815406799, 0.719663679599762, 0.6472883820533752, 0.6847834587097168, 0.6317795515060425, 0.5353150367736816, 0.6134662628173828, 0.5903366804122925, 0.7174129486083984, 0.5155224800109863, 0.8213955163955688, 0.43067875504493713, 0.5594199299812317, 0.7223160862922668, 0.7937831878662109, 0.7585551142692566, 0.7789687514305115, 0.6399605870246887, 0.6113944053649902, 0.5393054485321045, 0.7134071588516235, 0.473085880279541, 0.5053668022155762, 0.681382417678833, 0.673678457736969, 0.5712792873382568, 0.6461471915245056, 0.576907753944397, 0.7749725580215454, 0.6246432065963745, 0.8318047523498535, 0.6615040302276611, 0.6936748623847961, 0.5212551355361938, 0.6506698131561279, 0.5423749685287476, 0.7291578650474548, 0.7202165126800537, 0.5269917249679565, 0.5786120295524597, 0.8015673160552979, 0.7450779676437378, 0.5095429420471191, 0.49579787254333496, 0.675853967666626, 0.6681408286094666, 0.6891207695007324, 0.8140767216682434, 0.701545238494873, 0.7810510396957397, 0.8707119822502136, 0.691241979598999, 0.6436265110969543, 0.6387022137641907, 0.5555570721626282, 0.7399610280990601, 0.5516144633293152, 0.613619327545166, 0.6276617646217346, 0.7185601592063904, 0.647288978099823, 0.6199708580970764, 0.7647673487663269, 0.634128987789154, 0.5572579503059387, 0.6215788722038269, 0.6056390404701233], \"y\": [-0.11270265281200409, -0.05050148069858551, -0.12829352915287018, 0.08057412505149841, -0.09923693537712097, -0.18954022228717804, -0.191771999001503, -0.27693620324134827, -0.1788802593946457, -0.13771146535873413, -0.14761072397232056, -0.1300038844347, -0.20018620789051056, -0.2507690191268921, 0.01760908029973507, -0.17888973653316498, -0.20669949054718018, 0.013523568399250507, -0.16813328862190247, -0.08830256015062332, -0.20630700886249542, -0.04953273758292198, -0.24964077770709991, -0.3086971938610077, -0.021868642419576645, -0.21212539076805115, -0.16413351893424988, -0.20300614833831787, -0.13427111506462097, -0.036252204328775406, -0.07785288244485855, -0.09685438126325607, -0.17072220146656036, -0.21157360076904297, -0.21839968860149384, -0.022229140624403954, -0.15023738145828247, 0.027926716953516006, -0.06297832727432251, -0.12715530395507812, -0.1411188244819641, -0.06739193201065063, -0.1367558240890503, -0.18967579305171967, -0.18767955899238586, -0.23987184464931488, -0.07655180990695953, -0.2617369592189789, -0.07221268117427826, 0.009326382540166378, 0.035856861621141434, -0.10204339027404785, -0.014771257527172565, -0.17987990379333496, -0.0055028293281793594, -0.21201081573963165, -0.03552728518843651, -0.2544723451137543, -0.14038899540901184, 0.03310602530837059, -0.03196827694773674, -0.03368652984499931, -0.12519855797290802, -0.012439500540494919, -0.20381592214107513, -0.23917268216609955, -0.25219306349754333, -0.11432395875453949], \"z\": [-0.39430394768714905, -0.3892609179019928, -0.4858091175556183, -0.5297518372535706, -0.36816710233688354, -0.4801252484321594, -0.5931224226951599, -0.41966259479522705, -0.48607707023620605, -0.43333593010902405, -0.5640873312950134, -0.3708239793777466, -0.48053207993507385, -0.4362850487232208, -0.47373270988464355, -0.41898080706596375, -0.469154953956604, -0.4080040752887726, -0.6311890482902527, -0.43442273139953613, -0.6481250524520874, -0.4578748345375061, -0.4464914798736572, -0.4831678867340088, -0.4292376637458801, -0.47189486026763916, -0.6107429265975952, -0.5872945189476013, -0.6633976697921753, -0.5003287196159363, -0.6095154285430908, -0.42755910754203796, -0.5173013806343079, -0.4050430357456207, -0.439919114112854, -0.5888726115226746, -0.4915521740913391, -0.5445153117179871, -0.2979552745819092, -0.5339850783348083, -0.39683887362480164, -0.371979683637619, -0.34211859107017517, -0.5325244069099426, -0.6315020322799683, -0.5236028432846069, -0.49566885828971863, -0.5670104026794434, -0.44673991203308105, -0.3687119483947754, -0.5500040650367737, -0.4046298563480377, -0.48862224817276, -0.402057945728302, -0.517187237739563, -0.5182220935821533, -0.36119702458381653, -0.5870687961578369, -0.429577499628067, -0.489503413438797, -0.5361477136611938, -0.3902297616004944, -0.5428777933120728, -0.31480488181114197, -0.3753291964530945, -0.47785934805870056, -0.504307210445404, -0.5087263584136963]}, {\"customdata\": [[\"how do you reduce the effects of diabetes from your body ?\", \"affect system bodi effect type\", 18], [\"how endocrine system affects the beauty therapist when treating clients ?\", \"affect system bodi effect type\", 18], [\"who does diabetes affect the most ?\", \"affect system bodi effect type\", 18], [\"do diabetes hurt ?\", \"affect system bodi effect type\", 18], [\"what body system does diabetes affect ?\", \"affect system bodi effect type\", 18], [\"how does genital herpes affect diabetics ?\", \"affect system bodi effect type\", 18], [\"does a period affect type one diabetes ?\", \"affect system bodi effect type\", 18], [\"how does diabetes effect people ?\", \"affect system bodi effect type\", 18], [\"does diabetes effect the immune system ?\", \"affect system bodi effect type\", 18], [\"what body systems are affected by diabetes type two ?\", \"affect system bodi effect type\", 18], [\"when does type i diabetes usually begin ?\", \"affect system bodi effect type\", 18], [\"how does diabetes affect a1c levels ?\", \"affect system bodi effect type\", 18], [\"what organs do type two diabetes affect ?\", \"affect system bodi effect type\", 18], [\"does <unk> affect the breathalyzer ?\", \"affect system bodi effect type\", 18], [\"what body system does diabetes effect ?\", \"affect system bodi effect type\", 18], [\"how does type two diabetes affect the nervous system ?\", \"affect system bodi effect type\", 18], [\"why does <unk> due to diabetes occur ?\", \"affect system bodi effect type\", 18], [\"how does diabetes effect the endocrine system ?\", \"affect system bodi effect type\", 18], [\"does beetroot affect diabetes ?\", \"affect system bodi effect type\", 18], [\"diabetes affects the bodys ability to do what ?\", \"affect system bodi effect type\", 18], [\"how does diabetes affect homeostasis ?\", \"affect system bodi effect type\", 18], [\"how does diabetes start ?\", \"affect system bodi effect type\", 18], [\"how can diabetes survive in the human body ?\", \"affect system bodi effect type\", 18], [\"how does diabetes affect <unk> ?\", \"affect system bodi effect type\", 18], [\"how does diabetes affect you physically ?\", \"affect system bodi effect type\", 18], [\"how does diabetes change your life ?\", \"affect system bodi effect type\", 18], [\"how does the first stage of diabetes affect second stage of diabetes ?\", \"affect system bodi effect type\", 18], [\"what body systems does diabetes type one affect ?\", \"affect system bodi effect type\", 18], [\"how does the diabetes affect the tissues ?\", \"affect system bodi effect type\", 18], [\"how does diabetes affect your cells ?\", \"affect system bodi effect type\", 18], [\"how can diabetes affect your body ?\", \"affect system bodi effect type\", 18], [\"how does diabetes affect vision ?\", \"affect system bodi effect type\", 18], [\"what enzyme does diabetes affect ?\", \"affect system bodi effect type\", 18], [\"explain the cause of diabetes and how its controlled ?\", \"affect system bodi effect type\", 18], [\"which aspect of the nervous system is involved with diabetes ?\", \"affect system bodi effect type\", 18], [\"how does diabetes affect decision making for older teachers ?\", \"affect system bodi effect type\", 18], [\"will <unk> is syndrome effect diabetes ?\", \"affect system bodi effect type\", 18], [\"how does diabetes affect you <unk> ?\", \"affect system bodi effect type\", 18], [\"does <unk> affect diabetes ?\", \"affect system bodi effect type\", 18], [\"how much <unk> less insulin will the body produce prior to having diabetes ?\", \"affect system bodi effect type\", 18], [\"how does exercise affect diabetics blood sugar and circulation ?\", \"affect system bodi effect type\", 18], [\"how does diabetes affect your circulation system ?\", \"affect system bodi effect type\", 18], [\"can diabetes affect a tattoo ?\", \"affect system bodi effect type\", 18], [\"does diabetes affect the eyes ?\", \"affect system bodi effect type\", 18], [\"what effects does diabetes have on our body system ?\", \"affect system bodi effect type\", 18], [\"how does one keep diabetes in check ?\", \"affect system bodi effect type\", 18], [\"how long does the human organs take before they shutting down ?\", \"affect system bodi effect type\", 18], [\"how diabetes affect the pancreas ?\", \"affect system bodi effect type\", 18], [\"how does a person know when they have diabetes ?\", \"affect system bodi effect type\", 18], [\"what organ system does diabetes belong ?\", \"affect system bodi effect type\", 18], [\"does diabetes affect pregnancy ?\", \"affect system bodi effect type\", 18], [\"does diabetes affect the circulatory system ?\", \"affect system bodi effect type\", 18]], \"hovertemplate\": \"summary=%{customdata[1]}<br>pc_1=%{x}<br>pc_2=%{y}<br>pc_3=%{z}<br>question=%{customdata[0]}<br>label=%{customdata[2]}<extra></extra>\", \"legendgroup\": \"affect system bodi effect type\", \"marker\": {\"color\": \"#00cc96\", \"size\": 8, \"symbol\": \"circle\"}, \"mode\": \"markers\", \"name\": \"affect system bodi effect type\", \"scene\": \"scene\", \"showlegend\": true, \"type\": \"scatter3d\", \"x\": [-0.03123634122312069, -0.011077417992055416, -0.21100300550460815, -0.17088240385055542, -0.11160614341497421, -0.26615527272224426, -0.23554281890392303, -0.10121755301952362, -0.09714557975530624, -0.06044308468699455, -0.29864123463630676, -0.1357443481683731, -0.09347672015428543, -0.1721353828907013, -0.049658674746751785, -0.1307775229215622, -0.20610347390174866, -0.05808982625603676, -0.24930135905742645, -0.037160858511924744, -0.10488935559988022, -0.07211067527532578, 0.04243174567818642, -0.13503985106945038, -0.07533815503120422, -0.0183680709451437, -0.2537364363670349, -0.13062110543251038, -0.10109750181436539, -0.08515875041484833, -0.025442887097597122, -0.1458308845758438, -0.15035949647426605, -0.06568289548158646, -0.19870597124099731, -0.18307144939899445, -0.27178308367729187, -0.10165190696716309, -0.2222314327955246, -0.05223163217306137, -0.16218623518943787, -0.17641974985599518, -0.08565323799848557, -0.2016657143831253, -0.06881238520145416, -0.050385814160108566, 0.013503431342542171, -0.04379814863204956, -0.035344820469617844, -0.1622570902109146, -0.2845262289047241, -0.1579817831516266], \"y\": [-0.30353114008903503, -0.2219880074262619, -0.16227026283740997, -0.03557758405804634, -0.2640584111213684, -0.0939534604549408, -0.21495887637138367, -0.14639295637607574, -0.2267761081457138, -0.37913817167282104, -0.24593095481395721, -0.08906867355108261, -0.2703225314617157, -0.16950874030590057, -0.24415044486522675, -0.2253129631280899, -0.2045760601758957, -0.23542633652687073, -0.12930327653884888, -0.15321116149425507, -0.14714354276657104, -0.09105844050645828, -0.31982681155204773, -0.14566636085510254, -0.13062429428100586, -0.16016782820224762, -0.2910066843032837, -0.2770299017429352, -0.1896737962961197, -0.21998395025730133, -0.1974112093448639, -0.17629678547382355, -0.18173585832118988, -0.34254881739616394, -0.2853360176086426, -0.13358138501644135, -0.18831297755241394, -0.136415496468544, -0.17552490532398224, -0.3240372836589813, -0.10106924176216125, -0.22864602506160736, -0.13621525466442108, -0.20290160179138184, -0.27539828419685364, 0.0011825887486338615, -0.2936799228191376, -0.2883991301059723, -0.04854691028594971, -0.3193141222000122, -0.15890099108219147, -0.24578365683555603], \"z\": [-0.04720515385270119, -0.022974707186222076, -0.18823711574077606, -0.02171304263174534, -0.08999460935592651, -0.04964689165353775, -0.09950151294469833, -0.04837901517748833, -0.022818204015493393, -0.22938717901706696, -0.14589135348796844, -0.15573880076408386, -0.21781282126903534, -0.004777819383889437, -0.09310309588909149, -0.11622437089681625, 0.06586955487728119, -0.03824789077043533, -0.026337653398513794, -0.09769459813833237, -0.21874834597110748, -0.0861707478761673, -0.13979122042655945, -0.09604911506175995, -0.1557069718837738, -0.2200441211462021, -0.05661417543888092, -0.12681607902050018, -0.1693597286939621, -0.1946329027414322, -0.1613076776266098, -0.09969348460435867, -0.23372206091880798, -0.07667805999517441, -0.014685208909213543, -0.13166390359401703, -0.015892494469881058, -0.10919714719057083, -0.060091570019721985, -0.15157756209373474, -0.06168296933174133, -0.15675674378871918, 0.0005279167089611292, -0.03686728700995445, -0.06875947117805481, -0.08334852755069733, -0.1721470206975937, -0.202596053481102, -0.016390876844525337, -0.15026704967021942, -0.09107103943824768, -0.05709995701909065]}, {\"customdata\": [[\"a feature of ketosis is that it ?\", \"blood level featur ketosi hypoglcemia\", 21], [\"what is hypoglcemia ?\", \"blood level featur ketosi hypoglcemia\", 21], [\"high level of a fatty substance in the blood ?\", \"blood level featur ketosi hypoglcemia\", 21], [\"what is a person called with diabetes ?\", \"blood level featur ketosi hypoglcemia\", 21], [\"what is <unk> ?\", \"blood level featur ketosi hypoglcemia\", 21], [\"what is an <unk> ?\", \"blood level featur ketosi hypoglcemia\", 21], [\"what is an omnipod ?\", \"blood level featur ketosi hypoglcemia\", 21], [\"where is uric acid found ?\", \"blood level featur ketosi hypoglcemia\", 21], [\"what are the reasons for <unk> is abdomen ?\", \"blood level featur ketosi hypoglcemia\", 21], [\"what if diabetes is left untreated ?\", \"blood level featur ketosi hypoglcemia\", 21], [\"what is paneer booti ?\", \"blood level featur ketosi hypoglcemia\", 21], [\"what is mechanism of action <unk> <unk> as <unk> ?\", \"blood level featur ketosi hypoglcemia\", 21], [\"function of a <unk> ?\", \"blood level featur ketosi hypoglcemia\", 21], [\"what are the uses of dextrose strip ?\", \"blood level featur ketosi hypoglcemia\", 21], [\"what gland is essential in the metabolism of <unk> and reduces blood sugar ?\", \"blood level featur ketosi hypoglcemia\", 21], [\"what is grade two <unk> ?\", \"blood level featur ketosi hypoglcemia\", 21], [\"<unk> , pain in the ?\", \"blood level featur ketosi hypoglcemia\", 21], [\"can <unk> lower <unk> levels in the blood ?\", \"blood level featur ketosi hypoglcemia\", 21], [\"what is a hemoglucotest ?\", \"blood level featur ketosi hypoglcemia\", 21]], \"hovertemplate\": \"summary=%{customdata[1]}<br>pc_1=%{x}<br>pc_2=%{y}<br>pc_3=%{z}<br>question=%{customdata[0]}<br>label=%{customdata[2]}<extra></extra>\", \"legendgroup\": \"blood level featur ketosi hypoglcemia\", \"marker\": {\"color\": \"#ab63fa\", \"size\": 8, \"symbol\": \"circle\"}, \"mode\": \"markers\", \"name\": \"blood level featur ketosi hypoglcemia\", \"scene\": \"scene\", \"showlegend\": true, \"type\": \"scatter3d\", \"x\": [0.217739999294281, 0.14939825236797333, 0.31496483087539673, 0.15616458654403687, 0.1589571088552475, 0.19937586784362793, 0.22489474713802338, 0.2763538360595703, 0.2331436276435852, 0.16542872786521912, 0.2332378327846527, 0.1329542100429535, 0.2578337490558624, 0.26466861367225647, 0.29215261340141296, 0.10156300663948059, 0.24385032057762146, 0.28445884585380554, 0.20169863104820251], \"y\": [-0.33214738965034485, -0.39163780212402344, -0.31165099143981934, -0.4653921127319336, -0.4136032462120056, -0.41024863719940186, -0.3644368350505829, -0.3507924973964691, -0.31470033526420593, -0.31234976649284363, -0.33908551931381226, -0.3922256529331207, -0.3796144127845764, -0.4559713900089264, -0.39876940846443176, -0.42080482840538025, -0.27656692266464233, -0.2696177065372467, -0.38661646842956543], \"z\": [-0.0777471736073494, -0.16620683670043945, -0.11807037889957428, -0.11721985787153244, -0.17582836747169495, -0.12664462625980377, -0.1289810687303543, -0.08410031348466873, -0.1878010630607605, -0.1681266874074936, -0.15631990134716034, -0.09473567456007004, -0.2031284123659134, -0.18358734250068665, -0.09745586663484573, -0.18559031188488007, -0.14995430409908295, -0.17798374593257904, -0.1806894689798355]}, {\"customdata\": [[\"what are the three major diabetic foods to avoid ?\", \"eat food type avoid fruit\", 16], [\"can <unk> eat sugar ?\", \"eat food type avoid fruit\", 16], [\"can diabetics eat <unk> ?\", \"eat food type avoid fruit\", 16], [\"can diabetics eat glucose syrup ?\", \"eat food type avoid fruit\", 16], [\"what types of wine to avoid if diabetic ?\", \"eat food type avoid fruit\", 16], [\"what foods are healthy and <unk> to diabetics ?\", \"eat food type avoid fruit\", 16], [\"is it possible to make a cake that is diabetic friendly ?\", \"eat food type avoid fruit\", 16], [\"why do diabetics need to eat a lump of sugar ?\", \"eat food type avoid fruit\", 16], [\"can you eat honey if you have type two diabetes ?\", \"eat food type avoid fruit\", 16], [\"can diabetics eat bananas ?\", \"eat food type avoid fruit\", 16], [\"can a diabetic eat orange ?\", \"eat food type avoid fruit\", 16], [\"can a diabetic patient eat <unk> rice ?\", \"eat food type avoid fruit\", 16], [\"can a diabetic eat <unk> ?\", \"eat food type avoid fruit\", 16], [\"what should people with type two diabetes not eat ?\", \"eat food type avoid fruit\", 16], [\"what vegetables can a diabetic eat ?\", \"eat food type avoid fruit\", 16], [\"what foods should a diabetic avoid ?\", \"eat food type avoid fruit\", 16], [\"can diabetics eat cake ?\", \"eat food type avoid fruit\", 16], [\"can a diabetic pregnant woman eat almonds and pasta ?\", \"eat food type avoid fruit\", 16], [\"can diabetic patients eat pineapple ?\", \"eat food type avoid fruit\", 16], [\"can you eat watermelon if you are diabetic ?\", \"eat food type avoid fruit\", 16], [\"can diabetics eat granola ?\", \"eat food type avoid fruit\", 16], [\"can eating to much honey cause you to become diabetic ?\", \"eat food type avoid fruit\", 16], [\"what cheese can you eat as a diabetic ?\", \"eat food type avoid fruit\", 16], [\"can a type two diabetic eat mango ?\", \"eat food type avoid fruit\", 16], [\"what types of food should a diabetic eat ?\", \"eat food type avoid fruit\", 16], [\"what are the food that patient have diabetic need to eat ?\", \"eat food type avoid fruit\", 16], [\"what kind of pasta a diabetic person should eat ?\", \"eat food type avoid fruit\", 16], [\"should a diabetics eat mango ?\", \"eat food type avoid fruit\", 16], [\"should diabetics eat any sugar ?\", \"eat food type avoid fruit\", 16], [\"can a diabetic eat cake ?\", \"eat food type avoid fruit\", 16], [\"eat what you are told ?\", \"eat food type avoid fruit\", 16], [\"can you eat fish and chips if you are diabetic ?\", \"eat food type avoid fruit\", 16], [\"can a person who has diabetes eat jack fruit ?\", \"eat food type avoid fruit\", 16], [\"can a diabetic eat apples ?\", \"eat food type avoid fruit\", 16], [\"what disease can you get if you eat and drink things that contain to much sugar ?\", \"eat food type avoid fruit\", 16], [\"what foods can you eat if you have type two diabetes ?\", \"eat food type avoid fruit\", 16], [\"what are foods for a diabetic to avoid ?\", \"eat food type avoid fruit\", 16], [\"where do they sell diabetic foods in <unk> <unk> ?\", \"eat food type avoid fruit\", 16], [\"what are some healthy diabetic desserts ?\", \"eat food type avoid fruit\", 16], [\"what foods should diabetic people avoid ?\", \"eat food type avoid fruit\", 16], [\"can you eat sugar if you have type two diabetes ?\", \"eat food type avoid fruit\", 16], [\"what are good carbohydrates for diabetics ?\", \"eat food type avoid fruit\", 16], [\"can a diabetic patient eat watermelon ?\", \"eat food type avoid fruit\", 16], [\"is rice or pasta better as part of a diabetic meal ?\", \"eat food type avoid fruit\", 16], [\"what foods should diabetics avoid ?\", \"eat food type avoid fruit\", 16], [\"can diabetics eat onions ?\", \"eat food type avoid fruit\", 16], [\"how important is diabetic food pyramid to someone with type two diabetis ?\", \"eat food type avoid fruit\", 16], [\"what do diabetic <unk> eat if they can not eat pasta ?\", \"eat food type avoid fruit\", 16], [\"are blood sugars the same as sugars that you eat ?\", \"eat food type avoid fruit\", 16], [\"what fruits can a diabetic have ?\", \"eat food type avoid fruit\", 16], [\"do diabetics have to eat more salt ?\", \"eat food type avoid fruit\", 16], [\"is eating fresh fruit good for diabetics ?\", \"eat food type avoid fruit\", 16], [\"are the carbs in fruit bad carbs or good carbs ?\", \"eat food type avoid fruit\", 16], [\"can <unk> meat increase blood sugar ?\", \"eat food type avoid fruit\", 16], [\"what is best bread to eat ?\", \"eat food type avoid fruit\", 16], [\"can a diabetic eat before a physical ?\", \"eat food type avoid fruit\", 16], [\"what kind of foods do diabetics eat ?\", \"eat food type avoid fruit\", 16], [\"how are carbohydrates processed in a diabetic and non diabetic person ?\", \"eat food type avoid fruit\", 16], [\"why do diabetics have to eat carbohydrates ?\", \"eat food type avoid fruit\", 16], [\"what does it mean when you do not feel good after eating chocolate ?\", \"eat food type avoid fruit\", 16], [\"can diabetics eat peaches ?\", \"eat food type avoid fruit\", 16], [\"what types of foods can diabetics eat ?\", \"eat food type avoid fruit\", 16], [\"what can you eat while you are diabetic and pregnant ?\", \"eat food type avoid fruit\", 16], [\"do you have diabetes if you have energy when you eat sugary foods ?\", \"eat food type avoid fruit\", 16], [\"how many servings of fruit is a mango ?\", \"eat food type avoid fruit\", 16], [\"fruits are ideal diabetic dessert ?\", \"eat food type avoid fruit\", 16], [\"what diabetes foods should he avoid ?\", \"eat food type avoid fruit\", 16], [\"what foods can i eat to avoid diabetic complications ?\", \"eat food type avoid fruit\", 16], [\"why can not people with diabetes eat sugar ?\", \"eat food type avoid fruit\", 16], [\"what fruits can diabetic people eat ?\", \"eat food type avoid fruit\", 16], [\"what food should diabetics avoid ?\", \"eat food type avoid fruit\", 16], [\"are jelly beans suitable for people with diabetes ?\", \"eat food type avoid fruit\", 16], [\"is it bad for diabetes to eat rice ?\", \"eat food type avoid fruit\", 16], [\"should a diabetic eat honey ?\", \"eat food type avoid fruit\", 16], [\"is fresh fruit bad for a diabetic ?\", \"eat food type avoid fruit\", 16], [\"is wheat bran good fiber for type two diabetes patients ?\", \"eat food type avoid fruit\", 16], [\"is it ok to eat ham when you are a diabetic ?\", \"eat food type avoid fruit\", 16], [\"if you are diabetic what foods should you absolutely avoid ?\", \"eat food type avoid fruit\", 16], [\"is eating peanut butter and graham crackers a good snack for a type one diabetic ?\", \"eat food type avoid fruit\", 16], [\"can diabetics type two ever have a good pasta dish ?\", \"eat food type avoid fruit\", 16], [\"what types of food can diabetic males eat ?\", \"eat food type avoid fruit\", 16], [\"i would like to know what is good food to have for a diabetic and the bad foods to have for a diabetic . ?\", \"eat food type avoid fruit\", 16], [\"what is something sweet that a diabetic can eat ?\", \"eat food type avoid fruit\", 16], [\"can diabetics eat rice ?\", \"eat food type avoid fruit\", 16], [\"should a diabetic not eat fruit ?\", \"eat food type avoid fruit\", 16], [\"can diabetics eat liver ?\", \"eat food type avoid fruit\", 16], [\"if you are pregnant and have diabetes what should you eat ?\", \"eat food type avoid fruit\", 16], [\"can diabetics eat plums ?\", \"eat food type avoid fruit\", 16], [\"can a diabetic eat steak ?\", \"eat food type avoid fruit\", 16], [\"can a person with diabetes eat <unk> ?\", \"eat food type avoid fruit\", 16], [\"can a diabetic eat chinese chicken <unk> ?\", \"eat food type avoid fruit\", 16], [\"is it bad if diabetes people eat peach ?\", \"eat food type avoid fruit\", 16], [\"what are the best choices of diabetic food ?\", \"eat food type avoid fruit\", 16], [\"list of <unk> foods to avoid ?\", \"eat food type avoid fruit\", 16], [\"can diabetic patients eat <unk> ?\", \"eat food type avoid fruit\", 16], [\"how many peanuts can a diabetic have ?\", \"eat food type avoid fruit\", 16], [\"can diabetics eat peanuts ?\", \"eat food type avoid fruit\", 16], [\"is it ok to eat bananas if you have diabetes ?\", \"eat food type avoid fruit\", 16], [\"if blood sugar is ninety seven before food is that healthy ?\", \"eat food type avoid fruit\", 16], [\"what is a good list of foods a diabetic should avoid ?\", \"eat food type avoid fruit\", 16], [\"what to do when diabetic wants food not good for them ?\", \"eat food type avoid fruit\", 16], [\"can diabetics eat sago seeds ?\", \"eat food type avoid fruit\", 16], [\"what foods to avoid when borderline diabetic ?\", \"eat food type avoid fruit\", 16], [\"is it bad to eat noodles when you have diabetes ?\", \"eat food type avoid fruit\", 16], [\"what are some diabetic foods to avoid ?\", \"eat food type avoid fruit\", 16], [\"what foods should a diabetic not have ?\", \"eat food type avoid fruit\", 16], [\"are you allow to eat or drink one sugar if you have diabetes ?\", \"eat food type avoid fruit\", 16], [\"are fruits and honey bad for diabetes ?\", \"eat food type avoid fruit\", 16], [\"do people only eat some food if they have diabetes ?\", \"eat food type avoid fruit\", 16], [\"can a diabetic type two eat honey ?\", \"eat food type avoid fruit\", 16], [\"should a diabetic eat fresh mango ?\", \"eat food type avoid fruit\", 16], [\"could i get the fruit name s which diabetic <unk> can eat ?\", \"eat food type avoid fruit\", 16], [\"can diabetes <unk> eat <unk> fruit ?\", \"eat food type avoid fruit\", 16], [\"what foods should a diabetic eat ?\", \"eat food type avoid fruit\", 16], [\"can diabetes type two patients eat mangoes ?\", \"eat food type avoid fruit\", 16]], \"hovertemplate\": \"summary=%{customdata[1]}<br>pc_1=%{x}<br>pc_2=%{y}<br>pc_3=%{z}<br>question=%{customdata[0]}<br>label=%{customdata[2]}<extra></extra>\", \"legendgroup\": \"eat food type avoid fruit\", \"marker\": {\"color\": \"#FFA15A\", \"size\": 8, \"symbol\": \"circle\"}, \"mode\": \"markers\", \"name\": \"eat food type avoid fruit\", \"scene\": \"scene\", \"showlegend\": true, \"type\": \"scatter3d\", \"x\": [0.07109097391366959, 0.2357507050037384, 0.22042900323867798, 0.32949191331863403, 0.07627079635858536, 0.02364005520939827, -0.03792642802000046, 0.3136262595653534, 0.1792316436767578, 0.22462017834186554, -0.027058254927396774, 0.08453687280416489, 0.011233176104724407, 0.2062261700630188, 0.08958540856838226, 0.13219396770000458, 0.13898411393165588, 0.054090581834316254, 0.07538788765668869, 0.07457885891199112, 0.18699292838573456, -0.042809415608644485, 0.06040104106068611, 0.16875462234020233, 0.11239307373762131, 0.04347090423107147, 0.12090721726417542, 0.19270682334899902, 0.23305705189704895, -0.004512115381658077, 0.14546418190002441, 0.08289407193660736, 0.2932041883468628, 0.0647999718785286, 0.15604431927204132, 0.16190668940544128, 0.10000090301036835, -0.006518665701150894, 0.08938298374414444, 0.10991150885820389, 0.17594504356384277, 0.1632312536239624, 0.08293530344963074, -0.03285769745707512, 0.1659720540046692, 0.2866325080394745, 0.04388323426246643, 0.09362385421991348, 0.15558642148971558, 0.07429902255535126, 0.21301370859146118, 0.21179470419883728, 0.199574813246727, 0.2937762141227722, 0.07083005458116531, -0.08550412952899933, 0.1669822335243225, 0.08564183115959167, 0.13518354296684265, 0.22371062636375427, 0.2555491328239441, 0.17568086087703705, 0.03262291103601456, 0.10290209949016571, 0.16876691579818726, 0.15287475287914276, 0.17947347462177277, 0.14390622079372406, 0.27030932903289795, 0.11168355494737625, 0.1718161553144455, 0.2612781524658203, 0.32156965136528015, 0.13830390572547913, 0.15219911932945251, 0.200588658452034, 0.01612195186316967, 0.16569110751152039, -0.07937166094779968, 0.15105821192264557, 0.18935203552246094, -0.08352693170309067, 0.016400529071688652, 0.19316793978214264, 0.12165840715169907, 0.2572984993457794, 0.02974776364862919, 0.26232096552848816, 0.04402259737253189, 0.25999918580055237, 0.09941010922193527, 0.2972007989883423, 0.07546679675579071, 0.03895144164562225, -0.031762171536684036, 0.014069506898522377, 0.22459915280342102, 0.22770822048187256, 0.25604477524757385, 0.07011381536722183, -0.06679964065551758, 0.2670271396636963, 0.031009051948785782, 0.20979371666908264, 0.07419908791780472, 0.0684150978922844, 0.16242417693138123, 0.1625642478466034, 0.07437831163406372, 0.14875011146068573, 0.15312965214252472, -0.007810170296579599, 0.24958159029483795, 0.07802747189998627, 0.21600505709648132], \"y\": [0.7131343483924866, 0.42517346143722534, 0.5697438716888428, 0.5056794881820679, 0.7895350456237793, 0.6527299880981445, 0.4547896385192871, 0.5300654768943787, 0.4471006691455841, 0.5005229115486145, 0.5063839554786682, 0.5209813714027405, 0.5068875551223755, 0.5206053256988525, 0.5852741003036499, 0.7521199584007263, 0.5410831570625305, 0.43987786769866943, 0.4884529113769531, 0.49545854330062866, 0.5468066930770874, 0.5079478621482849, 0.5601423978805542, 0.451947957277298, 0.6667126417160034, 0.6314163208007812, 0.6312991380691528, 0.5222316980361938, 0.547881007194519, 0.48758944869041443, 0.5436689257621765, 0.4708814024925232, 0.506174623966217, 0.4859780967235565, 0.4232737123966217, 0.480751633644104, 0.7692333459854126, 0.7464189529418945, 0.8138853907585144, 0.7443491816520691, 0.43866831064224243, 0.36852115392684937, 0.5212435126304626, 0.5036994218826294, 0.7909464836120605, 0.5650577545166016, 0.6665533781051636, 0.5203914642333984, 0.36739668250083923, 0.5869969129562378, 0.5901872515678406, 0.47225096821784973, 0.40418002009391785, 0.39520886540412903, 0.588567852973938, 0.4594559371471405, 0.7054681181907654, 0.39484134316444397, 0.38484764099121094, 0.29392361640930176, 0.5144292116165161, 0.6721353530883789, 0.3877793848514557, 0.4467107355594635, 0.524191677570343, 0.5888158679008484, 0.729041576385498, 0.6819536089897156, 0.4325372874736786, 0.6120625734329224, 0.7975519895553589, 0.47748297452926636, 0.43895217776298523, 0.5390287041664124, 0.45941779017448425, 0.3734796643257141, 0.4513518214225769, 0.7250074744224548, 0.4973420202732086, 0.4838133454322815, 0.6379202008247375, 0.5659021735191345, 0.5507038235664368, 0.49851319193840027, 0.48579221963882446, 0.5660069584846497, 0.36287033557891846, 0.5215879082679749, 0.5291154384613037, 0.47479885816574097, 0.5755645632743835, 0.40646064281463623, 0.7905343770980835, 0.7619144320487976, 0.4047304689884186, 0.4583616852760315, 0.45712757110595703, 0.38022929430007935, 0.348825067281723, 0.7264496088027954, 0.5900536179542542, 0.4712183475494385, 0.7165235877037048, 0.36471596360206604, 0.7376605868339539, 0.6922075152397156, 0.39630866050720215, 0.39687013626098633, 0.5085417628288269, 0.44496631622314453, 0.49899354577064514, 0.5460755825042725, 0.48313403129577637, 0.675673246383667, 0.5164230465888977], \"z\": [0.023867132142186165, -0.1411059945821762, -0.10947487503290176, -0.05956052616238594, -0.05437302961945534, -0.15017656981945038, -0.11384379118680954, 0.05625516176223755, -0.1949538290500641, -0.11323267966508865, -0.04150000959634781, -0.01439636666327715, -0.04307916387915611, -0.2748323380947113, -0.03266088292002678, -0.01723414659500122, -0.12145720422267914, -0.08135239034891129, 0.05805206671357155, -0.13222947716712952, -0.07973376661539078, 0.042872462421655655, -0.13989092409610748, -0.04858957231044769, -0.13068270683288574, -0.08551782369613647, -0.12387166172266006, -0.012313327752053738, 0.027152659371495247, -0.10419661551713943, -0.24320057034492493, -0.17201392352581024, -0.22020503878593445, -0.026536649093031883, -0.2983076274394989, -0.24659815430641174, 0.021432681009173393, -0.003609870560467243, 0.06158855929970741, -0.05439877510070801, -0.2313852310180664, -0.004067277070134878, 0.054899271577596664, -0.15819565951824188, -0.029298944398760796, -0.05653615668416023, -0.1978001594543457, -0.2024611085653305, -0.11322712898254395, 0.032022662460803986, -0.03778610751032829, 0.0498284287750721, -0.026514042168855667, -0.0690985918045044, -0.19348986446857452, -0.029975807294249535, -0.17125558853149414, -0.007211317773908377, -0.05045351758599281, -0.16861455142498016, -0.053812772035598755, -0.1988864541053772, -0.11680320650339127, -0.2778678834438324, 0.09291839599609375, 0.07230228185653687, 0.03219682350754738, -0.04662623256444931, -0.21082036197185516, 1.9845872884616256e-05, -0.06549756973981857, -0.011370936408638954, -0.19768108427524567, 0.024860231205821037, 0.05324475094676018, 0.05874432623386383, -0.18322224915027618, -0.06175452843308449, -0.16765877604484558, -0.13090960681438446, -0.18586046993732452, -0.06391413509845734, -0.14211483299732208, -0.08923400938510895, -0.020416932180523872, -0.147284135222435, -0.12647487223148346, -0.09241689741611481, -0.07873065769672394, -0.27429160475730896, -0.07180748134851456, -0.2504855990409851, 0.10645601153373718, -0.16450023651123047, 0.040843416005373, -0.004090227652341127, -0.10465283691883087, -0.19518938660621643, -0.22184966504573822, -0.09700773656368256, -0.07247801870107651, -0.09230384975671768, -0.06869398802518845, -0.16723491251468658, -0.0003565270744729787, -0.04988991096615791, -0.21517765522003174, 0.11864623427391052, -0.2532326281070709, -0.07510721683502197, 0.017119435593485832, 0.014798104763031006, -0.18523366749286652, -0.09368386119604111, -0.18361979722976685]}, {\"customdata\": [[\"is <unk> safe for diabetic person ?\", \"safe person work alon god\", 17], [\"is it safe for diabetics to work out alone ?\", \"safe person work alon god\", 17], [\"is god diabetic ?\", \"safe person work alon god\", 17], [\"is ensure safe for diabetics ?\", \"safe person work alon god\", 17], [\"is it safe for a diabetic to get a pedicure ?\", \"safe person work alon god\", 17], [\"is <unk> safe for diabetics ?\", \"safe person work alon god\", 17], [\"is <unk> safe for diabetics ?\", \"safe person work alon god\", 17], [\"is <unk> glucose safe for diabetics ?\", \"safe person work alon god\", 17], [\"are there any rules on <unk> for diabetics ?\", \"safe person work alon god\", 17], [\"is <unk> safe for diabetic ?\", \"safe person work alon god\", 17]], \"hovertemplate\": \"summary=%{customdata[1]}<br>pc_1=%{x}<br>pc_2=%{y}<br>pc_3=%{z}<br>question=%{customdata[0]}<br>label=%{customdata[2]}<extra></extra>\", \"legendgroup\": \"safe person work alon god\", \"marker\": {\"color\": \"#19d3f3\", \"size\": 8, \"symbol\": \"circle\"}, \"mode\": \"markers\", \"name\": \"safe person work alon god\", \"scene\": \"scene\", \"showlegend\": true, \"type\": \"scatter3d\", \"x\": [-0.08584489673376083, -0.1314900517463684, -0.12002870440483093, -0.08731035143136978, -0.1780400425195694, -0.055958688259124756, -0.08857666701078415, -0.054842423647642136, -0.13292275369167328, -0.09868137538433075], \"y\": [0.44097381830215454, 0.4584605395793915, 0.37796929478645325, 0.4918396472930908, 0.462361216545105, 0.4984666705131531, 0.43492671847343445, 0.4713965654373169, 0.42577064037323, 0.4227074980735779], \"z\": [0.1817416548728943, 0.2808774709701538, 0.1798410415649414, 0.3100524842739105, 0.23590096831321716, 0.306295245885849, 0.24860024452209473, 0.2475125640630722, 0.35774922370910645, 0.21212176978588104]}, {\"customdata\": [[\"does <unk> vitamins raise glucose ?\", \"insulin glucos produc vitamin rais\", 13], [\"in response to low blood sugar the alpha cells of the pancreatic islets secrete ?\", \"insulin glucos produc vitamin rais\", 13], [\"how is it that the insulin stops working and or does not produce enough ?\", \"insulin glucos produc vitamin rais\", 13], [\"what insulins can not be mixed with other insulins ?\", \"insulin glucos produc vitamin rais\", 13], [\"what condition results if insulin is not produced ?\", \"insulin glucos produc vitamin rais\", 13], [\"do diabetics lack glucose ?\", \"insulin glucos produc vitamin rais\", 13]], \"hovertemplate\": \"summary=%{customdata[1]}<br>pc_1=%{x}<br>pc_2=%{y}<br>pc_3=%{z}<br>question=%{customdata[0]}<br>label=%{customdata[2]}<extra></extra>\", \"legendgroup\": \"insulin glucos produc vitamin rais\", \"marker\": {\"color\": \"#FF6692\", \"size\": 8, \"symbol\": \"circle\"}, \"mode\": \"markers\", \"name\": \"insulin glucos produc vitamin rais\", \"scene\": \"scene\", \"showlegend\": true, \"type\": \"scatter3d\", \"x\": [0.3487549126148224, 0.3638695776462555, 0.37022507190704346, 0.3487423062324524, 0.3537982404232025, 0.29124823212623596], \"y\": [-0.2916888892650604, -0.3275498151779175, -0.28877532482147217, -0.24243426322937012, -0.25136253237724304, -0.2697802782058716], \"z\": [0.15092530846595764, 0.06227638199925423, 0.08484714478254318, 0.2254938930273056, 0.06986282765865326, 0.14145463705062866]}, {\"customdata\": [[\"what is a good treatment for diabetes ?\", \"treatment medic natur good remedi\", 15], [\"what is is the treatment for type one diabetes ?\", \"treatment medic natur good remedi\", 15], [\"oral medications for diabetes ?\", \"treatment medic natur good remedi\", 15], [\"natural remedy for diabetes ?\", \"treatment medic natur good remedi\", 15], [\"what are the natural remedies for diabetes ?\", \"treatment medic natur good remedi\", 15], [\"natural diabetes treatment ?\", \"treatment medic natur good remedi\", 15], [\"<unk> why it is needed for treatment ?\", \"treatment medic natur good remedi\", 15], [\"what supplements help manage diabetes ?\", \"treatment medic natur good remedi\", 15], [\"what is the treatment for diabetes ?\", \"treatment medic natur good remedi\", 15], [\"what is good for diabetes patient ?\", \"treatment medic natur good remedi\", 15], [\"what is the holistic approach to diabetes treatment ?\", \"treatment medic natur good remedi\", 15], [\"is the prognosis good for patients with <unk> ?\", \"treatment medic natur good remedi\", 15], [\"what is the herbal treatment of diabetes ?\", \"treatment medic natur good remedi\", 15], [\"treatment of diabetes ?\", \"treatment medic natur good remedi\", 15], [\"what are the treatment for diabetes ?\", \"treatment medic natur good remedi\", 15], [\"diabetes medications ?\", \"treatment medic natur good remedi\", 15], [\"what medication for diabetes is contraindication for massage to be perform ?\", \"treatment medic natur good remedi\", 15], [\"what are some effective medicines that treat diabetes ?\", \"treatment medic natur good remedi\", 15], [\"what is the most important <unk> for treatment of diabetes two ?\", \"treatment medic natur good remedi\", 15], [\"what is the best natural treatment for adult diabetes ?\", \"treatment medic natur good remedi\", 15], [\"what supplements should be taken for diabetes ?\", \"treatment medic natur good remedi\", 15], [\"what is the <unk> treatment of diabetes ?\", \"treatment medic natur good remedi\", 15], [\"treatments for diabetes ?\", \"treatment medic natur good remedi\", 15], [\"how can diabetes be treated without medications ?\", \"treatment medic natur good remedi\", 15], [\"what is the treatment of both diabetes ?\", \"treatment medic natur good remedi\", 15], [\"what treatments or medications are given to patients with type two diabetes ?\", \"treatment medic natur good remedi\", 15], [\"what is the remedy for diabetes ?\", \"treatment medic natur good remedi\", 15], [\"treatment options for diabetes ?\", \"treatment medic natur good remedi\", 15]], \"hovertemplate\": \"summary=%{customdata[1]}<br>pc_1=%{x}<br>pc_2=%{y}<br>pc_3=%{z}<br>question=%{customdata[0]}<br>label=%{customdata[2]}<extra></extra>\", \"legendgroup\": \"treatment medic natur good remedi\", \"marker\": {\"color\": \"#B6E880\", \"size\": 8, \"symbol\": \"circle\"}, \"mode\": \"markers\", \"name\": \"treatment medic natur good remedi\", \"scene\": \"scene\", \"showlegend\": true, \"type\": \"scatter3d\", \"x\": [0.0906820073723793, 0.09065669029951096, 0.053069014102220535, 0.036060452461242676, 0.2326977699995041, 0.07376937568187714, 0.0757223442196846, -0.04614020884037018, 0.08443325012922287, 0.10565733909606934, 0.10568248480558395, 0.12516379356384277, 0.17678415775299072, 0.09360326826572418, 0.19913385808467865, 0.0513296015560627, 0.031128879636526108, 0.11060038954019547, 0.1466848999261856, 0.03496372327208519, 0.1073552593588829, 0.10168678313493729, 0.037547145038843155, 0.05861184000968933, 0.12657718360424042, 0.16242197155952454, 0.04925224930047989, 0.06953392177820206], \"y\": [0.0875626653432846, 0.04509851336479187, -0.09642180800437927, -0.0015244267415255308, -0.0005302760982885957, -0.02143399976193905, 0.10486670583486557, -0.01714005134999752, 0.05149661377072334, 0.10474490374326706, -0.03995870426297188, 0.1478041559457779, -0.03404979780316353, -0.03132908418774605, 0.008462057448923588, -0.08992467820644379, 0.1169196218252182, -0.09052444249391556, 0.038279857486486435, 0.04843767359852791, 0.05361398309469223, 0.003187445690855384, 0.04063519835472107, -0.08425159752368927, -0.0019768436904996634, -0.0386437252163887, 0.04290614277124405, 0.0011758808977901936], \"z\": [0.8091899156570435, 0.8883775472640991, 0.8150539398193359, 0.7535511255264282, 0.8847956657409668, 0.7638705372810364, 0.7692915797233582, 0.7282545566558838, 0.8158454298973083, 0.869015634059906, 0.8995711803436279, 0.7763705849647522, 0.9054377675056458, 0.8048037886619568, 0.8662176728248596, 0.7795639634132385, 0.7978869080543518, 0.7119676470756531, 0.8571283221244812, 0.9128815531730652, 0.7071089148521423, 0.8542718887329102, 0.6710501909255981, 0.7060610055923462, 0.8691765069961548, 0.7307188510894775, 0.8338736891746521, 0.6698765158653259]}, {\"customdata\": [[\"can you die from diabetes mellitus ?\", \"die lead caus peopl blood\", 43], [\"factors that can lead to heart disease ?\", \"die lead caus peopl blood\", 43], [\"can diabetes lead to death ?\", \"die lead caus peopl blood\", 43], [\"can a husband is diabetes be the cause of a <unk> ?\", \"die lead caus peopl blood\", 43], [\"can someone die from diabetes ?\", \"die lead caus peopl blood\", 43], [\"can you die from diabetes ?\", \"die lead caus peopl blood\", 43], [\"is it likely you will die from diabetes ?\", \"die lead caus peopl blood\", 43], [\"can you get diabetes from drinking blood ?\", \"die lead caus peopl blood\", 43], [\"can people not be at risk of diabetes ?\", \"die lead caus peopl blood\", 43], [\"could gingivitis be transmitted by kissing ?\", \"die lead caus peopl blood\", 43], [\"do more people die of aids or diabetes ?\", \"die lead caus peopl blood\", 43], [\"can hyperglycemia lead to kidney failure ?\", \"die lead caus peopl blood\", 43], [\"does <unk> cause diabetes for children ?\", \"die lead caus peopl blood\", 43], [\"can infected teeth cause higher blood sugars ?\", \"die lead caus peopl blood\", 43], [\"can you die from edema ?\", \"die lead caus peopl blood\", 43], [\"can people die of diabetes ?\", \"die lead caus peopl blood\", 43], [\"can you die from <unk> <unk> ?\", \"die lead caus peopl blood\", 43]], \"hovertemplate\": \"summary=%{customdata[1]}<br>pc_1=%{x}<br>pc_2=%{y}<br>pc_3=%{z}<br>question=%{customdata[0]}<br>label=%{customdata[2]}<extra></extra>\", \"legendgroup\": \"die lead caus peopl blood\", \"marker\": {\"color\": \"#FF97FF\", \"size\": 8, \"symbol\": \"circle\"}, \"mode\": \"markers\", \"name\": \"die lead caus peopl blood\", \"scene\": \"scene\", \"showlegend\": true, \"type\": \"scatter3d\", \"x\": [-0.5363755226135254, -0.3923485279083252, -0.4376818835735321, -0.49395331740379333, -0.4892822802066803, -0.4810580015182495, -0.5309579968452454, -0.42752543091773987, -0.5575275421142578, -0.5375655889511108, -0.5164299011230469, -0.4099033772945404, -0.36748039722442627, -0.4981749951839447, -0.4909922778606415, -0.5220316052436829, -0.4767638146877289], \"y\": [-0.03466491773724556, -0.07395098358392715, -0.07364772260189056, -0.10908018797636032, 0.028293151408433914, 0.016002831980586052, 0.04252215474843979, 0.04204808920621872, -0.07890898734331131, -0.12941282987594604, -0.02299780212342739, -0.06233309209346771, -0.005971582606434822, -0.09015913307666779, -0.04962977021932602, -0.031231755390763283, -0.015165039338171482], \"z\": [0.39083588123321533, 0.4731747508049011, 0.46296846866607666, 0.5089461803436279, 0.36189574003219604, 0.39700350165367126, 0.3922368884086609, 0.4228227138519287, 0.5154265761375427, 0.3823273777961731, 0.5121795535087585, 0.3778509199619293, 0.31567075848579407, 0.4026951193809509, 0.41509532928466797, 0.47025370597839355, 0.41440844535827637]}, {\"customdata\": [[\"are there any <unk> that have diabetes ?\", \"might male frequent urin twin\", 29], [\"why might a male have to frequently urinate ?\", \"might male frequent urin twin\", 29], [\"do any <unk> have diabetes ?\", \"might male frequent urin twin\", 29], [\"if a twin has diabetes do they both have it ?\", \"might male frequent urin twin\", 29], [\"are ther any <unk> with diabetes ?\", \"might male frequent urin twin\", 29], [\"does your dog have diabetes ?\", \"might male frequent urin twin\", 29], [\"why is juvenile diabetes such a concern in australia ?\", \"might male frequent urin twin\", 29], [\"what year did <unk> <unk> have one type of diabetes ?\", \"might male frequent urin twin\", 29], [\"did <unk> <unk> have diabetes ?\", \"might male frequent urin twin\", 29], [\"if your mate has diabetes and you get pregnant what are the odds the baby would have diabetes ?\", \"might male frequent urin twin\", 29], [\"thyroid does it have any relationship with diabetes ?\", \"might male frequent urin twin\", 29]], \"hovertemplate\": \"summary=%{customdata[1]}<br>pc_1=%{x}<br>pc_2=%{y}<br>pc_3=%{z}<br>question=%{customdata[0]}<br>label=%{customdata[2]}<extra></extra>\", \"legendgroup\": \"might male frequent urin twin\", \"marker\": {\"color\": \"#FECB52\", \"size\": 8, \"symbol\": \"circle\"}, \"mode\": \"markers\", \"name\": \"might male frequent urin twin\", \"scene\": \"scene\", \"showlegend\": true, \"type\": \"scatter3d\", \"x\": [-0.4573487937450409, -0.46946364641189575, -0.4319106936454773, -0.407132089138031, -0.5095732808113098, -0.46992871165275574, -0.4247582256793976, -0.49941495060920715, -0.4481220245361328, -0.40713226795196533, -0.36611035466194153], \"y\": [-0.058725353330373764, -0.14622677862644196, -0.07192080467939377, -0.03201007470488548, -0.05907827243208885, -0.05147426575422287, -0.20525532960891724, -0.1312873661518097, -0.11048363149166107, 0.008108304813504219, -0.15644876658916473], \"z\": [-0.021558837965130806, -0.030616533011198044, 0.009200705215334892, -0.05319161340594292, -0.04124998301267624, 0.11728522181510925, 0.02715211734175682, 0.06876128911972046, 0.044690679758787155, 0.04362589865922928, 0.020652908831834793]}, {\"customdata\": [[\"how can you tell if your cat gets diabetes ?\", \"get wors kid tell cat\", 23], [\"is nick <unk> diabetes getting worse ?\", \"get wors kid tell cat\", 23], [\"why do kids become diabetes ?\", \"get wors kid tell cat\", 23], [\"does <unk> <unk> have diabetes ?\", \"get wors kid tell cat\", 23], [\"is there anything that makes diabetes worse or better ?\", \"get wors kid tell cat\", 23], [\"who investigated diabetes ?\", \"get wors kid tell cat\", 23], [\"does david <unk> have diabetes ?\", \"get wors kid tell cat\", 23], [\"what are chances of kids developing diabetes if father has type1 diabetes ?\", \"get wors kid tell cat\", 23], [\"does lil boosie have diabetes ?\", \"get wors kid tell cat\", 23], [\"how do you know if your male dog has diabetes ?\", \"get wors kid tell cat\", 23], [\"does heredity play a part in diabetes ?\", \"get wors kid tell cat\", 23], [\"does <unk> <unk> have diabetes ?\", \"get wors kid tell cat\", 23], [\"who gets diabetes ?\", \"get wors kid tell cat\", 23], [\"does the <unk> man alive have diabetes ?\", \"get wors kid tell cat\", 23], [\"does <unk> young have diabetes ?\", \"get wors kid tell cat\", 23], [\"does <unk> have diabetes ?\", \"get wors kid tell cat\", 23], [\"does <unk> come from diabetes ?\", \"get wors kid tell cat\", 23], [\"does everyone have diabetes ?\", \"get wors kid tell cat\", 23], [\"does <unk> <unk> still have diabetes ?\", \"get wors kid tell cat\", 23]], \"hovertemplate\": \"summary=%{customdata[1]}<br>pc_1=%{x}<br>pc_2=%{y}<br>pc_3=%{z}<br>question=%{customdata[0]}<br>label=%{customdata[2]}<extra></extra>\", \"legendgroup\": \"get wors kid tell cat\", \"marker\": {\"color\": \"#636efa\", \"size\": 8, \"symbol\": \"circle\"}, \"mode\": \"markers\", \"name\": \"get wors kid tell cat\", \"scene\": \"scene\", \"showlegend\": true, \"type\": \"scatter3d\", \"x\": [-0.21760231256484985, -0.20290155708789825, -0.2171182781457901, -0.3974267244338989, -0.21487191319465637, -0.21423150599002838, -0.3993757963180542, -0.2996825575828552, -0.3453510105609894, -0.21802625060081482, -0.2792389690876007, -0.3246091306209564, -0.24962985515594482, -0.3649604618549347, -0.3039858341217041, -0.39328455924987793, -0.3216313421726227, -0.2887682616710663, -0.3346549868583679], \"y\": [0.07289613038301468, -0.10177939385175705, -0.009485521353781223, -0.11657830327749252, -0.09968116879463196, -0.0611630454659462, -0.11567133665084839, 0.0021514485124498606, -0.08382146805524826, 0.04802221059799194, -0.04382386431097984, -0.05925988405942917, -0.054407957941293716, -0.0584503710269928, -0.03581281006336212, -0.09641745686531067, -0.09637242555618286, -0.054960206151008606, -0.0868995264172554], \"z\": [0.1552126258611679, 0.13631588220596313, 0.16755621135234833, 0.038716480135917664, 0.10187909007072449, 0.24999026954174042, 0.10740426927804947, 0.17838960886001587, 0.014882329851388931, 0.12586164474487305, 0.06381472200155258, 0.11554312705993652, 0.22320556640625, 0.16075673699378967, 0.20027747750282288, 0.056607577949762344, 0.17262905836105347, 0.1458945870399475, 0.10895662754774094]}, {\"customdata\": [[\"who invented insulin ?\", \"insulin invent discov year frederick\", 27], [\"how was insulin invented ?\", \"insulin invent discov year frederick\", 27], [\"where is insulin was invented ?\", \"insulin invent discov year frederick\", 27], [\"insulin was discovered by ?\", \"insulin invent discov year frederick\", 27], [\"how did frederick banting conduct the experiment to discover insulin ?\", \"insulin invent discov year frederick\", 27], [\"what year was the insulin pump invented ?\", \"insulin invent discov year frederick\", 27], [\"when was insulin invented ?\", \"insulin invent discov year frederick\", 27], [\"in what year was insulin invented ?\", \"insulin invent discov year frederick\", 27], [\"who discovered how to make insulin ?\", \"insulin invent discov year frederick\", 27]], \"hovertemplate\": \"summary=%{customdata[1]}<br>pc_1=%{x}<br>pc_2=%{y}<br>pc_3=%{z}<br>question=%{customdata[0]}<br>label=%{customdata[2]}<extra></extra>\", \"legendgroup\": \"insulin invent discov year frederick\", \"marker\": {\"color\": \"#EF553B\", \"size\": 8, \"symbol\": \"circle\"}, \"mode\": \"markers\", \"name\": \"insulin invent discov year frederick\", \"scene\": \"scene\", \"showlegend\": true, \"type\": \"scatter3d\", \"x\": [0.574941098690033, 0.5531900525093079, 0.6055407524108887, 0.4793364703655243, 0.5515521764755249, 0.6309335827827454, 0.523401141166687, 0.6123089790344238, 0.570537805557251], \"y\": [-0.5527739524841309, -0.5064665675163269, -0.5241584181785583, -0.514207661151886, -0.5617605447769165, -0.5142841935157776, -0.5060493350028992, -0.5332878828048706, -0.5688439607620239], \"z\": [0.2634051740169525, 0.2966042160987854, 0.25055739283561707, 0.26059579849243164, 0.37920036911964417, 0.3386847972869873, 0.27111080288887024, 0.31745433807373047, 0.3266552984714508]}, {\"customdata\": [[\"defeat diabetes with the glycemic impact diet ?\", \"diet type two plan good\", 33], [\"do the diabetes diet guidelines help people with diabetes manage their eating ?\", \"diet type two plan good\", 33], [\"what is a good diet for someone with arthritis ?\", \"diet type two plan good\", 33], [\"what is the best diet for someone who is diabetic ?\", \"diet type two plan good\", 33], [\"diabetes diet meal plan ?\", \"diet type two plan good\", 33], [\"what are some foods used when creating a diabetic diet plan ?\", \"diet type two plan good\", 33], [\"what diet is the best to follow for someone with diabetes ?\", \"diet type two plan good\", 33], [\"what are some of the restrictions of a diabetes diet ?\", \"diet type two plan good\", 33], [\"is a diabetic diet plan healthy ?\", \"diet type two plan good\", 33], [\"what is a sample diabetic diet menu ?\", \"diet type two plan good\", 33], [\"diabetes diet menu ?\", \"diet type two plan good\", 33], [\"how can an unbalanced diet lead to type two diabetes ?\", \"diet type two plan good\", 33], [\"what are some of the popular diet <unk> for a sugar diabetic ?\", \"diet type two plan good\", 33], [\"what is a typical diabetic diet ?\", \"diet type two plan good\", 33], [\"following a type two diabetes diet ?\", \"diet type two plan good\", 33], [\"what type of diet is people with type two diabetes ?\", \"diet type two plan good\", 33], [\"what recipes can i make to suit my diabetic diet ?\", \"diet type two plan good\", 33], [\"how can i get good information on avoiding the onset of diabetes ?\", \"diet type two plan good\", 33], [\"what would be a good diabetic diet for someone with diabetes ?\", \"diet type two plan good\", 33], [\"how can having a unhealthy diet lead to having diabetes ?\", \"diet type two plan good\", 33], [\"what type of diabetes can be managed and disappear if you <unk> a healthy diet ?\", \"diet type two plan good\", 33], [\"how can unbalanced diet contribute to diabetes ?\", \"diet type two plan good\", 33], [\"what is a good diet plan for a person with diabetes ?\", \"diet type two plan good\", 33], [\"what type of diet is recommend for type two diabetes ?\", \"diet type two plan good\", 33], [\"why type of diet should type two diabetics stay on ?\", \"diet type two plan good\", 33], [\"what is the best diet for diabetics ?\", \"diet type two plan good\", 33], [\"how important is diabetes diet chart with type two form of diabetes ?\", \"diet type two plan good\", 33], [\"what is a good diet to keep your sugar levels down ?\", \"diet type two plan good\", 33], [\"how does a high-fiber diet help to treat diabetes and obesity ?\", \"diet type two plan good\", 33], [\"why do you need a balanced diet ?\", \"diet type two plan good\", 33], [\"what diet do i need to take for diabetes type two ?\", \"diet type two plan good\", 33], [\"what can an unbalanced diet lead to when you are a diabetic ?\", \"diet type two plan good\", 33], [\"what type of diets for weight loss are best for a type two diabetic ?\", \"diet type two plan good\", 33], [\"what is an effective diet for diabetes type two ?\", \"diet type two plan good\", 33], [\"would the diabetes type two diet work for those who have type one ?\", \"diet type two plan good\", 33], [\"do people without diabetes benefit from a diabetic diet ?\", \"diet type two plan good\", 33], [\"what kind of diet is good for diabetics ?\", \"diet type two plan good\", 33], [\"what is a healthy type ii diabetes diet plan ?\", \"diet type two plan good\", 33], [\"asking about best diet for someone with diabetic . ?\", \"diet type two plan good\", 33], [\"what are some diabetic menu planner ideas ?\", \"diet type two plan good\", 33], [\"what kind of diet plan will you need with type two diabetes ?\", \"diet type two plan good\", 33], [\"what is the recommended diet for treatment and/or prevention of diabetic neuropathy ?\", \"diet type two plan good\", 33], [\"what should be in a diabetic is diet book ?\", \"diet type two plan good\", 33], [\"trying a diabetes diet ?\", \"diet type two plan good\", 33], [\"what are the key categories of a diabetic diet ?\", \"diet type two plan good\", 33], [\"cutting white bread in a diabetic diet ?\", \"diet type two plan good\", 33], [\"what should be included in a diabetic diet ?\", \"diet type two plan good\", 33], [\"what are good diet plans for a diabetic patient ?\", \"diet type two plan good\", 33], [\"what famous people are on a diabetic diet ?\", \"diet type two plan good\", 33], [\"what is the best bread for type two diabetes ?\", \"diet type two plan good\", 33], [\"what is a diabetic exchange diet ?\", \"diet type two plan good\", 33], [\"what kind of diet is recommended for diabetics ?\", \"diet type two plan good\", 33], [\"how can i get diabetes diet <unk> for someone with serious diabetis ?\", \"diet type two plan good\", 33], [\"what kind of diet should you be on if you have diabetes ?\", \"diet type two plan good\", 33], [\"what is a good diet for a diabetic ?\", \"diet type two plan good\", 33], [\"what is the best type one diabetes diet to go on ?\", \"diet type two plan good\", 33], [\"what is involved in a diabetic diet ?\", \"diet type two plan good\", 33], [\"how easy is it to stick to a diet for diabetes ?\", \"diet type two plan good\", 33], [\"which foods should be avoided while on a type two diabetes diet ?\", \"diet type two plan good\", 33], [\"what is the diet plan for diabetics ?\", \"diet type two plan good\", 33], [\"what is a healthy diet for a diabetic with type two diabetes ?\", \"diet type two plan good\", 33], [\"overcoming challenges with a diabetes diet for seniors ?\", \"diet type two plan good\", 33], [\"how can a bad diet and lack of exercise cause diabetes ?\", \"diet type two plan good\", 33], [\"what is an ideal diet for a diabetic ?\", \"diet type two plan good\", 33], [\"diabetic diet menu ?\", \"diet type two plan good\", 33], [\"what is the normal diet for people with diabetes ?\", \"diet type two plan good\", 33], [\"what is the allowable sugar intake a day for a diabetic ?\", \"diet type two plan good\", 33], [\"why do diabetics need a balanced diet ?\", \"diet type two plan good\", 33], [\"what are some simple diet plans for a diabetic ?\", \"diet type two plan good\", 33], [\"what is the right diet for diabetics ?\", \"diet type two plan good\", 33]], \"hovertemplate\": \"summary=%{customdata[1]}<br>pc_1=%{x}<br>pc_2=%{y}<br>pc_3=%{z}<br>question=%{customdata[0]}<br>label=%{customdata[2]}<extra></extra>\", \"legendgroup\": \"diet type two plan good\", \"marker\": {\"color\": \"#00cc96\", \"size\": 8, \"symbol\": \"circle\"}, \"mode\": \"markers\", \"name\": \"diet type two plan good\", \"scene\": \"scene\", \"showlegend\": true, \"type\": \"scatter3d\", \"x\": [-0.17915408313274384, -0.19328215718269348, -0.07433871179819107, 0.04128522425889969, -0.21001695096492767, -0.040197521448135376, -0.10318519920110703, 0.05900886282324791, -0.12196101993322372, -0.12218194454908371, -0.1767764836549759, -0.24635687470436096, -0.006210196763277054, 0.028884440660476685, -0.3193817734718323, -0.21864990890026093, -0.11322774738073349, -0.30936428904533386, -0.09563303738832474, -0.28887611627578735, -0.3107410669326782, -0.25488173961639404, -0.09654537588357925, -0.1861811876296997, -0.27335959672927856, 0.0513727143406868, -0.3109518587589264, -0.12620411813259125, -0.2130587249994278, -0.16697265207767487, -0.23867741227149963, -0.23702478408813477, -0.36634141206741333, -0.17562150955200195, -0.29905155301094055, -0.13024494051933289, 0.02613515406847, -0.22071628272533417, -0.042868297547101974, -0.06521818786859512, -0.23653914034366608, -0.025375796481966972, -0.018852703273296356, -0.1597306877374649, 0.0489727146923542, -0.06347887217998505, -0.04083251953125, -0.07021889090538025, 0.02052547223865986, 0.082706019282341, -0.027058878913521767, 0.010434978641569614, -0.3162026107311249, -0.16688132286071777, -0.014716002158820629, -0.14807434380054474, 0.009927503764629364, -0.17773523926734924, -0.353254497051239, 0.02289229817688465, -0.284866064786911, -0.3715251088142395, -0.30121132731437683, 0.017664747312664986, -0.14567673206329346, -0.064750075340271, 0.10563084483146667, -0.1471126675605774, -0.056286100298166275, 0.04997037351131439], \"y\": [0.6377567648887634, 0.7433563470840454, 0.6406052708625793, 0.6982090473175049, 0.7819895148277283, 0.7785375118255615, 0.7017710208892822, 0.7256172895431519, 0.7109026312828064, 0.8018954992294312, 0.7612111568450928, 0.6581500768661499, 0.726140558719635, 0.7938295006752014, 0.7249841094017029, 0.7109642028808594, 0.7581000924110413, 0.5712860822677612, 0.6672825217247009, 0.6343966126441956, 0.6708404421806335, 0.6249422430992126, 0.6948819756507874, 0.7383291721343994, 0.7816654443740845, 0.6813957095146179, 0.6886293888092041, 0.7412691116333008, 0.7037431597709656, 0.7959785461425781, 0.7610542178153992, 0.6616131663322449, 0.7584418654441833, 0.7644397020339966, 0.7754791975021362, 0.6724835634231567, 0.6791307926177979, 0.7341760993003845, 0.6579923033714294, 0.8397856950759888, 0.7564632296562195, 0.6368837952613831, 0.7339824438095093, 0.7121486067771912, 0.7730065584182739, 0.7136226296424866, 0.732975423336029, 0.7950590252876282, 0.7878096699714661, 0.6319539546966553, 0.7545526027679443, 0.6775310039520264, 0.6344320774078369, 0.6147667765617371, 0.7146836519241333, 0.7132947444915771, 0.7832188606262207, 0.7024369835853577, 0.7301256656646729, 0.6944082379341125, 0.7097412943840027, 0.6373513340950012, 0.5983806252479553, 0.7299838066101074, 0.7571136951446533, 0.7769898176193237, 0.739480197429657, 0.8069332242012024, 0.7932189106941223, 0.7068639397621155], \"z\": [0.5167180895805359, 0.2615085542201996, 0.48604363203048706, 0.4899808168411255, 0.20162002742290497, 0.2048303484916687, 0.4905135929584503, 0.26137006282806396, 0.3027350604534149, 0.160661518573761, 0.17470312118530273, 0.524065375328064, 0.2345585823059082, 0.4325709640979767, 0.531209409236908, 0.595187246799469, 0.19579154253005981, 0.45601001381874084, 0.3986037075519562, 0.4713122844696045, 0.41180387139320374, 0.5045651793479919, 0.4335402548313141, 0.572975218296051, 0.4766722619533539, 0.3676690459251404, 0.5656855702400208, 0.41066357493400574, 0.31819432973861694, 0.36670443415641785, 0.4272758662700653, 0.43996042013168335, 0.4609464108943939, 0.531708300113678, 0.5289753079414368, 0.2505466043949127, 0.4325464367866516, 0.505116879940033, 0.4001297652721405, 0.17529648542404175, 0.39272215962409973, 0.27442941069602966, 0.32812801003456116, 0.3373800814151764, 0.16858242452144623, 0.25106996297836304, 0.29461050033569336, 0.29252949357032776, 0.32688602805137634, 0.3918338716030121, 0.3741070628166199, 0.33609265089035034, 0.42178940773010254, 0.3904380798339844, 0.44243916869163513, 0.506924033164978, 0.38004937767982483, 0.4068639576435089, 0.5143366456031799, 0.30137696862220764, 0.4898722171783447, 0.4705028235912323, 0.4974473714828491, 0.4397149682044983, 0.15143515169620514, 0.46731749176979065, 0.4028822183609009, 0.3458058834075928, 0.2553393244743347, 0.33836624026298523]}, {\"customdata\": [[\"does stress cause high blood pressure ?\", \"caus blood high sugar low\", 34], [\"what causes hypoglycemia on a diabetic ?\", \"caus blood high sugar low\", 34], [\"what causes <unk> ?\", \"caus blood high sugar low\", 34], [\"what causes eye bleeding ?\", \"caus blood high sugar low\", 34], [\"what causes inflammation of organs ?\", \"caus blood high sugar low\", 34], [\"how low can blood sugar go before is causes lost consciousness ?\", \"caus blood high sugar low\", 34], [\"is diabetes the only thing that causes high blood sugars ?\", \"caus blood high sugar low\", 34], [\"what causes <unk> ?\", \"caus blood high sugar low\", 34], [\"what can cause hypoglycemia ?\", \"caus blood high sugar low\", 34], [\"what causes low <unk> in the blood ?\", \"caus blood high sugar low\", 34], [\"can viral gastroenteritis cause a rise in blood sugar ?\", \"caus blood high sugar low\", 34], [\"what causes high triglycerides please ?\", \"caus blood high sugar low\", 34], [\"is there a cause for <unk> and what causes it ?\", \"caus blood high sugar low\", 34], [\"what finally causes the <unk> to fall ?\", \"caus blood high sugar low\", 34], [\"what are causes of high blood sugar ?\", \"caus blood high sugar low\", 34], [\"what causes high blood sugar ?\", \"caus blood high sugar low\", 34], [\"what causes tightening of stomach in men ?\", \"caus blood high sugar low\", 34], [\"what causes hyperglycemia ?\", \"caus blood high sugar low\", 34], [\"what is the cause of low blood pressure ?\", \"caus blood high sugar low\", 34]], \"hovertemplate\": \"summary=%{customdata[1]}<br>pc_1=%{x}<br>pc_2=%{y}<br>pc_3=%{z}<br>question=%{customdata[0]}<br>label=%{customdata[2]}<extra></extra>\", \"legendgroup\": \"caus blood high sugar low\", \"marker\": {\"color\": \"#ab63fa\", \"size\": 8, \"symbol\": \"circle\"}, \"mode\": \"markers\", \"name\": \"caus blood high sugar low\", \"scene\": \"scene\", \"showlegend\": true, \"type\": \"scatter3d\", \"x\": [0.28628191351890564, 0.16552269458770752, 0.18407927453517914, 0.098116934299469, 0.16693252325057983, 0.29071876406669617, 0.25513550639152527, 0.192148819565773, 0.19238190352916718, 0.26880767941474915, 0.19932472705841064, 0.257322758436203, 0.19619865715503693, 0.19687342643737793, 0.3093562126159668, 0.28652331233024597, 0.1295386254787445, 0.20764091610908508, 0.28766804933547974], \"y\": [-0.15683817863464355, -0.12437377870082855, -0.12355893105268478, -0.12284379452466965, -0.15528789162635803, -0.045685045421123505, -0.09601388871669769, -0.10397731512784958, -0.11170441657304764, -0.12719912827014923, -0.0628018006682396, -0.1780497133731842, -0.06533568352460861, -0.0759192630648613, -0.10435266047716141, -0.09387083351612091, -0.14035099744796753, -0.12066579610109329, -0.15700414776802063], \"z\": [-0.0024861914571374655, 0.0535799041390419, -0.08803678303956985, -0.11072435230016708, -0.1427767127752304, -0.13263440132141113, -0.011957485228776932, -0.10658296197652817, 0.03932400792837143, -0.09085202217102051, 0.03787089139223099, -0.17229028046131134, -0.027757329866290092, -0.15158972144126892, -0.14554613828659058, -0.11527322232723236, -0.06780155003070831, -0.033383917063474655, -0.06213918328285217]}, {\"customdata\": [[\"how not to get diabetes ?\", \"get type know two one\", 22], [\"how do you know if your hamster is diabetic ?\", \"get type know two one\", 22], [\"why are overweight people more likely to get diabetes ?\", \"get type know two one\", 22], [\"how do you get diabetes ?\", \"get type know two one\", 22], [\"your dad has diabetes how can he get rid of them forever ?\", \"get type know two one\", 22], [\"how do you get diabetes two ?\", \"get type know two one\", 22], [\"why do diabetics loose <unk> ?\", \"get type know two one\", 22], [\"why do you urinate more often with diabetes ?\", \"get type know two one\", 22], [\"why did you get diabetes ?\", \"get type know two one\", 22], [\"how does type one diabetes go away ?\", \"get type know two one\", 22], [\"how do you know if it is type one diabetes ?\", \"get type know two one\", 22], [\"how do you know if you have type two diabetes ?\", \"get type know two one\", 22], [\"how you can get a diabetes mellitus ?\", \"get type know two one\", 22], [\"how do you get juvenile diabetes ?\", \"get type know two one\", 22], [\"how diabetes happens ?\", \"get type know two one\", 22], [\"how can you get rid of diabetes ?\", \"get type know two one\", 22], [\"how can you tell you have diabetes ?\", \"get type know two one\", 22], [\"what do you do if you have diabetes and you suddenly feel weak ?\", \"get type know two one\", 22], [\"what do you eat when you have diabetes ?\", \"get type know two one\", 22], [\"how do you get diabet es ?\", \"get type know two one\", 22], [\"as we get older why do are bones get <unk> and <unk> ?\", \"get type know two one\", 22], [\"how do you know if it is a type1 or type2 diabetes ?\", \"get type know two one\", 22], [\"why does diabetes suck so much ?\", \"get type know two one\", 22], [\"how do you get type three diabetes ?\", \"get type know two one\", 22], [\"how do you <unk> diabetes type one ?\", \"get type know two one\", 22], [\"how can you not get diabetes ?\", \"get type know two one\", 22], [\"how do people get type one diabetes ?\", \"get type know two one\", 22], [\"how do you catch type one diabetes ?\", \"get type know two one\", 22], [\"how do you get diabetes mellitus ?\", \"get type know two one\", 22], [\"do <unk> get diabetes easily ?\", \"get type know two one\", 22], [\"how long does it take to get rid of diabetes ?\", \"get type know two one\", 22], [\"what do burps <unk> in a person with diabetes ?\", \"get type know two one\", 22], [\"how did you get diabetes ?\", \"get type know two one\", 22], [\"what do you eat to get diabetes ?\", \"get type know two one\", 22], [\"how do you know if you have got diabetes ?\", \"get type know two one\", 22], [\"how do you know if it is type two diabetes ?\", \"get type know two one\", 22], [\"how do you prevent kidney damage ?\", \"get type know two one\", 22], [\"why do you experience severe cramps after taking insulin ?\", \"get type know two one\", 22], [\"how long will you with diabetes ?\", \"get type know two one\", 22], [\"what do you do if you have diabetes mellitus ?\", \"get type know two one\", 22], [\"how do you talk your mom into letting you get a diabetes test ?\", \"get type know two one\", 22], [\"how do you give yourself type one diabetes ?\", \"get type know two one\", 22], [\"what would you have if you had <unk> ?\", \"get type know two one\", 22], [\"what do you do if you have diabetes ?\", \"get type know two one\", 22], [\"how do you develop diabetes two ?\", \"get type know two one\", 22], [\"how do you prevent type one diabetes ?\", \"get type know two one\", 22], [\"do <unk> <unk> ?\", \"get type know two one\", 22], [\"why do not people <unk> diabetes ?\", \"get type know two one\", 22], [\"how can you pass diabetes to your children ?\", \"get type know two one\", 22], [\"how do you prevent heredity diabetes type two ?\", \"get type know two one\", 22], [\"how can you deal with diabetes ?\", \"get type know two one\", 22], [\"how can you tell that you have diabetes if you did not have it before ?\", \"get type know two one\", 22], [\"what do people with diabetes do not produce enough ?\", \"get type know two one\", 22], [\"can you make your <unk> on <unk> three have diabetes and how ?\", \"get type know two one\", 22], [\"what is do you have to wear when you have diabetes ?\", \"get type know two one\", 22], [\"how do you get diabetes type two ?\", \"get type know two one\", 22], [\"do you need math for diabetes ?\", \"get type know two one\", 22], [\"how do you get diabetes i want to have it ?\", \"get type know two one\", 22], [\"how do diabetes happen ?\", \"get type know two one\", 22], [\"how do you avoid diabetes ?\", \"get type know two one\", 22], [\"what happens if you do not control diabetes ?\", \"get type know two one\", 22], [\"why does eating slowly prevents type two diabetes ?\", \"get type know two one\", 22], [\"why can not you get a new pancreas if you have diabetes ?\", \"get type know two one\", 22], [\"why do people get diabetes ?\", \"get type know two one\", 22], [\"why do doctors think diabetes might be a virus ?\", \"get type know two one\", 22], [\"what do you have when you have trouble <unk> things ?\", \"get type know two one\", 22], [\"do you know anything about diabetes ?\", \"get type know two one\", 22], [\"what do you do if you get diabetes ?\", \"get type know two one\", 22], [\"how can you stop diabetes from affecting you ?\", \"get type know two one\", 22]], \"hovertemplate\": \"summary=%{customdata[1]}<br>pc_1=%{x}<br>pc_2=%{y}<br>pc_3=%{z}<br>question=%{customdata[0]}<br>label=%{customdata[2]}<extra></extra>\", \"legendgroup\": \"get type know two one\", \"marker\": {\"color\": \"#FFA15A\", \"size\": 8, \"symbol\": \"circle\"}, \"mode\": \"markers\", \"name\": \"get type know two one\", \"scene\": \"scene\", \"showlegend\": true, \"type\": \"scatter3d\", \"x\": [-0.13397173583507538, 0.14237773418426514, -0.11807620525360107, -0.07265669852495193, -0.2099999487400055, -0.04998905584216118, -0.13740694522857666, 0.023439891636371613, -0.12879332900047302, -0.036139849573373795, 0.06791636347770691, 0.020729992538690567, -0.019200995564460754, -0.17267577350139618, 0.10984835773706436, -0.12393997609615326, -0.027605488896369934, 0.04833149537444115, 0.16890321671962738, -0.030892901122570038, -0.14595980942249298, 0.10920780152082443, -0.13150721788406372, -0.03091755136847496, -0.02560408040881157, -0.14105895161628723, -0.00092064228374511, -0.05916594713926315, 0.07595691829919815, -0.21938900649547577, -0.1209692507982254, 0.01645496115088463, -0.11336489766836166, -0.11966513097286224, -0.0741085484623909, 0.05346786975860596, 0.004320318810641766, 0.08862075954675674, -0.0417499765753746, 0.09831087291240692, -0.10807181894779205, -0.026509491726756096, 0.06265019625425339, 0.1232752799987793, 0.03623896837234497, -0.04799969866871834, -0.16940420866012573, -0.11247283965349197, -0.158492773771286, -0.03286062926054001, -0.01761358603835106, 0.02516988106071949, -0.1495610922574997, -0.03653261438012123, 0.08924481272697449, -0.004460094030946493, -0.17234912514686584, -0.0711076632142067, 0.1087910607457161, -0.052569009363651276, 0.10065890848636627, -0.023095211014151573, -0.10718679428100586, -0.11294668912887573, -0.05090605095028877, 0.07785776257514954, -0.056544702500104904, 0.12466540932655334, -0.06879856437444687], \"y\": [0.021019989624619484, 0.11054471135139465, -0.07196636497974396, 0.058984048664569855, 0.09271622449159622, 0.0603354349732399, -0.0021683047525584698, 0.025085339322686195, -0.017633970826864243, -0.057288363575935364, 0.06279191374778748, 0.057918865233659744, 0.022926582023501396, 0.031236441805958748, -0.057288724929094315, 0.08282466977834702, 0.0709908977150917, 0.02511168085038662, 0.06966380774974823, 0.1216365322470665, 0.06718470901250839, 0.08811690658330917, -0.053313687443733215, 0.02612585388123989, -0.022097546607255936, 0.06804908066987991, -0.04793275520205498, -0.02516636811196804, -0.028527136892080307, 0.044337909668684006, 0.12719029188156128, -0.06971479952335358, 0.010514088906347752, 0.05106083303689957, 0.049603939056396484, 0.06722211837768555, 0.1267554759979248, -0.0031566123943775892, 0.15880757570266724, -0.0006453680107370019, 0.07940197736024857, 0.01844525896012783, 0.10376647114753723, 0.040457434952259064, 0.01590304635465145, 0.02347744256258011, 0.009202300570905209, -0.032614801079034805, 0.11007716506719589, 0.04045873507857323, 0.12669792771339417, 0.11389469355344772, 0.0121171148493886, 0.10773780196905136, 0.055815231055021286, 0.00826876237988472, 0.08655306696891785, 0.07579367607831955, -0.03168404847383499, 0.05983688682317734, 0.0023760367184877396, -0.02894585207104683, 0.10290572047233582, -0.015609223395586014, 0.0743662416934967, 0.07799838483333588, 0.016470402479171753, 0.03882112726569176, 0.0256386399269104], \"z\": [0.2753668427467346, 0.16919846832752228, 0.0633559376001358, 0.1984388679265976, 0.2654121518135071, 0.16475608944892883, -0.08786501735448837, -0.026064038276672363, 0.2033417969942093, 0.256881982088089, 0.24678291380405426, 0.1796853244304657, 0.09152134507894516, 0.17118124663829803, 0.2755572199821472, 0.28775185346603394, 0.07760313153266907, -0.07263278216123581, 0.11625660210847855, 0.2636955678462982, -0.11096013337373734, 0.2185402512550354, 0.16179217398166656, 0.15877783298492432, 0.29081687331199646, 0.26414167881011963, 0.3232257664203644, 0.30903688073158264, 0.13235566020011902, 0.23297230899333954, 0.2042817920446396, -0.011332865804433823, 0.23410920798778534, -0.0296326857060194, -0.01129772700369358, 0.2182294726371765, 0.3226929008960724, -0.09179394692182541, 0.1729031205177307, 0.11195444315671921, 0.1033371090888977, 0.2060607671737671, -0.015670189633965492, 0.13108310103416443, 0.3020172715187073, 0.34151721000671387, -0.05946426838636398, 0.04659854993224144, 0.30499446392059326, 0.3701578378677368, 0.1484338939189911, -0.012674723751842976, 0.02882537618279457, 0.07699322700500488, 0.08570157736539841, 0.28668728470802307, 0.023743918165564537, 0.03920193016529083, 0.2592885196208954, 0.29861193895339966, 0.2024720460176468, 0.1710623949766159, -0.03528224304318428, 0.005942508112639189, -0.07112164050340652, 0.011180942878127098, -0.017456570640206337, 0.16856539249420166, 0.08286488056182861]}, {\"customdata\": [[\"is it normal to have low blood sugar ?\", \"blood sugar low high level\", 42], [\"can too much honey cause a drop in blood sugar level ?\", \"blood sugar low high level\", 42], [\"does putting cinnamon in your coffee help with blood sugar ?\", \"blood sugar low high level\", 42], [\"how many times a day should a person with diabetes check there blood sugar levels ?\", \"blood sugar low high level\", 42], [\"can high blood sugar make you dizzy and <unk> ?\", \"blood sugar low high level\", 42], [\"how do i find out if i have normal blood sugar levels ?\", \"blood sugar low high level\", 42], [\"managing high blood sugar ?\", \"blood sugar low high level\", 42], [\"when blood sugar drops then <unk> up high when does it balance out ?\", \"blood sugar low high level\", 42], [\"does a diabetic know if or when his or her blood sugar is too high or low ?\", \"blood sugar low high level\", 42], [\"what does your body do when your blood sugar is too high ?\", \"blood sugar low high level\", 42], [\"how do you know if your blood sugar levels are low ?\", \"blood sugar low high level\", 42], [\"do not <unk> your blood sugar ! ?\", \"blood sugar low high level\", 42], [\"how can i find out if i have low blood sugar ?\", \"blood sugar low high level\", 42], [\"do you need salt if your blood sugar is high ?\", \"blood sugar low high level\", 42], [\"low blood sugar ?\", \"blood sugar low high level\", 42], [\"can low blood sugar make you vomit ?\", \"blood sugar low high level\", 42], [\"what type <unk> do you have when your blood sugar is high ?\", \"blood sugar low high level\", 42], [\"does <unk> one hundred mg tabs raise ones blood sugar a lot ?\", \"blood sugar low high level\", 42], [\"is it better to have low or high blood sugar levels ?\", \"blood sugar low high level\", 42], [\"should you take glucose tablets if your blood sugar is high ?\", \"blood sugar low high level\", 42], [\"if you know your blood sugar is low how do you know if you are a diabetic ?\", \"blood sugar low high level\", 42], [\"are hot <unk> good for <unk> blood sugar ?\", \"blood sugar low high level\", 42], [\"why would drinking molasses in the morning not help with low blood sugar ?\", \"blood sugar low high level\", 42], [\"why is orange juice recommended when blood sugar is low ?\", \"blood sugar low high level\", 42], [\"highest blood sugar reading a glucometer can have ?\", \"blood sugar low high level\", 42], [\"can <unk> increase blood sugar readings ?\", \"blood sugar low high level\", 42], [\"the another name for high blood sugar ?\", \"blood sugar low high level\", 42]], \"hovertemplate\": \"summary=%{customdata[1]}<br>pc_1=%{x}<br>pc_2=%{y}<br>pc_3=%{z}<br>question=%{customdata[0]}<br>label=%{customdata[2]}<extra></extra>\", \"legendgroup\": \"blood sugar low high level\", \"marker\": {\"color\": \"#19d3f3\", \"size\": 8, \"symbol\": \"circle\"}, \"mode\": \"markers\", \"name\": \"blood sugar low high level\", \"scene\": \"scene\", \"showlegend\": true, \"type\": \"scatter3d\", \"x\": [0.4130149185657501, 0.3831656277179718, 0.4991101026535034, 0.5495212078094482, 0.3862212598323822, 0.6032747030258179, 0.5113149881362915, 0.33699020743370056, 0.3471665680408478, 0.5987092852592468, 0.5635431408882141, 0.4545012414455414, 0.5933693051338196, 0.4930153489112854, 0.4829176962375641, 0.42630261182785034, 0.6021174788475037, 0.47266778349876404, 0.377682089805603, 0.42290836572647095, 0.534976601600647, 0.4969031512737274, 0.4324357211589813, 0.5277552008628845, 0.4545903205871582, 0.41530871391296387, 0.5266031622886658], \"y\": [0.11375778168439865, 0.10958769917488098, 0.2662779688835144, 0.34052774310112, 0.20057539641857147, 0.31649935245513916, 0.12820008397102356, 0.2059992551803589, 0.07207339257001877, 0.19123601913452148, 0.26259058713912964, 0.21614249050617218, 0.3118172585964203, 0.25076571106910706, 0.15707002580165863, 0.18793487548828125, 0.21461611986160278, 0.31992772221565247, 0.10151965916156769, 0.16496865451335907, 0.25563982129096985, 0.19356483221054077, 0.2078244686126709, 0.1731167584657669, 0.09088581055402756, 0.11301703006029129, 0.13273970782756805], \"z\": [-0.2740258276462555, -0.17327122390270233, -0.2108052670955658, -0.35182052850723267, -0.22137297689914703, -0.33095046877861023, -0.22811901569366455, -0.23111942410469055, -0.13937558233737946, -0.3488411009311676, -0.3312183916568756, -0.28972822427749634, -0.2857549786567688, -0.27076488733291626, -0.24690620601177216, -0.23079392313957214, -0.33804625272750854, -0.34029197692871094, -0.23565338551998138, -0.27151015400886536, -0.3155770003795624, -0.2076415866613388, -0.16514557600021362, -0.2857586443424225, -0.17809991538524628, -0.18702246248722076, -0.1637340784072876]}, {\"customdata\": [[\"which blood test is used by patients with diabetes to measure the average blood glucose level over the previous three to four months ?\", \"test blood sugar glucos fast\", 35], [\"what are the nursing considerations before doing a random blood sugar test ?\", \"test blood sugar glucos fast\", 35], [\"how many hours should you fast before a diabetes test ?\", \"test blood sugar glucos fast\", 35], [\"what is <unk> of five point seven on an a1c test ?\", \"test blood sugar glucos fast\", 35], [\"what is a fasting blood sugar test ?\", \"test blood sugar glucos fast\", 35], [\"what are the normal results of a fasting blood sugar test ?\", \"test blood sugar glucos fast\", 35], [\"what is the normal urine sugar level ?\", \"test blood sugar glucos fast\", 35], [\"when is the best time to test blood glucose levels ?\", \"test blood sugar glucos fast\", 35], [\"what is a <unk> blood glucose test ?\", \"test blood sugar glucos fast\", 35], [\"what is a description for fasting blood sugar ?\", \"test blood sugar glucos fast\", 35], [\"how many tubes are drawn for a three hour glucose tolerance test ?\", \"test blood sugar glucos fast\", 35]], \"hovertemplate\": \"summary=%{customdata[1]}<br>pc_1=%{x}<br>pc_2=%{y}<br>pc_3=%{z}<br>question=%{customdata[0]}<br>label=%{customdata[2]}<extra></extra>\", \"legendgroup\": \"test blood sugar glucos fast\", \"marker\": {\"color\": \"#FF6692\", \"size\": 8, \"symbol\": \"circle\"}, \"mode\": \"markers\", \"name\": \"test blood sugar glucos fast\", \"scene\": \"scene\", \"showlegend\": true, \"type\": \"scatter3d\", \"x\": [0.3299849033355713, 0.2614258825778961, 0.2456081509590149, 0.21070368587970734, 0.28135350346565247, 0.2806364595890045, 0.2635152339935303, 0.263112336397171, 0.2742953896522522, 0.31988492608070374, 0.2843759059906006], \"y\": [-0.08588716387748718, -0.059612937271595, -0.020391840487718582, -0.1269247680902481, -0.13556836545467377, -0.1097746193408966, -0.22382444143295288, -0.17932426929473877, -0.15176551043987274, -0.1580915004014969, -0.05443621426820755], \"z\": [-0.7070967555046082, -0.8206750154495239, -0.7856189608573914, -0.7703784704208374, -0.7787653803825378, -0.7809045314788818, -0.747734010219574, -0.7310043573379517, -0.7143741846084595, -0.8232744932174683, -0.729796290397644]}, {\"customdata\": [[\"what condition would cause blurred vision shortness of breath fatigue and finger and hand weakness ?\", \"caus would finger feet ach\", 20], [\"do sore toenails have anything to do with diabetes ?\", \"caus would finger feet ach\", 20], [\"why do the top of your feet ache ?\", \"caus would finger feet ach\", 20], [\"hair loss on lower legs ?\", \"caus would finger feet ach\", 20], [\"why have your ankles swollen up ?\", \"caus would finger feet ach\", 20], [\"if your big toes are often numb is that a sign of diabetes ?\", \"caus would finger feet ach\", 20], [\"do you have foot pain with diabetes ?\", \"caus would finger feet ach\", 20], [\"what causes your toes to feel numb ?\", \"caus would finger feet ach\", 20], [\"you cant sleep as arms ache ?\", \"caus would finger feet ach\", 20], [\"when would a diabetic need to see the doctor with sore feet ?\", \"caus would finger feet ach\", 20], [\"what is causing your feet and ankles to become swollen and very painful ?\", \"caus would finger feet ach\", 20], [\"what can cause severe pain in upper right arm near the shoulder area ?\", \"caus would finger feet ach\", 20], [\"what cause tingling in stomach ?\", \"caus would finger feet ach\", 20], [\"what causes tingling in left hand fingers ?\", \"caus would finger feet ach\", 20], [\"what could cause twitching in you thumb and head ?\", \"caus would finger feet ach\", 20], [\"does diabetes cause numbness in fingers ?\", \"caus would finger feet ach\", 20], [\"what would cause cold chills up and down the spine ?\", \"caus would finger feet ach\", 20], [\"can <unk> cause tingling on head ?\", \"caus would finger feet ach\", 20], [\"why do your arms ache ?\", \"caus would finger feet ach\", 20], [\"what could be causing my headaches and dizziness with a feeling of a surge of <unk> running through your brain now and then ?\", \"caus would finger feet ach\", 20]], \"hovertemplate\": \"summary=%{customdata[1]}<br>pc_1=%{x}<br>pc_2=%{y}<br>pc_3=%{z}<br>question=%{customdata[0]}<br>label=%{customdata[2]}<extra></extra>\", \"legendgroup\": \"caus would finger feet ach\", \"marker\": {\"color\": \"#B6E880\", \"size\": 8, \"symbol\": \"circle\"}, \"mode\": \"markers\", \"name\": \"caus would finger feet ach\", \"scene\": \"scene\", \"showlegend\": true, \"type\": \"scatter3d\", \"x\": [-0.3121214807033539, -0.39196693897247314, -0.40815266966819763, -0.35525280237197876, -0.37257739901542664, -0.45450469851493835, -0.40041229128837585, -0.35550442337989807, -0.47319433093070984, -0.35930266976356506, -0.3188316822052002, -0.2711549997329712, -0.358377069234848, -0.33961164951324463, -0.30229875445365906, -0.45411938428878784, -0.36680856347084045, -0.4065755605697632, -0.45018285512924194, -0.3493645191192627], \"y\": [-0.08016686886548996, 0.03437603637576103, 0.01678839512169361, 0.04035171866416931, 0.013553005643188953, -0.014032039791345596, 0.07052861154079437, -0.013597877696156502, 0.004473465494811535, 0.08962730318307877, -0.01899973675608635, 0.005862132646143436, -0.08000874519348145, -0.021390661597251892, -0.024167900905013084, -0.03147104009985924, -0.05991401523351669, -0.04975584149360657, 0.0019414579728618264, -0.05972585454583168], \"z\": [-0.5671541690826416, -0.44002848863601685, -0.5353766679763794, -0.6087633371353149, -0.4649769961833954, -0.42800968885421753, -0.4187183678150177, -0.5179667472839355, -0.5734609961509705, -0.4993795156478882, -0.5497838854789734, -0.5442387461662292, -0.46170443296432495, -0.4577673673629761, -0.41941362619400024, -0.4964127242565155, -0.6288137435913086, -0.5595633387565613, -0.5499772429466248, -0.599619448184967]}, {\"customdata\": [[\"are there any natural medicines for diabetes ?\", \"cure one natur type found\", 26], [\"is there ever a cure for type one or two diabetes ?\", \"cure one natur type found\", 26], [\"natural cure for diabetes ?\", \"cure one natur type found\", 26], [\"has a cure been found for diabetes ?\", \"cure one natur type found\", 26], [\"is there any treatment for cystic fibrosis ?\", \"cure one natur type found\", 26], [\"is there a cure for juvenile diabetes ?\", \"cure one natur type found\", 26], [\"how far has research come for a cure for diabetes ?\", \"cure one natur type found\", 26], [\"can you find a cure for diabetes ?\", \"cure one natur type found\", 26], [\"can you cure for diabetes ?\", \"cure one natur type found\", 26], [\"is there any way to cure diabetes ?\", \"cure one natur type found\", 26], [\"are there any cures to type one diabetes ?\", \"cure one natur type found\", 26], [\"are there any home remedies for diabetes ?\", \"cure one natur type found\", 26], [\"can homeopathy cure diabetes ?\", \"cure one natur type found\", 26], [\"is there a cure for blood diabetes ?\", \"cure one natur type found\", 26], [\"what products claim to be natural cures for diabetes ?\", \"cure one natur type found\", 26], [\"do neurologists help cure diabetes ?\", \"cure one natur type found\", 26], [\"are there any supplements for diabetes ?\", \"cure one natur type found\", 26], [\"has any one found a cure for diabetes ?\", \"cure one natur type found\", 26], [\"are there any natural herbs that can cure diabetes ?\", \"cure one natur type found\", 26], [\"is there gene therapy for cystic fibrosis ?\", \"cure one natur type found\", 26], [\"you need help finding a cure for <unk> your husband has been <unk> for eight years ?\", \"cure one natur type found\", 26], [\"are there any home remedies to treat diabetes ?\", \"cure one natur type found\", 26], [\"is there a cure for diabetes ?\", \"cure one natur type found\", 26], [\"why is there no cure for type one diabetes ?\", \"cure one natur type found\", 26], [\"can gene therapy cure type one diabetes ?\", \"cure one natur type found\", 26]], \"hovertemplate\": \"summary=%{customdata[1]}<br>pc_1=%{x}<br>pc_2=%{y}<br>pc_3=%{z}<br>question=%{customdata[0]}<br>label=%{customdata[2]}<extra></extra>\", \"legendgroup\": \"cure one natur type found\", \"marker\": {\"color\": \"#FF97FF\", \"size\": 8, \"symbol\": \"circle\"}, \"mode\": \"markers\", \"name\": \"cure one natur type found\", \"scene\": \"scene\", \"showlegend\": true, \"type\": \"scatter3d\", \"x\": [-0.1487809270620346, -0.3534334599971771, -0.20436114072799683, -0.25808170437812805, -0.3477343022823334, -0.3012620508670807, -0.2758764624595642, -0.29329994320869446, -0.2268601357936859, -0.32290223240852356, -0.3576769530773163, -0.1391828954219818, -0.18460309505462646, -0.25445568561553955, -0.16843920946121216, -0.1738642454147339, -0.1552562564611435, -0.2869301736354828, -0.1702197641134262, -0.3902420699596405, -0.25796762108802795, -0.13615073263645172, -0.2744445204734802, -0.33775952458381653, -0.4029657244682312], \"y\": [0.13773618638515472, 0.04710984602570534, 0.07109537720680237, 0.09304310381412506, 0.06645965576171875, 0.008899359032511711, 0.13364647328853607, 0.10017003118991852, 0.03773533180356026, 0.01768265664577484, -0.005861139390617609, 0.16832509636878967, 0.04521431401371956, 0.0019062352366745472, 0.07588378340005875, 0.014391294680535793, 0.18133167922496796, 0.08236716687679291, 0.10400436073541641, 0.07262345403432846, 0.12178192287683487, 0.1481185257434845, 0.02595457248389721, 0.02054007351398468, 0.055099647492170334], \"z\": [0.7195680141448975, 0.7385470271110535, 0.7689027786254883, 0.7651686668395996, 0.8557839393615723, 0.8312952518463135, 0.7617544531822205, 0.6766918301582336, 0.8408516049385071, 0.689177393913269, 0.7707027196884155, 0.796813428401947, 0.8296263217926025, 0.7625635862350464, 0.7262378334999084, 0.8619648814201355, 0.8239970803260803, 0.7767543792724609, 0.7974125146865845, 0.8384873867034912, 0.7073224186897278, 0.7625444531440735, 0.7833449840545654, 0.7861105799674988, 0.7887439131736755]}, {\"customdata\": [[\"what effect does glucagon has on blood sugar levels ?\", \"blood sugar level affect effect\", 39], [\"why does giving steroids increase blood sugar level ?\", \"blood sugar level affect effect\", 39], [\"does blood loss affect blood sugar ?\", \"blood sugar level affect effect\", 39], [\"does your head hurt when blood sugar is high ?\", \"blood sugar level affect effect\", 39], [\"does adrenaline increase blood sugar ?\", \"blood sugar level affect effect\", 39], [\"does alcohol affect blood sugar levels ?\", \"blood sugar level affect effect\", 39], [\"could <unk> and soft drink raise blood sugar level ?\", \"blood sugar level affect effect\", 39], [\"does gin and tonic affect blood sugar levels ?\", \"blood sugar level affect effect\", 39], [\"does drinking scotch raise your blood sugar ?\", \"blood sugar level affect effect\", 39], [\"does fructose have a strong effect on blood sugar ?\", \"blood sugar level affect effect\", 39], [\"will high sugar make you sleepy ?\", \"blood sugar level affect effect\", 39], [\"does the <unk> vaccine affect blood sugars of diabetics ?\", \"blood sugar level affect effect\", 39], [\"does taking vitamin c increase your blood sugar level ?\", \"blood sugar level affect effect\", 39], [\"does novocaine affect your blood sugar ?\", \"blood sugar level affect effect\", 39], [\"does sleep effect blood sugar ?\", \"blood sugar level affect effect\", 39]], \"hovertemplate\": \"summary=%{customdata[1]}<br>pc_1=%{x}<br>pc_2=%{y}<br>pc_3=%{z}<br>question=%{customdata[0]}<br>label=%{customdata[2]}<extra></extra>\", \"legendgroup\": \"blood sugar level affect effect\", \"marker\": {\"color\": \"#FECB52\", \"size\": 8, \"symbol\": \"circle\"}, \"mode\": \"markers\", \"name\": \"blood sugar level affect effect\", \"scene\": \"scene\", \"showlegend\": true, \"type\": \"scatter3d\", \"x\": [0.48863035440444946, 0.4981054961681366, 0.5164018869400024, 0.47825661301612854, 0.4544721245765686, 0.40832483768463135, 0.4165765047073364, 0.4113709032535553, 0.38773220777511597, 0.36790701746940613, 0.39485204219818115, 0.47682222723960876, 0.5101256966590881, 0.45401421189308167, 0.45317962765693665], \"y\": [0.24986392259597778, 0.29470428824424744, 0.15627984702587128, 0.14304301142692566, 0.2628217339515686, 0.21813122928142548, 0.2567466199398041, 0.2185078114271164, 0.28236329555511475, 0.2205655872821808, 0.232609361410141, 0.14759691059589386, 0.3225790560245514, 0.1882549673318863, 0.21619091928005219], \"z\": [-0.047589294612407684, 0.03306930884718895, -0.022911394014954567, -0.058539267629384995, 0.040539588779211044, 0.13988497853279114, 0.07333322614431381, 0.09154354780912399, 0.08830145746469498, 0.02873135358095169, -0.06361935287714005, 0.0737498551607132, 0.001388768432661891, 0.02111157216131687, -0.0009167982498183846]}, {\"customdata\": [[\"what is the definition of high in fats ?\", \"definit high fat dibeti ii\", 38], [\"what is dibeties ?\", \"definit high fat dibeti ii\", 38], [\"what is <unk> ii ?\", \"definit high fat dibeti ii\", 38], [\"what is <unk> ?\", \"definit high fat dibeti ii\", 38], [\"what is pre-diabetes ?\", \"definit high fat dibeti ii\", 38], [\"what is <unk> ?\", \"definit high fat dibeti ii\", 38], [\"what is the difference between antibiotics and <unk> ?\", \"definit high fat dibeti ii\", 38], [\"what is diabtetes ?\", \"definit high fat dibeti ii\", 38], [\"what is the opposite of lethargy ?\", \"definit high fat dibeti ii\", 38], [\"what is <unk> <unk> ?\", \"definit high fat dibeti ii\", 38], [\"what is a gland not working in a diabetic ?\", \"definit high fat dibeti ii\", 38], [\"what is the diff between diabetes one and two ?\", \"definit high fat dibeti ii\", 38], [\"what is <unk> <unk> ?\", \"definit high fat dibeti ii\", 38]], \"hovertemplate\": \"summary=%{customdata[1]}<br>pc_1=%{x}<br>pc_2=%{y}<br>pc_3=%{z}<br>question=%{customdata[0]}<br>label=%{customdata[2]}<extra></extra>\", \"legendgroup\": \"definit high fat dibeti ii\", \"marker\": {\"color\": \"#636efa\", \"size\": 8, \"symbol\": \"circle\"}, \"mode\": \"markers\", \"name\": \"definit high fat dibeti ii\", \"scene\": \"scene\", \"showlegend\": true, \"type\": \"scatter3d\", \"x\": [0.09911108762025833, 0.03387854993343353, 0.09802345186471939, 0.02369886450469494, -0.02679998241364956, -0.044624339789152145, -0.016065947711467743, 0.0697762593626976, 0.017409702762961388, 0.043076638132333755, 0.09643537551164627, -0.0057380483485758305, 0.06451653689146042], \"y\": [-0.5690275430679321, -0.5440741777420044, -0.5460516810417175, -0.5777376890182495, -0.617213785648346, -0.6327089667320251, -0.550870954990387, -0.5578256845474243, -0.6410945653915405, -0.5418306589126587, -0.4792414903640747, -0.5051999688148499, -0.5136803984642029], \"z\": [-0.2591696083545685, -0.16795560717582703, -0.12953291833400726, -0.19537745416164398, -0.20866860449314117, -0.22792404890060425, -0.2573111355304718, -0.1880417913198471, -0.16752013564109802, -0.21675404906272888, -0.2595744729042053, -0.19674450159072876, -0.18556222319602966]}, {\"customdata\": [[\"how many people currently have diabetes ?\", \"mani peopl suffer current us\", 24], [\"out of how many how may people have diabetes in us ?\", \"mani peopl suffer current us\", 24], [\"how many children in the us have type two diabetes ?\", \"mani peopl suffer current us\", 24], [\"how many kids die from diabetes ?\", \"mani peopl suffer current us\", 24], [\"how many suffer from diabetes ?\", \"mani peopl suffer current us\", 24], [\"how many people die from type two diabetes each year world wide ?\", \"mani peopl suffer current us\", 24], [\"how many people are diagnosed with diabetes every year ?\", \"mani peopl suffer current us\", 24], [\"how old are most people who get diabetes ?\", \"mani peopl suffer current us\", 24], [\"how many people have diabetes in the world ?\", \"mani peopl suffer current us\", 24], [\"in every ten people how many have diabetes ?\", \"mani peopl suffer current us\", 24], [\"why are so many people getting diabetes now then in past years ?\", \"mani peopl suffer current us\", 24], [\"how many people currently have diabetes in canada ?\", \"mani peopl suffer current us\", 24], [\"how many people currently have diabetes in <unk> ?\", \"mani peopl suffer current us\", 24], [\"how many people in uk suffer with diabetes ?\", \"mani peopl suffer current us\", 24], [\"how many people in the us are suffering from diabetes ?\", \"mani peopl suffer current us\", 24], [\"who are some famous people or people who have made major <unk> to society who suffered from diabetes ?\", \"mani peopl suffer current us\", 24], [\"how many americans die <unk> from diabetes and its complications ?\", \"mani peopl suffer current us\", 24]], \"hovertemplate\": \"summary=%{customdata[1]}<br>pc_1=%{x}<br>pc_2=%{y}<br>pc_3=%{z}<br>question=%{customdata[0]}<br>label=%{customdata[2]}<extra></extra>\", \"legendgroup\": \"mani peopl suffer current us\", \"marker\": {\"color\": \"#EF553B\", \"size\": 8, \"symbol\": \"circle\"}, \"mode\": \"markers\", \"name\": \"mani peopl suffer current us\", \"scene\": \"scene\", \"showlegend\": true, \"type\": \"scatter3d\", \"x\": [0.02959573082625866, 0.005121869966387749, -0.04672845080494881, 0.03762563318014145, 0.03147882968187332, -0.0574357807636261, 0.1253899484872818, 0.08070005476474762, 0.05243217945098877, 0.0769214928150177, 0.11061985045671463, -0.011425225995481014, 0.03507554531097412, -0.07679618149995804, -0.017420487478375435, -0.043907925486564636, -0.012274526990950108], \"y\": [-0.22802045941352844, -0.2663358151912689, -0.3185950219631195, -0.16672192513942719, -0.20259630680084229, -0.29234281182289124, -0.22766751050949097, -0.1808009296655655, -0.28316110372543335, -0.2678941488265991, -0.22309599816799164, -0.24019137024879456, -0.236252099275589, -0.22496376931667328, -0.23762930929660797, -0.1778147667646408, -0.2115631252527237], \"z\": [0.5594545006752014, 0.5131439566612244, 0.5122207403182983, 0.4721605181694031, 0.4474155604839325, 0.5687543749809265, 0.5613072514533997, 0.5570273399353027, 0.5628624558448792, 0.5894227623939514, 0.5295599699020386, 0.5910547375679016, 0.5927289128303528, 0.49777281284332275, 0.49412673711776733, 0.5678933262825012, 0.4471316337585449]}, {\"customdata\": [[\"are diabetics <unk> ?\", \"insulin take doctor claim money\", 31], [\"can diabetics have a <unk> ?\", \"insulin take doctor claim money\", 31], [\"can diabetics be <unk> ?\", \"insulin take doctor claim money\", 31], [\"can diabetics on insulin take <unk> ?\", \"insulin take doctor claim money\", 31], [\"can diabetics be doctors ?\", \"insulin take doctor claim money\", 31], [\"are there diabetic <unk> ?\", \"insulin take doctor claim money\", 31], [\"can you claim any money if you are a diabetic ?\", \"insulin take doctor claim money\", 31], [\"can diabetics be <unk> ?\", \"insulin take doctor claim money\", 31], [\"can diabetics who have herpes live ?\", \"insulin take doctor claim money\", 31], [\"can diabetics use <unk> ?\", \"insulin take doctor claim money\", 31]], \"hovertemplate\": \"summary=%{customdata[1]}<br>pc_1=%{x}<br>pc_2=%{y}<br>pc_3=%{z}<br>question=%{customdata[0]}<br>label=%{customdata[2]}<extra></extra>\", \"legendgroup\": \"insulin take doctor claim money\", \"marker\": {\"color\": \"#00cc96\", \"size\": 8, \"symbol\": \"circle\"}, \"mode\": \"markers\", \"name\": \"insulin take doctor claim money\", \"scene\": \"scene\", \"showlegend\": true, \"type\": \"scatter3d\", \"x\": [-0.19815097749233246, -0.22324909269809723, -0.19940496981143951, -0.12903834879398346, -0.23346032202243805, -0.23130744695663452, -0.2810264825820923, -0.22519446909427643, -0.15551739931106567, -0.1243661567568779], \"y\": [0.4056897759437561, 0.27077358961105347, 0.32415369153022766, 0.3090640902519226, 0.33022698760032654, 0.39830148220062256, 0.3113647401332855, 0.316704124212265, 0.29008692502975464, 0.3414469361305237], \"z\": [0.381846159696579, 0.3975214660167694, 0.39438584446907043, 0.4544598162174225, 0.46283864974975586, 0.34433865547180176, 0.36374735832214355, 0.3992965519428253, 0.344519704580307, 0.3816985785961151]}, {\"customdata\": [[\"can you suggest a reliable diabetes center in india ?\", \"test blood diagnos aid determin\", 37], [\"test is performed to confirm a diagnosis of diabetes mellitus and to aid in diagnosing hypoglycemia ?\", \"test blood diagnos aid determin\", 37], [\"how can a doctor determine the type of diabetes one may have just from a sample of blood ?\", \"test blood diagnos aid determin\", 37], [\"test for diabetes ?\", \"test blood diagnos aid determin\", 37], [\"which test is used as an aid in diagnosing diabetes ?\", \"test blood diagnos aid determin\", 37], [\"tests for diabetes ?\", \"test blood diagnos aid determin\", 37], [\"what are the release dates for project not me diabetes prevention - two thousand and twelve taking <unk> <unk> ?\", \"test blood diagnos aid determin\", 37], [\"blood tests for diabetes ?\", \"test blood diagnos aid determin\", 37], [\"how are <unk> tests used in diagnosing pain ?\", \"test blood diagnos aid determin\", 37], [\"which finding on a urinalysis is commonly due to diabetes ?\", \"test blood diagnos aid determin\", 37], [\"can x-ray detect diabetes ?\", \"test blood diagnos aid determin\", 37], [\"what is ac test for diabetes ?\", \"test blood diagnos aid determin\", 37], [\"how do you fake a diabetes test ?\", \"test blood diagnos aid determin\", 37], [\"can blood tests determine diabetes ?\", \"test blood diagnos aid determin\", 37], [\"<unk> - <unk> c did your blood test high for diabetes ?\", \"test blood diagnos aid determin\", 37], [\"i got twenty two on my diabetes test . what does that mean ?\", \"test blood diagnos aid determin\", 37], [\"do you always have to test you <unk> dr did not tell my <unk> to test is that normal ?\", \"test blood diagnos aid determin\", 37]], \"hovertemplate\": \"summary=%{customdata[1]}<br>pc_1=%{x}<br>pc_2=%{y}<br>pc_3=%{z}<br>question=%{customdata[0]}<br>label=%{customdata[2]}<extra></extra>\", \"legendgroup\": \"test blood diagnos aid determin\", \"marker\": {\"color\": \"#ab63fa\", \"size\": 8, \"symbol\": \"circle\"}, \"mode\": \"markers\", \"name\": \"test blood diagnos aid determin\", \"scene\": \"scene\", \"showlegend\": true, \"type\": \"scatter3d\", \"x\": [-0.07801670581102371, -0.024732070043683052, -0.00010596008360153064, 0.05724920704960823, -0.05316988006234169, -0.00017155494424514472, 0.08662667125463486, 0.016406822949647903, 0.025546714663505554, -0.07339823246002197, -0.013832172378897667, 0.004506781697273254, -0.017902789637446404, 0.04040500894188881, 0.03799701854586601, 0.0707801952958107, 0.08812040090560913], \"y\": [-0.036167144775390625, -0.0032706456258893013, 0.008891211822628975, -0.11440963298082352, -0.0287808608263731, -0.0711425393819809, -0.003923655021935701, -0.05753606557846069, -0.1154448390007019, -0.09028899669647217, -0.08816763758659363, -0.11951733380556107, -0.04720388725399971, -0.0637497529387474, -0.048709314316511154, 0.016681812703609467, -0.026475446298718452], \"z\": [-0.6083455085754395, -0.6807442903518677, -0.5426721572875977, -0.7321913838386536, -0.7208859324455261, -0.6755335927009583, -0.7928811311721802, -0.650424063205719, -0.6006329655647278, -0.6683281660079956, -0.5758100748062134, -0.6982998847961426, -0.6069521307945251, -0.6077309250831604, -0.7213727831840515, -0.6811386346817017, -0.6535012722015381]}, {\"customdata\": [[\"diabetic menus ?\", \"diet menu food safe plan\", 30], [\"make diabetic diet food your friend ?\", \"diet menu food safe plan\", 30], [\"do restaurants carry diabetic diet menus ?\", \"diet menu food safe plan\", 30], [\"creating your own diabetic dessert ?\", \"diet menu food safe plan\", 30], [\"a safe diabetic meal plan ?\", \"diet menu food safe plan\", 30], [\"what does a diabetic diet include and exclude ?\", \"diet menu food safe plan\", 30], [\"safe diabetic diet plans ?\", \"diet menu food safe plan\", 30], [\"what are the best diabetic diet foods i can give a fifteen year old growing girl ?\", \"diet menu food safe plan\", 30], [\"what would a diabetics diet menu consist of ?\", \"diet menu food safe plan\", 30]], \"hovertemplate\": \"summary=%{customdata[1]}<br>pc_1=%{x}<br>pc_2=%{y}<br>pc_3=%{z}<br>question=%{customdata[0]}<br>label=%{customdata[2]}<extra></extra>\", \"legendgroup\": \"diet menu food safe plan\", \"marker\": {\"color\": \"#FFA15A\", \"size\": 8, \"symbol\": \"circle\"}, \"mode\": \"markers\", \"name\": \"diet menu food safe plan\", \"scene\": \"scene\", \"showlegend\": true, \"type\": \"scatter3d\", \"x\": [-0.10540089011192322, -0.0672101303935051, -0.11033610254526138, -0.04603458195924759, -0.12776751816272736, -0.11201164126396179, -0.14035913348197937, -0.05673849955201149, -0.16856922209262848], \"y\": [0.70524662733078, 0.7482947707176208, 0.7437804937362671, 0.7186715006828308, 0.6291226148605347, 0.6889145374298096, 0.6539208889007568, 0.6518212556838989, 0.757710874080658], \"z\": [0.04929303750395775, 0.10269621759653091, 0.02746618539094925, 0.10848067700862885, 0.09490440785884857, 0.1306525468826294, 0.12182736396789551, 0.003678262699395418, 0.09451589733362198]}],                        {\"height\": 500, \"legend\": {\"itemclick\": \"toggleothers\", \"title\": {\"text\": \"Cluster Summaries\"}, \"tracegroupgap\": 0}, \"margin\": {\"t\": 60}, \"scene\": {\"domain\": {\"x\": [0.0, 1.0], \"y\": [0.0, 1.0]}, \"xaxis\": {\"title\": {\"text\": \"pc_1\"}}, \"yaxis\": {\"title\": {\"text\": \"pc_2\"}}, \"zaxis\": {\"title\": {\"text\": \"pc_3\"}}}, \"template\": {\"data\": {\"bar\": [{\"error_x\": {\"color\": \"#2a3f5f\"}, \"error_y\": {\"color\": \"#2a3f5f\"}, \"marker\": {\"line\": {\"color\": \"#E5ECF6\", \"width\": 0.5}}, \"type\": \"bar\"}], \"barpolar\": [{\"marker\": {\"line\": {\"color\": \"#E5ECF6\", \"width\": 0.5}}, \"type\": \"barpolar\"}], \"carpet\": [{\"aaxis\": {\"endlinecolor\": \"#2a3f5f\", \"gridcolor\": \"white\", \"linecolor\": \"white\", \"minorgridcolor\": \"white\", \"startlinecolor\": \"#2a3f5f\"}, \"baxis\": {\"endlinecolor\": \"#2a3f5f\", \"gridcolor\": \"white\", \"linecolor\": \"white\", \"minorgridcolor\": \"white\", \"startlinecolor\": \"#2a3f5f\"}, \"type\": \"carpet\"}], \"choropleth\": [{\"colorbar\": {\"outlinewidth\": 0, \"ticks\": \"\"}, \"type\": \"choropleth\"}], \"contour\": [{\"colorbar\": {\"outlinewidth\": 0, \"ticks\": \"\"}, \"colorscale\": [[0.0, \"#0d0887\"], [0.1111111111111111, \"#46039f\"], [0.2222222222222222, \"#7201a8\"], [0.3333333333333333, \"#9c179e\"], [0.4444444444444444, \"#bd3786\"], [0.5555555555555556, \"#d8576b\"], [0.6666666666666666, \"#ed7953\"], [0.7777777777777778, \"#fb9f3a\"], [0.8888888888888888, \"#fdca26\"], [1.0, \"#f0f921\"]], \"type\": \"contour\"}], \"contourcarpet\": [{\"colorbar\": {\"outlinewidth\": 0, \"ticks\": \"\"}, \"type\": \"contourcarpet\"}], \"heatmap\": [{\"colorbar\": {\"outlinewidth\": 0, \"ticks\": \"\"}, \"colorscale\": [[0.0, \"#0d0887\"], [0.1111111111111111, \"#46039f\"], [0.2222222222222222, \"#7201a8\"], [0.3333333333333333, \"#9c179e\"], [0.4444444444444444, \"#bd3786\"], [0.5555555555555556, \"#d8576b\"], [0.6666666666666666, \"#ed7953\"], [0.7777777777777778, \"#fb9f3a\"], [0.8888888888888888, \"#fdca26\"], [1.0, \"#f0f921\"]], \"type\": \"heatmap\"}], \"heatmapgl\": [{\"colorbar\": {\"outlinewidth\": 0, \"ticks\": \"\"}, \"colorscale\": [[0.0, \"#0d0887\"], [0.1111111111111111, \"#46039f\"], [0.2222222222222222, \"#7201a8\"], [0.3333333333333333, \"#9c179e\"], [0.4444444444444444, \"#bd3786\"], [0.5555555555555556, \"#d8576b\"], [0.6666666666666666, \"#ed7953\"], [0.7777777777777778, \"#fb9f3a\"], [0.8888888888888888, \"#fdca26\"], [1.0, \"#f0f921\"]], \"type\": \"heatmapgl\"}], \"histogram\": [{\"marker\": {\"colorbar\": {\"outlinewidth\": 0, \"ticks\": \"\"}}, \"type\": \"histogram\"}], \"histogram2d\": [{\"colorbar\": {\"outlinewidth\": 0, \"ticks\": \"\"}, \"colorscale\": [[0.0, \"#0d0887\"], [0.1111111111111111, \"#46039f\"], [0.2222222222222222, \"#7201a8\"], [0.3333333333333333, \"#9c179e\"], [0.4444444444444444, \"#bd3786\"], [0.5555555555555556, \"#d8576b\"], [0.6666666666666666, \"#ed7953\"], [0.7777777777777778, \"#fb9f3a\"], [0.8888888888888888, \"#fdca26\"], [1.0, \"#f0f921\"]], \"type\": \"histogram2d\"}], \"histogram2dcontour\": [{\"colorbar\": {\"outlinewidth\": 0, \"ticks\": \"\"}, \"colorscale\": [[0.0, \"#0d0887\"], [0.1111111111111111, \"#46039f\"], [0.2222222222222222, \"#7201a8\"], [0.3333333333333333, \"#9c179e\"], [0.4444444444444444, \"#bd3786\"], [0.5555555555555556, \"#d8576b\"], [0.6666666666666666, \"#ed7953\"], [0.7777777777777778, \"#fb9f3a\"], [0.8888888888888888, \"#fdca26\"], [1.0, \"#f0f921\"]], \"type\": \"histogram2dcontour\"}], \"mesh3d\": [{\"colorbar\": {\"outlinewidth\": 0, \"ticks\": \"\"}, \"type\": \"mesh3d\"}], \"parcoords\": [{\"line\": {\"colorbar\": {\"outlinewidth\": 0, \"ticks\": \"\"}}, \"type\": \"parcoords\"}], \"pie\": [{\"automargin\": true, \"type\": \"pie\"}], \"scatter\": [{\"marker\": {\"colorbar\": {\"outlinewidth\": 0, \"ticks\": \"\"}}, \"type\": \"scatter\"}], \"scatter3d\": [{\"line\": {\"colorbar\": {\"outlinewidth\": 0, \"ticks\": \"\"}}, \"marker\": {\"colorbar\": {\"outlinewidth\": 0, \"ticks\": \"\"}}, \"type\": \"scatter3d\"}], \"scattercarpet\": [{\"marker\": {\"colorbar\": {\"outlinewidth\": 0, \"ticks\": \"\"}}, \"type\": \"scattercarpet\"}], \"scattergeo\": [{\"marker\": {\"colorbar\": {\"outlinewidth\": 0, \"ticks\": \"\"}}, \"type\": \"scattergeo\"}], \"scattergl\": [{\"marker\": {\"colorbar\": {\"outlinewidth\": 0, \"ticks\": \"\"}}, \"type\": \"scattergl\"}], \"scattermapbox\": [{\"marker\": {\"colorbar\": {\"outlinewidth\": 0, \"ticks\": \"\"}}, \"type\": \"scattermapbox\"}], \"scatterpolar\": [{\"marker\": {\"colorbar\": {\"outlinewidth\": 0, \"ticks\": \"\"}}, \"type\": \"scatterpolar\"}], \"scatterpolargl\": [{\"marker\": {\"colorbar\": {\"outlinewidth\": 0, \"ticks\": \"\"}}, \"type\": \"scatterpolargl\"}], \"scatterternary\": [{\"marker\": {\"colorbar\": {\"outlinewidth\": 0, \"ticks\": \"\"}}, \"type\": \"scatterternary\"}], \"surface\": [{\"colorbar\": {\"outlinewidth\": 0, \"ticks\": \"\"}, \"colorscale\": [[0.0, \"#0d0887\"], [0.1111111111111111, \"#46039f\"], [0.2222222222222222, \"#7201a8\"], [0.3333333333333333, \"#9c179e\"], [0.4444444444444444, \"#bd3786\"], [0.5555555555555556, \"#d8576b\"], [0.6666666666666666, \"#ed7953\"], [0.7777777777777778, \"#fb9f3a\"], [0.8888888888888888, \"#fdca26\"], [1.0, \"#f0f921\"]], \"type\": \"surface\"}], \"table\": [{\"cells\": {\"fill\": {\"color\": \"#EBF0F8\"}, \"line\": {\"color\": \"white\"}}, \"header\": {\"fill\": {\"color\": \"#C8D4E3\"}, \"line\": {\"color\": \"white\"}}, \"type\": \"table\"}]}, \"layout\": {\"annotationdefaults\": {\"arrowcolor\": \"#2a3f5f\", \"arrowhead\": 0, \"arrowwidth\": 1}, \"autotypenumbers\": \"strict\", \"coloraxis\": {\"colorbar\": {\"outlinewidth\": 0, \"ticks\": \"\"}}, \"colorscale\": {\"diverging\": [[0, \"#8e0152\"], [0.1, \"#c51b7d\"], [0.2, \"#de77ae\"], [0.3, \"#f1b6da\"], [0.4, \"#fde0ef\"], [0.5, \"#f7f7f7\"], [0.6, \"#e6f5d0\"], [0.7, \"#b8e186\"], [0.8, \"#7fbc41\"], [0.9, \"#4d9221\"], [1, \"#276419\"]], \"sequential\": [[0.0, \"#0d0887\"], [0.1111111111111111, \"#46039f\"], [0.2222222222222222, \"#7201a8\"], [0.3333333333333333, \"#9c179e\"], [0.4444444444444444, \"#bd3786\"], [0.5555555555555556, \"#d8576b\"], [0.6666666666666666, \"#ed7953\"], [0.7777777777777778, \"#fb9f3a\"], [0.8888888888888888, \"#fdca26\"], [1.0, \"#f0f921\"]], \"sequentialminus\": [[0.0, \"#0d0887\"], [0.1111111111111111, \"#46039f\"], [0.2222222222222222, \"#7201a8\"], [0.3333333333333333, \"#9c179e\"], [0.4444444444444444, \"#bd3786\"], [0.5555555555555556, \"#d8576b\"], [0.6666666666666666, \"#ed7953\"], [0.7777777777777778, \"#fb9f3a\"], [0.8888888888888888, \"#fdca26\"], [1.0, \"#f0f921\"]]}, \"colorway\": [\"#636efa\", \"#EF553B\", \"#00cc96\", \"#ab63fa\", \"#FFA15A\", \"#19d3f3\", \"#FF6692\", \"#B6E880\", \"#FF97FF\", \"#FECB52\"], \"font\": {\"color\": \"#2a3f5f\"}, \"geo\": {\"bgcolor\": \"white\", \"lakecolor\": \"white\", \"landcolor\": \"#E5ECF6\", \"showlakes\": true, \"showland\": true, \"subunitcolor\": \"white\"}, \"hoverlabel\": {\"align\": \"left\"}, \"hovermode\": \"closest\", \"mapbox\": {\"style\": \"light\"}, \"paper_bgcolor\": \"white\", \"plot_bgcolor\": \"#E5ECF6\", \"polar\": {\"angularaxis\": {\"gridcolor\": \"white\", \"linecolor\": \"white\", \"ticks\": \"\"}, \"bgcolor\": \"#E5ECF6\", \"radialaxis\": {\"gridcolor\": \"white\", \"linecolor\": \"white\", \"ticks\": \"\"}}, \"scene\": {\"xaxis\": {\"backgroundcolor\": \"#E5ECF6\", \"gridcolor\": \"white\", \"gridwidth\": 2, \"linecolor\": \"white\", \"showbackground\": true, \"ticks\": \"\", \"zerolinecolor\": \"white\"}, \"yaxis\": {\"backgroundcolor\": \"#E5ECF6\", \"gridcolor\": \"white\", \"gridwidth\": 2, \"linecolor\": \"white\", \"showbackground\": true, \"ticks\": \"\", \"zerolinecolor\": \"white\"}, \"zaxis\": {\"backgroundcolor\": \"#E5ECF6\", \"gridcolor\": \"white\", \"gridwidth\": 2, \"linecolor\": \"white\", \"showbackground\": true, \"ticks\": \"\", \"zerolinecolor\": \"white\"}}, \"shapedefaults\": {\"line\": {\"color\": \"#2a3f5f\"}}, \"ternary\": {\"aaxis\": {\"gridcolor\": \"white\", \"linecolor\": \"white\", \"ticks\": \"\"}, \"baxis\": {\"gridcolor\": \"white\", \"linecolor\": \"white\", \"ticks\": \"\"}, \"bgcolor\": \"#E5ECF6\", \"caxis\": {\"gridcolor\": \"white\", \"linecolor\": \"white\", \"ticks\": \"\"}}, \"title\": {\"x\": 0.05}, \"xaxis\": {\"automargin\": true, \"gridcolor\": \"white\", \"linecolor\": \"white\", \"ticks\": \"\", \"title\": {\"standoff\": 15}, \"zerolinecolor\": \"white\", \"zerolinewidth\": 2}, \"yaxis\": {\"automargin\": true, \"gridcolor\": \"white\", \"linecolor\": \"white\", \"ticks\": \"\", \"title\": {\"standoff\": 15}, \"zerolinecolor\": \"white\", \"zerolinewidth\": 2}}}, \"title\": {\"text\": \"Projected Feature Space of Validation Questions\"}},                        {\"responsive\": true}                    ).then(function(){\n",
       "                            \n",
       "var gd = document.getElementById('2a027dab-ff87-47ad-8929-05e852cc41f3');\n",
       "var x = new MutationObserver(function (mutations, observer) {{\n",
       "        var display = window.getComputedStyle(gd).display;\n",
       "        if (!display || display === 'none') {{\n",
       "            console.log([gd, 'removed!']);\n",
       "            Plotly.purge(gd);\n",
       "            observer.disconnect();\n",
       "        }}\n",
       "}});\n",
       "\n",
       "// Listen for the removal of the full notebook cells\n",
       "var notebookContainer = gd.closest('#notebook-container');\n",
       "if (notebookContainer) {{\n",
       "    x.observe(notebookContainer, {childList: true});\n",
       "}}\n",
       "\n",
       "// Listen for the clearing of the current output cell\n",
       "var outputEl = gd.closest('.output');\n",
       "if (outputEl) {{\n",
       "    x.observe(outputEl, {childList: true});\n",
       "}}\n",
       "\n",
       "                        })                };                });            </script>        </div>"
      ]
     },
     "metadata": {},
     "output_type": "display_data"
    }
   ],
   "source": [
    "fig = px.scatter_3d(\n",
    "    df[df['label'] != -1], x='pc_1', y='pc_2', z='pc_3', color='summary', \n",
    "    hover_data=['question', 'summary', 'label'])\n",
    "fig.update_traces(marker_size=8)\n",
    "fig.update_layout(\n",
    "    title='Projected Feature Space of Validation Questions',\n",
    "    legend={'title': 'Cluster Summaries', 'itemclick': 'toggleothers'},\n",
    "    height=500,\n",
    ")\n",
    "fig.show()"
   ]
  },
  {
   "cell_type": "markdown",
   "metadata": {},
   "source": [
    "#### 6. Plot Cluster Label Distribution\n",
    "\n",
    "To get another perspective on the validation question clusters, we plot below the percent-weighted histogram of the non-outlier cluster labels. This gives us a sampled distributional view of the \"core\" topics in which users ask questions about within this domain, allowing us to make an estimates on the expected relative frequency of seeing these question topics in the data-source forum. "
   ]
  },
  {
   "cell_type": "code",
   "execution_count": 84,
   "metadata": {},
   "outputs": [
    {
     "data": {
      "application/vnd.plotly.v1+json": {
       "config": {
        "plotlyServerURL": "https://plot.ly"
       },
       "data": [
        {
         "alignmentgroup": "True",
         "bingroup": "x",
         "histnorm": "percent",
         "hovertemplate": "summary=%{x}<br>count=%{y}<extra></extra>",
         "legendgroup": "",
         "marker": {
          "color": "#636efa"
         },
         "name": "",
         "nbinsx": 46,
         "offsetgroup": "",
         "orientation": "v",
         "showlegend": false,
         "type": "histogram",
         "x": [
          "type one two caus mellitu",
          "effect caus side urin frequent",
          "insulin inject use type human",
          "type mean definit two dignos",
          "effect caus side urin frequent",
          "symptom sign blood sugar low",
          "patient use take get give",
          "sugar blood one type insulin",
          "good patient sugar honey bad",
          "diseas communic type curabl chronic",
          "get pregnant without affect join",
          "find recip food diet list",
          "type one two caus mellitu",
          "treatment take major symptom health",
          "nick jona brother get miley",
          "four complic system",
          "drink alcohol milk type two",
          "symptom sign blood sugar low",
          "insulin inject use type human",
          "find recip food diet list",
          "patient use take get give",
          "symptom sign blood sugar low",
          "nick jona brother get miley",
          "caus mellitu type one two",
          "gestat pregnanc occur pregnant women",
          "find recip food diet list",
          "glucos blood level control insulin",
          "symptom sign blood sugar low",
          "four complic system",
          "research done sun soup scientist",
          "blood sugar level consid eat",
          "hundr blood one sugar level",
          "normal blood level sugar glucos",
          "affect system bodi effect type",
          "treatment take major symptom health",
          "glucos blood level control insulin",
          "normal blood level sugar glucos",
          "blood level featur ketosi hypoglcemia",
          "nick jona brother get miley",
          "sugar blood one type insulin",
          "patient use take get give",
          "caus mellitu type one two",
          "hundr blood one sugar level",
          "find recip food diet list",
          "type one two caus mellitu",
          "eat food type avoid fruit",
          "type one two caus mellitu",
          "insulin inject use type human",
          "type one two caus mellitu",
          "safe person work alon god",
          "get pregnant without affect join",
          "insulin glucos produc vitamin rais",
          "find recip food diet list",
          "good patient sugar honey bad",
          "treatment medic natur good remedi",
          "normal blood level sugar glucos",
          "type one two caus mellitu",
          "eat food type avoid fruit",
          "insulin inject use type human",
          "die lead caus peopl blood",
          "get pregnant without affect join",
          "find recip food diet list",
          "affect system bodi effect type",
          "sugar blood one type insulin",
          "might male frequent urin twin",
          "nick jona brother get miley",
          "find recip food diet list",
          "get wors kid tell cat",
          "insulin invent discov year frederick",
          "effect caus side urin frequent",
          "good patient sugar honey bad",
          "get pregnant without affect join",
          "sugar blood one type insulin",
          "find recip food diet list",
          "affect system bodi effect type",
          "diet type two plan good",
          "caus blood high sugar low",
          "safe person work alon god",
          "get type know two one",
          "sugar blood one type insulin",
          "eat food type avoid fruit",
          "normal blood level sugar glucos",
          "eat food type avoid fruit",
          "eat food type avoid fruit",
          "hundr blood one sugar level",
          "type one two caus mellitu",
          "drink alcohol milk type two",
          "find recip food diet list",
          "blood sugar low high level",
          "insulin inject use type human",
          "type one two caus mellitu",
          "glucos blood level control insulin",
          "nick jona brother get miley",
          "find recip food diet list",
          "insulin inject use type human",
          "get type know two one",
          "insulin inject use type human",
          "test blood sugar glucos fast",
          "affect system bodi effect type",
          "type one two caus mellitu",
          "affect system bodi effect type",
          "get wors kid tell cat",
          "effect caus side urin frequent",
          "type one two caus mellitu",
          "treatment take major symptom health",
          "type one two caus mellitu",
          "nick jona brother get miley",
          "diseas communic type curabl chronic",
          "normal blood level sugar glucos",
          "find recip food diet list",
          "eat food type avoid fruit",
          "get type know two one",
          "eat food type avoid fruit",
          "caus would finger feet ach",
          "caus would finger feet ach",
          "diet type two plan good",
          "effect caus side urin frequent",
          "find recip food diet list",
          "find recip food diet list",
          "eat food type avoid fruit",
          "glucos blood level control insulin",
          "hundr blood one sugar level",
          "find recip food diet list",
          "type mean definit two dignos",
          "normal blood level sugar glucos",
          "type one two caus mellitu",
          "caus blood high sugar low",
          "gestat pregnanc occur pregnant women",
          "caus would finger feet ach",
          "gestat pregnanc occur pregnant women",
          "blood level featur ketosi hypoglcemia",
          "research done sun soup scientist",
          "test blood sugar glucos fast",
          "glucos blood level control insulin",
          "cure one natur type found",
          "caus blood high sugar low",
          "diseas communic type curabl chronic",
          "drink alcohol milk type two",
          "drink alcohol milk type two",
          "sugar blood one type insulin",
          "drink alcohol milk type two",
          "treatment medic natur good remedi",
          "sugar blood one type insulin",
          "sugar blood one type insulin",
          "diseas communic type curabl chronic",
          "get type know two one",
          "drink alcohol milk type two",
          "nick jona brother get miley",
          "get type know two one",
          "diet type two plan good",
          "good patient sugar honey bad",
          "blood sugar level affect effect",
          "drink alcohol milk type two",
          "normal blood level sugar glucos",
          "nick jona brother get miley",
          "affect system bodi effect type",
          "get wors kid tell cat",
          "definit high fat dibeti ii",
          "cure one natur type found",
          "affect system bodi effect type",
          "symptom sign blood sugar low",
          "mani peopl suffer current us",
          "get wors kid tell cat",
          "diseas communic type curabl chronic",
          "caus blood high sugar low",
          "sugar blood one type insulin",
          "symptom sign blood sugar low",
          "caus blood high sugar low",
          "symptom sign blood sugar low",
          "get type know two one",
          "hundr blood one sugar level",
          "glucos blood level control insulin",
          "caus mellitu type one two",
          "blood sugar low high level",
          "type mean definit two dignos",
          "patient use take get give",
          "good patient sugar honey bad",
          "insulin inject use type human",
          "treatment take major symptom health",
          "mani peopl suffer current us",
          "affect system bodi effect type",
          "good patient sugar honey bad",
          "insulin inject use type human",
          "insulin inject use type human",
          "normal blood level sugar glucos",
          "eat food type avoid fruit",
          "glucos blood level control insulin",
          "type mean definit two dignos",
          "normal blood level sugar glucos",
          "hundr blood one sugar level",
          "normal blood level sugar glucos",
          "get pregnant without affect join",
          "insulin inject use type human",
          "blood level featur ketosi hypoglcemia",
          "eat food type avoid fruit",
          "type mean definit two dignos",
          "patient use take get give",
          "patient use take get give",
          "caus mellitu type one two",
          "safe person work alon god",
          "get type know two one",
          "diseas communic type curabl chronic",
          "mani peopl suffer current us",
          "affect system bodi effect type",
          "insulin glucos produc vitamin rais",
          "sugar blood one type insulin",
          "nick jona brother get miley",
          "find recip food diet list",
          "caus mellitu type one two",
          "find recip food diet list",
          "hundr blood one sugar level",
          "diet type two plan good",
          "good patient sugar honey bad",
          "definit high fat dibeti ii",
          "eat food type avoid fruit",
          "cure one natur type found",
          "insulin invent discov year frederick",
          "might male frequent urin twin",
          "find recip food diet list",
          "hundr blood one sugar level",
          "diseas communic type curabl chronic",
          "insulin inject use type human",
          "good patient sugar honey bad",
          "patient use take get give",
          "sugar blood one type insulin",
          "normal blood level sugar glucos",
          "cure one natur type found",
          "die lead caus peopl blood",
          "insulin take doctor claim money",
          "test blood sugar glucos fast",
          "diseas communic type curabl chronic",
          "hundr blood one sugar level",
          "research done sun soup scientist",
          "find recip food diet list",
          "patient use take get give",
          "effect caus side urin frequent",
          "eat food type avoid fruit",
          "symptom sign blood sugar low",
          "affect system bodi effect type",
          "insulin inject use type human",
          "cure one natur type found",
          "good patient sugar honey bad",
          "caus mellitu type one two",
          "insulin take doctor claim money",
          "treatment medic natur good remedi",
          "sugar blood one type insulin",
          "diseas communic type curabl chronic",
          "sugar blood one type insulin",
          "sugar blood one type insulin",
          "drink alcohol milk type two",
          "diseas communic type curabl chronic",
          "diet type two plan good",
          "normal blood level sugar glucos",
          "sugar blood one type insulin",
          "diseas communic type curabl chronic",
          "caus mellitu type one two",
          "normal blood level sugar glucos",
          "get pregnant without affect join",
          "symptom sign blood sugar low",
          "normal blood level sugar glucos",
          "insulin invent discov year frederick",
          "gestat pregnanc occur pregnant women",
          "find recip food diet list",
          "drink alcohol milk type two",
          "normal blood level sugar glucos",
          "blood sugar low high level",
          "might male frequent urin twin",
          "patient use take get give",
          "patient use take get give",
          "caus would finger feet ach",
          "diet type two plan good",
          "hundr blood one sugar level",
          "might male frequent urin twin",
          "symptom sign blood sugar low",
          "insulin inject use type human",
          "blood sugar level affect effect",
          "eat food type avoid fruit",
          "eat food type avoid fruit",
          "test blood diagnos aid determin",
          "normal blood level sugar glucos",
          "eat food type avoid fruit",
          "diet type two plan good",
          "get pregnant without affect join",
          "patient use take get give",
          "find recip food diet list",
          "die lead caus peopl blood",
          "effect caus side urin frequent",
          "sugar blood one type insulin",
          "caus would finger feet ach",
          "insulin inject use type human",
          "find recip food diet list",
          "normal blood level sugar glucos",
          "caus blood high sugar low",
          "find recip food diet list",
          "sugar blood one type insulin",
          "treatment medic natur good remedi",
          "test blood diagnos aid determin",
          "caus mellitu type one two",
          "diet menu food safe plan",
          "sugar blood one type insulin",
          "sugar blood one type insulin",
          "blood sugar level affect effect",
          "diet menu food safe plan",
          "safe person work alon god",
          "eat food type avoid fruit",
          "hundr blood one sugar level",
          "diet type two plan good",
          "affect system bodi effect type",
          "find recip food diet list",
          "diet type two plan good",
          "diet menu food safe plan",
          "get type know two one",
          "sugar blood one type insulin",
          "eat food type avoid fruit",
          "symptom sign blood sugar low",
          "blood sugar low high level",
          "normal blood level sugar glucos",
          "diet type two plan good",
          "four complic system",
          "find recip food diet list",
          "definit high fat dibeti ii",
          "nick jona brother get miley",
          "eat food type avoid fruit",
          "affect system bodi effect type",
          "nick jona brother get miley",
          "four complic system",
          "blood sugar low high level",
          "treatment medic natur good remedi",
          "type one two caus mellitu",
          "die lead caus peopl blood",
          "insulin take doctor claim money",
          "find recip food diet list",
          "die lead caus peopl blood",
          "nick jona brother get miley",
          "caus would finger feet ach",
          "nick jona brother get miley",
          "eat food type avoid fruit",
          "hundr blood one sugar level",
          "diet type two plan good",
          "treatment medic natur good remedi",
          "caus mellitu type one two",
          "normal blood level sugar glucos",
          "test blood diagnos aid determin",
          "get type know two one",
          "get pregnant without affect join",
          "effect caus side urin frequent",
          "find recip food diet list",
          "die lead caus peopl blood",
          "diet menu food safe plan",
          "diet type two plan good",
          "get wors kid tell cat",
          "hundr blood one sugar level",
          "caus blood high sugar low",
          "caus blood high sugar low",
          "eat food type avoid fruit",
          "eat food type avoid fruit",
          "find recip food diet list",
          "good patient sugar honey bad",
          "sugar blood one type insulin",
          "diet type two plan good",
          "glucos blood level control insulin",
          "type mean definit two dignos",
          "type mean definit two dignos",
          "find recip food diet list",
          "find recip food diet list",
          "diet type two plan good",
          "caus would finger feet ach",
          "cure one natur type found",
          "test blood diagnos aid determin",
          "sugar blood one type insulin",
          "get wors kid tell cat",
          "blood sugar low high level",
          "hundr blood one sugar level",
          "caus would finger feet ach",
          "might male frequent urin twin",
          "eat food type avoid fruit",
          "sugar blood one type insulin",
          "cure one natur type found",
          "sugar blood one type insulin",
          "find recip food diet list",
          "insulin inject use type human",
          "get type know two one",
          "find recip food diet list",
          "insulin inject use type human",
          "test blood sugar glucos fast",
          "sugar blood one type insulin",
          "sugar blood one type insulin",
          "insulin inject use type human",
          "effect caus side urin frequent",
          "type one two caus mellitu",
          "test blood diagnos aid determin",
          "effect caus side urin frequent",
          "mani peopl suffer current us",
          "eat food type avoid fruit",
          "normal blood level sugar glucos",
          "affect system bodi effect type",
          "blood sugar low high level",
          "type one two caus mellitu",
          "eat food type avoid fruit",
          "diet type two plan good",
          "effect caus side urin frequent",
          "nick jona brother get miley",
          "caus mellitu type one two",
          "normal blood level sugar glucos",
          "diet type two plan good",
          "find recip food diet list",
          "find recip food diet list",
          "sugar blood one type insulin",
          "affect system bodi effect type",
          "type mean definit two dignos",
          "get wors kid tell cat",
          "type one two caus mellitu",
          "type one two caus mellitu",
          "normal blood level sugar glucos",
          "type mean definit two dignos",
          "insulin inject use type human",
          "test blood sugar glucos fast",
          "normal blood level sugar glucos",
          "sugar blood one type insulin",
          "normal blood level sugar glucos",
          "type one two caus mellitu",
          "symptom sign blood sugar low",
          "normal blood level sugar glucos",
          "symptom sign blood sugar low",
          "caus would finger feet ach",
          "get wors kid tell cat",
          "blood sugar low high level",
          "normal blood level sugar glucos",
          "get type know two one",
          "mani peopl suffer current us",
          "eat food type avoid fruit",
          "insulin inject use type human",
          "insulin inject use type human",
          "good patient sugar honey bad",
          "eat food type avoid fruit",
          "diet menu food safe plan",
          "affect system bodi effect type",
          "find recip food diet list",
          "caus mellitu type one two",
          "affect system bodi effect type",
          "find recip food diet list",
          "sugar blood one type insulin",
          "get pregnant without affect join",
          "type one two caus mellitu",
          "eat food type avoid fruit",
          "insulin inject use type human",
          "insulin inject use type human",
          "drink alcohol milk type two",
          "eat food type avoid fruit",
          "diet type two plan good",
          "symptom sign blood sugar low",
          "find recip food diet list",
          "test blood sugar glucos fast",
          "eat food type avoid fruit",
          "find recip food diet list",
          "insulin inject use type human",
          "sugar blood one type insulin",
          "type one two caus mellitu",
          "sugar blood one type insulin",
          "affect system bodi effect type",
          "blood sugar level affect effect",
          "drink alcohol milk type two",
          "sugar blood one type insulin",
          "diseas communic type curabl chronic",
          "blood sugar level consid eat",
          "insulin invent discov year frederick",
          "good patient sugar honey bad",
          "caus mellitu type one two",
          "treatment take major symptom health",
          "find recip food diet list",
          "normal blood level sugar glucos",
          "type one two caus mellitu",
          "type one two caus mellitu",
          "test blood diagnos aid determin",
          "might male frequent urin twin",
          "affect system bodi effect type",
          "find recip food diet list",
          "get type know two one",
          "affect system bodi effect type",
          "drink alcohol milk type two",
          "might male frequent urin twin",
          "type one two caus mellitu",
          "eat food type avoid fruit",
          "test blood diagnos aid determin",
          "mani peopl suffer current us",
          "symptom sign blood sugar low",
          "effect caus side urin frequent",
          "type one two caus mellitu",
          "get pregnant without affect join",
          "get type know two one",
          "diseas communic type curabl chronic",
          "diet type two plan good",
          "caus mellitu type one two",
          "good patient sugar honey bad",
          "drink alcohol milk type two",
          "eat food type avoid fruit",
          "symptom sign blood sugar low",
          "effect caus side urin frequent",
          "caus would finger feet ach",
          "diseas communic type curabl chronic",
          "research done sun soup scientist",
          "die lead caus peopl blood",
          "caus mellitu type one two",
          "get type know two one",
          "symptom sign blood sugar low",
          "get type know two one",
          "research done sun soup scientist",
          "treatment medic natur good remedi",
          "nick jona brother get miley",
          "blood sugar level consid eat",
          "eat food type avoid fruit",
          "symptom sign blood sugar low",
          "effect caus side urin frequent",
          "diseas communic type curabl chronic",
          "definit high fat dibeti ii",
          "affect system bodi effect type",
          "drink alcohol milk type two",
          "sugar blood one type insulin",
          "type one two caus mellitu",
          "blood sugar level affect effect",
          "caus would finger feet ach",
          "good patient sugar honey bad",
          "hundr blood one sugar level",
          "find recip food diet list",
          "get type know two one",
          "type one two caus mellitu",
          "caus would finger feet ach",
          "mani peopl suffer current us",
          "caus mellitu type one two",
          "research done sun soup scientist",
          "eat food type avoid fruit",
          "might male frequent urin twin",
          "type one two caus mellitu",
          "treatment medic natur good remedi",
          "blood sugar level affect effect",
          "type one two caus mellitu",
          "glucos blood level control insulin",
          "caus blood high sugar low",
          "type one two caus mellitu",
          "patient use take get give",
          "type one two caus mellitu",
          "patient use take get give",
          "patient use take get give",
          "insulin inject use type human",
          "patient use take get give",
          "type one two caus mellitu",
          "cure one natur type found",
          "patient use take get give",
          "diet type two plan good",
          "hundr blood one sugar level",
          "die lead caus peopl blood",
          "caus mellitu type one two",
          "hundr blood one sugar level",
          "type one two caus mellitu",
          "find recip food diet list",
          "nick jona brother get miley",
          "test blood diagnos aid determin",
          "diet type two plan good",
          "four complic system",
          "type one two caus mellitu",
          "find recip food diet list",
          "get pregnant without affect join",
          "get type know two one",
          "blood sugar low high level",
          "test blood diagnos aid determin",
          "eat food type avoid fruit",
          "type one two caus mellitu",
          "insulin inject use type human",
          "get type know two one",
          "eat food type avoid fruit",
          "sugar blood one type insulin",
          "treatment medic natur good remedi",
          "hundr blood one sugar level",
          "eat food type avoid fruit",
          "blood sugar low high level",
          "affect system bodi effect type",
          "symptom sign blood sugar low",
          "research done sun soup scientist",
          "get type know two one",
          "blood sugar low high level",
          "sugar blood one type insulin",
          "find recip food diet list",
          "blood sugar low high level",
          "eat food type avoid fruit",
          "eat food type avoid fruit",
          "caus mellitu type one two",
          "insulin inject use type human",
          "caus would finger feet ach",
          "type one two caus mellitu",
          "sugar blood one type insulin",
          "good patient sugar honey bad",
          "caus would finger feet ach",
          "cure one natur type found",
          "research done sun soup scientist",
          "get type know two one",
          "sugar blood one type insulin",
          "treatment medic natur good remedi",
          "gestat pregnanc occur pregnant women",
          "normal blood level sugar glucos",
          "hundr blood one sugar level",
          "eat food type avoid fruit",
          "normal blood level sugar glucos",
          "diet type two plan good",
          "eat food type avoid fruit",
          "affect system bodi effect type",
          "blood level featur ketosi hypoglcemia",
          "type mean definit two dignos",
          "find recip food diet list",
          "diet menu food safe plan",
          "eat food type avoid fruit",
          "type mean definit two dignos",
          "patient use take get give",
          "sugar blood one type insulin",
          "diet type two plan good",
          "symptom sign blood sugar low",
          "symptom sign blood sugar low",
          "get type know two one",
          "type one two caus mellitu",
          "type mean definit two dignos",
          "drink alcohol milk type two",
          "good patient sugar honey bad",
          "symptom sign blood sugar low",
          "diet type two plan good",
          "normal blood level sugar glucos",
          "caus blood high sugar low",
          "blood sugar level affect effect",
          "eat food type avoid fruit",
          "glucos blood level control insulin",
          "sugar blood one type insulin",
          "get pregnant without affect join",
          "test blood sugar glucos fast",
          "affect system bodi effect type",
          "four complic system",
          "find recip food diet list",
          "type one two caus mellitu",
          "eat food type avoid fruit",
          "find recip food diet list",
          "get type know two one",
          "caus mellitu type one two",
          "caus blood high sugar low",
          "eat food type avoid fruit",
          "die lead caus peopl blood",
          "caus mellitu type one two",
          "symptom sign blood sugar low",
          "sugar blood one type insulin",
          "eat food type avoid fruit",
          "hundr blood one sugar level",
          "glucos blood level control insulin",
          "test blood diagnos aid determin",
          "get type know two one",
          "diet type two plan good",
          "mani peopl suffer current us",
          "treatment medic natur good remedi",
          "get pregnant without affect join",
          "find recip food diet list",
          "diet type two plan good",
          "get wors kid tell cat",
          "blood sugar low high level",
          "eat food type avoid fruit",
          "caus blood high sugar low",
          "sugar blood one type insulin",
          "hundr blood one sugar level",
          "sugar blood one type insulin",
          "eat food type avoid fruit",
          "test blood diagnos aid determin",
          "symptom sign blood sugar low",
          "patient use take get give",
          "treatment medic natur good remedi",
          "diseas communic type curabl chronic",
          "diet type two plan good",
          "glucos blood level control insulin",
          "sugar blood one type insulin",
          "find recip food diet list",
          "find recip food diet list",
          "blood level featur ketosi hypoglcemia",
          "normal blood level sugar glucos",
          "type one two caus mellitu",
          "affect system bodi effect type",
          "type one two caus mellitu",
          "sugar blood one type insulin",
          "hundr blood one sugar level",
          "cure one natur type found",
          "insulin inject use type human",
          "nick jona brother get miley",
          "caus mellitu type one two",
          "get type know two one",
          "good patient sugar honey bad",
          "blood level featur ketosi hypoglcemia",
          "hundr blood one sugar level",
          "type mean definit two dignos",
          "caus mellitu type one two",
          "diet type two plan good",
          "drink alcohol milk type two",
          "gestat pregnanc occur pregnant women",
          "hundr blood one sugar level",
          "type one two caus mellitu",
          "test blood diagnos aid determin",
          "symptom sign blood sugar low",
          "blood sugar level affect effect",
          "eat food type avoid fruit",
          "type one two caus mellitu",
          "type one two caus mellitu",
          "insulin invent discov year frederick",
          "find recip food diet list",
          "drink alcohol milk type two",
          "symptom sign blood sugar low",
          "definit high fat dibeti ii",
          "normal blood level sugar glucos",
          "mani peopl suffer current us",
          "get type know two one",
          "blood sugar low high level",
          "sugar blood one type insulin",
          "symptom sign blood sugar low",
          "normal blood level sugar glucos",
          "insulin inject use type human",
          "four complic system",
          "hundr blood one sugar level",
          "get type know two one",
          "normal blood level sugar glucos",
          "get pregnant without affect join",
          "eat food type avoid fruit",
          "diseas communic type curabl chronic",
          "diet type two plan good",
          "symptom sign blood sugar low",
          "cure one natur type found",
          "find recip food diet list",
          "caus blood high sugar low",
          "diseas communic type curabl chronic",
          "get pregnant without affect join",
          "nick jona brother get miley",
          "eat food type avoid fruit",
          "insulin invent discov year frederick",
          "normal blood level sugar glucos",
          "symptom sign blood sugar low",
          "type one two caus mellitu",
          "find recip food diet list",
          "diet type two plan good",
          "diet type two plan good",
          "good patient sugar honey bad",
          "eat food type avoid fruit",
          "get type know two one",
          "get wors kid tell cat",
          "eat food type avoid fruit",
          "hundr blood one sugar level",
          "symptom sign blood sugar low",
          "find recip food diet list",
          "glucos blood level control insulin",
          "eat food type avoid fruit",
          "get type know two one",
          "find recip food diet list",
          "eat food type avoid fruit",
          "blood sugar low high level",
          "cure one natur type found",
          "sugar blood one type insulin",
          "cure one natur type found",
          "diet type two plan good",
          "hundr blood one sugar level",
          "type mean definit two dignos",
          "type mean definit two dignos",
          "get type know two one",
          "hundr blood one sugar level",
          "safe person work alon god",
          "find recip food diet list",
          "caus mellitu type one two",
          "hundr blood one sugar level",
          "nick jona brother get miley",
          "sugar blood one type insulin",
          "patient use take get give",
          "insulin inject use type human",
          "mani peopl suffer current us",
          "diseas communic type curabl chronic",
          "symptom sign blood sugar low",
          "hundr blood one sugar level",
          "patient use take get give",
          "insulin inject use type human",
          "get wors kid tell cat",
          "cure one natur type found",
          "eat food type avoid fruit",
          "affect system bodi effect type",
          "caus mellitu type one two",
          "caus mellitu type one two",
          "test blood sugar glucos fast",
          "nick jona brother get miley",
          "eat food type avoid fruit",
          "caus mellitu type one two",
          "nick jona brother get miley",
          "eat food type avoid fruit",
          "type one two caus mellitu",
          "insulin take doctor claim money",
          "find recip food diet list",
          "drink alcohol milk type two",
          "get type know two one",
          "sugar blood one type insulin",
          "hundr blood one sugar level",
          "sugar blood one type insulin",
          "get type know two one",
          "good patient sugar honey bad",
          "treatment medic natur good remedi",
          "sugar blood one type insulin",
          "get type know two one",
          "hundr blood one sugar level",
          "nick jona brother get miley",
          "caus mellitu type one two",
          "find recip food diet list",
          "sugar blood one type insulin",
          "symptom sign blood sugar low",
          "diet type two plan good",
          "type mean definit two dignos",
          "type one two caus mellitu",
          "diet type two plan good",
          "symptom sign blood sugar low",
          "caus would finger feet ach",
          "nick jona brother get miley",
          "definit high fat dibeti ii",
          "affect system bodi effect type",
          "get type know two one",
          "affect system bodi effect type",
          "normal blood level sugar glucos",
          "blood level featur ketosi hypoglcemia",
          "eat food type avoid fruit",
          "patient use take get give",
          "blood level featur ketosi hypoglcemia",
          "type one two caus mellitu",
          "symptom sign blood sugar low",
          "blood level featur ketosi hypoglcemia",
          "sugar blood one type insulin",
          "effect caus side urin frequent",
          "normal blood level sugar glucos",
          "blood level featur ketosi hypoglcemia",
          "symptom sign blood sugar low",
          "hundr blood one sugar level",
          "find recip food diet list",
          "symptom sign blood sugar low",
          "nick jona brother get miley",
          "eat food type avoid fruit",
          "gestat pregnanc occur pregnant women",
          "insulin inject use type human",
          "patient use take get give",
          "get type know two one",
          "get type know two one",
          "eat food type avoid fruit",
          "type one two caus mellitu",
          "blood sugar level affect effect",
          "patient use take get give",
          "hundr blood one sugar level",
          "insulin glucos produc vitamin rais",
          "find recip food diet list",
          "type one two caus mellitu",
          "type one two caus mellitu",
          "type one two caus mellitu",
          "type one two caus mellitu",
          "insulin glucos produc vitamin rais",
          "drink alcohol milk type two",
          "type one two caus mellitu",
          "type one two caus mellitu",
          "symptom sign blood sugar low",
          "symptom sign blood sugar low",
          "type one two caus mellitu",
          "type one two caus mellitu",
          "type one two caus mellitu",
          "blood level featur ketosi hypoglcemia",
          "type one two caus mellitu",
          "test blood diagnos aid determin",
          "type one two caus mellitu",
          "find recip food diet list",
          "affect system bodi effect type",
          "blood sugar low high level",
          "patient use take get give",
          "find recip food diet list",
          "normal blood level sugar glucos",
          "patient use take get give",
          "effect caus side urin frequent",
          "eat food type avoid fruit",
          "find recip food diet list",
          "glucos blood level control insulin",
          "nick jona brother get miley",
          "type one two caus mellitu",
          "blood level featur ketosi hypoglcemia",
          "hundr blood one sugar level",
          "diseas communic type curabl chronic",
          "type mean definit two dignos",
          "nick jona brother get miley",
          "eat food type avoid fruit",
          "sugar blood one type insulin",
          "sugar blood one type insulin",
          "caus would finger feet ach",
          "insulin inject use type human",
          "diet type two plan good",
          "good patient sugar honey bad",
          "affect system bodi effect type",
          "diet type two plan good",
          "treatment take major symptom health",
          "affect system bodi effect type",
          "type one two caus mellitu",
          "find recip food diet list",
          "test blood sugar glucos fast",
          "patient use take get give",
          "treatment medic natur good remedi",
          "get wors kid tell cat",
          "find recip food diet list",
          "symptom sign blood sugar low",
          "good patient sugar honey bad",
          "find recip food diet list",
          "research done sun soup scientist",
          "insulin inject use type human",
          "eat food type avoid fruit",
          "insulin take doctor claim money",
          "diet type two plan good",
          "blood sugar level affect effect",
          "eat food type avoid fruit",
          "type one two caus mellitu",
          "get type know two one",
          "diet type two plan good",
          "treatment medic natur good remedi",
          "find recip food diet list",
          "sugar blood one type insulin",
          "hundr blood one sugar level",
          "get wors kid tell cat",
          "safe person work alon god",
          "affect system bodi effect type",
          "insulin take doctor claim money",
          "blood sugar low high level",
          "diet type two plan good",
          "treatment medic natur good remedi",
          "hundr blood one sugar level",
          "insulin inject use type human",
          "cure one natur type found",
          "sugar blood one type insulin",
          "get wors kid tell cat",
          "get pregnant without affect join",
          "find recip food diet list",
          "sugar blood one type insulin",
          "cure one natur type found",
          "sugar blood one type insulin",
          "good patient sugar honey bad",
          "blood sugar low high level",
          "sugar blood one type insulin",
          "gestat pregnanc occur pregnant women",
          "hundr blood one sugar level",
          "symptom sign blood sugar low",
          "eat food type avoid fruit",
          "good patient sugar honey bad",
          "sugar blood one type insulin",
          "eat food type avoid fruit",
          "type one two caus mellitu",
          "diet type two plan good",
          "get wors kid tell cat",
          "cure one natur type found",
          "get type know two one",
          "might male frequent urin twin",
          "diet type two plan good",
          "test blood sugar glucos fast",
          "mani peopl suffer current us",
          "caus blood high sugar low",
          "find recip food diet list",
          "get type know two one",
          "insulin inject use type human",
          "cure one natur type found",
          "get type know two one",
          "find recip food diet list",
          "glucos blood level control insulin",
          "symptom sign blood sugar low",
          "definit high fat dibeti ii",
          "find recip food diet list",
          "four complic system",
          "diet type two plan good",
          "get type know two one",
          "sugar blood one type insulin",
          "eat food type avoid fruit",
          "find recip food diet list",
          "nick jona brother get miley",
          "type mean definit two dignos",
          "sugar blood one type insulin",
          "insulin take doctor claim money",
          "normal blood level sugar glucos",
          "symptom sign blood sugar low",
          "affect system bodi effect type",
          "safe person work alon god",
          "research done sun soup scientist",
          "sugar blood one type insulin",
          "type one two caus mellitu",
          "diet type two plan good",
          "symptom sign blood sugar low",
          "diseas communic type curabl chronic",
          "die lead caus peopl blood",
          "blood sugar level affect effect",
          "mani peopl suffer current us",
          "blood sugar level consid eat",
          "blood sugar low high level",
          "good patient sugar honey bad",
          "get type know two one",
          "patient use take get give",
          "blood level featur ketosi hypoglcemia",
          "type one two caus mellitu",
          "find recip food diet list",
          "insulin inject use type human",
          "type one two caus mellitu",
          "patient use take get give",
          "type one two caus mellitu",
          "diet menu food safe plan",
          "insulin inject use type human",
          "find recip food diet list",
          "good patient sugar honey bad",
          "normal blood level sugar glucos",
          "find recip food diet list",
          "blood sugar low high level",
          "type one two caus mellitu",
          "diseas communic type curabl chronic",
          "diet type two plan good",
          "patient use take get give",
          "type one two caus mellitu",
          "find recip food diet list",
          "find recip food diet list",
          "type one two caus mellitu",
          "normal blood level sugar glucos",
          "blood sugar low high level",
          "caus blood high sugar low",
          "normal blood level sugar glucos",
          "treatment medic natur good remedi",
          "find recip food diet list",
          "find recip food diet list",
          "definit high fat dibeti ii",
          "die lead caus peopl blood",
          "get pregnant without affect join",
          "get type know two one",
          "get wors kid tell cat",
          "find recip food diet list",
          "good patient sugar honey bad",
          "sugar blood one type insulin",
          "diet type two plan good",
          "type mean definit two dignos",
          "eat food type avoid fruit",
          "definit high fat dibeti ii",
          "normal blood level sugar glucos",
          "type mean definit two dignos",
          "insulin inject use type human",
          "insulin inject use type human",
          "hundr blood one sugar level",
          "effect caus side urin frequent",
          "blood sugar low high level",
          "get type know two one",
          "normal blood level sugar glucos",
          "caus mellitu type one two",
          "type one two caus mellitu",
          "insulin invent discov year frederick",
          "eat food type avoid fruit",
          "blood sugar low high level",
          "find recip food diet list",
          "symptom sign blood sugar low",
          "glucos blood level control insulin",
          "get type know two one",
          "drink alcohol milk type two",
          "glucos blood level control insulin",
          "hundr blood one sugar level",
          "eat food type avoid fruit",
          "symptom sign blood sugar low",
          "normal blood level sugar glucos",
          "diet type two plan good",
          "sugar blood one type insulin",
          "eat food type avoid fruit",
          "good patient sugar honey bad",
          "diseas communic type curabl chronic",
          "caus mellitu type one two",
          "get type know two one",
          "drink alcohol milk type two",
          "cure one natur type found",
          "hundr blood one sugar level",
          "insulin inject use type human",
          "diet type two plan good",
          "sugar blood one type insulin",
          "eat food type avoid fruit",
          "affect system bodi effect type",
          "blood sugar low high level",
          "get wors kid tell cat",
          "sugar blood one type insulin",
          "get wors kid tell cat",
          "find recip food diet list",
          "caus mellitu type one two",
          "eat food type avoid fruit",
          "symptom sign blood sugar low",
          "get type know two one",
          "diseas communic type curabl chronic",
          "eat food type avoid fruit",
          "drink alcohol milk type two",
          "insulin inject use type human",
          "diseas communic type curabl chronic",
          "diet type two plan good",
          "get type know two one",
          "get type know two one",
          "caus would finger feet ach",
          "normal blood level sugar glucos",
          "symptom sign blood sugar low",
          "mani peopl suffer current us",
          "good patient sugar honey bad",
          "find recip food diet list",
          "diet type two plan good",
          "eat food type avoid fruit",
          "sugar blood one type insulin",
          "hundr blood one sugar level",
          "eat food type avoid fruit",
          "symptom sign blood sugar low",
          "treatment medic natur good remedi",
          "normal blood level sugar glucos",
          "good patient sugar honey bad",
          "sugar blood one type insulin",
          "type mean definit two dignos",
          "treatment medic natur good remedi",
          "find recip food diet list",
          "blood level featur ketosi hypoglcemia",
          "affect system bodi effect type",
          "affect system bodi effect type",
          "insulin inject use type human",
          "sugar blood one type insulin",
          "definit high fat dibeti ii",
          "normal blood level sugar glucos",
          "insulin inject use type human",
          "definit high fat dibeti ii",
          "caus mellitu type one two",
          "good patient sugar honey bad",
          "die lead caus peopl blood",
          "get type know two one",
          "mani peopl suffer current us",
          "find recip food diet list",
          "find recip food diet list",
          "insulin inject use type human",
          "blood sugar level affect effect",
          "sugar blood one type insulin",
          "nick jona brother get miley",
          "effect caus side urin frequent",
          "type mean definit two dignos",
          "nick jona brother get miley",
          "patient use take get give",
          "test blood sugar glucos fast",
          "type one two caus mellitu",
          "normal blood level sugar glucos",
          "effect caus side urin frequent",
          "affect system bodi effect type",
          "find recip food diet list",
          "eat food type avoid fruit",
          "caus would finger feet ach",
          "treatment medic natur good remedi",
          "hundr blood one sugar level",
          "diseas communic type curabl chronic",
          "insulin glucos produc vitamin rais",
          "get type know two one",
          "drink alcohol milk type two",
          "die lead caus peopl blood",
          "find recip food diet list",
          "eat food type avoid fruit",
          "affect system bodi effect type",
          "nick jona brother get miley",
          "blood sugar low high level",
          "treatment medic natur good remedi",
          "symptom sign blood sugar low",
          "patient use take get give",
          "sugar blood one type insulin",
          "caus mellitu type one two",
          "caus mellitu type one two",
          "glucos blood level control insulin",
          "affect system bodi effect type",
          "affect system bodi effect type",
          "diet type two plan good",
          "insulin inject use type human",
          "insulin inject use type human",
          "treatment medic natur good remedi",
          "get pregnant without affect join",
          "caus mellitu type one two",
          "find recip food diet list",
          "blood sugar level consid eat",
          "patient use take get give",
          "type one two caus mellitu",
          "hundr blood one sugar level",
          "get type know two one",
          "get pregnant without affect join",
          "blood sugar level affect effect",
          "get type know two one",
          "hundr blood one sugar level",
          "type one two caus mellitu",
          "type mean definit two dignos",
          "get type know two one",
          "treatment medic natur good remedi",
          "cure one natur type found",
          "get pregnant without affect join",
          "get type know two one",
          "type one two caus mellitu",
          "type one two caus mellitu",
          "find recip food diet list",
          "symptom sign blood sugar low",
          "type one two caus mellitu",
          "nick jona brother get miley",
          "type one two caus mellitu",
          "safe person work alon god",
          "insulin invent discov year frederick",
          "find recip food diet list",
          "sugar blood one type insulin",
          "type mean definit two dignos",
          "sugar blood one type insulin",
          "insulin invent discov year frederick",
          "nick jona brother get miley",
          "diet type two plan good",
          "symptom sign blood sugar low",
          "good patient sugar honey bad",
          "symptom sign blood sugar low",
          "effect caus side urin frequent",
          "type one two caus mellitu",
          "find recip food diet list",
          "diet type two plan good",
          "symptom sign blood sugar low",
          "get wors kid tell cat",
          "insulin inject use type human",
          "eat food type avoid fruit",
          "insulin take doctor claim money",
          "treatment medic natur good remedi",
          "type one two caus mellitu",
          "normal blood level sugar glucos",
          "get type know two one",
          "insulin inject use type human",
          "hundr blood one sugar level",
          "eat food type avoid fruit",
          "sugar blood one type insulin",
          "normal blood level sugar glucos",
          "find recip food diet list",
          "find recip food diet list",
          "normal blood level sugar glucos",
          "get type know two one",
          "eat food type avoid fruit",
          "type one two caus mellitu",
          "diseas communic type curabl chronic",
          "sugar blood one type insulin",
          "eat food type avoid fruit",
          "eat food type avoid fruit",
          "good patient sugar honey bad",
          "treatment take major symptom health",
          "sugar blood one type insulin",
          "blood level featur ketosi hypoglcemia",
          "find recip food diet list",
          "insulin inject use type human",
          "eat food type avoid fruit",
          "normal blood level sugar glucos",
          "affect system bodi effect type",
          "find recip food diet list",
          "diet type two plan good",
          "insulin inject use type human",
          "symptom sign blood sugar low",
          "mani peopl suffer current us",
          "sugar blood one type insulin",
          "diet type two plan good",
          "find recip food diet list",
          "test blood diagnos aid determin",
          "insulin inject use type human",
          "hundr blood one sugar level",
          "caus blood high sugar low",
          "blood level featur ketosi hypoglcemia",
          "drink alcohol milk type two",
          "test blood diagnos aid determin",
          "get type know two one",
          "find recip food diet list",
          "blood sugar low high level",
          "get pregnant without affect join",
          "eat food type avoid fruit",
          "get type know two one",
          "insulin inject use type human",
          "find recip food diet list",
          "good patient sugar honey bad",
          "find recip food diet list",
          "normal blood level sugar glucos",
          "eat food type avoid fruit",
          "treatment medic natur good remedi",
          "hundr blood one sugar level",
          "eat food type avoid fruit",
          "symptom sign blood sugar low",
          "caus mellitu type one two",
          "sugar blood one type insulin",
          "diet type two plan good",
          "eat food type avoid fruit",
          "type one two caus mellitu",
          "eat food type avoid fruit",
          "get type know two one",
          "effect caus side urin frequent",
          "symptom sign blood sugar low",
          "find recip food diet list",
          "find recip food diet list",
          "good patient sugar honey bad",
          "diet menu food safe plan",
          "safe person work alon god",
          "insulin inject use type human",
          "hundr blood one sugar level",
          "insulin inject use type human",
          "hundr blood one sugar level",
          "affect system bodi effect type",
          "symptom sign blood sugar low",
          "type one two caus mellitu",
          "symptom sign blood sugar low",
          "nick jona brother get miley",
          "eat food type avoid fruit",
          "drink alcohol milk type two",
          "nick jona brother get miley",
          "sugar blood one type insulin",
          "sugar blood one type insulin",
          "symptom sign blood sugar low",
          "diet type two plan good",
          "glucos blood level control insulin",
          "diet type two plan good",
          "diet type two plan good",
          "diet type two plan good",
          "get type know two one",
          "eat food type avoid fruit",
          "get type know two one",
          "nick jona brother get miley",
          "effect caus side urin frequent",
          "research done sun soup scientist",
          "find recip food diet list",
          "eat food type avoid fruit",
          "drink alcohol milk type two",
          "insulin inject use type human",
          "test blood diagnos aid determin",
          "eat food type avoid fruit",
          "get type know two one",
          "eat food type avoid fruit",
          "hundr blood one sugar level",
          "sugar blood one type insulin",
          "diet type two plan good",
          "affect system bodi effect type",
          "affect system bodi effect type",
          "good patient sugar honey bad",
          "eat food type avoid fruit",
          "insulin inject use type human",
          "normal blood level sugar glucos",
          "find recip food diet list",
          "diet type two plan good",
          "get type know two one",
          "find recip food diet list",
          "definit high fat dibeti ii",
          "find recip food diet list",
          "glucos blood level control insulin",
          "eat food type avoid fruit",
          "normal blood level sugar glucos",
          "cure one natur type found",
          "eat food type avoid fruit",
          "sugar blood one type insulin",
          "type mean definit two dignos",
          "die lead caus peopl blood",
          "type one two caus mellitu",
          "blood sugar level consid eat",
          "affect system bodi effect type",
          "treatment medic natur good remedi",
          "find recip food diet list",
          "die lead caus peopl blood",
          "gestat pregnanc occur pregnant women",
          "caus would finger feet ach",
          "patient use take get give",
          "insulin inject use type human",
          "insulin inject use type human",
          "might male frequent urin twin",
          "patient use take get give",
          "insulin inject use type human",
          "blood sugar level affect effect",
          "gestat pregnanc occur pregnant women",
          "caus mellitu type one two",
          "get type know two one",
          "caus would finger feet ach",
          "type one two caus mellitu",
          "effect caus side urin frequent",
          "eat food type avoid fruit",
          "type one two caus mellitu",
          "affect system bodi effect type",
          "affect system bodi effect type",
          "eat food type avoid fruit",
          "effect caus side urin frequent",
          "diseas communic type curabl chronic",
          "caus mellitu type one two",
          "find recip food diet list",
          "type mean definit two dignos",
          "effect caus side urin frequent",
          "type one two caus mellitu",
          "eat food type avoid fruit",
          "affect system bodi effect type",
          "treatment medic natur good remedi",
          "symptom sign blood sugar low",
          "type mean definit two dignos",
          "patient use take get give",
          "gestat pregnanc occur pregnant women",
          "insulin inject use type human",
          "type one two caus mellitu",
          "good patient sugar honey bad",
          "die lead caus peopl blood",
          "eat food type avoid fruit",
          "type one two caus mellitu",
          "get type know two one",
          "eat food type avoid fruit",
          "normal blood level sugar glucos",
          "nick jona brother get miley",
          "treatment take major symptom health",
          "nick jona brother get miley",
          "sugar blood one type insulin",
          "sugar blood one type insulin",
          "insulin inject use type human",
          "test blood diagnos aid determin",
          "blood level featur ketosi hypoglcemia",
          "blood sugar level consid eat",
          "get pregnant without affect join",
          "insulin inject use type human",
          "patient use take get give",
          "insulin glucos produc vitamin rais",
          "type one two caus mellitu",
          "type one two caus mellitu",
          "blood level featur ketosi hypoglcemia",
          "affect system bodi effect type",
          "patient use take get give",
          "diseas communic type curabl chronic",
          "find recip food diet list",
          "get type know two one",
          "diseas communic type curabl chronic",
          "diet menu food safe plan",
          "insulin take doctor claim money",
          "good patient sugar honey bad",
          "normal blood level sugar glucos",
          "normal blood level sugar glucos",
          "type one two caus mellitu",
          "find recip food diet list",
          "patient use take get give",
          "type one two caus mellitu",
          "eat food type avoid fruit",
          "insulin inject use type human",
          "blood level featur ketosi hypoglcemia",
          "type one two caus mellitu",
          "safe person work alon god",
          "type one two caus mellitu",
          "eat food type avoid fruit",
          "gestat pregnanc occur pregnant women",
          "diet type two plan good",
          "diseas communic type curabl chronic",
          "diet type two plan good",
          "type one two caus mellitu",
          "hundr blood one sugar level",
          "get type know two one",
          "sugar blood one type insulin",
          "normal blood level sugar glucos",
          "find recip food diet list",
          "nick jona brother get miley",
          "diet type two plan good",
          "affect system bodi effect type",
          "eat food type avoid fruit",
          "patient use take get give",
          "sugar blood one type insulin",
          "good patient sugar honey bad",
          "eat food type avoid fruit",
          "get pregnant without affect join",
          "eat food type avoid fruit",
          "find recip food diet list",
          "definit high fat dibeti ii",
          "eat food type avoid fruit",
          "normal blood level sugar glucos",
          "effect caus side urin frequent",
          "hundr blood one sugar level",
          "find recip food diet list",
          "normal blood level sugar glucos",
          "diseas communic type curabl chronic",
          "find recip food diet list",
          "insulin inject use type human",
          "find recip food diet list",
          "type one two caus mellitu",
          "eat food type avoid fruit",
          "affect system bodi effect type",
          "blood sugar level consid eat",
          "insulin inject use type human",
          "effect caus side urin frequent",
          "type one two caus mellitu",
          "sugar blood one type insulin",
          "eat food type avoid fruit",
          "find recip food diet list",
          "get pregnant without affect join",
          "die lead caus peopl blood",
          "effect caus side urin frequent",
          "find recip food diet list",
          "eat food type avoid fruit",
          "insulin take doctor claim money",
          "caus blood high sugar low",
          "diet type two plan good",
          "good patient sugar honey bad",
          "type mean definit two dignos",
          "caus blood high sugar low",
          "cure one natur type found",
          "normal blood level sugar glucos",
          "sugar blood one type insulin",
          "caus mellitu type one two",
          "glucos blood level control insulin",
          "find recip food diet list",
          "diseas communic type curabl chronic",
          "get type know two one",
          "diet type two plan good",
          "hundr blood one sugar level",
          "mani peopl suffer current us",
          "get pregnant without affect join",
          "eat food type avoid fruit",
          "find recip food diet list",
          "diseas communic type curabl chronic",
          "symptom sign blood sugar low",
          "blood sugar level consid eat",
          "diet type two plan good",
          "type one two caus mellitu",
          "find recip food diet list",
          "normal blood level sugar glucos",
          "blood sugar level consid eat",
          "insulin inject use type human",
          "mani peopl suffer current us",
          "cure one natur type found",
          "diet type two plan good",
          "treatment medic natur good remedi",
          "cure one natur type found",
          "type one two caus mellitu",
          "diet type two plan good",
          "find recip food diet list",
          "glucos blood level control insulin",
          "treatment take major symptom health",
          "hundr blood one sugar level",
          "normal blood level sugar glucos",
          "caus mellitu type one two",
          "eat food type avoid fruit",
          "patient use take get give",
          "cure one natur type found",
          "type one two caus mellitu",
          "type one two caus mellitu",
          "good patient sugar honey bad",
          "diseas communic type curabl chronic",
          "find recip food diet list",
          "affect system bodi effect type",
          "insulin inject use type human",
          "diet type two plan good",
          "type mean definit two dignos",
          "good patient sugar honey bad",
          "blood sugar level affect effect",
          "diet type two plan good",
          "effect caus side urin frequent",
          "normal blood level sugar glucos",
          "hundr blood one sugar level",
          "nick jona brother get miley",
          "type one two caus mellitu",
          "insulin inject use type human",
          "eat food type avoid fruit",
          "affect system bodi effect type",
          "might male frequent urin twin",
          "get type know two one",
          "good patient sugar honey bad",
          "caus blood high sugar low",
          "find recip food diet list",
          "diseas communic type curabl chronic",
          "four complic system",
          "sugar blood one type insulin",
          "normal blood level sugar glucos",
          "insulin inject use type human",
          "eat food type avoid fruit",
          "type one two caus mellitu",
          "type one two caus mellitu",
          "blood sugar low high level",
          "normal blood level sugar glucos"
         ],
         "xaxis": "x",
         "yaxis": "y"
        }
       ],
       "layout": {
        "barmode": "relative",
        "legend": {
         "tracegroupgap": 0
        },
        "margin": {
         "t": 60
        },
        "template": {
         "data": {
          "bar": [
           {
            "error_x": {
             "color": "#2a3f5f"
            },
            "error_y": {
             "color": "#2a3f5f"
            },
            "marker": {
             "line": {
              "color": "#E5ECF6",
              "width": 0.5
             }
            },
            "type": "bar"
           }
          ],
          "barpolar": [
           {
            "marker": {
             "line": {
              "color": "#E5ECF6",
              "width": 0.5
             }
            },
            "type": "barpolar"
           }
          ],
          "carpet": [
           {
            "aaxis": {
             "endlinecolor": "#2a3f5f",
             "gridcolor": "white",
             "linecolor": "white",
             "minorgridcolor": "white",
             "startlinecolor": "#2a3f5f"
            },
            "baxis": {
             "endlinecolor": "#2a3f5f",
             "gridcolor": "white",
             "linecolor": "white",
             "minorgridcolor": "white",
             "startlinecolor": "#2a3f5f"
            },
            "type": "carpet"
           }
          ],
          "choropleth": [
           {
            "colorbar": {
             "outlinewidth": 0,
             "ticks": ""
            },
            "type": "choropleth"
           }
          ],
          "contour": [
           {
            "colorbar": {
             "outlinewidth": 0,
             "ticks": ""
            },
            "colorscale": [
             [
              0,
              "#0d0887"
             ],
             [
              0.1111111111111111,
              "#46039f"
             ],
             [
              0.2222222222222222,
              "#7201a8"
             ],
             [
              0.3333333333333333,
              "#9c179e"
             ],
             [
              0.4444444444444444,
              "#bd3786"
             ],
             [
              0.5555555555555556,
              "#d8576b"
             ],
             [
              0.6666666666666666,
              "#ed7953"
             ],
             [
              0.7777777777777778,
              "#fb9f3a"
             ],
             [
              0.8888888888888888,
              "#fdca26"
             ],
             [
              1,
              "#f0f921"
             ]
            ],
            "type": "contour"
           }
          ],
          "contourcarpet": [
           {
            "colorbar": {
             "outlinewidth": 0,
             "ticks": ""
            },
            "type": "contourcarpet"
           }
          ],
          "heatmap": [
           {
            "colorbar": {
             "outlinewidth": 0,
             "ticks": ""
            },
            "colorscale": [
             [
              0,
              "#0d0887"
             ],
             [
              0.1111111111111111,
              "#46039f"
             ],
             [
              0.2222222222222222,
              "#7201a8"
             ],
             [
              0.3333333333333333,
              "#9c179e"
             ],
             [
              0.4444444444444444,
              "#bd3786"
             ],
             [
              0.5555555555555556,
              "#d8576b"
             ],
             [
              0.6666666666666666,
              "#ed7953"
             ],
             [
              0.7777777777777778,
              "#fb9f3a"
             ],
             [
              0.8888888888888888,
              "#fdca26"
             ],
             [
              1,
              "#f0f921"
             ]
            ],
            "type": "heatmap"
           }
          ],
          "heatmapgl": [
           {
            "colorbar": {
             "outlinewidth": 0,
             "ticks": ""
            },
            "colorscale": [
             [
              0,
              "#0d0887"
             ],
             [
              0.1111111111111111,
              "#46039f"
             ],
             [
              0.2222222222222222,
              "#7201a8"
             ],
             [
              0.3333333333333333,
              "#9c179e"
             ],
             [
              0.4444444444444444,
              "#bd3786"
             ],
             [
              0.5555555555555556,
              "#d8576b"
             ],
             [
              0.6666666666666666,
              "#ed7953"
             ],
             [
              0.7777777777777778,
              "#fb9f3a"
             ],
             [
              0.8888888888888888,
              "#fdca26"
             ],
             [
              1,
              "#f0f921"
             ]
            ],
            "type": "heatmapgl"
           }
          ],
          "histogram": [
           {
            "marker": {
             "colorbar": {
              "outlinewidth": 0,
              "ticks": ""
             }
            },
            "type": "histogram"
           }
          ],
          "histogram2d": [
           {
            "colorbar": {
             "outlinewidth": 0,
             "ticks": ""
            },
            "colorscale": [
             [
              0,
              "#0d0887"
             ],
             [
              0.1111111111111111,
              "#46039f"
             ],
             [
              0.2222222222222222,
              "#7201a8"
             ],
             [
              0.3333333333333333,
              "#9c179e"
             ],
             [
              0.4444444444444444,
              "#bd3786"
             ],
             [
              0.5555555555555556,
              "#d8576b"
             ],
             [
              0.6666666666666666,
              "#ed7953"
             ],
             [
              0.7777777777777778,
              "#fb9f3a"
             ],
             [
              0.8888888888888888,
              "#fdca26"
             ],
             [
              1,
              "#f0f921"
             ]
            ],
            "type": "histogram2d"
           }
          ],
          "histogram2dcontour": [
           {
            "colorbar": {
             "outlinewidth": 0,
             "ticks": ""
            },
            "colorscale": [
             [
              0,
              "#0d0887"
             ],
             [
              0.1111111111111111,
              "#46039f"
             ],
             [
              0.2222222222222222,
              "#7201a8"
             ],
             [
              0.3333333333333333,
              "#9c179e"
             ],
             [
              0.4444444444444444,
              "#bd3786"
             ],
             [
              0.5555555555555556,
              "#d8576b"
             ],
             [
              0.6666666666666666,
              "#ed7953"
             ],
             [
              0.7777777777777778,
              "#fb9f3a"
             ],
             [
              0.8888888888888888,
              "#fdca26"
             ],
             [
              1,
              "#f0f921"
             ]
            ],
            "type": "histogram2dcontour"
           }
          ],
          "mesh3d": [
           {
            "colorbar": {
             "outlinewidth": 0,
             "ticks": ""
            },
            "type": "mesh3d"
           }
          ],
          "parcoords": [
           {
            "line": {
             "colorbar": {
              "outlinewidth": 0,
              "ticks": ""
             }
            },
            "type": "parcoords"
           }
          ],
          "pie": [
           {
            "automargin": true,
            "type": "pie"
           }
          ],
          "scatter": [
           {
            "marker": {
             "colorbar": {
              "outlinewidth": 0,
              "ticks": ""
             }
            },
            "type": "scatter"
           }
          ],
          "scatter3d": [
           {
            "line": {
             "colorbar": {
              "outlinewidth": 0,
              "ticks": ""
             }
            },
            "marker": {
             "colorbar": {
              "outlinewidth": 0,
              "ticks": ""
             }
            },
            "type": "scatter3d"
           }
          ],
          "scattercarpet": [
           {
            "marker": {
             "colorbar": {
              "outlinewidth": 0,
              "ticks": ""
             }
            },
            "type": "scattercarpet"
           }
          ],
          "scattergeo": [
           {
            "marker": {
             "colorbar": {
              "outlinewidth": 0,
              "ticks": ""
             }
            },
            "type": "scattergeo"
           }
          ],
          "scattergl": [
           {
            "marker": {
             "colorbar": {
              "outlinewidth": 0,
              "ticks": ""
             }
            },
            "type": "scattergl"
           }
          ],
          "scattermapbox": [
           {
            "marker": {
             "colorbar": {
              "outlinewidth": 0,
              "ticks": ""
             }
            },
            "type": "scattermapbox"
           }
          ],
          "scatterpolar": [
           {
            "marker": {
             "colorbar": {
              "outlinewidth": 0,
              "ticks": ""
             }
            },
            "type": "scatterpolar"
           }
          ],
          "scatterpolargl": [
           {
            "marker": {
             "colorbar": {
              "outlinewidth": 0,
              "ticks": ""
             }
            },
            "type": "scatterpolargl"
           }
          ],
          "scatterternary": [
           {
            "marker": {
             "colorbar": {
              "outlinewidth": 0,
              "ticks": ""
             }
            },
            "type": "scatterternary"
           }
          ],
          "surface": [
           {
            "colorbar": {
             "outlinewidth": 0,
             "ticks": ""
            },
            "colorscale": [
             [
              0,
              "#0d0887"
             ],
             [
              0.1111111111111111,
              "#46039f"
             ],
             [
              0.2222222222222222,
              "#7201a8"
             ],
             [
              0.3333333333333333,
              "#9c179e"
             ],
             [
              0.4444444444444444,
              "#bd3786"
             ],
             [
              0.5555555555555556,
              "#d8576b"
             ],
             [
              0.6666666666666666,
              "#ed7953"
             ],
             [
              0.7777777777777778,
              "#fb9f3a"
             ],
             [
              0.8888888888888888,
              "#fdca26"
             ],
             [
              1,
              "#f0f921"
             ]
            ],
            "type": "surface"
           }
          ],
          "table": [
           {
            "cells": {
             "fill": {
              "color": "#EBF0F8"
             },
             "line": {
              "color": "white"
             }
            },
            "header": {
             "fill": {
              "color": "#C8D4E3"
             },
             "line": {
              "color": "white"
             }
            },
            "type": "table"
           }
          ]
         },
         "layout": {
          "annotationdefaults": {
           "arrowcolor": "#2a3f5f",
           "arrowhead": 0,
           "arrowwidth": 1
          },
          "autotypenumbers": "strict",
          "coloraxis": {
           "colorbar": {
            "outlinewidth": 0,
            "ticks": ""
           }
          },
          "colorscale": {
           "diverging": [
            [
             0,
             "#8e0152"
            ],
            [
             0.1,
             "#c51b7d"
            ],
            [
             0.2,
             "#de77ae"
            ],
            [
             0.3,
             "#f1b6da"
            ],
            [
             0.4,
             "#fde0ef"
            ],
            [
             0.5,
             "#f7f7f7"
            ],
            [
             0.6,
             "#e6f5d0"
            ],
            [
             0.7,
             "#b8e186"
            ],
            [
             0.8,
             "#7fbc41"
            ],
            [
             0.9,
             "#4d9221"
            ],
            [
             1,
             "#276419"
            ]
           ],
           "sequential": [
            [
             0,
             "#0d0887"
            ],
            [
             0.1111111111111111,
             "#46039f"
            ],
            [
             0.2222222222222222,
             "#7201a8"
            ],
            [
             0.3333333333333333,
             "#9c179e"
            ],
            [
             0.4444444444444444,
             "#bd3786"
            ],
            [
             0.5555555555555556,
             "#d8576b"
            ],
            [
             0.6666666666666666,
             "#ed7953"
            ],
            [
             0.7777777777777778,
             "#fb9f3a"
            ],
            [
             0.8888888888888888,
             "#fdca26"
            ],
            [
             1,
             "#f0f921"
            ]
           ],
           "sequentialminus": [
            [
             0,
             "#0d0887"
            ],
            [
             0.1111111111111111,
             "#46039f"
            ],
            [
             0.2222222222222222,
             "#7201a8"
            ],
            [
             0.3333333333333333,
             "#9c179e"
            ],
            [
             0.4444444444444444,
             "#bd3786"
            ],
            [
             0.5555555555555556,
             "#d8576b"
            ],
            [
             0.6666666666666666,
             "#ed7953"
            ],
            [
             0.7777777777777778,
             "#fb9f3a"
            ],
            [
             0.8888888888888888,
             "#fdca26"
            ],
            [
             1,
             "#f0f921"
            ]
           ]
          },
          "colorway": [
           "#636efa",
           "#EF553B",
           "#00cc96",
           "#ab63fa",
           "#FFA15A",
           "#19d3f3",
           "#FF6692",
           "#B6E880",
           "#FF97FF",
           "#FECB52"
          ],
          "font": {
           "color": "#2a3f5f"
          },
          "geo": {
           "bgcolor": "white",
           "lakecolor": "white",
           "landcolor": "#E5ECF6",
           "showlakes": true,
           "showland": true,
           "subunitcolor": "white"
          },
          "hoverlabel": {
           "align": "left"
          },
          "hovermode": "closest",
          "mapbox": {
           "style": "light"
          },
          "paper_bgcolor": "white",
          "plot_bgcolor": "#E5ECF6",
          "polar": {
           "angularaxis": {
            "gridcolor": "white",
            "linecolor": "white",
            "ticks": ""
           },
           "bgcolor": "#E5ECF6",
           "radialaxis": {
            "gridcolor": "white",
            "linecolor": "white",
            "ticks": ""
           }
          },
          "scene": {
           "xaxis": {
            "backgroundcolor": "#E5ECF6",
            "gridcolor": "white",
            "gridwidth": 2,
            "linecolor": "white",
            "showbackground": true,
            "ticks": "",
            "zerolinecolor": "white"
           },
           "yaxis": {
            "backgroundcolor": "#E5ECF6",
            "gridcolor": "white",
            "gridwidth": 2,
            "linecolor": "white",
            "showbackground": true,
            "ticks": "",
            "zerolinecolor": "white"
           },
           "zaxis": {
            "backgroundcolor": "#E5ECF6",
            "gridcolor": "white",
            "gridwidth": 2,
            "linecolor": "white",
            "showbackground": true,
            "ticks": "",
            "zerolinecolor": "white"
           }
          },
          "shapedefaults": {
           "line": {
            "color": "#2a3f5f"
           }
          },
          "ternary": {
           "aaxis": {
            "gridcolor": "white",
            "linecolor": "white",
            "ticks": ""
           },
           "baxis": {
            "gridcolor": "white",
            "linecolor": "white",
            "ticks": ""
           },
           "bgcolor": "#E5ECF6",
           "caxis": {
            "gridcolor": "white",
            "linecolor": "white",
            "ticks": ""
           }
          },
          "title": {
           "x": 0.05
          },
          "xaxis": {
           "automargin": true,
           "gridcolor": "white",
           "linecolor": "white",
           "ticks": "",
           "title": {
            "standoff": 15
           },
           "zerolinecolor": "white",
           "zerolinewidth": 2
          },
          "yaxis": {
           "automargin": true,
           "gridcolor": "white",
           "linecolor": "white",
           "ticks": "",
           "title": {
            "standoff": 15
           },
           "zerolinecolor": "white",
           "zerolinewidth": 2
          }
         }
        },
        "title": {
         "text": "Non-Outlier Cluster Label Distribution (51.8% Retained)"
        },
        "xaxis": {
         "anchor": "y",
         "domain": [
          0,
          1
         ],
         "showticklabels": false,
         "title": {
          "text": "Clusters"
         }
        },
        "yaxis": {
         "anchor": "x",
         "domain": [
          0,
          1
         ],
         "title": {
          "text": "Percent"
         }
        }
       }
      },
      "text/html": [
       "<div>                            <div id=\"2641d160-1fed-4854-a858-147dccbd47b1\" class=\"plotly-graph-div\" style=\"height:525px; width:100%;\"></div>            <script type=\"text/javascript\">                require([\"plotly\"], function(Plotly) {                    window.PLOTLYENV=window.PLOTLYENV || {};                                    if (document.getElementById(\"2641d160-1fed-4854-a858-147dccbd47b1\")) {                    Plotly.newPlot(                        \"2641d160-1fed-4854-a858-147dccbd47b1\",                        [{\"alignmentgroup\": \"True\", \"bingroup\": \"x\", \"histnorm\": \"percent\", \"hovertemplate\": \"summary=%{x}<br>count=%{y}<extra></extra>\", \"legendgroup\": \"\", \"marker\": {\"color\": \"#636efa\"}, \"name\": \"\", \"nbinsx\": 46, \"offsetgroup\": \"\", \"orientation\": \"v\", \"showlegend\": false, \"type\": \"histogram\", \"x\": [\"type one two caus mellitu\", \"effect caus side urin frequent\", \"insulin inject use type human\", \"type mean definit two dignos\", \"effect caus side urin frequent\", \"symptom sign blood sugar low\", \"patient use take get give\", \"sugar blood one type insulin\", \"good patient sugar honey bad\", \"diseas communic type curabl chronic\", \"get pregnant without affect join\", \"find recip food diet list\", \"type one two caus mellitu\", \"treatment take major symptom health\", \"nick jona brother get miley\", \"four complic system\", \"drink alcohol milk type two\", \"symptom sign blood sugar low\", \"insulin inject use type human\", \"find recip food diet list\", \"patient use take get give\", \"symptom sign blood sugar low\", \"nick jona brother get miley\", \"caus mellitu type one two\", \"gestat pregnanc occur pregnant women\", \"find recip food diet list\", \"glucos blood level control insulin\", \"symptom sign blood sugar low\", \"four complic system\", \"research done sun soup scientist\", \"blood sugar level consid eat\", \"hundr blood one sugar level\", \"normal blood level sugar glucos\", \"affect system bodi effect type\", \"treatment take major symptom health\", \"glucos blood level control insulin\", \"normal blood level sugar glucos\", \"blood level featur ketosi hypoglcemia\", \"nick jona brother get miley\", \"sugar blood one type insulin\", \"patient use take get give\", \"caus mellitu type one two\", \"hundr blood one sugar level\", \"find recip food diet list\", \"type one two caus mellitu\", \"eat food type avoid fruit\", \"type one two caus mellitu\", \"insulin inject use type human\", \"type one two caus mellitu\", \"safe person work alon god\", \"get pregnant without affect join\", \"insulin glucos produc vitamin rais\", \"find recip food diet list\", \"good patient sugar honey bad\", \"treatment medic natur good remedi\", \"normal blood level sugar glucos\", \"type one two caus mellitu\", \"eat food type avoid fruit\", \"insulin inject use type human\", \"die lead caus peopl blood\", \"get pregnant without affect join\", \"find recip food diet list\", \"affect system bodi effect type\", \"sugar blood one type insulin\", \"might male frequent urin twin\", \"nick jona brother get miley\", \"find recip food diet list\", \"get wors kid tell cat\", \"insulin invent discov year frederick\", \"effect caus side urin frequent\", \"good patient sugar honey bad\", \"get pregnant without affect join\", \"sugar blood one type insulin\", \"find recip food diet list\", \"affect system bodi effect type\", \"diet type two plan good\", \"caus blood high sugar low\", \"safe person work alon god\", \"get type know two one\", \"sugar blood one type insulin\", \"eat food type avoid fruit\", \"normal blood level sugar glucos\", \"eat food type avoid fruit\", \"eat food type avoid fruit\", \"hundr blood one sugar level\", \"type one two caus mellitu\", \"drink alcohol milk type two\", \"find recip food diet list\", \"blood sugar low high level\", \"insulin inject use type human\", \"type one two caus mellitu\", \"glucos blood level control insulin\", \"nick jona brother get miley\", \"find recip food diet list\", \"insulin inject use type human\", \"get type know two one\", \"insulin inject use type human\", \"test blood sugar glucos fast\", \"affect system bodi effect type\", \"type one two caus mellitu\", \"affect system bodi effect type\", \"get wors kid tell cat\", \"effect caus side urin frequent\", \"type one two caus mellitu\", \"treatment take major symptom health\", \"type one two caus mellitu\", \"nick jona brother get miley\", \"diseas communic type curabl chronic\", \"normal blood level sugar glucos\", \"find recip food diet list\", \"eat food type avoid fruit\", \"get type know two one\", \"eat food type avoid fruit\", \"caus would finger feet ach\", \"caus would finger feet ach\", \"diet type two plan good\", \"effect caus side urin frequent\", \"find recip food diet list\", \"find recip food diet list\", \"eat food type avoid fruit\", \"glucos blood level control insulin\", \"hundr blood one sugar level\", \"find recip food diet list\", \"type mean definit two dignos\", \"normal blood level sugar glucos\", \"type one two caus mellitu\", \"caus blood high sugar low\", \"gestat pregnanc occur pregnant women\", \"caus would finger feet ach\", \"gestat pregnanc occur pregnant women\", \"blood level featur ketosi hypoglcemia\", \"research done sun soup scientist\", \"test blood sugar glucos fast\", \"glucos blood level control insulin\", \"cure one natur type found\", \"caus blood high sugar low\", \"diseas communic type curabl chronic\", \"drink alcohol milk type two\", \"drink alcohol milk type two\", \"sugar blood one type insulin\", \"drink alcohol milk type two\", \"treatment medic natur good remedi\", \"sugar blood one type insulin\", \"sugar blood one type insulin\", \"diseas communic type curabl chronic\", \"get type know two one\", \"drink alcohol milk type two\", \"nick jona brother get miley\", \"get type know two one\", \"diet type two plan good\", \"good patient sugar honey bad\", \"blood sugar level affect effect\", \"drink alcohol milk type two\", \"normal blood level sugar glucos\", \"nick jona brother get miley\", \"affect system bodi effect type\", \"get wors kid tell cat\", \"definit high fat dibeti ii\", \"cure one natur type found\", \"affect system bodi effect type\", \"symptom sign blood sugar low\", \"mani peopl suffer current us\", \"get wors kid tell cat\", \"diseas communic type curabl chronic\", \"caus blood high sugar low\", \"sugar blood one type insulin\", \"symptom sign blood sugar low\", \"caus blood high sugar low\", \"symptom sign blood sugar low\", \"get type know two one\", \"hundr blood one sugar level\", \"glucos blood level control insulin\", \"caus mellitu type one two\", \"blood sugar low high level\", \"type mean definit two dignos\", \"patient use take get give\", \"good patient sugar honey bad\", \"insulin inject use type human\", \"treatment take major symptom health\", \"mani peopl suffer current us\", \"affect system bodi effect type\", \"good patient sugar honey bad\", \"insulin inject use type human\", \"insulin inject use type human\", \"normal blood level sugar glucos\", \"eat food type avoid fruit\", \"glucos blood level control insulin\", \"type mean definit two dignos\", \"normal blood level sugar glucos\", \"hundr blood one sugar level\", \"normal blood level sugar glucos\", \"get pregnant without affect join\", \"insulin inject use type human\", \"blood level featur ketosi hypoglcemia\", \"eat food type avoid fruit\", \"type mean definit two dignos\", \"patient use take get give\", \"patient use take get give\", \"caus mellitu type one two\", \"safe person work alon god\", \"get type know two one\", \"diseas communic type curabl chronic\", \"mani peopl suffer current us\", \"affect system bodi effect type\", \"insulin glucos produc vitamin rais\", \"sugar blood one type insulin\", \"nick jona brother get miley\", \"find recip food diet list\", \"caus mellitu type one two\", \"find recip food diet list\", \"hundr blood one sugar level\", \"diet type two plan good\", \"good patient sugar honey bad\", \"definit high fat dibeti ii\", \"eat food type avoid fruit\", \"cure one natur type found\", \"insulin invent discov year frederick\", \"might male frequent urin twin\", \"find recip food diet list\", \"hundr blood one sugar level\", \"diseas communic type curabl chronic\", \"insulin inject use type human\", \"good patient sugar honey bad\", \"patient use take get give\", \"sugar blood one type insulin\", \"normal blood level sugar glucos\", \"cure one natur type found\", \"die lead caus peopl blood\", \"insulin take doctor claim money\", \"test blood sugar glucos fast\", \"diseas communic type curabl chronic\", \"hundr blood one sugar level\", \"research done sun soup scientist\", \"find recip food diet list\", \"patient use take get give\", \"effect caus side urin frequent\", \"eat food type avoid fruit\", \"symptom sign blood sugar low\", \"affect system bodi effect type\", \"insulin inject use type human\", \"cure one natur type found\", \"good patient sugar honey bad\", \"caus mellitu type one two\", \"insulin take doctor claim money\", \"treatment medic natur good remedi\", \"sugar blood one type insulin\", \"diseas communic type curabl chronic\", \"sugar blood one type insulin\", \"sugar blood one type insulin\", \"drink alcohol milk type two\", \"diseas communic type curabl chronic\", \"diet type two plan good\", \"normal blood level sugar glucos\", \"sugar blood one type insulin\", \"diseas communic type curabl chronic\", \"caus mellitu type one two\", \"normal blood level sugar glucos\", \"get pregnant without affect join\", \"symptom sign blood sugar low\", \"normal blood level sugar glucos\", \"insulin invent discov year frederick\", \"gestat pregnanc occur pregnant women\", \"find recip food diet list\", \"drink alcohol milk type two\", \"normal blood level sugar glucos\", \"blood sugar low high level\", \"might male frequent urin twin\", \"patient use take get give\", \"patient use take get give\", \"caus would finger feet ach\", \"diet type two plan good\", \"hundr blood one sugar level\", \"might male frequent urin twin\", \"symptom sign blood sugar low\", \"insulin inject use type human\", \"blood sugar level affect effect\", \"eat food type avoid fruit\", \"eat food type avoid fruit\", \"test blood diagnos aid determin\", \"normal blood level sugar glucos\", \"eat food type avoid fruit\", \"diet type two plan good\", \"get pregnant without affect join\", \"patient use take get give\", \"find recip food diet list\", \"die lead caus peopl blood\", \"effect caus side urin frequent\", \"sugar blood one type insulin\", \"caus would finger feet ach\", \"insulin inject use type human\", \"find recip food diet list\", \"normal blood level sugar glucos\", \"caus blood high sugar low\", \"find recip food diet list\", \"sugar blood one type insulin\", \"treatment medic natur good remedi\", \"test blood diagnos aid determin\", \"caus mellitu type one two\", \"diet menu food safe plan\", \"sugar blood one type insulin\", \"sugar blood one type insulin\", \"blood sugar level affect effect\", \"diet menu food safe plan\", \"safe person work alon god\", \"eat food type avoid fruit\", \"hundr blood one sugar level\", \"diet type two plan good\", \"affect system bodi effect type\", \"find recip food diet list\", \"diet type two plan good\", \"diet menu food safe plan\", \"get type know two one\", \"sugar blood one type insulin\", \"eat food type avoid fruit\", \"symptom sign blood sugar low\", \"blood sugar low high level\", \"normal blood level sugar glucos\", \"diet type two plan good\", \"four complic system\", \"find recip food diet list\", \"definit high fat dibeti ii\", \"nick jona brother get miley\", \"eat food type avoid fruit\", \"affect system bodi effect type\", \"nick jona brother get miley\", \"four complic system\", \"blood sugar low high level\", \"treatment medic natur good remedi\", \"type one two caus mellitu\", \"die lead caus peopl blood\", \"insulin take doctor claim money\", \"find recip food diet list\", \"die lead caus peopl blood\", \"nick jona brother get miley\", \"caus would finger feet ach\", \"nick jona brother get miley\", \"eat food type avoid fruit\", \"hundr blood one sugar level\", \"diet type two plan good\", \"treatment medic natur good remedi\", \"caus mellitu type one two\", \"normal blood level sugar glucos\", \"test blood diagnos aid determin\", \"get type know two one\", \"get pregnant without affect join\", \"effect caus side urin frequent\", \"find recip food diet list\", \"die lead caus peopl blood\", \"diet menu food safe plan\", \"diet type two plan good\", \"get wors kid tell cat\", \"hundr blood one sugar level\", \"caus blood high sugar low\", \"caus blood high sugar low\", \"eat food type avoid fruit\", \"eat food type avoid fruit\", \"find recip food diet list\", \"good patient sugar honey bad\", \"sugar blood one type insulin\", \"diet type two plan good\", \"glucos blood level control insulin\", \"type mean definit two dignos\", \"type mean definit two dignos\", \"find recip food diet list\", \"find recip food diet list\", \"diet type two plan good\", \"caus would finger feet ach\", \"cure one natur type found\", \"test blood diagnos aid determin\", \"sugar blood one type insulin\", \"get wors kid tell cat\", \"blood sugar low high level\", \"hundr blood one sugar level\", \"caus would finger feet ach\", \"might male frequent urin twin\", \"eat food type avoid fruit\", \"sugar blood one type insulin\", \"cure one natur type found\", \"sugar blood one type insulin\", \"find recip food diet list\", \"insulin inject use type human\", \"get type know two one\", \"find recip food diet list\", \"insulin inject use type human\", \"test blood sugar glucos fast\", \"sugar blood one type insulin\", \"sugar blood one type insulin\", \"insulin inject use type human\", \"effect caus side urin frequent\", \"type one two caus mellitu\", \"test blood diagnos aid determin\", \"effect caus side urin frequent\", \"mani peopl suffer current us\", \"eat food type avoid fruit\", \"normal blood level sugar glucos\", \"affect system bodi effect type\", \"blood sugar low high level\", \"type one two caus mellitu\", \"eat food type avoid fruit\", \"diet type two plan good\", \"effect caus side urin frequent\", \"nick jona brother get miley\", \"caus mellitu type one two\", \"normal blood level sugar glucos\", \"diet type two plan good\", \"find recip food diet list\", \"find recip food diet list\", \"sugar blood one type insulin\", \"affect system bodi effect type\", \"type mean definit two dignos\", \"get wors kid tell cat\", \"type one two caus mellitu\", \"type one two caus mellitu\", \"normal blood level sugar glucos\", \"type mean definit two dignos\", \"insulin inject use type human\", \"test blood sugar glucos fast\", \"normal blood level sugar glucos\", \"sugar blood one type insulin\", \"normal blood level sugar glucos\", \"type one two caus mellitu\", \"symptom sign blood sugar low\", \"normal blood level sugar glucos\", \"symptom sign blood sugar low\", \"caus would finger feet ach\", \"get wors kid tell cat\", \"blood sugar low high level\", \"normal blood level sugar glucos\", \"get type know two one\", \"mani peopl suffer current us\", \"eat food type avoid fruit\", \"insulin inject use type human\", \"insulin inject use type human\", \"good patient sugar honey bad\", \"eat food type avoid fruit\", \"diet menu food safe plan\", \"affect system bodi effect type\", \"find recip food diet list\", \"caus mellitu type one two\", \"affect system bodi effect type\", \"find recip food diet list\", \"sugar blood one type insulin\", \"get pregnant without affect join\", \"type one two caus mellitu\", \"eat food type avoid fruit\", \"insulin inject use type human\", \"insulin inject use type human\", \"drink alcohol milk type two\", \"eat food type avoid fruit\", \"diet type two plan good\", \"symptom sign blood sugar low\", \"find recip food diet list\", \"test blood sugar glucos fast\", \"eat food type avoid fruit\", \"find recip food diet list\", \"insulin inject use type human\", \"sugar blood one type insulin\", \"type one two caus mellitu\", \"sugar blood one type insulin\", \"affect system bodi effect type\", \"blood sugar level affect effect\", \"drink alcohol milk type two\", \"sugar blood one type insulin\", \"diseas communic type curabl chronic\", \"blood sugar level consid eat\", \"insulin invent discov year frederick\", \"good patient sugar honey bad\", \"caus mellitu type one two\", \"treatment take major symptom health\", \"find recip food diet list\", \"normal blood level sugar glucos\", \"type one two caus mellitu\", \"type one two caus mellitu\", \"test blood diagnos aid determin\", \"might male frequent urin twin\", \"affect system bodi effect type\", \"find recip food diet list\", \"get type know two one\", \"affect system bodi effect type\", \"drink alcohol milk type two\", \"might male frequent urin twin\", \"type one two caus mellitu\", \"eat food type avoid fruit\", \"test blood diagnos aid determin\", \"mani peopl suffer current us\", \"symptom sign blood sugar low\", \"effect caus side urin frequent\", \"type one two caus mellitu\", \"get pregnant without affect join\", \"get type know two one\", \"diseas communic type curabl chronic\", \"diet type two plan good\", \"caus mellitu type one two\", \"good patient sugar honey bad\", \"drink alcohol milk type two\", \"eat food type avoid fruit\", \"symptom sign blood sugar low\", \"effect caus side urin frequent\", \"caus would finger feet ach\", \"diseas communic type curabl chronic\", \"research done sun soup scientist\", \"die lead caus peopl blood\", \"caus mellitu type one two\", \"get type know two one\", \"symptom sign blood sugar low\", \"get type know two one\", \"research done sun soup scientist\", \"treatment medic natur good remedi\", \"nick jona brother get miley\", \"blood sugar level consid eat\", \"eat food type avoid fruit\", \"symptom sign blood sugar low\", \"effect caus side urin frequent\", \"diseas communic type curabl chronic\", \"definit high fat dibeti ii\", \"affect system bodi effect type\", \"drink alcohol milk type two\", \"sugar blood one type insulin\", \"type one two caus mellitu\", \"blood sugar level affect effect\", \"caus would finger feet ach\", \"good patient sugar honey bad\", \"hundr blood one sugar level\", \"find recip food diet list\", \"get type know two one\", \"type one two caus mellitu\", \"caus would finger feet ach\", \"mani peopl suffer current us\", \"caus mellitu type one two\", \"research done sun soup scientist\", \"eat food type avoid fruit\", \"might male frequent urin twin\", \"type one two caus mellitu\", \"treatment medic natur good remedi\", \"blood sugar level affect effect\", \"type one two caus mellitu\", \"glucos blood level control insulin\", \"caus blood high sugar low\", \"type one two caus mellitu\", \"patient use take get give\", \"type one two caus mellitu\", \"patient use take get give\", \"patient use take get give\", \"insulin inject use type human\", \"patient use take get give\", \"type one two caus mellitu\", \"cure one natur type found\", \"patient use take get give\", \"diet type two plan good\", \"hundr blood one sugar level\", \"die lead caus peopl blood\", \"caus mellitu type one two\", \"hundr blood one sugar level\", \"type one two caus mellitu\", \"find recip food diet list\", \"nick jona brother get miley\", \"test blood diagnos aid determin\", \"diet type two plan good\", \"four complic system\", \"type one two caus mellitu\", \"find recip food diet list\", \"get pregnant without affect join\", \"get type know two one\", \"blood sugar low high level\", \"test blood diagnos aid determin\", \"eat food type avoid fruit\", \"type one two caus mellitu\", \"insulin inject use type human\", \"get type know two one\", \"eat food type avoid fruit\", \"sugar blood one type insulin\", \"treatment medic natur good remedi\", \"hundr blood one sugar level\", \"eat food type avoid fruit\", \"blood sugar low high level\", \"affect system bodi effect type\", \"symptom sign blood sugar low\", \"research done sun soup scientist\", \"get type know two one\", \"blood sugar low high level\", \"sugar blood one type insulin\", \"find recip food diet list\", \"blood sugar low high level\", \"eat food type avoid fruit\", \"eat food type avoid fruit\", \"caus mellitu type one two\", \"insulin inject use type human\", \"caus would finger feet ach\", \"type one two caus mellitu\", \"sugar blood one type insulin\", \"good patient sugar honey bad\", \"caus would finger feet ach\", \"cure one natur type found\", \"research done sun soup scientist\", \"get type know two one\", \"sugar blood one type insulin\", \"treatment medic natur good remedi\", \"gestat pregnanc occur pregnant women\", \"normal blood level sugar glucos\", \"hundr blood one sugar level\", \"eat food type avoid fruit\", \"normal blood level sugar glucos\", \"diet type two plan good\", \"eat food type avoid fruit\", \"affect system bodi effect type\", \"blood level featur ketosi hypoglcemia\", \"type mean definit two dignos\", \"find recip food diet list\", \"diet menu food safe plan\", \"eat food type avoid fruit\", \"type mean definit two dignos\", \"patient use take get give\", \"sugar blood one type insulin\", \"diet type two plan good\", \"symptom sign blood sugar low\", \"symptom sign blood sugar low\", \"get type know two one\", \"type one two caus mellitu\", \"type mean definit two dignos\", \"drink alcohol milk type two\", \"good patient sugar honey bad\", \"symptom sign blood sugar low\", \"diet type two plan good\", \"normal blood level sugar glucos\", \"caus blood high sugar low\", \"blood sugar level affect effect\", \"eat food type avoid fruit\", \"glucos blood level control insulin\", \"sugar blood one type insulin\", \"get pregnant without affect join\", \"test blood sugar glucos fast\", \"affect system bodi effect type\", \"four complic system\", \"find recip food diet list\", \"type one two caus mellitu\", \"eat food type avoid fruit\", \"find recip food diet list\", \"get type know two one\", \"caus mellitu type one two\", \"caus blood high sugar low\", \"eat food type avoid fruit\", \"die lead caus peopl blood\", \"caus mellitu type one two\", \"symptom sign blood sugar low\", \"sugar blood one type insulin\", \"eat food type avoid fruit\", \"hundr blood one sugar level\", \"glucos blood level control insulin\", \"test blood diagnos aid determin\", \"get type know two one\", \"diet type two plan good\", \"mani peopl suffer current us\", \"treatment medic natur good remedi\", \"get pregnant without affect join\", \"find recip food diet list\", \"diet type two plan good\", \"get wors kid tell cat\", \"blood sugar low high level\", \"eat food type avoid fruit\", \"caus blood high sugar low\", \"sugar blood one type insulin\", \"hundr blood one sugar level\", \"sugar blood one type insulin\", \"eat food type avoid fruit\", \"test blood diagnos aid determin\", \"symptom sign blood sugar low\", \"patient use take get give\", \"treatment medic natur good remedi\", \"diseas communic type curabl chronic\", \"diet type two plan good\", \"glucos blood level control insulin\", \"sugar blood one type insulin\", \"find recip food diet list\", \"find recip food diet list\", \"blood level featur ketosi hypoglcemia\", \"normal blood level sugar glucos\", \"type one two caus mellitu\", \"affect system bodi effect type\", \"type one two caus mellitu\", \"sugar blood one type insulin\", \"hundr blood one sugar level\", \"cure one natur type found\", \"insulin inject use type human\", \"nick jona brother get miley\", \"caus mellitu type one two\", \"get type know two one\", \"good patient sugar honey bad\", \"blood level featur ketosi hypoglcemia\", \"hundr blood one sugar level\", \"type mean definit two dignos\", \"caus mellitu type one two\", \"diet type two plan good\", \"drink alcohol milk type two\", \"gestat pregnanc occur pregnant women\", \"hundr blood one sugar level\", \"type one two caus mellitu\", \"test blood diagnos aid determin\", \"symptom sign blood sugar low\", \"blood sugar level affect effect\", \"eat food type avoid fruit\", \"type one two caus mellitu\", \"type one two caus mellitu\", \"insulin invent discov year frederick\", \"find recip food diet list\", \"drink alcohol milk type two\", \"symptom sign blood sugar low\", \"definit high fat dibeti ii\", \"normal blood level sugar glucos\", \"mani peopl suffer current us\", \"get type know two one\", \"blood sugar low high level\", \"sugar blood one type insulin\", \"symptom sign blood sugar low\", \"normal blood level sugar glucos\", \"insulin inject use type human\", \"four complic system\", \"hundr blood one sugar level\", \"get type know two one\", \"normal blood level sugar glucos\", \"get pregnant without affect join\", \"eat food type avoid fruit\", \"diseas communic type curabl chronic\", \"diet type two plan good\", \"symptom sign blood sugar low\", \"cure one natur type found\", \"find recip food diet list\", \"caus blood high sugar low\", \"diseas communic type curabl chronic\", \"get pregnant without affect join\", \"nick jona brother get miley\", \"eat food type avoid fruit\", \"insulin invent discov year frederick\", \"normal blood level sugar glucos\", \"symptom sign blood sugar low\", \"type one two caus mellitu\", \"find recip food diet list\", \"diet type two plan good\", \"diet type two plan good\", \"good patient sugar honey bad\", \"eat food type avoid fruit\", \"get type know two one\", \"get wors kid tell cat\", \"eat food type avoid fruit\", \"hundr blood one sugar level\", \"symptom sign blood sugar low\", \"find recip food diet list\", \"glucos blood level control insulin\", \"eat food type avoid fruit\", \"get type know two one\", \"find recip food diet list\", \"eat food type avoid fruit\", \"blood sugar low high level\", \"cure one natur type found\", \"sugar blood one type insulin\", \"cure one natur type found\", \"diet type two plan good\", \"hundr blood one sugar level\", \"type mean definit two dignos\", \"type mean definit two dignos\", \"get type know two one\", \"hundr blood one sugar level\", \"safe person work alon god\", \"find recip food diet list\", \"caus mellitu type one two\", \"hundr blood one sugar level\", \"nick jona brother get miley\", \"sugar blood one type insulin\", \"patient use take get give\", \"insulin inject use type human\", \"mani peopl suffer current us\", \"diseas communic type curabl chronic\", \"symptom sign blood sugar low\", \"hundr blood one sugar level\", \"patient use take get give\", \"insulin inject use type human\", \"get wors kid tell cat\", \"cure one natur type found\", \"eat food type avoid fruit\", \"affect system bodi effect type\", \"caus mellitu type one two\", \"caus mellitu type one two\", \"test blood sugar glucos fast\", \"nick jona brother get miley\", \"eat food type avoid fruit\", \"caus mellitu type one two\", \"nick jona brother get miley\", \"eat food type avoid fruit\", \"type one two caus mellitu\", \"insulin take doctor claim money\", \"find recip food diet list\", \"drink alcohol milk type two\", \"get type know two one\", \"sugar blood one type insulin\", \"hundr blood one sugar level\", \"sugar blood one type insulin\", \"get type know two one\", \"good patient sugar honey bad\", \"treatment medic natur good remedi\", \"sugar blood one type insulin\", \"get type know two one\", \"hundr blood one sugar level\", \"nick jona brother get miley\", \"caus mellitu type one two\", \"find recip food diet list\", \"sugar blood one type insulin\", \"symptom sign blood sugar low\", \"diet type two plan good\", \"type mean definit two dignos\", \"type one two caus mellitu\", \"diet type two plan good\", \"symptom sign blood sugar low\", \"caus would finger feet ach\", \"nick jona brother get miley\", \"definit high fat dibeti ii\", \"affect system bodi effect type\", \"get type know two one\", \"affect system bodi effect type\", \"normal blood level sugar glucos\", \"blood level featur ketosi hypoglcemia\", \"eat food type avoid fruit\", \"patient use take get give\", \"blood level featur ketosi hypoglcemia\", \"type one two caus mellitu\", \"symptom sign blood sugar low\", \"blood level featur ketosi hypoglcemia\", \"sugar blood one type insulin\", \"effect caus side urin frequent\", \"normal blood level sugar glucos\", \"blood level featur ketosi hypoglcemia\", \"symptom sign blood sugar low\", \"hundr blood one sugar level\", \"find recip food diet list\", \"symptom sign blood sugar low\", \"nick jona brother get miley\", \"eat food type avoid fruit\", \"gestat pregnanc occur pregnant women\", \"insulin inject use type human\", \"patient use take get give\", \"get type know two one\", \"get type know two one\", \"eat food type avoid fruit\", \"type one two caus mellitu\", \"blood sugar level affect effect\", \"patient use take get give\", \"hundr blood one sugar level\", \"insulin glucos produc vitamin rais\", \"find recip food diet list\", \"type one two caus mellitu\", \"type one two caus mellitu\", \"type one two caus mellitu\", \"type one two caus mellitu\", \"insulin glucos produc vitamin rais\", \"drink alcohol milk type two\", \"type one two caus mellitu\", \"type one two caus mellitu\", \"symptom sign blood sugar low\", \"symptom sign blood sugar low\", \"type one two caus mellitu\", \"type one two caus mellitu\", \"type one two caus mellitu\", \"blood level featur ketosi hypoglcemia\", \"type one two caus mellitu\", \"test blood diagnos aid determin\", \"type one two caus mellitu\", \"find recip food diet list\", \"affect system bodi effect type\", \"blood sugar low high level\", \"patient use take get give\", \"find recip food diet list\", \"normal blood level sugar glucos\", \"patient use take get give\", \"effect caus side urin frequent\", \"eat food type avoid fruit\", \"find recip food diet list\", \"glucos blood level control insulin\", \"nick jona brother get miley\", \"type one two caus mellitu\", \"blood level featur ketosi hypoglcemia\", \"hundr blood one sugar level\", \"diseas communic type curabl chronic\", \"type mean definit two dignos\", \"nick jona brother get miley\", \"eat food type avoid fruit\", \"sugar blood one type insulin\", \"sugar blood one type insulin\", \"caus would finger feet ach\", \"insulin inject use type human\", \"diet type two plan good\", \"good patient sugar honey bad\", \"affect system bodi effect type\", \"diet type two plan good\", \"treatment take major symptom health\", \"affect system bodi effect type\", \"type one two caus mellitu\", \"find recip food diet list\", \"test blood sugar glucos fast\", \"patient use take get give\", \"treatment medic natur good remedi\", \"get wors kid tell cat\", \"find recip food diet list\", \"symptom sign blood sugar low\", \"good patient sugar honey bad\", \"find recip food diet list\", \"research done sun soup scientist\", \"insulin inject use type human\", \"eat food type avoid fruit\", \"insulin take doctor claim money\", \"diet type two plan good\", \"blood sugar level affect effect\", \"eat food type avoid fruit\", \"type one two caus mellitu\", \"get type know two one\", \"diet type two plan good\", \"treatment medic natur good remedi\", \"find recip food diet list\", \"sugar blood one type insulin\", \"hundr blood one sugar level\", \"get wors kid tell cat\", \"safe person work alon god\", \"affect system bodi effect type\", \"insulin take doctor claim money\", \"blood sugar low high level\", \"diet type two plan good\", \"treatment medic natur good remedi\", \"hundr blood one sugar level\", \"insulin inject use type human\", \"cure one natur type found\", \"sugar blood one type insulin\", \"get wors kid tell cat\", \"get pregnant without affect join\", \"find recip food diet list\", \"sugar blood one type insulin\", \"cure one natur type found\", \"sugar blood one type insulin\", \"good patient sugar honey bad\", \"blood sugar low high level\", \"sugar blood one type insulin\", \"gestat pregnanc occur pregnant women\", \"hundr blood one sugar level\", \"symptom sign blood sugar low\", \"eat food type avoid fruit\", \"good patient sugar honey bad\", \"sugar blood one type insulin\", \"eat food type avoid fruit\", \"type one two caus mellitu\", \"diet type two plan good\", \"get wors kid tell cat\", \"cure one natur type found\", \"get type know two one\", \"might male frequent urin twin\", \"diet type two plan good\", \"test blood sugar glucos fast\", \"mani peopl suffer current us\", \"caus blood high sugar low\", \"find recip food diet list\", \"get type know two one\", \"insulin inject use type human\", \"cure one natur type found\", \"get type know two one\", \"find recip food diet list\", \"glucos blood level control insulin\", \"symptom sign blood sugar low\", \"definit high fat dibeti ii\", \"find recip food diet list\", \"four complic system\", \"diet type two plan good\", \"get type know two one\", \"sugar blood one type insulin\", \"eat food type avoid fruit\", \"find recip food diet list\", \"nick jona brother get miley\", \"type mean definit two dignos\", \"sugar blood one type insulin\", \"insulin take doctor claim money\", \"normal blood level sugar glucos\", \"symptom sign blood sugar low\", \"affect system bodi effect type\", \"safe person work alon god\", \"research done sun soup scientist\", \"sugar blood one type insulin\", \"type one two caus mellitu\", \"diet type two plan good\", \"symptom sign blood sugar low\", \"diseas communic type curabl chronic\", \"die lead caus peopl blood\", \"blood sugar level affect effect\", \"mani peopl suffer current us\", \"blood sugar level consid eat\", \"blood sugar low high level\", \"good patient sugar honey bad\", \"get type know two one\", \"patient use take get give\", \"blood level featur ketosi hypoglcemia\", \"type one two caus mellitu\", \"find recip food diet list\", \"insulin inject use type human\", \"type one two caus mellitu\", \"patient use take get give\", \"type one two caus mellitu\", \"diet menu food safe plan\", \"insulin inject use type human\", \"find recip food diet list\", \"good patient sugar honey bad\", \"normal blood level sugar glucos\", \"find recip food diet list\", \"blood sugar low high level\", \"type one two caus mellitu\", \"diseas communic type curabl chronic\", \"diet type two plan good\", \"patient use take get give\", \"type one two caus mellitu\", \"find recip food diet list\", \"find recip food diet list\", \"type one two caus mellitu\", \"normal blood level sugar glucos\", \"blood sugar low high level\", \"caus blood high sugar low\", \"normal blood level sugar glucos\", \"treatment medic natur good remedi\", \"find recip food diet list\", \"find recip food diet list\", \"definit high fat dibeti ii\", \"die lead caus peopl blood\", \"get pregnant without affect join\", \"get type know two one\", \"get wors kid tell cat\", \"find recip food diet list\", \"good patient sugar honey bad\", \"sugar blood one type insulin\", \"diet type two plan good\", \"type mean definit two dignos\", \"eat food type avoid fruit\", \"definit high fat dibeti ii\", \"normal blood level sugar glucos\", \"type mean definit two dignos\", \"insulin inject use type human\", \"insulin inject use type human\", \"hundr blood one sugar level\", \"effect caus side urin frequent\", \"blood sugar low high level\", \"get type know two one\", \"normal blood level sugar glucos\", \"caus mellitu type one two\", \"type one two caus mellitu\", \"insulin invent discov year frederick\", \"eat food type avoid fruit\", \"blood sugar low high level\", \"find recip food diet list\", \"symptom sign blood sugar low\", \"glucos blood level control insulin\", \"get type know two one\", \"drink alcohol milk type two\", \"glucos blood level control insulin\", \"hundr blood one sugar level\", \"eat food type avoid fruit\", \"symptom sign blood sugar low\", \"normal blood level sugar glucos\", \"diet type two plan good\", \"sugar blood one type insulin\", \"eat food type avoid fruit\", \"good patient sugar honey bad\", \"diseas communic type curabl chronic\", \"caus mellitu type one two\", \"get type know two one\", \"drink alcohol milk type two\", \"cure one natur type found\", \"hundr blood one sugar level\", \"insulin inject use type human\", \"diet type two plan good\", \"sugar blood one type insulin\", \"eat food type avoid fruit\", \"affect system bodi effect type\", \"blood sugar low high level\", \"get wors kid tell cat\", \"sugar blood one type insulin\", \"get wors kid tell cat\", \"find recip food diet list\", \"caus mellitu type one two\", \"eat food type avoid fruit\", \"symptom sign blood sugar low\", \"get type know two one\", \"diseas communic type curabl chronic\", \"eat food type avoid fruit\", \"drink alcohol milk type two\", \"insulin inject use type human\", \"diseas communic type curabl chronic\", \"diet type two plan good\", \"get type know two one\", \"get type know two one\", \"caus would finger feet ach\", \"normal blood level sugar glucos\", \"symptom sign blood sugar low\", \"mani peopl suffer current us\", \"good patient sugar honey bad\", \"find recip food diet list\", \"diet type two plan good\", \"eat food type avoid fruit\", \"sugar blood one type insulin\", \"hundr blood one sugar level\", \"eat food type avoid fruit\", \"symptom sign blood sugar low\", \"treatment medic natur good remedi\", \"normal blood level sugar glucos\", \"good patient sugar honey bad\", \"sugar blood one type insulin\", \"type mean definit two dignos\", \"treatment medic natur good remedi\", \"find recip food diet list\", \"blood level featur ketosi hypoglcemia\", \"affect system bodi effect type\", \"affect system bodi effect type\", \"insulin inject use type human\", \"sugar blood one type insulin\", \"definit high fat dibeti ii\", \"normal blood level sugar glucos\", \"insulin inject use type human\", \"definit high fat dibeti ii\", \"caus mellitu type one two\", \"good patient sugar honey bad\", \"die lead caus peopl blood\", \"get type know two one\", \"mani peopl suffer current us\", \"find recip food diet list\", \"find recip food diet list\", \"insulin inject use type human\", \"blood sugar level affect effect\", \"sugar blood one type insulin\", \"nick jona brother get miley\", \"effect caus side urin frequent\", \"type mean definit two dignos\", \"nick jona brother get miley\", \"patient use take get give\", \"test blood sugar glucos fast\", \"type one two caus mellitu\", \"normal blood level sugar glucos\", \"effect caus side urin frequent\", \"affect system bodi effect type\", \"find recip food diet list\", \"eat food type avoid fruit\", \"caus would finger feet ach\", \"treatment medic natur good remedi\", \"hundr blood one sugar level\", \"diseas communic type curabl chronic\", \"insulin glucos produc vitamin rais\", \"get type know two one\", \"drink alcohol milk type two\", \"die lead caus peopl blood\", \"find recip food diet list\", \"eat food type avoid fruit\", \"affect system bodi effect type\", \"nick jona brother get miley\", \"blood sugar low high level\", \"treatment medic natur good remedi\", \"symptom sign blood sugar low\", \"patient use take get give\", \"sugar blood one type insulin\", \"caus mellitu type one two\", \"caus mellitu type one two\", \"glucos blood level control insulin\", \"affect system bodi effect type\", \"affect system bodi effect type\", \"diet type two plan good\", \"insulin inject use type human\", \"insulin inject use type human\", \"treatment medic natur good remedi\", \"get pregnant without affect join\", \"caus mellitu type one two\", \"find recip food diet list\", \"blood sugar level consid eat\", \"patient use take get give\", \"type one two caus mellitu\", \"hundr blood one sugar level\", \"get type know two one\", \"get pregnant without affect join\", \"blood sugar level affect effect\", \"get type know two one\", \"hundr blood one sugar level\", \"type one two caus mellitu\", \"type mean definit two dignos\", \"get type know two one\", \"treatment medic natur good remedi\", \"cure one natur type found\", \"get pregnant without affect join\", \"get type know two one\", \"type one two caus mellitu\", \"type one two caus mellitu\", \"find recip food diet list\", \"symptom sign blood sugar low\", \"type one two caus mellitu\", \"nick jona brother get miley\", \"type one two caus mellitu\", \"safe person work alon god\", \"insulin invent discov year frederick\", \"find recip food diet list\", \"sugar blood one type insulin\", \"type mean definit two dignos\", \"sugar blood one type insulin\", \"insulin invent discov year frederick\", \"nick jona brother get miley\", \"diet type two plan good\", \"symptom sign blood sugar low\", \"good patient sugar honey bad\", \"symptom sign blood sugar low\", \"effect caus side urin frequent\", \"type one two caus mellitu\", \"find recip food diet list\", \"diet type two plan good\", \"symptom sign blood sugar low\", \"get wors kid tell cat\", \"insulin inject use type human\", \"eat food type avoid fruit\", \"insulin take doctor claim money\", \"treatment medic natur good remedi\", \"type one two caus mellitu\", \"normal blood level sugar glucos\", \"get type know two one\", \"insulin inject use type human\", \"hundr blood one sugar level\", \"eat food type avoid fruit\", \"sugar blood one type insulin\", \"normal blood level sugar glucos\", \"find recip food diet list\", \"find recip food diet list\", \"normal blood level sugar glucos\", \"get type know two one\", \"eat food type avoid fruit\", \"type one two caus mellitu\", \"diseas communic type curabl chronic\", \"sugar blood one type insulin\", \"eat food type avoid fruit\", \"eat food type avoid fruit\", \"good patient sugar honey bad\", \"treatment take major symptom health\", \"sugar blood one type insulin\", \"blood level featur ketosi hypoglcemia\", \"find recip food diet list\", \"insulin inject use type human\", \"eat food type avoid fruit\", \"normal blood level sugar glucos\", \"affect system bodi effect type\", \"find recip food diet list\", \"diet type two plan good\", \"insulin inject use type human\", \"symptom sign blood sugar low\", \"mani peopl suffer current us\", \"sugar blood one type insulin\", \"diet type two plan good\", \"find recip food diet list\", \"test blood diagnos aid determin\", \"insulin inject use type human\", \"hundr blood one sugar level\", \"caus blood high sugar low\", \"blood level featur ketosi hypoglcemia\", \"drink alcohol milk type two\", \"test blood diagnos aid determin\", \"get type know two one\", \"find recip food diet list\", \"blood sugar low high level\", \"get pregnant without affect join\", \"eat food type avoid fruit\", \"get type know two one\", \"insulin inject use type human\", \"find recip food diet list\", \"good patient sugar honey bad\", \"find recip food diet list\", \"normal blood level sugar glucos\", \"eat food type avoid fruit\", \"treatment medic natur good remedi\", \"hundr blood one sugar level\", \"eat food type avoid fruit\", \"symptom sign blood sugar low\", \"caus mellitu type one two\", \"sugar blood one type insulin\", \"diet type two plan good\", \"eat food type avoid fruit\", \"type one two caus mellitu\", \"eat food type avoid fruit\", \"get type know two one\", \"effect caus side urin frequent\", \"symptom sign blood sugar low\", \"find recip food diet list\", \"find recip food diet list\", \"good patient sugar honey bad\", \"diet menu food safe plan\", \"safe person work alon god\", \"insulin inject use type human\", \"hundr blood one sugar level\", \"insulin inject use type human\", \"hundr blood one sugar level\", \"affect system bodi effect type\", \"symptom sign blood sugar low\", \"type one two caus mellitu\", \"symptom sign blood sugar low\", \"nick jona brother get miley\", \"eat food type avoid fruit\", \"drink alcohol milk type two\", \"nick jona brother get miley\", \"sugar blood one type insulin\", \"sugar blood one type insulin\", \"symptom sign blood sugar low\", \"diet type two plan good\", \"glucos blood level control insulin\", \"diet type two plan good\", \"diet type two plan good\", \"diet type two plan good\", \"get type know two one\", \"eat food type avoid fruit\", \"get type know two one\", \"nick jona brother get miley\", \"effect caus side urin frequent\", \"research done sun soup scientist\", \"find recip food diet list\", \"eat food type avoid fruit\", \"drink alcohol milk type two\", \"insulin inject use type human\", \"test blood diagnos aid determin\", \"eat food type avoid fruit\", \"get type know two one\", \"eat food type avoid fruit\", \"hundr blood one sugar level\", \"sugar blood one type insulin\", \"diet type two plan good\", \"affect system bodi effect type\", \"affect system bodi effect type\", \"good patient sugar honey bad\", \"eat food type avoid fruit\", \"insulin inject use type human\", \"normal blood level sugar glucos\", \"find recip food diet list\", \"diet type two plan good\", \"get type know two one\", \"find recip food diet list\", \"definit high fat dibeti ii\", \"find recip food diet list\", \"glucos blood level control insulin\", \"eat food type avoid fruit\", \"normal blood level sugar glucos\", \"cure one natur type found\", \"eat food type avoid fruit\", \"sugar blood one type insulin\", \"type mean definit two dignos\", \"die lead caus peopl blood\", \"type one two caus mellitu\", \"blood sugar level consid eat\", \"affect system bodi effect type\", \"treatment medic natur good remedi\", \"find recip food diet list\", \"die lead caus peopl blood\", \"gestat pregnanc occur pregnant women\", \"caus would finger feet ach\", \"patient use take get give\", \"insulin inject use type human\", \"insulin inject use type human\", \"might male frequent urin twin\", \"patient use take get give\", \"insulin inject use type human\", \"blood sugar level affect effect\", \"gestat pregnanc occur pregnant women\", \"caus mellitu type one two\", \"get type know two one\", \"caus would finger feet ach\", \"type one two caus mellitu\", \"effect caus side urin frequent\", \"eat food type avoid fruit\", \"type one two caus mellitu\", \"affect system bodi effect type\", \"affect system bodi effect type\", \"eat food type avoid fruit\", \"effect caus side urin frequent\", \"diseas communic type curabl chronic\", \"caus mellitu type one two\", \"find recip food diet list\", \"type mean definit two dignos\", \"effect caus side urin frequent\", \"type one two caus mellitu\", \"eat food type avoid fruit\", \"affect system bodi effect type\", \"treatment medic natur good remedi\", \"symptom sign blood sugar low\", \"type mean definit two dignos\", \"patient use take get give\", \"gestat pregnanc occur pregnant women\", \"insulin inject use type human\", \"type one two caus mellitu\", \"good patient sugar honey bad\", \"die lead caus peopl blood\", \"eat food type avoid fruit\", \"type one two caus mellitu\", \"get type know two one\", \"eat food type avoid fruit\", \"normal blood level sugar glucos\", \"nick jona brother get miley\", \"treatment take major symptom health\", \"nick jona brother get miley\", \"sugar blood one type insulin\", \"sugar blood one type insulin\", \"insulin inject use type human\", \"test blood diagnos aid determin\", \"blood level featur ketosi hypoglcemia\", \"blood sugar level consid eat\", \"get pregnant without affect join\", \"insulin inject use type human\", \"patient use take get give\", \"insulin glucos produc vitamin rais\", \"type one two caus mellitu\", \"type one two caus mellitu\", \"blood level featur ketosi hypoglcemia\", \"affect system bodi effect type\", \"patient use take get give\", \"diseas communic type curabl chronic\", \"find recip food diet list\", \"get type know two one\", \"diseas communic type curabl chronic\", \"diet menu food safe plan\", \"insulin take doctor claim money\", \"good patient sugar honey bad\", \"normal blood level sugar glucos\", \"normal blood level sugar glucos\", \"type one two caus mellitu\", \"find recip food diet list\", \"patient use take get give\", \"type one two caus mellitu\", \"eat food type avoid fruit\", \"insulin inject use type human\", \"blood level featur ketosi hypoglcemia\", \"type one two caus mellitu\", \"safe person work alon god\", \"type one two caus mellitu\", \"eat food type avoid fruit\", \"gestat pregnanc occur pregnant women\", \"diet type two plan good\", \"diseas communic type curabl chronic\", \"diet type two plan good\", \"type one two caus mellitu\", \"hundr blood one sugar level\", \"get type know two one\", \"sugar blood one type insulin\", \"normal blood level sugar glucos\", \"find recip food diet list\", \"nick jona brother get miley\", \"diet type two plan good\", \"affect system bodi effect type\", \"eat food type avoid fruit\", \"patient use take get give\", \"sugar blood one type insulin\", \"good patient sugar honey bad\", \"eat food type avoid fruit\", \"get pregnant without affect join\", \"eat food type avoid fruit\", \"find recip food diet list\", \"definit high fat dibeti ii\", \"eat food type avoid fruit\", \"normal blood level sugar glucos\", \"effect caus side urin frequent\", \"hundr blood one sugar level\", \"find recip food diet list\", \"normal blood level sugar glucos\", \"diseas communic type curabl chronic\", \"find recip food diet list\", \"insulin inject use type human\", \"find recip food diet list\", \"type one two caus mellitu\", \"eat food type avoid fruit\", \"affect system bodi effect type\", \"blood sugar level consid eat\", \"insulin inject use type human\", \"effect caus side urin frequent\", \"type one two caus mellitu\", \"sugar blood one type insulin\", \"eat food type avoid fruit\", \"find recip food diet list\", \"get pregnant without affect join\", \"die lead caus peopl blood\", \"effect caus side urin frequent\", \"find recip food diet list\", \"eat food type avoid fruit\", \"insulin take doctor claim money\", \"caus blood high sugar low\", \"diet type two plan good\", \"good patient sugar honey bad\", \"type mean definit two dignos\", \"caus blood high sugar low\", \"cure one natur type found\", \"normal blood level sugar glucos\", \"sugar blood one type insulin\", \"caus mellitu type one two\", \"glucos blood level control insulin\", \"find recip food diet list\", \"diseas communic type curabl chronic\", \"get type know two one\", \"diet type two plan good\", \"hundr blood one sugar level\", \"mani peopl suffer current us\", \"get pregnant without affect join\", \"eat food type avoid fruit\", \"find recip food diet list\", \"diseas communic type curabl chronic\", \"symptom sign blood sugar low\", \"blood sugar level consid eat\", \"diet type two plan good\", \"type one two caus mellitu\", \"find recip food diet list\", \"normal blood level sugar glucos\", \"blood sugar level consid eat\", \"insulin inject use type human\", \"mani peopl suffer current us\", \"cure one natur type found\", \"diet type two plan good\", \"treatment medic natur good remedi\", \"cure one natur type found\", \"type one two caus mellitu\", \"diet type two plan good\", \"find recip food diet list\", \"glucos blood level control insulin\", \"treatment take major symptom health\", \"hundr blood one sugar level\", \"normal blood level sugar glucos\", \"caus mellitu type one two\", \"eat food type avoid fruit\", \"patient use take get give\", \"cure one natur type found\", \"type one two caus mellitu\", \"type one two caus mellitu\", \"good patient sugar honey bad\", \"diseas communic type curabl chronic\", \"find recip food diet list\", \"affect system bodi effect type\", \"insulin inject use type human\", \"diet type two plan good\", \"type mean definit two dignos\", \"good patient sugar honey bad\", \"blood sugar level affect effect\", \"diet type two plan good\", \"effect caus side urin frequent\", \"normal blood level sugar glucos\", \"hundr blood one sugar level\", \"nick jona brother get miley\", \"type one two caus mellitu\", \"insulin inject use type human\", \"eat food type avoid fruit\", \"affect system bodi effect type\", \"might male frequent urin twin\", \"get type know two one\", \"good patient sugar honey bad\", \"caus blood high sugar low\", \"find recip food diet list\", \"diseas communic type curabl chronic\", \"four complic system\", \"sugar blood one type insulin\", \"normal blood level sugar glucos\", \"insulin inject use type human\", \"eat food type avoid fruit\", \"type one two caus mellitu\", \"type one two caus mellitu\", \"blood sugar low high level\", \"normal blood level sugar glucos\"], \"xaxis\": \"x\", \"yaxis\": \"y\"}],                        {\"barmode\": \"relative\", \"legend\": {\"tracegroupgap\": 0}, \"margin\": {\"t\": 60}, \"template\": {\"data\": {\"bar\": [{\"error_x\": {\"color\": \"#2a3f5f\"}, \"error_y\": {\"color\": \"#2a3f5f\"}, \"marker\": {\"line\": {\"color\": \"#E5ECF6\", \"width\": 0.5}}, \"type\": \"bar\"}], \"barpolar\": [{\"marker\": {\"line\": {\"color\": \"#E5ECF6\", \"width\": 0.5}}, \"type\": \"barpolar\"}], \"carpet\": [{\"aaxis\": {\"endlinecolor\": \"#2a3f5f\", \"gridcolor\": \"white\", \"linecolor\": \"white\", \"minorgridcolor\": \"white\", \"startlinecolor\": \"#2a3f5f\"}, \"baxis\": {\"endlinecolor\": \"#2a3f5f\", \"gridcolor\": \"white\", \"linecolor\": \"white\", \"minorgridcolor\": \"white\", \"startlinecolor\": \"#2a3f5f\"}, \"type\": \"carpet\"}], \"choropleth\": [{\"colorbar\": {\"outlinewidth\": 0, \"ticks\": \"\"}, \"type\": \"choropleth\"}], \"contour\": [{\"colorbar\": {\"outlinewidth\": 0, \"ticks\": \"\"}, \"colorscale\": [[0.0, \"#0d0887\"], [0.1111111111111111, \"#46039f\"], [0.2222222222222222, \"#7201a8\"], [0.3333333333333333, \"#9c179e\"], [0.4444444444444444, \"#bd3786\"], [0.5555555555555556, \"#d8576b\"], [0.6666666666666666, \"#ed7953\"], [0.7777777777777778, \"#fb9f3a\"], [0.8888888888888888, \"#fdca26\"], [1.0, \"#f0f921\"]], \"type\": \"contour\"}], \"contourcarpet\": [{\"colorbar\": {\"outlinewidth\": 0, \"ticks\": \"\"}, \"type\": \"contourcarpet\"}], \"heatmap\": [{\"colorbar\": {\"outlinewidth\": 0, \"ticks\": \"\"}, \"colorscale\": [[0.0, \"#0d0887\"], [0.1111111111111111, \"#46039f\"], [0.2222222222222222, \"#7201a8\"], [0.3333333333333333, \"#9c179e\"], [0.4444444444444444, \"#bd3786\"], [0.5555555555555556, \"#d8576b\"], [0.6666666666666666, \"#ed7953\"], [0.7777777777777778, \"#fb9f3a\"], [0.8888888888888888, \"#fdca26\"], [1.0, \"#f0f921\"]], \"type\": \"heatmap\"}], \"heatmapgl\": [{\"colorbar\": {\"outlinewidth\": 0, \"ticks\": \"\"}, \"colorscale\": [[0.0, \"#0d0887\"], [0.1111111111111111, \"#46039f\"], [0.2222222222222222, \"#7201a8\"], [0.3333333333333333, \"#9c179e\"], [0.4444444444444444, \"#bd3786\"], [0.5555555555555556, \"#d8576b\"], [0.6666666666666666, \"#ed7953\"], [0.7777777777777778, \"#fb9f3a\"], [0.8888888888888888, \"#fdca26\"], [1.0, \"#f0f921\"]], \"type\": \"heatmapgl\"}], \"histogram\": [{\"marker\": {\"colorbar\": {\"outlinewidth\": 0, \"ticks\": \"\"}}, \"type\": \"histogram\"}], \"histogram2d\": [{\"colorbar\": {\"outlinewidth\": 0, \"ticks\": \"\"}, \"colorscale\": [[0.0, \"#0d0887\"], [0.1111111111111111, \"#46039f\"], [0.2222222222222222, \"#7201a8\"], [0.3333333333333333, \"#9c179e\"], [0.4444444444444444, \"#bd3786\"], [0.5555555555555556, \"#d8576b\"], [0.6666666666666666, \"#ed7953\"], [0.7777777777777778, \"#fb9f3a\"], [0.8888888888888888, \"#fdca26\"], [1.0, \"#f0f921\"]], \"type\": \"histogram2d\"}], \"histogram2dcontour\": [{\"colorbar\": {\"outlinewidth\": 0, \"ticks\": \"\"}, \"colorscale\": [[0.0, \"#0d0887\"], [0.1111111111111111, \"#46039f\"], [0.2222222222222222, \"#7201a8\"], [0.3333333333333333, \"#9c179e\"], [0.4444444444444444, \"#bd3786\"], [0.5555555555555556, \"#d8576b\"], [0.6666666666666666, \"#ed7953\"], [0.7777777777777778, \"#fb9f3a\"], [0.8888888888888888, \"#fdca26\"], [1.0, \"#f0f921\"]], \"type\": \"histogram2dcontour\"}], \"mesh3d\": [{\"colorbar\": {\"outlinewidth\": 0, \"ticks\": \"\"}, \"type\": \"mesh3d\"}], \"parcoords\": [{\"line\": {\"colorbar\": {\"outlinewidth\": 0, \"ticks\": \"\"}}, \"type\": \"parcoords\"}], \"pie\": [{\"automargin\": true, \"type\": \"pie\"}], \"scatter\": [{\"marker\": {\"colorbar\": {\"outlinewidth\": 0, \"ticks\": \"\"}}, \"type\": \"scatter\"}], \"scatter3d\": [{\"line\": {\"colorbar\": {\"outlinewidth\": 0, \"ticks\": \"\"}}, \"marker\": {\"colorbar\": {\"outlinewidth\": 0, \"ticks\": \"\"}}, \"type\": \"scatter3d\"}], \"scattercarpet\": [{\"marker\": {\"colorbar\": {\"outlinewidth\": 0, \"ticks\": \"\"}}, \"type\": \"scattercarpet\"}], \"scattergeo\": [{\"marker\": {\"colorbar\": {\"outlinewidth\": 0, \"ticks\": \"\"}}, \"type\": \"scattergeo\"}], \"scattergl\": [{\"marker\": {\"colorbar\": {\"outlinewidth\": 0, \"ticks\": \"\"}}, \"type\": \"scattergl\"}], \"scattermapbox\": [{\"marker\": {\"colorbar\": {\"outlinewidth\": 0, \"ticks\": \"\"}}, \"type\": \"scattermapbox\"}], \"scatterpolar\": [{\"marker\": {\"colorbar\": {\"outlinewidth\": 0, \"ticks\": \"\"}}, \"type\": \"scatterpolar\"}], \"scatterpolargl\": [{\"marker\": {\"colorbar\": {\"outlinewidth\": 0, \"ticks\": \"\"}}, \"type\": \"scatterpolargl\"}], \"scatterternary\": [{\"marker\": {\"colorbar\": {\"outlinewidth\": 0, \"ticks\": \"\"}}, \"type\": \"scatterternary\"}], \"surface\": [{\"colorbar\": {\"outlinewidth\": 0, \"ticks\": \"\"}, \"colorscale\": [[0.0, \"#0d0887\"], [0.1111111111111111, \"#46039f\"], [0.2222222222222222, \"#7201a8\"], [0.3333333333333333, \"#9c179e\"], [0.4444444444444444, \"#bd3786\"], [0.5555555555555556, \"#d8576b\"], [0.6666666666666666, \"#ed7953\"], [0.7777777777777778, \"#fb9f3a\"], [0.8888888888888888, \"#fdca26\"], [1.0, \"#f0f921\"]], \"type\": \"surface\"}], \"table\": [{\"cells\": {\"fill\": {\"color\": \"#EBF0F8\"}, \"line\": {\"color\": \"white\"}}, \"header\": {\"fill\": {\"color\": \"#C8D4E3\"}, \"line\": {\"color\": \"white\"}}, \"type\": \"table\"}]}, \"layout\": {\"annotationdefaults\": {\"arrowcolor\": \"#2a3f5f\", \"arrowhead\": 0, \"arrowwidth\": 1}, \"autotypenumbers\": \"strict\", \"coloraxis\": {\"colorbar\": {\"outlinewidth\": 0, \"ticks\": \"\"}}, \"colorscale\": {\"diverging\": [[0, \"#8e0152\"], [0.1, \"#c51b7d\"], [0.2, \"#de77ae\"], [0.3, \"#f1b6da\"], [0.4, \"#fde0ef\"], [0.5, \"#f7f7f7\"], [0.6, \"#e6f5d0\"], [0.7, \"#b8e186\"], [0.8, \"#7fbc41\"], [0.9, \"#4d9221\"], [1, \"#276419\"]], \"sequential\": [[0.0, \"#0d0887\"], [0.1111111111111111, \"#46039f\"], [0.2222222222222222, \"#7201a8\"], [0.3333333333333333, \"#9c179e\"], [0.4444444444444444, \"#bd3786\"], [0.5555555555555556, \"#d8576b\"], [0.6666666666666666, \"#ed7953\"], [0.7777777777777778, \"#fb9f3a\"], [0.8888888888888888, \"#fdca26\"], [1.0, \"#f0f921\"]], \"sequentialminus\": [[0.0, \"#0d0887\"], [0.1111111111111111, \"#46039f\"], [0.2222222222222222, \"#7201a8\"], [0.3333333333333333, \"#9c179e\"], [0.4444444444444444, \"#bd3786\"], [0.5555555555555556, \"#d8576b\"], [0.6666666666666666, \"#ed7953\"], [0.7777777777777778, \"#fb9f3a\"], [0.8888888888888888, \"#fdca26\"], [1.0, \"#f0f921\"]]}, \"colorway\": [\"#636efa\", \"#EF553B\", \"#00cc96\", \"#ab63fa\", \"#FFA15A\", \"#19d3f3\", \"#FF6692\", \"#B6E880\", \"#FF97FF\", \"#FECB52\"], \"font\": {\"color\": \"#2a3f5f\"}, \"geo\": {\"bgcolor\": \"white\", \"lakecolor\": \"white\", \"landcolor\": \"#E5ECF6\", \"showlakes\": true, \"showland\": true, \"subunitcolor\": \"white\"}, \"hoverlabel\": {\"align\": \"left\"}, \"hovermode\": \"closest\", \"mapbox\": {\"style\": \"light\"}, \"paper_bgcolor\": \"white\", \"plot_bgcolor\": \"#E5ECF6\", \"polar\": {\"angularaxis\": {\"gridcolor\": \"white\", \"linecolor\": \"white\", \"ticks\": \"\"}, \"bgcolor\": \"#E5ECF6\", \"radialaxis\": {\"gridcolor\": \"white\", \"linecolor\": \"white\", \"ticks\": \"\"}}, \"scene\": {\"xaxis\": {\"backgroundcolor\": \"#E5ECF6\", \"gridcolor\": \"white\", \"gridwidth\": 2, \"linecolor\": \"white\", \"showbackground\": true, \"ticks\": \"\", \"zerolinecolor\": \"white\"}, \"yaxis\": {\"backgroundcolor\": \"#E5ECF6\", \"gridcolor\": \"white\", \"gridwidth\": 2, \"linecolor\": \"white\", \"showbackground\": true, \"ticks\": \"\", \"zerolinecolor\": \"white\"}, \"zaxis\": {\"backgroundcolor\": \"#E5ECF6\", \"gridcolor\": \"white\", \"gridwidth\": 2, \"linecolor\": \"white\", \"showbackground\": true, \"ticks\": \"\", \"zerolinecolor\": \"white\"}}, \"shapedefaults\": {\"line\": {\"color\": \"#2a3f5f\"}}, \"ternary\": {\"aaxis\": {\"gridcolor\": \"white\", \"linecolor\": \"white\", \"ticks\": \"\"}, \"baxis\": {\"gridcolor\": \"white\", \"linecolor\": \"white\", \"ticks\": \"\"}, \"bgcolor\": \"#E5ECF6\", \"caxis\": {\"gridcolor\": \"white\", \"linecolor\": \"white\", \"ticks\": \"\"}}, \"title\": {\"x\": 0.05}, \"xaxis\": {\"automargin\": true, \"gridcolor\": \"white\", \"linecolor\": \"white\", \"ticks\": \"\", \"title\": {\"standoff\": 15}, \"zerolinecolor\": \"white\", \"zerolinewidth\": 2}, \"yaxis\": {\"automargin\": true, \"gridcolor\": \"white\", \"linecolor\": \"white\", \"ticks\": \"\", \"title\": {\"standoff\": 15}, \"zerolinecolor\": \"white\", \"zerolinewidth\": 2}}}, \"title\": {\"text\": \"Non-Outlier Cluster Label Distribution (51.8% Retained)\"}, \"xaxis\": {\"anchor\": \"y\", \"domain\": [0.0, 1.0], \"showticklabels\": false, \"title\": {\"text\": \"Clusters\"}}, \"yaxis\": {\"anchor\": \"x\", \"domain\": [0.0, 1.0], \"title\": {\"text\": \"Percent\"}}},                        {\"responsive\": true}                    ).then(function(){\n",
       "                            \n",
       "var gd = document.getElementById('2641d160-1fed-4854-a858-147dccbd47b1');\n",
       "var x = new MutationObserver(function (mutations, observer) {{\n",
       "        var display = window.getComputedStyle(gd).display;\n",
       "        if (!display || display === 'none') {{\n",
       "            console.log([gd, 'removed!']);\n",
       "            Plotly.purge(gd);\n",
       "            observer.disconnect();\n",
       "        }}\n",
       "}});\n",
       "\n",
       "// Listen for the removal of the full notebook cells\n",
       "var notebookContainer = gd.closest('#notebook-container');\n",
       "if (notebookContainer) {{\n",
       "    x.observe(notebookContainer, {childList: true});\n",
       "}}\n",
       "\n",
       "// Listen for the clearing of the current output cell\n",
       "var outputEl = gd.closest('.output');\n",
       "if (outputEl) {{\n",
       "    x.observe(outputEl, {childList: true});\n",
       "}}\n",
       "\n",
       "                        })                };                });            </script>        </div>"
      ]
     },
     "metadata": {},
     "output_type": "display_data"
    }
   ],
   "source": [
    "fig = px.histogram(\n",
    "    df[df['label'] != -1], x='summary', \n",
    "    histnorm='percent', nbins=len(df['label'].unique()))\n",
    "fig.update_layout(\n",
    "    title='Non-Outlier Cluster Label Distribution ({:.1f}% Retained)'.format(perc_labeled),\n",
    "    xaxis={'title': 'Clusters', 'showticklabels': False},\n",
    "    yaxis={'title': 'Percent'}\n",
    ")\n",
    "fig.show()"
   ]
  },
  {
   "cell_type": "markdown",
   "metadata": {},
   "source": [
    "### Conclusion\n",
    "\n",
    "Running this notebook with the parameter settings stated above result in question clusters that clearly extend beyond simply clustering based on pre-trained word vectors. For example, one such cluster with the auto-generated topic summary of \"take join team massag borderlin\" included the queries \"should a diabetic use a sauna?\", \"can you massage on a diabetic?\", and \"can a diabetic do a \\<unk\\> tattoo?\". We hypothesize that the ability to link these spa-like/beauty-like questions is learned due to the answers to these questions sharing common terms and ideas. This could agree with a useful \"many-to-one\" graphical structure between questions and answers, which can often be seen in online forums where questions with highly varying forms share a common general answer. "
   ]
  },
  {
   "cell_type": "code",
   "execution_count": null,
   "metadata": {},
   "outputs": [],
   "source": []
  }
 ],
 "metadata": {
  "kernelspec": {
   "display_name": "Python 3",
   "language": "python",
   "name": "python3"
  },
  "language_info": {
   "codemirror_mode": {
    "name": "ipython",
    "version": 3
   },
   "file_extension": ".py",
   "mimetype": "text/x-python",
   "name": "python",
   "nbconvert_exporter": "python",
   "pygments_lexer": "ipython3",
   "version": "3.8.5"
  }
 },
 "nbformat": 4,
 "nbformat_minor": 4
}
