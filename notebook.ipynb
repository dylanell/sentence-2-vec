{
 "cells": [
  {
   "cell_type": "markdown",
   "metadata": {},
   "source": [
    "# Learning Sentence Representations from Question-Answer Pairs\n",
    "\n",
    "In this project, we explore methods to learn fixed length vector representations for variable lengthed \"short\" sentences (on the order of at most around 50 words) of text data. These \"short\" sentences are questions scraped from an online forum like answers.com, and each sample is accompanied by the top response (answer) corresponding to each question. We use question-answer data scraped from an online forum because the \"label\" (answer) for each training sample (question) is free. We use quotes around the word \"label\" because these labels are more like \"soft labels\" since they are responses taken verbatim from the general public. Our goal is to use these labels in order to learn sentence representations from within a specific topic domain (like \"diabetes\")."
   ]
  },
  {
   "cell_type": "markdown",
   "metadata": {},
   "source": [
    "### Text-based Representation Learning\n",
    "\n",
    "The application of understanding user questions might be the starting point if you are attempting to build a chatbot to automatically handle customer queries. As an initial step, you might want to cluster queries into different high-level feature categories, requiring a numerical learned feature representation of consistent dimensionality for all queries. A fully supervised approach could potentially work for this, where a model is trained to output the correct answer given a quesion, but would most likely require a lot of data and some clever model design and depend too heavily on the answer \"labels\" which may sometimes be donwright wrong. On the other hand, this could be attempted in an entirely unsupervised manner, perhaps by learning to unscramble augmented question strings or impute missing words. Unsupervised methods may learn to bias too heavily towards unexpected features (like individual words or low-level grammatical logic), and still, we have useful information nonetheless in the answers, so why not try to use this. The method we choose here involves using comparison-based learning samples (between questions and answers) in order to directly learn a feature representation for text-based inputs. Specifically, by constructing \"positive\" question-answer pairs, where the paired answer is the \"correct\" answer, and \"negative\" question-answer pairs, where the paired answer is the \"incorrect\" answer, we can train a model to simply discriminate between these two pairs. Usually this is done by satisfying some criterion based on a distance/similarity measurement in a learned, fixed-dimensionality feature space, requiring that samples from a \"positive\" pair be mapped closer together (on average) than samples form a \"negative\" pair. Here, we explore the learned features for some of these comparison-based representation learning models, including the [Triplet Network](https://arxiv.org/pdf/1412.6622.pdf) and the [Siamese Network](https://papers.nips.cc/paper/1993/file/288cc0ff022877bd3df94bc9360b9c5d-Paper.pdf). "
   ]
  },
  {
   "cell_type": "markdown",
   "metadata": {},
   "source": [
    "### Training the Models"
   ]
  },
  {
   "cell_type": "markdown",
   "metadata": {},
   "source": [
    "### Exploring Learned Representations"
   ]
  },
  {
   "cell_type": "markdown",
   "metadata": {},
   "source": [
    "#### 1. Setup\n",
    "\n",
    "Import packages and load learned feature representation data files."
   ]
  },
  {
   "cell_type": "code",
   "execution_count": 1,
   "metadata": {},
   "outputs": [],
   "source": [
    "import torch\n",
    "import pandas as pd\n",
    "import numpy as np\n",
    "\n",
    "data_dir = '/home/dylan/trained_model_files/pytorch/sentence2vec/'\n",
    "out_dir = '/tmp/'\n",
    "name = 'test1'\n",
    "\n",
    "# load validation question and answer token lists\n",
    "with open('{}{}_val_question_tok.txt'.format(data_dir, name), 'r') as fp:\n",
    "    val_question_tok = [line.strip('\\n') for line in fp]\n",
    "with open('{}{}_val_answer_tok.txt'.format(data_dir, name), 'r') as fp:\n",
    "    val_answer_tok = [line.strip('\\n') for line in fp]\n",
    "    \n",
    "# load validation question and answer vectors\n",
    "val_question_vec = torch.tensor(np.genfromtxt(\n",
    "    '{}{}_val_question_vec.txt'.format(data_dir, name), delimiter=','))\n",
    "val_answer_vec = torch.tensor(np.genfromtxt(\n",
    "    '{}{}_val_answer_vec.txt'.format(data_dir, name), delimiter=','))"
   ]
  },
  {
   "cell_type": "markdown",
   "metadata": {},
   "source": [
    "#### 2. K-nearest Neighbors\n",
    "\n",
    "For each question in the validation set, compute the k-nearest neighbors ($k=3$) within the learned feature space and write these neighbors, along with the original question, to a csv file. "
   ]
  },
  {
   "cell_type": "code",
   "execution_count": 2,
   "metadata": {},
   "outputs": [],
   "source": [
    "# k nearest neighbors dataframe\n",
    "knn_df = pd.DataFrame(columns=['question', 'neighbor_1', 'neighbor_2', 'neighbor_3'])\n",
    "\n",
    "# iterate through question sample texts\n",
    "for i, sample in enumerate(val_question_tok):\n",
    "    # create a stacked array of the anchor question\n",
    "    vec = val_question_vec[i].unsqueeze(0).repeat(len(val_question_vec)-1, 1)\n",
    "    \n",
    "    # compute pairwise cosine similarity b/w anchor question and every other question\n",
    "    dists = torch.nn.functional.cosine_similarity(\n",
    "        vec, torch.cat([val_question_vec[:i], val_question_vec[i+1:]]), dim=1)\n",
    "    knns = torch.argsort(dists, descending=True)[:4].long()\n",
    "    \n",
    "    # compute euclidiean pairwise dist b/w anchor question and every other question\n",
    "    #dists = torch.nn.functional.pairwise_distance(\n",
    "    #    vec, torch.cat([val_question_vec[:i], val_question_vec[i+1:]]), p=2.0)\n",
    "    #knns = torch.argsort(dists, descending=False)[:4].long()\n",
    "    \n",
    "    knn_df = knn_df.append({\n",
    "        'question': sample,\n",
    "        'neighbor_1': val_question_tok[knns[0].item()],\n",
    "        'neighbor_2': val_question_tok[knns[1].item()],\n",
    "        'neighbor_3': val_question_tok[knns[2].item()],\n",
    "    }, ignore_index=True)\n",
    "    \n",
    "# save question neighbors\n",
    "knn_df.to_csv('{}question_knns.csv'.format(out_dir), index=False)"
   ]
  },
  {
   "cell_type": "code",
   "execution_count": 3,
   "metadata": {},
   "outputs": [
    {
     "name": "stdout",
     "output_type": "stream",
     "text": [
      "question        what is the nursing intervention of dizziness ?\n",
      "neighbor_1         what are the emotional effects of diabetes ?\n",
      "neighbor_2                are hormones used to treat diabetes ?\n",
      "neighbor_3    what happens if your blood glucose level incre...\n",
      "Name: 708, dtype: object\n",
      "\n",
      "question                      what is lack of water caused by ?\n",
      "neighbor_1             what causes persistent low grade fever ?\n",
      "neighbor_2         what are the signs of being a pre diabetic ?\n",
      "neighbor_3    what is the medical term meaning the condition...\n",
      "Name: 2107, dtype: object\n",
      "\n",
      "question                        is there a cure for diabeties ?\n",
      "neighbor_1                            can diabetics eat <unk> ?\n",
      "neighbor_2    where can one apply for good insurance for dia...\n",
      "neighbor_3                       can diabetics eat sago seeds ?\n",
      "Name: 703, dtype: object\n",
      "\n",
      "question                                        diabetes cure ?\n",
      "neighbor_1                                    diabetes meters ?\n",
      "neighbor_2                               diabetes supplements ?\n",
      "neighbor_3    why does diabetes medications make people more...\n",
      "Name: 2128, dtype: object\n",
      "\n",
      "question      diabetes mellitus is a group of metabolic dise...\n",
      "neighbor_1    insulin dependent diabetes mellitus is caused ...\n",
      "neighbor_2    my <unk> old son was diagnosed with <unk> diab...\n",
      "neighbor_3    what is the medical term meaning accumulation ...\n",
      "Name: 1035, dtype: object\n",
      "\n",
      "question                     how long to lower glucose levels ?\n",
      "neighbor_1                how do you control your blood sugar ?\n",
      "neighbor_2    what is an acceptable blood sugar range <unk> ...\n",
      "neighbor_3    how do you lower your blood sugar if i dont ha...\n",
      "Name: 2332, dtype: object\n",
      "\n",
      "question                    are diet sodas good for diabetics ?\n",
      "neighbor_1         high concentration of glucose in the blood ?\n",
      "neighbor_2    what body system are most affected by diabetes...\n",
      "neighbor_3    is there any herb which can produce insulin or...\n",
      "Name: 1772, dtype: object\n",
      "\n",
      "question                            what is juvenile diabetes ?\n",
      "neighbor_1                           what is juvenal diabetes ?\n",
      "neighbor_2    what is the name of the organ or gland that pr...\n",
      "neighbor_3                 what is the definition of diabetes ?\n",
      "Name: 2205, dtype: object\n",
      "\n",
      "question      can excess of sugar in urine cause tiredness ?\n",
      "neighbor_1         does polyuria cause excessive urination ?\n",
      "neighbor_2                          diabetic complications ?\n",
      "neighbor_3     is frequent urination a symptom of diabetes ?\n",
      "Name: 1778, dtype: object\n",
      "\n",
      "question      what are the effects of <unk> silver on diabet...\n",
      "neighbor_1                   early signs of diabetes mellitus ?\n",
      "neighbor_2    what kind of medicines are available to treat ...\n",
      "neighbor_3    what kind of medicines are available to treat ...\n",
      "Name: 2040, dtype: object\n",
      "\n"
     ]
    }
   ],
   "source": [
    "for i in range(10):\n",
    "    print(knn_df.iloc[np.random.randint(len(knn_df))])\n",
    "    print('')"
   ]
  },
  {
   "cell_type": "markdown",
   "metadata": {},
   "source": [
    "#### 3. Clustering\n",
    "\n",
    "Perform DBSCAN clustering on question representations from the validation set."
   ]
  },
  {
   "cell_type": "code",
   "execution_count": 4,
   "metadata": {},
   "outputs": [],
   "source": [
    "from sklearn.manifold import TSNE\n",
    "\n",
    "tsne = TSNE(n_components=3, metric='cosine')\n",
    "val_question_proj = tsne.fit_transform(val_question_vec)"
   ]
  },
  {
   "cell_type": "code",
   "execution_count": 11,
   "metadata": {},
   "outputs": [
    {
     "name": "stdout",
     "output_type": "stream",
     "text": [
      "24 clusters found\n"
     ]
    },
    {
     "data": {
      "application/vnd.plotly.v1+json": {
       "config": {
        "plotlyServerURL": "https://plot.ly"
       },
       "data": [
        {
         "customdata": [
          [
           "which kind of diabetes is considered an auto immune disease ?"
          ],
          [
           "what if you took insluin but was not a diabetic ?"
          ],
          [
           "treatments for type one of diabetes ?"
          ],
          [
           "how do you get juvenile diabetes ?"
          ],
          [
           "can somebody with high blood sugar eat egg ?"
          ],
          [
           "which country or state has the lowest heart <unk> type two diabetes and cancer overall health risks ?"
          ],
          [
           "how you can diagnose <unk> ?"
          ],
          [
           "is a diabetic diet plan healthy ?"
          ],
          [
           "what is the name of the diabetic tea ?"
          ],
          [
           "is type two diabetes infectious or noninfectious ?"
          ],
          [
           "when blood levels of glucose amino acids and insulin are high and glycogenesis is occurring in the liver the body is in the ?"
          ],
          [
           "can diabetics eat grapefruit ?"
          ],
          [
           "is there a way to detect a diabetes carrier ?"
          ],
          [
           "how often do you have to put insulin in your insulin pump ?"
          ],
          [
           "where can i obtain a diabetic food pyramid ?"
          ],
          [
           "who said diabetics can not have cake ?"
          ],
          [
           "how does insulin lower the blood glucose level if it is too high ?"
          ],
          [
           "where can i find out more about diabetic diet sheet ?"
          ],
          [
           "diabetics can drink coffee ?"
          ],
          [
           "where can one find recipes suitable for diabetics ?"
          ],
          [
           "describe type one diabetes ?"
          ],
          [
           "does blood sugar rise or fall during intense exercise ?"
          ],
          [
           "what organism is used to produce human insulin ?"
          ],
          [
           "we all need to normal blood sugar ?"
          ],
          [
           "why is foot care so important for diabetics ?"
          ],
          [
           "where can you find a good type two diabetes diet plan ?"
          ],
          [
           "what is the best remedy of diabetes ?"
          ],
          [
           "what dietary supplements can be taken to help reduce diabetes ?"
          ],
          [
           "where can i find the new diabetic food list ?"
          ],
          [
           "what part of the human digestive system produces insulin to control sugar in the blood ?"
          ],
          [
           "what problems do diabetics suffer from ?"
          ],
          [
           "what medication is needed for diabetes ?"
          ],
          [
           "what causes diabetes ?"
          ],
          [
           "what is the treatment of diabetes ?"
          ],
          [
           "what to eat for pre diabetes ?"
          ],
          [
           "why have your ankles swollen up ?"
          ],
          [
           "diabetes mellitus is caused by a lack of the hormone . ?"
          ],
          [
           "does smoking cause diabetes two ?"
          ],
          [
           "does anyone else have diabeties ?"
          ],
          [
           "where can one find information about diabetes type one ?"
          ],
          [
           "what research has been done on vitamin k ?"
          ],
          [
           "what is diabetic gastroparesis ?"
          ],
          [
           "can you have high blood sugar but not have diabetes ?"
          ],
          [
           "how can diabetes be detected ?"
          ],
          [
           "where can i find ideas for diabetes diet foods ?"
          ],
          [
           "how many people have type one diabetes in th uk ?"
          ],
          [
           "how do you inherit diabetes ?"
          ],
          [
           "which fruit is good for a diabetic diet ?"
          ],
          [
           "can gestational diabetes turn into type one diabetes ?"
          ],
          [
           "what diet can you recommend for a diabetic ?"
          ],
          [
           "will diabetes make a person die ?"
          ],
          [
           "what is the best sugar substitute if you are diabetic ?"
          ],
          [
           "can an operation which left <unk> and <unk> area in your skin rises your blood sugar ?"
          ],
          [
           "what increases your risk of getting diabetes ?"
          ],
          [
           "what should my blood sugar level be ?"
          ],
          [
           "do diabetics need to pay for insulin prescriptions ?"
          ],
          [
           "can low blood sugar cause renal failure ?"
          ],
          [
           "where can i get diabetic meal recipes ?"
          ],
          [
           "where can gangrene be found ?"
          ],
          [
           "what snacks can a type two diabetics eat ?"
          ],
          [
           "what is type two adult onset diabetes ?"
          ],
          [
           "would a banana increase your blood sugar levels ?"
          ],
          [
           "how does diet affect diabetes ?"
          ],
          [
           "are peanuts can cure diabetes ?"
          ],
          [
           "how common is type two diabetes ?"
          ],
          [
           "what is the condition during diabetes that makes you have very large babies ?"
          ],
          [
           "what is hypoglycemic coma ?"
          ],
          [
           "what happens if blood sugar levels are not properly regulated ?"
          ],
          [
           "how does diabetes affect your physical lifestyle ?"
          ],
          [
           "what is type one diabetes ?"
          ],
          [
           "how many people currently have diabetes in <unk> ?"
          ],
          [
           "how does poor diet and lifestyle cause type two diabetes ?"
          ],
          [
           "are banana good for diabetic ?"
          ],
          [
           "does diabetes cause ed ?"
          ],
          [
           "can women with diabetes be pregnant ?"
          ],
          [
           "can a diabetic patient eat watermelon ?"
          ],
          [
           "how does diabetes contribute to <unk> ?"
          ],
          [
           "how many units of insulin are in a normal vial ?"
          ],
          [
           "what can you do if diabetic ?"
          ],
          [
           "which part of your body produce insulin ?"
          ],
          [
           "what does a stable or increasing level of cea in the blood indicate ?"
          ],
          [
           "where can i find more information on cereal for diabetics ?"
          ],
          [
           "what is hypoglycemia and its treatment ?"
          ],
          [
           "what kind of diet should you be on if you have diabetes ?"
          ],
          [
           "when did nick get diagnose with type one diabetes ?"
          ],
          [
           "what organ is unable to take up glucose in diabetes mellitus ?"
          ],
          [
           "how does insulin help cure diabetes ?"
          ],
          [
           "what molecule is produced in the liver during <unk> or type one diabetes ?"
          ],
          [
           "can type two diabetes be cured ?"
          ],
          [
           "what are the release dates for project not me diabetes prevention - two thousand and twelve fat <unk> 1-2 ?"
          ],
          [
           "the average blood sugar over the past three weeks is measured by what test ?"
          ],
          [
           "what causes dry mouth ?"
          ],
          [
           "who discovered hypoglycemia ?"
          ],
          [
           "when injected insulin is best absorbed via which <unk> ?"
          ],
          [
           "how long after hypoglycemic attack should blood sugar level be taken ?"
          ],
          [
           "what is <unk> ?"
          ],
          [
           "can parents give their children diabetes ?"
          ],
          [
           "if your best friend is a ten year old with diabetes and you have to take daily shots and you miss one shot in one day only will you die ?"
          ],
          [
           "what is the letter form in dominant and recessive trait ?"
          ],
          [
           "what are the medical reasons for females to have <unk> ?"
          ],
          [
           "how do you cure diabetes ?"
          ],
          [
           "i take an amino acid supplement does <unk> acid or <unk> affect or raise your blood sugar ?"
          ],
          [
           "how many different types of diabetes are there ?"
          ],
          [
           "would diabetes mellitus cause urine to be more acidic ?"
          ],
          [
           "how does type two diabetes affect your health ?"
          ],
          [
           "what are anti diabetic plants ?"
          ],
          [
           "who are brittle diabetics ?"
          ],
          [
           "where can diabetes be found in the body ?"
          ],
          [
           "can diabetes be eliminated after weight loss ?"
          ],
          [
           "are black olives good for diabetics ?"
          ],
          [
           "can sexual arousal cause spike in blood sugar in diabetic male ?"
          ],
          [
           "which hormone deficiency causes diabetes ?"
          ],
          [
           "what organ system does diabetes belong ?"
          ],
          [
           "is a diabetic menu safe to feed the whole family not just the diabetic person ?"
          ],
          [
           "are you born with type one diabetes ?"
          ],
          [
           "the number one cause of what in adults in the us is diabetes ?"
          ],
          [
           "what causes urine specific gravity to be high ?"
          ],
          [
           "what is a description for fasting blood sugar ?"
          ],
          [
           "in what secondary ways can alcohol affect your blood sugar level ?"
          ],
          [
           "what blood sugar level is considered high ?"
          ],
          [
           "what do i have to do when i do not have normal blood sugar values ?"
          ],
          [
           "what part of the body make insulin ?"
          ],
          [
           "<unk> . gave me <unk> insulin an my blood sugar has been up every . i have been to the hospital twice . right now my sugar is five hundred and forty six bp <unk> <unk> . it has been like this all week , what can i do to get it <unk> already take <unk> times a day and lantus for lon ?"
          ],
          [
           "diabetes mellitus is caused by what ?"
          ],
          [
           "which glucose levels are normal while fasting ?"
          ],
          [
           "when did diabetes start ?"
          ],
          [
           "is diabetes infectious or noninfectious ?"
          ],
          [
           "is the prognosis good for patients with <unk> ?"
          ],
          [
           "why do you have pains in the lower left side of the stomach ?"
          ],
          [
           "how would replacing pancreases benefit a diabetic person ?"
          ],
          [
           "can banana leaf tea lower sugar levels for diabetes ?"
          ],
          [
           "who did a <unk> of insulin for diabetes ?"
          ],
          [
           "can diabetes stop you from being certified from driving a truck ?"
          ],
          [
           "what are the gestational diabetes diet for ?"
          ],
          [
           "why is protein <unk> needed in diabetes ?"
          ],
          [
           "can diabetes cause blurred vision ?"
          ],
          [
           "what kind of foods are diabetic friendly ?"
          ],
          [
           "overcoming challenges with a diabetes diet for seniors ?"
          ],
          [
           "where was the first human found ?"
          ],
          [
           "what does blood sugar <unk> mean ?"
          ],
          [
           "when giving subcutaneous injections you do <unk> for blood first why not in giving anticoagulants and insulin injection ?"
          ],
          [
           "what hormone produced in inadequate amounts causes excessive diuresis without high blood glucose levels ?"
          ],
          [
           "can type two diabetes be cured with proper diet ?"
          ],
          [
           "is a <unk> waking blood sugar of one hundred and forty eight high ?"
          ],
          [
           "what are examples of some diabetic diet meal plan ?"
          ],
          [
           "what is the most common sign of diabetes ?"
          ],
          [
           "is type one diabetes worse then type two ?"
          ],
          [
           "what kind of foods can you eat to keep your blood sugar stable ?"
          ],
          [
           "can the onset of <unk> cause a false positive in diabetes test ?"
          ],
          [
           "what is the scientific name for kidney failure ?"
          ],
          [
           "what is the best food for diabetic cats ?"
          ],
          [
           "what structures in the kidneys are being damaged by diabetes mellitus ?"
          ],
          [
           "what does sugar cause ?"
          ],
          [
           "at what age can diabetes start ?"
          ],
          [
           "will mango fruit prevent diabetes ?"
          ],
          [
           "does to much intake of sugar causes diabetes ?"
          ],
          [
           "if a schnauzer has diabetes will he lose hair ?"
          ],
          [
           "does high blood sugar affect the memory and brain skills ?"
          ],
          [
           "should a diabetic eat <unk> nuts honey etc . ?"
          ],
          [
           "what treatment is available for high blood plasma ?"
          ],
          [
           "can diabetics drink <unk> ?"
          ],
          [
           "will <unk> cause diabetes ?"
          ],
          [
           "what research has been done on <unk> chi ?"
          ],
          [
           "are there medical id bracelets for diabetics ?"
          ],
          [
           "when blood sugar drops then <unk> up high when does it balance out ?"
          ],
          [
           "how do people with type two diabetes look ?"
          ],
          [
           "how many people are diagnosed with diabetes every year ?"
          ],
          [
           "is pasta good for diabetes ?"
          ],
          [
           "what do you call the presence of glucose in the urine ?"
          ],
          [
           "what is the <unk> cost for having diabetes ?"
          ],
          [
           "where can i find diabetic food recipes for thanksgiving ?"
          ],
          [
           "can water melon can be eaten by diabetic ?"
          ],
          [
           "how do bacteria help protect people with diabetes ?"
          ],
          [
           "what are the major symptoms for type two diabetes ?"
          ],
          [
           "how long does it take for <unk> to react to high blood sugars ?"
          ],
          [
           "what kind of medicines are available to treat diabetes ?"
          ],
          [
           "how many people in us have diabetes ?"
          ],
          [
           "a sign of diabetes ?"
          ],
          [
           "how is type two diabetes transmitted ?"
          ],
          [
           "why do people with diabetes have a high level of sugar in their blood ?"
          ],
          [
           "what is the best lager for a type two diabetic ?"
          ],
          [
           "can you have hypoglycemia and turn into type two diabetes ?"
          ],
          [
           "what is a good menu for diabetics ?"
          ],
          [
           "what is the life cycle of glucose ?"
          ],
          [
           "how do you prevent hypertension ?"
          ],
          [
           "which <unk> have a good menu for diabetics ?"
          ],
          [
           "what diet should a diabetic follow ?"
          ],
          [
           "what is the best drugs for diabetes ?"
          ],
          [
           "is it safe to consume <unk> if you are a diabetic ?"
          ],
          [
           "what does frequent blood sugar levels over one hundred and sixty after eating mean ?"
          ],
          [
           "what are the indications in modern studies for barley grass in the treatment of type two diabetes ?"
          ],
          [
           "is glucose created in the <unk> ?"
          ],
          [
           "is wheat bread ok to eat for diabetics ?"
          ],
          [
           "does drinking alcohol with diabetes from a young age if even it is controlled affect your health in later years ?"
          ],
          [
           "where can i find more information on diabetic meals ?"
          ],
          [
           "can people with type two diabetes drive a truck in <unk> ?"
          ],
          [
           "what does a glucose meter measure ?"
          ],
          [
           "is inulin bad for you ?"
          ],
          [
           "how can you lower your blood sugar quickly ?"
          ],
          [
           "what type of diet should someone with diabetes have ?"
          ],
          [
           "who gets diabetes ?"
          ],
          [
           "can a type one diabetics live a normal life ?"
          ],
          [
           "is three hundred and seven considered a normal rate for your blood sugar ?"
          ],
          [
           "how is diabetes regulated ?"
          ],
          [
           "which hormone is not produced properly in diabetics ?"
          ],
          [
           "which type of diabetes is a concern for young australians ?"
          ],
          [
           "where can i find information about a gestational diabetes diet ?"
          ],
          [
           "where can i find a diabetes food list ?"
          ],
          [
           "what is the relationship between obesity and diabetes ?"
          ],
          [
           "what is a healthy blood sugar level for a forty one year old male ?"
          ],
          [
           "what causes dehydration in diabetes ?"
          ],
          [
           "insulin dependent diabetes mellitus is caused by ?"
          ],
          [
           "can a diabetic eat almonds ?"
          ],
          [
           "what cells will type one diabetes damage ?"
          ],
          [
           "how does <unk> help diabetes ?"
          ],
          [
           "what are some foods diabetics should not eat ?"
          ],
          [
           "diabetes meals ?"
          ],
          [
           "insulin-dependent diabetics depend upon what microorganisms ?"
          ],
          [
           "can type one diabetes be cured ?"
          ],
          [
           "what are some diet and exercise tips for diabetic men that do not like to exercise and love to eat unhealthy foods ?"
          ],
          [
           "do you know where to find diabetes recipes ?"
          ],
          [
           "how does nick jonas brothers help him through living with diabetes ?"
          ],
          [
           "whats a good diet if you have type two diabetes ?"
          ],
          [
           "what is the storage form of glucose in humans ?"
          ],
          [
           "who needs to use a glucose monitor watch ?"
          ],
          [
           "what is end stage renal failure ?"
          ],
          [
           "how do you know it is type1 <unk> diabetes ?"
          ],
          [
           "what is released after your blood sugar level is too high ?"
          ],
          [
           "where can i find a diet plan for diabetics ?"
          ],
          [
           "how can you get diabeties ?"
          ],
          [
           "how does diabetes affect the kidneys ?"
          ],
          [
           "which is the best wine for diabetes ?"
          ],
          [
           "does insulin have to be taken daily ?"
          ],
          [
           "is it true that sixty nine percent of the world is population including animals have diabetes ?"
          ],
          [
           "what is the normal blood sugar level for a child ?"
          ],
          [
           "how can you lower your blood sugar ?"
          ],
          [
           "can type one diabetes be transferred ?"
          ],
          [
           "how does type two diabetes affect your lifestyle ?"
          ],
          [
           "how do you catch type two diabetes ?"
          ],
          [
           "where can one find dessert recipes for diabetics ?"
          ],
          [
           "what is the definition of high in fats ?"
          ],
          [
           "can high glucose levels result in diabetes ?"
          ],
          [
           "what does <unk> root cure ?"
          ],
          [
           "if a patient is blood sugar is to low they may go into a diabetic coma ?"
          ],
          [
           "where can you find the information about the diabetes treatment over the internet ?"
          ],
          [
           "what is the organ of diabetes ?"
          ],
          [
           "will smoking cigarettes cause diabetes ?"
          ],
          [
           "what products claim to be natural cures for diabetes ?"
          ],
          [
           "can a diabetic man impregnate a woman ?"
          ],
          [
           "is it nick jonas diabetic ?"
          ],
          [
           "what are some stevia dessert recipes ?"
          ],
          [
           "is one hundred and sixty two a high blood sugar reading after eating two hours ago ?"
          ],
          [
           "what food contains uric acid ?"
          ],
          [
           "why can you not <unk> insulin ?"
          ],
          [
           "can diabetes cause hypertension ?"
          ],
          [
           "does insulin lower blood sugar levels ?"
          ],
          [
           "can a diabetic take <unk> ?"
          ],
          [
           "what are some food products for people with diabetes ?"
          ],
          [
           "can you use <unk> inside <unk> ?"
          ],
          [
           "are there any diabetes blood sugar tests that do not require pricking the fingers ?"
          ],
          [
           "what are some good ideas for diabetic foods ?"
          ],
          [
           "how could parents protect their children against diabetes ?"
          ],
          [
           "is <unk> bad for you ?"
          ],
          [
           "why does diabetics build up <unk> on feet ?"
          ],
          [
           "what part of the body is diabetes located ?"
          ],
          [
           "can being a diabetic cause a home pregnancy test to read negative ?"
          ],
          [
           "i an a unusually case i have try several type of medicine for my diabete can not regulate my blood sugar i need help ?"
          ],
          [
           "if your blood sugar reading is one hundred and fifty five is that high ?"
          ],
          [
           "what <unk> is diabetes most common ?"
          ],
          [
           "can you be denied life insurance if you have diabetes ?"
          ],
          [
           "is <unk> mountain herbs is suitable for me because i am looking chinese herbs for my grand mother is diabetes ?"
          ],
          [
           "can you get a false glucose reading ?"
          ],
          [
           "what is a good diet to keep your sugar levels down ?"
          ],
          [
           "is frequent night time urination a symptom of type two diabetes ?"
          ],
          [
           "can insulin be taken with <unk> ?"
          ],
          [
           "what age does diabetes first become evident ?"
          ],
          [
           "diabetes affect the body is ability to use what ?"
          ],
          [
           "how is gestational diabetes diagnosed ?"
          ],
          [
           "what alternative treatments can help <unk> the symptoms of diabetes ?"
          ],
          [
           "how many calories can a diabetic have a day ?"
          ],
          [
           "what is the treatment for <unk> ?"
          ],
          [
           "what is a diet sheet ?"
          ],
          [
           "how does a <unk> <unk> look like if the possible parent combination in type two diabetes ?"
          ],
          [
           "does <unk> plant really cause an diabetes ?"
          ],
          [
           "what are some type two diabetes symptoms ?"
          ],
          [
           "what is smart insulin ?"
          ],
          [
           "where can one learn about diabetes mellitus type two ?"
          ],
          [
           "how can you improve your health when you have diabetes ?"
          ],
          [
           "is milk bad for uric acid ?"
          ],
          [
           "where can one get free diabetes education ?"
          ],
          [
           "what is the ratio of people that get diabetes in texas ?"
          ],
          [
           "is water good for diabetics ?"
          ],
          [
           "does exercising daily help people who have diabetes , or does it have no effect on them ?"
          ],
          [
           "the major function of insulin is <unk> in what ?"
          ],
          [
           "how long does it take for blood sugar to drop without medication using diet exercise and supplements ?"
          ],
          [
           "what diseases are caused by lack of mineral fe ?"
          ],
          [
           "can a diabetic patient eat one mango a day ?"
          ],
          [
           "what acts antagonistically to insulin ?"
          ],
          [
           "where can someone buy a diabetes meter ?"
          ],
          [
           "what kind of foods cause rapid weight loss ?"
          ],
          [
           "how old was nick jonas when he found out he had diabetes ?"
          ],
          [
           "can diabetes make you tired ?"
          ],
          [
           "what herb is used to help diabetics ?"
          ],
          [
           "how many people are diagnosed with diabetes each day ?"
          ],
          [
           "does diabetes effect your <unk> and peeing ?"
          ],
          [
           "what if i had diabetes for a while and did not know it and can not go to the doctor is to see if you do have it will it get worse ?"
          ],
          [
           "how are each type of diabetes treated ?"
          ],
          [
           "what are some diabetes symptoms ?"
          ],
          [
           "can you name some diabetic cookbooks with easy instructions ?"
          ],
          [
           "does steve redgrave have diabetes ?"
          ],
          [
           "can diabetes lead to blindness ?"
          ],
          [
           "can body twitching be a sign of diabetes ?"
          ],
          [
           "what is the symptoms of hyperglycemia ?"
          ],
          [
           "how do you avoid low blood sugar ?"
          ],
          [
           "can insulin shots produce bright yellow urine ?"
          ],
          [
           "being overweight is a major cause of diabetes ?"
          ],
          [
           "can diabetics eat <unk> ?"
          ],
          [
           "what is the average cost of pre diabetes treatment ?"
          ],
          [
           "does the diabetes dtour diet work <unk> ?"
          ],
          [
           "what research has been done on <unk> ?"
          ],
          [
           "how do you <unk> diabetes ?"
          ],
          [
           "can any diseases be spread by someone else is used diabetic needle ?"
          ],
          [
           "where is a blood sugar levels chart ?"
          ],
          [
           "what is <unk> diabetes mellitus ?"
          ],
          [
           "diabetes signs ?"
          ],
          [
           "what does diabetes do to a body ?"
          ],
          [
           "how many servings of fruit is a mango ?"
          ],
          [
           "how does a person is waistline measurement relate to glucose levels ?"
          ],
          [
           "what insulins can not be mixed with other insulins ?"
          ],
          [
           "how does ketosis and acetone effect diabetics ?"
          ],
          [
           "what is normal blood sugar reading ?"
          ],
          [
           "will eating dates increase blood sugar ?"
          ],
          [
           "what is post-prandial hypoglycemia ?"
          ],
          [
           "what is a normal range for fasting blood glucose ?"
          ],
          [
           "how does levothyroxine affect blood sugar levels ?"
          ],
          [
           "how is exercise related to diabetes ?"
          ],
          [
           "what is the best sugar free laxative to give a child on a ketogenic diet ?"
          ],
          [
           "what are some meals for diabetics ?"
          ],
          [
           "what causes excessive thirst high blood glucose levels acidosis ?"
          ],
          [
           "can someone with diabetes eat <unk> ?"
          ],
          [
           "how soda cause diabetes ?"
          ],
          [
           "what is the difference of fasting blood sugar and <unk> blood sugar ?"
          ],
          [
           "how do you prevent type one and type two diabetes ?"
          ],
          [
           "what iv fluids needed by a diabetic patient ?"
          ],
          [
           "how do you use dna technology to help treat diabetes ?"
          ],
          [
           "the substance which has a sweet fruity odor that is found in small quantities in normal urine and in larger amount in diabetic urine is ?"
          ],
          [
           "what substance interferes with the body is ability to carry oxygen ?"
          ],
          [
           "can exercise easily improve type one diabetes ?"
          ],
          [
           "what special precautions are taken for children with known food allergies diabetes or celiac disease ?"
          ],
          [
           "what type of hereditary condition is <unk> <unk> ?"
          ],
          [
           "what is main blood sugar in the body ?"
          ],
          [
           "can you be diagnosed with diabetes after one high glucose reading ?"
          ],
          [
           "twenty units equals how many <unk> ?"
          ],
          [
           "are there any celebrities that have diabetes ?"
          ],
          [
           "what ways can you manage to have a good nutrition while living with diabetes ?"
          ],
          [
           "what are some common diabetes symptoms ?"
          ],
          [
           "what kind of doctor specializes in diabetes ?"
          ],
          [
           "where can i find information about diabetic eating ?"
          ],
          [
           "what hormone causes you to get type one diabetes ?"
          ],
          [
           "should a non-diabetic follow a diabetic diet menu ?"
          ],
          [
           "where can one purchase diabetic supplies from ?"
          ],
          [
           "can using more than one type of drugs kill you faster ?"
          ],
          [
           "what is high blood sugar ?"
          ],
          [
           "if you have diabetes your body can not make or use <unk> ?"
          ],
          [
           "what are the release dates for <unk> <unk> is diabetes ad - two thousand and twelve ?"
          ],
          [
           "what causes <unk> hypoglycemia ?"
          ],
          [
           "can an non diabetic take insulin plant leaves ?"
          ],
          [
           "can you use a normal syringe for insulin ?"
          ],
          [
           "if your dad has diabeties will you get it ?"
          ],
          [
           "you have not got diabetes but an eye specialist found bleeding behind the eye what might the cause be as he did not explain ?"
          ],
          [
           "what is the best way to lose and keep off weight for diabetics ?"
          ],
          [
           "what is <unk> diabetes ?"
          ],
          [
           "what is the causes of diabetes ?"
          ],
          [
           "how do you get four hundred <unk> at six thousand , five hundred <unk> out of a four bbl carb <unk> three hundred and five ?"
          ],
          [
           "how much people died of diabetes before insulin ?"
          ],
          [
           "why can not diabetics drink liquor ?"
          ],
          [
           "my boyfriend is in the late stages of alcoholism he cant eat and is extremely thin . most of his caloric intake is from <unk> . doctors suspect he is diabetic now . does that happen often ?"
          ],
          [
           "is sugar free <unk> ok to drink with type two diabetes ?"
          ],
          [
           "is diabetes bad ?"
          ],
          [
           "how do you prevent kidney damage ?"
          ],
          [
           "which country has the most cases of diabetes ?"
          ],
          [
           "which food items are typically on the diabetic food list ?"
          ],
          [
           "when was diabetes care created ?"
          ],
          [
           "is diabetes <unk> ?"
          ],
          [
           "what is a good diet for type two diabetes ?"
          ],
          [
           "where can i purchase or copy the best menu for diabetic people ?"
          ],
          [
           "can diabetes form in animals ?"
          ],
          [
           "can liver disease heal its self if the person stops drinking ?"
          ],
          [
           "what produces the hormone in alpha cells ?"
          ],
          [
           "is there any treatment for diabetes in homeopathy ?"
          ],
          [
           "when <unk> up nph insulin do you shake the bottle or <unk> <unk> the bottle ?"
          ],
          [
           "what are the names of the different type of diabetes ?"
          ],
          [
           "what are diabetic meals and their significance ?"
          ],
          [
           "can diabetes make you lose fat ?"
          ],
          [
           "can calories cause diabetes ?"
          ],
          [
           "what are the symptoms of having a hypo when you have got type one diabetes ?"
          ],
          [
           "could diabetes cause your hands to lock up ?"
          ],
          [
           "what blood test measures average blood glucose for ninety days ?"
          ],
          [
           "what does food or fluids correct in a diabetic emergency ?"
          ],
          [
           "why does the risk for developing diabetes increase with age ?"
          ],
          [
           "are obesity and diabetes national <unk> in the us ?"
          ],
          [
           "does nick jerry jonas have diabetes ?"
          ],
          [
           "when was <unk> center for diabetes education created ?"
          ],
          [
           "what is the difference between antibiotics and <unk> ?"
          ],
          [
           "why does diabetes cause sweet urine ?"
          ],
          [
           "why insulin is used ?"
          ],
          [
           "have you tried <unk> ?"
          ],
          [
           "what is a gland not working in a diabetic ?"
          ],
          [
           "how old was nick jonas when he got diabetes ?"
          ],
          [
           "how do you keep sugar levels for diabetes regulated ?"
          ],
          [
           "diabetic dessert recipe for apple pie ?"
          ],
          [
           "how much is one gram of cinnamon ?"
          ],
          [
           "what are some treatment types for diabetes ?"
          ],
          [
           "are there any natural herbs that can cure diabetes ?"
          ],
          [
           "can you be a <unk> <unk> if you have diabetes ?"
          ],
          [
           "how do you know you have got a <unk> on someone ?"
          ],
          [
           "whats are the side effects of diabetes . ?"
          ],
          [
           "what are the medicine for diabetics ?"
          ],
          [
           "are two symptoms of diabetes sudden ?"
          ],
          [
           "what tissue in addition to the liver is taken from the donor for an orthotopic transplantation ?"
          ],
          [
           "what body systems does diabetes type one affect ?"
          ],
          [
           "how many pacific people have type two diabetes ?"
          ],
          [
           "an <unk> <unk> at the unit and <unk> that he was burned in a cooking accident last night as you assess the burn what indicates the burn is <unk> ?"
          ],
          [
           "can diabetes be tested at birth ?"
          ],
          [
           "can you eat a banana if you have gestational diabetes ?"
          ],
          [
           "what side affects for using the <unk> diabetic nerve <unk> ?"
          ],
          [
           "what happens to insulin when it is injected into the skin ?"
          ],
          [
           "why diabetes patients are increasing ?"
          ],
          [
           "is there any treatment for cystic fibrosis ?"
          ],
          [
           "how many good carbs should you eat if you are five ' four and want to lose fifteen pounds ?"
          ],
          [
           "can smoking marijuana help type two diabetes ?"
          ],
          [
           "how does diabetes affect the smell of urine ?"
          ],
          [
           "managing diabetic symptoms with proper nutrition ?"
          ],
          [
           "why do a diabetes patient has to cut off the leg ?"
          ],
          [
           "how is gestational diabetes different from other types of diabetes ?"
          ],
          [
           "how can diabetes in pregnancy be prevented ?"
          ],
          [
           "what is the effect of sugar on <unk> ?"
          ],
          [
           "what are signs of your cat having diabetes ?"
          ],
          [
           "what is the normal blood sugar level for a thirteen year old ?"
          ],
          [
           "is there a cure for diabetes ?"
          ],
          [
           "does herbs actually help diabetes ?"
          ],
          [
           "why must insulin be injected ?"
          ],
          [
           "diabetes mellitus ?"
          ],
          [
           "could you test diabetes from home ?"
          ],
          [
           "what do you do if someone has high blood sugar attack ?"
          ],
          [
           "can you get fired on a job at the post office due to not putting on the application you did not have diabetes ?"
          ],
          [
           "what clinical findings occurs first in metabolic acidosis of a patient with type one diabetes ?"
          ],
          [
           "what is sign of diabetes ?"
          ],
          [
           "what is the medical term meaning accumulation of ketone bodies in the blood results of the condition diabetes mellitus called ?"
          ],
          [
           "what can treat diabetes ?"
          ],
          [
           "is type two diabetes noninfectious ?"
          ],
          [
           "what are the risks of a diabetic patient having a spinal <unk> surgically removed ?"
          ],
          [
           "what ages can people have diabetes ?"
          ],
          [
           "how do you create insulin ?"
          ],
          [
           "what to do if blood sugar go above one hundred and forty ?"
          ],
          [
           "test for diabetes ?"
          ],
          [
           "when can diabetic ketoacidosis develop in type ii diabetics ?"
          ],
          [
           "what goes wrong in the body of a diabetic ?"
          ],
          [
           "what is the difference between type ii diabetes and juvenile or type i diabetes ?"
          ],
          [
           "what is the probability a child will have type one diabetes if a thirty five year old mother who wears size six had gestational diabetes ?"
          ],
          [
           "how do you quickly lower your blood sugar levels ?"
          ],
          [
           "what are the most obvious signs of diabetes in young children ?"
          ],
          [
           "is there quite a lot of sugar in bananas ?"
          ],
          [
           "where can one find information on type two diabetes friendly diets ?"
          ],
          [
           "can you be hyperglycemic but not diabetic ?"
          ],
          [
           "where can i hire a diabetic meal planner ?"
          ],
          [
           "what if blood sugar is five hundred and thirty nine ?"
          ],
          [
           "are you born with type two diabetes ?"
          ],
          [
           "do you have to take a injection for diabets type one ?"
          ],
          [
           "diet for diabetes ?"
          ],
          [
           "what happens if you mix different brands of insulin such as novorapid and lantus ?"
          ],
          [
           "is there a cause for <unk> and what causes it ?"
          ],
          [
           "can you have both diabetes mellitus and diabetes insipidus ?"
          ],
          [
           "how does walking help blood sugar levels ?"
          ],
          [
           "is diabetes a blood <unk> pathogen ?"
          ],
          [
           "what is the normal value for sugar in urine ?"
          ],
          [
           "when a person is sick with diabetes check ?"
          ],
          [
           "what are two ways diabetes can be controlled ?"
          ],
          [
           "is type one diabetes a sex linked gene ?"
          ],
          [
           "where is insulin was invented ?"
          ],
          [
           "if you are a diabetic do you have to take the flu vaccine ?"
          ],
          [
           "how do you diagnose diabetes insipidus ?"
          ],
          [
           "when was jackie robinson diagnosed with diabetes ?"
          ],
          [
           "what is the normal range blood sugar level ?"
          ],
          [
           "what are some recipes for kids with diabetes ?"
          ],
          [
           "can people who hae diabetes smoke ?"
          ],
          [
           "what are the top causes of diabetes high blood sugar ?"
          ],
          [
           "how long does it take for the food to be detected in the blood as glucose ?"
          ],
          [
           "is eating fish egg good for a diabetics person ?"
          ],
          [
           "the urine of a diabetic patient with ketoacidosis may have a smell of what ?"
          ],
          [
           "do diabetics have fits ?"
          ],
          [
           "is it normal to be high on sugar ?"
          ],
          [
           "how does glucagon cause hyperglycemia ?"
          ],
          [
           "what does sugar do to your body ?"
          ],
          [
           "what is a diabetic exchange diet ?"
          ],
          [
           "can your doctor refer you to diabetes education class ?"
          ],
          [
           "what are the uses of dextrose strip ?"
          ],
          [
           "why is it important for diabetics to be careful about the amount of sugar in their diets ?"
          ],
          [
           "is carbohydrate allowed for a diabetic patient ?"
          ],
          [
           "is <unk> of sugar per day bad ?"
          ],
          [
           "how much sugar should a diabetic consume per day ?"
          ],
          [
           "are there any dangers to a diabetic when it comes to a hot <unk> ?"
          ],
          [
           "is diabetes a virus or bacteria ?"
          ],
          [
           "if you have diabetes do you feel weak if you dont have enough sugar in your blood ?"
          ],
          [
           "what happens when glucose is kept on your tongue ?"
          ],
          [
           "are there any recipes for the diabetic ?"
          ],
          [
           "is <unk> wine also good for diabetes ?"
          ],
          [
           "how does diabetes affect performance in sport ?"
          ],
          [
           "do the diabetes diet guidelines help people with diabetes manage their eating ?"
          ],
          [
           "is feeling sick in the morning a symptom of diabetes ?"
          ],
          [
           "how is that diabetes passed on ?"
          ],
          [
           "what happens to insulin during gastroenteritis ?"
          ],
          [
           "is there a chart that shows foods that are high in protein online ?"
          ],
          [
           "how can <unk> be used ?"
          ],
          [
           "what side affects can lantus give you ?"
          ],
          [
           "is diabetes <unk> or <unk> ?"
          ],
          [
           "can type one diabetes kill you ?"
          ],
          [
           "what are some methods for rapid weight loss ?"
          ],
          [
           "people with diabetes cant make what to control blood sugar ?"
          ],
          [
           "what is most <unk> for maintaining god blood glucose levels for a dibetic patient ?"
          ],
          [
           "what term describes an abnormally high concentration of glucose in the blood ?"
          ],
          [
           "does cinnamon spice help control diabetes type two ?"
          ],
          [
           "how does an insulin pump help diabetic people ?"
          ],
          [
           "can you get a diabetes from someone who has one ?"
          ],
          [
           "can you help a three hundred and eight pound type ii diabetic to lose weight ?"
          ],
          [
           "can you join the <unk> guard if you are a diabetic ?"
          ],
          [
           "what research has been done on wheat grass therapy ?"
          ],
          [
           "what are the side affects of a diabetic pregnancy ?"
          ],
          [
           "how does blood transport glucose to the cells ?"
          ],
          [
           "how is diabetic neuropathy diagnosed ?"
          ],
          [
           "low-fat food options are an important consideration for type two diabetes patients ?"
          ],
          [
           "can people with diabetes smoke marijuana ?"
          ],
          [
           "how can diabetic ketoacidosis be prevented ?"
          ],
          [
           "effect of high blood sugar on body ?"
          ],
          [
           "manage your blood sugar ?"
          ],
          [
           "can a woman who has diabetes get pregnant ?"
          ],
          [
           "what is the normal range for blood sugar level ?"
          ],
          [
           "what is the number one cause of diabetes ?"
          ],
          [
           "what supplements help with diabetes ?"
          ],
          [
           "does diabetes effects different age group and is it the types ?"
          ],
          [
           "what brings blood sugar down in diabetes ?"
          ],
          [
           "what are some of the major diabetes symptoms a health care <unk> should look for ?"
          ],
          [
           "what is a good tasting diabetic drink ?"
          ],
          [
           "regulates blood glucose levels ?"
          ],
          [
           "which tissues are not insulin dependent ?"
          ],
          [
           "where can one purchase socks suitable for diabetics ?"
          ],
          [
           "can type two diabetes trigger at a young age ?"
          ],
          [
           "what can happen to a diabetic man if he takes birth control pills ?"
          ],
          [
           "what was nick is blood sugar when he was diagnosed with diabetes ?"
          ],
          [
           "what if diabetes is left untreated ?"
          ],
          [
           "is a <unk> diagnosis the same as a <unk> ?"
          ],
          [
           "whats cells of the body are affected by diabetes ?"
          ],
          [
           "what are the normal glucose levels of a forty year old male ?"
          ],
          [
           "is one hundred and eight glucose high ?"
          ],
          [
           "is wheat bran good fiber for type two diabetes patients ?"
          ],
          [
           "raised serum <unk> levels ?"
          ],
          [
           "does high blood sugar cause behavior changes ?"
          ],
          [
           "can a diabetic take <unk> or <unk> ?"
          ],
          [
           "what is seven point smbg in diabetes ?"
          ],
          [
           "is swollen ankles a symptom of diabetes ?"
          ],
          [
           "how does diabetes starts ?"
          ],
          [
           "what is daily carb allowed for diabetic ?"
          ],
          [
           "survival rate on diabetes ?"
          ],
          [
           "what happens if you have diabetes type one and you smoke weed ?"
          ],
          [
           "what is the abnormally high concentration of glucose in the blood ?"
          ],
          [
           "why would there be a high glucose content after eating ?"
          ],
          [
           "why may a persons blood sugar rise ?"
          ],
          [
           "what can i eat in a diabetic diet ?"
          ],
          [
           "can diet be used to control type one and type two diabetes ?"
          ],
          [
           "what treatments or medications are given to patients with type two diabetes ?"
          ],
          [
           "what is a diabetic safe diet i can eat ?"
          ],
          [
           "are there diabetic recipies for brownies ?"
          ],
          [
           "target cells of glucagon and insulin ?"
          ],
          [
           "what is the difference between diabetes <unk> and diabetes <unk> ?"
          ],
          [
           "what does diabetes do to people ?"
          ],
          [
           "what are the possible symptoms of diabetes ?"
          ],
          [
           "checking your blood sugar daily ?"
          ],
          [
           "do you have pre-diabetes fasting glucose tests range from ninety eight to one hundred and fourteen ?"
          ],
          [
           "whats a diabetic <unk> mom ?"
          ],
          [
           "what word describing the lowering of the blood glucose level to normal after eating a meal ?"
          ],
          [
           "is watermelon good for diabetics ?"
          ],
          [
           "are there any <unk> treatments for diabetes ?"
          ],
          [
           "what effects does diabetes have on our body system ?"
          ],
          [
           "how is type two diabetes diagnosed ?"
          ],
          [
           "how do you pronounce <unk> ?"
          ],
          [
           "is bread good for diabetic patients ?"
          ],
          [
           "what is considered and good low and high blood sugar ?"
          ],
          [
           "what condition is a complication of diabetes mellitus ?"
          ],
          [
           "what negative effects the ingredient sugar has on the human body if too much is eaten ?"
          ],
          [
           "how do you control your blood sugar ?"
          ],
          [
           "what food products are good for diabetics ?"
          ],
          [
           "can gestational diabetes go away ?"
          ],
          [
           "can a diabetic male get you pregnant ?"
          ],
          [
           "how do you consume aloe vera for diabetes ?"
          ],
          [
           "how insulin is <unk> <unk> ?"
          ],
          [
           "does diabetic neuropathy treatment have any risks ?"
          ],
          [
           "what herb cures <unk> ?"
          ],
          [
           "what kind of diet is good for diabetics ?"
          ],
          [
           "what does the code <unk> mean on an medtronic mini med insulin pump ?"
          ],
          [
           "can diabetes cause a <unk> taste in mouth ?"
          ],
          [
           "where can i find a good diet plan for diabetics ?"
          ],
          [
           "can diabetes mellitus be cured ?"
          ],
          [
           "what are the food that patient have diabetic need to eat ?"
          ],
          [
           "why do you have a special syringe to deliver the insulin medication ?"
          ],
          [
           "i there a toothpaste for diabetics ?"
          ],
          [
           "what symptoms show that you have diabetes ?"
          ],
          [
           "how much long acting insulin should you take ?"
          ],
          [
           "why do people with diabetes use insulin ?"
          ],
          [
           "what are two symptoms diabetes mellitus and diabetes insipidus have in common ?"
          ],
          [
           "does chinese food raise blood sugar ?"
          ],
          [
           "what instrument is used to measure <unk> sugar ?"
          ],
          [
           "can a diabetic get a piercing ?"
          ],
          [
           "how do you purchase a <unk> real time system ?"
          ],
          [
           "what hormone controls amount of sugar in the blood ?"
          ],
          [
           "should you be concerned if you have diabetes ?"
          ],
          [
           "will diabetes qualify you ?"
          ],
          [
           "what is diabetes <unk> ?"
          ],
          [
           "is sugar causing diabetes ?"
          ],
          [
           "how fast do sleeping pills work ?"
          ],
          [
           "how many people have died from diabetes in australia ?"
          ],
          [
           "in diabetes insulin is administered intravenously explain why this hormone protein can not be taken orally ?"
          ],
          [
           "why do you need sugar ?"
          ],
          [
           "hormone action is regulated by ?"
          ],
          [
           "what kind of people need to use blood glucose monitors ?"
          ],
          [
           "has any one found a cure for diabetes ?"
          ],
          [
           "is sugar in milk harmful to diabetics ?"
          ],
          [
           "what is the effect of sugar alcohol on the body ?"
          ],
          [
           "how does type two diabetes affect the endocrine system ?"
          ],
          [
           "what is the name for a good diabetic cook book ?"
          ],
          [
           "can diabetes be cured by diet and exercise ?"
          ],
          [
           "can high blood sugar make you dizzy and <unk> ?"
          ],
          [
           "what is type three diabetes ?"
          ],
          [
           "can i test my blood sugar with out pricking my finger ?"
          ],
          [
           "a child who has diabetes and develops signs of hypoglycemia should be given ?"
          ],
          [
           "does having diabetes affect the results of a blood alcohol test ?"
          ],
          [
           "which laboratory procedure has made possible te development of bacteria that can <unk> human insulin ?"
          ],
          [
           "what part of the body does diabetes effect ?"
          ],
          [
           "why is <unk> nutrition injected and not taken orally ?"
          ],
          [
           "can you be born with diabetes ?"
          ],
          [
           "what can diabetes do to your body ?"
          ],
          [
           "what conditions result in polydipsia and polyuria ?"
          ],
          [
           "can you get diabetes from drinking alcohol ?"
          ],
          [
           "is diabetes always about sugar ?"
          ],
          [
           "what is a high blood sugar level ?"
          ],
          [
           "does gestational diabetes continue after delivery ?"
          ],
          [
           "are there <unk> companies for diabetic meals in <unk> ?"
          ],
          [
           "what are patient interventions for blood glucose reading of one hundred and twenty ?"
          ],
          [
           "is diabetes a sex-linked trait ?"
          ],
          [
           "what is the average level for blood sugar ?"
          ],
          [
           "what are the <unk> of insulin ?"
          ],
          [
           "how does food affect your blood sugar ?"
          ],
          [
           "what is the history of nick jonas diabetes ?"
          ],
          [
           "is it normal for your blood sugar to go up and down if you are not diabetic ?"
          ],
          [
           "will medicare pay for diabetic shoes and <unk> prescribed by a physician for a patient living in a thirty one <unk> nursing <unk> thirty two a nursing <unk> or thirty three a <unk> care <unk> ?"
          ],
          [
           "is frequent urination a symptom of diabetes ?"
          ],
          [
           "can type two diabetes be <unk> ?"
          ],
          [
           "are there any websites that can help me find diabetic menu planning ?"
          ],
          [
           "diabetes is a condition in which the body does not process properly ?"
          ],
          [
           "how does insulin control sugar levels ?"
          ],
          [
           "diabetic food chart ?"
          ],
          [
           "who made the cure for diabetes ?"
          ],
          [
           "how is juvenile diabetes treated ?"
          ],
          [
           "can insulin be given iv ?"
          ],
          [
           "what are some short term effects of type two diabetes ?"
          ],
          [
           "if someone has diabetes and they have gangrene can it be cured ?"
          ],
          [
           "is <unk> <unk> leaves good for diabetic patients ?"
          ],
          [
           "what is the cure for diabeties ?"
          ],
          [
           "where can i find a blood glucose chart ?"
          ],
          [
           "what are the best types of insulin syringes for the treatment of diabetes ?"
          ],
          [
           "what diabetes info can i expect to receive from my physician ?"
          ],
          [
           "what type of diabetes develops during adulthood ?"
          ],
          [
           "how does diabetes affect your health ?"
          ],
          [
           "why would the doctor suggest check the patients blood sugar level ?"
          ],
          [
           "how long is a liver transplantation patient hospitalized ?"
          ],
          [
           "how many days of medicine should be prescribed to patients with chronic diseases ?"
          ],
          [
           "what diet is the best to follow for someone with diabetes ?"
          ],
          [
           "i am two hundred and thirty lbs and might be getting diabetes and i am scared ?"
          ],
          [
           "what deserts are recommended for diabetics ?"
          ],
          [
           "what does gangrene look like ?"
          ],
          [
           "where can i find a diabetic diet <unk> online ?"
          ],
          [
           "can diabetes affect your eyesight ?"
          ],
          [
           "is massage contraindicated after insulin injection ?"
          ],
          [
           "can insulin be made from cat urine ?"
          ],
          [
           "can a diabetic get <unk> ?"
          ],
          [
           "when was german diabetes center <unk> created ?"
          ],
          [
           "will peanut butter help lower blood sugar ?"
          ],
          [
           "what happens to glucose in the type two diabetic ?"
          ],
          [
           "what are some ways to reduce the risk of getting diabetes ?"
          ],
          [
           "what rhymes with diabetes ?"
          ],
          [
           "is eleven point one high for a diabetic ?"
          ],
          [
           "what is a good online blood sugar chart ?"
          ],
          [
           "high blood sugar reading ?"
          ],
          [
           "what would happen if a diabetic did not take their insulin ?"
          ],
          [
           "how many gram of sugar are ok in a one thousand , eight hundred ada diet ?"
          ],
          [
           "how do you get gestational diabetes ?"
          ],
          [
           "does cinnamon lower blood sugar levels ?"
          ],
          [
           "does honey increase you sugar level ?"
          ],
          [
           "how to control diabetes ?"
          ],
          [
           "how old can you be to have diabetes ?"
          ],
          [
           "what is difference between diabetes mellitus and diabetes insipidus ?"
          ],
          [
           "what does diabetes do to the body ?"
          ],
          [
           "what are diabetic foot infections ?"
          ],
          [
           "what is alcohol induced diabetes ?"
          ],
          [
           "is there a cure for diabeties ?"
          ],
          [
           "why is my true result meter showing a <unk> error ?"
          ],
          [
           "is <unk> good for diabetic ?"
          ],
          [
           "can diabetics use lidocaine patch ?"
          ],
          [
           "what can a person do to prevent getting diabetes ?"
          ],
          [
           "what is the nursing intervention of dizziness ?"
          ],
          [
           "how many diagnosed diabetes patients are not on medication ?"
          ],
          [
           "is it safe for diabetics to work out alone ?"
          ],
          [
           "what is the root word of diabetes ?"
          ],
          [
           "can diabetics eat plums ?"
          ],
          [
           "how is diabetes treated through <unk> healing ?"
          ],
          [
           "diabetic needles ?"
          ],
          [
           "which endocrine gland produces insulin ?"
          ],
          [
           "if you weigh two hundred and twenty lbs how many carbs should you eat to lose weight on a diabetic diet ?"
          ],
          [
           "what is the name of the condition in which the body is not producing adequate amounts of insulin ?"
          ],
          [
           "what is the education required to be a diabetes health counselor ?"
          ],
          [
           "does insulin go bad ?"
          ],
          [
           "what is the diagnosis for diabetes ?"
          ],
          [
           "how do oral <unk> affect diabetes ?"
          ],
          [
           "can you enter the service if you are a type two diabetic ?"
          ],
          [
           "what causes diabetes melitus ?"
          ],
          [
           "diabetes meters ?"
          ],
          [
           "what can cause diabetes ?"
          ],
          [
           "is eating raw sugar a sign of an illness ?"
          ],
          [
           "how is retinopathy diagnosed ?"
          ],
          [
           "can diabetic eat <unk> ?"
          ],
          [
           "what are to important <unk> to know about diabetes ?"
          ],
          [
           "can a diabetic individual take <unk> ?"
          ],
          [
           "did jackie robinson have diabetes ?"
          ],
          [
           "is a low fat diet is recommended to treat diabetes ?"
          ],
          [
           "what is diabetes and what are the symptoms ?"
          ],
          [
           "is <unk> <unk> a diabetic ?"
          ],
          [
           "can agent orange cause pancreatic cancer if it can cause diabetes ?"
          ],
          [
           "is it bad to eat noodles when you have diabetes ?"
          ],
          [
           "what caused water loss in <unk> area ?"
          ],
          [
           "what are some really good diabetic recipes that do not include pasta ?"
          ],
          [
           "can a <unk> have diabetes ?"
          ],
          [
           "can diabetes be beat ?"
          ],
          [
           "what is a condition in which the body is unable to produce or use insulin ?"
          ],
          [
           "what would happen to the blood glucose level if diabetic gave herself an injection but did not eat or accidentally too much insulin ?"
          ],
          [
           "where can one apply for good insurance for diabetes ?"
          ],
          [
           "when was pacific <unk> diabetes research institute created ?"
          ],
          [
           "why do people have diabetes ?"
          ],
          [
           "what <unk> venom <unk> a drug that controls blood sugar levels ?"
          ],
          [
           "what are some good diabetic <unk> ?"
          ],
          [
           "what kind of organism is insulin ?"
          ],
          [
           "should a diabetic have coffee ?"
          ],
          [
           "what test is administered to patients with diabetes to measure average glucose levels over the past three weeks ?"
          ],
          [
           "what type of trial might be used to determine if overweight people can lower their incidence of type ii diabetes by changing their eating habits exercising ?"
          ],
          [
           "how does high blood sugar levels affect <unk> between the cells and the blood ?"
          ],
          [
           "what are diabetes symptoms and preventions ?"
          ],
          [
           "is it safe to have an operation on your foot if you have diabetes ?"
          ],
          [
           "how to keep my insulin pump on while working out ?"
          ],
          [
           "which endocrine gland controls sugar levels in the blood ?"
          ],
          [
           "what do your sugar levels have to be for diabetes ?"
          ],
          [
           "what do you if a diabetic stands on a <unk> spike ?"
          ],
          [
           "what causes the pancreas to release insulin ?"
          ],
          [
           "if you were a thirteen year old girl and had diabetes would you try to kill yourself ?"
          ],
          [
           "how do you know if it is a type one or type2 diabetes ?"
          ],
          [
           "is an a1c of six point six high in a diabetic ?"
          ],
          [
           "what kinds of items does diabetic products sell ?"
          ],
          [
           "is ther any way to find more information about diabetes and diet ?"
          ],
          [
           "what celebrities have type one diabetes ?"
          ],
          [
           "what is the medical term meaning the condition causing fruity breath in a diabetic ?"
          ],
          [
           "what are the long term side effects of diabetes ?"
          ],
          [
           "what is diabetic ketoacidosis ?"
          ],
          [
           "can diabetes insipidus be detected ?"
          ],
          [
           "what do you do when a diabetic is having a hypo ?"
          ],
          [
           "what is wrong with a diabetic <unk> blood sugar ?"
          ],
          [
           "what is the function of <unk> ?"
          ],
          [
           "could diabetes cause other sickness ?"
          ],
          [
           "what is a good diet and exercise plan to avoid getting diabetes ?"
          ],
          [
           "what are the symptoms of type one and type two diabetes ?"
          ],
          [
           "is broccoli is bad for diabetics ?"
          ],
          [
           "why should sugar and foods containing a high percentage of sugar be kept to a minimum ?"
          ],
          [
           "what kind of diet do i need to follow if i am borderline diabetic ?"
          ],
          [
           "where did best and banting get the insulin from ?"
          ],
          [
           "what research has been done on saw <unk> ?"
          ],
          [
           "what is type three diabetes and how it different from types one & two ?"
          ],
          [
           "what happens when not enough insulin is produced in the body ?"
          ],
          [
           "how is the oxidation of glucose in cell respiration <unk> to the burning of that substance in air ?"
          ],
          [
           "what parts of the body does diabetes type two affect ?"
          ],
          [
           "does plain chips raise blood sugar ?"
          ],
          [
           "what are some simple dessert recipes for diabetics ?"
          ],
          [
           "what levels of blood glucose indicates diabetes ?"
          ],
          [
           "what is the <unk> of diabetes mellitus ?"
          ],
          [
           "is nick jonas okay with having diabetes ?"
          ],
          [
           "is sugar apple bad for people with diabetics ?"
          ],
          [
           "what are some specific type one diabetes diet ?"
          ],
          [
           "what is the best time to check blood sugar readings ?"
          ],
          [
           "is marijuana harm full if have diabetes type two ?"
          ],
          [
           "which part of body does diabetes affect ?"
          ],
          [
           "<unk> and diabetes ?"
          ],
          [
           "is there any connection between poor nutrition and diabetes ?"
          ],
          [
           "who <unk> the insulin pump ?"
          ],
          [
           "what causes the pacreas to stop making or producing insulin ?"
          ],
          [
           "who did nick jonas give his diabetes <unk> to ?"
          ],
          [
           "where do diabetic foot infections usually occur ?"
          ],
          [
           "what are causes of diabetes ?"
          ],
          [
           "why are diabetics not allowed to eat food which contains sugar ?"
          ],
          [
           "are there <unk> in diabetes ?"
          ],
          [
           "i have been nauseous for the last couple months i will be fine one moment and the next have extreme nausea sometimes vomiting no chance of pregnancy . i am diabetic but blood sugars do not affect . ?"
          ],
          [
           "can obesity lead to type two diabetes ?"
          ],
          [
           "how do you reverse diabetes ?"
          ],
          [
           "is a person suffering from hypoglycemia diabetic ?"
          ],
          [
           "storage center of a cell ?"
          ],
          [
           "what is a normal blood glucose reading ?"
          ],
          [
           "why do people take insulin ?"
          ],
          [
           "where can one find a good example of a diabetes diet plan ?"
          ],
          [
           "is diabetes a physical disorder ?"
          ],
          [
           "how do you manage diabetes ?"
          ],
          [
           "what is an acceptable blood sugar range <unk> two hours after a meal ?"
          ],
          [
           "do a head injury cause diabetes ?"
          ],
          [
           "cause of diabetes ?"
          ],
          [
           "what is the most important aspect of treatment of diabetes mellitus ?"
          ],
          [
           "where online can i find blood sugar level table ?"
          ],
          [
           "can diabetics eat sago seeds ?"
          ],
          [
           "cures and medicines for diseases such as diabetes can be credited to the study of ?"
          ],
          [
           "why do people with type one diabetes inject with insulin ?"
          ],
          [
           "why polydipsia in diabetes type one ?"
          ],
          [
           "where can one find the <unk> diabetes center ?"
          ],
          [
           "how high or low should your sugar be ?"
          ],
          [
           "how can a person make sure their blood sugar is at a normal level ?"
          ],
          [
           "safe diabetic diet plans ?"
          ],
          [
           "can you eat sugar if you have type two diabetes ?"
          ],
          [
           "can someone please explain diabetes in much detail ?"
          ],
          [
           "does the salt in a pool salt system increase blood pressure ?"
          ],
          [
           "where in the body is diabetes found ?"
          ],
          [
           "what are insulin injections ?"
          ],
          [
           "which <unk> is type one diabetes related to ?"
          ],
          [
           "what should you do if you injected the wrong insulin ?"
          ],
          [
           "what are the signs and symptoms of diabetes ?"
          ],
          [
           "what gland is involved with type one and type two diabetes ?"
          ],
          [
           "why wound healing is delayed in diabetes ?"
          ],
          [
           "how does type two diabetes develop ?"
          ],
          [
           "what are the <unk> mechanisms involved in polydipsia polyuria and polyphagia in diabetes mellitus ?"
          ],
          [
           "what are some ways of eating with diabetes ?"
          ],
          [
           "why does your diabetic dog cry in the <unk> ?"
          ],
          [
           "what are early diabetes symptoms ?"
          ],
          [
           "finding free diabetic meters ?"
          ],
          [
           "how common is the disorder of diabetes ?"
          ],
          [
           "what two types of diabetes are there ?"
          ],
          [
           "my partner has got type one diabetes . is it possible for us to have a baby ?"
          ],
          [
           "what are side effects from insulin ?"
          ],
          [
           "what is the <unk> <unk> check machine ?"
          ],
          [
           "how does diabetes affect the respiratory system ?"
          ],
          [
           "what symptons do you get with diabetes ?"
          ],
          [
           "what is the definition of diabetes ?"
          ],
          [
           "why are bacteria used to produce insulin ?"
          ],
          [
           "does type one diabetes need insulin ?"
          ],
          [
           "is ketoacidosis diabetic retinopathy and nephropathy may be complications of iddm ?"
          ],
          [
           "how many units of insulin are in zero point five ml of regular <unk> insulin ?"
          ],
          [
           "how much sugar in cherries ?"
          ],
          [
           "what is <unk> triglycerides level ?"
          ],
          [
           "is <unk> good for diabetic ?"
          ],
          [
           "what are the low sugar foods ?"
          ],
          [
           "is suspension taken orally ?"
          ],
          [
           "did miley <unk> up with nick because of diabetes ?"
          ],
          [
           "what blood sugar count means your diabetic ?"
          ],
          [
           "can you out grow type one diabetes ?"
          ],
          [
           "is diabetes insipidus or diabetes mellitus more common ?"
          ],
          [
           "if a person has diabetes and there blood sugars drop to fifty what can happen ?"
          ],
          [
           "how long do people live with diabetes ?"
          ],
          [
           "what to do when diabetic wants food not good for them ?"
          ],
          [
           "how do you get type one diabetes ?"
          ],
          [
           "who was the first person to get diabetes ?"
          ],
          [
           "should the word diabetes be capitalized ?"
          ],
          [
           "what are the signs of being a pre diabetic ?"
          ],
          [
           "this protein regulates the amount of glucose in your blood ?"
          ],
          [
           "what is diabetic honeymoon phase ?"
          ],
          [
           "can <unk> is <unk> be done on women with diabetes ?"
          ],
          [
           "i am are constantly thirsty and tired and sometimes my eyes go blurry what is wrong ?"
          ],
          [
           "where can someone find the causes to high blood sugar ?"
          ],
          [
           "what foods should a diabetic not have ?"
          ],
          [
           "what is the normal blood sugar level reading ?"
          ],
          [
           "how long does nph insulin last ?"
          ],
          [
           "what are the symptoms of hyperglycemia ?"
          ],
          [
           "what is the best medicine of diabetes ?"
          ],
          [
           "can high blood sugar cause cysts ?"
          ],
          [
           "what are the main causes of diabetes what are the symptoms to look for ?"
          ],
          [
           "what is a simple dinner recipe that would work with a diabetic menu plan ?"
          ],
          [
           "what are steps taken for diabetes management ?"
          ],
          [
           "how can one tell if he has diabetes ?"
          ],
          [
           "does <unk> raise blood sugar levels ?"
          ],
          [
           "causes of pin point pupils ?"
          ],
          [
           "you have erectile <unk> syndrome from being a type two diabetic will <unk> work on your symptons will it make you have an erect penis ?"
          ],
          [
           "what is <unk> insulin ?"
          ],
          [
           "how do you test your blood sugar levels ?"
          ],
          [
           "is yam good for diabetics ?"
          ],
          [
           "is type one diabetes strong or type two ?"
          ],
          [
           "what are some good recipes for diabetics ?"
          ],
          [
           "what percent of people get diabetes ?"
          ],
          [
           "where are the canadian diabetes association <unk> ?"
          ],
          [
           "how does sugar effect your body ?"
          ],
          [
           "what are the risk factors for insulin resistance ?"
          ],
          [
           "where can you find some tasty diabetic recipes ?"
          ],
          [
           "how are babies of women with gestational diabetes affected ?"
          ],
          [
           "why go for a glucose tolerance test ?"
          ],
          [
           "what is a free diabetic cookbook used for ?"
          ],
          [
           "what if blood sugar is one hundred and twenty nine ?"
          ],
          [
           "how many units of insulin is zero . <unk> ?"
          ],
          [
           "how do you deliver sugar to an unconscious diabetic ?"
          ],
          [
           "which sweet substance is used in the diet of diabetics and <unk> ?"
          ],
          [
           "what is a good <unk> for diabetic recipes ?"
          ],
          [
           "blood sugar level is one hundred to two hundred after eatting a meal . is two hundred to high ?"
          ],
          [
           "in what <unk> is a pregnant lady tested for gestational diabetes ?"
          ],
          [
           "what are some good diabetic recipes ?"
          ],
          [
           "where do you get nick jonas diabetes tags ?"
          ],
          [
           "can a diabetic type two eat honey ?"
          ],
          [
           "what does insulin help body cells use ?"
          ],
          [
           "why is type ii diabetes considered to be a <unk> form of diabetes ?"
          ],
          [
           "which diabetes is rare ?"
          ],
          [
           "can type ii diabetes turn into type i diabetes ?"
          ],
          [
           "where can i find a new diabetic food list that shows good food choices ?"
          ],
          [
           "what does the insulin do ?"
          ],
          [
           "can you have diabetes and not be diagnosed till a later date ?"
          ],
          [
           "what are some diabetes super foods ?"
          ],
          [
           "can people die of diabetes ?"
          ],
          [
           "what is the best treatment for glucose in the blood ?"
          ],
          [
           "how do you diagnose diabetes ?"
          ],
          [
           "how many people in <unk> have diabetes ?"
          ],
          [
           "how will associate carpal tunnel syndrome to diabetes mellitus ?"
          ],
          [
           "can non-insulin dependent diabetes mellitus cause chronic renal failure ?"
          ],
          [
           "what are a diabetes health counselor is <unk> ?"
          ],
          [
           "what is the normal range of blood sugar for diabetic ?"
          ],
          [
           "what is the blood sugar level for diabetics ?"
          ],
          [
           "are there any cookbooks for diabetics by diabetics ?"
          ],
          [
           "is nausea and <unk> and back pain symptoms of diabetes ?"
          ],
          [
           "diabetic meters ?"
          ],
          [
           "which system is attacked by diabetes ?"
          ],
          [
           "can diabetics who have herpes live ?"
          ],
          [
           "how do you give yourself type one diabetes ?"
          ],
          [
           "do herbs raise sugar levels ?"
          ],
          [
           "what facts does the author use to support the idea that the cause of the increase in type two diabetes among young people is that they are overweight ?"
          ],
          [
           "does beer affect diabetes ?"
          ],
          [
           "would his <unk> beliefs prevent nick jonas from getting stem cell treatment for type one diabetes ?"
          ],
          [
           "where can you buy diabetic shoes ?"
          ],
          [
           "can diabetes be prevented ?"
          ],
          [
           "what can i do to keep from triglycerides from being elevated ?"
          ],
          [
           "how long does it take to get rid of diabetes ?"
          ],
          [
           "how junk food and smoking cause diabetes ?"
          ],
          [
           "can people with diabetes make hemoglobin to control their blood sugar ?"
          ],
          [
           "how does a healthy person is body respond to sugar entering the blood ?"
          ],
          [
           "is sugar the cause of diabetes ?"
          ],
          [
           "how common is diabetes in the us ?"
          ],
          [
           "what were food exchange systems originally developed for ?"
          ],
          [
           "when time of day should diabetics avoid exercise ?"
          ],
          [
           "why would a diabetic person loose their toes ?"
          ],
          [
           "is fresh strawberry good for diabetic type two ?"
          ],
          [
           "where can one find a blood sugar levels chart online ?"
          ],
          [
           "diabetes insipidus results when ?"
          ],
          [
           "does dizziness have anything to do with diabetes ?"
          ],
          [
           "what research has been done on <unk> <unk> ?"
          ],
          [
           "why do diabetes medications make you even fatter ?"
          ],
          [
           "how is insulin administered ?"
          ],
          [
           "how can i regulate my blood sugar levels when i have diabetes ?"
          ],
          [
           "what can cause severe pain in upper right arm near the shoulder area ?"
          ],
          [
           "what happens if you get <unk> with a used diabetes syringe ?"
          ],
          [
           "should i eat eggs if i am on a diabetic diet ?"
          ],
          [
           "how do you know if you have diabetes insipidus ?"
          ],
          [
           "which part affected in following diseases diabetes and jaundice ?"
          ],
          [
           "is wine high in sugar ?"
          ],
          [
           "if no one in your family has ever had type one diabetes can your children get it passed on to them ?"
          ],
          [
           "do they let diabetics do any part of the marine <unk> ?"
          ],
          [
           "how does a child develop childhood diabetes . ?"
          ],
          [
           "how does a person with type one diabetes monitor their blood glucose levels ?"
          ],
          [
           "is there any online site that offers diabetic recipes ?"
          ],
          [
           "why doctors ask diabetic patients if they have a eye and foot exam ?"
          ],
          [
           "who discovered insulin is a treatment for diabetes ?"
          ],
          [
           "have many people died because of diabetes ?"
          ],
          [
           "can you get diabetes from getting <unk> ?"
          ],
          [
           "when mixing insulin do you put the air in the cloudy or the clear first ?"
          ],
          [
           "how does a high level of triglycerides present in the bloodstream affect your health ?"
          ],
          [
           "was diabetes contagious in world <unk> one ?"
          ],
          [
           "what kind of insulin pump will va supply ?"
          ],
          [
           "how much are diabetes testing supplies ?"
          ],
          [
           "are there any treatments to diabetes ?"
          ],
          [
           "hormone secreted in response to high blood sugar ?"
          ],
          [
           "what hormone deficiency causes diabetes mellitus ?"
          ],
          [
           "what hormones inhibit insulin ?"
          ],
          [
           "what are some examples of a diabetic meal plan ?"
          ],
          [
           "the nurse <unk> the polyuria seen in clients with untreated diabetes mellitus with which <unk> response ?"
          ],
          [
           "is there help for diabetic cold no feeling feet ?"
          ],
          [
           "where can i get information on a blood sugar chart ?"
          ],
          [
           "what are symptoms of a diabetic foot ?"
          ],
          [
           "what is the correct doctor for type two diabetes ?"
          ],
          [
           "what research has been done on <unk> <unk> ?"
          ],
          [
           "can you eat unsweetened apple <unk> on a diabetic diet ?"
          ],
          [
           "can insulin dependent diabetes mellitus cause chronic kidney failure ?"
          ],
          [
           "does long use of <unk> increase sugar level ?"
          ],
          [
           "what are the most common glucose levels ?"
          ],
          [
           "why do the diabetic patients have glucose in their urine ?"
          ],
          [
           "will <unk> raise your blood sugar ?"
          ],
          [
           "can you see diabetes insipidus in preterm infants ?"
          ],
          [
           "what are the symptoms of high blood sugar ?"
          ],
          [
           "does lactulose raise your blood sugar ?"
          ],
          [
           "what can you do to prevent from diabeties ?"
          ],
          [
           "what are the most used foods in diabetic recipes ?"
          ],
          [
           "when was american diabetes association created ?"
          ],
          [
           "can a person with diabetes eat <unk> ?"
          ],
          [
           "how many hours should you fast before taking your diabetes test ?"
          ],
          [
           "is there gene therapy for cystic fibrosis ?"
          ],
          [
           "how many people in uk suffer with diabetes ?"
          ],
          [
           "how many carbohydrates should you have at breakfast ?"
          ],
          [
           "what are type one diabetes ?"
          ],
          [
           "does stress elevated blood sugars in non diabetics ?"
          ],
          [
           "what beer is good for diabetics ?"
          ],
          [
           "you cant sleep as arms ache ?"
          ],
          [
           "what tests results indicate cystitis ?"
          ],
          [
           "is potato is good for diabetic patients ?"
          ],
          [
           "how would someone get diabetes and what are some things i can do to prevent diabetes ?"
          ],
          [
           "what foods and drinks have sugar ?"
          ],
          [
           "why does the incidence of diabetes mellitus increase with age ?"
          ],
          [
           "how do you inject insulin ?"
          ],
          [
           "what color would your urine be if you had diabetes ?"
          ],
          [
           "is diabetes a disease or ailment ?"
          ],
          [
           "do people with type two diabetes always require insulin ?"
          ],
          [
           "where do you get insulin from ?"
          ],
          [
           "do potato chips cause diabetes ?"
          ],
          [
           "my blood sugar is one hundred and forty one how do i get it down ?"
          ],
          [
           "when a diabetic patient has a minor illness such as a cold or flu what should they do ?"
          ],
          [
           "can you be a diabetic if your skinny ?"
          ],
          [
           "why do diabetics loose <unk> ?"
          ],
          [
           "why does a diabetic person has high blood sugar levels ?"
          ],
          [
           "a diabetes diagnosis is not the end of the world ?"
          ],
          [
           "diabetes is caused due to malfunctioning of ?"
          ],
          [
           "can you get diabetic supplies through the mail ?"
          ],
          [
           "what are the signs and syptoms of being diabetic ?"
          ],
          [
           "one unit of insulin equals how many <unk> ?"
          ],
          [
           "how do you control diabites ?"
          ],
          [
           "what is type 1diabetes ?"
          ],
          [
           "where can i find more information on diabetes recipes ?"
          ],
          [
           "diabetes mellitus is a group of metabolic diseases characterized by hypoglycemia ?"
          ],
          [
           "why can not diabetics get pregnant ?"
          ],
          [
           "why are kids now getting type two diabetes ?"
          ],
          [
           "when does a patient with diabetes insipidus begin to suffer symptoms of dehydration ?"
          ],
          [
           "why do some people not produce or properly use insulin ?"
          ],
          [
           "what are the symptoms of a diabetic and how can you tell if you are a diabetic without seeing a doctor ?"
          ],
          [
           "where can one find information about diabetes ?"
          ],
          [
           "the body produces too much insulin ?"
          ],
          [
           "is urinating a lot a sign of diabetes ?"
          ],
          [
           "what hormone in inadequate amounts results in diabetes mellitus ?"
          ],
          [
           "what system is most affected by diabetes ?"
          ],
          [
           "can diabetics eat fruit ?"
          ],
          [
           "what are the signs of decreased <unk> glucose levels ?"
          ],
          [
           "why insulin give to diabetic patient ?"
          ],
          [
           "what do the glycemic index numbers mean ?"
          ],
          [
           "what problems cause type two diabetes ?"
          ],
          [
           "what does it mean if your blood sugar is one hundred and forty one ?"
          ],
          [
           "why can not diabetes be spread ?"
          ],
          [
           "what age can you get diabetes ?"
          ],
          [
           "how could you prevent diabetes ?"
          ],
          [
           "can you give a <unk> in a diabetic patient ?"
          ],
          [
           "is guava a good fruit for diabetes ?"
          ],
          [
           "what are the symptoms of diabetes ?"
          ],
          [
           "is pineapple good for diabetics ?"
          ],
          [
           "who made the human body ?"
          ],
          [
           "how long did jackie robinson have diabetes for ?"
          ],
          [
           "does the body store glucose in a form of glycogen ?"
          ],
          [
           "what are ways to improve your health ?"
          ],
          [
           "what is the <unk> diagnosis of retinopathy of prematurity ?"
          ],
          [
           "diabetic menus ?"
          ],
          [
           "why are bacteria used to make human insulin ?"
          ],
          [
           "how do you reduce effects of diabetes ?"
          ],
          [
           "what is a cure for diabetes ?"
          ],
          [
           "can it lower blood sugar levels if you soak <unk> in a glass of water <unk> and drink the water on an empty stomach the next morning ?"
          ],
          [
           "what is <unk> ?"
          ],
          [
           "what type of crystals in urine might be present with diabetes mellitus ?"
          ],
          [
           "if blood sugar is high is fresh fruit ok ?"
          ],
          [
           "what is the history of diabetes ?"
          ],
          [
           "what is the normal glucose level in human urine sample ?"
          ],
          [
           "what can you expect after surgery for diabetic retinopathy ?"
          ],
          [
           "what is the average blood sugar level for an adult woman ?"
          ],
          [
           "why can insulin not be given orally ?"
          ],
          [
           "i have pain in my back under my right shoulder <unk> . it gets worse at night when i <unk> down . ?"
          ],
          [
           "is type one diabetes contagious ?"
          ],
          [
           "what are the two main body systems are affected by diabetes ?"
          ],
          [
           "what is the normal range of hb1ac ?"
          ],
          [
           "what do people with diabetes do not produce enough ?"
          ],
          [
           "what if your blood glucose is six . <unk> should you administer insulin ?"
          ],
          [
           "what are some risks that people take ?"
          ],
          [
           "what happens if you eat too many sugar ?"
          ],
          [
           "what type diabetic is type one ?"
          ],
          [
           "what diseases are hereditary ?"
          ],
          [
           "what causes type two diabetes ?"
          ],
          [
           "what signs and symptoms are possible indicators of diabetes mellitus ?"
          ],
          [
           "how did nick jonas get diabetes ?"
          ],
          [
           "is there an informational source online for diabetes in children ?"
          ],
          [
           "who can get diabetes ?"
          ],
          [
           "what is acetone breath ?"
          ],
          [
           "would the diabetes type two diet work for those who have type one ?"
          ],
          [
           "how can you getting avoid getting type two diabetes ?"
          ],
          [
           "can you eat fruits with type two diabeties ?"
          ],
          [
           "what are the causes of diabetes mellitus ?"
          ],
          [
           "what <unk> code would you use for <unk> ulcer on heel in a patient with diabetes type two ?"
          ],
          [
           "does metformin help with weight loss ?"
          ],
          [
           "how many types of sugar like blood sugar ?"
          ],
          [
           "can hand numbness be caused by diabetes ?"
          ],
          [
           "how is aspartame used in gum and why ?"
          ],
          [
           "having too little or no insulin available for the amount of food ingested may result in ?"
          ],
          [
           "if you have left shoulder pain whenever you are stressed <unk> also have a lot of <unk> this heart <unk> am a diabetic ?"
          ],
          [
           "can people with diabetes use <unk> <unk> ?"
          ],
          [
           "can someone with type two diabetes take glucose ?"
          ],
          [
           "how do you lower your blood sugar if i dont have my meds with me ?"
          ],
          [
           "what are the benefits of using diabetes testing equipment ?"
          ],
          [
           "what types of food are recommended to be avoided when on a diabetic diet ?"
          ],
          [
           "what are the precautions people need to take if they have both type one and type two diabetes ?"
          ],
          [
           "how are patients with type i diabetes treated ?"
          ],
          [
           "can a diabetic person can eat apple ?"
          ],
          [
           "what desserts can diabetics enjoy ?"
          ],
          [
           "can you claim any money if you are a diabetic ?"
          ],
          [
           "can german <unk> get diabetes ?"
          ],
          [
           "how control diabites ?"
          ],
          [
           "can diabetes cause severe depression ?"
          ],
          [
           "mode of transmission of diabetes mellitus ?"
          ],
          [
           "how much sugar can you have being diabetic ?"
          ],
          [
           "how do you know if your male dog has diabetes ?"
          ],
          [
           "should a diabetic eat fresh mango ?"
          ],
          [
           "what is the recommended diet for treatment and/or prevention of diabetic neuropathy ?"
          ],
          [
           "how was diabetes treated before the discovery of insulin ?"
          ],
          [
           "do you have a list of low purine foods ?"
          ],
          [
           "what are some good ideas for diabetic meals ?"
          ],
          [
           "what is a specialist for diabetic called ?"
          ],
          [
           "if you have a six month old baby - had gestational diabetes with that pregnancy - and just found out that you are pregnant again is it safe to stay pregnant ?"
          ],
          [
           "what are symptoms of low blood sugar ?"
          ],
          [
           "what is the <unk> code for diabetic nephropathy ?"
          ],
          [
           "how often should a diabetic eat ?"
          ],
          [
           "can a person with diabetes go through a liposuction procedure ?"
          ],
          [
           "what are the causes of gestational diabetes ?"
          ],
          [
           "how many people have heart disease in the us ?"
          ],
          [
           "what type of mutation causes diabetes type one ?"
          ],
          [
           "where can i find information on a diabetic diet , and the link between diet and overall health ?"
          ],
          [
           "what do you have to watch what you are doing with diabetes ?"
          ],
          [
           "what causes a diabetic coma ?"
          ],
          [
           "why is diabetes called diabetes ?"
          ],
          [
           "is secreted in response to high blood sugar levels ?"
          ],
          [
           "what do you have when you have trouble <unk> things ?"
          ],
          [
           "how much metaformin do you take ?"
          ],
          [
           "what is do you have to wear when you have diabetes ?"
          ],
          [
           "does nick jonas have <unk> diabetes ' or diabetes ?"
          ],
          [
           "does sugar cause you to get diabetes ?"
          ],
          [
           "what are the physiological effects of diabetes ?"
          ],
          [
           "what are the diabetes symptoms in dogs ?"
          ],
          [
           "did david <unk> lose his legs to diabetes ?"
          ],
          [
           "are the concerns about the diet the same or different in type one and type two diabetes ?"
          ],
          [
           "best chinese medicine for diabetes ?"
          ],
          [
           "how unhealthy are mars bars ?"
          ],
          [
           "what is the difference between type one and type two diabetes ?"
          ],
          [
           "what is a diabetes care specialist ?"
          ],
          [
           "advantages of using genetically engineered insulin ?"
          ],
          [
           "what is considered a normal blood sugar range ?"
          ],
          [
           "what is the other name for type one and type two diabetes mellitus ?"
          ],
          [
           "how many carbs for diabetic should you have in a day ?"
          ],
          [
           "do diabetics have to eat more salt ?"
          ],
          [
           "what diets are effective for those with diabetes ?"
          ],
          [
           "where can one purchase gourmet chocolates suitable for diabetics ?"
          ],
          [
           "what happens if you have too much sugar ?"
          ],
          [
           "what is the normal human glucose level ?"
          ],
          [
           "how can hereditary diseases be treated ?"
          ],
          [
           "why does lactic acid build up in joints during exercise ?"
          ],
          [
           "is it okay to hit a diabetic ?"
          ],
          [
           "what major organ is involved in diabetes ?"
          ],
          [
           "what happens when blood sugar goes over five hundred ?"
          ],
          [
           "how would someone get diabetes ?"
          ],
          [
           "how many units of insulin are in a <unk> ?"
          ],
          [
           "do you need a comma in this sentence vascular disease secondary to diabetes is small vessel disease ?"
          ],
          [
           "what is involved in a diabetic diet ?"
          ],
          [
           "where can one find research about diabetes ?"
          ],
          [
           "what is the function of nutrition ?"
          ],
          [
           "what happens if your blood glucose level increases ?"
          ],
          [
           "which test is used as an aid in diagnosing diabetes ?"
          ],
          [
           "are there any vitamins for diabetics ?"
          ],
          [
           "which male country and <unk> singer has diabetes ?"
          ],
          [
           "what is the disease that results from lack of insulin ?"
          ],
          [
           "what is the relation of hypokalemia to diabetes melitus ?"
          ],
          [
           "how would stem cell research cure diabetes ?"
          ],
          [
           "what <unk> <unk> have diabetes ?"
          ],
          [
           "what are the diet plans for the various blood types ?"
          ],
          [
           "understanding diabetes mellitus ?"
          ],
          [
           "does sucrose raise blood sugar level ?"
          ],
          [
           "do diabetic sores heal slower ?"
          ],
          [
           "your big toes are numb and <unk> on the outside tip ?"
          ],
          [
           "can you get diabetes from to much sugar ?"
          ],
          [
           "where can i find information about a pre diabetes diet ?"
          ],
          [
           "what gland is important to control your blood sugar ?"
          ],
          [
           "what are some good dessert recipes for diabetics ?"
          ],
          [
           "what is diabetes gangrene ?"
          ],
          [
           "what chromosome number is diabetes type two ?"
          ],
          [
           "high level of a fatty substance in the blood ?"
          ],
          [
           "you are diabetic and hypertensive since last <unk> presently having severe problem of <unk> oral <unk> . what is cause of my oral problem ?"
          ],
          [
           "do you have to have a prescription to purchase blood glucose testing strips ?"
          ],
          [
           "is type two diabetes also known as pre-diabetes ?"
          ],
          [
           "what does a full blood <unk> test for ?"
          ],
          [
           "can you eat potatoes on a diabetic diet ?"
          ],
          [
           "nursing diagnosis for diabetic ketoacidosis ?"
          ],
          [
           "which of the jonas brother have diabetes ?"
          ],
          [
           "can you take metformin with insulin ?"
          ],
          [
           "does polyuria cause excessive urination ?"
          ],
          [
           "can diabetics use <unk> ?"
          ],
          [
           "does <unk> cause blood sugar changes ?"
          ],
          [
           "can <unk> in drinking water cause diabetes ?"
          ],
          [
           "what is a possible cause of type two diabetes ?"
          ],
          [
           "what foods are not allowed on a diabetic food list ?"
          ],
          [
           "will wheat grass help your diabetes ?"
          ],
          [
           "what can people with diabetes eat ?"
          ],
          [
           "what blood sugar level is considered hypoglycemia ?"
          ],
          [
           "what can you do for a diabetic cat ?"
          ],
          [
           "can you have surgery to fix <unk> i had <unk> surgery to avoid infections because of diabetes but i did not think they were going to give me a nut <unk> also i lost about an inch ?"
          ],
          [
           "what is the scientific word for low blood sugar ?"
          ],
          [
           "how do you get rid of belly and thigh fat and still be a type one diabetic ?"
          ],
          [
           "why do you have diabetes ?"
          ],
          [
           "can people with type two diabetes drink vodka ?"
          ],
          [
           "is diabetes a curable disease if detected in early ?"
          ],
          [
           "how much sugar is safe for a juvenile diabetic ?"
          ],
          [
           "how do you control sugar level in a diabetic child ?"
          ],
          [
           "diabetes symptoms ?"
          ],
          [
           "why are you peeing a lot ?"
          ],
          [
           "how high is the normal blood glucose concentration of a human throughout the day ?"
          ],
          [
           "what is the best time to measure blood glucose levels ?"
          ],
          [
           "what is the meal plan example for people like me who are diabetic ?"
          ],
          [
           "how is diabetes inherited ?"
          ],
          [
           "how do you convert insulin units to cc ?"
          ],
          [
           "what is the indication of diabetic ?"
          ],
          [
           "what is the best cure for diabetes ?"
          ],
          [
           "what are good diabetic <unk> ?"
          ],
          [
           "where is <unk> root grown ?"
          ],
          [
           "why do diabetics have to watch what they eat ?"
          ],
          [
           "how does blood pressure relate to the level of stress you and the other person are typically under ?"
          ],
          [
           "is it a myth for getting diabetes by eating to much sugar ?"
          ],
          [
           "how many grams should a type two diabetic consume per day with hyperglycemia ?"
          ],
          [
           "a bolus insulin does it means some rapid insulin mixed with a lente one ?"
          ],
          [
           "<unk> does cover diabetes medication ?"
          ],
          [
           "how dangerous is sustained blood pressure of two hundred and thirteen over ninety four ?"
          ],
          [
           "which organs can be affected by diabetes ?"
          ],
          [
           "how long for the onset of regular insulin ?"
          ],
          [
           "what hormone is important in diabetes insipidus ?"
          ],
          [
           "when is diabetes awareness month ?"
          ],
          [
           "<unk> , pain in the ?"
          ],
          [
           "what is a care <unk> ?"
          ],
          [
           "what are some <unk> blood sugar testers ?"
          ],
          [
           "why diabetes is a government health priority ?"
          ],
          [
           "what causes hyperglycemia ?"
          ],
          [
           "is blood that was drawn an hour and half before <unk> true readings for sugar ?"
          ],
          [
           "why does type two diabetics can not take penicillin ?"
          ],
          [
           "what are the reasons of swelling in feet ?"
          ],
          [
           "what are the different <unk> a type one diabetes person has ?"
          ],
          [
           "difference between diabetic and non diabetic neuropathy . ?"
          ],
          [
           "are people with diabetes allowed to eat chocolate ?"
          ],
          [
           "what is the best type of diet for someone who has type-2 diabetes ?"
          ],
          [
           "what will happen to someone with type one diabetes if they go too long without an insulin shot ?"
          ],
          [
           "how does diabetes affect your cells ?"
          ],
          [
           "could diabetes affect the complete blood count test ?"
          ],
          [
           "which body system is functioning <unk> when not enough of the hormone insulin is produced ?"
          ],
          [
           "does discharge education in the new diabetic patient impact <unk> rates for <unk> ?"
          ],
          [
           "what happen when they found glucose in your urine ?"
          ],
          [
           "how often should you get a <unk> if you know that a certain disease runs in your family ?"
          ],
          [
           "do <unk> get diabetes ?"
          ],
          [
           "which aspect of the nervous system is involved with diabetes ?"
          ],
          [
           "is mutton good for diabetic ?"
          ],
          [
           "why was type one diabetes called juvenile diabetes ?"
          ],
          [
           "is eating peanut butter and graham crackers a good snack for a type one diabetic ?"
          ],
          [
           "how do you know if it is a type1 or type2 diabetes ?"
          ],
          [
           "can you boil liquid glucose ?"
          ],
          [
           "why some foods may taste sweet but have very little glucose ?"
          ],
          [
           "what is the error code <unk> on blood glucose accu-chek aviva meter ?"
          ],
          [
           "are you able to loss diabetes type two through weight loss ?"
          ],
          [
           "are people with diabetes <unk> for medicaid in texas ?"
          ],
          [
           "does diabetes cause peripheral neuropathy ?"
          ],
          [
           "diabetic supplies online ?"
          ],
          [
           "neuropathy diabetes ?"
          ],
          [
           "diabetic meter ?"
          ],
          [
           "can you die of diabetes ?"
          ],
          [
           "why are diabetics more prone to complications from swine flu ?"
          ],
          [
           "infertility for diabetics ?"
          ],
          [
           "what is a good food guide for diabetics ?"
          ],
          [
           "how common are diabetes complications ?"
          ],
          [
           "insulin resistance may be <unk> by elevated concentrations of all of the following except ?"
          ],
          [
           "what is the <unk> for a family history of diabetes ?"
          ],
          [
           "do type one and two diabetes have to do with blood glucose ?"
          ],
          [
           "what is the normal <unk> of glucose in 100ml of blood ?"
          ],
          [
           "what online stores carry diabetic test strips that i can order and buy ?"
          ],
          [
           "<unk> diagnosis of diabetes ?"
          ],
          [
           "a patient is described as being diabetic and having kussmaul respirations . what <unk> activity is taking place to cause this in your patient ?"
          ],
          [
           "is one hundred and ten a high glucose reading ?"
          ],
          [
           "how does diabetes affect a person ?"
          ],
          [
           "can you get diabetes after fifty years old ?"
          ],
          [
           "can cat drink human water ?"
          ],
          [
           "what is the normal range of endogenous insulin in non diabetics ?"
          ],
          [
           "what consists of a diabetic retinopathy treatment ?"
          ],
          [
           "what is hypoglcemia ?"
          ],
          [
           "is <unk> a diabetic ?"
          ],
          [
           "diabetes warning signs ?"
          ],
          [
           "why do diabetics inject insulin rather than taking it by mouth ?"
          ],
          [
           "how are diabetic foot infections diagnosed ?"
          ],
          [
           "what are some simple diet plans for a diabetic ?"
          ],
          [
           "what are some good recipes for a diabetic <unk> ?"
          ],
          [
           "detecting prediabetes early ?"
          ],
          [
           "can diabetics eat eggs ?"
          ],
          [
           "you are diabetic how do you carry your insulin on the <unk> ?"
          ],
          [
           "can phenylalanine cause diabetes ?"
          ],
          [
           "if a person is not diabetic why would he have ketones in the urine ?"
          ],
          [
           "what age you can get diabeties ?"
          ],
          [
           "how long should five pills per day of <unk> two hundred be continued for rheumatoid arthritis ?"
          ],
          [
           "does <unk> raise or lower blood sugar blood co2 concentration ?"
          ],
          [
           "what happens if you take insulin and you are not diabetic ?"
          ],
          [
           "what is the relationship between cholesterol and heart disease ?"
          ],
          [
           "will ayurveda help someone who has diabetes ?"
          ],
          [
           "what is the salary range of an diabetes health counselor ?"
          ],
          [
           "how do you know if your blood sugar levels are low ?"
          ],
          [
           "what happens in type one of diabetes ?"
          ],
          [
           "should diabetics eat sugar in large amounts or in moderation ?"
          ],
          [
           "what in the urine would indicate diabetes ?"
          ],
          [
           "is type one diabetes deadly ?"
          ],
          [
           "why diabetes is more prevalent in men than women ?"
          ],
          [
           "what is the difference between insulin and blood sugar ?"
          ],
          [
           "what to do when your hand falls asleep ?"
          ],
          [
           "all candy diet for type two diabetes ?"
          ],
          [
           "can high blood sugar cause pupils being <unk> ?"
          ],
          [
           "is a <unk> sting bad for a diabetic ?"
          ],
          [
           "what are the chances i will be able to carry my baby to term if i am diabetic ?"
          ],
          [
           "diabetes type two is an ?"
          ],
          [
           "is the gold side of test strips for diabetic testing made out of gold ?"
          ],
          [
           "what is low levels of glucose in the blood called ?"
          ],
          [
           "diet for type two diabetes ?"
          ],
          [
           "how do you diagnosis diabetes type one and diabetes type two ?"
          ],
          [
           "what is the function of the gonads ?"
          ],
          [
           "why draw up clear insulin before cloudy ?"
          ],
          [
           "when they remove your appendix and they draw blood are the blood tests drug tests also ?"
          ],
          [
           "is <unk> feet when sore a good idea ?"
          ],
          [
           "delicious diabetic carrot cake ?"
          ],
          [
           "what is a normal range for blood sugar level ?"
          ],
          [
           "the first hormone to be discovered was ?"
          ],
          [
           "what is involved in the treatment of diabetes ?"
          ],
          [
           "what are the release dates for project not me diabetes prevention - two thousand and twelve eating out <unk> ?"
          ],
          [
           "can someone taking pills for diabetes use urine therapy ?"
          ],
          [
           "what places offer advice on low blood sugar ?"
          ],
          [
           "what goes on in the patients body during diabetes ?"
          ],
          [
           "the doctor said your blood sugar was slightly elevated and put you on a diabetes diet but never said either way if you were a diabetic or not should you be concerned ?"
          ],
          [
           "where can i find more information diabetic meals ?"
          ],
          [
           "what is one medication that must be used for type one diabetes ?"
          ],
          [
           "if you are diabetic and suffering frequent hypos low blood sugar <unk> emergency aid should the doctor prescribe metformin and lower insulin since metformin lowers blood sugar levels further ?"
          ],
          [
           "why glucose essential nutrient ?"
          ],
          [
           "is <unk> safe for diabetes patients ?"
          ],
          [
           "how does diabetes look like on your body ?"
          ],
          [
           "can you use <unk> with type two diabetes ?"
          ],
          [
           "fasting sugar range is one hundred and twenty four and post lunch is one hundred and ninety ?"
          ],
          [
           "where can one find information on the best diabetes recipe ?"
          ],
          [
           "type two diabetes is known as ?"
          ],
          [
           "can you be a borderline diabetic ?"
          ],
          [
           "why does diabetes restrict a beauty treatment ?"
          ],
          [
           "what is the affect of high blood sugar and the kidneys and capillaries ?"
          ],
          [
           "what is diabetes of pregnancy called ?"
          ],
          [
           "what is the average blood glucose level ?"
          ],
          [
           "do diabetes lead to cancer ?"
          ],
          [
           "what are the two challenges of dying with chronic illness ?"
          ],
          [
           "can you stop sugar diabetes when you are a kid ?"
          ],
          [
           "what are the main symptoms that lead up to diabetes ?"
          ],
          [
           "when you have sweets and get sleepy do you have diabetes ?"
          ],
          [
           "can mental <unk> increase diabetes ?"
          ],
          [
           "does <unk> raise blood sugar levels ?"
          ],
          [
           "if your <unk> sugar is too high which type of diabetes do you have ?"
          ],
          [
           "does beer affect your blood sugar levels ?"
          ],
          [
           "first function of <unk> ?"
          ],
          [
           "what organs are affected by diabetes ?"
          ],
          [
           "what will happen to your health if you eat too much chocolate ?"
          ],
          [
           "what will happen to your body over a long period of time if diabetes is left unchecked ?"
          ],
          [
           "what are the treatments for type one diabetes ?"
          ],
          [
           "is type two diabetes caused by lifestyle or a bacteria ?"
          ],
          [
           "are there two kinds of diabetes ?"
          ],
          [
           "can you have hyperglycemia without diabetes ?"
          ],
          [
           "what is pre-diabetes ?"
          ],
          [
           "where to find melabic sugar stabilizer ?"
          ],
          [
           "why does mango help in <unk> diabetes ?"
          ],
          [
           "does a molecule of starch have more stored energy than a glucose molecule and why ?"
          ],
          [
           "how can you gain weight if you are a diabetic ?"
          ],
          [
           "can <unk> cause a sharp spike in blood sugar levels ?"
          ],
          [
           "how did scientists find the human gene that makes insulin ?"
          ],
          [
           "what are five symptoms of type two diabetes ?"
          ],
          [
           "what effect does <unk> have on blood sugars ?"
          ],
          [
           "how you can control diabetes ?"
          ],
          [
           "what are the materials in an insulin pump ?"
          ],
          [
           "can you drink <unk> <unk> <unk> if your diabetic ?"
          ],
          [
           "can diabetic take date ?"
          ],
          [
           "what is a normal two hour postprandial blood sugar ?"
          ],
          [
           "what is juvenal diabetes ?"
          ],
          [
           "can you die from diabetes mellitus ?"
          ],
          [
           "what are some diabetic symptoms ?"
          ],
          [
           "meal for a diabetic ?"
          ],
          [
           "food to lower high blood <unk> ?"
          ],
          [
           "how long will a bottle of insulin last using sixty units daily ?"
          ],
          [
           "what foods to be a avoiding during diabetes and the food beneficial for health ?"
          ],
          [
           "type two diabetes is known as insulin dependent diabetes ?"
          ],
          [
           "is <unk> safe for diabetics ?"
          ],
          [
           "which two hormones control your blood sugar levels ?"
          ],
          [
           "noninsulin-dependent diabetes usually shows up first when a person is ?"
          ],
          [
           "what is the medical term meaning damage to the retina caused by diabetes ?"
          ],
          [
           "is <unk> good for diabetic ?"
          ],
          [
           "can diabetic drink beer ?"
          ],
          [
           "are ther any <unk> with diabetes ?"
          ],
          [
           "what is the difference between diabetes and diabetic ?"
          ],
          [
           "how can diabetes survive in the human body ?"
          ],
          [
           "what amount of blood glucose level is normal ?"
          ],
          [
           "should you be tested if the blood glucose is one hundred and eleven ?"
          ],
          [
           "what are the areas <unk> are affected with diabetes ?"
          ],
          [
           "what causes elevated levels of blood glucose ?"
          ],
          [
           "where was insulin invented ?"
          ],
          [
           "can someone be health and get diabetes because your dad has it ?"
          ],
          [
           "does sugar raise blood sugar ?"
          ],
          [
           "was alexander <unk> bell diabetic ?"
          ],
          [
           "damage to the retina of the eye caused by diabetes mellitus is known as diabetic what ?"
          ],
          [
           "why do kids love sugar ?"
          ],
          [
           "can diabetics donate a kidney ?"
          ],
          [
           "what types of people are most susceptible to <unk> <unk> ?"
          ],
          [
           "who is the <unk> in the diabetes test strip commercial ?"
          ],
          [
           "why a diabetic must take their insulin as an injection ?"
          ],
          [
           "what are the four p is of diabetes mellitus ?"
          ],
          [
           "what should i know if i am diagnosed with diabetes ?"
          ],
          [
           "how much insulin should you take if blood sugar is two hundred and forty one ?"
          ],
          [
           "what are the negative effects of massage to a person with diabetes ?"
          ],
          [
           "eat what you are told ?"
          ],
          [
           "normal value of bloodsugar ?"
          ],
          [
           "what are <unk> ?"
          ],
          [
           "how does diabetes effect the endocrine system ?"
          ],
          [
           "is there a surgery for type two diabetes to temporarily stop the need of insulin ?"
          ],
          [
           "is diabetes a <unk> disease ?"
          ],
          [
           "what does the term baseline sugar or sugar baseline mean and how is it determined for a diabetic or just a normal person ?"
          ],
          [
           "how many people in the urban world have diabetes ?"
          ],
          [
           "what can you do to help you i am diabetic and have sugar in your urine ?"
          ],
          [
           "how is diabetes linked to personal health ?"
          ],
          [
           "how is diabetes spread among humans ?"
          ],
          [
           "does eating meat raise your blood sugar ?"
          ],
          [
           "what are some recipes for sweets other than diabetic cakes ?"
          ],
          [
           "how much sugar does your body need ?"
          ],
          [
           "what are the top rated children is diabetes and endocrinology hospitals ?"
          ],
          [
           "how do i eat the best for my type of blood ?"
          ],
          [
           "type ii diabetes ?"
          ],
          [
           "how is <unk> related to diabetes ?"
          ],
          [
           "how clean does your background need to be before you can join the air force ?"
          ],
          [
           "what are the symptoms of diabetic ketoacidosis ?"
          ],
          [
           "what is a normal sugar level after eating ?"
          ],
          [
           "do diabetes or kidney infection <unk> <unk> in a urine drug test ?"
          ],
          [
           "is nick jonas diabetes getting worse ?"
          ],
          [
           "what are the chemicals released by ketosis ?"
          ],
          [
           "is rice or pasta better as part of a diabetic meal ?"
          ],
          [
           "where can you stick yourself to check blood sugar levels ?"
          ],
          [
           "diabetic fruity odor what to do ?"
          ],
          [
           "why has there been an increase in type two diabetes ?"
          ],
          [
           "what medications are used to treat diabetes mellitus ?"
          ],
          [
           "what finally causes the <unk> to fall ?"
          ],
          [
           "a diet low in fiber is associated with an increased risk of developing what ?"
          ],
          [
           "when you have type one diabetes what do you do when you are sick ?"
          ],
          [
           "is it harmful to take insulin if you do not need it ?"
          ],
          [
           "are dates harmful for a diabetic ?"
          ],
          [
           "what level of glucose in the urine can be normal ?"
          ],
          [
           "can you recover from diabetes ?"
          ],
          [
           "what diabetic dessert recipe can you make on the <unk> ?"
          ],
          [
           "your thirteen yr old <unk> is diabetic and has gone blind how will you know when it is his time to die ?"
          ],
          [
           "what are some foods for a diabetic ?"
          ],
          [
           "why is not type one diabetes curable ?"
          ],
          [
           "is there anywhere i can get free supplies for blood sugar testing ?"
          ],
          [
           "what does a low blood glucose level indicate ?"
          ],
          [
           "are <unk> bad for diabetics ?"
          ],
          [
           "if your grandma had diabetes and it runs in your dads side of the family will you get it ?"
          ],
          [
           "are <unk> and watermelons not safe fruits for diabetic ?"
          ],
          [
           "does type one diabetes affect your sperm count ?"
          ],
          [
           "why fructose <unk> from the blood of diabetic patient at a normal rate ?"
          ],
          [
           "why is type two diabetes bad ?"
          ],
          [
           "what are chances of kids developing diabetes if father has type1 diabetes ?"
          ],
          [
           "is <unk> <unk> safe for type two diabetics ?"
          ],
          [
           "history of type one diabetes ?"
          ],
          [
           "does age affect your blood sugar ?"
          ],
          [
           "is walking good for diabetics ?"
          ],
          [
           "what can cure hypertension and diabetes ?"
          ],
          [
           "diabetes food list ?"
          ],
          [
           "what are <unk> on arms and <unk> ?"
          ],
          [
           "what <unk> the disease of diabetes ?"
          ],
          [
           "how does diabetes affect the urinary system ?"
          ],
          [
           "what is ac test for diabetes ?"
          ],
          [
           "diabetic supplies medicare ?"
          ],
          [
           "what is normal blood sugar levels in dogs ?"
          ],
          [
           "can you give glucose to a patient orally also what are the required conditions ?"
          ],
          [
           "how are <unk> therapies holistic ?"
          ],
          [
           "does <unk> <unk> <unk> have diabetes ?"
          ],
          [
           "how does diabetes cause ?"
          ],
          [
           "how do you get diabetes type two ?"
          ],
          [
           "does insulin cause your ankles and legs to swell ?"
          ],
          [
           "does lil boosie have diabetes ?"
          ],
          [
           "what is the likelihood that cats will develop diabetes <unk> dogs ?"
          ],
          [
           "who is likely to get diabetes ?"
          ],
          [
           "where can i purchase diabetic supplements ?"
          ],
          [
           "does dark chocolate help type two diabetes ?"
          ],
          [
           "why might your <unk> lose twelve pounds in two weeks and not want to eat much ?"
          ],
          [
           "how does diabetes affect a1c levels ?"
          ],
          [
           "who can contract diabetes ?"
          ],
          [
           "what website will you get nick jonas is personalized diabetes <unk> ?"
          ],
          [
           "can diabetes affect the feet ?"
          ],
          [
           "what is the major contributor to obesity type two diabetes cancer and heart disease ?"
          ],
          [
           "will glucose levels rise during infection ?"
          ],
          [
           "does diabetes affect the circulatory system ?"
          ],
          [
           "how can you avoid diabetic ?"
          ],
          [
           "my <unk> old son was diagnosed with <unk> diabetes in july eight point we have been having alot of highs and lows <unk> , were told by his doctor that it is normal . i would like to get another opinion on this from someone with same problem . ?"
          ],
          [
           "what is the scientific name for the bacteria that causes diabetes ?"
          ],
          [
           "discovered by frederick banting and charles best what hormone was first used on leonard thompson a <unk> diabetic ?"
          ],
          [
           "what happens when blood glucose levels get too low ?"
          ],
          [
           "what are some snacks that would be recommended for diabetic people ?"
          ],
          [
           "how should diabetic neuropathy be <unk> to ?"
          ],
          [
           "when a person is in treatment for diabetic ketoacidosis what happens ?"
          ],
          [
           "what causes inflammation of organs ?"
          ],
          [
           "what gland is in diabetes mellitus ?"
          ],
          [
           "which part of the body is most affected by diabetes ?"
          ],
          [
           "what enhances the action of insulin in the body ?"
          ],
          [
           "asking about best diet for someone with diabetic . ?"
          ],
          [
           "what parts of the body are affected by gangrene ?"
          ],
          [
           "how much money do physicians make ?"
          ],
          [
           "if blood sugar falls twenty six mg what happened to patient ?"
          ],
          [
           "what are the short term effects of diabetes ?"
          ],
          [
           "what exercise regimen will help get rid of a wouldiabetic middle ' ?"
          ],
          [
           "where did the name diabetes come from ?"
          ],
          [
           "can you get your cdl in colorado if your a diabetic ?"
          ],
          [
           "is drinking lots of water a sign of diabetes ?"
          ],
          [
           "which eye doctor <unk> or <unk> treats diabetes problems in the eyes ?"
          ],
          [
           "should a diabetic eat rice ?"
          ],
          [
           "what jobs can not you get with type one diabetes ?"
          ],
          [
           "what type of diabetes did <unk> h miller have ?"
          ],
          [
           "marijuana can be harm full if have diabetes type two ?"
          ],
          [
           "what are your top three fears <unk> of diabetes ?"
          ],
          [
           "can taking drugs turn a type two into a type one ?"
          ],
          [
           "which finding on a urinalysis is commonly due to diabetes ?"
          ],
          [
           "what fruits should i eat if i am diabetic ?"
          ],
          [
           "which hormone is most involved in <unk> <unk> ?"
          ],
          [
           "is brandy bad for a diabetic patient ?"
          ],
          [
           "what research has been done on <unk> ?"
          ],
          [
           "what year was the insulin pump invented ?"
          ],
          [
           "how important is diabetes diet chart with type two form of diabetes ?"
          ],
          [
           "three ways to prevent serious illnesses such as heart disease cancer diabetes and stroke ?"
          ],
          [
           "does caffeine ingestion affect blood test levels of serum glucose or ldl ?"
          ],
          [
           "how many carbs should a diabetic woman have per day ?"
          ],
          [
           "what exactly is pediatric diabetes ?"
          ],
          [
           "are there adverse affects from scuba <unk> with diabetes ?"
          ],
          [
           "what cook <unk> have the best food list for diabetics ?"
          ],
          [
           "what sugar level will put you in a coma low ?"
          ],
          [
           "does <unk> <unk> have type one diabetes ?"
          ],
          [
           "can a diabetic become super sensitive to pain ?"
          ],
          [
           "is there <unk> for diabetes ?"
          ],
          [
           "have no money need insulin bad medicaid wont cover it ?"
          ],
          [
           "what is daily carb allowance for type two diabetes ?"
          ],
          [
           "cases of diabetes mellitus in the philippines ?"
          ],
          [
           "what kind of diabetes medications do people usually take ?"
          ],
          [
           "what age do most people get type diabetes and what age do it end ?"
          ],
          [
           "what does diabete means ?"
          ],
          [
           "is sugar levels ten percent more need medication ?"
          ],
          [
           "will hamburger raise your blood sugar levels ?"
          ],
          [
           "how can you lose weight with type two diabetes ?"
          ],
          [
           "what is type one diabetes also called ?"
          ],
          [
           "which blood test measures glucose levels eight to twelve hours after eating and is used to screen for diabetes mellitus ?"
          ],
          [
           "initial onset of regular insulin given subcutaneously ?"
          ],
          [
           "how can you become a member of a medical research team in us ?"
          ],
          [
           "can you have anemia and gestational diabetes at the same time ?"
          ],
          [
           "im diabetic and am experiencing numbness and tingling in your lower left leg and foot what is it ?"
          ],
          [
           "can diabetic patient drink sugarcane juice ?"
          ],
          [
           "what is the normal blood sugar level in human body ?"
          ],
          [
           "what are classic symptoms of diabetes ?"
          ],
          [
           "who discovered the treatment for type one diabetes ?"
          ],
          [
           "communicate with the school nurse ?"
          ],
          [
           "does <unk> milk cause diabetes ?"
          ],
          [
           "what is a natural substitute for insulin ?"
          ],
          [
           "what are some diabetes complications ?"
          ],
          [
           "body does not produce or properly use insulin ?"
          ],
          [
           "does <unk> <unk> have diabetes ?"
          ],
          [
           "if you have diabetes can you have sugar ?"
          ],
          [
           "why does black coffee raise your blood sugar ?"
          ],
          [
           "can diabetics drink beer ?"
          ],
          [
           "what companies offer free diabetic testing supplies ?"
          ],
          [
           "can you develop diabetes from eating too much sugar ?"
          ],
          [
           "what is a list of foods that are high in sugar ?"
          ],
          [
           "where can i get the foods to follow a diabetic plan ?"
          ],
          [
           "what is normal level of blood sugar ?"
          ],
          [
           "medicare diabetic supplies ?"
          ],
          [
           "how do you start to plan a diabetes two diet ?"
          ],
          [
           "can diabetes mellitus be prevented ?"
          ],
          [
           "why does type one diabetes turn into type two diabetes in the future when you become an adult ?"
          ],
          [
           "what to prevent diabetes two ?"
          ],
          [
           "what are the results of not taking medicine for diabetes ?"
          ],
          [
           "what are the symptoms of diabetic ulcers ?"
          ],
          [
           "you have a one thousand , nine hundred and ninety five <unk> <unk> you can not find the <unk> cap could someone please tell you the location ?"
          ],
          [
           "if glucose is administered intravenously to a patient with insulin-dependent diabetes mellitus , the patient will probably develop ?"
          ],
          [
           "where can i find reliable information on diabetes diet guidelines ?"
          ],
          [
           "what are some disease in the endocrine system ?"
          ],
          [
           "is type you diabetes known as non-insulin dependent diabetes ?"
          ],
          [
           "is six point six percent <unk> result a diabetic ?"
          ],
          [
           "what are long term complications of diabetes ?"
          ],
          [
           "can diabetes be cured without medicines ?"
          ],
          [
           "what does a diabetic consultant do ?"
          ],
          [
           "can a borderline diabetic have artificial sugar ?"
          ],
          [
           "what can reduce the risk of developing diabetic neuropathy ?"
          ],
          [
           "can one treat juvenile diabetes ?"
          ],
          [
           "diabetic diet menu ?"
          ],
          [
           "what disease occurs when the islets of langerhans fails to produce enough insulin ?"
          ],
          [
           "where can i get a diabetic food list ?"
          ],
          [
           "for injecting insulin which disposable syringe has the <unk> needle ?"
          ],
          [
           "you need help finding a cure for <unk> your husband has been <unk> for eight years ?"
          ],
          [
           "what is the plan or diet for diabetes ?"
          ],
          [
           "is there a pill that you can take to lose weight ?"
          ],
          [
           "diabetes is the result of a disturbance in the product of ?"
          ],
          [
           "what effect does eating have on blood glucose level ?"
          ],
          [
           "what causes numbness of tip of the tongue ?"
          ],
          [
           "can type two diabetics take lactulose solution ?"
          ],
          [
           "where can i find more information on diabetic snacks ?"
          ],
          [
           "thyroid does it have any relationship with diabetes ?"
          ],
          [
           "can you take tylenol pm if you are diabetic ?"
          ],
          [
           "is a blood sugar level of one hundred and eleven normal ?"
          ],
          [
           "is <unk> safe for diabetics ?"
          ],
          [
           "what type diabetes characterized by absence of insulin <unk> ?"
          ],
          [
           "what kind of macromolecule is insulin ?"
          ],
          [
           "what is <unk> one ' diabetes and <unk> two ' diabetes ?"
          ],
          [
           "what are two causes leading to diabetes ?"
          ],
          [
           "do researchers think there will be a cure for diabetes ?"
          ],
          [
           "is type two diabetes deadly ?"
          ],
          [
           "can diabetic eat <unk> ?"
          ],
          [
           "what does a type two diabetic eat on weight watchers ?"
          ],
          [
           "what type of carbohydrates helps maintains normal glucose levels ?"
          ],
          [
           "what is the best diet for diabetic ?"
          ],
          [
           "why is it important that this solute be removed from diabetic patients ?"
          ],
          [
           "how diabetes are caused ?"
          ],
          [
           "is there type three diabetes ?"
          ],
          [
           "a food high in added sugar ?"
          ],
          [
           "what can a diabetic have instead of rice or potatoes ?"
          ],
          [
           "can an eye doctor really see signs of diabetes in the eyes ?"
          ],
          [
           "how many days of blood sugar level does fasting blood sugar measure ?"
          ],
          [
           "what condition results if insulin is not produced ?"
          ],
          [
           "how can i lose weight fast and healthy when i have diabetes ?"
          ],
          [
           "what foods help control type two diabetes ?"
          ],
          [
           "is type two diabetes also known as insulin overload diabetes ?"
          ],
          [
           "does insulin <unk> and become bad i dropped a bottle of my dog is insulin -- is it still good ?"
          ],
          [
           "if you have diabetes do you get fatigue ?"
          ],
          [
           "can you use any function inside <unk> ?"
          ],
          [
           "how you can get a diabetes mellitus ?"
          ],
          [
           "is sugar apple good for diabetics ?"
          ],
          [
           "what is a diabetic reaction ?"
          ],
          [
           "is there a vaccine to prevent diabetes ?"
          ],
          [
           "what are the symptoms and causes of diabetes and its treatment ?"
          ],
          [
           "what effect does an increase in the level of insulin in the blood have ?"
          ],
          [
           "explain why blood glucose levels are controlled in people who do not have diabetes ?"
          ],
          [
           "your glucose level is one hundred and twenty one your daughters is eighty seven your son is is one hundred and twenty four and your other son is is fifty two do any of us have <unk> and what is a normal an abnormal level ?"
          ],
          [
           "is having diabetes a bad thing ?"
          ],
          [
           "who founded that insulin is in your body ?"
          ],
          [
           "where can i purchase diabetic needles ?"
          ],
          [
           "how is it that the insulin stops working and or does not produce enough ?"
          ],
          [
           "who is diabetes insipidus is more common in males or females ?"
          ],
          [
           "is there a website that offers a diabetic diet meal plan ?"
          ],
          [
           "can a diabetic eat strawberries ?"
          ],
          [
           "how can diabetes be controlled by exercising ?"
          ],
          [
           "what are the release dates for a day in the life of a diabetic - two thousand and ten ?"
          ],
          [
           "how turmeric should use for diabetics ?"
          ],
          [
           "is smoking bad for diabetes ?"
          ],
          [
           "is diabetes a chronic or communicable diseases ?"
          ],
          [
           "diabetes pump ?"
          ],
          [
           "if diabetes is <unk> it a genetic disease or is it caused by the environment ?"
          ],
          [
           "is diet control an effective treatment of diabetes ?"
          ],
          [
           "what are the differences between different types of diabetes testing equipment ?"
          ],
          [
           "what type of wine is best for diabetes ?"
          ],
          [
           "how do you get type two diabetes ?"
          ],
          [
           "how do you treated a patient that has been giving too much insulin ?"
          ],
          [
           "what foods should a diabetic eat ?"
          ],
          [
           "who is more likely to develop diabetic ketoacidosis ?"
          ],
          [
           "why would insulin not bring down a high sugar reading ?"
          ],
          [
           "what can you do if you passed out on the job due to diabetes and was fired for sleeping ?"
          ],
          [
           "what are the diseases that can be inherited ?"
          ],
          [
           "what are the benefits of diabetes and exercise ?"
          ],
          [
           "if you had no liver what will happen ?"
          ],
          [
           "does am la control blood sugar ?"
          ],
          [
           "what websites have cake recipes for diabetics ?"
          ],
          [
           "best recipe <unk> for diabetes ?"
          ],
          [
           "can a diabetic male impregnate a woman ?"
          ],
          [
           "is white flour allowed on a gestational diabetes diet ?"
          ],
          [
           "can a type two diabetic be a merchant marine ?"
          ],
          [
           "how long can a diabetic live on <unk> ?"
          ],
          [
           "how long should you fast for a glucose tolerance test ?"
          ],
          [
           "how do you treat or cure diabetes ?"
          ],
          [
           "diabetic cookbooks ?"
          ],
          [
           "how much sugar is in <unk> ?"
          ],
          [
           "diabetes affect what in your body ?"
          ],
          [
           "if you have diabetes will you have it for the rest of your life ?"
          ],
          [
           "is god diabetic ?"
          ],
          [
           "how severe do diabetes symptoms have to be before you have diabetes ?"
          ],
          [
           "what is the normal glucose levels of a teenager ?"
          ],
          [
           "what type of cereal is good for a person with diabetes ?"
          ],
          [
           "what are the classic signs of hyperglycemia in type one diabetes mellitus ?"
          ],
          [
           "can a diet that is high in sugar cause diabetes ?"
          ],
          [
           "what fruit is the cure for diabetes ?"
          ],
          [
           "how are <unk> types one and two treated ?"
          ],
          [
           "in what condition people take glucose ?"
          ],
          [
           "how can bacteria be genetically engineered and used to make human insulin ?"
          ],
          [
           "where can i get recipes for a diabetes meal diet that produce tasty results ?"
          ],
          [
           "what is the level of glucose in a cat ?"
          ],
          [
           "can i test my blood sugar from other areas than my fingers ?"
          ],
          [
           "are there any vitamins specifically for diabetics ?"
          ],
          [
           "what would happen if you <unk> someone with diabetes ?"
          ],
          [
           "can nick jonas get rid of his diabetes ?"
          ],
          [
           "is hereditary diabetes avoidable ?"
          ],
          [
           "your husband is a diabetic why does he <unk> ?"
          ],
          [
           "does vomiting raise blood sugar levels ?"
          ],
          [
           "what drugs can be used to treat insulin resistance ?"
          ],
          [
           "are <unk> tests done on diabetics ?"
          ],
          [
           "can <unk> sugar be used on diabetic cookies ?"
          ],
          [
           "what is the substance that increases urine of untreated diabetic ?"
          ],
          [
           "what is the color of the awareness ribbon for kids diabetes ?"
          ],
          [
           "which is better for diabetics <unk> or <unk> ?"
          ],
          [
           "can anyone take insulin ?"
          ],
          [
           "what are some causes of lack of water ?"
          ],
          [
           "what are four types of diabetic neuropathy ?"
          ],
          [
           "is a non stress test a standard diabetes test ?"
          ],
          [
           "where can you find information on children is clothing in world <unk> two ?"
          ],
          [
           "are any types of diabetes hereditary ?"
          ],
          [
           "what is a normal blood sugar range for fasting ?"
          ],
          [
           "how can dark chocolate help diabetics ?"
          ],
          [
           "can you be hospitalized for diabetics ?"
          ],
          [
           "what is the treatment of both diabetes ?"
          ],
          [
           "what is the difference between a tuberculin syringe and an insulin syringe ?"
          ],
          [
           "is diabetes related to anemia ?"
          ],
          [
           "what kind of diet would a person with diabetes have ?"
          ],
          [
           "where can you find information on diabetes nutrition ?"
          ],
          [
           "what is the metabolic abnormality that <unk> the characteristic symptoms of diabetes mellitus ?"
          ],
          [
           "where can i go to find good , healthy , safe diet and exercise plans for type i diabetics ?"
          ],
          [
           "what is in simple english diabetic <unk> ?"
          ],
          [
           "orthotopic liver transplantation ?"
          ],
          [
           "is diabetes mellitus controllable ?"
          ],
          [
           "does a starch affect a diabetic the same as sugar ?"
          ],
          [
           "how long does insulin last in your <unk> ?"
          ],
          [
           "what is <unk> ?"
          ],
          [
           "what would make your toes feel numb and your foot tingling on top and have little red <unk> on inside of skin going up front of leg ?"
          ],
          [
           "buying a reliable blood sugar monitor ?"
          ],
          [
           "is there <unk> for diabetes ?"
          ],
          [
           "what does insulin have to do with the disease diabetes ?"
          ],
          [
           "what will happen if you draw cloudy insulin up first then clear insulin and give to a patient ?"
          ],
          [
           "what does a diabetes blood test for ?"
          ],
          [
           "why do diabetics receive insulin subcutaneously by infection rather than orally ?"
          ],
          [
           "what is another name for blood sugar ?"
          ],
          [
           "can you transfer diabetes through blood ?"
          ],
          [
           "can dibeties be cured ?"
          ],
          [
           "does antibiotics increase blood sugar ?"
          ],
          [
           "which hormone reduce the level of glucose in blood ?"
          ],
          [
           "what is the molecular weight for insulin ?"
          ],
          [
           "what is sometimes found in the urine of diabetics ?"
          ],
          [
           "what is the role of insulin to diabetes ?"
          ],
          [
           "life expectancy of type one diabetic ?"
          ],
          [
           "is diabetes insulin made in a pig cow human or bacteria ?"
          ],
          [
           "insulin is released into the blood when ?"
          ],
          [
           "<unk> liver salts and diabetics ?"
          ],
          [
           "is there a list of food diabetics can not eat online ?"
          ],
          [
           "how does bacteria help people with diabetes ?"
          ],
          [
           "which websites offer information about how to manage type one diabetes ?"
          ],
          [
           "if a diabetic passes out do you give smelling salts ?"
          ],
          [
           "what research has been done on royal jelly ?"
          ],
          [
           "are there any websites that can help me find diabetic cooking ?"
          ],
          [
           "where can i find a diabetic food list ?"
          ],
          [
           "when was nick jonas diagnosed with diabetes ?"
          ],
          [
           "how does diabetics lose weight ?"
          ],
          [
           "are you a diabetic if your test result is glucose ac five point six and glucose <unk> <unk> <unk> ?"
          ],
          [
           "what is the difference between a diabetic food list and a low glucose food list ?"
          ],
          [
           "why do diabetic people have to have a injection ?"
          ],
          [
           "how many grams of sugar are allowed for an adult with type two diabetes ?"
          ],
          [
           "what are the symptoms of type two diabetes ?"
          ],
          [
           "where can i find menus on the internet that cater to diabetic individuals ?"
          ],
          [
           "what <unk> of science that deals with diabetes ?"
          ],
          [
           "can infection cause diabetes ?"
          ],
          [
           "which beer is good for diabetic patients ?"
          ],
          [
           "is there a specific diet for people with diabetes ?"
          ],
          [
           "what are two two risk factors for diabetes type two ?"
          ],
          [
           "are diet sodas good for diabetics ?"
          ],
          [
           "what is an example of a good diabetic breakfast ?"
          ],
          [
           "are hormones used to treat diabetes ?"
          ],
          [
           "what is the normal range of blood glucose ?"
          ],
          [
           "what are some of the popular diet <unk> for a sugar diabetic ?"
          ],
          [
           "what do you call a diabetes dr . ?"
          ],
          [
           "can excess of sugar in urine cause tiredness ?"
          ],
          [
           "can a diabetic drink milk ?"
          ],
          [
           "what ingredients should be avoided when making diabetic cookie recipes ?"
          ],
          [
           "how many <unk> should a diabetic consume in sodium ?"
          ],
          [
           "what kind of diet required during hypoglycaemia ?"
          ],
          [
           "how does <unk> interfere with fluid and electrolyte balance ?"
          ],
          [
           "why diabete insulin can not made a pill same as diabete ?"
          ],
          [
           "how do you know when you are diabetic ?"
          ],
          [
           "did nick jonas consider leaving the jonas brothers when he found out that he had diabetes ?"
          ],
          [
           "what does <unk> and classification mean ?"
          ],
          [
           "what research has been done on shiatsu ?"
          ],
          [
           "can diabetic take <unk> ?"
          ],
          [
           "what are some low sugar dessert recipes for diabetics ?"
          ],
          [
           "what <unk> between dominant and recessive traits ?"
          ],
          [
           "how do you explain calorie counting to diabetic clients ?"
          ],
          [
           "a few days ago i was tested for lyme disease . along with the blood test test my doctor tested my blood sugar . before going to the doctor i had stopped at a <unk> donuts and had a cinnamon raisin <unk> with a sweetened <unk> ice tea . my doctor called to ?"
          ],
          [
           "one hour after eating for a diabetic ?"
          ],
          [
           "how can a person improve his health ?"
          ],
          [
           "which hormone is normally secreted in response to high blood sugar ?"
          ],
          [
           "what are the <unk> of diabetes ?"
          ],
          [
           "does diabetes make you go a lot if the sugar is up ?"
          ],
          [
           "is <unk> support network is diabetic pack effective ?"
          ],
          [
           "the islets of langerhans produce two peptide hormones insulin and glucagon that interact to govern the level of glucose in the blood ?"
          ],
          [
           "when was nick jonas diagnosed with type one diabetes ?"
          ],
          [
           "is diabete hereditary ?"
          ],
          [
           "why do you get lightheaded and feel like im going to faint ?"
          ],
          [
           "how can one research what diabetes is ?"
          ],
          [
           "is hunger a symptom of diabetes ?"
          ],
          [
           "what do a1c levels tell you about a diabetic person ?"
          ],
          [
           "what are some diabetes guidelines to follow in order to stay healthy ?"
          ],
          [
           "can diabetics take vitamin b complex ?"
          ],
          [
           "which body organ produce insulin ?"
          ],
          [
           "why do some athletes take glucose tablets before their races ?"
          ],
          [
           "finding free diabetic cookbooks ?"
          ],
          [
           "what are all the names for diabetes type one ?"
          ],
          [
           "where can one find a chocolate pie recipe suitable for someone who has diabetes ?"
          ],
          [
           "what type of insulin has the <unk> onset period ?"
          ],
          [
           "how does type one diabetes affect your life ?"
          ],
          [
           "what are the different types of diabetes ?"
          ],
          [
           "how can someone get diabetes ?"
          ],
          [
           "why is it important that urea be removed from diabetic patients ?"
          ],
          [
           "what parts of the body are affected by diabetes ?"
          ],
          [
           "how does diabetes function in the body including immune system function brain function mutation gene function or anything else ?"
          ],
          [
           "what kind of diabetes did laura ingalls wilder have ?"
          ],
          [
           "how can you not get diabetes ?"
          ],
          [
           "was insulin first used in one thousand , nine hundred and twenty two ?"
          ],
          [
           "is diabetes short term or long term disease ?"
          ],
          [
           "which one of the following choices is the best way to control type ii diabetes ?"
          ],
          [
           "who does diabetes <unk> type2 and gestational diabetes affect ?"
          ],
          [
           "can a diabetic safely get a tattoo on leg ?"
          ],
          [
           "the blood level of what is most significant in regulating the respiratory center in mammals ?"
          ],
          [
           "insulin is synthesized and released by the ?"
          ],
          [
           "what is the <unk> for insulin ?"
          ],
          [
           "is there a site that could do a quick <unk> for diabetes diet foods that are available ?"
          ],
          [
           "how can one get free diabetic supplies ?"
          ],
          [
           "is diabetes mellitus asymptomatic or symptomatic ?"
          ],
          [
           "does diabetes cause sweating ?"
          ],
          [
           "where can i find a blood sugar levels chart online ?"
          ],
          [
           "what can a person on a diabetes diet eat ?"
          ],
          [
           "how do you get diabetes type one ?"
          ],
          [
           "how is pancreatic dysfunction related to diabetes ?"
          ],
          [
           "how can diabetes <unk> ?"
          ],
          [
           "can we keep contact with diabetic person ?"
          ],
          [
           "what are the names of five organisms which affect human health ?"
          ],
          [
           "can a husband is diabetes be the cause of a miscarriage ?"
          ],
          [
           "what are effects of <unk> when you are diabetic ?"
          ],
          [
           "pre diabetes treatment ?"
          ],
          [
           "is the <unk> diet safe for diabetics ?"
          ],
          [
           "where can one obtain diabetic testing ?"
          ],
          [
           "what is a cause of diabetes ?"
          ],
          [
           "can dry mouth be a sign of diabetes ?"
          ],
          [
           "what is a fatal dose of insulin ?"
          ],
          [
           "what are the foods a diabetic can eat ?"
          ],
          [
           "where online can i find diabetic carrot cake recipes ?"
          ],
          [
           "what does it mean when your blood sugar count is two hundred and ninety seven ?"
          ],
          [
           "are there any websites that offer diabetes education ?"
          ],
          [
           "does reliv diabetes ?"
          ],
          [
           "can i get diabetic meal plans online ?"
          ],
          [
           "what are the two types of diabetes and how do they differ ?"
          ],
          [
           "what is hyperosmolarity in diabetes in a way even i can understand ?"
          ],
          [
           "how was insulin invented ?"
          ],
          [
           "what are some things that diabetics cant have ?"
          ],
          [
           "which term describes a life-threatening complication of diabetes mellitus ?"
          ],
          [
           "what is the <unk> code for <unk> for a depressed <unk> fracture simple <unk> for a patient with mild diabetes well controlled ?"
          ],
          [
           "can <unk> blood improve blood sugar level ?"
          ],
          [
           "what kind of disease did the <unk> spread to canada ?"
          ],
          [
           "latest medicine for type two diabetes ?"
          ],
          [
           "what type of diabetes did alexander graham bell have ?"
          ],
          [
           "is diabetes a <unk> disease ?"
          ],
          [
           "what are included in a diabetic diet menu ?"
          ],
          [
           "diabetic nutrition ?"
          ],
          [
           "how can you maintain your blood glucose level ?"
          ],
          [
           "what would you name a program that is all about diabetes care and is very india specific ?"
          ],
          [
           "does <unk> <unk> have diabetes ?"
          ],
          [
           "is three hundred and eighty four to high in being a diabetic ?"
          ],
          [
           "joe do you have diabetes like nick ?"
          ],
          [
           "what happens to insulin levels when blood glucose levels increase ?"
          ],
          [
           "what is the normal diet for people with diabetes ?"
          ],
          [
           "does diabetes reduce a person <unk> ?"
          ],
          [
           "what should your blood sugar levels be before eating a meal ?"
          ],
          [
           "where can i get tools to test my blood sugar level ?"
          ],
          [
           "does diabetes effect you getting pregnant ?"
          ],
          [
           "polydipsia and polyuria are symptoms of ?"
          ],
          [
           "what are the emotional effects of diabetes ?"
          ],
          [
           "what is the diagnosis code for <unk> ?"
          ],
          [
           "is diabetes mellitus genetic ?"
          ],
          [
           "what research has been done on <unk> ?"
          ],
          [
           "what can you do to restore normal color to a black leg from diabetes ?"
          ],
          [
           "free diabetic meter ?"
          ],
          [
           "do men get diabetes ?"
          ],
          [
           "what the role of liver and pancreas in controlling the blood glucose level ?"
          ],
          [
           "what are the release dates for project not me diabetes prevention - two thousand and twelve stay <unk> <unk> ?"
          ],
          [
           "is there any way to cure diabetes ?"
          ],
          [
           "what kind of pregnancy complications should an insulin dependent diabetic expect ?"
          ],
          [
           "is there a cure for type two diabetes ?"
          ],
          [
           "what are the symptoms of diabetes type one ?"
          ],
          [
           "what are three foods that are high in sugar ?"
          ],
          [
           "what is the condition of high blood sugar level associated with diabetes called ?"
          ],
          [
           "how does diabetes affect your circulation system ?"
          ],
          [
           "how does glucagon and insulin help maintain normal glucose level ?"
          ],
          [
           "about diabetes blood sugar levels ?"
          ],
          [
           "is cinnamon good for diabetics ?"
          ],
          [
           "will <unk> cause diabetes ?"
          ],
          [
           "what are some cures for type one diabetes ?"
          ],
          [
           "what is type 1diabetes juvenile diabates ?"
          ],
          [
           "who of ten people who has diabetes ?"
          ],
          [
           "how many people have diabetes in the world ?"
          ],
          [
           "process of producing too much insulin ?"
          ],
          [
           "can i find any online cookbooks for diabetics ?"
          ],
          [
           "does type one diabetes use a hormone called insulin ?"
          ],
          [
           "are diabetics in pain all the time ?"
          ],
          [
           "what dosage of glyburide is given to a cat with diabetes ?"
          ],
          [
           "when your hand falls asleep how do you get rid of the unpleasant feeling ?"
          ],
          [
           "i have a book about type two diabetes , and they suggest many of my favorite foods , but not the deserts . are they leaving the deserts out are deserts okay for me ?"
          ],
          [
           "ability of bacteria to produce insulin ?"
          ],
          [
           "what organ makes insulin ?"
          ],
          [
           "are oranges good for diabetic people ?"
          ],
          [
           "are <unk> and <unk> <unk> <unk> more susceptible to getting diabetes ?"
          ],
          [
           "why does <unk> is apple cider vinegar help diabetics ?"
          ],
          [
           "is <unk> flour is good for diabetes ?"
          ],
          [
           "is sugarcane good for diabetes patient ?"
          ],
          [
           "if im borderline diabetic and eat cake what might be the consequences ?"
          ],
          [
           "should diabetics eat a diet with a lot corn ?"
          ],
          [
           "genetically engineered insulin advantages and <unk> ?"
          ],
          [
           "is type one diabetes bad ?"
          ],
          [
           "how do you know you have gestational diabetes ?"
          ],
          [
           "where can i find information and advice on diabetes nutrition ?"
          ],
          [
           "what causes diabetes in <unk> ?"
          ],
          [
           "what medicine do people with type one diabetes have to take ?"
          ],
          [
           "what keeps the levels of glucose in the body at stable levels ?"
          ],
          [
           "is it illegal for diabetics to eat sugar ?"
          ],
          [
           "why is artificial sugar better ?"
          ],
          [
           "what is lantus ?"
          ],
          [
           "what gland is associated with diabetes ?"
          ],
          [
           "how can diabetes be treated ?"
          ],
          [
           "does nick like having diabetes ?"
          ],
          [
           "do health care workers need to wear <unk> when checking a blood sugar ?"
          ],
          [
           "can diabetes be reversed ?"
          ],
          [
           "what is the effect of ethanol on blood sugar ?"
          ],
          [
           "what could be the symptoms of diabetes ?"
          ],
          [
           "what is a juvenile onset diabetic ?"
          ],
          [
           "what foods are <unk> on a type two diabetes diet plan ?"
          ],
          [
           "how long does it take for fruit to raise blood sugar level ?"
          ],
          [
           "what is a glucose <unk> ?"
          ],
          [
           "what food will increase hemoglobin level in diabetic ?"
          ],
          [
           "what federal agency helps patients who need to follow a diabetic diet plan ?"
          ],
          [
           "what alcohol drink is good for a type two diabetic ?"
          ],
          [
           "what are some options for recipes for someone with diabetes ?"
          ],
          [
           "how do you make a diabetic coconut cake ?"
          ],
          [
           "does an std increase the risk of type two diabetes ?"
          ],
          [
           "why insulin is taken intravenously ?"
          ],
          [
           "how do you lower high blood sugar ?"
          ],
          [
           "what are the best fruits for a diabetic ?"
          ],
          [
           "how is insulin genetically engineered ?"
          ],
          [
           "can diabetes be <unk> ?"
          ],
          [
           "where can you get a type two diabetes plan ?"
          ],
          [
           "how do you <unk> diabetes type one ?"
          ],
          [
           "what causes low blood sugar to sometimes appear as if someone is having a stroke ?"
          ],
          [
           "is it normal to hear a low <unk> <unk> ' when stopped the <unk> <unk> you bought does this and you was told it was normal but is that accurate ?"
          ],
          [
           "why are people with diabetes encouraged to avoid too many sugary foods ?"
          ],
          [
           "why i feel nausea cramps and the <unk> to vomit after eating ?"
          ],
          [
           "what is a sample diet for a diabetic ?"
          ],
          [
           "is there a cure for type one diabetes ?"
          ],
          [
           "can you die from diabetes if you have had it for a long time ?"
          ],
          [
           "can diabetic medicine cause cancer ?"
          ],
          [
           "what is the normal average for blood sugar ?"
          ],
          [
           "is there a doctor that specializes in diabetes ?"
          ],
          [
           "why would a person need diabetic neuropathy treatment ?"
          ],
          [
           "what does the <unk> <unk> mean in regards a blood test ?"
          ],
          [
           "name the cloudy insulins ?"
          ],
          [
           "why <unk> patients feel hunger ?"
          ],
          [
           "how much exercise is needed for diabetic ?"
          ],
          [
           "what are two things that can lead to childhood obesity and diabetes ?"
          ],
          [
           "what are the signs of diabetic peripheral neuropathy ?"
          ],
          [
           "how can i prevent getting diabetes ?"
          ],
          [
           "what is the reason for light <unk> and shaking after you have eaten and the blood sugar is one hundred and sixteen ?"
          ],
          [
           "is type one diabetes the only type in children ?"
          ],
          [
           "one banana has how many <unk> of sugar ?"
          ],
          [
           "what are the causes of tip of the tongue numbness ?"
          ],
          [
           "what research has been done on the mcdougall diet ?"
          ],
          [
           "what does <unk> and insulin do to sugar ?"
          ],
          [
           "why does diabetics have foot problems ?"
          ],
          [
           "does <unk> have diabetes ?"
          ],
          [
           "what foods and what type of person goes with a blood sugar diet ?"
          ],
          [
           "who does diabetes affect the most ?"
          ],
          [
           "what are <unk> of ayurveda ?"
          ],
          [
           "what is the normal blood <unk> ?"
          ],
          [
           "what are the side effects of insulin ?"
          ],
          [
           "what are some warning signs of diabetes when you are twenty years old ?"
          ],
          [
           "why drink fluids when you are sick ?"
          ],
          [
           "how is insulin released and regulated ?"
          ],
          [
           "do females get diabetes ?"
          ],
          [
           "what is the healthy glucose levels ?"
          ],
          [
           "can you have a cdl and take insulin ?"
          ],
          [
           "what kind of medicines are available to treat diabetes ?"
          ],
          [
           "how does alcohol increase insulin sensitivity ?"
          ],
          [
           "what are the side effects not taking diabetes medication ?"
          ],
          [
           "how many disney channel <unk> have diabetes ?"
          ],
          [
           "does insulin make glucose ?"
          ],
          [
           "why do diabetics need candy ?"
          ],
          [
           "what are the differences between hiv aids and diabetes type two ?"
          ],
          [
           "glucagon is secreted by which glands ?"
          ],
          [
           "why should diabetics not use <unk> ?"
          ],
          [
           "why drugs which are <unk> as insulin can not be taken by mouth but must be injected ?"
          ],
          [
           "who usually gets diabetes ?"
          ],
          [
           "what does it mean if your blood sugar level is two hundred and fifteen ?"
          ],
          [
           "why do you smell <unk> after you <unk> ?"
          ],
          [
           "where did diabetes first start ?"
          ],
          [
           "when does insulin is released ?"
          ],
          [
           "what could you do if you could not control diabetes ?"
          ],
          [
           "which of these illness is a disease in which blood sugar levels are above normal ?"
          ],
          [
           "can you get a cdl in colorado if you use insulin ?"
          ],
          [
           "can fasting cause diabetes ?"
          ],
          [
           "what organelle is insulin synthesized ?"
          ],
          [
           "can you eat watermelon if you are diabetic ?"
          ],
          [
           "what is the purpose of an a1c chart for a diabetic ?"
          ],
          [
           "does homeopathy go with any kind of other medicine like <unk> or ayurveda ?"
          ],
          [
           "how do you keep diabetes under control ?"
          ],
          [
           "can a diabetic patient have any type of liquor ?"
          ],
          [
           "does santa have diabetes ?"
          ],
          [
           "can your blood sugar <unk> while on oral diabetic medication ?"
          ],
          [
           "what are good methods of diabetes prevention ?"
          ],
          [
           "what are good diet plans for a diabetic patient ?"
          ],
          [
           "how do you no if you have diabets ?"
          ],
          [
           "are fruits and honey bad to diabetes ?"
          ],
          [
           "what is the difference between regular insulin and <unk> scale insulin ?"
          ],
          [
           "how many new case of diabetes are diagnosed each day in the us ?"
          ],
          [
           "what type of sugar is blood sugar ?"
          ],
          [
           "how can i improve my diabetes ?"
          ],
          [
           "how high is fasting blood sugar seven point zero ?"
          ],
          [
           "priority nursing diagnosis of type two diabetes ?"
          ],
          [
           "what would be one <unk> of administering glucose to a diabetic in insulin shock ?"
          ],
          [
           "what do you do if you have diabetes and you suddenly feel weak ?"
          ],
          [
           "insulin dependent diabetes ?"
          ],
          [
           "why diabetic patient care to their foot ?"
          ],
          [
           "what is the normal blood sugar level ?"
          ],
          [
           "where is this energy stored in glucose ?"
          ],
          [
           "what are the conditions for giving glucose orally to the patient ?"
          ],
          [
           "what is the medical abbreviation meaning twice a day ?"
          ],
          [
           "where can i get info on a diabetic diet ?"
          ],
          [
           "what to eat if you have diabetes type two ?"
          ],
          [
           "where are some sample menus that have diabetic recipes ?"
          ],
          [
           "what are the effects of <unk> silver on diabetes ?"
          ],
          [
           "why are babies born with type one diabetes ?"
          ],
          [
           "what foods can be bought by poor and rich persons that can cause diabetes ?"
          ],
          [
           "can insulin therapy be administered by an oral medication ?"
          ],
          [
           "at what age are most people diagnosed with diabetes ?"
          ],
          [
           "can pioglitazone cause <unk> <unk> on prolonged use ?"
          ],
          [
           "what is you diabetic hyperglycaemic attack ?"
          ],
          [
           "is <unk> good for kids with diabetes ?"
          ],
          [
           "what type of diabetes is associated with pregnancy ?"
          ],
          [
           "what causes persistent low grade fever ?"
          ],
          [
           "how is a person with diabetes melitus affected ?"
          ],
          [
           "what does too much sugar do to your body ?"
          ],
          [
           "where can i find advice on free diabetic diet plan ?"
          ],
          [
           "what foods must be avoided on the american diabetes association diet ?"
          ],
          [
           "how is marijuana bad for diabetics ?"
          ],
          [
           "why must diabetics use their <unk> to test their blood sugar ?"
          ],
          [
           "is medical issues and diabetes special needs ?"
          ],
          [
           "do you get diabetes when you get stress ?"
          ],
          [
           "is a blood glucose level over one thousand , two hundred dangerous ?"
          ],
          [
           "what do you do to bring blood sugar up ?"
          ],
          [
           "treatment for diabetic neuropathy ?"
          ],
          [
           "what is the function of <unk> ?"
          ],
          [
           "how are brittle diabetics treated ?"
          ],
          [
           "what are some examples of food for a type two diabetic ?"
          ],
          [
           "does long term use of steroids cause diabetes ?"
          ],
          [
           "can diabetes be controlled by nutrilite protein powder ?"
          ],
          [
           "what are the top diabetic diets available ?"
          ],
          [
           "what is the difference between type two diabetes and type one diabetes ?"
          ],
          [
           "how does your teeth relate to a headache ?"
          ],
          [
           "are diabetes mellitus and diabetes the same ?"
          ],
          [
           "how many carb a diabetic should have ?"
          ],
          [
           "what are the types of insulin ?"
          ],
          [
           "how would blood sugar react if insulin stopped working ?"
          ],
          [
           "can you cure for diabetes ?"
          ],
          [
           "tuberculin syringe is calibrated in blank of a cc ?"
          ],
          [
           "why is <unk> not possible for diseases such as diabetes ?"
          ],
          [
           "what is considered high mpv blood count ?"
          ],
          [
           "where can i read reviews on blood sugar testing products ?"
          ],
          [
           "what should your blood sugar be two hrs after eating for a diabetic ?"
          ],
          [
           "what is type two diabetes ?"
          ],
          [
           "how can one contact the american diabetes association ?"
          ],
          [
           "high levels of <unk> in diabetes ?"
          ],
          [
           "where can i find a complete food chart for diabetes including carbohydrate information ?"
          ],
          [
           "can a diabetic be a <unk> <unk> ?"
          ],
          [
           "will you die from type one diabetes ?"
          ],
          [
           "what does ph seven point two six in diabetic ketoacidosis mean ?"
          ],
          [
           "how does one get help for diabetic supplies ?"
          ],
          [
           "what groups of women get diabetes more often ?"
          ],
          [
           "what makes a diabetic lower leg turn black ?"
          ],
          [
           "what is a sample diabetic diet menu ?"
          ],
          [
           "why do diabetics have lower blood sugar ?"
          ],
          [
           "how does a doctor diagnose different types of breaks ?"
          ],
          [
           "which <unk> promotes insulin resistance ?"
          ],
          [
           "how many grams of carbohydrates should a type one diabetic consume per day ?"
          ],
          [
           "what is the difference between type two diabetes mellitus and type1 diabetes mellitus ?"
          ],
          [
           "is diabetes a preexisting condition ?"
          ],
          [
           "what is diabetes <unk> . ?"
          ],
          [
           "diabetics and alcohol consumption ?"
          ],
          [
           "how many carbohydrates should a type one diabetic eat each day ?"
          ],
          [
           "what are some free cookie recipes for diabetics ?"
          ],
          [
           "what is normal blood sugar for a type one diabetic ?"
          ],
          [
           "what carbohydrates do not take long to digest and cause blood sugar levels to rise quickly ?"
          ],
          [
           "if your doctor has said to watch sugar intake because you are on the verge of diabetes how do cut down and how many grams of sugar can you have daily or is sugar free the best ?"
          ],
          [
           "how many americans have diabetes report ?"
          ],
          [
           "where can i find more information on diabetes treatments ?"
          ],
          [
           "monitor your blood sugar while eating healthy ?"
          ],
          [
           "i am hypoglycemic my teachers at school know about it but they always seem to forget how do i tell my teacher that i feel low and need to go to the nurse to get a snack it is <unk> help ?"
          ],
          [
           "what is lack of water caused by ?"
          ],
          [
           "is <unk> <unk> diabetic ?"
          ],
          [
           "what is the name of a disease when blood sugar levels are above normal ?"
          ],
          [
           "does diabetes cause cloudy urine ?"
          ],
          [
           "can diabetics eat glucose syrup ?"
          ],
          [
           "can <unk> twenty mg raise your blood sugar levels ?"
          ],
          [
           "what are three symptoms of diabetes mellitus ?"
          ],
          [
           "what is a type one and two diabetes ?"
          ],
          [
           "what is a substance discovered by canadians that <unk> lives of diabetics ?"
          ],
          [
           "is mango eating harmful to a diabetic ?"
          ],
          [
           "do restaurants carry diabetic diet menus ?"
          ],
          [
           "how many grams of sugar can a diabetic have in one day ?"
          ],
          [
           "when are blood glucose test and glucose tolerance test done <unk> pregnancy ?"
          ],
          [
           "diabetes supplements ?"
          ],
          [
           "can you <unk> with diabetes ?"
          ],
          [
           "which two hormones can correct hypoglycemia ?"
          ],
          [
           "the live reacts to a high level of glucose in the blood by <unk> some of the glucose to ?"
          ],
          [
           "what is the predisposing factors of diabetes mellitus ?"
          ],
          [
           "what system is the diabetes related to ?"
          ],
          [
           "what are the common sources of infection ?"
          ],
          [
           "what causes blood sugar to be too low ?"
          ],
          [
           "diabetes cure ?"
          ],
          [
           "what can you eat if you are diabetic ?"
          ],
          [
           "can diabetes cause a false positive drug test ?"
          ],
          [
           "what kind of food should a diabetes person as to eat ?"
          ],
          [
           "is anemia the cause of diabetes ?"
          ],
          [
           "how is diabetes spread from person to person ?"
          ],
          [
           "is ninety seven to one hundred and ten blood sugar level within normal range for a diabetic ?"
          ],
          [
           "how can i prevent stroke , and is there a diet i should be taking for it ?"
          ],
          [
           "can you smoke before fasting for a diabetes test ?"
          ],
          [
           "why does diabetes medications make people more obese than before they started on the medications ?"
          ],
          [
           "diabetes prevention ?"
          ],
          [
           "what can happen if your blood glucose levels rise to high ?"
          ],
          [
           "can the bayer contour test strips <unk> be <unk> for either the <unk> or <unk> test strips and still maintain <unk> ?"
          ],
          [
           "is yogurt good for a diabetic ?"
          ],
          [
           "what is insulin ?"
          ],
          [
           "how does diabetes cause weight loss ?"
          ],
          [
           "what tells the body how much sugar should be in blood ?"
          ],
          [
           "can a diabetic consume sugar ?"
          ],
          [
           "what is niddm ?"
          ],
          [
           "can diabetes be <unk> ?"
          ],
          [
           "can you eat sweets when you have diabetes ?"
          ],
          [
           "what kind of food can a dog with diabetes eat ?"
          ],
          [
           "what are the effect of diabetes has on the kidney ?"
          ],
          [
           "what is the function of <unk> ?"
          ],
          [
           "how do you treat gestational diabetes ?"
          ],
          [
           "why was you prescribed <unk> d tablets by diabetes doc ?"
          ],
          [
           "how many grams of sugar are recommended per day for type two diabetics ?"
          ],
          [
           "what term describes a life-threatening complication of diabetes mellitus ?"
          ],
          [
           "how the body produce insulin ?"
          ],
          [
           "if i am going in for a blood specific test lets say to determine if you have diabetes is there anyway that during these tests if you have smoked marijuana that it will come up in the tests ?"
          ],
          [
           "what can cause weight gain fatigue heat sensitivity and muscle aches ?"
          ],
          [
           "what is a good diabetic food guide ?"
          ],
          [
           "what is the diabetes blood sugar level ?"
          ],
          [
           "what is the symptoms of pre diabetes ?"
          ],
          [
           "what is a good diet that a diabetic should try ?"
          ],
          [
           "why insulin is not given as an oral medication to diabetes ?"
          ],
          [
           "is there an online list for diabetes food ?"
          ],
          [
           "what happens when people are unable to produce enough <unk> ?"
          ],
          [
           "what restaurants in central <unk> offer a diabetic menu ?"
          ],
          [
           "is diabetes a <unk> ?"
          ],
          [
           "how high does blueberries raise blood sugar ?"
          ],
          [
           "what types of diabetes are determined by the functioning of the ?"
          ],
          [
           "what is a good <unk> on diabetes ?"
          ],
          [
           "what is a diabetic ?"
          ],
          [
           "does diabetes get worse over time ?"
          ],
          [
           "how is blood sugar measured ?"
          ],
          [
           "nick jonas diabetic ?"
          ],
          [
           "what is the main idea of it is time to stop <unk> fat people for their size ?"
          ],
          [
           "what is the risk of exercise with diabetes ?"
          ],
          [
           "who was <unk> <unk> ?"
          ],
          [
           "what is a good type of diabetes ?"
          ],
          [
           "what happens if people with diabetes do not take their insulin ?"
          ],
          [
           "can a man with diabetic father a child with diabetic ?"
          ],
          [
           "do <unk> help regulate the <unk> of hormones ?"
          ],
          [
           "how often do type one diabetics take insulin ?"
          ],
          [
           "where can i find a enlarged blood sugar chart ?"
          ],
          [
           "what will happen to pregnant having increase sugar level in blood ?"
          ],
          [
           "what kind of doctor should you see if you think you have diabetes ?"
          ],
          [
           "can diabetic people <unk> ?"
          ],
          [
           "what is the role of a personal support <unk> in <unk> a client with diabetes ?"
          ],
          [
           "high concentration of glucose in the blood ?"
          ],
          [
           "is sugar free foods bad for diabetics ?"
          ],
          [
           "what types of diabetes would you rather have ?"
          ],
          [
           "what would be a good diabetic meal plan for me to follow ?"
          ],
          [
           "benefit of oral insulin ?"
          ],
          [
           "how long can a diabetic patient survive ?"
          ],
          [
           "why did you get diabetes ?"
          ],
          [
           "can you have diabete if nobody in your family have it ?"
          ],
          [
           "what happens when insulin injections are given without food ?"
          ],
          [
           "how many carbs should be eaten each day for a type two diabetic ?"
          ],
          [
           "what countries have low diabetes ?"
          ],
          [
           "do strawberries raise blood sugar levels ?"
          ],
          [
           "what happens when glucose reaches toxic levels ?"
          ],
          [
           "if your husband has diabetes is it ok for you to get pregnant ?"
          ],
          [
           "how is diabetes genetically transferred ?"
          ],
          [
           "should alcohol be consumed while on medication for diabetes high blood pressure and high cholesterol ?"
          ],
          [
           "what are some target blood sugars for a diabetic ?"
          ],
          [
           "what is juvenile diabetes ?"
          ],
          [
           "what part of the human body system does hyperglycemia belong to ?"
          ],
          [
           "can patients with type2 diabetes obtain a private pilots <unk> ?"
          ],
          [
           "is there any new stem cell technology in the field of diabetes ?"
          ],
          [
           "what enzyme does diabetes affect ?"
          ],
          [
           "what organ is used to produce human insulin ?"
          ],
          [
           "what is <unk> diabetic ?"
          ],
          [
           "how does insulin bring sugar down to normal levels after a meal ?"
          ],
          [
           "can a person that has diabetes eat jackfruit ?"
          ],
          [
           "what exactly are diabetic supplies ?"
          ],
          [
           "what type medicine helps pancres <unk> ?"
          ],
          [
           "does diabetes show in drug tests ?"
          ],
          [
           "what is the only insulin that can be given intravenously ?"
          ],
          [
           "what causes the acetone breath seen in type one diabetes ?"
          ],
          [
           "normal protein levels in blood ?"
          ],
          [
           "what kind of treatments are there for treating diabetes ?"
          ],
          [
           "how can you treat diabetes except for injecting insulin ?"
          ],
          [
           "what famous people have diabetes ?"
          ],
          [
           "at what age can children get diabetes ?"
          ],
          [
           "what is insulin made by ?"
          ],
          [
           "what are some good diabetic cake recipes ?"
          ],
          [
           "nursing <unk> exam model question <unk> for <unk> of health <unk> ?"
          ],
          [
           "what is the normal fasting blood sugar level for a fifty year old woman ?"
          ],
          [
           "does diabetes symptoms come on suddenly ?"
          ],
          [
           "what kind of pasta a diabetic person should eat ?"
          ],
          [
           "what is the most common diabetic <unk> ?"
          ],
          [
           "are the carbs in fruit bad carbs or good carbs ?"
          ],
          [
           "lack of what causes diabetes ?"
          ],
          [
           "what is diabetes in <unk> ?"
          ],
          [
           "if you have diabetes does that mean you have high blood sugar ?"
          ],
          [
           "when is insulin pump given ?"
          ],
          [
           "what does <unk> with <unk> <unk> disease and complex <unk> on the left <unk> means ?"
          ],
          [
           "what are diabetes insipidus and diabetes mellitus ?"
          ],
          [
           "how long will you live with diabetes ?"
          ],
          [
           "is one hundred and sixty glucose level dangerous after meal ?"
          ],
          [
           "how many grams of sugar should you eat if diabetic ?"
          ],
          [
           "what vitamins are recommended for a diabetic ?"
          ],
          [
           "can low blood sugar cause you to vomit ?"
          ],
          [
           "what does it mean to have high a1c ?"
          ],
          [
           "what effect would elevated cortisol levels have on blood glucose levels ?"
          ],
          [
           "why are children developing diabetes ?"
          ],
          [
           "is diabetes a disease or a condition ?"
          ],
          [
           "what are the long term complications for diabetes ?"
          ],
          [
           "when you eat sugar does it turns int glucose which turns into fat ?"
          ],
          [
           "diabetes meal planning services ?"
          ],
          [
           "what are normal sugar levels for someone who is not diabetic ?"
          ],
          [
           "what is a good diet for someone with arthritis ?"
          ],
          [
           "why are type two diabetics insulin <unk> ?"
          ],
          [
           "how many grams of sugar should a <unk> eat daily ?"
          ],
          [
           "which endocrine gland regulates blood sugar levels ?"
          ],
          [
           "how diabetes affect the pancreas ?"
          ],
          [
           "what is better to take for low blood sugar ?"
          ],
          [
           "is diabetes medicine available without a prescription ?"
          ],
          [
           "your father is fifty years old and he has been drinking alcohol since twenty three years on regular basis . now a days he is drinking in <unk> he is a heart patient and diabetic kindly help you on this ?"
          ],
          [
           "how much does it cost for treatment of diabetes ?"
          ],
          [
           "where can i find free diabetic menus ?"
          ],
          [
           "what is the one common characteristic for all forms of diabetes mellitus ?"
          ],
          [
           "losing weight for health reasons ?"
          ],
          [
           "is diabetes the epidemic of the <unk> century ?"
          ],
          [
           "where was diabetes discovered ?"
          ],
          [
           "what are a list of foods for diabetics ?"
          ],
          [
           "why would the doctor suggest checking the patient is blood sugar levels ?"
          ],
          [
           "what research has been done on <unk> ?"
          ],
          [
           "what is the treatment for diabetes type two ?"
          ],
          [
           "is a one hundred and thirty blood sugar level too high ?"
          ],
          [
           "how will my diabetes be treated ?"
          ],
          [
           "what is the diff between diabetes one and two ?"
          ],
          [
           "do more people die of aids or diabetes ?"
          ],
          [
           "you are suffering from extreme thirst and frequent urine you lose you feel exhausted <unk> <unk> and you missed this month period you did home pregnancy <unk> negative feel <unk> pain in lower <unk> ?"
          ],
          [
           "how do you monitor diabetic blood sugar levels . ?"
          ],
          [
           "where can one find <unk> information on living with diabetes ?"
          ],
          [
           "what does coma mean ?"
          ],
          [
           "how can i tell if my glucose meter is <unk> reading my sugar levels ?"
          ],
          [
           "what are <unk> treatments for insulin resistance ?"
          ],
          [
           "is eating pizza ok for a diabetic ?"
          ],
          [
           "is gestational diabetes the kind that only occurs during pregnancy ?"
          ],
          [
           "does people with <unk> have high or low blood sugar ?"
          ],
          [
           "what is the cpt code for injection of <unk> for <unk> <unk> ?"
          ],
          [
           "what is a good blood reading for diabetes ?"
          ],
          [
           "will there be a cure for diabetes ?"
          ],
          [
           "what is two types of diabetes ?"
          ],
          [
           "is the number of people worldwide who have diabetes increasing ?"
          ],
          [
           "can i get a diabetic diet menu on a cruise ship ?"
          ],
          [
           "<unk> effect on diabetes type1 ?"
          ],
          [
           "can diabetics stop using insulin ?"
          ],
          [
           "how do children with diabetes cope in school ?"
          ],
          [
           "is one hundred and nine high after fasting ?"
          ],
          [
           "how many diabetics are there in the world ?"
          ],
          [
           "what are the best choices of diabetic food ?"
          ],
          [
           "when should insulin be taken ?"
          ],
          [
           "what is the condition in which blood glucose levels are higher than normal but are not high enough for a diagnosis of diabetes ?"
          ],
          [
           "is eating a lot of ice a sign of diabetes ?"
          ],
          [
           "is it any weight loss shakes that a diabetic or a person with high blood pressure can use ?"
          ],
          [
           "when mixing regular and nph insulin which do you draw up first ?"
          ],
          [
           "are <unk> suitable for diabetics ?"
          ],
          [
           "what are some great diabetic recipes ?"
          ],
          [
           "how does the body keep constant blood sugar level ?"
          ],
          [
           "what causes your blood sugar to drop rapidly ?"
          ],
          [
           "what are the health risks in relation to eating too many carbs ?"
          ],
          [
           "what happens if you drink a bit of insulin ?"
          ],
          [
           "can a person blood sugar go over two hundred if they are not a diabetic ?"
          ],
          [
           "what nutrilite product a women with cancer can take ?"
          ],
          [
           "when a person is a diabetic do they have to have a special diet to control there diabetes ?"
          ],
          [
           "what is the <unk> of insulin ?"
          ],
          [
           "why diabetes causes kidney damage ?"
          ],
          [
           "what are some symptoms of diabetic retinopathy ?"
          ],
          [
           "what is sugar normal range ?"
          ],
          [
           "what exactly does polydipsia mean ?"
          ],
          [
           "what happens in there is less secretion of insulin ?"
          ],
          [
           "is selling diabetic test strips legal ?"
          ],
          [
           "it is recommended that you consume foods with five grams or more of as it is beneficial for weight control diabetes and even forms of cancer ?"
          ],
          [
           "can dehydration affect high blood sugar ?"
          ],
          [
           "can a diabetic person eat cane sugar ?"
          ],
          [
           "what is found in the urine of diabetics ?"
          ],
          [
           "can taking insulin increase <unk> ?"
          ],
          [
           "is smoking when you have diabetes more effective than people that dont ?"
          ],
          [
           "how can diabetics increase their insulin levels ?"
          ],
          [
           "is nutrilite <unk> c for diabetes ?"
          ],
          [
           "how to reverse diabetes ?"
          ],
          [
           "are diabetes and <unk> linked ?"
          ],
          [
           "what does diabetic neuropathy treatment entail ?"
          ],
          [
           "can heat effect the <unk> of herpes type two ?"
          ],
          [
           "are there any websites that can help me find diabetic food list ?"
          ],
          [
           "can you use glucose in a recipe that calls for liquid glucose ?"
          ],
          [
           "can you have diabetes and get in to the naval academy ?"
          ],
          [
           "what is the density of insulin ?"
          ],
          [
           "do diabetic cookbooks only contain diabetic specific meals ?"
          ],
          [
           "how long to lower glucose levels ?"
          ],
          [
           "what is diabetes insipidus characterized by ?"
          ],
          [
           "what does diabetes do ?"
          ],
          [
           "what fruit is good with diabetes ?"
          ],
          [
           "what is <unk> ?"
          ],
          [
           "what are the effects of poor eating habits ?"
          ],
          [
           "which parent is diabetes passes ?"
          ],
          [
           "what medical conditions cause hands and feet to fall asleep ?"
          ],
          [
           "what is the national <unk> for diabetes ?"
          ],
          [
           "early signs of diabetes mellitus ?"
          ],
          [
           "what are three ways to reduce the risk of diabetes ?"
          ],
          [
           "similarities between diabetes mellitus and diabetes insipidus ?"
          ],
          [
           "is over the counter insulin not as good as prescription insulin ?"
          ],
          [
           "what range of sugar after meal ?"
          ],
          [
           "hypoglycemic diet can reverse <unk> hypoglycemia ?"
          ],
          [
           "what happens if your a diabetic and has a cut ?"
          ],
          [
           "what is the signs and symptoms of diabetes ?"
          ],
          [
           "how are type l dm different from type ll diabetes ?"
          ],
          [
           "what is the name of the organ or gland that produces insulin ?"
          ],
          [
           "what is diabetes myelitis ?"
          ],
          [
           "can you have diabetes ?"
          ],
          [
           "can diabetics be <unk> ?"
          ],
          [
           "will bypass two slim ball interact with diabetes medications ?"
          ],
          [
           "what are some signs and symptoms for diabetes ?"
          ],
          [
           "why are my breasts sore and growing at thirty years ?"
          ],
          [
           "what causes green vomit in children who have type one diabetes ?"
          ],
          [
           "average age for a type one diabetic ?"
          ],
          [
           "what is it like to have diabetes ?"
          ],
          [
           "can diabetics eat <unk> ?"
          ],
          [
           "is there cure for <unk> ?"
          ],
          [
           "is the cause of diabetes environmental or hereditary ?"
          ],
          [
           "what kind of diabetes are there ?"
          ],
          [
           "what do you do when a diabetic has sudden low blood sugar ?"
          ],
          [
           "can a mother who has thyroid cancer cause type one diabetes in her children ?"
          ],
          [
           "can diabetes cause your gums and teeth to hurt ?"
          ],
          [
           "what foods are recomended for diabetics ?"
          ],
          [
           "can you name some diabetic online diet programs ?"
          ],
          [
           "what is carb counting for diabetes ?"
          ],
          [
           "what diabetic supplies should a diabetic always have available ?"
          ],
          [
           "does banana contribute to diabetes ?"
          ],
          [
           "how many calories should a type two diabetic consume daily ?"
          ],
          [
           "how do you control diabetes ?"
          ],
          [
           "what are the symptoms of type one diabetes ?"
          ],
          [
           "in the one thousand , nine hundred and twenty <unk> physician <unk> <unk> treated drug addiction by <unk> inducing comas through <unk> of what <unk> drug ?"
          ],
          [
           "what <unk> low <unk> in blood ?"
          ],
          [
           "which is the best insulin pen available in the market ?"
          ],
          [
           "do you suspect that you have diabetes ?"
          ],
          [
           "what symptoms do horses have with diabetes ?"
          ],
          [
           "why is diabetes is a deficiency disease ?"
          ],
          [
           "what is a blood sugar levels chart and what does it do ?"
          ],
          [
           "can you still get a tattoo if your a <unk> ?"
          ],
          [
           "does <unk> have diabetes ?"
          ],
          [
           "what are the <unk> in diabetes ?"
          ],
          [
           "what are the best diets for diabetic ?"
          ],
          [
           "what are type two diabetes treatments ?"
          ],
          [
           "diabetic diet guidelines ?"
          ],
          [
           "who discovered the cure for the diabetes ?"
          ],
          [
           "how many people have diabetes ?"
          ],
          [
           "what does two hundred and three as a blood sugar means ?"
          ],
          [
           "can a diabetic patient eat boiled rice ?"
          ],
          [
           "what occurs in the body with type ii diabetes ?"
          ],
          [
           "how many children does nick jonas want their names with who ?"
          ],
          [
           "is there a prediabetes diet that is available to people at high risk for diabetes ?"
          ],
          [
           "who invented the insulin ?"
          ],
          [
           "is homeopathy effective in treating diabetes type two and which remedies tend to match the picture ?"
          ],
          [
           "what type of diabetic is always insulin dependent ?"
          ],
          [
           "what are some diabetic recipes ?"
          ],
          [
           "safe and legal way to travel with insulin injection equipment and <unk> ?"
          ],
          [
           "can you lose type two diabetes ?"
          ],
          [
           "what happens to blood sugar level in diabetic patients ?"
          ],
          [
           "is a diabetic diet good for someone who is not diabetic ?"
          ],
          [
           "where can i find more information on a diabetic diet chart ?"
          ],
          [
           "where can you find a list of foods that diabetics should never eat ?"
          ],
          [
           "how do you know if you have got diabetes ?"
          ],
          [
           "can some one please tell me where to find healthy food for a diabetic like me ?"
          ],
          [
           "can diabetic patient drink ginger beer ?"
          ],
          [
           "what increases blood sugar ?"
          ],
          [
           "what is nephrogenic diabetes ?"
          ],
          [
           "when someone dies of a diabetic seizure what do they look like in detail please ?"
          ],
          [
           "what are the essential components for controlling type two diabetes ?"
          ],
          [
           "did miley break up with nick cause of his diabetes ?"
          ],
          [
           "what can you eat while you are diabetic and pregnant ?"
          ],
          [
           "what are the three major diabetic foods to avoid ?"
          ],
          [
           "what is the importance of foot care and cleaning for people with diabetes ?"
          ],
          [
           "what will be the right consumption of every kind of processed foods ?"
          ],
          [
           "what is the disease characterized by low blood sugar level ?"
          ],
          [
           "does eating sugar make you sweat more ?"
          ],
          [
           "how long does it take for blood sugar to decrease if not on medication ?"
          ],
          [
           "is a blood sugar level of one hundred and twenty four considered high for men who is sixty three yrs old ?"
          ],
          [
           "how can you prevent getting diabetes ?"
          ],
          [
           "how can diabetes be inherited ?"
          ],
          [
           "where to get information on diabetes alert dog training ?"
          ],
          [
           "what part of speech is the word lethargy ?"
          ],
          [
           "was diabetes curable in the <unk> ?"
          ],
          [
           "is whiskey safe for diabetics ?"
          ],
          [
           "can diabetics use the master <unk> ?"
          ],
          [
           "how long can a diabetic live ?"
          ],
          [
           "how common is juvenile diabetes in children ?"
          ],
          [
           "can frequent urination be a sign of diabetes ?"
          ],
          [
           "how does genetic engineering affect people with diabetes ?"
          ],
          [
           "does lack of insulin will cause high blood glucose levels ?"
          ],
          [
           "why is weight loss important for diabetes sufferers ?"
          ],
          [
           "glucose level one hundred and eleven ?"
          ],
          [
           "what percent of the worlds population are diabetic ?"
          ],
          [
           "what are some medicines of a diabetic person ?"
          ],
          [
           "how do you get diabetes i want to have it ?"
          ],
          [
           "which homeopathic remedies might be effective in treating diabetes type two ?"
          ],
          [
           "where can i get a cheap a1c <unk> ?"
          ],
          [
           "you are making a grocery list right now and you am diabetic what should you put on it ?"
          ],
          [
           "what is the quantity of <unk> roots that one diabetic patient can have daily ?"
          ],
          [
           "what is the primary organ involved with type one diabetes mellitus ?"
          ],
          [
           "what types of food should diabetics avoid . ?"
          ],
          [
           "what would happen if you ate insulin and how does it taste ?"
          ],
          [
           "what does the glucose meter read ?"
          ],
          [
           "what is normal glucose levels for diabetic ?"
          ],
          [
           "does jason <unk> have diabetes ?"
          ],
          [
           "can <unk> be extremely painful or is it always painless ?"
          ],
          [
           "can you take <unk> when you got diabetes ?"
          ],
          [
           "what is the role of liver in controlling blood sugar level ?"
          ],
          [
           "where can you find out more about diabetes medicines ?"
          ],
          [
           "why does diabetes type one cause weight loss ?"
          ],
          [
           "is <unk> dry gin good for a diabetic ?"
          ],
          [
           "what is the best diet for a person with diabetes ?"
          ],
          [
           "which gland produces aldosterone ?"
          ],
          [
           "is honey not good for a diabetic person ?"
          ],
          [
           "where can i find healthy diabetic recipes online ?"
          ],
          [
           "who criteria for <unk> in diabetes ?"
          ],
          [
           "what are recent books with tasty diabetic food recipes ?"
          ],
          [
           "what diets are there for people with diabetes ?"
          ],
          [
           "why cant type one diabetes be prevented ?"
          ],
          [
           "are there restaurants with diabetic menus ?"
          ],
          [
           "what kinds of fruit can a diabetic eat ?"
          ],
          [
           "how many people with type two diabetes die a year ?"
          ],
          [
           "how many children die each year from diabetes ?"
          ],
          [
           "why is there glucose in urine ?"
          ],
          [
           "what would happen if you eat twenty five <unk> of sugar ?"
          ],
          [
           "is hba1c of six point nine diabetic ?"
          ],
          [
           "can truck <unk> have type two diabetes according to dot regulations ?"
          ],
          [
           "what is dibetes ?"
          ],
          [
           "is one hundred and seventy reading after food diabetic ?"
          ],
          [
           "if you are healthy can you get diabetes ?"
          ],
          [
           "what is the difference between the sports <unk> <unk> and <unk> ?"
          ],
          [
           "how do you lower blood glucose ?"
          ],
          [
           "what medications cause blood glucose levels to rise ?"
          ],
          [
           "diabetes is a result of the insufficient production of what ?"
          ],
          [
           "what is normal blood sugar and how can one get this ?"
          ],
          [
           "do diabetics need more sleep than normal people ?"
          ],
          [
           "can a vegetarian diet help diabetics ?"
          ],
          [
           "why are the legs cut when a person has diabetes ?"
          ],
          [
           "what is the relationship of <unk> seed in lowering the blood glucose ?"
          ],
          [
           "does nick jonas support the diabetes research institute ?"
          ],
          [
           "how does food poisoning affect diabetes ?"
          ],
          [
           "what happens to the blood sugar level concentration when you eat a chocolate bar in terms of diabetes ?"
          ],
          [
           "what are jokes about diabetes ?"
          ],
          [
           "which cell suffer from hypoglycemia if takes insulin overdose ?"
          ],
          [
           "can diabetes cause your feet to burn on the bottom ?"
          ],
          [
           "what does diagnosis means ?"
          ],
          [
           "what organs malfunction causes diabetes ?"
          ],
          [
           "what can you do at home for your cat that you think has diabetes ?"
          ],
          [
           "can diabetes supplies be <unk> online ?"
          ],
          [
           "alan rickman is diabetic ?"
          ],
          [
           "what is a diabetic menu or where can i find one ?"
          ],
          [
           "is <unk> good for diabetic ?"
          ],
          [
           "my doctor asked me if a patient of <unk> had diabetes . i said no just high blood pressure . he said that is diabetes . does having high blood pressure mean you have diabetes ?"
          ],
          [
           "is itching a symptom of diabetes ?"
          ],
          [
           "what is the allowable sugar intake a day for a diabetic ?"
          ],
          [
           "is drinking beer safe for diabetics ?"
          ],
          [
           "does blue cross cover diabetic supplies in canada ?"
          ],
          [
           "what is arousal in sport ?"
          ],
          [
           "is there something out there that can prevent diabetes ?"
          ],
          [
           "can you get <unk> for a child with diabetes insipidus ?"
          ],
          [
           "how many units of insulin is point zero five ml ?"
          ],
          [
           "is or can diabetes be caused by mental illness or can the brain stop the pancreas from producing insulin ?"
          ],
          [
           "how does someone obtain type one diabetes ?"
          ],
          [
           "who gets type one and type two diabetes ?"
          ],
          [
           "what measures can be taken to <unk> starvation in the world ?"
          ],
          [
           "how many diabetics are there in the uk ?"
          ],
          [
           "how does diabetes progress ?"
          ],
          [
           "does pot raise your blood sugar ?"
          ],
          [
           "are increased thirst , hunger and loss of weight good reason to be concerned about high blood sugar ?"
          ],
          [
           "what type of small <unk> is the one that <unk> your bathroom and <unk> around your body ?"
          ],
          [
           "how do you know if you have type one diabetes ?"
          ],
          [
           "why does your blood sugar rise after eating raisin bran cereals ?"
          ],
          [
           "is metformin one of the diabetes drugs that you can gain weight from ?"
          ],
          [
           "what term best describes a failure of the body is cells to <unk> to insulin ?"
          ],
          [
           "does your groin itch when you have diabetes ?"
          ],
          [
           "how many units of insulin are in zero point five ml of regular u-100 insulin ?"
          ],
          [
           "what parts of the body can be affected by <unk> dystonia ?"
          ],
          [
           "what are the foods to bring down sugar level for type two diabetes ?"
          ],
          [
           "what kind of treatment there is for diabetes ?"
          ],
          [
           "how does <unk> surgery help diabetes ?"
          ],
          [
           "what is the best way to control type two diabetes ?"
          ],
          [
           "what happens when hormones that control sugar levels in the body does not work properly ?"
          ],
          [
           "remedy for stings ?"
          ],
          [
           "is it a bad thing if you lose one <unk> in a week and then one point five pounds in a day without trying and if you are thirsty all the time so you drink lots of water ?"
          ],
          [
           "will high sugar make you sleepy ?"
          ],
          [
           "what is the word for excessive thirst ?"
          ],
          [
           "you would like to know if the <unk> vitamin c are safe for a diabetic person on medication <unk> and metformin ?"
          ],
          [
           "what are considered good numbers for glucose monitoring ?"
          ],
          [
           "what is insulin made of ?"
          ],
          [
           "which type of diabetes occures when the body makes insulin but not enough to meet the body needs or the body becomes resistant to insulin produced ?"
          ],
          [
           "what does two hundred and ninety seven as a blood sugar means ?"
          ],
          [
           "diabetes treatment with forever living products ?"
          ],
          [
           "how does one properly manage their diabetes symptoms ?"
          ],
          [
           "can <unk> care help diabetes ?"
          ],
          [
           "what is the difference between net grams of carbohydrates and total carbohydrates ?"
          ],
          [
           "why is diabetes so common in the us ?"
          ],
          [
           "what happens to a person with diabetes ?"
          ],
          [
           "is beer useful or harmful in diabetes ?"
          ],
          [
           "people are affected with type two diabetes and are unaware they have the disease ?"
          ],
          [
           "is metformin a diabetes medication ?"
          ],
          [
           "how does type one differ from type two <unk> disease ?"
          ],
          [
           "how can <unk> smoking affect the sugar level of a diabetic person ?"
          ],
          [
           "how much <unk> do you give an adult pregnant patient having a one hour gestational diabetes screen ?"
          ],
          [
           "what disease has the symptoms of obesity diabetes facial hair growth on female <unk> thin fine hair on head <unk> fluid retention and i had to have an <unk> <unk> replacement surgery ?"
          ],
          [
           "cat has diabetes and not eating is he dying ?"
          ],
          [
           "food for diabetics ?"
          ],
          [
           "what kind of <unk> can do a diabetic ?"
          ],
          [
           "why do some diabetics take medications orally ?"
          ],
          [
           "will the nutrisystem diabetic diet do any harm to diabetics ?"
          ],
          [
           "what is diabetes <unk> ?"
          ],
          [
           "is diabetes type two something to be worried about ?"
          ],
          [
           "is there any way to monitor blood sugar levels without using a needle to draw blood ?"
          ],
          [
           "is diabetes testing recommended for everyone ?"
          ],
          [
           "what are the routes of insulin administration ?"
          ],
          [
           "can <unk> cause women to get cancer ?"
          ],
          [
           "can you get your <unk> if you are type one diabetes ?"
          ],
          [
           "does high dosage of thyroxine medication affect blood glucose levels ?"
          ],
          [
           "is tonic water good for diabetic ?"
          ],
          [
           "what medications are available orally for diabetes ?"
          ],
          [
           "does smoking raise blood sugar ?"
          ],
          [
           "explain the are the three types of diabetes ?"
          ],
          [
           "what side effects are caused by high blood sugar levels ?"
          ],
          [
           "do you know any info about hemoglobin a1c test ?"
          ],
          [
           "best recipes for diabetics ?"
          ],
          [
           "what happens when a type two diabetic does not take his insulin ?"
          ],
          [
           "where can i buy a diabetic pump ?"
          ],
          [
           "what are some diabetic foods and can they be found in any store ?"
          ],
          [
           "what should a diabetic avoid to eat ?"
          ],
          [
           "should someone with diabetes take <unk> ?"
          ],
          [
           "what is the action of <unk> on glucose level ?"
          ],
          [
           "are there diabetic <unk> ?"
          ],
          [
           "how is insulin regulated ?"
          ],
          [
           "is type two diabetes curable ?"
          ],
          [
           "what is a drug taken by diabetics ?"
          ],
          [
           "how do i lower my diabetic blood sugar level ?"
          ],
          [
           "diabetes treatment guidelines ?"
          ],
          [
           "what foods can make it worse if you have diabetes ?"
          ],
          [
           "diabetes in pregnancy ?"
          ],
          [
           "blood sugar at five hundred what do you do ?"
          ],
          [
           "what are some recommended food for diabetics ?"
          ],
          [
           "can you drink beer and lower blood sugar ?"
          ],
          [
           "what are the <unk> fruits for diabetic blood sugar ?"
          ],
          [
           "why do doctors think diabetes might be a virus ?"
          ],
          [
           "what research has been done on <unk> ?"
          ],
          [
           "which diabetes does the offspring get if one has diabetes ?"
          ],
          [
           "where could one find a list of food suitable for diabetics ?"
          ],
          [
           "what would cause metal taste in mouth yellow foul smelling <unk> excessive gas ?"
          ],
          [
           "what are some good diabetic food recipes that will help alleviate my symptoms ?"
          ],
          [
           "how does a pressure sore start ?"
          ],
          [
           "why a person who has diabetes mellitus have more acidic urine ?"
          ],
          [
           "the four p is of diabetes ?"
          ],
          [
           "can blood tests determine diabetes ?"
          ],
          [
           "what body system are most affected by diabetes type two ?"
          ],
          [
           "are bananas good for diabetics ?"
          ],
          [
           "what is the use of diabetes drugs on a diabetic patient ?"
          ],
          [
           "what are some foods used in diabetic recipes ?"
          ],
          [
           "what sort of foods can give you diabetes or is this just a <unk> ?"
          ],
          [
           "what is considered a normal blood sugar level ?"
          ],
          [
           "would looking at blood sugar levels be part of diet ?"
          ],
          [
           "do i need a diabetic diet sheet if i am diabetic ?"
          ],
          [
           "what does metaformin tablets do ?"
          ],
          [
           "what glands are associated with diabetes ?"
          ],
          [
           "does medicaid cover diabetic supplies ?"
          ],
          [
           "the glycemic index predicts the way certain foods affect ?"
          ],
          [
           "what foods should a diabetic buy at the grocery store ?"
          ],
          [
           "how many mixed drinks can a type two diabetes have ?"
          ],
          [
           "why do you have to use insulin when you have diabetes ?"
          ],
          [
           "is apple good for type two diabetes ?"
          ],
          [
           "what types of medication are currently available for diabetes ?"
          ],
          [
           "diabetes education for patients ?"
          ],
          [
           "what is the purpose of insulin ?"
          ],
          [
           "what are the most <unk> signs of diabetes ?"
          ],
          [
           "what is a disease in which the body does not produce or properly use insulin . ?"
          ],
          [
           "which diabetes require insulin injections ?"
          ],
          [
           "can you take <unk> if you are a diabetic ?"
          ],
          [
           "where can i find an online list of available diabetic cookbooks ?"
          ],
          [
           "what is a diabetic ulcer ?"
          ],
          [
           "a diabetic person should ?"
          ],
          [
           "how did nick get diabetes ?"
          ],
          [
           "what puts more sugar in the blood and raises the blood pre ?"
          ],
          [
           "how are blood glucose levels regulated in the body ?"
          ],
          [
           "which of the jonas <unk> have diabetes ?"
          ],
          [
           "what is a good diet for someone who suffers from diabetic nephropathy ?"
          ],
          [
           "how is the insulin used by diabetics obtained ?"
          ],
          [
           "where can i find a good pre diabetes diet to follow ?"
          ],
          [
           "how long will you with diabetes ?"
          ],
          [
           "what exactly is a diabetes diet ?"
          ],
          [
           "how many people die from diabetic complications of hypoglycemia ?"
          ],
          [
           "how can you tell if you are a diabetic without seeing a doctor ?"
          ],
          [
           "what are some good diabetic foods ?"
          ],
          [
           "can diabetics be in <unk> ?"
          ],
          [
           "what is the difference between non insulin dependent diabetes and isulin dependent diabetes ?"
          ],
          [
           "what are some good diet plans for diabetics ?"
          ],
          [
           "do you need shots for type two diabetes ?"
          ],
          [
           "what are glucose tablets ?"
          ],
          [
           "what are the most important factors inside of the diabetes guidelines ?"
          ],
          [
           "what research has been done on sun is soup ?"
          ],
          [
           "what causes the amount of glucose in foods to increase ?"
          ],
          [
           "does sugar raise blood pressure ?"
          ],
          [
           "is there a food without glucose ?"
          ],
          [
           "which diseases are caused due unbalanced diet ?"
          ],
          [
           "cost of diabetic supplies at <unk> ?"
          ],
          [
           "what <unk> do you need to be a diabetes nurse ?"
          ],
          [
           "can you have diabetes and work for the post office ?"
          ],
          [
           "what kind of condition is diabetes insipidus ?"
          ],
          [
           "will taking <unk> units of insulin a day hurt me ?"
          ],
          [
           "am a fighter pilot now i got to know that am having diabetes can i continue flying with medicines ?"
          ],
          [
           "you are ninety two lbs and your blood sugar level is still high ?"
          ],
          [
           "can a leg ulcer cause diabetic retinopathy ?"
          ],
          [
           "how many grams of sugar should a pre-diabetic woman consume per day ?"
          ],
          [
           "what is the daily recommended intake for carbohydrates ?"
          ],
          [
           "what is the normal ranges of sugar after eating ?"
          ],
          [
           "what profession could help a person with type2 diabetes ?"
          ],
          [
           "how do you cure from type two diabetes ?"
          ],
          [
           "where can an older diabetic find a reasonably priced life insurance policy ?"
          ],
          [
           "can diabetes cause blurry vision and how long does it last ?"
          ],
          [
           "what fruits can a diabetic have ?"
          ],
          [
           "what are the symptoms of a diabetic ?"
          ],
          [
           "will vision change as sugar levels increase or decrease ?"
          ],
          [
           "will a type one diabetic male produce children with type one diabetes ?"
          ],
          [
           "name of black <unk> in diabetes care club ?"
          ],
          [
           "is diabetes mellitus an acute disorder ?"
          ],
          [
           "how do genes play <unk> in getting diabetes ?"
          ],
          [
           "why does your arm ache after sleeping ?"
          ],
          [
           "how can you contract diabetes ?"
          ],
          [
           "how can i prevent diabetes in my family ?"
          ],
          [
           "will a patient with type ii diabetes require daily insulin injections on a regular basis ?"
          ],
          [
           "can diabetic neuropathy cause muscle twitching or spasms in fingers ?"
          ],
          [
           "what herbs kills diabeties ?"
          ],
          [
           "does eating mangoes increase sugar level ?"
          ],
          [
           "what is the nature of diabetes ?"
          ],
          [
           "where is glucose released from ?"
          ],
          [
           "how do you test blood sugar without lancets ?"
          ],
          [
           "where can a person find a cookbook full of diabetic recipes ?"
          ],
          [
           "what does treatment of diabetic neuropathy focus on ?"
          ],
          [
           "what research has been done on <unk> massage ?"
          ],
          [
           "can you take tylenol if your diabetic ?"
          ],
          [
           "what are the release dates for project not me diabetes prevention - two thousand and twelve taking charge <unk> ?"
          ],
          [
           "how long will you live with type two diabetes ?"
          ],
          [
           "do fruits raise blood sugar levels ?"
          ],
          [
           "how did you get diabetes ?"
          ],
          [
           "diabetic pump ?"
          ],
          [
           "what fruits and vegetables are <unk> foods on the diabetes food list and are the portion size restrictions the same ?"
          ],
          [
           "what is <unk> ?"
          ],
          [
           "how do i <unk> the symptoms of diabetes ?"
          ],
          [
           "do people without diabetes benefit from a diabetic diet ?"
          ],
          [
           "is there a cure for diabetes or can it be managed with exercise and diet ?"
          ],
          [
           "a scientist makes an educated guess that diabetes is caused by genetic factors his guess is an example of a n ?"
          ],
          [
           "can diabetic person eat apricot ?"
          ],
          [
           "can having diabetes make it hard to get over a cold ?"
          ],
          [
           "did nick jonas ever pass out on stage due to his diabetes ?"
          ],
          [
           "is sixty low for a glucose reading ?"
          ],
          [
           "if you have children with nick jonas would they have diabetes ?"
          ],
          [
           "what is a sugar high ?"
          ],
          [
           "what is <unk> syndrome ?"
          ],
          [
           "is diabetes a genetic disease ?"
          ],
          [
           "how does type two diabetes impact the body over extended periods of time ?"
          ],
          [
           "is it safe to kiss a diabetic ?"
          ],
          [
           "is diabetes a mental illness ?"
          ],
          [
           "what are the symptoms of diabetes in children ?"
          ],
          [
           "what herbs are good for diabetes ?"
          ],
          [
           "is ninety seven blood sugar normal for diabetics ?"
          ],
          [
           "how to create a diabetic cake recipe ?"
          ],
          [
           "do diabetic people need to smoke ?"
          ],
          [
           "is a symptom of diabetes craving salty food ?"
          ],
          [
           "should a hypoglycemic patient take insulin ?"
          ],
          [
           "how serious a disease is diabetes ?"
          ],
          [
           "what is <unk> ?"
          ],
          [
           "how do you get type three diabetes ?"
          ],
          [
           "do high glucose means that you are a diabetic ?"
          ],
          [
           "is nick jonas dying because of diabetes ?"
          ],
          [
           "how many times a day do you take insulin for type one diabetes ?"
          ],
          [
           "what will happen if you do not take enough insulin ?"
          ],
          [
           "why do your teeth ache can diabetes medicine increase sensitivity ?"
          ],
          [
           "how can i get diabetes ?"
          ],
          [
           "where do diabetics normally inject insulin ?"
          ],
          [
           "what is the leading cause of death in childhood diabetes ?"
          ],
          [
           "a recipe to suit a person with type two diabetes ?"
          ],
          [
           "are there any side effects from melabic an herb for diabetics ?"
          ],
          [
           "what is the difference of tuberculin to insulin syringe in terms of <unk> ?"
          ],
          [
           "how do doctors diagnose diabetes ?"
          ],
          [
           "what are the best ways of controlling diabetes ?"
          ],
          [
           "can eating fresh cherries control blood glucose level ?"
          ],
          [
           "why irregular or high hgt in diabetic patients ?"
          ],
          [
           "what is somogyi is phenomenon ?"
          ],
          [
           "type three diabetes ?"
          ],
          [
           "how to fake diabetes test ?"
          ],
          [
           "why does diabetes affect sport ?"
          ],
          [
           "what bread is healthiest for diabetics ?"
          ],
          [
           "what are the symptoms of <unk> diabetes and what should be the treatment ?"
          ],
          [
           "how do you reduce aggregation and inactivation by recombinant insulin ?"
          ],
          [
           "what causes <unk> ?"
          ],
          [
           "where can i find more information on high blood sugar ?"
          ],
          [
           "is one hundred and sixteen a good blood sugar ?"
          ],
          [
           "can i handle my diabetes through diet alone without any medical supplies ?"
          ],
          [
           "what is the most important <unk> for treatment of diabetes two ?"
          ],
          [
           "you have had <unk> <unk> for a couple of weeks and they said your progesterone level was low now it has turned to blood is this still normal ?"
          ],
          [
           "the glycemic index predicts the way certain foods effect ?"
          ],
          [
           "who commonly uses <unk> met ?"
          ],
          [
           "is diabetes a <unk> over the age of forty type two ?"
          ],
          [
           "what is the normal postprandial blood glucose for a human ?"
          ],
          [
           "can diabetes cause organ shut down ?"
          ],
          [
           "where can you find diabetic supplies in seattle wa ?"
          ],
          [
           "if you can not <unk> the military because of diabetes is there another option that offers the same structure ?"
          ],
          [
           "what foot problems exist in high <unk> countries ?"
          ],
          [
           "can you get type one diabetes at any stage of your life ?"
          ],
          [
           "has a cure been found for diabetes ?"
          ],
          [
           "chronic disorder caused by inadequate production or use of insulin is a ?"
          ],
          [
           "can normal weight teens get type two diabetes ?"
          ],
          [
           "what do the signs of diabetic ketoacidosis appear as ?"
          ],
          [
           "did miley cyrus break up with nick jonas because nick had diabetes ?"
          ],
          [
           "what organs does smoking effect ?"
          ],
          [
           "what should you do if your glucose level is three hundred and seventy one ?"
          ],
          [
           "what is diabetic nephropathy ?"
          ],
          [
           "i have been diagnosed with diabetes i am a fourteen year old girl is it a normal feeling to just want to give up ?"
          ],
          [
           "where in the world is diabetes most commonly found ?"
          ],
          [
           "is eighty six a normal blood sugar for a none diabetic ?"
          ],
          [
           "what is diabetic nephrology ?"
          ],
          [
           "where can i find information about weight loss for diabetics ?"
          ],
          [
           "what should you do if a diabetic has too much sugar ?"
          ],
          [
           "does a raised glucose level mean i am diabetic ?"
          ],
          [
           "are rashes that <unk> is a signs of a diabetic ?"
          ],
          [
           "what s the relationship behind high serum uric acid and diabetes ?"
          ],
          [
           "when would a diabetic need to see the doctor with sore feet ?"
          ],
          [
           "is diabetes autosomal or sex linked ?"
          ],
          [
           "diabetic recipes free ?"
          ],
          [
           "where can i get diabetes products ?"
          ],
          [
           "guidelines for a diabetic diet sheet ?"
          ],
          [
           "how do you get diabetes ?"
          ],
          [
           "can being diabetic make you sleepy ?"
          ],
          [
           "what can cause changes to blood sugar ?"
          ],
          [
           "what type of diet is people with type two diabetes ?"
          ],
          [
           "what would you say about a1c range ?"
          ],
          [
           "can type two diabetes be treated ?"
          ],
          [
           "what research has been done on <unk> ?"
          ],
          [
           "which endocrine gland fails to produce enough of its <unk> the diabetes ?"
          ],
          [
           "reverse diabetes ?"
          ],
          [
           "which condition is not a diabetic complication ?"
          ],
          [
           "how do you control high blood sugars of seven year old with type one diabetes ?"
          ],
          [
           "how can you find out if a high glucose test was a result of diabetes or stress ?"
          ],
          [
           "can you eat spinach if you are diabetic ?"
          ],
          [
           "is type one diabetes a dominant or recessive gene ?"
          ],
          [
           "how does marijuana effect blood sugar ?"
          ],
          [
           "can you lose body parts from diabetes ?"
          ],
          [
           "why is it that in today is society kids are beginning to get type two diabetes ?"
          ],
          [
           "how do you cure diabetes naturally without medication ?"
          ],
          [
           "how much glucose is in diabetic person ?"
          ],
          [
           "how does one know if they are having diabetes symptoms ?"
          ],
          [
           "what foods cant you eat with type two diabetes ?"
          ],
          [
           "can diabetics eat an orange per day ?"
          ],
          [
           "how do you know if you might have diabetes ?"
          ],
          [
           "is it bad if diabetes people eat <unk> ?"
          ],
          [
           "how does one get diabetic ?"
          ],
          [
           "are there stages of diabetes ?"
          ],
          [
           "is barry gibb diabetic ?"
          ],
          [
           "what are the symptoms and treatment of hypoglycemia and hyperglycemia ?"
          ],
          [
           "how <unk> to eat banana for a diabetes patient ?"
          ],
          [
           "what drugs increase adh levels ?"
          ],
          [
           "is it dangerous to drink a diabetics blood ?"
          ],
          [
           "can <unk> cause blurred vision ?"
          ],
          [
           "how many diabetics are in <unk> county ?"
          ],
          [
           "<unk> , sugar free recipes for the elderly ?"
          ],
          [
           "does diabetes affect male sexual performance ?"
          ],
          [
           "what is a bone marrow biopsy ?"
          ],
          [
           "why is insulin released into the bloodstream ?"
          ],
          [
           "would an apple raise blood sugar ?"
          ],
          [
           "how is diabetes controlled ?"
          ],
          [
           "is whiskey safe for diabetic ?"
          ],
          [
           "where can i find a diet plan for diabetics that is healthy and also helps people loose weight ?"
          ],
          [
           "what body part produces insulin so that cells can use sugar ?"
          ],
          [
           "should a person with diabetes type one smoke weed ?"
          ],
          [
           "where can i find a good book on diabetes blood sugar levels ?"
          ],
          [
           "can someone please explain what an a1c <unk> is ?"
          ],
          [
           "what is a reputable diabetic cookbook to purchase online ?"
          ],
          [
           "what causes high triglycerides please ?"
          ],
          [
           "why diabetic patient prefer to use sheep insulin than human insulin ?"
          ],
          [
           "what are any options for pregnant ladies so that their kids can not get diabetes ?"
          ],
          [
           "is it likely you will die from diabetes ?"
          ],
          [
           "what if your dad is a diabetic and need a kidney but he has seizures can he die ?"
          ],
          [
           "do plants get diabetes ?"
          ],
          [
           "what country has the highest diabetic rate ?"
          ],
          [
           "how do you get diabetes in your life ?"
          ],
          [
           "the components of a diabetic food plan ?"
          ],
          [
           "what are the consequences or effects of diabetes ?"
          ],
          [
           "is evaporated cane juice all right for diabetics ?"
          ],
          [
           "why must type i diabetes patients inject insulin ?"
          ],
          [
           "is actrapid insulin a short acting insulin ?"
          ],
          [
           "can you <unk> if you have diabetes ?"
          ],
          [
           "describe how diabetes is <unk> and monitored in individual ?"
          ],
          [
           "can diabetics eat liver ?"
          ],
          [
           "can diabetes cause <unk> ?"
          ],
          [
           "does <unk> and ramipril affect oral glucose tolerance tests ?"
          ],
          [
           "where can i find more information on diet for diabetic ?"
          ],
          [
           "what age was nick jonas when he was diagnosed with diabetes ?"
          ],
          [
           "what hormone is responsible for the change in blood glucose between 7am and <unk> ?"
          ],
          [
           "where can one find information concerning a diabetic diet ?"
          ],
          [
           "is diabetes a <unk> ?"
          ],
          [
           "is there any help for diabetic ed in a man that can not take viagra and shots dont work well ?"
          ],
          [
           "what type of diabetes are obese people most likely to develop ?"
          ],
          [
           "where can i find a list of food for a diabetic ?"
          ],
          [
           "can people not be at risk of diabetes ?"
          ],
          [
           "what are the normal results of a fasting blood sugar test ?"
          ],
          [
           "does a large consumption of sugar cause diabetes ?"
          ],
          [
           "how can you prevent type two diabetes when your dad has it ?"
          ],
          [
           "what is a stage three diabetic foot ulcer ?"
          ],
          [
           "what raises the blood sugar level and increases the heartbeat and breathing rates ?"
          ],
          [
           "is diabetes a noncommunicable disease ?"
          ],
          [
           "what symptoms does someone with high blood sugar have ?"
          ],
          [
           "how do you use a blood sugar chart ?"
          ],
          [
           "is diabetes fatal ?"
          ],
          [
           "what is the average life expectancy for a diabetic male ?"
          ],
          [
           "what are the the first treatments <unk> in diabetes ?"
          ],
          [
           "what s type three diabetes ?"
          ],
          [
           "what is the insulin used for <unk> patients ?"
          ],
          [
           "in which homeopathic remedies do the symptoms of type two diabetes appear - other than <unk> ?"
          ],
          [
           "what sugar levels are normal for someone with diabetes ?"
          ],
          [
           "why black ants not red small ants are attracted to human urine <unk> on <unk> ?"
          ],
          [
           "can drinking a regular coke jump start your body to lower your blood sugar ?"
          ],
          [
           "what are several ways the life of someone with diabetes impacted by the disorder ?"
          ],
          [
           "what are the reasons for getting more thirsty than usual ?"
          ],
          [
           "why is orange juice recommended when blood sugar is low ?"
          ],
          [
           "how come type two diabetes can be cured but not type one diabetes ?"
          ],
          [
           "what are causes of high blood sugar ?"
          ],
          [
           "what is a good diet for a diabetic ?"
          ],
          [
           "blood sugar levels are lowered by the ?"
          ],
          [
           "has diabetes all ways been diabetes ?"
          ],
          [
           "how can you get pregnant if your diabetic ?"
          ],
          [
           "can <unk> get diabetes ?"
          ],
          [
           "what causes low <unk> in the blood ?"
          ],
          [
           "could you get diabetes from grapes ?"
          ],
          [
           "i have diabetes high bp . viagra does not help what can you do ?"
          ],
          [
           "does exercise help lower your blood sugar level ?"
          ],
          [
           "what types of people are most susceptible to <unk> syndrome ?"
          ],
          [
           "is diabetes an organism ?"
          ],
          [
           "can a insulin diabetic type two live without insulin ?"
          ],
          [
           "what are some medications for type three diabetes ?"
          ],
          [
           "what foods and diet plans are good for a diabetes patient ?"
          ],
          [
           "can weight loss alter the sugar level in diabetics . ?"
          ],
          [
           "describe a test for the presence of sugar in blood and urine ?"
          ],
          [
           "why do i have signs and symptoms of diabetes mellitus but my diagnostic tests are negative how can i figure out what is wrong ?"
          ],
          [
           "what fiber should be recommended to patients with type two diabetes ?"
          ],
          [
           "can obesity be the cause of type two diabetes ?"
          ],
          [
           "can a diabetic eat mango ?"
          ],
          [
           "is coca cola good to drink for those who are diabetics ?"
          ],
          [
           "is there any herb which can produce insulin or can make pancreas active in ayurveda ?"
          ],
          [
           "is dieting important for diabetis inspidus condition ?"
          ],
          [
           "what is the description of pre diabetes ?"
          ],
          [
           "is nick jonas <unk> he has diabetes ?"
          ],
          [
           "how long can live without insulin ?"
          ],
          [
           "why would a diabetic person require injections of insulin two or even three times a day ?"
          ],
          [
           "why is the function of the hormone insulin in regulating blood sugar level a good example of a negative feedback mechanism for maintaining homeostasis ?"
          ],
          [
           "what is a blood sugar chart and how do i use it ?"
          ],
          [
           "where is the energy stored in glucose ?"
          ],
          [
           "is diabetes capitalized in a sentence ?"
          ],
          [
           "what condition is caused by too much insulin and too little sugar in the blood ?"
          ],
          [
           "is v8 juice good for diabetics ?"
          ],
          [
           "is the <unk> <unk> five hundred and eight available in the us ?"
          ],
          [
           "where can i go online to find some information on diabetics recipes ?"
          ],
          [
           "how much sugar is in drpepper ?"
          ],
          [
           "how does diabetes affect the stomach ?"
          ],
          [
           "where does insulin travel to ?"
          ],
          [
           "do diet sodas make you crave sugar and is it bad for diabetes ?"
          ],
          [
           "what is the normal concentration of blood sugar in a healthy person is body ?"
          ],
          [
           "what is the risk of infection from hair replacement if you are diabetic ?"
          ],
          [
           "what are the causes of diabetes in children ?"
          ],
          [
           "can you lose diabetes ?"
          ],
          [
           "diabetic strips ?"
          ],
          [
           "how did nick jonas have diabetes ?"
          ],
          [
           "how to find free diabetic recipes ?"
          ],
          [
           "what are symptoms of diebetes ?"
          ],
          [
           "does diabetes cause loss of <unk> in dogs ?"
          ],
          [
           "what effect does glucagon has on blood sugar levels ?"
          ],
          [
           "what should you do if you think you have diabetes ?"
          ],
          [
           "is humalog long lasting insulin ?"
          ],
          [
           "what happens when you have diabetes ?"
          ],
          [
           "do you give chocolate to a person when sugar is five hundred and eighty nine ?"
          ],
          [
           "how much <unk> for diabetic cat ?"
          ],
          [
           "can diabetics on insulin take <unk> ?"
          ],
          [
           "a healthy diet plan for <unk> american with diabetes ?"
          ],
          [
           "what diabetic eating plan is recommended ?"
          ],
          [
           "do diabetics get their belly <unk> pierced ?"
          ],
          [
           "how does a no sugar diet works ?"
          ],
          [
           "how does diabetes affect personal relationships ?"
          ],
          [
           "does diabetes cause itching all over ?"
          ],
          [
           "what is a best natural diabetes treatment ?"
          ],
          [
           "can you recommend a good diabetic diet ?"
          ],
          [
           "are there recipes to make diabetic food ?"
          ],
          [
           "is there a combination of vitamins <unk> and b12 ?"
          ],
          [
           "is a condition when the body produces too much insulin even when they have not eaten ?"
          ],
          [
           "does low blood sugar mean i have hypoglycemia ?"
          ],
          [
           "how does the diabetic food chart compare to the basic food chart ?"
          ],
          [
           "diabetic complications ?"
          ],
          [
           "can having diabetes cause symptoms of pregnancy even when you are not pregnant ?"
          ],
          [
           "how is type two diabetes typically treated ?"
          ],
          [
           "is walking effective in diabetic patient ?"
          ],
          [
           "what is sugar doctor or diabetes doctor ?"
          ],
          [
           "a person is fasting blood glucose level of one hundred and one mg dl would be classified ?"
          ],
          [
           "what happens when a person that does not have diabetes injects insulin ?"
          ],
          [
           "what is the normal rate of blood sugar level for age fifty ?"
          ],
          [
           "what causes tightening of stomach in men ?"
          ],
          [
           "can you join the us army if you have diabetes insipidus ?"
          ],
          [
           "does a diabetic diet menu help diabetics ?"
          ],
          [
           "what is a diabetic foot ulcer ?"
          ],
          [
           "who are at risk for diabetes ?"
          ],
          [
           "will drinking vinegar prevent diabetes ?"
          ],
          [
           "why take <unk> silver when you are a diabetic ?"
          ],
          [
           "is there a diet for type ii diabetes that will help be avoid needing insulin ?"
          ],
          [
           "do diabetics have to take cholesterol medicine ?"
          ],
          [
           "besides medical treatment with insulin what else can you do everyday to minimize your chance of getting diabetes ?"
          ],
          [
           "how do you get rid of diabetes ?"
          ],
          [
           "is weight loss a sign of type two diabetes ?"
          ],
          [
           "diabetes and <unk> ?"
          ],
          [
           "is <unk> suitable for diabetics ?"
          ],
          [
           "where can i find something to check my blood glucose levels ?"
          ],
          [
           "this is an odd question but does glucose have any other <unk> or jobs in the <unk> other than a food or fuel for metabolism ?"
          ],
          [
           "why is there too little sugar in the blood if the person exercises more than usual ?"
          ],
          [
           "what is the best way to lose forty pounds if you are fifty five and borderline diabetic ?"
          ],
          [
           "what are some natural ways to potentially reverse diabetes ?"
          ],
          [
           "what is a good diabetic cookie recipes ?"
          ],
          [
           "symptoms of type one diabetes ?"
          ],
          [
           "what type of diabetes usually requires insulin ?"
          ],
          [
           "can a cat die of diabetes ?"
          ],
          [
           "what is type one diabetes mellitus ?"
          ],
          [
           "why is type two diabetes is an issue in your community ?"
          ],
          [
           "how does a vet treat canine diabetes ?"
          ],
          [
           "how many grams of sugar should you limit yourself daily ?"
          ],
          [
           "what are some good diabetes supplies for adults ?"
          ],
          [
           "what may be the cause of diabetic neuropathy ?"
          ],
          [
           "is carrot bad for diabetes ?"
          ],
          [
           "can you <unk> diabetic needles ?"
          ],
          [
           "does having diabetes cause semen to taste differently ?"
          ],
          [
           "how are glucose and <unk> related to each other ?"
          ],
          [
           "is pure cane sugar cause diabetes ?"
          ],
          [
           "what are the different complications of type two diabetes ?"
          ],
          [
           "what precautions need to be taken when doing a gastric acid <unk> ?"
          ],
          [
           "what are some healthy recipes for the diabetic consumer ?"
          ],
          [
           "what in the world is a diabetic cookbook ?"
          ],
          [
           "how you can diagnosis diabete ?"
          ],
          [
           "the symptoms of diabetes in children ?"
          ],
          [
           "is one hundred and thirty nine a high sugar reading ?"
          ],
          [
           "did nick jonas ever have diabetes ?"
          ],
          [
           "what is the association between type two diabetes and body fat ?"
          ],
          [
           "did miley cyrus break up with nick jonas because he had diabetes ?"
          ],
          [
           "can you eat peanuts if you have gestational diabetes ?"
          ],
          [
           "can teenagers get type two diabetes ?"
          ],
          [
           "what is it called when a dog has diabetes ?"
          ],
          [
           "what are some <unk> nursing diagnosis for diabetes mellitus ?"
          ],
          [
           "what are some examples of communicable diseases ?"
          ],
          [
           "which hormone is released when your blood sugar rises ?"
          ],
          [
           "which type of diabetes is mainly treated with insulin injections received several times a day ?"
          ],
          [
           "could nineteen on diabetes reading bad ?"
          ],
          [
           "what does the american diabetes association do ?"
          ],
          [
           "how do you tell someone you want to be tested for diabetes ?"
          ],
          [
           "can children get diabeties ?"
          ],
          [
           "what parts of the human body is effected by diabetes type one ?"
          ],
          [
           "does blood loss affect blood sugar ?"
          ],
          [
           "what kinds of vegetables can a diabetic eat ?"
          ],
          [
           "what is a diabetes menu , and how does it affect me ?"
          ]
         ],
         "hovertemplate": "pc_1=%{x}<br>pc_2=%{y}<br>pc_3=%{z}<br>question=%{customdata[0]}<br>color=%{marker.color}<extra></extra>",
         "legendgroup": "",
         "marker": {
          "color": [
           0,
           1,
           0,
           0,
           2,
           -1,
           0,
           1,
           4,
           3,
           4,
           1,
           3,
           4,
           14,
           -1,
           4,
           1,
           1,
           1,
           3,
           2,
           4,
           2,
           1,
           1,
           0,
           1,
           1,
           -1,
           5,
           2,
           0,
           0,
           0,
           4,
           0,
           3,
           17,
           1,
           6,
           -1,
           2,
           0,
           1,
           3,
           0,
           1,
           -1,
           1,
           3,
           2,
           2,
           3,
           2,
           -1,
           2,
           1,
           1,
           1,
           0,
           2,
           3,
           3,
           0,
           4,
           4,
           2,
           -1,
           0,
           0,
           0,
           1,
           -1,
           1,
           7,
           8,
           4,
           -1,
           4,
           4,
           1,
           4,
           1,
           18,
           4,
           -1,
           4,
           3,
           0,
           15,
           4,
           2,
           4,
           2,
           4,
           3,
           -1,
           -1,
           1,
           0,
           2,
           0,
           -1,
           0,
           -1,
           5,
           4,
           3,
           1,
           2,
           -1,
           0,
           1,
           8,
           4,
           4,
           15,
           2,
           2,
           2,
           4,
           2,
           9,
           12,
           0,
           -1,
           2,
           10,
           1,
           2,
           4,
           3,
           1,
           17,
           3,
           1,
           1,
           6,
           2,
           4,
           -1,
           3,
           2,
           1,
           10,
           3,
           1,
           3,
           4,
           1,
           0,
           4,
           0,
           3,
           2,
           17,
           2,
           1,
           -1,
           1,
           3,
           6,
           1,
           2,
           0,
           3,
           3,
           4,
           0,
           1,
           3,
           -1,
           10,
           2,
           0,
           3,
           -1,
           0,
           -1,
           1,
           8,
           1,
           -1,
           2,
           1,
           14,
           0,
           1,
           2,
           1,
           -1,
           1,
           3,
           1,
           3,
           4,
           1,
           2,
           1,
           0,
           3,
           2,
           0,
           4,
           3,
           1,
           1,
           10,
           2,
           11,
           9,
           1,
           -1,
           3,
           1,
           0,
           -1,
           3,
           -1,
           1,
           0,
           0,
           21,
           0,
           4,
           0,
           2,
           1,
           0,
           0,
           0,
           4,
           17,
           12,
           2,
           3,
           10,
           0,
           1,
           -1,
           2,
           6,
           2,
           1,
           0,
           3,
           13,
           1,
           3,
           1,
           2,
           -1,
           4,
           3,
           2,
           1,
           1,
           4,
           -1,
           1,
           0,
           1,
           -1,
           4,
           3,
           2,
           2,
           0,
           3,
           8,
           4,
           1,
           3,
           4,
           0,
           4,
           0,
           10,
           1,
           -1,
           1,
           3,
           3,
           10,
           4,
           3,
           -1,
           1,
           1,
           9,
           1,
           3,
           4,
           2,
           10,
           1,
           4,
           1,
           1,
           3,
           1,
           -1,
           3,
           3,
           0,
           0,
           10,
           1,
           3,
           3,
           3,
           11,
           2,
           4,
           0,
           1,
           0,
           1,
           6,
           0,
           1,
           2,
           -1,
           0,
           4,
           4,
           4,
           -1,
           4,
           12,
           2,
           4,
           12,
           2,
           0,
           1,
           1,
           2,
           1,
           -1,
           2,
           0,
           4,
           0,
           -1,
           4,
           3,
           1,
           1,
           2,
           3,
           4,
           3,
           1,
           10,
           1,
           1,
           4,
           14,
           1,
           1,
           2,
           0,
           0,
           4,
           7,
           4,
           1,
           1,
           1,
           0,
           0,
           2,
           -1,
           -1,
           -1,
           -1,
           3,
           -1,
           1,
           1,
           3,
           3,
           0,
           -1,
           3,
           1,
           4,
           13,
           4,
           0,
           1,
           3,
           3,
           10,
           3,
           12,
           20,
           9,
           17,
           3,
           3,
           -1,
           0,
           4,
           1,
           4,
           3,
           -1,
           1,
           1,
           0,
           13,
           3,
           2,
           -1,
           1,
           10,
           4,
           0,
           0,
           4,
           3,
           3,
           1,
           4,
           9,
           1,
           1,
           3,
           0,
           10,
           -1,
           0,
           0,
           2,
           10,
           12,
           3,
           3,
           4,
           0,
           3,
           2,
           -1,
           4,
           10,
           9,
           -1,
           3,
           10,
           3,
           4,
           2,
           0,
           -1,
           4,
           0,
           10,
           2,
           10,
           1,
           1,
           1,
           1,
           2,
           0,
           1,
           0,
           4,
           3,
           3,
           2,
           -1,
           12,
           -1,
           0,
           3,
           4,
           4,
           0,
           3,
           12,
           1,
           3,
           -1,
           4,
           1,
           4,
           1,
           2,
           4,
           -1,
           1,
           -1,
           10,
           -1,
           1,
           -1,
           1,
           1,
           3,
           3,
           4,
           1,
           3,
           0,
           1,
           -1,
           3,
           4,
           1,
           -1,
           -1,
           3,
           3,
           1,
           -1,
           12,
           4,
           3,
           4,
           3,
           -1,
           10,
           6,
           10,
           4,
           1,
           3,
           -1,
           10,
           2,
           2,
           3,
           12,
           11,
           0,
           3,
           2,
           10,
           -1,
           2,
           4,
           1,
           3,
           10,
           2,
           0,
           3,
           20,
           -1,
           -1,
           3,
           -1,
           2,
           1,
           4,
           3,
           0,
           -1,
           3,
           0,
           4,
           15,
           -1,
           1,
           0,
           0,
           1,
           -1,
           4,
           0,
           -1,
           10,
           2,
           2,
           2,
           4,
           1,
           13,
           0,
           0,
           2,
           1,
           2,
           9,
           4,
           2,
           1,
           -1,
           1,
           0,
           4,
           -1,
           2,
           1,
           4,
           3,
           1,
           3,
           1,
           4,
           1,
           -1,
           4,
           -1,
           10,
           2,
           2,
           1,
           16,
           4,
           3,
           3,
           0,
           -1,
           2,
           3,
           4,
           2,
           4,
           4,
           3,
           1,
           2,
           0,
           -1,
           -1,
           2,
           0,
           2,
           5,
           2,
           4,
           -1,
           4,
           3,
           0,
           21,
           3,
           3,
           2,
           3,
           1,
           2,
           3,
           12,
           4,
           2,
           3,
           2,
           2,
           3,
           3,
           1,
           0,
           4,
           1,
           3,
           0,
           4,
           0,
           3,
           1,
           -1,
           1,
           0,
           0,
           0,
           0,
           4,
           2,
           1,
           1,
           -1,
           1,
           4,
           1,
           1,
           4,
           4,
           1,
           3,
           2,
           4,
           0,
           0,
           1,
           2,
           2,
           4,
           1,
           0,
           2,
           2,
           0,
           0,
           9,
           4,
           1,
           0,
           13,
           10,
           1,
           1,
           0,
           6,
           0,
           1,
           -1,
           1,
           0,
           1,
           4,
           1,
           4,
           3,
           -1,
           0,
           0,
           -1,
           0,
           0,
           11,
           1,
           6,
           1,
           0,
           1,
           3,
           1,
           11,
           1,
           3,
           -1,
           10,
           1,
           3,
           3,
           4,
           4,
           -1,
           3,
           -1,
           2,
           1,
           4,
           7,
           4,
           10,
           -1,
           10,
           3,
           4,
           4,
           2,
           16,
           4,
           -1,
           0,
           1,
           1,
           1,
           18,
           10,
           10,
           4,
           3,
           16,
           2,
           4,
           3,
           1,
           0,
           1,
           2,
           1,
           4,
           6,
           0,
           4,
           -1,
           4,
           2,
           1,
           0,
           -1,
           3,
           1,
           1,
           2,
           3,
           0,
           0,
           0,
           4,
           4,
           3,
           1,
           10,
           -1,
           3,
           3,
           3,
           0,
           1,
           5,
           2,
           4,
           1,
           3,
           0,
           2,
           3,
           0,
           0,
           1,
           1,
           13,
           4,
           4,
           1,
           2,
           16,
           1,
           -1,
           3,
           -1,
           4,
           4,
           3,
           4,
           10,
           4,
           10,
           0,
           0,
           0,
           4,
           10,
           1,
           0,
           0,
           3,
           4,
           2,
           0,
           0,
           0,
           4,
           3,
           1,
           4,
           1,
           -1,
           1,
           -1,
           1,
           3,
           2,
           3,
           9,
           1,
           0,
           1,
           0,
           -1,
           3,
           10,
           15,
           1,
           1,
           10,
           -1,
           1,
           12,
           4,
           10,
           0,
           2,
           10,
           1,
           0,
           0,
           2,
           4,
           1,
           4,
           2,
           1,
           0,
           1,
           0,
           0,
           4,
           -1,
           1,
           1,
           4,
           1,
           2,
           4,
           2,
           1,
           1,
           2,
           -1,
           1,
           3,
           1,
           4,
           3,
           0,
           3,
           1,
           4,
           3,
           1,
           3,
           -1,
           0,
           3,
           -1,
           3,
           1,
           12,
           2,
           1,
           10,
           1,
           -1,
           1,
           0,
           2,
           0,
           3,
           3,
           1,
           3,
           -1,
           0,
           10,
           -1,
           4,
           -1,
           9,
           21,
           1,
           4,
           1,
           1,
           9,
           0,
           6,
           -1,
           4,
           2,
           10,
           0,
           1,
           0,
           -1,
           1,
           3,
           7,
           10,
           4,
           1,
           -1,
           -1,
           -1,
           3,
           4,
           10,
           3,
           4,
           1,
           13,
           2,
           0,
           4,
           1,
           17,
           -1,
           -1,
           10,
           0,
           6,
           14,
           -1,
           2,
           -1,
           4,
           2,
           -1,
           10,
           2,
           14,
           1,
           0,
           3,
           0,
           3,
           3,
           1,
           0,
           2,
           1,
           -1,
           6,
           1,
           0,
           -1,
           0,
           4,
           10,
           3,
           18,
           4,
           3,
           2,
           1,
           1,
           7,
           2,
           9,
           3,
           -1,
           10,
           4,
           2,
           -1,
           1,
           9,
           -1,
           3,
           17,
           4,
           10,
           1,
           4,
           3,
           -1,
           -1,
           1,
           -1,
           4,
           4,
           0,
           2,
           3,
           0,
           0,
           1,
           3,
           10,
           1,
           4,
           0,
           2,
           1,
           -1,
           1,
           4,
           0,
           0,
           2,
           4,
           19,
           2,
           0,
           12,
           -1,
           12,
           4,
           10,
           3,
           -1,
           12,
           -1,
           15,
           1,
           2,
           0,
           -1,
           0,
           10,
           3,
           13,
           3,
           -1,
           0,
           0,
           3,
           0,
           2,
           1,
           2,
           3,
           4,
           4,
           10,
           -1,
           3,
           2,
           1,
           1,
           0,
           0,
           1,
           -1,
           -1,
           3,
           -1,
           3,
           3,
           1,
           0,
           1,
           1,
           4,
           1,
           1,
           4,
           3,
           2,
           -1,
           1,
           3,
           10,
           19,
           0,
           1,
           0,
           20,
           0,
           2,
           10,
           2,
           8,
           3,
           3,
           0,
           10,
           0,
           0,
           3,
           5,
           0,
           -1,
           4,
           12,
           0,
           1,
           -1,
           -1,
           1,
           4,
           12,
           2,
           4,
           1,
           4,
           2,
           0,
           4,
           3,
           1,
           1,
           4,
           4,
           0,
           1,
           0,
           4,
           0,
           0,
           0,
           1,
           0,
           2,
           7,
           -1,
           -1,
           1,
           2,
           1,
           0,
           0,
           -1,
           1,
           -1,
           3,
           2,
           14,
           6,
           3,
           4,
           3,
           1,
           2,
           3,
           0,
           1,
           0,
           -1,
           2,
           1,
           3,
           2,
           18,
           18,
           3,
           3,
           1,
           16,
           1,
           10,
           -1,
           2,
           1,
           0,
           4,
           4,
           0,
           1,
           19,
           1,
           4,
           -1,
           1,
           4,
           -1,
           2,
           -1,
           4,
           -1,
           0,
           19,
           -1,
           2,
           0,
           11,
           2,
           -1,
           10,
           8,
           1,
           13,
           1,
           4,
           0,
           -1,
           4,
           1,
           4,
           0,
           3,
           4,
           1,
           0,
           1,
           0,
           3,
           16,
           4,
           3,
           13,
           3,
           1,
           0,
           1,
           3,
           -1,
           1,
           1,
           -1,
           4,
           0,
           3,
           21,
           1,
           3,
           4,
           1,
           0,
           3,
           -1,
           -1,
           1,
           4,
           1,
           0,
           4,
           1,
           1,
           1,
           -1,
           1,
           4,
           3,
           4,
           4,
           1,
           2,
           4,
           4,
           0,
           1,
           2,
           0,
           -1,
           -1,
           3,
           -1,
           4,
           16,
           0,
           2,
           1,
           10,
           0,
           -1,
           4,
           3,
           0,
           4,
           4,
           4,
           -1,
           1,
           12,
           5,
           0,
           0,
           3,
           2,
           4,
           1,
           1,
           0,
           2,
           4,
           3,
           0,
           3,
           2,
           1,
           0,
           1,
           -1,
           4,
           0,
           12,
           3,
           10,
           3,
           10,
           -1,
           3,
           2,
           3,
           2,
           2,
           4,
           0,
           10,
           0,
           3,
           3,
           3,
           4,
           1,
           -1,
           -1,
           10,
           2,
           4,
           10,
           2,
           0,
           4,
           -1,
           1,
           12,
           0,
           3,
           10,
           1,
           2,
           4,
           1,
           0,
           1,
           2,
           10,
           11,
           1,
           1,
           13,
           -1,
           0,
           12,
           2,
           -1,
           4,
           4,
           3,
           2,
           7,
           10,
           15,
           1,
           0,
           -1,
           4,
           11,
           0,
           -1,
           10,
           1,
           -1,
           -1,
           0,
           3,
           3,
           -1,
           3,
           1,
           0,
           0,
           2,
           1,
           2,
           10,
           0,
           0,
           0,
           4,
           10,
           12,
           3,
           3,
           4,
           1,
           2,
           1,
           -1,
           0,
           16,
           1,
           8,
           4,
           1,
           4,
           3,
           1,
           4,
           1,
           0,
           -1,
           2,
           1,
           0,
           1,
           3,
           4,
           0,
           9,
           3,
           3,
           2,
           1,
           0,
           0,
           1,
           0,
           0,
           0,
           1,
           2,
           -1,
           2,
           3,
           0,
           0,
           15,
           3,
           0,
           -1,
           1,
           3,
           1,
           0,
           -1,
           3,
           1,
           -1,
           4,
           -1,
           1,
           5,
           4,
           -1,
           4,
           1,
           1,
           20,
           -1,
           4,
           4,
           4,
           1,
           -1,
           2,
           15,
           -1,
           2,
           3,
           1,
           3,
           2,
           1,
           8,
           0,
           3,
           -1,
           1,
           -1,
           1,
           15,
           1,
           6,
           4,
           0,
           13,
           -1,
           1,
           0,
           3,
           1,
           16,
           3,
           3,
           3,
           4,
           0,
           9,
           0,
           0,
           4,
           2,
           2,
           0,
           0,
           2,
           4,
           4,
           -1,
           1,
           1,
           4,
           10,
           3,
           7,
           3,
           4,
           1,
           4,
           3,
           -1,
           2,
           1,
           1,
           -1,
           1,
           1,
           12,
           1,
           1,
           3,
           0,
           0,
           0,
           10,
           2,
           4,
           1,
           1,
           3,
           1,
           0,
           3,
           20,
           1,
           1,
           3,
           1,
           4,
           14,
           4,
           0,
           1,
           1,
           17,
           2,
           4,
           3,
           1,
           0,
           1,
           2,
           1,
           4,
           4,
           0,
           10,
           3,
           3,
           1,
           1,
           12,
           1,
           20,
           -1,
           3,
           -1,
           1,
           0,
           2,
           4,
           -1,
           0,
           3,
           4,
           3,
           7,
           3,
           1,
           1,
           3,
           10,
           4,
           -1,
           2,
           1,
           4,
           1,
           4,
           9,
           1,
           1,
           0,
           1,
           1,
           3,
           3,
           0,
           3,
           3,
           0,
           0,
           0,
           4,
           1,
           -1,
           4,
           1,
           10,
           10,
           0,
           2,
           1,
           3,
           3,
           -1,
           1,
           1,
           2,
           0,
           1,
           1,
           4,
           0,
           1,
           3,
           12,
           1,
           10,
           2,
           3,
           0,
           20,
           4,
           1,
           4,
           2,
           1,
           0,
           3,
           3,
           7,
           2,
           4,
           0,
           1,
           19,
           6,
           1,
           4,
           10,
           1,
           3,
           -1,
           3,
           12,
           5,
           1,
           -1,
           4,
           3,
           1,
           1,
           10,
           1,
           -1,
           -1,
           3,
           1,
           0,
           4,
           16,
           2,
           3,
           4,
           4,
           2,
           4,
           12,
           3,
           1,
           2,
           15,
           4,
           2,
           4,
           18,
           -1,
           4,
           1,
           1,
           -1,
           0,
           10,
           6,
           1,
           1,
           3,
           1,
           2,
           1,
           4,
           0,
           10,
           1,
           6,
           3,
           1,
           1,
           0,
           1,
           -1,
           0,
           12,
           1,
           1,
           3,
           1,
           -1,
           1,
           1,
           16,
           4,
           2,
           3,
           4,
           6,
           1,
           1,
           16,
           -1,
           2,
           -1,
           -1,
           2,
           0,
           3,
           1,
           4,
           3,
           1,
           4,
           -1,
           3,
           1,
           1,
           1,
           4,
           4,
           1,
           0,
           1,
           -1,
           -1,
           0,
           3,
           20,
           20,
           0,
           0,
           8,
           4,
           3,
           -1,
           0,
           1,
           -1,
           4,
           4,
           1,
           1,
           -1,
           -1,
           1,
           1,
           0,
           -1,
           0,
           1,
           21,
           3,
           1,
           0,
           1,
           1,
           -1,
           3,
           4,
           1,
           1,
           2,
           13,
           -1,
           1,
           0,
           -1,
           4,
           1,
           9,
           0,
           2,
           6,
           3,
           0,
           3,
           1,
           1,
           -1,
           -1,
           3,
           1,
           3,
           2,
           1,
           3,
           2,
           2,
           3,
           10,
           0,
           6,
           3,
           6,
           0,
           1,
           3,
           4,
           0,
           3,
           4,
           3,
           10,
           1,
           2,
           0,
           4,
           2,
           1,
           3,
           0,
           -1,
           3,
           3,
           4,
           1,
           3,
           7,
           -1,
           8,
           0,
           4,
           4,
           1,
           -1,
           -1,
           3,
           3,
           1,
           14,
           4,
           3,
           0,
           1,
           0,
           -1,
           4,
           1,
           2,
           4,
           4,
           0,
           3,
           2,
           3,
           2,
           10,
           -1,
           1,
           2,
           2,
           21,
           1,
           -1,
           1,
           1,
           3,
           4,
           2,
           1,
           4,
           3,
           -1,
           0,
           2,
           2,
           0,
           4,
           1,
           3,
           3,
           3,
           12,
           1,
           20,
           2,
           -1,
           4,
           1,
           10,
           10,
           1,
           2,
           3,
           2,
           10,
           -1,
           4,
           4,
           3,
           -1,
           0,
           16,
           12,
           4,
           10,
           4,
           4,
           3,
           2,
           4,
           0,
           4,
           10,
           3,
           -1,
           -1,
           -1,
           5,
           1,
           4,
           3,
           2,
           2,
           13,
           4,
           0,
           4,
           -1,
           3,
           4,
           1,
           -1,
           1,
           1,
           1,
           3,
           2,
           13,
           1,
           2,
           3,
           4,
           3,
           2,
           1,
           12,
           3,
           4,
           0,
           0,
           -1,
           12,
           21,
           4,
           1,
           1,
           0,
           1,
           0,
           4,
           11,
           4,
           0,
           2,
           1,
           3,
           0,
           10,
           -1,
           -1,
           1,
           1,
           1,
           -1,
           1,
           3,
           2,
           2,
           1,
           4,
           -1,
           1,
           3,
           -1,
           1,
           0,
           4,
           3,
           -1,
           4,
           4,
           3,
           -1,
           0,
           2,
           1,
           2,
           0,
           0,
           3,
           1,
           1,
           18,
           4,
           1,
           3,
           1,
           1,
           2,
           -1,
           4,
           1,
           0,
           3,
           0,
           -1,
           1,
           1,
           2,
           -1,
           8,
           0,
           1,
           -1,
           0,
           10,
           1,
           4,
           3,
           1,
           2,
           10,
           0,
           2,
           1,
           1,
           1,
           4,
           0,
           3,
           15,
           15,
           0,
           4,
           10,
           2,
           0,
           1,
           3,
           1,
           3,
           0,
           2,
           1,
           0,
           -1,
           0,
           4,
           0,
           1,
           4,
           0,
           21,
           1,
           4,
           3,
           1,
           14,
           -1,
           4,
           0,
           -1,
           1,
           9,
           4,
           0,
           10,
           1,
           2,
           10,
           1,
           4,
           13,
           10,
           1,
           3,
           2,
           0,
           0,
           -1,
           3,
           2,
           3,
           4,
           0,
           5,
           0,
           4,
           17,
           4,
           18,
           1,
           2,
           12,
           1,
           10,
           4,
           1,
           -1,
           1,
           4,
           1,
           3,
           3,
           4,
           1,
           0,
           2,
           2,
           3,
           0,
           3,
           1,
           0,
           4,
           -1,
           3,
           0,
           4,
           -1,
           4,
           1,
           1,
           0,
           3,
           4,
           0,
           2,
           0,
           0,
           0,
           0,
           4,
           1,
           5,
           12,
           3,
           1,
           -1,
           21,
           0,
           0,
           -1,
           4,
           2,
           0,
           0,
           -1,
           1,
           1,
           2,
           2,
           2,
           3,
           3,
           0,
           2,
           1,
           12,
           1,
           18,
           1,
           2,
           0,
           2,
           3,
           17,
           0,
           1,
           0,
           -1,
           -1,
           3,
           1,
           -1,
           6,
           0,
           2,
           0,
           0,
           3,
           10,
           2,
           1,
           4,
           2,
           -1,
           1,
           10,
           2,
           2,
           0,
           3,
           -1,
           -1,
           14,
           3,
           7,
           0,
           1,
           5,
           1,
           4,
           -1,
           3,
           -1,
           4,
           1,
           1,
           2,
           2,
           10,
           4,
           -1,
           -1,
           0,
           4,
           0,
           10,
           12,
           4,
           4,
           -1,
           1,
           2,
           1,
           -1,
           4,
           3,
           4,
           3,
           0,
           13,
           1,
           3,
           1,
           -1,
           3,
           4,
           1,
           2,
           9,
           -1,
           -1,
           4,
           -1,
           0,
           10,
           0,
           9,
           0,
           9,
           4,
           1,
           -1,
           16,
           10,
           0,
           4,
           0,
           3,
           1,
           10,
           10,
           -1,
           10,
           -1,
           0,
           1,
           3,
           3,
           0,
           2,
           3,
           3,
           1,
           14,
           0,
           1,
           3,
           1,
           0,
           10,
           4,
           21,
           4,
           -1,
           0,
           0,
           2,
           -1,
           3,
           -1,
           1,
           0,
           1,
           3,
           3,
           2,
           1,
           4,
           -1,
           3,
           4,
           3,
           4,
           1,
           4,
           3,
           2,
           1,
           1,
           1,
           0,
           -1,
           1,
           2,
           0,
           20,
           0,
           3,
           1,
           1,
           -1,
           -1,
           2,
           2,
           2,
           2,
           0,
           0,
           1,
           -1,
           3,
           1,
           1,
           1,
           -1,
           3,
           4,
           2,
           0,
           2,
           5,
           1,
           3,
           0,
           1,
           1,
           4,
           4,
           1,
           4,
           4,
           12,
           3,
           1,
           1,
           2,
           1,
           0,
           1,
           1,
           4,
           1,
           1,
           0,
           1,
           1,
           0,
           1,
           1,
           3,
           3,
           15,
           2,
           1,
           3,
           4,
           1,
           3,
           -1,
           -1,
           2,
           -1,
           4,
           5,
           14,
           10,
           4,
           3,
           -1,
           2,
           0,
           4,
           3,
           4,
           4,
           1,
           -1,
           1,
           1,
           1,
           3,
           3,
           -1,
           1,
           1,
           -1,
           -1,
           3,
           4,
           -1,
           8,
           0,
           10,
           5,
           0,
           2,
           2,
           4,
           0,
           2,
           17,
           4,
           3,
           4,
           4,
           0,
           0,
           0,
           0,
           4,
           -1,
           10,
           2,
           22,
           1,
           2,
           4,
           4,
           2,
           -1,
           0,
           3,
           1,
           -1,
           0,
           -1,
           0,
           -1,
           0,
           -1,
           0,
           10,
           3,
           1,
           -1,
           1,
           14,
           0,
           0,
           2,
           -1,
           4,
           17,
           -1,
           -1,
           1,
           0,
           2,
           0,
           -1,
           0,
           -1,
           4,
           1,
           1,
           1,
           -1,
           -1,
           1,
           4,
           3,
           1,
           2,
           1,
           2,
           0,
           2,
           1,
           2,
           2,
           -1,
           6,
           0,
           1,
           10,
           1,
           10,
           0,
           -1,
           3,
           -1,
           1,
           -1,
           1,
           1,
           2,
           2,
           14,
           4,
           1,
           1,
           4,
           1,
           10,
           18,
           3,
           0,
           0,
           4,
           10,
           -1,
           4,
           1,
           1,
           1,
           1,
           3,
           2,
           4,
           3,
           1,
           4,
           1,
           0,
           1,
           4,
           10,
           1,
           1,
           0,
           1,
           0,
           10,
           1,
           -1,
           22,
           2,
           1,
           10,
           1,
           2,
           3,
           -1,
           4,
           13,
           2,
           1,
           1,
           1,
           12,
           0,
           0,
           -1,
           3,
           1,
           10,
           2,
           18,
           17,
           3,
           -1,
           2,
           0,
           1,
           -1,
           3,
           0,
           2,
           0,
           -1,
           2,
           1,
           1,
           6,
           1,
           0,
           8,
           2,
           0,
           1,
           0,
           4,
           -1,
           14,
           0,
           4,
           1,
           3,
           3,
           2,
           3,
           2,
           4,
           3,
           0,
           1,
           3,
           10,
           -1,
           1,
           1,
           7,
           3,
           4,
           0,
           4,
           0,
           -1,
           3,
           18,
           4,
           14,
           0,
           4,
           11,
           0,
           1,
           4,
           0,
           0,
           2,
           4,
           4,
           0,
           0,
           0,
           -1,
           10,
           4,
           4,
           1,
           2,
           14,
           0,
           2,
           4,
           3,
           3,
           12,
           3,
           1,
           0,
           -1,
           0,
           3,
           -1,
           3,
           10,
           3,
           4,
           2,
           -1,
           3,
           9,
           2,
           4,
           1,
           1,
           2,
           10,
           -1,
           1,
           0,
           1,
           0,
           1,
           0,
           1,
           2,
           0,
           -1,
           3,
           6,
           9,
           0,
           1,
           -1,
           0,
           1,
           3,
           2,
           3,
           0,
           0,
           -1,
           0,
           0,
           1,
           0,
           1,
           9,
           3,
           1,
           10,
           0,
           12,
           2,
           -1,
           1,
           1,
           3,
           10,
           4,
           2,
           0,
           1,
           1,
           4,
           18,
           -1,
           1,
           1,
           11,
           4,
           10,
           3,
           1,
           3,
           1,
           0,
           1,
           0,
           1,
           4,
           4,
           3,
           0,
           1,
           3,
           -1,
           1,
           3,
           2,
           1,
           3,
           1,
           0,
           1,
           3,
           2,
           2,
           0,
           10,
           2,
           3,
           -1,
           2,
           3,
           10,
           0,
           0,
           4,
           3,
           1,
           0,
           2,
           1,
           10,
           2,
           0,
           2,
           1,
           4,
           3,
           0,
           3,
           4,
           3,
           1,
           2,
           0,
           3,
           18,
           0,
           1,
           1,
           -1,
           10,
           1,
           3,
           1,
           1,
           4,
           1,
           0,
           3,
           4,
           4,
           4,
           2,
           21,
           3,
           4,
           1,
           2,
           1,
           1,
           0,
           4,
           2,
           4,
           10,
           10,
           3,
           1,
           3,
           1,
           10,
           3,
           2,
           0,
           4,
           4,
           2,
           1,
           4,
           1,
           1,
           -1,
           1,
           -1,
           3,
           1,
           1,
           1,
           1,
           4,
           2,
           1,
           1,
           3,
           0,
           1,
           0,
           2,
           0,
           12,
           -1,
           3,
           14,
           1,
           3,
           3,
           10,
           0,
           7,
           -1,
           0,
           3,
           0,
           1,
           1,
           4,
           4,
           1,
           1,
           1,
           3,
           0,
           3,
           0,
           0,
           0,
           1,
           1,
           10,
           3,
           1,
           3,
           17,
           2,
           0,
           10,
           1,
           4,
           0,
           10,
           -1,
           3,
           0,
           3,
           3,
           3,
           -1,
           3,
           1,
           2,
           -1,
           3,
           0,
           0,
           17,
           4,
           2,
           1,
           -1
          ],
          "coloraxis": "coloraxis",
          "size": 3,
          "symbol": "circle"
         },
         "mode": "markers",
         "name": "",
         "scene": "scene",
         "showlegend": false,
         "type": "scatter3d",
         "x": [
          -11.728947639465332,
          8.366981506347656,
          -12.227720260620117,
          -12.672496795654297,
          8.316015243530273,
          -2.409512758255005,
          -1.676964282989502,
          -1.2289867401123047,
          10.789653778076172,
          -9.181353569030762,
          9.446832656860352,
          3.385096788406372,
          -14.367842674255371,
          -0.42572781443595886,
          0.46278584003448486,
          0.020949460566043854,
          3.773617744445801,
          -1.3195255994796753,
          2.5242741107940674,
          4.604161262512207,
          -9.918549537658691,
          12.58653450012207,
          2.48872447013855,
          12.744208335876465,
          2.7723782062530518,
          -2.46736741065979,
          -12.36932373046875,
          0.07532338798046112,
          2.040733575820923,
          6.680147171020508,
          1.7401719093322754,
          16.682830810546875,
          -9.798293113708496,
          -15.5775785446167,
          -10.458200454711914,
          4.352076053619385,
          -7.368846893310547,
          -8.119921684265137,
          -3.6501424312591553,
          -0.379089891910553,
          13.358449935913086,
          10.366308212280273,
          8.050228118896484,
          -13.430091857910156,
          -3.4867560863494873,
          -16.043752670288086,
          -5.513161659240723,
          1.963777780532837,
          -6.889019966125488,
          1.875516653060913,
          -5.92003870010376,
          18.394041061401367,
          11.93519401550293,
          -17.23419761657715,
          16.392498016357422,
          7.705887794494629,
          12.397618293762207,
          7.873077869415283,
          9.998208045959473,
          5.9458770751953125,
          -9.401850700378418,
          10.918169021606445,
          -11.61046314239502,
          -13.159754753112793,
          -7.2472453117370605,
          8.453520774841309,
          3.2870655059814453,
          10.876227378845215,
          -8.141834259033203,
          -9.802385330200195,
          -8.822369575500488,
          -6.873302936553955,
          6.667026996612549,
          -9.155621528625488,
          -1.7615606784820557,
          2.869152784347534,
          -3.711371898651123,
          2.632978916168213,
          3.713444232940674,
          2.015760660171509,
          8.786011695861816,
          2.2091615200042725,
          3.5837676525115967,
          6.277712821960449,
          -5.504409313201904,
          4.58828067779541,
          -5.498565196990967,
          3.4144201278686523,
          -9.591872215270996,
          -8.039848327636719,
          8.183177947998047,
          5.581938743591309,
          5.086949348449707,
          3.008016347885132,
          13.91329574584961,
          4.331028461456299,
          -8.445717811584473,
          3.230663537979126,
          5.609377384185791,
          7.2645955085754395,
          -7.466095924377441,
          9.611139297485352,
          -8.27754020690918,
          -5.419488430023193,
          -6.820016860961914,
          4.666440486907959,
          2.846182346343994,
          3.637547254562378,
          0.9023798108100891,
          7.140981197357178,
          9.217911720275879,
          3.710251569747925,
          -14.74657154083252,
          0.4351351261138916,
          -4.703847408294678,
          1.08533775806427,
          5.311000347137451,
          7.880168914794922,
          14.535011291503906,
          16.708642959594727,
          10.681225776672363,
          3.1924855709075928,
          8.373392105102539,
          -11.201342582702637,
          13.142671585083008,
          -10.971844673156738,
          -9.627006530761719,
          6.469326496124268,
          4.916365623474121,
          10.797022819519043,
          8.998093605041504,
          -0.8663738965988159,
          -9.661977767944336,
          -2.6734838485717773,
          -2.917858600616455,
          -5.382714748382568,
          2.1801557540893555,
          -3.8008999824523926,
          13.433492660522461,
          16.481081008911133,
          7.710135459899902,
          14.233003616333008,
          -7.671353816986084,
          9.383320808410645,
          0.06171884760260582,
          -2.418041467666626,
          -9.743492126464844,
          -1.9711763858795166,
          -3.683077573776245,
          6.085489749908447,
          1.6190491914749146,
          -8.015350341796875,
          7.968350887298584,
          -6.820443153381348,
          -12.002366065979004,
          7.697906970977783,
          -4.048779010772705,
          14.22775936126709,
          5.906672954559326,
          -4.024726867675781,
          1.0260072946548462,
          -8.364720344543457,
          13.768749237060547,
          4.312891483306885,
          15.603989601135254,
          -6.667313575744629,
          -18.354045867919922,
          -11.889137268066406,
          8.765440940856934,
          -10.980664253234863,
          7.430294036865234,
          -3.7444984912872314,
          -3.8377573490142822,
          -2.7580878734588623,
          13.556562423706055,
          -8.484580993652344,
          -18.463958740234375,
          -16.014646530151367,
          -9.167094230651855,
          -7.235286235809326,
          5.6714677810668945,
          -5.409597396850586,
          4.842621326446533,
          10.955138206481934,
          9.293778419494629,
          5.43502950668335,
          0.45487889647483826,
          -14.678930282592773,
          -0.03881222754716873,
          16.442888259887695,
          6.727321624755859,
          4.2741899490356445,
          4.704996585845947,
          -5.764755725860596,
          9.233349800109863,
          -7.5032572746276855,
          11.94017219543457,
          7.688009738922119,
          12.787686347961426,
          -1.1659698486328125,
          -11.548242568969727,
          -8.976861953735352,
          14.948261260986328,
          -14.772664070129395,
          3.8969225883483887,
          -9.8335599899292,
          -2.3813047409057617,
          -2.002161741256714,
          -5.990025997161865,
          16.156513214111328,
          -3.9665355682373047,
          -10.86202621459961,
          1.6811623573303223,
          -13.330894470214844,
          -14.579259872436523,
          3.1994853019714355,
          -13.504283905029297,
          7.758174419403076,
          -12.650603294372559,
          -0.6755087971687317,
          0.6621605753898621,
          -5.469479084014893,
          -6.52136754989624,
          9.695704460144043,
          -5.654000282287598,
          0.5628580451011658,
          -5.363336086273193,
          15.83554458618164,
          -0.44829457998275757,
          -7.825009822845459,
          -8.618779182434082,
          -11.854551315307617,
          0.15182800590991974,
          -4.091501712799072,
          17.406970977783203,
          12.69516372680664,
          -12.203439712524414,
          -6.080153465270996,
          -6.443504333496094,
          4.158927917480469,
          9.554498672485352,
          9.603303909301758,
          13.904329299926758,
          9.694536209106445,
          -0.11317340284585953,
          -15.217808723449707,
          -7.760559558868408,
          -9.489826202392578,
          1.1195615530014038,
          -17.317089080810547,
          2.972320079803467,
          8.727910995483398,
          9.643078804016113,
          -0.48843351006507874,
          -6.268144130706787,
          11.911025047302246,
          -0.334340363740921,
          -3.821751594543457,
          0.6794140338897705,
          -4.374728679656982,
          4.343689441680908,
          -3.5085456371307373,
          7.288571357727051,
          6.203627109527588,
          4.9527716636657715,
          -3.658068895339966,
          12.179476737976074,
          8.186026573181152,
          -9.92821216583252,
          -4.952366828918457,
          -4.333073616027832,
          -0.6957497000694275,
          -2.333717107772827,
          -1.8347504138946533,
          0.29612869024276733,
          -7.686266899108887,
          4.343019485473633,
          -14.930386543273926,
          -2.4381446838378906,
          9.530311584472656,
          -3.7727291584014893,
          0.77451491355896,
          -2.57869029045105,
          -11.439990997314453,
          -3.818463087081909,
          1.1422641277313232,
          -15.181995391845703,
          -3.857077121734619,
          8.90983772277832,
          0.5105141997337341,
          -10.681699752807617,
          7.449001312255859,
          -12.535082817077637,
          0.8856775164604187,
          11.873967170715332,
          4.511836051940918,
          1.3494261503219604,
          3.9877607822418213,
          0.4146023392677307,
          5.917717456817627,
          -17.055866241455078,
          -2.7513375282287598,
          8.555302619934082,
          -18.057403564453125,
          -6.007724761962891,
          -0.48312458395957947,
          -8.90109634399414,
          0.7864347100257874,
          1.3385181427001953,
          -14.257936477661133,
          -13.476744651794434,
          -2.1677069664001465,
          -2.4452686309814453,
          13.633017539978027,
          3.120311975479126,
          -7.415337085723877,
          3.6029982566833496,
          -9.942207336425781,
          -5.016078948974609,
          13.673739433288574,
          -6.924654960632324,
          3.0086631774902344,
          13.085530281066895,
          -14.645673751831055,
          -12.01029109954834,
          -2.930649518966675,
          3.4437332153320312,
          9.601025581359863,
          7.629656791687012,
          3.512462615966797,
          16.960811614990234,
          9.78958511352539,
          7.215864658355713,
          16.041181564331055,
          13.106287002563477,
          -9.909872055053711,
          0.5189701318740845,
          3.59806752204895,
          12.877394676208496,
          -1.635587215423584,
          -6.145590782165527,
          15.322603225708008,
          -6.703161716461182,
          4.001893043518066,
          -6.706867218017578,
          8.927618980407715,
          4.197802543640137,
          -8.097640991210938,
          2.1002490520477295,
          6.312841892242432,
          12.063501358032227,
          -11.109366416931152,
          2.8316798210144043,
          -9.739892959594727,
          -0.4920567572116852,
          -0.5182567834854126,
          7.118373394012451,
          9.290738105773926,
          -2.2703964710235596,
          -1.081455945968628,
          6.3558855056762695,
          6.597298622131348,
          15.560208320617676,
          -5.969031810760498,
          -8.306453704833984,
          8.212343215942383,
          0.5714982748031616,
          3.2802751064300537,
          -0.38946735858917236,
          -1.5037102699279785,
          0.08848650753498077,
          -13.431573867797852,
          -14.346905708312988,
          6.751018047332764,
          -5.544227123260498,
          7.741063594818115,
          0.23748590052127838,
          2.827554941177368,
          -11.378026008605957,
          3.2550952434539795,
          6.708803653717041,
          4.364343643188477,
          -17.379770278930664,
          -11.929336547851562,
          -6.913376808166504,
          4.0242600440979,
          -10.289471626281738,
          3.2152295112609863,
          5.4696173667907715,
          -10.229613304138184,
          4.859689712524414,
          -9.67898178100586,
          6.678917407989502,
          -8.960864067077637,
          -7.295471668243408,
          -1.878805160522461,
          -2.23901104927063,
          15.264769554138184,
          5.311037063598633,
          -13.963672637939453,
          -4.006848335266113,
          -15.919045448303223,
          -14.24686336517334,
          -5.048551559448242,
          -6.158168792724609,
          0.07740678638219833,
          0.0256255641579628,
          5.347044467926025,
          -17.565959930419922,
          -4.099499702453613,
          3.717174530029297,
          8.982604026794434,
          -9.539327621459961,
          -9.997692108154297,
          -5.033967018127441,
          10.122518539428711,
          -6.587496280670166,
          3.893772840499878,
          -0.44696348905563354,
          9.337542533874512,
          -10.398225784301758,
          -5.582386016845703,
          8.089101791381836,
          -9.581086158752441,
          -5.366276741027832,
          2.5883140563964844,
          4.3316240310668945,
          -9.939889907836914,
          2.6410136222839355,
          7.784550666809082,
          -8.76820182800293,
          -7.417941093444824,
          0.5373441576957703,
          -2.903106689453125,
          -15.120368003845215,
          -13.64002799987793,
          16.722055435180664,
          0.7647213339805603,
          17.341794967651367,
          -13.264692306518555,
          -11.98707103729248,
          0.9448025226593018,
          -14.315759658813477,
          -8.754816055297852,
          11.48961067199707,
          -4.724379062652588,
          -0.6378009915351868,
          -5.928661346435547,
          -11.971712112426758,
          -2.3508353233337402,
          -9.194239616394043,
          3.305074453353882,
          -9.029356956481934,
          4.584688186645508,
          13.331670761108398,
          -13.450638771057129,
          -0.15752249956130981,
          3.0557823181152344,
          -9.838661193847656,
          -2.1288957595825195,
          12.748516082763672,
          -4.124433517456055,
          9.82176685333252,
          -3.3331427574157715,
          1.3783884048461914,
          9.855550765991211,
          12.966534614562988,
          -5.422362327575684,
          -0.46221551299095154,
          -12.661332130432129,
          5.436346054077148,
          -4.831897735595703,
          -8.39814567565918,
          11.89776611328125,
          -13.512504577636719,
          17.893667221069336,
          -5.88332986831665,
          -13.897679328918457,
          -12.175573348999023,
          -1.071900486946106,
          -0.2762497067451477,
          -14.53908920288086,
          -15.372105598449707,
          16.358829498291016,
          1.4087542295455933,
          -11.042943000793457,
          -4.825921535491943,
          11.16496467590332,
          6.993149757385254,
          2.713693141937256,
          3.5085604190826416,
          9.386811256408691,
          7.3178324699401855,
          10.680091857910156,
          0.8481866121292114,
          -7.732911586761475,
          3.731837272644043,
          7.569504261016846,
          3.4685299396514893,
          -0.3940557837486267,
          8.467170715332031,
          -2.014112949371338,
          -10.962709426879883,
          -3.9061660766601562,
          9.967466354370117,
          4.853862285614014,
          -11.636650085449219,
          -9.962594032287598,
          -3.1023595333099365,
          -1.7238394021987915,
          -15.283824920654297,
          3.7651233673095703,
          5.022115230560303,
          -2.6351122856140137,
          0.30074775218963623,
          -14.274043083190918,
          -10.882625579833984,
          -2.6184096336364746,
          -4.142755508422852,
          14.921695709228516,
          7.796715259552002,
          -10.285882949829102,
          -0.532000720500946,
          -7.620750904083252,
          2.1463699340820312,
          1.951803207397461,
          14.023418426513672,
          4.450553894042969,
          8.408987045288086,
          10.518584251403809,
          -11.559326171875,
          -3.476111650466919,
          4.91301155090332,
          15.001863479614258,
          10.060041427612305,
          -11.015148162841797,
          16.6090030670166,
          -5.604177474975586,
          -9.953116416931152,
          -14.352333068847656,
          16.67326545715332,
          0.6225550770759583,
          7.374361515045166,
          11.946083068847656,
          1.8853490352630615,
          2.54567813873291,
          -9.875125885009766,
          5.611476898193359,
          16.85951042175293,
          -6.747492790222168,
          -3.3984594345092773,
          6.053985118865967,
          12.650592803955078,
          7.401245594024658,
          -10.202004432678223,
          12.156506538391113,
          13.913975715637207,
          -0.5098778009414673,
          5.9887213706970215,
          -4.140147686004639,
          -13.581171035766602,
          6.665215015411377,
          -13.98373031616211,
          -1.3843886852264404,
          7.905002593994141,
          6.2596025466918945,
          13.411675453186035,
          0.8047782182693481,
          -7.463733673095703,
          -11.27375316619873,
          4.015077590942383,
          2.6262381076812744,
          -0.3361072242259979,
          -14.98267936706543,
          -12.750408172607422,
          -1.5881115198135376,
          11.877849578857422,
          13.678025245666504,
          8.680865287780762,
          11.343683242797852,
          7.284918785095215,
          -10.135669708251953,
          -6.337737083435059,
          -9.794872283935547,
          9.449915885925293,
          8.252187728881836,
          15.676922798156738,
          -12.389025688171387,
          8.934508323669434,
          13.00605297088623,
          2.6975648403167725,
          -5.440863609313965,
          -2.9308598041534424,
          -7.35215425491333,
          1.627658486366272,
          2.874802350997925,
          6.569552898406982,
          2.8277060985565186,
          5.560490131378174,
          -5.784562110900879,
          -0.5998504757881165,
          -14.395319938659668,
          4.192441940307617,
          4.61299991607666,
          4.651349067687988,
          -5.223903656005859,
          3.4505789279937744,
          -2.18009352684021,
          -1.943446397781372,
          11.365011215209961,
          13.83283805847168,
          -2.793504476547241,
          7.162003517150879,
          7.574705123901367,
          -7.450877666473389,
          -9.8297119140625,
          -14.467670440673828,
          -13.608283042907715,
          7.797381401062012,
          -17.46056365966797,
          -1.2435929775238037,
          10.807269096374512,
          5.241702079772949,
          11.564208984375,
          -13.883103370666504,
          7.370665073394775,
          18.55464744567871,
          -9.004175186157227,
          7.600066184997559,
          -7.354438304901123,
          12.218348503112793,
          -12.620713233947754,
          7.266821384429932,
          1.1751255989074707,
          6.786592483520508,
          5.532252311706543,
          14.247944831848145,
          4.430508136749268,
          -5.496048927307129,
          -6.381296157836914,
          9.225062370300293,
          -5.88612699508667,
          -11.971327781677246,
          14.861966133117676,
          -13.651189804077148,
          5.033827781677246,
          15.737191200256348,
          -9.518840789794922,
          16.771320343017578,
          3.23095965385437,
          13.701690673828125,
          -17.992095947265625,
          15.138632774353027,
          7.897003650665283,
          -4.026834487915039,
          -9.479342460632324,
          3.16784405708313,
          -9.601191520690918,
          3.103588819503784,
          7.479739665985107,
          -14.520191192626953,
          -14.898147583007812,
          0.7129642367362976,
          -4.7921671867370605,
          -7.895025730133057,
          8.42558765411377,
          -4.711802005767822,
          1.1981014013290405,
          -9.149667739868164,
          -13.780278205871582,
          -12.461965560913086,
          -6.461269378662109,
          9.882583618164062,
          6.8114824295043945,
          6.396517276763916,
          -3.5665860176086426,
          2.1308252811431885,
          4.0630059242248535,
          9.266342163085938,
          -0.9564339518547058,
          -3.2437210083007812,
          0.30805549025535583,
          0.014599347487092018,
          0.8208939433097839,
          -15.230769157409668,
          10.691564559936523,
          1.395517349243164,
          -8.421019554138184,
          -10.587725639343262,
          4.548544883728027,
          13.682655334472656,
          9.612095832824707,
          4.684445858001709,
          5.666833877563477,
          -1.5178807973861694,
          11.427196502685547,
          9.734052658081055,
          -9.301182746887207,
          -8.43765926361084,
          -14.638837814331055,
          -2.0364882946014404,
          8.993106842041016,
          -8.428411483764648,
          -11.642510414123535,
          1.6573004722595215,
          7.89476203918457,
          1.9700757265090942,
          -4.550614833831787,
          14.712725639343262,
          -9.820775032043457,
          2.7310562133789062,
          -12.718423843383789,
          3.4049549102783203,
          -12.261371612548828,
          7.207781791687012,
          3.0189406871795654,
          4.6433539390563965,
          4.866041660308838,
          -6.986904144287109,
          2.6620802879333496,
          -15.549875259399414,
          -5.31055212020874,
          2.1196787357330322,
          -9.485893249511719,
          -13.390875816345215,
          -4.676482200622559,
          1.5360344648361206,
          13.428110122680664,
          2.149428606033325,
          -9.399292945861816,
          0.24206455051898956,
          -16.31801986694336,
          -3.617673635482788,
          -5.076229572296143,
          2.492866277694702,
          -5.259073257446289,
          3.1552681922912598,
          2.9097774028778076,
          9.08777141571045,
          -11.424095153808594,
          -9.913836479187012,
          -0.3955549895763397,
          5.4545817375183105,
          -9.459013938903809,
          -16.32378578186035,
          -7.581279754638672,
          11.331993103027344,
          4.666094779968262,
          2.3000476360321045,
          2.4779627323150635,
          12.466707229614258,
          -3.1826889514923096,
          13.226218223571777,
          -1.689205288887024,
          -7.214620590209961,
          0.27944907546043396,
          7.711434364318848,
          12.696150779724121,
          5.079199314117432,
          4.810460090637207,
          -4.69998025894165,
          -2.2716543674468994,
          4.59142541885376,
          5.874921798706055,
          -4.330449104309082,
          -5.448191165924072,
          4.648650169372559,
          -0.8348299264907837,
          10.670607566833496,
          -13.758613586425781,
          5.009994029998779,
          14.229422569274902,
          8.509984970092773,
          -3.1459052562713623,
          -2.19804310798645,
          -6.013917922973633,
          7.26841926574707,
          12.210697174072266,
          2.322890281677246,
          1.4369512796401978,
          13.097829818725586,
          -10.833403587341309,
          6.873972415924072,
          8.412161827087402,
          0.7230769991874695,
          10.920509338378906,
          3.250580072402954,
          -11.717386245727539,
          -14.61008358001709,
          -12.988600730895996,
          5.418019771575928,
          -3.9520633220672607,
          15.369016647338867,
          -1.6289398670196533,
          -9.938541412353516,
          -11.139697074890137,
          -9.911006927490234,
          0.9027279615402222,
          3.466628074645996,
          -17.28865623474121,
          8.964631080627441,
          -5.611563682556152,
          6.61530876159668,
          -10.177064895629883,
          -2.897510051727295,
          -8.319141387939453,
          -6.927158355712891,
          3.0236847400665283,
          3.7955639362335205,
          14.898279190063477,
          0.6635156869888306,
          -1.4066063165664673,
          -10.107870101928711,
          -6.847320079803467,
          15.589956283569336,
          -8.067584991455078,
          -12.523343086242676,
          -14.918795585632324,
          1.9335486888885498,
          3.2226693630218506,
          -11.564813613891602,
          0.3697930574417114,
          -1.1692255735397339,
          -1.9356367588043213,
          17.802215576171875,
          6.246983528137207,
          -0.005692260805517435,
          3.1462175846099854,
          -12.59109878540039,
          -0.7393655180931091,
          4.17338228225708,
          3.225848913192749,
          -9.660989761352539,
          7.451042175292969,
          -1.6897177696228027,
          -0.6348770260810852,
          4.34991979598999,
          -8.909127235412598,
          -6.497501850128174,
          -9.666852951049805,
          6.1038665771484375,
          -0.40097275376319885,
          7.083482265472412,
          -10.775339126586914,
          -8.760017395019531,
          -6.598758697509766,
          2.3202497959136963,
          9.088560104370117,
          -6.539501190185547,
          -0.9792667031288147,
          -15.089652061462402,
          -0.32074227929115295,
          -8.42158031463623,
          4.168183326721191,
          1.7511872053146362,
          9.209052085876465,
          8.58209228515625,
          7.9182305335998535,
          -2.895109176635742,
          3.3593368530273438,
          -17.186288833618164,
          15.653361320495605,
          -8.805038452148438,
          -13.931699752807617,
          -3.6120948791503906,
          -5.42637825012207,
          2.495147466659546,
          -9.890148162841797,
          -6.044046878814697,
          -12.581778526306152,
          1.419340968132019,
          7.302684783935547,
          10.86646842956543,
          -1.9301050901412964,
          1.5649378299713135,
          13.651328086853027,
          5.0156402587890625,
          16.682180404663086,
          4.747364521026611,
          0.49042052030563354,
          -11.601889610290527,
          12.579395294189453,
          -2.3991751670837402,
          8.503678321838379,
          -8.408382415771484,
          -12.841813087463379,
          11.138246536254883,
          3.7579970359802246,
          -1.18375825881958,
          1.1806187629699707,
          12.317469596862793,
          7.043250560760498,
          -9.166006088256836,
          3.9390575885772705,
          -10.124773025512695,
          -10.066277503967285,
          8.301431655883789,
          -3.703118324279785,
          6.567099094390869,
          -2.0127906799316406,
          11.8666353225708,
          10.868802070617676,
          12.941400527954102,
          2.7263190746307373,
          13.758066177368164,
          2.4001307487487793,
          5.347705364227295,
          8.381245613098145,
          -2.452976942062378,
          6.350674152374268,
          -14.989480972290039,
          5.81098747253418,
          3.30747652053833,
          -11.15845012664795,
          -10.215677261352539,
          -10.989899635314941,
          1.266877293586731,
          3.0110154151916504,
          -9.631011009216309,
          -1.0099948644638062,
          -11.046438217163086,
          -3.080155372619629,
          -6.720534801483154,
          -18.375822067260742,
          -4.905813694000244,
          -11.534963607788086,
          -1.2893060445785522,
          16.58737564086914,
          18.094324111938477,
          3.137484073638916,
          -0.5737634897232056,
          6.718516826629639,
          -10.510537147521973,
          3.558748722076416,
          -4.307201385498047,
          10.420265197753906,
          -8.150909423828125,
          -11.334003448486328,
          -14.970926284790039,
          7.049256324768066,
          -11.31890869140625,
          4.806595325469971,
          -15.087447166442871,
          -5.054708957672119,
          -5.260095119476318,
          7.909079074859619,
          -4.748741149902344,
          -12.766966819763184,
          9.442305564880371,
          4.499553203582764,
          1.3766283988952637,
          7.100234508514404,
          0.9368013739585876,
          -13.446758270263672,
          -7.3025712966918945,
          13.452401161193848,
          -4.16202449798584,
          0.7925981283187866,
          11.961494445800781,
          3.2813777923583984,
          -1.0519424676895142,
          1.643980622291565,
          -0.18127667903900146,
          8.19953441619873,
          9.597593307495117,
          -13.925039291381836,
          1.4448692798614502,
          0.4572485685348511,
          11.961877822875977,
          6.422947406768799,
          4.144199848175049,
          -5.8056721687316895,
          -14.639974594116211,
          -7.75945520401001,
          6.0137619972229,
          5.841518878936768,
          -15.018791198730469,
          4.861262798309326,
          0.5993134379386902,
          -10.10196590423584,
          13.279356002807617,
          -7.853517532348633,
          1.9626163244247437,
          2.471723794937134,
          -2.976048231124878,
          2.6259031295776367,
          15.57141399383545,
          3.892672538757324,
          -7.790401935577393,
          13.565217018127441,
          -1.0111783742904663,
          -10.147515296936035,
          8.261065483093262,
          -2.7925209999084473,
          5.8245344161987305,
          10.323787689208984,
          -7.001961708068848,
          0.6077250838279724,
          10.429925918579102,
          -1.3195561170578003,
          2.8167264461517334,
          -8.695023536682129,
          -9.1636323928833,
          -7.6836347579956055,
          -19.891462326049805,
          -18.224018096923828,
          8.55637264251709,
          -11.27620792388916,
          10.597111701965332,
          9.81554126739502,
          7.614434719085693,
          14.175032615661621,
          9.13230037689209,
          -15.438722610473633,
          11.860278129577637,
          -7.74832820892334,
          4.335787296295166,
          1.3177236318588257,
          -11.44436264038086,
          -6.287457466125488,
          -0.89284348487854,
          -7.434677600860596,
          11.989824295043945,
          10.098313331604004,
          -1.1545618772506714,
          2.7463290691375732,
          13.977496147155762,
          -15.277162551879883,
          -13.090877532958984,
          -2.09332013130188,
          -3.645202159881592,
          1.5068644285202026,
          9.49442195892334,
          -13.167841911315918,
          0.6610719561576843,
          -11.402215957641602,
          -2.8646786212921143,
          -6.699891090393066,
          -2.502436637878418,
          -0.20464064180850983,
          1.8592383861541748,
          -0.7152069807052612,
          1.4699310064315796,
          -3.0096402168273926,
          7.661120891571045,
          -2.455120325088501,
          3.3178865909576416,
          9.695013999938965,
          0.3018954396247864,
          9.841758728027344,
          -7.594114303588867,
          16.226186752319336,
          -13.609946250915527,
          -9.600017547607422,
          -5.999433994293213,
          0.7541717290878296,
          -11.214071273803711,
          -0.9867492914199829,
          7.663420677185059,
          2.113062620162964,
          -8.848015785217285,
          8.951557159423828,
          0.5793750286102295,
          11.044415473937988,
          6.953583717346191,
          1.1375787258148193,
          -6.063724040985107,
          -13.196474075317383,
          13.779857635498047,
          6.631634712219238,
          3.289644241333008,
          9.287631034851074,
          -15.100306510925293,
          15.416985511779785,
          7.43712854385376,
          15.66666316986084,
          -0.27729332447052,
          0.5997837781906128,
          -11.224222183227539,
          -3.4607083797454834,
          17.355756759643555,
          -5.296238899230957,
          5.943914413452148,
          3.7616279125213623,
          13.07148265838623,
          -9.113722801208496,
          -5.795228481292725,
          -8.765578269958496,
          -0.8467360138893127,
          -17.50735092163086,
          -10.874859809875488,
          -11.922062873840332,
          9.102243423461914,
          -8.351908683776855,
          -7.638050079345703,
          -8.272603034973145,
          -5.280455112457275,
          7.907498836517334,
          0.43412065505981445,
          12.239264488220215,
          -3.1945793628692627,
          1.5370577573776245,
          1.3494127988815308,
          1.6837760210037231,
          -3.9401097297668457,
          -7.742128849029541,
          12.352925300598145,
          -0.32122910022735596,
          3.190758228302002,
          -9.007122993469238,
          -8.259668350219727,
          1.055788278579712,
          6.622300624847412,
          8.288572311401367,
          -10.537240982055664,
          2.90130877494812,
          -7.101059913635254,
          -19.10702896118164,
          8.508743286132812,
          -1.1485873460769653,
          4.117403507232666,
          0.6845208406448364,
          -1.4630591869354248,
          9.678872108459473,
          4.535959243774414,
          11.016655921936035,
          -3.1760804653167725,
          15.922054290771484,
          6.911888599395752,
          4.50092077255249,
          -6.419611930847168,
          -1.9866726398468018,
          3.253230333328247,
          -8.223821640014648,
          -0.6657274961471558,
          -4.8594841957092285,
          4.757112503051758,
          -16.018463134765625,
          13.198579788208008,
          2.780223846435547,
          7.954344272613525,
          -4.606796741485596,
          -14.658534049987793,
          -7.711546421051025,
          -9.459151268005371,
          0.8429346680641174,
          -5.599977970123291,
          -8.147700309753418,
          -11.944145202636719,
          3.024793863296509,
          -9.296738624572754,
          -13.865119934082031,
          0.7161749005317688,
          16.21784210205078,
          -13.226935386657715,
          7.428178787231445,
          4.564839839935303,
          3.220482110977173,
          2.6451468467712402,
          9.28287410736084,
          13.291963577270508,
          7.857466220855713,
          10.267406463623047,
          1.1785173416137695,
          5.508933067321777,
          15.450114250183105,
          -12.911685943603516,
          2.971116781234741,
          -14.863637924194336,
          7.311154842376709,
          -1.4558014869689941,
          8.41899585723877,
          9.539907455444336,
          -10.728290557861328,
          5.093173503875732,
          -8.655601501464844,
          -1.2263704538345337,
          -13.442967414855957,
          -8.631170272827148,
          -8.964102745056152,
          -0.25434643030166626,
          -12.829360961914062,
          10.357983589172363,
          2.50313138961792,
          3.5544986724853516,
          -11.991169929504395,
          -2.21818208694458,
          16.903030395507812,
          2.976266860961914,
          -13.328235626220703,
          -7.482043266296387,
          5.888443470001221,
          4.55269193649292,
          7.763361930847168,
          -9.22625732421875,
          13.168240547180176,
          -0.5011242032051086,
          13.665764808654785,
          -18.106477737426758,
          0.6517526507377625,
          -3.275052785873413,
          1.4279829263687134,
          11.643135070800781,
          -5.542874336242676,
          -8.43013858795166,
          5.771568775177002,
          -8.837718963623047,
          4.086604118347168,
          16.09395980834961,
          9.49803638458252,
          -1.6758179664611816,
          16.84694480895996,
          -5.299069881439209,
          -5.521236419677734,
          -7.815935134887695,
          -13.052406311035156,
          7.988184452056885,
          6.163647174835205,
          -1.4672750234603882,
          1.607258915901184,
          13.011467933654785,
          13.934835433959961,
          1.0794728994369507,
          -14.855422019958496,
          6.086818695068359,
          9.872705459594727,
          -13.440942764282227,
          6.104636192321777,
          3.3527560234069824,
          8.614434242248535,
          6.4797773361206055,
          -14.158401489257812,
          6.77325439453125,
          -0.528609573841095,
          -6.577270030975342,
          6.064137935638428,
          -3.477799654006958,
          2.978001356124878,
          7.628167152404785,
          -12.094618797302246,
          3.8624351024627686,
          8.987510681152344,
          15.080368995666504,
          -11.549263000488281,
          -2.907019853591919,
          10.76276683807373,
          -7.498828411102295,
          3.4773776531219482,
          -2.8734710216522217,
          8.21306324005127,
          -8.889656066894531,
          -3.1600656509399414,
          7.419623851776123,
          -6.519572734832764,
          -14.996967315673828,
          -0.7439395785331726,
          3.706402540206909,
          8.941575050354004,
          -6.123715877532959,
          -12.012260437011719,
          0.6533241868019104,
          7.8316473960876465,
          -14.347940444946289,
          1.9518729448318481,
          -2.198620557785034,
          -10.753776550292969,
          7.433378219604492,
          11.892004013061523,
          -6.624085426330566,
          -9.90407657623291,
          -7.943244457244873,
          7.667327880859375,
          -13.878998756408691,
          7.310784339904785,
          -9.119614601135254,
          -1.691798448562622,
          5.032736778259277,
          3.527892827987671,
          -4.926578044891357,
          1.3048399686813354,
          -10.545270919799805,
          -8.344527244567871,
          9.242592811584473,
          0.8339576721191406,
          -13.330351829528809,
          8.667448043823242,
          4.383030891418457,
          -6.345865249633789,
          -10.442429542541504,
          -0.45895376801490784,
          8.365728378295898,
          9.171111106872559,
          7.100563049316406,
          2.987809419631958,
          -12.73907470703125,
          3.1197428703308105,
          8.905763626098633,
          1.3686705827713013,
          5.669147968292236,
          2.611435890197754,
          3.603750467300415,
          4.842614650726318,
          -7.026083469390869,
          2.6506400108337402,
          5.884028434753418,
          8.726380348205566,
          12.737312316894531,
          7.292163372039795,
          7.828914642333984,
          -8.025689125061035,
          -0.7972909212112427,
          11.869291305541992,
          -7.192140102386475,
          9.549620628356934,
          -4.3303351402282715,
          -10.560956001281738,
          -5.814542293548584,
          1.7765233516693115,
          7.429841041564941,
          -7.310047626495361,
          10.22593879699707,
          4.754758834838867,
          3.733466625213623,
          -8.121688842773438,
          8.693861961364746,
          10.145539283752441,
          -8.700425148010254,
          -11.925772666931152,
          5.611513137817383,
          4.666130065917969,
          11.781274795532227,
          -0.3231911063194275,
          2.8081517219543457,
          16.32240867614746,
          4.014894962310791,
          -16.05580711364746,
          -7.4123053550720215,
          -14.663496017456055,
          13.121309280395508,
          -0.8425527811050415,
          -0.42949196696281433,
          9.375826835632324,
          -10.555497169494629,
          10.713994026184082,
          11.895646095275879,
          -12.703072547912598,
          -6.3130903244018555,
          -7.5225830078125,
          13.509284973144531,
          0.38982921838760376,
          -9.027312278747559,
          -0.07534714043140411,
          -12.95642375946045,
          8.26050853729248,
          -9.834965705871582,
          15.230799674987793,
          -13.5387544631958,
          3.5732462406158447,
          -4.088029384613037,
          -1.4058068990707397,
          -7.493327617645264,
          -10.40831470489502,
          11.152863502502441,
          -6.4605207443237305,
          11.764511108398438,
          5.679991722106934,
          12.12317943572998,
          -0.38055697083473206,
          0.29165270924568176,
          -12.005254745483398,
          -10.04333209991455,
          -10.206663131713867,
          -7.00603723526001,
          7.146564483642578,
          0.8801367878913879,
          4.3195695877075195,
          4.207154750823975,
          -0.7426530122756958,
          13.779099464416504,
          3.999333620071411,
          -3.7630138397216797,
          14.548742294311523,
          -13.708765983581543,
          3.706188440322876,
          -0.3033018708229065,
          -1.666919231414795,
          17.788345336914062,
          -15.006413459777832,
          -9.000811576843262,
          1.7104600667953491,
          3.807321786880493,
          8.7676362991333,
          5.287952899932861,
          1.6752039194107056,
          -9.2266845703125,
          3.9943759441375732,
          16.127790451049805,
          0.49356967210769653,
          -3.8137173652648926,
          8.071127891540527,
          1.9785571098327637,
          -9.462919235229492,
          -8.980422019958496,
          -8.194393157958984,
          15.035465240478516,
          13.828658103942871,
          -6.333098888397217,
          10.489811897277832,
          0.12859979271888733,
          -7.580127716064453,
          9.926553726196289,
          2.9481303691864014,
          5.324935436248779,
          5.394632816314697,
          -1.8100229501724243,
          -4.6628618240356445,
          -5.396681785583496,
          -0.2890949249267578,
          -4.221271991729736,
          -5.311704635620117,
          5.213204383850098,
          -1.1836836338043213,
          4.911184310913086,
          9.159400939941406,
          -3.5861928462982178,
          -6.425802230834961,
          -7.550780773162842,
          -12.633478164672852,
          10.867975234985352,
          -17.858407974243164,
          0.4474964439868927,
          -14.640472412109375,
          -12.388466835021973,
          10.013934135437012,
          6.007234573364258,
          16.6178035736084,
          -1.4471147060394287,
          -6.486155033111572,
          -9.795791625976562,
          -13.192112922668457,
          4.658599853515625,
          2.921609878540039,
          17.532991409301758,
          -4.524572849273682,
          -13.645715713500977,
          1.6547269821166992,
          1.7641301155090332,
          13.45804214477539,
          9.839381217956543,
          -7.628686428070068,
          -13.829819679260254,
          6.803108215332031,
          8.920110702514648,
          -4.027538776397705,
          0.679017186164856,
          5.019353866577148,
          6.140259265899658,
          -8.934905052185059,
          8.609189987182617,
          5.606626033782959,
          3.4652950763702393,
          -9.9440336227417,
          -6.018732070922852,
          11.320115089416504,
          6.403494834899902,
          -12.671377182006836,
          4.315272331237793,
          -7.24308967590332,
          2.467306137084961,
          -8.897972106933594,
          -15.548432350158691,
          1.638798475265503,
          -7.327023506164551,
          11.833954811096191,
          7.256790637969971,
          -8.951455116271973,
          -11.34743595123291,
          5.30905294418335,
          -15.979996681213379,
          -10.827043533325195,
          -10.82090950012207,
          7.149303913116455,
          17.274072647094727,
          7.896600246429443,
          7.9356465339660645,
          -11.533297538757324,
          -13.148824691772461,
          -9.744526863098145,
          4.885595321655273,
          -15.909585952758789,
          -3.561415672302246,
          -10.356752395629883,
          7.204399108886719,
          -8.980375289916992,
          4.299657821655273,
          -11.322091102600098,
          -9.740463256835938,
          -15.232467651367188,
          -3.2530057430267334,
          -10.174651145935059,
          5.05344295501709,
          -8.807655334472656,
          4.936523914337158,
          0.7885761857032776,
          5.78523588180542,
          -1.463464617729187,
          9.139777183532715,
          5.215132236480713,
          8.638618469238281,
          5.002551078796387,
          5.8865227699279785,
          5.743316650390625,
          5.315235614776611,
          5.49268913269043,
          1.8427497148513794,
          7.077128887176514,
          8.591975212097168,
          7.56890869140625,
          -5.460593223571777,
          8.138029098510742,
          -18.99038314819336,
          -0.502543568611145,
          -1.237617015838623,
          6.503640651702881,
          6.0800042152404785,
          -3.718846559524536,
          -11.068601608276367,
          -1.6814839839935303,
          -4.416447639465332,
          0.7124788165092468,
          -9.553107261657715,
          5.502664566040039,
          6.711517333984375,
          4.786871910095215,
          13.438156127929688,
          0.2395915538072586,
          -12.045392990112305,
          -9.287379264831543,
          11.901851654052734,
          6.3094635009765625,
          -15.082730293273926,
          -9.43752670288086,
          3.0713188648223877,
          6.368906497955322,
          -8.887743949890137,
          -2.843498468399048,
          -11.964879989624023,
          0.5507973432540894,
          -10.699197769165039,
          -12.923541069030762,
          -11.53604507446289,
          -13.660478591918945,
          10.05387020111084,
          8.657026290893555,
          10.65858268737793,
          -6.710254669189453,
          -12.259727478027344,
          14.76789379119873,
          1.735572099685669,
          4.875524997711182,
          -5.589639186859131,
          11.310522079467773,
          1.9666087627410889,
          10.532452583312988,
          -0.8479887843132019,
          -15.044753074645996,
          4.080658435821533,
          -8.427414894104004,
          4.150803089141846,
          -0.412223756313324,
          -0.569647490978241,
          -11.888684272766113,
          -5.5756516456604,
          12.565231323242188,
          1.1067911386489868,
          8.459029197692871,
          -12.262280464172363,
          11.434800148010254,
          0.2759076952934265,
          17.36266326904297,
          8.191694259643555,
          -5.105370998382568,
          -13.702425956726074,
          -9.548033714294434,
          -13.068169593811035,
          -7.800427436828613,
          2.842454671859741,
          9.284253120422363,
          -0.36706069111824036,
          -0.9942852258682251,
          8.662782669067383,
          -10.701190948486328,
          2.098468542098999,
          -8.1690673828125,
          -8.93187141418457,
          5.277092456817627,
          2.7566978931427,
          4.582272529602051,
          -11.287050247192383,
          -0.5687077045440674,
          0.6326144337654114,
          0.40747275948524475,
          0.40493589639663696,
          -10.121482849121094,
          -1.0708470344543457,
          4.823583126068115,
          -3.1080989837646484,
          11.518396377563477,
          4.050055027008057,
          1.5134379863739014,
          9.194299697875977,
          -7.116017818450928,
          2.522648334503174,
          8.339937210083008,
          4.0864996910095215,
          -1.5962296724319458,
          2.701345682144165,
          -8.523235321044922,
          -5.382076740264893,
          -14.811397552490234,
          -9.403175354003906,
          2.3727993965148926,
          5.491939067840576,
          16.407466888427734,
          0.6014583706855774,
          4.7526350021362305,
          -3.325063467025757,
          -9.502666473388672,
          9.731395721435547,
          10.062792778015137,
          -1.9314303398132324,
          12.522085189819336,
          2.3461782932281494,
          -4.272949695587158,
          -9.526397705078125,
          -9.834972381591797,
          -0.3076991140842438,
          -13.948040962219238,
          3.290065050125122,
          -13.863958358764648,
          7.268802642822266,
          10.492088317871094,
          -12.80264663696289,
          -1.835368275642395,
          5.473178386688232,
          4.322728157043457,
          14.16261100769043,
          -2.6759350299835205,
          3.3133385181427,
          6.636516094207764,
          -1.657619595527649,
          -12.57773494720459,
          -0.8887003064155579,
          1.5479390621185303,
          -1.5927563905715942,
          4.120668888092041,
          7.123406410217285,
          -11.142539024353027,
          -10.908317565917969,
          -11.715975761413574,
          -12.64404010772705,
          -11.262462615966797,
          -9.75443172454834,
          -11.703385353088379,
          -9.65799331665039,
          7.748328685760498,
          4.605132579803467,
          -1.8152148723602295,
          4.423229217529297,
          -2.6057732105255127,
          4.047824859619141,
          -2.311452627182007,
          0.959989607334137,
          11.270450592041016,
          4.527267932891846,
          -13.034928321838379,
          -4.040672779083252,
          -5.928244590759277,
          1.0402798652648926,
          0.2103768140077591,
          9.482037544250488,
          -6.184900760650635,
          7.252163410186768,
          8.815062522888184,
          6.387563705444336,
          -13.962729454040527,
          4.572376728057861,
          -15.033466339111328,
          17.067995071411133,
          7.411459445953369,
          -3.6023247241973877,
          7.264772415161133,
          -14.64591121673584,
          -7.380666732788086,
          5.135286331176758,
          -1.3715473413467407,
          0.6146403551101685,
          10.459171295166016,
          7.506916522979736,
          4.502739429473877,
          -0.787480354309082,
          -15.162949562072754,
          -13.000999450683594,
          1.6903343200683594,
          11.352137565612793,
          2.229379892349243,
          -7.015265464782715,
          1.5517305135726929,
          3.7764835357666016,
          14.815102577209473,
          5.687179088592529,
          0.18263836205005646,
          1.1687614917755127,
          6.524721145629883,
          -14.726840019226074,
          10.722439765930176,
          -12.048639297485352,
          16.70476531982422,
          1.1149659156799316,
          4.6403632164001465,
          -15.980010986328125,
          2.3167595863342285,
          -13.473851203918457,
          0.4181141257286072,
          -0.16209647059440613,
          -3.7406647205352783,
          -3.8834033012390137,
          7.584166526794434,
          7.603080749511719,
          -12.835104942321777,
          3.1414198875427246,
          0.07124064862728119,
          6.646299839019775,
          6.164002418518066,
          13.052694320678711,
          -11.96094036102295,
          -2.324206590652466,
          6.253849506378174,
          14.445355415344238,
          0.9663976430892944,
          17.194997787475586,
          -10.125064849853516,
          3.291687250137329,
          10.9278564453125,
          6.941605567932129,
          2.2720751762390137,
          6.0148396492004395,
          -0.5054994225502014,
          -6.066743850708008,
          -2.735055446624756,
          4.6201701164245605,
          6.132590293884277,
          3.1629085540771484,
          -3.557135820388794,
          -6.638955116271973,
          3.5782768726348877,
          13.396607398986816,
          3.6087985038757324,
          2.345076322555542,
          -16.745773315429688,
          2.2608113288879395,
          7.780584812164307,
          2.457914352416992,
          2.018261671066284,
          -5.864341735839844,
          -3.7579233646392822,
          4.166463851928711,
          13.40134048461914,
          -7.069639682769775,
          9.515826225280762,
          -4.8535380363464355,
          -10.713333129882812,
          6.5573577880859375,
          7.859441757202148,
          -6.880120754241943,
          15.947029113769531,
          1.781925916671753,
          1.7260444164276123,
          -3.180546760559082,
          2.1111583709716797,
          7.543637752532959,
          5.839498996734619,
          2.8386764526367188,
          6.808450222015381,
          2.052661895751953,
          10.861076354980469,
          -16.654048919677734,
          9.577850341796875,
          13.843503952026367,
          0.9097257256507874,
          4.994167804718018,
          7.6830596923828125,
          3.3785011768341064,
          9.941635131835938,
          9.310135841369629,
          3.7039501667022705,
          13.775317192077637,
          -8.24051570892334,
          -3.0781071186065674,
          3.857790946960449,
          3.6275010108947754,
          -17.561519622802734,
          3.3361761569976807,
          -0.9178076386451721,
          3.579594850540161,
          -2.6052095890045166,
          2.3595542907714844,
          -1.3894628286361694,
          3.3176541328430176,
          2.6258466243743896,
          5.046767711639404,
          9.338839530944824,
          -9.929012298583984,
          -1.2884775400161743,
          -2.062641143798828,
          -8.174052238464355,
          -9.315936088562012,
          -13.815533638000488,
          4.508847236633301,
          5.68612813949585,
          -8.550525665283203,
          -12.603302955627441,
          -3.6355340480804443,
          -0.016506120562553406,
          -14.18134593963623,
          -4.242415428161621,
          -15.128854751586914,
          1.3811063766479492,
          8.217517852783203,
          0.6536963582038879,
          1.61921226978302,
          -5.22058629989624,
          5.9558186531066895,
          -10.064237594604492,
          -9.143082618713379,
          0.9871933460235596,
          -0.376886248588562,
          -10.6050386428833,
          -9.85659408569336,
          -9.704380989074707,
          0.43168672919273376,
          9.538923263549805,
          -9.188040733337402,
          5.426855087280273,
          -13.193068504333496,
          4.453943729400635,
          3.4503276348114014,
          -13.061254501342773,
          -1.77251398563385,
          2.008963108062744,
          3.9772768020629883,
          5.367825984954834,
          16.056224822998047,
          -9.266338348388672,
          -10.271544456481934,
          5.987582683563232,
          -9.081719398498535,
          -9.172440528869629,
          0.15704528987407684,
          3.5970141887664795,
          -12.598401069641113,
          -7.700859069824219,
          10.443926811218262,
          12.874588012695312,
          -8.677505493164062,
          -11.15900707244873,
          -12.559724807739258,
          0.11523965001106262,
          7.384581565856934,
          8.748144149780273,
          10.645000457763672,
          -11.937786102294922,
          3.953127384185791,
          -14.285710334777832,
          9.987329483032227,
          -2.911940813064575,
          -8.024670600891113,
          14.86726188659668,
          8.671042442321777,
          -5.566244125366211,
          4.31682825088501,
          -9.622960090637207,
          13.907051086425781,
          -11.32638168334961,
          13.632990837097168,
          -2.596172332763672,
          7.417273998260498,
          -10.51114273071289,
          8.745414733886719,
          -7.811964511871338,
          -12.328707695007324,
          2.666402816772461,
          -11.881451606750488,
          -1.3369063138961792,
          11.434274673461914,
          14.5698881149292,
          -6.268507480621338,
          11.388664245605469,
          14.347761154174805,
          7.344883441925049,
          -8.448160171508789,
          -8.689894676208496,
          1.6061757802963257,
          -18.7255802154541,
          -17.916385650634766,
          2.9296319484710693,
          4.288127899169922,
          -8.231310844421387,
          4.382259845733643,
          3.213831901550293,
          -2.6037163734436035,
          -9.904145240783691,
          0.7368043065071106,
          2.805088520050049,
          7.195095539093018,
          -9.20857048034668,
          4.755809307098389,
          -10.833049774169922,
          -11.975540161132812,
          9.365367889404297,
          -2.3329737186431885,
          0.6500259041786194,
          -10.206055641174316,
          -1.4130091667175293,
          -1.1827043294906616,
          -7.949235916137695,
          -2.946688652038574,
          10.525009155273438,
          6.29688835144043,
          14.26229476928711,
          5.889548301696777,
          4.001945495605469,
          -12.876301765441895,
          -12.316154479980469,
          9.600167274475098,
          -9.906106948852539,
          14.887176513671875,
          0.4823093116283417,
          2.861848831176758,
          -1.403796672821045,
          11.483071327209473,
          17.168825149536133,
          9.595020294189453,
          0.24370165169239044,
          10.626521110534668,
          1.87326979637146,
          9.74710750579834,
          -8.26069450378418,
          0.42938101291656494,
          13.048541069030762,
          5.143216133117676,
          -0.4603901207447052,
          -9.812742233276367,
          -9.053243637084961,
          -7.07559061050415,
          16.160072326660156,
          9.325119972229004,
          -6.864093780517578,
          3.46022367477417,
          2.431041717529297,
          -12.422955513000488,
          -5.555365085601807,
          -2.9376659393310547,
          17.01261329650879,
          5.923802375793457,
          4.582848072052002,
          15.09708309173584,
          7.577157974243164,
          4.2584147453308105,
          7.846484661102295,
          -5.664582252502441,
          4.027224063873291,
          -4.895383358001709,
          15.204501152038574,
          -8.62681770324707,
          5.192482948303223,
          3.937887191772461,
          10.55528450012207,
          3.508681535720825,
          2.8653597831726074,
          -12.313695907592773,
          13.017282485961914,
          -8.946011543273926,
          8.83426284790039,
          16.188217163085938,
          6.089414119720459,
          -1.081989049911499,
          7.331669330596924,
          -0.39086365699768066,
          -12.375515937805176,
          14.513849258422852,
          0.113715261220932,
          -8.495593070983887,
          5.9685516357421875,
          0.3644072711467743,
          -16.53358268737793,
          2.8894073963165283,
          7.48327112197876,
          -8.764803886413574,
          1.1298106908798218,
          5.767827987670898,
          1.249455451965332,
          -18.340662002563477,
          15.572160720825195,
          7.105710506439209,
          -11.720722198486328,
          3.1634867191314697,
          -1.4797123670578003,
          7.531182289123535,
          -4.356783866882324,
          -6.764271259307861,
          2.8876309394836426,
          2.654224395751953,
          10.766265869140625,
          6.5054240226745605,
          -4.473985195159912,
          4.318460464477539,
          -12.666619300842285,
          8.662718772888184,
          -10.049668312072754,
          1.2044748067855835,
          11.301948547363281,
          -1.1624712944030762,
          -1.027701735496521,
          -17.614900588989258,
          16.45552635192871,
          -4.649202346801758,
          16.965055465698242,
          -8.587028503417969,
          3.6519343852996826,
          -0.9379323124885559,
          -10.373723030090332,
          -0.616362452507019,
          16.55784034729004,
          10.001230239868164,
          9.806626319885254,
          8.703837394714355,
          -0.06441078335046768,
          -8.259007453918457,
          5.236841678619385,
          -8.100764274597168,
          -0.42335280776023865,
          -4.992206573486328,
          -0.5488829612731934,
          -7.799905300140381,
          9.295933723449707,
          9.96285343170166,
          -11.676889419555664,
          -9.977070808410645,
          4.415343761444092,
          -5.046361446380615,
          10.609759330749512,
          -0.051205407828092575,
          0.06729425489902496,
          6.209782600402832,
          8.18588638305664,
          -2.0389456748962402,
          -12.044312477111816,
          7.397362232208252,
          11.417243003845215,
          5.739667892456055,
          8.506523132324219,
          -1.5158631801605225,
          4.561911582946777,
          -8.534653663635254,
          -5.49983549118042,
          1.8853000402450562,
          -9.602408409118652,
          5.488699913024902,
          -14.059484481811523,
          4.052707672119141,
          3.1308481693267822,
          7.862477779388428,
          -12.017571449279785,
          7.869694232940674,
          -9.724706649780273,
          17.92862892150879,
          0.9226634502410889,
          18.240144729614258,
          -8.83090591430664,
          -6.873587131500244,
          2.2363712787628174,
          0.17190051078796387,
          -0.5899569392204285,
          -5.5087761878967285,
          7.500051021575928,
          7.262648105621338,
          -17.71183204650879,
          7.193227767944336,
          0.7088850736618042,
          9.671660423278809,
          9.65365219116211,
          -0.3370295464992523,
          6.112307071685791,
          -12.447921752929688,
          -13.916543960571289,
          -10.943401336669922,
          7.596444606781006,
          5.4931864738464355,
          4.521633625030518,
          17.269317626953125,
          8.425917625427246,
          -3.7881886959075928,
          -8.273167610168457,
          -0.21363656222820282,
          12.84114933013916,
          -3.5714309215545654,
          4.247315883636475,
          4.045797824859619,
          9.222208976745605,
          -4.664015769958496,
          4.868701934814453,
          9.559796333312988,
          -0.22653117775917053,
          -8.435242652893066,
          4.314016819000244,
          2.417353391647339,
          0.1856703758239746,
          7.628480434417725,
          11.936661720275879,
          -12.812237739562988,
          -8.41411018371582,
          6.286628246307373,
          6.02847146987915,
          -13.798999786376953,
          4.883478164672852,
          4.197185039520264,
          15.124200820922852,
          -13.259733200073242,
          5.253936290740967,
          -6.505461692810059,
          6.689635753631592,
          -4.8191704750061035,
          -11.048254013061523,
          14.7883882522583,
          0.856356143951416,
          -7.4650397300720215,
          -3.0683937072753906,
          -12.987236022949219,
          9.148194313049316,
          -4.930484294891357,
          8.363032341003418,
          1.2900162935256958,
          -7.82406759262085,
          9.36071491241455,
          1.8059654235839844,
          6.758518695831299,
          -9.630515098571777,
          2.8735642433166504,
          -0.6678557395935059,
          11.84313678741455,
          8.504277229309082,
          -1.7139972448349,
          0.42873847484588623,
          7.484865665435791,
          -12.302180290222168,
          1.70070481300354,
          0.13518716394901276,
          3.772329092025757,
          5.4421467781066895,
          14.49824333190918,
          -3.8493120670318604,
          1.9657365083694458,
          -0.5371474623680115,
          -11.476516723632812,
          -3.003955125808716,
          9.811385154724121,
          -10.133316993713379,
          13.146343231201172,
          -7.471221446990967,
          -9.765281677246094,
          3.128171920776367,
          -11.710244178771973,
          14.66675853729248,
          -17.501800537109375,
          5.431972980499268,
          -13.477705001831055,
          3.3400352001190186,
          -11.728938102722168,
          -1.4795564413070679,
          -2.715371608734131,
          0.4610973596572876,
          -5.2883501052856445,
          0.43855640292167664,
          10.618170738220215,
          16.660137176513672,
          0.9969403743743896,
          4.7334675788879395,
          6.999731063842773,
          6.675495624542236,
          -5.373176574707031,
          1.7737483978271484,
          1.4358142614364624,
          -0.20010200142860413,
          -13.327628135681152,
          -3.7084250450134277,
          1.5392779111862183,
          6.791625499725342,
          -7.21956205368042,
          10.846734046936035,
          15.591679573059082,
          -14.991394996643066,
          -15.251680374145508,
          -12.757655143737793,
          6.313022136688232,
          -15.115761756896973,
          6.351292133331299,
          -3.7284481525421143,
          -11.925962448120117,
          -12.156414031982422,
          4.394051551818848,
          -12.785902976989746,
          6.709367275238037,
          -1.7710745334625244,
          7.477238655090332,
          -5.790201663970947,
          -8.744538307189941,
          2.106539726257324,
          -6.117074012756348,
          5.856720924377441,
          -5.827688217163086,
          -9.828947067260742,
          -12.168174743652344,
          -7.581280708312988,
          2.3990402221679688,
          6.6671061515808105,
          3.3034801483154297,
          17.543001174926758,
          -5.985340118408203,
          4.070490837097168,
          -8.915572166442871,
          10.522624969482422,
          -5.551161289215088,
          -13.307097434997559,
          -4.083194255828857,
          1.351300835609436,
          8.37780475616455,
          -5.405029773712158,
          -2.828329563140869,
          7.257267475128174,
          7.351637840270996,
          5.443718910217285,
          12.3779935836792,
          18.235830307006836,
          11.310823440551758,
          -15.103423118591309,
          -11.76696491241455,
          -8.710603713989258,
          10.349629402160645,
          -1.3896269798278809,
          17.229228973388672,
          -0.45943683385849,
          -5.5793328285217285,
          6.93739128112793,
          13.466276168823242,
          -8.038951873779297,
          13.517823219299316,
          -14.67276382446289,
          -1.8559867143630981,
          -11.052042007446289,
          6.466446399688721,
          -14.506389617919922,
          4.197206020355225,
          -4.370269298553467,
          -16.01936912536621,
          3.456768751144409,
          10.506474494934082,
          13.525015830993652,
          -11.569063186645508,
          9.121320724487305,
          -5.698119163513184,
          -12.057519912719727,
          -9.319440841674805,
          -0.2612246572971344,
          18.286916732788086,
          -0.5235148072242737,
          9.495529174804688,
          11.582881927490234,
          -3.7250983715057373,
          4.8472771644592285,
          0.44327399134635925,
          10.352806091308594,
          8.802413940429688,
          -10.68541145324707,
          -13.691946983337402,
          -13.032865524291992,
          -9.727645874023438,
          -0.15164853632450104,
          -12.822335243225098,
          2.9921483993530273,
          -5.395066261291504,
          5.1836838722229,
          3.083482265472412,
          4.339820861816406,
          1.939399242401123,
          16.754053115844727,
          -1.298645257949829,
          -2.1634979248046875,
          2.1583821773529053,
          5.5429840087890625,
          6.344178676605225,
          10.8363618850708,
          14.280179977416992,
          2.6850571632385254,
          7.3401384353637695,
          0.34919294714927673,
          0.3649331331253052,
          -7.711010932922363,
          1.5565510988235474,
          -7.716958999633789,
          3.996462821960449,
          17.101642608642578,
          8.552278518676758,
          5.56501579284668,
          -10.058069229125977,
          -2.776481866836548,
          12.70567512512207,
          2.8276565074920654,
          6.611337661743164,
          0.6069294214248657,
          -12.332438468933105,
          1.5636022090911865,
          -11.238292694091797,
          -8.757059097290039,
          -9.078583717346191,
          8.772317886352539,
          -0.353674054145813,
          1.9961328506469727,
          6.175137042999268,
          -10.75223445892334,
          2.5461511611938477,
          2.226975202560425,
          13.354276657104492,
          -11.211809158325195,
          -12.453181266784668,
          -9.409639358520508,
          6.705115795135498,
          -3.5626912117004395,
          -15.222408294677734,
          2.9318957328796387,
          -15.718331336975098,
          -15.188841819763184,
          -8.686426162719727,
          -14.86953353881836,
          1.103304147720337,
          9.819530487060547,
          7.565004348754883,
          6.12709903717041,
          -2.366635322570801,
          -9.16220760345459,
          4.828003406524658,
          -14.679709434509277,
          -11.428787231445312,
          -0.13654974102973938,
          0.7306227087974548,
          -1.5033560991287231,
          -2.5594418048858643,
          -2.711294174194336,
          2.1551175117492676,
          -16.201417922973633,
          3.5353498458862305,
          -11.717575073242188,
          -14.794109344482422,
          -10.197367668151855,
          10.190990447998047,
          -9.271605491638184,
          -4.080529689788818,
          3.1372478008270264,
          -0.07297546416521072,
          -12.939502716064453,
          8.015280723571777,
          -10.95556640625,
          6.518754005432129,
          -7.058795928955078,
          -3.514585018157959,
          2.264636754989624,
          9.231832504272461,
          3.4459617137908936,
          -8.152989387512207,
          -2.0464348793029785,
          -11.315299987792969,
          15.558009147644043,
          -4.880755424499512,
          -12.357712745666504,
          -4.091793060302734,
          0.6980565190315247,
          -10.502026557922363,
          0.5901798009872437,
          -15.345358848571777,
          -16.54033660888672,
          16.037614822387695,
          3.3625435829162598,
          4.669590950012207,
          -2.4392600059509277,
          -11.577887535095215,
          1.5981223583221436,
          -11.15852165222168,
          1.8180452585220337,
          6.9698357582092285,
          0.9872450232505798,
          -8.26461410522461,
          12.03946304321289,
          1.3477730751037598,
          -1.7184523344039917,
          4.213476657867432,
          -1.217331886291504,
          4.690449237823486,
          2.8592710494995117,
          16.719303131103516,
          -13.239717483520508,
          5.185403347015381,
          -6.703413009643555,
          -17.159021377563477,
          2.066288709640503,
          0.616994321346283,
          -4.669568061828613,
          7.1899733543396,
          15.915634155273438,
          9.621194839477539,
          11.613950729370117,
          14.221412658691406,
          -5.458848476409912,
          -13.51202392578125,
          1.34444260597229,
          9.73479175567627,
          -14.680073738098145,
          4.146678447723389,
          0.5224263072013855,
          0.41526100039482117,
          -14.013191223144531,
          -2.9107518196105957,
          -2.2268691062927246,
          8.943798065185547,
          -14.095291137695312,
          6.75939416885376,
          3.046037197113037,
          8.966320991516113,
          -12.650439262390137,
          -7.972100734710693,
          -3.7882750034332275,
          5.1359477043151855,
          2.348905563354492,
          -1.1130461692810059,
          4.518355846405029,
          9.190328598022461,
          12.124212265014648,
          16.40415382385254,
          -12.060564994812012,
          1.4601695537567139,
          1.7457244396209717,
          15.165970802307129,
          -0.8306599855422974,
          -9.56585693359375,
          7.407761573791504,
          -2.1504263877868652,
          4.479526519775391,
          4.9179887771606445,
          7.38769006729126,
          -9.225512504577637,
          7.607946872711182,
          -3.954601764678955,
          -12.496938705444336,
          2.523298978805542,
          4.0686211585998535,
          -18.048765182495117,
          -18.221878051757812,
          7.218579292297363,
          14.058993339538574,
          4.565489768981934,
          -8.841346740722656,
          5.840298652648926,
          5.139558792114258,
          -13.456168174743652,
          -2.2625856399536133,
          8.141263008117676,
          11.688222885131836,
          -3.753464698791504,
          9.960896492004395,
          3.6878886222839355,
          -2.444817543029785,
          0.9822902083396912,
          9.747564315795898,
          -16.16537094116211,
          4.150707721710205,
          14.491844177246094,
          -8.372444152832031,
          1.4413352012634277,
          -2.739118814468384,
          9.152533531188965,
          3.544210910797119,
          0.15197695791721344,
          -4.341782569885254,
          3.135916233062744,
          10.22425365447998,
          7.715237140655518,
          -5.681361198425293,
          -3.143699884414673,
          6.942476272583008,
          4.144748210906982,
          2.808838367462158,
          8.729386329650879,
          -5.424704551696777,
          -5.018105506896973,
          3.192305564880371,
          -3.9512224197387695,
          -5.2515974044799805,
          -9.201783180236816,
          3.671987533569336,
          3.2739341259002686,
          -13.58559799194336,
          10.185897827148438,
          12.059247016906738,
          5.794384479522705,
          -4.129639625549316,
          13.2478609085083,
          -3.505924940109253,
          4.037446022033691,
          -9.47765064239502,
          1.853527545928955,
          5.693057537078857,
          -6.491003036499023,
          -9.652989387512207,
          -10.669879913330078,
          -7.0745530128479,
          8.794852256774902,
          7.550817489624023,
          1.2131654024124146,
          18.35793685913086,
          8.77049446105957,
          4.615750789642334,
          16.580467224121094,
          2.044595241546631,
          -0.796655535697937,
          15.710079193115234,
          4.483060359954834,
          -3.137655019760132,
          -10.952253341674805,
          5.8091206550598145,
          -4.277382850646973,
          -0.27346375584602356,
          -9.492836952209473,
          -10.006346702575684,
          -8.389883995056152,
          -9.38658332824707,
          8.601910591125488,
          -2.1186370849609375,
          -1.602298617362976,
          -12.272449493408203,
          5.165011405944824,
          4.412530899047852,
          8.622257232666016,
          -1.8785103559494019,
          -13.130328178405762,
          -8.353097915649414,
          10.804206848144531,
          -5.280654430389404,
          3.8238961696624756,
          -3.5821568965911865,
          -7.329475402832031,
          9.285120010375977,
          8.755237579345703,
          -9.712489128112793,
          10.496089935302734,
          -10.370904922485352,
          13.642656326293945,
          -7.335534572601318,
          2.8585433959960938,
          4.438929080963135,
          9.604900360107422,
          6.870876312255859,
          4.457611083984375,
          -3.9909965991973877,
          11.011280059814453,
          1.9980579614639282,
          -0.3428032100200653,
          -10.465307235717773,
          3.0874218940734863,
          11.908967018127441,
          0.35456582903862,
          7.6120476722717285,
          -15.6351318359375,
          11.602702140808105,
          2.807234764099121,
          10.586865425109863,
          13.80620002746582,
          -4.448831081390381,
          13.991369247436523,
          -15.342595100402832,
          4.052309036254883,
          3.0995659828186035,
          2.3033154010772705,
          5.488744735717773,
          -6.467145919799805,
          15.577173233032227,
          -14.607786178588867,
          -8.779960632324219,
          6.876223087310791,
          -2.2598676681518555,
          4.936599254608154,
          3.1459813117980957,
          16.016063690185547,
          13.074557304382324,
          -0.9673964381217957,
          8.524775505065918,
          1.8542044162750244,
          2.131181001663208,
          0.3230707347393036,
          2.4072256088256836,
          -3.4285829067230225,
          -4.5967230796813965,
          -10.423003196716309,
          -9.288403511047363,
          -13.894617080688477,
          2.473637580871582,
          -1.7886722087860107,
          -1.0324617624282837,
          -1.8220804929733276,
          1.3537484407424927,
          6.519408226013184,
          10.899575233459473,
          2.2796711921691895,
          -18.244800567626953,
          13.951345443725586,
          8.431352615356445,
          -16.228788375854492,
          1.2965987920761108,
          -1.6911183595657349,
          -2.4718844890594482,
          -3.0364718437194824,
          -2.238156795501709,
          1.727997899055481,
          0.994350790977478,
          3.178842544555664,
          0.40757009387016296,
          -11.356027603149414,
          -1.2768995761871338,
          -7.231925964355469,
          4.112524032592773,
          -0.8883160948753357,
          12.004350662231445,
          9.503146171569824,
          8.819354057312012,
          4.683480739593506,
          3.37611722946167,
          7.163762092590332,
          9.627580642700195,
          -11.932520866394043,
          -15.670764923095703,
          1.6879016160964966,
          -8.954748153686523,
          15.4176025390625,
          -3.110675096511841,
          8.621257781982422,
          6.9633026123046875,
          17.64347267150879,
          -3.755737543106079,
          -6.627225875854492,
          6.369693756103516,
          -5.149979591369629,
          2.931806802749634,
          1.0924694538116455,
          15.181222915649414,
          -5.3816633224487305,
          -3.5468759536743164,
          -10.217777252197266,
          -2.5430827140808105,
          15.22769832611084,
          -8.09849739074707,
          -4.033615589141846,
          -4.130760669708252,
          -3.0644261837005615,
          -7.8438191413879395,
          9.959223747253418,
          -15.20921516418457,
          7.157775402069092,
          11.700798988342285,
          8.486191749572754,
          8.763134956359863,
          13.410995483398438,
          -0.8390042185783386,
          -7.739241123199463,
          -4.189252853393555,
          11.119766235351562,
          -12.981300354003906,
          6.949035167694092,
          -6.6583757400512695,
          7.074553489685059,
          -1.5869572162628174,
          -2.781670093536377,
          -13.574651718139648,
          3.0676004886627197,
          2.155052423477173,
          -8.017731666564941,
          -15.000304222106934,
          7.966341972351074,
          -16.340354919433594,
          8.990591049194336,
          4.6121039390563965,
          -12.346090316772461,
          -8.4125394821167,
          -1.874734878540039,
          -9.608410835266113,
          -0.8939015865325928,
          -9.441964149475098,
          9.547572135925293,
          9.317692756652832,
          2.158562660217285,
          -6.021332263946533,
          0.33162418007850647,
          -13.86565113067627,
          6.576435089111328,
          -9.607330322265625,
          5.275030612945557,
          -14.092792510986328,
          -5.200644493103027,
          6.828489780426025,
          -0.6308516263961792,
          -14.776515007019043,
          1.94613516330719,
          -3.4513440132141113,
          -5.360060691833496,
          3.69454288482666,
          3.1867756843566895,
          -6.910274028778076,
          -7.01414680480957,
          9.925494194030762,
          3.925752639770508,
          8.665571212768555,
          -10.710859298706055,
          -8.097921371459961,
          -9.923734664916992,
          8.086649894714355,
          1.0695617198944092,
          6.6077961921691895,
          8.087879180908203,
          0.719787061214447,
          9.650862693786621,
          -0.991508424282074,
          -10.367551803588867,
          6.461055278778076,
          3.4071788787841797,
          2.094625949859619,
          -10.704235076904297,
          14.814933776855469,
          -6.369935512542725,
          7.365630149841309,
          -8.590717315673828,
          7.353888988494873,
          -9.541483879089355,
          -13.796408653259277,
          -3.8737881183624268,
          -7.107603073120117,
          4.164710521697998,
          -17.150928497314453,
          9.675236701965332,
          11.347999572753906,
          10.769049644470215,
          -4.3544182777404785,
          -13.88942813873291,
          9.316327095031738,
          10.875106811523438,
          0.28663724660873413,
          1.89901864528656,
          8.203673362731934,
          1.8161243200302124,
          -6.112735748291016,
          9.926942825317383,
          -11.97910213470459,
          7.347856521606445,
          -6.664080619812012,
          -0.9127793312072754,
          -11.190030097961426,
          3.173251152038574,
          14.388360023498535,
          -8.032876968383789,
          11.229551315307617,
          -10.351616859436035,
          13.878207206726074,
          -12.449780464172363,
          -13.862811088562012,
          9.628829956054688,
          -2.094359874725342,
          -0.16480687260627747,
          2.6114938259124756,
          -10.848544120788574,
          14.300820350646973,
          -8.861832618713379,
          -9.422845840454102,
          -8.444987297058105,
          8.001160621643066,
          -1.8530170917510986,
          -6.984847068786621,
          2.7680742740631104,
          -1.5702922344207764,
          1.4023205041885376,
          -10.278695106506348,
          -10.697824478149414,
          3.3747432231903076,
          0.23394954204559326,
          -7.881416320800781,
          14.897785186767578,
          7.5883893966674805,
          -0.6497393846511841,
          5.453803062438965,
          4.96578311920166,
          -5.386479377746582,
          4.95284366607666,
          3.489065170288086,
          9.662256240844727,
          -14.764967918395996,
          4.0780415534973145,
          -0.9976020455360413,
          4.403078079223633,
          -7.33409309387207,
          15.563721656799316,
          2.463625192642212,
          10.39993667602539,
          -2.683851480484009,
          0.7271214127540588,
          5.2006402015686035,
          -7.876453399658203,
          0.3947843611240387,
          -12.180415153503418,
          9.427870750427246,
          -13.591507911682129,
          4.335641860961914,
          -9.390853881835938,
          3.6392500400543213,
          -1.6558078527450562,
          -0.009828917682170868,
          -8.505253791809082,
          -10.421711921691895,
          3.361213445663452,
          -6.1295342445373535,
          12.064966201782227,
          0.027531582862138748,
          -17.00791358947754,
          12.297554969787598,
          -0.8962259888648987,
          -10.37984561920166,
          5.419300079345703,
          -10.09286880493164,
          5.189146995544434,
          -10.489964485168457,
          13.455925941467285,
          7.126485824584961,
          -7.169548988342285,
          4.33505392074585,
          13.889063835144043,
          -13.321004867553711,
          13.522150039672852,
          11.434475898742676,
          -11.37540340423584,
          1.58798086643219,
          -9.438970565795898,
          -10.736336708068848,
          -0.06945610791444778,
          -0.8694033026695251,
          -1.926268458366394,
          -1.9198715686798096,
          8.284127235412598,
          -1.0817707777023315,
          -2.4715733528137207,
          16.237581253051758,
          -9.776642799377441,
          14.997297286987305,
          1.9549875259399414,
          10.014274597167969,
          -14.861876487731934,
          -5.943885803222656,
          -10.069974899291992,
          7.577678680419922,
          -6.816117286682129,
          10.004081726074219,
          10.473480224609375,
          -4.548783302307129,
          -12.141021728515625,
          -6.413084983825684,
          -9.649027824401855,
          -1.1964894533157349,
          2.506429672241211,
          17.410356521606445,
          -1.3325848579406738,
          6.953127384185791,
          -6.9958882331848145,
          0.9155488610267639,
          7.647850513458252,
          3.958289384841919,
          5.922046184539795,
          -11.95566463470459,
          -15.264643669128418,
          -0.024695001542568207,
          1.6108944416046143,
          4.779485702514648,
          11.01827335357666,
          9.712482452392578,
          -12.38552474975586,
          8.067144393920898,
          8.594125747680664,
          6.708282470703125,
          8.937150001525879,
          9.12630558013916,
          -7.4581170082092285,
          4.7258501052856445,
          7.869290351867676,
          7.740126132965088,
          2.769282579421997,
          -2.345890522003174,
          -9.151209831237793,
          6.786135196685791,
          -17.6125431060791,
          5.841599941253662,
          0.036278121173381805,
          -5.691122531890869,
          13.19473648071289,
          -1.8224976062774658,
          2.02178955078125,
          6.574776649475098,
          12.280472755432129,
          8.436580657958984,
          -0.031485773622989655,
          -3.8456671237945557,
          2.9664013385772705,
          -10.173391342163086,
          -2.4100499153137207,
          -6.549831390380859,
          -5.477322101593018,
          -2.884251594543457,
          0.2459784299135208,
          1.8890879154205322,
          4.970195293426514,
          2.0127639770507812,
          12.90108871459961,
          7.285794258117676,
          6.3644561767578125,
          -3.9351282119750977,
          -10.04887866973877,
          5.084615230560303,
          -15.688779830932617,
          14.657149314880371,
          0.11099860817193985,
          16.757022857666016,
          8.866353988647461,
          -6.722038269042969,
          -1.6972615718841553,
          10.292200088500977,
          -11.875007629394531,
          -10.390057563781738,
          2.7785451412200928,
          -6.991117000579834,
          1.595069169998169,
          -3.042881488800049,
          -12.675102233886719,
          0.16015322506427765,
          -13.076398849487305,
          5.2724223136901855,
          0.6330115795135498,
          1.2573639154434204,
          9.047353744506836,
          5.269412040710449,
          -1.9779435396194458,
          6.527499675750732,
          -7.208654403686523,
          -10.902982711791992,
          -10.67848014831543,
          -12.538445472717285,
          -9.031506538391113,
          -3.5804169178009033,
          8.419477462768555,
          0.3146430552005768,
          4.709371089935303,
          -11.342087745666504,
          1.7556365728378296,
          -11.093927383422852,
          -2.8889570236206055,
          6.985536098480225,
          -5.54533052444458,
          1.8499360084533691,
          1.9466677904129028,
          4.101400852203369,
          -5.912798881530762,
          -3.727644443511963,
          7.837444305419922,
          -15.922350883483887,
          -9.001428604125977,
          -17.15703582763672,
          -5.171867370605469,
          -10.102601051330566,
          5.183231353759766,
          -15.080062866210938,
          3.6858224868774414,
          13.366991996765137,
          -4.683976650238037,
          -14.957261085510254,
          -7.073853969573975,
          -5.245336055755615,
          -2.8499343395233154,
          -0.4829409420490265,
          12.12007999420166,
          4.17676305770874,
          -11.359796524047852
         ],
         "y": [
          -3.9512224197387695,
          -2.5299007892608643,
          -6.358564376831055,
          -2.8293707370758057,
          12.693288803100586,
          0.2601086497306824,
          -6.787687301635742,
          1.0120353698730469,
          -9.890816688537598,
          3.0506155490875244,
          -2.8234872817993164,
          10.974207878112793,
          2.073164463043213,
          -0.1961054503917694,
          3.429379463195801,
          3.8840723037719727,
          -2.6580922603607178,
          -0.8280556797981262,
          9.246598243713379,
          -7.075358867645264,
          1.78014075756073,
          4.4868011474609375,
          -5.190891265869141,
          7.159976959228516,
          7.991918563842773,
          -1.7081221342086792,
          -6.722079277038574,
          -7.216320991516113,
          -0.4053538143634796,
          -4.946164131164551,
          1.9929267168045044,
          -0.26708295941352844,
          -11.255184173583984,
          -7.197136878967285,
          -8.863877296447754,
          -3.1829073429107666,
          -13.604763984680176,
          12.77721881866455,
          7.037984848022461,
          -7.869187355041504,
          -7.762463092803955,
          -1.4661122560501099,
          11.70235538482666,
          -1.6781258583068848,
          -3.369098663330078,
          1.2073118686676025,
          -3.3299474716186523,
          2.6283204555511475,
          5.37083101272583,
          0.16319423913955688,
          10.000547409057617,
          4.326620578765869,
          8.123330116271973,
          -0.10564863681793213,
          2.5089476108551025,
          4.903236389160156,
          9.49413776397705,
          -7.948273181915283,
          -3.601457357406616,
          7.403595447540283,
          -7.599255561828613,
          6.052973747253418,
          1.69968581199646,
          5.7850422859191895,
          -6.26819372177124,
          -8.431816101074219,
          -6.187017917633057,
          4.703625202178955,
          -7.423515796661377,
          -5.625938892364502,
          -1.2470289468765259,
          -8.527636528015137,
          9.78769302368164,
          3.4337658882141113,
          10.73076343536377,
          5.601675033569336,
          -4.499069690704346,
          2.471282482147217,
          -4.785695552825928,
          -5.164985656738281,
          -6.7595601081848145,
          -0.9848936200141907,
          -6.344897270202637,
          1.8388986587524414,
          -0.8292093276977539,
          -6.019908428192139,
          -1.344497799873352,
          -5.444159030914307,
          4.673152446746826,
          -6.284221649169922,
          2.239215850830078,
          -10.948701858520508,
          2.6269702911376953,
          -4.155921459197998,
          3.447549343109131,
          -10.565790176391602,
          8.04783821105957,
          -2.7296407222747803,
          -2.8992252349853516,
          -1.7062690258026123,
          -2.790989398956299,
          6.145500659942627,
          -2.0582151412963867,
          -0.4111959934234619,
          -7.78726863861084,
          -3.9887783527374268,
          1.6394659280776978,
          -7.581181526184082,
          12.325899124145508,
          10.943102836608887,
          9.071398735046387,
          0.6532535552978516,
          -9.486518859863281,
          9.342294692993164,
          -3.0698180198669434,
          -7.06734037399292,
          -11.158432006835938,
          2.7368881702423096,
          11.569697380065918,
          2.7051591873168945,
          1.3109266757965088,
          -4.897332668304443,
          5.835836410522461,
          -3.407543182373047,
          -3.7540690898895264,
          -3.4261558055877686,
          0.892315149307251,
          3.203681468963623,
          -12.45319652557373,
          -1.3954793214797974,
          13.4087553024292,
          2.7162957191467285,
          8.062371253967285,
          -2.650696039199829,
          6.244640827178955,
          13.880102157592773,
          -1.5794020891189575,
          -2.703209400177002,
          -6.328158378601074,
          4.653108596801758,
          0.520101010799408,
          6.506076335906982,
          5.43955659866333,
          9.767497062683105,
          0.9546425938606262,
          -13.746203422546387,
          1.672239065170288,
          0.16373006999492645,
          13.862809181213379,
          -8.01114273071289,
          -1.8465371131896973,
          -14.273921966552734,
          -11.501155853271484,
          -10.690632820129395,
          6.574451923370361,
          13.350787162780762,
          4.363320350646973,
          11.693638801574707,
          8.420306205749512,
          -5.493490695953369,
          12.804932594299316,
          11.965005874633789,
          -7.1967902183532715,
          8.297616004943848,
          6.2918620109558105,
          -6.422176361083984,
          1.2406721115112305,
          7.927489280700684,
          -1.74006187915802,
          -2.1378366947174072,
          -7.700821399688721,
          10.957799911499023,
          -3.0883302688598633,
          -13.046863555908203,
          3.8350653648376465,
          -7.015536308288574,
          2.3683371543884277,
          -0.2777305841445923,
          -7.211497783660889,
          4.519395351409912,
          -0.9522348046302795,
          -4.9173054695129395,
          1.420353651046753,
          -6.994863986968994,
          1.3852208852767944,
          8.421370506286621,
          3.0058600902557373,
          -9.435583114624023,
          8.402570724487305,
          4.590369701385498,
          -2.298194169998169,
          4.092921733856201,
          10.909555435180664,
          12.23019790649414,
          -6.218304634094238,
          4.235678672790527,
          -1.385267734527588,
          11.818875312805176,
          5.532876014709473,
          -0.9905555844306946,
          -6.704366683959961,
          6.9354143142700195,
          1.2150806188583374,
          -5.479256629943848,
          -7.706694602966309,
          1.9514259099960327,
          -2.1090450286865234,
          -2.700955867767334,
          -12.888413429260254,
          2.359783887863159,
          -14.286127090454102,
          -3.7575767040252686,
          11.249617576599121,
          -5.140381336212158,
          3.714695930480957,
          1.3963414430618286,
          -3.402601718902588,
          7.00679874420166,
          6.591276168823242,
          -2.167491912841797,
          -8.931565284729004,
          -0.6678028702735901,
          -8.822093963623047,
          -3.442150592803955,
          -0.6381850838661194,
          -7.24444055557251,
          -2.950406789779663,
          3.908395290374756,
          0.710979163646698,
          -12.83575439453125,
          -11.71019458770752,
          -9.990952491760254,
          4.663516044616699,
          4.496785640716553,
          -1.858450174331665,
          5.690186977386475,
          7.077054500579834,
          -12.852275848388672,
          -5.406988620758057,
          -7.613968849182129,
          -3.3379838466644287,
          10.38194751739502,
          -3.746135711669922,
          5.345523834228516,
          -7.948660373687744,
          -8.757384300231934,
          13.534618377685547,
          3.8413448333740234,
          11.48787784576416,
          5.335142612457275,
          -8.313681602478027,
          8.706707000732422,
          -1.1055155992507935,
          0.3049156069755554,
          11.745612144470215,
          11.447826385498047,
          10.202199935913086,
          -4.453299522399902,
          6.765071868896484,
          -5.0261759757995605,
          0.5542239546775818,
          -3.2965221405029297,
          11.53582763671875,
          5.706661701202393,
          -7.652817726135254,
          9.918033599853516,
          7.429492950439453,
          8.193126678466797,
          -5.5699262619018555,
          10.86280345916748,
          -3.878052234649658,
          4.617237091064453,
          -0.0702872946858406,
          11.978713989257812,
          5.206770420074463,
          -13.31792163848877,
          -3.2445871829986572,
          -3.884631872177124,
          -12.718588829040527,
          -3.1972343921661377,
          -9.049793243408203,
          -0.4086361229419708,
          11.010108947753906,
          6.803473949432373,
          -11.011563301086426,
          -5.066919803619385,
          3.0231497287750244,
          -8.954914093017578,
          10.495023727416992,
          -8.549089431762695,
          -4.752944469451904,
          12.538228034973145,
          7.81040620803833,
          2.507894277572632,
          5.8548150062561035,
          -13.036222457885742,
          9.063018798828125,
          -2.1385445594787598,
          -8.714472770690918,
          1.09494149684906,
          4.094819068908691,
          9.981281280517578,
          -2.8524181842803955,
          0.7960528135299683,
          11.916776657104492,
          -6.241537094116211,
          -7.936668872833252,
          -14.206711769104004,
          6.405969142913818,
          8.470730781555176,
          -0.06240222230553627,
          12.061308860778809,
          -14.283278465270996,
          4.726190567016602,
          -1.1865507364273071,
          -9.852376937866211,
          10.946948051452637,
          -3.9463376998901367,
          -3.1518383026123047,
          -6.39448356628418,
          -3.3422093391418457,
          10.754714012145996,
          3.3793928623199463,
          -5.567205429077148,
          -2.717634677886963,
          -5.214515209197998,
          2.2079248428344727,
          -2.154792070388794,
          -3.47223162651062,
          -4.519143104553223,
          -0.5177525877952576,
          12.48098087310791,
          -8.530386924743652,
          -2.717747211456299,
          9.646685600280762,
          -3.354940414428711,
          1.4456218481063843,
          0.10939788818359375,
          7.393624305725098,
          10.607872009277344,
          -10.496524810791016,
          5.883816242218018,
          -4.977194786071777,
          -2.9758799076080322,
          -5.248450756072998,
          -6.8602070808410645,
          -5.366140365600586,
          5.738444805145264,
          -4.37786865234375,
          -1.040415644645691,
          6.722878456115723,
          3.086961507797241,
          2.61792254447937,
          3.006411552429199,
          0.6298407316207886,
          -14.100174903869629,
          -1.6160836219787598,
          -6.081573486328125,
          -5.160336494445801,
          3.694258689880371,
          -5.207633972167969,
          9.910022735595703,
          7.096308708190918,
          -7.367936611175537,
          -6.604283809661865,
          -6.085751056671143,
          6.756842136383057,
          2.383577346801758,
          9.806084632873535,
          8.921472549438477,
          -3.1774559020996094,
          -9.059732437133789,
          -10.14215087890625,
          2.5387978553771973,
          -0.8148157596588135,
          5.489121437072754,
          4.457979202270508,
          12.210609436035156,
          3.3468565940856934,
          -2.8385589122772217,
          -1.6391115188598633,
          3.135800361633301,
          4.259405136108398,
          3.4910244941711426,
          -9.209988594055176,
          -3.242180109024048,
          8.125014305114746,
          10.436088562011719,
          -5.928099632263184,
          2.8305552005767822,
          1.3120553493499756,
          -8.058405876159668,
          -3.48555326461792,
          8.300196647644043,
          11.192355155944824,
          -10.660487174987793,
          11.1992769241333,
          -3.0866355895996094,
          -7.415626049041748,
          -2.6111414432525635,
          4.6362810134887695,
          6.335922718048096,
          4.109504699707031,
          -7.3557515144348145,
          -13.316366195678711,
          -0.8253661394119263,
          9.075498580932617,
          -3.5679807662963867,
          3.7383193969726562,
          -5.536774635314941,
          -8.032899856567383,
          -1.1487901210784912,
          -6.2833051681518555,
          3.5339252948760986,
          11.03453540802002,
          1.5760077238082886,
          -8.152586936950684,
          0.1103845164179802,
          -13.058573722839355,
          -2.9639923572540283,
          -10.54071044921875,
          -6.414116859436035,
          0.36825019121170044,
          4.915696620941162,
          10.684396743774414,
          -0.177925243973732,
          -0.9342043995857239,
          -4.419422626495361,
          -5.049652576446533,
          0.5113377571105957,
          4.009741306304932,
          -12.327591896057129,
          -10.091054916381836,
          -2.3192200660705566,
          -2.614511251449585,
          -2.4673101902008057,
          4.449775218963623,
          -13.131319999694824,
          -2.2294681072235107,
          4.711462020874023,
          3.4709532260894775,
          -0.3138171136379242,
          -3.869439125061035,
          10.336085319519043,
          3.504204750061035,
          7.877686977386475,
          4.556884288787842,
          -12.429766654968262,
          -4.80007266998291,
          -8.34522533416748,
          2.799027681350708,
          -8.53091812133789,
          0.11865802109241486,
          0.8396975994110107,
          3.8643314838409424,
          -2.37676739692688,
          4.163893222808838,
          -6.893962383270264,
          -8.87716293334961,
          -10.280281066894531,
          4.3850579261779785,
          -13.641024589538574,
          9.16922378540039,
          -4.136752605438232,
          9.191097259521484,
          -5.49692964553833,
          1.838097095489502,
          -3.5369651317596436,
          11.405633926391602,
          -5.557828426361084,
          0.3317723870277405,
          15.901670455932617,
          13.369114875793457,
          4.906419277191162,
          5.735177516937256,
          -2.2873473167419434,
          -6.884660243988037,
          -1.559737205505371,
          6.257123947143555,
          -4.614165782928467,
          4.49953031539917,
          -5.255067825317383,
          2.3572959899902344,
          -0.7173130512237549,
          -7.135815143585205,
          9.969395637512207,
          17.443668365478516,
          -2.0755529403686523,
          11.859737396240234,
          -2.4569084644317627,
          11.410604476928711,
          9.921319961547852,
          -8.32724666595459,
          0.7456679344177246,
          -0.014957872219383717,
          5.475877285003662,
          -14.912897109985352,
          -0.18206994235515594,
          10.756270408630371,
          13.940596580505371,
          -2.662670373916626,
          9.510313987731934,
          1.8788906335830688,
          11.453125953674316,
          -0.627970814704895,
          -5.48256778717041,
          8.293081283569336,
          -11.077065467834473,
          -5.065973281860352,
          11.625414848327637,
          2.29451322555542,
          -1.2587202787399292,
          7.112709999084473,
          -0.6854619383811951,
          4.00079345703125,
          1.8844308853149414,
          6.666187763214111,
          -2.5430150032043457,
          -4.7672600746154785,
          -2.1754021644592285,
          -9.14421272277832,
          3.179896116256714,
          -2.4084339141845703,
          9.78736686706543,
          6.455975532531738,
          -7.711481094360352,
          -7.253482341766357,
          -9.897701263427734,
          -3.718653917312622,
          -6.818051338195801,
          1.9617153406143188,
          9.342363357543945,
          -11.896145820617676,
          8.81380558013916,
          12.355589866638184,
          9.665143966674805,
          -1.8864039182662964,
          -14.785727500915527,
          -4.450479030609131,
          0.0944596529006958,
          5.875531196594238,
          -13.999464988708496,
          0.14214466512203217,
          3.9866714477539062,
          -0.3245682418346405,
          -5.712285041809082,
          3.1201322078704834,
          -9.438289642333984,
          -0.2358618974685669,
          -10.573216438293457,
          11.656709671020508,
          -5.826415538787842,
          -4.851640224456787,
          8.923158645629883,
          8.195208549499512,
          12.680829048156738,
          12.041698455810547,
          10.137557983398438,
          -7.874983310699463,
          14.22199535369873,
          -8.717524528503418,
          -2.0957608222961426,
          5.1145243644714355,
          -7.130285263061523,
          -9.435738563537598,
          2.6228907108306885,
          8.740887641906738,
          0.08370831608772278,
          -4.430612087249756,
          -9.322979927062988,
          3.0474648475646973,
          7.092794895172119,
          -1.6817314624786377,
          -2.247511863708496,
          -10.217314720153809,
          -14.287528991699219,
          5.720927715301514,
          0.3216153383255005,
          6.20623254776001,
          -2.8653764724731445,
          12.682703971862793,
          2.627166986465454,
          -12.652079582214355,
          -8.047853469848633,
          1.04597806930542,
          13.298026084899902,
          7.247184753417969,
          -4.786106109619141,
          -1.9767898321151733,
          3.695910692214966,
          2.9898624420166016,
          5.277486324310303,
          8.88663101196289,
          -2.463008403778076,
          2.4763336181640625,
          6.706451416015625,
          2.8700928688049316,
          3.025770425796509,
          -0.19456298649311066,
          11.707791328430176,
          0.5785601735115051,
          1.498782992362976,
          0.7418904900550842,
          -0.14996276795864105,
          8.22240924835205,
          -12.18176555633545,
          2.884129524230957,
          -1.6727098226547241,
          -14.595556259155273,
          14.263815879821777,
          4.281022071838379,
          8.601469993591309,
          -6.904432773590088,
          -4.875019550323486,
          11.615595817565918,
          7.916782379150391,
          -6.536751747131348,
          5.807040691375732,
          1.668601155281067,
          0.020493151620030403,
          -2.644559383392334,
          4.511469841003418,
          -7.737260341644287,
          -2.7515194416046143,
          4.158679485321045,
          9.955646514892578,
          5.271936416625977,
          -10.600417137145996,
          -1.2100123167037964,
          5.444758415222168,
          9.706993103027344,
          -6.566323757171631,
          14.062816619873047,
          0.5284103751182556,
          14.350959777832031,
          -1.6202034950256348,
          6.50035285949707,
          -1.8316243886947632,
          9.232338905334473,
          -9.169371604919434,
          -5.719719409942627,
          11.088258743286133,
          3.623380184173584,
          6.075883388519287,
          2.0466744899749756,
          6.2377610206604,
          -0.4219973385334015,
          7.383141994476318,
          -0.6665164232254028,
          -3.0058462619781494,
          9.629557609558105,
          4.062859058380127,
          5.861156940460205,
          3.3721697330474854,
          14.162410736083984,
          6.393977165222168,
          -1.6137887239456177,
          -11.267125129699707,
          -3.4023022651672363,
          -3.5354583263397217,
          3.711465835571289,
          -5.516284942626953,
          3.954501152038574,
          -6.694687843322754,
          10.164848327636719,
          11.108269691467285,
          -9.24588680267334,
          -7.673027992248535,
          -6.5849409103393555,
          -3.5863094329833984,
          -9.182170867919922,
          -10.448189735412598,
          -0.7946993708610535,
          1.937468409538269,
          0.1563064455986023,
          -2.3719241619110107,
          5.713684558868408,
          1.4898443222045898,
          -4.405773162841797,
          -0.6892611980438232,
          8.73107624053955,
          2.823075771331787,
          3.9822399616241455,
          10.292991638183594,
          4.1030497550964355,
          6.932004451751709,
          -4.700878620147705,
          -6.435809135437012,
          -4.428920269012451,
          9.807011604309082,
          2.7823379039764404,
          8.592002868652344,
          0.19648216664791107,
          0.08143062144517899,
          -7.15034818649292,
          12.92928409576416,
          12.268233299255371,
          -4.75785493850708,
          -4.249212741851807,
          -4.748973369598389,
          -5.187183380126953,
          -4.980226516723633,
          -10.5537748336792,
          4.969209671020508,
          -8.838362693786621,
          12.023930549621582,
          7.2487382888793945,
          -4.478544235229492,
          -4.464620590209961,
          -3.5873348712921143,
          6.758138656616211,
          -10.90944766998291,
          10.65472412109375,
          -3.114187479019165,
          -5.356210708618164,
          -6.859296798706055,
          0.9642075300216675,
          -5.5869460105896,
          9.660179138183594,
          4.606582164764404,
          -6.9460883140563965,
          -2.1017355918884277,
          5.383975982666016,
          -11.53518009185791,
          -3.121697187423706,
          -13.846110343933105,
          10.031103134155273,
          -4.783805847167969,
          11.315298080444336,
          -4.536447048187256,
          10.660508155822754,
          5.388577461242676,
          -0.4137662947177887,
          -13.321199417114258,
          10.450242042541504,
          14.317753791809082,
          12.646600723266602,
          -12.40899658203125,
          -5.544914722442627,
          8.917013168334961,
          8.11065673828125,
          -5.698278427124023,
          0.3492509722709656,
          1.3682852983474731,
          4.4531426429748535,
          1.4004576206207275,
          4.695171356201172,
          0.6754391193389893,
          -4.007908344268799,
          6.763134956359863,
          -1.5257514715194702,
          -10.578697204589844,
          8.15494155883789,
          -14.188528060913086,
          11.4772310256958,
          -1.4431368112564087,
          -4.663523197174072,
          6.317997932434082,
          -5.856588363647461,
          -4.269966125488281,
          8.106505393981934,
          -4.857751369476318,
          9.522978782653809,
          1.6722816228866577,
          -2.6571972370147705,
          -0.5052170157432556,
          -12.904945373535156,
          -13.885235786437988,
          -9.878302574157715,
          1.0222012996673584,
          -5.760870456695557,
          6.9842963218688965,
          -8.170636177062988,
          9.597782135009766,
          -3.039384365081787,
          -10.087997436523438,
          11.334500312805176,
          6.9782609939575195,
          0.11351479589939117,
          -2.0305488109588623,
          -6.779572010040283,
          -4.746054649353027,
          -2.7247555255889893,
          -3.2286126613616943,
          -4.642303466796875,
          12.413561820983887,
          -6.165680408477783,
          -1.0526741743087769,
          -5.429066181182861,
          7.223720073699951,
          8.264430046081543,
          -3.380845546722412,
          4.552837371826172,
          12.458751678466797,
          -11.073412895202637,
          -1.7847410440444946,
          0.2935521900653839,
          1.146330714225769,
          -4.0258636474609375,
          4.420999526977539,
          -4.986334323883057,
          -12.679855346679688,
          4.675522804260254,
          8.024343490600586,
          9.399832725524902,
          3.007063388824463,
          -3.176771402359009,
          9.046549797058105,
          2.817326307296753,
          -0.21006938815116882,
          -0.42280489206314087,
          -0.8855640888214111,
          6.611922740936279,
          -3.774775743484497,
          3.422452688217163,
          12.673256874084473,
          -8.088420867919922,
          -9.381531715393066,
          -8.264164924621582,
          9.31560230255127,
          3.5823676586151123,
          -1.4078471660614014,
          -0.6991766691207886,
          -8.94797134399414,
          2.030090808868408,
          -5.249311447143555,
          1.2300738096237183,
          12.63732624053955,
          8.142284393310547,
          12.217241287231445,
          -7.133481502532959,
          -2.9972097873687744,
          2.723940372467041,
          0.5148900747299194,
          -14.103765487670898,
          -4.26819372177124,
          -12.16983699798584,
          -7.961813926696777,
          -13.92953109741211,
          -4.4167985916137695,
          -2.530250072479248,
          -14.03723430633545,
          -5.04196834564209,
          -6.205296516418457,
          -8.477553367614746,
          10.523649215698242,
          -1.897444486618042,
          1.500927209854126,
          -11.042340278625488,
          -5.390821933746338,
          -9.117189407348633,
          0.2431345134973526,
          2.007146120071411,
          -6.460277080535889,
          1.2063034772872925,
          0.3989749848842621,
          -1.5363285541534424,
          12.074051856994629,
          -7.467231273651123,
          10.175461769104004,
          5.869078159332275,
          2.766361713409424,
          7.272852420806885,
          -3.339010238647461,
          6.991458892822266,
          -3.2630419731140137,
          0.21172688901424408,
          -2.7356321811676025,
          -0.5811311602592468,
          5.588578701019287,
          -9.987156867980957,
          1.4419738054275513,
          -1.976514220237732,
          10.9104642868042,
          -9.28194808959961,
          9.062644004821777,
          2.1063461303710938,
          -1.8995411396026611,
          1.8136615753173828,
          -13.091256141662598,
          -7.994582653045654,
          9.698311805725098,
          -13.603800773620605,
          -2.491126775741577,
          -8.50210189819336,
          -2.844926118850708,
          13.688791275024414,
          1.3409435749053955,
          11.147690773010254,
          -5.024328708648682,
          4.422235012054443,
          12.32509994506836,
          -4.084037780761719,
          -4.560208797454834,
          -4.55019474029541,
          -3.3429019451141357,
          -11.429097175598145,
          -7.160865783691406,
          -7.023245811462402,
          -3.256303548812866,
          -0.2458181530237198,
          -2.1433656215667725,
          1.7760009765625,
          2.48358416557312,
          3.6140153408050537,
          0.323767751455307,
          -6.616218566894531,
          7.980149745941162,
          -12.519498825073242,
          -7.085921764373779,
          4.837401866912842,
          7.073809623718262,
          -2.830751657485962,
          -0.18328507244586945,
          -4.584690570831299,
          2.602586269378662,
          2.8104159832000732,
          -1.6205769777297974,
          7.517116069793701,
          -7.1979660987854,
          9.476997375488281,
          -8.506179809570312,
          -3.832413673400879,
          2.3950061798095703,
          -15.659144401550293,
          9.682182312011719,
          -6.707401275634766,
          -2.397054672241211,
          4.053136825561523,
          3.848844051361084,
          -12.825288772583008,
          -4.3609771728515625,
          -0.5991774201393127,
          10.618163108825684,
          -3.3991925716400146,
          10.442217826843262,
          -10.4103422164917,
          9.466858863830566,
          1.7680567502975464,
          -5.093629360198975,
          7.5596394538879395,
          -3.885176420211792,
          -4.042253494262695,
          -13.576918601989746,
          10.137664794921875,
          -10.550346374511719,
          17.35834503173828,
          -3.118152141571045,
          -5.79051399230957,
          3.2448630332946777,
          1.2154831886291504,
          9.983591079711914,
          -7.87919282913208,
          -3.171529531478882,
          0.13654163479804993,
          -6.7903032302856445,
          -3.686781167984009,
          -3.1559410095214844,
          6.3527512550354,
          -11.330901145935059,
          -5.735661029815674,
          1.0263696908950806,
          -5.300192832946777,
          -5.518305778503418,
          10.25561809539795,
          1.4153039455413818,
          6.172091960906982,
          -10.386972427368164,
          -1.0186673402786255,
          -7.680414199829102,
          -5.6801066398620605,
          -0.524202823638916,
          0.957411527633667,
          9.376006126403809,
          0.2665058970451355,
          -9.439067840576172,
          4.93398380279541,
          -1.7002956867218018,
          -7.338334083557129,
          3.176687002182007,
          9.464465141296387,
          -13.661953926086426,
          -3.168281078338623,
          -0.8930150866508484,
          5.888454437255859,
          7.133727550506592,
          5.704619884490967,
          -9.881707191467285,
          -8.165766716003418,
          -7.011967182159424,
          4.233860969543457,
          4.885040283203125,
          5.762703895568848,
          -7.663395404815674,
          -2.3234798908233643,
          13.289440155029297,
          10.96345329284668,
          -12.694921493530273,
          13.770758628845215,
          4.868870735168457,
          -3.551682710647583,
          -1.5741829872131348,
          7.01904296875,
          -0.6864771842956543,
          1.3500527143478394,
          2.7097439765930176,
          0.21993571519851685,
          -7.054948329925537,
          13.795733451843262,
          11.379081726074219,
          -0.7172767519950867,
          -4.735469341278076,
          11.62903881072998,
          -2.011962890625,
          0.5569800138473511,
          -14.301851272583008,
          0.7013459205627441,
          -11.999494552612305,
          1.643832802772522,
          1.1025184392929077,
          -0.0760272890329361,
          12.014654159545898,
          0.8432501554489136,
          -1.2456316947937012,
          8.702897071838379,
          4.560612678527832,
          5.841982364654541,
          -3.8047168254852295,
          -0.03453933820128441,
          5.912292957305908,
          -12.091790199279785,
          1.0884608030319214,
          1.4963302612304688,
          -11.207033157348633,
          -8.608938217163086,
          -4.461413383483887,
          6.384278297424316,
          3.0425806045532227,
          6.215535640716553,
          -2.1110000610351562,
          -9.429133415222168,
          -8.57236385345459,
          -0.6121928095817566,
          11.93250560760498,
          -8.2523775100708,
          -8.357312202453613,
          10.574433326721191,
          0.16820326447486877,
          2.632842779159546,
          -3.572080612182617,
          -7.006170272827148,
          5.679925441741943,
          0.2213248610496521,
          -12.085031509399414,
          -4.722195625305176,
          8.930218696594238,
          8.332919120788574,
          -13.650047302246094,
          12.315183639526367,
          -0.021708792075514793,
          -3.6233060359954834,
          7.503423690795898,
          -0.6909363865852356,
          -7.416262149810791,
          -4.814964294433594,
          -0.1671462059020996,
          -4.393711090087891,
          -1.7805894613265991,
          12.580412864685059,
          -11.80180835723877,
          -1.4681514501571655,
          9.347809791564941,
          -9.325343132019043,
          -2.9158971309661865,
          -1.4846304655075073,
          -2.7083513736724854,
          -0.3452690541744232,
          -9.573274612426758,
          2.568594217300415,
          -8.697010040283203,
          -3.1787195205688477,
          -1.4276649951934814,
          3.0386979579925537,
          -0.5268903374671936,
          3.9848403930664062,
          -6.271567344665527,
          -12.172656059265137,
          -7.102913856506348,
          -14.387907981872559,
          4.116143703460693,
          4.229158401489258,
          -0.22746138274669647,
          -3.7353146076202393,
          -7.889172077178955,
          -6.46618127822876,
          3.756340503692627,
          -14.437731742858887,
          2.6789066791534424,
          11.268474578857422,
          7.134705543518066,
          9.780908584594727,
          -5.325289726257324,
          1.3901163339614868,
          -8.708413124084473,
          9.331733703613281,
          5.53405237197876,
          4.224925518035889,
          -9.471446990966797,
          0.8009728193283081,
          -6.8034491539001465,
          -4.131011486053467,
          8.973949432373047,
          4.237024307250977,
          5.44340705871582,
          9.291203498840332,
          -3.9670798778533936,
          12.431501388549805,
          4.298081398010254,
          -3.330390453338623,
          -5.811821460723877,
          5.285561561584473,
          0.9009652733802795,
          -3.830014705657959,
          -3.0626742839813232,
          0.2876039147377014,
          -9.994104385375977,
          9.613296508789062,
          7.276472091674805,
          -1.5909769535064697,
          5.0427703857421875,
          10.621454238891602,
          -14.634551048278809,
          -0.47203564643859863,
          -9.275701522827148,
          -0.7093656659126282,
          -5.017486572265625,
          -6.719918727874756,
          -4.366796493530273,
          9.54979133605957,
          -10.512253761291504,
          0.2894028425216675,
          -4.349567413330078,
          5.946381092071533,
          12.087579727172852,
          -8.077226638793945,
          -14.309453010559082,
          0.8245718479156494,
          -5.890048503875732,
          2.4089128971099854,
          1.1335673332214355,
          -7.408505916595459,
          -12.398280143737793,
          2.4445929527282715,
          0.3348993957042694,
          -7.449904441833496,
          0.14376713335514069,
          5.285688400268555,
          -3.286053419113159,
          -4.973439693450928,
          -0.39293336868286133,
          -3.74220609664917,
          1.7589647769927979,
          -3.8272976875305176,
          10.07063102722168,
          -7.4332661628723145,
          6.034171104431152,
          -2.8495211601257324,
          2.3994481563568115,
          2.3280460834503174,
          -2.575486183166504,
          -9.630719184875488,
          -8.417943954467773,
          -0.5886626839637756,
          -2.001322031021118,
          7.5127081871032715,
          -0.8963682651519775,
          -4.822292327880859,
          -3.617158889770508,
          -3.349797487258911,
          -0.6430073380470276,
          -1.733134388923645,
          -3.7943477630615234,
          12.957083702087402,
          6.102928638458252,
          -2.9022138118743896,
          6.237154483795166,
          -1.1676554679870605,
          5.363740921020508,
          -6.005707263946533,
          -6.990833759307861,
          -6.298982620239258,
          -3.4695074558258057,
          5.234457969665527,
          5.444098949432373,
          3.4082913398742676,
          3.082252025604248,
          4.308163642883301,
          -5.149938106536865,
          4.413586139678955,
          3.39713716506958,
          14.613195419311523,
          11.499088287353516,
          12.856294631958008,
          13.528733253479004,
          -6.187325477600098,
          4.683791637420654,
          -3.5850062370300293,
          -3.325282335281372,
          2.5168890953063965,
          -4.268286228179932,
          12.726574897766113,
          5.372267246246338,
          -0.46527326107025146,
          0.4235648512840271,
          4.910584926605225,
          0.5383092164993286,
          -2.010331153869629,
          -6.202608108520508,
          -10.193994522094727,
          -9.86810302734375,
          -4.293467044830322,
          5.731322288513184,
          -2.666477918624878,
          -5.0078125,
          0.487510621547699,
          -9.720149993896484,
          -2.9730465412139893,
          0.9741451740264893,
          -1.2321821451187134,
          -1.6178264617919922,
          -5.0939717292785645,
          6.354742050170898,
          1.1194031238555908,
          0.1539173573255539,
          10.815356254577637,
          3.5459961891174316,
          -9.288260459899902,
          0.634710431098938,
          -8.273188591003418,
          -4.019617080688477,
          0.0804261565208435,
          -3.694125175476074,
          5.218735694885254,
          -1.025557041168213,
          -14.32824420928955,
          7.506519794464111,
          4.299166202545166,
          -13.373793601989746,
          -2.5405333042144775,
          -3.786881685256958,
          4.623690605163574,
          -3.6496217250823975,
          0.11353207379579544,
          -11.102058410644531,
          4.571940898895264,
          -2.121790885925293,
          11.029633522033691,
          -0.9712963104248047,
          -8.074625015258789,
          6.9083709716796875,
          -6.198485851287842,
          12.529149055480957,
          -4.25797176361084,
          10.86621379852295,
          -4.954738140106201,
          10.905691146850586,
          -6.792409896850586,
          -0.861950159072876,
          3.0832691192626953,
          3.9628031253814697,
          13.058610916137695,
          -7.821722030639648,
          -2.2905519008636475,
          -7.137753009796143,
          10.111531257629395,
          4.470464706420898,
          6.9474687576293945,
          1.37637460231781,
          -15.757829666137695,
          -0.4034282863140106,
          -5.223379135131836,
          1.7186322212219238,
          -3.416694164276123,
          -7.927870750427246,
          1.0317217111587524,
          -6.102542400360107,
          9.377004623413086,
          -10.3253173828125,
          5.208817958831787,
          12.704934120178223,
          -2.5417656898498535,
          -4.326543807983398,
          -11.142531394958496,
          10.509519577026367,
          -2.923767566680908,
          -0.6961213946342468,
          -5.364569664001465,
          0.5577338933944702,
          -3.8874154090881348,
          -10.412436485290527,
          10.839760780334473,
          1.3842791318893433,
          11.398127555847168,
          -2.5548529624938965,
          -9.529598236083984,
          0.5496500134468079,
          12.74927806854248,
          -0.7021769285202026,
          -9.58008098602295,
          -0.45297524333000183,
          -8.783516883850098,
          3.285731792449951,
          -8.309440612792969,
          7.834207534790039,
          -14.628360748291016,
          1.7546740770339966,
          5.736817359924316,
          -4.220168113708496,
          -6.926541328430176,
          -8.897077560424805,
          10.324195861816406,
          10.09561538696289,
          -10.206572532653809,
          -6.619565010070801,
          5.867753982543945,
          -6.083768844604492,
          0.9380210041999817,
          -5.814404010772705,
          -8.78273868560791,
          -0.1564628630876541,
          -0.8336406350135803,
          13.982823371887207,
          5.832831859588623,
          -1.2724303007125854,
          2.756722927093506,
          -9.251019477844238,
          -5.767118453979492,
          4.666102886199951,
          8.933525085449219,
          -4.819012641906738,
          1.754199743270874,
          -6.312549591064453,
          -4.695672035217285,
          6.47630500793457,
          -0.5624136328697205,
          6.794569492340088,
          -11.909502983093262,
          5.740234375,
          0.39060866832733154,
          -7.361495018005371,
          -5.076608180999756,
          8.372918128967285,
          -10.215474128723145,
          -10.726435661315918,
          -12.285289764404297,
          -2.75649094581604,
          0.3804744482040405,
          -15.01161003112793,
          11.084237098693848,
          -13.653441429138184,
          -0.005615708883851767,
          9.745015144348145,
          14.072507858276367,
          2.7570712566375732,
          13.336970329284668,
          0.8982637524604797,
          -2.6260151863098145,
          -7.686065196990967,
          -10.902832984924316,
          -6.2092461585998535,
          0.0005860079545527697,
          3.0932488441467285,
          10.385603904724121,
          -11.950552940368652,
          -7.53721809387207,
          -0.46964484453201294,
          4.041618347167969,
          -9.194843292236328,
          12.16387939453125,
          -0.09624890983104706,
          -10.75145435333252,
          11.616580963134766,
          -5.767676830291748,
          -0.5360758900642395,
          11.579451560974121,
          9.387218475341797,
          -0.710060179233551,
          -7.974924564361572,
          11.220382690429688,
          -14.046714782714844,
          6.15016508102417,
          10.828344345092773,
          1.0266460180282593,
          -1.5668432712554932,
          -3.8901360034942627,
          11.440327644348145,
          6.0643391609191895,
          -9.559356689453125,
          -13.060098648071289,
          12.40942096710205,
          13.144912719726562,
          4.585267066955566,
          -11.712372779846191,
          -9.044524192810059,
          -2.528432607650757,
          2.8506906032562256,
          -8.237358093261719,
          -4.065231800079346,
          1.1629658937454224,
          9.84699535369873,
          13.432034492492676,
          6.796627044677734,
          -11.931026458740234,
          2.139606237411499,
          9.306774139404297,
          -7.376514911651611,
          -1.4982733726501465,
          1.5617882013320923,
          -14.690892219543457,
          -4.678314208984375,
          -2.7194807529449463,
          -9.534717559814453,
          1.3009767532348633,
          -1.1203383207321167,
          -12.345050811767578,
          -11.090643882751465,
          1.0206724405288696,
          2.8713605403900146,
          0.8348711729049683,
          2.577382802963257,
          -6.785407066345215,
          -5.013073444366455,
          -3.983046293258667,
          14.120088577270508,
          -7.041172981262207,
          4.710042953491211,
          -13.972647666931152,
          -7.687694072723389,
          -7.373182773590088,
          -2.6793017387390137,
          -1.6839624643325806,
          -12.481779098510742,
          -0.8599376678466797,
          9.593720436096191,
          6.444239616394043,
          0.03806532546877861,
          6.799740791320801,
          2.7342686653137207,
          -2.463416814804077,
          4.127298831939697,
          -1.6771870851516724,
          -6.8419904708862305,
          -1.1251277923583984,
          -3.3301219940185547,
          6.705083847045898,
          7.3647780418396,
          -7.968194961547852,
          10.081409454345703,
          -5.2979278564453125,
          0.7963058948516846,
          0.7753769755363464,
          -2.6050798892974854,
          10.485273361206055,
          4.2751145362854,
          12.473433494567871,
          -1.1809731721878052,
          10.570856094360352,
          10.55715560913086,
          -2.7155277729034424,
          -4.83517599105835,
          -3.7681725025177,
          12.788689613342285,
          0.9480075836181641,
          12.609381675720215,
          11.684622764587402,
          -1.015474796295166,
          -1.916874885559082,
          -0.5527380704879761,
          -9.25631332397461,
          -9.392210006713867,
          -1.3617781400680542,
          -4.544318675994873,
          3.989398717880249,
          3.475799083709717,
          1.8742358684539795,
          9.034993171691895,
          -7.949558258056641,
          -5.442765235900879,
          3.090787887573242,
          6.425505638122559,
          -3.620976448059082,
          0.10329963266849518,
          -3.75373911857605,
          1.4526517391204834,
          1.9004231691360474,
          -9.091985702514648,
          1.0939838886260986,
          4.966907024383545,
          7.502584934234619,
          -0.2972961664199829,
          1.6820650100708008,
          4.226424217224121,
          1.0707141160964966,
          2.1785330772399902,
          -9.048236846923828,
          -0.11591603606939316,
          -3.2611570358276367,
          1.8488894701004028,
          -3.90846848487854,
          -7.253206253051758,
          -3.510877847671509,
          -7.227904796600342,
          -6.759858131408691,
          -3.5218923091888428,
          0.8410807847976685,
          -6.6954498291015625,
          0.9005236625671387,
          3.0762038230895996,
          -12.155720710754395,
          1.2161493301391602,
          2.4318292140960693,
          9.17534351348877,
          12.562065124511719,
          3.1706647872924805,
          8.08756160736084,
          -4.483131408691406,
          -9.35925579071045,
          12.487627029418945,
          -11.462788581848145,
          10.325684547424316,
          2.751063585281372,
          -1.2137069702148438,
          1.7234183549880981,
          9.969391822814941,
          -6.031717300415039,
          0.9729578495025635,
          -6.5540876388549805,
          5.108306884765625,
          12.803417205810547,
          0.22062744200229645,
          -9.651954650878906,
          5.220312118530273,
          2.0310893058776855,
          -6.580613613128662,
          7.071720600128174,
          8.160122871398926,
          6.139342308044434,
          6.037068843841553,
          -8.103069305419922,
          -3.313791036605835,
          -7.489464282989502,
          -4.950921058654785,
          -6.538635730743408,
          6.294171333312988,
          12.981316566467285,
          -5.968174934387207,
          -4.883133888244629,
          1.6811479330062866,
          2.62256121635437,
          -1.5727767944335938,
          5.240632057189941,
          -2.678006172180176,
          12.36658763885498,
          -6.417031288146973,
          -13.266298294067383,
          1.4836666584014893,
          4.647345066070557,
          12.195874214172363,
          -7.141575336456299,
          -7.532548427581787,
          -2.134352207183838,
          8.98641586303711,
          10.852188110351562,
          11.679137229919434,
          12.380110740661621,
          -7.230927467346191,
          6.411009788513184,
          0.3702563941478729,
          2.833889961242676,
          -0.6952491402626038,
          -5.913081645965576,
          -1.9034616947174072,
          2.028671979904175,
          -9.168253898620605,
          -4.890169620513916,
          -6.293857097625732,
          -12.535515785217285,
          0.8205580115318298,
          2.1050145626068115,
          -1.060998558998108,
          -6.346084117889404,
          6.0886030197143555,
          10.046435356140137,
          -8.700643539428711,
          10.276070594787598,
          -6.881532192230225,
          12.790266990661621,
          -6.238618850708008,
          4.500137805938721,
          0.04147965461015701,
          -6.293654918670654,
          4.97046422958374,
          3.2241225242614746,
          -1.9886285066604614,
          -3.47052001953125,
          7.258117198944092,
          5.308796405792236,
          4.46231746673584,
          -5.299937725067139,
          12.573189735412598,
          -5.188672065734863,
          0.18223044276237488,
          8.267574310302734,
          7.928648948669434,
          10.725440979003906,
          0.01878960058093071,
          -5.611926555633545,
          -4.42171573638916,
          -12.555704116821289,
          4.238541126251221,
          2.190704822540283,
          10.887365341186523,
          6.419081211090088,
          -2.8997349739074707,
          -1.698582649230957,
          -7.232877254486084,
          4.2132344245910645,
          0.7926534414291382,
          8.260171890258789,
          -3.8391571044921875,
          -3.5563106536865234,
          4.729176998138428,
          -4.840904712677002,
          -9.122138023376465,
          -8.45156192779541,
          3.0304903984069824,
          2.170427083969116,
          4.068047523498535,
          5.520313739776611,
          0.22420446574687958,
          11.464914321899414,
          -3.169644594192505,
          6.458604335784912,
          -13.910551071166992,
          -2.8506205081939697,
          0.902844250202179,
          0.5302659273147583,
          9.101968765258789,
          -4.753509521484375,
          -4.1457295417785645,
          -4.237625598907471,
          -3.1893668174743652,
          1.0210986137390137,
          11.71916675567627,
          -4.861399173736572,
          1.9547948837280273,
          1.892386555671692,
          9.254962921142578,
          2.145650863647461,
          -2.6129391193389893,
          -0.36578062176704407,
          1.7376686334609985,
          -4.835477352142334,
          -9.953539848327637,
          -3.4690499305725098,
          -1.610405445098877,
          2.369150161743164,
          4.5036749839782715,
          3.019852876663208,
          -1.8960260152816772,
          -15.05897331237793,
          -13.151276588439941,
          -8.120479583740234,
          11.560752868652344,
          -6.4533867835998535,
          4.9029340744018555,
          10.942583084106445,
          5.191531181335449,
          11.478809356689453,
          6.050632953643799,
          0.4395313858985901,
          -4.725982189178467,
          -6.87554407119751,
          0.6107104420661926,
          -10.104598045349121,
          -1.9706034660339355,
          9.199492454528809,
          2.0345890522003174,
          -2.7922377586364746,
          1.776052474975586,
          -11.942912101745605,
          13.230591773986816,
          3.774829626083374,
          -5.1422905921936035,
          -6.646570682525635,
          -1.3634397983551025,
          -6.8430328369140625,
          -6.665038108825684,
          13.751717567443848,
          8.244707107543945,
          -6.413499355316162,
          5.391184329986572,
          2.7614388465881348,
          6.0453033447265625,
          13.840145111083984,
          -3.7696120738983154,
          1.1278541088104248,
          7.538772106170654,
          -0.09278055280447006,
          -5.3408050537109375,
          7.1591362953186035,
          5.323443412780762,
          -13.342428207397461,
          -5.426084518432617,
          5.409446716308594,
          -7.426687717437744,
          2.767895460128784,
          -2.0726430416107178,
          2.2049782276153564,
          6.72247314453125,
          -9.322338104248047,
          -3.685915946960449,
          0.22421322762966156,
          -1.1280385255813599,
          -8.577898979187012,
          -14.024862289428711,
          -2.4138922691345215,
          4.987924575805664,
          4.816234111785889,
          2.798015832901001,
          8.204648971557617,
          -5.198575019836426,
          -11.801759719848633,
          -5.56002140045166,
          4.605949401855469,
          6.132867813110352,
          -3.997163772583008,
          0.038956303149461746,
          2.087618350982666,
          -0.7050431966781616,
          -0.7857059240341187,
          9.275854110717773,
          7.247408866882324,
          12.367513656616211,
          1.0219541788101196,
          -4.9127726554870605,
          0.7486430406570435,
          -4.252054214477539,
          0.05620357766747475,
          -0.18325819075107574,
          -1.3100827932357788,
          7.970761775970459,
          8.192076683044434,
          -2.973149061203003,
          -4.030215263366699,
          -9.143487930297852,
          -7.7981977462768555,
          -2.5730271339416504,
          -0.8809083700180054,
          4.13077449798584,
          0.5326783657073975,
          5.153495788574219,
          -1.2707921266555786,
          -3.4418652057647705,
          -8.640336990356445,
          -11.678797721862793,
          -3.1198246479034424,
          -5.196585655212402,
          11.203421592712402,
          11.358154296875,
          -3.3081142902374268,
          -9.129414558410645,
          12.132248878479004,
          4.690796375274658,
          1.217538595199585,
          -3.150578498840332,
          0.6679806113243103,
          -6.682979583740234,
          14.669873237609863,
          12.843306541442871,
          -1.428654670715332,
          0.4983515739440918,
          -0.4267517328262329,
          -6.667830944061279,
          -2.3395938873291016,
          1.687502384185791,
          5.249504566192627,
          -3.6075439453125,
          -6.662982940673828,
          11.930954933166504,
          -4.79783821105957,
          -6.656949043273926,
          -4.403744220733643,
          5.594101428985596,
          7.607072830200195,
          -4.794322490692139,
          6.533573627471924,
          -8.325211524963379,
          11.06320858001709,
          8.356863975524902,
          -3.398787498474121,
          4.272914886474609,
          10.71517276763916,
          -0.002231195569038391,
          -4.953129768371582,
          12.472467422485352,
          -7.845047473907471,
          -6.0537800788879395,
          10.120598793029785,
          -6.314449310302734,
          0.5501707792282104,
          -3.001718282699585,
          -4.301179885864258,
          -9.589849472045898,
          -1.3363529443740845,
          -7.506105422973633,
          -8.106745719909668,
          -1.1879569292068481,
          -7.119894504547119,
          -6.113828182220459,
          -11.560371398925781,
          -9.333815574645996,
          -4.006765842437744,
          1.4382734298706055,
          2.777707815170288,
          -6.853980541229248,
          -1.8294025659561157,
          8.601510047912598,
          -3.3710622787475586,
          1.8444451093673706,
          -4.458829402923584,
          -3.452571153640747,
          -5.175395965576172,
          0.4999328851699829,
          3.3733274936676025,
          -7.513503551483154,
          0.7918357253074646,
          -2.6364316940307617,
          -1.709754467010498,
          -3.3436241149902344,
          6.1251678466796875,
          -5.605874538421631,
          7.948009490966797,
          -1.3844249248504639,
          -2.749180316925049,
          10.560869216918945,
          -2.637470245361328,
          -11.273179054260254,
          11.877667427062988,
          -5.442273139953613,
          0.9297444820404053,
          -7.118243217468262,
          3.1310436725616455,
          4.796749591827393,
          -0.2723867893218994,
          -4.177735328674316,
          -6.67515754699707,
          4.016549110412598,
          1.3091835975646973,
          0.2355189025402069,
          -3.4762539863586426,
          -0.3034619688987732,
          11.759294509887695,
          -4.231532573699951,
          0.9076998233795166,
          -9.354137420654297,
          2.850701093673706,
          -0.24198830127716064,
          -3.381214141845703,
          3.2335126399993896,
          -7.320901870727539,
          8.999924659729004,
          9.406041145324707,
          6.135060787200928,
          3.752458095550537,
          -3.702467441558838,
          10.136083602905273,
          4.644759654998779,
          13.767007827758789,
          11.655248641967773,
          -13.260236740112305,
          -8.130819320678711,
          -4.750126838684082,
          1.7480913400650024,
          -6.34015417098999,
          -5.954691410064697,
          -4.409812927246094,
          4.983518123626709,
          -4.163427829742432,
          -5.987939357757568,
          3.0003297328948975,
          -4.124632358551025,
          3.8640661239624023,
          -13.551190376281738,
          0.39886215329170227,
          4.289161205291748,
          -10.533414840698242,
          -2.0978429317474365,
          2.5748894214630127,
          12.538198471069336,
          11.385377883911133,
          -5.879343032836914,
          -7.704910755157471,
          1.5270063877105713,
          1.8026275634765625,
          2.1104977130889893,
          -4.761459827423096,
          1.9856281280517578,
          5.3169264793396,
          -4.942680835723877,
          -2.68534255027771,
          -10.618973731994629,
          2.279876232147217,
          -6.248959541320801,
          11.052385330200195,
          5.1036810874938965,
          0.4471181035041809,
          8.321364402770996,
          7.971807956695557,
          -2.8114516735076904,
          4.4851155281066895,
          1.2035770416259766,
          2.3014028072357178,
          -5.463089466094971,
          -7.302474021911621,
          -10.404101371765137,
          -3.1563150882720947,
          -6.607959270477295,
          9.715343475341797,
          6.412233829498291,
          -11.576348304748535,
          -8.051395416259766,
          -2.484217405319214,
          8.802389144897461,
          5.797373294830322,
          8.176409721374512,
          5.461668491363525,
          -12.15288257598877,
          -10.361977577209473,
          -1.3172365427017212,
          5.0294508934021,
          1.9187265634536743,
          -6.021824359893799,
          0.7568836212158203,
          7.303206920623779,
          -6.877246856689453,
          -4.99784517288208,
          3.3891403675079346,
          0.1905120313167572,
          4.668308258056641,
          1.5583748817443848,
          -0.08488743007183075,
          8.07138442993164,
          -11.791095733642578,
          -3.8641254901885986,
          6.507404327392578,
          1.4360854625701904,
          -5.345949172973633,
          -4.018057346343994,
          0.7772878408432007,
          4.014947414398193,
          11.00861930847168,
          8.267865180969238,
          -1.4591835737228394,
          12.206945419311523,
          -6.0321197509765625,
          7.732818603515625,
          3.10799241065979,
          -0.5311375856399536,
          -1.0598018169403076,
          -13.039034843444824,
          -10.988707542419434,
          -2.858448028564453,
          2.8033008575439453,
          1.9158204793930054,
          4.542823314666748,
          -11.80804443359375,
          -7.531241416931152,
          -3.096705675125122,
          -4.593811511993408,
          8.608546257019043,
          6.930281162261963,
          -11.680424690246582,
          -7.148135185241699,
          -2.906625270843506,
          -1.6946088075637817,
          -14.060197830200195,
          -1.5167341232299805,
          -2.303241014480591,
          6.570653438568115,
          1.12530517578125,
          4.726704120635986,
          -7.0066046714782715,
          0.496470183134079,
          -12.749488830566406,
          1.9110676050186157,
          4.946235656738281,
          5.211703777313232,
          -10.829191207885742,
          0.7980923056602478,
          4.870530128479004,
          -1.591526746749878,
          4.128109455108643,
          6.136171340942383,
          4.477636814117432,
          2.997978448867798,
          -1.1070003509521484,
          -5.312963485717773,
          -8.756962776184082,
          7.244968891143799,
          12.447403907775879,
          -3.311210870742798,
          8.819125175476074,
          -7.146834373474121,
          6.1061482429504395,
          -3.2894628047943115,
          11.431511878967285,
          8.52680778503418,
          6.418968677520752,
          2.30922794342041,
          0.44218865036964417,
          3.839580774307251,
          14.690301895141602,
          0.2885577082633972,
          -0.23518288135528564,
          6.135366916656494,
          -2.1329967975616455,
          -0.9699254631996155,
          1.4042211771011353,
          -0.6246889233589172,
          -6.677814960479736,
          -4.283722877502441,
          3.814089775085449,
          -1.6412110328674316,
          -5.702734470367432,
          -2.1035633087158203,
          -1.028678297996521,
          -0.5409638285636902,
          -8.317508697509766,
          -7.376077175140381,
          -7.9209184646606445,
          -1.4091099500656128,
          -13.423272132873535,
          5.24246883392334,
          -6.094338893890381,
          12.658917427062988,
          -3.3702480792999268,
          7.963066101074219,
          -5.427342891693115,
          -12.865532875061035,
          -3.8204078674316406,
          0.8314490914344788,
          0.08360958099365234,
          -1.672876238822937,
          8.667261123657227,
          6.261930465698242,
          9.6146879196167,
          -0.4133291244506836,
          4.733966827392578,
          4.546485424041748,
          -5.7561116218566895,
          -8.136984825134277,
          -0.10358469188213348,
          1.8123496770858765,
          8.61625862121582,
          6.074845314025879,
          -0.28734585642814636,
          -6.729457855224609,
          -3.111558437347412,
          0.47052085399627686,
          3.705390691757202,
          -3.540156364440918,
          2.461019992828369,
          6.302114486694336,
          -1.0270452499389648,
          -0.14899444580078125,
          3.039710760116577,
          -7.005021572113037,
          3.276339054107666,
          -6.539169788360596,
          -4.7600626945495605,
          13.129842758178711,
          -6.9850053787231445,
          9.720231056213379,
          0.1796010583639145,
          -8.602879524230957,
          -5.722071647644043,
          -1.0049525499343872,
          -2.5770411491394043,
          0.0053922999650239944,
          6.86199951171875,
          0.6478297710418701,
          1.7535587549209595,
          0.35004743933677673,
          -6.283878326416016,
          3.53468656539917,
          -5.781588554382324,
          4.918066024780273,
          0.8515419363975525,
          -4.639481544494629,
          2.7442281246185303,
          3.0752031803131104,
          -3.3648500442504883,
          -1.187018871307373,
          -8.412688255310059,
          6.5003662109375,
          -3.6807408332824707,
          -12.970714569091797,
          10.1839017868042,
          -9.291351318359375,
          15.214412689208984,
          8.689203262329102,
          13.231172561645508,
          -14.013836860656738,
          -7.78208589553833,
          4.459640979766846,
          9.206914901733398,
          1.421822190284729,
          -1.538791298866272,
          -0.4261055886745453,
          -2.8923323154449463,
          8.087297439575195,
          1.995818018913269,
          2.5908257961273193,
          -6.032017230987549,
          -6.892335891723633,
          -14.059318542480469,
          2.877495527267456,
          -3.0776584148406982,
          -1.5249605178833008,
          10.994685173034668,
          3.639085531234741,
          15.989782333374023,
          -3.2026562690734863,
          1.282512903213501,
          -0.038026515394449234,
          -0.5388020277023315,
          -2.928032159805298,
          -3.0190908908843994,
          -3.7579476833343506,
          -2.4849720001220703,
          10.58694839477539,
          -4.834835529327393,
          -9.861001014709473,
          -5.747704029083252,
          13.186119079589844,
          -11.290410041809082,
          7.871190071105957,
          11.541777610778809,
          4.389618873596191,
          -9.335408210754395,
          -8.176851272583008,
          -5.066936016082764,
          -4.736912727355957,
          1.1349178552627563,
          -3.824425220489502,
          -5.093036651611328,
          -4.909969329833984,
          -9.813008308410645,
          3.0648458003997803,
          2.158191204071045,
          -12.580007553100586,
          0.7305166125297546,
          1.5961766242980957,
          4.034342288970947,
          -10.725418090820312,
          -2.222135543823242,
          6.55150032043457,
          8.334175109863281,
          -9.432353019714355,
          -0.2679789364337921,
          -10.147799491882324,
          1.177040457725525,
          5.775937557220459,
          5.212892532348633,
          -7.033924579620361,
          -5.8541131019592285,
          2.4137723445892334,
          -9.905858039855957,
          -1.430577278137207,
          5.854303359985352,
          6.297567844390869,
          -1.549385666847229,
          -7.408541679382324,
          4.717172145843506,
          -2.8720176219940186,
          12.672980308532715,
          -9.271509170532227,
          -7.3701934814453125,
          12.230135917663574,
          -7.658938407897949,
          0.5148541927337646,
          0.561255693435669,
          5.693314075469971,
          -0.39535975456237793,
          10.921157836914062,
          -1.3127593994140625,
          1.4200025796890259,
          0.8797034025192261,
          13.586197853088379,
          1.9955079555511475,
          2.8573031425476074,
          -4.129741668701172,
          8.750670433044434,
          0.9548544883728027,
          -7.734246730804443,
          -7.815797805786133,
          9.3235502243042,
          7.4719061851501465,
          -10.45394229888916,
          -5.70264196395874,
          -11.640633583068848,
          0.9018806219100952,
          10.825546264648438,
          -6.637042999267578,
          -5.809970378875732,
          11.282166481018066,
          -4.013333320617676,
          -14.736074447631836,
          3.7197320461273193,
          -5.396944046020508,
          -4.593332290649414,
          -8.333760261535645,
          -12.536260604858398,
          -2.894969940185547,
          -7.297921657562256,
          3.226080894470215,
          -1.5139399766921997,
          13.841540336608887,
          4.355172634124756,
          -11.665140151977539,
          -5.564029216766357,
          -13.2852201461792,
          -5.742461681365967,
          17.794574737548828,
          -0.5943175554275513,
          -1.1737849712371826,
          -14.71455192565918,
          -5.600098133087158,
          8.819950103759766,
          0.40316370129585266,
          2.8017618656158447,
          7.574150085449219,
          4.561281681060791,
          4.457775592803955,
          0.8264778256416321,
          1.100075125694275,
          -7.628905773162842,
          6.59921407699585,
          -5.928762912750244,
          -3.9587676525115967,
          -1.5396054983139038,
          -0.33877134323120117,
          0.30606961250305176,
          5.823783874511719,
          -11.000788688659668,
          8.57017707824707,
          3.754152774810791,
          7.323854446411133,
          -1.5028337240219116,
          -4.372745513916016,
          -9.583952903747559,
          -4.5351362228393555,
          8.472428321838379,
          3.205770492553711,
          1.0439200401306152,
          2.1247377395629883,
          -6.1909027099609375,
          -5.697315216064453,
          8.02406120300293,
          -2.067225694656372,
          -7.345156192779541,
          2.7650725841522217,
          -11.094874382019043,
          4.351254463195801,
          -8.17817497253418,
          -5.433591842651367,
          5.452608108520508,
          -7.148662090301514,
          10.072141647338867,
          -10.258406639099121,
          10.440232276916504,
          -1.2826564311981201,
          -1.0917222499847412,
          4.428818225860596,
          -10.953662872314453,
          1.5541839599609375,
          4.443464756011963,
          6.994206428527832,
          5.152390480041504,
          -5.67966890335083,
          9.410696983337402,
          1.3510981798171997,
          1.4507654905319214,
          2.6808419227600098,
          1.8380829095840454,
          12.924012184143066,
          3.561579704284668,
          0.8986912369728088,
          10.278788566589355,
          -6.061087608337402,
          3.032946825027466,
          2.887840509414673,
          -14.329534530639648,
          -0.011292669922113419,
          11.306402206420898,
          3.576005697250366,
          -2.6971147060394287,
          -3.5672357082366943,
          -12.81440544128418,
          -12.212656021118164,
          -3.103759765625,
          -10.087282180786133,
          -3.0326666831970215,
          10.795550346374512,
          -3.0145297050476074,
          12.867232322692871,
          7.965802192687988,
          -3.520651340484619,
          5.60970401763916,
          7.059380054473877,
          -3.5818185806274414,
          8.82984447479248,
          -4.560128211975098,
          4.567309856414795,
          -6.2382493019104,
          12.74126148223877,
          0.7827704548835754,
          5.647955417633057,
          8.93920612335205,
          -5.6251983642578125,
          6.644698619842529,
          2.958732843399048,
          -3.7846875190734863,
          -10.297030448913574,
          1.3271586894989014,
          -11.821501731872559,
          -12.428705215454102,
          -5.76024866104126,
          -11.104181289672852,
          -9.17538833618164,
          -3.751120090484619,
          -7.714125156402588,
          -4.551723480224609,
          2.1301393508911133,
          -0.13149820268154144,
          6.238410472869873,
          -6.8384222984313965,
          -13.965858459472656,
          -6.763734340667725,
          -6.849402904510498,
          -7.167720794677734,
          8.197319984436035,
          11.336109161376953,
          -10.474176406860352,
          -13.597698211669922,
          -2.0326409339904785,
          -10.60947322845459,
          5.267364978790283,
          -4.108820915222168,
          10.958250999450684,
          4.78475284576416,
          -0.21807613968849182,
          -8.469202041625977,
          4.0213398933410645,
          8.63634967803955,
          11.088354110717773,
          1.788083791732788,
          3.885453701019287,
          -6.464221000671387,
          -4.07384729385376,
          8.945123672485352,
          1.0413705110549927,
          -4.161148548126221,
          -11.805497169494629,
          1.4521214962005615,
          -5.192916393280029,
          -3.1381726264953613,
          1.4599764347076416,
          -2.9430017471313477,
          -2.262721061706543,
          4.100306510925293,
          6.9613776206970215,
          8.591438293457031,
          -11.77623462677002,
          -1.9549938440322876,
          -8.127284049987793,
          -0.10904030501842499,
          2.3059194087982178,
          1.99022376537323,
          4.077963829040527,
          10.191144943237305,
          -4.321284770965576,
          0.14442630112171173,
          1.7090253829956055,
          0.5333853960037231,
          2.4467453956604004,
          -4.9097700119018555,
          -7.5026140213012695,
          1.5409458875656128,
          3.1421027183532715,
          5.494278907775879,
          2.5019659996032715,
          -0.8485541343688965,
          -2.142897367477417,
          -5.584967613220215,
          -4.023746490478516,
          12.924571990966797,
          5.0354323387146,
          -7.824931621551514,
          -6.773110866546631,
          -8.765840530395508,
          5.048306465148926,
          -0.38625094294548035,
          -3.0210440158843994,
          -9.177483558654785,
          -6.730453014373779,
          4.222550868988037,
          10.324124336242676,
          4.268727779388428,
          1.327958106994629,
          -5.251827239990234,
          -1.9852856397628784,
          -8.870206832885742,
          -3.216433048248291,
          3.7408366203308105,
          11.348950386047363,
          10.456629753112793,
          6.071139812469482,
          0.821666955947876,
          10.826825141906738,
          -2.5441973209381104,
          7.748269081115723,
          -3.6901915073394775,
          3.6654577255249023,
          1.6998223066329956,
          -4.03951358795166,
          0.1817575842142105,
          -9.335531234741211,
          6.937265396118164,
          3.781085729598999,
          -5.826198577880859,
          -5.1130170822143555,
          3.2446789741516113,
          -2.0554773807525635,
          -1.6747426986694336,
          -2.586688756942749,
          8.958642959594727,
          10.908713340759277,
          10.986793518066406,
          4.560897350311279,
          -9.896299362182617,
          -8.902551651000977,
          11.415523529052734,
          -0.5451082587242126,
          -7.588220596313477,
          7.425088882446289,
          -7.390257358551025,
          -0.529301106929779,
          -4.174294948577881,
          -4.71136999130249,
          -2.6101701259613037,
          5.8313517570495605,
          5.002871036529541,
          1.1427195072174072,
          1.3598779439926147,
          1.2745227813720703,
          4.531577110290527,
          10.062142372131348,
          4.795182704925537,
          -11.558734893798828,
          9.44379997253418,
          0.5709846019744873,
          -1.6856391429901123,
          2.3058969974517822,
          5.185549259185791,
          -0.1709568202495575,
          -9.46129035949707,
          4.538662910461426,
          4.647064685821533,
          -9.438703536987305,
          -5.502226829528809,
          5.409511089324951,
          0.6073752641677856,
          3.049525499343872,
          -7.339324474334717,
          -0.3744804263114929,
          9.500864028930664,
          -9.107497215270996,
          -8.341846466064453,
          -7.797652721405029,
          7.428788185119629,
          9.228376388549805,
          -3.113898754119873,
          11.69039249420166,
          12.57524585723877,
          12.376618385314941,
          -1.6679822206497192,
          11.083845138549805,
          5.838281631469727,
          -3.3858954906463623,
          11.629938125610352,
          10.40422248840332,
          2.416245222091675,
          -0.2738071084022522,
          -4.775134563446045,
          -6.594120025634766,
          -14.188640594482422,
          1.6558252573013306,
          -8.332847595214844,
          12.676626205444336,
          8.685362815856934,
          -3.404568910598755,
          -3.5346872806549072,
          6.49500846862793,
          5.601161479949951,
          -4.886843681335449,
          0.6858580112457275,
          1.2580822706222534,
          -5.794147968292236,
          -8.861804962158203,
          -7.86004638671875,
          -1.7448835372924805,
          -8.434330940246582,
          -3.7844858169555664,
          2.644850492477417,
          -8.862646102905273,
          3.0808684825897217,
          -7.872783660888672,
          8.49765396118164,
          -0.2845800220966339,
          -3.652315616607666,
          -2.437997341156006,
          4.277074337005615,
          -3.7125608921051025,
          -3.688776969909668,
          6.455537796020508,
          -0.7882072925567627,
          -0.2854548692703247,
          -5.074735164642334,
          2.887413740158081,
          -10.126923561096191,
          8.894487380981445,
          -6.556576251983643,
          5.67169189453125,
          -4.338776111602783,
          -10.197471618652344,
          4.295844554901123,
          5.694007396697998,
          4.744067668914795,
          -1.4273390769958496,
          4.029431343078613,
          -6.762720584869385,
          -4.067302703857422,
          5.986403942108154,
          11.5630464553833,
          -2.5523312091827393,
          7.008435249328613,
          5.749209880828857,
          8.853948593139648,
          12.050708770751953,
          -6.227712631225586,
          14.030457496643066,
          -8.555862426757812,
          9.041651725769043,
          -4.341224193572998,
          5.677609920501709,
          3.018953323364258,
          -5.465227127075195,
          -4.338795185089111,
          1.8538329601287842,
          9.284762382507324,
          -6.978664875030518,
          7.475405693054199,
          -3.3851442337036133,
          2.7842626571655273,
          7.347321033477783,
          4.4146881103515625,
          -7.712732791900635,
          13.290666580200195,
          -2.5241544246673584,
          2.6257314682006836,
          1.8053333759307861,
          12.608708381652832,
          8.78978443145752,
          7.528049945831299,
          -6.90265417098999,
          -4.176013946533203,
          -2.8133678436279297,
          -13.607412338256836,
          0.15024898946285248,
          -9.460604667663574,
          -14.114789962768555,
          1.9708034992218018,
          5.525418758392334,
          -10.51014232635498,
          12.648735046386719,
          3.4030468463897705,
          -6.108767986297607,
          -3.133016347885132,
          0.9381924271583557,
          8.999269485473633,
          3.8206183910369873,
          -3.0189225673675537,
          -6.925668239593506,
          6.625214099884033,
          -1.4197498559951782,
          -0.4476296305656433,
          -10.403618812561035,
          -1.618937373161316,
          6.933590888977051,
          -6.393714427947998,
          -3.792962074279785,
          -2.6884565353393555,
          -13.853635787963867,
          -6.134571075439453,
          -2.5806100368499756,
          8.929474830627441,
          -6.979379653930664,
          -2.9572155475616455,
          7.329456806182861,
          4.219254016876221,
          8.72024154663086,
          -4.044765472412109,
          6.1262712478637695,
          -0.2668832838535309,
          0.1943904608488083,
          -2.4292662143707275,
          -5.4934539794921875,
          -0.9725284576416016,
          0.30848950147628784,
          -8.589215278625488,
          0.14569419622421265,
          10.155206680297852,
          -2.029341697692871,
          -0.22741416096687317,
          0.9674515128135681,
          -10.186833381652832,
          -7.496176719665527,
          -9.235737800598145,
          -6.163422584533691,
          13.62753963470459,
          11.153915405273438,
          -15.168482780456543,
          -5.420149326324463,
          2.1418631076812744,
          7.492020606994629,
          -11.429829597473145,
          2.1742355823516846,
          4.716658592224121,
          3.0858981609344482,
          8.711084365844727,
          0.6349607706069946,
          0.39757758378982544,
          -1.0632723569869995,
          -5.778824329376221,
          -4.117569446563721,
          -1.985835075378418,
          10.161360740661621,
          5.555479526519775,
          -11.39966869354248,
          5.834043502807617,
          -1.9272360801696777,
          6.906980514526367,
          3.832407236099243,
          -0.18038426339626312,
          11.253363609313965,
          -4.533071994781494,
          -3.8448338508605957,
          7.116217136383057,
          9.260391235351562,
          -9.523699760437012,
          12.645316123962402,
          -9.217281341552734,
          2.8064935207366943,
          3.483548641204834,
          -5.230702877044678,
          -6.4791717529296875,
          -7.544774532318115,
          9.73415756225586,
          -5.7911248207092285,
          -3.3815853595733643,
          13.613988876342773,
          -3.5221855640411377,
          -5.383612155914307,
          -5.299423694610596,
          -11.87912368774414,
          -11.741802215576172,
          4.956729412078857,
          -3.506951093673706,
          -1.0176670551300049,
          9.054271697998047,
          10.12290096282959,
          6.2802629470825195,
          6.478922367095947,
          5.374428749084473,
          8.618370056152344,
          -10.688864707946777,
          1.8161402940750122,
          -9.714969635009766,
          9.606905937194824,
          8.088533401489258,
          -14.223356246948242,
          1.1989617347717285,
          10.561055183410645,
          -4.1283159255981445,
          6.038771152496338,
          13.449647903442383,
          2.8382444381713867,
          -4.29478120803833,
          -11.769610404968262,
          -2.965806007385254,
          -2.5148720741271973,
          6.262537956237793,
          -1.5696957111358643,
          -0.6812555193901062,
          5.023983955383301,
          -1.3365005254745483,
          -3.763368844985962,
          -13.610098838806152,
          -3.38218092918396,
          9.360764503479004,
          -4.943252086639404,
          -3.954352855682373,
          -5.8375420570373535,
          7.556789875030518,
          -7.945620059967041,
          -6.176285743713379,
          -6.980808258056641,
          -3.9790968894958496,
          -11.15053653717041,
          6.921419143676758,
          -14.239845275878906,
          -0.06707902252674103,
          -11.426339149475098,
          -7.089449405670166,
          10.096884727478027,
          4.102575778961182,
          -7.349632263183594,
          4.223755836486816,
          -4.3223772048950195,
          13.2029390335083,
          1.075984001159668,
          -2.878880262374878,
          11.331957817077637,
          -6.333014965057373,
          -2.729739189147949,
          -3.844200611114502,
          -1.7406120300292969,
          4.435466766357422,
          -0.26880380511283875,
          3.2215967178344727,
          -11.157691955566406,
          5.104153156280518,
          -3.952542781829834,
          1.7364773750305176,
          -1.693960428237915,
          10.267494201660156,
          -3.11952805519104,
          9.808064460754395,
          -9.961359024047852,
          -0.8729338049888611,
          -6.913360118865967,
          6.330272197723389,
          -7.259368896484375,
          -12.149762153625488,
          -0.9722715616226196,
          -3.4310247898101807,
          -7.6042046546936035,
          -10.45559310913086,
          -0.36362576484680176,
          -2.4026424884796143,
          7.86132287979126,
          10.733930587768555,
          -7.995017051696777,
          -6.964820384979248,
          6.05021333694458,
          -6.644750595092773,
          -3.409574031829834,
          -2.146130084991455,
          -2.1471128463745117,
          -2.60306453704834,
          -6.922508239746094,
          9.013429641723633,
          2.2596633434295654,
          11.314963340759277,
          7.0949578285217285,
          -3.093233823776245,
          -4.010822296142578,
          4.52101993560791,
          -7.32759952545166,
          -8.775657653808594,
          11.019776344299316,
          -5.475204944610596,
          12.426216125488281,
          -3.7543091773986816,
          3.2743284702301025,
          10.504983901977539,
          -12.668161392211914,
          -0.9347090125083923,
          -3.5567028522491455,
          13.817988395690918,
          13.69267463684082,
          0.6904296278953552,
          -7.660681247711182,
          13.629840850830078,
          -9.195345878601074,
          -0.5440739989280701,
          12.296606063842773,
          -5.024779319763184,
          11.400443077087402,
          0.5091552138328552,
          -2.4488532543182373,
          0.26539146900177,
          5.674351692199707,
          -7.575151443481445,
          -2.974346160888672,
          -14.286999702453613,
          -0.548724889755249,
          -11.97878646850586,
          10.430838584899902,
          7.758951187133789,
          6.698058605194092,
          -4.6063103675842285,
          -2.2611725330352783,
          2.8541276454925537,
          -8.098847389221191,
          7.709230422973633,
          -0.550407886505127,
          3.278035879135132,
          10.163917541503906,
          -5.374445915222168,
          10.77411937713623,
          11.85953140258789,
          12.736150741577148,
          -1.0722315311431885,
          4.025679111480713,
          5.548900127410889,
          -0.732515275478363,
          7.692203998565674,
          6.771459579467773,
          -9.882462501525879,
          -1.977205753326416,
          5.37925386428833,
          1.6065921783447266,
          13.160860061645508,
          -4.230999946594238,
          -11.142583847045898,
          4.066503524780273,
          2.3295109272003174,
          8.86196517944336,
          3.0221593379974365,
          1.787740707397461,
          -14.391944885253906,
          -5.481832981109619,
          -7.755966663360596,
          -3.815247058868408,
          12.819684982299805,
          -7.234087944030762,
          -3.2690649032592773,
          11.715389251708984,
          -10.411322593688965,
          -13.823015213012695,
          6.847805500030518,
          -6.726582050323486,
          9.224984169006348,
          0.54253089427948,
          -3.4944655895233154,
          5.83378791809082,
          -7.674256801605225,
          8.718027114868164,
          -2.8586626052856445,
          10.113821983337402,
          -6.268914699554443,
          12.356579780578613,
          -7.467246055603027,
          3.940894365310669,
          1.6661479473114014,
          -6.067786693572998,
          -0.7562403678894043,
          12.777022361755371,
          -0.01226809248328209,
          -11.167902946472168,
          0.9670395255088806,
          3.1172847747802734,
          10.436826705932617,
          10.758638381958008,
          -7.9059906005859375,
          11.372533798217773,
          -4.9410786628723145,
          5.787501811981201,
          1.6177271604537964,
          1.2299017906188965,
          -2.2096481323242188,
          1.4138000011444092,
          -5.790667533874512,
          2.9818966388702393,
          -2.7699899673461914,
          11.570761680603027,
          3.802138328552246,
          -6.681304454803467,
          0.11901505291461945,
          -12.403877258300781,
          -1.1582900285720825,
          13.34085464477539,
          -11.589653968811035,
          -8.736421585083008,
          -14.643536567687988,
          7.862613677978516,
          -5.0550384521484375,
          3.4840359687805176,
          -6.145802974700928,
          -12.650492668151855,
          11.962882041931152,
          6.249564170837402,
          -4.903648376464844,
          2.5786514282226562,
          -12.652615547180176,
          1.8047865629196167,
          -4.1539106369018555,
          5.620537281036377,
          -3.612642765045166,
          -0.047816090285778046,
          10.827862739562988,
          0.22948144376277924,
          10.968710899353027,
          10.108321189880371,
          -5.455323219299316,
          2.1191093921661377,
          6.519627571105957,
          11.353608131408691,
          -1.616021990776062,
          7.283315181732178,
          -2.5344722270965576,
          -6.240606784820557,
          14.266542434692383,
          -6.928764343261719,
          10.684981346130371,
          -9.641374588012695,
          -0.10807216167449951,
          -6.590855121612549,
          -2.0327658653259277,
          -7.049167633056641,
          10.155111312866211,
          3.5889334678649902,
          -3.0129995346069336,
          1.9769206047058105,
          5.4319047927856445,
          -8.303552627563477,
          -8.483719825744629,
          6.056496620178223,
          -3.1988139152526855,
          -4.4682111740112305,
          12.48244857788086,
          -4.937258243560791,
          11.378053665161133,
          -7.93710470199585,
          -5.679846286773682,
          -4.45763635635376,
          -0.984745979309082,
          -7.240316390991211,
          -6.697494029998779,
          1.0038385391235352,
          -4.513951778411865,
          9.352999687194824,
          -6.054281234741211,
          -5.139325141906738,
          -2.540893316268921,
          0.4934256374835968,
          -7.772396087646484,
          -11.96037483215332,
          9.168386459350586,
          6.8842973709106445,
          9.980228424072266,
          5.362450122833252,
          13.107683181762695,
          -6.9726433753967285,
          -7.383229732513428,
          -6.940751075744629,
          -5.5895771980285645,
          -10.013151168823242,
          -12.708794593811035,
          8.499472618103027,
          5.313710689544678,
          -8.172083854675293,
          5.299531936645508,
          11.221853256225586,
          6.035426616668701,
          6.329880714416504,
          2.0211188793182373,
          -6.341026782989502,
          6.399942398071289,
          -1.490395426750183,
          6.040493488311768,
          -4.7023491859436035,
          -4.875252723693848,
          6.126148223876953,
          -3.181051254272461,
          12.530580520629883,
          4.260962009429932,
          -8.860337257385254
         ],
         "z": [
          5.835107803344727,
          -4.036101818084717,
          -3.7248926162719727,
          0.4283387362957001,
          7.493292331695557,
          -2.2206966876983643,
          -4.020434379577637,
          -14.34920883178711,
          7.881592750549316,
          0.15048538148403168,
          9.787038803100586,
          -8.055757522583008,
          2.174315929412842,
          6.845155715942383,
          -13.539274215698242,
          -2.391491174697876,
          13.229514122009277,
          -15.926149368286133,
          -5.3936381340026855,
          -15.402854919433594,
          1.4913325309753418,
          4.9516448974609375,
          10.889764785766602,
          7.279136657714844,
          -9.817659378051758,
          -12.778167724609375,
          -3.8959295749664307,
          -15.464516639709473,
          -16.02654457092285,
          11.65135383605957,
          -1.3933007717132568,
          0.27533668279647827,
          6.1605224609375,
          1.5622152090072632,
          -4.791057586669922,
          3.2538232803344727,
          6.757731914520264,
          1.84877610206604,
          1.2030837535858154,
          -12.78894329071045,
          -2.049755096435547,
          -13.28106689453125,
          6.799290180206299,
          1.0189235210418701,
          -12.86470890045166,
          -3.2379441261291504,
          -3.1848056316375732,
          -11.791834831237793,
          -5.003680229187012,
          -10.94267749786377,
          5.578096866607666,
          3.532874584197998,
          4.424661636352539,
          -4.004293918609619,
          4.205752849578857,
          -4.04982852935791,
          7.215858459472656,
          -16.40205192565918,
          -4.683226108551025,
          -4.010897159576416,
          1.8296195268630981,
          7.0116496086120605,
          -3.680809736251831,
          -7.810861587524414,
          4.605220794677734,
          7.115035057067871,
          7.162720203399658,
          10.333232879638672,
          7.0970234870910645,
          4.676191806793213,
          -4.155651569366455,
          0.3535958230495453,
          -4.216895580291748,
          7.343057155609131,
          -5.352886199951172,
          -2.1083810329437256,
          2.5468544960021973,
          3.1450355052948,
          -3.5275661945343018,
          7.7540364265441895,
          8.3186616897583,
          -10.129547119140625,
          7.097017765045166,
          -7.36692476272583,
          4.565813064575195,
          13.633423805236816,
          -6.4511284828186035,
          7.571881294250488,
          0.3142286539077759,
          -11.325542449951172,
          11.164369583129883,
          6.721809387207031,
          -0.828984260559082,
          5.570606708526611,
          2.3338167667388916,
          7.205207824707031,
          0.5012018084526062,
          -4.956521987915039,
          -2.0544943809509277,
          -6.250774383544922,
          -4.055942058563232,
          6.635959625244141,
          -3.933817148208618,
          10.33909797668457,
          3.266167640686035,
          -6.508954048156738,
          -1.3926641941070557,
          5.700210094451904,
          -1.3287672996520996,
          -5.367002010345459,
          8.322622299194336,
          12.727315902709961,
          4.6958746910095215,
          -5.235422134399414,
          0.3356435000896454,
          8.55632209777832,
          5.4493279457092285,
          10.74292278289795,
          8.532252311706543,
          5.902755260467529,
          5.225360870361328,
          7.167218208312988,
          3.3498237133026123,
          9.481818199157715,
          2.7029993534088135,
          -3.458345413208008,
          7.46078634262085,
          -1.269975185394287,
          0.3808228671550751,
          -8.29799747467041,
          9.2302827835083,
          6.819727897644043,
          3.116727352142334,
          -11.73442268371582,
          2.080810070037842,
          0.4671493470668793,
          -13.399360656738281,
          -14.047931671142578,
          0.6112828254699707,
          8.004011154174805,
          5.519122123718262,
          13.636762619018555,
          -3.9075276851654053,
          4.164618015289307,
          -14.985875129699707,
          -0.09473970532417297,
          0.2624357342720032,
          -11.045654296875,
          3.4094607830047607,
          14.427793502807617,
          -12.998262405395508,
          6.949183464050293,
          9.39698314666748,
          10.411391258239746,
          -2.145235538482666,
          7.917445659637451,
          2.1956284046173096,
          9.113749504089355,
          -6.157626628875732,
          -8.507170677185059,
          -6.512701034545898,
          1.3241454362869263,
          -2.311829090118408,
          -9.34976577758789,
          5.227975368499756,
          -1.9336315393447876,
          -4.145333290100098,
          -7.284709453582764,
          8.159354209899902,
          -9.525871276855469,
          -17.127668380737305,
          -1.5329560041427612,
          6.77979850769043,
          -0.3637808859348297,
          8.77365493774414,
          -9.027985572814941,
          -3.0595760345458984,
          -3.7868521213531494,
          2.301724910736084,
          7.606924057006836,
          -6.335894584655762,
          2.125504732131958,
          -12.491828918457031,
          0.01812887191772461,
          3.263212203979492,
          -8.709383964538574,
          -13.762924194335938,
          0.9972776174545288,
          -0.9544697999954224,
          6.105742454528809,
          -6.9860429763793945,
          7.857273578643799,
          -7.478226184844971,
          -1.0235320329666138,
          -14.261737823486328,
          -1.96181321144104,
          8.040141105651855,
          -2.697753667831421,
          3.725616931915283,
          -12.338250160217285,
          0.39473024010658264,
          1.8719916343688965,
          2.1458849906921387,
          3.307396411895752,
          9.938409805297852,
          1.0543221235275269,
          -16.494792938232422,
          -16.458656311035156,
          2.7318930625915527,
          4.590263843536377,
          4.734238147735596,
          9.079142570495605,
          -5.299083232879639,
          0.6277086734771729,
          -7.8762359619140625,
          -12.11799430847168,
          -5.627387523651123,
          -5.530149459838867,
          -1.1108320951461792,
          -10.485478401184082,
          -13.540172576904297,
          -4.113622188568115,
          -2.4530560970306396,
          4.1586151123046875,
          -5.811302661895752,
          8.632564544677734,
          -3.0471255779266357,
          6.449179649353027,
          -14.632843971252441,
          8.328133583068848,
          6.842981338500977,
          -4.343097686767578,
          5.494475364685059,
          1.955588459968567,
          3.325099468231201,
          3.790778160095215,
          -0.7486031651496887,
          2.8049490451812744,
          -0.8815314173698425,
          -15.524744987487793,
          -1.470851182937622,
          7.076722145080566,
          1.6613330841064453,
          7.0465264320373535,
          -11.672313690185547,
          3.9940857887268066,
          1.2880127429962158,
          -9.465803146362305,
          -5.513844966888428,
          -0.732656717300415,
          -14.967833518981934,
          4.594925403594971,
          -1.0209722518920898,
          5.494488716125488,
          -0.39598891139030457,
          8.514325141906738,
          -2.9952781200408936,
          -12.565569877624512,
          5.514090538024902,
          -7.942971229553223,
          -12.996506690979004,
          -4.044617652893066,
          -2.562069892883301,
          8.199838638305664,
          12.66213607788086,
          3.2888689041137695,
          4.075534343719482,
          2.625035047531128,
          5.22619104385376,
          4.217340469360352,
          0.8961017727851868,
          4.651124954223633,
          -10.991164207458496,
          0.09816880524158478,
          5.998941898345947,
          7.446065425872803,
          11.665414810180664,
          0.5663931965827942,
          -3.140519142150879,
          -5.177647113800049,
          -7.068082809448242,
          -9.742834091186523,
          5.342188358306885,
          -6.779542446136475,
          -0.7701531648635864,
          11.862412452697754,
          4.360803127288818,
          -2.813358783721924,
          -2.408972978591919,
          -13.907716751098633,
          9.862228393554688,
          -5.472374439239502,
          -6.193693161010742,
          9.6420259475708,
          4.244009494781494,
          -0.36848440766334534,
          -2.583305835723877,
          10.925238609313965,
          -11.492866516113281,
          -6.003562927246094,
          -2.44219970703125,
          -4.184581279754639,
          2.0779571533203125,
          -4.1472296714782715,
          -0.6114065051078796,
          -3.525222063064575,
          -4.748141288757324,
          -2.5445752143859863,
          -9.473673820495605,
          -3.2804436683654785,
          5.379606246948242,
          -0.05885881930589676,
          4.596816539764404,
          3.5578534603118896,
          1.3776992559432983,
          6.000048637390137,
          -7.654089450836182,
          -8.809874534606934,
          -14.664132118225098,
          -1.7451081275939941,
          -3.512418031692505,
          -1.2613097429275513,
          8.753548622131348,
          6.703110218048096,
          -3.574718713760376,
          11.38668155670166,
          0.8000701069831848,
          9.946025848388672,
          6.9574785232543945,
          4.852053165435791,
          4.284610748291016,
          5.867513179779053,
          9.335899353027344,
          1.8898345232009888,
          9.206605911254883,
          0.17423592507839203,
          -10.484776496887207,
          -12.707836151123047,
          11.953540802001953,
          -6.049877166748047,
          3.6208417415618896,
          9.592957496643066,
          -1.1580580472946167,
          3.740877628326416,
          -6.569180011749268,
          2.5126705169677734,
          7.827943801879883,
          -1.9143500328063965,
          -16.2225284576416,
          -6.523024082183838,
          12.198098182678223,
          1.3795561790466309,
          3.270270586013794,
          -5.073159217834473,
          -9.423463821411133,
          -1.3616188764572144,
          -6.338290691375732,
          -14.163995742797852,
          11.506308555603027,
          -12.048860549926758,
          -17.004098892211914,
          -3.652898073196411,
          8.88907241821289,
          8.78541374206543,
          -11.525086402893066,
          8.666665077209473,
          -2.6574270725250244,
          6.727566242218018,
          0.7567864656448364,
          1.6457536220550537,
          -12.157978057861328,
          2.0757954120635986,
          5.015317440032959,
          2.6433675289154053,
          4.8333611488342285,
          -9.374290466308594,
          -2.162713050842285,
          2.7507739067077637,
          1.807586431503296,
          -4.954526424407959,
          -6.72961950302124,
          -9.397088050842285,
          -5.242214202880859,
          1.5209943056106567,
          -2.737041473388672,
          -11.151346206665039,
          -1.6887609958648682,
          1.2677407264709473,
          8.005449295043945,
          -9.143781661987305,
          5.600616455078125,
          -4.125888347625732,
          -11.625568389892578,
          -1.663175344467163,
          -0.668222963809967,
          1.6290788650512695,
          -0.22349397838115692,
          1.3445850610733032,
          3.478898048400879,
          9.983377456665039,
          1.82061767578125,
          -1.7693382501602173,
          -6.559661388397217,
          2.805676221847534,
          7.174228668212891,
          9.427505493164062,
          1.1669811010360718,
          3.1483240127563477,
          -2.6602272987365723,
          -7.482431411743164,
          -15.204771041870117,
          -0.931929349899292,
          -8.935574531555176,
          -8.942419052124023,
          4.112820625305176,
          3.241741180419922,
          -9.705906867980957,
          -8.613913536071777,
          1.1382551193237305,
          7.419290065765381,
          6.663226127624512,
          -0.42171886563301086,
          5.18609094619751,
          0.7433390021324158,
          5.568531036376953,
          -7.427751541137695,
          8.489514350891113,
          9.618094444274902,
          -15.129827499389648,
          -5.0005202293396,
          -2.133127212524414,
          7.006065845489502,
          -0.2407044768333435,
          6.81355094909668,
          1.0204881429672241,
          0.622157633304596,
          5.395759582519531,
          -2.1139798164367676,
          3.3556265830993652,
          -7.820087432861328,
          -5.524271011352539,
          7.947876930236816,
          4.254002571105957,
          3.1283178329467773,
          4.653512001037598,
          5.96282958984375,
          4.698265552520752,
          0.7577123641967773,
          10.030674934387207,
          5.982177734375,
          -0.09985000640153885,
          0.8588962554931641,
          -0.2236596792936325,
          5.328651428222656,
          4.800454616546631,
          -6.7423481941223145,
          -2.294212818145752,
          9.555841445922852,
          3.9520761966705322,
          1.713268756866455,
          4.391805648803711,
          -0.1243644654750824,
          -3.708543062210083,
          -13.263256072998047,
          -1.6008765697479248,
          -15.869372367858887,
          2.4441304206848145,
          0.14654919505119324,
          -4.805180549621582,
          -4.367335796356201,
          6.881447792053223,
          1.6027655601501465,
          1.9111127853393555,
          8.371811866760254,
          1.766210675239563,
          5.2979021072387695,
          8.667128562927246,
          -5.542840003967285,
          -0.17279818654060364,
          8.741567611694336,
          5.108293533325195,
          -1.112882375717163,
          -7.1903815269470215,
          2.9180502891540527,
          -14.903568267822266,
          1.1317716836929321,
          2.183889150619507,
          10.239073753356934,
          -6.172298908233643,
          2.4963650703430176,
          -1.6579859256744385,
          5.191709041595459,
          10.463790893554688,
          9.545437812805176,
          -10.252555847167969,
          -4.54612398147583,
          -1.692687749862671,
          -13.086053848266602,
          -4.604353904724121,
          2.4856927394866943,
          -4.2462992668151855,
          -3.3970305919647217,
          3.8437623977661133,
          5.0665812492370605,
          7.813133716583252,
          -14.080617904663086,
          -7.132572174072266,
          7.94597053527832,
          -14.178665161132812,
          3.1020374298095703,
          -7.3646769523620605,
          8.884193420410156,
          -7.693625450134277,
          -2.928586006164551,
          -5.4730095863342285,
          2.4804375171661377,
          -0.22107943892478943,
          -11.796765327453613,
          -8.533299446105957,
          3.406827926635742,
          11.117361068725586,
          -5.746186256408691,
          8.220682144165039,
          4.835812091827393,
          2.6707396507263184,
          1.1857761144638062,
          -2.7694129943847656,
          -1.2023930549621582,
          10.928680419921875,
          -13.840349197387695,
          -5.015330791473389,
          -6.566250801086426,
          -3.5992014408111572,
          8.97584056854248,
          8.82532787322998,
          1.2537462711334229,
          2.525710105895996,
          4.548973083496094,
          -8.574976921081543,
          4.458944320678711,
          9.449918746948242,
          -1.9453181028366089,
          -14.268843650817871,
          9.255127906799316,
          7.636719703674316,
          -15.136595726013184,
          -0.102055124938488,
          0.7312376499176025,
          0.5912835001945496,
          10.41949462890625,
          -0.19742226600646973,
          5.206940650939941,
          2.9370107650756836,
          2.2130284309387207,
          -7.017588138580322,
          2.8471059799194336,
          8.883387565612793,
          -2.999208688735962,
          14.23330307006836,
          1.8575764894485474,
          5.201391220092773,
          0.17591765522956848,
          -5.138584136962891,
          -2.2077441215515137,
          10.932897567749023,
          11.369215965270996,
          11.564590454101562,
          -14.126022338867188,
          -0.006941617466509342,
          -0.5684764981269836,
          -9.919027328491211,
          -13.510050773620605,
          11.282194137573242,
          0.8917369842529297,
          6.90272331237793,
          -0.9831675887107849,
          6.387170791625977,
          -0.08303368091583252,
          -0.09637611359357834,
          8.311394691467285,
          -6.031982898712158,
          -8.967246055603027,
          6.839612007141113,
          1.9999589920043945,
          3.1202592849731445,
          -4.1993536949157715,
          8.867393493652344,
          9.232850074768066,
          8.361878395080566,
          4.2430572509765625,
          -11.847599983215332,
          -6.0470452308654785,
          -3.0231707096099854,
          -4.873960494995117,
          4.691068172454834,
          -11.829492568969727,
          1.0365067720413208,
          -11.818772315979004,
          7.375268459320068,
          0.8971515893936157,
          -14.376216888427734,
          4.108528137207031,
          -8.480113983154297,
          6.511273384094238,
          -9.412605285644531,
          -4.415702819824219,
          3.4224443435668945,
          7.53715705871582,
          1.5935825109481812,
          6.592382431030273,
          7.110064506530762,
          -4.067074298858643,
          -0.25261929631233215,
          11.847336769104004,
          3.091373920440674,
          1.8841058015823364,
          3.764364004135132,
          1.8786251544952393,
          3.236292600631714,
          -3.917832136154175,
          9.98501968383789,
          7.377346515655518,
          10.13010025024414,
          7.989516735076904,
          -8.225038528442383,
          -7.012088775634766,
          5.325479984283447,
          5.761770725250244,
          -14.66899585723877,
          -4.457390308380127,
          7.278445243835449,
          3.6300928592681885,
          7.019642353057861,
          -0.8307778835296631,
          6.719895362854004,
          6.76353645324707,
          13.691039085388184,
          4.5611090660095215,
          6.042628288269043,
          9.165851593017578,
          5.166064262390137,
          0.5793291926383972,
          1.0217801332473755,
          9.306314468383789,
          6.13968563079834,
          -8.879901885986328,
          0.5891575813293457,
          2.2641632556915283,
          4.651358127593994,
          7.484080791473389,
          9.14268970489502,
          -2.8050012588500977,
          3.872443914413452,
          2.7882094383239746,
          1.914751410484314,
          -0.07089726626873016,
          -16.020122528076172,
          8.091326713562012,
          13.504866600036621,
          -12.005049705505371,
          -7.614354133605957,
          2.111074209213257,
          7.104305267333984,
          -0.46304193139076233,
          5.020086765289307,
          -4.701574802398682,
          -8.766714096069336,
          -8.820218086242676,
          -4.033115863800049,
          -0.8283129334449768,
          0.16096848249435425,
          9.030083656311035,
          8.395169258117676,
          1.4658055305480957,
          -2.3273372650146484,
          -13.510581016540527,
          2.6261215209960938,
          -12.114580154418945,
          8.958903312683105,
          -16.093687057495117,
          -3.047644853591919,
          8.478984832763672,
          6.438784599304199,
          -3.7167716026306152,
          -6.088768005371094,
          7.92292594909668,
          12.594500541687012,
          -9.726914405822754,
          -3.5005648136138916,
          -0.0859239250421524,
          9.329231262207031,
          5.182697772979736,
          7.357548713684082,
          -4.25806999206543,
          -2.328033447265625,
          8.058286666870117,
          5.102789878845215,
          -3.242385149002075,
          -0.31051188707351685,
          7.400106430053711,
          11.588156700134277,
          -10.525277137756348,
          -2.2026522159576416,
          -9.159136772155762,
          2.053056240081787,
          -3.929060935974121,
          -9.101099014282227,
          -3.9434144496917725,
          0.1892406940460205,
          -7.556684494018555,
          -7.164328098297119,
          0.9931470155715942,
          -7.877826690673828,
          4.947567939758301,
          -15.599193572998047,
          10.547749519348145,
          -6.064970016479492,
          11.41493034362793,
          5.861151695251465,
          7.715512275695801,
          1.7474051713943481,
          -4.362024784088135,
          2.6090047359466553,
          6.318079471588135,
          -4.752557277679443,
          4.636834621429443,
          0.9194804430007935,
          -1.3742135763168335,
          -5.512492656707764,
          -7.983432769775391,
          -4.878870487213135,
          -3.7495908737182617,
          -10.980602264404297,
          3.4656803607940674,
          -0.9020066261291504,
          0.9296417236328125,
          2.578211545944214,
          0.8342912197113037,
          -13.425955772399902,
          -2.0321121215820312,
          1.8033405542373657,
          12.078401565551758,
          8.009967803955078,
          -11.030251502990723,
          -5.3745245933532715,
          3.7975549697875977,
          6.9968342781066895,
          -13.087305068969727,
          10.767070770263672,
          -3.7827847003936768,
          8.416695594787598,
          2.2710025310516357,
          11.938024520874023,
          -0.12885165214538574,
          3.311638832092285,
          5.9026970863342285,
          11.841438293457031,
          1.976991891860962,
          -1.9538248777389526,
          10.537711143493652,
          5.882241249084473,
          -1.0506324768066406,
          -1.3683589696884155,
          -14.045293807983398,
          -12.340227127075195,
          1.332015872001648,
          -0.20070099830627441,
          -1.9846034049987793,
          8.021716117858887,
          4.031888484954834,
          -2.0171890258789062,
          9.870451927185059,
          7.875799655914307,
          0.9530572295188904,
          -11.981128692626953,
          0.703737735748291,
          -3.3130972385406494,
          4.036276340484619,
          -7.979203701019287,
          7.4851975440979,
          -1.2008031606674194,
          -1.863274097442627,
          9.564776420593262,
          2.2001144886016846,
          13.268709182739258,
          7.203787326812744,
          -15.249398231506348,
          -8.977653503417969,
          6.824484825134277,
          -0.8917936086654663,
          -5.433102130889893,
          -12.2186279296875,
          8.216752052307129,
          -1.278285026550293,
          8.188709259033203,
          -2.8926608562469482,
          -8.082205772399902,
          2.876638650894165,
          10.252214431762695,
          -3.763322353363037,
          -9.816554069519043,
          0.7839065194129944,
          -9.939857482910156,
          -6.29722785949707,
          0.7832973003387451,
          -0.6095150113105774,
          -3.6457481384277344,
          1.5576372146606445,
          -0.24632741510868073,
          0.8047070503234863,
          7.749288558959961,
          -15.220831871032715,
          1.7236344814300537,
          -3.5765578746795654,
          4.619290351867676,
          1.5846328735351562,
          2.0790183544158936,
          0.6289519667625427,
          -8.41541862487793,
          -7.763423442840576,
          -9.382471084594727,
          6.618800163269043,
          11.740192413330078,
          -11.468016624450684,
          5.571991443634033,
          -1.4142074584960938,
          -12.891883850097656,
          2.5907137393951416,
          -5.364434242248535,
          3.073119640350342,
          13.568838119506836,
          7.298956871032715,
          2.6072545051574707,
          5.573291778564453,
          -0.6823127865791321,
          13.627649307250977,
          1.5492377281188965,
          2.738922357559204,
          6.387936115264893,
          -8.196199417114258,
          9.93701457977295,
          -0.25240856409072876,
          -11.39177131652832,
          2.803194284439087,
          -0.47983628511428833,
          1.4414151906967163,
          4.142376899719238,
          1.5301755666732788,
          8.182260513305664,
          -1.7714885473251343,
          4.2778801918029785,
          8.747005462646484,
          3.286311388015747,
          -13.28402328491211,
          3.855398416519165,
          -3.4011406898498535,
          -1.1171653270721436,
          -3.930469036102295,
          4.423246383666992,
          -2.5212628841400146,
          -4.66342306137085,
          5.672440052032471,
          1.5921236276626587,
          8.370487213134766,
          -4.141852855682373,
          -4.197172164916992,
          -7.773663520812988,
          1.7020721435546875,
          6.520138740539551,
          0.2768978178501129,
          0.6551235914230347,
          12.058067321777344,
          -12.250307083129883,
          -5.339170932769775,
          0.6581145524978638,
          12.97982406616211,
          -7.737167835235596,
          3.2015221118927,
          5.245584964752197,
          0.39695972204208374,
          -3.3478732109069824,
          8.55362319946289,
          -0.7870599031448364,
          -10.569378852844238,
          -7.535905361175537,
          0.06189045310020447,
          7.767360687255859,
          2.002858877182007,
          1.109392762184143,
          11.915462493896484,
          4.519400119781494,
          -5.902326583862305,
          3.7054922580718994,
          -14.682071685791016,
          5.808555603027344,
          -7.389654159545898,
          6.956335067749023,
          3.8886024951934814,
          -16.445743560791016,
          -16.743051528930664,
          6.573982238769531,
          -12.01659870147705,
          2.5688300132751465,
          3.080733299255371,
          2.456939220428467,
          -8.177330017089844,
          -13.502758979797363,
          2.692723274230957,
          -3.1895482540130615,
          -15.076421737670898,
          -4.003025054931641,
          -3.8577873706817627,
          10.835691452026367,
          2.016406536102295,
          5.192304611206055,
          -1.6914674043655396,
          -13.944377899169922,
          9.332598686218262,
          2.931462049484253,
          -14.782978057861328,
          -3.1040635108947754,
          5.847316741943359,
          -3.7886741161346436,
          -2.975003242492676,
          1.0011467933654785,
          -2.4839260578155518,
          -13.175398826599121,
          3.824169397354126,
          4.425271987915039,
          -13.625260353088379,
          1.4217250347137451,
          -14.221739768981934,
          -2.1763861179351807,
          -4.5710039138793945,
          -1.5803611278533936,
          6.769457817077637,
          4.686100006103516,
          -5.702352046966553,
          -3.034862995147705,
          -13.42227554321289,
          0.2595542371273041,
          -9.73033332824707,
          0.9190798997879028,
          0.16695579886436462,
          -7.0944390296936035,
          11.326559066772461,
          2.219458818435669,
          8.578970909118652,
          4.864578723907471,
          -11.498181343078613,
          8.115262031555176,
          -4.520057678222656,
          -8.763467788696289,
          8.610706329345703,
          -5.604838848114014,
          -1.5208433866500854,
          7.113574028015137,
          9.438777923583984,
          4.027927875518799,
          -0.08145080506801605,
          -2.765561819076538,
          -11.756961822509766,
          -3.77728271484375,
          -5.1903300285339355,
          -3.3515915870666504,
          2.960437059402466,
          -3.102665662765503,
          2.5105698108673096,
          8.87773609161377,
          -15.968180656433105,
          1.6925098896026611,
          5.8825483322143555,
          -6.244828701019287,
          4.060311794281006,
          6.530673980712891,
          0.9290863275527954,
          -3.9862589836120605,
          6.814210414886475,
          -13.070836067199707,
          -8.150203704833984,
          9.252452850341797,
          6.621433734893799,
          10.463838577270508,
          -15.79150390625,
          2.2855401039123535,
          -13.53244686126709,
          0.8197820782661438,
          -0.021572353318333626,
          1.4620306491851807,
          -1.7812411785125732,
          -11.541994094848633,
          2.75687575340271,
          2.811699628829956,
          4.593453884124756,
          10.836495399475098,
          7.6500091552734375,
          -6.972230434417725,
          1.0003457069396973,
          7.1394944190979,
          -9.364848136901855,
          -13.546525955200195,
          -7.881728172302246,
          -0.4397762417793274,
          -8.853377342224121,
          -4.245386123657227,
          -3.5273685455322266,
          -3.208435297012329,
          0.8108748197555542,
          5.057176113128662,
          -5.316921710968018,
          -14.4876070022583,
          0.08737776428461075,
          -4.056823253631592,
          0.4667518138885498,
          -4.075782775878906,
          6.802063465118408,
          5.201761245727539,
          1.1487421989440918,
          3.55112624168396,
          2.0781352519989014,
          7.6468071937561035,
          2.4545295238494873,
          4.7551798820495605,
          -8.185920715332031,
          1.5985137224197388,
          -1.624272346496582,
          11.848328590393066,
          7.911661148071289,
          6.886541366577148,
          -4.903493881225586,
          1.1477807760238647,
          4.164926528930664,
          3.319427728652954,
          1.6968697309494019,
          -12.26225471496582,
          9.8814697265625,
          -3.1126790046691895,
          -0.4151931703090668,
          2.6299352645874023,
          8.232775688171387,
          0.5099276900291443,
          -12.16598129272461,
          8.867226600646973,
          0.23187977075576782,
          13.191935539245605,
          5.922388076782227,
          -7.614055156707764,
          5.689579486846924,
          8.767516136169434,
          7.398054122924805,
          3.423994779586792,
          5.792735576629639,
          4.896975040435791,
          6.858428955078125,
          -3.318211078643799,
          -1.2300419807434082,
          -6.957420349121094,
          -0.012437041848897934,
          -5.376894950866699,
          1.3773949146270752,
          -7.797102928161621,
          8.886898040771484,
          -9.397324562072754,
          -1.9874697923660278,
          -14.626955032348633,
          7.996126174926758,
          -5.901060581207275,
          -7.392680644989014,
          9.836935043334961,
          8.081621170043945,
          -1.2569857835769653,
          4.926450252532959,
          4.394391059875488,
          2.9661312103271484,
          -14.777861595153809,
          1.25131356716156,
          7.969332695007324,
          -0.32144466042518616,
          1.6281800270080566,
          5.2547807693481445,
          2.8186185359954834,
          6.134470462799072,
          10.363797187805176,
          -8.79162311553955,
          4.536941051483154,
          4.98909854888916,
          -5.376171112060547,
          3.434299945831299,
          0.8722721338272095,
          -3.5467941761016846,
          -8.768078804016113,
          6.675095558166504,
          -1.5121077299118042,
          -0.6484700441360474,
          -0.7898217439651489,
          -1.7415157556533813,
          5.107445240020752,
          2.4435436725616455,
          -3.9143457412719727,
          4.164968967437744,
          0.9766501784324646,
          7.881010055541992,
          0.6450362205505371,
          0.7869070172309875,
          -6.878637790679932,
          -1.3625688552856445,
          3.4710240364074707,
          -10.387511253356934,
          -10.533827781677246,
          0.4278140366077423,
          -3.3783206939697266,
          -5.308007717132568,
          -9.795707702636719,
          -2.2091658115386963,
          -1.7148226499557495,
          -4.396790981292725,
          1.568029522895813,
          -4.958194255828857,
          -2.57835054397583,
          -2.9133312702178955,
          -6.625545024871826,
          -15.264937400817871,
          8.433793067932129,
          -5.514894485473633,
          -13.150269508361816,
          7.720883846282959,
          2.610159158706665,
          4.742609024047852,
          -0.005271872505545616,
          -5.918673038482666,
          4.429867267608643,
          0.22401727735996246,
          -0.3989095091819763,
          3.2534537315368652,
          -15.240640640258789,
          -5.438437461853027,
          3.4039361476898193,
          3.3248562812805176,
          9.139925003051758,
          -0.030170923098921776,
          1.8422675132751465,
          1.1477174758911133,
          -2.496528148651123,
          -1.3417315483093262,
          -5.31956672668457,
          -2.188948392868042,
          -4.930120468139648,
          -0.5831475853919983,
          -5.816015243530273,
          -1.3936874866485596,
          1.779073715209961,
          3.090501308441162,
          9.619192123413086,
          3.0407872200012207,
          3.294222593307495,
          -2.991608142852783,
          -3.3139803409576416,
          -11.045008659362793,
          -15.04202938079834,
          8.648947715759277,
          2.738680601119995,
          1.6958239078521729,
          9.348922729492188,
          1.2755160331726074,
          12.707353591918945,
          4.520897388458252,
          4.33424186706543,
          3.547837018966675,
          3.023029327392578,
          -10.480528831481934,
          -12.155884742736816,
          8.272978782653809,
          8.264888763427734,
          -9.510308265686035,
          -9.42435359954834,
          -4.699455261230469,
          11.441506385803223,
          -3.8734042644500732,
          -7.849935054779053,
          -4.528596878051758,
          -10.285198211669922,
          4.3450117111206055,
          6.283726692199707,
          -2.157996654510498,
          -5.221790313720703,
          2.6998836994171143,
          -15.855236053466797,
          9.297688484191895,
          -15.115378379821777,
          3.737257957458496,
          4.6063385009765625,
          5.412109851837158,
          -6.208435535430908,
          8.058978080749512,
          0.6892904043197632,
          8.710070610046387,
          -11.799290657043457,
          -2.7069461345672607,
          -2.470256805419922,
          6.766420841217041,
          1.9173403978347778,
          -5.5460591316223145,
          7.194761276245117,
          0.8270800113677979,
          3.551783561706543,
          -10.179509162902832,
          -7.699932098388672,
          -11.137016296386719,
          6.212575912475586,
          -11.852832794189453,
          -2.7626278400421143,
          8.76425552368164,
          1.826949119567871,
          3.186070680618286,
          -1.9928460121154785,
          3.8369028568267822,
          -3.862689256668091,
          -1.3379406929016113,
          -9.54886245727539,
          1.0260111093521118,
          2.88619065284729,
          11.693879127502441,
          -12.576574325561523,
          3.0209906101226807,
          5.148188591003418,
          8.916122436523438,
          -6.802963733673096,
          -12.994166374206543,
          -1.1023107767105103,
          -10.12840461730957,
          11.011451721191406,
          2.177825689315796,
          -4.73262882232666,
          5.433997631072998,
          -6.9602789878845215,
          0.49570778012275696,
          -6.710135459899902,
          4.461023807525635,
          13.190897941589355,
          5.396173000335693,
          0.07980592548847198,
          -1.681743860244751,
          2.017160654067993,
          5.5755157470703125,
          4.94387674331665,
          7.737637042999268,
          7.4534196853637695,
          -0.6928346753120422,
          0.019403262063860893,
          -16.984079360961914,
          -7.947450160980225,
          -12.30578899383545,
          4.921105861663818,
          8.422561645507812,
          -10.200994491577148,
          11.095128059387207,
          -3.605696678161621,
          8.517502784729004,
          8.998926162719727,
          -0.40682703256607056,
          9.600698471069336,
          -4.1855645179748535,
          3.745326519012451,
          2.7855396270751953,
          -1.2005013227462769,
          -4.9020586013793945,
          1.1632473468780518,
          7.134019374847412,
          -0.5181109309196472,
          -8.64012336730957,
          1.457677960395813,
          -16.518775939941406,
          -4.197424411773682,
          -15.391743659973145,
          -1.4634079933166504,
          -0.3112424612045288,
          -8.763511657714844,
          -12.157715797424316,
          0.9407658576965332,
          4.120956897735596,
          -3.798823356628418,
          -0.022272512316703796,
          3.5268311500549316,
          -9.792487144470215,
          -6.140704154968262,
          6.860320091247559,
          0.4305984079837799,
          8.767125129699707,
          2.1408486366271973,
          3.0028107166290283,
          1.9862662553787231,
          -10.716191291809082,
          7.77197790145874,
          -1.033843994140625,
          -3.185455322265625,
          8.768166542053223,
          -9.768186569213867,
          -13.496312141418457,
          -14.492792129516602,
          6.94814395904541,
          -7.595567226409912,
          5.6884684562683105,
          -0.37025102972984314,
          2.623850107192993,
          11.247802734375,
          -1.9425565004348755,
          7.79852294921875,
          8.018264770507812,
          7.438088893890381,
          -7.2329254150390625,
          -11.804449081420898,
          3.832045555114746,
          1.313369631767273,
          -4.076870918273926,
          1.706919550895691,
          1.5361348390579224,
          4.2078938484191895,
          13.35489559173584,
          -0.653418779373169,
          -2.489103317260742,
          6.999388217926025,
          -0.7325552701950073,
          -1.8876397609710693,
          3.5454790592193604,
          -1.0772294998168945,
          9.609854698181152,
          -0.6048144102096558,
          -2.5517454147338867,
          11.084178924560547,
          7.9876556396484375,
          7.111191749572754,
          2.463473081588745,
          -10.384642601013184,
          2.490015745162964,
          -0.7180140614509583,
          0.9106978178024292,
          -11.197929382324219,
          -9.428462982177734,
          7.173337936401367,
          9.27051067352295,
          -10.383037567138672,
          -14.33556079864502,
          -2.6793036460876465,
          7.802409648895264,
          6.880493640899658,
          -7.428847312927246,
          7.045490264892578,
          -0.6587902903556824,
          -0.22204238176345825,
          -13.136963844299316,
          3.5328431129455566,
          -0.8896235227584839,
          7.330146789550781,
          9.240922927856445,
          6.276477336883545,
          2.0519187450408936,
          5.5601067543029785,
          -1.7496709823608398,
          4.847116470336914,
          0.06898723542690277,
          3.3967230319976807,
          -1.9736328125,
          7.876028537750244,
          -1.4473538398742676,
          7.747457027435303,
          0.5696567893028259,
          7.692257881164551,
          -3.7239179611206055,
          2.9461216926574707,
          -2.668754816055298,
          3.173607587814331,
          -5.800252437591553,
          -0.1541564017534256,
          9.299896240234375,
          -7.926975727081299,
          13.46383285522461,
          7.894880294799805,
          -0.10751034319400787,
          9.223746299743652,
          4.5994462966918945,
          -0.7722589373588562,
          8.608859062194824,
          -2.049393653869629,
          8.710494995117188,
          2.9028844833374023,
          -5.420836925506592,
          5.603793144226074,
          3.587418794631958,
          0.7428345680236816,
          -2.684178113937378,
          -7.53492546081543,
          7.112344264984131,
          5.872928619384766,
          -13.081911087036133,
          3.8179640769958496,
          -4.8694305419921875,
          9.594027519226074,
          0.9987056851387024,
          4.495937347412109,
          -4.022644519805908,
          -6.352057933807373,
          -8.420106887817383,
          2.131734609603882,
          6.349214553833008,
          3.057967185974121,
          1.962588906288147,
          -9.820754051208496,
          10.534226417541504,
          2.421353340148926,
          4.265597343444824,
          8.427711486816406,
          -2.6486175060272217,
          -4.168506145477295,
          11.03612995147705,
          -5.368129730224609,
          -0.14970184862613678,
          6.469163417816162,
          7.609363079071045,
          4.939907550811768,
          -6.459872722625732,
          -2.3265435695648193,
          0.37408652901649475,
          -6.179600715637207,
          -0.13896289467811584,
          -4.85886812210083,
          8.085524559020996,
          1.350445032119751,
          3.6023178100585938,
          9.81558609008789,
          -3.482983350753784,
          -6.893800258636475,
          2.8584671020507812,
          4.98574686050415,
          7.154120445251465,
          -15.371722221374512,
          4.204648494720459,
          -2.9923911094665527,
          -2.118685483932495,
          2.108964443206787,
          1.5066416263580322,
          4.023444652557373,
          -1.266348123550415,
          4.635276794433594,
          3.914386510848999,
          -1.9982686042785645,
          0.4998786449432373,
          -7.775783061981201,
          9.022248268127441,
          -9.300065040588379,
          7.372857570648193,
          -5.699625492095947,
          0.9270176887512207,
          -3.1207451820373535,
          -1.3213759660720825,
          5.469605445861816,
          -8.445308685302734,
          10.42000961303711,
          -1.4138967990875244,
          -15.934088706970215,
          4.690212249755859,
          -11.655550003051758,
          1.7412039041519165,
          -7.2715864181518555,
          9.544767379760742,
          -5.623841285705566,
          0.939542293548584,
          -3.2421040534973145,
          3.2740583419799805,
          2.6429243087768555,
          3.6478593349456787,
          7.848547458648682,
          -2.2875747680664062,
          1.331355333328247,
          7.053170204162598,
          -5.005167484283447,
          -8.551942825317383,
          -3.099464178085327,
          -4.362768173217773,
          1.0387988090515137,
          6.886078834533691,
          -8.750039100646973,
          -14.664002418518066,
          5.4397993087768555,
          7.158998966217041,
          1.7592219114303589,
          -3.729691505432129,
          4.94537878036499,
          1.9576948881149292,
          9.909235954284668,
          -1.5631996393203735,
          -4.027054309844971,
          6.784631252288818,
          -12.006769180297852,
          -1.0713070631027222,
          -4.01772928237915,
          7.420674800872803,
          7.4414849281311035,
          -5.895251750946045,
          -3.151895523071289,
          2.5240728855133057,
          8.087039947509766,
          7.167806148529053,
          -5.581531524658203,
          0.18091997504234314,
          11.324172019958496,
          1.3953006267547607,
          9.448467254638672,
          -7.6688432693481445,
          -5.311118125915527,
          4.242672920227051,
          5.427981376647949,
          13.680176734924316,
          7.203913688659668,
          9.690911293029785,
          -12.861145973205566,
          2.1737325191497803,
          2.3191745281219482,
          10.292651176452637,
          -5.040059566497803,
          2.445634603500366,
          -3.0410521030426025,
          1.2580666542053223,
          0.5819658637046814,
          -1.2315434217453003,
          -4.590222358703613,
          2.4511046409606934,
          -1.1315799951553345,
          -1.6316548585891724,
          -4.242016792297363,
          1.1560676097869873,
          7.473089218139648,
          -4.1989030838012695,
          11.863173484802246,
          -1.7797794342041016,
          -1.2025426626205444,
          2.458214521408081,
          -2.3956010341644287,
          -8.87309741973877,
          3.783726692199707,
          -2.2323708534240723,
          2.5381686687469482,
          -5.725271224975586,
          -13.006526947021484,
          -0.5770102739334106,
          0.2709369659423828,
          -0.6012850999832153,
          -6.568143367767334,
          6.382715225219727,
          -2.7840518951416016,
          8.9044771194458,
          0.8883517384529114,
          0.756414532661438,
          9.887231826782227,
          0.654301643371582,
          8.387843132019043,
          -1.3938969373703003,
          3.609541416168213,
          10.140543937683105,
          4.30916166305542,
          3.6246721744537354,
          -5.9517292976379395,
          -8.534120559692383,
          -5.837141513824463,
          9.582258224487305,
          -0.7384368777275085,
          -3.1401827335357666,
          -3.0816001892089844,
          1.1351042985916138,
          5.553798198699951,
          -14.536442756652832,
          10.539180755615234,
          -3.012829542160034,
          -5.467371940612793,
          8.645235061645508,
          -6.344653606414795,
          -15.70333194732666,
          2.586672782897949,
          -4.00027322769165,
          -14.828563690185547,
          5.6944050788879395,
          -16.23284912109375,
          -12.491701126098633,
          5.280880451202393,
          4.376683235168457,
          -4.834089756011963,
          -6.718245029449463,
          -1.8944591283798218,
          2.9253721237182617,
          8.060770988464355,
          -15.356789588928223,
          -9.573935508728027,
          -0.4677925705909729,
          -0.03747927397489548,
          -7.640796661376953,
          2.534278154373169,
          2.5033371448516846,
          -5.8375163078308105,
          -13.614227294921875,
          -5.796024799346924,
          -15.29114818572998,
          9.505926132202148,
          -12.037181854248047,
          6.859685897827148,
          -9.621938705444336,
          -12.007330894470215,
          -5.449337005615234,
          -1.002851963043213,
          9.496764183044434,
          3.563906192779541,
          -2.3322219848632812,
          -12.767648696899414,
          -5.570852756500244,
          -0.7218530774116516,
          2.6336092948913574,
          -4.316677570343018,
          10.188480377197266,
          7.729762077331543,
          -0.321271687746048,
          1.100577712059021,
          -6.305013656616211,
          0.10651504248380661,
          -5.144038677215576,
          -3.9873321056365967,
          5.055944442749023,
          -12.309877395629883,
          4.550507068634033,
          -0.4092109799385071,
          -1.6017197370529175,
          -3.8945159912109375,
          -8.353205680847168,
          -4.207212448120117,
          7.337673664093018,
          7.83726167678833,
          -2.7260549068450928,
          -3.649564027786255,
          1.3898108005523682,
          5.2292585372924805,
          4.1484785079956055,
          -1.7752193212509155,
          4.121744155883789,
          -5.534786701202393,
          -9.144076347351074,
          -1.6321818828582764,
          -0.6466485261917114,
          10.195712089538574,
          13.144518852233887,
          0.9973484873771667,
          -3.3621976375579834,
          6.6003875732421875,
          -15.014081954956055,
          11.29281234741211,
          8.114380836486816,
          -14.78296184539795,
          -3.2001233100891113,
          -0.9104333519935608,
          -3.7030580043792725,
          -7.3054046630859375,
          -5.870639801025391,
          4.459317684173584,
          -3.4875800609588623,
          4.191392421722412,
          -4.810830116271973,
          -4.09772253036499,
          -4.35315465927124,
          1.7299672365188599,
          6.952752590179443,
          -8.900028228759766,
          -0.3209487497806549,
          9.272017478942871,
          -16.785865783691406,
          -1.725676417350769,
          -3.360095977783203,
          -1.2747246026992798,
          7.9329118728637695,
          -15.305143356323242,
          -7.610527992248535,
          -1.428725242614746,
          -5.746265411376953,
          -0.4180189073085785,
          -8.905940055847168,
          2.550662040710449,
          -6.41242790222168,
          -16.210960388183594,
          -2.8906502723693848,
          11.06654167175293,
          -0.5613420605659485,
          -2.05303955078125,
          1.3731967210769653,
          2.196302652359009,
          -7.323065280914307,
          1.2411746978759766,
          9.566938400268555,
          -9.19175910949707,
          -3.351041078567505,
          5.134600639343262,
          6.543854236602783,
          -13.090628623962402,
          7.566469669342041,
          7.107573986053467,
          -9.420082092285156,
          -4.180260181427002,
          -3.3932831287384033,
          1.901539921760559,
          -2.724342107772827,
          7.834408760070801,
          13.320820808410645,
          -5.638425350189209,
          -6.866595268249512,
          0.10749375820159912,
          -0.538059651851654,
          -9.411333084106445,
          6.283199310302734,
          -1.7812825441360474,
          -13.472403526306152,
          -9.234769821166992,
          -1.9331297874450684,
          -6.828259468078613,
          2.7891931533813477,
          -0.7471447587013245,
          -7.696033954620361,
          0.6127826571464539,
          13.265827178955078,
          4.03072452545166,
          -8.92212200164795,
          -11.323086738586426,
          1.8980783224105835,
          -13.149494171142578,
          -6.062715530395508,
          -3.9958040714263916,
          2.0685489177703857,
          -5.5419416427612305,
          -0.4679032862186432,
          8.091753005981445,
          -1.029460072517395,
          8.401562690734863,
          -6.56937837600708,
          9.88482666015625,
          7.08005428314209,
          10.159071922302246,
          7.32078218460083,
          6.015235900878906,
          -1.3382413387298584,
          -2.8205347061157227,
          7.104185581207275,
          12.30459976196289,
          10.827964782714844,
          0.37382686138153076,
          13.506049156188965,
          1.2519071102142334,
          10.052998542785645,
          11.389914512634277,
          -5.334946632385254,
          -9.514254570007324,
          6.923876762390137,
          -0.6783453226089478,
          0.25932562351226807,
          -1.7536951303482056,
          -16.39704704284668,
          -16.189638137817383,
          -4.227967739105225,
          -7.5029168128967285,
          2.3840363025665283,
          -14.193331718444824,
          2.5530903339385986,
          -2.1287879943847656,
          0.33154022693634033,
          -16.45331382751465,
          -0.5829498171806335,
          -0.27624449133872986,
          -4.9885711669921875,
          -14.560052871704102,
          -4.58573055267334,
          -7.645375728607178,
          -5.40266227722168,
          -5.592843532562256,
          1.906630039215088,
          -10.306265830993652,
          -6.9519267082214355,
          1.9734466075897217,
          -5.682638645172119,
          -14.704556465148926,
          -2.014843225479126,
          -7.025381088256836,
          -1.3106446266174316,
          3.4701926708221436,
          3.0607340335845947,
          -1.7744083404541016,
          8.03247356414795,
          -2.423455238342285,
          -5.803082466125488,
          -15.103069305419922,
          1.0647169351577759,
          -4.008118152618408,
          4.367168426513672,
          -4.18232536315918,
          -3.4675567150115967,
          9.911355972290039,
          -5.434802055358887,
          5.1908087730407715,
          -1.7438100576400757,
          10.907125473022461,
          -1.457229733467102,
          1.4813390970230103,
          5.105231761932373,
          -6.362051486968994,
          0.9206778407096863,
          -8.152822494506836,
          -14.139307975769043,
          -4.308756351470947,
          10.1646728515625,
          7.768690586090088,
          -9.035186767578125,
          -3.4291274547576904,
          -12.105354309082031,
          1.4155588150024414,
          6.921657085418701,
          -5.097100257873535,
          3.4249377250671387,
          5.030906677246094,
          5.359774589538574,
          6.491196155548096,
          0.17749708890914917,
          1.9759321212768555,
          2.865866184234619,
          4.183424949645996,
          3.2780556678771973,
          1.4690375328063965,
          -5.216598987579346,
          2.887587308883667,
          9.127138137817383,
          11.39185905456543,
          -14.038479804992676,
          -17.574657440185547,
          7.082500457763672,
          7.340074062347412,
          -7.951164245605469,
          -9.633894920349121,
          3.2688355445861816,
          5.473718643188477,
          0.004918987862765789,
          -9.31657600402832,
          5.776094913482666,
          3.798138380050659,
          -3.7284722328186035,
          -3.9223690032958984,
          -7.6258039474487305,
          -16.3507022857666,
          1.6743184328079224,
          0.12565471231937408,
          8.46565055847168,
          -8.632942199707031,
          -15.495758056640625,
          5.405818462371826,
          -8.812880516052246,
          -2.0726208686828613,
          -17.898338317871094,
          -3.9112091064453125,
          7.190173625946045,
          2.7073304653167725,
          -12.267687797546387,
          9.086410522460938,
          -7.344052314758301,
          8.121479988098145,
          -0.7731614708900452,
          -0.5804786086082458,
          -0.8642366528511047,
          3.62155818939209,
          -13.747336387634277,
          -12.218284606933594,
          6.285355567932129,
          -1.2212738990783691,
          -3.2598206996917725,
          0.3966214656829834,
          -1.6275653839111328,
          10.091957092285156,
          -12.345499038696289,
          4.519227981567383,
          3.1309335231781006,
          10.699292182922363,
          -1.6091344356536865,
          1.4221631288528442,
          -5.889975547790527,
          -0.24851204454898834,
          3.665480613708496,
          -1.6729298830032349,
          -4.045642375946045,
          -12.014559745788574,
          2.0954055786132812,
          11.35938549041748,
          -11.199639320373535,
          -6.877256393432617,
          5.571648120880127,
          -5.584217548370361,
          0.02026420645415783,
          -4.0151472091674805,
          10.005200386047363,
          8.849875450134277,
          10.16183853149414,
          10.399802207946777,
          -5.5447096824646,
          1.378271460533142,
          -10.230900764465332,
          8.085960388183594,
          -3.3939929008483887,
          -3.8718295097351074,
          6.589748859405518,
          -14.503889083862305,
          3.5460622310638428,
          -3.1181440353393555,
          -5.95506477355957,
          0.23996011912822723,
          -0.31691116094589233,
          9.416033744812012,
          10.281229019165039,
          -5.897348880767822,
          -3.8894307613372803,
          12.464698791503906,
          -6.752567768096924,
          -7.414670944213867,
          -7.836916446685791,
          -12.157745361328125,
          6.853987693786621,
          1.7328417301177979,
          -4.6262664794921875,
          -12.596894264221191,
          4.680611610412598,
          3.9762253761291504,
          7.701553821563721,
          -7.4276442527771,
          9.509465217590332,
          7.729588508605957,
          13.253388404846191,
          0.605545699596405,
          -3.2045061588287354,
          6.420995712280273,
          1.2189888954162598,
          7.63467264175415,
          0.7655141949653625,
          7.018365383148193,
          -12.405431747436523,
          7.959511756896973,
          7.446924686431885,
          3.1602165699005127,
          -14.76279067993164,
          -4.112156391143799,
          -15.018741607666016,
          -11.909501075744629,
          -1.1334019899368286,
          8.562583923339844,
          4.59840726852417,
          -11.09489917755127,
          9.322088241577148,
          0.8875792622566223,
          2.0744075775146484,
          -2.460204601287842,
          6.027472972869873,
          0.6781696081161499,
          -11.954577445983887,
          6.6427764892578125,
          -11.197484016418457,
          -5.897116661071777,
          4.485381603240967,
          -0.5864831209182739,
          4.513265132904053,
          -2.090001344680786,
          1.6064878702163696,
          3.967966318130493,
          8.279708862304688,
          7.127992630004883,
          -3.879424810409546,
          2.8826892375946045,
          -2.0637919902801514,
          -12.907109260559082,
          4.6725053787231445,
          0.233551025390625,
          0.0783163532614708,
          -1.1644419431686401,
          -2.5181965827941895,
          13.170258522033691,
          2.1513593196868896,
          -3.2511534690856934,
          1.3395260572433472,
          7.466540813446045,
          -1.1181378364562988,
          3.1410763263702393,
          6.8159332275390625,
          -0.5850130915641785,
          8.382582664489746,
          8.271515846252441,
          -0.5856969952583313,
          9.232037544250488,
          5.725118160247803,
          -9.029950141906738,
          7.727690696716309,
          -2.044226884841919,
          -3.0923688411712646,
          7.735383987426758,
          -9.657196044921875,
          1.6191985607147217,
          -0.8627604842185974,
          -10.237105369567871,
          3.660651922225952,
          -4.498012542724609,
          4.7801337242126465,
          2.691171407699585,
          -9.897882461547852,
          8.921929359436035,
          -5.71798849105835,
          10.036968231201172,
          5.149752140045166,
          1.4329169988632202,
          13.506129264831543,
          -1.7156931161880493,
          -0.25338736176490784,
          -7.170304298400879,
          -11.554818153381348,
          -1.9953442811965942,
          -2.995718240737915,
          0.710284948348999,
          -10.04017162322998,
          -13.46042251586914,
          2.316157817840576,
          -0.47830936312675476,
          8.786602020263672,
          -3.9050989151000977,
          9.401958465576172,
          -12.659886360168457,
          3.2921793460845947,
          0.2555743455886841,
          7.952547550201416,
          -4.352701663970947,
          5.521543025970459,
          -1.6856876611709595,
          3.0572404861450195,
          3.052140474319458,
          7.312244892120361,
          -0.8254278898239136,
          -16.332033157348633,
          -0.9630873799324036,
          -15.627985954284668,
          -7.817396640777588,
          5.523268699645996,
          3.5555007457733154,
          6.395095348358154,
          -10.900676727294922,
          4.695808410644531,
          -11.076497077941895,
          -7.648658752441406,
          1.9550769329071045,
          1.178900122642517,
          6.667569637298584,
          9.367880821228027,
          -14.402109146118164,
          -9.765523910522461,
          -4.1507463455200195,
          8.977069854736328,
          -4.367291450500488,
          4.148251056671143,
          2.0188493728637695,
          4.162845134735107,
          -13.383280754089355,
          7.834845066070557,
          1.3109012842178345,
          -4.418437480926514,
          0.5494903922080994,
          4.212460041046143,
          -15.664257049560547,
          1.786900281906128,
          4.782853126525879,
          5.889750957489014,
          -3.2164669036865234,
          8.268619537353516,
          7.4185919761657715,
          -6.8430376052856445,
          -0.8113387227058411,
          -4.475736618041992,
          6.930994033813477,
          -7.41330623626709,
          6.362020969390869,
          3.637514114379883,
          -6.652557373046875,
          -1.5798417329788208,
          -12.494126319885254,
          -2.2084639072418213,
          2.976301431655884,
          9.748445510864258,
          -12.14270305633545,
          -3.7561495304107666,
          -10.396899223327637,
          -11.360502243041992,
          8.75491714477539,
          5.222603797912598,
          10.072951316833496,
          -4.179339408874512,
          4.234627723693848,
          4.130309581756592,
          4.776350975036621,
          -4.000150203704834,
          -5.242260932922363,
          -14.81972599029541,
          6.079142093658447,
          6.610501766204834,
          -0.5208094120025635,
          -4.426011085510254,
          -11.13833236694336,
          1.8363642692565918,
          -3.7088396549224854,
          0.8668519854545593,
          -0.8723993301391602,
          9.843005180358887,
          1.5519002676010132,
          -7.1839165687561035,
          7.77721643447876,
          1.029651165008545,
          1.9083037376403809,
          -0.5245240330696106,
          -0.8966498970985413,
          -12.512852668762207,
          -3.784846782684326,
          6.855838298797607,
          -3.9977290630340576,
          -2.299618721008301,
          11.6893892288208,
          11.319860458374023,
          4.504350185394287,
          13.56601333618164,
          -0.510969877243042,
          6.0130615234375,
          -4.731318473815918,
          -4.199414253234863,
          3.9005484580993652,
          -9.596441268920898,
          1.6610063314437866,
          4.84909725189209,
          1.9831740856170654,
          -11.267614364624023,
          -8.65121078491211,
          7.401072025299072,
          -3.9704670906066895,
          9.7353515625,
          -4.377742767333984,
          -4.587031364440918,
          12.145737648010254,
          5.984594821929932,
          5.1897454261779785,
          -5.249690532684326,
          7.830456733703613,
          0.8219055533409119,
          2.170365810394287,
          -10.939909934997559,
          -2.4329416751861572,
          7.879251480102539,
          -5.98176383972168,
          -0.35340821743011475,
          -5.556817054748535,
          9.354242324829102,
          9.929888725280762,
          -3.70261287689209,
          -0.011716773733496666,
          -8.203922271728516,
          9.946187973022461,
          1.4734967947006226,
          -11.570923805236816,
          7.7142133712768555,
          -8.945965766906738,
          2.0507030487060547,
          -8.392826080322266,
          1.2142715454101562,
          9.267251968383789,
          2.7648186683654785,
          -8.416678428649902,
          7.1320881843566895,
          1.713971495628357,
          9.191588401794434,
          -0.6450218558311462,
          7.130231857299805,
          -2.177492141723633,
          0.15713921189308167,
          -4.341233730316162,
          6.409326553344727,
          -0.14776688814163208,
          5.734135627746582,
          2.36260724067688,
          -7.383585453033447,
          10.161401748657227,
          5.467644214630127,
          -6.402230262756348,
          -1.3470964431762695,
          11.603337287902832,
          -7.143723487854004,
          1.9622368812561035,
          -13.802535057067871,
          3.269528865814209,
          -9.340211868286133,
          5.572709560394287,
          -1.1914039850234985,
          4.229007720947266,
          -4.6403913497924805,
          -3.9791572093963623,
          8.136824607849121,
          7.190951824188232,
          2.7063286304473877,
          2.364772319793701,
          -7.900405406951904,
          -13.117114067077637,
          3.471442222595215,
          10.782707214355469,
          -6.75889778137207,
          -8.41031265258789,
          6.143139362335205,
          11.48227310180664,
          1.577980875968933,
          7.726630687713623,
          -5.622223854064941,
          -16.721458435058594,
          -0.4149623215198517,
          1.494123935699463,
          9.969914436340332,
          7.340438365936279,
          0.09478015452623367,
          -11.282631874084473,
          -2.2083423137664795,
          0.29136723279953003,
          7.6347126960754395,
          10.414772033691406,
          -15.5020170211792,
          0.598197340965271,
          3.3510496616363525,
          1.2675803899765015,
          -7.246288776397705,
          2.067112445831299,
          2.9319405555725098,
          7.429788589477539,
          4.351733207702637,
          2.937608242034912,
          8.442703247070312,
          2.1650712490081787,
          5.137322902679443,
          -4.139553070068359,
          2.102954149246216,
          -4.789351940155029,
          -8.087578773498535,
          7.233333587646484,
          5.17927360534668,
          9.823801040649414,
          -3.4490087032318115,
          3.864150285720825,
          -7.4635009765625,
          8.398884773254395,
          -14.201287269592285,
          3.751668691635132,
          -10.647245407104492,
          1.1284252405166626,
          -4.671502113342285,
          11.239355087280273,
          4.657037734985352,
          7.373773574829102,
          1.3709518909454346,
          -0.0646854043006897,
          -9.0084810256958,
          -15.317115783691406,
          1.6158497333526611,
          -6.572469234466553,
          5.6554646492004395,
          -6.38415002822876,
          -11.493013381958008,
          8.782248497009277,
          -1.4425334930419922,
          -3.6654062271118164,
          3.17812442779541,
          -4.320980548858643,
          2.8771400451660156,
          -4.174114227294922,
          -0.23453520238399506,
          3.4726955890655518,
          -11.494316101074219,
          9.510859489440918,
          4.609894275665283,
          3.859508752822876,
          -2.0842552185058594,
          2.393871545791626,
          6.9780473709106445,
          1.1272372007369995,
          -8.825300216674805,
          -6.916529178619385,
          1.4599993228912354,
          7.511994361877441,
          -12.111701965332031,
          -5.789923191070557,
          -2.0593812465667725,
          -3.56980299949646,
          0.5149835348129272,
          -1.3845387697219849,
          -9.770208358764648,
          3.730407238006592,
          10.12273120880127,
          -0.23936066031455994,
          -3.7503466606140137,
          6.027896881103516,
          -6.590959548950195,
          -15.38481616973877,
          8.831947326660156,
          5.941963195800781,
          -1.696581244468689,
          7.815812587738037,
          2.842432737350464,
          -1.9122025966644287,
          0.9848145842552185,
          10.26459789276123,
          7.703214168548584,
          -2.8033607006073,
          3.2124388217926025,
          9.101265907287598,
          9.982596397399902,
          -4.724688529968262,
          -11.841135025024414,
          7.532529830932617,
          -6.138211250305176,
          2.487246513366699,
          6.547948360443115,
          -3.696092128753662,
          5.434722423553467,
          -6.04559850692749,
          -3.5331168174743652,
          -7.7325968742370605,
          -9.479039192199707,
          -0.24742037057876587,
          -14.492347717285156,
          8.1730375289917,
          1.537346363067627,
          10.857565879821777,
          -11.417682647705078,
          3.9241461753845215,
          8.880751609802246,
          6.1532206535339355,
          -11.13054084777832,
          8.152243614196777,
          -4.730651378631592,
          3.3075342178344727,
          -0.03244289755821228,
          1.0805031061172485,
          7.964933395385742,
          -7.603121757507324,
          7.500955104827881,
          8.126534461975098,
          -3.3768763542175293,
          -7.854200839996338,
          -0.42100781202316284,
          0.10439899563789368,
          -0.03876510262489319,
          11.405269622802734,
          3.7636663913726807,
          -1.3113138675689697,
          -5.006675720214844,
          -1.1141949892044067,
          -1.7179278135299683,
          0.6027568578720093,
          1.9379658699035645,
          2.647078275680542,
          3.3311288356781006,
          -7.66090726852417,
          -8.662638664245605,
          4.8501386642456055,
          -2.6928834915161133,
          6.207366466522217,
          3.1734812259674072,
          4.547297954559326,
          -12.183878898620605,
          -13.647443771362305,
          -4.262250900268555,
          -16.723072052001953,
          -3.473945379257202,
          -4.839208602905273,
          -3.6453521251678467,
          0.9211983680725098,
          5.314532279968262,
          4.06494140625,
          10.943696022033691,
          -3.473890542984009,
          -3.793055772781372,
          4.001265525817871,
          8.520613670349121,
          4.417433261871338,
          -3.1397716999053955,
          -4.246031284332275,
          -12.375380516052246,
          -2.2532975673675537,
          -15.669171333312988,
          -7.307262897491455,
          -3.0604474544525146,
          6.19545841217041,
          -4.333219528198242,
          10.606139183044434,
          -2.29970645904541,
          -4.2968058586120605,
          1.6706732511520386,
          -2.0797059535980225,
          6.841073513031006,
          -15.924551963806152,
          5.633303642272949,
          -0.8877681493759155,
          11.124055862426758,
          -11.660215377807617,
          -16.51711082458496,
          -15.17532730102539,
          -4.447429656982422,
          -9.258955955505371,
          -6.068566799163818,
          8.277447700500488,
          2.858937978744507,
          2.5017149448394775,
          0.18596579134464264,
          -4.340049743652344,
          -8.266895294189453,
          -12.080991744995117,
          -8.767631530761719,
          1.7482106685638428,
          9.07097339630127,
          5.542843818664551,
          5.7898945808410645,
          1.873201847076416,
          -3.580038547515869,
          1.0732694864273071,
          -14.101349830627441,
          -1.3667069673538208,
          1.4985883235931396,
          -4.762469291687012,
          -4.889420509338379,
          -9.135371208190918,
          -6.219635009765625,
          0.93158358335495,
          9.630537033081055,
          8.913431167602539,
          -0.73079913854599,
          1.0994644165039062,
          -2.134047746658325,
          -11.15622329711914,
          2.623826742172241,
          -1.7975579500198364,
          -4.5550923347473145,
          -8.195611953735352,
          8.254526138305664,
          11.691555976867676,
          -11.535961151123047,
          10.151115417480469,
          8.241402626037598,
          3.829963445663452,
          -3.578284978866577,
          2.926753044128418,
          2.9041128158569336,
          8.003450393676758,
          -10.022226333618164,
          4.108179569244385,
          -3.3336522579193115,
          -11.50644302368164,
          9.854727745056152,
          -7.641195774078369,
          -16.04271125793457,
          -5.231525421142578,
          -15.317034721374512,
          -12.555527687072754,
          5.153189182281494,
          -8.89858627319336,
          -7.701230525970459,
          -1.8763861656188965,
          -2.181220531463623,
          12.165221214294434,
          3.0606026649475098,
          -0.42601004242897034,
          -2.9261314868927,
          7.644932746887207,
          0.46851152181625366,
          4.002676963806152,
          1.3059829473495483,
          6.912987232208252,
          10.919270515441895,
          10.258452415466309,
          9.438701629638672,
          -1.101989507675171,
          -12.092508316040039,
          2.428107261657715,
          9.913671493530273,
          -3.539076328277588,
          12.785582542419434,
          6.487766742706299,
          -8.77340030670166,
          8.481674194335938,
          1.9224436283111572,
          10.013257026672363,
          13.443868637084961,
          -9.669675827026367,
          -6.764399528503418,
          1.4158133268356323,
          -10.937623023986816,
          -3.865387439727783,
          -0.648495614528656,
          0.597298800945282,
          -0.18247157335281372,
          -4.5466790199279785,
          -8.311762809753418,
          3.262831211090088,
          -3.8536670207977295,
          2.0804836750030518,
          2.488983154296875,
          10.303037643432617,
          2.019502639770508,
          0.7419003248214722,
          -1.095443844795227,
          -1.4887348413467407,
          4.83134126663208,
          6.537806034088135,
          4.433797836303711,
          3.2625768184661865,
          -1.7770261764526367,
          7.387713432312012,
          -1.4596916437149048,
          10.06173324584961,
          -2.1483941078186035,
          3.6723744869232178,
          7.51438045501709,
          -1.3489240407943726,
          -6.449169158935547,
          -8.038467407226562,
          0.8637975454330444,
          10.549724578857422,
          -1.4291713237762451,
          -0.822243869304657,
          6.379308223724365,
          6.15096378326416,
          -6.925095558166504,
          0.3266713619232178,
          10.504141807556152,
          11.292427062988281,
          7.141334533691406,
          -10.471442222595215,
          -4.318373203277588,
          -5.372858047485352,
          -6.492453575134277,
          10.322691917419434,
          -0.45287883281707764,
          7.492704391479492,
          -0.35572731494903564,
          -3.6988112926483154,
          2.575767993927002,
          -1.5399724245071411,
          -4.83384370803833,
          1.1454991102218628,
          -4.48126745223999,
          -8.577381134033203,
          -5.0745768547058105,
          -10.063566207885742,
          -12.315773010253906,
          3.6770684719085693,
          4.1568427085876465,
          7.8257060050964355,
          -4.311332702636719,
          6.68647575378418,
          1.2463654279708862,
          -0.05734851956367493,
          8.536178588867188,
          -4.436636447906494,
          -8.510892868041992,
          6.912593364715576,
          -2.328613758087158,
          12.110340118408203,
          -7.771773815155029,
          -13.321990966796875,
          9.32127857208252,
          -15.912364959716797,
          -16.17074203491211,
          -9.165336608886719,
          -6.939601421356201,
          0.13809849321842194,
          -9.800483703613281,
          10.16440200805664,
          -0.5215613842010498,
          -0.9017704725265503,
          4.025147914886475,
          -13.454244613647461,
          9.83569622039795,
          -0.28815165162086487,
          3.802816390991211,
          -13.188356399536133,
          8.988895416259766,
          7.026726245880127,
          5.294366836547852,
          -2.3942599296569824,
          1.4812361001968384,
          -15.300227165222168,
          0.7528302073478699,
          -15.649733543395996,
          0.6052037477493286,
          6.996665954589844,
          10.32316780090332,
          -9.30441951751709,
          1.6752723455429077,
          -6.6887006759643555,
          -3.7094571590423584,
          -15.966414451599121,
          -15.064127922058105,
          3.0078485012054443,
          6.455388069152832,
          -11.839350700378418,
          10.63655948638916,
          -14.849541664123535,
          -11.577547073364258,
          11.665908813476562,
          -15.398530960083008,
          -0.7107236385345459,
          3.1588897705078125,
          -5.59923791885376,
          -9.229961395263672,
          -7.065302848815918,
          13.017783164978027,
          -1.389676809310913,
          12.081548690795898,
          9.922672271728516,
          -1.3576377630233765,
          -16.671476364135742,
          -8.946002006530762,
          -7.400410175323486,
          -4.705270767211914,
          9.559638977050781,
          11.037891387939453,
          -1.8928821086883545,
          -14.685883522033691,
          9.851082801818848,
          -15.83040714263916,
          -4.2133917808532715,
          -15.857643127441406,
          0.5016227960586548,
          -0.7516323328018188,
          -13.34540843963623,
          -4.855952739715576,
          3.830437660217285,
          -13.266714096069336,
          -3.9301533699035645,
          1.1436915397644043,
          -15.001830101013184,
          -2.449795961380005,
          6.113253593444824,
          8.0330810546875,
          -2.2824888229370117,
          -1.9091219902038574,
          -15.550485610961914,
          2.4016923904418945,
          0.5401382446289062,
          3.7189781665802,
          5.3065595626831055,
          -8.32493782043457,
          6.250394821166992,
          -1.133104681968689,
          -2.453545093536377,
          -6.985393047332764,
          5.143576622009277,
          -5.789834976196289,
          -1.7823094129562378,
          -15.140918731689453,
          3.9463863372802734,
          -8.068636894226074,
          0.38609743118286133,
          3.692490577697754,
          2.104649066925049,
          1.4542039632797241,
          3.5290656089782715,
          -2.5449929237365723,
          8.963424682617188,
          -0.6342137455940247,
          -14.125847816467285,
          5.63032865524292,
          0.28793632984161377,
          3.2359731197357178,
          6.004478454589844,
          4.181923866271973,
          -1.1507638692855835,
          4.899654865264893,
          -16.13055419921875,
          -9.324586868286133,
          -1.8596117496490479,
          -0.9644901752471924,
          -11.132028579711914,
          -1.4494884014129639,
          7.660269737243652,
          4.423613548278809,
          -14.585531234741211,
          -12.080302238464355,
          8.666671752929688,
          -2.669248580932617,
          -11.993955612182617,
          -6.257379055023193,
          1.3092960119247437,
          -5.233614921569824,
          4.56442403793335,
          -5.224442005157471,
          1.6308927536010742,
          -1.819473147392273,
          4.914429664611816,
          7.315403938293457,
          4.257508754730225,
          4.038578510284424,
          -3.2871668338775635,
          3.481058359146118,
          0.0059593841433525085,
          -10.996869087219238,
          -3.6326353549957275,
          -11.191761016845703,
          -2.393690824508667,
          1.0294290781021118,
          7.901861190795898,
          2.4516966342926025,
          8.032265663146973,
          1.005573034286499,
          -2.6110727787017822,
          -2.5173227787017822,
          2.5538902282714844,
          7.528262138366699,
          -10.020423889160156,
          2.211374282836914,
          5.627641677856445,
          3.561509132385254,
          0.4661206007003784,
          -9.789015769958496,
          11.29606819152832,
          -4.355645656585693,
          -11.030016899108887,
          5.908102512359619,
          9.05514144897461,
          7.0559611320495605,
          1.4640048742294312,
          -6.427887439727783,
          8.328045845031738,
          -5.282103061676025,
          -2.5668883323669434,
          5.853794574737549,
          7.145693778991699,
          -7.342826843261719,
          4.945021152496338,
          -13.994658470153809,
          -7.0211710929870605,
          2.3004071712493896,
          5.663728713989258,
          -1.5231380462646484,
          4.266934871673584,
          3.101372241973877,
          -0.3443034291267395,
          -16.975933074951172,
          0.9240590929985046,
          3.547814130783081,
          1.4075497388839722,
          -8.239943504333496,
          10.286335945129395,
          0.18519394099712372,
          -1.1621330976486206,
          -4.317200183868408,
          10.005390167236328,
          3.1014175415039062,
          -12.679733276367188,
          1.8572418689727783,
          8.725069999694824,
          3.8329215049743652,
          7.842322826385498,
          -14.985651016235352,
          -7.177693843841553,
          1.3625389337539673,
          1.2383395433425903,
          -5.699793815612793,
          -8.403905868530273,
          5.632009506225586,
          -16.430198669433594,
          10.405158996582031,
          -15.003870964050293,
          3.797823667526245,
          -6.08558988571167,
          9.012152671813965,
          -0.6886407732963562,
          0.27517378330230713,
          0.20681439340114594,
          -2.1038742065429688,
          8.814410209655762,
          -4.042621612548828,
          -8.191186904907227,
          0.40563780069351196,
          -2.5582098960876465,
          -1.4662933349609375,
          3.3114166259765625,
          8.98530387878418,
          0.14095263183116913,
          4.495939254760742,
          -6.529733657836914,
          -4.9342780113220215,
          -3.4759507179260254,
          -0.570813000202179,
          -8.67597770690918,
          -4.355203151702881,
          -3.1967692375183105,
          9.359118461608887,
          -6.068739414215088,
          -0.6748754382133484,
          -0.2304723560810089,
          -5.222013473510742,
          3.4234626293182373,
          6.999264240264893,
          2.583738327026367,
          -3.7408764362335205,
          -15.196831703186035,
          -0.8121554255485535,
          -1.3924516439437866,
          8.66147518157959,
          6.364107608795166,
          2.654013156890869,
          -2.118616819381714,
          -14.554823875427246,
          11.526144981384277,
          3.388747453689575,
          0.8643906712532043,
          -8.10550308227539,
          -11.127367973327637,
          4.755247592926025,
          8.076470375061035,
          -4.017784595489502,
          0.3974190056324005,
          -0.5090942978858948,
          -0.47995370626449585,
          -9.191449165344238,
          0.7150280475616455,
          -9.354121208190918,
          -6.909748554229736,
          -7.766390800476074,
          11.041675567626953,
          6.704432964324951,
          -1.499389410018921,
          0.632045567035675,
          -7.714890480041504,
          0.3473975956439972,
          3.2073590755462646,
          -14.491870880126953,
          -4.191004276275635,
          11.046184539794922,
          -16.150327682495117,
          1.0532469749450684,
          -8.328063011169434,
          -0.45610103011131287,
          -15.11887264251709,
          -5.362541198730469,
          8.384590148925781,
          8.974620819091797,
          -0.2275923639535904,
          -2.5046823024749756,
          5.235949993133545,
          3.7877562046051025,
          11.990553855895996,
          4.518069744110107,
          2.5816829204559326,
          -3.3823909759521484,
          -11.384900093078613,
          -2.5097646713256836,
          10.130327224731445,
          -0.5598850846290588,
          -10.956191062927246,
          -4.068523406982422,
          6.799393177032471,
          -9.487098693847656,
          -3.2956912517547607,
          5.90944242477417,
          1.316788673400879,
          9.008004188537598,
          -12.468476295471191,
          8.715394020080566,
          -5.658795356750488,
          8.887999534606934,
          -1.0985195636749268,
          9.72978401184082,
          2.8439857959747314,
          -13.843832015991211,
          9.05227279663086,
          -0.09236922115087509,
          1.4687756299972534,
          2.483557939529419,
          -9.069252014160156,
          -12.632818222045898,
          -5.995670795440674,
          0.43383851647377014,
          1.83050537109375,
          -5.704498767852783,
          -0.1231878474354744,
          -4.81892728805542,
          -5.025293827056885,
          9.133341789245605,
          -7.538562297821045,
          5.196624279022217,
          -2.6206958293914795,
          5.1764302253723145,
          5.55714225769043,
          11.039511680603027,
          5.5174407958984375,
          3.1411490440368652,
          3.5947916507720947,
          9.862604141235352,
          -5.484003067016602,
          1.4033840894699097,
          -14.576010704040527,
          -3.2933356761932373,
          7.613748550415039,
          11.421947479248047,
          9.97191047668457,
          9.052081108093262,
          0.966535747051239,
          0.8408916592597961,
          -1.8150357007980347,
          -14.404243469238281,
          -3.092184066772461,
          -16.277271270751953,
          0.08230376988649368,
          0.7947874069213867,
          9.42618465423584,
          -6.066691875457764,
          3.7284727096557617,
          7.613553047180176,
          2.7143282890319824,
          -5.184524059295654,
          6.488031387329102,
          -13.464252471923828,
          -15.253837585449219,
          -4.761247634887695,
          -10.660852432250977,
          -6.566335201263428,
          -0.5594110488891602,
          -14.22880744934082,
          -11.089071273803711,
          -11.265380859375,
          -1.5139777660369873,
          4.194629669189453,
          7.1483683586120605,
          -10.292874336242676,
          -15.046442985534668,
          2.163890838623047,
          2.1540918350219727,
          -1.684391736984253,
          4.7597246170043945,
          0.8578159809112549,
          -1.7289832830429077,
          4.722136974334717,
          2.685669183731079,
          3.0700511932373047,
          -12.913817405700684,
          -9.013822555541992,
          -6.797024726867676,
          -5.412074565887451,
          1.1510502099990845,
          -1.996420979499817,
          -2.949997901916504,
          3.837801218032837,
          -1.200114369392395,
          -0.7618319392204285,
          -4.859366416931152,
          -4.913787841796875,
          -9.611963272094727,
          9.613203048706055,
          9.292863845825195,
          -6.1195292472839355,
          -11.437958717346191,
          -14.276093482971191,
          1.3889163732528687,
          6.515244007110596,
          -2.070798635482788,
          4.073456764221191,
          3.4934659004211426,
          -4.51693058013916,
          -4.001615524291992,
          -14.17880630493164,
          -3.346224784851074,
          -6.02860164642334,
          -9.75493049621582,
          1.2693259716033936,
          -0.4011662006378174,
          8.887202262878418,
          -0.34243765473365784,
          1.2172021865844727,
          -15.079920768737793,
          3.390505790710449,
          8.662842750549316,
          0.97137451171875,
          2.4571352005004883,
          -3.440178871154785,
          2.0587754249572754,
          -4.044295787811279,
          5.260491371154785,
          0.7556073665618896,
          2.77048921585083,
          -8.258941650390625,
          -14.017574310302734,
          9.529447555541992,
          3.9634132385253906,
          -5.521188735961914,
          -7.4551544189453125,
          -5.992506980895996,
          0.3122346103191376,
          11.26109790802002,
          7.42132043838501,
          -8.37802791595459,
          7.77911901473999
         ]
        }
       ],
       "layout": {
        "coloraxis": {
         "colorbar": {
          "title": {
           "text": "color"
          }
         },
         "colorscale": [
          [
           0,
           "#0d0887"
          ],
          [
           0.1111111111111111,
           "#46039f"
          ],
          [
           0.2222222222222222,
           "#7201a8"
          ],
          [
           0.3333333333333333,
           "#9c179e"
          ],
          [
           0.4444444444444444,
           "#bd3786"
          ],
          [
           0.5555555555555556,
           "#d8576b"
          ],
          [
           0.6666666666666666,
           "#ed7953"
          ],
          [
           0.7777777777777778,
           "#fb9f3a"
          ],
          [
           0.8888888888888888,
           "#fdca26"
          ],
          [
           1,
           "#f0f921"
          ]
         ]
        },
        "legend": {
         "tracegroupgap": 0
        },
        "margin": {
         "t": 60
        },
        "scene": {
         "domain": {
          "x": [
           0,
           1
          ],
          "y": [
           0,
           1
          ]
         },
         "xaxis": {
          "title": {
           "text": "pc_1"
          }
         },
         "yaxis": {
          "title": {
           "text": "pc_2"
          }
         },
         "zaxis": {
          "title": {
           "text": "pc_3"
          }
         }
        },
        "template": {
         "data": {
          "bar": [
           {
            "error_x": {
             "color": "#2a3f5f"
            },
            "error_y": {
             "color": "#2a3f5f"
            },
            "marker": {
             "line": {
              "color": "#E5ECF6",
              "width": 0.5
             }
            },
            "type": "bar"
           }
          ],
          "barpolar": [
           {
            "marker": {
             "line": {
              "color": "#E5ECF6",
              "width": 0.5
             }
            },
            "type": "barpolar"
           }
          ],
          "carpet": [
           {
            "aaxis": {
             "endlinecolor": "#2a3f5f",
             "gridcolor": "white",
             "linecolor": "white",
             "minorgridcolor": "white",
             "startlinecolor": "#2a3f5f"
            },
            "baxis": {
             "endlinecolor": "#2a3f5f",
             "gridcolor": "white",
             "linecolor": "white",
             "minorgridcolor": "white",
             "startlinecolor": "#2a3f5f"
            },
            "type": "carpet"
           }
          ],
          "choropleth": [
           {
            "colorbar": {
             "outlinewidth": 0,
             "ticks": ""
            },
            "type": "choropleth"
           }
          ],
          "contour": [
           {
            "colorbar": {
             "outlinewidth": 0,
             "ticks": ""
            },
            "colorscale": [
             [
              0,
              "#0d0887"
             ],
             [
              0.1111111111111111,
              "#46039f"
             ],
             [
              0.2222222222222222,
              "#7201a8"
             ],
             [
              0.3333333333333333,
              "#9c179e"
             ],
             [
              0.4444444444444444,
              "#bd3786"
             ],
             [
              0.5555555555555556,
              "#d8576b"
             ],
             [
              0.6666666666666666,
              "#ed7953"
             ],
             [
              0.7777777777777778,
              "#fb9f3a"
             ],
             [
              0.8888888888888888,
              "#fdca26"
             ],
             [
              1,
              "#f0f921"
             ]
            ],
            "type": "contour"
           }
          ],
          "contourcarpet": [
           {
            "colorbar": {
             "outlinewidth": 0,
             "ticks": ""
            },
            "type": "contourcarpet"
           }
          ],
          "heatmap": [
           {
            "colorbar": {
             "outlinewidth": 0,
             "ticks": ""
            },
            "colorscale": [
             [
              0,
              "#0d0887"
             ],
             [
              0.1111111111111111,
              "#46039f"
             ],
             [
              0.2222222222222222,
              "#7201a8"
             ],
             [
              0.3333333333333333,
              "#9c179e"
             ],
             [
              0.4444444444444444,
              "#bd3786"
             ],
             [
              0.5555555555555556,
              "#d8576b"
             ],
             [
              0.6666666666666666,
              "#ed7953"
             ],
             [
              0.7777777777777778,
              "#fb9f3a"
             ],
             [
              0.8888888888888888,
              "#fdca26"
             ],
             [
              1,
              "#f0f921"
             ]
            ],
            "type": "heatmap"
           }
          ],
          "heatmapgl": [
           {
            "colorbar": {
             "outlinewidth": 0,
             "ticks": ""
            },
            "colorscale": [
             [
              0,
              "#0d0887"
             ],
             [
              0.1111111111111111,
              "#46039f"
             ],
             [
              0.2222222222222222,
              "#7201a8"
             ],
             [
              0.3333333333333333,
              "#9c179e"
             ],
             [
              0.4444444444444444,
              "#bd3786"
             ],
             [
              0.5555555555555556,
              "#d8576b"
             ],
             [
              0.6666666666666666,
              "#ed7953"
             ],
             [
              0.7777777777777778,
              "#fb9f3a"
             ],
             [
              0.8888888888888888,
              "#fdca26"
             ],
             [
              1,
              "#f0f921"
             ]
            ],
            "type": "heatmapgl"
           }
          ],
          "histogram": [
           {
            "marker": {
             "colorbar": {
              "outlinewidth": 0,
              "ticks": ""
             }
            },
            "type": "histogram"
           }
          ],
          "histogram2d": [
           {
            "colorbar": {
             "outlinewidth": 0,
             "ticks": ""
            },
            "colorscale": [
             [
              0,
              "#0d0887"
             ],
             [
              0.1111111111111111,
              "#46039f"
             ],
             [
              0.2222222222222222,
              "#7201a8"
             ],
             [
              0.3333333333333333,
              "#9c179e"
             ],
             [
              0.4444444444444444,
              "#bd3786"
             ],
             [
              0.5555555555555556,
              "#d8576b"
             ],
             [
              0.6666666666666666,
              "#ed7953"
             ],
             [
              0.7777777777777778,
              "#fb9f3a"
             ],
             [
              0.8888888888888888,
              "#fdca26"
             ],
             [
              1,
              "#f0f921"
             ]
            ],
            "type": "histogram2d"
           }
          ],
          "histogram2dcontour": [
           {
            "colorbar": {
             "outlinewidth": 0,
             "ticks": ""
            },
            "colorscale": [
             [
              0,
              "#0d0887"
             ],
             [
              0.1111111111111111,
              "#46039f"
             ],
             [
              0.2222222222222222,
              "#7201a8"
             ],
             [
              0.3333333333333333,
              "#9c179e"
             ],
             [
              0.4444444444444444,
              "#bd3786"
             ],
             [
              0.5555555555555556,
              "#d8576b"
             ],
             [
              0.6666666666666666,
              "#ed7953"
             ],
             [
              0.7777777777777778,
              "#fb9f3a"
             ],
             [
              0.8888888888888888,
              "#fdca26"
             ],
             [
              1,
              "#f0f921"
             ]
            ],
            "type": "histogram2dcontour"
           }
          ],
          "mesh3d": [
           {
            "colorbar": {
             "outlinewidth": 0,
             "ticks": ""
            },
            "type": "mesh3d"
           }
          ],
          "parcoords": [
           {
            "line": {
             "colorbar": {
              "outlinewidth": 0,
              "ticks": ""
             }
            },
            "type": "parcoords"
           }
          ],
          "pie": [
           {
            "automargin": true,
            "type": "pie"
           }
          ],
          "scatter": [
           {
            "marker": {
             "colorbar": {
              "outlinewidth": 0,
              "ticks": ""
             }
            },
            "type": "scatter"
           }
          ],
          "scatter3d": [
           {
            "line": {
             "colorbar": {
              "outlinewidth": 0,
              "ticks": ""
             }
            },
            "marker": {
             "colorbar": {
              "outlinewidth": 0,
              "ticks": ""
             }
            },
            "type": "scatter3d"
           }
          ],
          "scattercarpet": [
           {
            "marker": {
             "colorbar": {
              "outlinewidth": 0,
              "ticks": ""
             }
            },
            "type": "scattercarpet"
           }
          ],
          "scattergeo": [
           {
            "marker": {
             "colorbar": {
              "outlinewidth": 0,
              "ticks": ""
             }
            },
            "type": "scattergeo"
           }
          ],
          "scattergl": [
           {
            "marker": {
             "colorbar": {
              "outlinewidth": 0,
              "ticks": ""
             }
            },
            "type": "scattergl"
           }
          ],
          "scattermapbox": [
           {
            "marker": {
             "colorbar": {
              "outlinewidth": 0,
              "ticks": ""
             }
            },
            "type": "scattermapbox"
           }
          ],
          "scatterpolar": [
           {
            "marker": {
             "colorbar": {
              "outlinewidth": 0,
              "ticks": ""
             }
            },
            "type": "scatterpolar"
           }
          ],
          "scatterpolargl": [
           {
            "marker": {
             "colorbar": {
              "outlinewidth": 0,
              "ticks": ""
             }
            },
            "type": "scatterpolargl"
           }
          ],
          "scatterternary": [
           {
            "marker": {
             "colorbar": {
              "outlinewidth": 0,
              "ticks": ""
             }
            },
            "type": "scatterternary"
           }
          ],
          "surface": [
           {
            "colorbar": {
             "outlinewidth": 0,
             "ticks": ""
            },
            "colorscale": [
             [
              0,
              "#0d0887"
             ],
             [
              0.1111111111111111,
              "#46039f"
             ],
             [
              0.2222222222222222,
              "#7201a8"
             ],
             [
              0.3333333333333333,
              "#9c179e"
             ],
             [
              0.4444444444444444,
              "#bd3786"
             ],
             [
              0.5555555555555556,
              "#d8576b"
             ],
             [
              0.6666666666666666,
              "#ed7953"
             ],
             [
              0.7777777777777778,
              "#fb9f3a"
             ],
             [
              0.8888888888888888,
              "#fdca26"
             ],
             [
              1,
              "#f0f921"
             ]
            ],
            "type": "surface"
           }
          ],
          "table": [
           {
            "cells": {
             "fill": {
              "color": "#EBF0F8"
             },
             "line": {
              "color": "white"
             }
            },
            "header": {
             "fill": {
              "color": "#C8D4E3"
             },
             "line": {
              "color": "white"
             }
            },
            "type": "table"
           }
          ]
         },
         "layout": {
          "annotationdefaults": {
           "arrowcolor": "#2a3f5f",
           "arrowhead": 0,
           "arrowwidth": 1
          },
          "coloraxis": {
           "colorbar": {
            "outlinewidth": 0,
            "ticks": ""
           }
          },
          "colorscale": {
           "diverging": [
            [
             0,
             "#8e0152"
            ],
            [
             0.1,
             "#c51b7d"
            ],
            [
             0.2,
             "#de77ae"
            ],
            [
             0.3,
             "#f1b6da"
            ],
            [
             0.4,
             "#fde0ef"
            ],
            [
             0.5,
             "#f7f7f7"
            ],
            [
             0.6,
             "#e6f5d0"
            ],
            [
             0.7,
             "#b8e186"
            ],
            [
             0.8,
             "#7fbc41"
            ],
            [
             0.9,
             "#4d9221"
            ],
            [
             1,
             "#276419"
            ]
           ],
           "sequential": [
            [
             0,
             "#0d0887"
            ],
            [
             0.1111111111111111,
             "#46039f"
            ],
            [
             0.2222222222222222,
             "#7201a8"
            ],
            [
             0.3333333333333333,
             "#9c179e"
            ],
            [
             0.4444444444444444,
             "#bd3786"
            ],
            [
             0.5555555555555556,
             "#d8576b"
            ],
            [
             0.6666666666666666,
             "#ed7953"
            ],
            [
             0.7777777777777778,
             "#fb9f3a"
            ],
            [
             0.8888888888888888,
             "#fdca26"
            ],
            [
             1,
             "#f0f921"
            ]
           ],
           "sequentialminus": [
            [
             0,
             "#0d0887"
            ],
            [
             0.1111111111111111,
             "#46039f"
            ],
            [
             0.2222222222222222,
             "#7201a8"
            ],
            [
             0.3333333333333333,
             "#9c179e"
            ],
            [
             0.4444444444444444,
             "#bd3786"
            ],
            [
             0.5555555555555556,
             "#d8576b"
            ],
            [
             0.6666666666666666,
             "#ed7953"
            ],
            [
             0.7777777777777778,
             "#fb9f3a"
            ],
            [
             0.8888888888888888,
             "#fdca26"
            ],
            [
             1,
             "#f0f921"
            ]
           ]
          },
          "colorway": [
           "#636efa",
           "#EF553B",
           "#00cc96",
           "#ab63fa",
           "#FFA15A",
           "#19d3f3",
           "#FF6692",
           "#B6E880",
           "#FF97FF",
           "#FECB52"
          ],
          "font": {
           "color": "#2a3f5f"
          },
          "geo": {
           "bgcolor": "white",
           "lakecolor": "white",
           "landcolor": "#E5ECF6",
           "showlakes": true,
           "showland": true,
           "subunitcolor": "white"
          },
          "hoverlabel": {
           "align": "left"
          },
          "hovermode": "closest",
          "mapbox": {
           "style": "light"
          },
          "paper_bgcolor": "white",
          "plot_bgcolor": "#E5ECF6",
          "polar": {
           "angularaxis": {
            "gridcolor": "white",
            "linecolor": "white",
            "ticks": ""
           },
           "bgcolor": "#E5ECF6",
           "radialaxis": {
            "gridcolor": "white",
            "linecolor": "white",
            "ticks": ""
           }
          },
          "scene": {
           "xaxis": {
            "backgroundcolor": "#E5ECF6",
            "gridcolor": "white",
            "gridwidth": 2,
            "linecolor": "white",
            "showbackground": true,
            "ticks": "",
            "zerolinecolor": "white"
           },
           "yaxis": {
            "backgroundcolor": "#E5ECF6",
            "gridcolor": "white",
            "gridwidth": 2,
            "linecolor": "white",
            "showbackground": true,
            "ticks": "",
            "zerolinecolor": "white"
           },
           "zaxis": {
            "backgroundcolor": "#E5ECF6",
            "gridcolor": "white",
            "gridwidth": 2,
            "linecolor": "white",
            "showbackground": true,
            "ticks": "",
            "zerolinecolor": "white"
           }
          },
          "shapedefaults": {
           "line": {
            "color": "#2a3f5f"
           }
          },
          "ternary": {
           "aaxis": {
            "gridcolor": "white",
            "linecolor": "white",
            "ticks": ""
           },
           "baxis": {
            "gridcolor": "white",
            "linecolor": "white",
            "ticks": ""
           },
           "bgcolor": "#E5ECF6",
           "caxis": {
            "gridcolor": "white",
            "linecolor": "white",
            "ticks": ""
           }
          },
          "title": {
           "x": 0.05
          },
          "xaxis": {
           "automargin": true,
           "gridcolor": "white",
           "linecolor": "white",
           "ticks": "",
           "title": {
            "standoff": 15
           },
           "zerolinecolor": "white",
           "zerolinewidth": 2
          },
          "yaxis": {
           "automargin": true,
           "gridcolor": "white",
           "linecolor": "white",
           "ticks": "",
           "title": {
            "standoff": 15
           },
           "zerolinecolor": "white",
           "zerolinewidth": 2
          }
         }
        }
       }
      },
      "text/html": [
       "<div>                            <div id=\"a6fc2992-9dbb-4e96-aaf0-22f8f3ee2017\" class=\"plotly-graph-div\" style=\"height:525px; width:100%;\"></div>            <script type=\"text/javascript\">                require([\"plotly\"], function(Plotly) {                    window.PLOTLYENV=window.PLOTLYENV || {};                                    if (document.getElementById(\"a6fc2992-9dbb-4e96-aaf0-22f8f3ee2017\")) {                    Plotly.newPlot(                        \"a6fc2992-9dbb-4e96-aaf0-22f8f3ee2017\",                        [{\"customdata\": [[\"which kind of diabetes is considered an auto immune disease ?\"], [\"what if you took insluin but was not a diabetic ?\"], [\"treatments for type one of diabetes ?\"], [\"how do you get juvenile diabetes ?\"], [\"can somebody with high blood sugar eat egg ?\"], [\"which country or state has the lowest heart <unk> type two diabetes and cancer overall health risks ?\"], [\"how you can diagnose <unk> ?\"], [\"is a diabetic diet plan healthy ?\"], [\"what is the name of the diabetic tea ?\"], [\"is type two diabetes infectious or noninfectious ?\"], [\"when blood levels of glucose amino acids and insulin are high and glycogenesis is occurring in the liver the body is in the ?\"], [\"can diabetics eat grapefruit ?\"], [\"is there a way to detect a diabetes carrier ?\"], [\"how often do you have to put insulin in your insulin pump ?\"], [\"where can i obtain a diabetic food pyramid ?\"], [\"who said diabetics can not have cake ?\"], [\"how does insulin lower the blood glucose level if it is too high ?\"], [\"where can i find out more about diabetic diet sheet ?\"], [\"diabetics can drink coffee ?\"], [\"where can one find recipes suitable for diabetics ?\"], [\"describe type one diabetes ?\"], [\"does blood sugar rise or fall during intense exercise ?\"], [\"what organism is used to produce human insulin ?\"], [\"we all need to normal blood sugar ?\"], [\"why is foot care so important for diabetics ?\"], [\"where can you find a good type two diabetes diet plan ?\"], [\"what is the best remedy of diabetes ?\"], [\"what dietary supplements can be taken to help reduce diabetes ?\"], [\"where can i find the new diabetic food list ?\"], [\"what part of the human digestive system produces insulin to control sugar in the blood ?\"], [\"what problems do diabetics suffer from ?\"], [\"what medication is needed for diabetes ?\"], [\"what causes diabetes ?\"], [\"what is the treatment of diabetes ?\"], [\"what to eat for pre diabetes ?\"], [\"why have your ankles swollen up ?\"], [\"diabetes mellitus is caused by a lack of the hormone . ?\"], [\"does smoking cause diabetes two ?\"], [\"does anyone else have diabeties ?\"], [\"where can one find information about diabetes type one ?\"], [\"what research has been done on vitamin k ?\"], [\"what is diabetic gastroparesis ?\"], [\"can you have high blood sugar but not have diabetes ?\"], [\"how can diabetes be detected ?\"], [\"where can i find ideas for diabetes diet foods ?\"], [\"how many people have type one diabetes in th uk ?\"], [\"how do you inherit diabetes ?\"], [\"which fruit is good for a diabetic diet ?\"], [\"can gestational diabetes turn into type one diabetes ?\"], [\"what diet can you recommend for a diabetic ?\"], [\"will diabetes make a person die ?\"], [\"what is the best sugar substitute if you are diabetic ?\"], [\"can an operation which left <unk> and <unk> area in your skin rises your blood sugar ?\"], [\"what increases your risk of getting diabetes ?\"], [\"what should my blood sugar level be ?\"], [\"do diabetics need to pay for insulin prescriptions ?\"], [\"can low blood sugar cause renal failure ?\"], [\"where can i get diabetic meal recipes ?\"], [\"where can gangrene be found ?\"], [\"what snacks can a type two diabetics eat ?\"], [\"what is type two adult onset diabetes ?\"], [\"would a banana increase your blood sugar levels ?\"], [\"how does diet affect diabetes ?\"], [\"are peanuts can cure diabetes ?\"], [\"how common is type two diabetes ?\"], [\"what is the condition during diabetes that makes you have very large babies ?\"], [\"what is hypoglycemic coma ?\"], [\"what happens if blood sugar levels are not properly regulated ?\"], [\"how does diabetes affect your physical lifestyle ?\"], [\"what is type one diabetes ?\"], [\"how many people currently have diabetes in <unk> ?\"], [\"how does poor diet and lifestyle cause type two diabetes ?\"], [\"are banana good for diabetic ?\"], [\"does diabetes cause ed ?\"], [\"can women with diabetes be pregnant ?\"], [\"can a diabetic patient eat watermelon ?\"], [\"how does diabetes contribute to <unk> ?\"], [\"how many units of insulin are in a normal vial ?\"], [\"what can you do if diabetic ?\"], [\"which part of your body produce insulin ?\"], [\"what does a stable or increasing level of cea in the blood indicate ?\"], [\"where can i find more information on cereal for diabetics ?\"], [\"what is hypoglycemia and its treatment ?\"], [\"what kind of diet should you be on if you have diabetes ?\"], [\"when did nick get diagnose with type one diabetes ?\"], [\"what organ is unable to take up glucose in diabetes mellitus ?\"], [\"how does insulin help cure diabetes ?\"], [\"what molecule is produced in the liver during <unk> or type one diabetes ?\"], [\"can type two diabetes be cured ?\"], [\"what are the release dates for project not me diabetes prevention - two thousand and twelve fat <unk> 1-2 ?\"], [\"the average blood sugar over the past three weeks is measured by what test ?\"], [\"what causes dry mouth ?\"], [\"who discovered hypoglycemia ?\"], [\"when injected insulin is best absorbed via which <unk> ?\"], [\"how long after hypoglycemic attack should blood sugar level be taken ?\"], [\"what is <unk> ?\"], [\"can parents give their children diabetes ?\"], [\"if your best friend is a ten year old with diabetes and you have to take daily shots and you miss one shot in one day only will you die ?\"], [\"what is the letter form in dominant and recessive trait ?\"], [\"what are the medical reasons for females to have <unk> ?\"], [\"how do you cure diabetes ?\"], [\"i take an amino acid supplement does <unk> acid or <unk> affect or raise your blood sugar ?\"], [\"how many different types of diabetes are there ?\"], [\"would diabetes mellitus cause urine to be more acidic ?\"], [\"how does type two diabetes affect your health ?\"], [\"what are anti diabetic plants ?\"], [\"who are brittle diabetics ?\"], [\"where can diabetes be found in the body ?\"], [\"can diabetes be eliminated after weight loss ?\"], [\"are black olives good for diabetics ?\"], [\"can sexual arousal cause spike in blood sugar in diabetic male ?\"], [\"which hormone deficiency causes diabetes ?\"], [\"what organ system does diabetes belong ?\"], [\"is a diabetic menu safe to feed the whole family not just the diabetic person ?\"], [\"are you born with type one diabetes ?\"], [\"the number one cause of what in adults in the us is diabetes ?\"], [\"what causes urine specific gravity to be high ?\"], [\"what is a description for fasting blood sugar ?\"], [\"in what secondary ways can alcohol affect your blood sugar level ?\"], [\"what blood sugar level is considered high ?\"], [\"what do i have to do when i do not have normal blood sugar values ?\"], [\"what part of the body make insulin ?\"], [\"<unk> . gave me <unk> insulin an my blood sugar has been up every . i have been to the hospital twice . right now my sugar is five hundred and forty six bp <unk> <unk> . it has been like this all week , what can i do to get it <unk> already take <unk> times a day and lantus for lon ?\"], [\"diabetes mellitus is caused by what ?\"], [\"which glucose levels are normal while fasting ?\"], [\"when did diabetes start ?\"], [\"is diabetes infectious or noninfectious ?\"], [\"is the prognosis good for patients with <unk> ?\"], [\"why do you have pains in the lower left side of the stomach ?\"], [\"how would replacing pancreases benefit a diabetic person ?\"], [\"can banana leaf tea lower sugar levels for diabetes ?\"], [\"who did a <unk> of insulin for diabetes ?\"], [\"can diabetes stop you from being certified from driving a truck ?\"], [\"what are the gestational diabetes diet for ?\"], [\"why is protein <unk> needed in diabetes ?\"], [\"can diabetes cause blurred vision ?\"], [\"what kind of foods are diabetic friendly ?\"], [\"overcoming challenges with a diabetes diet for seniors ?\"], [\"where was the first human found ?\"], [\"what does blood sugar <unk> mean ?\"], [\"when giving subcutaneous injections you do <unk> for blood first why not in giving anticoagulants and insulin injection ?\"], [\"what hormone produced in inadequate amounts causes excessive diuresis without high blood glucose levels ?\"], [\"can type two diabetes be cured with proper diet ?\"], [\"is a <unk> waking blood sugar of one hundred and forty eight high ?\"], [\"what are examples of some diabetic diet meal plan ?\"], [\"what is the most common sign of diabetes ?\"], [\"is type one diabetes worse then type two ?\"], [\"what kind of foods can you eat to keep your blood sugar stable ?\"], [\"can the onset of <unk> cause a false positive in diabetes test ?\"], [\"what is the scientific name for kidney failure ?\"], [\"what is the best food for diabetic cats ?\"], [\"what structures in the kidneys are being damaged by diabetes mellitus ?\"], [\"what does sugar cause ?\"], [\"at what age can diabetes start ?\"], [\"will mango fruit prevent diabetes ?\"], [\"does to much intake of sugar causes diabetes ?\"], [\"if a schnauzer has diabetes will he lose hair ?\"], [\"does high blood sugar affect the memory and brain skills ?\"], [\"should a diabetic eat <unk> nuts honey etc . ?\"], [\"what treatment is available for high blood plasma ?\"], [\"can diabetics drink <unk> ?\"], [\"will <unk> cause diabetes ?\"], [\"what research has been done on <unk> chi ?\"], [\"are there medical id bracelets for diabetics ?\"], [\"when blood sugar drops then <unk> up high when does it balance out ?\"], [\"how do people with type two diabetes look ?\"], [\"how many people are diagnosed with diabetes every year ?\"], [\"is pasta good for diabetes ?\"], [\"what do you call the presence of glucose in the urine ?\"], [\"what is the <unk> cost for having diabetes ?\"], [\"where can i find diabetic food recipes for thanksgiving ?\"], [\"can water melon can be eaten by diabetic ?\"], [\"how do bacteria help protect people with diabetes ?\"], [\"what are the major symptoms for type two diabetes ?\"], [\"how long does it take for <unk> to react to high blood sugars ?\"], [\"what kind of medicines are available to treat diabetes ?\"], [\"how many people in us have diabetes ?\"], [\"a sign of diabetes ?\"], [\"how is type two diabetes transmitted ?\"], [\"why do people with diabetes have a high level of sugar in their blood ?\"], [\"what is the best lager for a type two diabetic ?\"], [\"can you have hypoglycemia and turn into type two diabetes ?\"], [\"what is a good menu for diabetics ?\"], [\"what is the life cycle of glucose ?\"], [\"how do you prevent hypertension ?\"], [\"which <unk> have a good menu for diabetics ?\"], [\"what diet should a diabetic follow ?\"], [\"what is the best drugs for diabetes ?\"], [\"is it safe to consume <unk> if you are a diabetic ?\"], [\"what does frequent blood sugar levels over one hundred and sixty after eating mean ?\"], [\"what are the indications in modern studies for barley grass in the treatment of type two diabetes ?\"], [\"is glucose created in the <unk> ?\"], [\"is wheat bread ok to eat for diabetics ?\"], [\"does drinking alcohol with diabetes from a young age if even it is controlled affect your health in later years ?\"], [\"where can i find more information on diabetic meals ?\"], [\"can people with type two diabetes drive a truck in <unk> ?\"], [\"what does a glucose meter measure ?\"], [\"is inulin bad for you ?\"], [\"how can you lower your blood sugar quickly ?\"], [\"what type of diet should someone with diabetes have ?\"], [\"who gets diabetes ?\"], [\"can a type one diabetics live a normal life ?\"], [\"is three hundred and seven considered a normal rate for your blood sugar ?\"], [\"how is diabetes regulated ?\"], [\"which hormone is not produced properly in diabetics ?\"], [\"which type of diabetes is a concern for young australians ?\"], [\"where can i find information about a gestational diabetes diet ?\"], [\"where can i find a diabetes food list ?\"], [\"what is the relationship between obesity and diabetes ?\"], [\"what is a healthy blood sugar level for a forty one year old male ?\"], [\"what causes dehydration in diabetes ?\"], [\"insulin dependent diabetes mellitus is caused by ?\"], [\"can a diabetic eat almonds ?\"], [\"what cells will type one diabetes damage ?\"], [\"how does <unk> help diabetes ?\"], [\"what are some foods diabetics should not eat ?\"], [\"diabetes meals ?\"], [\"insulin-dependent diabetics depend upon what microorganisms ?\"], [\"can type one diabetes be cured ?\"], [\"what are some diet and exercise tips for diabetic men that do not like to exercise and love to eat unhealthy foods ?\"], [\"do you know where to find diabetes recipes ?\"], [\"how does nick jonas brothers help him through living with diabetes ?\"], [\"whats a good diet if you have type two diabetes ?\"], [\"what is the storage form of glucose in humans ?\"], [\"who needs to use a glucose monitor watch ?\"], [\"what is end stage renal failure ?\"], [\"how do you know it is type1 <unk> diabetes ?\"], [\"what is released after your blood sugar level is too high ?\"], [\"where can i find a diet plan for diabetics ?\"], [\"how can you get diabeties ?\"], [\"how does diabetes affect the kidneys ?\"], [\"which is the best wine for diabetes ?\"], [\"does insulin have to be taken daily ?\"], [\"is it true that sixty nine percent of the world is population including animals have diabetes ?\"], [\"what is the normal blood sugar level for a child ?\"], [\"how can you lower your blood sugar ?\"], [\"can type one diabetes be transferred ?\"], [\"how does type two diabetes affect your lifestyle ?\"], [\"how do you catch type two diabetes ?\"], [\"where can one find dessert recipes for diabetics ?\"], [\"what is the definition of high in fats ?\"], [\"can high glucose levels result in diabetes ?\"], [\"what does <unk> root cure ?\"], [\"if a patient is blood sugar is to low they may go into a diabetic coma ?\"], [\"where can you find the information about the diabetes treatment over the internet ?\"], [\"what is the organ of diabetes ?\"], [\"will smoking cigarettes cause diabetes ?\"], [\"what products claim to be natural cures for diabetes ?\"], [\"can a diabetic man impregnate a woman ?\"], [\"is it nick jonas diabetic ?\"], [\"what are some stevia dessert recipes ?\"], [\"is one hundred and sixty two a high blood sugar reading after eating two hours ago ?\"], [\"what food contains uric acid ?\"], [\"why can you not <unk> insulin ?\"], [\"can diabetes cause hypertension ?\"], [\"does insulin lower blood sugar levels ?\"], [\"can a diabetic take <unk> ?\"], [\"what are some food products for people with diabetes ?\"], [\"can you use <unk> inside <unk> ?\"], [\"are there any diabetes blood sugar tests that do not require pricking the fingers ?\"], [\"what are some good ideas for diabetic foods ?\"], [\"how could parents protect their children against diabetes ?\"], [\"is <unk> bad for you ?\"], [\"why does diabetics build up <unk> on feet ?\"], [\"what part of the body is diabetes located ?\"], [\"can being a diabetic cause a home pregnancy test to read negative ?\"], [\"i an a unusually case i have try several type of medicine for my diabete can not regulate my blood sugar i need help ?\"], [\"if your blood sugar reading is one hundred and fifty five is that high ?\"], [\"what <unk> is diabetes most common ?\"], [\"can you be denied life insurance if you have diabetes ?\"], [\"is <unk> mountain herbs is suitable for me because i am looking chinese herbs for my grand mother is diabetes ?\"], [\"can you get a false glucose reading ?\"], [\"what is a good diet to keep your sugar levels down ?\"], [\"is frequent night time urination a symptom of type two diabetes ?\"], [\"can insulin be taken with <unk> ?\"], [\"what age does diabetes first become evident ?\"], [\"diabetes affect the body is ability to use what ?\"], [\"how is gestational diabetes diagnosed ?\"], [\"what alternative treatments can help <unk> the symptoms of diabetes ?\"], [\"how many calories can a diabetic have a day ?\"], [\"what is the treatment for <unk> ?\"], [\"what is a diet sheet ?\"], [\"how does a <unk> <unk> look like if the possible parent combination in type two diabetes ?\"], [\"does <unk> plant really cause an diabetes ?\"], [\"what are some type two diabetes symptoms ?\"], [\"what is smart insulin ?\"], [\"where can one learn about diabetes mellitus type two ?\"], [\"how can you improve your health when you have diabetes ?\"], [\"is milk bad for uric acid ?\"], [\"where can one get free diabetes education ?\"], [\"what is the ratio of people that get diabetes in texas ?\"], [\"is water good for diabetics ?\"], [\"does exercising daily help people who have diabetes , or does it have no effect on them ?\"], [\"the major function of insulin is <unk> in what ?\"], [\"how long does it take for blood sugar to drop without medication using diet exercise and supplements ?\"], [\"what diseases are caused by lack of mineral fe ?\"], [\"can a diabetic patient eat one mango a day ?\"], [\"what acts antagonistically to insulin ?\"], [\"where can someone buy a diabetes meter ?\"], [\"what kind of foods cause rapid weight loss ?\"], [\"how old was nick jonas when he found out he had diabetes ?\"], [\"can diabetes make you tired ?\"], [\"what herb is used to help diabetics ?\"], [\"how many people are diagnosed with diabetes each day ?\"], [\"does diabetes effect your <unk> and peeing ?\"], [\"what if i had diabetes for a while and did not know it and can not go to the doctor is to see if you do have it will it get worse ?\"], [\"how are each type of diabetes treated ?\"], [\"what are some diabetes symptoms ?\"], [\"can you name some diabetic cookbooks with easy instructions ?\"], [\"does steve redgrave have diabetes ?\"], [\"can diabetes lead to blindness ?\"], [\"can body twitching be a sign of diabetes ?\"], [\"what is the symptoms of hyperglycemia ?\"], [\"how do you avoid low blood sugar ?\"], [\"can insulin shots produce bright yellow urine ?\"], [\"being overweight is a major cause of diabetes ?\"], [\"can diabetics eat <unk> ?\"], [\"what is the average cost of pre diabetes treatment ?\"], [\"does the diabetes dtour diet work <unk> ?\"], [\"what research has been done on <unk> ?\"], [\"how do you <unk> diabetes ?\"], [\"can any diseases be spread by someone else is used diabetic needle ?\"], [\"where is a blood sugar levels chart ?\"], [\"what is <unk> diabetes mellitus ?\"], [\"diabetes signs ?\"], [\"what does diabetes do to a body ?\"], [\"how many servings of fruit is a mango ?\"], [\"how does a person is waistline measurement relate to glucose levels ?\"], [\"what insulins can not be mixed with other insulins ?\"], [\"how does ketosis and acetone effect diabetics ?\"], [\"what is normal blood sugar reading ?\"], [\"will eating dates increase blood sugar ?\"], [\"what is post-prandial hypoglycemia ?\"], [\"what is a normal range for fasting blood glucose ?\"], [\"how does levothyroxine affect blood sugar levels ?\"], [\"how is exercise related to diabetes ?\"], [\"what is the best sugar free laxative to give a child on a ketogenic diet ?\"], [\"what are some meals for diabetics ?\"], [\"what causes excessive thirst high blood glucose levels acidosis ?\"], [\"can someone with diabetes eat <unk> ?\"], [\"how soda cause diabetes ?\"], [\"what is the difference of fasting blood sugar and <unk> blood sugar ?\"], [\"how do you prevent type one and type two diabetes ?\"], [\"what iv fluids needed by a diabetic patient ?\"], [\"how do you use dna technology to help treat diabetes ?\"], [\"the substance which has a sweet fruity odor that is found in small quantities in normal urine and in larger amount in diabetic urine is ?\"], [\"what substance interferes with the body is ability to carry oxygen ?\"], [\"can exercise easily improve type one diabetes ?\"], [\"what special precautions are taken for children with known food allergies diabetes or celiac disease ?\"], [\"what type of hereditary condition is <unk> <unk> ?\"], [\"what is main blood sugar in the body ?\"], [\"can you be diagnosed with diabetes after one high glucose reading ?\"], [\"twenty units equals how many <unk> ?\"], [\"are there any celebrities that have diabetes ?\"], [\"what ways can you manage to have a good nutrition while living with diabetes ?\"], [\"what are some common diabetes symptoms ?\"], [\"what kind of doctor specializes in diabetes ?\"], [\"where can i find information about diabetic eating ?\"], [\"what hormone causes you to get type one diabetes ?\"], [\"should a non-diabetic follow a diabetic diet menu ?\"], [\"where can one purchase diabetic supplies from ?\"], [\"can using more than one type of drugs kill you faster ?\"], [\"what is high blood sugar ?\"], [\"if you have diabetes your body can not make or use <unk> ?\"], [\"what are the release dates for <unk> <unk> is diabetes ad - two thousand and twelve ?\"], [\"what causes <unk> hypoglycemia ?\"], [\"can an non diabetic take insulin plant leaves ?\"], [\"can you use a normal syringe for insulin ?\"], [\"if your dad has diabeties will you get it ?\"], [\"you have not got diabetes but an eye specialist found bleeding behind the eye what might the cause be as he did not explain ?\"], [\"what is the best way to lose and keep off weight for diabetics ?\"], [\"what is <unk> diabetes ?\"], [\"what is the causes of diabetes ?\"], [\"how do you get four hundred <unk> at six thousand , five hundred <unk> out of a four bbl carb <unk> three hundred and five ?\"], [\"how much people died of diabetes before insulin ?\"], [\"why can not diabetics drink liquor ?\"], [\"my boyfriend is in the late stages of alcoholism he cant eat and is extremely thin . most of his caloric intake is from <unk> . doctors suspect he is diabetic now . does that happen often ?\"], [\"is sugar free <unk> ok to drink with type two diabetes ?\"], [\"is diabetes bad ?\"], [\"how do you prevent kidney damage ?\"], [\"which country has the most cases of diabetes ?\"], [\"which food items are typically on the diabetic food list ?\"], [\"when was diabetes care created ?\"], [\"is diabetes <unk> ?\"], [\"what is a good diet for type two diabetes ?\"], [\"where can i purchase or copy the best menu for diabetic people ?\"], [\"can diabetes form in animals ?\"], [\"can liver disease heal its self if the person stops drinking ?\"], [\"what produces the hormone in alpha cells ?\"], [\"is there any treatment for diabetes in homeopathy ?\"], [\"when <unk> up nph insulin do you shake the bottle or <unk> <unk> the bottle ?\"], [\"what are the names of the different type of diabetes ?\"], [\"what are diabetic meals and their significance ?\"], [\"can diabetes make you lose fat ?\"], [\"can calories cause diabetes ?\"], [\"what are the symptoms of having a hypo when you have got type one diabetes ?\"], [\"could diabetes cause your hands to lock up ?\"], [\"what blood test measures average blood glucose for ninety days ?\"], [\"what does food or fluids correct in a diabetic emergency ?\"], [\"why does the risk for developing diabetes increase with age ?\"], [\"are obesity and diabetes national <unk> in the us ?\"], [\"does nick jerry jonas have diabetes ?\"], [\"when was <unk> center for diabetes education created ?\"], [\"what is the difference between antibiotics and <unk> ?\"], [\"why does diabetes cause sweet urine ?\"], [\"why insulin is used ?\"], [\"have you tried <unk> ?\"], [\"what is a gland not working in a diabetic ?\"], [\"how old was nick jonas when he got diabetes ?\"], [\"how do you keep sugar levels for diabetes regulated ?\"], [\"diabetic dessert recipe for apple pie ?\"], [\"how much is one gram of cinnamon ?\"], [\"what are some treatment types for diabetes ?\"], [\"are there any natural herbs that can cure diabetes ?\"], [\"can you be a <unk> <unk> if you have diabetes ?\"], [\"how do you know you have got a <unk> on someone ?\"], [\"whats are the side effects of diabetes . ?\"], [\"what are the medicine for diabetics ?\"], [\"are two symptoms of diabetes sudden ?\"], [\"what tissue in addition to the liver is taken from the donor for an orthotopic transplantation ?\"], [\"what body systems does diabetes type one affect ?\"], [\"how many pacific people have type two diabetes ?\"], [\"an <unk> <unk> at the unit and <unk> that he was burned in a cooking accident last night as you assess the burn what indicates the burn is <unk> ?\"], [\"can diabetes be tested at birth ?\"], [\"can you eat a banana if you have gestational diabetes ?\"], [\"what side affects for using the <unk> diabetic nerve <unk> ?\"], [\"what happens to insulin when it is injected into the skin ?\"], [\"why diabetes patients are increasing ?\"], [\"is there any treatment for cystic fibrosis ?\"], [\"how many good carbs should you eat if you are five ' four and want to lose fifteen pounds ?\"], [\"can smoking marijuana help type two diabetes ?\"], [\"how does diabetes affect the smell of urine ?\"], [\"managing diabetic symptoms with proper nutrition ?\"], [\"why do a diabetes patient has to cut off the leg ?\"], [\"how is gestational diabetes different from other types of diabetes ?\"], [\"how can diabetes in pregnancy be prevented ?\"], [\"what is the effect of sugar on <unk> ?\"], [\"what are signs of your cat having diabetes ?\"], [\"what is the normal blood sugar level for a thirteen year old ?\"], [\"is there a cure for diabetes ?\"], [\"does herbs actually help diabetes ?\"], [\"why must insulin be injected ?\"], [\"diabetes mellitus ?\"], [\"could you test diabetes from home ?\"], [\"what do you do if someone has high blood sugar attack ?\"], [\"can you get fired on a job at the post office due to not putting on the application you did not have diabetes ?\"], [\"what clinical findings occurs first in metabolic acidosis of a patient with type one diabetes ?\"], [\"what is sign of diabetes ?\"], [\"what is the medical term meaning accumulation of ketone bodies in the blood results of the condition diabetes mellitus called ?\"], [\"what can treat diabetes ?\"], [\"is type two diabetes noninfectious ?\"], [\"what are the risks of a diabetic patient having a spinal <unk> surgically removed ?\"], [\"what ages can people have diabetes ?\"], [\"how do you create insulin ?\"], [\"what to do if blood sugar go above one hundred and forty ?\"], [\"test for diabetes ?\"], [\"when can diabetic ketoacidosis develop in type ii diabetics ?\"], [\"what goes wrong in the body of a diabetic ?\"], [\"what is the difference between type ii diabetes and juvenile or type i diabetes ?\"], [\"what is the probability a child will have type one diabetes if a thirty five year old mother who wears size six had gestational diabetes ?\"], [\"how do you quickly lower your blood sugar levels ?\"], [\"what are the most obvious signs of diabetes in young children ?\"], [\"is there quite a lot of sugar in bananas ?\"], [\"where can one find information on type two diabetes friendly diets ?\"], [\"can you be hyperglycemic but not diabetic ?\"], [\"where can i hire a diabetic meal planner ?\"], [\"what if blood sugar is five hundred and thirty nine ?\"], [\"are you born with type two diabetes ?\"], [\"do you have to take a injection for diabets type one ?\"], [\"diet for diabetes ?\"], [\"what happens if you mix different brands of insulin such as novorapid and lantus ?\"], [\"is there a cause for <unk> and what causes it ?\"], [\"can you have both diabetes mellitus and diabetes insipidus ?\"], [\"how does walking help blood sugar levels ?\"], [\"is diabetes a blood <unk> pathogen ?\"], [\"what is the normal value for sugar in urine ?\"], [\"when a person is sick with diabetes check ?\"], [\"what are two ways diabetes can be controlled ?\"], [\"is type one diabetes a sex linked gene ?\"], [\"where is insulin was invented ?\"], [\"if you are a diabetic do you have to take the flu vaccine ?\"], [\"how do you diagnose diabetes insipidus ?\"], [\"when was jackie robinson diagnosed with diabetes ?\"], [\"what is the normal range blood sugar level ?\"], [\"what are some recipes for kids with diabetes ?\"], [\"can people who hae diabetes smoke ?\"], [\"what are the top causes of diabetes high blood sugar ?\"], [\"how long does it take for the food to be detected in the blood as glucose ?\"], [\"is eating fish egg good for a diabetics person ?\"], [\"the urine of a diabetic patient with ketoacidosis may have a smell of what ?\"], [\"do diabetics have fits ?\"], [\"is it normal to be high on sugar ?\"], [\"how does glucagon cause hyperglycemia ?\"], [\"what does sugar do to your body ?\"], [\"what is a diabetic exchange diet ?\"], [\"can your doctor refer you to diabetes education class ?\"], [\"what are the uses of dextrose strip ?\"], [\"why is it important for diabetics to be careful about the amount of sugar in their diets ?\"], [\"is carbohydrate allowed for a diabetic patient ?\"], [\"is <unk> of sugar per day bad ?\"], [\"how much sugar should a diabetic consume per day ?\"], [\"are there any dangers to a diabetic when it comes to a hot <unk> ?\"], [\"is diabetes a virus or bacteria ?\"], [\"if you have diabetes do you feel weak if you dont have enough sugar in your blood ?\"], [\"what happens when glucose is kept on your tongue ?\"], [\"are there any recipes for the diabetic ?\"], [\"is <unk> wine also good for diabetes ?\"], [\"how does diabetes affect performance in sport ?\"], [\"do the diabetes diet guidelines help people with diabetes manage their eating ?\"], [\"is feeling sick in the morning a symptom of diabetes ?\"], [\"how is that diabetes passed on ?\"], [\"what happens to insulin during gastroenteritis ?\"], [\"is there a chart that shows foods that are high in protein online ?\"], [\"how can <unk> be used ?\"], [\"what side affects can lantus give you ?\"], [\"is diabetes <unk> or <unk> ?\"], [\"can type one diabetes kill you ?\"], [\"what are some methods for rapid weight loss ?\"], [\"people with diabetes cant make what to control blood sugar ?\"], [\"what is most <unk> for maintaining god blood glucose levels for a dibetic patient ?\"], [\"what term describes an abnormally high concentration of glucose in the blood ?\"], [\"does cinnamon spice help control diabetes type two ?\"], [\"how does an insulin pump help diabetic people ?\"], [\"can you get a diabetes from someone who has one ?\"], [\"can you help a three hundred and eight pound type ii diabetic to lose weight ?\"], [\"can you join the <unk> guard if you are a diabetic ?\"], [\"what research has been done on wheat grass therapy ?\"], [\"what are the side affects of a diabetic pregnancy ?\"], [\"how does blood transport glucose to the cells ?\"], [\"how is diabetic neuropathy diagnosed ?\"], [\"low-fat food options are an important consideration for type two diabetes patients ?\"], [\"can people with diabetes smoke marijuana ?\"], [\"how can diabetic ketoacidosis be prevented ?\"], [\"effect of high blood sugar on body ?\"], [\"manage your blood sugar ?\"], [\"can a woman who has diabetes get pregnant ?\"], [\"what is the normal range for blood sugar level ?\"], [\"what is the number one cause of diabetes ?\"], [\"what supplements help with diabetes ?\"], [\"does diabetes effects different age group and is it the types ?\"], [\"what brings blood sugar down in diabetes ?\"], [\"what are some of the major diabetes symptoms a health care <unk> should look for ?\"], [\"what is a good tasting diabetic drink ?\"], [\"regulates blood glucose levels ?\"], [\"which tissues are not insulin dependent ?\"], [\"where can one purchase socks suitable for diabetics ?\"], [\"can type two diabetes trigger at a young age ?\"], [\"what can happen to a diabetic man if he takes birth control pills ?\"], [\"what was nick is blood sugar when he was diagnosed with diabetes ?\"], [\"what if diabetes is left untreated ?\"], [\"is a <unk> diagnosis the same as a <unk> ?\"], [\"whats cells of the body are affected by diabetes ?\"], [\"what are the normal glucose levels of a forty year old male ?\"], [\"is one hundred and eight glucose high ?\"], [\"is wheat bran good fiber for type two diabetes patients ?\"], [\"raised serum <unk> levels ?\"], [\"does high blood sugar cause behavior changes ?\"], [\"can a diabetic take <unk> or <unk> ?\"], [\"what is seven point smbg in diabetes ?\"], [\"is swollen ankles a symptom of diabetes ?\"], [\"how does diabetes starts ?\"], [\"what is daily carb allowed for diabetic ?\"], [\"survival rate on diabetes ?\"], [\"what happens if you have diabetes type one and you smoke weed ?\"], [\"what is the abnormally high concentration of glucose in the blood ?\"], [\"why would there be a high glucose content after eating ?\"], [\"why may a persons blood sugar rise ?\"], [\"what can i eat in a diabetic diet ?\"], [\"can diet be used to control type one and type two diabetes ?\"], [\"what treatments or medications are given to patients with type two diabetes ?\"], [\"what is a diabetic safe diet i can eat ?\"], [\"are there diabetic recipies for brownies ?\"], [\"target cells of glucagon and insulin ?\"], [\"what is the difference between diabetes <unk> and diabetes <unk> ?\"], [\"what does diabetes do to people ?\"], [\"what are the possible symptoms of diabetes ?\"], [\"checking your blood sugar daily ?\"], [\"do you have pre-diabetes fasting glucose tests range from ninety eight to one hundred and fourteen ?\"], [\"whats a diabetic <unk> mom ?\"], [\"what word describing the lowering of the blood glucose level to normal after eating a meal ?\"], [\"is watermelon good for diabetics ?\"], [\"are there any <unk> treatments for diabetes ?\"], [\"what effects does diabetes have on our body system ?\"], [\"how is type two diabetes diagnosed ?\"], [\"how do you pronounce <unk> ?\"], [\"is bread good for diabetic patients ?\"], [\"what is considered and good low and high blood sugar ?\"], [\"what condition is a complication of diabetes mellitus ?\"], [\"what negative effects the ingredient sugar has on the human body if too much is eaten ?\"], [\"how do you control your blood sugar ?\"], [\"what food products are good for diabetics ?\"], [\"can gestational diabetes go away ?\"], [\"can a diabetic male get you pregnant ?\"], [\"how do you consume aloe vera for diabetes ?\"], [\"how insulin is <unk> <unk> ?\"], [\"does diabetic neuropathy treatment have any risks ?\"], [\"what herb cures <unk> ?\"], [\"what kind of diet is good for diabetics ?\"], [\"what does the code <unk> mean on an medtronic mini med insulin pump ?\"], [\"can diabetes cause a <unk> taste in mouth ?\"], [\"where can i find a good diet plan for diabetics ?\"], [\"can diabetes mellitus be cured ?\"], [\"what are the food that patient have diabetic need to eat ?\"], [\"why do you have a special syringe to deliver the insulin medication ?\"], [\"i there a toothpaste for diabetics ?\"], [\"what symptoms show that you have diabetes ?\"], [\"how much long acting insulin should you take ?\"], [\"why do people with diabetes use insulin ?\"], [\"what are two symptoms diabetes mellitus and diabetes insipidus have in common ?\"], [\"does chinese food raise blood sugar ?\"], [\"what instrument is used to measure <unk> sugar ?\"], [\"can a diabetic get a piercing ?\"], [\"how do you purchase a <unk> real time system ?\"], [\"what hormone controls amount of sugar in the blood ?\"], [\"should you be concerned if you have diabetes ?\"], [\"will diabetes qualify you ?\"], [\"what is diabetes <unk> ?\"], [\"is sugar causing diabetes ?\"], [\"how fast do sleeping pills work ?\"], [\"how many people have died from diabetes in australia ?\"], [\"in diabetes insulin is administered intravenously explain why this hormone protein can not be taken orally ?\"], [\"why do you need sugar ?\"], [\"hormone action is regulated by ?\"], [\"what kind of people need to use blood glucose monitors ?\"], [\"has any one found a cure for diabetes ?\"], [\"is sugar in milk harmful to diabetics ?\"], [\"what is the effect of sugar alcohol on the body ?\"], [\"how does type two diabetes affect the endocrine system ?\"], [\"what is the name for a good diabetic cook book ?\"], [\"can diabetes be cured by diet and exercise ?\"], [\"can high blood sugar make you dizzy and <unk> ?\"], [\"what is type three diabetes ?\"], [\"can i test my blood sugar with out pricking my finger ?\"], [\"a child who has diabetes and develops signs of hypoglycemia should be given ?\"], [\"does having diabetes affect the results of a blood alcohol test ?\"], [\"which laboratory procedure has made possible te development of bacteria that can <unk> human insulin ?\"], [\"what part of the body does diabetes effect ?\"], [\"why is <unk> nutrition injected and not taken orally ?\"], [\"can you be born with diabetes ?\"], [\"what can diabetes do to your body ?\"], [\"what conditions result in polydipsia and polyuria ?\"], [\"can you get diabetes from drinking alcohol ?\"], [\"is diabetes always about sugar ?\"], [\"what is a high blood sugar level ?\"], [\"does gestational diabetes continue after delivery ?\"], [\"are there <unk> companies for diabetic meals in <unk> ?\"], [\"what are patient interventions for blood glucose reading of one hundred and twenty ?\"], [\"is diabetes a sex-linked trait ?\"], [\"what is the average level for blood sugar ?\"], [\"what are the <unk> of insulin ?\"], [\"how does food affect your blood sugar ?\"], [\"what is the history of nick jonas diabetes ?\"], [\"is it normal for your blood sugar to go up and down if you are not diabetic ?\"], [\"will medicare pay for diabetic shoes and <unk> prescribed by a physician for a patient living in a thirty one <unk> nursing <unk> thirty two a nursing <unk> or thirty three a <unk> care <unk> ?\"], [\"is frequent urination a symptom of diabetes ?\"], [\"can type two diabetes be <unk> ?\"], [\"are there any websites that can help me find diabetic menu planning ?\"], [\"diabetes is a condition in which the body does not process properly ?\"], [\"how does insulin control sugar levels ?\"], [\"diabetic food chart ?\"], [\"who made the cure for diabetes ?\"], [\"how is juvenile diabetes treated ?\"], [\"can insulin be given iv ?\"], [\"what are some short term effects of type two diabetes ?\"], [\"if someone has diabetes and they have gangrene can it be cured ?\"], [\"is <unk> <unk> leaves good for diabetic patients ?\"], [\"what is the cure for diabeties ?\"], [\"where can i find a blood glucose chart ?\"], [\"what are the best types of insulin syringes for the treatment of diabetes ?\"], [\"what diabetes info can i expect to receive from my physician ?\"], [\"what type of diabetes develops during adulthood ?\"], [\"how does diabetes affect your health ?\"], [\"why would the doctor suggest check the patients blood sugar level ?\"], [\"how long is a liver transplantation patient hospitalized ?\"], [\"how many days of medicine should be prescribed to patients with chronic diseases ?\"], [\"what diet is the best to follow for someone with diabetes ?\"], [\"i am two hundred and thirty lbs and might be getting diabetes and i am scared ?\"], [\"what deserts are recommended for diabetics ?\"], [\"what does gangrene look like ?\"], [\"where can i find a diabetic diet <unk> online ?\"], [\"can diabetes affect your eyesight ?\"], [\"is massage contraindicated after insulin injection ?\"], [\"can insulin be made from cat urine ?\"], [\"can a diabetic get <unk> ?\"], [\"when was german diabetes center <unk> created ?\"], [\"will peanut butter help lower blood sugar ?\"], [\"what happens to glucose in the type two diabetic ?\"], [\"what are some ways to reduce the risk of getting diabetes ?\"], [\"what rhymes with diabetes ?\"], [\"is eleven point one high for a diabetic ?\"], [\"what is a good online blood sugar chart ?\"], [\"high blood sugar reading ?\"], [\"what would happen if a diabetic did not take their insulin ?\"], [\"how many gram of sugar are ok in a one thousand , eight hundred ada diet ?\"], [\"how do you get gestational diabetes ?\"], [\"does cinnamon lower blood sugar levels ?\"], [\"does honey increase you sugar level ?\"], [\"how to control diabetes ?\"], [\"how old can you be to have diabetes ?\"], [\"what is difference between diabetes mellitus and diabetes insipidus ?\"], [\"what does diabetes do to the body ?\"], [\"what are diabetic foot infections ?\"], [\"what is alcohol induced diabetes ?\"], [\"is there a cure for diabeties ?\"], [\"why is my true result meter showing a <unk> error ?\"], [\"is <unk> good for diabetic ?\"], [\"can diabetics use lidocaine patch ?\"], [\"what can a person do to prevent getting diabetes ?\"], [\"what is the nursing intervention of dizziness ?\"], [\"how many diagnosed diabetes patients are not on medication ?\"], [\"is it safe for diabetics to work out alone ?\"], [\"what is the root word of diabetes ?\"], [\"can diabetics eat plums ?\"], [\"how is diabetes treated through <unk> healing ?\"], [\"diabetic needles ?\"], [\"which endocrine gland produces insulin ?\"], [\"if you weigh two hundred and twenty lbs how many carbs should you eat to lose weight on a diabetic diet ?\"], [\"what is the name of the condition in which the body is not producing adequate amounts of insulin ?\"], [\"what is the education required to be a diabetes health counselor ?\"], [\"does insulin go bad ?\"], [\"what is the diagnosis for diabetes ?\"], [\"how do oral <unk> affect diabetes ?\"], [\"can you enter the service if you are a type two diabetic ?\"], [\"what causes diabetes melitus ?\"], [\"diabetes meters ?\"], [\"what can cause diabetes ?\"], [\"is eating raw sugar a sign of an illness ?\"], [\"how is retinopathy diagnosed ?\"], [\"can diabetic eat <unk> ?\"], [\"what are to important <unk> to know about diabetes ?\"], [\"can a diabetic individual take <unk> ?\"], [\"did jackie robinson have diabetes ?\"], [\"is a low fat diet is recommended to treat diabetes ?\"], [\"what is diabetes and what are the symptoms ?\"], [\"is <unk> <unk> a diabetic ?\"], [\"can agent orange cause pancreatic cancer if it can cause diabetes ?\"], [\"is it bad to eat noodles when you have diabetes ?\"], [\"what caused water loss in <unk> area ?\"], [\"what are some really good diabetic recipes that do not include pasta ?\"], [\"can a <unk> have diabetes ?\"], [\"can diabetes be beat ?\"], [\"what is a condition in which the body is unable to produce or use insulin ?\"], [\"what would happen to the blood glucose level if diabetic gave herself an injection but did not eat or accidentally too much insulin ?\"], [\"where can one apply for good insurance for diabetes ?\"], [\"when was pacific <unk> diabetes research institute created ?\"], [\"why do people have diabetes ?\"], [\"what <unk> venom <unk> a drug that controls blood sugar levels ?\"], [\"what are some good diabetic <unk> ?\"], [\"what kind of organism is insulin ?\"], [\"should a diabetic have coffee ?\"], [\"what test is administered to patients with diabetes to measure average glucose levels over the past three weeks ?\"], [\"what type of trial might be used to determine if overweight people can lower their incidence of type ii diabetes by changing their eating habits exercising ?\"], [\"how does high blood sugar levels affect <unk> between the cells and the blood ?\"], [\"what are diabetes symptoms and preventions ?\"], [\"is it safe to have an operation on your foot if you have diabetes ?\"], [\"how to keep my insulin pump on while working out ?\"], [\"which endocrine gland controls sugar levels in the blood ?\"], [\"what do your sugar levels have to be for diabetes ?\"], [\"what do you if a diabetic stands on a <unk> spike ?\"], [\"what causes the pancreas to release insulin ?\"], [\"if you were a thirteen year old girl and had diabetes would you try to kill yourself ?\"], [\"how do you know if it is a type one or type2 diabetes ?\"], [\"is an a1c of six point six high in a diabetic ?\"], [\"what kinds of items does diabetic products sell ?\"], [\"is ther any way to find more information about diabetes and diet ?\"], [\"what celebrities have type one diabetes ?\"], [\"what is the medical term meaning the condition causing fruity breath in a diabetic ?\"], [\"what are the long term side effects of diabetes ?\"], [\"what is diabetic ketoacidosis ?\"], [\"can diabetes insipidus be detected ?\"], [\"what do you do when a diabetic is having a hypo ?\"], [\"what is wrong with a diabetic <unk> blood sugar ?\"], [\"what is the function of <unk> ?\"], [\"could diabetes cause other sickness ?\"], [\"what is a good diet and exercise plan to avoid getting diabetes ?\"], [\"what are the symptoms of type one and type two diabetes ?\"], [\"is broccoli is bad for diabetics ?\"], [\"why should sugar and foods containing a high percentage of sugar be kept to a minimum ?\"], [\"what kind of diet do i need to follow if i am borderline diabetic ?\"], [\"where did best and banting get the insulin from ?\"], [\"what research has been done on saw <unk> ?\"], [\"what is type three diabetes and how it different from types one & two ?\"], [\"what happens when not enough insulin is produced in the body ?\"], [\"how is the oxidation of glucose in cell respiration <unk> to the burning of that substance in air ?\"], [\"what parts of the body does diabetes type two affect ?\"], [\"does plain chips raise blood sugar ?\"], [\"what are some simple dessert recipes for diabetics ?\"], [\"what levels of blood glucose indicates diabetes ?\"], [\"what is the <unk> of diabetes mellitus ?\"], [\"is nick jonas okay with having diabetes ?\"], [\"is sugar apple bad for people with diabetics ?\"], [\"what are some specific type one diabetes diet ?\"], [\"what is the best time to check blood sugar readings ?\"], [\"is marijuana harm full if have diabetes type two ?\"], [\"which part of body does diabetes affect ?\"], [\"<unk> and diabetes ?\"], [\"is there any connection between poor nutrition and diabetes ?\"], [\"who <unk> the insulin pump ?\"], [\"what causes the pacreas to stop making or producing insulin ?\"], [\"who did nick jonas give his diabetes <unk> to ?\"], [\"where do diabetic foot infections usually occur ?\"], [\"what are causes of diabetes ?\"], [\"why are diabetics not allowed to eat food which contains sugar ?\"], [\"are there <unk> in diabetes ?\"], [\"i have been nauseous for the last couple months i will be fine one moment and the next have extreme nausea sometimes vomiting no chance of pregnancy . i am diabetic but blood sugars do not affect . ?\"], [\"can obesity lead to type two diabetes ?\"], [\"how do you reverse diabetes ?\"], [\"is a person suffering from hypoglycemia diabetic ?\"], [\"storage center of a cell ?\"], [\"what is a normal blood glucose reading ?\"], [\"why do people take insulin ?\"], [\"where can one find a good example of a diabetes diet plan ?\"], [\"is diabetes a physical disorder ?\"], [\"how do you manage diabetes ?\"], [\"what is an acceptable blood sugar range <unk> two hours after a meal ?\"], [\"do a head injury cause diabetes ?\"], [\"cause of diabetes ?\"], [\"what is the most important aspect of treatment of diabetes mellitus ?\"], [\"where online can i find blood sugar level table ?\"], [\"can diabetics eat sago seeds ?\"], [\"cures and medicines for diseases such as diabetes can be credited to the study of ?\"], [\"why do people with type one diabetes inject with insulin ?\"], [\"why polydipsia in diabetes type one ?\"], [\"where can one find the <unk> diabetes center ?\"], [\"how high or low should your sugar be ?\"], [\"how can a person make sure their blood sugar is at a normal level ?\"], [\"safe diabetic diet plans ?\"], [\"can you eat sugar if you have type two diabetes ?\"], [\"can someone please explain diabetes in much detail ?\"], [\"does the salt in a pool salt system increase blood pressure ?\"], [\"where in the body is diabetes found ?\"], [\"what are insulin injections ?\"], [\"which <unk> is type one diabetes related to ?\"], [\"what should you do if you injected the wrong insulin ?\"], [\"what are the signs and symptoms of diabetes ?\"], [\"what gland is involved with type one and type two diabetes ?\"], [\"why wound healing is delayed in diabetes ?\"], [\"how does type two diabetes develop ?\"], [\"what are the <unk> mechanisms involved in polydipsia polyuria and polyphagia in diabetes mellitus ?\"], [\"what are some ways of eating with diabetes ?\"], [\"why does your diabetic dog cry in the <unk> ?\"], [\"what are early diabetes symptoms ?\"], [\"finding free diabetic meters ?\"], [\"how common is the disorder of diabetes ?\"], [\"what two types of diabetes are there ?\"], [\"my partner has got type one diabetes . is it possible for us to have a baby ?\"], [\"what are side effects from insulin ?\"], [\"what is the <unk> <unk> check machine ?\"], [\"how does diabetes affect the respiratory system ?\"], [\"what symptons do you get with diabetes ?\"], [\"what is the definition of diabetes ?\"], [\"why are bacteria used to produce insulin ?\"], [\"does type one diabetes need insulin ?\"], [\"is ketoacidosis diabetic retinopathy and nephropathy may be complications of iddm ?\"], [\"how many units of insulin are in zero point five ml of regular <unk> insulin ?\"], [\"how much sugar in cherries ?\"], [\"what is <unk> triglycerides level ?\"], [\"is <unk> good for diabetic ?\"], [\"what are the low sugar foods ?\"], [\"is suspension taken orally ?\"], [\"did miley <unk> up with nick because of diabetes ?\"], [\"what blood sugar count means your diabetic ?\"], [\"can you out grow type one diabetes ?\"], [\"is diabetes insipidus or diabetes mellitus more common ?\"], [\"if a person has diabetes and there blood sugars drop to fifty what can happen ?\"], [\"how long do people live with diabetes ?\"], [\"what to do when diabetic wants food not good for them ?\"], [\"how do you get type one diabetes ?\"], [\"who was the first person to get diabetes ?\"], [\"should the word diabetes be capitalized ?\"], [\"what are the signs of being a pre diabetic ?\"], [\"this protein regulates the amount of glucose in your blood ?\"], [\"what is diabetic honeymoon phase ?\"], [\"can <unk> is <unk> be done on women with diabetes ?\"], [\"i am are constantly thirsty and tired and sometimes my eyes go blurry what is wrong ?\"], [\"where can someone find the causes to high blood sugar ?\"], [\"what foods should a diabetic not have ?\"], [\"what is the normal blood sugar level reading ?\"], [\"how long does nph insulin last ?\"], [\"what are the symptoms of hyperglycemia ?\"], [\"what is the best medicine of diabetes ?\"], [\"can high blood sugar cause cysts ?\"], [\"what are the main causes of diabetes what are the symptoms to look for ?\"], [\"what is a simple dinner recipe that would work with a diabetic menu plan ?\"], [\"what are steps taken for diabetes management ?\"], [\"how can one tell if he has diabetes ?\"], [\"does <unk> raise blood sugar levels ?\"], [\"causes of pin point pupils ?\"], [\"you have erectile <unk> syndrome from being a type two diabetic will <unk> work on your symptons will it make you have an erect penis ?\"], [\"what is <unk> insulin ?\"], [\"how do you test your blood sugar levels ?\"], [\"is yam good for diabetics ?\"], [\"is type one diabetes strong or type two ?\"], [\"what are some good recipes for diabetics ?\"], [\"what percent of people get diabetes ?\"], [\"where are the canadian diabetes association <unk> ?\"], [\"how does sugar effect your body ?\"], [\"what are the risk factors for insulin resistance ?\"], [\"where can you find some tasty diabetic recipes ?\"], [\"how are babies of women with gestational diabetes affected ?\"], [\"why go for a glucose tolerance test ?\"], [\"what is a free diabetic cookbook used for ?\"], [\"what if blood sugar is one hundred and twenty nine ?\"], [\"how many units of insulin is zero . <unk> ?\"], [\"how do you deliver sugar to an unconscious diabetic ?\"], [\"which sweet substance is used in the diet of diabetics and <unk> ?\"], [\"what is a good <unk> for diabetic recipes ?\"], [\"blood sugar level is one hundred to two hundred after eatting a meal . is two hundred to high ?\"], [\"in what <unk> is a pregnant lady tested for gestational diabetes ?\"], [\"what are some good diabetic recipes ?\"], [\"where do you get nick jonas diabetes tags ?\"], [\"can a diabetic type two eat honey ?\"], [\"what does insulin help body cells use ?\"], [\"why is type ii diabetes considered to be a <unk> form of diabetes ?\"], [\"which diabetes is rare ?\"], [\"can type ii diabetes turn into type i diabetes ?\"], [\"where can i find a new diabetic food list that shows good food choices ?\"], [\"what does the insulin do ?\"], [\"can you have diabetes and not be diagnosed till a later date ?\"], [\"what are some diabetes super foods ?\"], [\"can people die of diabetes ?\"], [\"what is the best treatment for glucose in the blood ?\"], [\"how do you diagnose diabetes ?\"], [\"how many people in <unk> have diabetes ?\"], [\"how will associate carpal tunnel syndrome to diabetes mellitus ?\"], [\"can non-insulin dependent diabetes mellitus cause chronic renal failure ?\"], [\"what are a diabetes health counselor is <unk> ?\"], [\"what is the normal range of blood sugar for diabetic ?\"], [\"what is the blood sugar level for diabetics ?\"], [\"are there any cookbooks for diabetics by diabetics ?\"], [\"is nausea and <unk> and back pain symptoms of diabetes ?\"], [\"diabetic meters ?\"], [\"which system is attacked by diabetes ?\"], [\"can diabetics who have herpes live ?\"], [\"how do you give yourself type one diabetes ?\"], [\"do herbs raise sugar levels ?\"], [\"what facts does the author use to support the idea that the cause of the increase in type two diabetes among young people is that they are overweight ?\"], [\"does beer affect diabetes ?\"], [\"would his <unk> beliefs prevent nick jonas from getting stem cell treatment for type one diabetes ?\"], [\"where can you buy diabetic shoes ?\"], [\"can diabetes be prevented ?\"], [\"what can i do to keep from triglycerides from being elevated ?\"], [\"how long does it take to get rid of diabetes ?\"], [\"how junk food and smoking cause diabetes ?\"], [\"can people with diabetes make hemoglobin to control their blood sugar ?\"], [\"how does a healthy person is body respond to sugar entering the blood ?\"], [\"is sugar the cause of diabetes ?\"], [\"how common is diabetes in the us ?\"], [\"what were food exchange systems originally developed for ?\"], [\"when time of day should diabetics avoid exercise ?\"], [\"why would a diabetic person loose their toes ?\"], [\"is fresh strawberry good for diabetic type two ?\"], [\"where can one find a blood sugar levels chart online ?\"], [\"diabetes insipidus results when ?\"], [\"does dizziness have anything to do with diabetes ?\"], [\"what research has been done on <unk> <unk> ?\"], [\"why do diabetes medications make you even fatter ?\"], [\"how is insulin administered ?\"], [\"how can i regulate my blood sugar levels when i have diabetes ?\"], [\"what can cause severe pain in upper right arm near the shoulder area ?\"], [\"what happens if you get <unk> with a used diabetes syringe ?\"], [\"should i eat eggs if i am on a diabetic diet ?\"], [\"how do you know if you have diabetes insipidus ?\"], [\"which part affected in following diseases diabetes and jaundice ?\"], [\"is wine high in sugar ?\"], [\"if no one in your family has ever had type one diabetes can your children get it passed on to them ?\"], [\"do they let diabetics do any part of the marine <unk> ?\"], [\"how does a child develop childhood diabetes . ?\"], [\"how does a person with type one diabetes monitor their blood glucose levels ?\"], [\"is there any online site that offers diabetic recipes ?\"], [\"why doctors ask diabetic patients if they have a eye and foot exam ?\"], [\"who discovered insulin is a treatment for diabetes ?\"], [\"have many people died because of diabetes ?\"], [\"can you get diabetes from getting <unk> ?\"], [\"when mixing insulin do you put the air in the cloudy or the clear first ?\"], [\"how does a high level of triglycerides present in the bloodstream affect your health ?\"], [\"was diabetes contagious in world <unk> one ?\"], [\"what kind of insulin pump will va supply ?\"], [\"how much are diabetes testing supplies ?\"], [\"are there any treatments to diabetes ?\"], [\"hormone secreted in response to high blood sugar ?\"], [\"what hormone deficiency causes diabetes mellitus ?\"], [\"what hormones inhibit insulin ?\"], [\"what are some examples of a diabetic meal plan ?\"], [\"the nurse <unk> the polyuria seen in clients with untreated diabetes mellitus with which <unk> response ?\"], [\"is there help for diabetic cold no feeling feet ?\"], [\"where can i get information on a blood sugar chart ?\"], [\"what are symptoms of a diabetic foot ?\"], [\"what is the correct doctor for type two diabetes ?\"], [\"what research has been done on <unk> <unk> ?\"], [\"can you eat unsweetened apple <unk> on a diabetic diet ?\"], [\"can insulin dependent diabetes mellitus cause chronic kidney failure ?\"], [\"does long use of <unk> increase sugar level ?\"], [\"what are the most common glucose levels ?\"], [\"why do the diabetic patients have glucose in their urine ?\"], [\"will <unk> raise your blood sugar ?\"], [\"can you see diabetes insipidus in preterm infants ?\"], [\"what are the symptoms of high blood sugar ?\"], [\"does lactulose raise your blood sugar ?\"], [\"what can you do to prevent from diabeties ?\"], [\"what are the most used foods in diabetic recipes ?\"], [\"when was american diabetes association created ?\"], [\"can a person with diabetes eat <unk> ?\"], [\"how many hours should you fast before taking your diabetes test ?\"], [\"is there gene therapy for cystic fibrosis ?\"], [\"how many people in uk suffer with diabetes ?\"], [\"how many carbohydrates should you have at breakfast ?\"], [\"what are type one diabetes ?\"], [\"does stress elevated blood sugars in non diabetics ?\"], [\"what beer is good for diabetics ?\"], [\"you cant sleep as arms ache ?\"], [\"what tests results indicate cystitis ?\"], [\"is potato is good for diabetic patients ?\"], [\"how would someone get diabetes and what are some things i can do to prevent diabetes ?\"], [\"what foods and drinks have sugar ?\"], [\"why does the incidence of diabetes mellitus increase with age ?\"], [\"how do you inject insulin ?\"], [\"what color would your urine be if you had diabetes ?\"], [\"is diabetes a disease or ailment ?\"], [\"do people with type two diabetes always require insulin ?\"], [\"where do you get insulin from ?\"], [\"do potato chips cause diabetes ?\"], [\"my blood sugar is one hundred and forty one how do i get it down ?\"], [\"when a diabetic patient has a minor illness such as a cold or flu what should they do ?\"], [\"can you be a diabetic if your skinny ?\"], [\"why do diabetics loose <unk> ?\"], [\"why does a diabetic person has high blood sugar levels ?\"], [\"a diabetes diagnosis is not the end of the world ?\"], [\"diabetes is caused due to malfunctioning of ?\"], [\"can you get diabetic supplies through the mail ?\"], [\"what are the signs and syptoms of being diabetic ?\"], [\"one unit of insulin equals how many <unk> ?\"], [\"how do you control diabites ?\"], [\"what is type 1diabetes ?\"], [\"where can i find more information on diabetes recipes ?\"], [\"diabetes mellitus is a group of metabolic diseases characterized by hypoglycemia ?\"], [\"why can not diabetics get pregnant ?\"], [\"why are kids now getting type two diabetes ?\"], [\"when does a patient with diabetes insipidus begin to suffer symptoms of dehydration ?\"], [\"why do some people not produce or properly use insulin ?\"], [\"what are the symptoms of a diabetic and how can you tell if you are a diabetic without seeing a doctor ?\"], [\"where can one find information about diabetes ?\"], [\"the body produces too much insulin ?\"], [\"is urinating a lot a sign of diabetes ?\"], [\"what hormone in inadequate amounts results in diabetes mellitus ?\"], [\"what system is most affected by diabetes ?\"], [\"can diabetics eat fruit ?\"], [\"what are the signs of decreased <unk> glucose levels ?\"], [\"why insulin give to diabetic patient ?\"], [\"what do the glycemic index numbers mean ?\"], [\"what problems cause type two diabetes ?\"], [\"what does it mean if your blood sugar is one hundred and forty one ?\"], [\"why can not diabetes be spread ?\"], [\"what age can you get diabetes ?\"], [\"how could you prevent diabetes ?\"], [\"can you give a <unk> in a diabetic patient ?\"], [\"is guava a good fruit for diabetes ?\"], [\"what are the symptoms of diabetes ?\"], [\"is pineapple good for diabetics ?\"], [\"who made the human body ?\"], [\"how long did jackie robinson have diabetes for ?\"], [\"does the body store glucose in a form of glycogen ?\"], [\"what are ways to improve your health ?\"], [\"what is the <unk> diagnosis of retinopathy of prematurity ?\"], [\"diabetic menus ?\"], [\"why are bacteria used to make human insulin ?\"], [\"how do you reduce effects of diabetes ?\"], [\"what is a cure for diabetes ?\"], [\"can it lower blood sugar levels if you soak <unk> in a glass of water <unk> and drink the water on an empty stomach the next morning ?\"], [\"what is <unk> ?\"], [\"what type of crystals in urine might be present with diabetes mellitus ?\"], [\"if blood sugar is high is fresh fruit ok ?\"], [\"what is the history of diabetes ?\"], [\"what is the normal glucose level in human urine sample ?\"], [\"what can you expect after surgery for diabetic retinopathy ?\"], [\"what is the average blood sugar level for an adult woman ?\"], [\"why can insulin not be given orally ?\"], [\"i have pain in my back under my right shoulder <unk> . it gets worse at night when i <unk> down . ?\"], [\"is type one diabetes contagious ?\"], [\"what are the two main body systems are affected by diabetes ?\"], [\"what is the normal range of hb1ac ?\"], [\"what do people with diabetes do not produce enough ?\"], [\"what if your blood glucose is six . <unk> should you administer insulin ?\"], [\"what are some risks that people take ?\"], [\"what happens if you eat too many sugar ?\"], [\"what type diabetic is type one ?\"], [\"what diseases are hereditary ?\"], [\"what causes type two diabetes ?\"], [\"what signs and symptoms are possible indicators of diabetes mellitus ?\"], [\"how did nick jonas get diabetes ?\"], [\"is there an informational source online for diabetes in children ?\"], [\"who can get diabetes ?\"], [\"what is acetone breath ?\"], [\"would the diabetes type two diet work for those who have type one ?\"], [\"how can you getting avoid getting type two diabetes ?\"], [\"can you eat fruits with type two diabeties ?\"], [\"what are the causes of diabetes mellitus ?\"], [\"what <unk> code would you use for <unk> ulcer on heel in a patient with diabetes type two ?\"], [\"does metformin help with weight loss ?\"], [\"how many types of sugar like blood sugar ?\"], [\"can hand numbness be caused by diabetes ?\"], [\"how is aspartame used in gum and why ?\"], [\"having too little or no insulin available for the amount of food ingested may result in ?\"], [\"if you have left shoulder pain whenever you are stressed <unk> also have a lot of <unk> this heart <unk> am a diabetic ?\"], [\"can people with diabetes use <unk> <unk> ?\"], [\"can someone with type two diabetes take glucose ?\"], [\"how do you lower your blood sugar if i dont have my meds with me ?\"], [\"what are the benefits of using diabetes testing equipment ?\"], [\"what types of food are recommended to be avoided when on a diabetic diet ?\"], [\"what are the precautions people need to take if they have both type one and type two diabetes ?\"], [\"how are patients with type i diabetes treated ?\"], [\"can a diabetic person can eat apple ?\"], [\"what desserts can diabetics enjoy ?\"], [\"can you claim any money if you are a diabetic ?\"], [\"can german <unk> get diabetes ?\"], [\"how control diabites ?\"], [\"can diabetes cause severe depression ?\"], [\"mode of transmission of diabetes mellitus ?\"], [\"how much sugar can you have being diabetic ?\"], [\"how do you know if your male dog has diabetes ?\"], [\"should a diabetic eat fresh mango ?\"], [\"what is the recommended diet for treatment and/or prevention of diabetic neuropathy ?\"], [\"how was diabetes treated before the discovery of insulin ?\"], [\"do you have a list of low purine foods ?\"], [\"what are some good ideas for diabetic meals ?\"], [\"what is a specialist for diabetic called ?\"], [\"if you have a six month old baby - had gestational diabetes with that pregnancy - and just found out that you are pregnant again is it safe to stay pregnant ?\"], [\"what are symptoms of low blood sugar ?\"], [\"what is the <unk> code for diabetic nephropathy ?\"], [\"how often should a diabetic eat ?\"], [\"can a person with diabetes go through a liposuction procedure ?\"], [\"what are the causes of gestational diabetes ?\"], [\"how many people have heart disease in the us ?\"], [\"what type of mutation causes diabetes type one ?\"], [\"where can i find information on a diabetic diet , and the link between diet and overall health ?\"], [\"what do you have to watch what you are doing with diabetes ?\"], [\"what causes a diabetic coma ?\"], [\"why is diabetes called diabetes ?\"], [\"is secreted in response to high blood sugar levels ?\"], [\"what do you have when you have trouble <unk> things ?\"], [\"how much metaformin do you take ?\"], [\"what is do you have to wear when you have diabetes ?\"], [\"does nick jonas have <unk> diabetes ' or diabetes ?\"], [\"does sugar cause you to get diabetes ?\"], [\"what are the physiological effects of diabetes ?\"], [\"what are the diabetes symptoms in dogs ?\"], [\"did david <unk> lose his legs to diabetes ?\"], [\"are the concerns about the diet the same or different in type one and type two diabetes ?\"], [\"best chinese medicine for diabetes ?\"], [\"how unhealthy are mars bars ?\"], [\"what is the difference between type one and type two diabetes ?\"], [\"what is a diabetes care specialist ?\"], [\"advantages of using genetically engineered insulin ?\"], [\"what is considered a normal blood sugar range ?\"], [\"what is the other name for type one and type two diabetes mellitus ?\"], [\"how many carbs for diabetic should you have in a day ?\"], [\"do diabetics have to eat more salt ?\"], [\"what diets are effective for those with diabetes ?\"], [\"where can one purchase gourmet chocolates suitable for diabetics ?\"], [\"what happens if you have too much sugar ?\"], [\"what is the normal human glucose level ?\"], [\"how can hereditary diseases be treated ?\"], [\"why does lactic acid build up in joints during exercise ?\"], [\"is it okay to hit a diabetic ?\"], [\"what major organ is involved in diabetes ?\"], [\"what happens when blood sugar goes over five hundred ?\"], [\"how would someone get diabetes ?\"], [\"how many units of insulin are in a <unk> ?\"], [\"do you need a comma in this sentence vascular disease secondary to diabetes is small vessel disease ?\"], [\"what is involved in a diabetic diet ?\"], [\"where can one find research about diabetes ?\"], [\"what is the function of nutrition ?\"], [\"what happens if your blood glucose level increases ?\"], [\"which test is used as an aid in diagnosing diabetes ?\"], [\"are there any vitamins for diabetics ?\"], [\"which male country and <unk> singer has diabetes ?\"], [\"what is the disease that results from lack of insulin ?\"], [\"what is the relation of hypokalemia to diabetes melitus ?\"], [\"how would stem cell research cure diabetes ?\"], [\"what <unk> <unk> have diabetes ?\"], [\"what are the diet plans for the various blood types ?\"], [\"understanding diabetes mellitus ?\"], [\"does sucrose raise blood sugar level ?\"], [\"do diabetic sores heal slower ?\"], [\"your big toes are numb and <unk> on the outside tip ?\"], [\"can you get diabetes from to much sugar ?\"], [\"where can i find information about a pre diabetes diet ?\"], [\"what gland is important to control your blood sugar ?\"], [\"what are some good dessert recipes for diabetics ?\"], [\"what is diabetes gangrene ?\"], [\"what chromosome number is diabetes type two ?\"], [\"high level of a fatty substance in the blood ?\"], [\"you are diabetic and hypertensive since last <unk> presently having severe problem of <unk> oral <unk> . what is cause of my oral problem ?\"], [\"do you have to have a prescription to purchase blood glucose testing strips ?\"], [\"is type two diabetes also known as pre-diabetes ?\"], [\"what does a full blood <unk> test for ?\"], [\"can you eat potatoes on a diabetic diet ?\"], [\"nursing diagnosis for diabetic ketoacidosis ?\"], [\"which of the jonas brother have diabetes ?\"], [\"can you take metformin with insulin ?\"], [\"does polyuria cause excessive urination ?\"], [\"can diabetics use <unk> ?\"], [\"does <unk> cause blood sugar changes ?\"], [\"can <unk> in drinking water cause diabetes ?\"], [\"what is a possible cause of type two diabetes ?\"], [\"what foods are not allowed on a diabetic food list ?\"], [\"will wheat grass help your diabetes ?\"], [\"what can people with diabetes eat ?\"], [\"what blood sugar level is considered hypoglycemia ?\"], [\"what can you do for a diabetic cat ?\"], [\"can you have surgery to fix <unk> i had <unk> surgery to avoid infections because of diabetes but i did not think they were going to give me a nut <unk> also i lost about an inch ?\"], [\"what is the scientific word for low blood sugar ?\"], [\"how do you get rid of belly and thigh fat and still be a type one diabetic ?\"], [\"why do you have diabetes ?\"], [\"can people with type two diabetes drink vodka ?\"], [\"is diabetes a curable disease if detected in early ?\"], [\"how much sugar is safe for a juvenile diabetic ?\"], [\"how do you control sugar level in a diabetic child ?\"], [\"diabetes symptoms ?\"], [\"why are you peeing a lot ?\"], [\"how high is the normal blood glucose concentration of a human throughout the day ?\"], [\"what is the best time to measure blood glucose levels ?\"], [\"what is the meal plan example for people like me who are diabetic ?\"], [\"how is diabetes inherited ?\"], [\"how do you convert insulin units to cc ?\"], [\"what is the indication of diabetic ?\"], [\"what is the best cure for diabetes ?\"], [\"what are good diabetic <unk> ?\"], [\"where is <unk> root grown ?\"], [\"why do diabetics have to watch what they eat ?\"], [\"how does blood pressure relate to the level of stress you and the other person are typically under ?\"], [\"is it a myth for getting diabetes by eating to much sugar ?\"], [\"how many grams should a type two diabetic consume per day with hyperglycemia ?\"], [\"a bolus insulin does it means some rapid insulin mixed with a lente one ?\"], [\"<unk> does cover diabetes medication ?\"], [\"how dangerous is sustained blood pressure of two hundred and thirteen over ninety four ?\"], [\"which organs can be affected by diabetes ?\"], [\"how long for the onset of regular insulin ?\"], [\"what hormone is important in diabetes insipidus ?\"], [\"when is diabetes awareness month ?\"], [\"<unk> , pain in the ?\"], [\"what is a care <unk> ?\"], [\"what are some <unk> blood sugar testers ?\"], [\"why diabetes is a government health priority ?\"], [\"what causes hyperglycemia ?\"], [\"is blood that was drawn an hour and half before <unk> true readings for sugar ?\"], [\"why does type two diabetics can not take penicillin ?\"], [\"what are the reasons of swelling in feet ?\"], [\"what are the different <unk> a type one diabetes person has ?\"], [\"difference between diabetic and non diabetic neuropathy . ?\"], [\"are people with diabetes allowed to eat chocolate ?\"], [\"what is the best type of diet for someone who has type-2 diabetes ?\"], [\"what will happen to someone with type one diabetes if they go too long without an insulin shot ?\"], [\"how does diabetes affect your cells ?\"], [\"could diabetes affect the complete blood count test ?\"], [\"which body system is functioning <unk> when not enough of the hormone insulin is produced ?\"], [\"does discharge education in the new diabetic patient impact <unk> rates for <unk> ?\"], [\"what happen when they found glucose in your urine ?\"], [\"how often should you get a <unk> if you know that a certain disease runs in your family ?\"], [\"do <unk> get diabetes ?\"], [\"which aspect of the nervous system is involved with diabetes ?\"], [\"is mutton good for diabetic ?\"], [\"why was type one diabetes called juvenile diabetes ?\"], [\"is eating peanut butter and graham crackers a good snack for a type one diabetic ?\"], [\"how do you know if it is a type1 or type2 diabetes ?\"], [\"can you boil liquid glucose ?\"], [\"why some foods may taste sweet but have very little glucose ?\"], [\"what is the error code <unk> on blood glucose accu-chek aviva meter ?\"], [\"are you able to loss diabetes type two through weight loss ?\"], [\"are people with diabetes <unk> for medicaid in texas ?\"], [\"does diabetes cause peripheral neuropathy ?\"], [\"diabetic supplies online ?\"], [\"neuropathy diabetes ?\"], [\"diabetic meter ?\"], [\"can you die of diabetes ?\"], [\"why are diabetics more prone to complications from swine flu ?\"], [\"infertility for diabetics ?\"], [\"what is a good food guide for diabetics ?\"], [\"how common are diabetes complications ?\"], [\"insulin resistance may be <unk> by elevated concentrations of all of the following except ?\"], [\"what is the <unk> for a family history of diabetes ?\"], [\"do type one and two diabetes have to do with blood glucose ?\"], [\"what is the normal <unk> of glucose in 100ml of blood ?\"], [\"what online stores carry diabetic test strips that i can order and buy ?\"], [\"<unk> diagnosis of diabetes ?\"], [\"a patient is described as being diabetic and having kussmaul respirations . what <unk> activity is taking place to cause this in your patient ?\"], [\"is one hundred and ten a high glucose reading ?\"], [\"how does diabetes affect a person ?\"], [\"can you get diabetes after fifty years old ?\"], [\"can cat drink human water ?\"], [\"what is the normal range of endogenous insulin in non diabetics ?\"], [\"what consists of a diabetic retinopathy treatment ?\"], [\"what is hypoglcemia ?\"], [\"is <unk> a diabetic ?\"], [\"diabetes warning signs ?\"], [\"why do diabetics inject insulin rather than taking it by mouth ?\"], [\"how are diabetic foot infections diagnosed ?\"], [\"what are some simple diet plans for a diabetic ?\"], [\"what are some good recipes for a diabetic <unk> ?\"], [\"detecting prediabetes early ?\"], [\"can diabetics eat eggs ?\"], [\"you are diabetic how do you carry your insulin on the <unk> ?\"], [\"can phenylalanine cause diabetes ?\"], [\"if a person is not diabetic why would he have ketones in the urine ?\"], [\"what age you can get diabeties ?\"], [\"how long should five pills per day of <unk> two hundred be continued for rheumatoid arthritis ?\"], [\"does <unk> raise or lower blood sugar blood co2 concentration ?\"], [\"what happens if you take insulin and you are not diabetic ?\"], [\"what is the relationship between cholesterol and heart disease ?\"], [\"will ayurveda help someone who has diabetes ?\"], [\"what is the salary range of an diabetes health counselor ?\"], [\"how do you know if your blood sugar levels are low ?\"], [\"what happens in type one of diabetes ?\"], [\"should diabetics eat sugar in large amounts or in moderation ?\"], [\"what in the urine would indicate diabetes ?\"], [\"is type one diabetes deadly ?\"], [\"why diabetes is more prevalent in men than women ?\"], [\"what is the difference between insulin and blood sugar ?\"], [\"what to do when your hand falls asleep ?\"], [\"all candy diet for type two diabetes ?\"], [\"can high blood sugar cause pupils being <unk> ?\"], [\"is a <unk> sting bad for a diabetic ?\"], [\"what are the chances i will be able to carry my baby to term if i am diabetic ?\"], [\"diabetes type two is an ?\"], [\"is the gold side of test strips for diabetic testing made out of gold ?\"], [\"what is low levels of glucose in the blood called ?\"], [\"diet for type two diabetes ?\"], [\"how do you diagnosis diabetes type one and diabetes type two ?\"], [\"what is the function of the gonads ?\"], [\"why draw up clear insulin before cloudy ?\"], [\"when they remove your appendix and they draw blood are the blood tests drug tests also ?\"], [\"is <unk> feet when sore a good idea ?\"], [\"delicious diabetic carrot cake ?\"], [\"what is a normal range for blood sugar level ?\"], [\"the first hormone to be discovered was ?\"], [\"what is involved in the treatment of diabetes ?\"], [\"what are the release dates for project not me diabetes prevention - two thousand and twelve eating out <unk> ?\"], [\"can someone taking pills for diabetes use urine therapy ?\"], [\"what places offer advice on low blood sugar ?\"], [\"what goes on in the patients body during diabetes ?\"], [\"the doctor said your blood sugar was slightly elevated and put you on a diabetes diet but never said either way if you were a diabetic or not should you be concerned ?\"], [\"where can i find more information diabetic meals ?\"], [\"what is one medication that must be used for type one diabetes ?\"], [\"if you are diabetic and suffering frequent hypos low blood sugar <unk> emergency aid should the doctor prescribe metformin and lower insulin since metformin lowers blood sugar levels further ?\"], [\"why glucose essential nutrient ?\"], [\"is <unk> safe for diabetes patients ?\"], [\"how does diabetes look like on your body ?\"], [\"can you use <unk> with type two diabetes ?\"], [\"fasting sugar range is one hundred and twenty four and post lunch is one hundred and ninety ?\"], [\"where can one find information on the best diabetes recipe ?\"], [\"type two diabetes is known as ?\"], [\"can you be a borderline diabetic ?\"], [\"why does diabetes restrict a beauty treatment ?\"], [\"what is the affect of high blood sugar and the kidneys and capillaries ?\"], [\"what is diabetes of pregnancy called ?\"], [\"what is the average blood glucose level ?\"], [\"do diabetes lead to cancer ?\"], [\"what are the two challenges of dying with chronic illness ?\"], [\"can you stop sugar diabetes when you are a kid ?\"], [\"what are the main symptoms that lead up to diabetes ?\"], [\"when you have sweets and get sleepy do you have diabetes ?\"], [\"can mental <unk> increase diabetes ?\"], [\"does <unk> raise blood sugar levels ?\"], [\"if your <unk> sugar is too high which type of diabetes do you have ?\"], [\"does beer affect your blood sugar levels ?\"], [\"first function of <unk> ?\"], [\"what organs are affected by diabetes ?\"], [\"what will happen to your health if you eat too much chocolate ?\"], [\"what will happen to your body over a long period of time if diabetes is left unchecked ?\"], [\"what are the treatments for type one diabetes ?\"], [\"is type two diabetes caused by lifestyle or a bacteria ?\"], [\"are there two kinds of diabetes ?\"], [\"can you have hyperglycemia without diabetes ?\"], [\"what is pre-diabetes ?\"], [\"where to find melabic sugar stabilizer ?\"], [\"why does mango help in <unk> diabetes ?\"], [\"does a molecule of starch have more stored energy than a glucose molecule and why ?\"], [\"how can you gain weight if you are a diabetic ?\"], [\"can <unk> cause a sharp spike in blood sugar levels ?\"], [\"how did scientists find the human gene that makes insulin ?\"], [\"what are five symptoms of type two diabetes ?\"], [\"what effect does <unk> have on blood sugars ?\"], [\"how you can control diabetes ?\"], [\"what are the materials in an insulin pump ?\"], [\"can you drink <unk> <unk> <unk> if your diabetic ?\"], [\"can diabetic take date ?\"], [\"what is a normal two hour postprandial blood sugar ?\"], [\"what is juvenal diabetes ?\"], [\"can you die from diabetes mellitus ?\"], [\"what are some diabetic symptoms ?\"], [\"meal for a diabetic ?\"], [\"food to lower high blood <unk> ?\"], [\"how long will a bottle of insulin last using sixty units daily ?\"], [\"what foods to be a avoiding during diabetes and the food beneficial for health ?\"], [\"type two diabetes is known as insulin dependent diabetes ?\"], [\"is <unk> safe for diabetics ?\"], [\"which two hormones control your blood sugar levels ?\"], [\"noninsulin-dependent diabetes usually shows up first when a person is ?\"], [\"what is the medical term meaning damage to the retina caused by diabetes ?\"], [\"is <unk> good for diabetic ?\"], [\"can diabetic drink beer ?\"], [\"are ther any <unk> with diabetes ?\"], [\"what is the difference between diabetes and diabetic ?\"], [\"how can diabetes survive in the human body ?\"], [\"what amount of blood glucose level is normal ?\"], [\"should you be tested if the blood glucose is one hundred and eleven ?\"], [\"what are the areas <unk> are affected with diabetes ?\"], [\"what causes elevated levels of blood glucose ?\"], [\"where was insulin invented ?\"], [\"can someone be health and get diabetes because your dad has it ?\"], [\"does sugar raise blood sugar ?\"], [\"was alexander <unk> bell diabetic ?\"], [\"damage to the retina of the eye caused by diabetes mellitus is known as diabetic what ?\"], [\"why do kids love sugar ?\"], [\"can diabetics donate a kidney ?\"], [\"what types of people are most susceptible to <unk> <unk> ?\"], [\"who is the <unk> in the diabetes test strip commercial ?\"], [\"why a diabetic must take their insulin as an injection ?\"], [\"what are the four p is of diabetes mellitus ?\"], [\"what should i know if i am diagnosed with diabetes ?\"], [\"how much insulin should you take if blood sugar is two hundred and forty one ?\"], [\"what are the negative effects of massage to a person with diabetes ?\"], [\"eat what you are told ?\"], [\"normal value of bloodsugar ?\"], [\"what are <unk> ?\"], [\"how does diabetes effect the endocrine system ?\"], [\"is there a surgery for type two diabetes to temporarily stop the need of insulin ?\"], [\"is diabetes a <unk> disease ?\"], [\"what does the term baseline sugar or sugar baseline mean and how is it determined for a diabetic or just a normal person ?\"], [\"how many people in the urban world have diabetes ?\"], [\"what can you do to help you i am diabetic and have sugar in your urine ?\"], [\"how is diabetes linked to personal health ?\"], [\"how is diabetes spread among humans ?\"], [\"does eating meat raise your blood sugar ?\"], [\"what are some recipes for sweets other than diabetic cakes ?\"], [\"how much sugar does your body need ?\"], [\"what are the top rated children is diabetes and endocrinology hospitals ?\"], [\"how do i eat the best for my type of blood ?\"], [\"type ii diabetes ?\"], [\"how is <unk> related to diabetes ?\"], [\"how clean does your background need to be before you can join the air force ?\"], [\"what are the symptoms of diabetic ketoacidosis ?\"], [\"what is a normal sugar level after eating ?\"], [\"do diabetes or kidney infection <unk> <unk> in a urine drug test ?\"], [\"is nick jonas diabetes getting worse ?\"], [\"what are the chemicals released by ketosis ?\"], [\"is rice or pasta better as part of a diabetic meal ?\"], [\"where can you stick yourself to check blood sugar levels ?\"], [\"diabetic fruity odor what to do ?\"], [\"why has there been an increase in type two diabetes ?\"], [\"what medications are used to treat diabetes mellitus ?\"], [\"what finally causes the <unk> to fall ?\"], [\"a diet low in fiber is associated with an increased risk of developing what ?\"], [\"when you have type one diabetes what do you do when you are sick ?\"], [\"is it harmful to take insulin if you do not need it ?\"], [\"are dates harmful for a diabetic ?\"], [\"what level of glucose in the urine can be normal ?\"], [\"can you recover from diabetes ?\"], [\"what diabetic dessert recipe can you make on the <unk> ?\"], [\"your thirteen yr old <unk> is diabetic and has gone blind how will you know when it is his time to die ?\"], [\"what are some foods for a diabetic ?\"], [\"why is not type one diabetes curable ?\"], [\"is there anywhere i can get free supplies for blood sugar testing ?\"], [\"what does a low blood glucose level indicate ?\"], [\"are <unk> bad for diabetics ?\"], [\"if your grandma had diabetes and it runs in your dads side of the family will you get it ?\"], [\"are <unk> and watermelons not safe fruits for diabetic ?\"], [\"does type one diabetes affect your sperm count ?\"], [\"why fructose <unk> from the blood of diabetic patient at a normal rate ?\"], [\"why is type two diabetes bad ?\"], [\"what are chances of kids developing diabetes if father has type1 diabetes ?\"], [\"is <unk> <unk> safe for type two diabetics ?\"], [\"history of type one diabetes ?\"], [\"does age affect your blood sugar ?\"], [\"is walking good for diabetics ?\"], [\"what can cure hypertension and diabetes ?\"], [\"diabetes food list ?\"], [\"what are <unk> on arms and <unk> ?\"], [\"what <unk> the disease of diabetes ?\"], [\"how does diabetes affect the urinary system ?\"], [\"what is ac test for diabetes ?\"], [\"diabetic supplies medicare ?\"], [\"what is normal blood sugar levels in dogs ?\"], [\"can you give glucose to a patient orally also what are the required conditions ?\"], [\"how are <unk> therapies holistic ?\"], [\"does <unk> <unk> <unk> have diabetes ?\"], [\"how does diabetes cause ?\"], [\"how do you get diabetes type two ?\"], [\"does insulin cause your ankles and legs to swell ?\"], [\"does lil boosie have diabetes ?\"], [\"what is the likelihood that cats will develop diabetes <unk> dogs ?\"], [\"who is likely to get diabetes ?\"], [\"where can i purchase diabetic supplements ?\"], [\"does dark chocolate help type two diabetes ?\"], [\"why might your <unk> lose twelve pounds in two weeks and not want to eat much ?\"], [\"how does diabetes affect a1c levels ?\"], [\"who can contract diabetes ?\"], [\"what website will you get nick jonas is personalized diabetes <unk> ?\"], [\"can diabetes affect the feet ?\"], [\"what is the major contributor to obesity type two diabetes cancer and heart disease ?\"], [\"will glucose levels rise during infection ?\"], [\"does diabetes affect the circulatory system ?\"], [\"how can you avoid diabetic ?\"], [\"my <unk> old son was diagnosed with <unk> diabetes in july eight point we have been having alot of highs and lows <unk> , were told by his doctor that it is normal . i would like to get another opinion on this from someone with same problem . ?\"], [\"what is the scientific name for the bacteria that causes diabetes ?\"], [\"discovered by frederick banting and charles best what hormone was first used on leonard thompson a <unk> diabetic ?\"], [\"what happens when blood glucose levels get too low ?\"], [\"what are some snacks that would be recommended for diabetic people ?\"], [\"how should diabetic neuropathy be <unk> to ?\"], [\"when a person is in treatment for diabetic ketoacidosis what happens ?\"], [\"what causes inflammation of organs ?\"], [\"what gland is in diabetes mellitus ?\"], [\"which part of the body is most affected by diabetes ?\"], [\"what enhances the action of insulin in the body ?\"], [\"asking about best diet for someone with diabetic . ?\"], [\"what parts of the body are affected by gangrene ?\"], [\"how much money do physicians make ?\"], [\"if blood sugar falls twenty six mg what happened to patient ?\"], [\"what are the short term effects of diabetes ?\"], [\"what exercise regimen will help get rid of a wouldiabetic middle ' ?\"], [\"where did the name diabetes come from ?\"], [\"can you get your cdl in colorado if your a diabetic ?\"], [\"is drinking lots of water a sign of diabetes ?\"], [\"which eye doctor <unk> or <unk> treats diabetes problems in the eyes ?\"], [\"should a diabetic eat rice ?\"], [\"what jobs can not you get with type one diabetes ?\"], [\"what type of diabetes did <unk> h miller have ?\"], [\"marijuana can be harm full if have diabetes type two ?\"], [\"what are your top three fears <unk> of diabetes ?\"], [\"can taking drugs turn a type two into a type one ?\"], [\"which finding on a urinalysis is commonly due to diabetes ?\"], [\"what fruits should i eat if i am diabetic ?\"], [\"which hormone is most involved in <unk> <unk> ?\"], [\"is brandy bad for a diabetic patient ?\"], [\"what research has been done on <unk> ?\"], [\"what year was the insulin pump invented ?\"], [\"how important is diabetes diet chart with type two form of diabetes ?\"], [\"three ways to prevent serious illnesses such as heart disease cancer diabetes and stroke ?\"], [\"does caffeine ingestion affect blood test levels of serum glucose or ldl ?\"], [\"how many carbs should a diabetic woman have per day ?\"], [\"what exactly is pediatric diabetes ?\"], [\"are there adverse affects from scuba <unk> with diabetes ?\"], [\"what cook <unk> have the best food list for diabetics ?\"], [\"what sugar level will put you in a coma low ?\"], [\"does <unk> <unk> have type one diabetes ?\"], [\"can a diabetic become super sensitive to pain ?\"], [\"is there <unk> for diabetes ?\"], [\"have no money need insulin bad medicaid wont cover it ?\"], [\"what is daily carb allowance for type two diabetes ?\"], [\"cases of diabetes mellitus in the philippines ?\"], [\"what kind of diabetes medications do people usually take ?\"], [\"what age do most people get type diabetes and what age do it end ?\"], [\"what does diabete means ?\"], [\"is sugar levels ten percent more need medication ?\"], [\"will hamburger raise your blood sugar levels ?\"], [\"how can you lose weight with type two diabetes ?\"], [\"what is type one diabetes also called ?\"], [\"which blood test measures glucose levels eight to twelve hours after eating and is used to screen for diabetes mellitus ?\"], [\"initial onset of regular insulin given subcutaneously ?\"], [\"how can you become a member of a medical research team in us ?\"], [\"can you have anemia and gestational diabetes at the same time ?\"], [\"im diabetic and am experiencing numbness and tingling in your lower left leg and foot what is it ?\"], [\"can diabetic patient drink sugarcane juice ?\"], [\"what is the normal blood sugar level in human body ?\"], [\"what are classic symptoms of diabetes ?\"], [\"who discovered the treatment for type one diabetes ?\"], [\"communicate with the school nurse ?\"], [\"does <unk> milk cause diabetes ?\"], [\"what is a natural substitute for insulin ?\"], [\"what are some diabetes complications ?\"], [\"body does not produce or properly use insulin ?\"], [\"does <unk> <unk> have diabetes ?\"], [\"if you have diabetes can you have sugar ?\"], [\"why does black coffee raise your blood sugar ?\"], [\"can diabetics drink beer ?\"], [\"what companies offer free diabetic testing supplies ?\"], [\"can you develop diabetes from eating too much sugar ?\"], [\"what is a list of foods that are high in sugar ?\"], [\"where can i get the foods to follow a diabetic plan ?\"], [\"what is normal level of blood sugar ?\"], [\"medicare diabetic supplies ?\"], [\"how do you start to plan a diabetes two diet ?\"], [\"can diabetes mellitus be prevented ?\"], [\"why does type one diabetes turn into type two diabetes in the future when you become an adult ?\"], [\"what to prevent diabetes two ?\"], [\"what are the results of not taking medicine for diabetes ?\"], [\"what are the symptoms of diabetic ulcers ?\"], [\"you have a one thousand , nine hundred and ninety five <unk> <unk> you can not find the <unk> cap could someone please tell you the location ?\"], [\"if glucose is administered intravenously to a patient with insulin-dependent diabetes mellitus , the patient will probably develop ?\"], [\"where can i find reliable information on diabetes diet guidelines ?\"], [\"what are some disease in the endocrine system ?\"], [\"is type you diabetes known as non-insulin dependent diabetes ?\"], [\"is six point six percent <unk> result a diabetic ?\"], [\"what are long term complications of diabetes ?\"], [\"can diabetes be cured without medicines ?\"], [\"what does a diabetic consultant do ?\"], [\"can a borderline diabetic have artificial sugar ?\"], [\"what can reduce the risk of developing diabetic neuropathy ?\"], [\"can one treat juvenile diabetes ?\"], [\"diabetic diet menu ?\"], [\"what disease occurs when the islets of langerhans fails to produce enough insulin ?\"], [\"where can i get a diabetic food list ?\"], [\"for injecting insulin which disposable syringe has the <unk> needle ?\"], [\"you need help finding a cure for <unk> your husband has been <unk> for eight years ?\"], [\"what is the plan or diet for diabetes ?\"], [\"is there a pill that you can take to lose weight ?\"], [\"diabetes is the result of a disturbance in the product of ?\"], [\"what effect does eating have on blood glucose level ?\"], [\"what causes numbness of tip of the tongue ?\"], [\"can type two diabetics take lactulose solution ?\"], [\"where can i find more information on diabetic snacks ?\"], [\"thyroid does it have any relationship with diabetes ?\"], [\"can you take tylenol pm if you are diabetic ?\"], [\"is a blood sugar level of one hundred and eleven normal ?\"], [\"is <unk> safe for diabetics ?\"], [\"what type diabetes characterized by absence of insulin <unk> ?\"], [\"what kind of macromolecule is insulin ?\"], [\"what is <unk> one ' diabetes and <unk> two ' diabetes ?\"], [\"what are two causes leading to diabetes ?\"], [\"do researchers think there will be a cure for diabetes ?\"], [\"is type two diabetes deadly ?\"], [\"can diabetic eat <unk> ?\"], [\"what does a type two diabetic eat on weight watchers ?\"], [\"what type of carbohydrates helps maintains normal glucose levels ?\"], [\"what is the best diet for diabetic ?\"], [\"why is it important that this solute be removed from diabetic patients ?\"], [\"how diabetes are caused ?\"], [\"is there type three diabetes ?\"], [\"a food high in added sugar ?\"], [\"what can a diabetic have instead of rice or potatoes ?\"], [\"can an eye doctor really see signs of diabetes in the eyes ?\"], [\"how many days of blood sugar level does fasting blood sugar measure ?\"], [\"what condition results if insulin is not produced ?\"], [\"how can i lose weight fast and healthy when i have diabetes ?\"], [\"what foods help control type two diabetes ?\"], [\"is type two diabetes also known as insulin overload diabetes ?\"], [\"does insulin <unk> and become bad i dropped a bottle of my dog is insulin -- is it still good ?\"], [\"if you have diabetes do you get fatigue ?\"], [\"can you use any function inside <unk> ?\"], [\"how you can get a diabetes mellitus ?\"], [\"is sugar apple good for diabetics ?\"], [\"what is a diabetic reaction ?\"], [\"is there a vaccine to prevent diabetes ?\"], [\"what are the symptoms and causes of diabetes and its treatment ?\"], [\"what effect does an increase in the level of insulin in the blood have ?\"], [\"explain why blood glucose levels are controlled in people who do not have diabetes ?\"], [\"your glucose level is one hundred and twenty one your daughters is eighty seven your son is is one hundred and twenty four and your other son is is fifty two do any of us have <unk> and what is a normal an abnormal level ?\"], [\"is having diabetes a bad thing ?\"], [\"who founded that insulin is in your body ?\"], [\"where can i purchase diabetic needles ?\"], [\"how is it that the insulin stops working and or does not produce enough ?\"], [\"who is diabetes insipidus is more common in males or females ?\"], [\"is there a website that offers a diabetic diet meal plan ?\"], [\"can a diabetic eat strawberries ?\"], [\"how can diabetes be controlled by exercising ?\"], [\"what are the release dates for a day in the life of a diabetic - two thousand and ten ?\"], [\"how turmeric should use for diabetics ?\"], [\"is smoking bad for diabetes ?\"], [\"is diabetes a chronic or communicable diseases ?\"], [\"diabetes pump ?\"], [\"if diabetes is <unk> it a genetic disease or is it caused by the environment ?\"], [\"is diet control an effective treatment of diabetes ?\"], [\"what are the differences between different types of diabetes testing equipment ?\"], [\"what type of wine is best for diabetes ?\"], [\"how do you get type two diabetes ?\"], [\"how do you treated a patient that has been giving too much insulin ?\"], [\"what foods should a diabetic eat ?\"], [\"who is more likely to develop diabetic ketoacidosis ?\"], [\"why would insulin not bring down a high sugar reading ?\"], [\"what can you do if you passed out on the job due to diabetes and was fired for sleeping ?\"], [\"what are the diseases that can be inherited ?\"], [\"what are the benefits of diabetes and exercise ?\"], [\"if you had no liver what will happen ?\"], [\"does am la control blood sugar ?\"], [\"what websites have cake recipes for diabetics ?\"], [\"best recipe <unk> for diabetes ?\"], [\"can a diabetic male impregnate a woman ?\"], [\"is white flour allowed on a gestational diabetes diet ?\"], [\"can a type two diabetic be a merchant marine ?\"], [\"how long can a diabetic live on <unk> ?\"], [\"how long should you fast for a glucose tolerance test ?\"], [\"how do you treat or cure diabetes ?\"], [\"diabetic cookbooks ?\"], [\"how much sugar is in <unk> ?\"], [\"diabetes affect what in your body ?\"], [\"if you have diabetes will you have it for the rest of your life ?\"], [\"is god diabetic ?\"], [\"how severe do diabetes symptoms have to be before you have diabetes ?\"], [\"what is the normal glucose levels of a teenager ?\"], [\"what type of cereal is good for a person with diabetes ?\"], [\"what are the classic signs of hyperglycemia in type one diabetes mellitus ?\"], [\"can a diet that is high in sugar cause diabetes ?\"], [\"what fruit is the cure for diabetes ?\"], [\"how are <unk> types one and two treated ?\"], [\"in what condition people take glucose ?\"], [\"how can bacteria be genetically engineered and used to make human insulin ?\"], [\"where can i get recipes for a diabetes meal diet that produce tasty results ?\"], [\"what is the level of glucose in a cat ?\"], [\"can i test my blood sugar from other areas than my fingers ?\"], [\"are there any vitamins specifically for diabetics ?\"], [\"what would happen if you <unk> someone with diabetes ?\"], [\"can nick jonas get rid of his diabetes ?\"], [\"is hereditary diabetes avoidable ?\"], [\"your husband is a diabetic why does he <unk> ?\"], [\"does vomiting raise blood sugar levels ?\"], [\"what drugs can be used to treat insulin resistance ?\"], [\"are <unk> tests done on diabetics ?\"], [\"can <unk> sugar be used on diabetic cookies ?\"], [\"what is the substance that increases urine of untreated diabetic ?\"], [\"what is the color of the awareness ribbon for kids diabetes ?\"], [\"which is better for diabetics <unk> or <unk> ?\"], [\"can anyone take insulin ?\"], [\"what are some causes of lack of water ?\"], [\"what are four types of diabetic neuropathy ?\"], [\"is a non stress test a standard diabetes test ?\"], [\"where can you find information on children is clothing in world <unk> two ?\"], [\"are any types of diabetes hereditary ?\"], [\"what is a normal blood sugar range for fasting ?\"], [\"how can dark chocolate help diabetics ?\"], [\"can you be hospitalized for diabetics ?\"], [\"what is the treatment of both diabetes ?\"], [\"what is the difference between a tuberculin syringe and an insulin syringe ?\"], [\"is diabetes related to anemia ?\"], [\"what kind of diet would a person with diabetes have ?\"], [\"where can you find information on diabetes nutrition ?\"], [\"what is the metabolic abnormality that <unk> the characteristic symptoms of diabetes mellitus ?\"], [\"where can i go to find good , healthy , safe diet and exercise plans for type i diabetics ?\"], [\"what is in simple english diabetic <unk> ?\"], [\"orthotopic liver transplantation ?\"], [\"is diabetes mellitus controllable ?\"], [\"does a starch affect a diabetic the same as sugar ?\"], [\"how long does insulin last in your <unk> ?\"], [\"what is <unk> ?\"], [\"what would make your toes feel numb and your foot tingling on top and have little red <unk> on inside of skin going up front of leg ?\"], [\"buying a reliable blood sugar monitor ?\"], [\"is there <unk> for diabetes ?\"], [\"what does insulin have to do with the disease diabetes ?\"], [\"what will happen if you draw cloudy insulin up first then clear insulin and give to a patient ?\"], [\"what does a diabetes blood test for ?\"], [\"why do diabetics receive insulin subcutaneously by infection rather than orally ?\"], [\"what is another name for blood sugar ?\"], [\"can you transfer diabetes through blood ?\"], [\"can dibeties be cured ?\"], [\"does antibiotics increase blood sugar ?\"], [\"which hormone reduce the level of glucose in blood ?\"], [\"what is the molecular weight for insulin ?\"], [\"what is sometimes found in the urine of diabetics ?\"], [\"what is the role of insulin to diabetes ?\"], [\"life expectancy of type one diabetic ?\"], [\"is diabetes insulin made in a pig cow human or bacteria ?\"], [\"insulin is released into the blood when ?\"], [\"<unk> liver salts and diabetics ?\"], [\"is there a list of food diabetics can not eat online ?\"], [\"how does bacteria help people with diabetes ?\"], [\"which websites offer information about how to manage type one diabetes ?\"], [\"if a diabetic passes out do you give smelling salts ?\"], [\"what research has been done on royal jelly ?\"], [\"are there any websites that can help me find diabetic cooking ?\"], [\"where can i find a diabetic food list ?\"], [\"when was nick jonas diagnosed with diabetes ?\"], [\"how does diabetics lose weight ?\"], [\"are you a diabetic if your test result is glucose ac five point six and glucose <unk> <unk> <unk> ?\"], [\"what is the difference between a diabetic food list and a low glucose food list ?\"], [\"why do diabetic people have to have a injection ?\"], [\"how many grams of sugar are allowed for an adult with type two diabetes ?\"], [\"what are the symptoms of type two diabetes ?\"], [\"where can i find menus on the internet that cater to diabetic individuals ?\"], [\"what <unk> of science that deals with diabetes ?\"], [\"can infection cause diabetes ?\"], [\"which beer is good for diabetic patients ?\"], [\"is there a specific diet for people with diabetes ?\"], [\"what are two two risk factors for diabetes type two ?\"], [\"are diet sodas good for diabetics ?\"], [\"what is an example of a good diabetic breakfast ?\"], [\"are hormones used to treat diabetes ?\"], [\"what is the normal range of blood glucose ?\"], [\"what are some of the popular diet <unk> for a sugar diabetic ?\"], [\"what do you call a diabetes dr . ?\"], [\"can excess of sugar in urine cause tiredness ?\"], [\"can a diabetic drink milk ?\"], [\"what ingredients should be avoided when making diabetic cookie recipes ?\"], [\"how many <unk> should a diabetic consume in sodium ?\"], [\"what kind of diet required during hypoglycaemia ?\"], [\"how does <unk> interfere with fluid and electrolyte balance ?\"], [\"why diabete insulin can not made a pill same as diabete ?\"], [\"how do you know when you are diabetic ?\"], [\"did nick jonas consider leaving the jonas brothers when he found out that he had diabetes ?\"], [\"what does <unk> and classification mean ?\"], [\"what research has been done on shiatsu ?\"], [\"can diabetic take <unk> ?\"], [\"what are some low sugar dessert recipes for diabetics ?\"], [\"what <unk> between dominant and recessive traits ?\"], [\"how do you explain calorie counting to diabetic clients ?\"], [\"a few days ago i was tested for lyme disease . along with the blood test test my doctor tested my blood sugar . before going to the doctor i had stopped at a <unk> donuts and had a cinnamon raisin <unk> with a sweetened <unk> ice tea . my doctor called to ?\"], [\"one hour after eating for a diabetic ?\"], [\"how can a person improve his health ?\"], [\"which hormone is normally secreted in response to high blood sugar ?\"], [\"what are the <unk> of diabetes ?\"], [\"does diabetes make you go a lot if the sugar is up ?\"], [\"is <unk> support network is diabetic pack effective ?\"], [\"the islets of langerhans produce two peptide hormones insulin and glucagon that interact to govern the level of glucose in the blood ?\"], [\"when was nick jonas diagnosed with type one diabetes ?\"], [\"is diabete hereditary ?\"], [\"why do you get lightheaded and feel like im going to faint ?\"], [\"how can one research what diabetes is ?\"], [\"is hunger a symptom of diabetes ?\"], [\"what do a1c levels tell you about a diabetic person ?\"], [\"what are some diabetes guidelines to follow in order to stay healthy ?\"], [\"can diabetics take vitamin b complex ?\"], [\"which body organ produce insulin ?\"], [\"why do some athletes take glucose tablets before their races ?\"], [\"finding free diabetic cookbooks ?\"], [\"what are all the names for diabetes type one ?\"], [\"where can one find a chocolate pie recipe suitable for someone who has diabetes ?\"], [\"what type of insulin has the <unk> onset period ?\"], [\"how does type one diabetes affect your life ?\"], [\"what are the different types of diabetes ?\"], [\"how can someone get diabetes ?\"], [\"why is it important that urea be removed from diabetic patients ?\"], [\"what parts of the body are affected by diabetes ?\"], [\"how does diabetes function in the body including immune system function brain function mutation gene function or anything else ?\"], [\"what kind of diabetes did laura ingalls wilder have ?\"], [\"how can you not get diabetes ?\"], [\"was insulin first used in one thousand , nine hundred and twenty two ?\"], [\"is diabetes short term or long term disease ?\"], [\"which one of the following choices is the best way to control type ii diabetes ?\"], [\"who does diabetes <unk> type2 and gestational diabetes affect ?\"], [\"can a diabetic safely get a tattoo on leg ?\"], [\"the blood level of what is most significant in regulating the respiratory center in mammals ?\"], [\"insulin is synthesized and released by the ?\"], [\"what is the <unk> for insulin ?\"], [\"is there a site that could do a quick <unk> for diabetes diet foods that are available ?\"], [\"how can one get free diabetic supplies ?\"], [\"is diabetes mellitus asymptomatic or symptomatic ?\"], [\"does diabetes cause sweating ?\"], [\"where can i find a blood sugar levels chart online ?\"], [\"what can a person on a diabetes diet eat ?\"], [\"how do you get diabetes type one ?\"], [\"how is pancreatic dysfunction related to diabetes ?\"], [\"how can diabetes <unk> ?\"], [\"can we keep contact with diabetic person ?\"], [\"what are the names of five organisms which affect human health ?\"], [\"can a husband is diabetes be the cause of a miscarriage ?\"], [\"what are effects of <unk> when you are diabetic ?\"], [\"pre diabetes treatment ?\"], [\"is the <unk> diet safe for diabetics ?\"], [\"where can one obtain diabetic testing ?\"], [\"what is a cause of diabetes ?\"], [\"can dry mouth be a sign of diabetes ?\"], [\"what is a fatal dose of insulin ?\"], [\"what are the foods a diabetic can eat ?\"], [\"where online can i find diabetic carrot cake recipes ?\"], [\"what does it mean when your blood sugar count is two hundred and ninety seven ?\"], [\"are there any websites that offer diabetes education ?\"], [\"does reliv diabetes ?\"], [\"can i get diabetic meal plans online ?\"], [\"what are the two types of diabetes and how do they differ ?\"], [\"what is hyperosmolarity in diabetes in a way even i can understand ?\"], [\"how was insulin invented ?\"], [\"what are some things that diabetics cant have ?\"], [\"which term describes a life-threatening complication of diabetes mellitus ?\"], [\"what is the <unk> code for <unk> for a depressed <unk> fracture simple <unk> for a patient with mild diabetes well controlled ?\"], [\"can <unk> blood improve blood sugar level ?\"], [\"what kind of disease did the <unk> spread to canada ?\"], [\"latest medicine for type two diabetes ?\"], [\"what type of diabetes did alexander graham bell have ?\"], [\"is diabetes a <unk> disease ?\"], [\"what are included in a diabetic diet menu ?\"], [\"diabetic nutrition ?\"], [\"how can you maintain your blood glucose level ?\"], [\"what would you name a program that is all about diabetes care and is very india specific ?\"], [\"does <unk> <unk> have diabetes ?\"], [\"is three hundred and eighty four to high in being a diabetic ?\"], [\"joe do you have diabetes like nick ?\"], [\"what happens to insulin levels when blood glucose levels increase ?\"], [\"what is the normal diet for people with diabetes ?\"], [\"does diabetes reduce a person <unk> ?\"], [\"what should your blood sugar levels be before eating a meal ?\"], [\"where can i get tools to test my blood sugar level ?\"], [\"does diabetes effect you getting pregnant ?\"], [\"polydipsia and polyuria are symptoms of ?\"], [\"what are the emotional effects of diabetes ?\"], [\"what is the diagnosis code for <unk> ?\"], [\"is diabetes mellitus genetic ?\"], [\"what research has been done on <unk> ?\"], [\"what can you do to restore normal color to a black leg from diabetes ?\"], [\"free diabetic meter ?\"], [\"do men get diabetes ?\"], [\"what the role of liver and pancreas in controlling the blood glucose level ?\"], [\"what are the release dates for project not me diabetes prevention - two thousand and twelve stay <unk> <unk> ?\"], [\"is there any way to cure diabetes ?\"], [\"what kind of pregnancy complications should an insulin dependent diabetic expect ?\"], [\"is there a cure for type two diabetes ?\"], [\"what are the symptoms of diabetes type one ?\"], [\"what are three foods that are high in sugar ?\"], [\"what is the condition of high blood sugar level associated with diabetes called ?\"], [\"how does diabetes affect your circulation system ?\"], [\"how does glucagon and insulin help maintain normal glucose level ?\"], [\"about diabetes blood sugar levels ?\"], [\"is cinnamon good for diabetics ?\"], [\"will <unk> cause diabetes ?\"], [\"what are some cures for type one diabetes ?\"], [\"what is type 1diabetes juvenile diabates ?\"], [\"who of ten people who has diabetes ?\"], [\"how many people have diabetes in the world ?\"], [\"process of producing too much insulin ?\"], [\"can i find any online cookbooks for diabetics ?\"], [\"does type one diabetes use a hormone called insulin ?\"], [\"are diabetics in pain all the time ?\"], [\"what dosage of glyburide is given to a cat with diabetes ?\"], [\"when your hand falls asleep how do you get rid of the unpleasant feeling ?\"], [\"i have a book about type two diabetes , and they suggest many of my favorite foods , but not the deserts . are they leaving the deserts out are deserts okay for me ?\"], [\"ability of bacteria to produce insulin ?\"], [\"what organ makes insulin ?\"], [\"are oranges good for diabetic people ?\"], [\"are <unk> and <unk> <unk> <unk> more susceptible to getting diabetes ?\"], [\"why does <unk> is apple cider vinegar help diabetics ?\"], [\"is <unk> flour is good for diabetes ?\"], [\"is sugarcane good for diabetes patient ?\"], [\"if im borderline diabetic and eat cake what might be the consequences ?\"], [\"should diabetics eat a diet with a lot corn ?\"], [\"genetically engineered insulin advantages and <unk> ?\"], [\"is type one diabetes bad ?\"], [\"how do you know you have gestational diabetes ?\"], [\"where can i find information and advice on diabetes nutrition ?\"], [\"what causes diabetes in <unk> ?\"], [\"what medicine do people with type one diabetes have to take ?\"], [\"what keeps the levels of glucose in the body at stable levels ?\"], [\"is it illegal for diabetics to eat sugar ?\"], [\"why is artificial sugar better ?\"], [\"what is lantus ?\"], [\"what gland is associated with diabetes ?\"], [\"how can diabetes be treated ?\"], [\"does nick like having diabetes ?\"], [\"do health care workers need to wear <unk> when checking a blood sugar ?\"], [\"can diabetes be reversed ?\"], [\"what is the effect of ethanol on blood sugar ?\"], [\"what could be the symptoms of diabetes ?\"], [\"what is a juvenile onset diabetic ?\"], [\"what foods are <unk> on a type two diabetes diet plan ?\"], [\"how long does it take for fruit to raise blood sugar level ?\"], [\"what is a glucose <unk> ?\"], [\"what food will increase hemoglobin level in diabetic ?\"], [\"what federal agency helps patients who need to follow a diabetic diet plan ?\"], [\"what alcohol drink is good for a type two diabetic ?\"], [\"what are some options for recipes for someone with diabetes ?\"], [\"how do you make a diabetic coconut cake ?\"], [\"does an std increase the risk of type two diabetes ?\"], [\"why insulin is taken intravenously ?\"], [\"how do you lower high blood sugar ?\"], [\"what are the best fruits for a diabetic ?\"], [\"how is insulin genetically engineered ?\"], [\"can diabetes be <unk> ?\"], [\"where can you get a type two diabetes plan ?\"], [\"how do you <unk> diabetes type one ?\"], [\"what causes low blood sugar to sometimes appear as if someone is having a stroke ?\"], [\"is it normal to hear a low <unk> <unk> ' when stopped the <unk> <unk> you bought does this and you was told it was normal but is that accurate ?\"], [\"why are people with diabetes encouraged to avoid too many sugary foods ?\"], [\"why i feel nausea cramps and the <unk> to vomit after eating ?\"], [\"what is a sample diet for a diabetic ?\"], [\"is there a cure for type one diabetes ?\"], [\"can you die from diabetes if you have had it for a long time ?\"], [\"can diabetic medicine cause cancer ?\"], [\"what is the normal average for blood sugar ?\"], [\"is there a doctor that specializes in diabetes ?\"], [\"why would a person need diabetic neuropathy treatment ?\"], [\"what does the <unk> <unk> mean in regards a blood test ?\"], [\"name the cloudy insulins ?\"], [\"why <unk> patients feel hunger ?\"], [\"how much exercise is needed for diabetic ?\"], [\"what are two things that can lead to childhood obesity and diabetes ?\"], [\"what are the signs of diabetic peripheral neuropathy ?\"], [\"how can i prevent getting diabetes ?\"], [\"what is the reason for light <unk> and shaking after you have eaten and the blood sugar is one hundred and sixteen ?\"], [\"is type one diabetes the only type in children ?\"], [\"one banana has how many <unk> of sugar ?\"], [\"what are the causes of tip of the tongue numbness ?\"], [\"what research has been done on the mcdougall diet ?\"], [\"what does <unk> and insulin do to sugar ?\"], [\"why does diabetics have foot problems ?\"], [\"does <unk> have diabetes ?\"], [\"what foods and what type of person goes with a blood sugar diet ?\"], [\"who does diabetes affect the most ?\"], [\"what are <unk> of ayurveda ?\"], [\"what is the normal blood <unk> ?\"], [\"what are the side effects of insulin ?\"], [\"what are some warning signs of diabetes when you are twenty years old ?\"], [\"why drink fluids when you are sick ?\"], [\"how is insulin released and regulated ?\"], [\"do females get diabetes ?\"], [\"what is the healthy glucose levels ?\"], [\"can you have a cdl and take insulin ?\"], [\"what kind of medicines are available to treat diabetes ?\"], [\"how does alcohol increase insulin sensitivity ?\"], [\"what are the side effects not taking diabetes medication ?\"], [\"how many disney channel <unk> have diabetes ?\"], [\"does insulin make glucose ?\"], [\"why do diabetics need candy ?\"], [\"what are the differences between hiv aids and diabetes type two ?\"], [\"glucagon is secreted by which glands ?\"], [\"why should diabetics not use <unk> ?\"], [\"why drugs which are <unk> as insulin can not be taken by mouth but must be injected ?\"], [\"who usually gets diabetes ?\"], [\"what does it mean if your blood sugar level is two hundred and fifteen ?\"], [\"why do you smell <unk> after you <unk> ?\"], [\"where did diabetes first start ?\"], [\"when does insulin is released ?\"], [\"what could you do if you could not control diabetes ?\"], [\"which of these illness is a disease in which blood sugar levels are above normal ?\"], [\"can you get a cdl in colorado if you use insulin ?\"], [\"can fasting cause diabetes ?\"], [\"what organelle is insulin synthesized ?\"], [\"can you eat watermelon if you are diabetic ?\"], [\"what is the purpose of an a1c chart for a diabetic ?\"], [\"does homeopathy go with any kind of other medicine like <unk> or ayurveda ?\"], [\"how do you keep diabetes under control ?\"], [\"can a diabetic patient have any type of liquor ?\"], [\"does santa have diabetes ?\"], [\"can your blood sugar <unk> while on oral diabetic medication ?\"], [\"what are good methods of diabetes prevention ?\"], [\"what are good diet plans for a diabetic patient ?\"], [\"how do you no if you have diabets ?\"], [\"are fruits and honey bad to diabetes ?\"], [\"what is the difference between regular insulin and <unk> scale insulin ?\"], [\"how many new case of diabetes are diagnosed each day in the us ?\"], [\"what type of sugar is blood sugar ?\"], [\"how can i improve my diabetes ?\"], [\"how high is fasting blood sugar seven point zero ?\"], [\"priority nursing diagnosis of type two diabetes ?\"], [\"what would be one <unk> of administering glucose to a diabetic in insulin shock ?\"], [\"what do you do if you have diabetes and you suddenly feel weak ?\"], [\"insulin dependent diabetes ?\"], [\"why diabetic patient care to their foot ?\"], [\"what is the normal blood sugar level ?\"], [\"where is this energy stored in glucose ?\"], [\"what are the conditions for giving glucose orally to the patient ?\"], [\"what is the medical abbreviation meaning twice a day ?\"], [\"where can i get info on a diabetic diet ?\"], [\"what to eat if you have diabetes type two ?\"], [\"where are some sample menus that have diabetic recipes ?\"], [\"what are the effects of <unk> silver on diabetes ?\"], [\"why are babies born with type one diabetes ?\"], [\"what foods can be bought by poor and rich persons that can cause diabetes ?\"], [\"can insulin therapy be administered by an oral medication ?\"], [\"at what age are most people diagnosed with diabetes ?\"], [\"can pioglitazone cause <unk> <unk> on prolonged use ?\"], [\"what is you diabetic hyperglycaemic attack ?\"], [\"is <unk> good for kids with diabetes ?\"], [\"what type of diabetes is associated with pregnancy ?\"], [\"what causes persistent low grade fever ?\"], [\"how is a person with diabetes melitus affected ?\"], [\"what does too much sugar do to your body ?\"], [\"where can i find advice on free diabetic diet plan ?\"], [\"what foods must be avoided on the american diabetes association diet ?\"], [\"how is marijuana bad for diabetics ?\"], [\"why must diabetics use their <unk> to test their blood sugar ?\"], [\"is medical issues and diabetes special needs ?\"], [\"do you get diabetes when you get stress ?\"], [\"is a blood glucose level over one thousand , two hundred dangerous ?\"], [\"what do you do to bring blood sugar up ?\"], [\"treatment for diabetic neuropathy ?\"], [\"what is the function of <unk> ?\"], [\"how are brittle diabetics treated ?\"], [\"what are some examples of food for a type two diabetic ?\"], [\"does long term use of steroids cause diabetes ?\"], [\"can diabetes be controlled by nutrilite protein powder ?\"], [\"what are the top diabetic diets available ?\"], [\"what is the difference between type two diabetes and type one diabetes ?\"], [\"how does your teeth relate to a headache ?\"], [\"are diabetes mellitus and diabetes the same ?\"], [\"how many carb a diabetic should have ?\"], [\"what are the types of insulin ?\"], [\"how would blood sugar react if insulin stopped working ?\"], [\"can you cure for diabetes ?\"], [\"tuberculin syringe is calibrated in blank of a cc ?\"], [\"why is <unk> not possible for diseases such as diabetes ?\"], [\"what is considered high mpv blood count ?\"], [\"where can i read reviews on blood sugar testing products ?\"], [\"what should your blood sugar be two hrs after eating for a diabetic ?\"], [\"what is type two diabetes ?\"], [\"how can one contact the american diabetes association ?\"], [\"high levels of <unk> in diabetes ?\"], [\"where can i find a complete food chart for diabetes including carbohydrate information ?\"], [\"can a diabetic be a <unk> <unk> ?\"], [\"will you die from type one diabetes ?\"], [\"what does ph seven point two six in diabetic ketoacidosis mean ?\"], [\"how does one get help for diabetic supplies ?\"], [\"what groups of women get diabetes more often ?\"], [\"what makes a diabetic lower leg turn black ?\"], [\"what is a sample diabetic diet menu ?\"], [\"why do diabetics have lower blood sugar ?\"], [\"how does a doctor diagnose different types of breaks ?\"], [\"which <unk> promotes insulin resistance ?\"], [\"how many grams of carbohydrates should a type one diabetic consume per day ?\"], [\"what is the difference between type two diabetes mellitus and type1 diabetes mellitus ?\"], [\"is diabetes a preexisting condition ?\"], [\"what is diabetes <unk> . ?\"], [\"diabetics and alcohol consumption ?\"], [\"how many carbohydrates should a type one diabetic eat each day ?\"], [\"what are some free cookie recipes for diabetics ?\"], [\"what is normal blood sugar for a type one diabetic ?\"], [\"what carbohydrates do not take long to digest and cause blood sugar levels to rise quickly ?\"], [\"if your doctor has said to watch sugar intake because you are on the verge of diabetes how do cut down and how many grams of sugar can you have daily or is sugar free the best ?\"], [\"how many americans have diabetes report ?\"], [\"where can i find more information on diabetes treatments ?\"], [\"monitor your blood sugar while eating healthy ?\"], [\"i am hypoglycemic my teachers at school know about it but they always seem to forget how do i tell my teacher that i feel low and need to go to the nurse to get a snack it is <unk> help ?\"], [\"what is lack of water caused by ?\"], [\"is <unk> <unk> diabetic ?\"], [\"what is the name of a disease when blood sugar levels are above normal ?\"], [\"does diabetes cause cloudy urine ?\"], [\"can diabetics eat glucose syrup ?\"], [\"can <unk> twenty mg raise your blood sugar levels ?\"], [\"what are three symptoms of diabetes mellitus ?\"], [\"what is a type one and two diabetes ?\"], [\"what is a substance discovered by canadians that <unk> lives of diabetics ?\"], [\"is mango eating harmful to a diabetic ?\"], [\"do restaurants carry diabetic diet menus ?\"], [\"how many grams of sugar can a diabetic have in one day ?\"], [\"when are blood glucose test and glucose tolerance test done <unk> pregnancy ?\"], [\"diabetes supplements ?\"], [\"can you <unk> with diabetes ?\"], [\"which two hormones can correct hypoglycemia ?\"], [\"the live reacts to a high level of glucose in the blood by <unk> some of the glucose to ?\"], [\"what is the predisposing factors of diabetes mellitus ?\"], [\"what system is the diabetes related to ?\"], [\"what are the common sources of infection ?\"], [\"what causes blood sugar to be too low ?\"], [\"diabetes cure ?\"], [\"what can you eat if you are diabetic ?\"], [\"can diabetes cause a false positive drug test ?\"], [\"what kind of food should a diabetes person as to eat ?\"], [\"is anemia the cause of diabetes ?\"], [\"how is diabetes spread from person to person ?\"], [\"is ninety seven to one hundred and ten blood sugar level within normal range for a diabetic ?\"], [\"how can i prevent stroke , and is there a diet i should be taking for it ?\"], [\"can you smoke before fasting for a diabetes test ?\"], [\"why does diabetes medications make people more obese than before they started on the medications ?\"], [\"diabetes prevention ?\"], [\"what can happen if your blood glucose levels rise to high ?\"], [\"can the bayer contour test strips <unk> be <unk> for either the <unk> or <unk> test strips and still maintain <unk> ?\"], [\"is yogurt good for a diabetic ?\"], [\"what is insulin ?\"], [\"how does diabetes cause weight loss ?\"], [\"what tells the body how much sugar should be in blood ?\"], [\"can a diabetic consume sugar ?\"], [\"what is niddm ?\"], [\"can diabetes be <unk> ?\"], [\"can you eat sweets when you have diabetes ?\"], [\"what kind of food can a dog with diabetes eat ?\"], [\"what are the effect of diabetes has on the kidney ?\"], [\"what is the function of <unk> ?\"], [\"how do you treat gestational diabetes ?\"], [\"why was you prescribed <unk> d tablets by diabetes doc ?\"], [\"how many grams of sugar are recommended per day for type two diabetics ?\"], [\"what term describes a life-threatening complication of diabetes mellitus ?\"], [\"how the body produce insulin ?\"], [\"if i am going in for a blood specific test lets say to determine if you have diabetes is there anyway that during these tests if you have smoked marijuana that it will come up in the tests ?\"], [\"what can cause weight gain fatigue heat sensitivity and muscle aches ?\"], [\"what is a good diabetic food guide ?\"], [\"what is the diabetes blood sugar level ?\"], [\"what is the symptoms of pre diabetes ?\"], [\"what is a good diet that a diabetic should try ?\"], [\"why insulin is not given as an oral medication to diabetes ?\"], [\"is there an online list for diabetes food ?\"], [\"what happens when people are unable to produce enough <unk> ?\"], [\"what restaurants in central <unk> offer a diabetic menu ?\"], [\"is diabetes a <unk> ?\"], [\"how high does blueberries raise blood sugar ?\"], [\"what types of diabetes are determined by the functioning of the ?\"], [\"what is a good <unk> on diabetes ?\"], [\"what is a diabetic ?\"], [\"does diabetes get worse over time ?\"], [\"how is blood sugar measured ?\"], [\"nick jonas diabetic ?\"], [\"what is the main idea of it is time to stop <unk> fat people for their size ?\"], [\"what is the risk of exercise with diabetes ?\"], [\"who was <unk> <unk> ?\"], [\"what is a good type of diabetes ?\"], [\"what happens if people with diabetes do not take their insulin ?\"], [\"can a man with diabetic father a child with diabetic ?\"], [\"do <unk> help regulate the <unk> of hormones ?\"], [\"how often do type one diabetics take insulin ?\"], [\"where can i find a enlarged blood sugar chart ?\"], [\"what will happen to pregnant having increase sugar level in blood ?\"], [\"what kind of doctor should you see if you think you have diabetes ?\"], [\"can diabetic people <unk> ?\"], [\"what is the role of a personal support <unk> in <unk> a client with diabetes ?\"], [\"high concentration of glucose in the blood ?\"], [\"is sugar free foods bad for diabetics ?\"], [\"what types of diabetes would you rather have ?\"], [\"what would be a good diabetic meal plan for me to follow ?\"], [\"benefit of oral insulin ?\"], [\"how long can a diabetic patient survive ?\"], [\"why did you get diabetes ?\"], [\"can you have diabete if nobody in your family have it ?\"], [\"what happens when insulin injections are given without food ?\"], [\"how many carbs should be eaten each day for a type two diabetic ?\"], [\"what countries have low diabetes ?\"], [\"do strawberries raise blood sugar levels ?\"], [\"what happens when glucose reaches toxic levels ?\"], [\"if your husband has diabetes is it ok for you to get pregnant ?\"], [\"how is diabetes genetically transferred ?\"], [\"should alcohol be consumed while on medication for diabetes high blood pressure and high cholesterol ?\"], [\"what are some target blood sugars for a diabetic ?\"], [\"what is juvenile diabetes ?\"], [\"what part of the human body system does hyperglycemia belong to ?\"], [\"can patients with type2 diabetes obtain a private pilots <unk> ?\"], [\"is there any new stem cell technology in the field of diabetes ?\"], [\"what enzyme does diabetes affect ?\"], [\"what organ is used to produce human insulin ?\"], [\"what is <unk> diabetic ?\"], [\"how does insulin bring sugar down to normal levels after a meal ?\"], [\"can a person that has diabetes eat jackfruit ?\"], [\"what exactly are diabetic supplies ?\"], [\"what type medicine helps pancres <unk> ?\"], [\"does diabetes show in drug tests ?\"], [\"what is the only insulin that can be given intravenously ?\"], [\"what causes the acetone breath seen in type one diabetes ?\"], [\"normal protein levels in blood ?\"], [\"what kind of treatments are there for treating diabetes ?\"], [\"how can you treat diabetes except for injecting insulin ?\"], [\"what famous people have diabetes ?\"], [\"at what age can children get diabetes ?\"], [\"what is insulin made by ?\"], [\"what are some good diabetic cake recipes ?\"], [\"nursing <unk> exam model question <unk> for <unk> of health <unk> ?\"], [\"what is the normal fasting blood sugar level for a fifty year old woman ?\"], [\"does diabetes symptoms come on suddenly ?\"], [\"what kind of pasta a diabetic person should eat ?\"], [\"what is the most common diabetic <unk> ?\"], [\"are the carbs in fruit bad carbs or good carbs ?\"], [\"lack of what causes diabetes ?\"], [\"what is diabetes in <unk> ?\"], [\"if you have diabetes does that mean you have high blood sugar ?\"], [\"when is insulin pump given ?\"], [\"what does <unk> with <unk> <unk> disease and complex <unk> on the left <unk> means ?\"], [\"what are diabetes insipidus and diabetes mellitus ?\"], [\"how long will you live with diabetes ?\"], [\"is one hundred and sixty glucose level dangerous after meal ?\"], [\"how many grams of sugar should you eat if diabetic ?\"], [\"what vitamins are recommended for a diabetic ?\"], [\"can low blood sugar cause you to vomit ?\"], [\"what does it mean to have high a1c ?\"], [\"what effect would elevated cortisol levels have on blood glucose levels ?\"], [\"why are children developing diabetes ?\"], [\"is diabetes a disease or a condition ?\"], [\"what are the long term complications for diabetes ?\"], [\"when you eat sugar does it turns int glucose which turns into fat ?\"], [\"diabetes meal planning services ?\"], [\"what are normal sugar levels for someone who is not diabetic ?\"], [\"what is a good diet for someone with arthritis ?\"], [\"why are type two diabetics insulin <unk> ?\"], [\"how many grams of sugar should a <unk> eat daily ?\"], [\"which endocrine gland regulates blood sugar levels ?\"], [\"how diabetes affect the pancreas ?\"], [\"what is better to take for low blood sugar ?\"], [\"is diabetes medicine available without a prescription ?\"], [\"your father is fifty years old and he has been drinking alcohol since twenty three years on regular basis . now a days he is drinking in <unk> he is a heart patient and diabetic kindly help you on this ?\"], [\"how much does it cost for treatment of diabetes ?\"], [\"where can i find free diabetic menus ?\"], [\"what is the one common characteristic for all forms of diabetes mellitus ?\"], [\"losing weight for health reasons ?\"], [\"is diabetes the epidemic of the <unk> century ?\"], [\"where was diabetes discovered ?\"], [\"what are a list of foods for diabetics ?\"], [\"why would the doctor suggest checking the patient is blood sugar levels ?\"], [\"what research has been done on <unk> ?\"], [\"what is the treatment for diabetes type two ?\"], [\"is a one hundred and thirty blood sugar level too high ?\"], [\"how will my diabetes be treated ?\"], [\"what is the diff between diabetes one and two ?\"], [\"do more people die of aids or diabetes ?\"], [\"you are suffering from extreme thirst and frequent urine you lose you feel exhausted <unk> <unk> and you missed this month period you did home pregnancy <unk> negative feel <unk> pain in lower <unk> ?\"], [\"how do you monitor diabetic blood sugar levels . ?\"], [\"where can one find <unk> information on living with diabetes ?\"], [\"what does coma mean ?\"], [\"how can i tell if my glucose meter is <unk> reading my sugar levels ?\"], [\"what are <unk> treatments for insulin resistance ?\"], [\"is eating pizza ok for a diabetic ?\"], [\"is gestational diabetes the kind that only occurs during pregnancy ?\"], [\"does people with <unk> have high or low blood sugar ?\"], [\"what is the cpt code for injection of <unk> for <unk> <unk> ?\"], [\"what is a good blood reading for diabetes ?\"], [\"will there be a cure for diabetes ?\"], [\"what is two types of diabetes ?\"], [\"is the number of people worldwide who have diabetes increasing ?\"], [\"can i get a diabetic diet menu on a cruise ship ?\"], [\"<unk> effect on diabetes type1 ?\"], [\"can diabetics stop using insulin ?\"], [\"how do children with diabetes cope in school ?\"], [\"is one hundred and nine high after fasting ?\"], [\"how many diabetics are there in the world ?\"], [\"what are the best choices of diabetic food ?\"], [\"when should insulin be taken ?\"], [\"what is the condition in which blood glucose levels are higher than normal but are not high enough for a diagnosis of diabetes ?\"], [\"is eating a lot of ice a sign of diabetes ?\"], [\"is it any weight loss shakes that a diabetic or a person with high blood pressure can use ?\"], [\"when mixing regular and nph insulin which do you draw up first ?\"], [\"are <unk> suitable for diabetics ?\"], [\"what are some great diabetic recipes ?\"], [\"how does the body keep constant blood sugar level ?\"], [\"what causes your blood sugar to drop rapidly ?\"], [\"what are the health risks in relation to eating too many carbs ?\"], [\"what happens if you drink a bit of insulin ?\"], [\"can a person blood sugar go over two hundred if they are not a diabetic ?\"], [\"what nutrilite product a women with cancer can take ?\"], [\"when a person is a diabetic do they have to have a special diet to control there diabetes ?\"], [\"what is the <unk> of insulin ?\"], [\"why diabetes causes kidney damage ?\"], [\"what are some symptoms of diabetic retinopathy ?\"], [\"what is sugar normal range ?\"], [\"what exactly does polydipsia mean ?\"], [\"what happens in there is less secretion of insulin ?\"], [\"is selling diabetic test strips legal ?\"], [\"it is recommended that you consume foods with five grams or more of as it is beneficial for weight control diabetes and even forms of cancer ?\"], [\"can dehydration affect high blood sugar ?\"], [\"can a diabetic person eat cane sugar ?\"], [\"what is found in the urine of diabetics ?\"], [\"can taking insulin increase <unk> ?\"], [\"is smoking when you have diabetes more effective than people that dont ?\"], [\"how can diabetics increase their insulin levels ?\"], [\"is nutrilite <unk> c for diabetes ?\"], [\"how to reverse diabetes ?\"], [\"are diabetes and <unk> linked ?\"], [\"what does diabetic neuropathy treatment entail ?\"], [\"can heat effect the <unk> of herpes type two ?\"], [\"are there any websites that can help me find diabetic food list ?\"], [\"can you use glucose in a recipe that calls for liquid glucose ?\"], [\"can you have diabetes and get in to the naval academy ?\"], [\"what is the density of insulin ?\"], [\"do diabetic cookbooks only contain diabetic specific meals ?\"], [\"how long to lower glucose levels ?\"], [\"what is diabetes insipidus characterized by ?\"], [\"what does diabetes do ?\"], [\"what fruit is good with diabetes ?\"], [\"what is <unk> ?\"], [\"what are the effects of poor eating habits ?\"], [\"which parent is diabetes passes ?\"], [\"what medical conditions cause hands and feet to fall asleep ?\"], [\"what is the national <unk> for diabetes ?\"], [\"early signs of diabetes mellitus ?\"], [\"what are three ways to reduce the risk of diabetes ?\"], [\"similarities between diabetes mellitus and diabetes insipidus ?\"], [\"is over the counter insulin not as good as prescription insulin ?\"], [\"what range of sugar after meal ?\"], [\"hypoglycemic diet can reverse <unk> hypoglycemia ?\"], [\"what happens if your a diabetic and has a cut ?\"], [\"what is the signs and symptoms of diabetes ?\"], [\"how are type l dm different from type ll diabetes ?\"], [\"what is the name of the organ or gland that produces insulin ?\"], [\"what is diabetes myelitis ?\"], [\"can you have diabetes ?\"], [\"can diabetics be <unk> ?\"], [\"will bypass two slim ball interact with diabetes medications ?\"], [\"what are some signs and symptoms for diabetes ?\"], [\"why are my breasts sore and growing at thirty years ?\"], [\"what causes green vomit in children who have type one diabetes ?\"], [\"average age for a type one diabetic ?\"], [\"what is it like to have diabetes ?\"], [\"can diabetics eat <unk> ?\"], [\"is there cure for <unk> ?\"], [\"is the cause of diabetes environmental or hereditary ?\"], [\"what kind of diabetes are there ?\"], [\"what do you do when a diabetic has sudden low blood sugar ?\"], [\"can a mother who has thyroid cancer cause type one diabetes in her children ?\"], [\"can diabetes cause your gums and teeth to hurt ?\"], [\"what foods are recomended for diabetics ?\"], [\"can you name some diabetic online diet programs ?\"], [\"what is carb counting for diabetes ?\"], [\"what diabetic supplies should a diabetic always have available ?\"], [\"does banana contribute to diabetes ?\"], [\"how many calories should a type two diabetic consume daily ?\"], [\"how do you control diabetes ?\"], [\"what are the symptoms of type one diabetes ?\"], [\"in the one thousand , nine hundred and twenty <unk> physician <unk> <unk> treated drug addiction by <unk> inducing comas through <unk> of what <unk> drug ?\"], [\"what <unk> low <unk> in blood ?\"], [\"which is the best insulin pen available in the market ?\"], [\"do you suspect that you have diabetes ?\"], [\"what symptoms do horses have with diabetes ?\"], [\"why is diabetes is a deficiency disease ?\"], [\"what is a blood sugar levels chart and what does it do ?\"], [\"can you still get a tattoo if your a <unk> ?\"], [\"does <unk> have diabetes ?\"], [\"what are the <unk> in diabetes ?\"], [\"what are the best diets for diabetic ?\"], [\"what are type two diabetes treatments ?\"], [\"diabetic diet guidelines ?\"], [\"who discovered the cure for the diabetes ?\"], [\"how many people have diabetes ?\"], [\"what does two hundred and three as a blood sugar means ?\"], [\"can a diabetic patient eat boiled rice ?\"], [\"what occurs in the body with type ii diabetes ?\"], [\"how many children does nick jonas want their names with who ?\"], [\"is there a prediabetes diet that is available to people at high risk for diabetes ?\"], [\"who invented the insulin ?\"], [\"is homeopathy effective in treating diabetes type two and which remedies tend to match the picture ?\"], [\"what type of diabetic is always insulin dependent ?\"], [\"what are some diabetic recipes ?\"], [\"safe and legal way to travel with insulin injection equipment and <unk> ?\"], [\"can you lose type two diabetes ?\"], [\"what happens to blood sugar level in diabetic patients ?\"], [\"is a diabetic diet good for someone who is not diabetic ?\"], [\"where can i find more information on a diabetic diet chart ?\"], [\"where can you find a list of foods that diabetics should never eat ?\"], [\"how do you know if you have got diabetes ?\"], [\"can some one please tell me where to find healthy food for a diabetic like me ?\"], [\"can diabetic patient drink ginger beer ?\"], [\"what increases blood sugar ?\"], [\"what is nephrogenic diabetes ?\"], [\"when someone dies of a diabetic seizure what do they look like in detail please ?\"], [\"what are the essential components for controlling type two diabetes ?\"], [\"did miley break up with nick cause of his diabetes ?\"], [\"what can you eat while you are diabetic and pregnant ?\"], [\"what are the three major diabetic foods to avoid ?\"], [\"what is the importance of foot care and cleaning for people with diabetes ?\"], [\"what will be the right consumption of every kind of processed foods ?\"], [\"what is the disease characterized by low blood sugar level ?\"], [\"does eating sugar make you sweat more ?\"], [\"how long does it take for blood sugar to decrease if not on medication ?\"], [\"is a blood sugar level of one hundred and twenty four considered high for men who is sixty three yrs old ?\"], [\"how can you prevent getting diabetes ?\"], [\"how can diabetes be inherited ?\"], [\"where to get information on diabetes alert dog training ?\"], [\"what part of speech is the word lethargy ?\"], [\"was diabetes curable in the <unk> ?\"], [\"is whiskey safe for diabetics ?\"], [\"can diabetics use the master <unk> ?\"], [\"how long can a diabetic live ?\"], [\"how common is juvenile diabetes in children ?\"], [\"can frequent urination be a sign of diabetes ?\"], [\"how does genetic engineering affect people with diabetes ?\"], [\"does lack of insulin will cause high blood glucose levels ?\"], [\"why is weight loss important for diabetes sufferers ?\"], [\"glucose level one hundred and eleven ?\"], [\"what percent of the worlds population are diabetic ?\"], [\"what are some medicines of a diabetic person ?\"], [\"how do you get diabetes i want to have it ?\"], [\"which homeopathic remedies might be effective in treating diabetes type two ?\"], [\"where can i get a cheap a1c <unk> ?\"], [\"you are making a grocery list right now and you am diabetic what should you put on it ?\"], [\"what is the quantity of <unk> roots that one diabetic patient can have daily ?\"], [\"what is the primary organ involved with type one diabetes mellitus ?\"], [\"what types of food should diabetics avoid . ?\"], [\"what would happen if you ate insulin and how does it taste ?\"], [\"what does the glucose meter read ?\"], [\"what is normal glucose levels for diabetic ?\"], [\"does jason <unk> have diabetes ?\"], [\"can <unk> be extremely painful or is it always painless ?\"], [\"can you take <unk> when you got diabetes ?\"], [\"what is the role of liver in controlling blood sugar level ?\"], [\"where can you find out more about diabetes medicines ?\"], [\"why does diabetes type one cause weight loss ?\"], [\"is <unk> dry gin good for a diabetic ?\"], [\"what is the best diet for a person with diabetes ?\"], [\"which gland produces aldosterone ?\"], [\"is honey not good for a diabetic person ?\"], [\"where can i find healthy diabetic recipes online ?\"], [\"who criteria for <unk> in diabetes ?\"], [\"what are recent books with tasty diabetic food recipes ?\"], [\"what diets are there for people with diabetes ?\"], [\"why cant type one diabetes be prevented ?\"], [\"are there restaurants with diabetic menus ?\"], [\"what kinds of fruit can a diabetic eat ?\"], [\"how many people with type two diabetes die a year ?\"], [\"how many children die each year from diabetes ?\"], [\"why is there glucose in urine ?\"], [\"what would happen if you eat twenty five <unk> of sugar ?\"], [\"is hba1c of six point nine diabetic ?\"], [\"can truck <unk> have type two diabetes according to dot regulations ?\"], [\"what is dibetes ?\"], [\"is one hundred and seventy reading after food diabetic ?\"], [\"if you are healthy can you get diabetes ?\"], [\"what is the difference between the sports <unk> <unk> and <unk> ?\"], [\"how do you lower blood glucose ?\"], [\"what medications cause blood glucose levels to rise ?\"], [\"diabetes is a result of the insufficient production of what ?\"], [\"what is normal blood sugar and how can one get this ?\"], [\"do diabetics need more sleep than normal people ?\"], [\"can a vegetarian diet help diabetics ?\"], [\"why are the legs cut when a person has diabetes ?\"], [\"what is the relationship of <unk> seed in lowering the blood glucose ?\"], [\"does nick jonas support the diabetes research institute ?\"], [\"how does food poisoning affect diabetes ?\"], [\"what happens to the blood sugar level concentration when you eat a chocolate bar in terms of diabetes ?\"], [\"what are jokes about diabetes ?\"], [\"which cell suffer from hypoglycemia if takes insulin overdose ?\"], [\"can diabetes cause your feet to burn on the bottom ?\"], [\"what does diagnosis means ?\"], [\"what organs malfunction causes diabetes ?\"], [\"what can you do at home for your cat that you think has diabetes ?\"], [\"can diabetes supplies be <unk> online ?\"], [\"alan rickman is diabetic ?\"], [\"what is a diabetic menu or where can i find one ?\"], [\"is <unk> good for diabetic ?\"], [\"my doctor asked me if a patient of <unk> had diabetes . i said no just high blood pressure . he said that is diabetes . does having high blood pressure mean you have diabetes ?\"], [\"is itching a symptom of diabetes ?\"], [\"what is the allowable sugar intake a day for a diabetic ?\"], [\"is drinking beer safe for diabetics ?\"], [\"does blue cross cover diabetic supplies in canada ?\"], [\"what is arousal in sport ?\"], [\"is there something out there that can prevent diabetes ?\"], [\"can you get <unk> for a child with diabetes insipidus ?\"], [\"how many units of insulin is point zero five ml ?\"], [\"is or can diabetes be caused by mental illness or can the brain stop the pancreas from producing insulin ?\"], [\"how does someone obtain type one diabetes ?\"], [\"who gets type one and type two diabetes ?\"], [\"what measures can be taken to <unk> starvation in the world ?\"], [\"how many diabetics are there in the uk ?\"], [\"how does diabetes progress ?\"], [\"does pot raise your blood sugar ?\"], [\"are increased thirst , hunger and loss of weight good reason to be concerned about high blood sugar ?\"], [\"what type of small <unk> is the one that <unk> your bathroom and <unk> around your body ?\"], [\"how do you know if you have type one diabetes ?\"], [\"why does your blood sugar rise after eating raisin bran cereals ?\"], [\"is metformin one of the diabetes drugs that you can gain weight from ?\"], [\"what term best describes a failure of the body is cells to <unk> to insulin ?\"], [\"does your groin itch when you have diabetes ?\"], [\"how many units of insulin are in zero point five ml of regular u-100 insulin ?\"], [\"what parts of the body can be affected by <unk> dystonia ?\"], [\"what are the foods to bring down sugar level for type two diabetes ?\"], [\"what kind of treatment there is for diabetes ?\"], [\"how does <unk> surgery help diabetes ?\"], [\"what is the best way to control type two diabetes ?\"], [\"what happens when hormones that control sugar levels in the body does not work properly ?\"], [\"remedy for stings ?\"], [\"is it a bad thing if you lose one <unk> in a week and then one point five pounds in a day without trying and if you are thirsty all the time so you drink lots of water ?\"], [\"will high sugar make you sleepy ?\"], [\"what is the word for excessive thirst ?\"], [\"you would like to know if the <unk> vitamin c are safe for a diabetic person on medication <unk> and metformin ?\"], [\"what are considered good numbers for glucose monitoring ?\"], [\"what is insulin made of ?\"], [\"which type of diabetes occures when the body makes insulin but not enough to meet the body needs or the body becomes resistant to insulin produced ?\"], [\"what does two hundred and ninety seven as a blood sugar means ?\"], [\"diabetes treatment with forever living products ?\"], [\"how does one properly manage their diabetes symptoms ?\"], [\"can <unk> care help diabetes ?\"], [\"what is the difference between net grams of carbohydrates and total carbohydrates ?\"], [\"why is diabetes so common in the us ?\"], [\"what happens to a person with diabetes ?\"], [\"is beer useful or harmful in diabetes ?\"], [\"people are affected with type two diabetes and are unaware they have the disease ?\"], [\"is metformin a diabetes medication ?\"], [\"how does type one differ from type two <unk> disease ?\"], [\"how can <unk> smoking affect the sugar level of a diabetic person ?\"], [\"how much <unk> do you give an adult pregnant patient having a one hour gestational diabetes screen ?\"], [\"what disease has the symptoms of obesity diabetes facial hair growth on female <unk> thin fine hair on head <unk> fluid retention and i had to have an <unk> <unk> replacement surgery ?\"], [\"cat has diabetes and not eating is he dying ?\"], [\"food for diabetics ?\"], [\"what kind of <unk> can do a diabetic ?\"], [\"why do some diabetics take medications orally ?\"], [\"will the nutrisystem diabetic diet do any harm to diabetics ?\"], [\"what is diabetes <unk> ?\"], [\"is diabetes type two something to be worried about ?\"], [\"is there any way to monitor blood sugar levels without using a needle to draw blood ?\"], [\"is diabetes testing recommended for everyone ?\"], [\"what are the routes of insulin administration ?\"], [\"can <unk> cause women to get cancer ?\"], [\"can you get your <unk> if you are type one diabetes ?\"], [\"does high dosage of thyroxine medication affect blood glucose levels ?\"], [\"is tonic water good for diabetic ?\"], [\"what medications are available orally for diabetes ?\"], [\"does smoking raise blood sugar ?\"], [\"explain the are the three types of diabetes ?\"], [\"what side effects are caused by high blood sugar levels ?\"], [\"do you know any info about hemoglobin a1c test ?\"], [\"best recipes for diabetics ?\"], [\"what happens when a type two diabetic does not take his insulin ?\"], [\"where can i buy a diabetic pump ?\"], [\"what are some diabetic foods and can they be found in any store ?\"], [\"what should a diabetic avoid to eat ?\"], [\"should someone with diabetes take <unk> ?\"], [\"what is the action of <unk> on glucose level ?\"], [\"are there diabetic <unk> ?\"], [\"how is insulin regulated ?\"], [\"is type two diabetes curable ?\"], [\"what is a drug taken by diabetics ?\"], [\"how do i lower my diabetic blood sugar level ?\"], [\"diabetes treatment guidelines ?\"], [\"what foods can make it worse if you have diabetes ?\"], [\"diabetes in pregnancy ?\"], [\"blood sugar at five hundred what do you do ?\"], [\"what are some recommended food for diabetics ?\"], [\"can you drink beer and lower blood sugar ?\"], [\"what are the <unk> fruits for diabetic blood sugar ?\"], [\"why do doctors think diabetes might be a virus ?\"], [\"what research has been done on <unk> ?\"], [\"which diabetes does the offspring get if one has diabetes ?\"], [\"where could one find a list of food suitable for diabetics ?\"], [\"what would cause metal taste in mouth yellow foul smelling <unk> excessive gas ?\"], [\"what are some good diabetic food recipes that will help alleviate my symptoms ?\"], [\"how does a pressure sore start ?\"], [\"why a person who has diabetes mellitus have more acidic urine ?\"], [\"the four p is of diabetes ?\"], [\"can blood tests determine diabetes ?\"], [\"what body system are most affected by diabetes type two ?\"], [\"are bananas good for diabetics ?\"], [\"what is the use of diabetes drugs on a diabetic patient ?\"], [\"what are some foods used in diabetic recipes ?\"], [\"what sort of foods can give you diabetes or is this just a <unk> ?\"], [\"what is considered a normal blood sugar level ?\"], [\"would looking at blood sugar levels be part of diet ?\"], [\"do i need a diabetic diet sheet if i am diabetic ?\"], [\"what does metaformin tablets do ?\"], [\"what glands are associated with diabetes ?\"], [\"does medicaid cover diabetic supplies ?\"], [\"the glycemic index predicts the way certain foods affect ?\"], [\"what foods should a diabetic buy at the grocery store ?\"], [\"how many mixed drinks can a type two diabetes have ?\"], [\"why do you have to use insulin when you have diabetes ?\"], [\"is apple good for type two diabetes ?\"], [\"what types of medication are currently available for diabetes ?\"], [\"diabetes education for patients ?\"], [\"what is the purpose of insulin ?\"], [\"what are the most <unk> signs of diabetes ?\"], [\"what is a disease in which the body does not produce or properly use insulin . ?\"], [\"which diabetes require insulin injections ?\"], [\"can you take <unk> if you are a diabetic ?\"], [\"where can i find an online list of available diabetic cookbooks ?\"], [\"what is a diabetic ulcer ?\"], [\"a diabetic person should ?\"], [\"how did nick get diabetes ?\"], [\"what puts more sugar in the blood and raises the blood pre ?\"], [\"how are blood glucose levels regulated in the body ?\"], [\"which of the jonas <unk> have diabetes ?\"], [\"what is a good diet for someone who suffers from diabetic nephropathy ?\"], [\"how is the insulin used by diabetics obtained ?\"], [\"where can i find a good pre diabetes diet to follow ?\"], [\"how long will you with diabetes ?\"], [\"what exactly is a diabetes diet ?\"], [\"how many people die from diabetic complications of hypoglycemia ?\"], [\"how can you tell if you are a diabetic without seeing a doctor ?\"], [\"what are some good diabetic foods ?\"], [\"can diabetics be in <unk> ?\"], [\"what is the difference between non insulin dependent diabetes and isulin dependent diabetes ?\"], [\"what are some good diet plans for diabetics ?\"], [\"do you need shots for type two diabetes ?\"], [\"what are glucose tablets ?\"], [\"what are the most important factors inside of the diabetes guidelines ?\"], [\"what research has been done on sun is soup ?\"], [\"what causes the amount of glucose in foods to increase ?\"], [\"does sugar raise blood pressure ?\"], [\"is there a food without glucose ?\"], [\"which diseases are caused due unbalanced diet ?\"], [\"cost of diabetic supplies at <unk> ?\"], [\"what <unk> do you need to be a diabetes nurse ?\"], [\"can you have diabetes and work for the post office ?\"], [\"what kind of condition is diabetes insipidus ?\"], [\"will taking <unk> units of insulin a day hurt me ?\"], [\"am a fighter pilot now i got to know that am having diabetes can i continue flying with medicines ?\"], [\"you are ninety two lbs and your blood sugar level is still high ?\"], [\"can a leg ulcer cause diabetic retinopathy ?\"], [\"how many grams of sugar should a pre-diabetic woman consume per day ?\"], [\"what is the daily recommended intake for carbohydrates ?\"], [\"what is the normal ranges of sugar after eating ?\"], [\"what profession could help a person with type2 diabetes ?\"], [\"how do you cure from type two diabetes ?\"], [\"where can an older diabetic find a reasonably priced life insurance policy ?\"], [\"can diabetes cause blurry vision and how long does it last ?\"], [\"what fruits can a diabetic have ?\"], [\"what are the symptoms of a diabetic ?\"], [\"will vision change as sugar levels increase or decrease ?\"], [\"will a type one diabetic male produce children with type one diabetes ?\"], [\"name of black <unk> in diabetes care club ?\"], [\"is diabetes mellitus an acute disorder ?\"], [\"how do genes play <unk> in getting diabetes ?\"], [\"why does your arm ache after sleeping ?\"], [\"how can you contract diabetes ?\"], [\"how can i prevent diabetes in my family ?\"], [\"will a patient with type ii diabetes require daily insulin injections on a regular basis ?\"], [\"can diabetic neuropathy cause muscle twitching or spasms in fingers ?\"], [\"what herbs kills diabeties ?\"], [\"does eating mangoes increase sugar level ?\"], [\"what is the nature of diabetes ?\"], [\"where is glucose released from ?\"], [\"how do you test blood sugar without lancets ?\"], [\"where can a person find a cookbook full of diabetic recipes ?\"], [\"what does treatment of diabetic neuropathy focus on ?\"], [\"what research has been done on <unk> massage ?\"], [\"can you take tylenol if your diabetic ?\"], [\"what are the release dates for project not me diabetes prevention - two thousand and twelve taking charge <unk> ?\"], [\"how long will you live with type two diabetes ?\"], [\"do fruits raise blood sugar levels ?\"], [\"how did you get diabetes ?\"], [\"diabetic pump ?\"], [\"what fruits and vegetables are <unk> foods on the diabetes food list and are the portion size restrictions the same ?\"], [\"what is <unk> ?\"], [\"how do i <unk> the symptoms of diabetes ?\"], [\"do people without diabetes benefit from a diabetic diet ?\"], [\"is there a cure for diabetes or can it be managed with exercise and diet ?\"], [\"a scientist makes an educated guess that diabetes is caused by genetic factors his guess is an example of a n ?\"], [\"can diabetic person eat apricot ?\"], [\"can having diabetes make it hard to get over a cold ?\"], [\"did nick jonas ever pass out on stage due to his diabetes ?\"], [\"is sixty low for a glucose reading ?\"], [\"if you have children with nick jonas would they have diabetes ?\"], [\"what is a sugar high ?\"], [\"what is <unk> syndrome ?\"], [\"is diabetes a genetic disease ?\"], [\"how does type two diabetes impact the body over extended periods of time ?\"], [\"is it safe to kiss a diabetic ?\"], [\"is diabetes a mental illness ?\"], [\"what are the symptoms of diabetes in children ?\"], [\"what herbs are good for diabetes ?\"], [\"is ninety seven blood sugar normal for diabetics ?\"], [\"how to create a diabetic cake recipe ?\"], [\"do diabetic people need to smoke ?\"], [\"is a symptom of diabetes craving salty food ?\"], [\"should a hypoglycemic patient take insulin ?\"], [\"how serious a disease is diabetes ?\"], [\"what is <unk> ?\"], [\"how do you get type three diabetes ?\"], [\"do high glucose means that you are a diabetic ?\"], [\"is nick jonas dying because of diabetes ?\"], [\"how many times a day do you take insulin for type one diabetes ?\"], [\"what will happen if you do not take enough insulin ?\"], [\"why do your teeth ache can diabetes medicine increase sensitivity ?\"], [\"how can i get diabetes ?\"], [\"where do diabetics normally inject insulin ?\"], [\"what is the leading cause of death in childhood diabetes ?\"], [\"a recipe to suit a person with type two diabetes ?\"], [\"are there any side effects from melabic an herb for diabetics ?\"], [\"what is the difference of tuberculin to insulin syringe in terms of <unk> ?\"], [\"how do doctors diagnose diabetes ?\"], [\"what are the best ways of controlling diabetes ?\"], [\"can eating fresh cherries control blood glucose level ?\"], [\"why irregular or high hgt in diabetic patients ?\"], [\"what is somogyi is phenomenon ?\"], [\"type three diabetes ?\"], [\"how to fake diabetes test ?\"], [\"why does diabetes affect sport ?\"], [\"what bread is healthiest for diabetics ?\"], [\"what are the symptoms of <unk> diabetes and what should be the treatment ?\"], [\"how do you reduce aggregation and inactivation by recombinant insulin ?\"], [\"what causes <unk> ?\"], [\"where can i find more information on high blood sugar ?\"], [\"is one hundred and sixteen a good blood sugar ?\"], [\"can i handle my diabetes through diet alone without any medical supplies ?\"], [\"what is the most important <unk> for treatment of diabetes two ?\"], [\"you have had <unk> <unk> for a couple of weeks and they said your progesterone level was low now it has turned to blood is this still normal ?\"], [\"the glycemic index predicts the way certain foods effect ?\"], [\"who commonly uses <unk> met ?\"], [\"is diabetes a <unk> over the age of forty type two ?\"], [\"what is the normal postprandial blood glucose for a human ?\"], [\"can diabetes cause organ shut down ?\"], [\"where can you find diabetic supplies in seattle wa ?\"], [\"if you can not <unk> the military because of diabetes is there another option that offers the same structure ?\"], [\"what foot problems exist in high <unk> countries ?\"], [\"can you get type one diabetes at any stage of your life ?\"], [\"has a cure been found for diabetes ?\"], [\"chronic disorder caused by inadequate production or use of insulin is a ?\"], [\"can normal weight teens get type two diabetes ?\"], [\"what do the signs of diabetic ketoacidosis appear as ?\"], [\"did miley cyrus break up with nick jonas because nick had diabetes ?\"], [\"what organs does smoking effect ?\"], [\"what should you do if your glucose level is three hundred and seventy one ?\"], [\"what is diabetic nephropathy ?\"], [\"i have been diagnosed with diabetes i am a fourteen year old girl is it a normal feeling to just want to give up ?\"], [\"where in the world is diabetes most commonly found ?\"], [\"is eighty six a normal blood sugar for a none diabetic ?\"], [\"what is diabetic nephrology ?\"], [\"where can i find information about weight loss for diabetics ?\"], [\"what should you do if a diabetic has too much sugar ?\"], [\"does a raised glucose level mean i am diabetic ?\"], [\"are rashes that <unk> is a signs of a diabetic ?\"], [\"what s the relationship behind high serum uric acid and diabetes ?\"], [\"when would a diabetic need to see the doctor with sore feet ?\"], [\"is diabetes autosomal or sex linked ?\"], [\"diabetic recipes free ?\"], [\"where can i get diabetes products ?\"], [\"guidelines for a diabetic diet sheet ?\"], [\"how do you get diabetes ?\"], [\"can being diabetic make you sleepy ?\"], [\"what can cause changes to blood sugar ?\"], [\"what type of diet is people with type two diabetes ?\"], [\"what would you say about a1c range ?\"], [\"can type two diabetes be treated ?\"], [\"what research has been done on <unk> ?\"], [\"which endocrine gland fails to produce enough of its <unk> the diabetes ?\"], [\"reverse diabetes ?\"], [\"which condition is not a diabetic complication ?\"], [\"how do you control high blood sugars of seven year old with type one diabetes ?\"], [\"how can you find out if a high glucose test was a result of diabetes or stress ?\"], [\"can you eat spinach if you are diabetic ?\"], [\"is type one diabetes a dominant or recessive gene ?\"], [\"how does marijuana effect blood sugar ?\"], [\"can you lose body parts from diabetes ?\"], [\"why is it that in today is society kids are beginning to get type two diabetes ?\"], [\"how do you cure diabetes naturally without medication ?\"], [\"how much glucose is in diabetic person ?\"], [\"how does one know if they are having diabetes symptoms ?\"], [\"what foods cant you eat with type two diabetes ?\"], [\"can diabetics eat an orange per day ?\"], [\"how do you know if you might have diabetes ?\"], [\"is it bad if diabetes people eat <unk> ?\"], [\"how does one get diabetic ?\"], [\"are there stages of diabetes ?\"], [\"is barry gibb diabetic ?\"], [\"what are the symptoms and treatment of hypoglycemia and hyperglycemia ?\"], [\"how <unk> to eat banana for a diabetes patient ?\"], [\"what drugs increase adh levels ?\"], [\"is it dangerous to drink a diabetics blood ?\"], [\"can <unk> cause blurred vision ?\"], [\"how many diabetics are in <unk> county ?\"], [\"<unk> , sugar free recipes for the elderly ?\"], [\"does diabetes affect male sexual performance ?\"], [\"what is a bone marrow biopsy ?\"], [\"why is insulin released into the bloodstream ?\"], [\"would an apple raise blood sugar ?\"], [\"how is diabetes controlled ?\"], [\"is whiskey safe for diabetic ?\"], [\"where can i find a diet plan for diabetics that is healthy and also helps people loose weight ?\"], [\"what body part produces insulin so that cells can use sugar ?\"], [\"should a person with diabetes type one smoke weed ?\"], [\"where can i find a good book on diabetes blood sugar levels ?\"], [\"can someone please explain what an a1c <unk> is ?\"], [\"what is a reputable diabetic cookbook to purchase online ?\"], [\"what causes high triglycerides please ?\"], [\"why diabetic patient prefer to use sheep insulin than human insulin ?\"], [\"what are any options for pregnant ladies so that their kids can not get diabetes ?\"], [\"is it likely you will die from diabetes ?\"], [\"what if your dad is a diabetic and need a kidney but he has seizures can he die ?\"], [\"do plants get diabetes ?\"], [\"what country has the highest diabetic rate ?\"], [\"how do you get diabetes in your life ?\"], [\"the components of a diabetic food plan ?\"], [\"what are the consequences or effects of diabetes ?\"], [\"is evaporated cane juice all right for diabetics ?\"], [\"why must type i diabetes patients inject insulin ?\"], [\"is actrapid insulin a short acting insulin ?\"], [\"can you <unk> if you have diabetes ?\"], [\"describe how diabetes is <unk> and monitored in individual ?\"], [\"can diabetics eat liver ?\"], [\"can diabetes cause <unk> ?\"], [\"does <unk> and ramipril affect oral glucose tolerance tests ?\"], [\"where can i find more information on diet for diabetic ?\"], [\"what age was nick jonas when he was diagnosed with diabetes ?\"], [\"what hormone is responsible for the change in blood glucose between 7am and <unk> ?\"], [\"where can one find information concerning a diabetic diet ?\"], [\"is diabetes a <unk> ?\"], [\"is there any help for diabetic ed in a man that can not take viagra and shots dont work well ?\"], [\"what type of diabetes are obese people most likely to develop ?\"], [\"where can i find a list of food for a diabetic ?\"], [\"can people not be at risk of diabetes ?\"], [\"what are the normal results of a fasting blood sugar test ?\"], [\"does a large consumption of sugar cause diabetes ?\"], [\"how can you prevent type two diabetes when your dad has it ?\"], [\"what is a stage three diabetic foot ulcer ?\"], [\"what raises the blood sugar level and increases the heartbeat and breathing rates ?\"], [\"is diabetes a noncommunicable disease ?\"], [\"what symptoms does someone with high blood sugar have ?\"], [\"how do you use a blood sugar chart ?\"], [\"is diabetes fatal ?\"], [\"what is the average life expectancy for a diabetic male ?\"], [\"what are the the first treatments <unk> in diabetes ?\"], [\"what s type three diabetes ?\"], [\"what is the insulin used for <unk> patients ?\"], [\"in which homeopathic remedies do the symptoms of type two diabetes appear - other than <unk> ?\"], [\"what sugar levels are normal for someone with diabetes ?\"], [\"why black ants not red small ants are attracted to human urine <unk> on <unk> ?\"], [\"can drinking a regular coke jump start your body to lower your blood sugar ?\"], [\"what are several ways the life of someone with diabetes impacted by the disorder ?\"], [\"what are the reasons for getting more thirsty than usual ?\"], [\"why is orange juice recommended when blood sugar is low ?\"], [\"how come type two diabetes can be cured but not type one diabetes ?\"], [\"what are causes of high blood sugar ?\"], [\"what is a good diet for a diabetic ?\"], [\"blood sugar levels are lowered by the ?\"], [\"has diabetes all ways been diabetes ?\"], [\"how can you get pregnant if your diabetic ?\"], [\"can <unk> get diabetes ?\"], [\"what causes low <unk> in the blood ?\"], [\"could you get diabetes from grapes ?\"], [\"i have diabetes high bp . viagra does not help what can you do ?\"], [\"does exercise help lower your blood sugar level ?\"], [\"what types of people are most susceptible to <unk> syndrome ?\"], [\"is diabetes an organism ?\"], [\"can a insulin diabetic type two live without insulin ?\"], [\"what are some medications for type three diabetes ?\"], [\"what foods and diet plans are good for a diabetes patient ?\"], [\"can weight loss alter the sugar level in diabetics . ?\"], [\"describe a test for the presence of sugar in blood and urine ?\"], [\"why do i have signs and symptoms of diabetes mellitus but my diagnostic tests are negative how can i figure out what is wrong ?\"], [\"what fiber should be recommended to patients with type two diabetes ?\"], [\"can obesity be the cause of type two diabetes ?\"], [\"can a diabetic eat mango ?\"], [\"is coca cola good to drink for those who are diabetics ?\"], [\"is there any herb which can produce insulin or can make pancreas active in ayurveda ?\"], [\"is dieting important for diabetis inspidus condition ?\"], [\"what is the description of pre diabetes ?\"], [\"is nick jonas <unk> he has diabetes ?\"], [\"how long can live without insulin ?\"], [\"why would a diabetic person require injections of insulin two or even three times a day ?\"], [\"why is the function of the hormone insulin in regulating blood sugar level a good example of a negative feedback mechanism for maintaining homeostasis ?\"], [\"what is a blood sugar chart and how do i use it ?\"], [\"where is the energy stored in glucose ?\"], [\"is diabetes capitalized in a sentence ?\"], [\"what condition is caused by too much insulin and too little sugar in the blood ?\"], [\"is v8 juice good for diabetics ?\"], [\"is the <unk> <unk> five hundred and eight available in the us ?\"], [\"where can i go online to find some information on diabetics recipes ?\"], [\"how much sugar is in drpepper ?\"], [\"how does diabetes affect the stomach ?\"], [\"where does insulin travel to ?\"], [\"do diet sodas make you crave sugar and is it bad for diabetes ?\"], [\"what is the normal concentration of blood sugar in a healthy person is body ?\"], [\"what is the risk of infection from hair replacement if you are diabetic ?\"], [\"what are the causes of diabetes in children ?\"], [\"can you lose diabetes ?\"], [\"diabetic strips ?\"], [\"how did nick jonas have diabetes ?\"], [\"how to find free diabetic recipes ?\"], [\"what are symptoms of diebetes ?\"], [\"does diabetes cause loss of <unk> in dogs ?\"], [\"what effect does glucagon has on blood sugar levels ?\"], [\"what should you do if you think you have diabetes ?\"], [\"is humalog long lasting insulin ?\"], [\"what happens when you have diabetes ?\"], [\"do you give chocolate to a person when sugar is five hundred and eighty nine ?\"], [\"how much <unk> for diabetic cat ?\"], [\"can diabetics on insulin take <unk> ?\"], [\"a healthy diet plan for <unk> american with diabetes ?\"], [\"what diabetic eating plan is recommended ?\"], [\"do diabetics get their belly <unk> pierced ?\"], [\"how does a no sugar diet works ?\"], [\"how does diabetes affect personal relationships ?\"], [\"does diabetes cause itching all over ?\"], [\"what is a best natural diabetes treatment ?\"], [\"can you recommend a good diabetic diet ?\"], [\"are there recipes to make diabetic food ?\"], [\"is there a combination of vitamins <unk> and b12 ?\"], [\"is a condition when the body produces too much insulin even when they have not eaten ?\"], [\"does low blood sugar mean i have hypoglycemia ?\"], [\"how does the diabetic food chart compare to the basic food chart ?\"], [\"diabetic complications ?\"], [\"can having diabetes cause symptoms of pregnancy even when you are not pregnant ?\"], [\"how is type two diabetes typically treated ?\"], [\"is walking effective in diabetic patient ?\"], [\"what is sugar doctor or diabetes doctor ?\"], [\"a person is fasting blood glucose level of one hundred and one mg dl would be classified ?\"], [\"what happens when a person that does not have diabetes injects insulin ?\"], [\"what is the normal rate of blood sugar level for age fifty ?\"], [\"what causes tightening of stomach in men ?\"], [\"can you join the us army if you have diabetes insipidus ?\"], [\"does a diabetic diet menu help diabetics ?\"], [\"what is a diabetic foot ulcer ?\"], [\"who are at risk for diabetes ?\"], [\"will drinking vinegar prevent diabetes ?\"], [\"why take <unk> silver when you are a diabetic ?\"], [\"is there a diet for type ii diabetes that will help be avoid needing insulin ?\"], [\"do diabetics have to take cholesterol medicine ?\"], [\"besides medical treatment with insulin what else can you do everyday to minimize your chance of getting diabetes ?\"], [\"how do you get rid of diabetes ?\"], [\"is weight loss a sign of type two diabetes ?\"], [\"diabetes and <unk> ?\"], [\"is <unk> suitable for diabetics ?\"], [\"where can i find something to check my blood glucose levels ?\"], [\"this is an odd question but does glucose have any other <unk> or jobs in the <unk> other than a food or fuel for metabolism ?\"], [\"why is there too little sugar in the blood if the person exercises more than usual ?\"], [\"what is the best way to lose forty pounds if you are fifty five and borderline diabetic ?\"], [\"what are some natural ways to potentially reverse diabetes ?\"], [\"what is a good diabetic cookie recipes ?\"], [\"symptoms of type one diabetes ?\"], [\"what type of diabetes usually requires insulin ?\"], [\"can a cat die of diabetes ?\"], [\"what is type one diabetes mellitus ?\"], [\"why is type two diabetes is an issue in your community ?\"], [\"how does a vet treat canine diabetes ?\"], [\"how many grams of sugar should you limit yourself daily ?\"], [\"what are some good diabetes supplies for adults ?\"], [\"what may be the cause of diabetic neuropathy ?\"], [\"is carrot bad for diabetes ?\"], [\"can you <unk> diabetic needles ?\"], [\"does having diabetes cause semen to taste differently ?\"], [\"how are glucose and <unk> related to each other ?\"], [\"is pure cane sugar cause diabetes ?\"], [\"what are the different complications of type two diabetes ?\"], [\"what precautions need to be taken when doing a gastric acid <unk> ?\"], [\"what are some healthy recipes for the diabetic consumer ?\"], [\"what in the world is a diabetic cookbook ?\"], [\"how you can diagnosis diabete ?\"], [\"the symptoms of diabetes in children ?\"], [\"is one hundred and thirty nine a high sugar reading ?\"], [\"did nick jonas ever have diabetes ?\"], [\"what is the association between type two diabetes and body fat ?\"], [\"did miley cyrus break up with nick jonas because he had diabetes ?\"], [\"can you eat peanuts if you have gestational diabetes ?\"], [\"can teenagers get type two diabetes ?\"], [\"what is it called when a dog has diabetes ?\"], [\"what are some <unk> nursing diagnosis for diabetes mellitus ?\"], [\"what are some examples of communicable diseases ?\"], [\"which hormone is released when your blood sugar rises ?\"], [\"which type of diabetes is mainly treated with insulin injections received several times a day ?\"], [\"could nineteen on diabetes reading bad ?\"], [\"what does the american diabetes association do ?\"], [\"how do you tell someone you want to be tested for diabetes ?\"], [\"can children get diabeties ?\"], [\"what parts of the human body is effected by diabetes type one ?\"], [\"does blood loss affect blood sugar ?\"], [\"what kinds of vegetables can a diabetic eat ?\"], [\"what is a diabetes menu , and how does it affect me ?\"]], \"hovertemplate\": \"pc_1=%{x}<br>pc_2=%{y}<br>pc_3=%{z}<br>question=%{customdata[0]}<br>color=%{marker.color}<extra></extra>\", \"legendgroup\": \"\", \"marker\": {\"color\": [0, 1, 0, 0, 2, -1, 0, 1, 4, 3, 4, 1, 3, 4, 14, -1, 4, 1, 1, 1, 3, 2, 4, 2, 1, 1, 0, 1, 1, -1, 5, 2, 0, 0, 0, 4, 0, 3, 17, 1, 6, -1, 2, 0, 1, 3, 0, 1, -1, 1, 3, 2, 2, 3, 2, -1, 2, 1, 1, 1, 0, 2, 3, 3, 0, 4, 4, 2, -1, 0, 0, 0, 1, -1, 1, 7, 8, 4, -1, 4, 4, 1, 4, 1, 18, 4, -1, 4, 3, 0, 15, 4, 2, 4, 2, 4, 3, -1, -1, 1, 0, 2, 0, -1, 0, -1, 5, 4, 3, 1, 2, -1, 0, 1, 8, 4, 4, 15, 2, 2, 2, 4, 2, 9, 12, 0, -1, 2, 10, 1, 2, 4, 3, 1, 17, 3, 1, 1, 6, 2, 4, -1, 3, 2, 1, 10, 3, 1, 3, 4, 1, 0, 4, 0, 3, 2, 17, 2, 1, -1, 1, 3, 6, 1, 2, 0, 3, 3, 4, 0, 1, 3, -1, 10, 2, 0, 3, -1, 0, -1, 1, 8, 1, -1, 2, 1, 14, 0, 1, 2, 1, -1, 1, 3, 1, 3, 4, 1, 2, 1, 0, 3, 2, 0, 4, 3, 1, 1, 10, 2, 11, 9, 1, -1, 3, 1, 0, -1, 3, -1, 1, 0, 0, 21, 0, 4, 0, 2, 1, 0, 0, 0, 4, 17, 12, 2, 3, 10, 0, 1, -1, 2, 6, 2, 1, 0, 3, 13, 1, 3, 1, 2, -1, 4, 3, 2, 1, 1, 4, -1, 1, 0, 1, -1, 4, 3, 2, 2, 0, 3, 8, 4, 1, 3, 4, 0, 4, 0, 10, 1, -1, 1, 3, 3, 10, 4, 3, -1, 1, 1, 9, 1, 3, 4, 2, 10, 1, 4, 1, 1, 3, 1, -1, 3, 3, 0, 0, 10, 1, 3, 3, 3, 11, 2, 4, 0, 1, 0, 1, 6, 0, 1, 2, -1, 0, 4, 4, 4, -1, 4, 12, 2, 4, 12, 2, 0, 1, 1, 2, 1, -1, 2, 0, 4, 0, -1, 4, 3, 1, 1, 2, 3, 4, 3, 1, 10, 1, 1, 4, 14, 1, 1, 2, 0, 0, 4, 7, 4, 1, 1, 1, 0, 0, 2, -1, -1, -1, -1, 3, -1, 1, 1, 3, 3, 0, -1, 3, 1, 4, 13, 4, 0, 1, 3, 3, 10, 3, 12, 20, 9, 17, 3, 3, -1, 0, 4, 1, 4, 3, -1, 1, 1, 0, 13, 3, 2, -1, 1, 10, 4, 0, 0, 4, 3, 3, 1, 4, 9, 1, 1, 3, 0, 10, -1, 0, 0, 2, 10, 12, 3, 3, 4, 0, 3, 2, -1, 4, 10, 9, -1, 3, 10, 3, 4, 2, 0, -1, 4, 0, 10, 2, 10, 1, 1, 1, 1, 2, 0, 1, 0, 4, 3, 3, 2, -1, 12, -1, 0, 3, 4, 4, 0, 3, 12, 1, 3, -1, 4, 1, 4, 1, 2, 4, -1, 1, -1, 10, -1, 1, -1, 1, 1, 3, 3, 4, 1, 3, 0, 1, -1, 3, 4, 1, -1, -1, 3, 3, 1, -1, 12, 4, 3, 4, 3, -1, 10, 6, 10, 4, 1, 3, -1, 10, 2, 2, 3, 12, 11, 0, 3, 2, 10, -1, 2, 4, 1, 3, 10, 2, 0, 3, 20, -1, -1, 3, -1, 2, 1, 4, 3, 0, -1, 3, 0, 4, 15, -1, 1, 0, 0, 1, -1, 4, 0, -1, 10, 2, 2, 2, 4, 1, 13, 0, 0, 2, 1, 2, 9, 4, 2, 1, -1, 1, 0, 4, -1, 2, 1, 4, 3, 1, 3, 1, 4, 1, -1, 4, -1, 10, 2, 2, 1, 16, 4, 3, 3, 0, -1, 2, 3, 4, 2, 4, 4, 3, 1, 2, 0, -1, -1, 2, 0, 2, 5, 2, 4, -1, 4, 3, 0, 21, 3, 3, 2, 3, 1, 2, 3, 12, 4, 2, 3, 2, 2, 3, 3, 1, 0, 4, 1, 3, 0, 4, 0, 3, 1, -1, 1, 0, 0, 0, 0, 4, 2, 1, 1, -1, 1, 4, 1, 1, 4, 4, 1, 3, 2, 4, 0, 0, 1, 2, 2, 4, 1, 0, 2, 2, 0, 0, 9, 4, 1, 0, 13, 10, 1, 1, 0, 6, 0, 1, -1, 1, 0, 1, 4, 1, 4, 3, -1, 0, 0, -1, 0, 0, 11, 1, 6, 1, 0, 1, 3, 1, 11, 1, 3, -1, 10, 1, 3, 3, 4, 4, -1, 3, -1, 2, 1, 4, 7, 4, 10, -1, 10, 3, 4, 4, 2, 16, 4, -1, 0, 1, 1, 1, 18, 10, 10, 4, 3, 16, 2, 4, 3, 1, 0, 1, 2, 1, 4, 6, 0, 4, -1, 4, 2, 1, 0, -1, 3, 1, 1, 2, 3, 0, 0, 0, 4, 4, 3, 1, 10, -1, 3, 3, 3, 0, 1, 5, 2, 4, 1, 3, 0, 2, 3, 0, 0, 1, 1, 13, 4, 4, 1, 2, 16, 1, -1, 3, -1, 4, 4, 3, 4, 10, 4, 10, 0, 0, 0, 4, 10, 1, 0, 0, 3, 4, 2, 0, 0, 0, 4, 3, 1, 4, 1, -1, 1, -1, 1, 3, 2, 3, 9, 1, 0, 1, 0, -1, 3, 10, 15, 1, 1, 10, -1, 1, 12, 4, 10, 0, 2, 10, 1, 0, 0, 2, 4, 1, 4, 2, 1, 0, 1, 0, 0, 4, -1, 1, 1, 4, 1, 2, 4, 2, 1, 1, 2, -1, 1, 3, 1, 4, 3, 0, 3, 1, 4, 3, 1, 3, -1, 0, 3, -1, 3, 1, 12, 2, 1, 10, 1, -1, 1, 0, 2, 0, 3, 3, 1, 3, -1, 0, 10, -1, 4, -1, 9, 21, 1, 4, 1, 1, 9, 0, 6, -1, 4, 2, 10, 0, 1, 0, -1, 1, 3, 7, 10, 4, 1, -1, -1, -1, 3, 4, 10, 3, 4, 1, 13, 2, 0, 4, 1, 17, -1, -1, 10, 0, 6, 14, -1, 2, -1, 4, 2, -1, 10, 2, 14, 1, 0, 3, 0, 3, 3, 1, 0, 2, 1, -1, 6, 1, 0, -1, 0, 4, 10, 3, 18, 4, 3, 2, 1, 1, 7, 2, 9, 3, -1, 10, 4, 2, -1, 1, 9, -1, 3, 17, 4, 10, 1, 4, 3, -1, -1, 1, -1, 4, 4, 0, 2, 3, 0, 0, 1, 3, 10, 1, 4, 0, 2, 1, -1, 1, 4, 0, 0, 2, 4, 19, 2, 0, 12, -1, 12, 4, 10, 3, -1, 12, -1, 15, 1, 2, 0, -1, 0, 10, 3, 13, 3, -1, 0, 0, 3, 0, 2, 1, 2, 3, 4, 4, 10, -1, 3, 2, 1, 1, 0, 0, 1, -1, -1, 3, -1, 3, 3, 1, 0, 1, 1, 4, 1, 1, 4, 3, 2, -1, 1, 3, 10, 19, 0, 1, 0, 20, 0, 2, 10, 2, 8, 3, 3, 0, 10, 0, 0, 3, 5, 0, -1, 4, 12, 0, 1, -1, -1, 1, 4, 12, 2, 4, 1, 4, 2, 0, 4, 3, 1, 1, 4, 4, 0, 1, 0, 4, 0, 0, 0, 1, 0, 2, 7, -1, -1, 1, 2, 1, 0, 0, -1, 1, -1, 3, 2, 14, 6, 3, 4, 3, 1, 2, 3, 0, 1, 0, -1, 2, 1, 3, 2, 18, 18, 3, 3, 1, 16, 1, 10, -1, 2, 1, 0, 4, 4, 0, 1, 19, 1, 4, -1, 1, 4, -1, 2, -1, 4, -1, 0, 19, -1, 2, 0, 11, 2, -1, 10, 8, 1, 13, 1, 4, 0, -1, 4, 1, 4, 0, 3, 4, 1, 0, 1, 0, 3, 16, 4, 3, 13, 3, 1, 0, 1, 3, -1, 1, 1, -1, 4, 0, 3, 21, 1, 3, 4, 1, 0, 3, -1, -1, 1, 4, 1, 0, 4, 1, 1, 1, -1, 1, 4, 3, 4, 4, 1, 2, 4, 4, 0, 1, 2, 0, -1, -1, 3, -1, 4, 16, 0, 2, 1, 10, 0, -1, 4, 3, 0, 4, 4, 4, -1, 1, 12, 5, 0, 0, 3, 2, 4, 1, 1, 0, 2, 4, 3, 0, 3, 2, 1, 0, 1, -1, 4, 0, 12, 3, 10, 3, 10, -1, 3, 2, 3, 2, 2, 4, 0, 10, 0, 3, 3, 3, 4, 1, -1, -1, 10, 2, 4, 10, 2, 0, 4, -1, 1, 12, 0, 3, 10, 1, 2, 4, 1, 0, 1, 2, 10, 11, 1, 1, 13, -1, 0, 12, 2, -1, 4, 4, 3, 2, 7, 10, 15, 1, 0, -1, 4, 11, 0, -1, 10, 1, -1, -1, 0, 3, 3, -1, 3, 1, 0, 0, 2, 1, 2, 10, 0, 0, 0, 4, 10, 12, 3, 3, 4, 1, 2, 1, -1, 0, 16, 1, 8, 4, 1, 4, 3, 1, 4, 1, 0, -1, 2, 1, 0, 1, 3, 4, 0, 9, 3, 3, 2, 1, 0, 0, 1, 0, 0, 0, 1, 2, -1, 2, 3, 0, 0, 15, 3, 0, -1, 1, 3, 1, 0, -1, 3, 1, -1, 4, -1, 1, 5, 4, -1, 4, 1, 1, 20, -1, 4, 4, 4, 1, -1, 2, 15, -1, 2, 3, 1, 3, 2, 1, 8, 0, 3, -1, 1, -1, 1, 15, 1, 6, 4, 0, 13, -1, 1, 0, 3, 1, 16, 3, 3, 3, 4, 0, 9, 0, 0, 4, 2, 2, 0, 0, 2, 4, 4, -1, 1, 1, 4, 10, 3, 7, 3, 4, 1, 4, 3, -1, 2, 1, 1, -1, 1, 1, 12, 1, 1, 3, 0, 0, 0, 10, 2, 4, 1, 1, 3, 1, 0, 3, 20, 1, 1, 3, 1, 4, 14, 4, 0, 1, 1, 17, 2, 4, 3, 1, 0, 1, 2, 1, 4, 4, 0, 10, 3, 3, 1, 1, 12, 1, 20, -1, 3, -1, 1, 0, 2, 4, -1, 0, 3, 4, 3, 7, 3, 1, 1, 3, 10, 4, -1, 2, 1, 4, 1, 4, 9, 1, 1, 0, 1, 1, 3, 3, 0, 3, 3, 0, 0, 0, 4, 1, -1, 4, 1, 10, 10, 0, 2, 1, 3, 3, -1, 1, 1, 2, 0, 1, 1, 4, 0, 1, 3, 12, 1, 10, 2, 3, 0, 20, 4, 1, 4, 2, 1, 0, 3, 3, 7, 2, 4, 0, 1, 19, 6, 1, 4, 10, 1, 3, -1, 3, 12, 5, 1, -1, 4, 3, 1, 1, 10, 1, -1, -1, 3, 1, 0, 4, 16, 2, 3, 4, 4, 2, 4, 12, 3, 1, 2, 15, 4, 2, 4, 18, -1, 4, 1, 1, -1, 0, 10, 6, 1, 1, 3, 1, 2, 1, 4, 0, 10, 1, 6, 3, 1, 1, 0, 1, -1, 0, 12, 1, 1, 3, 1, -1, 1, 1, 16, 4, 2, 3, 4, 6, 1, 1, 16, -1, 2, -1, -1, 2, 0, 3, 1, 4, 3, 1, 4, -1, 3, 1, 1, 1, 4, 4, 1, 0, 1, -1, -1, 0, 3, 20, 20, 0, 0, 8, 4, 3, -1, 0, 1, -1, 4, 4, 1, 1, -1, -1, 1, 1, 0, -1, 0, 1, 21, 3, 1, 0, 1, 1, -1, 3, 4, 1, 1, 2, 13, -1, 1, 0, -1, 4, 1, 9, 0, 2, 6, 3, 0, 3, 1, 1, -1, -1, 3, 1, 3, 2, 1, 3, 2, 2, 3, 10, 0, 6, 3, 6, 0, 1, 3, 4, 0, 3, 4, 3, 10, 1, 2, 0, 4, 2, 1, 3, 0, -1, 3, 3, 4, 1, 3, 7, -1, 8, 0, 4, 4, 1, -1, -1, 3, 3, 1, 14, 4, 3, 0, 1, 0, -1, 4, 1, 2, 4, 4, 0, 3, 2, 3, 2, 10, -1, 1, 2, 2, 21, 1, -1, 1, 1, 3, 4, 2, 1, 4, 3, -1, 0, 2, 2, 0, 4, 1, 3, 3, 3, 12, 1, 20, 2, -1, 4, 1, 10, 10, 1, 2, 3, 2, 10, -1, 4, 4, 3, -1, 0, 16, 12, 4, 10, 4, 4, 3, 2, 4, 0, 4, 10, 3, -1, -1, -1, 5, 1, 4, 3, 2, 2, 13, 4, 0, 4, -1, 3, 4, 1, -1, 1, 1, 1, 3, 2, 13, 1, 2, 3, 4, 3, 2, 1, 12, 3, 4, 0, 0, -1, 12, 21, 4, 1, 1, 0, 1, 0, 4, 11, 4, 0, 2, 1, 3, 0, 10, -1, -1, 1, 1, 1, -1, 1, 3, 2, 2, 1, 4, -1, 1, 3, -1, 1, 0, 4, 3, -1, 4, 4, 3, -1, 0, 2, 1, 2, 0, 0, 3, 1, 1, 18, 4, 1, 3, 1, 1, 2, -1, 4, 1, 0, 3, 0, -1, 1, 1, 2, -1, 8, 0, 1, -1, 0, 10, 1, 4, 3, 1, 2, 10, 0, 2, 1, 1, 1, 4, 0, 3, 15, 15, 0, 4, 10, 2, 0, 1, 3, 1, 3, 0, 2, 1, 0, -1, 0, 4, 0, 1, 4, 0, 21, 1, 4, 3, 1, 14, -1, 4, 0, -1, 1, 9, 4, 0, 10, 1, 2, 10, 1, 4, 13, 10, 1, 3, 2, 0, 0, -1, 3, 2, 3, 4, 0, 5, 0, 4, 17, 4, 18, 1, 2, 12, 1, 10, 4, 1, -1, 1, 4, 1, 3, 3, 4, 1, 0, 2, 2, 3, 0, 3, 1, 0, 4, -1, 3, 0, 4, -1, 4, 1, 1, 0, 3, 4, 0, 2, 0, 0, 0, 0, 4, 1, 5, 12, 3, 1, -1, 21, 0, 0, -1, 4, 2, 0, 0, -1, 1, 1, 2, 2, 2, 3, 3, 0, 2, 1, 12, 1, 18, 1, 2, 0, 2, 3, 17, 0, 1, 0, -1, -1, 3, 1, -1, 6, 0, 2, 0, 0, 3, 10, 2, 1, 4, 2, -1, 1, 10, 2, 2, 0, 3, -1, -1, 14, 3, 7, 0, 1, 5, 1, 4, -1, 3, -1, 4, 1, 1, 2, 2, 10, 4, -1, -1, 0, 4, 0, 10, 12, 4, 4, -1, 1, 2, 1, -1, 4, 3, 4, 3, 0, 13, 1, 3, 1, -1, 3, 4, 1, 2, 9, -1, -1, 4, -1, 0, 10, 0, 9, 0, 9, 4, 1, -1, 16, 10, 0, 4, 0, 3, 1, 10, 10, -1, 10, -1, 0, 1, 3, 3, 0, 2, 3, 3, 1, 14, 0, 1, 3, 1, 0, 10, 4, 21, 4, -1, 0, 0, 2, -1, 3, -1, 1, 0, 1, 3, 3, 2, 1, 4, -1, 3, 4, 3, 4, 1, 4, 3, 2, 1, 1, 1, 0, -1, 1, 2, 0, 20, 0, 3, 1, 1, -1, -1, 2, 2, 2, 2, 0, 0, 1, -1, 3, 1, 1, 1, -1, 3, 4, 2, 0, 2, 5, 1, 3, 0, 1, 1, 4, 4, 1, 4, 4, 12, 3, 1, 1, 2, 1, 0, 1, 1, 4, 1, 1, 0, 1, 1, 0, 1, 1, 3, 3, 15, 2, 1, 3, 4, 1, 3, -1, -1, 2, -1, 4, 5, 14, 10, 4, 3, -1, 2, 0, 4, 3, 4, 4, 1, -1, 1, 1, 1, 3, 3, -1, 1, 1, -1, -1, 3, 4, -1, 8, 0, 10, 5, 0, 2, 2, 4, 0, 2, 17, 4, 3, 4, 4, 0, 0, 0, 0, 4, -1, 10, 2, 22, 1, 2, 4, 4, 2, -1, 0, 3, 1, -1, 0, -1, 0, -1, 0, -1, 0, 10, 3, 1, -1, 1, 14, 0, 0, 2, -1, 4, 17, -1, -1, 1, 0, 2, 0, -1, 0, -1, 4, 1, 1, 1, -1, -1, 1, 4, 3, 1, 2, 1, 2, 0, 2, 1, 2, 2, -1, 6, 0, 1, 10, 1, 10, 0, -1, 3, -1, 1, -1, 1, 1, 2, 2, 14, 4, 1, 1, 4, 1, 10, 18, 3, 0, 0, 4, 10, -1, 4, 1, 1, 1, 1, 3, 2, 4, 3, 1, 4, 1, 0, 1, 4, 10, 1, 1, 0, 1, 0, 10, 1, -1, 22, 2, 1, 10, 1, 2, 3, -1, 4, 13, 2, 1, 1, 1, 12, 0, 0, -1, 3, 1, 10, 2, 18, 17, 3, -1, 2, 0, 1, -1, 3, 0, 2, 0, -1, 2, 1, 1, 6, 1, 0, 8, 2, 0, 1, 0, 4, -1, 14, 0, 4, 1, 3, 3, 2, 3, 2, 4, 3, 0, 1, 3, 10, -1, 1, 1, 7, 3, 4, 0, 4, 0, -1, 3, 18, 4, 14, 0, 4, 11, 0, 1, 4, 0, 0, 2, 4, 4, 0, 0, 0, -1, 10, 4, 4, 1, 2, 14, 0, 2, 4, 3, 3, 12, 3, 1, 0, -1, 0, 3, -1, 3, 10, 3, 4, 2, -1, 3, 9, 2, 4, 1, 1, 2, 10, -1, 1, 0, 1, 0, 1, 0, 1, 2, 0, -1, 3, 6, 9, 0, 1, -1, 0, 1, 3, 2, 3, 0, 0, -1, 0, 0, 1, 0, 1, 9, 3, 1, 10, 0, 12, 2, -1, 1, 1, 3, 10, 4, 2, 0, 1, 1, 4, 18, -1, 1, 1, 11, 4, 10, 3, 1, 3, 1, 0, 1, 0, 1, 4, 4, 3, 0, 1, 3, -1, 1, 3, 2, 1, 3, 1, 0, 1, 3, 2, 2, 0, 10, 2, 3, -1, 2, 3, 10, 0, 0, 4, 3, 1, 0, 2, 1, 10, 2, 0, 2, 1, 4, 3, 0, 3, 4, 3, 1, 2, 0, 3, 18, 0, 1, 1, -1, 10, 1, 3, 1, 1, 4, 1, 0, 3, 4, 4, 4, 2, 21, 3, 4, 1, 2, 1, 1, 0, 4, 2, 4, 10, 10, 3, 1, 3, 1, 10, 3, 2, 0, 4, 4, 2, 1, 4, 1, 1, -1, 1, -1, 3, 1, 1, 1, 1, 4, 2, 1, 1, 3, 0, 1, 0, 2, 0, 12, -1, 3, 14, 1, 3, 3, 10, 0, 7, -1, 0, 3, 0, 1, 1, 4, 4, 1, 1, 1, 3, 0, 3, 0, 0, 0, 1, 1, 10, 3, 1, 3, 17, 2, 0, 10, 1, 4, 0, 10, -1, 3, 0, 3, 3, 3, -1, 3, 1, 2, -1, 3, 0, 0, 17, 4, 2, 1, -1], \"coloraxis\": \"coloraxis\", \"size\": 3, \"symbol\": \"circle\"}, \"mode\": \"markers\", \"name\": \"\", \"scene\": \"scene\", \"showlegend\": false, \"type\": \"scatter3d\", \"x\": [-11.728947639465332, 8.366981506347656, -12.227720260620117, -12.672496795654297, 8.316015243530273, -2.409512758255005, -1.676964282989502, -1.2289867401123047, 10.789653778076172, -9.181353569030762, 9.446832656860352, 3.385096788406372, -14.367842674255371, -0.42572781443595886, 0.46278584003448486, 0.020949460566043854, 3.773617744445801, -1.3195255994796753, 2.5242741107940674, 4.604161262512207, -9.918549537658691, 12.58653450012207, 2.48872447013855, 12.744208335876465, 2.7723782062530518, -2.46736741065979, -12.36932373046875, 0.07532338798046112, 2.040733575820923, 6.680147171020508, 1.7401719093322754, 16.682830810546875, -9.798293113708496, -15.5775785446167, -10.458200454711914, 4.352076053619385, -7.368846893310547, -8.119921684265137, -3.6501424312591553, -0.379089891910553, 13.358449935913086, 10.366308212280273, 8.050228118896484, -13.430091857910156, -3.4867560863494873, -16.043752670288086, -5.513161659240723, 1.963777780532837, -6.889019966125488, 1.875516653060913, -5.92003870010376, 18.394041061401367, 11.93519401550293, -17.23419761657715, 16.392498016357422, 7.705887794494629, 12.397618293762207, 7.873077869415283, 9.998208045959473, 5.9458770751953125, -9.401850700378418, 10.918169021606445, -11.61046314239502, -13.159754753112793, -7.2472453117370605, 8.453520774841309, 3.2870655059814453, 10.876227378845215, -8.141834259033203, -9.802385330200195, -8.822369575500488, -6.873302936553955, 6.667026996612549, -9.155621528625488, -1.7615606784820557, 2.869152784347534, -3.711371898651123, 2.632978916168213, 3.713444232940674, 2.015760660171509, 8.786011695861816, 2.2091615200042725, 3.5837676525115967, 6.277712821960449, -5.504409313201904, 4.58828067779541, -5.498565196990967, 3.4144201278686523, -9.591872215270996, -8.039848327636719, 8.183177947998047, 5.581938743591309, 5.086949348449707, 3.008016347885132, 13.91329574584961, 4.331028461456299, -8.445717811584473, 3.230663537979126, 5.609377384185791, 7.2645955085754395, -7.466095924377441, 9.611139297485352, -8.27754020690918, -5.419488430023193, -6.820016860961914, 4.666440486907959, 2.846182346343994, 3.637547254562378, 0.9023798108100891, 7.140981197357178, 9.217911720275879, 3.710251569747925, -14.74657154083252, 0.4351351261138916, -4.703847408294678, 1.08533775806427, 5.311000347137451, 7.880168914794922, 14.535011291503906, 16.708642959594727, 10.681225776672363, 3.1924855709075928, 8.373392105102539, -11.201342582702637, 13.142671585083008, -10.971844673156738, -9.627006530761719, 6.469326496124268, 4.916365623474121, 10.797022819519043, 8.998093605041504, -0.8663738965988159, -9.661977767944336, -2.6734838485717773, -2.917858600616455, -5.382714748382568, 2.1801557540893555, -3.8008999824523926, 13.433492660522461, 16.481081008911133, 7.710135459899902, 14.233003616333008, -7.671353816986084, 9.383320808410645, 0.06171884760260582, -2.418041467666626, -9.743492126464844, -1.9711763858795166, -3.683077573776245, 6.085489749908447, 1.6190491914749146, -8.015350341796875, 7.968350887298584, -6.820443153381348, -12.002366065979004, 7.697906970977783, -4.048779010772705, 14.22775936126709, 5.906672954559326, -4.024726867675781, 1.0260072946548462, -8.364720344543457, 13.768749237060547, 4.312891483306885, 15.603989601135254, -6.667313575744629, -18.354045867919922, -11.889137268066406, 8.765440940856934, -10.980664253234863, 7.430294036865234, -3.7444984912872314, -3.8377573490142822, -2.7580878734588623, 13.556562423706055, -8.484580993652344, -18.463958740234375, -16.014646530151367, -9.167094230651855, -7.235286235809326, 5.6714677810668945, -5.409597396850586, 4.842621326446533, 10.955138206481934, 9.293778419494629, 5.43502950668335, 0.45487889647483826, -14.678930282592773, -0.03881222754716873, 16.442888259887695, 6.727321624755859, 4.2741899490356445, 4.704996585845947, -5.764755725860596, 9.233349800109863, -7.5032572746276855, 11.94017219543457, 7.688009738922119, 12.787686347961426, -1.1659698486328125, -11.548242568969727, -8.976861953735352, 14.948261260986328, -14.772664070129395, 3.8969225883483887, -9.8335599899292, -2.3813047409057617, -2.002161741256714, -5.990025997161865, 16.156513214111328, -3.9665355682373047, -10.86202621459961, 1.6811623573303223, -13.330894470214844, -14.579259872436523, 3.1994853019714355, -13.504283905029297, 7.758174419403076, -12.650603294372559, -0.6755087971687317, 0.6621605753898621, -5.469479084014893, -6.52136754989624, 9.695704460144043, -5.654000282287598, 0.5628580451011658, -5.363336086273193, 15.83554458618164, -0.44829457998275757, -7.825009822845459, -8.618779182434082, -11.854551315307617, 0.15182800590991974, -4.091501712799072, 17.406970977783203, 12.69516372680664, -12.203439712524414, -6.080153465270996, -6.443504333496094, 4.158927917480469, 9.554498672485352, 9.603303909301758, 13.904329299926758, 9.694536209106445, -0.11317340284585953, -15.217808723449707, -7.760559558868408, -9.489826202392578, 1.1195615530014038, -17.317089080810547, 2.972320079803467, 8.727910995483398, 9.643078804016113, -0.48843351006507874, -6.268144130706787, 11.911025047302246, -0.334340363740921, -3.821751594543457, 0.6794140338897705, -4.374728679656982, 4.343689441680908, -3.5085456371307373, 7.288571357727051, 6.203627109527588, 4.9527716636657715, -3.658068895339966, 12.179476737976074, 8.186026573181152, -9.92821216583252, -4.952366828918457, -4.333073616027832, -0.6957497000694275, -2.333717107772827, -1.8347504138946533, 0.29612869024276733, -7.686266899108887, 4.343019485473633, -14.930386543273926, -2.4381446838378906, 9.530311584472656, -3.7727291584014893, 0.77451491355896, -2.57869029045105, -11.439990997314453, -3.818463087081909, 1.1422641277313232, -15.181995391845703, -3.857077121734619, 8.90983772277832, 0.5105141997337341, -10.681699752807617, 7.449001312255859, -12.535082817077637, 0.8856775164604187, 11.873967170715332, 4.511836051940918, 1.3494261503219604, 3.9877607822418213, 0.4146023392677307, 5.917717456817627, -17.055866241455078, -2.7513375282287598, 8.555302619934082, -18.057403564453125, -6.007724761962891, -0.48312458395957947, -8.90109634399414, 0.7864347100257874, 1.3385181427001953, -14.257936477661133, -13.476744651794434, -2.1677069664001465, -2.4452686309814453, 13.633017539978027, 3.120311975479126, -7.415337085723877, 3.6029982566833496, -9.942207336425781, -5.016078948974609, 13.673739433288574, -6.924654960632324, 3.0086631774902344, 13.085530281066895, -14.645673751831055, -12.01029109954834, -2.930649518966675, 3.4437332153320312, 9.601025581359863, 7.629656791687012, 3.512462615966797, 16.960811614990234, 9.78958511352539, 7.215864658355713, 16.041181564331055, 13.106287002563477, -9.909872055053711, 0.5189701318740845, 3.59806752204895, 12.877394676208496, -1.635587215423584, -6.145590782165527, 15.322603225708008, -6.703161716461182, 4.001893043518066, -6.706867218017578, 8.927618980407715, 4.197802543640137, -8.097640991210938, 2.1002490520477295, 6.312841892242432, 12.063501358032227, -11.109366416931152, 2.8316798210144043, -9.739892959594727, -0.4920567572116852, -0.5182567834854126, 7.118373394012451, 9.290738105773926, -2.2703964710235596, -1.081455945968628, 6.3558855056762695, 6.597298622131348, 15.560208320617676, -5.969031810760498, -8.306453704833984, 8.212343215942383, 0.5714982748031616, 3.2802751064300537, -0.38946735858917236, -1.5037102699279785, 0.08848650753498077, -13.431573867797852, -14.346905708312988, 6.751018047332764, -5.544227123260498, 7.741063594818115, 0.23748590052127838, 2.827554941177368, -11.378026008605957, 3.2550952434539795, 6.708803653717041, 4.364343643188477, -17.379770278930664, -11.929336547851562, -6.913376808166504, 4.0242600440979, -10.289471626281738, 3.2152295112609863, 5.4696173667907715, -10.229613304138184, 4.859689712524414, -9.67898178100586, 6.678917407989502, -8.960864067077637, -7.295471668243408, -1.878805160522461, -2.23901104927063, 15.264769554138184, 5.311037063598633, -13.963672637939453, -4.006848335266113, -15.919045448303223, -14.24686336517334, -5.048551559448242, -6.158168792724609, 0.07740678638219833, 0.0256255641579628, 5.347044467926025, -17.565959930419922, -4.099499702453613, 3.717174530029297, 8.982604026794434, -9.539327621459961, -9.997692108154297, -5.033967018127441, 10.122518539428711, -6.587496280670166, 3.893772840499878, -0.44696348905563354, 9.337542533874512, -10.398225784301758, -5.582386016845703, 8.089101791381836, -9.581086158752441, -5.366276741027832, 2.5883140563964844, 4.3316240310668945, -9.939889907836914, 2.6410136222839355, 7.784550666809082, -8.76820182800293, -7.417941093444824, 0.5373441576957703, -2.903106689453125, -15.120368003845215, -13.64002799987793, 16.722055435180664, 0.7647213339805603, 17.341794967651367, -13.264692306518555, -11.98707103729248, 0.9448025226593018, -14.315759658813477, -8.754816055297852, 11.48961067199707, -4.724379062652588, -0.6378009915351868, -5.928661346435547, -11.971712112426758, -2.3508353233337402, -9.194239616394043, 3.305074453353882, -9.029356956481934, 4.584688186645508, 13.331670761108398, -13.450638771057129, -0.15752249956130981, 3.0557823181152344, -9.838661193847656, -2.1288957595825195, 12.748516082763672, -4.124433517456055, 9.82176685333252, -3.3331427574157715, 1.3783884048461914, 9.855550765991211, 12.966534614562988, -5.422362327575684, -0.46221551299095154, -12.661332130432129, 5.436346054077148, -4.831897735595703, -8.39814567565918, 11.89776611328125, -13.512504577636719, 17.893667221069336, -5.88332986831665, -13.897679328918457, -12.175573348999023, -1.071900486946106, -0.2762497067451477, -14.53908920288086, -15.372105598449707, 16.358829498291016, 1.4087542295455933, -11.042943000793457, -4.825921535491943, 11.16496467590332, 6.993149757385254, 2.713693141937256, 3.5085604190826416, 9.386811256408691, 7.3178324699401855, 10.680091857910156, 0.8481866121292114, -7.732911586761475, 3.731837272644043, 7.569504261016846, 3.4685299396514893, -0.3940557837486267, 8.467170715332031, -2.014112949371338, -10.962709426879883, -3.9061660766601562, 9.967466354370117, 4.853862285614014, -11.636650085449219, -9.962594032287598, -3.1023595333099365, -1.7238394021987915, -15.283824920654297, 3.7651233673095703, 5.022115230560303, -2.6351122856140137, 0.30074775218963623, -14.274043083190918, -10.882625579833984, -2.6184096336364746, -4.142755508422852, 14.921695709228516, 7.796715259552002, -10.285882949829102, -0.532000720500946, -7.620750904083252, 2.1463699340820312, 1.951803207397461, 14.023418426513672, 4.450553894042969, 8.408987045288086, 10.518584251403809, -11.559326171875, -3.476111650466919, 4.91301155090332, 15.001863479614258, 10.060041427612305, -11.015148162841797, 16.6090030670166, -5.604177474975586, -9.953116416931152, -14.352333068847656, 16.67326545715332, 0.6225550770759583, 7.374361515045166, 11.946083068847656, 1.8853490352630615, 2.54567813873291, -9.875125885009766, 5.611476898193359, 16.85951042175293, -6.747492790222168, -3.3984594345092773, 6.053985118865967, 12.650592803955078, 7.401245594024658, -10.202004432678223, 12.156506538391113, 13.913975715637207, -0.5098778009414673, 5.9887213706970215, -4.140147686004639, -13.581171035766602, 6.665215015411377, -13.98373031616211, -1.3843886852264404, 7.905002593994141, 6.2596025466918945, 13.411675453186035, 0.8047782182693481, -7.463733673095703, -11.27375316619873, 4.015077590942383, 2.6262381076812744, -0.3361072242259979, -14.98267936706543, -12.750408172607422, -1.5881115198135376, 11.877849578857422, 13.678025245666504, 8.680865287780762, 11.343683242797852, 7.284918785095215, -10.135669708251953, -6.337737083435059, -9.794872283935547, 9.449915885925293, 8.252187728881836, 15.676922798156738, -12.389025688171387, 8.934508323669434, 13.00605297088623, 2.6975648403167725, -5.440863609313965, -2.9308598041534424, -7.35215425491333, 1.627658486366272, 2.874802350997925, 6.569552898406982, 2.8277060985565186, 5.560490131378174, -5.784562110900879, -0.5998504757881165, -14.395319938659668, 4.192441940307617, 4.61299991607666, 4.651349067687988, -5.223903656005859, 3.4505789279937744, -2.18009352684021, -1.943446397781372, 11.365011215209961, 13.83283805847168, -2.793504476547241, 7.162003517150879, 7.574705123901367, -7.450877666473389, -9.8297119140625, -14.467670440673828, -13.608283042907715, 7.797381401062012, -17.46056365966797, -1.2435929775238037, 10.807269096374512, 5.241702079772949, 11.564208984375, -13.883103370666504, 7.370665073394775, 18.55464744567871, -9.004175186157227, 7.600066184997559, -7.354438304901123, 12.218348503112793, -12.620713233947754, 7.266821384429932, 1.1751255989074707, 6.786592483520508, 5.532252311706543, 14.247944831848145, 4.430508136749268, -5.496048927307129, -6.381296157836914, 9.225062370300293, -5.88612699508667, -11.971327781677246, 14.861966133117676, -13.651189804077148, 5.033827781677246, 15.737191200256348, -9.518840789794922, 16.771320343017578, 3.23095965385437, 13.701690673828125, -17.992095947265625, 15.138632774353027, 7.897003650665283, -4.026834487915039, -9.479342460632324, 3.16784405708313, -9.601191520690918, 3.103588819503784, 7.479739665985107, -14.520191192626953, -14.898147583007812, 0.7129642367362976, -4.7921671867370605, -7.895025730133057, 8.42558765411377, -4.711802005767822, 1.1981014013290405, -9.149667739868164, -13.780278205871582, -12.461965560913086, -6.461269378662109, 9.882583618164062, 6.8114824295043945, 6.396517276763916, -3.5665860176086426, 2.1308252811431885, 4.0630059242248535, 9.266342163085938, -0.9564339518547058, -3.2437210083007812, 0.30805549025535583, 0.014599347487092018, 0.8208939433097839, -15.230769157409668, 10.691564559936523, 1.395517349243164, -8.421019554138184, -10.587725639343262, 4.548544883728027, 13.682655334472656, 9.612095832824707, 4.684445858001709, 5.666833877563477, -1.5178807973861694, 11.427196502685547, 9.734052658081055, -9.301182746887207, -8.43765926361084, -14.638837814331055, -2.0364882946014404, 8.993106842041016, -8.428411483764648, -11.642510414123535, 1.6573004722595215, 7.89476203918457, 1.9700757265090942, -4.550614833831787, 14.712725639343262, -9.820775032043457, 2.7310562133789062, -12.718423843383789, 3.4049549102783203, -12.261371612548828, 7.207781791687012, 3.0189406871795654, 4.6433539390563965, 4.866041660308838, -6.986904144287109, 2.6620802879333496, -15.549875259399414, -5.31055212020874, 2.1196787357330322, -9.485893249511719, -13.390875816345215, -4.676482200622559, 1.5360344648361206, 13.428110122680664, 2.149428606033325, -9.399292945861816, 0.24206455051898956, -16.31801986694336, -3.617673635482788, -5.076229572296143, 2.492866277694702, -5.259073257446289, 3.1552681922912598, 2.9097774028778076, 9.08777141571045, -11.424095153808594, -9.913836479187012, -0.3955549895763397, 5.4545817375183105, -9.459013938903809, -16.32378578186035, -7.581279754638672, 11.331993103027344, 4.666094779968262, 2.3000476360321045, 2.4779627323150635, 12.466707229614258, -3.1826889514923096, 13.226218223571777, -1.689205288887024, -7.214620590209961, 0.27944907546043396, 7.711434364318848, 12.696150779724121, 5.079199314117432, 4.810460090637207, -4.69998025894165, -2.2716543674468994, 4.59142541885376, 5.874921798706055, -4.330449104309082, -5.448191165924072, 4.648650169372559, -0.8348299264907837, 10.670607566833496, -13.758613586425781, 5.009994029998779, 14.229422569274902, 8.509984970092773, -3.1459052562713623, -2.19804310798645, -6.013917922973633, 7.26841926574707, 12.210697174072266, 2.322890281677246, 1.4369512796401978, 13.097829818725586, -10.833403587341309, 6.873972415924072, 8.412161827087402, 0.7230769991874695, 10.920509338378906, 3.250580072402954, -11.717386245727539, -14.61008358001709, -12.988600730895996, 5.418019771575928, -3.9520633220672607, 15.369016647338867, -1.6289398670196533, -9.938541412353516, -11.139697074890137, -9.911006927490234, 0.9027279615402222, 3.466628074645996, -17.28865623474121, 8.964631080627441, -5.611563682556152, 6.61530876159668, -10.177064895629883, -2.897510051727295, -8.319141387939453, -6.927158355712891, 3.0236847400665283, 3.7955639362335205, 14.898279190063477, 0.6635156869888306, -1.4066063165664673, -10.107870101928711, -6.847320079803467, 15.589956283569336, -8.067584991455078, -12.523343086242676, -14.918795585632324, 1.9335486888885498, 3.2226693630218506, -11.564813613891602, 0.3697930574417114, -1.1692255735397339, -1.9356367588043213, 17.802215576171875, 6.246983528137207, -0.005692260805517435, 3.1462175846099854, -12.59109878540039, -0.7393655180931091, 4.17338228225708, 3.225848913192749, -9.660989761352539, 7.451042175292969, -1.6897177696228027, -0.6348770260810852, 4.34991979598999, -8.909127235412598, -6.497501850128174, -9.666852951049805, 6.1038665771484375, -0.40097275376319885, 7.083482265472412, -10.775339126586914, -8.760017395019531, -6.598758697509766, 2.3202497959136963, 9.088560104370117, -6.539501190185547, -0.9792667031288147, -15.089652061462402, -0.32074227929115295, -8.42158031463623, 4.168183326721191, 1.7511872053146362, 9.209052085876465, 8.58209228515625, 7.9182305335998535, -2.895109176635742, 3.3593368530273438, -17.186288833618164, 15.653361320495605, -8.805038452148438, -13.931699752807617, -3.6120948791503906, -5.42637825012207, 2.495147466659546, -9.890148162841797, -6.044046878814697, -12.581778526306152, 1.419340968132019, 7.302684783935547, 10.86646842956543, -1.9301050901412964, 1.5649378299713135, 13.651328086853027, 5.0156402587890625, 16.682180404663086, 4.747364521026611, 0.49042052030563354, -11.601889610290527, 12.579395294189453, -2.3991751670837402, 8.503678321838379, -8.408382415771484, -12.841813087463379, 11.138246536254883, 3.7579970359802246, -1.18375825881958, 1.1806187629699707, 12.317469596862793, 7.043250560760498, -9.166006088256836, 3.9390575885772705, -10.124773025512695, -10.066277503967285, 8.301431655883789, -3.703118324279785, 6.567099094390869, -2.0127906799316406, 11.8666353225708, 10.868802070617676, 12.941400527954102, 2.7263190746307373, 13.758066177368164, 2.4001307487487793, 5.347705364227295, 8.381245613098145, -2.452976942062378, 6.350674152374268, -14.989480972290039, 5.81098747253418, 3.30747652053833, -11.15845012664795, -10.215677261352539, -10.989899635314941, 1.266877293586731, 3.0110154151916504, -9.631011009216309, -1.0099948644638062, -11.046438217163086, -3.080155372619629, -6.720534801483154, -18.375822067260742, -4.905813694000244, -11.534963607788086, -1.2893060445785522, 16.58737564086914, 18.094324111938477, 3.137484073638916, -0.5737634897232056, 6.718516826629639, -10.510537147521973, 3.558748722076416, -4.307201385498047, 10.420265197753906, -8.150909423828125, -11.334003448486328, -14.970926284790039, 7.049256324768066, -11.31890869140625, 4.806595325469971, -15.087447166442871, -5.054708957672119, -5.260095119476318, 7.909079074859619, -4.748741149902344, -12.766966819763184, 9.442305564880371, 4.499553203582764, 1.3766283988952637, 7.100234508514404, 0.9368013739585876, -13.446758270263672, -7.3025712966918945, 13.452401161193848, -4.16202449798584, 0.7925981283187866, 11.961494445800781, 3.2813777923583984, -1.0519424676895142, 1.643980622291565, -0.18127667903900146, 8.19953441619873, 9.597593307495117, -13.925039291381836, 1.4448692798614502, 0.4572485685348511, 11.961877822875977, 6.422947406768799, 4.144199848175049, -5.8056721687316895, -14.639974594116211, -7.75945520401001, 6.0137619972229, 5.841518878936768, -15.018791198730469, 4.861262798309326, 0.5993134379386902, -10.10196590423584, 13.279356002807617, -7.853517532348633, 1.9626163244247437, 2.471723794937134, -2.976048231124878, 2.6259031295776367, 15.57141399383545, 3.892672538757324, -7.790401935577393, 13.565217018127441, -1.0111783742904663, -10.147515296936035, 8.261065483093262, -2.7925209999084473, 5.8245344161987305, 10.323787689208984, -7.001961708068848, 0.6077250838279724, 10.429925918579102, -1.3195561170578003, 2.8167264461517334, -8.695023536682129, -9.1636323928833, -7.6836347579956055, -19.891462326049805, -18.224018096923828, 8.55637264251709, -11.27620792388916, 10.597111701965332, 9.81554126739502, 7.614434719085693, 14.175032615661621, 9.13230037689209, -15.438722610473633, 11.860278129577637, -7.74832820892334, 4.335787296295166, 1.3177236318588257, -11.44436264038086, -6.287457466125488, -0.89284348487854, -7.434677600860596, 11.989824295043945, 10.098313331604004, -1.1545618772506714, 2.7463290691375732, 13.977496147155762, -15.277162551879883, -13.090877532958984, -2.09332013130188, -3.645202159881592, 1.5068644285202026, 9.49442195892334, -13.167841911315918, 0.6610719561576843, -11.402215957641602, -2.8646786212921143, -6.699891090393066, -2.502436637878418, -0.20464064180850983, 1.8592383861541748, -0.7152069807052612, 1.4699310064315796, -3.0096402168273926, 7.661120891571045, -2.455120325088501, 3.3178865909576416, 9.695013999938965, 0.3018954396247864, 9.841758728027344, -7.594114303588867, 16.226186752319336, -13.609946250915527, -9.600017547607422, -5.999433994293213, 0.7541717290878296, -11.214071273803711, -0.9867492914199829, 7.663420677185059, 2.113062620162964, -8.848015785217285, 8.951557159423828, 0.5793750286102295, 11.044415473937988, 6.953583717346191, 1.1375787258148193, -6.063724040985107, -13.196474075317383, 13.779857635498047, 6.631634712219238, 3.289644241333008, 9.287631034851074, -15.100306510925293, 15.416985511779785, 7.43712854385376, 15.66666316986084, -0.27729332447052, 0.5997837781906128, -11.224222183227539, -3.4607083797454834, 17.355756759643555, -5.296238899230957, 5.943914413452148, 3.7616279125213623, 13.07148265838623, -9.113722801208496, -5.795228481292725, -8.765578269958496, -0.8467360138893127, -17.50735092163086, -10.874859809875488, -11.922062873840332, 9.102243423461914, -8.351908683776855, -7.638050079345703, -8.272603034973145, -5.280455112457275, 7.907498836517334, 0.43412065505981445, 12.239264488220215, -3.1945793628692627, 1.5370577573776245, 1.3494127988815308, 1.6837760210037231, -3.9401097297668457, -7.742128849029541, 12.352925300598145, -0.32122910022735596, 3.190758228302002, -9.007122993469238, -8.259668350219727, 1.055788278579712, 6.622300624847412, 8.288572311401367, -10.537240982055664, 2.90130877494812, -7.101059913635254, -19.10702896118164, 8.508743286132812, -1.1485873460769653, 4.117403507232666, 0.6845208406448364, -1.4630591869354248, 9.678872108459473, 4.535959243774414, 11.016655921936035, -3.1760804653167725, 15.922054290771484, 6.911888599395752, 4.50092077255249, -6.419611930847168, -1.9866726398468018, 3.253230333328247, -8.223821640014648, -0.6657274961471558, -4.8594841957092285, 4.757112503051758, -16.018463134765625, 13.198579788208008, 2.780223846435547, 7.954344272613525, -4.606796741485596, -14.658534049987793, -7.711546421051025, -9.459151268005371, 0.8429346680641174, -5.599977970123291, -8.147700309753418, -11.944145202636719, 3.024793863296509, -9.296738624572754, -13.865119934082031, 0.7161749005317688, 16.21784210205078, -13.226935386657715, 7.428178787231445, 4.564839839935303, 3.220482110977173, 2.6451468467712402, 9.28287410736084, 13.291963577270508, 7.857466220855713, 10.267406463623047, 1.1785173416137695, 5.508933067321777, 15.450114250183105, -12.911685943603516, 2.971116781234741, -14.863637924194336, 7.311154842376709, -1.4558014869689941, 8.41899585723877, 9.539907455444336, -10.728290557861328, 5.093173503875732, -8.655601501464844, -1.2263704538345337, -13.442967414855957, -8.631170272827148, -8.964102745056152, -0.25434643030166626, -12.829360961914062, 10.357983589172363, 2.50313138961792, 3.5544986724853516, -11.991169929504395, -2.21818208694458, 16.903030395507812, 2.976266860961914, -13.328235626220703, -7.482043266296387, 5.888443470001221, 4.55269193649292, 7.763361930847168, -9.22625732421875, 13.168240547180176, -0.5011242032051086, 13.665764808654785, -18.106477737426758, 0.6517526507377625, -3.275052785873413, 1.4279829263687134, 11.643135070800781, -5.542874336242676, -8.43013858795166, 5.771568775177002, -8.837718963623047, 4.086604118347168, 16.09395980834961, 9.49803638458252, -1.6758179664611816, 16.84694480895996, -5.299069881439209, -5.521236419677734, -7.815935134887695, -13.052406311035156, 7.988184452056885, 6.163647174835205, -1.4672750234603882, 1.607258915901184, 13.011467933654785, 13.934835433959961, 1.0794728994369507, -14.855422019958496, 6.086818695068359, 9.872705459594727, -13.440942764282227, 6.104636192321777, 3.3527560234069824, 8.614434242248535, 6.4797773361206055, -14.158401489257812, 6.77325439453125, -0.528609573841095, -6.577270030975342, 6.064137935638428, -3.477799654006958, 2.978001356124878, 7.628167152404785, -12.094618797302246, 3.8624351024627686, 8.987510681152344, 15.080368995666504, -11.549263000488281, -2.907019853591919, 10.76276683807373, -7.498828411102295, 3.4773776531219482, -2.8734710216522217, 8.21306324005127, -8.889656066894531, -3.1600656509399414, 7.419623851776123, -6.519572734832764, -14.996967315673828, -0.7439395785331726, 3.706402540206909, 8.941575050354004, -6.123715877532959, -12.012260437011719, 0.6533241868019104, 7.8316473960876465, -14.347940444946289, 1.9518729448318481, -2.198620557785034, -10.753776550292969, 7.433378219604492, 11.892004013061523, -6.624085426330566, -9.90407657623291, -7.943244457244873, 7.667327880859375, -13.878998756408691, 7.310784339904785, -9.119614601135254, -1.691798448562622, 5.032736778259277, 3.527892827987671, -4.926578044891357, 1.3048399686813354, -10.545270919799805, -8.344527244567871, 9.242592811584473, 0.8339576721191406, -13.330351829528809, 8.667448043823242, 4.383030891418457, -6.345865249633789, -10.442429542541504, -0.45895376801490784, 8.365728378295898, 9.171111106872559, 7.100563049316406, 2.987809419631958, -12.73907470703125, 3.1197428703308105, 8.905763626098633, 1.3686705827713013, 5.669147968292236, 2.611435890197754, 3.603750467300415, 4.842614650726318, -7.026083469390869, 2.6506400108337402, 5.884028434753418, 8.726380348205566, 12.737312316894531, 7.292163372039795, 7.828914642333984, -8.025689125061035, -0.7972909212112427, 11.869291305541992, -7.192140102386475, 9.549620628356934, -4.3303351402282715, -10.560956001281738, -5.814542293548584, 1.7765233516693115, 7.429841041564941, -7.310047626495361, 10.22593879699707, 4.754758834838867, 3.733466625213623, -8.121688842773438, 8.693861961364746, 10.145539283752441, -8.700425148010254, -11.925772666931152, 5.611513137817383, 4.666130065917969, 11.781274795532227, -0.3231911063194275, 2.8081517219543457, 16.32240867614746, 4.014894962310791, -16.05580711364746, -7.4123053550720215, -14.663496017456055, 13.121309280395508, -0.8425527811050415, -0.42949196696281433, 9.375826835632324, -10.555497169494629, 10.713994026184082, 11.895646095275879, -12.703072547912598, -6.3130903244018555, -7.5225830078125, 13.509284973144531, 0.38982921838760376, -9.027312278747559, -0.07534714043140411, -12.95642375946045, 8.26050853729248, -9.834965705871582, 15.230799674987793, -13.5387544631958, 3.5732462406158447, -4.088029384613037, -1.4058068990707397, -7.493327617645264, -10.40831470489502, 11.152863502502441, -6.4605207443237305, 11.764511108398438, 5.679991722106934, 12.12317943572998, -0.38055697083473206, 0.29165270924568176, -12.005254745483398, -10.04333209991455, -10.206663131713867, -7.00603723526001, 7.146564483642578, 0.8801367878913879, 4.3195695877075195, 4.207154750823975, -0.7426530122756958, 13.779099464416504, 3.999333620071411, -3.7630138397216797, 14.548742294311523, -13.708765983581543, 3.706188440322876, -0.3033018708229065, -1.666919231414795, 17.788345336914062, -15.006413459777832, -9.000811576843262, 1.7104600667953491, 3.807321786880493, 8.7676362991333, 5.287952899932861, 1.6752039194107056, -9.2266845703125, 3.9943759441375732, 16.127790451049805, 0.49356967210769653, -3.8137173652648926, 8.071127891540527, 1.9785571098327637, -9.462919235229492, -8.980422019958496, -8.194393157958984, 15.035465240478516, 13.828658103942871, -6.333098888397217, 10.489811897277832, 0.12859979271888733, -7.580127716064453, 9.926553726196289, 2.9481303691864014, 5.324935436248779, 5.394632816314697, -1.8100229501724243, -4.6628618240356445, -5.396681785583496, -0.2890949249267578, -4.221271991729736, -5.311704635620117, 5.213204383850098, -1.1836836338043213, 4.911184310913086, 9.159400939941406, -3.5861928462982178, -6.425802230834961, -7.550780773162842, -12.633478164672852, 10.867975234985352, -17.858407974243164, 0.4474964439868927, -14.640472412109375, -12.388466835021973, 10.013934135437012, 6.007234573364258, 16.6178035736084, -1.4471147060394287, -6.486155033111572, -9.795791625976562, -13.192112922668457, 4.658599853515625, 2.921609878540039, 17.532991409301758, -4.524572849273682, -13.645715713500977, 1.6547269821166992, 1.7641301155090332, 13.45804214477539, 9.839381217956543, -7.628686428070068, -13.829819679260254, 6.803108215332031, 8.920110702514648, -4.027538776397705, 0.679017186164856, 5.019353866577148, 6.140259265899658, -8.934905052185059, 8.609189987182617, 5.606626033782959, 3.4652950763702393, -9.9440336227417, -6.018732070922852, 11.320115089416504, 6.403494834899902, -12.671377182006836, 4.315272331237793, -7.24308967590332, 2.467306137084961, -8.897972106933594, -15.548432350158691, 1.638798475265503, -7.327023506164551, 11.833954811096191, 7.256790637969971, -8.951455116271973, -11.34743595123291, 5.30905294418335, -15.979996681213379, -10.827043533325195, -10.82090950012207, 7.149303913116455, 17.274072647094727, 7.896600246429443, 7.9356465339660645, -11.533297538757324, -13.148824691772461, -9.744526863098145, 4.885595321655273, -15.909585952758789, -3.561415672302246, -10.356752395629883, 7.204399108886719, -8.980375289916992, 4.299657821655273, -11.322091102600098, -9.740463256835938, -15.232467651367188, -3.2530057430267334, -10.174651145935059, 5.05344295501709, -8.807655334472656, 4.936523914337158, 0.7885761857032776, 5.78523588180542, -1.463464617729187, 9.139777183532715, 5.215132236480713, 8.638618469238281, 5.002551078796387, 5.8865227699279785, 5.743316650390625, 5.315235614776611, 5.49268913269043, 1.8427497148513794, 7.077128887176514, 8.591975212097168, 7.56890869140625, -5.460593223571777, 8.138029098510742, -18.99038314819336, -0.502543568611145, -1.237617015838623, 6.503640651702881, 6.0800042152404785, -3.718846559524536, -11.068601608276367, -1.6814839839935303, -4.416447639465332, 0.7124788165092468, -9.553107261657715, 5.502664566040039, 6.711517333984375, 4.786871910095215, 13.438156127929688, 0.2395915538072586, -12.045392990112305, -9.287379264831543, 11.901851654052734, 6.3094635009765625, -15.082730293273926, -9.43752670288086, 3.0713188648223877, 6.368906497955322, -8.887743949890137, -2.843498468399048, -11.964879989624023, 0.5507973432540894, -10.699197769165039, -12.923541069030762, -11.53604507446289, -13.660478591918945, 10.05387020111084, 8.657026290893555, 10.65858268737793, -6.710254669189453, -12.259727478027344, 14.76789379119873, 1.735572099685669, 4.875524997711182, -5.589639186859131, 11.310522079467773, 1.9666087627410889, 10.532452583312988, -0.8479887843132019, -15.044753074645996, 4.080658435821533, -8.427414894104004, 4.150803089141846, -0.412223756313324, -0.569647490978241, -11.888684272766113, -5.5756516456604, 12.565231323242188, 1.1067911386489868, 8.459029197692871, -12.262280464172363, 11.434800148010254, 0.2759076952934265, 17.36266326904297, 8.191694259643555, -5.105370998382568, -13.702425956726074, -9.548033714294434, -13.068169593811035, -7.800427436828613, 2.842454671859741, 9.284253120422363, -0.36706069111824036, -0.9942852258682251, 8.662782669067383, -10.701190948486328, 2.098468542098999, -8.1690673828125, -8.93187141418457, 5.277092456817627, 2.7566978931427, 4.582272529602051, -11.287050247192383, -0.5687077045440674, 0.6326144337654114, 0.40747275948524475, 0.40493589639663696, -10.121482849121094, -1.0708470344543457, 4.823583126068115, -3.1080989837646484, 11.518396377563477, 4.050055027008057, 1.5134379863739014, 9.194299697875977, -7.116017818450928, 2.522648334503174, 8.339937210083008, 4.0864996910095215, -1.5962296724319458, 2.701345682144165, -8.523235321044922, -5.382076740264893, -14.811397552490234, -9.403175354003906, 2.3727993965148926, 5.491939067840576, 16.407466888427734, 0.6014583706855774, 4.7526350021362305, -3.325063467025757, -9.502666473388672, 9.731395721435547, 10.062792778015137, -1.9314303398132324, 12.522085189819336, 2.3461782932281494, -4.272949695587158, -9.526397705078125, -9.834972381591797, -0.3076991140842438, -13.948040962219238, 3.290065050125122, -13.863958358764648, 7.268802642822266, 10.492088317871094, -12.80264663696289, -1.835368275642395, 5.473178386688232, 4.322728157043457, 14.16261100769043, -2.6759350299835205, 3.3133385181427, 6.636516094207764, -1.657619595527649, -12.57773494720459, -0.8887003064155579, 1.5479390621185303, -1.5927563905715942, 4.120668888092041, 7.123406410217285, -11.142539024353027, -10.908317565917969, -11.715975761413574, -12.64404010772705, -11.262462615966797, -9.75443172454834, -11.703385353088379, -9.65799331665039, 7.748328685760498, 4.605132579803467, -1.8152148723602295, 4.423229217529297, -2.6057732105255127, 4.047824859619141, -2.311452627182007, 0.959989607334137, 11.270450592041016, 4.527267932891846, -13.034928321838379, -4.040672779083252, -5.928244590759277, 1.0402798652648926, 0.2103768140077591, 9.482037544250488, -6.184900760650635, 7.252163410186768, 8.815062522888184, 6.387563705444336, -13.962729454040527, 4.572376728057861, -15.033466339111328, 17.067995071411133, 7.411459445953369, -3.6023247241973877, 7.264772415161133, -14.64591121673584, -7.380666732788086, 5.135286331176758, -1.3715473413467407, 0.6146403551101685, 10.459171295166016, 7.506916522979736, 4.502739429473877, -0.787480354309082, -15.162949562072754, -13.000999450683594, 1.6903343200683594, 11.352137565612793, 2.229379892349243, -7.015265464782715, 1.5517305135726929, 3.7764835357666016, 14.815102577209473, 5.687179088592529, 0.18263836205005646, 1.1687614917755127, 6.524721145629883, -14.726840019226074, 10.722439765930176, -12.048639297485352, 16.70476531982422, 1.1149659156799316, 4.6403632164001465, -15.980010986328125, 2.3167595863342285, -13.473851203918457, 0.4181141257286072, -0.16209647059440613, -3.7406647205352783, -3.8834033012390137, 7.584166526794434, 7.603080749511719, -12.835104942321777, 3.1414198875427246, 0.07124064862728119, 6.646299839019775, 6.164002418518066, 13.052694320678711, -11.96094036102295, -2.324206590652466, 6.253849506378174, 14.445355415344238, 0.9663976430892944, 17.194997787475586, -10.125064849853516, 3.291687250137329, 10.9278564453125, 6.941605567932129, 2.2720751762390137, 6.0148396492004395, -0.5054994225502014, -6.066743850708008, -2.735055446624756, 4.6201701164245605, 6.132590293884277, 3.1629085540771484, -3.557135820388794, -6.638955116271973, 3.5782768726348877, 13.396607398986816, 3.6087985038757324, 2.345076322555542, -16.745773315429688, 2.2608113288879395, 7.780584812164307, 2.457914352416992, 2.018261671066284, -5.864341735839844, -3.7579233646392822, 4.166463851928711, 13.40134048461914, -7.069639682769775, 9.515826225280762, -4.8535380363464355, -10.713333129882812, 6.5573577880859375, 7.859441757202148, -6.880120754241943, 15.947029113769531, 1.781925916671753, 1.7260444164276123, -3.180546760559082, 2.1111583709716797, 7.543637752532959, 5.839498996734619, 2.8386764526367188, 6.808450222015381, 2.052661895751953, 10.861076354980469, -16.654048919677734, 9.577850341796875, 13.843503952026367, 0.9097257256507874, 4.994167804718018, 7.6830596923828125, 3.3785011768341064, 9.941635131835938, 9.310135841369629, 3.7039501667022705, 13.775317192077637, -8.24051570892334, -3.0781071186065674, 3.857790946960449, 3.6275010108947754, -17.561519622802734, 3.3361761569976807, -0.9178076386451721, 3.579594850540161, -2.6052095890045166, 2.3595542907714844, -1.3894628286361694, 3.3176541328430176, 2.6258466243743896, 5.046767711639404, 9.338839530944824, -9.929012298583984, -1.2884775400161743, -2.062641143798828, -8.174052238464355, -9.315936088562012, -13.815533638000488, 4.508847236633301, 5.68612813949585, -8.550525665283203, -12.603302955627441, -3.6355340480804443, -0.016506120562553406, -14.18134593963623, -4.242415428161621, -15.128854751586914, 1.3811063766479492, 8.217517852783203, 0.6536963582038879, 1.61921226978302, -5.22058629989624, 5.9558186531066895, -10.064237594604492, -9.143082618713379, 0.9871933460235596, -0.376886248588562, -10.6050386428833, -9.85659408569336, -9.704380989074707, 0.43168672919273376, 9.538923263549805, -9.188040733337402, 5.426855087280273, -13.193068504333496, 4.453943729400635, 3.4503276348114014, -13.061254501342773, -1.77251398563385, 2.008963108062744, 3.9772768020629883, 5.367825984954834, 16.056224822998047, -9.266338348388672, -10.271544456481934, 5.987582683563232, -9.081719398498535, -9.172440528869629, 0.15704528987407684, 3.5970141887664795, -12.598401069641113, -7.700859069824219, 10.443926811218262, 12.874588012695312, -8.677505493164062, -11.15900707244873, -12.559724807739258, 0.11523965001106262, 7.384581565856934, 8.748144149780273, 10.645000457763672, -11.937786102294922, 3.953127384185791, -14.285710334777832, 9.987329483032227, -2.911940813064575, -8.024670600891113, 14.86726188659668, 8.671042442321777, -5.566244125366211, 4.31682825088501, -9.622960090637207, 13.907051086425781, -11.32638168334961, 13.632990837097168, -2.596172332763672, 7.417273998260498, -10.51114273071289, 8.745414733886719, -7.811964511871338, -12.328707695007324, 2.666402816772461, -11.881451606750488, -1.3369063138961792, 11.434274673461914, 14.5698881149292, -6.268507480621338, 11.388664245605469, 14.347761154174805, 7.344883441925049, -8.448160171508789, -8.689894676208496, 1.6061757802963257, -18.7255802154541, -17.916385650634766, 2.9296319484710693, 4.288127899169922, -8.231310844421387, 4.382259845733643, 3.213831901550293, -2.6037163734436035, -9.904145240783691, 0.7368043065071106, 2.805088520050049, 7.195095539093018, -9.20857048034668, 4.755809307098389, -10.833049774169922, -11.975540161132812, 9.365367889404297, -2.3329737186431885, 0.6500259041786194, -10.206055641174316, -1.4130091667175293, -1.1827043294906616, -7.949235916137695, -2.946688652038574, 10.525009155273438, 6.29688835144043, 14.26229476928711, 5.889548301696777, 4.001945495605469, -12.876301765441895, -12.316154479980469, 9.600167274475098, -9.906106948852539, 14.887176513671875, 0.4823093116283417, 2.861848831176758, -1.403796672821045, 11.483071327209473, 17.168825149536133, 9.595020294189453, 0.24370165169239044, 10.626521110534668, 1.87326979637146, 9.74710750579834, -8.26069450378418, 0.42938101291656494, 13.048541069030762, 5.143216133117676, -0.4603901207447052, -9.812742233276367, -9.053243637084961, -7.07559061050415, 16.160072326660156, 9.325119972229004, -6.864093780517578, 3.46022367477417, 2.431041717529297, -12.422955513000488, -5.555365085601807, -2.9376659393310547, 17.01261329650879, 5.923802375793457, 4.582848072052002, 15.09708309173584, 7.577157974243164, 4.2584147453308105, 7.846484661102295, -5.664582252502441, 4.027224063873291, -4.895383358001709, 15.204501152038574, -8.62681770324707, 5.192482948303223, 3.937887191772461, 10.55528450012207, 3.508681535720825, 2.8653597831726074, -12.313695907592773, 13.017282485961914, -8.946011543273926, 8.83426284790039, 16.188217163085938, 6.089414119720459, -1.081989049911499, 7.331669330596924, -0.39086365699768066, -12.375515937805176, 14.513849258422852, 0.113715261220932, -8.495593070983887, 5.9685516357421875, 0.3644072711467743, -16.53358268737793, 2.8894073963165283, 7.48327112197876, -8.764803886413574, 1.1298106908798218, 5.767827987670898, 1.249455451965332, -18.340662002563477, 15.572160720825195, 7.105710506439209, -11.720722198486328, 3.1634867191314697, -1.4797123670578003, 7.531182289123535, -4.356783866882324, -6.764271259307861, 2.8876309394836426, 2.654224395751953, 10.766265869140625, 6.5054240226745605, -4.473985195159912, 4.318460464477539, -12.666619300842285, 8.662718772888184, -10.049668312072754, 1.2044748067855835, 11.301948547363281, -1.1624712944030762, -1.027701735496521, -17.614900588989258, 16.45552635192871, -4.649202346801758, 16.965055465698242, -8.587028503417969, 3.6519343852996826, -0.9379323124885559, -10.373723030090332, -0.616362452507019, 16.55784034729004, 10.001230239868164, 9.806626319885254, 8.703837394714355, -0.06441078335046768, -8.259007453918457, 5.236841678619385, -8.100764274597168, -0.42335280776023865, -4.992206573486328, -0.5488829612731934, -7.799905300140381, 9.295933723449707, 9.96285343170166, -11.676889419555664, -9.977070808410645, 4.415343761444092, -5.046361446380615, 10.609759330749512, -0.051205407828092575, 0.06729425489902496, 6.209782600402832, 8.18588638305664, -2.0389456748962402, -12.044312477111816, 7.397362232208252, 11.417243003845215, 5.739667892456055, 8.506523132324219, -1.5158631801605225, 4.561911582946777, -8.534653663635254, -5.49983549118042, 1.8853000402450562, -9.602408409118652, 5.488699913024902, -14.059484481811523, 4.052707672119141, 3.1308481693267822, 7.862477779388428, -12.017571449279785, 7.869694232940674, -9.724706649780273, 17.92862892150879, 0.9226634502410889, 18.240144729614258, -8.83090591430664, -6.873587131500244, 2.2363712787628174, 0.17190051078796387, -0.5899569392204285, -5.5087761878967285, 7.500051021575928, 7.262648105621338, -17.71183204650879, 7.193227767944336, 0.7088850736618042, 9.671660423278809, 9.65365219116211, -0.3370295464992523, 6.112307071685791, -12.447921752929688, -13.916543960571289, -10.943401336669922, 7.596444606781006, 5.4931864738464355, 4.521633625030518, 17.269317626953125, 8.425917625427246, -3.7881886959075928, -8.273167610168457, -0.21363656222820282, 12.84114933013916, -3.5714309215545654, 4.247315883636475, 4.045797824859619, 9.222208976745605, -4.664015769958496, 4.868701934814453, 9.559796333312988, -0.22653117775917053, -8.435242652893066, 4.314016819000244, 2.417353391647339, 0.1856703758239746, 7.628480434417725, 11.936661720275879, -12.812237739562988, -8.41411018371582, 6.286628246307373, 6.02847146987915, -13.798999786376953, 4.883478164672852, 4.197185039520264, 15.124200820922852, -13.259733200073242, 5.253936290740967, -6.505461692810059, 6.689635753631592, -4.8191704750061035, -11.048254013061523, 14.7883882522583, 0.856356143951416, -7.4650397300720215, -3.0683937072753906, -12.987236022949219, 9.148194313049316, -4.930484294891357, 8.363032341003418, 1.2900162935256958, -7.82406759262085, 9.36071491241455, 1.8059654235839844, 6.758518695831299, -9.630515098571777, 2.8735642433166504, -0.6678557395935059, 11.84313678741455, 8.504277229309082, -1.7139972448349, 0.42873847484588623, 7.484865665435791, -12.302180290222168, 1.70070481300354, 0.13518716394901276, 3.772329092025757, 5.4421467781066895, 14.49824333190918, -3.8493120670318604, 1.9657365083694458, -0.5371474623680115, -11.476516723632812, -3.003955125808716, 9.811385154724121, -10.133316993713379, 13.146343231201172, -7.471221446990967, -9.765281677246094, 3.128171920776367, -11.710244178771973, 14.66675853729248, -17.501800537109375, 5.431972980499268, -13.477705001831055, 3.3400352001190186, -11.728938102722168, -1.4795564413070679, -2.715371608734131, 0.4610973596572876, -5.2883501052856445, 0.43855640292167664, 10.618170738220215, 16.660137176513672, 0.9969403743743896, 4.7334675788879395, 6.999731063842773, 6.675495624542236, -5.373176574707031, 1.7737483978271484, 1.4358142614364624, -0.20010200142860413, -13.327628135681152, -3.7084250450134277, 1.5392779111862183, 6.791625499725342, -7.21956205368042, 10.846734046936035, 15.591679573059082, -14.991394996643066, -15.251680374145508, -12.757655143737793, 6.313022136688232, -15.115761756896973, 6.351292133331299, -3.7284481525421143, -11.925962448120117, -12.156414031982422, 4.394051551818848, -12.785902976989746, 6.709367275238037, -1.7710745334625244, 7.477238655090332, -5.790201663970947, -8.744538307189941, 2.106539726257324, -6.117074012756348, 5.856720924377441, -5.827688217163086, -9.828947067260742, -12.168174743652344, -7.581280708312988, 2.3990402221679688, 6.6671061515808105, 3.3034801483154297, 17.543001174926758, -5.985340118408203, 4.070490837097168, -8.915572166442871, 10.522624969482422, -5.551161289215088, -13.307097434997559, -4.083194255828857, 1.351300835609436, 8.37780475616455, -5.405029773712158, -2.828329563140869, 7.257267475128174, 7.351637840270996, 5.443718910217285, 12.3779935836792, 18.235830307006836, 11.310823440551758, -15.103423118591309, -11.76696491241455, -8.710603713989258, 10.349629402160645, -1.3896269798278809, 17.229228973388672, -0.45943683385849, -5.5793328285217285, 6.93739128112793, 13.466276168823242, -8.038951873779297, 13.517823219299316, -14.67276382446289, -1.8559867143630981, -11.052042007446289, 6.466446399688721, -14.506389617919922, 4.197206020355225, -4.370269298553467, -16.01936912536621, 3.456768751144409, 10.506474494934082, 13.525015830993652, -11.569063186645508, 9.121320724487305, -5.698119163513184, -12.057519912719727, -9.319440841674805, -0.2612246572971344, 18.286916732788086, -0.5235148072242737, 9.495529174804688, 11.582881927490234, -3.7250983715057373, 4.8472771644592285, 0.44327399134635925, 10.352806091308594, 8.802413940429688, -10.68541145324707, -13.691946983337402, -13.032865524291992, -9.727645874023438, -0.15164853632450104, -12.822335243225098, 2.9921483993530273, -5.395066261291504, 5.1836838722229, 3.083482265472412, 4.339820861816406, 1.939399242401123, 16.754053115844727, -1.298645257949829, -2.1634979248046875, 2.1583821773529053, 5.5429840087890625, 6.344178676605225, 10.8363618850708, 14.280179977416992, 2.6850571632385254, 7.3401384353637695, 0.34919294714927673, 0.3649331331253052, -7.711010932922363, 1.5565510988235474, -7.716958999633789, 3.996462821960449, 17.101642608642578, 8.552278518676758, 5.56501579284668, -10.058069229125977, -2.776481866836548, 12.70567512512207, 2.8276565074920654, 6.611337661743164, 0.6069294214248657, -12.332438468933105, 1.5636022090911865, -11.238292694091797, -8.757059097290039, -9.078583717346191, 8.772317886352539, -0.353674054145813, 1.9961328506469727, 6.175137042999268, -10.75223445892334, 2.5461511611938477, 2.226975202560425, 13.354276657104492, -11.211809158325195, -12.453181266784668, -9.409639358520508, 6.705115795135498, -3.5626912117004395, -15.222408294677734, 2.9318957328796387, -15.718331336975098, -15.188841819763184, -8.686426162719727, -14.86953353881836, 1.103304147720337, 9.819530487060547, 7.565004348754883, 6.12709903717041, -2.366635322570801, -9.16220760345459, 4.828003406524658, -14.679709434509277, -11.428787231445312, -0.13654974102973938, 0.7306227087974548, -1.5033560991287231, -2.5594418048858643, -2.711294174194336, 2.1551175117492676, -16.201417922973633, 3.5353498458862305, -11.717575073242188, -14.794109344482422, -10.197367668151855, 10.190990447998047, -9.271605491638184, -4.080529689788818, 3.1372478008270264, -0.07297546416521072, -12.939502716064453, 8.015280723571777, -10.95556640625, 6.518754005432129, -7.058795928955078, -3.514585018157959, 2.264636754989624, 9.231832504272461, 3.4459617137908936, -8.152989387512207, -2.0464348793029785, -11.315299987792969, 15.558009147644043, -4.880755424499512, -12.357712745666504, -4.091793060302734, 0.6980565190315247, -10.502026557922363, 0.5901798009872437, -15.345358848571777, -16.54033660888672, 16.037614822387695, 3.3625435829162598, 4.669590950012207, -2.4392600059509277, -11.577887535095215, 1.5981223583221436, -11.15852165222168, 1.8180452585220337, 6.9698357582092285, 0.9872450232505798, -8.26461410522461, 12.03946304321289, 1.3477730751037598, -1.7184523344039917, 4.213476657867432, -1.217331886291504, 4.690449237823486, 2.8592710494995117, 16.719303131103516, -13.239717483520508, 5.185403347015381, -6.703413009643555, -17.159021377563477, 2.066288709640503, 0.616994321346283, -4.669568061828613, 7.1899733543396, 15.915634155273438, 9.621194839477539, 11.613950729370117, 14.221412658691406, -5.458848476409912, -13.51202392578125, 1.34444260597229, 9.73479175567627, -14.680073738098145, 4.146678447723389, 0.5224263072013855, 0.41526100039482117, -14.013191223144531, -2.9107518196105957, -2.2268691062927246, 8.943798065185547, -14.095291137695312, 6.75939416885376, 3.046037197113037, 8.966320991516113, -12.650439262390137, -7.972100734710693, -3.7882750034332275, 5.1359477043151855, 2.348905563354492, -1.1130461692810059, 4.518355846405029, 9.190328598022461, 12.124212265014648, 16.40415382385254, -12.060564994812012, 1.4601695537567139, 1.7457244396209717, 15.165970802307129, -0.8306599855422974, -9.56585693359375, 7.407761573791504, -2.1504263877868652, 4.479526519775391, 4.9179887771606445, 7.38769006729126, -9.225512504577637, 7.607946872711182, -3.954601764678955, -12.496938705444336, 2.523298978805542, 4.0686211585998535, -18.048765182495117, -18.221878051757812, 7.218579292297363, 14.058993339538574, 4.565489768981934, -8.841346740722656, 5.840298652648926, 5.139558792114258, -13.456168174743652, -2.2625856399536133, 8.141263008117676, 11.688222885131836, -3.753464698791504, 9.960896492004395, 3.6878886222839355, -2.444817543029785, 0.9822902083396912, 9.747564315795898, -16.16537094116211, 4.150707721710205, 14.491844177246094, -8.372444152832031, 1.4413352012634277, -2.739118814468384, 9.152533531188965, 3.544210910797119, 0.15197695791721344, -4.341782569885254, 3.135916233062744, 10.22425365447998, 7.715237140655518, -5.681361198425293, -3.143699884414673, 6.942476272583008, 4.144748210906982, 2.808838367462158, 8.729386329650879, -5.424704551696777, -5.018105506896973, 3.192305564880371, -3.9512224197387695, -5.2515974044799805, -9.201783180236816, 3.671987533569336, 3.2739341259002686, -13.58559799194336, 10.185897827148438, 12.059247016906738, 5.794384479522705, -4.129639625549316, 13.2478609085083, -3.505924940109253, 4.037446022033691, -9.47765064239502, 1.853527545928955, 5.693057537078857, -6.491003036499023, -9.652989387512207, -10.669879913330078, -7.0745530128479, 8.794852256774902, 7.550817489624023, 1.2131654024124146, 18.35793685913086, 8.77049446105957, 4.615750789642334, 16.580467224121094, 2.044595241546631, -0.796655535697937, 15.710079193115234, 4.483060359954834, -3.137655019760132, -10.952253341674805, 5.8091206550598145, -4.277382850646973, -0.27346375584602356, -9.492836952209473, -10.006346702575684, -8.389883995056152, -9.38658332824707, 8.601910591125488, -2.1186370849609375, -1.602298617362976, -12.272449493408203, 5.165011405944824, 4.412530899047852, 8.622257232666016, -1.8785103559494019, -13.130328178405762, -8.353097915649414, 10.804206848144531, -5.280654430389404, 3.8238961696624756, -3.5821568965911865, -7.329475402832031, 9.285120010375977, 8.755237579345703, -9.712489128112793, 10.496089935302734, -10.370904922485352, 13.642656326293945, -7.335534572601318, 2.8585433959960938, 4.438929080963135, 9.604900360107422, 6.870876312255859, 4.457611083984375, -3.9909965991973877, 11.011280059814453, 1.9980579614639282, -0.3428032100200653, -10.465307235717773, 3.0874218940734863, 11.908967018127441, 0.35456582903862, 7.6120476722717285, -15.6351318359375, 11.602702140808105, 2.807234764099121, 10.586865425109863, 13.80620002746582, -4.448831081390381, 13.991369247436523, -15.342595100402832, 4.052309036254883, 3.0995659828186035, 2.3033154010772705, 5.488744735717773, -6.467145919799805, 15.577173233032227, -14.607786178588867, -8.779960632324219, 6.876223087310791, -2.2598676681518555, 4.936599254608154, 3.1459813117980957, 16.016063690185547, 13.074557304382324, -0.9673964381217957, 8.524775505065918, 1.8542044162750244, 2.131181001663208, 0.3230707347393036, 2.4072256088256836, -3.4285829067230225, -4.5967230796813965, -10.423003196716309, -9.288403511047363, -13.894617080688477, 2.473637580871582, -1.7886722087860107, -1.0324617624282837, -1.8220804929733276, 1.3537484407424927, 6.519408226013184, 10.899575233459473, 2.2796711921691895, -18.244800567626953, 13.951345443725586, 8.431352615356445, -16.228788375854492, 1.2965987920761108, -1.6911183595657349, -2.4718844890594482, -3.0364718437194824, -2.238156795501709, 1.727997899055481, 0.994350790977478, 3.178842544555664, 0.40757009387016296, -11.356027603149414, -1.2768995761871338, -7.231925964355469, 4.112524032592773, -0.8883160948753357, 12.004350662231445, 9.503146171569824, 8.819354057312012, 4.683480739593506, 3.37611722946167, 7.163762092590332, 9.627580642700195, -11.932520866394043, -15.670764923095703, 1.6879016160964966, -8.954748153686523, 15.4176025390625, -3.110675096511841, 8.621257781982422, 6.9633026123046875, 17.64347267150879, -3.755737543106079, -6.627225875854492, 6.369693756103516, -5.149979591369629, 2.931806802749634, 1.0924694538116455, 15.181222915649414, -5.3816633224487305, -3.5468759536743164, -10.217777252197266, -2.5430827140808105, 15.22769832611084, -8.09849739074707, -4.033615589141846, -4.130760669708252, -3.0644261837005615, -7.8438191413879395, 9.959223747253418, -15.20921516418457, 7.157775402069092, 11.700798988342285, 8.486191749572754, 8.763134956359863, 13.410995483398438, -0.8390042185783386, -7.739241123199463, -4.189252853393555, 11.119766235351562, -12.981300354003906, 6.949035167694092, -6.6583757400512695, 7.074553489685059, -1.5869572162628174, -2.781670093536377, -13.574651718139648, 3.0676004886627197, 2.155052423477173, -8.017731666564941, -15.000304222106934, 7.966341972351074, -16.340354919433594, 8.990591049194336, 4.6121039390563965, -12.346090316772461, -8.4125394821167, -1.874734878540039, -9.608410835266113, -0.8939015865325928, -9.441964149475098, 9.547572135925293, 9.317692756652832, 2.158562660217285, -6.021332263946533, 0.33162418007850647, -13.86565113067627, 6.576435089111328, -9.607330322265625, 5.275030612945557, -14.092792510986328, -5.200644493103027, 6.828489780426025, -0.6308516263961792, -14.776515007019043, 1.94613516330719, -3.4513440132141113, -5.360060691833496, 3.69454288482666, 3.1867756843566895, -6.910274028778076, -7.01414680480957, 9.925494194030762, 3.925752639770508, 8.665571212768555, -10.710859298706055, -8.097921371459961, -9.923734664916992, 8.086649894714355, 1.0695617198944092, 6.6077961921691895, 8.087879180908203, 0.719787061214447, 9.650862693786621, -0.991508424282074, -10.367551803588867, 6.461055278778076, 3.4071788787841797, 2.094625949859619, -10.704235076904297, 14.814933776855469, -6.369935512542725, 7.365630149841309, -8.590717315673828, 7.353888988494873, -9.541483879089355, -13.796408653259277, -3.8737881183624268, -7.107603073120117, 4.164710521697998, -17.150928497314453, 9.675236701965332, 11.347999572753906, 10.769049644470215, -4.3544182777404785, -13.88942813873291, 9.316327095031738, 10.875106811523438, 0.28663724660873413, 1.89901864528656, 8.203673362731934, 1.8161243200302124, -6.112735748291016, 9.926942825317383, -11.97910213470459, 7.347856521606445, -6.664080619812012, -0.9127793312072754, -11.190030097961426, 3.173251152038574, 14.388360023498535, -8.032876968383789, 11.229551315307617, -10.351616859436035, 13.878207206726074, -12.449780464172363, -13.862811088562012, 9.628829956054688, -2.094359874725342, -0.16480687260627747, 2.6114938259124756, -10.848544120788574, 14.300820350646973, -8.861832618713379, -9.422845840454102, -8.444987297058105, 8.001160621643066, -1.8530170917510986, -6.984847068786621, 2.7680742740631104, -1.5702922344207764, 1.4023205041885376, -10.278695106506348, -10.697824478149414, 3.3747432231903076, 0.23394954204559326, -7.881416320800781, 14.897785186767578, 7.5883893966674805, -0.6497393846511841, 5.453803062438965, 4.96578311920166, -5.386479377746582, 4.95284366607666, 3.489065170288086, 9.662256240844727, -14.764967918395996, 4.0780415534973145, -0.9976020455360413, 4.403078079223633, -7.33409309387207, 15.563721656799316, 2.463625192642212, 10.39993667602539, -2.683851480484009, 0.7271214127540588, 5.2006402015686035, -7.876453399658203, 0.3947843611240387, -12.180415153503418, 9.427870750427246, -13.591507911682129, 4.335641860961914, -9.390853881835938, 3.6392500400543213, -1.6558078527450562, -0.009828917682170868, -8.505253791809082, -10.421711921691895, 3.361213445663452, -6.1295342445373535, 12.064966201782227, 0.027531582862138748, -17.00791358947754, 12.297554969787598, -0.8962259888648987, -10.37984561920166, 5.419300079345703, -10.09286880493164, 5.189146995544434, -10.489964485168457, 13.455925941467285, 7.126485824584961, -7.169548988342285, 4.33505392074585, 13.889063835144043, -13.321004867553711, 13.522150039672852, 11.434475898742676, -11.37540340423584, 1.58798086643219, -9.438970565795898, -10.736336708068848, -0.06945610791444778, -0.8694033026695251, -1.926268458366394, -1.9198715686798096, 8.284127235412598, -1.0817707777023315, -2.4715733528137207, 16.237581253051758, -9.776642799377441, 14.997297286987305, 1.9549875259399414, 10.014274597167969, -14.861876487731934, -5.943885803222656, -10.069974899291992, 7.577678680419922, -6.816117286682129, 10.004081726074219, 10.473480224609375, -4.548783302307129, -12.141021728515625, -6.413084983825684, -9.649027824401855, -1.1964894533157349, 2.506429672241211, 17.410356521606445, -1.3325848579406738, 6.953127384185791, -6.9958882331848145, 0.9155488610267639, 7.647850513458252, 3.958289384841919, 5.922046184539795, -11.95566463470459, -15.264643669128418, -0.024695001542568207, 1.6108944416046143, 4.779485702514648, 11.01827335357666, 9.712482452392578, -12.38552474975586, 8.067144393920898, 8.594125747680664, 6.708282470703125, 8.937150001525879, 9.12630558013916, -7.4581170082092285, 4.7258501052856445, 7.869290351867676, 7.740126132965088, 2.769282579421997, -2.345890522003174, -9.151209831237793, 6.786135196685791, -17.6125431060791, 5.841599941253662, 0.036278121173381805, -5.691122531890869, 13.19473648071289, -1.8224976062774658, 2.02178955078125, 6.574776649475098, 12.280472755432129, 8.436580657958984, -0.031485773622989655, -3.8456671237945557, 2.9664013385772705, -10.173391342163086, -2.4100499153137207, -6.549831390380859, -5.477322101593018, -2.884251594543457, 0.2459784299135208, 1.8890879154205322, 4.970195293426514, 2.0127639770507812, 12.90108871459961, 7.285794258117676, 6.3644561767578125, -3.9351282119750977, -10.04887866973877, 5.084615230560303, -15.688779830932617, 14.657149314880371, 0.11099860817193985, 16.757022857666016, 8.866353988647461, -6.722038269042969, -1.6972615718841553, 10.292200088500977, -11.875007629394531, -10.390057563781738, 2.7785451412200928, -6.991117000579834, 1.595069169998169, -3.042881488800049, -12.675102233886719, 0.16015322506427765, -13.076398849487305, 5.2724223136901855, 0.6330115795135498, 1.2573639154434204, 9.047353744506836, 5.269412040710449, -1.9779435396194458, 6.527499675750732, -7.208654403686523, -10.902982711791992, -10.67848014831543, -12.538445472717285, -9.031506538391113, -3.5804169178009033, 8.419477462768555, 0.3146430552005768, 4.709371089935303, -11.342087745666504, 1.7556365728378296, -11.093927383422852, -2.8889570236206055, 6.985536098480225, -5.54533052444458, 1.8499360084533691, 1.9466677904129028, 4.101400852203369, -5.912798881530762, -3.727644443511963, 7.837444305419922, -15.922350883483887, -9.001428604125977, -17.15703582763672, -5.171867370605469, -10.102601051330566, 5.183231353759766, -15.080062866210938, 3.6858224868774414, 13.366991996765137, -4.683976650238037, -14.957261085510254, -7.073853969573975, -5.245336055755615, -2.8499343395233154, -0.4829409420490265, 12.12007999420166, 4.17676305770874, -11.359796524047852], \"y\": [-3.9512224197387695, -2.5299007892608643, -6.358564376831055, -2.8293707370758057, 12.693288803100586, 0.2601086497306824, -6.787687301635742, 1.0120353698730469, -9.890816688537598, 3.0506155490875244, -2.8234872817993164, 10.974207878112793, 2.073164463043213, -0.1961054503917694, 3.429379463195801, 3.8840723037719727, -2.6580922603607178, -0.8280556797981262, 9.246598243713379, -7.075358867645264, 1.78014075756073, 4.4868011474609375, -5.190891265869141, 7.159976959228516, 7.991918563842773, -1.7081221342086792, -6.722079277038574, -7.216320991516113, -0.4053538143634796, -4.946164131164551, 1.9929267168045044, -0.26708295941352844, -11.255184173583984, -7.197136878967285, -8.863877296447754, -3.1829073429107666, -13.604763984680176, 12.77721881866455, 7.037984848022461, -7.869187355041504, -7.762463092803955, -1.4661122560501099, 11.70235538482666, -1.6781258583068848, -3.369098663330078, 1.2073118686676025, -3.3299474716186523, 2.6283204555511475, 5.37083101272583, 0.16319423913955688, 10.000547409057617, 4.326620578765869, 8.123330116271973, -0.10564863681793213, 2.5089476108551025, 4.903236389160156, 9.49413776397705, -7.948273181915283, -3.601457357406616, 7.403595447540283, -7.599255561828613, 6.052973747253418, 1.69968581199646, 5.7850422859191895, -6.26819372177124, -8.431816101074219, -6.187017917633057, 4.703625202178955, -7.423515796661377, -5.625938892364502, -1.2470289468765259, -8.527636528015137, 9.78769302368164, 3.4337658882141113, 10.73076343536377, 5.601675033569336, -4.499069690704346, 2.471282482147217, -4.785695552825928, -5.164985656738281, -6.7595601081848145, -0.9848936200141907, -6.344897270202637, 1.8388986587524414, -0.8292093276977539, -6.019908428192139, -1.344497799873352, -5.444159030914307, 4.673152446746826, -6.284221649169922, 2.239215850830078, -10.948701858520508, 2.6269702911376953, -4.155921459197998, 3.447549343109131, -10.565790176391602, 8.04783821105957, -2.7296407222747803, -2.8992252349853516, -1.7062690258026123, -2.790989398956299, 6.145500659942627, -2.0582151412963867, -0.4111959934234619, -7.78726863861084, -3.9887783527374268, 1.6394659280776978, -7.581181526184082, 12.325899124145508, 10.943102836608887, 9.071398735046387, 0.6532535552978516, -9.486518859863281, 9.342294692993164, -3.0698180198669434, -7.06734037399292, -11.158432006835938, 2.7368881702423096, 11.569697380065918, 2.7051591873168945, 1.3109266757965088, -4.897332668304443, 5.835836410522461, -3.407543182373047, -3.7540690898895264, -3.4261558055877686, 0.892315149307251, 3.203681468963623, -12.45319652557373, -1.3954793214797974, 13.4087553024292, 2.7162957191467285, 8.062371253967285, -2.650696039199829, 6.244640827178955, 13.880102157592773, -1.5794020891189575, -2.703209400177002, -6.328158378601074, 4.653108596801758, 0.520101010799408, 6.506076335906982, 5.43955659866333, 9.767497062683105, 0.9546425938606262, -13.746203422546387, 1.672239065170288, 0.16373006999492645, 13.862809181213379, -8.01114273071289, -1.8465371131896973, -14.273921966552734, -11.501155853271484, -10.690632820129395, 6.574451923370361, 13.350787162780762, 4.363320350646973, 11.693638801574707, 8.420306205749512, -5.493490695953369, 12.804932594299316, 11.965005874633789, -7.1967902183532715, 8.297616004943848, 6.2918620109558105, -6.422176361083984, 1.2406721115112305, 7.927489280700684, -1.74006187915802, -2.1378366947174072, -7.700821399688721, 10.957799911499023, -3.0883302688598633, -13.046863555908203, 3.8350653648376465, -7.015536308288574, 2.3683371543884277, -0.2777305841445923, -7.211497783660889, 4.519395351409912, -0.9522348046302795, -4.9173054695129395, 1.420353651046753, -6.994863986968994, 1.3852208852767944, 8.421370506286621, 3.0058600902557373, -9.435583114624023, 8.402570724487305, 4.590369701385498, -2.298194169998169, 4.092921733856201, 10.909555435180664, 12.23019790649414, -6.218304634094238, 4.235678672790527, -1.385267734527588, 11.818875312805176, 5.532876014709473, -0.9905555844306946, -6.704366683959961, 6.9354143142700195, 1.2150806188583374, -5.479256629943848, -7.706694602966309, 1.9514259099960327, -2.1090450286865234, -2.700955867767334, -12.888413429260254, 2.359783887863159, -14.286127090454102, -3.7575767040252686, 11.249617576599121, -5.140381336212158, 3.714695930480957, 1.3963414430618286, -3.402601718902588, 7.00679874420166, 6.591276168823242, -2.167491912841797, -8.931565284729004, -0.6678028702735901, -8.822093963623047, -3.442150592803955, -0.6381850838661194, -7.24444055557251, -2.950406789779663, 3.908395290374756, 0.710979163646698, -12.83575439453125, -11.71019458770752, -9.990952491760254, 4.663516044616699, 4.496785640716553, -1.858450174331665, 5.690186977386475, 7.077054500579834, -12.852275848388672, -5.406988620758057, -7.613968849182129, -3.3379838466644287, 10.38194751739502, -3.746135711669922, 5.345523834228516, -7.948660373687744, -8.757384300231934, 13.534618377685547, 3.8413448333740234, 11.48787784576416, 5.335142612457275, -8.313681602478027, 8.706707000732422, -1.1055155992507935, 0.3049156069755554, 11.745612144470215, 11.447826385498047, 10.202199935913086, -4.453299522399902, 6.765071868896484, -5.0261759757995605, 0.5542239546775818, -3.2965221405029297, 11.53582763671875, 5.706661701202393, -7.652817726135254, 9.918033599853516, 7.429492950439453, 8.193126678466797, -5.5699262619018555, 10.86280345916748, -3.878052234649658, 4.617237091064453, -0.0702872946858406, 11.978713989257812, 5.206770420074463, -13.31792163848877, -3.2445871829986572, -3.884631872177124, -12.718588829040527, -3.1972343921661377, -9.049793243408203, -0.4086361229419708, 11.010108947753906, 6.803473949432373, -11.011563301086426, -5.066919803619385, 3.0231497287750244, -8.954914093017578, 10.495023727416992, -8.549089431762695, -4.752944469451904, 12.538228034973145, 7.81040620803833, 2.507894277572632, 5.8548150062561035, -13.036222457885742, 9.063018798828125, -2.1385445594787598, -8.714472770690918, 1.09494149684906, 4.094819068908691, 9.981281280517578, -2.8524181842803955, 0.7960528135299683, 11.916776657104492, -6.241537094116211, -7.936668872833252, -14.206711769104004, 6.405969142913818, 8.470730781555176, -0.06240222230553627, 12.061308860778809, -14.283278465270996, 4.726190567016602, -1.1865507364273071, -9.852376937866211, 10.946948051452637, -3.9463376998901367, -3.1518383026123047, -6.39448356628418, -3.3422093391418457, 10.754714012145996, 3.3793928623199463, -5.567205429077148, -2.717634677886963, -5.214515209197998, 2.2079248428344727, -2.154792070388794, -3.47223162651062, -4.519143104553223, -0.5177525877952576, 12.48098087310791, -8.530386924743652, -2.717747211456299, 9.646685600280762, -3.354940414428711, 1.4456218481063843, 0.10939788818359375, 7.393624305725098, 10.607872009277344, -10.496524810791016, 5.883816242218018, -4.977194786071777, -2.9758799076080322, -5.248450756072998, -6.8602070808410645, -5.366140365600586, 5.738444805145264, -4.37786865234375, -1.040415644645691, 6.722878456115723, 3.086961507797241, 2.61792254447937, 3.006411552429199, 0.6298407316207886, -14.100174903869629, -1.6160836219787598, -6.081573486328125, -5.160336494445801, 3.694258689880371, -5.207633972167969, 9.910022735595703, 7.096308708190918, -7.367936611175537, -6.604283809661865, -6.085751056671143, 6.756842136383057, 2.383577346801758, 9.806084632873535, 8.921472549438477, -3.1774559020996094, -9.059732437133789, -10.14215087890625, 2.5387978553771973, -0.8148157596588135, 5.489121437072754, 4.457979202270508, 12.210609436035156, 3.3468565940856934, -2.8385589122772217, -1.6391115188598633, 3.135800361633301, 4.259405136108398, 3.4910244941711426, -9.209988594055176, -3.242180109024048, 8.125014305114746, 10.436088562011719, -5.928099632263184, 2.8305552005767822, 1.3120553493499756, -8.058405876159668, -3.48555326461792, 8.300196647644043, 11.192355155944824, -10.660487174987793, 11.1992769241333, -3.0866355895996094, -7.415626049041748, -2.6111414432525635, 4.6362810134887695, 6.335922718048096, 4.109504699707031, -7.3557515144348145, -13.316366195678711, -0.8253661394119263, 9.075498580932617, -3.5679807662963867, 3.7383193969726562, -5.536774635314941, -8.032899856567383, -1.1487901210784912, -6.2833051681518555, 3.5339252948760986, 11.03453540802002, 1.5760077238082886, -8.152586936950684, 0.1103845164179802, -13.058573722839355, -2.9639923572540283, -10.54071044921875, -6.414116859436035, 0.36825019121170044, 4.915696620941162, 10.684396743774414, -0.177925243973732, -0.9342043995857239, -4.419422626495361, -5.049652576446533, 0.5113377571105957, 4.009741306304932, -12.327591896057129, -10.091054916381836, -2.3192200660705566, -2.614511251449585, -2.4673101902008057, 4.449775218963623, -13.131319999694824, -2.2294681072235107, 4.711462020874023, 3.4709532260894775, -0.3138171136379242, -3.869439125061035, 10.336085319519043, 3.504204750061035, 7.877686977386475, 4.556884288787842, -12.429766654968262, -4.80007266998291, -8.34522533416748, 2.799027681350708, -8.53091812133789, 0.11865802109241486, 0.8396975994110107, 3.8643314838409424, -2.37676739692688, 4.163893222808838, -6.893962383270264, -8.87716293334961, -10.280281066894531, 4.3850579261779785, -13.641024589538574, 9.16922378540039, -4.136752605438232, 9.191097259521484, -5.49692964553833, 1.838097095489502, -3.5369651317596436, 11.405633926391602, -5.557828426361084, 0.3317723870277405, 15.901670455932617, 13.369114875793457, 4.906419277191162, 5.735177516937256, -2.2873473167419434, -6.884660243988037, -1.559737205505371, 6.257123947143555, -4.614165782928467, 4.49953031539917, -5.255067825317383, 2.3572959899902344, -0.7173130512237549, -7.135815143585205, 9.969395637512207, 17.443668365478516, -2.0755529403686523, 11.859737396240234, -2.4569084644317627, 11.410604476928711, 9.921319961547852, -8.32724666595459, 0.7456679344177246, -0.014957872219383717, 5.475877285003662, -14.912897109985352, -0.18206994235515594, 10.756270408630371, 13.940596580505371, -2.662670373916626, 9.510313987731934, 1.8788906335830688, 11.453125953674316, -0.627970814704895, -5.48256778717041, 8.293081283569336, -11.077065467834473, -5.065973281860352, 11.625414848327637, 2.29451322555542, -1.2587202787399292, 7.112709999084473, -0.6854619383811951, 4.00079345703125, 1.8844308853149414, 6.666187763214111, -2.5430150032043457, -4.7672600746154785, -2.1754021644592285, -9.14421272277832, 3.179896116256714, -2.4084339141845703, 9.78736686706543, 6.455975532531738, -7.711481094360352, -7.253482341766357, -9.897701263427734, -3.718653917312622, -6.818051338195801, 1.9617153406143188, 9.342363357543945, -11.896145820617676, 8.81380558013916, 12.355589866638184, 9.665143966674805, -1.8864039182662964, -14.785727500915527, -4.450479030609131, 0.0944596529006958, 5.875531196594238, -13.999464988708496, 0.14214466512203217, 3.9866714477539062, -0.3245682418346405, -5.712285041809082, 3.1201322078704834, -9.438289642333984, -0.2358618974685669, -10.573216438293457, 11.656709671020508, -5.826415538787842, -4.851640224456787, 8.923158645629883, 8.195208549499512, 12.680829048156738, 12.041698455810547, 10.137557983398438, -7.874983310699463, 14.22199535369873, -8.717524528503418, -2.0957608222961426, 5.1145243644714355, -7.130285263061523, -9.435738563537598, 2.6228907108306885, 8.740887641906738, 0.08370831608772278, -4.430612087249756, -9.322979927062988, 3.0474648475646973, 7.092794895172119, -1.6817314624786377, -2.247511863708496, -10.217314720153809, -14.287528991699219, 5.720927715301514, 0.3216153383255005, 6.20623254776001, -2.8653764724731445, 12.682703971862793, 2.627166986465454, -12.652079582214355, -8.047853469848633, 1.04597806930542, 13.298026084899902, 7.247184753417969, -4.786106109619141, -1.9767898321151733, 3.695910692214966, 2.9898624420166016, 5.277486324310303, 8.88663101196289, -2.463008403778076, 2.4763336181640625, 6.706451416015625, 2.8700928688049316, 3.025770425796509, -0.19456298649311066, 11.707791328430176, 0.5785601735115051, 1.498782992362976, 0.7418904900550842, -0.14996276795864105, 8.22240924835205, -12.18176555633545, 2.884129524230957, -1.6727098226547241, -14.595556259155273, 14.263815879821777, 4.281022071838379, 8.601469993591309, -6.904432773590088, -4.875019550323486, 11.615595817565918, 7.916782379150391, -6.536751747131348, 5.807040691375732, 1.668601155281067, 0.020493151620030403, -2.644559383392334, 4.511469841003418, -7.737260341644287, -2.7515194416046143, 4.158679485321045, 9.955646514892578, 5.271936416625977, -10.600417137145996, -1.2100123167037964, 5.444758415222168, 9.706993103027344, -6.566323757171631, 14.062816619873047, 0.5284103751182556, 14.350959777832031, -1.6202034950256348, 6.50035285949707, -1.8316243886947632, 9.232338905334473, -9.169371604919434, -5.719719409942627, 11.088258743286133, 3.623380184173584, 6.075883388519287, 2.0466744899749756, 6.2377610206604, -0.4219973385334015, 7.383141994476318, -0.6665164232254028, -3.0058462619781494, 9.629557609558105, 4.062859058380127, 5.861156940460205, 3.3721697330474854, 14.162410736083984, 6.393977165222168, -1.6137887239456177, -11.267125129699707, -3.4023022651672363, -3.5354583263397217, 3.711465835571289, -5.516284942626953, 3.954501152038574, -6.694687843322754, 10.164848327636719, 11.108269691467285, -9.24588680267334, -7.673027992248535, -6.5849409103393555, -3.5863094329833984, -9.182170867919922, -10.448189735412598, -0.7946993708610535, 1.937468409538269, 0.1563064455986023, -2.3719241619110107, 5.713684558868408, 1.4898443222045898, -4.405773162841797, -0.6892611980438232, 8.73107624053955, 2.823075771331787, 3.9822399616241455, 10.292991638183594, 4.1030497550964355, 6.932004451751709, -4.700878620147705, -6.435809135437012, -4.428920269012451, 9.807011604309082, 2.7823379039764404, 8.592002868652344, 0.19648216664791107, 0.08143062144517899, -7.15034818649292, 12.92928409576416, 12.268233299255371, -4.75785493850708, -4.249212741851807, -4.748973369598389, -5.187183380126953, -4.980226516723633, -10.5537748336792, 4.969209671020508, -8.838362693786621, 12.023930549621582, 7.2487382888793945, -4.478544235229492, -4.464620590209961, -3.5873348712921143, 6.758138656616211, -10.90944766998291, 10.65472412109375, -3.114187479019165, -5.356210708618164, -6.859296798706055, 0.9642075300216675, -5.5869460105896, 9.660179138183594, 4.606582164764404, -6.9460883140563965, -2.1017355918884277, 5.383975982666016, -11.53518009185791, -3.121697187423706, -13.846110343933105, 10.031103134155273, -4.783805847167969, 11.315298080444336, -4.536447048187256, 10.660508155822754, 5.388577461242676, -0.4137662947177887, -13.321199417114258, 10.450242042541504, 14.317753791809082, 12.646600723266602, -12.40899658203125, -5.544914722442627, 8.917013168334961, 8.11065673828125, -5.698278427124023, 0.3492509722709656, 1.3682852983474731, 4.4531426429748535, 1.4004576206207275, 4.695171356201172, 0.6754391193389893, -4.007908344268799, 6.763134956359863, -1.5257514715194702, -10.578697204589844, 8.15494155883789, -14.188528060913086, 11.4772310256958, -1.4431368112564087, -4.663523197174072, 6.317997932434082, -5.856588363647461, -4.269966125488281, 8.106505393981934, -4.857751369476318, 9.522978782653809, 1.6722816228866577, -2.6571972370147705, -0.5052170157432556, -12.904945373535156, -13.885235786437988, -9.878302574157715, 1.0222012996673584, -5.760870456695557, 6.9842963218688965, -8.170636177062988, 9.597782135009766, -3.039384365081787, -10.087997436523438, 11.334500312805176, 6.9782609939575195, 0.11351479589939117, -2.0305488109588623, -6.779572010040283, -4.746054649353027, -2.7247555255889893, -3.2286126613616943, -4.642303466796875, 12.413561820983887, -6.165680408477783, -1.0526741743087769, -5.429066181182861, 7.223720073699951, 8.264430046081543, -3.380845546722412, 4.552837371826172, 12.458751678466797, -11.073412895202637, -1.7847410440444946, 0.2935521900653839, 1.146330714225769, -4.0258636474609375, 4.420999526977539, -4.986334323883057, -12.679855346679688, 4.675522804260254, 8.024343490600586, 9.399832725524902, 3.007063388824463, -3.176771402359009, 9.046549797058105, 2.817326307296753, -0.21006938815116882, -0.42280489206314087, -0.8855640888214111, 6.611922740936279, -3.774775743484497, 3.422452688217163, 12.673256874084473, -8.088420867919922, -9.381531715393066, -8.264164924621582, 9.31560230255127, 3.5823676586151123, -1.4078471660614014, -0.6991766691207886, -8.94797134399414, 2.030090808868408, -5.249311447143555, 1.2300738096237183, 12.63732624053955, 8.142284393310547, 12.217241287231445, -7.133481502532959, -2.9972097873687744, 2.723940372467041, 0.5148900747299194, -14.103765487670898, -4.26819372177124, -12.16983699798584, -7.961813926696777, -13.92953109741211, -4.4167985916137695, -2.530250072479248, -14.03723430633545, -5.04196834564209, -6.205296516418457, -8.477553367614746, 10.523649215698242, -1.897444486618042, 1.500927209854126, -11.042340278625488, -5.390821933746338, -9.117189407348633, 0.2431345134973526, 2.007146120071411, -6.460277080535889, 1.2063034772872925, 0.3989749848842621, -1.5363285541534424, 12.074051856994629, -7.467231273651123, 10.175461769104004, 5.869078159332275, 2.766361713409424, 7.272852420806885, -3.339010238647461, 6.991458892822266, -3.2630419731140137, 0.21172688901424408, -2.7356321811676025, -0.5811311602592468, 5.588578701019287, -9.987156867980957, 1.4419738054275513, -1.976514220237732, 10.9104642868042, -9.28194808959961, 9.062644004821777, 2.1063461303710938, -1.8995411396026611, 1.8136615753173828, -13.091256141662598, -7.994582653045654, 9.698311805725098, -13.603800773620605, -2.491126775741577, -8.50210189819336, -2.844926118850708, 13.688791275024414, 1.3409435749053955, 11.147690773010254, -5.024328708648682, 4.422235012054443, 12.32509994506836, -4.084037780761719, -4.560208797454834, -4.55019474029541, -3.3429019451141357, -11.429097175598145, -7.160865783691406, -7.023245811462402, -3.256303548812866, -0.2458181530237198, -2.1433656215667725, 1.7760009765625, 2.48358416557312, 3.6140153408050537, 0.323767751455307, -6.616218566894531, 7.980149745941162, -12.519498825073242, -7.085921764373779, 4.837401866912842, 7.073809623718262, -2.830751657485962, -0.18328507244586945, -4.584690570831299, 2.602586269378662, 2.8104159832000732, -1.6205769777297974, 7.517116069793701, -7.1979660987854, 9.476997375488281, -8.506179809570312, -3.832413673400879, 2.3950061798095703, -15.659144401550293, 9.682182312011719, -6.707401275634766, -2.397054672241211, 4.053136825561523, 3.848844051361084, -12.825288772583008, -4.3609771728515625, -0.5991774201393127, 10.618163108825684, -3.3991925716400146, 10.442217826843262, -10.4103422164917, 9.466858863830566, 1.7680567502975464, -5.093629360198975, 7.5596394538879395, -3.885176420211792, -4.042253494262695, -13.576918601989746, 10.137664794921875, -10.550346374511719, 17.35834503173828, -3.118152141571045, -5.79051399230957, 3.2448630332946777, 1.2154831886291504, 9.983591079711914, -7.87919282913208, -3.171529531478882, 0.13654163479804993, -6.7903032302856445, -3.686781167984009, -3.1559410095214844, 6.3527512550354, -11.330901145935059, -5.735661029815674, 1.0263696908950806, -5.300192832946777, -5.518305778503418, 10.25561809539795, 1.4153039455413818, 6.172091960906982, -10.386972427368164, -1.0186673402786255, -7.680414199829102, -5.6801066398620605, -0.524202823638916, 0.957411527633667, 9.376006126403809, 0.2665058970451355, -9.439067840576172, 4.93398380279541, -1.7002956867218018, -7.338334083557129, 3.176687002182007, 9.464465141296387, -13.661953926086426, -3.168281078338623, -0.8930150866508484, 5.888454437255859, 7.133727550506592, 5.704619884490967, -9.881707191467285, -8.165766716003418, -7.011967182159424, 4.233860969543457, 4.885040283203125, 5.762703895568848, -7.663395404815674, -2.3234798908233643, 13.289440155029297, 10.96345329284668, -12.694921493530273, 13.770758628845215, 4.868870735168457, -3.551682710647583, -1.5741829872131348, 7.01904296875, -0.6864771842956543, 1.3500527143478394, 2.7097439765930176, 0.21993571519851685, -7.054948329925537, 13.795733451843262, 11.379081726074219, -0.7172767519950867, -4.735469341278076, 11.62903881072998, -2.011962890625, 0.5569800138473511, -14.301851272583008, 0.7013459205627441, -11.999494552612305, 1.643832802772522, 1.1025184392929077, -0.0760272890329361, 12.014654159545898, 0.8432501554489136, -1.2456316947937012, 8.702897071838379, 4.560612678527832, 5.841982364654541, -3.8047168254852295, -0.03453933820128441, 5.912292957305908, -12.091790199279785, 1.0884608030319214, 1.4963302612304688, -11.207033157348633, -8.608938217163086, -4.461413383483887, 6.384278297424316, 3.0425806045532227, 6.215535640716553, -2.1110000610351562, -9.429133415222168, -8.57236385345459, -0.6121928095817566, 11.93250560760498, -8.2523775100708, -8.357312202453613, 10.574433326721191, 0.16820326447486877, 2.632842779159546, -3.572080612182617, -7.006170272827148, 5.679925441741943, 0.2213248610496521, -12.085031509399414, -4.722195625305176, 8.930218696594238, 8.332919120788574, -13.650047302246094, 12.315183639526367, -0.021708792075514793, -3.6233060359954834, 7.503423690795898, -0.6909363865852356, -7.416262149810791, -4.814964294433594, -0.1671462059020996, -4.393711090087891, -1.7805894613265991, 12.580412864685059, -11.80180835723877, -1.4681514501571655, 9.347809791564941, -9.325343132019043, -2.9158971309661865, -1.4846304655075073, -2.7083513736724854, -0.3452690541744232, -9.573274612426758, 2.568594217300415, -8.697010040283203, -3.1787195205688477, -1.4276649951934814, 3.0386979579925537, -0.5268903374671936, 3.9848403930664062, -6.271567344665527, -12.172656059265137, -7.102913856506348, -14.387907981872559, 4.116143703460693, 4.229158401489258, -0.22746138274669647, -3.7353146076202393, -7.889172077178955, -6.46618127822876, 3.756340503692627, -14.437731742858887, 2.6789066791534424, 11.268474578857422, 7.134705543518066, 9.780908584594727, -5.325289726257324, 1.3901163339614868, -8.708413124084473, 9.331733703613281, 5.53405237197876, 4.224925518035889, -9.471446990966797, 0.8009728193283081, -6.8034491539001465, -4.131011486053467, 8.973949432373047, 4.237024307250977, 5.44340705871582, 9.291203498840332, -3.9670798778533936, 12.431501388549805, 4.298081398010254, -3.330390453338623, -5.811821460723877, 5.285561561584473, 0.9009652733802795, -3.830014705657959, -3.0626742839813232, 0.2876039147377014, -9.994104385375977, 9.613296508789062, 7.276472091674805, -1.5909769535064697, 5.0427703857421875, 10.621454238891602, -14.634551048278809, -0.47203564643859863, -9.275701522827148, -0.7093656659126282, -5.017486572265625, -6.719918727874756, -4.366796493530273, 9.54979133605957, -10.512253761291504, 0.2894028425216675, -4.349567413330078, 5.946381092071533, 12.087579727172852, -8.077226638793945, -14.309453010559082, 0.8245718479156494, -5.890048503875732, 2.4089128971099854, 1.1335673332214355, -7.408505916595459, -12.398280143737793, 2.4445929527282715, 0.3348993957042694, -7.449904441833496, 0.14376713335514069, 5.285688400268555, -3.286053419113159, -4.973439693450928, -0.39293336868286133, -3.74220609664917, 1.7589647769927979, -3.8272976875305176, 10.07063102722168, -7.4332661628723145, 6.034171104431152, -2.8495211601257324, 2.3994481563568115, 2.3280460834503174, -2.575486183166504, -9.630719184875488, -8.417943954467773, -0.5886626839637756, -2.001322031021118, 7.5127081871032715, -0.8963682651519775, -4.822292327880859, -3.617158889770508, -3.349797487258911, -0.6430073380470276, -1.733134388923645, -3.7943477630615234, 12.957083702087402, 6.102928638458252, -2.9022138118743896, 6.237154483795166, -1.1676554679870605, 5.363740921020508, -6.005707263946533, -6.990833759307861, -6.298982620239258, -3.4695074558258057, 5.234457969665527, 5.444098949432373, 3.4082913398742676, 3.082252025604248, 4.308163642883301, -5.149938106536865, 4.413586139678955, 3.39713716506958, 14.613195419311523, 11.499088287353516, 12.856294631958008, 13.528733253479004, -6.187325477600098, 4.683791637420654, -3.5850062370300293, -3.325282335281372, 2.5168890953063965, -4.268286228179932, 12.726574897766113, 5.372267246246338, -0.46527326107025146, 0.4235648512840271, 4.910584926605225, 0.5383092164993286, -2.010331153869629, -6.202608108520508, -10.193994522094727, -9.86810302734375, -4.293467044830322, 5.731322288513184, -2.666477918624878, -5.0078125, 0.487510621547699, -9.720149993896484, -2.9730465412139893, 0.9741451740264893, -1.2321821451187134, -1.6178264617919922, -5.0939717292785645, 6.354742050170898, 1.1194031238555908, 0.1539173573255539, 10.815356254577637, 3.5459961891174316, -9.288260459899902, 0.634710431098938, -8.273188591003418, -4.019617080688477, 0.0804261565208435, -3.694125175476074, 5.218735694885254, -1.025557041168213, -14.32824420928955, 7.506519794464111, 4.299166202545166, -13.373793601989746, -2.5405333042144775, -3.786881685256958, 4.623690605163574, -3.6496217250823975, 0.11353207379579544, -11.102058410644531, 4.571940898895264, -2.121790885925293, 11.029633522033691, -0.9712963104248047, -8.074625015258789, 6.9083709716796875, -6.198485851287842, 12.529149055480957, -4.25797176361084, 10.86621379852295, -4.954738140106201, 10.905691146850586, -6.792409896850586, -0.861950159072876, 3.0832691192626953, 3.9628031253814697, 13.058610916137695, -7.821722030639648, -2.2905519008636475, -7.137753009796143, 10.111531257629395, 4.470464706420898, 6.9474687576293945, 1.37637460231781, -15.757829666137695, -0.4034282863140106, -5.223379135131836, 1.7186322212219238, -3.416694164276123, -7.927870750427246, 1.0317217111587524, -6.102542400360107, 9.377004623413086, -10.3253173828125, 5.208817958831787, 12.704934120178223, -2.5417656898498535, -4.326543807983398, -11.142531394958496, 10.509519577026367, -2.923767566680908, -0.6961213946342468, -5.364569664001465, 0.5577338933944702, -3.8874154090881348, -10.412436485290527, 10.839760780334473, 1.3842791318893433, 11.398127555847168, -2.5548529624938965, -9.529598236083984, 0.5496500134468079, 12.74927806854248, -0.7021769285202026, -9.58008098602295, -0.45297524333000183, -8.783516883850098, 3.285731792449951, -8.309440612792969, 7.834207534790039, -14.628360748291016, 1.7546740770339966, 5.736817359924316, -4.220168113708496, -6.926541328430176, -8.897077560424805, 10.324195861816406, 10.09561538696289, -10.206572532653809, -6.619565010070801, 5.867753982543945, -6.083768844604492, 0.9380210041999817, -5.814404010772705, -8.78273868560791, -0.1564628630876541, -0.8336406350135803, 13.982823371887207, 5.832831859588623, -1.2724303007125854, 2.756722927093506, -9.251019477844238, -5.767118453979492, 4.666102886199951, 8.933525085449219, -4.819012641906738, 1.754199743270874, -6.312549591064453, -4.695672035217285, 6.47630500793457, -0.5624136328697205, 6.794569492340088, -11.909502983093262, 5.740234375, 0.39060866832733154, -7.361495018005371, -5.076608180999756, 8.372918128967285, -10.215474128723145, -10.726435661315918, -12.285289764404297, -2.75649094581604, 0.3804744482040405, -15.01161003112793, 11.084237098693848, -13.653441429138184, -0.005615708883851767, 9.745015144348145, 14.072507858276367, 2.7570712566375732, 13.336970329284668, 0.8982637524604797, -2.6260151863098145, -7.686065196990967, -10.902832984924316, -6.2092461585998535, 0.0005860079545527697, 3.0932488441467285, 10.385603904724121, -11.950552940368652, -7.53721809387207, -0.46964484453201294, 4.041618347167969, -9.194843292236328, 12.16387939453125, -0.09624890983104706, -10.75145435333252, 11.616580963134766, -5.767676830291748, -0.5360758900642395, 11.579451560974121, 9.387218475341797, -0.710060179233551, -7.974924564361572, 11.220382690429688, -14.046714782714844, 6.15016508102417, 10.828344345092773, 1.0266460180282593, -1.5668432712554932, -3.8901360034942627, 11.440327644348145, 6.0643391609191895, -9.559356689453125, -13.060098648071289, 12.40942096710205, 13.144912719726562, 4.585267066955566, -11.712372779846191, -9.044524192810059, -2.528432607650757, 2.8506906032562256, -8.237358093261719, -4.065231800079346, 1.1629658937454224, 9.84699535369873, 13.432034492492676, 6.796627044677734, -11.931026458740234, 2.139606237411499, 9.306774139404297, -7.376514911651611, -1.4982733726501465, 1.5617882013320923, -14.690892219543457, -4.678314208984375, -2.7194807529449463, -9.534717559814453, 1.3009767532348633, -1.1203383207321167, -12.345050811767578, -11.090643882751465, 1.0206724405288696, 2.8713605403900146, 0.8348711729049683, 2.577382802963257, -6.785407066345215, -5.013073444366455, -3.983046293258667, 14.120088577270508, -7.041172981262207, 4.710042953491211, -13.972647666931152, -7.687694072723389, -7.373182773590088, -2.6793017387390137, -1.6839624643325806, -12.481779098510742, -0.8599376678466797, 9.593720436096191, 6.444239616394043, 0.03806532546877861, 6.799740791320801, 2.7342686653137207, -2.463416814804077, 4.127298831939697, -1.6771870851516724, -6.8419904708862305, -1.1251277923583984, -3.3301219940185547, 6.705083847045898, 7.3647780418396, -7.968194961547852, 10.081409454345703, -5.2979278564453125, 0.7963058948516846, 0.7753769755363464, -2.6050798892974854, 10.485273361206055, 4.2751145362854, 12.473433494567871, -1.1809731721878052, 10.570856094360352, 10.55715560913086, -2.7155277729034424, -4.83517599105835, -3.7681725025177, 12.788689613342285, 0.9480075836181641, 12.609381675720215, 11.684622764587402, -1.015474796295166, -1.916874885559082, -0.5527380704879761, -9.25631332397461, -9.392210006713867, -1.3617781400680542, -4.544318675994873, 3.989398717880249, 3.475799083709717, 1.8742358684539795, 9.034993171691895, -7.949558258056641, -5.442765235900879, 3.090787887573242, 6.425505638122559, -3.620976448059082, 0.10329963266849518, -3.75373911857605, 1.4526517391204834, 1.9004231691360474, -9.091985702514648, 1.0939838886260986, 4.966907024383545, 7.502584934234619, -0.2972961664199829, 1.6820650100708008, 4.226424217224121, 1.0707141160964966, 2.1785330772399902, -9.048236846923828, -0.11591603606939316, -3.2611570358276367, 1.8488894701004028, -3.90846848487854, -7.253206253051758, -3.510877847671509, -7.227904796600342, -6.759858131408691, -3.5218923091888428, 0.8410807847976685, -6.6954498291015625, 0.9005236625671387, 3.0762038230895996, -12.155720710754395, 1.2161493301391602, 2.4318292140960693, 9.17534351348877, 12.562065124511719, 3.1706647872924805, 8.08756160736084, -4.483131408691406, -9.35925579071045, 12.487627029418945, -11.462788581848145, 10.325684547424316, 2.751063585281372, -1.2137069702148438, 1.7234183549880981, 9.969391822814941, -6.031717300415039, 0.9729578495025635, -6.5540876388549805, 5.108306884765625, 12.803417205810547, 0.22062744200229645, -9.651954650878906, 5.220312118530273, 2.0310893058776855, -6.580613613128662, 7.071720600128174, 8.160122871398926, 6.139342308044434, 6.037068843841553, -8.103069305419922, -3.313791036605835, -7.489464282989502, -4.950921058654785, -6.538635730743408, 6.294171333312988, 12.981316566467285, -5.968174934387207, -4.883133888244629, 1.6811479330062866, 2.62256121635437, -1.5727767944335938, 5.240632057189941, -2.678006172180176, 12.36658763885498, -6.417031288146973, -13.266298294067383, 1.4836666584014893, 4.647345066070557, 12.195874214172363, -7.141575336456299, -7.532548427581787, -2.134352207183838, 8.98641586303711, 10.852188110351562, 11.679137229919434, 12.380110740661621, -7.230927467346191, 6.411009788513184, 0.3702563941478729, 2.833889961242676, -0.6952491402626038, -5.913081645965576, -1.9034616947174072, 2.028671979904175, -9.168253898620605, -4.890169620513916, -6.293857097625732, -12.535515785217285, 0.8205580115318298, 2.1050145626068115, -1.060998558998108, -6.346084117889404, 6.0886030197143555, 10.046435356140137, -8.700643539428711, 10.276070594787598, -6.881532192230225, 12.790266990661621, -6.238618850708008, 4.500137805938721, 0.04147965461015701, -6.293654918670654, 4.97046422958374, 3.2241225242614746, -1.9886285066604614, -3.47052001953125, 7.258117198944092, 5.308796405792236, 4.46231746673584, -5.299937725067139, 12.573189735412598, -5.188672065734863, 0.18223044276237488, 8.267574310302734, 7.928648948669434, 10.725440979003906, 0.01878960058093071, -5.611926555633545, -4.42171573638916, -12.555704116821289, 4.238541126251221, 2.190704822540283, 10.887365341186523, 6.419081211090088, -2.8997349739074707, -1.698582649230957, -7.232877254486084, 4.2132344245910645, 0.7926534414291382, 8.260171890258789, -3.8391571044921875, -3.5563106536865234, 4.729176998138428, -4.840904712677002, -9.122138023376465, -8.45156192779541, 3.0304903984069824, 2.170427083969116, 4.068047523498535, 5.520313739776611, 0.22420446574687958, 11.464914321899414, -3.169644594192505, 6.458604335784912, -13.910551071166992, -2.8506205081939697, 0.902844250202179, 0.5302659273147583, 9.101968765258789, -4.753509521484375, -4.1457295417785645, -4.237625598907471, -3.1893668174743652, 1.0210986137390137, 11.71916675567627, -4.861399173736572, 1.9547948837280273, 1.892386555671692, 9.254962921142578, 2.145650863647461, -2.6129391193389893, -0.36578062176704407, 1.7376686334609985, -4.835477352142334, -9.953539848327637, -3.4690499305725098, -1.610405445098877, 2.369150161743164, 4.5036749839782715, 3.019852876663208, -1.8960260152816772, -15.05897331237793, -13.151276588439941, -8.120479583740234, 11.560752868652344, -6.4533867835998535, 4.9029340744018555, 10.942583084106445, 5.191531181335449, 11.478809356689453, 6.050632953643799, 0.4395313858985901, -4.725982189178467, -6.87554407119751, 0.6107104420661926, -10.104598045349121, -1.9706034660339355, 9.199492454528809, 2.0345890522003174, -2.7922377586364746, 1.776052474975586, -11.942912101745605, 13.230591773986816, 3.774829626083374, -5.1422905921936035, -6.646570682525635, -1.3634397983551025, -6.8430328369140625, -6.665038108825684, 13.751717567443848, 8.244707107543945, -6.413499355316162, 5.391184329986572, 2.7614388465881348, 6.0453033447265625, 13.840145111083984, -3.7696120738983154, 1.1278541088104248, 7.538772106170654, -0.09278055280447006, -5.3408050537109375, 7.1591362953186035, 5.323443412780762, -13.342428207397461, -5.426084518432617, 5.409446716308594, -7.426687717437744, 2.767895460128784, -2.0726430416107178, 2.2049782276153564, 6.72247314453125, -9.322338104248047, -3.685915946960449, 0.22421322762966156, -1.1280385255813599, -8.577898979187012, -14.024862289428711, -2.4138922691345215, 4.987924575805664, 4.816234111785889, 2.798015832901001, 8.204648971557617, -5.198575019836426, -11.801759719848633, -5.56002140045166, 4.605949401855469, 6.132867813110352, -3.997163772583008, 0.038956303149461746, 2.087618350982666, -0.7050431966781616, -0.7857059240341187, 9.275854110717773, 7.247408866882324, 12.367513656616211, 1.0219541788101196, -4.9127726554870605, 0.7486430406570435, -4.252054214477539, 0.05620357766747475, -0.18325819075107574, -1.3100827932357788, 7.970761775970459, 8.192076683044434, -2.973149061203003, -4.030215263366699, -9.143487930297852, -7.7981977462768555, -2.5730271339416504, -0.8809083700180054, 4.13077449798584, 0.5326783657073975, 5.153495788574219, -1.2707921266555786, -3.4418652057647705, -8.640336990356445, -11.678797721862793, -3.1198246479034424, -5.196585655212402, 11.203421592712402, 11.358154296875, -3.3081142902374268, -9.129414558410645, 12.132248878479004, 4.690796375274658, 1.217538595199585, -3.150578498840332, 0.6679806113243103, -6.682979583740234, 14.669873237609863, 12.843306541442871, -1.428654670715332, 0.4983515739440918, -0.4267517328262329, -6.667830944061279, -2.3395938873291016, 1.687502384185791, 5.249504566192627, -3.6075439453125, -6.662982940673828, 11.930954933166504, -4.79783821105957, -6.656949043273926, -4.403744220733643, 5.594101428985596, 7.607072830200195, -4.794322490692139, 6.533573627471924, -8.325211524963379, 11.06320858001709, 8.356863975524902, -3.398787498474121, 4.272914886474609, 10.71517276763916, -0.002231195569038391, -4.953129768371582, 12.472467422485352, -7.845047473907471, -6.0537800788879395, 10.120598793029785, -6.314449310302734, 0.5501707792282104, -3.001718282699585, -4.301179885864258, -9.589849472045898, -1.3363529443740845, -7.506105422973633, -8.106745719909668, -1.1879569292068481, -7.119894504547119, -6.113828182220459, -11.560371398925781, -9.333815574645996, -4.006765842437744, 1.4382734298706055, 2.777707815170288, -6.853980541229248, -1.8294025659561157, 8.601510047912598, -3.3710622787475586, 1.8444451093673706, -4.458829402923584, -3.452571153640747, -5.175395965576172, 0.4999328851699829, 3.3733274936676025, -7.513503551483154, 0.7918357253074646, -2.6364316940307617, -1.709754467010498, -3.3436241149902344, 6.1251678466796875, -5.605874538421631, 7.948009490966797, -1.3844249248504639, -2.749180316925049, 10.560869216918945, -2.637470245361328, -11.273179054260254, 11.877667427062988, -5.442273139953613, 0.9297444820404053, -7.118243217468262, 3.1310436725616455, 4.796749591827393, -0.2723867893218994, -4.177735328674316, -6.67515754699707, 4.016549110412598, 1.3091835975646973, 0.2355189025402069, -3.4762539863586426, -0.3034619688987732, 11.759294509887695, -4.231532573699951, 0.9076998233795166, -9.354137420654297, 2.850701093673706, -0.24198830127716064, -3.381214141845703, 3.2335126399993896, -7.320901870727539, 8.999924659729004, 9.406041145324707, 6.135060787200928, 3.752458095550537, -3.702467441558838, 10.136083602905273, 4.644759654998779, 13.767007827758789, 11.655248641967773, -13.260236740112305, -8.130819320678711, -4.750126838684082, 1.7480913400650024, -6.34015417098999, -5.954691410064697, -4.409812927246094, 4.983518123626709, -4.163427829742432, -5.987939357757568, 3.0003297328948975, -4.124632358551025, 3.8640661239624023, -13.551190376281738, 0.39886215329170227, 4.289161205291748, -10.533414840698242, -2.0978429317474365, 2.5748894214630127, 12.538198471069336, 11.385377883911133, -5.879343032836914, -7.704910755157471, 1.5270063877105713, 1.8026275634765625, 2.1104977130889893, -4.761459827423096, 1.9856281280517578, 5.3169264793396, -4.942680835723877, -2.68534255027771, -10.618973731994629, 2.279876232147217, -6.248959541320801, 11.052385330200195, 5.1036810874938965, 0.4471181035041809, 8.321364402770996, 7.971807956695557, -2.8114516735076904, 4.4851155281066895, 1.2035770416259766, 2.3014028072357178, -5.463089466094971, -7.302474021911621, -10.404101371765137, -3.1563150882720947, -6.607959270477295, 9.715343475341797, 6.412233829498291, -11.576348304748535, -8.051395416259766, -2.484217405319214, 8.802389144897461, 5.797373294830322, 8.176409721374512, 5.461668491363525, -12.15288257598877, -10.361977577209473, -1.3172365427017212, 5.0294508934021, 1.9187265634536743, -6.021824359893799, 0.7568836212158203, 7.303206920623779, -6.877246856689453, -4.99784517288208, 3.3891403675079346, 0.1905120313167572, 4.668308258056641, 1.5583748817443848, -0.08488743007183075, 8.07138442993164, -11.791095733642578, -3.8641254901885986, 6.507404327392578, 1.4360854625701904, -5.345949172973633, -4.018057346343994, 0.7772878408432007, 4.014947414398193, 11.00861930847168, 8.267865180969238, -1.4591835737228394, 12.206945419311523, -6.0321197509765625, 7.732818603515625, 3.10799241065979, -0.5311375856399536, -1.0598018169403076, -13.039034843444824, -10.988707542419434, -2.858448028564453, 2.8033008575439453, 1.9158204793930054, 4.542823314666748, -11.80804443359375, -7.531241416931152, -3.096705675125122, -4.593811511993408, 8.608546257019043, 6.930281162261963, -11.680424690246582, -7.148135185241699, -2.906625270843506, -1.6946088075637817, -14.060197830200195, -1.5167341232299805, -2.303241014480591, 6.570653438568115, 1.12530517578125, 4.726704120635986, -7.0066046714782715, 0.496470183134079, -12.749488830566406, 1.9110676050186157, 4.946235656738281, 5.211703777313232, -10.829191207885742, 0.7980923056602478, 4.870530128479004, -1.591526746749878, 4.128109455108643, 6.136171340942383, 4.477636814117432, 2.997978448867798, -1.1070003509521484, -5.312963485717773, -8.756962776184082, 7.244968891143799, 12.447403907775879, -3.311210870742798, 8.819125175476074, -7.146834373474121, 6.1061482429504395, -3.2894628047943115, 11.431511878967285, 8.52680778503418, 6.418968677520752, 2.30922794342041, 0.44218865036964417, 3.839580774307251, 14.690301895141602, 0.2885577082633972, -0.23518288135528564, 6.135366916656494, -2.1329967975616455, -0.9699254631996155, 1.4042211771011353, -0.6246889233589172, -6.677814960479736, -4.283722877502441, 3.814089775085449, -1.6412110328674316, -5.702734470367432, -2.1035633087158203, -1.028678297996521, -0.5409638285636902, -8.317508697509766, -7.376077175140381, -7.9209184646606445, -1.4091099500656128, -13.423272132873535, 5.24246883392334, -6.094338893890381, 12.658917427062988, -3.3702480792999268, 7.963066101074219, -5.427342891693115, -12.865532875061035, -3.8204078674316406, 0.8314490914344788, 0.08360958099365234, -1.672876238822937, 8.667261123657227, 6.261930465698242, 9.6146879196167, -0.4133291244506836, 4.733966827392578, 4.546485424041748, -5.7561116218566895, -8.136984825134277, -0.10358469188213348, 1.8123496770858765, 8.61625862121582, 6.074845314025879, -0.28734585642814636, -6.729457855224609, -3.111558437347412, 0.47052085399627686, 3.705390691757202, -3.540156364440918, 2.461019992828369, 6.302114486694336, -1.0270452499389648, -0.14899444580078125, 3.039710760116577, -7.005021572113037, 3.276339054107666, -6.539169788360596, -4.7600626945495605, 13.129842758178711, -6.9850053787231445, 9.720231056213379, 0.1796010583639145, -8.602879524230957, -5.722071647644043, -1.0049525499343872, -2.5770411491394043, 0.0053922999650239944, 6.86199951171875, 0.6478297710418701, 1.7535587549209595, 0.35004743933677673, -6.283878326416016, 3.53468656539917, -5.781588554382324, 4.918066024780273, 0.8515419363975525, -4.639481544494629, 2.7442281246185303, 3.0752031803131104, -3.3648500442504883, -1.187018871307373, -8.412688255310059, 6.5003662109375, -3.6807408332824707, -12.970714569091797, 10.1839017868042, -9.291351318359375, 15.214412689208984, 8.689203262329102, 13.231172561645508, -14.013836860656738, -7.78208589553833, 4.459640979766846, 9.206914901733398, 1.421822190284729, -1.538791298866272, -0.4261055886745453, -2.8923323154449463, 8.087297439575195, 1.995818018913269, 2.5908257961273193, -6.032017230987549, -6.892335891723633, -14.059318542480469, 2.877495527267456, -3.0776584148406982, -1.5249605178833008, 10.994685173034668, 3.639085531234741, 15.989782333374023, -3.2026562690734863, 1.282512903213501, -0.038026515394449234, -0.5388020277023315, -2.928032159805298, -3.0190908908843994, -3.7579476833343506, -2.4849720001220703, 10.58694839477539, -4.834835529327393, -9.861001014709473, -5.747704029083252, 13.186119079589844, -11.290410041809082, 7.871190071105957, 11.541777610778809, 4.389618873596191, -9.335408210754395, -8.176851272583008, -5.066936016082764, -4.736912727355957, 1.1349178552627563, -3.824425220489502, -5.093036651611328, -4.909969329833984, -9.813008308410645, 3.0648458003997803, 2.158191204071045, -12.580007553100586, 0.7305166125297546, 1.5961766242980957, 4.034342288970947, -10.725418090820312, -2.222135543823242, 6.55150032043457, 8.334175109863281, -9.432353019714355, -0.2679789364337921, -10.147799491882324, 1.177040457725525, 5.775937557220459, 5.212892532348633, -7.033924579620361, -5.8541131019592285, 2.4137723445892334, -9.905858039855957, -1.430577278137207, 5.854303359985352, 6.297567844390869, -1.549385666847229, -7.408541679382324, 4.717172145843506, -2.8720176219940186, 12.672980308532715, -9.271509170532227, -7.3701934814453125, 12.230135917663574, -7.658938407897949, 0.5148541927337646, 0.561255693435669, 5.693314075469971, -0.39535975456237793, 10.921157836914062, -1.3127593994140625, 1.4200025796890259, 0.8797034025192261, 13.586197853088379, 1.9955079555511475, 2.8573031425476074, -4.129741668701172, 8.750670433044434, 0.9548544883728027, -7.734246730804443, -7.815797805786133, 9.3235502243042, 7.4719061851501465, -10.45394229888916, -5.70264196395874, -11.640633583068848, 0.9018806219100952, 10.825546264648438, -6.637042999267578, -5.809970378875732, 11.282166481018066, -4.013333320617676, -14.736074447631836, 3.7197320461273193, -5.396944046020508, -4.593332290649414, -8.333760261535645, -12.536260604858398, -2.894969940185547, -7.297921657562256, 3.226080894470215, -1.5139399766921997, 13.841540336608887, 4.355172634124756, -11.665140151977539, -5.564029216766357, -13.2852201461792, -5.742461681365967, 17.794574737548828, -0.5943175554275513, -1.1737849712371826, -14.71455192565918, -5.600098133087158, 8.819950103759766, 0.40316370129585266, 2.8017618656158447, 7.574150085449219, 4.561281681060791, 4.457775592803955, 0.8264778256416321, 1.100075125694275, -7.628905773162842, 6.59921407699585, -5.928762912750244, -3.9587676525115967, -1.5396054983139038, -0.33877134323120117, 0.30606961250305176, 5.823783874511719, -11.000788688659668, 8.57017707824707, 3.754152774810791, 7.323854446411133, -1.5028337240219116, -4.372745513916016, -9.583952903747559, -4.5351362228393555, 8.472428321838379, 3.205770492553711, 1.0439200401306152, 2.1247377395629883, -6.1909027099609375, -5.697315216064453, 8.02406120300293, -2.067225694656372, -7.345156192779541, 2.7650725841522217, -11.094874382019043, 4.351254463195801, -8.17817497253418, -5.433591842651367, 5.452608108520508, -7.148662090301514, 10.072141647338867, -10.258406639099121, 10.440232276916504, -1.2826564311981201, -1.0917222499847412, 4.428818225860596, -10.953662872314453, 1.5541839599609375, 4.443464756011963, 6.994206428527832, 5.152390480041504, -5.67966890335083, 9.410696983337402, 1.3510981798171997, 1.4507654905319214, 2.6808419227600098, 1.8380829095840454, 12.924012184143066, 3.561579704284668, 0.8986912369728088, 10.278788566589355, -6.061087608337402, 3.032946825027466, 2.887840509414673, -14.329534530639648, -0.011292669922113419, 11.306402206420898, 3.576005697250366, -2.6971147060394287, -3.5672357082366943, -12.81440544128418, -12.212656021118164, -3.103759765625, -10.087282180786133, -3.0326666831970215, 10.795550346374512, -3.0145297050476074, 12.867232322692871, 7.965802192687988, -3.520651340484619, 5.60970401763916, 7.059380054473877, -3.5818185806274414, 8.82984447479248, -4.560128211975098, 4.567309856414795, -6.2382493019104, 12.74126148223877, 0.7827704548835754, 5.647955417633057, 8.93920612335205, -5.6251983642578125, 6.644698619842529, 2.958732843399048, -3.7846875190734863, -10.297030448913574, 1.3271586894989014, -11.821501731872559, -12.428705215454102, -5.76024866104126, -11.104181289672852, -9.17538833618164, -3.751120090484619, -7.714125156402588, -4.551723480224609, 2.1301393508911133, -0.13149820268154144, 6.238410472869873, -6.8384222984313965, -13.965858459472656, -6.763734340667725, -6.849402904510498, -7.167720794677734, 8.197319984436035, 11.336109161376953, -10.474176406860352, -13.597698211669922, -2.0326409339904785, -10.60947322845459, 5.267364978790283, -4.108820915222168, 10.958250999450684, 4.78475284576416, -0.21807613968849182, -8.469202041625977, 4.0213398933410645, 8.63634967803955, 11.088354110717773, 1.788083791732788, 3.885453701019287, -6.464221000671387, -4.07384729385376, 8.945123672485352, 1.0413705110549927, -4.161148548126221, -11.805497169494629, 1.4521214962005615, -5.192916393280029, -3.1381726264953613, 1.4599764347076416, -2.9430017471313477, -2.262721061706543, 4.100306510925293, 6.9613776206970215, 8.591438293457031, -11.77623462677002, -1.9549938440322876, -8.127284049987793, -0.10904030501842499, 2.3059194087982178, 1.99022376537323, 4.077963829040527, 10.191144943237305, -4.321284770965576, 0.14442630112171173, 1.7090253829956055, 0.5333853960037231, 2.4467453956604004, -4.9097700119018555, -7.5026140213012695, 1.5409458875656128, 3.1421027183532715, 5.494278907775879, 2.5019659996032715, -0.8485541343688965, -2.142897367477417, -5.584967613220215, -4.023746490478516, 12.924571990966797, 5.0354323387146, -7.824931621551514, -6.773110866546631, -8.765840530395508, 5.048306465148926, -0.38625094294548035, -3.0210440158843994, -9.177483558654785, -6.730453014373779, 4.222550868988037, 10.324124336242676, 4.268727779388428, 1.327958106994629, -5.251827239990234, -1.9852856397628784, -8.870206832885742, -3.216433048248291, 3.7408366203308105, 11.348950386047363, 10.456629753112793, 6.071139812469482, 0.821666955947876, 10.826825141906738, -2.5441973209381104, 7.748269081115723, -3.6901915073394775, 3.6654577255249023, 1.6998223066329956, -4.03951358795166, 0.1817575842142105, -9.335531234741211, 6.937265396118164, 3.781085729598999, -5.826198577880859, -5.1130170822143555, 3.2446789741516113, -2.0554773807525635, -1.6747426986694336, -2.586688756942749, 8.958642959594727, 10.908713340759277, 10.986793518066406, 4.560897350311279, -9.896299362182617, -8.902551651000977, 11.415523529052734, -0.5451082587242126, -7.588220596313477, 7.425088882446289, -7.390257358551025, -0.529301106929779, -4.174294948577881, -4.71136999130249, -2.6101701259613037, 5.8313517570495605, 5.002871036529541, 1.1427195072174072, 1.3598779439926147, 1.2745227813720703, 4.531577110290527, 10.062142372131348, 4.795182704925537, -11.558734893798828, 9.44379997253418, 0.5709846019744873, -1.6856391429901123, 2.3058969974517822, 5.185549259185791, -0.1709568202495575, -9.46129035949707, 4.538662910461426, 4.647064685821533, -9.438703536987305, -5.502226829528809, 5.409511089324951, 0.6073752641677856, 3.049525499343872, -7.339324474334717, -0.3744804263114929, 9.500864028930664, -9.107497215270996, -8.341846466064453, -7.797652721405029, 7.428788185119629, 9.228376388549805, -3.113898754119873, 11.69039249420166, 12.57524585723877, 12.376618385314941, -1.6679822206497192, 11.083845138549805, 5.838281631469727, -3.3858954906463623, 11.629938125610352, 10.40422248840332, 2.416245222091675, -0.2738071084022522, -4.775134563446045, -6.594120025634766, -14.188640594482422, 1.6558252573013306, -8.332847595214844, 12.676626205444336, 8.685362815856934, -3.404568910598755, -3.5346872806549072, 6.49500846862793, 5.601161479949951, -4.886843681335449, 0.6858580112457275, 1.2580822706222534, -5.794147968292236, -8.861804962158203, -7.86004638671875, -1.7448835372924805, -8.434330940246582, -3.7844858169555664, 2.644850492477417, -8.862646102905273, 3.0808684825897217, -7.872783660888672, 8.49765396118164, -0.2845800220966339, -3.652315616607666, -2.437997341156006, 4.277074337005615, -3.7125608921051025, -3.688776969909668, 6.455537796020508, -0.7882072925567627, -0.2854548692703247, -5.074735164642334, 2.887413740158081, -10.126923561096191, 8.894487380981445, -6.556576251983643, 5.67169189453125, -4.338776111602783, -10.197471618652344, 4.295844554901123, 5.694007396697998, 4.744067668914795, -1.4273390769958496, 4.029431343078613, -6.762720584869385, -4.067302703857422, 5.986403942108154, 11.5630464553833, -2.5523312091827393, 7.008435249328613, 5.749209880828857, 8.853948593139648, 12.050708770751953, -6.227712631225586, 14.030457496643066, -8.555862426757812, 9.041651725769043, -4.341224193572998, 5.677609920501709, 3.018953323364258, -5.465227127075195, -4.338795185089111, 1.8538329601287842, 9.284762382507324, -6.978664875030518, 7.475405693054199, -3.3851442337036133, 2.7842626571655273, 7.347321033477783, 4.4146881103515625, -7.712732791900635, 13.290666580200195, -2.5241544246673584, 2.6257314682006836, 1.8053333759307861, 12.608708381652832, 8.78978443145752, 7.528049945831299, -6.90265417098999, -4.176013946533203, -2.8133678436279297, -13.607412338256836, 0.15024898946285248, -9.460604667663574, -14.114789962768555, 1.9708034992218018, 5.525418758392334, -10.51014232635498, 12.648735046386719, 3.4030468463897705, -6.108767986297607, -3.133016347885132, 0.9381924271583557, 8.999269485473633, 3.8206183910369873, -3.0189225673675537, -6.925668239593506, 6.625214099884033, -1.4197498559951782, -0.4476296305656433, -10.403618812561035, -1.618937373161316, 6.933590888977051, -6.393714427947998, -3.792962074279785, -2.6884565353393555, -13.853635787963867, -6.134571075439453, -2.5806100368499756, 8.929474830627441, -6.979379653930664, -2.9572155475616455, 7.329456806182861, 4.219254016876221, 8.72024154663086, -4.044765472412109, 6.1262712478637695, -0.2668832838535309, 0.1943904608488083, -2.4292662143707275, -5.4934539794921875, -0.9725284576416016, 0.30848950147628784, -8.589215278625488, 0.14569419622421265, 10.155206680297852, -2.029341697692871, -0.22741416096687317, 0.9674515128135681, -10.186833381652832, -7.496176719665527, -9.235737800598145, -6.163422584533691, 13.62753963470459, 11.153915405273438, -15.168482780456543, -5.420149326324463, 2.1418631076812744, 7.492020606994629, -11.429829597473145, 2.1742355823516846, 4.716658592224121, 3.0858981609344482, 8.711084365844727, 0.6349607706069946, 0.39757758378982544, -1.0632723569869995, -5.778824329376221, -4.117569446563721, -1.985835075378418, 10.161360740661621, 5.555479526519775, -11.39966869354248, 5.834043502807617, -1.9272360801696777, 6.906980514526367, 3.832407236099243, -0.18038426339626312, 11.253363609313965, -4.533071994781494, -3.8448338508605957, 7.116217136383057, 9.260391235351562, -9.523699760437012, 12.645316123962402, -9.217281341552734, 2.8064935207366943, 3.483548641204834, -5.230702877044678, -6.4791717529296875, -7.544774532318115, 9.73415756225586, -5.7911248207092285, -3.3815853595733643, 13.613988876342773, -3.5221855640411377, -5.383612155914307, -5.299423694610596, -11.87912368774414, -11.741802215576172, 4.956729412078857, -3.506951093673706, -1.0176670551300049, 9.054271697998047, 10.12290096282959, 6.2802629470825195, 6.478922367095947, 5.374428749084473, 8.618370056152344, -10.688864707946777, 1.8161402940750122, -9.714969635009766, 9.606905937194824, 8.088533401489258, -14.223356246948242, 1.1989617347717285, 10.561055183410645, -4.1283159255981445, 6.038771152496338, 13.449647903442383, 2.8382444381713867, -4.29478120803833, -11.769610404968262, -2.965806007385254, -2.5148720741271973, 6.262537956237793, -1.5696957111358643, -0.6812555193901062, 5.023983955383301, -1.3365005254745483, -3.763368844985962, -13.610098838806152, -3.38218092918396, 9.360764503479004, -4.943252086639404, -3.954352855682373, -5.8375420570373535, 7.556789875030518, -7.945620059967041, -6.176285743713379, -6.980808258056641, -3.9790968894958496, -11.15053653717041, 6.921419143676758, -14.239845275878906, -0.06707902252674103, -11.426339149475098, -7.089449405670166, 10.096884727478027, 4.102575778961182, -7.349632263183594, 4.223755836486816, -4.3223772048950195, 13.2029390335083, 1.075984001159668, -2.878880262374878, 11.331957817077637, -6.333014965057373, -2.729739189147949, -3.844200611114502, -1.7406120300292969, 4.435466766357422, -0.26880380511283875, 3.2215967178344727, -11.157691955566406, 5.104153156280518, -3.952542781829834, 1.7364773750305176, -1.693960428237915, 10.267494201660156, -3.11952805519104, 9.808064460754395, -9.961359024047852, -0.8729338049888611, -6.913360118865967, 6.330272197723389, -7.259368896484375, -12.149762153625488, -0.9722715616226196, -3.4310247898101807, -7.6042046546936035, -10.45559310913086, -0.36362576484680176, -2.4026424884796143, 7.86132287979126, 10.733930587768555, -7.995017051696777, -6.964820384979248, 6.05021333694458, -6.644750595092773, -3.409574031829834, -2.146130084991455, -2.1471128463745117, -2.60306453704834, -6.922508239746094, 9.013429641723633, 2.2596633434295654, 11.314963340759277, 7.0949578285217285, -3.093233823776245, -4.010822296142578, 4.52101993560791, -7.32759952545166, -8.775657653808594, 11.019776344299316, -5.475204944610596, 12.426216125488281, -3.7543091773986816, 3.2743284702301025, 10.504983901977539, -12.668161392211914, -0.9347090125083923, -3.5567028522491455, 13.817988395690918, 13.69267463684082, 0.6904296278953552, -7.660681247711182, 13.629840850830078, -9.195345878601074, -0.5440739989280701, 12.296606063842773, -5.024779319763184, 11.400443077087402, 0.5091552138328552, -2.4488532543182373, 0.26539146900177, 5.674351692199707, -7.575151443481445, -2.974346160888672, -14.286999702453613, -0.548724889755249, -11.97878646850586, 10.430838584899902, 7.758951187133789, 6.698058605194092, -4.6063103675842285, -2.2611725330352783, 2.8541276454925537, -8.098847389221191, 7.709230422973633, -0.550407886505127, 3.278035879135132, 10.163917541503906, -5.374445915222168, 10.77411937713623, 11.85953140258789, 12.736150741577148, -1.0722315311431885, 4.025679111480713, 5.548900127410889, -0.732515275478363, 7.692203998565674, 6.771459579467773, -9.882462501525879, -1.977205753326416, 5.37925386428833, 1.6065921783447266, 13.160860061645508, -4.230999946594238, -11.142583847045898, 4.066503524780273, 2.3295109272003174, 8.86196517944336, 3.0221593379974365, 1.787740707397461, -14.391944885253906, -5.481832981109619, -7.755966663360596, -3.815247058868408, 12.819684982299805, -7.234087944030762, -3.2690649032592773, 11.715389251708984, -10.411322593688965, -13.823015213012695, 6.847805500030518, -6.726582050323486, 9.224984169006348, 0.54253089427948, -3.4944655895233154, 5.83378791809082, -7.674256801605225, 8.718027114868164, -2.8586626052856445, 10.113821983337402, -6.268914699554443, 12.356579780578613, -7.467246055603027, 3.940894365310669, 1.6661479473114014, -6.067786693572998, -0.7562403678894043, 12.777022361755371, -0.01226809248328209, -11.167902946472168, 0.9670395255088806, 3.1172847747802734, 10.436826705932617, 10.758638381958008, -7.9059906005859375, 11.372533798217773, -4.9410786628723145, 5.787501811981201, 1.6177271604537964, 1.2299017906188965, -2.2096481323242188, 1.4138000011444092, -5.790667533874512, 2.9818966388702393, -2.7699899673461914, 11.570761680603027, 3.802138328552246, -6.681304454803467, 0.11901505291461945, -12.403877258300781, -1.1582900285720825, 13.34085464477539, -11.589653968811035, -8.736421585083008, -14.643536567687988, 7.862613677978516, -5.0550384521484375, 3.4840359687805176, -6.145802974700928, -12.650492668151855, 11.962882041931152, 6.249564170837402, -4.903648376464844, 2.5786514282226562, -12.652615547180176, 1.8047865629196167, -4.1539106369018555, 5.620537281036377, -3.612642765045166, -0.047816090285778046, 10.827862739562988, 0.22948144376277924, 10.968710899353027, 10.108321189880371, -5.455323219299316, 2.1191093921661377, 6.519627571105957, 11.353608131408691, -1.616021990776062, 7.283315181732178, -2.5344722270965576, -6.240606784820557, 14.266542434692383, -6.928764343261719, 10.684981346130371, -9.641374588012695, -0.10807216167449951, -6.590855121612549, -2.0327658653259277, -7.049167633056641, 10.155111312866211, 3.5889334678649902, -3.0129995346069336, 1.9769206047058105, 5.4319047927856445, -8.303552627563477, -8.483719825744629, 6.056496620178223, -3.1988139152526855, -4.4682111740112305, 12.48244857788086, -4.937258243560791, 11.378053665161133, -7.93710470199585, -5.679846286773682, -4.45763635635376, -0.984745979309082, -7.240316390991211, -6.697494029998779, 1.0038385391235352, -4.513951778411865, 9.352999687194824, -6.054281234741211, -5.139325141906738, -2.540893316268921, 0.4934256374835968, -7.772396087646484, -11.96037483215332, 9.168386459350586, 6.8842973709106445, 9.980228424072266, 5.362450122833252, 13.107683181762695, -6.9726433753967285, -7.383229732513428, -6.940751075744629, -5.5895771980285645, -10.013151168823242, -12.708794593811035, 8.499472618103027, 5.313710689544678, -8.172083854675293, 5.299531936645508, 11.221853256225586, 6.035426616668701, 6.329880714416504, 2.0211188793182373, -6.341026782989502, 6.399942398071289, -1.490395426750183, 6.040493488311768, -4.7023491859436035, -4.875252723693848, 6.126148223876953, -3.181051254272461, 12.530580520629883, 4.260962009429932, -8.860337257385254], \"z\": [5.835107803344727, -4.036101818084717, -3.7248926162719727, 0.4283387362957001, 7.493292331695557, -2.2206966876983643, -4.020434379577637, -14.34920883178711, 7.881592750549316, 0.15048538148403168, 9.787038803100586, -8.055757522583008, 2.174315929412842, 6.845155715942383, -13.539274215698242, -2.391491174697876, 13.229514122009277, -15.926149368286133, -5.3936381340026855, -15.402854919433594, 1.4913325309753418, 4.9516448974609375, 10.889764785766602, 7.279136657714844, -9.817659378051758, -12.778167724609375, -3.8959295749664307, -15.464516639709473, -16.02654457092285, 11.65135383605957, -1.3933007717132568, 0.27533668279647827, 6.1605224609375, 1.5622152090072632, -4.791057586669922, 3.2538232803344727, 6.757731914520264, 1.84877610206604, 1.2030837535858154, -12.78894329071045, -2.049755096435547, -13.28106689453125, 6.799290180206299, 1.0189235210418701, -12.86470890045166, -3.2379441261291504, -3.1848056316375732, -11.791834831237793, -5.003680229187012, -10.94267749786377, 5.578096866607666, 3.532874584197998, 4.424661636352539, -4.004293918609619, 4.205752849578857, -4.04982852935791, 7.215858459472656, -16.40205192565918, -4.683226108551025, -4.010897159576416, 1.8296195268630981, 7.0116496086120605, -3.680809736251831, -7.810861587524414, 4.605220794677734, 7.115035057067871, 7.162720203399658, 10.333232879638672, 7.0970234870910645, 4.676191806793213, -4.155651569366455, 0.3535958230495453, -4.216895580291748, 7.343057155609131, -5.352886199951172, -2.1083810329437256, 2.5468544960021973, 3.1450355052948, -3.5275661945343018, 7.7540364265441895, 8.3186616897583, -10.129547119140625, 7.097017765045166, -7.36692476272583, 4.565813064575195, 13.633423805236816, -6.4511284828186035, 7.571881294250488, 0.3142286539077759, -11.325542449951172, 11.164369583129883, 6.721809387207031, -0.828984260559082, 5.570606708526611, 2.3338167667388916, 7.205207824707031, 0.5012018084526062, -4.956521987915039, -2.0544943809509277, -6.250774383544922, -4.055942058563232, 6.635959625244141, -3.933817148208618, 10.33909797668457, 3.266167640686035, -6.508954048156738, -1.3926641941070557, 5.700210094451904, -1.3287672996520996, -5.367002010345459, 8.322622299194336, 12.727315902709961, 4.6958746910095215, -5.235422134399414, 0.3356435000896454, 8.55632209777832, 5.4493279457092285, 10.74292278289795, 8.532252311706543, 5.902755260467529, 5.225360870361328, 7.167218208312988, 3.3498237133026123, 9.481818199157715, 2.7029993534088135, -3.458345413208008, 7.46078634262085, -1.269975185394287, 0.3808228671550751, -8.29799747467041, 9.2302827835083, 6.819727897644043, 3.116727352142334, -11.73442268371582, 2.080810070037842, 0.4671493470668793, -13.399360656738281, -14.047931671142578, 0.6112828254699707, 8.004011154174805, 5.519122123718262, 13.636762619018555, -3.9075276851654053, 4.164618015289307, -14.985875129699707, -0.09473970532417297, 0.2624357342720032, -11.045654296875, 3.4094607830047607, 14.427793502807617, -12.998262405395508, 6.949183464050293, 9.39698314666748, 10.411391258239746, -2.145235538482666, 7.917445659637451, 2.1956284046173096, 9.113749504089355, -6.157626628875732, -8.507170677185059, -6.512701034545898, 1.3241454362869263, -2.311829090118408, -9.34976577758789, 5.227975368499756, -1.9336315393447876, -4.145333290100098, -7.284709453582764, 8.159354209899902, -9.525871276855469, -17.127668380737305, -1.5329560041427612, 6.77979850769043, -0.3637808859348297, 8.77365493774414, -9.027985572814941, -3.0595760345458984, -3.7868521213531494, 2.301724910736084, 7.606924057006836, -6.335894584655762, 2.125504732131958, -12.491828918457031, 0.01812887191772461, 3.263212203979492, -8.709383964538574, -13.762924194335938, 0.9972776174545288, -0.9544697999954224, 6.105742454528809, -6.9860429763793945, 7.857273578643799, -7.478226184844971, -1.0235320329666138, -14.261737823486328, -1.96181321144104, 8.040141105651855, -2.697753667831421, 3.725616931915283, -12.338250160217285, 0.39473024010658264, 1.8719916343688965, 2.1458849906921387, 3.307396411895752, 9.938409805297852, 1.0543221235275269, -16.494792938232422, -16.458656311035156, 2.7318930625915527, 4.590263843536377, 4.734238147735596, 9.079142570495605, -5.299083232879639, 0.6277086734771729, -7.8762359619140625, -12.11799430847168, -5.627387523651123, -5.530149459838867, -1.1108320951461792, -10.485478401184082, -13.540172576904297, -4.113622188568115, -2.4530560970306396, 4.1586151123046875, -5.811302661895752, 8.632564544677734, -3.0471255779266357, 6.449179649353027, -14.632843971252441, 8.328133583068848, 6.842981338500977, -4.343097686767578, 5.494475364685059, 1.955588459968567, 3.325099468231201, 3.790778160095215, -0.7486031651496887, 2.8049490451812744, -0.8815314173698425, -15.524744987487793, -1.470851182937622, 7.076722145080566, 1.6613330841064453, 7.0465264320373535, -11.672313690185547, 3.9940857887268066, 1.2880127429962158, -9.465803146362305, -5.513844966888428, -0.732656717300415, -14.967833518981934, 4.594925403594971, -1.0209722518920898, 5.494488716125488, -0.39598891139030457, 8.514325141906738, -2.9952781200408936, -12.565569877624512, 5.514090538024902, -7.942971229553223, -12.996506690979004, -4.044617652893066, -2.562069892883301, 8.199838638305664, 12.66213607788086, 3.2888689041137695, 4.075534343719482, 2.625035047531128, 5.22619104385376, 4.217340469360352, 0.8961017727851868, 4.651124954223633, -10.991164207458496, 0.09816880524158478, 5.998941898345947, 7.446065425872803, 11.665414810180664, 0.5663931965827942, -3.140519142150879, -5.177647113800049, -7.068082809448242, -9.742834091186523, 5.342188358306885, -6.779542446136475, -0.7701531648635864, 11.862412452697754, 4.360803127288818, -2.813358783721924, -2.408972978591919, -13.907716751098633, 9.862228393554688, -5.472374439239502, -6.193693161010742, 9.6420259475708, 4.244009494781494, -0.36848440766334534, -2.583305835723877, 10.925238609313965, -11.492866516113281, -6.003562927246094, -2.44219970703125, -4.184581279754639, 2.0779571533203125, -4.1472296714782715, -0.6114065051078796, -3.525222063064575, -4.748141288757324, -2.5445752143859863, -9.473673820495605, -3.2804436683654785, 5.379606246948242, -0.05885881930589676, 4.596816539764404, 3.5578534603118896, 1.3776992559432983, 6.000048637390137, -7.654089450836182, -8.809874534606934, -14.664132118225098, -1.7451081275939941, -3.512418031692505, -1.2613097429275513, 8.753548622131348, 6.703110218048096, -3.574718713760376, 11.38668155670166, 0.8000701069831848, 9.946025848388672, 6.9574785232543945, 4.852053165435791, 4.284610748291016, 5.867513179779053, 9.335899353027344, 1.8898345232009888, 9.206605911254883, 0.17423592507839203, -10.484776496887207, -12.707836151123047, 11.953540802001953, -6.049877166748047, 3.6208417415618896, 9.592957496643066, -1.1580580472946167, 3.740877628326416, -6.569180011749268, 2.5126705169677734, 7.827943801879883, -1.9143500328063965, -16.2225284576416, -6.523024082183838, 12.198098182678223, 1.3795561790466309, 3.270270586013794, -5.073159217834473, -9.423463821411133, -1.3616188764572144, -6.338290691375732, -14.163995742797852, 11.506308555603027, -12.048860549926758, -17.004098892211914, -3.652898073196411, 8.88907241821289, 8.78541374206543, -11.525086402893066, 8.666665077209473, -2.6574270725250244, 6.727566242218018, 0.7567864656448364, 1.6457536220550537, -12.157978057861328, 2.0757954120635986, 5.015317440032959, 2.6433675289154053, 4.8333611488342285, -9.374290466308594, -2.162713050842285, 2.7507739067077637, 1.807586431503296, -4.954526424407959, -6.72961950302124, -9.397088050842285, -5.242214202880859, 1.5209943056106567, -2.737041473388672, -11.151346206665039, -1.6887609958648682, 1.2677407264709473, 8.005449295043945, -9.143781661987305, 5.600616455078125, -4.125888347625732, -11.625568389892578, -1.663175344467163, -0.668222963809967, 1.6290788650512695, -0.22349397838115692, 1.3445850610733032, 3.478898048400879, 9.983377456665039, 1.82061767578125, -1.7693382501602173, -6.559661388397217, 2.805676221847534, 7.174228668212891, 9.427505493164062, 1.1669811010360718, 3.1483240127563477, -2.6602272987365723, -7.482431411743164, -15.204771041870117, -0.931929349899292, -8.935574531555176, -8.942419052124023, 4.112820625305176, 3.241741180419922, -9.705906867980957, -8.613913536071777, 1.1382551193237305, 7.419290065765381, 6.663226127624512, -0.42171886563301086, 5.18609094619751, 0.7433390021324158, 5.568531036376953, -7.427751541137695, 8.489514350891113, 9.618094444274902, -15.129827499389648, -5.0005202293396, -2.133127212524414, 7.006065845489502, -0.2407044768333435, 6.81355094909668, 1.0204881429672241, 0.622157633304596, 5.395759582519531, -2.1139798164367676, 3.3556265830993652, -7.820087432861328, -5.524271011352539, 7.947876930236816, 4.254002571105957, 3.1283178329467773, 4.653512001037598, 5.96282958984375, 4.698265552520752, 0.7577123641967773, 10.030674934387207, 5.982177734375, -0.09985000640153885, 0.8588962554931641, -0.2236596792936325, 5.328651428222656, 4.800454616546631, -6.7423481941223145, -2.294212818145752, 9.555841445922852, 3.9520761966705322, 1.713268756866455, 4.391805648803711, -0.1243644654750824, -3.708543062210083, -13.263256072998047, -1.6008765697479248, -15.869372367858887, 2.4441304206848145, 0.14654919505119324, -4.805180549621582, -4.367335796356201, 6.881447792053223, 1.6027655601501465, 1.9111127853393555, 8.371811866760254, 1.766210675239563, 5.2979021072387695, 8.667128562927246, -5.542840003967285, -0.17279818654060364, 8.741567611694336, 5.108293533325195, -1.112882375717163, -7.1903815269470215, 2.9180502891540527, -14.903568267822266, 1.1317716836929321, 2.183889150619507, 10.239073753356934, -6.172298908233643, 2.4963650703430176, -1.6579859256744385, 5.191709041595459, 10.463790893554688, 9.545437812805176, -10.252555847167969, -4.54612398147583, -1.692687749862671, -13.086053848266602, -4.604353904724121, 2.4856927394866943, -4.2462992668151855, -3.3970305919647217, 3.8437623977661133, 5.0665812492370605, 7.813133716583252, -14.080617904663086, -7.132572174072266, 7.94597053527832, -14.178665161132812, 3.1020374298095703, -7.3646769523620605, 8.884193420410156, -7.693625450134277, -2.928586006164551, -5.4730095863342285, 2.4804375171661377, -0.22107943892478943, -11.796765327453613, -8.533299446105957, 3.406827926635742, 11.117361068725586, -5.746186256408691, 8.220682144165039, 4.835812091827393, 2.6707396507263184, 1.1857761144638062, -2.7694129943847656, -1.2023930549621582, 10.928680419921875, -13.840349197387695, -5.015330791473389, -6.566250801086426, -3.5992014408111572, 8.97584056854248, 8.82532787322998, 1.2537462711334229, 2.525710105895996, 4.548973083496094, -8.574976921081543, 4.458944320678711, 9.449918746948242, -1.9453181028366089, -14.268843650817871, 9.255127906799316, 7.636719703674316, -15.136595726013184, -0.102055124938488, 0.7312376499176025, 0.5912835001945496, 10.41949462890625, -0.19742226600646973, 5.206940650939941, 2.9370107650756836, 2.2130284309387207, -7.017588138580322, 2.8471059799194336, 8.883387565612793, -2.999208688735962, 14.23330307006836, 1.8575764894485474, 5.201391220092773, 0.17591765522956848, -5.138584136962891, -2.2077441215515137, 10.932897567749023, 11.369215965270996, 11.564590454101562, -14.126022338867188, -0.006941617466509342, -0.5684764981269836, -9.919027328491211, -13.510050773620605, 11.282194137573242, 0.8917369842529297, 6.90272331237793, -0.9831675887107849, 6.387170791625977, -0.08303368091583252, -0.09637611359357834, 8.311394691467285, -6.031982898712158, -8.967246055603027, 6.839612007141113, 1.9999589920043945, 3.1202592849731445, -4.1993536949157715, 8.867393493652344, 9.232850074768066, 8.361878395080566, 4.2430572509765625, -11.847599983215332, -6.0470452308654785, -3.0231707096099854, -4.873960494995117, 4.691068172454834, -11.829492568969727, 1.0365067720413208, -11.818772315979004, 7.375268459320068, 0.8971515893936157, -14.376216888427734, 4.108528137207031, -8.480113983154297, 6.511273384094238, -9.412605285644531, -4.415702819824219, 3.4224443435668945, 7.53715705871582, 1.5935825109481812, 6.592382431030273, 7.110064506530762, -4.067074298858643, -0.25261929631233215, 11.847336769104004, 3.091373920440674, 1.8841058015823364, 3.764364004135132, 1.8786251544952393, 3.236292600631714, -3.917832136154175, 9.98501968383789, 7.377346515655518, 10.13010025024414, 7.989516735076904, -8.225038528442383, -7.012088775634766, 5.325479984283447, 5.761770725250244, -14.66899585723877, -4.457390308380127, 7.278445243835449, 3.6300928592681885, 7.019642353057861, -0.8307778835296631, 6.719895362854004, 6.76353645324707, 13.691039085388184, 4.5611090660095215, 6.042628288269043, 9.165851593017578, 5.166064262390137, 0.5793291926383972, 1.0217801332473755, 9.306314468383789, 6.13968563079834, -8.879901885986328, 0.5891575813293457, 2.2641632556915283, 4.651358127593994, 7.484080791473389, 9.14268970489502, -2.8050012588500977, 3.872443914413452, 2.7882094383239746, 1.914751410484314, -0.07089726626873016, -16.020122528076172, 8.091326713562012, 13.504866600036621, -12.005049705505371, -7.614354133605957, 2.111074209213257, 7.104305267333984, -0.46304193139076233, 5.020086765289307, -4.701574802398682, -8.766714096069336, -8.820218086242676, -4.033115863800049, -0.8283129334449768, 0.16096848249435425, 9.030083656311035, 8.395169258117676, 1.4658055305480957, -2.3273372650146484, -13.510581016540527, 2.6261215209960938, -12.114580154418945, 8.958903312683105, -16.093687057495117, -3.047644853591919, 8.478984832763672, 6.438784599304199, -3.7167716026306152, -6.088768005371094, 7.92292594909668, 12.594500541687012, -9.726914405822754, -3.5005648136138916, -0.0859239250421524, 9.329231262207031, 5.182697772979736, 7.357548713684082, -4.25806999206543, -2.328033447265625, 8.058286666870117, 5.102789878845215, -3.242385149002075, -0.31051188707351685, 7.400106430053711, 11.588156700134277, -10.525277137756348, -2.2026522159576416, -9.159136772155762, 2.053056240081787, -3.929060935974121, -9.101099014282227, -3.9434144496917725, 0.1892406940460205, -7.556684494018555, -7.164328098297119, 0.9931470155715942, -7.877826690673828, 4.947567939758301, -15.599193572998047, 10.547749519348145, -6.064970016479492, 11.41493034362793, 5.861151695251465, 7.715512275695801, 1.7474051713943481, -4.362024784088135, 2.6090047359466553, 6.318079471588135, -4.752557277679443, 4.636834621429443, 0.9194804430007935, -1.3742135763168335, -5.512492656707764, -7.983432769775391, -4.878870487213135, -3.7495908737182617, -10.980602264404297, 3.4656803607940674, -0.9020066261291504, 0.9296417236328125, 2.578211545944214, 0.8342912197113037, -13.425955772399902, -2.0321121215820312, 1.8033405542373657, 12.078401565551758, 8.009967803955078, -11.030251502990723, -5.3745245933532715, 3.7975549697875977, 6.9968342781066895, -13.087305068969727, 10.767070770263672, -3.7827847003936768, 8.416695594787598, 2.2710025310516357, 11.938024520874023, -0.12885165214538574, 3.311638832092285, 5.9026970863342285, 11.841438293457031, 1.976991891860962, -1.9538248777389526, 10.537711143493652, 5.882241249084473, -1.0506324768066406, -1.3683589696884155, -14.045293807983398, -12.340227127075195, 1.332015872001648, -0.20070099830627441, -1.9846034049987793, 8.021716117858887, 4.031888484954834, -2.0171890258789062, 9.870451927185059, 7.875799655914307, 0.9530572295188904, -11.981128692626953, 0.703737735748291, -3.3130972385406494, 4.036276340484619, -7.979203701019287, 7.4851975440979, -1.2008031606674194, -1.863274097442627, 9.564776420593262, 2.2001144886016846, 13.268709182739258, 7.203787326812744, -15.249398231506348, -8.977653503417969, 6.824484825134277, -0.8917936086654663, -5.433102130889893, -12.2186279296875, 8.216752052307129, -1.278285026550293, 8.188709259033203, -2.8926608562469482, -8.082205772399902, 2.876638650894165, 10.252214431762695, -3.763322353363037, -9.816554069519043, 0.7839065194129944, -9.939857482910156, -6.29722785949707, 0.7832973003387451, -0.6095150113105774, -3.6457481384277344, 1.5576372146606445, -0.24632741510868073, 0.8047070503234863, 7.749288558959961, -15.220831871032715, 1.7236344814300537, -3.5765578746795654, 4.619290351867676, 1.5846328735351562, 2.0790183544158936, 0.6289519667625427, -8.41541862487793, -7.763423442840576, -9.382471084594727, 6.618800163269043, 11.740192413330078, -11.468016624450684, 5.571991443634033, -1.4142074584960938, -12.891883850097656, 2.5907137393951416, -5.364434242248535, 3.073119640350342, 13.568838119506836, 7.298956871032715, 2.6072545051574707, 5.573291778564453, -0.6823127865791321, 13.627649307250977, 1.5492377281188965, 2.738922357559204, 6.387936115264893, -8.196199417114258, 9.93701457977295, -0.25240856409072876, -11.39177131652832, 2.803194284439087, -0.47983628511428833, 1.4414151906967163, 4.142376899719238, 1.5301755666732788, 8.182260513305664, -1.7714885473251343, 4.2778801918029785, 8.747005462646484, 3.286311388015747, -13.28402328491211, 3.855398416519165, -3.4011406898498535, -1.1171653270721436, -3.930469036102295, 4.423246383666992, -2.5212628841400146, -4.66342306137085, 5.672440052032471, 1.5921236276626587, 8.370487213134766, -4.141852855682373, -4.197172164916992, -7.773663520812988, 1.7020721435546875, 6.520138740539551, 0.2768978178501129, 0.6551235914230347, 12.058067321777344, -12.250307083129883, -5.339170932769775, 0.6581145524978638, 12.97982406616211, -7.737167835235596, 3.2015221118927, 5.245584964752197, 0.39695972204208374, -3.3478732109069824, 8.55362319946289, -0.7870599031448364, -10.569378852844238, -7.535905361175537, 0.06189045310020447, 7.767360687255859, 2.002858877182007, 1.109392762184143, 11.915462493896484, 4.519400119781494, -5.902326583862305, 3.7054922580718994, -14.682071685791016, 5.808555603027344, -7.389654159545898, 6.956335067749023, 3.8886024951934814, -16.445743560791016, -16.743051528930664, 6.573982238769531, -12.01659870147705, 2.5688300132751465, 3.080733299255371, 2.456939220428467, -8.177330017089844, -13.502758979797363, 2.692723274230957, -3.1895482540130615, -15.076421737670898, -4.003025054931641, -3.8577873706817627, 10.835691452026367, 2.016406536102295, 5.192304611206055, -1.6914674043655396, -13.944377899169922, 9.332598686218262, 2.931462049484253, -14.782978057861328, -3.1040635108947754, 5.847316741943359, -3.7886741161346436, -2.975003242492676, 1.0011467933654785, -2.4839260578155518, -13.175398826599121, 3.824169397354126, 4.425271987915039, -13.625260353088379, 1.4217250347137451, -14.221739768981934, -2.1763861179351807, -4.5710039138793945, -1.5803611278533936, 6.769457817077637, 4.686100006103516, -5.702352046966553, -3.034862995147705, -13.42227554321289, 0.2595542371273041, -9.73033332824707, 0.9190798997879028, 0.16695579886436462, -7.0944390296936035, 11.326559066772461, 2.219458818435669, 8.578970909118652, 4.864578723907471, -11.498181343078613, 8.115262031555176, -4.520057678222656, -8.763467788696289, 8.610706329345703, -5.604838848114014, -1.5208433866500854, 7.113574028015137, 9.438777923583984, 4.027927875518799, -0.08145080506801605, -2.765561819076538, -11.756961822509766, -3.77728271484375, -5.1903300285339355, -3.3515915870666504, 2.960437059402466, -3.102665662765503, 2.5105698108673096, 8.87773609161377, -15.968180656433105, 1.6925098896026611, 5.8825483322143555, -6.244828701019287, 4.060311794281006, 6.530673980712891, 0.9290863275527954, -3.9862589836120605, 6.814210414886475, -13.070836067199707, -8.150203704833984, 9.252452850341797, 6.621433734893799, 10.463838577270508, -15.79150390625, 2.2855401039123535, -13.53244686126709, 0.8197820782661438, -0.021572353318333626, 1.4620306491851807, -1.7812411785125732, -11.541994094848633, 2.75687575340271, 2.811699628829956, 4.593453884124756, 10.836495399475098, 7.6500091552734375, -6.972230434417725, 1.0003457069396973, 7.1394944190979, -9.364848136901855, -13.546525955200195, -7.881728172302246, -0.4397762417793274, -8.853377342224121, -4.245386123657227, -3.5273685455322266, -3.208435297012329, 0.8108748197555542, 5.057176113128662, -5.316921710968018, -14.4876070022583, 0.08737776428461075, -4.056823253631592, 0.4667518138885498, -4.075782775878906, 6.802063465118408, 5.201761245727539, 1.1487421989440918, 3.55112624168396, 2.0781352519989014, 7.6468071937561035, 2.4545295238494873, 4.7551798820495605, -8.185920715332031, 1.5985137224197388, -1.624272346496582, 11.848328590393066, 7.911661148071289, 6.886541366577148, -4.903493881225586, 1.1477807760238647, 4.164926528930664, 3.319427728652954, 1.6968697309494019, -12.26225471496582, 9.8814697265625, -3.1126790046691895, -0.4151931703090668, 2.6299352645874023, 8.232775688171387, 0.5099276900291443, -12.16598129272461, 8.867226600646973, 0.23187977075576782, 13.191935539245605, 5.922388076782227, -7.614055156707764, 5.689579486846924, 8.767516136169434, 7.398054122924805, 3.423994779586792, 5.792735576629639, 4.896975040435791, 6.858428955078125, -3.318211078643799, -1.2300419807434082, -6.957420349121094, -0.012437041848897934, -5.376894950866699, 1.3773949146270752, -7.797102928161621, 8.886898040771484, -9.397324562072754, -1.9874697923660278, -14.626955032348633, 7.996126174926758, -5.901060581207275, -7.392680644989014, 9.836935043334961, 8.081621170043945, -1.2569857835769653, 4.926450252532959, 4.394391059875488, 2.9661312103271484, -14.777861595153809, 1.25131356716156, 7.969332695007324, -0.32144466042518616, 1.6281800270080566, 5.2547807693481445, 2.8186185359954834, 6.134470462799072, 10.363797187805176, -8.79162311553955, 4.536941051483154, 4.98909854888916, -5.376171112060547, 3.434299945831299, 0.8722721338272095, -3.5467941761016846, -8.768078804016113, 6.675095558166504, -1.5121077299118042, -0.6484700441360474, -0.7898217439651489, -1.7415157556533813, 5.107445240020752, 2.4435436725616455, -3.9143457412719727, 4.164968967437744, 0.9766501784324646, 7.881010055541992, 0.6450362205505371, 0.7869070172309875, -6.878637790679932, -1.3625688552856445, 3.4710240364074707, -10.387511253356934, -10.533827781677246, 0.4278140366077423, -3.3783206939697266, -5.308007717132568, -9.795707702636719, -2.2091658115386963, -1.7148226499557495, -4.396790981292725, 1.568029522895813, -4.958194255828857, -2.57835054397583, -2.9133312702178955, -6.625545024871826, -15.264937400817871, 8.433793067932129, -5.514894485473633, -13.150269508361816, 7.720883846282959, 2.610159158706665, 4.742609024047852, -0.005271872505545616, -5.918673038482666, 4.429867267608643, 0.22401727735996246, -0.3989095091819763, 3.2534537315368652, -15.240640640258789, -5.438437461853027, 3.4039361476898193, 3.3248562812805176, 9.139925003051758, -0.030170923098921776, 1.8422675132751465, 1.1477174758911133, -2.496528148651123, -1.3417315483093262, -5.31956672668457, -2.188948392868042, -4.930120468139648, -0.5831475853919983, -5.816015243530273, -1.3936874866485596, 1.779073715209961, 3.090501308441162, 9.619192123413086, 3.0407872200012207, 3.294222593307495, -2.991608142852783, -3.3139803409576416, -11.045008659362793, -15.04202938079834, 8.648947715759277, 2.738680601119995, 1.6958239078521729, 9.348922729492188, 1.2755160331726074, 12.707353591918945, 4.520897388458252, 4.33424186706543, 3.547837018966675, 3.023029327392578, -10.480528831481934, -12.155884742736816, 8.272978782653809, 8.264888763427734, -9.510308265686035, -9.42435359954834, -4.699455261230469, 11.441506385803223, -3.8734042644500732, -7.849935054779053, -4.528596878051758, -10.285198211669922, 4.3450117111206055, 6.283726692199707, -2.157996654510498, -5.221790313720703, 2.6998836994171143, -15.855236053466797, 9.297688484191895, -15.115378379821777, 3.737257957458496, 4.6063385009765625, 5.412109851837158, -6.208435535430908, 8.058978080749512, 0.6892904043197632, 8.710070610046387, -11.799290657043457, -2.7069461345672607, -2.470256805419922, 6.766420841217041, 1.9173403978347778, -5.5460591316223145, 7.194761276245117, 0.8270800113677979, 3.551783561706543, -10.179509162902832, -7.699932098388672, -11.137016296386719, 6.212575912475586, -11.852832794189453, -2.7626278400421143, 8.76425552368164, 1.826949119567871, 3.186070680618286, -1.9928460121154785, 3.8369028568267822, -3.862689256668091, -1.3379406929016113, -9.54886245727539, 1.0260111093521118, 2.88619065284729, 11.693879127502441, -12.576574325561523, 3.0209906101226807, 5.148188591003418, 8.916122436523438, -6.802963733673096, -12.994166374206543, -1.1023107767105103, -10.12840461730957, 11.011451721191406, 2.177825689315796, -4.73262882232666, 5.433997631072998, -6.9602789878845215, 0.49570778012275696, -6.710135459899902, 4.461023807525635, 13.190897941589355, 5.396173000335693, 0.07980592548847198, -1.681743860244751, 2.017160654067993, 5.5755157470703125, 4.94387674331665, 7.737637042999268, 7.4534196853637695, -0.6928346753120422, 0.019403262063860893, -16.984079360961914, -7.947450160980225, -12.30578899383545, 4.921105861663818, 8.422561645507812, -10.200994491577148, 11.095128059387207, -3.605696678161621, 8.517502784729004, 8.998926162719727, -0.40682703256607056, 9.600698471069336, -4.1855645179748535, 3.745326519012451, 2.7855396270751953, -1.2005013227462769, -4.9020586013793945, 1.1632473468780518, 7.134019374847412, -0.5181109309196472, -8.64012336730957, 1.457677960395813, -16.518775939941406, -4.197424411773682, -15.391743659973145, -1.4634079933166504, -0.3112424612045288, -8.763511657714844, -12.157715797424316, 0.9407658576965332, 4.120956897735596, -3.798823356628418, -0.022272512316703796, 3.5268311500549316, -9.792487144470215, -6.140704154968262, 6.860320091247559, 0.4305984079837799, 8.767125129699707, 2.1408486366271973, 3.0028107166290283, 1.9862662553787231, -10.716191291809082, 7.77197790145874, -1.033843994140625, -3.185455322265625, 8.768166542053223, -9.768186569213867, -13.496312141418457, -14.492792129516602, 6.94814395904541, -7.595567226409912, 5.6884684562683105, -0.37025102972984314, 2.623850107192993, 11.247802734375, -1.9425565004348755, 7.79852294921875, 8.018264770507812, 7.438088893890381, -7.2329254150390625, -11.804449081420898, 3.832045555114746, 1.313369631767273, -4.076870918273926, 1.706919550895691, 1.5361348390579224, 4.2078938484191895, 13.35489559173584, -0.653418779373169, -2.489103317260742, 6.999388217926025, -0.7325552701950073, -1.8876397609710693, 3.5454790592193604, -1.0772294998168945, 9.609854698181152, -0.6048144102096558, -2.5517454147338867, 11.084178924560547, 7.9876556396484375, 7.111191749572754, 2.463473081588745, -10.384642601013184, 2.490015745162964, -0.7180140614509583, 0.9106978178024292, -11.197929382324219, -9.428462982177734, 7.173337936401367, 9.27051067352295, -10.383037567138672, -14.33556079864502, -2.6793036460876465, 7.802409648895264, 6.880493640899658, -7.428847312927246, 7.045490264892578, -0.6587902903556824, -0.22204238176345825, -13.136963844299316, 3.5328431129455566, -0.8896235227584839, 7.330146789550781, 9.240922927856445, 6.276477336883545, 2.0519187450408936, 5.5601067543029785, -1.7496709823608398, 4.847116470336914, 0.06898723542690277, 3.3967230319976807, -1.9736328125, 7.876028537750244, -1.4473538398742676, 7.747457027435303, 0.5696567893028259, 7.692257881164551, -3.7239179611206055, 2.9461216926574707, -2.668754816055298, 3.173607587814331, -5.800252437591553, -0.1541564017534256, 9.299896240234375, -7.926975727081299, 13.46383285522461, 7.894880294799805, -0.10751034319400787, 9.223746299743652, 4.5994462966918945, -0.7722589373588562, 8.608859062194824, -2.049393653869629, 8.710494995117188, 2.9028844833374023, -5.420836925506592, 5.603793144226074, 3.587418794631958, 0.7428345680236816, -2.684178113937378, -7.53492546081543, 7.112344264984131, 5.872928619384766, -13.081911087036133, 3.8179640769958496, -4.8694305419921875, 9.594027519226074, 0.9987056851387024, 4.495937347412109, -4.022644519805908, -6.352057933807373, -8.420106887817383, 2.131734609603882, 6.349214553833008, 3.057967185974121, 1.962588906288147, -9.820754051208496, 10.534226417541504, 2.421353340148926, 4.265597343444824, 8.427711486816406, -2.6486175060272217, -4.168506145477295, 11.03612995147705, -5.368129730224609, -0.14970184862613678, 6.469163417816162, 7.609363079071045, 4.939907550811768, -6.459872722625732, -2.3265435695648193, 0.37408652901649475, -6.179600715637207, -0.13896289467811584, -4.85886812210083, 8.085524559020996, 1.350445032119751, 3.6023178100585938, 9.81558609008789, -3.482983350753784, -6.893800258636475, 2.8584671020507812, 4.98574686050415, 7.154120445251465, -15.371722221374512, 4.204648494720459, -2.9923911094665527, -2.118685483932495, 2.108964443206787, 1.5066416263580322, 4.023444652557373, -1.266348123550415, 4.635276794433594, 3.914386510848999, -1.9982686042785645, 0.4998786449432373, -7.775783061981201, 9.022248268127441, -9.300065040588379, 7.372857570648193, -5.699625492095947, 0.9270176887512207, -3.1207451820373535, -1.3213759660720825, 5.469605445861816, -8.445308685302734, 10.42000961303711, -1.4138967990875244, -15.934088706970215, 4.690212249755859, -11.655550003051758, 1.7412039041519165, -7.2715864181518555, 9.544767379760742, -5.623841285705566, 0.939542293548584, -3.2421040534973145, 3.2740583419799805, 2.6429243087768555, 3.6478593349456787, 7.848547458648682, -2.2875747680664062, 1.331355333328247, 7.053170204162598, -5.005167484283447, -8.551942825317383, -3.099464178085327, -4.362768173217773, 1.0387988090515137, 6.886078834533691, -8.750039100646973, -14.664002418518066, 5.4397993087768555, 7.158998966217041, 1.7592219114303589, -3.729691505432129, 4.94537878036499, 1.9576948881149292, 9.909235954284668, -1.5631996393203735, -4.027054309844971, 6.784631252288818, -12.006769180297852, -1.0713070631027222, -4.01772928237915, 7.420674800872803, 7.4414849281311035, -5.895251750946045, -3.151895523071289, 2.5240728855133057, 8.087039947509766, 7.167806148529053, -5.581531524658203, 0.18091997504234314, 11.324172019958496, 1.3953006267547607, 9.448467254638672, -7.6688432693481445, -5.311118125915527, 4.242672920227051, 5.427981376647949, 13.680176734924316, 7.203913688659668, 9.690911293029785, -12.861145973205566, 2.1737325191497803, 2.3191745281219482, 10.292651176452637, -5.040059566497803, 2.445634603500366, -3.0410521030426025, 1.2580666542053223, 0.5819658637046814, -1.2315434217453003, -4.590222358703613, 2.4511046409606934, -1.1315799951553345, -1.6316548585891724, -4.242016792297363, 1.1560676097869873, 7.473089218139648, -4.1989030838012695, 11.863173484802246, -1.7797794342041016, -1.2025426626205444, 2.458214521408081, -2.3956010341644287, -8.87309741973877, 3.783726692199707, -2.2323708534240723, 2.5381686687469482, -5.725271224975586, -13.006526947021484, -0.5770102739334106, 0.2709369659423828, -0.6012850999832153, -6.568143367767334, 6.382715225219727, -2.7840518951416016, 8.9044771194458, 0.8883517384529114, 0.756414532661438, 9.887231826782227, 0.654301643371582, 8.387843132019043, -1.3938969373703003, 3.609541416168213, 10.140543937683105, 4.30916166305542, 3.6246721744537354, -5.9517292976379395, -8.534120559692383, -5.837141513824463, 9.582258224487305, -0.7384368777275085, -3.1401827335357666, -3.0816001892089844, 1.1351042985916138, 5.553798198699951, -14.536442756652832, 10.539180755615234, -3.012829542160034, -5.467371940612793, 8.645235061645508, -6.344653606414795, -15.70333194732666, 2.586672782897949, -4.00027322769165, -14.828563690185547, 5.6944050788879395, -16.23284912109375, -12.491701126098633, 5.280880451202393, 4.376683235168457, -4.834089756011963, -6.718245029449463, -1.8944591283798218, 2.9253721237182617, 8.060770988464355, -15.356789588928223, -9.573935508728027, -0.4677925705909729, -0.03747927397489548, -7.640796661376953, 2.534278154373169, 2.5033371448516846, -5.8375163078308105, -13.614227294921875, -5.796024799346924, -15.29114818572998, 9.505926132202148, -12.037181854248047, 6.859685897827148, -9.621938705444336, -12.007330894470215, -5.449337005615234, -1.002851963043213, 9.496764183044434, 3.563906192779541, -2.3322219848632812, -12.767648696899414, -5.570852756500244, -0.7218530774116516, 2.6336092948913574, -4.316677570343018, 10.188480377197266, 7.729762077331543, -0.321271687746048, 1.100577712059021, -6.305013656616211, 0.10651504248380661, -5.144038677215576, -3.9873321056365967, 5.055944442749023, -12.309877395629883, 4.550507068634033, -0.4092109799385071, -1.6017197370529175, -3.8945159912109375, -8.353205680847168, -4.207212448120117, 7.337673664093018, 7.83726167678833, -2.7260549068450928, -3.649564027786255, 1.3898108005523682, 5.2292585372924805, 4.1484785079956055, -1.7752193212509155, 4.121744155883789, -5.534786701202393, -9.144076347351074, -1.6321818828582764, -0.6466485261917114, 10.195712089538574, 13.144518852233887, 0.9973484873771667, -3.3621976375579834, 6.6003875732421875, -15.014081954956055, 11.29281234741211, 8.114380836486816, -14.78296184539795, -3.2001233100891113, -0.9104333519935608, -3.7030580043792725, -7.3054046630859375, -5.870639801025391, 4.459317684173584, -3.4875800609588623, 4.191392421722412, -4.810830116271973, -4.09772253036499, -4.35315465927124, 1.7299672365188599, 6.952752590179443, -8.900028228759766, -0.3209487497806549, 9.272017478942871, -16.785865783691406, -1.725676417350769, -3.360095977783203, -1.2747246026992798, 7.9329118728637695, -15.305143356323242, -7.610527992248535, -1.428725242614746, -5.746265411376953, -0.4180189073085785, -8.905940055847168, 2.550662040710449, -6.41242790222168, -16.210960388183594, -2.8906502723693848, 11.06654167175293, -0.5613420605659485, -2.05303955078125, 1.3731967210769653, 2.196302652359009, -7.323065280914307, 1.2411746978759766, 9.566938400268555, -9.19175910949707, -3.351041078567505, 5.134600639343262, 6.543854236602783, -13.090628623962402, 7.566469669342041, 7.107573986053467, -9.420082092285156, -4.180260181427002, -3.3932831287384033, 1.901539921760559, -2.724342107772827, 7.834408760070801, 13.320820808410645, -5.638425350189209, -6.866595268249512, 0.10749375820159912, -0.538059651851654, -9.411333084106445, 6.283199310302734, -1.7812825441360474, -13.472403526306152, -9.234769821166992, -1.9331297874450684, -6.828259468078613, 2.7891931533813477, -0.7471447587013245, -7.696033954620361, 0.6127826571464539, 13.265827178955078, 4.03072452545166, -8.92212200164795, -11.323086738586426, 1.8980783224105835, -13.149494171142578, -6.062715530395508, -3.9958040714263916, 2.0685489177703857, -5.5419416427612305, -0.4679032862186432, 8.091753005981445, -1.029460072517395, 8.401562690734863, -6.56937837600708, 9.88482666015625, 7.08005428314209, 10.159071922302246, 7.32078218460083, 6.015235900878906, -1.3382413387298584, -2.8205347061157227, 7.104185581207275, 12.30459976196289, 10.827964782714844, 0.37382686138153076, 13.506049156188965, 1.2519071102142334, 10.052998542785645, 11.389914512634277, -5.334946632385254, -9.514254570007324, 6.923876762390137, -0.6783453226089478, 0.25932562351226807, -1.7536951303482056, -16.39704704284668, -16.189638137817383, -4.227967739105225, -7.5029168128967285, 2.3840363025665283, -14.193331718444824, 2.5530903339385986, -2.1287879943847656, 0.33154022693634033, -16.45331382751465, -0.5829498171806335, -0.27624449133872986, -4.9885711669921875, -14.560052871704102, -4.58573055267334, -7.645375728607178, -5.40266227722168, -5.592843532562256, 1.906630039215088, -10.306265830993652, -6.9519267082214355, 1.9734466075897217, -5.682638645172119, -14.704556465148926, -2.014843225479126, -7.025381088256836, -1.3106446266174316, 3.4701926708221436, 3.0607340335845947, -1.7744083404541016, 8.03247356414795, -2.423455238342285, -5.803082466125488, -15.103069305419922, 1.0647169351577759, -4.008118152618408, 4.367168426513672, -4.18232536315918, -3.4675567150115967, 9.911355972290039, -5.434802055358887, 5.1908087730407715, -1.7438100576400757, 10.907125473022461, -1.457229733467102, 1.4813390970230103, 5.105231761932373, -6.362051486968994, 0.9206778407096863, -8.152822494506836, -14.139307975769043, -4.308756351470947, 10.1646728515625, 7.768690586090088, -9.035186767578125, -3.4291274547576904, -12.105354309082031, 1.4155588150024414, 6.921657085418701, -5.097100257873535, 3.4249377250671387, 5.030906677246094, 5.359774589538574, 6.491196155548096, 0.17749708890914917, 1.9759321212768555, 2.865866184234619, 4.183424949645996, 3.2780556678771973, 1.4690375328063965, -5.216598987579346, 2.887587308883667, 9.127138137817383, 11.39185905456543, -14.038479804992676, -17.574657440185547, 7.082500457763672, 7.340074062347412, -7.951164245605469, -9.633894920349121, 3.2688355445861816, 5.473718643188477, 0.004918987862765789, -9.31657600402832, 5.776094913482666, 3.798138380050659, -3.7284722328186035, -3.9223690032958984, -7.6258039474487305, -16.3507022857666, 1.6743184328079224, 0.12565471231937408, 8.46565055847168, -8.632942199707031, -15.495758056640625, 5.405818462371826, -8.812880516052246, -2.0726208686828613, -17.898338317871094, -3.9112091064453125, 7.190173625946045, 2.7073304653167725, -12.267687797546387, 9.086410522460938, -7.344052314758301, 8.121479988098145, -0.7731614708900452, -0.5804786086082458, -0.8642366528511047, 3.62155818939209, -13.747336387634277, -12.218284606933594, 6.285355567932129, -1.2212738990783691, -3.2598206996917725, 0.3966214656829834, -1.6275653839111328, 10.091957092285156, -12.345499038696289, 4.519227981567383, 3.1309335231781006, 10.699292182922363, -1.6091344356536865, 1.4221631288528442, -5.889975547790527, -0.24851204454898834, 3.665480613708496, -1.6729298830032349, -4.045642375946045, -12.014559745788574, 2.0954055786132812, 11.35938549041748, -11.199639320373535, -6.877256393432617, 5.571648120880127, -5.584217548370361, 0.02026420645415783, -4.0151472091674805, 10.005200386047363, 8.849875450134277, 10.16183853149414, 10.399802207946777, -5.5447096824646, 1.378271460533142, -10.230900764465332, 8.085960388183594, -3.3939929008483887, -3.8718295097351074, 6.589748859405518, -14.503889083862305, 3.5460622310638428, -3.1181440353393555, -5.95506477355957, 0.23996011912822723, -0.31691116094589233, 9.416033744812012, 10.281229019165039, -5.897348880767822, -3.8894307613372803, 12.464698791503906, -6.752567768096924, -7.414670944213867, -7.836916446685791, -12.157745361328125, 6.853987693786621, 1.7328417301177979, -4.6262664794921875, -12.596894264221191, 4.680611610412598, 3.9762253761291504, 7.701553821563721, -7.4276442527771, 9.509465217590332, 7.729588508605957, 13.253388404846191, 0.605545699596405, -3.2045061588287354, 6.420995712280273, 1.2189888954162598, 7.63467264175415, 0.7655141949653625, 7.018365383148193, -12.405431747436523, 7.959511756896973, 7.446924686431885, 3.1602165699005127, -14.76279067993164, -4.112156391143799, -15.018741607666016, -11.909501075744629, -1.1334019899368286, 8.562583923339844, 4.59840726852417, -11.09489917755127, 9.322088241577148, 0.8875792622566223, 2.0744075775146484, -2.460204601287842, 6.027472972869873, 0.6781696081161499, -11.954577445983887, 6.6427764892578125, -11.197484016418457, -5.897116661071777, 4.485381603240967, -0.5864831209182739, 4.513265132904053, -2.090001344680786, 1.6064878702163696, 3.967966318130493, 8.279708862304688, 7.127992630004883, -3.879424810409546, 2.8826892375946045, -2.0637919902801514, -12.907109260559082, 4.6725053787231445, 0.233551025390625, 0.0783163532614708, -1.1644419431686401, -2.5181965827941895, 13.170258522033691, 2.1513593196868896, -3.2511534690856934, 1.3395260572433472, 7.466540813446045, -1.1181378364562988, 3.1410763263702393, 6.8159332275390625, -0.5850130915641785, 8.382582664489746, 8.271515846252441, -0.5856969952583313, 9.232037544250488, 5.725118160247803, -9.029950141906738, 7.727690696716309, -2.044226884841919, -3.0923688411712646, 7.735383987426758, -9.657196044921875, 1.6191985607147217, -0.8627604842185974, -10.237105369567871, 3.660651922225952, -4.498012542724609, 4.7801337242126465, 2.691171407699585, -9.897882461547852, 8.921929359436035, -5.71798849105835, 10.036968231201172, 5.149752140045166, 1.4329169988632202, 13.506129264831543, -1.7156931161880493, -0.25338736176490784, -7.170304298400879, -11.554818153381348, -1.9953442811965942, -2.995718240737915, 0.710284948348999, -10.04017162322998, -13.46042251586914, 2.316157817840576, -0.47830936312675476, 8.786602020263672, -3.9050989151000977, 9.401958465576172, -12.659886360168457, 3.2921793460845947, 0.2555743455886841, 7.952547550201416, -4.352701663970947, 5.521543025970459, -1.6856876611709595, 3.0572404861450195, 3.052140474319458, 7.312244892120361, -0.8254278898239136, -16.332033157348633, -0.9630873799324036, -15.627985954284668, -7.817396640777588, 5.523268699645996, 3.5555007457733154, 6.395095348358154, -10.900676727294922, 4.695808410644531, -11.076497077941895, -7.648658752441406, 1.9550769329071045, 1.178900122642517, 6.667569637298584, 9.367880821228027, -14.402109146118164, -9.765523910522461, -4.1507463455200195, 8.977069854736328, -4.367291450500488, 4.148251056671143, 2.0188493728637695, 4.162845134735107, -13.383280754089355, 7.834845066070557, 1.3109012842178345, -4.418437480926514, 0.5494903922080994, 4.212460041046143, -15.664257049560547, 1.786900281906128, 4.782853126525879, 5.889750957489014, -3.2164669036865234, 8.268619537353516, 7.4185919761657715, -6.8430376052856445, -0.8113387227058411, -4.475736618041992, 6.930994033813477, -7.41330623626709, 6.362020969390869, 3.637514114379883, -6.652557373046875, -1.5798417329788208, -12.494126319885254, -2.2084639072418213, 2.976301431655884, 9.748445510864258, -12.14270305633545, -3.7561495304107666, -10.396899223327637, -11.360502243041992, 8.75491714477539, 5.222603797912598, 10.072951316833496, -4.179339408874512, 4.234627723693848, 4.130309581756592, 4.776350975036621, -4.000150203704834, -5.242260932922363, -14.81972599029541, 6.079142093658447, 6.610501766204834, -0.5208094120025635, -4.426011085510254, -11.13833236694336, 1.8363642692565918, -3.7088396549224854, 0.8668519854545593, -0.8723993301391602, 9.843005180358887, 1.5519002676010132, -7.1839165687561035, 7.77721643447876, 1.029651165008545, 1.9083037376403809, -0.5245240330696106, -0.8966498970985413, -12.512852668762207, -3.784846782684326, 6.855838298797607, -3.9977290630340576, -2.299618721008301, 11.6893892288208, 11.319860458374023, 4.504350185394287, 13.56601333618164, -0.510969877243042, 6.0130615234375, -4.731318473815918, -4.199414253234863, 3.9005484580993652, -9.596441268920898, 1.6610063314437866, 4.84909725189209, 1.9831740856170654, -11.267614364624023, -8.65121078491211, 7.401072025299072, -3.9704670906066895, 9.7353515625, -4.377742767333984, -4.587031364440918, 12.145737648010254, 5.984594821929932, 5.1897454261779785, -5.249690532684326, 7.830456733703613, 0.8219055533409119, 2.170365810394287, -10.939909934997559, -2.4329416751861572, 7.879251480102539, -5.98176383972168, -0.35340821743011475, -5.556817054748535, 9.354242324829102, 9.929888725280762, -3.70261287689209, -0.011716773733496666, -8.203922271728516, 9.946187973022461, 1.4734967947006226, -11.570923805236816, 7.7142133712768555, -8.945965766906738, 2.0507030487060547, -8.392826080322266, 1.2142715454101562, 9.267251968383789, 2.7648186683654785, -8.416678428649902, 7.1320881843566895, 1.713971495628357, 9.191588401794434, -0.6450218558311462, 7.130231857299805, -2.177492141723633, 0.15713921189308167, -4.341233730316162, 6.409326553344727, -0.14776688814163208, 5.734135627746582, 2.36260724067688, -7.383585453033447, 10.161401748657227, 5.467644214630127, -6.402230262756348, -1.3470964431762695, 11.603337287902832, -7.143723487854004, 1.9622368812561035, -13.802535057067871, 3.269528865814209, -9.340211868286133, 5.572709560394287, -1.1914039850234985, 4.229007720947266, -4.6403913497924805, -3.9791572093963623, 8.136824607849121, 7.190951824188232, 2.7063286304473877, 2.364772319793701, -7.900405406951904, -13.117114067077637, 3.471442222595215, 10.782707214355469, -6.75889778137207, -8.41031265258789, 6.143139362335205, 11.48227310180664, 1.577980875968933, 7.726630687713623, -5.622223854064941, -16.721458435058594, -0.4149623215198517, 1.494123935699463, 9.969914436340332, 7.340438365936279, 0.09478015452623367, -11.282631874084473, -2.2083423137664795, 0.29136723279953003, 7.6347126960754395, 10.414772033691406, -15.5020170211792, 0.598197340965271, 3.3510496616363525, 1.2675803899765015, -7.246288776397705, 2.067112445831299, 2.9319405555725098, 7.429788589477539, 4.351733207702637, 2.937608242034912, 8.442703247070312, 2.1650712490081787, 5.137322902679443, -4.139553070068359, 2.102954149246216, -4.789351940155029, -8.087578773498535, 7.233333587646484, 5.17927360534668, 9.823801040649414, -3.4490087032318115, 3.864150285720825, -7.4635009765625, 8.398884773254395, -14.201287269592285, 3.751668691635132, -10.647245407104492, 1.1284252405166626, -4.671502113342285, 11.239355087280273, 4.657037734985352, 7.373773574829102, 1.3709518909454346, -0.0646854043006897, -9.0084810256958, -15.317115783691406, 1.6158497333526611, -6.572469234466553, 5.6554646492004395, -6.38415002822876, -11.493013381958008, 8.782248497009277, -1.4425334930419922, -3.6654062271118164, 3.17812442779541, -4.320980548858643, 2.8771400451660156, -4.174114227294922, -0.23453520238399506, 3.4726955890655518, -11.494316101074219, 9.510859489440918, 4.609894275665283, 3.859508752822876, -2.0842552185058594, 2.393871545791626, 6.9780473709106445, 1.1272372007369995, -8.825300216674805, -6.916529178619385, 1.4599993228912354, 7.511994361877441, -12.111701965332031, -5.789923191070557, -2.0593812465667725, -3.56980299949646, 0.5149835348129272, -1.3845387697219849, -9.770208358764648, 3.730407238006592, 10.12273120880127, -0.23936066031455994, -3.7503466606140137, 6.027896881103516, -6.590959548950195, -15.38481616973877, 8.831947326660156, 5.941963195800781, -1.696581244468689, 7.815812587738037, 2.842432737350464, -1.9122025966644287, 0.9848145842552185, 10.26459789276123, 7.703214168548584, -2.8033607006073, 3.2124388217926025, 9.101265907287598, 9.982596397399902, -4.724688529968262, -11.841135025024414, 7.532529830932617, -6.138211250305176, 2.487246513366699, 6.547948360443115, -3.696092128753662, 5.434722423553467, -6.04559850692749, -3.5331168174743652, -7.7325968742370605, -9.479039192199707, -0.24742037057876587, -14.492347717285156, 8.1730375289917, 1.537346363067627, 10.857565879821777, -11.417682647705078, 3.9241461753845215, 8.880751609802246, 6.1532206535339355, -11.13054084777832, 8.152243614196777, -4.730651378631592, 3.3075342178344727, -0.03244289755821228, 1.0805031061172485, 7.964933395385742, -7.603121757507324, 7.500955104827881, 8.126534461975098, -3.3768763542175293, -7.854200839996338, -0.42100781202316284, 0.10439899563789368, -0.03876510262489319, 11.405269622802734, 3.7636663913726807, -1.3113138675689697, -5.006675720214844, -1.1141949892044067, -1.7179278135299683, 0.6027568578720093, 1.9379658699035645, 2.647078275680542, 3.3311288356781006, -7.66090726852417, -8.662638664245605, 4.8501386642456055, -2.6928834915161133, 6.207366466522217, 3.1734812259674072, 4.547297954559326, -12.183878898620605, -13.647443771362305, -4.262250900268555, -16.723072052001953, -3.473945379257202, -4.839208602905273, -3.6453521251678467, 0.9211983680725098, 5.314532279968262, 4.06494140625, 10.943696022033691, -3.473890542984009, -3.793055772781372, 4.001265525817871, 8.520613670349121, 4.417433261871338, -3.1397716999053955, -4.246031284332275, -12.375380516052246, -2.2532975673675537, -15.669171333312988, -7.307262897491455, -3.0604474544525146, 6.19545841217041, -4.333219528198242, 10.606139183044434, -2.29970645904541, -4.2968058586120605, 1.6706732511520386, -2.0797059535980225, 6.841073513031006, -15.924551963806152, 5.633303642272949, -0.8877681493759155, 11.124055862426758, -11.660215377807617, -16.51711082458496, -15.17532730102539, -4.447429656982422, -9.258955955505371, -6.068566799163818, 8.277447700500488, 2.858937978744507, 2.5017149448394775, 0.18596579134464264, -4.340049743652344, -8.266895294189453, -12.080991744995117, -8.767631530761719, 1.7482106685638428, 9.07097339630127, 5.542843818664551, 5.7898945808410645, 1.873201847076416, -3.580038547515869, 1.0732694864273071, -14.101349830627441, -1.3667069673538208, 1.4985883235931396, -4.762469291687012, -4.889420509338379, -9.135371208190918, -6.219635009765625, 0.93158358335495, 9.630537033081055, 8.913431167602539, -0.73079913854599, 1.0994644165039062, -2.134047746658325, -11.15622329711914, 2.623826742172241, -1.7975579500198364, -4.5550923347473145, -8.195611953735352, 8.254526138305664, 11.691555976867676, -11.535961151123047, 10.151115417480469, 8.241402626037598, 3.829963445663452, -3.578284978866577, 2.926753044128418, 2.9041128158569336, 8.003450393676758, -10.022226333618164, 4.108179569244385, -3.3336522579193115, -11.50644302368164, 9.854727745056152, -7.641195774078369, -16.04271125793457, -5.231525421142578, -15.317034721374512, -12.555527687072754, 5.153189182281494, -8.89858627319336, -7.701230525970459, -1.8763861656188965, -2.181220531463623, 12.165221214294434, 3.0606026649475098, -0.42601004242897034, -2.9261314868927, 7.644932746887207, 0.46851152181625366, 4.002676963806152, 1.3059829473495483, 6.912987232208252, 10.919270515441895, 10.258452415466309, 9.438701629638672, -1.101989507675171, -12.092508316040039, 2.428107261657715, 9.913671493530273, -3.539076328277588, 12.785582542419434, 6.487766742706299, -8.77340030670166, 8.481674194335938, 1.9224436283111572, 10.013257026672363, 13.443868637084961, -9.669675827026367, -6.764399528503418, 1.4158133268356323, -10.937623023986816, -3.865387439727783, -0.648495614528656, 0.597298800945282, -0.18247157335281372, -4.5466790199279785, -8.311762809753418, 3.262831211090088, -3.8536670207977295, 2.0804836750030518, 2.488983154296875, 10.303037643432617, 2.019502639770508, 0.7419003248214722, -1.095443844795227, -1.4887348413467407, 4.83134126663208, 6.537806034088135, 4.433797836303711, 3.2625768184661865, -1.7770261764526367, 7.387713432312012, -1.4596916437149048, 10.06173324584961, -2.1483941078186035, 3.6723744869232178, 7.51438045501709, -1.3489240407943726, -6.449169158935547, -8.038467407226562, 0.8637975454330444, 10.549724578857422, -1.4291713237762451, -0.822243869304657, 6.379308223724365, 6.15096378326416, -6.925095558166504, 0.3266713619232178, 10.504141807556152, 11.292427062988281, 7.141334533691406, -10.471442222595215, -4.318373203277588, -5.372858047485352, -6.492453575134277, 10.322691917419434, -0.45287883281707764, 7.492704391479492, -0.35572731494903564, -3.6988112926483154, 2.575767993927002, -1.5399724245071411, -4.83384370803833, 1.1454991102218628, -4.48126745223999, -8.577381134033203, -5.0745768547058105, -10.063566207885742, -12.315773010253906, 3.6770684719085693, 4.1568427085876465, 7.8257060050964355, -4.311332702636719, 6.68647575378418, 1.2463654279708862, -0.05734851956367493, 8.536178588867188, -4.436636447906494, -8.510892868041992, 6.912593364715576, -2.328613758087158, 12.110340118408203, -7.771773815155029, -13.321990966796875, 9.32127857208252, -15.912364959716797, -16.17074203491211, -9.165336608886719, -6.939601421356201, 0.13809849321842194, -9.800483703613281, 10.16440200805664, -0.5215613842010498, -0.9017704725265503, 4.025147914886475, -13.454244613647461, 9.83569622039795, -0.28815165162086487, 3.802816390991211, -13.188356399536133, 8.988895416259766, 7.026726245880127, 5.294366836547852, -2.3942599296569824, 1.4812361001968384, -15.300227165222168, 0.7528302073478699, -15.649733543395996, 0.6052037477493286, 6.996665954589844, 10.32316780090332, -9.30441951751709, 1.6752723455429077, -6.6887006759643555, -3.7094571590423584, -15.966414451599121, -15.064127922058105, 3.0078485012054443, 6.455388069152832, -11.839350700378418, 10.63655948638916, -14.849541664123535, -11.577547073364258, 11.665908813476562, -15.398530960083008, -0.7107236385345459, 3.1588897705078125, -5.59923791885376, -9.229961395263672, -7.065302848815918, 13.017783164978027, -1.389676809310913, 12.081548690795898, 9.922672271728516, -1.3576377630233765, -16.671476364135742, -8.946002006530762, -7.400410175323486, -4.705270767211914, 9.559638977050781, 11.037891387939453, -1.8928821086883545, -14.685883522033691, 9.851082801818848, -15.83040714263916, -4.2133917808532715, -15.857643127441406, 0.5016227960586548, -0.7516323328018188, -13.34540843963623, -4.855952739715576, 3.830437660217285, -13.266714096069336, -3.9301533699035645, 1.1436915397644043, -15.001830101013184, -2.449795961380005, 6.113253593444824, 8.0330810546875, -2.2824888229370117, -1.9091219902038574, -15.550485610961914, 2.4016923904418945, 0.5401382446289062, 3.7189781665802, 5.3065595626831055, -8.32493782043457, 6.250394821166992, -1.133104681968689, -2.453545093536377, -6.985393047332764, 5.143576622009277, -5.789834976196289, -1.7823094129562378, -15.140918731689453, 3.9463863372802734, -8.068636894226074, 0.38609743118286133, 3.692490577697754, 2.104649066925049, 1.4542039632797241, 3.5290656089782715, -2.5449929237365723, 8.963424682617188, -0.6342137455940247, -14.125847816467285, 5.63032865524292, 0.28793632984161377, 3.2359731197357178, 6.004478454589844, 4.181923866271973, -1.1507638692855835, 4.899654865264893, -16.13055419921875, -9.324586868286133, -1.8596117496490479, -0.9644901752471924, -11.132028579711914, -1.4494884014129639, 7.660269737243652, 4.423613548278809, -14.585531234741211, -12.080302238464355, 8.666671752929688, -2.669248580932617, -11.993955612182617, -6.257379055023193, 1.3092960119247437, -5.233614921569824, 4.56442403793335, -5.224442005157471, 1.6308927536010742, -1.819473147392273, 4.914429664611816, 7.315403938293457, 4.257508754730225, 4.038578510284424, -3.2871668338775635, 3.481058359146118, 0.0059593841433525085, -10.996869087219238, -3.6326353549957275, -11.191761016845703, -2.393690824508667, 1.0294290781021118, 7.901861190795898, 2.4516966342926025, 8.032265663146973, 1.005573034286499, -2.6110727787017822, -2.5173227787017822, 2.5538902282714844, 7.528262138366699, -10.020423889160156, 2.211374282836914, 5.627641677856445, 3.561509132385254, 0.4661206007003784, -9.789015769958496, 11.29606819152832, -4.355645656585693, -11.030016899108887, 5.908102512359619, 9.05514144897461, 7.0559611320495605, 1.4640048742294312, -6.427887439727783, 8.328045845031738, -5.282103061676025, -2.5668883323669434, 5.853794574737549, 7.145693778991699, -7.342826843261719, 4.945021152496338, -13.994658470153809, -7.0211710929870605, 2.3004071712493896, 5.663728713989258, -1.5231380462646484, 4.266934871673584, 3.101372241973877, -0.3443034291267395, -16.975933074951172, 0.9240590929985046, 3.547814130783081, 1.4075497388839722, -8.239943504333496, 10.286335945129395, 0.18519394099712372, -1.1621330976486206, -4.317200183868408, 10.005390167236328, 3.1014175415039062, -12.679733276367188, 1.8572418689727783, 8.725069999694824, 3.8329215049743652, 7.842322826385498, -14.985651016235352, -7.177693843841553, 1.3625389337539673, 1.2383395433425903, -5.699793815612793, -8.403905868530273, 5.632009506225586, -16.430198669433594, 10.405158996582031, -15.003870964050293, 3.797823667526245, -6.08558988571167, 9.012152671813965, -0.6886407732963562, 0.27517378330230713, 0.20681439340114594, -2.1038742065429688, 8.814410209655762, -4.042621612548828, -8.191186904907227, 0.40563780069351196, -2.5582098960876465, -1.4662933349609375, 3.3114166259765625, 8.98530387878418, 0.14095263183116913, 4.495939254760742, -6.529733657836914, -4.9342780113220215, -3.4759507179260254, -0.570813000202179, -8.67597770690918, -4.355203151702881, -3.1967692375183105, 9.359118461608887, -6.068739414215088, -0.6748754382133484, -0.2304723560810089, -5.222013473510742, 3.4234626293182373, 6.999264240264893, 2.583738327026367, -3.7408764362335205, -15.196831703186035, -0.8121554255485535, -1.3924516439437866, 8.66147518157959, 6.364107608795166, 2.654013156890869, -2.118616819381714, -14.554823875427246, 11.526144981384277, 3.388747453689575, 0.8643906712532043, -8.10550308227539, -11.127367973327637, 4.755247592926025, 8.076470375061035, -4.017784595489502, 0.3974190056324005, -0.5090942978858948, -0.47995370626449585, -9.191449165344238, 0.7150280475616455, -9.354121208190918, -6.909748554229736, -7.766390800476074, 11.041675567626953, 6.704432964324951, -1.499389410018921, 0.632045567035675, -7.714890480041504, 0.3473975956439972, 3.2073590755462646, -14.491870880126953, -4.191004276275635, 11.046184539794922, -16.150327682495117, 1.0532469749450684, -8.328063011169434, -0.45610103011131287, -15.11887264251709, -5.362541198730469, 8.384590148925781, 8.974620819091797, -0.2275923639535904, -2.5046823024749756, 5.235949993133545, 3.7877562046051025, 11.990553855895996, 4.518069744110107, 2.5816829204559326, -3.3823909759521484, -11.384900093078613, -2.5097646713256836, 10.130327224731445, -0.5598850846290588, -10.956191062927246, -4.068523406982422, 6.799393177032471, -9.487098693847656, -3.2956912517547607, 5.90944242477417, 1.316788673400879, 9.008004188537598, -12.468476295471191, 8.715394020080566, -5.658795356750488, 8.887999534606934, -1.0985195636749268, 9.72978401184082, 2.8439857959747314, -13.843832015991211, 9.05227279663086, -0.09236922115087509, 1.4687756299972534, 2.483557939529419, -9.069252014160156, -12.632818222045898, -5.995670795440674, 0.43383851647377014, 1.83050537109375, -5.704498767852783, -0.1231878474354744, -4.81892728805542, -5.025293827056885, 9.133341789245605, -7.538562297821045, 5.196624279022217, -2.6206958293914795, 5.1764302253723145, 5.55714225769043, 11.039511680603027, 5.5174407958984375, 3.1411490440368652, 3.5947916507720947, 9.862604141235352, -5.484003067016602, 1.4033840894699097, -14.576010704040527, -3.2933356761932373, 7.613748550415039, 11.421947479248047, 9.97191047668457, 9.052081108093262, 0.966535747051239, 0.8408916592597961, -1.8150357007980347, -14.404243469238281, -3.092184066772461, -16.277271270751953, 0.08230376988649368, 0.7947874069213867, 9.42618465423584, -6.066691875457764, 3.7284727096557617, 7.613553047180176, 2.7143282890319824, -5.184524059295654, 6.488031387329102, -13.464252471923828, -15.253837585449219, -4.761247634887695, -10.660852432250977, -6.566335201263428, -0.5594110488891602, -14.22880744934082, -11.089071273803711, -11.265380859375, -1.5139777660369873, 4.194629669189453, 7.1483683586120605, -10.292874336242676, -15.046442985534668, 2.163890838623047, 2.1540918350219727, -1.684391736984253, 4.7597246170043945, 0.8578159809112549, -1.7289832830429077, 4.722136974334717, 2.685669183731079, 3.0700511932373047, -12.913817405700684, -9.013822555541992, -6.797024726867676, -5.412074565887451, 1.1510502099990845, -1.996420979499817, -2.949997901916504, 3.837801218032837, -1.200114369392395, -0.7618319392204285, -4.859366416931152, -4.913787841796875, -9.611963272094727, 9.613203048706055, 9.292863845825195, -6.1195292472839355, -11.437958717346191, -14.276093482971191, 1.3889163732528687, 6.515244007110596, -2.070798635482788, 4.073456764221191, 3.4934659004211426, -4.51693058013916, -4.001615524291992, -14.17880630493164, -3.346224784851074, -6.02860164642334, -9.75493049621582, 1.2693259716033936, -0.4011662006378174, 8.887202262878418, -0.34243765473365784, 1.2172021865844727, -15.079920768737793, 3.390505790710449, 8.662842750549316, 0.97137451171875, 2.4571352005004883, -3.440178871154785, 2.0587754249572754, -4.044295787811279, 5.260491371154785, 0.7556073665618896, 2.77048921585083, -8.258941650390625, -14.017574310302734, 9.529447555541992, 3.9634132385253906, -5.521188735961914, -7.4551544189453125, -5.992506980895996, 0.3122346103191376, 11.26109790802002, 7.42132043838501, -8.37802791595459, 7.77911901473999]}],                        {\"coloraxis\": {\"colorbar\": {\"title\": {\"text\": \"color\"}}, \"colorscale\": [[0.0, \"#0d0887\"], [0.1111111111111111, \"#46039f\"], [0.2222222222222222, \"#7201a8\"], [0.3333333333333333, \"#9c179e\"], [0.4444444444444444, \"#bd3786\"], [0.5555555555555556, \"#d8576b\"], [0.6666666666666666, \"#ed7953\"], [0.7777777777777778, \"#fb9f3a\"], [0.8888888888888888, \"#fdca26\"], [1.0, \"#f0f921\"]]}, \"legend\": {\"tracegroupgap\": 0}, \"margin\": {\"t\": 60}, \"scene\": {\"domain\": {\"x\": [0.0, 1.0], \"y\": [0.0, 1.0]}, \"xaxis\": {\"title\": {\"text\": \"pc_1\"}}, \"yaxis\": {\"title\": {\"text\": \"pc_2\"}}, \"zaxis\": {\"title\": {\"text\": \"pc_3\"}}}, \"template\": {\"data\": {\"bar\": [{\"error_x\": {\"color\": \"#2a3f5f\"}, \"error_y\": {\"color\": \"#2a3f5f\"}, \"marker\": {\"line\": {\"color\": \"#E5ECF6\", \"width\": 0.5}}, \"type\": \"bar\"}], \"barpolar\": [{\"marker\": {\"line\": {\"color\": \"#E5ECF6\", \"width\": 0.5}}, \"type\": \"barpolar\"}], \"carpet\": [{\"aaxis\": {\"endlinecolor\": \"#2a3f5f\", \"gridcolor\": \"white\", \"linecolor\": \"white\", \"minorgridcolor\": \"white\", \"startlinecolor\": \"#2a3f5f\"}, \"baxis\": {\"endlinecolor\": \"#2a3f5f\", \"gridcolor\": \"white\", \"linecolor\": \"white\", \"minorgridcolor\": \"white\", \"startlinecolor\": \"#2a3f5f\"}, \"type\": \"carpet\"}], \"choropleth\": [{\"colorbar\": {\"outlinewidth\": 0, \"ticks\": \"\"}, \"type\": \"choropleth\"}], \"contour\": [{\"colorbar\": {\"outlinewidth\": 0, \"ticks\": \"\"}, \"colorscale\": [[0.0, \"#0d0887\"], [0.1111111111111111, \"#46039f\"], [0.2222222222222222, \"#7201a8\"], [0.3333333333333333, \"#9c179e\"], [0.4444444444444444, \"#bd3786\"], [0.5555555555555556, \"#d8576b\"], [0.6666666666666666, \"#ed7953\"], [0.7777777777777778, \"#fb9f3a\"], [0.8888888888888888, \"#fdca26\"], [1.0, \"#f0f921\"]], \"type\": \"contour\"}], \"contourcarpet\": [{\"colorbar\": {\"outlinewidth\": 0, \"ticks\": \"\"}, \"type\": \"contourcarpet\"}], \"heatmap\": [{\"colorbar\": {\"outlinewidth\": 0, \"ticks\": \"\"}, \"colorscale\": [[0.0, \"#0d0887\"], [0.1111111111111111, \"#46039f\"], [0.2222222222222222, \"#7201a8\"], [0.3333333333333333, \"#9c179e\"], [0.4444444444444444, \"#bd3786\"], [0.5555555555555556, \"#d8576b\"], [0.6666666666666666, \"#ed7953\"], [0.7777777777777778, \"#fb9f3a\"], [0.8888888888888888, \"#fdca26\"], [1.0, \"#f0f921\"]], \"type\": \"heatmap\"}], \"heatmapgl\": [{\"colorbar\": {\"outlinewidth\": 0, \"ticks\": \"\"}, \"colorscale\": [[0.0, \"#0d0887\"], [0.1111111111111111, \"#46039f\"], [0.2222222222222222, \"#7201a8\"], [0.3333333333333333, \"#9c179e\"], [0.4444444444444444, \"#bd3786\"], [0.5555555555555556, \"#d8576b\"], [0.6666666666666666, \"#ed7953\"], [0.7777777777777778, \"#fb9f3a\"], [0.8888888888888888, \"#fdca26\"], [1.0, \"#f0f921\"]], \"type\": \"heatmapgl\"}], \"histogram\": [{\"marker\": {\"colorbar\": {\"outlinewidth\": 0, \"ticks\": \"\"}}, \"type\": \"histogram\"}], \"histogram2d\": [{\"colorbar\": {\"outlinewidth\": 0, \"ticks\": \"\"}, \"colorscale\": [[0.0, \"#0d0887\"], [0.1111111111111111, \"#46039f\"], [0.2222222222222222, \"#7201a8\"], [0.3333333333333333, \"#9c179e\"], [0.4444444444444444, \"#bd3786\"], [0.5555555555555556, \"#d8576b\"], [0.6666666666666666, \"#ed7953\"], [0.7777777777777778, \"#fb9f3a\"], [0.8888888888888888, \"#fdca26\"], [1.0, \"#f0f921\"]], \"type\": \"histogram2d\"}], \"histogram2dcontour\": [{\"colorbar\": {\"outlinewidth\": 0, \"ticks\": \"\"}, \"colorscale\": [[0.0, \"#0d0887\"], [0.1111111111111111, \"#46039f\"], [0.2222222222222222, \"#7201a8\"], [0.3333333333333333, \"#9c179e\"], [0.4444444444444444, \"#bd3786\"], [0.5555555555555556, \"#d8576b\"], [0.6666666666666666, \"#ed7953\"], [0.7777777777777778, \"#fb9f3a\"], [0.8888888888888888, \"#fdca26\"], [1.0, \"#f0f921\"]], \"type\": \"histogram2dcontour\"}], \"mesh3d\": [{\"colorbar\": {\"outlinewidth\": 0, \"ticks\": \"\"}, \"type\": \"mesh3d\"}], \"parcoords\": [{\"line\": {\"colorbar\": {\"outlinewidth\": 0, \"ticks\": \"\"}}, \"type\": \"parcoords\"}], \"pie\": [{\"automargin\": true, \"type\": \"pie\"}], \"scatter\": [{\"marker\": {\"colorbar\": {\"outlinewidth\": 0, \"ticks\": \"\"}}, \"type\": \"scatter\"}], \"scatter3d\": [{\"line\": {\"colorbar\": {\"outlinewidth\": 0, \"ticks\": \"\"}}, \"marker\": {\"colorbar\": {\"outlinewidth\": 0, \"ticks\": \"\"}}, \"type\": \"scatter3d\"}], \"scattercarpet\": [{\"marker\": {\"colorbar\": {\"outlinewidth\": 0, \"ticks\": \"\"}}, \"type\": \"scattercarpet\"}], \"scattergeo\": [{\"marker\": {\"colorbar\": {\"outlinewidth\": 0, \"ticks\": \"\"}}, \"type\": \"scattergeo\"}], \"scattergl\": [{\"marker\": {\"colorbar\": {\"outlinewidth\": 0, \"ticks\": \"\"}}, \"type\": \"scattergl\"}], \"scattermapbox\": [{\"marker\": {\"colorbar\": {\"outlinewidth\": 0, \"ticks\": \"\"}}, \"type\": \"scattermapbox\"}], \"scatterpolar\": [{\"marker\": {\"colorbar\": {\"outlinewidth\": 0, \"ticks\": \"\"}}, \"type\": \"scatterpolar\"}], \"scatterpolargl\": [{\"marker\": {\"colorbar\": {\"outlinewidth\": 0, \"ticks\": \"\"}}, \"type\": \"scatterpolargl\"}], \"scatterternary\": [{\"marker\": {\"colorbar\": {\"outlinewidth\": 0, \"ticks\": \"\"}}, \"type\": \"scatterternary\"}], \"surface\": [{\"colorbar\": {\"outlinewidth\": 0, \"ticks\": \"\"}, \"colorscale\": [[0.0, \"#0d0887\"], [0.1111111111111111, \"#46039f\"], [0.2222222222222222, \"#7201a8\"], [0.3333333333333333, \"#9c179e\"], [0.4444444444444444, \"#bd3786\"], [0.5555555555555556, \"#d8576b\"], [0.6666666666666666, \"#ed7953\"], [0.7777777777777778, \"#fb9f3a\"], [0.8888888888888888, \"#fdca26\"], [1.0, \"#f0f921\"]], \"type\": \"surface\"}], \"table\": [{\"cells\": {\"fill\": {\"color\": \"#EBF0F8\"}, \"line\": {\"color\": \"white\"}}, \"header\": {\"fill\": {\"color\": \"#C8D4E3\"}, \"line\": {\"color\": \"white\"}}, \"type\": \"table\"}]}, \"layout\": {\"annotationdefaults\": {\"arrowcolor\": \"#2a3f5f\", \"arrowhead\": 0, \"arrowwidth\": 1}, \"coloraxis\": {\"colorbar\": {\"outlinewidth\": 0, \"ticks\": \"\"}}, \"colorscale\": {\"diverging\": [[0, \"#8e0152\"], [0.1, \"#c51b7d\"], [0.2, \"#de77ae\"], [0.3, \"#f1b6da\"], [0.4, \"#fde0ef\"], [0.5, \"#f7f7f7\"], [0.6, \"#e6f5d0\"], [0.7, \"#b8e186\"], [0.8, \"#7fbc41\"], [0.9, \"#4d9221\"], [1, \"#276419\"]], \"sequential\": [[0.0, \"#0d0887\"], [0.1111111111111111, \"#46039f\"], [0.2222222222222222, \"#7201a8\"], [0.3333333333333333, \"#9c179e\"], [0.4444444444444444, \"#bd3786\"], [0.5555555555555556, \"#d8576b\"], [0.6666666666666666, \"#ed7953\"], [0.7777777777777778, \"#fb9f3a\"], [0.8888888888888888, \"#fdca26\"], [1.0, \"#f0f921\"]], \"sequentialminus\": [[0.0, \"#0d0887\"], [0.1111111111111111, \"#46039f\"], [0.2222222222222222, \"#7201a8\"], [0.3333333333333333, \"#9c179e\"], [0.4444444444444444, \"#bd3786\"], [0.5555555555555556, \"#d8576b\"], [0.6666666666666666, \"#ed7953\"], [0.7777777777777778, \"#fb9f3a\"], [0.8888888888888888, \"#fdca26\"], [1.0, \"#f0f921\"]]}, \"colorway\": [\"#636efa\", \"#EF553B\", \"#00cc96\", \"#ab63fa\", \"#FFA15A\", \"#19d3f3\", \"#FF6692\", \"#B6E880\", \"#FF97FF\", \"#FECB52\"], \"font\": {\"color\": \"#2a3f5f\"}, \"geo\": {\"bgcolor\": \"white\", \"lakecolor\": \"white\", \"landcolor\": \"#E5ECF6\", \"showlakes\": true, \"showland\": true, \"subunitcolor\": \"white\"}, \"hoverlabel\": {\"align\": \"left\"}, \"hovermode\": \"closest\", \"mapbox\": {\"style\": \"light\"}, \"paper_bgcolor\": \"white\", \"plot_bgcolor\": \"#E5ECF6\", \"polar\": {\"angularaxis\": {\"gridcolor\": \"white\", \"linecolor\": \"white\", \"ticks\": \"\"}, \"bgcolor\": \"#E5ECF6\", \"radialaxis\": {\"gridcolor\": \"white\", \"linecolor\": \"white\", \"ticks\": \"\"}}, \"scene\": {\"xaxis\": {\"backgroundcolor\": \"#E5ECF6\", \"gridcolor\": \"white\", \"gridwidth\": 2, \"linecolor\": \"white\", \"showbackground\": true, \"ticks\": \"\", \"zerolinecolor\": \"white\"}, \"yaxis\": {\"backgroundcolor\": \"#E5ECF6\", \"gridcolor\": \"white\", \"gridwidth\": 2, \"linecolor\": \"white\", \"showbackground\": true, \"ticks\": \"\", \"zerolinecolor\": \"white\"}, \"zaxis\": {\"backgroundcolor\": \"#E5ECF6\", \"gridcolor\": \"white\", \"gridwidth\": 2, \"linecolor\": \"white\", \"showbackground\": true, \"ticks\": \"\", \"zerolinecolor\": \"white\"}}, \"shapedefaults\": {\"line\": {\"color\": \"#2a3f5f\"}}, \"ternary\": {\"aaxis\": {\"gridcolor\": \"white\", \"linecolor\": \"white\", \"ticks\": \"\"}, \"baxis\": {\"gridcolor\": \"white\", \"linecolor\": \"white\", \"ticks\": \"\"}, \"bgcolor\": \"#E5ECF6\", \"caxis\": {\"gridcolor\": \"white\", \"linecolor\": \"white\", \"ticks\": \"\"}}, \"title\": {\"x\": 0.05}, \"xaxis\": {\"automargin\": true, \"gridcolor\": \"white\", \"linecolor\": \"white\", \"ticks\": \"\", \"title\": {\"standoff\": 15}, \"zerolinecolor\": \"white\", \"zerolinewidth\": 2}, \"yaxis\": {\"automargin\": true, \"gridcolor\": \"white\", \"linecolor\": \"white\", \"ticks\": \"\", \"title\": {\"standoff\": 15}, \"zerolinecolor\": \"white\", \"zerolinewidth\": 2}}}},                        {\"responsive\": true}                    ).then(function(){\n",
       "                            \n",
       "var gd = document.getElementById('a6fc2992-9dbb-4e96-aaf0-22f8f3ee2017');\n",
       "var x = new MutationObserver(function (mutations, observer) {{\n",
       "        var display = window.getComputedStyle(gd).display;\n",
       "        if (!display || display === 'none') {{\n",
       "            console.log([gd, 'removed!']);\n",
       "            Plotly.purge(gd);\n",
       "            observer.disconnect();\n",
       "        }}\n",
       "}});\n",
       "\n",
       "// Listen for the removal of the full notebook cells\n",
       "var notebookContainer = gd.closest('#notebook-container');\n",
       "if (notebookContainer) {{\n",
       "    x.observe(notebookContainer, {childList: true});\n",
       "}}\n",
       "\n",
       "// Listen for the clearing of the current output cell\n",
       "var outputEl = gd.closest('.output');\n",
       "if (outputEl) {{\n",
       "    x.observe(outputEl, {childList: true});\n",
       "}}\n",
       "\n",
       "                        })                };                });            </script>        </div>"
      ]
     },
     "metadata": {},
     "output_type": "display_data"
    }
   ],
   "source": [
    "from sklearn.cluster import DBSCAN\n",
    "from sklearn.cluster import OPTICS\n",
    "import plotly.express as px\n",
    "\n",
    "# NOTE: low eps, high min_samples -> search for higher density clusters\n",
    "clustering = DBSCAN(eps=2, min_samples=10, n_jobs=-1, metric='l2')\n",
    "#clustering = OPTICS(min_samples=15, n_jobs=-1)\n",
    "\n",
    "clusters = clustering.fit_predict(val_question_proj)\n",
    "n_clusters = len(np.unique(clusters))\n",
    "print('{} clusters found'.format(n_clusters))\n",
    "\n",
    "\n",
    "df = pd.DataFrame(val_question_proj, columns=['pc_1', 'pc_2', 'pc_3'])\n",
    "df = pd.concat([df, knn_df['question']], axis=1)\n",
    "fig = px.scatter_3d(df, x='pc_1', y='pc_2', z='pc_3', color=clusters, hover_data=['question'])\n",
    "fig.update_traces(marker_size=3)\n",
    "fig.show()"
   ]
  },
  {
   "cell_type": "markdown",
   "metadata": {},
   "source": [
    "### Notes:\n",
    "\n",
    "1. From [When is \"Nearest Neighbor\" Meaningful?](https://members.loria.fr/MOBerger/Enseignement/Master2/Exposes/beyer.pdf) - \"Another possible scenario where high dimensional nearest neighbor queries are meaningful occurs when the underlying dimensionality of the data is much lower than the actual dimensionality.\"\n",
    "\n",
    "    - Can we perform nearest neighbor calculations better if we enforce a sparsity constraint on the learned embeddings?\n",
    "    \n",
    "2. "
   ]
  },
  {
   "cell_type": "code",
   "execution_count": null,
   "metadata": {},
   "outputs": [],
   "source": []
  }
 ],
 "metadata": {
  "kernelspec": {
   "display_name": "Python 3",
   "language": "python",
   "name": "python3"
  },
  "language_info": {
   "codemirror_mode": {
    "name": "ipython",
    "version": 3
   },
   "file_extension": ".py",
   "mimetype": "text/x-python",
   "name": "python",
   "nbconvert_exporter": "python",
   "pygments_lexer": "ipython3",
   "version": "3.8.3"
  }
 },
 "nbformat": 4,
 "nbformat_minor": 4
}
