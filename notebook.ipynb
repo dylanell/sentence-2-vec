{
 "cells": [
  {
   "cell_type": "markdown",
   "metadata": {},
   "source": [
    "# Learning Sentence Representations from Question-Answer Pairs\n",
    "\n",
    "In this project, we explore a method to learn fixed length vector representations for variable lengthed \"short\" sentences (on the order of at most around 50 words) of text data collected from a limited-scope topic domain (like \"diabetes\"). These sentences are questions scraped from an online forum like answers.com, and each sample is accompanied by the top response (answer) corresponding to each question. We use question-answer data scraped from an online forum because the \"label\" (answer) for each training sample (question) is free. These labels are technically \"soft labels\" since they are responses taken verbatim from the general public. Our goal is to use these labels to supervise corresponding answers in a sort of \"skip-thought\" fashion in order to learn sentence representations from within a specific topic domain."
   ]
  },
  {
   "cell_type": "markdown",
   "metadata": {},
   "source": [
    "### Text-based Representation Learning\n",
    "\n",
    "The application of understanding user questions might be the starting point if you are attempting to build a chatbot to automatically handle customer queries. As an initial step, you might want to cluster queries into different high-level feature categories, requiring a numerical learned feature representation of consistent dimensionality for all queries. A fully supervised approach could potentially work for this, where a model is trained to output the correct answer given a quesion, but would most likely require a lot of data and some clever model design and depend too heavily on soft-labels which could sometimes be downright wrong. On the other hand, this could be attempted in an entirely unsupervised manner, perhaps by learning to unscramble augmented question strings or impute missing words. Unsupervised methods may learn to bias too heavily towards unexpected features (like individual words or low-level grammatical logic), and still, we have useful information nonetheless in the answers, so why not try to use this."
   ]
  },
  {
   "cell_type": "markdown",
   "metadata": {},
   "source": [
    "### Triplet Networks\n",
    "\n",
    "The method chosen here involves constructing \"triplets\" of comparison-based learning samples consisting of a question, it's correct answer, and a sampled incorrect answer, usually refered to as the anchor, positive and negative samples, respectively. Specifically, by constructing \"positive\" question-answer pairs of anchor and positive samples, and \"negative\" question-answer pairs of anchor and negative samples, we train a model to discriminate between these two pairs. Usually this is done by satisfying some criterion based on a distance/similarity measurement in a learned, fixed-dimensionality feature space, requiring that samples from a positive pair be mapped closer together (on average) than samples form a negative pair. Deep networks constructed to solve this learning problem are popularly called \"Triplet Networks\"."
   ]
  },
  {
   "cell_type": "markdown",
   "metadata": {},
   "source": [
    "### Model Architecture and Objective\n",
    "\n",
    "The authors in the paper [Learning Thematic Similarity Metric Using Triplet Networks](https://pdfs.semanticscholar.org/0846/f3cb0ae555c4f7015dca2fce6a047501154f.pdf?_ga=2.178325220.1389316910.1606965483-939693653.1606965483) use a triplet network equipped with the \"Ratio Loss\" loss-function, which converts distances between samples in representation space into probabilities. The authors report better results using this loss function instead of using the popular \"Triplet Margin Loss\" loss-function used in other triplet network implementations such as this [FaceNet](https://arxiv.org/pdf/1503.03832.pdf) paper. Upon visual investigation using nearest-neighbor searches, dimensionality reduction, and clustering, we were able to obtain good results using either loss function, therefore we allow the choice between these two losses to be set as a configuration parameter (\"margin\" for the Triplet Margin Loss and \"ratio\" for the Ratio Loss). \n",
    "\n",
    "Since our dataset consists of question-answer pairs, constructing the positive pair for a triplet is simply done by pairing a question with its corresponding answer. To construct the negative pair for a triplet, we randomly sample a different answer uniformly from the dataset, resulting in an answer that is most-likely incorrect for the anchor sample. Like most triplet network implementations, our triplet network consists of 3 identical deep sentence encoders with tied weights. Each identical encoder computes a representation for the anchor, positive, and negative sample, and then these 3 representations are used to compute the overall loss based on their \"closeness\" to each other as measured in the representation space. We test if indeed \"Attention Is All You Need\" by choosing our encoder architecture to be a series of stacked transformer networks, described in the paper [Attention Is All You Need](https://arxiv.org/pdf/1706.03762.pdf). The generalized model architecure we use is summarized in the diagram below. \n",
    "\n",
    "Anchor, positive, and negative sentences are provided as vocabulary-indexed batches which are converted to batches of word-vector arrays by the embedding layer. For now, the word vector embedding is initialized randomly and trained along with the model parameters. The output from the stacked transformers is summed along the sentence length dimension to construct fixed lengthed representations for every sentence. The distance function used to compare the pooled transformer outputs is selected by setting the `distance_metric` variable in `config.yaml` to either 'l2', 'l1', or 'cosine', corresponding to euclidean or similarity-based distance functions. The transformers at each common level (i.e. $Transformer_{i}$) are all weight-tied as well as the embedding layer weights resulting in identical processing streams for the anchor, positive, and negative samples up until the distance function computation."
   ]
  },
  {
   "cell_type": "markdown",
   "metadata": {},
   "source": [
    "![title](images/triplet_net.png)"
   ]
  },
  {
   "cell_type": "markdown",
   "metadata": {},
   "source": [
    "### Exploring Learned Representations\n",
    "\n",
    "You can use the code blocks to explore learned representations for various pretrained models and clustering parameters. We experimented with varying loss functions (Ratio Loss vs. Triplet Margin Loss), model architectures (2 transformers, 4 transformers, 100d word-vectors, 300d word-vectors, etc.), and various other model parameters (transformer activation, distance metric, etc.), and found we could find clusters in each case, but generally observed less bias on individual words when transformer layers were included. Below, we include a set of `config.yaml` model parameters and DBSCAN clustering parameters that together yield some nice clusters. \n",
    "\n",
    "`config.yaml` Parameter Settings:\n",
    "\n",
    "```\n",
    "wordvec_dim: 300\n",
    "output_dim: 32\n",
    "number_epochs: 500\n",
    "batch_size: 64\n",
    "learning_rate: 0.0001\n",
    "weight_decay: 0.01\n",
    "number_transformers: 4\n",
    "number_attention_heads: 10\n",
    "transformer_activation: 'tanh'\n",
    "distance_metric: 'l1'\n",
    "output_process: 'normalize'\n",
    "loss: 'ratio'\n",
    "```\n",
    "\n",
    "DBSCAN Parameter Settings:\n",
    "```\n",
    "eps: 0.1\n",
    "min_samples: 30\n",
    "metric: 'l2'\n",
    "```"
   ]
  },
  {
   "cell_type": "markdown",
   "metadata": {},
   "source": [
    "### Setup\n",
    "\n",
    "Import packages, define some variables, initialize dataloaders, and load the pre-trained model."
   ]
  },
  {
   "cell_type": "code",
   "execution_count": 1,
   "metadata": {},
   "outputs": [
    {
     "name": "stderr",
     "output_type": "stream",
     "text": [
      "/home/dylan/python-venvs/s2v/lib/python3.8/site-packages/torchtext/data/field.py:150: UserWarning: Field class will be retired soon and moved to torchtext.legacy. Please see the most recent release notes for further information.\n",
      "  warnings.warn('{} class will be retired soon and moved to torchtext.legacy. Please see the most recent release notes for further information.'.format(self.__class__.__name__), UserWarning)\n",
      "/home/dylan/python-venvs/s2v/lib/python3.8/site-packages/torchtext/data/example.py:68: UserWarning: Example class will be retired soon and moved to torchtext.legacy. Please see the most recent release notes for further information.\n",
      "  warnings.warn('Example class will be retired soon and moved to torchtext.legacy. Please see the most recent release notes for further information.', UserWarning)\n",
      "/home/dylan/python-venvs/s2v/lib/python3.8/site-packages/torchtext/data/example.py:78: UserWarning: Example class will be retired soon and moved to torchtext.legacy. Please see the most recent release notes for further information.\n",
      "  warnings.warn('Example class will be retired soon and moved to torchtext.legacy. Please see the most recent release notes for further information.', UserWarning)\n",
      "/home/dylan/python-venvs/s2v/lib/python3.8/site-packages/torchtext/data/iterator.py:48: UserWarning: Iterator class will be retired soon and moved to torchtext.legacy. Please see the most recent release notes for further information.\n",
      "  warnings.warn('{} class will be retired soon and moved to torchtext.legacy. Please see the most recent release notes for further information.'.format(self.__class__.__name__), UserWarning)\n",
      "/home/dylan/python-venvs/s2v/lib/python3.8/site-packages/torch/cuda/__init__.py:52: UserWarning: CUDA initialization: Found no NVIDIA driver on your system. Please check that you have an NVIDIA GPU and installed a driver from http://www.nvidia.com/Download/index.aspx (Triggered internally at  /pytorch/c10/cuda/CUDAFunctions.cpp:100.)\n",
      "  return torch._C._cuda_getDeviceCount() > 0\n"
     ]
    },
    {
     "name": "stdout",
     "output_type": "stream",
     "text": [
      "[INFO]: using cpu device\n"
     ]
    },
    {
     "data": {
      "text/plain": [
       "<All keys matched successfully>"
      ]
     },
     "execution_count": 1,
     "metadata": {},
     "output_type": "execute_result"
    }
   ],
   "source": [
    "import torch\n",
    "import pandas as pd\n",
    "import numpy as np\n",
    "from sklearn.manifold import TSNE\n",
    "from sklearn.cluster import DBSCAN\n",
    "import nltk\n",
    "from nltk.corpus import stopwords\n",
    "import plotly.express as px\n",
    "\n",
    "from model.sentence_2_vec_triplet import Sentence2VecTriplet\n",
    "from util.pytorch_utils import build_processed_qa_dataloaders\n",
    "\n",
    "# global vars\n",
    "metric = 'l1'\n",
    "batch_size = 64\n",
    "model_name = 'I300_R_T4_O32'\n",
    "data_file = '/home/dylan/datasets/answers/diabetes/qa_pairs_processed.csv'\n",
    "model_file = '/home/dylan/trained_model_files/sentence2vec/{}_model.pt'.format(model_name)\n",
    "clusters_file = '/home/dylan/trained_model_files/sentence2vec/{}_clusters.csv'.format(model_name)\n",
    "\n",
    "# build data iterators and vocabulary object\n",
    "train_iter, val_iter, vocab = build_processed_qa_dataloaders(\n",
    "    data_file, batch_size=batch_size)\n",
    "\n",
    "# create config dct\n",
    "config = {\n",
    "    'vocab_len': len(vocab),\n",
    "    'wordvec_dim': 300,\n",
    "    'output_dim': 32,\n",
    "    'number_transformers': 4,\n",
    "    'number_attention_heads': 10,\n",
    "    'activation': 'tanh',\n",
    "    'distance_metric': metric,\n",
    "}\n",
    "\n",
    "# load model\n",
    "model = Sentence2VecTriplet(config)\n",
    "model.load_state_dict(torch.load(model_file, map_location=torch.device('cpu')))"
   ]
  },
  {
   "cell_type": "markdown",
   "metadata": {},
   "source": [
    "### Encode Sentences\n",
    "\n",
    "Encode all sentences returned by the dataloader to sentence vectors using the trained sentence2vec model and save the corresponding sentence vectors to a dataframe and numpy arrays for analysis. "
   ]
  },
  {
   "cell_type": "code",
   "execution_count": 2,
   "metadata": {},
   "outputs": [
    {
     "name": "stderr",
     "output_type": "stream",
     "text": [
      "/home/dylan/python-venvs/s2v/lib/python3.8/site-packages/torchtext/data/batch.py:23: UserWarning: Batch class will be retired soon and moved to torchtext.legacy. Please see the most recent release notes for further information.\n",
      "  warnings.warn('{} class will be retired soon and moved to torchtext.legacy. Please see the most recent release notes for further information.'.format(self.__class__.__name__), UserWarning)\n"
     ]
    }
   ],
   "source": [
    "# initialize dataframe to hold sentences and their encoded vector representations\n",
    "df = pd.DataFrame(columns=['sentence', 'vector'])\n",
    "\n",
    "# generate validation question vectors\n",
    "for i, data in enumerate(train_iter):\n",
    "    # parse batch\n",
    "    question_idx = data.question\n",
    "\n",
    "    # feed question through model\n",
    "    question_vec = model(question_idx)\n",
    "\n",
    "    # convert question indices to list of word tokens\n",
    "    question_tok = [' '.join([vocab.itos[idx] for idx in s if idx != 1]) \n",
    "                    for s in question_idx.T.tolist()]\n",
    "    \n",
    "    # append questions and vectors to dataframe\n",
    "    df = df.append(pd.DataFrame({\n",
    "        'sentence': question_tok, \n",
    "        'vector': question_vec.detach().cpu().numpy().tolist()\n",
    "    }), ignore_index=True)\n",
    "    \n",
    "# map vectors to arrays\n",
    "df['vector'] = df['vector'].map(lambda x: np.array(x))\n",
    "\n",
    "# create list of sentences and numpy array of vectors\n",
    "question_tok = df['sentence'].tolist()\n",
    "question_vec = np.stack(df['vector'].to_numpy())"
   ]
  },
  {
   "cell_type": "markdown",
   "metadata": {},
   "source": [
    "### t-SNE Projection\n",
    "\n",
    "Project the validation question vectors onto their first three t-SNE components. We use the same distance metric used for training the representations for t-SNE since this algorithm operates in same feature space. Additionally, we normalize the projections along each component dimension in order to bring all features to the common scale $[0, 1]^3$, which simplifies the search for good clustering with varying model parameters and stochastic outputs of t-SNE."
   ]
  },
  {
   "cell_type": "code",
   "execution_count": 3,
   "metadata": {},
   "outputs": [],
   "source": [
    "# compute t-SNE projections\n",
    "tsne = TSNE(n_components=3, metric=metric)\n",
    "question_proj = tsne.fit_transform(question_vec)\n",
    "\n",
    "# scale projections along each dimension to lie in [0, 1]^3\n",
    "question_proj = question_proj / np.max(np.abs(question_proj), axis=0)\n",
    "\n",
    "# add projection components to dataframe\n",
    "proj_df = pd.DataFrame(question_proj, columns=['pc_1', 'pc_2', 'pc_3'])\n",
    "df = pd.concat([proj_df, df], axis=1)"
   ]
  },
  {
   "cell_type": "markdown",
   "metadata": {},
   "source": [
    "### Clustering in Projection Space\n",
    "\n",
    "In the code block below, we perform density-based DBSCAN clustering on the t-SNE projected question representations. We use Euclidean L2 distance for evaluating clusters since this algorithm operates in a 3D space in which the L2 norm is nicely behaved. The values of `eps` and `min_samples` control the density of clusters for DBSCAN to search for. Generally, lower `eps` and higher `min_samples` leads to the discovery of high-density clusters (more samples within less space). Lower values of `min_samples` will generally lead to the discovery of more specific clusters (and therefore bias more heavily towards specific words) while higher values will yeild more general clusters. Iterating on different values of these parameters provides a good method to explore the projected feature space of the learned representations. Since DBSCAN also creates a cluster for \"outlier\" samples (label=-1), we report the percentage of clusters found to be \"non-outliers\" and how many of these clusters are found. We perform analysis moving forward on only the non-outlier clusters, and ignore the rest for now. "
   ]
  },
  {
   "cell_type": "code",
   "execution_count": 56,
   "metadata": {},
   "outputs": [
    {
     "name": "stdout",
     "output_type": "stream",
     "text": [
      "[Num. Clusters]: 34, [Perc. Non-Outliers]: 22.5\n"
     ]
    }
   ],
   "source": [
    "# cluster 3D t-SNE projections\n",
    "# NOTE: low eps, high min_samples -> search for higher density clusters\n",
    "clustering = DBSCAN(eps=0.1, min_samples=30, n_jobs=-1, metric='l2')\n",
    "clusters = clustering.fit_predict(question_proj)\n",
    "\n",
    "# add cluster labels to dataframe\n",
    "df['label'] = clusters\n",
    "\n",
    "# cluster info\n",
    "num_clusters = len(np.unique(clusters))\n",
    "perc_labeled = 100 * (len(clusters[clusters != -1]) / len(clusters))\n",
    "print('[Num. Clusters]: {}, [Perc. Non-Outliers]: {:.1f}'.format(num_clusters, perc_labeled))"
   ]
  },
  {
   "cell_type": "markdown",
   "metadata": {},
   "source": [
    "### Cluster Summary Strings\n",
    "\n",
    "For each cluster label returned by DBSCAN (omitting outlier clusters with label=-1), we create a psuedo-label consisting of the top-5 words from questions assigned to that label, omitting all standard stop words and some common extra stop words defined above. These psuedo-labels aim to provide a natural language rough topic summary for each cluster and are added to the dataframe as a 'summary' column. Additionally, we average the sentence vectors sharing each common cluster label to compute representative vectors for each cluster label and these are added to the dataframe as an 'avg_vector' column. We write these representative cluster vectors to a csv file in the `/tmp/` directory for optional later use. "
   ]
  },
  {
   "cell_type": "code",
   "execution_count": 57,
   "metadata": {},
   "outputs": [],
   "source": [
    "# get list standard stop words and add some custom ones to this list\n",
    "stop_words = stopwords.words('english')\n",
    "extras = ['diabetes', '?', '.', '!', '<unk>']\n",
    "stop_words += extras\n",
    "\n",
    "# initialize word stemmer\n",
    "stemmer = nltk.stem.PorterStemmer()\n",
    "\n",
    "# stem stop words\n",
    "stop_words = [stemmer.stem(word) for word in stop_words]\n",
    "\n",
    "# add a summary column\n",
    "df['summary'] = None\n",
    "\n",
    "# add column for average cluster vector\n",
    "df['avg_vector'] = None\n",
    "\n",
    "# infer cluster topics\n",
    "for label in sorted(df['label'].unique()):\n",
    "    # get all samples with this label\n",
    "    samples = df[df['label'] == label]['sentence']\n",
    "    \n",
    "    # get all vectors with this label\n",
    "    vectors = np.stack(df[df['label'] == label]['vector'].to_numpy())\n",
    "    \n",
    "    # compute average vec for this cluster label\n",
    "    avg_vector = np.mean(vectors, axis=0)\n",
    "    \n",
    "    # add average vector to dataframe\n",
    "    df.loc[df['label'] == label, 'avg_vector'] = df.loc[df['label'] == label, 'avg_vector'].map(\n",
    "        lambda x: avg_vector)\n",
    "    \n",
    "    # convert samples to a list\n",
    "    samples = samples.tolist()\n",
    "    \n",
    "    # tokenize samples by whitespace\n",
    "    tokens = [[word for word in sentence.split(' ')] for sentence in samples]\n",
    "    \n",
    "    # flatten samples list\n",
    "    tokens = [inner for outer in tokens for inner in outer]\n",
    "    \n",
    "    # stem tokens\n",
    "    tokens = [stemmer.stem(token) for token in tokens]\n",
    "    \n",
    "    # filter stopwords\n",
    "    tokens = [token for token in tokens if not token in stop_words]\n",
    "    \n",
    "    # get token frequencies\n",
    "    fdist = nltk.FreqDist(tokens)\n",
    "    \n",
    "    # get summary string from 5 most frequent tokens\n",
    "    summary = ' '.join([token for token, _ in fdist.most_common(5)])\n",
    "    \n",
    "    # add summary string to dataframe\n",
    "    df.loc[df['label'] == label, 'summary'] = summary\n",
    "\n",
    "# write dataframe of just unique labels, label summaries, and label vectors to csv\n",
    "labels_df = df[df['label'] != -1][['label', 'summary', 'avg_vector']].drop_duplicates(\n",
    "    subset='label', ignore_index=True)\n",
    "labels_df = labels_df.sort_values(by='label')\n",
    "labels_df.to_csv(clusters_file, index=False)"
   ]
  },
  {
   "cell_type": "markdown",
   "metadata": {},
   "source": [
    "### Plot 3D Clusters\n",
    "\n",
    "In the code block below, we create a 3D scatter plot of the validation question t-SNE projections, omitting all samples assigned to the outlier cluster label by DBSCAN. Points are color coded by cluster labels to reveal the organized structure in feature space and a legend is included which maps the numerical cluster label to its generated psuedo-label topic summary. "
   ]
  },
  {
   "cell_type": "code",
   "execution_count": 59,
   "metadata": {},
   "outputs": [
    {
     "data": {
      "application/vnd.plotly.v1+json": {
       "config": {
        "plotlyServerURL": "https://plot.ly"
       },
       "data": [
        {
         "customdata": [
          [
           "how are type one and type two diabetes different ?",
           "type one two differ insulin",
           25
          ],
          [
           "insulin replacement therapy is always used in ?",
           "type one two differ insulin",
           25
          ],
          [
           "what diabetes can you be born with ?",
           "type one two differ insulin",
           25
          ],
          [
           "is diabetes cureble ?",
           "type one two differ insulin",
           25
          ],
          [
           "what are three ways someone with type two diabetes can help their body use glucose effectively ?",
           "type one two differ insulin",
           25
          ],
          [
           "which kind of diabetes is considered an auto immune disease ?",
           "type one two differ insulin",
           25
          ],
          [
           "what is the common name for diabetes ?",
           "type one two differ insulin",
           25
          ],
          [
           "what is a likely cause of strabismus in an adult ?",
           "type one two differ insulin",
           25
          ],
          [
           "what is the difference between type two diabetes and type one diabetes ?",
           "type one two differ insulin",
           25
          ],
          [
           "what triggers type one diabetes ?",
           "type one two differ insulin",
           25
          ],
          [
           "what is another name for type two diabetes ?",
           "type one two differ insulin",
           25
          ],
          [
           "what type of diabetes are you born with ?",
           "type one two differ insulin",
           25
          ],
          [
           "what type of diabetes usually requires insulin ?",
           "type one two differ insulin",
           25
          ],
          [
           "when does type i diabetes usually begin ?",
           "type one two differ insulin",
           25
          ],
          [
           "what is the diff between diabetes one and two ?",
           "type one two differ insulin",
           25
          ],
          [
           "what is the difference between type one diabetes and type two diabetes ?",
           "type one two differ insulin",
           25
          ],
          [
           "what type diabetic is type one ?",
           "type one two differ insulin",
           25
          ],
          [
           "what are type one diabetes ?",
           "type one two differ insulin",
           25
          ],
          [
           "what race is type one diabetes more common ?",
           "type one two differ insulin",
           25
          ],
          [
           "what is the condition called when the body can not regulate blood sugar levels ?",
           "type one two differ insulin",
           25
          ]
         ],
         "hovertemplate": "summary=%{customdata[1]}<br>pc_1=%{x}<br>pc_2=%{y}<br>pc_3=%{z}<br>sentence=%{customdata[0]}<br>label=%{customdata[2]}<extra></extra>",
         "legendgroup": "type one two differ insulin",
         "marker": {
          "color": "#636efa",
          "size": 8,
          "symbol": "circle"
         },
         "mode": "markers",
         "name": "type one two differ insulin",
         "scene": "scene",
         "showlegend": true,
         "type": "scatter3d",
         "x": [
          -0.1698373407125473,
          -0.15891636908054352,
          -0.04270001873373985,
          -0.10351217538118362,
          -0.2065354436635971,
          -0.04229658469557762,
          -0.20139609277248383,
          -0.1908518373966217,
          -0.1245197132229805,
          -0.12577231228351593,
          -0.16409604251384735,
          -0.1258583515882492,
          -0.16792410612106323,
          -0.18807096779346466,
          -0.18519513309001923,
          -0.12539099156856537,
          -0.17669445276260376,
          -0.15945477783679962,
          -0.20523923635482788,
          -0.11993631720542908
         ],
         "y": [
          0.7820842862129211,
          0.6753692626953125,
          0.7613025307655334,
          0.6643505692481995,
          0.747907280921936,
          0.7558159828186035,
          0.7466874718666077,
          0.7307400107383728,
          0.8411884903907776,
          0.8398851156234741,
          0.7279860377311707,
          0.7561139464378357,
          0.787520170211792,
          0.7717663049697876,
          0.7858155965805054,
          0.8407490849494934,
          0.6794236302375793,
          0.7768775224685669,
          0.7641327381134033,
          0.6752737164497375
         ],
         "z": [
          -0.19489824771881104,
          -0.18907968699932098,
          -0.1607389897108078,
          -0.2279389202594757,
          -0.17669373750686646,
          -0.1644047200679779,
          -0.19801963865756989,
          -0.1876046061515808,
          -0.17758511006832123,
          -0.16354510188102722,
          -0.2004588395357132,
          -0.21301108598709106,
          -0.1968788355588913,
          -0.16880977153778076,
          -0.15869960188865662,
          -0.1780492514371872,
          -0.19631023705005646,
          -0.22393198311328888,
          -0.15574054419994354,
          -0.21999824047088623
         ]
        },
        {
         "customdata": [
          [
           "what are the symptoms of diabetes person ?",
           "symptom sign type earli one",
           4
          ],
          [
           "what are the early signs of having diabetes ?",
           "symptom sign type earli one",
           4
          ],
          [
           "what signs and symptoms are possible indicators of diabetes mellitus ?",
           "symptom sign type earli one",
           4
          ],
          [
           "what symptons do you have in diabetes ?",
           "symptom sign type earli one",
           4
          ],
          [
           "how much sugar the man needs daily ?",
           "symptom sign type earli one",
           4
          ],
          [
           "what are common type two diabetes symptoms ?",
           "symptom sign type earli one",
           4
          ],
          [
           "why you should not ignore the signs of diabetes ?",
           "symptom sign type earli one",
           4
          ],
          [
           "what are some of the general of signs of diabetes ?",
           "symptom sign type earli one",
           4
          ],
          [
           "what are early diabetes symptoms ?",
           "symptom sign type earli one",
           4
          ],
          [
           "what are some signs and symptoms of diabetes in children ?",
           "symptom sign type earli one",
           4
          ],
          [
           "what are the symptoms for diabetes type one ?",
           "symptom sign type earli one",
           4
          ],
          [
           "what is diabetes and what are the symptoms ?",
           "symptom sign type earli one",
           4
          ],
          [
           "what are signs and symptoms of pediatric diabetes ?",
           "symptom sign type earli one",
           4
          ],
          [
           "what are symptoms of type one diabetes ?",
           "symptom sign type earli one",
           4
          ],
          [
           "what are symptoms of unrecognized diabetes ?",
           "symptom sign type earli one",
           4
          ],
          [
           "how can you tell if you are a diabetic without seeing a doctor ?",
           "symptom sign type earli one",
           4
          ],
          [
           "what are the symptoms of type ii diabetes ?",
           "symptom sign type earli one",
           4
          ],
          [
           "polydipsia and polyuria are symptoms of ?",
           "symptom sign type earli one",
           4
          ],
          [
           "where can i go to find stroke symptoms ?",
           "symptom sign type earli one",
           4
          ],
          [
           "what are some early signs of diabetes ?",
           "symptom sign type earli one",
           4
          ],
          [
           "how endocrine system affects the beauty therapist when treating clients ?",
           "symptom sign type earli one",
           4
          ],
          [
           "what is the nursing diagnosis of hyperthyroidism ?",
           "symptom sign type earli one",
           4
          ],
          [
           "how often does diabetes occur ?",
           "symptom sign type earli one",
           4
          ],
          [
           "what are the main causes of diabetes what are the symptoms to look for ?",
           "symptom sign type earli one",
           4
          ],
          [
           "what are symptoms of type two diabetes ?",
           "symptom sign type earli one",
           4
          ],
          [
           "what are the symptoms of type one and type two diabetes ?",
           "symptom sign type earli one",
           4
          ],
          [
           "what are some type two diabetes symptoms ?",
           "symptom sign type earli one",
           4
          ],
          [
           "what are some diabetic symptoms ?",
           "symptom sign type earli one",
           4
          ],
          [
           "what are diabetes early signs ?",
           "symptom sign type earli one",
           4
          ],
          [
           "what are some signs and symptoms of diabetic ketoacidosis ?",
           "symptom sign type earli one",
           4
          ],
          [
           "what are the causes of frequent urination ?",
           "symptom sign type earli one",
           4
          ],
          [
           "what are body clues that tell you that you have diabetes ?",
           "symptom sign type earli one",
           4
          ],
          [
           "how is insulin resistance diagnosed ?",
           "symptom sign type earli one",
           4
          ],
          [
           "what are the symptoms of diabetes type one ?",
           "symptom sign type earli one",
           4
          ],
          [
           "what are the early signs of diabetes ?",
           "symptom sign type earli one",
           4
          ],
          [
           "what are early signs of diabetes in children ?",
           "symptom sign type earli one",
           4
          ],
          [
           "what are the symptoms of type three diabetes ?",
           "symptom sign type earli one",
           4
          ],
          [
           "what are the most common diabetes symptoms ?",
           "symptom sign type earli one",
           4
          ],
          [
           "what are diabetes warning signs ?",
           "symptom sign type earli one",
           4
          ],
          [
           "what symptoms are associated with diabetes ?",
           "symptom sign type earli one",
           4
          ],
          [
           "what are early signs of type ii diabetes ?",
           "symptom sign type earli one",
           4
          ],
          [
           "what are some of the symptoms for diabetes mellitus ?",
           "symptom sign type earli one",
           4
          ],
          [
           "what are the three poly is in diabetes ?",
           "symptom sign type earli one",
           4
          ],
          [
           "what causes a constant itch on your right side that you constantly have to rub ?",
           "symptom sign type earli one",
           4
          ],
          [
           "what are some of the most common diabetes symptoms i should look out for ?",
           "symptom sign type earli one",
           4
          ],
          [
           "what is the difference between a forty ul syringe and a one hundred ul syringe ?",
           "symptom sign type earli one",
           4
          ],
          [
           "symptoms of type one diabetes ?",
           "symptom sign type earli one",
           4
          ],
          [
           "what are some diabetes symptoms ?",
           "symptom sign type earli one",
           4
          ],
          [
           "what symptons do you get with diabetes ?",
           "symptom sign type earli one",
           4
          ],
          [
           "what are the main symptoms that lead up to diabetes ?",
           "symptom sign type earli one",
           4
          ],
          [
           "signs and symptoms of diabetes insipidus ?",
           "symptom sign type earli one",
           4
          ],
          [
           "how severe do diabetes symptoms have to be before you have diabetes ?",
           "symptom sign type earli one",
           4
          ],
          [
           "what can uncontrolled diabetes lead to ?",
           "symptom sign type earli one",
           4
          ],
          [
           "what are some of the most obvious high blood sugar symptoms ?",
           "symptom sign type earli one",
           4
          ],
          [
           "what are the symptoms of a diabetic ?",
           "symptom sign type earli one",
           4
          ],
          [
           "what are the most common pre diabetes symptoms ?",
           "symptom sign type earli one",
           4
          ],
          [
           "what are the symptoms that distinguish between type i and type ii diabetes ?",
           "symptom sign type earli one",
           4
          ],
          [
           "is it normal to urinate a lot through out the day ?",
           "symptom sign type earli one",
           4
          ],
          [
           "where does type i diabetes most often occur ?",
           "symptom sign type earli one",
           4
          ],
          [
           "how does one properly manage their diabetes symptoms ?",
           "symptom sign type earli one",
           4
          ],
          [
           "what are some symptoms of type two diabetes ?",
           "symptom sign type earli one",
           4
          ],
          [
           "what are the symptoms of subclinical diabetes and what should be the treatment ?",
           "symptom sign type earli one",
           4
          ],
          [
           "what does a cbc test for ?",
           "symptom sign type earli one",
           4
          ],
          [
           "how do genes play arole in getting diabetes ?",
           "symptom sign type earli one",
           4
          ],
          [
           "what are the physiological effects of diabetes ?",
           "symptom sign type earli one",
           4
          ],
          [
           "what is the problem if you have tingling in your feet and they are always cold cotton mouth and often urination could it be diabetes or an anxiety disorder ?",
           "symptom sign type earli one",
           4
          ],
          [
           "what are some symptoms to determine borderline diabetes ?",
           "symptom sign type earli one",
           4
          ],
          [
           "how is diabetes mellitus diagnosed ?",
           "symptom sign type earli one",
           4
          ],
          [
           "is it a requirement of a diabetic to wear a medical alert bracelet ?",
           "symptom sign type earli one",
           4
          ],
          [
           "i think i have diabetes , what are clues ?",
           "symptom sign type earli one",
           4
          ],
          [
           "what are some common diabetes symptoms ?",
           "symptom sign type earli one",
           4
          ],
          [
           "what are symptoms of type i diabetes mellitus ?",
           "symptom sign type earli one",
           4
          ],
          [
           "what are some symptoms of diabetes ?",
           "symptom sign type earli one",
           4
          ],
          [
           "what are some signs and symptoms of type one diabetes ?",
           "symptom sign type earli one",
           4
          ],
          [
           "why do diabetics urinate often ?",
           "symptom sign type earli one",
           4
          ],
          [
           "what are five symptoms of diabetes ?",
           "symptom sign type earli one",
           4
          ],
          [
           "what are the common symptoms of diabetes ?",
           "symptom sign type earli one",
           4
          ],
          [
           "what was nick is blood sugar when he was diagnosed with diabetes ?",
           "symptom sign type earli one",
           4
          ],
          [
           "can diabetes cause false positive drug test in urine ?",
           "symptom sign type earli one",
           4
          ],
          [
           "what are some warning signs of diabetes when you are twenty years old ?",
           "symptom sign type earli one",
           4
          ],
          [
           "what are symptoms of diabetes ?",
           "symptom sign type earli one",
           4
          ],
          [
           "what causes dehydration in diabetes ?",
           "symptom sign type earli one",
           4
          ],
          [
           "what is honeymoon period in diabetes mellitus ?",
           "symptom sign type earli one",
           4
          ],
          [
           "what is the purpose of a diabetes bracelet ?",
           "symptom sign type earli one",
           4
          ],
          [
           "what does blurred vision indicate ?",
           "symptom sign type earli one",
           4
          ],
          [
           "what condition would cause blurred vision shortness of breath fatigue and finger and hand weakness ?",
           "symptom sign type earli one",
           4
          ],
          [
           "what are the symptoms of type one diabetes ?",
           "symptom sign type earli one",
           4
          ],
          [
           "what are three symptoms of diabetes mellitus ?",
           "symptom sign type earli one",
           4
          ],
          [
           "what are the early symptoms diabetes ?",
           "symptom sign type earli one",
           4
          ],
          [
           "witch of the jonas brothers has diabetes and is it special needs ?",
           "symptom sign type earli one",
           4
          ],
          [
           "what will happen to your body over a long period of time if diabetes is left unchecked ?",
           "symptom sign type earli one",
           4
          ],
          [
           "what are the symptoms of type one diabetes ?",
           "symptom sign type earli one",
           4
          ],
          [
           "name at least six symptoms of diabetes ?",
           "symptom sign type earli one",
           4
          ],
          [
           "when are blood glucose test and glucose tolerance test done durin pregnancy ?",
           "symptom sign type earli one",
           4
          ],
          [
           "what are some early warning signs of diabetes ?",
           "symptom sign type earli one",
           4
          ],
          [
           "what are the signs and symptoms of diabetes ?",
           "symptom sign type earli one",
           4
          ],
          [
           "what causes nausea frequent urination and fatigue ?",
           "symptom sign type earli one",
           4
          ],
          [
           "what are the early symptoms of diabetes ?",
           "symptom sign type earli one",
           4
          ],
          [
           "what are some of the early symptoms of diabetes ?",
           "symptom sign type earli one",
           4
          ],
          [
           "what are some reasons a person would start urinating a lot ?",
           "symptom sign type earli one",
           4
          ],
          [
           "what are type two diabetes symptoms ?",
           "symptom sign type earli one",
           4
          ],
          [
           "what are the common signs of diabetes ?",
           "symptom sign type earli one",
           4
          ],
          [
           "what are the symptoms of a diabetic and how can you tell if you are a diabetic without seeing a doctor ?",
           "symptom sign type earli one",
           4
          ],
          [
           "what are the common diabetes symptoms ?",
           "symptom sign type earli one",
           4
          ],
          [
           "what are the signs and symptoms of type one diabetes ?",
           "symptom sign type earli one",
           4
          ],
          [
           "how severe do diabetes symptoms have to be before you have ?",
           "symptom sign type earli one",
           4
          ],
          [
           "what are the most notable signs of diabetes ?",
           "symptom sign type earli one",
           4
          ],
          [
           "what are the symptoms of diabetes ?",
           "symptom sign type earli one",
           4
          ],
          [
           "what are classic symptoms of diabetes ?",
           "symptom sign type earli one",
           4
          ],
          [
           "in what region of the body is the storage of excess body fat associated with highest risks for cardiovascular disease and diabetes ?",
           "symptom sign type earli one",
           4
          ],
          [
           "what are symptoms of diabetes mellitus ?",
           "symptom sign type earli one",
           4
          ],
          [
           "how would you know if you had diabetes ?",
           "symptom sign type earli one",
           4
          ],
          [
           "is urinating a lot a sign of diabetes ?",
           "symptom sign type earli one",
           4
          ],
          [
           "how you can diagnosis diabete ?",
           "symptom sign type earli one",
           4
          ],
          [
           "what are the warning signs that your child is diabetic ?",
           "symptom sign type earli one",
           4
          ],
          [
           "what are the symptoms of diabetes mellitus ?",
           "symptom sign type earli one",
           4
          ]
         ],
         "hovertemplate": "summary=%{customdata[1]}<br>pc_1=%{x}<br>pc_2=%{y}<br>pc_3=%{z}<br>sentence=%{customdata[0]}<br>label=%{customdata[2]}<extra></extra>",
         "legendgroup": "symptom sign type earli one",
         "marker": {
          "color": "#EF553B",
          "size": 8,
          "symbol": "circle"
         },
         "mode": "markers",
         "name": "symptom sign type earli one",
         "scene": "scene",
         "showlegend": true,
         "type": "scatter3d",
         "x": [
          0.2193426787853241,
          0.2928732931613922,
          0.32138490676879883,
          0.2239600121974945,
          0.2722187340259552,
          0.2523626387119293,
          0.17991027235984802,
          0.3525456190109253,
          0.22976428270339966,
          0.3578501045703888,
          0.20865142345428467,
          0.18091829121112823,
          0.16902029514312744,
          0.19106055796146393,
          0.307893842458725,
          0.15955212712287903,
          0.3183893859386444,
          0.24240736663341522,
          0.3737398087978363,
          0.2606995105743408,
          0.25731754302978516,
          0.30170542001724243,
          0.1527213603258133,
          0.19387905299663544,
          0.28756168484687805,
          0.21778488159179688,
          0.30001968145370483,
          0.22541676461696625,
          0.25473350286483765,
          0.13292236626148224,
          0.2088460475206375,
          0.15125322341918945,
          0.236578568816185,
          0.18280644714832306,
          0.2497270405292511,
          0.3393741846084595,
          0.22172313928604126,
          0.19652032852172852,
          0.3592500388622284,
          0.2562374770641327,
          0.3435809016227722,
          0.17502816021442413,
          0.2624659836292267,
          0.19675467908382416,
          0.35889479517936707,
          0.20970457792282104,
          0.2734062075614929,
          0.2736097276210785,
          0.28882256150245667,
          0.23753799498081207,
          0.2882850766181946,
          0.3109614849090576,
          0.13836415112018585,
          0.2531261742115021,
          0.2502366304397583,
          0.36707770824432373,
          0.3521796762943268,
          0.2749457359313965,
          0.12218225747346878,
          0.3014890253543854,
          0.29215362668037415,
          0.17795641720294952,
          0.2801225781440735,
          0.26788702607154846,
          0.2682808041572571,
          0.25838789343833923,
          0.29742631316185,
          0.14180956780910492,
          0.35228458046913147,
          0.3369334936141968,
          0.2485145777463913,
          0.1989065259695053,
          0.2688913345336914,
          0.2693280279636383,
          0.23048719763755798,
          0.28379103541374207,
          0.2068336009979248,
          0.19658520817756653,
          0.3243322968482971,
          0.36040565371513367,
          0.24481922388076782,
          0.13653138279914856,
          0.3365723490715027,
          0.15640458464622498,
          0.26538148522377014,
          0.1697406768798828,
          0.17668452858924866,
          0.1534104198217392,
          0.23026148974895477,
          0.3582879602909088,
          0.27067410945892334,
          0.1784641146659851,
          0.2717511057853699,
          0.3686544895172119,
          0.24573072791099548,
          0.2821643054485321,
          0.2788751721382141,
          0.2193644493818283,
          0.2142227441072464,
          0.2712082266807556,
          0.28863611817359924,
          0.2673981785774231,
          0.14461657404899597,
          0.20765908062458038,
          0.2611635625362396,
          0.29773664474487305,
          0.30359601974487305,
          0.22217492759227753,
          0.33220019936561584,
          0.13924270868301392,
          0.15518082678318024,
          0.28115853667259216,
          0.280530720949173,
          0.25386539101600647,
          0.23841053247451782,
          0.15500397980213165
         ],
         "y": [
          0.14088788628578186,
          -0.06206793710589409,
          0.16685621440410614,
          0.1496707648038864,
          0.025697706267237663,
          0.33648809790611267,
          0.07853102684020996,
          0.057637691497802734,
          0.11586207896471024,
          0.08269212394952774,
          0.30951765179634094,
          0.17222703993320465,
          0.13811402022838593,
          0.31654855608940125,
          0.07402558624744415,
          0.18965931236743927,
          0.28435641527175903,
          0.10437390953302383,
          0.05671726167201996,
          0.06502126157283783,
          0.07223563641309738,
          -0.006041480228304863,
          0.28375300765037537,
          0.175932377576828,
          0.2807954251766205,
          0.3415353298187256,
          0.28341907262802124,
          0.04637499153614044,
          0.06919804215431213,
          0.12479744106531143,
          0.32993003726005554,
          0.27521735429763794,
          0.35130733251571655,
          0.3056134283542633,
          0.0728391781449318,
          0.08390040695667267,
          0.23218750953674316,
          0.30087727308273315,
          0.05683135241270065,
          0.16317348182201385,
          0.07770233601331711,
          0.17570684850215912,
          0.03589126840233803,
          0.06074470281600952,
          0.05645627900958061,
          0.05310024693608284,
          0.3480048179626465,
          0.18662551045417786,
          0.13396789133548737,
          0.1246989294886589,
          -0.05064263567328453,
          0.021594524383544922,
          0.3329467177391052,
          0.12738333642482758,
          -0.006616700440645218,
          0.08055216073989868,
          0.208356112241745,
          0.032121241092681885,
          0.3468334674835205,
          0.080905981361866,
          0.27861925959587097,
          0.08464569598436356,
          0.001752527430653572,
          0.34567636251449585,
          0.06787083297967911,
          0.3425816297531128,
          0.07397553324699402,
          0.33680248260498047,
          0.05484649911522865,
          0.26474106311798096,
          0.26726797223091125,
          0.3162253499031067,
          0.18056423962116241,
          0.1667420119047165,
          0.1508125513792038,
          0.06549245864152908,
          0.24459613859653473,
          0.31354817748069763,
          0.15004833042621613,
          0.07990580052137375,
          0.16804789006710052,
          0.34541767835617065,
          0.25277605652809143,
          0.24925430119037628,
          -0.004688465502113104,
          0.17867207527160645,
          0.30457085371017456,
          0.15039899945259094,
          0.11949045956134796,
          0.20931611955165863,
          0.002582227811217308,
          0.3047083020210266,
          0.26971450448036194,
          0.046371012926101685,
          0.03158885985612869,
          0.06685679405927658,
          0.188376784324646,
          0.11760628968477249,
          0.11855171620845795,
          0.010944081470370293,
          0.28192591667175293,
          0.21384650468826294,
          0.10924061387777328,
          0.24498197436332703,
          0.15970121324062347,
          -0.026380304247140884,
          0.018283870071172714,
          0.15302160382270813,
          0.2361704707145691,
          0.13345971703529358,
          0.20267769694328308,
          -0.007222351618111134,
          0.20910322666168213,
          0.041654981672763824,
          0.03325391933321953,
          0.19814719259738922
         ],
         "z": [
          -0.8080738186836243,
          -0.686059832572937,
          -0.7319686412811279,
          -0.8129048347473145,
          -0.581615149974823,
          -0.8073797225952148,
          -0.7409803867340088,
          -0.7994877099990845,
          -0.6647070050239563,
          -0.7370253205299377,
          -0.791115939617157,
          -0.8350530862808228,
          -0.7730541825294495,
          -0.7977645993232727,
          -0.7354758381843567,
          -0.8729262351989746,
          -0.7431188225746155,
          -0.7255337238311768,
          -0.7060720324516296,
          -0.63396817445755,
          -0.6545087099075317,
          -0.7024129033088684,
          -0.7675079703330994,
          -0.8364875912666321,
          -0.7897293567657471,
          -0.8087573647499084,
          -0.7736576199531555,
          -0.6485396027565002,
          -0.6442285180091858,
          -0.790737509727478,
          -0.7172200083732605,
          -0.7781419157981873,
          -0.8047539591789246,
          -0.7990347743034363,
          -0.6463504433631897,
          -0.6946477293968201,
          -0.8256509304046631,
          -0.7954643964767456,
          -0.8005011081695557,
          -0.7823866605758667,
          -0.686926007270813,
          -0.7362220287322998,
          -0.6100823879241943,
          -0.6177129745483398,
          -0.8173307180404663,
          -0.6348718404769897,
          -0.8468183875083923,
          -0.7796813249588013,
          -0.7909213304519653,
          -0.689852237701416,
          -0.6967189311981201,
          -0.7071086764335632,
          -0.78492671251297,
          -0.8043159246444702,
          -0.7751848101615906,
          -0.730841875076294,
          -0.7454515099525452,
          -0.6717028617858887,
          -0.8072739839553833,
          -0.6101329922676086,
          -0.7798030972480774,
          -0.7457380294799805,
          -0.7951647043228149,
          -0.8527739644050598,
          -0.7587875127792358,
          -0.8576322197914124,
          -0.7502661347389221,
          -0.7956958413124084,
          -0.6872437596321106,
          -0.7834703326225281,
          -0.7766246795654297,
          -0.8560793399810791,
          -0.7823747992515564,
          -0.8033539056777954,
          -0.8050157427787781,
          -0.7587310075759888,
          -0.7925043106079102,
          -0.8519905209541321,
          -0.728617250919342,
          -0.7403497695922852,
          -0.8020397424697876,
          -0.8027397394180298,
          -0.7624869346618652,
          -0.7504997849464417,
          -0.7690140604972839,
          -0.7308073043823242,
          -0.8010262250900269,
          -0.7606253027915955,
          -0.6729329824447632,
          -0.7441307902336121,
          -0.7738744020462036,
          -0.800699770450592,
          -0.7809019088745117,
          -0.7836423516273499,
          -0.6394041180610657,
          -0.7578111886978149,
          -0.8012687563896179,
          -0.6444939374923706,
          -0.6337901949882507,
          -0.7817514538764954,
          -0.78862065076828,
          -0.8213028311729431,
          -0.8304498195648193,
          -0.7911486625671387,
          -0.805436372756958,
          -0.7077728509902954,
          -0.7050084471702576,
          -0.7984193563461304,
          -0.7628381252288818,
          -0.8136919736862183,
          -0.7408164739608765,
          -0.7398962378501892,
          -0.8244416117668152,
          -0.6420353651046753,
          -0.636282205581665,
          -0.7398694753646851
         ]
        },
        {
         "customdata": [
          [
           "what is the normal range for someone is blood sugar level ?",
           "blood normal sugar level glucos",
           1
          ],
          [
           "what amount of blood glucose level is normal ?",
           "blood normal sugar level glucos",
           1
          ],
          [
           "what is the mame of instrument to check blood sugar ?",
           "blood normal sugar level glucos",
           1
          ],
          [
           "what is a diabetes specialist nurse is code of practice ?",
           "blood normal sugar level glucos",
           1
          ],
          [
           "what does it mean if small red ants are attracted to your urine ?",
           "blood normal sugar level glucos",
           1
          ],
          [
           "what is the normal glucose range in blood ?",
           "blood normal sugar level glucos",
           1
          ],
          [
           "what is a healthy blood sugar range ?",
           "blood normal sugar level glucos",
           1
          ],
          [
           "what is the normal blood sugar level for diabetes ?",
           "blood normal sugar level glucos",
           1
          ],
          [
           "what is considered a normal blood sugar level ?",
           "blood normal sugar level glucos",
           1
          ],
          [
           "what is a normal blood sugar level ?",
           "blood normal sugar level glucos",
           1
          ],
          [
           "does the liver help control blood sugar levels ?",
           "blood normal sugar level glucos",
           1
          ],
          [
           "what is the normal average for blood sugar ?",
           "blood normal sugar level glucos",
           1
          ],
          [
           "what is a normal blood glucose level ?",
           "blood normal sugar level glucos",
           1
          ],
          [
           "how do i lower my diabetic blood sugar level ?",
           "blood normal sugar level glucos",
           1
          ],
          [
           "what is the normal blood sugar level reading ?",
           "blood normal sugar level glucos",
           1
          ],
          [
           "normal blood glucose level ?",
           "blood normal sugar level glucos",
           1
          ],
          [
           "what should my blood glucose level be to be considered normal ?",
           "blood normal sugar level glucos",
           1
          ],
          [
           "which glucose levels are normal while fasting ?",
           "blood normal sugar level glucos",
           1
          ],
          [
           "what are the normal glucose levels in a non-diabetic person ?",
           "blood normal sugar level glucos",
           1
          ],
          [
           "how works fasting blood sugar ?",
           "blood normal sugar level glucos",
           1
          ],
          [
           "what is the number for the normal blood sugar level ?",
           "blood normal sugar level glucos",
           1
          ],
          [
           "what is normal blood sugar for sixty two year old women ?",
           "blood normal sugar level glucos",
           1
          ],
          [
           "why fructose disappears from the blood of diabetic patient at a normal rate ?",
           "blood normal sugar level glucos",
           1
          ],
          [
           "what is the healthy normal blood sugar range for a person who is predisposed to diabetes ?",
           "blood normal sugar level glucos",
           1
          ],
          [
           "where is considered a normal blood glucose level ?",
           "blood normal sugar level glucos",
           1
          ],
          [
           "what do you call a diabetes dr . ?",
           "blood normal sugar level glucos",
           1
          ],
          [
           "what is the normal blood glucose levels ?",
           "blood normal sugar level glucos",
           1
          ],
          [
           "what if glucose level is seventy three ?",
           "blood normal sugar level glucos",
           1
          ],
          [
           "what is the normal sugar level should be ?",
           "blood normal sugar level glucos",
           1
          ],
          [
           "what is a normal person is blood sugar one hour after eating ?",
           "blood normal sugar level glucos",
           1
          ],
          [
           "what is a normal range for fasting blood glucose ?",
           "blood normal sugar level glucos",
           1
          ],
          [
           "what is a normal glucose reading ?",
           "blood normal sugar level glucos",
           1
          ],
          [
           "what are normal glucose levels ?",
           "blood normal sugar level glucos",
           1
          ],
          [
           "what is the normal range for blood glucose ?",
           "blood normal sugar level glucos",
           1
          ],
          [
           "what is a normal blood sugar range for fasting ?",
           "blood normal sugar level glucos",
           1
          ],
          [
           "how much the normal blood sugar of diabetes ?",
           "blood normal sugar level glucos",
           1
          ],
          [
           "what is normal blood sugar level ?",
           "blood normal sugar level glucos",
           1
          ],
          [
           "what are the differences between different types of diabetes testing equipment ?",
           "blood normal sugar level glucos",
           1
          ],
          [
           "how many days of blood sugar level does fasting blood sugar measure ?",
           "blood normal sugar level glucos",
           1
          ],
          [
           "if less than 120mgdl is normal glucose level what level is low and not normal ?",
           "blood normal sugar level glucos",
           1
          ],
          [
           "what food is good to maintain a normal glucose level ?",
           "blood normal sugar level glucos",
           1
          ],
          [
           "why are patients fasted before oral glucose tolerance test ?",
           "blood normal sugar level glucos",
           1
          ],
          [
           "what is in involved in a diabetes test ?",
           "blood normal sugar level glucos",
           1
          ],
          [
           "what is a normal blood sugar level for type two diabetics ?",
           "blood normal sugar level glucos",
           1
          ],
          [
           "what is an average good blood glucose reading ?",
           "blood normal sugar level glucos",
           1
          ],
          [
           "what does the number seven mean in diabetics ?",
           "blood normal sugar level glucos",
           1
          ],
          [
           "what should your blood sugar levels be before eating a meal ?",
           "blood normal sugar level glucos",
           1
          ],
          [
           "would eating candy help maintain a normal blood sugar level ?",
           "blood normal sugar level glucos",
           1
          ],
          [
           "how to tell your own normal blood glucose ?",
           "blood normal sugar level glucos",
           1
          ],
          [
           "what blood sugar levels are normal ?",
           "blood normal sugar level glucos",
           1
          ],
          [
           "what is the normal concentration of blood sugar in a healthy person is body ?",
           "blood normal sugar level glucos",
           1
          ],
          [
           "what is the normal number for blood sugar ?",
           "blood normal sugar level glucos",
           1
          ],
          [
           "i have never been diagnosed with diabetes . my fasting blood sugar was one hundred and seventeen and hemoglobin aic was six . what does this mean ?",
           "blood normal sugar level glucos",
           1
          ],
          [
           "what is the normal range for blood sugar ?",
           "blood normal sugar level glucos",
           1
          ],
          [
           "what is normal blood sugar levels in dogs ?",
           "blood normal sugar level glucos",
           1
          ],
          [
           "what is the normal level for blood sugar ?",
           "blood normal sugar level glucos",
           1
          ],
          [
           "why is it important to keep the blood glucose level within normal range ?",
           "blood normal sugar level glucos",
           1
          ],
          [
           "what sugar levels are normal for someone with diabetes ?",
           "blood normal sugar level glucos",
           1
          ],
          [
           "how does your body keep your blood sugar level around seventy to one hundred and ten ?",
           "blood normal sugar level glucos",
           1
          ],
          [
           "at what amount are blood glucose levels seen as regular or irregular ?",
           "blood normal sugar level glucos",
           1
          ],
          [
           "what is the normal range of running and blood sugar ?",
           "blood normal sugar level glucos",
           1
          ],
          [
           "what is some information on diabetes high blood sugar ?",
           "blood normal sugar level glucos",
           1
          ],
          [
           "what kind of doctor should you see if you think you have diabetes ?",
           "blood normal sugar level glucos",
           1
          ],
          [
           "what is a normal blood sugar level reading ?",
           "blood normal sugar level glucos",
           1
          ],
          [
           "how is technology used to diagnose or treat type two diabetes ?",
           "blood normal sugar level glucos",
           1
          ],
          [
           "what should your blood sugar number be ?",
           "blood normal sugar level glucos",
           1
          ],
          [
           "what is the diabetic food pyramid ?",
           "blood normal sugar level glucos",
           1
          ],
          [
           "what is normal blood sugar reading ?",
           "blood normal sugar level glucos",
           1
          ],
          [
           "what is the normal depakote blood level ?",
           "blood normal sugar level glucos",
           1
          ],
          [
           "what is the normal urine sugar level ?",
           "blood normal sugar level glucos",
           1
          ],
          [
           "what is the normal blood glucose range ?",
           "blood normal sugar level glucos",
           1
          ],
          [
           "what does a glucose monitor measure ?",
           "blood normal sugar level glucos",
           1
          ],
          [
           "what is a normal range of glucose fluctuation ?",
           "blood normal sugar level glucos",
           1
          ],
          [
           "what are average blood sugar numbers ?",
           "blood normal sugar level glucos",
           1
          ],
          [
           "what is normal sugar level ?",
           "blood normal sugar level glucos",
           1
          ],
          [
           "what is the average blood sugar level ?",
           "blood normal sugar level glucos",
           1
          ],
          [
           "is a one hundred and twenty one fasting blood sugar reading mean you have diabetes ?",
           "blood normal sugar level glucos",
           1
          ],
          [
           "what should your blood sugar be two hrs after eating for a diabetic ?",
           "blood normal sugar level glucos",
           1
          ],
          [
           "what does it mean if your blood sugar is one hundred and forty one ?",
           "blood normal sugar level glucos",
           1
          ],
          [
           "what is the normal range blood sugar level ?",
           "blood normal sugar level glucos",
           1
          ],
          [
           "what is the normal blood sugar level ?",
           "blood normal sugar level glucos",
           1
          ],
          [
           "what is the normal range of blood glucose ?",
           "blood normal sugar level glucos",
           1
          ],
          [
           "what is a normal sugar level after eating ?",
           "blood normal sugar level glucos",
           1
          ],
          [
           "what are the normal sugar levels ?",
           "blood normal sugar level glucos",
           1
          ],
          [
           "why is it important it to keep the blood glucose level within the normal range ?",
           "blood normal sugar level glucos",
           1
          ],
          [
           "what are blood sugar readings at twenty mean if i have just eaten ?",
           "blood normal sugar level glucos",
           1
          ],
          [
           "what do blood sugar readings at twenty mean ?",
           "blood normal sugar level glucos",
           1
          ],
          [
           "if blood sugar is ninety seven before food is that healthy ?",
           "blood normal sugar level glucos",
           1
          ],
          [
           "what is the normal range for blood sugar level ?",
           "blood normal sugar level glucos",
           1
          ],
          [
           "what is the right blood sugar level for a fifty seven year old patient ?",
           "blood normal sugar level glucos",
           1
          ],
          [
           "what should your blood glucose number be ?",
           "blood normal sugar level glucos",
           1
          ],
          [
           "what are the normal blood sugar levels ?",
           "blood normal sugar level glucos",
           1
          ],
          [
           "i am not a diabetic , last dr visit glucose was one hundred and eighteen , is this normal i have cut back on carbs , will this help my glucose ?",
           "blood normal sugar level glucos",
           1
          ],
          [
           "is ninety seven to one hundred and ten blood sugar level within normal range for a diabetic ?",
           "blood normal sugar level glucos",
           1
          ],
          [
           "how can i maintain my blood sugar level with diabetes ?",
           "blood normal sugar level glucos",
           1
          ],
          [
           "what is the average level for blood sugar ?",
           "blood normal sugar level glucos",
           1
          ],
          [
           "what are the acceptable amounts of normal glucose levels ?",
           "blood normal sugar level glucos",
           1
          ],
          [
           "what you mean by seven point five sugar level after eating ?",
           "blood normal sugar level glucos",
           1
          ],
          [
           "why is it important to keep the blood glucose level within the normal range ?",
           "blood normal sugar level glucos",
           1
          ],
          [
           "what is the best way to treat diabetis ?",
           "blood normal sugar level glucos",
           1
          ],
          [
           "a normal fasting glucose level is ?",
           "blood normal sugar level glucos",
           1
          ],
          [
           "what measurement is used to measure blood sugar levels ?",
           "blood normal sugar level glucos",
           1
          ],
          [
           "what would a one hundred and forty seven blood sugar suggest ?",
           "blood normal sugar level glucos",
           1
          ],
          [
           "what is the normal heart rate for eighty one yr old diabetic woman ?",
           "blood normal sugar level glucos",
           1
          ],
          [
           "what is the normal blood sugar range for fasting sugar for non diabetics ?",
           "blood normal sugar level glucos",
           1
          ],
          [
           "what is the normal blood glucose levels for a healthy person ?",
           "blood normal sugar level glucos",
           1
          ],
          [
           "what is considered a normal blood sugar range ?",
           "blood normal sugar level glucos",
           1
          ],
          [
           "what is normal reading ?",
           "blood normal sugar level glucos",
           1
          ],
          [
           "you are ninety two lbs and your blood sugar level is still high ?",
           "blood normal sugar level glucos",
           1
          ],
          [
           "what is an acceptable blood sugar range after eating for a diabetic person ?",
           "blood normal sugar level glucos",
           1
          ],
          [
           "after fasting all night , what is a normal blood sugar level in the morning ?",
           "blood normal sugar level glucos",
           1
          ],
          [
           "how do you control high blood sugars of seven year old with type one diabetes ?",
           "blood normal sugar level glucos",
           1
          ],
          [
           "what is a normal blood sugar range ?",
           "blood normal sugar level glucos",
           1
          ],
          [
           "what is a normal blood sugar range for a diabetic ?",
           "blood normal sugar level glucos",
           1
          ],
          [
           "what does frequent blood sugar levels over one hundred and sixty after eating mean ?",
           "blood normal sugar level glucos",
           1
          ],
          [
           "what are normal blood glucose levels ?",
           "blood normal sugar level glucos",
           1
          ],
          [
           "blood sugar average for a person who weighs one hundred lbs ?",
           "blood normal sugar level glucos",
           1
          ],
          [
           "what is the normal range of blood sugar for diabetic ?",
           "blood normal sugar level glucos",
           1
          ],
          [
           "what is the safe blood sugar level for an adult male fifty eight years old ave ?",
           "blood normal sugar level glucos",
           1
          ],
          [
           "what do the glycemic index numbers mean ?",
           "blood normal sugar level glucos",
           1
          ],
          [
           "blood glucose levels normal range is ?",
           "blood normal sugar level glucos",
           1
          ]
         ],
         "hovertemplate": "summary=%{customdata[1]}<br>pc_1=%{x}<br>pc_2=%{y}<br>pc_3=%{z}<br>sentence=%{customdata[0]}<br>label=%{customdata[2]}<extra></extra>",
         "legendgroup": "blood normal sugar level glucos",
         "marker": {
          "color": "#00cc96",
          "size": 8,
          "symbol": "circle"
         },
         "mode": "markers",
         "name": "blood normal sugar level glucos",
         "scene": "scene",
         "showlegend": true,
         "type": "scatter3d",
         "x": [
          -0.9405841827392578,
          -0.8966938853263855,
          -0.7665957808494568,
          -0.7953956723213196,
          -0.8713836073875427,
          -0.8494667410850525,
          -0.816006064414978,
          -0.792009711265564,
          -0.7800131440162659,
          -0.7919008135795593,
          -0.8108980655670166,
          -0.8492891788482666,
          -0.7807478904724121,
          -0.9914848804473877,
          -0.8305505514144897,
          -0.8004381060600281,
          -0.8633485436439514,
          -0.7990590333938599,
          -0.918910026550293,
          -0.759501039981842,
          -0.7547692060470581,
          -0.7127519845962524,
          -0.8607305884361267,
          -0.9640239477157593,
          -0.8510260581970215,
          -0.7865914702415466,
          -0.7862188220024109,
          -0.9347716569900513,
          -0.9369431138038635,
          -0.7763343453407288,
          -0.8587351441383362,
          -0.8176272511482239,
          -0.8913540840148926,
          -0.8806764483451843,
          -0.8620826601982117,
          -0.7773837447166443,
          -0.8084067106246948,
          -0.7927536964416504,
          -0.7819505333900452,
          -0.9366673231124878,
          -0.9554961919784546,
          -0.7915516495704651,
          -0.7864296436309814,
          -0.7967090010643005,
          -0.8061509132385254,
          -0.8771631717681885,
          -0.899203896522522,
          -0.9051708579063416,
          -0.7316747903823853,
          -0.7975890040397644,
          -0.7885915637016296,
          -0.7670084238052368,
          -0.8929484486579895,
          -0.8916230201721191,
          -0.9543976187705994,
          -0.8238949775695801,
          -0.922110915184021,
          -0.9487943053245544,
          -0.8128710389137268,
          -0.8725195527076721,
          -0.899599552154541,
          -0.7938234210014343,
          -0.8937323689460754,
          -0.8176840543746948,
          -0.7620629668235779,
          -0.7749055027961731,
          -0.7981266379356384,
          -0.8098700642585754,
          -0.7628069519996643,
          -0.878017008304596,
          -0.8437252044677734,
          -0.8899552822113037,
          -0.9871343374252319,
          -0.7697620987892151,
          -0.9074516296386719,
          -0.8454400300979614,
          -0.7904995679855347,
          -0.8987953066825867,
          -0.7078867554664612,
          -0.8782921433448792,
          -0.7889304161071777,
          -0.8396961092948914,
          -0.8539084792137146,
          -0.9051326513290405,
          -0.9517841339111328,
          -0.7577173709869385,
          -0.7657455801963806,
          -0.9053850769996643,
          -0.8943582773208618,
          -0.8907601833343506,
          -0.7704394459724426,
          -0.7907097339630127,
          -0.9824199676513672,
          -0.9284887313842773,
          -0.8922882080078125,
          -0.8598617911338806,
          -0.911697268486023,
          -0.8855798840522766,
          -0.9126936793327332,
          -0.980431318283081,
          -0.8110340237617493,
          -0.7812166810035706,
          -0.7854873538017273,
          -0.8700871467590332,
          -0.9225605130195618,
          -0.798251211643219,
          -0.8611184358596802,
          -0.8341882824897766,
          -0.7934282422065735,
          -0.9158455729484558,
          -0.7974545955657959,
          -0.7939630150794983,
          -0.8607347011566162,
          -0.9256839156150818,
          -0.7354547381401062,
          -0.7695911526679993,
          -0.9867180585861206,
          -0.9512325525283813,
          -0.7137836217880249,
          -0.7249358892440796,
          -0.8659826517105103
         ],
         "y": [
          -0.20716528594493866,
          -0.11803216487169266,
          -0.2693520188331604,
          -0.026627061888575554,
          -0.039357833564281464,
          -0.15076689422130585,
          -0.2562388777732849,
          -0.03946765139698982,
          -0.3401152193546295,
          -0.1625443696975708,
          -0.37593165040016174,
          -0.19020241498947144,
          -0.1352684497833252,
          -0.276176780462265,
          -0.3384988009929657,
          -0.14401854574680328,
          -0.24489006400108337,
          -0.25798818469047546,
          -0.09976349771022797,
          -0.10982801765203476,
          -0.13767677545547485,
          -0.13660922646522522,
          -0.1779765784740448,
          -0.21140795946121216,
          -0.24281656742095947,
          -0.08083568513393402,
          -0.1080179512500763,
          -0.12751451134681702,
          -0.20834380388259888,
          -0.2627148926258087,
          -0.23094093799591064,
          -0.33201897144317627,
          -0.09034444391727448,
          -0.17408019304275513,
          -0.25042909383773804,
          -0.13579592108726501,
          -0.14261627197265625,
          -0.00965106301009655,
          -0.16345830261707306,
          -0.13308009505271912,
          -0.20993086695671082,
          -0.07280555367469788,
          -0.2491508573293686,
          -0.3270598351955414,
          -0.3599145710468292,
          -0.07549134641885757,
          -0.28066951036453247,
          -0.31759607791900635,
          -0.1578868329524994,
          -0.1317531317472458,
          -0.05264729633927345,
          -0.17050062119960785,
          -0.29160645604133606,
          -0.21107324957847595,
          -0.3031361997127533,
          -0.15855321288108826,
          -0.21318772435188293,
          -0.2313622683286667,
          -0.11275403201580048,
          -0.042144037783145905,
          -0.3129902780056,
          -0.3253770172595978,
          -0.322092205286026,
          -0.33835741877555847,
          -0.054541103541851044,
          -0.3522306978702545,
          -0.03347184136509895,
          -0.3389326333999634,
          -0.21404023468494415,
          -0.045203179121017456,
          -0.1536077857017517,
          -0.2880675494670868,
          -0.2817198932170868,
          -0.16732382774353027,
          -0.13756167888641357,
          -0.1758204698562622,
          -0.32611048221588135,
          -0.3218930959701538,
          -0.14523151516914368,
          -0.17991578578948975,
          -0.13486738502979279,
          -0.1528744101524353,
          -0.2564021944999695,
          -0.13757917284965515,
          -0.17813695967197418,
          -0.3013496994972229,
          -0.2853115499019623,
          -0.27744776010513306,
          -0.19889314472675323,
          -0.06140970066189766,
          -0.167367622256279,
          -0.13859587907791138,
          -0.275481641292572,
          -0.2799548804759979,
          -0.31847164034843445,
          -0.1828221082687378,
          -0.12263776361942291,
          -0.20957188308238983,
          -0.21526826918125153,
          -0.2865965962409973,
          -0.2675740718841553,
          -0.16620922088623047,
          -0.24938541650772095,
          -0.05254609137773514,
          -0.27366796135902405,
          -0.08149974793195724,
          -0.2874907851219177,
          -0.2949727773666382,
          -0.32626691460609436,
          -0.27525967359542847,
          -0.034412626177072525,
          -0.06569718569517136,
          -0.236300989985466,
          -0.2831438481807709,
          -0.15661485493183136,
          -0.11526155471801758,
          -0.2495255470275879,
          -0.21106399595737457,
          -0.1365128457546234,
          -0.1484018713235855,
          -0.24727466702461243
         ],
         "z": [
          0.04391870275139809,
          -0.014763223938643932,
          0.0008441440295428038,
          -0.09920168668031693,
          -0.03521299362182617,
          -0.005596076138317585,
          0.12556158006191254,
          -0.03948727250099182,
          0.11266294866800308,
          -0.08709373325109482,
          0.031084075570106506,
          -0.10680710524320602,
          -0.06707490980625153,
          -0.011515441350638866,
          0.03520091995596886,
          -0.10129165649414062,
          0.06530586630105972,
          0.14147807657718658,
          -0.004598849918693304,
          0.06408367305994034,
          0.009906006045639515,
          0.050174158066511154,
          -0.12676994502544403,
          0.046448029577732086,
          0.06331261247396469,
          -0.043518126010894775,
          -0.050210513174533844,
          -0.03456718474626541,
          0.013425705954432487,
          -0.0034710087347775698,
          0.05114763602614403,
          0.06782521307468414,
          -0.020285744220018387,
          0.003214637516066432,
          0.07378114014863968,
          -0.033135294914245605,
          -0.0942293331027031,
          0.00578062841668725,
          -0.024277595803141594,
          -0.03980155289173126,
          0.04408271610736847,
          -0.055647607892751694,
          0.15887674689292908,
          0.14464201033115387,
          0.03646157681941986,
          -0.0318182036280632,
          0.009340999647974968,
          0.0711742639541626,
          -0.0335574671626091,
          -0.029059691354632378,
          -0.09875602275133133,
          -0.043728623539209366,
          -0.03992746025323868,
          0.018111160025000572,
          0.1541217863559723,
          -0.09739614278078079,
          0.089231938123703,
          0.11563428491353989,
          -0.01947508566081524,
          -0.03604351729154587,
          -0.04221445694565773,
          0.1575152426958084,
          0.08052565157413483,
          0.05434409901499748,
          -0.12106861919164658,
          0.027270568534731865,
          -0.07993756234645844,
          0.06544017791748047,
          -0.023415468633174896,
          -0.025761276483535767,
          -0.004663939122110605,
          -0.0442739799618721,
          -0.019917137920856476,
          -0.12893883883953094,
          0.009368140250444412,
          -0.11576557159423828,
          0.1551249772310257,
          -0.03998102620244026,
          -0.05766062065958977,
          0.009957651607692242,
          -0.07269863784313202,
          -0.005144144408404827,
          0.09462007135152817,
          0.004470239393413067,
          0.058295782655477524,
          0.010618560016155243,
          0.005016983021050692,
          0.14925552904605865,
          0.01736312173306942,
          -0.005059424787759781,
          -0.12550507485866547,
          -0.03145897015929222,
          -0.004627932328730822,
          0.1409032791852951,
          0.0869508907198906,
          -0.1207454726099968,
          -0.01807420514523983,
          0.023933356627821922,
          0.08648907393217087,
          -0.04392382875084877,
          0.1276686191558838,
          -0.007516006473451853,
          -0.02400137670338154,
          -0.07060389220714569,
          0.14726197719573975,
          -0.04542400315403938,
          0.11014528572559357,
          0.06076224148273468,
          0.1432971954345703,
          0.09841948002576828,
          -0.12674400210380554,
          -0.10243324935436249,
          0.03450832515954971,
          0.06830520927906036,
          -0.025615490972995758,
          -0.013662684708833694,
          0.008674134500324726,
          0.04340500012040138,
          -0.030724922195076942,
          -0.053459908813238144,
          0.07676850259304047
         ]
        },
        {
         "customdata": [
          [
           "how many people get diabetes in a year ?",
           "peopl mani domin recess trait",
           27
          ],
          [
           "how many people in america are affected with diabetes ?",
           "peopl mani domin recess trait",
           27
          ],
          [
           "what aredifference between dominant and recessive traits ?",
           "peopl mani domin recess trait",
           27
          ],
          [
           "who was a diabetic in the movie isteel magnolias ' ?",
           "peopl mani domin recess trait",
           27
          ],
          [
           "is diabetes a dominant or recessive trait ?",
           "peopl mani domin recess trait",
           27
          ],
          [
           "what does diabetic diet-ck bs ac and qhs mean in medical terms ?",
           "peopl mani domin recess trait",
           27
          ],
          [
           "what and where can i go to get diabetic neuropathy treatment ?",
           "peopl mani domin recess trait",
           27
          ],
          [
           "what diseases are the focus of healthy people two thousand and ten ?",
           "peopl mani domin recess trait",
           27
          ],
          [
           "how many people in us have diabetes ?",
           "peopl mani domin recess trait",
           27
          ],
          [
           "in which homeopathic remedies do the symptoms of type two diabetes appear - other than arsenicum ?",
           "peopl mani domin recess trait",
           27
          ],
          [
           "level of sugar allowed in urine to pass dot physical ?",
           "peopl mani domin recess trait",
           27
          ],
          [
           "how many people in australia have diabetes ?",
           "peopl mani domin recess trait",
           27
          ],
          [
           "is diabetes insipidus dominant or recessive ?",
           "peopl mani domin recess trait",
           27
          ],
          [
           "explain the health education for diabetic patient ?",
           "peopl mani domin recess trait",
           27
          ],
          [
           "where is burdock root grown ?",
           "peopl mani domin recess trait",
           27
          ],
          [
           "diabetes statistics ?",
           "peopl mani domin recess trait",
           27
          ],
          [
           "when did halle berry get diabetes ?",
           "peopl mani domin recess trait",
           27
          ],
          [
           "out of how many how may people have diabetes in us ?",
           "peopl mani domin recess trait",
           27
          ],
          [
           "what are the odds of an american getting early onset diabetes ?",
           "peopl mani domin recess trait",
           27
          ],
          [
           "what is the spanish word for diabetes ?",
           "peopl mani domin recess trait",
           27
          ],
          [
           "what are alternative treatments for diabetic foot infections ?",
           "peopl mani domin recess trait",
           27
          ],
          [
           "is rolling your tongue a dominant or recessive trait ?",
           "peopl mani domin recess trait",
           27
          ],
          [
           "what is the electrolyte disorder that accompanies diabetic ketosis ?",
           "peopl mani domin recess trait",
           27
          ],
          [
           "what are the medical abbreviations meaning once a day and twice a day ?",
           "peopl mani domin recess trait",
           27
          ],
          [
           "what is the letter form in dominant and recessive trait ?",
           "peopl mani domin recess trait",
           27
          ],
          [
           "is diabetes dominant or recessive trait ?",
           "peopl mani domin recess trait",
           27
          ],
          [
           "out of how many how may people have diabetes ?",
           "peopl mani domin recess trait",
           27
          ],
          [
           "what is diabetic lumbosacral radiculoplexus neuropathy ?",
           "peopl mani domin recess trait",
           27
          ],
          [
           "how many people are diagnosed with diabetes every year ?",
           "peopl mani domin recess trait",
           27
          ],
          [
           "how man people in america have diabetes ?",
           "peopl mani domin recess trait",
           27
          ]
         ],
         "hovertemplate": "summary=%{customdata[1]}<br>pc_1=%{x}<br>pc_2=%{y}<br>pc_3=%{z}<br>sentence=%{customdata[0]}<br>label=%{customdata[2]}<extra></extra>",
         "legendgroup": "peopl mani domin recess trait",
         "marker": {
          "color": "#ab63fa",
          "size": 8,
          "symbol": "circle"
         },
         "mode": "markers",
         "name": "peopl mani domin recess trait",
         "scene": "scene",
         "showlegend": true,
         "type": "scatter3d",
         "x": [
          0.04650679975748062,
          0.028565306216478348,
          0.06400485336780548,
          0.049221470952034,
          0.1243075504899025,
          0.0423722080886364,
          0.011660551652312279,
          0.042529188096523285,
          0.08551467955112457,
          0.08938531577587128,
          0.003812700742855668,
          0.07725261151790619,
          0.09217299520969391,
          -0.027488693594932556,
          0.04306769743561745,
          0.08145604282617569,
          0.1258557289838791,
          0.04952916502952576,
          -0.016046889126300812,
          -0.018430856987833977,
          0.07273925840854645,
          0.10852038115262985,
          0.12015971541404724,
          0.046807724982500076,
          0.10427810996770859,
          0.12173926085233688,
          0.04506795480847359,
          0.04339605197310448,
          -0.0037967071402817965,
          0.0534835122525692
         ],
         "y": [
          0.19812652468681335,
          0.13621360063552856,
          0.07952721416950226,
          0.09098444133996964,
          0.18813538551330566,
          0.08451753109693527,
          0.13191063702106476,
          0.07710404694080353,
          0.21317529678344727,
          0.16634608805179596,
          0.17554602026939392,
          0.18290318548679352,
          0.06572375446557999,
          0.13652454316616058,
          0.08606292307376862,
          0.2030303180217743,
          0.19086164236068726,
          0.14313040673732758,
          0.15708282589912415,
          0.12954111397266388,
          0.1617007702589035,
          0.16963045299053192,
          0.19559799134731293,
          0.08732034265995026,
          0.17517630755901337,
          0.1885603815317154,
          0.0743919089436531,
          0.14989571273326874,
          0.14490072429180145,
          0.19627033174037933
         ],
         "z": [
          -0.3391553461551666,
          -0.18738232553005219,
          -0.2618979811668396,
          -0.23156701028347015,
          -0.2675374150276184,
          -0.3344789743423462,
          -0.2898164689540863,
          -0.32123857736587524,
          -0.32515743374824524,
          -0.28022924065589905,
          -0.3298124670982361,
          -0.3005971908569336,
          -0.26073217391967773,
          -0.3181297183036804,
          -0.332865834236145,
          -0.3188404440879822,
          -0.271874338388443,
          -0.2843720614910126,
          -0.3514845073223114,
          -0.30437996983528137,
          -0.1892884224653244,
          -0.25424790382385254,
          -0.28707826137542725,
          -0.23894540965557098,
          -0.27462145686149597,
          -0.26769742369651794,
          -0.30411723256111145,
          -0.19378794729709625,
          -0.30359750986099243,
          -0.33094021677970886
         ]
        },
        {
         "customdata": [
          [
           "where can i find a blood glucose chart ?",
           "blood sugar level a1c test",
           3
          ],
          [
           "what information can you tell me about sugar ?",
           "blood sugar level a1c test",
           3
          ],
          [
           "how often should a person have their sugar levels checked ?",
           "blood sugar level a1c test",
           3
          ],
          [
           "how can a person contact the american diabetes association ?",
           "blood sugar level a1c test",
           3
          ],
          [
           "is a five % a1c range healthy what is the normal range ?",
           "blood sugar level a1c test",
           3
          ],
          [
           "what is the healthy blood sugar levels chart ?",
           "blood sugar level a1c test",
           3
          ],
          [
           "how can i find out my blood sugar level ?",
           "blood sugar level a1c test",
           3
          ],
          [
           "what is precision xtra glucose meter e-6 ?",
           "blood sugar level a1c test",
           3
          ],
          [
           "where do you go to find out you have diabetes ?",
           "blood sugar level a1c test",
           3
          ],
          [
           "where can i find blood glucose level chart ?",
           "blood sugar level a1c test",
           3
          ],
          [
           "what is a ancillary blood glucose test ?",
           "blood sugar level a1c test",
           3
          ],
          [
           "what does the hba1c test find ?",
           "blood sugar level a1c test",
           3
          ],
          [
           "what is a normal a1c ?",
           "blood sugar level a1c test",
           3
          ],
          [
           "your esr rate is thirty six what does this mean ?",
           "blood sugar level a1c test",
           3
          ],
          [
           "where can i find information on how running affects blood sugar ?",
           "blood sugar level a1c test",
           3
          ],
          [
           "how to keep a normal blood sugar level ?",
           "blood sugar level a1c test",
           3
          ],
          [
           "what test detects the average blood glucose levels over the previous three weeks ?",
           "blood sugar level a1c test",
           3
          ],
          [
           "what are some tests for diabetes ?",
           "blood sugar level a1c test",
           3
          ],
          [
           "how has glucose meters impacted society ?",
           "blood sugar level a1c test",
           3
          ],
          [
           "what should i know if i am diagnosed with diabetes ?",
           "blood sugar level a1c test",
           3
          ],
          [
           "what is the a1c range of a healthy person ?",
           "blood sugar level a1c test",
           3
          ],
          [
           "what do a1c levels tell you about a diabetic person ?",
           "blood sugar level a1c test",
           3
          ],
          [
           "when eating six meals a day does it take a while for your body to adjust and is it normal to feel like your blood sugar drops even quicker between meals ?",
           "blood sugar level a1c test",
           3
          ],
          [
           "where can i get information on a blood sugar chart ?",
           "blood sugar level a1c test",
           3
          ],
          [
           "your father is diabetic since eighteen yrs since last one month he has developed swelling in bilateral handand complaints of pain at insertion of muscles in hand kneeankle ?",
           "blood sugar level a1c test",
           3
          ],
          [
           "what is the highest level for blood sugar test for a dot physical ?",
           "blood sugar level a1c test",
           3
          ],
          [
           "where can i find something to check my blood glucose levels ?",
           "blood sugar level a1c test",
           3
          ],
          [
           "what is happening to someones blood glucose levels right before a race ?",
           "blood sugar level a1c test",
           3
          ],
          [
           "how did the indian doctor test for diabetes two thousand , five hundred years ago ?",
           "blood sugar level a1c test",
           3
          ],
          [
           "can someone please explain what an a1c calculator is ?",
           "blood sugar level a1c test",
           3
          ],
          [
           "what diagnostic tests are used to confirm diabetes ?",
           "blood sugar level a1c test",
           3
          ],
          [
           "how many kids are diagnosed with diabetes each day ?",
           "blood sugar level a1c test",
           3
          ],
          [
           "help i do not know what an a1c range is ?",
           "blood sugar level a1c test",
           3
          ],
          [
           "where can i find a list of diabetes symptoms ?",
           "blood sugar level a1c test",
           3
          ],
          [
           "i got twenty two on my diabetes test . what does that mean ?",
           "blood sugar level a1c test",
           3
          ],
          [
           "how do i test me blood sugar level to keep healthy ?",
           "blood sugar level a1c test",
           3
          ],
          [
           "what does bayer is a1c now measure ?",
           "blood sugar level a1c test",
           3
          ],
          [
           "about a1c blood sugar levels ?",
           "blood sugar level a1c test",
           3
          ],
          [
           "what is anormal triglycerides level ?",
           "blood sugar level a1c test",
           3
          ],
          [
           "where can one find blood sugar levels charts ?",
           "blood sugar level a1c test",
           3
          ],
          [
           "how do you tell someone you want to be tested for diabetes ?",
           "blood sugar level a1c test",
           3
          ],
          [
           "where can i obtain a diabetic food pyramid ?",
           "blood sugar level a1c test",
           3
          ],
          [
           "what is the target a1c according to the american diabetes association ?",
           "blood sugar level a1c test",
           3
          ],
          [
           "what is the purpose of an a1c chart for a diabetic ?",
           "blood sugar level a1c test",
           3
          ],
          [
           "why you should know about a blood sugar chart ?",
           "blood sugar level a1c test",
           3
          ],
          [
           "what is an a1c blood sugar for ?",
           "blood sugar level a1c test",
           3
          ],
          [
           "how is chromium picolinate related to diabetes ?",
           "blood sugar level a1c test",
           3
          ],
          [
           "what is the normal range of hb1ac ?",
           "blood sugar level a1c test",
           3
          ]
         ],
         "hovertemplate": "summary=%{customdata[1]}<br>pc_1=%{x}<br>pc_2=%{y}<br>pc_3=%{z}<br>sentence=%{customdata[0]}<br>label=%{customdata[2]}<extra></extra>",
         "legendgroup": "blood sugar level a1c test",
         "marker": {
          "color": "#FFA15A",
          "size": 8,
          "symbol": "circle"
         },
         "mode": "markers",
         "name": "blood sugar level a1c test",
         "scene": "scene",
         "showlegend": true,
         "type": "scatter3d",
         "x": [
          -0.4815157651901245,
          -0.6236095428466797,
          -0.5836160182952881,
          -0.5086784958839417,
          -0.5569508671760559,
          -0.6134547591209412,
          -0.4631812572479248,
          -0.4526192247867584,
          -0.5085371136665344,
          -0.513858437538147,
          -0.5332393050193787,
          -0.4698619544506073,
          -0.511154294013977,
          -0.5133417844772339,
          -0.46225300431251526,
          -0.5116320848464966,
          -0.49655699729919434,
          -0.5473465323448181,
          -0.4619152247905731,
          -0.4848265051841736,
          -0.5642442107200623,
          -0.5603858828544617,
          -0.5005826354026794,
          -0.4505837559700012,
          -0.4388594925403595,
          -0.4775863587856293,
          -0.5122312903404236,
          -0.5754922032356262,
          -0.49693652987480164,
          -0.4786883294582367,
          -0.5547069311141968,
          -0.5114022493362427,
          -0.5451639890670776,
          -0.49129194021224976,
          -0.5058480501174927,
          -0.5741365551948547,
          -0.4030090570449829,
          -0.6025421619415283,
          -0.6297692656517029,
          -0.61700439453125,
          -0.5865026712417603,
          -0.5944427251815796,
          -0.6138994097709656,
          -0.4781823754310608,
          -0.5093002915382385,
          -0.6006442904472351,
          -0.5753757953643799,
          -0.5953578352928162
         ],
         "y": [
          -0.12434005737304688,
          -0.197479709982872,
          -0.12415433675050735,
          -0.1622001677751541,
          -0.12631107866764069,
          -0.16112372279167175,
          -0.17873834073543549,
          -0.17805622518062592,
          -0.10135053098201752,
          -0.11302080005407333,
          -0.15757228434085846,
          -0.2008209079504013,
          -0.15194810926914215,
          -0.1551242470741272,
          -0.1972033828496933,
          -0.2457059919834137,
          -0.15153910219669342,
          -0.14909404516220093,
          -0.10959167778491974,
          -0.21643979847431183,
          -0.13686685264110565,
          -0.1571284681558609,
          -0.15028463304042816,
          -0.15865930914878845,
          -0.17427000403404236,
          -0.1059885323047638,
          -0.12280207872390747,
          -0.15628400444984436,
          -0.15148581564426422,
          -0.11134125292301178,
          -0.14062204957008362,
          -0.09749435633420944,
          -0.14418843388557434,
          -0.05656307190656662,
          -0.10050754994153976,
          -0.21051017940044403,
          -0.1600678563117981,
          -0.2192288190126419,
          -0.2160090059041977,
          -0.17820948362350464,
          -0.15282952785491943,
          -0.0991857573390007,
          -0.08012904226779938,
          -0.09610526263713837,
          -0.24889855086803436,
          -0.2088858187198639,
          -0.21335916221141815,
          -0.10099603235721588
         ],
         "z": [
          0.20995058119297028,
          0.16042014956474304,
          0.14284640550613403,
          0.13672788441181183,
          0.18493585288524628,
          0.17261956632137299,
          0.21071884036064148,
          0.06778188794851303,
          0.06165772303938866,
          0.1977384388446808,
          0.07307715713977814,
          0.15743567049503326,
          0.1331581026315689,
          0.059293393045663834,
          0.19470587372779846,
          0.11154980212450027,
          0.12948423624038696,
          0.07238173484802246,
          0.1355280727148056,
          0.1536778211593628,
          0.15870152413845062,
          0.08234132081270218,
          0.13309451937675476,
          0.19949880242347717,
          0.08631369471549988,
          0.10522089153528214,
          0.23645366728305817,
          0.10629542917013168,
          0.059752512723207474,
          0.09574232995510101,
          0.07075440138578415,
          0.07249602675437927,
          0.15338647365570068,
          0.13440683484077454,
          0.07172374427318573,
          0.18434882164001465,
          0.10642538964748383,
          0.1480027735233307,
          0.1278809905052185,
          0.17161501944065094,
          0.07688039541244507,
          0.1474919617176056,
          0.11264850199222565,
          0.12022218853235245,
          0.10531467944383621,
          0.10377855598926544,
          0.17014393210411072,
          0.13912828266620636
         ]
        },
        {
         "customdata": [
          [
           "can type one diabetes be prevented ?",
           "type get two prevent one",
           23
          ],
          [
           "what are any options for pregnant ladies so that their kids can not get diabetes ?",
           "type get two prevent one",
           23
          ],
          [
           "why can you prevent type two diabetes but can not prevent type one diabetes ?",
           "type get two prevent one",
           23
          ],
          [
           "who can get this diabetes ?",
           "type get two prevent one",
           23
          ],
          [
           "is diabetes a non-communicable disease ?",
           "type get two prevent one",
           23
          ],
          [
           "can you get a diabetes from someone who has one ?",
           "type get two prevent one",
           23
          ],
          [
           "can diabetes be passed on from generation to generation ?",
           "type get two prevent one",
           23
          ],
          [
           "can type ii diabetes turn into type i diabetes ?",
           "type get two prevent one",
           23
          ],
          [
           "if a parent has diabetes is it likely the baby will have diabetes ?",
           "type get two prevent one",
           23
          ],
          [
           "who can get diabetes ?",
           "type get two prevent one",
           23
          ],
          [
           "which diabetes does the offspring get if one has diabetes ?",
           "type get two prevent one",
           23
          ],
          [
           "can children get diabeties ?",
           "type get two prevent one",
           23
          ],
          [
           "will pre-diabetes eventually go to stage two diabetes ?",
           "type get two prevent one",
           23
          ],
          [
           "being overweight is a major cause of diabetes ?",
           "type get two prevent one",
           23
          ],
          [
           "do men get diabetes ?",
           "type get two prevent one",
           23
          ],
          [
           "can you get diabetes if your father has it but your mother does not have it and you have a family history of getting diabetes ?",
           "type get two prevent one",
           23
          ],
          [
           "what are the karyotypes of diabetes ?",
           "type get two prevent one",
           23
          ],
          [
           "can tv cause diabetes ?",
           "type get two prevent one",
           23
          ],
          [
           "how can you prevent type two diabetes when your dad has it ?",
           "type get two prevent one",
           23
          ],
          [
           "how could a persons lifestyle possibly lead to type two diabetes ?",
           "type get two prevent one",
           23
          ],
          [
           "if the mom has diabetes can the kids have diabetes ?",
           "type get two prevent one",
           23
          ],
          [
           "could not getting enough sun cause diabetes ?",
           "type get two prevent one",
           23
          ],
          [
           "can diabetes mellitus be prevented ?",
           "type get two prevent one",
           23
          ],
          [
           "does diabetes get passed on ?",
           "type get two prevent one",
           23
          ],
          [
           "can you get diabetes from getting overweigt ?",
           "type get two prevent one",
           23
          ],
          [
           "can you get type one diabetes form being overweight ?",
           "type get two prevent one",
           23
          ],
          [
           "how can you control your diabetes ?",
           "type get two prevent one",
           23
          ],
          [
           "can you get diabetes from not eating ?",
           "type get two prevent one",
           23
          ],
          [
           "type ii diabetes ?",
           "type get two prevent one",
           23
          ],
          [
           "what are some natural ways to potentially reverse diabetes ?",
           "type get two prevent one",
           23
          ],
          [
           "is diabetes contagious ?",
           "type get two prevent one",
           23
          ],
          [
           "can the increased in triglyceride cause type two diabetes ?",
           "type get two prevent one",
           23
          ],
          [
           "if your mate has diabetes and you get pregnant what are the odds the baby would have diabetes ?",
           "type get two prevent one",
           23
          ],
          [
           "can you get diabetes after kissing a person that has diabetes ?",
           "type get two prevent one",
           23
          ],
          [
           "diabetes prevention ?",
           "type get two prevent one",
           23
          ],
          [
           "following a type two diabetes diet ?",
           "type get two prevent one",
           23
          ],
          [
           "is diabetes caused by a problem with the protein insulin ?",
           "type get two prevent one",
           23
          ],
          [
           "can type two diabetes be cured ?",
           "type get two prevent one",
           23
          ],
          [
           "can type two diabetes be cured ?",
           "type get two prevent one",
           23
          ],
          [
           "how you can control diabetes ?",
           "type get two prevent one",
           23
          ],
          [
           "can diabetes go away ?",
           "type get two prevent one",
           23
          ],
          [
           "how does a punnett square look like if the possible parent combination in type two diabetes ?",
           "type get two prevent one",
           23
          ],
          [
           "is diabetes passed on by either parent to child ?",
           "type get two prevent one",
           23
          ],
          [
           "is diabetes a disease or a condition ?",
           "type get two prevent one",
           23
          ],
          [
           "is type ii diabetes contagious ?",
           "type get two prevent one",
           23
          ],
          [
           "can you get diabetes after fifty years old ?",
           "type get two prevent one",
           23
          ],
          [
           "why can not you prevent type one diabetes ?",
           "type get two prevent one",
           23
          ],
          [
           "how do you prevent type one and type two diabetes ?",
           "type get two prevent one",
           23
          ]
         ],
         "hovertemplate": "summary=%{customdata[1]}<br>pc_1=%{x}<br>pc_2=%{y}<br>pc_3=%{z}<br>sentence=%{customdata[0]}<br>label=%{customdata[2]}<extra></extra>",
         "legendgroup": "type get two prevent one",
         "marker": {
          "color": "#19d3f3",
          "size": 8,
          "symbol": "circle"
         },
         "mode": "markers",
         "name": "type get two prevent one",
         "scene": "scene",
         "showlegend": true,
         "type": "scatter3d",
         "x": [
          0.4106568396091461,
          0.408983051776886,
          0.4533103108406067,
          0.4200737774372101,
          0.5678659677505493,
          0.38121095299720764,
          0.5225732326507568,
          0.39820224046707153,
          0.4341060221195221,
          0.4825439751148224,
          0.5594700574874878,
          0.40766608715057373,
          0.43859827518463135,
          0.5597304105758667,
          0.60146164894104,
          0.39701929688453674,
          0.5330891609191895,
          0.5788336992263794,
          0.4999154508113861,
          0.4880467355251312,
          0.46015942096710205,
          0.370580792427063,
          0.5075667500495911,
          0.5076488852500916,
          0.5644423365592957,
          0.5432514548301697,
          0.41854938864707947,
          0.43749570846557617,
          0.38360244035720825,
          0.4902704060077667,
          0.5533204674720764,
          0.408429354429245,
          0.5607792139053345,
          0.42316314578056335,
          0.4940321147441864,
          0.4121653437614441,
          0.42989692091941833,
          0.5557095408439636,
          0.5605695247650146,
          0.4141591489315033,
          0.4035762846469879,
          0.4964795410633087,
          0.5244712233543396,
          0.4992857277393341,
          0.46714210510253906,
          0.4480617046356201,
          0.48468586802482605,
          0.3847787380218506
         ],
         "y": [
          0.49583572149276733,
          0.4234303832054138,
          0.4494348168373108,
          0.5093740224838257,
          0.5024362206459045,
          0.475881963968277,
          0.443168580532074,
          0.4236602783203125,
          0.4008532762527466,
          0.5059458613395691,
          0.5520787239074707,
          0.4269929826259613,
          0.38417792320251465,
          0.5286977291107178,
          0.4690844416618347,
          0.44858041405677795,
          0.4376954138278961,
          0.47127866744995117,
          0.3828783631324768,
          0.38059645891189575,
          0.41448792815208435,
          0.4406076669692993,
          0.4406794607639313,
          0.47250455617904663,
          0.5089596509933472,
          0.5102894902229309,
          0.4349130392074585,
          0.3368128836154938,
          0.455759733915329,
          0.4231175482273102,
          0.4976454973220825,
          0.49817079305648804,
          0.4947494864463806,
          0.4788464903831482,
          0.389476478099823,
          0.4864492416381836,
          0.43917062878608704,
          0.516911506652832,
          0.5410683155059814,
          0.4781682789325714,
          0.49639958143234253,
          0.4738698899745941,
          0.4648229479789734,
          0.39090871810913086,
          0.4484701156616211,
          0.34181278944015503,
          0.4740225374698639,
          0.4525470435619354
         ],
         "z": [
          0.15933384001255035,
          0.10005337744951248,
          0.16090987622737885,
          0.16463927924633026,
          0.15065695345401764,
          0.19703757762908936,
          0.09177154302597046,
          0.16677232086658478,
          0.11532898992300034,
          0.1641354262828827,
          0.09015122056007385,
          0.16144949197769165,
          0.10515764355659485,
          0.06557725369930267,
          0.10755286365747452,
          0.21507349610328674,
          0.10146252065896988,
          0.09844958782196045,
          0.07539498805999756,
          0.0798315554857254,
          0.1980544626712799,
          0.2005140632390976,
          0.10723066329956055,
          0.11387910693883896,
          0.12726075947284698,
          0.0836062952876091,
          0.12581634521484375,
          0.12219101190567017,
          0.1587352603673935,
          0.1611575335264206,
          0.1802714616060257,
          0.1442093402147293,
          0.16187684237957,
          0.17226411402225494,
          0.07690165191888809,
          0.13556694984436035,
          0.13244549930095673,
          0.0815255418419838,
          0.0912708193063736,
          0.11069908738136292,
          0.16653670370578766,
          0.14158648252487183,
          0.09200974553823471,
          0.0939410924911499,
          0.1548929065465927,
          0.12828253209590912,
          0.14497604966163635,
          0.060608696192502975
         ]
        },
        {
         "customdata": [
          [
           "what is a major cause of type one juvenile diabetes ?",
           "type two caus one diseas",
           18
          ],
          [
           "are you born with type two diabetes ?",
           "type two caus one diseas",
           18
          ],
          [
           "diabetes type one and type two ?",
           "type two caus one diseas",
           18
          ],
          [
           "is diabetes a cardiovascular disease ?",
           "type two caus one diseas",
           18
          ],
          [
           "what can cause one type of diabetes ?",
           "type two caus one diseas",
           18
          ],
          [
           "when is type two diabetes developed ?",
           "type two caus one diseas",
           18
          ],
          [
           "diabetes type two ?",
           "type two caus one diseas",
           18
          ],
          [
           "can eating too much sweets cause diabetes ?",
           "type two caus one diseas",
           18
          ],
          [
           "does anabolic agents cause diabetes ?",
           "type two caus one diseas",
           18
          ],
          [
           "types of diabetes ?",
           "type two caus one diseas",
           18
          ],
          [
           "diabetes mellitus is a hereditary disease or not ?",
           "type two caus one diseas",
           18
          ],
          [
           "is diabetes type one inherited ?",
           "type two caus one diseas",
           18
          ],
          [
           "the two types of diabetes ?",
           "type two caus one diseas",
           18
          ],
          [
           "how common is type ii diabetes ?",
           "type two caus one diseas",
           18
          ],
          [
           "diabetes type two is an ?",
           "type two caus one diseas",
           18
          ],
          [
           "can obesity be the cause of type two diabetes ?",
           "type two caus one diseas",
           18
          ],
          [
           "cause of diabetes ?",
           "type two caus one diseas",
           18
          ],
          [
           "do kids get type two diabetes more than adults ?",
           "type two caus one diseas",
           18
          ],
          [
           "is diabetes a disease or ailment ?",
           "type two caus one diseas",
           18
          ],
          [
           "who is more prone to get diabetes ?",
           "type two caus one diseas",
           18
          ],
          [
           "can you develop diabetes from eating too many carbs ?",
           "type two caus one diseas",
           18
          ],
          [
           "what are the conditions for type ii diabetes ?",
           "type two caus one diseas",
           18
          ],
          [
           "can type two diabetes cause obesity ?",
           "type two caus one diseas",
           18
          ],
          [
           "does jason dunn have diabetes ?",
           "type two caus one diseas",
           18
          ],
          [
           "obesity and diabetes ?",
           "type two caus one diseas",
           18
          ],
          [
           "is type two diabetes hereditary ?",
           "type two caus one diseas",
           18
          ],
          [
           "is type one diabetes hereditary ?",
           "type two caus one diseas",
           18
          ],
          [
           "what features differentiate type one diabetes from type two ?",
           "type two caus one diseas",
           18
          ],
          [
           "two types of diabetes ?",
           "type two caus one diseas",
           18
          ],
          [
           "are any types of diabetes hereditary ?",
           "type two caus one diseas",
           18
          ],
          [
           "is diabetes a type of disease ?",
           "type two caus one diseas",
           18
          ],
          [
           "type one and type two diabetes ?",
           "type two caus one diseas",
           18
          ],
          [
           "can obesity lead to type two diabetes ?",
           "type two caus one diseas",
           18
          ]
         ],
         "hovertemplate": "summary=%{customdata[1]}<br>pc_1=%{x}<br>pc_2=%{y}<br>pc_3=%{z}<br>sentence=%{customdata[0]}<br>label=%{customdata[2]}<extra></extra>",
         "legendgroup": "type two caus one diseas",
         "marker": {
          "color": "#FF6692",
          "size": 8,
          "symbol": "circle"
         },
         "mode": "markers",
         "name": "type two caus one diseas",
         "scene": "scene",
         "showlegend": true,
         "type": "scatter3d",
         "x": [
          0.27597808837890625,
          0.279146671295166,
          0.24684736132621765,
          0.15920332074165344,
          0.2405119389295578,
          0.2593381404876709,
          0.2504171133041382,
          0.2231263965368271,
          0.24731925129890442,
          0.16887609660625458,
          0.1611708104610443,
          0.2552262544631958,
          0.20329706370830536,
          0.30720317363739014,
          0.24269483983516693,
          0.25238925218582153,
          0.15724171698093414,
          0.229802668094635,
          0.1938038468360901,
          0.27073901891708374,
          0.25132906436920166,
          0.26097142696380615,
          0.24727457761764526,
          0.3052414357662201,
          0.28712815046310425,
          0.23402850329875946,
          0.18232837319374084,
          0.24295297265052795,
          0.2449968159198761,
          0.1699826717376709,
          0.15758301317691803,
          0.24345237016677856,
          0.24179024994373322
         ],
         "y": [
          0.716044545173645,
          0.6570398211479187,
          0.6998378038406372,
          0.68520587682724,
          0.7031052112579346,
          0.5978962779045105,
          0.6434710621833801,
          0.5469894409179688,
          0.580062747001648,
          0.6866381764411926,
          0.6831405758857727,
          0.6113549470901489,
          0.6600540280342102,
          0.628420352935791,
          0.6351597905158997,
          0.6071972250938416,
          0.6415332555770874,
          0.5510877370834351,
          0.6711688041687012,
          0.7048883438110352,
          0.6159795522689819,
          0.6052701473236084,
          0.5908622145652771,
          0.6463735699653625,
          0.6602614521980286,
          0.6851228475570679,
          0.7086820602416992,
          0.692649781703949,
          0.6530441641807556,
          0.6969872713088989,
          0.6197028160095215,
          0.7059546113014221,
          0.595025360584259
         ],
         "z": [
          -0.025904782116413116,
          -0.02988019771873951,
          -0.09410194307565689,
          -0.1272999793291092,
          -0.13434478640556335,
          -0.0350356288254261,
          -0.09630279242992401,
          -0.06452129036188126,
          -0.13249830901622772,
          -0.08437938243150711,
          -0.13306353986263275,
          -0.1493058055639267,
          -0.09351342171430588,
          -0.013819153420627117,
          -0.08962073922157288,
          -0.15441209077835083,
          -0.13443967700004578,
          -0.06815458834171295,
          -0.09297927469015121,
          -0.0346275232732296,
          -0.1686992198228836,
          -0.046683717519044876,
          -0.13608261942863464,
          -0.02110154740512371,
          -0.09450001269578934,
          -0.13558925688266754,
          -0.10556261986494064,
          -0.12300316244363785,
          -0.09593536704778671,
          -0.10687115043401718,
          -0.10174934566020966,
          -0.08411852270364761,
          -0.13240066170692444
         ]
        },
        {
         "customdata": [
          [
           "why are diabetics more prone to complications from swine flu ?",
           "neuropathi treatment problem foot complic",
           19
          ],
          [
           "is there iso specification for insulin syringes ?",
           "neuropathi treatment problem foot complic",
           19
          ],
          [
           "you need help finding a cure for belching your husband has been belching for eight years ?",
           "neuropathi treatment problem foot complic",
           19
          ],
          [
           "what does treatment of diabetic neuropathy focus on ?",
           "neuropathi treatment problem foot complic",
           19
          ],
          [
           "diabetic ulcers ?",
           "neuropathi treatment problem foot complic",
           19
          ],
          [
           "diabetic complications ?",
           "neuropathi treatment problem foot complic",
           19
          ],
          [
           "what can diabetic neuropathy lead to ?",
           "neuropathi treatment problem foot complic",
           19
          ],
          [
           "how do you reduce aggregation and inactivation by recombinant insulin ?",
           "neuropathi treatment problem foot complic",
           19
          ],
          [
           "can postal workers have diabetes ?",
           "neuropathi treatment problem foot complic",
           19
          ],
          [
           "can diabetic foot problems be treated pain free ?",
           "neuropathi treatment problem foot complic",
           19
          ],
          [
           "what kind of exercises can a twenty-five year old diabetic do ?",
           "neuropathi treatment problem foot complic",
           19
          ],
          [
           "why does your diabetic dog cry in the mornings ?",
           "neuropathi treatment problem foot complic",
           19
          ],
          [
           "is it safe for diabetics to wear compression shorts ?",
           "neuropathi treatment problem foot complic",
           19
          ],
          [
           "why do diabetics with anorexia get retinopathy ?",
           "neuropathi treatment problem foot complic",
           19
          ],
          [
           "what is diabetic shock and how can i prevent it ?",
           "neuropathi treatment problem foot complic",
           19
          ],
          [
           "when would a diabetic need to see the doctor with sore feet ?",
           "neuropathi treatment problem foot complic",
           19
          ],
          [
           "is wellness support network is diabetic pack effective ?",
           "neuropathi treatment problem foot complic",
           19
          ],
          [
           "are there adverse affects from scuba diving with diabetes ?",
           "neuropathi treatment problem foot complic",
           19
          ],
          [
           "can you be a diabetic and be in nrotc ?",
           "neuropathi treatment problem foot complic",
           19
          ],
          [
           "causes of diabetic foot pain ?",
           "neuropathi treatment problem foot complic",
           19
          ],
          [
           "diabetic foot pain ?",
           "neuropathi treatment problem foot complic",
           19
          ],
          [
           "treatment for diabetic neuropathy ?",
           "neuropathi treatment problem foot complic",
           19
          ],
          [
           "what are some safe exercise work out routines for people who suffer from diabetic neuropathy ?",
           "neuropathi treatment problem foot complic",
           19
          ],
          [
           "why would a person need diabetic neuropathy treatment ?",
           "neuropathi treatment problem foot complic",
           19
          ],
          [
           "how do you pronounce agape ?",
           "neuropathi treatment problem foot complic",
           19
          ],
          [
           "what are the functions of gonads ?",
           "neuropathi treatment problem foot complic",
           19
          ],
          [
           "what foot problems exist in high develloped countries ?",
           "neuropathi treatment problem foot complic",
           19
          ],
          [
           "if you have osgood do you get your leg cut off ?",
           "neuropathi treatment problem foot complic",
           19
          ],
          [
           "how does diabetic neuropathy affect ones daily life ?",
           "neuropathi treatment problem foot complic",
           19
          ],
          [
           "what kinds of treatment are there for diabetic eye problems ?",
           "neuropathi treatment problem foot complic",
           19
          ],
          [
           "what is a good stocking for diabetics to use for sore feet ?",
           "neuropathi treatment problem foot complic",
           19
          ],
          [
           "where is the donor liver placed in a heterotopic transplantation ?",
           "neuropathi treatment problem foot complic",
           19
          ],
          [
           "can a diabetic dive and perform in scuba activities ?",
           "neuropathi treatment problem foot complic",
           19
          ],
          [
           "what does flu do to teen with diabetes ?",
           "neuropathi treatment problem foot complic",
           19
          ],
          [
           "what are some problems people with diabetes have ?",
           "neuropathi treatment problem foot complic",
           19
          ],
          [
           "can you recycle diabetic needles ?",
           "neuropathi treatment problem foot complic",
           19
          ],
          [
           "what does diabetic neuropathy treatment entail ?",
           "neuropathi treatment problem foot complic",
           19
          ],
          [
           "eat lean meat to lower risk of heart disease with diabetes ?",
           "neuropathi treatment problem foot complic",
           19
          ],
          [
           "what insurance companies has started first insurance scheme for diabetic patients ?",
           "neuropathi treatment problem foot complic",
           19
          ],
          [
           "how recombinant insulin is used to reduce aggregation and inactivation ?",
           "neuropathi treatment problem foot complic",
           19
          ],
          [
           "what are secondary complications of diabetes ?",
           "neuropathi treatment problem foot complic",
           19
          ],
          [
           "what is tradjenta for ?",
           "neuropathi treatment problem foot complic",
           19
          ],
          [
           "is there starch in your body ?",
           "neuropathi treatment problem foot complic",
           19
          ],
          [
           "is wrapping feet when sore a good idea ?",
           "neuropathi treatment problem foot complic",
           19
          ],
          [
           "diabetic eye problems ?",
           "neuropathi treatment problem foot complic",
           19
          ],
          [
           "what options are available for those who suffer from diabetic retinopathy ?",
           "neuropathi treatment problem foot complic",
           19
          ],
          [
           "what is pelvic phleboliths ?",
           "neuropathi treatment problem foot complic",
           19
          ]
         ],
         "hovertemplate": "summary=%{customdata[1]}<br>pc_1=%{x}<br>pc_2=%{y}<br>pc_3=%{z}<br>sentence=%{customdata[0]}<br>label=%{customdata[2]}<extra></extra>",
         "legendgroup": "neuropathi treatment problem foot complic",
         "marker": {
          "color": "#B6E880",
          "size": 8,
          "symbol": "circle"
         },
         "mode": "markers",
         "name": "neuropathi treatment problem foot complic",
         "scene": "scene",
         "showlegend": true,
         "type": "scatter3d",
         "x": [
          0.1356547474861145,
          0.18780425190925598,
          0.19144678115844727,
          0.09825598448514938,
          0.09448059648275375,
          0.26247695088386536,
          0.12250620871782303,
          0.11625384539365768,
          0.16121278703212738,
          0.191558375954628,
          0.19582727551460266,
          0.16730554401874542,
          0.18407942354679108,
          0.15100713074207306,
          0.16490530967712402,
          0.08666344732046127,
          0.09037206321954727,
          0.1549573689699173,
          0.1496071070432663,
          0.22069330513477325,
          0.1724027693271637,
          0.1935761570930481,
          0.23186326026916504,
          0.09415405988693237,
          0.08844142407178879,
          0.1947643756866455,
          0.2126665711402893,
          0.0942409336566925,
          0.20443648099899292,
          0.21764609217643738,
          0.1484259068965912,
          0.0991595908999443,
          0.22938542068004608,
          0.21214641630649567,
          0.22736036777496338,
          0.09568896889686584,
          0.12103695422410965,
          0.18766602873802185,
          0.10911821573972702,
          0.10439930111169815,
          0.22078101336956024,
          0.13240976631641388,
          0.19290001690387726,
          0.22269059717655182,
          0.16381190717220306,
          0.10281231999397278,
          0.19397111237049103
         ],
         "y": [
          0.02359491027891636,
          0.038006741553545,
          -0.021006649360060692,
          0.008707955479621887,
          0.01843884214758873,
          0.06306036561727524,
          0.018337415531277657,
          0.13239330053329468,
          0.057444509118795395,
          -0.010699247941374779,
          0.14449870586395264,
          0.018959591165184975,
          0.0031557665206491947,
          0.047212935984134674,
          0.003782609011977911,
          0.012257954105734825,
          0.11506442725658417,
          0.11485178768634796,
          0.08018969744443893,
          0.0885627344250679,
          0.05520061030983925,
          0.1398845911026001,
          0.0038661998696625233,
          0.011836833320558071,
          0.011893915943801403,
          0.14047004282474518,
          0.069806307554245,
          -0.0033798888325691223,
          0.06583145260810852,
          0.0800541564822197,
          0.0743413195014,
          0.1416110396385193,
          0.08080241829156876,
          0.07353663444519043,
          0.11174321174621582,
          0.11245466768741608,
          0.13161806762218475,
          -0.040903229266405106,
          0.13938646018505096,
          0.14175499975681305,
          0.055808089673519135,
          0.13455291092395782,
          0.06624501943588257,
          0.04339953884482384,
          0.03522311896085739,
          0.14124733209609985,
          0.06996490806341171
         ],
         "z": [
          -0.055907558649778366,
          0.1287124902009964,
          0.02784002386033535,
          -0.027082696557044983,
          0.018182840198278427,
          0.030688781291246414,
          -0.031093314290046692,
          0.0443354994058609,
          0.10818292945623398,
          -0.0052613914012908936,
          0.0780063197016716,
          0.11050024628639221,
          -0.043341509997844696,
          0.15629684925079346,
          0.096677765250206,
          0.07552964985370636,
          0.12603773176670074,
          0.07872221618890762,
          0.08965615183115005,
          -0.04135555028915405,
          0.016498664394021034,
          0.07522127032279968,
          0.06923206895589828,
          -0.020368829369544983,
          0.062313638627529144,
          0.07519908994436264,
          -0.04818420112133026,
          0.06935184448957443,
          -0.034355927258729935,
          0.0666198879480362,
          0.09820673614740372,
          0.05520632863044739,
          0.0735592395067215,
          -0.038537152111530304,
          -0.0384720079600811,
          0.12148203700780869,
          0.05417224392294884,
          0.018666956573724747,
          0.041282959282398224,
          0.05345367640256882,
          -0.06233224645256996,
          0.03232191875576973,
          0.038391366600990295,
          0.04867764934897423,
          0.12828977406024933,
          0.05977476388216019,
          0.04621053487062454
         ]
        },
        {
         "customdata": [
          [
           "where can i find inexpensive diabetes blood testing supplies ?",
           "suppli find test inform free",
           32
          ],
          [
           "where to get some diabetic testing supplies ?",
           "suppli find test inform free",
           32
          ],
          [
           "where can you get information on living with diabetes ?",
           "suppli find test inform free",
           32
          ],
          [
           "what companies offer free diabetic testing supplies ?",
           "suppli find test inform free",
           32
          ],
          [
           "free diabetes supplies ?",
           "suppli find test inform free",
           32
          ],
          [
           "in what trimester is a pregnant lady tested for gestational diabetes ?",
           "suppli find test inform free",
           32
          ],
          [
           "how can you become a member of a medical research team in us ?",
           "suppli find test inform free",
           32
          ],
          [
           "where can i get free diabetic testing supplies in milwaukee , wi ?",
           "suppli find test inform free",
           32
          ],
          [
           "where could one find information on diabetic medical supplies ?",
           "suppli find test inform free",
           32
          ],
          [
           "finding free diabetic meters ?",
           "suppli find test inform free",
           32
          ],
          [
           "where to get free diabetic supplies ?",
           "suppli find test inform free",
           32
          ],
          [
           "where can you find the information about the diabetes treatment over the internet ?",
           "suppli find test inform free",
           32
          ],
          [
           "if you have a six month old baby - had gestational diabetes with that pregnancy - and just found out that you are pregnant again is it safe to stay pregnant ?",
           "suppli find test inform free",
           32
          ],
          [
           "diabetic supplies medicare ?",
           "suppli find test inform free",
           32
          ],
          [
           "where can one purchase diabetes supplies online ?",
           "suppli find test inform free",
           32
          ],
          [
           "where can i find out more about diabetic testing supplies ?",
           "suppli find test inform free",
           32
          ],
          [
           "where can i find information and advice on diabetes nutrition ?",
           "suppli find test inform free",
           32
          ],
          [
           "how much fat and how much sugar daily for a diabetic ?",
           "suppli find test inform free",
           32
          ],
          [
           "what are the chances i will be able to carry my baby to term if i am diabetic ?",
           "suppli find test inform free",
           32
          ],
          [
           "what precaution is needed for diabetic patients on nalidixic acid ?",
           "suppli find test inform free",
           32
          ],
          [
           "serve diabetes food at childrens parties ?",
           "suppli find test inform free",
           32
          ],
          [
           "what website is the best at finding diabetic supplies ?",
           "suppli find test inform free",
           32
          ],
          [
           "where can i find diabetic testing supplies to ensure that i am maintaining normal glucose levels ?",
           "suppli find test inform free",
           32
          ],
          [
           "what are some side effects of standard diabetes medicine ?",
           "suppli find test inform free",
           32
          ],
          [
           "where can i find advice and information on non diabetic neuropathy ?",
           "suppli find test inform free",
           32
          ],
          [
           "is there a chart that shows foods that are high in protein online ?",
           "suppli find test inform free",
           32
          ],
          [
           "what exactly are diabetic supplies ?",
           "suppli find test inform free",
           32
          ],
          [
           "medicare diabetic supplies ?",
           "suppli find test inform free",
           32
          ],
          [
           "where can i find and purchase diabetes testing supplies ?",
           "suppli find test inform free",
           32
          ],
          [
           "why might your 8-year-old lose twelve pounds in two weeks and not want to eat much ?",
           "suppli find test inform free",
           32
          ]
         ],
         "hovertemplate": "summary=%{customdata[1]}<br>pc_1=%{x}<br>pc_2=%{y}<br>pc_3=%{z}<br>sentence=%{customdata[0]}<br>label=%{customdata[2]}<extra></extra>",
         "legendgroup": "suppli find test inform free",
         "marker": {
          "color": "#FF97FF",
          "size": 8,
          "symbol": "circle"
         },
         "mode": "markers",
         "name": "suppli find test inform free",
         "scene": "scene",
         "showlegend": true,
         "type": "scatter3d",
         "x": [
          -0.23649351298809052,
          -0.2562195062637329,
          -0.25895920395851135,
          -0.28662925958633423,
          -0.2853401303291321,
          -0.23408135771751404,
          -0.2700127363204956,
          -0.2813672125339508,
          -0.3086026906967163,
          -0.2669142186641693,
          -0.22560949623584747,
          -0.23841644823551178,
          -0.21658028662204742,
          -0.25820299983024597,
          -0.20899957418441772,
          -0.2760699987411499,
          -0.2807612419128418,
          -0.2584208548069,
          -0.23862558603286743,
          -0.2797878086566925,
          -0.313321590423584,
          -0.3129144012928009,
          -0.2924309968948364,
          -0.2714967727661133,
          -0.21161483228206635,
          -0.314075767993927,
          -0.27001985907554626,
          -0.2549709677696228,
          -0.26238304376602173,
          -0.2891009449958801
         ],
         "y": [
          0.050031039863824844,
          0.11489731073379517,
          0.11698885262012482,
          0.11873424798250198,
          0.05250527709722519,
          0.09549134969711304,
          0.07647760212421417,
          0.11589963734149933,
          0.00471431715413928,
          0.07731951028108597,
          0.02325265482068062,
          0.08389417082071304,
          0.10585004836320877,
          0.10609029233455658,
          0.0014032799517735839,
          0.07919514179229736,
          0.06756636500358582,
          0.11659377068281174,
          0.05714184045791626,
          0.0808427557349205,
          0.01164538785815239,
          0.005751424003392458,
          0.06160430610179901,
          0.08512969315052032,
          -0.00012682803208008409,
          0.031543996185064316,
          0.06422657519578934,
          0.09985708445310593,
          0.08837161958217621,
          0.03224553167819977
         ],
         "z": [
          0.2971188724040985,
          0.23058493435382843,
          0.18609531223773956,
          0.3220956325531006,
          0.2022552639245987,
          0.311848908662796,
          0.24831640720367432,
          0.3053514361381531,
          0.30111536383628845,
          0.2602427005767822,
          0.2058887481689453,
          0.2067859023809433,
          0.315779447555542,
          0.18203207850456238,
          0.21325981616973877,
          0.2903403043746948,
          0.31773585081100464,
          0.17961236834526062,
          0.2960726022720337,
          0.29682525992393494,
          0.3142366409301758,
          0.30847787857055664,
          0.3246835470199585,
          0.1815805733203888,
          0.211035817861557,
          0.32376739382743835,
          0.24798640608787537,
          0.18547941744327545,
          0.2526260316371918,
          0.19831649959087372
         ]
        },
        {
         "customdata": [
          [
           "what kinds of fruit can a diabetic eat ?",
           "sugar eat food good fruit",
           29
          ],
          [
           "what food do i need to avoid as a diabetic ?",
           "sugar eat food good fruit",
           29
          ],
          [
           "what carbohydrates can a diabetic eat ?",
           "sugar eat food good fruit",
           29
          ],
          [
           "why would cheese help lower sugar levels in a diabetic ?",
           "sugar eat food good fruit",
           29
          ],
          [
           "is there any way to monitor blood sugar levels without using a needle to draw blood ?",
           "sugar eat food good fruit",
           29
          ],
          [
           "what benefit is low carbon sugar is it helpful in the management of diabetes ?",
           "sugar eat food good fruit",
           29
          ],
          [
           "what does food for diabetics need ?",
           "sugar eat food good fruit",
           29
          ],
          [
           "what kind of juice is good for a diabetic ?",
           "sugar eat food good fruit",
           29
          ],
          [
           "what diabetics should not eat ?",
           "sugar eat food good fruit",
           29
          ],
          [
           "what are good carbohydrates for diabetics ?",
           "sugar eat food good fruit",
           29
          ],
          [
           "maintaining blood sugar levels ?",
           "sugar eat food good fruit",
           29
          ],
          [
           "what fruit is good with diabetes ?",
           "sugar eat food good fruit",
           29
          ],
          [
           "why fructose taste sweeter than glucose ?",
           "sugar eat food good fruit",
           29
          ],
          [
           "can sixty five year old diabetic eat walnuts and almonds ?",
           "sugar eat food good fruit",
           29
          ],
          [
           "is fructose better than granulated sugar for diabetics ?",
           "sugar eat food good fruit",
           29
          ],
          [
           "how much sugar should diabetics eat ?",
           "sugar eat food good fruit",
           29
          ],
          [
           "what should a diabetics carbohydrate intake be ?",
           "sugar eat food good fruit",
           29
          ],
          [
           "do you have a list of low purine foods ?",
           "sugar eat food good fruit",
           29
          ],
          [
           "is v8 juice good for diabetics ?",
           "sugar eat food good fruit",
           29
          ],
          [
           "how much sugar is safe for a juvenile diabetic ?",
           "sugar eat food good fruit",
           29
          ],
          [
           "is fruit very high in sugars ?",
           "sugar eat food good fruit",
           29
          ],
          [
           "how many carbs should you have as a diabetic ?",
           "sugar eat food good fruit",
           29
          ],
          [
           "should a diabetic not eat fruit ?",
           "sugar eat food good fruit",
           29
          ],
          [
           "why are diabetics not allowed to eat food which contains sugar ?",
           "sugar eat food good fruit",
           29
          ],
          [
           "when should diabetic eat ?",
           "sugar eat food good fruit",
           29
          ],
          [
           "what to do when diabetic wants food not good for them ?",
           "sugar eat food good fruit",
           29
          ],
          [
           "which nuts and beans can eat for diabetic person ?",
           "sugar eat food good fruit",
           29
          ],
          [
           "what herbs may help adjust blood sugar levels ?",
           "sugar eat food good fruit",
           29
          ],
          [
           "is one thousand high for glucose reading ?",
           "sugar eat food good fruit",
           29
          ],
          [
           "do diabetes sufferers develop a short temper ?",
           "sugar eat food good fruit",
           29
          ],
          [
           "should diabetics eat sugar in large amounts or in moderation ?",
           "sugar eat food good fruit",
           29
          ],
          [
           "what should your sugar be not diabetic ?",
           "sugar eat food good fruit",
           29
          ]
         ],
         "hovertemplate": "summary=%{customdata[1]}<br>pc_1=%{x}<br>pc_2=%{y}<br>pc_3=%{z}<br>sentence=%{customdata[0]}<br>label=%{customdata[2]}<extra></extra>",
         "legendgroup": "sugar eat food good fruit",
         "marker": {
          "color": "#FECB52",
          "size": 8,
          "symbol": "circle"
         },
         "mode": "markers",
         "name": "sugar eat food good fruit",
         "scene": "scene",
         "showlegend": true,
         "type": "scatter3d",
         "x": [
          -0.14481106400489807,
          -0.15304043889045715,
          -0.08594294637441635,
          -0.03230033814907074,
          -0.08224659413099289,
          -0.1095946654677391,
          -0.11276789754629135,
          -0.05324790999293327,
          -0.10774349421262741,
          -0.08516450971364975,
          -0.15721233189105988,
          -0.13235962390899658,
          -0.13603618741035461,
          -0.0860869437456131,
          -0.07250671088695526,
          -0.12647132575511932,
          -0.15994054079055786,
          -0.10244348645210266,
          -0.09972144663333893,
          -0.15329758822917938,
          -0.08742786943912506,
          -0.12513363361358643,
          -0.11246494948863983,
          -0.005742672365158796,
          -0.06183928623795509,
          -0.08631674200296402,
          -0.10163432359695435,
          -0.15873415768146515,
          -0.08424941450357437,
          -0.04659081995487213,
          -0.12103927880525589,
          -0.08861534297466278
         ],
         "y": [
          -0.3374422788619995,
          -0.3523910343647003,
          -0.4798525273799896,
          -0.4369344711303711,
          -0.47456449270248413,
          -0.47762492299079895,
          -0.4600871503353119,
          -0.47784706950187683,
          -0.4606592357158661,
          -0.4620126187801361,
          -0.4174139201641083,
          -0.3363151252269745,
          -0.4052486717700958,
          -0.3609684109687805,
          -0.461856871843338,
          -0.45310139656066895,
          -0.475756973028183,
          -0.36431998014450073,
          -0.40283575654029846,
          -0.3537338674068451,
          -0.45700836181640625,
          -0.45674386620521545,
          -0.332511305809021,
          -0.41200870275497437,
          -0.3695050776004791,
          -0.3556501269340515,
          -0.396770179271698,
          -0.48209911584854126,
          -0.47028595209121704,
          -0.48224806785583496,
          -0.3505091071128845,
          -0.4842478930950165
         ],
         "z": [
          0.6547518968582153,
          0.6867453455924988,
          0.6895128488540649,
          0.647527813911438,
          0.6714150309562683,
          0.6805099248886108,
          0.5715503692626953,
          0.6490381360054016,
          0.5720182061195374,
          0.5961600542068481,
          0.5632310509681702,
          0.6212812066078186,
          0.5900552272796631,
          0.5773599743843079,
          0.6425333619117737,
          0.5745977163314819,
          0.6304718255996704,
          0.5869494080543518,
          0.6326228380203247,
          0.6871181130409241,
          0.6631490588188171,
          0.5707286596298218,
          0.5818359851837158,
          0.6549820303916931,
          0.5470199584960938,
          0.5729556679725647,
          0.6269775032997131,
          0.6417800784111023,
          0.663640558719635,
          0.6417974233627319,
          0.6096636056900024,
          0.6883935928344727
         ]
        },
        {
         "customdata": [
          [
           "where should insulin be stored ?",
           "insulin use bacteria produc made",
           6
          ],
          [
           "who invented insulin ?",
           "insulin use bacteria produc made",
           6
          ],
          [
           "what hormone produces excessive diuresis without high blood glucose levels ?",
           "insulin use bacteria produc made",
           6
          ],
          [
           "why are bacteria used to make human insulin ?",
           "insulin use bacteria produc made",
           6
          ],
          [
           "what hormone is produced in inadequate amounts for sexual immaturity ?",
           "insulin use bacteria produc made",
           6
          ],
          [
           "where is the energy stored in glucose ?",
           "insulin use bacteria produc made",
           6
          ],
          [
           "what is diabetic keto acidosis ?",
           "insulin use bacteria produc made",
           6
          ],
          [
           "what hormone produced in inadequate amounts causes excessive diuresis without high blood glucose levels ?",
           "insulin use bacteria produc made",
           6
          ],
          [
           "why can not you use the same lancet twice ?",
           "insulin use bacteria produc made",
           6
          ],
          [
           "where is this energy stored in glucose ?",
           "insulin use bacteria produc made",
           6
          ],
          [
           "many diabetics are now using insulin that was made by certain bacteria the ability of these bacteria to produce insulin was most likely the result of ?",
           "insulin use bacteria produc made",
           6
          ],
          [
           "ability of bacteria to produce insulin was result of ?",
           "insulin use bacteria produc made",
           6
          ],
          [
           "what process results in genetically different bacteria ?",
           "insulin use bacteria produc made",
           6
          ],
          [
           "how is serum insulin made ?",
           "insulin use bacteria produc made",
           6
          ],
          [
           "who invented insulin for diabetes ?",
           "insulin use bacteria produc made",
           6
          ],
          [
           "you accidentally had one seroquel not sure what mg with a beer and it made you black out what permanent or long term affects will this one pill have on your body ?",
           "insulin use bacteria produc made",
           6
          ],
          [
           "what is recombinant human insulin ?",
           "insulin use bacteria produc made",
           6
          ],
          [
           "explain how a person with diabetes might benefit from the use of genetic engineering in bacteria ?",
           "insulin use bacteria produc made",
           6
          ],
          [
           "what is the latest research into diabetes type one ?",
           "insulin use bacteria produc made",
           6
          ],
          [
           "uncorrected type i diabetes mellitus may result in ?",
           "insulin use bacteria produc made",
           6
          ],
          [
           "who is the inventor of insulin ?",
           "insulin use bacteria produc made",
           6
          ],
          [
           "why are bacteria used to produce insulin ?",
           "insulin use bacteria produc made",
           6
          ],
          [
           "how is genetically engineered insulin made ?",
           "insulin use bacteria produc made",
           6
          ],
          [
           "who created insulin ?",
           "insulin use bacteria produc made",
           6
          ],
          [
           "what is the insulin used for dm1 patients ?",
           "insulin use bacteria produc made",
           6
          ],
          [
           "what three features does diabetic ketoacidosis combine ?",
           "insulin use bacteria produc made",
           6
          ],
          [
           "how does diabetes affect homeostasis ?",
           "insulin use bacteria produc made",
           6
          ],
          [
           "why metaformin tablets as well as insulin injections ?",
           "insulin use bacteria produc made",
           6
          ],
          [
           "why is it important that urea be removed from diabetic patients ?",
           "insulin use bacteria produc made",
           6
          ],
          [
           "where did best and banting get the insulin from ?",
           "insulin use bacteria produc made",
           6
          ],
          [
           "how was insulin made ?",
           "insulin use bacteria produc made",
           6
          ],
          [
           "why can not use the same lancet twice ?",
           "insulin use bacteria produc made",
           6
          ],
          [
           "what cardiac and antihypertensives are contraindicated in people with diabetes ?",
           "insulin use bacteria produc made",
           6
          ],
          [
           "when was insulin first used ?",
           "insulin use bacteria produc made",
           6
          ],
          [
           "who invented the insulin pump ?",
           "insulin use bacteria produc made",
           6
          ],
          [
           "why use insulin pump ?",
           "insulin use bacteria produc made",
           6
          ],
          [
           "what is kosher insulin ?",
           "insulin use bacteria produc made",
           6
          ],
          [
           "in what year was insulin first used to treat diabetes ?",
           "insulin use bacteria produc made",
           6
          ],
          [
           "insulin produced by bacteria ?",
           "insulin use bacteria produc made",
           6
          ],
          [
           "ability of bacteria to produce insulin ?",
           "insulin use bacteria produc made",
           6
          ],
          [
           "how can genetic engineering be used to treat diabetes ?",
           "insulin use bacteria produc made",
           6
          ],
          [
           "what are the different types of insulin currently available for diabetes patients ?",
           "insulin use bacteria produc made",
           6
          ],
          [
           "when was diabetes discovered and by whom ?",
           "insulin use bacteria produc made",
           6
          ]
         ],
         "hovertemplate": "summary=%{customdata[1]}<br>pc_1=%{x}<br>pc_2=%{y}<br>pc_3=%{z}<br>sentence=%{customdata[0]}<br>label=%{customdata[2]}<extra></extra>",
         "legendgroup": "insulin use bacteria produc made",
         "marker": {
          "color": "#636efa",
          "size": 8,
          "symbol": "circle"
         },
         "mode": "markers",
         "name": "insulin use bacteria produc made",
         "scene": "scene",
         "showlegend": true,
         "type": "scatter3d",
         "x": [
          -0.511283278465271,
          -0.37206920981407166,
          -0.44903838634490967,
          -0.4349908232688904,
          -0.3754796087741852,
          -0.41501718759536743,
          -0.450731098651886,
          -0.44209957122802734,
          -0.4573041498661041,
          -0.459084689617157,
          -0.46629682183265686,
          -0.39564019441604614,
          -0.4142496883869171,
          -0.44792717695236206,
          -0.4026634693145752,
          -0.46904921531677246,
          -0.4138908386230469,
          -0.3661264181137085,
          -0.46729350090026855,
          -0.3484753370285034,
          -0.43344414234161377,
          -0.4302564561367035,
          -0.3555692732334137,
          -0.4669346809387207,
          -0.36644241213798523,
          -0.4334079325199127,
          -0.3615349233150482,
          -0.3499186038970947,
          -0.37574777007102966,
          -0.4240729510784149,
          -0.4672901928424835,
          -0.45293012261390686,
          -0.3835858702659607,
          -0.4367996156215668,
          -0.42709723114967346,
          -0.4330211579799652,
          -0.37138769030570984,
          -0.46178314089775085,
          -0.4505870044231415,
          -0.37741437554359436,
          -0.3815170228481293,
          -0.39647385478019714,
          -0.40437793731689453
         ],
         "y": [
          0.2776120603084564,
          0.30736443400382996,
          0.2793220281600952,
          0.24292364716529846,
          0.2625712454319,
          0.26390910148620605,
          0.3139045834541321,
          0.28957387804985046,
          0.21252381801605225,
          0.2859833538532257,
          0.3071736693382263,
          0.34845003485679626,
          0.24196092784404755,
          0.28772857785224915,
          0.3735312223434448,
          0.36291491985321045,
          0.2330876588821411,
          0.2744353115558624,
          0.314245343208313,
          0.25302955508232117,
          0.29559504985809326,
          0.2708560526371002,
          0.26041579246520996,
          0.3608231544494629,
          0.30815446376800537,
          0.3404828906059265,
          0.38350820541381836,
          0.37530311942100525,
          0.28629156947135925,
          0.28195303678512573,
          0.3099048137664795,
          0.21808604896068573,
          0.2903124988079071,
          0.34187042713165283,
          0.29698947072029114,
          0.24157093465328217,
          0.29813286662101746,
          0.36211854219436646,
          0.2913956046104431,
          0.36856430768966675,
          0.3583683669567108,
          0.33620578050613403,
          0.3704138696193695
         ],
         "z": [
          -0.1537007987499237,
          -0.09099019318819046,
          -0.22166842222213745,
          -0.19249294698238373,
          -0.14269745349884033,
          -0.15250886976718903,
          -0.26784253120422363,
          -0.24737632274627686,
          -0.19930298626422882,
          -0.17251917719841003,
          -0.20698340237140656,
          -0.18169741332530975,
          -0.16680146753787994,
          -0.2500193417072296,
          -0.1220940500497818,
          -0.15802563726902008,
          -0.16597703099250793,
          -0.13674019277095795,
          -0.2141352742910385,
          -0.1498403549194336,
          -0.06796849519014359,
          -0.20098446309566498,
          -0.1327899843454361,
          -0.1631634384393692,
          -0.1341336965560913,
          -0.18221145868301392,
          -0.18939143419265747,
          -0.25545698404312134,
          -0.09920593351125717,
          -0.11488829553127289,
          -0.22181390225887299,
          -0.1966644525527954,
          -0.09654200077056885,
          -0.1901124119758606,
          -0.06959076970815659,
          -0.18939074873924255,
          -0.1346384435892105,
          -0.14578202366828918,
          -0.2382943481206894,
          -0.17870941758155823,
          -0.18678610026836395,
          -0.190312922000885,
          -0.10233896970748901
         ]
        },
        {
         "customdata": [
          [
           "diabetic friendly foods ?",
           "food diet good eat avoid",
           0
          ],
          [
           "what foods are safe for diabetic dogs ?",
           "food diet good eat avoid",
           0
          ],
          [
           "what foods should diabetic people avoid ?",
           "food diet good eat avoid",
           0
          ],
          [
           "if you are diabetic what foods should you absolutely avoid ?",
           "food diet good eat avoid",
           0
          ],
          [
           "people eat all these food that they think will be beneficial for them but they do not think about what they are eating . ?",
           "food diet good eat avoid",
           0
          ],
          [
           "what are some diabetic foods and can they be found in any store ?",
           "food diet good eat avoid",
           0
          ],
          [
           "what items can diabetic persons eat ?",
           "food diet good eat avoid",
           0
          ],
          [
           "what foods should diabetes avoid besides sugar ?",
           "food diet good eat avoid",
           0
          ],
          [
           "diabetic food ?",
           "food diet good eat avoid",
           0
          ],
          [
           "where can i buy a diabetic cookbook ?",
           "food diet good eat avoid",
           0
          ],
          [
           "is dextrose safe for a diabetic ?",
           "food diet good eat avoid",
           0
          ],
          [
           "what is a good food guide for diabetics ?",
           "food diet good eat avoid",
           0
          ],
          [
           "what kind of diet would a person with diabetes have ?",
           "food diet good eat avoid",
           0
          ],
          [
           "what foods should a diabetic not have ?",
           "food diet good eat avoid",
           0
          ],
          [
           "what are good diets for people with diabetes ?",
           "food diet good eat avoid",
           0
          ],
          [
           "for dietary health , is there a site that offers help with diabetic diet plans ?",
           "food diet good eat avoid",
           0
          ],
          [
           "what types of foods do i need to add to my diet if i am diabetic ?",
           "food diet good eat avoid",
           0
          ],
          [
           "what are the foods a diabetic can eat ?",
           "food diet good eat avoid",
           0
          ],
          [
           "what are some foods for a diabetic ?",
           "food diet good eat avoid",
           0
          ],
          [
           "what is the best diet for a person with diabetes ?",
           "food diet good eat avoid",
           0
          ],
          [
           "where do they sell diabetic foods in rhode island ?",
           "food diet good eat avoid",
           0
          ],
          [
           "what is the recommended carbohydrate intake for a type one diabetic ?",
           "food diet good eat avoid",
           0
          ],
          [
           "what can i eat in a diabetic diet ?",
           "food diet good eat avoid",
           0
          ],
          [
           "what is a good diabetic weight loss diet plan ?",
           "food diet good eat avoid",
           0
          ],
          [
           "diabetic foods to eat low fat , good carbs ?",
           "food diet good eat avoid",
           0
          ],
          [
           "what types of food are recommended to be avoided when on a diabetic diet ?",
           "food diet good eat avoid",
           0
          ],
          [
           "what kinds of food can one eat when on a diabetic diet ?",
           "food diet good eat avoid",
           0
          ],
          [
           "what can you eat in diabetic diet ?",
           "food diet good eat avoid",
           0
          ],
          [
           "what is the best diet for diabetics ?",
           "food diet good eat avoid",
           0
          ],
          [
           "what is the best diet for a diabetic ?",
           "food diet good eat avoid",
           0
          ],
          [
           "what is a diabetic safe diet i can eat ?",
           "food diet good eat avoid",
           0
          ],
          [
           "is gluten free good for diabetics ?",
           "food diet good eat avoid",
           0
          ],
          [
           "how is the diet for type one diabetes different from the diet for someone without diabetes ?",
           "food diet good eat avoid",
           0
          ],
          [
           "can diabetic eat persimmon ?",
           "food diet good eat avoid",
           0
          ],
          [
           "diets for diabetics ?",
           "food diet good eat avoid",
           0
          ],
          [
           "gud or white sugar which is bettter for a diabetic ?",
           "food diet good eat avoid",
           0
          ],
          [
           "what is involved in a diabetic diet ?",
           "food diet good eat avoid",
           0
          ],
          [
           "what is the best type of diet for someone who has type-2 diabetes ?",
           "food diet good eat avoid",
           0
          ],
          [
           "what are some of the food diabetic people should avoid ?",
           "food diet good eat avoid",
           0
          ],
          [
           "is there a list of food diabetics can not eat online ?",
           "food diet good eat avoid",
           0
          ],
          [
           "what are some good diabetic diet foods ?",
           "food diet good eat avoid",
           0
          ],
          [
           "which chocolate is the best to buy for someone who is diabetic ?",
           "food diet good eat avoid",
           0
          ],
          [
           "what is a diabetic nutrition guide and what does it have on it ?",
           "food diet good eat avoid",
           0
          ],
          [
           "what else does metformin do besides lower glucose levels ?",
           "food diet good eat avoid",
           0
          ],
          [
           "what bread is healthiest for diabetics ?",
           "food diet good eat avoid",
           0
          ],
          [
           "the key to a diabetic diet ?",
           "food diet good eat avoid",
           0
          ],
          [
           "what are good foods for diabetics ?",
           "food diet good eat avoid",
           0
          ],
          [
           "does whole foods store sell healthy foods for diabetics ?",
           "food diet good eat avoid",
           0
          ],
          [
           "what are some good diets for diabetic people ?",
           "food diet good eat avoid",
           0
          ],
          [
           "what foods should a diabetic eat ?",
           "food diet good eat avoid",
           0
          ],
          [
           "what are some good diets for someone with diabetes ?",
           "food diet good eat avoid",
           0
          ],
          [
           "which fruit is good for a diabetic diet ?",
           "food diet good eat avoid",
           0
          ],
          [
           "what types of foods are listed as diabetic and what type of non diabetic foods can you buy ?",
           "food diet good eat avoid",
           0
          ],
          [
           "what is a good diet that a diabetic should try ?",
           "food diet good eat avoid",
           0
          ],
          [
           "insulin-dependent diabetics depend upon what microorganisms ?",
           "food diet good eat avoid",
           0
          ],
          [
           "are most diabetic snacks sugar free ?",
           "food diet good eat avoid",
           0
          ],
          [
           "are diabetic diets safe to follow ?",
           "food diet good eat avoid",
           0
          ],
          [
           "where can information on `` no sugar '' diets be found ?",
           "food diet good eat avoid",
           0
          ],
          [
           "what are the dietary restrictions for diabetics ?",
           "food diet good eat avoid",
           0
          ],
          [
           "what is a good diabetes cookbook ?",
           "food diet good eat avoid",
           0
          ],
          [
           "are the foods good for type one diabetics also good for the type two is ?",
           "food diet good eat avoid",
           0
          ],
          [
           "what are foods for a diabetic to avoid ?",
           "food diet good eat avoid",
           0
          ],
          [
           "what kind of foods do diabetics need in their diets ?",
           "food diet good eat avoid",
           0
          ],
          [
           "what is the diabetic diet and does it really work ?",
           "food diet good eat avoid",
           0
          ],
          [
           "what are the best diets for diabetic ?",
           "food diet good eat avoid",
           0
          ],
          [
           "what is the best diet for diabetic ?",
           "food diet good eat avoid",
           0
          ],
          [
           "can you recommend a standard diet plan on the market that works well for diabetics ?",
           "food diet good eat avoid",
           0
          ],
          [
           "what diets can diabetics use daily ?",
           "food diet good eat avoid",
           0
          ],
          [
           "what snacks can a type two diabetics eat ?",
           "food diet good eat avoid",
           0
          ],
          [
           "what snacks are good for diabetics ?",
           "food diet good eat avoid",
           0
          ],
          [
           "are diabetic cookbooks expensive ?",
           "food diet good eat avoid",
           0
          ],
          [
           "what vegetables can a diabetic eat ?",
           "food diet good eat avoid",
           0
          ],
          [
           "what are the foods diabetics need to avoid ?",
           "food diet good eat avoid",
           0
          ],
          [
           "what are some foods diabetics should not eat ?",
           "food diet good eat avoid",
           0
          ],
          [
           "what foods should diabetics eat and avoid ?",
           "food diet good eat avoid",
           0
          ],
          [
           "what is the best cereal for type two diabetes ?",
           "food diet good eat avoid",
           0
          ],
          [
           "what is a good list of foods a diabetic should avoid ?",
           "food diet good eat avoid",
           0
          ],
          [
           "what are good foods for a diabetic ?",
           "food diet good eat avoid",
           0
          ],
          [
           "what is the best diet plan for diabetics ?",
           "food diet good eat avoid",
           0
          ],
          [
           "are there diets safe for diabetics ?",
           "food diet good eat avoid",
           0
          ],
          [
           "is protandim good for diabetes ?",
           "food diet good eat avoid",
           0
          ],
          [
           "what should a diabetic avoid to eat ?",
           "food diet good eat avoid",
           0
          ],
          [
           "what kind of food can a dog with diabetes eat ?",
           "food diet good eat avoid",
           0
          ],
          [
           "what is a good diabetes meal plan ?",
           "food diet good eat avoid",
           0
          ],
          [
           "what are some diets for young diabetic men ?",
           "food diet good eat avoid",
           0
          ],
          [
           "if you are diabetic what foods should you avoid ?",
           "food diet good eat avoid",
           0
          ],
          [
           "what foods should you avoid if you are diabetic ?",
           "food diet good eat avoid",
           0
          ],
          [
           "are there any cereals for diabetics with lower levels of sugar in them ?",
           "food diet good eat avoid",
           0
          ],
          [
           "is a diabetic diet good for someone who is not diabetic ?",
           "food diet good eat avoid",
           0
          ],
          [
           "what foods should you stay away from if you have diabetes ?",
           "food diet good eat avoid",
           0
          ],
          [
           "what are some good diabetic foods ?",
           "food diet good eat avoid",
           0
          ],
          [
           "what is a good diet for one who is diabetic ?",
           "food diet good eat avoid",
           0
          ],
          [
           "can you buy diabetic products from pharmacies ?",
           "food diet good eat avoid",
           0
          ],
          [
           "is sugar free foods bad for diabetics ?",
           "food diet good eat avoid",
           0
          ],
          [
           "where can i get a good diabetic cookbook ?",
           "food diet good eat avoid",
           0
          ],
          [
           "food for diabetics ?",
           "food diet good eat avoid",
           0
          ],
          [
           "what are some good diets ?",
           "food diet good eat avoid",
           0
          ],
          [
           "what are diets for diabetics like ?",
           "food diet good eat avoid",
           0
          ],
          [
           "what would be a good diabetic diet for someone with diabetes ?",
           "food diet good eat avoid",
           0
          ],
          [
           "create a personal diabetic food list ?",
           "food diet good eat avoid",
           0
          ],
          [
           "where can i buy a diabetic pump ?",
           "food diet good eat avoid",
           0
          ],
          [
           "what is a good diabetic food guide ?",
           "food diet good eat avoid",
           0
          ],
          [
           "what are good foods for those with diabetes ?",
           "food diet good eat avoid",
           0
          ],
          [
           "what type of cereal can diabetics eat ?",
           "food diet good eat avoid",
           0
          ],
          [
           "can a diabetic eat mashed potatoes ?",
           "food diet good eat avoid",
           0
          ],
          [
           "is it safe for someone without diabetes to follow a diabetics diet ?",
           "food diet good eat avoid",
           0
          ],
          [
           "if you have diabetes is it best to stay away form starchy foods or eat more of them ?",
           "food diet good eat avoid",
           0
          ],
          [
           "what foods are not allowed on a diabetic food list ?",
           "food diet good eat avoid",
           0
          ],
          [
           "what are some foods to help diabetics control glucose levels ?",
           "food diet good eat avoid",
           0
          ],
          [
           "are melons and watermelons not safe fruits for diabetic ?",
           "food diet good eat avoid",
           0
          ]
         ],
         "hovertemplate": "summary=%{customdata[1]}<br>pc_1=%{x}<br>pc_2=%{y}<br>pc_3=%{z}<br>sentence=%{customdata[0]}<br>label=%{customdata[2]}<extra></extra>",
         "legendgroup": "food diet good eat avoid",
         "marker": {
          "color": "#EF553B",
          "size": 8,
          "symbol": "circle"
         },
         "mode": "markers",
         "name": "food diet good eat avoid",
         "scene": "scene",
         "showlegend": true,
         "type": "scatter3d",
         "x": [
          -0.1634330004453659,
          0.050877101719379425,
          -0.035616807639598846,
          0.05346331372857094,
          0.14416253566741943,
          -0.09702948480844498,
          0.011042599566280842,
          -0.026781227439641953,
          -0.03707759082317352,
          -0.0607234463095665,
          -0.0812142938375473,
          0.024060985073447227,
          -0.03449937701225281,
          -0.03406757488846779,
          0.07119632512331009,
          0.05562841519713402,
          0.07081936299800873,
          -0.03082810528576374,
          -0.1307382732629776,
          0.060104966163635254,
          -0.14276480674743652,
          -0.001109567703679204,
          0.009032255038619041,
          0.13359254598617554,
          0.01878705434501171,
          -0.08674518018960953,
          -0.09574921429157257,
          -0.00975910946726799,
          0.015839703381061554,
          0.01936156116425991,
          0.021517662331461906,
          0.06646943092346191,
          -0.04532807692885399,
          -0.07597824931144714,
          0.08630751073360443,
          -0.16621817648410797,
          -0.09150662273168564,
          -0.04669509828090668,
          -0.024425750598311424,
          0.05142107233405113,
          -0.048729877918958664,
          0.07337155193090439,
          -0.08738356083631516,
          -0.09388335794210434,
          -0.11802590638399124,
          0.02945367619395256,
          -0.024346480146050453,
          -0.10374675691127777,
          0.03254891186952591,
          -0.10411787778139114,
          0.001219874364323914,
          0.08120530098676682,
          -0.08011559396982193,
          0.09121642261743546,
          -0.0941629707813263,
          -0.08718167990446091,
          0.049936696887016296,
          -0.008165428414940834,
          0.04810477793216705,
          -0.05238322168588638,
          0.06058654561638832,
          -0.032604314386844635,
          -0.03002440556883812,
          -0.019151395186781883,
          -0.008070460520684719,
          -0.021564636379480362,
          0.055663302540779114,
          0.054367683827877045,
          0.05789980664849281,
          0.01825091987848282,
          -0.09077885001897812,
          -0.12245089560747147,
          -0.015658043324947357,
          -0.04158444330096245,
          -0.02436659298837185,
          0.0017402900848537683,
          -0.03627147525548935,
          -0.03845008835196495,
          0.05089610069990158,
          0.09757570177316666,
          -0.043947733938694,
          0.09155155718326569,
          0.10472230613231659,
          0.06513826549053192,
          -0.023272983729839325,
          -0.04883292317390442,
          -0.060648079961538315,
          0.05170336738228798,
          0.09420294314622879,
          -0.13211187720298767,
          -0.07232106477022171,
          -0.011071788147091866,
          0.027728227898478508,
          0.08582812547683716,
          -0.03598650544881821,
          0.07121465355157852,
          0.01873423345386982,
          0.0314970463514328,
          0.0608641542494297,
          -0.1518622189760208,
          -0.003123094094917178,
          -0.016819674521684647,
          -0.0828460305929184,
          0.08939187973737717,
          0.011000322178006172,
          0.050696246325969696,
          -0.061636850237846375,
          -0.15959392488002777,
          -0.1601817011833191,
          0.02288021706044674
         ],
         "y": [
          0.05190669000148773,
          0.13557304441928864,
          -0.008781146258115768,
          0.1373809576034546,
          0.1924103945493698,
          0.025280918926000595,
          -0.025037335231900215,
          -0.045609891414642334,
          -0.029824569821357727,
          0.046458981931209564,
          -0.010610188357532024,
          0.07231972366571426,
          -0.11195242404937744,
          -0.037222325801849365,
          0.07247429341077805,
          0.16283899545669556,
          0.15615157783031464,
          0.10688570886850357,
          0.10026170313358307,
          0.09523223340511322,
          0.037651095539331436,
          0.11737605184316635,
          0.13508380949497223,
          0.20607218146324158,
          0.0181888397783041,
          0.1709262579679489,
          0.10547169297933578,
          0.12635481357574463,
          0.0904921144247055,
          0.10310418903827667,
          0.11922275274991989,
          0.09609761834144592,
          -0.03226355090737343,
          -0.00583373848348856,
          0.028189850971102715,
          0.011748275719583035,
          -0.005377758294343948,
          -0.07574691623449326,
          0.02537647821009159,
          0.1501903086900711,
          0.134576216340065,
          -0.02405991405248642,
          -0.03506886959075928,
          -0.1020718589425087,
          -0.060025300830602646,
          0.1878315806388855,
          0.027004439383745193,
          0.039948634803295135,
          0.0720357671380043,
          -0.021865364164114,
          0.10169167816638947,
          0.08352789282798767,
          -0.10931665450334549,
          0.17943455278873444,
          -0.09385764598846436,
          0.15991239249706268,
          0.20470856130123138,
          0.10545965284109116,
          0.014562136493623257,
          -0.046156272292137146,
          -0.02098851092159748,
          0.016000105068087578,
          -0.05116402730345726,
          0.05086906999349594,
          -0.00871834997087717,
          0.03681259974837303,
          0.16331104934215546,
          0.21344278752803802,
          -0.04460705444216728,
          -0.030208120122551918,
          -0.030880549922585487,
          -0.04724039137363434,
          0.015000236220657825,
          -0.009141101501882076,
          -0.0019220056710764766,
          0.1030571237206459,
          -0.006380490958690643,
          0.0008233924163505435,
          0.14178210496902466,
          0.05702553689479828,
          -0.04708264768123627,
          -0.04092815890908241,
          0.1921379417181015,
          0.15370343625545502,
          0.0616956502199173,
          0.10480979830026627,
          0.10000379383563995,
          0.09532984346151352,
          0.0180807001888752,
          0.10246163606643677,
          0.029646988958120346,
          0.030796978622674942,
          0.15174704790115356,
          -0.023580284789204597,
          0.12464695423841476,
          0.009739544242620468,
          0.13154175877571106,
          0.014517444185912609,
          0.040480345487594604,
          0.04445429891347885,
          -0.01569381356239319,
          0.06730552762746811,
          0.10486279428005219,
          -0.031114201992750168,
          -0.06566811352968216,
          0.23380936682224274,
          0.12117660045623779,
          -0.011168736033141613,
          0.0635751336812973,
          0.1378317028284073
         ],
         "z": [
          0.9210793972015381,
          0.7909190058708191,
          0.7511913776397705,
          0.7203590869903564,
          0.7551184296607971,
          0.9346867799758911,
          0.8827499151229858,
          0.7978710532188416,
          0.7640944719314575,
          0.9010730385780334,
          0.8500606417655945,
          0.8432900309562683,
          0.7446892857551575,
          0.8935208320617676,
          0.7425251603126526,
          0.7879047393798828,
          0.7112603187561035,
          0.7304260730743408,
          0.8979907631874084,
          0.6966661214828491,
          0.9460328817367554,
          0.6903823018074036,
          0.6758577227592468,
          0.7531023025512695,
          0.7986606955528259,
          0.7607372999191284,
          0.7393325567245483,
          0.7404195666313171,
          0.7637860178947449,
          0.7346713542938232,
          0.6539228558540344,
          0.7015941143035889,
          0.7328142523765564,
          0.9161961674690247,
          0.7564473152160645,
          0.9112581014633179,
          0.869999885559082,
          0.7123126983642578,
          0.8033157587051392,
          0.7953925132751465,
          0.836127519607544,
          0.8570689558982849,
          0.9648299217224121,
          0.7948819994926453,
          0.8153898119926453,
          0.6524398326873779,
          0.8130229115486145,
          0.930255115032196,
          0.8291422128677368,
          0.8391663432121277,
          0.7023328542709351,
          0.6885021924972534,
          0.7790318727493286,
          0.7451394200325012,
          0.794643223285675,
          0.7660137414932251,
          0.6742342710494995,
          0.7080578804016113,
          0.7468711137771606,
          0.7114177942276001,
          0.7538158297538757,
          0.7695017457008362,
          0.9051936268806458,
          0.8010132908821106,
          0.8964360952377319,
          0.8780691623687744,
          0.7970951199531555,
          0.67283034324646,
          0.7532835602760315,
          0.8773573637008667,
          0.9675202369689941,
          0.8176831007003784,
          0.7809443473815918,
          0.8869335055351257,
          0.8155386447906494,
          0.7247479557991028,
          0.8407994508743286,
          0.8575057983398438,
          0.7672141194343567,
          0.7672207355499268,
          0.7364644408226013,
          0.7982381582260132,
          0.7506152987480164,
          0.7055190205574036,
          0.881070613861084,
          0.7231194972991943,
          0.7381091713905334,
          0.820557713508606,
          0.7515656352043152,
          0.8997287750244141,
          0.8909545540809631,
          0.8027375936508179,
          0.6873719096183777,
          0.7948029637336731,
          0.8403568267822266,
          0.7582752704620361,
          0.6622726917266846,
          0.7295945286750793,
          0.7529264688491821,
          0.9341391921043396,
          0.904176652431488,
          0.8741204738616943,
          0.7624242305755615,
          0.798686146736145,
          0.8974351286888123,
          0.6598032712936401,
          0.7794784307479858,
          0.8874498605728149,
          0.9231288433074951,
          0.6834530830383301
         ]
        },
        {
         "customdata": [
          [
           "can a diabetic drink slim fast with 18g of sugar ?",
           "sugar type insulin good blood",
           14
          ],
          [
           "can shark meat increase blood sugar ?",
           "sugar type insulin good blood",
           14
          ],
          [
           "is there diabetic ramen noodles ?",
           "sugar type insulin good blood",
           14
          ],
          [
           "is lambrusco wine also good for diabetes ?",
           "sugar type insulin good blood",
           14
          ],
          [
           "can type two diabetics drink milo ?",
           "sugar type insulin good blood",
           14
          ],
          [
           "is diabetes treatable ?",
           "sugar type insulin good blood",
           14
          ],
          [
           "did lil boosie die from a diabetic coma ?",
           "sugar type insulin good blood",
           14
          ],
          [
           "can non-insulin dependent diabetes mellitus cause chronic kidney failure ?",
           "sugar type insulin good blood",
           14
          ],
          [
           "is it ok to smoke marijuana with diabetes ?",
           "sugar type insulin good blood",
           14
          ],
          [
           "is diabetes an organism ?",
           "sugar type insulin good blood",
           14
          ],
          [
           "statin drugs raise glucose levels ?",
           "sugar type insulin good blood",
           14
          ],
          [
           "can cna shave diabetic ?",
           "sugar type insulin good blood",
           14
          ],
          [
           "is eating peanut butter and graham crackers a good snack for a type one diabetic ?",
           "sugar type insulin good blood",
           14
          ],
          [
           "does fentanyl patch raise blood sugar ?",
           "sugar type insulin good blood",
           14
          ],
          [
           "are peanuts okay for diabetics ?",
           "sugar type insulin good blood",
           14
          ],
          [
           "can you have hypoglycemia without diabetes ?",
           "sugar type insulin good blood",
           14
          ],
          [
           "does atorvastatin and ramipril affect oral glucose tolerance tests ?",
           "sugar type insulin good blood",
           14
          ],
          [
           "oral medications for diabetes ?",
           "sugar type insulin good blood",
           14
          ],
          [
           "is papaya good fro diabetic patient ?",
           "sugar type insulin good blood",
           14
          ],
          [
           "how can diabetics increase their insulin levels ?",
           "sugar type insulin good blood",
           14
          ],
          [
           "is diabetes a race of mankind ?",
           "sugar type insulin good blood",
           14
          ],
          [
           "do most type ii diabetics do not produce insulin ?",
           "sugar type insulin good blood",
           14
          ],
          [
           "is type ii diabetes capitalized ?",
           "sugar type insulin good blood",
           14
          ],
          [
           "can stress trigger diabetes mellitus ?",
           "sugar type insulin good blood",
           14
          ],
          [
           "can talking give you diabetes ?",
           "sugar type insulin good blood",
           14
          ],
          [
           "can fava beans to cause diabetes ?",
           "sugar type insulin good blood",
           14
          ],
          [
           "will shrimp rise blood sugar ?",
           "sugar type insulin good blood",
           14
          ],
          [
           "can you give insulin in a tuberculin syringe ?",
           "sugar type insulin good blood",
           14
          ],
          [
           "is cornflakes good for diabetics ?",
           "sugar type insulin good blood",
           14
          ],
          [
           "is type two diabetes also known as insulin overload diabetes ?",
           "sugar type insulin good blood",
           14
          ],
          [
           "does long use of pyroxetine increase sugar level ?",
           "sugar type insulin good blood",
           14
          ],
          [
           "are tomatoes bad for diabetics ?",
           "sugar type insulin good blood",
           14
          ],
          [
           "is any cancer curable ?",
           "sugar type insulin good blood",
           14
          ],
          [
           "does type one diabetes require medication ?",
           "sugar type insulin good blood",
           14
          ],
          [
           "can the turkeys have diabetes ?",
           "sugar type insulin good blood",
           14
          ],
          [
           "is bicytopenia a form of cancer ?",
           "sugar type insulin good blood",
           14
          ],
          [
           "is sugar causing diabetes ?",
           "sugar type insulin good blood",
           14
          ],
          [
           "is anorexia part of diabetes ?",
           "sugar type insulin good blood",
           14
          ],
          [
           "is football good for a diabetic person ?",
           "sugar type insulin good blood",
           14
          ],
          [
           "is masterabation cause weight loss ?",
           "sugar type insulin good blood",
           14
          ],
          [
           "can diabetics take osteo biflex ?",
           "sugar type insulin good blood",
           14
          ],
          [
           "can diabetics drink alchol ?",
           "sugar type insulin good blood",
           14
          ],
          [
           "can you take medication for diabetes melitus even if you are not diabetic ?",
           "sugar type insulin good blood",
           14
          ],
          [
           "can ringer lactate be infused in diabetic patient ?",
           "sugar type insulin good blood",
           14
          ],
          [
           "can an non diabetic take insulin plant leaves ?",
           "sugar type insulin good blood",
           14
          ],
          [
           "what vitamins are allowed for diabetic patients ?",
           "sugar type insulin good blood",
           14
          ],
          [
           "can a person act drunk from high blood sugar ?",
           "sugar type insulin good blood",
           14
          ],
          [
           "is mango harmful for diabetics ?",
           "sugar type insulin good blood",
           14
          ],
          [
           "is slim fast a good item for diabetes ?",
           "sugar type insulin good blood",
           14
          ],
          [
           "does lipozene affect diabetes ?",
           "sugar type insulin good blood",
           14
          ],
          [
           "is sugar in milk harmful to diabetics ?",
           "sugar type insulin good blood",
           14
          ],
          [
           "do people with type two diabetes always require insulin ?",
           "sugar type insulin good blood",
           14
          ],
          [
           "can you take metformin with insulin ?",
           "sugar type insulin good blood",
           14
          ],
          [
           "is diabetes from having a bad diet ?",
           "sugar type insulin good blood",
           14
          ],
          [
           "does type one diabetes affect your sperm count ?",
           "sugar type insulin good blood",
           14
          ],
          [
           "is tequila good for a diabetic patient ?",
           "sugar type insulin good blood",
           14
          ],
          [
           "can you eat sugar cane and get diabetes ?",
           "sugar type insulin good blood",
           14
          ],
          [
           "does type one diabetes affect personal relationships ?",
           "sugar type insulin good blood",
           14
          ],
          [
           "is their a type three diabetes ?",
           "sugar type insulin good blood",
           14
          ],
          [
           "does diabetes affect fertility ?",
           "sugar type insulin good blood",
           14
          ],
          [
           "how does diabetes progress ?",
           "sugar type insulin good blood",
           14
          ],
          [
           "is evaporated cane juice all right for diabetics ?",
           "sugar type insulin good blood",
           14
          ],
          [
           "is their a connection between diabetes and enlarged prostate ?",
           "sugar type insulin good blood",
           14
          ],
          [
           "can a husband is diabetes be the cause of a miscarriage ?",
           "sugar type insulin good blood",
           14
          ],
          [
           "does grapefruit affect blood sugar levels ?",
           "sugar type insulin good blood",
           14
          ],
          [
           "can diabetics have anorexia ?",
           "sugar type insulin good blood",
           14
          ],
          [
           "can you pre-fill syringes with lantus insulin ?",
           "sugar type insulin good blood",
           14
          ],
          [
           "can any diabetic medication show a drug test dirty ?",
           "sugar type insulin good blood",
           14
          ],
          [
           "can insulin syringes be used to measure any medication for parental use ?",
           "sugar type insulin good blood",
           14
          ],
          [
           "does putting cinnamon in your coffee help with blood sugar ?",
           "sugar type insulin good blood",
           14
          ],
          [
           "can people who hae diabetes smoke ?",
           "sugar type insulin good blood",
           14
          ],
          [
           "can diabetes be transferred from one partner to another ?",
           "sugar type insulin good blood",
           14
          ],
          [
           "can diabetics drink tequila ?",
           "sugar type insulin good blood",
           14
          ],
          [
           "is diabetes bad ?",
           "sugar type insulin good blood",
           14
          ]
         ],
         "hovertemplate": "summary=%{customdata[1]}<br>pc_1=%{x}<br>pc_2=%{y}<br>pc_3=%{z}<br>sentence=%{customdata[0]}<br>label=%{customdata[2]}<extra></extra>",
         "legendgroup": "sugar type insulin good blood",
         "marker": {
          "color": "#00cc96",
          "size": 8,
          "symbol": "circle"
         },
         "mode": "markers",
         "name": "sugar type insulin good blood",
         "scene": "scene",
         "showlegend": true,
         "type": "scatter3d",
         "x": [
          0.48056259751319885,
          0.6635920405387878,
          0.5613452792167664,
          0.5745397210121155,
          0.6140245795249939,
          0.7053853273391724,
          0.573590099811554,
          0.6963676810264587,
          0.5138824582099915,
          0.688035249710083,
          0.5952803492546082,
          0.6558141708374023,
          0.5579761862754822,
          0.5946275591850281,
          0.579533576965332,
          0.5444397926330566,
          0.7034470438957214,
          0.6230047345161438,
          0.6527993083000183,
          0.5463203191757202,
          0.7264693379402161,
          0.6444679498672485,
          0.5952931046485901,
          0.4981311559677124,
          0.5753180384635925,
          0.6996926069259644,
          0.5905634164810181,
          0.5586228966712952,
          0.6646787524223328,
          0.665886640548706,
          0.5442759394645691,
          0.5349859595298767,
          0.5412376523017883,
          0.6535472273826599,
          0.6496289968490601,
          0.7212444543838501,
          0.701506495475769,
          0.6081088781356812,
          0.5357104539871216,
          0.5799623131752014,
          0.6711544394493103,
          0.509315550327301,
          0.7337443828582764,
          0.6864733695983887,
          0.5588354468345642,
          0.5659186840057373,
          0.48825332522392273,
          0.5795143842697144,
          0.6257771849632263,
          0.6105862855911255,
          0.6411229372024536,
          0.7091062068939209,
          0.5811754465103149,
          0.5790725350379944,
          0.5544597506523132,
          0.5392840504646301,
          0.6856653690338135,
          0.638151228427887,
          0.6901481747627258,
          0.5465366840362549,
          0.7238484025001526,
          0.5736640691757202,
          0.5517373085021973,
          0.582460343837738,
          0.5747281312942505,
          0.4805084466934204,
          0.5659278035163879,
          0.5524603724479675,
          0.5194395184516907,
          0.539050817489624,
          0.5137854218482971,
          0.5196812748908997,
          0.5756525993347168,
          0.7048382759094238
         ],
         "y": [
          -0.17056991159915924,
          -0.20153631269931793,
          -0.12534815073013306,
          -0.19001035392284393,
          -0.2622051537036896,
          -0.28090018033981323,
          -0.1361682415008545,
          -0.2271857112646103,
          -0.19279798865318298,
          -0.17924527823925018,
          -0.3093883693218231,
          -0.2009650319814682,
          -0.19741493463516235,
          -0.2132282257080078,
          -0.2816277742385864,
          -0.175541952252388,
          -0.24454368650913239,
          -0.12745875120162964,
          -0.20451000332832336,
          -0.08523505926132202,
          -0.21627044677734375,
          -0.21655187010765076,
          -0.06965015828609467,
          -0.12312337756156921,
          -0.19531553983688354,
          -0.2409847527742386,
          -0.2753579914569855,
          -0.16153377294540405,
          -0.21437577903270721,
          -0.2109038382768631,
          -0.18272309005260468,
          -0.20754095911979675,
          -0.05644846335053444,
          -0.14854001998901367,
          -0.191059872508049,
          -0.20461252331733704,
          -0.2649177610874176,
          -0.18372169137001038,
          -0.21502825617790222,
          -0.22917620837688446,
          -0.17516621947288513,
          -0.17176833748817444,
          -0.2130565196275711,
          -0.22283941507339478,
          -0.14921341836452484,
          -0.15580357611179352,
          -0.1797865778207779,
          -0.21105720102787018,
          -0.18678975105285645,
          -0.22940956056118011,
          -0.1425616443157196,
          -0.18277929723262787,
          -0.187872976064682,
          -0.2807830274105072,
          -0.12087968736886978,
          -0.2007158100605011,
          -0.291231632232666,
          -0.14023132622241974,
          -0.22178028523921967,
          -0.10118666291236877,
          -0.19925270974636078,
          -0.1592903584241867,
          -0.14580261707305908,
          -0.2017480731010437,
          -0.10531068593263626,
          -0.1526940017938614,
          -0.16745558381080627,
          -0.2160978764295578,
          -0.08613058924674988,
          -0.2357672154903412,
          -0.07321354001760483,
          -0.0873304158449173,
          -0.19320915639400482,
          -0.24293619394302368
         ],
         "z": [
          0.3402939736843109,
          0.41942861676216125,
          0.4590597450733185,
          0.4832262694835663,
          0.5386155843734741,
          0.4707804322242737,
          0.3713764548301697,
          0.4631156921386719,
          0.34759199619293213,
          0.5418469309806824,
          0.5326367616653442,
          0.49615415930747986,
          0.39470991492271423,
          0.5196084976196289,
          0.5305629372596741,
          0.376448392868042,
          0.5494976043701172,
          0.5580514073371887,
          0.46407341957092285,
          0.41896823048591614,
          0.5387691855430603,
          0.5376574993133545,
          0.4831646978855133,
          0.4075348675251007,
          0.43598294258117676,
          0.46057480573654175,
          0.5382111072540283,
          0.3899354338645935,
          0.4323153793811798,
          0.4996112287044525,
          0.5115785002708435,
          0.5361598134040833,
          0.43250754475593567,
          0.554361879825592,
          0.5660212635993958,
          0.49640414118766785,
          0.4705052971839905,
          0.38240084052085876,
          0.5776625275611877,
          0.36229923367500305,
          0.5641685724258423,
          0.5440282225608826,
          0.5426631569862366,
          0.43656715750694275,
          0.48827940225601196,
          0.40926593542099,
          0.337512731552124,
          0.38030093908309937,
          0.49044808745384216,
          0.5360181331634521,
          0.5579692125320435,
          0.521727442741394,
          0.507667601108551,
          0.5365050435066223,
          0.3849347233772278,
          0.5399815440177917,
          0.4743202328681946,
          0.3516353368759155,
          0.4171198010444641,
          0.30920055508613586,
          0.4960460066795349,
          0.4603578746318817,
          0.39743688702583313,
          0.4938931465148926,
          0.46278417110443115,
          0.41067829728126526,
          0.48055317997932434,
          0.49923306703567505,
          0.36690595746040344,
          0.5011468529701233,
          0.3597202003002167,
          0.3777548372745514,
          0.4758926033973694,
          0.5433029532432556
         ]
        },
        {
         "customdata": [
          [
           "is drinking lots of water a sign of diabetes ?",
           "blood sugar low hundr level",
           9
          ],
          [
           "what is poor eating habits ?",
           "blood sugar low hundr level",
           9
          ],
          [
           "what do you do if your blood sugar is low ?",
           "blood sugar low hundr level",
           9
          ],
          [
           "what should you do if your blood sugar is really low when you wake up ?",
           "blood sugar low hundr level",
           9
          ],
          [
           "how does blood sugar get as high as eight hundred and thirty six ?",
           "blood sugar low hundr level",
           9
          ],
          [
           "is there any side effects of paneer ka phool on diabetes patient ?",
           "blood sugar low hundr level",
           9
          ],
          [
           "should you use a blood glucose test daily if you have too much insulin ?",
           "blood sugar low hundr level",
           9
          ],
          [
           "what do you need when you have diabetes ?",
           "blood sugar low hundr level",
           9
          ],
          [
           "what is the average life expectancy for a person with diabetes ?",
           "blood sugar low hundr level",
           9
          ],
          [
           "what to do if your blood sugar is four hundred and sixty ?",
           "blood sugar low hundr level",
           9
          ],
          [
           "blood sugar level two hours after eating ?",
           "blood sugar low hundr level",
           9
          ],
          [
           "what do you do if your blood sugar level is high ?",
           "blood sugar low hundr level",
           9
          ],
          [
           "how will a person know if they have low or high blood sugar ?",
           "blood sugar low hundr level",
           9
          ],
          [
           "if you get headaches from low blood sugar does that mean you are a diabetic ?",
           "blood sugar low hundr level",
           9
          ],
          [
           "how do you know if your blood sugar is low ?",
           "blood sugar low hundr level",
           9
          ],
          [
           "is one hundred and sixty two a high blood sugar reading after eating two hours ago ?",
           "blood sugar low hundr level",
           9
          ],
          [
           "how are the circulatory system and diabetes type two related ?",
           "blood sugar low hundr level",
           9
          ],
          [
           "what to do if your blood sugar is six hundred ?",
           "blood sugar low hundr level",
           9
          ],
          [
           "what do you need for blood sugar monitoring ?",
           "blood sugar low hundr level",
           9
          ],
          [
           "if you know your blood sugar is low how do you know if you are a diabetic ?",
           "blood sugar low hundr level",
           9
          ],
          [
           "what do you eat when you have diabetes ?",
           "blood sugar low hundr level",
           9
          ],
          [
           "is a blood sugar level of three hundred and eighty dangerous ?",
           "blood sugar low hundr level",
           9
          ],
          [
           "how do you know if your blood sugar levels are low ?",
           "blood sugar low hundr level",
           9
          ],
          [
           "blood sugar at five hundred what do you do ?",
           "blood sugar low hundr level",
           9
          ],
          [
           "if you are unsure if someone has low or high blood sugar levels what should you do ?",
           "blood sugar low hundr level",
           9
          ],
          [
           "what should your blood sugar be two hours after eating ?",
           "blood sugar low hundr level",
           9
          ],
          [
           "how does blood gain glucose ?",
           "blood sugar low hundr level",
           9
          ],
          [
           "is a blood sugar level of four hundred and sixty one dangerous ?",
           "blood sugar low hundr level",
           9
          ],
          [
           "for a blood sugar test how many hours gap is required ?",
           "blood sugar low hundr level",
           9
          ],
          [
           "what to do if sugar level is four hundred and fifty six ?",
           "blood sugar low hundr level",
           9
          ]
         ],
         "hovertemplate": "summary=%{customdata[1]}<br>pc_1=%{x}<br>pc_2=%{y}<br>pc_3=%{z}<br>sentence=%{customdata[0]}<br>label=%{customdata[2]}<extra></extra>",
         "legendgroup": "blood sugar low hundr level",
         "marker": {
          "color": "#ab63fa",
          "size": 8,
          "symbol": "circle"
         },
         "mode": "markers",
         "name": "blood sugar low hundr level",
         "scene": "scene",
         "showlegend": true,
         "type": "scatter3d",
         "x": [
          -0.37162503600120544,
          -0.43426311016082764,
          -0.3603760302066803,
          -0.4449455738067627,
          -0.46231648325920105,
          -0.41770532727241516,
          -0.4235800802707672,
          -0.35768359899520874,
          -0.49226057529449463,
          -0.38539808988571167,
          -0.4422374963760376,
          -0.42216727137565613,
          -0.4158674478530884,
          -0.4714379906654358,
          -0.4371175765991211,
          -0.4378020465373993,
          -0.4208925664424896,
          -0.4753568172454834,
          -0.38346657156944275,
          -0.453912615776062,
          -0.4862181544303894,
          -0.43780824542045593,
          -0.4559624493122101,
          -0.4277791380882263,
          -0.36976611614227295,
          -0.4630257785320282,
          -0.4297716021537781,
          -0.41540035605430603,
          -0.3841971755027771,
          -0.47764211893081665
         ],
         "y": [
          -0.6199601888656616,
          -0.5048657655715942,
          -0.6195878982543945,
          -0.5304537415504456,
          -0.5776771903038025,
          -0.5303167104721069,
          -0.5720677375793457,
          -0.579228401184082,
          -0.5960285067558289,
          -0.617134153842926,
          -0.5625996589660645,
          -0.6256557106971741,
          -0.6396985054016113,
          -0.5873368382453918,
          -0.5654141902923584,
          -0.6307459473609924,
          -0.5566344261169434,
          -0.5929648280143738,
          -0.5294065475463867,
          -0.5122141242027283,
          -0.5940127372741699,
          -0.6237292289733887,
          -0.5174530744552612,
          -0.5709956288337708,
          -0.5769791603088379,
          -0.5643940567970276,
          -0.5565546751022339,
          -0.6411368250846863,
          -0.5262093544006348,
          -0.5876864790916443
         ],
         "z": [
          -0.058948416262865067,
          -0.06512036919593811,
          -0.043433256447315216,
          -0.07108181715011597,
          -0.07555273920297623,
          -0.08948128670454025,
          -0.06451284140348434,
          -0.13226234912872314,
          -0.11928967386484146,
          -0.050668343901634216,
          -0.07070154696702957,
          0.00880877673625946,
          -0.00039673896390013397,
          -0.0629318431019783,
          -0.07202982157468796,
          -0.015394079498946667,
          -0.12583370506763458,
          -0.10898161679506302,
          -0.14450694620609283,
          -0.05809411779046059,
          -0.12179166078567505,
          0.019006311893463135,
          -0.06012987717986107,
          -0.06657574325799942,
          -0.12979720532894135,
          -0.07076682150363922,
          -0.09657546877861023,
          0.006534730549901724,
          -0.13240191340446472,
          -0.09795185178518295
         ]
        },
        {
         "customdata": [
          [
           "are there any websites that can help me find diabetic menu planning ?",
           "find diet menu inform plan",
           30
          ],
          [
           "where can i find more information on diabetes dtour diet ?",
           "find diet menu inform plan",
           30
          ],
          [
           "what is the best diabetic menu to follow ?",
           "find diet menu inform plan",
           30
          ],
          [
           "where can i find free diabetic diet books ?",
           "find diet menu inform plan",
           30
          ],
          [
           "where can i find out more about diabetic menu ?",
           "find diet menu inform plan",
           30
          ],
          [
           "where online is there a diet menu for those with diabetes ?",
           "find diet menu inform plan",
           30
          ],
          [
           "where can one find information on a cure for diabetes ?",
           "find diet menu inform plan",
           30
          ],
          [
           "where can you find information about the grapefruit diet ?",
           "find diet menu inform plan",
           30
          ],
          [
           "where can i get free diabetes recipes ?",
           "find diet menu inform plan",
           30
          ],
          [
           "where can i find more information on free diabetic diet ?",
           "find diet menu inform plan",
           30
          ],
          [
           "where can i find a menu or diabetic foods online ?",
           "find diet menu inform plan",
           30
          ],
          [
           "where can i find meal plans for diabetics ?",
           "find diet menu inform plan",
           30
          ],
          [
           "can you tell me where to find a menu planner for diabetics ?",
           "find diet menu inform plan",
           30
          ],
          [
           "where can i find a diabetic diet menu ?",
           "find diet menu inform plan",
           30
          ],
          [
           "where can i find cookbooks for diabetics ?",
           "find diet menu inform plan",
           30
          ],
          [
           "if i follow a pre diabetes diet will i stay healthy and steer clear of diabetes ?",
           "find diet menu inform plan",
           30
          ],
          [
           "where can i go online to find some information on diabetic diet plans ?",
           "find diet menu inform plan",
           30
          ],
          [
           "where can one find sample menus for a diabetic diet ?",
           "find diet menu inform plan",
           30
          ]
         ],
         "hovertemplate": "summary=%{customdata[1]}<br>pc_1=%{x}<br>pc_2=%{y}<br>pc_3=%{z}<br>sentence=%{customdata[0]}<br>label=%{customdata[2]}<extra></extra>",
         "legendgroup": "find diet menu inform plan",
         "marker": {
          "color": "#FFA15A",
          "size": 8,
          "symbol": "circle"
         },
         "mode": "markers",
         "name": "find diet menu inform plan",
         "scene": "scene",
         "showlegend": true,
         "type": "scatter3d",
         "x": [
          -0.3510640561580658,
          -0.2755662202835083,
          -0.3138912618160248,
          -0.32297804951667786,
          -0.38186702132225037,
          -0.33888310194015503,
          -0.3376946449279785,
          -0.32833027839660645,
          -0.3960883617401123,
          -0.3132663071155548,
          -0.3565455377101898,
          -0.33406394720077515,
          -0.3329923748970032,
          -0.2832941710948944,
          -0.3591258227825165,
          -0.2795523405075073,
          -0.2837541699409485,
          -0.36825811862945557
         ],
         "y": [
          0.2452247589826584,
          0.24844089150428772,
          0.23979514837265015,
          0.24692033231258392,
          0.20485398173332214,
          0.26435452699661255,
          0.29672256112098694,
          0.286511093378067,
          0.2182375192642212,
          0.1472683697938919,
          0.21800893545150757,
          0.23960962891578674,
          0.2955869138240814,
          0.2501208782196045,
          0.2085595726966858,
          0.2442225217819214,
          0.2482626587152481,
          0.21769098937511444
         ],
         "z": [
          0.503546953201294,
          0.45529210567474365,
          0.5182135701179504,
          0.496659517288208,
          0.43523964285850525,
          0.49832630157470703,
          0.4946514070034027,
          0.49099716544151306,
          0.42159536480903625,
          0.4430429935455322,
          0.48768389225006104,
          0.5169378519058228,
          0.4916389584541321,
          0.4762777090072632,
          0.57304447889328,
          0.4875890612602234,
          0.48152121901512146,
          0.5307290554046631
         ]
        },
        {
         "customdata": [
          [
           "what finally causes the sycmore to fall ?",
           "insulin ill blood mental nick",
           21
          ],
          [
           "why is blood black when the person is diabetic ?",
           "insulin ill blood mental nick",
           21
          ],
          [
           "does diabetes effect the immune system ?",
           "insulin ill blood mental nick",
           21
          ],
          [
           "why do you have diabetes ?",
           "insulin ill blood mental nick",
           21
          ],
          [
           "your dad has diabetes how can he get rid of them forever ?",
           "insulin ill blood mental nick",
           21
          ],
          [
           "can mental illness be as clearly defined as a physicial illness such as diabetes ?",
           "insulin ill blood mental nick",
           21
          ],
          [
           "will infection cause blood glucose levels to increase or decrease ?",
           "insulin ill blood mental nick",
           21
          ],
          [
           "did nick jonas ever throw up from diabetes ?",
           "insulin ill blood mental nick",
           21
          ],
          [
           "what does it fell like to have diabetes ?",
           "insulin ill blood mental nick",
           21
          ],
          [
           "is or can diabetes be caused by mental illness or can the brain stop the pancreas from producing insulin ?",
           "insulin ill blood mental nick",
           21
          ],
          [
           "why do diabetic people go blind ?",
           "insulin ill blood mental nick",
           21
          ],
          [
           "which of the following statements about insulin resistance and pre-diabetes is true ?",
           "insulin ill blood mental nick",
           21
          ],
          [
           "what type of insulin does nick jonas use ?",
           "insulin ill blood mental nick",
           21
          ],
          [
           "is diabetes a mental illness ?",
           "insulin ill blood mental nick",
           21
          ],
          [
           "why do people get diabetes ?",
           "insulin ill blood mental nick",
           21
          ],
          [
           "a little bit longer ?",
           "insulin ill blood mental nick",
           21
          ],
          [
           "why do diabetics are always urinating ?",
           "insulin ill blood mental nick",
           21
          ],
          [
           "what happens when people get type two diabetes ?",
           "insulin ill blood mental nick",
           21
          ],
          [
           "how does diabetes affect daily life ?",
           "insulin ill blood mental nick",
           21
          ],
          [
           "why do diabetes develop ?",
           "insulin ill blood mental nick",
           21
          ],
          [
           "what kind of guitar does nick jonas have ?",
           "insulin ill blood mental nick",
           21
          ],
          [
           "is it true or false that type two diabetics may reflect declining receptors sensitivity to insulin rather than decrease insulin production ?",
           "insulin ill blood mental nick",
           21
          ],
          [
           "did nick jonas ever throw up blood from diabetes ?",
           "insulin ill blood mental nick",
           21
          ],
          [
           "what happens to someones body does not produce enough insulin ?",
           "insulin ill blood mental nick",
           21
          ],
          [
           "how does diabetes affect your physical lifestyle ?",
           "insulin ill blood mental nick",
           21
          ],
          [
           "can an operation which left bruise and inflamed area in your skin rises your blood sugar ?",
           "insulin ill blood mental nick",
           21
          ],
          [
           "is diabetes a mental illness or physical illness ?",
           "insulin ill blood mental nick",
           21
          ],
          [
           "why does diabetes happen ?",
           "insulin ill blood mental nick",
           21
          ],
          [
           "long term side affects of diabetes ?",
           "insulin ill blood mental nick",
           21
          ],
          [
           "does diabetes affect the urinary system ?",
           "insulin ill blood mental nick",
           21
          ],
          [
           "what are the symptoms of mild insulin resistance ?",
           "insulin ill blood mental nick",
           21
          ]
         ],
         "hovertemplate": "summary=%{customdata[1]}<br>pc_1=%{x}<br>pc_2=%{y}<br>pc_3=%{z}<br>sentence=%{customdata[0]}<br>label=%{customdata[2]}<extra></extra>",
         "legendgroup": "insulin ill blood mental nick",
         "marker": {
          "color": "#19d3f3",
          "size": 8,
          "symbol": "circle"
         },
         "mode": "markers",
         "name": "insulin ill blood mental nick",
         "scene": "scene",
         "showlegend": true,
         "type": "scatter3d",
         "x": [
          0.6463015675544739,
          0.6916096210479736,
          0.6759462952613831,
          0.7154170870780945,
          0.6681594252586365,
          0.6896629333496094,
          0.744266927242279,
          0.6462573409080505,
          0.7199015021324158,
          0.7139618992805481,
          0.7310677766799927,
          0.6732099652290344,
          0.7155147194862366,
          0.6702914237976074,
          0.6713548898696899,
          0.6225205063819885,
          0.6860174536705017,
          0.6800007820129395,
          0.7156754732131958,
          0.7129769921302795,
          0.6774540543556213,
          0.7447504997253418,
          0.6346591114997864,
          0.7374172806739807,
          0.682054877281189,
          0.6811986565589905,
          0.615109920501709,
          0.6793541312217712,
          0.6051743030548096,
          0.7232178449630737,
          0.6210939884185791
         ],
         "y": [
          -0.09966983646154404,
          -0.08556549996137619,
          -0.07898326963186264,
          -0.053726691752672195,
          0.029730385169386864,
          -0.12635794281959534,
          -0.09595759958028793,
          0.019826574251055717,
          -0.00904935970902443,
          -0.10794402658939362,
          -0.11579912900924683,
          0.028383763507008553,
          0.005317055154591799,
          -0.03899076208472252,
          -0.07602051645517349,
          0.008669688366353512,
          -0.054551590234041214,
          -0.03435327857732773,
          0.01147950068116188,
          -0.11252506822347641,
          -0.08997894823551178,
          -0.06541065126657486,
          0.015451143495738506,
          -0.10476678609848022,
          -0.0639144703745842,
          -0.03756248950958252,
          -0.0044085560366511345,
          -0.1028936505317688,
          -0.01112144161015749,
          0.01687796413898468,
          0.029366491362452507
         ],
         "z": [
          -0.48230013251304626,
          -0.5772000551223755,
          -0.6069562435150146,
          -0.5941329002380371,
          -0.47524502873420715,
          -0.5060161352157593,
          -0.5107819437980652,
          -0.48670703172683716,
          -0.5634060502052307,
          -0.5365084409713745,
          -0.5200715065002441,
          -0.4756675660610199,
          -0.4907965660095215,
          -0.5264055132865906,
          -0.5115233063697815,
          -0.511698842048645,
          -0.5899633765220642,
          -0.5703268051147461,
          -0.4876845180988312,
          -0.5314065217971802,
          -0.6005891561508179,
          -0.5050808787345886,
          -0.4981785714626312,
          -0.5143176913261414,
          -0.5264615416526794,
          -0.5476714372634888,
          -0.5308122634887695,
          -0.5997611284255981,
          -0.46429747343063354,
          -0.49834322929382324,
          -0.4943854808807373
         ]
        },
        {
         "customdata": [
          [
           "is diabetes one curable ?",
           "cure type one two diseas",
           15
          ],
          [
           "can diabetes be cured ?",
           "cure type one two diseas",
           15
          ],
          [
           "how do you cure diabetes type one ?",
           "cure type one two diseas",
           15
          ],
          [
           "how scientific advancement has helped to solve the problem of diabetes ?",
           "cure type one two diseas",
           15
          ],
          [
           "can you be a jockey if you have type one diabetes ?",
           "cure type one two diseas",
           15
          ],
          [
           "how does a diabetic control their diabetes ?",
           "cure type one two diseas",
           15
          ],
          [
           "is type two diabetes curable ?",
           "cure type one two diseas",
           15
          ],
          [
           "will medications help diabetes ?",
           "cure type one two diseas",
           15
          ],
          [
           "can diabetes lead to blindness ?",
           "cure type one two diseas",
           15
          ],
          [
           "is diabetes a communicable disease ?",
           "cure type one two diseas",
           15
          ],
          [
           "managing hypoglycemia through diet ?",
           "cure type one two diseas",
           15
          ],
          [
           "can a puppy have diabetes ?",
           "cure type one two diseas",
           15
          ],
          [
           "is there a cure for type two diabetes ?",
           "cure type one two diseas",
           15
          ],
          [
           "diabetes cure ?",
           "cure type one two diseas",
           15
          ],
          [
           "is there acure for diabetes ?",
           "cure type one two diseas",
           15
          ],
          [
           "can a parakeet have diabetes ?",
           "cure type one two diseas",
           15
          ],
          [
           "are women who are type one diabetics allowed to adopt children ?",
           "cure type one two diseas",
           15
          ],
          [
           "is lil boosie diabetic ?",
           "cure type one two diseas",
           15
          ],
          [
           "how do you cure from type two diabetes ?",
           "cure type one two diseas",
           15
          ],
          [
           "is diabetes a comunicable disease ?",
           "cure type one two diseas",
           15
          ],
          [
           "is diabetes communicable disease ?",
           "cure type one two diseas",
           15
          ],
          [
           "did laura ingalls wilder have diabetes ?",
           "cure type one two diseas",
           15
          ],
          [
           "are low hdl levels a risk for type two diabetes ?",
           "cure type one two diseas",
           15
          ],
          [
           "how do you cure diabetes ?",
           "cure type one two diseas",
           15
          ],
          [
           "what is the cure if a diabetes ?",
           "cure type one two diseas",
           15
          ],
          [
           "what kind of diabetes did laura ingalls wilder have ?",
           "cure type one two diseas",
           15
          ],
          [
           "can doctor is cure diabetes ?",
           "cure type one two diseas",
           15
          ],
          [
           "is diabeties curable ?",
           "cure type one two diseas",
           15
          ],
          [
           "do plants get diabetes ?",
           "cure type one two diseas",
           15
          ],
          [
           "medications for diabetes ?",
           "cure type one two diseas",
           15
          ],
          [
           "can the loss of an appendix cause diabetes ?",
           "cure type one two diseas",
           15
          ],
          [
           "is diabetes a non communicable disease ?",
           "cure type one two diseas",
           15
          ],
          [
           "is there a cure to diabetes ?",
           "cure type one two diseas",
           15
          ]
         ],
         "hovertemplate": "summary=%{customdata[1]}<br>pc_1=%{x}<br>pc_2=%{y}<br>pc_3=%{z}<br>sentence=%{customdata[0]}<br>label=%{customdata[2]}<extra></extra>",
         "legendgroup": "cure type one two diseas",
         "marker": {
          "color": "#FF6692",
          "size": 8,
          "symbol": "circle"
         },
         "mode": "markers",
         "name": "cure type one two diseas",
         "scene": "scene",
         "showlegend": true,
         "type": "scatter3d",
         "x": [
          0.5767357349395752,
          0.5845423340797424,
          0.498162180185318,
          0.5292873978614807,
          0.4874623119831085,
          0.562971293926239,
          0.5398653149604797,
          0.5354725122451782,
          0.5509861707687378,
          0.5555753707885742,
          0.5701654553413391,
          0.580917239189148,
          0.5227555632591248,
          0.5325635671615601,
          0.5397289991378784,
          0.4817315340042114,
          0.5284737348556519,
          0.48195257782936096,
          0.5543999671936035,
          0.5286858677864075,
          0.5660789012908936,
          0.5867875218391418,
          0.5751630067825317,
          0.5392954349517822,
          0.4859936833381653,
          0.5418776869773865,
          0.542559027671814,
          0.5988885164260864,
          0.5765784978866577,
          0.4950116276741028,
          0.5467141270637512,
          0.5041396021842957,
          0.5369581580162048
         ],
         "y": [
          0.5593346357345581,
          0.5673630237579346,
          0.606005072593689,
          0.6294130086898804,
          0.5210918188095093,
          0.599238932132721,
          0.5833268761634827,
          0.589554488658905,
          0.6274542808532715,
          0.5113888382911682,
          0.5709410309791565,
          0.5644556879997253,
          0.5118924379348755,
          0.5442530512809753,
          0.6052128672599792,
          0.5109896659851074,
          0.6145506501197815,
          0.576062023639679,
          0.5617985725402832,
          0.5765697956085205,
          0.5196971297264099,
          0.5240722298622131,
          0.5134357213973999,
          0.5128875970840454,
          0.6012885570526123,
          0.6062667965888977,
          0.5079550743103027,
          0.5295464992523193,
          0.5808724164962769,
          0.6096677780151367,
          0.5541026592254639,
          0.5667430758476257,
          0.5162912607192993
         ],
         "z": [
          0.3133053183555603,
          0.22872623801231384,
          0.328826904296875,
          0.36989250779151917,
          0.2922206521034241,
          0.27326828241348267,
          0.20616935193538666,
          0.30071142315864563,
          0.35844770073890686,
          0.2121417224407196,
          0.2265961915254593,
          0.2973420023918152,
          0.3565957248210907,
          0.3647784888744354,
          0.34485775232315063,
          0.26234328746795654,
          0.3596908748149872,
          0.22680899500846863,
          0.29744812846183777,
          0.21130967140197754,
          0.2537361681461334,
          0.2764771282672882,
          0.2594129741191864,
          0.33137327432632446,
          0.34854185581207275,
          0.3466709852218628,
          0.3748902380466461,
          0.3058188557624817,
          0.25097665190696716,
          0.3556108772754669,
          0.21093188226222992,
          0.2197311371564865,
          0.3632648289203644
         ]
        },
        {
         "customdata": [
          [
           "a scientists makes an educated guess that diabetes is caused by genetic factors his guess is an example of a ?",
           "cure guess type medicin help",
           24
          ],
          [
           "can you get type a diabetes by dirty hands ?",
           "cure guess type medicin help",
           24
          ],
          [
           "who does diabetes affect you ?",
           "cure guess type medicin help",
           24
          ],
          [
           "a scientist makes an educated guess that diabetes is caused by genetic factors his guess is an example of a n ?",
           "cure guess type medicin help",
           24
          ],
          [
           "does chicken affect diabetes ?",
           "cure guess type medicin help",
           24
          ],
          [
           "do bacteria prevent diabetes ?",
           "cure guess type medicin help",
           24
          ],
          [
           "does insulin cure diabetes ?",
           "cure guess type medicin help",
           24
          ],
          [
           "does taking tahitian noni juice helps with diabetes ?",
           "cure guess type medicin help",
           24
          ],
          [
           "is diabetes inheritable ?",
           "cure guess type medicin help",
           24
          ],
          [
           "how do you cure diabetes naturally without medication ?",
           "cure guess type medicin help",
           24
          ],
          [
           "does metformin help with weight loss ?",
           "cure guess type medicin help",
           24
          ],
          [
           "is homemade chicken pot pie good for diabetic diets ?",
           "cure guess type medicin help",
           24
          ],
          [
           "why is there no cure for type one diabetes ?",
           "cure guess type medicin help",
           24
          ],
          [
           "ayurveda medicine for diabeties ?",
           "cure guess type medicin help",
           24
          ],
          [
           "do neurologists help cure diabetes ?",
           "cure guess type medicin help",
           24
          ],
          [
           "is there a cure for pediatric diabetes ?",
           "cure guess type medicin help",
           24
          ],
          [
           "diabetes supplements ?",
           "cure guess type medicin help",
           24
          ],
          [
           "does brown rice affect diabetes ?",
           "cure guess type medicin help",
           24
          ],
          [
           "can diabetes be cured without medicines ?",
           "cure guess type medicin help",
           24
          ],
          [
           "diabetic syringes ?",
           "cure guess type medicin help",
           24
          ],
          [
           "cures and medicines for diseases such as diabetes can be credited to the study of ?",
           "cure guess type medicin help",
           24
          ],
          [
           "is there a cure for hypoglycemia ?",
           "cure guess type medicin help",
           24
          ],
          [
           "can diabetic patients take chicken ?",
           "cure guess type medicin help",
           24
          ],
          [
           "does diabetes type2 have a cure ?",
           "cure guess type medicin help",
           24
          ],
          [
           "are diabetics in pain all the time ?",
           "cure guess type medicin help",
           24
          ],
          [
           "is type two diabetes deadly ?",
           "cure guess type medicin help",
           24
          ],
          [
           "can you stay off medicine with type two diabetes ?",
           "cure guess type medicin help",
           24
          ],
          [
           "a scientist makes an educated guess that diabetes is caused by genetic factors his guess is an example of an ?",
           "cure guess type medicin help",
           24
          ],
          [
           "has anyone actually reversed type two diabetes ?",
           "cure guess type medicin help",
           24
          ],
          [
           "can diabetes be cured with a organ transplant ?",
           "cure guess type medicin help",
           24
          ],
          [
           "is type one diabetes deadly ?",
           "cure guess type medicin help",
           24
          ],
          [
           "diabetes medicine ?",
           "cure guess type medicin help",
           24
          ],
          [
           "how does insulin help cure diabetes ?",
           "cure guess type medicin help",
           24
          ]
         ],
         "hovertemplate": "summary=%{customdata[1]}<br>pc_1=%{x}<br>pc_2=%{y}<br>pc_3=%{z}<br>sentence=%{customdata[0]}<br>label=%{customdata[2]}<extra></extra>",
         "legendgroup": "cure guess type medicin help",
         "marker": {
          "color": "#B6E880",
          "size": 8,
          "symbol": "circle"
         },
         "mode": "markers",
         "name": "cure guess type medicin help",
         "scene": "scene",
         "showlegend": true,
         "type": "scatter3d",
         "x": [
          0.6304183602333069,
          0.5941290259361267,
          0.6302502751350403,
          0.6370087265968323,
          0.5946367383003235,
          0.560967206954956,
          0.6248350739479065,
          0.5281122326850891,
          0.5085951089859009,
          0.6539269089698792,
          0.5486787557601929,
          0.49670806527137756,
          0.6132184267044067,
          0.5342646241188049,
          0.49466851353645325,
          0.5948620438575745,
          0.49552181363105774,
          0.498774915933609,
          0.5651721954345703,
          0.5737462043762207,
          0.6207066178321838,
          0.5368639230728149,
          0.49694740772247314,
          0.5481011867523193,
          0.5685087442398071,
          0.5931147933006287,
          0.6003240942955017,
          0.6442254185676575,
          0.5989548563957214,
          0.5108557343482971,
          0.6377614140510559,
          0.6407391428947449,
          0.6179994940757751
         ],
         "y": [
          0.08959066867828369,
          -0.03984832391142845,
          0.01895216479897499,
          0.07072997093200684,
          -0.0193321630358696,
          0.039562467485666275,
          0.03091670572757721,
          0.00957826990634203,
          0.021054623648524284,
          0.015454289503395557,
          0.06402792781591415,
          0.00940751377493143,
          0.05725898966193199,
          0.0649866908788681,
          0.011143945157527924,
          0.10227011889219284,
          0.010950502008199692,
          0.007568619213998318,
          0.03339407593011856,
          0.046551626175642014,
          0.09305891394615173,
          0.02146172896027565,
          0.005825811065733433,
          0.05717511847615242,
          0.03402479737997055,
          -0.029620647430419922,
          -0.010097323916852474,
          0.08661814033985138,
          0.08946771919727325,
          0.00015022943262010813,
          0.038757286965847015,
          0.02177330292761326,
          0.08789616078138351
         ],
         "z": [
          0.5250812768936157,
          0.49029645323753357,
          0.5688058733940125,
          0.5527017712593079,
          0.4953935444355011,
          0.5413939356803894,
          0.5734922885894775,
          0.44970789551734924,
          0.4587351977825165,
          0.50823974609375,
          0.44331103563308716,
          0.5325599908828735,
          0.5830495953559875,
          0.49010592699050903,
          0.5323922634124756,
          0.5770463943481445,
          0.5019744634628296,
          0.5250993371009827,
          0.5481173992156982,
          0.4992002248764038,
          0.523445725440979,
          0.4493992030620575,
          0.45314860343933105,
          0.45075365900993347,
          0.49278414249420166,
          0.49332213401794434,
          0.5017654895782471,
          0.5122105479240417,
          0.5651957988739014,
          0.45355644822120667,
          0.5357337594032288,
          0.5159182548522949,
          0.5605545043945312
         ]
        },
        {
         "customdata": [
          [
           "are there any recipes for the diabetic ?",
           "recip good find cake food",
           11
          ],
          [
           "where are some sample menus that have diabetic recipes ?",
           "recip good find cake food",
           11
          ],
          [
           "where can one learn about diabetic supply cases ?",
           "recip good find cake food",
           11
          ],
          [
           "how much protein on a diabetic diet ?",
           "recip good find cake food",
           11
          ],
          [
           "what is the best food and diet plan for a diabetic dieter ?",
           "recip good find cake food",
           11
          ],
          [
           "where can a diabetic find sugar free dessert recipes ?",
           "recip good find cake food",
           11
          ],
          [
           "what are some examples of a diabetic meal plan ?",
           "recip good find cake food",
           11
          ],
          [
           "where can i purchase some diabetic foods ?",
           "recip good find cake food",
           11
          ],
          [
           "what are some options for recipes for someone with diabetes ?",
           "recip good find cake food",
           11
          ],
          [
           "what websites have cake recipes for diabetics ?",
           "recip good find cake food",
           11
          ],
          [
           "what diabetic dessert recipe can you make on the stove ?",
           "recip good find cake food",
           11
          ],
          [
           "where to buy diabetic cookies ?",
           "recip good find cake food",
           11
          ],
          [
           "where can i find a diabetic cookbook with southern recipes ?",
           "recip good find cake food",
           11
          ],
          [
           "what are some good diabetic food recipes that will help alleviate my symptoms ?",
           "recip good find cake food",
           11
          ],
          [
           "are there any websites that could help me find easy diabetic recipes ?",
           "recip good find cake food",
           11
          ],
          [
           "where can one find a chocolate pie recipe suitable for someone who has diabetes ?",
           "recip good find cake food",
           11
          ],
          [
           "what are some of the best diabetic recipes suitable for diabetic patients ?",
           "recip good find cake food",
           11
          ],
          [
           "where can i find out more about diabetic cooking ?",
           "recip good find cake food",
           11
          ],
          [
           "what are some cookbooks that have recipes for diabetics ?",
           "recip good find cake food",
           11
          ],
          [
           "where can one find cookie recipes for diabetics ?",
           "recip good find cake food",
           11
          ],
          [
           "creating your own diabetic dessert ?",
           "recip good find cake food",
           11
          ],
          [
           "what are some good diabetic recipes ?",
           "recip good find cake food",
           11
          ],
          [
           "can i find diabetic foods in any grocery store ?",
           "recip good find cake food",
           11
          ],
          [
           "what are some two thousand and ten books on nutrition and weight loss for diabetics ?",
           "recip good find cake food",
           11
          ],
          [
           "where can i find diabetic dessert recipes ?",
           "recip good find cake food",
           11
          ],
          [
           "where can one find a diabetic cookie recipe book ?",
           "recip good find cake food",
           11
          ],
          [
           "diabetic diet recipes ?",
           "recip good find cake food",
           11
          ],
          [
           "could you please recommend some good and easy diabetic recipes ?",
           "recip good find cake food",
           11
          ],
          [
           "how are sugar subsitutes used in diabetic dessert recipes ?",
           "recip good find cake food",
           11
          ],
          [
           "where can one find recipes suitable for diabetics ?",
           "recip good find cake food",
           11
          ],
          [
           "which websites have diabetic dessert recipes ?",
           "recip good find cake food",
           11
          ],
          [
           "what is a good cookook for diabetic recipes ?",
           "recip good find cake food",
           11
          ],
          [
           "what in the world is a diabetic cookbook ?",
           "recip good find cake food",
           11
          ],
          [
           "what types of foods is on the menus for a diabetic ?",
           "recip good find cake food",
           11
          ],
          [
           "diabetic recipes ?",
           "recip good find cake food",
           11
          ],
          [
           "tips on following a diabetic cookie recipe ?",
           "recip good find cake food",
           11
          ],
          [
           "what are some great diabetic diet recipes ?",
           "recip good find cake food",
           11
          ],
          [
           "are there any recipes in diabetic cookbooks for cookies ?",
           "recip good find cake food",
           11
          ],
          [
           "what are some good dessert recipes for diabetics ?",
           "recip good find cake food",
           11
          ],
          [
           "are there recipes to make diabetic food ?",
           "recip good find cake food",
           11
          ],
          [
           "are there any diabetic cake recipes on allrecipescom ?",
           "recip good find cake food",
           11
          ],
          [
           "what are some good tasting diabetic recipes ?",
           "recip good find cake food",
           11
          ],
          [
           "what are the main ingredients in diabetic recipes ?",
           "recip good find cake food",
           11
          ],
          [
           "are any items off-limits in a breakfast for diabetics ?",
           "recip good find cake food",
           11
          ],
          [
           "delicious diabetic carrot cake ?",
           "recip good find cake food",
           11
          ],
          [
           "where can i find out more about recipe for diabetics ?",
           "recip good find cake food",
           11
          ],
          [
           "tasteful , sugar free recipes for the elderly ?",
           "recip good find cake food",
           11
          ],
          [
           "what is a free diabetic cookbook used for ?",
           "recip good find cake food",
           11
          ],
          [
           "what are some low sugar dessert recipes for diabetics ?",
           "recip good find cake food",
           11
          ],
          [
           "what is a reputable diabetic cookbook to purchase online ?",
           "recip good find cake food",
           11
          ],
          [
           "is there any online site that offers diabetic recipes ?",
           "recip good find cake food",
           11
          ],
          [
           "what are healthy recipes for people with diabetic menus ?",
           "recip good find cake food",
           11
          ],
          [
           "what is a good chocolate diabetic cake recipe ?",
           "recip good find cake food",
           11
          ],
          [
           "what is a good diabetic cookie recipes ?",
           "recip good find cake food",
           11
          ],
          [
           "what kind of gestational recipes are there for diabetes sufferers ?",
           "recip good find cake food",
           11
          ],
          [
           "are there good diabetic cake recipes ?",
           "recip good find cake food",
           11
          ],
          [
           "are there diabetic recipies for brownies ?",
           "recip good find cake food",
           11
          ],
          [
           "what dessert recipes are safe for diabetics ?",
           "recip good find cake food",
           11
          ],
          [
           "what is diabetic recipe where can i get the recipe ?",
           "recip good find cake food",
           11
          ],
          [
           "where can i get diabetic meal recipes ?",
           "recip good find cake food",
           11
          ],
          [
           "which diabetic cake recipes are recommended ?",
           "recip good find cake food",
           11
          ],
          [
           "where can i purchase recipes for diabetics online ?",
           "recip good find cake food",
           11
          ],
          [
           "what herbs are good for diabetes ?",
           "recip good find cake food",
           11
          ],
          [
           "what are some great diabetic recipes ?",
           "recip good find cake food",
           11
          ],
          [
           "are their any recipe books for diabetics that have a diabetic cheesecake recipe ?",
           "recip good find cake food",
           11
          ],
          [
           "how much more costly are diabetic foods than normal foods ?",
           "recip good find cake food",
           11
          ],
          [
           "where online can i find diabetic carrot cake recipes ?",
           "recip good find cake food",
           11
          ],
          [
           "how to cook for my whole family when my husband is on the diabetic diet ?",
           "recip good find cake food",
           11
          ],
          [
           "what are some recipes for a diabetic diet ?",
           "recip good find cake food",
           11
          ],
          [
           "could you recommend a top selling cookbook with healthy diabetic recipes ?",
           "recip good find cake food",
           11
          ],
          [
           "is longevity mountain herbs is suitable for me because i am looking chinese herbs for my grand mother is diabetes ?",
           "recip good find cake food",
           11
          ],
          [
           "what is a healthy weekly meal plan for a diabetic ?",
           "recip good find cake food",
           11
          ],
          [
           "is it possible to make a cake that is diabetic friendly ?",
           "recip good find cake food",
           11
          ],
          [
           "what are some good diabetic cake recipes ?",
           "recip good find cake food",
           11
          ],
          [
           "does health insurance cover liposuction if you are a diabetic ?",
           "recip good find cake food",
           11
          ],
          [
           "do all diabetic recipes offer healthier food substitutes ?",
           "recip good find cake food",
           11
          ],
          [
           "what are some diabetic recipes ?",
           "recip good find cake food",
           11
          ],
          [
           "what is a good example of a diabetic meal ?",
           "recip good find cake food",
           11
          ],
          [
           "what is the meal plan example for people like me who are diabetic ?",
           "recip good find cake food",
           11
          ],
          [
           "where would be the best place to find diabetic sugar free recipes ?",
           "recip good find cake food",
           11
          ],
          [
           "can you really make a cheesecake recipe that is good for a diabetic ?",
           "recip good find cake food",
           11
          ],
          [
           "where can someone purchase diabetic cookbooks ?",
           "recip good find cake food",
           11
          ],
          [
           "are diabetics allergic to bee stings ?",
           "recip good find cake food",
           11
          ],
          [
           "what are some free cookie recipes for diabetics ?",
           "recip good find cake food",
           11
          ],
          [
           "when was german diabetes center mergentheim created ?",
           "recip good find cake food",
           11
          ],
          [
           "what are some easy inexpensive diabetes recipes ?",
           "recip good find cake food",
           11
          ],
          [
           "what are diabetic meals and their significance ?",
           "recip good find cake food",
           11
          ],
          [
           "how to create a diabetic cake recipe ?",
           "recip good find cake food",
           11
          ],
          [
           "best recipes for diabetics ?",
           "recip good find cake food",
           11
          ],
          [
           "who is the best specialist doctor in kolkata in medicine diabetes and cardiology ?",
           "recip good find cake food",
           11
          ],
          [
           "meal planning for a diabetic person ?",
           "recip good find cake food",
           11
          ],
          [
           "are there diabetic recipes for cake ?",
           "recip good find cake food",
           11
          ],
          [
           "what kind of products does the novo nordisk company produce ?",
           "recip good find cake food",
           11
          ],
          [
           "where can dessert recipes for diabetics be found ?",
           "recip good find cake food",
           11
          ],
          [
           "what are some good recipes for people with diabetes ?",
           "recip good find cake food",
           11
          ],
          [
           "what are some good ideas for diabetic meals ?",
           "recip good find cake food",
           11
          ],
          [
           "how do i cook popular diabetic recipes ?",
           "recip good find cake food",
           11
          ],
          [
           "what are some good herbs for diabetes ?",
           "recip good find cake food",
           11
          ],
          [
           "what are some recipes for diabetics ?",
           "recip good find cake food",
           11
          ],
          [
           "what does a diabetic grocery list composed of ?",
           "recip good find cake food",
           11
          ],
          [
           "what is the best book on gourmet diabetic cooking ?",
           "recip good find cake food",
           11
          ],
          [
           "good tasting diabetic recipes ?",
           "recip good find cake food",
           11
          ],
          [
           "what are some easy to make diabetic recipes and where can i go for more information on some good diabetic recipes ?",
           "recip good find cake food",
           11
          ],
          [
           "is there a good book with great diabetic dessert recipes available ?",
           "recip good find cake food",
           11
          ],
          [
           "diabetes recipes on the web ?",
           "recip good find cake food",
           11
          ],
          [
           "what are some good recipes for diabetics to have ?",
           "recip good find cake food",
           11
          ],
          [
           "finding the right diabetic supply store ?",
           "recip good find cake food",
           11
          ],
          [
           "what is the name of the specilist who treats epilesy ?",
           "recip good find cake food",
           11
          ],
          [
           "are there any diet recipes for diabetics ?",
           "recip good find cake food",
           11
          ],
          [
           "where can you find diabetic cake recipes ?",
           "recip good find cake food",
           11
          ],
          [
           "where can i purchase cheap diabetic cook books online ?",
           "recip good find cake food",
           11
          ],
          [
           "meal planning for diabetics ?",
           "recip good find cake food",
           11
          ],
          [
           "what is te ideal diet for diabetic patient ?",
           "recip good find cake food",
           11
          ],
          [
           "how does the diabetic food chart compare to the basic food chart ?",
           "recip good find cake food",
           11
          ],
          [
           "what vision-related pathology is caused by diabetes ?",
           "recip good find cake food",
           11
          ],
          [
           "what exactly is a diabetic recipe ?",
           "recip good find cake food",
           11
          ],
          [
           "what is the top diabetic cake recipe ?",
           "recip good find cake food",
           11
          ]
         ],
         "hovertemplate": "summary=%{customdata[1]}<br>pc_1=%{x}<br>pc_2=%{y}<br>pc_3=%{z}<br>sentence=%{customdata[0]}<br>label=%{customdata[2]}<extra></extra>",
         "legendgroup": "recip good find cake food",
         "marker": {
          "color": "#FF97FF",
          "size": 8,
          "symbol": "circle"
         },
         "mode": "markers",
         "name": "recip good find cake food",
         "scene": "scene",
         "showlegend": true,
         "type": "scatter3d",
         "x": [
          -0.5156208276748657,
          -0.5112326145172119,
          -0.4622020423412323,
          -0.3925841152667999,
          -0.3809953033924103,
          -0.4252764880657196,
          -0.4079233407974243,
          -0.4552520513534546,
          -0.37351974844932556,
          -0.5173458456993103,
          -0.40649816393852234,
          -0.6042593717575073,
          -0.5079872608184814,
          -0.4655843675136566,
          -0.3831276297569275,
          -0.35156920552253723,
          -0.3844645619392395,
          -0.41698601841926575,
          -0.48885849118232727,
          -0.47295060753822327,
          -0.4029461443424225,
          -0.47350209951400757,
          -0.43337690830230713,
          -0.4902750253677368,
          -0.4444729685783386,
          -0.48982131481170654,
          -0.42785266041755676,
          -0.32349517941474915,
          -0.4920438230037689,
          -0.3985387086868286,
          -0.47632938623428345,
          -0.4396907091140747,
          -0.5447272062301636,
          -0.46178123354911804,
          -0.5189893841743469,
          -0.4723163843154907,
          -0.5043037533760071,
          -0.5886929631233215,
          -0.41613075137138367,
          -0.4715106785297394,
          -0.5436607003211975,
          -0.46505752205848694,
          -0.5895429849624634,
          -0.36207109689712524,
          -0.5524742603302002,
          -0.43007221817970276,
          -0.41185927391052246,
          -0.4660305380821228,
          -0.4666275382041931,
          -0.45381075143814087,
          -0.37779590487480164,
          -0.5153926014900208,
          -0.4258444607257843,
          -0.347599595785141,
          -0.5690128207206726,
          -0.5524682402610779,
          -0.5714451670646667,
          -0.41797322034835815,
          -0.47596973180770874,
          -0.5076687932014465,
          -0.5245023965835571,
          -0.45336979627609253,
          -0.3251108229160309,
          -0.5499679446220398,
          -0.5136026740074158,
          -0.5926005244255066,
          -0.5014134645462036,
          -0.621117115020752,
          -0.4201822280883789,
          -0.3879784643650055,
          -0.3578158915042877,
          -0.5028525590896606,
          -0.5858218669891357,
          -0.5664883852005005,
          -0.3778415620326996,
          -0.47452959418296814,
          -0.571513831615448,
          -0.39411234855651855,
          -0.48944875597953796,
          -0.4386999011039734,
          -0.3702404797077179,
          -0.4997115433216095,
          -0.49551793932914734,
          -0.44855552911758423,
          -0.6009697318077087,
          -0.4394451379776001,
          -0.6061400771141052,
          -0.563664436340332,
          -0.35687267780303955,
          -0.5648965835571289,
          -0.4043235182762146,
          -0.581101655960083,
          -0.6106070280075073,
          -0.4773717522621155,
          -0.4067199230194092,
          -0.40644651651382446,
          -0.5306324362754822,
          -0.3301571011543274,
          -0.49481865763664246,
          -0.5063356161117554,
          -0.5808242559432983,
          -0.4331524074077606,
          -0.44430896639823914,
          -0.4763123095035553,
          -0.504652738571167,
          -0.3592032492160797,
          -0.45177605748176575,
          -0.5746734142303467,
          -0.4001923203468323,
          -0.5096574425697327,
          -0.48401227593421936,
          -0.41150549054145813,
          -0.43863728642463684,
          -0.3952353000640869,
          -0.5891585350036621,
          -0.38750383257865906,
          -0.5189827084541321
         ],
         "y": [
          0.018765021115541458,
          0.09176059067249298,
          0.04873279109597206,
          0.04675169661641121,
          0.08665280789136887,
          0.0552326999604702,
          0.07510384172201157,
          0.07132036238908768,
          -0.004725331906229258,
          0.1537097841501236,
          -0.0789860188961029,
          0.19190803170204163,
          0.030207103118300438,
          -0.013253699988126755,
          0.06417860090732574,
          -0.07858774065971375,
          -0.14299461245536804,
          0.042858436703681946,
          0.12317680567502975,
          -0.0014972053468227386,
          -0.06854753196239471,
          -0.05268315225839615,
          0.09444282203912735,
          0.14244212210178375,
          0.05572030693292618,
          0.0605417899787426,
          0.15021614730358124,
          -0.11771881580352783,
          -0.08661079406738281,
          0.03851497173309326,
          0.035348109900951385,
          0.1479686051607132,
          0.21174879372119904,
          0.08320390433073044,
          0.03354653716087341,
          -0.05408276990056038,
          0.06432243436574936,
          0.1527019590139389,
          -0.012194231152534485,
          0.12996554374694824,
          0.1157095730304718,
          0.07221657037734985,
          0.08733104169368744,
          -0.1142796128988266,
          -0.029605410993099213,
          0.012262272648513317,
          -0.07272107154130936,
          0.1412666141986847,
          -0.06096213310956955,
          -0.050537221133708954,
          0.04852079600095749,
          0.027061663568019867,
          0.03967927023768425,
          -0.13732001185417175,
          0.22541894018650055,
          0.12132041901350021,
          0.07077965885400772,
          -0.021888867020606995,
          0.014551914297044277,
          0.06052200496196747,
          0.1243242472410202,
          -0.012932212091982365,
          -0.08128532022237778,
          -0.02454642578959465,
          0.0052638729102909565,
          0.08918433636426926,
          0.08842200040817261,
          0.1738480180501938,
          0.11205486953258514,
          0.0160085316747427,
          -0.04568986967206001,
          0.059852905571460724,
          0.22279144823551178,
          0.13435788452625275,
          -0.14915317296981812,
          0.1476617306470871,
          0.07808554917573929,
          -0.02784675732254982,
          0.1263159066438675,
          0.04894615337252617,
          -0.06441067159175873,
          0.10971052199602127,
          0.017387578263878822,
          -0.014344006776809692,
          0.21895849704742432,
          -0.0561295785009861,
          0.16869516670703888,
          0.13821661472320557,
          -0.10753318667411804,
          0.2349134385585785,
          0.09753011167049408,
          0.1476050764322281,
          0.20569102466106415,
          0.004324040841311216,
          -0.0033877226524055004,
          0.0666036605834961,
          -0.020972296595573425,
          -0.07077810168266296,
          0.08481085300445557,
          0.08675847947597504,
          0.14475126564502716,
          0.04790659248828888,
          -0.03872246667742729,
          -0.06398514658212662,
          0.033989474177360535,
          -0.10239015519618988,
          -0.012251688167452812,
          0.14576146006584167,
          0.11646717041730881,
          0.1344919204711914,
          0.0052218190394341946,
          0.10191012918949127,
          0.05980106443166733,
          0.04920746386051178,
          0.2281339019536972,
          0.047313392162323,
          0.09144380688667297
         ],
         "z": [
          0.6976752877235413,
          0.5476543307304382,
          0.5081159472465515,
          0.5970373749732971,
          0.773894190788269,
          0.5127850770950317,
          0.6380387544631958,
          0.7505664825439453,
          0.6074897646903992,
          0.5742858052253723,
          0.6202543377876282,
          0.6527953147888184,
          0.5504298806190491,
          0.520900547504425,
          0.5289456248283386,
          0.6962782144546509,
          0.6904460787773132,
          0.5327423810958862,
          0.6230572462081909,
          0.632970929145813,
          0.6554082036018372,
          0.6162519454956055,
          0.7661146521568298,
          0.7389258742332458,
          0.5056430101394653,
          0.6398842334747314,
          0.7062068581581116,
          0.6850892305374146,
          0.6442922353744507,
          0.5738430023193359,
          0.5245465636253357,
          0.6940492987632751,
          0.5994194149971008,
          0.715583324432373,
          0.6712248921394348,
          0.7145878672599792,
          0.6553018689155579,
          0.7015769481658936,
          0.621749222278595,
          0.6799747347831726,
          0.7403725981712341,
          0.7387720346450806,
          0.558722972869873,
          0.7090131640434265,
          0.6336293816566467,
          0.594491720199585,
          0.6071784496307373,
          0.6766756176948547,
          0.6116884350776672,
          0.5979978442192078,
          0.7140650153160095,
          0.5786016583442688,
          0.7703300714492798,
          0.691758394241333,
          0.6010779142379761,
          0.7348707318305969,
          0.5817167162895203,
          0.5999965667724609,
          0.5113012194633484,
          0.5514956116676331,
          0.720210075378418,
          0.6680669784545898,
          0.702623188495636,
          0.6282956600189209,
          0.6761404275894165,
          0.5580256581306458,
          0.6293079853057861,
          0.5867043137550354,
          0.6586633920669556,
          0.6423196792602539,
          0.6864923238754272,
          0.6452168226242065,
          0.6070911288261414,
          0.6631754040718079,
          0.6744990348815918,
          0.6705360412597656,
          0.582974374294281,
          0.5911218523979187,
          0.7454977631568909,
          0.5137963891029358,
          0.675312876701355,
          0.7002106308937073,
          0.6057388186454773,
          0.6681427955627441,
          0.6120797395706177,
          0.5986238121986389,
          0.69769686460495,
          0.6353679895401001,
          0.7155740857124329,
          0.6149742603302002,
          0.7789731621742249,
          0.7250911593437195,
          0.5930039286613464,
          0.6302564144134521,
          0.6559960246086121,
          0.6448684930801392,
          0.6351368427276611,
          0.701937198638916,
          0.6301154494285583,
          0.6317404508590698,
          0.6936882734298706,
          0.7789002060890198,
          0.5988073348999023,
          0.7275487780570984,
          0.5423130393028259,
          0.7105952501296997,
          0.681169867515564,
          0.724310040473938,
          0.7779867649078369,
          0.5445170402526855,
          0.648653507232666,
          0.7883040904998779,
          0.7813275456428528,
          0.5596907138824463,
          0.605822741985321,
          0.6006907224655151,
          0.5528655052185059
         ]
        },
        {
         "customdata": [
          [
           "how long for the onset of regular insulin ?",
           "insulin blood glucos level sugar",
           8
          ],
          [
           "one plasma blood glucose is higher than whole blood glucose by what percentage ?",
           "insulin blood glucos level sugar",
           8
          ],
          [
           "is regular insulin and nph insulin the same thing ?",
           "insulin blood glucos level sugar",
           8
          ],
          [
           "how many units of insulin for a blood glucose level of two hundred and seventy eight ?",
           "insulin blood glucos level sugar",
           8
          ],
          [
           "how low does your blood sugar level have to be before it can cause serious health issues ?",
           "insulin blood glucos level sugar",
           8
          ],
          [
           "what is hypoglcemia ?",
           "insulin blood glucos level sugar",
           8
          ],
          [
           "what hormone is responsible for the change in blood glucose between 7am and 11am ?",
           "insulin blood glucos level sugar",
           8
          ],
          [
           "ten units of inslin is how many cc ?",
           "insulin blood glucos level sugar",
           8
          ],
          [
           "what precautions need to be taken when doing a gastric acid determination ?",
           "insulin blood glucos level sugar",
           8
          ],
          [
           "what is the antidote for insulin ?",
           "insulin blood glucos level sugar",
           8
          ],
          [
           "explain why there is too little sugar in the blood if the person exercises more than usual ?",
           "insulin blood glucos level sugar",
           8
          ],
          [
           "what suffix is added to indicate sugar diabetes ?",
           "insulin blood glucos level sugar",
           8
          ],
          [
           "how much sugar can a diabetic with a reading of 32units of insulin have per day thankyou ?",
           "insulin blood glucos level sugar",
           8
          ],
          [
           "what if you took insluin but was not a diabetic ?",
           "insulin blood glucos level sugar",
           8
          ],
          [
           "how do you compare insulin units and micrograms ?",
           "insulin blood glucos level sugar",
           8
          ],
          [
           "what is the peak time when administering regular insulin and nph insulin ?",
           "insulin blood glucos level sugar",
           8
          ],
          [
           "what organ relies most critically on a steady supply of glucose ?",
           "insulin blood glucos level sugar",
           8
          ],
          [
           "-- -- -is the most appropriate diagram to represent data on blood glucose level of one hundred patient ?",
           "insulin blood glucos level sugar",
           8
          ],
          [
           "why would the doctor suggest check the patients blood sugar level ?",
           "insulin blood glucos level sugar",
           8
          ],
          [
           "how many units of insulin are in a mililiter ?",
           "insulin blood glucos level sugar",
           8
          ],
          [
           "why would the doctor suggest checking the patient is blood sugar levels ?",
           "insulin blood glucos level sugar",
           8
          ],
          [
           "how many units of insulin is zero . 25ml ?",
           "insulin blood glucos level sugar",
           8
          ],
          [
           "you are a forty year old diabetic you ave a temp of one hundred and one and just had a kidney infection when should you call your doctor ?",
           "insulin blood glucos level sugar",
           8
          ],
          [
           "what is the range of glucose in neonates ?",
           "insulin blood glucos level sugar",
           8
          ],
          [
           "what tells the body how much sugar should be in blood ?",
           "insulin blood glucos level sugar",
           8
          ],
          [
           "what is the best treatment for glucose in the blood ?",
           "insulin blood glucos level sugar",
           8
          ],
          [
           "what is the suffix for a sugar ?",
           "insulin blood glucos level sugar",
           8
          ],
          [
           "what should you do if you injected the wrong insulin ?",
           "insulin blood glucos level sugar",
           8
          ],
          [
           "what is the role of liver in controlling blood sugar level ?",
           "insulin blood glucos level sugar",
           8
          ],
          [
           "what the role of liver and pancreas in controlling the blood glucose level ?",
           "insulin blood glucos level sugar",
           8
          ],
          [
           "is actrapid insulin a short acting insulin ?",
           "insulin blood glucos level sugar",
           8
          ],
          [
           "why do you have to keep the blood glucose level within the normal cycle ?",
           "insulin blood glucos level sugar",
           8
          ],
          [
           "what is the difference between a type-1 diabetic and an insulin-dependent diabetic ?",
           "insulin blood glucos level sugar",
           8
          ],
          [
           "what does the cea level in the blood help the physician decide ?",
           "insulin blood glucos level sugar",
           8
          ],
          [
           "how many units of insulin equals two cc ?",
           "insulin blood glucos level sugar",
           8
          ],
          [
           "is seventy seven a normal blood sugar level if you have not eaten for about five hours and your extremely shaky dizzy and irritable ?",
           "insulin blood glucos level sugar",
           8
          ],
          [
           "why dont mix glargine with short acting insulin ?",
           "insulin blood glucos level sugar",
           8
          ]
         ],
         "hovertemplate": "summary=%{customdata[1]}<br>pc_1=%{x}<br>pc_2=%{y}<br>pc_3=%{z}<br>sentence=%{customdata[0]}<br>label=%{customdata[2]}<extra></extra>",
         "legendgroup": "insulin blood glucos level sugar",
         "marker": {
          "color": "#FECB52",
          "size": 8,
          "symbol": "circle"
         },
         "mode": "markers",
         "name": "insulin blood glucos level sugar",
         "scene": "scene",
         "showlegend": true,
         "type": "scatter3d",
         "x": [
          -0.39069363474845886,
          -0.4974285364151001,
          -0.42513275146484375,
          -0.483319491147995,
          -0.3834446370601654,
          -0.4573194980621338,
          -0.473233699798584,
          -0.3845294415950775,
          -0.3821975290775299,
          -0.4221839904785156,
          -0.43109968304634094,
          -0.3780067563056946,
          -0.3398265242576599,
          -0.42709070444107056,
          -0.3972140848636627,
          -0.3840172588825226,
          -0.5057322382926941,
          -0.37599703669548035,
          -0.43614116311073303,
          -0.4138593077659607,
          -0.4219582974910736,
          -0.3720930516719818,
          -0.49158981442451477,
          -0.4471041262149811,
          -0.46267324686050415,
          -0.3628194332122803,
          -0.4334336817264557,
          -0.3868306875228882,
          -0.39063963294029236,
          -0.38968926668167114,
          -0.4710880219936371,
          -0.45833203196525574,
          -0.3833203911781311,
          -0.43638530373573303,
          -0.3741094172000885,
          -0.47190994024276733,
          -0.4073602259159088
         ],
         "y": [
          -0.31134817004203796,
          -0.24416108429431915,
          -0.25304529070854187,
          -0.2456923872232437,
          -0.30072206258773804,
          -0.2316501885652542,
          -0.34821394085884094,
          -0.17623060941696167,
          -0.25326409935951233,
          -0.3191753029823303,
          -0.306458055973053,
          -0.2329779714345932,
          -0.28949329257011414,
          -0.3123244345188141,
          -0.22436648607254028,
          -0.20935143530368805,
          -0.23794107139110565,
          -0.2639584243297577,
          -0.32753515243530273,
          -0.27433568239212036,
          -0.33063358068466187,
          -0.25105205178260803,
          -0.23889966309070587,
          -0.1996854543685913,
          -0.3270490765571594,
          -0.2160564363002777,
          -0.22993965446949005,
          -0.278877854347229,
          -0.32095059752464294,
          -0.2214195281267166,
          -0.31818482279777527,
          -0.3038121163845062,
          -0.24554948508739471,
          -0.34044212102890015,
          -0.2233782410621643,
          -0.3480246961116791,
          -0.3196675479412079
         ],
         "z": [
          -0.315327525138855,
          -0.27771949768066406,
          -0.2764134705066681,
          -0.27323803305625916,
          -0.29661256074905396,
          -0.25271672010421753,
          -0.30746880173683167,
          -0.2667682468891144,
          -0.3090459704399109,
          -0.3564213812351227,
          -0.36213502287864685,
          -0.28487133979797363,
          -0.28957387804985046,
          -0.35589703917503357,
          -0.2600995600223541,
          -0.33840835094451904,
          -0.27811551094055176,
          -0.3297007381916046,
          -0.23154737055301666,
          -0.2844710350036621,
          -0.22996975481510162,
          -0.32502204179763794,
          -0.27554959058761597,
          -0.302970290184021,
          -0.29275617003440857,
          -0.25707051157951355,
          -0.22432060539722443,
          -0.35130739212036133,
          -0.2503795027732849,
          -0.3256027102470398,
          -0.25399962067604065,
          -0.28188830614089966,
          -0.2852846384048462,
          -0.2238883078098297,
          -0.2875097692012787,
          -0.2648269534111023,
          -0.24585600197315216
         ]
        },
        {
         "customdata": [
          [
           "name the cloudy insulins ?",
           "insulin shock blood taken oral",
           10
          ],
          [
           "why is insulin taken orally ?",
           "insulin shock blood taken oral",
           10
          ],
          [
           "why is insulin injected ?",
           "insulin shock blood taken oral",
           10
          ],
          [
           "why insulin is taken intravenously ?",
           "insulin shock blood taken oral",
           10
          ],
          [
           "what the difference in care for a person who is having a insulin shock or a diabetic coma ?",
           "insulin shock blood taken oral",
           10
          ],
          [
           "why insulin can not be taken orally ?",
           "insulin shock blood taken oral",
           10
          ],
          [
           "what to do if a diabetic feels unwell ?",
           "insulin shock blood taken oral",
           10
          ],
          [
           "what hormone based does diabetes have ?",
           "insulin shock blood taken oral",
           10
          ],
          [
           "the differences between a diabetic coma and insulin shock ?",
           "insulin shock blood taken oral",
           10
          ],
          [
           "what are uses of insulin ?",
           "insulin shock blood taken oral",
           10
          ],
          [
           "does alt increase in blood effect on body ?",
           "insulin shock blood taken oral",
           10
          ],
          [
           "does hyperglycemia and hypoglycemia only occur in diabetic people ?",
           "insulin shock blood taken oral",
           10
          ],
          [
           "why do diabetics receive insulin subcutaneously by infection rather than orally ?",
           "insulin shock blood taken oral",
           10
          ],
          [
           "the role of insulin in the human body is to ?",
           "insulin shock blood taken oral",
           10
          ],
          [
           "what sudden illness results from too much or too little sugar in the person is blood ?",
           "insulin shock blood taken oral",
           10
          ],
          [
           "is their a relationship between diabetes and the pancreas ?",
           "insulin shock blood taken oral",
           10
          ],
          [
           "why does a diabetic who takes too much insulin go into insulin shock ?",
           "insulin shock blood taken oral",
           10
          ],
          [
           "does insulin shock occur quickly ?",
           "insulin shock blood taken oral",
           10
          ],
          [
           "why are keytones dangerous for diabetics ?",
           "insulin shock blood taken oral",
           10
          ],
          [
           "which group of chemicals does the hormone insulin belong ?",
           "insulin shock blood taken oral",
           10
          ],
          [
           "what is the proper aha first aid response to diabetic attack ?",
           "insulin shock blood taken oral",
           10
          ],
          [
           "what is the use for an insulin syringe ?",
           "insulin shock blood taken oral",
           10
          ],
          [
           "what should a physician do to treat insulin shock ?",
           "insulin shock blood taken oral",
           10
          ],
          [
           "what is the affect of high blood sugar and the kidneys and capillaries ?",
           "insulin shock blood taken oral",
           10
          ],
          [
           "insulin shock is a form of what ?",
           "insulin shock blood taken oral",
           10
          ],
          [
           "why you give insulin orally ?",
           "insulin shock blood taken oral",
           10
          ],
          [
           "why is their too little sugar in the blood when too much insulin is taken ?",
           "insulin shock blood taken oral",
           10
          ],
          [
           "why do diabetics inject insulin ?",
           "insulin shock blood taken oral",
           10
          ],
          [
           "how does low sugar affect eyesight ?",
           "insulin shock blood taken oral",
           10
          ],
          [
           "why does diabetes affect sport ?",
           "insulin shock blood taken oral",
           10
          ],
          [
           "how do you use insulin ?",
           "insulin shock blood taken oral",
           10
          ],
          [
           "what are the two types of shock that diabetics go into ?",
           "insulin shock blood taken oral",
           10
          ],
          [
           "why do people with type one diabetes inject with insulin ?",
           "insulin shock blood taken oral",
           10
          ],
          [
           "what is the pharmacological effect of insulin ?",
           "insulin shock blood taken oral",
           10
          ],
          [
           "what is the functoion of insulin ?",
           "insulin shock blood taken oral",
           10
          ],
          [
           "true or false scientists use genetic engineering to produce bacteria that is capable of synthesizing human proteins ?",
           "insulin shock blood taken oral",
           10
          ],
          [
           "why not insulin admitted in the form of tablet ?",
           "insulin shock blood taken oral",
           10
          ],
          [
           "how does diabetes effect the human body ?",
           "insulin shock blood taken oral",
           10
          ],
          [
           "what effect does an increase in the level of insulin in the blood have ?",
           "insulin shock blood taken oral",
           10
          ],
          [
           "what hormone makes your blood glucose increase ?",
           "insulin shock blood taken oral",
           10
          ],
          [
           "what is insulin ans why does your body need it ?",
           "insulin shock blood taken oral",
           10
          ],
          [
           "what happens if a type one diabetics skips insulin ?",
           "insulin shock blood taken oral",
           10
          ],
          [
           "what gland controls the sugar metabolism ?",
           "insulin shock blood taken oral",
           10
          ],
          [
           "what are two serious consequences that are possible for someone with type two diabetes if a prper diet is not followed ?",
           "insulin shock blood taken oral",
           10
          ],
          [
           "what effect does insulin have on the body ?",
           "insulin shock blood taken oral",
           10
          ],
          [
           "which hormone is taken intravenously by diabetics ?",
           "insulin shock blood taken oral",
           10
          ],
          [
           "in diabetes insulin is administered intravenously explain why this hormone protein can not be taken orally ?",
           "insulin shock blood taken oral",
           10
          ],
          [
           "my 7yr old son was diagnosed with tpye1 diabetes in july eight point we have been having alot of highs and lows lately , were told by his doctor that it is normal . i would like to get another opinion on this from someone with same problem . ?",
           "insulin shock blood taken oral",
           10
          ],
          [
           "if 100units of an insulin injection was given instead of 10units what would happen ?",
           "insulin shock blood taken oral",
           10
          ],
          [
           "why do people with diabetes use insulin ?",
           "insulin shock blood taken oral",
           10
          ],
          [
           "what is the difference between diabetic coma and insulin reaction ?",
           "insulin shock blood taken oral",
           10
          ],
          [
           "why do all people do not take insulin periodically so that they do not get diabetes ?",
           "insulin shock blood taken oral",
           10
          ],
          [
           "why insulin give to diabetic patient ?",
           "insulin shock blood taken oral",
           10
          ],
          [
           "what condition occurs when glucose in the blood falls below levels necessary for normal and efficient brain functioning ?",
           "insulin shock blood taken oral",
           10
          ],
          [
           "how do beta blockers cause hypoglycemia ?",
           "insulin shock blood taken oral",
           10
          ]
         ],
         "hovertemplate": "summary=%{customdata[1]}<br>pc_1=%{x}<br>pc_2=%{y}<br>pc_3=%{z}<br>sentence=%{customdata[0]}<br>label=%{customdata[2]}<extra></extra>",
         "legendgroup": "insulin shock blood taken oral",
         "marker": {
          "color": "#636efa",
          "size": 8,
          "symbol": "circle"
         },
         "mode": "markers",
         "name": "insulin shock blood taken oral",
         "scene": "scene",
         "showlegend": true,
         "type": "scatter3d",
         "x": [
          -0.5309961438179016,
          -0.4163561761379242,
          -0.34754425287246704,
          -0.41554486751556396,
          -0.4043823778629303,
          -0.41436275839805603,
          -0.3660367429256439,
          -0.3255053460597992,
          -0.4034922420978546,
          -0.4959220886230469,
          -0.39016208052635193,
          -0.3834732174873352,
          -0.3896792232990265,
          -0.3561932444572449,
          -0.5039339661598206,
          -0.4377813935279846,
          -0.36915066838264465,
          -0.33842933177948,
          -0.3754100501537323,
          -0.3334653377532959,
          -0.27867594361305237,
          -0.39229816198349,
          -0.3876442015171051,
          -0.3365255892276764,
          -0.4153299033641815,
          -0.3574288785457611,
          -0.4860699772834778,
          -0.4570346772670746,
          -0.2730627655982971,
          -0.3836682140827179,
          -0.5221774578094482,
          -0.44410812854766846,
          -0.45927873253822327,
          -0.42986762523651123,
          -0.4128948450088501,
          -0.26335588097572327,
          -0.33697080612182617,
          -0.37729591131210327,
          -0.45662614703178406,
          -0.3734687864780426,
          -0.38787999749183655,
          -0.44679176807403564,
          -0.4860256016254425,
          -0.49088603258132935,
          -0.43965527415275574,
          -0.3441046476364136,
          -0.3411771059036255,
          -0.35749849677085876,
          -0.5214861631393433,
          -0.3800266683101654,
          -0.42579731345176697,
          -0.4094747304916382,
          -0.34758293628692627,
          -0.38117554783821106,
          -0.3414095938205719
         ],
         "y": [
          -0.09567302465438843,
          -0.12054852396249771,
          -0.06879960745573044,
          -0.02768736518919468,
          -0.13220083713531494,
          -0.1498788446187973,
          -0.09190210700035095,
          -0.02277684397995472,
          -0.12956871092319489,
          -0.10725585371255875,
          -0.12977036833763123,
          -0.09200960397720337,
          -0.1304425448179245,
          -0.16374868154525757,
          -0.023280514404177666,
          -0.06025164946913719,
          -0.10612121224403381,
          -0.06787457317113876,
          -0.10270308703184128,
          -0.03536846488714218,
          -0.039297301322221756,
          -0.09903743863105774,
          -0.13441115617752075,
          -0.13016898930072784,
          -0.028964374214410782,
          -0.11330173164606094,
          -0.008151394315063953,
          -0.12713734805583954,
          -0.036663737148046494,
          -0.01661108247935772,
          -0.05845127999782562,
          -0.05813600495457649,
          -0.12364794313907623,
          -0.02507920376956463,
          -0.14455857872962952,
          -0.049366775900125504,
          -0.038983315229415894,
          -0.048448897898197174,
          -0.11327304691076279,
          0.0025122470688074827,
          -0.11232790350914001,
          -0.054432958364486694,
          -0.014056284911930561,
          -0.10965195298194885,
          -0.08582022786140442,
          -0.17005620896816254,
          -0.04839898645877838,
          -0.16257567703723907,
          -0.047872815281152725,
          -0.043795328587293625,
          -0.031197411939501762,
          -0.15920762717723846,
          -0.07609955221414566,
          -0.021044570952653885,
          -0.08272480219602585
         ],
         "z": [
          -0.6072927117347717,
          -0.6490469574928284,
          -0.5160728096961975,
          -0.5553540587425232,
          -0.5116997361183167,
          -0.6550352573394775,
          -0.591477632522583,
          -0.5891711711883545,
          -0.5402911305427551,
          -0.6253643035888672,
          -0.6606267094612122,
          -0.6893972754478455,
          -0.6673444509506226,
          -0.583453357219696,
          -0.6491407752037048,
          -0.6414226293563843,
          -0.6128402352333069,
          -0.6503697633743286,
          -0.6014213562011719,
          -0.5782089829444885,
          -0.5610537528991699,
          -0.6851254105567932,
          -0.5482345223426819,
          -0.6477574706077576,
          -0.5599845051765442,
          -0.6369905471801758,
          -0.5858412384986877,
          -0.6254445910453796,
          -0.5536178946495056,
          -0.6907624006271362,
          -0.6240207552909851,
          -0.6187231540679932,
          -0.6342687010765076,
          -0.5417269468307495,
          -0.577853262424469,
          -0.5708171129226685,
          -0.5619491934776306,
          -0.6577662825584412,
          -0.6268182396888733,
          -0.6772180199623108,
          -0.5539998412132263,
          -0.6409022808074951,
          -0.5905138850212097,
          -0.6317019462585449,
          -0.5966365933418274,
          -0.5788372159004211,
          -0.5407085418701172,
          -0.5741862058639526,
          -0.6214141845703125,
          -0.6933624744415283,
          -0.5383511781692505,
          -0.6618775725364685,
          -0.5972669720649719,
          -0.6863422989845276,
          -0.6503671407699585
         ]
        },
        {
         "customdata": [
          [
           "where can one find liquid glucose ?",
           "find recip onlin inform meal",
           16
          ],
          [
           "diabetic recipes free ?",
           "find recip onlin inform meal",
           16
          ],
          [
           "where can you find information on diabetic meal planning ?",
           "find recip onlin inform meal",
           16
          ],
          [
           "where can i find reasources on an official mayo clinic diet ?",
           "find recip onlin inform meal",
           16
          ],
          [
           "where are some simple recipes found for a diabetic menu ?",
           "find recip onlin inform meal",
           16
          ],
          [
           "where can i find diabetes supplements online ?",
           "find recip onlin inform meal",
           16
          ],
          [
           "where can i find more information diabetic meals ?",
           "find recip onlin inform meal",
           16
          ],
          [
           "where can you find a diabetic cake recipe ?",
           "find recip onlin inform meal",
           16
          ],
          [
           "where can i find the diabetic food guide ?",
           "find recip onlin inform meal",
           16
          ],
          [
           "are there any websites that can help me find diabetic cooking ?",
           "find recip onlin inform meal",
           16
          ],
          [
           "where can one find information on the best diabetes recipe ?",
           "find recip onlin inform meal",
           16
          ],
          [
           "where can i find free recipes for diabetics ?",
           "find recip onlin inform meal",
           16
          ],
          [
           "what are some meals that are safe for people with diabetes ?",
           "find recip onlin inform meal",
           16
          ],
          [
           "where can one find diabetic diet menus ?",
           "find recip onlin inform meal",
           16
          ],
          [
           "what online site has gestational diabetes recipe is ?",
           "find recip onlin inform meal",
           16
          ],
          [
           "where can i find more information on diabetes recipes ?",
           "find recip onlin inform meal",
           16
          ],
          [
           "are there any online healthy diabetic recipes for desserts ?",
           "find recip onlin inform meal",
           16
          ],
          [
           "what are some diabetic menu planner ideas ?",
           "find recip onlin inform meal",
           16
          ],
          [
           "where can i find a list of diabetic approved foods ?",
           "find recip onlin inform meal",
           16
          ],
          [
           "where can i find healthy diabetic recipes online ?",
           "find recip onlin inform meal",
           16
          ],
          [
           "where can you purchase diabetic supply online ?",
           "find recip onlin inform meal",
           16
          ],
          [
           "where can you find some tasty diabetic recipes ?",
           "find recip onlin inform meal",
           16
          ],
          [
           "where online can someone find free diabetes recipes ?",
           "find recip onlin inform meal",
           16
          ],
          [
           "where can i find information on diabetic meal planning ?",
           "find recip onlin inform meal",
           16
          ],
          [
           "where can i find a diabetic meals food guide ?",
           "find recip onlin inform meal",
           16
          ]
         ],
         "hovertemplate": "summary=%{customdata[1]}<br>pc_1=%{x}<br>pc_2=%{y}<br>pc_3=%{z}<br>sentence=%{customdata[0]}<br>label=%{customdata[2]}<extra></extra>",
         "legendgroup": "find recip onlin inform meal",
         "marker": {
          "color": "#EF553B",
          "size": 8,
          "symbol": "circle"
         },
         "mode": "markers",
         "name": "find recip onlin inform meal",
         "scene": "scene",
         "showlegend": true,
         "type": "scatter3d",
         "x": [
          -0.46774086356163025,
          -0.3759068548679352,
          -0.4033172130584717,
          -0.3742964565753937,
          -0.4153030514717102,
          -0.337223619222641,
          -0.40632447600364685,
          -0.5016707181930542,
          -0.39536893367767334,
          -0.40933725237846375,
          -0.44113215804100037,
          -0.40452972054481506,
          -0.38120216131210327,
          -0.393033891916275,
          -0.4033135771751404,
          -0.42100217938423157,
          -0.3644280731678009,
          -0.386262983083725,
          -0.3780486583709717,
          -0.42571237683296204,
          -0.3709326386451721,
          -0.5075204968452454,
          -0.40614554286003113,
          -0.4044187068939209,
          -0.4040808379650116
         ],
         "y": [
          0.11671527475118637,
          0.06767389178276062,
          0.16514605283737183,
          0.2012702077627182,
          0.12881532311439514,
          0.09131227433681488,
          0.17460258305072784,
          0.12582318484783173,
          0.2055661529302597,
          0.09321609884500504,
          0.10193687677383423,
          0.0879693254828453,
          0.21258828043937683,
          0.15328079462051392,
          0.198303684592247,
          0.13352914154529572,
          0.09193310886621475,
          0.2109813690185547,
          0.21470190584659576,
          0.15434344112873077,
          0.061444949358701706,
          0.1375422179698944,
          0.16581369936466217,
          0.16194818913936615,
          0.20580218732357025
         ],
         "z": [
          0.4426867961883545,
          0.48219215869903564,
          0.470432311296463,
          0.48791512846946716,
          0.5234304070472717,
          0.5004088878631592,
          0.44576168060302734,
          0.5364841222763062,
          0.5642021298408508,
          0.5080344080924988,
          0.45395299792289734,
          0.501478374004364,
          0.538074791431427,
          0.5160012245178223,
          0.5409877300262451,
          0.42557623982429504,
          0.5043323040008545,
          0.5477626919746399,
          0.5026707053184509,
          0.4870219826698303,
          0.49582988023757935,
          0.5356379151344299,
          0.4736342430114746,
          0.47267845273017883,
          0.5642425417900085
         ]
        },
        {
         "customdata": [
          [
           "my insurance is pretty high and then it still covers very little of my insulin and supplies . my income is at the poverty level , but i do not seem to qualify for help with my diabetes . i have type one point where may i find help to pay for medications i need ?",
           "eat help good patient drink",
           17
          ],
          [
           "can a diabetic have the color red in a tattoo ?",
           "eat help good patient drink",
           17
          ],
          [
           "can a diabetic own a handgun ?",
           "eat help good patient drink",
           17
          ],
          [
           "is coconut water good for a diabetic person ?",
           "eat help good patient drink",
           17
          ],
          [
           "how long can a diabetic patient survive ?",
           "eat help good patient drink",
           17
          ],
          [
           "is the hand safe for a diabetic to get a tattoo ?",
           "eat help good patient drink",
           17
          ],
          [
           "food to lower high blood presure ?",
           "eat help good patient drink",
           17
          ],
          [
           "can a diabetic drink dark navy rum ?",
           "eat help good patient drink",
           17
          ],
          [
           "can diabetics drink orange jiuce ?",
           "eat help good patient drink",
           17
          ],
          [
           "do herbs raise sugar levels ?",
           "eat help good patient drink",
           17
          ],
          [
           "can diabetic person eat apricot ?",
           "eat help good patient drink",
           17
          ],
          [
           "can diabetes cause shin splints ?",
           "eat help good patient drink",
           17
          ],
          [
           "taking no chances with diabetic equipment ?",
           "eat help good patient drink",
           17
          ],
          [
           "is cottage chese good for diabetics ?",
           "eat help good patient drink",
           17
          ],
          [
           "can a convicted felon be hemodialysis technician ?",
           "eat help good patient drink",
           17
          ],
          [
           "can a diabetic patient eat one mango a day ?",
           "eat help good patient drink",
           17
          ],
          [
           "can i test my blood sugar from other areas than my fingers ?",
           "eat help good patient drink",
           17
          ],
          [
           "can diabetics eat mutton ?",
           "eat help good patient drink",
           17
          ],
          [
           "can diabetics eat from the orange family ?",
           "eat help good patient drink",
           17
          ],
          [
           "how can dark chocolate help diabetics ?",
           "eat help good patient drink",
           17
          ],
          [
           "is tonic water good for diabetic ?",
           "eat help good patient drink",
           17
          ],
          [
           "is mutton good for diabetic ?",
           "eat help good patient drink",
           17
          ],
          [
           "can a diabetic eat apples ?",
           "eat help good patient drink",
           17
          ],
          [
           "can diabetics have fruits ?",
           "eat help good patient drink",
           17
          ],
          [
           "will this help diabetic ?",
           "eat help good patient drink",
           17
          ],
          [
           "does clariten have an effect on glucose readings ?",
           "eat help good patient drink",
           17
          ],
          [
           "how many carbs should a three hundred pound woman eat per day ?",
           "eat help good patient drink",
           17
          ],
          [
           "does a diabetic patient should eat orange ?",
           "eat help good patient drink",
           17
          ],
          [
           "can a diabetic eat fruits ?",
           "eat help good patient drink",
           17
          ],
          [
           "does insulin need to be refrigirated ?",
           "eat help good patient drink",
           17
          ],
          [
           "do you give a diabetic lactulose ?",
           "eat help good patient drink",
           17
          ],
          [
           "what can you drink besides water being border line diabetic ?",
           "eat help good patient drink",
           17
          ],
          [
           "is diabetes a religion ?",
           "eat help good patient drink",
           17
          ],
          [
           "is cereal suitable for diabetic patient ?",
           "eat help good patient drink",
           17
          ],
          [
           "are diabetic test strips universal ?",
           "eat help good patient drink",
           17
          ],
          [
           "is it safe for diabetics to drink aspartame ?",
           "eat help good patient drink",
           17
          ],
          [
           "are there any diabetes blood sugar tests that do not require pricking the fingers ?",
           "eat help good patient drink",
           17
          ],
          [
           "how much fruit can a type two diabetic have a day ?",
           "eat help good patient drink",
           17
          ]
         ],
         "hovertemplate": "summary=%{customdata[1]}<br>pc_1=%{x}<br>pc_2=%{y}<br>pc_3=%{z}<br>sentence=%{customdata[0]}<br>label=%{customdata[2]}<extra></extra>",
         "legendgroup": "eat help good patient drink",
         "marker": {
          "color": "#00cc96",
          "size": 8,
          "symbol": "circle"
         },
         "mode": "markers",
         "name": "eat help good patient drink",
         "scene": "scene",
         "showlegend": true,
         "type": "scatter3d",
         "x": [
          0.18414731323719025,
          0.16813594102859497,
          0.1698632538318634,
          0.1136636883020401,
          0.13433930277824402,
          0.20910988748073578,
          0.12285251915454865,
          0.12621892988681793,
          0.16276535391807556,
          0.14229527115821838,
          0.1650008261203766,
          0.16466890275478363,
          0.16777890920639038,
          0.23880259692668915,
          0.16008354723453522,
          0.17769600450992584,
          0.12307132035493851,
          0.2566288709640503,
          0.17242532968521118,
          0.15514470636844635,
          0.16574811935424805,
          0.2443007528781891,
          0.16918911039829254,
          0.2275092452764511,
          0.21967805922031403,
          0.11964906752109528,
          0.2513459026813507,
          0.16407546401023865,
          0.19611787796020508,
          0.1177268922328949,
          0.20134662091732025,
          0.1594431847333908,
          0.24228455126285553,
          0.15219992399215698,
          0.17222139239311218,
          0.1871534138917923,
          0.18430113792419434,
          0.24309124052524567
         ],
         "y": [
          -0.49293938279151917,
          -0.334348201751709,
          -0.48537275195121765,
          -0.49305182695388794,
          -0.4009898900985718,
          -0.3850453794002533,
          -0.4287489950656891,
          -0.4285697638988495,
          -0.3194875121116638,
          -0.32406291365623474,
          -0.4296906888484955,
          -0.5019972920417786,
          -0.35439416766166687,
          -0.3863324820995331,
          -0.4986304044723511,
          -0.37226012349128723,
          -0.48782721161842346,
          -0.42495834827423096,
          -0.3427296578884125,
          -0.3100031018257141,
          -0.4325220286846161,
          -0.42063239216804504,
          -0.38490697741508484,
          -0.3913957476615906,
          -0.3971261978149414,
          -0.4191740155220032,
          -0.35586509108543396,
          -0.42270877957344055,
          -0.48671919107437134,
          -0.42520323395729065,
          -0.4277060329914093,
          -0.3927552103996277,
          -0.4086374342441559,
          -0.3143717646598816,
          -0.46036291122436523,
          -0.35222724080085754,
          -0.4880378246307373,
          -0.36252033710479736
         ],
         "z": [
          0.4340537488460541,
          0.2989465892314911,
          0.4102950990200043,
          0.34676480293273926,
          0.33023601770401,
          0.3607909381389618,
          0.36666056513786316,
          0.30253371596336365,
          0.3004196584224701,
          0.41744160652160645,
          0.3901727795600891,
          0.4255400598049164,
          0.4269441068172455,
          0.35661807656288147,
          0.41225337982177734,
          0.3895554840564728,
          0.35565799474716187,
          0.38522323966026306,
          0.4364500641822815,
          0.3897538483142853,
          0.39042285084724426,
          0.38108256459236145,
          0.3628675639629364,
          0.3606216013431549,
          0.3701338768005371,
          0.3107987344264984,
          0.3376605212688446,
          0.4014520049095154,
          0.45068997144699097,
          0.30676501989364624,
          0.2842606008052826,
          0.413426011800766,
          0.3764303922653198,
          0.40189769864082336,
          0.3800296187400818,
          0.40381550788879395,
          0.43838363885879517,
          0.34250667691230774
         ]
        },
        {
         "customdata": [
          [
           "is nick jonas diabetes getting worse ?",
           "jona nick brother get caus",
           5
          ],
          [
           "would justin bieber go out with a girl that has diabetes ?",
           "jona nick brother get caus",
           5
          ],
          [
           "what can happen if diabetes is not treated ?",
           "jona nick brother get caus",
           5
          ],
          [
           "which of the jonas brother have diabetes ?",
           "jona nick brother get caus",
           5
          ],
          [
           "who has a diabetes nick kevin joe ?",
           "jona nick brother get caus",
           5
          ],
          [
           "how old was nick jonas when he found out he had diabetes ?",
           "jona nick brother get caus",
           5
          ],
          [
           "when did nick jonas become a diabetic ?",
           "jona nick brother get caus",
           5
          ],
          [
           "is nick jona diabetes getting worse ?",
           "jona nick brother get caus",
           5
          ],
          [
           "can constipation cause frequent urination ?",
           "jona nick brother get caus",
           5
          ],
          [
           "was nick jonas in the hospital for diabetes why ?",
           "jona nick brother get caus",
           5
          ],
          [
           "can a obese diabetic regain strength of her weak thin legs by exercise ?",
           "jona nick brother get caus",
           5
          ],
          [
           "how does nick jonas brothers help him through living with diabetes ?",
           "jona nick brother get caus",
           5
          ],
          [
           "what does nick jonas use for his diabetes ?",
           "jona nick brother get caus",
           5
          ],
          [
           "what eye problems are symptoms of diabetes ?",
           "jona nick brother get caus",
           5
          ],
          [
           "why does diabetes restrict a beauty treatment ?",
           "jona nick brother get caus",
           5
          ],
          [
           "what causes pain in your right arm between elbow and shoulder and numbness in your right fingers ?",
           "jona nick brother get caus",
           5
          ],
          [
           "which member of the jonas brother band has diabetes ?",
           "jona nick brother get caus",
           5
          ],
          [
           "does mitchell musso have diabetes ?",
           "jona nick brother get caus",
           5
          ],
          [
           "does nick jonas have 'juvenile diabetes ' or diabetes ?",
           "jona nick brother get caus",
           5
          ],
          [
           "would justin bieber go out with a girl that can sing ?",
           "jona nick brother get caus",
           5
          ],
          [
           "do more people die of aids or diabetes ?",
           "jona nick brother get caus",
           5
          ],
          [
           "is nick jonas dying because of diabetes ?",
           "jona nick brother get caus",
           5
          ],
          [
           "what causes dry mouth ?",
           "jona nick brother get caus",
           5
          ],
          [
           "was it november sixteen that nick jonas learned he had diabetes ?",
           "jona nick brother get caus",
           5
          ],
          [
           "are you icaps good for glaucoma patients ?",
           "jona nick brother get caus",
           5
          ],
          [
           "who has diabetes out of the jonas brothers ?",
           "jona nick brother get caus",
           5
          ],
          [
           "nick jonas quote on diabetes ?",
           "jona nick brother get caus",
           5
          ],
          [
           "when was nick jonas diagnosed with diabetes ?",
           "jona nick brother get caus",
           5
          ],
          [
           "when did nick had diabetes ?",
           "jona nick brother get caus",
           5
          ],
          [
           "what kind of diabetes did nick jonas had ?",
           "jona nick brother get caus",
           5
          ],
          [
           "joe do you have diabetes like nick ?",
           "jona nick brother get caus",
           5
          ],
          [
           "why is nick jonas diabetic ?",
           "jona nick brother get caus",
           5
          ],
          [
           "is nick jonas diabetic ?",
           "jona nick brother get caus",
           5
          ],
          [
           "did nick jonas consider leaving the jonas brothers when he found out that he had diabetes ?",
           "jona nick brother get caus",
           5
          ],
          [
           "what is excessive hunger associated with diabetes mellitus ?",
           "jona nick brother get caus",
           5
          ],
          [
           "does nick jonas tack off his dog tag when he sleeps ?",
           "jona nick brother get caus",
           5
          ],
          [
           "can you kiss nick jonas is he has diabetes ?",
           "jona nick brother get caus",
           5
          ],
          [
           "who has diabetes in the jonas brothers ?",
           "jona nick brother get caus",
           5
          ],
          [
           "did nick jonas ever have diabetes ?",
           "jona nick brother get caus",
           5
          ],
          [
           "will vision change as sugar levels increase or decrease ?",
           "jona nick brother get caus",
           5
          ],
          [
           "where do you get nick jonas diabetes tags ?",
           "jona nick brother get caus",
           5
          ],
          [
           "how clean does your background need to be before you can join the air force ?",
           "jona nick brother get caus",
           5
          ],
          [
           "how did nick jonas find out he had diabetes ?",
           "jona nick brother get caus",
           5
          ],
          [
           "is mitchell musso diabetic ?",
           "jona nick brother get caus",
           5
          ],
          [
           "how did nick jonas have diabetes ?",
           "jona nick brother get caus",
           5
          ],
          [
           "how did nick jonas get diabetes ?",
           "jona nick brother get caus",
           5
          ],
          [
           "how is a person is daily life affected by diabetes ?",
           "jona nick brother get caus",
           5
          ],
          [
           "insulin resistance may be stimulated by elevated concentrations of all of the following except ?",
           "jona nick brother get caus",
           5
          ],
          [
           "does nick jonas make too big of a deal about his diabetes ?",
           "jona nick brother get caus",
           5
          ]
         ],
         "hovertemplate": "summary=%{customdata[1]}<br>pc_1=%{x}<br>pc_2=%{y}<br>pc_3=%{z}<br>sentence=%{customdata[0]}<br>label=%{customdata[2]}<extra></extra>",
         "legendgroup": "jona nick brother get caus",
         "marker": {
          "color": "#ab63fa",
          "size": 8,
          "symbol": "circle"
         },
         "mode": "markers",
         "name": "jona nick brother get caus",
         "scene": "scene",
         "showlegend": true,
         "type": "scatter3d",
         "x": [
          0.5929561853408813,
          0.5580987930297852,
          0.5602108240127563,
          0.5587255954742432,
          0.573178768157959,
          0.4588707685470581,
          0.5063858032226562,
          0.5040820837020874,
          0.5114563703536987,
          0.5612557530403137,
          0.4460785388946533,
          0.42719241976737976,
          0.6127111315727234,
          0.4521673917770386,
          0.40766996145248413,
          0.5513533353805542,
          0.5160343050956726,
          0.5679343342781067,
          0.5026020407676697,
          0.5360766053199768,
          0.5075746178627014,
          0.6024178862571716,
          0.5560051202774048,
          0.5954689383506775,
          0.5496459007263184,
          0.5503053069114685,
          0.5494878888130188,
          0.5548807382583618,
          0.5570875406265259,
          0.5706892609596252,
          0.595134437084198,
          0.5576993227005005,
          0.6125938296318054,
          0.5261213779449463,
          0.5760231018066406,
          0.4494384229183197,
          0.5001975893974304,
          0.5575861930847168,
          0.5899811387062073,
          0.5230597853660583,
          0.5252288579940796,
          0.5608190298080444,
          0.4095512926578522,
          0.5500698089599609,
          0.5604971647262573,
          0.5585759282112122,
          0.5589946508407593,
          0.4681532084941864,
          0.5849696397781372
         ],
         "y": [
          0.08243018388748169,
          -0.05133086442947388,
          -0.04712754487991333,
          0.00973560381680727,
          0.04898516461253166,
          0.03009290061891079,
          0.01565142720937729,
          0.11995410174131393,
          0.10372200608253479,
          0.00700894882902503,
          -0.029063593596220016,
          0.030697543174028397,
          0.05211801826953888,
          -0.026986312121152878,
          0.04758542403578758,
          0.009542496874928474,
          0.10238190740346909,
          -0.06156463548541069,
          0.03328155353665352,
          -0.01441213395446539,
          0.02524336241185665,
          0.002135725226253271,
          -0.024210283532738686,
          -0.01085797417908907,
          0.08744192123413086,
          0.07271675765514374,
          0.03169109672307968,
          0.03826853632926941,
          0.00966117437928915,
          0.030547497794032097,
          0.06918040663003922,
          -0.032872457057237625,
          0.06111105903983116,
          0.10159405320882797,
          0.007910743355751038,
          -0.01502131950110197,
          0.1296142041683197,
          0.07234884053468704,
          0.07533452659845352,
          0.10199428349733353,
          -0.04369991645216942,
          0.12517249584197998,
          0.03700128197669983,
          -0.07612506300210953,
          0.04979560151696205,
          0.06369900703430176,
          -0.07398883998394012,
          0.010990563780069351,
          -0.00545771699398756
         ],
         "z": [
          -0.34856629371643066,
          -0.32489830255508423,
          -0.3353433907032013,
          -0.37017202377319336,
          -0.3905421793460846,
          -0.3582598865032196,
          -0.36074966192245483,
          -0.35273608565330505,
          -0.3507244884967804,
          -0.37175652384757996,
          -0.329401433467865,
          -0.36002999544143677,
          -0.327458918094635,
          -0.3344491720199585,
          -0.35226893424987793,
          -0.34555482864379883,
          -0.3470567464828491,
          -0.36757510900497437,
          -0.3681097626686096,
          -0.3279045820236206,
          -0.3674376904964447,
          -0.32441478967666626,
          -0.32677915692329407,
          -0.33416494727134705,
          -0.45456886291503906,
          -0.42804306745529175,
          -0.4600658416748047,
          -0.45302683115005493,
          -0.3528602421283722,
          -0.4467373490333557,
          -0.35220813751220703,
          -0.39471882581710815,
          -0.3261895179748535,
          -0.3458629846572876,
          -0.45641204714775085,
          -0.3315540850162506,
          -0.35888463258743286,
          -0.4549338221549988,
          -0.3615277409553528,
          -0.3514605164527893,
          -0.3906758725643158,
          -0.3989454507827759,
          -0.35374557971954346,
          -0.38043075799942017,
          -0.4119321405887604,
          -0.45069992542266846,
          -0.38473981618881226,
          -0.360823392868042,
          -0.33697861433029175
         ]
        },
        {
         "customdata": [
          [
           "what is the cause of diabetes type two ?",
           "type caus two insulin one",
           12
          ],
          [
           "what are the chances of diabetes being hereditary ?",
           "type caus two insulin one",
           12
          ],
          [
           "what can diabetes do to your body ?",
           "type caus two insulin one",
           12
          ],
          [
           "what are the causes of type two diabetes ?",
           "type caus two insulin one",
           12
          ],
          [
           "at what age can you get diabetes mellitus ?",
           "type caus two insulin one",
           12
          ],
          [
           "why do people get diabetes type two ?",
           "type caus two insulin one",
           12
          ],
          [
           "how does someone develop diabetes ?",
           "type caus two insulin one",
           12
          ],
          [
           "what is the major cause of insulin resistance ?",
           "type caus two insulin one",
           12
          ],
          [
           "is type one diabetes strong or type two ?",
           "type caus two insulin one",
           12
          ],
          [
           "is juvenile diabetes o genetic disorder ?",
           "type caus two insulin one",
           12
          ],
          [
           "can someone be health and get diabetes because your dad has it ?",
           "type caus two insulin one",
           12
          ],
          [
           "diabetes mellitus is a disease that occurs when the body either can not produce the hormone insulin or produces an insufficient amount of insulin . the disease is caused by a disruption in the system . ?",
           "type caus two insulin one",
           12
          ],
          [
           "what are some of the effects of type one diabetes ?",
           "type caus two insulin one",
           12
          ],
          [
           "can optimal blood glucose control reduce the risk of coronary heart disease in patients with type one diabetes ?",
           "type caus two insulin one",
           12
          ],
          [
           "what causes insulin resistance ?",
           "type caus two insulin one",
           12
          ],
          [
           "how is pyorrhea linked to diabetes type one ?",
           "type caus two insulin one",
           12
          ],
          [
           "what is true about diabetes type two ?",
           "type caus two insulin one",
           12
          ],
          [
           "diabetes mellitus is a disorder of ?",
           "type caus two insulin one",
           12
          ],
          [
           "how is diabetes controlled ?",
           "type caus two insulin one",
           12
          ],
          [
           "what is the cause of diabeties ?",
           "type caus two insulin one",
           12
          ],
          [
           "how is type two diabetes controlled ?",
           "type caus two insulin one",
           12
          ],
          [
           "what is a cause of diabetes ?",
           "type caus two insulin one",
           12
          ],
          [
           "what s type three diabetes ?",
           "type caus two insulin one",
           12
          ],
          [
           "what are causes of diabetes ?",
           "type caus two insulin one",
           12
          ],
          [
           "what is the cause of diabetes ?",
           "type caus two insulin one",
           12
          ],
          [
           "what are the genes responsible for diabetes ?",
           "type caus two insulin one",
           12
          ],
          [
           "does type two diabetes cause insulin deficiency or insulin resistance ?",
           "type caus two insulin one",
           12
          ]
         ],
         "hovertemplate": "summary=%{customdata[1]}<br>pc_1=%{x}<br>pc_2=%{y}<br>pc_3=%{z}<br>sentence=%{customdata[0]}<br>label=%{customdata[2]}<extra></extra>",
         "legendgroup": "type caus two insulin one",
         "marker": {
          "color": "#FFA15A",
          "size": 8,
          "symbol": "circle"
         },
         "mode": "markers",
         "name": "type caus two insulin one",
         "scene": "scene",
         "showlegend": true,
         "type": "scatter3d",
         "x": [
          0.11985448002815247,
          0.11109252274036407,
          0.1057489886879921,
          0.08943445235490799,
          0.17050272226333618,
          0.13712887465953827,
          0.08855429291725159,
          0.11938400566577911,
          0.17119057476520538,
          0.11854604631662369,
          0.1620369404554367,
          0.025086982175707817,
          0.0693000927567482,
          0.1289270520210266,
          0.07363636791706085,
          0.08887789398431778,
          0.10781648010015488,
          0.07724616676568985,
          0.14356067776679993,
          0.09214037656784058,
          0.17443925142288208,
          0.13790851831436157,
          0.08433239907026291,
          0.08577825874090195,
          0.09416911751031876,
          0.08755723387002945,
          0.08325768262147903
         ],
         "y": [
          0.713424801826477,
          0.6234301924705505,
          0.604484498500824,
          0.7370651364326477,
          0.6894420981407166,
          0.6220299005508423,
          0.6651166677474976,
          0.6829612851142883,
          0.6766789555549622,
          0.7023478150367737,
          0.6318896412849426,
          0.5980108976364136,
          0.7114664912223816,
          0.6900773644447327,
          0.6735076308250427,
          0.6246147155761719,
          0.6327857971191406,
          0.6233357787132263,
          0.6190930008888245,
          0.6761308908462524,
          0.6595807671546936,
          0.6975805163383484,
          0.7111047506332397,
          0.7357916831970215,
          0.7168923020362854,
          0.6710827350616455,
          0.6237396001815796
         ],
         "z": [
          -0.3022235631942749,
          -0.44707074761390686,
          -0.292715847492218,
          -0.35586902499198914,
          -0.3219345808029175,
          -0.42876186966896057,
          -0.36468270421028137,
          -0.44212326407432556,
          -0.33784493803977966,
          -0.4345003366470337,
          -0.4066421091556549,
          -0.3592015206813812,
          -0.3759656250476837,
          -0.4392843246459961,
          -0.37461498379707336,
          -0.34446340799331665,
          -0.3972885012626648,
          -0.37637126445770264,
          -0.4319412410259247,
          -0.3573344647884369,
          -0.3518943786621094,
          -0.2857747972011566,
          -0.3294033408164978,
          -0.3825230598449707,
          -0.3258744776248932,
          -0.26976627111434937,
          -0.3800952434539795
         ]
        },
        {
         "customdata": [
          [
           "how many children in the us have type two diabetes ?",
           "caus type gestat mani two",
           22
          ],
          [
           "what causes the lack of blood flow to the hands ?",
           "caus type gestat mani two",
           22
          ],
          [
           "what type of diabetes is associated with pregnancy ?",
           "caus type gestat mani two",
           22
          ],
          [
           "what is the chance of a diabetic baby born to parents both heterozygous normal ?",
           "caus type gestat mani two",
           22
          ],
          [
           "how many kids have diabeties ?",
           "caus type gestat mani two",
           22
          ],
          [
           "in ohio how would custody work if the father and mother are not married but the mother is chemically dependent and the father is the primary care taker of their four year old son with type one diabetes ?",
           "caus type gestat mani two",
           22
          ],
          [
           "what is diabetes one and two ?",
           "caus type gestat mani two",
           22
          ],
          [
           "what is the main cause of gestational diabetes ?",
           "caus type gestat mani two",
           22
          ],
          [
           "diabetes in pregnancy ?",
           "caus type gestat mani two",
           22
          ],
          [
           "how do you write a school research paper on diabetes ?",
           "caus type gestat mani two",
           22
          ],
          [
           "what is a common drug used to treat non-insulin-dependent diabetes ?",
           "caus type gestat mani two",
           22
          ],
          [
           "what diabetes caused by ?",
           "caus type gestat mani two",
           22
          ],
          [
           "how many women have diabetes ?",
           "caus type gestat mani two",
           22
          ],
          [
           "if a woman develops diabetes only while pregnant having it go away after giving birth what are the chances of type one diabetes in the child ?",
           "caus type gestat mani two",
           22
          ],
          [
           "what is the chance of diabetic baby born to parents both heterozygous normal ?",
           "caus type gestat mani two",
           22
          ],
          [
           "what is gestational diabetes and how can it be controlled ?",
           "caus type gestat mani two",
           22
          ],
          [
           "when was jackie robinson diagnosed with diabetes ?",
           "caus type gestat mani two",
           22
          ],
          [
           "what is the most prevalent form of diabetes ?",
           "caus type gestat mani two",
           22
          ],
          [
           "how does diabetes start ?",
           "caus type gestat mani two",
           22
          ],
          [
           "gestational age ?",
           "caus type gestat mani two",
           22
          ],
          [
           "how does the bodie respond to diabetes ?",
           "caus type gestat mani two",
           22
          ],
          [
           "pregnancy diabetes ?",
           "caus type gestat mani two",
           22
          ],
          [
           "what causes gestational diabetes ?",
           "caus type gestat mani two",
           22
          ],
          [
           "what is the history of diabetes ?",
           "caus type gestat mani two",
           22
          ],
          [
           "how prevalent is diabetes ?",
           "caus type gestat mani two",
           22
          ],
          [
           "what caused diabetes ?",
           "caus type gestat mani two",
           22
          ],
          [
           "why are children developing diabetes ?",
           "caus type gestat mani two",
           22
          ],
          [
           "how diabetes are caused ?",
           "caus type gestat mani two",
           22
          ],
          [
           "what are the release dates for project not me diabetes prevention - two thousand and twelve slippery slopes 1-12 ?",
           "caus type gestat mani two",
           22
          ],
          [
           "what percent of people get diabetes ?",
           "caus type gestat mani two",
           22
          ]
         ],
         "hovertemplate": "summary=%{customdata[1]}<br>pc_1=%{x}<br>pc_2=%{y}<br>pc_3=%{z}<br>sentence=%{customdata[0]}<br>label=%{customdata[2]}<extra></extra>",
         "legendgroup": "caus type gestat mani two",
         "marker": {
          "color": "#19d3f3",
          "size": 8,
          "symbol": "circle"
         },
         "mode": "markers",
         "name": "caus type gestat mani two",
         "scene": "scene",
         "showlegend": true,
         "type": "scatter3d",
         "x": [
          0.02600792795419693,
          0.11832334846258163,
          0.001970950746908784,
          0.0823882520198822,
          -0.0006545432843267918,
          0.018190445378422737,
          -0.0008517639362253249,
          0.012563754804432392,
          0.0852036252617836,
          0.014133254066109657,
          0.009723350405693054,
          -0.01130644977092743,
          0.10699140280485153,
          0.0017772350693121552,
          0.08390063792467117,
          0.014663830399513245,
          0.031378090381622314,
          -0.014292633160948753,
          0.045739833265542984,
          0.033428024500608444,
          0.05076189339160919,
          0.0853554904460907,
          0.02017888054251671,
          0.1140163242816925,
          0.009328356012701988,
          0.011126191355288029,
          0.07554037123918533,
          0.09411019831895828,
          -0.00027190870605409145,
          0.009859880432486534
         ],
         "y": [
          0.9261125922203064,
          0.965552568435669,
          0.8985068798065186,
          0.9515396356582642,
          0.9128280282020569,
          0.8775928616523743,
          0.8679249882698059,
          0.8877483606338501,
          0.9431363940238953,
          0.8379141092300415,
          0.9039322137832642,
          0.9225245118141174,
          0.9566226005554199,
          0.9186413288116455,
          0.962132453918457,
          0.8441091179847717,
          0.9274466633796692,
          0.881561279296875,
          0.932839572429657,
          0.8956122994422913,
          0.9398022294044495,
          0.9398153424263,
          0.9092574119567871,
          0.959692656993866,
          0.917955219745636,
          0.9052039980888367,
          0.9460611343383789,
          0.9398863911628723,
          0.8835843205451965,
          0.9312190413475037
         ],
         "z": [
          0.012338588014245033,
          -0.033080246299505234,
          -0.0786772146821022,
          0.0217879768460989,
          0.06687597930431366,
          -0.024605363607406616,
          -0.0191488116979599,
          0.02751779928803444,
          0.022184433415532112,
          -0.002240606350824237,
          -0.057480692863464355,
          -0.10130613297224045,
          -0.06272464245557785,
          0.05797345191240311,
          0.011916627176105976,
          -0.005893511697649956,
          -0.018845578655600548,
          -0.015108303166925907,
          0.05331946164369583,
          0.030965283513069153,
          -0.028804857283830643,
          0.030755912885069847,
          -0.03286406397819519,
          -0.04760095104575157,
          0.04354839026927948,
          -0.06053914874792099,
          0.05370481312274933,
          0.018835458904504776,
          -0.03912407159805298,
          0.011960388161242008
         ]
        },
        {
         "customdata": [
          [
           "does having pre diabetes make you more likely to get gestational diabetes ?",
           "prevent get type lose two",
           20
          ],
          [
           "how can you prevent getting diabetes ?",
           "prevent get type lose two",
           20
          ],
          [
           "if you lose weight will type two diabetes go away ?",
           "prevent get type lose two",
           20
          ],
          [
           "can cats get diabetes ?",
           "prevent get type lose two",
           20
          ],
          [
           "what are some of the best methods of diabetes prevention ?",
           "prevent get type lose two",
           20
          ],
          [
           "can i reverse diabetes with a six hundred calorie diet ?",
           "prevent get type lose two",
           20
          ],
          [
           "can cats have diabetes ?",
           "prevent get type lose two",
           20
          ],
          [
           "what diet caises diabetes ?",
           "prevent get type lose two",
           20
          ],
          [
           "how can you lose weight and control your type two diabetes ?",
           "prevent get type lose two",
           20
          ],
          [
           "how can you help people that has diabetes ?",
           "prevent get type lose two",
           20
          ],
          [
           "prevention measure of diabetes ?",
           "prevent get type lose two",
           20
          ],
          [
           "what can a person do to prevent getting diabetes ?",
           "prevent get type lose two",
           20
          ],
          [
           "how you can prevent diabetes ?",
           "prevent get type lose two",
           20
          ],
          [
           "can you lose diabetes ?",
           "prevent get type lose two",
           20
          ],
          [
           "can i handle my diabetes through diet alone without any medical supplies ?",
           "prevent get type lose two",
           20
          ],
          [
           "if you have rhumetoid arthritis are you at risk for type one diabetes ?",
           "prevent get type lose two",
           20
          ],
          [
           "my boyfriend is in the late stages of alcoholism he cant eat and is extremely thin . most of his caloric intake is from booze . doctors suspect he is diabetic now . does that happen often ?",
           "prevent get type lose two",
           20
          ],
          [
           "how do you know that your dog is a diabetes ?",
           "prevent get type lose two",
           20
          ],
          [
           "can diabetes prevent surgery ?",
           "prevent get type lose two",
           20
          ],
          [
           "how could you prevent diabetes ?",
           "prevent get type lose two",
           20
          ],
          [
           "if diabetes runs through your family what can you do to prevent from getting it yourself ?",
           "prevent get type lose two",
           20
          ],
          [
           "how can you prevent type two diabetes ?",
           "prevent get type lose two",
           20
          ],
          [
           "does late dinner cause of diabetes ?",
           "prevent get type lose two",
           20
          ],
          [
           "what can i do to help prevent diabetes ?",
           "prevent get type lose two",
           20
          ],
          [
           "what can you do to lower your risk of getting diabetes ?",
           "prevent get type lose two",
           20
          ],
          [
           "what are treatment options for children with diabetes ?",
           "prevent get type lose two",
           20
          ],
          [
           "can eating to much honey cause you to become diabetic ?",
           "prevent get type lose two",
           20
          ],
          [
           "what is an omnipod ?",
           "prevent get type lose two",
           20
          ],
          [
           "what measures can be taken to prevent diabetes in adults ?",
           "prevent get type lose two",
           20
          ],
          [
           "how do i prevent developing diabetes ?",
           "prevent get type lose two",
           20
          ],
          [
           "what is the leading cause of diabetes in america and how can i prevent getting it ?",
           "prevent get type lose two",
           20
          ],
          [
           "what are good methods of diabetes prevention ?",
           "prevent get type lose two",
           20
          ],
          [
           "does raven symone have diabetes ?",
           "prevent get type lose two",
           20
          ],
          [
           "you are insulin resistant you do not however have diabetes if you lose the weight will your insulin resistance go too along with it your chance of developing diabetes ?",
           "prevent get type lose two",
           20
          ],
          [
           "how can soccer prevent type two diabetes ?",
           "prevent get type lose two",
           20
          ],
          [
           "is it harder for a man with diabetes to get a woman pregnant ?",
           "prevent get type lose two",
           20
          ]
         ],
         "hovertemplate": "summary=%{customdata[1]}<br>pc_1=%{x}<br>pc_2=%{y}<br>pc_3=%{z}<br>sentence=%{customdata[0]}<br>label=%{customdata[2]}<extra></extra>",
         "legendgroup": "prevent get type lose two",
         "marker": {
          "color": "#FF6692",
          "size": 8,
          "symbol": "circle"
         },
         "mode": "markers",
         "name": "prevent get type lose two",
         "scene": "scene",
         "showlegend": true,
         "type": "scatter3d",
         "x": [
          0.18682710826396942,
          0.3094789385795593,
          0.22783368825912476,
          0.3116925060749054,
          0.2029029130935669,
          0.3220953643321991,
          0.3539081811904907,
          0.2003386914730072,
          0.2543754279613495,
          0.26652055978775024,
          0.2638113498687744,
          0.2912294268608093,
          0.30569714307785034,
          0.27281901240348816,
          0.20932187139987946,
          0.2795783579349518,
          0.3142144978046417,
          0.21738910675048828,
          0.23879370093345642,
          0.3165567219257355,
          0.3238471448421478,
          0.2964019775390625,
          0.29487672448158264,
          0.3170754909515381,
          0.25367259979248047,
          0.20560429990291595,
          0.3024623990058899,
          0.18803979456424713,
          0.2984200716018677,
          0.20723381638526917,
          0.24228118360042572,
          0.23172976076602936,
          0.3080410957336426,
          0.3399762809276581,
          0.26019376516342163,
          0.3107326328754425
         ],
         "y": [
          0.23695828020572662,
          0.19562672078609467,
          0.2529275715351105,
          0.20519296824932098,
          0.18754981458187103,
          0.18097041547298431,
          0.1660139411687851,
          0.24750837683677673,
          0.24844886362552643,
          0.17948280274868011,
          0.23765674233436584,
          0.28906533122062683,
          0.2012237161397934,
          0.2864517569541931,
          0.13940930366516113,
          0.23161613941192627,
          0.2177058607339859,
          0.14168497920036316,
          0.1405121237039566,
          0.17368580400943756,
          0.17454247176647186,
          0.24708375334739685,
          0.20827624201774597,
          0.1949838548898697,
          0.2684705853462219,
          0.2010800540447235,
          0.21871930360794067,
          0.24254029989242554,
          0.1688353568315506,
          0.1608065962791443,
          0.26010721921920776,
          0.2525334358215332,
          0.26367461681365967,
          0.17061223089694977,
          0.20877695083618164,
          0.2057069092988968
         ],
         "z": [
          0.33337634801864624,
          0.33716312050819397,
          0.24139882624149323,
          0.20636239647865295,
          0.3169329762458801,
          0.28793033957481384,
          0.2760198414325714,
          0.31689101457595825,
          0.23827774822711945,
          0.2533634603023529,
          0.2981865406036377,
          0.2311212420463562,
          0.3100835382938385,
          0.22567398846149445,
          0.2750946283340454,
          0.2963411509990692,
          0.19091710448265076,
          0.28538817167282104,
          0.28802770376205444,
          0.3096281886100769,
          0.30091509222984314,
          0.2912745177745819,
          0.1721920669078827,
          0.33178895711898804,
          0.22910864651203156,
          0.32446208596229553,
          0.18737979233264923,
          0.33115530014038086,
          0.23866814374923706,
          0.3107285797595978,
          0.3213411569595337,
          0.24516451358795166,
          0.27091339230537415,
          0.283346951007843,
          0.2820131480693817,
          0.196773499250412
         ]
        },
        {
         "customdata": [
          [
           "is macaroni good for diabetic ?",
           "insulin use good peopl affect",
           13
          ],
          [
           "what do you do if you accidentally gave your dog too much insulin ?",
           "insulin use good peopl affect",
           13
          ],
          [
           "can people with diabetes use wart removers ?",
           "insulin use good peopl affect",
           13
          ],
          [
           "what is the term used to describe a disorder characterized by a recurrent failure to resist impulses to set fires ?",
           "insulin use good peopl affect",
           13
          ],
          [
           "what liquor is best for diabetics ?",
           "insulin use good peopl affect",
           13
          ],
          [
           "what would be the effects of adding the sequence kdel to insulin ?",
           "insulin use good peopl affect",
           13
          ],
          [
           "can diabetics have a cappuccino ?",
           "insulin use good peopl affect",
           13
          ],
          [
           "how does genital herpes affect diabetics ?",
           "insulin use good peopl affect",
           13
          ],
          [
           "will medicaid pay for diabetic shoes in georgia ?",
           "insulin use good peopl affect",
           13
          ],
          [
           "what drug is used for diabetic hypertensive ?",
           "insulin use good peopl affect",
           13
          ],
          [
           "concerns with gentically engineered insulin ?",
           "insulin use good peopl affect",
           13
          ],
          [
           "what is pain radiating down the buttocks and the back of the leg called ?",
           "insulin use good peopl affect",
           13
          ],
          [
           "low mpv count ?",
           "insulin use good peopl affect",
           13
          ],
          [
           "is potato is good for diabetic patients ?",
           "insulin use good peopl affect",
           13
          ],
          [
           "if a diabetic patient is reluctant to learn how to give himself insulin injection the first thing the medical should do is ?",
           "insulin use good peopl affect",
           13
          ],
          [
           "what makes up your lower leg ?",
           "insulin use good peopl affect",
           13
          ],
          [
           "who is the lady in the walgreen is commercial about diabetes ?",
           "insulin use good peopl affect",
           13
          ],
          [
           "how many people in georgia suffer from diabetes ?",
           "insulin use good peopl affect",
           13
          ],
          [
           "can insulin be given iv ?",
           "insulin use good peopl affect",
           13
          ],
          [
           "does a diabetic who has had the top part of their foot cut off use a manual wheelchair with no handles ?",
           "insulin use good peopl affect",
           13
          ],
          [
           "can an overdose of diabetic medicine cause brain damage ?",
           "insulin use good peopl affect",
           13
          ],
          [
           "what diabetic supplies should a diabetic always have available ?",
           "insulin use good peopl affect",
           13
          ],
          [
           "is oil good for diabetic people ?",
           "insulin use good peopl affect",
           13
          ],
          [
           "how many carbohydrates should a diebetic have ?",
           "insulin use good peopl affect",
           13
          ],
          [
           "if your best friend is a ten year old with diabetes and you have to take daily shots and you miss one shot in one day only will you die ?",
           "insulin use good peopl affect",
           13
          ],
          [
           "why should diabetics exercise ?",
           "insulin use good peopl affect",
           13
          ],
          [
           "how can body parts affected from tattoo ?",
           "insulin use good peopl affect",
           13
          ],
          [
           "how will crack affect a diabetic ?",
           "insulin use good peopl affect",
           13
          ],
          [
           "why do diabetics have to take care of their feet ?",
           "insulin use good peopl affect",
           13
          ],
          [
           "what does medicaid pay for diabetic shoes in each state ?",
           "insulin use good peopl affect",
           13
          ]
         ],
         "hovertemplate": "summary=%{customdata[1]}<br>pc_1=%{x}<br>pc_2=%{y}<br>pc_3=%{z}<br>sentence=%{customdata[0]}<br>label=%{customdata[2]}<extra></extra>",
         "legendgroup": "insulin use good peopl affect",
         "marker": {
          "color": "#B6E880",
          "size": 8,
          "symbol": "circle"
         },
         "mode": "markers",
         "name": "insulin use good peopl affect",
         "scene": "scene",
         "showlegend": true,
         "type": "scatter3d",
         "x": [
          -0.01826072297990322,
          0.054735880345106125,
          -0.0857803225517273,
          -0.044456567615270615,
          -0.047160450369119644,
          -0.012397394515573978,
          -0.022524403408169746,
          -0.09987083077430725,
          -0.03924466297030449,
          -0.06027841567993164,
          -0.07393309473991394,
          -0.04247204214334488,
          -0.047280602157115936,
          0.04906633123755455,
          0.0049986387602984905,
          0.0359746478497982,
          -0.035649750381708145,
          -0.04470314085483551,
          0.04902161285281181,
          -0.02377496100962162,
          -0.01990261860191822,
          -0.043788135051727295,
          -0.025625430047512054,
          -0.10591229051351547,
          0.06007616966962814,
          -0.0011269290698692203,
          -0.07974095642566681,
          -0.07603266090154648,
          0.03239201009273529,
          -0.04012530297040939
         ],
         "y": [
          -0.29410821199417114,
          -0.37733587622642517,
          -0.2978358268737793,
          -0.26508858799934387,
          -0.38176238536834717,
          -0.27380603551864624,
          -0.32652920484542847,
          -0.3270762860774994,
          -0.33895203471183777,
          -0.2815892696380615,
          -0.29040494561195374,
          -0.3876843750476837,
          -0.3784836530685425,
          -0.3704339861869812,
          -0.23867766559123993,
          -0.3282482624053955,
          -0.29937252402305603,
          -0.2850649058818817,
          -0.3114883601665497,
          -0.27955305576324463,
          -0.38762953877449036,
          -0.36718663573265076,
          -0.37687933444976807,
          -0.32077550888061523,
          -0.3189395070075989,
          -0.3337292969226837,
          -0.3014424443244934,
          -0.30200064182281494,
          -0.3723313510417938,
          -0.35057902336120605
         ],
         "z": [
          0.21022847294807434,
          0.18452750146389008,
          0.1072029173374176,
          0.13045771420001984,
          0.19963812828063965,
          0.21233049035072327,
          0.1757175624370575,
          0.13252563774585724,
          0.24332140386104584,
          0.13209035992622375,
          0.11435090750455856,
          0.10976062715053558,
          0.22154492139816284,
          0.17879082262516022,
          0.19438974559307098,
          0.0966770276427269,
          0.18226753175258636,
          0.14874312281608582,
          0.1516786366701126,
          0.20872658491134644,
          0.11166883260011673,
          0.24145269393920898,
          0.13921445608139038,
          0.1523636430501938,
          0.1434585601091385,
          0.1916501522064209,
          0.17251385748386383,
          0.17228925228118896,
          0.11085469275712967,
          0.24806509912014008
         ]
        },
        {
         "customdata": [
          [
           "what are types of diabetes ?",
           "type one caus two mellitu",
           2
          ],
          [
           "what is diabetes type one ?",
           "type one caus two mellitu",
           2
          ],
          [
           "which type of diabetes mellitus is an insulin resistance disorder gestational type one or type two ?",
           "type one caus two mellitu",
           2
          ],
          [
           "what causes diabetes what is diabetes and what can diabetes cause ?",
           "type one caus two mellitu",
           2
          ],
          [
           "what condition is insulin resistance of fat cells type one diabetes or type two diabetes ?",
           "type one caus two mellitu",
           2
          ],
          [
           "which diabetes usually develops during adolescence and is thought to be caused by an inherited predisposition to pancreas problems ?",
           "type one caus two mellitu",
           2
          ],
          [
           "which type of diabetes mellitus is an insulin resistant disorder ?",
           "type one caus two mellitu",
           2
          ],
          [
           "what causes type one diabetes ?",
           "type one caus two mellitu",
           2
          ],
          [
           "what is it like to have diabetes ?",
           "type one caus two mellitu",
           2
          ],
          [
           "what are all the types of diabetes ?",
           "type one caus two mellitu",
           2
          ],
          [
           "name of disorder of diabetes ?",
           "type one caus two mellitu",
           2
          ],
          [
           "how do you control type one diabetes ?",
           "type one caus two mellitu",
           2
          ],
          [
           "what causes type one diabetes ?",
           "type one caus two mellitu",
           2
          ],
          [
           "who gets type one and type two diabetes ?",
           "type one caus two mellitu",
           2
          ],
          [
           "what is the cause of diabetes type one ?",
           "type one caus two mellitu",
           2
          ],
          [
           "how do you het diabetes type one ?",
           "type one caus two mellitu",
           2
          ],
          [
           "a disease that deeps your dody from making o using insulin properly ?",
           "type one caus two mellitu",
           2
          ],
          [
           "diabetes mellitus is a disorder caused by malfunction of the ?",
           "type one caus two mellitu",
           2
          ],
          [
           "what causes type i diabetes ?",
           "type one caus two mellitu",
           2
          ],
          [
           "what types of diabetes are there ?",
           "type one caus two mellitu",
           2
          ],
          [
           "what resistance leads to hyperglycemia and ketoacidosis ?",
           "type one caus two mellitu",
           2
          ],
          [
           "what type of diabetes is hereditary ?",
           "type one caus two mellitu",
           2
          ],
          [
           "what is type 1diabetes juvenile diabates ?",
           "type one caus two mellitu",
           2
          ],
          [
           "what is the major contributor to obesity type two diabetes cancer and heart disease ?",
           "type one caus two mellitu",
           2
          ],
          [
           "what is type one diabetes ?",
           "type one caus two mellitu",
           2
          ],
          [
           "what type of diabetes is the most common ?",
           "type one caus two mellitu",
           2
          ],
          [
           "what type of diabetes is most common in children and how can children treat their diabetes ?",
           "type one caus two mellitu",
           2
          ],
          [
           "what type of diabetes mellitus involves insulin resistance ?",
           "type one caus two mellitu",
           2
          ],
          [
           "what is mellitus diabetes type one ?",
           "type one caus two mellitu",
           2
          ],
          [
           "what is one common type of diabetes ?",
           "type one caus two mellitu",
           2
          ],
          [
           "what type of disorder is diabetes type two ?",
           "type one caus two mellitu",
           2
          ],
          [
           "what causes type i diabetes mellitus ?",
           "type one caus two mellitu",
           2
          ],
          [
           "what causes diobeaties ?",
           "type one caus two mellitu",
           2
          ],
          [
           "which of these illness is a disease in which blood sugar levels are above normal ?",
           "type one caus two mellitu",
           2
          ],
          [
           "what is the disease that results from lack of insulin ?",
           "type one caus two mellitu",
           2
          ],
          [
           "why is diabetes called diabetes ?",
           "type one caus two mellitu",
           2
          ],
          [
           "what age do you get type one diabetes ?",
           "type one caus two mellitu",
           2
          ],
          [
           "what cause diabetes ?",
           "type one caus two mellitu",
           2
          ],
          [
           "what is the cause of juvenile diabetes ?",
           "type one caus two mellitu",
           2
          ],
          [
           "what is the name of a disease when blood sugar levels are above normal ?",
           "type one caus two mellitu",
           2
          ],
          [
           "what is the result of the bllood glucose levels being uncontrolled ?",
           "type one caus two mellitu",
           2
          ],
          [
           "how is type one diabetes controlled ?",
           "type one caus two mellitu",
           2
          ],
          [
           "what is type two diabetes ?",
           "type one caus two mellitu",
           2
          ],
          [
           "how common is diabetes type one ?",
           "type one caus two mellitu",
           2
          ],
          [
           "which type of diabetes melliutes is an insulin resistance disorder ?",
           "type one caus two mellitu",
           2
          ],
          [
           "how does a type one diabetic become insulin resistance ?",
           "type one caus two mellitu",
           2
          ],
          [
           "what is type one diabetes mellitus ?",
           "type one caus two mellitu",
           2
          ],
          [
           "what cause diabetics ?",
           "type one caus two mellitu",
           2
          ],
          [
           "what causes type two diabetes ?",
           "type one caus two mellitu",
           2
          ],
          [
           "what is the other name for type one and type two diabetes mellitus ?",
           "type one caus two mellitu",
           2
          ],
          [
           "when did juvenile diabetes become type one diabetes ?",
           "type one caus two mellitu",
           2
          ],
          [
           "what are the effects of type one diabetes ?",
           "type one caus two mellitu",
           2
          ],
          [
           "what are the most common causes of type two diabetes ?",
           "type one caus two mellitu",
           2
          ],
          [
           "what is the link between obesity and diabetes ?",
           "type one caus two mellitu",
           2
          ],
          [
           "what is type i diabetes ?",
           "type one caus two mellitu",
           2
          ],
          [
           "what can treat diabetes ?",
           "type one caus two mellitu",
           2
          ]
         ],
         "hovertemplate": "summary=%{customdata[1]}<br>pc_1=%{x}<br>pc_2=%{y}<br>pc_3=%{z}<br>sentence=%{customdata[0]}<br>label=%{customdata[2]}<extra></extra>",
         "legendgroup": "type one caus two mellitu",
         "marker": {
          "color": "#FF97FF",
          "size": 8,
          "symbol": "circle"
         },
         "mode": "markers",
         "name": "type one caus two mellitu",
         "scene": "scene",
         "showlegend": true,
         "type": "scatter3d",
         "x": [
          -0.08303588628768921,
          -0.13489247858524323,
          -0.057828810065984726,
          0.0417790450155735,
          -0.06936486810445786,
          -0.16548672318458557,
          -0.027098823338747025,
          -0.06744211167097092,
          -0.06121254339814186,
          -0.1267097294330597,
          -0.15448684990406036,
          -0.07460425794124603,
          -0.08252055943012238,
          -0.11319704353809357,
          -0.03589905798435211,
          -0.0907738134264946,
          -0.10608388483524323,
          -0.15037275850772858,
          -0.010160847567021847,
          -0.10536562651395798,
          0.003462280612438917,
          -0.05636817589402199,
          0.0419534333050251,
          -0.034992050379514694,
          -0.13428358733654022,
          -0.019633127376437187,
          -0.03019114024937153,
          -0.05288049578666687,
          -0.14776894450187683,
          -0.12157512456178665,
          -0.008112946525216103,
          -0.02779507078230381,
          0.029528534039855003,
          -0.04763178154826164,
          -0.14237189292907715,
          -0.11457095295190811,
          0.07751879841089249,
          0.07341605424880981,
          -0.018787145614624023,
          0.041571665555238724,
          -0.04822336509823799,
          -0.04606182500720024,
          0.04300545156002045,
          -0.10762567818164825,
          -0.07626315206289291,
          -0.033752117305994034,
          -0.1520470380783081,
          0.06948132812976837,
          0.0563894547522068,
          -0.15413765609264374,
          -0.1468777358531952,
          0.007816653698682785,
          0.05887424200773239,
          -0.1107713058590889,
          -0.032002151012420654,
          -0.10866052657365799
         ],
         "y": [
          0.7299079298973083,
          0.7645793557167053,
          0.7746877074241638,
          0.7648821473121643,
          0.8302103877067566,
          0.6940948963165283,
          0.6649847626686096,
          0.7493335008621216,
          0.6549649238586426,
          0.7105414867401123,
          0.7258569598197937,
          0.8145197033882141,
          0.7460700273513794,
          0.6543447375297546,
          0.6939013004302979,
          0.842582643032074,
          0.767795205116272,
          0.7821096777915955,
          0.7145295143127441,
          0.8335896730422974,
          0.6640511155128479,
          0.6666319370269775,
          0.671843409538269,
          0.6879746913909912,
          0.764696478843689,
          0.7164050340652466,
          0.7847282290458679,
          0.706308901309967,
          0.7093442678451538,
          0.7605985999107361,
          0.7052048444747925,
          0.6640953421592712,
          0.6795192956924438,
          0.6667179465293884,
          0.7287567853927612,
          0.685908317565918,
          0.7549179196357727,
          0.7341241836547852,
          0.7845520973205566,
          0.793466329574585,
          0.7546855211257935,
          0.7030091285705566,
          0.7855747938156128,
          0.768179178237915,
          0.8212870955467224,
          0.7236636877059937,
          0.7089107632637024,
          0.7146384119987488,
          0.748919665813446,
          0.754024088382721,
          0.807364284992218,
          0.6695681214332581,
          0.7522966861724854,
          0.7971646189689636,
          0.7486240863800049,
          0.6642953157424927
         ],
         "z": [
          -0.3021702170372009,
          -0.23210091888904572,
          -0.3453543782234192,
          -0.32039812207221985,
          -0.3010346293449402,
          -0.33551713824272156,
          -0.3267294466495514,
          -0.33597156405448914,
          -0.2362654060125351,
          -0.3274311125278473,
          -0.34543266892433167,
          -0.27391961216926575,
          -0.33311769366264343,
          -0.3314191997051239,
          -0.2743081748485565,
          -0.3290542960166931,
          -0.28105565905570984,
          -0.3837672173976898,
          -0.28302040696144104,
          -0.334174782037735,
          -0.360759973526001,
          -0.24974559247493744,
          -0.22722914814949036,
          -0.23697420954704285,
          -0.23282623291015625,
          -0.281695157289505,
          -0.2120549976825714,
          -0.3452371656894684,
          -0.37732475996017456,
          -0.2540806531906128,
          -0.283922016620636,
          -0.341173380613327,
          -0.26853251457214355,
          -0.24297025799751282,
          -0.33469274640083313,
          -0.32657191157341003,
          -0.30151498317718506,
          -0.3310316801071167,
          -0.21721577644348145,
          -0.2693833112716675,
          -0.3345610797405243,
          -0.34401965141296387,
          -0.24882245063781738,
          -0.27680838108062744,
          -0.2857741415500641,
          -0.3262051045894623,
          -0.3739793002605438,
          -0.24341635406017303,
          -0.3296429514884949,
          -0.3338751792907715,
          -0.32369551062583923,
          -0.3627026677131653,
          -0.327859491109848,
          -0.2895669639110565,
          -0.19706137478351593,
          -0.2388550043106079
         ]
        },
        {
         "customdata": [
          [
           "what is it called when your body is unable to make enough insulin or to use insulin properly ?",
           "bodi caus type insulin hormon",
           31
          ],
          [
           "what hormone deficiency causes diabetes mellitus ?",
           "bodi caus type insulin hormon",
           31
          ],
          [
           "why does diabetes cause sweet urine ?",
           "bodi caus type insulin hormon",
           31
          ],
          [
           "what does diabetes do to the body ?",
           "bodi caus type insulin hormon",
           31
          ],
          [
           "what negative effects the ingredient sugar has on the human body if too much is eaten ?",
           "bodi caus type insulin hormon",
           31
          ],
          [
           "what is the affect of diabetes ?",
           "bodi caus type insulin hormon",
           31
          ],
          [
           "what part of the body does diabetes affect ?",
           "bodi caus type insulin hormon",
           31
          ],
          [
           "what is a condition in which the body is unable to produce or use insulin ?",
           "bodi caus type insulin hormon",
           31
          ],
          [
           "how does type two diabetes affect your body ?",
           "bodi caus type insulin hormon",
           31
          ],
          [
           "which hormone deficiency causes diabetes ?",
           "bodi caus type insulin hormon",
           31
          ],
          [
           "what term best describes a failure of the body is cells to resond to insulin ?",
           "bodi caus type insulin hormon",
           31
          ],
          [
           "what causes the illness diabetes ?",
           "bodi caus type insulin hormon",
           31
          ],
          [
           "what happens when body does not produce or properly use insulin ?",
           "bodi caus type insulin hormon",
           31
          ],
          [
           "what type of infection can lead to diabetes ?",
           "bodi caus type insulin hormon",
           31
          ],
          [
           "when can diabetic ketoacidosis develop in type ii diabetics ?",
           "bodi caus type insulin hormon",
           31
          ],
          [
           "what the difintion of type two diabetes ?",
           "bodi caus type insulin hormon",
           31
          ],
          [
           "what gland scretes diabetes mellitus ?",
           "bodi caus type insulin hormon",
           31
          ],
          [
           "diabetes mellitus is caused by a lack of the hormone . ?",
           "bodi caus type insulin hormon",
           31
          ],
          [
           "what is the difference between diabetes metillius and diabetes insipid ?",
           "bodi caus type insulin hormon",
           31
          ],
          [
           "did thomas edison have diabetes ?",
           "bodi caus type insulin hormon",
           31
          ],
          [
           "what would increase insulin secretion in type ii diabetes ?",
           "bodi caus type insulin hormon",
           31
          ],
          [
           "what do people with diabetes do not produce enough ?",
           "bodi caus type insulin hormon",
           31
          ],
          [
           "what happens in type one of diabetes ?",
           "bodi caus type insulin hormon",
           31
          ],
          [
           "chronic disorder caused by inadequate production or use of insulin is a ?",
           "bodi caus type insulin hormon",
           31
          ],
          [
           "what is the scientific name for kidney failure ?",
           "bodi caus type insulin hormon",
           31
          ],
          [
           "what does diabetes affect ?",
           "bodi caus type insulin hormon",
           31
          ],
          [
           "what are the types of hereditary diseases ?",
           "bodi caus type insulin hormon",
           31
          ],
          [
           "what hormone causes diabetes mellitus ?",
           "bodi caus type insulin hormon",
           31
          ],
          [
           "how will type one diabetes affect your body ?",
           "bodi caus type insulin hormon",
           31
          ],
          [
           "what hormone causes diabetes ?",
           "bodi caus type insulin hormon",
           31
          ],
          [
           "is diabetes an allergy ?",
           "bodi caus type insulin hormon",
           31
          ]
         ],
         "hovertemplate": "summary=%{customdata[1]}<br>pc_1=%{x}<br>pc_2=%{y}<br>pc_3=%{z}<br>sentence=%{customdata[0]}<br>label=%{customdata[2]}<extra></extra>",
         "legendgroup": "bodi caus type insulin hormon",
         "marker": {
          "color": "#FECB52",
          "size": 8,
          "symbol": "circle"
         },
         "mode": "markers",
         "name": "bodi caus type insulin hormon",
         "scene": "scene",
         "showlegend": true,
         "type": "scatter3d",
         "x": [
          -0.19641461968421936,
          -0.18390336632728577,
          -0.1721932739019394,
          -0.1331540048122406,
          -0.16792725026607513,
          -0.18919597566127777,
          -0.1467430591583252,
          -0.17870445549488068,
          -0.06878183037042618,
          -0.17930954694747925,
          -0.07866628468036652,
          -0.07017483562231064,
          -0.18818563222885132,
          -0.06688579171895981,
          -0.10547734051942825,
          -0.11537547409534454,
          -0.1803678423166275,
          -0.19951218366622925,
          -0.14930574595928192,
          -0.06956129521131516,
          -0.04365856572985649,
          -0.19407349824905396,
          -0.1349184811115265,
          -0.13170669972896576,
          -0.06162115931510925,
          -0.14085954427719116,
          -0.04382622614502907,
          -0.22038374841213226,
          -0.18392765522003174,
          -0.20016233623027802,
          -0.1629042774438858
         ],
         "y": [
          0.6000562310218811,
          0.5950013995170593,
          0.5960428714752197,
          0.5118023157119751,
          0.4543515741825104,
          0.5656657814979553,
          0.4702397584915161,
          0.5758646726608276,
          0.5461854934692383,
          0.6001489162445068,
          0.5445834994316101,
          0.5436457395553589,
          0.5823078751564026,
          0.5450022220611572,
          0.5159850120544434,
          0.541315495967865,
          0.48467856645584106,
          0.5820947885513306,
          0.48235851526260376,
          0.5360021591186523,
          0.5494145154953003,
          0.46290233731269836,
          0.5049501061439514,
          0.5336855053901672,
          0.5297037959098816,
          0.48144882917404175,
          0.5460501909255981,
          0.557671070098877,
          0.5585622191429138,
          0.5861095786094666,
          0.49166393280029297
         ],
         "z": [
          -0.4946397542953491,
          -0.5414780974388123,
          -0.5478257536888123,
          -0.5599880218505859,
          -0.5381083488464355,
          -0.4457954168319702,
          -0.5314900875091553,
          -0.450876384973526,
          -0.42676037549972534,
          -0.5325150489807129,
          -0.42932945489883423,
          -0.43952953815460205,
          -0.5476899743080139,
          -0.43222710490226746,
          -0.42011743783950806,
          -0.501991331577301,
          -0.4337904155254364,
          -0.46936365962028503,
          -0.5624035000801086,
          -0.46922722458839417,
          -0.45697885751724243,
          -0.5074614882469177,
          -0.5594908595085144,
          -0.49372801184654236,
          -0.4640502631664276,
          -0.4138522148132324,
          -0.47566255927085876,
          -0.4733867943286896,
          -0.43521687388420105,
          -0.46370729804039,
          -0.4148348271846771
         ]
        },
        {
         "customdata": [
          [
           "is diabetes mellitus controllable ?",
           "type mellitu one caus get",
           28
          ],
          [
           "what diseases can diabetes give you ?",
           "type mellitu one caus get",
           28
          ],
          [
           "can you treat type one diabetes be treated ?",
           "type mellitu one caus get",
           28
          ],
          [
           "are diabetes and glaucoma hereditary diseases ?",
           "type mellitu one caus get",
           28
          ],
          [
           "does joint pain occurs because of diabetes ?",
           "type mellitu one caus get",
           28
          ],
          [
           "is the word diabetes capitalized in a sentence ?",
           "type mellitu one caus get",
           28
          ],
          [
           "is diabetes spread through blood or air ?",
           "type mellitu one caus get",
           28
          ],
          [
           "can you get diabetes from touching an infected person is blood ?",
           "type mellitu one caus get",
           28
          ],
          [
           "do cows get diabetes ?",
           "type mellitu one caus get",
           28
          ],
          [
           "why do people care that nick jonas has diabetes but still tease other people who also have type one diabetes ?",
           "type mellitu one caus get",
           28
          ],
          [
           "when does type two diabetes turn into insulin dependent ?",
           "type mellitu one caus get",
           28
          ],
          [
           "does untreated diabetes mellitus cause ketosis ?",
           "type mellitu one caus get",
           28
          ],
          [
           "who from the jonas brother has type one diabetes ?",
           "type mellitu one caus get",
           28
          ],
          [
           "is type one diabetes a mutation ?",
           "type mellitu one caus get",
           28
          ],
          [
           "what happens to the pancreas when diabetes is a non communicable disease ?",
           "type mellitu one caus get",
           28
          ],
          [
           "what complications can diabetes mellitus cause ?",
           "type mellitu one caus get",
           28
          ],
          [
           "why does diabetes type one cause weight loss ?",
           "type mellitu one caus get",
           28
          ],
          [
           "why can not diabetes be spread ?",
           "type mellitu one caus get",
           28
          ],
          [
           "what is diabetes pain and complication a generation diseases ?",
           "type mellitu one caus get",
           28
          ],
          [
           "is diabetes mellitus a multifactorial disease ?",
           "type mellitu one caus get",
           28
          ],
          [
           "how does diabetes affect people ?",
           "type mellitu one caus get",
           28
          ],
          [
           "can you get diabetes type one when you are between the ages thirteen to seventeen and can people ages eighteen and above get diabetes type one ?",
           "type mellitu one caus get",
           28
          ],
          [
           "which condition often contributes to the onset of type two diabetes mellitus ?",
           "type mellitu one caus get",
           28
          ],
          [
           "could diabetes cause other sickness ?",
           "type mellitu one caus get",
           28
          ],
          [
           "what ages can people have diabetes ?",
           "type mellitu one caus get",
           28
          ],
          [
           "can diabetes affect your eyesight ?",
           "type mellitu one caus get",
           28
          ],
          [
           "if your husband have diabetes will your child get diabetes ?",
           "type mellitu one caus get",
           28
          ],
          [
           "what is the leading cause of death in childhood diabetes ?",
           "type mellitu one caus get",
           28
          ],
          [
           "why can not you get erect ?",
           "type mellitu one caus get",
           28
          ],
          [
           "can diabetes mellitus cause health problems ?",
           "type mellitu one caus get",
           28
          ],
          [
           "how does diabetes cause weight loss ?",
           "type mellitu one caus get",
           28
          ],
          [
           "is diabetes myelitis contagious ?",
           "type mellitu one caus get",
           28
          ],
          [
           "can diabetes mellitus be cured ?",
           "type mellitu one caus get",
           28
          ]
         ],
         "hovertemplate": "summary=%{customdata[1]}<br>pc_1=%{x}<br>pc_2=%{y}<br>pc_3=%{z}<br>sentence=%{customdata[0]}<br>label=%{customdata[2]}<extra></extra>",
         "legendgroup": "type mellitu one caus get",
         "marker": {
          "color": "#636efa",
          "size": 8,
          "symbol": "circle"
         },
         "mode": "markers",
         "name": "type mellitu one caus get",
         "scene": "scene",
         "showlegend": true,
         "type": "scatter3d",
         "x": [
          0.7470510005950928,
          0.6566922664642334,
          0.6177064776420593,
          0.7432694435119629,
          0.7300806641578674,
          0.6493354439735413,
          0.6970275044441223,
          0.6073315739631653,
          0.6445021629333496,
          0.6830329298973083,
          0.5903404951095581,
          0.6519683599472046,
          0.6782316565513611,
          0.7535591721534729,
          0.7554118037223816,
          0.6918848752975464,
          0.6661012768745422,
          0.6662104725837708,
          0.6627763509750366,
          0.6276477575302124,
          0.6546997427940369,
          0.7542004585266113,
          0.6511774659156799,
          0.6988270878791809,
          0.6716731190681458,
          0.6270350813865662,
          0.752901554107666,
          0.655385434627533,
          0.732962429523468,
          0.6719383001327515,
          0.6502848267555237,
          0.6005662679672241,
          0.6510268449783325
         ],
         "y": [
          0.25198736786842346,
          0.14828196167945862,
          0.2599235773086548,
          0.19576556980609894,
          0.21536265313625336,
          0.1939595490694046,
          0.14651328325271606,
          0.23977196216583252,
          0.20118163526058197,
          0.11440593749284744,
          0.23836703598499298,
          0.259067565202713,
          0.12214653193950653,
          0.21966660022735596,
          0.24161365628242493,
          0.11645746976137161,
          0.24610194563865662,
          0.2036042958498001,
          0.13149107992649078,
          0.2929319739341736,
          0.22906441986560822,
          0.21185334026813507,
          0.26815056800842285,
          0.12376494705677032,
          0.20950575172901154,
          0.2859220504760742,
          0.2485761195421219,
          0.15020450949668884,
          0.2111755907535553,
          0.14496606588363647,
          0.15232256054878235,
          0.23444807529449463,
          0.25172924995422363
         ],
         "z": [
          -0.20550166070461273,
          -0.21841999888420105,
          -0.22782562673091888,
          -0.22283656895160675,
          -0.2053985595703125,
          -0.2566725015640259,
          -0.1540498286485672,
          -0.22412952780723572,
          -0.2661910951137543,
          -0.17496545612812042,
          -0.15356317162513733,
          -0.24738624691963196,
          -0.16910558938980103,
          -0.18528464436531067,
          -0.1685095727443695,
          -0.1790039986371994,
          -0.2635246515274048,
          -0.175968736410141,
          -0.15266160666942596,
          -0.16180302202701569,
          -0.25979191064834595,
          -0.18424418568611145,
          -0.2334713488817215,
          -0.17953044176101685,
          -0.1781402975320816,
          -0.1572265326976776,
          -0.14804428815841675,
          -0.23699772357940674,
          -0.20550568401813507,
          -0.16522158682346344,
          -0.12193764001131058,
          -0.14316020905971527,
          -0.17461365461349487
         ]
        },
        {
         "customdata": [
          [
           "is diabetes cantagious ?",
           "sugar blood good eat rais",
           7
          ],
          [
           "if you have diabetes will it affect your children ?",
           "sugar blood good eat rais",
           7
          ],
          [
           "do glucose polymers raise a persons blood sugar levels ?",
           "sugar blood good eat rais",
           7
          ],
          [
           "does steve redgrave have diabetes ?",
           "sugar blood good eat rais",
           7
          ],
          [
           "how does poor diet and lifestyle cause type two diabetes ?",
           "sugar blood good eat rais",
           7
          ],
          [
           "is alive food supplement good for diabetes ?",
           "sugar blood good eat rais",
           7
          ],
          [
           "would a banana increase your blood sugar levels ?",
           "sugar blood good eat rais",
           7
          ],
          [
           "can a diabetic patient eat boiled rice ?",
           "sugar blood good eat rais",
           7
          ],
          [
           "are black olives good for diabetics ?",
           "sugar blood good eat rais",
           7
          ],
          [
           "can high blood sugar cause cysts ?",
           "sugar blood good eat rais",
           7
          ],
          [
           "can leopold is maneuvers be done on women with diabetes ?",
           "sugar blood good eat rais",
           7
          ],
          [
           "is tomato is good for diabetic patients ?",
           "sugar blood good eat rais",
           7
          ],
          [
           "can the chlorine in a swimming pool raise blood sugar in a diabetic person ?",
           "sugar blood good eat rais",
           7
          ],
          [
           "do you get diabetes from to much sugar ?",
           "sugar blood good eat rais",
           7
          ],
          [
           "can diabetes be handed down from your parents ?",
           "sugar blood good eat rais",
           7
          ],
          [
           "how safe is it for a diabetic to have your belly button pierced ?",
           "sugar blood good eat rais",
           7
          ],
          [
           "does am la control blood sugar ?",
           "sugar blood good eat rais",
           7
          ],
          [
           "is dibetes a disease ?",
           "sugar blood good eat rais",
           7
          ],
          [
           "can diabetic patient eat banana ?",
           "sugar blood good eat rais",
           7
          ],
          [
           "can insulin shots produce bright yellow urine ?",
           "sugar blood good eat rais",
           7
          ],
          [
           "does to much intake of sugar causes diabetes ?",
           "sugar blood good eat rais",
           7
          ],
          [
           "control your weight and blood sugar ?",
           "sugar blood good eat rais",
           7
          ],
          [
           "is there a new insulin for type two ?",
           "sugar blood good eat rais",
           7
          ],
          [
           "will eating sugary foods increase your blood sugar level if you are not diabetic ?",
           "sugar blood good eat rais",
           7
          ],
          [
           "is diabetes in teenagers ?",
           "sugar blood good eat rais",
           7
          ],
          [
           "is veal good for diabetes ?",
           "sugar blood good eat rais",
           7
          ],
          [
           "is pawpaw good for diabetics ?",
           "sugar blood good eat rais",
           7
          ],
          [
           "are nectarines good for diabetics ?",
           "sugar blood good eat rais",
           7
          ],
          [
           "can maltodextrin increase blood sugar readings ?",
           "sugar blood good eat rais",
           7
          ],
          [
           "can a person drive in the united states if they have diabetes ?",
           "sugar blood good eat rais",
           7
          ],
          [
           "is it ok to eat ham when you are a diabetic ?",
           "sugar blood good eat rais",
           7
          ],
          [
           "are salt water pools safe for diabetes ?",
           "sugar blood good eat rais",
           7
          ],
          [
           "is the number of people worldwide who have diabetes increasing ?",
           "sugar blood good eat rais",
           7
          ],
          [
           "is it tomato suitable food for diabetics ?",
           "sugar blood good eat rais",
           7
          ],
          [
           "can diabetics eat peaches ?",
           "sugar blood good eat rais",
           7
          ],
          [
           "do mice have diabetes ?",
           "sugar blood good eat rais",
           7
          ],
          [
           "is it true that diabetic type one men are sterile and if yes is there any help ?",
           "sugar blood good eat rais",
           7
          ],
          [
           "does sugar directly cause diabetes ?",
           "sugar blood good eat rais",
           7
          ],
          [
           "does smoking raise blood sugar ?",
           "sugar blood good eat rais",
           7
          ],
          [
           "can you take tylenol pm if you are diabetic ?",
           "sugar blood good eat rais",
           7
          ],
          [
           "is cabbage good for diabetes ?",
           "sugar blood good eat rais",
           7
          ],
          [
           "can hydromorphone raise blood sugars ?",
           "sugar blood good eat rais",
           7
          ],
          [
           "do you have diabetes ?",
           "sugar blood good eat rais",
           7
          ],
          [
           "can diabetes medicine taken with urine therapy ?",
           "sugar blood good eat rais",
           7
          ],
          [
           "are aboriginals and torres strait islanders more susceptible to getting diabetes ?",
           "sugar blood good eat rais",
           7
          ],
          [
           "is centrum safe for diabetes mellitus type two patients ?",
           "sugar blood good eat rais",
           7
          ],
          [
           "can you drink milk if you have type two diabetes ?",
           "sugar blood good eat rais",
           7
          ],
          [
           "can borderline diabetics drink ensure ?",
           "sugar blood good eat rais",
           7
          ],
          [
           "is salad good for diabetes ?",
           "sugar blood good eat rais",
           7
          ],
          [
           "do glucose polymers raise your blood glucose ?",
           "sugar blood good eat rais",
           7
          ],
          [
           "is black sugar suitable for diabetic patient ?",
           "sugar blood good eat rais",
           7
          ],
          [
           "are there stages of diabetes ?",
           "sugar blood good eat rais",
           7
          ],
          [
           "is diabetes a diseas ?",
           "sugar blood good eat rais",
           7
          ],
          [
           "can diabetes be controlled by nutrilite protein powder ?",
           "sugar blood good eat rais",
           7
          ],
          [
           "could diabetes cause your hands to lock up ?",
           "sugar blood good eat rais",
           7
          ],
          [
           "are rashes that repeat is a signs of a diabetic ?",
           "sugar blood good eat rais",
           7
          ],
          [
           "does courtney young have diabetes ?",
           "sugar blood good eat rais",
           7
          ],
          [
           "can diabetics eat granola ?",
           "sugar blood good eat rais",
           7
          ],
          [
           "did david peaston lose his legs to diabetes ?",
           "sugar blood good eat rais",
           7
          ],
          [
           "is swank rice good for diabetes ?",
           "sugar blood good eat rais",
           7
          ],
          [
           "can newborns get diabetes ?",
           "sugar blood good eat rais",
           7
          ],
          [
           "do blackberry raise blood sugar levels ?",
           "sugar blood good eat rais",
           7
          ],
          [
           "has patrick cooney got diabetes ?",
           "sugar blood good eat rais",
           7
          ],
          [
           "can you take aspirin if you have diabetes ?",
           "sugar blood good eat rais",
           7
          ],
          [
           "is white radish good for diabetics ?",
           "sugar blood good eat rais",
           7
          ],
          [
           "can x-ray detect diabetes ?",
           "sugar blood good eat rais",
           7
          ],
          [
           "teens with diabetes can eat sugar sweets and deserts ?",
           "sugar blood good eat rais",
           7
          ],
          [
           "is encephalopathy is complication of diabetes mellitus ?",
           "sugar blood good eat rais",
           7
          ],
          [
           "does your pee get darker when citric acid gets out of our body ?",
           "sugar blood good eat rais",
           7
          ],
          [
           "can type one diabetes be transferred ?",
           "sugar blood good eat rais",
           7
          ],
          [
           "can diabetes mellitus be dangerous ?",
           "sugar blood good eat rais",
           7
          ],
          [
           "does heat exhaustion raise blood sugar ?",
           "sugar blood good eat rais",
           7
          ],
          [
           "can you drink ensure plus if you have diabetes ?",
           "sugar blood good eat rais",
           7
          ],
          [
           "i have been feeling faint and dissy do i have diabetes ?",
           "sugar blood good eat rais",
           7
          ],
          [
           "does sugar raise blood pressure ?",
           "sugar blood good eat rais",
           7
          ],
          [
           "can eating eclairs if you are diabetic harmful ?",
           "sugar blood good eat rais",
           7
          ],
          [
           "is grilled shrimp okay for diabetics ?",
           "sugar blood good eat rais",
           7
          ],
          [
           "can celiac suffers eat butter ?",
           "sugar blood good eat rais",
           7
          ],
          [
           "is there any hope for a newly diagnosed 5-year-old diabetic dog whose blood sugar can not be controlled and is hospital undergoing treatment ?",
           "sugar blood good eat rais",
           7
          ],
          [
           "can you eat seafood if you have diabetes ?",
           "sugar blood good eat rais",
           7
          ],
          [
           "is banana good for diabetic patients ?",
           "sugar blood good eat rais",
           7
          ]
         ],
         "hovertemplate": "summary=%{customdata[1]}<br>pc_1=%{x}<br>pc_2=%{y}<br>pc_3=%{z}<br>sentence=%{customdata[0]}<br>label=%{customdata[2]}<extra></extra>",
         "legendgroup": "sugar blood good eat rais",
         "marker": {
          "color": "#EF553B",
          "size": 8,
          "symbol": "circle"
         },
         "mode": "markers",
         "name": "sugar blood good eat rais",
         "scene": "scene",
         "showlegend": true,
         "type": "scatter3d",
         "x": [
          0.6061694025993347,
          0.7268449664115906,
          0.5644891858100891,
          0.5648729801177979,
          0.7767373323440552,
          0.4967736005783081,
          0.7565016746520996,
          0.6079961657524109,
          0.6461148262023926,
          0.7227586507797241,
          0.6256143450737,
          0.6209726333618164,
          0.5236667394638062,
          0.7605775594711304,
          0.6464478969573975,
          0.6813151836395264,
          0.5868638753890991,
          0.7286202311515808,
          0.5686325430870056,
          0.697999119758606,
          0.6747458577156067,
          0.5855087637901306,
          0.663605272769928,
          0.7060374617576599,
          0.5135483145713806,
          0.6270065307617188,
          0.6014060974121094,
          0.5639466047286987,
          0.6382858753204346,
          0.5590513944625854,
          0.5680171251296997,
          0.556908369064331,
          0.7641887664794922,
          0.5818642377853394,
          0.544463574886322,
          0.6080299615859985,
          0.540101945400238,
          0.6908258199691772,
          0.5177215337753296,
          0.5314292907714844,
          0.6251421570777893,
          0.5872092247009277,
          0.6370518803596497,
          0.5329369306564331,
          0.5743080973625183,
          0.5618551969528198,
          0.5499652028083801,
          0.4990207552909851,
          0.6666699647903442,
          0.7262709140777588,
          0.7135180830955505,
          0.6746987700462341,
          0.7106064558029175,
          0.5770809650421143,
          0.5474777817726135,
          0.5253050327301025,
          0.5138059854507446,
          0.5567561388015747,
          0.5576205849647522,
          0.5831946134567261,
          0.5996008515357971,
          0.5895360112190247,
          0.6173408031463623,
          0.5940816402435303,
          0.5849902033805847,
          0.6439158320426941,
          0.5056912302970886,
          0.682293713092804,
          0.7249534726142883,
          0.6493796706199646,
          0.7442036867141724,
          0.680665135383606,
          0.6118646860122681,
          0.553183376789093,
          0.47818198800086975,
          0.5994189381599426,
          0.6306334137916565,
          0.5158845782279968,
          0.5098063945770264,
          0.5518438220024109,
          0.530366063117981
         ],
         "y": [
          -0.2740034759044647,
          -0.36110764741897583,
          -0.47261837124824524,
          -0.35351043939590454,
          -0.35203489661216736,
          -0.3220290243625641,
          -0.3600093126296997,
          -0.4383320212364197,
          -0.37653619050979614,
          -0.36369752883911133,
          -0.3828211724758148,
          -0.4199051260948181,
          -0.35833513736724854,
          -0.34533485770225525,
          -0.37957948446273804,
          -0.26310995221138,
          -0.3802783489227295,
          -0.37304845452308655,
          -0.41962143778800964,
          -0.3314953148365021,
          -0.269731730222702,
          -0.3730970025062561,
          -0.4507902264595032,
          -0.42631128430366516,
          -0.3870449662208557,
          -0.4125558137893677,
          -0.31630876660346985,
          -0.35126176476478577,
          -0.3940134048461914,
          -0.2915770411491394,
          -0.4712890386581421,
          -0.38899198174476624,
          -0.3328607678413391,
          -0.4945811629295349,
          -0.3319515585899353,
          -0.32878392934799194,
          -0.2527270019054413,
          -0.39273178577423096,
          -0.31841009855270386,
          -0.2630341649055481,
          -0.4396740794181824,
          -0.365491658449173,
          -0.37292084097862244,
          -0.26797977089881897,
          -0.4903629422187805,
          -0.3483162820339203,
          -0.45854875445365906,
          -0.38644692301750183,
          -0.4381195902824402,
          -0.3447015881538391,
          -0.4125470221042633,
          -0.33765432238578796,
          -0.3570391833782196,
          -0.364308625459671,
          -0.24275881052017212,
          -0.31859779357910156,
          -0.3337234556674957,
          -0.3109957277774811,
          -0.3507062494754791,
          -0.3166494369506836,
          -0.3953608572483063,
          -0.4234534502029419,
          -0.4389509856700897,
          -0.36046862602233887,
          -0.3303990960121155,
          -0.4168035089969635,
          -0.385149210691452,
          -0.29882702231407166,
          -0.34148266911506653,
          -0.27809634804725647,
          -0.31727826595306396,
          -0.34521305561065674,
          -0.29331499338150024,
          -0.30023765563964844,
          -0.317148357629776,
          -0.3564056158065796,
          -0.39705729484558105,
          -0.32457825541496277,
          -0.322171688079834,
          -0.3572614789009094,
          -0.3550548553466797
         ],
         "z": [
          0.429858922958374,
          0.3316776156425476,
          0.39262551069259644,
          0.280403733253479,
          0.36206915974617004,
          0.4102923572063446,
          0.32349127531051636,
          0.44448262453079224,
          0.29706892371177673,
          0.2684531509876251,
          0.3586656153202057,
          0.30628249049186707,
          0.2582371234893799,
          0.3706349730491638,
          0.29592591524124146,
          0.3511170446872711,
          0.33974671363830566,
          0.33104246854782104,
          0.3670659065246582,
          0.3500978350639343,
          0.35981059074401855,
          0.2882126271724701,
          0.39824339747428894,
          0.30174416303634644,
          0.24456404149532318,
          0.30845698714256287,
          0.3825758993625641,
          0.3227078318595886,
          0.3478066027164459,
          0.2763044536113739,
          0.3889992833137512,
          0.37271273136138916,
          0.38155606389045715,
          0.4026675522327423,
          0.2981860339641571,
          0.38105911016464233,
          0.25378403067588806,
          0.3639257848262787,
          0.21556414663791656,
          0.2560763359069824,
          0.43758323788642883,
          0.3575056195259094,
          0.25307929515838623,
          0.2764662206172943,
          0.3853979706764221,
          0.3404231071472168,
          0.3789653480052948,
          0.23843593895435333,
          0.3768027126789093,
          0.27312105894088745,
          0.318942666053772,
          0.36650750041007996,
          0.34001195430755615,
          0.293144166469574,
          0.31324470043182373,
          0.41522717475891113,
          0.39211419224739075,
          0.44696035981178284,
          0.2810218632221222,
          0.4087129831314087,
          0.31477105617523193,
          0.35716691613197327,
          0.4445536434650421,
          0.35010847449302673,
          0.3841439187526703,
          0.33652424812316895,
          0.24343974888324738,
          0.27301284670829773,
          0.2680928409099579,
          0.37148547172546387,
          0.2954481542110443,
          0.3620694875717163,
          0.3757564127445221,
          0.26993975043296814,
          0.24417975544929504,
          0.35590660572052,
          0.4150574505329132,
          0.22430546581745148,
          0.38840681314468384,
          0.2594323754310608,
          0.3451344966888428
         ]
        },
        {
         "customdata": [
          [
           "is the cabbage soup diet good for diabetics ?",
           "diet plan good type two",
           26
          ],
          [
           "can the same diet plan be used for type one and type two diabetes ?",
           "diet plan good type two",
           26
          ],
          [
           "what diets are effective for those with diabetes ?",
           "diet plan good type two",
           26
          ],
          [
           "what kind of diet plan will you need with type two diabetes ?",
           "diet plan good type two",
           26
          ],
          [
           "can you eat cucumber with gestational diabetes ?",
           "diet plan good type two",
           26
          ],
          [
           "what should i know about natural treatments for diabetes ?",
           "diet plan good type two",
           26
          ],
          [
           "what are the most important components of a diabetic diet plan ?",
           "diet plan good type two",
           26
          ],
          [
           "how would you modify your diet if you had diabetes ?",
           "diet plan good type two",
           26
          ],
          [
           "need a list of diabetic diet plans ?",
           "diet plan good type two",
           26
          ],
          [
           "will my diabetes mean i can not enjoy the breakfast sweets i love ?",
           "diet plan good type two",
           26
          ],
          [
           "is there a specific diet for people with diabetes ?",
           "diet plan good type two",
           26
          ],
          [
           "what are some good diet plans for diabetics ?",
           "diet plan good type two",
           26
          ],
          [
           "what are some diabetic diets to follow ?",
           "diet plan good type two",
           26
          ],
          [
           "what diet should a diabetic follow ?",
           "diet plan good type two",
           26
          ],
          [
           "is the cabbage soup seven day diet good to go on with diabetes ?",
           "diet plan good type two",
           26
          ],
          [
           "consult your doctor about diabetic diet plans ?",
           "diet plan good type two",
           26
          ],
          [
           "what are some foods allowed for consumption in a type two diabetes diet plan ?",
           "diet plan good type two",
           26
          ],
          [
           "is vamana useful in diabetes ?",
           "diet plan good type two",
           26
          ],
          [
           "what is the diet plan for diabetics ?",
           "diet plan good type two",
           26
          ],
          [
           "what is the plan or diet for diabetes ?",
           "diet plan good type two",
           26
          ],
          [
           "what are good diet plans for a diabetic patient ?",
           "diet plan good type two",
           26
          ],
          [
           "what is a good diabetes food guide ?",
           "diet plan good type two",
           26
          ],
          [
           "what is a good diet for a diabetic woman ?",
           "diet plan good type two",
           26
          ],
          [
           "diet plans for diabetics ?",
           "diet plan good type two",
           26
          ],
          [
           "can i keep my diabetes under control by strictly following my diabetic diet guidelines ?",
           "diet plan good type two",
           26
          ],
          [
           "diabetic diet plan ?",
           "diet plan good type two",
           26
          ],
          [
           "what are some diets for somoe with high blood sugar levels ?",
           "diet plan good type two",
           26
          ],
          [
           "diet for diabetes ?",
           "diet plan good type two",
           26
          ],
          [
           "what foods help prevent diabetes ?",
           "diet plan good type two",
           26
          ],
          [
           "what foods should you avoid to prevent diabetes type two ?",
           "diet plan good type two",
           26
          ],
          [
           "is there a diet for children with adhd ?",
           "diet plan good type two",
           26
          ],
          [
           "safe diabetic diet plans ?",
           "diet plan good type two",
           26
          ],
          [
           "what is a good type two diabetes diet plan ?",
           "diet plan good type two",
           26
          ],
          [
           "is a diabetic diet plan healthy ?",
           "diet plan good type two",
           26
          ],
          [
           "can diabetics go on a seven day cabbage soup diet ?",
           "diet plan good type two",
           26
          ]
         ],
         "hovertemplate": "summary=%{customdata[1]}<br>pc_1=%{x}<br>pc_2=%{y}<br>pc_3=%{z}<br>sentence=%{customdata[0]}<br>label=%{customdata[2]}<extra></extra>",
         "legendgroup": "diet plan good type two",
         "marker": {
          "color": "#00cc96",
          "size": 8,
          "symbol": "circle"
         },
         "mode": "markers",
         "name": "diet plan good type two",
         "scene": "scene",
         "showlegend": true,
         "type": "scatter3d",
         "x": [
          0.08273570984601974,
          0.09390844404697418,
          0.0020102127455174923,
          0.03882873058319092,
          0.06642837077379227,
          -0.02734212949872017,
          -0.03713783621788025,
          0.08617499470710754,
          -0.02152671478688717,
          0.04051061347126961,
          0.0818377137184143,
          -0.00038792399573139846,
          -0.03126173093914986,
          -0.04771738499403,
          -0.013712969608604908,
          -0.005459730047732592,
          0.016306893900036812,
          0.0297005083411932,
          0.010544947348535061,
          -0.03860008344054222,
          -0.020152384415268898,
          0.005779071245342493,
          0.05502039194107056,
          0.0250187236815691,
          0.03499431535601616,
          0.07677347213029861,
          0.04732048138976097,
          0.0700288712978363,
          -0.037765536457300186,
          0.04073769971728325,
          0.08725098520517349,
          0.015551707707345486,
          0.04500936344265938,
          0.04119637981057167,
          0.007524722255766392
         ],
         "y": [
          0.33142825961112976,
          0.3442220389842987,
          0.31427207589149475,
          0.2508871853351593,
          0.2805977463722229,
          0.37521854043006897,
          0.38723692297935486,
          0.31193670630455017,
          0.3055800795555115,
          0.2694002389907837,
          0.331174373626709,
          0.3156462013721466,
          0.3061460852622986,
          0.2706568241119385,
          0.3361673355102539,
          0.3070008456707001,
          0.2784801423549652,
          0.30756813287734985,
          0.2795368731021881,
          0.3465002477169037,
          0.3248506486415863,
          0.33784404397010803,
          0.27453458309173584,
          0.3693831264972687,
          0.35657066106796265,
          0.3027089536190033,
          0.2685277760028839,
          0.38912275433540344,
          0.3897630572319031,
          0.3612321615219116,
          0.29858410358428955,
          0.3320748507976532,
          0.274685263633728,
          0.30298134684562683,
          0.33038195967674255
         ],
         "z": [
          0.6812261939048767,
          0.6282861232757568,
          0.6917440891265869,
          0.5879218578338623,
          0.6248382925987244,
          0.6355818510055542,
          0.6359375715255737,
          0.739928126335144,
          0.6923640966415405,
          0.5943245887756348,
          0.7192422151565552,
          0.6960620880126953,
          0.6936870217323303,
          0.6734683513641357,
          0.6025868654251099,
          0.6963912844657898,
          0.6498275399208069,
          0.6996421217918396,
          0.7153787612915039,
          0.6171413064002991,
          0.6271824240684509,
          0.6861578822135925,
          0.6170375943183899,
          0.6705173850059509,
          0.6045532822608948,
          0.7343544960021973,
          0.599005401134491,
          0.6388485431671143,
          0.6340234279632568,
          0.606817364692688,
          0.7460069060325623,
          0.6864232420921326,
          0.5929257869720459,
          0.7060444951057434,
          0.5957213044166565
         ]
        }
       ],
       "layout": {
        "height": 500,
        "legend": {
         "itemclick": "toggleothers",
         "title": {
          "text": "Cluster Summaries"
         },
         "tracegroupgap": 0
        },
        "margin": {
         "t": 60
        },
        "scene": {
         "domain": {
          "x": [
           0,
           1
          ],
          "y": [
           0,
           1
          ]
         },
         "xaxis": {
          "title": {
           "text": "pc_1"
          }
         },
         "yaxis": {
          "title": {
           "text": "pc_2"
          }
         },
         "zaxis": {
          "title": {
           "text": "pc_3"
          }
         }
        },
        "template": {
         "data": {
          "bar": [
           {
            "error_x": {
             "color": "#2a3f5f"
            },
            "error_y": {
             "color": "#2a3f5f"
            },
            "marker": {
             "line": {
              "color": "#E5ECF6",
              "width": 0.5
             }
            },
            "type": "bar"
           }
          ],
          "barpolar": [
           {
            "marker": {
             "line": {
              "color": "#E5ECF6",
              "width": 0.5
             }
            },
            "type": "barpolar"
           }
          ],
          "carpet": [
           {
            "aaxis": {
             "endlinecolor": "#2a3f5f",
             "gridcolor": "white",
             "linecolor": "white",
             "minorgridcolor": "white",
             "startlinecolor": "#2a3f5f"
            },
            "baxis": {
             "endlinecolor": "#2a3f5f",
             "gridcolor": "white",
             "linecolor": "white",
             "minorgridcolor": "white",
             "startlinecolor": "#2a3f5f"
            },
            "type": "carpet"
           }
          ],
          "choropleth": [
           {
            "colorbar": {
             "outlinewidth": 0,
             "ticks": ""
            },
            "type": "choropleth"
           }
          ],
          "contour": [
           {
            "colorbar": {
             "outlinewidth": 0,
             "ticks": ""
            },
            "colorscale": [
             [
              0,
              "#0d0887"
             ],
             [
              0.1111111111111111,
              "#46039f"
             ],
             [
              0.2222222222222222,
              "#7201a8"
             ],
             [
              0.3333333333333333,
              "#9c179e"
             ],
             [
              0.4444444444444444,
              "#bd3786"
             ],
             [
              0.5555555555555556,
              "#d8576b"
             ],
             [
              0.6666666666666666,
              "#ed7953"
             ],
             [
              0.7777777777777778,
              "#fb9f3a"
             ],
             [
              0.8888888888888888,
              "#fdca26"
             ],
             [
              1,
              "#f0f921"
             ]
            ],
            "type": "contour"
           }
          ],
          "contourcarpet": [
           {
            "colorbar": {
             "outlinewidth": 0,
             "ticks": ""
            },
            "type": "contourcarpet"
           }
          ],
          "heatmap": [
           {
            "colorbar": {
             "outlinewidth": 0,
             "ticks": ""
            },
            "colorscale": [
             [
              0,
              "#0d0887"
             ],
             [
              0.1111111111111111,
              "#46039f"
             ],
             [
              0.2222222222222222,
              "#7201a8"
             ],
             [
              0.3333333333333333,
              "#9c179e"
             ],
             [
              0.4444444444444444,
              "#bd3786"
             ],
             [
              0.5555555555555556,
              "#d8576b"
             ],
             [
              0.6666666666666666,
              "#ed7953"
             ],
             [
              0.7777777777777778,
              "#fb9f3a"
             ],
             [
              0.8888888888888888,
              "#fdca26"
             ],
             [
              1,
              "#f0f921"
             ]
            ],
            "type": "heatmap"
           }
          ],
          "heatmapgl": [
           {
            "colorbar": {
             "outlinewidth": 0,
             "ticks": ""
            },
            "colorscale": [
             [
              0,
              "#0d0887"
             ],
             [
              0.1111111111111111,
              "#46039f"
             ],
             [
              0.2222222222222222,
              "#7201a8"
             ],
             [
              0.3333333333333333,
              "#9c179e"
             ],
             [
              0.4444444444444444,
              "#bd3786"
             ],
             [
              0.5555555555555556,
              "#d8576b"
             ],
             [
              0.6666666666666666,
              "#ed7953"
             ],
             [
              0.7777777777777778,
              "#fb9f3a"
             ],
             [
              0.8888888888888888,
              "#fdca26"
             ],
             [
              1,
              "#f0f921"
             ]
            ],
            "type": "heatmapgl"
           }
          ],
          "histogram": [
           {
            "marker": {
             "colorbar": {
              "outlinewidth": 0,
              "ticks": ""
             }
            },
            "type": "histogram"
           }
          ],
          "histogram2d": [
           {
            "colorbar": {
             "outlinewidth": 0,
             "ticks": ""
            },
            "colorscale": [
             [
              0,
              "#0d0887"
             ],
             [
              0.1111111111111111,
              "#46039f"
             ],
             [
              0.2222222222222222,
              "#7201a8"
             ],
             [
              0.3333333333333333,
              "#9c179e"
             ],
             [
              0.4444444444444444,
              "#bd3786"
             ],
             [
              0.5555555555555556,
              "#d8576b"
             ],
             [
              0.6666666666666666,
              "#ed7953"
             ],
             [
              0.7777777777777778,
              "#fb9f3a"
             ],
             [
              0.8888888888888888,
              "#fdca26"
             ],
             [
              1,
              "#f0f921"
             ]
            ],
            "type": "histogram2d"
           }
          ],
          "histogram2dcontour": [
           {
            "colorbar": {
             "outlinewidth": 0,
             "ticks": ""
            },
            "colorscale": [
             [
              0,
              "#0d0887"
             ],
             [
              0.1111111111111111,
              "#46039f"
             ],
             [
              0.2222222222222222,
              "#7201a8"
             ],
             [
              0.3333333333333333,
              "#9c179e"
             ],
             [
              0.4444444444444444,
              "#bd3786"
             ],
             [
              0.5555555555555556,
              "#d8576b"
             ],
             [
              0.6666666666666666,
              "#ed7953"
             ],
             [
              0.7777777777777778,
              "#fb9f3a"
             ],
             [
              0.8888888888888888,
              "#fdca26"
             ],
             [
              1,
              "#f0f921"
             ]
            ],
            "type": "histogram2dcontour"
           }
          ],
          "mesh3d": [
           {
            "colorbar": {
             "outlinewidth": 0,
             "ticks": ""
            },
            "type": "mesh3d"
           }
          ],
          "parcoords": [
           {
            "line": {
             "colorbar": {
              "outlinewidth": 0,
              "ticks": ""
             }
            },
            "type": "parcoords"
           }
          ],
          "pie": [
           {
            "automargin": true,
            "type": "pie"
           }
          ],
          "scatter": [
           {
            "marker": {
             "colorbar": {
              "outlinewidth": 0,
              "ticks": ""
             }
            },
            "type": "scatter"
           }
          ],
          "scatter3d": [
           {
            "line": {
             "colorbar": {
              "outlinewidth": 0,
              "ticks": ""
             }
            },
            "marker": {
             "colorbar": {
              "outlinewidth": 0,
              "ticks": ""
             }
            },
            "type": "scatter3d"
           }
          ],
          "scattercarpet": [
           {
            "marker": {
             "colorbar": {
              "outlinewidth": 0,
              "ticks": ""
             }
            },
            "type": "scattercarpet"
           }
          ],
          "scattergeo": [
           {
            "marker": {
             "colorbar": {
              "outlinewidth": 0,
              "ticks": ""
             }
            },
            "type": "scattergeo"
           }
          ],
          "scattergl": [
           {
            "marker": {
             "colorbar": {
              "outlinewidth": 0,
              "ticks": ""
             }
            },
            "type": "scattergl"
           }
          ],
          "scattermapbox": [
           {
            "marker": {
             "colorbar": {
              "outlinewidth": 0,
              "ticks": ""
             }
            },
            "type": "scattermapbox"
           }
          ],
          "scatterpolar": [
           {
            "marker": {
             "colorbar": {
              "outlinewidth": 0,
              "ticks": ""
             }
            },
            "type": "scatterpolar"
           }
          ],
          "scatterpolargl": [
           {
            "marker": {
             "colorbar": {
              "outlinewidth": 0,
              "ticks": ""
             }
            },
            "type": "scatterpolargl"
           }
          ],
          "scatterternary": [
           {
            "marker": {
             "colorbar": {
              "outlinewidth": 0,
              "ticks": ""
             }
            },
            "type": "scatterternary"
           }
          ],
          "surface": [
           {
            "colorbar": {
             "outlinewidth": 0,
             "ticks": ""
            },
            "colorscale": [
             [
              0,
              "#0d0887"
             ],
             [
              0.1111111111111111,
              "#46039f"
             ],
             [
              0.2222222222222222,
              "#7201a8"
             ],
             [
              0.3333333333333333,
              "#9c179e"
             ],
             [
              0.4444444444444444,
              "#bd3786"
             ],
             [
              0.5555555555555556,
              "#d8576b"
             ],
             [
              0.6666666666666666,
              "#ed7953"
             ],
             [
              0.7777777777777778,
              "#fb9f3a"
             ],
             [
              0.8888888888888888,
              "#fdca26"
             ],
             [
              1,
              "#f0f921"
             ]
            ],
            "type": "surface"
           }
          ],
          "table": [
           {
            "cells": {
             "fill": {
              "color": "#EBF0F8"
             },
             "line": {
              "color": "white"
             }
            },
            "header": {
             "fill": {
              "color": "#C8D4E3"
             },
             "line": {
              "color": "white"
             }
            },
            "type": "table"
           }
          ]
         },
         "layout": {
          "annotationdefaults": {
           "arrowcolor": "#2a3f5f",
           "arrowhead": 0,
           "arrowwidth": 1
          },
          "autotypenumbers": "strict",
          "coloraxis": {
           "colorbar": {
            "outlinewidth": 0,
            "ticks": ""
           }
          },
          "colorscale": {
           "diverging": [
            [
             0,
             "#8e0152"
            ],
            [
             0.1,
             "#c51b7d"
            ],
            [
             0.2,
             "#de77ae"
            ],
            [
             0.3,
             "#f1b6da"
            ],
            [
             0.4,
             "#fde0ef"
            ],
            [
             0.5,
             "#f7f7f7"
            ],
            [
             0.6,
             "#e6f5d0"
            ],
            [
             0.7,
             "#b8e186"
            ],
            [
             0.8,
             "#7fbc41"
            ],
            [
             0.9,
             "#4d9221"
            ],
            [
             1,
             "#276419"
            ]
           ],
           "sequential": [
            [
             0,
             "#0d0887"
            ],
            [
             0.1111111111111111,
             "#46039f"
            ],
            [
             0.2222222222222222,
             "#7201a8"
            ],
            [
             0.3333333333333333,
             "#9c179e"
            ],
            [
             0.4444444444444444,
             "#bd3786"
            ],
            [
             0.5555555555555556,
             "#d8576b"
            ],
            [
             0.6666666666666666,
             "#ed7953"
            ],
            [
             0.7777777777777778,
             "#fb9f3a"
            ],
            [
             0.8888888888888888,
             "#fdca26"
            ],
            [
             1,
             "#f0f921"
            ]
           ],
           "sequentialminus": [
            [
             0,
             "#0d0887"
            ],
            [
             0.1111111111111111,
             "#46039f"
            ],
            [
             0.2222222222222222,
             "#7201a8"
            ],
            [
             0.3333333333333333,
             "#9c179e"
            ],
            [
             0.4444444444444444,
             "#bd3786"
            ],
            [
             0.5555555555555556,
             "#d8576b"
            ],
            [
             0.6666666666666666,
             "#ed7953"
            ],
            [
             0.7777777777777778,
             "#fb9f3a"
            ],
            [
             0.8888888888888888,
             "#fdca26"
            ],
            [
             1,
             "#f0f921"
            ]
           ]
          },
          "colorway": [
           "#636efa",
           "#EF553B",
           "#00cc96",
           "#ab63fa",
           "#FFA15A",
           "#19d3f3",
           "#FF6692",
           "#B6E880",
           "#FF97FF",
           "#FECB52"
          ],
          "font": {
           "color": "#2a3f5f"
          },
          "geo": {
           "bgcolor": "white",
           "lakecolor": "white",
           "landcolor": "#E5ECF6",
           "showlakes": true,
           "showland": true,
           "subunitcolor": "white"
          },
          "hoverlabel": {
           "align": "left"
          },
          "hovermode": "closest",
          "mapbox": {
           "style": "light"
          },
          "paper_bgcolor": "white",
          "plot_bgcolor": "#E5ECF6",
          "polar": {
           "angularaxis": {
            "gridcolor": "white",
            "linecolor": "white",
            "ticks": ""
           },
           "bgcolor": "#E5ECF6",
           "radialaxis": {
            "gridcolor": "white",
            "linecolor": "white",
            "ticks": ""
           }
          },
          "scene": {
           "xaxis": {
            "backgroundcolor": "#E5ECF6",
            "gridcolor": "white",
            "gridwidth": 2,
            "linecolor": "white",
            "showbackground": true,
            "ticks": "",
            "zerolinecolor": "white"
           },
           "yaxis": {
            "backgroundcolor": "#E5ECF6",
            "gridcolor": "white",
            "gridwidth": 2,
            "linecolor": "white",
            "showbackground": true,
            "ticks": "",
            "zerolinecolor": "white"
           },
           "zaxis": {
            "backgroundcolor": "#E5ECF6",
            "gridcolor": "white",
            "gridwidth": 2,
            "linecolor": "white",
            "showbackground": true,
            "ticks": "",
            "zerolinecolor": "white"
           }
          },
          "shapedefaults": {
           "line": {
            "color": "#2a3f5f"
           }
          },
          "ternary": {
           "aaxis": {
            "gridcolor": "white",
            "linecolor": "white",
            "ticks": ""
           },
           "baxis": {
            "gridcolor": "white",
            "linecolor": "white",
            "ticks": ""
           },
           "bgcolor": "#E5ECF6",
           "caxis": {
            "gridcolor": "white",
            "linecolor": "white",
            "ticks": ""
           }
          },
          "title": {
           "x": 0.05
          },
          "xaxis": {
           "automargin": true,
           "gridcolor": "white",
           "linecolor": "white",
           "ticks": "",
           "title": {
            "standoff": 15
           },
           "zerolinecolor": "white",
           "zerolinewidth": 2
          },
          "yaxis": {
           "automargin": true,
           "gridcolor": "white",
           "linecolor": "white",
           "ticks": "",
           "title": {
            "standoff": 15
           },
           "zerolinecolor": "white",
           "zerolinewidth": 2
          }
         }
        },
        "title": {
         "text": "Projected Question Vectors"
        }
       }
      },
      "text/html": [
       "<div>                            <div id=\"9e7a08b9-5fa8-4f37-9c59-1d7dce801bd7\" class=\"plotly-graph-div\" style=\"height:500px; width:100%;\"></div>            <script type=\"text/javascript\">                require([\"plotly\"], function(Plotly) {                    window.PLOTLYENV=window.PLOTLYENV || {};                                    if (document.getElementById(\"9e7a08b9-5fa8-4f37-9c59-1d7dce801bd7\")) {                    Plotly.newPlot(                        \"9e7a08b9-5fa8-4f37-9c59-1d7dce801bd7\",                        [{\"customdata\": [[\"how are type one and type two diabetes different ?\", \"type one two differ insulin\", 25], [\"insulin replacement therapy is always used in ?\", \"type one two differ insulin\", 25], [\"what diabetes can you be born with ?\", \"type one two differ insulin\", 25], [\"is diabetes cureble ?\", \"type one two differ insulin\", 25], [\"what are three ways someone with type two diabetes can help their body use glucose effectively ?\", \"type one two differ insulin\", 25], [\"which kind of diabetes is considered an auto immune disease ?\", \"type one two differ insulin\", 25], [\"what is the common name for diabetes ?\", \"type one two differ insulin\", 25], [\"what is a likely cause of strabismus in an adult ?\", \"type one two differ insulin\", 25], [\"what is the difference between type two diabetes and type one diabetes ?\", \"type one two differ insulin\", 25], [\"what triggers type one diabetes ?\", \"type one two differ insulin\", 25], [\"what is another name for type two diabetes ?\", \"type one two differ insulin\", 25], [\"what type of diabetes are you born with ?\", \"type one two differ insulin\", 25], [\"what type of diabetes usually requires insulin ?\", \"type one two differ insulin\", 25], [\"when does type i diabetes usually begin ?\", \"type one two differ insulin\", 25], [\"what is the diff between diabetes one and two ?\", \"type one two differ insulin\", 25], [\"what is the difference between type one diabetes and type two diabetes ?\", \"type one two differ insulin\", 25], [\"what type diabetic is type one ?\", \"type one two differ insulin\", 25], [\"what are type one diabetes ?\", \"type one two differ insulin\", 25], [\"what race is type one diabetes more common ?\", \"type one two differ insulin\", 25], [\"what is the condition called when the body can not regulate blood sugar levels ?\", \"type one two differ insulin\", 25]], \"hovertemplate\": \"summary=%{customdata[1]}<br>pc_1=%{x}<br>pc_2=%{y}<br>pc_3=%{z}<br>sentence=%{customdata[0]}<br>label=%{customdata[2]}<extra></extra>\", \"legendgroup\": \"type one two differ insulin\", \"marker\": {\"color\": \"#636efa\", \"size\": 8, \"symbol\": \"circle\"}, \"mode\": \"markers\", \"name\": \"type one two differ insulin\", \"scene\": \"scene\", \"showlegend\": true, \"type\": \"scatter3d\", \"x\": [-0.1698373407125473, -0.15891636908054352, -0.04270001873373985, -0.10351217538118362, -0.2065354436635971, -0.04229658469557762, -0.20139609277248383, -0.1908518373966217, -0.1245197132229805, -0.12577231228351593, -0.16409604251384735, -0.1258583515882492, -0.16792410612106323, -0.18807096779346466, -0.18519513309001923, -0.12539099156856537, -0.17669445276260376, -0.15945477783679962, -0.20523923635482788, -0.11993631720542908], \"y\": [0.7820842862129211, 0.6753692626953125, 0.7613025307655334, 0.6643505692481995, 0.747907280921936, 0.7558159828186035, 0.7466874718666077, 0.7307400107383728, 0.8411884903907776, 0.8398851156234741, 0.7279860377311707, 0.7561139464378357, 0.787520170211792, 0.7717663049697876, 0.7858155965805054, 0.8407490849494934, 0.6794236302375793, 0.7768775224685669, 0.7641327381134033, 0.6752737164497375], \"z\": [-0.19489824771881104, -0.18907968699932098, -0.1607389897108078, -0.2279389202594757, -0.17669373750686646, -0.1644047200679779, -0.19801963865756989, -0.1876046061515808, -0.17758511006832123, -0.16354510188102722, -0.2004588395357132, -0.21301108598709106, -0.1968788355588913, -0.16880977153778076, -0.15869960188865662, -0.1780492514371872, -0.19631023705005646, -0.22393198311328888, -0.15574054419994354, -0.21999824047088623]}, {\"customdata\": [[\"what are the symptoms of diabetes person ?\", \"symptom sign type earli one\", 4], [\"what are the early signs of having diabetes ?\", \"symptom sign type earli one\", 4], [\"what signs and symptoms are possible indicators of diabetes mellitus ?\", \"symptom sign type earli one\", 4], [\"what symptons do you have in diabetes ?\", \"symptom sign type earli one\", 4], [\"how much sugar the man needs daily ?\", \"symptom sign type earli one\", 4], [\"what are common type two diabetes symptoms ?\", \"symptom sign type earli one\", 4], [\"why you should not ignore the signs of diabetes ?\", \"symptom sign type earli one\", 4], [\"what are some of the general of signs of diabetes ?\", \"symptom sign type earli one\", 4], [\"what are early diabetes symptoms ?\", \"symptom sign type earli one\", 4], [\"what are some signs and symptoms of diabetes in children ?\", \"symptom sign type earli one\", 4], [\"what are the symptoms for diabetes type one ?\", \"symptom sign type earli one\", 4], [\"what is diabetes and what are the symptoms ?\", \"symptom sign type earli one\", 4], [\"what are signs and symptoms of pediatric diabetes ?\", \"symptom sign type earli one\", 4], [\"what are symptoms of type one diabetes ?\", \"symptom sign type earli one\", 4], [\"what are symptoms of unrecognized diabetes ?\", \"symptom sign type earli one\", 4], [\"how can you tell if you are a diabetic without seeing a doctor ?\", \"symptom sign type earli one\", 4], [\"what are the symptoms of type ii diabetes ?\", \"symptom sign type earli one\", 4], [\"polydipsia and polyuria are symptoms of ?\", \"symptom sign type earli one\", 4], [\"where can i go to find stroke symptoms ?\", \"symptom sign type earli one\", 4], [\"what are some early signs of diabetes ?\", \"symptom sign type earli one\", 4], [\"how endocrine system affects the beauty therapist when treating clients ?\", \"symptom sign type earli one\", 4], [\"what is the nursing diagnosis of hyperthyroidism ?\", \"symptom sign type earli one\", 4], [\"how often does diabetes occur ?\", \"symptom sign type earli one\", 4], [\"what are the main causes of diabetes what are the symptoms to look for ?\", \"symptom sign type earli one\", 4], [\"what are symptoms of type two diabetes ?\", \"symptom sign type earli one\", 4], [\"what are the symptoms of type one and type two diabetes ?\", \"symptom sign type earli one\", 4], [\"what are some type two diabetes symptoms ?\", \"symptom sign type earli one\", 4], [\"what are some diabetic symptoms ?\", \"symptom sign type earli one\", 4], [\"what are diabetes early signs ?\", \"symptom sign type earli one\", 4], [\"what are some signs and symptoms of diabetic ketoacidosis ?\", \"symptom sign type earli one\", 4], [\"what are the causes of frequent urination ?\", \"symptom sign type earli one\", 4], [\"what are body clues that tell you that you have diabetes ?\", \"symptom sign type earli one\", 4], [\"how is insulin resistance diagnosed ?\", \"symptom sign type earli one\", 4], [\"what are the symptoms of diabetes type one ?\", \"symptom sign type earli one\", 4], [\"what are the early signs of diabetes ?\", \"symptom sign type earli one\", 4], [\"what are early signs of diabetes in children ?\", \"symptom sign type earli one\", 4], [\"what are the symptoms of type three diabetes ?\", \"symptom sign type earli one\", 4], [\"what are the most common diabetes symptoms ?\", \"symptom sign type earli one\", 4], [\"what are diabetes warning signs ?\", \"symptom sign type earli one\", 4], [\"what symptoms are associated with diabetes ?\", \"symptom sign type earli one\", 4], [\"what are early signs of type ii diabetes ?\", \"symptom sign type earli one\", 4], [\"what are some of the symptoms for diabetes mellitus ?\", \"symptom sign type earli one\", 4], [\"what are the three poly is in diabetes ?\", \"symptom sign type earli one\", 4], [\"what causes a constant itch on your right side that you constantly have to rub ?\", \"symptom sign type earli one\", 4], [\"what are some of the most common diabetes symptoms i should look out for ?\", \"symptom sign type earli one\", 4], [\"what is the difference between a forty ul syringe and a one hundred ul syringe ?\", \"symptom sign type earli one\", 4], [\"symptoms of type one diabetes ?\", \"symptom sign type earli one\", 4], [\"what are some diabetes symptoms ?\", \"symptom sign type earli one\", 4], [\"what symptons do you get with diabetes ?\", \"symptom sign type earli one\", 4], [\"what are the main symptoms that lead up to diabetes ?\", \"symptom sign type earli one\", 4], [\"signs and symptoms of diabetes insipidus ?\", \"symptom sign type earli one\", 4], [\"how severe do diabetes symptoms have to be before you have diabetes ?\", \"symptom sign type earli one\", 4], [\"what can uncontrolled diabetes lead to ?\", \"symptom sign type earli one\", 4], [\"what are some of the most obvious high blood sugar symptoms ?\", \"symptom sign type earli one\", 4], [\"what are the symptoms of a diabetic ?\", \"symptom sign type earli one\", 4], [\"what are the most common pre diabetes symptoms ?\", \"symptom sign type earli one\", 4], [\"what are the symptoms that distinguish between type i and type ii diabetes ?\", \"symptom sign type earli one\", 4], [\"is it normal to urinate a lot through out the day ?\", \"symptom sign type earli one\", 4], [\"where does type i diabetes most often occur ?\", \"symptom sign type earli one\", 4], [\"how does one properly manage their diabetes symptoms ?\", \"symptom sign type earli one\", 4], [\"what are some symptoms of type two diabetes ?\", \"symptom sign type earli one\", 4], [\"what are the symptoms of subclinical diabetes and what should be the treatment ?\", \"symptom sign type earli one\", 4], [\"what does a cbc test for ?\", \"symptom sign type earli one\", 4], [\"how do genes play arole in getting diabetes ?\", \"symptom sign type earli one\", 4], [\"what are the physiological effects of diabetes ?\", \"symptom sign type earli one\", 4], [\"what is the problem if you have tingling in your feet and they are always cold cotton mouth and often urination could it be diabetes or an anxiety disorder ?\", \"symptom sign type earli one\", 4], [\"what are some symptoms to determine borderline diabetes ?\", \"symptom sign type earli one\", 4], [\"how is diabetes mellitus diagnosed ?\", \"symptom sign type earli one\", 4], [\"is it a requirement of a diabetic to wear a medical alert bracelet ?\", \"symptom sign type earli one\", 4], [\"i think i have diabetes , what are clues ?\", \"symptom sign type earli one\", 4], [\"what are some common diabetes symptoms ?\", \"symptom sign type earli one\", 4], [\"what are symptoms of type i diabetes mellitus ?\", \"symptom sign type earli one\", 4], [\"what are some symptoms of diabetes ?\", \"symptom sign type earli one\", 4], [\"what are some signs and symptoms of type one diabetes ?\", \"symptom sign type earli one\", 4], [\"why do diabetics urinate often ?\", \"symptom sign type earli one\", 4], [\"what are five symptoms of diabetes ?\", \"symptom sign type earli one\", 4], [\"what are the common symptoms of diabetes ?\", \"symptom sign type earli one\", 4], [\"what was nick is blood sugar when he was diagnosed with diabetes ?\", \"symptom sign type earli one\", 4], [\"can diabetes cause false positive drug test in urine ?\", \"symptom sign type earli one\", 4], [\"what are some warning signs of diabetes when you are twenty years old ?\", \"symptom sign type earli one\", 4], [\"what are symptoms of diabetes ?\", \"symptom sign type earli one\", 4], [\"what causes dehydration in diabetes ?\", \"symptom sign type earli one\", 4], [\"what is honeymoon period in diabetes mellitus ?\", \"symptom sign type earli one\", 4], [\"what is the purpose of a diabetes bracelet ?\", \"symptom sign type earli one\", 4], [\"what does blurred vision indicate ?\", \"symptom sign type earli one\", 4], [\"what condition would cause blurred vision shortness of breath fatigue and finger and hand weakness ?\", \"symptom sign type earli one\", 4], [\"what are the symptoms of type one diabetes ?\", \"symptom sign type earli one\", 4], [\"what are three symptoms of diabetes mellitus ?\", \"symptom sign type earli one\", 4], [\"what are the early symptoms diabetes ?\", \"symptom sign type earli one\", 4], [\"witch of the jonas brothers has diabetes and is it special needs ?\", \"symptom sign type earli one\", 4], [\"what will happen to your body over a long period of time if diabetes is left unchecked ?\", \"symptom sign type earli one\", 4], [\"what are the symptoms of type one diabetes ?\", \"symptom sign type earli one\", 4], [\"name at least six symptoms of diabetes ?\", \"symptom sign type earli one\", 4], [\"when are blood glucose test and glucose tolerance test done durin pregnancy ?\", \"symptom sign type earli one\", 4], [\"what are some early warning signs of diabetes ?\", \"symptom sign type earli one\", 4], [\"what are the signs and symptoms of diabetes ?\", \"symptom sign type earli one\", 4], [\"what causes nausea frequent urination and fatigue ?\", \"symptom sign type earli one\", 4], [\"what are the early symptoms of diabetes ?\", \"symptom sign type earli one\", 4], [\"what are some of the early symptoms of diabetes ?\", \"symptom sign type earli one\", 4], [\"what are some reasons a person would start urinating a lot ?\", \"symptom sign type earli one\", 4], [\"what are type two diabetes symptoms ?\", \"symptom sign type earli one\", 4], [\"what are the common signs of diabetes ?\", \"symptom sign type earli one\", 4], [\"what are the symptoms of a diabetic and how can you tell if you are a diabetic without seeing a doctor ?\", \"symptom sign type earli one\", 4], [\"what are the common diabetes symptoms ?\", \"symptom sign type earli one\", 4], [\"what are the signs and symptoms of type one diabetes ?\", \"symptom sign type earli one\", 4], [\"how severe do diabetes symptoms have to be before you have ?\", \"symptom sign type earli one\", 4], [\"what are the most notable signs of diabetes ?\", \"symptom sign type earli one\", 4], [\"what are the symptoms of diabetes ?\", \"symptom sign type earli one\", 4], [\"what are classic symptoms of diabetes ?\", \"symptom sign type earli one\", 4], [\"in what region of the body is the storage of excess body fat associated with highest risks for cardiovascular disease and diabetes ?\", \"symptom sign type earli one\", 4], [\"what are symptoms of diabetes mellitus ?\", \"symptom sign type earli one\", 4], [\"how would you know if you had diabetes ?\", \"symptom sign type earli one\", 4], [\"is urinating a lot a sign of diabetes ?\", \"symptom sign type earli one\", 4], [\"how you can diagnosis diabete ?\", \"symptom sign type earli one\", 4], [\"what are the warning signs that your child is diabetic ?\", \"symptom sign type earli one\", 4], [\"what are the symptoms of diabetes mellitus ?\", \"symptom sign type earli one\", 4]], \"hovertemplate\": \"summary=%{customdata[1]}<br>pc_1=%{x}<br>pc_2=%{y}<br>pc_3=%{z}<br>sentence=%{customdata[0]}<br>label=%{customdata[2]}<extra></extra>\", \"legendgroup\": \"symptom sign type earli one\", \"marker\": {\"color\": \"#EF553B\", \"size\": 8, \"symbol\": \"circle\"}, \"mode\": \"markers\", \"name\": \"symptom sign type earli one\", \"scene\": \"scene\", \"showlegend\": true, \"type\": \"scatter3d\", \"x\": [0.2193426787853241, 0.2928732931613922, 0.32138490676879883, 0.2239600121974945, 0.2722187340259552, 0.2523626387119293, 0.17991027235984802, 0.3525456190109253, 0.22976428270339966, 0.3578501045703888, 0.20865142345428467, 0.18091829121112823, 0.16902029514312744, 0.19106055796146393, 0.307893842458725, 0.15955212712287903, 0.3183893859386444, 0.24240736663341522, 0.3737398087978363, 0.2606995105743408, 0.25731754302978516, 0.30170542001724243, 0.1527213603258133, 0.19387905299663544, 0.28756168484687805, 0.21778488159179688, 0.30001968145370483, 0.22541676461696625, 0.25473350286483765, 0.13292236626148224, 0.2088460475206375, 0.15125322341918945, 0.236578568816185, 0.18280644714832306, 0.2497270405292511, 0.3393741846084595, 0.22172313928604126, 0.19652032852172852, 0.3592500388622284, 0.2562374770641327, 0.3435809016227722, 0.17502816021442413, 0.2624659836292267, 0.19675467908382416, 0.35889479517936707, 0.20970457792282104, 0.2734062075614929, 0.2736097276210785, 0.28882256150245667, 0.23753799498081207, 0.2882850766181946, 0.3109614849090576, 0.13836415112018585, 0.2531261742115021, 0.2502366304397583, 0.36707770824432373, 0.3521796762943268, 0.2749457359313965, 0.12218225747346878, 0.3014890253543854, 0.29215362668037415, 0.17795641720294952, 0.2801225781440735, 0.26788702607154846, 0.2682808041572571, 0.25838789343833923, 0.29742631316185, 0.14180956780910492, 0.35228458046913147, 0.3369334936141968, 0.2485145777463913, 0.1989065259695053, 0.2688913345336914, 0.2693280279636383, 0.23048719763755798, 0.28379103541374207, 0.2068336009979248, 0.19658520817756653, 0.3243322968482971, 0.36040565371513367, 0.24481922388076782, 0.13653138279914856, 0.3365723490715027, 0.15640458464622498, 0.26538148522377014, 0.1697406768798828, 0.17668452858924866, 0.1534104198217392, 0.23026148974895477, 0.3582879602909088, 0.27067410945892334, 0.1784641146659851, 0.2717511057853699, 0.3686544895172119, 0.24573072791099548, 0.2821643054485321, 0.2788751721382141, 0.2193644493818283, 0.2142227441072464, 0.2712082266807556, 0.28863611817359924, 0.2673981785774231, 0.14461657404899597, 0.20765908062458038, 0.2611635625362396, 0.29773664474487305, 0.30359601974487305, 0.22217492759227753, 0.33220019936561584, 0.13924270868301392, 0.15518082678318024, 0.28115853667259216, 0.280530720949173, 0.25386539101600647, 0.23841053247451782, 0.15500397980213165], \"y\": [0.14088788628578186, -0.06206793710589409, 0.16685621440410614, 0.1496707648038864, 0.025697706267237663, 0.33648809790611267, 0.07853102684020996, 0.057637691497802734, 0.11586207896471024, 0.08269212394952774, 0.30951765179634094, 0.17222703993320465, 0.13811402022838593, 0.31654855608940125, 0.07402558624744415, 0.18965931236743927, 0.28435641527175903, 0.10437390953302383, 0.05671726167201996, 0.06502126157283783, 0.07223563641309738, -0.006041480228304863, 0.28375300765037537, 0.175932377576828, 0.2807954251766205, 0.3415353298187256, 0.28341907262802124, 0.04637499153614044, 0.06919804215431213, 0.12479744106531143, 0.32993003726005554, 0.27521735429763794, 0.35130733251571655, 0.3056134283542633, 0.0728391781449318, 0.08390040695667267, 0.23218750953674316, 0.30087727308273315, 0.05683135241270065, 0.16317348182201385, 0.07770233601331711, 0.17570684850215912, 0.03589126840233803, 0.06074470281600952, 0.05645627900958061, 0.05310024693608284, 0.3480048179626465, 0.18662551045417786, 0.13396789133548737, 0.1246989294886589, -0.05064263567328453, 0.021594524383544922, 0.3329467177391052, 0.12738333642482758, -0.006616700440645218, 0.08055216073989868, 0.208356112241745, 0.032121241092681885, 0.3468334674835205, 0.080905981361866, 0.27861925959587097, 0.08464569598436356, 0.001752527430653572, 0.34567636251449585, 0.06787083297967911, 0.3425816297531128, 0.07397553324699402, 0.33680248260498047, 0.05484649911522865, 0.26474106311798096, 0.26726797223091125, 0.3162253499031067, 0.18056423962116241, 0.1667420119047165, 0.1508125513792038, 0.06549245864152908, 0.24459613859653473, 0.31354817748069763, 0.15004833042621613, 0.07990580052137375, 0.16804789006710052, 0.34541767835617065, 0.25277605652809143, 0.24925430119037628, -0.004688465502113104, 0.17867207527160645, 0.30457085371017456, 0.15039899945259094, 0.11949045956134796, 0.20931611955165863, 0.002582227811217308, 0.3047083020210266, 0.26971450448036194, 0.046371012926101685, 0.03158885985612869, 0.06685679405927658, 0.188376784324646, 0.11760628968477249, 0.11855171620845795, 0.010944081470370293, 0.28192591667175293, 0.21384650468826294, 0.10924061387777328, 0.24498197436332703, 0.15970121324062347, -0.026380304247140884, 0.018283870071172714, 0.15302160382270813, 0.2361704707145691, 0.13345971703529358, 0.20267769694328308, -0.007222351618111134, 0.20910322666168213, 0.041654981672763824, 0.03325391933321953, 0.19814719259738922], \"z\": [-0.8080738186836243, -0.686059832572937, -0.7319686412811279, -0.8129048347473145, -0.581615149974823, -0.8073797225952148, -0.7409803867340088, -0.7994877099990845, -0.6647070050239563, -0.7370253205299377, -0.791115939617157, -0.8350530862808228, -0.7730541825294495, -0.7977645993232727, -0.7354758381843567, -0.8729262351989746, -0.7431188225746155, -0.7255337238311768, -0.7060720324516296, -0.63396817445755, -0.6545087099075317, -0.7024129033088684, -0.7675079703330994, -0.8364875912666321, -0.7897293567657471, -0.8087573647499084, -0.7736576199531555, -0.6485396027565002, -0.6442285180091858, -0.790737509727478, -0.7172200083732605, -0.7781419157981873, -0.8047539591789246, -0.7990347743034363, -0.6463504433631897, -0.6946477293968201, -0.8256509304046631, -0.7954643964767456, -0.8005011081695557, -0.7823866605758667, -0.686926007270813, -0.7362220287322998, -0.6100823879241943, -0.6177129745483398, -0.8173307180404663, -0.6348718404769897, -0.8468183875083923, -0.7796813249588013, -0.7909213304519653, -0.689852237701416, -0.6967189311981201, -0.7071086764335632, -0.78492671251297, -0.8043159246444702, -0.7751848101615906, -0.730841875076294, -0.7454515099525452, -0.6717028617858887, -0.8072739839553833, -0.6101329922676086, -0.7798030972480774, -0.7457380294799805, -0.7951647043228149, -0.8527739644050598, -0.7587875127792358, -0.8576322197914124, -0.7502661347389221, -0.7956958413124084, -0.6872437596321106, -0.7834703326225281, -0.7766246795654297, -0.8560793399810791, -0.7823747992515564, -0.8033539056777954, -0.8050157427787781, -0.7587310075759888, -0.7925043106079102, -0.8519905209541321, -0.728617250919342, -0.7403497695922852, -0.8020397424697876, -0.8027397394180298, -0.7624869346618652, -0.7504997849464417, -0.7690140604972839, -0.7308073043823242, -0.8010262250900269, -0.7606253027915955, -0.6729329824447632, -0.7441307902336121, -0.7738744020462036, -0.800699770450592, -0.7809019088745117, -0.7836423516273499, -0.6394041180610657, -0.7578111886978149, -0.8012687563896179, -0.6444939374923706, -0.6337901949882507, -0.7817514538764954, -0.78862065076828, -0.8213028311729431, -0.8304498195648193, -0.7911486625671387, -0.805436372756958, -0.7077728509902954, -0.7050084471702576, -0.7984193563461304, -0.7628381252288818, -0.8136919736862183, -0.7408164739608765, -0.7398962378501892, -0.8244416117668152, -0.6420353651046753, -0.636282205581665, -0.7398694753646851]}, {\"customdata\": [[\"what is the normal range for someone is blood sugar level ?\", \"blood normal sugar level glucos\", 1], [\"what amount of blood glucose level is normal ?\", \"blood normal sugar level glucos\", 1], [\"what is the mame of instrument to check blood sugar ?\", \"blood normal sugar level glucos\", 1], [\"what is a diabetes specialist nurse is code of practice ?\", \"blood normal sugar level glucos\", 1], [\"what does it mean if small red ants are attracted to your urine ?\", \"blood normal sugar level glucos\", 1], [\"what is the normal glucose range in blood ?\", \"blood normal sugar level glucos\", 1], [\"what is a healthy blood sugar range ?\", \"blood normal sugar level glucos\", 1], [\"what is the normal blood sugar level for diabetes ?\", \"blood normal sugar level glucos\", 1], [\"what is considered a normal blood sugar level ?\", \"blood normal sugar level glucos\", 1], [\"what is a normal blood sugar level ?\", \"blood normal sugar level glucos\", 1], [\"does the liver help control blood sugar levels ?\", \"blood normal sugar level glucos\", 1], [\"what is the normal average for blood sugar ?\", \"blood normal sugar level glucos\", 1], [\"what is a normal blood glucose level ?\", \"blood normal sugar level glucos\", 1], [\"how do i lower my diabetic blood sugar level ?\", \"blood normal sugar level glucos\", 1], [\"what is the normal blood sugar level reading ?\", \"blood normal sugar level glucos\", 1], [\"normal blood glucose level ?\", \"blood normal sugar level glucos\", 1], [\"what should my blood glucose level be to be considered normal ?\", \"blood normal sugar level glucos\", 1], [\"which glucose levels are normal while fasting ?\", \"blood normal sugar level glucos\", 1], [\"what are the normal glucose levels in a non-diabetic person ?\", \"blood normal sugar level glucos\", 1], [\"how works fasting blood sugar ?\", \"blood normal sugar level glucos\", 1], [\"what is the number for the normal blood sugar level ?\", \"blood normal sugar level glucos\", 1], [\"what is normal blood sugar for sixty two year old women ?\", \"blood normal sugar level glucos\", 1], [\"why fructose disappears from the blood of diabetic patient at a normal rate ?\", \"blood normal sugar level glucos\", 1], [\"what is the healthy normal blood sugar range for a person who is predisposed to diabetes ?\", \"blood normal sugar level glucos\", 1], [\"where is considered a normal blood glucose level ?\", \"blood normal sugar level glucos\", 1], [\"what do you call a diabetes dr . ?\", \"blood normal sugar level glucos\", 1], [\"what is the normal blood glucose levels ?\", \"blood normal sugar level glucos\", 1], [\"what if glucose level is seventy three ?\", \"blood normal sugar level glucos\", 1], [\"what is the normal sugar level should be ?\", \"blood normal sugar level glucos\", 1], [\"what is a normal person is blood sugar one hour after eating ?\", \"blood normal sugar level glucos\", 1], [\"what is a normal range for fasting blood glucose ?\", \"blood normal sugar level glucos\", 1], [\"what is a normal glucose reading ?\", \"blood normal sugar level glucos\", 1], [\"what are normal glucose levels ?\", \"blood normal sugar level glucos\", 1], [\"what is the normal range for blood glucose ?\", \"blood normal sugar level glucos\", 1], [\"what is a normal blood sugar range for fasting ?\", \"blood normal sugar level glucos\", 1], [\"how much the normal blood sugar of diabetes ?\", \"blood normal sugar level glucos\", 1], [\"what is normal blood sugar level ?\", \"blood normal sugar level glucos\", 1], [\"what are the differences between different types of diabetes testing equipment ?\", \"blood normal sugar level glucos\", 1], [\"how many days of blood sugar level does fasting blood sugar measure ?\", \"blood normal sugar level glucos\", 1], [\"if less than 120mgdl is normal glucose level what level is low and not normal ?\", \"blood normal sugar level glucos\", 1], [\"what food is good to maintain a normal glucose level ?\", \"blood normal sugar level glucos\", 1], [\"why are patients fasted before oral glucose tolerance test ?\", \"blood normal sugar level glucos\", 1], [\"what is in involved in a diabetes test ?\", \"blood normal sugar level glucos\", 1], [\"what is a normal blood sugar level for type two diabetics ?\", \"blood normal sugar level glucos\", 1], [\"what is an average good blood glucose reading ?\", \"blood normal sugar level glucos\", 1], [\"what does the number seven mean in diabetics ?\", \"blood normal sugar level glucos\", 1], [\"what should your blood sugar levels be before eating a meal ?\", \"blood normal sugar level glucos\", 1], [\"would eating candy help maintain a normal blood sugar level ?\", \"blood normal sugar level glucos\", 1], [\"how to tell your own normal blood glucose ?\", \"blood normal sugar level glucos\", 1], [\"what blood sugar levels are normal ?\", \"blood normal sugar level glucos\", 1], [\"what is the normal concentration of blood sugar in a healthy person is body ?\", \"blood normal sugar level glucos\", 1], [\"what is the normal number for blood sugar ?\", \"blood normal sugar level glucos\", 1], [\"i have never been diagnosed with diabetes . my fasting blood sugar was one hundred and seventeen and hemoglobin aic was six . what does this mean ?\", \"blood normal sugar level glucos\", 1], [\"what is the normal range for blood sugar ?\", \"blood normal sugar level glucos\", 1], [\"what is normal blood sugar levels in dogs ?\", \"blood normal sugar level glucos\", 1], [\"what is the normal level for blood sugar ?\", \"blood normal sugar level glucos\", 1], [\"why is it important to keep the blood glucose level within normal range ?\", \"blood normal sugar level glucos\", 1], [\"what sugar levels are normal for someone with diabetes ?\", \"blood normal sugar level glucos\", 1], [\"how does your body keep your blood sugar level around seventy to one hundred and ten ?\", \"blood normal sugar level glucos\", 1], [\"at what amount are blood glucose levels seen as regular or irregular ?\", \"blood normal sugar level glucos\", 1], [\"what is the normal range of running and blood sugar ?\", \"blood normal sugar level glucos\", 1], [\"what is some information on diabetes high blood sugar ?\", \"blood normal sugar level glucos\", 1], [\"what kind of doctor should you see if you think you have diabetes ?\", \"blood normal sugar level glucos\", 1], [\"what is a normal blood sugar level reading ?\", \"blood normal sugar level glucos\", 1], [\"how is technology used to diagnose or treat type two diabetes ?\", \"blood normal sugar level glucos\", 1], [\"what should your blood sugar number be ?\", \"blood normal sugar level glucos\", 1], [\"what is the diabetic food pyramid ?\", \"blood normal sugar level glucos\", 1], [\"what is normal blood sugar reading ?\", \"blood normal sugar level glucos\", 1], [\"what is the normal depakote blood level ?\", \"blood normal sugar level glucos\", 1], [\"what is the normal urine sugar level ?\", \"blood normal sugar level glucos\", 1], [\"what is the normal blood glucose range ?\", \"blood normal sugar level glucos\", 1], [\"what does a glucose monitor measure ?\", \"blood normal sugar level glucos\", 1], [\"what is a normal range of glucose fluctuation ?\", \"blood normal sugar level glucos\", 1], [\"what are average blood sugar numbers ?\", \"blood normal sugar level glucos\", 1], [\"what is normal sugar level ?\", \"blood normal sugar level glucos\", 1], [\"what is the average blood sugar level ?\", \"blood normal sugar level glucos\", 1], [\"is a one hundred and twenty one fasting blood sugar reading mean you have diabetes ?\", \"blood normal sugar level glucos\", 1], [\"what should your blood sugar be two hrs after eating for a diabetic ?\", \"blood normal sugar level glucos\", 1], [\"what does it mean if your blood sugar is one hundred and forty one ?\", \"blood normal sugar level glucos\", 1], [\"what is the normal range blood sugar level ?\", \"blood normal sugar level glucos\", 1], [\"what is the normal blood sugar level ?\", \"blood normal sugar level glucos\", 1], [\"what is the normal range of blood glucose ?\", \"blood normal sugar level glucos\", 1], [\"what is a normal sugar level after eating ?\", \"blood normal sugar level glucos\", 1], [\"what are the normal sugar levels ?\", \"blood normal sugar level glucos\", 1], [\"why is it important it to keep the blood glucose level within the normal range ?\", \"blood normal sugar level glucos\", 1], [\"what are blood sugar readings at twenty mean if i have just eaten ?\", \"blood normal sugar level glucos\", 1], [\"what do blood sugar readings at twenty mean ?\", \"blood normal sugar level glucos\", 1], [\"if blood sugar is ninety seven before food is that healthy ?\", \"blood normal sugar level glucos\", 1], [\"what is the normal range for blood sugar level ?\", \"blood normal sugar level glucos\", 1], [\"what is the right blood sugar level for a fifty seven year old patient ?\", \"blood normal sugar level glucos\", 1], [\"what should your blood glucose number be ?\", \"blood normal sugar level glucos\", 1], [\"what are the normal blood sugar levels ?\", \"blood normal sugar level glucos\", 1], [\"i am not a diabetic , last dr visit glucose was one hundred and eighteen , is this normal i have cut back on carbs , will this help my glucose ?\", \"blood normal sugar level glucos\", 1], [\"is ninety seven to one hundred and ten blood sugar level within normal range for a diabetic ?\", \"blood normal sugar level glucos\", 1], [\"how can i maintain my blood sugar level with diabetes ?\", \"blood normal sugar level glucos\", 1], [\"what is the average level for blood sugar ?\", \"blood normal sugar level glucos\", 1], [\"what are the acceptable amounts of normal glucose levels ?\", \"blood normal sugar level glucos\", 1], [\"what you mean by seven point five sugar level after eating ?\", \"blood normal sugar level glucos\", 1], [\"why is it important to keep the blood glucose level within the normal range ?\", \"blood normal sugar level glucos\", 1], [\"what is the best way to treat diabetis ?\", \"blood normal sugar level glucos\", 1], [\"a normal fasting glucose level is ?\", \"blood normal sugar level glucos\", 1], [\"what measurement is used to measure blood sugar levels ?\", \"blood normal sugar level glucos\", 1], [\"what would a one hundred and forty seven blood sugar suggest ?\", \"blood normal sugar level glucos\", 1], [\"what is the normal heart rate for eighty one yr old diabetic woman ?\", \"blood normal sugar level glucos\", 1], [\"what is the normal blood sugar range for fasting sugar for non diabetics ?\", \"blood normal sugar level glucos\", 1], [\"what is the normal blood glucose levels for a healthy person ?\", \"blood normal sugar level glucos\", 1], [\"what is considered a normal blood sugar range ?\", \"blood normal sugar level glucos\", 1], [\"what is normal reading ?\", \"blood normal sugar level glucos\", 1], [\"you are ninety two lbs and your blood sugar level is still high ?\", \"blood normal sugar level glucos\", 1], [\"what is an acceptable blood sugar range after eating for a diabetic person ?\", \"blood normal sugar level glucos\", 1], [\"after fasting all night , what is a normal blood sugar level in the morning ?\", \"blood normal sugar level glucos\", 1], [\"how do you control high blood sugars of seven year old with type one diabetes ?\", \"blood normal sugar level glucos\", 1], [\"what is a normal blood sugar range ?\", \"blood normal sugar level glucos\", 1], [\"what is a normal blood sugar range for a diabetic ?\", \"blood normal sugar level glucos\", 1], [\"what does frequent blood sugar levels over one hundred and sixty after eating mean ?\", \"blood normal sugar level glucos\", 1], [\"what are normal blood glucose levels ?\", \"blood normal sugar level glucos\", 1], [\"blood sugar average for a person who weighs one hundred lbs ?\", \"blood normal sugar level glucos\", 1], [\"what is the normal range of blood sugar for diabetic ?\", \"blood normal sugar level glucos\", 1], [\"what is the safe blood sugar level for an adult male fifty eight years old ave ?\", \"blood normal sugar level glucos\", 1], [\"what do the glycemic index numbers mean ?\", \"blood normal sugar level glucos\", 1], [\"blood glucose levels normal range is ?\", \"blood normal sugar level glucos\", 1]], \"hovertemplate\": \"summary=%{customdata[1]}<br>pc_1=%{x}<br>pc_2=%{y}<br>pc_3=%{z}<br>sentence=%{customdata[0]}<br>label=%{customdata[2]}<extra></extra>\", \"legendgroup\": \"blood normal sugar level glucos\", \"marker\": {\"color\": \"#00cc96\", \"size\": 8, \"symbol\": \"circle\"}, \"mode\": \"markers\", \"name\": \"blood normal sugar level glucos\", \"scene\": \"scene\", \"showlegend\": true, \"type\": \"scatter3d\", \"x\": [-0.9405841827392578, -0.8966938853263855, -0.7665957808494568, -0.7953956723213196, -0.8713836073875427, -0.8494667410850525, -0.816006064414978, -0.792009711265564, -0.7800131440162659, -0.7919008135795593, -0.8108980655670166, -0.8492891788482666, -0.7807478904724121, -0.9914848804473877, -0.8305505514144897, -0.8004381060600281, -0.8633485436439514, -0.7990590333938599, -0.918910026550293, -0.759501039981842, -0.7547692060470581, -0.7127519845962524, -0.8607305884361267, -0.9640239477157593, -0.8510260581970215, -0.7865914702415466, -0.7862188220024109, -0.9347716569900513, -0.9369431138038635, -0.7763343453407288, -0.8587351441383362, -0.8176272511482239, -0.8913540840148926, -0.8806764483451843, -0.8620826601982117, -0.7773837447166443, -0.8084067106246948, -0.7927536964416504, -0.7819505333900452, -0.9366673231124878, -0.9554961919784546, -0.7915516495704651, -0.7864296436309814, -0.7967090010643005, -0.8061509132385254, -0.8771631717681885, -0.899203896522522, -0.9051708579063416, -0.7316747903823853, -0.7975890040397644, -0.7885915637016296, -0.7670084238052368, -0.8929484486579895, -0.8916230201721191, -0.9543976187705994, -0.8238949775695801, -0.922110915184021, -0.9487943053245544, -0.8128710389137268, -0.8725195527076721, -0.899599552154541, -0.7938234210014343, -0.8937323689460754, -0.8176840543746948, -0.7620629668235779, -0.7749055027961731, -0.7981266379356384, -0.8098700642585754, -0.7628069519996643, -0.878017008304596, -0.8437252044677734, -0.8899552822113037, -0.9871343374252319, -0.7697620987892151, -0.9074516296386719, -0.8454400300979614, -0.7904995679855347, -0.8987953066825867, -0.7078867554664612, -0.8782921433448792, -0.7889304161071777, -0.8396961092948914, -0.8539084792137146, -0.9051326513290405, -0.9517841339111328, -0.7577173709869385, -0.7657455801963806, -0.9053850769996643, -0.8943582773208618, -0.8907601833343506, -0.7704394459724426, -0.7907097339630127, -0.9824199676513672, -0.9284887313842773, -0.8922882080078125, -0.8598617911338806, -0.911697268486023, -0.8855798840522766, -0.9126936793327332, -0.980431318283081, -0.8110340237617493, -0.7812166810035706, -0.7854873538017273, -0.8700871467590332, -0.9225605130195618, -0.798251211643219, -0.8611184358596802, -0.8341882824897766, -0.7934282422065735, -0.9158455729484558, -0.7974545955657959, -0.7939630150794983, -0.8607347011566162, -0.9256839156150818, -0.7354547381401062, -0.7695911526679993, -0.9867180585861206, -0.9512325525283813, -0.7137836217880249, -0.7249358892440796, -0.8659826517105103], \"y\": [-0.20716528594493866, -0.11803216487169266, -0.2693520188331604, -0.026627061888575554, -0.039357833564281464, -0.15076689422130585, -0.2562388777732849, -0.03946765139698982, -0.3401152193546295, -0.1625443696975708, -0.37593165040016174, -0.19020241498947144, -0.1352684497833252, -0.276176780462265, -0.3384988009929657, -0.14401854574680328, -0.24489006400108337, -0.25798818469047546, -0.09976349771022797, -0.10982801765203476, -0.13767677545547485, -0.13660922646522522, -0.1779765784740448, -0.21140795946121216, -0.24281656742095947, -0.08083568513393402, -0.1080179512500763, -0.12751451134681702, -0.20834380388259888, -0.2627148926258087, -0.23094093799591064, -0.33201897144317627, -0.09034444391727448, -0.17408019304275513, -0.25042909383773804, -0.13579592108726501, -0.14261627197265625, -0.00965106301009655, -0.16345830261707306, -0.13308009505271912, -0.20993086695671082, -0.07280555367469788, -0.2491508573293686, -0.3270598351955414, -0.3599145710468292, -0.07549134641885757, -0.28066951036453247, -0.31759607791900635, -0.1578868329524994, -0.1317531317472458, -0.05264729633927345, -0.17050062119960785, -0.29160645604133606, -0.21107324957847595, -0.3031361997127533, -0.15855321288108826, -0.21318772435188293, -0.2313622683286667, -0.11275403201580048, -0.042144037783145905, -0.3129902780056, -0.3253770172595978, -0.322092205286026, -0.33835741877555847, -0.054541103541851044, -0.3522306978702545, -0.03347184136509895, -0.3389326333999634, -0.21404023468494415, -0.045203179121017456, -0.1536077857017517, -0.2880675494670868, -0.2817198932170868, -0.16732382774353027, -0.13756167888641357, -0.1758204698562622, -0.32611048221588135, -0.3218930959701538, -0.14523151516914368, -0.17991578578948975, -0.13486738502979279, -0.1528744101524353, -0.2564021944999695, -0.13757917284965515, -0.17813695967197418, -0.3013496994972229, -0.2853115499019623, -0.27744776010513306, -0.19889314472675323, -0.06140970066189766, -0.167367622256279, -0.13859587907791138, -0.275481641292572, -0.2799548804759979, -0.31847164034843445, -0.1828221082687378, -0.12263776361942291, -0.20957188308238983, -0.21526826918125153, -0.2865965962409973, -0.2675740718841553, -0.16620922088623047, -0.24938541650772095, -0.05254609137773514, -0.27366796135902405, -0.08149974793195724, -0.2874907851219177, -0.2949727773666382, -0.32626691460609436, -0.27525967359542847, -0.034412626177072525, -0.06569718569517136, -0.236300989985466, -0.2831438481807709, -0.15661485493183136, -0.11526155471801758, -0.2495255470275879, -0.21106399595737457, -0.1365128457546234, -0.1484018713235855, -0.24727466702461243], \"z\": [0.04391870275139809, -0.014763223938643932, 0.0008441440295428038, -0.09920168668031693, -0.03521299362182617, -0.005596076138317585, 0.12556158006191254, -0.03948727250099182, 0.11266294866800308, -0.08709373325109482, 0.031084075570106506, -0.10680710524320602, -0.06707490980625153, -0.011515441350638866, 0.03520091995596886, -0.10129165649414062, 0.06530586630105972, 0.14147807657718658, -0.004598849918693304, 0.06408367305994034, 0.009906006045639515, 0.050174158066511154, -0.12676994502544403, 0.046448029577732086, 0.06331261247396469, -0.043518126010894775, -0.050210513174533844, -0.03456718474626541, 0.013425705954432487, -0.0034710087347775698, 0.05114763602614403, 0.06782521307468414, -0.020285744220018387, 0.003214637516066432, 0.07378114014863968, -0.033135294914245605, -0.0942293331027031, 0.00578062841668725, -0.024277595803141594, -0.03980155289173126, 0.04408271610736847, -0.055647607892751694, 0.15887674689292908, 0.14464201033115387, 0.03646157681941986, -0.0318182036280632, 0.009340999647974968, 0.0711742639541626, -0.0335574671626091, -0.029059691354632378, -0.09875602275133133, -0.043728623539209366, -0.03992746025323868, 0.018111160025000572, 0.1541217863559723, -0.09739614278078079, 0.089231938123703, 0.11563428491353989, -0.01947508566081524, -0.03604351729154587, -0.04221445694565773, 0.1575152426958084, 0.08052565157413483, 0.05434409901499748, -0.12106861919164658, 0.027270568534731865, -0.07993756234645844, 0.06544017791748047, -0.023415468633174896, -0.025761276483535767, -0.004663939122110605, -0.0442739799618721, -0.019917137920856476, -0.12893883883953094, 0.009368140250444412, -0.11576557159423828, 0.1551249772310257, -0.03998102620244026, -0.05766062065958977, 0.009957651607692242, -0.07269863784313202, -0.005144144408404827, 0.09462007135152817, 0.004470239393413067, 0.058295782655477524, 0.010618560016155243, 0.005016983021050692, 0.14925552904605865, 0.01736312173306942, -0.005059424787759781, -0.12550507485866547, -0.03145897015929222, -0.004627932328730822, 0.1409032791852951, 0.0869508907198906, -0.1207454726099968, -0.01807420514523983, 0.023933356627821922, 0.08648907393217087, -0.04392382875084877, 0.1276686191558838, -0.007516006473451853, -0.02400137670338154, -0.07060389220714569, 0.14726197719573975, -0.04542400315403938, 0.11014528572559357, 0.06076224148273468, 0.1432971954345703, 0.09841948002576828, -0.12674400210380554, -0.10243324935436249, 0.03450832515954971, 0.06830520927906036, -0.025615490972995758, -0.013662684708833694, 0.008674134500324726, 0.04340500012040138, -0.030724922195076942, -0.053459908813238144, 0.07676850259304047]}, {\"customdata\": [[\"how many people get diabetes in a year ?\", \"peopl mani domin recess trait\", 27], [\"how many people in america are affected with diabetes ?\", \"peopl mani domin recess trait\", 27], [\"what aredifference between dominant and recessive traits ?\", \"peopl mani domin recess trait\", 27], [\"who was a diabetic in the movie isteel magnolias ' ?\", \"peopl mani domin recess trait\", 27], [\"is diabetes a dominant or recessive trait ?\", \"peopl mani domin recess trait\", 27], [\"what does diabetic diet-ck bs ac and qhs mean in medical terms ?\", \"peopl mani domin recess trait\", 27], [\"what and where can i go to get diabetic neuropathy treatment ?\", \"peopl mani domin recess trait\", 27], [\"what diseases are the focus of healthy people two thousand and ten ?\", \"peopl mani domin recess trait\", 27], [\"how many people in us have diabetes ?\", \"peopl mani domin recess trait\", 27], [\"in which homeopathic remedies do the symptoms of type two diabetes appear - other than arsenicum ?\", \"peopl mani domin recess trait\", 27], [\"level of sugar allowed in urine to pass dot physical ?\", \"peopl mani domin recess trait\", 27], [\"how many people in australia have diabetes ?\", \"peopl mani domin recess trait\", 27], [\"is diabetes insipidus dominant or recessive ?\", \"peopl mani domin recess trait\", 27], [\"explain the health education for diabetic patient ?\", \"peopl mani domin recess trait\", 27], [\"where is burdock root grown ?\", \"peopl mani domin recess trait\", 27], [\"diabetes statistics ?\", \"peopl mani domin recess trait\", 27], [\"when did halle berry get diabetes ?\", \"peopl mani domin recess trait\", 27], [\"out of how many how may people have diabetes in us ?\", \"peopl mani domin recess trait\", 27], [\"what are the odds of an american getting early onset diabetes ?\", \"peopl mani domin recess trait\", 27], [\"what is the spanish word for diabetes ?\", \"peopl mani domin recess trait\", 27], [\"what are alternative treatments for diabetic foot infections ?\", \"peopl mani domin recess trait\", 27], [\"is rolling your tongue a dominant or recessive trait ?\", \"peopl mani domin recess trait\", 27], [\"what is the electrolyte disorder that accompanies diabetic ketosis ?\", \"peopl mani domin recess trait\", 27], [\"what are the medical abbreviations meaning once a day and twice a day ?\", \"peopl mani domin recess trait\", 27], [\"what is the letter form in dominant and recessive trait ?\", \"peopl mani domin recess trait\", 27], [\"is diabetes dominant or recessive trait ?\", \"peopl mani domin recess trait\", 27], [\"out of how many how may people have diabetes ?\", \"peopl mani domin recess trait\", 27], [\"what is diabetic lumbosacral radiculoplexus neuropathy ?\", \"peopl mani domin recess trait\", 27], [\"how many people are diagnosed with diabetes every year ?\", \"peopl mani domin recess trait\", 27], [\"how man people in america have diabetes ?\", \"peopl mani domin recess trait\", 27]], \"hovertemplate\": \"summary=%{customdata[1]}<br>pc_1=%{x}<br>pc_2=%{y}<br>pc_3=%{z}<br>sentence=%{customdata[0]}<br>label=%{customdata[2]}<extra></extra>\", \"legendgroup\": \"peopl mani domin recess trait\", \"marker\": {\"color\": \"#ab63fa\", \"size\": 8, \"symbol\": \"circle\"}, \"mode\": \"markers\", \"name\": \"peopl mani domin recess trait\", \"scene\": \"scene\", \"showlegend\": true, \"type\": \"scatter3d\", \"x\": [0.04650679975748062, 0.028565306216478348, 0.06400485336780548, 0.049221470952034, 0.1243075504899025, 0.0423722080886364, 0.011660551652312279, 0.042529188096523285, 0.08551467955112457, 0.08938531577587128, 0.003812700742855668, 0.07725261151790619, 0.09217299520969391, -0.027488693594932556, 0.04306769743561745, 0.08145604282617569, 0.1258557289838791, 0.04952916502952576, -0.016046889126300812, -0.018430856987833977, 0.07273925840854645, 0.10852038115262985, 0.12015971541404724, 0.046807724982500076, 0.10427810996770859, 0.12173926085233688, 0.04506795480847359, 0.04339605197310448, -0.0037967071402817965, 0.0534835122525692], \"y\": [0.19812652468681335, 0.13621360063552856, 0.07952721416950226, 0.09098444133996964, 0.18813538551330566, 0.08451753109693527, 0.13191063702106476, 0.07710404694080353, 0.21317529678344727, 0.16634608805179596, 0.17554602026939392, 0.18290318548679352, 0.06572375446557999, 0.13652454316616058, 0.08606292307376862, 0.2030303180217743, 0.19086164236068726, 0.14313040673732758, 0.15708282589912415, 0.12954111397266388, 0.1617007702589035, 0.16963045299053192, 0.19559799134731293, 0.08732034265995026, 0.17517630755901337, 0.1885603815317154, 0.0743919089436531, 0.14989571273326874, 0.14490072429180145, 0.19627033174037933], \"z\": [-0.3391553461551666, -0.18738232553005219, -0.2618979811668396, -0.23156701028347015, -0.2675374150276184, -0.3344789743423462, -0.2898164689540863, -0.32123857736587524, -0.32515743374824524, -0.28022924065589905, -0.3298124670982361, -0.3005971908569336, -0.26073217391967773, -0.3181297183036804, -0.332865834236145, -0.3188404440879822, -0.271874338388443, -0.2843720614910126, -0.3514845073223114, -0.30437996983528137, -0.1892884224653244, -0.25424790382385254, -0.28707826137542725, -0.23894540965557098, -0.27462145686149597, -0.26769742369651794, -0.30411723256111145, -0.19378794729709625, -0.30359750986099243, -0.33094021677970886]}, {\"customdata\": [[\"where can i find a blood glucose chart ?\", \"blood sugar level a1c test\", 3], [\"what information can you tell me about sugar ?\", \"blood sugar level a1c test\", 3], [\"how often should a person have their sugar levels checked ?\", \"blood sugar level a1c test\", 3], [\"how can a person contact the american diabetes association ?\", \"blood sugar level a1c test\", 3], [\"is a five % a1c range healthy what is the normal range ?\", \"blood sugar level a1c test\", 3], [\"what is the healthy blood sugar levels chart ?\", \"blood sugar level a1c test\", 3], [\"how can i find out my blood sugar level ?\", \"blood sugar level a1c test\", 3], [\"what is precision xtra glucose meter e-6 ?\", \"blood sugar level a1c test\", 3], [\"where do you go to find out you have diabetes ?\", \"blood sugar level a1c test\", 3], [\"where can i find blood glucose level chart ?\", \"blood sugar level a1c test\", 3], [\"what is a ancillary blood glucose test ?\", \"blood sugar level a1c test\", 3], [\"what does the hba1c test find ?\", \"blood sugar level a1c test\", 3], [\"what is a normal a1c ?\", \"blood sugar level a1c test\", 3], [\"your esr rate is thirty six what does this mean ?\", \"blood sugar level a1c test\", 3], [\"where can i find information on how running affects blood sugar ?\", \"blood sugar level a1c test\", 3], [\"how to keep a normal blood sugar level ?\", \"blood sugar level a1c test\", 3], [\"what test detects the average blood glucose levels over the previous three weeks ?\", \"blood sugar level a1c test\", 3], [\"what are some tests for diabetes ?\", \"blood sugar level a1c test\", 3], [\"how has glucose meters impacted society ?\", \"blood sugar level a1c test\", 3], [\"what should i know if i am diagnosed with diabetes ?\", \"blood sugar level a1c test\", 3], [\"what is the a1c range of a healthy person ?\", \"blood sugar level a1c test\", 3], [\"what do a1c levels tell you about a diabetic person ?\", \"blood sugar level a1c test\", 3], [\"when eating six meals a day does it take a while for your body to adjust and is it normal to feel like your blood sugar drops even quicker between meals ?\", \"blood sugar level a1c test\", 3], [\"where can i get information on a blood sugar chart ?\", \"blood sugar level a1c test\", 3], [\"your father is diabetic since eighteen yrs since last one month he has developed swelling in bilateral handand complaints of pain at insertion of muscles in hand kneeankle ?\", \"blood sugar level a1c test\", 3], [\"what is the highest level for blood sugar test for a dot physical ?\", \"blood sugar level a1c test\", 3], [\"where can i find something to check my blood glucose levels ?\", \"blood sugar level a1c test\", 3], [\"what is happening to someones blood glucose levels right before a race ?\", \"blood sugar level a1c test\", 3], [\"how did the indian doctor test for diabetes two thousand , five hundred years ago ?\", \"blood sugar level a1c test\", 3], [\"can someone please explain what an a1c calculator is ?\", \"blood sugar level a1c test\", 3], [\"what diagnostic tests are used to confirm diabetes ?\", \"blood sugar level a1c test\", 3], [\"how many kids are diagnosed with diabetes each day ?\", \"blood sugar level a1c test\", 3], [\"help i do not know what an a1c range is ?\", \"blood sugar level a1c test\", 3], [\"where can i find a list of diabetes symptoms ?\", \"blood sugar level a1c test\", 3], [\"i got twenty two on my diabetes test . what does that mean ?\", \"blood sugar level a1c test\", 3], [\"how do i test me blood sugar level to keep healthy ?\", \"blood sugar level a1c test\", 3], [\"what does bayer is a1c now measure ?\", \"blood sugar level a1c test\", 3], [\"about a1c blood sugar levels ?\", \"blood sugar level a1c test\", 3], [\"what is anormal triglycerides level ?\", \"blood sugar level a1c test\", 3], [\"where can one find blood sugar levels charts ?\", \"blood sugar level a1c test\", 3], [\"how do you tell someone you want to be tested for diabetes ?\", \"blood sugar level a1c test\", 3], [\"where can i obtain a diabetic food pyramid ?\", \"blood sugar level a1c test\", 3], [\"what is the target a1c according to the american diabetes association ?\", \"blood sugar level a1c test\", 3], [\"what is the purpose of an a1c chart for a diabetic ?\", \"blood sugar level a1c test\", 3], [\"why you should know about a blood sugar chart ?\", \"blood sugar level a1c test\", 3], [\"what is an a1c blood sugar for ?\", \"blood sugar level a1c test\", 3], [\"how is chromium picolinate related to diabetes ?\", \"blood sugar level a1c test\", 3], [\"what is the normal range of hb1ac ?\", \"blood sugar level a1c test\", 3]], \"hovertemplate\": \"summary=%{customdata[1]}<br>pc_1=%{x}<br>pc_2=%{y}<br>pc_3=%{z}<br>sentence=%{customdata[0]}<br>label=%{customdata[2]}<extra></extra>\", \"legendgroup\": \"blood sugar level a1c test\", \"marker\": {\"color\": \"#FFA15A\", \"size\": 8, \"symbol\": \"circle\"}, \"mode\": \"markers\", \"name\": \"blood sugar level a1c test\", \"scene\": \"scene\", \"showlegend\": true, \"type\": \"scatter3d\", \"x\": [-0.4815157651901245, -0.6236095428466797, -0.5836160182952881, -0.5086784958839417, -0.5569508671760559, -0.6134547591209412, -0.4631812572479248, -0.4526192247867584, -0.5085371136665344, -0.513858437538147, -0.5332393050193787, -0.4698619544506073, -0.511154294013977, -0.5133417844772339, -0.46225300431251526, -0.5116320848464966, -0.49655699729919434, -0.5473465323448181, -0.4619152247905731, -0.4848265051841736, -0.5642442107200623, -0.5603858828544617, -0.5005826354026794, -0.4505837559700012, -0.4388594925403595, -0.4775863587856293, -0.5122312903404236, -0.5754922032356262, -0.49693652987480164, -0.4786883294582367, -0.5547069311141968, -0.5114022493362427, -0.5451639890670776, -0.49129194021224976, -0.5058480501174927, -0.5741365551948547, -0.4030090570449829, -0.6025421619415283, -0.6297692656517029, -0.61700439453125, -0.5865026712417603, -0.5944427251815796, -0.6138994097709656, -0.4781823754310608, -0.5093002915382385, -0.6006442904472351, -0.5753757953643799, -0.5953578352928162], \"y\": [-0.12434005737304688, -0.197479709982872, -0.12415433675050735, -0.1622001677751541, -0.12631107866764069, -0.16112372279167175, -0.17873834073543549, -0.17805622518062592, -0.10135053098201752, -0.11302080005407333, -0.15757228434085846, -0.2008209079504013, -0.15194810926914215, -0.1551242470741272, -0.1972033828496933, -0.2457059919834137, -0.15153910219669342, -0.14909404516220093, -0.10959167778491974, -0.21643979847431183, -0.13686685264110565, -0.1571284681558609, -0.15028463304042816, -0.15865930914878845, -0.17427000403404236, -0.1059885323047638, -0.12280207872390747, -0.15628400444984436, -0.15148581564426422, -0.11134125292301178, -0.14062204957008362, -0.09749435633420944, -0.14418843388557434, -0.05656307190656662, -0.10050754994153976, -0.21051017940044403, -0.1600678563117981, -0.2192288190126419, -0.2160090059041977, -0.17820948362350464, -0.15282952785491943, -0.0991857573390007, -0.08012904226779938, -0.09610526263713837, -0.24889855086803436, -0.2088858187198639, -0.21335916221141815, -0.10099603235721588], \"z\": [0.20995058119297028, 0.16042014956474304, 0.14284640550613403, 0.13672788441181183, 0.18493585288524628, 0.17261956632137299, 0.21071884036064148, 0.06778188794851303, 0.06165772303938866, 0.1977384388446808, 0.07307715713977814, 0.15743567049503326, 0.1331581026315689, 0.059293393045663834, 0.19470587372779846, 0.11154980212450027, 0.12948423624038696, 0.07238173484802246, 0.1355280727148056, 0.1536778211593628, 0.15870152413845062, 0.08234132081270218, 0.13309451937675476, 0.19949880242347717, 0.08631369471549988, 0.10522089153528214, 0.23645366728305817, 0.10629542917013168, 0.059752512723207474, 0.09574232995510101, 0.07075440138578415, 0.07249602675437927, 0.15338647365570068, 0.13440683484077454, 0.07172374427318573, 0.18434882164001465, 0.10642538964748383, 0.1480027735233307, 0.1278809905052185, 0.17161501944065094, 0.07688039541244507, 0.1474919617176056, 0.11264850199222565, 0.12022218853235245, 0.10531467944383621, 0.10377855598926544, 0.17014393210411072, 0.13912828266620636]}, {\"customdata\": [[\"can type one diabetes be prevented ?\", \"type get two prevent one\", 23], [\"what are any options for pregnant ladies so that their kids can not get diabetes ?\", \"type get two prevent one\", 23], [\"why can you prevent type two diabetes but can not prevent type one diabetes ?\", \"type get two prevent one\", 23], [\"who can get this diabetes ?\", \"type get two prevent one\", 23], [\"is diabetes a non-communicable disease ?\", \"type get two prevent one\", 23], [\"can you get a diabetes from someone who has one ?\", \"type get two prevent one\", 23], [\"can diabetes be passed on from generation to generation ?\", \"type get two prevent one\", 23], [\"can type ii diabetes turn into type i diabetes ?\", \"type get two prevent one\", 23], [\"if a parent has diabetes is it likely the baby will have diabetes ?\", \"type get two prevent one\", 23], [\"who can get diabetes ?\", \"type get two prevent one\", 23], [\"which diabetes does the offspring get if one has diabetes ?\", \"type get two prevent one\", 23], [\"can children get diabeties ?\", \"type get two prevent one\", 23], [\"will pre-diabetes eventually go to stage two diabetes ?\", \"type get two prevent one\", 23], [\"being overweight is a major cause of diabetes ?\", \"type get two prevent one\", 23], [\"do men get diabetes ?\", \"type get two prevent one\", 23], [\"can you get diabetes if your father has it but your mother does not have it and you have a family history of getting diabetes ?\", \"type get two prevent one\", 23], [\"what are the karyotypes of diabetes ?\", \"type get two prevent one\", 23], [\"can tv cause diabetes ?\", \"type get two prevent one\", 23], [\"how can you prevent type two diabetes when your dad has it ?\", \"type get two prevent one\", 23], [\"how could a persons lifestyle possibly lead to type two diabetes ?\", \"type get two prevent one\", 23], [\"if the mom has diabetes can the kids have diabetes ?\", \"type get two prevent one\", 23], [\"could not getting enough sun cause diabetes ?\", \"type get two prevent one\", 23], [\"can diabetes mellitus be prevented ?\", \"type get two prevent one\", 23], [\"does diabetes get passed on ?\", \"type get two prevent one\", 23], [\"can you get diabetes from getting overweigt ?\", \"type get two prevent one\", 23], [\"can you get type one diabetes form being overweight ?\", \"type get two prevent one\", 23], [\"how can you control your diabetes ?\", \"type get two prevent one\", 23], [\"can you get diabetes from not eating ?\", \"type get two prevent one\", 23], [\"type ii diabetes ?\", \"type get two prevent one\", 23], [\"what are some natural ways to potentially reverse diabetes ?\", \"type get two prevent one\", 23], [\"is diabetes contagious ?\", \"type get two prevent one\", 23], [\"can the increased in triglyceride cause type two diabetes ?\", \"type get two prevent one\", 23], [\"if your mate has diabetes and you get pregnant what are the odds the baby would have diabetes ?\", \"type get two prevent one\", 23], [\"can you get diabetes after kissing a person that has diabetes ?\", \"type get two prevent one\", 23], [\"diabetes prevention ?\", \"type get two prevent one\", 23], [\"following a type two diabetes diet ?\", \"type get two prevent one\", 23], [\"is diabetes caused by a problem with the protein insulin ?\", \"type get two prevent one\", 23], [\"can type two diabetes be cured ?\", \"type get two prevent one\", 23], [\"can type two diabetes be cured ?\", \"type get two prevent one\", 23], [\"how you can control diabetes ?\", \"type get two prevent one\", 23], [\"can diabetes go away ?\", \"type get two prevent one\", 23], [\"how does a punnett square look like if the possible parent combination in type two diabetes ?\", \"type get two prevent one\", 23], [\"is diabetes passed on by either parent to child ?\", \"type get two prevent one\", 23], [\"is diabetes a disease or a condition ?\", \"type get two prevent one\", 23], [\"is type ii diabetes contagious ?\", \"type get two prevent one\", 23], [\"can you get diabetes after fifty years old ?\", \"type get two prevent one\", 23], [\"why can not you prevent type one diabetes ?\", \"type get two prevent one\", 23], [\"how do you prevent type one and type two diabetes ?\", \"type get two prevent one\", 23]], \"hovertemplate\": \"summary=%{customdata[1]}<br>pc_1=%{x}<br>pc_2=%{y}<br>pc_3=%{z}<br>sentence=%{customdata[0]}<br>label=%{customdata[2]}<extra></extra>\", \"legendgroup\": \"type get two prevent one\", \"marker\": {\"color\": \"#19d3f3\", \"size\": 8, \"symbol\": \"circle\"}, \"mode\": \"markers\", \"name\": \"type get two prevent one\", \"scene\": \"scene\", \"showlegend\": true, \"type\": \"scatter3d\", \"x\": [0.4106568396091461, 0.408983051776886, 0.4533103108406067, 0.4200737774372101, 0.5678659677505493, 0.38121095299720764, 0.5225732326507568, 0.39820224046707153, 0.4341060221195221, 0.4825439751148224, 0.5594700574874878, 0.40766608715057373, 0.43859827518463135, 0.5597304105758667, 0.60146164894104, 0.39701929688453674, 0.5330891609191895, 0.5788336992263794, 0.4999154508113861, 0.4880467355251312, 0.46015942096710205, 0.370580792427063, 0.5075667500495911, 0.5076488852500916, 0.5644423365592957, 0.5432514548301697, 0.41854938864707947, 0.43749570846557617, 0.38360244035720825, 0.4902704060077667, 0.5533204674720764, 0.408429354429245, 0.5607792139053345, 0.42316314578056335, 0.4940321147441864, 0.4121653437614441, 0.42989692091941833, 0.5557095408439636, 0.5605695247650146, 0.4141591489315033, 0.4035762846469879, 0.4964795410633087, 0.5244712233543396, 0.4992857277393341, 0.46714210510253906, 0.4480617046356201, 0.48468586802482605, 0.3847787380218506], \"y\": [0.49583572149276733, 0.4234303832054138, 0.4494348168373108, 0.5093740224838257, 0.5024362206459045, 0.475881963968277, 0.443168580532074, 0.4236602783203125, 0.4008532762527466, 0.5059458613395691, 0.5520787239074707, 0.4269929826259613, 0.38417792320251465, 0.5286977291107178, 0.4690844416618347, 0.44858041405677795, 0.4376954138278961, 0.47127866744995117, 0.3828783631324768, 0.38059645891189575, 0.41448792815208435, 0.4406076669692993, 0.4406794607639313, 0.47250455617904663, 0.5089596509933472, 0.5102894902229309, 0.4349130392074585, 0.3368128836154938, 0.455759733915329, 0.4231175482273102, 0.4976454973220825, 0.49817079305648804, 0.4947494864463806, 0.4788464903831482, 0.389476478099823, 0.4864492416381836, 0.43917062878608704, 0.516911506652832, 0.5410683155059814, 0.4781682789325714, 0.49639958143234253, 0.4738698899745941, 0.4648229479789734, 0.39090871810913086, 0.4484701156616211, 0.34181278944015503, 0.4740225374698639, 0.4525470435619354], \"z\": [0.15933384001255035, 0.10005337744951248, 0.16090987622737885, 0.16463927924633026, 0.15065695345401764, 0.19703757762908936, 0.09177154302597046, 0.16677232086658478, 0.11532898992300034, 0.1641354262828827, 0.09015122056007385, 0.16144949197769165, 0.10515764355659485, 0.06557725369930267, 0.10755286365747452, 0.21507349610328674, 0.10146252065896988, 0.09844958782196045, 0.07539498805999756, 0.0798315554857254, 0.1980544626712799, 0.2005140632390976, 0.10723066329956055, 0.11387910693883896, 0.12726075947284698, 0.0836062952876091, 0.12581634521484375, 0.12219101190567017, 0.1587352603673935, 0.1611575335264206, 0.1802714616060257, 0.1442093402147293, 0.16187684237957, 0.17226411402225494, 0.07690165191888809, 0.13556694984436035, 0.13244549930095673, 0.0815255418419838, 0.0912708193063736, 0.11069908738136292, 0.16653670370578766, 0.14158648252487183, 0.09200974553823471, 0.0939410924911499, 0.1548929065465927, 0.12828253209590912, 0.14497604966163635, 0.060608696192502975]}, {\"customdata\": [[\"what is a major cause of type one juvenile diabetes ?\", \"type two caus one diseas\", 18], [\"are you born with type two diabetes ?\", \"type two caus one diseas\", 18], [\"diabetes type one and type two ?\", \"type two caus one diseas\", 18], [\"is diabetes a cardiovascular disease ?\", \"type two caus one diseas\", 18], [\"what can cause one type of diabetes ?\", \"type two caus one diseas\", 18], [\"when is type two diabetes developed ?\", \"type two caus one diseas\", 18], [\"diabetes type two ?\", \"type two caus one diseas\", 18], [\"can eating too much sweets cause diabetes ?\", \"type two caus one diseas\", 18], [\"does anabolic agents cause diabetes ?\", \"type two caus one diseas\", 18], [\"types of diabetes ?\", \"type two caus one diseas\", 18], [\"diabetes mellitus is a hereditary disease or not ?\", \"type two caus one diseas\", 18], [\"is diabetes type one inherited ?\", \"type two caus one diseas\", 18], [\"the two types of diabetes ?\", \"type two caus one diseas\", 18], [\"how common is type ii diabetes ?\", \"type two caus one diseas\", 18], [\"diabetes type two is an ?\", \"type two caus one diseas\", 18], [\"can obesity be the cause of type two diabetes ?\", \"type two caus one diseas\", 18], [\"cause of diabetes ?\", \"type two caus one diseas\", 18], [\"do kids get type two diabetes more than adults ?\", \"type two caus one diseas\", 18], [\"is diabetes a disease or ailment ?\", \"type two caus one diseas\", 18], [\"who is more prone to get diabetes ?\", \"type two caus one diseas\", 18], [\"can you develop diabetes from eating too many carbs ?\", \"type two caus one diseas\", 18], [\"what are the conditions for type ii diabetes ?\", \"type two caus one diseas\", 18], [\"can type two diabetes cause obesity ?\", \"type two caus one diseas\", 18], [\"does jason dunn have diabetes ?\", \"type two caus one diseas\", 18], [\"obesity and diabetes ?\", \"type two caus one diseas\", 18], [\"is type two diabetes hereditary ?\", \"type two caus one diseas\", 18], [\"is type one diabetes hereditary ?\", \"type two caus one diseas\", 18], [\"what features differentiate type one diabetes from type two ?\", \"type two caus one diseas\", 18], [\"two types of diabetes ?\", \"type two caus one diseas\", 18], [\"are any types of diabetes hereditary ?\", \"type two caus one diseas\", 18], [\"is diabetes a type of disease ?\", \"type two caus one diseas\", 18], [\"type one and type two diabetes ?\", \"type two caus one diseas\", 18], [\"can obesity lead to type two diabetes ?\", \"type two caus one diseas\", 18]], \"hovertemplate\": \"summary=%{customdata[1]}<br>pc_1=%{x}<br>pc_2=%{y}<br>pc_3=%{z}<br>sentence=%{customdata[0]}<br>label=%{customdata[2]}<extra></extra>\", \"legendgroup\": \"type two caus one diseas\", \"marker\": {\"color\": \"#FF6692\", \"size\": 8, \"symbol\": \"circle\"}, \"mode\": \"markers\", \"name\": \"type two caus one diseas\", \"scene\": \"scene\", \"showlegend\": true, \"type\": \"scatter3d\", \"x\": [0.27597808837890625, 0.279146671295166, 0.24684736132621765, 0.15920332074165344, 0.2405119389295578, 0.2593381404876709, 0.2504171133041382, 0.2231263965368271, 0.24731925129890442, 0.16887609660625458, 0.1611708104610443, 0.2552262544631958, 0.20329706370830536, 0.30720317363739014, 0.24269483983516693, 0.25238925218582153, 0.15724171698093414, 0.229802668094635, 0.1938038468360901, 0.27073901891708374, 0.25132906436920166, 0.26097142696380615, 0.24727457761764526, 0.3052414357662201, 0.28712815046310425, 0.23402850329875946, 0.18232837319374084, 0.24295297265052795, 0.2449968159198761, 0.1699826717376709, 0.15758301317691803, 0.24345237016677856, 0.24179024994373322], \"y\": [0.716044545173645, 0.6570398211479187, 0.6998378038406372, 0.68520587682724, 0.7031052112579346, 0.5978962779045105, 0.6434710621833801, 0.5469894409179688, 0.580062747001648, 0.6866381764411926, 0.6831405758857727, 0.6113549470901489, 0.6600540280342102, 0.628420352935791, 0.6351597905158997, 0.6071972250938416, 0.6415332555770874, 0.5510877370834351, 0.6711688041687012, 0.7048883438110352, 0.6159795522689819, 0.6052701473236084, 0.5908622145652771, 0.6463735699653625, 0.6602614521980286, 0.6851228475570679, 0.7086820602416992, 0.692649781703949, 0.6530441641807556, 0.6969872713088989, 0.6197028160095215, 0.7059546113014221, 0.595025360584259], \"z\": [-0.025904782116413116, -0.02988019771873951, -0.09410194307565689, -0.1272999793291092, -0.13434478640556335, -0.0350356288254261, -0.09630279242992401, -0.06452129036188126, -0.13249830901622772, -0.08437938243150711, -0.13306353986263275, -0.1493058055639267, -0.09351342171430588, -0.013819153420627117, -0.08962073922157288, -0.15441209077835083, -0.13443967700004578, -0.06815458834171295, -0.09297927469015121, -0.0346275232732296, -0.1686992198228836, -0.046683717519044876, -0.13608261942863464, -0.02110154740512371, -0.09450001269578934, -0.13558925688266754, -0.10556261986494064, -0.12300316244363785, -0.09593536704778671, -0.10687115043401718, -0.10174934566020966, -0.08411852270364761, -0.13240066170692444]}, {\"customdata\": [[\"why are diabetics more prone to complications from swine flu ?\", \"neuropathi treatment problem foot complic\", 19], [\"is there iso specification for insulin syringes ?\", \"neuropathi treatment problem foot complic\", 19], [\"you need help finding a cure for belching your husband has been belching for eight years ?\", \"neuropathi treatment problem foot complic\", 19], [\"what does treatment of diabetic neuropathy focus on ?\", \"neuropathi treatment problem foot complic\", 19], [\"diabetic ulcers ?\", \"neuropathi treatment problem foot complic\", 19], [\"diabetic complications ?\", \"neuropathi treatment problem foot complic\", 19], [\"what can diabetic neuropathy lead to ?\", \"neuropathi treatment problem foot complic\", 19], [\"how do you reduce aggregation and inactivation by recombinant insulin ?\", \"neuropathi treatment problem foot complic\", 19], [\"can postal workers have diabetes ?\", \"neuropathi treatment problem foot complic\", 19], [\"can diabetic foot problems be treated pain free ?\", \"neuropathi treatment problem foot complic\", 19], [\"what kind of exercises can a twenty-five year old diabetic do ?\", \"neuropathi treatment problem foot complic\", 19], [\"why does your diabetic dog cry in the mornings ?\", \"neuropathi treatment problem foot complic\", 19], [\"is it safe for diabetics to wear compression shorts ?\", \"neuropathi treatment problem foot complic\", 19], [\"why do diabetics with anorexia get retinopathy ?\", \"neuropathi treatment problem foot complic\", 19], [\"what is diabetic shock and how can i prevent it ?\", \"neuropathi treatment problem foot complic\", 19], [\"when would a diabetic need to see the doctor with sore feet ?\", \"neuropathi treatment problem foot complic\", 19], [\"is wellness support network is diabetic pack effective ?\", \"neuropathi treatment problem foot complic\", 19], [\"are there adverse affects from scuba diving with diabetes ?\", \"neuropathi treatment problem foot complic\", 19], [\"can you be a diabetic and be in nrotc ?\", \"neuropathi treatment problem foot complic\", 19], [\"causes of diabetic foot pain ?\", \"neuropathi treatment problem foot complic\", 19], [\"diabetic foot pain ?\", \"neuropathi treatment problem foot complic\", 19], [\"treatment for diabetic neuropathy ?\", \"neuropathi treatment problem foot complic\", 19], [\"what are some safe exercise work out routines for people who suffer from diabetic neuropathy ?\", \"neuropathi treatment problem foot complic\", 19], [\"why would a person need diabetic neuropathy treatment ?\", \"neuropathi treatment problem foot complic\", 19], [\"how do you pronounce agape ?\", \"neuropathi treatment problem foot complic\", 19], [\"what are the functions of gonads ?\", \"neuropathi treatment problem foot complic\", 19], [\"what foot problems exist in high develloped countries ?\", \"neuropathi treatment problem foot complic\", 19], [\"if you have osgood do you get your leg cut off ?\", \"neuropathi treatment problem foot complic\", 19], [\"how does diabetic neuropathy affect ones daily life ?\", \"neuropathi treatment problem foot complic\", 19], [\"what kinds of treatment are there for diabetic eye problems ?\", \"neuropathi treatment problem foot complic\", 19], [\"what is a good stocking for diabetics to use for sore feet ?\", \"neuropathi treatment problem foot complic\", 19], [\"where is the donor liver placed in a heterotopic transplantation ?\", \"neuropathi treatment problem foot complic\", 19], [\"can a diabetic dive and perform in scuba activities ?\", \"neuropathi treatment problem foot complic\", 19], [\"what does flu do to teen with diabetes ?\", \"neuropathi treatment problem foot complic\", 19], [\"what are some problems people with diabetes have ?\", \"neuropathi treatment problem foot complic\", 19], [\"can you recycle diabetic needles ?\", \"neuropathi treatment problem foot complic\", 19], [\"what does diabetic neuropathy treatment entail ?\", \"neuropathi treatment problem foot complic\", 19], [\"eat lean meat to lower risk of heart disease with diabetes ?\", \"neuropathi treatment problem foot complic\", 19], [\"what insurance companies has started first insurance scheme for diabetic patients ?\", \"neuropathi treatment problem foot complic\", 19], [\"how recombinant insulin is used to reduce aggregation and inactivation ?\", \"neuropathi treatment problem foot complic\", 19], [\"what are secondary complications of diabetes ?\", \"neuropathi treatment problem foot complic\", 19], [\"what is tradjenta for ?\", \"neuropathi treatment problem foot complic\", 19], [\"is there starch in your body ?\", \"neuropathi treatment problem foot complic\", 19], [\"is wrapping feet when sore a good idea ?\", \"neuropathi treatment problem foot complic\", 19], [\"diabetic eye problems ?\", \"neuropathi treatment problem foot complic\", 19], [\"what options are available for those who suffer from diabetic retinopathy ?\", \"neuropathi treatment problem foot complic\", 19], [\"what is pelvic phleboliths ?\", \"neuropathi treatment problem foot complic\", 19]], \"hovertemplate\": \"summary=%{customdata[1]}<br>pc_1=%{x}<br>pc_2=%{y}<br>pc_3=%{z}<br>sentence=%{customdata[0]}<br>label=%{customdata[2]}<extra></extra>\", \"legendgroup\": \"neuropathi treatment problem foot complic\", \"marker\": {\"color\": \"#B6E880\", \"size\": 8, \"symbol\": \"circle\"}, \"mode\": \"markers\", \"name\": \"neuropathi treatment problem foot complic\", \"scene\": \"scene\", \"showlegend\": true, \"type\": \"scatter3d\", \"x\": [0.1356547474861145, 0.18780425190925598, 0.19144678115844727, 0.09825598448514938, 0.09448059648275375, 0.26247695088386536, 0.12250620871782303, 0.11625384539365768, 0.16121278703212738, 0.191558375954628, 0.19582727551460266, 0.16730554401874542, 0.18407942354679108, 0.15100713074207306, 0.16490530967712402, 0.08666344732046127, 0.09037206321954727, 0.1549573689699173, 0.1496071070432663, 0.22069330513477325, 0.1724027693271637, 0.1935761570930481, 0.23186326026916504, 0.09415405988693237, 0.08844142407178879, 0.1947643756866455, 0.2126665711402893, 0.0942409336566925, 0.20443648099899292, 0.21764609217643738, 0.1484259068965912, 0.0991595908999443, 0.22938542068004608, 0.21214641630649567, 0.22736036777496338, 0.09568896889686584, 0.12103695422410965, 0.18766602873802185, 0.10911821573972702, 0.10439930111169815, 0.22078101336956024, 0.13240976631641388, 0.19290001690387726, 0.22269059717655182, 0.16381190717220306, 0.10281231999397278, 0.19397111237049103], \"y\": [0.02359491027891636, 0.038006741553545, -0.021006649360060692, 0.008707955479621887, 0.01843884214758873, 0.06306036561727524, 0.018337415531277657, 0.13239330053329468, 0.057444509118795395, -0.010699247941374779, 0.14449870586395264, 0.018959591165184975, 0.0031557665206491947, 0.047212935984134674, 0.003782609011977911, 0.012257954105734825, 0.11506442725658417, 0.11485178768634796, 0.08018969744443893, 0.0885627344250679, 0.05520061030983925, 0.1398845911026001, 0.0038661998696625233, 0.011836833320558071, 0.011893915943801403, 0.14047004282474518, 0.069806307554245, -0.0033798888325691223, 0.06583145260810852, 0.0800541564822197, 0.0743413195014, 0.1416110396385193, 0.08080241829156876, 0.07353663444519043, 0.11174321174621582, 0.11245466768741608, 0.13161806762218475, -0.040903229266405106, 0.13938646018505096, 0.14175499975681305, 0.055808089673519135, 0.13455291092395782, 0.06624501943588257, 0.04339953884482384, 0.03522311896085739, 0.14124733209609985, 0.06996490806341171], \"z\": [-0.055907558649778366, 0.1287124902009964, 0.02784002386033535, -0.027082696557044983, 0.018182840198278427, 0.030688781291246414, -0.031093314290046692, 0.0443354994058609, 0.10818292945623398, -0.0052613914012908936, 0.0780063197016716, 0.11050024628639221, -0.043341509997844696, 0.15629684925079346, 0.096677765250206, 0.07552964985370636, 0.12603773176670074, 0.07872221618890762, 0.08965615183115005, -0.04135555028915405, 0.016498664394021034, 0.07522127032279968, 0.06923206895589828, -0.020368829369544983, 0.062313638627529144, 0.07519908994436264, -0.04818420112133026, 0.06935184448957443, -0.034355927258729935, 0.0666198879480362, 0.09820673614740372, 0.05520632863044739, 0.0735592395067215, -0.038537152111530304, -0.0384720079600811, 0.12148203700780869, 0.05417224392294884, 0.018666956573724747, 0.041282959282398224, 0.05345367640256882, -0.06233224645256996, 0.03232191875576973, 0.038391366600990295, 0.04867764934897423, 0.12828977406024933, 0.05977476388216019, 0.04621053487062454]}, {\"customdata\": [[\"where can i find inexpensive diabetes blood testing supplies ?\", \"suppli find test inform free\", 32], [\"where to get some diabetic testing supplies ?\", \"suppli find test inform free\", 32], [\"where can you get information on living with diabetes ?\", \"suppli find test inform free\", 32], [\"what companies offer free diabetic testing supplies ?\", \"suppli find test inform free\", 32], [\"free diabetes supplies ?\", \"suppli find test inform free\", 32], [\"in what trimester is a pregnant lady tested for gestational diabetes ?\", \"suppli find test inform free\", 32], [\"how can you become a member of a medical research team in us ?\", \"suppli find test inform free\", 32], [\"where can i get free diabetic testing supplies in milwaukee , wi ?\", \"suppli find test inform free\", 32], [\"where could one find information on diabetic medical supplies ?\", \"suppli find test inform free\", 32], [\"finding free diabetic meters ?\", \"suppli find test inform free\", 32], [\"where to get free diabetic supplies ?\", \"suppli find test inform free\", 32], [\"where can you find the information about the diabetes treatment over the internet ?\", \"suppli find test inform free\", 32], [\"if you have a six month old baby - had gestational diabetes with that pregnancy - and just found out that you are pregnant again is it safe to stay pregnant ?\", \"suppli find test inform free\", 32], [\"diabetic supplies medicare ?\", \"suppli find test inform free\", 32], [\"where can one purchase diabetes supplies online ?\", \"suppli find test inform free\", 32], [\"where can i find out more about diabetic testing supplies ?\", \"suppli find test inform free\", 32], [\"where can i find information and advice on diabetes nutrition ?\", \"suppli find test inform free\", 32], [\"how much fat and how much sugar daily for a diabetic ?\", \"suppli find test inform free\", 32], [\"what are the chances i will be able to carry my baby to term if i am diabetic ?\", \"suppli find test inform free\", 32], [\"what precaution is needed for diabetic patients on nalidixic acid ?\", \"suppli find test inform free\", 32], [\"serve diabetes food at childrens parties ?\", \"suppli find test inform free\", 32], [\"what website is the best at finding diabetic supplies ?\", \"suppli find test inform free\", 32], [\"where can i find diabetic testing supplies to ensure that i am maintaining normal glucose levels ?\", \"suppli find test inform free\", 32], [\"what are some side effects of standard diabetes medicine ?\", \"suppli find test inform free\", 32], [\"where can i find advice and information on non diabetic neuropathy ?\", \"suppli find test inform free\", 32], [\"is there a chart that shows foods that are high in protein online ?\", \"suppli find test inform free\", 32], [\"what exactly are diabetic supplies ?\", \"suppli find test inform free\", 32], [\"medicare diabetic supplies ?\", \"suppli find test inform free\", 32], [\"where can i find and purchase diabetes testing supplies ?\", \"suppli find test inform free\", 32], [\"why might your 8-year-old lose twelve pounds in two weeks and not want to eat much ?\", \"suppli find test inform free\", 32]], \"hovertemplate\": \"summary=%{customdata[1]}<br>pc_1=%{x}<br>pc_2=%{y}<br>pc_3=%{z}<br>sentence=%{customdata[0]}<br>label=%{customdata[2]}<extra></extra>\", \"legendgroup\": \"suppli find test inform free\", \"marker\": {\"color\": \"#FF97FF\", \"size\": 8, \"symbol\": \"circle\"}, \"mode\": \"markers\", \"name\": \"suppli find test inform free\", \"scene\": \"scene\", \"showlegend\": true, \"type\": \"scatter3d\", \"x\": [-0.23649351298809052, -0.2562195062637329, -0.25895920395851135, -0.28662925958633423, -0.2853401303291321, -0.23408135771751404, -0.2700127363204956, -0.2813672125339508, -0.3086026906967163, -0.2669142186641693, -0.22560949623584747, -0.23841644823551178, -0.21658028662204742, -0.25820299983024597, -0.20899957418441772, -0.2760699987411499, -0.2807612419128418, -0.2584208548069, -0.23862558603286743, -0.2797878086566925, -0.313321590423584, -0.3129144012928009, -0.2924309968948364, -0.2714967727661133, -0.21161483228206635, -0.314075767993927, -0.27001985907554626, -0.2549709677696228, -0.26238304376602173, -0.2891009449958801], \"y\": [0.050031039863824844, 0.11489731073379517, 0.11698885262012482, 0.11873424798250198, 0.05250527709722519, 0.09549134969711304, 0.07647760212421417, 0.11589963734149933, 0.00471431715413928, 0.07731951028108597, 0.02325265482068062, 0.08389417082071304, 0.10585004836320877, 0.10609029233455658, 0.0014032799517735839, 0.07919514179229736, 0.06756636500358582, 0.11659377068281174, 0.05714184045791626, 0.0808427557349205, 0.01164538785815239, 0.005751424003392458, 0.06160430610179901, 0.08512969315052032, -0.00012682803208008409, 0.031543996185064316, 0.06422657519578934, 0.09985708445310593, 0.08837161958217621, 0.03224553167819977], \"z\": [0.2971188724040985, 0.23058493435382843, 0.18609531223773956, 0.3220956325531006, 0.2022552639245987, 0.311848908662796, 0.24831640720367432, 0.3053514361381531, 0.30111536383628845, 0.2602427005767822, 0.2058887481689453, 0.2067859023809433, 0.315779447555542, 0.18203207850456238, 0.21325981616973877, 0.2903403043746948, 0.31773585081100464, 0.17961236834526062, 0.2960726022720337, 0.29682525992393494, 0.3142366409301758, 0.30847787857055664, 0.3246835470199585, 0.1815805733203888, 0.211035817861557, 0.32376739382743835, 0.24798640608787537, 0.18547941744327545, 0.2526260316371918, 0.19831649959087372]}, {\"customdata\": [[\"what kinds of fruit can a diabetic eat ?\", \"sugar eat food good fruit\", 29], [\"what food do i need to avoid as a diabetic ?\", \"sugar eat food good fruit\", 29], [\"what carbohydrates can a diabetic eat ?\", \"sugar eat food good fruit\", 29], [\"why would cheese help lower sugar levels in a diabetic ?\", \"sugar eat food good fruit\", 29], [\"is there any way to monitor blood sugar levels without using a needle to draw blood ?\", \"sugar eat food good fruit\", 29], [\"what benefit is low carbon sugar is it helpful in the management of diabetes ?\", \"sugar eat food good fruit\", 29], [\"what does food for diabetics need ?\", \"sugar eat food good fruit\", 29], [\"what kind of juice is good for a diabetic ?\", \"sugar eat food good fruit\", 29], [\"what diabetics should not eat ?\", \"sugar eat food good fruit\", 29], [\"what are good carbohydrates for diabetics ?\", \"sugar eat food good fruit\", 29], [\"maintaining blood sugar levels ?\", \"sugar eat food good fruit\", 29], [\"what fruit is good with diabetes ?\", \"sugar eat food good fruit\", 29], [\"why fructose taste sweeter than glucose ?\", \"sugar eat food good fruit\", 29], [\"can sixty five year old diabetic eat walnuts and almonds ?\", \"sugar eat food good fruit\", 29], [\"is fructose better than granulated sugar for diabetics ?\", \"sugar eat food good fruit\", 29], [\"how much sugar should diabetics eat ?\", \"sugar eat food good fruit\", 29], [\"what should a diabetics carbohydrate intake be ?\", \"sugar eat food good fruit\", 29], [\"do you have a list of low purine foods ?\", \"sugar eat food good fruit\", 29], [\"is v8 juice good for diabetics ?\", \"sugar eat food good fruit\", 29], [\"how much sugar is safe for a juvenile diabetic ?\", \"sugar eat food good fruit\", 29], [\"is fruit very high in sugars ?\", \"sugar eat food good fruit\", 29], [\"how many carbs should you have as a diabetic ?\", \"sugar eat food good fruit\", 29], [\"should a diabetic not eat fruit ?\", \"sugar eat food good fruit\", 29], [\"why are diabetics not allowed to eat food which contains sugar ?\", \"sugar eat food good fruit\", 29], [\"when should diabetic eat ?\", \"sugar eat food good fruit\", 29], [\"what to do when diabetic wants food not good for them ?\", \"sugar eat food good fruit\", 29], [\"which nuts and beans can eat for diabetic person ?\", \"sugar eat food good fruit\", 29], [\"what herbs may help adjust blood sugar levels ?\", \"sugar eat food good fruit\", 29], [\"is one thousand high for glucose reading ?\", \"sugar eat food good fruit\", 29], [\"do diabetes sufferers develop a short temper ?\", \"sugar eat food good fruit\", 29], [\"should diabetics eat sugar in large amounts or in moderation ?\", \"sugar eat food good fruit\", 29], [\"what should your sugar be not diabetic ?\", \"sugar eat food good fruit\", 29]], \"hovertemplate\": \"summary=%{customdata[1]}<br>pc_1=%{x}<br>pc_2=%{y}<br>pc_3=%{z}<br>sentence=%{customdata[0]}<br>label=%{customdata[2]}<extra></extra>\", \"legendgroup\": \"sugar eat food good fruit\", \"marker\": {\"color\": \"#FECB52\", \"size\": 8, \"symbol\": \"circle\"}, \"mode\": \"markers\", \"name\": \"sugar eat food good fruit\", \"scene\": \"scene\", \"showlegend\": true, \"type\": \"scatter3d\", \"x\": [-0.14481106400489807, -0.15304043889045715, -0.08594294637441635, -0.03230033814907074, -0.08224659413099289, -0.1095946654677391, -0.11276789754629135, -0.05324790999293327, -0.10774349421262741, -0.08516450971364975, -0.15721233189105988, -0.13235962390899658, -0.13603618741035461, -0.0860869437456131, -0.07250671088695526, -0.12647132575511932, -0.15994054079055786, -0.10244348645210266, -0.09972144663333893, -0.15329758822917938, -0.08742786943912506, -0.12513363361358643, -0.11246494948863983, -0.005742672365158796, -0.06183928623795509, -0.08631674200296402, -0.10163432359695435, -0.15873415768146515, -0.08424941450357437, -0.04659081995487213, -0.12103927880525589, -0.08861534297466278], \"y\": [-0.3374422788619995, -0.3523910343647003, -0.4798525273799896, -0.4369344711303711, -0.47456449270248413, -0.47762492299079895, -0.4600871503353119, -0.47784706950187683, -0.4606592357158661, -0.4620126187801361, -0.4174139201641083, -0.3363151252269745, -0.4052486717700958, -0.3609684109687805, -0.461856871843338, -0.45310139656066895, -0.475756973028183, -0.36431998014450073, -0.40283575654029846, -0.3537338674068451, -0.45700836181640625, -0.45674386620521545, -0.332511305809021, -0.41200870275497437, -0.3695050776004791, -0.3556501269340515, -0.396770179271698, -0.48209911584854126, -0.47028595209121704, -0.48224806785583496, -0.3505091071128845, -0.4842478930950165], \"z\": [0.6547518968582153, 0.6867453455924988, 0.6895128488540649, 0.647527813911438, 0.6714150309562683, 0.6805099248886108, 0.5715503692626953, 0.6490381360054016, 0.5720182061195374, 0.5961600542068481, 0.5632310509681702, 0.6212812066078186, 0.5900552272796631, 0.5773599743843079, 0.6425333619117737, 0.5745977163314819, 0.6304718255996704, 0.5869494080543518, 0.6326228380203247, 0.6871181130409241, 0.6631490588188171, 0.5707286596298218, 0.5818359851837158, 0.6549820303916931, 0.5470199584960938, 0.5729556679725647, 0.6269775032997131, 0.6417800784111023, 0.663640558719635, 0.6417974233627319, 0.6096636056900024, 0.6883935928344727]}, {\"customdata\": [[\"where should insulin be stored ?\", \"insulin use bacteria produc made\", 6], [\"who invented insulin ?\", \"insulin use bacteria produc made\", 6], [\"what hormone produces excessive diuresis without high blood glucose levels ?\", \"insulin use bacteria produc made\", 6], [\"why are bacteria used to make human insulin ?\", \"insulin use bacteria produc made\", 6], [\"what hormone is produced in inadequate amounts for sexual immaturity ?\", \"insulin use bacteria produc made\", 6], [\"where is the energy stored in glucose ?\", \"insulin use bacteria produc made\", 6], [\"what is diabetic keto acidosis ?\", \"insulin use bacteria produc made\", 6], [\"what hormone produced in inadequate amounts causes excessive diuresis without high blood glucose levels ?\", \"insulin use bacteria produc made\", 6], [\"why can not you use the same lancet twice ?\", \"insulin use bacteria produc made\", 6], [\"where is this energy stored in glucose ?\", \"insulin use bacteria produc made\", 6], [\"many diabetics are now using insulin that was made by certain bacteria the ability of these bacteria to produce insulin was most likely the result of ?\", \"insulin use bacteria produc made\", 6], [\"ability of bacteria to produce insulin was result of ?\", \"insulin use bacteria produc made\", 6], [\"what process results in genetically different bacteria ?\", \"insulin use bacteria produc made\", 6], [\"how is serum insulin made ?\", \"insulin use bacteria produc made\", 6], [\"who invented insulin for diabetes ?\", \"insulin use bacteria produc made\", 6], [\"you accidentally had one seroquel not sure what mg with a beer and it made you black out what permanent or long term affects will this one pill have on your body ?\", \"insulin use bacteria produc made\", 6], [\"what is recombinant human insulin ?\", \"insulin use bacteria produc made\", 6], [\"explain how a person with diabetes might benefit from the use of genetic engineering in bacteria ?\", \"insulin use bacteria produc made\", 6], [\"what is the latest research into diabetes type one ?\", \"insulin use bacteria produc made\", 6], [\"uncorrected type i diabetes mellitus may result in ?\", \"insulin use bacteria produc made\", 6], [\"who is the inventor of insulin ?\", \"insulin use bacteria produc made\", 6], [\"why are bacteria used to produce insulin ?\", \"insulin use bacteria produc made\", 6], [\"how is genetically engineered insulin made ?\", \"insulin use bacteria produc made\", 6], [\"who created insulin ?\", \"insulin use bacteria produc made\", 6], [\"what is the insulin used for dm1 patients ?\", \"insulin use bacteria produc made\", 6], [\"what three features does diabetic ketoacidosis combine ?\", \"insulin use bacteria produc made\", 6], [\"how does diabetes affect homeostasis ?\", \"insulin use bacteria produc made\", 6], [\"why metaformin tablets as well as insulin injections ?\", \"insulin use bacteria produc made\", 6], [\"why is it important that urea be removed from diabetic patients ?\", \"insulin use bacteria produc made\", 6], [\"where did best and banting get the insulin from ?\", \"insulin use bacteria produc made\", 6], [\"how was insulin made ?\", \"insulin use bacteria produc made\", 6], [\"why can not use the same lancet twice ?\", \"insulin use bacteria produc made\", 6], [\"what cardiac and antihypertensives are contraindicated in people with diabetes ?\", \"insulin use bacteria produc made\", 6], [\"when was insulin first used ?\", \"insulin use bacteria produc made\", 6], [\"who invented the insulin pump ?\", \"insulin use bacteria produc made\", 6], [\"why use insulin pump ?\", \"insulin use bacteria produc made\", 6], [\"what is kosher insulin ?\", \"insulin use bacteria produc made\", 6], [\"in what year was insulin first used to treat diabetes ?\", \"insulin use bacteria produc made\", 6], [\"insulin produced by bacteria ?\", \"insulin use bacteria produc made\", 6], [\"ability of bacteria to produce insulin ?\", \"insulin use bacteria produc made\", 6], [\"how can genetic engineering be used to treat diabetes ?\", \"insulin use bacteria produc made\", 6], [\"what are the different types of insulin currently available for diabetes patients ?\", \"insulin use bacteria produc made\", 6], [\"when was diabetes discovered and by whom ?\", \"insulin use bacteria produc made\", 6]], \"hovertemplate\": \"summary=%{customdata[1]}<br>pc_1=%{x}<br>pc_2=%{y}<br>pc_3=%{z}<br>sentence=%{customdata[0]}<br>label=%{customdata[2]}<extra></extra>\", \"legendgroup\": \"insulin use bacteria produc made\", \"marker\": {\"color\": \"#636efa\", \"size\": 8, \"symbol\": \"circle\"}, \"mode\": \"markers\", \"name\": \"insulin use bacteria produc made\", \"scene\": \"scene\", \"showlegend\": true, \"type\": \"scatter3d\", \"x\": [-0.511283278465271, -0.37206920981407166, -0.44903838634490967, -0.4349908232688904, -0.3754796087741852, -0.41501718759536743, -0.450731098651886, -0.44209957122802734, -0.4573041498661041, -0.459084689617157, -0.46629682183265686, -0.39564019441604614, -0.4142496883869171, -0.44792717695236206, -0.4026634693145752, -0.46904921531677246, -0.4138908386230469, -0.3661264181137085, -0.46729350090026855, -0.3484753370285034, -0.43344414234161377, -0.4302564561367035, -0.3555692732334137, -0.4669346809387207, -0.36644241213798523, -0.4334079325199127, -0.3615349233150482, -0.3499186038970947, -0.37574777007102966, -0.4240729510784149, -0.4672901928424835, -0.45293012261390686, -0.3835858702659607, -0.4367996156215668, -0.42709723114967346, -0.4330211579799652, -0.37138769030570984, -0.46178314089775085, -0.4505870044231415, -0.37741437554359436, -0.3815170228481293, -0.39647385478019714, -0.40437793731689453], \"y\": [0.2776120603084564, 0.30736443400382996, 0.2793220281600952, 0.24292364716529846, 0.2625712454319, 0.26390910148620605, 0.3139045834541321, 0.28957387804985046, 0.21252381801605225, 0.2859833538532257, 0.3071736693382263, 0.34845003485679626, 0.24196092784404755, 0.28772857785224915, 0.3735312223434448, 0.36291491985321045, 0.2330876588821411, 0.2744353115558624, 0.314245343208313, 0.25302955508232117, 0.29559504985809326, 0.2708560526371002, 0.26041579246520996, 0.3608231544494629, 0.30815446376800537, 0.3404828906059265, 0.38350820541381836, 0.37530311942100525, 0.28629156947135925, 0.28195303678512573, 0.3099048137664795, 0.21808604896068573, 0.2903124988079071, 0.34187042713165283, 0.29698947072029114, 0.24157093465328217, 0.29813286662101746, 0.36211854219436646, 0.2913956046104431, 0.36856430768966675, 0.3583683669567108, 0.33620578050613403, 0.3704138696193695], \"z\": [-0.1537007987499237, -0.09099019318819046, -0.22166842222213745, -0.19249294698238373, -0.14269745349884033, -0.15250886976718903, -0.26784253120422363, -0.24737632274627686, -0.19930298626422882, -0.17251917719841003, -0.20698340237140656, -0.18169741332530975, -0.16680146753787994, -0.2500193417072296, -0.1220940500497818, -0.15802563726902008, -0.16597703099250793, -0.13674019277095795, -0.2141352742910385, -0.1498403549194336, -0.06796849519014359, -0.20098446309566498, -0.1327899843454361, -0.1631634384393692, -0.1341336965560913, -0.18221145868301392, -0.18939143419265747, -0.25545698404312134, -0.09920593351125717, -0.11488829553127289, -0.22181390225887299, -0.1966644525527954, -0.09654200077056885, -0.1901124119758606, -0.06959076970815659, -0.18939074873924255, -0.1346384435892105, -0.14578202366828918, -0.2382943481206894, -0.17870941758155823, -0.18678610026836395, -0.190312922000885, -0.10233896970748901]}, {\"customdata\": [[\"diabetic friendly foods ?\", \"food diet good eat avoid\", 0], [\"what foods are safe for diabetic dogs ?\", \"food diet good eat avoid\", 0], [\"what foods should diabetic people avoid ?\", \"food diet good eat avoid\", 0], [\"if you are diabetic what foods should you absolutely avoid ?\", \"food diet good eat avoid\", 0], [\"people eat all these food that they think will be beneficial for them but they do not think about what they are eating . ?\", \"food diet good eat avoid\", 0], [\"what are some diabetic foods and can they be found in any store ?\", \"food diet good eat avoid\", 0], [\"what items can diabetic persons eat ?\", \"food diet good eat avoid\", 0], [\"what foods should diabetes avoid besides sugar ?\", \"food diet good eat avoid\", 0], [\"diabetic food ?\", \"food diet good eat avoid\", 0], [\"where can i buy a diabetic cookbook ?\", \"food diet good eat avoid\", 0], [\"is dextrose safe for a diabetic ?\", \"food diet good eat avoid\", 0], [\"what is a good food guide for diabetics ?\", \"food diet good eat avoid\", 0], [\"what kind of diet would a person with diabetes have ?\", \"food diet good eat avoid\", 0], [\"what foods should a diabetic not have ?\", \"food diet good eat avoid\", 0], [\"what are good diets for people with diabetes ?\", \"food diet good eat avoid\", 0], [\"for dietary health , is there a site that offers help with diabetic diet plans ?\", \"food diet good eat avoid\", 0], [\"what types of foods do i need to add to my diet if i am diabetic ?\", \"food diet good eat avoid\", 0], [\"what are the foods a diabetic can eat ?\", \"food diet good eat avoid\", 0], [\"what are some foods for a diabetic ?\", \"food diet good eat avoid\", 0], [\"what is the best diet for a person with diabetes ?\", \"food diet good eat avoid\", 0], [\"where do they sell diabetic foods in rhode island ?\", \"food diet good eat avoid\", 0], [\"what is the recommended carbohydrate intake for a type one diabetic ?\", \"food diet good eat avoid\", 0], [\"what can i eat in a diabetic diet ?\", \"food diet good eat avoid\", 0], [\"what is a good diabetic weight loss diet plan ?\", \"food diet good eat avoid\", 0], [\"diabetic foods to eat low fat , good carbs ?\", \"food diet good eat avoid\", 0], [\"what types of food are recommended to be avoided when on a diabetic diet ?\", \"food diet good eat avoid\", 0], [\"what kinds of food can one eat when on a diabetic diet ?\", \"food diet good eat avoid\", 0], [\"what can you eat in diabetic diet ?\", \"food diet good eat avoid\", 0], [\"what is the best diet for diabetics ?\", \"food diet good eat avoid\", 0], [\"what is the best diet for a diabetic ?\", \"food diet good eat avoid\", 0], [\"what is a diabetic safe diet i can eat ?\", \"food diet good eat avoid\", 0], [\"is gluten free good for diabetics ?\", \"food diet good eat avoid\", 0], [\"how is the diet for type one diabetes different from the diet for someone without diabetes ?\", \"food diet good eat avoid\", 0], [\"can diabetic eat persimmon ?\", \"food diet good eat avoid\", 0], [\"diets for diabetics ?\", \"food diet good eat avoid\", 0], [\"gud or white sugar which is bettter for a diabetic ?\", \"food diet good eat avoid\", 0], [\"what is involved in a diabetic diet ?\", \"food diet good eat avoid\", 0], [\"what is the best type of diet for someone who has type-2 diabetes ?\", \"food diet good eat avoid\", 0], [\"what are some of the food diabetic people should avoid ?\", \"food diet good eat avoid\", 0], [\"is there a list of food diabetics can not eat online ?\", \"food diet good eat avoid\", 0], [\"what are some good diabetic diet foods ?\", \"food diet good eat avoid\", 0], [\"which chocolate is the best to buy for someone who is diabetic ?\", \"food diet good eat avoid\", 0], [\"what is a diabetic nutrition guide and what does it have on it ?\", \"food diet good eat avoid\", 0], [\"what else does metformin do besides lower glucose levels ?\", \"food diet good eat avoid\", 0], [\"what bread is healthiest for diabetics ?\", \"food diet good eat avoid\", 0], [\"the key to a diabetic diet ?\", \"food diet good eat avoid\", 0], [\"what are good foods for diabetics ?\", \"food diet good eat avoid\", 0], [\"does whole foods store sell healthy foods for diabetics ?\", \"food diet good eat avoid\", 0], [\"what are some good diets for diabetic people ?\", \"food diet good eat avoid\", 0], [\"what foods should a diabetic eat ?\", \"food diet good eat avoid\", 0], [\"what are some good diets for someone with diabetes ?\", \"food diet good eat avoid\", 0], [\"which fruit is good for a diabetic diet ?\", \"food diet good eat avoid\", 0], [\"what types of foods are listed as diabetic and what type of non diabetic foods can you buy ?\", \"food diet good eat avoid\", 0], [\"what is a good diet that a diabetic should try ?\", \"food diet good eat avoid\", 0], [\"insulin-dependent diabetics depend upon what microorganisms ?\", \"food diet good eat avoid\", 0], [\"are most diabetic snacks sugar free ?\", \"food diet good eat avoid\", 0], [\"are diabetic diets safe to follow ?\", \"food diet good eat avoid\", 0], [\"where can information on `` no sugar '' diets be found ?\", \"food diet good eat avoid\", 0], [\"what are the dietary restrictions for diabetics ?\", \"food diet good eat avoid\", 0], [\"what is a good diabetes cookbook ?\", \"food diet good eat avoid\", 0], [\"are the foods good for type one diabetics also good for the type two is ?\", \"food diet good eat avoid\", 0], [\"what are foods for a diabetic to avoid ?\", \"food diet good eat avoid\", 0], [\"what kind of foods do diabetics need in their diets ?\", \"food diet good eat avoid\", 0], [\"what is the diabetic diet and does it really work ?\", \"food diet good eat avoid\", 0], [\"what are the best diets for diabetic ?\", \"food diet good eat avoid\", 0], [\"what is the best diet for diabetic ?\", \"food diet good eat avoid\", 0], [\"can you recommend a standard diet plan on the market that works well for diabetics ?\", \"food diet good eat avoid\", 0], [\"what diets can diabetics use daily ?\", \"food diet good eat avoid\", 0], [\"what snacks can a type two diabetics eat ?\", \"food diet good eat avoid\", 0], [\"what snacks are good for diabetics ?\", \"food diet good eat avoid\", 0], [\"are diabetic cookbooks expensive ?\", \"food diet good eat avoid\", 0], [\"what vegetables can a diabetic eat ?\", \"food diet good eat avoid\", 0], [\"what are the foods diabetics need to avoid ?\", \"food diet good eat avoid\", 0], [\"what are some foods diabetics should not eat ?\", \"food diet good eat avoid\", 0], [\"what foods should diabetics eat and avoid ?\", \"food diet good eat avoid\", 0], [\"what is the best cereal for type two diabetes ?\", \"food diet good eat avoid\", 0], [\"what is a good list of foods a diabetic should avoid ?\", \"food diet good eat avoid\", 0], [\"what are good foods for a diabetic ?\", \"food diet good eat avoid\", 0], [\"what is the best diet plan for diabetics ?\", \"food diet good eat avoid\", 0], [\"are there diets safe for diabetics ?\", \"food diet good eat avoid\", 0], [\"is protandim good for diabetes ?\", \"food diet good eat avoid\", 0], [\"what should a diabetic avoid to eat ?\", \"food diet good eat avoid\", 0], [\"what kind of food can a dog with diabetes eat ?\", \"food diet good eat avoid\", 0], [\"what is a good diabetes meal plan ?\", \"food diet good eat avoid\", 0], [\"what are some diets for young diabetic men ?\", \"food diet good eat avoid\", 0], [\"if you are diabetic what foods should you avoid ?\", \"food diet good eat avoid\", 0], [\"what foods should you avoid if you are diabetic ?\", \"food diet good eat avoid\", 0], [\"are there any cereals for diabetics with lower levels of sugar in them ?\", \"food diet good eat avoid\", 0], [\"is a diabetic diet good for someone who is not diabetic ?\", \"food diet good eat avoid\", 0], [\"what foods should you stay away from if you have diabetes ?\", \"food diet good eat avoid\", 0], [\"what are some good diabetic foods ?\", \"food diet good eat avoid\", 0], [\"what is a good diet for one who is diabetic ?\", \"food diet good eat avoid\", 0], [\"can you buy diabetic products from pharmacies ?\", \"food diet good eat avoid\", 0], [\"is sugar free foods bad for diabetics ?\", \"food diet good eat avoid\", 0], [\"where can i get a good diabetic cookbook ?\", \"food diet good eat avoid\", 0], [\"food for diabetics ?\", \"food diet good eat avoid\", 0], [\"what are some good diets ?\", \"food diet good eat avoid\", 0], [\"what are diets for diabetics like ?\", \"food diet good eat avoid\", 0], [\"what would be a good diabetic diet for someone with diabetes ?\", \"food diet good eat avoid\", 0], [\"create a personal diabetic food list ?\", \"food diet good eat avoid\", 0], [\"where can i buy a diabetic pump ?\", \"food diet good eat avoid\", 0], [\"what is a good diabetic food guide ?\", \"food diet good eat avoid\", 0], [\"what are good foods for those with diabetes ?\", \"food diet good eat avoid\", 0], [\"what type of cereal can diabetics eat ?\", \"food diet good eat avoid\", 0], [\"can a diabetic eat mashed potatoes ?\", \"food diet good eat avoid\", 0], [\"is it safe for someone without diabetes to follow a diabetics diet ?\", \"food diet good eat avoid\", 0], [\"if you have diabetes is it best to stay away form starchy foods or eat more of them ?\", \"food diet good eat avoid\", 0], [\"what foods are not allowed on a diabetic food list ?\", \"food diet good eat avoid\", 0], [\"what are some foods to help diabetics control glucose levels ?\", \"food diet good eat avoid\", 0], [\"are melons and watermelons not safe fruits for diabetic ?\", \"food diet good eat avoid\", 0]], \"hovertemplate\": \"summary=%{customdata[1]}<br>pc_1=%{x}<br>pc_2=%{y}<br>pc_3=%{z}<br>sentence=%{customdata[0]}<br>label=%{customdata[2]}<extra></extra>\", \"legendgroup\": \"food diet good eat avoid\", \"marker\": {\"color\": \"#EF553B\", \"size\": 8, \"symbol\": \"circle\"}, \"mode\": \"markers\", \"name\": \"food diet good eat avoid\", \"scene\": \"scene\", \"showlegend\": true, \"type\": \"scatter3d\", \"x\": [-0.1634330004453659, 0.050877101719379425, -0.035616807639598846, 0.05346331372857094, 0.14416253566741943, -0.09702948480844498, 0.011042599566280842, -0.026781227439641953, -0.03707759082317352, -0.0607234463095665, -0.0812142938375473, 0.024060985073447227, -0.03449937701225281, -0.03406757488846779, 0.07119632512331009, 0.05562841519713402, 0.07081936299800873, -0.03082810528576374, -0.1307382732629776, 0.060104966163635254, -0.14276480674743652, -0.001109567703679204, 0.009032255038619041, 0.13359254598617554, 0.01878705434501171, -0.08674518018960953, -0.09574921429157257, -0.00975910946726799, 0.015839703381061554, 0.01936156116425991, 0.021517662331461906, 0.06646943092346191, -0.04532807692885399, -0.07597824931144714, 0.08630751073360443, -0.16621817648410797, -0.09150662273168564, -0.04669509828090668, -0.024425750598311424, 0.05142107233405113, -0.048729877918958664, 0.07337155193090439, -0.08738356083631516, -0.09388335794210434, -0.11802590638399124, 0.02945367619395256, -0.024346480146050453, -0.10374675691127777, 0.03254891186952591, -0.10411787778139114, 0.001219874364323914, 0.08120530098676682, -0.08011559396982193, 0.09121642261743546, -0.0941629707813263, -0.08718167990446091, 0.049936696887016296, -0.008165428414940834, 0.04810477793216705, -0.05238322168588638, 0.06058654561638832, -0.032604314386844635, -0.03002440556883812, -0.019151395186781883, -0.008070460520684719, -0.021564636379480362, 0.055663302540779114, 0.054367683827877045, 0.05789980664849281, 0.01825091987848282, -0.09077885001897812, -0.12245089560747147, -0.015658043324947357, -0.04158444330096245, -0.02436659298837185, 0.0017402900848537683, -0.03627147525548935, -0.03845008835196495, 0.05089610069990158, 0.09757570177316666, -0.043947733938694, 0.09155155718326569, 0.10472230613231659, 0.06513826549053192, -0.023272983729839325, -0.04883292317390442, -0.060648079961538315, 0.05170336738228798, 0.09420294314622879, -0.13211187720298767, -0.07232106477022171, -0.011071788147091866, 0.027728227898478508, 0.08582812547683716, -0.03598650544881821, 0.07121465355157852, 0.01873423345386982, 0.0314970463514328, 0.0608641542494297, -0.1518622189760208, -0.003123094094917178, -0.016819674521684647, -0.0828460305929184, 0.08939187973737717, 0.011000322178006172, 0.050696246325969696, -0.061636850237846375, -0.15959392488002777, -0.1601817011833191, 0.02288021706044674], \"y\": [0.05190669000148773, 0.13557304441928864, -0.008781146258115768, 0.1373809576034546, 0.1924103945493698, 0.025280918926000595, -0.025037335231900215, -0.045609891414642334, -0.029824569821357727, 0.046458981931209564, -0.010610188357532024, 0.07231972366571426, -0.11195242404937744, -0.037222325801849365, 0.07247429341077805, 0.16283899545669556, 0.15615157783031464, 0.10688570886850357, 0.10026170313358307, 0.09523223340511322, 0.037651095539331436, 0.11737605184316635, 0.13508380949497223, 0.20607218146324158, 0.0181888397783041, 0.1709262579679489, 0.10547169297933578, 0.12635481357574463, 0.0904921144247055, 0.10310418903827667, 0.11922275274991989, 0.09609761834144592, -0.03226355090737343, -0.00583373848348856, 0.028189850971102715, 0.011748275719583035, -0.005377758294343948, -0.07574691623449326, 0.02537647821009159, 0.1501903086900711, 0.134576216340065, -0.02405991405248642, -0.03506886959075928, -0.1020718589425087, -0.060025300830602646, 0.1878315806388855, 0.027004439383745193, 0.039948634803295135, 0.0720357671380043, -0.021865364164114, 0.10169167816638947, 0.08352789282798767, -0.10931665450334549, 0.17943455278873444, -0.09385764598846436, 0.15991239249706268, 0.20470856130123138, 0.10545965284109116, 0.014562136493623257, -0.046156272292137146, -0.02098851092159748, 0.016000105068087578, -0.05116402730345726, 0.05086906999349594, -0.00871834997087717, 0.03681259974837303, 0.16331104934215546, 0.21344278752803802, -0.04460705444216728, -0.030208120122551918, -0.030880549922585487, -0.04724039137363434, 0.015000236220657825, -0.009141101501882076, -0.0019220056710764766, 0.1030571237206459, -0.006380490958690643, 0.0008233924163505435, 0.14178210496902466, 0.05702553689479828, -0.04708264768123627, -0.04092815890908241, 0.1921379417181015, 0.15370343625545502, 0.0616956502199173, 0.10480979830026627, 0.10000379383563995, 0.09532984346151352, 0.0180807001888752, 0.10246163606643677, 0.029646988958120346, 0.030796978622674942, 0.15174704790115356, -0.023580284789204597, 0.12464695423841476, 0.009739544242620468, 0.13154175877571106, 0.014517444185912609, 0.040480345487594604, 0.04445429891347885, -0.01569381356239319, 0.06730552762746811, 0.10486279428005219, -0.031114201992750168, -0.06566811352968216, 0.23380936682224274, 0.12117660045623779, -0.011168736033141613, 0.0635751336812973, 0.1378317028284073], \"z\": [0.9210793972015381, 0.7909190058708191, 0.7511913776397705, 0.7203590869903564, 0.7551184296607971, 0.9346867799758911, 0.8827499151229858, 0.7978710532188416, 0.7640944719314575, 0.9010730385780334, 0.8500606417655945, 0.8432900309562683, 0.7446892857551575, 0.8935208320617676, 0.7425251603126526, 0.7879047393798828, 0.7112603187561035, 0.7304260730743408, 0.8979907631874084, 0.6966661214828491, 0.9460328817367554, 0.6903823018074036, 0.6758577227592468, 0.7531023025512695, 0.7986606955528259, 0.7607372999191284, 0.7393325567245483, 0.7404195666313171, 0.7637860178947449, 0.7346713542938232, 0.6539228558540344, 0.7015941143035889, 0.7328142523765564, 0.9161961674690247, 0.7564473152160645, 0.9112581014633179, 0.869999885559082, 0.7123126983642578, 0.8033157587051392, 0.7953925132751465, 0.836127519607544, 0.8570689558982849, 0.9648299217224121, 0.7948819994926453, 0.8153898119926453, 0.6524398326873779, 0.8130229115486145, 0.930255115032196, 0.8291422128677368, 0.8391663432121277, 0.7023328542709351, 0.6885021924972534, 0.7790318727493286, 0.7451394200325012, 0.794643223285675, 0.7660137414932251, 0.6742342710494995, 0.7080578804016113, 0.7468711137771606, 0.7114177942276001, 0.7538158297538757, 0.7695017457008362, 0.9051936268806458, 0.8010132908821106, 0.8964360952377319, 0.8780691623687744, 0.7970951199531555, 0.67283034324646, 0.7532835602760315, 0.8773573637008667, 0.9675202369689941, 0.8176831007003784, 0.7809443473815918, 0.8869335055351257, 0.8155386447906494, 0.7247479557991028, 0.8407994508743286, 0.8575057983398438, 0.7672141194343567, 0.7672207355499268, 0.7364644408226013, 0.7982381582260132, 0.7506152987480164, 0.7055190205574036, 0.881070613861084, 0.7231194972991943, 0.7381091713905334, 0.820557713508606, 0.7515656352043152, 0.8997287750244141, 0.8909545540809631, 0.8027375936508179, 0.6873719096183777, 0.7948029637336731, 0.8403568267822266, 0.7582752704620361, 0.6622726917266846, 0.7295945286750793, 0.7529264688491821, 0.9341391921043396, 0.904176652431488, 0.8741204738616943, 0.7624242305755615, 0.798686146736145, 0.8974351286888123, 0.6598032712936401, 0.7794784307479858, 0.8874498605728149, 0.9231288433074951, 0.6834530830383301]}, {\"customdata\": [[\"can a diabetic drink slim fast with 18g of sugar ?\", \"sugar type insulin good blood\", 14], [\"can shark meat increase blood sugar ?\", \"sugar type insulin good blood\", 14], [\"is there diabetic ramen noodles ?\", \"sugar type insulin good blood\", 14], [\"is lambrusco wine also good for diabetes ?\", \"sugar type insulin good blood\", 14], [\"can type two diabetics drink milo ?\", \"sugar type insulin good blood\", 14], [\"is diabetes treatable ?\", \"sugar type insulin good blood\", 14], [\"did lil boosie die from a diabetic coma ?\", \"sugar type insulin good blood\", 14], [\"can non-insulin dependent diabetes mellitus cause chronic kidney failure ?\", \"sugar type insulin good blood\", 14], [\"is it ok to smoke marijuana with diabetes ?\", \"sugar type insulin good blood\", 14], [\"is diabetes an organism ?\", \"sugar type insulin good blood\", 14], [\"statin drugs raise glucose levels ?\", \"sugar type insulin good blood\", 14], [\"can cna shave diabetic ?\", \"sugar type insulin good blood\", 14], [\"is eating peanut butter and graham crackers a good snack for a type one diabetic ?\", \"sugar type insulin good blood\", 14], [\"does fentanyl patch raise blood sugar ?\", \"sugar type insulin good blood\", 14], [\"are peanuts okay for diabetics ?\", \"sugar type insulin good blood\", 14], [\"can you have hypoglycemia without diabetes ?\", \"sugar type insulin good blood\", 14], [\"does atorvastatin and ramipril affect oral glucose tolerance tests ?\", \"sugar type insulin good blood\", 14], [\"oral medications for diabetes ?\", \"sugar type insulin good blood\", 14], [\"is papaya good fro diabetic patient ?\", \"sugar type insulin good blood\", 14], [\"how can diabetics increase their insulin levels ?\", \"sugar type insulin good blood\", 14], [\"is diabetes a race of mankind ?\", \"sugar type insulin good blood\", 14], [\"do most type ii diabetics do not produce insulin ?\", \"sugar type insulin good blood\", 14], [\"is type ii diabetes capitalized ?\", \"sugar type insulin good blood\", 14], [\"can stress trigger diabetes mellitus ?\", \"sugar type insulin good blood\", 14], [\"can talking give you diabetes ?\", \"sugar type insulin good blood\", 14], [\"can fava beans to cause diabetes ?\", \"sugar type insulin good blood\", 14], [\"will shrimp rise blood sugar ?\", \"sugar type insulin good blood\", 14], [\"can you give insulin in a tuberculin syringe ?\", \"sugar type insulin good blood\", 14], [\"is cornflakes good for diabetics ?\", \"sugar type insulin good blood\", 14], [\"is type two diabetes also known as insulin overload diabetes ?\", \"sugar type insulin good blood\", 14], [\"does long use of pyroxetine increase sugar level ?\", \"sugar type insulin good blood\", 14], [\"are tomatoes bad for diabetics ?\", \"sugar type insulin good blood\", 14], [\"is any cancer curable ?\", \"sugar type insulin good blood\", 14], [\"does type one diabetes require medication ?\", \"sugar type insulin good blood\", 14], [\"can the turkeys have diabetes ?\", \"sugar type insulin good blood\", 14], [\"is bicytopenia a form of cancer ?\", \"sugar type insulin good blood\", 14], [\"is sugar causing diabetes ?\", \"sugar type insulin good blood\", 14], [\"is anorexia part of diabetes ?\", \"sugar type insulin good blood\", 14], [\"is football good for a diabetic person ?\", \"sugar type insulin good blood\", 14], [\"is masterabation cause weight loss ?\", \"sugar type insulin good blood\", 14], [\"can diabetics take osteo biflex ?\", \"sugar type insulin good blood\", 14], [\"can diabetics drink alchol ?\", \"sugar type insulin good blood\", 14], [\"can you take medication for diabetes melitus even if you are not diabetic ?\", \"sugar type insulin good blood\", 14], [\"can ringer lactate be infused in diabetic patient ?\", \"sugar type insulin good blood\", 14], [\"can an non diabetic take insulin plant leaves ?\", \"sugar type insulin good blood\", 14], [\"what vitamins are allowed for diabetic patients ?\", \"sugar type insulin good blood\", 14], [\"can a person act drunk from high blood sugar ?\", \"sugar type insulin good blood\", 14], [\"is mango harmful for diabetics ?\", \"sugar type insulin good blood\", 14], [\"is slim fast a good item for diabetes ?\", \"sugar type insulin good blood\", 14], [\"does lipozene affect diabetes ?\", \"sugar type insulin good blood\", 14], [\"is sugar in milk harmful to diabetics ?\", \"sugar type insulin good blood\", 14], [\"do people with type two diabetes always require insulin ?\", \"sugar type insulin good blood\", 14], [\"can you take metformin with insulin ?\", \"sugar type insulin good blood\", 14], [\"is diabetes from having a bad diet ?\", \"sugar type insulin good blood\", 14], [\"does type one diabetes affect your sperm count ?\", \"sugar type insulin good blood\", 14], [\"is tequila good for a diabetic patient ?\", \"sugar type insulin good blood\", 14], [\"can you eat sugar cane and get diabetes ?\", \"sugar type insulin good blood\", 14], [\"does type one diabetes affect personal relationships ?\", \"sugar type insulin good blood\", 14], [\"is their a type three diabetes ?\", \"sugar type insulin good blood\", 14], [\"does diabetes affect fertility ?\", \"sugar type insulin good blood\", 14], [\"how does diabetes progress ?\", \"sugar type insulin good blood\", 14], [\"is evaporated cane juice all right for diabetics ?\", \"sugar type insulin good blood\", 14], [\"is their a connection between diabetes and enlarged prostate ?\", \"sugar type insulin good blood\", 14], [\"can a husband is diabetes be the cause of a miscarriage ?\", \"sugar type insulin good blood\", 14], [\"does grapefruit affect blood sugar levels ?\", \"sugar type insulin good blood\", 14], [\"can diabetics have anorexia ?\", \"sugar type insulin good blood\", 14], [\"can you pre-fill syringes with lantus insulin ?\", \"sugar type insulin good blood\", 14], [\"can any diabetic medication show a drug test dirty ?\", \"sugar type insulin good blood\", 14], [\"can insulin syringes be used to measure any medication for parental use ?\", \"sugar type insulin good blood\", 14], [\"does putting cinnamon in your coffee help with blood sugar ?\", \"sugar type insulin good blood\", 14], [\"can people who hae diabetes smoke ?\", \"sugar type insulin good blood\", 14], [\"can diabetes be transferred from one partner to another ?\", \"sugar type insulin good blood\", 14], [\"can diabetics drink tequila ?\", \"sugar type insulin good blood\", 14], [\"is diabetes bad ?\", \"sugar type insulin good blood\", 14]], \"hovertemplate\": \"summary=%{customdata[1]}<br>pc_1=%{x}<br>pc_2=%{y}<br>pc_3=%{z}<br>sentence=%{customdata[0]}<br>label=%{customdata[2]}<extra></extra>\", \"legendgroup\": \"sugar type insulin good blood\", \"marker\": {\"color\": \"#00cc96\", \"size\": 8, \"symbol\": \"circle\"}, \"mode\": \"markers\", \"name\": \"sugar type insulin good blood\", \"scene\": \"scene\", \"showlegend\": true, \"type\": \"scatter3d\", \"x\": [0.48056259751319885, 0.6635920405387878, 0.5613452792167664, 0.5745397210121155, 0.6140245795249939, 0.7053853273391724, 0.573590099811554, 0.6963676810264587, 0.5138824582099915, 0.688035249710083, 0.5952803492546082, 0.6558141708374023, 0.5579761862754822, 0.5946275591850281, 0.579533576965332, 0.5444397926330566, 0.7034470438957214, 0.6230047345161438, 0.6527993083000183, 0.5463203191757202, 0.7264693379402161, 0.6444679498672485, 0.5952931046485901, 0.4981311559677124, 0.5753180384635925, 0.6996926069259644, 0.5905634164810181, 0.5586228966712952, 0.6646787524223328, 0.665886640548706, 0.5442759394645691, 0.5349859595298767, 0.5412376523017883, 0.6535472273826599, 0.6496289968490601, 0.7212444543838501, 0.701506495475769, 0.6081088781356812, 0.5357104539871216, 0.5799623131752014, 0.6711544394493103, 0.509315550327301, 0.7337443828582764, 0.6864733695983887, 0.5588354468345642, 0.5659186840057373, 0.48825332522392273, 0.5795143842697144, 0.6257771849632263, 0.6105862855911255, 0.6411229372024536, 0.7091062068939209, 0.5811754465103149, 0.5790725350379944, 0.5544597506523132, 0.5392840504646301, 0.6856653690338135, 0.638151228427887, 0.6901481747627258, 0.5465366840362549, 0.7238484025001526, 0.5736640691757202, 0.5517373085021973, 0.582460343837738, 0.5747281312942505, 0.4805084466934204, 0.5659278035163879, 0.5524603724479675, 0.5194395184516907, 0.539050817489624, 0.5137854218482971, 0.5196812748908997, 0.5756525993347168, 0.7048382759094238], \"y\": [-0.17056991159915924, -0.20153631269931793, -0.12534815073013306, -0.19001035392284393, -0.2622051537036896, -0.28090018033981323, -0.1361682415008545, -0.2271857112646103, -0.19279798865318298, -0.17924527823925018, -0.3093883693218231, -0.2009650319814682, -0.19741493463516235, -0.2132282257080078, -0.2816277742385864, -0.175541952252388, -0.24454368650913239, -0.12745875120162964, -0.20451000332832336, -0.08523505926132202, -0.21627044677734375, -0.21655187010765076, -0.06965015828609467, -0.12312337756156921, -0.19531553983688354, -0.2409847527742386, -0.2753579914569855, -0.16153377294540405, -0.21437577903270721, -0.2109038382768631, -0.18272309005260468, -0.20754095911979675, -0.05644846335053444, -0.14854001998901367, -0.191059872508049, -0.20461252331733704, -0.2649177610874176, -0.18372169137001038, -0.21502825617790222, -0.22917620837688446, -0.17516621947288513, -0.17176833748817444, -0.2130565196275711, -0.22283941507339478, -0.14921341836452484, -0.15580357611179352, -0.1797865778207779, -0.21105720102787018, -0.18678975105285645, -0.22940956056118011, -0.1425616443157196, -0.18277929723262787, -0.187872976064682, -0.2807830274105072, -0.12087968736886978, -0.2007158100605011, -0.291231632232666, -0.14023132622241974, -0.22178028523921967, -0.10118666291236877, -0.19925270974636078, -0.1592903584241867, -0.14580261707305908, -0.2017480731010437, -0.10531068593263626, -0.1526940017938614, -0.16745558381080627, -0.2160978764295578, -0.08613058924674988, -0.2357672154903412, -0.07321354001760483, -0.0873304158449173, -0.19320915639400482, -0.24293619394302368], \"z\": [0.3402939736843109, 0.41942861676216125, 0.4590597450733185, 0.4832262694835663, 0.5386155843734741, 0.4707804322242737, 0.3713764548301697, 0.4631156921386719, 0.34759199619293213, 0.5418469309806824, 0.5326367616653442, 0.49615415930747986, 0.39470991492271423, 0.5196084976196289, 0.5305629372596741, 0.376448392868042, 0.5494976043701172, 0.5580514073371887, 0.46407341957092285, 0.41896823048591614, 0.5387691855430603, 0.5376574993133545, 0.4831646978855133, 0.4075348675251007, 0.43598294258117676, 0.46057480573654175, 0.5382111072540283, 0.3899354338645935, 0.4323153793811798, 0.4996112287044525, 0.5115785002708435, 0.5361598134040833, 0.43250754475593567, 0.554361879825592, 0.5660212635993958, 0.49640414118766785, 0.4705052971839905, 0.38240084052085876, 0.5776625275611877, 0.36229923367500305, 0.5641685724258423, 0.5440282225608826, 0.5426631569862366, 0.43656715750694275, 0.48827940225601196, 0.40926593542099, 0.337512731552124, 0.38030093908309937, 0.49044808745384216, 0.5360181331634521, 0.5579692125320435, 0.521727442741394, 0.507667601108551, 0.5365050435066223, 0.3849347233772278, 0.5399815440177917, 0.4743202328681946, 0.3516353368759155, 0.4171198010444641, 0.30920055508613586, 0.4960460066795349, 0.4603578746318817, 0.39743688702583313, 0.4938931465148926, 0.46278417110443115, 0.41067829728126526, 0.48055317997932434, 0.49923306703567505, 0.36690595746040344, 0.5011468529701233, 0.3597202003002167, 0.3777548372745514, 0.4758926033973694, 0.5433029532432556]}, {\"customdata\": [[\"is drinking lots of water a sign of diabetes ?\", \"blood sugar low hundr level\", 9], [\"what is poor eating habits ?\", \"blood sugar low hundr level\", 9], [\"what do you do if your blood sugar is low ?\", \"blood sugar low hundr level\", 9], [\"what should you do if your blood sugar is really low when you wake up ?\", \"blood sugar low hundr level\", 9], [\"how does blood sugar get as high as eight hundred and thirty six ?\", \"blood sugar low hundr level\", 9], [\"is there any side effects of paneer ka phool on diabetes patient ?\", \"blood sugar low hundr level\", 9], [\"should you use a blood glucose test daily if you have too much insulin ?\", \"blood sugar low hundr level\", 9], [\"what do you need when you have diabetes ?\", \"blood sugar low hundr level\", 9], [\"what is the average life expectancy for a person with diabetes ?\", \"blood sugar low hundr level\", 9], [\"what to do if your blood sugar is four hundred and sixty ?\", \"blood sugar low hundr level\", 9], [\"blood sugar level two hours after eating ?\", \"blood sugar low hundr level\", 9], [\"what do you do if your blood sugar level is high ?\", \"blood sugar low hundr level\", 9], [\"how will a person know if they have low or high blood sugar ?\", \"blood sugar low hundr level\", 9], [\"if you get headaches from low blood sugar does that mean you are a diabetic ?\", \"blood sugar low hundr level\", 9], [\"how do you know if your blood sugar is low ?\", \"blood sugar low hundr level\", 9], [\"is one hundred and sixty two a high blood sugar reading after eating two hours ago ?\", \"blood sugar low hundr level\", 9], [\"how are the circulatory system and diabetes type two related ?\", \"blood sugar low hundr level\", 9], [\"what to do if your blood sugar is six hundred ?\", \"blood sugar low hundr level\", 9], [\"what do you need for blood sugar monitoring ?\", \"blood sugar low hundr level\", 9], [\"if you know your blood sugar is low how do you know if you are a diabetic ?\", \"blood sugar low hundr level\", 9], [\"what do you eat when you have diabetes ?\", \"blood sugar low hundr level\", 9], [\"is a blood sugar level of three hundred and eighty dangerous ?\", \"blood sugar low hundr level\", 9], [\"how do you know if your blood sugar levels are low ?\", \"blood sugar low hundr level\", 9], [\"blood sugar at five hundred what do you do ?\", \"blood sugar low hundr level\", 9], [\"if you are unsure if someone has low or high blood sugar levels what should you do ?\", \"blood sugar low hundr level\", 9], [\"what should your blood sugar be two hours after eating ?\", \"blood sugar low hundr level\", 9], [\"how does blood gain glucose ?\", \"blood sugar low hundr level\", 9], [\"is a blood sugar level of four hundred and sixty one dangerous ?\", \"blood sugar low hundr level\", 9], [\"for a blood sugar test how many hours gap is required ?\", \"blood sugar low hundr level\", 9], [\"what to do if sugar level is four hundred and fifty six ?\", \"blood sugar low hundr level\", 9]], \"hovertemplate\": \"summary=%{customdata[1]}<br>pc_1=%{x}<br>pc_2=%{y}<br>pc_3=%{z}<br>sentence=%{customdata[0]}<br>label=%{customdata[2]}<extra></extra>\", \"legendgroup\": \"blood sugar low hundr level\", \"marker\": {\"color\": \"#ab63fa\", \"size\": 8, \"symbol\": \"circle\"}, \"mode\": \"markers\", \"name\": \"blood sugar low hundr level\", \"scene\": \"scene\", \"showlegend\": true, \"type\": \"scatter3d\", \"x\": [-0.37162503600120544, -0.43426311016082764, -0.3603760302066803, -0.4449455738067627, -0.46231648325920105, -0.41770532727241516, -0.4235800802707672, -0.35768359899520874, -0.49226057529449463, -0.38539808988571167, -0.4422374963760376, -0.42216727137565613, -0.4158674478530884, -0.4714379906654358, -0.4371175765991211, -0.4378020465373993, -0.4208925664424896, -0.4753568172454834, -0.38346657156944275, -0.453912615776062, -0.4862181544303894, -0.43780824542045593, -0.4559624493122101, -0.4277791380882263, -0.36976611614227295, -0.4630257785320282, -0.4297716021537781, -0.41540035605430603, -0.3841971755027771, -0.47764211893081665], \"y\": [-0.6199601888656616, -0.5048657655715942, -0.6195878982543945, -0.5304537415504456, -0.5776771903038025, -0.5303167104721069, -0.5720677375793457, -0.579228401184082, -0.5960285067558289, -0.617134153842926, -0.5625996589660645, -0.6256557106971741, -0.6396985054016113, -0.5873368382453918, -0.5654141902923584, -0.6307459473609924, -0.5566344261169434, -0.5929648280143738, -0.5294065475463867, -0.5122141242027283, -0.5940127372741699, -0.6237292289733887, -0.5174530744552612, -0.5709956288337708, -0.5769791603088379, -0.5643940567970276, -0.5565546751022339, -0.6411368250846863, -0.5262093544006348, -0.5876864790916443], \"z\": [-0.058948416262865067, -0.06512036919593811, -0.043433256447315216, -0.07108181715011597, -0.07555273920297623, -0.08948128670454025, -0.06451284140348434, -0.13226234912872314, -0.11928967386484146, -0.050668343901634216, -0.07070154696702957, 0.00880877673625946, -0.00039673896390013397, -0.0629318431019783, -0.07202982157468796, -0.015394079498946667, -0.12583370506763458, -0.10898161679506302, -0.14450694620609283, -0.05809411779046059, -0.12179166078567505, 0.019006311893463135, -0.06012987717986107, -0.06657574325799942, -0.12979720532894135, -0.07076682150363922, -0.09657546877861023, 0.006534730549901724, -0.13240191340446472, -0.09795185178518295]}, {\"customdata\": [[\"are there any websites that can help me find diabetic menu planning ?\", \"find diet menu inform plan\", 30], [\"where can i find more information on diabetes dtour diet ?\", \"find diet menu inform plan\", 30], [\"what is the best diabetic menu to follow ?\", \"find diet menu inform plan\", 30], [\"where can i find free diabetic diet books ?\", \"find diet menu inform plan\", 30], [\"where can i find out more about diabetic menu ?\", \"find diet menu inform plan\", 30], [\"where online is there a diet menu for those with diabetes ?\", \"find diet menu inform plan\", 30], [\"where can one find information on a cure for diabetes ?\", \"find diet menu inform plan\", 30], [\"where can you find information about the grapefruit diet ?\", \"find diet menu inform plan\", 30], [\"where can i get free diabetes recipes ?\", \"find diet menu inform plan\", 30], [\"where can i find more information on free diabetic diet ?\", \"find diet menu inform plan\", 30], [\"where can i find a menu or diabetic foods online ?\", \"find diet menu inform plan\", 30], [\"where can i find meal plans for diabetics ?\", \"find diet menu inform plan\", 30], [\"can you tell me where to find a menu planner for diabetics ?\", \"find diet menu inform plan\", 30], [\"where can i find a diabetic diet menu ?\", \"find diet menu inform plan\", 30], [\"where can i find cookbooks for diabetics ?\", \"find diet menu inform plan\", 30], [\"if i follow a pre diabetes diet will i stay healthy and steer clear of diabetes ?\", \"find diet menu inform plan\", 30], [\"where can i go online to find some information on diabetic diet plans ?\", \"find diet menu inform plan\", 30], [\"where can one find sample menus for a diabetic diet ?\", \"find diet menu inform plan\", 30]], \"hovertemplate\": \"summary=%{customdata[1]}<br>pc_1=%{x}<br>pc_2=%{y}<br>pc_3=%{z}<br>sentence=%{customdata[0]}<br>label=%{customdata[2]}<extra></extra>\", \"legendgroup\": \"find diet menu inform plan\", \"marker\": {\"color\": \"#FFA15A\", \"size\": 8, \"symbol\": \"circle\"}, \"mode\": \"markers\", \"name\": \"find diet menu inform plan\", \"scene\": \"scene\", \"showlegend\": true, \"type\": \"scatter3d\", \"x\": [-0.3510640561580658, -0.2755662202835083, -0.3138912618160248, -0.32297804951667786, -0.38186702132225037, -0.33888310194015503, -0.3376946449279785, -0.32833027839660645, -0.3960883617401123, -0.3132663071155548, -0.3565455377101898, -0.33406394720077515, -0.3329923748970032, -0.2832941710948944, -0.3591258227825165, -0.2795523405075073, -0.2837541699409485, -0.36825811862945557], \"y\": [0.2452247589826584, 0.24844089150428772, 0.23979514837265015, 0.24692033231258392, 0.20485398173332214, 0.26435452699661255, 0.29672256112098694, 0.286511093378067, 0.2182375192642212, 0.1472683697938919, 0.21800893545150757, 0.23960962891578674, 0.2955869138240814, 0.2501208782196045, 0.2085595726966858, 0.2442225217819214, 0.2482626587152481, 0.21769098937511444], \"z\": [0.503546953201294, 0.45529210567474365, 0.5182135701179504, 0.496659517288208, 0.43523964285850525, 0.49832630157470703, 0.4946514070034027, 0.49099716544151306, 0.42159536480903625, 0.4430429935455322, 0.48768389225006104, 0.5169378519058228, 0.4916389584541321, 0.4762777090072632, 0.57304447889328, 0.4875890612602234, 0.48152121901512146, 0.5307290554046631]}, {\"customdata\": [[\"what finally causes the sycmore to fall ?\", \"insulin ill blood mental nick\", 21], [\"why is blood black when the person is diabetic ?\", \"insulin ill blood mental nick\", 21], [\"does diabetes effect the immune system ?\", \"insulin ill blood mental nick\", 21], [\"why do you have diabetes ?\", \"insulin ill blood mental nick\", 21], [\"your dad has diabetes how can he get rid of them forever ?\", \"insulin ill blood mental nick\", 21], [\"can mental illness be as clearly defined as a physicial illness such as diabetes ?\", \"insulin ill blood mental nick\", 21], [\"will infection cause blood glucose levels to increase or decrease ?\", \"insulin ill blood mental nick\", 21], [\"did nick jonas ever throw up from diabetes ?\", \"insulin ill blood mental nick\", 21], [\"what does it fell like to have diabetes ?\", \"insulin ill blood mental nick\", 21], [\"is or can diabetes be caused by mental illness or can the brain stop the pancreas from producing insulin ?\", \"insulin ill blood mental nick\", 21], [\"why do diabetic people go blind ?\", \"insulin ill blood mental nick\", 21], [\"which of the following statements about insulin resistance and pre-diabetes is true ?\", \"insulin ill blood mental nick\", 21], [\"what type of insulin does nick jonas use ?\", \"insulin ill blood mental nick\", 21], [\"is diabetes a mental illness ?\", \"insulin ill blood mental nick\", 21], [\"why do people get diabetes ?\", \"insulin ill blood mental nick\", 21], [\"a little bit longer ?\", \"insulin ill blood mental nick\", 21], [\"why do diabetics are always urinating ?\", \"insulin ill blood mental nick\", 21], [\"what happens when people get type two diabetes ?\", \"insulin ill blood mental nick\", 21], [\"how does diabetes affect daily life ?\", \"insulin ill blood mental nick\", 21], [\"why do diabetes develop ?\", \"insulin ill blood mental nick\", 21], [\"what kind of guitar does nick jonas have ?\", \"insulin ill blood mental nick\", 21], [\"is it true or false that type two diabetics may reflect declining receptors sensitivity to insulin rather than decrease insulin production ?\", \"insulin ill blood mental nick\", 21], [\"did nick jonas ever throw up blood from diabetes ?\", \"insulin ill blood mental nick\", 21], [\"what happens to someones body does not produce enough insulin ?\", \"insulin ill blood mental nick\", 21], [\"how does diabetes affect your physical lifestyle ?\", \"insulin ill blood mental nick\", 21], [\"can an operation which left bruise and inflamed area in your skin rises your blood sugar ?\", \"insulin ill blood mental nick\", 21], [\"is diabetes a mental illness or physical illness ?\", \"insulin ill blood mental nick\", 21], [\"why does diabetes happen ?\", \"insulin ill blood mental nick\", 21], [\"long term side affects of diabetes ?\", \"insulin ill blood mental nick\", 21], [\"does diabetes affect the urinary system ?\", \"insulin ill blood mental nick\", 21], [\"what are the symptoms of mild insulin resistance ?\", \"insulin ill blood mental nick\", 21]], \"hovertemplate\": \"summary=%{customdata[1]}<br>pc_1=%{x}<br>pc_2=%{y}<br>pc_3=%{z}<br>sentence=%{customdata[0]}<br>label=%{customdata[2]}<extra></extra>\", \"legendgroup\": \"insulin ill blood mental nick\", \"marker\": {\"color\": \"#19d3f3\", \"size\": 8, \"symbol\": \"circle\"}, \"mode\": \"markers\", \"name\": \"insulin ill blood mental nick\", \"scene\": \"scene\", \"showlegend\": true, \"type\": \"scatter3d\", \"x\": [0.6463015675544739, 0.6916096210479736, 0.6759462952613831, 0.7154170870780945, 0.6681594252586365, 0.6896629333496094, 0.744266927242279, 0.6462573409080505, 0.7199015021324158, 0.7139618992805481, 0.7310677766799927, 0.6732099652290344, 0.7155147194862366, 0.6702914237976074, 0.6713548898696899, 0.6225205063819885, 0.6860174536705017, 0.6800007820129395, 0.7156754732131958, 0.7129769921302795, 0.6774540543556213, 0.7447504997253418, 0.6346591114997864, 0.7374172806739807, 0.682054877281189, 0.6811986565589905, 0.615109920501709, 0.6793541312217712, 0.6051743030548096, 0.7232178449630737, 0.6210939884185791], \"y\": [-0.09966983646154404, -0.08556549996137619, -0.07898326963186264, -0.053726691752672195, 0.029730385169386864, -0.12635794281959534, -0.09595759958028793, 0.019826574251055717, -0.00904935970902443, -0.10794402658939362, -0.11579912900924683, 0.028383763507008553, 0.005317055154591799, -0.03899076208472252, -0.07602051645517349, 0.008669688366353512, -0.054551590234041214, -0.03435327857732773, 0.01147950068116188, -0.11252506822347641, -0.08997894823551178, -0.06541065126657486, 0.015451143495738506, -0.10476678609848022, -0.0639144703745842, -0.03756248950958252, -0.0044085560366511345, -0.1028936505317688, -0.01112144161015749, 0.01687796413898468, 0.029366491362452507], \"z\": [-0.48230013251304626, -0.5772000551223755, -0.6069562435150146, -0.5941329002380371, -0.47524502873420715, -0.5060161352157593, -0.5107819437980652, -0.48670703172683716, -0.5634060502052307, -0.5365084409713745, -0.5200715065002441, -0.4756675660610199, -0.4907965660095215, -0.5264055132865906, -0.5115233063697815, -0.511698842048645, -0.5899633765220642, -0.5703268051147461, -0.4876845180988312, -0.5314065217971802, -0.6005891561508179, -0.5050808787345886, -0.4981785714626312, -0.5143176913261414, -0.5264615416526794, -0.5476714372634888, -0.5308122634887695, -0.5997611284255981, -0.46429747343063354, -0.49834322929382324, -0.4943854808807373]}, {\"customdata\": [[\"is diabetes one curable ?\", \"cure type one two diseas\", 15], [\"can diabetes be cured ?\", \"cure type one two diseas\", 15], [\"how do you cure diabetes type one ?\", \"cure type one two diseas\", 15], [\"how scientific advancement has helped to solve the problem of diabetes ?\", \"cure type one two diseas\", 15], [\"can you be a jockey if you have type one diabetes ?\", \"cure type one two diseas\", 15], [\"how does a diabetic control their diabetes ?\", \"cure type one two diseas\", 15], [\"is type two diabetes curable ?\", \"cure type one two diseas\", 15], [\"will medications help diabetes ?\", \"cure type one two diseas\", 15], [\"can diabetes lead to blindness ?\", \"cure type one two diseas\", 15], [\"is diabetes a communicable disease ?\", \"cure type one two diseas\", 15], [\"managing hypoglycemia through diet ?\", \"cure type one two diseas\", 15], [\"can a puppy have diabetes ?\", \"cure type one two diseas\", 15], [\"is there a cure for type two diabetes ?\", \"cure type one two diseas\", 15], [\"diabetes cure ?\", \"cure type one two diseas\", 15], [\"is there acure for diabetes ?\", \"cure type one two diseas\", 15], [\"can a parakeet have diabetes ?\", \"cure type one two diseas\", 15], [\"are women who are type one diabetics allowed to adopt children ?\", \"cure type one two diseas\", 15], [\"is lil boosie diabetic ?\", \"cure type one two diseas\", 15], [\"how do you cure from type two diabetes ?\", \"cure type one two diseas\", 15], [\"is diabetes a comunicable disease ?\", \"cure type one two diseas\", 15], [\"is diabetes communicable disease ?\", \"cure type one two diseas\", 15], [\"did laura ingalls wilder have diabetes ?\", \"cure type one two diseas\", 15], [\"are low hdl levels a risk for type two diabetes ?\", \"cure type one two diseas\", 15], [\"how do you cure diabetes ?\", \"cure type one two diseas\", 15], [\"what is the cure if a diabetes ?\", \"cure type one two diseas\", 15], [\"what kind of diabetes did laura ingalls wilder have ?\", \"cure type one two diseas\", 15], [\"can doctor is cure diabetes ?\", \"cure type one two diseas\", 15], [\"is diabeties curable ?\", \"cure type one two diseas\", 15], [\"do plants get diabetes ?\", \"cure type one two diseas\", 15], [\"medications for diabetes ?\", \"cure type one two diseas\", 15], [\"can the loss of an appendix cause diabetes ?\", \"cure type one two diseas\", 15], [\"is diabetes a non communicable disease ?\", \"cure type one two diseas\", 15], [\"is there a cure to diabetes ?\", \"cure type one two diseas\", 15]], \"hovertemplate\": \"summary=%{customdata[1]}<br>pc_1=%{x}<br>pc_2=%{y}<br>pc_3=%{z}<br>sentence=%{customdata[0]}<br>label=%{customdata[2]}<extra></extra>\", \"legendgroup\": \"cure type one two diseas\", \"marker\": {\"color\": \"#FF6692\", \"size\": 8, \"symbol\": \"circle\"}, \"mode\": \"markers\", \"name\": \"cure type one two diseas\", \"scene\": \"scene\", \"showlegend\": true, \"type\": \"scatter3d\", \"x\": [0.5767357349395752, 0.5845423340797424, 0.498162180185318, 0.5292873978614807, 0.4874623119831085, 0.562971293926239, 0.5398653149604797, 0.5354725122451782, 0.5509861707687378, 0.5555753707885742, 0.5701654553413391, 0.580917239189148, 0.5227555632591248, 0.5325635671615601, 0.5397289991378784, 0.4817315340042114, 0.5284737348556519, 0.48195257782936096, 0.5543999671936035, 0.5286858677864075, 0.5660789012908936, 0.5867875218391418, 0.5751630067825317, 0.5392954349517822, 0.4859936833381653, 0.5418776869773865, 0.542559027671814, 0.5988885164260864, 0.5765784978866577, 0.4950116276741028, 0.5467141270637512, 0.5041396021842957, 0.5369581580162048], \"y\": [0.5593346357345581, 0.5673630237579346, 0.606005072593689, 0.6294130086898804, 0.5210918188095093, 0.599238932132721, 0.5833268761634827, 0.589554488658905, 0.6274542808532715, 0.5113888382911682, 0.5709410309791565, 0.5644556879997253, 0.5118924379348755, 0.5442530512809753, 0.6052128672599792, 0.5109896659851074, 0.6145506501197815, 0.576062023639679, 0.5617985725402832, 0.5765697956085205, 0.5196971297264099, 0.5240722298622131, 0.5134357213973999, 0.5128875970840454, 0.6012885570526123, 0.6062667965888977, 0.5079550743103027, 0.5295464992523193, 0.5808724164962769, 0.6096677780151367, 0.5541026592254639, 0.5667430758476257, 0.5162912607192993], \"z\": [0.3133053183555603, 0.22872623801231384, 0.328826904296875, 0.36989250779151917, 0.2922206521034241, 0.27326828241348267, 0.20616935193538666, 0.30071142315864563, 0.35844770073890686, 0.2121417224407196, 0.2265961915254593, 0.2973420023918152, 0.3565957248210907, 0.3647784888744354, 0.34485775232315063, 0.26234328746795654, 0.3596908748149872, 0.22680899500846863, 0.29744812846183777, 0.21130967140197754, 0.2537361681461334, 0.2764771282672882, 0.2594129741191864, 0.33137327432632446, 0.34854185581207275, 0.3466709852218628, 0.3748902380466461, 0.3058188557624817, 0.25097665190696716, 0.3556108772754669, 0.21093188226222992, 0.2197311371564865, 0.3632648289203644]}, {\"customdata\": [[\"a scientists makes an educated guess that diabetes is caused by genetic factors his guess is an example of a ?\", \"cure guess type medicin help\", 24], [\"can you get type a diabetes by dirty hands ?\", \"cure guess type medicin help\", 24], [\"who does diabetes affect you ?\", \"cure guess type medicin help\", 24], [\"a scientist makes an educated guess that diabetes is caused by genetic factors his guess is an example of a n ?\", \"cure guess type medicin help\", 24], [\"does chicken affect diabetes ?\", \"cure guess type medicin help\", 24], [\"do bacteria prevent diabetes ?\", \"cure guess type medicin help\", 24], [\"does insulin cure diabetes ?\", \"cure guess type medicin help\", 24], [\"does taking tahitian noni juice helps with diabetes ?\", \"cure guess type medicin help\", 24], [\"is diabetes inheritable ?\", \"cure guess type medicin help\", 24], [\"how do you cure diabetes naturally without medication ?\", \"cure guess type medicin help\", 24], [\"does metformin help with weight loss ?\", \"cure guess type medicin help\", 24], [\"is homemade chicken pot pie good for diabetic diets ?\", \"cure guess type medicin help\", 24], [\"why is there no cure for type one diabetes ?\", \"cure guess type medicin help\", 24], [\"ayurveda medicine for diabeties ?\", \"cure guess type medicin help\", 24], [\"do neurologists help cure diabetes ?\", \"cure guess type medicin help\", 24], [\"is there a cure for pediatric diabetes ?\", \"cure guess type medicin help\", 24], [\"diabetes supplements ?\", \"cure guess type medicin help\", 24], [\"does brown rice affect diabetes ?\", \"cure guess type medicin help\", 24], [\"can diabetes be cured without medicines ?\", \"cure guess type medicin help\", 24], [\"diabetic syringes ?\", \"cure guess type medicin help\", 24], [\"cures and medicines for diseases such as diabetes can be credited to the study of ?\", \"cure guess type medicin help\", 24], [\"is there a cure for hypoglycemia ?\", \"cure guess type medicin help\", 24], [\"can diabetic patients take chicken ?\", \"cure guess type medicin help\", 24], [\"does diabetes type2 have a cure ?\", \"cure guess type medicin help\", 24], [\"are diabetics in pain all the time ?\", \"cure guess type medicin help\", 24], [\"is type two diabetes deadly ?\", \"cure guess type medicin help\", 24], [\"can you stay off medicine with type two diabetes ?\", \"cure guess type medicin help\", 24], [\"a scientist makes an educated guess that diabetes is caused by genetic factors his guess is an example of an ?\", \"cure guess type medicin help\", 24], [\"has anyone actually reversed type two diabetes ?\", \"cure guess type medicin help\", 24], [\"can diabetes be cured with a organ transplant ?\", \"cure guess type medicin help\", 24], [\"is type one diabetes deadly ?\", \"cure guess type medicin help\", 24], [\"diabetes medicine ?\", \"cure guess type medicin help\", 24], [\"how does insulin help cure diabetes ?\", \"cure guess type medicin help\", 24]], \"hovertemplate\": \"summary=%{customdata[1]}<br>pc_1=%{x}<br>pc_2=%{y}<br>pc_3=%{z}<br>sentence=%{customdata[0]}<br>label=%{customdata[2]}<extra></extra>\", \"legendgroup\": \"cure guess type medicin help\", \"marker\": {\"color\": \"#B6E880\", \"size\": 8, \"symbol\": \"circle\"}, \"mode\": \"markers\", \"name\": \"cure guess type medicin help\", \"scene\": \"scene\", \"showlegend\": true, \"type\": \"scatter3d\", \"x\": [0.6304183602333069, 0.5941290259361267, 0.6302502751350403, 0.6370087265968323, 0.5946367383003235, 0.560967206954956, 0.6248350739479065, 0.5281122326850891, 0.5085951089859009, 0.6539269089698792, 0.5486787557601929, 0.49670806527137756, 0.6132184267044067, 0.5342646241188049, 0.49466851353645325, 0.5948620438575745, 0.49552181363105774, 0.498774915933609, 0.5651721954345703, 0.5737462043762207, 0.6207066178321838, 0.5368639230728149, 0.49694740772247314, 0.5481011867523193, 0.5685087442398071, 0.5931147933006287, 0.6003240942955017, 0.6442254185676575, 0.5989548563957214, 0.5108557343482971, 0.6377614140510559, 0.6407391428947449, 0.6179994940757751], \"y\": [0.08959066867828369, -0.03984832391142845, 0.01895216479897499, 0.07072997093200684, -0.0193321630358696, 0.039562467485666275, 0.03091670572757721, 0.00957826990634203, 0.021054623648524284, 0.015454289503395557, 0.06402792781591415, 0.00940751377493143, 0.05725898966193199, 0.0649866908788681, 0.011143945157527924, 0.10227011889219284, 0.010950502008199692, 0.007568619213998318, 0.03339407593011856, 0.046551626175642014, 0.09305891394615173, 0.02146172896027565, 0.005825811065733433, 0.05717511847615242, 0.03402479737997055, -0.029620647430419922, -0.010097323916852474, 0.08661814033985138, 0.08946771919727325, 0.00015022943262010813, 0.038757286965847015, 0.02177330292761326, 0.08789616078138351], \"z\": [0.5250812768936157, 0.49029645323753357, 0.5688058733940125, 0.5527017712593079, 0.4953935444355011, 0.5413939356803894, 0.5734922885894775, 0.44970789551734924, 0.4587351977825165, 0.50823974609375, 0.44331103563308716, 0.5325599908828735, 0.5830495953559875, 0.49010592699050903, 0.5323922634124756, 0.5770463943481445, 0.5019744634628296, 0.5250993371009827, 0.5481173992156982, 0.4992002248764038, 0.523445725440979, 0.4493992030620575, 0.45314860343933105, 0.45075365900993347, 0.49278414249420166, 0.49332213401794434, 0.5017654895782471, 0.5122105479240417, 0.5651957988739014, 0.45355644822120667, 0.5357337594032288, 0.5159182548522949, 0.5605545043945312]}, {\"customdata\": [[\"are there any recipes for the diabetic ?\", \"recip good find cake food\", 11], [\"where are some sample menus that have diabetic recipes ?\", \"recip good find cake food\", 11], [\"where can one learn about diabetic supply cases ?\", \"recip good find cake food\", 11], [\"how much protein on a diabetic diet ?\", \"recip good find cake food\", 11], [\"what is the best food and diet plan for a diabetic dieter ?\", \"recip good find cake food\", 11], [\"where can a diabetic find sugar free dessert recipes ?\", \"recip good find cake food\", 11], [\"what are some examples of a diabetic meal plan ?\", \"recip good find cake food\", 11], [\"where can i purchase some diabetic foods ?\", \"recip good find cake food\", 11], [\"what are some options for recipes for someone with diabetes ?\", \"recip good find cake food\", 11], [\"what websites have cake recipes for diabetics ?\", \"recip good find cake food\", 11], [\"what diabetic dessert recipe can you make on the stove ?\", \"recip good find cake food\", 11], [\"where to buy diabetic cookies ?\", \"recip good find cake food\", 11], [\"where can i find a diabetic cookbook with southern recipes ?\", \"recip good find cake food\", 11], [\"what are some good diabetic food recipes that will help alleviate my symptoms ?\", \"recip good find cake food\", 11], [\"are there any websites that could help me find easy diabetic recipes ?\", \"recip good find cake food\", 11], [\"where can one find a chocolate pie recipe suitable for someone who has diabetes ?\", \"recip good find cake food\", 11], [\"what are some of the best diabetic recipes suitable for diabetic patients ?\", \"recip good find cake food\", 11], [\"where can i find out more about diabetic cooking ?\", \"recip good find cake food\", 11], [\"what are some cookbooks that have recipes for diabetics ?\", \"recip good find cake food\", 11], [\"where can one find cookie recipes for diabetics ?\", \"recip good find cake food\", 11], [\"creating your own diabetic dessert ?\", \"recip good find cake food\", 11], [\"what are some good diabetic recipes ?\", \"recip good find cake food\", 11], [\"can i find diabetic foods in any grocery store ?\", \"recip good find cake food\", 11], [\"what are some two thousand and ten books on nutrition and weight loss for diabetics ?\", \"recip good find cake food\", 11], [\"where can i find diabetic dessert recipes ?\", \"recip good find cake food\", 11], [\"where can one find a diabetic cookie recipe book ?\", \"recip good find cake food\", 11], [\"diabetic diet recipes ?\", \"recip good find cake food\", 11], [\"could you please recommend some good and easy diabetic recipes ?\", \"recip good find cake food\", 11], [\"how are sugar subsitutes used in diabetic dessert recipes ?\", \"recip good find cake food\", 11], [\"where can one find recipes suitable for diabetics ?\", \"recip good find cake food\", 11], [\"which websites have diabetic dessert recipes ?\", \"recip good find cake food\", 11], [\"what is a good cookook for diabetic recipes ?\", \"recip good find cake food\", 11], [\"what in the world is a diabetic cookbook ?\", \"recip good find cake food\", 11], [\"what types of foods is on the menus for a diabetic ?\", \"recip good find cake food\", 11], [\"diabetic recipes ?\", \"recip good find cake food\", 11], [\"tips on following a diabetic cookie recipe ?\", \"recip good find cake food\", 11], [\"what are some great diabetic diet recipes ?\", \"recip good find cake food\", 11], [\"are there any recipes in diabetic cookbooks for cookies ?\", \"recip good find cake food\", 11], [\"what are some good dessert recipes for diabetics ?\", \"recip good find cake food\", 11], [\"are there recipes to make diabetic food ?\", \"recip good find cake food\", 11], [\"are there any diabetic cake recipes on allrecipescom ?\", \"recip good find cake food\", 11], [\"what are some good tasting diabetic recipes ?\", \"recip good find cake food\", 11], [\"what are the main ingredients in diabetic recipes ?\", \"recip good find cake food\", 11], [\"are any items off-limits in a breakfast for diabetics ?\", \"recip good find cake food\", 11], [\"delicious diabetic carrot cake ?\", \"recip good find cake food\", 11], [\"where can i find out more about recipe for diabetics ?\", \"recip good find cake food\", 11], [\"tasteful , sugar free recipes for the elderly ?\", \"recip good find cake food\", 11], [\"what is a free diabetic cookbook used for ?\", \"recip good find cake food\", 11], [\"what are some low sugar dessert recipes for diabetics ?\", \"recip good find cake food\", 11], [\"what is a reputable diabetic cookbook to purchase online ?\", \"recip good find cake food\", 11], [\"is there any online site that offers diabetic recipes ?\", \"recip good find cake food\", 11], [\"what are healthy recipes for people with diabetic menus ?\", \"recip good find cake food\", 11], [\"what is a good chocolate diabetic cake recipe ?\", \"recip good find cake food\", 11], [\"what is a good diabetic cookie recipes ?\", \"recip good find cake food\", 11], [\"what kind of gestational recipes are there for diabetes sufferers ?\", \"recip good find cake food\", 11], [\"are there good diabetic cake recipes ?\", \"recip good find cake food\", 11], [\"are there diabetic recipies for brownies ?\", \"recip good find cake food\", 11], [\"what dessert recipes are safe for diabetics ?\", \"recip good find cake food\", 11], [\"what is diabetic recipe where can i get the recipe ?\", \"recip good find cake food\", 11], [\"where can i get diabetic meal recipes ?\", \"recip good find cake food\", 11], [\"which diabetic cake recipes are recommended ?\", \"recip good find cake food\", 11], [\"where can i purchase recipes for diabetics online ?\", \"recip good find cake food\", 11], [\"what herbs are good for diabetes ?\", \"recip good find cake food\", 11], [\"what are some great diabetic recipes ?\", \"recip good find cake food\", 11], [\"are their any recipe books for diabetics that have a diabetic cheesecake recipe ?\", \"recip good find cake food\", 11], [\"how much more costly are diabetic foods than normal foods ?\", \"recip good find cake food\", 11], [\"where online can i find diabetic carrot cake recipes ?\", \"recip good find cake food\", 11], [\"how to cook for my whole family when my husband is on the diabetic diet ?\", \"recip good find cake food\", 11], [\"what are some recipes for a diabetic diet ?\", \"recip good find cake food\", 11], [\"could you recommend a top selling cookbook with healthy diabetic recipes ?\", \"recip good find cake food\", 11], [\"is longevity mountain herbs is suitable for me because i am looking chinese herbs for my grand mother is diabetes ?\", \"recip good find cake food\", 11], [\"what is a healthy weekly meal plan for a diabetic ?\", \"recip good find cake food\", 11], [\"is it possible to make a cake that is diabetic friendly ?\", \"recip good find cake food\", 11], [\"what are some good diabetic cake recipes ?\", \"recip good find cake food\", 11], [\"does health insurance cover liposuction if you are a diabetic ?\", \"recip good find cake food\", 11], [\"do all diabetic recipes offer healthier food substitutes ?\", \"recip good find cake food\", 11], [\"what are some diabetic recipes ?\", \"recip good find cake food\", 11], [\"what is a good example of a diabetic meal ?\", \"recip good find cake food\", 11], [\"what is the meal plan example for people like me who are diabetic ?\", \"recip good find cake food\", 11], [\"where would be the best place to find diabetic sugar free recipes ?\", \"recip good find cake food\", 11], [\"can you really make a cheesecake recipe that is good for a diabetic ?\", \"recip good find cake food\", 11], [\"where can someone purchase diabetic cookbooks ?\", \"recip good find cake food\", 11], [\"are diabetics allergic to bee stings ?\", \"recip good find cake food\", 11], [\"what are some free cookie recipes for diabetics ?\", \"recip good find cake food\", 11], [\"when was german diabetes center mergentheim created ?\", \"recip good find cake food\", 11], [\"what are some easy inexpensive diabetes recipes ?\", \"recip good find cake food\", 11], [\"what are diabetic meals and their significance ?\", \"recip good find cake food\", 11], [\"how to create a diabetic cake recipe ?\", \"recip good find cake food\", 11], [\"best recipes for diabetics ?\", \"recip good find cake food\", 11], [\"who is the best specialist doctor in kolkata in medicine diabetes and cardiology ?\", \"recip good find cake food\", 11], [\"meal planning for a diabetic person ?\", \"recip good find cake food\", 11], [\"are there diabetic recipes for cake ?\", \"recip good find cake food\", 11], [\"what kind of products does the novo nordisk company produce ?\", \"recip good find cake food\", 11], [\"where can dessert recipes for diabetics be found ?\", \"recip good find cake food\", 11], [\"what are some good recipes for people with diabetes ?\", \"recip good find cake food\", 11], [\"what are some good ideas for diabetic meals ?\", \"recip good find cake food\", 11], [\"how do i cook popular diabetic recipes ?\", \"recip good find cake food\", 11], [\"what are some good herbs for diabetes ?\", \"recip good find cake food\", 11], [\"what are some recipes for diabetics ?\", \"recip good find cake food\", 11], [\"what does a diabetic grocery list composed of ?\", \"recip good find cake food\", 11], [\"what is the best book on gourmet diabetic cooking ?\", \"recip good find cake food\", 11], [\"good tasting diabetic recipes ?\", \"recip good find cake food\", 11], [\"what are some easy to make diabetic recipes and where can i go for more information on some good diabetic recipes ?\", \"recip good find cake food\", 11], [\"is there a good book with great diabetic dessert recipes available ?\", \"recip good find cake food\", 11], [\"diabetes recipes on the web ?\", \"recip good find cake food\", 11], [\"what are some good recipes for diabetics to have ?\", \"recip good find cake food\", 11], [\"finding the right diabetic supply store ?\", \"recip good find cake food\", 11], [\"what is the name of the specilist who treats epilesy ?\", \"recip good find cake food\", 11], [\"are there any diet recipes for diabetics ?\", \"recip good find cake food\", 11], [\"where can you find diabetic cake recipes ?\", \"recip good find cake food\", 11], [\"where can i purchase cheap diabetic cook books online ?\", \"recip good find cake food\", 11], [\"meal planning for diabetics ?\", \"recip good find cake food\", 11], [\"what is te ideal diet for diabetic patient ?\", \"recip good find cake food\", 11], [\"how does the diabetic food chart compare to the basic food chart ?\", \"recip good find cake food\", 11], [\"what vision-related pathology is caused by diabetes ?\", \"recip good find cake food\", 11], [\"what exactly is a diabetic recipe ?\", \"recip good find cake food\", 11], [\"what is the top diabetic cake recipe ?\", \"recip good find cake food\", 11]], \"hovertemplate\": \"summary=%{customdata[1]}<br>pc_1=%{x}<br>pc_2=%{y}<br>pc_3=%{z}<br>sentence=%{customdata[0]}<br>label=%{customdata[2]}<extra></extra>\", \"legendgroup\": \"recip good find cake food\", \"marker\": {\"color\": \"#FF97FF\", \"size\": 8, \"symbol\": \"circle\"}, \"mode\": \"markers\", \"name\": \"recip good find cake food\", \"scene\": \"scene\", \"showlegend\": true, \"type\": \"scatter3d\", \"x\": [-0.5156208276748657, -0.5112326145172119, -0.4622020423412323, -0.3925841152667999, -0.3809953033924103, -0.4252764880657196, -0.4079233407974243, -0.4552520513534546, -0.37351974844932556, -0.5173458456993103, -0.40649816393852234, -0.6042593717575073, -0.5079872608184814, -0.4655843675136566, -0.3831276297569275, -0.35156920552253723, -0.3844645619392395, -0.41698601841926575, -0.48885849118232727, -0.47295060753822327, -0.4029461443424225, -0.47350209951400757, -0.43337690830230713, -0.4902750253677368, -0.4444729685783386, -0.48982131481170654, -0.42785266041755676, -0.32349517941474915, -0.4920438230037689, -0.3985387086868286, -0.47632938623428345, -0.4396907091140747, -0.5447272062301636, -0.46178123354911804, -0.5189893841743469, -0.4723163843154907, -0.5043037533760071, -0.5886929631233215, -0.41613075137138367, -0.4715106785297394, -0.5436607003211975, -0.46505752205848694, -0.5895429849624634, -0.36207109689712524, -0.5524742603302002, -0.43007221817970276, -0.41185927391052246, -0.4660305380821228, -0.4666275382041931, -0.45381075143814087, -0.37779590487480164, -0.5153926014900208, -0.4258444607257843, -0.347599595785141, -0.5690128207206726, -0.5524682402610779, -0.5714451670646667, -0.41797322034835815, -0.47596973180770874, -0.5076687932014465, -0.5245023965835571, -0.45336979627609253, -0.3251108229160309, -0.5499679446220398, -0.5136026740074158, -0.5926005244255066, -0.5014134645462036, -0.621117115020752, -0.4201822280883789, -0.3879784643650055, -0.3578158915042877, -0.5028525590896606, -0.5858218669891357, -0.5664883852005005, -0.3778415620326996, -0.47452959418296814, -0.571513831615448, -0.39411234855651855, -0.48944875597953796, -0.4386999011039734, -0.3702404797077179, -0.4997115433216095, -0.49551793932914734, -0.44855552911758423, -0.6009697318077087, -0.4394451379776001, -0.6061400771141052, -0.563664436340332, -0.35687267780303955, -0.5648965835571289, -0.4043235182762146, -0.581101655960083, -0.6106070280075073, -0.4773717522621155, -0.4067199230194092, -0.40644651651382446, -0.5306324362754822, -0.3301571011543274, -0.49481865763664246, -0.5063356161117554, -0.5808242559432983, -0.4331524074077606, -0.44430896639823914, -0.4763123095035553, -0.504652738571167, -0.3592032492160797, -0.45177605748176575, -0.5746734142303467, -0.4001923203468323, -0.5096574425697327, -0.48401227593421936, -0.41150549054145813, -0.43863728642463684, -0.3952353000640869, -0.5891585350036621, -0.38750383257865906, -0.5189827084541321], \"y\": [0.018765021115541458, 0.09176059067249298, 0.04873279109597206, 0.04675169661641121, 0.08665280789136887, 0.0552326999604702, 0.07510384172201157, 0.07132036238908768, -0.004725331906229258, 0.1537097841501236, -0.0789860188961029, 0.19190803170204163, 0.030207103118300438, -0.013253699988126755, 0.06417860090732574, -0.07858774065971375, -0.14299461245536804, 0.042858436703681946, 0.12317680567502975, -0.0014972053468227386, -0.06854753196239471, -0.05268315225839615, 0.09444282203912735, 0.14244212210178375, 0.05572030693292618, 0.0605417899787426, 0.15021614730358124, -0.11771881580352783, -0.08661079406738281, 0.03851497173309326, 0.035348109900951385, 0.1479686051607132, 0.21174879372119904, 0.08320390433073044, 0.03354653716087341, -0.05408276990056038, 0.06432243436574936, 0.1527019590139389, -0.012194231152534485, 0.12996554374694824, 0.1157095730304718, 0.07221657037734985, 0.08733104169368744, -0.1142796128988266, -0.029605410993099213, 0.012262272648513317, -0.07272107154130936, 0.1412666141986847, -0.06096213310956955, -0.050537221133708954, 0.04852079600095749, 0.027061663568019867, 0.03967927023768425, -0.13732001185417175, 0.22541894018650055, 0.12132041901350021, 0.07077965885400772, -0.021888867020606995, 0.014551914297044277, 0.06052200496196747, 0.1243242472410202, -0.012932212091982365, -0.08128532022237778, -0.02454642578959465, 0.0052638729102909565, 0.08918433636426926, 0.08842200040817261, 0.1738480180501938, 0.11205486953258514, 0.0160085316747427, -0.04568986967206001, 0.059852905571460724, 0.22279144823551178, 0.13435788452625275, -0.14915317296981812, 0.1476617306470871, 0.07808554917573929, -0.02784675732254982, 0.1263159066438675, 0.04894615337252617, -0.06441067159175873, 0.10971052199602127, 0.017387578263878822, -0.014344006776809692, 0.21895849704742432, -0.0561295785009861, 0.16869516670703888, 0.13821661472320557, -0.10753318667411804, 0.2349134385585785, 0.09753011167049408, 0.1476050764322281, 0.20569102466106415, 0.004324040841311216, -0.0033877226524055004, 0.0666036605834961, -0.020972296595573425, -0.07077810168266296, 0.08481085300445557, 0.08675847947597504, 0.14475126564502716, 0.04790659248828888, -0.03872246667742729, -0.06398514658212662, 0.033989474177360535, -0.10239015519618988, -0.012251688167452812, 0.14576146006584167, 0.11646717041730881, 0.1344919204711914, 0.0052218190394341946, 0.10191012918949127, 0.05980106443166733, 0.04920746386051178, 0.2281339019536972, 0.047313392162323, 0.09144380688667297], \"z\": [0.6976752877235413, 0.5476543307304382, 0.5081159472465515, 0.5970373749732971, 0.773894190788269, 0.5127850770950317, 0.6380387544631958, 0.7505664825439453, 0.6074897646903992, 0.5742858052253723, 0.6202543377876282, 0.6527953147888184, 0.5504298806190491, 0.520900547504425, 0.5289456248283386, 0.6962782144546509, 0.6904460787773132, 0.5327423810958862, 0.6230572462081909, 0.632970929145813, 0.6554082036018372, 0.6162519454956055, 0.7661146521568298, 0.7389258742332458, 0.5056430101394653, 0.6398842334747314, 0.7062068581581116, 0.6850892305374146, 0.6442922353744507, 0.5738430023193359, 0.5245465636253357, 0.6940492987632751, 0.5994194149971008, 0.715583324432373, 0.6712248921394348, 0.7145878672599792, 0.6553018689155579, 0.7015769481658936, 0.621749222278595, 0.6799747347831726, 0.7403725981712341, 0.7387720346450806, 0.558722972869873, 0.7090131640434265, 0.6336293816566467, 0.594491720199585, 0.6071784496307373, 0.6766756176948547, 0.6116884350776672, 0.5979978442192078, 0.7140650153160095, 0.5786016583442688, 0.7703300714492798, 0.691758394241333, 0.6010779142379761, 0.7348707318305969, 0.5817167162895203, 0.5999965667724609, 0.5113012194633484, 0.5514956116676331, 0.720210075378418, 0.6680669784545898, 0.702623188495636, 0.6282956600189209, 0.6761404275894165, 0.5580256581306458, 0.6293079853057861, 0.5867043137550354, 0.6586633920669556, 0.6423196792602539, 0.6864923238754272, 0.6452168226242065, 0.6070911288261414, 0.6631754040718079, 0.6744990348815918, 0.6705360412597656, 0.582974374294281, 0.5911218523979187, 0.7454977631568909, 0.5137963891029358, 0.675312876701355, 0.7002106308937073, 0.6057388186454773, 0.6681427955627441, 0.6120797395706177, 0.5986238121986389, 0.69769686460495, 0.6353679895401001, 0.7155740857124329, 0.6149742603302002, 0.7789731621742249, 0.7250911593437195, 0.5930039286613464, 0.6302564144134521, 0.6559960246086121, 0.6448684930801392, 0.6351368427276611, 0.701937198638916, 0.6301154494285583, 0.6317404508590698, 0.6936882734298706, 0.7789002060890198, 0.5988073348999023, 0.7275487780570984, 0.5423130393028259, 0.7105952501296997, 0.681169867515564, 0.724310040473938, 0.7779867649078369, 0.5445170402526855, 0.648653507232666, 0.7883040904998779, 0.7813275456428528, 0.5596907138824463, 0.605822741985321, 0.6006907224655151, 0.5528655052185059]}, {\"customdata\": [[\"how long for the onset of regular insulin ?\", \"insulin blood glucos level sugar\", 8], [\"one plasma blood glucose is higher than whole blood glucose by what percentage ?\", \"insulin blood glucos level sugar\", 8], [\"is regular insulin and nph insulin the same thing ?\", \"insulin blood glucos level sugar\", 8], [\"how many units of insulin for a blood glucose level of two hundred and seventy eight ?\", \"insulin blood glucos level sugar\", 8], [\"how low does your blood sugar level have to be before it can cause serious health issues ?\", \"insulin blood glucos level sugar\", 8], [\"what is hypoglcemia ?\", \"insulin blood glucos level sugar\", 8], [\"what hormone is responsible for the change in blood glucose between 7am and 11am ?\", \"insulin blood glucos level sugar\", 8], [\"ten units of inslin is how many cc ?\", \"insulin blood glucos level sugar\", 8], [\"what precautions need to be taken when doing a gastric acid determination ?\", \"insulin blood glucos level sugar\", 8], [\"what is the antidote for insulin ?\", \"insulin blood glucos level sugar\", 8], [\"explain why there is too little sugar in the blood if the person exercises more than usual ?\", \"insulin blood glucos level sugar\", 8], [\"what suffix is added to indicate sugar diabetes ?\", \"insulin blood glucos level sugar\", 8], [\"how much sugar can a diabetic with a reading of 32units of insulin have per day thankyou ?\", \"insulin blood glucos level sugar\", 8], [\"what if you took insluin but was not a diabetic ?\", \"insulin blood glucos level sugar\", 8], [\"how do you compare insulin units and micrograms ?\", \"insulin blood glucos level sugar\", 8], [\"what is the peak time when administering regular insulin and nph insulin ?\", \"insulin blood glucos level sugar\", 8], [\"what organ relies most critically on a steady supply of glucose ?\", \"insulin blood glucos level sugar\", 8], [\"-- -- -is the most appropriate diagram to represent data on blood glucose level of one hundred patient ?\", \"insulin blood glucos level sugar\", 8], [\"why would the doctor suggest check the patients blood sugar level ?\", \"insulin blood glucos level sugar\", 8], [\"how many units of insulin are in a mililiter ?\", \"insulin blood glucos level sugar\", 8], [\"why would the doctor suggest checking the patient is blood sugar levels ?\", \"insulin blood glucos level sugar\", 8], [\"how many units of insulin is zero . 25ml ?\", \"insulin blood glucos level sugar\", 8], [\"you are a forty year old diabetic you ave a temp of one hundred and one and just had a kidney infection when should you call your doctor ?\", \"insulin blood glucos level sugar\", 8], [\"what is the range of glucose in neonates ?\", \"insulin blood glucos level sugar\", 8], [\"what tells the body how much sugar should be in blood ?\", \"insulin blood glucos level sugar\", 8], [\"what is the best treatment for glucose in the blood ?\", \"insulin blood glucos level sugar\", 8], [\"what is the suffix for a sugar ?\", \"insulin blood glucos level sugar\", 8], [\"what should you do if you injected the wrong insulin ?\", \"insulin blood glucos level sugar\", 8], [\"what is the role of liver in controlling blood sugar level ?\", \"insulin blood glucos level sugar\", 8], [\"what the role of liver and pancreas in controlling the blood glucose level ?\", \"insulin blood glucos level sugar\", 8], [\"is actrapid insulin a short acting insulin ?\", \"insulin blood glucos level sugar\", 8], [\"why do you have to keep the blood glucose level within the normal cycle ?\", \"insulin blood glucos level sugar\", 8], [\"what is the difference between a type-1 diabetic and an insulin-dependent diabetic ?\", \"insulin blood glucos level sugar\", 8], [\"what does the cea level in the blood help the physician decide ?\", \"insulin blood glucos level sugar\", 8], [\"how many units of insulin equals two cc ?\", \"insulin blood glucos level sugar\", 8], [\"is seventy seven a normal blood sugar level if you have not eaten for about five hours and your extremely shaky dizzy and irritable ?\", \"insulin blood glucos level sugar\", 8], [\"why dont mix glargine with short acting insulin ?\", \"insulin blood glucos level sugar\", 8]], \"hovertemplate\": \"summary=%{customdata[1]}<br>pc_1=%{x}<br>pc_2=%{y}<br>pc_3=%{z}<br>sentence=%{customdata[0]}<br>label=%{customdata[2]}<extra></extra>\", \"legendgroup\": \"insulin blood glucos level sugar\", \"marker\": {\"color\": \"#FECB52\", \"size\": 8, \"symbol\": \"circle\"}, \"mode\": \"markers\", \"name\": \"insulin blood glucos level sugar\", \"scene\": \"scene\", \"showlegend\": true, \"type\": \"scatter3d\", \"x\": [-0.39069363474845886, -0.4974285364151001, -0.42513275146484375, -0.483319491147995, -0.3834446370601654, -0.4573194980621338, -0.473233699798584, -0.3845294415950775, -0.3821975290775299, -0.4221839904785156, -0.43109968304634094, -0.3780067563056946, -0.3398265242576599, -0.42709070444107056, -0.3972140848636627, -0.3840172588825226, -0.5057322382926941, -0.37599703669548035, -0.43614116311073303, -0.4138593077659607, -0.4219582974910736, -0.3720930516719818, -0.49158981442451477, -0.4471041262149811, -0.46267324686050415, -0.3628194332122803, -0.4334336817264557, -0.3868306875228882, -0.39063963294029236, -0.38968926668167114, -0.4710880219936371, -0.45833203196525574, -0.3833203911781311, -0.43638530373573303, -0.3741094172000885, -0.47190994024276733, -0.4073602259159088], \"y\": [-0.31134817004203796, -0.24416108429431915, -0.25304529070854187, -0.2456923872232437, -0.30072206258773804, -0.2316501885652542, -0.34821394085884094, -0.17623060941696167, -0.25326409935951233, -0.3191753029823303, -0.306458055973053, -0.2329779714345932, -0.28949329257011414, -0.3123244345188141, -0.22436648607254028, -0.20935143530368805, -0.23794107139110565, -0.2639584243297577, -0.32753515243530273, -0.27433568239212036, -0.33063358068466187, -0.25105205178260803, -0.23889966309070587, -0.1996854543685913, -0.3270490765571594, -0.2160564363002777, -0.22993965446949005, -0.278877854347229, -0.32095059752464294, -0.2214195281267166, -0.31818482279777527, -0.3038121163845062, -0.24554948508739471, -0.34044212102890015, -0.2233782410621643, -0.3480246961116791, -0.3196675479412079], \"z\": [-0.315327525138855, -0.27771949768066406, -0.2764134705066681, -0.27323803305625916, -0.29661256074905396, -0.25271672010421753, -0.30746880173683167, -0.2667682468891144, -0.3090459704399109, -0.3564213812351227, -0.36213502287864685, -0.28487133979797363, -0.28957387804985046, -0.35589703917503357, -0.2600995600223541, -0.33840835094451904, -0.27811551094055176, -0.3297007381916046, -0.23154737055301666, -0.2844710350036621, -0.22996975481510162, -0.32502204179763794, -0.27554959058761597, -0.302970290184021, -0.29275617003440857, -0.25707051157951355, -0.22432060539722443, -0.35130739212036133, -0.2503795027732849, -0.3256027102470398, -0.25399962067604065, -0.28188830614089966, -0.2852846384048462, -0.2238883078098297, -0.2875097692012787, -0.2648269534111023, -0.24585600197315216]}, {\"customdata\": [[\"name the cloudy insulins ?\", \"insulin shock blood taken oral\", 10], [\"why is insulin taken orally ?\", \"insulin shock blood taken oral\", 10], [\"why is insulin injected ?\", \"insulin shock blood taken oral\", 10], [\"why insulin is taken intravenously ?\", \"insulin shock blood taken oral\", 10], [\"what the difference in care for a person who is having a insulin shock or a diabetic coma ?\", \"insulin shock blood taken oral\", 10], [\"why insulin can not be taken orally ?\", \"insulin shock blood taken oral\", 10], [\"what to do if a diabetic feels unwell ?\", \"insulin shock blood taken oral\", 10], [\"what hormone based does diabetes have ?\", \"insulin shock blood taken oral\", 10], [\"the differences between a diabetic coma and insulin shock ?\", \"insulin shock blood taken oral\", 10], [\"what are uses of insulin ?\", \"insulin shock blood taken oral\", 10], [\"does alt increase in blood effect on body ?\", \"insulin shock blood taken oral\", 10], [\"does hyperglycemia and hypoglycemia only occur in diabetic people ?\", \"insulin shock blood taken oral\", 10], [\"why do diabetics receive insulin subcutaneously by infection rather than orally ?\", \"insulin shock blood taken oral\", 10], [\"the role of insulin in the human body is to ?\", \"insulin shock blood taken oral\", 10], [\"what sudden illness results from too much or too little sugar in the person is blood ?\", \"insulin shock blood taken oral\", 10], [\"is their a relationship between diabetes and the pancreas ?\", \"insulin shock blood taken oral\", 10], [\"why does a diabetic who takes too much insulin go into insulin shock ?\", \"insulin shock blood taken oral\", 10], [\"does insulin shock occur quickly ?\", \"insulin shock blood taken oral\", 10], [\"why are keytones dangerous for diabetics ?\", \"insulin shock blood taken oral\", 10], [\"which group of chemicals does the hormone insulin belong ?\", \"insulin shock blood taken oral\", 10], [\"what is the proper aha first aid response to diabetic attack ?\", \"insulin shock blood taken oral\", 10], [\"what is the use for an insulin syringe ?\", \"insulin shock blood taken oral\", 10], [\"what should a physician do to treat insulin shock ?\", \"insulin shock blood taken oral\", 10], [\"what is the affect of high blood sugar and the kidneys and capillaries ?\", \"insulin shock blood taken oral\", 10], [\"insulin shock is a form of what ?\", \"insulin shock blood taken oral\", 10], [\"why you give insulin orally ?\", \"insulin shock blood taken oral\", 10], [\"why is their too little sugar in the blood when too much insulin is taken ?\", \"insulin shock blood taken oral\", 10], [\"why do diabetics inject insulin ?\", \"insulin shock blood taken oral\", 10], [\"how does low sugar affect eyesight ?\", \"insulin shock blood taken oral\", 10], [\"why does diabetes affect sport ?\", \"insulin shock blood taken oral\", 10], [\"how do you use insulin ?\", \"insulin shock blood taken oral\", 10], [\"what are the two types of shock that diabetics go into ?\", \"insulin shock blood taken oral\", 10], [\"why do people with type one diabetes inject with insulin ?\", \"insulin shock blood taken oral\", 10], [\"what is the pharmacological effect of insulin ?\", \"insulin shock blood taken oral\", 10], [\"what is the functoion of insulin ?\", \"insulin shock blood taken oral\", 10], [\"true or false scientists use genetic engineering to produce bacteria that is capable of synthesizing human proteins ?\", \"insulin shock blood taken oral\", 10], [\"why not insulin admitted in the form of tablet ?\", \"insulin shock blood taken oral\", 10], [\"how does diabetes effect the human body ?\", \"insulin shock blood taken oral\", 10], [\"what effect does an increase in the level of insulin in the blood have ?\", \"insulin shock blood taken oral\", 10], [\"what hormone makes your blood glucose increase ?\", \"insulin shock blood taken oral\", 10], [\"what is insulin ans why does your body need it ?\", \"insulin shock blood taken oral\", 10], [\"what happens if a type one diabetics skips insulin ?\", \"insulin shock blood taken oral\", 10], [\"what gland controls the sugar metabolism ?\", \"insulin shock blood taken oral\", 10], [\"what are two serious consequences that are possible for someone with type two diabetes if a prper diet is not followed ?\", \"insulin shock blood taken oral\", 10], [\"what effect does insulin have on the body ?\", \"insulin shock blood taken oral\", 10], [\"which hormone is taken intravenously by diabetics ?\", \"insulin shock blood taken oral\", 10], [\"in diabetes insulin is administered intravenously explain why this hormone protein can not be taken orally ?\", \"insulin shock blood taken oral\", 10], [\"my 7yr old son was diagnosed with tpye1 diabetes in july eight point we have been having alot of highs and lows lately , were told by his doctor that it is normal . i would like to get another opinion on this from someone with same problem . ?\", \"insulin shock blood taken oral\", 10], [\"if 100units of an insulin injection was given instead of 10units what would happen ?\", \"insulin shock blood taken oral\", 10], [\"why do people with diabetes use insulin ?\", \"insulin shock blood taken oral\", 10], [\"what is the difference between diabetic coma and insulin reaction ?\", \"insulin shock blood taken oral\", 10], [\"why do all people do not take insulin periodically so that they do not get diabetes ?\", \"insulin shock blood taken oral\", 10], [\"why insulin give to diabetic patient ?\", \"insulin shock blood taken oral\", 10], [\"what condition occurs when glucose in the blood falls below levels necessary for normal and efficient brain functioning ?\", \"insulin shock blood taken oral\", 10], [\"how do beta blockers cause hypoglycemia ?\", \"insulin shock blood taken oral\", 10]], \"hovertemplate\": \"summary=%{customdata[1]}<br>pc_1=%{x}<br>pc_2=%{y}<br>pc_3=%{z}<br>sentence=%{customdata[0]}<br>label=%{customdata[2]}<extra></extra>\", \"legendgroup\": \"insulin shock blood taken oral\", \"marker\": {\"color\": \"#636efa\", \"size\": 8, \"symbol\": \"circle\"}, \"mode\": \"markers\", \"name\": \"insulin shock blood taken oral\", \"scene\": \"scene\", \"showlegend\": true, \"type\": \"scatter3d\", \"x\": [-0.5309961438179016, -0.4163561761379242, -0.34754425287246704, -0.41554486751556396, -0.4043823778629303, -0.41436275839805603, -0.3660367429256439, -0.3255053460597992, -0.4034922420978546, -0.4959220886230469, -0.39016208052635193, -0.3834732174873352, -0.3896792232990265, -0.3561932444572449, -0.5039339661598206, -0.4377813935279846, -0.36915066838264465, -0.33842933177948, -0.3754100501537323, -0.3334653377532959, -0.27867594361305237, -0.39229816198349, -0.3876442015171051, -0.3365255892276764, -0.4153299033641815, -0.3574288785457611, -0.4860699772834778, -0.4570346772670746, -0.2730627655982971, -0.3836682140827179, -0.5221774578094482, -0.44410812854766846, -0.45927873253822327, -0.42986762523651123, -0.4128948450088501, -0.26335588097572327, -0.33697080612182617, -0.37729591131210327, -0.45662614703178406, -0.3734687864780426, -0.38787999749183655, -0.44679176807403564, -0.4860256016254425, -0.49088603258132935, -0.43965527415275574, -0.3441046476364136, -0.3411771059036255, -0.35749849677085876, -0.5214861631393433, -0.3800266683101654, -0.42579731345176697, -0.4094747304916382, -0.34758293628692627, -0.38117554783821106, -0.3414095938205719], \"y\": [-0.09567302465438843, -0.12054852396249771, -0.06879960745573044, -0.02768736518919468, -0.13220083713531494, -0.1498788446187973, -0.09190210700035095, -0.02277684397995472, -0.12956871092319489, -0.10725585371255875, -0.12977036833763123, -0.09200960397720337, -0.1304425448179245, -0.16374868154525757, -0.023280514404177666, -0.06025164946913719, -0.10612121224403381, -0.06787457317113876, -0.10270308703184128, -0.03536846488714218, -0.039297301322221756, -0.09903743863105774, -0.13441115617752075, -0.13016898930072784, -0.028964374214410782, -0.11330173164606094, -0.008151394315063953, -0.12713734805583954, -0.036663737148046494, -0.01661108247935772, -0.05845127999782562, -0.05813600495457649, -0.12364794313907623, -0.02507920376956463, -0.14455857872962952, -0.049366775900125504, -0.038983315229415894, -0.048448897898197174, -0.11327304691076279, 0.0025122470688074827, -0.11232790350914001, -0.054432958364486694, -0.014056284911930561, -0.10965195298194885, -0.08582022786140442, -0.17005620896816254, -0.04839898645877838, -0.16257567703723907, -0.047872815281152725, -0.043795328587293625, -0.031197411939501762, -0.15920762717723846, -0.07609955221414566, -0.021044570952653885, -0.08272480219602585], \"z\": [-0.6072927117347717, -0.6490469574928284, -0.5160728096961975, -0.5553540587425232, -0.5116997361183167, -0.6550352573394775, -0.591477632522583, -0.5891711711883545, -0.5402911305427551, -0.6253643035888672, -0.6606267094612122, -0.6893972754478455, -0.6673444509506226, -0.583453357219696, -0.6491407752037048, -0.6414226293563843, -0.6128402352333069, -0.6503697633743286, -0.6014213562011719, -0.5782089829444885, -0.5610537528991699, -0.6851254105567932, -0.5482345223426819, -0.6477574706077576, -0.5599845051765442, -0.6369905471801758, -0.5858412384986877, -0.6254445910453796, -0.5536178946495056, -0.6907624006271362, -0.6240207552909851, -0.6187231540679932, -0.6342687010765076, -0.5417269468307495, -0.577853262424469, -0.5708171129226685, -0.5619491934776306, -0.6577662825584412, -0.6268182396888733, -0.6772180199623108, -0.5539998412132263, -0.6409022808074951, -0.5905138850212097, -0.6317019462585449, -0.5966365933418274, -0.5788372159004211, -0.5407085418701172, -0.5741862058639526, -0.6214141845703125, -0.6933624744415283, -0.5383511781692505, -0.6618775725364685, -0.5972669720649719, -0.6863422989845276, -0.6503671407699585]}, {\"customdata\": [[\"where can one find liquid glucose ?\", \"find recip onlin inform meal\", 16], [\"diabetic recipes free ?\", \"find recip onlin inform meal\", 16], [\"where can you find information on diabetic meal planning ?\", \"find recip onlin inform meal\", 16], [\"where can i find reasources on an official mayo clinic diet ?\", \"find recip onlin inform meal\", 16], [\"where are some simple recipes found for a diabetic menu ?\", \"find recip onlin inform meal\", 16], [\"where can i find diabetes supplements online ?\", \"find recip onlin inform meal\", 16], [\"where can i find more information diabetic meals ?\", \"find recip onlin inform meal\", 16], [\"where can you find a diabetic cake recipe ?\", \"find recip onlin inform meal\", 16], [\"where can i find the diabetic food guide ?\", \"find recip onlin inform meal\", 16], [\"are there any websites that can help me find diabetic cooking ?\", \"find recip onlin inform meal\", 16], [\"where can one find information on the best diabetes recipe ?\", \"find recip onlin inform meal\", 16], [\"where can i find free recipes for diabetics ?\", \"find recip onlin inform meal\", 16], [\"what are some meals that are safe for people with diabetes ?\", \"find recip onlin inform meal\", 16], [\"where can one find diabetic diet menus ?\", \"find recip onlin inform meal\", 16], [\"what online site has gestational diabetes recipe is ?\", \"find recip onlin inform meal\", 16], [\"where can i find more information on diabetes recipes ?\", \"find recip onlin inform meal\", 16], [\"are there any online healthy diabetic recipes for desserts ?\", \"find recip onlin inform meal\", 16], [\"what are some diabetic menu planner ideas ?\", \"find recip onlin inform meal\", 16], [\"where can i find a list of diabetic approved foods ?\", \"find recip onlin inform meal\", 16], [\"where can i find healthy diabetic recipes online ?\", \"find recip onlin inform meal\", 16], [\"where can you purchase diabetic supply online ?\", \"find recip onlin inform meal\", 16], [\"where can you find some tasty diabetic recipes ?\", \"find recip onlin inform meal\", 16], [\"where online can someone find free diabetes recipes ?\", \"find recip onlin inform meal\", 16], [\"where can i find information on diabetic meal planning ?\", \"find recip onlin inform meal\", 16], [\"where can i find a diabetic meals food guide ?\", \"find recip onlin inform meal\", 16]], \"hovertemplate\": \"summary=%{customdata[1]}<br>pc_1=%{x}<br>pc_2=%{y}<br>pc_3=%{z}<br>sentence=%{customdata[0]}<br>label=%{customdata[2]}<extra></extra>\", \"legendgroup\": \"find recip onlin inform meal\", \"marker\": {\"color\": \"#EF553B\", \"size\": 8, \"symbol\": \"circle\"}, \"mode\": \"markers\", \"name\": \"find recip onlin inform meal\", \"scene\": \"scene\", \"showlegend\": true, \"type\": \"scatter3d\", \"x\": [-0.46774086356163025, -0.3759068548679352, -0.4033172130584717, -0.3742964565753937, -0.4153030514717102, -0.337223619222641, -0.40632447600364685, -0.5016707181930542, -0.39536893367767334, -0.40933725237846375, -0.44113215804100037, -0.40452972054481506, -0.38120216131210327, -0.393033891916275, -0.4033135771751404, -0.42100217938423157, -0.3644280731678009, -0.386262983083725, -0.3780486583709717, -0.42571237683296204, -0.3709326386451721, -0.5075204968452454, -0.40614554286003113, -0.4044187068939209, -0.4040808379650116], \"y\": [0.11671527475118637, 0.06767389178276062, 0.16514605283737183, 0.2012702077627182, 0.12881532311439514, 0.09131227433681488, 0.17460258305072784, 0.12582318484783173, 0.2055661529302597, 0.09321609884500504, 0.10193687677383423, 0.0879693254828453, 0.21258828043937683, 0.15328079462051392, 0.198303684592247, 0.13352914154529572, 0.09193310886621475, 0.2109813690185547, 0.21470190584659576, 0.15434344112873077, 0.061444949358701706, 0.1375422179698944, 0.16581369936466217, 0.16194818913936615, 0.20580218732357025], \"z\": [0.4426867961883545, 0.48219215869903564, 0.470432311296463, 0.48791512846946716, 0.5234304070472717, 0.5004088878631592, 0.44576168060302734, 0.5364841222763062, 0.5642021298408508, 0.5080344080924988, 0.45395299792289734, 0.501478374004364, 0.538074791431427, 0.5160012245178223, 0.5409877300262451, 0.42557623982429504, 0.5043323040008545, 0.5477626919746399, 0.5026707053184509, 0.4870219826698303, 0.49582988023757935, 0.5356379151344299, 0.4736342430114746, 0.47267845273017883, 0.5642425417900085]}, {\"customdata\": [[\"my insurance is pretty high and then it still covers very little of my insulin and supplies . my income is at the poverty level , but i do not seem to qualify for help with my diabetes . i have type one point where may i find help to pay for medications i need ?\", \"eat help good patient drink\", 17], [\"can a diabetic have the color red in a tattoo ?\", \"eat help good patient drink\", 17], [\"can a diabetic own a handgun ?\", \"eat help good patient drink\", 17], [\"is coconut water good for a diabetic person ?\", \"eat help good patient drink\", 17], [\"how long can a diabetic patient survive ?\", \"eat help good patient drink\", 17], [\"is the hand safe for a diabetic to get a tattoo ?\", \"eat help good patient drink\", 17], [\"food to lower high blood presure ?\", \"eat help good patient drink\", 17], [\"can a diabetic drink dark navy rum ?\", \"eat help good patient drink\", 17], [\"can diabetics drink orange jiuce ?\", \"eat help good patient drink\", 17], [\"do herbs raise sugar levels ?\", \"eat help good patient drink\", 17], [\"can diabetic person eat apricot ?\", \"eat help good patient drink\", 17], [\"can diabetes cause shin splints ?\", \"eat help good patient drink\", 17], [\"taking no chances with diabetic equipment ?\", \"eat help good patient drink\", 17], [\"is cottage chese good for diabetics ?\", \"eat help good patient drink\", 17], [\"can a convicted felon be hemodialysis technician ?\", \"eat help good patient drink\", 17], [\"can a diabetic patient eat one mango a day ?\", \"eat help good patient drink\", 17], [\"can i test my blood sugar from other areas than my fingers ?\", \"eat help good patient drink\", 17], [\"can diabetics eat mutton ?\", \"eat help good patient drink\", 17], [\"can diabetics eat from the orange family ?\", \"eat help good patient drink\", 17], [\"how can dark chocolate help diabetics ?\", \"eat help good patient drink\", 17], [\"is tonic water good for diabetic ?\", \"eat help good patient drink\", 17], [\"is mutton good for diabetic ?\", \"eat help good patient drink\", 17], [\"can a diabetic eat apples ?\", \"eat help good patient drink\", 17], [\"can diabetics have fruits ?\", \"eat help good patient drink\", 17], [\"will this help diabetic ?\", \"eat help good patient drink\", 17], [\"does clariten have an effect on glucose readings ?\", \"eat help good patient drink\", 17], [\"how many carbs should a three hundred pound woman eat per day ?\", \"eat help good patient drink\", 17], [\"does a diabetic patient should eat orange ?\", \"eat help good patient drink\", 17], [\"can a diabetic eat fruits ?\", \"eat help good patient drink\", 17], [\"does insulin need to be refrigirated ?\", \"eat help good patient drink\", 17], [\"do you give a diabetic lactulose ?\", \"eat help good patient drink\", 17], [\"what can you drink besides water being border line diabetic ?\", \"eat help good patient drink\", 17], [\"is diabetes a religion ?\", \"eat help good patient drink\", 17], [\"is cereal suitable for diabetic patient ?\", \"eat help good patient drink\", 17], [\"are diabetic test strips universal ?\", \"eat help good patient drink\", 17], [\"is it safe for diabetics to drink aspartame ?\", \"eat help good patient drink\", 17], [\"are there any diabetes blood sugar tests that do not require pricking the fingers ?\", \"eat help good patient drink\", 17], [\"how much fruit can a type two diabetic have a day ?\", \"eat help good patient drink\", 17]], \"hovertemplate\": \"summary=%{customdata[1]}<br>pc_1=%{x}<br>pc_2=%{y}<br>pc_3=%{z}<br>sentence=%{customdata[0]}<br>label=%{customdata[2]}<extra></extra>\", \"legendgroup\": \"eat help good patient drink\", \"marker\": {\"color\": \"#00cc96\", \"size\": 8, \"symbol\": \"circle\"}, \"mode\": \"markers\", \"name\": \"eat help good patient drink\", \"scene\": \"scene\", \"showlegend\": true, \"type\": \"scatter3d\", \"x\": [0.18414731323719025, 0.16813594102859497, 0.1698632538318634, 0.1136636883020401, 0.13433930277824402, 0.20910988748073578, 0.12285251915454865, 0.12621892988681793, 0.16276535391807556, 0.14229527115821838, 0.1650008261203766, 0.16466890275478363, 0.16777890920639038, 0.23880259692668915, 0.16008354723453522, 0.17769600450992584, 0.12307132035493851, 0.2566288709640503, 0.17242532968521118, 0.15514470636844635, 0.16574811935424805, 0.2443007528781891, 0.16918911039829254, 0.2275092452764511, 0.21967805922031403, 0.11964906752109528, 0.2513459026813507, 0.16407546401023865, 0.19611787796020508, 0.1177268922328949, 0.20134662091732025, 0.1594431847333908, 0.24228455126285553, 0.15219992399215698, 0.17222139239311218, 0.1871534138917923, 0.18430113792419434, 0.24309124052524567], \"y\": [-0.49293938279151917, -0.334348201751709, -0.48537275195121765, -0.49305182695388794, -0.4009898900985718, -0.3850453794002533, -0.4287489950656891, -0.4285697638988495, -0.3194875121116638, -0.32406291365623474, -0.4296906888484955, -0.5019972920417786, -0.35439416766166687, -0.3863324820995331, -0.4986304044723511, -0.37226012349128723, -0.48782721161842346, -0.42495834827423096, -0.3427296578884125, -0.3100031018257141, -0.4325220286846161, -0.42063239216804504, -0.38490697741508484, -0.3913957476615906, -0.3971261978149414, -0.4191740155220032, -0.35586509108543396, -0.42270877957344055, -0.48671919107437134, -0.42520323395729065, -0.4277060329914093, -0.3927552103996277, -0.4086374342441559, -0.3143717646598816, -0.46036291122436523, -0.35222724080085754, -0.4880378246307373, -0.36252033710479736], \"z\": [0.4340537488460541, 0.2989465892314911, 0.4102950990200043, 0.34676480293273926, 0.33023601770401, 0.3607909381389618, 0.36666056513786316, 0.30253371596336365, 0.3004196584224701, 0.41744160652160645, 0.3901727795600891, 0.4255400598049164, 0.4269441068172455, 0.35661807656288147, 0.41225337982177734, 0.3895554840564728, 0.35565799474716187, 0.38522323966026306, 0.4364500641822815, 0.3897538483142853, 0.39042285084724426, 0.38108256459236145, 0.3628675639629364, 0.3606216013431549, 0.3701338768005371, 0.3107987344264984, 0.3376605212688446, 0.4014520049095154, 0.45068997144699097, 0.30676501989364624, 0.2842606008052826, 0.413426011800766, 0.3764303922653198, 0.40189769864082336, 0.3800296187400818, 0.40381550788879395, 0.43838363885879517, 0.34250667691230774]}, {\"customdata\": [[\"is nick jonas diabetes getting worse ?\", \"jona nick brother get caus\", 5], [\"would justin bieber go out with a girl that has diabetes ?\", \"jona nick brother get caus\", 5], [\"what can happen if diabetes is not treated ?\", \"jona nick brother get caus\", 5], [\"which of the jonas brother have diabetes ?\", \"jona nick brother get caus\", 5], [\"who has a diabetes nick kevin joe ?\", \"jona nick brother get caus\", 5], [\"how old was nick jonas when he found out he had diabetes ?\", \"jona nick brother get caus\", 5], [\"when did nick jonas become a diabetic ?\", \"jona nick brother get caus\", 5], [\"is nick jona diabetes getting worse ?\", \"jona nick brother get caus\", 5], [\"can constipation cause frequent urination ?\", \"jona nick brother get caus\", 5], [\"was nick jonas in the hospital for diabetes why ?\", \"jona nick brother get caus\", 5], [\"can a obese diabetic regain strength of her weak thin legs by exercise ?\", \"jona nick brother get caus\", 5], [\"how does nick jonas brothers help him through living with diabetes ?\", \"jona nick brother get caus\", 5], [\"what does nick jonas use for his diabetes ?\", \"jona nick brother get caus\", 5], [\"what eye problems are symptoms of diabetes ?\", \"jona nick brother get caus\", 5], [\"why does diabetes restrict a beauty treatment ?\", \"jona nick brother get caus\", 5], [\"what causes pain in your right arm between elbow and shoulder and numbness in your right fingers ?\", \"jona nick brother get caus\", 5], [\"which member of the jonas brother band has diabetes ?\", \"jona nick brother get caus\", 5], [\"does mitchell musso have diabetes ?\", \"jona nick brother get caus\", 5], [\"does nick jonas have 'juvenile diabetes ' or diabetes ?\", \"jona nick brother get caus\", 5], [\"would justin bieber go out with a girl that can sing ?\", \"jona nick brother get caus\", 5], [\"do more people die of aids or diabetes ?\", \"jona nick brother get caus\", 5], [\"is nick jonas dying because of diabetes ?\", \"jona nick brother get caus\", 5], [\"what causes dry mouth ?\", \"jona nick brother get caus\", 5], [\"was it november sixteen that nick jonas learned he had diabetes ?\", \"jona nick brother get caus\", 5], [\"are you icaps good for glaucoma patients ?\", \"jona nick brother get caus\", 5], [\"who has diabetes out of the jonas brothers ?\", \"jona nick brother get caus\", 5], [\"nick jonas quote on diabetes ?\", \"jona nick brother get caus\", 5], [\"when was nick jonas diagnosed with diabetes ?\", \"jona nick brother get caus\", 5], [\"when did nick had diabetes ?\", \"jona nick brother get caus\", 5], [\"what kind of diabetes did nick jonas had ?\", \"jona nick brother get caus\", 5], [\"joe do you have diabetes like nick ?\", \"jona nick brother get caus\", 5], [\"why is nick jonas diabetic ?\", \"jona nick brother get caus\", 5], [\"is nick jonas diabetic ?\", \"jona nick brother get caus\", 5], [\"did nick jonas consider leaving the jonas brothers when he found out that he had diabetes ?\", \"jona nick brother get caus\", 5], [\"what is excessive hunger associated with diabetes mellitus ?\", \"jona nick brother get caus\", 5], [\"does nick jonas tack off his dog tag when he sleeps ?\", \"jona nick brother get caus\", 5], [\"can you kiss nick jonas is he has diabetes ?\", \"jona nick brother get caus\", 5], [\"who has diabetes in the jonas brothers ?\", \"jona nick brother get caus\", 5], [\"did nick jonas ever have diabetes ?\", \"jona nick brother get caus\", 5], [\"will vision change as sugar levels increase or decrease ?\", \"jona nick brother get caus\", 5], [\"where do you get nick jonas diabetes tags ?\", \"jona nick brother get caus\", 5], [\"how clean does your background need to be before you can join the air force ?\", \"jona nick brother get caus\", 5], [\"how did nick jonas find out he had diabetes ?\", \"jona nick brother get caus\", 5], [\"is mitchell musso diabetic ?\", \"jona nick brother get caus\", 5], [\"how did nick jonas have diabetes ?\", \"jona nick brother get caus\", 5], [\"how did nick jonas get diabetes ?\", \"jona nick brother get caus\", 5], [\"how is a person is daily life affected by diabetes ?\", \"jona nick brother get caus\", 5], [\"insulin resistance may be stimulated by elevated concentrations of all of the following except ?\", \"jona nick brother get caus\", 5], [\"does nick jonas make too big of a deal about his diabetes ?\", \"jona nick brother get caus\", 5]], \"hovertemplate\": \"summary=%{customdata[1]}<br>pc_1=%{x}<br>pc_2=%{y}<br>pc_3=%{z}<br>sentence=%{customdata[0]}<br>label=%{customdata[2]}<extra></extra>\", \"legendgroup\": \"jona nick brother get caus\", \"marker\": {\"color\": \"#ab63fa\", \"size\": 8, \"symbol\": \"circle\"}, \"mode\": \"markers\", \"name\": \"jona nick brother get caus\", \"scene\": \"scene\", \"showlegend\": true, \"type\": \"scatter3d\", \"x\": [0.5929561853408813, 0.5580987930297852, 0.5602108240127563, 0.5587255954742432, 0.573178768157959, 0.4588707685470581, 0.5063858032226562, 0.5040820837020874, 0.5114563703536987, 0.5612557530403137, 0.4460785388946533, 0.42719241976737976, 0.6127111315727234, 0.4521673917770386, 0.40766996145248413, 0.5513533353805542, 0.5160343050956726, 0.5679343342781067, 0.5026020407676697, 0.5360766053199768, 0.5075746178627014, 0.6024178862571716, 0.5560051202774048, 0.5954689383506775, 0.5496459007263184, 0.5503053069114685, 0.5494878888130188, 0.5548807382583618, 0.5570875406265259, 0.5706892609596252, 0.595134437084198, 0.5576993227005005, 0.6125938296318054, 0.5261213779449463, 0.5760231018066406, 0.4494384229183197, 0.5001975893974304, 0.5575861930847168, 0.5899811387062073, 0.5230597853660583, 0.5252288579940796, 0.5608190298080444, 0.4095512926578522, 0.5500698089599609, 0.5604971647262573, 0.5585759282112122, 0.5589946508407593, 0.4681532084941864, 0.5849696397781372], \"y\": [0.08243018388748169, -0.05133086442947388, -0.04712754487991333, 0.00973560381680727, 0.04898516461253166, 0.03009290061891079, 0.01565142720937729, 0.11995410174131393, 0.10372200608253479, 0.00700894882902503, -0.029063593596220016, 0.030697543174028397, 0.05211801826953888, -0.026986312121152878, 0.04758542403578758, 0.009542496874928474, 0.10238190740346909, -0.06156463548541069, 0.03328155353665352, -0.01441213395446539, 0.02524336241185665, 0.002135725226253271, -0.024210283532738686, -0.01085797417908907, 0.08744192123413086, 0.07271675765514374, 0.03169109672307968, 0.03826853632926941, 0.00966117437928915, 0.030547497794032097, 0.06918040663003922, -0.032872457057237625, 0.06111105903983116, 0.10159405320882797, 0.007910743355751038, -0.01502131950110197, 0.1296142041683197, 0.07234884053468704, 0.07533452659845352, 0.10199428349733353, -0.04369991645216942, 0.12517249584197998, 0.03700128197669983, -0.07612506300210953, 0.04979560151696205, 0.06369900703430176, -0.07398883998394012, 0.010990563780069351, -0.00545771699398756], \"z\": [-0.34856629371643066, -0.32489830255508423, -0.3353433907032013, -0.37017202377319336, -0.3905421793460846, -0.3582598865032196, -0.36074966192245483, -0.35273608565330505, -0.3507244884967804, -0.37175652384757996, -0.329401433467865, -0.36002999544143677, -0.327458918094635, -0.3344491720199585, -0.35226893424987793, -0.34555482864379883, -0.3470567464828491, -0.36757510900497437, -0.3681097626686096, -0.3279045820236206, -0.3674376904964447, -0.32441478967666626, -0.32677915692329407, -0.33416494727134705, -0.45456886291503906, -0.42804306745529175, -0.4600658416748047, -0.45302683115005493, -0.3528602421283722, -0.4467373490333557, -0.35220813751220703, -0.39471882581710815, -0.3261895179748535, -0.3458629846572876, -0.45641204714775085, -0.3315540850162506, -0.35888463258743286, -0.4549338221549988, -0.3615277409553528, -0.3514605164527893, -0.3906758725643158, -0.3989454507827759, -0.35374557971954346, -0.38043075799942017, -0.4119321405887604, -0.45069992542266846, -0.38473981618881226, -0.360823392868042, -0.33697861433029175]}, {\"customdata\": [[\"what is the cause of diabetes type two ?\", \"type caus two insulin one\", 12], [\"what are the chances of diabetes being hereditary ?\", \"type caus two insulin one\", 12], [\"what can diabetes do to your body ?\", \"type caus two insulin one\", 12], [\"what are the causes of type two diabetes ?\", \"type caus two insulin one\", 12], [\"at what age can you get diabetes mellitus ?\", \"type caus two insulin one\", 12], [\"why do people get diabetes type two ?\", \"type caus two insulin one\", 12], [\"how does someone develop diabetes ?\", \"type caus two insulin one\", 12], [\"what is the major cause of insulin resistance ?\", \"type caus two insulin one\", 12], [\"is type one diabetes strong or type two ?\", \"type caus two insulin one\", 12], [\"is juvenile diabetes o genetic disorder ?\", \"type caus two insulin one\", 12], [\"can someone be health and get diabetes because your dad has it ?\", \"type caus two insulin one\", 12], [\"diabetes mellitus is a disease that occurs when the body either can not produce the hormone insulin or produces an insufficient amount of insulin . the disease is caused by a disruption in the system . ?\", \"type caus two insulin one\", 12], [\"what are some of the effects of type one diabetes ?\", \"type caus two insulin one\", 12], [\"can optimal blood glucose control reduce the risk of coronary heart disease in patients with type one diabetes ?\", \"type caus two insulin one\", 12], [\"what causes insulin resistance ?\", \"type caus two insulin one\", 12], [\"how is pyorrhea linked to diabetes type one ?\", \"type caus two insulin one\", 12], [\"what is true about diabetes type two ?\", \"type caus two insulin one\", 12], [\"diabetes mellitus is a disorder of ?\", \"type caus two insulin one\", 12], [\"how is diabetes controlled ?\", \"type caus two insulin one\", 12], [\"what is the cause of diabeties ?\", \"type caus two insulin one\", 12], [\"how is type two diabetes controlled ?\", \"type caus two insulin one\", 12], [\"what is a cause of diabetes ?\", \"type caus two insulin one\", 12], [\"what s type three diabetes ?\", \"type caus two insulin one\", 12], [\"what are causes of diabetes ?\", \"type caus two insulin one\", 12], [\"what is the cause of diabetes ?\", \"type caus two insulin one\", 12], [\"what are the genes responsible for diabetes ?\", \"type caus two insulin one\", 12], [\"does type two diabetes cause insulin deficiency or insulin resistance ?\", \"type caus two insulin one\", 12]], \"hovertemplate\": \"summary=%{customdata[1]}<br>pc_1=%{x}<br>pc_2=%{y}<br>pc_3=%{z}<br>sentence=%{customdata[0]}<br>label=%{customdata[2]}<extra></extra>\", \"legendgroup\": \"type caus two insulin one\", \"marker\": {\"color\": \"#FFA15A\", \"size\": 8, \"symbol\": \"circle\"}, \"mode\": \"markers\", \"name\": \"type caus two insulin one\", \"scene\": \"scene\", \"showlegend\": true, \"type\": \"scatter3d\", \"x\": [0.11985448002815247, 0.11109252274036407, 0.1057489886879921, 0.08943445235490799, 0.17050272226333618, 0.13712887465953827, 0.08855429291725159, 0.11938400566577911, 0.17119057476520538, 0.11854604631662369, 0.1620369404554367, 0.025086982175707817, 0.0693000927567482, 0.1289270520210266, 0.07363636791706085, 0.08887789398431778, 0.10781648010015488, 0.07724616676568985, 0.14356067776679993, 0.09214037656784058, 0.17443925142288208, 0.13790851831436157, 0.08433239907026291, 0.08577825874090195, 0.09416911751031876, 0.08755723387002945, 0.08325768262147903], \"y\": [0.713424801826477, 0.6234301924705505, 0.604484498500824, 0.7370651364326477, 0.6894420981407166, 0.6220299005508423, 0.6651166677474976, 0.6829612851142883, 0.6766789555549622, 0.7023478150367737, 0.6318896412849426, 0.5980108976364136, 0.7114664912223816, 0.6900773644447327, 0.6735076308250427, 0.6246147155761719, 0.6327857971191406, 0.6233357787132263, 0.6190930008888245, 0.6761308908462524, 0.6595807671546936, 0.6975805163383484, 0.7111047506332397, 0.7357916831970215, 0.7168923020362854, 0.6710827350616455, 0.6237396001815796], \"z\": [-0.3022235631942749, -0.44707074761390686, -0.292715847492218, -0.35586902499198914, -0.3219345808029175, -0.42876186966896057, -0.36468270421028137, -0.44212326407432556, -0.33784493803977966, -0.4345003366470337, -0.4066421091556549, -0.3592015206813812, -0.3759656250476837, -0.4392843246459961, -0.37461498379707336, -0.34446340799331665, -0.3972885012626648, -0.37637126445770264, -0.4319412410259247, -0.3573344647884369, -0.3518943786621094, -0.2857747972011566, -0.3294033408164978, -0.3825230598449707, -0.3258744776248932, -0.26976627111434937, -0.3800952434539795]}, {\"customdata\": [[\"how many children in the us have type two diabetes ?\", \"caus type gestat mani two\", 22], [\"what causes the lack of blood flow to the hands ?\", \"caus type gestat mani two\", 22], [\"what type of diabetes is associated with pregnancy ?\", \"caus type gestat mani two\", 22], [\"what is the chance of a diabetic baby born to parents both heterozygous normal ?\", \"caus type gestat mani two\", 22], [\"how many kids have diabeties ?\", \"caus type gestat mani two\", 22], [\"in ohio how would custody work if the father and mother are not married but the mother is chemically dependent and the father is the primary care taker of their four year old son with type one diabetes ?\", \"caus type gestat mani two\", 22], [\"what is diabetes one and two ?\", \"caus type gestat mani two\", 22], [\"what is the main cause of gestational diabetes ?\", \"caus type gestat mani two\", 22], [\"diabetes in pregnancy ?\", \"caus type gestat mani two\", 22], [\"how do you write a school research paper on diabetes ?\", \"caus type gestat mani two\", 22], [\"what is a common drug used to treat non-insulin-dependent diabetes ?\", \"caus type gestat mani two\", 22], [\"what diabetes caused by ?\", \"caus type gestat mani two\", 22], [\"how many women have diabetes ?\", \"caus type gestat mani two\", 22], [\"if a woman develops diabetes only while pregnant having it go away after giving birth what are the chances of type one diabetes in the child ?\", \"caus type gestat mani two\", 22], [\"what is the chance of diabetic baby born to parents both heterozygous normal ?\", \"caus type gestat mani two\", 22], [\"what is gestational diabetes and how can it be controlled ?\", \"caus type gestat mani two\", 22], [\"when was jackie robinson diagnosed with diabetes ?\", \"caus type gestat mani two\", 22], [\"what is the most prevalent form of diabetes ?\", \"caus type gestat mani two\", 22], [\"how does diabetes start ?\", \"caus type gestat mani two\", 22], [\"gestational age ?\", \"caus type gestat mani two\", 22], [\"how does the bodie respond to diabetes ?\", \"caus type gestat mani two\", 22], [\"pregnancy diabetes ?\", \"caus type gestat mani two\", 22], [\"what causes gestational diabetes ?\", \"caus type gestat mani two\", 22], [\"what is the history of diabetes ?\", \"caus type gestat mani two\", 22], [\"how prevalent is diabetes ?\", \"caus type gestat mani two\", 22], [\"what caused diabetes ?\", \"caus type gestat mani two\", 22], [\"why are children developing diabetes ?\", \"caus type gestat mani two\", 22], [\"how diabetes are caused ?\", \"caus type gestat mani two\", 22], [\"what are the release dates for project not me diabetes prevention - two thousand and twelve slippery slopes 1-12 ?\", \"caus type gestat mani two\", 22], [\"what percent of people get diabetes ?\", \"caus type gestat mani two\", 22]], \"hovertemplate\": \"summary=%{customdata[1]}<br>pc_1=%{x}<br>pc_2=%{y}<br>pc_3=%{z}<br>sentence=%{customdata[0]}<br>label=%{customdata[2]}<extra></extra>\", \"legendgroup\": \"caus type gestat mani two\", \"marker\": {\"color\": \"#19d3f3\", \"size\": 8, \"symbol\": \"circle\"}, \"mode\": \"markers\", \"name\": \"caus type gestat mani two\", \"scene\": \"scene\", \"showlegend\": true, \"type\": \"scatter3d\", \"x\": [0.02600792795419693, 0.11832334846258163, 0.001970950746908784, 0.0823882520198822, -0.0006545432843267918, 0.018190445378422737, -0.0008517639362253249, 0.012563754804432392, 0.0852036252617836, 0.014133254066109657, 0.009723350405693054, -0.01130644977092743, 0.10699140280485153, 0.0017772350693121552, 0.08390063792467117, 0.014663830399513245, 0.031378090381622314, -0.014292633160948753, 0.045739833265542984, 0.033428024500608444, 0.05076189339160919, 0.0853554904460907, 0.02017888054251671, 0.1140163242816925, 0.009328356012701988, 0.011126191355288029, 0.07554037123918533, 0.09411019831895828, -0.00027190870605409145, 0.009859880432486534], \"y\": [0.9261125922203064, 0.965552568435669, 0.8985068798065186, 0.9515396356582642, 0.9128280282020569, 0.8775928616523743, 0.8679249882698059, 0.8877483606338501, 0.9431363940238953, 0.8379141092300415, 0.9039322137832642, 0.9225245118141174, 0.9566226005554199, 0.9186413288116455, 0.962132453918457, 0.8441091179847717, 0.9274466633796692, 0.881561279296875, 0.932839572429657, 0.8956122994422913, 0.9398022294044495, 0.9398153424263, 0.9092574119567871, 0.959692656993866, 0.917955219745636, 0.9052039980888367, 0.9460611343383789, 0.9398863911628723, 0.8835843205451965, 0.9312190413475037], \"z\": [0.012338588014245033, -0.033080246299505234, -0.0786772146821022, 0.0217879768460989, 0.06687597930431366, -0.024605363607406616, -0.0191488116979599, 0.02751779928803444, 0.022184433415532112, -0.002240606350824237, -0.057480692863464355, -0.10130613297224045, -0.06272464245557785, 0.05797345191240311, 0.011916627176105976, -0.005893511697649956, -0.018845578655600548, -0.015108303166925907, 0.05331946164369583, 0.030965283513069153, -0.028804857283830643, 0.030755912885069847, -0.03286406397819519, -0.04760095104575157, 0.04354839026927948, -0.06053914874792099, 0.05370481312274933, 0.018835458904504776, -0.03912407159805298, 0.011960388161242008]}, {\"customdata\": [[\"does having pre diabetes make you more likely to get gestational diabetes ?\", \"prevent get type lose two\", 20], [\"how can you prevent getting diabetes ?\", \"prevent get type lose two\", 20], [\"if you lose weight will type two diabetes go away ?\", \"prevent get type lose two\", 20], [\"can cats get diabetes ?\", \"prevent get type lose two\", 20], [\"what are some of the best methods of diabetes prevention ?\", \"prevent get type lose two\", 20], [\"can i reverse diabetes with a six hundred calorie diet ?\", \"prevent get type lose two\", 20], [\"can cats have diabetes ?\", \"prevent get type lose two\", 20], [\"what diet caises diabetes ?\", \"prevent get type lose two\", 20], [\"how can you lose weight and control your type two diabetes ?\", \"prevent get type lose two\", 20], [\"how can you help people that has diabetes ?\", \"prevent get type lose two\", 20], [\"prevention measure of diabetes ?\", \"prevent get type lose two\", 20], [\"what can a person do to prevent getting diabetes ?\", \"prevent get type lose two\", 20], [\"how you can prevent diabetes ?\", \"prevent get type lose two\", 20], [\"can you lose diabetes ?\", \"prevent get type lose two\", 20], [\"can i handle my diabetes through diet alone without any medical supplies ?\", \"prevent get type lose two\", 20], [\"if you have rhumetoid arthritis are you at risk for type one diabetes ?\", \"prevent get type lose two\", 20], [\"my boyfriend is in the late stages of alcoholism he cant eat and is extremely thin . most of his caloric intake is from booze . doctors suspect he is diabetic now . does that happen often ?\", \"prevent get type lose two\", 20], [\"how do you know that your dog is a diabetes ?\", \"prevent get type lose two\", 20], [\"can diabetes prevent surgery ?\", \"prevent get type lose two\", 20], [\"how could you prevent diabetes ?\", \"prevent get type lose two\", 20], [\"if diabetes runs through your family what can you do to prevent from getting it yourself ?\", \"prevent get type lose two\", 20], [\"how can you prevent type two diabetes ?\", \"prevent get type lose two\", 20], [\"does late dinner cause of diabetes ?\", \"prevent get type lose two\", 20], [\"what can i do to help prevent diabetes ?\", \"prevent get type lose two\", 20], [\"what can you do to lower your risk of getting diabetes ?\", \"prevent get type lose two\", 20], [\"what are treatment options for children with diabetes ?\", \"prevent get type lose two\", 20], [\"can eating to much honey cause you to become diabetic ?\", \"prevent get type lose two\", 20], [\"what is an omnipod ?\", \"prevent get type lose two\", 20], [\"what measures can be taken to prevent diabetes in adults ?\", \"prevent get type lose two\", 20], [\"how do i prevent developing diabetes ?\", \"prevent get type lose two\", 20], [\"what is the leading cause of diabetes in america and how can i prevent getting it ?\", \"prevent get type lose two\", 20], [\"what are good methods of diabetes prevention ?\", \"prevent get type lose two\", 20], [\"does raven symone have diabetes ?\", \"prevent get type lose two\", 20], [\"you are insulin resistant you do not however have diabetes if you lose the weight will your insulin resistance go too along with it your chance of developing diabetes ?\", \"prevent get type lose two\", 20], [\"how can soccer prevent type two diabetes ?\", \"prevent get type lose two\", 20], [\"is it harder for a man with diabetes to get a woman pregnant ?\", \"prevent get type lose two\", 20]], \"hovertemplate\": \"summary=%{customdata[1]}<br>pc_1=%{x}<br>pc_2=%{y}<br>pc_3=%{z}<br>sentence=%{customdata[0]}<br>label=%{customdata[2]}<extra></extra>\", \"legendgroup\": \"prevent get type lose two\", \"marker\": {\"color\": \"#FF6692\", \"size\": 8, \"symbol\": \"circle\"}, \"mode\": \"markers\", \"name\": \"prevent get type lose two\", \"scene\": \"scene\", \"showlegend\": true, \"type\": \"scatter3d\", \"x\": [0.18682710826396942, 0.3094789385795593, 0.22783368825912476, 0.3116925060749054, 0.2029029130935669, 0.3220953643321991, 0.3539081811904907, 0.2003386914730072, 0.2543754279613495, 0.26652055978775024, 0.2638113498687744, 0.2912294268608093, 0.30569714307785034, 0.27281901240348816, 0.20932187139987946, 0.2795783579349518, 0.3142144978046417, 0.21738910675048828, 0.23879370093345642, 0.3165567219257355, 0.3238471448421478, 0.2964019775390625, 0.29487672448158264, 0.3170754909515381, 0.25367259979248047, 0.20560429990291595, 0.3024623990058899, 0.18803979456424713, 0.2984200716018677, 0.20723381638526917, 0.24228118360042572, 0.23172976076602936, 0.3080410957336426, 0.3399762809276581, 0.26019376516342163, 0.3107326328754425], \"y\": [0.23695828020572662, 0.19562672078609467, 0.2529275715351105, 0.20519296824932098, 0.18754981458187103, 0.18097041547298431, 0.1660139411687851, 0.24750837683677673, 0.24844886362552643, 0.17948280274868011, 0.23765674233436584, 0.28906533122062683, 0.2012237161397934, 0.2864517569541931, 0.13940930366516113, 0.23161613941192627, 0.2177058607339859, 0.14168497920036316, 0.1405121237039566, 0.17368580400943756, 0.17454247176647186, 0.24708375334739685, 0.20827624201774597, 0.1949838548898697, 0.2684705853462219, 0.2010800540447235, 0.21871930360794067, 0.24254029989242554, 0.1688353568315506, 0.1608065962791443, 0.26010721921920776, 0.2525334358215332, 0.26367461681365967, 0.17061223089694977, 0.20877695083618164, 0.2057069092988968], \"z\": [0.33337634801864624, 0.33716312050819397, 0.24139882624149323, 0.20636239647865295, 0.3169329762458801, 0.28793033957481384, 0.2760198414325714, 0.31689101457595825, 0.23827774822711945, 0.2533634603023529, 0.2981865406036377, 0.2311212420463562, 0.3100835382938385, 0.22567398846149445, 0.2750946283340454, 0.2963411509990692, 0.19091710448265076, 0.28538817167282104, 0.28802770376205444, 0.3096281886100769, 0.30091509222984314, 0.2912745177745819, 0.1721920669078827, 0.33178895711898804, 0.22910864651203156, 0.32446208596229553, 0.18737979233264923, 0.33115530014038086, 0.23866814374923706, 0.3107285797595978, 0.3213411569595337, 0.24516451358795166, 0.27091339230537415, 0.283346951007843, 0.2820131480693817, 0.196773499250412]}, {\"customdata\": [[\"is macaroni good for diabetic ?\", \"insulin use good peopl affect\", 13], [\"what do you do if you accidentally gave your dog too much insulin ?\", \"insulin use good peopl affect\", 13], [\"can people with diabetes use wart removers ?\", \"insulin use good peopl affect\", 13], [\"what is the term used to describe a disorder characterized by a recurrent failure to resist impulses to set fires ?\", \"insulin use good peopl affect\", 13], [\"what liquor is best for diabetics ?\", \"insulin use good peopl affect\", 13], [\"what would be the effects of adding the sequence kdel to insulin ?\", \"insulin use good peopl affect\", 13], [\"can diabetics have a cappuccino ?\", \"insulin use good peopl affect\", 13], [\"how does genital herpes affect diabetics ?\", \"insulin use good peopl affect\", 13], [\"will medicaid pay for diabetic shoes in georgia ?\", \"insulin use good peopl affect\", 13], [\"what drug is used for diabetic hypertensive ?\", \"insulin use good peopl affect\", 13], [\"concerns with gentically engineered insulin ?\", \"insulin use good peopl affect\", 13], [\"what is pain radiating down the buttocks and the back of the leg called ?\", \"insulin use good peopl affect\", 13], [\"low mpv count ?\", \"insulin use good peopl affect\", 13], [\"is potato is good for diabetic patients ?\", \"insulin use good peopl affect\", 13], [\"if a diabetic patient is reluctant to learn how to give himself insulin injection the first thing the medical should do is ?\", \"insulin use good peopl affect\", 13], [\"what makes up your lower leg ?\", \"insulin use good peopl affect\", 13], [\"who is the lady in the walgreen is commercial about diabetes ?\", \"insulin use good peopl affect\", 13], [\"how many people in georgia suffer from diabetes ?\", \"insulin use good peopl affect\", 13], [\"can insulin be given iv ?\", \"insulin use good peopl affect\", 13], [\"does a diabetic who has had the top part of their foot cut off use a manual wheelchair with no handles ?\", \"insulin use good peopl affect\", 13], [\"can an overdose of diabetic medicine cause brain damage ?\", \"insulin use good peopl affect\", 13], [\"what diabetic supplies should a diabetic always have available ?\", \"insulin use good peopl affect\", 13], [\"is oil good for diabetic people ?\", \"insulin use good peopl affect\", 13], [\"how many carbohydrates should a diebetic have ?\", \"insulin use good peopl affect\", 13], [\"if your best friend is a ten year old with diabetes and you have to take daily shots and you miss one shot in one day only will you die ?\", \"insulin use good peopl affect\", 13], [\"why should diabetics exercise ?\", \"insulin use good peopl affect\", 13], [\"how can body parts affected from tattoo ?\", \"insulin use good peopl affect\", 13], [\"how will crack affect a diabetic ?\", \"insulin use good peopl affect\", 13], [\"why do diabetics have to take care of their feet ?\", \"insulin use good peopl affect\", 13], [\"what does medicaid pay for diabetic shoes in each state ?\", \"insulin use good peopl affect\", 13]], \"hovertemplate\": \"summary=%{customdata[1]}<br>pc_1=%{x}<br>pc_2=%{y}<br>pc_3=%{z}<br>sentence=%{customdata[0]}<br>label=%{customdata[2]}<extra></extra>\", \"legendgroup\": \"insulin use good peopl affect\", \"marker\": {\"color\": \"#B6E880\", \"size\": 8, \"symbol\": \"circle\"}, \"mode\": \"markers\", \"name\": \"insulin use good peopl affect\", \"scene\": \"scene\", \"showlegend\": true, \"type\": \"scatter3d\", \"x\": [-0.01826072297990322, 0.054735880345106125, -0.0857803225517273, -0.044456567615270615, -0.047160450369119644, -0.012397394515573978, -0.022524403408169746, -0.09987083077430725, -0.03924466297030449, -0.06027841567993164, -0.07393309473991394, -0.04247204214334488, -0.047280602157115936, 0.04906633123755455, 0.0049986387602984905, 0.0359746478497982, -0.035649750381708145, -0.04470314085483551, 0.04902161285281181, -0.02377496100962162, -0.01990261860191822, -0.043788135051727295, -0.025625430047512054, -0.10591229051351547, 0.06007616966962814, -0.0011269290698692203, -0.07974095642566681, -0.07603266090154648, 0.03239201009273529, -0.04012530297040939], \"y\": [-0.29410821199417114, -0.37733587622642517, -0.2978358268737793, -0.26508858799934387, -0.38176238536834717, -0.27380603551864624, -0.32652920484542847, -0.3270762860774994, -0.33895203471183777, -0.2815892696380615, -0.29040494561195374, -0.3876843750476837, -0.3784836530685425, -0.3704339861869812, -0.23867766559123993, -0.3282482624053955, -0.29937252402305603, -0.2850649058818817, -0.3114883601665497, -0.27955305576324463, -0.38762953877449036, -0.36718663573265076, -0.37687933444976807, -0.32077550888061523, -0.3189395070075989, -0.3337292969226837, -0.3014424443244934, -0.30200064182281494, -0.3723313510417938, -0.35057902336120605], \"z\": [0.21022847294807434, 0.18452750146389008, 0.1072029173374176, 0.13045771420001984, 0.19963812828063965, 0.21233049035072327, 0.1757175624370575, 0.13252563774585724, 0.24332140386104584, 0.13209035992622375, 0.11435090750455856, 0.10976062715053558, 0.22154492139816284, 0.17879082262516022, 0.19438974559307098, 0.0966770276427269, 0.18226753175258636, 0.14874312281608582, 0.1516786366701126, 0.20872658491134644, 0.11166883260011673, 0.24145269393920898, 0.13921445608139038, 0.1523636430501938, 0.1434585601091385, 0.1916501522064209, 0.17251385748386383, 0.17228925228118896, 0.11085469275712967, 0.24806509912014008]}, {\"customdata\": [[\"what are types of diabetes ?\", \"type one caus two mellitu\", 2], [\"what is diabetes type one ?\", \"type one caus two mellitu\", 2], [\"which type of diabetes mellitus is an insulin resistance disorder gestational type one or type two ?\", \"type one caus two mellitu\", 2], [\"what causes diabetes what is diabetes and what can diabetes cause ?\", \"type one caus two mellitu\", 2], [\"what condition is insulin resistance of fat cells type one diabetes or type two diabetes ?\", \"type one caus two mellitu\", 2], [\"which diabetes usually develops during adolescence and is thought to be caused by an inherited predisposition to pancreas problems ?\", \"type one caus two mellitu\", 2], [\"which type of diabetes mellitus is an insulin resistant disorder ?\", \"type one caus two mellitu\", 2], [\"what causes type one diabetes ?\", \"type one caus two mellitu\", 2], [\"what is it like to have diabetes ?\", \"type one caus two mellitu\", 2], [\"what are all the types of diabetes ?\", \"type one caus two mellitu\", 2], [\"name of disorder of diabetes ?\", \"type one caus two mellitu\", 2], [\"how do you control type one diabetes ?\", \"type one caus two mellitu\", 2], [\"what causes type one diabetes ?\", \"type one caus two mellitu\", 2], [\"who gets type one and type two diabetes ?\", \"type one caus two mellitu\", 2], [\"what is the cause of diabetes type one ?\", \"type one caus two mellitu\", 2], [\"how do you het diabetes type one ?\", \"type one caus two mellitu\", 2], [\"a disease that deeps your dody from making o using insulin properly ?\", \"type one caus two mellitu\", 2], [\"diabetes mellitus is a disorder caused by malfunction of the ?\", \"type one caus two mellitu\", 2], [\"what causes type i diabetes ?\", \"type one caus two mellitu\", 2], [\"what types of diabetes are there ?\", \"type one caus two mellitu\", 2], [\"what resistance leads to hyperglycemia and ketoacidosis ?\", \"type one caus two mellitu\", 2], [\"what type of diabetes is hereditary ?\", \"type one caus two mellitu\", 2], [\"what is type 1diabetes juvenile diabates ?\", \"type one caus two mellitu\", 2], [\"what is the major contributor to obesity type two diabetes cancer and heart disease ?\", \"type one caus two mellitu\", 2], [\"what is type one diabetes ?\", \"type one caus two mellitu\", 2], [\"what type of diabetes is the most common ?\", \"type one caus two mellitu\", 2], [\"what type of diabetes is most common in children and how can children treat their diabetes ?\", \"type one caus two mellitu\", 2], [\"what type of diabetes mellitus involves insulin resistance ?\", \"type one caus two mellitu\", 2], [\"what is mellitus diabetes type one ?\", \"type one caus two mellitu\", 2], [\"what is one common type of diabetes ?\", \"type one caus two mellitu\", 2], [\"what type of disorder is diabetes type two ?\", \"type one caus two mellitu\", 2], [\"what causes type i diabetes mellitus ?\", \"type one caus two mellitu\", 2], [\"what causes diobeaties ?\", \"type one caus two mellitu\", 2], [\"which of these illness is a disease in which blood sugar levels are above normal ?\", \"type one caus two mellitu\", 2], [\"what is the disease that results from lack of insulin ?\", \"type one caus two mellitu\", 2], [\"why is diabetes called diabetes ?\", \"type one caus two mellitu\", 2], [\"what age do you get type one diabetes ?\", \"type one caus two mellitu\", 2], [\"what cause diabetes ?\", \"type one caus two mellitu\", 2], [\"what is the cause of juvenile diabetes ?\", \"type one caus two mellitu\", 2], [\"what is the name of a disease when blood sugar levels are above normal ?\", \"type one caus two mellitu\", 2], [\"what is the result of the bllood glucose levels being uncontrolled ?\", \"type one caus two mellitu\", 2], [\"how is type one diabetes controlled ?\", \"type one caus two mellitu\", 2], [\"what is type two diabetes ?\", \"type one caus two mellitu\", 2], [\"how common is diabetes type one ?\", \"type one caus two mellitu\", 2], [\"which type of diabetes melliutes is an insulin resistance disorder ?\", \"type one caus two mellitu\", 2], [\"how does a type one diabetic become insulin resistance ?\", \"type one caus two mellitu\", 2], [\"what is type one diabetes mellitus ?\", \"type one caus two mellitu\", 2], [\"what cause diabetics ?\", \"type one caus two mellitu\", 2], [\"what causes type two diabetes ?\", \"type one caus two mellitu\", 2], [\"what is the other name for type one and type two diabetes mellitus ?\", \"type one caus two mellitu\", 2], [\"when did juvenile diabetes become type one diabetes ?\", \"type one caus two mellitu\", 2], [\"what are the effects of type one diabetes ?\", \"type one caus two mellitu\", 2], [\"what are the most common causes of type two diabetes ?\", \"type one caus two mellitu\", 2], [\"what is the link between obesity and diabetes ?\", \"type one caus two mellitu\", 2], [\"what is type i diabetes ?\", \"type one caus two mellitu\", 2], [\"what can treat diabetes ?\", \"type one caus two mellitu\", 2]], \"hovertemplate\": \"summary=%{customdata[1]}<br>pc_1=%{x}<br>pc_2=%{y}<br>pc_3=%{z}<br>sentence=%{customdata[0]}<br>label=%{customdata[2]}<extra></extra>\", \"legendgroup\": \"type one caus two mellitu\", \"marker\": {\"color\": \"#FF97FF\", \"size\": 8, \"symbol\": \"circle\"}, \"mode\": \"markers\", \"name\": \"type one caus two mellitu\", \"scene\": \"scene\", \"showlegend\": true, \"type\": \"scatter3d\", \"x\": [-0.08303588628768921, -0.13489247858524323, -0.057828810065984726, 0.0417790450155735, -0.06936486810445786, -0.16548672318458557, -0.027098823338747025, -0.06744211167097092, -0.06121254339814186, -0.1267097294330597, -0.15448684990406036, -0.07460425794124603, -0.08252055943012238, -0.11319704353809357, -0.03589905798435211, -0.0907738134264946, -0.10608388483524323, -0.15037275850772858, -0.010160847567021847, -0.10536562651395798, 0.003462280612438917, -0.05636817589402199, 0.0419534333050251, -0.034992050379514694, -0.13428358733654022, -0.019633127376437187, -0.03019114024937153, -0.05288049578666687, -0.14776894450187683, -0.12157512456178665, -0.008112946525216103, -0.02779507078230381, 0.029528534039855003, -0.04763178154826164, -0.14237189292907715, -0.11457095295190811, 0.07751879841089249, 0.07341605424880981, -0.018787145614624023, 0.041571665555238724, -0.04822336509823799, -0.04606182500720024, 0.04300545156002045, -0.10762567818164825, -0.07626315206289291, -0.033752117305994034, -0.1520470380783081, 0.06948132812976837, 0.0563894547522068, -0.15413765609264374, -0.1468777358531952, 0.007816653698682785, 0.05887424200773239, -0.1107713058590889, -0.032002151012420654, -0.10866052657365799], \"y\": [0.7299079298973083, 0.7645793557167053, 0.7746877074241638, 0.7648821473121643, 0.8302103877067566, 0.6940948963165283, 0.6649847626686096, 0.7493335008621216, 0.6549649238586426, 0.7105414867401123, 0.7258569598197937, 0.8145197033882141, 0.7460700273513794, 0.6543447375297546, 0.6939013004302979, 0.842582643032074, 0.767795205116272, 0.7821096777915955, 0.7145295143127441, 0.8335896730422974, 0.6640511155128479, 0.6666319370269775, 0.671843409538269, 0.6879746913909912, 0.764696478843689, 0.7164050340652466, 0.7847282290458679, 0.706308901309967, 0.7093442678451538, 0.7605985999107361, 0.7052048444747925, 0.6640953421592712, 0.6795192956924438, 0.6667179465293884, 0.7287567853927612, 0.685908317565918, 0.7549179196357727, 0.7341241836547852, 0.7845520973205566, 0.793466329574585, 0.7546855211257935, 0.7030091285705566, 0.7855747938156128, 0.768179178237915, 0.8212870955467224, 0.7236636877059937, 0.7089107632637024, 0.7146384119987488, 0.748919665813446, 0.754024088382721, 0.807364284992218, 0.6695681214332581, 0.7522966861724854, 0.7971646189689636, 0.7486240863800049, 0.6642953157424927], \"z\": [-0.3021702170372009, -0.23210091888904572, -0.3453543782234192, -0.32039812207221985, -0.3010346293449402, -0.33551713824272156, -0.3267294466495514, -0.33597156405448914, -0.2362654060125351, -0.3274311125278473, -0.34543266892433167, -0.27391961216926575, -0.33311769366264343, -0.3314191997051239, -0.2743081748485565, -0.3290542960166931, -0.28105565905570984, -0.3837672173976898, -0.28302040696144104, -0.334174782037735, -0.360759973526001, -0.24974559247493744, -0.22722914814949036, -0.23697420954704285, -0.23282623291015625, -0.281695157289505, -0.2120549976825714, -0.3452371656894684, -0.37732475996017456, -0.2540806531906128, -0.283922016620636, -0.341173380613327, -0.26853251457214355, -0.24297025799751282, -0.33469274640083313, -0.32657191157341003, -0.30151498317718506, -0.3310316801071167, -0.21721577644348145, -0.2693833112716675, -0.3345610797405243, -0.34401965141296387, -0.24882245063781738, -0.27680838108062744, -0.2857741415500641, -0.3262051045894623, -0.3739793002605438, -0.24341635406017303, -0.3296429514884949, -0.3338751792907715, -0.32369551062583923, -0.3627026677131653, -0.327859491109848, -0.2895669639110565, -0.19706137478351593, -0.2388550043106079]}, {\"customdata\": [[\"what is it called when your body is unable to make enough insulin or to use insulin properly ?\", \"bodi caus type insulin hormon\", 31], [\"what hormone deficiency causes diabetes mellitus ?\", \"bodi caus type insulin hormon\", 31], [\"why does diabetes cause sweet urine ?\", \"bodi caus type insulin hormon\", 31], [\"what does diabetes do to the body ?\", \"bodi caus type insulin hormon\", 31], [\"what negative effects the ingredient sugar has on the human body if too much is eaten ?\", \"bodi caus type insulin hormon\", 31], [\"what is the affect of diabetes ?\", \"bodi caus type insulin hormon\", 31], [\"what part of the body does diabetes affect ?\", \"bodi caus type insulin hormon\", 31], [\"what is a condition in which the body is unable to produce or use insulin ?\", \"bodi caus type insulin hormon\", 31], [\"how does type two diabetes affect your body ?\", \"bodi caus type insulin hormon\", 31], [\"which hormone deficiency causes diabetes ?\", \"bodi caus type insulin hormon\", 31], [\"what term best describes a failure of the body is cells to resond to insulin ?\", \"bodi caus type insulin hormon\", 31], [\"what causes the illness diabetes ?\", \"bodi caus type insulin hormon\", 31], [\"what happens when body does not produce or properly use insulin ?\", \"bodi caus type insulin hormon\", 31], [\"what type of infection can lead to diabetes ?\", \"bodi caus type insulin hormon\", 31], [\"when can diabetic ketoacidosis develop in type ii diabetics ?\", \"bodi caus type insulin hormon\", 31], [\"what the difintion of type two diabetes ?\", \"bodi caus type insulin hormon\", 31], [\"what gland scretes diabetes mellitus ?\", \"bodi caus type insulin hormon\", 31], [\"diabetes mellitus is caused by a lack of the hormone . ?\", \"bodi caus type insulin hormon\", 31], [\"what is the difference between diabetes metillius and diabetes insipid ?\", \"bodi caus type insulin hormon\", 31], [\"did thomas edison have diabetes ?\", \"bodi caus type insulin hormon\", 31], [\"what would increase insulin secretion in type ii diabetes ?\", \"bodi caus type insulin hormon\", 31], [\"what do people with diabetes do not produce enough ?\", \"bodi caus type insulin hormon\", 31], [\"what happens in type one of diabetes ?\", \"bodi caus type insulin hormon\", 31], [\"chronic disorder caused by inadequate production or use of insulin is a ?\", \"bodi caus type insulin hormon\", 31], [\"what is the scientific name for kidney failure ?\", \"bodi caus type insulin hormon\", 31], [\"what does diabetes affect ?\", \"bodi caus type insulin hormon\", 31], [\"what are the types of hereditary diseases ?\", \"bodi caus type insulin hormon\", 31], [\"what hormone causes diabetes mellitus ?\", \"bodi caus type insulin hormon\", 31], [\"how will type one diabetes affect your body ?\", \"bodi caus type insulin hormon\", 31], [\"what hormone causes diabetes ?\", \"bodi caus type insulin hormon\", 31], [\"is diabetes an allergy ?\", \"bodi caus type insulin hormon\", 31]], \"hovertemplate\": \"summary=%{customdata[1]}<br>pc_1=%{x}<br>pc_2=%{y}<br>pc_3=%{z}<br>sentence=%{customdata[0]}<br>label=%{customdata[2]}<extra></extra>\", \"legendgroup\": \"bodi caus type insulin hormon\", \"marker\": {\"color\": \"#FECB52\", \"size\": 8, \"symbol\": \"circle\"}, \"mode\": \"markers\", \"name\": \"bodi caus type insulin hormon\", \"scene\": \"scene\", \"showlegend\": true, \"type\": \"scatter3d\", \"x\": [-0.19641461968421936, -0.18390336632728577, -0.1721932739019394, -0.1331540048122406, -0.16792725026607513, -0.18919597566127777, -0.1467430591583252, -0.17870445549488068, -0.06878183037042618, -0.17930954694747925, -0.07866628468036652, -0.07017483562231064, -0.18818563222885132, -0.06688579171895981, -0.10547734051942825, -0.11537547409534454, -0.1803678423166275, -0.19951218366622925, -0.14930574595928192, -0.06956129521131516, -0.04365856572985649, -0.19407349824905396, -0.1349184811115265, -0.13170669972896576, -0.06162115931510925, -0.14085954427719116, -0.04382622614502907, -0.22038374841213226, -0.18392765522003174, -0.20016233623027802, -0.1629042774438858], \"y\": [0.6000562310218811, 0.5950013995170593, 0.5960428714752197, 0.5118023157119751, 0.4543515741825104, 0.5656657814979553, 0.4702397584915161, 0.5758646726608276, 0.5461854934692383, 0.6001489162445068, 0.5445834994316101, 0.5436457395553589, 0.5823078751564026, 0.5450022220611572, 0.5159850120544434, 0.541315495967865, 0.48467856645584106, 0.5820947885513306, 0.48235851526260376, 0.5360021591186523, 0.5494145154953003, 0.46290233731269836, 0.5049501061439514, 0.5336855053901672, 0.5297037959098816, 0.48144882917404175, 0.5460501909255981, 0.557671070098877, 0.5585622191429138, 0.5861095786094666, 0.49166393280029297], \"z\": [-0.4946397542953491, -0.5414780974388123, -0.5478257536888123, -0.5599880218505859, -0.5381083488464355, -0.4457954168319702, -0.5314900875091553, -0.450876384973526, -0.42676037549972534, -0.5325150489807129, -0.42932945489883423, -0.43952953815460205, -0.5476899743080139, -0.43222710490226746, -0.42011743783950806, -0.501991331577301, -0.4337904155254364, -0.46936365962028503, -0.5624035000801086, -0.46922722458839417, -0.45697885751724243, -0.5074614882469177, -0.5594908595085144, -0.49372801184654236, -0.4640502631664276, -0.4138522148132324, -0.47566255927085876, -0.4733867943286896, -0.43521687388420105, -0.46370729804039, -0.4148348271846771]}, {\"customdata\": [[\"is diabetes mellitus controllable ?\", \"type mellitu one caus get\", 28], [\"what diseases can diabetes give you ?\", \"type mellitu one caus get\", 28], [\"can you treat type one diabetes be treated ?\", \"type mellitu one caus get\", 28], [\"are diabetes and glaucoma hereditary diseases ?\", \"type mellitu one caus get\", 28], [\"does joint pain occurs because of diabetes ?\", \"type mellitu one caus get\", 28], [\"is the word diabetes capitalized in a sentence ?\", \"type mellitu one caus get\", 28], [\"is diabetes spread through blood or air ?\", \"type mellitu one caus get\", 28], [\"can you get diabetes from touching an infected person is blood ?\", \"type mellitu one caus get\", 28], [\"do cows get diabetes ?\", \"type mellitu one caus get\", 28], [\"why do people care that nick jonas has diabetes but still tease other people who also have type one diabetes ?\", \"type mellitu one caus get\", 28], [\"when does type two diabetes turn into insulin dependent ?\", \"type mellitu one caus get\", 28], [\"does untreated diabetes mellitus cause ketosis ?\", \"type mellitu one caus get\", 28], [\"who from the jonas brother has type one diabetes ?\", \"type mellitu one caus get\", 28], [\"is type one diabetes a mutation ?\", \"type mellitu one caus get\", 28], [\"what happens to the pancreas when diabetes is a non communicable disease ?\", \"type mellitu one caus get\", 28], [\"what complications can diabetes mellitus cause ?\", \"type mellitu one caus get\", 28], [\"why does diabetes type one cause weight loss ?\", \"type mellitu one caus get\", 28], [\"why can not diabetes be spread ?\", \"type mellitu one caus get\", 28], [\"what is diabetes pain and complication a generation diseases ?\", \"type mellitu one caus get\", 28], [\"is diabetes mellitus a multifactorial disease ?\", \"type mellitu one caus get\", 28], [\"how does diabetes affect people ?\", \"type mellitu one caus get\", 28], [\"can you get diabetes type one when you are between the ages thirteen to seventeen and can people ages eighteen and above get diabetes type one ?\", \"type mellitu one caus get\", 28], [\"which condition often contributes to the onset of type two diabetes mellitus ?\", \"type mellitu one caus get\", 28], [\"could diabetes cause other sickness ?\", \"type mellitu one caus get\", 28], [\"what ages can people have diabetes ?\", \"type mellitu one caus get\", 28], [\"can diabetes affect your eyesight ?\", \"type mellitu one caus get\", 28], [\"if your husband have diabetes will your child get diabetes ?\", \"type mellitu one caus get\", 28], [\"what is the leading cause of death in childhood diabetes ?\", \"type mellitu one caus get\", 28], [\"why can not you get erect ?\", \"type mellitu one caus get\", 28], [\"can diabetes mellitus cause health problems ?\", \"type mellitu one caus get\", 28], [\"how does diabetes cause weight loss ?\", \"type mellitu one caus get\", 28], [\"is diabetes myelitis contagious ?\", \"type mellitu one caus get\", 28], [\"can diabetes mellitus be cured ?\", \"type mellitu one caus get\", 28]], \"hovertemplate\": \"summary=%{customdata[1]}<br>pc_1=%{x}<br>pc_2=%{y}<br>pc_3=%{z}<br>sentence=%{customdata[0]}<br>label=%{customdata[2]}<extra></extra>\", \"legendgroup\": \"type mellitu one caus get\", \"marker\": {\"color\": \"#636efa\", \"size\": 8, \"symbol\": \"circle\"}, \"mode\": \"markers\", \"name\": \"type mellitu one caus get\", \"scene\": \"scene\", \"showlegend\": true, \"type\": \"scatter3d\", \"x\": [0.7470510005950928, 0.6566922664642334, 0.6177064776420593, 0.7432694435119629, 0.7300806641578674, 0.6493354439735413, 0.6970275044441223, 0.6073315739631653, 0.6445021629333496, 0.6830329298973083, 0.5903404951095581, 0.6519683599472046, 0.6782316565513611, 0.7535591721534729, 0.7554118037223816, 0.6918848752975464, 0.6661012768745422, 0.6662104725837708, 0.6627763509750366, 0.6276477575302124, 0.6546997427940369, 0.7542004585266113, 0.6511774659156799, 0.6988270878791809, 0.6716731190681458, 0.6270350813865662, 0.752901554107666, 0.655385434627533, 0.732962429523468, 0.6719383001327515, 0.6502848267555237, 0.6005662679672241, 0.6510268449783325], \"y\": [0.25198736786842346, 0.14828196167945862, 0.2599235773086548, 0.19576556980609894, 0.21536265313625336, 0.1939595490694046, 0.14651328325271606, 0.23977196216583252, 0.20118163526058197, 0.11440593749284744, 0.23836703598499298, 0.259067565202713, 0.12214653193950653, 0.21966660022735596, 0.24161365628242493, 0.11645746976137161, 0.24610194563865662, 0.2036042958498001, 0.13149107992649078, 0.2929319739341736, 0.22906441986560822, 0.21185334026813507, 0.26815056800842285, 0.12376494705677032, 0.20950575172901154, 0.2859220504760742, 0.2485761195421219, 0.15020450949668884, 0.2111755907535553, 0.14496606588363647, 0.15232256054878235, 0.23444807529449463, 0.25172924995422363], \"z\": [-0.20550166070461273, -0.21841999888420105, -0.22782562673091888, -0.22283656895160675, -0.2053985595703125, -0.2566725015640259, -0.1540498286485672, -0.22412952780723572, -0.2661910951137543, -0.17496545612812042, -0.15356317162513733, -0.24738624691963196, -0.16910558938980103, -0.18528464436531067, -0.1685095727443695, -0.1790039986371994, -0.2635246515274048, -0.175968736410141, -0.15266160666942596, -0.16180302202701569, -0.25979191064834595, -0.18424418568611145, -0.2334713488817215, -0.17953044176101685, -0.1781402975320816, -0.1572265326976776, -0.14804428815841675, -0.23699772357940674, -0.20550568401813507, -0.16522158682346344, -0.12193764001131058, -0.14316020905971527, -0.17461365461349487]}, {\"customdata\": [[\"is diabetes cantagious ?\", \"sugar blood good eat rais\", 7], [\"if you have diabetes will it affect your children ?\", \"sugar blood good eat rais\", 7], [\"do glucose polymers raise a persons blood sugar levels ?\", \"sugar blood good eat rais\", 7], [\"does steve redgrave have diabetes ?\", \"sugar blood good eat rais\", 7], [\"how does poor diet and lifestyle cause type two diabetes ?\", \"sugar blood good eat rais\", 7], [\"is alive food supplement good for diabetes ?\", \"sugar blood good eat rais\", 7], [\"would a banana increase your blood sugar levels ?\", \"sugar blood good eat rais\", 7], [\"can a diabetic patient eat boiled rice ?\", \"sugar blood good eat rais\", 7], [\"are black olives good for diabetics ?\", \"sugar blood good eat rais\", 7], [\"can high blood sugar cause cysts ?\", \"sugar blood good eat rais\", 7], [\"can leopold is maneuvers be done on women with diabetes ?\", \"sugar blood good eat rais\", 7], [\"is tomato is good for diabetic patients ?\", \"sugar blood good eat rais\", 7], [\"can the chlorine in a swimming pool raise blood sugar in a diabetic person ?\", \"sugar blood good eat rais\", 7], [\"do you get diabetes from to much sugar ?\", \"sugar blood good eat rais\", 7], [\"can diabetes be handed down from your parents ?\", \"sugar blood good eat rais\", 7], [\"how safe is it for a diabetic to have your belly button pierced ?\", \"sugar blood good eat rais\", 7], [\"does am la control blood sugar ?\", \"sugar blood good eat rais\", 7], [\"is dibetes a disease ?\", \"sugar blood good eat rais\", 7], [\"can diabetic patient eat banana ?\", \"sugar blood good eat rais\", 7], [\"can insulin shots produce bright yellow urine ?\", \"sugar blood good eat rais\", 7], [\"does to much intake of sugar causes diabetes ?\", \"sugar blood good eat rais\", 7], [\"control your weight and blood sugar ?\", \"sugar blood good eat rais\", 7], [\"is there a new insulin for type two ?\", \"sugar blood good eat rais\", 7], [\"will eating sugary foods increase your blood sugar level if you are not diabetic ?\", \"sugar blood good eat rais\", 7], [\"is diabetes in teenagers ?\", \"sugar blood good eat rais\", 7], [\"is veal good for diabetes ?\", \"sugar blood good eat rais\", 7], [\"is pawpaw good for diabetics ?\", \"sugar blood good eat rais\", 7], [\"are nectarines good for diabetics ?\", \"sugar blood good eat rais\", 7], [\"can maltodextrin increase blood sugar readings ?\", \"sugar blood good eat rais\", 7], [\"can a person drive in the united states if they have diabetes ?\", \"sugar blood good eat rais\", 7], [\"is it ok to eat ham when you are a diabetic ?\", \"sugar blood good eat rais\", 7], [\"are salt water pools safe for diabetes ?\", \"sugar blood good eat rais\", 7], [\"is the number of people worldwide who have diabetes increasing ?\", \"sugar blood good eat rais\", 7], [\"is it tomato suitable food for diabetics ?\", \"sugar blood good eat rais\", 7], [\"can diabetics eat peaches ?\", \"sugar blood good eat rais\", 7], [\"do mice have diabetes ?\", \"sugar blood good eat rais\", 7], [\"is it true that diabetic type one men are sterile and if yes is there any help ?\", \"sugar blood good eat rais\", 7], [\"does sugar directly cause diabetes ?\", \"sugar blood good eat rais\", 7], [\"does smoking raise blood sugar ?\", \"sugar blood good eat rais\", 7], [\"can you take tylenol pm if you are diabetic ?\", \"sugar blood good eat rais\", 7], [\"is cabbage good for diabetes ?\", \"sugar blood good eat rais\", 7], [\"can hydromorphone raise blood sugars ?\", \"sugar blood good eat rais\", 7], [\"do you have diabetes ?\", \"sugar blood good eat rais\", 7], [\"can diabetes medicine taken with urine therapy ?\", \"sugar blood good eat rais\", 7], [\"are aboriginals and torres strait islanders more susceptible to getting diabetes ?\", \"sugar blood good eat rais\", 7], [\"is centrum safe for diabetes mellitus type two patients ?\", \"sugar blood good eat rais\", 7], [\"can you drink milk if you have type two diabetes ?\", \"sugar blood good eat rais\", 7], [\"can borderline diabetics drink ensure ?\", \"sugar blood good eat rais\", 7], [\"is salad good for diabetes ?\", \"sugar blood good eat rais\", 7], [\"do glucose polymers raise your blood glucose ?\", \"sugar blood good eat rais\", 7], [\"is black sugar suitable for diabetic patient ?\", \"sugar blood good eat rais\", 7], [\"are there stages of diabetes ?\", \"sugar blood good eat rais\", 7], [\"is diabetes a diseas ?\", \"sugar blood good eat rais\", 7], [\"can diabetes be controlled by nutrilite protein powder ?\", \"sugar blood good eat rais\", 7], [\"could diabetes cause your hands to lock up ?\", \"sugar blood good eat rais\", 7], [\"are rashes that repeat is a signs of a diabetic ?\", \"sugar blood good eat rais\", 7], [\"does courtney young have diabetes ?\", \"sugar blood good eat rais\", 7], [\"can diabetics eat granola ?\", \"sugar blood good eat rais\", 7], [\"did david peaston lose his legs to diabetes ?\", \"sugar blood good eat rais\", 7], [\"is swank rice good for diabetes ?\", \"sugar blood good eat rais\", 7], [\"can newborns get diabetes ?\", \"sugar blood good eat rais\", 7], [\"do blackberry raise blood sugar levels ?\", \"sugar blood good eat rais\", 7], [\"has patrick cooney got diabetes ?\", \"sugar blood good eat rais\", 7], [\"can you take aspirin if you have diabetes ?\", \"sugar blood good eat rais\", 7], [\"is white radish good for diabetics ?\", \"sugar blood good eat rais\", 7], [\"can x-ray detect diabetes ?\", \"sugar blood good eat rais\", 7], [\"teens with diabetes can eat sugar sweets and deserts ?\", \"sugar blood good eat rais\", 7], [\"is encephalopathy is complication of diabetes mellitus ?\", \"sugar blood good eat rais\", 7], [\"does your pee get darker when citric acid gets out of our body ?\", \"sugar blood good eat rais\", 7], [\"can type one diabetes be transferred ?\", \"sugar blood good eat rais\", 7], [\"can diabetes mellitus be dangerous ?\", \"sugar blood good eat rais\", 7], [\"does heat exhaustion raise blood sugar ?\", \"sugar blood good eat rais\", 7], [\"can you drink ensure plus if you have diabetes ?\", \"sugar blood good eat rais\", 7], [\"i have been feeling faint and dissy do i have diabetes ?\", \"sugar blood good eat rais\", 7], [\"does sugar raise blood pressure ?\", \"sugar blood good eat rais\", 7], [\"can eating eclairs if you are diabetic harmful ?\", \"sugar blood good eat rais\", 7], [\"is grilled shrimp okay for diabetics ?\", \"sugar blood good eat rais\", 7], [\"can celiac suffers eat butter ?\", \"sugar blood good eat rais\", 7], [\"is there any hope for a newly diagnosed 5-year-old diabetic dog whose blood sugar can not be controlled and is hospital undergoing treatment ?\", \"sugar blood good eat rais\", 7], [\"can you eat seafood if you have diabetes ?\", \"sugar blood good eat rais\", 7], [\"is banana good for diabetic patients ?\", \"sugar blood good eat rais\", 7]], \"hovertemplate\": \"summary=%{customdata[1]}<br>pc_1=%{x}<br>pc_2=%{y}<br>pc_3=%{z}<br>sentence=%{customdata[0]}<br>label=%{customdata[2]}<extra></extra>\", \"legendgroup\": \"sugar blood good eat rais\", \"marker\": {\"color\": \"#EF553B\", \"size\": 8, \"symbol\": \"circle\"}, \"mode\": \"markers\", \"name\": \"sugar blood good eat rais\", \"scene\": \"scene\", \"showlegend\": true, \"type\": \"scatter3d\", \"x\": [0.6061694025993347, 0.7268449664115906, 0.5644891858100891, 0.5648729801177979, 0.7767373323440552, 0.4967736005783081, 0.7565016746520996, 0.6079961657524109, 0.6461148262023926, 0.7227586507797241, 0.6256143450737, 0.6209726333618164, 0.5236667394638062, 0.7605775594711304, 0.6464478969573975, 0.6813151836395264, 0.5868638753890991, 0.7286202311515808, 0.5686325430870056, 0.697999119758606, 0.6747458577156067, 0.5855087637901306, 0.663605272769928, 0.7060374617576599, 0.5135483145713806, 0.6270065307617188, 0.6014060974121094, 0.5639466047286987, 0.6382858753204346, 0.5590513944625854, 0.5680171251296997, 0.556908369064331, 0.7641887664794922, 0.5818642377853394, 0.544463574886322, 0.6080299615859985, 0.540101945400238, 0.6908258199691772, 0.5177215337753296, 0.5314292907714844, 0.6251421570777893, 0.5872092247009277, 0.6370518803596497, 0.5329369306564331, 0.5743080973625183, 0.5618551969528198, 0.5499652028083801, 0.4990207552909851, 0.6666699647903442, 0.7262709140777588, 0.7135180830955505, 0.6746987700462341, 0.7106064558029175, 0.5770809650421143, 0.5474777817726135, 0.5253050327301025, 0.5138059854507446, 0.5567561388015747, 0.5576205849647522, 0.5831946134567261, 0.5996008515357971, 0.5895360112190247, 0.6173408031463623, 0.5940816402435303, 0.5849902033805847, 0.6439158320426941, 0.5056912302970886, 0.682293713092804, 0.7249534726142883, 0.6493796706199646, 0.7442036867141724, 0.680665135383606, 0.6118646860122681, 0.553183376789093, 0.47818198800086975, 0.5994189381599426, 0.6306334137916565, 0.5158845782279968, 0.5098063945770264, 0.5518438220024109, 0.530366063117981], \"y\": [-0.2740034759044647, -0.36110764741897583, -0.47261837124824524, -0.35351043939590454, -0.35203489661216736, -0.3220290243625641, -0.3600093126296997, -0.4383320212364197, -0.37653619050979614, -0.36369752883911133, -0.3828211724758148, -0.4199051260948181, -0.35833513736724854, -0.34533485770225525, -0.37957948446273804, -0.26310995221138, -0.3802783489227295, -0.37304845452308655, -0.41962143778800964, -0.3314953148365021, -0.269731730222702, -0.3730970025062561, -0.4507902264595032, -0.42631128430366516, -0.3870449662208557, -0.4125558137893677, -0.31630876660346985, -0.35126176476478577, -0.3940134048461914, -0.2915770411491394, -0.4712890386581421, -0.38899198174476624, -0.3328607678413391, -0.4945811629295349, -0.3319515585899353, -0.32878392934799194, -0.2527270019054413, -0.39273178577423096, -0.31841009855270386, -0.2630341649055481, -0.4396740794181824, -0.365491658449173, -0.37292084097862244, -0.26797977089881897, -0.4903629422187805, -0.3483162820339203, -0.45854875445365906, -0.38644692301750183, -0.4381195902824402, -0.3447015881538391, -0.4125470221042633, -0.33765432238578796, -0.3570391833782196, -0.364308625459671, -0.24275881052017212, -0.31859779357910156, -0.3337234556674957, -0.3109957277774811, -0.3507062494754791, -0.3166494369506836, -0.3953608572483063, -0.4234534502029419, -0.4389509856700897, -0.36046862602233887, -0.3303990960121155, -0.4168035089969635, -0.385149210691452, -0.29882702231407166, -0.34148266911506653, -0.27809634804725647, -0.31727826595306396, -0.34521305561065674, -0.29331499338150024, -0.30023765563964844, -0.317148357629776, -0.3564056158065796, -0.39705729484558105, -0.32457825541496277, -0.322171688079834, -0.3572614789009094, -0.3550548553466797], \"z\": [0.429858922958374, 0.3316776156425476, 0.39262551069259644, 0.280403733253479, 0.36206915974617004, 0.4102923572063446, 0.32349127531051636, 0.44448262453079224, 0.29706892371177673, 0.2684531509876251, 0.3586656153202057, 0.30628249049186707, 0.2582371234893799, 0.3706349730491638, 0.29592591524124146, 0.3511170446872711, 0.33974671363830566, 0.33104246854782104, 0.3670659065246582, 0.3500978350639343, 0.35981059074401855, 0.2882126271724701, 0.39824339747428894, 0.30174416303634644, 0.24456404149532318, 0.30845698714256287, 0.3825758993625641, 0.3227078318595886, 0.3478066027164459, 0.2763044536113739, 0.3889992833137512, 0.37271273136138916, 0.38155606389045715, 0.4026675522327423, 0.2981860339641571, 0.38105911016464233, 0.25378403067588806, 0.3639257848262787, 0.21556414663791656, 0.2560763359069824, 0.43758323788642883, 0.3575056195259094, 0.25307929515838623, 0.2764662206172943, 0.3853979706764221, 0.3404231071472168, 0.3789653480052948, 0.23843593895435333, 0.3768027126789093, 0.27312105894088745, 0.318942666053772, 0.36650750041007996, 0.34001195430755615, 0.293144166469574, 0.31324470043182373, 0.41522717475891113, 0.39211419224739075, 0.44696035981178284, 0.2810218632221222, 0.4087129831314087, 0.31477105617523193, 0.35716691613197327, 0.4445536434650421, 0.35010847449302673, 0.3841439187526703, 0.33652424812316895, 0.24343974888324738, 0.27301284670829773, 0.2680928409099579, 0.37148547172546387, 0.2954481542110443, 0.3620694875717163, 0.3757564127445221, 0.26993975043296814, 0.24417975544929504, 0.35590660572052, 0.4150574505329132, 0.22430546581745148, 0.38840681314468384, 0.2594323754310608, 0.3451344966888428]}, {\"customdata\": [[\"is the cabbage soup diet good for diabetics ?\", \"diet plan good type two\", 26], [\"can the same diet plan be used for type one and type two diabetes ?\", \"diet plan good type two\", 26], [\"what diets are effective for those with diabetes ?\", \"diet plan good type two\", 26], [\"what kind of diet plan will you need with type two diabetes ?\", \"diet plan good type two\", 26], [\"can you eat cucumber with gestational diabetes ?\", \"diet plan good type two\", 26], [\"what should i know about natural treatments for diabetes ?\", \"diet plan good type two\", 26], [\"what are the most important components of a diabetic diet plan ?\", \"diet plan good type two\", 26], [\"how would you modify your diet if you had diabetes ?\", \"diet plan good type two\", 26], [\"need a list of diabetic diet plans ?\", \"diet plan good type two\", 26], [\"will my diabetes mean i can not enjoy the breakfast sweets i love ?\", \"diet plan good type two\", 26], [\"is there a specific diet for people with diabetes ?\", \"diet plan good type two\", 26], [\"what are some good diet plans for diabetics ?\", \"diet plan good type two\", 26], [\"what are some diabetic diets to follow ?\", \"diet plan good type two\", 26], [\"what diet should a diabetic follow ?\", \"diet plan good type two\", 26], [\"is the cabbage soup seven day diet good to go on with diabetes ?\", \"diet plan good type two\", 26], [\"consult your doctor about diabetic diet plans ?\", \"diet plan good type two\", 26], [\"what are some foods allowed for consumption in a type two diabetes diet plan ?\", \"diet plan good type two\", 26], [\"is vamana useful in diabetes ?\", \"diet plan good type two\", 26], [\"what is the diet plan for diabetics ?\", \"diet plan good type two\", 26], [\"what is the plan or diet for diabetes ?\", \"diet plan good type two\", 26], [\"what are good diet plans for a diabetic patient ?\", \"diet plan good type two\", 26], [\"what is a good diabetes food guide ?\", \"diet plan good type two\", 26], [\"what is a good diet for a diabetic woman ?\", \"diet plan good type two\", 26], [\"diet plans for diabetics ?\", \"diet plan good type two\", 26], [\"can i keep my diabetes under control by strictly following my diabetic diet guidelines ?\", \"diet plan good type two\", 26], [\"diabetic diet plan ?\", \"diet plan good type two\", 26], [\"what are some diets for somoe with high blood sugar levels ?\", \"diet plan good type two\", 26], [\"diet for diabetes ?\", \"diet plan good type two\", 26], [\"what foods help prevent diabetes ?\", \"diet plan good type two\", 26], [\"what foods should you avoid to prevent diabetes type two ?\", \"diet plan good type two\", 26], [\"is there a diet for children with adhd ?\", \"diet plan good type two\", 26], [\"safe diabetic diet plans ?\", \"diet plan good type two\", 26], [\"what is a good type two diabetes diet plan ?\", \"diet plan good type two\", 26], [\"is a diabetic diet plan healthy ?\", \"diet plan good type two\", 26], [\"can diabetics go on a seven day cabbage soup diet ?\", \"diet plan good type two\", 26]], \"hovertemplate\": \"summary=%{customdata[1]}<br>pc_1=%{x}<br>pc_2=%{y}<br>pc_3=%{z}<br>sentence=%{customdata[0]}<br>label=%{customdata[2]}<extra></extra>\", \"legendgroup\": \"diet plan good type two\", \"marker\": {\"color\": \"#00cc96\", \"size\": 8, \"symbol\": \"circle\"}, \"mode\": \"markers\", \"name\": \"diet plan good type two\", \"scene\": \"scene\", \"showlegend\": true, \"type\": \"scatter3d\", \"x\": [0.08273570984601974, 0.09390844404697418, 0.0020102127455174923, 0.03882873058319092, 0.06642837077379227, -0.02734212949872017, -0.03713783621788025, 0.08617499470710754, -0.02152671478688717, 0.04051061347126961, 0.0818377137184143, -0.00038792399573139846, -0.03126173093914986, -0.04771738499403, -0.013712969608604908, -0.005459730047732592, 0.016306893900036812, 0.0297005083411932, 0.010544947348535061, -0.03860008344054222, -0.020152384415268898, 0.005779071245342493, 0.05502039194107056, 0.0250187236815691, 0.03499431535601616, 0.07677347213029861, 0.04732048138976097, 0.0700288712978363, -0.037765536457300186, 0.04073769971728325, 0.08725098520517349, 0.015551707707345486, 0.04500936344265938, 0.04119637981057167, 0.007524722255766392], \"y\": [0.33142825961112976, 0.3442220389842987, 0.31427207589149475, 0.2508871853351593, 0.2805977463722229, 0.37521854043006897, 0.38723692297935486, 0.31193670630455017, 0.3055800795555115, 0.2694002389907837, 0.331174373626709, 0.3156462013721466, 0.3061460852622986, 0.2706568241119385, 0.3361673355102539, 0.3070008456707001, 0.2784801423549652, 0.30756813287734985, 0.2795368731021881, 0.3465002477169037, 0.3248506486415863, 0.33784404397010803, 0.27453458309173584, 0.3693831264972687, 0.35657066106796265, 0.3027089536190033, 0.2685277760028839, 0.38912275433540344, 0.3897630572319031, 0.3612321615219116, 0.29858410358428955, 0.3320748507976532, 0.274685263633728, 0.30298134684562683, 0.33038195967674255], \"z\": [0.6812261939048767, 0.6282861232757568, 0.6917440891265869, 0.5879218578338623, 0.6248382925987244, 0.6355818510055542, 0.6359375715255737, 0.739928126335144, 0.6923640966415405, 0.5943245887756348, 0.7192422151565552, 0.6960620880126953, 0.6936870217323303, 0.6734683513641357, 0.6025868654251099, 0.6963912844657898, 0.6498275399208069, 0.6996421217918396, 0.7153787612915039, 0.6171413064002991, 0.6271824240684509, 0.6861578822135925, 0.6170375943183899, 0.6705173850059509, 0.6045532822608948, 0.7343544960021973, 0.599005401134491, 0.6388485431671143, 0.6340234279632568, 0.606817364692688, 0.7460069060325623, 0.6864232420921326, 0.5929257869720459, 0.7060444951057434, 0.5957213044166565]}],                        {\"height\": 500, \"legend\": {\"itemclick\": \"toggleothers\", \"title\": {\"text\": \"Cluster Summaries\"}, \"tracegroupgap\": 0}, \"margin\": {\"t\": 60}, \"scene\": {\"domain\": {\"x\": [0.0, 1.0], \"y\": [0.0, 1.0]}, \"xaxis\": {\"title\": {\"text\": \"pc_1\"}}, \"yaxis\": {\"title\": {\"text\": \"pc_2\"}}, \"zaxis\": {\"title\": {\"text\": \"pc_3\"}}}, \"template\": {\"data\": {\"bar\": [{\"error_x\": {\"color\": \"#2a3f5f\"}, \"error_y\": {\"color\": \"#2a3f5f\"}, \"marker\": {\"line\": {\"color\": \"#E5ECF6\", \"width\": 0.5}}, \"type\": \"bar\"}], \"barpolar\": [{\"marker\": {\"line\": {\"color\": \"#E5ECF6\", \"width\": 0.5}}, \"type\": \"barpolar\"}], \"carpet\": [{\"aaxis\": {\"endlinecolor\": \"#2a3f5f\", \"gridcolor\": \"white\", \"linecolor\": \"white\", \"minorgridcolor\": \"white\", \"startlinecolor\": \"#2a3f5f\"}, \"baxis\": {\"endlinecolor\": \"#2a3f5f\", \"gridcolor\": \"white\", \"linecolor\": \"white\", \"minorgridcolor\": \"white\", \"startlinecolor\": \"#2a3f5f\"}, \"type\": \"carpet\"}], \"choropleth\": [{\"colorbar\": {\"outlinewidth\": 0, \"ticks\": \"\"}, \"type\": \"choropleth\"}], \"contour\": [{\"colorbar\": {\"outlinewidth\": 0, \"ticks\": \"\"}, \"colorscale\": [[0.0, \"#0d0887\"], [0.1111111111111111, \"#46039f\"], [0.2222222222222222, \"#7201a8\"], [0.3333333333333333, \"#9c179e\"], [0.4444444444444444, \"#bd3786\"], [0.5555555555555556, \"#d8576b\"], [0.6666666666666666, \"#ed7953\"], [0.7777777777777778, \"#fb9f3a\"], [0.8888888888888888, \"#fdca26\"], [1.0, \"#f0f921\"]], \"type\": \"contour\"}], \"contourcarpet\": [{\"colorbar\": {\"outlinewidth\": 0, \"ticks\": \"\"}, \"type\": \"contourcarpet\"}], \"heatmap\": [{\"colorbar\": {\"outlinewidth\": 0, \"ticks\": \"\"}, \"colorscale\": [[0.0, \"#0d0887\"], [0.1111111111111111, \"#46039f\"], [0.2222222222222222, \"#7201a8\"], [0.3333333333333333, \"#9c179e\"], [0.4444444444444444, \"#bd3786\"], [0.5555555555555556, \"#d8576b\"], [0.6666666666666666, \"#ed7953\"], [0.7777777777777778, \"#fb9f3a\"], [0.8888888888888888, \"#fdca26\"], [1.0, \"#f0f921\"]], \"type\": \"heatmap\"}], \"heatmapgl\": [{\"colorbar\": {\"outlinewidth\": 0, \"ticks\": \"\"}, \"colorscale\": [[0.0, \"#0d0887\"], [0.1111111111111111, \"#46039f\"], [0.2222222222222222, \"#7201a8\"], [0.3333333333333333, \"#9c179e\"], [0.4444444444444444, \"#bd3786\"], [0.5555555555555556, \"#d8576b\"], [0.6666666666666666, \"#ed7953\"], [0.7777777777777778, \"#fb9f3a\"], [0.8888888888888888, \"#fdca26\"], [1.0, \"#f0f921\"]], \"type\": \"heatmapgl\"}], \"histogram\": [{\"marker\": {\"colorbar\": {\"outlinewidth\": 0, \"ticks\": \"\"}}, \"type\": \"histogram\"}], \"histogram2d\": [{\"colorbar\": {\"outlinewidth\": 0, \"ticks\": \"\"}, \"colorscale\": [[0.0, \"#0d0887\"], [0.1111111111111111, \"#46039f\"], [0.2222222222222222, \"#7201a8\"], [0.3333333333333333, \"#9c179e\"], [0.4444444444444444, \"#bd3786\"], [0.5555555555555556, \"#d8576b\"], [0.6666666666666666, \"#ed7953\"], [0.7777777777777778, \"#fb9f3a\"], [0.8888888888888888, \"#fdca26\"], [1.0, \"#f0f921\"]], \"type\": \"histogram2d\"}], \"histogram2dcontour\": [{\"colorbar\": {\"outlinewidth\": 0, \"ticks\": \"\"}, \"colorscale\": [[0.0, \"#0d0887\"], [0.1111111111111111, \"#46039f\"], [0.2222222222222222, \"#7201a8\"], [0.3333333333333333, \"#9c179e\"], [0.4444444444444444, \"#bd3786\"], [0.5555555555555556, \"#d8576b\"], [0.6666666666666666, \"#ed7953\"], [0.7777777777777778, \"#fb9f3a\"], [0.8888888888888888, \"#fdca26\"], [1.0, \"#f0f921\"]], \"type\": \"histogram2dcontour\"}], \"mesh3d\": [{\"colorbar\": {\"outlinewidth\": 0, \"ticks\": \"\"}, \"type\": \"mesh3d\"}], \"parcoords\": [{\"line\": {\"colorbar\": {\"outlinewidth\": 0, \"ticks\": \"\"}}, \"type\": \"parcoords\"}], \"pie\": [{\"automargin\": true, \"type\": \"pie\"}], \"scatter\": [{\"marker\": {\"colorbar\": {\"outlinewidth\": 0, \"ticks\": \"\"}}, \"type\": \"scatter\"}], \"scatter3d\": [{\"line\": {\"colorbar\": {\"outlinewidth\": 0, \"ticks\": \"\"}}, \"marker\": {\"colorbar\": {\"outlinewidth\": 0, \"ticks\": \"\"}}, \"type\": \"scatter3d\"}], \"scattercarpet\": [{\"marker\": {\"colorbar\": {\"outlinewidth\": 0, \"ticks\": \"\"}}, \"type\": \"scattercarpet\"}], \"scattergeo\": [{\"marker\": {\"colorbar\": {\"outlinewidth\": 0, \"ticks\": \"\"}}, \"type\": \"scattergeo\"}], \"scattergl\": [{\"marker\": {\"colorbar\": {\"outlinewidth\": 0, \"ticks\": \"\"}}, \"type\": \"scattergl\"}], \"scattermapbox\": [{\"marker\": {\"colorbar\": {\"outlinewidth\": 0, \"ticks\": \"\"}}, \"type\": \"scattermapbox\"}], \"scatterpolar\": [{\"marker\": {\"colorbar\": {\"outlinewidth\": 0, \"ticks\": \"\"}}, \"type\": \"scatterpolar\"}], \"scatterpolargl\": [{\"marker\": {\"colorbar\": {\"outlinewidth\": 0, \"ticks\": \"\"}}, \"type\": \"scatterpolargl\"}], \"scatterternary\": [{\"marker\": {\"colorbar\": {\"outlinewidth\": 0, \"ticks\": \"\"}}, \"type\": \"scatterternary\"}], \"surface\": [{\"colorbar\": {\"outlinewidth\": 0, \"ticks\": \"\"}, \"colorscale\": [[0.0, \"#0d0887\"], [0.1111111111111111, \"#46039f\"], [0.2222222222222222, \"#7201a8\"], [0.3333333333333333, \"#9c179e\"], [0.4444444444444444, \"#bd3786\"], [0.5555555555555556, \"#d8576b\"], [0.6666666666666666, \"#ed7953\"], [0.7777777777777778, \"#fb9f3a\"], [0.8888888888888888, \"#fdca26\"], [1.0, \"#f0f921\"]], \"type\": \"surface\"}], \"table\": [{\"cells\": {\"fill\": {\"color\": \"#EBF0F8\"}, \"line\": {\"color\": \"white\"}}, \"header\": {\"fill\": {\"color\": \"#C8D4E3\"}, \"line\": {\"color\": \"white\"}}, \"type\": \"table\"}]}, \"layout\": {\"annotationdefaults\": {\"arrowcolor\": \"#2a3f5f\", \"arrowhead\": 0, \"arrowwidth\": 1}, \"autotypenumbers\": \"strict\", \"coloraxis\": {\"colorbar\": {\"outlinewidth\": 0, \"ticks\": \"\"}}, \"colorscale\": {\"diverging\": [[0, \"#8e0152\"], [0.1, \"#c51b7d\"], [0.2, \"#de77ae\"], [0.3, \"#f1b6da\"], [0.4, \"#fde0ef\"], [0.5, \"#f7f7f7\"], [0.6, \"#e6f5d0\"], [0.7, \"#b8e186\"], [0.8, \"#7fbc41\"], [0.9, \"#4d9221\"], [1, \"#276419\"]], \"sequential\": [[0.0, \"#0d0887\"], [0.1111111111111111, \"#46039f\"], [0.2222222222222222, \"#7201a8\"], [0.3333333333333333, \"#9c179e\"], [0.4444444444444444, \"#bd3786\"], [0.5555555555555556, \"#d8576b\"], [0.6666666666666666, \"#ed7953\"], [0.7777777777777778, \"#fb9f3a\"], [0.8888888888888888, \"#fdca26\"], [1.0, \"#f0f921\"]], \"sequentialminus\": [[0.0, \"#0d0887\"], [0.1111111111111111, \"#46039f\"], [0.2222222222222222, \"#7201a8\"], [0.3333333333333333, \"#9c179e\"], [0.4444444444444444, \"#bd3786\"], [0.5555555555555556, \"#d8576b\"], [0.6666666666666666, \"#ed7953\"], [0.7777777777777778, \"#fb9f3a\"], [0.8888888888888888, \"#fdca26\"], [1.0, \"#f0f921\"]]}, \"colorway\": [\"#636efa\", \"#EF553B\", \"#00cc96\", \"#ab63fa\", \"#FFA15A\", \"#19d3f3\", \"#FF6692\", \"#B6E880\", \"#FF97FF\", \"#FECB52\"], \"font\": {\"color\": \"#2a3f5f\"}, \"geo\": {\"bgcolor\": \"white\", \"lakecolor\": \"white\", \"landcolor\": \"#E5ECF6\", \"showlakes\": true, \"showland\": true, \"subunitcolor\": \"white\"}, \"hoverlabel\": {\"align\": \"left\"}, \"hovermode\": \"closest\", \"mapbox\": {\"style\": \"light\"}, \"paper_bgcolor\": \"white\", \"plot_bgcolor\": \"#E5ECF6\", \"polar\": {\"angularaxis\": {\"gridcolor\": \"white\", \"linecolor\": \"white\", \"ticks\": \"\"}, \"bgcolor\": \"#E5ECF6\", \"radialaxis\": {\"gridcolor\": \"white\", \"linecolor\": \"white\", \"ticks\": \"\"}}, \"scene\": {\"xaxis\": {\"backgroundcolor\": \"#E5ECF6\", \"gridcolor\": \"white\", \"gridwidth\": 2, \"linecolor\": \"white\", \"showbackground\": true, \"ticks\": \"\", \"zerolinecolor\": \"white\"}, \"yaxis\": {\"backgroundcolor\": \"#E5ECF6\", \"gridcolor\": \"white\", \"gridwidth\": 2, \"linecolor\": \"white\", \"showbackground\": true, \"ticks\": \"\", \"zerolinecolor\": \"white\"}, \"zaxis\": {\"backgroundcolor\": \"#E5ECF6\", \"gridcolor\": \"white\", \"gridwidth\": 2, \"linecolor\": \"white\", \"showbackground\": true, \"ticks\": \"\", \"zerolinecolor\": \"white\"}}, \"shapedefaults\": {\"line\": {\"color\": \"#2a3f5f\"}}, \"ternary\": {\"aaxis\": {\"gridcolor\": \"white\", \"linecolor\": \"white\", \"ticks\": \"\"}, \"baxis\": {\"gridcolor\": \"white\", \"linecolor\": \"white\", \"ticks\": \"\"}, \"bgcolor\": \"#E5ECF6\", \"caxis\": {\"gridcolor\": \"white\", \"linecolor\": \"white\", \"ticks\": \"\"}}, \"title\": {\"x\": 0.05}, \"xaxis\": {\"automargin\": true, \"gridcolor\": \"white\", \"linecolor\": \"white\", \"ticks\": \"\", \"title\": {\"standoff\": 15}, \"zerolinecolor\": \"white\", \"zerolinewidth\": 2}, \"yaxis\": {\"automargin\": true, \"gridcolor\": \"white\", \"linecolor\": \"white\", \"ticks\": \"\", \"title\": {\"standoff\": 15}, \"zerolinecolor\": \"white\", \"zerolinewidth\": 2}}}, \"title\": {\"text\": \"Projected Question Vectors\"}},                        {\"responsive\": true}                    ).then(function(){\n",
       "                            \n",
       "var gd = document.getElementById('9e7a08b9-5fa8-4f37-9c59-1d7dce801bd7');\n",
       "var x = new MutationObserver(function (mutations, observer) {{\n",
       "        var display = window.getComputedStyle(gd).display;\n",
       "        if (!display || display === 'none') {{\n",
       "            console.log([gd, 'removed!']);\n",
       "            Plotly.purge(gd);\n",
       "            observer.disconnect();\n",
       "        }}\n",
       "}});\n",
       "\n",
       "// Listen for the removal of the full notebook cells\n",
       "var notebookContainer = gd.closest('#notebook-container');\n",
       "if (notebookContainer) {{\n",
       "    x.observe(notebookContainer, {childList: true});\n",
       "}}\n",
       "\n",
       "// Listen for the clearing of the current output cell\n",
       "var outputEl = gd.closest('.output');\n",
       "if (outputEl) {{\n",
       "    x.observe(outputEl, {childList: true});\n",
       "}}\n",
       "\n",
       "                        })                };                });            </script>        </div>"
      ]
     },
     "metadata": {},
     "output_type": "display_data"
    }
   ],
   "source": [
    "fig = px.scatter_3d(\n",
    "    df[df['label'] != -1], x='pc_1', y='pc_2', z='pc_3', color='summary', \n",
    "    hover_data=['sentence', 'summary', 'label'])\n",
    "fig.update_traces(marker_size=8)\n",
    "fig.update_layout(\n",
    "    title='Projected Question Vectors',\n",
    "    legend={'title': 'Cluster Summaries', 'itemclick': 'toggleothers'},\n",
    "    height=500,\n",
    ")\n",
    "fig.show()"
   ]
  },
  {
   "cell_type": "markdown",
   "metadata": {},
   "source": [
    "### Plot Cluster Label Distribution\n",
    "\n",
    "To get another perspective on the validation question clusters, we plot below the percent-weighted histogram of the non-outlier cluster labels. This gives us a sampled distributional view of the \"core\" topics in which users ask questions about within this domain, allowing us to make an estimates on the expected relative frequency of seeing these question topics in the data-source forum. "
   ]
  },
  {
   "cell_type": "code",
   "execution_count": 54,
   "metadata": {},
   "outputs": [
    {
     "data": {
      "application/vnd.plotly.v1+json": {
       "config": {
        "plotlyServerURL": "https://plot.ly"
       },
       "data": [
        {
         "alignmentgroup": "True",
         "bingroup": "x",
         "histnorm": "percent",
         "hovertemplate": "summary=%{x}<br>count=%{y}<extra></extra>",
         "legendgroup": "",
         "marker": {
          "color": "#636efa"
         },
         "name": "",
         "nbinsx": 32,
         "offsetgroup": "",
         "orientation": "v",
         "showlegend": false,
         "type": "histogram",
         "x": [
          "blood normal sugar level glucos",
          "blood normal sugar level glucos",
          "blood sugar level a1c test",
          "type get prevent two one",
          "insulin use bacteria produc glucos",
          "blood normal sugar level glucos",
          "type get prevent two one",
          "find menu diet inform plan",
          "cure type guess medicin help",
          "insulin use bacteria produc glucos",
          "blood sugar level a1c test",
          "recip find good dessert cake",
          "insulin blood glucos sugar level",
          "type get prevent two one",
          "sugar eat test strip mani",
          "diet food good eat avoid",
          "type mellitu one caus name",
          "insulin shock taken oral bodi",
          "insulin blood glucos sugar level",
          "blood sugar level a1c test",
          "symptom type one common two",
          "diet food good eat avoid",
          "diet food good eat avoid",
          "jona nick brother get caus",
          "recip find good dessert cake",
          "risk type factor two develop",
          "type caus two insulin resist",
          "type one cure two curabl",
          "blood test sugar type level",
          "blood sugar low hundr eat",
          "blood normal sugar level glucos",
          "type get prevent two one",
          "type one cure two curabl",
          "jona nick brother get caus",
          "gestat caus type two chanc",
          "earli symptom sign caus electrolyt",
          "symptom type one common two",
          "eat patient drink good tattoo",
          "type get prevent two one",
          "prevent get type lose two",
          "type get prevent two one",
          "sugar good type insulin caus",
          "recip find good dessert cake",
          "blood normal sugar level glucos",
          "insulin treatment reduc aggreg inactiv",
          "recip find good dessert cake",
          "diet plan cure fruit effect",
          "sugar good type insulin caus",
          "symptom sign test urin children",
          "type get prevent two one",
          "type caus two insulin resist",
          "insulin use bacteria produc glucos",
          "blood normal sugar level glucos",
          "diet cure menu treatment prevent",
          "type mellitu one caus name",
          "insulin shock taken oral bodi",
          "type caus two insulin resist",
          "earli symptom sign caus electrolyt",
          "sugar good type insulin caus",
          "type get prevent two one",
          "blood normal sugar level glucos",
          "risk type factor two develop",
          "diet plan cure fruit effect",
          "sugar good type insulin caus",
          "type one insulin mellitu resist",
          "symptom sign test urin children",
          "recip find good dessert cake",
          "cure type guess medicin help",
          "cure type guess medicin help",
          "gestat caus type two chanc",
          "blood sugar level a1c test",
          "gestat caus type two chanc",
          "type get prevent two one",
          "insulin shock taken oral bodi",
          "diet food good eat avoid",
          "blood test sugar type level",
          "diet food good eat avoid",
          "sugar good type insulin caus",
          "blood sugar low hundr eat",
          "cure type guess medicin help",
          "recip find good dessert cake",
          "recip find good dessert cake",
          "type one cure two curabl",
          "recip find good dessert cake",
          "sugar eat test strip mani",
          "diet food good eat avoid",
          "jona nick brother get caus",
          "sugar good type insulin caus",
          "recip find good dessert cake",
          "blood normal sugar level glucos",
          "diet cure menu treatment prevent",
          "symptom type one common two",
          "symptom type one common two",
          "type one insulin mellitu resist",
          "earli symptom sign caus electrolyt",
          "gestat caus type two chanc",
          "recip find good dessert cake",
          "prevent get type lose two",
          "blood sugar level a1c test",
          "type get prevent two one",
          "sugar good type insulin caus",
          "sugar blood good eat rais",
          "prevent get type lose two",
          "recip find good dessert cake",
          "find menu diet inform plan",
          "diet food good eat avoid",
          "sugar blood good eat rais",
          "recip find good dessert cake",
          "blood normal sugar level glucos",
          "recip find good dessert cake",
          "sugar eat test strip mani",
          "jona nick brother get caus",
          "recip find good dessert cake",
          "insulin use bacteria produc glucos",
          "symptom type one common two",
          "earli symptom sign caus electrolyt",
          "diet cure menu treatment prevent",
          "jona nick brother get caus",
          "blood normal sugar level glucos",
          "sugar blood good eat rais",
          "insulin blood glucos sugar level",
          "diet food good eat avoid",
          "blood sugar level a1c test",
          "cure type guess medicin help",
          "diet food good eat avoid",
          "blood sugar low hundr eat",
          "recip find good dessert cake",
          "symptom sign test urin children",
          "risk type factor two develop",
          "type one cure two curabl",
          "blood sugar low hundr eat",
          "insulin blood glucos sugar level",
          "sugar good type insulin caus",
          "insulin blood glucos sugar level",
          "diet plan cure fruit effect",
          "cure type guess medicin help",
          "insulin shock taken oral bodi",
          "blood sugar low hundr eat",
          "type get prevent two one",
          "recip find good dessert cake",
          "risk type factor two develop",
          "insulin shock taken oral bodi",
          "insulin shock taken oral bodi",
          "blood sugar level a1c test",
          "blood sugar low hundr eat",
          "blood normal sugar level glucos",
          "blood sugar level a1c test",
          "diet food good eat avoid",
          "insulin shock taken oral bodi",
          "symptom type one common two",
          "blood normal sugar level glucos",
          "sugar blood good eat rais",
          "blood normal sugar level glucos",
          "recip find good dessert cake",
          "gestat caus type two chanc",
          "blood sugar level a1c test",
          "blood normal sugar level glucos",
          "blood sugar level a1c test",
          "blood normal sugar level glucos",
          "symptom type one common two",
          "jona nick brother get caus",
          "symptom sign test urin children",
          "recip find good dessert cake",
          "symptom sign test urin children",
          "diet plan good type two",
          "type mellitu one caus name",
          "diet food good eat avoid",
          "type one insulin mellitu resist",
          "recip find good dessert cake",
          "type get prevent two one",
          "type mellitu one caus name",
          "sugar eat test strip mani",
          "earli symptom sign caus electrolyt",
          "type caus two insulin resist",
          "sugar blood good eat rais",
          "sugar good type insulin caus",
          "blood normal sugar level glucos",
          "type caus two insulin resist",
          "type one cure two curabl",
          "blood sugar level a1c test",
          "diet plan good type two",
          "diet plan good type two",
          "insulin blood glucos sugar level",
          "jona nick brother get caus",
          "blood normal sugar level glucos",
          "recip find good dessert cake",
          "type one cure two curabl",
          "recip find good dessert cake",
          "gestat caus type two chanc",
          "insulin treatment reduc aggreg inactiv",
          "diet food good eat avoid",
          "insulin use bacteria produc glucos",
          "sugar good type insulin caus",
          "risk type factor two develop",
          "sugar blood good eat rais",
          "sugar blood good eat rais",
          "insulin treatment reduc aggreg inactiv",
          "sugar good type insulin caus",
          "type caus two insulin resist",
          "earli symptom sign caus electrolyt",
          "recip find good dessert cake",
          "insulin treatment reduc aggreg inactiv",
          "gestat caus type two chanc",
          "insulin treatment reduc aggreg inactiv",
          "recip find good dessert cake",
          "type one insulin mellitu resist",
          "find menu diet inform plan",
          "gestat caus type two chanc",
          "recip find good dessert cake",
          "recip find good dessert cake",
          "diet food good eat avoid",
          "jona nick brother get caus",
          "type get prevent two one",
          "risk type factor two develop",
          "sugar blood good eat rais",
          "diet food good eat avoid",
          "prevent get type lose two",
          "sugar eat test strip mani",
          "diet plan good type two",
          "type mellitu one caus name",
          "sugar blood good eat rais",
          "type get prevent two one",
          "diet cure menu treatment prevent",
          "gestat caus type two chanc",
          "insulin use bacteria produc glucos",
          "gestat caus type two chanc",
          "type mellitu one caus name",
          "symptom sign test urin children",
          "insulin treatment reduc aggreg inactiv",
          "symptom type one common two",
          "gestat caus type two chanc",
          "prevent get type lose two",
          "symptom type one common two",
          "type caus two insulin resist",
          "risk type factor two develop",
          "symptom type one common two",
          "diet cure menu treatment prevent",
          "eat patient drink good tattoo",
          "recip find good dessert cake",
          "insulin use bacteria produc glucos",
          "insulin treatment reduc aggreg inactiv",
          "sugar blood good eat rais",
          "recip find good dessert cake",
          "earli symptom sign caus electrolyt",
          "diet plan good type two",
          "jona nick brother get caus",
          "blood normal sugar level glucos",
          "type mellitu one caus name",
          "blood normal sugar level glucos",
          "diet food good eat avoid",
          "sugar eat test strip mani",
          "symptom type one common two",
          "jona nick brother get caus",
          "recip find good dessert cake",
          "jona nick brother get caus",
          "jona nick brother get caus",
          "gestat caus type two chanc",
          "insulin blood glucos sugar level",
          "sugar good type insulin caus",
          "symptom type one common two",
          "recip find good dessert cake",
          "blood sugar level a1c test",
          "blood sugar low hundr eat",
          "recip find good dessert cake",
          "type one cure two curabl",
          "diet food good eat avoid",
          "recip find good dessert cake",
          "eat patient drink good tattoo",
          "insulin treatment reduc aggreg inactiv",
          "eat patient drink good tattoo",
          "blood normal sugar level glucos",
          "earli symptom sign caus electrolyt",
          "jona nick brother get caus",
          "type one insulin mellitu resist",
          "diet food good eat avoid",
          "prevent get type lose two",
          "sugar good type insulin caus",
          "insulin use bacteria produc glucos",
          "sugar good type insulin caus",
          "recip find good dessert cake",
          "cure type guess medicin help",
          "diet plan cure fruit effect",
          "diet food good eat avoid",
          "diet plan good type two",
          "jona nick brother get caus",
          "type one insulin mellitu resist",
          "eat patient drink good tattoo",
          "earli symptom sign caus electrolyt",
          "diet food good eat avoid",
          "blood sugar low hundr eat",
          "blood sugar low hundr eat",
          "find menu diet inform plan",
          "blood sugar level a1c test",
          "recip find good dessert cake",
          "blood normal sugar level glucos",
          "sugar blood good eat rais",
          "diet food good eat avoid",
          "insulin use bacteria produc glucos",
          "insulin treatment reduc aggreg inactiv",
          "recip find good dessert cake",
          "type caus two insulin resist",
          "diet food good eat avoid",
          "type one cure two curabl",
          "sugar good type insulin caus",
          "insulin shock taken oral bodi",
          "diet food good eat avoid",
          "blood sugar level a1c test",
          "cure type guess medicin help",
          "insulin blood glucos sugar level",
          "blood normal sugar level glucos",
          "blood sugar low hundr eat",
          "symptom type one common two",
          "blood normal sugar level glucos",
          "symptom type one common two",
          "type one insulin mellitu resist",
          "insulin treatment reduc aggreg inactiv",
          "sugar good type insulin caus",
          "symptom type one common two",
          "diet cure menu treatment prevent",
          "gestat caus type two chanc",
          "insulin blood glucos sugar level",
          "diet cure menu treatment prevent",
          "eat patient drink good tattoo",
          "cure type guess medicin help",
          "diet food good eat avoid",
          "blood normal sugar level glucos",
          "diet cure menu treatment prevent",
          "blood normal sugar level glucos",
          "gestat caus type two chanc",
          "type mellitu one caus name",
          "insulin blood glucos sugar level",
          "sugar blood good eat rais",
          "type one insulin mellitu resist",
          "diet plan good type two",
          "diet food good eat avoid",
          "type one cure two curabl",
          "diet food good eat avoid",
          "diet food good eat avoid",
          "diet cure menu treatment prevent",
          "blood normal sugar level glucos",
          "blood sugar level a1c test",
          "sugar blood good eat rais",
          "blood sugar low hundr eat",
          "sugar blood good eat rais",
          "sugar blood good eat rais",
          "earli symptom sign caus electrolyt",
          "insulin blood glucos sugar level",
          "blood test sugar type level",
          "symptom type one common two",
          "insulin shock taken oral bodi",
          "eat patient drink good tattoo",
          "blood sugar low hundr eat",
          "find menu diet inform plan",
          "earli symptom sign caus electrolyt",
          "blood normal sugar level glucos",
          "earli symptom sign caus electrolyt",
          "blood test sugar type level",
          "recip find good dessert cake",
          "insulin shock taken oral bodi",
          "sugar blood good eat rais",
          "sugar good type insulin caus",
          "cure type guess medicin help",
          "symptom sign test urin children",
          "gestat caus type two chanc",
          "find menu diet inform plan",
          "blood normal sugar level glucos",
          "symptom type one common two",
          "blood normal sugar level glucos",
          "recip find good dessert cake",
          "recip find good dessert cake",
          "diet plan good type two",
          "find menu diet inform plan",
          "recip find good dessert cake",
          "insulin use bacteria produc glucos",
          "prevent get type lose two",
          "sugar blood good eat rais",
          "recip find good dessert cake",
          "jona nick brother get caus",
          "blood normal sugar level glucos",
          "sugar blood good eat rais",
          "sugar good type insulin caus",
          "symptom type one common two",
          "jona nick brother get caus",
          "diet food good eat avoid",
          "risk type factor two develop",
          "symptom sign test urin children",
          "insulin shock taken oral bodi",
          "diet plan cure fruit effect",
          "symptom type one common two",
          "blood normal sugar level glucos",
          "symptom sign test urin children",
          "blood sugar level a1c test",
          "blood normal sugar level glucos",
          "diet food good eat avoid",
          "blood test sugar type level",
          "eat patient drink good tattoo",
          "blood test sugar type level",
          "sugar blood good eat rais",
          "diet cure menu treatment prevent",
          "recip find good dessert cake",
          "prevent get type lose two",
          "diet cure menu treatment prevent",
          "jona nick brother get caus",
          "diet food good eat avoid",
          "recip find good dessert cake",
          "sugar blood good eat rais",
          "cure type guess medicin help",
          "earli symptom sign caus electrolyt",
          "diet cure menu treatment prevent",
          "type one insulin mellitu resist",
          "diet plan good type two",
          "cure type guess medicin help",
          "insulin blood glucos sugar level",
          "sugar blood good eat rais",
          "blood test sugar type level",
          "type one insulin mellitu resist",
          "insulin treatment reduc aggreg inactiv",
          "insulin treatment reduc aggreg inactiv",
          "cure type guess medicin help",
          "recip find good dessert cake",
          "earli symptom sign caus electrolyt",
          "earli symptom sign caus electrolyt",
          "type one cure two curabl",
          "earli symptom sign caus electrolyt",
          "type get prevent two one",
          "gestat caus type two chanc",
          "symptom type one common two",
          "sugar blood good eat rais",
          "diet plan good type two",
          "diet plan good type two",
          "insulin use bacteria produc glucos",
          "symptom sign test urin children",
          "blood test sugar type level",
          "recip find good dessert cake",
          "blood test sugar type level",
          "eat patient drink good tattoo",
          "diet plan cure fruit effect",
          "cure type guess medicin help",
          "diet food good eat avoid",
          "blood sugar low hundr eat",
          "jona nick brother get caus",
          "type one insulin mellitu resist",
          "type one cure two curabl",
          "prevent get type lose two",
          "blood normal sugar level glucos",
          "cure type guess medicin help",
          "blood normal sugar level glucos",
          "blood test sugar type level",
          "find menu diet inform plan",
          "type caus two insulin resist",
          "insulin use bacteria produc glucos",
          "jona nick brother get caus",
          "sugar blood good eat rais",
          "risk type factor two develop",
          "insulin use bacteria produc glucos",
          "diet food good eat avoid",
          "cure type guess medicin help",
          "recip find good dessert cake",
          "blood normal sugar level glucos",
          "type mellitu one caus name",
          "type one insulin mellitu resist",
          "insulin blood glucos sugar level",
          "diet food good eat avoid",
          "sugar eat test strip mani",
          "earli symptom sign caus electrolyt",
          "blood normal sugar level glucos",
          "sugar blood good eat rais",
          "blood normal sugar level glucos",
          "recip find good dessert cake",
          "blood sugar level a1c test",
          "insulin blood glucos sugar level",
          "gestat caus type two chanc",
          "gestat caus type two chanc",
          "insulin shock taken oral bodi",
          "diet food good eat avoid",
          "diet food good eat avoid",
          "diet cure menu treatment prevent",
          "cure type guess medicin help",
          "symptom sign test urin children",
          "diet food good eat avoid",
          "type caus two insulin resist",
          "symptom type one common two",
          "sugar blood good eat rais",
          "symptom sign test urin children",
          "risk type factor two develop",
          "insulin blood glucos sugar level",
          "recip find good dessert cake",
          "sugar eat test strip mani",
          "recip find good dessert cake",
          "diet cure menu treatment prevent",
          "blood sugar level a1c test",
          "diet food good eat avoid",
          "sugar blood good eat rais",
          "sugar good type insulin caus",
          "gestat caus type two chanc",
          "insulin blood glucos sugar level",
          "sugar blood good eat rais",
          "eat patient drink good tattoo",
          "gestat caus type two chanc",
          "diet plan good type two",
          "sugar good type insulin caus",
          "diet plan good type two",
          "type one insulin mellitu resist",
          "symptom sign test urin children",
          "sugar blood good eat rais",
          "blood normal sugar level glucos",
          "recip find good dessert cake",
          "blood sugar level a1c test",
          "find menu diet inform plan",
          "find menu diet inform plan",
          "insulin shock taken oral bodi",
          "blood sugar level a1c test",
          "prevent get type lose two",
          "blood test sugar type level",
          "sugar blood good eat rais",
          "recip find good dessert cake",
          "blood sugar level a1c test",
          "diet food good eat avoid",
          "jona nick brother get caus",
          "sugar blood good eat rais",
          "gestat caus type two chanc",
          "diet food good eat avoid",
          "find menu diet inform plan",
          "blood sugar level a1c test",
          "prevent get type lose two",
          "diet food good eat avoid",
          "find menu diet inform plan",
          "sugar blood good eat rais",
          "type one cure two curabl",
          "blood sugar level a1c test",
          "sugar good type insulin caus",
          "sugar good type insulin caus",
          "sugar eat test strip mani",
          "sugar good type insulin caus",
          "type get prevent two one",
          "diet plan cure fruit effect",
          "insulin treatment reduc aggreg inactiv",
          "diet plan good type two",
          "sugar eat test strip mani",
          "diet food good eat avoid",
          "sugar eat test strip mani",
          "jona nick brother get caus",
          "risk type factor two develop",
          "eat patient drink good tattoo",
          "diet plan good type two",
          "jona nick brother get caus",
          "eat patient drink good tattoo",
          "sugar blood good eat rais",
          "diet plan cure fruit effect",
          "blood sugar level a1c test",
          "diet food good eat avoid",
          "recip find good dessert cake",
          "diet food good eat avoid",
          "type get prevent two one",
          "sugar eat test strip mani",
          "diet food good eat avoid",
          "diet plan cure fruit effect",
          "type get prevent two one",
          "diet food good eat avoid",
          "type one cure two curabl",
          "diet food good eat avoid",
          "eat patient drink good tattoo",
          "recip find good dessert cake",
          "blood test sugar type level",
          "diet food good eat avoid",
          "diet food good eat avoid",
          "diet food good eat avoid",
          "blood normal sugar level glucos",
          "symptom sign test urin children",
          "sugar eat test strip mani",
          "insulin shock taken oral bodi",
          "blood test sugar type level",
          "risk type factor two develop",
          "blood sugar level a1c test",
          "blood normal sugar level glucos",
          "cure type guess medicin help",
          "type one insulin mellitu resist",
          "sugar blood good eat rais",
          "cure type guess medicin help",
          "cure type guess medicin help",
          "insulin use bacteria produc glucos",
          "prevent get type lose two",
          "eat patient drink good tattoo",
          "prevent get type lose two",
          "recip find good dessert cake",
          "cure type guess medicin help",
          "eat patient drink good tattoo",
          "gestat caus type two chanc",
          "type mellitu one caus name",
          "diet plan good type two",
          "blood normal sugar level glucos",
          "gestat caus type two chanc",
          "type one cure two curabl",
          "insulin blood glucos sugar level",
          "insulin shock taken oral bodi",
          "symptom type one common two",
          "blood normal sugar level glucos",
          "diet plan good type two",
          "type get prevent two one",
          "earli symptom sign caus electrolyt",
          "blood sugar level a1c test",
          "sugar blood good eat rais",
          "diet cure menu treatment prevent",
          "type mellitu one caus name",
          "blood normal sugar level glucos",
          "recip find good dessert cake",
          "sugar eat test strip mani",
          "insulin shock taken oral bodi",
          "recip find good dessert cake",
          "gestat caus type two chanc",
          "recip find good dessert cake",
          "gestat caus type two chanc",
          "diet plan cure fruit effect",
          "type one cure two curabl",
          "insulin blood glucos sugar level",
          "recip find good dessert cake",
          "jona nick brother get caus",
          "blood sugar low hundr eat",
          "cure type guess medicin help",
          "sugar eat test strip mani",
          "find menu diet inform plan",
          "find menu diet inform plan",
          "insulin use bacteria produc glucos",
          "diet food good eat avoid",
          "insulin shock taken oral bodi",
          "prevent get type lose two",
          "diet plan cure fruit effect",
          "diet food good eat avoid",
          "prevent get type lose two",
          "blood test sugar type level",
          "type one insulin mellitu resist",
          "symptom sign test urin children",
          "risk type factor two develop",
          "blood sugar level a1c test",
          "recip find good dessert cake",
          "type mellitu one caus name",
          "type one insulin mellitu resist",
          "risk type factor two develop",
          "type caus two insulin resist",
          "diet plan cure fruit effect",
          "eat patient drink good tattoo",
          "recip find good dessert cake",
          "blood sugar low hundr eat",
          "type get prevent two one",
          "jona nick brother get caus",
          "symptom sign test urin children",
          "gestat caus type two chanc",
          "cure type guess medicin help",
          "type mellitu one caus name",
          "blood test sugar type level",
          "symptom type one common two",
          "insulin shock taken oral bodi",
          "blood sugar level a1c test",
          "jona nick brother get caus",
          "symptom sign test urin children",
          "symptom type one common two",
          "blood normal sugar level glucos",
          "symptom sign test urin children",
          "sugar good type insulin caus",
          "insulin blood glucos sugar level",
          "sugar blood good eat rais",
          "insulin shock taken oral bodi",
          "recip find good dessert cake",
          "sugar blood good eat rais",
          "diet cure menu treatment prevent",
          "prevent get type lose two",
          "sugar eat test strip mani",
          "insulin blood glucos sugar level",
          "blood sugar low hundr eat",
          "recip find good dessert cake",
          "eat patient drink good tattoo",
          "sugar blood good eat rais",
          "insulin shock taken oral bodi",
          "diet plan good type two",
          "sugar good type insulin caus",
          "insulin shock taken oral bodi",
          "cure type guess medicin help",
          "jona nick brother get caus",
          "diet cure menu treatment prevent",
          "gestat caus type two chanc",
          "type get prevent two one",
          "prevent get type lose two",
          "symptom type one common two",
          "sugar good type insulin caus",
          "diet food good eat avoid",
          "type one insulin mellitu resist",
          "prevent get type lose two",
          "sugar good type insulin caus",
          "diet food good eat avoid",
          "prevent get type lose two",
          "symptom type one common two",
          "sugar blood good eat rais",
          "type one cure two curabl",
          "blood test sugar type level",
          "insulin blood glucos sugar level",
          "earli symptom sign caus electrolyt",
          "jona nick brother get caus",
          "recip find good dessert cake",
          "diet food good eat avoid",
          "recip find good dessert cake",
          "insulin blood glucos sugar level",
          "recip find good dessert cake",
          "symptom type one common two",
          "prevent get type lose two",
          "blood normal sugar level glucos",
          "blood sugar level a1c test",
          "find menu diet inform plan",
          "diet cure menu treatment prevent",
          "blood sugar low hundr eat",
          "insulin blood glucos sugar level",
          "risk type factor two develop",
          "symptom type one common two",
          "diet food good eat avoid",
          "jona nick brother get caus",
          "blood sugar low hundr eat",
          "insulin shock taken oral bodi",
          "diet food good eat avoid",
          "gestat caus type two chanc",
          "type mellitu one caus name",
          "symptom type one common two",
          "blood normal sugar level glucos",
          "diet plan cure fruit effect",
          "diet plan good type two",
          "insulin treatment reduc aggreg inactiv",
          "recip find good dessert cake",
          "symptom type one common two",
          "insulin use bacteria produc glucos",
          "insulin treatment reduc aggreg inactiv",
          "symptom sign test urin children",
          "diet plan good type two",
          "blood normal sugar level glucos",
          "type get prevent two one",
          "blood normal sugar level glucos",
          "cure type guess medicin help",
          "jona nick brother get caus",
          "diet plan good type two",
          "diet plan good type two",
          "diet plan cure fruit effect",
          "eat patient drink good tattoo",
          "gestat caus type two chanc",
          "type get prevent two one",
          "recip find good dessert cake",
          "earli symptom sign caus electrolyt",
          "insulin blood glucos sugar level",
          "sugar blood good eat rais",
          "diet food good eat avoid",
          "sugar blood good eat rais",
          "sugar good type insulin caus",
          "type one cure two curabl",
          "sugar good type insulin caus",
          "symptom type one common two",
          "blood test sugar type level",
          "type get prevent two one",
          "symptom type one common two",
          "risk type factor two develop",
          "sugar blood good eat rais",
          "recip find good dessert cake",
          "sugar blood good eat rais",
          "sugar blood good eat rais",
          "symptom sign test urin children",
          "risk type factor two develop",
          "blood sugar level a1c test",
          "recip find good dessert cake",
          "prevent get type lose two",
          "insulin blood glucos sugar level",
          "symptom sign test urin children",
          "prevent get type lose two",
          "type get prevent two one",
          "blood normal sugar level glucos",
          "diet food good eat avoid",
          "jona nick brother get caus",
          "blood normal sugar level glucos",
          "diet plan good type two",
          "diet food good eat avoid",
          "recip find good dessert cake",
          "gestat caus type two chanc",
          "diet plan cure fruit effect",
          "diet plan good type two",
          "symptom type one common two",
          "sugar good type insulin caus",
          "blood normal sugar level glucos",
          "eat patient drink good tattoo",
          "symptom type one common two",
          "diet cure menu treatment prevent",
          "insulin shock taken oral bodi",
          "sugar good type insulin caus",
          "type one insulin mellitu resist",
          "type caus two insulin resist",
          "diet cure menu treatment prevent",
          "insulin treatment reduc aggreg inactiv",
          "sugar good type insulin caus",
          "recip find good dessert cake",
          "sugar good type insulin caus",
          "sugar eat test strip mani",
          "recip find good dessert cake",
          "type one insulin mellitu resist",
          "type caus two insulin resist",
          "sugar good type insulin caus",
          "sugar blood good eat rais",
          "recip find good dessert cake",
          "symptom type one common two",
          "diet plan cure fruit effect",
          "blood normal sugar level glucos",
          "find menu diet inform plan",
          "insulin shock taken oral bodi",
          "diet food good eat avoid",
          "jona nick brother get caus",
          "sugar good type insulin caus",
          "type get prevent two one",
          "insulin blood glucos sugar level",
          "risk type factor two develop",
          "cure type guess medicin help",
          "type caus two insulin resist",
          "eat patient drink good tattoo",
          "insulin use bacteria produc glucos",
          "blood normal sugar level glucos",
          "gestat caus type two chanc",
          "diet cure menu treatment prevent",
          "insulin treatment reduc aggreg inactiv",
          "insulin shock taken oral bodi",
          "recip find good dessert cake",
          "insulin shock taken oral bodi",
          "jona nick brother get caus",
          "sugar blood good eat rais",
          "gestat caus type two chanc",
          "cure type guess medicin help",
          "recip find good dessert cake",
          "insulin blood glucos sugar level",
          "diet food good eat avoid",
          "cure type guess medicin help",
          "risk type factor two develop",
          "cure type guess medicin help",
          "symptom sign test urin children",
          "type get prevent two one",
          "blood normal sugar level glucos",
          "diet plan cure fruit effect",
          "blood sugar level a1c test",
          "blood normal sugar level glucos",
          "recip find good dessert cake",
          "find menu diet inform plan",
          "diet food good eat avoid",
          "diet plan good type two",
          "sugar good type insulin caus",
          "diet cure menu treatment prevent",
          "sugar blood good eat rais",
          "symptom type one common two",
          "blood normal sugar level glucos",
          "jona nick brother get caus",
          "jona nick brother get caus",
          "recip find good dessert cake",
          "sugar blood good eat rais",
          "sugar good type insulin caus",
          "diet plan good type two",
          "insulin blood glucos sugar level",
          "diet food good eat avoid",
          "sugar good type insulin caus",
          "type one cure two curabl",
          "insulin use bacteria produc glucos",
          "insulin shock taken oral bodi",
          "sugar good type insulin caus",
          "diet plan good type two",
          "type one cure two curabl",
          "blood normal sugar level glucos",
          "type one insulin mellitu resist",
          "earli symptom sign caus electrolyt",
          "recip find good dessert cake",
          "find menu diet inform plan",
          "blood sugar level a1c test",
          "sugar blood good eat rais",
          "insulin blood glucos sugar level",
          "recip find good dessert cake",
          "type mellitu one caus name",
          "jona nick brother get caus",
          "diet food good eat avoid",
          "symptom sign test urin children",
          "blood sugar low hundr eat",
          "type one insulin mellitu resist",
          "sugar good type insulin caus",
          "sugar blood good eat rais",
          "symptom type one common two",
          "jona nick brother get caus",
          "diet food good eat avoid",
          "symptom type one common two",
          "gestat caus type two chanc",
          "gestat caus type two chanc",
          "gestat caus type two chanc",
          "type one cure two curabl",
          "diet plan good type two",
          "recip find good dessert cake",
          "diet food good eat avoid",
          "symptom sign test urin children",
          "recip find good dessert cake",
          "type caus two insulin resist",
          "cure type guess medicin help",
          "jona nick brother get caus",
          "diet plan cure fruit effect",
          "sugar good type insulin caus",
          "insulin use bacteria produc glucos",
          "diet plan cure fruit effect",
          "insulin treatment reduc aggreg inactiv",
          "insulin treatment reduc aggreg inactiv",
          "insulin use bacteria produc glucos",
          "blood sugar level a1c test",
          "find menu diet inform plan",
          "insulin shock taken oral bodi",
          "sugar blood good eat rais",
          "jona nick brother get caus",
          "sugar blood good eat rais",
          "sugar blood good eat rais",
          "sugar blood good eat rais",
          "type caus two insulin resist",
          "prevent get type lose two",
          "symptom sign test urin children",
          "blood normal sugar level glucos",
          "eat patient drink good tattoo",
          "symptom type one common two",
          "type get prevent two one",
          "find menu diet inform plan",
          "find menu diet inform plan",
          "type get prevent two one",
          "type one insulin mellitu resist",
          "diet food good eat avoid",
          "blood normal sugar level glucos",
          "earli symptom sign caus electrolyt",
          "diet food good eat avoid",
          "diet cure menu treatment prevent",
          "eat patient drink good tattoo",
          "recip find good dessert cake",
          "insulin use bacteria produc glucos",
          "prevent get type lose two",
          "find menu diet inform plan",
          "diet cure menu treatment prevent",
          "sugar good type insulin caus",
          "sugar good type insulin caus",
          "earli symptom sign caus electrolyt",
          "blood normal sugar level glucos",
          "diet food good eat avoid",
          "type get prevent two one",
          "sugar good type insulin caus",
          "eat patient drink good tattoo",
          "insulin blood glucos sugar level",
          "sugar good type insulin caus",
          "gestat caus type two chanc",
          "diet cure menu treatment prevent",
          "type get prevent two one",
          "sugar eat test strip mani",
          "recip find good dessert cake",
          "earli symptom sign caus electrolyt",
          "jona nick brother get caus",
          "diet food good eat avoid",
          "blood sugar level a1c test",
          "diet food good eat avoid",
          "sugar good type insulin caus",
          "recip find good dessert cake",
          "type caus two insulin resist",
          "cure type guess medicin help",
          "blood sugar level a1c test",
          "insulin shock taken oral bodi",
          "insulin shock taken oral bodi",
          "blood sugar low hundr eat",
          "eat patient drink good tattoo",
          "sugar blood good eat rais",
          "sugar good type insulin caus",
          "type one insulin mellitu resist",
          "type mellitu one caus name",
          "insulin blood glucos sugar level",
          "symptom sign test urin children",
          "sugar blood good eat rais",
          "risk type factor two develop",
          "symptom type one common two",
          "prevent get type lose two",
          "insulin blood glucos sugar level",
          "recip find good dessert cake",
          "sugar good type insulin caus",
          "jona nick brother get caus",
          "blood sugar low hundr eat",
          "type mellitu one caus name",
          "find menu diet inform plan",
          "blood sugar level a1c test",
          "blood normal sugar level glucos",
          "symptom type one common two",
          "recip find good dessert cake",
          "blood normal sugar level glucos",
          "insulin shock taken oral bodi",
          "prevent get type lose two",
          "blood sugar level a1c test",
          "type mellitu one caus name",
          "insulin use bacteria produc glucos",
          "find menu diet inform plan",
          "blood normal sugar level glucos",
          "blood test sugar type level",
          "diet cure menu treatment prevent",
          "insulin treatment reduc aggreg inactiv",
          "diet plan good type two",
          "sugar blood good eat rais",
          "sugar good type insulin caus",
          "prevent get type lose two",
          "insulin shock taken oral bodi",
          "risk type factor two develop",
          "insulin blood glucos sugar level",
          "recip find good dessert cake",
          "blood sugar low hundr eat",
          "diet food good eat avoid",
          "prevent get type lose two",
          "diet food good eat avoid",
          "diet plan cure fruit effect",
          "blood normal sugar level glucos",
          "diet plan cure fruit effect",
          "diet plan cure fruit effect",
          "prevent get type lose two",
          "sugar blood good eat rais",
          "sugar blood good eat rais",
          "recip find good dessert cake",
          "type get prevent two one",
          "prevent get type lose two",
          "sugar good type insulin caus",
          "cure type guess medicin help",
          "blood sugar level a1c test",
          "sugar blood good eat rais",
          "blood test sugar type level",
          "symptom type one common two",
          "diet food good eat avoid",
          "type caus two insulin resist",
          "diet plan good type two",
          "blood normal sugar level glucos",
          "type mellitu one caus name",
          "find menu diet inform plan",
          "gestat caus type two chanc",
          "jona nick brother get caus",
          "blood normal sugar level glucos",
          "eat patient drink good tattoo",
          "type get prevent two one",
          "symptom type one common two",
          "prevent get type lose two",
          "blood test sugar type level",
          "risk type factor two develop",
          "blood normal sugar level glucos",
          "symptom sign test urin children",
          "insulin treatment reduc aggreg inactiv",
          "symptom type one common two",
          "recip find good dessert cake",
          "diet plan good type two",
          "blood normal sugar level glucos",
          "cure type guess medicin help",
          "recip find good dessert cake",
          "jona nick brother get caus",
          "blood normal sugar level glucos",
          "diet cure menu treatment prevent",
          "diet food good eat avoid",
          "jona nick brother get caus",
          "blood test sugar type level",
          "jona nick brother get caus",
          "sugar blood good eat rais",
          "insulin use bacteria produc glucos",
          "gestat caus type two chanc",
          "diet food good eat avoid",
          "blood normal sugar level glucos",
          "sugar blood good eat rais",
          "diet food good eat avoid",
          "diet plan good type two",
          "type caus two insulin resist",
          "recip find good dessert cake",
          "sugar good type insulin caus",
          "sugar blood good eat rais",
          "blood sugar low hundr eat",
          "find menu diet inform plan",
          "sugar good type insulin caus",
          "sugar eat test strip mani",
          "diet plan cure fruit effect",
          "type one cure two curabl",
          "diet food good eat avoid",
          "sugar eat test strip mani",
          "diet plan good type two",
          "insulin blood glucos sugar level",
          "recip find good dessert cake",
          "insulin use bacteria produc glucos",
          "sugar eat test strip mani",
          "recip find good dessert cake",
          "sugar good type insulin caus",
          "diet plan cure fruit effect",
          "blood test sugar type level",
          "recip find good dessert cake",
          "sugar blood good eat rais",
          "recip find good dessert cake",
          "find menu diet inform plan",
          "risk type factor two develop",
          "sugar good type insulin caus",
          "risk type factor two develop",
          "insulin shock taken oral bodi",
          "gestat caus type two chanc",
          "symptom type one common two",
          "insulin shock taken oral bodi",
          "blood normal sugar level glucos",
          "symptom sign test urin children",
          "type one insulin mellitu resist",
          "insulin treatment reduc aggreg inactiv",
          "blood test sugar type level",
          "gestat caus type two chanc",
          "sugar eat test strip mani",
          "insulin treatment reduc aggreg inactiv",
          "insulin blood glucos sugar level",
          "diet cure menu treatment prevent",
          "blood normal sugar level glucos",
          "sugar good type insulin caus",
          "sugar eat test strip mani",
          "gestat caus type two chanc",
          "blood normal sugar level glucos",
          "diet food good eat avoid",
          "blood sugar level a1c test",
          "blood sugar low hundr eat",
          "sugar blood good eat rais",
          "sugar good type insulin caus",
          "symptom type one common two",
          "blood sugar low hundr eat",
          "blood sugar level a1c test",
          "blood normal sugar level glucos",
          "sugar blood good eat rais",
          "sugar blood good eat rais",
          "diet plan cure fruit effect",
          "insulin treatment reduc aggreg inactiv",
          "insulin blood glucos sugar level",
          "diet plan cure fruit effect",
          "sugar good type insulin caus",
          "insulin treatment reduc aggreg inactiv",
          "recip find good dessert cake",
          "sugar eat test strip mani",
          "type caus two insulin resist",
          "insulin use bacteria produc glucos",
          "jona nick brother get caus",
          "blood sugar level a1c test",
          "blood normal sugar level glucos",
          "type caus two insulin resist",
          "type caus two insulin resist",
          "diet cure menu treatment prevent",
          "blood normal sugar level glucos",
          "diet cure menu treatment prevent",
          "diet plan good type two",
          "type get prevent two one",
          "type caus two insulin resist",
          "blood sugar level a1c test",
          "sugar blood good eat rais",
          "sugar eat test strip mani",
          "gestat caus type two chanc",
          "type caus two insulin resist",
          "eat patient drink good tattoo",
          "sugar good type insulin caus",
          "insulin treatment reduc aggreg inactiv",
          "risk type factor two develop",
          "recip find good dessert cake",
          "cure type guess medicin help",
          "diet cure menu treatment prevent",
          "earli symptom sign caus electrolyt",
          "blood sugar level a1c test",
          "cure type guess medicin help",
          "sugar good type insulin caus",
          "recip find good dessert cake",
          "sugar blood good eat rais",
          "insulin blood glucos sugar level",
          "gestat caus type two chanc",
          "type caus two insulin resist",
          "recip find good dessert cake",
          "blood test sugar type level",
          "insulin shock taken oral bodi",
          "type get prevent two one",
          "type one insulin mellitu resist",
          "type one cure two curabl",
          "diet plan good type two",
          "symptom type one common two",
          "diet food good eat avoid",
          "blood test sugar type level"
         ],
         "xaxis": "x",
         "yaxis": "y"
        }
       ],
       "layout": {
        "barmode": "relative",
        "legend": {
         "tracegroupgap": 0
        },
        "margin": {
         "t": 60
        },
        "template": {
         "data": {
          "bar": [
           {
            "error_x": {
             "color": "#2a3f5f"
            },
            "error_y": {
             "color": "#2a3f5f"
            },
            "marker": {
             "line": {
              "color": "#E5ECF6",
              "width": 0.5
             }
            },
            "type": "bar"
           }
          ],
          "barpolar": [
           {
            "marker": {
             "line": {
              "color": "#E5ECF6",
              "width": 0.5
             }
            },
            "type": "barpolar"
           }
          ],
          "carpet": [
           {
            "aaxis": {
             "endlinecolor": "#2a3f5f",
             "gridcolor": "white",
             "linecolor": "white",
             "minorgridcolor": "white",
             "startlinecolor": "#2a3f5f"
            },
            "baxis": {
             "endlinecolor": "#2a3f5f",
             "gridcolor": "white",
             "linecolor": "white",
             "minorgridcolor": "white",
             "startlinecolor": "#2a3f5f"
            },
            "type": "carpet"
           }
          ],
          "choropleth": [
           {
            "colorbar": {
             "outlinewidth": 0,
             "ticks": ""
            },
            "type": "choropleth"
           }
          ],
          "contour": [
           {
            "colorbar": {
             "outlinewidth": 0,
             "ticks": ""
            },
            "colorscale": [
             [
              0,
              "#0d0887"
             ],
             [
              0.1111111111111111,
              "#46039f"
             ],
             [
              0.2222222222222222,
              "#7201a8"
             ],
             [
              0.3333333333333333,
              "#9c179e"
             ],
             [
              0.4444444444444444,
              "#bd3786"
             ],
             [
              0.5555555555555556,
              "#d8576b"
             ],
             [
              0.6666666666666666,
              "#ed7953"
             ],
             [
              0.7777777777777778,
              "#fb9f3a"
             ],
             [
              0.8888888888888888,
              "#fdca26"
             ],
             [
              1,
              "#f0f921"
             ]
            ],
            "type": "contour"
           }
          ],
          "contourcarpet": [
           {
            "colorbar": {
             "outlinewidth": 0,
             "ticks": ""
            },
            "type": "contourcarpet"
           }
          ],
          "heatmap": [
           {
            "colorbar": {
             "outlinewidth": 0,
             "ticks": ""
            },
            "colorscale": [
             [
              0,
              "#0d0887"
             ],
             [
              0.1111111111111111,
              "#46039f"
             ],
             [
              0.2222222222222222,
              "#7201a8"
             ],
             [
              0.3333333333333333,
              "#9c179e"
             ],
             [
              0.4444444444444444,
              "#bd3786"
             ],
             [
              0.5555555555555556,
              "#d8576b"
             ],
             [
              0.6666666666666666,
              "#ed7953"
             ],
             [
              0.7777777777777778,
              "#fb9f3a"
             ],
             [
              0.8888888888888888,
              "#fdca26"
             ],
             [
              1,
              "#f0f921"
             ]
            ],
            "type": "heatmap"
           }
          ],
          "heatmapgl": [
           {
            "colorbar": {
             "outlinewidth": 0,
             "ticks": ""
            },
            "colorscale": [
             [
              0,
              "#0d0887"
             ],
             [
              0.1111111111111111,
              "#46039f"
             ],
             [
              0.2222222222222222,
              "#7201a8"
             ],
             [
              0.3333333333333333,
              "#9c179e"
             ],
             [
              0.4444444444444444,
              "#bd3786"
             ],
             [
              0.5555555555555556,
              "#d8576b"
             ],
             [
              0.6666666666666666,
              "#ed7953"
             ],
             [
              0.7777777777777778,
              "#fb9f3a"
             ],
             [
              0.8888888888888888,
              "#fdca26"
             ],
             [
              1,
              "#f0f921"
             ]
            ],
            "type": "heatmapgl"
           }
          ],
          "histogram": [
           {
            "marker": {
             "colorbar": {
              "outlinewidth": 0,
              "ticks": ""
             }
            },
            "type": "histogram"
           }
          ],
          "histogram2d": [
           {
            "colorbar": {
             "outlinewidth": 0,
             "ticks": ""
            },
            "colorscale": [
             [
              0,
              "#0d0887"
             ],
             [
              0.1111111111111111,
              "#46039f"
             ],
             [
              0.2222222222222222,
              "#7201a8"
             ],
             [
              0.3333333333333333,
              "#9c179e"
             ],
             [
              0.4444444444444444,
              "#bd3786"
             ],
             [
              0.5555555555555556,
              "#d8576b"
             ],
             [
              0.6666666666666666,
              "#ed7953"
             ],
             [
              0.7777777777777778,
              "#fb9f3a"
             ],
             [
              0.8888888888888888,
              "#fdca26"
             ],
             [
              1,
              "#f0f921"
             ]
            ],
            "type": "histogram2d"
           }
          ],
          "histogram2dcontour": [
           {
            "colorbar": {
             "outlinewidth": 0,
             "ticks": ""
            },
            "colorscale": [
             [
              0,
              "#0d0887"
             ],
             [
              0.1111111111111111,
              "#46039f"
             ],
             [
              0.2222222222222222,
              "#7201a8"
             ],
             [
              0.3333333333333333,
              "#9c179e"
             ],
             [
              0.4444444444444444,
              "#bd3786"
             ],
             [
              0.5555555555555556,
              "#d8576b"
             ],
             [
              0.6666666666666666,
              "#ed7953"
             ],
             [
              0.7777777777777778,
              "#fb9f3a"
             ],
             [
              0.8888888888888888,
              "#fdca26"
             ],
             [
              1,
              "#f0f921"
             ]
            ],
            "type": "histogram2dcontour"
           }
          ],
          "mesh3d": [
           {
            "colorbar": {
             "outlinewidth": 0,
             "ticks": ""
            },
            "type": "mesh3d"
           }
          ],
          "parcoords": [
           {
            "line": {
             "colorbar": {
              "outlinewidth": 0,
              "ticks": ""
             }
            },
            "type": "parcoords"
           }
          ],
          "pie": [
           {
            "automargin": true,
            "type": "pie"
           }
          ],
          "scatter": [
           {
            "marker": {
             "colorbar": {
              "outlinewidth": 0,
              "ticks": ""
             }
            },
            "type": "scatter"
           }
          ],
          "scatter3d": [
           {
            "line": {
             "colorbar": {
              "outlinewidth": 0,
              "ticks": ""
             }
            },
            "marker": {
             "colorbar": {
              "outlinewidth": 0,
              "ticks": ""
             }
            },
            "type": "scatter3d"
           }
          ],
          "scattercarpet": [
           {
            "marker": {
             "colorbar": {
              "outlinewidth": 0,
              "ticks": ""
             }
            },
            "type": "scattercarpet"
           }
          ],
          "scattergeo": [
           {
            "marker": {
             "colorbar": {
              "outlinewidth": 0,
              "ticks": ""
             }
            },
            "type": "scattergeo"
           }
          ],
          "scattergl": [
           {
            "marker": {
             "colorbar": {
              "outlinewidth": 0,
              "ticks": ""
             }
            },
            "type": "scattergl"
           }
          ],
          "scattermapbox": [
           {
            "marker": {
             "colorbar": {
              "outlinewidth": 0,
              "ticks": ""
             }
            },
            "type": "scattermapbox"
           }
          ],
          "scatterpolar": [
           {
            "marker": {
             "colorbar": {
              "outlinewidth": 0,
              "ticks": ""
             }
            },
            "type": "scatterpolar"
           }
          ],
          "scatterpolargl": [
           {
            "marker": {
             "colorbar": {
              "outlinewidth": 0,
              "ticks": ""
             }
            },
            "type": "scatterpolargl"
           }
          ],
          "scatterternary": [
           {
            "marker": {
             "colorbar": {
              "outlinewidth": 0,
              "ticks": ""
             }
            },
            "type": "scatterternary"
           }
          ],
          "surface": [
           {
            "colorbar": {
             "outlinewidth": 0,
             "ticks": ""
            },
            "colorscale": [
             [
              0,
              "#0d0887"
             ],
             [
              0.1111111111111111,
              "#46039f"
             ],
             [
              0.2222222222222222,
              "#7201a8"
             ],
             [
              0.3333333333333333,
              "#9c179e"
             ],
             [
              0.4444444444444444,
              "#bd3786"
             ],
             [
              0.5555555555555556,
              "#d8576b"
             ],
             [
              0.6666666666666666,
              "#ed7953"
             ],
             [
              0.7777777777777778,
              "#fb9f3a"
             ],
             [
              0.8888888888888888,
              "#fdca26"
             ],
             [
              1,
              "#f0f921"
             ]
            ],
            "type": "surface"
           }
          ],
          "table": [
           {
            "cells": {
             "fill": {
              "color": "#EBF0F8"
             },
             "line": {
              "color": "white"
             }
            },
            "header": {
             "fill": {
              "color": "#C8D4E3"
             },
             "line": {
              "color": "white"
             }
            },
            "type": "table"
           }
          ]
         },
         "layout": {
          "annotationdefaults": {
           "arrowcolor": "#2a3f5f",
           "arrowhead": 0,
           "arrowwidth": 1
          },
          "autotypenumbers": "strict",
          "coloraxis": {
           "colorbar": {
            "outlinewidth": 0,
            "ticks": ""
           }
          },
          "colorscale": {
           "diverging": [
            [
             0,
             "#8e0152"
            ],
            [
             0.1,
             "#c51b7d"
            ],
            [
             0.2,
             "#de77ae"
            ],
            [
             0.3,
             "#f1b6da"
            ],
            [
             0.4,
             "#fde0ef"
            ],
            [
             0.5,
             "#f7f7f7"
            ],
            [
             0.6,
             "#e6f5d0"
            ],
            [
             0.7,
             "#b8e186"
            ],
            [
             0.8,
             "#7fbc41"
            ],
            [
             0.9,
             "#4d9221"
            ],
            [
             1,
             "#276419"
            ]
           ],
           "sequential": [
            [
             0,
             "#0d0887"
            ],
            [
             0.1111111111111111,
             "#46039f"
            ],
            [
             0.2222222222222222,
             "#7201a8"
            ],
            [
             0.3333333333333333,
             "#9c179e"
            ],
            [
             0.4444444444444444,
             "#bd3786"
            ],
            [
             0.5555555555555556,
             "#d8576b"
            ],
            [
             0.6666666666666666,
             "#ed7953"
            ],
            [
             0.7777777777777778,
             "#fb9f3a"
            ],
            [
             0.8888888888888888,
             "#fdca26"
            ],
            [
             1,
             "#f0f921"
            ]
           ],
           "sequentialminus": [
            [
             0,
             "#0d0887"
            ],
            [
             0.1111111111111111,
             "#46039f"
            ],
            [
             0.2222222222222222,
             "#7201a8"
            ],
            [
             0.3333333333333333,
             "#9c179e"
            ],
            [
             0.4444444444444444,
             "#bd3786"
            ],
            [
             0.5555555555555556,
             "#d8576b"
            ],
            [
             0.6666666666666666,
             "#ed7953"
            ],
            [
             0.7777777777777778,
             "#fb9f3a"
            ],
            [
             0.8888888888888888,
             "#fdca26"
            ],
            [
             1,
             "#f0f921"
            ]
           ]
          },
          "colorway": [
           "#636efa",
           "#EF553B",
           "#00cc96",
           "#ab63fa",
           "#FFA15A",
           "#19d3f3",
           "#FF6692",
           "#B6E880",
           "#FF97FF",
           "#FECB52"
          ],
          "font": {
           "color": "#2a3f5f"
          },
          "geo": {
           "bgcolor": "white",
           "lakecolor": "white",
           "landcolor": "#E5ECF6",
           "showlakes": true,
           "showland": true,
           "subunitcolor": "white"
          },
          "hoverlabel": {
           "align": "left"
          },
          "hovermode": "closest",
          "mapbox": {
           "style": "light"
          },
          "paper_bgcolor": "white",
          "plot_bgcolor": "#E5ECF6",
          "polar": {
           "angularaxis": {
            "gridcolor": "white",
            "linecolor": "white",
            "ticks": ""
           },
           "bgcolor": "#E5ECF6",
           "radialaxis": {
            "gridcolor": "white",
            "linecolor": "white",
            "ticks": ""
           }
          },
          "scene": {
           "xaxis": {
            "backgroundcolor": "#E5ECF6",
            "gridcolor": "white",
            "gridwidth": 2,
            "linecolor": "white",
            "showbackground": true,
            "ticks": "",
            "zerolinecolor": "white"
           },
           "yaxis": {
            "backgroundcolor": "#E5ECF6",
            "gridcolor": "white",
            "gridwidth": 2,
            "linecolor": "white",
            "showbackground": true,
            "ticks": "",
            "zerolinecolor": "white"
           },
           "zaxis": {
            "backgroundcolor": "#E5ECF6",
            "gridcolor": "white",
            "gridwidth": 2,
            "linecolor": "white",
            "showbackground": true,
            "ticks": "",
            "zerolinecolor": "white"
           }
          },
          "shapedefaults": {
           "line": {
            "color": "#2a3f5f"
           }
          },
          "ternary": {
           "aaxis": {
            "gridcolor": "white",
            "linecolor": "white",
            "ticks": ""
           },
           "baxis": {
            "gridcolor": "white",
            "linecolor": "white",
            "ticks": ""
           },
           "bgcolor": "#E5ECF6",
           "caxis": {
            "gridcolor": "white",
            "linecolor": "white",
            "ticks": ""
           }
          },
          "title": {
           "x": 0.05
          },
          "xaxis": {
           "automargin": true,
           "gridcolor": "white",
           "linecolor": "white",
           "ticks": "",
           "title": {
            "standoff": 15
           },
           "zerolinecolor": "white",
           "zerolinewidth": 2
          },
          "yaxis": {
           "automargin": true,
           "gridcolor": "white",
           "linecolor": "white",
           "ticks": "",
           "title": {
            "standoff": 15
           },
           "zerolinecolor": "white",
           "zerolinewidth": 2
          }
         }
        },
        "title": {
         "text": "Non-Outlier Cluster Label Distribution (16.7% Retained)"
        },
        "xaxis": {
         "anchor": "y",
         "domain": [
          0,
          1
         ],
         "showticklabels": false,
         "title": {
          "text": "Clusters"
         }
        },
        "yaxis": {
         "anchor": "x",
         "domain": [
          0,
          1
         ],
         "title": {
          "text": "Percent"
         }
        }
       }
      },
      "text/html": [
       "<div>                            <div id=\"24d19ff9-43b8-449d-9d90-230be49bbf8c\" class=\"plotly-graph-div\" style=\"height:525px; width:100%;\"></div>            <script type=\"text/javascript\">                require([\"plotly\"], function(Plotly) {                    window.PLOTLYENV=window.PLOTLYENV || {};                                    if (document.getElementById(\"24d19ff9-43b8-449d-9d90-230be49bbf8c\")) {                    Plotly.newPlot(                        \"24d19ff9-43b8-449d-9d90-230be49bbf8c\",                        [{\"alignmentgroup\": \"True\", \"bingroup\": \"x\", \"histnorm\": \"percent\", \"hovertemplate\": \"summary=%{x}<br>count=%{y}<extra></extra>\", \"legendgroup\": \"\", \"marker\": {\"color\": \"#636efa\"}, \"name\": \"\", \"nbinsx\": 32, \"offsetgroup\": \"\", \"orientation\": \"v\", \"showlegend\": false, \"type\": \"histogram\", \"x\": [\"blood normal sugar level glucos\", \"blood normal sugar level glucos\", \"blood sugar level a1c test\", \"type get prevent two one\", \"insulin use bacteria produc glucos\", \"blood normal sugar level glucos\", \"type get prevent two one\", \"find menu diet inform plan\", \"cure type guess medicin help\", \"insulin use bacteria produc glucos\", \"blood sugar level a1c test\", \"recip find good dessert cake\", \"insulin blood glucos sugar level\", \"type get prevent two one\", \"sugar eat test strip mani\", \"diet food good eat avoid\", \"type mellitu one caus name\", \"insulin shock taken oral bodi\", \"insulin blood glucos sugar level\", \"blood sugar level a1c test\", \"symptom type one common two\", \"diet food good eat avoid\", \"diet food good eat avoid\", \"jona nick brother get caus\", \"recip find good dessert cake\", \"risk type factor two develop\", \"type caus two insulin resist\", \"type one cure two curabl\", \"blood test sugar type level\", \"blood sugar low hundr eat\", \"blood normal sugar level glucos\", \"type get prevent two one\", \"type one cure two curabl\", \"jona nick brother get caus\", \"gestat caus type two chanc\", \"earli symptom sign caus electrolyt\", \"symptom type one common two\", \"eat patient drink good tattoo\", \"type get prevent two one\", \"prevent get type lose two\", \"type get prevent two one\", \"sugar good type insulin caus\", \"recip find good dessert cake\", \"blood normal sugar level glucos\", \"insulin treatment reduc aggreg inactiv\", \"recip find good dessert cake\", \"diet plan cure fruit effect\", \"sugar good type insulin caus\", \"symptom sign test urin children\", \"type get prevent two one\", \"type caus two insulin resist\", \"insulin use bacteria produc glucos\", \"blood normal sugar level glucos\", \"diet cure menu treatment prevent\", \"type mellitu one caus name\", \"insulin shock taken oral bodi\", \"type caus two insulin resist\", \"earli symptom sign caus electrolyt\", \"sugar good type insulin caus\", \"type get prevent two one\", \"blood normal sugar level glucos\", \"risk type factor two develop\", \"diet plan cure fruit effect\", \"sugar good type insulin caus\", \"type one insulin mellitu resist\", \"symptom sign test urin children\", \"recip find good dessert cake\", \"cure type guess medicin help\", \"cure type guess medicin help\", \"gestat caus type two chanc\", \"blood sugar level a1c test\", \"gestat caus type two chanc\", \"type get prevent two one\", \"insulin shock taken oral bodi\", \"diet food good eat avoid\", \"blood test sugar type level\", \"diet food good eat avoid\", \"sugar good type insulin caus\", \"blood sugar low hundr eat\", \"cure type guess medicin help\", \"recip find good dessert cake\", \"recip find good dessert cake\", \"type one cure two curabl\", \"recip find good dessert cake\", \"sugar eat test strip mani\", \"diet food good eat avoid\", \"jona nick brother get caus\", \"sugar good type insulin caus\", \"recip find good dessert cake\", \"blood normal sugar level glucos\", \"diet cure menu treatment prevent\", \"symptom type one common two\", \"symptom type one common two\", \"type one insulin mellitu resist\", \"earli symptom sign caus electrolyt\", \"gestat caus type two chanc\", \"recip find good dessert cake\", \"prevent get type lose two\", \"blood sugar level a1c test\", \"type get prevent two one\", \"sugar good type insulin caus\", \"sugar blood good eat rais\", \"prevent get type lose two\", \"recip find good dessert cake\", \"find menu diet inform plan\", \"diet food good eat avoid\", \"sugar blood good eat rais\", \"recip find good dessert cake\", \"blood normal sugar level glucos\", \"recip find good dessert cake\", \"sugar eat test strip mani\", \"jona nick brother get caus\", \"recip find good dessert cake\", \"insulin use bacteria produc glucos\", \"symptom type one common two\", \"earli symptom sign caus electrolyt\", \"diet cure menu treatment prevent\", \"jona nick brother get caus\", \"blood normal sugar level glucos\", \"sugar blood good eat rais\", \"insulin blood glucos sugar level\", \"diet food good eat avoid\", \"blood sugar level a1c test\", \"cure type guess medicin help\", \"diet food good eat avoid\", \"blood sugar low hundr eat\", \"recip find good dessert cake\", \"symptom sign test urin children\", \"risk type factor two develop\", \"type one cure two curabl\", \"blood sugar low hundr eat\", \"insulin blood glucos sugar level\", \"sugar good type insulin caus\", \"insulin blood glucos sugar level\", \"diet plan cure fruit effect\", \"cure type guess medicin help\", \"insulin shock taken oral bodi\", \"blood sugar low hundr eat\", \"type get prevent two one\", \"recip find good dessert cake\", \"risk type factor two develop\", \"insulin shock taken oral bodi\", \"insulin shock taken oral bodi\", \"blood sugar level a1c test\", \"blood sugar low hundr eat\", \"blood normal sugar level glucos\", \"blood sugar level a1c test\", \"diet food good eat avoid\", \"insulin shock taken oral bodi\", \"symptom type one common two\", \"blood normal sugar level glucos\", \"sugar blood good eat rais\", \"blood normal sugar level glucos\", \"recip find good dessert cake\", \"gestat caus type two chanc\", \"blood sugar level a1c test\", \"blood normal sugar level glucos\", \"blood sugar level a1c test\", \"blood normal sugar level glucos\", \"symptom type one common two\", \"jona nick brother get caus\", \"symptom sign test urin children\", \"recip find good dessert cake\", \"symptom sign test urin children\", \"diet plan good type two\", \"type mellitu one caus name\", \"diet food good eat avoid\", \"type one insulin mellitu resist\", \"recip find good dessert cake\", \"type get prevent two one\", \"type mellitu one caus name\", \"sugar eat test strip mani\", \"earli symptom sign caus electrolyt\", \"type caus two insulin resist\", \"sugar blood good eat rais\", \"sugar good type insulin caus\", \"blood normal sugar level glucos\", \"type caus two insulin resist\", \"type one cure two curabl\", \"blood sugar level a1c test\", \"diet plan good type two\", \"diet plan good type two\", \"insulin blood glucos sugar level\", \"jona nick brother get caus\", \"blood normal sugar level glucos\", \"recip find good dessert cake\", \"type one cure two curabl\", \"recip find good dessert cake\", \"gestat caus type two chanc\", \"insulin treatment reduc aggreg inactiv\", \"diet food good eat avoid\", \"insulin use bacteria produc glucos\", \"sugar good type insulin caus\", \"risk type factor two develop\", \"sugar blood good eat rais\", \"sugar blood good eat rais\", \"insulin treatment reduc aggreg inactiv\", \"sugar good type insulin caus\", \"type caus two insulin resist\", \"earli symptom sign caus electrolyt\", \"recip find good dessert cake\", \"insulin treatment reduc aggreg inactiv\", \"gestat caus type two chanc\", \"insulin treatment reduc aggreg inactiv\", \"recip find good dessert cake\", \"type one insulin mellitu resist\", \"find menu diet inform plan\", \"gestat caus type two chanc\", \"recip find good dessert cake\", \"recip find good dessert cake\", \"diet food good eat avoid\", \"jona nick brother get caus\", \"type get prevent two one\", \"risk type factor two develop\", \"sugar blood good eat rais\", \"diet food good eat avoid\", \"prevent get type lose two\", \"sugar eat test strip mani\", \"diet plan good type two\", \"type mellitu one caus name\", \"sugar blood good eat rais\", \"type get prevent two one\", \"diet cure menu treatment prevent\", \"gestat caus type two chanc\", \"insulin use bacteria produc glucos\", \"gestat caus type two chanc\", \"type mellitu one caus name\", \"symptom sign test urin children\", \"insulin treatment reduc aggreg inactiv\", \"symptom type one common two\", \"gestat caus type two chanc\", \"prevent get type lose two\", \"symptom type one common two\", \"type caus two insulin resist\", \"risk type factor two develop\", \"symptom type one common two\", \"diet cure menu treatment prevent\", \"eat patient drink good tattoo\", \"recip find good dessert cake\", \"insulin use bacteria produc glucos\", \"insulin treatment reduc aggreg inactiv\", \"sugar blood good eat rais\", \"recip find good dessert cake\", \"earli symptom sign caus electrolyt\", \"diet plan good type two\", \"jona nick brother get caus\", \"blood normal sugar level glucos\", \"type mellitu one caus name\", \"blood normal sugar level glucos\", \"diet food good eat avoid\", \"sugar eat test strip mani\", \"symptom type one common two\", \"jona nick brother get caus\", \"recip find good dessert cake\", \"jona nick brother get caus\", \"jona nick brother get caus\", \"gestat caus type two chanc\", \"insulin blood glucos sugar level\", \"sugar good type insulin caus\", \"symptom type one common two\", \"recip find good dessert cake\", \"blood sugar level a1c test\", \"blood sugar low hundr eat\", \"recip find good dessert cake\", \"type one cure two curabl\", \"diet food good eat avoid\", \"recip find good dessert cake\", \"eat patient drink good tattoo\", \"insulin treatment reduc aggreg inactiv\", \"eat patient drink good tattoo\", \"blood normal sugar level glucos\", \"earli symptom sign caus electrolyt\", \"jona nick brother get caus\", \"type one insulin mellitu resist\", \"diet food good eat avoid\", \"prevent get type lose two\", \"sugar good type insulin caus\", \"insulin use bacteria produc glucos\", \"sugar good type insulin caus\", \"recip find good dessert cake\", \"cure type guess medicin help\", \"diet plan cure fruit effect\", \"diet food good eat avoid\", \"diet plan good type two\", \"jona nick brother get caus\", \"type one insulin mellitu resist\", \"eat patient drink good tattoo\", \"earli symptom sign caus electrolyt\", \"diet food good eat avoid\", \"blood sugar low hundr eat\", \"blood sugar low hundr eat\", \"find menu diet inform plan\", \"blood sugar level a1c test\", \"recip find good dessert cake\", \"blood normal sugar level glucos\", \"sugar blood good eat rais\", \"diet food good eat avoid\", \"insulin use bacteria produc glucos\", \"insulin treatment reduc aggreg inactiv\", \"recip find good dessert cake\", \"type caus two insulin resist\", \"diet food good eat avoid\", \"type one cure two curabl\", \"sugar good type insulin caus\", \"insulin shock taken oral bodi\", \"diet food good eat avoid\", \"blood sugar level a1c test\", \"cure type guess medicin help\", \"insulin blood glucos sugar level\", \"blood normal sugar level glucos\", \"blood sugar low hundr eat\", \"symptom type one common two\", \"blood normal sugar level glucos\", \"symptom type one common two\", \"type one insulin mellitu resist\", \"insulin treatment reduc aggreg inactiv\", \"sugar good type insulin caus\", \"symptom type one common two\", \"diet cure menu treatment prevent\", \"gestat caus type two chanc\", \"insulin blood glucos sugar level\", \"diet cure menu treatment prevent\", \"eat patient drink good tattoo\", \"cure type guess medicin help\", \"diet food good eat avoid\", \"blood normal sugar level glucos\", \"diet cure menu treatment prevent\", \"blood normal sugar level glucos\", \"gestat caus type two chanc\", \"type mellitu one caus name\", \"insulin blood glucos sugar level\", \"sugar blood good eat rais\", \"type one insulin mellitu resist\", \"diet plan good type two\", \"diet food good eat avoid\", \"type one cure two curabl\", \"diet food good eat avoid\", \"diet food good eat avoid\", \"diet cure menu treatment prevent\", \"blood normal sugar level glucos\", \"blood sugar level a1c test\", \"sugar blood good eat rais\", \"blood sugar low hundr eat\", \"sugar blood good eat rais\", \"sugar blood good eat rais\", \"earli symptom sign caus electrolyt\", \"insulin blood glucos sugar level\", \"blood test sugar type level\", \"symptom type one common two\", \"insulin shock taken oral bodi\", \"eat patient drink good tattoo\", \"blood sugar low hundr eat\", \"find menu diet inform plan\", \"earli symptom sign caus electrolyt\", \"blood normal sugar level glucos\", \"earli symptom sign caus electrolyt\", \"blood test sugar type level\", \"recip find good dessert cake\", \"insulin shock taken oral bodi\", \"sugar blood good eat rais\", \"sugar good type insulin caus\", \"cure type guess medicin help\", \"symptom sign test urin children\", \"gestat caus type two chanc\", \"find menu diet inform plan\", \"blood normal sugar level glucos\", \"symptom type one common two\", \"blood normal sugar level glucos\", \"recip find good dessert cake\", \"recip find good dessert cake\", \"diet plan good type two\", \"find menu diet inform plan\", \"recip find good dessert cake\", \"insulin use bacteria produc glucos\", \"prevent get type lose two\", \"sugar blood good eat rais\", \"recip find good dessert cake\", \"jona nick brother get caus\", \"blood normal sugar level glucos\", \"sugar blood good eat rais\", \"sugar good type insulin caus\", \"symptom type one common two\", \"jona nick brother get caus\", \"diet food good eat avoid\", \"risk type factor two develop\", \"symptom sign test urin children\", \"insulin shock taken oral bodi\", \"diet plan cure fruit effect\", \"symptom type one common two\", \"blood normal sugar level glucos\", \"symptom sign test urin children\", \"blood sugar level a1c test\", \"blood normal sugar level glucos\", \"diet food good eat avoid\", \"blood test sugar type level\", \"eat patient drink good tattoo\", \"blood test sugar type level\", \"sugar blood good eat rais\", \"diet cure menu treatment prevent\", \"recip find good dessert cake\", \"prevent get type lose two\", \"diet cure menu treatment prevent\", \"jona nick brother get caus\", \"diet food good eat avoid\", \"recip find good dessert cake\", \"sugar blood good eat rais\", \"cure type guess medicin help\", \"earli symptom sign caus electrolyt\", \"diet cure menu treatment prevent\", \"type one insulin mellitu resist\", \"diet plan good type two\", \"cure type guess medicin help\", \"insulin blood glucos sugar level\", \"sugar blood good eat rais\", \"blood test sugar type level\", \"type one insulin mellitu resist\", \"insulin treatment reduc aggreg inactiv\", \"insulin treatment reduc aggreg inactiv\", \"cure type guess medicin help\", \"recip find good dessert cake\", \"earli symptom sign caus electrolyt\", \"earli symptom sign caus electrolyt\", \"type one cure two curabl\", \"earli symptom sign caus electrolyt\", \"type get prevent two one\", \"gestat caus type two chanc\", \"symptom type one common two\", \"sugar blood good eat rais\", \"diet plan good type two\", \"diet plan good type two\", \"insulin use bacteria produc glucos\", \"symptom sign test urin children\", \"blood test sugar type level\", \"recip find good dessert cake\", \"blood test sugar type level\", \"eat patient drink good tattoo\", \"diet plan cure fruit effect\", \"cure type guess medicin help\", \"diet food good eat avoid\", \"blood sugar low hundr eat\", \"jona nick brother get caus\", \"type one insulin mellitu resist\", \"type one cure two curabl\", \"prevent get type lose two\", \"blood normal sugar level glucos\", \"cure type guess medicin help\", \"blood normal sugar level glucos\", \"blood test sugar type level\", \"find menu diet inform plan\", \"type caus two insulin resist\", \"insulin use bacteria produc glucos\", \"jona nick brother get caus\", \"sugar blood good eat rais\", \"risk type factor two develop\", \"insulin use bacteria produc glucos\", \"diet food good eat avoid\", \"cure type guess medicin help\", \"recip find good dessert cake\", \"blood normal sugar level glucos\", \"type mellitu one caus name\", \"type one insulin mellitu resist\", \"insulin blood glucos sugar level\", \"diet food good eat avoid\", \"sugar eat test strip mani\", \"earli symptom sign caus electrolyt\", \"blood normal sugar level glucos\", \"sugar blood good eat rais\", \"blood normal sugar level glucos\", \"recip find good dessert cake\", \"blood sugar level a1c test\", \"insulin blood glucos sugar level\", \"gestat caus type two chanc\", \"gestat caus type two chanc\", \"insulin shock taken oral bodi\", \"diet food good eat avoid\", \"diet food good eat avoid\", \"diet cure menu treatment prevent\", \"cure type guess medicin help\", \"symptom sign test urin children\", \"diet food good eat avoid\", \"type caus two insulin resist\", \"symptom type one common two\", \"sugar blood good eat rais\", \"symptom sign test urin children\", \"risk type factor two develop\", \"insulin blood glucos sugar level\", \"recip find good dessert cake\", \"sugar eat test strip mani\", \"recip find good dessert cake\", \"diet cure menu treatment prevent\", \"blood sugar level a1c test\", \"diet food good eat avoid\", \"sugar blood good eat rais\", \"sugar good type insulin caus\", \"gestat caus type two chanc\", \"insulin blood glucos sugar level\", \"sugar blood good eat rais\", \"eat patient drink good tattoo\", \"gestat caus type two chanc\", \"diet plan good type two\", \"sugar good type insulin caus\", \"diet plan good type two\", \"type one insulin mellitu resist\", \"symptom sign test urin children\", \"sugar blood good eat rais\", \"blood normal sugar level glucos\", \"recip find good dessert cake\", \"blood sugar level a1c test\", \"find menu diet inform plan\", \"find menu diet inform plan\", \"insulin shock taken oral bodi\", \"blood sugar level a1c test\", \"prevent get type lose two\", \"blood test sugar type level\", \"sugar blood good eat rais\", \"recip find good dessert cake\", \"blood sugar level a1c test\", \"diet food good eat avoid\", \"jona nick brother get caus\", \"sugar blood good eat rais\", \"gestat caus type two chanc\", \"diet food good eat avoid\", \"find menu diet inform plan\", \"blood sugar level a1c test\", \"prevent get type lose two\", \"diet food good eat avoid\", \"find menu diet inform plan\", \"sugar blood good eat rais\", \"type one cure two curabl\", \"blood sugar level a1c test\", \"sugar good type insulin caus\", \"sugar good type insulin caus\", \"sugar eat test strip mani\", \"sugar good type insulin caus\", \"type get prevent two one\", \"diet plan cure fruit effect\", \"insulin treatment reduc aggreg inactiv\", \"diet plan good type two\", \"sugar eat test strip mani\", \"diet food good eat avoid\", \"sugar eat test strip mani\", \"jona nick brother get caus\", \"risk type factor two develop\", \"eat patient drink good tattoo\", \"diet plan good type two\", \"jona nick brother get caus\", \"eat patient drink good tattoo\", \"sugar blood good eat rais\", \"diet plan cure fruit effect\", \"blood sugar level a1c test\", \"diet food good eat avoid\", \"recip find good dessert cake\", \"diet food good eat avoid\", \"type get prevent two one\", \"sugar eat test strip mani\", \"diet food good eat avoid\", \"diet plan cure fruit effect\", \"type get prevent two one\", \"diet food good eat avoid\", \"type one cure two curabl\", \"diet food good eat avoid\", \"eat patient drink good tattoo\", \"recip find good dessert cake\", \"blood test sugar type level\", \"diet food good eat avoid\", \"diet food good eat avoid\", \"diet food good eat avoid\", \"blood normal sugar level glucos\", \"symptom sign test urin children\", \"sugar eat test strip mani\", \"insulin shock taken oral bodi\", \"blood test sugar type level\", \"risk type factor two develop\", \"blood sugar level a1c test\", \"blood normal sugar level glucos\", \"cure type guess medicin help\", \"type one insulin mellitu resist\", \"sugar blood good eat rais\", \"cure type guess medicin help\", \"cure type guess medicin help\", \"insulin use bacteria produc glucos\", \"prevent get type lose two\", \"eat patient drink good tattoo\", \"prevent get type lose two\", \"recip find good dessert cake\", \"cure type guess medicin help\", \"eat patient drink good tattoo\", \"gestat caus type two chanc\", \"type mellitu one caus name\", \"diet plan good type two\", \"blood normal sugar level glucos\", \"gestat caus type two chanc\", \"type one cure two curabl\", \"insulin blood glucos sugar level\", \"insulin shock taken oral bodi\", \"symptom type one common two\", \"blood normal sugar level glucos\", \"diet plan good type two\", \"type get prevent two one\", \"earli symptom sign caus electrolyt\", \"blood sugar level a1c test\", \"sugar blood good eat rais\", \"diet cure menu treatment prevent\", \"type mellitu one caus name\", \"blood normal sugar level glucos\", \"recip find good dessert cake\", \"sugar eat test strip mani\", \"insulin shock taken oral bodi\", \"recip find good dessert cake\", \"gestat caus type two chanc\", \"recip find good dessert cake\", \"gestat caus type two chanc\", \"diet plan cure fruit effect\", \"type one cure two curabl\", \"insulin blood glucos sugar level\", \"recip find good dessert cake\", \"jona nick brother get caus\", \"blood sugar low hundr eat\", \"cure type guess medicin help\", \"sugar eat test strip mani\", \"find menu diet inform plan\", \"find menu diet inform plan\", \"insulin use bacteria produc glucos\", \"diet food good eat avoid\", \"insulin shock taken oral bodi\", \"prevent get type lose two\", \"diet plan cure fruit effect\", \"diet food good eat avoid\", \"prevent get type lose two\", \"blood test sugar type level\", \"type one insulin mellitu resist\", \"symptom sign test urin children\", \"risk type factor two develop\", \"blood sugar level a1c test\", \"recip find good dessert cake\", \"type mellitu one caus name\", \"type one insulin mellitu resist\", \"risk type factor two develop\", \"type caus two insulin resist\", \"diet plan cure fruit effect\", \"eat patient drink good tattoo\", \"recip find good dessert cake\", \"blood sugar low hundr eat\", \"type get prevent two one\", \"jona nick brother get caus\", \"symptom sign test urin children\", \"gestat caus type two chanc\", \"cure type guess medicin help\", \"type mellitu one caus name\", \"blood test sugar type level\", \"symptom type one common two\", \"insulin shock taken oral bodi\", \"blood sugar level a1c test\", \"jona nick brother get caus\", \"symptom sign test urin children\", \"symptom type one common two\", \"blood normal sugar level glucos\", \"symptom sign test urin children\", \"sugar good type insulin caus\", \"insulin blood glucos sugar level\", \"sugar blood good eat rais\", \"insulin shock taken oral bodi\", \"recip find good dessert cake\", \"sugar blood good eat rais\", \"diet cure menu treatment prevent\", \"prevent get type lose two\", \"sugar eat test strip mani\", \"insulin blood glucos sugar level\", \"blood sugar low hundr eat\", \"recip find good dessert cake\", \"eat patient drink good tattoo\", \"sugar blood good eat rais\", \"insulin shock taken oral bodi\", \"diet plan good type two\", \"sugar good type insulin caus\", \"insulin shock taken oral bodi\", \"cure type guess medicin help\", \"jona nick brother get caus\", \"diet cure menu treatment prevent\", \"gestat caus type two chanc\", \"type get prevent two one\", \"prevent get type lose two\", \"symptom type one common two\", \"sugar good type insulin caus\", \"diet food good eat avoid\", \"type one insulin mellitu resist\", \"prevent get type lose two\", \"sugar good type insulin caus\", \"diet food good eat avoid\", \"prevent get type lose two\", \"symptom type one common two\", \"sugar blood good eat rais\", \"type one cure two curabl\", \"blood test sugar type level\", \"insulin blood glucos sugar level\", \"earli symptom sign caus electrolyt\", \"jona nick brother get caus\", \"recip find good dessert cake\", \"diet food good eat avoid\", \"recip find good dessert cake\", \"insulin blood glucos sugar level\", \"recip find good dessert cake\", \"symptom type one common two\", \"prevent get type lose two\", \"blood normal sugar level glucos\", \"blood sugar level a1c test\", \"find menu diet inform plan\", \"diet cure menu treatment prevent\", \"blood sugar low hundr eat\", \"insulin blood glucos sugar level\", \"risk type factor two develop\", \"symptom type one common two\", \"diet food good eat avoid\", \"jona nick brother get caus\", \"blood sugar low hundr eat\", \"insulin shock taken oral bodi\", \"diet food good eat avoid\", \"gestat caus type two chanc\", \"type mellitu one caus name\", \"symptom type one common two\", \"blood normal sugar level glucos\", \"diet plan cure fruit effect\", \"diet plan good type two\", \"insulin treatment reduc aggreg inactiv\", \"recip find good dessert cake\", \"symptom type one common two\", \"insulin use bacteria produc glucos\", \"insulin treatment reduc aggreg inactiv\", \"symptom sign test urin children\", \"diet plan good type two\", \"blood normal sugar level glucos\", \"type get prevent two one\", \"blood normal sugar level glucos\", \"cure type guess medicin help\", \"jona nick brother get caus\", \"diet plan good type two\", \"diet plan good type two\", \"diet plan cure fruit effect\", \"eat patient drink good tattoo\", \"gestat caus type two chanc\", \"type get prevent two one\", \"recip find good dessert cake\", \"earli symptom sign caus electrolyt\", \"insulin blood glucos sugar level\", \"sugar blood good eat rais\", \"diet food good eat avoid\", \"sugar blood good eat rais\", \"sugar good type insulin caus\", \"type one cure two curabl\", \"sugar good type insulin caus\", \"symptom type one common two\", \"blood test sugar type level\", \"type get prevent two one\", \"symptom type one common two\", \"risk type factor two develop\", \"sugar blood good eat rais\", \"recip find good dessert cake\", \"sugar blood good eat rais\", \"sugar blood good eat rais\", \"symptom sign test urin children\", \"risk type factor two develop\", \"blood sugar level a1c test\", \"recip find good dessert cake\", \"prevent get type lose two\", \"insulin blood glucos sugar level\", \"symptom sign test urin children\", \"prevent get type lose two\", \"type get prevent two one\", \"blood normal sugar level glucos\", \"diet food good eat avoid\", \"jona nick brother get caus\", \"blood normal sugar level glucos\", \"diet plan good type two\", \"diet food good eat avoid\", \"recip find good dessert cake\", \"gestat caus type two chanc\", \"diet plan cure fruit effect\", \"diet plan good type two\", \"symptom type one common two\", \"sugar good type insulin caus\", \"blood normal sugar level glucos\", \"eat patient drink good tattoo\", \"symptom type one common two\", \"diet cure menu treatment prevent\", \"insulin shock taken oral bodi\", \"sugar good type insulin caus\", \"type one insulin mellitu resist\", \"type caus two insulin resist\", \"diet cure menu treatment prevent\", \"insulin treatment reduc aggreg inactiv\", \"sugar good type insulin caus\", \"recip find good dessert cake\", \"sugar good type insulin caus\", \"sugar eat test strip mani\", \"recip find good dessert cake\", \"type one insulin mellitu resist\", \"type caus two insulin resist\", \"sugar good type insulin caus\", \"sugar blood good eat rais\", \"recip find good dessert cake\", \"symptom type one common two\", \"diet plan cure fruit effect\", \"blood normal sugar level glucos\", \"find menu diet inform plan\", \"insulin shock taken oral bodi\", \"diet food good eat avoid\", \"jona nick brother get caus\", \"sugar good type insulin caus\", \"type get prevent two one\", \"insulin blood glucos sugar level\", \"risk type factor two develop\", \"cure type guess medicin help\", \"type caus two insulin resist\", \"eat patient drink good tattoo\", \"insulin use bacteria produc glucos\", \"blood normal sugar level glucos\", \"gestat caus type two chanc\", \"diet cure menu treatment prevent\", \"insulin treatment reduc aggreg inactiv\", \"insulin shock taken oral bodi\", \"recip find good dessert cake\", \"insulin shock taken oral bodi\", \"jona nick brother get caus\", \"sugar blood good eat rais\", \"gestat caus type two chanc\", \"cure type guess medicin help\", \"recip find good dessert cake\", \"insulin blood glucos sugar level\", \"diet food good eat avoid\", \"cure type guess medicin help\", \"risk type factor two develop\", \"cure type guess medicin help\", \"symptom sign test urin children\", \"type get prevent two one\", \"blood normal sugar level glucos\", \"diet plan cure fruit effect\", \"blood sugar level a1c test\", \"blood normal sugar level glucos\", \"recip find good dessert cake\", \"find menu diet inform plan\", \"diet food good eat avoid\", \"diet plan good type two\", \"sugar good type insulin caus\", \"diet cure menu treatment prevent\", \"sugar blood good eat rais\", \"symptom type one common two\", \"blood normal sugar level glucos\", \"jona nick brother get caus\", \"jona nick brother get caus\", \"recip find good dessert cake\", \"sugar blood good eat rais\", \"sugar good type insulin caus\", \"diet plan good type two\", \"insulin blood glucos sugar level\", \"diet food good eat avoid\", \"sugar good type insulin caus\", \"type one cure two curabl\", \"insulin use bacteria produc glucos\", \"insulin shock taken oral bodi\", \"sugar good type insulin caus\", \"diet plan good type two\", \"type one cure two curabl\", \"blood normal sugar level glucos\", \"type one insulin mellitu resist\", \"earli symptom sign caus electrolyt\", \"recip find good dessert cake\", \"find menu diet inform plan\", \"blood sugar level a1c test\", \"sugar blood good eat rais\", \"insulin blood glucos sugar level\", \"recip find good dessert cake\", \"type mellitu one caus name\", \"jona nick brother get caus\", \"diet food good eat avoid\", \"symptom sign test urin children\", \"blood sugar low hundr eat\", \"type one insulin mellitu resist\", \"sugar good type insulin caus\", \"sugar blood good eat rais\", \"symptom type one common two\", \"jona nick brother get caus\", \"diet food good eat avoid\", \"symptom type one common two\", \"gestat caus type two chanc\", \"gestat caus type two chanc\", \"gestat caus type two chanc\", \"type one cure two curabl\", \"diet plan good type two\", \"recip find good dessert cake\", \"diet food good eat avoid\", \"symptom sign test urin children\", \"recip find good dessert cake\", \"type caus two insulin resist\", \"cure type guess medicin help\", \"jona nick brother get caus\", \"diet plan cure fruit effect\", \"sugar good type insulin caus\", \"insulin use bacteria produc glucos\", \"diet plan cure fruit effect\", \"insulin treatment reduc aggreg inactiv\", \"insulin treatment reduc aggreg inactiv\", \"insulin use bacteria produc glucos\", \"blood sugar level a1c test\", \"find menu diet inform plan\", \"insulin shock taken oral bodi\", \"sugar blood good eat rais\", \"jona nick brother get caus\", \"sugar blood good eat rais\", \"sugar blood good eat rais\", \"sugar blood good eat rais\", \"type caus two insulin resist\", \"prevent get type lose two\", \"symptom sign test urin children\", \"blood normal sugar level glucos\", \"eat patient drink good tattoo\", \"symptom type one common two\", \"type get prevent two one\", \"find menu diet inform plan\", \"find menu diet inform plan\", \"type get prevent two one\", \"type one insulin mellitu resist\", \"diet food good eat avoid\", \"blood normal sugar level glucos\", \"earli symptom sign caus electrolyt\", \"diet food good eat avoid\", \"diet cure menu treatment prevent\", \"eat patient drink good tattoo\", \"recip find good dessert cake\", \"insulin use bacteria produc glucos\", \"prevent get type lose two\", \"find menu diet inform plan\", \"diet cure menu treatment prevent\", \"sugar good type insulin caus\", \"sugar good type insulin caus\", \"earli symptom sign caus electrolyt\", \"blood normal sugar level glucos\", \"diet food good eat avoid\", \"type get prevent two one\", \"sugar good type insulin caus\", \"eat patient drink good tattoo\", \"insulin blood glucos sugar level\", \"sugar good type insulin caus\", \"gestat caus type two chanc\", \"diet cure menu treatment prevent\", \"type get prevent two one\", \"sugar eat test strip mani\", \"recip find good dessert cake\", \"earli symptom sign caus electrolyt\", \"jona nick brother get caus\", \"diet food good eat avoid\", \"blood sugar level a1c test\", \"diet food good eat avoid\", \"sugar good type insulin caus\", \"recip find good dessert cake\", \"type caus two insulin resist\", \"cure type guess medicin help\", \"blood sugar level a1c test\", \"insulin shock taken oral bodi\", \"insulin shock taken oral bodi\", \"blood sugar low hundr eat\", \"eat patient drink good tattoo\", \"sugar blood good eat rais\", \"sugar good type insulin caus\", \"type one insulin mellitu resist\", \"type mellitu one caus name\", \"insulin blood glucos sugar level\", \"symptom sign test urin children\", \"sugar blood good eat rais\", \"risk type factor two develop\", \"symptom type one common two\", \"prevent get type lose two\", \"insulin blood glucos sugar level\", \"recip find good dessert cake\", \"sugar good type insulin caus\", \"jona nick brother get caus\", \"blood sugar low hundr eat\", \"type mellitu one caus name\", \"find menu diet inform plan\", \"blood sugar level a1c test\", \"blood normal sugar level glucos\", \"symptom type one common two\", \"recip find good dessert cake\", \"blood normal sugar level glucos\", \"insulin shock taken oral bodi\", \"prevent get type lose two\", \"blood sugar level a1c test\", \"type mellitu one caus name\", \"insulin use bacteria produc glucos\", \"find menu diet inform plan\", \"blood normal sugar level glucos\", \"blood test sugar type level\", \"diet cure menu treatment prevent\", \"insulin treatment reduc aggreg inactiv\", \"diet plan good type two\", \"sugar blood good eat rais\", \"sugar good type insulin caus\", \"prevent get type lose two\", \"insulin shock taken oral bodi\", \"risk type factor two develop\", \"insulin blood glucos sugar level\", \"recip find good dessert cake\", \"blood sugar low hundr eat\", \"diet food good eat avoid\", \"prevent get type lose two\", \"diet food good eat avoid\", \"diet plan cure fruit effect\", \"blood normal sugar level glucos\", \"diet plan cure fruit effect\", \"diet plan cure fruit effect\", \"prevent get type lose two\", \"sugar blood good eat rais\", \"sugar blood good eat rais\", \"recip find good dessert cake\", \"type get prevent two one\", \"prevent get type lose two\", \"sugar good type insulin caus\", \"cure type guess medicin help\", \"blood sugar level a1c test\", \"sugar blood good eat rais\", \"blood test sugar type level\", \"symptom type one common two\", \"diet food good eat avoid\", \"type caus two insulin resist\", \"diet plan good type two\", \"blood normal sugar level glucos\", \"type mellitu one caus name\", \"find menu diet inform plan\", \"gestat caus type two chanc\", \"jona nick brother get caus\", \"blood normal sugar level glucos\", \"eat patient drink good tattoo\", \"type get prevent two one\", \"symptom type one common two\", \"prevent get type lose two\", \"blood test sugar type level\", \"risk type factor two develop\", \"blood normal sugar level glucos\", \"symptom sign test urin children\", \"insulin treatment reduc aggreg inactiv\", \"symptom type one common two\", \"recip find good dessert cake\", \"diet plan good type two\", \"blood normal sugar level glucos\", \"cure type guess medicin help\", \"recip find good dessert cake\", \"jona nick brother get caus\", \"blood normal sugar level glucos\", \"diet cure menu treatment prevent\", \"diet food good eat avoid\", \"jona nick brother get caus\", \"blood test sugar type level\", \"jona nick brother get caus\", \"sugar blood good eat rais\", \"insulin use bacteria produc glucos\", \"gestat caus type two chanc\", \"diet food good eat avoid\", \"blood normal sugar level glucos\", \"sugar blood good eat rais\", \"diet food good eat avoid\", \"diet plan good type two\", \"type caus two insulin resist\", \"recip find good dessert cake\", \"sugar good type insulin caus\", \"sugar blood good eat rais\", \"blood sugar low hundr eat\", \"find menu diet inform plan\", \"sugar good type insulin caus\", \"sugar eat test strip mani\", \"diet plan cure fruit effect\", \"type one cure two curabl\", \"diet food good eat avoid\", \"sugar eat test strip mani\", \"diet plan good type two\", \"insulin blood glucos sugar level\", \"recip find good dessert cake\", \"insulin use bacteria produc glucos\", \"sugar eat test strip mani\", \"recip find good dessert cake\", \"sugar good type insulin caus\", \"diet plan cure fruit effect\", \"blood test sugar type level\", \"recip find good dessert cake\", \"sugar blood good eat rais\", \"recip find good dessert cake\", \"find menu diet inform plan\", \"risk type factor two develop\", \"sugar good type insulin caus\", \"risk type factor two develop\", \"insulin shock taken oral bodi\", \"gestat caus type two chanc\", \"symptom type one common two\", \"insulin shock taken oral bodi\", \"blood normal sugar level glucos\", \"symptom sign test urin children\", \"type one insulin mellitu resist\", \"insulin treatment reduc aggreg inactiv\", \"blood test sugar type level\", \"gestat caus type two chanc\", \"sugar eat test strip mani\", \"insulin treatment reduc aggreg inactiv\", \"insulin blood glucos sugar level\", \"diet cure menu treatment prevent\", \"blood normal sugar level glucos\", \"sugar good type insulin caus\", \"sugar eat test strip mani\", \"gestat caus type two chanc\", \"blood normal sugar level glucos\", \"diet food good eat avoid\", \"blood sugar level a1c test\", \"blood sugar low hundr eat\", \"sugar blood good eat rais\", \"sugar good type insulin caus\", \"symptom type one common two\", \"blood sugar low hundr eat\", \"blood sugar level a1c test\", \"blood normal sugar level glucos\", \"sugar blood good eat rais\", \"sugar blood good eat rais\", \"diet plan cure fruit effect\", \"insulin treatment reduc aggreg inactiv\", \"insulin blood glucos sugar level\", \"diet plan cure fruit effect\", \"sugar good type insulin caus\", \"insulin treatment reduc aggreg inactiv\", \"recip find good dessert cake\", \"sugar eat test strip mani\", \"type caus two insulin resist\", \"insulin use bacteria produc glucos\", \"jona nick brother get caus\", \"blood sugar level a1c test\", \"blood normal sugar level glucos\", \"type caus two insulin resist\", \"type caus two insulin resist\", \"diet cure menu treatment prevent\", \"blood normal sugar level glucos\", \"diet cure menu treatment prevent\", \"diet plan good type two\", \"type get prevent two one\", \"type caus two insulin resist\", \"blood sugar level a1c test\", \"sugar blood good eat rais\", \"sugar eat test strip mani\", \"gestat caus type two chanc\", \"type caus two insulin resist\", \"eat patient drink good tattoo\", \"sugar good type insulin caus\", \"insulin treatment reduc aggreg inactiv\", \"risk type factor two develop\", \"recip find good dessert cake\", \"cure type guess medicin help\", \"diet cure menu treatment prevent\", \"earli symptom sign caus electrolyt\", \"blood sugar level a1c test\", \"cure type guess medicin help\", \"sugar good type insulin caus\", \"recip find good dessert cake\", \"sugar blood good eat rais\", \"insulin blood glucos sugar level\", \"gestat caus type two chanc\", \"type caus two insulin resist\", \"recip find good dessert cake\", \"blood test sugar type level\", \"insulin shock taken oral bodi\", \"type get prevent two one\", \"type one insulin mellitu resist\", \"type one cure two curabl\", \"diet plan good type two\", \"symptom type one common two\", \"diet food good eat avoid\", \"blood test sugar type level\"], \"xaxis\": \"x\", \"yaxis\": \"y\"}],                        {\"barmode\": \"relative\", \"legend\": {\"tracegroupgap\": 0}, \"margin\": {\"t\": 60}, \"template\": {\"data\": {\"bar\": [{\"error_x\": {\"color\": \"#2a3f5f\"}, \"error_y\": {\"color\": \"#2a3f5f\"}, \"marker\": {\"line\": {\"color\": \"#E5ECF6\", \"width\": 0.5}}, \"type\": \"bar\"}], \"barpolar\": [{\"marker\": {\"line\": {\"color\": \"#E5ECF6\", \"width\": 0.5}}, \"type\": \"barpolar\"}], \"carpet\": [{\"aaxis\": {\"endlinecolor\": \"#2a3f5f\", \"gridcolor\": \"white\", \"linecolor\": \"white\", \"minorgridcolor\": \"white\", \"startlinecolor\": \"#2a3f5f\"}, \"baxis\": {\"endlinecolor\": \"#2a3f5f\", \"gridcolor\": \"white\", \"linecolor\": \"white\", \"minorgridcolor\": \"white\", \"startlinecolor\": \"#2a3f5f\"}, \"type\": \"carpet\"}], \"choropleth\": [{\"colorbar\": {\"outlinewidth\": 0, \"ticks\": \"\"}, \"type\": \"choropleth\"}], \"contour\": [{\"colorbar\": {\"outlinewidth\": 0, \"ticks\": \"\"}, \"colorscale\": [[0.0, \"#0d0887\"], [0.1111111111111111, \"#46039f\"], [0.2222222222222222, \"#7201a8\"], [0.3333333333333333, \"#9c179e\"], [0.4444444444444444, \"#bd3786\"], [0.5555555555555556, \"#d8576b\"], [0.6666666666666666, \"#ed7953\"], [0.7777777777777778, \"#fb9f3a\"], [0.8888888888888888, \"#fdca26\"], [1.0, \"#f0f921\"]], \"type\": \"contour\"}], \"contourcarpet\": [{\"colorbar\": {\"outlinewidth\": 0, \"ticks\": \"\"}, \"type\": \"contourcarpet\"}], \"heatmap\": [{\"colorbar\": {\"outlinewidth\": 0, \"ticks\": \"\"}, \"colorscale\": [[0.0, \"#0d0887\"], [0.1111111111111111, \"#46039f\"], [0.2222222222222222, \"#7201a8\"], [0.3333333333333333, \"#9c179e\"], [0.4444444444444444, \"#bd3786\"], [0.5555555555555556, \"#d8576b\"], [0.6666666666666666, \"#ed7953\"], [0.7777777777777778, \"#fb9f3a\"], [0.8888888888888888, \"#fdca26\"], [1.0, \"#f0f921\"]], \"type\": \"heatmap\"}], \"heatmapgl\": [{\"colorbar\": {\"outlinewidth\": 0, \"ticks\": \"\"}, \"colorscale\": [[0.0, \"#0d0887\"], [0.1111111111111111, \"#46039f\"], [0.2222222222222222, \"#7201a8\"], [0.3333333333333333, \"#9c179e\"], [0.4444444444444444, \"#bd3786\"], [0.5555555555555556, \"#d8576b\"], [0.6666666666666666, \"#ed7953\"], [0.7777777777777778, \"#fb9f3a\"], [0.8888888888888888, \"#fdca26\"], [1.0, \"#f0f921\"]], \"type\": \"heatmapgl\"}], \"histogram\": [{\"marker\": {\"colorbar\": {\"outlinewidth\": 0, \"ticks\": \"\"}}, \"type\": \"histogram\"}], \"histogram2d\": [{\"colorbar\": {\"outlinewidth\": 0, \"ticks\": \"\"}, \"colorscale\": [[0.0, \"#0d0887\"], [0.1111111111111111, \"#46039f\"], [0.2222222222222222, \"#7201a8\"], [0.3333333333333333, \"#9c179e\"], [0.4444444444444444, \"#bd3786\"], [0.5555555555555556, \"#d8576b\"], [0.6666666666666666, \"#ed7953\"], [0.7777777777777778, \"#fb9f3a\"], [0.8888888888888888, \"#fdca26\"], [1.0, \"#f0f921\"]], \"type\": \"histogram2d\"}], \"histogram2dcontour\": [{\"colorbar\": {\"outlinewidth\": 0, \"ticks\": \"\"}, \"colorscale\": [[0.0, \"#0d0887\"], [0.1111111111111111, \"#46039f\"], [0.2222222222222222, \"#7201a8\"], [0.3333333333333333, \"#9c179e\"], [0.4444444444444444, \"#bd3786\"], [0.5555555555555556, \"#d8576b\"], [0.6666666666666666, \"#ed7953\"], [0.7777777777777778, \"#fb9f3a\"], [0.8888888888888888, \"#fdca26\"], [1.0, \"#f0f921\"]], \"type\": \"histogram2dcontour\"}], \"mesh3d\": [{\"colorbar\": {\"outlinewidth\": 0, \"ticks\": \"\"}, \"type\": \"mesh3d\"}], \"parcoords\": [{\"line\": {\"colorbar\": {\"outlinewidth\": 0, \"ticks\": \"\"}}, \"type\": \"parcoords\"}], \"pie\": [{\"automargin\": true, \"type\": \"pie\"}], \"scatter\": [{\"marker\": {\"colorbar\": {\"outlinewidth\": 0, \"ticks\": \"\"}}, \"type\": \"scatter\"}], \"scatter3d\": [{\"line\": {\"colorbar\": {\"outlinewidth\": 0, \"ticks\": \"\"}}, \"marker\": {\"colorbar\": {\"outlinewidth\": 0, \"ticks\": \"\"}}, \"type\": \"scatter3d\"}], \"scattercarpet\": [{\"marker\": {\"colorbar\": {\"outlinewidth\": 0, \"ticks\": \"\"}}, \"type\": \"scattercarpet\"}], \"scattergeo\": [{\"marker\": {\"colorbar\": {\"outlinewidth\": 0, \"ticks\": \"\"}}, \"type\": \"scattergeo\"}], \"scattergl\": [{\"marker\": {\"colorbar\": {\"outlinewidth\": 0, \"ticks\": \"\"}}, \"type\": \"scattergl\"}], \"scattermapbox\": [{\"marker\": {\"colorbar\": {\"outlinewidth\": 0, \"ticks\": \"\"}}, \"type\": \"scattermapbox\"}], \"scatterpolar\": [{\"marker\": {\"colorbar\": {\"outlinewidth\": 0, \"ticks\": \"\"}}, \"type\": \"scatterpolar\"}], \"scatterpolargl\": [{\"marker\": {\"colorbar\": {\"outlinewidth\": 0, \"ticks\": \"\"}}, \"type\": \"scatterpolargl\"}], \"scatterternary\": [{\"marker\": {\"colorbar\": {\"outlinewidth\": 0, \"ticks\": \"\"}}, \"type\": \"scatterternary\"}], \"surface\": [{\"colorbar\": {\"outlinewidth\": 0, \"ticks\": \"\"}, \"colorscale\": [[0.0, \"#0d0887\"], [0.1111111111111111, \"#46039f\"], [0.2222222222222222, \"#7201a8\"], [0.3333333333333333, \"#9c179e\"], [0.4444444444444444, \"#bd3786\"], [0.5555555555555556, \"#d8576b\"], [0.6666666666666666, \"#ed7953\"], [0.7777777777777778, \"#fb9f3a\"], [0.8888888888888888, \"#fdca26\"], [1.0, \"#f0f921\"]], \"type\": \"surface\"}], \"table\": [{\"cells\": {\"fill\": {\"color\": \"#EBF0F8\"}, \"line\": {\"color\": \"white\"}}, \"header\": {\"fill\": {\"color\": \"#C8D4E3\"}, \"line\": {\"color\": \"white\"}}, \"type\": \"table\"}]}, \"layout\": {\"annotationdefaults\": {\"arrowcolor\": \"#2a3f5f\", \"arrowhead\": 0, \"arrowwidth\": 1}, \"autotypenumbers\": \"strict\", \"coloraxis\": {\"colorbar\": {\"outlinewidth\": 0, \"ticks\": \"\"}}, \"colorscale\": {\"diverging\": [[0, \"#8e0152\"], [0.1, \"#c51b7d\"], [0.2, \"#de77ae\"], [0.3, \"#f1b6da\"], [0.4, \"#fde0ef\"], [0.5, \"#f7f7f7\"], [0.6, \"#e6f5d0\"], [0.7, \"#b8e186\"], [0.8, \"#7fbc41\"], [0.9, \"#4d9221\"], [1, \"#276419\"]], \"sequential\": [[0.0, \"#0d0887\"], [0.1111111111111111, \"#46039f\"], [0.2222222222222222, \"#7201a8\"], [0.3333333333333333, \"#9c179e\"], [0.4444444444444444, \"#bd3786\"], [0.5555555555555556, \"#d8576b\"], [0.6666666666666666, \"#ed7953\"], [0.7777777777777778, \"#fb9f3a\"], [0.8888888888888888, \"#fdca26\"], [1.0, \"#f0f921\"]], \"sequentialminus\": [[0.0, \"#0d0887\"], [0.1111111111111111, \"#46039f\"], [0.2222222222222222, \"#7201a8\"], [0.3333333333333333, \"#9c179e\"], [0.4444444444444444, \"#bd3786\"], [0.5555555555555556, \"#d8576b\"], [0.6666666666666666, \"#ed7953\"], [0.7777777777777778, \"#fb9f3a\"], [0.8888888888888888, \"#fdca26\"], [1.0, \"#f0f921\"]]}, \"colorway\": [\"#636efa\", \"#EF553B\", \"#00cc96\", \"#ab63fa\", \"#FFA15A\", \"#19d3f3\", \"#FF6692\", \"#B6E880\", \"#FF97FF\", \"#FECB52\"], \"font\": {\"color\": \"#2a3f5f\"}, \"geo\": {\"bgcolor\": \"white\", \"lakecolor\": \"white\", \"landcolor\": \"#E5ECF6\", \"showlakes\": true, \"showland\": true, \"subunitcolor\": \"white\"}, \"hoverlabel\": {\"align\": \"left\"}, \"hovermode\": \"closest\", \"mapbox\": {\"style\": \"light\"}, \"paper_bgcolor\": \"white\", \"plot_bgcolor\": \"#E5ECF6\", \"polar\": {\"angularaxis\": {\"gridcolor\": \"white\", \"linecolor\": \"white\", \"ticks\": \"\"}, \"bgcolor\": \"#E5ECF6\", \"radialaxis\": {\"gridcolor\": \"white\", \"linecolor\": \"white\", \"ticks\": \"\"}}, \"scene\": {\"xaxis\": {\"backgroundcolor\": \"#E5ECF6\", \"gridcolor\": \"white\", \"gridwidth\": 2, \"linecolor\": \"white\", \"showbackground\": true, \"ticks\": \"\", \"zerolinecolor\": \"white\"}, \"yaxis\": {\"backgroundcolor\": \"#E5ECF6\", \"gridcolor\": \"white\", \"gridwidth\": 2, \"linecolor\": \"white\", \"showbackground\": true, \"ticks\": \"\", \"zerolinecolor\": \"white\"}, \"zaxis\": {\"backgroundcolor\": \"#E5ECF6\", \"gridcolor\": \"white\", \"gridwidth\": 2, \"linecolor\": \"white\", \"showbackground\": true, \"ticks\": \"\", \"zerolinecolor\": \"white\"}}, \"shapedefaults\": {\"line\": {\"color\": \"#2a3f5f\"}}, \"ternary\": {\"aaxis\": {\"gridcolor\": \"white\", \"linecolor\": \"white\", \"ticks\": \"\"}, \"baxis\": {\"gridcolor\": \"white\", \"linecolor\": \"white\", \"ticks\": \"\"}, \"bgcolor\": \"#E5ECF6\", \"caxis\": {\"gridcolor\": \"white\", \"linecolor\": \"white\", \"ticks\": \"\"}}, \"title\": {\"x\": 0.05}, \"xaxis\": {\"automargin\": true, \"gridcolor\": \"white\", \"linecolor\": \"white\", \"ticks\": \"\", \"title\": {\"standoff\": 15}, \"zerolinecolor\": \"white\", \"zerolinewidth\": 2}, \"yaxis\": {\"automargin\": true, \"gridcolor\": \"white\", \"linecolor\": \"white\", \"ticks\": \"\", \"title\": {\"standoff\": 15}, \"zerolinecolor\": \"white\", \"zerolinewidth\": 2}}}, \"title\": {\"text\": \"Non-Outlier Cluster Label Distribution (16.7% Retained)\"}, \"xaxis\": {\"anchor\": \"y\", \"domain\": [0.0, 1.0], \"showticklabels\": false, \"title\": {\"text\": \"Clusters\"}}, \"yaxis\": {\"anchor\": \"x\", \"domain\": [0.0, 1.0], \"title\": {\"text\": \"Percent\"}}},                        {\"responsive\": true}                    ).then(function(){\n",
       "                            \n",
       "var gd = document.getElementById('24d19ff9-43b8-449d-9d90-230be49bbf8c');\n",
       "var x = new MutationObserver(function (mutations, observer) {{\n",
       "        var display = window.getComputedStyle(gd).display;\n",
       "        if (!display || display === 'none') {{\n",
       "            console.log([gd, 'removed!']);\n",
       "            Plotly.purge(gd);\n",
       "            observer.disconnect();\n",
       "        }}\n",
       "}});\n",
       "\n",
       "// Listen for the removal of the full notebook cells\n",
       "var notebookContainer = gd.closest('#notebook-container');\n",
       "if (notebookContainer) {{\n",
       "    x.observe(notebookContainer, {childList: true});\n",
       "}}\n",
       "\n",
       "// Listen for the clearing of the current output cell\n",
       "var outputEl = gd.closest('.output');\n",
       "if (outputEl) {{\n",
       "    x.observe(outputEl, {childList: true});\n",
       "}}\n",
       "\n",
       "                        })                };                });            </script>        </div>"
      ]
     },
     "metadata": {},
     "output_type": "display_data"
    }
   ],
   "source": [
    "fig = px.histogram(\n",
    "    df[df['label'] != -1], x='summary', \n",
    "    histnorm='percent', nbins=len(df['label'].unique()))\n",
    "fig.update_layout(\n",
    "    title='Non-Outlier Cluster Label Distribution ({:.1f}% Retained)'.format(perc_labeled),\n",
    "    xaxis={'title': 'Clusters', 'showticklabels': False},\n",
    "    yaxis={'title': 'Percent'}\n",
    ")\n",
    "fig.show()"
   ]
  },
  {
   "cell_type": "markdown",
   "metadata": {},
   "source": [
    "### Conclusion\n",
    "\n",
    "Running this notebook with the parameter settings stated above result in question clusters that seem to extend a little beyond what is seen when simply clustering on pooled, pre-trained word vectors. For example, one such cluster we encountered with the auto-generated topic summary of \"take join team massag borderlin\" included the queries \"should a diabetic use a sauna?\", \"can you massage on a diabetic?\", and \"can a diabetic do a \\<unk\\> tattoo?\". The ability to link these spa-like/beauty-like questions is most likely due to a combination of quality word vectors and the fact that answers to these questions share common terms and ideas. This could agree with a useful \"many-to-one\" graphical structure between questions and answers, which can often be seen in online forums where questions with highly varying forms share a common general answer. "
   ]
  },
  {
   "cell_type": "code",
   "execution_count": null,
   "metadata": {},
   "outputs": [],
   "source": []
  }
 ],
 "metadata": {
  "kernelspec": {
   "display_name": "Python 3",
   "language": "python",
   "name": "python3"
  },
  "language_info": {
   "codemirror_mode": {
    "name": "ipython",
    "version": 3
   },
   "file_extension": ".py",
   "mimetype": "text/x-python",
   "name": "python",
   "nbconvert_exporter": "python",
   "pygments_lexer": "ipython3",
   "version": "3.8.5"
  }
 },
 "nbformat": 4,
 "nbformat_minor": 4
}
