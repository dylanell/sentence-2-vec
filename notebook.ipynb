{
 "cells": [
  {
   "cell_type": "markdown",
   "metadata": {},
   "source": [
    "# Learning Sentence Representations from Question-Answer Pairs\n",
    "\n",
    "In this project, we explore a method to learn fixed length vector representations for variable lengthed \"short\" sentences (on the order of at most around 50 words) of text data collected from a limited-scope topic domain (like \"diabetes\"). These sentences are questions scraped from an online forum like answers.com, and each sample is accompanied by the top response (answer) corresponding to each question. We use question-answer data scraped from an online forum because the \"label\" (answer) for each training sample (question) is free. These labels are technically \"soft labels\" since they are responses taken verbatim from the general public. Our goal is to use these labels to supervise corresponding answers in a sort of \"skip-thought\" fashion in order to learn sentence representations from within a specific topic domain."
   ]
  },
  {
   "cell_type": "markdown",
   "metadata": {},
   "source": [
    "### Text-based Representation Learning\n",
    "\n",
    "The application of understanding user questions might be the starting point if you are attempting to build a chatbot to automatically handle customer queries. As an initial step, you might want to cluster queries into different high-level feature categories, requiring a numerical learned feature representation of consistent dimensionality for all queries. A fully supervised approach could potentially work for this, where a model is trained to output the correct answer given a quesion, but would most likely require a lot of data and some clever model design and depend too heavily on soft-labels which could sometimes be downright wrong. On the other hand, this could be attempted in an entirely unsupervised manner, perhaps by learning to unscramble augmented question strings or impute missing words. Unsupervised methods may learn to bias too heavily towards unexpected features (like individual words or low-level grammatical logic), and still, we have useful information nonetheless in the answers, so why not try to use this."
   ]
  },
  {
   "cell_type": "markdown",
   "metadata": {},
   "source": [
    "### Triplet Networks\n",
    "\n",
    "The method chosen here involves constructing \"triplets\" of comparison-based learning samples consisting of a question, it's correct answer, and a sampled incorrect answer, usually refered to as the anchor, positive and negative samples, respectively. Specifically, by constructing \"positive\" question-answer pairs of anchor and positive samples, and \"negative\" question-answer pairs of anchor and negative samples, we train a model to discriminate between these two pairs. Usually this is done by satisfying some criterion based on a distance/similarity measurement in a learned, fixed-dimensionality feature space, requiring that samples from a positive pair be mapped closer together (on average) than samples form a negative pair. Deep networks constructed to solve this learning problem are popularly called \"Triplet Networks\"."
   ]
  },
  {
   "cell_type": "markdown",
   "metadata": {},
   "source": [
    "### Model Architecture and Objective\n",
    "\n",
    "The authors in the paper [Learning Thematic Similarity Metric Using Triplet Networks](https://pdfs.semanticscholar.org/0846/f3cb0ae555c4f7015dca2fce6a047501154f.pdf?_ga=2.178325220.1389316910.1606965483-939693653.1606965483) use a triplet network equipped with the \"Ratio Loss\" loss-function, which converts distances between samples in representation space into probabilities. The authors report better results using this loss function instead of using the popular \"Triplet Margin Loss\" loss-function used in other triplet network implementations such as this [FaceNet](https://arxiv.org/pdf/1503.03832.pdf) paper. Upon visual investigation using nearest-neighbor searches, dimensionality reduction, and clustering, we were able to obtain good results using either loss function, therefore we allow the choice between these two losses to be set as a configuration parameter (\"margin\" for the Triplet Margin Loss and \"ratio\" for the Ratio Loss). \n",
    "\n",
    "Since our dataset consists of question-answer pairs, constructing the positive pair for a triplet is simply done by pairing a question with its corresponding answer. To construct the negative pair for a triplet, we randomly sample a different answer uniformly from the dataset, resulting in an answer that is most-likely incorrect for the anchor sample. Like most triplet network implementations, our triplet network consists of 3 identical deep sentence encoders with tied weights. Each identical encoder computes a representation for the anchor, positive, and negative sample, and then these 3 representations are used to compute the overall loss based on their \"closeness\" to each other as measured in the representation space. We test if indeed \"Attention Is All You Need\" by choosing our encoder architecture to be a series of stacked transformer networks, described in the paper [Attention Is All You Need](https://arxiv.org/pdf/1706.03762.pdf). The generalized model architecure we use is summarized in the diagram below. \n",
    "\n",
    "Anchor, positive, and negative sentences are provided as vocabulary-indexed batches which are converted to batches of word-vector arrays by the embedding layer. The embedding layer can be loaded with pre-trained word embeddings by setting the `embedding` variable within the `config.yaml` file to one of the available embedding file names listed for the `torchtext.vocab.load_vectors` function (listed [here](https://torchtext.readthedocs.io/en/latest/vocab.html#torchtext.vocab.Vocab.load_vectors)) or the embeddings can be trained along with the rest of the model parameters by setting `embedding` variable to the string `'custom'`. The output of the final transformer is pooled (sum, max, mean, etc.) along the sentence length dimension to construct fixed lengthed representations for every sentence. The distance function can be any function that satisfies the [distance metric axioms](https://en.wikipedia.org/wiki/Metric_(mathematics)). Transformers at each level (i.e. $Transformer_{i}$) are all weight-tied as well as the embedding layer weights resulting in identical processing streams for the anchor, positive, and negative samples up until the distance function computation.   "
   ]
  },
  {
   "cell_type": "markdown",
   "metadata": {},
   "source": [
    "![title](images/triplet_net.png)"
   ]
  },
  {
   "cell_type": "markdown",
   "metadata": {},
   "source": [
    "### Exploring Learned Representations\n",
    "\n",
    "The steps below involve exploring learned representations from files of encoded sentence vectors after a model has been trained. The `README` in this repo explains how to preprocess the data and train a model, which will write `val_question_tok.txt` and `val_question_vec.txt` files consisting of question strings and their encoded learned representations from the validation split, respectively. You can use the code blocks to explore learned representations for various pretrained models and clustering parameters. We experimented with varying loss functions (Ratio Loss vs. Triplet Margin Loss), model architectures (only pre-trained word vectors, only custom word-vectors, 2 transformers, 4 transformers, 100d word-vectors, 300d word-vectors, etc.), and various other model parameters (transformer activation, distance metric, etc.), and found we could find clusters in each case, but generally observed less bias on individual words when transformer layers were included. Below, we include a set of `config.yaml` model parameters and DBSCAN clustering parameters that together yield some nice clusters. \n",
    "\n",
    "`config.yaml` Parameter Settings:\n",
    "\n",
    "```\n",
    "number_epochs: 100\n",
    "batch_size: 64\n",
    "learning_rate: 0.0001\n",
    "weight_decay: 0.01\n",
    "number_workers: 4\n",
    "embedding_type: 'glove.6B.300d'\n",
    "embedding_dim: 300\n",
    "number_transformers: 2\n",
    "number_attention_heads: 10\n",
    "transformer_activation: 'tanh'\n",
    "distance_metric: 'l1'\n",
    "output_process: 'normalize'\n",
    "margin: 0.2\n",
    "loss: 'margin'\n",
    "\n",
    "```\n",
    "\n",
    "DBSCAN Parameter Settings:\n",
    "```\n",
    "eps: 0.1\n",
    "min_samples: 10\n",
    "metric: 'l2'\n",
    "```"
   ]
  },
  {
   "cell_type": "markdown",
   "metadata": {},
   "source": [
    "#### 1. Setup\n",
    "\n",
    "Import packages, define some variables, and load validation question tokens and representations files."
   ]
  },
  {
   "cell_type": "code",
   "execution_count": 1,
   "metadata": {},
   "outputs": [],
   "source": [
    "import torch\n",
    "import pandas as pd\n",
    "import numpy as np\n",
    "from sklearn.manifold import TSNE\n",
    "from sklearn.cluster import DBSCAN\n",
    "import nltk\n",
    "from nltk.corpus import stopwords\n",
    "import plotly.express as px\n",
    "\n",
    "data_dir = '/home/dylan/trained_model_files/pytorch/sentence2vec/'\n",
    "out_dir = '/tmp/'\n",
    "name = 'glove_300_2T_tanh_l1_02M'\n",
    "metric = 'l1'\n",
    "\n",
    "# load validation question and answer token lists\n",
    "with open('{}{}_val_question_tok.txt'.format(data_dir, name), 'r') as fp:\n",
    "    val_question_tok = [line.strip('\\n') for line in fp]\n",
    "    \n",
    "# load validation question and answer vectors\n",
    "val_question_vec = np.genfromtxt('{}{}_val_question_vec.txt'.format(data_dir, name), delimiter=',')"
   ]
  },
  {
   "cell_type": "markdown",
   "metadata": {},
   "source": [
    "#### 2. t-SNE Projection\n",
    "\n",
    "Project the validation question vectors onto their first three t-SNE components. We use the same distance metric used for training the representations for t-SNE since this algorithm operates in same feature space. Additionally, we normalize the projections along each component dimension in order to bring all features to the common scale $[0, 1]^3$, which simplifies the search for good clustering with varying model parameters and stochastic outputs of t-SNE."
   ]
  },
  {
   "cell_type": "code",
   "execution_count": 2,
   "metadata": {},
   "outputs": [],
   "source": [
    "# compute t-SNE projections\n",
    "tsne = TSNE(n_components=3, metric=metric)\n",
    "val_question_proj = tsne.fit_transform(val_question_vec)\n",
    "\n",
    "# normalize projections along each dimension to lie in [0, 1]^3\n",
    "val_question_proj = val_question_proj / np.max(np.abs(val_question_proj), axis=0)"
   ]
  },
  {
   "cell_type": "markdown",
   "metadata": {},
   "source": [
    "#### 3. Clustering in Projection Space\n",
    "\n",
    "In the code block below, we perform density-based DBSCAN clustering on the t-SNE projected question representations. We use Euclidean L2 distance for evaluating clusters since this algorithm operates in a 3D space in which the L2 norm is nicely behaved. The values of `eps` and `min_samples` control the density of clusters for DBSCAN to search for. Generally, lower `eps` and higher `min_samples` leads to the discovery of high-density clusters (more samples within less space). Lower values of `min_samples` will generally lead to the discovery of more specific clusters (and therefore bias more heavily towards specific words) while higher values will yeild more general clusters. Iterating on different values of these parameters provides a good method to explore the projected feature space of the learned representations. Since DBSCAN also creates a cluster for \"outlier\" samples (label=-1), we report the percentage of clusters found to be \"non-outliers\" and how many of these clusters are found. We perform analysis moving forward on only the non-outlier clusters, and ignore the rest for now. "
   ]
  },
  {
   "cell_type": "code",
   "execution_count": 8,
   "metadata": {},
   "outputs": [
    {
     "name": "stdout",
     "output_type": "stream",
     "text": [
      "[Num. Clusters]: 50, [Perc. Non-Outliers]: 52.1\n"
     ]
    }
   ],
   "source": [
    "# cluster 3D t-SNE projections\n",
    "# NOTE: low eps, high min_samples -> search for higher density clusters\n",
    "clustering = DBSCAN(eps=0.1, min_samples=10, n_jobs=-1, metric='l2')\n",
    "clusters = clustering.fit_predict(val_question_proj)\n",
    "\n",
    "# cluster info\n",
    "num_clusters = len(np.unique(clusters))\n",
    "perc_labeled = 100 * (len(clusters[clusters != -1]) / len(clusters))\n",
    "print('[Num. Clusters]: {}, [Perc. Non-Outliers]: {:.1f}'.format(num_clusters, perc_labeled))"
   ]
  },
  {
   "cell_type": "code",
   "execution_count": 9,
   "metadata": {},
   "outputs": [],
   "source": [
    "# initialize dataframe of question token strings\n",
    "df = pd.DataFrame(val_question_tok, columns=['question'])\n",
    "\n",
    "# add cluster labels to dataframe\n",
    "df['label'] = clusters\n",
    "\n",
    "# add projection components to dataframe\n",
    "proj_df = pd.DataFrame(val_question_proj, columns=['pc_1', 'pc_2', 'pc_3'])\n",
    "df = pd.concat([proj_df, df], axis=1)"
   ]
  },
  {
   "cell_type": "markdown",
   "metadata": {},
   "source": [
    "#### 4. Cluster Summary Strings\n",
    "\n",
    "For each cluster label returned by DBSCAN (omitting outlier clusters with label=-1), we create a psuedo-label consisting of the top-5 words from questions assigned to that label, omitting all standard stop words and some common extra stop words defined above. These psuedo-labels aim to provide a natural language rough topic summary for each cluster. "
   ]
  },
  {
   "cell_type": "code",
   "execution_count": 10,
   "metadata": {},
   "outputs": [],
   "source": [
    "# get list standard stop words and add some custom ones to this list\n",
    "stop_words = stopwords.words('english')\n",
    "extras = ['diabetes', '?', '.', '!', '<unk>']\n",
    "stop_words += extras\n",
    "\n",
    "# initialize word stemmer\n",
    "stemmer = nltk.stem.PorterStemmer()\n",
    "\n",
    "# stem stop words\n",
    "stop_words = [stemmer.stem(word) for word in stop_words]\n",
    "\n",
    "# add a summary column\n",
    "df['summary'] = None\n",
    "\n",
    "# infer cluster topics\n",
    "for label in sorted(df['label'].unique()):\n",
    "    # get all samples with this label\n",
    "    samples = df[df['label'] == label]['question']\n",
    "    \n",
    "    # convert samples to a list\n",
    "    samples = samples.tolist()\n",
    "    \n",
    "    # tokenize samples by whitespace\n",
    "    tokens = [[word for word in sentence.split(' ')] for sentence in samples]\n",
    "    \n",
    "    # flatten samples list\n",
    "    tokens = [inner for outer in tokens for inner in outer]\n",
    "    \n",
    "    # stem tokens\n",
    "    tokens = [stemmer.stem(token) for token in tokens]\n",
    "    \n",
    "    # filter stopwords\n",
    "    tokens = [token for token in tokens if not token in stop_words]\n",
    "    \n",
    "    # get token frequencies\n",
    "    fdist = nltk.FreqDist(tokens)\n",
    "    \n",
    "    # get summary string from 5 most frequent tokens\n",
    "    summary = ' '.join([token for token, _ in fdist.most_common(5)])\n",
    "    \n",
    "    # add summary string to dataframe\n",
    "    df.loc[df['label'] == label, 'summary'] = summary"
   ]
  },
  {
   "cell_type": "markdown",
   "metadata": {},
   "source": [
    "#### 5. Plot 3D Clusters\n",
    "\n",
    "In the code block below, we create a 3D scatter plot of the validation question t-SNE projections, omitting all samples assigned to the outlier cluster label by DBSCAN. Points are color coded by cluster labels to reveal the organized structure in feature space and a legend is included which maps the numerical cluster label to its generated psuedo-label topic summary. "
   ]
  },
  {
   "cell_type": "code",
   "execution_count": 11,
   "metadata": {},
   "outputs": [
    {
     "data": {
      "application/vnd.plotly.v1+json": {
       "config": {
        "plotlyServerURL": "https://plot.ly"
       },
       "data": [
        {
         "customdata": [
          [
           "how does poor diet and lifestyle cause type two diabetes ?",
           "diet type two best one",
           13
          ],
          [
           "what are the diets for diabetes type one and two ?",
           "diet type two best one",
           13
          ],
          [
           "what are some of the restrictions of a diabetes diet ?",
           "diet type two best one",
           13
          ],
          [
           "what the best diet for type two diabetes ?",
           "diet type two best one",
           13
          ],
          [
           "what is the best diet for a diabetic ?",
           "diet type two best one",
           13
          ],
          [
           "what type of diet will cure diabetes ?",
           "diet type two best one",
           13
          ],
          [
           "what is the diabetes diet ?",
           "diet type two best one",
           13
          ],
          [
           "what is the best type one diabetes diet to go on ?",
           "diet type two best one",
           13
          ],
          [
           "what is a good type two diabetes diet ?",
           "diet type two best one",
           13
          ],
          [
           "what are the <unk> needs for a diabetic with type two diabetes ?",
           "diet type two best one",
           13
          ],
          [
           "does the diabetes dtour diet work <unk> ?",
           "diet type two best one",
           13
          ],
          [
           "what is a good diet for type two diabetes ?",
           "diet type two best one",
           13
          ],
          [
           "what type of diet should someone with diabetes have ?",
           "diet type two best one",
           13
          ],
          [
           "what is the best diet for a person with diabetes ?",
           "diet type two best one",
           13
          ],
          [
           "diabetes diets ?",
           "diet type two best one",
           13
          ],
          [
           "controlling diabetes with diet ?",
           "diet type two best one",
           13
          ],
          [
           "what is daily carb allowance for type two diabetes ?",
           "diet type two best one",
           13
          ],
          [
           "what fiber is recommended for type two diabetes ?",
           "diet type two best one",
           13
          ],
          [
           "what type of diet is recommend for type two diabetes ?",
           "diet type two best one",
           13
          ],
          [
           "what is a healthy diet for a diabetic with type two diabetes ?",
           "diet type two best one",
           13
          ],
          [
           "is high carbohydrate diet bad for type two diabetic ?",
           "diet type two best one",
           13
          ],
          [
           "what kind of diet helps control diabetes ?",
           "diet type two best one",
           13
          ],
          [
           "following a type two diabetes diet ?",
           "diet type two best one",
           13
          ],
          [
           "what type of diet should a person keep with <unk> ?",
           "diet type two best one",
           13
          ]
         ],
         "hovertemplate": "summary=%{customdata[1]}<br>pc_1=%{x}<br>pc_2=%{y}<br>pc_3=%{z}<br>question=%{customdata[0]}<br>label=%{customdata[2]}<extra></extra>",
         "legendgroup": "diet type two best one",
         "marker": {
          "color": "#636efa",
          "size": 8,
          "symbol": "circle"
         },
         "mode": "markers",
         "name": "diet type two best one",
         "scene": "scene",
         "showlegend": true,
         "type": "scatter3d",
         "x": [
          -0.35406580567359924,
          -0.3681719899177551,
          -0.4620684087276459,
          -0.3852125406265259,
          -0.4370640516281128,
          -0.42203351855278015,
          -0.43951529264450073,
          -0.41085729002952576,
          -0.35886332392692566,
          -0.31212058663368225,
          -0.4599575102329254,
          -0.3719845414161682,
          -0.40471363067626953,
          -0.4018511176109314,
          -0.4265093207359314,
          -0.41975584626197815,
          -0.31272321939468384,
          -0.2887146770954132,
          -0.3218030035495758,
          -0.3524053990840912,
          -0.31427881121635437,
          -0.4394225776195526,
          -0.32378053665161133,
          -0.3823613226413727
         ],
         "y": [
          0.46711355447769165,
          0.39007118344306946,
          0.35918018221855164,
          0.373534232378006,
          0.2350229024887085,
          0.41469237208366394,
          0.3996731638908386,
          0.3409692049026489,
          0.29479891061782837,
          0.27822345495224,
          0.45445361733436584,
          0.29913073778152466,
          0.4025537967681885,
          0.24057407677173615,
          0.469853013753891,
          0.4466305077075958,
          0.3482721149921417,
          0.360561728477478,
          0.3608505129814148,
          0.29708340764045715,
          0.3904426395893097,
          0.4502889811992645,
          0.4077538549900055,
          0.33972108364105225
         ],
         "z": [
          0.5261481404304504,
          0.5500013828277588,
          0.47949299216270447,
          0.5871180295944214,
          0.5499480366706848,
          0.661441445350647,
          0.5526017546653748,
          0.5870287418365479,
          0.5801637172698975,
          0.49235999584198,
          0.5625365376472473,
          0.5472345352172852,
          0.5181758999824524,
          0.5676387548446655,
          0.48422378301620483,
          0.5589166879653931,
          0.6513545513153076,
          0.6135444641113281,
          0.5788220763206482,
          0.509631335735321,
          0.4664272964000702,
          0.6233982443809509,
          0.5270898938179016,
          0.4687757194042206
         ]
        },
        {
         "customdata": [
          [
           "how many carbohydrates should you consume to lose twenty pounds in three weeks ?",
           "mani sugar gram consum eat",
           24
          ],
          [
           "can a diabetic person eat cane sugar ?",
           "mani sugar gram consum eat",
           24
          ],
          [
           "how many grams of carbs should a type one diabetic eat per day ?",
           "mani sugar gram consum eat",
           24
          ],
          [
           "can sugar <unk> cause <unk> ?",
           "mani sugar gram consum eat",
           24
          ],
          [
           "how many grams of sugar should a pre-diabetic woman consume per day ?",
           "mani sugar gram consum eat",
           24
          ],
          [
           "can a diabetic consume sugar ?",
           "mani sugar gram consum eat",
           24
          ],
          [
           "what should be the sodium intake daily for a person with diabetes ?",
           "mani sugar gram consum eat",
           24
          ],
          [
           "how many sugar grams should a fourteen year old have daily ?",
           "mani sugar gram consum eat",
           24
          ],
          [
           "what is the difference between net grams of carbohydrates and total carbohydrates ?",
           "mani sugar gram consum eat",
           24
          ],
          [
           "can calories cause diabetes ?",
           "mani sugar gram consum eat",
           24
          ],
          [
           "how many grams should a type two diabetic consume per day with hyperglycemia ?",
           "mani sugar gram consum eat",
           24
          ],
          [
           "can diabetics eat an orange per day ?",
           "mani sugar gram consum eat",
           24
          ],
          [
           "how many grams of carbohydrates should a pre-diabetic woman eat ?",
           "mani sugar gram consum eat",
           24
          ],
          [
           "how many calories should a type two diabetic consume daily ?",
           "mani sugar gram consum eat",
           24
          ],
          [
           "how many carbohydrates should a type two diabetic safely consume per day ?",
           "mani sugar gram consum eat",
           24
          ],
          [
           "how many grams of sugar should you eat if diabetic ?",
           "mani sugar gram consum eat",
           24
          ],
          [
           "what happens to people that eat to much sugar ?",
           "mani sugar gram consum eat",
           24
          ],
          [
           "if you have diabetes what is the serving size of strawberries ?",
           "mani sugar gram consum eat",
           24
          ]
         ],
         "hovertemplate": "summary=%{customdata[1]}<br>pc_1=%{x}<br>pc_2=%{y}<br>pc_3=%{z}<br>question=%{customdata[0]}<br>label=%{customdata[2]}<extra></extra>",
         "legendgroup": "mani sugar gram consum eat",
         "marker": {
          "color": "#EF553B",
          "size": 8,
          "symbol": "circle"
         },
         "mode": "markers",
         "name": "mani sugar gram consum eat",
         "scene": "scene",
         "showlegend": true,
         "type": "scatter3d",
         "x": [
          -0.5587484836578369,
          -0.4934796690940857,
          -0.5620505809783936,
          -0.4366278350353241,
          -0.4968380331993103,
          -0.49054932594299316,
          -0.5531958937644958,
          -0.490746408700943,
          -0.57453852891922,
          -0.521622359752655,
          -0.6048881411552429,
          -0.4937882125377655,
          -0.5324126482009888,
          -0.5953961610794067,
          -0.5960069894790649,
          -0.5237246155738831,
          -0.43790897727012634,
          -0.5799643397331238
         ],
         "y": [
          -0.382043719291687,
          -0.20434556901454926,
          -0.32619428634643555,
          -0.2766242027282715,
          -0.3423222601413727,
          -0.22493551671504974,
          -0.37812042236328125,
          -0.359182745218277,
          -0.28926965594291687,
          -0.31645986437797546,
          -0.3215605914592743,
          -0.26882991194725037,
          -0.30675166845321655,
          -0.3680723309516907,
          -0.35926154255867004,
          -0.24971304833889008,
          -0.3287363052368164,
          -0.2288270890712738
         ],
         "z": [
          -0.2984437644481659,
          -0.19824393093585968,
          -0.24881243705749512,
          -0.173789843916893,
          -0.24725346267223358,
          -0.17146287858486176,
          -0.17775951325893402,
          -0.2914714515209198,
          -0.30048635601997375,
          -0.14611099660396576,
          -0.24740932881832123,
          -0.2967032194137573,
          -0.22503778338432312,
          -0.2119562178850174,
          -0.25991958379745483,
          -0.2102546989917755,
          -0.22410187125205994,
          -0.1905287802219391
         ]
        },
        {
         "customdata": [
          [
           "what are the benefits of pregnancy <unk> ?",
           "pregnanc gestat doctor benefit pregnant",
           34
          ],
          [
           "in what <unk> is a pregnant lady tested for gestational diabetes ?",
           "pregnanc gestat doctor benefit pregnant",
           34
          ],
          [
           "how does diabetes effect pregnancy ?",
           "pregnanc gestat doctor benefit pregnant",
           34
          ],
          [
           "in gestational diabetes the mother passes diabetes to her <unk> ?",
           "pregnanc gestat doctor benefit pregnant",
           34
          ],
          [
           "pregnancy diabetes ?",
           "pregnanc gestat doctor benefit pregnant",
           34
          ],
          [
           "what is the best healthy pregnancy diet for women who are suffering from gestational diabetes ?",
           "pregnanc gestat doctor benefit pregnant",
           34
          ],
          [
           "when do doctors induce labor when you have gestational diabetes ?",
           "pregnanc gestat doctor benefit pregnant",
           34
          ],
          [
           "what is a doctor called that studies child growth and diabetes ?",
           "pregnanc gestat doctor benefit pregnant",
           34
          ],
          [
           "is gestational diabetes the kind that only occurs during pregnancy ?",
           "pregnanc gestat doctor benefit pregnant",
           34
          ],
          [
           "does diabetes affect pregnancy ?",
           "pregnanc gestat doctor benefit pregnant",
           34
          ],
          [
           "can you have anemia and gestational diabetes at the same time ?",
           "pregnanc gestat doctor benefit pregnant",
           34
          ],
          [
           "can you have gestational diabetes with every pregnancy ?",
           "pregnanc gestat doctor benefit pregnant",
           34
          ]
         ],
         "hovertemplate": "summary=%{customdata[1]}<br>pc_1=%{x}<br>pc_2=%{y}<br>pc_3=%{z}<br>question=%{customdata[0]}<br>label=%{customdata[2]}<extra></extra>",
         "legendgroup": "pregnanc gestat doctor benefit pregnant",
         "marker": {
          "color": "#00cc96",
          "size": 8,
          "symbol": "circle"
         },
         "mode": "markers",
         "name": "pregnanc gestat doctor benefit pregnant",
         "scene": "scene",
         "showlegend": true,
         "type": "scatter3d",
         "x": [
          -0.34707263112068176,
          -0.41008442640304565,
          -0.3949064314365387,
          -0.40773314237594604,
          -0.3887917697429657,
          -0.40989449620246887,
          -0.3077903091907501,
          -0.2858869135379791,
          -0.3865424394607544,
          -0.3948798179626465,
          -0.3333906829357147,
          -0.37890487909317017
         ],
         "y": [
          0.6408977508544922,
          0.7413454651832581,
          0.5995503067970276,
          0.7195212841033936,
          0.6699076294898987,
          0.6644502878189087,
          0.7457507252693176,
          0.7516665458679199,
          0.7547658085823059,
          0.6323319673538208,
          0.7191930413246155,
          0.6989102959632874
         ],
         "z": [
          -0.18848225474357605,
          -0.1929273158311844,
          -0.28718429803848267,
          -0.2464776188135147,
          -0.24763183295726776,
          -0.17040833830833435,
          -0.23029860854148865,
          -0.14926664531230927,
          -0.25484928488731384,
          -0.2995862066745758,
          -0.19636034965515137,
          -0.2138807624578476
         ]
        },
        {
         "customdata": [
          [
           "diabetes meal planning services ?",
           "food find list good recip",
           5
          ],
          [
           "where can you find an informative food list for diabetics online ?",
           "food find list good recip",
           5
          ],
          [
           "what is the name for a good diabetic cook book ?",
           "food find list good recip",
           5
          ],
          [
           "can you get a food list for diabetics ?",
           "food find list good recip",
           5
          ],
          [
           "what is a good diabetes food guide ?",
           "food find list good recip",
           5
          ],
          [
           "what is a good <unk> for diabetic recipes ?",
           "food find list good recip",
           5
          ],
          [
           "where can one find a guide for good foods for diabetics ?",
           "food find list good recip",
           5
          ],
          [
           "looking for advice about a a new dietary regiment of breakfast . ?",
           "food find list good recip",
           5
          ],
          [
           "where can i order my diabetic supplies online ?",
           "food find list good recip",
           5
          ],
          [
           "how much more <unk> are diabetic foods than normal foods ?",
           "food find list good recip",
           5
          ],
          [
           "what are some good diabetic food recipes that will help alleviate my symptoms ?",
           "food find list good recip",
           5
          ],
          [
           "where can i find recipes for diabetic <unk> ?",
           "food find list good recip",
           5
          ],
          [
           "where can i find more information diabetic meals ?",
           "food find list good recip",
           5
          ],
          [
           "create a personal diabetic food list ?",
           "food find list good recip",
           5
          ],
          [
           "how does the diabetic food chart compare to the basic food chart ?",
           "food find list good recip",
           5
          ],
          [
           "how can one easily <unk> diabetes products while shopping for food ?",
           "food find list good recip",
           5
          ],
          [
           "where can i find more information on diabetic snacks ?",
           "food find list good recip",
           5
          ],
          [
           "diabetic food ?",
           "food find list good recip",
           5
          ],
          [
           "where can one order diabetic supplies online ?",
           "food find list good recip",
           5
          ],
          [
           "what can the ingredients list of a food product tell you ?",
           "food find list good recip",
           5
          ],
          [
           "where can you find a diabetic food list ?",
           "food find list good recip",
           5
          ],
          [
           "where can i find a good diabetes meal planner ?",
           "food find list good recip",
           5
          ],
          [
           "what is the purpose of an a1c chart for a diabetic ?",
           "food find list good recip",
           5
          ],
          [
           "where can i find inexpensive food for diabetics ?",
           "food find list good recip",
           5
          ],
          [
           "which websites provide diabetic food lists ?",
           "food find list good recip",
           5
          ],
          [
           "what healthy foods for diabetics should i start cooking ?",
           "food find list good recip",
           5
          ],
          [
           "diabetic recipes free ?",
           "food find list good recip",
           5
          ],
          [
           "what will eating regular meals do ?",
           "food find list good recip",
           5
          ],
          [
           "is there an online resource for diabetic diet plans ?",
           "food find list good recip",
           5
          ],
          [
           "where can i find the diabetic food guide ?",
           "food find list good recip",
           5
          ],
          [
           "what type of food is good for people with diabetes to eat ?",
           "food find list good recip",
           5
          ],
          [
           "where can i find a recipe book for a diabetic diet ?",
           "food find list good recip",
           5
          ],
          [
           "diabetic cookbooks ?",
           "food find list good recip",
           5
          ],
          [
           "what is a good sample breakfast menu for diabetics ?",
           "food find list good recip",
           5
          ],
          [
           "does whole foods store sell healthy foods for diabetics ?",
           "food find list good recip",
           5
          ],
          [
           "diet meal plans for people with diabetes ?",
           "food find list good recip",
           5
          ],
          [
           "where can i get a diabetic cookbook ?",
           "food find list good recip",
           5
          ],
          [
           "where can i find a new diabetic food list that shows good food choices ?",
           "food find list good recip",
           5
          ],
          [
           "where can i find diabetic recipes ?",
           "food find list good recip",
           5
          ],
          [
           "where can i find a menu or diabetic foods online ?",
           "food find list good recip",
           5
          ],
          [
           "would diet plans for diabetics have the foods watches carefully ?",
           "food find list good recip",
           5
          ],
          [
           "can i find diabetic foods in any grocery store ?",
           "food find list good recip",
           5
          ],
          [
           "what is a good cookie recipe for diabetics ?",
           "food find list good recip",
           5
          ],
          [
           "what is the best diet meal plan for type two diabetis ?",
           "food find list good recip",
           5
          ],
          [
           "what would a diabetics diet menu consist of ?",
           "food find list good recip",
           5
          ],
          [
           "where can one find information on the best diabetic desserts ?",
           "food find list good recip",
           5
          ],
          [
           "what kind of diabetes food should one be using to cook ?",
           "food find list good recip",
           5
          ],
          [
           "what do people with type two diabetes have to eat for dinner ?",
           "food find list good recip",
           5
          ],
          [
           "where could one find a list of food suitable for diabetics ?",
           "food find list good recip",
           5
          ],
          [
           "what are some diabetic foods and can they be found in any store ?",
           "food find list good recip",
           5
          ],
          [
           "how to make diabetic food for the family ?",
           "food find list good recip",
           5
          ],
          [
           "what foods can be listed as diabetic ?",
           "food find list good recip",
           5
          ],
          [
           "which food items are typically on the diabetic food list ?",
           "food find list good recip",
           5
          ],
          [
           "what types of foods are listed as diabetic and what type of non diabetic foods can you buy ?",
           "food find list good recip",
           5
          ],
          [
           "what food for supper for the diabetic person ?",
           "food find list good recip",
           5
          ],
          [
           "what fruits and vegetables are <unk> foods on the diabetes food list and are the portion size restrictions the same ?",
           "food find list good recip",
           5
          ],
          [
           "what is a good food guide for diabetics ?",
           "food find list good recip",
           5
          ],
          [
           "where can i find the new diabetic food list ?",
           "food find list good recip",
           5
          ],
          [
           "where can one find sample menus for a diabetic diet ?",
           "food find list good recip",
           5
          ],
          [
           "is there an online store for diabetic supplies ?",
           "food find list good recip",
           5
          ],
          [
           "what foods should a diabetic buy at the grocery store ?",
           "food find list good recip",
           5
          ],
          [
           "where can i find free diabetic menus ?",
           "food find list good recip",
           5
          ],
          [
           "what diet plans help to prevent the want of glucose products ?",
           "food find list good recip",
           5
          ],
          [
           "what cereals are recommended for diabetics ?",
           "food find list good recip",
           5
          ],
          [
           "where can i purchase some diabetic foods ?",
           "food find list good recip",
           5
          ],
          [
           "where can i obtain a diabetic food pyramid ?",
           "food find list good recip",
           5
          ],
          [
           "diabetic menu planner ?",
           "food find list good recip",
           5
          ],
          [
           "is there any online site that offers diabetic recipes ?",
           "food find list good recip",
           5
          ],
          [
           "diabetes meal plan ?",
           "food find list good recip",
           5
          ],
          [
           "where can i find a complete list of foods mentioned in the <unk> ?",
           "food find list good recip",
           5
          ],
          [
           "understanding diabetic meal planning ?",
           "food find list good recip",
           5
          ],
          [
           "where can i find list of diabetic eating guidelines ?",
           "food find list good recip",
           5
          ],
          [
           "low-fat food options are an important consideration for type two diabetes patients ?",
           "food find list good recip",
           5
          ],
          [
           "where can one find a diabetic cookie recipe book ?",
           "food find list good recip",
           5
          ],
          [
           "what restaurants in central london offer a diabetic menu ?",
           "food find list good recip",
           5
          ]
         ],
         "hovertemplate": "summary=%{customdata[1]}<br>pc_1=%{x}<br>pc_2=%{y}<br>pc_3=%{z}<br>question=%{customdata[0]}<br>label=%{customdata[2]}<extra></extra>",
         "legendgroup": "food find list good recip",
         "marker": {
          "color": "#ab63fa",
          "size": 8,
          "symbol": "circle"
         },
         "mode": "markers",
         "name": "food find list good recip",
         "scene": "scene",
         "showlegend": true,
         "type": "scatter3d",
         "x": [
          -0.5836672782897949,
          -0.7410984039306641,
          -0.6635496616363525,
          -0.8701757192611694,
          -0.632967472076416,
          -0.6752231121063232,
          -0.6779397130012512,
          -0.6085475087165833,
          -0.7547295689582825,
          -0.6962284445762634,
          -0.8111477494239807,
          -0.8805676102638245,
          -0.7535657286643982,
          -0.7828894853591919,
          -0.7247893810272217,
          -0.6908658146858215,
          -0.723457932472229,
          -0.7514901161193848,
          -0.7885050773620605,
          -0.8614157438278198,
          -0.8559939861297607,
          -0.8463062047958374,
          -0.6437696814537048,
          -0.704113781452179,
          -0.7196903824806213,
          -0.5728884339332581,
          -0.7330924868583679,
          -0.5594517588615417,
          -0.6802732348442078,
          -0.7919762134552002,
          -0.5969052314758301,
          -0.77861487865448,
          -0.7417396306991577,
          -0.6707202196121216,
          -0.7303050756454468,
          -0.5669351816177368,
          -0.8264726400375366,
          -0.7995840311050415,
          -0.8931639194488525,
          -0.8246856927871704,
          -0.5432379245758057,
          -0.8447148203849792,
          -0.6477712988853455,
          -0.5419548153877258,
          -0.5416675209999084,
          -0.6442955136299133,
          -0.6059841513633728,
          -0.5436692237854004,
          -0.8985529541969299,
          -0.7984669208526611,
          -0.7194170951843262,
          -0.8038567900657654,
          -0.7214226126670837,
          -0.762458086013794,
          -0.7125054001808167,
          -0.688962459564209,
          -0.6536538004875183,
          -0.7661942839622498,
          -0.7483347654342651,
          -0.8129616379737854,
          -0.8710443377494812,
          -0.8058574199676514,
          -0.5405020713806152,
          -0.5433441400527954,
          -0.7644553184509277,
          -0.8142532706260681,
          -0.7410666942596436,
          -0.8377649784088135,
          -0.5755569934844971,
          -0.8130660653114319,
          -0.674112856388092,
          -0.8914841413497925,
          -0.509600818157196,
          -0.8367563486099243,
          -0.7430537939071655
         ],
         "y": [
          0.28854474425315857,
          0.29761356115341187,
          0.10642393678426743,
          0.41625484824180603,
          0.2078353613615036,
          0.14667478203773499,
          0.25163909792900085,
          0.20254597067832947,
          0.3455933630466461,
          0.255938321352005,
          0.14141963422298431,
          0.23562563955783844,
          0.3767111301422119,
          0.1853557527065277,
          0.41125810146331787,
          0.3282213509082794,
          0.39006203413009644,
          0.1462535858154297,
          0.37063443660736084,
          0.24157452583312988,
          0.3261311650276184,
          0.35216429829597473,
          0.06899548321962357,
          0.2899269163608551,
          0.23120205104351044,
          0.13520875573158264,
          0.15846629440784454,
          0.20797884464263916,
          0.2739020586013794,
          0.31054598093032837,
          0.21096456050872803,
          0.29688990116119385,
          0.11733313649892807,
          0.19573207199573517,
          0.26617172360420227,
          0.2905438542366028,
          0.294691801071167,
          0.23239099979400635,
          0.2655869424343109,
          0.2706255316734314,
          0.13205000758171082,
          0.2813638150691986,
          0.14722442626953125,
          0.2377653419971466,
          0.20904181897640228,
          0.3595327138900757,
          0.26300057768821716,
          0.215448260307312,
          0.40632426738739014,
          0.2941759526729584,
          0.17896592617034912,
          0.23386071622371674,
          0.263080894947052,
          0.22759909927845,
          0.10782045125961304,
          0.27354395389556885,
          0.20472122728824615,
          0.28180167078971863,
          0.30025455355644226,
          0.3990078270435333,
          0.2831679582595825,
          0.33104392886161804,
          0.15231478214263916,
          0.12121131271123886,
          0.27348726987838745,
          0.3537471890449524,
          0.16046182811260223,
          0.18120762705802917,
          0.2846783697605133,
          0.24449022114276886,
          0.1663529872894287,
          0.28792575001716614,
          0.27608057856559753,
          0.27889353036880493,
          0.2159731537103653
         ],
         "z": [
          0.1225174143910408,
          0.16146044433116913,
          0.1767473965883255,
          0.16084086894989014,
          0.08048007637262344,
          0.14087972044944763,
          0.12684248387813568,
          0.20225946605205536,
          0.04195747151970863,
          -0.11268503218889236,
          0.11347617954015732,
          0.2570452094078064,
          0.1552826464176178,
          0.036817457526922226,
          -0.01147004310041666,
          0.039893873035907745,
          0.1387934386730194,
          -0.0425272062420845,
          0.05308090150356293,
          0.11401639133691788,
          0.18209514021873474,
          0.27344566583633423,
          0.09245818108320236,
          0.0990898609161377,
          0.035396672785282135,
          0.12748058140277863,
          0.11922498047351837,
          0.12626482546329498,
          0.23849011957645416,
          0.11207278817892075,
          0.04360344633460045,
          0.2791267931461334,
          0.14797812700271606,
          0.17762337625026703,
          -0.11884944140911102,
          0.22290167212486267,
          0.22321589291095734,
          0.07982297241687775,
          0.2637706995010376,
          0.11555850505828857,
          0.19437231123447418,
          0.0565669909119606,
          0.10947620868682861,
          0.1892593801021576,
          0.17216303944587708,
          0.12323088198900223,
          0.023426860570907593,
          0.048463597893714905,
          0.14136448502540588,
          -0.015731828287243843,
          0.04211584851145744,
          -0.050395768135786057,
          0.0016079498454928398,
          -0.054901234805583954,
          0.032623663544654846,
          -0.028602134436368942,
          0.10839509963989258,
          0.0680495873093605,
          0.28335657715797424,
          0.029526134952902794,
          0.026530403643846512,
          0.18004170060157776,
          0.2528809607028961,
          0.13622517883777618,
          0.0115948636084795,
          0.11078181117773056,
          0.18773344159126282,
          0.20444849133491516,
          0.18193510174751282,
          0.15726763010025024,
          0.006843836046755314,
          0.182264044880867,
          0.10290700942277908,
          0.2951224148273468,
          0.18024514615535736
         ]
        },
        {
         "customdata": [
          [
           "my cat has diabetes and has lost a lot of muscle from his legs and can not walk ?",
           "blood sugar insulin one level",
           0
          ],
          [
           "what would happen to the blood glucose level if diabetic gave herself an injection but did not eat or accidentally too much insulin ?",
           "blood sugar insulin one level",
           0
          ],
          [
           "the most immediate response to a high level of blood sugar in a human is an increase in the ?",
           "blood sugar insulin one level",
           0
          ],
          [
           "why do people with diabetes have to test their blood sugar level before injecting themselves insulin ?",
           "blood sugar insulin one level",
           0
          ],
          [
           "is it possible for you to have diabetes if no one else in your family has it ?",
           "blood sugar insulin one level",
           0
          ],
          [
           "my <unk> old son was diagnosed with <unk> diabetes in july eight point we have been having alot of highs and lows <unk> , were told by his doctor that it is normal . i would like to get another opinion on this from someone with same problem . ?",
           "blood sugar insulin one level",
           0
          ],
          [
           "you are a forty year old diabetic you ave a temp of one hundred and one and just had a kidney infection when should you call your doctor ?",
           "blood sugar insulin one level",
           0
          ],
          [
           "<unk> . rand who has diabetes and takes insulin regularly tells the personal care assistant that she feels very nervous and jittery . what should the <unk> do immediately ?",
           "blood sugar insulin one level",
           0
          ],
          [
           "what is the number that determines high blood sugar i know my blood tests numbers what i want to know is if i am diabete ?",
           "blood sugar insulin one level",
           0
          ],
          [
           "what may be the cause of a twenty seven yr old girl found suffering from diabetes who has no such family history ?",
           "blood sugar insulin one level",
           0
          ],
          [
           "a scientist makes an educated guess that diabetes is caused by genetic factors his guess is an example of a n ?",
           "blood sugar insulin one level",
           0
          ],
          [
           "i am on medication <unk> per day i have been on a diet and my blood sugar levels are still high what is wrong ?",
           "blood sugar insulin one level",
           0
          ],
          [
           "does sex have an affect on blood sugar in a person with type two diabetes will it cause it to elevate ?",
           "blood sugar insulin one level",
           0
          ],
          [
           "where can i find a diet plan for diabetics that is healthy and also helps people loose weight ?",
           "blood sugar insulin one level",
           0
          ],
          [
           "what word describing the lowering of the blood glucose level to normal after eating a meal ?",
           "blood sugar insulin one level",
           0
          ],
          [
           "how can type one and type two diabetes be different if they both cause the same problem - glucose being unable to be <unk> from the bloodstream into cells ?",
           "blood sugar insulin one level",
           0
          ],
          [
           "i want to get a tattoo but i also have diabetes . is it safer if i just not get one ?",
           "blood sugar insulin one level",
           0
          ],
          [
           "if i am not losing weight and have no sugar in my urine but could i still have diabetes ?",
           "blood sugar insulin one level",
           0
          ],
          [
           "you started getting <unk> face and head and <unk> feeling in head while diagnosed with gestational diabetes what could be wrong ?",
           "blood sugar insulin one level",
           0
          ],
          [
           "where do i need to go to find out more about diet for diabetic ?",
           "blood sugar insulin one level",
           0
          ],
          [
           "can some one please tell me where to find healthy food for a diabetic like me ?",
           "blood sugar insulin one level",
           0
          ],
          [
           "is it true that type two diabetes occurs much less frequently than type one ?",
           "blood sugar insulin one level",
           0
          ],
          [
           "did nick jonas consider leaving the jonas brothers when he found out that he had diabetes ?",
           "blood sugar insulin one level",
           0
          ],
          [
           "which food are the best choices for treating a patient <unk> a hypoglycemic low blood sugar reaction ?",
           "blood sugar insulin one level",
           0
          ],
          [
           "what causes pain in your right arm between <unk> and shoulder and numbness in your right fingers ?",
           "blood sugar insulin one level",
           0
          ],
          [
           "would not a military physical show whether a person has kidney disease or diabetes ?",
           "blood sugar insulin one level",
           0
          ],
          [
           "if you are diabetic and suffering frequent hypos low blood sugar requiring emergency aid should the doctor prescribe metformin and lower insulin since metformin lowers blood sugar levels further ?",
           "blood sugar insulin one level",
           0
          ],
          [
           "will medicare pay for diabetic shoes and <unk> prescribed by a physician for a patient living in a thirty one <unk> nursing facility thirty two a nursing facility or thirty three a <unk> care facility ?",
           "blood sugar insulin one level",
           0
          ],
          [
           "what is the life expectancy of someone with terminal colon and liver cancer he is seventy seven years old and had diabetes the dr is told us approx six months he has <unk> that . any <unk> would be helpful . ?",
           "blood sugar insulin one level",
           0
          ],
          [
           "i am having a fasting test for diabetes <unk> . this <unk> i went crazy and smoked a pack of cigarettes with my friends . will the <unk> of nicotine show up on the test ?",
           "blood sugar insulin one level",
           0
          ],
          [
           "what if i had diabetes for a while and did not know it and can not go to the doctor is to see if you do have it will it get worse ?",
           "blood sugar insulin one level",
           0
          ],
          [
           "can you get diabetes type one when you are between the ages thirteen to seventeen and can people ages eighteen and above get diabetes type one ?",
           "blood sugar insulin one level",
           0
          ],
          [
           "if you have been in the hospital and a med they gave you sent your blood sugar up high so they started to give you insulin will have to keep taking it now ?",
           "blood sugar insulin one level",
           0
          ],
          [
           "have nervous system problems for the past seven years and a diabetic patient . find difficult to write with steady hand . please tell the remedy ?",
           "blood sugar insulin one level",
           0
          ],
          [
           "the live reacts to a high level of glucose in the blood by converting some of the glucose to ?",
           "blood sugar insulin one level",
           0
          ],
          [
           "is a condition when the body produces too much insulin even when they have not eaten ?",
           "blood sugar insulin one level",
           0
          ],
          [
           "what if your friend <unk> has type one diabetes but still eats tons of candy every day is this a problem also he is gay if that matters ?",
           "blood sugar insulin one level",
           0
          ],
          [
           "glucose can be elevated in the blood of a diabetic person relate this information to glucose in the urine and glucose <unk> ?",
           "blood sugar insulin one level",
           0
          ],
          [
           "what <unk> dose of insulin do i take if my blood sugar level is seventeen point zero from my pre meal measurement ?",
           "blood sugar insulin one level",
           0
          ],
          [
           "what are two serious consequences that are possible for someone with type two diabetes if a <unk> diet is not followed ?",
           "blood sugar insulin one level",
           0
          ],
          [
           "is it a higher possibility for you to get diabetes if two family members on your dads side have sugar diabetes ?",
           "blood sugar insulin one level",
           0
          ],
          [
           "if your best friend is a ten year old with diabetes and you have to take daily shots and you miss one shot in one day only will you die ?",
           "blood sugar insulin one level",
           0
          ],
          [
           "why am i thirsty all the time and tired after meals even though i got my blood sugar tested and it is normal ?",
           "blood sugar insulin one level",
           0
          ],
          [
           "is it illegal and if yes what are the consequences for a mom to sell their minor child is excess diabetic testing supplies to feed the child ?",
           "blood sugar insulin one level",
           0
          ],
          [
           "you just found out you are pregnant you have a six months old and had gestational diabetes that led to a <unk> section is it safe to stay pregnant and what are the risks if you do keep the baby ?",
           "blood sugar insulin one level",
           0
          ],
          [
           "i am a type two diabetic my problem is my blood sugar is high when i wake up , how can i correct it ?",
           "blood sugar insulin one level",
           0
          ],
          [
           "if you can not <unk> the military because of diabetes is there another option that offers the same structure ?",
           "blood sugar insulin one level",
           0
          ],
          [
           "how can a person with diabetes keep the glucose in the blood at a safe level ?",
           "blood sugar insulin one level",
           0
          ],
          [
           "why does diabetes medications make people more obese than before they started on the medications ?",
           "blood sugar insulin one level",
           0
          ],
          [
           "what is the survival rate of <unk> bypass surgery for a fifty five year old man with diabetes ?",
           "blood sugar insulin one level",
           0
          ],
          [
           "in what region of the body is the storage of excess body fat associated with the highest risk for cardiovascular disease and diabetes ?",
           "blood sugar insulin one level",
           0
          ],
          [
           "<unk> . gave me <unk> insulin an my blood sugar has been up every . i have been to the hospital twice . right now my sugar is five hundred and forty six bp <unk> <unk> . it has been like this all week , what can i do to get it <unk> already take <unk> times a day and lantus for lon ?",
           "blood sugar insulin one level",
           0
          ],
          [
           "husband was diagnosed with type ii diabetes two months ago does that make his son who is twelve more apt to get it ?",
           "blood sugar insulin one level",
           0
          ],
          [
           "why do diabetics type ii get so <unk> and mean . after forty three years of <unk> we are about to <unk> up . what can i do ?",
           "blood sugar insulin one level",
           0
          ],
          [
           "what condition is caused by too much insulin and too little sugar in the blood ?",
           "blood sugar insulin one level",
           0
          ],
          [
           "does a diabetic know if or when his or her blood sugar is too high or low ?",
           "blood sugar insulin one level",
           0
          ],
          [
           "my big toe is partially numb but it comes and goes is there anything i should be worried about ?",
           "blood sugar insulin one level",
           0
          ],
          [
           "you are insulin resistant you do not however have diabetes if you lose the weight will your insulin resistance go too along with it your chance of developing diabetes ?",
           "blood sugar insulin one level",
           0
          ],
          [
           "to find a specific picture book where a father <unk> a strawberry cake if you remember correctly for his son it starts off as a regular cake then it is a huge beautiful cake who is the author and what ?",
           "blood sugar insulin one level",
           0
          ],
          [
           "if a girl weighs one hundred and thirty pound and is a ten year old <unk> grader but her family has a history of over weight family member you are really scared you do not want to be diabetic but i cant <unk> <unk> ?",
           "blood sugar insulin one level",
           0
          ],
          [
           "how does a diabetic <unk> use insulin made from dog or pig pancreas and how does he or she fast all day during <unk> ?",
           "blood sugar insulin one level",
           0
          ],
          [
           "what would make your toes feel numb and your foot tingling on top and have little red <unk> on inside of skin going up front of leg ?",
           "blood sugar insulin one level",
           0
          ],
          [
           "a few days ago i was tested for lyme disease . along with the blood test test my doctor tested my blood sugar . before going to the doctor i had stopped at a <unk> donuts and had a cinnamon <unk> <unk> with a sweetened peach ice tea . my doctor called to ?",
           "blood sugar insulin one level",
           0
          ],
          [
           "if your parents say that your future girlfriend will not have a future because you have diabetes what would you do ?",
           "blood sugar insulin one level",
           0
          ],
          [
           "what if your dad is a diabetic and need a kidney but he has seizures can he die ?",
           "blood sugar insulin one level",
           0
          ],
          [
           "which of the following best describes the effect of a fiber-rich meal on the rise in blood glucose that occurs after a meal ?",
           "blood sugar insulin one level",
           0
          ],
          [
           "you are worried about your friend she is fat and all of her family are diabetic except her you have tried to help her lose weight by watching what she eats and sport but she dosent listen ?",
           "blood sugar insulin one level",
           0
          ],
          [
           "your father is fifty years old and he has been drinking alcohol since twenty three years on regular basis . now a days he is drinking in <unk> he is a heart patient and diabetic kindly help you on this ?",
           "blood sugar insulin one level",
           0
          ],
          [
           "diabetes mellitus is a disease that occurs when the body either can not produce the hormone insulin or produces an insufficient amount of insulin . the disease is caused by a <unk> in the system . ?",
           "blood sugar insulin one level",
           0
          ],
          [
           "if your dead skin cells from foot <unk> <unk> ants after being left in a <unk> for hours does this mean you have diabetes ?",
           "blood sugar insulin one level",
           0
          ],
          [
           "what should you do if you have type one diabetes and have your recommended level of sugar yet still feel low on energy ?",
           "blood sugar insulin one level",
           0
          ],
          [
           "your friend is suffering from acute liver shutdown and now his kidneys are <unk> can he live long enough to hope for a liver transplant ?",
           "blood sugar insulin one level",
           0
          ],
          [
           "a patient has diabetes and takes insulin filling nervous and jittery what should you do ?",
           "blood sugar insulin one level",
           0
          ],
          [
           "what would happen to the blood sugar level of a diabetic who failed to inject insulin ?",
           "blood sugar insulin one level",
           0
          ],
          [
           "what you should do as the doctor detected the pregnancy diabetes at thirty five weeks of pregnancy . is the treatment at this time will be sufficient for the mother and fetus ?",
           "blood sugar insulin one level",
           0
          ],
          [
           "if your <unk> had and died from diabetes will you and what are your chances of getting diagnosed with diabetes ?",
           "blood sugar insulin one level",
           0
          ],
          [
           "what is considered <unk> ' blood levels in male urine samples - what could high level be a symptom of - i have been told mine is <unk> ' ?",
           "blood sugar insulin one level",
           0
          ]
         ],
         "hovertemplate": "summary=%{customdata[1]}<br>pc_1=%{x}<br>pc_2=%{y}<br>pc_3=%{z}<br>question=%{customdata[0]}<br>label=%{customdata[2]}<extra></extra>",
         "legendgroup": "blood sugar insulin one level",
         "marker": {
          "color": "#FFA15A",
          "size": 8,
          "symbol": "circle"
         },
         "mode": "markers",
         "name": "blood sugar insulin one level",
         "scene": "scene",
         "showlegend": true,
         "type": "scatter3d",
         "x": [
          -0.18883773684501648,
          0.026922935619950294,
          0.06350894272327423,
          0.017417021095752716,
          -0.05943069979548454,
          -0.11465726047754288,
          -0.04946538805961609,
          -0.16708728671073914,
          -0.04365677013993263,
          -0.08560272306203842,
          -0.014512253925204277,
          -0.021929815411567688,
          0.028775254264473915,
          -0.12039894610643387,
          0.08399920910596848,
          0.057015255093574524,
          -0.08855732530355453,
          -0.06789717823266983,
          -0.2023543417453766,
          -0.17737643420696259,
          -0.1496894359588623,
          0.07701650261878967,
          -0.1231420636177063,
          0.023138346150517464,
          -0.2599237263202667,
          -0.04283735156059265,
          0.06681449711322784,
          -0.05742194503545761,
          -0.11925345659255981,
          -0.04765867441892624,
          -0.09724597632884979,
          -0.14164771139621735,
          -0.088810496032238,
          -0.14568570256233215,
          0.14628829061985016,
          0.057682886719703674,
          -0.02652141824364662,
          0.17254295945167542,
          0.04504451900720596,
          -0.0755840614438057,
          -0.03433125093579292,
          -0.07088993489742279,
          -0.05887333303689957,
          -0.11663813889026642,
          -0.1112222671508789,
          -0.06954123079776764,
          -0.048082683235406876,
          0.10891891270875931,
          -0.03147335350513458,
          -0.11118040233850479,
          0.11477918177843094,
          -0.09554677456617355,
          -0.15866951644420624,
          -0.11663073301315308,
          0.0799863263964653,
          -0.02113756351172924,
          -0.10570698976516724,
          -0.011086245067417622,
          0.00020345249504316598,
          -0.046948667615652084,
          0.025261277332901955,
          -0.234056293964386,
          -0.04653245583176613,
          -0.09532655030488968,
          0.005281781777739525,
          0.1041804701089859,
          -0.1571611613035202,
          -0.09245551377534866,
          0.10398350656032562,
          -0.045351218432188034,
          -0.026476433500647545,
          -0.15393412113189697,
          -0.18916504085063934,
          0.021313315257430077,
          -0.12790387868881226,
          -0.1909155398607254,
          0.024639319628477097
         ],
         "y": [
          0.5838416218757629,
          0.6650292277336121,
          0.5428788065910339,
          0.6204466223716736,
          0.6602743864059448,
          0.5953091382980347,
          0.6338607668876648,
          0.6721502542495728,
          0.45135366916656494,
          0.6823540329933167,
          0.718687891960144,
          0.5297259092330933,
          0.6173164248466492,
          0.5746715664863586,
          0.516079843044281,
          0.65958172082901,
          0.6328943371772766,
          0.5533851385116577,
          0.6712350845336914,
          0.5446219444274902,
          0.5868782997131348,
          0.7210169434547424,
          0.5311185717582703,
          0.4883546829223633,
          0.6165882349014282,
          0.7341515421867371,
          0.6079111695289612,
          0.5863663554191589,
          0.6373632550239563,
          0.5520719289779663,
          0.6448473334312439,
          0.4758552014827728,
          0.5953737497329712,
          0.5668080449104309,
          0.543602466583252,
          0.7122907638549805,
          0.659929096698761,
          0.5449786186218262,
          0.5298709869384766,
          0.742792546749115,
          0.6358841061592102,
          0.6163126230239868,
          0.5016218423843384,
          0.6937761306762695,
          0.6451089382171631,
          0.4417176842689514,
          0.7074875831604004,
          0.4432505667209625,
          0.5680456161499023,
          0.6428224444389343,
          0.6308320164680481,
          0.5707427263259888,
          0.5999008417129517,
          0.5149644017219543,
          0.7049091458320618,
          0.7006562948226929,
          0.6598851084709167,
          0.6078240275382996,
          0.6223955750465393,
          0.6405780911445618,
          0.7169549465179443,
          0.5915670394897461,
          0.551646888256073,
          0.6940534710884094,
          0.6686407923698425,
          0.5335176587104797,
          0.6374748945236206,
          0.5996431708335876,
          0.6524436473846436,
          0.6830992698669434,
          0.5602757930755615,
          0.6989321112632751,
          0.6946286559104919,
          0.6570456624031067,
          0.6625636219978333,
          0.6504597067832947,
          0.5268943309783936
         ],
         "z": [
          0.37768039107322693,
          0.5470274090766907,
          0.4038543999195099,
          0.5981568098068237,
          0.4520261585712433,
          0.3719386160373688,
          0.2915768027305603,
          0.4934007525444031,
          0.4090892970561981,
          0.3343425393104553,
          0.37480244040489197,
          0.46112060546875,
          0.4543844759464264,
          0.5588628649711609,
          0.46112287044525146,
          0.4694591760635376,
          0.5143859386444092,
          0.5019389986991882,
          0.3852665424346924,
          0.5114006400108337,
          0.5025769472122192,
          0.4042665660381317,
          0.32990336418151855,
          0.46858280897140503,
          0.4349750876426697,
          0.2717346251010895,
          0.6038594841957092,
          0.2576305866241455,
          0.31189680099487305,
          0.40155115723609924,
          0.47621971368789673,
          0.41573330760002136,
          0.45628848671913147,
          0.42633694410324097,
          0.46465376019477844,
          0.5118038058280945,
          0.4132426381111145,
          0.4891085922718048,
          0.5142849683761597,
          0.40937379002571106,
          0.48875513672828674,
          0.3868457078933716,
          0.4560900032520294,
          0.4253119230270386,
          0.4190407693386078,
          0.47078201174736023,
          0.42984798550605774,
          0.4604448080062866,
          0.5898393988609314,
          0.24589304625988007,
          0.43097639083862305,
          0.4099293053150177,
          0.2941378653049469,
          0.4341926872730255,
          0.5472217202186584,
          0.522074818611145,
          0.5716958045959473,
          0.5560868978500366,
          0.36252692341804504,
          0.34821346402168274,
          0.48460325598716736,
          0.43915611505508423,
          0.3507728576660156,
          0.5042787194252014,
          0.2642965018749237,
          0.43616071343421936,
          0.45846104621887207,
          0.32415857911109924,
          0.46919795870780945,
          0.2601882219314575,
          0.5019650459289551,
          0.30325186252593994,
          0.5317490100860596,
          0.6283586025238037,
          0.3706408739089966,
          0.350784569978714,
          0.3848707973957062
         ]
        },
        {
         "customdata": [
          [
           "is a blood sugar level of one hundred and eleven normal ?",
           "blood sugar level high hundr",
           1
          ],
          [
           "when fasting what should your blood sugar be in the morning ?",
           "blood sugar level high hundr",
           1
          ],
          [
           "will apples raise blood glucose ?",
           "blood sugar level high hundr",
           1
          ],
          [
           "how do you keep your weight and blood sugar down when you have diabetes ?",
           "blood sugar level high hundr",
           1
          ],
          [
           "is a one hundred and thirty blood sugar level too high ?",
           "blood sugar level high hundr",
           1
          ],
          [
           "how do you maintain good blood sugar levels throughout the day ?",
           "blood sugar level high hundr",
           1
          ],
          [
           "what are common ways to lower blood sugar spikes ?",
           "blood sugar level high hundr",
           1
          ],
          [
           "what sugar levels are normal for someone with diabetes ?",
           "blood sugar level high hundr",
           1
          ],
          [
           "what controls blood sugar ?",
           "blood sugar level high hundr",
           1
          ],
          [
           "does exercise help lower your blood sugar level ?",
           "blood sugar level high hundr",
           1
          ],
          [
           "how you maintain blood sugar level if you have diabetes problem ?",
           "blood sugar level high hundr",
           1
          ],
          [
           "do fruits raise blood sugar levels ?",
           "blood sugar level high hundr",
           1
          ],
          [
           "what is the normal oil <unk> range for a one thousand , nine hundred and eighty eight <unk> ?",
           "blood sugar level high hundr",
           1
          ],
          [
           "how do you <unk> lower my blood sugar ?",
           "blood sugar level high hundr",
           1
          ],
          [
           "if blood sugar falls twenty six mg what happened to patient ?",
           "blood sugar level high hundr",
           1
          ],
          [
           "what are the best ways of lowering my blood sugar levels ?",
           "blood sugar level high hundr",
           1
          ],
          [
           "what is the disease characterized by low blood sugar level ?",
           "blood sugar level high hundr",
           1
          ],
          [
           "how do i find out if i have normal blood sugar levels ?",
           "blood sugar level high hundr",
           1
          ],
          [
           "blood sugar levels are lowered by the ?",
           "blood sugar level high hundr",
           1
          ],
          [
           "<unk> that increase blood sugar levels ?",
           "blood sugar level high hundr",
           1
          ],
          [
           "is watermelon harmful for the patients with high blood sugar levels ?",
           "blood sugar level high hundr",
           1
          ],
          [
           "suger level one hundred and eighty five to high ?",
           "blood sugar level high hundr",
           1
          ],
          [
           "why do people with diabetes have a high level of sugar in their blood ?",
           "blood sugar level high hundr",
           1
          ],
          [
           "why does the blood sugar levels start to fall after sixty minutes ?",
           "blood sugar level high hundr",
           1
          ],
          [
           "do bananas raise blood sugar level ?",
           "blood sugar level high hundr",
           1
          ],
          [
           "does alcohol affect blood sugar levels ?",
           "blood sugar level high hundr",
           1
          ],
          [
           "what do you do if your blood sugar is five hundred and sixteen ?",
           "blood sugar level high hundr",
           1
          ],
          [
           "will <unk> raise your blood sugar ?",
           "blood sugar level high hundr",
           1
          ],
          [
           "is a blood glucose level of one hundred and one too high ?",
           "blood sugar level high hundr",
           1
          ],
          [
           "does taking vitamin c increase your blood sugar level ?",
           "blood sugar level high hundr",
           1
          ],
          [
           "what if your glucose is one hundred and ninety two is that too high ?",
           "blood sugar level high hundr",
           1
          ],
          [
           "what is the condition of low blood sugar levels associated with diabetes called ?",
           "blood sugar level high hundr",
           1
          ],
          [
           "what <unk> of foods will not raise blood sugar ?",
           "blood sugar level high hundr",
           1
          ],
          [
           "what side effects are caused by high blood sugar levels ?",
           "blood sugar level high hundr",
           1
          ],
          [
           "fasting blood sugar level ninety nine is considered to be suger ?",
           "blood sugar level high hundr",
           1
          ],
          [
           "what do you do if your blood sugar is over four hundred and forty ?",
           "blood sugar level high hundr",
           1
          ],
          [
           "how do i lower my diabetic blood sugar level ?",
           "blood sugar level high hundr",
           1
          ],
          [
           "what happens when blood sugar stays in the three hundred to high four hundred ?",
           "blood sugar level high hundr",
           1
          ],
          [
           "what can you eat to lower your blood sugar quick ?",
           "blood sugar level high hundr",
           1
          ],
          [
           "how can people with high blood sugar treat themselves ?",
           "blood sugar level high hundr",
           1
          ],
          [
           "what blood sugar levels are normal ?",
           "blood sugar level high hundr",
           1
          ],
          [
           "what brings blood sugar down in diabetes ?",
           "blood sugar level high hundr",
           1
          ],
          [
           "how can i find out if i have low blood sugar ?",
           "blood sugar level high hundr",
           1
          ],
          [
           "can this be taken with a high blood sugar <unk> diabetes two ?",
           "blood sugar level high hundr",
           1
          ],
          [
           "is twenty four ml of insulin is high to <unk> ?",
           "blood sugar level high hundr",
           1
          ],
          [
           "do bananas increase blood sugar ?",
           "blood sugar level high hundr",
           1
          ],
          [
           "what else can i do to control my high blood sugar levels besides dieting ?",
           "blood sugar level high hundr",
           1
          ],
          [
           "is it normal to have high levels of sugar in your blood ?",
           "blood sugar level high hundr",
           1
          ],
          [
           "what are some proven methods of maintaining blood sugar levels ?",
           "blood sugar level high hundr",
           1
          ],
          [
           "what does blood sugar <unk> mean ?",
           "blood sugar level high hundr",
           1
          ],
          [
           "is a blood glucose level of one hundred and thirty eight too high ?",
           "blood sugar level high hundr",
           1
          ],
          [
           "does orange raise blood sugar ?",
           "blood sugar level high hundr",
           1
          ],
          [
           "what is a blood sugar crash ?",
           "blood sugar level high hundr",
           1
          ],
          [
           "how does blood sugar get as high as eight hundred and thirty six ?",
           "blood sugar level high hundr",
           1
          ],
          [
           "if your blood sugar reading is two hundred and fifty five is that high ?",
           "blood sugar level high hundr",
           1
          ],
          [
           "is sugar bad for your heart ?",
           "blood sugar level high hundr",
           1
          ],
          [
           "does blood sugar affect <unk> and learning ?",
           "blood sugar level high hundr",
           1
          ],
          [
           "ways to prevent high blood pressure ?",
           "blood sugar level high hundr",
           1
          ],
          [
           "after fasting all night , what is a normal blood sugar level in the morning ?",
           "blood sugar level high hundr",
           1
          ],
          [
           "does black coffee affect your blood sugar levels ?",
           "blood sugar level high hundr",
           1
          ],
          [
           "what does frequent blood sugar levels over one hundred and sixty after eating mean ?",
           "blood sugar level high hundr",
           1
          ],
          [
           "does monster drinks push up your blood sugar ?",
           "blood sugar level high hundr",
           1
          ],
          [
           "how do i test me blood sugar level to keep healthy ?",
           "blood sugar level high hundr",
           1
          ],
          [
           "why would the doctor suggest checking the patient is blood sugar levels ?",
           "blood sugar level high hundr",
           1
          ],
          [
           "will infection cause blood glucose levels to increase or decrease ?",
           "blood sugar level high hundr",
           1
          ],
          [
           "why does your blood sugar rise after eating <unk> bran cereals ?",
           "blood sugar level high hundr",
           1
          ],
          [
           "getting the right balance of sugar ?",
           "blood sugar level high hundr",
           1
          ],
          [
           "where can you stick yourself to check blood sugar levels ?",
           "blood sugar level high hundr",
           1
          ],
          [
           "effect of high blood sugar on body ?",
           "blood sugar level high hundr",
           1
          ],
          [
           "is one hundred and forty bad blood sugar reading in morning ?",
           "blood sugar level high hundr",
           1
          ],
          [
           "why is it dangerous if glucose level is too high ?",
           "blood sugar level high hundr",
           1
          ],
          [
           "is one hundred and sixty nine considered high in fasting blood sugar ?",
           "blood sugar level high hundr",
           1
          ],
          [
           "checking your blood sugar levels daily ?",
           "blood sugar level high hundr",
           1
          ],
          [
           "how do i keep my blood sugar down by myself without medical help ?",
           "blood sugar level high hundr",
           1
          ],
          [
           "how can you tell your blood sugar level ?",
           "blood sugar level high hundr",
           1
          ],
          [
           "how many g of sugar raises your blood level ?",
           "blood sugar level high hundr",
           1
          ],
          [
           "do people with diabetes have high blood glucose levels ?",
           "blood sugar level high hundr",
           1
          ],
          [
           "best food to eat when blood sugar gets low ?",
           "blood sugar level high hundr",
           1
          ],
          [
           "what is some information on diabetes high blood sugar ?",
           "blood sugar level high hundr",
           1
          ],
          [
           "what does two hundred and three as a blood sugar means ?",
           "blood sugar level high hundr",
           1
          ],
          [
           "what are the best fruits to bring down blood sugar levels ?",
           "blood sugar level high hundr",
           1
          ],
          [
           "does blood sugar rise or fall during intense exercise ?",
           "blood sugar level high hundr",
           1
          ],
          [
           "what are th best foods to bring down blood sugar levels ?",
           "blood sugar level high hundr",
           1
          ],
          [
           "does a flu increase your blood sugar ?",
           "blood sugar level high hundr",
           1
          ],
          [
           "what fruits can you eat if you have blood sugar problems ?",
           "blood sugar level high hundr",
           1
          ],
          [
           "what number is high for blood sugar ?",
           "blood sugar level high hundr",
           1
          ],
          [
           "is a blood sugar level of one hundred and eighty seven average dangerous in a type two diabetic ?",
           "blood sugar level high hundr",
           1
          ],
          [
           "how does the body respond to a increase in the blood sugar concentration ?",
           "blood sugar level high hundr",
           1
          ],
          [
           "what are the best drinks to lower blood sugar levels ?",
           "blood sugar level high hundr",
           1
          ],
          [
           "why do people with diabetes experience low energy levels ?",
           "blood sugar level high hundr",
           1
          ],
          [
           "were does the sugar in your blood come from ?",
           "blood sugar level high hundr",
           1
          ],
          [
           "what is the medical term meaning disease in which blood sugar levels are above normal ?",
           "blood sugar level high hundr",
           1
          ],
          [
           "how much would <unk> of carb raise your blood sugar level ?",
           "blood sugar level high hundr",
           1
          ],
          [
           "blood sugar levels are lowered by ?",
           "blood sugar level high hundr",
           1
          ],
          [
           "is a creatinine blood level of one point three five high ?",
           "blood sugar level high hundr",
           1
          ],
          [
           "does drinking <unk> raise your blood sugar ?",
           "blood sugar level high hundr",
           1
          ],
          [
           "how long does it take to see blood sugar lowering to more normal levels after diet and weight loss ?",
           "blood sugar level high hundr",
           1
          ],
          [
           "what increase blood sugar ?",
           "blood sugar level high hundr",
           1
          ],
          [
           "what should your blood sugar levels be before eating a meal ?",
           "blood sugar level high hundr",
           1
          ],
          [
           "what places offer advice on low blood sugar ?",
           "blood sugar level high hundr",
           1
          ],
          [
           "could whiskey and soft drink raise blood sugar level ?",
           "blood sugar level high hundr",
           1
          ],
          [
           "is one hundred and sixty blood sugar for ten year old diabetic ?",
           "blood sugar level high hundr",
           1
          ],
          [
           "what number is low sugar ?",
           "blood sugar level high hundr",
           1
          ],
          [
           "does vomiting raise blood sugar levels ?",
           "blood sugar level high hundr",
           1
          ],
          [
           "does <unk> raise blood sugar ?",
           "blood sugar level high hundr",
           1
          ],
          [
           "what foods decrease your blood sugar levels ?",
           "blood sugar level high hundr",
           1
          ],
          [
           "can high blood sugar make you dizzy and <unk> ?",
           "blood sugar level high hundr",
           1
          ],
          [
           "is carrot increase blood sugar ?",
           "blood sugar level high hundr",
           1
          ],
          [
           "does honey increase you sugar level ?",
           "blood sugar level high hundr",
           1
          ],
          [
           "what foods lower blood sugars and help lose weight ?",
           "blood sugar level high hundr",
           1
          ],
          [
           "would an apple raise blood sugar ?",
           "blood sugar level high hundr",
           1
          ],
          [
           "why would drinking molasses in the morning not help with low blood sugar ?",
           "blood sugar level high hundr",
           1
          ],
          [
           "is one hundred and sixty blood sugar reading after eating all right ?",
           "blood sugar level high hundr",
           1
          ],
          [
           "is a blood sugar level of four hundred and sixty one dangerous ?",
           "blood sugar level high hundr",
           1
          ],
          [
           "which cells are prone to damage from low blood sugar ?",
           "blood sugar level high hundr",
           1
          ],
          [
           "does <unk> raise blood sugar ?",
           "blood sugar level high hundr",
           1
          ],
          [
           "does eating meat raise your blood sugar ?",
           "blood sugar level high hundr",
           1
          ],
          [
           "what happens if blood sugar levels are not properly regulated ?",
           "blood sugar level high hundr",
           1
          ],
          [
           "do not <unk> your blood sugar ! ?",
           "blood sugar level high hundr",
           1
          ],
          [
           "does adrenaline increase blood sugar ?",
           "blood sugar level high hundr",
           1
          ],
          [
           "how does drinking alcohol effect blood sugar levels ?",
           "blood sugar level high hundr",
           1
          ],
          [
           "how can i keep my blood sugar levels low ?",
           "blood sugar level high hundr",
           1
          ],
          [
           "what to do when blood sugar is over eight hundred ?",
           "blood sugar level high hundr",
           1
          ],
          [
           "what is a sugar high ?",
           "blood sugar level high hundr",
           1
          ],
          [
           "is <unk> lowers the blood sugar ?",
           "blood sugar level high hundr",
           1
          ],
          [
           "is three hundred and seven considered a normal rate for your blood sugar ?",
           "blood sugar level high hundr",
           1
          ],
          [
           "what are causes of high blood sugar ?",
           "blood sugar level high hundr",
           1
          ],
          [
           "does am la control blood sugar ?",
           "blood sugar level high hundr",
           1
          ],
          [
           "how do you correct low blood sugar ?",
           "blood sugar level high hundr",
           1
          ],
          [
           "does <unk> raise blood sugar ?",
           "blood sugar level high hundr",
           1
          ],
          [
           "what type diabtes do you have when your blood sugar is high ?",
           "blood sugar level high hundr",
           1
          ],
          [
           "what are the blood sugar levels for diabetes ?",
           "blood sugar level high hundr",
           1
          ],
          [
           "does pot raise your blood sugar ?",
           "blood sugar level high hundr",
           1
          ],
          [
           "is five hundred and forty three a good blood sugar level ?",
           "blood sugar level high hundr",
           1
          ],
          [
           "what are some <unk> blood sugar testers ?",
           "blood sugar level high hundr",
           1
          ],
          [
           "is a blood glucose level over one thousand , two hundred dangerous ?",
           "blood sugar level high hundr",
           1
          ],
          [
           "do bananas raise blood sugar levels ?",
           "blood sugar level high hundr",
           1
          ],
          [
           "does gin and tonic affect blood sugar levels ?",
           "blood sugar level high hundr",
           1
          ],
          [
           "what if blood sugar is five hundred and thirty nine ?",
           "blood sugar level high hundr",
           1
          ],
          [
           "does eating <unk> lower your blood sugar ?",
           "blood sugar level high hundr",
           1
          ],
          [
           "what does it mean when your blood sugar count is two hundred and ninety seven ?",
           "blood sugar level high hundr",
           1
          ],
          [
           "what does two hundred and ninety seven as a blood sugar means ?",
           "blood sugar level high hundr",
           1
          ],
          [
           "managing high blood sugar ?",
           "blood sugar level high hundr",
           1
          ],
          [
           "what are the best foods to eat to lower blood sugar ?",
           "blood sugar level high hundr",
           1
          ],
          [
           "does eating <unk> lower blood sugar ?",
           "blood sugar level high hundr",
           1
          ],
          [
           "is ninety high blood sugar ?",
           "blood sugar level high hundr",
           1
          ],
          [
           "can barley lower blood sugar ?",
           "blood sugar level high hundr",
           1
          ],
          [
           "why does giving steroids increase blood sugar level ?",
           "blood sugar level high hundr",
           1
          ],
          [
           "why is orange juice recommended when blood sugar is low ?",
           "blood sugar level high hundr",
           1
          ],
          [
           "will drinking lots of water help to lower your blood sugar quickly ?",
           "blood sugar level high hundr",
           1
          ],
          [
           "what food can lower blood sugar ?",
           "blood sugar level high hundr",
           1
          ],
          [
           "why does blood sugar rise high after breakfast ?",
           "blood sugar level high hundr",
           1
          ],
          [
           "explain how the blood sugar gets back to normal from being low ?",
           "blood sugar level high hundr",
           1
          ],
          [
           "how can i maintain my blood sugar level with diabetes ?",
           "blood sugar level high hundr",
           1
          ],
          [
           "does an urinalysis show blood sugar levels ?",
           "blood sugar level high hundr",
           1
          ],
          [
           "what does post prandial blood sugar mean ?",
           "blood sugar level high hundr",
           1
          ],
          [
           "what foods affect an increase in sugar level ?",
           "blood sugar level high hundr",
           1
          ],
          [
           "what different sizes of skim board can i buy ?",
           "blood sugar level high hundr",
           1
          ],
          [
           "how are blood sugar levels maintained in the body ?",
           "blood sugar level high hundr",
           1
          ],
          [
           "if my blood sugar level in the morning before eating was four point nine is that <unk> ?",
           "blood sugar level high hundr",
           1
          ],
          [
           "is it better to have low or high blood sugar levels ?",
           "blood sugar level high hundr",
           1
          ],
          [
           "what kind of foods can you eat to keep your blood sugar stable ?",
           "blood sugar level high hundr",
           1
          ],
          [
           "is a fasting blood sugar of one hundred and sixteen ?",
           "blood sugar level high hundr",
           1
          ],
          [
           "why does drinking alcohol lower blood sugar ?",
           "blood sugar level high hundr",
           1
          ],
          [
           "should you change your diet to control your blood sugar levels ?",
           "blood sugar level high hundr",
           1
          ],
          [
           "how low can blood sugar go before is causes lost consciousness ?",
           "blood sugar level high hundr",
           1
          ],
          [
           "will antibiotic affect blood sugar ?",
           "blood sugar level high hundr",
           1
          ],
          [
           "what do the blood sugar levels read after you have eaten ?",
           "blood sugar level high hundr",
           1
          ],
          [
           "is one hundred and thirty nine a high sugar reading ?",
           "blood sugar level high hundr",
           1
          ],
          [
           "is there any way to monitor blood sugar levels without using a needle to draw blood ?",
           "blood sugar level high hundr",
           1
          ],
          [
           "the glycemic index predicts the way certain foods effect ?",
           "blood sugar level high hundr",
           1
          ],
          [
           "is a high level of a1c blood sugar bad ?",
           "blood sugar level high hundr",
           1
          ],
          [
           "what will happen to pregnant having increase sugar level in blood ?",
           "blood sugar level high hundr",
           1
          ],
          [
           "is blood sugar of one hundred and twelve high ?",
           "blood sugar level high hundr",
           1
          ],
          [
           "does glycogenesis lower sugar in blood ?",
           "blood sugar level high hundr",
           1
          ],
          [
           "what can i do to lower my high blood sugar count ?",
           "blood sugar level high hundr",
           1
          ],
          [
           "can <unk> blood improve blood sugar level ?",
           "blood sugar level high hundr",
           1
          ],
          [
           "does cocaine affect blood sugar ?",
           "blood sugar level high hundr",
           1
          ],
          [
           "what can you eat that will not raise blood sugar ?",
           "blood sugar level high hundr",
           1
          ],
          [
           "how long does it take for <unk> to react to high blood sugars ?",
           "blood sugar level high hundr",
           1
          ],
          [
           "high levels of <unk> in diabetes ?",
           "blood sugar level high hundr",
           1
          ],
          [
           "what fruit will manage blood sugar level ?",
           "blood sugar level high hundr",
           1
          ],
          [
           "would looking at blood sugar levels be part of diet ?",
           "blood sugar level high hundr",
           1
          ],
          [
           "if a person has blood sugar of six point two after eating is he called a diabetic ?",
           "blood sugar level high hundr",
           1
          ],
          [
           "will fried shrimp rise blood sugar ?",
           "blood sugar level high hundr",
           1
          ]
         ],
         "hovertemplate": "summary=%{customdata[1]}<br>pc_1=%{x}<br>pc_2=%{y}<br>pc_3=%{z}<br>question=%{customdata[0]}<br>label=%{customdata[2]}<extra></extra>",
         "legendgroup": "blood sugar level high hundr",
         "marker": {
          "color": "#19d3f3",
          "size": 8,
          "symbol": "circle"
         },
         "mode": "markers",
         "name": "blood sugar level high hundr",
         "scene": "scene",
         "showlegend": true,
         "type": "scatter3d",
         "x": [
          -0.04524688422679901,
          -0.1079450249671936,
          -0.3838856518268585,
          -0.06361018866300583,
          -0.06167798116803169,
          -0.050476957112550735,
          -0.04437839239835739,
          0.017476961016654968,
          -0.05751444026827812,
          -0.06111488118767738,
          0.0018791737966239452,
          -0.2931772768497467,
          -0.07112197577953339,
          -0.07438439875841141,
          -0.13728170096874237,
          -0.20752565562725067,
          0.10665106773376465,
          -0.05160658806562424,
          -0.06929206848144531,
          -0.13085386157035828,
          -0.07517582923173904,
          -0.05673070624470711,
          -0.03583325818181038,
          -0.17281727492809296,
          -0.2915702164173126,
          -0.3265111744403839,
          -0.20905879139900208,
          -0.2776332199573517,
          0.0019657621160149574,
          -0.13983888924121857,
          -0.02491922676563263,
          0.0791325718164444,
          -0.3187163174152374,
          -0.07253753393888474,
          -0.19549797475337982,
          -0.22558057308197021,
          -0.07340236753225327,
          -0.10648996382951736,
          -0.1554948091506958,
          -0.046665459871292114,
          0.06422992050647736,
          -0.13855430483818054,
          -0.08424904197454453,
          -0.18732202053070068,
          0.05676073953509331,
          -0.2718237042427063,
          -0.03976694867014885,
          -0.005841018166393042,
          0.016767291352152824,
          -0.17094536125659943,
          -0.0027550801169127226,
          -0.27414730191230774,
          -0.1370091736316681,
          -0.1273512840270996,
          -0.10893970727920532,
          -0.2162647694349289,
          -0.15091179311275482,
          0.013196754269301891,
          -0.14497341215610504,
          -0.2609656751155853,
          -0.1762065589427948,
          -0.22044701874256134,
          -0.006399845704436302,
          0.02724446915090084,
          -0.06658121198415756,
          -0.25452837347984314,
          -0.18942783772945404,
          0.06911943852901459,
          -0.12620435655117035,
          -0.11873028427362442,
          0.018856240436434746,
          -0.1519174873828888,
          0.09127835184335709,
          -0.026069026440382004,
          -0.00043991999700665474,
          -0.14625604450702667,
          0.10316362231969833,
          -0.25191792845726013,
          0.019933480769395828,
          -0.19134914875030518,
          -0.23626743257045746,
          -0.18016956746578217,
          -0.2653372883796692,
          -0.32955417037010193,
          -0.35754522681236267,
          -0.056515034288167953,
          -0.012681465595960617,
          -0.13020725548267365,
          -0.17611433565616608,
          -0.042856402695178986,
          -0.20927093923091888,
          0.0427568294107914,
          -0.1436133235692978,
          -0.057322729378938675,
          0.0368930958211422,
          -0.25054824352264404,
          -0.04461578279733658,
          -0.13233168423175812,
          -0.1860845386981964,
          -0.14906002581119537,
          -0.3119235038757324,
          -0.15502431988716125,
          -0.06345556676387787,
          -0.10824783146381378,
          -0.15059198439121246,
          -0.19827032089233398,
          -0.1584174633026123,
          -0.3071081340312958,
          -0.3104851543903351,
          -0.14589272439479828,
          -0.308886855840683,
          -0.25839945673942566,
          -0.16804809868335724,
          -0.04420081898570061,
          -0.2381109744310379,
          -0.324985533952713,
          -0.23675446212291718,
          0.12132217735052109,
          -0.2692132890224457,
          -0.16298209130764008,
          -0.3252162039279938,
          -0.05022784695029259,
          -0.1204635351896286,
          -0.10316592454910278,
          -0.21435831487178802,
          -0.06752253323793411,
          -0.10318554192781448,
          -0.08923561871051788,
          -0.08557303994894028,
          -0.16473452746868134,
          -0.10314159095287323,
          0.017114169895648956,
          -0.3451479375362396,
          -0.08286264538764954,
          0.02914470247924328,
          0.004509184509515762,
          -0.29198992252349854,
          -0.28676649928092957,
          -0.13677620887756348,
          -0.1942821443080902,
          -0.18563014268875122,
          -0.1670316904783249,
          -0.1701996773481369,
          -0.22677120566368103,
          -0.19391974806785583,
          -0.09104088693857193,
          -0.20291028916835785,
          -0.13882099092006683,
          -0.2658367455005646,
          -0.1328914612531662,
          -0.17930744588375092,
          -0.2342500239610672,
          -0.16841813921928406,
          0.0077401516027748585,
          -0.08805421739816666,
          -0.19164633750915527,
          -0.23439708352088928,
          -0.16240406036376953,
          0.08454064279794693,
          -0.1675306111574173,
          -0.043889615684747696,
          -0.2073802798986435,
          -0.16470970213413239,
          -0.3522312641143799,
          -0.04309595376253128,
          -0.23571528494358063,
          -0.2450193166732788,
          -0.14880622923374176,
          -0.08950119465589523,
          0.05816264450550079,
          -0.20503690838813782,
          -0.039453014731407166,
          -0.11338527500629425,
          -0.09729401022195816,
          -0.21109957993030548,
          -0.09126095473766327,
          -0.016702095046639442,
          -0.2842766046524048,
          -0.36149662733078003,
          -0.1819770634174347,
          0.008998307399451733,
          -0.23699820041656494,
          -0.0847206860780716,
          -0.22380861639976501,
          -0.3264261782169342
         ],
         "y": [
          -0.745324432849884,
          -0.5700792670249939,
          -0.5458258986473083,
          -0.5388117432594299,
          -0.6997198462486267,
          -0.6421113610267639,
          -0.5672732591629028,
          -0.613867461681366,
          -0.5029716491699219,
          -0.5865135788917542,
          -0.6019584536552429,
          -0.5972539186477661,
          -0.8214560747146606,
          -0.7170771956443787,
          -0.8737368583679199,
          -0.7846966981887817,
          -0.6049133539199829,
          -0.6845790147781372,
          -0.5451668500900269,
          -0.4948285222053528,
          -0.43183597922325134,
          -0.7357295751571655,
          -0.6305621266365051,
          -0.5775230526924133,
          -0.6648362874984741,
          -0.4323583245277405,
          -0.7863203287124634,
          -0.5748715400695801,
          -0.6560357809066772,
          -0.4177246689796448,
          -0.6284217238426208,
          -0.5944883227348328,
          -0.689344048500061,
          -0.6251833438873291,
          -0.691361129283905,
          -0.7285963296890259,
          -0.7565686106681824,
          -0.8010379076004028,
          -0.611670196056366,
          -0.4814910590648651,
          -0.657010018825531,
          -0.6187045574188232,
          -0.6780754923820496,
          -0.371781587600708,
          -0.7421161532402039,
          -0.5277711153030396,
          -0.5804346203804016,
          -0.6625089645385742,
          -0.5495163798332214,
          -0.5851708054542542,
          -0.6890584230422974,
          -0.6302578449249268,
          -0.7633839845657349,
          -0.737693190574646,
          -0.695408821105957,
          -0.5406911969184875,
          -0.4863542914390564,
          -0.5191797614097595,
          -0.544956386089325,
          -0.4815017282962799,
          -0.6373409628868103,
          -0.5703577995300293,
          -0.6517490148544312,
          -0.6872515678405762,
          -0.3891310691833496,
          -0.542280912399292,
          -0.627313494682312,
          -0.6427120566368103,
          -0.6701387763023376,
          -0.6470107436180115,
          -0.598790168762207,
          -0.7049452066421509,
          -0.656955361366272,
          -0.6161693930625916,
          -0.7612743973731995,
          -0.6636557579040527,
          -0.6018425822257996,
          -0.5596648454666138,
          -0.629355788230896,
          -0.809360682964325,
          -0.7478117942810059,
          -0.5531134605407715,
          -0.7442029714584351,
          -0.544409990310669,
          -0.567866325378418,
          -0.6663090586662292,
          -0.7568320631980896,
          -0.5591603517532349,
          -0.7136409878730774,
          -0.6489478349685669,
          -0.474506676197052,
          -0.6458178162574768,
          -0.664138674736023,
          -0.514621376991272,
          -0.686267077922821,
          -0.54535311460495,
          -0.45342543721199036,
          -0.5461509823799133,
          -0.5343164801597595,
          -0.7141968011856079,
          -0.4127247631549835,
          -0.782339334487915,
          -0.6114844083786011,
          -0.42626774311065674,
          -0.46244385838508606,
          -0.4989062249660492,
          -0.40631288290023804,
          -0.5207192301750183,
          -0.476671427488327,
          -0.574259340763092,
          -0.5737172365188599,
          -0.3608877956867218,
          -0.6353304386138916,
          -0.7491186261177063,
          -0.5084853768348694,
          -0.6461824178695679,
          -0.6131440997123718,
          -0.6829932332038879,
          -0.5661817193031311,
          -0.4661775529384613,
          -0.3918541967868805,
          -0.6477125883102417,
          -0.7241641283035278,
          -0.6352221965789795,
          -0.42685404419898987,
          -0.813306450843811,
          -0.6122397780418396,
          -0.48451152443885803,
          -0.5250154733657837,
          -0.48818203806877136,
          -0.568423330783844,
          -0.5815504789352417,
          -0.6542248725891113,
          -0.7536048293113708,
          -0.5255618095397949,
          -0.687404215335846,
          -0.637733519077301,
          -0.442370742559433,
          -0.8229953646659851,
          -0.5926510095596313,
          -0.7343037128448486,
          -0.7906158566474915,
          -0.6794019341468811,
          -0.6676327586174011,
          -0.5376080870628357,
          -0.6901348829269409,
          -0.4933311343193054,
          -0.44394099712371826,
          -0.695330798625946,
          -0.618522584438324,
          -0.6669974327087402,
          -0.6569456458091736,
          -0.5703961253166199,
          -0.6238046288490295,
          -0.39308783411979675,
          -0.6225724220275879,
          -0.46658462285995483,
          -0.7148627638816833,
          -0.6859874129295349,
          -0.5735727548599243,
          -0.6743314862251282,
          -0.6112817525863647,
          -0.657127857208252,
          -0.4063652753829956,
          -0.537469208240509,
          -0.6059051156044006,
          -0.39852452278137207,
          -0.5175659656524658,
          -0.6871836185455322,
          -0.5874230861663818,
          -0.4443887770175934,
          -0.7307983040809631,
          -0.3751817047595978,
          -0.6966565847396851,
          -0.4753868281841278,
          -0.6049157381057739,
          -0.6939318776130676,
          -0.4346041977405548,
          -0.5728437900543213,
          -0.696840763092041,
          -0.7109155654907227,
          -0.7106419205665588,
          -0.5049689412117004,
          -0.5606114864349365,
          -0.6299885511398315
         ],
         "z": [
          -0.35171979665756226,
          -0.29770389199256897,
          0.12904977798461914,
          0.33556705713272095,
          -0.31589075922966003,
          0.15647847950458527,
          -0.014863057062029839,
          -0.033937253057956696,
          -0.11005252599716187,
          0.16866274178028107,
          0.21475514769554138,
          0.18954166769981384,
          -0.39826399087905884,
          0.18538108468055725,
          -0.2514968812465668,
          0.26915550231933594,
          0.08317455649375916,
          0.2622143030166626,
          0.08606996387243271,
          0.09338916093111038,
          0.09612779319286346,
          -0.42849382758140564,
          -0.09127530455589294,
          -0.2596319615840912,
          0.14259684085845947,
          0.0569051131606102,
          -0.2357017546892166,
          0.02768082357943058,
          -0.32142332196235657,
          0.13461442291736603,
          -0.3533032238483429,
          0.0462847501039505,
          0.1929319053888321,
          0.03560453653335571,
          -0.39550551772117615,
          -0.26228541135787964,
          0.21844908595085144,
          -0.22156283259391785,
          0.24008022248744965,
          -0.012125249020755291,
          -0.02648134157061577,
          -0.010266538709402084,
          0.2875654995441437,
          -0.07852234691381454,
          -0.27987030148506165,
          0.14780724048614502,
          0.21753714978694916,
          -0.06860412657260895,
          0.057908643037080765,
          -0.059247806668281555,
          -0.3333204984664917,
          0.035454511642456055,
          -0.1263456791639328,
          -0.2575576901435852,
          -0.295687735080719,
          -0.00046263367403298616,
          -0.10595694184303284,
          0.1862729787826538,
          -0.32347750663757324,
          0.04800334945321083,
          -0.2774924039840698,
          0.0846228078007698,
          0.2387235313653946,
          0.20833607017993927,
          -0.03095882572233677,
          0.22376520931720734,
          0.0947403833270073,
          0.29982203245162964,
          -0.08329378813505173,
          -0.31651225686073303,
          -0.2676917314529419,
          -0.3628855049610138,
          0.24631021916866302,
          0.2968269884586334,
          0.2985832393169403,
          0.11489293724298477,
          -0.051212988793849945,
          0.28086039423942566,
          0.05300483852624893,
          -0.3001066744327545,
          0.27048006653785706,
          -0.21502640843391418,
          0.28436800837516785,
          0.02035757154226303,
          0.22047285735607147,
          -0.18498916923999786,
          -0.3332778215408325,
          0.03446563705801964,
          0.28388237953186035,
          0.1021929606795311,
          -0.060455571860075,
          -0.10972071439027786,
          0.15250065922737122,
          0.08112987130880356,
          -0.3612271845340729,
          0.035575419664382935,
          0.2810000479221344,
          -0.019394148141145706,
          0.2703515887260437,
          0.3319835066795349,
          -0.04528864473104477,
          -0.38752487301826477,
          -0.1925521045923233,
          -0.03977085277438164,
          -0.04368997737765312,
          0.1868189573287964,
          -0.06570054590702057,
          0.13786733150482178,
          0.16974490880966187,
          0.1660262793302536,
          0.09294285625219345,
          -0.03106394037604332,
          -0.3272169828414917,
          -0.28825971484184265,
          -0.10802273452281952,
          0.05126242712140083,
          0.1805531233549118,
          -0.013826893642544746,
          -0.036260247230529785,
          0.021556448191404343,
          0.012091116048395634,
          0.19766178727149963,
          -0.16001835465431213,
          -0.16079260408878326,
          0.030918153002858162,
          -0.3574860692024231,
          -0.07786276191473007,
          -0.1249290183186531,
          -0.04459582269191742,
          -0.03275647759437561,
          -0.09747455269098282,
          0.006784871220588684,
          0.09408511966466904,
          -0.3203873932361603,
          -0.01656615547835827,
          -0.27844753861427307,
          0.16253463923931122,
          -0.018586980178952217,
          -0.2665291130542755,
          0.16336308419704437,
          -0.2742712199687958,
          -0.2908388674259186,
          0.0026936298236250877,
          0.2904279828071594,
          0.14930225908756256,
          -0.17036007344722748,
          0.11373474448919296,
          0.08542052656412125,
          0.04799492284655571,
          0.2958093285560608,
          0.2590174674987793,
          -0.01224127784371376,
          -0.13073456287384033,
          0.18118005990982056,
          -0.11811674386262894,
          -0.058728694915771484,
          0.1999351978302002,
          0.18990851938724518,
          0.026453634724020958,
          -0.3177691102027893,
          -0.025821145623922348,
          0.25209492444992065,
          -0.38241496682167053,
          0.026697218418121338,
          0.24853210151195526,
          -0.14724384248256683,
          0.09993448853492737,
          0.2546004056930542,
          -0.41424310207366943,
          0.2908976674079895,
          0.2349456399679184,
          -0.12364926934242249,
          0.008165175095200539,
          -0.2399733066558838,
          0.03546727076172829,
          0.2210174947977066,
          0.17444384098052979,
          0.07073867321014404,
          0.1752905249595642,
          -0.12018337100744247,
          -0.05097382515668869,
          0.20466920733451843,
          0.1727302074432373,
          -0.33835428953170776,
          0.22405409812927246
         ]
        },
        {
         "customdata": [
          [
           "what cookbooks have good diabetic cookie recipes ?",
           "recip good dessert cooki book",
           25
          ],
          [
           "where are some simple recipes found for a diabetic menu ?",
           "recip good dessert cooki book",
           25
          ],
          [
           "what are some names of some diabetic cook books ?",
           "recip good dessert cooki book",
           25
          ],
          [
           "what are healthy recipes for people with diabetic menus ?",
           "recip good dessert cooki book",
           25
          ],
          [
           "are there good diabetic cake recipes ?",
           "recip good dessert cooki book",
           25
          ],
          [
           "are there any good diabetic recipes books online ?",
           "recip good dessert cooki book",
           25
          ],
          [
           "where are some sample menus that have diabetic recipes ?",
           "recip good dessert cooki book",
           25
          ],
          [
           "what are some good diabetic recipes ?",
           "recip good dessert cooki book",
           25
          ],
          [
           "are there any cook books with suggestions for tasty diabetic foods ?",
           "recip good dessert cooki book",
           25
          ],
          [
           "what are some good dessert recipes for diabetics ?",
           "recip good dessert cooki book",
           25
          ],
          [
           "what are some good diabetic dessert recipes ?",
           "recip good dessert cooki book",
           25
          ],
          [
           "what are typical ingredients in healthy easy recipes for diabetics ?",
           "recip good dessert cooki book",
           25
          ],
          [
           "what are some healthy recipes for the diabetic consumer ?",
           "recip good dessert cooki book",
           25
          ],
          [
           "what are some good diabetic candy recipes ?",
           "recip good dessert cooki book",
           25
          ],
          [
           "what are some low sugar dessert recipes for diabetics ?",
           "recip good dessert cooki book",
           25
          ],
          [
           "what recipes are good for type two diabetes ?",
           "recip good dessert cooki book",
           25
          ],
          [
           "what are some really good <unk> recipes for deserts ?",
           "recip good dessert cooki book",
           25
          ],
          [
           "does anyone know any diabetic snack recipes ?",
           "recip good dessert cooki book",
           25
          ],
          [
           "what are some diabetic desserts ?",
           "recip good dessert cooki book",
           25
          ],
          [
           "what are some good ideas for diabetic meals ?",
           "recip good dessert cooki book",
           25
          ],
          [
           "what dessert recipes are safe for diabetics ?",
           "recip good dessert cooki book",
           25
          ],
          [
           "what are some christmas cookie recipes for diabetics ?",
           "recip good dessert cooki book",
           25
          ],
          [
           "what do i have to know about desserts for diabetics ?",
           "recip good dessert cooki book",
           25
          ],
          [
           "what are some good thanksgiving recipes ?",
           "recip good dessert cooki book",
           25
          ],
          [
           "what are some good diabetic cake recipes ?",
           "recip good dessert cooki book",
           25
          ],
          [
           "what are some good recipes for diabetics to have ?",
           "recip good dessert cooki book",
           25
          ],
          [
           "are there any recipes in diabetic cookbooks for cookies ?",
           "recip good dessert cooki book",
           25
          ],
          [
           "what are good dessert recipe ideas for thanksgiving ?",
           "recip good dessert cooki book",
           25
          ],
          [
           "what are recent books with tasty diabetic food recipes ?",
           "recip good dessert cooki book",
           25
          ],
          [
           "what are some sugar substitutes used in diabetic recipes ?",
           "recip good dessert cooki book",
           25
          ],
          [
           "what are some good tasting diabetic recipes ?",
           "recip good dessert cooki book",
           25
          ],
          [
           "what vegetables are best for a diabetic ?",
           "recip good dessert cooki book",
           25
          ],
          [
           "what are the most used foods in diabetic recipes ?",
           "recip good dessert cooki book",
           25
          ],
          [
           "what are some good diabetic cheesecake recipes ?",
           "recip good dessert cooki book",
           25
          ],
          [
           "are there any diet recipes for diabetics ?",
           "recip good dessert cooki book",
           25
          ],
          [
           "what are some free cookie recipes for diabetics ?",
           "recip good dessert cooki book",
           25
          ],
          [
           "where can a diabetic find sugar free dessert recipes ?",
           "recip good dessert cooki book",
           25
          ],
          [
           "what are the nutritious recipes for diabetic people ?",
           "recip good dessert cooki book",
           25
          ],
          [
           "are there <unk> companies for diabetic meals in <unk> ?",
           "recip good dessert cooki book",
           25
          ],
          [
           "what are some simple dessert recipes for diabetics ?",
           "recip good dessert cooki book",
           25
          ],
          [
           "how are sugar subsitutes used in diabetic dessert recipes ?",
           "recip good dessert cooki book",
           25
          ]
         ],
         "hovertemplate": "summary=%{customdata[1]}<br>pc_1=%{x}<br>pc_2=%{y}<br>pc_3=%{z}<br>question=%{customdata[0]}<br>label=%{customdata[2]}<extra></extra>",
         "legendgroup": "recip good dessert cooki book",
         "marker": {
          "color": "#FF6692",
          "size": 8,
          "symbol": "circle"
         },
         "mode": "markers",
         "name": "recip good dessert cooki book",
         "scene": "scene",
         "showlegend": true,
         "type": "scatter3d",
         "x": [
          -0.9206510782241821,
          -0.8037003874778748,
          -0.7345102429389954,
          -0.771002471446991,
          -0.8812547326087952,
          -0.8675748705863953,
          -0.8024914264678955,
          -0.888935387134552,
          -0.8199299573898315,
          -0.8401551246643066,
          -0.8465490341186523,
          -0.8081567883491516,
          -0.7504674792289734,
          -0.7882453799247742,
          -0.8666868209838867,
          -0.7669388055801392,
          -0.7569242715835571,
          -0.9409502148628235,
          -0.8086671233177185,
          -0.7384024858474731,
          -0.8422242403030396,
          -0.915973424911499,
          -0.708071768283844,
          -0.811110258102417,
          -0.8574689626693726,
          -0.7380604147911072,
          -0.8315737247467041,
          -0.832068145275116,
          -0.774444580078125,
          -0.7772101759910583,
          -0.8525546193122864,
          -0.7091240882873535,
          -0.8222298622131348,
          -0.8754810094833374,
          -0.8274470567703247,
          -0.8946297764778137,
          -0.939525306224823,
          -0.7809233665466309,
          -0.6976817846298218,
          -0.8622272610664368,
          -0.8920198678970337
         ],
         "y": [
          -0.02622945047914982,
          0.1792016625404358,
          0.0506921224296093,
          0.0075074913911521435,
          0.02031346969306469,
          0.10417220741510391,
          0.1412792056798935,
          -0.10768871754407883,
          0.08288084715604782,
          -0.008839203044772148,
          -0.02944403700530529,
          0.05906195193529129,
          0.05962050333619118,
          0.03211160749197006,
          0.02736395224928856,
          0.08829163014888763,
          -0.016689708456397057,
          0.09003234654664993,
          -0.03872894495725632,
          0.02502596378326416,
          0.004009953234344721,
          0.00038497435161843896,
          -0.0625632032752037,
          -0.09372168779373169,
          0.0020465587731450796,
          -0.017628006637096405,
          0.10410220921039581,
          -0.06857717782258987,
          0.07140838354825974,
          0.00881710834801197,
          -0.10132268816232681,
          -0.019873274490237236,
          0.04047355428338051,
          -0.05430128052830696,
          0.09817732870578766,
          0.016132552176713943,
          0.16314074397087097,
          -0.022043200209736824,
          0.05783293396234512,
          -0.01615159772336483,
          0.04611482843756676
         ],
         "z": [
          0.24280524253845215,
          0.25494152307510376,
          0.14903634786605835,
          0.3263023793697357,
          0.17856012284755707,
          0.1766466498374939,
          0.2678186893463135,
          0.19900836050510406,
          0.15285134315490723,
          0.29986846446990967,
          0.23346206545829773,
          0.3202531933784485,
          0.238061785697937,
          0.17865537106990814,
          0.30045032501220703,
          0.37744730710983276,
          0.24510575830936432,
          0.13842186331748962,
          0.18583354353904724,
          0.2721671760082245,
          0.37276172637939453,
          0.33140429854393005,
          0.17906703054904938,
          0.26494908332824707,
          0.20447072386741638,
          0.18995307385921478,
          0.2177066206932068,
          0.2966248393058777,
          0.18963202834129333,
          0.1268089860677719,
          0.208180233836174,
          0.31484124064445496,
          0.23557692766189575,
          0.210067018866539,
          0.3612447679042816,
          0.36533549427986145,
          0.21114017069339752,
          0.3570375144481659,
          0.2624962627887726,
          0.3385506570339203,
          0.26282504200935364
         ]
        },
        {
         "customdata": [
          [
           "what is the average blood glucose level ?",
           "glucos level blood normal rang",
           26
          ],
          [
           "in homeostasis what is blood glucose range between ?",
           "glucos level blood normal rang",
           26
          ],
          [
           "what is the lowest fasting glucose level for a diagnosis of diabetes ?",
           "glucos level blood normal rang",
           26
          ],
          [
           "what type of carbohydrates helps maintains normal glucose levels ?",
           "glucos level blood normal rang",
           26
          ],
          [
           "what does fasting glucose levels mean ?",
           "glucos level blood normal rang",
           26
          ],
          [
           "why is glucose given to a <unk> person ?",
           "glucos level blood normal rang",
           26
          ],
          [
           "do you know the amounts of normal glucose levels ?",
           "glucos level blood normal rang",
           26
          ],
          [
           "what happens if your blood glucose level increases ?",
           "glucos level blood normal rang",
           26
          ],
          [
           "what food is good to maintain a normal glucose level ?",
           "glucos level blood normal rang",
           26
          ],
          [
           "what amount of blood glucose level is normal ?",
           "glucos level blood normal rang",
           26
          ],
          [
           "what glucose levels are considered to be healthy ?",
           "glucos level blood normal rang",
           26
          ],
          [
           "why do you have to keep the blood glucose level within the normal cycle ?",
           "glucos level blood normal rang",
           26
          ],
          [
           "what should my blood glucose level be to be considered normal ?",
           "glucos level blood normal rang",
           26
          ],
          [
           "what is normal glucose levels for diabetic ?",
           "glucos level blood normal rang",
           26
          ],
          [
           "what are normal blood glucose levels for an adult ?",
           "glucos level blood normal rang",
           26
          ],
          [
           "how high is the normal blood glucose concentration of a human throughout the day ?",
           "glucos level blood normal rang",
           26
          ],
          [
           "is seventy a good blood glucose level ?",
           "glucos level blood normal rang",
           26
          ],
          [
           "what will you expect to happen if glucose levels in the blood are low ?",
           "glucos level blood normal rang",
           26
          ],
          [
           "the normal value of glucose per one hundred ml of blood is ?",
           "glucos level blood normal rang",
           26
          ],
          [
           "what is the normal postprandial blood glucose for a human ?",
           "glucos level blood normal rang",
           26
          ],
          [
           "-- -- <unk> the most appropriate <unk> to represent data on blood glucose level of one hundred patient ?",
           "glucos level blood normal rang",
           26
          ],
          [
           "what should a person is blood glucose levels be ?",
           "glucos level blood normal rang",
           26
          ],
          [
           "what organ monitors blood glucose levels ?",
           "glucos level blood normal rang",
           26
          ],
          [
           "what is the normal range of blood glucose ?",
           "glucos level blood normal rang",
           26
          ],
          [
           "what is a normal blood level ?",
           "glucos level blood normal rang",
           26
          ],
          [
           "what glucose level is high for glucosuria ?",
           "glucos level blood normal rang",
           26
          ],
          [
           "is it dangerous to have low glucose levels ?",
           "glucos level blood normal rang",
           26
          ],
          [
           "what is a disease in which blood glucose levels are above normal ?",
           "glucos level blood normal rang",
           26
          ],
          [
           "why is it important it to keep the blood glucose level within the normal range ?",
           "glucos level blood normal rang",
           26
          ],
          [
           "what is a normal glucose level ?",
           "glucos level blood normal rang",
           26
          ],
          [
           "what is the highest recorded blood glucose level ?",
           "glucos level blood normal rang",
           26
          ],
          [
           "glucose level one hundred and eleven ?",
           "glucos level blood normal rang",
           26
          ],
          [
           "normal blood glucose level ?",
           "glucos level blood normal rang",
           26
          ],
          [
           "what is the normal blood glucose levels for a healthy person ?",
           "glucos level blood normal rang",
           26
          ],
          [
           "what is the range of glucose in <unk> ?",
           "glucos level blood normal rang",
           26
          ],
          [
           "what is a normal blood glucose reading ?",
           "glucos level blood normal rang",
           26
          ]
         ],
         "hovertemplate": "summary=%{customdata[1]}<br>pc_1=%{x}<br>pc_2=%{y}<br>pc_3=%{z}<br>question=%{customdata[0]}<br>label=%{customdata[2]}<extra></extra>",
         "legendgroup": "glucos level blood normal rang",
         "marker": {
          "color": "#B6E880",
          "size": 8,
          "symbol": "circle"
         },
         "mode": "markers",
         "name": "glucos level blood normal rang",
         "scene": "scene",
         "showlegend": true,
         "type": "scatter3d",
         "x": [
          0.2718108594417572,
          0.21309322118759155,
          0.08280343562364578,
          0.10049691051244736,
          0.14971096813678741,
          0.20613957941532135,
          0.192569300532341,
          0.21954186260700226,
          0.08912413567304611,
          0.19460323452949524,
          0.11022322624921799,
          0.15907353162765503,
          0.1045166626572609,
          0.14574319124221802,
          0.12544837594032288,
          0.07959610223770142,
          0.10274971276521683,
          0.1887054294347763,
          0.2260192632675171,
          0.17966099083423615,
          0.03797054663300514,
          0.18307000398635864,
          0.3220744729042053,
          0.22491808235645294,
          0.10977642983198166,
          0.147136852145195,
          0.09267373383045197,
          0.1119363009929657,
          0.1544153094291687,
          0.13211581110954285,
          0.2546481788158417,
          -0.00019692709611263126,
          0.1587579995393753,
          0.1483958214521408,
          0.22897842526435852,
          0.13071908056735992
         ],
         "y": [
          -0.6161997318267822,
          -0.5178870558738708,
          -0.4667471945285797,
          -0.5250160694122314,
          -0.4642166197299957,
          -0.7308258414268494,
          -0.5835081338882446,
          -0.6989960670471191,
          -0.5837645530700684,
          -0.5820311307907104,
          -0.6023411750793457,
          -0.5729100704193115,
          -0.613558292388916,
          -0.5525144934654236,
          -0.65932697057724,
          -0.5620107650756836,
          -0.6435677409172058,
          -0.6798382997512817,
          -0.5511046051979065,
          -0.6501913666725159,
          -0.5058364272117615,
          -0.7036142945289612,
          -0.5434392094612122,
          -0.5935215353965759,
          -0.6012331247329712,
          -0.5991197824478149,
          -0.5544231534004211,
          -0.5603368282318115,
          -0.5440775752067566,
          -0.5951229929924011,
          -0.6261019706726074,
          -0.5216628313064575,
          -0.6024008989334106,
          -0.6657849550247192,
          -0.5502442717552185,
          -0.6515920162200928
         ],
         "z": [
          -0.3034672439098358,
          -0.4611727297306061,
          -0.33319318294525146,
          -0.45198145508766174,
          -0.3965015411376953,
          -0.3823789358139038,
          -0.2760610282421112,
          -0.28212422132492065,
          -0.4479183852672577,
          -0.34456688165664673,
          -0.2004004269838333,
          -0.3010951280593872,
          -0.2645139694213867,
          -0.4251830577850342,
          -0.2954525649547577,
          -0.3474714159965515,
          -0.3694416284561157,
          -0.23413217067718506,
          -0.35823506116867065,
          -0.40886813402175903,
          -0.30039122700691223,
          -0.3401462733745575,
          -0.3397913873195648,
          -0.4366476237773895,
          -0.3211570680141449,
          -0.4861035645008087,
          -0.2142971158027649,
          -0.2972123622894287,
          -0.3405613899230957,
          -0.4368637204170227,
          -0.34168970584869385,
          -0.36453986167907715,
          -0.36343806982040405,
          -0.3348674476146698,
          -0.47815704345703125,
          -0.43510690331459045
         ]
        },
        {
         "customdata": [
          [
           "what is the symptoms of diabetics ?",
           "symptom sign common mellitu type",
           2
          ],
          [
           "what are the common diabetes symptoms ?",
           "symptom sign common mellitu type",
           2
          ],
          [
           "what eye problems are symptoms of diabetes ?",
           "symptom sign common mellitu type",
           2
          ],
          [
           "polydipsia and polyuria are symptoms of ?",
           "symptom sign common mellitu type",
           2
          ],
          [
           "what is the metabolic abnormality that <unk> the characteristic symptoms of diabetes mellitus ?",
           "symptom sign common mellitu type",
           2
          ],
          [
           "what are the symptoms of type one diabetes ?",
           "symptom sign common mellitu type",
           2
          ],
          [
           "what are the symptoms and causes of diabetes ?",
           "symptom sign common mellitu type",
           2
          ],
          [
           "what are symptoms of diebetes ?",
           "symptom sign common mellitu type",
           2
          ],
          [
           "what are some signs and symptoms for diabetes ?",
           "symptom sign common mellitu type",
           2
          ],
          [
           "what are the symptoms of diabetes in a dog ?",
           "symptom sign common mellitu type",
           2
          ],
          [
           "what are the symptoms of diabetes mellitus ?",
           "symptom sign common mellitu type",
           2
          ],
          [
           "what are the early signs of diabetes that people tend to miss ?",
           "symptom sign common mellitu type",
           2
          ],
          [
           "what are signs and symptoms for diabetic coma ?",
           "symptom sign common mellitu type",
           2
          ],
          [
           "common diabetes signs ?",
           "symptom sign common mellitu type",
           2
          ],
          [
           "what are some type two diabetes symptoms ?",
           "symptom sign common mellitu type",
           2
          ],
          [
           "what are five symptoms of type two diabetes ?",
           "symptom sign common mellitu type",
           2
          ],
          [
           "what are uncommon symptoms of diabetes ?",
           "symptom sign common mellitu type",
           2
          ],
          [
           "how is a diagnosis of diabetes mellitus confirmed ?",
           "symptom sign common mellitu type",
           2
          ],
          [
           "why do i have signs and symptoms of diabetes mellitus but my diagnostic tests are negative how can i figure out what is wrong ?",
           "symptom sign common mellitu type",
           2
          ],
          [
           "what are two symptoms diabetes mellitus and diabetes insipidus have in common ?",
           "symptom sign common mellitu type",
           2
          ],
          [
           "gestational diabetes symptoms ?",
           "symptom sign common mellitu type",
           2
          ],
          [
           "symptoms of diabetes mellitus ?",
           "symptom sign common mellitu type",
           2
          ],
          [
           "diabetes symptoms ?",
           "symptom sign common mellitu type",
           2
          ],
          [
           "what symptoms does someone with high blood sugar have ?",
           "symptom sign common mellitu type",
           2
          ],
          [
           "what are the signs of pre diabetes ?",
           "symptom sign common mellitu type",
           2
          ],
          [
           "what are the signs of diabetes for type one and two ?",
           "symptom sign common mellitu type",
           2
          ],
          [
           "what are the symptoms of high glucose levels ?",
           "symptom sign common mellitu type",
           2
          ],
          [
           "what are the first signs of childhood diabetes ?",
           "symptom sign common mellitu type",
           2
          ],
          [
           "what are the symptoms of having a hypo when you have got type one diabetes ?",
           "symptom sign common mellitu type",
           2
          ],
          [
           "what are signs of <unk> ?",
           "symptom sign common mellitu type",
           2
          ],
          [
           "what are some common autoimmune disorders and their symptoms ?",
           "symptom sign common mellitu type",
           2
          ],
          [
           "what are the symptoms of hyperglycemia ?",
           "symptom sign common mellitu type",
           2
          ],
          [
           "what are the most <unk> signs of diabetes ?",
           "symptom sign common mellitu type",
           2
          ],
          [
           "what symptoms will i feel for type two diabetes ?",
           "symptom sign common mellitu type",
           2
          ],
          [
           "how severe do diabetes symptoms have to be before you have ?",
           "symptom sign common mellitu type",
           2
          ],
          [
           "what are the symptoms of diabetes in children ?",
           "symptom sign common mellitu type",
           2
          ],
          [
           "what symptoms do horses have with diabetes ?",
           "symptom sign common mellitu type",
           2
          ],
          [
           "what are the symptoms of high blood sugar ?",
           "symptom sign common mellitu type",
           2
          ],
          [
           "what are the different signs to look if you think you may have diabetes ?",
           "symptom sign common mellitu type",
           2
          ],
          [
           "what are classic symptoms of diabetes ?",
           "symptom sign common mellitu type",
           2
          ],
          [
           "what are some of the common diabetic symptoms ?",
           "symptom sign common mellitu type",
           2
          ],
          [
           "common diabetes symptoms ?",
           "symptom sign common mellitu type",
           2
          ],
          [
           "what are common diabetes symptoms in children ?",
           "symptom sign common mellitu type",
           2
          ],
          [
           "what are symptoms of diabetes mellitus ?",
           "symptom sign common mellitu type",
           2
          ],
          [
           "what are some signs of low blood sugar ?",
           "symptom sign common mellitu type",
           2
          ],
          [
           "what are some symptoms of type two diabetes ?",
           "symptom sign common mellitu type",
           2
          ],
          [
           "is nausea and <unk> and back pain symptoms of diabetes ?",
           "symptom sign common mellitu type",
           2
          ],
          [
           "what could be the symptoms of diabetes ?",
           "symptom sign common mellitu type",
           2
          ],
          [
           "what is the most common sign of diabetes ?",
           "symptom sign common mellitu type",
           2
          ],
          [
           "what are the symptoms of mild insulin resistance ?",
           "symptom sign common mellitu type",
           2
          ],
          [
           "can diabetes be detected before the symptoms appear diabetes mellitus ?",
           "symptom sign common mellitu type",
           2
          ],
          [
           "what are some of the most obvious high blood sugar symptoms ?",
           "symptom sign common mellitu type",
           2
          ],
          [
           "what are some signs that a person is suffering from diabetes ?",
           "symptom sign common mellitu type",
           2
          ],
          [
           "what are early signs of diabetes in children ?",
           "symptom sign common mellitu type",
           2
          ],
          [
           "polyuria is a common symptom of diabetes mellitus ?",
           "symptom sign common mellitu type",
           2
          ],
          [
           "does diabetes symptoms come on suddenly ?",
           "symptom sign common mellitu type",
           2
          ],
          [
           "when does a patient with diabetes insipidus begin to suffer symptoms of dehydration ?",
           "symptom sign common mellitu type",
           2
          ],
          [
           "what are the common signs of diabetes ?",
           "symptom sign common mellitu type",
           2
          ],
          [
           "what are the signs and symptoms of type one diabetes ?",
           "symptom sign common mellitu type",
           2
          ],
          [
           "are <unk> cravings a sign of diabetes ?",
           "symptom sign common mellitu type",
           2
          ],
          [
           "what other symptoms are their of diabetes <unk> rise of blood sugar ?",
           "symptom sign common mellitu type",
           2
          ],
          [
           "what are the cardinal symptoms of diabetes <unk> and provide the <unk> for the occurrence of each symptom ?",
           "symptom sign common mellitu type",
           2
          ],
          [
           "what are the symptoms of a sugar rush ?",
           "symptom sign common mellitu type",
           2
          ],
          [
           "what age do the symptoms of diabetes occur ?",
           "symptom sign common mellitu type",
           2
          ],
          [
           "what are the symptoms of high blood sugar in a pregnant woman ?",
           "symptom sign common mellitu type",
           2
          ]
         ],
         "hovertemplate": "summary=%{customdata[1]}<br>pc_1=%{x}<br>pc_2=%{y}<br>pc_3=%{z}<br>question=%{customdata[0]}<br>label=%{customdata[2]}<extra></extra>",
         "legendgroup": "symptom sign common mellitu type",
         "marker": {
          "color": "#FF97FF",
          "size": 8,
          "symbol": "circle"
         },
         "mode": "markers",
         "name": "symptom sign common mellitu type",
         "scene": "scene",
         "showlegend": true,
         "type": "scatter3d",
         "x": [
          0.8221064805984497,
          0.8385019302368164,
          0.8116065263748169,
          0.8738812804222107,
          0.7617711424827576,
          0.7914685606956482,
          0.8277937173843384,
          0.8647860288619995,
          0.9182652831077576,
          0.8373950123786926,
          0.7691723704338074,
          0.9731147289276123,
          0.9427732825279236,
          1,
          0.733921468257904,
          0.7650408148765564,
          0.8365995287895203,
          0.7100061178207397,
          0.7065999507904053,
          0.6980024576187134,
          0.7893483638763428,
          0.7363665103912354,
          0.7669140100479126,
          0.8913499116897583,
          0.9541404843330383,
          0.8035275340080261,
          0.8184673190116882,
          0.8934841752052307,
          0.7856836318969727,
          0.9136905074119568,
          0.8207330107688904,
          0.88472980260849,
          0.9119776487350464,
          0.7567961812019348,
          0.7551722526550293,
          0.8404288291931152,
          0.7520976662635803,
          0.868561863899231,
          0.9358933568000793,
          0.8061316609382629,
          0.8871273398399353,
          0.80121248960495,
          0.8642529249191284,
          0.7367321848869324,
          0.9255751371383667,
          0.7573593854904175,
          0.7157379984855652,
          0.7994995713233948,
          0.9894622564315796,
          0.751484215259552,
          0.7540777325630188,
          0.8984664678573608,
          0.916750967502594,
          0.9450660347938538,
          0.7031182646751404,
          0.8081235289573669,
          0.7604319453239441,
          0.9679675698280334,
          0.8318277597427368,
          0.9719225168228149,
          0.8730935454368591,
          0.691743016242981,
          0.8842717409133911,
          0.8711532950401306,
          0.8740198016166687
         ],
         "y": [
          0.09953174740076065,
          0.1709941029548645,
          0.25343719124794006,
          0.18299828469753265,
          0.10078331083059311,
          0.15263721346855164,
          0.20863167941570282,
          0.15067827701568604,
          0.17235374450683594,
          0.09984777867794037,
          0.11990669369697571,
          0.2574484348297119,
          0.17538395524024963,
          0.18824343383312225,
          0.136704683303833,
          0.1858343780040741,
          0.1797931045293808,
          0.18403922021389008,
          0.2940303087234497,
          0.08767804503440857,
          0.20329411327838898,
          0.13588827848434448,
          0.23603129386901855,
          0.32274025678634644,
          0.2196389138698578,
          0.1728123277425766,
          0.2971135079860687,
          0.20667056739330292,
          0.32494232058525085,
          0.22387591004371643,
          0.1463555246591568,
          0.10582631826400757,
          0.1856514811515808,
          0.23791997134685516,
          0.3096001446247101,
          0.24049827456474304,
          0.2802044749259949,
          0.3038581311702728,
          0.14890097081661224,
          0.21522678434848785,
          0.1710221916437149,
          0.18661677837371826,
          0.20295147597789764,
          0.1892017126083374,
          0.2870701551437378,
          0.1383272260427475,
          0.29821062088012695,
          0.25572288036346436,
          0.14436429738998413,
          0.2302333116531372,
          0.1310786008834839,
          0.29024165868759155,
          0.10670259594917297,
          0.2439897358417511,
          0.10203084349632263,
          0.2788127064704895,
          0.27133870124816895,
          0.17605003714561462,
          0.157205268740654,
          0.1377069056034088,
          0.25454947352409363,
          0.2143440693616867,
          0.3460060656070709,
          0.08376668393611908,
          0.29361337423324585
         ],
         "z": [
          -0.18485048413276672,
          -0.24331636726856232,
          -0.1065235286951065,
          -0.10238496959209442,
          -0.2994146943092346,
          -0.1658085435628891,
          -0.1493520438671112,
          -0.16725513339042664,
          -0.1380992978811264,
          -0.0816308781504631,
          -0.21980920433998108,
          0.06215277686715126,
          -0.17583155632019043,
          -0.068252794444561,
          -0.14889578521251678,
          -0.15259131789207458,
          -0.2032548189163208,
          -0.394528329372406,
          -0.34197112917900085,
          -0.36823299527168274,
          -0.3772333860397339,
          -0.3331197500228882,
          -0.32326221466064453,
          -0.23892810940742493,
          -0.01016179658472538,
          -0.060232013463974,
          -0.21590089797973633,
          0.025435609742999077,
          -0.3191254436969757,
          -0.040715496987104416,
          -0.32221364974975586,
          -0.17173095047473907,
          -0.019959937781095505,
          -0.20026490092277527,
          -0.39876052737236023,
          -0.3358485698699951,
          -0.3326830565929413,
          -0.21619382500648499,
          -0.09162544459104538,
          -0.20309777557849884,
          -0.22431719303131104,
          -0.2957724332809448,
          -0.3282507061958313,
          -0.3375667631626129,
          -0.1124810054898262,
          -0.1261831820011139,
          -0.26206138730049133,
          -0.3140375018119812,
          -0.02152169682085514,
          -0.2760266363620758,
          -0.3983801007270813,
          -0.1568365842103958,
          -0.05170103535056114,
          0.08506501466035843,
          -0.29628676176071167,
          -0.4181033968925476,
          -0.42957639694213867,
          -0.0369565412402153,
          -0.11396763473749161,
          0.03067203238606453,
          -0.17984437942504883,
          -0.3103666305541992,
          -0.16511264443397522,
          -0.2671760618686676,
          -0.3225347399711609
         ]
        },
        {
         "customdata": [
          [
           "what are the normal glucose levels of a forty year old male ?",
           "normal level sugar blood year",
           23
          ],
          [
           "what is a normal glucose level for a woman in her thirty is ?",
           "normal level sugar blood year",
           23
          ],
          [
           "what is a blood sugar range that is safe for someone over the age of thirty ?",
           "normal level sugar blood year",
           23
          ],
          [
           "what is the average life expectancy for a diabetic male ?",
           "normal level sugar blood year",
           23
          ],
          [
           "what is the normal blood sugar level for a fourteen year old girl ?",
           "normal level sugar blood year",
           23
          ],
          [
           "what is the normal glucose level in a six year old ?",
           "normal level sugar blood year",
           23
          ],
          [
           "what does the term baseline sugar or sugar baseline mean and how is it determined for a diabetic or just a normal person ?",
           "normal level sugar blood year",
           23
          ],
          [
           "what is the normal fasting blood sugar level for a fifty year old woman ?",
           "normal level sugar blood year",
           23
          ],
          [
           "how can a person make sure their blood sugar is at a normal level ?",
           "normal level sugar blood year",
           23
          ],
          [
           "what is the normal blood sugar level for a woman in her forty ' ?",
           "normal level sugar blood year",
           23
          ],
          [
           "what is the average blood sugar level for an adult woman ?",
           "normal level sugar blood year",
           23
          ],
          [
           "what is a normal sugar level for twenty year old ?",
           "normal level sugar blood year",
           23
          ],
          [
           "what is the healthy normal blood sugar range for a person who is predisposed to diabetes ?",
           "normal level sugar blood year",
           23
          ],
          [
           "what is the normal cholesterol level for a female age <unk> ?",
           "normal level sugar blood year",
           23
          ],
          [
           "what is the normal blood sugar level for a child ?",
           "normal level sugar blood year",
           23
          ],
          [
           "what is the normal blood sugar level for a thirteen year old ?",
           "normal level sugar blood year",
           23
          ]
         ],
         "hovertemplate": "summary=%{customdata[1]}<br>pc_1=%{x}<br>pc_2=%{y}<br>pc_3=%{z}<br>question=%{customdata[0]}<br>label=%{customdata[2]}<extra></extra>",
         "legendgroup": "normal level sugar blood year",
         "marker": {
          "color": "#FECB52",
          "size": 8,
          "symbol": "circle"
         },
         "mode": "markers",
         "name": "normal level sugar blood year",
         "scene": "scene",
         "showlegend": true,
         "type": "scatter3d",
         "x": [
          0.035822369158267975,
          0.10087406635284424,
          0.030504286289215088,
          0.0750146135687828,
          0.03328054025769234,
          0.022724099457263947,
          0.15533341467380524,
          0.03874541446566582,
          0.12383181601762772,
          0.08400499075651169,
          0.08918656408786774,
          -0.007942570373415947,
          0.07116017490625381,
          0.0932224914431572,
          0.07333577424287796,
          0.0075502824038267136
         ],
         "y": [
          -0.7955753803253174,
          -0.7490447163581848,
          -0.8489569425582886,
          -0.8986555933952332,
          -0.8196360468864441,
          -0.7480460405349731,
          -0.8161724805831909,
          -0.7825520634651184,
          -0.8121883273124695,
          -0.7797186374664307,
          -0.8703317642211914,
          -0.8501150608062744,
          -0.8695452809333801,
          -0.87126624584198,
          -0.8254289627075195,
          -0.8165078163146973
         ],
         "z": [
          -0.5136893391609192,
          -0.48229658603668213,
          -0.36193424463272095,
          -0.49806132912635803,
          -0.45830821990966797,
          -0.5105634927749634,
          -0.36087217926979065,
          -0.4330346882343292,
          -0.3574991226196289,
          -0.4547690749168396,
          -0.4044899344444275,
          -0.4663751721382141,
          -0.32112881541252136,
          -0.4615172743797302,
          -0.37396514415740967,
          -0.4359041750431061
         ]
        },
        {
         "customdata": [
          [
           "can diabetics have sugar alcohol ?",
           "drink sugar alcohol type beer",
           3
          ],
          [
           "how can dark chocolate help diabetics ?",
           "drink sugar alcohol type beer",
           3
          ],
          [
           "<unk> or white sugar which is <unk> for a diabetic ?",
           "drink sugar alcohol type beer",
           3
          ],
          [
           "is sugar free <unk> ok to drink with type two diabetes ?",
           "drink sugar alcohol type beer",
           3
          ],
          [
           "is there any sugar in diabetic cookies ?",
           "drink sugar alcohol type beer",
           3
          ],
          [
           "can diabetics drink <unk> ?",
           "drink sugar alcohol type beer",
           3
          ],
          [
           "should a diabetic have coffee ?",
           "drink sugar alcohol type beer",
           3
          ],
          [
           "is sugar in toothpaste a danger for diabetics ?",
           "drink sugar alcohol type beer",
           3
          ],
          [
           "is sugar free candy still bad for a diabetic ?",
           "drink sugar alcohol type beer",
           3
          ],
          [
           "can diabetics drink <unk> ?",
           "drink sugar alcohol type beer",
           3
          ],
          [
           "diabetics and alcohol consumption ?",
           "drink sugar alcohol type beer",
           3
          ],
          [
           "is there diabetic beer ?",
           "drink sugar alcohol type beer",
           3
          ],
          [
           "what alcohol drink is good for a diabetic ?",
           "drink sugar alcohol type beer",
           3
          ],
          [
           "do diabetics need to drink water when they spill ketones ?",
           "drink sugar alcohol type beer",
           3
          ],
          [
           "what alcohol drinks are safe for diabetics ?",
           "drink sugar alcohol type beer",
           3
          ],
          [
           "what can diabetics drink ?",
           "drink sugar alcohol type beer",
           3
          ],
          [
           "is blush wine high in sugar ?",
           "drink sugar alcohol type beer",
           3
          ],
          [
           "how many carbs are there in <unk> is pale ale ?",
           "drink sugar alcohol type beer",
           3
          ],
          [
           "should a diabetic drink alcohol ?",
           "drink sugar alcohol type beer",
           3
          ],
          [
           "can diabetic drink beer ?",
           "drink sugar alcohol type beer",
           3
          ],
          [
           "can a diabetic drink dark navy rum ?",
           "drink sugar alcohol type beer",
           3
          ],
          [
           "can a diabetic drink slim fast with <unk> of sugar ?",
           "drink sugar alcohol type beer",
           3
          ],
          [
           "can diabetic drink wine ?",
           "drink sugar alcohol type beer",
           3
          ],
          [
           "can you drink alcohol with type one diabetes ?",
           "drink sugar alcohol type beer",
           3
          ],
          [
           "can diabetics drink the nutrient drink ensure ?",
           "drink sugar alcohol type beer",
           3
          ],
          [
           "why is beer good ?",
           "drink sugar alcohol type beer",
           3
          ],
          [
           "best lager to drink if your a diabetic ?",
           "drink sugar alcohol type beer",
           3
          ],
          [
           "can a person with diabetes smell of alcohol ?",
           "drink sugar alcohol type beer",
           3
          ],
          [
           "what are some alcoholic beverages or mixed drinks that are safe for type two diabetics ?",
           "drink sugar alcohol type beer",
           3
          ],
          [
           "can artificial sweeteners raise a diabetic is blood sugar ?",
           "drink sugar alcohol type beer",
           3
          ]
         ],
         "hovertemplate": "summary=%{customdata[1]}<br>pc_1=%{x}<br>pc_2=%{y}<br>pc_3=%{z}<br>question=%{customdata[0]}<br>label=%{customdata[2]}<extra></extra>",
         "legendgroup": "drink sugar alcohol type beer",
         "marker": {
          "color": "#636efa",
          "size": 8,
          "symbol": "circle"
         },
         "mode": "markers",
         "name": "drink sugar alcohol type beer",
         "scene": "scene",
         "showlegend": true,
         "type": "scatter3d",
         "x": [
          -0.33963868021965027,
          -0.43699920177459717,
          -0.5817091464996338,
          -0.28330814838409424,
          -0.5673626065254211,
          -0.3758343458175659,
          -0.518227756023407,
          -0.5323363542556763,
          -0.551482617855072,
          -0.36222362518310547,
          -0.35366275906562805,
          -0.449861079454422,
          -0.422229140996933,
          -0.3341696262359619,
          -0.34545254707336426,
          -0.3885147273540497,
          -0.4735756516456604,
          -0.47477662563323975,
          -0.40967753529548645,
          -0.4253818988800049,
          -0.4526759684085846,
          -0.5113319158554077,
          -0.40317824482917786,
          -0.32592254877090454,
          -0.38678601384162903,
          -0.4521055817604065,
          -0.46826615929603577,
          -0.3505405783653259,
          -0.3798367381095886,
          -0.5723558664321899
         ],
         "y": [
          -0.2866605520248413,
          -0.24541017413139343,
          -0.2764796316623688,
          -0.2837102711200714,
          -0.23168829083442688,
          -0.29083988070487976,
          -0.2724746763706207,
          -0.20136085152626038,
          -0.23398956656455994,
          -0.26330849528312683,
          -0.23876850306987762,
          -0.2398214042186737,
          -0.3242494761943817,
          -0.17742367088794708,
          -0.19792340695858002,
          -0.2334948182106018,
          -0.4076816439628601,
          -0.19403135776519775,
          -0.33106788992881775,
          -0.2740215063095093,
          -0.28979820013046265,
          -0.2741786539554596,
          -0.23925185203552246,
          -0.2910313308238983,
          -0.2167898565530777,
          -0.3539842963218689,
          -0.3313343822956085,
          -0.3176908791065216,
          -0.17942138016223907,
          -0.3273378610610962
         ],
         "z": [
          0.0017158199334517121,
          -0.06276917457580566,
          0.029123201966285706,
          0.08565595746040344,
          -0.028728924691677094,
          -0.04744989052414894,
          0.1381971836090088,
          0.0400758758187294,
          0.027549803256988525,
          -0.040084075182676315,
          0.059561293572187424,
          0.08260568976402283,
          0.07592159509658813,
          -0.03465256467461586,
          0.09159273654222488,
          -0.05782504379749298,
          0.07484667748212814,
          0.1040852963924408,
          0.03955429419875145,
          0.04076799750328064,
          -0.009617725387215614,
          0.018877476453781128,
          0.047978196293115616,
          0.0951467975974083,
          0.020200572907924652,
          0.11827441304922104,
          0.0498887300491333,
          0.1254216730594635,
          0.08633427321910858,
          -0.025297490879893303
         ]
        },
        {
         "customdata": [
          [
           "is <unk> safe for diabetics ?",
           "eat good fruit patient safe",
           8
          ],
          [
           "is v8 juice good for diabetics ?",
           "eat good fruit patient safe",
           8
          ],
          [
           "can diabetic person eat apricot ?",
           "eat good fruit patient safe",
           8
          ],
          [
           "can diabetics eat <unk> ?",
           "eat good fruit patient safe",
           8
          ],
          [
           "is cinnamon good for people with diabetes ?",
           "eat good fruit patient safe",
           8
          ],
          [
           "is it possible for anyone with diabetes to be healthy and not use insulin ?",
           "eat good fruit patient safe",
           8
          ],
          [
           "what can you eat while you are diabetic and pregnant ?",
           "eat good fruit patient safe",
           8
          ],
          [
           "is it safe for diabetics to drink aspartame ?",
           "eat good fruit patient safe",
           8
          ],
          [
           "can you be hospitalized for diabetics ?",
           "eat good fruit patient safe",
           8
          ],
          [
           "is <unk> good for diabetics ?",
           "eat good fruit patient safe",
           8
          ],
          [
           "can you eat watermelon if you are diabetic ?",
           "eat good fruit patient safe",
           8
          ],
          [
           "can diabetics eat plums ?",
           "eat good fruit patient safe",
           8
          ],
          [
           "what are carbs ?",
           "eat good fruit patient safe",
           8
          ],
          [
           "can diabetics eat rice ?",
           "eat good fruit patient safe",
           8
          ],
          [
           "should diabetics eat any sugar ?",
           "eat good fruit patient safe",
           8
          ],
          [
           "can a diabetic patient eat dates ?",
           "eat good fruit patient safe",
           8
          ],
          [
           "infertility for diabetics ?",
           "eat good fruit patient safe",
           8
          ],
          [
           "can a diabetic patent eat sago ?",
           "eat good fruit patient safe",
           8
          ],
          [
           "is it safe to fast for <unk> reasons with type two diabetes ?",
           "eat good fruit patient safe",
           8
          ],
          [
           "can a diabetic eat almonds ?",
           "eat good fruit patient safe",
           8
          ],
          [
           "can eating <unk> if you are diabetic harmful ?",
           "eat good fruit patient safe",
           8
          ],
          [
           "can you eat cream crackers if you are diabetic ?",
           "eat good fruit patient safe",
           8
          ],
          [
           "how many sugars should a diabetic have at one meal ?",
           "eat good fruit patient safe",
           8
          ],
          [
           "can a diabetic patient eat watermelon ?",
           "eat good fruit patient safe",
           8
          ],
          [
           "can diabetes <unk> eat <unk> fruit ?",
           "eat good fruit patient safe",
           8
          ],
          [
           "can diabetic patients eat <unk> ?",
           "eat good fruit patient safe",
           8
          ],
          [
           "is walking good for diabetics ?",
           "eat good fruit patient safe",
           8
          ],
          [
           "can diabetes type two patients eat mangoes ?",
           "eat good fruit patient safe",
           8
          ],
          [
           "are oranges good for diabetic people ?",
           "eat good fruit patient safe",
           8
          ],
          [
           "should <unk> be prescribed to diabetics ?",
           "eat good fruit patient safe",
           8
          ],
          [
           "what happens if you are diabetic and you eat candy ?",
           "eat good fruit patient safe",
           8
          ],
          [
           "can diabetics donate a kidney ?",
           "eat good fruit patient safe",
           8
          ],
          [
           "are there any vitamins specifically for diabetics ?",
           "eat good fruit patient safe",
           8
          ],
          [
           "is onion good for diabetic ?",
           "eat good fruit patient safe",
           8
          ],
          [
           "why does a doctor tell diabetics not to drink ?",
           "eat good fruit patient safe",
           8
          ],
          [
           "what type of cereal can diabetics eat ?",
           "eat good fruit patient safe",
           8
          ],
          [
           "is guava a good fruit for diabetes ?",
           "eat good fruit patient safe",
           8
          ],
          [
           "is cinnamon good for diabetics ?",
           "eat good fruit patient safe",
           8
          ],
          [
           "is beetroot bad for diabetics ?",
           "eat good fruit patient safe",
           8
          ],
          [
           "if you are diabetic what foods should you avoid ?",
           "eat good fruit patient safe",
           8
          ],
          [
           "is <unk> good for diabetics ?",
           "eat good fruit patient safe",
           8
          ],
          [
           "can diabetics wax ?",
           "eat good fruit patient safe",
           8
          ],
          [
           "can diabetics eat <unk> rice ?",
           "eat good fruit patient safe",
           8
          ],
          [
           "is mango harmful for diabetics ?",
           "eat good fruit patient safe",
           8
          ],
          [
           "what bread is healthiest for diabetics ?",
           "eat good fruit patient safe",
           8
          ],
          [
           "can a diabetic eat <unk> potatoes ?",
           "eat good fruit patient safe",
           8
          ],
          [
           "can you eat sugar free jello before blood test ?",
           "eat good fruit patient safe",
           8
          ],
          [
           "what is a good <unk> for diabetics to use for sore feet ?",
           "eat good fruit patient safe",
           8
          ],
          [
           "can lactulose be given to diabetics ?",
           "eat good fruit patient safe",
           8
          ],
          [
           "diabetic snack ideas ?",
           "eat good fruit patient safe",
           8
          ],
          [
           "are fruits and honey bad for diabetes ?",
           "eat good fruit patient safe",
           8
          ],
          [
           "can diabetics take <unk> <unk> ?",
           "eat good fruit patient safe",
           8
          ],
          [
           "is wheat bread ok to eat for diabetics ?",
           "eat good fruit patient safe",
           8
          ],
          [
           "i am a diabetic patient can i live consuming alone fruits ?",
           "eat good fruit patient safe",
           8
          ],
          [
           "is it safe for diabetics to use steroids ?",
           "eat good fruit patient safe",
           8
          ],
          [
           "does <unk> has an effect in diabetics ?",
           "eat good fruit patient safe",
           8
          ],
          [
           "are there commercially available ready to eat foods for diabetics ?",
           "eat good fruit patient safe",
           8
          ],
          [
           "can people with diabetes have bananas ?",
           "eat good fruit patient safe",
           8
          ],
          [
           "can a sugar solution be used for diabetes ?",
           "eat good fruit patient safe",
           8
          ],
          [
           "how many days can you <unk> your papaya from fruit set ?",
           "eat good fruit patient safe",
           8
          ],
          [
           "can diabetic patient eat banana ?",
           "eat good fruit patient safe",
           8
          ],
          [
           "is this safe for diabetic to use ?",
           "eat good fruit patient safe",
           8
          ],
          [
           "what is the difference between candy and diabetic candy ?",
           "eat good fruit patient safe",
           8
          ],
          [
           "can a diabetic person can eat apple ?",
           "eat good fruit patient safe",
           8
          ],
          [
           "can diabetics use an <unk> sauna ?",
           "eat good fruit patient safe",
           8
          ],
          [
           "are dry fruits good for diabetics ?",
           "eat good fruit patient safe",
           8
          ],
          [
           "can honey make you diabetic ?",
           "eat good fruit patient safe",
           8
          ],
          [
           "is fruits containing sugar bad for diabetic patients ?",
           "eat good fruit patient safe",
           8
          ],
          [
           "is pineapple good for diabetics ?",
           "eat good fruit patient safe",
           8
          ],
          [
           "can <unk> iodine safe as an <unk> agent on diabetics ?",
           "eat good fruit patient safe",
           8
          ],
          [
           "are tomatoes good for diabetes ?",
           "eat good fruit patient safe",
           8
          ],
          [
           "are bananas good for diabetics ?",
           "eat good fruit patient safe",
           8
          ],
          [
           "is penicillin for diabetics ?",
           "eat good fruit patient safe",
           8
          ],
          [
           "can diabetics eat foods with garlic ?",
           "eat good fruit patient safe",
           8
          ],
          [
           "is it bad for diabetics to eat rice ?",
           "eat good fruit patient safe",
           8
          ],
          [
           "can type-1 diabetics donate sperm ?",
           "eat good fruit patient safe",
           8
          ],
          [
           "can water melon can be eaten by diabetic ?",
           "eat good fruit patient safe",
           8
          ],
          [
           "what are good carbohydrates for diabetics ?",
           "eat good fruit patient safe",
           8
          ],
          [
           "what food can a diabetic eat ?",
           "eat good fruit patient safe",
           8
          ],
          [
           "is it illegal for diabetics to eat sugar ?",
           "eat good fruit patient safe",
           8
          ],
          [
           "is mutton good for diabetic ?",
           "eat good fruit patient safe",
           8
          ],
          [
           "what should a diabetic avoid to eat ?",
           "eat good fruit patient safe",
           8
          ],
          [
           "what are good diabetic products to use for diabetics ?",
           "eat good fruit patient safe",
           8
          ],
          [
           "safe for diabetics to take <unk> chocolate candy ?",
           "eat good fruit patient safe",
           8
          ],
          [
           "is <unk> <unk> vitamin good for diabetics ?",
           "eat good fruit patient safe",
           8
          ],
          [
           "what kind of pasta a diabetic person should eat ?",
           "eat good fruit patient safe",
           8
          ],
          [
           "what foods should a diabetic eat ?",
           "eat good fruit patient safe",
           8
          ],
          [
           "what fruit can you eat that does not have starch or sugar ?",
           "eat good fruit patient safe",
           8
          ],
          [
           "what to eat as a diabetic ?",
           "eat good fruit patient safe",
           8
          ],
          [
           "can diabetic eat papaya ?",
           "eat good fruit patient safe",
           8
          ],
          [
           "can diabetics eat peaches ?",
           "eat good fruit patient safe",
           8
          ],
          [
           "are black olives good for diabetics ?",
           "eat good fruit patient safe",
           8
          ],
          [
           "insulin-dependent diabetics depend upon what microorganisms ?",
           "eat good fruit patient safe",
           8
          ],
          [
           "if i have diabetes can i have fruit ?",
           "eat good fruit patient safe",
           8
          ],
          [
           "can diabetic people have carrots ?",
           "eat good fruit patient safe",
           8
          ],
          [
           "what kinds of fruit can a diabetic eat ?",
           "eat good fruit patient safe",
           8
          ],
          [
           "is <unk> shrimp okay for diabetics ?",
           "eat good fruit patient safe",
           8
          ],
          [
           "can a diabetic pregnant woman eat almonds and pasta ?",
           "eat good fruit patient safe",
           8
          ],
          [
           "whether diabetic patients can eat oats ?",
           "eat good fruit patient safe",
           8
          ],
          [
           "is london dry gin good for a diabetic ?",
           "eat good fruit patient safe",
           8
          ],
          [
           "which nuts and beans can eat for diabetic person ?",
           "eat good fruit patient safe",
           8
          ],
          [
           "are there any fresh fruits and veggies that are off limits to diabetics ?",
           "eat good fruit patient safe",
           8
          ],
          [
           "what kinds of food can diabetics not eat ?",
           "eat good fruit patient safe",
           8
          ],
          [
           "is <unk> <unk> safe for type two diabetics ?",
           "eat good fruit patient safe",
           8
          ],
          [
           "can a diabetic patients have honey ?",
           "eat good fruit patient safe",
           8
          ],
          [
           "is whiskey safe for diabetic ?",
           "eat good fruit patient safe",
           8
          ],
          [
           "can diabetics eat white plain flour ?",
           "eat good fruit patient safe",
           8
          ],
          [
           "what kinds of vegetables can a diabetic eat ?",
           "eat good fruit patient safe",
           8
          ],
          [
           "can diabetics eat peanuts ?",
           "eat good fruit patient safe",
           8
          ],
          [
           "should a diabetic eat fresh mango ?",
           "eat good fruit patient safe",
           8
          ],
          [
           "you are a diabetic can you still eat potatoes ?",
           "eat good fruit patient safe",
           8
          ],
          [
           "can a diabetic eat cake ?",
           "eat good fruit patient safe",
           8
          ],
          [
           "are <unk> suitable for diabetics ?",
           "eat good fruit patient safe",
           8
          ],
          [
           "can a diabetic patient eat <unk> - seeds ?",
           "eat good fruit patient safe",
           8
          ],
          [
           "can a diabetic take honey ?",
           "eat good fruit patient safe",
           8
          ],
          [
           "is <unk> safe for diabetics ?",
           "eat good fruit patient safe",
           8
          ],
          [
           "is <unk> good for diabetics ?",
           "eat good fruit patient safe",
           8
          ],
          [
           "can sixty five year old diabetic eat <unk> and almonds ?",
           "eat good fruit patient safe",
           8
          ],
          [
           "is honey dew melon and <unk> bad for diabetes ?",
           "eat good fruit patient safe",
           8
          ],
          [
           "can diabetic patients eat sweet corn ?",
           "eat good fruit patient safe",
           8
          ],
          [
           "can diabetics take royal jelly ?",
           "eat good fruit patient safe",
           8
          ],
          [
           "should a diabetic not eat fruit ?",
           "eat good fruit patient safe",
           8
          ],
          [
           "which fruit diabetic patients can eat <unk> ?",
           "eat good fruit patient safe",
           8
          ],
          [
           "what fruits can a diabetic have ?",
           "eat good fruit patient safe",
           8
          ],
          [
           "can a diabetic consume honey ?",
           "eat good fruit patient safe",
           8
          ],
          [
           "what animals would serve as the best sources of insulin to be used for treating diabetics ?",
           "eat good fruit patient safe",
           8
          ]
         ],
         "hovertemplate": "summary=%{customdata[1]}<br>pc_1=%{x}<br>pc_2=%{y}<br>pc_3=%{z}<br>question=%{customdata[0]}<br>label=%{customdata[2]}<extra></extra>",
         "legendgroup": "eat good fruit patient safe",
         "marker": {
          "color": "#EF553B",
          "size": 8,
          "symbol": "circle"
         },
         "mode": "markers",
         "name": "eat good fruit patient safe",
         "scene": "scene",
         "showlegend": true,
         "type": "scatter3d",
         "x": [
          -0.39232099056243896,
          -0.47729358077049255,
          -0.5713655352592468,
          -0.4988870918750763,
          -0.3578762114048004,
          -0.27743270993232727,
          -0.4347706735134125,
          -0.4742942452430725,
          -0.26271671056747437,
          -0.4326384961605072,
          -0.659685492515564,
          -0.4778684675693512,
          -0.4548489451408386,
          -0.534508228302002,
          -0.5213679671287537,
          -0.4902760684490204,
          -0.33797866106033325,
          -0.43586400151252747,
          -0.3101963400840759,
          -0.5359917283058167,
          -0.6517487168312073,
          -0.6595425605773926,
          -0.6806654334068298,
          -0.5750941038131714,
          -0.49915289878845215,
          -0.5044810175895691,
          -0.4172745943069458,
          -0.4896995723247528,
          -0.5139343738555908,
          -0.2835182547569275,
          -0.7026896476745605,
          -0.35627052187919617,
          -0.506264865398407,
          -0.394546240568161,
          -0.3133287727832794,
          -0.5872706770896912,
          -0.38535022735595703,
          -0.4385443925857544,
          -0.3748089075088501,
          -0.7137251496315002,
          -0.42097607254981995,
          -0.29659503698349,
          -0.5528998374938965,
          -0.42710649967193604,
          -0.5599439740180969,
          -0.6030722260475159,
          -0.516259491443634,
          -0.3820446729660034,
          -0.30509576201438904,
          -0.7434616088867188,
          -0.4092518091201782,
          -0.26304295659065247,
          -0.5578718185424805,
          -0.43989098072052,
          -0.2974473237991333,
          -0.3336019217967987,
          -0.5353394150733948,
          -0.4396071434020996,
          -0.31163647770881653,
          -0.5367522835731506,
          -0.4892581105232239,
          -0.31949684023857117,
          -0.7338742017745972,
          -0.5914339423179626,
          -0.24047303199768066,
          -0.4351276755332947,
          -0.33647143840789795,
          -0.3914521038532257,
          -0.35849958658218384,
          -0.30009883642196655,
          -0.36694252490997314,
          -0.4398379921913147,
          -0.3239681124687195,
          -0.5676824450492859,
          -0.5141528248786926,
          -0.3942493796348572,
          -0.4369701147079468,
          -0.4470558166503906,
          -0.7083341479301453,
          -0.5028443336486816,
          -0.3916490375995636,
          -0.689296543598175,
          -0.36005666851997375,
          -0.5293163061141968,
          -0.3856056332588196,
          -0.6892564296722412,
          -0.6992515325546265,
          -0.48423898220062256,
          -0.7200579643249512,
          -0.46445709466934204,
          -0.43703722953796387,
          -0.4077620208263397,
          -0.29033058881759644,
          -0.4108039438724518,
          -0.575900673866272,
          -0.6458261609077454,
          -0.4653959572315216,
          -0.5374395847320557,
          -0.4973205626010895,
          -0.4030779004096985,
          -0.5255842804908752,
          -0.4605051577091217,
          -0.6214525699615479,
          -0.3439951539039612,
          -0.3959363102912903,
          -0.3456280827522278,
          -0.5861969590187073,
          -0.6565840244293213,
          -0.5405048727989197,
          -0.6117050051689148,
          -0.632276177406311,
          -0.5706319808959961,
          -0.39284706115722656,
          -0.5269372463226318,
          -0.4721560776233673,
          -0.4039224088191986,
          -0.4243599474430084,
          -0.5153840780258179,
          -0.3952231705188751,
          -0.548065185546875,
          -0.2617829442024231,
          -0.6025381684303284,
          -0.5088745355606079,
          -0.6138828992843628,
          -0.5054785013198853,
          -0.2750561535358429
         ],
         "y": [
          -0.03899061307311058,
          -0.03753317892551422,
          -0.09236831218004227,
          0.045988522469997406,
          0.0248586293309927,
          0.01102087926119566,
          0.05915199592709541,
          -0.050962142646312714,
          -0.11979226022958755,
          -0.0793575569987297,
          -0.07007168233394623,
          0.08857930451631546,
          0.06514590233564377,
          0.09768637269735336,
          0.03277929127216339,
          -0.03561001643538475,
          0.06436357647180557,
          -0.019136780872941017,
          0.031555503606796265,
          -0.06508518755435944,
          -0.06180203706026077,
          -0.0950826033949852,
          0.06772050261497498,
          -0.04318975284695625,
          0.15695098042488098,
          0.029949931427836418,
          -0.11402104794979095,
          0.1049710288643837,
          -0.09777023643255234,
          -0.06937351077795029,
          -0.09074471890926361,
          0.06311620026826859,
          0.08251900970935822,
          -0.05034136399626732,
          -0.12909682095050812,
          0.1353132426738739,
          0.087434783577919,
          -0.06839676201343536,
          0.02942614257335663,
          -0.032213255763053894,
          -0.019696861505508423,
          -0.0748254656791687,
          0.08938484638929367,
          0.03649013116955757,
          -0.0037743602879345417,
          -0.019479766488075256,
          -0.19319677352905273,
          -0.15600727498531342,
          -0.06922338157892227,
          0.1431485414505005,
          0.15597301721572876,
          -0.0943761020898819,
          0.09426404535770416,
          0.09587179124355316,
          -0.05798828601837158,
          0.0842427983880043,
          0.1083507165312767,
          0.038586072623729706,
          0.02169598452746868,
          0.13620004057884216,
          0.011584708467125893,
          -0.04607149213552475,
          -0.12355231493711472,
          -0.10063893347978592,
          -0.001176343415863812,
          0.11559602618217468,
          -0.0004328913346398622,
          0.0014519412070512772,
          0.017678486183285713,
          0.04059303551912308,
          0.12657630443572998,
          0.06178456172347069,
          0.031306106597185135,
          0.10498703271150589,
          0.10042891651391983,
          0.09358683973550797,
          -0.02172999642789364,
          0.02970212697982788,
          0.10317166894674301,
          -0.024953261017799377,
          -0.047572061419487,
          -0.0002722063800320029,
          -0.04208818078041077,
          -0.06566232442855835,
          -0.021465016528964043,
          0.06610923260450363,
          0.13089995086193085,
          0.20038466155529022,
          0.0053854030556976795,
          0.038203734904527664,
          0.050326939672231674,
          0.10425909608602524,
          0.11083558201789856,
          0.15896648168563843,
          0.045160580426454544,
          0.07158631086349487,
          -0.029246237128973007,
          -0.005416483618319035,
          0.05171333998441696,
          -0.10438776761293411,
          0.006018561311066151,
          0.16057784855365753,
          0.13576121628284454,
          0.012442762963473797,
          -0.06693460047245026,
          -0.07525485008955002,
          0.04049643501639366,
          0.09621109813451767,
          0.039038702845573425,
          0.02850359119474888,
          -0.02952105738222599,
          -0.0430060550570488,
          -6.206118268892169e-05,
          -0.01573370397090912,
          -0.1120106652379036,
          -0.051049795001745224,
          -0.03748195618391037,
          -0.09545237571001053,
          0.1956624984741211,
          0.06632941961288452,
          -0.04248977452516556,
          0.003919807728379965,
          0.048901885747909546,
          0.0947321280837059,
          -0.09690506756305695,
          -0.02654806710779667
         ],
         "z": [
          0.2640334963798523,
          0.10924927145242691,
          -0.22288627922534943,
          -0.09121767431497574,
          -0.0156306941062212,
          0.21787835657596588,
          -0.24886253476142883,
          0.013970252126455307,
          0.07824790477752686,
          0.17040765285491943,
          -0.26724034547805786,
          -0.1065332219004631,
          0.19319330155849457,
          -0.08553272485733032,
          -0.005306122824549675,
          -0.2506295144557953,
          0.150122731924057,
          -0.1923576146364212,
          0.24126985669136047,
          -0.20022708177566528,
          -0.31669488549232483,
          -0.23299846053123474,
          -0.010558762587606907,
          -0.28129318356513977,
          -0.14667265117168427,
          -0.32961809635162354,
          0.207015722990036,
          -0.1904546618461609,
          0.19700321555137634,
          0.11594127863645554,
          -0.26859328150749207,
          -0.19861124455928802,
          0.11225461959838867,
          -0.056581269949674606,
          -0.02433444745838642,
          -0.07323019206523895,
          -0.01188318245112896,
          0.07683990895748138,
          0.07816639542579651,
          -0.22637559473514557,
          0.11179953813552856,
          -0.01318912860006094,
          -0.0629546195268631,
          0.026727018877863884,
          0.2120116800069809,
          -0.22241805493831635,
          -0.2646230161190033,
          0.2224283516407013,
          0.045826129615306854,
          -0.12862595915794373,
          0.01340852864086628,
          0.004529757425189018,
          0.006466205697506666,
          -0.3179689347743988,
          0.2236487865447998,
          -0.09474273025989532,
          0.05545138567686081,
          -0.015272928401827812,
          0.01637795940041542,
          -0.2552860677242279,
          -0.21756602823734283,
          0.1843988299369812,
          -0.28096869587898254,
          -0.18044450879096985,
          0.05373426154255867,
          0.05577465891838074,
          -0.11774095147848129,
          -0.107017882168293,
          -0.06277750432491302,
          -0.09740838408470154,
          0.018036015331745148,
          0.07236011326313019,
          0.13955125212669373,
          -0.1664317548274994,
          -0.028846513479948044,
          -0.1553604006767273,
          -0.28484031558036804,
          0.15344448387622833,
          -0.07639630883932114,
          -0.01761258766055107,
          -0.018253998830914497,
          -0.11081268638372421,
          0.11943067610263824,
          -0.014167471788823605,
          0.06286965310573578,
          -0.10351848602294922,
          -0.11687278747558594,
          -0.16401611268520355,
          -0.09644652903079987,
          -0.19232721626758575,
          -0.14471890032291412,
          0.1035357415676117,
          0.1543584167957306,
          -0.042157694697380066,
          -0.31481531262397766,
          -0.20190134644508362,
          0.2194669544696808,
          -0.2188016176223755,
          -0.25940170884132385,
          -0.037195153534412384,
          -0.16125105321407318,
          0.016892999410629272,
          -0.11795379221439362,
          0.2184651643037796,
          -0.11320651322603226,
          0.18454501032829285,
          -0.046105142682790756,
          -0.17952801287174225,
          -0.071998231112957,
          -0.14823034405708313,
          -0.24849830567836761,
          -0.180978924036026,
          0.20440968871116638,
          -0.2936902642250061,
          -0.172291100025177,
          0.2933383584022522,
          0.13683705031871796,
          -0.25622373819351196,
          0.03225330263376236,
          -0.21885928511619568,
          -0.03673575818538666,
          -0.12661556899547577,
          -0.20837797224521637,
          -0.2728410065174103,
          -0.17693690955638885,
          0.14506271481513977
         ]
        },
        {
         "customdata": [
          [
           "is blood sugar a hormone ?",
           "blood level glucos sugar insulin",
           11
          ],
          [
           "how does insulin controls blood sugar levels ?",
           "blood level glucos sugar insulin",
           11
          ],
          [
           "what does insulin do to blood glucose levels ?",
           "blood level glucos sugar insulin",
           11
          ],
          [
           "is it true that when blood glucose levels rise insulin is released by the <unk> to lower the level ?",
           "blood level glucos sugar insulin",
           11
          ],
          [
           "glucagon is secreted by which glands ?",
           "blood level glucos sugar insulin",
           11
          ],
          [
           "what endocrine gland produces insulin ?",
           "blood level glucos sugar insulin",
           11
          ],
          [
           "what happens when hormones that control sugar levels in the body does not work properly ?",
           "blood level glucos sugar insulin",
           11
          ],
          [
           "what <unk> venom <unk> a drug that controls blood sugar levels ?",
           "blood level glucos sugar insulin",
           11
          ],
          [
           "does the pancreas control blood sugar levels ?",
           "blood level glucos sugar insulin",
           11
          ],
          [
           "why do you monitor blood glucose levels with diabetes mellitus ?",
           "blood level glucos sugar insulin",
           11
          ],
          [
           "when blood sugar levels drop what happens to the insulin and glucagon levels ?",
           "blood level glucos sugar insulin",
           11
          ],
          [
           "what is the <unk> that causes blood glucose levels to increase ?",
           "blood level glucos sugar insulin",
           11
          ],
          [
           "what does insulin do to blood glucose ?",
           "blood level glucos sugar insulin",
           11
          ],
          [
           "how long to lower glucose levels ?",
           "blood level glucos sugar insulin",
           11
          ],
          [
           "what condition affects insulin levels ?",
           "blood level glucos sugar insulin",
           11
          ],
          [
           "what is ther organ that secretes insulin and glucagon target tissues ?",
           "blood level glucos sugar insulin",
           11
          ],
          [
           "which gland produces glucagon ?",
           "blood level glucos sugar insulin",
           11
          ],
          [
           "what hormone increases blood glucose ?",
           "blood level glucos sugar insulin",
           11
          ],
          [
           "rbc production is regulated by what hormone ?",
           "blood level glucos sugar insulin",
           11
          ],
          [
           "do you check your glucose levels ?",
           "blood level glucos sugar insulin",
           11
          ],
          [
           "how type one diabetic can control the glucose content of the blood ?",
           "blood level glucos sugar insulin",
           11
          ],
          [
           "what if your blood glucose is six . <unk> should you administer insulin ?",
           "blood level glucos sugar insulin",
           11
          ],
          [
           "<unk> easy explain how glucagon and insulin work together to maintain a relatively constant blood sugar level ?",
           "blood level glucos sugar insulin",
           11
          ],
          [
           "what can reduce blood glucose levels immediately ?",
           "blood level glucos sugar insulin",
           11
          ],
          [
           "what is the hormone that lowers blood sugar levels is ?",
           "blood level glucos sugar insulin",
           11
          ],
          [
           "which endocrine gland regulates blood sugar levels ?",
           "blood level glucos sugar insulin",
           11
          ],
          [
           "what causes low glucose levels ?",
           "blood level glucos sugar insulin",
           11
          ],
          [
           "what hormone produced in inadequate amounts causes excessive diuresis without high blood glucose levels ?",
           "blood level glucos sugar insulin",
           11
          ],
          [
           "does an insulin pump help regulate blood sugar levels in type i diabetics ?",
           "blood level glucos sugar insulin",
           11
          ],
          [
           "what organ controls blood sugar ?",
           "blood level glucos sugar insulin",
           11
          ],
          [
           "which hormone reduce the level of glucose in blood ?",
           "blood level glucos sugar insulin",
           11
          ],
          [
           "blood urea nitrogen range ?",
           "blood level glucos sugar insulin",
           11
          ],
          [
           "regulates blood glucose levels ?",
           "blood level glucos sugar insulin",
           11
          ],
          [
           "what hormone controls amount of sugar in the blood ?",
           "blood level glucos sugar insulin",
           11
          ],
          [
           "what hormone controls the supply of sugar from the blood to the muscles ?",
           "blood level glucos sugar insulin",
           11
          ],
          [
           "what two organs dont need insulin to breakdown down glucose ?",
           "blood level glucos sugar insulin",
           11
          ],
          [
           "which rising blood serum levels of what substances stimulates the release of insulin ?",
           "blood level glucos sugar insulin",
           11
          ],
          [
           "what is the endocrine gland that controls the levels of sugar in your blood ?",
           "blood level glucos sugar insulin",
           11
          ],
          [
           "how does insulin and glucagon maintain sugar level ?",
           "blood level glucos sugar insulin",
           11
          ]
         ],
         "hovertemplate": "summary=%{customdata[1]}<br>pc_1=%{x}<br>pc_2=%{y}<br>pc_3=%{z}<br>question=%{customdata[0]}<br>label=%{customdata[2]}<extra></extra>",
         "legendgroup": "blood level glucos sugar insulin",
         "marker": {
          "color": "#00cc96",
          "size": 8,
          "symbol": "circle"
         },
         "mode": "markers",
         "name": "blood level glucos sugar insulin",
         "scene": "scene",
         "showlegend": true,
         "type": "scatter3d",
         "x": [
          0.27009207010269165,
          0.32199639081954956,
          0.26982367038726807,
          0.18394482135772705,
          0.35531318187713623,
          0.42978331446647644,
          0.39726313948631287,
          0.3161563575267792,
          0.35586294531822205,
          0.25688591599464417,
          0.26141640543937683,
          0.14001724123954773,
          0.29476919770240784,
          0.15431101620197296,
          0.22221413254737854,
          0.4031032919883728,
          0.3687649071216583,
          0.2700045108795166,
          0.45715659856796265,
          0.2021753489971161,
          0.2570229768753052,
          0.33840152621269226,
          0.22402319312095642,
          0.15431036055088043,
          0.2951001822948456,
          0.37878480553627014,
          0.16509592533111572,
          0.19232794642448425,
          0.31873223185539246,
          0.38057857751846313,
          0.2353554368019104,
          0.22656282782554626,
          0.3059466779232025,
          0.3466093838214874,
          0.3823068141937256,
          0.3170279562473297,
          0.2479892075061798,
          0.37208735942840576,
          0.2960861027240753
         ],
         "y": [
          -0.39747247099876404,
          -0.41993793845176697,
          -0.46350812911987305,
          -0.3579426407814026,
          -0.26691657304763794,
          -0.2869674265384674,
          -0.4250200092792511,
          -0.37640097737312317,
          -0.4335496425628662,
          -0.5686851143836975,
          -0.4177263081073761,
          -0.46185654401779175,
          -0.4941539466381073,
          -0.4995538592338562,
          -0.4667971432209015,
          -0.2826462686061859,
          -0.2829413414001465,
          -0.42155003547668457,
          -0.3738393783569336,
          -0.5635603666305542,
          -0.5585267543792725,
          -0.5453771352767944,
          -0.45624691247940063,
          -0.49991706013679504,
          -0.3693481385707855,
          -0.3452065885066986,
          -0.4225318729877472,
          -0.34694650769233704,
          -0.40674155950546265,
          -0.46253156661987305,
          -0.40683040022850037,
          -0.47425299882888794,
          -0.49565795063972473,
          -0.40172138810157776,
          -0.4225597679615021,
          -0.5110839605331421,
          -0.3647824227809906,
          -0.39017006754875183,
          -0.43160879611968994
         ],
         "z": [
          -0.3292871415615082,
          -0.15444660186767578,
          -0.1777457594871521,
          -0.21155866980552673,
          -0.3428480625152588,
          -0.31985095143318176,
          -0.14113010466098785,
          -0.18656538426876068,
          -0.17439159750938416,
          -0.1812925487756729,
          -0.14583884179592133,
          -0.26340681314468384,
          -0.16975189745426178,
          -0.14988933503627777,
          -0.17494307458400726,
          -0.2601434886455536,
          -0.31039127707481384,
          -0.2417144924402237,
          -0.27372249960899353,
          -0.23781438171863556,
          -0.10403060913085938,
          -0.1740628480911255,
          -0.08184605836868286,
          -0.22590501606464386,
          -0.28830331563949585,
          -0.32107144594192505,
          -0.2922517955303192,
          -0.14897149801254272,
          -0.09407036751508713,
          -0.22144955396652222,
          -0.22943711280822754,
          -0.2663912773132324,
          -0.2855647802352905,
          -0.24798505008220673,
          -0.2694891095161438,
          -0.11934410780668259,
          -0.22857891023159027,
          -0.3224499225616455,
          -0.05448230728507042
         ]
        },
        {
         "customdata": [
          [
           "how many people have diabetes ?",
           "peopl mani uk everi number",
           27
          ],
          [
           "are people with diabetes eligible for medicaid in texas ?",
           "peopl mani uk everi number",
           27
          ],
          [
           "how many people have type one diabetes in th uk ?",
           "peopl mani uk everi number",
           27
          ],
          [
           "how many peoples day from diabetes in america ?",
           "peopl mani uk everi number",
           27
          ],
          [
           "how many people in the uk has diabetes ?",
           "peopl mani uk everi number",
           27
          ],
          [
           "how many people are diagnosed with diabetes every year ?",
           "peopl mani uk everi number",
           27
          ],
          [
           "what percentage of americans have diabetes ?",
           "peopl mani uk everi number",
           27
          ],
          [
           "is the number of people worldwide who have diabetes increasing ?",
           "peopl mani uk everi number",
           27
          ],
          [
           "how many people in uk suffer with diabetes ?",
           "peopl mani uk everi number",
           27
          ],
          [
           "in every ten people how many have diabetes ?",
           "peopl mani uk everi number",
           27
          ],
          [
           "how many people currently have diabetes in canada ?",
           "peopl mani uk everi number",
           27
          ],
          [
           "how many diabetics patients in <unk> ?",
           "peopl mani uk everi number",
           27
          ],
          [
           "what does the number seven mean in diabetics ?",
           "peopl mani uk everi number",
           27
          ],
          [
           "what percent of the worlds population are diabetic ?",
           "peopl mani uk everi number",
           27
          ],
          [
           "how many people in canada have diabetes ?",
           "peopl mani uk everi number",
           27
          ],
          [
           "how many people have heart disease in the us ?",
           "peopl mani uk everi number",
           27
          ],
          [
           "who criteria for <unk> in diabetes ?",
           "peopl mani uk everi number",
           27
          ]
         ],
         "hovertemplate": "summary=%{customdata[1]}<br>pc_1=%{x}<br>pc_2=%{y}<br>pc_3=%{z}<br>question=%{customdata[0]}<br>label=%{customdata[2]}<extra></extra>",
         "legendgroup": "peopl mani uk everi number",
         "marker": {
          "color": "#ab63fa",
          "size": 8,
          "symbol": "circle"
         },
         "mode": "markers",
         "name": "peopl mani uk everi number",
         "scene": "scene",
         "showlegend": true,
         "type": "scatter3d",
         "x": [
          0.11958742886781693,
          -0.03466050326824188,
          0.04636336863040924,
          0.07921901345252991,
          0.04013630002737045,
          0.14499767124652863,
          -0.051403358578681946,
          -0.014424454420804977,
          0.043171823024749756,
          0.09721589833498001,
          0.013368222862482071,
          0.09589618444442749,
          -0.04332369565963745,
          -0.030546505004167557,
          0.07986218482255936,
          0.02024863287806511,
          -0.044212378561496735
         ],
         "y": [
          0.6212193965911865,
          0.6990410685539246,
          0.6667752861976624,
          0.7142800688743591,
          0.6590054035186768,
          0.6772522330284119,
          0.634952187538147,
          0.6616008281707764,
          0.591571569442749,
          0.6630124449729919,
          0.640014111995697,
          0.6222411394119263,
          0.6601847410202026,
          0.702994704246521,
          0.6399890780448914,
          0.5676751732826233,
          0.6053714752197266
         ],
         "z": [
          -0.09787265211343765,
          -0.21804557740688324,
          -0.2026650607585907,
          -0.127304807305336,
          -0.14568574726581573,
          -0.14995360374450684,
          -0.14049705862998962,
          -0.1771567165851593,
          -0.17324407398700714,
          -0.16189247369766235,
          -0.15583765506744385,
          -0.03513364866375923,
          -0.09137805551290512,
          -0.13059230148792267,
          -0.12890127301216125,
          -0.11177188158035278,
          -0.21391341090202332
         ]
        },
        {
         "customdata": [
          [
           "did nick <unk> have diabetes ?",
           "nick jona get cure ever",
           4
          ],
          [
           "can you move to canada from the uk with diabetes ?",
           "nick jona get cure ever",
           4
          ],
          [
           "can you survive without knowing you have diabetes ?",
           "nick jona get cure ever",
           4
          ],
          [
           "are there any proven diabetes cures ?",
           "nick jona get cure ever",
           4
          ],
          [
           "what does flu do to teen with diabetes ?",
           "nick jona get cure ever",
           4
          ],
          [
           "who did nick jonas give his diabetes necklace to ?",
           "nick jona get cure ever",
           4
          ],
          [
           "when a person who has diabetes has difficulty producing what ?",
           "nick jona get cure ever",
           4
          ],
          [
           "where did the word diabetes <unk> ?",
           "nick jona get cure ever",
           4
          ],
          [
           "does david <unk> have diabetes ?",
           "nick jona get cure ever",
           4
          ],
          [
           "did <unk> <unk> have diabetes ?",
           "nick jona get cure ever",
           4
          ],
          [
           "how did nick jonas develop diabetes ?",
           "nick jona get cure ever",
           4
          ],
          [
           "does honey cause diabetes ?",
           "nick jona get cure ever",
           4
          ],
          [
           "is nick jonas diabetes getting worse ?",
           "nick jona get cure ever",
           4
          ],
          [
           "do schnauzer have diabetes ?",
           "nick jona get cure ever",
           4
          ],
          [
           "does the <unk> change with diabetes ?",
           "nick jona get cure ever",
           4
          ],
          [
           "if a parent has diabetes is it likely the baby will have diabetes ?",
           "nick jona get cure ever",
           4
          ],
          [
           "what is nick jonas is diabetes song ?",
           "nick jona get cure ever",
           4
          ],
          [
           "can the <unk> have diabetes ?",
           "nick jona get cure ever",
           4
          ],
          [
           "what are the side effects of tetanus vaccination in adults ?",
           "nick jona get cure ever",
           4
          ],
          [
           "does everyone have diabetes ?",
           "nick jona get cure ever",
           4
          ],
          [
           "how many disney channel stars have diabetes ?",
           "nick jona get cure ever",
           4
          ],
          [
           "use of psyllium <unk> in diabetes and <unk> ?",
           "nick jona get cure ever",
           4
          ],
          [
           "did elvis <unk> have diabetes ?",
           "nick jona get cure ever",
           4
          ],
          [
           "can fish have diabetes ?",
           "nick jona get cure ever",
           4
          ],
          [
           "who <unk> diabetes ?",
           "nick jona get cure ever",
           4
          ],
          [
           "does michael phelps have diabetes ?",
           "nick jona get cure ever",
           4
          ],
          [
           "when did jay cutler <unk> he has diabetes ?",
           "nick jona get cure ever",
           4
          ],
          [
           "can liver disease heal its self if the person stops drinking ?",
           "nick jona get cure ever",
           4
          ],
          [
           "how old was nick jonas when he got diabetes ?",
           "nick jona get cure ever",
           4
          ],
          [
           "what year did sonia sotomayor have one type of diabetes ?",
           "nick jona get cure ever",
           4
          ],
          [
           "do mice have diabetes ?",
           "nick jona get cure ever",
           4
          ],
          [
           "does your <unk> itch when you have diabetes ?",
           "nick jona get cure ever",
           4
          ],
          [
           "did miley cyrus break up with nick jonas because nick had diabetes ?",
           "nick jona get cure ever",
           4
          ],
          [
           "is nick jonas okay with having diabetes ?",
           "nick jona get cure ever",
           4
          ],
          [
           "does alan rickman have diabetes ?",
           "nick jona get cure ever",
           4
          ],
          [
           "diabetes and <unk> ?",
           "nick jona get cure ever",
           4
          ],
          [
           "is lil boosie diabetic ?",
           "nick jona get cure ever",
           4
          ],
          [
           "can you have hyperglycemia without diabetes ?",
           "nick jona get cure ever",
           4
          ],
          [
           "<unk> of the jonas brothers has diabetes and is it special needs ?",
           "nick jona get cure ever",
           4
          ],
          [
           "does <unk> <unk> <unk> h have diabetes ?",
           "nick jona get cure ever",
           4
          ],
          [
           "can dibeties be cured ?",
           "nick jona get cure ever",
           4
          ],
          [
           "what kind of diabetes <unk> nick jonas have ?",
           "nick jona get cure ever",
           4
          ],
          [
           "this does not mean y ?",
           "nick jona get cure ever",
           4
          ],
          [
           "does nick jonas really have diabetes ?",
           "nick jona get cure ever",
           4
          ],
          [
           "has anyone actually reversed type two diabetes ?",
           "nick jona get cure ever",
           4
          ],
          [
           "can nick jonas get rid of his diabetes ?",
           "nick jona get cure ever",
           4
          ],
          [
           "does lil boosie have diabetes ?",
           "nick jona get cure ever",
           4
          ],
          [
           "which <unk> have diabetes ?",
           "nick jona get cure ever",
           4
          ],
          [
           "who started the american diabetes association ?",
           "nick jona get cure ever",
           4
          ],
          [
           "what disease does pandan leave cure ?",
           "nick jona get cure ever",
           4
          ],
          [
           "where did diabetes get its name ?",
           "nick jona get cure ever",
           4
          ],
          [
           "do you have to accept the <unk> diabetes test ?",
           "nick jona get cure ever",
           4
          ],
          [
           "can <unk> make you have diabetes ?",
           "nick jona get cure ever",
           4
          ],
          [
           "can you ski with diabetes ?",
           "nick jona get cure ever",
           4
          ],
          [
           "are service animals used to help humans with diabetes ?",
           "nick jona get cure ever",
           4
          ],
          [
           "did thomas <unk> have diabetes ?",
           "nick jona get cure ever",
           4
          ],
          [
           "is it nick jonas diabetic ?",
           "nick jona get cure ever",
           4
          ],
          [
           "diabetes bracelet ?",
           "nick jona get cure ever",
           4
          ],
          [
           "how can diabetes be detected ?",
           "nick jona get cure ever",
           4
          ],
          [
           "how is diabetes passed on ?",
           "nick jona get cure ever",
           4
          ],
          [
           "can diabetes be beat ?",
           "nick jona get cure ever",
           4
          ],
          [
           "who get diabetes ?",
           "nick jona get cure ever",
           4
          ],
          [
           "can you have diabetes and not know that you have it ?",
           "nick jona get cure ever",
           4
          ],
          [
           "will wheat grass help your diabetes ?",
           "nick jona get cure ever",
           4
          ],
          [
           "what are the chances of gettin diabetes if your dad had diabetes ?",
           "nick jona get cure ever",
           4
          ],
          [
           "does jason <unk> have diabetes ?",
           "nick jona get cure ever",
           4
          ],
          [
           "did nick jonas ever have diabetes ?",
           "nick jona get cure ever",
           4
          ],
          [
           "both big toes and <unk> feel like they <unk> up with novacaine it never goes away you are not fat or diabetic ?",
           "nick jona get cure ever",
           4
          ],
          [
           "are ther any <unk> with diabetes ?",
           "nick jona get cure ever",
           4
          ],
          [
           "do diabetes lead to cancer ?",
           "nick jona get cure ever",
           4
          ],
          [
           "what is the name of the plant from <unk> that has reportedly cured some cases of diabetes ?",
           "nick jona get cure ever",
           4
          ],
          [
           "can diabetes spread through diabetes tester ?",
           "nick jona get cure ever",
           4
          ],
          [
           "does steve redgrave have diabetes ?",
           "nick jona get cure ever",
           4
          ],
          [
           "did nick jonas ever throw up blood from diabetes ?",
           "nick jona get cure ever",
           4
          ],
          [
           "did miley cyrus break up with nick jonas because he had diabetes ?",
           "nick jona get cure ever",
           4
          ],
          [
           "does nick jonas have <unk> diabetes ' or diabetes ?",
           "nick jona get cure ever",
           4
          ],
          [
           "how did nick get diabetes ?",
           "nick jona get cure ever",
           4
          ],
          [
           "why does your child sweat excessively and <unk> ?",
           "nick jona get cure ever",
           4
          ],
          [
           "does reliv diabetes ?",
           "nick jona get cure ever",
           4
          ],
          [
           "what animal can turn diabetes on and off ?",
           "nick jona get cure ever",
           4
          ],
          [
           "does anyone else have diabeties ?",
           "nick jona get cure ever",
           4
          ],
          [
           "who can contract diabetes ?",
           "nick jona get cure ever",
           4
          ],
          [
           "where did diabetes first start ?",
           "nick jona get cure ever",
           4
          ],
          [
           "why did the pima <unk> have diabetes ?",
           "nick jona get cure ever",
           4
          ],
          [
           "did nick jonas ever throw up from diabetes ?",
           "nick jona get cure ever",
           4
          ],
          [
           "who was the founder of diabetes ?",
           "nick jona get cure ever",
           4
          ],
          [
           "which <unk> sister has diabetes ?",
           "nick jona get cure ever",
           4
          ]
         ],
         "hovertemplate": "summary=%{customdata[1]}<br>pc_1=%{x}<br>pc_2=%{y}<br>pc_3=%{z}<br>question=%{customdata[0]}<br>label=%{customdata[2]}<extra></extra>",
         "legendgroup": "nick jona get cure ever",
         "marker": {
          "color": "#FFA15A",
          "size": 8,
          "symbol": "circle"
         },
         "mode": "markers",
         "name": "nick jona get cure ever",
         "scene": "scene",
         "showlegend": true,
         "type": "scatter3d",
         "x": [
          -0.1832844763994217,
          -0.10186617821455002,
          -0.09449619054794312,
          -0.06552506238222122,
          -0.03650214523077011,
          -0.1997060924768448,
          -0.07176965475082397,
          -0.10036589205265045,
          -0.2581676244735718,
          -0.2276865839958191,
          -0.12465453892946243,
          -0.26287195086479187,
          -0.21058940887451172,
          -0.26519548892974854,
          -0.048997942358255386,
          -0.1810360997915268,
          -0.16005243360996246,
          -0.021812671795487404,
          0.00750255910679698,
          -0.2106480896472931,
          -0.17211204767227173,
          -0.14900630712509155,
          -0.1242745965719223,
          -0.12508133053779602,
          -0.06268781423568726,
          -0.12950673699378967,
          -0.10321543365716934,
          -0.14621718227863312,
          -0.08786402642726898,
          -0.06299354881048203,
          -0.17718634009361267,
          -0.024091333150863647,
          -0.1792525053024292,
          -0.14743764698505402,
          -0.19937442243099213,
          -0.0578070804476738,
          -0.2727181017398834,
          -0.08091890811920166,
          -0.1380215883255005,
          -0.14740681648254395,
          -0.12530310451984406,
          -0.10769252479076385,
          -0.20609408617019653,
          -0.2002384215593338,
          -0.23542708158493042,
          -0.19329746067523956,
          -0.2423376888036728,
          -0.18239887058734894,
          -0.05745784193277359,
          -0.13938748836517334,
          -0.1069110780954361,
          -0.1290149986743927,
          -0.05625564604997635,
          -0.036450307816267014,
          -0.19716723263263702,
          -0.23098215460777283,
          -0.12150406092405319,
          -0.12504839897155762,
          -0.03684088960289955,
          -0.025151174515485764,
          -0.06551926583051682,
          -0.051344193518161774,
          -0.0686374381184578,
          -0.16551697254180908,
          -0.20487850904464722,
          -0.1700938194990158,
          -0.17417745292186737,
          -0.07752608507871628,
          -0.08433040231466293,
          -0.10275150090456009,
          -0.17439433932304382,
          -0.058816809207201004,
          -0.1670691817998886,
          -0.12091294676065445,
          -0.20676615834236145,
          -0.1733199506998062,
          -0.1623760461807251,
          0.0172014981508255,
          -0.07158330827951431,
          0.02091788314282894,
          -0.24281617999076843,
          -0.0914463922381401,
          -0.10299649834632874,
          -0.26104938983917236,
          -0.1460563838481903,
          -0.038965146988630295,
          -0.11921902000904083
         ],
         "y": [
          0.5402793884277344,
          0.1517496556043625,
          0.2613629698753357,
          0.28009510040283203,
          0.3688770532608032,
          0.5484179258346558,
          0.5111678838729858,
          0.29009106755256653,
          0.6181183457374573,
          0.49521109461784363,
          0.7014964818954468,
          0.3010943830013275,
          0.6640660762786865,
          0.47502565383911133,
          0.31594112515449524,
          0.3566066026687622,
          0.6293127536773682,
          0.2827833890914917,
          0.30909353494644165,
          0.42012226581573486,
          0.49291282892227173,
          0.2325858175754547,
          0.36221933364868164,
          0.22733847796916962,
          0.4412235915660858,
          0.4491618871688843,
          0.47587183117866516,
          0.25781476497650146,
          0.5626010894775391,
          0.41771262884140015,
          0.3314380943775177,
          0.29020562767982483,
          0.6020916700363159,
          0.532476007938385,
          0.37892186641693115,
          0.2504613697528839,
          0.3711499869823456,
          0.31532153487205505,
          0.39694711565971375,
          0.3609442710876465,
          0.31139615178108215,
          0.5194340348243713,
          0.29263824224472046,
          0.6272674202919006,
          0.3835611641407013,
          0.6701570153236389,
          0.3743151128292084,
          0.39074382185935974,
          0.40588876605033875,
          0.2883446514606476,
          0.30508551001548767,
          0.13819830119609833,
          0.25316187739372253,
          0.17827895283699036,
          0.28826016187667847,
          0.5525767207145691,
          0.5821183323860168,
          0.23576374351978302,
          0.1803804636001587,
          0.21038663387298584,
          0.16253861784934998,
          0.4375406503677368,
          0.2267390787601471,
          0.19723522663116455,
          0.4749898910522461,
          0.4642118811607361,
          0.5736188888549805,
          0.17551438510417938,
          0.2359858900308609,
          0.28692251443862915,
          0.28233620524406433,
          0.20041155815124512,
          0.40487709641456604,
          0.62726891040802,
          0.6028628349304199,
          0.5890887975692749,
          0.7498526573181152,
          0.30664512515068054,
          0.28539618849754333,
          0.2824406325817108,
          0.4080815017223358,
          0.4519825577735901,
          0.3610017001628876,
          0.4863942861557007,
          0.629050612449646,
          0.6330483555793762,
          0.36023589968681335
         ],
         "z": [
          -0.4235649108886719,
          -0.2045186311006546,
          -0.024326352402567863,
          -0.1366904079914093,
          -0.3089440166950226,
          -0.5141923427581787,
          -0.38930103182792664,
          -0.41080158948898315,
          -0.41737887263298035,
          -0.38420823216438293,
          -0.41079702973365784,
          -0.30343183875083923,
          -0.3811992108821869,
          -0.3411329388618469,
          -0.23737643659114838,
          -0.4980210065841675,
          -0.32912468910217285,
          -0.054473817348480225,
          -0.4046008586883545,
          -0.2953776717185974,
          -0.4489913582801819,
          -0.3285854458808899,
          -0.3853015601634979,
          -0.14496120810508728,
          -0.24911202490329742,
          -0.345419704914093,
          -0.4568595290184021,
          -0.044754479080438614,
          -0.44640788435935974,
          -0.38139083981513977,
          -0.36637237668037415,
          -0.3217128813266754,
          -0.5387619733810425,
          -0.29737725853919983,
          -0.43030697107315063,
          -0.26418665051460266,
          -0.4776376783847809,
          -0.02602384053170681,
          -0.22210413217544556,
          -0.3200170397758484,
          -0.11332092434167862,
          -0.41484731435775757,
          -0.43829745054244995,
          -0.4222899377346039,
          -0.34774744510650635,
          -0.47266966104507446,
          -0.4585437774658203,
          -0.3199567496776581,
          -0.20653443038463593,
          -0.17658333480358124,
          -0.3084891736507416,
          -0.3195728659629822,
          -0.038240205496549606,
          0.01009985338896513,
          -0.1319151073694229,
          -0.39245009422302246,
          -0.37028759717941284,
          -0.2861110270023346,
          -0.37944579124450684,
          -0.2652350962162018,
          -0.24411892890930176,
          -0.281669557094574,
          -0.06562057137489319,
          -0.13947170972824097,
          -0.2786828875541687,
          -0.36102229356765747,
          -0.4433162212371826,
          -0.1046842634677887,
          -0.17032967507839203,
          -0.21872344613075256,
          -0.2314206212759018,
          -0.32536810636520386,
          -0.40740838646888733,
          -0.46875637769699097,
          -0.5420309901237488,
          -0.3955020606517792,
          -0.42723411321640015,
          -0.3427051305770874,
          -0.27459487318992615,
          -0.27089938521385193,
          -0.25302019715309143,
          -0.29525676369667053,
          -0.43309521675109863,
          -0.4178307056427002,
          -0.4850802719593048,
          -0.35786303877830505,
          -0.2669447362422943
         ]
        },
        {
         "customdata": [
          [
           "a healthy diet plan for african american with diabetes ?",
           "diet plan healthi african american",
           39
          ],
          [
           "where can i find ideas for diabetes diet foods ?",
           "diet plan healthi african american",
           39
          ],
          [
           "diabetes diet meal plan ?",
           "diet plan healthi african american",
           39
          ]
         ],
         "hovertemplate": "summary=%{customdata[1]}<br>pc_1=%{x}<br>pc_2=%{y}<br>pc_3=%{z}<br>question=%{customdata[0]}<br>label=%{customdata[2]}<extra></extra>",
         "legendgroup": "diet plan healthi african american",
         "marker": {
          "color": "#19d3f3",
          "size": 8,
          "symbol": "circle"
         },
         "mode": "markers",
         "name": "diet plan healthi african american",
         "scene": "scene",
         "showlegend": true,
         "type": "scatter3d",
         "x": [
          -0.5372802019119263,
          -0.5625497102737427,
          -0.5899370908737183
         ],
         "y": [
          0.32966652512550354,
          0.3792235255241394,
          0.29938679933547974
         ],
         "z": [
          0.23681862652301788,
          0.3182380497455597,
          0.2679690718650818
         ]
        },
        {
         "customdata": [
          [
           "how do you develop diabetes two ?",
           "get type one know two",
           9
          ],
          [
           "how to reverse diabetes ?",
           "get type one know two",
           9
          ],
          [
           "how you can diagnosis diabete ?",
           "get type one know two",
           9
          ],
          [
           "how do you know if you are type one diabetes ?",
           "get type one know two",
           9
          ],
          [
           "what can treat diabetes ?",
           "get type one know two",
           9
          ],
          [
           "how does one get diabetes ?",
           "get type one know two",
           9
          ],
          [
           "can you get rid of type two diabetes ?",
           "get type one know two",
           9
          ],
          [
           "how do you get diabetes type one ?",
           "get type one know two",
           9
          ],
          [
           "why do you pee when you have diabetes ?",
           "get type one know two",
           9
          ],
          [
           "how do you get type three diabetes ?",
           "get type one know two",
           9
          ],
          [
           "how can you get rid of diabetes ?",
           "get type one know two",
           9
          ],
          [
           "what kind of doctor should you see if you think you have diabetes ?",
           "get type one know two",
           9
          ],
          [
           "how can you help managing my diabetes over the years ?",
           "get type one know two",
           9
          ],
          [
           "you have diabetes what can you do ?",
           "get type one know two",
           9
          ],
          [
           "how can you improve your life if you have diabetes ?",
           "get type one know two",
           9
          ],
          [
           "how can a person cure diabetes ?",
           "get type one know two",
           9
          ],
          [
           "how do you know if it is type one diabetes ?",
           "get type one know two",
           9
          ],
          [
           "how do you get diabetes type one ?",
           "get type one know two",
           9
          ],
          [
           "how do you know you have gestational diabetes ?",
           "get type one know two",
           9
          ],
          [
           "what happens if you do not control diabetes ?",
           "get type one know two",
           9
          ],
          [
           "what do you do if you get diabetes ?",
           "get type one know two",
           9
          ],
          [
           "how do you get diabetes two ?",
           "get type one know two",
           9
          ],
          [
           "how do you get rid of type one diabetes ?",
           "get type one know two",
           9
          ],
          [
           "what does diabetes do to you ?",
           "get type one know two",
           9
          ],
          [
           "how do doctors diagnose diabetes ?",
           "get type one know two",
           9
          ],
          [
           "how can you tell you have diabetes ?",
           "get type one know two",
           9
          ],
          [
           "how can i get rid of diabetes type one ?",
           "get type one know two",
           9
          ],
          [
           "how did you get diabetes ?",
           "get type one know two",
           9
          ],
          [
           "how do you explain to a patient about diabetes ?",
           "get type one know two",
           9
          ],
          [
           "how do humans get diabetes ?",
           "get type one know two",
           9
          ],
          [
           "how should you go about treating diabetes ?",
           "get type one know two",
           9
          ],
          [
           "how you can get a diabetes mellitus ?",
           "get type one know two",
           9
          ],
          [
           "how do you get <unk> ?",
           "get type one know two",
           9
          ],
          [
           "how do you know you have got a <unk> on someone ?",
           "get type one know two",
           9
          ],
          [
           "how can you getting avoid getting type two diabetes ?",
           "get type one know two",
           9
          ],
          [
           "how do you avoid diabetes ?",
           "get type one know two",
           9
          ],
          [
           "why did you get diabetes ?",
           "get type one know two",
           9
          ],
          [
           "how long can diabetes last ?",
           "get type one know two",
           9
          ],
          [
           "how do you know if you have type one diabetes ?",
           "get type one know two",
           9
          ],
          [
           "how can you <unk> diabetes ?",
           "get type one know two",
           9
          ]
         ],
         "hovertemplate": "summary=%{customdata[1]}<br>pc_1=%{x}<br>pc_2=%{y}<br>pc_3=%{z}<br>question=%{customdata[0]}<br>label=%{customdata[2]}<extra></extra>",
         "legendgroup": "get type one know two",
         "marker": {
          "color": "#FF6692",
          "size": 8,
          "symbol": "circle"
         },
         "mode": "markers",
         "name": "get type one know two",
         "scene": "scene",
         "showlegend": true,
         "type": "scatter3d",
         "x": [
          0.43306055665016174,
          0.15599186718463898,
          0.2657954692840576,
          0.4713878631591797,
          0.2153615951538086,
          0.36650577187538147,
          0.5035839080810547,
          0.4602804481983185,
          0.39478006958961487,
          0.457362562417984,
          0.4852341115474701,
          0.2795603573322296,
          0.17575454711914062,
          0.25668448209762573,
          0.19855371117591858,
          0.2414863407611847,
          0.4901900887489319,
          0.4533950388431549,
          0.37606915831565857,
          0.5202851295471191,
          0.4588523805141449,
          0.4265511929988861,
          0.46891850233078003,
          0.491812139749527,
          0.21339154243469238,
          0.2801142632961273,
          0.47275400161743164,
          0.37503668665885925,
          0.2986869812011719,
          0.370878130197525,
          0.2843325734138489,
          0.44244450330734253,
          0.3416789174079895,
          0.32825711369514465,
          0.5497874021530151,
          0.5419166088104248,
          0.38080456852912903,
          0.14599888026714325,
          0.44931554794311523,
          0.2431163340806961
         ],
         "y": [
          0.20248101651668549,
          0.17044125497341156,
          0.14862506091594696,
          0.05738037824630737,
          0.09959446638822556,
          0.18459713459014893,
          0.21563871204853058,
          0.15097638964653015,
          0.037529125809669495,
          0.12084195762872696,
          0.16930238902568817,
          0.04098453372716904,
          0.10423536598682404,
          0.11816322803497314,
          0.11814612150192261,
          0.18710219860076904,
          0.05598299950361252,
          0.15332897007465363,
          0.08812639117240906,
          0.15087950229644775,
          0.015620015561580658,
          0.09754149615764618,
          0.1677722930908203,
          0.007835637778043747,
          0.07805215567350388,
          0.1283118724822998,
          0.21569305658340454,
          0.1584855318069458,
          0.0871020182967186,
          0.2396613508462906,
          0.04330005124211311,
          0.07339883595705032,
          0.10872286558151245,
          0.0901605635881424,
          0.16018609702587128,
          0.13019528985023499,
          0.17357851564884186,
          0.1216854527592659,
          0.09553444385528564,
          0.13989859819412231
         ],
         "z": [
          0.255846232175827,
          0.3528030216693878,
          0.40874359011650085,
          0.2779430150985718,
          0.37139567732810974,
          0.2923904359340668,
          0.37186485528945923,
          0.24442487955093384,
          0.3070518672466278,
          0.32585933804512024,
          0.4366438686847687,
          0.32326260209083557,
          0.25838008522987366,
          0.3117865324020386,
          0.23320306837558746,
          0.2887048125267029,
          0.24480105936527252,
          0.2752588987350464,
          0.3776763677597046,
          0.25011205673217773,
          0.36736634373664856,
          0.3552083969116211,
          0.35199373960494995,
          0.35066166520118713,
          0.4254448413848877,
          0.35314613580703735,
          0.37595808506011963,
          0.3271956741809845,
          0.412432998418808,
          0.34564220905303955,
          0.4029443860054016,
          0.2022257000207901,
          0.3036043047904968,
          0.2656514346599579,
          0.3599002957344055,
          0.3363732099533081,
          0.36476898193359375,
          0.3180864751338959,
          0.2688519358634949,
          0.34075111150741577
         ]
        },
        {
         "customdata": [
          [
           "is metformin a diabetes medication ?",
           "medic metformin treat without side",
           46
          ],
          [
           "how can diabetes be treated without medications ?",
           "medic metformin treat without side",
           46
          ],
          [
           "what are the side effects not taking diabetes medication ?",
           "medic metformin treat without side",
           46
          ],
          [
           "difference between shots and pills for diabetes ?",
           "medic metformin treat without side",
           46
          ],
          [
           "why is viagra needed for men with diabetes ?",
           "medic metformin treat without side",
           46
          ],
          [
           "is drinking of <unk> is harmful for diabetes patients ?",
           "medic metformin treat without side",
           46
          ]
         ],
         "hovertemplate": "summary=%{customdata[1]}<br>pc_1=%{x}<br>pc_2=%{y}<br>pc_3=%{z}<br>question=%{customdata[0]}<br>label=%{customdata[2]}<extra></extra>",
         "legendgroup": "medic metformin treat without side",
         "marker": {
          "color": "#B6E880",
          "size": 8,
          "symbol": "circle"
         },
         "mode": "markers",
         "name": "medic metformin treat without side",
         "scene": "scene",
         "showlegend": true,
         "type": "scatter3d",
         "x": [
          0.1578906774520874,
          0.026296773925423622,
          0.06816819310188293,
          0.07636389136314392,
          0.051751330494880676,
          -0.0007125246920622885
         ],
         "y": [
          -0.21630613505840302,
          -0.09304578602313995,
          -0.24388697743415833,
          -0.1651085913181305,
          -0.218745157122612,
          -0.1358179748058319
         ],
         "z": [
          0.4633810222148895,
          0.42957180738449097,
          0.4128399193286896,
          0.47255605459213257,
          0.5283980965614319,
          0.49106669425964355
         ]
        },
        {
         "customdata": [
          [
           "what is it called when glucose gets too low ?",
           "glucos blood concentr high low",
           43
          ],
          [
           "high concentration of glucose in the blood ?",
           "glucos blood concentr high low",
           43
          ],
          [
           "what happens when glucose <unk> toxic levels ?",
           "glucos blood concentr high low",
           43
          ],
          [
           "why do you feel hungry when glucose levels fall in the blood ?",
           "glucos blood concentr high low",
           43
          ],
          [
           "which term describes an abnormally high concentration of glucose in the blood ?",
           "glucos blood concentr high low",
           43
          ],
          [
           "what two factors influence blood glucose concentration ?",
           "glucos blood concentr high low",
           43
          ],
          [
           "why is high glucose bad ?",
           "glucos blood concentr high low",
           43
          ],
          [
           "abnormally low concentration of glucose in the blood ?",
           "glucos blood concentr high low",
           43
          ]
         ],
         "hovertemplate": "summary=%{customdata[1]}<br>pc_1=%{x}<br>pc_2=%{y}<br>pc_3=%{z}<br>question=%{customdata[0]}<br>label=%{customdata[2]}<extra></extra>",
         "legendgroup": "glucos blood concentr high low",
         "marker": {
          "color": "#FF97FF",
          "size": 8,
          "symbol": "circle"
         },
         "mode": "markers",
         "name": "glucos blood concentr high low",
         "scene": "scene",
         "showlegend": true,
         "type": "scatter3d",
         "x": [
          0.17695678770542145,
          0.07087671756744385,
          0.1562994122505188,
          0.10409551858901978,
          0.044590432196855545,
          0.12271825969219208,
          0.16252313554286957,
          0.05639050155878067
         ],
         "y": [
          -0.3342060148715973,
          -0.3146266043186188,
          -0.39186909794807434,
          -0.40923193097114563,
          -0.3034439980983734,
          -0.33267977833747864,
          -0.27375438809394836,
          -0.36365988850593567
         ],
         "z": [
          -0.35140323638916016,
          -0.23465058207511902,
          -0.3244501054286957,
          -0.2351578027009964,
          -0.2308209240436554,
          -0.2767884433269501,
          -0.32965490221977234,
          -0.2248191088438034
         ]
        },
        {
         "customdata": [
          [
           "what <unk> is diabetes most common ?",
           "common relat sugar borderlin born",
           18
          ],
          [
           "what diabetes can you be born with ?",
           "common relat sugar borderlin born",
           18
          ],
          [
           "is <unk> effective in diabetes ?",
           "common relat sugar borderlin born",
           18
          ],
          [
           "is diabetes hormonal ?",
           "common relat sugar borderlin born",
           18
          ],
          [
           "is glucose related to diabetes ?",
           "common relat sugar borderlin born",
           18
          ],
          [
           "is diabetes a <unk> ?",
           "common relat sugar borderlin born",
           18
          ],
          [
           "what is another term for juvenile diabetes ?",
           "common relat sugar borderlin born",
           18
          ],
          [
           "is diabetes insipidus recognized as a disability ?",
           "common relat sugar borderlin born",
           18
          ],
          [
           "what does diabetes do ?",
           "common relat sugar borderlin born",
           18
          ],
          [
           "how is diabetes inherited ?",
           "common relat sugar borderlin born",
           18
          ],
          [
           "is diabetes always about sugar ?",
           "common relat sugar borderlin born",
           18
          ],
          [
           "why is the diabetes <unk> ?",
           "common relat sugar borderlin born",
           18
          ],
          [
           "how is diabetes <unk> ?",
           "common relat sugar borderlin born",
           18
          ],
          [
           "is it possible to reverse diabetes ?",
           "common relat sugar borderlin born",
           18
          ],
          [
           "borderline diabetes ?",
           "common relat sugar borderlin born",
           18
          ],
          [
           "what disease is associated with blood sugar ?",
           "common relat sugar borderlin born",
           18
          ],
          [
           "is diabetes <unk> ?",
           "common relat sugar borderlin born",
           18
          ],
          [
           "is diabetes <unk> or <unk> ?",
           "common relat sugar borderlin born",
           18
          ],
          [
           "what is diabetes <unk> ?",
           "common relat sugar borderlin born",
           18
          ],
          [
           "is there <unk> for diabetes ?",
           "common relat sugar borderlin born",
           18
          ],
          [
           "how is pancreatic dysfunction related to diabetes ?",
           "common relat sugar borderlin born",
           18
          ],
          [
           "is borderline diabetes safe ?",
           "common relat sugar borderlin born",
           18
          ],
          [
           "is diabetes a <unk> ?",
           "common relat sugar borderlin born",
           18
          ],
          [
           "what is the name of a diabetes specialist ?",
           "common relat sugar borderlin born",
           18
          ],
          [
           "at what age can you get diabetes mellitus ?",
           "common relat sugar borderlin born",
           18
          ],
          [
           "is <unk> useful in diabetes ?",
           "common relat sugar borderlin born",
           18
          ],
          [
           "is diabetes <unk> ?",
           "common relat sugar borderlin born",
           18
          ],
          [
           "what is diabetes one and two ?",
           "common relat sugar borderlin born",
           18
          ],
          [
           "is diabetes <unk> ?",
           "common relat sugar borderlin born",
           18
          ],
          [
           "what form of diebetes is most common ?",
           "common relat sugar borderlin born",
           18
          ]
         ],
         "hovertemplate": "summary=%{customdata[1]}<br>pc_1=%{x}<br>pc_2=%{y}<br>pc_3=%{z}<br>question=%{customdata[0]}<br>label=%{customdata[2]}<extra></extra>",
         "legendgroup": "common relat sugar borderlin born",
         "marker": {
          "color": "#FECB52",
          "size": 8,
          "symbol": "circle"
         },
         "mode": "markers",
         "name": "common relat sugar borderlin born",
         "scene": "scene",
         "showlegend": true,
         "type": "scatter3d",
         "x": [
          0.36109045147895813,
          0.1933344453573227,
          0.2355729639530182,
          0.3455234169960022,
          0.2898842990398407,
          0.2805825173854828,
          0.2882815897464752,
          0.2715168297290802,
          0.269347220659256,
          0.32902148365974426,
          0.2574790120124817,
          0.2900131940841675,
          0.32393425703048706,
          0.21509680151939392,
          0.29750505089759827,
          0.36931896209716797,
          0.3134330213069916,
          0.26182717084884644,
          0.30268532037734985,
          0.2885577380657196,
          0.37795817852020264,
          0.26827472448349,
          0.2543643116950989,
          0.27839258313179016,
          0.18441659212112427,
          0.2119445949792862,
          0.29506129026412964,
          0.3403162956237793,
          0.278243750333786,
          0.36030447483062744
         ],
         "y": [
          0.27525368332862854,
          0.20835302770137787,
          0.29524970054626465,
          0.2913236916065216,
          0.1623086929321289,
          0.26585328578948975,
          0.35556501150131226,
          0.2897290587425232,
          0.24918052554130554,
          0.2847643792629242,
          0.16935908794403076,
          0.2642233371734619,
          0.23150110244750977,
          0.33203402161598206,
          0.36836326122283936,
          0.4009137749671936,
          0.32903289794921875,
          0.21810783445835114,
          0.21193596720695496,
          0.3764777183532715,
          0.25694331526756287,
          0.3876016438007355,
          0.2649577558040619,
          0.20070628821849823,
          0.21009616553783417,
          0.2588711678981781,
          0.30289560556411743,
          0.17419567704200745,
          0.26285770535469055,
          0.2255779653787613
         ],
         "z": [
          -0.19274258613586426,
          -0.19784247875213623,
          -0.13255466520786285,
          -0.10784739255905151,
          -0.1666812002658844,
          -0.22828878462314606,
          -0.2385806441307068,
          -0.30566009879112244,
          -0.032679539173841476,
          -0.013027634471654892,
          -0.08649952709674835,
          -0.08313873410224915,
          -0.055094584822654724,
          -0.21149392426013947,
          -0.07034493237733841,
          -0.14811712503433228,
          -0.1568591147661209,
          -0.16593536734580994,
          -0.09069252759218216,
          -0.18505966663360596,
          -0.06840430200099945,
          -0.09400290250778198,
          -0.22743326425552368,
          -0.26268643140792847,
          -0.26006871461868286,
          -0.1131366714835167,
          -0.14626747369766235,
          -0.08232297003269196,
          -0.14182618260383606,
          -0.2319527566432953
         ]
        },
        {
         "customdata": [
          [
           "what is <unk> ?",
           "word excess thirst caus exactli",
           6
          ],
          [
           "what is the word for excessive thirst ?",
           "word excess thirst caus exactli",
           6
          ],
          [
           "what is a <unk> ?",
           "word excess thirst caus exactli",
           6
          ],
          [
           "what is the cause for <unk> <unk> ?",
           "word excess thirst caus exactli",
           6
          ],
          [
           "what exactly is the diabetes meter ?",
           "word excess thirst caus exactli",
           6
          ],
          [
           "what is <unk> ?",
           "word excess thirst caus exactli",
           6
          ],
          [
           "what is arousal in sport ?",
           "word excess thirst caus exactli",
           6
          ],
          [
           "what is benign dietary ketosis ?",
           "word excess thirst caus exactli",
           6
          ],
          [
           "what is <unk> ?",
           "word excess thirst caus exactli",
           6
          ],
          [
           "what is <unk> ?",
           "word excess thirst caus exactli",
           6
          ],
          [
           "what is pre-diabetic ?",
           "word excess thirst caus exactli",
           6
          ],
          [
           "what is an activity that goes with diabetes ?",
           "word excess thirst caus exactli",
           6
          ],
          [
           "what is dlife ?",
           "word excess thirst caus exactli",
           6
          ],
          [
           "what is <unk> ?",
           "word excess thirst caus exactli",
           6
          ],
          [
           "what is diabetese ?",
           "word excess thirst caus exactli",
           6
          ],
          [
           "what is diabetics one ?",
           "word excess thirst caus exactli",
           6
          ]
         ],
         "hovertemplate": "summary=%{customdata[1]}<br>pc_1=%{x}<br>pc_2=%{y}<br>pc_3=%{z}<br>question=%{customdata[0]}<br>label=%{customdata[2]}<extra></extra>",
         "legendgroup": "word excess thirst caus exactli",
         "marker": {
          "color": "#636efa",
          "size": 8,
          "symbol": "circle"
         },
         "mode": "markers",
         "name": "word excess thirst caus exactli",
         "scene": "scene",
         "showlegend": true,
         "type": "scatter3d",
         "x": [
          0.5982546210289001,
          0.5888682007789612,
          0.5812533497810364,
          0.6259418725967407,
          0.6483139991760254,
          0.642303466796875,
          0.5641515851020813,
          0.5087440609931946,
          0.5527907013893127,
          0.5825761556625366,
          0.6560749411582947,
          0.5425323843955994,
          0.5699653029441833,
          0.6000005602836609,
          0.5669232606887817,
          0.6292713284492493
         ],
         "y": [
          -0.2655631899833679,
          -0.3668968975543976,
          -0.27817583084106445,
          -0.3356713354587555,
          -0.2628767490386963,
          -0.22228693962097168,
          -0.29873237013816833,
          -0.3671610951423645,
          -0.3462396562099457,
          -0.3679470121860504,
          -0.2085675746202469,
          -0.23919931054115295,
          -0.3503451347351074,
          -0.31443649530410767,
          -0.2998564541339874,
          -0.3874446153640747
         ],
         "z": [
          0.20987622439861298,
          0.3334527909755707,
          0.27214932441711426,
          0.3142654001712799,
          0.1600375771522522,
          0.20729424059391022,
          0.1308819204568863,
          0.19586949050426483,
          0.24055977165699005,
          0.23587217926979065,
          0.23654866218566895,
          0.21780021488666534,
          0.19346493482589722,
          0.21793240308761597,
          0.20832233130931854,
          0.17034181952476501
         ]
        },
        {
         "customdata": [
          [
           "are <unk> tests done on diabetics ?",
           "test blood strip done ac",
           48
          ],
          [
           "what does a diabetes blood test for ?",
           "test blood strip done ac",
           48
          ],
          [
           "what is ac test for diabetes ?",
           "test blood strip done ac",
           48
          ],
          [
           "what are some tests for diabetes ?",
           "test blood strip done ac",
           48
          ],
          [
           "what does a full blood <unk> test for ?",
           "test blood strip done ac",
           48
          ],
          [
           "what does the hba1c test find ?",
           "test blood strip done ac",
           48
          ],
          [
           "are contour blood test strips <unk> the same as 7098c ?",
           "test blood strip done ac",
           48
          ],
          [
           "what is the test for feline diabetes diagnosis ?",
           "test blood strip done ac",
           48
          ],
          [
           "what do the test strips for diabetes test for ?",
           "test blood strip done ac",
           48
          ],
          [
           "are diabetic test strips <unk> ?",
           "test blood strip done ac",
           48
          ]
         ],
         "hovertemplate": "summary=%{customdata[1]}<br>pc_1=%{x}<br>pc_2=%{y}<br>pc_3=%{z}<br>question=%{customdata[0]}<br>label=%{customdata[2]}<extra></extra>",
         "legendgroup": "test blood strip done ac",
         "marker": {
          "color": "#EF553B",
          "size": 8,
          "symbol": "circle"
         },
         "mode": "markers",
         "name": "test blood strip done ac",
         "scene": "scene",
         "showlegend": true,
         "type": "scatter3d",
         "x": [
          -0.0046157329343259335,
          0.10709075629711151,
          0.08478058129549026,
          0.03346554562449455,
          0.08411766588687897,
          0.14549556374549866,
          -0.0011777053587138653,
          0.060282472521066666,
          0.061142779886722565,
          -0.015975862741470337
         ],
         "y": [
          0.3066059648990631,
          0.3375990390777588,
          0.2980530858039856,
          0.30437418818473816,
          0.3165282905101776,
          0.32216620445251465,
          0.23323829472064972,
          0.35721123218536377,
          0.2835440933704376,
          0.2616702616214752
         ],
         "z": [
          0.3890102207660675,
          0.3396248519420624,
          0.4035511016845703,
          0.4059300124645233,
          0.31718194484710693,
          0.37303104996681213,
          0.32164037227630615,
          0.406048446893692,
          0.34443479776382446,
          0.3337163031101227
         ]
        },
        {
         "customdata": [
          [
           "can diabetes cause severe depression ?",
           "caus drowsi sever depress urin",
           16
          ],
          [
           "can urinating cause diabetes ?",
           "caus drowsi sever depress urin",
           16
          ],
          [
           "can diabetes cause nausea ?",
           "caus drowsi sever depress urin",
           16
          ],
          [
           "can diabetes medicine cause drowsiness ?",
           "caus drowsi sever depress urin",
           16
          ],
          [
           "can fasting cause diabetes ?",
           "caus drowsi sever depress urin",
           16
          ],
          [
           "can <unk> cause diabetes ?",
           "caus drowsi sever depress urin",
           16
          ],
          [
           "is the cause of diabetes environmental or hereditary ?",
           "caus drowsi sever depress urin",
           16
          ],
          [
           "does diabetes cause liver enzymes to be elevated ?",
           "caus drowsi sever depress urin",
           16
          ],
          [
           "can diabetes cause organ shut down ?",
           "caus drowsi sever depress urin",
           16
          ],
          [
           "can diabetes cause drowsiness ?",
           "caus drowsi sever depress urin",
           16
          ],
          [
           "can diabetes cause <unk> ?",
           "caus drowsi sever depress urin",
           16
          ],
          [
           "could not getting enough sun cause diabetes ?",
           "caus drowsi sever depress urin",
           16
          ],
          [
           "why diabetes causes kidney damage ?",
           "caus drowsi sever depress urin",
           16
          ],
          [
           "can hypoglycemia lead to diabetes ?",
           "caus drowsi sever depress urin",
           16
          ],
          [
           "why can not diabetes be spread ?",
           "caus drowsi sever depress urin",
           16
          ]
         ],
         "hovertemplate": "summary=%{customdata[1]}<br>pc_1=%{x}<br>pc_2=%{y}<br>pc_3=%{z}<br>question=%{customdata[0]}<br>label=%{customdata[2]}<extra></extra>",
         "legendgroup": "caus drowsi sever depress urin",
         "marker": {
          "color": "#00cc96",
          "size": 8,
          "symbol": "circle"
         },
         "mode": "markers",
         "name": "caus drowsi sever depress urin",
         "scene": "scene",
         "showlegend": true,
         "type": "scatter3d",
         "x": [
          0.03487774729728699,
          0.10724937170743942,
          0.05938592925667763,
          0.06621604412794113,
          0.09920991212129593,
          0.14274178445339203,
          0.18377332389354706,
          0.12646648287773132,
          0.16966164112091064,
          0.09645678848028183,
          0.12826046347618103,
          0.10221651941537857,
          0.19429728388786316,
          0.13862143456935883,
          0.1417860984802246
         ],
         "y": [
          0.23237650096416473,
          0.27403444051742554,
          0.22110633552074432,
          0.21308445930480957,
          0.25893720984458923,
          0.24654488265514374,
          0.24689410626888275,
          0.1864393949508667,
          0.26438355445861816,
          0.21033376455307007,
          0.23905804753303528,
          0.3681153953075409,
          0.21700818836688995,
          0.14577800035476685,
          0.31338194012641907
         ],
         "z": [
          -0.7483869791030884,
          -0.6970495581626892,
          -0.706635594367981,
          -0.6437622904777527,
          -0.6012621521949768,
          -0.6802095174789429,
          -0.6332947015762329,
          -0.5895168781280518,
          -0.7324832677841187,
          -0.7193944454193115,
          -0.6494617462158203,
          -0.7164127826690674,
          -0.7123015522956848,
          -0.6777544021606445,
          -0.6283450126647949
         ]
        },
        {
         "customdata": [
          [
           "what are the symptomes of juvenile diabetes ?",
           "type two one mellitu differ",
           15
          ],
          [
           "what are the names of the different type of diabetes ?",
           "type two one mellitu differ",
           15
          ],
          [
           "type two diabetes is known as insulin dependent diabetes ?",
           "type two one mellitu differ",
           15
          ],
          [
           "what percentage of diabetics are type one ?",
           "type two one mellitu differ",
           15
          ],
          [
           "what is type one diabetes and type two ?",
           "type two one mellitu differ",
           15
          ],
          [
           "what is the absolute most dangerous type of diabetes and what is it ?",
           "type two one mellitu differ",
           15
          ],
          [
           "what is two types of diabetes ?",
           "type two one mellitu differ",
           15
          ],
          [
           "is borderline diabetes also known as type two ?",
           "type two one mellitu differ",
           15
          ],
          [
           "what are some of the effects of type one diabetes ?",
           "type two one mellitu differ",
           15
          ],
          [
           "are there stages of diabetes ?",
           "type two one mellitu differ",
           15
          ],
          [
           "what limitations does a person with diabetes type one have ?",
           "type two one mellitu differ",
           15
          ],
          [
           "how does a type one diabetic become insulin resistance ?",
           "type two one mellitu differ",
           15
          ],
          [
           "what are the <unk> for type two diabetes ?",
           "type two one mellitu differ",
           15
          ],
          [
           "two what are the common types of <unk> ?",
           "type two one mellitu differ",
           15
          ],
          [
           "what type of diabetes is known as the water diabetes ?",
           "type two one mellitu differ",
           15
          ],
          [
           "which type of diabetes mellitus is an insulin resistance disorder gestational type one or type two ?",
           "type two one mellitu differ",
           15
          ],
          [
           "what is type one diabetes ?",
           "type two one mellitu differ",
           15
          ],
          [
           "what condition is insulin resistance of fat cells type one diabetes or type two diabetes ?",
           "type two one mellitu differ",
           15
          ],
          [
           "how do you have know if it is a type one or type two diabetes ?",
           "type two one mellitu differ",
           15
          ],
          [
           "what are the two types of diabetes and how do they differ ?",
           "type two one mellitu differ",
           15
          ],
          [
           "can type ii diabetes turn into type i diabetes ?",
           "type two one mellitu differ",
           15
          ],
          [
           "what causes type i diabetes mellitus ?",
           "type two one mellitu differ",
           15
          ],
          [
           "how are type one diabetes and type two diabetes similar ?",
           "type two one mellitu differ",
           15
          ],
          [
           "what type of diabetes develops during adulthood ?",
           "type two one mellitu differ",
           15
          ],
          [
           "type ii diabetes mellitus is characterized by ?",
           "type two one mellitu differ",
           15
          ],
          [
           "does <unk> <unk> have type one diabetes ?",
           "type two one mellitu differ",
           15
          ],
          [
           "when is type two diabetes developed ?",
           "type two one mellitu differ",
           15
          ],
          [
           "how are type one and type two diabetes different ?",
           "type two one mellitu differ",
           15
          ],
          [
           "what types of diabetes would you rather have ?",
           "type two one mellitu differ",
           15
          ],
          [
           "what is the primary organ involved with type one diabetes mellitus ?",
           "type two one mellitu differ",
           15
          ],
          [
           "what type of disorder is diabetes type two ?",
           "type two one mellitu differ",
           15
          ],
          [
           "what are the <unk> of diabetes ?",
           "type two one mellitu differ",
           15
          ],
          [
           "type ii diabetes is known as non-insulin dependent diabetes ?",
           "type two one mellitu differ",
           15
          ],
          [
           "what is associated with type one diabetes ?",
           "type two one mellitu differ",
           15
          ],
          [
           "type one diabetes is known as non-insulin dependent diabetes ?",
           "type two one mellitu differ",
           15
          ],
          [
           "how common is type ii diabetes ?",
           "type two one mellitu differ",
           15
          ],
          [
           "what are the different <unk> a type one diabetes person has ?",
           "type two one mellitu differ",
           15
          ],
          [
           "is there type three diabetes ?",
           "type two one mellitu differ",
           15
          ],
          [
           "where can one learn about diabetes mellitus type two ?",
           "type two one mellitu differ",
           15
          ],
          [
           "what are three types of diabetes ?",
           "type two one mellitu differ",
           15
          ],
          [
           "what is the worst stage of type two diabetes ?",
           "type two one mellitu differ",
           15
          ],
          [
           "are there different types of diabetes ?",
           "type two one mellitu differ",
           15
          ],
          [
           "<unk> describe the four types of diabetes insipidus ?",
           "type two one mellitu differ",
           15
          ],
          [
           "what are the different types of glucometers ?",
           "type two one mellitu differ",
           15
          ],
          [
           "what are the most common causes of type two diabetes ?",
           "type two one mellitu differ",
           15
          ],
          [
           "what are the symptoms that <unk> between type i and type ii diabetes ?",
           "type two one mellitu differ",
           15
          ],
          [
           "why would athletes develop type two diabetes ?",
           "type two one mellitu differ",
           15
          ],
          [
           "how many types of diabetes are there and how to know one type two type and three type diabetes ?",
           "type two one mellitu differ",
           15
          ],
          [
           "what is diabetes type one and two ?",
           "type two one mellitu differ",
           15
          ],
          [
           "what causes type one diabetes mellitus ?",
           "type two one mellitu differ",
           15
          ],
          [
           "what are the effects of having type two diabetes ?",
           "type two one mellitu differ",
           15
          ],
          [
           "what kind of diabetes are there ?",
           "type two one mellitu differ",
           15
          ],
          [
           "describe diabetes mellitus type two in your own words ?",
           "type two one mellitu differ",
           15
          ],
          [
           "what are types of diabetes ?",
           "type two one mellitu differ",
           15
          ],
          [
           "what are two main types of diabetes ?",
           "type two one mellitu differ",
           15
          ],
          [
           "what types of diabetes are there ?",
           "type two one mellitu differ",
           15
          ],
          [
           "did elvis <unk> <unk> have diabetes type one or two ?",
           "type two one mellitu differ",
           15
          ],
          [
           "what is the most serious type of diabetes ?",
           "type two one mellitu differ",
           15
          ]
         ],
         "hovertemplate": "summary=%{customdata[1]}<br>pc_1=%{x}<br>pc_2=%{y}<br>pc_3=%{z}<br>question=%{customdata[0]}<br>label=%{customdata[2]}<extra></extra>",
         "legendgroup": "type two one mellitu differ",
         "marker": {
          "color": "#ab63fa",
          "size": 8,
          "symbol": "circle"
         },
         "mode": "markers",
         "name": "type two one mellitu differ",
         "scene": "scene",
         "showlegend": true,
         "type": "scatter3d",
         "x": [
          0.7407326102256775,
          0.6097280979156494,
          0.4479655623435974,
          0.6604925990104675,
          0.5603939890861511,
          0.5018252730369568,
          0.6208838224411011,
          0.5106186270713806,
          0.7161001563072205,
          0.7672448754310608,
          0.5280923247337341,
          0.45966389775276184,
          0.622553288936615,
          0.6588758826255798,
          0.5036705136299133,
          0.477771520614624,
          0.4465547502040863,
          0.463766872882843,
          0.4810144007205963,
          0.7082626819610596,
          0.5054222941398621,
          0.5651860237121582,
          0.5762019753456116,
          0.5290630459785461,
          0.5599240660667419,
          0.4786733388900757,
          0.549686074256897,
          0.6061750054359436,
          0.6483825445175171,
          0.5949311256408691,
          0.6493077278137207,
          0.7268480062484741,
          0.49471065402030945,
          0.4818600118160248,
          0.4656315743923187,
          0.5491176843643188,
          0.5602367520332336,
          0.5092253088951111,
          0.6208347082138062,
          0.6780778169631958,
          0.5839300155639648,
          0.7091814279556274,
          0.6270804405212402,
          0.6677241325378418,
          0.6359229683876038,
          0.5916339159011841,
          0.4706335961818695,
          0.578795850276947,
          0.5682771801948547,
          0.5953100919723511,
          0.7428427934646606,
          0.7240873575210571,
          0.5983224511146545,
          0.6789363026618958,
          0.6503634452819824,
          0.7026569247245789,
          0.5239213705062866,
          0.5297573804855347
         ],
         "y": [
          0.030582668259739876,
          0.21999511122703552,
          0.14958158135414124,
          0.2794913053512573,
          0.09689497202634811,
          0.037993174046278,
          0.08483321964740753,
          0.1970023661851883,
          0.19403201341629028,
          0.14166386425495148,
          0.13422849774360657,
          -0.005192555487155914,
          0.10039273649454117,
          0.24866844713687897,
          0.049431998282670975,
          0.028549447655677795,
          0.11140692979097366,
          0.0208475012332201,
          0.1683734506368637,
          0.23091630637645721,
          0.09047582000494003,
          0.03854859620332718,
          0.15475255250930786,
          0.04366142675280571,
          -0.008117501623928547,
          0.2180265635251999,
          0.08685208857059479,
          0.13696102797985077,
          0.18824903666973114,
          -0.009187208488583565,
          0.05614341422915459,
          0.013619065284729004,
          0.149881973862648,
          0.10471485555171967,
          0.17155568301677704,
          0.126523956656456,
          0.11386211961507797,
          0.1452244520187378,
          0.07003039866685867,
          0.18421880900859833,
          0.04062572494149208,
          0.1252635419368744,
          0.17327779531478882,
          0.21822497248649597,
          0.2643514573574066,
          0.1564868688583374,
          0.2366650253534317,
          0.1811828464269638,
          0.08338619023561478,
          -0.04814479872584343,
          0.21136632561683655,
          0.14760850369930267,
          0.06714018434286118,
          0.0640660896897316,
          0.12988729774951935,
          0.08506492525339127,
          0.2297554463148117,
          0.0317724272608757
         ],
         "z": [
          0.04562174901366234,
          0.031121062114834785,
          -0.23707669973373413,
          0.0968056246638298,
          -0.10521876066923141,
          0.02083940990269184,
          0.018881721422076225,
          -0.26003164052963257,
          -0.02114076167345047,
          0.057346027344465256,
          0.036243986338377,
          -0.1623179167509079,
          0.0778317004442215,
          0.007819353602826595,
          -0.06155093386769295,
          -0.26572221517562866,
          -0.10931703448295593,
          -0.22816212475299835,
          0.0038835799787193537,
          0.05209457501769066,
          -0.22364547848701477,
          -0.2314179539680481,
          -0.1329413503408432,
          -0.17092914879322052,
          -0.2945140302181244,
          -0.17139163613319397,
          -0.18416832387447357,
          -0.1064860075712204,
          0.11386503279209137,
          -0.12302947789430618,
          -0.09149492532014847,
          0.09747619181871414,
          -0.29293495416641235,
          -0.09099727869033813,
          -0.25938937067985535,
          -0.22191815078258514,
          0.014785136096179485,
          -0.11233724653720856,
          -0.18964441120624542,
          0.062072545289993286,
          0.011764165945351124,
          0.032281938940286636,
          -0.037042226642370224,
          0.029841765761375427,
          -0.03831155225634575,
          -0.20121566951274872,
          -0.10787869244813919,
          -0.10915758460760117,
          -0.06642977148294449,
          -0.19642435014247894,
          -0.023375624790787697,
          0.11104493588209152,
          -0.2397105097770691,
          0.050535690039396286,
          0.04251944273710251,
          0.058718156069517136,
          -0.14932222664356232,
          0.03190028294920921
         ]
        },
        {
         "customdata": [
          [
           "can a diabetic join a <unk> team ?",
           "take join team massag borderlin",
           37
          ],
          [
           "can you massage on a diabetic ?",
           "take join team massag borderlin",
           37
          ],
          [
           "can you be a borderline diabetic ?",
           "take join team massag borderlin",
           37
          ],
          [
           "can a diabetic do a <unk> tattoo ?",
           "take join team massag borderlin",
           37
          ],
          [
           "can a diabetic take <unk> ?",
           "take join team massag borderlin",
           37
          ],
          [
           "what can you drink besides water being border line diabetic ?",
           "take join team massag borderlin",
           37
          ],
          [
           "can a diabetic have <unk> regularly ?",
           "take join team massag borderlin",
           37
          ],
          [
           "can diabetic take <unk> ?",
           "take join team massag borderlin",
           37
          ],
          [
           "can a diabetic patient have <unk> <unk> ?",
           "take join team massag borderlin",
           37
          ],
          [
           "should a diabetic use a sauna ?",
           "take join team massag borderlin",
           37
          ]
         ],
         "hovertemplate": "summary=%{customdata[1]}<br>pc_1=%{x}<br>pc_2=%{y}<br>pc_3=%{z}<br>question=%{customdata[0]}<br>label=%{customdata[2]}<extra></extra>",
         "legendgroup": "take join team massag borderlin",
         "marker": {
          "color": "#FFA15A",
          "size": 8,
          "symbol": "circle"
         },
         "mode": "markers",
         "name": "take join team massag borderlin",
         "scene": "scene",
         "showlegend": true,
         "type": "scatter3d",
         "x": [
          -0.4127519726753235,
          -0.327053427696228,
          -0.36548909544944763,
          -0.3874010443687439,
          -0.3617323040962219,
          -0.3238649070262909,
          -0.28128311038017273,
          -0.3381877541542053,
          -0.2988075613975525,
          -0.37166526913642883
         ],
         "y": [
          -0.3362998366355896,
          -0.2855653762817383,
          -0.40850594639778137,
          -0.37519267201423645,
          -0.3315693140029907,
          -0.3048027455806732,
          -0.3711823523044586,
          -0.3263237476348877,
          -0.3102579712867737,
          -0.26536816358566284
         ],
         "z": [
          0.34073400497436523,
          0.4294433295726776,
          0.3205483853816986,
          0.4415658712387085,
          0.3556421101093292,
          0.28537529706954956,
          0.3470545709133148,
          0.3342243731021881,
          0.3796694278717041,
          0.3780159056186676
         ]
        },
        {
         "customdata": [
          [
           "is <unk> okay for a diabetic ?",
           "good person patient chees okay",
           28
          ],
          [
           "is stevia ok for diabetic ?",
           "good person patient chees okay",
           28
          ],
          [
           "is tonic water good for diabetic ?",
           "good person patient chees okay",
           28
          ],
          [
           "is sugarcane good for a diabetic ?",
           "good person patient chees okay",
           28
          ],
          [
           "is <unk> good for diabetic ?",
           "good person patient chees okay",
           28
          ],
          [
           "is yogurt good for a diabetic ?",
           "good person patient chees okay",
           28
          ],
          [
           "why is <unk> good for diabetic people ?",
           "good person patient chees okay",
           28
          ],
          [
           "is honey not good for a diabetic person ?",
           "good person patient chees okay",
           28
          ],
          [
           "which beer is good for diabetic patients ?",
           "good person patient chees okay",
           28
          ],
          [
           "is grapes not good for diabetic ?",
           "good person patient chees okay",
           28
          ],
          [
           "is cheese good for a diabetic ?",
           "good person patient chees okay",
           28
          ],
          [
           "is lettuce good for diabetic ?",
           "good person patient chees okay",
           28
          ],
          [
           "is cereal suitable for diabetic patient ?",
           "good person patient chees okay",
           28
          ],
          [
           "is cheese good for a diabetic person ?",
           "good person patient chees okay",
           28
          ]
         ],
         "hovertemplate": "summary=%{customdata[1]}<br>pc_1=%{x}<br>pc_2=%{y}<br>pc_3=%{z}<br>question=%{customdata[0]}<br>label=%{customdata[2]}<extra></extra>",
         "legendgroup": "good person patient chees okay",
         "marker": {
          "color": "#19d3f3",
          "size": 8,
          "symbol": "circle"
         },
         "mode": "markers",
         "name": "good person patient chees okay",
         "scene": "scene",
         "showlegend": true,
         "type": "scatter3d",
         "x": [
          -0.48957836627960205,
          -0.4460909068584442,
          -0.5079622268676758,
          -0.5545135736465454,
          -0.4890082776546478,
          -0.5306192636489868,
          -0.4677433669567108,
          -0.5660951733589172,
          -0.48115074634552,
          -0.5404320955276489,
          -0.5666584372520447,
          -0.5334453582763672,
          -0.6281455159187317,
          -0.5798556208610535
         ],
         "y": [
          -0.26240432262420654,
          -0.21523602306842804,
          -0.19603584706783295,
          -0.2116629183292389,
          -0.20591594278812408,
          -0.2304183393716812,
          -0.17524157464504242,
          -0.18525660037994385,
          -0.1639944612979889,
          -0.15307322144508362,
          -0.24613702297210693,
          -0.12997405230998993,
          -0.18094876408576965,
          -0.27674543857574463
         ],
         "z": [
          0.2870508134365082,
          0.29637688398361206,
          0.3571389317512512,
          0.26171308755874634,
          0.27210360765457153,
          0.2087804228067398,
          0.2321341335773468,
          0.17243079841136932,
          0.33135029673576355,
          0.20553861558437347,
          0.2139250487089157,
          0.2712147533893585,
          0.26178890466690063,
          0.22178208827972412
         ]
        },
        {
         "customdata": [
          [
           "why is there not a cure for diabetes ?",
           "cure type2 home remedi treat",
           17
          ],
          [
           "is there cure for <unk> ?",
           "cure type2 home remedi treat",
           17
          ],
          [
           "does diabetes type2 have a cure ?",
           "cure type2 home remedi treat",
           17
          ],
          [
           "are there any home remedies to treat diabetes ?",
           "cure type2 home remedi treat",
           17
          ],
          [
           "what is a cure for diabetes ?",
           "cure type2 home remedi treat",
           17
          ],
          [
           "is there a cure for blood diabetes ?",
           "cure type2 home remedi treat",
           17
          ],
          [
           "what is the cure if a diabetes ?",
           "cure type2 home remedi treat",
           17
          ],
          [
           "is there new injection to cure diabetic ?",
           "cure type2 home remedi treat",
           17
          ],
          [
           "diabetes cure ?",
           "cure type2 home remedi treat",
           17
          ]
         ],
         "hovertemplate": "summary=%{customdata[1]}<br>pc_1=%{x}<br>pc_2=%{y}<br>pc_3=%{z}<br>question=%{customdata[0]}<br>label=%{customdata[2]}<extra></extra>",
         "legendgroup": "cure type2 home remedi treat",
         "marker": {
          "color": "#FF6692",
          "size": 8,
          "symbol": "circle"
         },
         "mode": "markers",
         "name": "cure type2 home remedi treat",
         "scene": "scene",
         "showlegend": true,
         "type": "scatter3d",
         "x": [
          0.25209346413612366,
          0.21654637157917023,
          0.2356472760438919,
          0.1375144124031067,
          0.25655579566955566,
          0.21983662247657776,
          0.2980775535106659,
          0.21228821575641632,
          0.24529531598091125
         ],
         "y": [
          -0.3121437430381775,
          -0.28691616654396057,
          -0.2739761769771576,
          -0.26137596368789673,
          -0.29055649042129517,
          -0.321323037147522,
          -0.3021571934223175,
          -0.3662436902523041,
          -0.23927736282348633
         ],
         "z": [
          0.78945392370224,
          0.7628682255744934,
          0.8348311185836792,
          0.7289299964904785,
          0.7285978198051453,
          0.7462506890296936,
          0.7356259226799011,
          0.7825462818145752,
          0.819867730140686
         ]
        },
        {
         "customdata": [
          [
           "can diabetes medicine taken with urine therapy ?",
           "treatment type medicin medic treat",
           7
          ],
          [
           "how many days of medicine should be prescribed to patients with chronic diseases ?",
           "treatment type medicin medic treat",
           7
          ],
          [
           "what are the results of not taking medicine for diabetes ?",
           "treatment type medicin medic treat",
           7
          ],
          [
           "what kind of different treatments are there for diabetes ?",
           "treatment type medicin medic treat",
           7
          ],
          [
           "what is the holistic approach to diabetes treatment ?",
           "treatment type medicin medic treat",
           7
          ],
          [
           "what medicine is there to control diabetes ?",
           "treatment type medicin medic treat",
           7
          ],
          [
           "what is is the treatment for type one diabetes ?",
           "treatment type medicin medic treat",
           7
          ],
          [
           "what can one use to help gout pain in hand ?",
           "treatment type medicin medic treat",
           7
          ],
          [
           "what is the herbal treatment of diabetes ?",
           "treatment type medicin medic treat",
           7
          ],
          [
           "medications for diabetes ?",
           "treatment type medicin medic treat",
           7
          ],
          [
           "how are <unk> types one and two treated ?",
           "treatment type medicin medic treat",
           7
          ],
          [
           "what are the medications associated with diabetes ?",
           "treatment type medicin medic treat",
           7
          ],
          [
           "how many times should you need to calibrate your glucometer in a week ?",
           "treatment type medicin medic treat",
           7
          ],
          [
           "explain the health education for diabetic patient ?",
           "treatment type medicin medic treat",
           7
          ],
          [
           "what diabetes is mainly treated with insulin injections received several times a day ?",
           "treatment type medicin medic treat",
           7
          ],
          [
           "what are some alternative treatment options for diabetes besides medications ?",
           "treatment type medicin medic treat",
           7
          ],
          [
           "treatments for type one of diabetes ?",
           "treatment type medicin medic treat",
           7
          ],
          [
           "how are patients with type i diabetes treated ?",
           "treatment type medicin medic treat",
           7
          ],
          [
           "can vitamins get rid of diabetes ?",
           "treatment type medicin medic treat",
           7
          ],
          [
           "natural diabetes treatment ?",
           "treatment type medicin medic treat",
           7
          ],
          [
           "what are the different types of insulin currently available for diabetes patients ?",
           "treatment type medicin medic treat",
           7
          ],
          [
           "what are some past treatments for diabetes ?",
           "treatment type medicin medic treat",
           7
          ],
          [
           "what supplements should be taken for diabetes ?",
           "treatment type medicin medic treat",
           7
          ],
          [
           "what alternative treatments can help <unk> the symptoms of diabetes ?",
           "treatment type medicin medic treat",
           7
          ],
          [
           "diabetes education for patients ?",
           "treatment type medicin medic treat",
           7
          ],
          [
           "what types of medication are currently available for diabetes ?",
           "treatment type medicin medic treat",
           7
          ],
          [
           "what supplements can help with diabetes ?",
           "treatment type medicin medic treat",
           7
          ],
          [
           "what are the natural remedies for diabetes ?",
           "treatment type medicin medic treat",
           7
          ],
          [
           "what are the best types of insulin syringes for the treatment of diabetes ?",
           "treatment type medicin medic treat",
           7
          ],
          [
           "how long till you have a cure for type two diabetes ?",
           "treatment type medicin medic treat",
           7
          ],
          [
           "what kind of treatments are there for treating diabetes ?",
           "treatment type medicin medic treat",
           7
          ],
          [
           "what nutrilite product a women with cancer can take ?",
           "treatment type medicin medic treat",
           7
          ],
          [
           "what is three available treatments for diabetes ?",
           "treatment type medicin medic treat",
           7
          ],
          [
           "does having diabetes affect the healing of <unk> herpes ?",
           "treatment type medicin medic treat",
           7
          ],
          [
           "what are medications that people with diabetes take ?",
           "treatment type medicin medic treat",
           7
          ],
          [
           "what is the medicine for diabetes ?",
           "treatment type medicin medic treat",
           7
          ],
          [
           "how can you improve your health when you have diabetes ?",
           "treatment type medicin medic treat",
           7
          ],
          [
           "what is the treatment for diabetes ?",
           "treatment type medicin medic treat",
           7
          ],
          [
           "what are current treatments for diabetes ?",
           "treatment type medicin medic treat",
           7
          ],
          [
           "what are some medical terms <unk> to diabetes ?",
           "treatment type medicin medic treat",
           7
          ],
          [
           "where can you find out more about diabetes medicines ?",
           "treatment type medicin medic treat",
           7
          ],
          [
           "how is diabetes treated through <unk> healing ?",
           "treatment type medicin medic treat",
           7
          ],
          [
           "latest medicine for type two diabetes ?",
           "treatment type medicin medic treat",
           7
          ],
          [
           "what are some effective medicines that treat diabetes ?",
           "treatment type medicin medic treat",
           7
          ],
          [
           "are there any <unk> treatments for diabetes ?",
           "treatment type medicin medic treat",
           7
          ],
          [
           "what is a drug taken by diabetics ?",
           "treatment type medicin medic treat",
           7
          ],
          [
           "will current treatments for diabetes continue to work ?",
           "treatment type medicin medic treat",
           7
          ],
          [
           "how do you use diabetes and sensitivity issues health product ?",
           "treatment type medicin medic treat",
           7
          ],
          [
           "how long does it take for diabetes to effect your health ?",
           "treatment type medicin medic treat",
           7
          ],
          [
           "how is wheat grass therapy taken ?",
           "treatment type medicin medic treat",
           7
          ],
          [
           "what health problems will <unk> salt interfere with ?",
           "treatment type medicin medic treat",
           7
          ],
          [
           "what are various treatment options for type one diabetes ?",
           "treatment type medicin medic treat",
           7
          ],
          [
           "what medications are used to treat diabetes mellitus ?",
           "treatment type medicin medic treat",
           7
          ],
          [
           "can you get diabetes from medications ?",
           "treatment type medicin medic treat",
           7
          ],
          [
           "what are some of the major diabetes symptoms a health care worker should look for ?",
           "treatment type medicin medic treat",
           7
          ],
          [
           "what types of treatment are available for diabetics ?",
           "treatment type medicin medic treat",
           7
          ],
          [
           "what is the most common medicine for diabetes ?",
           "treatment type medicin medic treat",
           7
          ],
          [
           "diabetes medication ?",
           "treatment type medicin medic treat",
           7
          ],
          [
           "what are treatments for high glucose levels ?",
           "treatment type medicin medic treat",
           7
          ],
          [
           "why increase water with diabetes ?",
           "treatment type medicin medic treat",
           7
          ]
         ],
         "hovertemplate": "summary=%{customdata[1]}<br>pc_1=%{x}<br>pc_2=%{y}<br>pc_3=%{z}<br>question=%{customdata[0]}<br>label=%{customdata[2]}<extra></extra>",
         "legendgroup": "treatment type medicin medic treat",
         "marker": {
          "color": "#B6E880",
          "size": 8,
          "symbol": "circle"
         },
         "mode": "markers",
         "name": "treatment type medicin medic treat",
         "scene": "scene",
         "showlegend": true,
         "type": "scatter3d",
         "x": [
          0.08147340267896652,
          0.027702290564775467,
          0.08000476658344269,
          0.12379027158021927,
          0.22757211327552795,
          0.3010869026184082,
          0.2793164849281311,
          -0.027212902903556824,
          0.23038163781166077,
          0.11035358160734177,
          0.030550066381692886,
          0.16383793950080872,
          -0.1334754377603531,
          -0.020090322941541672,
          0.13399113714694977,
          0.11594986915588379,
          0.109517902135849,
          0.06698321551084518,
          0.01995621807873249,
          0.09380519390106201,
          0.052522655576467514,
          0.1492682546377182,
          0.05923137813806534,
          0.18587902188301086,
          -0.006489220540970564,
          0.049740828573703766,
          0.013775105588138103,
          0.16508831083774567,
          0.04894924536347389,
          0.07608169317245483,
          0.23390014469623566,
          -0.0086104366928339,
          0.09979293495416641,
          0.07800906896591187,
          0.10613219439983368,
          0.2827763557434082,
          -0.09220533072948456,
          0.26662519574165344,
          0.25983327627182007,
          0.09628064930438995,
          -0.10974464565515518,
          0.015437489375472069,
          0.10098563879728317,
          0.13690899312496185,
          0.14792826771736145,
          0.124198779463768,
          0.05377122759819031,
          -0.07865498960018158,
          -0.06143860146403313,
          0.21184484660625458,
          -0.06983532756567001,
          0.100377157330513,
          0.22125636041164398,
          0.02925441414117813,
          -0.03381197527050972,
          0.014285337179899216,
          0.13806146383285522,
          0.13788819313049316,
          0.06807320564985275,
          0.13990819454193115
         ],
         "y": [
          -0.010193354450166225,
          0.03724329173564911,
          0.11702452600002289,
          -0.09265636652708054,
          -0.06345022469758987,
          -0.11253184825181961,
          -0.22847862541675568,
          -0.020990746095776558,
          -0.16074441373348236,
          -0.15750481188297272,
          -0.04219876974821091,
          -0.11291351914405823,
          0.14192408323287964,
          0.17220963537693024,
          0.09523537009954453,
          -0.18719343841075897,
          -0.05318364128470421,
          -0.033426642417907715,
          -0.0074791875667870045,
          0.010873939841985703,
          -0.1511615365743637,
          -0.15882445871829987,
          0.07620970904827118,
          -0.15393730998039246,
          0.133257195353508,
          -0.16494180262088776,
          0.04881547391414642,
          -0.1029110997915268,
          -0.11949365586042404,
          -0.02742817811667919,
          -0.17361731827259064,
          0.07861572504043579,
          -0.16942748427391052,
          0.03363027796149254,
          -0.09479204565286636,
          -0.16365820169448853,
          0.10874251276254654,
          -0.1904776394367218,
          -0.15447504818439484,
          -0.08593273907899857,
          0.045254338532686234,
          -0.03962443396449089,
          0.06975504010915756,
          -0.21447418630123138,
          -0.22804796695709229,
          -0.07540005445480347,
          -0.22479753196239471,
          0.12206389009952545,
          0.08736203610897064,
          -0.0081864008679986,
          0.041544392704963684,
          -0.12221304327249527,
          -0.11709488183259964,
          -0.05162622034549713,
          0.16473615169525146,
          -0.1522178202867508,
          -0.03751709312200546,
          -0.1736539900302887,
          -0.12536437809467316,
          0.013703390024602413
         ],
         "z": [
          0.48911213874816895,
          0.5650818347930908,
          0.4726000130176544,
          0.6561100482940674,
          0.6022269129753113,
          0.5605523586273193,
          0.5820306539535522,
          0.5332679748535156,
          0.6016537547111511,
          0.5122929811477661,
          0.6226097941398621,
          0.5545503497123718,
          0.4675661325454712,
          0.5300754904747009,
          0.6012612581253052,
          0.6194790005683899,
          0.6797334551811218,
          0.5606784224510193,
          0.4246312081813812,
          0.5775552988052368,
          0.739648699760437,
          0.6712462902069092,
          0.45414209365844727,
          0.6250319480895996,
          0.5609535574913025,
          0.705960750579834,
          0.4240552484989166,
          0.6878847479820251,
          0.7799191474914551,
          0.7163296341896057,
          0.6825302243232727,
          0.48467543721199036,
          0.674491286277771,
          0.6327627897262573,
          0.515625,
          0.5939165949821472,
          0.44918885827064514,
          0.6086165308952332,
          0.6963651776313782,
          0.5702221393585205,
          0.4509708881378174,
          0.5360981822013855,
          0.5631682872772217,
          0.5907822847366333,
          0.7240520119667053,
          0.46892350912094116,
          0.6314003467559814,
          0.4154927730560303,
          0.5044483542442322,
          0.6105567216873169,
          0.5494564175605774,
          0.7189626693725586,
          0.5023635625839233,
          0.42657023668289185,
          0.45785489678382874,
          0.7003712058067322,
          0.6129233241081238,
          0.4909822940826416,
          0.6235916614532471,
          0.5366177558898926
         ]
        },
        {
         "customdata": [
          [
           "what on <unk> is diabetes ?",
           "two real author type fear",
           33
          ],
          [
           "is diabetes real ?",
           "two real author type fear",
           33
          ],
          [
           "what is the author is <unk> about type two diabetes ?",
           "two real author type fear",
           33
          ],
          [
           "what is diabetes ?",
           "two real author type fear",
           33
          ],
          [
           "what <unk> is the fear of diabetes ?",
           "two real author type fear",
           33
          ],
          [
           "what is diabetes millitus ?",
           "two real author type fear",
           33
          ],
          [
           "what is the relation of <unk> to diabetes melitus ?",
           "two real author type fear",
           33
          ],
          [
           "what is borderline diabetes ?",
           "two real author type fear",
           33
          ],
          [
           "what <unk> have diabetes ?",
           "two real author type fear",
           33
          ],
          [
           "what is the history of diabetes ?",
           "two real author type fear",
           33
          ],
          [
           "what is <unk> diabetes ?",
           "two real author type fear",
           33
          ],
          [
           "what is diabetes two ?",
           "two real author type fear",
           33
          ],
          [
           "what is level two diabetes ?",
           "two real author type fear",
           33
          ],
          [
           "what are to important <unk> to know about diabetes ?",
           "two real author type fear",
           33
          ],
          [
           "what is <unk> diabetes ?",
           "two real author type fear",
           33
          ],
          [
           "is anorexia part of diabetes ?",
           "two real author type fear",
           33
          ],
          [
           "what is diabetes <unk> . ?",
           "two real author type fear",
           33
          ]
         ],
         "hovertemplate": "summary=%{customdata[1]}<br>pc_1=%{x}<br>pc_2=%{y}<br>pc_3=%{z}<br>question=%{customdata[0]}<br>label=%{customdata[2]}<extra></extra>",
         "legendgroup": "two real author type fear",
         "marker": {
          "color": "#FF97FF",
          "size": 8,
          "symbol": "circle"
         },
         "mode": "markers",
         "name": "two real author type fear",
         "scene": "scene",
         "showlegend": true,
         "type": "scatter3d",
         "x": [
          0.6067401170730591,
          0.5694832801818848,
          0.6484500765800476,
          0.663392961025238,
          0.7288708090782166,
          0.6553568840026855,
          0.7089227437973022,
          0.6257302761077881,
          0.5420219898223877,
          0.6798175573348999,
          0.6899601221084595,
          0.5923560261726379,
          0.6101508736610413,
          0.5564115643501282,
          0.6557769179344177,
          0.6413568258285522,
          0.6138312220573425
         ],
         "y": [
          -0.10127979516983032,
          -0.008374870754778385,
          -0.138578861951828,
          -0.08571186661720276,
          -0.0554945133626461,
          -0.10213595628738403,
          -0.09730536490678787,
          -0.1246524527668953,
          -0.0704202875494957,
          -0.15886496007442474,
          -0.10752735286951065,
          -0.0861174687743187,
          -0.0691320151090622,
          -0.09892752766609192,
          -0.12947216629981995,
          -0.030535036697983742,
          -0.06597889959812164
         ],
         "z": [
          0.21121448278427124,
          0.1934881955385208,
          0.11497470736503601,
          0.27753251791000366,
          0.20484532415866852,
          0.22614604234695435,
          0.17479106783866882,
          0.30897650122642517,
          0.11532074958086014,
          0.16252239048480988,
          0.26502904295921326,
          0.11004333943128586,
          0.0748777687549591,
          0.22358617186546326,
          0.2590465843677521,
          0.17972759902477264,
          0.15651880204677582
         ]
        },
        {
         "customdata": [
          [
           "what condition results if insulin is not produced ?",
           "insulin produc releas cell get",
           12
          ],
          [
           "insulin is released into the blood when ?",
           "insulin produc releas cell get",
           12
          ],
          [
           "which of the following <unk> about insulin resistance and pre-diabetes is true ?",
           "insulin produc releas cell get",
           12
          ],
          [
           "why do some organs not need insulin in order to get and process glucose ?",
           "insulin produc releas cell get",
           12
          ],
          [
           "is insulin store in <unk> ?",
           "insulin produc releas cell get",
           12
          ],
          [
           "are there any tissues that are insulin dependent ?",
           "insulin produc releas cell get",
           12
          ],
          [
           "where did best and banting get the insulin from ?",
           "insulin produc releas cell get",
           12
          ],
          [
           "which hormone is responsible for lowering blood suger by <unk> glucose transport into cells ?",
           "insulin produc releas cell get",
           12
          ],
          [
           "info on insulin crystals ?",
           "insulin produc releas cell get",
           12
          ],
          [
           "when injected insulin is best absorbed via which route ?",
           "insulin produc releas cell get",
           12
          ],
          [
           "where did they get the insulin from ?",
           "insulin produc releas cell get",
           12
          ],
          [
           "when is insulin pump given ?",
           "insulin produc releas cell get",
           12
          ],
          [
           "where do you give insulin ?",
           "insulin produc releas cell get",
           12
          ],
          [
           "what are the materials in an insulin pump ?",
           "insulin produc releas cell get",
           12
          ],
          [
           "why is insulin released into the bloodstream ?",
           "insulin produc releas cell get",
           12
          ],
          [
           "does type one diabetes use a hormone called insulin ?",
           "insulin produc releas cell get",
           12
          ],
          [
           "is insulin <unk> ?",
           "insulin produc releas cell get",
           12
          ],
          [
           "what is regular insulin made of ?",
           "insulin produc releas cell get",
           12
          ],
          [
           "how is insulin <unk> ?",
           "insulin produc releas cell get",
           12
          ],
          [
           "is insulin available in <unk> ?",
           "insulin produc releas cell get",
           12
          ],
          [
           "how is a human insulin gene transferred into a bacterium which then makes insulin ?",
           "insulin produc releas cell get",
           12
          ],
          [
           "which is affected by insulin ?",
           "insulin produc releas cell get",
           12
          ],
          [
           "where in a cell are enzymes produced ?",
           "insulin produc releas cell get",
           12
          ],
          [
           "insulin <unk> to cells and the mechanism involved in triggering the cells to take in glucose ?",
           "insulin produc releas cell get",
           12
          ],
          [
           "which organelle is responsible for the production of insulin ?",
           "insulin produc releas cell get",
           12
          ],
          [
           "is nph insulin cloudy ?",
           "insulin produc releas cell get",
           12
          ],
          [
           "which body organ produce insulin ?",
           "insulin produc releas cell get",
           12
          ],
          [
           "what happens in there is less secretion of insulin ?",
           "insulin produc releas cell get",
           12
          ],
          [
           "when insulin is released how does it differ in a diabetic ?",
           "insulin produc releas cell get",
           12
          ],
          [
           "why is the body unable to produce insulin ?",
           "insulin produc releas cell get",
           12
          ],
          [
           "who is the <unk> of insulin ?",
           "insulin produc releas cell get",
           12
          ],
          [
           "what class of drugs stimulates insulin release in the body and is used in type ii diabetes ?",
           "insulin produc releas cell get",
           12
          ],
          [
           "what glands produce insulin and glucagon ?",
           "insulin produc releas cell get",
           12
          ],
          [
           "is insulin <unk> <unk> is curable ?",
           "insulin produc releas cell get",
           12
          ],
          [
           "what kind of organism is insulin ?",
           "insulin produc releas cell get",
           12
          ],
          [
           "does insulin make men <unk> ?",
           "insulin produc releas cell get",
           12
          ],
          [
           "excessive <unk> of insulin that produces hypoglycemia ?",
           "insulin produc releas cell get",
           12
          ],
          [
           "where do you get insulin from ?",
           "insulin produc releas cell get",
           12
          ],
          [
           "what is a noninfectious disease in which the body secretes too little insulin ?",
           "insulin produc releas cell get",
           12
          ],
          [
           "which type of diabetes means i need to inject insulin daily ?",
           "insulin produc releas cell get",
           12
          ],
          [
           "when is insulin released ?",
           "insulin produc releas cell get",
           12
          ],
          [
           "could two humans have some differences in their dna sequence for insulin yet still make the exact same insulin proteins ?",
           "insulin produc releas cell get",
           12
          ],
          [
           "what is basal insulin ?",
           "insulin produc releas cell get",
           12
          ],
          [
           "which <unk> is present in insulin ?",
           "insulin produc releas cell get",
           12
          ],
          [
           "where is insulin released from ?",
           "insulin produc releas cell get",
           12
          ],
          [
           "when target cells are less sensitive to the effects of insulin in type ii diabetes suggests ?",
           "insulin produc releas cell get",
           12
          ],
          [
           "a bolus insulin does it means some rapid insulin mixed with a lente one ?",
           "insulin produc releas cell get",
           12
          ],
          [
           "when mixing regular and nph insulin which do you draw up first ?",
           "insulin produc releas cell get",
           12
          ],
          [
           "what year did pure human insulin first become available for diabetics ?",
           "insulin produc releas cell get",
           12
          ],
          [
           "how do you reduce aggregation and inactivation by recombinant insulin ?",
           "insulin produc releas cell get",
           12
          ],
          [
           "what to do when you inject insulin in muscle ?",
           "insulin produc releas cell get",
           12
          ],
          [
           "which tissues are not insulin dependent ?",
           "insulin produc releas cell get",
           12
          ],
          [
           "hormone responsible for diabetes ?",
           "insulin produc releas cell get",
           12
          ],
          [
           "does the basement membrane become <unk> in diabetics ?",
           "insulin produc releas cell get",
           12
          ]
         ],
         "hovertemplate": "summary=%{customdata[1]}<br>pc_1=%{x}<br>pc_2=%{y}<br>pc_3=%{z}<br>question=%{customdata[0]}<br>label=%{customdata[2]}<extra></extra>",
         "legendgroup": "insulin produc releas cell get",
         "marker": {
          "color": "#FECB52",
          "size": 8,
          "symbol": "circle"
         },
         "mode": "markers",
         "name": "insulin produc releas cell get",
         "scene": "scene",
         "showlegend": true,
         "type": "scatter3d",
         "x": [
          0.20129717886447906,
          0.2493629902601242,
          0.2522272765636444,
          0.22977666556835175,
          0.3185015320777893,
          0.35091644525527954,
          0.18079179525375366,
          0.21459834277629852,
          0.16900499165058136,
          0.25719165802001953,
          0.16578641533851624,
          0.3040308952331543,
          0.21181686222553253,
          0.3259364664554596,
          0.29154571890830994,
          0.34049275517463684,
          0.2925485372543335,
          0.2882411479949951,
          0.420149028301239,
          0.34838762879371643,
          0.3300716280937195,
          0.30283331871032715,
          0.1638052612543106,
          0.2675815522670746,
          0.36364462971687317,
          0.448571115732193,
          0.28221964836120605,
          0.41886886954307556,
          0.24431376159191132,
          0.31005316972732544,
          0.2634601891040802,
          0.35126790404319763,
          0.33723029494285583,
          0.26186972856521606,
          0.35969066619873047,
          0.25975465774536133,
          0.24663089215755463,
          0.189864844083786,
          0.3487668037414551,
          0.37449610233306885,
          0.2390131950378418,
          0.253612756729126,
          0.4045534133911133,
          0.31848642230033875,
          0.21102569997310638,
          0.2580033242702484,
          0.2928430438041687,
          0.1337604969739914,
          0.23086091876029968,
          0.20433646440505981,
          0.38716137409210205,
          0.34187546372413635,
          0.30650368332862854,
          0.14108344912528992
         ],
         "y": [
          -0.26905980706214905,
          -0.2513259947299957,
          -0.14326585829257965,
          -0.12309997528791428,
          -0.3060150742530823,
          -0.04261205717921257,
          -0.25412631034851074,
          -0.11270194500684738,
          -0.14386175572872162,
          -0.2801940441131592,
          -0.21773090958595276,
          -0.2810216248035431,
          -0.16937431693077087,
          -0.3268500566482544,
          -0.22671686112880707,
          -0.1991972178220749,
          -0.21519948542118073,
          -0.2209700345993042,
          -0.2788243889808655,
          -0.2705467939376831,
          -0.1296890377998352,
          -0.12283904105424881,
          -0.16632290184497833,
          -0.10701483488082886,
          -0.14256002008914948,
          -0.21063868701457977,
          -0.16282546520233154,
          -0.2144273966550827,
          -0.25387293100357056,
          -0.1772562712430954,
          -0.19334293901920319,
          -0.19157904386520386,
          -0.25647351145744324,
          -0.22788260877132416,
          -0.19530995190143585,
          -0.15951281785964966,
          -0.3009350001811981,
          -0.19775718450546265,
          -0.19253922998905182,
          -0.21575050055980682,
          -0.23357746005058289,
          -0.024215735495090485,
          -0.23103997111320496,
          -0.24033528566360474,
          -0.2142639458179474,
          -0.03098142333328724,
          -0.24477694928646088,
          -0.1255902796983719,
          -0.19991406798362732,
          -0.07235579937696457,
          -0.3152695596218109,
          -0.07306774705648422,
          -0.11987060308456421,
          -0.18317244946956635
         ],
         "z": [
          -0.20351320505142212,
          -0.1721678227186203,
          -0.223194420337677,
          -0.09039551764726639,
          -0.0628708079457283,
          -0.03704385459423065,
          -0.047978419810533524,
          -0.14557525515556335,
          0.0037686608266085386,
          -0.0324297659099102,
          -0.09515611082315445,
          0.007262627128511667,
          -0.0442192479968071,
          -0.013659163378179073,
          -0.1923210769891739,
          0.02718064747750759,
          -0.0626731812953949,
          -0.012129331938922405,
          -0.07172546535730362,
          -0.03478194773197174,
          -0.1753951609134674,
          -0.05442813038825989,
          -0.23138505220413208,
          -0.13889950513839722,
          -0.09243703633546829,
          -0.09648068994283676,
          -0.1291600614786148,
          -0.18514925241470337,
          -0.24749456346035004,
          -0.1114816889166832,
          -0.04987427964806557,
          -0.022428493946790695,
          -0.27372920513153076,
          -0.10236841440200806,
          -0.132351815700531,
          0.003576849354431033,
          -0.1295091211795807,
          -0.06766325235366821,
          -0.19712577760219574,
          0.05800797417759895,
          -0.19738632440567017,
          -0.11724521219730377,
          -0.12184073776006699,
          -0.10776901245117188,
          -0.16451314091682434,
          -0.16705510020256042,
          0.06669548898935318,
          -0.08366511762142181,
          0.0367661751806736,
          -0.03352322801947594,
          -0.11145061254501343,
          -0.040041688829660416,
          0.05001881718635559,
          -0.2025114893913269
         ]
        },
        {
         "customdata": [
          [
           "why <unk> patients feel hunger ?",
           "glucos type two affect use",
           10
          ],
          [
           "what happens in type one of diabetes ?",
           "glucos type two affect use",
           10
          ],
          [
           "how is technology used to diagnose or treat type two diabetes ?",
           "glucos type two affect use",
           10
          ],
          [
           "how does type two diabetes affect the nervous system ?",
           "glucos type two affect use",
           10
          ],
          [
           "how has glucose meters impacted society ?",
           "glucos type two affect use",
           10
          ],
          [
           "what does a <unk> management plan look like ?",
           "glucos type two affect use",
           10
          ],
          [
           "what is a cure for <unk> ?",
           "glucos type two affect use",
           10
          ],
          [
           "can a dog develop diabetes ?",
           "glucos type two affect use",
           10
          ],
          [
           "what important about diabetes ?",
           "glucos type two affect use",
           10
          ],
          [
           "how many animals are diagnosed with diabetes ?",
           "glucos type two affect use",
           10
          ],
          [
           "what is the meaning or definition of diabetes ?",
           "glucos type two affect use",
           10
          ],
          [
           "does type two diabetes cause severe itching in the <unk> area ?",
           "glucos type two affect use",
           10
          ],
          [
           "a feature of ketosis is that it ?",
           "glucos type two affect use",
           10
          ],
          [
           "will powder glucose do the same as liquid glucose ?",
           "glucos type two affect use",
           10
          ],
          [
           "an <unk> drug that doesnt effect asthmatic patient ?",
           "glucos type two affect use",
           10
          ],
          [
           "what causes <unk> of stomach in men ?",
           "glucos type two affect use",
           10
          ],
          [
           "is it ok to use the same spoon of diabetic ?",
           "glucos type two affect use",
           10
          ],
          [
           "what is a diabete ?",
           "glucos type two affect use",
           10
          ],
          [
           "in what condition people take glucose ?",
           "glucos type two affect use",
           10
          ],
          [
           "glycosuria is a failure in ?",
           "glucos type two affect use",
           10
          ],
          [
           "is glucose edible ?",
           "glucos type two affect use",
           10
          ],
          [
           "why is glucose elevated in the urine of diabetics ?",
           "glucos type two affect use",
           10
          ],
          [
           "what is a glucometer used for ?",
           "glucos type two affect use",
           10
          ],
          [
           "what are opinions on melabic ?",
           "glucos type two affect use",
           10
          ],
          [
           "what is found in the urine of diabetics ?",
           "glucos type two affect use",
           10
          ],
          [
           "what are some diabetes diets ?",
           "glucos type two affect use",
           10
          ],
          [
           "what is <unk> ?",
           "glucos type two affect use",
           10
          ],
          [
           "how would someone <unk> to the magazine diabetes care ?",
           "glucos type two affect use",
           10
          ],
          [
           "can you give glucose orally to a unresponsive diabetic ?",
           "glucos type two affect use",
           10
          ],
          [
           "how can a person acquire diabetes ?",
           "glucos type two affect use",
           10
          ],
          [
           "what part of the body gets affected by obesity ?",
           "glucos type two affect use",
           10
          ],
          [
           "what <unk> players have diabetes ?",
           "glucos type two affect use",
           10
          ],
          [
           "can having diabetes make it hard to get over a cold ?",
           "glucos type two affect use",
           10
          ],
          [
           "what caused diabetes ?",
           "glucos type two affect use",
           10
          ],
          [
           "what happens when people get type two diabetes ?",
           "glucos type two affect use",
           10
          ],
          [
           "what body systems are affected by diabetes type two ?",
           "glucos type two affect use",
           10
          ],
          [
           "what is the <unk> <unk> check machine ?",
           "glucos type two affect use",
           10
          ],
          [
           "what is poor eating habits ?",
           "glucos type two affect use",
           10
          ],
          [
           "is there a food without glucose ?",
           "glucos type two affect use",
           10
          ],
          [
           "is <unk> the same as glucose ?",
           "glucos type two affect use",
           10
          ],
          [
           "diabetes is a result of what ?",
           "glucos type two affect use",
           10
          ],
          [
           "is glucose created in the <unk> ?",
           "glucos type two affect use",
           10
          ],
          [
           "how is type one diabetes detected ?",
           "glucos type two affect use",
           10
          ],
          [
           "what causes high triglycerides ?",
           "glucos type two affect use",
           10
          ],
          [
           "what do you eat when you have diabetes ?",
           "glucos type two affect use",
           10
          ],
          [
           "what part of the body does diabetes effect ?",
           "glucos type two affect use",
           10
          ],
          [
           "how does diabetes effect people ?",
           "glucos type two affect use",
           10
          ],
          [
           "what do people have that can not regulate sugar level in their blood properly ?",
           "glucos type two affect use",
           10
          ],
          [
           "is glucose <unk> given to diabetic patient ?",
           "glucos type two affect use",
           10
          ],
          [
           "what sugar is in your urine ?",
           "glucos type two affect use",
           10
          ],
          [
           "what is diabetes management ?",
           "glucos type two affect use",
           10
          ],
          [
           "which part of the body is most affected by diabetes ?",
           "glucos type two affect use",
           10
          ],
          [
           "what causes low <unk> in the blood ?",
           "glucos type two affect use",
           10
          ],
          [
           "when do you get diabetes type two ?",
           "glucos type two affect use",
           10
          ],
          [
           "how can you receive free blood glucose <unk> ?",
           "glucos type two affect use",
           10
          ],
          [
           "why does your butt leak ?",
           "glucos type two affect use",
           10
          ],
          [
           "how much people died of diabetes before insulin ?",
           "glucos type two affect use",
           10
          ],
          [
           "can using more than one type of drugs kill you faster ?",
           "glucos type two affect use",
           10
          ],
          [
           "what is a hemoglucotest ?",
           "glucos type two affect use",
           10
          ],
          [
           "do diabetics lack glucose ?",
           "glucos type two affect use",
           10
          ],
          [
           "how is a person with diabetes melitus affected ?",
           "glucos type two affect use",
           10
          ],
          [
           "what organs do type two diabetes affect ?",
           "glucos type two affect use",
           10
          ],
          [
           "which organs are affected when you have diabetes type two ?",
           "glucos type two affect use",
           10
          ],
          [
           "how is the digestive system affected by diabetes ?",
           "glucos type two affect use",
           10
          ],
          [
           "how many kids are diagnosed with diabetes each day ?",
           "glucos type two affect use",
           10
          ],
          [
           "when is it time to put down a dog with diabetes ?",
           "glucos type two affect use",
           10
          ],
          [
           "what is pre-diabetes ?",
           "glucos type two affect use",
           10
          ],
          [
           "what is fluid and electrolyte balance and how is it maintained ?",
           "glucos type two affect use",
           10
          ],
          [
           "how many times does a person have to get a diabetes diagnosis ?",
           "glucos type two affect use",
           10
          ],
          [
           "is a differential diagnosis the same as a <unk> ?",
           "glucos type two affect use",
           10
          ],
          [
           "can you use glucose in a recipe that calls for liquid glucose ?",
           "glucos type two affect use",
           10
          ]
         ],
         "hovertemplate": "summary=%{customdata[1]}<br>pc_1=%{x}<br>pc_2=%{y}<br>pc_3=%{z}<br>question=%{customdata[0]}<br>label=%{customdata[2]}<extra></extra>",
         "legendgroup": "glucos type two affect use",
         "marker": {
          "color": "#636efa",
          "size": 8,
          "symbol": "circle"
         },
         "mode": "markers",
         "name": "glucos type two affect use",
         "scene": "scene",
         "showlegend": true,
         "type": "scatter3d",
         "x": [
          0.045951828360557556,
          0.21141910552978516,
          0.21655549108982086,
          0.2273172289133072,
          0.0550120547413826,
          0.1104389876127243,
          -0.016514504328370094,
          0.005455901380628347,
          0.13943840563297272,
          0.06511268764734268,
          0.07475540786981583,
          0.21910856664180756,
          0.021217305213212967,
          -0.09386429190635681,
          -0.014743819832801819,
          0.14639650285243988,
          -0.1187564879655838,
          -0.0014143827138468623,
          -0.03482208028435707,
          -0.020206449553370476,
          -0.04746880754828453,
          0.03174667805433273,
          -0.039773277938365936,
          0.11607642471790314,
          0.06543150544166565,
          0.11006346344947815,
          0.08176423609256744,
          0.019376695156097412,
          -0.08969203382730484,
          -0.008367965929210186,
          0.16526688635349274,
          0.08447987586259842,
          -0.05565929785370827,
          0.1109008863568306,
          0.17374449968338013,
          0.2115796059370041,
          0.03309393674135208,
          0.08185288310050964,
          -0.025140121579170227,
          0.001842360943555832,
          0.031151026487350464,
          0.04555044323205948,
          0.19702394306659698,
          0.09561123698949814,
          0.10758393257856369,
          0.15357472002506256,
          0.0379515066742897,
          0.057719260454177856,
          -0.09170855581760406,
          -0.019951464608311653,
          0.1409752368927002,
          0.1739601343870163,
          0.10903853923082352,
          0.10789034515619278,
          -0.017764480784535408,
          0.05991551652550697,
          0.147588849067688,
          -0.07969323545694351,
          -0.002099379198625684,
          -0.018564946949481964,
          0.006937708705663681,
          0.2663058936595917,
          0.24834056198596954,
          0.20259396731853485,
          0.10313118249177933,
          0.027400121092796326,
          0.047712404280900955,
          0.08248252421617508,
          -0.010599007830023766,
          -0.05366057902574539,
          -0.11217936873435974
         ],
         "y": [
          0.15803802013397217,
          0.0790347158908844,
          0.05891352519392967,
          -0.07045704126358032,
          -0.15086156129837036,
          -0.017434271052479744,
          -0.0562111996114254,
          0.11808028817176819,
          0.07507293671369553,
          0.19856789708137512,
          -0.07254235446453094,
          0.10808989405632019,
          -0.14693838357925415,
          -0.2890029549598694,
          0.09432688355445862,
          0.011785478331148624,
          -0.1756872683763504,
          -0.07537762075662613,
          -0.23792409896850586,
          -0.0010780954034999013,
          -0.18964292109012604,
          -0.33402639627456665,
          -0.07796277105808258,
          0.13655316829681396,
          -0.3187943696975708,
          0.11907321959733963,
          0.019431842491030693,
          0.1215478926897049,
          -0.2543157637119293,
          0.08281179517507553,
          -0.036644984036684036,
          0.0722951740026474,
          0.10329553484916687,
          0.047978177666664124,
          0.07132349908351898,
          -0.017551323398947716,
          -0.13238979876041412,
          0.08629515022039413,
          -0.20945437252521515,
          -0.2211916446685791,
          -0.03900601714849472,
          -0.21985143423080444,
          0.09139084815979004,
          0.049029577523469925,
          0.07722895592451096,
          -0.09788007289171219,
          0.12067342549562454,
          0.14789535105228424,
          -0.22042296826839447,
          -0.3790982663631439,
          0.033047713339328766,
          -0.026198463514447212,
          0.02042219787836075,
          0.12227367609739304,
          -0.17105193436145782,
          0.06086985766887665,
          0.0997789055109024,
          0.061093661934137344,
          -0.04928992688655853,
          -0.2846500277519226,
          0.04066290706396103,
          -0.0358877032995224,
          -0.010903107933700085,
          -0.04896588250994682,
          0.22564545273780823,
          0.0959700271487236,
          -0.047477755695581436,
          -0.11069165170192719,
          0.014717994257807732,
          -0.09128449857234955,
          -0.2676929235458374
         ],
         "z": [
          -0.27602672576904297,
          -0.3844737708568573,
          -0.23989556729793549,
          -0.3342191278934479,
          -0.2082558572292328,
          -0.2540877163410187,
          -0.24782060086727142,
          -0.19712020456790924,
          -0.31861627101898193,
          -0.2586296796798706,
          -0.38628092408180237,
          -0.45300212502479553,
          -0.3563210368156433,
          -0.2878144681453705,
          -0.33666351437568665,
          -0.4672086536884308,
          -0.276192307472229,
          -0.3337622880935669,
          -0.39620113372802734,
          -0.34507811069488525,
          -0.3248395323753357,
          -0.33402174711227417,
          -0.27987658977508545,
          -0.34251531958580017,
          -0.3572141230106354,
          -0.28470492362976074,
          -0.33724382519721985,
          -0.3011325001716614,
          -0.23701271414756775,
          -0.22492650151252747,
          -0.4043539762496948,
          -0.31453078985214233,
          -0.22525401413440704,
          -0.3721126914024353,
          -0.3956022262573242,
          -0.32706794142723083,
          -0.26514488458633423,
          -0.24561983346939087,
          -0.27632224559783936,
          -0.32648396492004395,
          -0.3821520209312439,
          -0.3301311731338501,
          -0.27771419286727905,
          -0.48088327050209045,
          -0.2028598189353943,
          -0.4024294316768646,
          -0.3504849672317505,
          -0.385393351316452,
          -0.22986140847206116,
          -0.28812074661254883,
          -0.2883880138397217,
          -0.3609229028224945,
          -0.4283334016799927,
          -0.16534997522830963,
          -0.2025185078382492,
          -0.3963854908943176,
          -0.4223598539829254,
          -0.16882599890232086,
          -0.3165149390697479,
          -0.31877973675727844,
          -0.2434254139661789,
          -0.38486015796661377,
          -0.345416784286499,
          -0.2710804343223572,
          -0.293940931558609,
          -0.14377737045288086,
          -0.3158177137374878,
          -0.1832786649465561,
          -0.17401859164237976,
          -0.38039684295654297,
          -0.3228658139705658
         ]
        },
        {
         "customdata": [
          [
           "how do you treated a patient that has been giving too much insulin ?",
           "insulin syring use lantu treat",
           19
          ],
          [
           "can insulin syringes be used to measure any medication for <unk> use ?",
           "insulin syring use lantu treat",
           19
          ],
          [
           "can insulin therapy be administered by an oral medication ?",
           "insulin syring use lantu treat",
           19
          ],
          [
           "can you <unk> syringes with lantus insulin ?",
           "insulin syring use lantu treat",
           19
          ],
          [
           "how can you treat diabetes except for injecting insulin ?",
           "insulin syring use lantu treat",
           19
          ],
          [
           "`` i know lantus is a diabetes medicine , but how is it applied i could not find the lantus package insert '' ?",
           "insulin syring use lantu treat",
           19
          ],
          [
           "if using a insulin syringe instead of tb syringe-how much tb solution should be drawn up ?",
           "insulin syring use lantu treat",
           19
          ],
          [
           "is massage contraindicated after insulin injection ?",
           "insulin syring use lantu treat",
           19
          ],
          [
           "can diabetes tab metforin be taken with cold meds ?",
           "insulin syring use lantu treat",
           19
          ],
          [
           "what if your diabetic client asks you to fill a syringe with her morning dose of insulin what should you do ?",
           "insulin syring use lantu treat",
           19
          ]
         ],
         "hovertemplate": "summary=%{customdata[1]}<br>pc_1=%{x}<br>pc_2=%{y}<br>pc_3=%{z}<br>question=%{customdata[0]}<br>label=%{customdata[2]}<extra></extra>",
         "legendgroup": "insulin syring use lantu treat",
         "marker": {
          "color": "#EF553B",
          "size": 8,
          "symbol": "circle"
         },
         "mode": "markers",
         "name": "insulin syring use lantu treat",
         "scene": "scene",
         "showlegend": true,
         "type": "scatter3d",
         "x": [
          0.0796557366847992,
          0.05952906981110573,
          0.09881573170423508,
          0.15115538239479065,
          0.12255130708217621,
          0.05078154057264328,
          0.051093392074108124,
          0.14306867122650146,
          0.03225574642419815,
          0.002933341544121504
         ],
         "y": [
          -0.064023457467556,
          -0.15390290319919586,
          -0.18086197972297668,
          -0.1426847279071808,
          -0.1132456362247467,
          -0.0767415314912796,
          -0.0816110223531723,
          -0.19878414273262024,
          -0.14442670345306396,
          -0.1917448788881302
         ],
         "z": [
          0.3486346900463104,
          0.3134390115737915,
          0.30728814005851746,
          0.31216418743133545,
          0.353672593832016,
          0.33011382818222046,
          0.2685028910636902,
          0.28218382596969604,
          0.40508079528808594,
          0.2671612799167633
         ]
        },
        {
         "customdata": [
          [
           "whats a good diet if you have type two diabetes ?",
           "diet plan good menu meal",
           30
          ],
          [
           "why do you need a balanced diet ?",
           "diet plan good menu meal",
           30
          ],
          [
           "do restaurants carry diabetic diet menus ?",
           "diet plan good menu meal",
           30
          ],
          [
           "a safe diabetic meal plan ?",
           "diet plan good menu meal",
           30
          ],
          [
           "where could i find a diet plan for diabetics ?",
           "diet plan good menu meal",
           30
          ],
          [
           "what are some healthy diabetic diet plans ?",
           "diet plan good menu meal",
           30
          ],
          [
           "is potato chip good for diet ?",
           "diet plan good menu meal",
           30
          ],
          [
           "what are the best diabetic diets ?",
           "diet plan good menu meal",
           30
          ],
          [
           "should a non-diabetic follow a diabetic diet menu ?",
           "diet plan good menu meal",
           30
          ],
          [
           "how long does diabetic diet take to work ?",
           "diet plan good menu meal",
           30
          ],
          [
           "what are some general rules for a diet diabetic ?",
           "diet plan good menu meal",
           30
          ],
          [
           "what are some benefits to a low sugar diet ?",
           "diet plan good menu meal",
           30
          ],
          [
           "what are diabetic meals and their significance ?",
           "diet plan good menu meal",
           30
          ],
          [
           "what kind of foods are good for a diet for diabetes ?",
           "diet plan good menu meal",
           30
          ],
          [
           "what should a diabetic is meal plan have ?",
           "diet plan good menu meal",
           30
          ],
          [
           "do you have to change your diet to take slim fast ?",
           "diet plan good menu meal",
           30
          ],
          [
           "where can you find the best diabetic diet plan ?",
           "diet plan good menu meal",
           30
          ],
          [
           "will the glycemic index diet help diabetics ?",
           "diet plan good menu meal",
           30
          ],
          [
           "does a diabetic diet menu help diabetics ?",
           "diet plan good menu meal",
           30
          ],
          [
           "what are some simple diet plans for a diabetic ?",
           "diet plan good menu meal",
           30
          ],
          [
           "what foods and diet plans are good for a diabetes patient ?",
           "diet plan good menu meal",
           30
          ],
          [
           "what is a good diabetic weight loss diet plan ?",
           "diet plan good menu meal",
           30
          ],
          [
           "what are the medical implications of diabetics not following their diet ?",
           "diet plan good menu meal",
           30
          ],
          [
           "what are some good diets ?",
           "diet plan good menu meal",
           30
          ],
          [
           "what is a healthy <unk> meal plan for a diabetic ?",
           "diet plan good menu meal",
           30
          ],
          [
           "diabetic diet menu ?",
           "diet plan good menu meal",
           30
          ],
          [
           "what is a sample diabetic diet menu ?",
           "diet plan good menu meal",
           30
          ],
          [
           "what are some diabetic diets to follow ?",
           "diet plan good menu meal",
           30
          ],
          [
           "what are the best and effective diet for a diabetic people ?",
           "diet plan good menu meal",
           30
          ],
          [
           "what are the best food habits for eating with diabetes ?",
           "diet plan good menu meal",
           30
          ],
          [
           "what are some safe dessert alternatives when following a diabetic diet ?",
           "diet plan good menu meal",
           30
          ],
          [
           "what are some good diabetic diet foods ?",
           "diet plan good menu meal",
           30
          ],
          [
           "what can i eat in a diabetic diet ?",
           "diet plan good menu meal",
           30
          ],
          [
           "what nutritional diets are there for diabetics ?",
           "diet plan good menu meal",
           30
          ],
          [
           "the advantages of a diabetic diet plan ?",
           "diet plan good menu meal",
           30
          ],
          [
           "which fruit is good for a diabetic diet ?",
           "diet plan good menu meal",
           30
          ],
          [
           "diabetic diet tips ?",
           "diet plan good menu meal",
           30
          ],
          [
           "what diabetic eating plan is recommended ?",
           "diet plan good menu meal",
           30
          ],
          [
           "what are some easy diets for diabetics that require little preperation ?",
           "diet plan good menu meal",
           30
          ],
          [
           "what can an unbalanced diet lead to when you are a diabetic ?",
           "diet plan good menu meal",
           30
          ],
          [
           "cutting white bread in a diabetic diet ?",
           "diet plan good menu meal",
           30
          ],
          [
           "what are examples of some diabetic diet meal plan ?",
           "diet plan good menu meal",
           30
          ],
          [
           "what are the latest nutrition guides for diabetics ?",
           "diet plan good menu meal",
           30
          ],
          [
           "what are the top recommended diabetics diets ?",
           "diet plan good menu meal",
           30
          ]
         ],
         "hovertemplate": "summary=%{customdata[1]}<br>pc_1=%{x}<br>pc_2=%{y}<br>pc_3=%{z}<br>question=%{customdata[0]}<br>label=%{customdata[2]}<extra></extra>",
         "legendgroup": "diet plan good menu meal",
         "marker": {
          "color": "#00cc96",
          "size": 8,
          "symbol": "circle"
         },
         "mode": "markers",
         "name": "diet plan good menu meal",
         "scene": "scene",
         "showlegend": true,
         "type": "scatter3d",
         "x": [
          -0.37539079785346985,
          -0.386020690202713,
          -0.6312421560287476,
          -0.6911594867706299,
          -0.6554501056671143,
          -0.6071735620498657,
          -0.4627286493778229,
          -0.5260492563247681,
          -0.5915071368217468,
          -0.47778192162513733,
          -0.5498935580253601,
          -0.43863701820373535,
          -0.512457549571991,
          -0.4945117235183716,
          -0.6418653130531311,
          -0.4363693594932556,
          -0.7056018710136414,
          -0.5114824175834656,
          -0.6359186768531799,
          -0.5769504308700562,
          -0.5214510560035706,
          -0.4421853721141815,
          -0.5216455459594727,
          -0.516784131526947,
          -0.6689658164978027,
          -0.6469593644142151,
          -0.6924365758895874,
          -0.5654247403144836,
          -0.5056039094924927,
          -0.5169214606285095,
          -0.6177324652671814,
          -0.6430730223655701,
          -0.5014100074768066,
          -0.5627954006195068,
          -0.5768598318099976,
          -0.4365127384662628,
          -0.6281020641326904,
          -0.6015461683273315,
          -0.5822737216949463,
          -0.3663833737373352,
          -0.5533198118209839,
          -0.635619580745697,
          -0.5401705503463745,
          -0.5719532370567322
         ],
         "y": [
          0.3230660557746887,
          0.35324129462242126,
          0.25676923990249634,
          0.1580095738172531,
          0.3784710466861725,
          0.187358558177948,
          0.242026686668396,
          0.1929788589477539,
          0.22165565192699432,
          0.2056397646665573,
          0.1717357188463211,
          0.2741837203502655,
          0.10850869119167328,
          0.2813892066478729,
          0.13760650157928467,
          0.36901190876960754,
          0.3239733576774597,
          0.2150682955980301,
          0.28397005796432495,
          0.16636249423027039,
          0.2859574258327484,
          0.23420049250125885,
          0.10819704830646515,
          0.1525745540857315,
          0.15641941130161285,
          0.24829943478107452,
          0.22799482941627502,
          0.16457416117191315,
          0.15322495996952057,
          0.3232657313346863,
          0.180876225233078,
          0.16059085726737976,
          0.2853849232196808,
          0.16117672622203827,
          0.2585236430168152,
          0.21317549049854279,
          0.25228843092918396,
          0.18345874547958374,
          0.0857844427227974,
          0.29323524236679077,
          0.24389789998531342,
          0.20093467831611633,
          0.08553232252597809,
          0.20621412992477417
         ],
         "z": [
          0.3056078851222992,
          0.2907909154891968,
          0.3582311272621155,
          0.32161831855773926,
          0.39978256821632385,
          0.48789238929748535,
          0.23378120362758636,
          0.557189404964447,
          0.36644601821899414,
          0.382344514131546,
          0.3903244435787201,
          0.2984134554862976,
          0.4058176279067993,
          0.26622113585472107,
          0.3040512800216675,
          0.2832098603248596,
          0.4186191260814667,
          0.30275896191596985,
          0.4242701828479767,
          0.4162213206291199,
          0.2844649851322174,
          0.38576993346214294,
          0.4630602300167084,
          0.572318971157074,
          0.2861242890357971,
          0.4493113160133362,
          0.41505929827690125,
          0.5103150606155396,
          0.334604412317276,
          0.32202547788619995,
          0.38587242364883423,
          0.4993295967578888,
          0.43098217248916626,
          0.5867299437522888,
          0.44266608357429504,
          0.2203795611858368,
          0.4954407513141632,
          0.3164193034172058,
          0.38480401039123535,
          0.35581257939338684,
          0.3811580240726471,
          0.45975059270858765,
          0.34944698214530945,
          0.5990732312202454
         ]
        },
        {
         "customdata": [
          [
           "can you suggest some good gestational diabetes recipes ?",
           "diet type two good use",
           40
          ],
          [
           "can the same diet plan be used for type one and type two diabetes ?",
           "diet type two good use",
           40
          ],
          [
           "what diet to use in reversing diabetes ?",
           "diet type two good use",
           40
          ],
          [
           "diabetes chart ?",
           "diet type two good use",
           40
          ],
          [
           "all candy diet for type two diabetes ?",
           "diet type two good use",
           40
          ],
          [
           "is wheat bran good fiber for type two diabetes patients ?",
           "diet type two good use",
           40
          ],
          [
           "can type two diabetes be cured with proper diet ?",
           "diet type two good use",
           40
          ],
          [
           "how can diabetics control the amount of carbohydrates in their diet ?",
           "diet type two good use",
           40
          ],
          [
           "is there a diabetes diet chart i can follow ?",
           "diet type two good use",
           40
          ],
          [
           "can i reverse diabetes with a six hundred calorie diet ?",
           "diet type two good use",
           40
          ]
         ],
         "hovertemplate": "summary=%{customdata[1]}<br>pc_1=%{x}<br>pc_2=%{y}<br>pc_3=%{z}<br>question=%{customdata[0]}<br>label=%{customdata[2]}<extra></extra>",
         "legendgroup": "diet type two good use",
         "marker": {
          "color": "#ab63fa",
          "size": 8,
          "symbol": "circle"
         },
         "mode": "markers",
         "name": "diet type two good use",
         "scene": "scene",
         "showlegend": true,
         "type": "scatter3d",
         "x": [
          -0.5204973816871643,
          -0.40625253319740295,
          -0.4019409716129303,
          -0.4851290285587311,
          -0.40466079115867615,
          -0.45348799228668213,
          -0.45316457748413086,
          -0.36823639273643494,
          -0.49981480836868286,
          -0.47308239340782166
         ],
         "y": [
          0.4155600368976593,
          0.36783087253570557,
          0.42179736495018005,
          0.47107118368148804,
          0.3280310332775116,
          0.3177029490470886,
          0.37778136134147644,
          0.39726242423057556,
          0.4225366413593292,
          0.41044771671295166
         ],
         "z": [
          0.11909686028957367,
          0.10938087105751038,
          0.20955722033977509,
          0.15356788039207458,
          0.08391479402780533,
          0.1630311906337738,
          0.1529657542705536,
          0.18152230978012085,
          0.1660129278898239,
          0.23331598937511444
         ]
        },
        {
         "customdata": [
          [
           "what type diabetic is type one ?",
           "insulin type disord product resist",
           31
          ],
          [
           "what type of diabetes usually requires insulin ?",
           "insulin type disord product resist",
           31
          ],
          [
           "chronic disorder caused by inadequate production or use of insulin is a ?",
           "insulin type disord product resist",
           31
          ],
          [
           "the production of too much insulin is typical of ?",
           "insulin type disord product resist",
           31
          ],
          [
           "which type of diabetes <unk> is an insulin resistance disorder ?",
           "insulin type disord product resist",
           31
          ],
          [
           "what is characteristic of the onset of insulin resistance ?",
           "insulin type disord product resist",
           31
          ],
          [
           "onset of regular insulin ?",
           "insulin type disord product resist",
           31
          ]
         ],
         "hovertemplate": "summary=%{customdata[1]}<br>pc_1=%{x}<br>pc_2=%{y}<br>pc_3=%{z}<br>question=%{customdata[0]}<br>label=%{customdata[2]}<extra></extra>",
         "legendgroup": "insulin type disord product resist",
         "marker": {
          "color": "#FFA15A",
          "size": 8,
          "symbol": "circle"
         },
         "mode": "markers",
         "name": "insulin type disord product resist",
         "scene": "scene",
         "showlegend": true,
         "type": "scatter3d",
         "x": [
          0.4299887716770172,
          0.42296868562698364,
          0.37475013732910156,
          0.34458470344543457,
          0.42050406336784363,
          0.4113242030143738,
          0.3744840919971466
         ],
         "y": [
          0.08576519787311554,
          0.02072359062731266,
          0.03327003866434097,
          -0.026514720171689987,
          0.028372835367918015,
          -0.038502827286720276,
          -0.015156956389546394
         ],
         "z": [
          -0.1419694870710373,
          -0.19810524582862854,
          -0.2833731472492218,
          -0.20478519797325134,
          -0.2626556158065796,
          -0.2609163224697113,
          -0.19107048213481903
         ]
        },
        {
         "customdata": [
          [
           "what is the function of <unk> ?",
           "function gonad normal valu site",
           36
          ],
          [
           "what is the function of the <unk> ?",
           "function gonad normal valu site",
           36
          ],
          [
           "what is the normal value of <unk> ?",
           "function gonad normal valu site",
           36
          ],
          [
           "what is the site of attack for type one diabetes ?",
           "function gonad normal valu site",
           36
          ],
          [
           "what is the function of the <unk> ?",
           "function gonad normal valu site",
           36
          ],
          [
           "what organ is the center for the storage and production of glucose ?",
           "function gonad normal valu site",
           36
          ],
          [
           "what are the functions of gonads ?",
           "function gonad normal valu site",
           36
          ],
          [
           "what is the function of <unk> ?",
           "function gonad normal valu site",
           36
          ],
          [
           "what processes in the body are not functioning correctly in a patient with diabetes ?",
           "function gonad normal valu site",
           36
          ],
          [
           "what is the function of the gonads ?",
           "function gonad normal valu site",
           36
          ],
          [
           "what is the function of <unk> ?",
           "function gonad normal valu site",
           36
          ],
          [
           "function of a <unk> ?",
           "function gonad normal valu site",
           36
          ]
         ],
         "hovertemplate": "summary=%{customdata[1]}<br>pc_1=%{x}<br>pc_2=%{y}<br>pc_3=%{z}<br>question=%{customdata[0]}<br>label=%{customdata[2]}<extra></extra>",
         "legendgroup": "function gonad normal valu site",
         "marker": {
          "color": "#19d3f3",
          "size": 8,
          "symbol": "circle"
         },
         "mode": "markers",
         "name": "function gonad normal valu site",
         "scene": "scene",
         "showlegend": true,
         "type": "scatter3d",
         "x": [
          0.17976899445056915,
          0.24960610270500183,
          0.15969157218933105,
          0.18050630390644073,
          0.2209678441286087,
          0.11415188759565353,
          0.25478309392929077,
          0.18552352488040924,
          0.24079568684101105,
          0.26658451557159424,
          0.19211821258068085,
          0.16073505580425262
         ],
         "y": [
          -0.3523947596549988,
          -0.45781564712524414,
          -0.44545823335647583,
          -0.41666319966316223,
          -0.42392727732658386,
          -0.35246261954307556,
          -0.3585123121738434,
          -0.384246826171875,
          -0.35248249769210815,
          -0.3943217694759369,
          -0.3942359685897827,
          -0.3467203676700592
         ],
         "z": [
          -0.5096348524093628,
          -0.5725765228271484,
          -0.5449431538581848,
          -0.652733325958252,
          -0.5608716607093811,
          -0.480940043926239,
          -0.5988391041755676,
          -0.533769965171814,
          -0.47930797934532166,
          -0.5896663665771484,
          -0.5693203210830688,
          -0.5801432132720947
         ]
        },
        {
         "customdata": [
          [
           "what is the role of insulin to diabetes ?",
           "insulin role best diabit n",
           41
          ],
          [
           "what is the best insulin for diabites ?",
           "insulin role best diabit n",
           41
          ],
          [
           "what is the <unk> between <unk> n insulin and novolog insulin ?",
           "insulin role best diabit n",
           41
          ],
          [
           "what is the risk of insulin ?",
           "insulin role best diabit n",
           41
          ],
          [
           "how long does insulin last in your <unk> ?",
           "insulin role best diabit n",
           41
          ],
          [
           "insulin how is it used ?",
           "insulin role best diabit n",
           41
          ],
          [
           "what is insulin is functions ?",
           "insulin role best diabit n",
           41
          ],
          [
           "what makes insulin in your body ?",
           "insulin role best diabit n",
           41
          ],
          [
           "what is endogenous insulin ?",
           "insulin role best diabit n",
           41
          ],
          [
           "what is the <unk> of insulin ?",
           "insulin role best diabit n",
           41
          ]
         ],
         "hovertemplate": "summary=%{customdata[1]}<br>pc_1=%{x}<br>pc_2=%{y}<br>pc_3=%{z}<br>question=%{customdata[0]}<br>label=%{customdata[2]}<extra></extra>",
         "legendgroup": "insulin role best diabit n",
         "marker": {
          "color": "#FF6692",
          "size": 8,
          "symbol": "circle"
         },
         "mode": "markers",
         "name": "insulin role best diabit n",
         "scene": "scene",
         "showlegend": true,
         "type": "scatter3d",
         "x": [
          0.5830370783805847,
          0.5663042068481445,
          0.5302122235298157,
          0.5909786820411682,
          0.4396871030330658,
          0.470777690410614,
          0.5145220160484314,
          0.5029356479644775,
          0.5226441025733948,
          0.5672714114189148
         ],
         "y": [
          -0.24058233201503754,
          -0.30384141206741333,
          -0.19589968025684357,
          -0.3070058524608612,
          -0.34175848960876465,
          -0.2763826549053192,
          -0.28151464462280273,
          -0.34052690863609314,
          -0.2475452721118927,
          -0.28258851170539856
         ],
         "z": [
          -0.08444122970104218,
          -0.01842992566525936,
          -0.05298047512769699,
          -0.09163405746221542,
          -0.06861278414726257,
          -0.029514286667108536,
          -0.09594503790140152,
          -0.1450275331735611,
          -0.17050111293792725,
          -0.07405643165111542
         ]
        },
        {
         "customdata": [
          [
           "is <unk> vaccine linked to diabetes ?",
           "diseas type one genet communic",
           29
          ],
          [
           "is diabetic a disease ?",
           "diseas type one genet communic",
           29
          ],
          [
           "is diabetes an allergy ?",
           "diseas type one genet communic",
           29
          ],
          [
           "is diabetes a virus or bacteria ?",
           "diseas type one genet communic",
           29
          ],
          [
           "is type ii diabetes contagious ?",
           "diseas type one genet communic",
           29
          ],
          [
           "what race is type one diabetes more common ?",
           "diseas type one genet communic",
           29
          ],
          [
           "is diabetes a communicable or noncommunicable disease ?",
           "diseas type one genet communic",
           29
          ],
          [
           "how is diabetes genetically transferred ?",
           "diseas type one genet communic",
           29
          ],
          [
           "is diabetes a disorder or a disease ?",
           "diseas type one genet communic",
           29
          ],
          [
           "is diabetes an organism ?",
           "diseas type one genet communic",
           29
          ],
          [
           "why is diabetes is a deficiency disease ?",
           "diseas type one genet communic",
           29
          ],
          [
           "is diabetes a <unk> disease ?",
           "diseas type one genet communic",
           29
          ],
          [
           "which type of diabetes is a concern for young australians ?",
           "diseas type one genet communic",
           29
          ],
          [
           "is type two diabetes a chronic disease ?",
           "diseas type one genet communic",
           29
          ],
          [
           "is type two diabetes a genetic disease ?",
           "diseas type one genet communic",
           29
          ],
          [
           "is there any types of infection with diabetes patient to a non diabetes ?",
           "diseas type one genet communic",
           29
          ],
          [
           "is diabetes a genetic factor ?",
           "diseas type one genet communic",
           29
          ],
          [
           "is diabetes a non-communicable disease ?",
           "diseas type one genet communic",
           29
          ],
          [
           "is diabetes an infectious ?",
           "diseas type one genet communic",
           29
          ],
          [
           "is diabetes a dominant trait ?",
           "diseas type one genet communic",
           29
          ],
          [
           "is diabetes a noncommunicable disease ?",
           "diseas type one genet communic",
           29
          ],
          [
           "is diabetes a genetic disease ?",
           "diseas type one genet communic",
           29
          ],
          [
           "will a type one diabetic male produce children with type one diabetes ?",
           "diseas type one genet communic",
           29
          ],
          [
           "is diabetes a disease or ailment ?",
           "diseas type one genet communic",
           29
          ],
          [
           "is type one diabetes an inherited condition ?",
           "diseas type one genet communic",
           29
          ],
          [
           "what happens to the pancreas when diabetes is a non communicable disease ?",
           "diseas type one genet communic",
           29
          ],
          [
           "is diabetes type two a disease or a disorder ?",
           "diseas type one genet communic",
           29
          ],
          [
           "tests to find diseases in the human body ?",
           "diseas type one genet communic",
           29
          ],
          [
           "top ten communicable diseases in the philippines ?",
           "diseas type one genet communic",
           29
          ],
          [
           "is type one diabetes a dominant or recessive gene ?",
           "diseas type one genet communic",
           29
          ],
          [
           "is type one diabetes a mutation ?",
           "diseas type one genet communic",
           29
          ],
          [
           "is <unk> disorder a symptom of diabetes ?",
           "diseas type one genet communic",
           29
          ],
          [
           "is halle berry a type one diabetic ?",
           "diseas type one genet communic",
           29
          ],
          [
           "is type one diabetes genetic ?",
           "diseas type one genet communic",
           29
          ],
          [
           "what makes diabetes a chronic disease ?",
           "diseas type one genet communic",
           29
          ],
          [
           "is diabetes a blood <unk> pathogen ?",
           "diseas type one genet communic",
           29
          ]
         ],
         "hovertemplate": "summary=%{customdata[1]}<br>pc_1=%{x}<br>pc_2=%{y}<br>pc_3=%{z}<br>question=%{customdata[0]}<br>label=%{customdata[2]}<extra></extra>",
         "legendgroup": "diseas type one genet communic",
         "marker": {
          "color": "#B6E880",
          "size": 8,
          "symbol": "circle"
         },
         "mode": "markers",
         "name": "diseas type one genet communic",
         "scene": "scene",
         "showlegend": true,
         "type": "scatter3d",
         "x": [
          0.3383309245109558,
          0.4206939935684204,
          0.370803564786911,
          0.32792943716049194,
          0.47448134422302246,
          0.4182070791721344,
          0.43977558612823486,
          0.34343624114990234,
          0.43075862526893616,
          0.33810898661613464,
          0.37500208616256714,
          0.35731130838394165,
          0.25358322262763977,
          0.46420812606811523,
          0.4190380573272705,
          0.352170467376709,
          0.37861546874046326,
          0.4521777033805847,
          0.34619981050491333,
          0.4035537838935852,
          0.3235175311565399,
          0.3745060861110687,
          0.38924553990364075,
          0.42541250586509705,
          0.43351346254348755,
          0.38662189245224,
          0.42806172370910645,
          0.3335985839366913,
          0.28145113587379456,
          0.4075283408164978,
          0.39509445428848267,
          0.4627560079097748,
          0.3658321797847748,
          0.4408904016017914,
          0.4831603467464447,
          0.37143826484680176
         ],
         "y": [
          0.39280644059181213,
          0.3045050799846649,
          0.18489186465740204,
          0.42306020855903625,
          0.20550796389579773,
          0.30475708842277527,
          0.4043470323085785,
          0.3147212862968445,
          0.2517772316932678,
          0.22643490135669708,
          0.33288922905921936,
          0.2889488637447357,
          0.22879670560359955,
          0.28231123089790344,
          0.3022467792034149,
          0.27804893255233765,
          0.35801082849502563,
          0.38090652227401733,
          0.20232072472572327,
          0.30602729320526123,
          0.2859952449798584,
          0.295376181602478,
          0.17013894021511078,
          0.3298233449459076,
          0.20164982974529266,
          0.36530664563179016,
          0.23594610393047333,
          0.43462711572647095,
          0.30750054121017456,
          0.2480066418647766,
          0.22096368670463562,
          0.22750315070152283,
          0.12662076950073242,
          0.32437801361083984,
          0.34463295340538025,
          0.3936099708080292
         ],
         "z": [
          -0.36306747794151306,
          -0.526185154914856,
          -0.47239363193511963,
          -0.45950302481651306,
          -0.3569043278694153,
          -0.22263111174106598,
          -0.4973607063293457,
          -0.36028149724006653,
          -0.4492374360561371,
          -0.3710560202598572,
          -0.42824506759643555,
          -0.44110026955604553,
          -0.4072570502758026,
          -0.3931249976158142,
          -0.3700946867465973,
          -0.5089593529701233,
          -0.2948141396045685,
          -0.46931353211402893,
          -0.4543725550174713,
          -0.27058714628219604,
          -0.4384523332118988,
          -0.3993694484233856,
          -0.35020574927330017,
          -0.46204036474227905,
          -0.377534419298172,
          -0.4870353043079376,
          -0.4064711332321167,
          -0.5274540185928345,
          -0.4546460211277008,
          -0.30321091413497925,
          -0.3477025032043457,
          -0.48345234990119934,
          -0.35203152894973755,
          -0.3290872871875763,
          -0.43894025683403015,
          -0.40901246666908264
         ]
        },
        {
         "customdata": [
          [
           "can you get diabetic supplies through the mail ?",
           "suppli one purchas get buy",
           22
          ],
          [
           "does blue cross cover diabetic supplies in canada ?",
           "suppli one purchas get buy",
           22
          ],
          [
           "ms . <unk> , i <unk> ?",
           "suppli one purchas get buy",
           22
          ],
          [
           "where can one purchase diabetic <unk> ?",
           "suppli one purchas get buy",
           22
          ],
          [
           "i am diabetic can i use <unk> ?",
           "suppli one purchas get buy",
           22
          ],
          [
           "what does food or fluids correct in a diabetic emergency ?",
           "suppli one purchas get buy",
           22
          ],
          [
           "where can i purchase diabetic needles ?",
           "suppli one purchas get buy",
           22
          ],
          [
           "where can one learn about diabetic supply cases ?",
           "suppli one purchas get buy",
           22
          ],
          [
           "where can i buy a diabetic pump ?",
           "suppli one purchas get buy",
           22
          ],
          [
           "where can one buy diabetic support socks ?",
           "suppli one purchas get buy",
           22
          ],
          [
           "can you be diabetic and not take medication ?",
           "suppli one purchas get buy",
           22
          ],
          [
           "where can one purchase shoes for diabetics ?",
           "suppli one purchas get buy",
           22
          ],
          [
           "can diabetic supplies be dangerous ?",
           "suppli one purchas get buy",
           22
          ],
          [
           "can diabetics in good control and with no diabetic eye disease get <unk> <unk> surgery ?",
           "suppli one purchas get buy",
           22
          ],
          [
           "diabetic supplies you can afford ?",
           "suppli one purchas get buy",
           22
          ],
          [
           "where can i purchase diabetic supplements ?",
           "suppli one purchas get buy",
           22
          ],
          [
           "can you buy diabetic products from pharmacies ?",
           "suppli one purchas get buy",
           22
          ],
          [
           "diabetic pump ?",
           "suppli one purchas get buy",
           22
          ],
          [
           "diabetic supply companies ?",
           "suppli one purchas get buy",
           22
          ],
          [
           "where can i get a free diabetic meter ?",
           "suppli one purchas get buy",
           22
          ]
         ],
         "hovertemplate": "summary=%{customdata[1]}<br>pc_1=%{x}<br>pc_2=%{y}<br>pc_3=%{z}<br>question=%{customdata[0]}<br>label=%{customdata[2]}<extra></extra>",
         "legendgroup": "suppli one purchas get buy",
         "marker": {
          "color": "#FF97FF",
          "size": 8,
          "symbol": "circle"
         },
         "mode": "markers",
         "name": "suppli one purchas get buy",
         "scene": "scene",
         "showlegend": true,
         "type": "scatter3d",
         "x": [
          -0.2136760950088501,
          -0.15003105998039246,
          -0.09007774293422699,
          -0.26541867852211,
          -0.0993560180068016,
          -0.156565323472023,
          -0.1730654388666153,
          -0.12543649971485138,
          -0.19074228405952454,
          -0.22254276275634766,
          -0.05908537656068802,
          -0.27541956305503845,
          -0.1500202715396881,
          -0.1577058583498001,
          -0.18526986241340637,
          -0.2252848744392395,
          -0.21085409820079803,
          -0.19722050428390503,
          -0.18859422206878662,
          -0.311514675617218
         ],
         "y": [
          -0.07656598836183548,
          -0.18664896488189697,
          -0.07064257562160492,
          -0.153193399310112,
          -0.11179400235414505,
          -0.19024625420570374,
          -0.11376654356718063,
          -0.10325108468532562,
          -0.16565217077732086,
          -0.08828244358301163,
          -0.15345709025859833,
          -0.0710563138127327,
          -0.12482091039419174,
          -0.03509669005870819,
          -0.1346164047718048,
          -0.14358632266521454,
          -0.1528208702802658,
          -0.2040090709924698,
          -0.20852695405483246,
          -0.1771882325410843
         ],
         "z": [
          0.41077545285224915,
          0.3937353491783142,
          0.25668996572494507,
          0.3244950771331787,
          0.2631765902042389,
          0.24451695382595062,
          0.35204488039016724,
          0.36260390281677246,
          0.2752048373222351,
          0.32021740078926086,
          0.27192041277885437,
          0.33656224608421326,
          0.2964985966682434,
          0.27410346269607544,
          0.31164076924324036,
          0.24797283113002777,
          0.3838341534137726,
          0.2918829321861267,
          0.3472306430339813,
          0.3521925210952759
         ]
        },
        {
         "customdata": [
          [
           "what should you do if your blood sugar is high ?",
           "blood sugar high low level",
           14
          ],
          [
           "if you get headaches from low blood sugar does that mean you are a diabetic ?",
           "blood sugar high low level",
           14
          ],
          [
           "does low blood sugar mean i have hypoglycemia ?",
           "blood sugar high low level",
           14
          ],
          [
           "what do you do if your blood sugar level is high ?",
           "blood sugar high low level",
           14
          ],
          [
           "does low or high blood sugar make your chest hurt ?",
           "blood sugar high low level",
           14
          ],
          [
           "how do you bring down blood sugar ?",
           "blood sugar high low level",
           14
          ],
          [
           "how can you bring down high blood pressure ?",
           "blood sugar high low level",
           14
          ],
          [
           "does your head hurt when blood sugar is high ?",
           "blood sugar high low level",
           14
          ],
          [
           "what do you do if someone has high blood sugar attack ?",
           "blood sugar high low level",
           14
          ],
          [
           "how high or low should your sugar be ?",
           "blood sugar high low level",
           14
          ],
          [
           "does low blood sugar cause headaches ?",
           "blood sugar high low level",
           14
          ],
          [
           "do you need salt if your blood sugar is high ?",
           "blood sugar high low level",
           14
          ],
          [
           "what will high blood sugar do to you ?",
           "blood sugar high low level",
           14
          ],
          [
           "if you have diabetes does that mean you have high blood sugar ?",
           "blood sugar high low level",
           14
          ],
          [
           "if you know your blood sugar is low how do you know if you are a diabetic ?",
           "blood sugar high low level",
           14
          ],
          [
           "what low blood sugar level will cause a seizure ?",
           "blood sugar high low level",
           14
          ],
          [
           "how often should you take blood sugar ?",
           "blood sugar high low level",
           14
          ],
          [
           "if you are unsure if someone has low or high blood sugar levels what should you do ?",
           "blood sugar high low level",
           14
          ],
          [
           "can <unk> cause a sharp spike in blood sugar levels ?",
           "blood sugar high low level",
           14
          ],
          [
           "what should you do if your blood sugar is over four hundred ?",
           "blood sugar high low level",
           14
          ]
         ],
         "hovertemplate": "summary=%{customdata[1]}<br>pc_1=%{x}<br>pc_2=%{y}<br>pc_3=%{z}<br>question=%{customdata[0]}<br>label=%{customdata[2]}<extra></extra>",
         "legendgroup": "blood sugar high low level",
         "marker": {
          "color": "#FECB52",
          "size": 8,
          "symbol": "circle"
         },
         "mode": "markers",
         "name": "blood sugar high low level",
         "scene": "scene",
         "showlegend": true,
         "type": "scatter3d",
         "x": [
          -0.21908749639987946,
          -0.34685400128364563,
          -0.38849443197250366,
          -0.23877468705177307,
          -0.30959102511405945,
          -0.18405066430568695,
          -0.23514367640018463,
          -0.327484667301178,
          -0.20606660842895508,
          -0.2575145959854126,
          -0.35096150636672974,
          -0.25829586386680603,
          -0.19354192912578583,
          -0.3305533826351166,
          -0.2548286020755768,
          -0.2553384304046631,
          -0.16601066291332245,
          -0.2692115008831024,
          -0.30425482988357544,
          -0.21947556734085083
         ],
         "y": [
          -0.8445727825164795,
          -0.7870607376098633,
          -0.7372914552688599,
          -0.8469463586807251,
          -0.7619175314903259,
          -0.9002525806427002,
          -0.8896744847297668,
          -0.7748917937278748,
          -0.7676827311515808,
          -0.7939301133155823,
          -0.7106094360351562,
          -0.8329951763153076,
          -0.8049094080924988,
          -0.8468186855316162,
          -0.8927088379859924,
          -0.746222198009491,
          -0.8263271450996399,
          -0.7929940819740295,
          -0.6950986385345459,
          -0.8267170190811157
         ],
         "z": [
          -0.11391017585992813,
          -0.0942893847823143,
          -0.07454622536897659,
          -0.08415140211582184,
          -0.054057057946920395,
          -0.0739658772945404,
          -0.039850689470767975,
          -0.009425405412912369,
          -0.0715605616569519,
          0.009990885853767395,
          -0.05903640389442444,
          -0.17631563544273376,
          -0.089369997382164,
          -0.0783243328332901,
          -0.13867665827274323,
          -0.12454600632190704,
          -0.037073783576488495,
          -0.0739075094461441,
          -0.0800924226641655,
          -0.20258615911006927
         ]
        },
        {
         "customdata": [
          [
           "can you diabetes from eating a lot of sugar ?",
           "sugar get much eat lot",
           47
          ],
          [
           "can you get diabetes by eating no sugar at all ?",
           "sugar get much eat lot",
           47
          ],
          [
           "can having diabetes make you fat ?",
           "sugar get much eat lot",
           47
          ],
          [
           "can you get diabetes from to much sugar ?",
           "sugar get much eat lot",
           47
          ],
          [
           "can you get light headed from sugar diabetes ?",
           "sugar get much eat lot",
           47
          ],
          [
           "can too much sugar give you diabetes ?",
           "sugar get much eat lot",
           47
          ],
          [
           "if you have diabetes can you have sugar ?",
           "sugar get much eat lot",
           47
          ],
          [
           "do you get diabetes for not exercising ?",
           "sugar get much eat lot",
           47
          ],
          [
           "can you get diabetes from too much candy ?",
           "sugar get much eat lot",
           47
          ],
          [
           "do you get diabetes from to much sugar ?",
           "sugar get much eat lot",
           47
          ]
         ],
         "hovertemplate": "summary=%{customdata[1]}<br>pc_1=%{x}<br>pc_2=%{y}<br>pc_3=%{z}<br>question=%{customdata[0]}<br>label=%{customdata[2]}<extra></extra>",
         "legendgroup": "sugar get much eat lot",
         "marker": {
          "color": "#636efa",
          "size": 8,
          "symbol": "circle"
         },
         "mode": "markers",
         "name": "sugar get much eat lot",
         "scene": "scene",
         "showlegend": true,
         "type": "scatter3d",
         "x": [
          -0.1959485560655594,
          -0.18406862020492554,
          -0.15048059821128845,
          -0.11418923735618591,
          -0.15106141567230225,
          -0.1209309920668602,
          -0.11540385335683823,
          -0.021674800664186478,
          -0.09996307641267776,
          -0.14211083948612213
         ],
         "y": [
          0.40328171849250793,
          0.38798826932907104,
          0.3647399842739105,
          0.39511731266975403,
          0.44610804319381714,
          0.36482399702072144,
          0.31109732389450073,
          0.37936487793922424,
          0.39078614115715027,
          0.40920382738113403
         ],
         "z": [
          0.13758741319179535,
          0.10434515029191971,
          0.04303233325481415,
          0.19777929782867432,
          0.14612343907356262,
          0.1636747121810913,
          0.16776950657367706,
          0.06670030951499939,
          0.11554482579231262,
          0.1463896483182907
         ]
        },
        {
         "customdata": [
          [
           "why are insulin syringes <unk> in units instead of milliliter ?",
           "insulin unit mani zero point",
           38
          ],
          [
           "how many units of insulin are in a <unk> ?",
           "insulin unit mani zero point",
           38
          ],
          [
           "how many units of insulin is point zero five ml ?",
           "insulin unit mani zero point",
           38
          ],
          [
           "how many cc in ten units of insulin ?",
           "insulin unit mani zero point",
           38
          ],
          [
           "how many units of insulin are in zero point five ml of regular u-100 insulin ?",
           "insulin unit mani zero point",
           38
          ],
          [
           "how many units of insulin would equal zero . <unk> . ?",
           "insulin unit mani zero point",
           38
          ],
          [
           "how long will a bottle of insulin last using sixty units daily ?",
           "insulin unit mani zero point",
           38
          ],
          [
           "how many units of insulin are in zero point five ml of regular <unk> insulin ?",
           "insulin unit mani zero point",
           38
          ],
          [
           "what is the difference between regular insulin and sliding scale insulin ?",
           "insulin unit mani zero point",
           38
          ],
          [
           "what are types of synthetic insulins ?",
           "insulin unit mani zero point",
           38
          ],
          [
           "thirty unit of forty iu insulin is equal to how much unit of one hundred iu insulin ?",
           "insulin unit mani zero point",
           38
          ],
          [
           "how many units of insulin are in a normal vial ?",
           "insulin unit mani zero point",
           38
          ],
          [
           "how many units of insulin equals two cc ?",
           "insulin unit mani zero point",
           38
          ],
          [
           "how much is six units of insulin for a diabetic ?",
           "insulin unit mani zero point",
           38
          ]
         ],
         "hovertemplate": "summary=%{customdata[1]}<br>pc_1=%{x}<br>pc_2=%{y}<br>pc_3=%{z}<br>question=%{customdata[0]}<br>label=%{customdata[2]}<extra></extra>",
         "legendgroup": "insulin unit mani zero point",
         "marker": {
          "color": "#EF553B",
          "size": 8,
          "symbol": "circle"
         },
         "mode": "markers",
         "name": "insulin unit mani zero point",
         "scene": "scene",
         "showlegend": true,
         "type": "scatter3d",
         "x": [
          0.44281357526779175,
          0.48326557874679565,
          0.42039474844932556,
          0.45465517044067383,
          0.40431347489356995,
          0.38149118423461914,
          0.45470499992370605,
          0.4252271354198456,
          0.3834070861339569,
          0.5412583351135254,
          0.4122769236564636,
          0.4657180905342102,
          0.46766045689582825,
          0.463239848613739
         ],
         "y": [
          -0.5051721334457397,
          -0.5216206908226013,
          -0.5967291593551636,
          -0.5316258072853088,
          -0.5672750473022461,
          -0.5936857461929321,
          -0.6247539520263672,
          -0.5639283657073975,
          -0.52262282371521,
          -0.4864886701107025,
          -0.6491568684577942,
          -0.547366201877594,
          -0.5594264268875122,
          -0.6093267202377319
         ],
         "z": [
          0.025697994977235794,
          -0.017550449818372726,
          -0.07755683362483978,
          -0.0806250274181366,
          -0.022471774369478226,
          0.020382437855005264,
          0.004382306709885597,
          -0.0452444814145565,
          -0.05796780809760094,
          -0.013410133309662342,
          -0.04305858165025711,
          -0.0027705025859177113,
          -0.12518641352653503,
          -0.05143030732870102
         ]
        },
        {
         "customdata": [
          [
           "what are <unk> on arms and <unk> ?",
           "would exercis arm lose weigt",
           42
          ],
          [
           "how do you lose weigt ?",
           "would exercis arm lose weigt",
           42
          ],
          [
           "how clean does your background need to be before you can join the air force ?",
           "would exercis arm lose weigt",
           42
          ],
          [
           "would diabetes stop you from getting certified to drive a truck ?",
           "would exercis arm lose weigt",
           42
          ],
          [
           "what results would you see with diabetes and uti ?",
           "would exercis arm lose weigt",
           42
          ],
          [
           "what do you do if you are diabetic and fly on <unk> ?",
           "would exercis arm lose weigt",
           42
          ],
          [
           "can you exercise if you have diabetes ?",
           "would exercis arm lose weigt",
           42
          ],
          [
           "diabetes and over <unk> with track and field exercise ?",
           "would exercis arm lose weigt",
           42
          ],
          [
           "can you go to the army with diabetes ?",
           "would exercis arm lose weigt",
           42
          ]
         ],
         "hovertemplate": "summary=%{customdata[1]}<br>pc_1=%{x}<br>pc_2=%{y}<br>pc_3=%{z}<br>question=%{customdata[0]}<br>label=%{customdata[2]}<extra></extra>",
         "legendgroup": "would exercis arm lose weigt",
         "marker": {
          "color": "#00cc96",
          "size": 8,
          "symbol": "circle"
         },
         "mode": "markers",
         "name": "would exercis arm lose weigt",
         "scene": "scene",
         "showlegend": true,
         "type": "scatter3d",
         "x": [
          -0.05491636320948601,
          0.00457312585785985,
          -0.1345515102148056,
          -0.15926964581012726,
          -0.03642726689577103,
          -0.05971250310540199,
          -0.07474134862422943,
          -0.07991156727075577,
          -0.0727873146533966
         ],
         "y": [
          0.09820624440908432,
          0.07090584188699722,
          0.09116850793361664,
          0.13237115740776062,
          0.052493203431367874,
          0.07381530106067657,
          0.09743435680866241,
          0.07819237560033798,
          0.1698424369096756
         ],
         "z": [
          -0.06388094276189804,
          -0.013346300460398197,
          0.0002898823004215956,
          -0.0022560141514986753,
          0.06171576306223869,
          -0.017253007739782333,
          0.010250337421894073,
          0.07482887804508209,
          0.03644285351037979
         ]
        },
        {
         "customdata": [
          [
           "what is the most important aspect of treatment of diabetes mellitus ?",
           "mellitu insipidu call mean import",
           20
          ],
          [
           "are diabetes mellitus and diabetes the same ?",
           "mellitu insipidu call mean import",
           20
          ],
          [
           "why is blood glucose lost in diabetes mellitus ?",
           "mellitu insipidu call mean import",
           20
          ],
          [
           "similarities between diabetes mellitus and diabetes insipidus ?",
           "mellitu insipidu call mean import",
           20
          ],
          [
           "what is type one mellitus diabetes ?",
           "mellitu insipidu call mean import",
           20
          ],
          [
           "what are the three p is of diabetes mellitus ?",
           "mellitu insipidu call mean import",
           20
          ],
          [
           "what is the study of diabetes mellitus called ?",
           "mellitu insipidu call mean import",
           20
          ],
          [
           "what are the causes of diabetes mellitus ?",
           "mellitu insipidu call mean import",
           20
          ],
          [
           "what is diabetes insipidus characterized by ?",
           "mellitu insipidu call mean import",
           20
          ],
          [
           "what is the meaning of ed in diabetes mellitus ?",
           "mellitu insipidu call mean import",
           20
          ],
          [
           "how is someone diagnosed with diabetes mellitus ?",
           "mellitu insipidu call mean import",
           20
          ],
          [
           "can you have both diabetes mellitus and diabetes insipidus ?",
           "mellitu insipidu call mean import",
           20
          ],
          [
           "what is the pathophysiology of diabetes mellitus ?",
           "mellitu insipidu call mean import",
           20
          ],
          [
           "what is diabetes mellitus ?",
           "mellitu insipidu call mean import",
           20
          ],
          [
           "what is <unk> diabetes mellitus ?",
           "mellitu insipidu call mean import",
           20
          ],
          [
           "what is diabetes insipidus and diabetes mellitus ?",
           "mellitu insipidu call mean import",
           20
          ],
          [
           "what is <unk> diabetes mellitus ?",
           "mellitu insipidu call mean import",
           20
          ],
          [
           "meaning of diabetes mellitus ?",
           "mellitu insipidu call mean import",
           20
          ],
          [
           "why is diabetes called diabetes mellitus ?",
           "mellitu insipidu call mean import",
           20
          ]
         ],
         "hovertemplate": "summary=%{customdata[1]}<br>pc_1=%{x}<br>pc_2=%{y}<br>pc_3=%{z}<br>question=%{customdata[0]}<br>label=%{customdata[2]}<extra></extra>",
         "legendgroup": "mellitu insipidu call mean import",
         "marker": {
          "color": "#ab63fa",
          "size": 8,
          "symbol": "circle"
         },
         "mode": "markers",
         "name": "mellitu insipidu call mean import",
         "scene": "scene",
         "showlegend": true,
         "type": "scatter3d",
         "x": [
          0.7687854170799255,
          0.6884713172912598,
          0.6316021680831909,
          0.7070825695991516,
          0.6201564073562622,
          0.7360453009605408,
          0.723329484462738,
          0.6672235727310181,
          0.7079484462738037,
          0.7054588794708252,
          0.658237636089325,
          0.6833563446998596,
          0.6863394379615784,
          0.6574887633323669,
          0.6774882674217224,
          0.6885779500007629,
          0.6697445511817932,
          0.6756595969200134,
          0.6603190898895264
         ],
         "y": [
          -0.001232092035934329,
          -0.00416167126968503,
          -0.05783013626933098,
          -0.022618073970079422,
          -0.10636739432811737,
          -0.07018885761499405,
          -0.09388625621795654,
          -0.05744505673646927,
          -0.09369949996471405,
          -0.04702058434486389,
          -0.1387968212366104,
          0.040897440165281296,
          -0.14449311792850494,
          -0.13080497086048126,
          -0.09083423763513565,
          -0.05390937253832817,
          -0.09617114812135696,
          -0.01425682008266449,
          -0.04707101732492447
         ],
         "z": [
          -0.32002541422843933,
          -0.34270724654197693,
          -0.3803057074546814,
          -0.4070117771625519,
          -0.22769087553024292,
          -0.2901948392391205,
          -0.21314556896686554,
          -0.18903996050357819,
          -0.39510828256607056,
          -0.24643376469612122,
          -0.33845341205596924,
          -0.36925598978996277,
          -0.20903122425079346,
          -0.2549108564853668,
          -0.2909010350704193,
          -0.37746909260749817,
          -0.25408416986465454,
          -0.26448196172714233,
          -0.32528096437454224
         ]
        },
        {
         "customdata": [
          [
           "how could you prevent diabetes ?",
           "prevent get could rid person",
           44
          ],
          [
           "can you get rid of diabetes ?",
           "prevent get could rid person",
           44
          ],
          [
           "what can a person do to prevent getting diabetes ?",
           "prevent get could rid person",
           44
          ],
          [
           "what to prevent diabetes two ?",
           "prevent get could rid person",
           44
          ],
          [
           "how can you prevent getting diabetes ?",
           "prevent get could rid person",
           44
          ],
          [
           "what are some ways to prevent diabetes ?",
           "prevent get could rid person",
           44
          ],
          [
           "how you can prevent diabetes ?",
           "prevent get could rid person",
           44
          ]
         ],
         "hovertemplate": "summary=%{customdata[1]}<br>pc_1=%{x}<br>pc_2=%{y}<br>pc_3=%{z}<br>question=%{customdata[0]}<br>label=%{customdata[2]}<extra></extra>",
         "legendgroup": "prevent get could rid person",
         "marker": {
          "color": "#FFA15A",
          "size": 8,
          "symbol": "circle"
         },
         "mode": "markers",
         "name": "prevent get could rid person",
         "scene": "scene",
         "showlegend": true,
         "type": "scatter3d",
         "x": [
          0.5534569621086121,
          0.49215736985206604,
          0.5056758522987366,
          0.5958776473999023,
          0.5307939052581787,
          0.6217327117919922,
          0.517784059047699
         ],
         "y": [
          0.08876436203718185,
          0.205629363656044,
          0.05723649635910988,
          0.10866057872772217,
          0.14301759004592896,
          0.1580815613269806,
          0.12194335460662842
         ],
         "z": [
          0.46940338611602783,
          0.4519336223602295,
          0.4457434117794037,
          0.45938029885292053,
          0.42984551191329956,
          0.4416508674621582,
          0.45231130719184875
         ]
        },
        {
         "customdata": [
          [
           "what is normal blood sugar level in known diabetic person ?",
           "sugar blood level normal rang",
           21
          ],
          [
           "what is the blood sugar range for non diabetics ?",
           "sugar blood level normal rang",
           21
          ],
          [
           "what is normal level of blood sugar ?",
           "sugar blood level normal rang",
           21
          ],
          [
           "what is a good blood sugar range ?",
           "sugar blood level normal rang",
           21
          ],
          [
           "what is the normal blood sugar level reading ?",
           "sugar blood level normal rang",
           21
          ],
          [
           "what is a normal range for blood sugar level ?",
           "sugar blood level normal rang",
           21
          ],
          [
           "what would you say about a1c range ?",
           "sugar blood level normal rang",
           21
          ],
          [
           "what is the uk <unk> range for <unk> blood sugar levels ?",
           "sugar blood level normal rang",
           21
          ],
          [
           "is there a blood sugar chart for comparing blood sugar values ?",
           "sugar blood level normal rang",
           21
          ],
          [
           "what is the normal range for someone is blood sugar level ?",
           "sugar blood level normal rang",
           21
          ],
          [
           "what is the normal blood sugar level ?",
           "sugar blood level normal rang",
           21
          ],
          [
           "what is the average level for blood sugar ?",
           "sugar blood level normal rang",
           21
          ],
          [
           "what is high sugar level ?",
           "sugar blood level normal rang",
           21
          ],
          [
           "what is the blood sugar level of a diabetic ?",
           "sugar blood level normal rang",
           21
          ],
          [
           "how much the normal blood sugar of diabetes ?",
           "sugar blood level normal rang",
           21
          ],
          [
           "what is the medical terminology for low blood sugar ?",
           "sugar blood level normal rang",
           21
          ],
          [
           "what is a normal blood sugar range for a diabetic ?",
           "sugar blood level normal rang",
           21
          ],
          [
           "what is normal blood sugar for a type one diabetic ?",
           "sugar blood level normal rang",
           21
          ],
          [
           "what is normal blood sugar level after eating ?",
           "sugar blood level normal rang",
           21
          ],
          [
           "what is a blood sugar level table ?",
           "sugar blood level normal rang",
           21
          ],
          [
           "what is normal range of urine sugar ?",
           "sugar blood level normal rang",
           21
          ],
          [
           "what is the blood sugar level for diabetics ?",
           "sugar blood level normal rang",
           21
          ],
          [
           "what is normal blood sugar level ?",
           "sugar blood level normal rang",
           21
          ],
          [
           "what should a diabetic person is blood sugar be ?",
           "sugar blood level normal rang",
           21
          ],
          [
           "what is the normal level for blood sugar ?",
           "sugar blood level normal rang",
           21
          ]
         ],
         "hovertemplate": "summary=%{customdata[1]}<br>pc_1=%{x}<br>pc_2=%{y}<br>pc_3=%{z}<br>question=%{customdata[0]}<br>label=%{customdata[2]}<extra></extra>",
         "legendgroup": "sugar blood level normal rang",
         "marker": {
          "color": "#19d3f3",
          "size": 8,
          "symbol": "circle"
         },
         "mode": "markers",
         "name": "sugar blood level normal rang",
         "scene": "scene",
         "showlegend": true,
         "type": "scatter3d",
         "x": [
          0.18539351224899292,
          0.06014556810259819,
          0.15363001823425293,
          0.17632751166820526,
          0.10814110934734344,
          0.11533493548631668,
          0.10676771402359009,
          0.053194377571344376,
          0.04671978950500488,
          0.11881176382303238,
          0.1278161108493805,
          0.09574854373931885,
          0.14467008411884308,
          0.20259836316108704,
          0.15943942964076996,
          0.15617366135120392,
          0.17563413083553314,
          0.20471900701522827,
          0.062466129660606384,
          0.12388106435537338,
          0.13840490579605103,
          0.07713621854782104,
          0.10813776403665543,
          0.2362854927778244,
          0.10630436986684799
         ],
         "y": [
          -0.8185738921165466,
          -0.9457042813301086,
          -0.8735975027084351,
          -0.8096165657043457,
          -0.7586539387702942,
          -0.8422064781188965,
          -0.814418613910675,
          -0.8303646445274353,
          -0.8294474482536316,
          -0.8796680569648743,
          -0.816112220287323,
          -0.8492894768714905,
          -0.9101589918136597,
          -0.8709080815315247,
          -0.9366186261177063,
          -0.7901196479797363,
          -0.8754103779792786,
          -0.867708146572113,
          -0.7714556455612183,
          -0.7937090396881104,
          -0.7513368725776672,
          -0.9263888001441956,
          -0.7944271564483643,
          -0.78592848777771,
          -0.8618455529212952
         ],
         "z": [
          -0.12122977524995804,
          -0.10118099302053452,
          -0.08096849173307419,
          -0.0265953429043293,
          -0.07711508870124817,
          -0.16302111744880676,
          -0.22156111896038055,
          -0.048357486724853516,
          0.022242270410060883,
          -0.1384909301996231,
          -0.09300615638494492,
          -0.029130257666110992,
          0.03106445074081421,
          -0.05675071105360985,
          -0.07928507775068283,
          0.028965642675757408,
          -0.1888437420129776,
          -0.1761934757232666,
          -0.1156894713640213,
          -0.030174512416124344,
          -0.13315126299858093,
          -0.07363804429769516,
          -0.10713108628988266,
          -0.0486629456281662,
          -0.0895838513970375
         ]
        },
        {
         "customdata": [
          [
           "does drinking alcohol with diabetes from a young age if even it is controlled affect your health in later years ?",
           "die children parent age pass",
           32
          ],
          [
           "can diabetes be passed on from generation to generation ?",
           "die children parent age pass",
           32
          ],
          [
           "does every body die from diabetes ?",
           "die children parent age pass",
           32
          ],
          [
           "could you die from diabetes ?",
           "die children parent age pass",
           32
          ],
          [
           "where can your children receive diabetes education ?",
           "die children parent age pass",
           32
          ],
          [
           "can you die from diabetes mellitus ?",
           "die children parent age pass",
           32
          ],
          [
           "can you die by having diabetes ?",
           "die children parent age pass",
           32
          ],
          [
           "can you die of diabetes ?",
           "die children parent age pass",
           32
          ],
          [
           "can children die from diabetes ?",
           "die children parent age pass",
           32
          ],
          [
           "will my cat die from diabetes ?",
           "die children parent age pass",
           32
          ],
          [
           "can someone die from diabetes ?",
           "die children parent age pass",
           32
          ],
          [
           "can you die from diabetes ?",
           "die children parent age pass",
           32
          ],
          [
           "is the chance of diabetic baby born to parents both heterozygous normal ?",
           "die children parent age pass",
           32
          ],
          [
           "can diabetes cause death during juvenile age ?",
           "die children parent age pass",
           32
          ],
          [
           "can parents give their children diabetes ?",
           "die children parent age pass",
           32
          ],
          [
           "can diabetes be transferred sexually ?",
           "die children parent age pass",
           32
          ],
          [
           "can diabetic air hunger lead to death ?",
           "die children parent age pass",
           32
          ],
          [
           "will you die early if you have diabetes ?",
           "die children parent age pass",
           32
          ],
          [
           "can uncontrolled diabetes kill you ?",
           "die children parent age pass",
           32
          ],
          [
           "can you die when you have diabetes and while your pregnant ?",
           "die children parent age pass",
           32
          ],
          [
           "is it likely you will die from diabetes ?",
           "die children parent age pass",
           32
          ],
          [
           "can people die of diabetes ?",
           "die children parent age pass",
           32
          ],
          [
           "can genetic screening help diabetic parents to avoid passing diabetic genes to their children ?",
           "die children parent age pass",
           32
          ]
         ],
         "hovertemplate": "summary=%{customdata[1]}<br>pc_1=%{x}<br>pc_2=%{y}<br>pc_3=%{z}<br>question=%{customdata[0]}<br>label=%{customdata[2]}<extra></extra>",
         "legendgroup": "die children parent age pass",
         "marker": {
          "color": "#FF6692",
          "size": 8,
          "symbol": "circle"
         },
         "mode": "markers",
         "name": "die children parent age pass",
         "scene": "scene",
         "showlegend": true,
         "type": "scatter3d",
         "x": [
          0.017920704558491707,
          0.023052582517266273,
          0.1931098997592926,
          0.1582740843296051,
          0.019105985760688782,
          0.20072253048419952,
          0.08394771814346313,
          0.11797625571489334,
          0.08322446793317795,
          0.10413113236427307,
          0.16833478212356567,
          0.14162123203277588,
          0.016172481700778008,
          0.09796802699565887,
          0.0414714477956295,
          0.24020113050937653,
          0.09165696054697037,
          0.09764408320188522,
          0.15191443264484406,
          0.03760266676545143,
          0.18013177812099457,
          0.1282210499048233,
          0.03661150857806206
         ],
         "y": [
          0.3541239798069,
          0.34763073921203613,
          0.49592000246047974,
          0.501608669757843,
          0.45935773849487305,
          0.36035406589508057,
          0.4033268094062805,
          0.42664772272109985,
          0.4152645170688629,
          0.39386555552482605,
          0.48824259638786316,
          0.459026575088501,
          0.4272420108318329,
          0.35610711574554443,
          0.44078078866004944,
          0.37081241607666016,
          0.48278743028640747,
          0.4126354455947876,
          0.39559003710746765,
          0.38775694370269775,
          0.4595979154109955,
          0.4659312963485718,
          0.4824889004230499
         ],
         "z": [
          -0.5804163813591003,
          -0.5004945397377014,
          -0.621233344078064,
          -0.704318106174469,
          -0.5293814539909363,
          -0.5064439177513123,
          -0.5878429412841797,
          -0.5973786115646362,
          -0.5003826022148132,
          -0.4334421753883362,
          -0.6642111539840698,
          -0.6209176182746887,
          -0.4537830352783203,
          -0.5106720924377441,
          -0.48971736431121826,
          -0.5474725365638733,
          -0.6287161111831665,
          -0.6587653160095215,
          -0.5832393169403076,
          -0.6086297631263733,
          -0.7021263837814331,
          -0.545785129070282,
          -0.4602809250354767
         ]
        },
        {
         "customdata": [
          [
           "can one treat juvenile diabetes ?",
           "type two one take treat",
           45
          ],
          [
           "is type two diabetes life long ?",
           "type two one take treat",
           45
          ],
          [
           "can you take viagra with type two diabetes ?",
           "type two one take treat",
           45
          ],
          [
           "what is the expected outcome for patients with type one and type two diabetes ?",
           "type two one take treat",
           45
          ],
          [
           "what are the precautions people need to take if they have both type one and type two diabetes ?",
           "type two one take treat",
           45
          ],
          [
           "can taking drugs turn a type two into a type one ?",
           "type two one take treat",
           45
          ],
          [
           "can you use <unk> with type two diabetes ?",
           "type two one take treat",
           45
          ],
          [
           "do type one and two diabetes have to do with blood glucose ?",
           "type two one take treat",
           45
          ],
          [
           "can type two diabetes be treated ?",
           "type two one take treat",
           45
          ],
          [
           "can heat effect the <unk> of herpes type two ?",
           "type two one take treat",
           45
          ]
         ],
         "hovertemplate": "summary=%{customdata[1]}<br>pc_1=%{x}<br>pc_2=%{y}<br>pc_3=%{z}<br>question=%{customdata[0]}<br>label=%{customdata[2]}<extra></extra>",
         "legendgroup": "type two one take treat",
         "marker": {
          "color": "#B6E880",
          "size": 8,
          "symbol": "circle"
         },
         "mode": "markers",
         "name": "type two one take treat",
         "scene": "scene",
         "showlegend": true,
         "type": "scatter3d",
         "x": [
          0.0070745376870036125,
          0.10801319032907486,
          0.08487557619810104,
          0.10833360999822617,
          0.07580970972776413,
          0.14602133631706238,
          0.08248844742774963,
          0.14570240676403046,
          0.03791730850934982,
          0.05785528942942619
         ],
         "y": [
          0.18478375673294067,
          0.18542927503585815,
          0.1550709307193756,
          0.2630806565284729,
          0.2503221929073334,
          0.17932848632335663,
          0.187530517578125,
          0.1318884640932083,
          0.1894831359386444,
          0.20316147804260254
         ],
         "z": [
          -0.15351366996765137,
          -0.1408226042985916,
          -0.0792626366019249,
          -0.07090140134096146,
          -0.13933727145195007,
          -0.04260017350316048,
          -0.09211389720439911,
          -0.12299284338951111,
          -0.11284306645393372,
          -0.036557886749506
         ]
        },
        {
         "customdata": [
          [
           "where can i get more information about diabetic nutrition ?",
           "find inform diet get nutrit",
           35
          ],
          [
           "where can i get recipes for a diabetes meal diet that produce tasty results ?",
           "find inform diet get nutrit",
           35
          ],
          [
           "where can i find more information on cereal for diabetics ?",
           "find inform diet get nutrit",
           35
          ],
          [
           "where can i find more information on diabetes diet for seniors ?",
           "find inform diet get nutrit",
           35
          ],
          [
           "where can i find menus on the internet that cater to diabetic individuals ?",
           "find inform diet get nutrit",
           35
          ],
          [
           "where can we find more information on a vegetarian diet for a diabetic ?",
           "find inform diet get nutrit",
           35
          ],
          [
           "where can i find reliable information on diabetes diet guidelines ?",
           "find inform diet get nutrit",
           35
          ],
          [
           "where can one find a <unk> <unk> for oxidation of <unk> to facilitate research ?",
           "find inform diet get nutrit",
           35
          ]
         ],
         "hovertemplate": "summary=%{customdata[1]}<br>pc_1=%{x}<br>pc_2=%{y}<br>pc_3=%{z}<br>question=%{customdata[0]}<br>label=%{customdata[2]}<extra></extra>",
         "legendgroup": "find inform diet get nutrit",
         "marker": {
          "color": "#FF97FF",
          "size": 8,
          "symbol": "circle"
         },
         "mode": "markers",
         "name": "find inform diet get nutrit",
         "scene": "scene",
         "showlegend": true,
         "type": "scatter3d",
         "x": [
          -0.7395793199539185,
          -0.6379203796386719,
          -0.6571598052978516,
          -0.6009024977684021,
          -0.6409919261932373,
          -0.6161776781082153,
          -0.5812531113624573,
          -0.6602929830551147
         ],
         "y": [
          0.4485919177532196,
          0.3608861565589905,
          0.41521379351615906,
          0.4624752700328827,
          0.37387946248054504,
          0.39675164222717285,
          0.42091065645217896,
          0.4967825710773468
         ],
         "z": [
          0.1677965670824051,
          0.2121642678976059,
          0.14637300372123718,
          0.17801256477832794,
          0.08729695528745651,
          0.1639598309993744,
          0.17965711653232574,
          0.09959017485380173
         ]
        }
       ],
       "layout": {
        "height": 500,
        "legend": {
         "itemclick": "toggleothers",
         "title": {
          "text": "Cluster Summaries"
         },
         "tracegroupgap": 0
        },
        "margin": {
         "t": 60
        },
        "scene": {
         "domain": {
          "x": [
           0,
           1
          ],
          "y": [
           0,
           1
          ]
         },
         "xaxis": {
          "title": {
           "text": "pc_1"
          }
         },
         "yaxis": {
          "title": {
           "text": "pc_2"
          }
         },
         "zaxis": {
          "title": {
           "text": "pc_3"
          }
         }
        },
        "template": {
         "data": {
          "bar": [
           {
            "error_x": {
             "color": "#2a3f5f"
            },
            "error_y": {
             "color": "#2a3f5f"
            },
            "marker": {
             "line": {
              "color": "#E5ECF6",
              "width": 0.5
             }
            },
            "type": "bar"
           }
          ],
          "barpolar": [
           {
            "marker": {
             "line": {
              "color": "#E5ECF6",
              "width": 0.5
             }
            },
            "type": "barpolar"
           }
          ],
          "carpet": [
           {
            "aaxis": {
             "endlinecolor": "#2a3f5f",
             "gridcolor": "white",
             "linecolor": "white",
             "minorgridcolor": "white",
             "startlinecolor": "#2a3f5f"
            },
            "baxis": {
             "endlinecolor": "#2a3f5f",
             "gridcolor": "white",
             "linecolor": "white",
             "minorgridcolor": "white",
             "startlinecolor": "#2a3f5f"
            },
            "type": "carpet"
           }
          ],
          "choropleth": [
           {
            "colorbar": {
             "outlinewidth": 0,
             "ticks": ""
            },
            "type": "choropleth"
           }
          ],
          "contour": [
           {
            "colorbar": {
             "outlinewidth": 0,
             "ticks": ""
            },
            "colorscale": [
             [
              0,
              "#0d0887"
             ],
             [
              0.1111111111111111,
              "#46039f"
             ],
             [
              0.2222222222222222,
              "#7201a8"
             ],
             [
              0.3333333333333333,
              "#9c179e"
             ],
             [
              0.4444444444444444,
              "#bd3786"
             ],
             [
              0.5555555555555556,
              "#d8576b"
             ],
             [
              0.6666666666666666,
              "#ed7953"
             ],
             [
              0.7777777777777778,
              "#fb9f3a"
             ],
             [
              0.8888888888888888,
              "#fdca26"
             ],
             [
              1,
              "#f0f921"
             ]
            ],
            "type": "contour"
           }
          ],
          "contourcarpet": [
           {
            "colorbar": {
             "outlinewidth": 0,
             "ticks": ""
            },
            "type": "contourcarpet"
           }
          ],
          "heatmap": [
           {
            "colorbar": {
             "outlinewidth": 0,
             "ticks": ""
            },
            "colorscale": [
             [
              0,
              "#0d0887"
             ],
             [
              0.1111111111111111,
              "#46039f"
             ],
             [
              0.2222222222222222,
              "#7201a8"
             ],
             [
              0.3333333333333333,
              "#9c179e"
             ],
             [
              0.4444444444444444,
              "#bd3786"
             ],
             [
              0.5555555555555556,
              "#d8576b"
             ],
             [
              0.6666666666666666,
              "#ed7953"
             ],
             [
              0.7777777777777778,
              "#fb9f3a"
             ],
             [
              0.8888888888888888,
              "#fdca26"
             ],
             [
              1,
              "#f0f921"
             ]
            ],
            "type": "heatmap"
           }
          ],
          "heatmapgl": [
           {
            "colorbar": {
             "outlinewidth": 0,
             "ticks": ""
            },
            "colorscale": [
             [
              0,
              "#0d0887"
             ],
             [
              0.1111111111111111,
              "#46039f"
             ],
             [
              0.2222222222222222,
              "#7201a8"
             ],
             [
              0.3333333333333333,
              "#9c179e"
             ],
             [
              0.4444444444444444,
              "#bd3786"
             ],
             [
              0.5555555555555556,
              "#d8576b"
             ],
             [
              0.6666666666666666,
              "#ed7953"
             ],
             [
              0.7777777777777778,
              "#fb9f3a"
             ],
             [
              0.8888888888888888,
              "#fdca26"
             ],
             [
              1,
              "#f0f921"
             ]
            ],
            "type": "heatmapgl"
           }
          ],
          "histogram": [
           {
            "marker": {
             "colorbar": {
              "outlinewidth": 0,
              "ticks": ""
             }
            },
            "type": "histogram"
           }
          ],
          "histogram2d": [
           {
            "colorbar": {
             "outlinewidth": 0,
             "ticks": ""
            },
            "colorscale": [
             [
              0,
              "#0d0887"
             ],
             [
              0.1111111111111111,
              "#46039f"
             ],
             [
              0.2222222222222222,
              "#7201a8"
             ],
             [
              0.3333333333333333,
              "#9c179e"
             ],
             [
              0.4444444444444444,
              "#bd3786"
             ],
             [
              0.5555555555555556,
              "#d8576b"
             ],
             [
              0.6666666666666666,
              "#ed7953"
             ],
             [
              0.7777777777777778,
              "#fb9f3a"
             ],
             [
              0.8888888888888888,
              "#fdca26"
             ],
             [
              1,
              "#f0f921"
             ]
            ],
            "type": "histogram2d"
           }
          ],
          "histogram2dcontour": [
           {
            "colorbar": {
             "outlinewidth": 0,
             "ticks": ""
            },
            "colorscale": [
             [
              0,
              "#0d0887"
             ],
             [
              0.1111111111111111,
              "#46039f"
             ],
             [
              0.2222222222222222,
              "#7201a8"
             ],
             [
              0.3333333333333333,
              "#9c179e"
             ],
             [
              0.4444444444444444,
              "#bd3786"
             ],
             [
              0.5555555555555556,
              "#d8576b"
             ],
             [
              0.6666666666666666,
              "#ed7953"
             ],
             [
              0.7777777777777778,
              "#fb9f3a"
             ],
             [
              0.8888888888888888,
              "#fdca26"
             ],
             [
              1,
              "#f0f921"
             ]
            ],
            "type": "histogram2dcontour"
           }
          ],
          "mesh3d": [
           {
            "colorbar": {
             "outlinewidth": 0,
             "ticks": ""
            },
            "type": "mesh3d"
           }
          ],
          "parcoords": [
           {
            "line": {
             "colorbar": {
              "outlinewidth": 0,
              "ticks": ""
             }
            },
            "type": "parcoords"
           }
          ],
          "pie": [
           {
            "automargin": true,
            "type": "pie"
           }
          ],
          "scatter": [
           {
            "marker": {
             "colorbar": {
              "outlinewidth": 0,
              "ticks": ""
             }
            },
            "type": "scatter"
           }
          ],
          "scatter3d": [
           {
            "line": {
             "colorbar": {
              "outlinewidth": 0,
              "ticks": ""
             }
            },
            "marker": {
             "colorbar": {
              "outlinewidth": 0,
              "ticks": ""
             }
            },
            "type": "scatter3d"
           }
          ],
          "scattercarpet": [
           {
            "marker": {
             "colorbar": {
              "outlinewidth": 0,
              "ticks": ""
             }
            },
            "type": "scattercarpet"
           }
          ],
          "scattergeo": [
           {
            "marker": {
             "colorbar": {
              "outlinewidth": 0,
              "ticks": ""
             }
            },
            "type": "scattergeo"
           }
          ],
          "scattergl": [
           {
            "marker": {
             "colorbar": {
              "outlinewidth": 0,
              "ticks": ""
             }
            },
            "type": "scattergl"
           }
          ],
          "scattermapbox": [
           {
            "marker": {
             "colorbar": {
              "outlinewidth": 0,
              "ticks": ""
             }
            },
            "type": "scattermapbox"
           }
          ],
          "scatterpolar": [
           {
            "marker": {
             "colorbar": {
              "outlinewidth": 0,
              "ticks": ""
             }
            },
            "type": "scatterpolar"
           }
          ],
          "scatterpolargl": [
           {
            "marker": {
             "colorbar": {
              "outlinewidth": 0,
              "ticks": ""
             }
            },
            "type": "scatterpolargl"
           }
          ],
          "scatterternary": [
           {
            "marker": {
             "colorbar": {
              "outlinewidth": 0,
              "ticks": ""
             }
            },
            "type": "scatterternary"
           }
          ],
          "surface": [
           {
            "colorbar": {
             "outlinewidth": 0,
             "ticks": ""
            },
            "colorscale": [
             [
              0,
              "#0d0887"
             ],
             [
              0.1111111111111111,
              "#46039f"
             ],
             [
              0.2222222222222222,
              "#7201a8"
             ],
             [
              0.3333333333333333,
              "#9c179e"
             ],
             [
              0.4444444444444444,
              "#bd3786"
             ],
             [
              0.5555555555555556,
              "#d8576b"
             ],
             [
              0.6666666666666666,
              "#ed7953"
             ],
             [
              0.7777777777777778,
              "#fb9f3a"
             ],
             [
              0.8888888888888888,
              "#fdca26"
             ],
             [
              1,
              "#f0f921"
             ]
            ],
            "type": "surface"
           }
          ],
          "table": [
           {
            "cells": {
             "fill": {
              "color": "#EBF0F8"
             },
             "line": {
              "color": "white"
             }
            },
            "header": {
             "fill": {
              "color": "#C8D4E3"
             },
             "line": {
              "color": "white"
             }
            },
            "type": "table"
           }
          ]
         },
         "layout": {
          "annotationdefaults": {
           "arrowcolor": "#2a3f5f",
           "arrowhead": 0,
           "arrowwidth": 1
          },
          "coloraxis": {
           "colorbar": {
            "outlinewidth": 0,
            "ticks": ""
           }
          },
          "colorscale": {
           "diverging": [
            [
             0,
             "#8e0152"
            ],
            [
             0.1,
             "#c51b7d"
            ],
            [
             0.2,
             "#de77ae"
            ],
            [
             0.3,
             "#f1b6da"
            ],
            [
             0.4,
             "#fde0ef"
            ],
            [
             0.5,
             "#f7f7f7"
            ],
            [
             0.6,
             "#e6f5d0"
            ],
            [
             0.7,
             "#b8e186"
            ],
            [
             0.8,
             "#7fbc41"
            ],
            [
             0.9,
             "#4d9221"
            ],
            [
             1,
             "#276419"
            ]
           ],
           "sequential": [
            [
             0,
             "#0d0887"
            ],
            [
             0.1111111111111111,
             "#46039f"
            ],
            [
             0.2222222222222222,
             "#7201a8"
            ],
            [
             0.3333333333333333,
             "#9c179e"
            ],
            [
             0.4444444444444444,
             "#bd3786"
            ],
            [
             0.5555555555555556,
             "#d8576b"
            ],
            [
             0.6666666666666666,
             "#ed7953"
            ],
            [
             0.7777777777777778,
             "#fb9f3a"
            ],
            [
             0.8888888888888888,
             "#fdca26"
            ],
            [
             1,
             "#f0f921"
            ]
           ],
           "sequentialminus": [
            [
             0,
             "#0d0887"
            ],
            [
             0.1111111111111111,
             "#46039f"
            ],
            [
             0.2222222222222222,
             "#7201a8"
            ],
            [
             0.3333333333333333,
             "#9c179e"
            ],
            [
             0.4444444444444444,
             "#bd3786"
            ],
            [
             0.5555555555555556,
             "#d8576b"
            ],
            [
             0.6666666666666666,
             "#ed7953"
            ],
            [
             0.7777777777777778,
             "#fb9f3a"
            ],
            [
             0.8888888888888888,
             "#fdca26"
            ],
            [
             1,
             "#f0f921"
            ]
           ]
          },
          "colorway": [
           "#636efa",
           "#EF553B",
           "#00cc96",
           "#ab63fa",
           "#FFA15A",
           "#19d3f3",
           "#FF6692",
           "#B6E880",
           "#FF97FF",
           "#FECB52"
          ],
          "font": {
           "color": "#2a3f5f"
          },
          "geo": {
           "bgcolor": "white",
           "lakecolor": "white",
           "landcolor": "#E5ECF6",
           "showlakes": true,
           "showland": true,
           "subunitcolor": "white"
          },
          "hoverlabel": {
           "align": "left"
          },
          "hovermode": "closest",
          "mapbox": {
           "style": "light"
          },
          "paper_bgcolor": "white",
          "plot_bgcolor": "#E5ECF6",
          "polar": {
           "angularaxis": {
            "gridcolor": "white",
            "linecolor": "white",
            "ticks": ""
           },
           "bgcolor": "#E5ECF6",
           "radialaxis": {
            "gridcolor": "white",
            "linecolor": "white",
            "ticks": ""
           }
          },
          "scene": {
           "xaxis": {
            "backgroundcolor": "#E5ECF6",
            "gridcolor": "white",
            "gridwidth": 2,
            "linecolor": "white",
            "showbackground": true,
            "ticks": "",
            "zerolinecolor": "white"
           },
           "yaxis": {
            "backgroundcolor": "#E5ECF6",
            "gridcolor": "white",
            "gridwidth": 2,
            "linecolor": "white",
            "showbackground": true,
            "ticks": "",
            "zerolinecolor": "white"
           },
           "zaxis": {
            "backgroundcolor": "#E5ECF6",
            "gridcolor": "white",
            "gridwidth": 2,
            "linecolor": "white",
            "showbackground": true,
            "ticks": "",
            "zerolinecolor": "white"
           }
          },
          "shapedefaults": {
           "line": {
            "color": "#2a3f5f"
           }
          },
          "ternary": {
           "aaxis": {
            "gridcolor": "white",
            "linecolor": "white",
            "ticks": ""
           },
           "baxis": {
            "gridcolor": "white",
            "linecolor": "white",
            "ticks": ""
           },
           "bgcolor": "#E5ECF6",
           "caxis": {
            "gridcolor": "white",
            "linecolor": "white",
            "ticks": ""
           }
          },
          "title": {
           "x": 0.05
          },
          "xaxis": {
           "automargin": true,
           "gridcolor": "white",
           "linecolor": "white",
           "ticks": "",
           "title": {
            "standoff": 15
           },
           "zerolinecolor": "white",
           "zerolinewidth": 2
          },
          "yaxis": {
           "automargin": true,
           "gridcolor": "white",
           "linecolor": "white",
           "ticks": "",
           "title": {
            "standoff": 15
           },
           "zerolinecolor": "white",
           "zerolinewidth": 2
          }
         }
        },
        "title": {
         "text": "Projected Feature Space of Validation Questions"
        }
       }
      },
      "text/html": [
       "<div>                            <div id=\"80bdc8ad-2f5f-4a6e-9179-868acd471355\" class=\"plotly-graph-div\" style=\"height:500px; width:100%;\"></div>            <script type=\"text/javascript\">                require([\"plotly\"], function(Plotly) {                    window.PLOTLYENV=window.PLOTLYENV || {};                                    if (document.getElementById(\"80bdc8ad-2f5f-4a6e-9179-868acd471355\")) {                    Plotly.newPlot(                        \"80bdc8ad-2f5f-4a6e-9179-868acd471355\",                        [{\"customdata\": [[\"how does poor diet and lifestyle cause type two diabetes ?\", \"diet type two best one\", 13], [\"what are the diets for diabetes type one and two ?\", \"diet type two best one\", 13], [\"what are some of the restrictions of a diabetes diet ?\", \"diet type two best one\", 13], [\"what the best diet for type two diabetes ?\", \"diet type two best one\", 13], [\"what is the best diet for a diabetic ?\", \"diet type two best one\", 13], [\"what type of diet will cure diabetes ?\", \"diet type two best one\", 13], [\"what is the diabetes diet ?\", \"diet type two best one\", 13], [\"what is the best type one diabetes diet to go on ?\", \"diet type two best one\", 13], [\"what is a good type two diabetes diet ?\", \"diet type two best one\", 13], [\"what are the <unk> needs for a diabetic with type two diabetes ?\", \"diet type two best one\", 13], [\"does the diabetes dtour diet work <unk> ?\", \"diet type two best one\", 13], [\"what is a good diet for type two diabetes ?\", \"diet type two best one\", 13], [\"what type of diet should someone with diabetes have ?\", \"diet type two best one\", 13], [\"what is the best diet for a person with diabetes ?\", \"diet type two best one\", 13], [\"diabetes diets ?\", \"diet type two best one\", 13], [\"controlling diabetes with diet ?\", \"diet type two best one\", 13], [\"what is daily carb allowance for type two diabetes ?\", \"diet type two best one\", 13], [\"what fiber is recommended for type two diabetes ?\", \"diet type two best one\", 13], [\"what type of diet is recommend for type two diabetes ?\", \"diet type two best one\", 13], [\"what is a healthy diet for a diabetic with type two diabetes ?\", \"diet type two best one\", 13], [\"is high carbohydrate diet bad for type two diabetic ?\", \"diet type two best one\", 13], [\"what kind of diet helps control diabetes ?\", \"diet type two best one\", 13], [\"following a type two diabetes diet ?\", \"diet type two best one\", 13], [\"what type of diet should a person keep with <unk> ?\", \"diet type two best one\", 13]], \"hovertemplate\": \"summary=%{customdata[1]}<br>pc_1=%{x}<br>pc_2=%{y}<br>pc_3=%{z}<br>question=%{customdata[0]}<br>label=%{customdata[2]}<extra></extra>\", \"legendgroup\": \"diet type two best one\", \"marker\": {\"color\": \"#636efa\", \"size\": 8, \"symbol\": \"circle\"}, \"mode\": \"markers\", \"name\": \"diet type two best one\", \"scene\": \"scene\", \"showlegend\": true, \"type\": \"scatter3d\", \"x\": [-0.35406580567359924, -0.3681719899177551, -0.4620684087276459, -0.3852125406265259, -0.4370640516281128, -0.42203351855278015, -0.43951529264450073, -0.41085729002952576, -0.35886332392692566, -0.31212058663368225, -0.4599575102329254, -0.3719845414161682, -0.40471363067626953, -0.4018511176109314, -0.4265093207359314, -0.41975584626197815, -0.31272321939468384, -0.2887146770954132, -0.3218030035495758, -0.3524053990840912, -0.31427881121635437, -0.4394225776195526, -0.32378053665161133, -0.3823613226413727], \"y\": [0.46711355447769165, 0.39007118344306946, 0.35918018221855164, 0.373534232378006, 0.2350229024887085, 0.41469237208366394, 0.3996731638908386, 0.3409692049026489, 0.29479891061782837, 0.27822345495224, 0.45445361733436584, 0.29913073778152466, 0.4025537967681885, 0.24057407677173615, 0.469853013753891, 0.4466305077075958, 0.3482721149921417, 0.360561728477478, 0.3608505129814148, 0.29708340764045715, 0.3904426395893097, 0.4502889811992645, 0.4077538549900055, 0.33972108364105225], \"z\": [0.5261481404304504, 0.5500013828277588, 0.47949299216270447, 0.5871180295944214, 0.5499480366706848, 0.661441445350647, 0.5526017546653748, 0.5870287418365479, 0.5801637172698975, 0.49235999584198, 0.5625365376472473, 0.5472345352172852, 0.5181758999824524, 0.5676387548446655, 0.48422378301620483, 0.5589166879653931, 0.6513545513153076, 0.6135444641113281, 0.5788220763206482, 0.509631335735321, 0.4664272964000702, 0.6233982443809509, 0.5270898938179016, 0.4687757194042206]}, {\"customdata\": [[\"how many carbohydrates should you consume to lose twenty pounds in three weeks ?\", \"mani sugar gram consum eat\", 24], [\"can a diabetic person eat cane sugar ?\", \"mani sugar gram consum eat\", 24], [\"how many grams of carbs should a type one diabetic eat per day ?\", \"mani sugar gram consum eat\", 24], [\"can sugar <unk> cause <unk> ?\", \"mani sugar gram consum eat\", 24], [\"how many grams of sugar should a pre-diabetic woman consume per day ?\", \"mani sugar gram consum eat\", 24], [\"can a diabetic consume sugar ?\", \"mani sugar gram consum eat\", 24], [\"what should be the sodium intake daily for a person with diabetes ?\", \"mani sugar gram consum eat\", 24], [\"how many sugar grams should a fourteen year old have daily ?\", \"mani sugar gram consum eat\", 24], [\"what is the difference between net grams of carbohydrates and total carbohydrates ?\", \"mani sugar gram consum eat\", 24], [\"can calories cause diabetes ?\", \"mani sugar gram consum eat\", 24], [\"how many grams should a type two diabetic consume per day with hyperglycemia ?\", \"mani sugar gram consum eat\", 24], [\"can diabetics eat an orange per day ?\", \"mani sugar gram consum eat\", 24], [\"how many grams of carbohydrates should a pre-diabetic woman eat ?\", \"mani sugar gram consum eat\", 24], [\"how many calories should a type two diabetic consume daily ?\", \"mani sugar gram consum eat\", 24], [\"how many carbohydrates should a type two diabetic safely consume per day ?\", \"mani sugar gram consum eat\", 24], [\"how many grams of sugar should you eat if diabetic ?\", \"mani sugar gram consum eat\", 24], [\"what happens to people that eat to much sugar ?\", \"mani sugar gram consum eat\", 24], [\"if you have diabetes what is the serving size of strawberries ?\", \"mani sugar gram consum eat\", 24]], \"hovertemplate\": \"summary=%{customdata[1]}<br>pc_1=%{x}<br>pc_2=%{y}<br>pc_3=%{z}<br>question=%{customdata[0]}<br>label=%{customdata[2]}<extra></extra>\", \"legendgroup\": \"mani sugar gram consum eat\", \"marker\": {\"color\": \"#EF553B\", \"size\": 8, \"symbol\": \"circle\"}, \"mode\": \"markers\", \"name\": \"mani sugar gram consum eat\", \"scene\": \"scene\", \"showlegend\": true, \"type\": \"scatter3d\", \"x\": [-0.5587484836578369, -0.4934796690940857, -0.5620505809783936, -0.4366278350353241, -0.4968380331993103, -0.49054932594299316, -0.5531958937644958, -0.490746408700943, -0.57453852891922, -0.521622359752655, -0.6048881411552429, -0.4937882125377655, -0.5324126482009888, -0.5953961610794067, -0.5960069894790649, -0.5237246155738831, -0.43790897727012634, -0.5799643397331238], \"y\": [-0.382043719291687, -0.20434556901454926, -0.32619428634643555, -0.2766242027282715, -0.3423222601413727, -0.22493551671504974, -0.37812042236328125, -0.359182745218277, -0.28926965594291687, -0.31645986437797546, -0.3215605914592743, -0.26882991194725037, -0.30675166845321655, -0.3680723309516907, -0.35926154255867004, -0.24971304833889008, -0.3287363052368164, -0.2288270890712738], \"z\": [-0.2984437644481659, -0.19824393093585968, -0.24881243705749512, -0.173789843916893, -0.24725346267223358, -0.17146287858486176, -0.17775951325893402, -0.2914714515209198, -0.30048635601997375, -0.14611099660396576, -0.24740932881832123, -0.2967032194137573, -0.22503778338432312, -0.2119562178850174, -0.25991958379745483, -0.2102546989917755, -0.22410187125205994, -0.1905287802219391]}, {\"customdata\": [[\"what are the benefits of pregnancy <unk> ?\", \"pregnanc gestat doctor benefit pregnant\", 34], [\"in what <unk> is a pregnant lady tested for gestational diabetes ?\", \"pregnanc gestat doctor benefit pregnant\", 34], [\"how does diabetes effect pregnancy ?\", \"pregnanc gestat doctor benefit pregnant\", 34], [\"in gestational diabetes the mother passes diabetes to her <unk> ?\", \"pregnanc gestat doctor benefit pregnant\", 34], [\"pregnancy diabetes ?\", \"pregnanc gestat doctor benefit pregnant\", 34], [\"what is the best healthy pregnancy diet for women who are suffering from gestational diabetes ?\", \"pregnanc gestat doctor benefit pregnant\", 34], [\"when do doctors induce labor when you have gestational diabetes ?\", \"pregnanc gestat doctor benefit pregnant\", 34], [\"what is a doctor called that studies child growth and diabetes ?\", \"pregnanc gestat doctor benefit pregnant\", 34], [\"is gestational diabetes the kind that only occurs during pregnancy ?\", \"pregnanc gestat doctor benefit pregnant\", 34], [\"does diabetes affect pregnancy ?\", \"pregnanc gestat doctor benefit pregnant\", 34], [\"can you have anemia and gestational diabetes at the same time ?\", \"pregnanc gestat doctor benefit pregnant\", 34], [\"can you have gestational diabetes with every pregnancy ?\", \"pregnanc gestat doctor benefit pregnant\", 34]], \"hovertemplate\": \"summary=%{customdata[1]}<br>pc_1=%{x}<br>pc_2=%{y}<br>pc_3=%{z}<br>question=%{customdata[0]}<br>label=%{customdata[2]}<extra></extra>\", \"legendgroup\": \"pregnanc gestat doctor benefit pregnant\", \"marker\": {\"color\": \"#00cc96\", \"size\": 8, \"symbol\": \"circle\"}, \"mode\": \"markers\", \"name\": \"pregnanc gestat doctor benefit pregnant\", \"scene\": \"scene\", \"showlegend\": true, \"type\": \"scatter3d\", \"x\": [-0.34707263112068176, -0.41008442640304565, -0.3949064314365387, -0.40773314237594604, -0.3887917697429657, -0.40989449620246887, -0.3077903091907501, -0.2858869135379791, -0.3865424394607544, -0.3948798179626465, -0.3333906829357147, -0.37890487909317017], \"y\": [0.6408977508544922, 0.7413454651832581, 0.5995503067970276, 0.7195212841033936, 0.6699076294898987, 0.6644502878189087, 0.7457507252693176, 0.7516665458679199, 0.7547658085823059, 0.6323319673538208, 0.7191930413246155, 0.6989102959632874], \"z\": [-0.18848225474357605, -0.1929273158311844, -0.28718429803848267, -0.2464776188135147, -0.24763183295726776, -0.17040833830833435, -0.23029860854148865, -0.14926664531230927, -0.25484928488731384, -0.2995862066745758, -0.19636034965515137, -0.2138807624578476]}, {\"customdata\": [[\"diabetes meal planning services ?\", \"food find list good recip\", 5], [\"where can you find an informative food list for diabetics online ?\", \"food find list good recip\", 5], [\"what is the name for a good diabetic cook book ?\", \"food find list good recip\", 5], [\"can you get a food list for diabetics ?\", \"food find list good recip\", 5], [\"what is a good diabetes food guide ?\", \"food find list good recip\", 5], [\"what is a good <unk> for diabetic recipes ?\", \"food find list good recip\", 5], [\"where can one find a guide for good foods for diabetics ?\", \"food find list good recip\", 5], [\"looking for advice about a a new dietary regiment of breakfast . ?\", \"food find list good recip\", 5], [\"where can i order my diabetic supplies online ?\", \"food find list good recip\", 5], [\"how much more <unk> are diabetic foods than normal foods ?\", \"food find list good recip\", 5], [\"what are some good diabetic food recipes that will help alleviate my symptoms ?\", \"food find list good recip\", 5], [\"where can i find recipes for diabetic <unk> ?\", \"food find list good recip\", 5], [\"where can i find more information diabetic meals ?\", \"food find list good recip\", 5], [\"create a personal diabetic food list ?\", \"food find list good recip\", 5], [\"how does the diabetic food chart compare to the basic food chart ?\", \"food find list good recip\", 5], [\"how can one easily <unk> diabetes products while shopping for food ?\", \"food find list good recip\", 5], [\"where can i find more information on diabetic snacks ?\", \"food find list good recip\", 5], [\"diabetic food ?\", \"food find list good recip\", 5], [\"where can one order diabetic supplies online ?\", \"food find list good recip\", 5], [\"what can the ingredients list of a food product tell you ?\", \"food find list good recip\", 5], [\"where can you find a diabetic food list ?\", \"food find list good recip\", 5], [\"where can i find a good diabetes meal planner ?\", \"food find list good recip\", 5], [\"what is the purpose of an a1c chart for a diabetic ?\", \"food find list good recip\", 5], [\"where can i find inexpensive food for diabetics ?\", \"food find list good recip\", 5], [\"which websites provide diabetic food lists ?\", \"food find list good recip\", 5], [\"what healthy foods for diabetics should i start cooking ?\", \"food find list good recip\", 5], [\"diabetic recipes free ?\", \"food find list good recip\", 5], [\"what will eating regular meals do ?\", \"food find list good recip\", 5], [\"is there an online resource for diabetic diet plans ?\", \"food find list good recip\", 5], [\"where can i find the diabetic food guide ?\", \"food find list good recip\", 5], [\"what type of food is good for people with diabetes to eat ?\", \"food find list good recip\", 5], [\"where can i find a recipe book for a diabetic diet ?\", \"food find list good recip\", 5], [\"diabetic cookbooks ?\", \"food find list good recip\", 5], [\"what is a good sample breakfast menu for diabetics ?\", \"food find list good recip\", 5], [\"does whole foods store sell healthy foods for diabetics ?\", \"food find list good recip\", 5], [\"diet meal plans for people with diabetes ?\", \"food find list good recip\", 5], [\"where can i get a diabetic cookbook ?\", \"food find list good recip\", 5], [\"where can i find a new diabetic food list that shows good food choices ?\", \"food find list good recip\", 5], [\"where can i find diabetic recipes ?\", \"food find list good recip\", 5], [\"where can i find a menu or diabetic foods online ?\", \"food find list good recip\", 5], [\"would diet plans for diabetics have the foods watches carefully ?\", \"food find list good recip\", 5], [\"can i find diabetic foods in any grocery store ?\", \"food find list good recip\", 5], [\"what is a good cookie recipe for diabetics ?\", \"food find list good recip\", 5], [\"what is the best diet meal plan for type two diabetis ?\", \"food find list good recip\", 5], [\"what would a diabetics diet menu consist of ?\", \"food find list good recip\", 5], [\"where can one find information on the best diabetic desserts ?\", \"food find list good recip\", 5], [\"what kind of diabetes food should one be using to cook ?\", \"food find list good recip\", 5], [\"what do people with type two diabetes have to eat for dinner ?\", \"food find list good recip\", 5], [\"where could one find a list of food suitable for diabetics ?\", \"food find list good recip\", 5], [\"what are some diabetic foods and can they be found in any store ?\", \"food find list good recip\", 5], [\"how to make diabetic food for the family ?\", \"food find list good recip\", 5], [\"what foods can be listed as diabetic ?\", \"food find list good recip\", 5], [\"which food items are typically on the diabetic food list ?\", \"food find list good recip\", 5], [\"what types of foods are listed as diabetic and what type of non diabetic foods can you buy ?\", \"food find list good recip\", 5], [\"what food for supper for the diabetic person ?\", \"food find list good recip\", 5], [\"what fruits and vegetables are <unk> foods on the diabetes food list and are the portion size restrictions the same ?\", \"food find list good recip\", 5], [\"what is a good food guide for diabetics ?\", \"food find list good recip\", 5], [\"where can i find the new diabetic food list ?\", \"food find list good recip\", 5], [\"where can one find sample menus for a diabetic diet ?\", \"food find list good recip\", 5], [\"is there an online store for diabetic supplies ?\", \"food find list good recip\", 5], [\"what foods should a diabetic buy at the grocery store ?\", \"food find list good recip\", 5], [\"where can i find free diabetic menus ?\", \"food find list good recip\", 5], [\"what diet plans help to prevent the want of glucose products ?\", \"food find list good recip\", 5], [\"what cereals are recommended for diabetics ?\", \"food find list good recip\", 5], [\"where can i purchase some diabetic foods ?\", \"food find list good recip\", 5], [\"where can i obtain a diabetic food pyramid ?\", \"food find list good recip\", 5], [\"diabetic menu planner ?\", \"food find list good recip\", 5], [\"is there any online site that offers diabetic recipes ?\", \"food find list good recip\", 5], [\"diabetes meal plan ?\", \"food find list good recip\", 5], [\"where can i find a complete list of foods mentioned in the <unk> ?\", \"food find list good recip\", 5], [\"understanding diabetic meal planning ?\", \"food find list good recip\", 5], [\"where can i find list of diabetic eating guidelines ?\", \"food find list good recip\", 5], [\"low-fat food options are an important consideration for type two diabetes patients ?\", \"food find list good recip\", 5], [\"where can one find a diabetic cookie recipe book ?\", \"food find list good recip\", 5], [\"what restaurants in central london offer a diabetic menu ?\", \"food find list good recip\", 5]], \"hovertemplate\": \"summary=%{customdata[1]}<br>pc_1=%{x}<br>pc_2=%{y}<br>pc_3=%{z}<br>question=%{customdata[0]}<br>label=%{customdata[2]}<extra></extra>\", \"legendgroup\": \"food find list good recip\", \"marker\": {\"color\": \"#ab63fa\", \"size\": 8, \"symbol\": \"circle\"}, \"mode\": \"markers\", \"name\": \"food find list good recip\", \"scene\": \"scene\", \"showlegend\": true, \"type\": \"scatter3d\", \"x\": [-0.5836672782897949, -0.7410984039306641, -0.6635496616363525, -0.8701757192611694, -0.632967472076416, -0.6752231121063232, -0.6779397130012512, -0.6085475087165833, -0.7547295689582825, -0.6962284445762634, -0.8111477494239807, -0.8805676102638245, -0.7535657286643982, -0.7828894853591919, -0.7247893810272217, -0.6908658146858215, -0.723457932472229, -0.7514901161193848, -0.7885050773620605, -0.8614157438278198, -0.8559939861297607, -0.8463062047958374, -0.6437696814537048, -0.704113781452179, -0.7196903824806213, -0.5728884339332581, -0.7330924868583679, -0.5594517588615417, -0.6802732348442078, -0.7919762134552002, -0.5969052314758301, -0.77861487865448, -0.7417396306991577, -0.6707202196121216, -0.7303050756454468, -0.5669351816177368, -0.8264726400375366, -0.7995840311050415, -0.8931639194488525, -0.8246856927871704, -0.5432379245758057, -0.8447148203849792, -0.6477712988853455, -0.5419548153877258, -0.5416675209999084, -0.6442955136299133, -0.6059841513633728, -0.5436692237854004, -0.8985529541969299, -0.7984669208526611, -0.7194170951843262, -0.8038567900657654, -0.7214226126670837, -0.762458086013794, -0.7125054001808167, -0.688962459564209, -0.6536538004875183, -0.7661942839622498, -0.7483347654342651, -0.8129616379737854, -0.8710443377494812, -0.8058574199676514, -0.5405020713806152, -0.5433441400527954, -0.7644553184509277, -0.8142532706260681, -0.7410666942596436, -0.8377649784088135, -0.5755569934844971, -0.8130660653114319, -0.674112856388092, -0.8914841413497925, -0.509600818157196, -0.8367563486099243, -0.7430537939071655], \"y\": [0.28854474425315857, 0.29761356115341187, 0.10642393678426743, 0.41625484824180603, 0.2078353613615036, 0.14667478203773499, 0.25163909792900085, 0.20254597067832947, 0.3455933630466461, 0.255938321352005, 0.14141963422298431, 0.23562563955783844, 0.3767111301422119, 0.1853557527065277, 0.41125810146331787, 0.3282213509082794, 0.39006203413009644, 0.1462535858154297, 0.37063443660736084, 0.24157452583312988, 0.3261311650276184, 0.35216429829597473, 0.06899548321962357, 0.2899269163608551, 0.23120205104351044, 0.13520875573158264, 0.15846629440784454, 0.20797884464263916, 0.2739020586013794, 0.31054598093032837, 0.21096456050872803, 0.29688990116119385, 0.11733313649892807, 0.19573207199573517, 0.26617172360420227, 0.2905438542366028, 0.294691801071167, 0.23239099979400635, 0.2655869424343109, 0.2706255316734314, 0.13205000758171082, 0.2813638150691986, 0.14722442626953125, 0.2377653419971466, 0.20904181897640228, 0.3595327138900757, 0.26300057768821716, 0.215448260307312, 0.40632426738739014, 0.2941759526729584, 0.17896592617034912, 0.23386071622371674, 0.263080894947052, 0.22759909927845, 0.10782045125961304, 0.27354395389556885, 0.20472122728824615, 0.28180167078971863, 0.30025455355644226, 0.3990078270435333, 0.2831679582595825, 0.33104392886161804, 0.15231478214263916, 0.12121131271123886, 0.27348726987838745, 0.3537471890449524, 0.16046182811260223, 0.18120762705802917, 0.2846783697605133, 0.24449022114276886, 0.1663529872894287, 0.28792575001716614, 0.27608057856559753, 0.27889353036880493, 0.2159731537103653], \"z\": [0.1225174143910408, 0.16146044433116913, 0.1767473965883255, 0.16084086894989014, 0.08048007637262344, 0.14087972044944763, 0.12684248387813568, 0.20225946605205536, 0.04195747151970863, -0.11268503218889236, 0.11347617954015732, 0.2570452094078064, 0.1552826464176178, 0.036817457526922226, -0.01147004310041666, 0.039893873035907745, 0.1387934386730194, -0.0425272062420845, 0.05308090150356293, 0.11401639133691788, 0.18209514021873474, 0.27344566583633423, 0.09245818108320236, 0.0990898609161377, 0.035396672785282135, 0.12748058140277863, 0.11922498047351837, 0.12626482546329498, 0.23849011957645416, 0.11207278817892075, 0.04360344633460045, 0.2791267931461334, 0.14797812700271606, 0.17762337625026703, -0.11884944140911102, 0.22290167212486267, 0.22321589291095734, 0.07982297241687775, 0.2637706995010376, 0.11555850505828857, 0.19437231123447418, 0.0565669909119606, 0.10947620868682861, 0.1892593801021576, 0.17216303944587708, 0.12323088198900223, 0.023426860570907593, 0.048463597893714905, 0.14136448502540588, -0.015731828287243843, 0.04211584851145744, -0.050395768135786057, 0.0016079498454928398, -0.054901234805583954, 0.032623663544654846, -0.028602134436368942, 0.10839509963989258, 0.0680495873093605, 0.28335657715797424, 0.029526134952902794, 0.026530403643846512, 0.18004170060157776, 0.2528809607028961, 0.13622517883777618, 0.0115948636084795, 0.11078181117773056, 0.18773344159126282, 0.20444849133491516, 0.18193510174751282, 0.15726763010025024, 0.006843836046755314, 0.182264044880867, 0.10290700942277908, 0.2951224148273468, 0.18024514615535736]}, {\"customdata\": [[\"my cat has diabetes and has lost a lot of muscle from his legs and can not walk ?\", \"blood sugar insulin one level\", 0], [\"what would happen to the blood glucose level if diabetic gave herself an injection but did not eat or accidentally too much insulin ?\", \"blood sugar insulin one level\", 0], [\"the most immediate response to a high level of blood sugar in a human is an increase in the ?\", \"blood sugar insulin one level\", 0], [\"why do people with diabetes have to test their blood sugar level before injecting themselves insulin ?\", \"blood sugar insulin one level\", 0], [\"is it possible for you to have diabetes if no one else in your family has it ?\", \"blood sugar insulin one level\", 0], [\"my <unk> old son was diagnosed with <unk> diabetes in july eight point we have been having alot of highs and lows <unk> , were told by his doctor that it is normal . i would like to get another opinion on this from someone with same problem . ?\", \"blood sugar insulin one level\", 0], [\"you are a forty year old diabetic you ave a temp of one hundred and one and just had a kidney infection when should you call your doctor ?\", \"blood sugar insulin one level\", 0], [\"<unk> . rand who has diabetes and takes insulin regularly tells the personal care assistant that she feels very nervous and jittery . what should the <unk> do immediately ?\", \"blood sugar insulin one level\", 0], [\"what is the number that determines high blood sugar i know my blood tests numbers what i want to know is if i am diabete ?\", \"blood sugar insulin one level\", 0], [\"what may be the cause of a twenty seven yr old girl found suffering from diabetes who has no such family history ?\", \"blood sugar insulin one level\", 0], [\"a scientist makes an educated guess that diabetes is caused by genetic factors his guess is an example of a n ?\", \"blood sugar insulin one level\", 0], [\"i am on medication <unk> per day i have been on a diet and my blood sugar levels are still high what is wrong ?\", \"blood sugar insulin one level\", 0], [\"does sex have an affect on blood sugar in a person with type two diabetes will it cause it to elevate ?\", \"blood sugar insulin one level\", 0], [\"where can i find a diet plan for diabetics that is healthy and also helps people loose weight ?\", \"blood sugar insulin one level\", 0], [\"what word describing the lowering of the blood glucose level to normal after eating a meal ?\", \"blood sugar insulin one level\", 0], [\"how can type one and type two diabetes be different if they both cause the same problem - glucose being unable to be <unk> from the bloodstream into cells ?\", \"blood sugar insulin one level\", 0], [\"i want to get a tattoo but i also have diabetes . is it safer if i just not get one ?\", \"blood sugar insulin one level\", 0], [\"if i am not losing weight and have no sugar in my urine but could i still have diabetes ?\", \"blood sugar insulin one level\", 0], [\"you started getting <unk> face and head and <unk> feeling in head while diagnosed with gestational diabetes what could be wrong ?\", \"blood sugar insulin one level\", 0], [\"where do i need to go to find out more about diet for diabetic ?\", \"blood sugar insulin one level\", 0], [\"can some one please tell me where to find healthy food for a diabetic like me ?\", \"blood sugar insulin one level\", 0], [\"is it true that type two diabetes occurs much less frequently than type one ?\", \"blood sugar insulin one level\", 0], [\"did nick jonas consider leaving the jonas brothers when he found out that he had diabetes ?\", \"blood sugar insulin one level\", 0], [\"which food are the best choices for treating a patient <unk> a hypoglycemic low blood sugar reaction ?\", \"blood sugar insulin one level\", 0], [\"what causes pain in your right arm between <unk> and shoulder and numbness in your right fingers ?\", \"blood sugar insulin one level\", 0], [\"would not a military physical show whether a person has kidney disease or diabetes ?\", \"blood sugar insulin one level\", 0], [\"if you are diabetic and suffering frequent hypos low blood sugar requiring emergency aid should the doctor prescribe metformin and lower insulin since metformin lowers blood sugar levels further ?\", \"blood sugar insulin one level\", 0], [\"will medicare pay for diabetic shoes and <unk> prescribed by a physician for a patient living in a thirty one <unk> nursing facility thirty two a nursing facility or thirty three a <unk> care facility ?\", \"blood sugar insulin one level\", 0], [\"what is the life expectancy of someone with terminal colon and liver cancer he is seventy seven years old and had diabetes the dr is told us approx six months he has <unk> that . any <unk> would be helpful . ?\", \"blood sugar insulin one level\", 0], [\"i am having a fasting test for diabetes <unk> . this <unk> i went crazy and smoked a pack of cigarettes with my friends . will the <unk> of nicotine show up on the test ?\", \"blood sugar insulin one level\", 0], [\"what if i had diabetes for a while and did not know it and can not go to the doctor is to see if you do have it will it get worse ?\", \"blood sugar insulin one level\", 0], [\"can you get diabetes type one when you are between the ages thirteen to seventeen and can people ages eighteen and above get diabetes type one ?\", \"blood sugar insulin one level\", 0], [\"if you have been in the hospital and a med they gave you sent your blood sugar up high so they started to give you insulin will have to keep taking it now ?\", \"blood sugar insulin one level\", 0], [\"have nervous system problems for the past seven years and a diabetic patient . find difficult to write with steady hand . please tell the remedy ?\", \"blood sugar insulin one level\", 0], [\"the live reacts to a high level of glucose in the blood by converting some of the glucose to ?\", \"blood sugar insulin one level\", 0], [\"is a condition when the body produces too much insulin even when they have not eaten ?\", \"blood sugar insulin one level\", 0], [\"what if your friend <unk> has type one diabetes but still eats tons of candy every day is this a problem also he is gay if that matters ?\", \"blood sugar insulin one level\", 0], [\"glucose can be elevated in the blood of a diabetic person relate this information to glucose in the urine and glucose <unk> ?\", \"blood sugar insulin one level\", 0], [\"what <unk> dose of insulin do i take if my blood sugar level is seventeen point zero from my pre meal measurement ?\", \"blood sugar insulin one level\", 0], [\"what are two serious consequences that are possible for someone with type two diabetes if a <unk> diet is not followed ?\", \"blood sugar insulin one level\", 0], [\"is it a higher possibility for you to get diabetes if two family members on your dads side have sugar diabetes ?\", \"blood sugar insulin one level\", 0], [\"if your best friend is a ten year old with diabetes and you have to take daily shots and you miss one shot in one day only will you die ?\", \"blood sugar insulin one level\", 0], [\"why am i thirsty all the time and tired after meals even though i got my blood sugar tested and it is normal ?\", \"blood sugar insulin one level\", 0], [\"is it illegal and if yes what are the consequences for a mom to sell their minor child is excess diabetic testing supplies to feed the child ?\", \"blood sugar insulin one level\", 0], [\"you just found out you are pregnant you have a six months old and had gestational diabetes that led to a <unk> section is it safe to stay pregnant and what are the risks if you do keep the baby ?\", \"blood sugar insulin one level\", 0], [\"i am a type two diabetic my problem is my blood sugar is high when i wake up , how can i correct it ?\", \"blood sugar insulin one level\", 0], [\"if you can not <unk> the military because of diabetes is there another option that offers the same structure ?\", \"blood sugar insulin one level\", 0], [\"how can a person with diabetes keep the glucose in the blood at a safe level ?\", \"blood sugar insulin one level\", 0], [\"why does diabetes medications make people more obese than before they started on the medications ?\", \"blood sugar insulin one level\", 0], [\"what is the survival rate of <unk> bypass surgery for a fifty five year old man with diabetes ?\", \"blood sugar insulin one level\", 0], [\"in what region of the body is the storage of excess body fat associated with the highest risk for cardiovascular disease and diabetes ?\", \"blood sugar insulin one level\", 0], [\"<unk> . gave me <unk> insulin an my blood sugar has been up every . i have been to the hospital twice . right now my sugar is five hundred and forty six bp <unk> <unk> . it has been like this all week , what can i do to get it <unk> already take <unk> times a day and lantus for lon ?\", \"blood sugar insulin one level\", 0], [\"husband was diagnosed with type ii diabetes two months ago does that make his son who is twelve more apt to get it ?\", \"blood sugar insulin one level\", 0], [\"why do diabetics type ii get so <unk> and mean . after forty three years of <unk> we are about to <unk> up . what can i do ?\", \"blood sugar insulin one level\", 0], [\"what condition is caused by too much insulin and too little sugar in the blood ?\", \"blood sugar insulin one level\", 0], [\"does a diabetic know if or when his or her blood sugar is too high or low ?\", \"blood sugar insulin one level\", 0], [\"my big toe is partially numb but it comes and goes is there anything i should be worried about ?\", \"blood sugar insulin one level\", 0], [\"you are insulin resistant you do not however have diabetes if you lose the weight will your insulin resistance go too along with it your chance of developing diabetes ?\", \"blood sugar insulin one level\", 0], [\"to find a specific picture book where a father <unk> a strawberry cake if you remember correctly for his son it starts off as a regular cake then it is a huge beautiful cake who is the author and what ?\", \"blood sugar insulin one level\", 0], [\"if a girl weighs one hundred and thirty pound and is a ten year old <unk> grader but her family has a history of over weight family member you are really scared you do not want to be diabetic but i cant <unk> <unk> ?\", \"blood sugar insulin one level\", 0], [\"how does a diabetic <unk> use insulin made from dog or pig pancreas and how does he or she fast all day during <unk> ?\", \"blood sugar insulin one level\", 0], [\"what would make your toes feel numb and your foot tingling on top and have little red <unk> on inside of skin going up front of leg ?\", \"blood sugar insulin one level\", 0], [\"a few days ago i was tested for lyme disease . along with the blood test test my doctor tested my blood sugar . before going to the doctor i had stopped at a <unk> donuts and had a cinnamon <unk> <unk> with a sweetened peach ice tea . my doctor called to ?\", \"blood sugar insulin one level\", 0], [\"if your parents say that your future girlfriend will not have a future because you have diabetes what would you do ?\", \"blood sugar insulin one level\", 0], [\"what if your dad is a diabetic and need a kidney but he has seizures can he die ?\", \"blood sugar insulin one level\", 0], [\"which of the following best describes the effect of a fiber-rich meal on the rise in blood glucose that occurs after a meal ?\", \"blood sugar insulin one level\", 0], [\"you are worried about your friend she is fat and all of her family are diabetic except her you have tried to help her lose weight by watching what she eats and sport but she dosent listen ?\", \"blood sugar insulin one level\", 0], [\"your father is fifty years old and he has been drinking alcohol since twenty three years on regular basis . now a days he is drinking in <unk> he is a heart patient and diabetic kindly help you on this ?\", \"blood sugar insulin one level\", 0], [\"diabetes mellitus is a disease that occurs when the body either can not produce the hormone insulin or produces an insufficient amount of insulin . the disease is caused by a <unk> in the system . ?\", \"blood sugar insulin one level\", 0], [\"if your dead skin cells from foot <unk> <unk> ants after being left in a <unk> for hours does this mean you have diabetes ?\", \"blood sugar insulin one level\", 0], [\"what should you do if you have type one diabetes and have your recommended level of sugar yet still feel low on energy ?\", \"blood sugar insulin one level\", 0], [\"your friend is suffering from acute liver shutdown and now his kidneys are <unk> can he live long enough to hope for a liver transplant ?\", \"blood sugar insulin one level\", 0], [\"a patient has diabetes and takes insulin filling nervous and jittery what should you do ?\", \"blood sugar insulin one level\", 0], [\"what would happen to the blood sugar level of a diabetic who failed to inject insulin ?\", \"blood sugar insulin one level\", 0], [\"what you should do as the doctor detected the pregnancy diabetes at thirty five weeks of pregnancy . is the treatment at this time will be sufficient for the mother and fetus ?\", \"blood sugar insulin one level\", 0], [\"if your <unk> had and died from diabetes will you and what are your chances of getting diagnosed with diabetes ?\", \"blood sugar insulin one level\", 0], [\"what is considered <unk> ' blood levels in male urine samples - what could high level be a symptom of - i have been told mine is <unk> ' ?\", \"blood sugar insulin one level\", 0]], \"hovertemplate\": \"summary=%{customdata[1]}<br>pc_1=%{x}<br>pc_2=%{y}<br>pc_3=%{z}<br>question=%{customdata[0]}<br>label=%{customdata[2]}<extra></extra>\", \"legendgroup\": \"blood sugar insulin one level\", \"marker\": {\"color\": \"#FFA15A\", \"size\": 8, \"symbol\": \"circle\"}, \"mode\": \"markers\", \"name\": \"blood sugar insulin one level\", \"scene\": \"scene\", \"showlegend\": true, \"type\": \"scatter3d\", \"x\": [-0.18883773684501648, 0.026922935619950294, 0.06350894272327423, 0.017417021095752716, -0.05943069979548454, -0.11465726047754288, -0.04946538805961609, -0.16708728671073914, -0.04365677013993263, -0.08560272306203842, -0.014512253925204277, -0.021929815411567688, 0.028775254264473915, -0.12039894610643387, 0.08399920910596848, 0.057015255093574524, -0.08855732530355453, -0.06789717823266983, -0.2023543417453766, -0.17737643420696259, -0.1496894359588623, 0.07701650261878967, -0.1231420636177063, 0.023138346150517464, -0.2599237263202667, -0.04283735156059265, 0.06681449711322784, -0.05742194503545761, -0.11925345659255981, -0.04765867441892624, -0.09724597632884979, -0.14164771139621735, -0.088810496032238, -0.14568570256233215, 0.14628829061985016, 0.057682886719703674, -0.02652141824364662, 0.17254295945167542, 0.04504451900720596, -0.0755840614438057, -0.03433125093579292, -0.07088993489742279, -0.05887333303689957, -0.11663813889026642, -0.1112222671508789, -0.06954123079776764, -0.048082683235406876, 0.10891891270875931, -0.03147335350513458, -0.11118040233850479, 0.11477918177843094, -0.09554677456617355, -0.15866951644420624, -0.11663073301315308, 0.0799863263964653, -0.02113756351172924, -0.10570698976516724, -0.011086245067417622, 0.00020345249504316598, -0.046948667615652084, 0.025261277332901955, -0.234056293964386, -0.04653245583176613, -0.09532655030488968, 0.005281781777739525, 0.1041804701089859, -0.1571611613035202, -0.09245551377534866, 0.10398350656032562, -0.045351218432188034, -0.026476433500647545, -0.15393412113189697, -0.18916504085063934, 0.021313315257430077, -0.12790387868881226, -0.1909155398607254, 0.024639319628477097], \"y\": [0.5838416218757629, 0.6650292277336121, 0.5428788065910339, 0.6204466223716736, 0.6602743864059448, 0.5953091382980347, 0.6338607668876648, 0.6721502542495728, 0.45135366916656494, 0.6823540329933167, 0.718687891960144, 0.5297259092330933, 0.6173164248466492, 0.5746715664863586, 0.516079843044281, 0.65958172082901, 0.6328943371772766, 0.5533851385116577, 0.6712350845336914, 0.5446219444274902, 0.5868782997131348, 0.7210169434547424, 0.5311185717582703, 0.4883546829223633, 0.6165882349014282, 0.7341515421867371, 0.6079111695289612, 0.5863663554191589, 0.6373632550239563, 0.5520719289779663, 0.6448473334312439, 0.4758552014827728, 0.5953737497329712, 0.5668080449104309, 0.543602466583252, 0.7122907638549805, 0.659929096698761, 0.5449786186218262, 0.5298709869384766, 0.742792546749115, 0.6358841061592102, 0.6163126230239868, 0.5016218423843384, 0.6937761306762695, 0.6451089382171631, 0.4417176842689514, 0.7074875831604004, 0.4432505667209625, 0.5680456161499023, 0.6428224444389343, 0.6308320164680481, 0.5707427263259888, 0.5999008417129517, 0.5149644017219543, 0.7049091458320618, 0.7006562948226929, 0.6598851084709167, 0.6078240275382996, 0.6223955750465393, 0.6405780911445618, 0.7169549465179443, 0.5915670394897461, 0.551646888256073, 0.6940534710884094, 0.6686407923698425, 0.5335176587104797, 0.6374748945236206, 0.5996431708335876, 0.6524436473846436, 0.6830992698669434, 0.5602757930755615, 0.6989321112632751, 0.6946286559104919, 0.6570456624031067, 0.6625636219978333, 0.6504597067832947, 0.5268943309783936], \"z\": [0.37768039107322693, 0.5470274090766907, 0.4038543999195099, 0.5981568098068237, 0.4520261585712433, 0.3719386160373688, 0.2915768027305603, 0.4934007525444031, 0.4090892970561981, 0.3343425393104553, 0.37480244040489197, 0.46112060546875, 0.4543844759464264, 0.5588628649711609, 0.46112287044525146, 0.4694591760635376, 0.5143859386444092, 0.5019389986991882, 0.3852665424346924, 0.5114006400108337, 0.5025769472122192, 0.4042665660381317, 0.32990336418151855, 0.46858280897140503, 0.4349750876426697, 0.2717346251010895, 0.6038594841957092, 0.2576305866241455, 0.31189680099487305, 0.40155115723609924, 0.47621971368789673, 0.41573330760002136, 0.45628848671913147, 0.42633694410324097, 0.46465376019477844, 0.5118038058280945, 0.4132426381111145, 0.4891085922718048, 0.5142849683761597, 0.40937379002571106, 0.48875513672828674, 0.3868457078933716, 0.4560900032520294, 0.4253119230270386, 0.4190407693386078, 0.47078201174736023, 0.42984798550605774, 0.4604448080062866, 0.5898393988609314, 0.24589304625988007, 0.43097639083862305, 0.4099293053150177, 0.2941378653049469, 0.4341926872730255, 0.5472217202186584, 0.522074818611145, 0.5716958045959473, 0.5560868978500366, 0.36252692341804504, 0.34821346402168274, 0.48460325598716736, 0.43915611505508423, 0.3507728576660156, 0.5042787194252014, 0.2642965018749237, 0.43616071343421936, 0.45846104621887207, 0.32415857911109924, 0.46919795870780945, 0.2601882219314575, 0.5019650459289551, 0.30325186252593994, 0.5317490100860596, 0.6283586025238037, 0.3706408739089966, 0.350784569978714, 0.3848707973957062]}, {\"customdata\": [[\"is a blood sugar level of one hundred and eleven normal ?\", \"blood sugar level high hundr\", 1], [\"when fasting what should your blood sugar be in the morning ?\", \"blood sugar level high hundr\", 1], [\"will apples raise blood glucose ?\", \"blood sugar level high hundr\", 1], [\"how do you keep your weight and blood sugar down when you have diabetes ?\", \"blood sugar level high hundr\", 1], [\"is a one hundred and thirty blood sugar level too high ?\", \"blood sugar level high hundr\", 1], [\"how do you maintain good blood sugar levels throughout the day ?\", \"blood sugar level high hundr\", 1], [\"what are common ways to lower blood sugar spikes ?\", \"blood sugar level high hundr\", 1], [\"what sugar levels are normal for someone with diabetes ?\", \"blood sugar level high hundr\", 1], [\"what controls blood sugar ?\", \"blood sugar level high hundr\", 1], [\"does exercise help lower your blood sugar level ?\", \"blood sugar level high hundr\", 1], [\"how you maintain blood sugar level if you have diabetes problem ?\", \"blood sugar level high hundr\", 1], [\"do fruits raise blood sugar levels ?\", \"blood sugar level high hundr\", 1], [\"what is the normal oil <unk> range for a one thousand , nine hundred and eighty eight <unk> ?\", \"blood sugar level high hundr\", 1], [\"how do you <unk> lower my blood sugar ?\", \"blood sugar level high hundr\", 1], [\"if blood sugar falls twenty six mg what happened to patient ?\", \"blood sugar level high hundr\", 1], [\"what are the best ways of lowering my blood sugar levels ?\", \"blood sugar level high hundr\", 1], [\"what is the disease characterized by low blood sugar level ?\", \"blood sugar level high hundr\", 1], [\"how do i find out if i have normal blood sugar levels ?\", \"blood sugar level high hundr\", 1], [\"blood sugar levels are lowered by the ?\", \"blood sugar level high hundr\", 1], [\"<unk> that increase blood sugar levels ?\", \"blood sugar level high hundr\", 1], [\"is watermelon harmful for the patients with high blood sugar levels ?\", \"blood sugar level high hundr\", 1], [\"suger level one hundred and eighty five to high ?\", \"blood sugar level high hundr\", 1], [\"why do people with diabetes have a high level of sugar in their blood ?\", \"blood sugar level high hundr\", 1], [\"why does the blood sugar levels start to fall after sixty minutes ?\", \"blood sugar level high hundr\", 1], [\"do bananas raise blood sugar level ?\", \"blood sugar level high hundr\", 1], [\"does alcohol affect blood sugar levels ?\", \"blood sugar level high hundr\", 1], [\"what do you do if your blood sugar is five hundred and sixteen ?\", \"blood sugar level high hundr\", 1], [\"will <unk> raise your blood sugar ?\", \"blood sugar level high hundr\", 1], [\"is a blood glucose level of one hundred and one too high ?\", \"blood sugar level high hundr\", 1], [\"does taking vitamin c increase your blood sugar level ?\", \"blood sugar level high hundr\", 1], [\"what if your glucose is one hundred and ninety two is that too high ?\", \"blood sugar level high hundr\", 1], [\"what is the condition of low blood sugar levels associated with diabetes called ?\", \"blood sugar level high hundr\", 1], [\"what <unk> of foods will not raise blood sugar ?\", \"blood sugar level high hundr\", 1], [\"what side effects are caused by high blood sugar levels ?\", \"blood sugar level high hundr\", 1], [\"fasting blood sugar level ninety nine is considered to be suger ?\", \"blood sugar level high hundr\", 1], [\"what do you do if your blood sugar is over four hundred and forty ?\", \"blood sugar level high hundr\", 1], [\"how do i lower my diabetic blood sugar level ?\", \"blood sugar level high hundr\", 1], [\"what happens when blood sugar stays in the three hundred to high four hundred ?\", \"blood sugar level high hundr\", 1], [\"what can you eat to lower your blood sugar quick ?\", \"blood sugar level high hundr\", 1], [\"how can people with high blood sugar treat themselves ?\", \"blood sugar level high hundr\", 1], [\"what blood sugar levels are normal ?\", \"blood sugar level high hundr\", 1], [\"what brings blood sugar down in diabetes ?\", \"blood sugar level high hundr\", 1], [\"how can i find out if i have low blood sugar ?\", \"blood sugar level high hundr\", 1], [\"can this be taken with a high blood sugar <unk> diabetes two ?\", \"blood sugar level high hundr\", 1], [\"is twenty four ml of insulin is high to <unk> ?\", \"blood sugar level high hundr\", 1], [\"do bananas increase blood sugar ?\", \"blood sugar level high hundr\", 1], [\"what else can i do to control my high blood sugar levels besides dieting ?\", \"blood sugar level high hundr\", 1], [\"is it normal to have high levels of sugar in your blood ?\", \"blood sugar level high hundr\", 1], [\"what are some proven methods of maintaining blood sugar levels ?\", \"blood sugar level high hundr\", 1], [\"what does blood sugar <unk> mean ?\", \"blood sugar level high hundr\", 1], [\"is a blood glucose level of one hundred and thirty eight too high ?\", \"blood sugar level high hundr\", 1], [\"does orange raise blood sugar ?\", \"blood sugar level high hundr\", 1], [\"what is a blood sugar crash ?\", \"blood sugar level high hundr\", 1], [\"how does blood sugar get as high as eight hundred and thirty six ?\", \"blood sugar level high hundr\", 1], [\"if your blood sugar reading is two hundred and fifty five is that high ?\", \"blood sugar level high hundr\", 1], [\"is sugar bad for your heart ?\", \"blood sugar level high hundr\", 1], [\"does blood sugar affect <unk> and learning ?\", \"blood sugar level high hundr\", 1], [\"ways to prevent high blood pressure ?\", \"blood sugar level high hundr\", 1], [\"after fasting all night , what is a normal blood sugar level in the morning ?\", \"blood sugar level high hundr\", 1], [\"does black coffee affect your blood sugar levels ?\", \"blood sugar level high hundr\", 1], [\"what does frequent blood sugar levels over one hundred and sixty after eating mean ?\", \"blood sugar level high hundr\", 1], [\"does monster drinks push up your blood sugar ?\", \"blood sugar level high hundr\", 1], [\"how do i test me blood sugar level to keep healthy ?\", \"blood sugar level high hundr\", 1], [\"why would the doctor suggest checking the patient is blood sugar levels ?\", \"blood sugar level high hundr\", 1], [\"will infection cause blood glucose levels to increase or decrease ?\", \"blood sugar level high hundr\", 1], [\"why does your blood sugar rise after eating <unk> bran cereals ?\", \"blood sugar level high hundr\", 1], [\"getting the right balance of sugar ?\", \"blood sugar level high hundr\", 1], [\"where can you stick yourself to check blood sugar levels ?\", \"blood sugar level high hundr\", 1], [\"effect of high blood sugar on body ?\", \"blood sugar level high hundr\", 1], [\"is one hundred and forty bad blood sugar reading in morning ?\", \"blood sugar level high hundr\", 1], [\"why is it dangerous if glucose level is too high ?\", \"blood sugar level high hundr\", 1], [\"is one hundred and sixty nine considered high in fasting blood sugar ?\", \"blood sugar level high hundr\", 1], [\"checking your blood sugar levels daily ?\", \"blood sugar level high hundr\", 1], [\"how do i keep my blood sugar down by myself without medical help ?\", \"blood sugar level high hundr\", 1], [\"how can you tell your blood sugar level ?\", \"blood sugar level high hundr\", 1], [\"how many g of sugar raises your blood level ?\", \"blood sugar level high hundr\", 1], [\"do people with diabetes have high blood glucose levels ?\", \"blood sugar level high hundr\", 1], [\"best food to eat when blood sugar gets low ?\", \"blood sugar level high hundr\", 1], [\"what is some information on diabetes high blood sugar ?\", \"blood sugar level high hundr\", 1], [\"what does two hundred and three as a blood sugar means ?\", \"blood sugar level high hundr\", 1], [\"what are the best fruits to bring down blood sugar levels ?\", \"blood sugar level high hundr\", 1], [\"does blood sugar rise or fall during intense exercise ?\", \"blood sugar level high hundr\", 1], [\"what are th best foods to bring down blood sugar levels ?\", \"blood sugar level high hundr\", 1], [\"does a flu increase your blood sugar ?\", \"blood sugar level high hundr\", 1], [\"what fruits can you eat if you have blood sugar problems ?\", \"blood sugar level high hundr\", 1], [\"what number is high for blood sugar ?\", \"blood sugar level high hundr\", 1], [\"is a blood sugar level of one hundred and eighty seven average dangerous in a type two diabetic ?\", \"blood sugar level high hundr\", 1], [\"how does the body respond to a increase in the blood sugar concentration ?\", \"blood sugar level high hundr\", 1], [\"what are the best drinks to lower blood sugar levels ?\", \"blood sugar level high hundr\", 1], [\"why do people with diabetes experience low energy levels ?\", \"blood sugar level high hundr\", 1], [\"were does the sugar in your blood come from ?\", \"blood sugar level high hundr\", 1], [\"what is the medical term meaning disease in which blood sugar levels are above normal ?\", \"blood sugar level high hundr\", 1], [\"how much would <unk> of carb raise your blood sugar level ?\", \"blood sugar level high hundr\", 1], [\"blood sugar levels are lowered by ?\", \"blood sugar level high hundr\", 1], [\"is a creatinine blood level of one point three five high ?\", \"blood sugar level high hundr\", 1], [\"does drinking <unk> raise your blood sugar ?\", \"blood sugar level high hundr\", 1], [\"how long does it take to see blood sugar lowering to more normal levels after diet and weight loss ?\", \"blood sugar level high hundr\", 1], [\"what increase blood sugar ?\", \"blood sugar level high hundr\", 1], [\"what should your blood sugar levels be before eating a meal ?\", \"blood sugar level high hundr\", 1], [\"what places offer advice on low blood sugar ?\", \"blood sugar level high hundr\", 1], [\"could whiskey and soft drink raise blood sugar level ?\", \"blood sugar level high hundr\", 1], [\"is one hundred and sixty blood sugar for ten year old diabetic ?\", \"blood sugar level high hundr\", 1], [\"what number is low sugar ?\", \"blood sugar level high hundr\", 1], [\"does vomiting raise blood sugar levels ?\", \"blood sugar level high hundr\", 1], [\"does <unk> raise blood sugar ?\", \"blood sugar level high hundr\", 1], [\"what foods decrease your blood sugar levels ?\", \"blood sugar level high hundr\", 1], [\"can high blood sugar make you dizzy and <unk> ?\", \"blood sugar level high hundr\", 1], [\"is carrot increase blood sugar ?\", \"blood sugar level high hundr\", 1], [\"does honey increase you sugar level ?\", \"blood sugar level high hundr\", 1], [\"what foods lower blood sugars and help lose weight ?\", \"blood sugar level high hundr\", 1], [\"would an apple raise blood sugar ?\", \"blood sugar level high hundr\", 1], [\"why would drinking molasses in the morning not help with low blood sugar ?\", \"blood sugar level high hundr\", 1], [\"is one hundred and sixty blood sugar reading after eating all right ?\", \"blood sugar level high hundr\", 1], [\"is a blood sugar level of four hundred and sixty one dangerous ?\", \"blood sugar level high hundr\", 1], [\"which cells are prone to damage from low blood sugar ?\", \"blood sugar level high hundr\", 1], [\"does <unk> raise blood sugar ?\", \"blood sugar level high hundr\", 1], [\"does eating meat raise your blood sugar ?\", \"blood sugar level high hundr\", 1], [\"what happens if blood sugar levels are not properly regulated ?\", \"blood sugar level high hundr\", 1], [\"do not <unk> your blood sugar ! ?\", \"blood sugar level high hundr\", 1], [\"does adrenaline increase blood sugar ?\", \"blood sugar level high hundr\", 1], [\"how does drinking alcohol effect blood sugar levels ?\", \"blood sugar level high hundr\", 1], [\"how can i keep my blood sugar levels low ?\", \"blood sugar level high hundr\", 1], [\"what to do when blood sugar is over eight hundred ?\", \"blood sugar level high hundr\", 1], [\"what is a sugar high ?\", \"blood sugar level high hundr\", 1], [\"is <unk> lowers the blood sugar ?\", \"blood sugar level high hundr\", 1], [\"is three hundred and seven considered a normal rate for your blood sugar ?\", \"blood sugar level high hundr\", 1], [\"what are causes of high blood sugar ?\", \"blood sugar level high hundr\", 1], [\"does am la control blood sugar ?\", \"blood sugar level high hundr\", 1], [\"how do you correct low blood sugar ?\", \"blood sugar level high hundr\", 1], [\"does <unk> raise blood sugar ?\", \"blood sugar level high hundr\", 1], [\"what type diabtes do you have when your blood sugar is high ?\", \"blood sugar level high hundr\", 1], [\"what are the blood sugar levels for diabetes ?\", \"blood sugar level high hundr\", 1], [\"does pot raise your blood sugar ?\", \"blood sugar level high hundr\", 1], [\"is five hundred and forty three a good blood sugar level ?\", \"blood sugar level high hundr\", 1], [\"what are some <unk> blood sugar testers ?\", \"blood sugar level high hundr\", 1], [\"is a blood glucose level over one thousand , two hundred dangerous ?\", \"blood sugar level high hundr\", 1], [\"do bananas raise blood sugar levels ?\", \"blood sugar level high hundr\", 1], [\"does gin and tonic affect blood sugar levels ?\", \"blood sugar level high hundr\", 1], [\"what if blood sugar is five hundred and thirty nine ?\", \"blood sugar level high hundr\", 1], [\"does eating <unk> lower your blood sugar ?\", \"blood sugar level high hundr\", 1], [\"what does it mean when your blood sugar count is two hundred and ninety seven ?\", \"blood sugar level high hundr\", 1], [\"what does two hundred and ninety seven as a blood sugar means ?\", \"blood sugar level high hundr\", 1], [\"managing high blood sugar ?\", \"blood sugar level high hundr\", 1], [\"what are the best foods to eat to lower blood sugar ?\", \"blood sugar level high hundr\", 1], [\"does eating <unk> lower blood sugar ?\", \"blood sugar level high hundr\", 1], [\"is ninety high blood sugar ?\", \"blood sugar level high hundr\", 1], [\"can barley lower blood sugar ?\", \"blood sugar level high hundr\", 1], [\"why does giving steroids increase blood sugar level ?\", \"blood sugar level high hundr\", 1], [\"why is orange juice recommended when blood sugar is low ?\", \"blood sugar level high hundr\", 1], [\"will drinking lots of water help to lower your blood sugar quickly ?\", \"blood sugar level high hundr\", 1], [\"what food can lower blood sugar ?\", \"blood sugar level high hundr\", 1], [\"why does blood sugar rise high after breakfast ?\", \"blood sugar level high hundr\", 1], [\"explain how the blood sugar gets back to normal from being low ?\", \"blood sugar level high hundr\", 1], [\"how can i maintain my blood sugar level with diabetes ?\", \"blood sugar level high hundr\", 1], [\"does an urinalysis show blood sugar levels ?\", \"blood sugar level high hundr\", 1], [\"what does post prandial blood sugar mean ?\", \"blood sugar level high hundr\", 1], [\"what foods affect an increase in sugar level ?\", \"blood sugar level high hundr\", 1], [\"what different sizes of skim board can i buy ?\", \"blood sugar level high hundr\", 1], [\"how are blood sugar levels maintained in the body ?\", \"blood sugar level high hundr\", 1], [\"if my blood sugar level in the morning before eating was four point nine is that <unk> ?\", \"blood sugar level high hundr\", 1], [\"is it better to have low or high blood sugar levels ?\", \"blood sugar level high hundr\", 1], [\"what kind of foods can you eat to keep your blood sugar stable ?\", \"blood sugar level high hundr\", 1], [\"is a fasting blood sugar of one hundred and sixteen ?\", \"blood sugar level high hundr\", 1], [\"why does drinking alcohol lower blood sugar ?\", \"blood sugar level high hundr\", 1], [\"should you change your diet to control your blood sugar levels ?\", \"blood sugar level high hundr\", 1], [\"how low can blood sugar go before is causes lost consciousness ?\", \"blood sugar level high hundr\", 1], [\"will antibiotic affect blood sugar ?\", \"blood sugar level high hundr\", 1], [\"what do the blood sugar levels read after you have eaten ?\", \"blood sugar level high hundr\", 1], [\"is one hundred and thirty nine a high sugar reading ?\", \"blood sugar level high hundr\", 1], [\"is there any way to monitor blood sugar levels without using a needle to draw blood ?\", \"blood sugar level high hundr\", 1], [\"the glycemic index predicts the way certain foods effect ?\", \"blood sugar level high hundr\", 1], [\"is a high level of a1c blood sugar bad ?\", \"blood sugar level high hundr\", 1], [\"what will happen to pregnant having increase sugar level in blood ?\", \"blood sugar level high hundr\", 1], [\"is blood sugar of one hundred and twelve high ?\", \"blood sugar level high hundr\", 1], [\"does glycogenesis lower sugar in blood ?\", \"blood sugar level high hundr\", 1], [\"what can i do to lower my high blood sugar count ?\", \"blood sugar level high hundr\", 1], [\"can <unk> blood improve blood sugar level ?\", \"blood sugar level high hundr\", 1], [\"does cocaine affect blood sugar ?\", \"blood sugar level high hundr\", 1], [\"what can you eat that will not raise blood sugar ?\", \"blood sugar level high hundr\", 1], [\"how long does it take for <unk> to react to high blood sugars ?\", \"blood sugar level high hundr\", 1], [\"high levels of <unk> in diabetes ?\", \"blood sugar level high hundr\", 1], [\"what fruit will manage blood sugar level ?\", \"blood sugar level high hundr\", 1], [\"would looking at blood sugar levels be part of diet ?\", \"blood sugar level high hundr\", 1], [\"if a person has blood sugar of six point two after eating is he called a diabetic ?\", \"blood sugar level high hundr\", 1], [\"will fried shrimp rise blood sugar ?\", \"blood sugar level high hundr\", 1]], \"hovertemplate\": \"summary=%{customdata[1]}<br>pc_1=%{x}<br>pc_2=%{y}<br>pc_3=%{z}<br>question=%{customdata[0]}<br>label=%{customdata[2]}<extra></extra>\", \"legendgroup\": \"blood sugar level high hundr\", \"marker\": {\"color\": \"#19d3f3\", \"size\": 8, \"symbol\": \"circle\"}, \"mode\": \"markers\", \"name\": \"blood sugar level high hundr\", \"scene\": \"scene\", \"showlegend\": true, \"type\": \"scatter3d\", \"x\": [-0.04524688422679901, -0.1079450249671936, -0.3838856518268585, -0.06361018866300583, -0.06167798116803169, -0.050476957112550735, -0.04437839239835739, 0.017476961016654968, -0.05751444026827812, -0.06111488118767738, 0.0018791737966239452, -0.2931772768497467, -0.07112197577953339, -0.07438439875841141, -0.13728170096874237, -0.20752565562725067, 0.10665106773376465, -0.05160658806562424, -0.06929206848144531, -0.13085386157035828, -0.07517582923173904, -0.05673070624470711, -0.03583325818181038, -0.17281727492809296, -0.2915702164173126, -0.3265111744403839, -0.20905879139900208, -0.2776332199573517, 0.0019657621160149574, -0.13983888924121857, -0.02491922676563263, 0.0791325718164444, -0.3187163174152374, -0.07253753393888474, -0.19549797475337982, -0.22558057308197021, -0.07340236753225327, -0.10648996382951736, -0.1554948091506958, -0.046665459871292114, 0.06422992050647736, -0.13855430483818054, -0.08424904197454453, -0.18732202053070068, 0.05676073953509331, -0.2718237042427063, -0.03976694867014885, -0.005841018166393042, 0.016767291352152824, -0.17094536125659943, -0.0027550801169127226, -0.27414730191230774, -0.1370091736316681, -0.1273512840270996, -0.10893970727920532, -0.2162647694349289, -0.15091179311275482, 0.013196754269301891, -0.14497341215610504, -0.2609656751155853, -0.1762065589427948, -0.22044701874256134, -0.006399845704436302, 0.02724446915090084, -0.06658121198415756, -0.25452837347984314, -0.18942783772945404, 0.06911943852901459, -0.12620435655117035, -0.11873028427362442, 0.018856240436434746, -0.1519174873828888, 0.09127835184335709, -0.026069026440382004, -0.00043991999700665474, -0.14625604450702667, 0.10316362231969833, -0.25191792845726013, 0.019933480769395828, -0.19134914875030518, -0.23626743257045746, -0.18016956746578217, -0.2653372883796692, -0.32955417037010193, -0.35754522681236267, -0.056515034288167953, -0.012681465595960617, -0.13020725548267365, -0.17611433565616608, -0.042856402695178986, -0.20927093923091888, 0.0427568294107914, -0.1436133235692978, -0.057322729378938675, 0.0368930958211422, -0.25054824352264404, -0.04461578279733658, -0.13233168423175812, -0.1860845386981964, -0.14906002581119537, -0.3119235038757324, -0.15502431988716125, -0.06345556676387787, -0.10824783146381378, -0.15059198439121246, -0.19827032089233398, -0.1584174633026123, -0.3071081340312958, -0.3104851543903351, -0.14589272439479828, -0.308886855840683, -0.25839945673942566, -0.16804809868335724, -0.04420081898570061, -0.2381109744310379, -0.324985533952713, -0.23675446212291718, 0.12132217735052109, -0.2692132890224457, -0.16298209130764008, -0.3252162039279938, -0.05022784695029259, -0.1204635351896286, -0.10316592454910278, -0.21435831487178802, -0.06752253323793411, -0.10318554192781448, -0.08923561871051788, -0.08557303994894028, -0.16473452746868134, -0.10314159095287323, 0.017114169895648956, -0.3451479375362396, -0.08286264538764954, 0.02914470247924328, 0.004509184509515762, -0.29198992252349854, -0.28676649928092957, -0.13677620887756348, -0.1942821443080902, -0.18563014268875122, -0.1670316904783249, -0.1701996773481369, -0.22677120566368103, -0.19391974806785583, -0.09104088693857193, -0.20291028916835785, -0.13882099092006683, -0.2658367455005646, -0.1328914612531662, -0.17930744588375092, -0.2342500239610672, -0.16841813921928406, 0.0077401516027748585, -0.08805421739816666, -0.19164633750915527, -0.23439708352088928, -0.16240406036376953, 0.08454064279794693, -0.1675306111574173, -0.043889615684747696, -0.2073802798986435, -0.16470970213413239, -0.3522312641143799, -0.04309595376253128, -0.23571528494358063, -0.2450193166732788, -0.14880622923374176, -0.08950119465589523, 0.05816264450550079, -0.20503690838813782, -0.039453014731407166, -0.11338527500629425, -0.09729401022195816, -0.21109957993030548, -0.09126095473766327, -0.016702095046639442, -0.2842766046524048, -0.36149662733078003, -0.1819770634174347, 0.008998307399451733, -0.23699820041656494, -0.0847206860780716, -0.22380861639976501, -0.3264261782169342], \"y\": [-0.745324432849884, -0.5700792670249939, -0.5458258986473083, -0.5388117432594299, -0.6997198462486267, -0.6421113610267639, -0.5672732591629028, -0.613867461681366, -0.5029716491699219, -0.5865135788917542, -0.6019584536552429, -0.5972539186477661, -0.8214560747146606, -0.7170771956443787, -0.8737368583679199, -0.7846966981887817, -0.6049133539199829, -0.6845790147781372, -0.5451668500900269, -0.4948285222053528, -0.43183597922325134, -0.7357295751571655, -0.6305621266365051, -0.5775230526924133, -0.6648362874984741, -0.4323583245277405, -0.7863203287124634, -0.5748715400695801, -0.6560357809066772, -0.4177246689796448, -0.6284217238426208, -0.5944883227348328, -0.689344048500061, -0.6251833438873291, -0.691361129283905, -0.7285963296890259, -0.7565686106681824, -0.8010379076004028, -0.611670196056366, -0.4814910590648651, -0.657010018825531, -0.6187045574188232, -0.6780754923820496, -0.371781587600708, -0.7421161532402039, -0.5277711153030396, -0.5804346203804016, -0.6625089645385742, -0.5495163798332214, -0.5851708054542542, -0.6890584230422974, -0.6302578449249268, -0.7633839845657349, -0.737693190574646, -0.695408821105957, -0.5406911969184875, -0.4863542914390564, -0.5191797614097595, -0.544956386089325, -0.4815017282962799, -0.6373409628868103, -0.5703577995300293, -0.6517490148544312, -0.6872515678405762, -0.3891310691833496, -0.542280912399292, -0.627313494682312, -0.6427120566368103, -0.6701387763023376, -0.6470107436180115, -0.598790168762207, -0.7049452066421509, -0.656955361366272, -0.6161693930625916, -0.7612743973731995, -0.6636557579040527, -0.6018425822257996, -0.5596648454666138, -0.629355788230896, -0.809360682964325, -0.7478117942810059, -0.5531134605407715, -0.7442029714584351, -0.544409990310669, -0.567866325378418, -0.6663090586662292, -0.7568320631980896, -0.5591603517532349, -0.7136409878730774, -0.6489478349685669, -0.474506676197052, -0.6458178162574768, -0.664138674736023, -0.514621376991272, -0.686267077922821, -0.54535311460495, -0.45342543721199036, -0.5461509823799133, -0.5343164801597595, -0.7141968011856079, -0.4127247631549835, -0.782339334487915, -0.6114844083786011, -0.42626774311065674, -0.46244385838508606, -0.4989062249660492, -0.40631288290023804, -0.5207192301750183, -0.476671427488327, -0.574259340763092, -0.5737172365188599, -0.3608877956867218, -0.6353304386138916, -0.7491186261177063, -0.5084853768348694, -0.6461824178695679, -0.6131440997123718, -0.6829932332038879, -0.5661817193031311, -0.4661775529384613, -0.3918541967868805, -0.6477125883102417, -0.7241641283035278, -0.6352221965789795, -0.42685404419898987, -0.813306450843811, -0.6122397780418396, -0.48451152443885803, -0.5250154733657837, -0.48818203806877136, -0.568423330783844, -0.5815504789352417, -0.6542248725891113, -0.7536048293113708, -0.5255618095397949, -0.687404215335846, -0.637733519077301, -0.442370742559433, -0.8229953646659851, -0.5926510095596313, -0.7343037128448486, -0.7906158566474915, -0.6794019341468811, -0.6676327586174011, -0.5376080870628357, -0.6901348829269409, -0.4933311343193054, -0.44394099712371826, -0.695330798625946, -0.618522584438324, -0.6669974327087402, -0.6569456458091736, -0.5703961253166199, -0.6238046288490295, -0.39308783411979675, -0.6225724220275879, -0.46658462285995483, -0.7148627638816833, -0.6859874129295349, -0.5735727548599243, -0.6743314862251282, -0.6112817525863647, -0.657127857208252, -0.4063652753829956, -0.537469208240509, -0.6059051156044006, -0.39852452278137207, -0.5175659656524658, -0.6871836185455322, -0.5874230861663818, -0.4443887770175934, -0.7307983040809631, -0.3751817047595978, -0.6966565847396851, -0.4753868281841278, -0.6049157381057739, -0.6939318776130676, -0.4346041977405548, -0.5728437900543213, -0.696840763092041, -0.7109155654907227, -0.7106419205665588, -0.5049689412117004, -0.5606114864349365, -0.6299885511398315], \"z\": [-0.35171979665756226, -0.29770389199256897, 0.12904977798461914, 0.33556705713272095, -0.31589075922966003, 0.15647847950458527, -0.014863057062029839, -0.033937253057956696, -0.11005252599716187, 0.16866274178028107, 0.21475514769554138, 0.18954166769981384, -0.39826399087905884, 0.18538108468055725, -0.2514968812465668, 0.26915550231933594, 0.08317455649375916, 0.2622143030166626, 0.08606996387243271, 0.09338916093111038, 0.09612779319286346, -0.42849382758140564, -0.09127530455589294, -0.2596319615840912, 0.14259684085845947, 0.0569051131606102, -0.2357017546892166, 0.02768082357943058, -0.32142332196235657, 0.13461442291736603, -0.3533032238483429, 0.0462847501039505, 0.1929319053888321, 0.03560453653335571, -0.39550551772117615, -0.26228541135787964, 0.21844908595085144, -0.22156283259391785, 0.24008022248744965, -0.012125249020755291, -0.02648134157061577, -0.010266538709402084, 0.2875654995441437, -0.07852234691381454, -0.27987030148506165, 0.14780724048614502, 0.21753714978694916, -0.06860412657260895, 0.057908643037080765, -0.059247806668281555, -0.3333204984664917, 0.035454511642456055, -0.1263456791639328, -0.2575576901435852, -0.295687735080719, -0.00046263367403298616, -0.10595694184303284, 0.1862729787826538, -0.32347750663757324, 0.04800334945321083, -0.2774924039840698, 0.0846228078007698, 0.2387235313653946, 0.20833607017993927, -0.03095882572233677, 0.22376520931720734, 0.0947403833270073, 0.29982203245162964, -0.08329378813505173, -0.31651225686073303, -0.2676917314529419, -0.3628855049610138, 0.24631021916866302, 0.2968269884586334, 0.2985832393169403, 0.11489293724298477, -0.051212988793849945, 0.28086039423942566, 0.05300483852624893, -0.3001066744327545, 0.27048006653785706, -0.21502640843391418, 0.28436800837516785, 0.02035757154226303, 0.22047285735607147, -0.18498916923999786, -0.3332778215408325, 0.03446563705801964, 0.28388237953186035, 0.1021929606795311, -0.060455571860075, -0.10972071439027786, 0.15250065922737122, 0.08112987130880356, -0.3612271845340729, 0.035575419664382935, 0.2810000479221344, -0.019394148141145706, 0.2703515887260437, 0.3319835066795349, -0.04528864473104477, -0.38752487301826477, -0.1925521045923233, -0.03977085277438164, -0.04368997737765312, 0.1868189573287964, -0.06570054590702057, 0.13786733150482178, 0.16974490880966187, 0.1660262793302536, 0.09294285625219345, -0.03106394037604332, -0.3272169828414917, -0.28825971484184265, -0.10802273452281952, 0.05126242712140083, 0.1805531233549118, -0.013826893642544746, -0.036260247230529785, 0.021556448191404343, 0.012091116048395634, 0.19766178727149963, -0.16001835465431213, -0.16079260408878326, 0.030918153002858162, -0.3574860692024231, -0.07786276191473007, -0.1249290183186531, -0.04459582269191742, -0.03275647759437561, -0.09747455269098282, 0.006784871220588684, 0.09408511966466904, -0.3203873932361603, -0.01656615547835827, -0.27844753861427307, 0.16253463923931122, -0.018586980178952217, -0.2665291130542755, 0.16336308419704437, -0.2742712199687958, -0.2908388674259186, 0.0026936298236250877, 0.2904279828071594, 0.14930225908756256, -0.17036007344722748, 0.11373474448919296, 0.08542052656412125, 0.04799492284655571, 0.2958093285560608, 0.2590174674987793, -0.01224127784371376, -0.13073456287384033, 0.18118005990982056, -0.11811674386262894, -0.058728694915771484, 0.1999351978302002, 0.18990851938724518, 0.026453634724020958, -0.3177691102027893, -0.025821145623922348, 0.25209492444992065, -0.38241496682167053, 0.026697218418121338, 0.24853210151195526, -0.14724384248256683, 0.09993448853492737, 0.2546004056930542, -0.41424310207366943, 0.2908976674079895, 0.2349456399679184, -0.12364926934242249, 0.008165175095200539, -0.2399733066558838, 0.03546727076172829, 0.2210174947977066, 0.17444384098052979, 0.07073867321014404, 0.1752905249595642, -0.12018337100744247, -0.05097382515668869, 0.20466920733451843, 0.1727302074432373, -0.33835428953170776, 0.22405409812927246]}, {\"customdata\": [[\"what cookbooks have good diabetic cookie recipes ?\", \"recip good dessert cooki book\", 25], [\"where are some simple recipes found for a diabetic menu ?\", \"recip good dessert cooki book\", 25], [\"what are some names of some diabetic cook books ?\", \"recip good dessert cooki book\", 25], [\"what are healthy recipes for people with diabetic menus ?\", \"recip good dessert cooki book\", 25], [\"are there good diabetic cake recipes ?\", \"recip good dessert cooki book\", 25], [\"are there any good diabetic recipes books online ?\", \"recip good dessert cooki book\", 25], [\"where are some sample menus that have diabetic recipes ?\", \"recip good dessert cooki book\", 25], [\"what are some good diabetic recipes ?\", \"recip good dessert cooki book\", 25], [\"are there any cook books with suggestions for tasty diabetic foods ?\", \"recip good dessert cooki book\", 25], [\"what are some good dessert recipes for diabetics ?\", \"recip good dessert cooki book\", 25], [\"what are some good diabetic dessert recipes ?\", \"recip good dessert cooki book\", 25], [\"what are typical ingredients in healthy easy recipes for diabetics ?\", \"recip good dessert cooki book\", 25], [\"what are some healthy recipes for the diabetic consumer ?\", \"recip good dessert cooki book\", 25], [\"what are some good diabetic candy recipes ?\", \"recip good dessert cooki book\", 25], [\"what are some low sugar dessert recipes for diabetics ?\", \"recip good dessert cooki book\", 25], [\"what recipes are good for type two diabetes ?\", \"recip good dessert cooki book\", 25], [\"what are some really good <unk> recipes for deserts ?\", \"recip good dessert cooki book\", 25], [\"does anyone know any diabetic snack recipes ?\", \"recip good dessert cooki book\", 25], [\"what are some diabetic desserts ?\", \"recip good dessert cooki book\", 25], [\"what are some good ideas for diabetic meals ?\", \"recip good dessert cooki book\", 25], [\"what dessert recipes are safe for diabetics ?\", \"recip good dessert cooki book\", 25], [\"what are some christmas cookie recipes for diabetics ?\", \"recip good dessert cooki book\", 25], [\"what do i have to know about desserts for diabetics ?\", \"recip good dessert cooki book\", 25], [\"what are some good thanksgiving recipes ?\", \"recip good dessert cooki book\", 25], [\"what are some good diabetic cake recipes ?\", \"recip good dessert cooki book\", 25], [\"what are some good recipes for diabetics to have ?\", \"recip good dessert cooki book\", 25], [\"are there any recipes in diabetic cookbooks for cookies ?\", \"recip good dessert cooki book\", 25], [\"what are good dessert recipe ideas for thanksgiving ?\", \"recip good dessert cooki book\", 25], [\"what are recent books with tasty diabetic food recipes ?\", \"recip good dessert cooki book\", 25], [\"what are some sugar substitutes used in diabetic recipes ?\", \"recip good dessert cooki book\", 25], [\"what are some good tasting diabetic recipes ?\", \"recip good dessert cooki book\", 25], [\"what vegetables are best for a diabetic ?\", \"recip good dessert cooki book\", 25], [\"what are the most used foods in diabetic recipes ?\", \"recip good dessert cooki book\", 25], [\"what are some good diabetic cheesecake recipes ?\", \"recip good dessert cooki book\", 25], [\"are there any diet recipes for diabetics ?\", \"recip good dessert cooki book\", 25], [\"what are some free cookie recipes for diabetics ?\", \"recip good dessert cooki book\", 25], [\"where can a diabetic find sugar free dessert recipes ?\", \"recip good dessert cooki book\", 25], [\"what are the nutritious recipes for diabetic people ?\", \"recip good dessert cooki book\", 25], [\"are there <unk> companies for diabetic meals in <unk> ?\", \"recip good dessert cooki book\", 25], [\"what are some simple dessert recipes for diabetics ?\", \"recip good dessert cooki book\", 25], [\"how are sugar subsitutes used in diabetic dessert recipes ?\", \"recip good dessert cooki book\", 25]], \"hovertemplate\": \"summary=%{customdata[1]}<br>pc_1=%{x}<br>pc_2=%{y}<br>pc_3=%{z}<br>question=%{customdata[0]}<br>label=%{customdata[2]}<extra></extra>\", \"legendgroup\": \"recip good dessert cooki book\", \"marker\": {\"color\": \"#FF6692\", \"size\": 8, \"symbol\": \"circle\"}, \"mode\": \"markers\", \"name\": \"recip good dessert cooki book\", \"scene\": \"scene\", \"showlegend\": true, \"type\": \"scatter3d\", \"x\": [-0.9206510782241821, -0.8037003874778748, -0.7345102429389954, -0.771002471446991, -0.8812547326087952, -0.8675748705863953, -0.8024914264678955, -0.888935387134552, -0.8199299573898315, -0.8401551246643066, -0.8465490341186523, -0.8081567883491516, -0.7504674792289734, -0.7882453799247742, -0.8666868209838867, -0.7669388055801392, -0.7569242715835571, -0.9409502148628235, -0.8086671233177185, -0.7384024858474731, -0.8422242403030396, -0.915973424911499, -0.708071768283844, -0.811110258102417, -0.8574689626693726, -0.7380604147911072, -0.8315737247467041, -0.832068145275116, -0.774444580078125, -0.7772101759910583, -0.8525546193122864, -0.7091240882873535, -0.8222298622131348, -0.8754810094833374, -0.8274470567703247, -0.8946297764778137, -0.939525306224823, -0.7809233665466309, -0.6976817846298218, -0.8622272610664368, -0.8920198678970337], \"y\": [-0.02622945047914982, 0.1792016625404358, 0.0506921224296093, 0.0075074913911521435, 0.02031346969306469, 0.10417220741510391, 0.1412792056798935, -0.10768871754407883, 0.08288084715604782, -0.008839203044772148, -0.02944403700530529, 0.05906195193529129, 0.05962050333619118, 0.03211160749197006, 0.02736395224928856, 0.08829163014888763, -0.016689708456397057, 0.09003234654664993, -0.03872894495725632, 0.02502596378326416, 0.004009953234344721, 0.00038497435161843896, -0.0625632032752037, -0.09372168779373169, 0.0020465587731450796, -0.017628006637096405, 0.10410220921039581, -0.06857717782258987, 0.07140838354825974, 0.00881710834801197, -0.10132268816232681, -0.019873274490237236, 0.04047355428338051, -0.05430128052830696, 0.09817732870578766, 0.016132552176713943, 0.16314074397087097, -0.022043200209736824, 0.05783293396234512, -0.01615159772336483, 0.04611482843756676], \"z\": [0.24280524253845215, 0.25494152307510376, 0.14903634786605835, 0.3263023793697357, 0.17856012284755707, 0.1766466498374939, 0.2678186893463135, 0.19900836050510406, 0.15285134315490723, 0.29986846446990967, 0.23346206545829773, 0.3202531933784485, 0.238061785697937, 0.17865537106990814, 0.30045032501220703, 0.37744730710983276, 0.24510575830936432, 0.13842186331748962, 0.18583354353904724, 0.2721671760082245, 0.37276172637939453, 0.33140429854393005, 0.17906703054904938, 0.26494908332824707, 0.20447072386741638, 0.18995307385921478, 0.2177066206932068, 0.2966248393058777, 0.18963202834129333, 0.1268089860677719, 0.208180233836174, 0.31484124064445496, 0.23557692766189575, 0.210067018866539, 0.3612447679042816, 0.36533549427986145, 0.21114017069339752, 0.3570375144481659, 0.2624962627887726, 0.3385506570339203, 0.26282504200935364]}, {\"customdata\": [[\"what is the average blood glucose level ?\", \"glucos level blood normal rang\", 26], [\"in homeostasis what is blood glucose range between ?\", \"glucos level blood normal rang\", 26], [\"what is the lowest fasting glucose level for a diagnosis of diabetes ?\", \"glucos level blood normal rang\", 26], [\"what type of carbohydrates helps maintains normal glucose levels ?\", \"glucos level blood normal rang\", 26], [\"what does fasting glucose levels mean ?\", \"glucos level blood normal rang\", 26], [\"why is glucose given to a <unk> person ?\", \"glucos level blood normal rang\", 26], [\"do you know the amounts of normal glucose levels ?\", \"glucos level blood normal rang\", 26], [\"what happens if your blood glucose level increases ?\", \"glucos level blood normal rang\", 26], [\"what food is good to maintain a normal glucose level ?\", \"glucos level blood normal rang\", 26], [\"what amount of blood glucose level is normal ?\", \"glucos level blood normal rang\", 26], [\"what glucose levels are considered to be healthy ?\", \"glucos level blood normal rang\", 26], [\"why do you have to keep the blood glucose level within the normal cycle ?\", \"glucos level blood normal rang\", 26], [\"what should my blood glucose level be to be considered normal ?\", \"glucos level blood normal rang\", 26], [\"what is normal glucose levels for diabetic ?\", \"glucos level blood normal rang\", 26], [\"what are normal blood glucose levels for an adult ?\", \"glucos level blood normal rang\", 26], [\"how high is the normal blood glucose concentration of a human throughout the day ?\", \"glucos level blood normal rang\", 26], [\"is seventy a good blood glucose level ?\", \"glucos level blood normal rang\", 26], [\"what will you expect to happen if glucose levels in the blood are low ?\", \"glucos level blood normal rang\", 26], [\"the normal value of glucose per one hundred ml of blood is ?\", \"glucos level blood normal rang\", 26], [\"what is the normal postprandial blood glucose for a human ?\", \"glucos level blood normal rang\", 26], [\"-- -- <unk> the most appropriate <unk> to represent data on blood glucose level of one hundred patient ?\", \"glucos level blood normal rang\", 26], [\"what should a person is blood glucose levels be ?\", \"glucos level blood normal rang\", 26], [\"what organ monitors blood glucose levels ?\", \"glucos level blood normal rang\", 26], [\"what is the normal range of blood glucose ?\", \"glucos level blood normal rang\", 26], [\"what is a normal blood level ?\", \"glucos level blood normal rang\", 26], [\"what glucose level is high for glucosuria ?\", \"glucos level blood normal rang\", 26], [\"is it dangerous to have low glucose levels ?\", \"glucos level blood normal rang\", 26], [\"what is a disease in which blood glucose levels are above normal ?\", \"glucos level blood normal rang\", 26], [\"why is it important it to keep the blood glucose level within the normal range ?\", \"glucos level blood normal rang\", 26], [\"what is a normal glucose level ?\", \"glucos level blood normal rang\", 26], [\"what is the highest recorded blood glucose level ?\", \"glucos level blood normal rang\", 26], [\"glucose level one hundred and eleven ?\", \"glucos level blood normal rang\", 26], [\"normal blood glucose level ?\", \"glucos level blood normal rang\", 26], [\"what is the normal blood glucose levels for a healthy person ?\", \"glucos level blood normal rang\", 26], [\"what is the range of glucose in <unk> ?\", \"glucos level blood normal rang\", 26], [\"what is a normal blood glucose reading ?\", \"glucos level blood normal rang\", 26]], \"hovertemplate\": \"summary=%{customdata[1]}<br>pc_1=%{x}<br>pc_2=%{y}<br>pc_3=%{z}<br>question=%{customdata[0]}<br>label=%{customdata[2]}<extra></extra>\", \"legendgroup\": \"glucos level blood normal rang\", \"marker\": {\"color\": \"#B6E880\", \"size\": 8, \"symbol\": \"circle\"}, \"mode\": \"markers\", \"name\": \"glucos level blood normal rang\", \"scene\": \"scene\", \"showlegend\": true, \"type\": \"scatter3d\", \"x\": [0.2718108594417572, 0.21309322118759155, 0.08280343562364578, 0.10049691051244736, 0.14971096813678741, 0.20613957941532135, 0.192569300532341, 0.21954186260700226, 0.08912413567304611, 0.19460323452949524, 0.11022322624921799, 0.15907353162765503, 0.1045166626572609, 0.14574319124221802, 0.12544837594032288, 0.07959610223770142, 0.10274971276521683, 0.1887054294347763, 0.2260192632675171, 0.17966099083423615, 0.03797054663300514, 0.18307000398635864, 0.3220744729042053, 0.22491808235645294, 0.10977642983198166, 0.147136852145195, 0.09267373383045197, 0.1119363009929657, 0.1544153094291687, 0.13211581110954285, 0.2546481788158417, -0.00019692709611263126, 0.1587579995393753, 0.1483958214521408, 0.22897842526435852, 0.13071908056735992], \"y\": [-0.6161997318267822, -0.5178870558738708, -0.4667471945285797, -0.5250160694122314, -0.4642166197299957, -0.7308258414268494, -0.5835081338882446, -0.6989960670471191, -0.5837645530700684, -0.5820311307907104, -0.6023411750793457, -0.5729100704193115, -0.613558292388916, -0.5525144934654236, -0.65932697057724, -0.5620107650756836, -0.6435677409172058, -0.6798382997512817, -0.5511046051979065, -0.6501913666725159, -0.5058364272117615, -0.7036142945289612, -0.5434392094612122, -0.5935215353965759, -0.6012331247329712, -0.5991197824478149, -0.5544231534004211, -0.5603368282318115, -0.5440775752067566, -0.5951229929924011, -0.6261019706726074, -0.5216628313064575, -0.6024008989334106, -0.6657849550247192, -0.5502442717552185, -0.6515920162200928], \"z\": [-0.3034672439098358, -0.4611727297306061, -0.33319318294525146, -0.45198145508766174, -0.3965015411376953, -0.3823789358139038, -0.2760610282421112, -0.28212422132492065, -0.4479183852672577, -0.34456688165664673, -0.2004004269838333, -0.3010951280593872, -0.2645139694213867, -0.4251830577850342, -0.2954525649547577, -0.3474714159965515, -0.3694416284561157, -0.23413217067718506, -0.35823506116867065, -0.40886813402175903, -0.30039122700691223, -0.3401462733745575, -0.3397913873195648, -0.4366476237773895, -0.3211570680141449, -0.4861035645008087, -0.2142971158027649, -0.2972123622894287, -0.3405613899230957, -0.4368637204170227, -0.34168970584869385, -0.36453986167907715, -0.36343806982040405, -0.3348674476146698, -0.47815704345703125, -0.43510690331459045]}, {\"customdata\": [[\"what is the symptoms of diabetics ?\", \"symptom sign common mellitu type\", 2], [\"what are the common diabetes symptoms ?\", \"symptom sign common mellitu type\", 2], [\"what eye problems are symptoms of diabetes ?\", \"symptom sign common mellitu type\", 2], [\"polydipsia and polyuria are symptoms of ?\", \"symptom sign common mellitu type\", 2], [\"what is the metabolic abnormality that <unk> the characteristic symptoms of diabetes mellitus ?\", \"symptom sign common mellitu type\", 2], [\"what are the symptoms of type one diabetes ?\", \"symptom sign common mellitu type\", 2], [\"what are the symptoms and causes of diabetes ?\", \"symptom sign common mellitu type\", 2], [\"what are symptoms of diebetes ?\", \"symptom sign common mellitu type\", 2], [\"what are some signs and symptoms for diabetes ?\", \"symptom sign common mellitu type\", 2], [\"what are the symptoms of diabetes in a dog ?\", \"symptom sign common mellitu type\", 2], [\"what are the symptoms of diabetes mellitus ?\", \"symptom sign common mellitu type\", 2], [\"what are the early signs of diabetes that people tend to miss ?\", \"symptom sign common mellitu type\", 2], [\"what are signs and symptoms for diabetic coma ?\", \"symptom sign common mellitu type\", 2], [\"common diabetes signs ?\", \"symptom sign common mellitu type\", 2], [\"what are some type two diabetes symptoms ?\", \"symptom sign common mellitu type\", 2], [\"what are five symptoms of type two diabetes ?\", \"symptom sign common mellitu type\", 2], [\"what are uncommon symptoms of diabetes ?\", \"symptom sign common mellitu type\", 2], [\"how is a diagnosis of diabetes mellitus confirmed ?\", \"symptom sign common mellitu type\", 2], [\"why do i have signs and symptoms of diabetes mellitus but my diagnostic tests are negative how can i figure out what is wrong ?\", \"symptom sign common mellitu type\", 2], [\"what are two symptoms diabetes mellitus and diabetes insipidus have in common ?\", \"symptom sign common mellitu type\", 2], [\"gestational diabetes symptoms ?\", \"symptom sign common mellitu type\", 2], [\"symptoms of diabetes mellitus ?\", \"symptom sign common mellitu type\", 2], [\"diabetes symptoms ?\", \"symptom sign common mellitu type\", 2], [\"what symptoms does someone with high blood sugar have ?\", \"symptom sign common mellitu type\", 2], [\"what are the signs of pre diabetes ?\", \"symptom sign common mellitu type\", 2], [\"what are the signs of diabetes for type one and two ?\", \"symptom sign common mellitu type\", 2], [\"what are the symptoms of high glucose levels ?\", \"symptom sign common mellitu type\", 2], [\"what are the first signs of childhood diabetes ?\", \"symptom sign common mellitu type\", 2], [\"what are the symptoms of having a hypo when you have got type one diabetes ?\", \"symptom sign common mellitu type\", 2], [\"what are signs of <unk> ?\", \"symptom sign common mellitu type\", 2], [\"what are some common autoimmune disorders and their symptoms ?\", \"symptom sign common mellitu type\", 2], [\"what are the symptoms of hyperglycemia ?\", \"symptom sign common mellitu type\", 2], [\"what are the most <unk> signs of diabetes ?\", \"symptom sign common mellitu type\", 2], [\"what symptoms will i feel for type two diabetes ?\", \"symptom sign common mellitu type\", 2], [\"how severe do diabetes symptoms have to be before you have ?\", \"symptom sign common mellitu type\", 2], [\"what are the symptoms of diabetes in children ?\", \"symptom sign common mellitu type\", 2], [\"what symptoms do horses have with diabetes ?\", \"symptom sign common mellitu type\", 2], [\"what are the symptoms of high blood sugar ?\", \"symptom sign common mellitu type\", 2], [\"what are the different signs to look if you think you may have diabetes ?\", \"symptom sign common mellitu type\", 2], [\"what are classic symptoms of diabetes ?\", \"symptom sign common mellitu type\", 2], [\"what are some of the common diabetic symptoms ?\", \"symptom sign common mellitu type\", 2], [\"common diabetes symptoms ?\", \"symptom sign common mellitu type\", 2], [\"what are common diabetes symptoms in children ?\", \"symptom sign common mellitu type\", 2], [\"what are symptoms of diabetes mellitus ?\", \"symptom sign common mellitu type\", 2], [\"what are some signs of low blood sugar ?\", \"symptom sign common mellitu type\", 2], [\"what are some symptoms of type two diabetes ?\", \"symptom sign common mellitu type\", 2], [\"is nausea and <unk> and back pain symptoms of diabetes ?\", \"symptom sign common mellitu type\", 2], [\"what could be the symptoms of diabetes ?\", \"symptom sign common mellitu type\", 2], [\"what is the most common sign of diabetes ?\", \"symptom sign common mellitu type\", 2], [\"what are the symptoms of mild insulin resistance ?\", \"symptom sign common mellitu type\", 2], [\"can diabetes be detected before the symptoms appear diabetes mellitus ?\", \"symptom sign common mellitu type\", 2], [\"what are some of the most obvious high blood sugar symptoms ?\", \"symptom sign common mellitu type\", 2], [\"what are some signs that a person is suffering from diabetes ?\", \"symptom sign common mellitu type\", 2], [\"what are early signs of diabetes in children ?\", \"symptom sign common mellitu type\", 2], [\"polyuria is a common symptom of diabetes mellitus ?\", \"symptom sign common mellitu type\", 2], [\"does diabetes symptoms come on suddenly ?\", \"symptom sign common mellitu type\", 2], [\"when does a patient with diabetes insipidus begin to suffer symptoms of dehydration ?\", \"symptom sign common mellitu type\", 2], [\"what are the common signs of diabetes ?\", \"symptom sign common mellitu type\", 2], [\"what are the signs and symptoms of type one diabetes ?\", \"symptom sign common mellitu type\", 2], [\"are <unk> cravings a sign of diabetes ?\", \"symptom sign common mellitu type\", 2], [\"what other symptoms are their of diabetes <unk> rise of blood sugar ?\", \"symptom sign common mellitu type\", 2], [\"what are the cardinal symptoms of diabetes <unk> and provide the <unk> for the occurrence of each symptom ?\", \"symptom sign common mellitu type\", 2], [\"what are the symptoms of a sugar rush ?\", \"symptom sign common mellitu type\", 2], [\"what age do the symptoms of diabetes occur ?\", \"symptom sign common mellitu type\", 2], [\"what are the symptoms of high blood sugar in a pregnant woman ?\", \"symptom sign common mellitu type\", 2]], \"hovertemplate\": \"summary=%{customdata[1]}<br>pc_1=%{x}<br>pc_2=%{y}<br>pc_3=%{z}<br>question=%{customdata[0]}<br>label=%{customdata[2]}<extra></extra>\", \"legendgroup\": \"symptom sign common mellitu type\", \"marker\": {\"color\": \"#FF97FF\", \"size\": 8, \"symbol\": \"circle\"}, \"mode\": \"markers\", \"name\": \"symptom sign common mellitu type\", \"scene\": \"scene\", \"showlegend\": true, \"type\": \"scatter3d\", \"x\": [0.8221064805984497, 0.8385019302368164, 0.8116065263748169, 0.8738812804222107, 0.7617711424827576, 0.7914685606956482, 0.8277937173843384, 0.8647860288619995, 0.9182652831077576, 0.8373950123786926, 0.7691723704338074, 0.9731147289276123, 0.9427732825279236, 1.0, 0.733921468257904, 0.7650408148765564, 0.8365995287895203, 0.7100061178207397, 0.7065999507904053, 0.6980024576187134, 0.7893483638763428, 0.7363665103912354, 0.7669140100479126, 0.8913499116897583, 0.9541404843330383, 0.8035275340080261, 0.8184673190116882, 0.8934841752052307, 0.7856836318969727, 0.9136905074119568, 0.8207330107688904, 0.88472980260849, 0.9119776487350464, 0.7567961812019348, 0.7551722526550293, 0.8404288291931152, 0.7520976662635803, 0.868561863899231, 0.9358933568000793, 0.8061316609382629, 0.8871273398399353, 0.80121248960495, 0.8642529249191284, 0.7367321848869324, 0.9255751371383667, 0.7573593854904175, 0.7157379984855652, 0.7994995713233948, 0.9894622564315796, 0.751484215259552, 0.7540777325630188, 0.8984664678573608, 0.916750967502594, 0.9450660347938538, 0.7031182646751404, 0.8081235289573669, 0.7604319453239441, 0.9679675698280334, 0.8318277597427368, 0.9719225168228149, 0.8730935454368591, 0.691743016242981, 0.8842717409133911, 0.8711532950401306, 0.8740198016166687], \"y\": [0.09953174740076065, 0.1709941029548645, 0.25343719124794006, 0.18299828469753265, 0.10078331083059311, 0.15263721346855164, 0.20863167941570282, 0.15067827701568604, 0.17235374450683594, 0.09984777867794037, 0.11990669369697571, 0.2574484348297119, 0.17538395524024963, 0.18824343383312225, 0.136704683303833, 0.1858343780040741, 0.1797931045293808, 0.18403922021389008, 0.2940303087234497, 0.08767804503440857, 0.20329411327838898, 0.13588827848434448, 0.23603129386901855, 0.32274025678634644, 0.2196389138698578, 0.1728123277425766, 0.2971135079860687, 0.20667056739330292, 0.32494232058525085, 0.22387591004371643, 0.1463555246591568, 0.10582631826400757, 0.1856514811515808, 0.23791997134685516, 0.3096001446247101, 0.24049827456474304, 0.2802044749259949, 0.3038581311702728, 0.14890097081661224, 0.21522678434848785, 0.1710221916437149, 0.18661677837371826, 0.20295147597789764, 0.1892017126083374, 0.2870701551437378, 0.1383272260427475, 0.29821062088012695, 0.25572288036346436, 0.14436429738998413, 0.2302333116531372, 0.1310786008834839, 0.29024165868759155, 0.10670259594917297, 0.2439897358417511, 0.10203084349632263, 0.2788127064704895, 0.27133870124816895, 0.17605003714561462, 0.157205268740654, 0.1377069056034088, 0.25454947352409363, 0.2143440693616867, 0.3460060656070709, 0.08376668393611908, 0.29361337423324585], \"z\": [-0.18485048413276672, -0.24331636726856232, -0.1065235286951065, -0.10238496959209442, -0.2994146943092346, -0.1658085435628891, -0.1493520438671112, -0.16725513339042664, -0.1380992978811264, -0.0816308781504631, -0.21980920433998108, 0.06215277686715126, -0.17583155632019043, -0.068252794444561, -0.14889578521251678, -0.15259131789207458, -0.2032548189163208, -0.394528329372406, -0.34197112917900085, -0.36823299527168274, -0.3772333860397339, -0.3331197500228882, -0.32326221466064453, -0.23892810940742493, -0.01016179658472538, -0.060232013463974, -0.21590089797973633, 0.025435609742999077, -0.3191254436969757, -0.040715496987104416, -0.32221364974975586, -0.17173095047473907, -0.019959937781095505, -0.20026490092277527, -0.39876052737236023, -0.3358485698699951, -0.3326830565929413, -0.21619382500648499, -0.09162544459104538, -0.20309777557849884, -0.22431719303131104, -0.2957724332809448, -0.3282507061958313, -0.3375667631626129, -0.1124810054898262, -0.1261831820011139, -0.26206138730049133, -0.3140375018119812, -0.02152169682085514, -0.2760266363620758, -0.3983801007270813, -0.1568365842103958, -0.05170103535056114, 0.08506501466035843, -0.29628676176071167, -0.4181033968925476, -0.42957639694213867, -0.0369565412402153, -0.11396763473749161, 0.03067203238606453, -0.17984437942504883, -0.3103666305541992, -0.16511264443397522, -0.2671760618686676, -0.3225347399711609]}, {\"customdata\": [[\"what are the normal glucose levels of a forty year old male ?\", \"normal level sugar blood year\", 23], [\"what is a normal glucose level for a woman in her thirty is ?\", \"normal level sugar blood year\", 23], [\"what is a blood sugar range that is safe for someone over the age of thirty ?\", \"normal level sugar blood year\", 23], [\"what is the average life expectancy for a diabetic male ?\", \"normal level sugar blood year\", 23], [\"what is the normal blood sugar level for a fourteen year old girl ?\", \"normal level sugar blood year\", 23], [\"what is the normal glucose level in a six year old ?\", \"normal level sugar blood year\", 23], [\"what does the term baseline sugar or sugar baseline mean and how is it determined for a diabetic or just a normal person ?\", \"normal level sugar blood year\", 23], [\"what is the normal fasting blood sugar level for a fifty year old woman ?\", \"normal level sugar blood year\", 23], [\"how can a person make sure their blood sugar is at a normal level ?\", \"normal level sugar blood year\", 23], [\"what is the normal blood sugar level for a woman in her forty ' ?\", \"normal level sugar blood year\", 23], [\"what is the average blood sugar level for an adult woman ?\", \"normal level sugar blood year\", 23], [\"what is a normal sugar level for twenty year old ?\", \"normal level sugar blood year\", 23], [\"what is the healthy normal blood sugar range for a person who is predisposed to diabetes ?\", \"normal level sugar blood year\", 23], [\"what is the normal cholesterol level for a female age <unk> ?\", \"normal level sugar blood year\", 23], [\"what is the normal blood sugar level for a child ?\", \"normal level sugar blood year\", 23], [\"what is the normal blood sugar level for a thirteen year old ?\", \"normal level sugar blood year\", 23]], \"hovertemplate\": \"summary=%{customdata[1]}<br>pc_1=%{x}<br>pc_2=%{y}<br>pc_3=%{z}<br>question=%{customdata[0]}<br>label=%{customdata[2]}<extra></extra>\", \"legendgroup\": \"normal level sugar blood year\", \"marker\": {\"color\": \"#FECB52\", \"size\": 8, \"symbol\": \"circle\"}, \"mode\": \"markers\", \"name\": \"normal level sugar blood year\", \"scene\": \"scene\", \"showlegend\": true, \"type\": \"scatter3d\", \"x\": [0.035822369158267975, 0.10087406635284424, 0.030504286289215088, 0.0750146135687828, 0.03328054025769234, 0.022724099457263947, 0.15533341467380524, 0.03874541446566582, 0.12383181601762772, 0.08400499075651169, 0.08918656408786774, -0.007942570373415947, 0.07116017490625381, 0.0932224914431572, 0.07333577424287796, 0.0075502824038267136], \"y\": [-0.7955753803253174, -0.7490447163581848, -0.8489569425582886, -0.8986555933952332, -0.8196360468864441, -0.7480460405349731, -0.8161724805831909, -0.7825520634651184, -0.8121883273124695, -0.7797186374664307, -0.8703317642211914, -0.8501150608062744, -0.8695452809333801, -0.87126624584198, -0.8254289627075195, -0.8165078163146973], \"z\": [-0.5136893391609192, -0.48229658603668213, -0.36193424463272095, -0.49806132912635803, -0.45830821990966797, -0.5105634927749634, -0.36087217926979065, -0.4330346882343292, -0.3574991226196289, -0.4547690749168396, -0.4044899344444275, -0.4663751721382141, -0.32112881541252136, -0.4615172743797302, -0.37396514415740967, -0.4359041750431061]}, {\"customdata\": [[\"can diabetics have sugar alcohol ?\", \"drink sugar alcohol type beer\", 3], [\"how can dark chocolate help diabetics ?\", \"drink sugar alcohol type beer\", 3], [\"<unk> or white sugar which is <unk> for a diabetic ?\", \"drink sugar alcohol type beer\", 3], [\"is sugar free <unk> ok to drink with type two diabetes ?\", \"drink sugar alcohol type beer\", 3], [\"is there any sugar in diabetic cookies ?\", \"drink sugar alcohol type beer\", 3], [\"can diabetics drink <unk> ?\", \"drink sugar alcohol type beer\", 3], [\"should a diabetic have coffee ?\", \"drink sugar alcohol type beer\", 3], [\"is sugar in toothpaste a danger for diabetics ?\", \"drink sugar alcohol type beer\", 3], [\"is sugar free candy still bad for a diabetic ?\", \"drink sugar alcohol type beer\", 3], [\"can diabetics drink <unk> ?\", \"drink sugar alcohol type beer\", 3], [\"diabetics and alcohol consumption ?\", \"drink sugar alcohol type beer\", 3], [\"is there diabetic beer ?\", \"drink sugar alcohol type beer\", 3], [\"what alcohol drink is good for a diabetic ?\", \"drink sugar alcohol type beer\", 3], [\"do diabetics need to drink water when they spill ketones ?\", \"drink sugar alcohol type beer\", 3], [\"what alcohol drinks are safe for diabetics ?\", \"drink sugar alcohol type beer\", 3], [\"what can diabetics drink ?\", \"drink sugar alcohol type beer\", 3], [\"is blush wine high in sugar ?\", \"drink sugar alcohol type beer\", 3], [\"how many carbs are there in <unk> is pale ale ?\", \"drink sugar alcohol type beer\", 3], [\"should a diabetic drink alcohol ?\", \"drink sugar alcohol type beer\", 3], [\"can diabetic drink beer ?\", \"drink sugar alcohol type beer\", 3], [\"can a diabetic drink dark navy rum ?\", \"drink sugar alcohol type beer\", 3], [\"can a diabetic drink slim fast with <unk> of sugar ?\", \"drink sugar alcohol type beer\", 3], [\"can diabetic drink wine ?\", \"drink sugar alcohol type beer\", 3], [\"can you drink alcohol with type one diabetes ?\", \"drink sugar alcohol type beer\", 3], [\"can diabetics drink the nutrient drink ensure ?\", \"drink sugar alcohol type beer\", 3], [\"why is beer good ?\", \"drink sugar alcohol type beer\", 3], [\"best lager to drink if your a diabetic ?\", \"drink sugar alcohol type beer\", 3], [\"can a person with diabetes smell of alcohol ?\", \"drink sugar alcohol type beer\", 3], [\"what are some alcoholic beverages or mixed drinks that are safe for type two diabetics ?\", \"drink sugar alcohol type beer\", 3], [\"can artificial sweeteners raise a diabetic is blood sugar ?\", \"drink sugar alcohol type beer\", 3]], \"hovertemplate\": \"summary=%{customdata[1]}<br>pc_1=%{x}<br>pc_2=%{y}<br>pc_3=%{z}<br>question=%{customdata[0]}<br>label=%{customdata[2]}<extra></extra>\", \"legendgroup\": \"drink sugar alcohol type beer\", \"marker\": {\"color\": \"#636efa\", \"size\": 8, \"symbol\": \"circle\"}, \"mode\": \"markers\", \"name\": \"drink sugar alcohol type beer\", \"scene\": \"scene\", \"showlegend\": true, \"type\": \"scatter3d\", \"x\": [-0.33963868021965027, -0.43699920177459717, -0.5817091464996338, -0.28330814838409424, -0.5673626065254211, -0.3758343458175659, -0.518227756023407, -0.5323363542556763, -0.551482617855072, -0.36222362518310547, -0.35366275906562805, -0.449861079454422, -0.422229140996933, -0.3341696262359619, -0.34545254707336426, -0.3885147273540497, -0.4735756516456604, -0.47477662563323975, -0.40967753529548645, -0.4253818988800049, -0.4526759684085846, -0.5113319158554077, -0.40317824482917786, -0.32592254877090454, -0.38678601384162903, -0.4521055817604065, -0.46826615929603577, -0.3505405783653259, -0.3798367381095886, -0.5723558664321899], \"y\": [-0.2866605520248413, -0.24541017413139343, -0.2764796316623688, -0.2837102711200714, -0.23168829083442688, -0.29083988070487976, -0.2724746763706207, -0.20136085152626038, -0.23398956656455994, -0.26330849528312683, -0.23876850306987762, -0.2398214042186737, -0.3242494761943817, -0.17742367088794708, -0.19792340695858002, -0.2334948182106018, -0.4076816439628601, -0.19403135776519775, -0.33106788992881775, -0.2740215063095093, -0.28979820013046265, -0.2741786539554596, -0.23925185203552246, -0.2910313308238983, -0.2167898565530777, -0.3539842963218689, -0.3313343822956085, -0.3176908791065216, -0.17942138016223907, -0.3273378610610962], \"z\": [0.0017158199334517121, -0.06276917457580566, 0.029123201966285706, 0.08565595746040344, -0.028728924691677094, -0.04744989052414894, 0.1381971836090088, 0.0400758758187294, 0.027549803256988525, -0.040084075182676315, 0.059561293572187424, 0.08260568976402283, 0.07592159509658813, -0.03465256467461586, 0.09159273654222488, -0.05782504379749298, 0.07484667748212814, 0.1040852963924408, 0.03955429419875145, 0.04076799750328064, -0.009617725387215614, 0.018877476453781128, 0.047978196293115616, 0.0951467975974083, 0.020200572907924652, 0.11827441304922104, 0.0498887300491333, 0.1254216730594635, 0.08633427321910858, -0.025297490879893303]}, {\"customdata\": [[\"is <unk> safe for diabetics ?\", \"eat good fruit patient safe\", 8], [\"is v8 juice good for diabetics ?\", \"eat good fruit patient safe\", 8], [\"can diabetic person eat apricot ?\", \"eat good fruit patient safe\", 8], [\"can diabetics eat <unk> ?\", \"eat good fruit patient safe\", 8], [\"is cinnamon good for people with diabetes ?\", \"eat good fruit patient safe\", 8], [\"is it possible for anyone with diabetes to be healthy and not use insulin ?\", \"eat good fruit patient safe\", 8], [\"what can you eat while you are diabetic and pregnant ?\", \"eat good fruit patient safe\", 8], [\"is it safe for diabetics to drink aspartame ?\", \"eat good fruit patient safe\", 8], [\"can you be hospitalized for diabetics ?\", \"eat good fruit patient safe\", 8], [\"is <unk> good for diabetics ?\", \"eat good fruit patient safe\", 8], [\"can you eat watermelon if you are diabetic ?\", \"eat good fruit patient safe\", 8], [\"can diabetics eat plums ?\", \"eat good fruit patient safe\", 8], [\"what are carbs ?\", \"eat good fruit patient safe\", 8], [\"can diabetics eat rice ?\", \"eat good fruit patient safe\", 8], [\"should diabetics eat any sugar ?\", \"eat good fruit patient safe\", 8], [\"can a diabetic patient eat dates ?\", \"eat good fruit patient safe\", 8], [\"infertility for diabetics ?\", \"eat good fruit patient safe\", 8], [\"can a diabetic patent eat sago ?\", \"eat good fruit patient safe\", 8], [\"is it safe to fast for <unk> reasons with type two diabetes ?\", \"eat good fruit patient safe\", 8], [\"can a diabetic eat almonds ?\", \"eat good fruit patient safe\", 8], [\"can eating <unk> if you are diabetic harmful ?\", \"eat good fruit patient safe\", 8], [\"can you eat cream crackers if you are diabetic ?\", \"eat good fruit patient safe\", 8], [\"how many sugars should a diabetic have at one meal ?\", \"eat good fruit patient safe\", 8], [\"can a diabetic patient eat watermelon ?\", \"eat good fruit patient safe\", 8], [\"can diabetes <unk> eat <unk> fruit ?\", \"eat good fruit patient safe\", 8], [\"can diabetic patients eat <unk> ?\", \"eat good fruit patient safe\", 8], [\"is walking good for diabetics ?\", \"eat good fruit patient safe\", 8], [\"can diabetes type two patients eat mangoes ?\", \"eat good fruit patient safe\", 8], [\"are oranges good for diabetic people ?\", \"eat good fruit patient safe\", 8], [\"should <unk> be prescribed to diabetics ?\", \"eat good fruit patient safe\", 8], [\"what happens if you are diabetic and you eat candy ?\", \"eat good fruit patient safe\", 8], [\"can diabetics donate a kidney ?\", \"eat good fruit patient safe\", 8], [\"are there any vitamins specifically for diabetics ?\", \"eat good fruit patient safe\", 8], [\"is onion good for diabetic ?\", \"eat good fruit patient safe\", 8], [\"why does a doctor tell diabetics not to drink ?\", \"eat good fruit patient safe\", 8], [\"what type of cereal can diabetics eat ?\", \"eat good fruit patient safe\", 8], [\"is guava a good fruit for diabetes ?\", \"eat good fruit patient safe\", 8], [\"is cinnamon good for diabetics ?\", \"eat good fruit patient safe\", 8], [\"is beetroot bad for diabetics ?\", \"eat good fruit patient safe\", 8], [\"if you are diabetic what foods should you avoid ?\", \"eat good fruit patient safe\", 8], [\"is <unk> good for diabetics ?\", \"eat good fruit patient safe\", 8], [\"can diabetics wax ?\", \"eat good fruit patient safe\", 8], [\"can diabetics eat <unk> rice ?\", \"eat good fruit patient safe\", 8], [\"is mango harmful for diabetics ?\", \"eat good fruit patient safe\", 8], [\"what bread is healthiest for diabetics ?\", \"eat good fruit patient safe\", 8], [\"can a diabetic eat <unk> potatoes ?\", \"eat good fruit patient safe\", 8], [\"can you eat sugar free jello before blood test ?\", \"eat good fruit patient safe\", 8], [\"what is a good <unk> for diabetics to use for sore feet ?\", \"eat good fruit patient safe\", 8], [\"can lactulose be given to diabetics ?\", \"eat good fruit patient safe\", 8], [\"diabetic snack ideas ?\", \"eat good fruit patient safe\", 8], [\"are fruits and honey bad for diabetes ?\", \"eat good fruit patient safe\", 8], [\"can diabetics take <unk> <unk> ?\", \"eat good fruit patient safe\", 8], [\"is wheat bread ok to eat for diabetics ?\", \"eat good fruit patient safe\", 8], [\"i am a diabetic patient can i live consuming alone fruits ?\", \"eat good fruit patient safe\", 8], [\"is it safe for diabetics to use steroids ?\", \"eat good fruit patient safe\", 8], [\"does <unk> has an effect in diabetics ?\", \"eat good fruit patient safe\", 8], [\"are there commercially available ready to eat foods for diabetics ?\", \"eat good fruit patient safe\", 8], [\"can people with diabetes have bananas ?\", \"eat good fruit patient safe\", 8], [\"can a sugar solution be used for diabetes ?\", \"eat good fruit patient safe\", 8], [\"how many days can you <unk> your papaya from fruit set ?\", \"eat good fruit patient safe\", 8], [\"can diabetic patient eat banana ?\", \"eat good fruit patient safe\", 8], [\"is this safe for diabetic to use ?\", \"eat good fruit patient safe\", 8], [\"what is the difference between candy and diabetic candy ?\", \"eat good fruit patient safe\", 8], [\"can a diabetic person can eat apple ?\", \"eat good fruit patient safe\", 8], [\"can diabetics use an <unk> sauna ?\", \"eat good fruit patient safe\", 8], [\"are dry fruits good for diabetics ?\", \"eat good fruit patient safe\", 8], [\"can honey make you diabetic ?\", \"eat good fruit patient safe\", 8], [\"is fruits containing sugar bad for diabetic patients ?\", \"eat good fruit patient safe\", 8], [\"is pineapple good for diabetics ?\", \"eat good fruit patient safe\", 8], [\"can <unk> iodine safe as an <unk> agent on diabetics ?\", \"eat good fruit patient safe\", 8], [\"are tomatoes good for diabetes ?\", \"eat good fruit patient safe\", 8], [\"are bananas good for diabetics ?\", \"eat good fruit patient safe\", 8], [\"is penicillin for diabetics ?\", \"eat good fruit patient safe\", 8], [\"can diabetics eat foods with garlic ?\", \"eat good fruit patient safe\", 8], [\"is it bad for diabetics to eat rice ?\", \"eat good fruit patient safe\", 8], [\"can type-1 diabetics donate sperm ?\", \"eat good fruit patient safe\", 8], [\"can water melon can be eaten by diabetic ?\", \"eat good fruit patient safe\", 8], [\"what are good carbohydrates for diabetics ?\", \"eat good fruit patient safe\", 8], [\"what food can a diabetic eat ?\", \"eat good fruit patient safe\", 8], [\"is it illegal for diabetics to eat sugar ?\", \"eat good fruit patient safe\", 8], [\"is mutton good for diabetic ?\", \"eat good fruit patient safe\", 8], [\"what should a diabetic avoid to eat ?\", \"eat good fruit patient safe\", 8], [\"what are good diabetic products to use for diabetics ?\", \"eat good fruit patient safe\", 8], [\"safe for diabetics to take <unk> chocolate candy ?\", \"eat good fruit patient safe\", 8], [\"is <unk> <unk> vitamin good for diabetics ?\", \"eat good fruit patient safe\", 8], [\"what kind of pasta a diabetic person should eat ?\", \"eat good fruit patient safe\", 8], [\"what foods should a diabetic eat ?\", \"eat good fruit patient safe\", 8], [\"what fruit can you eat that does not have starch or sugar ?\", \"eat good fruit patient safe\", 8], [\"what to eat as a diabetic ?\", \"eat good fruit patient safe\", 8], [\"can diabetic eat papaya ?\", \"eat good fruit patient safe\", 8], [\"can diabetics eat peaches ?\", \"eat good fruit patient safe\", 8], [\"are black olives good for diabetics ?\", \"eat good fruit patient safe\", 8], [\"insulin-dependent diabetics depend upon what microorganisms ?\", \"eat good fruit patient safe\", 8], [\"if i have diabetes can i have fruit ?\", \"eat good fruit patient safe\", 8], [\"can diabetic people have carrots ?\", \"eat good fruit patient safe\", 8], [\"what kinds of fruit can a diabetic eat ?\", \"eat good fruit patient safe\", 8], [\"is <unk> shrimp okay for diabetics ?\", \"eat good fruit patient safe\", 8], [\"can a diabetic pregnant woman eat almonds and pasta ?\", \"eat good fruit patient safe\", 8], [\"whether diabetic patients can eat oats ?\", \"eat good fruit patient safe\", 8], [\"is london dry gin good for a diabetic ?\", \"eat good fruit patient safe\", 8], [\"which nuts and beans can eat for diabetic person ?\", \"eat good fruit patient safe\", 8], [\"are there any fresh fruits and veggies that are off limits to diabetics ?\", \"eat good fruit patient safe\", 8], [\"what kinds of food can diabetics not eat ?\", \"eat good fruit patient safe\", 8], [\"is <unk> <unk> safe for type two diabetics ?\", \"eat good fruit patient safe\", 8], [\"can a diabetic patients have honey ?\", \"eat good fruit patient safe\", 8], [\"is whiskey safe for diabetic ?\", \"eat good fruit patient safe\", 8], [\"can diabetics eat white plain flour ?\", \"eat good fruit patient safe\", 8], [\"what kinds of vegetables can a diabetic eat ?\", \"eat good fruit patient safe\", 8], [\"can diabetics eat peanuts ?\", \"eat good fruit patient safe\", 8], [\"should a diabetic eat fresh mango ?\", \"eat good fruit patient safe\", 8], [\"you are a diabetic can you still eat potatoes ?\", \"eat good fruit patient safe\", 8], [\"can a diabetic eat cake ?\", \"eat good fruit patient safe\", 8], [\"are <unk> suitable for diabetics ?\", \"eat good fruit patient safe\", 8], [\"can a diabetic patient eat <unk> - seeds ?\", \"eat good fruit patient safe\", 8], [\"can a diabetic take honey ?\", \"eat good fruit patient safe\", 8], [\"is <unk> safe for diabetics ?\", \"eat good fruit patient safe\", 8], [\"is <unk> good for diabetics ?\", \"eat good fruit patient safe\", 8], [\"can sixty five year old diabetic eat <unk> and almonds ?\", \"eat good fruit patient safe\", 8], [\"is honey dew melon and <unk> bad for diabetes ?\", \"eat good fruit patient safe\", 8], [\"can diabetic patients eat sweet corn ?\", \"eat good fruit patient safe\", 8], [\"can diabetics take royal jelly ?\", \"eat good fruit patient safe\", 8], [\"should a diabetic not eat fruit ?\", \"eat good fruit patient safe\", 8], [\"which fruit diabetic patients can eat <unk> ?\", \"eat good fruit patient safe\", 8], [\"what fruits can a diabetic have ?\", \"eat good fruit patient safe\", 8], [\"can a diabetic consume honey ?\", \"eat good fruit patient safe\", 8], [\"what animals would serve as the best sources of insulin to be used for treating diabetics ?\", \"eat good fruit patient safe\", 8]], \"hovertemplate\": \"summary=%{customdata[1]}<br>pc_1=%{x}<br>pc_2=%{y}<br>pc_3=%{z}<br>question=%{customdata[0]}<br>label=%{customdata[2]}<extra></extra>\", \"legendgroup\": \"eat good fruit patient safe\", \"marker\": {\"color\": \"#EF553B\", \"size\": 8, \"symbol\": \"circle\"}, \"mode\": \"markers\", \"name\": \"eat good fruit patient safe\", \"scene\": \"scene\", \"showlegend\": true, \"type\": \"scatter3d\", \"x\": [-0.39232099056243896, -0.47729358077049255, -0.5713655352592468, -0.4988870918750763, -0.3578762114048004, -0.27743270993232727, -0.4347706735134125, -0.4742942452430725, -0.26271671056747437, -0.4326384961605072, -0.659685492515564, -0.4778684675693512, -0.4548489451408386, -0.534508228302002, -0.5213679671287537, -0.4902760684490204, -0.33797866106033325, -0.43586400151252747, -0.3101963400840759, -0.5359917283058167, -0.6517487168312073, -0.6595425605773926, -0.6806654334068298, -0.5750941038131714, -0.49915289878845215, -0.5044810175895691, -0.4172745943069458, -0.4896995723247528, -0.5139343738555908, -0.2835182547569275, -0.7026896476745605, -0.35627052187919617, -0.506264865398407, -0.394546240568161, -0.3133287727832794, -0.5872706770896912, -0.38535022735595703, -0.4385443925857544, -0.3748089075088501, -0.7137251496315002, -0.42097607254981995, -0.29659503698349, -0.5528998374938965, -0.42710649967193604, -0.5599439740180969, -0.6030722260475159, -0.516259491443634, -0.3820446729660034, -0.30509576201438904, -0.7434616088867188, -0.4092518091201782, -0.26304295659065247, -0.5578718185424805, -0.43989098072052, -0.2974473237991333, -0.3336019217967987, -0.5353394150733948, -0.4396071434020996, -0.31163647770881653, -0.5367522835731506, -0.4892581105232239, -0.31949684023857117, -0.7338742017745972, -0.5914339423179626, -0.24047303199768066, -0.4351276755332947, -0.33647143840789795, -0.3914521038532257, -0.35849958658218384, -0.30009883642196655, -0.36694252490997314, -0.4398379921913147, -0.3239681124687195, -0.5676824450492859, -0.5141528248786926, -0.3942493796348572, -0.4369701147079468, -0.4470558166503906, -0.7083341479301453, -0.5028443336486816, -0.3916490375995636, -0.689296543598175, -0.36005666851997375, -0.5293163061141968, -0.3856056332588196, -0.6892564296722412, -0.6992515325546265, -0.48423898220062256, -0.7200579643249512, -0.46445709466934204, -0.43703722953796387, -0.4077620208263397, -0.29033058881759644, -0.4108039438724518, -0.575900673866272, -0.6458261609077454, -0.4653959572315216, -0.5374395847320557, -0.4973205626010895, -0.4030779004096985, -0.5255842804908752, -0.4605051577091217, -0.6214525699615479, -0.3439951539039612, -0.3959363102912903, -0.3456280827522278, -0.5861969590187073, -0.6565840244293213, -0.5405048727989197, -0.6117050051689148, -0.632276177406311, -0.5706319808959961, -0.39284706115722656, -0.5269372463226318, -0.4721560776233673, -0.4039224088191986, -0.4243599474430084, -0.5153840780258179, -0.3952231705188751, -0.548065185546875, -0.2617829442024231, -0.6025381684303284, -0.5088745355606079, -0.6138828992843628, -0.5054785013198853, -0.2750561535358429], \"y\": [-0.03899061307311058, -0.03753317892551422, -0.09236831218004227, 0.045988522469997406, 0.0248586293309927, 0.01102087926119566, 0.05915199592709541, -0.050962142646312714, -0.11979226022958755, -0.0793575569987297, -0.07007168233394623, 0.08857930451631546, 0.06514590233564377, 0.09768637269735336, 0.03277929127216339, -0.03561001643538475, 0.06436357647180557, -0.019136780872941017, 0.031555503606796265, -0.06508518755435944, -0.06180203706026077, -0.0950826033949852, 0.06772050261497498, -0.04318975284695625, 0.15695098042488098, 0.029949931427836418, -0.11402104794979095, 0.1049710288643837, -0.09777023643255234, -0.06937351077795029, -0.09074471890926361, 0.06311620026826859, 0.08251900970935822, -0.05034136399626732, -0.12909682095050812, 0.1353132426738739, 0.087434783577919, -0.06839676201343536, 0.02942614257335663, -0.032213255763053894, -0.019696861505508423, -0.0748254656791687, 0.08938484638929367, 0.03649013116955757, -0.0037743602879345417, -0.019479766488075256, -0.19319677352905273, -0.15600727498531342, -0.06922338157892227, 0.1431485414505005, 0.15597301721572876, -0.0943761020898819, 0.09426404535770416, 0.09587179124355316, -0.05798828601837158, 0.0842427983880043, 0.1083507165312767, 0.038586072623729706, 0.02169598452746868, 0.13620004057884216, 0.011584708467125893, -0.04607149213552475, -0.12355231493711472, -0.10063893347978592, -0.001176343415863812, 0.11559602618217468, -0.0004328913346398622, 0.0014519412070512772, 0.017678486183285713, 0.04059303551912308, 0.12657630443572998, 0.06178456172347069, 0.031306106597185135, 0.10498703271150589, 0.10042891651391983, 0.09358683973550797, -0.02172999642789364, 0.02970212697982788, 0.10317166894674301, -0.024953261017799377, -0.047572061419487, -0.0002722063800320029, -0.04208818078041077, -0.06566232442855835, -0.021465016528964043, 0.06610923260450363, 0.13089995086193085, 0.20038466155529022, 0.0053854030556976795, 0.038203734904527664, 0.050326939672231674, 0.10425909608602524, 0.11083558201789856, 0.15896648168563843, 0.045160580426454544, 0.07158631086349487, -0.029246237128973007, -0.005416483618319035, 0.05171333998441696, -0.10438776761293411, 0.006018561311066151, 0.16057784855365753, 0.13576121628284454, 0.012442762963473797, -0.06693460047245026, -0.07525485008955002, 0.04049643501639366, 0.09621109813451767, 0.039038702845573425, 0.02850359119474888, -0.02952105738222599, -0.0430060550570488, -6.206118268892169e-05, -0.01573370397090912, -0.1120106652379036, -0.051049795001745224, -0.03748195618391037, -0.09545237571001053, 0.1956624984741211, 0.06632941961288452, -0.04248977452516556, 0.003919807728379965, 0.048901885747909546, 0.0947321280837059, -0.09690506756305695, -0.02654806710779667], \"z\": [0.2640334963798523, 0.10924927145242691, -0.22288627922534943, -0.09121767431497574, -0.0156306941062212, 0.21787835657596588, -0.24886253476142883, 0.013970252126455307, 0.07824790477752686, 0.17040765285491943, -0.26724034547805786, -0.1065332219004631, 0.19319330155849457, -0.08553272485733032, -0.005306122824549675, -0.2506295144557953, 0.150122731924057, -0.1923576146364212, 0.24126985669136047, -0.20022708177566528, -0.31669488549232483, -0.23299846053123474, -0.010558762587606907, -0.28129318356513977, -0.14667265117168427, -0.32961809635162354, 0.207015722990036, -0.1904546618461609, 0.19700321555137634, 0.11594127863645554, -0.26859328150749207, -0.19861124455928802, 0.11225461959838867, -0.056581269949674606, -0.02433444745838642, -0.07323019206523895, -0.01188318245112896, 0.07683990895748138, 0.07816639542579651, -0.22637559473514557, 0.11179953813552856, -0.01318912860006094, -0.0629546195268631, 0.026727018877863884, 0.2120116800069809, -0.22241805493831635, -0.2646230161190033, 0.2224283516407013, 0.045826129615306854, -0.12862595915794373, 0.01340852864086628, 0.004529757425189018, 0.006466205697506666, -0.3179689347743988, 0.2236487865447998, -0.09474273025989532, 0.05545138567686081, -0.015272928401827812, 0.01637795940041542, -0.2552860677242279, -0.21756602823734283, 0.1843988299369812, -0.28096869587898254, -0.18044450879096985, 0.05373426154255867, 0.05577465891838074, -0.11774095147848129, -0.107017882168293, -0.06277750432491302, -0.09740838408470154, 0.018036015331745148, 0.07236011326313019, 0.13955125212669373, -0.1664317548274994, -0.028846513479948044, -0.1553604006767273, -0.28484031558036804, 0.15344448387622833, -0.07639630883932114, -0.01761258766055107, -0.018253998830914497, -0.11081268638372421, 0.11943067610263824, -0.014167471788823605, 0.06286965310573578, -0.10351848602294922, -0.11687278747558594, -0.16401611268520355, -0.09644652903079987, -0.19232721626758575, -0.14471890032291412, 0.1035357415676117, 0.1543584167957306, -0.042157694697380066, -0.31481531262397766, -0.20190134644508362, 0.2194669544696808, -0.2188016176223755, -0.25940170884132385, -0.037195153534412384, -0.16125105321407318, 0.016892999410629272, -0.11795379221439362, 0.2184651643037796, -0.11320651322603226, 0.18454501032829285, -0.046105142682790756, -0.17952801287174225, -0.071998231112957, -0.14823034405708313, -0.24849830567836761, -0.180978924036026, 0.20440968871116638, -0.2936902642250061, -0.172291100025177, 0.2933383584022522, 0.13683705031871796, -0.25622373819351196, 0.03225330263376236, -0.21885928511619568, -0.03673575818538666, -0.12661556899547577, -0.20837797224521637, -0.2728410065174103, -0.17693690955638885, 0.14506271481513977]}, {\"customdata\": [[\"is blood sugar a hormone ?\", \"blood level glucos sugar insulin\", 11], [\"how does insulin controls blood sugar levels ?\", \"blood level glucos sugar insulin\", 11], [\"what does insulin do to blood glucose levels ?\", \"blood level glucos sugar insulin\", 11], [\"is it true that when blood glucose levels rise insulin is released by the <unk> to lower the level ?\", \"blood level glucos sugar insulin\", 11], [\"glucagon is secreted by which glands ?\", \"blood level glucos sugar insulin\", 11], [\"what endocrine gland produces insulin ?\", \"blood level glucos sugar insulin\", 11], [\"what happens when hormones that control sugar levels in the body does not work properly ?\", \"blood level glucos sugar insulin\", 11], [\"what <unk> venom <unk> a drug that controls blood sugar levels ?\", \"blood level glucos sugar insulin\", 11], [\"does the pancreas control blood sugar levels ?\", \"blood level glucos sugar insulin\", 11], [\"why do you monitor blood glucose levels with diabetes mellitus ?\", \"blood level glucos sugar insulin\", 11], [\"when blood sugar levels drop what happens to the insulin and glucagon levels ?\", \"blood level glucos sugar insulin\", 11], [\"what is the <unk> that causes blood glucose levels to increase ?\", \"blood level glucos sugar insulin\", 11], [\"what does insulin do to blood glucose ?\", \"blood level glucos sugar insulin\", 11], [\"how long to lower glucose levels ?\", \"blood level glucos sugar insulin\", 11], [\"what condition affects insulin levels ?\", \"blood level glucos sugar insulin\", 11], [\"what is ther organ that secretes insulin and glucagon target tissues ?\", \"blood level glucos sugar insulin\", 11], [\"which gland produces glucagon ?\", \"blood level glucos sugar insulin\", 11], [\"what hormone increases blood glucose ?\", \"blood level glucos sugar insulin\", 11], [\"rbc production is regulated by what hormone ?\", \"blood level glucos sugar insulin\", 11], [\"do you check your glucose levels ?\", \"blood level glucos sugar insulin\", 11], [\"how type one diabetic can control the glucose content of the blood ?\", \"blood level glucos sugar insulin\", 11], [\"what if your blood glucose is six . <unk> should you administer insulin ?\", \"blood level glucos sugar insulin\", 11], [\"<unk> easy explain how glucagon and insulin work together to maintain a relatively constant blood sugar level ?\", \"blood level glucos sugar insulin\", 11], [\"what can reduce blood glucose levels immediately ?\", \"blood level glucos sugar insulin\", 11], [\"what is the hormone that lowers blood sugar levels is ?\", \"blood level glucos sugar insulin\", 11], [\"which endocrine gland regulates blood sugar levels ?\", \"blood level glucos sugar insulin\", 11], [\"what causes low glucose levels ?\", \"blood level glucos sugar insulin\", 11], [\"what hormone produced in inadequate amounts causes excessive diuresis without high blood glucose levels ?\", \"blood level glucos sugar insulin\", 11], [\"does an insulin pump help regulate blood sugar levels in type i diabetics ?\", \"blood level glucos sugar insulin\", 11], [\"what organ controls blood sugar ?\", \"blood level glucos sugar insulin\", 11], [\"which hormone reduce the level of glucose in blood ?\", \"blood level glucos sugar insulin\", 11], [\"blood urea nitrogen range ?\", \"blood level glucos sugar insulin\", 11], [\"regulates blood glucose levels ?\", \"blood level glucos sugar insulin\", 11], [\"what hormone controls amount of sugar in the blood ?\", \"blood level glucos sugar insulin\", 11], [\"what hormone controls the supply of sugar from the blood to the muscles ?\", \"blood level glucos sugar insulin\", 11], [\"what two organs dont need insulin to breakdown down glucose ?\", \"blood level glucos sugar insulin\", 11], [\"which rising blood serum levels of what substances stimulates the release of insulin ?\", \"blood level glucos sugar insulin\", 11], [\"what is the endocrine gland that controls the levels of sugar in your blood ?\", \"blood level glucos sugar insulin\", 11], [\"how does insulin and glucagon maintain sugar level ?\", \"blood level glucos sugar insulin\", 11]], \"hovertemplate\": \"summary=%{customdata[1]}<br>pc_1=%{x}<br>pc_2=%{y}<br>pc_3=%{z}<br>question=%{customdata[0]}<br>label=%{customdata[2]}<extra></extra>\", \"legendgroup\": \"blood level glucos sugar insulin\", \"marker\": {\"color\": \"#00cc96\", \"size\": 8, \"symbol\": \"circle\"}, \"mode\": \"markers\", \"name\": \"blood level glucos sugar insulin\", \"scene\": \"scene\", \"showlegend\": true, \"type\": \"scatter3d\", \"x\": [0.27009207010269165, 0.32199639081954956, 0.26982367038726807, 0.18394482135772705, 0.35531318187713623, 0.42978331446647644, 0.39726313948631287, 0.3161563575267792, 0.35586294531822205, 0.25688591599464417, 0.26141640543937683, 0.14001724123954773, 0.29476919770240784, 0.15431101620197296, 0.22221413254737854, 0.4031032919883728, 0.3687649071216583, 0.2700045108795166, 0.45715659856796265, 0.2021753489971161, 0.2570229768753052, 0.33840152621269226, 0.22402319312095642, 0.15431036055088043, 0.2951001822948456, 0.37878480553627014, 0.16509592533111572, 0.19232794642448425, 0.31873223185539246, 0.38057857751846313, 0.2353554368019104, 0.22656282782554626, 0.3059466779232025, 0.3466093838214874, 0.3823068141937256, 0.3170279562473297, 0.2479892075061798, 0.37208735942840576, 0.2960861027240753], \"y\": [-0.39747247099876404, -0.41993793845176697, -0.46350812911987305, -0.3579426407814026, -0.26691657304763794, -0.2869674265384674, -0.4250200092792511, -0.37640097737312317, -0.4335496425628662, -0.5686851143836975, -0.4177263081073761, -0.46185654401779175, -0.4941539466381073, -0.4995538592338562, -0.4667971432209015, -0.2826462686061859, -0.2829413414001465, -0.42155003547668457, -0.3738393783569336, -0.5635603666305542, -0.5585267543792725, -0.5453771352767944, -0.45624691247940063, -0.49991706013679504, -0.3693481385707855, -0.3452065885066986, -0.4225318729877472, -0.34694650769233704, -0.40674155950546265, -0.46253156661987305, -0.40683040022850037, -0.47425299882888794, -0.49565795063972473, -0.40172138810157776, -0.4225597679615021, -0.5110839605331421, -0.3647824227809906, -0.39017006754875183, -0.43160879611968994], \"z\": [-0.3292871415615082, -0.15444660186767578, -0.1777457594871521, -0.21155866980552673, -0.3428480625152588, -0.31985095143318176, -0.14113010466098785, -0.18656538426876068, -0.17439159750938416, -0.1812925487756729, -0.14583884179592133, -0.26340681314468384, -0.16975189745426178, -0.14988933503627777, -0.17494307458400726, -0.2601434886455536, -0.31039127707481384, -0.2417144924402237, -0.27372249960899353, -0.23781438171863556, -0.10403060913085938, -0.1740628480911255, -0.08184605836868286, -0.22590501606464386, -0.28830331563949585, -0.32107144594192505, -0.2922517955303192, -0.14897149801254272, -0.09407036751508713, -0.22144955396652222, -0.22943711280822754, -0.2663912773132324, -0.2855647802352905, -0.24798505008220673, -0.2694891095161438, -0.11934410780668259, -0.22857891023159027, -0.3224499225616455, -0.05448230728507042]}, {\"customdata\": [[\"how many people have diabetes ?\", \"peopl mani uk everi number\", 27], [\"are people with diabetes eligible for medicaid in texas ?\", \"peopl mani uk everi number\", 27], [\"how many people have type one diabetes in th uk ?\", \"peopl mani uk everi number\", 27], [\"how many peoples day from diabetes in america ?\", \"peopl mani uk everi number\", 27], [\"how many people in the uk has diabetes ?\", \"peopl mani uk everi number\", 27], [\"how many people are diagnosed with diabetes every year ?\", \"peopl mani uk everi number\", 27], [\"what percentage of americans have diabetes ?\", \"peopl mani uk everi number\", 27], [\"is the number of people worldwide who have diabetes increasing ?\", \"peopl mani uk everi number\", 27], [\"how many people in uk suffer with diabetes ?\", \"peopl mani uk everi number\", 27], [\"in every ten people how many have diabetes ?\", \"peopl mani uk everi number\", 27], [\"how many people currently have diabetes in canada ?\", \"peopl mani uk everi number\", 27], [\"how many diabetics patients in <unk> ?\", \"peopl mani uk everi number\", 27], [\"what does the number seven mean in diabetics ?\", \"peopl mani uk everi number\", 27], [\"what percent of the worlds population are diabetic ?\", \"peopl mani uk everi number\", 27], [\"how many people in canada have diabetes ?\", \"peopl mani uk everi number\", 27], [\"how many people have heart disease in the us ?\", \"peopl mani uk everi number\", 27], [\"who criteria for <unk> in diabetes ?\", \"peopl mani uk everi number\", 27]], \"hovertemplate\": \"summary=%{customdata[1]}<br>pc_1=%{x}<br>pc_2=%{y}<br>pc_3=%{z}<br>question=%{customdata[0]}<br>label=%{customdata[2]}<extra></extra>\", \"legendgroup\": \"peopl mani uk everi number\", \"marker\": {\"color\": \"#ab63fa\", \"size\": 8, \"symbol\": \"circle\"}, \"mode\": \"markers\", \"name\": \"peopl mani uk everi number\", \"scene\": \"scene\", \"showlegend\": true, \"type\": \"scatter3d\", \"x\": [0.11958742886781693, -0.03466050326824188, 0.04636336863040924, 0.07921901345252991, 0.04013630002737045, 0.14499767124652863, -0.051403358578681946, -0.014424454420804977, 0.043171823024749756, 0.09721589833498001, 0.013368222862482071, 0.09589618444442749, -0.04332369565963745, -0.030546505004167557, 0.07986218482255936, 0.02024863287806511, -0.044212378561496735], \"y\": [0.6212193965911865, 0.6990410685539246, 0.6667752861976624, 0.7142800688743591, 0.6590054035186768, 0.6772522330284119, 0.634952187538147, 0.6616008281707764, 0.591571569442749, 0.6630124449729919, 0.640014111995697, 0.6222411394119263, 0.6601847410202026, 0.702994704246521, 0.6399890780448914, 0.5676751732826233, 0.6053714752197266], \"z\": [-0.09787265211343765, -0.21804557740688324, -0.2026650607585907, -0.127304807305336, -0.14568574726581573, -0.14995360374450684, -0.14049705862998962, -0.1771567165851593, -0.17324407398700714, -0.16189247369766235, -0.15583765506744385, -0.03513364866375923, -0.09137805551290512, -0.13059230148792267, -0.12890127301216125, -0.11177188158035278, -0.21391341090202332]}, {\"customdata\": [[\"did nick <unk> have diabetes ?\", \"nick jona get cure ever\", 4], [\"can you move to canada from the uk with diabetes ?\", \"nick jona get cure ever\", 4], [\"can you survive without knowing you have diabetes ?\", \"nick jona get cure ever\", 4], [\"are there any proven diabetes cures ?\", \"nick jona get cure ever\", 4], [\"what does flu do to teen with diabetes ?\", \"nick jona get cure ever\", 4], [\"who did nick jonas give his diabetes necklace to ?\", \"nick jona get cure ever\", 4], [\"when a person who has diabetes has difficulty producing what ?\", \"nick jona get cure ever\", 4], [\"where did the word diabetes <unk> ?\", \"nick jona get cure ever\", 4], [\"does david <unk> have diabetes ?\", \"nick jona get cure ever\", 4], [\"did <unk> <unk> have diabetes ?\", \"nick jona get cure ever\", 4], [\"how did nick jonas develop diabetes ?\", \"nick jona get cure ever\", 4], [\"does honey cause diabetes ?\", \"nick jona get cure ever\", 4], [\"is nick jonas diabetes getting worse ?\", \"nick jona get cure ever\", 4], [\"do schnauzer have diabetes ?\", \"nick jona get cure ever\", 4], [\"does the <unk> change with diabetes ?\", \"nick jona get cure ever\", 4], [\"if a parent has diabetes is it likely the baby will have diabetes ?\", \"nick jona get cure ever\", 4], [\"what is nick jonas is diabetes song ?\", \"nick jona get cure ever\", 4], [\"can the <unk> have diabetes ?\", \"nick jona get cure ever\", 4], [\"what are the side effects of tetanus vaccination in adults ?\", \"nick jona get cure ever\", 4], [\"does everyone have diabetes ?\", \"nick jona get cure ever\", 4], [\"how many disney channel stars have diabetes ?\", \"nick jona get cure ever\", 4], [\"use of psyllium <unk> in diabetes and <unk> ?\", \"nick jona get cure ever\", 4], [\"did elvis <unk> have diabetes ?\", \"nick jona get cure ever\", 4], [\"can fish have diabetes ?\", \"nick jona get cure ever\", 4], [\"who <unk> diabetes ?\", \"nick jona get cure ever\", 4], [\"does michael phelps have diabetes ?\", \"nick jona get cure ever\", 4], [\"when did jay cutler <unk> he has diabetes ?\", \"nick jona get cure ever\", 4], [\"can liver disease heal its self if the person stops drinking ?\", \"nick jona get cure ever\", 4], [\"how old was nick jonas when he got diabetes ?\", \"nick jona get cure ever\", 4], [\"what year did sonia sotomayor have one type of diabetes ?\", \"nick jona get cure ever\", 4], [\"do mice have diabetes ?\", \"nick jona get cure ever\", 4], [\"does your <unk> itch when you have diabetes ?\", \"nick jona get cure ever\", 4], [\"did miley cyrus break up with nick jonas because nick had diabetes ?\", \"nick jona get cure ever\", 4], [\"is nick jonas okay with having diabetes ?\", \"nick jona get cure ever\", 4], [\"does alan rickman have diabetes ?\", \"nick jona get cure ever\", 4], [\"diabetes and <unk> ?\", \"nick jona get cure ever\", 4], [\"is lil boosie diabetic ?\", \"nick jona get cure ever\", 4], [\"can you have hyperglycemia without diabetes ?\", \"nick jona get cure ever\", 4], [\"<unk> of the jonas brothers has diabetes and is it special needs ?\", \"nick jona get cure ever\", 4], [\"does <unk> <unk> <unk> h have diabetes ?\", \"nick jona get cure ever\", 4], [\"can dibeties be cured ?\", \"nick jona get cure ever\", 4], [\"what kind of diabetes <unk> nick jonas have ?\", \"nick jona get cure ever\", 4], [\"this does not mean y ?\", \"nick jona get cure ever\", 4], [\"does nick jonas really have diabetes ?\", \"nick jona get cure ever\", 4], [\"has anyone actually reversed type two diabetes ?\", \"nick jona get cure ever\", 4], [\"can nick jonas get rid of his diabetes ?\", \"nick jona get cure ever\", 4], [\"does lil boosie have diabetes ?\", \"nick jona get cure ever\", 4], [\"which <unk> have diabetes ?\", \"nick jona get cure ever\", 4], [\"who started the american diabetes association ?\", \"nick jona get cure ever\", 4], [\"what disease does pandan leave cure ?\", \"nick jona get cure ever\", 4], [\"where did diabetes get its name ?\", \"nick jona get cure ever\", 4], [\"do you have to accept the <unk> diabetes test ?\", \"nick jona get cure ever\", 4], [\"can <unk> make you have diabetes ?\", \"nick jona get cure ever\", 4], [\"can you ski with diabetes ?\", \"nick jona get cure ever\", 4], [\"are service animals used to help humans with diabetes ?\", \"nick jona get cure ever\", 4], [\"did thomas <unk> have diabetes ?\", \"nick jona get cure ever\", 4], [\"is it nick jonas diabetic ?\", \"nick jona get cure ever\", 4], [\"diabetes bracelet ?\", \"nick jona get cure ever\", 4], [\"how can diabetes be detected ?\", \"nick jona get cure ever\", 4], [\"how is diabetes passed on ?\", \"nick jona get cure ever\", 4], [\"can diabetes be beat ?\", \"nick jona get cure ever\", 4], [\"who get diabetes ?\", \"nick jona get cure ever\", 4], [\"can you have diabetes and not know that you have it ?\", \"nick jona get cure ever\", 4], [\"will wheat grass help your diabetes ?\", \"nick jona get cure ever\", 4], [\"what are the chances of gettin diabetes if your dad had diabetes ?\", \"nick jona get cure ever\", 4], [\"does jason <unk> have diabetes ?\", \"nick jona get cure ever\", 4], [\"did nick jonas ever have diabetes ?\", \"nick jona get cure ever\", 4], [\"both big toes and <unk> feel like they <unk> up with novacaine it never goes away you are not fat or diabetic ?\", \"nick jona get cure ever\", 4], [\"are ther any <unk> with diabetes ?\", \"nick jona get cure ever\", 4], [\"do diabetes lead to cancer ?\", \"nick jona get cure ever\", 4], [\"what is the name of the plant from <unk> that has reportedly cured some cases of diabetes ?\", \"nick jona get cure ever\", 4], [\"can diabetes spread through diabetes tester ?\", \"nick jona get cure ever\", 4], [\"does steve redgrave have diabetes ?\", \"nick jona get cure ever\", 4], [\"did nick jonas ever throw up blood from diabetes ?\", \"nick jona get cure ever\", 4], [\"did miley cyrus break up with nick jonas because he had diabetes ?\", \"nick jona get cure ever\", 4], [\"does nick jonas have <unk> diabetes ' or diabetes ?\", \"nick jona get cure ever\", 4], [\"how did nick get diabetes ?\", \"nick jona get cure ever\", 4], [\"why does your child sweat excessively and <unk> ?\", \"nick jona get cure ever\", 4], [\"does reliv diabetes ?\", \"nick jona get cure ever\", 4], [\"what animal can turn diabetes on and off ?\", \"nick jona get cure ever\", 4], [\"does anyone else have diabeties ?\", \"nick jona get cure ever\", 4], [\"who can contract diabetes ?\", \"nick jona get cure ever\", 4], [\"where did diabetes first start ?\", \"nick jona get cure ever\", 4], [\"why did the pima <unk> have diabetes ?\", \"nick jona get cure ever\", 4], [\"did nick jonas ever throw up from diabetes ?\", \"nick jona get cure ever\", 4], [\"who was the founder of diabetes ?\", \"nick jona get cure ever\", 4], [\"which <unk> sister has diabetes ?\", \"nick jona get cure ever\", 4]], \"hovertemplate\": \"summary=%{customdata[1]}<br>pc_1=%{x}<br>pc_2=%{y}<br>pc_3=%{z}<br>question=%{customdata[0]}<br>label=%{customdata[2]}<extra></extra>\", \"legendgroup\": \"nick jona get cure ever\", \"marker\": {\"color\": \"#FFA15A\", \"size\": 8, \"symbol\": \"circle\"}, \"mode\": \"markers\", \"name\": \"nick jona get cure ever\", \"scene\": \"scene\", \"showlegend\": true, \"type\": \"scatter3d\", \"x\": [-0.1832844763994217, -0.10186617821455002, -0.09449619054794312, -0.06552506238222122, -0.03650214523077011, -0.1997060924768448, -0.07176965475082397, -0.10036589205265045, -0.2581676244735718, -0.2276865839958191, -0.12465453892946243, -0.26287195086479187, -0.21058940887451172, -0.26519548892974854, -0.048997942358255386, -0.1810360997915268, -0.16005243360996246, -0.021812671795487404, 0.00750255910679698, -0.2106480896472931, -0.17211204767227173, -0.14900630712509155, -0.1242745965719223, -0.12508133053779602, -0.06268781423568726, -0.12950673699378967, -0.10321543365716934, -0.14621718227863312, -0.08786402642726898, -0.06299354881048203, -0.17718634009361267, -0.024091333150863647, -0.1792525053024292, -0.14743764698505402, -0.19937442243099213, -0.0578070804476738, -0.2727181017398834, -0.08091890811920166, -0.1380215883255005, -0.14740681648254395, -0.12530310451984406, -0.10769252479076385, -0.20609408617019653, -0.2002384215593338, -0.23542708158493042, -0.19329746067523956, -0.2423376888036728, -0.18239887058734894, -0.05745784193277359, -0.13938748836517334, -0.1069110780954361, -0.1290149986743927, -0.05625564604997635, -0.036450307816267014, -0.19716723263263702, -0.23098215460777283, -0.12150406092405319, -0.12504839897155762, -0.03684088960289955, -0.025151174515485764, -0.06551926583051682, -0.051344193518161774, -0.0686374381184578, -0.16551697254180908, -0.20487850904464722, -0.1700938194990158, -0.17417745292186737, -0.07752608507871628, -0.08433040231466293, -0.10275150090456009, -0.17439433932304382, -0.058816809207201004, -0.1670691817998886, -0.12091294676065445, -0.20676615834236145, -0.1733199506998062, -0.1623760461807251, 0.0172014981508255, -0.07158330827951431, 0.02091788314282894, -0.24281617999076843, -0.0914463922381401, -0.10299649834632874, -0.26104938983917236, -0.1460563838481903, -0.038965146988630295, -0.11921902000904083], \"y\": [0.5402793884277344, 0.1517496556043625, 0.2613629698753357, 0.28009510040283203, 0.3688770532608032, 0.5484179258346558, 0.5111678838729858, 0.29009106755256653, 0.6181183457374573, 0.49521109461784363, 0.7014964818954468, 0.3010943830013275, 0.6640660762786865, 0.47502565383911133, 0.31594112515449524, 0.3566066026687622, 0.6293127536773682, 0.2827833890914917, 0.30909353494644165, 0.42012226581573486, 0.49291282892227173, 0.2325858175754547, 0.36221933364868164, 0.22733847796916962, 0.4412235915660858, 0.4491618871688843, 0.47587183117866516, 0.25781476497650146, 0.5626010894775391, 0.41771262884140015, 0.3314380943775177, 0.29020562767982483, 0.6020916700363159, 0.532476007938385, 0.37892186641693115, 0.2504613697528839, 0.3711499869823456, 0.31532153487205505, 0.39694711565971375, 0.3609442710876465, 0.31139615178108215, 0.5194340348243713, 0.29263824224472046, 0.6272674202919006, 0.3835611641407013, 0.6701570153236389, 0.3743151128292084, 0.39074382185935974, 0.40588876605033875, 0.2883446514606476, 0.30508551001548767, 0.13819830119609833, 0.25316187739372253, 0.17827895283699036, 0.28826016187667847, 0.5525767207145691, 0.5821183323860168, 0.23576374351978302, 0.1803804636001587, 0.21038663387298584, 0.16253861784934998, 0.4375406503677368, 0.2267390787601471, 0.19723522663116455, 0.4749898910522461, 0.4642118811607361, 0.5736188888549805, 0.17551438510417938, 0.2359858900308609, 0.28692251443862915, 0.28233620524406433, 0.20041155815124512, 0.40487709641456604, 0.62726891040802, 0.6028628349304199, 0.5890887975692749, 0.7498526573181152, 0.30664512515068054, 0.28539618849754333, 0.2824406325817108, 0.4080815017223358, 0.4519825577735901, 0.3610017001628876, 0.4863942861557007, 0.629050612449646, 0.6330483555793762, 0.36023589968681335], \"z\": [-0.4235649108886719, -0.2045186311006546, -0.024326352402567863, -0.1366904079914093, -0.3089440166950226, -0.5141923427581787, -0.38930103182792664, -0.41080158948898315, -0.41737887263298035, -0.38420823216438293, -0.41079702973365784, -0.30343183875083923, -0.3811992108821869, -0.3411329388618469, -0.23737643659114838, -0.4980210065841675, -0.32912468910217285, -0.054473817348480225, -0.4046008586883545, -0.2953776717185974, -0.4489913582801819, -0.3285854458808899, -0.3853015601634979, -0.14496120810508728, -0.24911202490329742, -0.345419704914093, -0.4568595290184021, -0.044754479080438614, -0.44640788435935974, -0.38139083981513977, -0.36637237668037415, -0.3217128813266754, -0.5387619733810425, -0.29737725853919983, -0.43030697107315063, -0.26418665051460266, -0.4776376783847809, -0.02602384053170681, -0.22210413217544556, -0.3200170397758484, -0.11332092434167862, -0.41484731435775757, -0.43829745054244995, -0.4222899377346039, -0.34774744510650635, -0.47266966104507446, -0.4585437774658203, -0.3199567496776581, -0.20653443038463593, -0.17658333480358124, -0.3084891736507416, -0.3195728659629822, -0.038240205496549606, 0.01009985338896513, -0.1319151073694229, -0.39245009422302246, -0.37028759717941284, -0.2861110270023346, -0.37944579124450684, -0.2652350962162018, -0.24411892890930176, -0.281669557094574, -0.06562057137489319, -0.13947170972824097, -0.2786828875541687, -0.36102229356765747, -0.4433162212371826, -0.1046842634677887, -0.17032967507839203, -0.21872344613075256, -0.2314206212759018, -0.32536810636520386, -0.40740838646888733, -0.46875637769699097, -0.5420309901237488, -0.3955020606517792, -0.42723411321640015, -0.3427051305770874, -0.27459487318992615, -0.27089938521385193, -0.25302019715309143, -0.29525676369667053, -0.43309521675109863, -0.4178307056427002, -0.4850802719593048, -0.35786303877830505, -0.2669447362422943]}, {\"customdata\": [[\"a healthy diet plan for african american with diabetes ?\", \"diet plan healthi african american\", 39], [\"where can i find ideas for diabetes diet foods ?\", \"diet plan healthi african american\", 39], [\"diabetes diet meal plan ?\", \"diet plan healthi african american\", 39]], \"hovertemplate\": \"summary=%{customdata[1]}<br>pc_1=%{x}<br>pc_2=%{y}<br>pc_3=%{z}<br>question=%{customdata[0]}<br>label=%{customdata[2]}<extra></extra>\", \"legendgroup\": \"diet plan healthi african american\", \"marker\": {\"color\": \"#19d3f3\", \"size\": 8, \"symbol\": \"circle\"}, \"mode\": \"markers\", \"name\": \"diet plan healthi african american\", \"scene\": \"scene\", \"showlegend\": true, \"type\": \"scatter3d\", \"x\": [-0.5372802019119263, -0.5625497102737427, -0.5899370908737183], \"y\": [0.32966652512550354, 0.3792235255241394, 0.29938679933547974], \"z\": [0.23681862652301788, 0.3182380497455597, 0.2679690718650818]}, {\"customdata\": [[\"how do you develop diabetes two ?\", \"get type one know two\", 9], [\"how to reverse diabetes ?\", \"get type one know two\", 9], [\"how you can diagnosis diabete ?\", \"get type one know two\", 9], [\"how do you know if you are type one diabetes ?\", \"get type one know two\", 9], [\"what can treat diabetes ?\", \"get type one know two\", 9], [\"how does one get diabetes ?\", \"get type one know two\", 9], [\"can you get rid of type two diabetes ?\", \"get type one know two\", 9], [\"how do you get diabetes type one ?\", \"get type one know two\", 9], [\"why do you pee when you have diabetes ?\", \"get type one know two\", 9], [\"how do you get type three diabetes ?\", \"get type one know two\", 9], [\"how can you get rid of diabetes ?\", \"get type one know two\", 9], [\"what kind of doctor should you see if you think you have diabetes ?\", \"get type one know two\", 9], [\"how can you help managing my diabetes over the years ?\", \"get type one know two\", 9], [\"you have diabetes what can you do ?\", \"get type one know two\", 9], [\"how can you improve your life if you have diabetes ?\", \"get type one know two\", 9], [\"how can a person cure diabetes ?\", \"get type one know two\", 9], [\"how do you know if it is type one diabetes ?\", \"get type one know two\", 9], [\"how do you get diabetes type one ?\", \"get type one know two\", 9], [\"how do you know you have gestational diabetes ?\", \"get type one know two\", 9], [\"what happens if you do not control diabetes ?\", \"get type one know two\", 9], [\"what do you do if you get diabetes ?\", \"get type one know two\", 9], [\"how do you get diabetes two ?\", \"get type one know two\", 9], [\"how do you get rid of type one diabetes ?\", \"get type one know two\", 9], [\"what does diabetes do to you ?\", \"get type one know two\", 9], [\"how do doctors diagnose diabetes ?\", \"get type one know two\", 9], [\"how can you tell you have diabetes ?\", \"get type one know two\", 9], [\"how can i get rid of diabetes type one ?\", \"get type one know two\", 9], [\"how did you get diabetes ?\", \"get type one know two\", 9], [\"how do you explain to a patient about diabetes ?\", \"get type one know two\", 9], [\"how do humans get diabetes ?\", \"get type one know two\", 9], [\"how should you go about treating diabetes ?\", \"get type one know two\", 9], [\"how you can get a diabetes mellitus ?\", \"get type one know two\", 9], [\"how do you get <unk> ?\", \"get type one know two\", 9], [\"how do you know you have got a <unk> on someone ?\", \"get type one know two\", 9], [\"how can you getting avoid getting type two diabetes ?\", \"get type one know two\", 9], [\"how do you avoid diabetes ?\", \"get type one know two\", 9], [\"why did you get diabetes ?\", \"get type one know two\", 9], [\"how long can diabetes last ?\", \"get type one know two\", 9], [\"how do you know if you have type one diabetes ?\", \"get type one know two\", 9], [\"how can you <unk> diabetes ?\", \"get type one know two\", 9]], \"hovertemplate\": \"summary=%{customdata[1]}<br>pc_1=%{x}<br>pc_2=%{y}<br>pc_3=%{z}<br>question=%{customdata[0]}<br>label=%{customdata[2]}<extra></extra>\", \"legendgroup\": \"get type one know two\", \"marker\": {\"color\": \"#FF6692\", \"size\": 8, \"symbol\": \"circle\"}, \"mode\": \"markers\", \"name\": \"get type one know two\", \"scene\": \"scene\", \"showlegend\": true, \"type\": \"scatter3d\", \"x\": [0.43306055665016174, 0.15599186718463898, 0.2657954692840576, 0.4713878631591797, 0.2153615951538086, 0.36650577187538147, 0.5035839080810547, 0.4602804481983185, 0.39478006958961487, 0.457362562417984, 0.4852341115474701, 0.2795603573322296, 0.17575454711914062, 0.25668448209762573, 0.19855371117591858, 0.2414863407611847, 0.4901900887489319, 0.4533950388431549, 0.37606915831565857, 0.5202851295471191, 0.4588523805141449, 0.4265511929988861, 0.46891850233078003, 0.491812139749527, 0.21339154243469238, 0.2801142632961273, 0.47275400161743164, 0.37503668665885925, 0.2986869812011719, 0.370878130197525, 0.2843325734138489, 0.44244450330734253, 0.3416789174079895, 0.32825711369514465, 0.5497874021530151, 0.5419166088104248, 0.38080456852912903, 0.14599888026714325, 0.44931554794311523, 0.2431163340806961], \"y\": [0.20248101651668549, 0.17044125497341156, 0.14862506091594696, 0.05738037824630737, 0.09959446638822556, 0.18459713459014893, 0.21563871204853058, 0.15097638964653015, 0.037529125809669495, 0.12084195762872696, 0.16930238902568817, 0.04098453372716904, 0.10423536598682404, 0.11816322803497314, 0.11814612150192261, 0.18710219860076904, 0.05598299950361252, 0.15332897007465363, 0.08812639117240906, 0.15087950229644775, 0.015620015561580658, 0.09754149615764618, 0.1677722930908203, 0.007835637778043747, 0.07805215567350388, 0.1283118724822998, 0.21569305658340454, 0.1584855318069458, 0.0871020182967186, 0.2396613508462906, 0.04330005124211311, 0.07339883595705032, 0.10872286558151245, 0.0901605635881424, 0.16018609702587128, 0.13019528985023499, 0.17357851564884186, 0.1216854527592659, 0.09553444385528564, 0.13989859819412231], \"z\": [0.255846232175827, 0.3528030216693878, 0.40874359011650085, 0.2779430150985718, 0.37139567732810974, 0.2923904359340668, 0.37186485528945923, 0.24442487955093384, 0.3070518672466278, 0.32585933804512024, 0.4366438686847687, 0.32326260209083557, 0.25838008522987366, 0.3117865324020386, 0.23320306837558746, 0.2887048125267029, 0.24480105936527252, 0.2752588987350464, 0.3776763677597046, 0.25011205673217773, 0.36736634373664856, 0.3552083969116211, 0.35199373960494995, 0.35066166520118713, 0.4254448413848877, 0.35314613580703735, 0.37595808506011963, 0.3271956741809845, 0.412432998418808, 0.34564220905303955, 0.4029443860054016, 0.2022257000207901, 0.3036043047904968, 0.2656514346599579, 0.3599002957344055, 0.3363732099533081, 0.36476898193359375, 0.3180864751338959, 0.2688519358634949, 0.34075111150741577]}, {\"customdata\": [[\"is metformin a diabetes medication ?\", \"medic metformin treat without side\", 46], [\"how can diabetes be treated without medications ?\", \"medic metformin treat without side\", 46], [\"what are the side effects not taking diabetes medication ?\", \"medic metformin treat without side\", 46], [\"difference between shots and pills for diabetes ?\", \"medic metformin treat without side\", 46], [\"why is viagra needed for men with diabetes ?\", \"medic metformin treat without side\", 46], [\"is drinking of <unk> is harmful for diabetes patients ?\", \"medic metformin treat without side\", 46]], \"hovertemplate\": \"summary=%{customdata[1]}<br>pc_1=%{x}<br>pc_2=%{y}<br>pc_3=%{z}<br>question=%{customdata[0]}<br>label=%{customdata[2]}<extra></extra>\", \"legendgroup\": \"medic metformin treat without side\", \"marker\": {\"color\": \"#B6E880\", \"size\": 8, \"symbol\": \"circle\"}, \"mode\": \"markers\", \"name\": \"medic metformin treat without side\", \"scene\": \"scene\", \"showlegend\": true, \"type\": \"scatter3d\", \"x\": [0.1578906774520874, 0.026296773925423622, 0.06816819310188293, 0.07636389136314392, 0.051751330494880676, -0.0007125246920622885], \"y\": [-0.21630613505840302, -0.09304578602313995, -0.24388697743415833, -0.1651085913181305, -0.218745157122612, -0.1358179748058319], \"z\": [0.4633810222148895, 0.42957180738449097, 0.4128399193286896, 0.47255605459213257, 0.5283980965614319, 0.49106669425964355]}, {\"customdata\": [[\"what is it called when glucose gets too low ?\", \"glucos blood concentr high low\", 43], [\"high concentration of glucose in the blood ?\", \"glucos blood concentr high low\", 43], [\"what happens when glucose <unk> toxic levels ?\", \"glucos blood concentr high low\", 43], [\"why do you feel hungry when glucose levels fall in the blood ?\", \"glucos blood concentr high low\", 43], [\"which term describes an abnormally high concentration of glucose in the blood ?\", \"glucos blood concentr high low\", 43], [\"what two factors influence blood glucose concentration ?\", \"glucos blood concentr high low\", 43], [\"why is high glucose bad ?\", \"glucos blood concentr high low\", 43], [\"abnormally low concentration of glucose in the blood ?\", \"glucos blood concentr high low\", 43]], \"hovertemplate\": \"summary=%{customdata[1]}<br>pc_1=%{x}<br>pc_2=%{y}<br>pc_3=%{z}<br>question=%{customdata[0]}<br>label=%{customdata[2]}<extra></extra>\", \"legendgroup\": \"glucos blood concentr high low\", \"marker\": {\"color\": \"#FF97FF\", \"size\": 8, \"symbol\": \"circle\"}, \"mode\": \"markers\", \"name\": \"glucos blood concentr high low\", \"scene\": \"scene\", \"showlegend\": true, \"type\": \"scatter3d\", \"x\": [0.17695678770542145, 0.07087671756744385, 0.1562994122505188, 0.10409551858901978, 0.044590432196855545, 0.12271825969219208, 0.16252313554286957, 0.05639050155878067], \"y\": [-0.3342060148715973, -0.3146266043186188, -0.39186909794807434, -0.40923193097114563, -0.3034439980983734, -0.33267977833747864, -0.27375438809394836, -0.36365988850593567], \"z\": [-0.35140323638916016, -0.23465058207511902, -0.3244501054286957, -0.2351578027009964, -0.2308209240436554, -0.2767884433269501, -0.32965490221977234, -0.2248191088438034]}, {\"customdata\": [[\"what <unk> is diabetes most common ?\", \"common relat sugar borderlin born\", 18], [\"what diabetes can you be born with ?\", \"common relat sugar borderlin born\", 18], [\"is <unk> effective in diabetes ?\", \"common relat sugar borderlin born\", 18], [\"is diabetes hormonal ?\", \"common relat sugar borderlin born\", 18], [\"is glucose related to diabetes ?\", \"common relat sugar borderlin born\", 18], [\"is diabetes a <unk> ?\", \"common relat sugar borderlin born\", 18], [\"what is another term for juvenile diabetes ?\", \"common relat sugar borderlin born\", 18], [\"is diabetes insipidus recognized as a disability ?\", \"common relat sugar borderlin born\", 18], [\"what does diabetes do ?\", \"common relat sugar borderlin born\", 18], [\"how is diabetes inherited ?\", \"common relat sugar borderlin born\", 18], [\"is diabetes always about sugar ?\", \"common relat sugar borderlin born\", 18], [\"why is the diabetes <unk> ?\", \"common relat sugar borderlin born\", 18], [\"how is diabetes <unk> ?\", \"common relat sugar borderlin born\", 18], [\"is it possible to reverse diabetes ?\", \"common relat sugar borderlin born\", 18], [\"borderline diabetes ?\", \"common relat sugar borderlin born\", 18], [\"what disease is associated with blood sugar ?\", \"common relat sugar borderlin born\", 18], [\"is diabetes <unk> ?\", \"common relat sugar borderlin born\", 18], [\"is diabetes <unk> or <unk> ?\", \"common relat sugar borderlin born\", 18], [\"what is diabetes <unk> ?\", \"common relat sugar borderlin born\", 18], [\"is there <unk> for diabetes ?\", \"common relat sugar borderlin born\", 18], [\"how is pancreatic dysfunction related to diabetes ?\", \"common relat sugar borderlin born\", 18], [\"is borderline diabetes safe ?\", \"common relat sugar borderlin born\", 18], [\"is diabetes a <unk> ?\", \"common relat sugar borderlin born\", 18], [\"what is the name of a diabetes specialist ?\", \"common relat sugar borderlin born\", 18], [\"at what age can you get diabetes mellitus ?\", \"common relat sugar borderlin born\", 18], [\"is <unk> useful in diabetes ?\", \"common relat sugar borderlin born\", 18], [\"is diabetes <unk> ?\", \"common relat sugar borderlin born\", 18], [\"what is diabetes one and two ?\", \"common relat sugar borderlin born\", 18], [\"is diabetes <unk> ?\", \"common relat sugar borderlin born\", 18], [\"what form of diebetes is most common ?\", \"common relat sugar borderlin born\", 18]], \"hovertemplate\": \"summary=%{customdata[1]}<br>pc_1=%{x}<br>pc_2=%{y}<br>pc_3=%{z}<br>question=%{customdata[0]}<br>label=%{customdata[2]}<extra></extra>\", \"legendgroup\": \"common relat sugar borderlin born\", \"marker\": {\"color\": \"#FECB52\", \"size\": 8, \"symbol\": \"circle\"}, \"mode\": \"markers\", \"name\": \"common relat sugar borderlin born\", \"scene\": \"scene\", \"showlegend\": true, \"type\": \"scatter3d\", \"x\": [0.36109045147895813, 0.1933344453573227, 0.2355729639530182, 0.3455234169960022, 0.2898842990398407, 0.2805825173854828, 0.2882815897464752, 0.2715168297290802, 0.269347220659256, 0.32902148365974426, 0.2574790120124817, 0.2900131940841675, 0.32393425703048706, 0.21509680151939392, 0.29750505089759827, 0.36931896209716797, 0.3134330213069916, 0.26182717084884644, 0.30268532037734985, 0.2885577380657196, 0.37795817852020264, 0.26827472448349, 0.2543643116950989, 0.27839258313179016, 0.18441659212112427, 0.2119445949792862, 0.29506129026412964, 0.3403162956237793, 0.278243750333786, 0.36030447483062744], \"y\": [0.27525368332862854, 0.20835302770137787, 0.29524970054626465, 0.2913236916065216, 0.1623086929321289, 0.26585328578948975, 0.35556501150131226, 0.2897290587425232, 0.24918052554130554, 0.2847643792629242, 0.16935908794403076, 0.2642233371734619, 0.23150110244750977, 0.33203402161598206, 0.36836326122283936, 0.4009137749671936, 0.32903289794921875, 0.21810783445835114, 0.21193596720695496, 0.3764777183532715, 0.25694331526756287, 0.3876016438007355, 0.2649577558040619, 0.20070628821849823, 0.21009616553783417, 0.2588711678981781, 0.30289560556411743, 0.17419567704200745, 0.26285770535469055, 0.2255779653787613], \"z\": [-0.19274258613586426, -0.19784247875213623, -0.13255466520786285, -0.10784739255905151, -0.1666812002658844, -0.22828878462314606, -0.2385806441307068, -0.30566009879112244, -0.032679539173841476, -0.013027634471654892, -0.08649952709674835, -0.08313873410224915, -0.055094584822654724, -0.21149392426013947, -0.07034493237733841, -0.14811712503433228, -0.1568591147661209, -0.16593536734580994, -0.09069252759218216, -0.18505966663360596, -0.06840430200099945, -0.09400290250778198, -0.22743326425552368, -0.26268643140792847, -0.26006871461868286, -0.1131366714835167, -0.14626747369766235, -0.08232297003269196, -0.14182618260383606, -0.2319527566432953]}, {\"customdata\": [[\"what is <unk> ?\", \"word excess thirst caus exactli\", 6], [\"what is the word for excessive thirst ?\", \"word excess thirst caus exactli\", 6], [\"what is a <unk> ?\", \"word excess thirst caus exactli\", 6], [\"what is the cause for <unk> <unk> ?\", \"word excess thirst caus exactli\", 6], [\"what exactly is the diabetes meter ?\", \"word excess thirst caus exactli\", 6], [\"what is <unk> ?\", \"word excess thirst caus exactli\", 6], [\"what is arousal in sport ?\", \"word excess thirst caus exactli\", 6], [\"what is benign dietary ketosis ?\", \"word excess thirst caus exactli\", 6], [\"what is <unk> ?\", \"word excess thirst caus exactli\", 6], [\"what is <unk> ?\", \"word excess thirst caus exactli\", 6], [\"what is pre-diabetic ?\", \"word excess thirst caus exactli\", 6], [\"what is an activity that goes with diabetes ?\", \"word excess thirst caus exactli\", 6], [\"what is dlife ?\", \"word excess thirst caus exactli\", 6], [\"what is <unk> ?\", \"word excess thirst caus exactli\", 6], [\"what is diabetese ?\", \"word excess thirst caus exactli\", 6], [\"what is diabetics one ?\", \"word excess thirst caus exactli\", 6]], \"hovertemplate\": \"summary=%{customdata[1]}<br>pc_1=%{x}<br>pc_2=%{y}<br>pc_3=%{z}<br>question=%{customdata[0]}<br>label=%{customdata[2]}<extra></extra>\", \"legendgroup\": \"word excess thirst caus exactli\", \"marker\": {\"color\": \"#636efa\", \"size\": 8, \"symbol\": \"circle\"}, \"mode\": \"markers\", \"name\": \"word excess thirst caus exactli\", \"scene\": \"scene\", \"showlegend\": true, \"type\": \"scatter3d\", \"x\": [0.5982546210289001, 0.5888682007789612, 0.5812533497810364, 0.6259418725967407, 0.6483139991760254, 0.642303466796875, 0.5641515851020813, 0.5087440609931946, 0.5527907013893127, 0.5825761556625366, 0.6560749411582947, 0.5425323843955994, 0.5699653029441833, 0.6000005602836609, 0.5669232606887817, 0.6292713284492493], \"y\": [-0.2655631899833679, -0.3668968975543976, -0.27817583084106445, -0.3356713354587555, -0.2628767490386963, -0.22228693962097168, -0.29873237013816833, -0.3671610951423645, -0.3462396562099457, -0.3679470121860504, -0.2085675746202469, -0.23919931054115295, -0.3503451347351074, -0.31443649530410767, -0.2998564541339874, -0.3874446153640747], \"z\": [0.20987622439861298, 0.3334527909755707, 0.27214932441711426, 0.3142654001712799, 0.1600375771522522, 0.20729424059391022, 0.1308819204568863, 0.19586949050426483, 0.24055977165699005, 0.23587217926979065, 0.23654866218566895, 0.21780021488666534, 0.19346493482589722, 0.21793240308761597, 0.20832233130931854, 0.17034181952476501]}, {\"customdata\": [[\"are <unk> tests done on diabetics ?\", \"test blood strip done ac\", 48], [\"what does a diabetes blood test for ?\", \"test blood strip done ac\", 48], [\"what is ac test for diabetes ?\", \"test blood strip done ac\", 48], [\"what are some tests for diabetes ?\", \"test blood strip done ac\", 48], [\"what does a full blood <unk> test for ?\", \"test blood strip done ac\", 48], [\"what does the hba1c test find ?\", \"test blood strip done ac\", 48], [\"are contour blood test strips <unk> the same as 7098c ?\", \"test blood strip done ac\", 48], [\"what is the test for feline diabetes diagnosis ?\", \"test blood strip done ac\", 48], [\"what do the test strips for diabetes test for ?\", \"test blood strip done ac\", 48], [\"are diabetic test strips <unk> ?\", \"test blood strip done ac\", 48]], \"hovertemplate\": \"summary=%{customdata[1]}<br>pc_1=%{x}<br>pc_2=%{y}<br>pc_3=%{z}<br>question=%{customdata[0]}<br>label=%{customdata[2]}<extra></extra>\", \"legendgroup\": \"test blood strip done ac\", \"marker\": {\"color\": \"#EF553B\", \"size\": 8, \"symbol\": \"circle\"}, \"mode\": \"markers\", \"name\": \"test blood strip done ac\", \"scene\": \"scene\", \"showlegend\": true, \"type\": \"scatter3d\", \"x\": [-0.0046157329343259335, 0.10709075629711151, 0.08478058129549026, 0.03346554562449455, 0.08411766588687897, 0.14549556374549866, -0.0011777053587138653, 0.060282472521066666, 0.061142779886722565, -0.015975862741470337], \"y\": [0.3066059648990631, 0.3375990390777588, 0.2980530858039856, 0.30437418818473816, 0.3165282905101776, 0.32216620445251465, 0.23323829472064972, 0.35721123218536377, 0.2835440933704376, 0.2616702616214752], \"z\": [0.3890102207660675, 0.3396248519420624, 0.4035511016845703, 0.4059300124645233, 0.31718194484710693, 0.37303104996681213, 0.32164037227630615, 0.406048446893692, 0.34443479776382446, 0.3337163031101227]}, {\"customdata\": [[\"can diabetes cause severe depression ?\", \"caus drowsi sever depress urin\", 16], [\"can urinating cause diabetes ?\", \"caus drowsi sever depress urin\", 16], [\"can diabetes cause nausea ?\", \"caus drowsi sever depress urin\", 16], [\"can diabetes medicine cause drowsiness ?\", \"caus drowsi sever depress urin\", 16], [\"can fasting cause diabetes ?\", \"caus drowsi sever depress urin\", 16], [\"can <unk> cause diabetes ?\", \"caus drowsi sever depress urin\", 16], [\"is the cause of diabetes environmental or hereditary ?\", \"caus drowsi sever depress urin\", 16], [\"does diabetes cause liver enzymes to be elevated ?\", \"caus drowsi sever depress urin\", 16], [\"can diabetes cause organ shut down ?\", \"caus drowsi sever depress urin\", 16], [\"can diabetes cause drowsiness ?\", \"caus drowsi sever depress urin\", 16], [\"can diabetes cause <unk> ?\", \"caus drowsi sever depress urin\", 16], [\"could not getting enough sun cause diabetes ?\", \"caus drowsi sever depress urin\", 16], [\"why diabetes causes kidney damage ?\", \"caus drowsi sever depress urin\", 16], [\"can hypoglycemia lead to diabetes ?\", \"caus drowsi sever depress urin\", 16], [\"why can not diabetes be spread ?\", \"caus drowsi sever depress urin\", 16]], \"hovertemplate\": \"summary=%{customdata[1]}<br>pc_1=%{x}<br>pc_2=%{y}<br>pc_3=%{z}<br>question=%{customdata[0]}<br>label=%{customdata[2]}<extra></extra>\", \"legendgroup\": \"caus drowsi sever depress urin\", \"marker\": {\"color\": \"#00cc96\", \"size\": 8, \"symbol\": \"circle\"}, \"mode\": \"markers\", \"name\": \"caus drowsi sever depress urin\", \"scene\": \"scene\", \"showlegend\": true, \"type\": \"scatter3d\", \"x\": [0.03487774729728699, 0.10724937170743942, 0.05938592925667763, 0.06621604412794113, 0.09920991212129593, 0.14274178445339203, 0.18377332389354706, 0.12646648287773132, 0.16966164112091064, 0.09645678848028183, 0.12826046347618103, 0.10221651941537857, 0.19429728388786316, 0.13862143456935883, 0.1417860984802246], \"y\": [0.23237650096416473, 0.27403444051742554, 0.22110633552074432, 0.21308445930480957, 0.25893720984458923, 0.24654488265514374, 0.24689410626888275, 0.1864393949508667, 0.26438355445861816, 0.21033376455307007, 0.23905804753303528, 0.3681153953075409, 0.21700818836688995, 0.14577800035476685, 0.31338194012641907], \"z\": [-0.7483869791030884, -0.6970495581626892, -0.706635594367981, -0.6437622904777527, -0.6012621521949768, -0.6802095174789429, -0.6332947015762329, -0.5895168781280518, -0.7324832677841187, -0.7193944454193115, -0.6494617462158203, -0.7164127826690674, -0.7123015522956848, -0.6777544021606445, -0.6283450126647949]}, {\"customdata\": [[\"what are the symptomes of juvenile diabetes ?\", \"type two one mellitu differ\", 15], [\"what are the names of the different type of diabetes ?\", \"type two one mellitu differ\", 15], [\"type two diabetes is known as insulin dependent diabetes ?\", \"type two one mellitu differ\", 15], [\"what percentage of diabetics are type one ?\", \"type two one mellitu differ\", 15], [\"what is type one diabetes and type two ?\", \"type two one mellitu differ\", 15], [\"what is the absolute most dangerous type of diabetes and what is it ?\", \"type two one mellitu differ\", 15], [\"what is two types of diabetes ?\", \"type two one mellitu differ\", 15], [\"is borderline diabetes also known as type two ?\", \"type two one mellitu differ\", 15], [\"what are some of the effects of type one diabetes ?\", \"type two one mellitu differ\", 15], [\"are there stages of diabetes ?\", \"type two one mellitu differ\", 15], [\"what limitations does a person with diabetes type one have ?\", \"type two one mellitu differ\", 15], [\"how does a type one diabetic become insulin resistance ?\", \"type two one mellitu differ\", 15], [\"what are the <unk> for type two diabetes ?\", \"type two one mellitu differ\", 15], [\"two what are the common types of <unk> ?\", \"type two one mellitu differ\", 15], [\"what type of diabetes is known as the water diabetes ?\", \"type two one mellitu differ\", 15], [\"which type of diabetes mellitus is an insulin resistance disorder gestational type one or type two ?\", \"type two one mellitu differ\", 15], [\"what is type one diabetes ?\", \"type two one mellitu differ\", 15], [\"what condition is insulin resistance of fat cells type one diabetes or type two diabetes ?\", \"type two one mellitu differ\", 15], [\"how do you have know if it is a type one or type two diabetes ?\", \"type two one mellitu differ\", 15], [\"what are the two types of diabetes and how do they differ ?\", \"type two one mellitu differ\", 15], [\"can type ii diabetes turn into type i diabetes ?\", \"type two one mellitu differ\", 15], [\"what causes type i diabetes mellitus ?\", \"type two one mellitu differ\", 15], [\"how are type one diabetes and type two diabetes similar ?\", \"type two one mellitu differ\", 15], [\"what type of diabetes develops during adulthood ?\", \"type two one mellitu differ\", 15], [\"type ii diabetes mellitus is characterized by ?\", \"type two one mellitu differ\", 15], [\"does <unk> <unk> have type one diabetes ?\", \"type two one mellitu differ\", 15], [\"when is type two diabetes developed ?\", \"type two one mellitu differ\", 15], [\"how are type one and type two diabetes different ?\", \"type two one mellitu differ\", 15], [\"what types of diabetes would you rather have ?\", \"type two one mellitu differ\", 15], [\"what is the primary organ involved with type one diabetes mellitus ?\", \"type two one mellitu differ\", 15], [\"what type of disorder is diabetes type two ?\", \"type two one mellitu differ\", 15], [\"what are the <unk> of diabetes ?\", \"type two one mellitu differ\", 15], [\"type ii diabetes is known as non-insulin dependent diabetes ?\", \"type two one mellitu differ\", 15], [\"what is associated with type one diabetes ?\", \"type two one mellitu differ\", 15], [\"type one diabetes is known as non-insulin dependent diabetes ?\", \"type two one mellitu differ\", 15], [\"how common is type ii diabetes ?\", \"type two one mellitu differ\", 15], [\"what are the different <unk> a type one diabetes person has ?\", \"type two one mellitu differ\", 15], [\"is there type three diabetes ?\", \"type two one mellitu differ\", 15], [\"where can one learn about diabetes mellitus type two ?\", \"type two one mellitu differ\", 15], [\"what are three types of diabetes ?\", \"type two one mellitu differ\", 15], [\"what is the worst stage of type two diabetes ?\", \"type two one mellitu differ\", 15], [\"are there different types of diabetes ?\", \"type two one mellitu differ\", 15], [\"<unk> describe the four types of diabetes insipidus ?\", \"type two one mellitu differ\", 15], [\"what are the different types of glucometers ?\", \"type two one mellitu differ\", 15], [\"what are the most common causes of type two diabetes ?\", \"type two one mellitu differ\", 15], [\"what are the symptoms that <unk> between type i and type ii diabetes ?\", \"type two one mellitu differ\", 15], [\"why would athletes develop type two diabetes ?\", \"type two one mellitu differ\", 15], [\"how many types of diabetes are there and how to know one type two type and three type diabetes ?\", \"type two one mellitu differ\", 15], [\"what is diabetes type one and two ?\", \"type two one mellitu differ\", 15], [\"what causes type one diabetes mellitus ?\", \"type two one mellitu differ\", 15], [\"what are the effects of having type two diabetes ?\", \"type two one mellitu differ\", 15], [\"what kind of diabetes are there ?\", \"type two one mellitu differ\", 15], [\"describe diabetes mellitus type two in your own words ?\", \"type two one mellitu differ\", 15], [\"what are types of diabetes ?\", \"type two one mellitu differ\", 15], [\"what are two main types of diabetes ?\", \"type two one mellitu differ\", 15], [\"what types of diabetes are there ?\", \"type two one mellitu differ\", 15], [\"did elvis <unk> <unk> have diabetes type one or two ?\", \"type two one mellitu differ\", 15], [\"what is the most serious type of diabetes ?\", \"type two one mellitu differ\", 15]], \"hovertemplate\": \"summary=%{customdata[1]}<br>pc_1=%{x}<br>pc_2=%{y}<br>pc_3=%{z}<br>question=%{customdata[0]}<br>label=%{customdata[2]}<extra></extra>\", \"legendgroup\": \"type two one mellitu differ\", \"marker\": {\"color\": \"#ab63fa\", \"size\": 8, \"symbol\": \"circle\"}, \"mode\": \"markers\", \"name\": \"type two one mellitu differ\", \"scene\": \"scene\", \"showlegend\": true, \"type\": \"scatter3d\", \"x\": [0.7407326102256775, 0.6097280979156494, 0.4479655623435974, 0.6604925990104675, 0.5603939890861511, 0.5018252730369568, 0.6208838224411011, 0.5106186270713806, 0.7161001563072205, 0.7672448754310608, 0.5280923247337341, 0.45966389775276184, 0.622553288936615, 0.6588758826255798, 0.5036705136299133, 0.477771520614624, 0.4465547502040863, 0.463766872882843, 0.4810144007205963, 0.7082626819610596, 0.5054222941398621, 0.5651860237121582, 0.5762019753456116, 0.5290630459785461, 0.5599240660667419, 0.4786733388900757, 0.549686074256897, 0.6061750054359436, 0.6483825445175171, 0.5949311256408691, 0.6493077278137207, 0.7268480062484741, 0.49471065402030945, 0.4818600118160248, 0.4656315743923187, 0.5491176843643188, 0.5602367520332336, 0.5092253088951111, 0.6208347082138062, 0.6780778169631958, 0.5839300155639648, 0.7091814279556274, 0.6270804405212402, 0.6677241325378418, 0.6359229683876038, 0.5916339159011841, 0.4706335961818695, 0.578795850276947, 0.5682771801948547, 0.5953100919723511, 0.7428427934646606, 0.7240873575210571, 0.5983224511146545, 0.6789363026618958, 0.6503634452819824, 0.7026569247245789, 0.5239213705062866, 0.5297573804855347], \"y\": [0.030582668259739876, 0.21999511122703552, 0.14958158135414124, 0.2794913053512573, 0.09689497202634811, 0.037993174046278, 0.08483321964740753, 0.1970023661851883, 0.19403201341629028, 0.14166386425495148, 0.13422849774360657, -0.005192555487155914, 0.10039273649454117, 0.24866844713687897, 0.049431998282670975, 0.028549447655677795, 0.11140692979097366, 0.0208475012332201, 0.1683734506368637, 0.23091630637645721, 0.09047582000494003, 0.03854859620332718, 0.15475255250930786, 0.04366142675280571, -0.008117501623928547, 0.2180265635251999, 0.08685208857059479, 0.13696102797985077, 0.18824903666973114, -0.009187208488583565, 0.05614341422915459, 0.013619065284729004, 0.149881973862648, 0.10471485555171967, 0.17155568301677704, 0.126523956656456, 0.11386211961507797, 0.1452244520187378, 0.07003039866685867, 0.18421880900859833, 0.04062572494149208, 0.1252635419368744, 0.17327779531478882, 0.21822497248649597, 0.2643514573574066, 0.1564868688583374, 0.2366650253534317, 0.1811828464269638, 0.08338619023561478, -0.04814479872584343, 0.21136632561683655, 0.14760850369930267, 0.06714018434286118, 0.0640660896897316, 0.12988729774951935, 0.08506492525339127, 0.2297554463148117, 0.0317724272608757], \"z\": [0.04562174901366234, 0.031121062114834785, -0.23707669973373413, 0.0968056246638298, -0.10521876066923141, 0.02083940990269184, 0.018881721422076225, -0.26003164052963257, -0.02114076167345047, 0.057346027344465256, 0.036243986338377, -0.1623179167509079, 0.0778317004442215, 0.007819353602826595, -0.06155093386769295, -0.26572221517562866, -0.10931703448295593, -0.22816212475299835, 0.0038835799787193537, 0.05209457501769066, -0.22364547848701477, -0.2314179539680481, -0.1329413503408432, -0.17092914879322052, -0.2945140302181244, -0.17139163613319397, -0.18416832387447357, -0.1064860075712204, 0.11386503279209137, -0.12302947789430618, -0.09149492532014847, 0.09747619181871414, -0.29293495416641235, -0.09099727869033813, -0.25938937067985535, -0.22191815078258514, 0.014785136096179485, -0.11233724653720856, -0.18964441120624542, 0.062072545289993286, 0.011764165945351124, 0.032281938940286636, -0.037042226642370224, 0.029841765761375427, -0.03831155225634575, -0.20121566951274872, -0.10787869244813919, -0.10915758460760117, -0.06642977148294449, -0.19642435014247894, -0.023375624790787697, 0.11104493588209152, -0.2397105097770691, 0.050535690039396286, 0.04251944273710251, 0.058718156069517136, -0.14932222664356232, 0.03190028294920921]}, {\"customdata\": [[\"can a diabetic join a <unk> team ?\", \"take join team massag borderlin\", 37], [\"can you massage on a diabetic ?\", \"take join team massag borderlin\", 37], [\"can you be a borderline diabetic ?\", \"take join team massag borderlin\", 37], [\"can a diabetic do a <unk> tattoo ?\", \"take join team massag borderlin\", 37], [\"can a diabetic take <unk> ?\", \"take join team massag borderlin\", 37], [\"what can you drink besides water being border line diabetic ?\", \"take join team massag borderlin\", 37], [\"can a diabetic have <unk> regularly ?\", \"take join team massag borderlin\", 37], [\"can diabetic take <unk> ?\", \"take join team massag borderlin\", 37], [\"can a diabetic patient have <unk> <unk> ?\", \"take join team massag borderlin\", 37], [\"should a diabetic use a sauna ?\", \"take join team massag borderlin\", 37]], \"hovertemplate\": \"summary=%{customdata[1]}<br>pc_1=%{x}<br>pc_2=%{y}<br>pc_3=%{z}<br>question=%{customdata[0]}<br>label=%{customdata[2]}<extra></extra>\", \"legendgroup\": \"take join team massag borderlin\", \"marker\": {\"color\": \"#FFA15A\", \"size\": 8, \"symbol\": \"circle\"}, \"mode\": \"markers\", \"name\": \"take join team massag borderlin\", \"scene\": \"scene\", \"showlegend\": true, \"type\": \"scatter3d\", \"x\": [-0.4127519726753235, -0.327053427696228, -0.36548909544944763, -0.3874010443687439, -0.3617323040962219, -0.3238649070262909, -0.28128311038017273, -0.3381877541542053, -0.2988075613975525, -0.37166526913642883], \"y\": [-0.3362998366355896, -0.2855653762817383, -0.40850594639778137, -0.37519267201423645, -0.3315693140029907, -0.3048027455806732, -0.3711823523044586, -0.3263237476348877, -0.3102579712867737, -0.26536816358566284], \"z\": [0.34073400497436523, 0.4294433295726776, 0.3205483853816986, 0.4415658712387085, 0.3556421101093292, 0.28537529706954956, 0.3470545709133148, 0.3342243731021881, 0.3796694278717041, 0.3780159056186676]}, {\"customdata\": [[\"is <unk> okay for a diabetic ?\", \"good person patient chees okay\", 28], [\"is stevia ok for diabetic ?\", \"good person patient chees okay\", 28], [\"is tonic water good for diabetic ?\", \"good person patient chees okay\", 28], [\"is sugarcane good for a diabetic ?\", \"good person patient chees okay\", 28], [\"is <unk> good for diabetic ?\", \"good person patient chees okay\", 28], [\"is yogurt good for a diabetic ?\", \"good person patient chees okay\", 28], [\"why is <unk> good for diabetic people ?\", \"good person patient chees okay\", 28], [\"is honey not good for a diabetic person ?\", \"good person patient chees okay\", 28], [\"which beer is good for diabetic patients ?\", \"good person patient chees okay\", 28], [\"is grapes not good for diabetic ?\", \"good person patient chees okay\", 28], [\"is cheese good for a diabetic ?\", \"good person patient chees okay\", 28], [\"is lettuce good for diabetic ?\", \"good person patient chees okay\", 28], [\"is cereal suitable for diabetic patient ?\", \"good person patient chees okay\", 28], [\"is cheese good for a diabetic person ?\", \"good person patient chees okay\", 28]], \"hovertemplate\": \"summary=%{customdata[1]}<br>pc_1=%{x}<br>pc_2=%{y}<br>pc_3=%{z}<br>question=%{customdata[0]}<br>label=%{customdata[2]}<extra></extra>\", \"legendgroup\": \"good person patient chees okay\", \"marker\": {\"color\": \"#19d3f3\", \"size\": 8, \"symbol\": \"circle\"}, \"mode\": \"markers\", \"name\": \"good person patient chees okay\", \"scene\": \"scene\", \"showlegend\": true, \"type\": \"scatter3d\", \"x\": [-0.48957836627960205, -0.4460909068584442, -0.5079622268676758, -0.5545135736465454, -0.4890082776546478, -0.5306192636489868, -0.4677433669567108, -0.5660951733589172, -0.48115074634552, -0.5404320955276489, -0.5666584372520447, -0.5334453582763672, -0.6281455159187317, -0.5798556208610535], \"y\": [-0.26240432262420654, -0.21523602306842804, -0.19603584706783295, -0.2116629183292389, -0.20591594278812408, -0.2304183393716812, -0.17524157464504242, -0.18525660037994385, -0.1639944612979889, -0.15307322144508362, -0.24613702297210693, -0.12997405230998993, -0.18094876408576965, -0.27674543857574463], \"z\": [0.2870508134365082, 0.29637688398361206, 0.3571389317512512, 0.26171308755874634, 0.27210360765457153, 0.2087804228067398, 0.2321341335773468, 0.17243079841136932, 0.33135029673576355, 0.20553861558437347, 0.2139250487089157, 0.2712147533893585, 0.26178890466690063, 0.22178208827972412]}, {\"customdata\": [[\"why is there not a cure for diabetes ?\", \"cure type2 home remedi treat\", 17], [\"is there cure for <unk> ?\", \"cure type2 home remedi treat\", 17], [\"does diabetes type2 have a cure ?\", \"cure type2 home remedi treat\", 17], [\"are there any home remedies to treat diabetes ?\", \"cure type2 home remedi treat\", 17], [\"what is a cure for diabetes ?\", \"cure type2 home remedi treat\", 17], [\"is there a cure for blood diabetes ?\", \"cure type2 home remedi treat\", 17], [\"what is the cure if a diabetes ?\", \"cure type2 home remedi treat\", 17], [\"is there new injection to cure diabetic ?\", \"cure type2 home remedi treat\", 17], [\"diabetes cure ?\", \"cure type2 home remedi treat\", 17]], \"hovertemplate\": \"summary=%{customdata[1]}<br>pc_1=%{x}<br>pc_2=%{y}<br>pc_3=%{z}<br>question=%{customdata[0]}<br>label=%{customdata[2]}<extra></extra>\", \"legendgroup\": \"cure type2 home remedi treat\", \"marker\": {\"color\": \"#FF6692\", \"size\": 8, \"symbol\": \"circle\"}, \"mode\": \"markers\", \"name\": \"cure type2 home remedi treat\", \"scene\": \"scene\", \"showlegend\": true, \"type\": \"scatter3d\", \"x\": [0.25209346413612366, 0.21654637157917023, 0.2356472760438919, 0.1375144124031067, 0.25655579566955566, 0.21983662247657776, 0.2980775535106659, 0.21228821575641632, 0.24529531598091125], \"y\": [-0.3121437430381775, -0.28691616654396057, -0.2739761769771576, -0.26137596368789673, -0.29055649042129517, -0.321323037147522, -0.3021571934223175, -0.3662436902523041, -0.23927736282348633], \"z\": [0.78945392370224, 0.7628682255744934, 0.8348311185836792, 0.7289299964904785, 0.7285978198051453, 0.7462506890296936, 0.7356259226799011, 0.7825462818145752, 0.819867730140686]}, {\"customdata\": [[\"can diabetes medicine taken with urine therapy ?\", \"treatment type medicin medic treat\", 7], [\"how many days of medicine should be prescribed to patients with chronic diseases ?\", \"treatment type medicin medic treat\", 7], [\"what are the results of not taking medicine for diabetes ?\", \"treatment type medicin medic treat\", 7], [\"what kind of different treatments are there for diabetes ?\", \"treatment type medicin medic treat\", 7], [\"what is the holistic approach to diabetes treatment ?\", \"treatment type medicin medic treat\", 7], [\"what medicine is there to control diabetes ?\", \"treatment type medicin medic treat\", 7], [\"what is is the treatment for type one diabetes ?\", \"treatment type medicin medic treat\", 7], [\"what can one use to help gout pain in hand ?\", \"treatment type medicin medic treat\", 7], [\"what is the herbal treatment of diabetes ?\", \"treatment type medicin medic treat\", 7], [\"medications for diabetes ?\", \"treatment type medicin medic treat\", 7], [\"how are <unk> types one and two treated ?\", \"treatment type medicin medic treat\", 7], [\"what are the medications associated with diabetes ?\", \"treatment type medicin medic treat\", 7], [\"how many times should you need to calibrate your glucometer in a week ?\", \"treatment type medicin medic treat\", 7], [\"explain the health education for diabetic patient ?\", \"treatment type medicin medic treat\", 7], [\"what diabetes is mainly treated with insulin injections received several times a day ?\", \"treatment type medicin medic treat\", 7], [\"what are some alternative treatment options for diabetes besides medications ?\", \"treatment type medicin medic treat\", 7], [\"treatments for type one of diabetes ?\", \"treatment type medicin medic treat\", 7], [\"how are patients with type i diabetes treated ?\", \"treatment type medicin medic treat\", 7], [\"can vitamins get rid of diabetes ?\", \"treatment type medicin medic treat\", 7], [\"natural diabetes treatment ?\", \"treatment type medicin medic treat\", 7], [\"what are the different types of insulin currently available for diabetes patients ?\", \"treatment type medicin medic treat\", 7], [\"what are some past treatments for diabetes ?\", \"treatment type medicin medic treat\", 7], [\"what supplements should be taken for diabetes ?\", \"treatment type medicin medic treat\", 7], [\"what alternative treatments can help <unk> the symptoms of diabetes ?\", \"treatment type medicin medic treat\", 7], [\"diabetes education for patients ?\", \"treatment type medicin medic treat\", 7], [\"what types of medication are currently available for diabetes ?\", \"treatment type medicin medic treat\", 7], [\"what supplements can help with diabetes ?\", \"treatment type medicin medic treat\", 7], [\"what are the natural remedies for diabetes ?\", \"treatment type medicin medic treat\", 7], [\"what are the best types of insulin syringes for the treatment of diabetes ?\", \"treatment type medicin medic treat\", 7], [\"how long till you have a cure for type two diabetes ?\", \"treatment type medicin medic treat\", 7], [\"what kind of treatments are there for treating diabetes ?\", \"treatment type medicin medic treat\", 7], [\"what nutrilite product a women with cancer can take ?\", \"treatment type medicin medic treat\", 7], [\"what is three available treatments for diabetes ?\", \"treatment type medicin medic treat\", 7], [\"does having diabetes affect the healing of <unk> herpes ?\", \"treatment type medicin medic treat\", 7], [\"what are medications that people with diabetes take ?\", \"treatment type medicin medic treat\", 7], [\"what is the medicine for diabetes ?\", \"treatment type medicin medic treat\", 7], [\"how can you improve your health when you have diabetes ?\", \"treatment type medicin medic treat\", 7], [\"what is the treatment for diabetes ?\", \"treatment type medicin medic treat\", 7], [\"what are current treatments for diabetes ?\", \"treatment type medicin medic treat\", 7], [\"what are some medical terms <unk> to diabetes ?\", \"treatment type medicin medic treat\", 7], [\"where can you find out more about diabetes medicines ?\", \"treatment type medicin medic treat\", 7], [\"how is diabetes treated through <unk> healing ?\", \"treatment type medicin medic treat\", 7], [\"latest medicine for type two diabetes ?\", \"treatment type medicin medic treat\", 7], [\"what are some effective medicines that treat diabetes ?\", \"treatment type medicin medic treat\", 7], [\"are there any <unk> treatments for diabetes ?\", \"treatment type medicin medic treat\", 7], [\"what is a drug taken by diabetics ?\", \"treatment type medicin medic treat\", 7], [\"will current treatments for diabetes continue to work ?\", \"treatment type medicin medic treat\", 7], [\"how do you use diabetes and sensitivity issues health product ?\", \"treatment type medicin medic treat\", 7], [\"how long does it take for diabetes to effect your health ?\", \"treatment type medicin medic treat\", 7], [\"how is wheat grass therapy taken ?\", \"treatment type medicin medic treat\", 7], [\"what health problems will <unk> salt interfere with ?\", \"treatment type medicin medic treat\", 7], [\"what are various treatment options for type one diabetes ?\", \"treatment type medicin medic treat\", 7], [\"what medications are used to treat diabetes mellitus ?\", \"treatment type medicin medic treat\", 7], [\"can you get diabetes from medications ?\", \"treatment type medicin medic treat\", 7], [\"what are some of the major diabetes symptoms a health care worker should look for ?\", \"treatment type medicin medic treat\", 7], [\"what types of treatment are available for diabetics ?\", \"treatment type medicin medic treat\", 7], [\"what is the most common medicine for diabetes ?\", \"treatment type medicin medic treat\", 7], [\"diabetes medication ?\", \"treatment type medicin medic treat\", 7], [\"what are treatments for high glucose levels ?\", \"treatment type medicin medic treat\", 7], [\"why increase water with diabetes ?\", \"treatment type medicin medic treat\", 7]], \"hovertemplate\": \"summary=%{customdata[1]}<br>pc_1=%{x}<br>pc_2=%{y}<br>pc_3=%{z}<br>question=%{customdata[0]}<br>label=%{customdata[2]}<extra></extra>\", \"legendgroup\": \"treatment type medicin medic treat\", \"marker\": {\"color\": \"#B6E880\", \"size\": 8, \"symbol\": \"circle\"}, \"mode\": \"markers\", \"name\": \"treatment type medicin medic treat\", \"scene\": \"scene\", \"showlegend\": true, \"type\": \"scatter3d\", \"x\": [0.08147340267896652, 0.027702290564775467, 0.08000476658344269, 0.12379027158021927, 0.22757211327552795, 0.3010869026184082, 0.2793164849281311, -0.027212902903556824, 0.23038163781166077, 0.11035358160734177, 0.030550066381692886, 0.16383793950080872, -0.1334754377603531, -0.020090322941541672, 0.13399113714694977, 0.11594986915588379, 0.109517902135849, 0.06698321551084518, 0.01995621807873249, 0.09380519390106201, 0.052522655576467514, 0.1492682546377182, 0.05923137813806534, 0.18587902188301086, -0.006489220540970564, 0.049740828573703766, 0.013775105588138103, 0.16508831083774567, 0.04894924536347389, 0.07608169317245483, 0.23390014469623566, -0.0086104366928339, 0.09979293495416641, 0.07800906896591187, 0.10613219439983368, 0.2827763557434082, -0.09220533072948456, 0.26662519574165344, 0.25983327627182007, 0.09628064930438995, -0.10974464565515518, 0.015437489375472069, 0.10098563879728317, 0.13690899312496185, 0.14792826771736145, 0.124198779463768, 0.05377122759819031, -0.07865498960018158, -0.06143860146403313, 0.21184484660625458, -0.06983532756567001, 0.100377157330513, 0.22125636041164398, 0.02925441414117813, -0.03381197527050972, 0.014285337179899216, 0.13806146383285522, 0.13788819313049316, 0.06807320564985275, 0.13990819454193115], \"y\": [-0.010193354450166225, 0.03724329173564911, 0.11702452600002289, -0.09265636652708054, -0.06345022469758987, -0.11253184825181961, -0.22847862541675568, -0.020990746095776558, -0.16074441373348236, -0.15750481188297272, -0.04219876974821091, -0.11291351914405823, 0.14192408323287964, 0.17220963537693024, 0.09523537009954453, -0.18719343841075897, -0.05318364128470421, -0.033426642417907715, -0.0074791875667870045, 0.010873939841985703, -0.1511615365743637, -0.15882445871829987, 0.07620970904827118, -0.15393730998039246, 0.133257195353508, -0.16494180262088776, 0.04881547391414642, -0.1029110997915268, -0.11949365586042404, -0.02742817811667919, -0.17361731827259064, 0.07861572504043579, -0.16942748427391052, 0.03363027796149254, -0.09479204565286636, -0.16365820169448853, 0.10874251276254654, -0.1904776394367218, -0.15447504818439484, -0.08593273907899857, 0.045254338532686234, -0.03962443396449089, 0.06975504010915756, -0.21447418630123138, -0.22804796695709229, -0.07540005445480347, -0.22479753196239471, 0.12206389009952545, 0.08736203610897064, -0.0081864008679986, 0.041544392704963684, -0.12221304327249527, -0.11709488183259964, -0.05162622034549713, 0.16473615169525146, -0.1522178202867508, -0.03751709312200546, -0.1736539900302887, -0.12536437809467316, 0.013703390024602413], \"z\": [0.48911213874816895, 0.5650818347930908, 0.4726000130176544, 0.6561100482940674, 0.6022269129753113, 0.5605523586273193, 0.5820306539535522, 0.5332679748535156, 0.6016537547111511, 0.5122929811477661, 0.6226097941398621, 0.5545503497123718, 0.4675661325454712, 0.5300754904747009, 0.6012612581253052, 0.6194790005683899, 0.6797334551811218, 0.5606784224510193, 0.4246312081813812, 0.5775552988052368, 0.739648699760437, 0.6712462902069092, 0.45414209365844727, 0.6250319480895996, 0.5609535574913025, 0.705960750579834, 0.4240552484989166, 0.6878847479820251, 0.7799191474914551, 0.7163296341896057, 0.6825302243232727, 0.48467543721199036, 0.674491286277771, 0.6327627897262573, 0.515625, 0.5939165949821472, 0.44918885827064514, 0.6086165308952332, 0.6963651776313782, 0.5702221393585205, 0.4509708881378174, 0.5360981822013855, 0.5631682872772217, 0.5907822847366333, 0.7240520119667053, 0.46892350912094116, 0.6314003467559814, 0.4154927730560303, 0.5044483542442322, 0.6105567216873169, 0.5494564175605774, 0.7189626693725586, 0.5023635625839233, 0.42657023668289185, 0.45785489678382874, 0.7003712058067322, 0.6129233241081238, 0.4909822940826416, 0.6235916614532471, 0.5366177558898926]}, {\"customdata\": [[\"what on <unk> is diabetes ?\", \"two real author type fear\", 33], [\"is diabetes real ?\", \"two real author type fear\", 33], [\"what is the author is <unk> about type two diabetes ?\", \"two real author type fear\", 33], [\"what is diabetes ?\", \"two real author type fear\", 33], [\"what <unk> is the fear of diabetes ?\", \"two real author type fear\", 33], [\"what is diabetes millitus ?\", \"two real author type fear\", 33], [\"what is the relation of <unk> to diabetes melitus ?\", \"two real author type fear\", 33], [\"what is borderline diabetes ?\", \"two real author type fear\", 33], [\"what <unk> have diabetes ?\", \"two real author type fear\", 33], [\"what is the history of diabetes ?\", \"two real author type fear\", 33], [\"what is <unk> diabetes ?\", \"two real author type fear\", 33], [\"what is diabetes two ?\", \"two real author type fear\", 33], [\"what is level two diabetes ?\", \"two real author type fear\", 33], [\"what are to important <unk> to know about diabetes ?\", \"two real author type fear\", 33], [\"what is <unk> diabetes ?\", \"two real author type fear\", 33], [\"is anorexia part of diabetes ?\", \"two real author type fear\", 33], [\"what is diabetes <unk> . ?\", \"two real author type fear\", 33]], \"hovertemplate\": \"summary=%{customdata[1]}<br>pc_1=%{x}<br>pc_2=%{y}<br>pc_3=%{z}<br>question=%{customdata[0]}<br>label=%{customdata[2]}<extra></extra>\", \"legendgroup\": \"two real author type fear\", \"marker\": {\"color\": \"#FF97FF\", \"size\": 8, \"symbol\": \"circle\"}, \"mode\": \"markers\", \"name\": \"two real author type fear\", \"scene\": \"scene\", \"showlegend\": true, \"type\": \"scatter3d\", \"x\": [0.6067401170730591, 0.5694832801818848, 0.6484500765800476, 0.663392961025238, 0.7288708090782166, 0.6553568840026855, 0.7089227437973022, 0.6257302761077881, 0.5420219898223877, 0.6798175573348999, 0.6899601221084595, 0.5923560261726379, 0.6101508736610413, 0.5564115643501282, 0.6557769179344177, 0.6413568258285522, 0.6138312220573425], \"y\": [-0.10127979516983032, -0.008374870754778385, -0.138578861951828, -0.08571186661720276, -0.0554945133626461, -0.10213595628738403, -0.09730536490678787, -0.1246524527668953, -0.0704202875494957, -0.15886496007442474, -0.10752735286951065, -0.0861174687743187, -0.0691320151090622, -0.09892752766609192, -0.12947216629981995, -0.030535036697983742, -0.06597889959812164], \"z\": [0.21121448278427124, 0.1934881955385208, 0.11497470736503601, 0.27753251791000366, 0.20484532415866852, 0.22614604234695435, 0.17479106783866882, 0.30897650122642517, 0.11532074958086014, 0.16252239048480988, 0.26502904295921326, 0.11004333943128586, 0.0748777687549591, 0.22358617186546326, 0.2590465843677521, 0.17972759902477264, 0.15651880204677582]}, {\"customdata\": [[\"what condition results if insulin is not produced ?\", \"insulin produc releas cell get\", 12], [\"insulin is released into the blood when ?\", \"insulin produc releas cell get\", 12], [\"which of the following <unk> about insulin resistance and pre-diabetes is true ?\", \"insulin produc releas cell get\", 12], [\"why do some organs not need insulin in order to get and process glucose ?\", \"insulin produc releas cell get\", 12], [\"is insulin store in <unk> ?\", \"insulin produc releas cell get\", 12], [\"are there any tissues that are insulin dependent ?\", \"insulin produc releas cell get\", 12], [\"where did best and banting get the insulin from ?\", \"insulin produc releas cell get\", 12], [\"which hormone is responsible for lowering blood suger by <unk> glucose transport into cells ?\", \"insulin produc releas cell get\", 12], [\"info on insulin crystals ?\", \"insulin produc releas cell get\", 12], [\"when injected insulin is best absorbed via which route ?\", \"insulin produc releas cell get\", 12], [\"where did they get the insulin from ?\", \"insulin produc releas cell get\", 12], [\"when is insulin pump given ?\", \"insulin produc releas cell get\", 12], [\"where do you give insulin ?\", \"insulin produc releas cell get\", 12], [\"what are the materials in an insulin pump ?\", \"insulin produc releas cell get\", 12], [\"why is insulin released into the bloodstream ?\", \"insulin produc releas cell get\", 12], [\"does type one diabetes use a hormone called insulin ?\", \"insulin produc releas cell get\", 12], [\"is insulin <unk> ?\", \"insulin produc releas cell get\", 12], [\"what is regular insulin made of ?\", \"insulin produc releas cell get\", 12], [\"how is insulin <unk> ?\", \"insulin produc releas cell get\", 12], [\"is insulin available in <unk> ?\", \"insulin produc releas cell get\", 12], [\"how is a human insulin gene transferred into a bacterium which then makes insulin ?\", \"insulin produc releas cell get\", 12], [\"which is affected by insulin ?\", \"insulin produc releas cell get\", 12], [\"where in a cell are enzymes produced ?\", \"insulin produc releas cell get\", 12], [\"insulin <unk> to cells and the mechanism involved in triggering the cells to take in glucose ?\", \"insulin produc releas cell get\", 12], [\"which organelle is responsible for the production of insulin ?\", \"insulin produc releas cell get\", 12], [\"is nph insulin cloudy ?\", \"insulin produc releas cell get\", 12], [\"which body organ produce insulin ?\", \"insulin produc releas cell get\", 12], [\"what happens in there is less secretion of insulin ?\", \"insulin produc releas cell get\", 12], [\"when insulin is released how does it differ in a diabetic ?\", \"insulin produc releas cell get\", 12], [\"why is the body unable to produce insulin ?\", \"insulin produc releas cell get\", 12], [\"who is the <unk> of insulin ?\", \"insulin produc releas cell get\", 12], [\"what class of drugs stimulates insulin release in the body and is used in type ii diabetes ?\", \"insulin produc releas cell get\", 12], [\"what glands produce insulin and glucagon ?\", \"insulin produc releas cell get\", 12], [\"is insulin <unk> <unk> is curable ?\", \"insulin produc releas cell get\", 12], [\"what kind of organism is insulin ?\", \"insulin produc releas cell get\", 12], [\"does insulin make men <unk> ?\", \"insulin produc releas cell get\", 12], [\"excessive <unk> of insulin that produces hypoglycemia ?\", \"insulin produc releas cell get\", 12], [\"where do you get insulin from ?\", \"insulin produc releas cell get\", 12], [\"what is a noninfectious disease in which the body secretes too little insulin ?\", \"insulin produc releas cell get\", 12], [\"which type of diabetes means i need to inject insulin daily ?\", \"insulin produc releas cell get\", 12], [\"when is insulin released ?\", \"insulin produc releas cell get\", 12], [\"could two humans have some differences in their dna sequence for insulin yet still make the exact same insulin proteins ?\", \"insulin produc releas cell get\", 12], [\"what is basal insulin ?\", \"insulin produc releas cell get\", 12], [\"which <unk> is present in insulin ?\", \"insulin produc releas cell get\", 12], [\"where is insulin released from ?\", \"insulin produc releas cell get\", 12], [\"when target cells are less sensitive to the effects of insulin in type ii diabetes suggests ?\", \"insulin produc releas cell get\", 12], [\"a bolus insulin does it means some rapid insulin mixed with a lente one ?\", \"insulin produc releas cell get\", 12], [\"when mixing regular and nph insulin which do you draw up first ?\", \"insulin produc releas cell get\", 12], [\"what year did pure human insulin first become available for diabetics ?\", \"insulin produc releas cell get\", 12], [\"how do you reduce aggregation and inactivation by recombinant insulin ?\", \"insulin produc releas cell get\", 12], [\"what to do when you inject insulin in muscle ?\", \"insulin produc releas cell get\", 12], [\"which tissues are not insulin dependent ?\", \"insulin produc releas cell get\", 12], [\"hormone responsible for diabetes ?\", \"insulin produc releas cell get\", 12], [\"does the basement membrane become <unk> in diabetics ?\", \"insulin produc releas cell get\", 12]], \"hovertemplate\": \"summary=%{customdata[1]}<br>pc_1=%{x}<br>pc_2=%{y}<br>pc_3=%{z}<br>question=%{customdata[0]}<br>label=%{customdata[2]}<extra></extra>\", \"legendgroup\": \"insulin produc releas cell get\", \"marker\": {\"color\": \"#FECB52\", \"size\": 8, \"symbol\": \"circle\"}, \"mode\": \"markers\", \"name\": \"insulin produc releas cell get\", \"scene\": \"scene\", \"showlegend\": true, \"type\": \"scatter3d\", \"x\": [0.20129717886447906, 0.2493629902601242, 0.2522272765636444, 0.22977666556835175, 0.3185015320777893, 0.35091644525527954, 0.18079179525375366, 0.21459834277629852, 0.16900499165058136, 0.25719165802001953, 0.16578641533851624, 0.3040308952331543, 0.21181686222553253, 0.3259364664554596, 0.29154571890830994, 0.34049275517463684, 0.2925485372543335, 0.2882411479949951, 0.420149028301239, 0.34838762879371643, 0.3300716280937195, 0.30283331871032715, 0.1638052612543106, 0.2675815522670746, 0.36364462971687317, 0.448571115732193, 0.28221964836120605, 0.41886886954307556, 0.24431376159191132, 0.31005316972732544, 0.2634601891040802, 0.35126790404319763, 0.33723029494285583, 0.26186972856521606, 0.35969066619873047, 0.25975465774536133, 0.24663089215755463, 0.189864844083786, 0.3487668037414551, 0.37449610233306885, 0.2390131950378418, 0.253612756729126, 0.4045534133911133, 0.31848642230033875, 0.21102569997310638, 0.2580033242702484, 0.2928430438041687, 0.1337604969739914, 0.23086091876029968, 0.20433646440505981, 0.38716137409210205, 0.34187546372413635, 0.30650368332862854, 0.14108344912528992], \"y\": [-0.26905980706214905, -0.2513259947299957, -0.14326585829257965, -0.12309997528791428, -0.3060150742530823, -0.04261205717921257, -0.25412631034851074, -0.11270194500684738, -0.14386175572872162, -0.2801940441131592, -0.21773090958595276, -0.2810216248035431, -0.16937431693077087, -0.3268500566482544, -0.22671686112880707, -0.1991972178220749, -0.21519948542118073, -0.2209700345993042, -0.2788243889808655, -0.2705467939376831, -0.1296890377998352, -0.12283904105424881, -0.16632290184497833, -0.10701483488082886, -0.14256002008914948, -0.21063868701457977, -0.16282546520233154, -0.2144273966550827, -0.25387293100357056, -0.1772562712430954, -0.19334293901920319, -0.19157904386520386, -0.25647351145744324, -0.22788260877132416, -0.19530995190143585, -0.15951281785964966, -0.3009350001811981, -0.19775718450546265, -0.19253922998905182, -0.21575050055980682, -0.23357746005058289, -0.024215735495090485, -0.23103997111320496, -0.24033528566360474, -0.2142639458179474, -0.03098142333328724, -0.24477694928646088, -0.1255902796983719, -0.19991406798362732, -0.07235579937696457, -0.3152695596218109, -0.07306774705648422, -0.11987060308456421, -0.18317244946956635], \"z\": [-0.20351320505142212, -0.1721678227186203, -0.223194420337677, -0.09039551764726639, -0.0628708079457283, -0.03704385459423065, -0.047978419810533524, -0.14557525515556335, 0.0037686608266085386, -0.0324297659099102, -0.09515611082315445, 0.007262627128511667, -0.0442192479968071, -0.013659163378179073, -0.1923210769891739, 0.02718064747750759, -0.0626731812953949, -0.012129331938922405, -0.07172546535730362, -0.03478194773197174, -0.1753951609134674, -0.05442813038825989, -0.23138505220413208, -0.13889950513839722, -0.09243703633546829, -0.09648068994283676, -0.1291600614786148, -0.18514925241470337, -0.24749456346035004, -0.1114816889166832, -0.04987427964806557, -0.022428493946790695, -0.27372920513153076, -0.10236841440200806, -0.132351815700531, 0.003576849354431033, -0.1295091211795807, -0.06766325235366821, -0.19712577760219574, 0.05800797417759895, -0.19738632440567017, -0.11724521219730377, -0.12184073776006699, -0.10776901245117188, -0.16451314091682434, -0.16705510020256042, 0.06669548898935318, -0.08366511762142181, 0.0367661751806736, -0.03352322801947594, -0.11145061254501343, -0.040041688829660416, 0.05001881718635559, -0.2025114893913269]}, {\"customdata\": [[\"why <unk> patients feel hunger ?\", \"glucos type two affect use\", 10], [\"what happens in type one of diabetes ?\", \"glucos type two affect use\", 10], [\"how is technology used to diagnose or treat type two diabetes ?\", \"glucos type two affect use\", 10], [\"how does type two diabetes affect the nervous system ?\", \"glucos type two affect use\", 10], [\"how has glucose meters impacted society ?\", \"glucos type two affect use\", 10], [\"what does a <unk> management plan look like ?\", \"glucos type two affect use\", 10], [\"what is a cure for <unk> ?\", \"glucos type two affect use\", 10], [\"can a dog develop diabetes ?\", \"glucos type two affect use\", 10], [\"what important about diabetes ?\", \"glucos type two affect use\", 10], [\"how many animals are diagnosed with diabetes ?\", \"glucos type two affect use\", 10], [\"what is the meaning or definition of diabetes ?\", \"glucos type two affect use\", 10], [\"does type two diabetes cause severe itching in the <unk> area ?\", \"glucos type two affect use\", 10], [\"a feature of ketosis is that it ?\", \"glucos type two affect use\", 10], [\"will powder glucose do the same as liquid glucose ?\", \"glucos type two affect use\", 10], [\"an <unk> drug that doesnt effect asthmatic patient ?\", \"glucos type two affect use\", 10], [\"what causes <unk> of stomach in men ?\", \"glucos type two affect use\", 10], [\"is it ok to use the same spoon of diabetic ?\", \"glucos type two affect use\", 10], [\"what is a diabete ?\", \"glucos type two affect use\", 10], [\"in what condition people take glucose ?\", \"glucos type two affect use\", 10], [\"glycosuria is a failure in ?\", \"glucos type two affect use\", 10], [\"is glucose edible ?\", \"glucos type two affect use\", 10], [\"why is glucose elevated in the urine of diabetics ?\", \"glucos type two affect use\", 10], [\"what is a glucometer used for ?\", \"glucos type two affect use\", 10], [\"what are opinions on melabic ?\", \"glucos type two affect use\", 10], [\"what is found in the urine of diabetics ?\", \"glucos type two affect use\", 10], [\"what are some diabetes diets ?\", \"glucos type two affect use\", 10], [\"what is <unk> ?\", \"glucos type two affect use\", 10], [\"how would someone <unk> to the magazine diabetes care ?\", \"glucos type two affect use\", 10], [\"can you give glucose orally to a unresponsive diabetic ?\", \"glucos type two affect use\", 10], [\"how can a person acquire diabetes ?\", \"glucos type two affect use\", 10], [\"what part of the body gets affected by obesity ?\", \"glucos type two affect use\", 10], [\"what <unk> players have diabetes ?\", \"glucos type two affect use\", 10], [\"can having diabetes make it hard to get over a cold ?\", \"glucos type two affect use\", 10], [\"what caused diabetes ?\", \"glucos type two affect use\", 10], [\"what happens when people get type two diabetes ?\", \"glucos type two affect use\", 10], [\"what body systems are affected by diabetes type two ?\", \"glucos type two affect use\", 10], [\"what is the <unk> <unk> check machine ?\", \"glucos type two affect use\", 10], [\"what is poor eating habits ?\", \"glucos type two affect use\", 10], [\"is there a food without glucose ?\", \"glucos type two affect use\", 10], [\"is <unk> the same as glucose ?\", \"glucos type two affect use\", 10], [\"diabetes is a result of what ?\", \"glucos type two affect use\", 10], [\"is glucose created in the <unk> ?\", \"glucos type two affect use\", 10], [\"how is type one diabetes detected ?\", \"glucos type two affect use\", 10], [\"what causes high triglycerides ?\", \"glucos type two affect use\", 10], [\"what do you eat when you have diabetes ?\", \"glucos type two affect use\", 10], [\"what part of the body does diabetes effect ?\", \"glucos type two affect use\", 10], [\"how does diabetes effect people ?\", \"glucos type two affect use\", 10], [\"what do people have that can not regulate sugar level in their blood properly ?\", \"glucos type two affect use\", 10], [\"is glucose <unk> given to diabetic patient ?\", \"glucos type two affect use\", 10], [\"what sugar is in your urine ?\", \"glucos type two affect use\", 10], [\"what is diabetes management ?\", \"glucos type two affect use\", 10], [\"which part of the body is most affected by diabetes ?\", \"glucos type two affect use\", 10], [\"what causes low <unk> in the blood ?\", \"glucos type two affect use\", 10], [\"when do you get diabetes type two ?\", \"glucos type two affect use\", 10], [\"how can you receive free blood glucose <unk> ?\", \"glucos type two affect use\", 10], [\"why does your butt leak ?\", \"glucos type two affect use\", 10], [\"how much people died of diabetes before insulin ?\", \"glucos type two affect use\", 10], [\"can using more than one type of drugs kill you faster ?\", \"glucos type two affect use\", 10], [\"what is a hemoglucotest ?\", \"glucos type two affect use\", 10], [\"do diabetics lack glucose ?\", \"glucos type two affect use\", 10], [\"how is a person with diabetes melitus affected ?\", \"glucos type two affect use\", 10], [\"what organs do type two diabetes affect ?\", \"glucos type two affect use\", 10], [\"which organs are affected when you have diabetes type two ?\", \"glucos type two affect use\", 10], [\"how is the digestive system affected by diabetes ?\", \"glucos type two affect use\", 10], [\"how many kids are diagnosed with diabetes each day ?\", \"glucos type two affect use\", 10], [\"when is it time to put down a dog with diabetes ?\", \"glucos type two affect use\", 10], [\"what is pre-diabetes ?\", \"glucos type two affect use\", 10], [\"what is fluid and electrolyte balance and how is it maintained ?\", \"glucos type two affect use\", 10], [\"how many times does a person have to get a diabetes diagnosis ?\", \"glucos type two affect use\", 10], [\"is a differential diagnosis the same as a <unk> ?\", \"glucos type two affect use\", 10], [\"can you use glucose in a recipe that calls for liquid glucose ?\", \"glucos type two affect use\", 10]], \"hovertemplate\": \"summary=%{customdata[1]}<br>pc_1=%{x}<br>pc_2=%{y}<br>pc_3=%{z}<br>question=%{customdata[0]}<br>label=%{customdata[2]}<extra></extra>\", \"legendgroup\": \"glucos type two affect use\", \"marker\": {\"color\": \"#636efa\", \"size\": 8, \"symbol\": \"circle\"}, \"mode\": \"markers\", \"name\": \"glucos type two affect use\", \"scene\": \"scene\", \"showlegend\": true, \"type\": \"scatter3d\", \"x\": [0.045951828360557556, 0.21141910552978516, 0.21655549108982086, 0.2273172289133072, 0.0550120547413826, 0.1104389876127243, -0.016514504328370094, 0.005455901380628347, 0.13943840563297272, 0.06511268764734268, 0.07475540786981583, 0.21910856664180756, 0.021217305213212967, -0.09386429190635681, -0.014743819832801819, 0.14639650285243988, -0.1187564879655838, -0.0014143827138468623, -0.03482208028435707, -0.020206449553370476, -0.04746880754828453, 0.03174667805433273, -0.039773277938365936, 0.11607642471790314, 0.06543150544166565, 0.11006346344947815, 0.08176423609256744, 0.019376695156097412, -0.08969203382730484, -0.008367965929210186, 0.16526688635349274, 0.08447987586259842, -0.05565929785370827, 0.1109008863568306, 0.17374449968338013, 0.2115796059370041, 0.03309393674135208, 0.08185288310050964, -0.025140121579170227, 0.001842360943555832, 0.031151026487350464, 0.04555044323205948, 0.19702394306659698, 0.09561123698949814, 0.10758393257856369, 0.15357472002506256, 0.0379515066742897, 0.057719260454177856, -0.09170855581760406, -0.019951464608311653, 0.1409752368927002, 0.1739601343870163, 0.10903853923082352, 0.10789034515619278, -0.017764480784535408, 0.05991551652550697, 0.147588849067688, -0.07969323545694351, -0.002099379198625684, -0.018564946949481964, 0.006937708705663681, 0.2663058936595917, 0.24834056198596954, 0.20259396731853485, 0.10313118249177933, 0.027400121092796326, 0.047712404280900955, 0.08248252421617508, -0.010599007830023766, -0.05366057902574539, -0.11217936873435974], \"y\": [0.15803802013397217, 0.0790347158908844, 0.05891352519392967, -0.07045704126358032, -0.15086156129837036, -0.017434271052479744, -0.0562111996114254, 0.11808028817176819, 0.07507293671369553, 0.19856789708137512, -0.07254235446453094, 0.10808989405632019, -0.14693838357925415, -0.2890029549598694, 0.09432688355445862, 0.011785478331148624, -0.1756872683763504, -0.07537762075662613, -0.23792409896850586, -0.0010780954034999013, -0.18964292109012604, -0.33402639627456665, -0.07796277105808258, 0.13655316829681396, -0.3187943696975708, 0.11907321959733963, 0.019431842491030693, 0.1215478926897049, -0.2543157637119293, 0.08281179517507553, -0.036644984036684036, 0.0722951740026474, 0.10329553484916687, 0.047978177666664124, 0.07132349908351898, -0.017551323398947716, -0.13238979876041412, 0.08629515022039413, -0.20945437252521515, -0.2211916446685791, -0.03900601714849472, -0.21985143423080444, 0.09139084815979004, 0.049029577523469925, 0.07722895592451096, -0.09788007289171219, 0.12067342549562454, 0.14789535105228424, -0.22042296826839447, -0.3790982663631439, 0.033047713339328766, -0.026198463514447212, 0.02042219787836075, 0.12227367609739304, -0.17105193436145782, 0.06086985766887665, 0.0997789055109024, 0.061093661934137344, -0.04928992688655853, -0.2846500277519226, 0.04066290706396103, -0.0358877032995224, -0.010903107933700085, -0.04896588250994682, 0.22564545273780823, 0.0959700271487236, -0.047477755695581436, -0.11069165170192719, 0.014717994257807732, -0.09128449857234955, -0.2676929235458374], \"z\": [-0.27602672576904297, -0.3844737708568573, -0.23989556729793549, -0.3342191278934479, -0.2082558572292328, -0.2540877163410187, -0.24782060086727142, -0.19712020456790924, -0.31861627101898193, -0.2586296796798706, -0.38628092408180237, -0.45300212502479553, -0.3563210368156433, -0.2878144681453705, -0.33666351437568665, -0.4672086536884308, -0.276192307472229, -0.3337622880935669, -0.39620113372802734, -0.34507811069488525, -0.3248395323753357, -0.33402174711227417, -0.27987658977508545, -0.34251531958580017, -0.3572141230106354, -0.28470492362976074, -0.33724382519721985, -0.3011325001716614, -0.23701271414756775, -0.22492650151252747, -0.4043539762496948, -0.31453078985214233, -0.22525401413440704, -0.3721126914024353, -0.3956022262573242, -0.32706794142723083, -0.26514488458633423, -0.24561983346939087, -0.27632224559783936, -0.32648396492004395, -0.3821520209312439, -0.3301311731338501, -0.27771419286727905, -0.48088327050209045, -0.2028598189353943, -0.4024294316768646, -0.3504849672317505, -0.385393351316452, -0.22986140847206116, -0.28812074661254883, -0.2883880138397217, -0.3609229028224945, -0.4283334016799927, -0.16534997522830963, -0.2025185078382492, -0.3963854908943176, -0.4223598539829254, -0.16882599890232086, -0.3165149390697479, -0.31877973675727844, -0.2434254139661789, -0.38486015796661377, -0.345416784286499, -0.2710804343223572, -0.293940931558609, -0.14377737045288086, -0.3158177137374878, -0.1832786649465561, -0.17401859164237976, -0.38039684295654297, -0.3228658139705658]}, {\"customdata\": [[\"how do you treated a patient that has been giving too much insulin ?\", \"insulin syring use lantu treat\", 19], [\"can insulin syringes be used to measure any medication for <unk> use ?\", \"insulin syring use lantu treat\", 19], [\"can insulin therapy be administered by an oral medication ?\", \"insulin syring use lantu treat\", 19], [\"can you <unk> syringes with lantus insulin ?\", \"insulin syring use lantu treat\", 19], [\"how can you treat diabetes except for injecting insulin ?\", \"insulin syring use lantu treat\", 19], [\"`` i know lantus is a diabetes medicine , but how is it applied i could not find the lantus package insert '' ?\", \"insulin syring use lantu treat\", 19], [\"if using a insulin syringe instead of tb syringe-how much tb solution should be drawn up ?\", \"insulin syring use lantu treat\", 19], [\"is massage contraindicated after insulin injection ?\", \"insulin syring use lantu treat\", 19], [\"can diabetes tab metforin be taken with cold meds ?\", \"insulin syring use lantu treat\", 19], [\"what if your diabetic client asks you to fill a syringe with her morning dose of insulin what should you do ?\", \"insulin syring use lantu treat\", 19]], \"hovertemplate\": \"summary=%{customdata[1]}<br>pc_1=%{x}<br>pc_2=%{y}<br>pc_3=%{z}<br>question=%{customdata[0]}<br>label=%{customdata[2]}<extra></extra>\", \"legendgroup\": \"insulin syring use lantu treat\", \"marker\": {\"color\": \"#EF553B\", \"size\": 8, \"symbol\": \"circle\"}, \"mode\": \"markers\", \"name\": \"insulin syring use lantu treat\", \"scene\": \"scene\", \"showlegend\": true, \"type\": \"scatter3d\", \"x\": [0.0796557366847992, 0.05952906981110573, 0.09881573170423508, 0.15115538239479065, 0.12255130708217621, 0.05078154057264328, 0.051093392074108124, 0.14306867122650146, 0.03225574642419815, 0.002933341544121504], \"y\": [-0.064023457467556, -0.15390290319919586, -0.18086197972297668, -0.1426847279071808, -0.1132456362247467, -0.0767415314912796, -0.0816110223531723, -0.19878414273262024, -0.14442670345306396, -0.1917448788881302], \"z\": [0.3486346900463104, 0.3134390115737915, 0.30728814005851746, 0.31216418743133545, 0.353672593832016, 0.33011382818222046, 0.2685028910636902, 0.28218382596969604, 0.40508079528808594, 0.2671612799167633]}, {\"customdata\": [[\"whats a good diet if you have type two diabetes ?\", \"diet plan good menu meal\", 30], [\"why do you need a balanced diet ?\", \"diet plan good menu meal\", 30], [\"do restaurants carry diabetic diet menus ?\", \"diet plan good menu meal\", 30], [\"a safe diabetic meal plan ?\", \"diet plan good menu meal\", 30], [\"where could i find a diet plan for diabetics ?\", \"diet plan good menu meal\", 30], [\"what are some healthy diabetic diet plans ?\", \"diet plan good menu meal\", 30], [\"is potato chip good for diet ?\", \"diet plan good menu meal\", 30], [\"what are the best diabetic diets ?\", \"diet plan good menu meal\", 30], [\"should a non-diabetic follow a diabetic diet menu ?\", \"diet plan good menu meal\", 30], [\"how long does diabetic diet take to work ?\", \"diet plan good menu meal\", 30], [\"what are some general rules for a diet diabetic ?\", \"diet plan good menu meal\", 30], [\"what are some benefits to a low sugar diet ?\", \"diet plan good menu meal\", 30], [\"what are diabetic meals and their significance ?\", \"diet plan good menu meal\", 30], [\"what kind of foods are good for a diet for diabetes ?\", \"diet plan good menu meal\", 30], [\"what should a diabetic is meal plan have ?\", \"diet plan good menu meal\", 30], [\"do you have to change your diet to take slim fast ?\", \"diet plan good menu meal\", 30], [\"where can you find the best diabetic diet plan ?\", \"diet plan good menu meal\", 30], [\"will the glycemic index diet help diabetics ?\", \"diet plan good menu meal\", 30], [\"does a diabetic diet menu help diabetics ?\", \"diet plan good menu meal\", 30], [\"what are some simple diet plans for a diabetic ?\", \"diet plan good menu meal\", 30], [\"what foods and diet plans are good for a diabetes patient ?\", \"diet plan good menu meal\", 30], [\"what is a good diabetic weight loss diet plan ?\", \"diet plan good menu meal\", 30], [\"what are the medical implications of diabetics not following their diet ?\", \"diet plan good menu meal\", 30], [\"what are some good diets ?\", \"diet plan good menu meal\", 30], [\"what is a healthy <unk> meal plan for a diabetic ?\", \"diet plan good menu meal\", 30], [\"diabetic diet menu ?\", \"diet plan good menu meal\", 30], [\"what is a sample diabetic diet menu ?\", \"diet plan good menu meal\", 30], [\"what are some diabetic diets to follow ?\", \"diet plan good menu meal\", 30], [\"what are the best and effective diet for a diabetic people ?\", \"diet plan good menu meal\", 30], [\"what are the best food habits for eating with diabetes ?\", \"diet plan good menu meal\", 30], [\"what are some safe dessert alternatives when following a diabetic diet ?\", \"diet plan good menu meal\", 30], [\"what are some good diabetic diet foods ?\", \"diet plan good menu meal\", 30], [\"what can i eat in a diabetic diet ?\", \"diet plan good menu meal\", 30], [\"what nutritional diets are there for diabetics ?\", \"diet plan good menu meal\", 30], [\"the advantages of a diabetic diet plan ?\", \"diet plan good menu meal\", 30], [\"which fruit is good for a diabetic diet ?\", \"diet plan good menu meal\", 30], [\"diabetic diet tips ?\", \"diet plan good menu meal\", 30], [\"what diabetic eating plan is recommended ?\", \"diet plan good menu meal\", 30], [\"what are some easy diets for diabetics that require little preperation ?\", \"diet plan good menu meal\", 30], [\"what can an unbalanced diet lead to when you are a diabetic ?\", \"diet plan good menu meal\", 30], [\"cutting white bread in a diabetic diet ?\", \"diet plan good menu meal\", 30], [\"what are examples of some diabetic diet meal plan ?\", \"diet plan good menu meal\", 30], [\"what are the latest nutrition guides for diabetics ?\", \"diet plan good menu meal\", 30], [\"what are the top recommended diabetics diets ?\", \"diet plan good menu meal\", 30]], \"hovertemplate\": \"summary=%{customdata[1]}<br>pc_1=%{x}<br>pc_2=%{y}<br>pc_3=%{z}<br>question=%{customdata[0]}<br>label=%{customdata[2]}<extra></extra>\", \"legendgroup\": \"diet plan good menu meal\", \"marker\": {\"color\": \"#00cc96\", \"size\": 8, \"symbol\": \"circle\"}, \"mode\": \"markers\", \"name\": \"diet plan good menu meal\", \"scene\": \"scene\", \"showlegend\": true, \"type\": \"scatter3d\", \"x\": [-0.37539079785346985, -0.386020690202713, -0.6312421560287476, -0.6911594867706299, -0.6554501056671143, -0.6071735620498657, -0.4627286493778229, -0.5260492563247681, -0.5915071368217468, -0.47778192162513733, -0.5498935580253601, -0.43863701820373535, -0.512457549571991, -0.4945117235183716, -0.6418653130531311, -0.4363693594932556, -0.7056018710136414, -0.5114824175834656, -0.6359186768531799, -0.5769504308700562, -0.5214510560035706, -0.4421853721141815, -0.5216455459594727, -0.516784131526947, -0.6689658164978027, -0.6469593644142151, -0.6924365758895874, -0.5654247403144836, -0.5056039094924927, -0.5169214606285095, -0.6177324652671814, -0.6430730223655701, -0.5014100074768066, -0.5627954006195068, -0.5768598318099976, -0.4365127384662628, -0.6281020641326904, -0.6015461683273315, -0.5822737216949463, -0.3663833737373352, -0.5533198118209839, -0.635619580745697, -0.5401705503463745, -0.5719532370567322], \"y\": [0.3230660557746887, 0.35324129462242126, 0.25676923990249634, 0.1580095738172531, 0.3784710466861725, 0.187358558177948, 0.242026686668396, 0.1929788589477539, 0.22165565192699432, 0.2056397646665573, 0.1717357188463211, 0.2741837203502655, 0.10850869119167328, 0.2813892066478729, 0.13760650157928467, 0.36901190876960754, 0.3239733576774597, 0.2150682955980301, 0.28397005796432495, 0.16636249423027039, 0.2859574258327484, 0.23420049250125885, 0.10819704830646515, 0.1525745540857315, 0.15641941130161285, 0.24829943478107452, 0.22799482941627502, 0.16457416117191315, 0.15322495996952057, 0.3232657313346863, 0.180876225233078, 0.16059085726737976, 0.2853849232196808, 0.16117672622203827, 0.2585236430168152, 0.21317549049854279, 0.25228843092918396, 0.18345874547958374, 0.0857844427227974, 0.29323524236679077, 0.24389789998531342, 0.20093467831611633, 0.08553232252597809, 0.20621412992477417], \"z\": [0.3056078851222992, 0.2907909154891968, 0.3582311272621155, 0.32161831855773926, 0.39978256821632385, 0.48789238929748535, 0.23378120362758636, 0.557189404964447, 0.36644601821899414, 0.382344514131546, 0.3903244435787201, 0.2984134554862976, 0.4058176279067993, 0.26622113585472107, 0.3040512800216675, 0.2832098603248596, 0.4186191260814667, 0.30275896191596985, 0.4242701828479767, 0.4162213206291199, 0.2844649851322174, 0.38576993346214294, 0.4630602300167084, 0.572318971157074, 0.2861242890357971, 0.4493113160133362, 0.41505929827690125, 0.5103150606155396, 0.334604412317276, 0.32202547788619995, 0.38587242364883423, 0.4993295967578888, 0.43098217248916626, 0.5867299437522888, 0.44266608357429504, 0.2203795611858368, 0.4954407513141632, 0.3164193034172058, 0.38480401039123535, 0.35581257939338684, 0.3811580240726471, 0.45975059270858765, 0.34944698214530945, 0.5990732312202454]}, {\"customdata\": [[\"can you suggest some good gestational diabetes recipes ?\", \"diet type two good use\", 40], [\"can the same diet plan be used for type one and type two diabetes ?\", \"diet type two good use\", 40], [\"what diet to use in reversing diabetes ?\", \"diet type two good use\", 40], [\"diabetes chart ?\", \"diet type two good use\", 40], [\"all candy diet for type two diabetes ?\", \"diet type two good use\", 40], [\"is wheat bran good fiber for type two diabetes patients ?\", \"diet type two good use\", 40], [\"can type two diabetes be cured with proper diet ?\", \"diet type two good use\", 40], [\"how can diabetics control the amount of carbohydrates in their diet ?\", \"diet type two good use\", 40], [\"is there a diabetes diet chart i can follow ?\", \"diet type two good use\", 40], [\"can i reverse diabetes with a six hundred calorie diet ?\", \"diet type two good use\", 40]], \"hovertemplate\": \"summary=%{customdata[1]}<br>pc_1=%{x}<br>pc_2=%{y}<br>pc_3=%{z}<br>question=%{customdata[0]}<br>label=%{customdata[2]}<extra></extra>\", \"legendgroup\": \"diet type two good use\", \"marker\": {\"color\": \"#ab63fa\", \"size\": 8, \"symbol\": \"circle\"}, \"mode\": \"markers\", \"name\": \"diet type two good use\", \"scene\": \"scene\", \"showlegend\": true, \"type\": \"scatter3d\", \"x\": [-0.5204973816871643, -0.40625253319740295, -0.4019409716129303, -0.4851290285587311, -0.40466079115867615, -0.45348799228668213, -0.45316457748413086, -0.36823639273643494, -0.49981480836868286, -0.47308239340782166], \"y\": [0.4155600368976593, 0.36783087253570557, 0.42179736495018005, 0.47107118368148804, 0.3280310332775116, 0.3177029490470886, 0.37778136134147644, 0.39726242423057556, 0.4225366413593292, 0.41044771671295166], \"z\": [0.11909686028957367, 0.10938087105751038, 0.20955722033977509, 0.15356788039207458, 0.08391479402780533, 0.1630311906337738, 0.1529657542705536, 0.18152230978012085, 0.1660129278898239, 0.23331598937511444]}, {\"customdata\": [[\"what type diabetic is type one ?\", \"insulin type disord product resist\", 31], [\"what type of diabetes usually requires insulin ?\", \"insulin type disord product resist\", 31], [\"chronic disorder caused by inadequate production or use of insulin is a ?\", \"insulin type disord product resist\", 31], [\"the production of too much insulin is typical of ?\", \"insulin type disord product resist\", 31], [\"which type of diabetes <unk> is an insulin resistance disorder ?\", \"insulin type disord product resist\", 31], [\"what is characteristic of the onset of insulin resistance ?\", \"insulin type disord product resist\", 31], [\"onset of regular insulin ?\", \"insulin type disord product resist\", 31]], \"hovertemplate\": \"summary=%{customdata[1]}<br>pc_1=%{x}<br>pc_2=%{y}<br>pc_3=%{z}<br>question=%{customdata[0]}<br>label=%{customdata[2]}<extra></extra>\", \"legendgroup\": \"insulin type disord product resist\", \"marker\": {\"color\": \"#FFA15A\", \"size\": 8, \"symbol\": \"circle\"}, \"mode\": \"markers\", \"name\": \"insulin type disord product resist\", \"scene\": \"scene\", \"showlegend\": true, \"type\": \"scatter3d\", \"x\": [0.4299887716770172, 0.42296868562698364, 0.37475013732910156, 0.34458470344543457, 0.42050406336784363, 0.4113242030143738, 0.3744840919971466], \"y\": [0.08576519787311554, 0.02072359062731266, 0.03327003866434097, -0.026514720171689987, 0.028372835367918015, -0.038502827286720276, -0.015156956389546394], \"z\": [-0.1419694870710373, -0.19810524582862854, -0.2833731472492218, -0.20478519797325134, -0.2626556158065796, -0.2609163224697113, -0.19107048213481903]}, {\"customdata\": [[\"what is the function of <unk> ?\", \"function gonad normal valu site\", 36], [\"what is the function of the <unk> ?\", \"function gonad normal valu site\", 36], [\"what is the normal value of <unk> ?\", \"function gonad normal valu site\", 36], [\"what is the site of attack for type one diabetes ?\", \"function gonad normal valu site\", 36], [\"what is the function of the <unk> ?\", \"function gonad normal valu site\", 36], [\"what organ is the center for the storage and production of glucose ?\", \"function gonad normal valu site\", 36], [\"what are the functions of gonads ?\", \"function gonad normal valu site\", 36], [\"what is the function of <unk> ?\", \"function gonad normal valu site\", 36], [\"what processes in the body are not functioning correctly in a patient with diabetes ?\", \"function gonad normal valu site\", 36], [\"what is the function of the gonads ?\", \"function gonad normal valu site\", 36], [\"what is the function of <unk> ?\", \"function gonad normal valu site\", 36], [\"function of a <unk> ?\", \"function gonad normal valu site\", 36]], \"hovertemplate\": \"summary=%{customdata[1]}<br>pc_1=%{x}<br>pc_2=%{y}<br>pc_3=%{z}<br>question=%{customdata[0]}<br>label=%{customdata[2]}<extra></extra>\", \"legendgroup\": \"function gonad normal valu site\", \"marker\": {\"color\": \"#19d3f3\", \"size\": 8, \"symbol\": \"circle\"}, \"mode\": \"markers\", \"name\": \"function gonad normal valu site\", \"scene\": \"scene\", \"showlegend\": true, \"type\": \"scatter3d\", \"x\": [0.17976899445056915, 0.24960610270500183, 0.15969157218933105, 0.18050630390644073, 0.2209678441286087, 0.11415188759565353, 0.25478309392929077, 0.18552352488040924, 0.24079568684101105, 0.26658451557159424, 0.19211821258068085, 0.16073505580425262], \"y\": [-0.3523947596549988, -0.45781564712524414, -0.44545823335647583, -0.41666319966316223, -0.42392727732658386, -0.35246261954307556, -0.3585123121738434, -0.384246826171875, -0.35248249769210815, -0.3943217694759369, -0.3942359685897827, -0.3467203676700592], \"z\": [-0.5096348524093628, -0.5725765228271484, -0.5449431538581848, -0.652733325958252, -0.5608716607093811, -0.480940043926239, -0.5988391041755676, -0.533769965171814, -0.47930797934532166, -0.5896663665771484, -0.5693203210830688, -0.5801432132720947]}, {\"customdata\": [[\"what is the role of insulin to diabetes ?\", \"insulin role best diabit n\", 41], [\"what is the best insulin for diabites ?\", \"insulin role best diabit n\", 41], [\"what is the <unk> between <unk> n insulin and novolog insulin ?\", \"insulin role best diabit n\", 41], [\"what is the risk of insulin ?\", \"insulin role best diabit n\", 41], [\"how long does insulin last in your <unk> ?\", \"insulin role best diabit n\", 41], [\"insulin how is it used ?\", \"insulin role best diabit n\", 41], [\"what is insulin is functions ?\", \"insulin role best diabit n\", 41], [\"what makes insulin in your body ?\", \"insulin role best diabit n\", 41], [\"what is endogenous insulin ?\", \"insulin role best diabit n\", 41], [\"what is the <unk> of insulin ?\", \"insulin role best diabit n\", 41]], \"hovertemplate\": \"summary=%{customdata[1]}<br>pc_1=%{x}<br>pc_2=%{y}<br>pc_3=%{z}<br>question=%{customdata[0]}<br>label=%{customdata[2]}<extra></extra>\", \"legendgroup\": \"insulin role best diabit n\", \"marker\": {\"color\": \"#FF6692\", \"size\": 8, \"symbol\": \"circle\"}, \"mode\": \"markers\", \"name\": \"insulin role best diabit n\", \"scene\": \"scene\", \"showlegend\": true, \"type\": \"scatter3d\", \"x\": [0.5830370783805847, 0.5663042068481445, 0.5302122235298157, 0.5909786820411682, 0.4396871030330658, 0.470777690410614, 0.5145220160484314, 0.5029356479644775, 0.5226441025733948, 0.5672714114189148], \"y\": [-0.24058233201503754, -0.30384141206741333, -0.19589968025684357, -0.3070058524608612, -0.34175848960876465, -0.2763826549053192, -0.28151464462280273, -0.34052690863609314, -0.2475452721118927, -0.28258851170539856], \"z\": [-0.08444122970104218, -0.01842992566525936, -0.05298047512769699, -0.09163405746221542, -0.06861278414726257, -0.029514286667108536, -0.09594503790140152, -0.1450275331735611, -0.17050111293792725, -0.07405643165111542]}, {\"customdata\": [[\"is <unk> vaccine linked to diabetes ?\", \"diseas type one genet communic\", 29], [\"is diabetic a disease ?\", \"diseas type one genet communic\", 29], [\"is diabetes an allergy ?\", \"diseas type one genet communic\", 29], [\"is diabetes a virus or bacteria ?\", \"diseas type one genet communic\", 29], [\"is type ii diabetes contagious ?\", \"diseas type one genet communic\", 29], [\"what race is type one diabetes more common ?\", \"diseas type one genet communic\", 29], [\"is diabetes a communicable or noncommunicable disease ?\", \"diseas type one genet communic\", 29], [\"how is diabetes genetically transferred ?\", \"diseas type one genet communic\", 29], [\"is diabetes a disorder or a disease ?\", \"diseas type one genet communic\", 29], [\"is diabetes an organism ?\", \"diseas type one genet communic\", 29], [\"why is diabetes is a deficiency disease ?\", \"diseas type one genet communic\", 29], [\"is diabetes a <unk> disease ?\", \"diseas type one genet communic\", 29], [\"which type of diabetes is a concern for young australians ?\", \"diseas type one genet communic\", 29], [\"is type two diabetes a chronic disease ?\", \"diseas type one genet communic\", 29], [\"is type two diabetes a genetic disease ?\", \"diseas type one genet communic\", 29], [\"is there any types of infection with diabetes patient to a non diabetes ?\", \"diseas type one genet communic\", 29], [\"is diabetes a genetic factor ?\", \"diseas type one genet communic\", 29], [\"is diabetes a non-communicable disease ?\", \"diseas type one genet communic\", 29], [\"is diabetes an infectious ?\", \"diseas type one genet communic\", 29], [\"is diabetes a dominant trait ?\", \"diseas type one genet communic\", 29], [\"is diabetes a noncommunicable disease ?\", \"diseas type one genet communic\", 29], [\"is diabetes a genetic disease ?\", \"diseas type one genet communic\", 29], [\"will a type one diabetic male produce children with type one diabetes ?\", \"diseas type one genet communic\", 29], [\"is diabetes a disease or ailment ?\", \"diseas type one genet communic\", 29], [\"is type one diabetes an inherited condition ?\", \"diseas type one genet communic\", 29], [\"what happens to the pancreas when diabetes is a non communicable disease ?\", \"diseas type one genet communic\", 29], [\"is diabetes type two a disease or a disorder ?\", \"diseas type one genet communic\", 29], [\"tests to find diseases in the human body ?\", \"diseas type one genet communic\", 29], [\"top ten communicable diseases in the philippines ?\", \"diseas type one genet communic\", 29], [\"is type one diabetes a dominant or recessive gene ?\", \"diseas type one genet communic\", 29], [\"is type one diabetes a mutation ?\", \"diseas type one genet communic\", 29], [\"is <unk> disorder a symptom of diabetes ?\", \"diseas type one genet communic\", 29], [\"is halle berry a type one diabetic ?\", \"diseas type one genet communic\", 29], [\"is type one diabetes genetic ?\", \"diseas type one genet communic\", 29], [\"what makes diabetes a chronic disease ?\", \"diseas type one genet communic\", 29], [\"is diabetes a blood <unk> pathogen ?\", \"diseas type one genet communic\", 29]], \"hovertemplate\": \"summary=%{customdata[1]}<br>pc_1=%{x}<br>pc_2=%{y}<br>pc_3=%{z}<br>question=%{customdata[0]}<br>label=%{customdata[2]}<extra></extra>\", \"legendgroup\": \"diseas type one genet communic\", \"marker\": {\"color\": \"#B6E880\", \"size\": 8, \"symbol\": \"circle\"}, \"mode\": \"markers\", \"name\": \"diseas type one genet communic\", \"scene\": \"scene\", \"showlegend\": true, \"type\": \"scatter3d\", \"x\": [0.3383309245109558, 0.4206939935684204, 0.370803564786911, 0.32792943716049194, 0.47448134422302246, 0.4182070791721344, 0.43977558612823486, 0.34343624114990234, 0.43075862526893616, 0.33810898661613464, 0.37500208616256714, 0.35731130838394165, 0.25358322262763977, 0.46420812606811523, 0.4190380573272705, 0.352170467376709, 0.37861546874046326, 0.4521777033805847, 0.34619981050491333, 0.4035537838935852, 0.3235175311565399, 0.3745060861110687, 0.38924553990364075, 0.42541250586509705, 0.43351346254348755, 0.38662189245224, 0.42806172370910645, 0.3335985839366913, 0.28145113587379456, 0.4075283408164978, 0.39509445428848267, 0.4627560079097748, 0.3658321797847748, 0.4408904016017914, 0.4831603467464447, 0.37143826484680176], \"y\": [0.39280644059181213, 0.3045050799846649, 0.18489186465740204, 0.42306020855903625, 0.20550796389579773, 0.30475708842277527, 0.4043470323085785, 0.3147212862968445, 0.2517772316932678, 0.22643490135669708, 0.33288922905921936, 0.2889488637447357, 0.22879670560359955, 0.28231123089790344, 0.3022467792034149, 0.27804893255233765, 0.35801082849502563, 0.38090652227401733, 0.20232072472572327, 0.30602729320526123, 0.2859952449798584, 0.295376181602478, 0.17013894021511078, 0.3298233449459076, 0.20164982974529266, 0.36530664563179016, 0.23594610393047333, 0.43462711572647095, 0.30750054121017456, 0.2480066418647766, 0.22096368670463562, 0.22750315070152283, 0.12662076950073242, 0.32437801361083984, 0.34463295340538025, 0.3936099708080292], \"z\": [-0.36306747794151306, -0.526185154914856, -0.47239363193511963, -0.45950302481651306, -0.3569043278694153, -0.22263111174106598, -0.4973607063293457, -0.36028149724006653, -0.4492374360561371, -0.3710560202598572, -0.42824506759643555, -0.44110026955604553, -0.4072570502758026, -0.3931249976158142, -0.3700946867465973, -0.5089593529701233, -0.2948141396045685, -0.46931353211402893, -0.4543725550174713, -0.27058714628219604, -0.4384523332118988, -0.3993694484233856, -0.35020574927330017, -0.46204036474227905, -0.377534419298172, -0.4870353043079376, -0.4064711332321167, -0.5274540185928345, -0.4546460211277008, -0.30321091413497925, -0.3477025032043457, -0.48345234990119934, -0.35203152894973755, -0.3290872871875763, -0.43894025683403015, -0.40901246666908264]}, {\"customdata\": [[\"can you get diabetic supplies through the mail ?\", \"suppli one purchas get buy\", 22], [\"does blue cross cover diabetic supplies in canada ?\", \"suppli one purchas get buy\", 22], [\"ms . <unk> , i <unk> ?\", \"suppli one purchas get buy\", 22], [\"where can one purchase diabetic <unk> ?\", \"suppli one purchas get buy\", 22], [\"i am diabetic can i use <unk> ?\", \"suppli one purchas get buy\", 22], [\"what does food or fluids correct in a diabetic emergency ?\", \"suppli one purchas get buy\", 22], [\"where can i purchase diabetic needles ?\", \"suppli one purchas get buy\", 22], [\"where can one learn about diabetic supply cases ?\", \"suppli one purchas get buy\", 22], [\"where can i buy a diabetic pump ?\", \"suppli one purchas get buy\", 22], [\"where can one buy diabetic support socks ?\", \"suppli one purchas get buy\", 22], [\"can you be diabetic and not take medication ?\", \"suppli one purchas get buy\", 22], [\"where can one purchase shoes for diabetics ?\", \"suppli one purchas get buy\", 22], [\"can diabetic supplies be dangerous ?\", \"suppli one purchas get buy\", 22], [\"can diabetics in good control and with no diabetic eye disease get <unk> <unk> surgery ?\", \"suppli one purchas get buy\", 22], [\"diabetic supplies you can afford ?\", \"suppli one purchas get buy\", 22], [\"where can i purchase diabetic supplements ?\", \"suppli one purchas get buy\", 22], [\"can you buy diabetic products from pharmacies ?\", \"suppli one purchas get buy\", 22], [\"diabetic pump ?\", \"suppli one purchas get buy\", 22], [\"diabetic supply companies ?\", \"suppli one purchas get buy\", 22], [\"where can i get a free diabetic meter ?\", \"suppli one purchas get buy\", 22]], \"hovertemplate\": \"summary=%{customdata[1]}<br>pc_1=%{x}<br>pc_2=%{y}<br>pc_3=%{z}<br>question=%{customdata[0]}<br>label=%{customdata[2]}<extra></extra>\", \"legendgroup\": \"suppli one purchas get buy\", \"marker\": {\"color\": \"#FF97FF\", \"size\": 8, \"symbol\": \"circle\"}, \"mode\": \"markers\", \"name\": \"suppli one purchas get buy\", \"scene\": \"scene\", \"showlegend\": true, \"type\": \"scatter3d\", \"x\": [-0.2136760950088501, -0.15003105998039246, -0.09007774293422699, -0.26541867852211, -0.0993560180068016, -0.156565323472023, -0.1730654388666153, -0.12543649971485138, -0.19074228405952454, -0.22254276275634766, -0.05908537656068802, -0.27541956305503845, -0.1500202715396881, -0.1577058583498001, -0.18526986241340637, -0.2252848744392395, -0.21085409820079803, -0.19722050428390503, -0.18859422206878662, -0.311514675617218], \"y\": [-0.07656598836183548, -0.18664896488189697, -0.07064257562160492, -0.153193399310112, -0.11179400235414505, -0.19024625420570374, -0.11376654356718063, -0.10325108468532562, -0.16565217077732086, -0.08828244358301163, -0.15345709025859833, -0.0710563138127327, -0.12482091039419174, -0.03509669005870819, -0.1346164047718048, -0.14358632266521454, -0.1528208702802658, -0.2040090709924698, -0.20852695405483246, -0.1771882325410843], \"z\": [0.41077545285224915, 0.3937353491783142, 0.25668996572494507, 0.3244950771331787, 0.2631765902042389, 0.24451695382595062, 0.35204488039016724, 0.36260390281677246, 0.2752048373222351, 0.32021740078926086, 0.27192041277885437, 0.33656224608421326, 0.2964985966682434, 0.27410346269607544, 0.31164076924324036, 0.24797283113002777, 0.3838341534137726, 0.2918829321861267, 0.3472306430339813, 0.3521925210952759]}, {\"customdata\": [[\"what should you do if your blood sugar is high ?\", \"blood sugar high low level\", 14], [\"if you get headaches from low blood sugar does that mean you are a diabetic ?\", \"blood sugar high low level\", 14], [\"does low blood sugar mean i have hypoglycemia ?\", \"blood sugar high low level\", 14], [\"what do you do if your blood sugar level is high ?\", \"blood sugar high low level\", 14], [\"does low or high blood sugar make your chest hurt ?\", \"blood sugar high low level\", 14], [\"how do you bring down blood sugar ?\", \"blood sugar high low level\", 14], [\"how can you bring down high blood pressure ?\", \"blood sugar high low level\", 14], [\"does your head hurt when blood sugar is high ?\", \"blood sugar high low level\", 14], [\"what do you do if someone has high blood sugar attack ?\", \"blood sugar high low level\", 14], [\"how high or low should your sugar be ?\", \"blood sugar high low level\", 14], [\"does low blood sugar cause headaches ?\", \"blood sugar high low level\", 14], [\"do you need salt if your blood sugar is high ?\", \"blood sugar high low level\", 14], [\"what will high blood sugar do to you ?\", \"blood sugar high low level\", 14], [\"if you have diabetes does that mean you have high blood sugar ?\", \"blood sugar high low level\", 14], [\"if you know your blood sugar is low how do you know if you are a diabetic ?\", \"blood sugar high low level\", 14], [\"what low blood sugar level will cause a seizure ?\", \"blood sugar high low level\", 14], [\"how often should you take blood sugar ?\", \"blood sugar high low level\", 14], [\"if you are unsure if someone has low or high blood sugar levels what should you do ?\", \"blood sugar high low level\", 14], [\"can <unk> cause a sharp spike in blood sugar levels ?\", \"blood sugar high low level\", 14], [\"what should you do if your blood sugar is over four hundred ?\", \"blood sugar high low level\", 14]], \"hovertemplate\": \"summary=%{customdata[1]}<br>pc_1=%{x}<br>pc_2=%{y}<br>pc_3=%{z}<br>question=%{customdata[0]}<br>label=%{customdata[2]}<extra></extra>\", \"legendgroup\": \"blood sugar high low level\", \"marker\": {\"color\": \"#FECB52\", \"size\": 8, \"symbol\": \"circle\"}, \"mode\": \"markers\", \"name\": \"blood sugar high low level\", \"scene\": \"scene\", \"showlegend\": true, \"type\": \"scatter3d\", \"x\": [-0.21908749639987946, -0.34685400128364563, -0.38849443197250366, -0.23877468705177307, -0.30959102511405945, -0.18405066430568695, -0.23514367640018463, -0.327484667301178, -0.20606660842895508, -0.2575145959854126, -0.35096150636672974, -0.25829586386680603, -0.19354192912578583, -0.3305533826351166, -0.2548286020755768, -0.2553384304046631, -0.16601066291332245, -0.2692115008831024, -0.30425482988357544, -0.21947556734085083], \"y\": [-0.8445727825164795, -0.7870607376098633, -0.7372914552688599, -0.8469463586807251, -0.7619175314903259, -0.9002525806427002, -0.8896744847297668, -0.7748917937278748, -0.7676827311515808, -0.7939301133155823, -0.7106094360351562, -0.8329951763153076, -0.8049094080924988, -0.8468186855316162, -0.8927088379859924, -0.746222198009491, -0.8263271450996399, -0.7929940819740295, -0.6950986385345459, -0.8267170190811157], \"z\": [-0.11391017585992813, -0.0942893847823143, -0.07454622536897659, -0.08415140211582184, -0.054057057946920395, -0.0739658772945404, -0.039850689470767975, -0.009425405412912369, -0.0715605616569519, 0.009990885853767395, -0.05903640389442444, -0.17631563544273376, -0.089369997382164, -0.0783243328332901, -0.13867665827274323, -0.12454600632190704, -0.037073783576488495, -0.0739075094461441, -0.0800924226641655, -0.20258615911006927]}, {\"customdata\": [[\"can you diabetes from eating a lot of sugar ?\", \"sugar get much eat lot\", 47], [\"can you get diabetes by eating no sugar at all ?\", \"sugar get much eat lot\", 47], [\"can having diabetes make you fat ?\", \"sugar get much eat lot\", 47], [\"can you get diabetes from to much sugar ?\", \"sugar get much eat lot\", 47], [\"can you get light headed from sugar diabetes ?\", \"sugar get much eat lot\", 47], [\"can too much sugar give you diabetes ?\", \"sugar get much eat lot\", 47], [\"if you have diabetes can you have sugar ?\", \"sugar get much eat lot\", 47], [\"do you get diabetes for not exercising ?\", \"sugar get much eat lot\", 47], [\"can you get diabetes from too much candy ?\", \"sugar get much eat lot\", 47], [\"do you get diabetes from to much sugar ?\", \"sugar get much eat lot\", 47]], \"hovertemplate\": \"summary=%{customdata[1]}<br>pc_1=%{x}<br>pc_2=%{y}<br>pc_3=%{z}<br>question=%{customdata[0]}<br>label=%{customdata[2]}<extra></extra>\", \"legendgroup\": \"sugar get much eat lot\", \"marker\": {\"color\": \"#636efa\", \"size\": 8, \"symbol\": \"circle\"}, \"mode\": \"markers\", \"name\": \"sugar get much eat lot\", \"scene\": \"scene\", \"showlegend\": true, \"type\": \"scatter3d\", \"x\": [-0.1959485560655594, -0.18406862020492554, -0.15048059821128845, -0.11418923735618591, -0.15106141567230225, -0.1209309920668602, -0.11540385335683823, -0.021674800664186478, -0.09996307641267776, -0.14211083948612213], \"y\": [0.40328171849250793, 0.38798826932907104, 0.3647399842739105, 0.39511731266975403, 0.44610804319381714, 0.36482399702072144, 0.31109732389450073, 0.37936487793922424, 0.39078614115715027, 0.40920382738113403], \"z\": [0.13758741319179535, 0.10434515029191971, 0.04303233325481415, 0.19777929782867432, 0.14612343907356262, 0.1636747121810913, 0.16776950657367706, 0.06670030951499939, 0.11554482579231262, 0.1463896483182907]}, {\"customdata\": [[\"why are insulin syringes <unk> in units instead of milliliter ?\", \"insulin unit mani zero point\", 38], [\"how many units of insulin are in a <unk> ?\", \"insulin unit mani zero point\", 38], [\"how many units of insulin is point zero five ml ?\", \"insulin unit mani zero point\", 38], [\"how many cc in ten units of insulin ?\", \"insulin unit mani zero point\", 38], [\"how many units of insulin are in zero point five ml of regular u-100 insulin ?\", \"insulin unit mani zero point\", 38], [\"how many units of insulin would equal zero . <unk> . ?\", \"insulin unit mani zero point\", 38], [\"how long will a bottle of insulin last using sixty units daily ?\", \"insulin unit mani zero point\", 38], [\"how many units of insulin are in zero point five ml of regular <unk> insulin ?\", \"insulin unit mani zero point\", 38], [\"what is the difference between regular insulin and sliding scale insulin ?\", \"insulin unit mani zero point\", 38], [\"what are types of synthetic insulins ?\", \"insulin unit mani zero point\", 38], [\"thirty unit of forty iu insulin is equal to how much unit of one hundred iu insulin ?\", \"insulin unit mani zero point\", 38], [\"how many units of insulin are in a normal vial ?\", \"insulin unit mani zero point\", 38], [\"how many units of insulin equals two cc ?\", \"insulin unit mani zero point\", 38], [\"how much is six units of insulin for a diabetic ?\", \"insulin unit mani zero point\", 38]], \"hovertemplate\": \"summary=%{customdata[1]}<br>pc_1=%{x}<br>pc_2=%{y}<br>pc_3=%{z}<br>question=%{customdata[0]}<br>label=%{customdata[2]}<extra></extra>\", \"legendgroup\": \"insulin unit mani zero point\", \"marker\": {\"color\": \"#EF553B\", \"size\": 8, \"symbol\": \"circle\"}, \"mode\": \"markers\", \"name\": \"insulin unit mani zero point\", \"scene\": \"scene\", \"showlegend\": true, \"type\": \"scatter3d\", \"x\": [0.44281357526779175, 0.48326557874679565, 0.42039474844932556, 0.45465517044067383, 0.40431347489356995, 0.38149118423461914, 0.45470499992370605, 0.4252271354198456, 0.3834070861339569, 0.5412583351135254, 0.4122769236564636, 0.4657180905342102, 0.46766045689582825, 0.463239848613739], \"y\": [-0.5051721334457397, -0.5216206908226013, -0.5967291593551636, -0.5316258072853088, -0.5672750473022461, -0.5936857461929321, -0.6247539520263672, -0.5639283657073975, -0.52262282371521, -0.4864886701107025, -0.6491568684577942, -0.547366201877594, -0.5594264268875122, -0.6093267202377319], \"z\": [0.025697994977235794, -0.017550449818372726, -0.07755683362483978, -0.0806250274181366, -0.022471774369478226, 0.020382437855005264, 0.004382306709885597, -0.0452444814145565, -0.05796780809760094, -0.013410133309662342, -0.04305858165025711, -0.0027705025859177113, -0.12518641352653503, -0.05143030732870102]}, {\"customdata\": [[\"what are <unk> on arms and <unk> ?\", \"would exercis arm lose weigt\", 42], [\"how do you lose weigt ?\", \"would exercis arm lose weigt\", 42], [\"how clean does your background need to be before you can join the air force ?\", \"would exercis arm lose weigt\", 42], [\"would diabetes stop you from getting certified to drive a truck ?\", \"would exercis arm lose weigt\", 42], [\"what results would you see with diabetes and uti ?\", \"would exercis arm lose weigt\", 42], [\"what do you do if you are diabetic and fly on <unk> ?\", \"would exercis arm lose weigt\", 42], [\"can you exercise if you have diabetes ?\", \"would exercis arm lose weigt\", 42], [\"diabetes and over <unk> with track and field exercise ?\", \"would exercis arm lose weigt\", 42], [\"can you go to the army with diabetes ?\", \"would exercis arm lose weigt\", 42]], \"hovertemplate\": \"summary=%{customdata[1]}<br>pc_1=%{x}<br>pc_2=%{y}<br>pc_3=%{z}<br>question=%{customdata[0]}<br>label=%{customdata[2]}<extra></extra>\", \"legendgroup\": \"would exercis arm lose weigt\", \"marker\": {\"color\": \"#00cc96\", \"size\": 8, \"symbol\": \"circle\"}, \"mode\": \"markers\", \"name\": \"would exercis arm lose weigt\", \"scene\": \"scene\", \"showlegend\": true, \"type\": \"scatter3d\", \"x\": [-0.05491636320948601, 0.00457312585785985, -0.1345515102148056, -0.15926964581012726, -0.03642726689577103, -0.05971250310540199, -0.07474134862422943, -0.07991156727075577, -0.0727873146533966], \"y\": [0.09820624440908432, 0.07090584188699722, 0.09116850793361664, 0.13237115740776062, 0.052493203431367874, 0.07381530106067657, 0.09743435680866241, 0.07819237560033798, 0.1698424369096756], \"z\": [-0.06388094276189804, -0.013346300460398197, 0.0002898823004215956, -0.0022560141514986753, 0.06171576306223869, -0.017253007739782333, 0.010250337421894073, 0.07482887804508209, 0.03644285351037979]}, {\"customdata\": [[\"what is the most important aspect of treatment of diabetes mellitus ?\", \"mellitu insipidu call mean import\", 20], [\"are diabetes mellitus and diabetes the same ?\", \"mellitu insipidu call mean import\", 20], [\"why is blood glucose lost in diabetes mellitus ?\", \"mellitu insipidu call mean import\", 20], [\"similarities between diabetes mellitus and diabetes insipidus ?\", \"mellitu insipidu call mean import\", 20], [\"what is type one mellitus diabetes ?\", \"mellitu insipidu call mean import\", 20], [\"what are the three p is of diabetes mellitus ?\", \"mellitu insipidu call mean import\", 20], [\"what is the study of diabetes mellitus called ?\", \"mellitu insipidu call mean import\", 20], [\"what are the causes of diabetes mellitus ?\", \"mellitu insipidu call mean import\", 20], [\"what is diabetes insipidus characterized by ?\", \"mellitu insipidu call mean import\", 20], [\"what is the meaning of ed in diabetes mellitus ?\", \"mellitu insipidu call mean import\", 20], [\"how is someone diagnosed with diabetes mellitus ?\", \"mellitu insipidu call mean import\", 20], [\"can you have both diabetes mellitus and diabetes insipidus ?\", \"mellitu insipidu call mean import\", 20], [\"what is the pathophysiology of diabetes mellitus ?\", \"mellitu insipidu call mean import\", 20], [\"what is diabetes mellitus ?\", \"mellitu insipidu call mean import\", 20], [\"what is <unk> diabetes mellitus ?\", \"mellitu insipidu call mean import\", 20], [\"what is diabetes insipidus and diabetes mellitus ?\", \"mellitu insipidu call mean import\", 20], [\"what is <unk> diabetes mellitus ?\", \"mellitu insipidu call mean import\", 20], [\"meaning of diabetes mellitus ?\", \"mellitu insipidu call mean import\", 20], [\"why is diabetes called diabetes mellitus ?\", \"mellitu insipidu call mean import\", 20]], \"hovertemplate\": \"summary=%{customdata[1]}<br>pc_1=%{x}<br>pc_2=%{y}<br>pc_3=%{z}<br>question=%{customdata[0]}<br>label=%{customdata[2]}<extra></extra>\", \"legendgroup\": \"mellitu insipidu call mean import\", \"marker\": {\"color\": \"#ab63fa\", \"size\": 8, \"symbol\": \"circle\"}, \"mode\": \"markers\", \"name\": \"mellitu insipidu call mean import\", \"scene\": \"scene\", \"showlegend\": true, \"type\": \"scatter3d\", \"x\": [0.7687854170799255, 0.6884713172912598, 0.6316021680831909, 0.7070825695991516, 0.6201564073562622, 0.7360453009605408, 0.723329484462738, 0.6672235727310181, 0.7079484462738037, 0.7054588794708252, 0.658237636089325, 0.6833563446998596, 0.6863394379615784, 0.6574887633323669, 0.6774882674217224, 0.6885779500007629, 0.6697445511817932, 0.6756595969200134, 0.6603190898895264], \"y\": [-0.001232092035934329, -0.00416167126968503, -0.05783013626933098, -0.022618073970079422, -0.10636739432811737, -0.07018885761499405, -0.09388625621795654, -0.05744505673646927, -0.09369949996471405, -0.04702058434486389, -0.1387968212366104, 0.040897440165281296, -0.14449311792850494, -0.13080497086048126, -0.09083423763513565, -0.05390937253832817, -0.09617114812135696, -0.01425682008266449, -0.04707101732492447], \"z\": [-0.32002541422843933, -0.34270724654197693, -0.3803057074546814, -0.4070117771625519, -0.22769087553024292, -0.2901948392391205, -0.21314556896686554, -0.18903996050357819, -0.39510828256607056, -0.24643376469612122, -0.33845341205596924, -0.36925598978996277, -0.20903122425079346, -0.2549108564853668, -0.2909010350704193, -0.37746909260749817, -0.25408416986465454, -0.26448196172714233, -0.32528096437454224]}, {\"customdata\": [[\"how could you prevent diabetes ?\", \"prevent get could rid person\", 44], [\"can you get rid of diabetes ?\", \"prevent get could rid person\", 44], [\"what can a person do to prevent getting diabetes ?\", \"prevent get could rid person\", 44], [\"what to prevent diabetes two ?\", \"prevent get could rid person\", 44], [\"how can you prevent getting diabetes ?\", \"prevent get could rid person\", 44], [\"what are some ways to prevent diabetes ?\", \"prevent get could rid person\", 44], [\"how you can prevent diabetes ?\", \"prevent get could rid person\", 44]], \"hovertemplate\": \"summary=%{customdata[1]}<br>pc_1=%{x}<br>pc_2=%{y}<br>pc_3=%{z}<br>question=%{customdata[0]}<br>label=%{customdata[2]}<extra></extra>\", \"legendgroup\": \"prevent get could rid person\", \"marker\": {\"color\": \"#FFA15A\", \"size\": 8, \"symbol\": \"circle\"}, \"mode\": \"markers\", \"name\": \"prevent get could rid person\", \"scene\": \"scene\", \"showlegend\": true, \"type\": \"scatter3d\", \"x\": [0.5534569621086121, 0.49215736985206604, 0.5056758522987366, 0.5958776473999023, 0.5307939052581787, 0.6217327117919922, 0.517784059047699], \"y\": [0.08876436203718185, 0.205629363656044, 0.05723649635910988, 0.10866057872772217, 0.14301759004592896, 0.1580815613269806, 0.12194335460662842], \"z\": [0.46940338611602783, 0.4519336223602295, 0.4457434117794037, 0.45938029885292053, 0.42984551191329956, 0.4416508674621582, 0.45231130719184875]}, {\"customdata\": [[\"what is normal blood sugar level in known diabetic person ?\", \"sugar blood level normal rang\", 21], [\"what is the blood sugar range for non diabetics ?\", \"sugar blood level normal rang\", 21], [\"what is normal level of blood sugar ?\", \"sugar blood level normal rang\", 21], [\"what is a good blood sugar range ?\", \"sugar blood level normal rang\", 21], [\"what is the normal blood sugar level reading ?\", \"sugar blood level normal rang\", 21], [\"what is a normal range for blood sugar level ?\", \"sugar blood level normal rang\", 21], [\"what would you say about a1c range ?\", \"sugar blood level normal rang\", 21], [\"what is the uk <unk> range for <unk> blood sugar levels ?\", \"sugar blood level normal rang\", 21], [\"is there a blood sugar chart for comparing blood sugar values ?\", \"sugar blood level normal rang\", 21], [\"what is the normal range for someone is blood sugar level ?\", \"sugar blood level normal rang\", 21], [\"what is the normal blood sugar level ?\", \"sugar blood level normal rang\", 21], [\"what is the average level for blood sugar ?\", \"sugar blood level normal rang\", 21], [\"what is high sugar level ?\", \"sugar blood level normal rang\", 21], [\"what is the blood sugar level of a diabetic ?\", \"sugar blood level normal rang\", 21], [\"how much the normal blood sugar of diabetes ?\", \"sugar blood level normal rang\", 21], [\"what is the medical terminology for low blood sugar ?\", \"sugar blood level normal rang\", 21], [\"what is a normal blood sugar range for a diabetic ?\", \"sugar blood level normal rang\", 21], [\"what is normal blood sugar for a type one diabetic ?\", \"sugar blood level normal rang\", 21], [\"what is normal blood sugar level after eating ?\", \"sugar blood level normal rang\", 21], [\"what is a blood sugar level table ?\", \"sugar blood level normal rang\", 21], [\"what is normal range of urine sugar ?\", \"sugar blood level normal rang\", 21], [\"what is the blood sugar level for diabetics ?\", \"sugar blood level normal rang\", 21], [\"what is normal blood sugar level ?\", \"sugar blood level normal rang\", 21], [\"what should a diabetic person is blood sugar be ?\", \"sugar blood level normal rang\", 21], [\"what is the normal level for blood sugar ?\", \"sugar blood level normal rang\", 21]], \"hovertemplate\": \"summary=%{customdata[1]}<br>pc_1=%{x}<br>pc_2=%{y}<br>pc_3=%{z}<br>question=%{customdata[0]}<br>label=%{customdata[2]}<extra></extra>\", \"legendgroup\": \"sugar blood level normal rang\", \"marker\": {\"color\": \"#19d3f3\", \"size\": 8, \"symbol\": \"circle\"}, \"mode\": \"markers\", \"name\": \"sugar blood level normal rang\", \"scene\": \"scene\", \"showlegend\": true, \"type\": \"scatter3d\", \"x\": [0.18539351224899292, 0.06014556810259819, 0.15363001823425293, 0.17632751166820526, 0.10814110934734344, 0.11533493548631668, 0.10676771402359009, 0.053194377571344376, 0.04671978950500488, 0.11881176382303238, 0.1278161108493805, 0.09574854373931885, 0.14467008411884308, 0.20259836316108704, 0.15943942964076996, 0.15617366135120392, 0.17563413083553314, 0.20471900701522827, 0.062466129660606384, 0.12388106435537338, 0.13840490579605103, 0.07713621854782104, 0.10813776403665543, 0.2362854927778244, 0.10630436986684799], \"y\": [-0.8185738921165466, -0.9457042813301086, -0.8735975027084351, -0.8096165657043457, -0.7586539387702942, -0.8422064781188965, -0.814418613910675, -0.8303646445274353, -0.8294474482536316, -0.8796680569648743, -0.816112220287323, -0.8492894768714905, -0.9101589918136597, -0.8709080815315247, -0.9366186261177063, -0.7901196479797363, -0.8754103779792786, -0.867708146572113, -0.7714556455612183, -0.7937090396881104, -0.7513368725776672, -0.9263888001441956, -0.7944271564483643, -0.78592848777771, -0.8618455529212952], \"z\": [-0.12122977524995804, -0.10118099302053452, -0.08096849173307419, -0.0265953429043293, -0.07711508870124817, -0.16302111744880676, -0.22156111896038055, -0.048357486724853516, 0.022242270410060883, -0.1384909301996231, -0.09300615638494492, -0.029130257666110992, 0.03106445074081421, -0.05675071105360985, -0.07928507775068283, 0.028965642675757408, -0.1888437420129776, -0.1761934757232666, -0.1156894713640213, -0.030174512416124344, -0.13315126299858093, -0.07363804429769516, -0.10713108628988266, -0.0486629456281662, -0.0895838513970375]}, {\"customdata\": [[\"does drinking alcohol with diabetes from a young age if even it is controlled affect your health in later years ?\", \"die children parent age pass\", 32], [\"can diabetes be passed on from generation to generation ?\", \"die children parent age pass\", 32], [\"does every body die from diabetes ?\", \"die children parent age pass\", 32], [\"could you die from diabetes ?\", \"die children parent age pass\", 32], [\"where can your children receive diabetes education ?\", \"die children parent age pass\", 32], [\"can you die from diabetes mellitus ?\", \"die children parent age pass\", 32], [\"can you die by having diabetes ?\", \"die children parent age pass\", 32], [\"can you die of diabetes ?\", \"die children parent age pass\", 32], [\"can children die from diabetes ?\", \"die children parent age pass\", 32], [\"will my cat die from diabetes ?\", \"die children parent age pass\", 32], [\"can someone die from diabetes ?\", \"die children parent age pass\", 32], [\"can you die from diabetes ?\", \"die children parent age pass\", 32], [\"is the chance of diabetic baby born to parents both heterozygous normal ?\", \"die children parent age pass\", 32], [\"can diabetes cause death during juvenile age ?\", \"die children parent age pass\", 32], [\"can parents give their children diabetes ?\", \"die children parent age pass\", 32], [\"can diabetes be transferred sexually ?\", \"die children parent age pass\", 32], [\"can diabetic air hunger lead to death ?\", \"die children parent age pass\", 32], [\"will you die early if you have diabetes ?\", \"die children parent age pass\", 32], [\"can uncontrolled diabetes kill you ?\", \"die children parent age pass\", 32], [\"can you die when you have diabetes and while your pregnant ?\", \"die children parent age pass\", 32], [\"is it likely you will die from diabetes ?\", \"die children parent age pass\", 32], [\"can people die of diabetes ?\", \"die children parent age pass\", 32], [\"can genetic screening help diabetic parents to avoid passing diabetic genes to their children ?\", \"die children parent age pass\", 32]], \"hovertemplate\": \"summary=%{customdata[1]}<br>pc_1=%{x}<br>pc_2=%{y}<br>pc_3=%{z}<br>question=%{customdata[0]}<br>label=%{customdata[2]}<extra></extra>\", \"legendgroup\": \"die children parent age pass\", \"marker\": {\"color\": \"#FF6692\", \"size\": 8, \"symbol\": \"circle\"}, \"mode\": \"markers\", \"name\": \"die children parent age pass\", \"scene\": \"scene\", \"showlegend\": true, \"type\": \"scatter3d\", \"x\": [0.017920704558491707, 0.023052582517266273, 0.1931098997592926, 0.1582740843296051, 0.019105985760688782, 0.20072253048419952, 0.08394771814346313, 0.11797625571489334, 0.08322446793317795, 0.10413113236427307, 0.16833478212356567, 0.14162123203277588, 0.016172481700778008, 0.09796802699565887, 0.0414714477956295, 0.24020113050937653, 0.09165696054697037, 0.09764408320188522, 0.15191443264484406, 0.03760266676545143, 0.18013177812099457, 0.1282210499048233, 0.03661150857806206], \"y\": [0.3541239798069, 0.34763073921203613, 0.49592000246047974, 0.501608669757843, 0.45935773849487305, 0.36035406589508057, 0.4033268094062805, 0.42664772272109985, 0.4152645170688629, 0.39386555552482605, 0.48824259638786316, 0.459026575088501, 0.4272420108318329, 0.35610711574554443, 0.44078078866004944, 0.37081241607666016, 0.48278743028640747, 0.4126354455947876, 0.39559003710746765, 0.38775694370269775, 0.4595979154109955, 0.4659312963485718, 0.4824889004230499], \"z\": [-0.5804163813591003, -0.5004945397377014, -0.621233344078064, -0.704318106174469, -0.5293814539909363, -0.5064439177513123, -0.5878429412841797, -0.5973786115646362, -0.5003826022148132, -0.4334421753883362, -0.6642111539840698, -0.6209176182746887, -0.4537830352783203, -0.5106720924377441, -0.48971736431121826, -0.5474725365638733, -0.6287161111831665, -0.6587653160095215, -0.5832393169403076, -0.6086297631263733, -0.7021263837814331, -0.545785129070282, -0.4602809250354767]}, {\"customdata\": [[\"can one treat juvenile diabetes ?\", \"type two one take treat\", 45], [\"is type two diabetes life long ?\", \"type two one take treat\", 45], [\"can you take viagra with type two diabetes ?\", \"type two one take treat\", 45], [\"what is the expected outcome for patients with type one and type two diabetes ?\", \"type two one take treat\", 45], [\"what are the precautions people need to take if they have both type one and type two diabetes ?\", \"type two one take treat\", 45], [\"can taking drugs turn a type two into a type one ?\", \"type two one take treat\", 45], [\"can you use <unk> with type two diabetes ?\", \"type two one take treat\", 45], [\"do type one and two diabetes have to do with blood glucose ?\", \"type two one take treat\", 45], [\"can type two diabetes be treated ?\", \"type two one take treat\", 45], [\"can heat effect the <unk> of herpes type two ?\", \"type two one take treat\", 45]], \"hovertemplate\": \"summary=%{customdata[1]}<br>pc_1=%{x}<br>pc_2=%{y}<br>pc_3=%{z}<br>question=%{customdata[0]}<br>label=%{customdata[2]}<extra></extra>\", \"legendgroup\": \"type two one take treat\", \"marker\": {\"color\": \"#B6E880\", \"size\": 8, \"symbol\": \"circle\"}, \"mode\": \"markers\", \"name\": \"type two one take treat\", \"scene\": \"scene\", \"showlegend\": true, \"type\": \"scatter3d\", \"x\": [0.0070745376870036125, 0.10801319032907486, 0.08487557619810104, 0.10833360999822617, 0.07580970972776413, 0.14602133631706238, 0.08248844742774963, 0.14570240676403046, 0.03791730850934982, 0.05785528942942619], \"y\": [0.18478375673294067, 0.18542927503585815, 0.1550709307193756, 0.2630806565284729, 0.2503221929073334, 0.17932848632335663, 0.187530517578125, 0.1318884640932083, 0.1894831359386444, 0.20316147804260254], \"z\": [-0.15351366996765137, -0.1408226042985916, -0.0792626366019249, -0.07090140134096146, -0.13933727145195007, -0.04260017350316048, -0.09211389720439911, -0.12299284338951111, -0.11284306645393372, -0.036557886749506]}, {\"customdata\": [[\"where can i get more information about diabetic nutrition ?\", \"find inform diet get nutrit\", 35], [\"where can i get recipes for a diabetes meal diet that produce tasty results ?\", \"find inform diet get nutrit\", 35], [\"where can i find more information on cereal for diabetics ?\", \"find inform diet get nutrit\", 35], [\"where can i find more information on diabetes diet for seniors ?\", \"find inform diet get nutrit\", 35], [\"where can i find menus on the internet that cater to diabetic individuals ?\", \"find inform diet get nutrit\", 35], [\"where can we find more information on a vegetarian diet for a diabetic ?\", \"find inform diet get nutrit\", 35], [\"where can i find reliable information on diabetes diet guidelines ?\", \"find inform diet get nutrit\", 35], [\"where can one find a <unk> <unk> for oxidation of <unk> to facilitate research ?\", \"find inform diet get nutrit\", 35]], \"hovertemplate\": \"summary=%{customdata[1]}<br>pc_1=%{x}<br>pc_2=%{y}<br>pc_3=%{z}<br>question=%{customdata[0]}<br>label=%{customdata[2]}<extra></extra>\", \"legendgroup\": \"find inform diet get nutrit\", \"marker\": {\"color\": \"#FF97FF\", \"size\": 8, \"symbol\": \"circle\"}, \"mode\": \"markers\", \"name\": \"find inform diet get nutrit\", \"scene\": \"scene\", \"showlegend\": true, \"type\": \"scatter3d\", \"x\": [-0.7395793199539185, -0.6379203796386719, -0.6571598052978516, -0.6009024977684021, -0.6409919261932373, -0.6161776781082153, -0.5812531113624573, -0.6602929830551147], \"y\": [0.4485919177532196, 0.3608861565589905, 0.41521379351615906, 0.4624752700328827, 0.37387946248054504, 0.39675164222717285, 0.42091065645217896, 0.4967825710773468], \"z\": [0.1677965670824051, 0.2121642678976059, 0.14637300372123718, 0.17801256477832794, 0.08729695528745651, 0.1639598309993744, 0.17965711653232574, 0.09959017485380173]}],                        {\"height\": 500, \"legend\": {\"itemclick\": \"toggleothers\", \"title\": {\"text\": \"Cluster Summaries\"}, \"tracegroupgap\": 0}, \"margin\": {\"t\": 60}, \"scene\": {\"domain\": {\"x\": [0.0, 1.0], \"y\": [0.0, 1.0]}, \"xaxis\": {\"title\": {\"text\": \"pc_1\"}}, \"yaxis\": {\"title\": {\"text\": \"pc_2\"}}, \"zaxis\": {\"title\": {\"text\": \"pc_3\"}}}, \"template\": {\"data\": {\"bar\": [{\"error_x\": {\"color\": \"#2a3f5f\"}, \"error_y\": {\"color\": \"#2a3f5f\"}, \"marker\": {\"line\": {\"color\": \"#E5ECF6\", \"width\": 0.5}}, \"type\": \"bar\"}], \"barpolar\": [{\"marker\": {\"line\": {\"color\": \"#E5ECF6\", \"width\": 0.5}}, \"type\": \"barpolar\"}], \"carpet\": [{\"aaxis\": {\"endlinecolor\": \"#2a3f5f\", \"gridcolor\": \"white\", \"linecolor\": \"white\", \"minorgridcolor\": \"white\", \"startlinecolor\": \"#2a3f5f\"}, \"baxis\": {\"endlinecolor\": \"#2a3f5f\", \"gridcolor\": \"white\", \"linecolor\": \"white\", \"minorgridcolor\": \"white\", \"startlinecolor\": \"#2a3f5f\"}, \"type\": \"carpet\"}], \"choropleth\": [{\"colorbar\": {\"outlinewidth\": 0, \"ticks\": \"\"}, \"type\": \"choropleth\"}], \"contour\": [{\"colorbar\": {\"outlinewidth\": 0, \"ticks\": \"\"}, \"colorscale\": [[0.0, \"#0d0887\"], [0.1111111111111111, \"#46039f\"], [0.2222222222222222, \"#7201a8\"], [0.3333333333333333, \"#9c179e\"], [0.4444444444444444, \"#bd3786\"], [0.5555555555555556, \"#d8576b\"], [0.6666666666666666, \"#ed7953\"], [0.7777777777777778, \"#fb9f3a\"], [0.8888888888888888, \"#fdca26\"], [1.0, \"#f0f921\"]], \"type\": \"contour\"}], \"contourcarpet\": [{\"colorbar\": {\"outlinewidth\": 0, \"ticks\": \"\"}, \"type\": \"contourcarpet\"}], \"heatmap\": [{\"colorbar\": {\"outlinewidth\": 0, \"ticks\": \"\"}, \"colorscale\": [[0.0, \"#0d0887\"], [0.1111111111111111, \"#46039f\"], [0.2222222222222222, \"#7201a8\"], [0.3333333333333333, \"#9c179e\"], [0.4444444444444444, \"#bd3786\"], [0.5555555555555556, \"#d8576b\"], [0.6666666666666666, \"#ed7953\"], [0.7777777777777778, \"#fb9f3a\"], [0.8888888888888888, \"#fdca26\"], [1.0, \"#f0f921\"]], \"type\": \"heatmap\"}], \"heatmapgl\": [{\"colorbar\": {\"outlinewidth\": 0, \"ticks\": \"\"}, \"colorscale\": [[0.0, \"#0d0887\"], [0.1111111111111111, \"#46039f\"], [0.2222222222222222, \"#7201a8\"], [0.3333333333333333, \"#9c179e\"], [0.4444444444444444, \"#bd3786\"], [0.5555555555555556, \"#d8576b\"], [0.6666666666666666, \"#ed7953\"], [0.7777777777777778, \"#fb9f3a\"], [0.8888888888888888, \"#fdca26\"], [1.0, \"#f0f921\"]], \"type\": \"heatmapgl\"}], \"histogram\": [{\"marker\": {\"colorbar\": {\"outlinewidth\": 0, \"ticks\": \"\"}}, \"type\": \"histogram\"}], \"histogram2d\": [{\"colorbar\": {\"outlinewidth\": 0, \"ticks\": \"\"}, \"colorscale\": [[0.0, \"#0d0887\"], [0.1111111111111111, \"#46039f\"], [0.2222222222222222, \"#7201a8\"], [0.3333333333333333, \"#9c179e\"], [0.4444444444444444, \"#bd3786\"], [0.5555555555555556, \"#d8576b\"], [0.6666666666666666, \"#ed7953\"], [0.7777777777777778, \"#fb9f3a\"], [0.8888888888888888, \"#fdca26\"], [1.0, \"#f0f921\"]], \"type\": \"histogram2d\"}], \"histogram2dcontour\": [{\"colorbar\": {\"outlinewidth\": 0, \"ticks\": \"\"}, \"colorscale\": [[0.0, \"#0d0887\"], [0.1111111111111111, \"#46039f\"], [0.2222222222222222, \"#7201a8\"], [0.3333333333333333, \"#9c179e\"], [0.4444444444444444, \"#bd3786\"], [0.5555555555555556, \"#d8576b\"], [0.6666666666666666, \"#ed7953\"], [0.7777777777777778, \"#fb9f3a\"], [0.8888888888888888, \"#fdca26\"], [1.0, \"#f0f921\"]], \"type\": \"histogram2dcontour\"}], \"mesh3d\": [{\"colorbar\": {\"outlinewidth\": 0, \"ticks\": \"\"}, \"type\": \"mesh3d\"}], \"parcoords\": [{\"line\": {\"colorbar\": {\"outlinewidth\": 0, \"ticks\": \"\"}}, \"type\": \"parcoords\"}], \"pie\": [{\"automargin\": true, \"type\": \"pie\"}], \"scatter\": [{\"marker\": {\"colorbar\": {\"outlinewidth\": 0, \"ticks\": \"\"}}, \"type\": \"scatter\"}], \"scatter3d\": [{\"line\": {\"colorbar\": {\"outlinewidth\": 0, \"ticks\": \"\"}}, \"marker\": {\"colorbar\": {\"outlinewidth\": 0, \"ticks\": \"\"}}, \"type\": \"scatter3d\"}], \"scattercarpet\": [{\"marker\": {\"colorbar\": {\"outlinewidth\": 0, \"ticks\": \"\"}}, \"type\": \"scattercarpet\"}], \"scattergeo\": [{\"marker\": {\"colorbar\": {\"outlinewidth\": 0, \"ticks\": \"\"}}, \"type\": \"scattergeo\"}], \"scattergl\": [{\"marker\": {\"colorbar\": {\"outlinewidth\": 0, \"ticks\": \"\"}}, \"type\": \"scattergl\"}], \"scattermapbox\": [{\"marker\": {\"colorbar\": {\"outlinewidth\": 0, \"ticks\": \"\"}}, \"type\": \"scattermapbox\"}], \"scatterpolar\": [{\"marker\": {\"colorbar\": {\"outlinewidth\": 0, \"ticks\": \"\"}}, \"type\": \"scatterpolar\"}], \"scatterpolargl\": [{\"marker\": {\"colorbar\": {\"outlinewidth\": 0, \"ticks\": \"\"}}, \"type\": \"scatterpolargl\"}], \"scatterternary\": [{\"marker\": {\"colorbar\": {\"outlinewidth\": 0, \"ticks\": \"\"}}, \"type\": \"scatterternary\"}], \"surface\": [{\"colorbar\": {\"outlinewidth\": 0, \"ticks\": \"\"}, \"colorscale\": [[0.0, \"#0d0887\"], [0.1111111111111111, \"#46039f\"], [0.2222222222222222, \"#7201a8\"], [0.3333333333333333, \"#9c179e\"], [0.4444444444444444, \"#bd3786\"], [0.5555555555555556, \"#d8576b\"], [0.6666666666666666, \"#ed7953\"], [0.7777777777777778, \"#fb9f3a\"], [0.8888888888888888, \"#fdca26\"], [1.0, \"#f0f921\"]], \"type\": \"surface\"}], \"table\": [{\"cells\": {\"fill\": {\"color\": \"#EBF0F8\"}, \"line\": {\"color\": \"white\"}}, \"header\": {\"fill\": {\"color\": \"#C8D4E3\"}, \"line\": {\"color\": \"white\"}}, \"type\": \"table\"}]}, \"layout\": {\"annotationdefaults\": {\"arrowcolor\": \"#2a3f5f\", \"arrowhead\": 0, \"arrowwidth\": 1}, \"coloraxis\": {\"colorbar\": {\"outlinewidth\": 0, \"ticks\": \"\"}}, \"colorscale\": {\"diverging\": [[0, \"#8e0152\"], [0.1, \"#c51b7d\"], [0.2, \"#de77ae\"], [0.3, \"#f1b6da\"], [0.4, \"#fde0ef\"], [0.5, \"#f7f7f7\"], [0.6, \"#e6f5d0\"], [0.7, \"#b8e186\"], [0.8, \"#7fbc41\"], [0.9, \"#4d9221\"], [1, \"#276419\"]], \"sequential\": [[0.0, \"#0d0887\"], [0.1111111111111111, \"#46039f\"], [0.2222222222222222, \"#7201a8\"], [0.3333333333333333, \"#9c179e\"], [0.4444444444444444, \"#bd3786\"], [0.5555555555555556, \"#d8576b\"], [0.6666666666666666, \"#ed7953\"], [0.7777777777777778, \"#fb9f3a\"], [0.8888888888888888, \"#fdca26\"], [1.0, \"#f0f921\"]], \"sequentialminus\": [[0.0, \"#0d0887\"], [0.1111111111111111, \"#46039f\"], [0.2222222222222222, \"#7201a8\"], [0.3333333333333333, \"#9c179e\"], [0.4444444444444444, \"#bd3786\"], [0.5555555555555556, \"#d8576b\"], [0.6666666666666666, \"#ed7953\"], [0.7777777777777778, \"#fb9f3a\"], [0.8888888888888888, \"#fdca26\"], [1.0, \"#f0f921\"]]}, \"colorway\": [\"#636efa\", \"#EF553B\", \"#00cc96\", \"#ab63fa\", \"#FFA15A\", \"#19d3f3\", \"#FF6692\", \"#B6E880\", \"#FF97FF\", \"#FECB52\"], \"font\": {\"color\": \"#2a3f5f\"}, \"geo\": {\"bgcolor\": \"white\", \"lakecolor\": \"white\", \"landcolor\": \"#E5ECF6\", \"showlakes\": true, \"showland\": true, \"subunitcolor\": \"white\"}, \"hoverlabel\": {\"align\": \"left\"}, \"hovermode\": \"closest\", \"mapbox\": {\"style\": \"light\"}, \"paper_bgcolor\": \"white\", \"plot_bgcolor\": \"#E5ECF6\", \"polar\": {\"angularaxis\": {\"gridcolor\": \"white\", \"linecolor\": \"white\", \"ticks\": \"\"}, \"bgcolor\": \"#E5ECF6\", \"radialaxis\": {\"gridcolor\": \"white\", \"linecolor\": \"white\", \"ticks\": \"\"}}, \"scene\": {\"xaxis\": {\"backgroundcolor\": \"#E5ECF6\", \"gridcolor\": \"white\", \"gridwidth\": 2, \"linecolor\": \"white\", \"showbackground\": true, \"ticks\": \"\", \"zerolinecolor\": \"white\"}, \"yaxis\": {\"backgroundcolor\": \"#E5ECF6\", \"gridcolor\": \"white\", \"gridwidth\": 2, \"linecolor\": \"white\", \"showbackground\": true, \"ticks\": \"\", \"zerolinecolor\": \"white\"}, \"zaxis\": {\"backgroundcolor\": \"#E5ECF6\", \"gridcolor\": \"white\", \"gridwidth\": 2, \"linecolor\": \"white\", \"showbackground\": true, \"ticks\": \"\", \"zerolinecolor\": \"white\"}}, \"shapedefaults\": {\"line\": {\"color\": \"#2a3f5f\"}}, \"ternary\": {\"aaxis\": {\"gridcolor\": \"white\", \"linecolor\": \"white\", \"ticks\": \"\"}, \"baxis\": {\"gridcolor\": \"white\", \"linecolor\": \"white\", \"ticks\": \"\"}, \"bgcolor\": \"#E5ECF6\", \"caxis\": {\"gridcolor\": \"white\", \"linecolor\": \"white\", \"ticks\": \"\"}}, \"title\": {\"x\": 0.05}, \"xaxis\": {\"automargin\": true, \"gridcolor\": \"white\", \"linecolor\": \"white\", \"ticks\": \"\", \"title\": {\"standoff\": 15}, \"zerolinecolor\": \"white\", \"zerolinewidth\": 2}, \"yaxis\": {\"automargin\": true, \"gridcolor\": \"white\", \"linecolor\": \"white\", \"ticks\": \"\", \"title\": {\"standoff\": 15}, \"zerolinecolor\": \"white\", \"zerolinewidth\": 2}}}, \"title\": {\"text\": \"Projected Feature Space of Validation Questions\"}},                        {\"responsive\": true}                    ).then(function(){\n",
       "                            \n",
       "var gd = document.getElementById('80bdc8ad-2f5f-4a6e-9179-868acd471355');\n",
       "var x = new MutationObserver(function (mutations, observer) {{\n",
       "        var display = window.getComputedStyle(gd).display;\n",
       "        if (!display || display === 'none') {{\n",
       "            console.log([gd, 'removed!']);\n",
       "            Plotly.purge(gd);\n",
       "            observer.disconnect();\n",
       "        }}\n",
       "}});\n",
       "\n",
       "// Listen for the removal of the full notebook cells\n",
       "var notebookContainer = gd.closest('#notebook-container');\n",
       "if (notebookContainer) {{\n",
       "    x.observe(notebookContainer, {childList: true});\n",
       "}}\n",
       "\n",
       "// Listen for the clearing of the current output cell\n",
       "var outputEl = gd.closest('.output');\n",
       "if (outputEl) {{\n",
       "    x.observe(outputEl, {childList: true});\n",
       "}}\n",
       "\n",
       "                        })                };                });            </script>        </div>"
      ]
     },
     "metadata": {},
     "output_type": "display_data"
    }
   ],
   "source": [
    "fig = px.scatter_3d(\n",
    "    df[df['label'] != -1], x='pc_1', y='pc_2', z='pc_3', color='summary', \n",
    "    hover_data=['question', 'summary', 'label'])\n",
    "fig.update_traces(marker_size=8)\n",
    "fig.update_layout(\n",
    "    title='Projected Feature Space of Validation Questions',\n",
    "    legend={'title': 'Cluster Summaries', 'itemclick': 'toggleothers'},\n",
    "    height=500,\n",
    ")\n",
    "fig.show()"
   ]
  },
  {
   "cell_type": "markdown",
   "metadata": {},
   "source": [
    "#### 6. Plot Cluster Label Distribution\n",
    "\n",
    "To get another perspective on the validation question clusters, we plot below the percent-weighted histogram of the non-outlier cluster labels. This gives us a sampled distributional view of the \"core\" topics in which users ask questions about within this domain, allowing us to make an estimates on the expected relative frequency of seeing these question topics in the data-source forum. "
   ]
  },
  {
   "cell_type": "code",
   "execution_count": 13,
   "metadata": {},
   "outputs": [
    {
     "data": {
      "application/vnd.plotly.v1+json": {
       "config": {
        "plotlyServerURL": "https://plot.ly"
       },
       "data": [
        {
         "alignmentgroup": "True",
         "bingroup": "x",
         "histnorm": "percent",
         "hovertemplate": "summary=%{x}<br>count=%{y}<extra></extra>",
         "legendgroup": "",
         "marker": {
          "color": "#636efa"
         },
         "name": "",
         "nbinsx": 50,
         "offsetgroup": "",
         "orientation": "v",
         "showlegend": false,
         "type": "histogram",
         "x": [
          "diet type two best one",
          "mani sugar gram consum eat",
          "pregnanc gestat doctor benefit pregnant",
          "food find list good recip",
          "blood sugar insulin one level",
          "blood sugar level high hundr",
          "recip good dessert cooki book",
          "glucos level blood normal rang",
          "symptom sign common mellitu type",
          "normal level sugar blood year",
          "drink sugar alcohol type beer",
          "symptom sign common mellitu type",
          "blood sugar insulin one level",
          "eat good fruit patient safe",
          "drink sugar alcohol type beer",
          "blood sugar level high hundr",
          "symptom sign common mellitu type",
          "eat good fruit patient safe",
          "blood level glucos sugar insulin",
          "drink sugar alcohol type beer",
          "peopl mani uk everi number",
          "nick jona get cure ever",
          "diet plan healthi african american",
          "get type one know two",
          "medic metformin treat without side",
          "glucos blood concentr high low",
          "get type one know two",
          "common relat sugar borderlin born",
          "food find list good recip",
          "blood sugar insulin one level",
          "word excess thirst caus exactli",
          "blood sugar insulin one level",
          "test blood strip done ac",
          "pregnanc gestat doctor benefit pregnant",
          "caus drowsi sever depress urin",
          "blood sugar level high hundr",
          "get type one know two",
          "blood sugar level high hundr",
          "nick jona get cure ever",
          "type two one mellitu differ",
          "take join team massag borderlin",
          "good person patient chees okay",
          "cure type2 home remedi treat",
          "type two one mellitu differ",
          "treatment type medicin medic treat",
          "recip good dessert cooki book",
          "treatment type medicin medic treat",
          "blood sugar insulin one level",
          "two real author type fear",
          "eat good fruit patient safe",
          "food find list good recip",
          "normal level sugar blood year",
          "blood sugar level high hundr",
          "get type one know two",
          "eat good fruit patient safe",
          "food find list good recip",
          "symptom sign common mellitu type",
          "insulin produc releas cell get",
          "treatment type medicin medic treat",
          "blood sugar level high hundr",
          "glucos type two affect use",
          "food find list good recip",
          "insulin syring use lantu treat",
          "diet plan good menu meal",
          "diet type two good use",
          "glucos type two affect use",
          "mani sugar gram consum eat",
          "glucos type two affect use",
          "glucos type two affect use",
          "blood level glucos sugar insulin",
          "diet plan good menu meal",
          "glucos type two affect use",
          "blood level glucos sugar insulin",
          "glucos type two affect use",
          "glucos type two affect use",
          "food find list good recip",
          "glucos type two affect use",
          "insulin type disord product resist",
          "glucos level blood normal rang",
          "blood sugar level high hundr",
          "glucos type two affect use",
          "normal level sugar blood year",
          "glucos type two affect use",
          "glucos level blood normal rang",
          "nick jona get cure ever",
          "blood sugar insulin one level",
          "food find list good recip",
          "food find list good recip",
          "function gonad normal valu site",
          "insulin produc releas cell get",
          "nick jona get cure ever",
          "glucos blood concentr high low",
          "blood sugar level high hundr",
          "blood sugar level high hundr",
          "insulin produc releas cell get",
          "eat good fruit patient safe",
          "nick jona get cure ever",
          "blood sugar level high hundr",
          "glucos type two affect use",
          "eat good fruit patient safe",
          "food find list good recip",
          "drink sugar alcohol type beer",
          "eat good fruit patient safe",
          "blood sugar level high hundr",
          "type two one mellitu differ",
          "treatment type medicin medic treat",
          "nick jona get cure ever",
          "insulin produc releas cell get",
          "glucos type two affect use",
          "diet type two best one",
          "diet type two best one",
          "eat good fruit patient safe",
          "insulin role best diabit n",
          "diseas type one genet communic",
          "blood sugar insulin one level",
          "common relat sugar borderlin born",
          "blood sugar level high hundr",
          "insulin produc releas cell get",
          "peopl mani uk everi number",
          "eat good fruit patient safe",
          "suppli one purchas get buy",
          "blood sugar level high hundr",
          "get type one know two",
          "blood sugar insulin one level",
          "drink sugar alcohol type beer",
          "diet type two best one",
          "blood level glucos sugar insulin",
          "blood sugar high low level",
          "type two one mellitu differ",
          "blood sugar level high hundr",
          "blood sugar insulin one level",
          "get type one know two",
          "symptom sign common mellitu type",
          "symptom sign common mellitu type",
          "sugar get much eat lot",
          "blood sugar level high hundr",
          "type two one mellitu differ",
          "type two one mellitu differ",
          "glucos type two affect use",
          "insulin produc releas cell get",
          "word excess thirst caus exactli",
          "common relat sugar borderlin born",
          "blood sugar level high hundr",
          "blood sugar level high hundr",
          "caus drowsi sever depress urin",
          "nick jona get cure ever",
          "treatment type medicin medic treat",
          "eat good fruit patient safe",
          "insulin unit mani zero point",
          "diseas type one genet communic",
          "test blood strip done ac",
          "get type one know two",
          "suppli one purchas get buy",
          "nick jona get cure ever",
          "take join team massag borderlin",
          "eat good fruit patient safe",
          "glucos level blood normal rang",
          "cure type2 home remedi treat",
          "treatment type medicin medic treat",
          "diseas type one genet communic",
          "food find list good recip",
          "blood sugar insulin one level",
          "blood sugar insulin one level",
          "would exercis arm lose weigt",
          "food find list good recip",
          "two real author type fear",
          "eat good fruit patient safe",
          "diet plan good menu meal",
          "blood sugar level high hundr",
          "treatment type medicin medic treat",
          "common relat sugar borderlin born",
          "food find list good recip",
          "treatment type medicin medic treat",
          "symptom sign common mellitu type",
          "insulin syring use lantu treat",
          "diet type two best one",
          "word excess thirst caus exactli",
          "blood sugar high low level",
          "blood sugar insulin one level",
          "eat good fruit patient safe",
          "insulin role best diabit n",
          "food find list good recip",
          "blood sugar level high hundr",
          "eat good fruit patient safe",
          "normal level sugar blood year",
          "food find list good recip",
          "diet plan good menu meal",
          "insulin unit mani zero point",
          "blood sugar level high hundr",
          "suppli one purchas get buy",
          "blood sugar level high hundr",
          "diet plan good menu meal",
          "insulin produc releas cell get",
          "symptom sign common mellitu type",
          "symptom sign common mellitu type",
          "type two one mellitu differ",
          "blood sugar insulin one level",
          "eat good fruit patient safe",
          "blood sugar level high hundr",
          "mellitu insipidu call mean import",
          "food find list good recip",
          "symptom sign common mellitu type",
          "diseas type one genet communic",
          "nick jona get cure ever",
          "nick jona get cure ever",
          "blood sugar level high hundr",
          "food find list good recip",
          "blood sugar insulin one level",
          "blood sugar insulin one level",
          "insulin produc releas cell get",
          "food find list good recip",
          "insulin produc releas cell get",
          "food find list good recip",
          "blood sugar level high hundr",
          "nick jona get cure ever",
          "diet type two best one",
          "type two one mellitu differ",
          "good person patient chees okay",
          "blood sugar level high hundr",
          "glucos level blood normal rang",
          "blood sugar level high hundr",
          "glucos level blood normal rang",
          "prevent get could rid person",
          "peopl mani uk everi number",
          "nick jona get cure ever",
          "mellitu insipidu call mean import",
          "sugar blood level normal rang",
          "nick jona get cure ever",
          "common relat sugar borderlin born",
          "eat good fruit patient safe",
          "nick jona get cure ever",
          "blood level glucos sugar insulin",
          "die children parent age pass",
          "common relat sugar borderlin born",
          "suppli one purchas get buy",
          "insulin produc releas cell get",
          "sugar blood level normal rang",
          "eat good fruit patient safe",
          "normal level sugar blood year",
          "mani sugar gram consum eat",
          "eat good fruit patient safe",
          "glucos type two affect use",
          "nick jona get cure ever",
          "recip good dessert cooki book",
          "symptom sign common mellitu type",
          "nick jona get cure ever",
          "food find list good recip",
          "recip good dessert cooki book",
          "get type one know two",
          "blood sugar insulin one level",
          "diet plan good menu meal",
          "blood sugar level high hundr",
          "diet plan good menu meal",
          "blood sugar level high hundr",
          "diseas type one genet communic",
          "eat good fruit patient safe",
          "treatment type medicin medic treat",
          "diet type two best one",
          "glucos level blood normal rang",
          "treatment type medicin medic treat",
          "eat good fruit patient safe",
          "die children parent age pass",
          "type two one mellitu differ",
          "cure type2 home remedi treat",
          "common relat sugar borderlin born",
          "cure type2 home remedi treat",
          "blood sugar high low level",
          "food find list good recip",
          "blood sugar insulin one level",
          "food find list good recip",
          "blood sugar level high hundr",
          "two real author type fear",
          "blood sugar level high hundr",
          "blood sugar level high hundr",
          "sugar blood level normal rang",
          "treatment type medicin medic treat",
          "insulin produc releas cell get",
          "diet type two good use",
          "word excess thirst caus exactli",
          "recip good dessert cooki book",
          "blood sugar insulin one level",
          "peopl mani uk everi number",
          "test blood strip done ac",
          "die children parent age pass",
          "prevent get could rid person",
          "function gonad normal valu site",
          "mellitu insipidu call mean import",
          "peopl mani uk everi number",
          "type two one mellitu differ",
          "blood sugar level high hundr",
          "symptom sign common mellitu type",
          "type two one mellitu differ",
          "treatment type medicin medic treat",
          "symptom sign common mellitu type",
          "blood sugar insulin one level",
          "good person patient chees okay",
          "get type one know two",
          "diseas type one genet communic",
          "blood sugar level high hundr",
          "blood sugar level high hundr",
          "food find list good recip",
          "treatment type medicin medic treat",
          "blood sugar insulin one level",
          "diet type two best one",
          "eat good fruit patient safe",
          "blood sugar insulin one level",
          "eat good fruit patient safe",
          "normal level sugar blood year",
          "type two one mellitu differ",
          "recip good dessert cooki book",
          "nick jona get cure ever",
          "drink sugar alcohol type beer",
          "insulin unit mani zero point",
          "recip good dessert cooki book",
          "blood sugar insulin one level",
          "eat good fruit patient safe",
          "get type one know two",
          "blood sugar level high hundr",
          "eat good fruit patient safe",
          "blood sugar insulin one level",
          "peopl mani uk everi number",
          "eat good fruit patient safe",
          "blood level glucos sugar insulin",
          "two real author type fear",
          "common relat sugar borderlin born",
          "caus drowsi sever depress urin",
          "symptom sign common mellitu type",
          "pregnanc gestat doctor benefit pregnant",
          "blood sugar insulin one level",
          "eat good fruit patient safe",
          "treatment type medicin medic treat",
          "recip good dessert cooki book",
          "nick jona get cure ever",
          "blood sugar level high hundr",
          "good person patient chees okay",
          "blood sugar level high hundr",
          "treatment type medicin medic treat",
          "eat good fruit patient safe",
          "symptom sign common mellitu type",
          "drink sugar alcohol type beer",
          "recip good dessert cooki book",
          "die children parent age pass",
          "diet type two best one",
          "glucos level blood normal rang",
          "two real author type fear",
          "nick jona get cure ever",
          "blood sugar insulin one level",
          "type two one mellitu differ",
          "die children parent age pass",
          "blood sugar insulin one level",
          "food find list good recip",
          "insulin role best diabit n",
          "sugar blood level normal rang",
          "symptom sign common mellitu type",
          "type two one mellitu differ",
          "get type one know two",
          "recip good dessert cooki book",
          "eat good fruit patient safe",
          "diseas type one genet communic",
          "mani sugar gram consum eat",
          "blood sugar level high hundr",
          "blood level glucos sugar insulin",
          "diseas type one genet communic",
          "type two one mellitu differ",
          "mani sugar gram consum eat",
          "eat good fruit patient safe",
          "diseas type one genet communic",
          "nick jona get cure ever",
          "cure type2 home remedi treat",
          "nick jona get cure ever",
          "diet plan good menu meal",
          "glucos type two affect use",
          "nick jona get cure ever",
          "word excess thirst caus exactli",
          "pregnanc gestat doctor benefit pregnant",
          "blood level glucos sugar insulin",
          "eat good fruit patient safe",
          "diet plan healthi african american",
          "eat good fruit patient safe",
          "recip good dessert cooki book",
          "symptom sign common mellitu type",
          "blood sugar insulin one level",
          "function gonad normal valu site",
          "diet plan good menu meal",
          "eat good fruit patient safe",
          "sugar get much eat lot",
          "glucos type two affect use",
          "type two one mellitu differ",
          "diet type two best one",
          "recip good dessert cooki book",
          "insulin produc releas cell get",
          "blood sugar insulin one level",
          "diet plan good menu meal",
          "eat good fruit patient safe",
          "treatment type medicin medic treat",
          "food find list good recip",
          "suppli one purchas get buy",
          "blood sugar level high hundr",
          "blood sugar level high hundr",
          "diseas type one genet communic",
          "treatment type medicin medic treat",
          "glucos level blood normal rang",
          "glucos level blood normal rang",
          "glucos blood concentr high low",
          "common relat sugar borderlin born",
          "symptom sign common mellitu type",
          "blood sugar level high hundr",
          "blood sugar level high hundr",
          "diet type two good use",
          "diet plan good menu meal",
          "blood sugar level high hundr",
          "food find list good recip",
          "nick jona get cure ever",
          "blood sugar level high hundr",
          "common relat sugar borderlin born",
          "peopl mani uk everi number",
          "blood sugar level high hundr",
          "glucos level blood normal rang",
          "symptom sign common mellitu type",
          "get type one know two",
          "blood sugar level high hundr",
          "food find list good recip",
          "eat good fruit patient safe",
          "eat good fruit patient safe",
          "blood sugar level high hundr",
          "treatment type medicin medic treat",
          "type two one mellitu differ",
          "glucos type two affect use",
          "mani sugar gram consum eat",
          "recip good dessert cooki book",
          "treatment type medicin medic treat",
          "diseas type one genet communic",
          "nick jona get cure ever",
          "nick jona get cure ever",
          "glucos level blood normal rang",
          "recip good dessert cooki book",
          "die children parent age pass",
          "normal level sugar blood year",
          "blood sugar level high hundr",
          "nick jona get cure ever",
          "glucos type two affect use",
          "diseas type one genet communic",
          "blood level glucos sugar insulin",
          "glucos level blood normal rang",
          "would exercis arm lose weigt",
          "suppli one purchas get buy",
          "blood sugar level high hundr",
          "blood level glucos sugar insulin",
          "food find list good recip",
          "peopl mani uk everi number",
          "blood sugar insulin one level",
          "diseas type one genet communic",
          "nick jona get cure ever",
          "insulin produc releas cell get",
          "nick jona get cure ever",
          "blood sugar level high hundr",
          "get type one know two",
          "blood sugar level high hundr",
          "insulin produc releas cell get",
          "mani sugar gram consum eat",
          "blood level glucos sugar insulin",
          "blood sugar level high hundr",
          "nick jona get cure ever",
          "blood sugar insulin one level",
          "insulin produc releas cell get",
          "food find list good recip",
          "treatment type medicin medic treat",
          "blood sugar level high hundr",
          "food find list good recip",
          "food find list good recip",
          "type two one mellitu differ",
          "normal level sugar blood year",
          "blood sugar level high hundr",
          "eat good fruit patient safe",
          "blood sugar level high hundr",
          "caus drowsi sever depress urin",
          "symptom sign common mellitu type",
          "suppli one purchas get buy",
          "food find list good recip",
          "eat good fruit patient safe",
          "symptom sign common mellitu type",
          "get type one know two",
          "nick jona get cure ever",
          "glucos type two affect use",
          "mani sugar gram consum eat",
          "blood sugar level high hundr",
          "medic metformin treat without side",
          "insulin produc releas cell get",
          "drink sugar alcohol type beer",
          "insulin produc releas cell get",
          "food find list good recip",
          "common relat sugar borderlin born",
          "function gonad normal valu site",
          "nick jona get cure ever",
          "insulin role best diabit n",
          "type two one mellitu differ",
          "sugar blood level normal rang",
          "food find list good recip",
          "insulin produc releas cell get",
          "diseas type one genet communic",
          "eat good fruit patient safe",
          "nick jona get cure ever",
          "function gonad normal valu site",
          "blood sugar level high hundr",
          "blood level glucos sugar insulin",
          "treatment type medicin medic treat",
          "symptom sign common mellitu type",
          "blood level glucos sugar insulin",
          "blood sugar insulin one level",
          "blood sugar level high hundr",
          "get type one know two",
          "nick jona get cure ever",
          "blood sugar level high hundr",
          "function gonad normal valu site",
          "diet plan good menu meal",
          "diet plan good menu meal",
          "blood sugar level high hundr",
          "blood sugar level high hundr",
          "type two one mellitu differ",
          "symptom sign common mellitu type",
          "type two one mellitu differ",
          "eat good fruit patient safe",
          "blood sugar level high hundr",
          "sugar blood level normal rang",
          "insulin type disord product resist",
          "sugar blood level normal rang",
          "treatment type medicin medic treat",
          "type two one mellitu differ",
          "treatment type medicin medic treat",
          "take join team massag borderlin",
          "recip good dessert cooki book",
          "nick jona get cure ever",
          "eat good fruit patient safe",
          "blood sugar level high hundr",
          "insulin produc releas cell get",
          "diseas type one genet communic",
          "blood level glucos sugar insulin",
          "common relat sugar borderlin born",
          "eat good fruit patient safe",
          "diet plan good menu meal",
          "type two one mellitu differ",
          "blood sugar insulin one level",
          "eat good fruit patient safe",
          "blood sugar level high hundr",
          "nick jona get cure ever",
          "die children parent age pass",
          "blood sugar level high hundr",
          "treatment type medicin medic treat",
          "blood sugar insulin one level",
          "die children parent age pass",
          "treatment type medicin medic treat",
          "eat good fruit patient safe",
          "blood sugar level high hundr",
          "symptom sign common mellitu type",
          "diseas type one genet communic",
          "blood sugar high low level",
          "insulin type disord product resist",
          "treatment type medicin medic treat",
          "type two one take treat",
          "treatment type medicin medic treat",
          "blood sugar level high hundr",
          "get type one know two",
          "drink sugar alcohol type beer",
          "type two one mellitu differ",
          "eat good fruit patient safe",
          "blood sugar level high hundr",
          "nick jona get cure ever",
          "common relat sugar borderlin born",
          "treatment type medicin medic treat",
          "food find list good recip",
          "recip good dessert cooki book",
          "blood sugar level high hundr",
          "recip good dessert cooki book",
          "blood sugar level high hundr",
          "insulin role best diabit n",
          "die children parent age pass",
          "blood sugar insulin one level",
          "blood level glucos sugar insulin",
          "blood sugar level high hundr",
          "mani sugar gram consum eat",
          "recip good dessert cooki book",
          "eat good fruit patient safe",
          "blood sugar high low level",
          "two real author type fear",
          "insulin role best diabit n",
          "blood sugar insulin one level",
          "nick jona get cure ever",
          "blood sugar high low level",
          "diet type two good use",
          "pregnanc gestat doctor benefit pregnant",
          "peopl mani uk everi number",
          "eat good fruit patient safe",
          "two real author type fear",
          "diet type two best one",
          "eat good fruit patient safe",
          "blood sugar level high hundr",
          "blood sugar level high hundr",
          "insulin produc releas cell get",
          "sugar blood level normal rang",
          "eat good fruit patient safe",
          "nick jona get cure ever",
          "get type one know two",
          "diet type two good use",
          "word excess thirst caus exactli",
          "diet plan good menu meal",
          "type two one mellitu differ",
          "blood sugar insulin one level",
          "drink sugar alcohol type beer",
          "diseas type one genet communic",
          "mellitu insipidu call mean import",
          "insulin produc releas cell get",
          "diet type two best one",
          "type two one mellitu differ",
          "diet type two best one",
          "recip good dessert cooki book",
          "drink sugar alcohol type beer",
          "word excess thirst caus exactli",
          "blood sugar level high hundr",
          "blood sugar high low level",
          "normal level sugar blood year",
          "symptom sign common mellitu type",
          "food find list good recip",
          "word excess thirst caus exactli",
          "would exercis arm lose weigt",
          "diet plan good menu meal",
          "glucos level blood normal rang",
          "drink sugar alcohol type beer",
          "recip good dessert cooki book",
          "drink sugar alcohol type beer",
          "blood sugar level high hundr",
          "sugar blood level normal rang",
          "blood sugar insulin one level",
          "food find list good recip",
          "sugar blood level normal rang",
          "common relat sugar borderlin born",
          "function gonad normal valu site",
          "food find list good recip",
          "eat good fruit patient safe",
          "get type one know two",
          "blood sugar level high hundr",
          "caus drowsi sever depress urin",
          "cure type2 home remedi treat",
          "word excess thirst caus exactli",
          "diet plan good menu meal",
          "sugar blood level normal rang",
          "sugar blood level normal rang",
          "drink sugar alcohol type beer",
          "blood sugar insulin one level",
          "get type one know two",
          "blood sugar level high hundr",
          "blood sugar level high hundr",
          "eat good fruit patient safe",
          "symptom sign common mellitu type",
          "treatment type medicin medic treat",
          "two real author type fear",
          "food find list good recip",
          "die children parent age pass",
          "symptom sign common mellitu type",
          "type two one mellitu differ",
          "blood sugar level high hundr",
          "treatment type medicin medic treat",
          "test blood strip done ac",
          "type two one mellitu differ",
          "common relat sugar borderlin born",
          "common relat sugar borderlin born",
          "symptom sign common mellitu type",
          "type two one mellitu differ",
          "find inform diet get nutrit",
          "symptom sign common mellitu type",
          "glucos level blood normal rang",
          "blood sugar high low level",
          "insulin syring use lantu treat",
          "caus drowsi sever depress urin",
          "recip good dessert cooki book",
          "recip good dessert cooki book",
          "symptom sign common mellitu type",
          "nick jona get cure ever",
          "sugar blood level normal rang",
          "sugar blood level normal rang",
          "blood sugar insulin one level",
          "type two one mellitu differ",
          "insulin produc releas cell get",
          "symptom sign common mellitu type",
          "blood sugar level high hundr",
          "insulin syring use lantu treat",
          "diet plan good menu meal",
          "mani sugar gram consum eat",
          "diet plan good menu meal",
          "glucos type two affect use",
          "cure type2 home remedi treat",
          "mellitu insipidu call mean import",
          "blood sugar level high hundr",
          "blood sugar level high hundr",
          "sugar blood level normal rang",
          "sugar get much eat lot",
          "peopl mani uk everi number",
          "normal level sugar blood year",
          "glucos type two affect use",
          "eat good fruit patient safe",
          "glucos level blood normal rang",
          "two real author type fear",
          "would exercis arm lose weigt",
          "pregnanc gestat doctor benefit pregnant",
          "diseas type one genet communic",
          "eat good fruit patient safe",
          "type two one mellitu differ",
          "diseas type one genet communic",
          "sugar blood level normal rang",
          "mani sugar gram consum eat",
          "food find list good recip",
          "type two one mellitu differ",
          "blood sugar insulin one level",
          "blood sugar insulin one level",
          "diet type two best one",
          "treatment type medicin medic treat",
          "symptom sign common mellitu type",
          "eat good fruit patient safe",
          "blood sugar level high hundr",
          "mani sugar gram consum eat",
          "symptom sign common mellitu type",
          "pregnanc gestat doctor benefit pregnant",
          "treatment type medicin medic treat",
          "type two one mellitu differ",
          "find inform diet get nutrit",
          "insulin produc releas cell get",
          "common relat sugar borderlin born",
          "eat good fruit patient safe",
          "symptom sign common mellitu type",
          "blood sugar insulin one level",
          "eat good fruit patient safe",
          "treatment type medicin medic treat",
          "find inform diet get nutrit",
          "nick jona get cure ever",
          "blood sugar insulin one level",
          "blood sugar level high hundr",
          "common relat sugar borderlin born",
          "blood sugar level high hundr",
          "blood sugar level high hundr",
          "diet type two good use",
          "mani sugar gram consum eat",
          "two real author type fear",
          "blood sugar level high hundr",
          "insulin produc releas cell get",
          "blood sugar level high hundr",
          "eat good fruit patient safe",
          "suppli one purchas get buy",
          "caus drowsi sever depress urin",
          "food find list good recip",
          "symptom sign common mellitu type",
          "find inform diet get nutrit",
          "eat good fruit patient safe",
          "insulin unit mani zero point",
          "diet plan good menu meal",
          "eat good fruit patient safe",
          "take join team massag borderlin",
          "blood sugar insulin one level",
          "get type one know two",
          "mellitu insipidu call mean import",
          "diet plan good menu meal",
          "caus drowsi sever depress urin",
          "glucos level blood normal rang",
          "drink sugar alcohol type beer",
          "blood sugar level high hundr",
          "nick jona get cure ever",
          "type two one mellitu differ",
          "food find list good recip",
          "blood sugar level high hundr",
          "blood sugar level high hundr",
          "glucos type two affect use",
          "symptom sign common mellitu type",
          "nick jona get cure ever",
          "eat good fruit patient safe",
          "symptom sign common mellitu type",
          "eat good fruit patient safe",
          "eat good fruit patient safe",
          "glucos type two affect use",
          "blood sugar level high hundr",
          "function gonad normal valu site",
          "blood sugar level high hundr",
          "diet plan good menu meal",
          "common relat sugar borderlin born",
          "mani sugar gram consum eat",
          "blood sugar insulin one level",
          "eat good fruit patient safe",
          "treatment type medicin medic treat",
          "blood sugar level high hundr",
          "symptom sign common mellitu type",
          "glucos type two affect use",
          "peopl mani uk everi number",
          "type two one mellitu differ",
          "treatment type medicin medic treat",
          "blood sugar high low level",
          "insulin syring use lantu treat",
          "blood sugar insulin one level",
          "symptom sign common mellitu type",
          "blood sugar level high hundr",
          "normal level sugar blood year",
          "blood sugar level high hundr",
          "symptom sign common mellitu type",
          "blood sugar level high hundr",
          "glucos blood concentr high low",
          "blood sugar level high hundr",
          "peopl mani uk everi number",
          "take join team massag borderlin",
          "get type one know two",
          "die children parent age pass",
          "nick jona get cure ever",
          "diet type two best one",
          "insulin unit mani zero point",
          "nick jona get cure ever",
          "blood sugar high low level",
          "nick jona get cure ever",
          "diseas type one genet communic",
          "pregnanc gestat doctor benefit pregnant",
          "blood sugar level high hundr",
          "blood sugar level high hundr",
          "blood sugar insulin one level",
          "insulin unit mani zero point",
          "nick jona get cure ever",
          "blood sugar insulin one level",
          "sugar blood level normal rang",
          "mellitu insipidu call mean import",
          "blood level glucos sugar insulin",
          "diet plan good menu meal",
          "blood sugar level high hundr",
          "would exercis arm lose weigt",
          "diet plan healthi african american",
          "blood sugar insulin one level",
          "diet plan good menu meal",
          "blood sugar insulin one level",
          "good person patient chees okay",
          "common relat sugar borderlin born",
          "eat good fruit patient safe",
          "get type one know two",
          "nick jona get cure ever",
          "caus drowsi sever depress urin",
          "insulin unit mani zero point",
          "diet type two best one",
          "blood sugar insulin one level",
          "type two one mellitu differ",
          "sugar blood level normal rang",
          "blood level glucos sugar insulin",
          "eat good fruit patient safe",
          "die children parent age pass",
          "eat good fruit patient safe",
          "blood sugar level high hundr",
          "good person patient chees okay",
          "eat good fruit patient safe",
          "good person patient chees okay",
          "nick jona get cure ever",
          "prevent get could rid person",
          "get type one know two",
          "glucos level blood normal rang",
          "test blood strip done ac",
          "blood sugar high low level",
          "type two one mellitu differ",
          "insulin produc releas cell get",
          "type two one mellitu differ",
          "symptom sign common mellitu type",
          "treatment type medicin medic treat",
          "glucos type two affect use",
          "mellitu insipidu call mean import",
          "blood sugar level high hundr",
          "glucos level blood normal rang",
          "symptom sign common mellitu type",
          "food find list good recip",
          "insulin produc releas cell get",
          "symptom sign common mellitu type",
          "eat good fruit patient safe",
          "blood sugar level high hundr",
          "find inform diet get nutrit",
          "symptom sign common mellitu type",
          "food find list good recip",
          "glucos type two affect use",
          "glucos type two affect use",
          "eat good fruit patient safe",
          "diseas type one genet communic",
          "glucos type two affect use",
          "glucos blood concentr high low",
          "nick jona get cure ever",
          "treatment type medicin medic treat",
          "food find list good recip",
          "type two one take treat",
          "glucos type two affect use",
          "blood sugar level high hundr",
          "glucos type two affect use",
          "nick jona get cure ever",
          "find inform diet get nutrit",
          "glucos type two affect use",
          "diet type two good use",
          "blood sugar level high hundr",
          "glucos type two affect use",
          "blood sugar level high hundr",
          "suppli one purchas get buy",
          "glucos type two affect use",
          "nick jona get cure ever",
          "glucos type two affect use",
          "glucos type two affect use",
          "blood sugar insulin one level",
          "glucos type two affect use",
          "would exercis arm lose weigt",
          "food find list good recip",
          "food find list good recip",
          "insulin produc releas cell get",
          "nick jona get cure ever",
          "type two one take treat",
          "glucos type two affect use",
          "glucos type two affect use",
          "eat good fruit patient safe",
          "eat good fruit patient safe",
          "blood level glucos sugar insulin",
          "blood level glucos sugar insulin",
          "blood sugar insulin one level",
          "food find list good recip",
          "type two one mellitu differ",
          "blood level glucos sugar insulin",
          "diet plan good menu meal",
          "type two one mellitu differ",
          "blood sugar level high hundr",
          "eat good fruit patient safe",
          "nick jona get cure ever",
          "word excess thirst caus exactli",
          "suppli one purchas get buy",
          "insulin unit mani zero point",
          "type two one mellitu differ",
          "diet type two good use",
          "eat good fruit patient safe",
          "glucos level blood normal rang",
          "recip good dessert cooki book",
          "insulin produc releas cell get",
          "eat good fruit patient safe",
          "diet type two best one",
          "nick jona get cure ever",
          "common relat sugar borderlin born",
          "take join team massag borderlin",
          "nick jona get cure ever",
          "drink sugar alcohol type beer",
          "suppli one purchas get buy",
          "glucos level blood normal rang",
          "blood sugar insulin one level",
          "blood sugar insulin one level",
          "test blood strip done ac",
          "diet plan good menu meal",
          "insulin role best diabit n",
          "nick jona get cure ever",
          "type two one take treat",
          "sugar get much eat lot",
          "get type one know two",
          "word excess thirst caus exactli",
          "insulin produc releas cell get",
          "test blood strip done ac",
          "eat good fruit patient safe",
          "glucos level blood normal rang",
          "symptom sign common mellitu type",
          "blood sugar level high hundr",
          "drink sugar alcohol type beer",
          "mellitu insipidu call mean import",
          "blood sugar high low level",
          "take join team massag borderlin",
          "blood sugar level high hundr",
          "suppli one purchas get buy",
          "sugar blood level normal rang",
          "die children parent age pass",
          "blood sugar insulin one level",
          "mani sugar gram consum eat",
          "insulin unit mani zero point",
          "food find list good recip",
          "prevent get could rid person",
          "two real author type fear",
          "take join team massag borderlin",
          "blood sugar level high hundr",
          "insulin role best diabit n",
          "blood sugar level high hundr",
          "type two one mellitu differ",
          "diet plan good menu meal",
          "caus drowsi sever depress urin",
          "treatment type medicin medic treat",
          "blood sugar insulin one level",
          "symptom sign common mellitu type",
          "recip good dessert cooki book",
          "blood sugar level high hundr",
          "type two one mellitu differ",
          "medic metformin treat without side",
          "blood sugar level high hundr",
          "insulin role best diabit n",
          "blood sugar level high hundr",
          "blood sugar level high hundr",
          "pregnanc gestat doctor benefit pregnant",
          "drink sugar alcohol type beer",
          "glucos level blood normal rang",
          "food find list good recip",
          "symptom sign common mellitu type",
          "eat good fruit patient safe",
          "treatment type medicin medic treat",
          "blood level glucos sugar insulin",
          "pregnanc gestat doctor benefit pregnant",
          "drink sugar alcohol type beer",
          "die children parent age pass",
          "nick jona get cure ever",
          "blood sugar level high hundr",
          "blood sugar level high hundr",
          "eat good fruit patient safe",
          "caus drowsi sever depress urin",
          "normal level sugar blood year",
          "recip good dessert cooki book",
          "common relat sugar borderlin born",
          "die children parent age pass",
          "peopl mani uk everi number",
          "drink sugar alcohol type beer",
          "blood sugar level high hundr",
          "insulin unit mani zero point",
          "type two one take treat",
          "eat good fruit patient safe",
          "common relat sugar borderlin born",
          "type two one mellitu differ",
          "treatment type medicin medic treat",
          "eat good fruit patient safe",
          "blood sugar insulin one level",
          "blood sugar high low level",
          "get type one know two",
          "eat good fruit patient safe",
          "food find list good recip",
          "glucos level blood normal rang",
          "glucos type two affect use",
          "get type one know two",
          "diet plan good menu meal",
          "sugar blood level normal rang",
          "type two one mellitu differ",
          "good person patient chees okay",
          "food find list good recip",
          "common relat sugar borderlin born",
          "food find list good recip",
          "nick jona get cure ever",
          "die children parent age pass",
          "eat good fruit patient safe",
          "blood sugar level high hundr",
          "glucos type two affect use",
          "insulin produc releas cell get",
          "insulin produc releas cell get",
          "blood sugar insulin one level",
          "insulin syring use lantu treat",
          "insulin unit mani zero point",
          "eat good fruit patient safe",
          "would exercis arm lose weigt",
          "eat good fruit patient safe",
          "food find list good recip",
          "nick jona get cure ever",
          "recip good dessert cooki book",
          "eat good fruit patient safe",
          "glucos type two affect use",
          "symptom sign common mellitu type",
          "nick jona get cure ever",
          "nick jona get cure ever",
          "glucos type two affect use",
          "blood sugar insulin one level",
          "glucos type two affect use",
          "insulin produc releas cell get",
          "insulin produc releas cell get",
          "nick jona get cure ever",
          "suppli one purchas get buy",
          "diet plan good menu meal",
          "glucos blood concentr high low",
          "eat good fruit patient safe",
          "eat good fruit patient safe",
          "nick jona get cure ever",
          "recip good dessert cooki book",
          "glucos level blood normal rang",
          "nick jona get cure ever",
          "glucos type two affect use",
          "blood sugar level high hundr",
          "insulin type disord product resist",
          "treatment type medicin medic treat",
          "sugar get much eat lot",
          "eat good fruit patient safe",
          "nick jona get cure ever",
          "diseas type one genet communic",
          "blood sugar level high hundr",
          "blood sugar level high hundr",
          "treatment type medicin medic treat",
          "blood sugar level high hundr",
          "insulin unit mani zero point",
          "nick jona get cure ever",
          "peopl mani uk everi number",
          "symptom sign common mellitu type",
          "type two one mellitu differ",
          "good person patient chees okay",
          "mellitu insipidu call mean import",
          "food find list good recip",
          "nick jona get cure ever",
          "mellitu insipidu call mean import",
          "eat good fruit patient safe",
          "recip good dessert cooki book",
          "good person patient chees okay",
          "two real author type fear",
          "blood sugar insulin one level",
          "blood sugar level high hundr",
          "blood sugar insulin one level",
          "type two one take treat",
          "eat good fruit patient safe",
          "food find list good recip",
          "suppli one purchas get buy",
          "type two one mellitu differ",
          "get type one know two",
          "glucos level blood normal rang",
          "blood level glucos sugar insulin",
          "blood sugar level high hundr",
          "diet type two best one",
          "eat good fruit patient safe",
          "prevent get could rid person",
          "suppli one purchas get buy",
          "food find list good recip",
          "glucos type two affect use",
          "glucos type two affect use",
          "blood sugar level high hundr",
          "blood sugar level high hundr",
          "symptom sign common mellitu type",
          "glucos type two affect use",
          "nick jona get cure ever",
          "blood sugar insulin one level",
          "glucos type two affect use",
          "glucos type two affect use",
          "diseas type one genet communic",
          "glucos type two affect use",
          "eat good fruit patient safe",
          "type two one mellitu differ",
          "suppli one purchas get buy",
          "mani sugar gram consum eat",
          "glucos type two affect use",
          "recip good dessert cooki book",
          "food find list good recip",
          "glucos type two affect use",
          "find inform diet get nutrit",
          "blood level glucos sugar insulin",
          "recip good dessert cooki book",
          "type two one take treat",
          "blood sugar level high hundr",
          "common relat sugar borderlin born",
          "blood sugar level high hundr",
          "insulin produc releas cell get",
          "glucos type two affect use",
          "eat good fruit patient safe",
          "nick jona get cure ever",
          "glucos type two affect use",
          "normal level sugar blood year",
          "blood sugar level high hundr",
          "insulin produc releas cell get",
          "nick jona get cure ever",
          "nick jona get cure ever",
          "glucos type two affect use",
          "nick jona get cure ever",
          "glucos type two affect use",
          "nick jona get cure ever",
          "diet type two good use",
          "treatment type medicin medic treat",
          "blood sugar level high hundr",
          "food find list good recip",
          "glucos type two affect use",
          "function gonad normal valu site",
          "peopl mani uk everi number",
          "nick jona get cure ever",
          "two real author type fear",
          "get type one know two",
          "symptom sign common mellitu type",
          "mellitu insipidu call mean import",
          "symptom sign common mellitu type",
          "food find list good recip",
          "nick jona get cure ever",
          "blood sugar level high hundr",
          "get type one know two",
          "eat good fruit patient safe",
          "normal level sugar blood year",
          "blood sugar level high hundr",
          "treatment type medicin medic treat",
          "find inform diet get nutrit",
          "blood sugar level high hundr",
          "blood sugar level high hundr",
          "blood sugar level high hundr",
          "type two one mellitu differ",
          "blood level glucos sugar insulin",
          "eat good fruit patient safe",
          "recip good dessert cooki book",
          "diet plan good menu meal",
          "blood sugar level high hundr",
          "diet plan good menu meal",
          "diseas type one genet communic",
          "sugar blood level normal rang",
          "symptom sign common mellitu type",
          "eat good fruit patient safe",
          "diet type two best one",
          "mellitu insipidu call mean import",
          "food find list good recip",
          "insulin syring use lantu treat",
          "get type one know two",
          "sugar get much eat lot",
          "blood sugar insulin one level",
          "eat good fruit patient safe",
          "caus drowsi sever depress urin",
          "common relat sugar borderlin born",
          "glucos type two affect use",
          "get type one know two",
          "recip good dessert cooki book",
          "eat good fruit patient safe",
          "diet type two best one",
          "get type one know two",
          "blood sugar level high hundr",
          "symptom sign common mellitu type",
          "normal level sugar blood year",
          "blood sugar high low level",
          "drink sugar alcohol type beer",
          "two real author type fear",
          "recip good dessert cooki book",
          "sugar get much eat lot",
          "diet type two good use",
          "symptom sign common mellitu type",
          "blood sugar level high hundr",
          "sugar get much eat lot",
          "medic metformin treat without side",
          "diet plan good menu meal",
          "eat good fruit patient safe",
          "nick jona get cure ever",
          "nick jona get cure ever",
          "blood sugar insulin one level",
          "mani sugar gram consum eat",
          "food find list good recip",
          "recip good dessert cooki book",
          "insulin syring use lantu treat",
          "sugar blood level normal rang",
          "drink sugar alcohol type beer",
          "type two one mellitu differ",
          "blood sugar level high hundr",
          "treatment type medicin medic treat",
          "word excess thirst caus exactli",
          "type two one mellitu differ",
          "food find list good recip",
          "get type one know two",
          "mellitu insipidu call mean import",
          "symptom sign common mellitu type",
          "blood level glucos sugar insulin",
          "blood sugar level high hundr",
          "good person patient chees okay",
          "blood sugar insulin one level",
          "die children parent age pass",
          "function gonad normal valu site",
          "good person patient chees okay",
          "blood sugar level high hundr",
          "blood sugar level high hundr",
          "get type one know two",
          "diseas type one genet communic",
          "glucos level blood normal rang",
          "eat good fruit patient safe",
          "medic metformin treat without side",
          "suppli one purchas get buy",
          "glucos type two affect use",
          "blood sugar insulin one level",
          "type two one take treat",
          "glucos type two affect use",
          "blood level glucos sugar insulin",
          "glucos type two affect use",
          "glucos type two affect use",
          "blood sugar level high hundr",
          "drink sugar alcohol type beer",
          "insulin produc releas cell get",
          "blood sugar high low level",
          "nick jona get cure ever",
          "diseas type one genet communic",
          "blood sugar level high hundr",
          "glucos level blood normal rang",
          "food find list good recip",
          "food find list good recip",
          "glucos type two affect use",
          "food find list good recip",
          "blood sugar level high hundr",
          "eat good fruit patient safe",
          "insulin type disord product resist",
          "peopl mani uk everi number",
          "eat good fruit patient safe",
          "diseas type one genet communic",
          "blood sugar level high hundr",
          "suppli one purchas get buy",
          "blood sugar insulin one level",
          "nick jona get cure ever",
          "symptom sign common mellitu type",
          "insulin produc releas cell get",
          "treatment type medicin medic treat",
          "would exercis arm lose weigt",
          "blood sugar level high hundr",
          "blood sugar level high hundr",
          "blood level glucos sugar insulin",
          "glucos type two affect use",
          "eat good fruit patient safe",
          "diseas type one genet communic",
          "die children parent age pass",
          "blood sugar level high hundr",
          "blood sugar level high hundr",
          "diet plan good menu meal",
          "common relat sugar borderlin born",
          "diseas type one genet communic",
          "diet type two best one",
          "blood sugar high low level",
          "diet type two best one",
          "eat good fruit patient safe",
          "prevent get could rid person",
          "glucos level blood normal rang",
          "blood level glucos sugar insulin",
          "caus drowsi sever depress urin",
          "prevent get could rid person",
          "nick jona get cure ever",
          "eat good fruit patient safe",
          "food find list good recip",
          "blood sugar high low level",
          "nick jona get cure ever",
          "treatment type medicin medic treat",
          "diet plan good menu meal",
          "diseas type one genet communic",
          "blood sugar level high hundr",
          "blood sugar level high hundr",
          "insulin produc releas cell get",
          "blood sugar level high hundr",
          "glucos type two affect use",
          "blood level glucos sugar insulin",
          "food find list good recip",
          "mani sugar gram consum eat",
          "eat good fruit patient safe",
          "insulin produc releas cell get",
          "insulin produc releas cell get",
          "blood level glucos sugar insulin",
          "eat good fruit patient safe",
          "blood sugar insulin one level",
          "blood sugar high low level",
          "blood sugar level high hundr",
          "treatment type medicin medic treat",
          "blood level glucos sugar insulin",
          "treatment type medicin medic treat",
          "function gonad normal valu site",
          "medic metformin treat without side",
          "common relat sugar borderlin born",
          "diseas type one genet communic",
          "glucos type two affect use",
          "drink sugar alcohol type beer",
          "type two one take treat",
          "suppli one purchas get buy",
          "glucos type two affect use",
          "blood sugar level high hundr",
          "eat good fruit patient safe",
          "glucos type two affect use",
          "food find list good recip",
          "nick jona get cure ever",
          "glucos level blood normal rang",
          "diseas type one genet communic",
          "diseas type one genet communic",
          "insulin produc releas cell get",
          "recip good dessert cooki book",
          "nick jona get cure ever",
          "treatment type medicin medic treat",
          "die children parent age pass",
          "blood sugar level high hundr",
          "blood sugar level high hundr",
          "type two one take treat",
          "caus drowsi sever depress urin",
          "food find list good recip",
          "blood sugar insulin one level",
          "insulin produc releas cell get",
          "glucos type two affect use",
          "insulin produc releas cell get",
          "food find list good recip",
          "eat good fruit patient safe",
          "insulin role best diabit n",
          "blood sugar level high hundr",
          "word excess thirst caus exactli",
          "symptom sign common mellitu type",
          "eat good fruit patient safe",
          "caus drowsi sever depress urin",
          "blood sugar level high hundr",
          "insulin produc releas cell get",
          "get type one know two",
          "mellitu insipidu call mean import",
          "symptom sign common mellitu type",
          "common relat sugar borderlin born",
          "eat good fruit patient safe",
          "insulin produc releas cell get",
          "mellitu insipidu call mean import",
          "blood sugar level high hundr",
          "glucos level blood normal rang",
          "eat good fruit patient safe",
          "mellitu insipidu call mean import",
          "blood sugar insulin one level",
          "nick jona get cure ever",
          "die children parent age pass",
          "treatment type medicin medic treat",
          "blood sugar level high hundr",
          "eat good fruit patient safe",
          "get type one know two",
          "word excess thirst caus exactli",
          "glucos type two affect use",
          "blood sugar insulin one level",
          "eat good fruit patient safe",
          "blood level glucos sugar insulin",
          "diet plan good menu meal",
          "treatment type medicin medic treat",
          "food find list good recip",
          "diet plan good menu meal",
          "common relat sugar borderlin born",
          "blood sugar level high hundr",
          "eat good fruit patient safe",
          "insulin produc releas cell get",
          "blood sugar level high hundr",
          "blood level glucos sugar insulin",
          "recip good dessert cooki book",
          "insulin produc releas cell get",
          "word excess thirst caus exactli",
          "eat good fruit patient safe",
          "die children parent age pass",
          "insulin produc releas cell get",
          "blood sugar high low level",
          "symptom sign common mellitu type",
          "blood sugar insulin one level",
          "insulin produc releas cell get",
          "two real author type fear",
          "recip good dessert cooki book",
          "recip good dessert cooki book",
          "insulin syring use lantu treat",
          "diseas type one genet communic",
          "recip good dessert cooki book",
          "blood sugar level high hundr",
          "food find list good recip",
          "take join team massag borderlin",
          "take join team massag borderlin",
          "recip good dessert cooki book",
          "blood level glucos sugar insulin",
          "blood sugar insulin one level",
          "two real author type fear",
          "diet type two best one",
          "mellitu insipidu call mean import",
          "sugar get much eat lot",
          "blood sugar level high hundr",
          "diet plan good menu meal",
          "eat good fruit patient safe",
          "blood sugar level high hundr",
          "blood sugar level high hundr",
          "eat good fruit patient safe",
          "good person patient chees okay",
          "would exercis arm lose weigt",
          "insulin unit mani zero point",
          "blood sugar level high hundr",
          "treatment type medicin medic treat",
          "insulin type disord product resist",
          "blood sugar level high hundr",
          "sugar blood level normal rang",
          "pregnanc gestat doctor benefit pregnant",
          "drink sugar alcohol type beer",
          "insulin type disord product resist",
          "glucos blood concentr high low",
          "eat good fruit patient safe",
          "glucos level blood normal rang",
          "treatment type medicin medic treat",
          "blood sugar level high hundr",
          "die children parent age pass",
          "sugar blood level normal rang",
          "blood sugar level high hundr",
          "mellitu insipidu call mean import",
          "blood level glucos sugar insulin",
          "blood sugar insulin one level",
          "insulin syring use lantu treat",
          "type two one mellitu differ",
          "normal level sugar blood year",
          "diet plan good menu meal",
          "word excess thirst caus exactli",
          "type two one mellitu differ",
          "symptom sign common mellitu type",
          "blood sugar level high hundr",
          "sugar get much eat lot",
          "diseas type one genet communic",
          "glucos type two affect use",
          "nick jona get cure ever",
          "symptom sign common mellitu type",
          "two real author type fear",
          "nick jona get cure ever",
          "diet plan good menu meal",
          "sugar blood level normal rang",
          "drink sugar alcohol type beer",
          "eat good fruit patient safe",
          "eat good fruit patient safe",
          "test blood strip done ac",
          "cure type2 home remedi treat",
          "blood sugar high low level",
          "glucos level blood normal rang",
          "blood level glucos sugar insulin",
          "recip good dessert cooki book",
          "treatment type medicin medic treat",
          "glucos blood concentr high low",
          "diet type two best one",
          "blood sugar insulin one level",
          "insulin produc releas cell get",
          "get type one know two",
          "type two one mellitu differ",
          "type two one mellitu differ",
          "symptom sign common mellitu type",
          "type two one mellitu differ",
          "eat good fruit patient safe",
          "cure type2 home remedi treat",
          "drink sugar alcohol type beer",
          "symptom sign common mellitu type",
          "eat good fruit patient safe",
          "type two one mellitu differ",
          "eat good fruit patient safe",
          "get type one know two",
          "glucos level blood normal rang",
          "insulin produc releas cell get",
          "insulin produc releas cell get",
          "blood sugar level high hundr",
          "eat good fruit patient safe",
          "food find list good recip",
          "treatment type medicin medic treat",
          "blood sugar level high hundr",
          "suppli one purchas get buy",
          "blood sugar level high hundr",
          "insulin produc releas cell get",
          "blood sugar level high hundr",
          "get type one know two",
          "food find list good recip",
          "blood sugar level high hundr",
          "drink sugar alcohol type beer",
          "pregnanc gestat doctor benefit pregnant",
          "insulin unit mani zero point",
          "get type one know two",
          "nick jona get cure ever",
          "blood sugar level high hundr",
          "drink sugar alcohol type beer",
          "blood level glucos sugar insulin",
          "glucos level blood normal rang",
          "food find list good recip",
          "blood sugar insulin one level",
          "blood level glucos sugar insulin",
          "blood sugar level high hundr",
          "symptom sign common mellitu type",
          "diet plan good menu meal",
          "diseas type one genet communic",
          "treatment type medicin medic treat",
          "eat good fruit patient safe",
          "glucos level blood normal rang",
          "test blood strip done ac",
          "diet plan good menu meal",
          "test blood strip done ac",
          "good person patient chees okay",
          "blood level glucos sugar insulin",
          "diet plan good menu meal",
          "diet plan good menu meal",
          "peopl mani uk everi number",
          "eat good fruit patient safe",
          "eat good fruit patient safe",
          "diet plan good menu meal",
          "die children parent age pass",
          "type two one mellitu differ",
          "blood sugar level high hundr",
          "function gonad normal valu site",
          "treatment type medicin medic treat",
          "treatment type medicin medic treat",
          "blood sugar level high hundr",
          "drink sugar alcohol type beer",
          "insulin produc releas cell get",
          "blood sugar level high hundr",
          "blood sugar level high hundr",
          "treatment type medicin medic treat"
         ],
         "xaxis": "x",
         "yaxis": "y"
        }
       ],
       "layout": {
        "barmode": "relative",
        "legend": {
         "tracegroupgap": 0
        },
        "margin": {
         "t": 60
        },
        "template": {
         "data": {
          "bar": [
           {
            "error_x": {
             "color": "#2a3f5f"
            },
            "error_y": {
             "color": "#2a3f5f"
            },
            "marker": {
             "line": {
              "color": "#E5ECF6",
              "width": 0.5
             }
            },
            "type": "bar"
           }
          ],
          "barpolar": [
           {
            "marker": {
             "line": {
              "color": "#E5ECF6",
              "width": 0.5
             }
            },
            "type": "barpolar"
           }
          ],
          "carpet": [
           {
            "aaxis": {
             "endlinecolor": "#2a3f5f",
             "gridcolor": "white",
             "linecolor": "white",
             "minorgridcolor": "white",
             "startlinecolor": "#2a3f5f"
            },
            "baxis": {
             "endlinecolor": "#2a3f5f",
             "gridcolor": "white",
             "linecolor": "white",
             "minorgridcolor": "white",
             "startlinecolor": "#2a3f5f"
            },
            "type": "carpet"
           }
          ],
          "choropleth": [
           {
            "colorbar": {
             "outlinewidth": 0,
             "ticks": ""
            },
            "type": "choropleth"
           }
          ],
          "contour": [
           {
            "colorbar": {
             "outlinewidth": 0,
             "ticks": ""
            },
            "colorscale": [
             [
              0,
              "#0d0887"
             ],
             [
              0.1111111111111111,
              "#46039f"
             ],
             [
              0.2222222222222222,
              "#7201a8"
             ],
             [
              0.3333333333333333,
              "#9c179e"
             ],
             [
              0.4444444444444444,
              "#bd3786"
             ],
             [
              0.5555555555555556,
              "#d8576b"
             ],
             [
              0.6666666666666666,
              "#ed7953"
             ],
             [
              0.7777777777777778,
              "#fb9f3a"
             ],
             [
              0.8888888888888888,
              "#fdca26"
             ],
             [
              1,
              "#f0f921"
             ]
            ],
            "type": "contour"
           }
          ],
          "contourcarpet": [
           {
            "colorbar": {
             "outlinewidth": 0,
             "ticks": ""
            },
            "type": "contourcarpet"
           }
          ],
          "heatmap": [
           {
            "colorbar": {
             "outlinewidth": 0,
             "ticks": ""
            },
            "colorscale": [
             [
              0,
              "#0d0887"
             ],
             [
              0.1111111111111111,
              "#46039f"
             ],
             [
              0.2222222222222222,
              "#7201a8"
             ],
             [
              0.3333333333333333,
              "#9c179e"
             ],
             [
              0.4444444444444444,
              "#bd3786"
             ],
             [
              0.5555555555555556,
              "#d8576b"
             ],
             [
              0.6666666666666666,
              "#ed7953"
             ],
             [
              0.7777777777777778,
              "#fb9f3a"
             ],
             [
              0.8888888888888888,
              "#fdca26"
             ],
             [
              1,
              "#f0f921"
             ]
            ],
            "type": "heatmap"
           }
          ],
          "heatmapgl": [
           {
            "colorbar": {
             "outlinewidth": 0,
             "ticks": ""
            },
            "colorscale": [
             [
              0,
              "#0d0887"
             ],
             [
              0.1111111111111111,
              "#46039f"
             ],
             [
              0.2222222222222222,
              "#7201a8"
             ],
             [
              0.3333333333333333,
              "#9c179e"
             ],
             [
              0.4444444444444444,
              "#bd3786"
             ],
             [
              0.5555555555555556,
              "#d8576b"
             ],
             [
              0.6666666666666666,
              "#ed7953"
             ],
             [
              0.7777777777777778,
              "#fb9f3a"
             ],
             [
              0.8888888888888888,
              "#fdca26"
             ],
             [
              1,
              "#f0f921"
             ]
            ],
            "type": "heatmapgl"
           }
          ],
          "histogram": [
           {
            "marker": {
             "colorbar": {
              "outlinewidth": 0,
              "ticks": ""
             }
            },
            "type": "histogram"
           }
          ],
          "histogram2d": [
           {
            "colorbar": {
             "outlinewidth": 0,
             "ticks": ""
            },
            "colorscale": [
             [
              0,
              "#0d0887"
             ],
             [
              0.1111111111111111,
              "#46039f"
             ],
             [
              0.2222222222222222,
              "#7201a8"
             ],
             [
              0.3333333333333333,
              "#9c179e"
             ],
             [
              0.4444444444444444,
              "#bd3786"
             ],
             [
              0.5555555555555556,
              "#d8576b"
             ],
             [
              0.6666666666666666,
              "#ed7953"
             ],
             [
              0.7777777777777778,
              "#fb9f3a"
             ],
             [
              0.8888888888888888,
              "#fdca26"
             ],
             [
              1,
              "#f0f921"
             ]
            ],
            "type": "histogram2d"
           }
          ],
          "histogram2dcontour": [
           {
            "colorbar": {
             "outlinewidth": 0,
             "ticks": ""
            },
            "colorscale": [
             [
              0,
              "#0d0887"
             ],
             [
              0.1111111111111111,
              "#46039f"
             ],
             [
              0.2222222222222222,
              "#7201a8"
             ],
             [
              0.3333333333333333,
              "#9c179e"
             ],
             [
              0.4444444444444444,
              "#bd3786"
             ],
             [
              0.5555555555555556,
              "#d8576b"
             ],
             [
              0.6666666666666666,
              "#ed7953"
             ],
             [
              0.7777777777777778,
              "#fb9f3a"
             ],
             [
              0.8888888888888888,
              "#fdca26"
             ],
             [
              1,
              "#f0f921"
             ]
            ],
            "type": "histogram2dcontour"
           }
          ],
          "mesh3d": [
           {
            "colorbar": {
             "outlinewidth": 0,
             "ticks": ""
            },
            "type": "mesh3d"
           }
          ],
          "parcoords": [
           {
            "line": {
             "colorbar": {
              "outlinewidth": 0,
              "ticks": ""
             }
            },
            "type": "parcoords"
           }
          ],
          "pie": [
           {
            "automargin": true,
            "type": "pie"
           }
          ],
          "scatter": [
           {
            "marker": {
             "colorbar": {
              "outlinewidth": 0,
              "ticks": ""
             }
            },
            "type": "scatter"
           }
          ],
          "scatter3d": [
           {
            "line": {
             "colorbar": {
              "outlinewidth": 0,
              "ticks": ""
             }
            },
            "marker": {
             "colorbar": {
              "outlinewidth": 0,
              "ticks": ""
             }
            },
            "type": "scatter3d"
           }
          ],
          "scattercarpet": [
           {
            "marker": {
             "colorbar": {
              "outlinewidth": 0,
              "ticks": ""
             }
            },
            "type": "scattercarpet"
           }
          ],
          "scattergeo": [
           {
            "marker": {
             "colorbar": {
              "outlinewidth": 0,
              "ticks": ""
             }
            },
            "type": "scattergeo"
           }
          ],
          "scattergl": [
           {
            "marker": {
             "colorbar": {
              "outlinewidth": 0,
              "ticks": ""
             }
            },
            "type": "scattergl"
           }
          ],
          "scattermapbox": [
           {
            "marker": {
             "colorbar": {
              "outlinewidth": 0,
              "ticks": ""
             }
            },
            "type": "scattermapbox"
           }
          ],
          "scatterpolar": [
           {
            "marker": {
             "colorbar": {
              "outlinewidth": 0,
              "ticks": ""
             }
            },
            "type": "scatterpolar"
           }
          ],
          "scatterpolargl": [
           {
            "marker": {
             "colorbar": {
              "outlinewidth": 0,
              "ticks": ""
             }
            },
            "type": "scatterpolargl"
           }
          ],
          "scatterternary": [
           {
            "marker": {
             "colorbar": {
              "outlinewidth": 0,
              "ticks": ""
             }
            },
            "type": "scatterternary"
           }
          ],
          "surface": [
           {
            "colorbar": {
             "outlinewidth": 0,
             "ticks": ""
            },
            "colorscale": [
             [
              0,
              "#0d0887"
             ],
             [
              0.1111111111111111,
              "#46039f"
             ],
             [
              0.2222222222222222,
              "#7201a8"
             ],
             [
              0.3333333333333333,
              "#9c179e"
             ],
             [
              0.4444444444444444,
              "#bd3786"
             ],
             [
              0.5555555555555556,
              "#d8576b"
             ],
             [
              0.6666666666666666,
              "#ed7953"
             ],
             [
              0.7777777777777778,
              "#fb9f3a"
             ],
             [
              0.8888888888888888,
              "#fdca26"
             ],
             [
              1,
              "#f0f921"
             ]
            ],
            "type": "surface"
           }
          ],
          "table": [
           {
            "cells": {
             "fill": {
              "color": "#EBF0F8"
             },
             "line": {
              "color": "white"
             }
            },
            "header": {
             "fill": {
              "color": "#C8D4E3"
             },
             "line": {
              "color": "white"
             }
            },
            "type": "table"
           }
          ]
         },
         "layout": {
          "annotationdefaults": {
           "arrowcolor": "#2a3f5f",
           "arrowhead": 0,
           "arrowwidth": 1
          },
          "coloraxis": {
           "colorbar": {
            "outlinewidth": 0,
            "ticks": ""
           }
          },
          "colorscale": {
           "diverging": [
            [
             0,
             "#8e0152"
            ],
            [
             0.1,
             "#c51b7d"
            ],
            [
             0.2,
             "#de77ae"
            ],
            [
             0.3,
             "#f1b6da"
            ],
            [
             0.4,
             "#fde0ef"
            ],
            [
             0.5,
             "#f7f7f7"
            ],
            [
             0.6,
             "#e6f5d0"
            ],
            [
             0.7,
             "#b8e186"
            ],
            [
             0.8,
             "#7fbc41"
            ],
            [
             0.9,
             "#4d9221"
            ],
            [
             1,
             "#276419"
            ]
           ],
           "sequential": [
            [
             0,
             "#0d0887"
            ],
            [
             0.1111111111111111,
             "#46039f"
            ],
            [
             0.2222222222222222,
             "#7201a8"
            ],
            [
             0.3333333333333333,
             "#9c179e"
            ],
            [
             0.4444444444444444,
             "#bd3786"
            ],
            [
             0.5555555555555556,
             "#d8576b"
            ],
            [
             0.6666666666666666,
             "#ed7953"
            ],
            [
             0.7777777777777778,
             "#fb9f3a"
            ],
            [
             0.8888888888888888,
             "#fdca26"
            ],
            [
             1,
             "#f0f921"
            ]
           ],
           "sequentialminus": [
            [
             0,
             "#0d0887"
            ],
            [
             0.1111111111111111,
             "#46039f"
            ],
            [
             0.2222222222222222,
             "#7201a8"
            ],
            [
             0.3333333333333333,
             "#9c179e"
            ],
            [
             0.4444444444444444,
             "#bd3786"
            ],
            [
             0.5555555555555556,
             "#d8576b"
            ],
            [
             0.6666666666666666,
             "#ed7953"
            ],
            [
             0.7777777777777778,
             "#fb9f3a"
            ],
            [
             0.8888888888888888,
             "#fdca26"
            ],
            [
             1,
             "#f0f921"
            ]
           ]
          },
          "colorway": [
           "#636efa",
           "#EF553B",
           "#00cc96",
           "#ab63fa",
           "#FFA15A",
           "#19d3f3",
           "#FF6692",
           "#B6E880",
           "#FF97FF",
           "#FECB52"
          ],
          "font": {
           "color": "#2a3f5f"
          },
          "geo": {
           "bgcolor": "white",
           "lakecolor": "white",
           "landcolor": "#E5ECF6",
           "showlakes": true,
           "showland": true,
           "subunitcolor": "white"
          },
          "hoverlabel": {
           "align": "left"
          },
          "hovermode": "closest",
          "mapbox": {
           "style": "light"
          },
          "paper_bgcolor": "white",
          "plot_bgcolor": "#E5ECF6",
          "polar": {
           "angularaxis": {
            "gridcolor": "white",
            "linecolor": "white",
            "ticks": ""
           },
           "bgcolor": "#E5ECF6",
           "radialaxis": {
            "gridcolor": "white",
            "linecolor": "white",
            "ticks": ""
           }
          },
          "scene": {
           "xaxis": {
            "backgroundcolor": "#E5ECF6",
            "gridcolor": "white",
            "gridwidth": 2,
            "linecolor": "white",
            "showbackground": true,
            "ticks": "",
            "zerolinecolor": "white"
           },
           "yaxis": {
            "backgroundcolor": "#E5ECF6",
            "gridcolor": "white",
            "gridwidth": 2,
            "linecolor": "white",
            "showbackground": true,
            "ticks": "",
            "zerolinecolor": "white"
           },
           "zaxis": {
            "backgroundcolor": "#E5ECF6",
            "gridcolor": "white",
            "gridwidth": 2,
            "linecolor": "white",
            "showbackground": true,
            "ticks": "",
            "zerolinecolor": "white"
           }
          },
          "shapedefaults": {
           "line": {
            "color": "#2a3f5f"
           }
          },
          "ternary": {
           "aaxis": {
            "gridcolor": "white",
            "linecolor": "white",
            "ticks": ""
           },
           "baxis": {
            "gridcolor": "white",
            "linecolor": "white",
            "ticks": ""
           },
           "bgcolor": "#E5ECF6",
           "caxis": {
            "gridcolor": "white",
            "linecolor": "white",
            "ticks": ""
           }
          },
          "title": {
           "x": 0.05
          },
          "xaxis": {
           "automargin": true,
           "gridcolor": "white",
           "linecolor": "white",
           "ticks": "",
           "title": {
            "standoff": 15
           },
           "zerolinecolor": "white",
           "zerolinewidth": 2
          },
          "yaxis": {
           "automargin": true,
           "gridcolor": "white",
           "linecolor": "white",
           "ticks": "",
           "title": {
            "standoff": 15
           },
           "zerolinecolor": "white",
           "zerolinewidth": 2
          }
         }
        },
        "title": {
         "text": "Non-Outlier Cluster Label Distribution (52.1% Retained)"
        },
        "xaxis": {
         "anchor": "y",
         "domain": [
          0,
          1
         ],
         "showticklabels": false,
         "title": {
          "text": "Clusters"
         }
        },
        "yaxis": {
         "anchor": "x",
         "domain": [
          0,
          1
         ],
         "title": {
          "text": "Percent"
         }
        }
       }
      },
      "text/html": [
       "<div>                            <div id=\"f5c46866-20a6-4445-a178-512aff79858c\" class=\"plotly-graph-div\" style=\"height:525px; width:100%;\"></div>            <script type=\"text/javascript\">                require([\"plotly\"], function(Plotly) {                    window.PLOTLYENV=window.PLOTLYENV || {};                                    if (document.getElementById(\"f5c46866-20a6-4445-a178-512aff79858c\")) {                    Plotly.newPlot(                        \"f5c46866-20a6-4445-a178-512aff79858c\",                        [{\"alignmentgroup\": \"True\", \"bingroup\": \"x\", \"histnorm\": \"percent\", \"hovertemplate\": \"summary=%{x}<br>count=%{y}<extra></extra>\", \"legendgroup\": \"\", \"marker\": {\"color\": \"#636efa\"}, \"name\": \"\", \"nbinsx\": 50, \"offsetgroup\": \"\", \"orientation\": \"v\", \"showlegend\": false, \"type\": \"histogram\", \"x\": [\"diet type two best one\", \"mani sugar gram consum eat\", \"pregnanc gestat doctor benefit pregnant\", \"food find list good recip\", \"blood sugar insulin one level\", \"blood sugar level high hundr\", \"recip good dessert cooki book\", \"glucos level blood normal rang\", \"symptom sign common mellitu type\", \"normal level sugar blood year\", \"drink sugar alcohol type beer\", \"symptom sign common mellitu type\", \"blood sugar insulin one level\", \"eat good fruit patient safe\", \"drink sugar alcohol type beer\", \"blood sugar level high hundr\", \"symptom sign common mellitu type\", \"eat good fruit patient safe\", \"blood level glucos sugar insulin\", \"drink sugar alcohol type beer\", \"peopl mani uk everi number\", \"nick jona get cure ever\", \"diet plan healthi african american\", \"get type one know two\", \"medic metformin treat without side\", \"glucos blood concentr high low\", \"get type one know two\", \"common relat sugar borderlin born\", \"food find list good recip\", \"blood sugar insulin one level\", \"word excess thirst caus exactli\", \"blood sugar insulin one level\", \"test blood strip done ac\", \"pregnanc gestat doctor benefit pregnant\", \"caus drowsi sever depress urin\", \"blood sugar level high hundr\", \"get type one know two\", \"blood sugar level high hundr\", \"nick jona get cure ever\", \"type two one mellitu differ\", \"take join team massag borderlin\", \"good person patient chees okay\", \"cure type2 home remedi treat\", \"type two one mellitu differ\", \"treatment type medicin medic treat\", \"recip good dessert cooki book\", \"treatment type medicin medic treat\", \"blood sugar insulin one level\", \"two real author type fear\", \"eat good fruit patient safe\", \"food find list good recip\", \"normal level sugar blood year\", \"blood sugar level high hundr\", \"get type one know two\", \"eat good fruit patient safe\", \"food find list good recip\", \"symptom sign common mellitu type\", \"insulin produc releas cell get\", \"treatment type medicin medic treat\", \"blood sugar level high hundr\", \"glucos type two affect use\", \"food find list good recip\", \"insulin syring use lantu treat\", \"diet plan good menu meal\", \"diet type two good use\", \"glucos type two affect use\", \"mani sugar gram consum eat\", \"glucos type two affect use\", \"glucos type two affect use\", \"blood level glucos sugar insulin\", \"diet plan good menu meal\", \"glucos type two affect use\", \"blood level glucos sugar insulin\", \"glucos type two affect use\", \"glucos type two affect use\", \"food find list good recip\", \"glucos type two affect use\", \"insulin type disord product resist\", \"glucos level blood normal rang\", \"blood sugar level high hundr\", \"glucos type two affect use\", \"normal level sugar blood year\", \"glucos type two affect use\", \"glucos level blood normal rang\", \"nick jona get cure ever\", \"blood sugar insulin one level\", \"food find list good recip\", \"food find list good recip\", \"function gonad normal valu site\", \"insulin produc releas cell get\", \"nick jona get cure ever\", \"glucos blood concentr high low\", \"blood sugar level high hundr\", \"blood sugar level high hundr\", \"insulin produc releas cell get\", \"eat good fruit patient safe\", \"nick jona get cure ever\", \"blood sugar level high hundr\", \"glucos type two affect use\", \"eat good fruit patient safe\", \"food find list good recip\", \"drink sugar alcohol type beer\", \"eat good fruit patient safe\", \"blood sugar level high hundr\", \"type two one mellitu differ\", \"treatment type medicin medic treat\", \"nick jona get cure ever\", \"insulin produc releas cell get\", \"glucos type two affect use\", \"diet type two best one\", \"diet type two best one\", \"eat good fruit patient safe\", \"insulin role best diabit n\", \"diseas type one genet communic\", \"blood sugar insulin one level\", \"common relat sugar borderlin born\", \"blood sugar level high hundr\", \"insulin produc releas cell get\", \"peopl mani uk everi number\", \"eat good fruit patient safe\", \"suppli one purchas get buy\", \"blood sugar level high hundr\", \"get type one know two\", \"blood sugar insulin one level\", \"drink sugar alcohol type beer\", \"diet type two best one\", \"blood level glucos sugar insulin\", \"blood sugar high low level\", \"type two one mellitu differ\", \"blood sugar level high hundr\", \"blood sugar insulin one level\", \"get type one know two\", \"symptom sign common mellitu type\", \"symptom sign common mellitu type\", \"sugar get much eat lot\", \"blood sugar level high hundr\", \"type two one mellitu differ\", \"type two one mellitu differ\", \"glucos type two affect use\", \"insulin produc releas cell get\", \"word excess thirst caus exactli\", \"common relat sugar borderlin born\", \"blood sugar level high hundr\", \"blood sugar level high hundr\", \"caus drowsi sever depress urin\", \"nick jona get cure ever\", \"treatment type medicin medic treat\", \"eat good fruit patient safe\", \"insulin unit mani zero point\", \"diseas type one genet communic\", \"test blood strip done ac\", \"get type one know two\", \"suppli one purchas get buy\", \"nick jona get cure ever\", \"take join team massag borderlin\", \"eat good fruit patient safe\", \"glucos level blood normal rang\", \"cure type2 home remedi treat\", \"treatment type medicin medic treat\", \"diseas type one genet communic\", \"food find list good recip\", \"blood sugar insulin one level\", \"blood sugar insulin one level\", \"would exercis arm lose weigt\", \"food find list good recip\", \"two real author type fear\", \"eat good fruit patient safe\", \"diet plan good menu meal\", \"blood sugar level high hundr\", \"treatment type medicin medic treat\", \"common relat sugar borderlin born\", \"food find list good recip\", \"treatment type medicin medic treat\", \"symptom sign common mellitu type\", \"insulin syring use lantu treat\", \"diet type two best one\", \"word excess thirst caus exactli\", \"blood sugar high low level\", \"blood sugar insulin one level\", \"eat good fruit patient safe\", \"insulin role best diabit n\", \"food find list good recip\", \"blood sugar level high hundr\", \"eat good fruit patient safe\", \"normal level sugar blood year\", \"food find list good recip\", \"diet plan good menu meal\", \"insulin unit mani zero point\", \"blood sugar level high hundr\", \"suppli one purchas get buy\", \"blood sugar level high hundr\", \"diet plan good menu meal\", \"insulin produc releas cell get\", \"symptom sign common mellitu type\", \"symptom sign common mellitu type\", \"type two one mellitu differ\", \"blood sugar insulin one level\", \"eat good fruit patient safe\", \"blood sugar level high hundr\", \"mellitu insipidu call mean import\", \"food find list good recip\", \"symptom sign common mellitu type\", \"diseas type one genet communic\", \"nick jona get cure ever\", \"nick jona get cure ever\", \"blood sugar level high hundr\", \"food find list good recip\", \"blood sugar insulin one level\", \"blood sugar insulin one level\", \"insulin produc releas cell get\", \"food find list good recip\", \"insulin produc releas cell get\", \"food find list good recip\", \"blood sugar level high hundr\", \"nick jona get cure ever\", \"diet type two best one\", \"type two one mellitu differ\", \"good person patient chees okay\", \"blood sugar level high hundr\", \"glucos level blood normal rang\", \"blood sugar level high hundr\", \"glucos level blood normal rang\", \"prevent get could rid person\", \"peopl mani uk everi number\", \"nick jona get cure ever\", \"mellitu insipidu call mean import\", \"sugar blood level normal rang\", \"nick jona get cure ever\", \"common relat sugar borderlin born\", \"eat good fruit patient safe\", \"nick jona get cure ever\", \"blood level glucos sugar insulin\", \"die children parent age pass\", \"common relat sugar borderlin born\", \"suppli one purchas get buy\", \"insulin produc releas cell get\", \"sugar blood level normal rang\", \"eat good fruit patient safe\", \"normal level sugar blood year\", \"mani sugar gram consum eat\", \"eat good fruit patient safe\", \"glucos type two affect use\", \"nick jona get cure ever\", \"recip good dessert cooki book\", \"symptom sign common mellitu type\", \"nick jona get cure ever\", \"food find list good recip\", \"recip good dessert cooki book\", \"get type one know two\", \"blood sugar insulin one level\", \"diet plan good menu meal\", \"blood sugar level high hundr\", \"diet plan good menu meal\", \"blood sugar level high hundr\", \"diseas type one genet communic\", \"eat good fruit patient safe\", \"treatment type medicin medic treat\", \"diet type two best one\", \"glucos level blood normal rang\", \"treatment type medicin medic treat\", \"eat good fruit patient safe\", \"die children parent age pass\", \"type two one mellitu differ\", \"cure type2 home remedi treat\", \"common relat sugar borderlin born\", \"cure type2 home remedi treat\", \"blood sugar high low level\", \"food find list good recip\", \"blood sugar insulin one level\", \"food find list good recip\", \"blood sugar level high hundr\", \"two real author type fear\", \"blood sugar level high hundr\", \"blood sugar level high hundr\", \"sugar blood level normal rang\", \"treatment type medicin medic treat\", \"insulin produc releas cell get\", \"diet type two good use\", \"word excess thirst caus exactli\", \"recip good dessert cooki book\", \"blood sugar insulin one level\", \"peopl mani uk everi number\", \"test blood strip done ac\", \"die children parent age pass\", \"prevent get could rid person\", \"function gonad normal valu site\", \"mellitu insipidu call mean import\", \"peopl mani uk everi number\", \"type two one mellitu differ\", \"blood sugar level high hundr\", \"symptom sign common mellitu type\", \"type two one mellitu differ\", \"treatment type medicin medic treat\", \"symptom sign common mellitu type\", \"blood sugar insulin one level\", \"good person patient chees okay\", \"get type one know two\", \"diseas type one genet communic\", \"blood sugar level high hundr\", \"blood sugar level high hundr\", \"food find list good recip\", \"treatment type medicin medic treat\", \"blood sugar insulin one level\", \"diet type two best one\", \"eat good fruit patient safe\", \"blood sugar insulin one level\", \"eat good fruit patient safe\", \"normal level sugar blood year\", \"type two one mellitu differ\", \"recip good dessert cooki book\", \"nick jona get cure ever\", \"drink sugar alcohol type beer\", \"insulin unit mani zero point\", \"recip good dessert cooki book\", \"blood sugar insulin one level\", \"eat good fruit patient safe\", \"get type one know two\", \"blood sugar level high hundr\", \"eat good fruit patient safe\", \"blood sugar insulin one level\", \"peopl mani uk everi number\", \"eat good fruit patient safe\", \"blood level glucos sugar insulin\", \"two real author type fear\", \"common relat sugar borderlin born\", \"caus drowsi sever depress urin\", \"symptom sign common mellitu type\", \"pregnanc gestat doctor benefit pregnant\", \"blood sugar insulin one level\", \"eat good fruit patient safe\", \"treatment type medicin medic treat\", \"recip good dessert cooki book\", \"nick jona get cure ever\", \"blood sugar level high hundr\", \"good person patient chees okay\", \"blood sugar level high hundr\", \"treatment type medicin medic treat\", \"eat good fruit patient safe\", \"symptom sign common mellitu type\", \"drink sugar alcohol type beer\", \"recip good dessert cooki book\", \"die children parent age pass\", \"diet type two best one\", \"glucos level blood normal rang\", \"two real author type fear\", \"nick jona get cure ever\", \"blood sugar insulin one level\", \"type two one mellitu differ\", \"die children parent age pass\", \"blood sugar insulin one level\", \"food find list good recip\", \"insulin role best diabit n\", \"sugar blood level normal rang\", \"symptom sign common mellitu type\", \"type two one mellitu differ\", \"get type one know two\", \"recip good dessert cooki book\", \"eat good fruit patient safe\", \"diseas type one genet communic\", \"mani sugar gram consum eat\", \"blood sugar level high hundr\", \"blood level glucos sugar insulin\", \"diseas type one genet communic\", \"type two one mellitu differ\", \"mani sugar gram consum eat\", \"eat good fruit patient safe\", \"diseas type one genet communic\", \"nick jona get cure ever\", \"cure type2 home remedi treat\", \"nick jona get cure ever\", \"diet plan good menu meal\", \"glucos type two affect use\", \"nick jona get cure ever\", \"word excess thirst caus exactli\", \"pregnanc gestat doctor benefit pregnant\", \"blood level glucos sugar insulin\", \"eat good fruit patient safe\", \"diet plan healthi african american\", \"eat good fruit patient safe\", \"recip good dessert cooki book\", \"symptom sign common mellitu type\", \"blood sugar insulin one level\", \"function gonad normal valu site\", \"diet plan good menu meal\", \"eat good fruit patient safe\", \"sugar get much eat lot\", \"glucos type two affect use\", \"type two one mellitu differ\", \"diet type two best one\", \"recip good dessert cooki book\", \"insulin produc releas cell get\", \"blood sugar insulin one level\", \"diet plan good menu meal\", \"eat good fruit patient safe\", \"treatment type medicin medic treat\", \"food find list good recip\", \"suppli one purchas get buy\", \"blood sugar level high hundr\", \"blood sugar level high hundr\", \"diseas type one genet communic\", \"treatment type medicin medic treat\", \"glucos level blood normal rang\", \"glucos level blood normal rang\", \"glucos blood concentr high low\", \"common relat sugar borderlin born\", \"symptom sign common mellitu type\", \"blood sugar level high hundr\", \"blood sugar level high hundr\", \"diet type two good use\", \"diet plan good menu meal\", \"blood sugar level high hundr\", \"food find list good recip\", \"nick jona get cure ever\", \"blood sugar level high hundr\", \"common relat sugar borderlin born\", \"peopl mani uk everi number\", \"blood sugar level high hundr\", \"glucos level blood normal rang\", \"symptom sign common mellitu type\", \"get type one know two\", \"blood sugar level high hundr\", \"food find list good recip\", \"eat good fruit patient safe\", \"eat good fruit patient safe\", \"blood sugar level high hundr\", \"treatment type medicin medic treat\", \"type two one mellitu differ\", \"glucos type two affect use\", \"mani sugar gram consum eat\", \"recip good dessert cooki book\", \"treatment type medicin medic treat\", \"diseas type one genet communic\", \"nick jona get cure ever\", \"nick jona get cure ever\", \"glucos level blood normal rang\", \"recip good dessert cooki book\", \"die children parent age pass\", \"normal level sugar blood year\", \"blood sugar level high hundr\", \"nick jona get cure ever\", \"glucos type two affect use\", \"diseas type one genet communic\", \"blood level glucos sugar insulin\", \"glucos level blood normal rang\", \"would exercis arm lose weigt\", \"suppli one purchas get buy\", \"blood sugar level high hundr\", \"blood level glucos sugar insulin\", \"food find list good recip\", \"peopl mani uk everi number\", \"blood sugar insulin one level\", \"diseas type one genet communic\", \"nick jona get cure ever\", \"insulin produc releas cell get\", \"nick jona get cure ever\", \"blood sugar level high hundr\", \"get type one know two\", \"blood sugar level high hundr\", \"insulin produc releas cell get\", \"mani sugar gram consum eat\", \"blood level glucos sugar insulin\", \"blood sugar level high hundr\", \"nick jona get cure ever\", \"blood sugar insulin one level\", \"insulin produc releas cell get\", \"food find list good recip\", \"treatment type medicin medic treat\", \"blood sugar level high hundr\", \"food find list good recip\", \"food find list good recip\", \"type two one mellitu differ\", \"normal level sugar blood year\", \"blood sugar level high hundr\", \"eat good fruit patient safe\", \"blood sugar level high hundr\", \"caus drowsi sever depress urin\", \"symptom sign common mellitu type\", \"suppli one purchas get buy\", \"food find list good recip\", \"eat good fruit patient safe\", \"symptom sign common mellitu type\", \"get type one know two\", \"nick jona get cure ever\", \"glucos type two affect use\", \"mani sugar gram consum eat\", \"blood sugar level high hundr\", \"medic metformin treat without side\", \"insulin produc releas cell get\", \"drink sugar alcohol type beer\", \"insulin produc releas cell get\", \"food find list good recip\", \"common relat sugar borderlin born\", \"function gonad normal valu site\", \"nick jona get cure ever\", \"insulin role best diabit n\", \"type two one mellitu differ\", \"sugar blood level normal rang\", \"food find list good recip\", \"insulin produc releas cell get\", \"diseas type one genet communic\", \"eat good fruit patient safe\", \"nick jona get cure ever\", \"function gonad normal valu site\", \"blood sugar level high hundr\", \"blood level glucos sugar insulin\", \"treatment type medicin medic treat\", \"symptom sign common mellitu type\", \"blood level glucos sugar insulin\", \"blood sugar insulin one level\", \"blood sugar level high hundr\", \"get type one know two\", \"nick jona get cure ever\", \"blood sugar level high hundr\", \"function gonad normal valu site\", \"diet plan good menu meal\", \"diet plan good menu meal\", \"blood sugar level high hundr\", \"blood sugar level high hundr\", \"type two one mellitu differ\", \"symptom sign common mellitu type\", \"type two one mellitu differ\", \"eat good fruit patient safe\", \"blood sugar level high hundr\", \"sugar blood level normal rang\", \"insulin type disord product resist\", \"sugar blood level normal rang\", \"treatment type medicin medic treat\", \"type two one mellitu differ\", \"treatment type medicin medic treat\", \"take join team massag borderlin\", \"recip good dessert cooki book\", \"nick jona get cure ever\", \"eat good fruit patient safe\", \"blood sugar level high hundr\", \"insulin produc releas cell get\", \"diseas type one genet communic\", \"blood level glucos sugar insulin\", \"common relat sugar borderlin born\", \"eat good fruit patient safe\", \"diet plan good menu meal\", \"type two one mellitu differ\", \"blood sugar insulin one level\", \"eat good fruit patient safe\", \"blood sugar level high hundr\", \"nick jona get cure ever\", \"die children parent age pass\", \"blood sugar level high hundr\", \"treatment type medicin medic treat\", \"blood sugar insulin one level\", \"die children parent age pass\", \"treatment type medicin medic treat\", \"eat good fruit patient safe\", \"blood sugar level high hundr\", \"symptom sign common mellitu type\", \"diseas type one genet communic\", \"blood sugar high low level\", \"insulin type disord product resist\", \"treatment type medicin medic treat\", \"type two one take treat\", \"treatment type medicin medic treat\", \"blood sugar level high hundr\", \"get type one know two\", \"drink sugar alcohol type beer\", \"type two one mellitu differ\", \"eat good fruit patient safe\", \"blood sugar level high hundr\", \"nick jona get cure ever\", \"common relat sugar borderlin born\", \"treatment type medicin medic treat\", \"food find list good recip\", \"recip good dessert cooki book\", \"blood sugar level high hundr\", \"recip good dessert cooki book\", \"blood sugar level high hundr\", \"insulin role best diabit n\", \"die children parent age pass\", \"blood sugar insulin one level\", \"blood level glucos sugar insulin\", \"blood sugar level high hundr\", \"mani sugar gram consum eat\", \"recip good dessert cooki book\", \"eat good fruit patient safe\", \"blood sugar high low level\", \"two real author type fear\", \"insulin role best diabit n\", \"blood sugar insulin one level\", \"nick jona get cure ever\", \"blood sugar high low level\", \"diet type two good use\", \"pregnanc gestat doctor benefit pregnant\", \"peopl mani uk everi number\", \"eat good fruit patient safe\", \"two real author type fear\", \"diet type two best one\", \"eat good fruit patient safe\", \"blood sugar level high hundr\", \"blood sugar level high hundr\", \"insulin produc releas cell get\", \"sugar blood level normal rang\", \"eat good fruit patient safe\", \"nick jona get cure ever\", \"get type one know two\", \"diet type two good use\", \"word excess thirst caus exactli\", \"diet plan good menu meal\", \"type two one mellitu differ\", \"blood sugar insulin one level\", \"drink sugar alcohol type beer\", \"diseas type one genet communic\", \"mellitu insipidu call mean import\", \"insulin produc releas cell get\", \"diet type two best one\", \"type two one mellitu differ\", \"diet type two best one\", \"recip good dessert cooki book\", \"drink sugar alcohol type beer\", \"word excess thirst caus exactli\", \"blood sugar level high hundr\", \"blood sugar high low level\", \"normal level sugar blood year\", \"symptom sign common mellitu type\", \"food find list good recip\", \"word excess thirst caus exactli\", \"would exercis arm lose weigt\", \"diet plan good menu meal\", \"glucos level blood normal rang\", \"drink sugar alcohol type beer\", \"recip good dessert cooki book\", \"drink sugar alcohol type beer\", \"blood sugar level high hundr\", \"sugar blood level normal rang\", \"blood sugar insulin one level\", \"food find list good recip\", \"sugar blood level normal rang\", \"common relat sugar borderlin born\", \"function gonad normal valu site\", \"food find list good recip\", \"eat good fruit patient safe\", \"get type one know two\", \"blood sugar level high hundr\", \"caus drowsi sever depress urin\", \"cure type2 home remedi treat\", \"word excess thirst caus exactli\", \"diet plan good menu meal\", \"sugar blood level normal rang\", \"sugar blood level normal rang\", \"drink sugar alcohol type beer\", \"blood sugar insulin one level\", \"get type one know two\", \"blood sugar level high hundr\", \"blood sugar level high hundr\", \"eat good fruit patient safe\", \"symptom sign common mellitu type\", \"treatment type medicin medic treat\", \"two real author type fear\", \"food find list good recip\", \"die children parent age pass\", \"symptom sign common mellitu type\", \"type two one mellitu differ\", \"blood sugar level high hundr\", \"treatment type medicin medic treat\", \"test blood strip done ac\", \"type two one mellitu differ\", \"common relat sugar borderlin born\", \"common relat sugar borderlin born\", \"symptom sign common mellitu type\", \"type two one mellitu differ\", \"find inform diet get nutrit\", \"symptom sign common mellitu type\", \"glucos level blood normal rang\", \"blood sugar high low level\", \"insulin syring use lantu treat\", \"caus drowsi sever depress urin\", \"recip good dessert cooki book\", \"recip good dessert cooki book\", \"symptom sign common mellitu type\", \"nick jona get cure ever\", \"sugar blood level normal rang\", \"sugar blood level normal rang\", \"blood sugar insulin one level\", \"type two one mellitu differ\", \"insulin produc releas cell get\", \"symptom sign common mellitu type\", \"blood sugar level high hundr\", \"insulin syring use lantu treat\", \"diet plan good menu meal\", \"mani sugar gram consum eat\", \"diet plan good menu meal\", \"glucos type two affect use\", \"cure type2 home remedi treat\", \"mellitu insipidu call mean import\", \"blood sugar level high hundr\", \"blood sugar level high hundr\", \"sugar blood level normal rang\", \"sugar get much eat lot\", \"peopl mani uk everi number\", \"normal level sugar blood year\", \"glucos type two affect use\", \"eat good fruit patient safe\", \"glucos level blood normal rang\", \"two real author type fear\", \"would exercis arm lose weigt\", \"pregnanc gestat doctor benefit pregnant\", \"diseas type one genet communic\", \"eat good fruit patient safe\", \"type two one mellitu differ\", \"diseas type one genet communic\", \"sugar blood level normal rang\", \"mani sugar gram consum eat\", \"food find list good recip\", \"type two one mellitu differ\", \"blood sugar insulin one level\", \"blood sugar insulin one level\", \"diet type two best one\", \"treatment type medicin medic treat\", \"symptom sign common mellitu type\", \"eat good fruit patient safe\", \"blood sugar level high hundr\", \"mani sugar gram consum eat\", \"symptom sign common mellitu type\", \"pregnanc gestat doctor benefit pregnant\", \"treatment type medicin medic treat\", \"type two one mellitu differ\", \"find inform diet get nutrit\", \"insulin produc releas cell get\", \"common relat sugar borderlin born\", \"eat good fruit patient safe\", \"symptom sign common mellitu type\", \"blood sugar insulin one level\", \"eat good fruit patient safe\", \"treatment type medicin medic treat\", \"find inform diet get nutrit\", \"nick jona get cure ever\", \"blood sugar insulin one level\", \"blood sugar level high hundr\", \"common relat sugar borderlin born\", \"blood sugar level high hundr\", \"blood sugar level high hundr\", \"diet type two good use\", \"mani sugar gram consum eat\", \"two real author type fear\", \"blood sugar level high hundr\", \"insulin produc releas cell get\", \"blood sugar level high hundr\", \"eat good fruit patient safe\", \"suppli one purchas get buy\", \"caus drowsi sever depress urin\", \"food find list good recip\", \"symptom sign common mellitu type\", \"find inform diet get nutrit\", \"eat good fruit patient safe\", \"insulin unit mani zero point\", \"diet plan good menu meal\", \"eat good fruit patient safe\", \"take join team massag borderlin\", \"blood sugar insulin one level\", \"get type one know two\", \"mellitu insipidu call mean import\", \"diet plan good menu meal\", \"caus drowsi sever depress urin\", \"glucos level blood normal rang\", \"drink sugar alcohol type beer\", \"blood sugar level high hundr\", \"nick jona get cure ever\", \"type two one mellitu differ\", \"food find list good recip\", \"blood sugar level high hundr\", \"blood sugar level high hundr\", \"glucos type two affect use\", \"symptom sign common mellitu type\", \"nick jona get cure ever\", \"eat good fruit patient safe\", \"symptom sign common mellitu type\", \"eat good fruit patient safe\", \"eat good fruit patient safe\", \"glucos type two affect use\", \"blood sugar level high hundr\", \"function gonad normal valu site\", \"blood sugar level high hundr\", \"diet plan good menu meal\", \"common relat sugar borderlin born\", \"mani sugar gram consum eat\", \"blood sugar insulin one level\", \"eat good fruit patient safe\", \"treatment type medicin medic treat\", \"blood sugar level high hundr\", \"symptom sign common mellitu type\", \"glucos type two affect use\", \"peopl mani uk everi number\", \"type two one mellitu differ\", \"treatment type medicin medic treat\", \"blood sugar high low level\", \"insulin syring use lantu treat\", \"blood sugar insulin one level\", \"symptom sign common mellitu type\", \"blood sugar level high hundr\", \"normal level sugar blood year\", \"blood sugar level high hundr\", \"symptom sign common mellitu type\", \"blood sugar level high hundr\", \"glucos blood concentr high low\", \"blood sugar level high hundr\", \"peopl mani uk everi number\", \"take join team massag borderlin\", \"get type one know two\", \"die children parent age pass\", \"nick jona get cure ever\", \"diet type two best one\", \"insulin unit mani zero point\", \"nick jona get cure ever\", \"blood sugar high low level\", \"nick jona get cure ever\", \"diseas type one genet communic\", \"pregnanc gestat doctor benefit pregnant\", \"blood sugar level high hundr\", \"blood sugar level high hundr\", \"blood sugar insulin one level\", \"insulin unit mani zero point\", \"nick jona get cure ever\", \"blood sugar insulin one level\", \"sugar blood level normal rang\", \"mellitu insipidu call mean import\", \"blood level glucos sugar insulin\", \"diet plan good menu meal\", \"blood sugar level high hundr\", \"would exercis arm lose weigt\", \"diet plan healthi african american\", \"blood sugar insulin one level\", \"diet plan good menu meal\", \"blood sugar insulin one level\", \"good person patient chees okay\", \"common relat sugar borderlin born\", \"eat good fruit patient safe\", \"get type one know two\", \"nick jona get cure ever\", \"caus drowsi sever depress urin\", \"insulin unit mani zero point\", \"diet type two best one\", \"blood sugar insulin one level\", \"type two one mellitu differ\", \"sugar blood level normal rang\", \"blood level glucos sugar insulin\", \"eat good fruit patient safe\", \"die children parent age pass\", \"eat good fruit patient safe\", \"blood sugar level high hundr\", \"good person patient chees okay\", \"eat good fruit patient safe\", \"good person patient chees okay\", \"nick jona get cure ever\", \"prevent get could rid person\", \"get type one know two\", \"glucos level blood normal rang\", \"test blood strip done ac\", \"blood sugar high low level\", \"type two one mellitu differ\", \"insulin produc releas cell get\", \"type two one mellitu differ\", \"symptom sign common mellitu type\", \"treatment type medicin medic treat\", \"glucos type two affect use\", \"mellitu insipidu call mean import\", \"blood sugar level high hundr\", \"glucos level blood normal rang\", \"symptom sign common mellitu type\", \"food find list good recip\", \"insulin produc releas cell get\", \"symptom sign common mellitu type\", \"eat good fruit patient safe\", \"blood sugar level high hundr\", \"find inform diet get nutrit\", \"symptom sign common mellitu type\", \"food find list good recip\", \"glucos type two affect use\", \"glucos type two affect use\", \"eat good fruit patient safe\", \"diseas type one genet communic\", \"glucos type two affect use\", \"glucos blood concentr high low\", \"nick jona get cure ever\", \"treatment type medicin medic treat\", \"food find list good recip\", \"type two one take treat\", \"glucos type two affect use\", \"blood sugar level high hundr\", \"glucos type two affect use\", \"nick jona get cure ever\", \"find inform diet get nutrit\", \"glucos type two affect use\", \"diet type two good use\", \"blood sugar level high hundr\", \"glucos type two affect use\", \"blood sugar level high hundr\", \"suppli one purchas get buy\", \"glucos type two affect use\", \"nick jona get cure ever\", \"glucos type two affect use\", \"glucos type two affect use\", \"blood sugar insulin one level\", \"glucos type two affect use\", \"would exercis arm lose weigt\", \"food find list good recip\", \"food find list good recip\", \"insulin produc releas cell get\", \"nick jona get cure ever\", \"type two one take treat\", \"glucos type two affect use\", \"glucos type two affect use\", \"eat good fruit patient safe\", \"eat good fruit patient safe\", \"blood level glucos sugar insulin\", \"blood level glucos sugar insulin\", \"blood sugar insulin one level\", \"food find list good recip\", \"type two one mellitu differ\", \"blood level glucos sugar insulin\", \"diet plan good menu meal\", \"type two one mellitu differ\", \"blood sugar level high hundr\", \"eat good fruit patient safe\", \"nick jona get cure ever\", \"word excess thirst caus exactli\", \"suppli one purchas get buy\", \"insulin unit mani zero point\", \"type two one mellitu differ\", \"diet type two good use\", \"eat good fruit patient safe\", \"glucos level blood normal rang\", \"recip good dessert cooki book\", \"insulin produc releas cell get\", \"eat good fruit patient safe\", \"diet type two best one\", \"nick jona get cure ever\", \"common relat sugar borderlin born\", \"take join team massag borderlin\", \"nick jona get cure ever\", \"drink sugar alcohol type beer\", \"suppli one purchas get buy\", \"glucos level blood normal rang\", \"blood sugar insulin one level\", \"blood sugar insulin one level\", \"test blood strip done ac\", \"diet plan good menu meal\", \"insulin role best diabit n\", \"nick jona get cure ever\", \"type two one take treat\", \"sugar get much eat lot\", \"get type one know two\", \"word excess thirst caus exactli\", \"insulin produc releas cell get\", \"test blood strip done ac\", \"eat good fruit patient safe\", \"glucos level blood normal rang\", \"symptom sign common mellitu type\", \"blood sugar level high hundr\", \"drink sugar alcohol type beer\", \"mellitu insipidu call mean import\", \"blood sugar high low level\", \"take join team massag borderlin\", \"blood sugar level high hundr\", \"suppli one purchas get buy\", \"sugar blood level normal rang\", \"die children parent age pass\", \"blood sugar insulin one level\", \"mani sugar gram consum eat\", \"insulin unit mani zero point\", \"food find list good recip\", \"prevent get could rid person\", \"two real author type fear\", \"take join team massag borderlin\", \"blood sugar level high hundr\", \"insulin role best diabit n\", \"blood sugar level high hundr\", \"type two one mellitu differ\", \"diet plan good menu meal\", \"caus drowsi sever depress urin\", \"treatment type medicin medic treat\", \"blood sugar insulin one level\", \"symptom sign common mellitu type\", \"recip good dessert cooki book\", \"blood sugar level high hundr\", \"type two one mellitu differ\", \"medic metformin treat without side\", \"blood sugar level high hundr\", \"insulin role best diabit n\", \"blood sugar level high hundr\", \"blood sugar level high hundr\", \"pregnanc gestat doctor benefit pregnant\", \"drink sugar alcohol type beer\", \"glucos level blood normal rang\", \"food find list good recip\", \"symptom sign common mellitu type\", \"eat good fruit patient safe\", \"treatment type medicin medic treat\", \"blood level glucos sugar insulin\", \"pregnanc gestat doctor benefit pregnant\", \"drink sugar alcohol type beer\", \"die children parent age pass\", \"nick jona get cure ever\", \"blood sugar level high hundr\", \"blood sugar level high hundr\", \"eat good fruit patient safe\", \"caus drowsi sever depress urin\", \"normal level sugar blood year\", \"recip good dessert cooki book\", \"common relat sugar borderlin born\", \"die children parent age pass\", \"peopl mani uk everi number\", \"drink sugar alcohol type beer\", \"blood sugar level high hundr\", \"insulin unit mani zero point\", \"type two one take treat\", \"eat good fruit patient safe\", \"common relat sugar borderlin born\", \"type two one mellitu differ\", \"treatment type medicin medic treat\", \"eat good fruit patient safe\", \"blood sugar insulin one level\", \"blood sugar high low level\", \"get type one know two\", \"eat good fruit patient safe\", \"food find list good recip\", \"glucos level blood normal rang\", \"glucos type two affect use\", \"get type one know two\", \"diet plan good menu meal\", \"sugar blood level normal rang\", \"type two one mellitu differ\", \"good person patient chees okay\", \"food find list good recip\", \"common relat sugar borderlin born\", \"food find list good recip\", \"nick jona get cure ever\", \"die children parent age pass\", \"eat good fruit patient safe\", \"blood sugar level high hundr\", \"glucos type two affect use\", \"insulin produc releas cell get\", \"insulin produc releas cell get\", \"blood sugar insulin one level\", \"insulin syring use lantu treat\", \"insulin unit mani zero point\", \"eat good fruit patient safe\", \"would exercis arm lose weigt\", \"eat good fruit patient safe\", \"food find list good recip\", \"nick jona get cure ever\", \"recip good dessert cooki book\", \"eat good fruit patient safe\", \"glucos type two affect use\", \"symptom sign common mellitu type\", \"nick jona get cure ever\", \"nick jona get cure ever\", \"glucos type two affect use\", \"blood sugar insulin one level\", \"glucos type two affect use\", \"insulin produc releas cell get\", \"insulin produc releas cell get\", \"nick jona get cure ever\", \"suppli one purchas get buy\", \"diet plan good menu meal\", \"glucos blood concentr high low\", \"eat good fruit patient safe\", \"eat good fruit patient safe\", \"nick jona get cure ever\", \"recip good dessert cooki book\", \"glucos level blood normal rang\", \"nick jona get cure ever\", \"glucos type two affect use\", \"blood sugar level high hundr\", \"insulin type disord product resist\", \"treatment type medicin medic treat\", \"sugar get much eat lot\", \"eat good fruit patient safe\", \"nick jona get cure ever\", \"diseas type one genet communic\", \"blood sugar level high hundr\", \"blood sugar level high hundr\", \"treatment type medicin medic treat\", \"blood sugar level high hundr\", \"insulin unit mani zero point\", \"nick jona get cure ever\", \"peopl mani uk everi number\", \"symptom sign common mellitu type\", \"type two one mellitu differ\", \"good person patient chees okay\", \"mellitu insipidu call mean import\", \"food find list good recip\", \"nick jona get cure ever\", \"mellitu insipidu call mean import\", \"eat good fruit patient safe\", \"recip good dessert cooki book\", \"good person patient chees okay\", \"two real author type fear\", \"blood sugar insulin one level\", \"blood sugar level high hundr\", \"blood sugar insulin one level\", \"type two one take treat\", \"eat good fruit patient safe\", \"food find list good recip\", \"suppli one purchas get buy\", \"type two one mellitu differ\", \"get type one know two\", \"glucos level blood normal rang\", \"blood level glucos sugar insulin\", \"blood sugar level high hundr\", \"diet type two best one\", \"eat good fruit patient safe\", \"prevent get could rid person\", \"suppli one purchas get buy\", \"food find list good recip\", \"glucos type two affect use\", \"glucos type two affect use\", \"blood sugar level high hundr\", \"blood sugar level high hundr\", \"symptom sign common mellitu type\", \"glucos type two affect use\", \"nick jona get cure ever\", \"blood sugar insulin one level\", \"glucos type two affect use\", \"glucos type two affect use\", \"diseas type one genet communic\", \"glucos type two affect use\", \"eat good fruit patient safe\", \"type two one mellitu differ\", \"suppli one purchas get buy\", \"mani sugar gram consum eat\", \"glucos type two affect use\", \"recip good dessert cooki book\", \"food find list good recip\", \"glucos type two affect use\", \"find inform diet get nutrit\", \"blood level glucos sugar insulin\", \"recip good dessert cooki book\", \"type two one take treat\", \"blood sugar level high hundr\", \"common relat sugar borderlin born\", \"blood sugar level high hundr\", \"insulin produc releas cell get\", \"glucos type two affect use\", \"eat good fruit patient safe\", \"nick jona get cure ever\", \"glucos type two affect use\", \"normal level sugar blood year\", \"blood sugar level high hundr\", \"insulin produc releas cell get\", \"nick jona get cure ever\", \"nick jona get cure ever\", \"glucos type two affect use\", \"nick jona get cure ever\", \"glucos type two affect use\", \"nick jona get cure ever\", \"diet type two good use\", \"treatment type medicin medic treat\", \"blood sugar level high hundr\", \"food find list good recip\", \"glucos type two affect use\", \"function gonad normal valu site\", \"peopl mani uk everi number\", \"nick jona get cure ever\", \"two real author type fear\", \"get type one know two\", \"symptom sign common mellitu type\", \"mellitu insipidu call mean import\", \"symptom sign common mellitu type\", \"food find list good recip\", \"nick jona get cure ever\", \"blood sugar level high hundr\", \"get type one know two\", \"eat good fruit patient safe\", \"normal level sugar blood year\", \"blood sugar level high hundr\", \"treatment type medicin medic treat\", \"find inform diet get nutrit\", \"blood sugar level high hundr\", \"blood sugar level high hundr\", \"blood sugar level high hundr\", \"type two one mellitu differ\", \"blood level glucos sugar insulin\", \"eat good fruit patient safe\", \"recip good dessert cooki book\", \"diet plan good menu meal\", \"blood sugar level high hundr\", \"diet plan good menu meal\", \"diseas type one genet communic\", \"sugar blood level normal rang\", \"symptom sign common mellitu type\", \"eat good fruit patient safe\", \"diet type two best one\", \"mellitu insipidu call mean import\", \"food find list good recip\", \"insulin syring use lantu treat\", \"get type one know two\", \"sugar get much eat lot\", \"blood sugar insulin one level\", \"eat good fruit patient safe\", \"caus drowsi sever depress urin\", \"common relat sugar borderlin born\", \"glucos type two affect use\", \"get type one know two\", \"recip good dessert cooki book\", \"eat good fruit patient safe\", \"diet type two best one\", \"get type one know two\", \"blood sugar level high hundr\", \"symptom sign common mellitu type\", \"normal level sugar blood year\", \"blood sugar high low level\", \"drink sugar alcohol type beer\", \"two real author type fear\", \"recip good dessert cooki book\", \"sugar get much eat lot\", \"diet type two good use\", \"symptom sign common mellitu type\", \"blood sugar level high hundr\", \"sugar get much eat lot\", \"medic metformin treat without side\", \"diet plan good menu meal\", \"eat good fruit patient safe\", \"nick jona get cure ever\", \"nick jona get cure ever\", \"blood sugar insulin one level\", \"mani sugar gram consum eat\", \"food find list good recip\", \"recip good dessert cooki book\", \"insulin syring use lantu treat\", \"sugar blood level normal rang\", \"drink sugar alcohol type beer\", \"type two one mellitu differ\", \"blood sugar level high hundr\", \"treatment type medicin medic treat\", \"word excess thirst caus exactli\", \"type two one mellitu differ\", \"food find list good recip\", \"get type one know two\", \"mellitu insipidu call mean import\", \"symptom sign common mellitu type\", \"blood level glucos sugar insulin\", \"blood sugar level high hundr\", \"good person patient chees okay\", \"blood sugar insulin one level\", \"die children parent age pass\", \"function gonad normal valu site\", \"good person patient chees okay\", \"blood sugar level high hundr\", \"blood sugar level high hundr\", \"get type one know two\", \"diseas type one genet communic\", \"glucos level blood normal rang\", \"eat good fruit patient safe\", \"medic metformin treat without side\", \"suppli one purchas get buy\", \"glucos type two affect use\", \"blood sugar insulin one level\", \"type two one take treat\", \"glucos type two affect use\", \"blood level glucos sugar insulin\", \"glucos type two affect use\", \"glucos type two affect use\", \"blood sugar level high hundr\", \"drink sugar alcohol type beer\", \"insulin produc releas cell get\", \"blood sugar high low level\", \"nick jona get cure ever\", \"diseas type one genet communic\", \"blood sugar level high hundr\", \"glucos level blood normal rang\", \"food find list good recip\", \"food find list good recip\", \"glucos type two affect use\", \"food find list good recip\", \"blood sugar level high hundr\", \"eat good fruit patient safe\", \"insulin type disord product resist\", \"peopl mani uk everi number\", \"eat good fruit patient safe\", \"diseas type one genet communic\", \"blood sugar level high hundr\", \"suppli one purchas get buy\", \"blood sugar insulin one level\", \"nick jona get cure ever\", \"symptom sign common mellitu type\", \"insulin produc releas cell get\", \"treatment type medicin medic treat\", \"would exercis arm lose weigt\", \"blood sugar level high hundr\", \"blood sugar level high hundr\", \"blood level glucos sugar insulin\", \"glucos type two affect use\", \"eat good fruit patient safe\", \"diseas type one genet communic\", \"die children parent age pass\", \"blood sugar level high hundr\", \"blood sugar level high hundr\", \"diet plan good menu meal\", \"common relat sugar borderlin born\", \"diseas type one genet communic\", \"diet type two best one\", \"blood sugar high low level\", \"diet type two best one\", \"eat good fruit patient safe\", \"prevent get could rid person\", \"glucos level blood normal rang\", \"blood level glucos sugar insulin\", \"caus drowsi sever depress urin\", \"prevent get could rid person\", \"nick jona get cure ever\", \"eat good fruit patient safe\", \"food find list good recip\", \"blood sugar high low level\", \"nick jona get cure ever\", \"treatment type medicin medic treat\", \"diet plan good menu meal\", \"diseas type one genet communic\", \"blood sugar level high hundr\", \"blood sugar level high hundr\", \"insulin produc releas cell get\", \"blood sugar level high hundr\", \"glucos type two affect use\", \"blood level glucos sugar insulin\", \"food find list good recip\", \"mani sugar gram consum eat\", \"eat good fruit patient safe\", \"insulin produc releas cell get\", \"insulin produc releas cell get\", \"blood level glucos sugar insulin\", \"eat good fruit patient safe\", \"blood sugar insulin one level\", \"blood sugar high low level\", \"blood sugar level high hundr\", \"treatment type medicin medic treat\", \"blood level glucos sugar insulin\", \"treatment type medicin medic treat\", \"function gonad normal valu site\", \"medic metformin treat without side\", \"common relat sugar borderlin born\", \"diseas type one genet communic\", \"glucos type two affect use\", \"drink sugar alcohol type beer\", \"type two one take treat\", \"suppli one purchas get buy\", \"glucos type two affect use\", \"blood sugar level high hundr\", \"eat good fruit patient safe\", \"glucos type two affect use\", \"food find list good recip\", \"nick jona get cure ever\", \"glucos level blood normal rang\", \"diseas type one genet communic\", \"diseas type one genet communic\", \"insulin produc releas cell get\", \"recip good dessert cooki book\", \"nick jona get cure ever\", \"treatment type medicin medic treat\", \"die children parent age pass\", \"blood sugar level high hundr\", \"blood sugar level high hundr\", \"type two one take treat\", \"caus drowsi sever depress urin\", \"food find list good recip\", \"blood sugar insulin one level\", \"insulin produc releas cell get\", \"glucos type two affect use\", \"insulin produc releas cell get\", \"food find list good recip\", \"eat good fruit patient safe\", \"insulin role best diabit n\", \"blood sugar level high hundr\", \"word excess thirst caus exactli\", \"symptom sign common mellitu type\", \"eat good fruit patient safe\", \"caus drowsi sever depress urin\", \"blood sugar level high hundr\", \"insulin produc releas cell get\", \"get type one know two\", \"mellitu insipidu call mean import\", \"symptom sign common mellitu type\", \"common relat sugar borderlin born\", \"eat good fruit patient safe\", \"insulin produc releas cell get\", \"mellitu insipidu call mean import\", \"blood sugar level high hundr\", \"glucos level blood normal rang\", \"eat good fruit patient safe\", \"mellitu insipidu call mean import\", \"blood sugar insulin one level\", \"nick jona get cure ever\", \"die children parent age pass\", \"treatment type medicin medic treat\", \"blood sugar level high hundr\", \"eat good fruit patient safe\", \"get type one know two\", \"word excess thirst caus exactli\", \"glucos type two affect use\", \"blood sugar insulin one level\", \"eat good fruit patient safe\", \"blood level glucos sugar insulin\", \"diet plan good menu meal\", \"treatment type medicin medic treat\", \"food find list good recip\", \"diet plan good menu meal\", \"common relat sugar borderlin born\", \"blood sugar level high hundr\", \"eat good fruit patient safe\", \"insulin produc releas cell get\", \"blood sugar level high hundr\", \"blood level glucos sugar insulin\", \"recip good dessert cooki book\", \"insulin produc releas cell get\", \"word excess thirst caus exactli\", \"eat good fruit patient safe\", \"die children parent age pass\", \"insulin produc releas cell get\", \"blood sugar high low level\", \"symptom sign common mellitu type\", \"blood sugar insulin one level\", \"insulin produc releas cell get\", \"two real author type fear\", \"recip good dessert cooki book\", \"recip good dessert cooki book\", \"insulin syring use lantu treat\", \"diseas type one genet communic\", \"recip good dessert cooki book\", \"blood sugar level high hundr\", \"food find list good recip\", \"take join team massag borderlin\", \"take join team massag borderlin\", \"recip good dessert cooki book\", \"blood level glucos sugar insulin\", \"blood sugar insulin one level\", \"two real author type fear\", \"diet type two best one\", \"mellitu insipidu call mean import\", \"sugar get much eat lot\", \"blood sugar level high hundr\", \"diet plan good menu meal\", \"eat good fruit patient safe\", \"blood sugar level high hundr\", \"blood sugar level high hundr\", \"eat good fruit patient safe\", \"good person patient chees okay\", \"would exercis arm lose weigt\", \"insulin unit mani zero point\", \"blood sugar level high hundr\", \"treatment type medicin medic treat\", \"insulin type disord product resist\", \"blood sugar level high hundr\", \"sugar blood level normal rang\", \"pregnanc gestat doctor benefit pregnant\", \"drink sugar alcohol type beer\", \"insulin type disord product resist\", \"glucos blood concentr high low\", \"eat good fruit patient safe\", \"glucos level blood normal rang\", \"treatment type medicin medic treat\", \"blood sugar level high hundr\", \"die children parent age pass\", \"sugar blood level normal rang\", \"blood sugar level high hundr\", \"mellitu insipidu call mean import\", \"blood level glucos sugar insulin\", \"blood sugar insulin one level\", \"insulin syring use lantu treat\", \"type two one mellitu differ\", \"normal level sugar blood year\", \"diet plan good menu meal\", \"word excess thirst caus exactli\", \"type two one mellitu differ\", \"symptom sign common mellitu type\", \"blood sugar level high hundr\", \"sugar get much eat lot\", \"diseas type one genet communic\", \"glucos type two affect use\", \"nick jona get cure ever\", \"symptom sign common mellitu type\", \"two real author type fear\", \"nick jona get cure ever\", \"diet plan good menu meal\", \"sugar blood level normal rang\", \"drink sugar alcohol type beer\", \"eat good fruit patient safe\", \"eat good fruit patient safe\", \"test blood strip done ac\", \"cure type2 home remedi treat\", \"blood sugar high low level\", \"glucos level blood normal rang\", \"blood level glucos sugar insulin\", \"recip good dessert cooki book\", \"treatment type medicin medic treat\", \"glucos blood concentr high low\", \"diet type two best one\", \"blood sugar insulin one level\", \"insulin produc releas cell get\", \"get type one know two\", \"type two one mellitu differ\", \"type two one mellitu differ\", \"symptom sign common mellitu type\", \"type two one mellitu differ\", \"eat good fruit patient safe\", \"cure type2 home remedi treat\", \"drink sugar alcohol type beer\", \"symptom sign common mellitu type\", \"eat good fruit patient safe\", \"type two one mellitu differ\", \"eat good fruit patient safe\", \"get type one know two\", \"glucos level blood normal rang\", \"insulin produc releas cell get\", \"insulin produc releas cell get\", \"blood sugar level high hundr\", \"eat good fruit patient safe\", \"food find list good recip\", \"treatment type medicin medic treat\", \"blood sugar level high hundr\", \"suppli one purchas get buy\", \"blood sugar level high hundr\", \"insulin produc releas cell get\", \"blood sugar level high hundr\", \"get type one know two\", \"food find list good recip\", \"blood sugar level high hundr\", \"drink sugar alcohol type beer\", \"pregnanc gestat doctor benefit pregnant\", \"insulin unit mani zero point\", \"get type one know two\", \"nick jona get cure ever\", \"blood sugar level high hundr\", \"drink sugar alcohol type beer\", \"blood level glucos sugar insulin\", \"glucos level blood normal rang\", \"food find list good recip\", \"blood sugar insulin one level\", \"blood level glucos sugar insulin\", \"blood sugar level high hundr\", \"symptom sign common mellitu type\", \"diet plan good menu meal\", \"diseas type one genet communic\", \"treatment type medicin medic treat\", \"eat good fruit patient safe\", \"glucos level blood normal rang\", \"test blood strip done ac\", \"diet plan good menu meal\", \"test blood strip done ac\", \"good person patient chees okay\", \"blood level glucos sugar insulin\", \"diet plan good menu meal\", \"diet plan good menu meal\", \"peopl mani uk everi number\", \"eat good fruit patient safe\", \"eat good fruit patient safe\", \"diet plan good menu meal\", \"die children parent age pass\", \"type two one mellitu differ\", \"blood sugar level high hundr\", \"function gonad normal valu site\", \"treatment type medicin medic treat\", \"treatment type medicin medic treat\", \"blood sugar level high hundr\", \"drink sugar alcohol type beer\", \"insulin produc releas cell get\", \"blood sugar level high hundr\", \"blood sugar level high hundr\", \"treatment type medicin medic treat\"], \"xaxis\": \"x\", \"yaxis\": \"y\"}],                        {\"barmode\": \"relative\", \"legend\": {\"tracegroupgap\": 0}, \"margin\": {\"t\": 60}, \"template\": {\"data\": {\"bar\": [{\"error_x\": {\"color\": \"#2a3f5f\"}, \"error_y\": {\"color\": \"#2a3f5f\"}, \"marker\": {\"line\": {\"color\": \"#E5ECF6\", \"width\": 0.5}}, \"type\": \"bar\"}], \"barpolar\": [{\"marker\": {\"line\": {\"color\": \"#E5ECF6\", \"width\": 0.5}}, \"type\": \"barpolar\"}], \"carpet\": [{\"aaxis\": {\"endlinecolor\": \"#2a3f5f\", \"gridcolor\": \"white\", \"linecolor\": \"white\", \"minorgridcolor\": \"white\", \"startlinecolor\": \"#2a3f5f\"}, \"baxis\": {\"endlinecolor\": \"#2a3f5f\", \"gridcolor\": \"white\", \"linecolor\": \"white\", \"minorgridcolor\": \"white\", \"startlinecolor\": \"#2a3f5f\"}, \"type\": \"carpet\"}], \"choropleth\": [{\"colorbar\": {\"outlinewidth\": 0, \"ticks\": \"\"}, \"type\": \"choropleth\"}], \"contour\": [{\"colorbar\": {\"outlinewidth\": 0, \"ticks\": \"\"}, \"colorscale\": [[0.0, \"#0d0887\"], [0.1111111111111111, \"#46039f\"], [0.2222222222222222, \"#7201a8\"], [0.3333333333333333, \"#9c179e\"], [0.4444444444444444, \"#bd3786\"], [0.5555555555555556, \"#d8576b\"], [0.6666666666666666, \"#ed7953\"], [0.7777777777777778, \"#fb9f3a\"], [0.8888888888888888, \"#fdca26\"], [1.0, \"#f0f921\"]], \"type\": \"contour\"}], \"contourcarpet\": [{\"colorbar\": {\"outlinewidth\": 0, \"ticks\": \"\"}, \"type\": \"contourcarpet\"}], \"heatmap\": [{\"colorbar\": {\"outlinewidth\": 0, \"ticks\": \"\"}, \"colorscale\": [[0.0, \"#0d0887\"], [0.1111111111111111, \"#46039f\"], [0.2222222222222222, \"#7201a8\"], [0.3333333333333333, \"#9c179e\"], [0.4444444444444444, \"#bd3786\"], [0.5555555555555556, \"#d8576b\"], [0.6666666666666666, \"#ed7953\"], [0.7777777777777778, \"#fb9f3a\"], [0.8888888888888888, \"#fdca26\"], [1.0, \"#f0f921\"]], \"type\": \"heatmap\"}], \"heatmapgl\": [{\"colorbar\": {\"outlinewidth\": 0, \"ticks\": \"\"}, \"colorscale\": [[0.0, \"#0d0887\"], [0.1111111111111111, \"#46039f\"], [0.2222222222222222, \"#7201a8\"], [0.3333333333333333, \"#9c179e\"], [0.4444444444444444, \"#bd3786\"], [0.5555555555555556, \"#d8576b\"], [0.6666666666666666, \"#ed7953\"], [0.7777777777777778, \"#fb9f3a\"], [0.8888888888888888, \"#fdca26\"], [1.0, \"#f0f921\"]], \"type\": \"heatmapgl\"}], \"histogram\": [{\"marker\": {\"colorbar\": {\"outlinewidth\": 0, \"ticks\": \"\"}}, \"type\": \"histogram\"}], \"histogram2d\": [{\"colorbar\": {\"outlinewidth\": 0, \"ticks\": \"\"}, \"colorscale\": [[0.0, \"#0d0887\"], [0.1111111111111111, \"#46039f\"], [0.2222222222222222, \"#7201a8\"], [0.3333333333333333, \"#9c179e\"], [0.4444444444444444, \"#bd3786\"], [0.5555555555555556, \"#d8576b\"], [0.6666666666666666, \"#ed7953\"], [0.7777777777777778, \"#fb9f3a\"], [0.8888888888888888, \"#fdca26\"], [1.0, \"#f0f921\"]], \"type\": \"histogram2d\"}], \"histogram2dcontour\": [{\"colorbar\": {\"outlinewidth\": 0, \"ticks\": \"\"}, \"colorscale\": [[0.0, \"#0d0887\"], [0.1111111111111111, \"#46039f\"], [0.2222222222222222, \"#7201a8\"], [0.3333333333333333, \"#9c179e\"], [0.4444444444444444, \"#bd3786\"], [0.5555555555555556, \"#d8576b\"], [0.6666666666666666, \"#ed7953\"], [0.7777777777777778, \"#fb9f3a\"], [0.8888888888888888, \"#fdca26\"], [1.0, \"#f0f921\"]], \"type\": \"histogram2dcontour\"}], \"mesh3d\": [{\"colorbar\": {\"outlinewidth\": 0, \"ticks\": \"\"}, \"type\": \"mesh3d\"}], \"parcoords\": [{\"line\": {\"colorbar\": {\"outlinewidth\": 0, \"ticks\": \"\"}}, \"type\": \"parcoords\"}], \"pie\": [{\"automargin\": true, \"type\": \"pie\"}], \"scatter\": [{\"marker\": {\"colorbar\": {\"outlinewidth\": 0, \"ticks\": \"\"}}, \"type\": \"scatter\"}], \"scatter3d\": [{\"line\": {\"colorbar\": {\"outlinewidth\": 0, \"ticks\": \"\"}}, \"marker\": {\"colorbar\": {\"outlinewidth\": 0, \"ticks\": \"\"}}, \"type\": \"scatter3d\"}], \"scattercarpet\": [{\"marker\": {\"colorbar\": {\"outlinewidth\": 0, \"ticks\": \"\"}}, \"type\": \"scattercarpet\"}], \"scattergeo\": [{\"marker\": {\"colorbar\": {\"outlinewidth\": 0, \"ticks\": \"\"}}, \"type\": \"scattergeo\"}], \"scattergl\": [{\"marker\": {\"colorbar\": {\"outlinewidth\": 0, \"ticks\": \"\"}}, \"type\": \"scattergl\"}], \"scattermapbox\": [{\"marker\": {\"colorbar\": {\"outlinewidth\": 0, \"ticks\": \"\"}}, \"type\": \"scattermapbox\"}], \"scatterpolar\": [{\"marker\": {\"colorbar\": {\"outlinewidth\": 0, \"ticks\": \"\"}}, \"type\": \"scatterpolar\"}], \"scatterpolargl\": [{\"marker\": {\"colorbar\": {\"outlinewidth\": 0, \"ticks\": \"\"}}, \"type\": \"scatterpolargl\"}], \"scatterternary\": [{\"marker\": {\"colorbar\": {\"outlinewidth\": 0, \"ticks\": \"\"}}, \"type\": \"scatterternary\"}], \"surface\": [{\"colorbar\": {\"outlinewidth\": 0, \"ticks\": \"\"}, \"colorscale\": [[0.0, \"#0d0887\"], [0.1111111111111111, \"#46039f\"], [0.2222222222222222, \"#7201a8\"], [0.3333333333333333, \"#9c179e\"], [0.4444444444444444, \"#bd3786\"], [0.5555555555555556, \"#d8576b\"], [0.6666666666666666, \"#ed7953\"], [0.7777777777777778, \"#fb9f3a\"], [0.8888888888888888, \"#fdca26\"], [1.0, \"#f0f921\"]], \"type\": \"surface\"}], \"table\": [{\"cells\": {\"fill\": {\"color\": \"#EBF0F8\"}, \"line\": {\"color\": \"white\"}}, \"header\": {\"fill\": {\"color\": \"#C8D4E3\"}, \"line\": {\"color\": \"white\"}}, \"type\": \"table\"}]}, \"layout\": {\"annotationdefaults\": {\"arrowcolor\": \"#2a3f5f\", \"arrowhead\": 0, \"arrowwidth\": 1}, \"coloraxis\": {\"colorbar\": {\"outlinewidth\": 0, \"ticks\": \"\"}}, \"colorscale\": {\"diverging\": [[0, \"#8e0152\"], [0.1, \"#c51b7d\"], [0.2, \"#de77ae\"], [0.3, \"#f1b6da\"], [0.4, \"#fde0ef\"], [0.5, \"#f7f7f7\"], [0.6, \"#e6f5d0\"], [0.7, \"#b8e186\"], [0.8, \"#7fbc41\"], [0.9, \"#4d9221\"], [1, \"#276419\"]], \"sequential\": [[0.0, \"#0d0887\"], [0.1111111111111111, \"#46039f\"], [0.2222222222222222, \"#7201a8\"], [0.3333333333333333, \"#9c179e\"], [0.4444444444444444, \"#bd3786\"], [0.5555555555555556, \"#d8576b\"], [0.6666666666666666, \"#ed7953\"], [0.7777777777777778, \"#fb9f3a\"], [0.8888888888888888, \"#fdca26\"], [1.0, \"#f0f921\"]], \"sequentialminus\": [[0.0, \"#0d0887\"], [0.1111111111111111, \"#46039f\"], [0.2222222222222222, \"#7201a8\"], [0.3333333333333333, \"#9c179e\"], [0.4444444444444444, \"#bd3786\"], [0.5555555555555556, \"#d8576b\"], [0.6666666666666666, \"#ed7953\"], [0.7777777777777778, \"#fb9f3a\"], [0.8888888888888888, \"#fdca26\"], [1.0, \"#f0f921\"]]}, \"colorway\": [\"#636efa\", \"#EF553B\", \"#00cc96\", \"#ab63fa\", \"#FFA15A\", \"#19d3f3\", \"#FF6692\", \"#B6E880\", \"#FF97FF\", \"#FECB52\"], \"font\": {\"color\": \"#2a3f5f\"}, \"geo\": {\"bgcolor\": \"white\", \"lakecolor\": \"white\", \"landcolor\": \"#E5ECF6\", \"showlakes\": true, \"showland\": true, \"subunitcolor\": \"white\"}, \"hoverlabel\": {\"align\": \"left\"}, \"hovermode\": \"closest\", \"mapbox\": {\"style\": \"light\"}, \"paper_bgcolor\": \"white\", \"plot_bgcolor\": \"#E5ECF6\", \"polar\": {\"angularaxis\": {\"gridcolor\": \"white\", \"linecolor\": \"white\", \"ticks\": \"\"}, \"bgcolor\": \"#E5ECF6\", \"radialaxis\": {\"gridcolor\": \"white\", \"linecolor\": \"white\", \"ticks\": \"\"}}, \"scene\": {\"xaxis\": {\"backgroundcolor\": \"#E5ECF6\", \"gridcolor\": \"white\", \"gridwidth\": 2, \"linecolor\": \"white\", \"showbackground\": true, \"ticks\": \"\", \"zerolinecolor\": \"white\"}, \"yaxis\": {\"backgroundcolor\": \"#E5ECF6\", \"gridcolor\": \"white\", \"gridwidth\": 2, \"linecolor\": \"white\", \"showbackground\": true, \"ticks\": \"\", \"zerolinecolor\": \"white\"}, \"zaxis\": {\"backgroundcolor\": \"#E5ECF6\", \"gridcolor\": \"white\", \"gridwidth\": 2, \"linecolor\": \"white\", \"showbackground\": true, \"ticks\": \"\", \"zerolinecolor\": \"white\"}}, \"shapedefaults\": {\"line\": {\"color\": \"#2a3f5f\"}}, \"ternary\": {\"aaxis\": {\"gridcolor\": \"white\", \"linecolor\": \"white\", \"ticks\": \"\"}, \"baxis\": {\"gridcolor\": \"white\", \"linecolor\": \"white\", \"ticks\": \"\"}, \"bgcolor\": \"#E5ECF6\", \"caxis\": {\"gridcolor\": \"white\", \"linecolor\": \"white\", \"ticks\": \"\"}}, \"title\": {\"x\": 0.05}, \"xaxis\": {\"automargin\": true, \"gridcolor\": \"white\", \"linecolor\": \"white\", \"ticks\": \"\", \"title\": {\"standoff\": 15}, \"zerolinecolor\": \"white\", \"zerolinewidth\": 2}, \"yaxis\": {\"automargin\": true, \"gridcolor\": \"white\", \"linecolor\": \"white\", \"ticks\": \"\", \"title\": {\"standoff\": 15}, \"zerolinecolor\": \"white\", \"zerolinewidth\": 2}}}, \"title\": {\"text\": \"Non-Outlier Cluster Label Distribution (52.1% Retained)\"}, \"xaxis\": {\"anchor\": \"y\", \"domain\": [0.0, 1.0], \"showticklabels\": false, \"title\": {\"text\": \"Clusters\"}}, \"yaxis\": {\"anchor\": \"x\", \"domain\": [0.0, 1.0], \"title\": {\"text\": \"Percent\"}}},                        {\"responsive\": true}                    ).then(function(){\n",
       "                            \n",
       "var gd = document.getElementById('f5c46866-20a6-4445-a178-512aff79858c');\n",
       "var x = new MutationObserver(function (mutations, observer) {{\n",
       "        var display = window.getComputedStyle(gd).display;\n",
       "        if (!display || display === 'none') {{\n",
       "            console.log([gd, 'removed!']);\n",
       "            Plotly.purge(gd);\n",
       "            observer.disconnect();\n",
       "        }}\n",
       "}});\n",
       "\n",
       "// Listen for the removal of the full notebook cells\n",
       "var notebookContainer = gd.closest('#notebook-container');\n",
       "if (notebookContainer) {{\n",
       "    x.observe(notebookContainer, {childList: true});\n",
       "}}\n",
       "\n",
       "// Listen for the clearing of the current output cell\n",
       "var outputEl = gd.closest('.output');\n",
       "if (outputEl) {{\n",
       "    x.observe(outputEl, {childList: true});\n",
       "}}\n",
       "\n",
       "                        })                };                });            </script>        </div>"
      ]
     },
     "metadata": {},
     "output_type": "display_data"
    }
   ],
   "source": [
    "fig = px.histogram(\n",
    "    df[df['label'] != -1], x='summary', \n",
    "    histnorm='percent', nbins=len(df['label'].unique()))\n",
    "fig.update_layout(\n",
    "    title='Non-Outlier Cluster Label Distribution ({:.1f}% Retained)'.format(perc_labeled),\n",
    "    xaxis={'title': 'Clusters', 'showticklabels': False},\n",
    "    yaxis={'title': 'Percent'}\n",
    ")\n",
    "fig.show()"
   ]
  },
  {
   "cell_type": "markdown",
   "metadata": {},
   "source": [
    "### Conclusion\n",
    "\n",
    "Running this notebook with the parameter settings stated above result in question clusters that clearly extend beyond simply clustering based on pre-trained word vectors. For example, one such cluster with the auto-generated topic summary of \"take join team massag borderlin\" included the queries \"should a diabetic use a sauna?\", \"can you massage on a diabetic?\", and \"can a diabetic do a \\<unk\\> tattoo?\". We hypothesize that the ability to link these spa-like/beauty-like questions is learned due to the answers to these questions sharing common terms and ideas. This could agree with a useful \"many-to-one\" graphical structure between questions and answers, which can often be seen in online forums where questions with highly varying forms share a common general answer. "
   ]
  },
  {
   "cell_type": "code",
   "execution_count": null,
   "metadata": {},
   "outputs": [],
   "source": []
  }
 ],
 "metadata": {
  "kernelspec": {
   "display_name": "Python 3",
   "language": "python",
   "name": "python3"
  },
  "language_info": {
   "codemirror_mode": {
    "name": "ipython",
    "version": 3
   },
   "file_extension": ".py",
   "mimetype": "text/x-python",
   "name": "python",
   "nbconvert_exporter": "python",
   "pygments_lexer": "ipython3",
   "version": "3.8.3"
  }
 },
 "nbformat": 4,
 "nbformat_minor": 4
}
