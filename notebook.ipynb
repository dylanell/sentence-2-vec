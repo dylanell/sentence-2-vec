{
 "cells": [
  {
   "cell_type": "markdown",
   "metadata": {},
   "source": [
    "# Learning Sentence Representations from Question-Answer Pairs\n",
    "\n",
    "In this project, we explore methods to learn fixed length vector representations for variable lengthed \"short\" sentences (on the order of at most around 50 words) of text data. These \"short\" sentences are questions scraped from an online forum like answers.com, and each sample is accompanied by the top response (answer) corresponding to each question. We use question-answer data scraped from an online forum because the \"label\" (answer) for each training sample (question) is free. We use quotes around the word \"label\" because these labels are more like \"soft labels\" since they are responses taken verbatim from the general public. Our goal is to use these labels in order to learn sentence representations from within a specific topic domain (like \"diabetes\")."
   ]
  },
  {
   "cell_type": "markdown",
   "metadata": {},
   "source": [
    "### Text-based Representation Learning\n",
    "\n",
    "The application of understanding user questions might be the starting point if you are attempting to build a chatbot to automatically handle customer queries. As an initial step, you might want to cluster queries into different high-level feature categories, requiring a numerical learned feature representation of consistent dimensionality for all queries. A fully supervised approach could potentially work for this, where a model is trained to output the correct answer given a quesion, but would most likely require a lot of data and some clever model design and depend too heavily on the answer \"labels\" which may sometimes be donwright wrong. On the other hand, this could be attempted in an entirely unsupervised manner, perhaps by learning to unscramble augmented question strings or impute missing words. Unsupervised methods may learn to bias too heavily towards unexpected features (like individual words or low-level grammatical logic), and still, we have useful information nonetheless in the answers, so why not try to use this. The method we choose here involves using comparison-based learning samples (between questions and answers) in order to directly learn a feature representation for text-based inputs. Specifically, by constructing \"positive\" question-answer pairs, where the paired answer is the \"correct\" answer, and \"negative\" question-answer pairs, where the paired answer is the \"incorrect\" answer, we can train a model to simply discriminate between these two pairs. Usually this is done by satisfying some criterion based on a distance/similarity measurement in a learned, fixed-dimensionality feature space, requiring that samples from a \"positive\" pair be mapped closer together (on average) than samples form a \"negative\" pair. Here, we explore the learned features for some of these comparison-based representation learning models, including the [Triplet Network](https://arxiv.org/pdf/1412.6622.pdf) and the [Siamese Network](https://papers.nips.cc/paper/1993/file/288cc0ff022877bd3df94bc9360b9c5d-Paper.pdf). "
   ]
  },
  {
   "cell_type": "markdown",
   "metadata": {},
   "source": [
    "### Training the Models"
   ]
  },
  {
   "cell_type": "markdown",
   "metadata": {},
   "source": [
    "### Exploring Learned Representations"
   ]
  },
  {
   "cell_type": "markdown",
   "metadata": {},
   "source": [
    "#### 1. Setup\n",
    "\n",
    "Import packages and load learned feature representation data files."
   ]
  },
  {
   "cell_type": "code",
   "execution_count": 1,
   "metadata": {},
   "outputs": [],
   "source": [
    "import torch\n",
    "import pandas as pd\n",
    "import numpy as np\n",
    "\n",
    "#data_dir = '/home/dylan/trained_model_files/pytorch/sentence2vec/metric/'\n",
    "data_dir = '/home/dylan/trained_model_files/pytorch/sentence2vec/margin/'\n",
    "out_dir = '/tmp/'\n",
    "\n",
    "# load validation question and answer token lists\n",
    "with open('{}val_question_tok.txt'.format(data_dir), 'r') as fp:\n",
    "    val_question_tok = [line.strip('\\n') for line in fp]\n",
    "with open('{}val_answer_tok.txt'.format(data_dir), 'r') as fp:\n",
    "    val_answer_tok = [line.strip('\\n') for line in fp]\n",
    "    \n",
    "# load validation question and answer vectors\n",
    "val_question_vec = torch.tensor(np.genfromtxt(\n",
    "    '{}val_question_vec.txt'.format(data_dir), delimiter=','))\n",
    "val_answer_vec = torch.tensor(np.genfromtxt(\n",
    "    '{}val_answer_vec.txt'.format(data_dir), delimiter=','))"
   ]
  },
  {
   "cell_type": "markdown",
   "metadata": {},
   "source": [
    "#### 2. K-nearest Neighbors\n",
    "\n",
    "For each question in the validation set, compute the k-nearest neighbors ($k=3$) within the learned feature space and write these neighbors, along with the original question, to a csv file. "
   ]
  },
  {
   "cell_type": "code",
   "execution_count": 2,
   "metadata": {},
   "outputs": [],
   "source": [
    "# k nearest neighbors dataframe\n",
    "knn_df = pd.DataFrame(columns=['question', 'neighbor_1', 'neighbor_2', 'neighbor_3'])\n",
    "\n",
    "# iterate through question sample texts\n",
    "for i, sample in enumerate(val_question_tok):\n",
    "    # create a stacked array of the anchor question\n",
    "    vec = val_question_vec[i].unsqueeze(0).repeat(len(val_question_vec)-1, 1)\n",
    "    \n",
    "    # compute pairwise cosine similarity b/w anchor question and every other question\n",
    "    #dists = torch.nn.functional.cosine_similarity(\n",
    "    #    vec, torch.cat([val_question_vec[:i], val_question_vec[i+1:]]), dim=1)\n",
    "    #knns = torch.argsort(dists, descending=True)[:4].long()\n",
    "    \n",
    "    # compute euclidiean pairwise dist b/w anchor question and every other question\n",
    "    dists = torch.nn.functional.pairwise_distance(\n",
    "        vec, torch.cat([val_question_vec[:i], val_question_vec[i+1:]]), p=1)\n",
    "    knns = torch.argsort(dists, descending=False)[:4].long()\n",
    "    \n",
    "    knn_df = knn_df.append({\n",
    "        'question': sample,\n",
    "        'neighbor_1': val_question_tok[knns[0].item()],\n",
    "        'neighbor_2': val_question_tok[knns[1].item()],\n",
    "        'neighbor_3': val_question_tok[knns[2].item()],\n",
    "    }, ignore_index=True)\n",
    "    \n",
    "# save question neighbors\n",
    "knn_df.to_csv('{}question_knns.csv'.format(out_dir), index=False)"
   ]
  },
  {
   "cell_type": "code",
   "execution_count": 3,
   "metadata": {},
   "outputs": [
    {
     "name": "stdout",
     "output_type": "stream",
     "text": [
      "question      how can a doctor determine the type of diabete...\n",
      "neighbor_1             can diabetes be passed on to your baby ?\n",
      "neighbor_2         where can one find information on diabetes ?\n",
      "neighbor_3                         is honey good for diabetes ?\n",
      "Name: 1878, dtype: object\n",
      "\n",
      "question      is there a cure for diabetes type two coming u...\n",
      "neighbor_1                            what can treat diabetes ?\n",
      "neighbor_2                      is there a type four diabetes ?\n",
      "neighbor_3    the normal value of glucose per one hundred ml...\n",
      "Name: 2358, dtype: object\n",
      "\n",
      "question         what is the normal blood sugar level reading ?\n",
      "neighbor_1    is it just irritation down there if i feel lik...\n",
      "neighbor_2    what are the physiologic mechanisms involved i...\n",
      "neighbor_3                               diabetic snack ideas ?\n",
      "Name: 210, dtype: object\n",
      "\n",
      "question                 how much pasta should a diabetic eat ?\n",
      "neighbor_1                                 diabetic diet tips ?\n",
      "neighbor_2    what kind of pasta a diabetic person should eat ?\n",
      "neighbor_3    is there a cure for diabetes type two coming u...\n",
      "Name: 1644, dtype: object\n",
      "\n",
      "question      what is the disease that results from lack of ...\n",
      "neighbor_1    what is the disease process brought about by t...\n",
      "neighbor_2                            who made the human body ?\n",
      "neighbor_3    how much white rice can you eat if you are dia...\n",
      "Name: 1298, dtype: object\n",
      "\n",
      "question      how can bacteria be genetically engineered and...\n",
      "neighbor_1    what is the difference between type one diabet...\n",
      "neighbor_2                       can a diabetic drink alcohol ?\n",
      "neighbor_3        what happens if you get insulin in your eye ?\n",
      "Name: 757, dtype: object\n",
      "\n",
      "question                   gestational diabetes diet ?\n",
      "neighbor_1          how is wheat grass therapy taken ?\n",
      "neighbor_2      what does the lack of insulin affect ?\n",
      "neighbor_3    what can uncontrolled diabetes lead to ?\n",
      "Name: 821, dtype: object\n",
      "\n",
      "question                what are the symptoms of a sugar rush ?\n",
      "neighbor_1    does glycosuria not occur in diabetes insipidus ?\n",
      "neighbor_2             what are some signs of low blood sugar ?\n",
      "neighbor_3                  how do you treat or cure diabetes ?\n",
      "Name: 337, dtype: object\n",
      "\n",
      "question        what is a sample diet for a diabetic ?\n",
      "neighbor_1      what is the best diet for a diabetic ?\n",
      "neighbor_2    why is diabetes a serious health issue ?\n",
      "neighbor_3    the advantages of a diabetic diet plan ?\n",
      "Name: 1824, dtype: object\n",
      "\n",
      "question      where can i find more information on diabetes ...\n",
      "neighbor_1         high concentration of glucose in the blood ?\n",
      "neighbor_2                  what foods contribute to diabetes ?\n",
      "neighbor_3     what happens when someone has high blood sugar ?\n",
      "Name: 965, dtype: object\n",
      "\n"
     ]
    }
   ],
   "source": [
    "for i in range(10):\n",
    "    print(knn_df.iloc[np.random.randint(len(knn_df))])\n",
    "    print('')"
   ]
  },
  {
   "cell_type": "markdown",
   "metadata": {},
   "source": [
    "#### 3. Clustering\n",
    "\n",
    "Perform DBSCAN clustering on question representations from the validation set."
   ]
  },
  {
   "cell_type": "code",
   "execution_count": 4,
   "metadata": {},
   "outputs": [],
   "source": [
    "from sklearn.manifold import TSNE\n",
    "\n",
    "tsne = TSNE(n_components=3, metric='l1')\n",
    "val_question_proj = tsne.fit_transform(val_question_vec)"
   ]
  },
  {
   "cell_type": "code",
   "execution_count": 9,
   "metadata": {},
   "outputs": [
    {
     "name": "stdout",
     "output_type": "stream",
     "text": [
      "22 clusters found\n"
     ]
    },
    {
     "data": {
      "application/vnd.plotly.v1+json": {
       "config": {
        "plotlyServerURL": "https://plot.ly"
       },
       "data": [
        {
         "customdata": [
          [
           "what is a diabetic ?"
          ],
          [
           "what is the leading cause of diabetes type two ?"
          ],
          [
           "how many carbs should a type two diabetic have daily with blood sugar in the three hundred is ?"
          ],
          [
           "who started the american diabetes association ?"
          ],
          [
           "can you enter the service if you are a type two diabetic ?"
          ],
          [
           "at what age can children get diabetes ?"
          ],
          [
           "is nph insulin cloudy ?"
          ],
          [
           "what are symptoms of type two diabetes ?"
          ],
          [
           "can diabetes be <unk> down from your parents ?"
          ],
          [
           "what research has been done on <unk> <unk> ?"
          ],
          [
           "what are side effects from insulin ?"
          ],
          [
           "who from the jonas brother has type one diabetes ?"
          ],
          [
           "what are the symptoms of diabetic ulcers ?"
          ],
          [
           "what is diabetes one ?"
          ],
          [
           "what will happen if you take diabetic medication and you are not diabetic ?"
          ],
          [
           "what can diabetics drink when dehydrated ?"
          ],
          [
           "what do the test strips for diabetes test for ?"
          ],
          [
           "what is the expected outcome for patients with type one and type two diabetes ?"
          ],
          [
           "why polydipsia in diabetes type one ?"
          ],
          [
           "abnormally low concentration of glucose in the blood ?"
          ],
          [
           "the glucose molecule has a great deal of energy in its ?"
          ],
          [
           "what are the conditions for giving glucose orally to the patient ?"
          ],
          [
           "who needs to use a glucose monitor watch ?"
          ],
          [
           "concerns with <unk> engineered insulin ?"
          ],
          [
           "can children get diabeties ?"
          ],
          [
           "where can i get free diabetes recipes ?"
          ],
          [
           "what does insulin do for diabetics ?"
          ],
          [
           "can you eat <unk> if you have diabetes ?"
          ],
          [
           "diabetic drinks ?"
          ],
          [
           "what are some good diabetic cheesecake recipes ?"
          ],
          [
           "how can you tell sugar is removed from the blood ?"
          ],
          [
           "easy diabetic desserts ?"
          ],
          [
           "your blood sugar is running between one hundred and fifty and two hundred and thirty seven is that bad ?"
          ],
          [
           "why should a diabetic patient take <unk> <unk> fifteen ?"
          ],
          [
           "complications of diabetes ?"
          ],
          [
           "why dont mix glargine with short acting insulin ?"
          ],
          [
           "what are the medical and nutritional benefits of eating <unk> for diabetics ?"
          ],
          [
           "what type of diabetes is hereditary ?"
          ],
          [
           "which organ produces insulin ?"
          ],
          [
           "what type of device can you use to check your blood sugar ?"
          ],
          [
           "my doctor asked me if a patient of <unk> had diabetes . i said no just high blood pressure . he said that is diabetes . does having high blood pressure mean you have diabetes ?"
          ],
          [
           "nursing <unk> exam model question <unk> for <unk> of health <unk> ?"
          ],
          [
           "what is the risk of infection from hair replacement if you are diabetic ?"
          ],
          [
           "the two types of diabetes ?"
          ],
          [
           "can diabetics wear nail polish ?"
          ],
          [
           "why do kids love sugar ?"
          ],
          [
           "where can i find an online menu for diabetics ?"
          ],
          [
           "what is a normal glucose level ?"
          ],
          [
           "what is a good example of a diabetic meal ?"
          ],
          [
           "can eating to much honey cause you to become diabetic ?"
          ],
          [
           "what is the abnormally high concentration of glucose in the blood ?"
          ],
          [
           "where can one find a diabetic cookie recipe book ?"
          ],
          [
           "what are the nursing considerations before doing a random blood sugar test ?"
          ],
          [
           "where should insulin be stored ?"
          ],
          [
           "what should you do if you injected the wrong insulin ?"
          ],
          [
           "how long do people with diabetes live for ?"
          ],
          [
           "what type medicine helps pancres <unk> ?"
          ],
          [
           "what is a good diet for an adult with gestational diabetes ?"
          ],
          [
           "how does insulin help cure diabetes ?"
          ],
          [
           "where can information on `` no sugar '' diets be found ?"
          ],
          [
           "do you get diabetes if you get scared or any other kind of disease ?"
          ],
          [
           "how does <unk> starts in a diabetic patient ?"
          ],
          [
           "what kinds of food can diabetics not eat ?"
          ],
          [
           "can an operation which left bruise and <unk> area in your skin rises your blood sugar ?"
          ],
          [
           "what do people with diabetes suffer from ?"
          ],
          [
           "does diabetes make your brain <unk> ?"
          ],
          [
           "how does diabetes affect the level of glucose in the blood and in body cells ?"
          ],
          [
           "is sugar apple good for diabetics ?"
          ],
          [
           "how much <unk> do you give an adult pregnant patient having a one hour gestational diabetes screen ?"
          ],
          [
           "does the diabetes diet work ?"
          ],
          [
           "where can i find diabetic dessert recipes ?"
          ],
          [
           "how do you treat diabetes ?"
          ],
          [
           "is mango harmful for diabetics ?"
          ],
          [
           "what drug may interfere with the body is ability to regulate its temperature and may cause <unk> ?"
          ],
          [
           "how many people have diabetes in <unk> ?"
          ],
          [
           "diabetes can you still take <unk> <unk> ?"
          ],
          [
           "reduce the adverse effects of diabetes ?"
          ],
          [
           "could not getting enough sun cause diabetes ?"
          ],
          [
           "should someone with diabetes take <unk> ?"
          ],
          [
           "can mental <unk> increase diabetes ?"
          ],
          [
           "what happens if a non diabetic person takes high dose of insulin ?"
          ],
          [
           "what companies offer free diabetic testing supplies ?"
          ],
          [
           "diabetic fruity odor what to do ?"
          ],
          [
           "how many grams of sugar are appropriate per day for the average teen ?"
          ],
          [
           "can a diabetic person eat too many bananas ?"
          ],
          [
           "you are a diabetic can you carry your insulin on board with you ?"
          ],
          [
           "what is the best dry dog food for diabetic dogs ?"
          ],
          [
           "can i find any online cookbooks for diabetics ?"
          ],
          [
           "what is the best way to test diabetics at home ?"
          ],
          [
           "does pot raise your blood sugar ?"
          ],
          [
           "why does the amount of insulin injected need to be controlled ?"
          ],
          [
           "what causes inflammation of organs ?"
          ],
          [
           "is it tomato suitable food for diabetics ?"
          ],
          [
           "does <unk> have diabetes ?"
          ],
          [
           "is blood slightly acidic ?"
          ],
          [
           "what is a normal blood sugar ?"
          ],
          [
           "can a diabetic eat beans ?"
          ],
          [
           "what s d meaning of dis <unk> ' a <unk> friend s a medicine of life ' ?"
          ],
          [
           "which part of the endocrine system regulates blood glucose levels ?"
          ],
          [
           "what is a good diabetes recipe ?"
          ],
          [
           "can a diabetic eat <unk> potatoes ?"
          ],
          [
           "explain the effect on blood sugar levels if insulin receptors stopped working ?"
          ],
          [
           "can you drink sugar free drinks if you have diabetes ?"
          ],
          [
           "what happens if you mix different brands of insulin such as novorapid and lantus ?"
          ],
          [
           "what is a healthy diabetes breakfast option ?"
          ],
          [
           "where can i obtain free list of dessert foods that are ok for diabetics ?"
          ],
          [
           "why do all people do not take insulin periodically so that they do not get diabetes ?"
          ],
          [
           "is it advisable for a person with diabetes and suffering from <unk> to fly on a plane ?"
          ],
          [
           "what are diabetes effects on the body ?"
          ],
          [
           "where can i find more information on diabetes diet plans ?"
          ],
          [
           "how can someone with diabetes cope ?"
          ],
          [
           "what are the <unk> for type two diabetes ?"
          ],
          [
           "how does a diabetic neuropathy treatment affect the body ?"
          ],
          [
           "juveniles diabetes foundation ?"
          ],
          [
           "is there a cure four diabetes ?"
          ],
          [
           "does diabetes cause emotional symptoms ?"
          ],
          [
           "why do the diabetic patients have glucose in their urine ?"
          ],
          [
           "would losing weight be a good thing to do when it comes diabetes ?"
          ],
          [
           "how many times a day should a person with diabetes check there blood sugar levels ?"
          ],
          [
           "what causes a bad taste in your mouth ?"
          ],
          [
           "what are the types of <unk> disorder ?"
          ],
          [
           "is there a connection between blood sugar and mood ?"
          ],
          [
           "what is something sweet that a diabetic can eat ?"
          ],
          [
           "what can be some problems that a female face having a partner with diabetes ?"
          ],
          [
           "what are some signs and symptoms of diabetic ketoacidosis ?"
          ],
          [
           "what are some <unk> nursing diagnosis for diabetes mellitus ?"
          ],
          [
           "when should insulin be taken ?"
          ],
          [
           "is centrum safe for diabetes mellitus type two patients ?"
          ],
          [
           "can too much honey cause a drop in blood sugar level ?"
          ],
          [
           "what are the early symptoms diabetes ?"
          ],
          [
           "what is normal blood sugar in human body ?"
          ],
          [
           "what are the best and effective diet for a diabetic people ?"
          ],
          [
           "what can uncontrolled diabetes lead to ?"
          ],
          [
           "what symptoms do horses have with diabetes ?"
          ],
          [
           "what are some signs of low blood sugar ?"
          ],
          [
           "which organs are affected when you have diabetes type one ?"
          ],
          [
           "what occurs in the body with type ii diabetes ?"
          ],
          [
           "where can i get a diabetic food list ?"
          ],
          [
           "what are the functions of gonads ?"
          ],
          [
           "use diagnosis in a sentence ?"
          ],
          [
           "what are some meals that are safe for people with diabetes ?"
          ],
          [
           "can someone with diabetes have alcohol breath ?"
          ],
          [
           "what type of disease is diabetic nephropathy ?"
          ],
          [
           "is a blood glucose level of four point three normal for a sixteen year old non-diabetic ?"
          ],
          [
           "can taking drugs turn a type two into a type one ?"
          ],
          [
           "where can you find more information about diabetic diets ?"
          ],
          [
           "is insulin like a drug and if diabetes patients take this once then should they take it for lifetime ?"
          ],
          [
           "can children die from diabetes ?"
          ],
          [
           "how is diabetes mellitus diagnosed ?"
          ],
          [
           "what types of treatment exist for type two diabetes ?"
          ],
          [
           "can <unk> happen with diabetes mellitus ?"
          ],
          [
           "what are the symptoms to diabetes insipidus ?"
          ],
          [
           "can a man who has diabetes have children ?"
          ],
          [
           "what are the medications associated with diabetes ?"
          ],
          [
           "what effective diets are there for diabetics ?"
          ],
          [
           "where can i purchase or copy the best menu for nutrition for diabetics ?"
          ],
          [
           "where can i get diabetic neuropathy treatments ?"
          ],
          [
           "what year did pure human insulin first become available for diabetics ?"
          ],
          [
           "following a type two diabetes diet ?"
          ],
          [
           "gestational age ?"
          ],
          [
           "can body twitching be a sign of diabetes ?"
          ],
          [
           "if you get headaches from low blood sugar does that mean you are a diabetic ?"
          ],
          [
           "how do you get diabetes mellitus ?"
          ],
          [
           "how many hours fasting before blood test ?"
          ],
          [
           "diabetes mellitus is a hereditary disease or not ?"
          ],
          [
           "should you see a doctor if you have diabetic neuropathy ?"
          ],
          [
           "what is the treatment for type one diabetes ?"
          ],
          [
           "what is some information on diabetes high blood sugar ?"
          ],
          [
           "is it safe for someone without diabetes to follow a diabetics diet ?"
          ],
          [
           "how long do women with type one diabetes live ?"
          ],
          [
           "if you have diabetes will it affect your children ?"
          ],
          [
           "do strawberries raise blood sugar levels ?"
          ],
          [
           "what diet <unk> diabetes ?"
          ],
          [
           "when you eat sugar does it turns int glucose which turns into fat ?"
          ],
          [
           "how many <unk> are drawn for a three hour glucose tolerance test ?"
          ],
          [
           "can diabetics drink scotch ?"
          ],
          [
           "what could be the symptoms of diabetes ?"
          ],
          [
           "what is the hormone involved in type one diabetes ?"
          ],
          [
           "can a person blood sugar go over two hundred if they are not a diabetic ?"
          ],
          [
           "what is three available treatments for diabetes ?"
          ],
          [
           "what are the diabetes symptoms ?"
          ],
          [
           "what makes a diabetic lower leg turn black ?"
          ],
          [
           "what is the main cause of diabetes ?"
          ],
          [
           "what foods to avoid when borderline diabetic ?"
          ],
          [
           "what are the names of the two types of diabetes ?"
          ],
          [
           "what is a glucometer used for ?"
          ],
          [
           "where can you find information on diabetes nutrition ?"
          ],
          [
           "what foods are on a reputable diabetic diet food list ?"
          ],
          [
           "what is another name for type two diabetes ?"
          ],
          [
           "what is the normal <unk> hormone test results for a <unk> woman ?"
          ],
          [
           "what affects does crack have on diabetics ?"
          ],
          [
           "is diabete hereditary ?"
          ],
          [
           "is mango bad for diabetes ?"
          ],
          [
           "where can one <unk> facts about diabetes ?"
          ],
          [
           "what is a normal blood sugar range for fasting ?"
          ],
          [
           "can a type two diabetic be a merchant marine ?"
          ],
          [
           "does smoking raise blood sugar ?"
          ],
          [
           "normal glucose level in urine ?"
          ],
          [
           "a little bit longer ?"
          ],
          [
           "where should i go when i see symptons related to diabetes ?"
          ],
          [
           "do you like diabetes ?"
          ],
          [
           "what is the suffix for a sugar ?"
          ],
          [
           "a normal fasting glucose level is ?"
          ],
          [
           "what is the target a1c according to the american diabetes association ?"
          ],
          [
           "is there a way to detect a diabetes carrier ?"
          ],
          [
           "how is technology used to diagnose or treat type two diabetes ?"
          ],
          [
           "can a diabetic eat before a physical ?"
          ],
          [
           "is diabetes mellitus an adverse effect ?"
          ],
          [
           "what are the common sources of infection ?"
          ],
          [
           "where can i find more info on free diabetic diet plans ?"
          ],
          [
           "what is the normal blood sugar level reading ?"
          ],
          [
           "can diabetics eat an orange per day ?"
          ],
          [
           "is <unk> <unk> a diabetic ?"
          ],
          [
           "how will associate carpal tunnel syndrome to diabetes mellitus ?"
          ],
          [
           "what can diabetics drink to <unk> <unk> ?"
          ],
          [
           "what lowers the level of glucose in the blood ?"
          ],
          [
           "i am on medication <unk> per day i have been on a diet and my blood sugar levels are still high what is wrong ?"
          ],
          [
           "how to reverse diabetes ?"
          ],
          [
           "what research has been done on <unk> ?"
          ],
          [
           "can diabetic people eat margarine ?"
          ],
          [
           "how does a blood sugar chart look ?"
          ],
          [
           "is diabetes a <unk> ?"
          ],
          [
           "can you get diabetes from to much sugar ?"
          ],
          [
           "what kind of transplant helps diabetics ?"
          ],
          [
           "my big toe is partially numb but it comes and goes is there anything i should be worried about ?"
          ],
          [
           "how many people had diabetes in one thousand , nine hundred and eighty ?"
          ],
          [
           "what is the normal blood sugar range for fasting sugar for non diabetics ?"
          ],
          [
           "how does type two diabetes kill ?"
          ],
          [
           "this chronic disease occurs when a persons body does not produce enough insulin ?"
          ],
          [
           "what is the complications of diabetes mellitus ?"
          ],
          [
           "how is is diabetes genetically transfer ?"
          ],
          [
           "does <unk> has an effect in diabetics ?"
          ],
          [
           "what <unk> jobs can a diabetic get ?"
          ],
          [
           "can <unk> someone cause diabetes ?"
          ],
          [
           "is it dangerous taking the <unk> if you are not diabetes ?"
          ],
          [
           "is glucose edible ?"
          ],
          [
           "why is type ii diabetes considered to be a <unk> form of diabetes ?"
          ],
          [
           "is it illegal and if yes what are the consequences for a mom to sell their minor child is excess diabetic testing supplies to feed the child ?"
          ],
          [
           "insulin contain three . <unk> calculate minimum <unk> weight of insuline ?"
          ],
          [
           "what is a diabetic somogyi phenomenon ?"
          ],
          [
           "how many people have type one diabetes ?"
          ],
          [
           "food for diabetics ?"
          ],
          [
           "you are a diabetic and your blood sugar is three hundred and ninety five should you go to the hospital ?"
          ],
          [
           "any side effects in kissing a diabetic person ?"
          ],
          [
           "is diabetes fatal ?"
          ],
          [
           "do you know anything about diabetes ?"
          ],
          [
           "what types of cereal can diabetics eat without increasing their blood sugar dramatically ?"
          ],
          [
           "can a diabetes person live to seventy year ?"
          ],
          [
           "what cardiac and antihypertensives are contraindicated in people with diabetes ?"
          ],
          [
           "what is a prediabetes diet ?"
          ],
          [
           "do potato chips cause diabetes ?"
          ],
          [
           "can a person who has diabetes eat jack fruit ?"
          ],
          [
           "diabetic meter ?"
          ],
          [
           "insulin and glucagon regulate blood levels of ?"
          ],
          [
           "how to get pregnant by a men with type two diabetes ?"
          ],
          [
           "what are symptoms of hypoglycemia ?"
          ],
          [
           "where can i go to find good , healthy , safe diet and exercise plans for type i diabetics ?"
          ],
          [
           "is diabetes terminal ?"
          ],
          [
           "your dad has diabetes how can he get rid of them forever ?"
          ],
          [
           "why can insulin not be given orally ?"
          ],
          [
           "if blood sugar is five hundred and seventy five what type of insulin ?"
          ],
          [
           "how do you treat a diabetic coma ?"
          ],
          [
           "i have very high blood sugar and i do not eat suger at all are ther and herbal <unk> that lower blood sugar ?"
          ],
          [
           "where can i find information and advice on diabetes nutrition ?"
          ],
          [
           "what medication does a type one diabetic take ?"
          ],
          [
           "are free diabetic blood glucose meters reliable ?"
          ],
          [
           "what is the awareness color for juvenile diabetes ?"
          ],
          [
           "does having high triglycerides effect diabetes ?"
          ],
          [
           "how many carb a diabetic should have ?"
          ],
          [
           "what is juvenile diabetes ?"
          ],
          [
           "what can a nurse in a obstetrician office do when a diabetic twenty one year old over weight insulin dependent patient who does not eat breakfast because of morning sickness ?"
          ],
          [
           "how does diabetes affect your lifestyle ?"
          ],
          [
           "why do you get <unk> were you inject your insulin ?"
          ],
          [
           "where can i purchase recipes for diabetics online ?"
          ],
          [
           "diabetic foot pain ?"
          ],
          [
           "what is the difference between <unk> and two ?"
          ],
          [
           "what is the prevalence of diabetes mellitus in the philippines ?"
          ],
          [
           "where can one purchase socks suitable for diabetics ?"
          ],
          [
           "can diabetics drink <unk> ?"
          ],
          [
           "can type two diabetes be reversed ?"
          ],
          [
           "is a one hundred and twenty one fasting blood sugar reading mean you have diabetes ?"
          ],
          [
           "what hormone produced in inadequate amounts causes excessive diuresis without high blood glucose levels ?"
          ],
          [
           "how many people die from diabetes each year ?"
          ],
          [
           "do you have to accept the <unk> diabetes test ?"
          ],
          [
           "how long will it take a diabetic to heal from some cuts ?"
          ],
          [
           "how serious a disease is diabetes ?"
          ],
          [
           "what are the symptoms of type one and type two diabetes ?"
          ],
          [
           "<unk> type i diabetes mellitus may result in ?"
          ],
          [
           "where can one find information on diabetes ?"
          ],
          [
           "is type two diabetes infectious or noninfectious ?"
          ],
          [
           "are there any tissues that are insulin dependent ?"
          ],
          [
           "diabetic eye problems ?"
          ],
          [
           "is almond good for diabetic ?"
          ],
          [
           "what levels of blood glucose indicates diabetes ?"
          ],
          [
           "can a diabetic own a <unk> ?"
          ],
          [
           "is diabetes hereditary ?"
          ],
          [
           "can diabetics stop using insulin ?"
          ],
          [
           "is one hundred and thirty nine a high sugar reading ?"
          ],
          [
           "where can i get more information about diabetic nutrition ?"
          ],
          [
           "does the pancreas control blood sugar levels ?"
          ],
          [
           "what can cause severe pain in upper right arm near the shoulder area ?"
          ],
          [
           "<unk> . gave me <unk> insulin an my blood sugar has been up every . i have been to the hospital twice . right now my sugar is five hundred and forty six bp <unk> <unk> . it has been like this all week , what can i do to get it <unk> already take <unk> times a day and lantus for lon ?"
          ],
          [
           "what are the nutritious recipes for diabetic people ?"
          ],
          [
           "how much fat and how much sugar daily for a diabetic ?"
          ],
          [
           "what is the life expectancy of someone with terminal colon and liver cancer he is seventy seven years old and had diabetes the dr is told us approx six months he has <unk> that . any <unk> would be helpful . ?"
          ],
          [
           "what is sugar doctor or diabetes doctor ?"
          ],
          [
           "what are the chemicals released by ketosis ?"
          ],
          [
           "will shrimp rise blood sugar ?"
          ],
          [
           "what are some simple diet plans for a diabetic ?"
          ],
          [
           "is nick jonas diabetic ?"
          ],
          [
           "is reading healthy ?"
          ],
          [
           "diabetes is a disorder in which the pancreas produces too little or no ?"
          ],
          [
           "how many carbohydrates should a diebetic have ?"
          ],
          [
           "are <unk> tests done on diabetics ?"
          ],
          [
           "what is hgt used in diabetes mellitus ?"
          ],
          [
           "diet plans for diabetics ?"
          ],
          [
           "can you have hypoglycemia and turn into type two diabetes ?"
          ],
          [
           "is cereal suitable for diabetic patient ?"
          ],
          [
           "genetically engineered insulin advantages and disadvantages ?"
          ],
          [
           "can you use glucose in a recipe that calls for liquid glucose ?"
          ],
          [
           "do you have a list of low purine foods ?"
          ],
          [
           "what types of diabetes are there ?"
          ],
          [
           "managing hypoglycemia through diet ?"
          ],
          [
           "how does seaweed help diabetes ?"
          ],
          [
           "what low blood sugar level will cause a seizure ?"
          ],
          [
           "what are some signs of type one diabetes ?"
          ],
          [
           "what is normal blood sugar rate ?"
          ],
          [
           "how good is noodles for diabetic patient ?"
          ],
          [
           "what makes diabetes a chronic disease ?"
          ],
          [
           "what are some methods for rapid weight loss ?"
          ],
          [
           "can low blood sugars lead to diabetes ?"
          ],
          [
           "is there a cure for diabetes ?"
          ],
          [
           "can a dog develop diabetes ?"
          ],
          [
           "what do burps <unk> in a person with diabetes ?"
          ],
          [
           "what foods affect an increase in sugar level ?"
          ],
          [
           "is honey dew melon and cantaloupe bad for diabetes ?"
          ],
          [
           "can diabetes medicine taken with urine therapy ?"
          ],
          [
           "what are the symptoms of a sugar rush ?"
          ],
          [
           "how can a person acquire diabetes ?"
          ],
          [
           "is <unk> good for type two diabetes ?"
          ],
          [
           "is there any way to detect a carrier of diabetes ?"
          ],
          [
           "do people with diabetes have to take shots ?"
          ],
          [
           "is type one diabetes deadly or is there a cure ?"
          ],
          [
           "what parts of the human body is affected by diabetes ?"
          ],
          [
           "what is the highest blood sugar ?"
          ],
          [
           "can you get type a diabetes by dirty hands ?"
          ],
          [
           "what is the other name for type one and type two diabetes mellitus ?"
          ],
          [
           "where can i find the new diabetic food list ?"
          ],
          [
           "where can i find a diabetic nutrition guide ?"
          ],
          [
           "you are diagnosed with diabetes what should you ?"
          ],
          [
           "how do doctors diagnose diabetes ?"
          ],
          [
           "are men who have type one diabetes infertile ?"
          ],
          [
           "getting the right balance of sugar ?"
          ],
          [
           "how does a high-fiber diet help to treat diabetes and obesity ?"
          ],
          [
           "how do you develop diabetes two ?"
          ],
          [
           "what is the function of fermentation reactions ?"
          ],
          [
           "do diabetes hurt ?"
          ],
          [
           "is type two diabetes noninfectious ?"
          ],
          [
           "what causes green vomit in children who have type one diabetes ?"
          ],
          [
           "why do people have diabetes ?"
          ],
          [
           "why does the incidence of diabetes mellitus increase with age ?"
          ],
          [
           "benefits of <unk> ?"
          ],
          [
           "can be treated by injecting genetically engineered insulin ?"
          ],
          [
           "how does a diabetics body respond to sugar entering the blood ?"
          ],
          [
           "what is the sugar content of the blood of a diabetic ?"
          ],
          [
           "do glucose tablets really work ?"
          ],
          [
           "is <unk> disorder a symptom of diabetes ?"
          ],
          [
           "what are the complications of diabetes ?"
          ],
          [
           "what does the term baseline sugar or sugar baseline mean and how is it determined for a diabetic or just a normal person ?"
          ],
          [
           "is borderline diabetes also known as type two ?"
          ],
          [
           "saving money on testing and diabetes supplies ?"
          ],
          [
           "what are alternative treatments for diabetic foot infections ?"
          ],
          [
           "is there a blood sugar chart based on age ?"
          ],
          [
           "what causes diabetes in human <unk> ?"
          ],
          [
           "is alcohol bad for a pre diabetic ?"
          ],
          [
           "what controls hormone levels ?"
          ],
          [
           "is a diabetic menu safe to feed the whole family not just the diabetic person ?"
          ],
          [
           "what are signs of having diabetes ?"
          ],
          [
           "can i control my diabetes with diet or will i need medication ?"
          ],
          [
           "why should the majority of carbs in a diabetic diet come from starch <unk> sugar ?"
          ],
          [
           "what is the most important step to <unk> control of diabetes ?"
          ],
          [
           "what are some two thousand and ten books on nutrition and weight loss for diabetics ?"
          ],
          [
           "which is worse <unk> or diabetes ?"
          ],
          [
           "what does high fructose corn syrup do to your body ?"
          ],
          [
           "medications for diabetes ?"
          ],
          [
           "what is <unk> diabetes ?"
          ],
          [
           "why you should know about a blood sugar chart ?"
          ],
          [
           "what is the scientific name for type two diabetes ?"
          ],
          [
           "what can cause diabetes ?"
          ],
          [
           "how many people currently have diabetes in <unk> ?"
          ],
          [
           "your blood sugar was recently measured at eight point three are you diabetic ?"
          ],
          [
           "does insulin increase your blood sugar ?"
          ],
          [
           "taking sixty five units a day of insulin how many days will a 100ml vial last this is lantus at <unk> ?"
          ],
          [
           "what or who cured diabetes ?"
          ],
          [
           "which organs does diabetes affect ?"
          ],
          [
           "what does the glucagon do as a hormone and where is it produced ?"
          ],
          [
           "what are some books that feature diabetic desserts ?"
          ],
          [
           "what is diabetes nerve damage ?"
          ],
          [
           "what is considered a normal blood sugar level ?"
          ],
          [
           "what foods should you avoid to prevent diabetes type two ?"
          ],
          [
           "what is the action of <unk> on glucose level ?"
          ],
          [
           "what happens if people who are diabetic eat the wrong foods ?"
          ],
          [
           "how are babies of women with gestational diabetes affected ?"
          ],
          [
           "can you eat a banana if you have gestational diabetes ?"
          ],
          [
           "do diabetics eat more or less sugar ?"
          ],
          [
           "what are blood sugar readings at twenty mean if i have just eaten ?"
          ],
          [
           "how many people die from diabetes each year in canada ?"
          ],
          [
           "what should a physician do to treat insulin shock ?"
          ],
          [
           "can you get your cdl in colorado if your a diabetic ?"
          ],
          [
           "what is the normal average ph of blood ?"
          ],
          [
           "what supplements help with diabetes ?"
          ],
          [
           "how much fruit can a type two diabetic have a day ?"
          ],
          [
           "what causes <unk> head twitching ?"
          ],
          [
           "i am two hundred and thirty lbs and might be getting diabetes and i am scared ?"
          ],
          [
           "what is the best way to control diabetes ?"
          ],
          [
           "how do you know if you are diabetic ?"
          ],
          [
           "what are some good diabetes supplies for adults ?"
          ],
          [
           "is dylan <unk> a diabetic ?"
          ],
          [
           "what is a substance discovered by canadians that <unk> lives of diabetics ?"
          ],
          [
           "can good nutrition prevent diabetes ?"
          ],
          [
           "can high glucose levels result in diabetes ?"
          ],
          [
           "what range of sugar after meal ?"
          ],
          [
           "what region is most likely to get diabetes ?"
          ],
          [
           "what should i know about natural treatments for diabetes ?"
          ],
          [
           "what are some treatment options for type two diabetes ?"
          ],
          [
           "what are some symptoms of having low blood sugar levels ?"
          ],
          [
           "is diabetes mellitus a complication of <unk> ?"
          ],
          [
           "do type two diabetic is take insulin ?"
          ],
          [
           "why would a diabetic person loose their toes ?"
          ],
          [
           "what <unk> are there available in medical field dealing with diabetes ?"
          ],
          [
           "diabetes mellitus is caused by what ?"
          ],
          [
           "how come shiatsu massaging cushion is not recommended for diabetics ?"
          ],
          [
           "what is diabetes management ?"
          ],
          [
           "is frequent urination and dry mouth is the only cause of high blood sugar ?"
          ],
          [
           "diabetic diet plan ?"
          ],
          [
           "who invented the insulin pump ?"
          ],
          [
           "what is the plan or diet for diabetes ?"
          ],
          [
           "what if your <unk> assessment of an unresponsive patient <unk> <unk> point pupils what is your primary field diagnosis ?"
          ],
          [
           "what should my blood sugar level be ?"
          ],
          [
           "diabetics and alcohol consumption ?"
          ],
          [
           "what is a healthy type ii diabetes diet plan ?"
          ],
          [
           "can high blood sugar cause you <unk> ?"
          ],
          [
           "where is the energy stored in glucose ?"
          ],
          [
           "what are the best drinks to lower blood sugar levels ?"
          ],
          [
           "diabetes can be inherited ?"
          ],
          [
           "is diabetes a dominant trait ?"
          ],
          [
           "which websites offer information about how to manage type one diabetes ?"
          ],
          [
           "can <unk> be used in a diabetic cake recipe ?"
          ],
          [
           "do apples regulate blood sugar ?"
          ],
          [
           "my <unk> insulin injections needle pricked your hand will i be affected by h i v ?"
          ],
          [
           "is there a list of <unk> or <unk> words for diabetes ?"
          ],
          [
           "how is diabetic ketoacidosis treated ?"
          ],
          [
           "what does insluin do ?"
          ],
          [
           "are banana good for diabetic ?"
          ],
          [
           "how often should a diabetic eat ?"
          ],
          [
           "<unk> fruit is the cure for diabetes ?"
          ],
          [
           "what are all the names for diabetes type one ?"
          ],
          [
           "why should insulin be refrigerated ?"
          ],
          [
           "are bananas high in sugar ?"
          ],
          [
           "is diabetes an example of hypersecretion hyposecretion or receptor problem ?"
          ],
          [
           "what does a type two diabetic eat on weight watchers ?"
          ],
          [
           "how <unk> to eat banana for a diabetes patient ?"
          ],
          [
           "what are the types of diabetes ?"
          ],
          [
           "what happens if you get insulin in your eye ?"
          ],
          [
           "can type one diabetes ever go away ?"
          ],
          [
           "frequent urination in patients with diabetes eliminates excess ?"
          ],
          [
           "what body systems are affected by <unk> is disease ?"
          ],
          [
           "if your blood sugar reading is two hundred and fifty five is that high ?"
          ],
          [
           "when taking a drug screening can diabetes medicine show up ?"
          ],
          [
           "what are the <unk> <unk> tests for diabetes mellitus two ?"
          ],
          [
           "what are some options for recipes for someone with diabetes ?"
          ],
          [
           "where can i find more information about diabetic food charts ?"
          ],
          [
           "can <unk> be extremely painful or is it always painless ?"
          ],
          [
           "what foods lower blood sugars and help lose weight ?"
          ],
          [
           "which human organ produces insulin ?"
          ],
          [
           "where can one find information concerning a diabetic diet ?"
          ],
          [
           "can you faint if you have diabetes ?"
          ],
          [
           "diabetes supplies ?"
          ],
          [
           "what causes numbness and tingling in the fingers of individuals with untreated <unk> anemia ?"
          ],
          [
           "how do you get a brittle diabetic under control ?"
          ],
          [
           "what food do i need to avoid as a diabetic ?"
          ],
          [
           "what does the number seven mean in diabetics ?"
          ],
          [
           "safe and legal way to travel with insulin injection equipment and <unk> ?"
          ],
          [
           "how long does nph insulin last ?"
          ],
          [
           "are bananas good for diabetics ?"
          ],
          [
           "is it possible for a blood sugar level to be five hundred and seventy and they are fine ?"
          ],
          [
           "what is the <unk> for diabetes ?"
          ],
          [
           "do <unk> raise blood sugar levels ?"
          ],
          [
           "what is a good blood sugar range ?"
          ],
          [
           "is walking effective in diabetic patient ?"
          ],
          [
           "are apples good for diabetic ?"
          ],
          [
           "where can one purchase diabetic supplies from ?"
          ],
          [
           "where can a diabetic find sugar free dessert recipes ?"
          ],
          [
           "how many grams of sugar with diabetes type two ?"
          ],
          [
           "what is the normal range of random blood glucose ?"
          ],
          [
           "why polyuria occurs in <unk> ?"
          ],
          [
           "how can you help managing my diabetes over the years ?"
          ],
          [
           "a substance produced by <unk> bacteria is ?"
          ],
          [
           "what race is most likely to get diabetes ?"
          ],
          [
           "what options are available for those who suffer from diabetic retinopathy ?"
          ],
          [
           "what famous people are on a diabetic diet ?"
          ],
          [
           "is there a cause for <unk> and what causes it ?"
          ],
          [
           "how much sugar will kill you ?"
          ],
          [
           "what causes your hand to fall asleep ?"
          ],
          [
           "what happens when you have to be <unk> for diabetes ?"
          ],
          [
           "how can a doctor be helpful to me to understand food chart ?"
          ],
          [
           "is low or high pressure related to diabetes ?"
          ],
          [
           "how do excess ketones affect a diabetic ?"
          ],
          [
           "how to know if your blood sugar is getting low ?"
          ],
          [
           "what if your blood glucose is six . <unk> should you administer insulin ?"
          ],
          [
           "what is a two bbl carb ?"
          ],
          [
           "people are affected with type two diabetes and are unaware they have the disease ?"
          ],
          [
           "why insulin is used ?"
          ],
          [
           "can you drink <unk> <unk> <unk> if your diabetic ?"
          ],
          [
           "why do diabetics need to monitor their blood sugar levels ?"
          ],
          [
           "whats the symptoms of <unk> diabetes ?"
          ],
          [
           "it is recommended that you consume foods with five grams or more of as it is beneficial for weight control diabetes and even forms of cancer ?"
          ],
          [
           "what system does diabetes effect ?"
          ],
          [
           "what is first organ to respond when glucose rises ?"
          ],
          [
           "is diabetes found more in one ethnicity than another ?"
          ],
          [
           "how is insulin produced in genetic engineering ?"
          ],
          [
           "why diabetic patient prefer to use sheep insulin than human insulin ?"
          ],
          [
           "how can you gain weight if you are a diabetic ?"
          ],
          [
           "why do you have diabetes ?"
          ],
          [
           "is <unk> good for diabetics ?"
          ],
          [
           "can a diabetic drink milk ?"
          ],
          [
           "what diets can diabetics use daily ?"
          ],
          [
           "where can you find some tasty diabetic recipes ?"
          ],
          [
           "safe for people with problems . ?"
          ],
          [
           "is there diabetic beer ?"
          ],
          [
           "what does it mean to have high a1c ?"
          ],
          [
           "what organs do type two diabetes affect ?"
          ],
          [
           "what do you do if your mom is sad or upset ?"
          ],
          [
           "will a patient with type ii diabetes require daily insulin injections on a regular basis ?"
          ],
          [
           "what is normal blood sugar levels in dogs ?"
          ],
          [
           "what recipes are good for type two diabetes ?"
          ],
          [
           "what is know as damage to the retina of the eye caused by diabetes mellitus ?"
          ],
          [
           "does <unk> vitamins raise glucose ?"
          ],
          [
           "explain how genetic engineering can be useful in the treatment of human illnesses such as diabetes ?"
          ],
          [
           "what does not the body process in diabetes ?"
          ],
          [
           "where can i get recipes for a diabetes meal diet that produce tasty results ?"
          ],
          [
           "will there be a cure for diabetes ?"
          ],
          [
           "does eating starch cause diebetes ?"
          ],
          [
           "what food should be avoided by a diabetic persons ?"
          ],
          [
           "diabetes sugar levels ?"
          ],
          [
           "is diabetes a dangerous condition ?"
          ],
          [
           "is diabetes an example of a degenerative disease ?"
          ],
          [
           "what causes diabetic <unk> ?"
          ],
          [
           "what is the normal blood sugar level in human body ?"
          ],
          [
           "how can you tell where sugar enters the body ?"
          ],
          [
           "is it safe to take <unk> if you have diabetes ?"
          ],
          [
           "how does a person is waistline measurement relate to glucose levels ?"
          ],
          [
           "can diabetes be cured by diet and exercise ?"
          ],
          [
           "what type of wine is best for diabetes ?"
          ],
          [
           "is diabetes a noncommunicable disease ?"
          ],
          [
           "diabetic recipes help keep you healthy ?"
          ],
          [
           "is a fasting blood sugar of one hundred and sixteen ?"
          ],
          [
           "common diabetes symptoms ?"
          ],
          [
           "is diabetes caused by drinking alcohol ?"
          ],
          [
           "what <unk> low <unk> in blood ?"
          ],
          [
           "what is the effect of having no insulin in your body ?"
          ],
          [
           "does milk raise blood sugar ?"
          ],
          [
           "how many kids have diabeties ?"
          ],
          [
           "where is a blood sugar levels chart ?"
          ],
          [
           "do type one and two diabetes have to do with blood glucose ?"
          ],
          [
           "is there <unk> for diabetes ?"
          ],
          [
           "is one hundred and sixty blood sugar reading after eating all right ?"
          ],
          [
           "what is diabetic neuropathy ?"
          ],
          [
           "if you lose weight will type two diabetes go away ?"
          ],
          [
           "what are the classifications of being diabetic ?"
          ],
          [
           "is coconut water good for a diabetic person ?"
          ],
          [
           "what organ normally controls the blood sugar level ?"
          ],
          [
           "is ginger ok for diabetics to consume ?"
          ],
          [
           "how can i prevent stroke , and is there a diet i should be taking for it ?"
          ],
          [
           "does mcdonalds cause diabetes for children ?"
          ],
          [
           "where can i find out more about diabetic testing supplies ?"
          ],
          [
           "what is the health benefits of bitter kola nut for diabetics ?"
          ],
          [
           "what research has been done on shiatsu ?"
          ],
          [
           "what are some good recipes for a diabetic <unk> ?"
          ],
          [
           "discovered by frederick banting and charles best what hormone was first used on leonard thompson a <unk> diabetic ?"
          ],
          [
           "which blood test is performed to measure the level of glucose after the patient has not eaten for at least twelve hours ?"
          ],
          [
           "how does type two diabetes affect the <unk> system ?"
          ],
          [
           "are diabetes fatal ?"
          ],
          [
           "can a diabetic eat <unk> ?"
          ],
          [
           "what is the medical term meaning eye disease that is a complication of diabetes mellitus ?"
          ],
          [
           "do bananas raise blood sugar levels ?"
          ],
          [
           "which one of the following lists represents three common review types associated with an <unk> project ?"
          ],
          [
           "what are my resource options for creating a diabetic menu ?"
          ],
          [
           "how do you control high blood sugar during pregnancy ?"
          ],
          [
           "mechanism of insulin zinc <unk> in type one diabetes ?"
          ],
          [
           "what is diabetic honeymoon <unk> ?"
          ],
          [
           "how is diabetes mellitus a risk factor for <unk> ?"
          ],
          [
           "what is a <unk> for diabetes ?"
          ],
          [
           "how long is a liver transplantation patient <unk> ?"
          ],
          [
           "what is diabetes one and two ?"
          ],
          [
           "what are the causes of diabetes miletus ?"
          ],
          [
           "what kind of diabetes did jackie robinson have ?"
          ],
          [
           "does an urinalysis show blood sugar levels ?"
          ],
          [
           "is diabetes mellitus contagious ?"
          ],
          [
           "what are the best foods to eat to lower blood sugar ?"
          ],
          [
           "who was the first person with diabetes ?"
          ],
          [
           "how does wind influence <unk> patterns ?"
          ],
          [
           "is <unk> bad for you ?"
          ],
          [
           "what are signs and symptoms for diabetic coma ?"
          ],
          [
           "how long does diabetes last ?"
          ],
          [
           "is a strict diet needed for a diabetic ?"
          ],
          [
           "how long does it usually take to recover from the effects of a diabetic seizure <unk> of speech <unk> and general concentration ?"
          ],
          [
           "what is the number one cause of diabetes ?"
          ],
          [
           "i has diabetes type1 <unk> to leave the insulin injections and use drug called januvia <unk> co . for type2 because i <unk> had very <unk> in my sleeping lead me to the epilepsy in my sleep ?"
          ],
          [
           "would justin bieber go out with a girl that can <unk> ?"
          ],
          [
           "when does diabetes insipidus occur ?"
          ],
          [
           "how many units of insulin are in zero point five ml of regular u-100 insulin ?"
          ],
          [
           "are there any websites that can help me find diabetic food list ?"
          ],
          [
           "is the number of people worldwide who have diabetes increasing ?"
          ],
          [
           "what side affects for using the <unk> diabetic nerve <unk> ?"
          ],
          [
           "what is the holistic approach to diabetes treatment ?"
          ],
          [
           "why can not use the same lancet twice ?"
          ],
          [
           "why must type i diabetes patients inject insulin ?"
          ],
          [
           "how do you purchase a <unk> real time system ?"
          ],
          [
           "can a diabetic eat almonds ?"
          ],
          [
           "how do you get tested for type three diabetes ?"
          ],
          [
           "what is the normal blood glucose levels ?"
          ],
          [
           "do you get diabetes from eating too much sugar ?"
          ],
          [
           "do <unk> urine states that you a diabetic ?"
          ],
          [
           "what is a diabetes clinical educator ?"
          ],
          [
           "what is a good <unk> for diabetic recipes ?"
          ],
          [
           "what are the danger of diabetes ?"
          ],
          [
           "is there a type four diabetes ?"
          ],
          [
           "where can i find a list of food for a diabetic ?"
          ],
          [
           "where can i purchase or copy the best menu for diabetic people ?"
          ],
          [
           "what are some <unk> and <unk> of diabetes ?"
          ],
          [
           "what is the meaning of insulin resistance ?"
          ],
          [
           "what are some <unk> substances ?"
          ],
          [
           "what <unk> do you need to be a diabetes nurse ?"
          ],
          [
           "what can you eat that will not raise blood sugar ?"
          ],
          [
           "what kind of diet is recommended for diabetics ?"
          ],
          [
           "what type of trial might be used to determine if overweight people can lower their incidence of type ii diabetes by changing their eating habits exercising ?"
          ],
          [
           "what causes diabetes in <unk> animals ?"
          ],
          [
           "how many calories can a diabetic have a day ?"
          ],
          [
           "what are the health benefits of <unk> ?"
          ],
          [
           "are obesity and diabetes national <unk> in the us ?"
          ],
          [
           "how much can a diabetic syringe hold ?"
          ],
          [
           "what <unk> and <unk> of diabetes ?"
          ],
          [
           "which type of diabetes begins in childhood or adolescence ?"
          ],
          [
           "can people with diabetes carry insulin needles on an <unk> ?"
          ],
          [
           "diabetes mellitus is a disease that occurs when the body either can not produce the hormone insulin or produces an insufficient amount of insulin . the disease is caused by a <unk> in the system . ?"
          ],
          [
           "can diabetes make you sick ?"
          ],
          [
           "what are natural treatments for diabetes ?"
          ],
          [
           "where can one get free diabetes testing ?"
          ],
          [
           "managing your health at home ?"
          ],
          [
           "what are some snacks that would be recommended for diabetic people ?"
          ],
          [
           "obesity and diabetes ?"
          ],
          [
           "how is a diagnosis of diabetes mellitus confirmed ?"
          ],
          [
           "how do bacteria help people with diabetes ?"
          ],
          [
           "are there recipes to make diabetic food ?"
          ],
          [
           "what should you eat when your blood sugar is low ?"
          ],
          [
           "one hundred and seventy two pp blood sugar ?"
          ],
          [
           "what are some type two diabetes symptoms ?"
          ],
          [
           "what is the definition of high in fats ?"
          ],
          [
           "what is the most common sign of diabetes ?"
          ],
          [
           "how many diagnosed diabetes patients are not on medication ?"
          ],
          [
           "can <unk> cause women to get cancer ?"
          ],
          [
           "can diabetes be <unk> to you ?"
          ],
          [
           "do glucose polymers raise your blood glucose ?"
          ],
          [
           "what <unk> conditions can arise from a large increase in blood levels of ketone bodies in diabetics ?"
          ],
          [
           "what are normal glucose levels for a healthy person ?"
          ],
          [
           "can a cat be diabetic ?"
          ],
          [
           "can type two diabetes be treated ?"
          ],
          [
           "does having diabetes affect the results of a breathalyzer ?"
          ],
          [
           "what is the normal range of <unk> ?"
          ],
          [
           "where can i find blood glucose level chart ?"
          ],
          [
           "is a insulin pump for diabetics an example of medical advancement ?"
          ],
          [
           "what are the symptoms of hyperglycemia ?"
          ],
          [
           "what <unk> does a person with diabetes type one have ?"
          ],
          [
           "what is the disease process brought about by the hyposecretion of insulin ?"
          ],
          [
           "how much <unk> for diabetic cat ?"
          ],
          [
           "where can i find a recipe for diabetic or sugar-free desserts ?"
          ],
          [
           "can you take magic mushrooms if you have diabetes ?"
          ],
          [
           "how long does it take for fruit to raise blood sugar level ?"
          ],
          [
           "can you be a police officer if you have diabetes ?"
          ],
          [
           "how is insulin resistance prevented ?"
          ],
          [
           "what are the benefits of insulin ?"
          ],
          [
           "what does happen when the body has too little insulin ?"
          ],
          [
           "why does your butt leak ?"
          ],
          [
           "was insulin first used in the treatment of diabetes in one thousand , nine hundred and twenty two one thousand , nine hundred and fifty two or one thousand , nine hundred and eighty two ?"
          ],
          [
           "can <unk> eat sugar ?"
          ],
          [
           "can you eat unsweetened apple <unk> on a diabetic diet ?"
          ],
          [
           "is there new injection to cure diabetic ?"
          ],
          [
           "is eating fresh fruit good for diabetics ?"
          ],
          [
           "what food for supper for the diabetic person ?"
          ],
          [
           "what are the advantages of using bacteria which contain human insulin genes to produce insulin ?"
          ],
          [
           "i am diabetic and need to lose weight any ideas on a weight loss plan that is good for me ?"
          ],
          [
           "what is the most prevalent form of diabetes ?"
          ],
          [
           "can you tell me what amount of blood sugar range is normal ?"
          ],
          [
           "what is one sweetener that is commonly used in diabetic cookie recipes ?"
          ],
          [
           "is diabetes a type of disease ?"
          ],
          [
           "how is diabetes regulated ?"
          ],
          [
           "what is caused by the body is inability to produce or properly use insulin ?"
          ],
          [
           "do diabetes test strips <unk> ?"
          ],
          [
           "does insulin <unk> gluconeogenesis ?"
          ],
          [
           "is coffee good for a diabetic ?"
          ],
          [
           "suger level one hundred and eighty five to high ?"
          ],
          [
           "what the role of liver and pancreas in controlling the blood glucose level ?"
          ],
          [
           "what should my diet be if i have diabetes ?"
          ],
          [
           "what treatment is available for high blood plasma ?"
          ],
          [
           "what is the best book on gourmet diabetic cooking ?"
          ],
          [
           "can type one diabetes be spread from person to person ?"
          ],
          [
           "can you take metformin with insulin ?"
          ],
          [
           "what website will you get nick jonas is personalized diabetes necklace ?"
          ],
          [
           "what is the proper <unk> first aid response to diabetic attack ?"
          ],
          [
           "what experts treat diabetes ?"
          ],
          [
           "does thyroxine increase blood sugar levels ?"
          ],
          [
           "what supplies do i need to test for diabetes ?"
          ],
          [
           "is mutton good for diabetic ?"
          ],
          [
           "is clear urine normal in type two diabetics ?"
          ],
          [
           "can german <unk> get diabetes ?"
          ],
          [
           "different drugs for different control ?"
          ],
          [
           "is one hundred and nine high after fasting ?"
          ],
          [
           "is there any types of infection with diabetes patient to a non diabetes ?"
          ],
          [
           "could gingivitis be transmitted by kissing ?"
          ],
          [
           "what are some problems people with diabetes have ?"
          ],
          [
           "is type one and type two diabetes curable ?"
          ],
          [
           "what should a diabetic is meal plan have ?"
          ],
          [
           "where can i get a cheap a1c calculator ?"
          ],
          [
           "diabetes diets ?"
          ],
          [
           "when insulin is released how does it differ in a diabetic ?"
          ],
          [
           "what are the dietary restrictions for diabetics ?"
          ],
          [
           "what is the purpose of hemoglucotest ?"
          ],
          [
           "which of the following statements about insulin resistance and pre-diabetes is true ?"
          ],
          [
           "will eating ice give you diabetes ?"
          ],
          [
           "what <unk> of foods will not raise blood sugar ?"
          ],
          [
           "when was international journal of diabetes in developing countries created ?"
          ],
          [
           "how many people in the world have diabetes ?"
          ],
          [
           "what are the release dates for a day in the life of a diabetic - two thousand and ten ?"
          ],
          [
           "what are some healthy recipes for the diabetic consumer ?"
          ],
          [
           "which metal is present in insulin ?"
          ],
          [
           "is diabetes a disease or ailment ?"
          ],
          [
           "what are the best foods for a diabetic to eat ?"
          ],
          [
           "natural remedy for diabetes ?"
          ],
          [
           "is one hundred and sixty is normal random blood sugar level ?"
          ],
          [
           "is onion good for diabetic ?"
          ],
          [
           "what is the <unk> <unk> check machine ?"
          ],
          [
           "how much does it cost to purchase from liberty diabetic supplies ?"
          ],
          [
           "what causes lack of insulin in early age for <unk> ?"
          ],
          [
           "who is more likely to develop diabetes ?"
          ],
          [
           "can diabetes be cured without medicines ?"
          ],
          [
           "what and where can i go to get diabetic neuropathy treatment ?"
          ],
          [
           "can type two diabetes be <unk> ?"
          ],
          [
           "why is orange juice recommended when blood sugar is low ?"
          ],
          [
           "what diseases can diabetes cause ?"
          ],
          [
           "can you have sugar with type two diabetes ?"
          ],
          [
           "what are the symptoms of <unk> ?"
          ],
          [
           "where can i purchase diabetic needles ?"
          ],
          [
           "what are some good ideas for diabetic meals ?"
          ],
          [
           "what are some alcoholic beverages or mixed drinks that are safe for type two diabetics ?"
          ],
          [
           "would a type two diabetic be safe to consume a orange ?"
          ],
          [
           "how can you tell where is the sugar removed from the blood ?"
          ],
          [
           "how can bacteria be genetically engineered and used to make human insulin ?"
          ],
          [
           "is eating pizza ok for a diabetic ?"
          ],
          [
           "what type of insulin has the <unk> onset period ?"
          ],
          [
           "is xylitol a sugar ?"
          ],
          [
           "how much sugar is in a potato ?"
          ],
          [
           "what is the hormone responsible for diabetes mellitus ?"
          ],
          [
           "is diabetes prevention helpful ?"
          ],
          [
           "is sixty low for a glucose reading ?"
          ],
          [
           "what is the role of insulin in weight gain ?"
          ],
          [
           "how does the diabetic food chart compare to the basic food chart ?"
          ],
          [
           "where can an older diabetic find a reasonably priced life insurance policy ?"
          ],
          [
           "if old dog with diabetes not treated what happens ?"
          ],
          [
           "how would someone get diabetes ?"
          ],
          [
           "what symptons do you get with diabetes ?"
          ],
          [
           "what are the signs someone might be having a diabetic emergency ?"
          ],
          [
           "can diabetics type two ever have a good pasta dish ?"
          ],
          [
           "in what condition people take glucose ?"
          ],
          [
           "can a diabetic die from injecting too much insulin ?"
          ],
          [
           "if you had no liver what will happen ?"
          ],
          [
           "what is the prognosis for untreated diabetic foot infections ?"
          ],
          [
           "what is pre diabeties ?"
          ],
          [
           "can someone die from diabetes ?"
          ],
          [
           "what is the role of liver and pancreas in controlling the blood glucose level ?"
          ],
          [
           "how common is diabetic retinopathy ?"
          ],
          [
           "where is this energy stored in glucose ?"
          ],
          [
           "how can i get rid of diabetes type one ?"
          ],
          [
           "are <unk> suitable for diabetics ?"
          ],
          [
           "according to the american diabetes association what are the most common symptoms of type one diabetes ?"
          ],
          [
           "diabetes treatment with forever living products ?"
          ],
          [
           "what is the error code <unk> on blood glucose accu-chek aviva meter ?"
          ],
          [
           "when is the best time to test blood glucose levels ?"
          ],
          [
           "how do you know that glucose is a compound ?"
          ],
          [
           "if glucose is administered intravenously to a patient with insulin dependent diabetes mellitus the patient will probably develop ?"
          ],
          [
           "what are ideal blood sugar levels ?"
          ],
          [
           "is there a store dedicated to diabetes supply ?"
          ],
          [
           "in diabetes insulin is administered intravenously explain why this hormone protein can not be taken orally ?"
          ],
          [
           "can a person act drunk or <unk> from low blood sugar ?"
          ],
          [
           "what blood ph might you expect in a person with untreated diabetes ?"
          ],
          [
           "what is the name of a disease when blood sugar levels are above normal ?"
          ],
          [
           "best time to take diabetic pill ?"
          ],
          [
           "what is normal blood sugar for kids ?"
          ],
          [
           "can hypoglycemia lead to diabetes ?"
          ],
          [
           "how much the normal blood sugar of diabetes ?"
          ],
          [
           "what happens if glucose levels get too high ?"
          ],
          [
           "is the <unk> minimed five hundred and eight available in the us ?"
          ],
          [
           "what happens to a baby whose mother has gestational diabetes and does not get it under control ?"
          ],
          [
           "what is diabetics <unk> ?"
          ],
          [
           "how do you convert fifty thousand iu of vitamin d to mg ?"
          ],
          [
           "how is the blood level of of insulin controlled and regulated ?"
          ],
          [
           "what class of drugs stimulates insulin release in the body and is used in type ii diabetes ?"
          ],
          [
           "food to lower high blood <unk> ?"
          ],
          [
           "describe a glucose tolerance test used to diagnose insulin resistance ?"
          ],
          [
           "how do you deliver sugar to an unconscious diabetic ?"
          ],
          [
           "where cna i learn more about diabetes blood sugar level ?"
          ],
          [
           "fasting blood sugar is higher than <unk> after dinner blood sugar ?"
          ],
          [
           "does jason <unk> have diabetes ?"
          ],
          [
           "what should you do if a diabetic has too much sugar ?"
          ],
          [
           "when a liver shuts down how long can a person live without a transplant ?"
          ],
          [
           "where are the <unk> diets to be found to help people with diabetes ?"
          ],
          [
           "can a insulin resistant women conceive ?"
          ],
          [
           "registered nurse needs education on diabetes ?"
          ],
          [
           "what are the nutrition <unk> for people suffering from diabetes ?"
          ],
          [
           "what are the signs of gestational diabetes ?"
          ],
          [
           "what should her blood glucose levels be ?"
          ],
          [
           "gestational diabetes diet ?"
          ],
          [
           "is your blood sugar high if it is one hundred and ninety three right after lunch ?"
          ],
          [
           "why do urban children suffer from diseases like diabetes <unk> ?"
          ],
          [
           "can we keep contact with diabetic person ?"
          ],
          [
           "how recombinant insulin is used to reduce <unk> and <unk> ?"
          ],
          [
           "is yam good for diabetes ?"
          ],
          [
           "how many people does diabetes affect out of one hundred ?"
          ],
          [
           "can you get diabetes by using a needle used by a person with diabetes ?"
          ],
          [
           "does diabetes dehydrate ?"
          ],
          [
           "can using ice gel pain <unk> lower your blood sugar i noticed that it has alcohol in the ingredients ?"
          ],
          [
           "food exchange systems were originally developed for people with ?"
          ],
          [
           "diabetic testing ?"
          ],
          [
           "<unk> mineral that is almost always missing from the diets of diabetics ?"
          ],
          [
           "what percent of people get diabetes ?"
          ],
          [
           "diabetic nutrition ?"
          ],
          [
           "can guys with diabetes get tattoos ?"
          ],
          [
           "how can you control diabetes ?"
          ],
          [
           "how many pacific people have type two diabetes ?"
          ],
          [
           "is it dangerous to have low glucose levels ?"
          ],
          [
           "why is weight loss important for diabetes sufferers ?"
          ],
          [
           "can diabetes insipidus be as dangerous as diabetes mellitus ?"
          ],
          [
           "when is insulin indicated in type two diabetes ?"
          ],
          [
           "when someone dies of a diabetic seizure what do they look like in detail please ?"
          ],
          [
           "can a <unk> <unk> be <unk> <unk> ?"
          ],
          [
           "how do you get type1 diabetes ?"
          ],
          [
           "what is a good blood reading for diabetes ?"
          ],
          [
           "what <unk> does diabetes mellitus affect ?"
          ],
          [
           "can doctor is cure diabetes ?"
          ],
          [
           "how can diabetics control the amount of carbohydrates in their diet ?"
          ],
          [
           "what does insulin do for blood sugar ?"
          ],
          [
           "what are the diabetes symptoms in dogs ?"
          ],
          [
           "what are the causes and symptoms of diabetes mellitus ?"
          ],
          [
           "what behaviors do doctors recommend to avoid type two diabetes ?"
          ],
          [
           "will you die early if you have diabetes ?"
          ],
          [
           "what does gangrene look like ?"
          ],
          [
           "where can one find information on what causes diabetes ?"
          ],
          [
           "is <unk> a form of cancer ?"
          ],
          [
           "what is the effect of sugar alcohol on the body ?"
          ],
          [
           "how did ella <unk> get diabetes ?"
          ],
          [
           "what are the symptoms of diabities ?"
          ],
          [
           "are there any diet recipes for diabetics ?"
          ],
          [
           "what are some natural ways to potentially reverse diabetes ?"
          ],
          [
           "what does a decreasing level of cea in the blood indicate ?"
          ],
          [
           "are dates harmful for a diabetic ?"
          ],
          [
           "a disease that <unk> your <unk> from making o using insulin properly ?"
          ],
          [
           "can a diabetic patient eat boiled rice ?"
          ],
          [
           "do you get diabetes from to much sugar ?"
          ],
          [
           "is a blood glucose level of one hundred and sixty very high ?"
          ],
          [
           "what is a doctor called that studies child growth and diabetes ?"
          ],
          [
           "what can happen if you blood sugar gets to high when you have diabetes ?"
          ],
          [
           "what is the exact word for diabetes in <unk> <unk> ?"
          ],
          [
           "what alcohol drink is good for a diabetic ?"
          ],
          [
           "is salt and pepper good for diabetics ?"
          ],
          [
           "what federal agency helps patients who need to follow a diabetic diet plan ?"
          ],
          [
           "how does the pancreas control blood glucose levels ?"
          ],
          [
           "what are any options for pregnant <unk> so that their kids can not get diabetes ?"
          ],
          [
           "what is the treatment of diabetes ?"
          ],
          [
           "can you eat cream <unk> if you are diabetic ?"
          ],
          [
           "what are diabetes symptoms in young children ?"
          ],
          [
           "why do some diabetics take medications orally ?"
          ],
          [
           "does being tired a lot mean you have diabetes ?"
          ],
          [
           "why is the serum bicarbonate low in ketoacidosis ?"
          ],
          [
           "what can you do about the sensation of burning feet if you are diabetic ?"
          ],
          [
           "what process results in genetically different bacteria ?"
          ],
          [
           "what was the unit of nick is sugar level ?"
          ],
          [
           "does cinnamon spice help control diabetes type two ?"
          ],
          [
           "how do you talk your mom into <unk> you get a diabetes test ?"
          ],
          [
           "what steps can be taken to reduce the risk of blindness ?"
          ],
          [
           "is there a cure for blood diabetes ?"
          ],
          [
           "can diabetes mellitus cause chronic kidney failure ?"
          ],
          [
           "where can you find diet plans ?"
          ],
          [
           "what does hgt stand for in diabetes test ?"
          ],
          [
           "what is the number one killer of children ?"
          ],
          [
           "the insulin is making you gain weight can you stop it your blood sugars are averaging <unk> ?"
          ],
          [
           "what are the release dates for project not me diabetes prevention - two thousand and twelve stay <unk> <unk> ?"
          ],
          [
           "is their a relationship between diabetes and the pancreas ?"
          ],
          [
           "what are the recommended dietary <unk> in diabetes ?"
          ],
          [
           "what can happen to a diabetic man if he takes birth control pills ?"
          ],
          [
           "black olives are they bad for diabetics ?"
          ],
          [
           "how many carbohydrates should a type one diabetic eat each day ?"
          ],
          [
           "is diabetes a <unk> ?"
          ],
          [
           "how can diabetic ketoacidosis be prevented ?"
          ],
          [
           "how many people have diabetes insipidus ?"
          ],
          [
           "can you use <unk> with type two diabetes ?"
          ],
          [
           "what is a fasting blood sugar test ?"
          ],
          [
           "where can i find more information on cereal for diabetics ?"
          ],
          [
           "is weight loss a clinical symptom of type one diabetes ?"
          ],
          [
           "what part of the body make insulin ?"
          ],
          [
           "how long does diabetic diet take to work ?"
          ],
          [
           "when drawing up nph insulin do you shake the bottle or <unk> <unk> the bottle ?"
          ],
          [
           "is one hundred and sixty six a safe glucose level ?"
          ],
          [
           "where can i find a diabetic meals food guide ?"
          ],
          [
           "what do you do if you have diabetes ?"
          ],
          [
           "does sugar raise blood pressure ?"
          ],
          [
           "how is type one diabetes controlled ?"
          ],
          [
           "do protein diets really work for people like me ?"
          ],
          [
           "how do you know if you have type one or type two diabetes ?"
          ],
          [
           "how do you cope with hypertension ?"
          ],
          [
           "what are some of the early symptoms of diabetes ?"
          ],
          [
           "can diabetes be prevented ?"
          ],
          [
           "is type one or type two diabetes more common ?"
          ],
          [
           "what side affects can lantus give you ?"
          ],
          [
           "has any one found a cure for diabetes ?"
          ],
          [
           "why does polydypsia occur with diabetes mellitus ?"
          ],
          [
           "how does diabetes effect the endocrine system ?"
          ],
          [
           "what is the medical term meaning once a day at night ?"
          ],
          [
           "what happens when people are unable to produce enough <unk> ?"
          ],
          [
           "what hormone secreted by the beta cells of the pancreatic islets in response to increased levels of glucose in the blood ?"
          ],
          [
           "free diabetes supplies ?"
          ],
          [
           "what exactly are diabetic supplies ?"
          ],
          [
           "what are some high blood sugar symptoms ?"
          ],
          [
           "does having diabetes affect your life span ?"
          ],
          [
           "what would cause my left arm and fingers to tingle ?"
          ],
          [
           "is it true that diabetic type one men are sterile and if yes is there any help ?"
          ],
          [
           "is the diabetes mellitus inherited ?"
          ],
          [
           "when mixing regular and nph insulin which do you draw up first ?"
          ],
          [
           "can diabetics eat watermelon ?"
          ],
          [
           "how diseases get into your body ?"
          ],
          [
           "can you have diabetes ?"
          ],
          [
           "why are the legs cut when a person has diabetes ?"
          ],
          [
           "types of diabetes the is ?"
          ],
          [
           "what can you eat with a blood sugar in the <unk> sixty eight range ?"
          ],
          [
           "what type of insulin is given to a patient with diabetic ketoacidosis ?"
          ],
          [
           "acceptable fasting blood sugars in elderly should elderly be allowed to have a slightly higher blood glucose in am if on meds ?"
          ],
          [
           "what is a gland not working in a diabetic ?"
          ],
          [
           "people with forms of the disease diabetes can be treated with injections of ?"
          ],
          [
           "what foods are <unk> on a type two diabetes diet plan ?"
          ],
          [
           "what increases blood sugar levels ?"
          ],
          [
           "is exercis <unk> to diabetes ?"
          ],
          [
           "is <unk> good for diabetic ?"
          ],
          [
           "what type of food affect diabetes ?"
          ],
          [
           "what is the percentage of family members of a diabetic who gets the disease ?"
          ],
          [
           "can type two diabetes in the early stages be cured with medications ?"
          ],
          [
           "all patients with diabetes need injection ?"
          ],
          [
           "diabetes meters ?"
          ],
          [
           "what is the letter form in dominant and recessive trait ?"
          ],
          [
           "what exercise regimen will help get rid of a wouldiabetic middle ' ?"
          ],
          [
           "which condition is also known as diabetic ketoacidosis ?"
          ],
          [
           "how does one get started in <unk> and have to check ones blood sugar and asthma ?"
          ],
          [
           "what is most <unk> for maintaining god blood glucose levels for a dibetic patient ?"
          ],
          [
           "how can you bring down high blood sugar ?"
          ],
          [
           "does stress cause high blood pressure ?"
          ],
          [
           "can you get a cdl in colorado if you use insulin ?"
          ],
          [
           "how do you get juvenile diabetes ?"
          ],
          [
           "where can i find more information on diabetes recipes ?"
          ],
          [
           "what happens when a type two diabetic does not take his insulin ?"
          ],
          [
           "what is the relationship between obesity and diabetes ?"
          ],
          [
           "how many people in <unk> have diabetes ?"
          ],
          [
           "where can i find a diabetes meal planner ?"
          ],
          [
           "why diabetics are advised to carry a candy bar ?"
          ],
          [
           "what to do when you have diabetes ?"
          ],
          [
           "is there any cure for gangrene in the stomach ?"
          ],
          [
           "diabetes affects the body is ability to use what ?"
          ],
          [
           "what is the diabetes that is not to bad ?"
          ],
          [
           "what blood sugar range is healthy for an eighteen year old man ?"
          ],
          [
           "is beetroot good for diabetics ?"
          ],
          [
           "is a diabetic diet plan healthy ?"
          ],
          [
           "what kind of pasta a diabetic person should eat ?"
          ],
          [
           "diabetes exercise ?"
          ],
          [
           "are diabetics allergic to bee stings ?"
          ],
          [
           "are there any videos of nick talking about his diabetes ?"
          ],
          [
           "when was the cure for diabetes discovered ?"
          ],
          [
           "who did a <unk> of insulin for diabetes ?"
          ],
          [
           "teens with diabetes can eat sugar sweets and deserts ?"
          ],
          [
           "the glycemic index predicts the way certain foods affect ?"
          ],
          [
           "what is the difference between high blood sugar and diabetes ?"
          ],
          [
           "are there any dangers to a diabetic when it comes to a hot <unk> ?"
          ],
          [
           "what are the signs of being a diabetic ?"
          ],
          [
           "can insulin be administered <unk> ?"
          ],
          [
           "how is human insulin manufactured ?"
          ],
          [
           "is watermelon bad for type two diabetics ?"
          ],
          [
           "how does diabetes contribute to <unk> ?"
          ],
          [
           "can high blood sugar cause cysts ?"
          ],
          [
           "the role of insulin in the human body is to ?"
          ],
          [
           "are there any supplements for diabetes ?"
          ],
          [
           "what complications can diabetes mellitus cause ?"
          ],
          [
           "grandma is coming to visit and my child has chickenpox grandma also is diabetic she was planning on staying with us should she stay elsewhere ?"
          ],
          [
           "is type two diabetes known as insulin dependent diabetes ?"
          ],
          [
           "what do you eat when you have diabetes ?"
          ],
          [
           "how is type one diabetes detected ?"
          ],
          [
           "what is a bone marrow <unk> ?"
          ],
          [
           "what research has been done on <unk> ?"
          ],
          [
           "what is diabetic peripheral neuropathy ?"
          ],
          [
           "testing for diabetes ?"
          ],
          [
           "how is diabetic food different from regular food ?"
          ],
          [
           "what are common causes of diabetes ?"
          ],
          [
           "how many <unk> insulin units are in <unk> ?"
          ],
          [
           "diabetes mellitus is a disorder of what ?"
          ],
          [
           "what diet can you recommend for a diabetic ?"
          ],
          [
           "can you get diabetes from eating too much salt ?"
          ],
          [
           "you are newly diagnosed with type one diabetes your numbers were up to one thousand and fifty and they said your organs were shutting down why ?"
          ],
          [
           "is strawberry good for diabete ?"
          ],
          [
           "finding free diabetic cookbooks ?"
          ],
          [
           "what is the signs and symptoms of diabetes ?"
          ],
          [
           "is insulin available in <unk> ?"
          ],
          [
           "what happens when your blood sugar <unk> five hundred ?"
          ],
          [
           "what is type 1diabetes ?"
          ],
          [
           "are oranges good for diabetic people ?"
          ],
          [
           "is there quite a lot of sugar in bananas ?"
          ],
          [
           "how is type one diabetes be prevented ?"
          ],
          [
           "who are some famous people or people who have made major <unk> to society who suffered from diabetes ?"
          ],
          [
           "is <unk> safe for diabetes patients ?"
          ],
          [
           "how are blood glucose levels controlled ?"
          ],
          [
           "how low can blood sugar go before is causes lost consciousness ?"
          ],
          [
           "what does a glucose monitor measure ?"
          ],
          [
           "diabetes is caused due to malfunctioning of ?"
          ],
          [
           "frequent urination as a diabetes symptom ?"
          ],
          [
           "are there sugar restrictions included on a diabetic diet sheet ?"
          ],
          [
           "does anyone know any diabetic snack recipes ?"
          ],
          [
           "your father is fifty years old and he has been drinking alcohol since twenty three years on regular basis . now a days he is drinking in <unk> he is a heart patient and diabetic kindly help you on this ?"
          ],
          [
           "what will happen to pregnant having increase sugar level in blood ?"
          ],
          [
           "how does diabetes mellitus affect your body ?"
          ],
          [
           "is <unk> is complication of diabetes mellitus ?"
          ],
          [
           "is there a medically approved food list for diabetics ?"
          ],
          [
           "what are healthy fasting blood glucose levels ?"
          ],
          [
           "is nick jonas okay with having diabetes ?"
          ],
          [
           "diabetes is the result of a disturbance in the product of ?"
          ],
          [
           "where do diabetics normally inject insulin ?"
          ],
          [
           "what will you expect to happen if glucose levels in the blood are low ?"
          ],
          [
           "how does insulin relate to diabetes mellitus ?"
          ],
          [
           "the description of diabetes ?"
          ],
          [
           "how are diabetes and obesity related ?"
          ],
          [
           "where can you buy <unk> for diabetes ?"
          ],
          [
           "what happens in there is less secretion of insulin ?"
          ],
          [
           "is ninety seven to one hundred and twenty blood sugar level within normal range for a non diabetic ?"
          ],
          [
           "what is leptin secreted by ?"
          ],
          [
           "is gluten free good for diabetics ?"
          ],
          [
           "what is insulin ?"
          ],
          [
           "what day did nick jonas <unk> his diabetes ?"
          ],
          [
           "when to start treatment for diabetes ?"
          ],
          [
           "low-fat food options are an important consideration for type two diabetes patients ?"
          ],
          [
           "where can i find diabetic meal plans ?"
          ],
          [
           "the average blood sugar over the past three weeks is measured by what test ?"
          ],
          [
           "how works fasting blood sugar ?"
          ],
          [
           "what do diabetic test strips cost ?"
          ],
          [
           "should you use a blood glucose test daily if you have too much insulin ?"
          ],
          [
           "what surgical treatment can be used for diabetes ?"
          ],
          [
           "what is the author is <unk> about type two diabetes ?"
          ],
          [
           "what is the function of <unk> insulin ?"
          ],
          [
           "what is the leading cause of diabetes in america and how can i prevent getting it ?"
          ],
          [
           "how are blood glucose levels tested ?"
          ],
          [
           "can you massage on a diabetic ?"
          ],
          [
           "what should your blood sugar be two hrs after eating for a diabetic ?"
          ],
          [
           "why is it important to diagnose diabetes early ?"
          ],
          [
           "what can you eat while you are diabetic and pregnant ?"
          ],
          [
           "what do you need everyday if you have type one diabetes ?"
          ],
          [
           "why does diabetes affect sport ?"
          ],
          [
           "how long does it take insulin to bring down a type one diabetic ?"
          ],
          [
           "what type of food are diabetics meant to eat ?"
          ],
          [
           "why do diabetics feel hungry all the time ?"
          ],
          [
           "diabetes is a key public health challenge ?"
          ],
          [
           "at what amount are blood glucose levels seen as regular or irregular ?"
          ],
          [
           "is diabetes <unk> ?"
          ],
          [
           "effectiveness of positive communication in the recovery of diabetic patients in <unk> ?"
          ],
          [
           "how many diabetics are there in the uk ?"
          ],
          [
           "how does diabetes insipidus compare with <unk> ?"
          ],
          [
           "how do you use dna technology to help treat diabetes ?"
          ],
          [
           "who should be screened for diabetes ?"
          ],
          [
           "which groups of people are high at becoming diabetic why is this ?"
          ],
          [
           "diabetic deserts ?"
          ],
          [
           "where can you help for diabetes ?"
          ],
          [
           "can <unk> speech be a symptom of diabetes ?"
          ],
          [
           "what is the hormone involved in diabetes ?"
          ],
          [
           "does <unk> <unk> plants good for high blood and diabetic person ?"
          ],
          [
           "what tests are used to diagnose type two diabetes ?"
          ],
          [
           "why a diabetic must take their insulin as an injection ?"
          ],
          [
           "what might be the cause of <unk> weight loss ?"
          ],
          [
           "does the body of a diabetic not produce enough insulin or can not properly use the insulin it does make ?"
          ],
          [
           "what ingredients should be avoided when making diabetic cookie recipes ?"
          ],
          [
           "you are diabetic you have lost weight fast on low glycemic food how can you gain some ?"
          ],
          [
           "can insulin be made from cat urine ?"
          ],
          [
           "when after eating what is normal blood sugar ?"
          ],
          [
           "does high blood sugar affect the memory and brain skills ?"
          ],
          [
           "diet meal plans for people with diabetes ?"
          ],
          [
           "what is diabetic recipe where can i get the recipe ?"
          ],
          [
           "how long can a diabetic live ?"
          ],
          [
           "nick jonas <unk> on diabetes ?"
          ],
          [
           "why does diabetes cause sweet urine ?"
          ],
          [
           "what is normal blood sugar level in known diabetic person ?"
          ],
          [
           "how is the digestive system affected by diabetes ?"
          ],
          [
           "can diabeties kill you ?"
          ],
          [
           "how fast do sleeping pills work ?"
          ],
          [
           "what pancreatic hormone functions to lower blood glucose levels ?"
          ],
          [
           "what is the best natural treatment for adult diabetes ?"
          ],
          [
           "what is two hours after breakfast blood glucose level ?"
          ],
          [
           "what age can you get diabetes ?"
          ],
          [
           "what diet should a diabetic follow ?"
          ],
          [
           "how many people in america are affected with diabetes ?"
          ],
          [
           "how does diabetes look like on your body ?"
          ],
          [
           "how old was nick jonas when he got diabetes ?"
          ],
          [
           "what does a diabetic diet include and exclude ?"
          ],
          [
           "what is the effect of low sugar in the blood ?"
          ],
          [
           "what is <unk> diabetes mellitus ?"
          ],
          [
           "what are some meals for diabetics ?"
          ],
          [
           "can taking cinnamon help your blood glucose levels ?"
          ],
          [
           "can sodas cause diabetes ?"
          ],
          [
           "what should a diabetic avoid to eat ?"
          ],
          [
           "what causes type one diabetes ?"
          ],
          [
           "you have erectile <unk> syndrome from being a type two diabetic will <unk> work on your symptons will it make you have an erect penis ?"
          ],
          [
           "diabetes mellitus is a group of metabolic diseases characterized by hypoglycemia ?"
          ],
          [
           "which hormone is most involved in <unk> <unk> ?"
          ],
          [
           "does smoking cause diabetes two ?"
          ],
          [
           "the <unk> score measures the fitness level of <unk> health of newborns or <unk> sugar level of diabetics ?"
          ],
          [
           "can you loose part of your body by having diabetes ?"
          ],
          [
           "what foods would be known as diabetic foods ?"
          ],
          [
           "explain the health education for diabetic patient ?"
          ],
          [
           "where can i find the best diabetic food ?"
          ],
          [
           "can you take paracetamol if you have diabetes ?"
          ],
          [
           "is it difficult for diabetics to lose weight ?"
          ],
          [
           "what is the best diabetic medication ?"
          ],
          [
           "what foods cause diabetes ?"
          ],
          [
           "what increases blood sugar ?"
          ],
          [
           "what is it like to have diabetes ?"
          ],
          [
           "how is diabetes spread among humans ?"
          ],
          [
           "detecting prediabetes early ?"
          ],
          [
           "what is a good diabetes meal plan ?"
          ],
          [
           "what should your sugar be not diabetic ?"
          ],
          [
           "how is it living with diabetes ?"
          ],
          [
           "what is the doctor in diabetes ?"
          ],
          [
           "what is associated with type one diabetes ?"
          ],
          [
           "why should you not take too much sugar and butter ?"
          ],
          [
           "how many testing strips do diabetics use daily ?"
          ],
          [
           "how much vodka can a diabetic drink ?"
          ],
          [
           "how does the body respond to a increase in the blood sugar concentration ?"
          ],
          [
           "can a diabetic eat apple ?"
          ],
          [
           "how is corn affect in diabetic ?"
          ],
          [
           "what is the best diet for a diabetic ?"
          ],
          [
           "what are some of the symptoms for diabetes mellitus ?"
          ],
          [
           "what is the peak time when administering regular insulin and nph insulin ?"
          ],
          [
           "is pure cane sugar cause diabetes ?"
          ],
          [
           "what happens when a person suffers from excessive thirst and urination and his urine contains excess glucose ?"
          ],
          [
           "name of drugs used in retinopathy ?"
          ],
          [
           "can diabetics get nose rings ?"
          ],
          [
           "can a person suddenly acquire diabetes ?"
          ],
          [
           "is diabetes an illness ?"
          ],
          [
           "what type of substance is insulin ?"
          ],
          [
           "if your mother and father have diabetes then will you get diabetes ?"
          ],
          [
           "what vitamins are recommended for a diabetic ?"
          ],
          [
           "can diabetes medicine cause drowsiness ?"
          ],
          [
           "what is <unk> ?"
          ],
          [
           "the ph of blood is usually maintained at about ?"
          ],
          [
           "can a diabetic do a <unk> tattoo ?"
          ],
          [
           "what organ under the stomach produces insulin and enzymes ?"
          ],
          [
           "how can you become a diabetes educator ?"
          ],
          [
           "what is a good cookie recipe for diabetics ?"
          ],
          [
           "diabetes type one and type two ?"
          ],
          [
           "what does frequent blood sugar levels over one hundred and sixty after eating mean ?"
          ],
          [
           "can you stop sugar diabetes when you are a kid ?"
          ],
          [
           "does ingestion of glucose raise blood sugar faster than sucrose ?"
          ],
          [
           "can giving insulin to someone who is hypoglycemic cause them to go into a coma ?"
          ],
          [
           "why do you smell <unk> after you <unk> ?"
          ],
          [
           "which health problem is associated with the development of type two diabetes ?"
          ],
          [
           "can your body <unk> if you have diabetes ?"
          ],
          [
           "can diabetics drink decaf coffee ?"
          ],
          [
           "what diabetic menu is considered the best ?"
          ],
          [
           "how do you know if your dessert recipe is good for diabetics ?"
          ],
          [
           "is it bad if a twelve year old girl is always hungry ?"
          ],
          [
           "does the <unk> vaccine affect blood sugars of diabetics ?"
          ],
          [
           "can <unk> workers have diabetes ?"
          ],
          [
           "can diabetics have sugar alcohol ?"
          ],
          [
           "what causes lack of fresh water ?"
          ],
          [
           "how are eyes affected by diabetes mellitus ?"
          ],
          [
           "what is the relation between diabetes and hair fall ?"
          ],
          [
           "can you be <unk> from diabetes ?"
          ],
          [
           "what alternative treatments can help <unk> the symptoms of diabetes ?"
          ],
          [
           "what kind of doctor specializes in diabetes ?"
          ],
          [
           "what two parts of the body are affected by alcohol ?"
          ],
          [
           "what possible problems can result from poor food choices when you have diabetes ?"
          ],
          [
           "how common is the disorder of diabetes ?"
          ],
          [
           "what is a <unk> for pedicure ?"
          ],
          [
           "how could i tell if my <unk> has got diabetes ?"
          ],
          [
           "how do you know if it is a type one or type2 diabetes ?"
          ],
          [
           "what can be the outcome of edema ?"
          ],
          [
           "how is diabetes <unk> ?"
          ],
          [
           "what are the normal ranges of blood glucose for <unk> and fasting samples ?"
          ],
          [
           "what organ is unable to take up glucose in diabetes mellitus ?"
          ],
          [
           "what is antiseptic paste ?"
          ],
          [
           "how is wheat grass therapy taken ?"
          ],
          [
           "diabetes levels ?"
          ],
          [
           "do your bones grow as you get older ?"
          ],
          [
           "what deserts are recommended for diabetics ?"
          ],
          [
           "your big toes are numb and <unk> on the outside tip ?"
          ],
          [
           "can insulin be given iv ?"
          ],
          [
           "what is the cause of diabetic neuropathy ?"
          ],
          [
           "how is diabetic ketoacidosis diagnosed ?"
          ],
          [
           "who did nick jonas give his diabetes necklace to ?"
          ],
          [
           "when blood sugar levels rise what is secreted ?"
          ],
          [
           "where can i find list of diabetic eating guidelines ?"
          ],
          [
           "what causes the acetone breath seen in type one diabetes ?"
          ],
          [
           "how do you perform <unk> glucose test ?"
          ],
          [
           "what is the purpose of checking diabetes sugar levels ?"
          ],
          [
           "what blood sugar levels are normal ?"
          ],
          [
           "i think i have diabetes , what are clues ?"
          ],
          [
           "how does high blood sugar levels affect <unk> between the cells and the blood ?"
          ],
          [
           "what diseases are caused from lack of calcium in your diet ?"
          ],
          [
           "what signs and symptoms are possible indicators of diabetes mellitus ?"
          ],
          [
           "can a thin person be diabetic ?"
          ],
          [
           "what part of the human digestive system produces insulin to control sugar in the blood ?"
          ],
          [
           "what is the test for feline diabetes diagnosis ?"
          ],
          [
           "can you drink regularly <unk> with cinnamon for diabetic two ?"
          ],
          [
           "what are average blood sugar numbers ?"
          ],
          [
           "<unk> . <unk> , i <unk> ?"
          ],
          [
           "is the <unk> diet safe for diabetics ?"
          ],
          [
           "what is the normal glucose levels of a teenager ?"
          ],
          [
           "is juvenile diabetes o genetic disorder ?"
          ],
          [
           "what are the different <unk> a type one diabetes person has ?"
          ],
          [
           "where can i find diabetic diet plans ?"
          ],
          [
           "what is the difference between antibiotics and <unk> ?"
          ],
          [
           "why do people do <unk> ?"
          ],
          [
           "can a person act drunk from high blood sugar ?"
          ],
          [
           "why did you get diabetes ?"
          ],
          [
           "blood sugar is five point six in morning ?"
          ],
          [
           "what are the different types of insulin currently available for diabetes patients ?"
          ],
          [
           "can constipation cause a rise in blood sugar ?"
          ],
          [
           "do nick jonas have diabete ?"
          ],
          [
           "is <unk> good for diabetes ?"
          ],
          [
           "what cereals are recommended for diabetics ?"
          ],
          [
           "why does your arm ache after sleeping ?"
          ],
          [
           "what is insulin is functions ?"
          ],
          [
           "is an a1c of six point six high in a diabetic ?"
          ],
          [
           "where can i find restaurants with diabetic menus ?"
          ],
          [
           "what are the <unk> of high insulin ?"
          ],
          [
           "information about diabetes ?"
          ],
          [
           "what could cause twitching in you thumb and head ?"
          ],
          [
           "is organic red rice good for diabetic patient ?"
          ],
          [
           "your father is diabetic since eighteen yrs since last one month he has developed swelling in <unk> <unk> <unk> of pain at insertion of muscles in hand <unk> ?"
          ],
          [
           "what types of medication are currently available for diabetes ?"
          ],
          [
           "can diabetic take <unk> ?"
          ],
          [
           "what is insulin an example of ?"
          ],
          [
           "how do you test your blood sugar levels ?"
          ],
          [
           "what naturally causes your blood sugar levels to increase ?"
          ],
          [
           "what is normal range for oral glucose challenge test ?"
          ],
          [
           "what is the <unk> blood reading for a diabetic ?"
          ],
          [
           "how many people have diabetes in the united states ?"
          ],
          [
           "what is a normal blood sugar range for a diabetic ?"
          ],
          [
           "what does diabetes do in the body ?"
          ],
          [
           "what are some of the best diabetic recipes suitable for diabetic patients ?"
          ],
          [
           "what are side effect of insulin resistant ?"
          ],
          [
           "what can you do to restore normal color to a black leg from diabetes ?"
          ],
          [
           "does <unk> raise or lower blood sugar blood <unk> concentration ?"
          ],
          [
           "is there a blood sugar chart for comparing blood sugar values ?"
          ],
          [
           "can you get type one diabetes at twenty four years old ?"
          ],
          [
           "thirty unit of forty iu insulin is equal to how much unit of one hundred iu insulin ?"
          ],
          [
           "does joint pain occurs because of diabetes ?"
          ],
          [
           "what are the top causes of diabetes high blood sugar ?"
          ],
          [
           "what are uncommon symptoms of diabetes ?"
          ],
          [
           "what type of food is good for people with diabetes to eat ?"
          ],
          [
           "list out the food for diabetic patient ?"
          ],
          [
           "what foods should diabetes avoid besides sugar ?"
          ],
          [
           "what causes red blood cells count to decrease ?"
          ],
          [
           "how often can you take <unk> <unk> <unk> ?"
          ],
          [
           "what medical conditions can lead to diabetes ?"
          ],
          [
           "what does two hundred and ninety seven as a blood sugar means ?"
          ],
          [
           "is hypertension a risk factor of diabetes ?"
          ],
          [
           "what controls the sugar metabolism ?"
          ],
          [
           "what two hormones in the human body control blood sugar levels ?"
          ],
          [
           "how is diabetes spread from person to person ?"
          ],
          [
           "does diabetes go away ?"
          ],
          [
           "creating a healthy diabetic food list ?"
          ],
          [
           "the trouble with weight ?"
          ],
          [
           "what acts antagonistically to insulin ?"
          ],
          [
           "how clean does your <unk> need to be before you can join the air force ?"
          ],
          [
           "which type of diabetes is due to a deficiency in the secretion of antidiuretic hormone ?"
          ],
          [
           "what is involved in the treatment of diabetes ?"
          ],
          [
           "in the one thousand , nine hundred and twenty <unk> physician <unk> <unk> treated drug addiction by <unk> inducing comas through <unk> of what <unk> drug ?"
          ],
          [
           "fruits are ideal diabetic dessert ?"
          ],
          [
           "what can diabetics eat for breakfast ?"
          ],
          [
           "what does a count of twenty five thousand of white blood cells indicate ?"
          ],
          [
           "when is worlds diabetes day celebrated ?"
          ],
          [
           "what is the importance of exercise in diabetes ?"
          ],
          [
           "what term describes an abnormally high concentration of glucose in the blood ?"
          ],
          [
           "how common is diabetes in the us ?"
          ],
          [
           "what type of diabetes is the most common ?"
          ],
          [
           "what disease is associated with blood sugar ?"
          ],
          [
           "what is the medical term meaning accumulation of ketone bodies in the blood results of the condition diabetes mellitus ?"
          ],
          [
           "is fruit good for diabetics ?"
          ],
          [
           "how can you die from diabetes ?"
          ],
          [
           "what is the disease that results from lack of insulin ?"
          ],
          [
           "what hormone increases blood sugar levels ?"
          ],
          [
           "why can mammals get diabetes ?"
          ],
          [
           "what tests may be done when diabetic neuropathy is <unk> ?"
          ],
          [
           "<unk> blood sugar levels effect weight loss ?"
          ],
          [
           "what are the symptoms for diabetes type one ?"
          ],
          [
           "where can i find diabetes supplements online ?"
          ],
          [
           "does beetroot affect diabetes ?"
          ],
          [
           "what causes teeth gum and tongue numbness especially while doing resistance training ?"
          ],
          [
           "should a person with diabetes type one smoke cigarettes ?"
          ],
          [
           "what is an omnipod ?"
          ],
          [
           "what foods are appropriate for a diabetic ?"
          ],
          [
           "how long will you live with type two diabetes ?"
          ],
          [
           "what are typical ingredients in healthy easy recipes for diabetics ?"
          ],
          [
           "why would someone have diabetic neuropathy ?"
          ],
          [
           "is diabetes curable ?"
          ],
          [
           "where can one find information on a cure for diabetes ?"
          ],
          [
           "what is the normal blood glucose range ?"
          ],
          [
           "what is the use for an insulin syringe ?"
          ],
          [
           "if using a insulin syringe instead of tb <unk> much tb solution should be drawn up ?"
          ],
          [
           "have no money need insulin bad medicaid wont cover it ?"
          ],
          [
           "what controllable risk factors do type one diabetes ?"
          ],
          [
           "how high is high for a diabete ?"
          ],
          [
           "why do diabetics inject insulin into the skin and not directly into the bloodstream ?"
          ],
          [
           "does type two diabetes cause insulin deficiency or insulin resistance ?"
          ],
          [
           "diabetic supplies online ?"
          ],
          [
           "what is type one diabetes also called ?"
          ],
          [
           "where can i find information about diabetic ketoacidosis ?"
          ],
          [
           "are tomatoes good for diabetes ?"
          ],
          [
           "did nick jonas consider leaving the jonas brothers when he found out that he had diabetes ?"
          ],
          [
           "what foods are included in diabetes food chart ?"
          ],
          [
           "what is level two diabetes ?"
          ],
          [
           "what is relationship of diabetes and <unk> ?"
          ],
          [
           "what are the normal sugar levels ?"
          ],
          [
           "is finger <unk> helpful for diabetics ?"
          ],
          [
           "what fruit can you eat with type two diabetes ?"
          ],
          [
           "it is not too late ! ?"
          ],
          [
           "should people who have diabetes eat corn ?"
          ],
          [
           "can mental illness be as clearly defined as a physical illness such as diabetes ?"
          ],
          [
           "are contour blood test strips <unk> the same as <unk> ?"
          ],
          [
           "what molecule is produced in the liver during <unk> or type one diabetes ?"
          ],
          [
           "is diabetic patent used honey in warm milk ?"
          ],
          [
           "type two diabetes is known as ?"
          ],
          [
           "does insulin have to be taken daily ?"
          ],
          [
           "is london dry gin good for a diabetic ?"
          ],
          [
           "is diabetes a sex-linked abnormality ?"
          ],
          [
           "is god diabetic ?"
          ],
          [
           "scientific name for diabetes ?"
          ],
          [
           "how do you reduce the effects of diabetes from your body ?"
          ],
          [
           "does having one hundred and forty <unk> mean you are diabetic after a fasting test and can a <unk> injection ten hours prior to the test influence the results ?"
          ],
          [
           "diagnosis of diabetes ?"
          ],
          [
           "why must diabetics use their fingertips to test their blood sugar ?"
          ],
          [
           "are you born with type two diabetes ?"
          ],
          [
           "are my <unk> ages nine and four at risk for juvenile diabetes since the youngest sleeps a lot and rarely is active and they both have diets limited to fatty high carb fried foods ?"
          ],
          [
           "what medications are available orally for diabetes ?"
          ],
          [
           "do you let a diabetic person having a seizure <unk> ?"
          ],
          [
           "what are the foods that can cause diabetes ?"
          ],
          [
           "what will happen to a person if they stop taking insulin suddenly ?"
          ],
          [
           "you are a diabetic patient and your age is thirty nine can you conceive or any possibility to become pregnant ?"
          ],
          [
           "what might be the cause of rapid weight loss ?"
          ],
          [
           "is diabetes mellitus a congenital abnormality ?"
          ],
          [
           "what kind of juice is good for a diabetic ?"
          ],
          [
           "diabetes medication ?"
          ],
          [
           "what <unk> have diabetes ?"
          ],
          [
           "what can you do to help with low blood sugar ?"
          ],
          [
           "type ii diabetes ?"
          ],
          [
           "diabetic foods to eat low fat , good carbs ?"
          ],
          [
           "what dessert recipes are safe for diabetics ?"
          ],
          [
           "what would increase insulin secretion in type ii diabetes ?"
          ],
          [
           "is it safe to have an operation on your foot if you have diabetes ?"
          ],
          [
           "where might i find <unk> for a diabetic diet which use foods that can be prepared easily at home ?"
          ],
          [
           "what kind of diet do i need to follow if i am borderline diabetic ?"
          ],
          [
           "why is that you some time feel real weak and your blood sugar is low but when you get tested for blood sugar problem they find nothing ?"
          ],
          [
           "do you have to change your diet to take slim fast ?"
          ],
          [
           "how do sugar affect your memory ?"
          ],
          [
           "what is the relationship between cholesterol and heart disease ?"
          ],
          [
           "in which <unk> episode does <unk> discover his diabetes ?"
          ],
          [
           "being a diabetic is it possible to inject insulin in your <unk> and get a sufficient effect from it ?"
          ],
          [
           "insulin is released into the blood when ?"
          ],
          [
           "which is the most reliable blood sugar test for a diabetic ?"
          ],
          [
           "what are the common diabetes symptoms ?"
          ],
          [
           "do is and do <unk> to prevent spread of communicable diseases ?"
          ],
          [
           "can you get a tattoo when your diabetic ?"
          ],
          [
           "how diabetes are caused ?"
          ],
          [
           "who discovered the treatment for type one diabetes ?"
          ],
          [
           "diabetes mellitus in <unk> ?"
          ],
          [
           "will <unk> cause diabetes ?"
          ],
          [
           "is one hundred and forty bad blood sugar reading in morning ?"
          ],
          [
           "what is fluid and electrolyte balance and how is it maintained ?"
          ],
          [
           "does insulin raise blood sugar ?"
          ],
          [
           "fasting sugar range is one hundred and twenty four and post lunch is one hundred and ninety ?"
          ],
          [
           "can you bring your blood sugar down instantly with <unk> at home ?"
          ],
          [
           "why are drinking water levels often so low ?"
          ],
          [
           "what would be a good diabetic meal plan for me to follow ?"
          ],
          [
           "what are some recipes for sweets other than diabetic cakes ?"
          ],
          [
           "how many people have type two diabetes in the world ?"
          ],
          [
           "what types of foods can diabetics eat ?"
          ],
          [
           "what is diabetes <unk> ?"
          ],
          [
           "what is a blood sugar crash ?"
          ],
          [
           "the production of too much insulin is typical of ?"
          ],
          [
           "why is diabetes called diabetes mellitus ?"
          ],
          [
           "what are the best food habits for eating with diabetes ?"
          ],
          [
           "is honey good for diabetic person ?"
          ],
          [
           "looking for advice about a a new dietary regiment of breakfast . ?"
          ],
          [
           "can dogs get diabetes ?"
          ],
          [
           "if a girl weighs one hundred and thirty pound and is a ten year old <unk> grader but her family has a history of over weight family member you are really scared you do not want to be diabetic but i cant <unk> <unk> ?"
          ],
          [
           "did laura ingalls wilder have diabetes ?"
          ],
          [
           "how are diabetic foot infections diagnosed ?"
          ],
          [
           "why is insulin released into the bloodstream ?"
          ],
          [
           "does having diabetes affect the results of a blood alcohol test ?"
          ],
          [
           "what are the most common glucose levels ?"
          ],
          [
           "can the <unk> in a <unk> pool raise blood sugar in a diabetic person ?"
          ],
          [
           "how man people in america have diabetes ?"
          ],
          [
           "is diabetes capitalized in a sentence ?"
          ],
          [
           "does exercise help lower your blood sugar level ?"
          ],
          [
           "what does a diabetic grocery list composed of ?"
          ],
          [
           "is the cause of diabetes environmental or hereditary ?"
          ],
          [
           "can fast food add diabetes symptoms to a persons health ?"
          ],
          [
           "what is the root word of diabetes ?"
          ],
          [
           "what would happen if blood sugar levels of a diabetic who failed to inject insulin ?"
          ],
          [
           "what is the life cycle of glucose ?"
          ],
          [
           "how often do i need to check my glucose level if i have been diagnosed with diabetes ?"
          ],
          [
           "where can i buy a blood sugar levels chart ?"
          ],
          [
           "can people with diabetes eat dark chocolate ?"
          ],
          [
           "eating carbs with type two diabetes ?"
          ],
          [
           "how long does insulin last in your <unk> ?"
          ],
          [
           "what <unk> pathology is caused by diabetes ?"
          ],
          [
           "diabetes guidelines ?"
          ],
          [
           "can talking give you diabetes ?"
          ],
          [
           "what are the symptoms of type one diabetes ?"
          ],
          [
           "<unk> easy explain how glucagon and insulin work together to maintain a relatively constant blood sugar level ?"
          ],
          [
           "what can cause changes to blood sugar ?"
          ],
          [
           "does <unk> food cause diabetes ?"
          ],
          [
           "is blood sugar of one hundred and twelve high ?"
          ],
          [
           "what do you do if you get diabetes ?"
          ],
          [
           "does exercise help lowering sugar levels in type one diabetes ?"
          ],
          [
           "what is the best bread for type two diabetes ?"
          ],
          [
           "how do blood glucose meters work ?"
          ],
          [
           "what is the reason why you draw first regular insulin before the nph insulin ?"
          ],
          [
           "what is in the blood of untreated diabetes ?"
          ],
          [
           "if a person is not diabetic why would he have ketones in the urine ?"
          ],
          [
           "what is an example of a person with type two diabetes who can tolerate a lot of carbohydrates ?"
          ],
          [
           "if you have a six month old baby - had gestational diabetes with that pregnancy - and just found out that you are pregnant again is it safe to stay pregnant ?"
          ],
          [
           "does watermelon increase blood sugar ?"
          ],
          [
           "how you can diagnosis diabete ?"
          ],
          [
           "what is the <unk> for insulin ?"
          ],
          [
           "can you drink with diabetes ?"
          ],
          [
           "are doctors who have specialized in nephrology currently in high <unk> ?"
          ],
          [
           "explain the cause of diabetes and how its controlled ?"
          ],
          [
           "what are the two types of diabetes mellitus ?"
          ],
          [
           "how do you cure diabetes type one ?"
          ],
          [
           "can diabetics drink <unk> ?"
          ],
          [
           "could you get diabetes from grapes ?"
          ],
          [
           "why diabetes is more prevalent in men than women ?"
          ],
          [
           "is three hundred and seven considered a normal rate for your blood sugar ?"
          ],
          [
           "how do diet and exercise help reverse diabetes ?"
          ],
          [
           "does diabetes cause loss of <unk> in dogs ?"
          ],
          [
           "what organs malfunction causes diabetes ?"
          ],
          [
           "can a diabetic safely get a tattoo on leg ?"
          ],
          [
           "is diabetes type two infectious ?"
          ],
          [
           "how does insulin controls blood sugar levels ?"
          ],
          [
           "what is the scientific name for the bacteria that causes diabetes ?"
          ],
          [
           "when mixing insulin do you put the air in the cloudy or the clear first ?"
          ],
          [
           "how do you gain weight with diabetes ?"
          ],
          [
           "what is the normal <unk> of glucose in 100ml of blood ?"
          ],
          [
           "what is a common drug used to treat a non insulin dependent diabetes ?"
          ],
          [
           "where to find diabetes food lists ?"
          ],
          [
           "is it possible to reverse diabetes ?"
          ],
          [
           "does lactulose raise your blood sugar ?"
          ],
          [
           "where could one find information on diabetic medical supplies ?"
          ],
          [
           "can diabetics have fruits ?"
          ],
          [
           "did a scientist get paid to stop research on diabetes ?"
          ],
          [
           "can diabetic take date ?"
          ],
          [
           "what is the best medicine for diabetes ?"
          ],
          [
           "can diabetics eat chocolate ?"
          ],
          [
           "how does diabetes affect a person ?"
          ],
          [
           "what would happen if you had no liver ?"
          ],
          [
           "when eating six meals a day does it take a while for your body to adjust and is it normal to feel like your blood sugar drops even quicker between meals ?"
          ],
          [
           "what is <unk> ?"
          ],
          [
           "who does <unk> <unk> like ?"
          ],
          [
           "is diabetes a genetic factor ?"
          ],
          [
           "what tests results indicate cystitis ?"
          ],
          [
           "what can cure low blood sugar ?"
          ],
          [
           "is there a cure for hypoglycemia ?"
          ],
          [
           "can phenylalanine cause diabetes ?"
          ],
          [
           "what are two symptoms of diabetes mellitus ?"
          ],
          [
           "diabetes recipes on the web ?"
          ],
          [
           "healthy tips for diabetes ?"
          ],
          [
           "who founded that insulin is in your body ?"
          ],
          [
           "what are glucose tablets ?"
          ],
          [
           "what happens if you smoke and have diabetes ?"
          ],
          [
           "what are some safe dessert <unk> when following a diabetic diet ?"
          ],
          [
           "what does the lack of insulin affect ?"
          ],
          [
           "what is a good diet and exercise plan to avoid getting diabetes ?"
          ],
          [
           "what type <unk> do you have when your blood sugar is high ?"
          ],
          [
           "would nick jonas write to a little seven year old boy that just got type one diabetes and is a huge fan ?"
          ],
          [
           "what research has been done on the <unk> diet ?"
          ],
          [
           "is it just irritation down there if i feel like i have go the bathroom quite a bit and doctor says i have no infection or probably do not have diabetes ?"
          ],
          [
           "what is the normal blood sugar level ?"
          ],
          [
           "do you know any info about hemoglobin a1c test ?"
          ],
          [
           "the advantages of a diabetic diet plan ?"
          ],
          [
           "how is diabetes treated through <unk> healing ?"
          ],
          [
           "can you get your tongue pierced if you are a type one diabetic ?"
          ],
          [
           "best food to eat when blood sugar gets low ?"
          ],
          [
           "what is the scientific name for diabetes ?"
          ],
          [
           "can you help a three hundred and eight pound type ii diabetic to lose weight ?"
          ],
          [
           "how does diabetes affect a1c levels ?"
          ],
          [
           "can people with diabetes make hemoglobin to control their blood sugar ?"
          ],
          [
           "how can <unk> smoking affect the sugar level of a diabetic person ?"
          ],
          [
           "is there more risk to take the <unk> virus having type one diabetes ?"
          ],
          [
           "who was the first to discover diabetes ?"
          ],
          [
           "where can i find out more about diabetic diet menu ?"
          ],
          [
           "what do you have to watch what you are doing with diabetes ?"
          ],
          [
           "is type two diabetes curable ?"
          ],
          [
           "how does type one diabetes affect your lifestyle ?"
          ],
          [
           "diabetes affects the bodys ability to do what ?"
          ],
          [
           "is eating peanut butter and graham <unk> a good snack for a type one diabetic ?"
          ],
          [
           "what does it mean when your a1c level is eleven point two ?"
          ],
          [
           "is dibetes a disease ?"
          ],
          [
           "what is the role of the diet and exercise in the controlling of hypertension and diabetes ?"
          ],
          [
           "is type one diabetes curable ?"
          ],
          [
           "how is type one diabetes mellitus similar to starvation ?"
          ],
          [
           "why is it important for a type one diabetic to regulate insulin meals and exercise ?"
          ],
          [
           "how does a diabetic log book helps a type one diabeties patient ?"
          ],
          [
           "you been hearing a lot about cures for diabetes type two does any one know something that really works ?"
          ],
          [
           "what is worse to have during pregnancy <unk> or having diabetes ?"
          ],
          [
           "can type ii diabetes turn into type i diabetes ?"
          ],
          [
           "where can i find the diabetic food guide ?"
          ],
          [
           "how does diabetes affect the endocrine system ?"
          ],
          [
           "do you have to have a prescription to purchase blood glucose testing strips ?"
          ],
          [
           "what are the most common pre diabetes symptoms ?"
          ],
          [
           "does pre diabetes hurt me how do i treat its symptoms does treating it hurt me at all ?"
          ],
          [
           "does late dinner cause of diabetes ?"
          ],
          [
           "what causes low <unk> in the blood ?"
          ],
          [
           "how you can control diabetes ?"
          ],
          [
           "what is a simple dinner recipe that would work with a diabetic menu plan ?"
          ],
          [
           "what are the specific medications given to diabetics ?"
          ],
          [
           "high concentration of glucose in the blood ?"
          ],
          [
           "where can i find more information on diabetes treatments ?"
          ],
          [
           "could diabetes be a mental illness you are born with or can developed do to extreme depression or <unk> <unk> and anger ?"
          ],
          [
           "what is a normal blood glucose level ?"
          ],
          [
           "which type of diabetes is insulin-dependent ?"
          ],
          [
           "can you give a <unk> in a diabetic patient ?"
          ],
          [
           "how does blood transport glucose to the cells ?"
          ],
          [
           "how can you contract diabetes ?"
          ],
          [
           "why drink fluids when you are sick ?"
          ],
          [
           "how does type two diabetes affect the nervous system ?"
          ],
          [
           "home medical care : treating diabetes ?"
          ],
          [
           "what are some signs and symptoms of diabetes in children ?"
          ],
          [
           "insulin-dependent diabetics depend upon what microorganisms ?"
          ],
          [
           "in what secondary ways can alcohol affect your blood sugar level ?"
          ],
          [
           "what are effects of metronidazole when you are diabetic ?"
          ],
          [
           "why does eating slowly prevents type two diabetes ?"
          ],
          [
           "can diabetic patient drink sugarcane juice ?"
          ],
          [
           "how long is the life span for people with diabetes ?"
          ],
          [
           "what causes a constant itch on your right side that you constantly have to rub ?"
          ],
          [
           "where can i find information on a diabetic food plan ?"
          ],
          [
           "have many people died because of diabetes ?"
          ],
          [
           "does diabetes show in drug tests ?"
          ],
          [
           "do they check for diabetes when they do a cbc ?"
          ],
          [
           "what is an acceptable blood sugar range after eating for a diabetic person ?"
          ],
          [
           "can you be <unk> for diabetics ?"
          ],
          [
           "how much sugar can a diabetic <unk> ?"
          ],
          [
           "what is lantus ?"
          ],
          [
           "who invented insulin for diabetes ?"
          ],
          [
           "do diabetics need more sleep than normal people ?"
          ],
          [
           "have nervous system problems for the past seven years and a diabetic patient . find difficult to write with steady hand . please tell the remedy ?"
          ],
          [
           "does diabetes patient can eat <unk> ?"
          ],
          [
           "what is the type two diabetes ?"
          ],
          [
           "what should you do if you are diabetic and have a fever and why ?"
          ],
          [
           "what type of exercise do you need to do for diabetes ?"
          ],
          [
           "can you take tylenol pm if you are diabetic ?"
          ],
          [
           "can you prevent type one diabetes ?"
          ],
          [
           "how do you check blood sugar levels ?"
          ],
          [
           "is stress linked to type ll diabetes ?"
          ],
          [
           "treatment for diabetic retinopathy ?"
          ],
          [
           "tests to find diseases in the human body ?"
          ],
          [
           "can someone taking pills for diabetes use urine therapy ?"
          ],
          [
           "what would you say about a1c range ?"
          ],
          [
           "how is a person is daily life affected by diabetes ?"
          ],
          [
           "how many people died because of diabetes before insulin was discovered ?"
          ],
          [
           "does diabetes effect the immune system ?"
          ],
          [
           "what is the treatment for type one diabetes ?"
          ],
          [
           "what is the best way to treat diabetis ?"
          ],
          [
           "what is the best diet for diabetics ?"
          ],
          [
           "what is the best diet for diabates ?"
          ],
          [
           "where does your body is nature insulin come from ?"
          ],
          [
           "what happens if your blood glucose level increases ?"
          ],
          [
           "is diabetes transferable by kissing ?"
          ],
          [
           "what are <unk> treatments for insulin resistance ?"
          ],
          [
           "what liquor is best for diabetes ?"
          ],
          [
           "what is precision <unk> glucose meter <unk> ?"
          ],
          [
           "how many days can you <unk> your papaya from fruit set ?"
          ],
          [
           "how is diabetes spreads among human ?"
          ],
          [
           "where can you find a list of foods that diabetics should never eat ?"
          ],
          [
           "what is the molecular basis of type one diabetes ?"
          ],
          [
           "natural cure for diabetes ?"
          ],
          [
           "what diets are there for people with diabetes ?"
          ],
          [
           "where can i find more information on diabetes diet for <unk> ?"
          ],
          [
           "can diabetes cause organ shut down ?"
          ],
          [
           "what are some things i can do to prevent diabetes ?"
          ],
          [
           "what illness would be indicated by weight loss and low sodium levels in the blood ?"
          ],
          [
           "do regular insulin same with actrapid insulin ?"
          ],
          [
           "what treatments are available for the pain caused by diabetic neuropathy ?"
          ],
          [
           "if you know your blood sugar is low how do you know if you are a diabetic ?"
          ],
          [
           "can you be a <unk> if you have type one diabetes ?"
          ],
          [
           "where can we find more information on a vegetarian diet for a diabetic ?"
          ],
          [
           "insulin can be orally administered to diabetic people or not ?"
          ],
          [
           "how long does it take to get rid of diabetes ?"
          ],
          [
           "how blood sugar level is controlled when there is not enough glucose in the body ?"
          ],
          [
           "where online can i find blood sugar level table ?"
          ],
          [
           "what are the natural remedies for diabetes ?"
          ],
          [
           "is it safe for diabetics to wear compression <unk> ?"
          ],
          [
           "my cat has diabetes and has lost a lot of muscle from his legs and can not walk ?"
          ],
          [
           "use of paneer booti in <unk> ?"
          ],
          [
           "what causes diabetes type one ?"
          ],
          [
           "damage to the retina of the eye caused by diabetes mellitus is known as diabetic what ?"
          ],
          [
           "does running decrease blood sugar levels in a human body ?"
          ],
          [
           "how can bacteria be used to help people that are diabetic ?"
          ],
          [
           "is <unk> root good for diabetics ?"
          ],
          [
           "meal planning for diabetics ?"
          ],
          [
           "the pharmacological effects of administering insulin to a hyperglycemic patient is an example of increased ?"
          ],
          [
           "how does <unk> lead to hyperglycemia ?"
          ],
          [
           "can glucometers go through <unk> screening ?"
          ],
          [
           "what is a good tasting diabetic drink ?"
          ],
          [
           "what are the exercises for diabetics ?"
          ],
          [
           "what parts of the body are affected by diabetes ?"
          ],
          [
           "how do you stop someone who you really care about that has anger management problems ?"
          ],
          [
           "how does someone obtain type one diabetes ?"
          ],
          [
           "will taking <unk> the night before getting a series of fasting blood tests for b12 deficiency and lyme disease and diabetes and cholesterol affect the outcome of these tests ?"
          ],
          [
           "where can i find some great recipes for diabetics ?"
          ],
          [
           "are there adverse affects from <unk> <unk> with diabetes ?"
          ],
          [
           "what measures can be taken to <unk> starvation in the world ?"
          ],
          [
           "why does a diabetic person fell cold ?"
          ],
          [
           "three types of <unk> ?"
          ],
          [
           "what type of diabetes is it if it runs in the family ?"
          ],
          [
           "how can we control the levels of high sugar in a diabetic person or patient ?"
          ],
          [
           "diabetic food chart ?"
          ],
          [
           "what are some good ideas for diabetic foods ?"
          ],
          [
           "what if you took insluin but was not a diabetic ?"
          ],
          [
           "what is the healthy normal blood sugar range for a person who is predisposed to diabetes ?"
          ],
          [
           "what are the side effects not taking diabetes medication ?"
          ],
          [
           "how do you know if your <unk> is diabetic ?"
          ],
          [
           "why are keytones dangerous for diabetics ?"
          ],
          [
           "what are the normal results of a fasting blood sugar test ?"
          ],
          [
           "are there <unk> companies for diabetic meals in <unk> ?"
          ],
          [
           "how much pasta should a diabetic eat ?"
          ],
          [
           "how severe is nick jonas is diabetes ?"
          ],
          [
           "how can you deal with diabetes ?"
          ],
          [
           "where in the body is diabetes found ?"
          ],
          [
           "does your diabetes medication prevent you from getting pregnant ?"
          ],
          [
           "causes of frequent urination ?"
          ],
          [
           "how many diabetics are there in the world ?"
          ],
          [
           "monitor your blood sugar ?"
          ],
          [
           "what two factors influence blood glucose concentration ?"
          ],
          [
           "where can i buy a diabetic pump ?"
          ],
          [
           "how much sugar does your body really need ?"
          ],
          [
           "where can one find information on the best diabetic desserts ?"
          ],
          [
           "what hormones inhibit insulin ?"
          ],
          [
           "why does obesity cause diabetes ?"
          ],
          [
           "what is a disease in which the body does not produce or properly use insulin ?"
          ],
          [
           "is it bad to eat noodles when you have diabetes ?"
          ],
          [
           "which country or state has the lowest heart <unk> type two diabetes and cancer overall health risks ?"
          ],
          [
           "is glucose related to diabetes ?"
          ],
          [
           "how do you know if your blood sugar is low ?"
          ],
          [
           "what happens to health if someone sleeps right after eating an orange ?"
          ],
          [
           "why would a person with ketoacidosis have the following heavy breathing polydipsia and tachycardia ?"
          ],
          [
           "what is the prognosis for patients with diabetic ketoacidosis ?"
          ],
          [
           "how many carbs for a diabetic per day ?"
          ],
          [
           "many diabetics are now using insulin that was made by certain bacteria the ability of these bacteria to produce insulin was most likely the result of ?"
          ],
          [
           "what should your blood sugar be thirty min after eating ?"
          ],
          [
           "which member of the jonas brother band has diabetes ?"
          ],
          [
           "how does one keep diabetes in check ?"
          ],
          [
           "how can you control your diabetes ?"
          ],
          [
           "what is one important dietary step to help treat type two diabetes mellitus ?"
          ],
          [
           "can a diabetic drink alcohol ?"
          ],
          [
           "where do you get insulin from ?"
          ],
          [
           "what are treatments for high glucose levels ?"
          ],
          [
           "what is the daily intake of cholesterol for diabetic patient ?"
          ],
          [
           "will insulin kill if injected into vein ?"
          ],
          [
           "what are types of diabetes ?"
          ],
          [
           "where can i find a blood sugar levels chart online ?"
          ],
          [
           "what organs are involved in diabetes ?"
          ],
          [
           "how many sugars should a diabetic have at one meal ?"
          ],
          [
           "what does <unk> and classification mean ?"
          ],
          [
           "what is the anesthesia code for <unk> for a depressed <unk> <unk> simple <unk> for a patient with mild diabetes well controlled ?"
          ],
          [
           "is it okay to swallow semen if you have diabetes ?"
          ],
          [
           "what is the effect of sugar on <unk> ?"
          ],
          [
           "does age affect your blood sugar ?"
          ],
          [
           "what is the abbreviation for postprandial blood sugar ?"
          ],
          [
           "what is the normal range in a blood <unk> test ?"
          ],
          [
           "are there any natural herbs that can cure diabetes ?"
          ],
          [
           "what is diabetes ?"
          ],
          [
           "how do you maintain good blood sugar levels throughout the day ?"
          ],
          [
           "do <unk> affect diabetes ?"
          ],
          [
           "does glycosuria not occur in diabetes insipidus ?"
          ],
          [
           "what are the symptoms of high or low blood sugar ?"
          ],
          [
           "could diabetes spread ?"
          ],
          [
           "what is a bone marrow ?"
          ],
          [
           "what are the medicine for diabetic person ?"
          ],
          [
           "do diabetes sufferers develop a short temper ?"
          ],
          [
           "does an std increase the risk of type two diabetes ?"
          ],
          [
           "what are some signs and symptoms for diabetes ?"
          ],
          [
           "how is insulin resistance diagnosed ?"
          ],
          [
           "what increases blood calcium levels ?"
          ],
          [
           "is diabetes type two something to be worried about ?"
          ],
          [
           "are sweeteners bad for diabetics ?"
          ],
          [
           "which finding on a urinalysis is commonly due to diabetes ?"
          ],
          [
           "what is an example of a good diabetic breakfast ?"
          ],
          [
           "can frequent urination be a sign of diabetes ?"
          ],
          [
           "what s type three diabetes ?"
          ],
          [
           "can a diabetic get <unk> ?"
          ],
          [
           "how does the first stage of diabetes affect second stage of diabetes ?"
          ],
          [
           "what are the preparation of different types of insulin ?"
          ],
          [
           "does high sugar cause kidney problems ?"
          ],
          [
           "what is regular insulin made of ?"
          ],
          [
           "what are the symptoms of type two diabetes ?"
          ],
          [
           "what causes a diabetic to have frequent urination ?"
          ],
          [
           "what are common ways to lower blood sugar spikes ?"
          ],
          [
           "explain the are the three types of diabetes ?"
          ],
          [
           "what was the diagnosis for the black death ?"
          ],
          [
           "is it safe for diabetics to work out alone ?"
          ],
          [
           "is there insulin pills are available ?"
          ],
          [
           "what are <unk> ?"
          ],
          [
           "why glucose essential nutrient ?"
          ],
          [
           "where is help if you are obese ?"
          ],
          [
           "what are the latest nutrition guides for diabetics ?"
          ],
          [
           "what is the best food for diabetic cats ?"
          ],
          [
           "does nick like having diabetes ?"
          ],
          [
           "what is insulin made by ?"
          ],
          [
           "diabetic food ?"
          ],
          [
           "what is the highest level for blood sugar test for a dot physical ?"
          ],
          [
           "a feature of ketosis is that it ?"
          ],
          [
           "which fruit diabetic patients can eat <unk> ?"
          ],
          [
           "how do you explain calorie counting to diabetic clients ?"
          ],
          [
           "why are my <unk> sore and growing at thirty years ?"
          ],
          [
           "where can one find blood sugar levels charts ?"
          ],
          [
           "how do you give yourself type one diabetes ?"
          ],
          [
           "is there such thing as a diabetic cookie recipe ?"
          ],
          [
           "is there anyway to reduce the effects of type two diabetes symptoms ?"
          ],
          [
           "how many grams of sugar are recommended per day for type two diabetics ?"
          ],
          [
           "where can you get a type two diabetes plan ?"
          ],
          [
           "what measures can be taken to prevent diabetes in adults ?"
          ],
          [
           "what does a diabetes blood test for ?"
          ],
          [
           "is there a surgery for type two diabetes to temporarily stop the need of insulin ?"
          ],
          [
           "do you have to take medication for diabetes ?"
          ],
          [
           "does <unk> raise blood sugars ?"
          ],
          [
           "as a diabetic on metformin , what number should i consider high enough to seek a hospital ?"
          ],
          [
           "can diabetes go away ?"
          ],
          [
           "do you know where to find diabetes recipes ?"
          ],
          [
           "what are the differences between different types of diabetes testing equipment ?"
          ],
          [
           "can diabetic foot problems be treated pain free ?"
          ],
          [
           "how does insulin bring sugar down to normal levels after a meal ?"
          ],
          [
           "what does a type one diabetic eat on weight watchers ?"
          ],
          [
           "what does human insulin do ?"
          ],
          [
           "a healthy diet can control type two diabetes ?"
          ],
          [
           "what consists of a diabetic retinopathy treatment ?"
          ],
          [
           "what branch of science that deals with diabetes ?"
          ],
          [
           "how much white rice can you eat if you are diabetic ?"
          ],
          [
           "what causes the pacreas to stop making or producing insulin ?"
          ],
          [
           "is diabetes one curable ?"
          ],
          [
           "what is low levels of glucose in the blood called ?"
          ],
          [
           "which organs can be affected by diabetes ?"
          ],
          [
           "how long can a <unk> with type one diabetes live till ?"
          ],
          [
           "does hear heartbeat in ear have to do with blood sugar level ?"
          ],
          [
           "what is the most known reason for the cause of diabetes ?"
          ],
          [
           "how can i get good information on avoiding the onset of diabetes ?"
          ],
          [
           "i have extra large red blood cells and need a bone marrow <unk> what can be causing this and why do i need a bone marrow <unk> ?"
          ],
          [
           "how do you know if diabetes is an organism ?"
          ],
          [
           "what does a stable or increasing level of cea in the blood indicate ?"
          ],
          [
           "explain why diabetes is classified as a noninfectious disease ?"
          ],
          [
           "what are the causes of gestational diabetes ?"
          ],
          [
           "will having a family history of diabetes <unk> a person <unk> a career as a pilot in the major commercial <unk> industry ?"
          ],
          [
           "can people with type one diabetes use herbalife ?"
          ],
          [
           "does type two diabetes cause severe itching in the groin area ?"
          ],
          [
           "what type of diabetes can be managed and disappear if you <unk> a healthy diet ?"
          ],
          [
           "what should you do when you have high sugar level ?"
          ],
          [
           "what is paneer booti ?"
          ],
          [
           "is <unk> your toes a symptom of diabetes ?"
          ],
          [
           "how do genes play <unk> in getting diabetes ?"
          ],
          [
           "how do you <unk> tiredness with diabetes ?"
          ],
          [
           "where can i find more information diabetic meals ?"
          ],
          [
           "potassium levels in the body are regulated by what ?"
          ],
          [
           "what will happen if you stop taking insulin ?"
          ],
          [
           "what are the symptoms of diabetes type one ?"
          ],
          [
           "is diabetes a <unk> ?"
          ],
          [
           "how does the body absorb glucose ?"
          ],
          [
           "what is the function of <unk> ?"
          ],
          [
           "what is the effect of alcohol on diabetes type two ?"
          ],
          [
           "what snacks are good for diabetics ?"
          ],
          [
           "what is the normal number for blood sugar ?"
          ],
          [
           "can eating too much fruit cause diabetes ?"
          ],
          [
           "what does the american diabetes association do ?"
          ],
          [
           "what year did jay cutler get diabetes ?"
          ],
          [
           "can you take tylenol if your diabetic ?"
          ],
          [
           "do a head injury cause diabetes ?"
          ],
          [
           "which type of diabetes mellitus is an insulin resistance disorder gestational type one or type two ?"
          ],
          [
           "what will happen to someone with type one diabetes if they go too long without an insulin shot ?"
          ],
          [
           "what are some diet and exercise tips for diabetic men that do not like to exercise and love to eat unhealthy foods ?"
          ],
          [
           "what are the goals of diabetes treatment ?"
          ],
          [
           "losing weight for health reasons ?"
          ],
          [
           "what is daily carb allowed for diabetic ?"
          ],
          [
           "what is the effect of alcohol on blood glucose level ?"
          ],
          [
           "is hyper acidity natural to diabetic ?"
          ],
          [
           "does type two diabetes mellitus have autoimmune destruction of beta cells in pancreas ?"
          ],
          [
           "an <unk> <unk> at the unit and <unk> that he was burned in a cooking accident last night as you assess the burn what indicates the burn is <unk> ?"
          ],
          [
           "can diabetic people have carrots ?"
          ],
          [
           "what type is the genetic disorder of the diabetes ?"
          ],
          [
           "where does insulin travel in the body ?"
          ],
          [
           "who does diabetes affect the most ?"
          ],
          [
           "i need some new <unk> for a new diet can you give me the best diet plans ?"
          ],
          [
           "what is a normal blood sugar range for a healthy adult ?"
          ],
          [
           "is ther any way to find more information about diabetes and diet ?"
          ],
          [
           "can people with diabetes eat proteins ?"
          ],
          [
           "where can you get information on living with diabetes ?"
          ],
          [
           "is one hundred and twelve glucose high ?"
          ],
          [
           "how many people die from diabetic complications of hypoglycemia ?"
          ],
          [
           "what type of hereditary condition is <unk> <unk> ?"
          ],
          [
           "what can one do with a medtronic insulin pump ?"
          ],
          [
           "<unk> makes insulin because ?"
          ],
          [
           "who discovered diabeties ?"
          ],
          [
           "is insulin the hormone that raises blood sugar levels ?"
          ],
          [
           "explain why there is too little sugar in the blood if the person exercises more than usual ?"
          ],
          [
           "do people with diabetes have high blood glucose levels ?"
          ],
          [
           "what effect do high triglycerides have on long term health of a person ?"
          ],
          [
           "does sugar give you diabetes ?"
          ],
          [
           "what is a sample diet for a diabetic ?"
          ],
          [
           "when was insulin first produced from bacteria ?"
          ],
          [
           "is <unk> juice good for diabetics ?"
          ],
          [
           "how would i know if i was diabetic ?"
          ],
          [
           "what is the best restaurant chain for a diabetic ?"
          ],
          [
           "does alcohol affect blood sugar levels ?"
          ],
          [
           "if your <unk> had diabetes can you ?"
          ],
          [
           "what are the insulin indication ?"
          ],
          [
           "what are the benefits of pregnancy <unk> ?"
          ],
          [
           "what can you do at home for your cat that you think has diabetes ?"
          ],
          [
           "does sex have an affect on blood sugar in a person with type two diabetes will it cause it to elevate ?"
          ],
          [
           "how many carbs should a diabetic woman have per day ?"
          ],
          [
           "is diabetes real ?"
          ],
          [
           "what is a good test to see if you have diabetes ?"
          ],
          [
           "prevention measure of diabetes ?"
          ],
          [
           "who made the human body ?"
          ],
          [
           "what disease occurs when the islets of langerhans fails to produce enough insulin ?"
          ],
          [
           "what kind of foods do diabetics need in their diets ?"
          ],
          [
           "what foods should a diabetic eat ?"
          ],
          [
           "is diet control an effective treatment of diabetes ?"
          ],
          [
           "when blood glucose levels are high ?"
          ],
          [
           "can a person with diabetes help control it by lifestyle changes ?"
          ],
          [
           "where can i find a diabetic diet chart ?"
          ],
          [
           "how can you tell the difference between a drunk and a diabetic ?"
          ],
          [
           "what are some examples of a diabetic meal plan ?"
          ],
          [
           "why <unk> patients feel hunger ?"
          ],
          [
           "what is <unk> ?"
          ],
          [
           "is <unk> your tongue a dominant or recessive trait ?"
          ],
          [
           "which sugar is found in greater than normal amounts in the blood of a diabetic ?"
          ],
          [
           "what measurement is used to measure blood sugar levels ?"
          ],
          [
           "where can you find <unk> for diabetes ?"
          ],
          [
           "will eating dates increase blood sugar ?"
          ],
          [
           "what exactly is diabetic food ?"
          ],
          [
           "what does ada stand for ?"
          ],
          [
           "what are common type two diabetes symptoms ?"
          ],
          [
           "why is pus in penis . could this be due to diabetes ?"
          ],
          [
           "how do diabetics monitor their blood sugar level ?"
          ],
          [
           "what are three types of diabetes ?"
          ],
          [
           "is urinating a lot a sign of diabetes ?"
          ],
          [
           "blood sugar level is one hundred to two hundred after eatting a meal . is two hundred to high ?"
          ],
          [
           "a scientist makes an educated guess that diabetes is caused by genetic factors his guess is an example of an ?"
          ],
          [
           "how can i get diabetes ?"
          ],
          [
           "how do you calculate triglyceride level ?"
          ],
          [
           "what does a <unk> management plan look like ?"
          ],
          [
           "causes of <unk> point pupils ?"
          ],
          [
           "what the best diet for type two diabetes ?"
          ],
          [
           "what is a good treatment for diabetes ?"
          ],
          [
           "does type one diabetes produce insulin ?"
          ],
          [
           "how much insulin should you take if blood sugar is two hundred and forty one ?"
          ],
          [
           "why are children developing diabetes ?"
          ],
          [
           "what precautions should an individual take when they are diagnosed as being pre-diabetic ?"
          ],
          [
           "why does the signs and symptoms of diabetes appear together ?"
          ],
          [
           "how are diabetes contracted ?"
          ],
          [
           "what is the allowable sugar intake a day for a diabetic ?"
          ],
          [
           "how can a doctor determine the type of diabetes one may have just from a sample of blood ?"
          ],
          [
           "your <unk> rate is thirty six what does this mean ?"
          ],
          [
           "what do people with type two diabetes have to eat for dinner ?"
          ],
          [
           "does soda cause diabetes ?"
          ],
          [
           "what are some general rules for a diet diabetic ?"
          ],
          [
           "what can one use to help gout pain in hand ?"
          ],
          [
           "can diabetes be transferred sexually ?"
          ],
          [
           "finding free diabetic recipes ?"
          ],
          [
           "how do you know you have got a <unk> on someone ?"
          ],
          [
           "where can i find a good diet plan for diabetics ?"
          ],
          [
           "is glucagon a protein ?"
          ],
          [
           "diabetes mellitus is a disorder of ?"
          ],
          [
           "how do you reduce <unk> and <unk> by recombinant insulin ?"
          ],
          [
           "which two hormones control your blood sugar levels ?"
          ],
          [
           "can you buy diabetic cookbooks in bookstores or do you have to send for them ?"
          ],
          [
           "is wine high in sugar ?"
          ],
          [
           "if you start a continuous infusion of one hundred and fifty units of insulin in <unk> of normal saline solution if the prescribed dose is eight insulin units per hour what is the flow rate in ml per hour ?"
          ],
          [
           "are diabetes mellitus and diabetes the same ?"
          ],
          [
           "what parts of the human body is effected by diabetes type one ?"
          ],
          [
           "is diabetes severe than a stroke ?"
          ],
          [
           "what are some side effects of standard diabetes medicine ?"
          ],
          [
           "can a diabetic eat apples ?"
          ],
          [
           "does gin and tonic affect blood sugar levels ?"
          ],
          [
           "how do you reverse diabetes ?"
          ],
          [
           "how does diabetes travel ?"
          ],
          [
           "how does a type one diabetic become insulin resistance ?"
          ],
          [
           "what is the normal glucose level in a six year old ?"
          ],
          [
           "what disease has the symptoms of obesity diabetes facial hair growth on female <unk> thin fine hair on head <unk> fluid retention and i had to have an <unk> <unk> replacement surgery ?"
          ],
          [
           "what are the effect of diabetes has on the kidney ?"
          ],
          [
           "how do you keep your diabetes under control ?"
          ],
          [
           "is guava a good fruit for diabetes ?"
          ],
          [
           "where can i find a glucose level chart online ?"
          ],
          [
           "how do you treat or cure diabetes ?"
          ],
          [
           "what are the basic symptoms of high blood sugar ?"
          ],
          [
           "-- -- <unk> the most appropriate <unk> to represent data on blood glucose level of one hundred patient ?"
          ],
          [
           "are women who are type one diabetics allowed to <unk> children ?"
          ],
          [
           "what is a normal level of triglycerides and what are the implications of having abnormal levels ?"
          ],
          [
           "how does diabetes affect your cells ?"
          ],
          [
           "what can happen to you if your sugar keep going <unk> three hundred you are type two ?"
          ],
          [
           "what are some cookbooks of diabetic diet recipes ?"
          ],
          [
           "does <unk> raise blood sugar levels ?"
          ],
          [
           "what disease does a pandan leaves cure ?"
          ],
          [
           "can mental illness be as clearly defined as a <unk> illness such as diabetes ?"
          ],
          [
           "diabetic foot ulcer ?"
          ],
          [
           "can you move to canada from the uk with diabetes ?"
          ],
          [
           "is potato chip good for diet ?"
          ],
          [
           "how can you determine if you are type two diabetic ?"
          ],
          [
           "are chips bad for a diabetic ?"
          ],
          [
           "what happens if you have too much sugar ?"
          ],
          [
           "are there sample diabetic diets online ?"
          ],
          [
           "physical characteristics for diabetes ?"
          ],
          [
           "why do diabetics need a balanced diet ?"
          ],
          [
           "is insulin a sugar ?"
          ],
          [
           "is a blood glucose level of one hundred and thirty eight too high ?"
          ],
          [
           "is sugar bad for your heart ?"
          ],
          [
           "is oil good for diabetic people ?"
          ],
          [
           "what is the normal serum bicarbonate level ?"
          ],
          [
           "are there diabetes meals i can buy instead of cooking ?"
          ],
          [
           "what is a good <unk> for diabetics to use for sore feet ?"
          ],
          [
           "how can diabetes <unk> ?"
          ],
          [
           "can eating fresh cherries control blood glucose level ?"
          ],
          [
           "what foods contribute to diabetes ?"
          ],
          [
           "where can i get info on a diabetic diet ?"
          ],
          [
           "why do afro-americans suffer from such diseases as hypertension diabetes cancer and heart failure than any other race of people ?"
          ],
          [
           "how do you get diabetes in your life ?"
          ],
          [
           "where can i find some diabetic cookie recipes ?"
          ],
          [
           "how long can a diabetic patient survive ?"
          ],
          [
           "why do diabetics type ii get so <unk> and mean . after forty three years of <unk> we are about to split up . what can i do ?"
          ],
          [
           "glucose fasting = ninety eight ?"
          ],
          [
           "drinking a lot of water but urinating normally diabetes ?"
          ],
          [
           "what is the study of diabetes mellitus called ?"
          ],
          [
           "what is a list of foods that are high in sugar ?"
          ],
          [
           "what does diabetes affect ?"
          ],
          [
           "what foods can make it worse if you have diabetes ?"
          ],
          [
           "what is the incidence of type one diabetes ?"
          ],
          [
           "i really want diabetes but tell me the truth do i ?"
          ],
          [
           "are peanuts okay for diabetics ?"
          ],
          [
           "does sugar have anything to do with getting diabetes ?"
          ],
          [
           "how can diabetes in pregnancy be prevented ?"
          ],
          [
           "how can diabetes lead to hypertension ?"
          ],
          [
           "how is a person with diabetes melitus affected ?"
          ],
          [
           "insulin and human growth hormone are two examples of products produced by what ?"
          ],
          [
           "what vitamins good for diabetes ?"
          ],
          [
           "how do you bring down blood sugar ?"
          ],
          [
           "does adrenaline increase blood sugar ?"
          ],
          [
           "what condition is caused by too much insulin and too little sugar in the blood ?"
          ],
          [
           "how can glucose change into <unk> ?"
          ],
          [
           "what happens to the body when insulin no longer works ?"
          ],
          [
           "what are three classic signs of hyperglycemia ?"
          ],
          [
           "where can one get free diabetes education ?"
          ],
          [
           "when does insulin is released ?"
          ],
          [
           "when did juvenile diabetes become type one diabetes ?"
          ],
          [
           "what are causes of fasting hyperglycemia in diabetes ?"
          ],
          [
           "is there a new insulin for type two ?"
          ],
          [
           "how can diabetes be treated ?"
          ],
          [
           "can diabetes affect the feet ?"
          ],
          [
           "do you need math for diabetes ?"
          ],
          [
           "where can i find more information on free diabetic diet ?"
          ],
          [
           "safe lower limits for diabetic patients with normally controlled levels ?"
          ],
          [
           "is <unk> safe for diabetics to eat ?"
          ],
          [
           "type two diabetes is known as non insulin dependent diabetes ?"
          ],
          [
           "what is the site of attack for type one diabetes ?"
          ],
          [
           "what is the difference between insulin and diabetics ?"
          ],
          [
           "is easy blood blisters a symptom of diabetes ?"
          ],
          [
           "how would someone <unk> to the magazine diabetes care ?"
          ],
          [
           "what does diabetic mean ?"
          ],
          [
           "what are some foods to serve to someone on a diabetic diet ?"
          ],
          [
           "what ways you can detect diabetes ?"
          ],
          [
           "a scientists makes an educated guess that diabetes is caused by genetic factors his guess is an example of a ?"
          ],
          [
           "how to tell your own normal blood glucose ?"
          ],
          [
           "can <unk> cause blurred vision ?"
          ],
          [
           "does lack of insulin will cause high blood glucose levels ?"
          ],
          [
           "is <unk> is harmful for a diabetic man ?"
          ],
          [
           "will the nutrisystem diabetic diet do any harm to diabetics ?"
          ],
          [
           "did nick jonas ever have diabetes ?"
          ],
          [
           "if someone has diabetes and they have gangrene can it be cured ?"
          ],
          [
           "why you should not ignore the signs of diabetes ?"
          ],
          [
           "can diabetes be <unk> ?"
          ],
          [
           "can you develop diabetes from eating too many carbs ?"
          ],
          [
           "how many kids are diagnosed with diabetes each day ?"
          ],
          [
           "are mood swings diabetes symptoms ?"
          ],
          [
           "who is more at risk of developing diabetic foot infections ?"
          ],
          [
           "sweet foods that can cause of diabetes ?"
          ],
          [
           "what are the effects of <unk> on blood sugar ?"
          ],
          [
           "does <unk> agents cause diabetes ?"
          ],
          [
           "how is genetically engineered insulin made ?"
          ],
          [
           "do you get diabetes if you eat too much sweets when you have diabetes ?"
          ],
          [
           "what does diagnosis means ?"
          ],
          [
           "why do you have to use insulin when you have diabetes ?"
          ],
          [
           "why is there not a cure for diabetes ?"
          ],
          [
           "is diabetes a preexisting condition ?"
          ],
          [
           "diabetes increases your likelihood of suffering from ?"
          ],
          [
           "when did laura ingalls wilder get diabetes ?"
          ],
          [
           "illness starting with the letter k ?"
          ],
          [
           "does <unk> cause blood sugar to increase ?"
          ],
          [
           "is it true that when blood glucose levels rise insulin is released by the <unk> to lower the level ?"
          ],
          [
           "why is the build up of lactic acid painful ?"
          ],
          [
           "what can cause numbness in finger tips ?"
          ],
          [
           "what is the normal range blood sugar level ?"
          ],
          [
           "what is the maximum blood sugar level ?"
          ],
          [
           "what happens if you are diabetic and you eat candy ?"
          ],
          [
           "to what group are olives <unk> in food exchange lists ?"
          ],
          [
           "when do doctors induce labor when you have gestational diabetes ?"
          ],
          [
           "how has advanced technology helped type one diabetes ?"
          ],
          [
           "where can i find foods that diabetics should avoid ?"
          ],
          [
           "how many new cases of diabetes ?"
          ],
          [
           "can you get lupus from swine ?"
          ],
          [
           "what is the price of a lantus <unk> insulin injection pen at walmart ?"
          ],
          [
           "glycosuria is a failure in ?"
          ],
          [
           "use cookbooks to prepare healthy and delicious diabetic meals ?"
          ],
          [
           "is it possible for you to have diabetes if no one else in your family has it ?"
          ],
          [
           "what can cause an insulin reaction ?"
          ],
          [
           "did miley <unk> up with nick because of diabetes ?"
          ],
          [
           "how does hot <unk> affect blood sugar ?"
          ],
          [
           "is one hundred and seventy one high sugar for a test ?"
          ],
          [
           "what causes different sweet smelling urine ?"
          ],
          [
           "what is happening to someones blood glucose levels right before a race ?"
          ],
          [
           "is insulin a substance produced by genetically engineered bacteria ?"
          ],
          [
           "what are some side effects from diabetes drugs ?"
          ],
          [
           "diabetes medications ?"
          ],
          [
           "what are normal diabetes levels ?"
          ],
          [
           "why does diabetics build up <unk> on feet ?"
          ],
          [
           "do plants get diabetes ?"
          ],
          [
           "how do <unk> <unk> and <unk> differ ?"
          ],
          [
           "can a cat die of diabetes ?"
          ],
          [
           "<unk> , sugar free recipes for the elderly ?"
          ],
          [
           "is diabetes <unk> ?"
          ],
          [
           "where can i go to get information for stomach bypass diabetes ?"
          ],
          [
           "curing diabetes ?"
          ],
          [
           "is selling diabetic test strips legal ?"
          ],
          [
           "what is the best way to treat the problem of underweight ?"
          ],
          [
           "what is the <unk> of diabetic ?"
          ],
          [
           "can children get diabetes ?"
          ],
          [
           "where does insulin travel to ?"
          ],
          [
           "where can i purchase or copy the best menu for diabetic diet guidelines ?"
          ],
          [
           "does diabetic neuropathy treatment have any risks ?"
          ],
          [
           "keep an eye on your levels ?"
          ],
          [
           "can diabetes be controlled by nutrilite protein powder ?"
          ],
          [
           "what is the insulin used for <unk> patients ?"
          ],
          [
           "how does cinnamon help with diabetes ?"
          ],
          [
           "what is the difference between candy and diabetic candy ?"
          ],
          [
           "why do you feel hungry when glucose levels fall in the blood ?"
          ],
          [
           "why cant the pancreas make insulin when you have type one diabetes ?"
          ],
          [
           "glucose level one hundred and eleven ?"
          ],
          [
           "does <unk> raise blood sugar levels ?"
          ],
          [
           "are <unk> product are safe to be use especially in a pregnant women ?"
          ],
          [
           "how <unk> would it take to become a diabetic if blood sugar is one hundred and fourteen ?"
          ],
          [
           "can you be diabetic and not take medication ?"
          ],
          [
           "what is <unk> diabetes ?"
          ],
          [
           "what are some of the most common diabetes symptoms i should look out for ?"
          ],
          [
           "what is diabetes type two mellitus ?"
          ],
          [
           "what is the best drugs for diabetes ?"
          ],
          [
           "which arteries are frequently <unk> in the diabetic patient ?"
          ],
          [
           "normal value of pus cells in urine ?"
          ],
          [
           "you are a forty year old diabetic you <unk> a temp of one hundred and one and just had a kidney infection when should you call your doctor ?"
          ],
          [
           "does type one diabetes use a hormone called insulin ?"
          ],
          [
           "can males with type one diabetes have babies ?"
          ],
          [
           "how many gram of sugar are ok in a one thousand , eight hundred ada diet ?"
          ],
          [
           "how can i tell if my glucose meter is <unk> reading my sugar levels ?"
          ],
          [
           "does <unk> <unk> have diabetes ?"
          ],
          [
           "will glucose tablets reduce your blood <unk> aic ?"
          ],
          [
           "what sugar is found in human blood ?"
          ],
          [
           "what percentage of people in mexico have diabetes ?"
          ],
          [
           "is there type three diabetes ?"
          ],
          [
           "which of these illness is a disease in which blood sugar levels are above normal ?"
          ],
          [
           "can barley lower blood sugar ?"
          ],
          [
           "what are the two types of <unk> ?"
          ],
          [
           "what type of fermentation takes place in your muscles when you exercise vigorously ?"
          ],
          [
           "what does insulin do the blood sugar levels ?"
          ],
          [
           "does the body store glucose in a form of glycogen ?"
          ],
          [
           "why do people get diabetes from being obese ?"
          ],
          [
           "how many units of insulin is point zero five ml ?"
          ],
          [
           "should you be worried about getting diabetes or cancer from a friend who has one of those diseases ?"
          ],
          [
           "what are some stevia dessert recipes ?"
          ],
          [
           "what fruits induce diabetes ?"
          ],
          [
           "when blood levels of glucose amino acids and insulin are high and glycogenesis is occurring in the liver the body is in the ?"
          ],
          [
           "can you get examples of diabetic foods ?"
          ],
          [
           "what controls glucose levels in the blood ?"
          ],
          [
           "treatments for diabetes ?"
          ],
          [
           "blood sugar at five hundred what do you do ?"
          ],
          [
           "what is the blood sugar level to be diabetic ?"
          ],
          [
           "do you check your glucose levels ?"
          ],
          [
           "what substance <unk> the lives of diabetics ?"
          ],
          [
           "is there a diabetic dessert recipe <unk> lots of chocolate and fairly easy to make ?"
          ],
          [
           "what eating tips would be appropriate for a diabetic ?"
          ],
          [
           "why do people suffer from diabetes ?"
          ],
          [
           "what online site has gestational diabetes recipe is ?"
          ],
          [
           "can diabetics pass on a uti ?"
          ],
          [
           "what is the normal blood sugar range of an insulin dependent diabetic ?"
          ],
          [
           "famous people with type one diabetes ?"
          ],
          [
           "<unk> that increase blood sugar levels ?"
          ],
          [
           "can a puppy have diabetes ?"
          ],
          [
           "what does the <unk> <unk> mean in regards a blood test ?"
          ],
          [
           "what if you take insulin and are not a diabetic ?"
          ],
          [
           "besides medical treatment with insulin what else can you do everyday to minimize your chance of getting diabetes ?"
          ],
          [
           "what are the effects of poor eating habits ?"
          ],
          [
           "how you can care for your feet if you are diabetic ?"
          ],
          [
           "is noni good for diabetics ?"
          ],
          [
           "<unk> challenges with a diabetes diet for <unk> ?"
          ],
          [
           "does marijuana help with type one diabetes ?"
          ],
          [
           "is sugar free <unk> ok to drink with type two diabetes ?"
          ],
          [
           "what will happen if you eat too much chocolate ?"
          ],
          [
           "which one of these is a communicable <unk> or diabetes ?"
          ],
          [
           "describe diabetes mellitus type two in your own words ?"
          ],
          [
           "when is regular insulin used ?"
          ],
          [
           "what are the symptoms and treatment of hypoglycemia and hyperglycemia ?"
          ],
          [
           "where can i buy a diabetic cookbook ?"
          ],
          [
           "living with diabetes ?"
          ],
          [
           "what is the normal level of blood sugars in the morning ?"
          ],
          [
           "<unk> <unk> root as a diabetic activity ?"
          ],
          [
           "can you get diabetes from smoking ?"
          ],
          [
           "can you eat peanuts if you have gestational diabetes ?"
          ],
          [
           "what is the condition during diabetes that makes you have very large babies ?"
          ],
          [
           "can high glucose levels cause tiredness ?"
          ],
          [
           "can diabetics drink beer ?"
          ],
          [
           "what should my diabetic dad order when eating out ?"
          ],
          [
           "why metaformin tablets as well as insulin injections ?"
          ],
          [
           "how many units of insulin is zero . <unk> ?"
          ],
          [
           "how are blood glucose levels regulated in the body ?"
          ],
          [
           "is diabeties curable ?"
          ],
          [
           "is <unk> the same as glucose ?"
          ],
          [
           "do bacteria prevent diabetes ?"
          ],
          [
           "are there any cereals for diabetics with lower levels of sugar in them ?"
          ],
          [
           "can diabetic patients eat <unk> ?"
          ],
          [
           "what cause diabetes ?"
          ],
          [
           "how you can prevent diabetes ?"
          ],
          [
           "is diabetes be a dangerous illness ?"
          ],
          [
           "what is the name of the hormone that lowers blood sugar level ?"
          ],
          [
           "who is affected by juvenile diabetes ?"
          ],
          [
           "best diabetic diet for people with diabetes ?"
          ],
          [
           "what are the diseases caused by radiation ?"
          ],
          [
           "can diabetic people <unk> ?"
          ],
          [
           "can diabetics use lidocaine <unk> ?"
          ],
          [
           "what is a good diet for someone with arthritis ?"
          ],
          [
           "blood sugar levels are lowered by the ?"
          ],
          [
           "how is diabetes spread ?"
          ],
          [
           "who would need to use a continuous glucose monitor ?"
          ],
          [
           "where can i buy diabetic food that is not too expensive ?"
          ],
          [
           "do you gain weight when you have diabetes ?"
          ],
          [
           "what should a diabetics carbohydrate intake be ?"
          ],
          [
           "what are good foods for those with diabetes ?"
          ],
          [
           "what does post prandial blood sugar mean ?"
          ],
          [
           "is diabetes treatable ?"
          ],
          [
           "what are dangerous blood sugar levels ?"
          ],
          [
           "what is the function of <unk> ?"
          ],
          [
           "what part of the human body system does hyperglycemia belong to ?"
          ],
          [
           "what types of foods is on the menus for a diabetic ?"
          ],
          [
           "is pumpkin indicated for type two diabetic patients ?"
          ],
          [
           "is diabetes a cardiovascular disease ?"
          ],
          [
           "will <unk> health <unk> cover the cost of diabetic supplies ?"
          ],
          [
           "your sugar stays high a lot but when it is normal for a few days your whole body <unk> with fluid what could cause this ?"
          ],
          [
           "can you get so many insulin injections that your diabetes is cured ?"
          ],
          [
           "is sugar in toothpaste a danger for diabetics ?"
          ],
          [
           "i am thirteen do i have diabetes ?"
          ],
          [
           "is it safe for diabetics to drink aspartame ?"
          ],
          [
           "can a person that has diabetes eat <unk> ?"
          ],
          [
           "is it illegal for diabetics to eat sugar ?"
          ],
          [
           "what are the signs and symptoms of a person suffering from a diabetic coma ?"
          ],
          [
           "why does someone who suffers from diabetes need insulin injections ?"
          ],
          [
           "how can you help people that has diabetes ?"
          ],
          [
           "what exactly is pediatric diabetes ?"
          ],
          [
           "if <unk> of an insulin injection was given instead of <unk> what would happen ?"
          ],
          [
           "what is the approximate <unk> of insulin ?"
          ],
          [
           "what causes type one diabetes mellitus caused by ?"
          ],
          [
           "who is at increased risk for developing type one and type two ?"
          ],
          [
           "what happens when blood glucose level decreases ?"
          ],
          [
           "im diabetic and am experiencing numbness and tingling in your lower left leg and foot what is it ?"
          ],
          [
           "how do you determine if one is diabetic ?"
          ],
          [
           "is nick jonas worried of having diabetes ?"
          ],
          [
           "what part of the digestive system produces insulin ?"
          ],
          [
           "does putting cinnamon in your coffee help with blood sugar ?"
          ],
          [
           "what do i have to do when i do not have normal blood sugar values ?"
          ],
          [
           "what term best describes a failure of the body is cells to <unk> to insulin ?"
          ],
          [
           "what can cause a diabetic sugars to rise ?"
          ],
          [
           "how does diabetes affect <unk> ?"
          ],
          [
           "what does sugar do to your body ?"
          ],
          [
           "blood sugar average for a person who weighs one hundred lbs ?"
          ],
          [
           "how is the insulin measured on the syringe ?"
          ],
          [
           "what kind of supplies do diabetic is use ?"
          ],
          [
           "what does two hundred and three as a blood sugar means ?"
          ],
          [
           "your husband is diabetic has to fast does he take his meds in the morning it says take with food ?"
          ],
          [
           "can a type two diabetic eat mango ?"
          ],
          [
           "safe diabetic diet plans ?"
          ],
          [
           "how do you make simple syrup with sodium saccharin ?"
          ],
          [
           "diabetic menu ?"
          ],
          [
           "what research has been done on vitamin a ?"
          ],
          [
           "can you die from diabetes mellitus ?"
          ],
          [
           "did miley cyrus break up with nick jonas because nick had diabetes ?"
          ],
          [
           "blood sugar levels are lowered by ?"
          ],
          [
           "what is the effect of ethanol on blood sugar ?"
          ],
          [
           "how can hereditary diseases be treated ?"
          ],
          [
           "level of sugar allowed in urine to pass dot physical ?"
          ],
          [
           "what are three ways to reduce the risk of diabetes ?"
          ],
          [
           "what is the disease characterized by low blood sugar level ?"
          ],
          [
           "<unk> of diabetes ?"
          ],
          [
           "is omega three good for diabetes ?"
          ],
          [
           "how can you recognize diabetes ?"
          ],
          [
           "why are your ball tingling ?"
          ],
          [
           "what two factors mainly influence <unk> <unk> ?"
          ],
          [
           "is <unk> safe for diabetics ?"
          ],
          [
           "when a person with diabetes is acting unusual it is best to . ?"
          ],
          [
           "what is a bolus used for in medicine ?"
          ],
          [
           "how is insulin genetically engineered ?"
          ],
          [
           "where should your sugar levels be ?"
          ],
          [
           "is <unk> safe for diabetic person ?"
          ],
          [
           "can high blood sugar make you dizzy and <unk> ?"
          ],
          [
           "what carbohydrates do not take long to digest and cause blood sugar levels to rise quickly ?"
          ],
          [
           "where do i need to go to find out more about diet for diabetic ?"
          ],
          [
           "what is type two diabetes ?"
          ],
          [
           "what are steps taken for diabetes management ?"
          ],
          [
           "what special dietary needs does someone with diabetes require ?"
          ],
          [
           "how do you pronounce <unk> ?"
          ],
          [
           "what is the main reason for high glucose levels ?"
          ],
          [
           "is there any sort of special diet a person with diabetes two should have ?"
          ],
          [
           "diabetes mellitus is a disease of which gland ?"
          ],
          [
           "if a diabetic passes out do you give smelling salts ?"
          ],
          [
           "when was nick jonas diagnosed with diabetes ?"
          ],
          [
           "what are the major symptoms for type two diabetes ?"
          ],
          [
           "you have diabetes what can you do ?"
          ],
          [
           "can you get diabetes by eating no sugar at all ?"
          ],
          [
           "is type two diabetes rarer than type one ?"
          ],
          [
           "what does medicaid pay for diabetic shoes in each state ?"
          ],
          [
           "which diabetes require insulin injections ?"
          ],
          [
           "what is the level of glucose in a cat ?"
          ],
          [
           "which pigment cause <unk> in bronze diabetes ?"
          ],
          [
           "what people are at risk for diabetes ?"
          ],
          [
           "why wheat is better than rice in diabetes ?"
          ],
          [
           "what are early signs of diabetes in children ?"
          ],
          [
           "insulin how is it used ?"
          ],
          [
           "what are the benefits of diabetes and exercise ?"
          ],
          [
           "can diabetes raise blood alcohol content ?"
          ],
          [
           "can diabetes effect eye sight ?"
          ],
          [
           "how does an <unk> leak occur in a pancreatectomy patient ?"
          ],
          [
           "what are the symptoms of type one diabetes ?"
          ],
          [
           "what is the life expectancy of someone with diabetes ?"
          ],
          [
           "which blood test is used by patients with diabetes to measure the average blood glucose level over the previous three to four months ?"
          ],
          [
           "is it safe for a diabetic to have bypass surgery ?"
          ],
          [
           "is there a cure for type one diabetes ?"
          ],
          [
           "what are the effects of not treating a diabetic foot <unk> ?"
          ],
          [
           "what are some good diabetes supplies ?"
          ],
          [
           "what type of diabetes that requires injection of insulin ?"
          ],
          [
           "what percentage of americans have diabetes but are unaware they have the disease ?"
          ],
          [
           "what is the role of insulin in regulating blood sugar levels ?"
          ],
          [
           "i have been diagnosed with diabetes i am a fourteen year old girl is it a normal feeling to just want to give up ?"
          ],
          [
           "what kind of deals exists for the <unk> type computer ?"
          ],
          [
           "which organ is involved in diabetes ?"
          ],
          [
           "can hand numbness be caused by diabetes ?"
          ],
          [
           "how can you avoid diabetic ?"
          ],
          [
           "breakfast - the key to healthy diabetic meal plans ?"
          ],
          [
           "why can not diabetics drink liquor ?"
          ],
          [
           "will ayurveda help someone who has diabetes ?"
          ],
          [
           "why is there an increased risk of toxicity in later stages of renal failure ?"
          ],
          [
           "where can i find information about diabetic eating ?"
          ],
          [
           "can <unk> raise blood sugars ?"
          ],
          [
           "can diabetes be passed on to your baby ?"
          ],
          [
           "what can <unk> a doctor that you might have diabetes ?"
          ],
          [
           "can you have increased hunger instead of having increased thirst when having symptoms of diabetes ?"
          ],
          [
           "how do you know if your blood sugar levels are low ?"
          ],
          [
           "how does one get diabetes ?"
          ],
          [
           "how much metaformin do you take ?"
          ],
          [
           "what type diabetes characterized by absence of insulin <unk> ?"
          ],
          [
           "what do you need when you have diabetes ?"
          ],
          [
           "what is the recommended carbohydrate intake for an active man ?"
          ],
          [
           "what tissue in addition to the liver is taken from the donor for an orthotopic transplantation ?"
          ],
          [
           "what is the main idea of it is time to stop <unk> fat people for their size ?"
          ],
          [
           "does steve redgrave have diabetes ?"
          ],
          [
           "after sixty four can you get diabetes ?"
          ],
          [
           "where can you get diabetes ?"
          ],
          [
           "im a forty five yr old male diabetic with a enlarged <unk> gland can it kill you ?"
          ],
          [
           "my boyfriend is in the late stages of alcoholism he cant eat and is extremely thin . most of his caloric intake is from <unk> . doctors suspect he is diabetic now . does that happen often ?"
          ],
          [
           "what research has been done on diabetes mellitus ?"
          ],
          [
           "can hypoglycemic kill you ?"
          ],
          [
           "does nick jonas really have diabetes ?"
          ],
          [
           "what do people with diabetes do not produce enough ?"
          ],
          [
           "what are the <unk> fruits for diabetic blood sugar ?"
          ],
          [
           "can the diabetic exchange diet be used by teenagers ?"
          ],
          [
           "how do i control my diabetes ?"
          ],
          [
           "which gland fails to produce enough of its hormone in the disease diabetes mellitus ?"
          ],
          [
           "can diabetics be in <unk> ?"
          ],
          [
           "what precautions need to be taken when doing a gastric acid <unk> ?"
          ],
          [
           "what cook <unk> have the best food list for diabetics ?"
          ],
          [
           "can you lose type two diabetes ?"
          ],
          [
           "what does the code <unk> mean on an medtronic mini med insulin pump ?"
          ],
          [
           "can a diabetic dive and perform in <unk> activities ?"
          ],
          [
           "what is the risk of exercise with diabetes ?"
          ],
          [
           "how common is diabetes in america ?"
          ],
          [
           "which laboratory procedure has made possible te development of bacteria that can <unk> human insulin ?"
          ],
          [
           "how can you lower your blood sugar quickly ?"
          ],
          [
           "is gangrene painful ?"
          ],
          [
           "what is the best diet meal plan for type two diabetis ?"
          ],
          [
           "what are some diabetes super foods ?"
          ],
          [
           "what signs should i look for to get testing for diabetes ?"
          ],
          [
           "what are the signs of diabetes ?"
          ],
          [
           "where can i find a good diabetes diet ?"
          ],
          [
           "what should i know if i am diagnosed with diabetes ?"
          ],
          [
           "ayurveda medicine for diabeties ?"
          ],
          [
           "what countries have low diabetes ?"
          ],
          [
           "where can i find more information on diabetic meals ?"
          ],
          [
           "what research has been done on <unk> ?"
          ],
          [
           "what are recent books with tasty diabetic food recipes ?"
          ],
          [
           "is a blood sugar of two hundred too high ?"
          ],
          [
           "what are low and high blood sugar levels ?"
          ],
          [
           "conditions associated with type two diabetes ?"
          ],
          [
           "what can i eat in a diabetic diet ?"
          ],
          [
           "what are some symptoms of type two diabetes ?"
          ],
          [
           "what does food or fluids correct in a diabetic emergency ?"
          ],
          [
           "are diabetics in pain all the time ?"
          ],
          [
           "who are brittle diabetics ?"
          ],
          [
           "neuropathy diabetes ?"
          ],
          [
           "how is diabetes transferred ?"
          ],
          [
           "what are the negative effects of massage to a person with diabetes ?"
          ],
          [
           "is diabetes insipidus dominant or recessive ?"
          ],
          [
           "can teenagers get type two diabetes ?"
          ],
          [
           "is metformin one of the diabetes drugs that you can gain weight from ?"
          ],
          [
           "what is the primary organ involved with type one diabetes mellitus ?"
          ],
          [
           "where can i find ideas for diabetes diet foods ?"
          ],
          [
           "what is the nature of diabetes ?"
          ],
          [
           "what is a typical diabetic diet ?"
          ],
          [
           "how many times a week should you go to the gym to <unk> up ?"
          ],
          [
           "which type of diabetes needs insulin injections ?"
          ],
          [
           "what are some specific type one diabetes diet ?"
          ],
          [
           "how does a diabetic control their diabetes ?"
          ],
          [
           "would you get diabetes if you eat a lot of junk food ?"
          ],
          [
           "what are the two types of shock that diabetics go into ?"
          ],
          [
           "where can i go to find stroke symptoms ?"
          ],
          [
           "choose blood glucose strip brands carefully ?"
          ],
          [
           "how do you avoid low blood sugar ?"
          ],
          [
           "what are the advantages of gene therapy for the treatment of cystic fibrosis ?"
          ],
          [
           "should diabetics eat sugar in large amounts or in moderation ?"
          ],
          [
           "does diabetic <unk> <unk> go away ?"
          ],
          [
           "cases of diabetes mellitus in the philippines ?"
          ],
          [
           "what are the two main body systems are affected by diabetes ?"
          ],
          [
           "should i eat eggs if i am on a diabetic diet ?"
          ],
          [
           "is haemoglobin test a sugar test ?"
          ],
          [
           "what happens to insulin during gastroenteritis ?"
          ],
          [
           "does nick jonas have <unk> diabetes ' or diabetes ?"
          ],
          [
           "what is in simple english diabetic <unk> ?"
          ],
          [
           "a few days ago i was tested for lyme disease . along with the blood test test my doctor tested my blood sugar . before going to the doctor i had stopped at a <unk> donuts and had a cinnamon raisin <unk> with a sweetened peach ice tea . my doctor called to ?"
          ],
          [
           "what is normal blood sugar level after eating ?"
          ],
          [
           "why do people care that nick jonas has diabetes but still <unk> other people who also have type one diabetes ?"
          ],
          [
           "is there a cure for diabetes type two coming up <unk> soon ?"
          ],
          [
           "what vegetables can a diabetic eat ?"
          ],
          [
           "which term describes a life-threatening complication of diabetes mellitus ?"
          ],
          [
           "why is injecting insulin an essential part of the daily regime for most people with diabetes ?"
          ],
          [
           "how can i maintain my blood sugar level with diabetes ?"
          ],
          [
           "what is a diabetic emergency ?"
          ],
          [
           "when should a diabetic take insulin ?"
          ],
          [
           "where can you find a list of food <unk> in <unk> ?"
          ],
          [
           "diabetic menu planner ?"
          ],
          [
           "what is the normal human glucose level ?"
          ],
          [
           "kids with diabetes ?"
          ],
          [
           "target cells of glucagon and insulin ?"
          ],
          [
           "how do i read my diabetic meter ?"
          ],
          [
           "what enhances the action of insulin in the body ?"
          ],
          [
           "what happens when your in a coma ?"
          ],
          [
           "what can i do to help prevent diabetes ?"
          ],
          [
           "which food are the best choices for treating a patient <unk> a hypoglycemic low blood sugar reaction ?"
          ],
          [
           "what are the different complications of type two diabetes ?"
          ],
          [
           "what will happen if a diabetic takes medications without eating ?"
          ],
          [
           "where to get free diabetic supplies ?"
          ],
          [
           "why do both major types of diabetes occur ?"
          ],
          [
           "what are symptoms of hypoglycemia , and how low is too low ?"
          ],
          [
           "what <unk> of the population is affected by diabetes ?"
          ],
          [
           "how much liquor does it take to kill a diabetic ?"
          ],
          [
           "if you are diabetic and suffering frequent <unk> low blood sugar requiring emergency aid should the doctor prescribe metformin and lower insulin since metformin lowers blood sugar levels further ?"
          ],
          [
           "staying positive with diabetes ?"
          ],
          [
           "is <unk> okay for a diabetic ?"
          ],
          [
           "what are the tips you can share for a person with diabetes and running ?"
          ],
          [
           "is three hundred and eighty four to high in being a diabetic ?"
          ],
          [
           "what drug is used for diabetic hypertensive ?"
          ],
          [
           "why is insulin <unk> ?"
          ],
          [
           "could you have diabetes at thirteen ?"
          ],
          [
           "how long does it take for blood sugar to decrease if not on medication ?"
          ],
          [
           "the body of a diabetic does not produce enough of the hormone ?"
          ],
          [
           "is it hard to sleep when you have diabetes ?"
          ],
          [
           "<unk> <unk> has diabetes like nick could they be friends like that ?"
          ],
          [
           "what are typical dangerous blood sugar levels for a diabetic ?"
          ],
          [
           "will ohio medicaid cover gastric bypass surgery ?"
          ],
          [
           "how bad is it to have glucose at one hundred and forty three ?"
          ],
          [
           "what is a reliable diabetic menu planner ?"
          ],
          [
           "why does diabetes cause sweet smelling urine ?"
          ],
          [
           "does sugar raise blood sugar ?"
          ],
          [
           "what are <unk> insulins ?"
          ],
          [
           "how to <unk> off insulin ?"
          ],
          [
           "can you cure for diabetes ?"
          ],
          [
           "how does insulin signal a cell to take in glucose ?"
          ],
          [
           "what is the cpt code for gestational diabetes ?"
          ],
          [
           "what do you get when you eat a lot of sugar foods ?"
          ],
          [
           "what may be the cause of diabetic neuropathy ?"
          ],
          [
           "are there any websites that can help me find diabetic menu planning ?"
          ],
          [
           "what are some medical terms <unk> to diabetes ?"
          ],
          [
           "is there a diabetic meal plan that is easy to use when you are away from home ?"
          ],
          [
           "if neither of your parents have diabetes can you get it ?"
          ],
          [
           "why insulin does not take <unk> ?"
          ],
          [
           "which hormone is responsible for lowering blood suger by <unk> glucose transport into cells ?"
          ],
          [
           "why can not you prevent type one diabetes ?"
          ],
          [
           "what is abnormally high concentration of glucose in the blood ?"
          ],
          [
           "what research has been done on <unk> massage ?"
          ],
          [
           "what is the hormone that lowers blood sugar levels is ?"
          ],
          [
           "what happens if the body has too little insulin ?"
          ],
          [
           "can diabetes mellitus be prevented ?"
          ],
          [
           "diseases of the body ?"
          ],
          [
           "is there term life insurance for diabetics ?"
          ],
          [
           "are the foods good for type one diabetics also good for the type two is ?"
          ],
          [
           "what are some quick diabetes recipes ?"
          ],
          [
           "what is a normal sugar level for twenty year old ?"
          ],
          [
           "why diabetics causes burning sensation at foot ?"
          ],
          [
           "the normal value of glucose per one hundred ml of blood is ?"
          ],
          [
           "are there any proven diabetes cures ?"
          ],
          [
           "what are some names of some diabetic cook books ?"
          ],
          [
           "what is the life expectancy of someone with type one diabetes ?"
          ],
          [
           "can a hypertensive diabetic patient have the typhoid vaccine ?"
          ],
          [
           "why is diabetes called sugar ?"
          ],
          [
           "can sixty five year old diabetic eat walnuts and almonds ?"
          ],
          [
           "how you can get a diabetes mellitus ?"
          ],
          [
           "who invented the insulin ?"
          ],
          [
           "can a diabetic eat chinese chicken <unk> ?"
          ],
          [
           "what is the cause of constant fatigue ?"
          ],
          [
           "the condition called diabetes insipidus is caused by what ?"
          ],
          [
           "what are some diets for young diabetic men ?"
          ],
          [
           "can diabetics use insulin for <unk> purposes ?"
          ],
          [
           "can blood tests determine diabetes ?"
          ],
          [
           "where can i get medical supplies for diabetes ?"
          ],
          [
           "how many times should you need to calibrate your glucometer in a week ?"
          ],
          [
           "how do you test for diabetes ?"
          ],
          [
           "what herbs are known to lower blood sugar ?"
          ],
          [
           "is it normal to hear a low <unk> <unk> ' when stopped the <unk> <unk> you bought does this and you was told it was normal but is that accurate ?"
          ],
          [
           "does health insurance cover liposuction if you are a diabetic ?"
          ],
          [
           "does michael phelps have diabetes ?"
          ],
          [
           "what are the stages of <unk> cancer , and does diet play a part ?"
          ],
          [
           "what is normal level of blood sugar ?"
          ],
          [
           "where can one order diabetic supplies online ?"
          ],
          [
           "what causes your toes to feel numb ?"
          ],
          [
           "what is the role of a personal support worker in <unk> a client with diabetes ?"
          ],
          [
           "does <unk> raise blood sugar ?"
          ],
          [
           "what is the <unk> name for diabetes ?"
          ],
          [
           "is <unk> wine also good for diabetes ?"
          ],
          [
           "was nick jonas in the hospital for diabetes why ?"
          ],
          [
           "what is a good type two diabetes diet ?"
          ],
          [
           "what is grade two <unk> ?"
          ],
          [
           "did jackie robinson die from diabetes ?"
          ],
          [
           "does <unk> <unk> raise blood sugar ?"
          ],
          [
           "how long did jackie robinson have diabetes for ?"
          ],
          [
           "what type of alcohol beverage is good for a diabetic ?"
          ],
          [
           "what is diabetes millitus ?"
          ],
          [
           "how does type two diabetes affect your lifestyle ?"
          ],
          [
           "what types of diabetes are determined by the functioning of the ?"
          ],
          [
           "is <unk> <unk> caused by diabetes ?"
          ],
          [
           "is diabetes a disease or a condition ?"
          ],
          [
           "where can i find a sample diabetic diet ?"
          ],
          [
           "can you get pregnant if your partner has type one diabetes ?"
          ],
          [
           "what are the reasons for getting more thirsty than usual ?"
          ],
          [
           "who get diabetes ?"
          ],
          [
           "where can one find research about diabetes ?"
          ],
          [
           "what causes your hands fall asleep at night ?"
          ],
          [
           "can you get diabetes from getting <unk> ?"
          ],
          [
           "what are the symptoms of type one <unk> ?"
          ],
          [
           "why would drinking molasses in the morning not help with low blood sugar ?"
          ],
          [
           "can you get diabetes by eating sugar ?"
          ],
          [
           "can hyperglycemia lead to kidney failure ?"
          ],
          [
           "what happens when someone has high blood sugar ?"
          ],
          [
           "where can i find <unk> on an official mayo clinic diet ?"
          ],
          [
           "is it dangerous to drink a diabetics blood ?"
          ],
          [
           "does glucose help kids to remember ?"
          ],
          [
           "what is the name of a diabetes specialist ?"
          ],
          [
           "what causes eye bleeding ?"
          ],
          [
           "can a person be diabetic and make some changes in their lifestyle and then not be diabetic ?"
          ],
          [
           "can diabetic patient eat banana ?"
          ],
          [
           "what is gangrene ?"
          ],
          [
           "where can i obtain a diabetic food pyramid ?"
          ],
          [
           "what happens in the body when insulin is injected ?"
          ],
          [
           "does grapefruit affect blood sugar levels ?"
          ],
          [
           "what is the worst stage of type two diabetes ?"
          ],
          [
           "true or false scientists use genetic engineering to produce bacteria that is capable of synthesizing human proteins ?"
          ],
          [
           "would looking at blood sugar levels be part of diet ?"
          ],
          [
           "what should you do if your glucose level is three hundred and seventy one ?"
          ],
          [
           "how was insulin made ?"
          ],
          [
           "can diabetic patient use aspartame as alternative sweetener except sugar ?"
          ],
          [
           "insulin replacement therapy is always used in type one diabetes or type two ?"
          ],
          [
           "how much sugar in an average <unk> bottle of cheap wine from supermarket or <unk> can of beer if i am <unk> towards diabetes type two from high blood glucose is there any alcoholic drink safe ?"
          ],
          [
           "what controls the blood glucose levels ?"
          ],
          [
           "what is the best diet for someone who is diabetic ?"
          ],
          [
           "how can you get type one or two diabetes ?"
          ],
          [
           "what kind of disorder is diabetes type two ?"
          ],
          [
           "what would be the effects of adding the sequence <unk> to insulin ?"
          ],
          [
           "is eating a lot considered a type of behavior ?"
          ],
          [
           "what do you do when a diabetic person <unk> from low or high blood sugar ?"
          ],
          [
           "why does polydipsia occur with diabetes mellitus ?"
          ],
          [
           "what is <unk> ?"
          ],
          [
           "what are the <unk> of insulin ?"
          ],
          [
           "gestational diabetes symptoms ?"
          ],
          [
           "help i do not know what an a1c range is ?"
          ],
          [
           "what type of diabetes is associated with pregnancy ?"
          ],
          [
           "is an a1c value of eight point eight dangerous if fasting blood sugar is normal ?"
          ],
          [
           "how can you improve your life if you have diabetes ?"
          ],
          [
           "what are some examples of a diabetes diet ?"
          ],
          [
           "where is energy stored in glucose ?"
          ],
          [
           "what is the prognosis for insulin resistance ?"
          ],
          [
           "where online is there a diet menu for those with diabetes ?"
          ],
          [
           "are there diabetic <unk> ?"
          ],
          [
           "what nutrilite product a women with cancer can take ?"
          ],
          [
           "can you eat sugar if you have type two diabetes ?"
          ],
          [
           "what should be in a diabetic is diet book ?"
          ],
          [
           "what are some methods of diabetes control ?"
          ],
          [
           "is apple good for type two diabetes ?"
          ],
          [
           "what happens if blood sugar levels are not properly regulated ?"
          ],
          [
           "what are some good diabetic food recipes that will help alleviate my symptoms ?"
          ],
          [
           "what research has been done on <unk> chi ?"
          ],
          [
           "how many people died each year from type one diabetes ?"
          ],
          [
           "what do people do if they have diabetes ?"
          ],
          [
           "how do you inject insulin ?"
          ],
          [
           "is <unk> <unk> vitamin good for diabetics ?"
          ],
          [
           "where can i order a test to check for normal blood glucose levels ?"
          ],
          [
           "how can i get diabetes diet <unk> for someone with serious diabetis ?"
          ],
          [
           "what is the definition of low sugar ?"
          ],
          [
           "what triggers type one diabetes ?"
          ],
          [
           "can the bayer contour test strips <unk> be <unk> for either the <unk> or <unk> test strips and still maintain <unk> ?"
          ],
          [
           "what fruits can a diabetic have ?"
          ],
          [
           "what is the most common effect of diabetes on a diabetic ?"
          ],
          [
           "why is diabetes a serious health issue ?"
          ],
          [
           "what is the best food and diet plan for a diabetic <unk> ?"
          ],
          [
           "which doctor checks diabetics ?"
          ],
          [
           "should diabetics eat red meats ?"
          ],
          [
           "what is the best website for normal glucose levels ?"
          ],
          [
           "your fasting blood sugars are three hundred is that dangerous ?"
          ],
          [
           "how do you get my blood sugar to rise in a diabetic emergency ?"
          ],
          [
           "do high triglyceride levels affect your blood sugar ?"
          ],
          [
           "what produces the hormone in alpha cells ?"
          ],
          [
           "what can type two diabetes do to the human body ?"
          ],
          [
           "describe the body mechanisms for controlling the blood glucose levels under the normal stress conditions ?"
          ],
          [
           "what are the precautions people need to take if they have both type one and type two diabetes ?"
          ],
          [
           "what is the safe blood sugar level for an adult male fifty eight years old <unk> ?"
          ],
          [
           "why has there been an increase in type two diabetes ?"
          ],
          [
           "what happens if a diabetic does not eat ?"
          ],
          [
           "how do you treat diabetes insipidus ?"
          ],
          [
           "how many carbs should be eaten each day for a type two diabetic ?"
          ],
          [
           "how <unk> should use for diabetics ?"
          ],
          [
           "name the cloudy insulins ?"
          ],
          [
           "what are three ways someone with type two diabetes can help their body use glucose effectively ?"
          ],
          [
           "what is an iu of insulin ?"
          ],
          [
           "what is a therapeutic intervention for type one diabetes ?"
          ],
          [
           "how can you improve your health when you have diabetes ?"
          ],
          [
           "how do you cure diabetes ?"
          ],
          [
           "can dogs get diabeties ?"
          ],
          [
           "what types of food should diabetics avoid . ?"
          ],
          [
           "which websites provide diabetic food lists ?"
          ],
          [
           "what is a description for fasting blood sugar ?"
          ],
          [
           "what does sugar cause ?"
          ],
          [
           "why is it good when you are not overweight ?"
          ],
          [
           "while fasting is blood sugar readings of one hundred and ten normal for a thirteen year old girl ?"
          ],
          [
           "is low blood sugar a symptom of pregnancy ?"
          ],
          [
           "is honey good for diabetes ?"
          ],
          [
           "where can i learn more about the american diabetes ?"
          ],
          [
           "what is the source of income from the american diabetes association ?"
          ],
          [
           "can non diabetics have diabetic food ?"
          ],
          [
           "what are the release dates for <unk> <unk> is diabetes ad - two thousand and twelve ?"
          ],
          [
           "what is <unk> ?"
          ],
          [
           "if a woman develops diabetes only while pregnant having it go away after giving birth what are the chances of type one diabetes in the child ?"
          ],
          [
           "is aloe vera good to drink all day ?"
          ],
          [
           "what body part produces insulin so that cells can use sugar ?"
          ],
          [
           "will drinking water lower blood sugar ?"
          ],
          [
           "what website is the best at finding diabetic supplies ?"
          ],
          [
           "can nick jonas get rid of his diabetes ?"
          ],
          [
           "how long should five pills per day of <unk> two hundred be continued for rheumatoid arthritis ?"
          ],
          [
           "where can one find a blood sugar levels chart online ?"
          ],
          [
           "what can cause frequent urination and <unk> odor ?"
          ],
          [
           "what is the normal fasting blood glucose range in a diabetic teenager ?"
          ],
          [
           "what happen if have too much insulin ?"
          ],
          [
           "what are the normal blood sugar ranges for a diabetic before and after meals ?"
          ],
          [
           "how close is diabetes to becoming cured ?"
          ],
          [
           "what clinical findings occurs first in metabolic acidosis of a patient with type one diabetes ?"
          ],
          [
           "can diabetes get <unk> to there medicine ?"
          ],
          [
           "i am a type two diabetic my problem is my blood sugar is high when i wake up , how can i correct it ?"
          ],
          [
           "diabetes education for patients ?"
          ],
          [
           "which is not a sign of diabetes ?"
          ],
          [
           "does red meat cause diabetes ?"
          ],
          [
           "if i have diabetes type two when should i take my blood sugar levels ?"
          ],
          [
           "diets for diabetes ?"
          ],
          [
           "what is a good diet for someone who suffers from diabetic nephropathy ?"
          ],
          [
           "do any <unk> have diabetes ?"
          ],
          [
           "what do ketones have to do with diabetes ?"
          ],
          [
           "where can i go online to find some information on diabetic diet plans ?"
          ],
          [
           "if i am not losing weight and have no sugar in my urine but could i still have diabetes ?"
          ],
          [
           "why would you take <unk> for diabetes insipidus ?"
          ],
          [
           "the doctor has your weight loss plan ?"
          ],
          [
           "how do you stop hypoglycemic attacks ?"
          ],
          [
           "is there any medicine for type one diabetes ?"
          ],
          [
           "can potassium lower down blood sugar level ?"
          ],
          [
           "why are you peeing a lot ?"
          ],
          [
           "what is royal jelly ?"
          ],
          [
           "diabetic snack ideas ?"
          ],
          [
           "what is the number for the normal blood sugar level ?"
          ],
          [
           "why are human <unk> not the best source for insulin ?"
          ],
          [
           "does whole foods store sell healthy foods for diabetics ?"
          ],
          [
           "where can i get diabetes products ?"
          ],
          [
           "what kind of products does the novo nordisk company produce ?"
          ],
          [
           "should diabetics drink beer ?"
          ],
          [
           "how much creatine for a diabetic ?"
          ],
          [
           "can having diabetes cause symptoms of pregnancy even when you are not pregnant ?"
          ],
          [
           "how and when did diabetes developed ?"
          ],
          [
           "does dizziness have anything to do with diabetes ?"
          ],
          [
           "what are diabetics not allowed to eat ?"
          ],
          [
           "is a blood sugar level of one hundred and eleven normal ?"
          ],
          [
           "where in your body does diabetes happen ?"
          ],
          [
           "why is type two diabetes showing up in young people ?"
          ],
          [
           "what condition occurs when glucose in the blood falls below levels necessary for normal and efficient brain functioning ?"
          ],
          [
           "can a diabetic have a seizure with a blood sugar level at seventy seven ?"
          ],
          [
           "is diabetes autosomal ?"
          ],
          [
           "what kind of disease did the <unk> spread to canada ?"
          ],
          [
           "where can you look up blood glucose levels ?"
          ],
          [
           "what does it mean if my blood sugar is five hundred and forty ?"
          ],
          [
           "what is a normal blood sugar level for a woman in her thirty is ?"
          ],
          [
           "how does diabetes affect your body ?"
          ],
          [
           "what are some good ways to help manage diabetes ?"
          ],
          [
           "what is a possible cause of non-insulin diabetes ?"
          ],
          [
           "how do you treat hypoglycemia ?"
          ],
          [
           "insulin replacement therapy is always used in ?"
          ],
          [
           "does a diabetic have to get blood only from a finger ?"
          ],
          [
           "how can eating junk food cause diabetes ?"
          ],
          [
           "you are insulin resistant you do not however have diabetes if you lose the weight will your insulin resistance go too along with it your chance of developing diabetes ?"
          ],
          [
           "what is a diabetic emergency caused by very low sugar ?"
          ],
          [
           "how much sugar to get diabetes ?"
          ],
          [
           "what is a good type of diabetes ?"
          ],
          [
           "what is the most important aspect of treatment of diabetes mellitus ?"
          ],
          [
           "can a <unk> <unk> have diabetes ?"
          ],
          [
           "can too much sugar give you diabetes ?"
          ],
          [
           "can diabetics take <unk> <unk> ?"
          ],
          [
           "stopped cutting last year . suicide attempt <unk> grade never told anyone . some days i am happy other days well . is it <unk> . past events . no sleep . i put my self in this mess . yeah ?"
          ],
          [
           "what can treat diabetes ?"
          ],
          [
           "are there any natural medicines for diabetes ?"
          ],
          [
           "what are some free cookie recipes for diabetics ?"
          ],
          [
           "how much does being overweight lower your chances with a girl <unk> you ?"
          ],
          [
           "what happens when you eat the excess amount of sugar to the ph ?"
          ],
          [
           "is long life related to where you live ?"
          ],
          [
           "is one hundred and thirty eight blood sugar too high after three hrs eating ?"
          ],
          [
           "can you join the marines if you have diabetes ?"
          ],
          [
           "is diabetes environmental ?"
          ],
          [
           "do kids get diabetes ?"
          ],
          [
           "how to find free diabetic recipes ?"
          ],
          [
           "does water melon increase blood sugar ?"
          ],
          [
           "what are the most common diabetic medications ?"
          ],
          [
           "if a man was found with symptoms of <unk> <unk> a <unk> blood sugar of twenty eight is <unk> has a peaked t <unk> on <unk> what are the primary interventions ?"
          ],
          [
           "can diabetics eat peaches ?"
          ],
          [
           "medical terms what is the name of blood condition of less than normal sugar ?"
          ],
          [
           "what are the chances i will be able to carry my baby to term if i am diabetic ?"
          ],
          [
           "should you change your diet to control your blood sugar levels ?"
          ],
          [
           "what are the routines and habits that must be followed with type one diabetes ?"
          ],
          [
           "what is the symptoms of diabetics ?"
          ],
          [
           "what are some ways to treat diabetes ?"
          ],
          [
           "which type of diabetes is sometimes referred to as juvenile diabetes ?"
          ],
          [
           "how was diabetes treated before the discovery of insulin ?"
          ],
          [
           "what does diabetes mean ?"
          ],
          [
           "how does exercise affect diabetics blood sugar and circulation ?"
          ],
          [
           "why does mango help in <unk> diabetes ?"
          ],
          [
           "how is insulin <unk> ?"
          ],
          [
           "are you <unk> good for glaucoma patients ?"
          ],
          [
           "where can someone purchase discount diabetic supplies ?"
          ],
          [
           "how is the size of insulin <unk> ?"
          ],
          [
           "signs of diabetes mellitus ?"
          ],
          [
           "what condition is insulin resistance of fat cells type one diabetes or type two diabetes ?"
          ],
          [
           "what is the relation of hypokalemia to diabetes melitus ?"
          ],
          [
           "who is discover insulin ?"
          ],
          [
           "are health insurance rates for type two diabetics higher than rates for type one diabetics ?"
          ],
          [
           "for a diabetic what is a good diet to follow ?"
          ],
          [
           "how does the body maintain blood sugar levels when a person has not eaten a meal for many hours ?"
          ],
          [
           "how much is ten grams of sugar ?"
          ],
          [
           "what to do when blood sugar is over three hundred ?"
          ],
          [
           "where can i get a diabetic cookbook ?"
          ],
          [
           "why drugs which are <unk> as insulin can not be taken by mouth but must be injected ?"
          ],
          [
           "is there any way to save the legs when one has sores during diabetes ?"
          ],
          [
           "how to manage type two diabetes ?"
          ],
          [
           "what does not the body process properly when you have diabetes ?"
          ],
          [
           "what causes dry mouth ?"
          ],
          [
           "what are the top ten lifestyle diseases ?"
          ],
          [
           "what is the best time to check blood sugar readings ?"
          ],
          [
           "what is the best healthy pregnancy diet for women who are suffering from gestational diabetes ?"
          ],
          [
           "why is there too little sugar in the blood if the person exercises more than usual ?"
          ],
          [
           "is diabetes able to be passed along to your children ?"
          ],
          [
           "what term describes a life-threatening complication of diabetes mellitus ?"
          ],
          [
           "what are the benefits of a diabetic diet plan to lose weight ?"
          ],
          [
           "what system <unk> glucose levels ?"
          ],
          [
           "thyroxine is important to the control of what ?"
          ],
          [
           "is hypoglycemia deadly ?"
          ],
          [
           "what is type one diabetes ?"
          ],
          [
           "how could parents protect their children against diabetes ?"
          ],
          [
           "im fifteen what should you do if you suspect diabetes ?"
          ],
          [
           "ability of bacteria to produce insulin ?"
          ],
          [
           "what is the best diabetes diet to go on ?"
          ],
          [
           "when would a diabetic need to see the doctor with sore feet ?"
          ],
          [
           "why does a doctor tell diabetics not to drink ?"
          ],
          [
           "what will happen if you eat too much ?"
          ],
          [
           "what to eat when you are diabetic and why ?"
          ],
          [
           "is diabetes myelitis contagious ?"
          ],
          [
           "if i did not have insurance for 4-5 months due to <unk> a job and am getting new insurance from a new job and i found out i had diabetes in between jobs would new insurance cover that ?"
          ],
          [
           "where can you find the information about the diabetes treatment over the internet ?"
          ],
          [
           "when checking your sugar levels what is good ?"
          ],
          [
           "diabetic diet tips ?"
          ],
          [
           "what foods should a diabetic eat after diarrhea ?"
          ],
          [
           "who does diabetes <unk> type2 and gestational diabetes affect ?"
          ],
          [
           "what is released after your blood sugar level is too high ?"
          ],
          [
           "what are a list of foods for diabetics ?"
          ],
          [
           "characteristic of type one diabetes mellitus ?"
          ],
          [
           "when you have sweets and get sleepy do you have diabetes ?"
          ],
          [
           "are there any natural remedies that work the same as taking diabetes medicine ?"
          ],
          [
           "what is diabetes two ?"
          ],
          [
           "how diabetes mellitus develops ?"
          ],
          [
           "is a diabetic diet good for someone who is not diabetic ?"
          ],
          [
           "what would happen if the pancreas stopped releasing insulin ?"
          ],
          [
           "can you die from diabetes if you have had it for a long time ?"
          ],
          [
           "how much is two grams of sugar ?"
          ],
          [
           "side effects of insulin ?"
          ],
          [
           "what type of diabetes mellitus would you expect to have at the age four ?"
          ],
          [
           "why glycogen in muscle can not be delivered as glucose into the blood ?"
          ],
          [
           "what age does diabetes first become <unk> ?"
          ],
          [
           "when blood glucose levels rise what happens ?"
          ],
          [
           "how does diabetes affect the smell of urine ?"
          ],
          [
           "what <unk> causes the <unk> to fall ?"
          ],
          [
           "why blurred vision in diabetic on insulin ?"
          ],
          [
           "is five point eight or six point five blood sugar normal ?"
          ],
          [
           "where can i get information on a blood sugar chart ?"
          ],
          [
           "how can genetic engineering be used to treat diabetes ?"
          ],
          [
           "what are the normal blood sugar levels ?"
          ],
          [
           "are there different types of diabetes ?"
          ],
          [
           "where can dessert recipes for diabetics be found ?"
          ],
          [
           "how can you tell if your cat gets diabetes ?"
          ],
          [
           "how vitamin or fiber deficiency contributed to the onset diabetes ?"
          ],
          [
           "can you receive social security disability with diabetic <unk> ?"
          ],
          [
           "common diabetes signs ?"
          ],
          [
           "what is your blood sugar when you go into a diabetic coma ?"
          ],
          [
           "can diabetes cause severe depression ?"
          ],
          [
           "where can one find <unk> information on living with diabetes ?"
          ],
          [
           "what may contribute to the onset of type ii diabetes ?"
          ],
          [
           "what are the effects of diabetes ?"
          ],
          [
           "what does high glucose mean ?"
          ],
          [
           "can a diabetic use electric <unk> ?"
          ],
          [
           "how do you keep diabetes under control ?"
          ],
          [
           "what can remedy diabetes high blood sugar levels ?"
          ],
          [
           "which condition may progress to diabetic ketoacidosis ?"
          ],
          [
           "what jobs can diabetics do ?"
          ],
          [
           "can diabetics drink <unk> ?"
          ],
          [
           "where to buy diabetic testing supplies ?"
          ],
          [
           "why do doctors think diabetes might be a virus ?"
          ],
          [
           "if you are dying and you have diabetes should treatment for the diabetes be stopped ?"
          ],
          [
           "is black sugar suitable for diabetic patient ?"
          ],
          [
           "does an insulin pump help regulate blood sugar levels in type i diabetics ?"
          ],
          [
           "how many carbs should you have as a diabetic ?"
          ],
          [
           "what are the risks of high blood sugar ?"
          ],
          [
           "you have <unk> depression no sex drive <unk> liver maybe diabetes high bp pain dr wont test you ?"
          ],
          [
           "how can you treat diabetes except for injecting insulin ?"
          ],
          [
           "normal blood glucose reading ?"
          ],
          [
           "what are the risks of a diabetic patient having a spinal cyst surgically removed ?"
          ],
          [
           "what does diabetic neuropathy treatment entail ?"
          ],
          [
           "can diabetic patients eat sweet corn ?"
          ],
          [
           "what do the blood sugar levels read after you have eaten ?"
          ],
          [
           "what is a diabetic emergency caused by very high blood sugar ?"
          ],
          [
           "can a urine sample prove alcohol consumption from a diabetic ?"
          ],
          [
           "how do you find out if you are a diabetic ?"
          ],
          [
           "where can i find a diabetic food list ?"
          ],
          [
           "can diabetics drink <unk> blue ?"
          ],
          [
           "what is the difference between type one diabetes and type two diabetes ?"
          ],
          [
           "what happens if someone drink insulin human mix <unk> fifty ?"
          ],
          [
           "what is juvenal diabetes ?"
          ],
          [
           "how does nick jonas brothers help him through living with diabetes ?"
          ],
          [
           "is seven point five a type two diabetic ?"
          ],
          [
           "can you use any function inside isr ?"
          ],
          [
           "diabetes and the eyes ?"
          ],
          [
           "can diabetics on insulin go to weight watchers ?"
          ],
          [
           "can you eat spinach if you are diabetic ?"
          ],
          [
           "how do you get diabet es ?"
          ],
          [
           "what are some great diabetic recipes ?"
          ],
          [
           "is a high level of a1c blood sugar bad ?"
          ],
          [
           "is diabetes for life ?"
          ],
          [
           "what is <unk> ?"
          ],
          [
           "what kind of <unk> can do a diabetic ?"
          ],
          [
           "how do diabetics reduce blood sugar ?"
          ],
          [
           "what helps diabetes ?"
          ],
          [
           "if using a tuberculin syringe instead of insulin <unk> much insulin should i draw up ?"
          ],
          [
           "where did the name diabetes come from ?"
          ],
          [
           "what are the treatments for dog diabetes ?"
          ],
          [
           "what does an alt lab test screen for ?"
          ],
          [
           "where can i find out more about diabetic cooking ?"
          ],
          [
           "what type of milk is good for a diabetic person ?"
          ],
          [
           "what is diabetic <unk> ?"
          ],
          [
           "how many children in the us have type two diabetes ?"
          ],
          [
           "why wound healing is <unk> in diabetes ?"
          ],
          [
           "what country has the highest diabetic rate ?"
          ],
          [
           "what can you get your diabetic girlfriend for <unk> is day ?"
          ],
          [
           "why diabetic people experience acetone in ther breath ?"
          ],
          [
           "can you have a tattoo if your diabetic ?"
          ],
          [
           "where can i find trustworthy advice about the illness diabetes mellitus ?"
          ],
          [
           "who <unk> if nick is the only one with diabetes in his family ?"
          ],
          [
           "which is <unk> diabetes or patients ' diabetes ?"
          ],
          [
           "what condition is a complication of diabetes mellitus ?"
          ],
          [
           "what are the symptoms of high glucose levels ?"
          ],
          [
           "what kind of doctor should a diabetic see ?"
          ],
          [
           "can <unk> blood improve blood sugar level ?"
          ],
          [
           "what is the most important guideline for treatment of diabetes two ?"
          ],
          [
           "where can i find a good sugar diabetes diet ?"
          ],
          [
           "how many grams of sugar should you eat per day when borderline diabetic ?"
          ],
          [
           "what is diabetes mellitus characterized by ?"
          ],
          [
           "how can <unk> prevent type two diabetes ?"
          ],
          [
           "are there any websites that can help me find pre diabetic diet ?"
          ],
          [
           "is having a blood sugar level greater than six hundred dangerous ?"
          ],
          [
           "how sick is a person if they wear an insulin pump ?"
          ],
          [
           "what is the normal range of blood sugar for diabetic ?"
          ],
          [
           "what are the dangers of consuming cheap diabetic supplies ?"
          ],
          [
           "what is diabetes inspidus ?"
          ],
          [
           "how do people with type two diabetes look ?"
          ],
          [
           "how does diabetes affect your health ?"
          ],
          [
           "can you get diabetes after fifty years old ?"
          ],
          [
           "what is diabetes insipidus ?"
          ],
          [
           "dominant traits are represented by a lower case letter and recessive traits are represented by an upper case letter ?"
          ],
          [
           "how does exercise lower blood sugars ?"
          ],
          [
           "what is a doctor who treats diabetes called ?"
          ],
          [
           "can insulin be taken orally for type two diabetes ?"
          ],
          [
           "what gland is essential in the metabolism of <unk> and reduces blood sugar ?"
          ],
          [
           "what is the term used to describe a disorder characterized by a <unk> failure to <unk> <unk> to set <unk> ?"
          ],
          [
           "where can i find diabetes care ?"
          ],
          [
           "explain how local <unk> can influence the local pattern of <unk> ?"
          ],
          [
           "can eating <unk> if you are diabetic harmful ?"
          ],
          [
           "what are the signs and syptoms of being diabetic ?"
          ],
          [
           "why would high <unk> levels slow blood clotting time ?"
          ],
          [
           "what are chances of kids developing diabetes if father has type1 diabetes ?"
          ],
          [
           "can diabetes cause <unk> ?"
          ],
          [
           "can people under twenty have diabetes ?"
          ],
          [
           "who is more likely to develop diabetic ketoacidosis ?"
          ],
          [
           "can you be denied life insurance if you have diabetes ?"
          ],
          [
           "diabetic monitors ?"
          ],
          [
           "<unk> liver salts and diabetics ?"
          ],
          [
           "how does diabetes affect vision ?"
          ],
          [
           "do you need a comma in this sentence vascular disease secondary to diabetes is small vessel disease ?"
          ],
          [
           "what makes insulin in your body ?"
          ],
          [
           "should you go to the emergency room for a three hundred and forty eight glucose reading ?"
          ],
          [
           "life expectancy of type one diabetic ?"
          ],
          [
           "how do you treat <unk> ?"
          ],
          [
           "i think my husband is cheating on me while i am <unk> in <unk> and he is in <unk> , <unk> . i would like to know if a private <unk> can assist and how much would it cost . ?"
          ],
          [
           "how many black people get diabetes a year ?"
          ],
          [
           "how is diabetes controlled ?"
          ],
          [
           "what are some tasty , easy diabetic cheesecake recipes ?"
          ],
          [
           "where can i find information about weight loss for diabetics ?"
          ],
          [
           "can diabetes be spread through a used needle prick ?"
          ],
          [
           "does beer or wine have a high sugar content ?"
          ],
          [
           "is seven point one a high reading for diabetes you are not diabetic why i am not diabetic ?"
          ],
          [
           "does a period affect type one diabetes ?"
          ],
          [
           "how many calories should a type two diabetic consume daily ?"
          ],
          [
           "where can i find a sample diabetes menu ?"
          ],
          [
           "is type ii diabetes contagious ?"
          ],
          [
           "why are diabetics overweight ?"
          ],
          [
           "what is post prandial ?"
          ],
          [
           "is diabetes a disability ?"
          ],
          [
           "are there any websites that can help me find diabetes dtour diet ?"
          ],
          [
           "how important is diabetes diet chart with type two form of diabetes ?"
          ],
          [
           "why would insulin not bring down a high sugar reading ?"
          ],
          [
           "effects of diabetes mellitus ?"
          ],
          [
           "how do i <unk> the symptoms of diabetes ?"
          ],
          [
           "can diabetes cause nausea ?"
          ],
          [
           "does medicaid cover diabetic supplies ?"
          ],
          [
           "explain how viruses might be used to copy the gene for producing human insulin ?"
          ],
          [
           "hormone responsible for diabetes ?"
          ],
          [
           "can people with diabetes eat bread ?"
          ],
          [
           "how diabetes cause decrease in immunity ?"
          ],
          [
           "where can i find free diabetic menus ?"
          ],
          [
           "why ants do not eat glucose ?"
          ],
          [
           "what type of small insect is the one that <unk> your bathroom and <unk> around your body ?"
          ],
          [
           "what classification of acidosis is diabetic ketoacidosis ?"
          ],
          [
           "can you drink protein shake like monster milk with type two diabetes ?"
          ],
          [
           "can heat effect the <unk> of herpes type two ?"
          ],
          [
           "how much sugar can a diabetic with a reading of <unk> of insulin have per day <unk> ?"
          ],
          [
           "what foods should a diabetic not have ?"
          ],
          [
           "what organs does smoking effect ?"
          ],
          [
           "why do you suddenly fall asleep after eating ?"
          ],
          [
           "do they let diabetics do any part of the marine <unk> ?"
          ],
          [
           "what are the implications of <unk> triglycerides ' ?"
          ],
          [
           "what is <unk> <unk> ?"
          ],
          [
           "does diet affect the development of diabetes ?"
          ],
          [
           "how are the lives of diabetic and non diabetic the same ?"
          ],
          [
           "how do you run without having lactic acid build up and also what foods should you eat when in training ?"
          ],
          [
           "what type of disease is diabetes ?"
          ],
          [
           "can type one diabetes be cured ?"
          ],
          [
           "what medications are used to treat diabetes mellitus ?"
          ],
          [
           "how does a no sugar diet works ?"
          ],
          [
           "early signs of diabetes mellitus ?"
          ],
          [
           "can diabetics go on a seven day cabbage soup diet ?"
          ],
          [
           "can a diabetic woman mate with a diabetic man ?"
          ],
          [
           "what preparation should be used with caution in diabetic patients tincture syrup <unk> <unk> ?"
          ],
          [
           "what causes urine specific <unk> to be high ?"
          ],
          [
           "does smoking give you high blood sugar ?"
          ],
          [
           "is the regular diabetic food list appropriate for people with gestational diabetes ?"
          ],
          [
           "can diabetes tab metforin be taken with cold meds ?"
          ],
          [
           "what hormone controls amount of sugar in the blood ?"
          ],
          [
           "is byetta a new diabetes drug made of <unk> <unk> ?"
          ],
          [
           "what is the importance of testing for electrolyte levels and what can happen if the electrolyte levels are not in balance ?"
          ],
          [
           "why do the diabetic patients have more urine excretion ?"
          ],
          [
           "what is a reputable diabetic cookbook to purchase online ?"
          ],
          [
           "does taking vitamin c increase your blood sugar level ?"
          ],
          [
           "what will heal a chronic rash under <unk> of diabetic ?"
          ],
          [
           "can you treat type one diabetes be treated ?"
          ],
          [
           "is it ok to drink diet pop with alcohol when you have diabetes ?"
          ],
          [
           "what side affects does <unk> nine cause on your body after you use it ?"
          ],
          [
           "can a diabetic eat <unk> ?"
          ],
          [
           "is swollen lower legs a symptom of diabetes ?"
          ],
          [
           "what is one medication that must be used for type one diabetes ?"
          ],
          [
           "controlling diabetes ?"
          ],
          [
           "what is an acceptable blood sugar range <unk> two hours after a meal ?"
          ],
          [
           "can agent orange cause pancreatic cancer if it can cause diabetes ?"
          ],
          [
           "what is an average good blood glucose reading ?"
          ],
          [
           "how is blood sugar measured ?"
          ],
          [
           "diabetic recipes free ?"
          ],
          [
           "is type one diabetes sex-linked or <unk> ?"
          ],
          [
           "where can i find more information on diabetes dtour diet ?"
          ],
          [
           "did <unk> winters die of diabetes ?"
          ],
          [
           "how can glucose be removed from the bloodstream ?"
          ],
          [
           "what is a disease in which blood glucose levels are above normal ?"
          ],
          [
           "can you transfer diabetes through blood ?"
          ],
          [
           "one hour after eating for a diabetic ?"
          ],
          [
           "where did the word diabetes <unk> ?"
          ],
          [
           "what medicine do people with type one diabetes have to take ?"
          ],
          [
           "what is hypoglycemic coma ?"
          ],
          [
           "if your diabetes are good do you still have to take your oral medicines ?"
          ],
          [
           "what are the symptoms that <unk> between type i and type ii diabetes ?"
          ],
          [
           "will a type one diabetic male produce children with type one diabetes ?"
          ],
          [
           "should a diabetic eat rice ?"
          ],
          [
           "will <unk> not show up in a drug test if youre a diabetic ?"
          ],
          [
           "what is <unk> cysts ?"
          ],
          [
           "what percentage of the world is population have diabetes ?"
          ],
          [
           "what are the physiologic mechanisms involved in polydipsia polyuria and polyphagia in diabetes mellitus ?"
          ],
          [
           "what is the normal blood sugar level for adults ?"
          ],
          [
           "treatments for type one of diabetes ?"
          ],
          [
           "how does diabetes effect the human body ?"
          ],
          [
           "which type of diabetes may involve injections of insulin ?"
          ],
          [
           "what types of people are most susceptible to <unk> syndrome ?"
          ],
          [
           "what are the side effects of tetanus vaccination in adults ?"
          ],
          [
           "is diabetes an allergy ?"
          ],
          [
           "insulin is a protein but <unk> is ?"
          ],
          [
           "can a person with type one diabetes become a type two diabetic ?"
          ],
          [
           "what are diabetes early signs ?"
          ],
          [
           "what is the cost for an insulin <unk> pump ?"
          ],
          [
           "what symptoms show signs of diabetes ?"
          ],
          [
           "the nurse <unk> the polyuria seen in clients with untreated diabetes mellitus with which physiologic response ?"
          ],
          [
           "what foods must be avoided on the american diabetes association diet ?"
          ],
          [
           "can diabetes mellitus cause health problems ?"
          ],
          [
           "what is one reason for the change in wound healing time in a diabetic is that ?"
          ],
          [
           "can you be a diabetic and be in <unk> ?"
          ],
          [
           "what painkillers can a diabetic take ?"
          ],
          [
           "where can i get diabetes supplies ?"
          ],
          [
           "what if blood sugar is one hundred and twenty nine ?"
          ],
          [
           "what causes insulin ?"
          ],
          [
           "what foods can i eat to avoid diabetic complications ?"
          ],
          [
           "what happens when body does not produce or properly use insulin ?"
          ],
          [
           "where can i purchase diabetic socks ?"
          ],
          [
           "why do people get diabetes type two ?"
          ],
          [
           "how do you diagnose diabetes insipidus ?"
          ],
          [
           "when a person with diabetes sugar level are out of control are they going to live long ?"
          ],
          [
           "is insulin a carbohydrate ?"
          ],
          [
           "where can gangrene be found ?"
          ],
          [
           "what can happen if you take an overdose of insulin ?"
          ],
          [
           "what foods are not allowed on a diabetic food list ?"
          ],
          [
           "what medications cause blood glucose levels to rise ?"
          ],
          [
           "what are the types of diabetes children can develop and the symptoms related to these ?"
          ],
          [
           "how much weight can you loose due to diabetes ?"
          ],
          [
           "what do you do if your blood sugar is low ?"
          ],
          [
           "what is an <unk> ?"
          ],
          [
           "how does a diabetic use a diabetic strip ?"
          ],
          [
           "does ham effect blood sugar ?"
          ],
          [
           "what is honeymoon period in diabetes mellitus ?"
          ],
          [
           "can you get a diabetes from someone who has one ?"
          ],
          [
           "how many forms of diabetes exist ?"
          ],
          [
           "regular exercise may prevent the onset of what type of diabetes ?"
          ],
          [
           "why do people get diabetes ?"
          ],
          [
           "how does diet affect diabetes ?"
          ],
          [
           "how dangerous are high blood sugar levels ?"
          ],
          [
           "where can one find diabetic diet menus ?"
          ],
          [
           "guidelines for a diabetic diet sheet ?"
          ],
          [
           "where online can i find diabetic carrot cake recipes ?"
          ],
          [
           "any cures for type one diabetes ?"
          ],
          [
           "what famous people have diabetes ?"
          ],
          [
           "will drinking lots of water help to lower your blood sugar quickly ?"
          ],
          [
           "how does diabetes effect the immune system ?"
          ],
          [
           "what does a glucose meter measure ?"
          ],
          [
           "what is <unk> ?"
          ],
          [
           "name of black actress in diabetes care club ?"
          ],
          [
           "what do people have that can not regulate sugar level in their blood properly ?"
          ],
          [
           "what part of the body does diabeties affect ?"
          ]
         ],
         "hovertemplate": "pc_1=%{x}<br>pc_2=%{y}<br>pc_3=%{z}<br>question=%{customdata[0]}<br>color=%{marker.color}<extra></extra>",
         "legendgroup": "",
         "marker": {
          "color": [
           2,
           1,
           -1,
           15,
           -1,
           9,
           0,
           -1,
           13,
           -1,
           0,
           -1,
           2,
           1,
           -1,
           -1,
           -1,
           -1,
           1,
           -1,
           -1,
           7,
           -1,
           0,
           8,
           -1,
           -1,
           -1,
           -1,
           2,
           -1,
           2,
           -1,
           -1,
           1,
           0,
           3,
           -1,
           0,
           12,
           -1,
           -1,
           -1,
           -1,
           8,
           12,
           6,
           7,
           2,
           4,
           7,
           6,
           7,
           0,
           -1,
           -1,
           -1,
           -1,
           9,
           -1,
           -1,
           -1,
           3,
           -1,
           -1,
           -1,
           19,
           20,
           -1,
           -1,
           6,
           9,
           20,
           -1,
           15,
           -1,
           -1,
           13,
           -1,
           14,
           -1,
           6,
           10,
           -1,
           8,
           10,
           2,
           -1,
           -1,
           5,
           -1,
           -1,
           20,
           -1,
           0,
           7,
           -1,
           6,
           7,
           -1,
           -1,
           5,
           -1,
           -1,
           1,
           6,
           -1,
           -1,
           11,
           -1,
           9,
           -1,
           2,
           16,
           -1,
           -1,
           19,
           9,
           -1,
           -1,
           -1,
           5,
           2,
           -1,
           -1,
           -1,
           0,
           -1,
           5,
           11,
           7,
           -1,
           -1,
           -1,
           -1,
           -1,
           -1,
           6,
           -1,
           -1,
           -1,
           -1,
           2,
           -1,
           -1,
           6,
           -1,
           14,
           -1,
           -1,
           -1,
           11,
           -1,
           -1,
           2,
           6,
           6,
           -1,
           -1,
           -1,
           14,
           -1,
           -1,
           0,
           17,
           -1,
           -1,
           12,
           -1,
           -1,
           -1,
           5,
           -1,
           -1,
           -1,
           8,
           11,
           -1,
           -1,
           -1,
           11,
           2,
           1,
           2,
           -1,
           0,
           -1,
           6,
           -1,
           -1,
           -1,
           -1,
           -1,
           9,
           7,
           -1,
           5,
           7,
           -1,
           -1,
           -1,
           7,
           7,
           1,
           -1,
           -1,
           8,
           15,
           -1,
           6,
           7,
           8,
           4,
           -1,
           8,
           7,
           -1,
           9,
           -1,
           8,
           12,
           13,
           -1,
           3,
           -1,
           -1,
           7,
           -1,
           -1,
           1,
           17,
           -1,
           -1,
           13,
           -1,
           -1,
           -1,
           -1,
           -1,
           2,
           -1,
           -1,
           10,
           -1,
           16,
           -1,
           -1,
           13,
           -1,
           -1,
           -1,
           -1,
           -1,
           5,
           -1,
           -1,
           -1,
           -1,
           9,
           -1,
           0,
           -1,
           5,
           -1,
           -1,
           -1,
           -1,
           13,
           -1,
           1,
           -1,
           19,
           -1,
           -1,
           -1,
           -1,
           1,
           -1,
           8,
           -1,
           -1,
           -1,
           -1,
           -1,
           -1,
           1,
           11,
           1,
           -1,
           -1,
           -1,
           -1,
           -1,
           -1,
           4,
           -1,
           -1,
           -1,
           10,
           12,
           -1,
           -1,
           -1,
           3,
           -1,
           -1,
           -1,
           12,
           3,
           -1,
           -1,
           1,
           -1,
           -1,
           1,
           -1,
           -1,
           -1,
           0,
           -1,
           10,
           -1,
           -1,
           -1,
           -1,
           11,
           7,
           -1,
           -1,
           -1,
           13,
           -1,
           14,
           -1,
           7,
           -1,
           13,
           -1,
           9,
           -1,
           -1,
           -1,
           -1,
           17,
           7,
           -1,
           -1,
           6,
           6,
           -1,
           9,
           -1,
           -1,
           -1,
           9,
           -1,
           16,
           -1,
           -1,
           -1,
           19,
           -1,
           -1,
           -1,
           -1,
           -1,
           14,
           -1,
           -1,
           -1,
           -1,
           2,
           5,
           -1,
           -1,
           7,
           -1,
           11,
           -1,
           2,
           -1,
           -1,
           -1,
           -1,
           -1,
           1,
           12,
           -1,
           -1,
           15,
           -1,
           5,
           -1,
           -1,
           19,
           -1,
           2,
           -1,
           7,
           -1,
           -1,
           3,
           -1,
           18,
           5,
           -1,
           -1,
           -1,
           -1,
           7,
           -1,
           10,
           -1,
           -1,
           -1,
           -1,
           -1,
           4,
           -1,
           14,
           5,
           7,
           -1,
           -1,
           -1,
           -1,
           -1,
           -1,
           -1,
           -1,
           1,
           -1,
           1,
           5,
           2,
           0,
           -1,
           -1,
           7,
           8,
           -1,
           5,
           -1,
           7,
           -1,
           16,
           9,
           -1,
           5,
           -1,
           -1,
           -1,
           -1,
           -1,
           10,
           -1,
           -1,
           0,
           5,
           17,
           -1,
           -1,
           11,
           -1,
           14,
           -1,
           -1,
           -1,
           14,
           -1,
           2,
           6,
           -1,
           -1,
           0,
           6,
           18,
           -1,
           -1,
           -1,
           2,
           -1,
           -1,
           -1,
           20,
           -1,
           -1,
           5,
           7,
           -1,
           -1,
           6,
           6,
           -1,
           7,
           -1,
           9,
           -1,
           -1,
           2,
           2,
           -1,
           -1,
           -1,
           9,
           6,
           -1,
           -1,
           12,
           0,
           -1,
           -1,
           0,
           -1,
           5,
           -1,
           -1,
           -1,
           0,
           16,
           0,
           0,
           -1,
           -1,
           20,
           4,
           -1,
           6,
           -1,
           -1,
           -1,
           -1,
           -1,
           -1,
           7,
           -1,
           1,
           -1,
           9,
           -1,
           -1,
           -1,
           -1,
           2,
           -1,
           16,
           16,
           2,
           7,
           -1,
           -1,
           -1,
           -1,
           -1,
           16,
           2,
           -1,
           11,
           16,
           -1,
           -1,
           5,
           -1,
           7,
           -1,
           -1,
           -1,
           2,
           -1,
           2,
           -1,
           7,
           8,
           -1,
           13,
           6,
           -1,
           -1,
           2,
           -1,
           -1,
           -1,
           -1,
           8,
           -1,
           5,
           -1,
           2,
           12,
           -1,
           2,
           1,
           -1,
           -1,
           1,
           1,
           -1,
           5,
           17,
           -1,
           15,
           -1,
           8,
           2,
           -1,
           3,
           -1,
           1,
           -1,
           10,
           19,
           0,
           6,
           15,
           2,
           1,
           -1,
           -1,
           -1,
           8,
           9,
           7,
           -1,
           -1,
           -1,
           2,
           1,
           -1,
           6,
           -1,
           -1,
           0,
           -1,
           -1,
           -1,
           3,
           -1,
           -1,
           10,
           -1,
           15,
           10,
           1,
           -1,
           -1,
           -1,
           13,
           -1,
           -1,
           -1,
           3,
           1,
           1,
           -1,
           2,
           12,
           -1,
           -1,
           -1,
           1,
           -1,
           -1,
           13,
           5,
           -1,
           7,
           4,
           -1,
           -1,
           7,
           -1,
           -1,
           -1,
           -1,
           0,
           -1,
           6,
           18,
           -1,
           18,
           0,
           0,
           0,
           -1,
           -1,
           8,
           10,
           -1,
           20,
           2,
           0,
           10,
           1,
           -1,
           2,
           -1,
           1,
           1,
           -1,
           -1,
           -1,
           -1,
           7,
           -1,
           -1,
           2,
           14,
           -1,
           -1,
           2,
           -1,
           5,
           -1,
           -1,
           -1,
           14,
           0,
           -1,
           -1,
           -1,
           -1,
           -1,
           2,
           -1,
           -1,
           -1,
           3,
           -1,
           0,
           -1,
           12,
           -1,
           15,
           2,
           2,
           0,
           16,
           2,
           -1,
           -1,
           -1,
           -1,
           2,
           0,
           -1,
           14,
           -1,
           -1,
           5,
           -1,
           -1,
           -1,
           6,
           2,
           -1,
           -1,
           -1,
           -1,
           -1,
           0,
           -1,
           -1,
           1,
           16,
           -1,
           0,
           2,
           6,
           -1,
           9,
           9,
           2,
           -1,
           -1,
           -1,
           -1,
           2,
           -1,
           14,
           7,
           2,
           -1,
           9,
           20,
           -1,
           -1,
           -1,
           7,
           -1,
           -1,
           7,
           -1,
           -1,
           5,
           -1,
           7,
           -1,
           7,
           14,
           12,
           -1,
           -1,
           -1,
           -1,
           -1,
           0,
           -1,
           12,
           -1,
           10,
           12,
           5,
           -1,
           2,
           -1,
           -1,
           0,
           -1,
           -1,
           11,
           -1,
           -1,
           -1,
           -1,
           -1,
           0,
           -1,
           -1,
           -1,
           13,
           -1,
           -1,
           2,
           -1,
           -1,
           2,
           14,
           9,
           -1,
           5,
           -1,
           -1,
           -1,
           -1,
           -1,
           9,
           -1,
           19,
           -1,
           -1,
           -1,
           11,
           -1,
           -1,
           18,
           -1,
           -1,
           8,
           -1,
           -1,
           -1,
           -1,
           11,
           -1,
           -1,
           -1,
           8,
           -1,
           -1,
           -1,
           -1,
           15,
           3,
           20,
           2,
           -1,
           -1,
           1,
           -1,
           11,
           -1,
           18,
           0,
           -1,
           -1,
           -1,
           -1,
           -1,
           -1,
           -1,
           -1,
           -1,
           -1,
           -1,
           -1,
           -1,
           16,
           -1,
           -1,
           20,
           3,
           13,
           10,
           15,
           -1,
           7,
           6,
           -1,
           0,
           10,
           -1,
           -1,
           6,
           9,
           5,
           -1,
           -1,
           9,
           -1,
           11,
           14,
           -1,
           -1,
           -1,
           19,
           19,
           -1,
           -1,
           7,
           -1,
           2,
           -1,
           -1,
           -1,
           -1,
           17,
           0,
           8,
           -1,
           -1,
           -1,
           16,
           -1,
           -1,
           -1,
           2,
           14,
           -1,
           7,
           14,
           -1,
           11,
           2,
           -1,
           15,
           -1,
           -1,
           -1,
           2,
           -1,
           -1,
           12,
           5,
           -1,
           9,
           -1,
           -1,
           1,
           15,
           -1,
           -1,
           9,
           -1,
           17,
           -1,
           7,
           20,
           2,
           3,
           -1,
           -1,
           -1,
           -1,
           -1,
           -1,
           -1,
           12,
           -1,
           2,
           -1,
           0,
           -1,
           19,
           5,
           0,
           -1,
           -1,
           -1,
           -1,
           9,
           -1,
           -1,
           -1,
           2,
           -1,
           2,
           11,
           0,
           17,
           2,
           -1,
           -1,
           -1,
           2,
           11,
           -1,
           12,
           0,
           -1,
           -1,
           -1,
           15,
           -1,
           7,
           -1,
           7,
           -1,
           -1,
           2,
           -1,
           4,
           7,
           19,
           17,
           -1,
           7,
           15,
           -1,
           0,
           12,
           -1,
           -1,
           -1,
           -1,
           0,
           -1,
           -1,
           20,
           0,
           15,
           -1,
           -1,
           6,
           -1,
           7,
           -1,
           -1,
           -1,
           -1,
           0,
           -1,
           7,
           -1,
           3,
           1,
           10,
           9,
           19,
           -1,
           3,
           -1,
           16,
           7,
           16,
           -1,
           -1,
           -1,
           9,
           -1,
           -1,
           -1,
           -1,
           -1,
           1,
           4,
           -1,
           -1,
           -1,
           -1,
           2,
           -1,
           -1,
           7,
           5,
           -1,
           6,
           10,
           15,
           -1,
           7,
           17,
           8,
           -1,
           7,
           -1,
           7,
           9,
           2,
           15,
           19,
           -1,
           2,
           -1,
           1,
           3,
           5,
           13,
           2,
           -1,
           4,
           -1,
           -1,
           13,
           -1,
           -1,
           2,
           2,
           6,
           18,
           -1,
           2,
           11,
           7,
           1,
           17,
           -1,
           -1,
           3,
           15,
           1,
           -1,
           -1,
           -1,
           10,
           -1,
           8,
           -1,
           2,
           11,
           0,
           -1,
           -1,
           -1,
           8,
           -1,
           -1,
           0,
           14,
           2,
           -1,
           -1,
           0,
           4,
           -1,
           -1,
           2,
           -1,
           -1,
           18,
           5,
           -1,
           -1,
           -1,
           -1,
           8,
           2,
           -1,
           -1,
           5,
           -1,
           5,
           -1,
           -1,
           1,
           -1,
           -1,
           11,
           0,
           -1,
           17,
           -1,
           9,
           9,
           -1,
           -1,
           7,
           -1,
           0,
           0,
           -1,
           -1,
           3,
           -1,
           -1,
           2,
           -1,
           -1,
           7,
           6,
           -1,
           -1,
           -1,
           -1,
           9,
           5,
           -1,
           11,
           4,
           0,
           1,
           -1,
           7,
           -1,
           -1,
           7,
           -1,
           9,
           6,
           -1,
           -1,
           5,
           -1,
           -1,
           -1,
           -1,
           15,
           -1,
           3,
           -1,
           0,
           -1,
           6,
           0,
           1,
           -1,
           -1,
           -1,
           -1,
           4,
           0,
           12,
           -1,
           7,
           3,
           15,
           -1,
           19,
           2,
           0,
           -1,
           5,
           5,
           -1,
           0,
           13,
           -1,
           11,
           -1,
           2,
           -1,
           -1,
           -1,
           11,
           7,
           15,
           7,
           -1,
           -1,
           13,
           2,
           0,
           0,
           -1,
           17,
           1,
           -1,
           2,
           3,
           -1,
           17,
           1,
           7,
           17,
           -1,
           -1,
           -1,
           20,
           9,
           0,
           7,
           -1,
           2,
           5,
           11,
           -1,
           13,
           -1,
           14,
           -1,
           2,
           -1,
           3,
           2,
           16,
           -1,
           7,
           0,
           -1,
           -1,
           -1,
           -1,
           -1,
           -1,
           2,
           -1,
           6,
           -1,
           15,
           -1,
           1,
           1,
           7,
           20,
           -1,
           -1,
           -1,
           -1,
           -1,
           -1,
           -1,
           -1,
           -1,
           -1,
           16,
           -1,
           -1,
           9,
           10,
           1,
           5,
           -1,
           -1,
           -1,
           -1,
           -1,
           -1,
           10,
           -1,
           -1,
           3,
           1,
           1,
           -1,
           -1,
           3,
           3,
           -1,
           18,
           2,
           -1,
           -1,
           -1,
           12,
           -1,
           15,
           -1,
           0,
           3,
           11,
           -1,
           -1,
           -1,
           -1,
           1,
           -1,
           -1,
           -1,
           5,
           -1,
           -1,
           -1,
           -1,
           2,
           -1,
           3,
           1,
           7,
           0,
           17,
           -1,
           20,
           -1,
           13,
           4,
           15,
           -1,
           0,
           -1,
           -1,
           4,
           15,
           16,
           5,
           2,
           15,
           -1,
           1,
           12,
           7,
           -1,
           -1,
           -1,
           -1,
           -1,
           1,
           -1,
           18,
           11,
           12,
           12,
           13,
           -1,
           9,
           13,
           -1,
           7,
           0,
           1,
           -1,
           -1,
           -1,
           5,
           -1,
           0,
           18,
           -1,
           -1,
           11,
           9,
           8,
           -1,
           17,
           -1,
           9,
           13,
           -1,
           4,
           -1,
           -1,
           -1,
           0,
           9,
           7,
           0,
           -1,
           -1,
           5,
           6,
           8,
           -1,
           4,
           -1,
           8,
           19,
           -1,
           -1,
           -1,
           -1,
           16,
           -1,
           -1,
           -1,
           13,
           11,
           -1,
           -1,
           0,
           -1,
           9,
           2,
           -1,
           -1,
           12,
           16,
           -1,
           18,
           7,
           -1,
           2,
           17,
           18,
           12,
           -1,
           10,
           19,
           13,
           10,
           -1,
           -1,
           6,
           9,
           -1,
           -1,
           -1,
           -1,
           7,
           -1,
           1,
           -1,
           -1,
           -1,
           10,
           -1,
           -1,
           -1,
           6,
           19,
           -1,
           11,
           -1,
           13,
           -1,
           9,
           2,
           -1,
           -1,
           -1,
           -1,
           7,
           -1,
           -1,
           -1,
           9,
           0,
           -1,
           9,
           11,
           -1,
           -1,
           -1,
           -1,
           -1,
           -1,
           -1,
           6,
           -1,
           13,
           -1,
           -1,
           20,
           10,
           -1,
           -1,
           -1,
           -1,
           -1,
           -1,
           -1,
           9,
           -1,
           -1,
           12,
           -1,
           2,
           -1,
           -1,
           7,
           17,
           -1,
           13,
           -1,
           -1,
           -1,
           -1,
           19,
           7,
           16,
           -1,
           -1,
           -1,
           -1,
           17,
           6,
           -1,
           -1,
           -1,
           -1,
           -1,
           -1,
           7,
           0,
           2,
           -1,
           -1,
           6,
           10,
           -1,
           -1,
           -1,
           -1,
           8,
           -1,
           -1,
           -1,
           -1,
           5,
           10,
           20,
           20,
           -1,
           -1,
           8,
           2,
           3,
           1,
           -1,
           9,
           -1,
           6,
           -1,
           -1,
           -1,
           -1,
           -1,
           -1,
           -1,
           2,
           -1,
           12,
           -1,
           -1,
           -1,
           7,
           -1,
           3,
           -1,
           9,
           17,
           -1,
           1,
           -1,
           5,
           7,
           10,
           -1,
           6,
           0,
           19,
           1,
           -1,
           -1,
           -1,
           12,
           -1,
           -1,
           2,
           -1,
           -1,
           7,
           15,
           9,
           9,
           -1,
           4,
           -1,
           7,
           2,
           0,
           11,
           -1,
           -1,
           10,
           -1,
           20,
           18,
           -1,
           5,
           7,
           7,
           -1,
           1,
           12,
           13,
           19,
           7,
           16,
           -1,
           2,
           13,
           -1,
           11,
           0,
           7,
           -1,
           20,
           16,
           2,
           14,
           -1,
           4,
           -1,
           0,
           5,
           0,
           -1,
           2,
           7,
           -1,
           -1,
           -1,
           -1,
           -1,
           -1,
           -1,
           3,
           2,
           -1,
           0,
           2,
           -1,
           -1,
           8,
           -1,
           -1,
           -1,
           9,
           -1,
           -1,
           3,
           9,
           -1,
           -1,
           -1,
           -1,
           5,
           10,
           13,
           -1,
           11,
           2,
           12,
           10,
           -1,
           -1,
           2,
           -1,
           -1,
           0,
           16,
           7,
           -1,
           -1,
           5,
           1,
           -1,
           -1,
           9,
           -1,
           16,
           11,
           18,
           14,
           13,
           -1,
           12,
           -1,
           18,
           9,
           9,
           6,
           -1,
           -1,
           11,
           13,
           -1,
           -1,
           1,
           3,
           7,
           13,
           -1,
           -1,
           -1,
           -1,
           -1,
           -1,
           -1,
           11,
           0,
           2,
           -1,
           -1,
           -1,
           4,
           8,
           1,
           0,
           19,
           -1,
           7,
           -1,
           -1,
           -1,
           -1,
           -1,
           -1,
           -1,
           0,
           -1,
           5,
           -1,
           5,
           -1,
           13,
           2,
           0,
           20,
           -1,
           3,
           5,
           14,
           0,
           -1,
           -1,
           -1,
           10,
           16,
           -1,
           -1,
           -1,
           -1,
           -1,
           2,
           -1,
           7,
           13,
           6,
           10,
           2,
           -1,
           -1,
           -1,
           -1,
           7,
           -1,
           5,
           2,
           -1,
           -1,
           16,
           12,
           -1,
           -1,
           -1,
           17,
           9,
           -1,
           -1,
           -1,
           -1,
           -1,
           -1,
           0,
           -1,
           -1,
           11,
           -1,
           3,
           -1,
           -1,
           -1,
           -1,
           2,
           -1,
           13,
           2,
           -1,
           6,
           -1,
           -1,
           -1,
           12,
           -1,
           -1,
           -1,
           -1,
           1,
           16,
           -1,
           8,
           5,
           9,
           -1,
           -1,
           7,
           -1,
           -1,
           9,
           -1,
           -1,
           9,
           7,
           -1,
           -1,
           7,
           19,
           -1,
           2,
           5,
           -1,
           -1,
           2,
           18,
           -1,
           -1,
           -1,
           12,
           2,
           -1,
           -1,
           -1,
           -1,
           -1,
           20,
           7,
           -1,
           -1,
           9,
           -1,
           -1,
           6,
           13,
           9,
           6,
           10,
           9,
           -1,
           -1,
           1,
           -1,
           19,
           -1,
           -1,
           18,
           20,
           -1,
           -1,
           9,
           -1,
           0,
           -1,
           12,
           5,
           0,
           -1,
           0,
           -1,
           -1,
           0,
           -1,
           -1,
           -1,
           9,
           -1,
           -1,
           6,
           3,
           8,
           -1,
           -1,
           0,
           -1,
           9,
           2,
           2,
           9,
           -1,
           7,
           -1,
           5,
           -1,
           -1,
           15,
           14,
           9,
           14,
           14,
           -1,
           -1,
           2,
           -1,
           12,
           -1,
           0,
           -1,
           -1,
           -1,
           -1,
           16,
           -1,
           -1,
           -1,
           5,
           -1,
           -1,
           -1,
           7,
           7,
           -1,
           -1,
           9,
           -1,
           6,
           -1,
           -1,
           0,
           -1,
           2,
           -1,
           -1,
           -1,
           -1,
           -1,
           -1,
           7,
           -1,
           -1,
           -1,
           -1,
           -1,
           -1,
           -1,
           14,
           -1,
           16,
           -1,
           -1,
           -1,
           -1,
           2,
           14,
           0,
           6,
           2,
           -1,
           16,
           0,
           -1,
           2,
           -1,
           -1,
           -1,
           5,
           -1,
           -1,
           4,
           1,
           -1,
           -1,
           -1,
           -1,
           0,
           10,
           -1,
           14,
           -1,
           -1,
           -1,
           5,
           7,
           -1,
           -1,
           5,
           5,
           -1,
           -1,
           -1,
           -1,
           -1,
           0,
           -1,
           -1,
           -1,
           -1,
           4,
           7,
           -1,
           -1,
           7,
           5,
           -1,
           -1,
           2,
           -1,
           -1,
           -1,
           7,
           -1,
           5,
           18,
           -1,
           -1,
           9,
           -1,
           -1,
           20,
           -1,
           14,
           -1,
           -1,
           -1,
           -1,
           0,
           11,
           6,
           -1,
           7,
           -1,
           14,
           18,
           1,
           5,
           8,
           2,
           0,
           0,
           7,
           -1,
           -1,
           -1,
           20,
           8,
           11,
           9,
           16,
           7,
           17,
           -1,
           -1,
           4,
           8,
           -1,
           5,
           -1,
           -1,
           6,
           -1,
           3,
           -1,
           -1,
           16,
           7,
           -1,
           -1,
           3,
           -1,
           16,
           2,
           -1,
           14,
           20,
           -1,
           8,
           -1,
           -1,
           -1,
           -1,
           9,
           1,
           0,
           0,
           -1,
           -1,
           7,
           2,
           -1,
           15,
           0,
           5,
           12,
           -1,
           -1,
           19,
           -1,
           -1,
           0,
           2,
           7,
           -1,
           -1,
           2,
           -1,
           2,
           -1,
           -1,
           -1,
           5,
           -1,
           -1,
           -1,
           -1,
           7,
           -1,
           -1,
           9,
           -1,
           -1,
           20,
           16,
           -1,
           0,
           -1,
           -1,
           -1,
           -1,
           6,
           -1,
           -1,
           -1,
           -1,
           7,
           -1,
           17,
           -1,
           -1,
           -1,
           9,
           -1,
           -1,
           -1,
           -1,
           7,
           -1,
           -1,
           15,
           11,
           0,
           1,
           13,
           13,
           -1,
           11,
           1,
           -1,
           -1,
           -1,
           2,
           -1,
           -1,
           -1,
           5,
           -1,
           -1,
           17,
           16,
           10,
           3,
           8,
           15,
           -1,
           6,
           8,
           -1,
           -1,
           -1,
           12,
           -1,
           -1,
           -1,
           9,
           -1,
           -1,
           -1,
           -1,
           9,
           9,
           -1,
           -1,
           -1,
           8,
           15,
           -1,
           3,
           -1,
           9,
           -1,
           8,
           -1,
           2,
           -1,
           -1,
           4,
           1,
           1,
           -1,
           12,
           -1,
           -1,
           -1,
           -1,
           -1,
           -1,
           -1,
           -1,
           1,
           6,
           -1,
           2,
           -1,
           12,
           -1,
           -1,
           11,
           -1,
           -1,
           -1,
           1,
           1,
           -1,
           -1,
           -1,
           -1,
           1,
           -1,
           1,
           3,
           -1,
           -1,
           -1,
           -1,
           -1,
           -1,
           -1,
           0,
           12,
           -1,
           -1,
           4,
           1,
           -1,
           -1,
           -1,
           0,
           15,
           -1,
           -1,
           7,
           15,
           -1,
           3,
           -1,
           -1,
           -1,
           2,
           -1,
           10,
           -1,
           7,
           -1,
           0,
           10,
           0,
           -1,
           -1,
           -1,
           -1,
           -1,
           2,
           -1,
           11,
           17,
           -1,
           -1,
           15,
           -1,
           -1,
           -1,
           2,
           0,
           18,
           -1,
           2,
           15,
           13,
           -1,
           -1,
           -1,
           2,
           -1,
           5,
           -1,
           0,
           -1,
           -1,
           1,
           12,
           2,
           6,
           -1,
           10,
           14,
           -1,
           0,
           -1,
           7,
           -1,
           7,
           0,
           13,
           -1,
           20,
           -1,
           -1,
           7,
           -1,
           -1,
           -1,
           2,
           -1,
           -1,
           -1,
           8,
           9,
           0,
           8,
           -1,
           17,
           2,
           -1,
           13,
           -1,
           -1,
           9,
           7,
           4,
           -1,
           -1,
           -1,
           7,
           6,
           -1,
           -1,
           5,
           -1,
           -1,
           15,
           -1,
           -1,
           15,
           5,
           -1,
           3,
           1,
           -1,
           1,
           15,
           16,
           6,
           -1,
           -1,
           -1,
           -1,
           -1,
           14,
           11,
           -1,
           -1,
           -1,
           7,
           6,
           -1,
           -1,
           -1,
           -1,
           -1,
           8,
           -1,
           6,
           0,
           5,
           -1,
           19,
           -1,
           7,
           0,
           -1,
           -1,
           8,
           7,
           3,
           9,
           -1,
           -1,
           -1,
           -1,
           19,
           -1,
           0,
           11,
           7,
           -1,
           12,
           9,
           -1,
           -1,
           0,
           -1,
           -1,
           -1,
           -1,
           2,
           -1,
           -1,
           12,
           2,
           -1,
           -1,
           -1,
           0,
           20,
           -1,
           -1,
           -1,
           -1,
           -1,
           10,
           2,
           -1,
           2,
           -1,
           8,
           7,
           -1,
           -1,
           5,
           0,
           11,
           -1,
           -1,
           7,
           -1,
           10,
           9,
           3,
           -1,
           0,
           -1,
           0,
           -1,
           9,
           9,
           8,
           3,
           2,
           7,
           -1,
           16,
           -1,
           -1,
           -1,
           -1,
           -1,
           -1,
           -1,
           -1,
           -1,
           -1,
           12,
           5,
           2,
           14,
           -1,
           -1,
           -1,
           7,
           0,
           -1,
           17,
           -1,
           14,
           -1,
           -1,
           15,
           13,
           -1,
           -1,
           2,
           -1,
           -1,
           6,
           13,
           -1,
           -1,
           -1,
           -1,
           5,
           -1,
           -1,
           2,
           7,
           -1,
           -1,
           -1,
           -1,
           8,
           -1,
           -1,
           -1,
           -1,
           -1,
           -1,
           19,
           -1,
           7,
           -1,
           16,
           -1,
           12,
           12,
           7,
           19,
           -1,
           1,
           -1,
           0,
           -1,
           9,
           18,
           -1,
           -1,
           -1,
           -1,
           -1,
           13,
           8,
           -1,
           -1,
           -1,
           3,
           -1,
           12,
           0,
           -1,
           18,
           16,
           -1,
           2,
           5,
           2,
           4,
           8,
           -1,
           10,
           12,
           -1,
           -1,
           -1,
           -1,
           1,
           -1,
           5,
           15,
           0,
           -1,
           2,
           0,
           1,
           -1,
           1,
           0,
           -1,
           3,
           12,
           -1,
           7,
           10,
           -1,
           -1,
           -1,
           -1,
           -1,
           -1,
           7,
           -1,
           -1,
           -1,
           -1,
           2,
           7,
           -1,
           -1,
           -1,
           9,
           9,
           0,
           -1,
           -1,
           -1,
           -1,
           -1,
           16,
           -1,
           -1,
           12,
           3,
           3,
           -1,
           7,
           3,
           -1,
           18,
           -1,
           1,
           1,
           -1,
           0,
           18,
           -1,
           0,
           1,
           -1,
           -1,
           7,
           19,
           -1,
           -1,
           12,
           -1,
           9,
           7,
           -1,
           -1,
           9,
           9,
           4,
           -1,
           -1,
           13,
           -1,
           1,
           1,
           7,
           4,
           9,
           12,
           2,
           -1,
           8,
           6,
           -1,
           -1,
           -1,
           5,
           10,
           7,
           -1,
           9,
           7,
           2,
           2,
           8,
           -1,
           2,
           -1,
           -1,
           6,
           8,
           -1,
           -1,
           1,
           -1,
           -1,
           -1,
           -1,
           -1,
           -1,
           -1,
           2,
           5,
           -1,
           -1,
           10,
           12,
           11,
           0,
           -1,
           -1,
           -1,
           6,
           -1,
           2,
           -1,
           -1,
           2,
           10,
           -1,
           -1,
           -1,
           -1,
           -1,
           -1,
           -1,
           2,
           5,
           -1,
           -1,
           3,
           1,
           -1,
           6,
           -1,
           -1,
           7,
           2,
           1,
           -1,
           19,
           13,
           1,
           -1,
           -1,
           1,
           -1,
           -1,
           -1,
           -1,
           10,
           4,
           -1,
           12,
           -1,
           13,
           18,
           -1,
           18,
           -1,
           -1,
           19,
           -1,
           0,
           -1,
           -1,
           -1,
           -1,
           -1,
           1,
           2,
           -1,
           -1,
           -1,
           -1,
           13,
           -1,
           -1,
           -1,
           -1,
           -1,
           16,
           -1,
           -1,
           -1,
           1,
           9,
           13,
           2,
           -1,
           -1,
           -1,
           -1,
           6,
           -1,
           -1,
           2,
           -1,
           8,
           10,
           2,
           -1,
           -1,
           -1,
           -1,
           -1,
           -1,
           2,
           -1,
           -1,
           14,
           -1,
           -1,
           -1,
           10,
           -1,
           2,
           -1,
           5,
           -1,
           -1,
           7,
           -1,
           -1,
           -1,
           2,
           5,
           6,
           14,
           18,
           19,
           -1,
           -1,
           -1,
           -1,
           7,
           -1,
           7,
           5,
           2,
           -1,
           -1,
           -1,
           -1,
           7,
           -1,
           -1,
           15,
           -1,
           0,
           -1,
           -1,
           -1,
           8,
           -1,
           -1,
           15,
           -1,
           7,
           -1,
           19,
           -1,
           -1,
           -1,
           -1,
           -1,
           -1,
           11,
           0,
           11,
           -1,
           -1,
           -1,
           2,
           4,
           -1,
           -1,
           7,
           0,
           6,
           0,
           6,
           -1,
           9,
           -1,
           -1,
           -1,
           -1,
           6,
           -1,
           11,
           9,
           12,
           -1,
           -1,
           5,
           -1,
           -1,
           -1,
           -1,
           -1,
           -1,
           7,
           6,
           -1,
           6,
           -1,
           -1,
           -1,
           19,
           -1,
           -1,
           -1,
           12,
           19
          ],
          "coloraxis": "coloraxis",
          "size": 3,
          "symbol": "circle"
         },
         "mode": "markers",
         "name": "",
         "scene": "scene",
         "showlegend": false,
         "type": "scatter3d",
         "x": [
          10.830965042114258,
          -4.82896614074707,
          7.302874565124512,
          -11.606427192687988,
          -3.897873640060425,
          -6.94179105758667,
          -0.5624906420707703,
          -1.2799429893493652,
          -16.905046463012695,
          7.609378814697266,
          5.281320571899414,
          -10.769745826721191,
          13.767183303833008,
          -3.206704616546631,
          3.3008058071136475,
          7.6178975105285645,
          4.784494876861572,
          -5.867007732391357,
          -6.491274833679199,
          9.440402030944824,
          9.066007614135742,
          12.38558292388916,
          1.9438782930374146,
          -0.7822324633598328,
          -3.437281608581543,
          -0.34126153588294983,
          2.2222089767456055,
          -18.634166717529297,
          8.637921333312988,
          9.660064697265625,
          2.538398265838623,
          8.851944923400879,
          4.367880821228027,
          -0.32355639338493347,
          -5.5495100021362305,
          0.23204414546489716,
          7.645174503326416,
          -8.420201301574707,
          3.1074178218841553,
          10.240190505981445,
          -10.643924713134766,
          -0.2947632372379303,
          9.2122220993042,
          -8.074837684631348,
          -3.51924991607666,
          6.1092047691345215,
          2.561272382736206,
          16.157163619995117,
          11.198360443115234,
          -0.004254985600709915,
          13.898323059082031,
          4.432595252990723,
          16.97749900817871,
          1.3499270677566528,
          1.7355828285217285,
          -6.424824237823486,
          7.65132474899292,
          1.3049174547195435,
          -5.54563570022583,
          6.386373043060303,
          -16.979156494140625,
          5.637104511260986,
          6.540131568908691,
          7.455475807189941,
          -0.36047446727752686,
          -18.480260848999023,
          -13.036782264709473,
          -7.175806999206543,
          3.4625327587127686,
          -8.446687698364258,
          7.0025954246521,
          -4.959583282470703,
          -7.255949974060059,
          14.334158897399902,
          -15.279088973999023,
          -11.69672966003418,
          -17.233545303344727,
          -18.918378829956055,
          -20.52162742614746,
          -19.195587158203125,
          5.398319721221924,
          7.159885883331299,
          2.407590389251709,
          -7.915380477905273,
          -4.9140543937683105,
          1.5483342409133911,
          9.160972595214844,
          0.8652294874191284,
          11.970222473144531,
          4.917741775512695,
          -1.8529348373413086,
          11.123956680297852,
          -6.563841819763184,
          -21.697521209716797,
          -1.6707583665847778,
          18.193756103515625,
          -3.8478291034698486,
          3.8668394088745117,
          12.866828918457031,
          1.6540342569351196,
          -3.900831460952759,
          3.331479549407959,
          -16.976520538330078,
          -2.591411828994751,
          -3.0108468532562256,
          2.310215473175049,
          -4.868923664093018,
          -12.417624473571777,
          3.2839977741241455,
          3.5434978008270264,
          -5.534575462341309,
          -4.976949214935303,
          11.97668743133545,
          -10.88719367980957,
          -12.752246856689453,
          -19.550798416137695,
          -14.006482124328613,
          -6.795058250427246,
          6.582662105560303,
          9.866045951843262,
          8.149328231811523,
          7.025168418884277,
          11.593262672424316,
          0.11670362204313278,
          5.533888816833496,
          3.6174228191375732,
          0.15133589506149292,
          -14.360602378845215,
          7.094939708709717,
          3.045041799545288,
          17.356706619262695,
          9.31071949005127,
          3.4256179332733154,
          -0.031058792024850845,
          17.98377799987793,
          -7.446285724639893,
          -11.153031349182129,
          5.863336086273193,
          7.966975212097168,
          1.0415689945220947,
          4.6684722900390625,
          -18.284330368041992,
          13.177336692810059,
          10.276119232177734,
          -4.183797836303711,
          6.3039870262146,
          -7.573799133300781,
          -20.305130004882812,
          -3.2060580253601074,
          -4.879306793212891,
          -19.485530853271484,
          4.2452168464660645,
          -20.693723678588867,
          3.345184564590454,
          7.412545204162598,
          1.8144028186798096,
          4.8731184005737305,
          4.059296131134033,
          -8.533191680908203,
          1.063691258430481,
          -15.238895416259766,
          2.0460286140441895,
          -4.7418437004089355,
          8.015911102294922,
          -8.044559478759766,
          2.1337180137634277,
          -4.4019341468811035,
          11.129288673400879,
          -9.891475677490234,
          -7.773266315460205,
          -18.296144485473633,
          6.631189823150635,
          1.7206825017929077,
          10.088127136230469,
          5.137898921966553,
          -4.561118125915527,
          2.6378865242004395,
          -6.566763401031494,
          -7.397322654724121,
          -0.30415648221969604,
          3.1529831886291504,
          12.515151023864746,
          1.2963271141052246,
          11.698244094848633,
          -0.2999781668186188,
          0.9296704530715942,
          1.8477376699447632,
          9.09151840209961,
          -5.738081455230713,
          10.989056587219238,
          7.898895263671875,
          -0.8705819249153137,
          -13.42110538482666,
          -7.919544219970703,
          18.133167266845703,
          -4.2629618644714355,
          4.227872371673584,
          13.959432601928711,
          7.754129409790039,
          0.11587273329496384,
          -10.450803756713867,
          13.012020111083984,
          16.197004318237305,
          -0.4185045063495636,
          -8.425128936767578,
          -8.685919761657715,
          -3.521724224090576,
          -14.135418891906738,
          8.467933654785156,
          6.802998065948486,
          18.13276481628418,
          -3.95607590675354,
          -0.37187615036964417,
          -8.584311485290527,
          -1.865655779838562,
          14.350703239440918,
          7.140743732452393,
          -4.177900791168213,
          8.020048141479492,
          -6.159968376159668,
          9.032587051391602,
          -13.147476196289062,
          -16.669879913330078,
          8.935503005981445,
          -2.5306029319763184,
          -15.44857120513916,
          17.869583129882812,
          -9.4014253616333,
          -8.467850685119629,
          0.4842458665370941,
          -8.725417137145996,
          -0.9808712005615234,
          3.893789052963257,
          -18.579814910888672,
          -19.175071716308594,
          1.4861979484558105,
          -14.748018264770508,
          4.14245080947876,
          -1.1908105611801147,
          11.251753807067871,
          -12.68254280090332,
          -3.958009719848633,
          2.9773359298706055,
          3.799724578857422,
          -11.316067695617676,
          -8.483933448791504,
          -10.603084564208984,
          -14.368958473205566,
          0.6239522099494934,
          11.722296714782715,
          -16.294979095458984,
          -20.205089569091797,
          8.533116340637207,
          7.15122127532959,
          -4.328828811645508,
          11.62344741821289,
          1.2558962106704712,
          -8.597711563110352,
          -7.154827117919922,
          -0.03085210546851158,
          1.3688899278640747,
          7.8509111404418945,
          9.103464126586914,
          0.506606936454773,
          8.318804740905762,
          8.423300743103027,
          -4.0664286613464355,
          -12.91784381866455,
          8.377655982971191,
          -2.652993679046631,
          2.722334146499634,
          -11.820423126220703,
          1.3858671188354492,
          -0.053117360919713974,
          7.8464484214782715,
          5.317907810211182,
          0.09688619524240494,
          -0.27578970789909363,
          -3.463252544403076,
          -12.138009071350098,
          8.881376266479492,
          10.308831214904785,
          -0.8602269291877747,
          -0.5890291929244995,
          4.468268394470215,
          -1.9811832904815674,
          -0.285001665353775,
          -1.3734838962554932,
          0.44386953115463257,
          -6.986017227172852,
          1.5325506925582886,
          8.067328453063965,
          -1.4345221519470215,
          9.8118314743042,
          -1.2656562328338623,
          -8.771093368530273,
          -0.27876004576683044,
          5.589252948760986,
          3.4316704273223877,
          7.566336154937744,
          6.819992542266846,
          5.936695575714111,
          7.941195011138916,
          8.392030715942383,
          -8.425423622131348,
          9.864831924438477,
          7.516965389251709,
          6.813468933105469,
          10.616658210754395,
          -0.14052197337150574,
          1.8424499034881592,
          -3.9491689205169678,
          5.75818395614624,
          0.17313705384731293,
          -2.267859697341919,
          4.215976715087891,
          -11.940018653869629,
          -1.1221588850021362,
          2.2693326473236084,
          2.9373416900634766,
          2.4854419231414795,
          -6.787149906158447,
          4.598073959350586,
          -8.31817626953125,
          12.198901176452637,
          2.1751046180725098,
          17.61417007446289,
          6.2807745933532715,
          -2.968008279800415,
          12.263697624206543,
          -14.333036422729492,
          -11.641449928283691,
          -18.382741928100586,
          -9.366715431213379,
          12.906207084655762,
          -13.808982849121094,
          -17.27915382385254,
          18.461345672607422,
          -5.559007167816162,
          -12.833284378051758,
          -12.960504531860352,
          -19.247713088989258,
          -12.814967155456543,
          -6.2303547859191895,
          16.338003158569336,
          -17.1010799407959,
          -6.051279067993164,
          5.774990081787109,
          5.655362606048584,
          -9.73744010925293,
          -3.5825939178466797,
          -12.754148483276367,
          4.427956581115723,
          -1.5422372817993164,
          -3.729118824005127,
          3.9539527893066406,
          -9.905966758728027,
          -14.371293067932129,
          -13.932188034057617,
          -11.291962623596191,
          -14.113332748413086,
          1.6996828317642212,
          -2.9804141521453857,
          8.826397895812988,
          11.015657424926758,
          4.809499263763428,
          -14.149773597717285,
          2.9198012351989746,
          13.627686500549316,
          -13.984126091003418,
          2.0630695819854736,
          11.153656959533691,
          7.782697677612305,
          1.167019009590149,
          -2.4996986389160156,
          15.493429183959961,
          3.698544979095459,
          1.8173989057540894,
          -1.8134087324142456,
          7.518127918243408,
          1.0735164880752563,
          6.05322265625,
          -11.351882934570312,
          12.986328125,
          -5.306418418884277,
          -4.646630764007568,
          10.52294635772705,
          -5.710921764373779,
          6.5460028648376465,
          -14.849172592163086,
          6.223757266998291,
          7.216298580169678,
          -3.0766453742980957,
          -3.4521942138671875,
          -15.674509048461914,
          10.542898178100586,
          10.514331817626953,
          -7.445185661315918,
          19.5159854888916,
          3.367962598800659,
          15.14501953125,
          7.4951066970825195,
          -6.566806316375732,
          -15.862006187438965,
          3.995182752609253,
          14.467286109924316,
          -14.737319946289062,
          2.5243079662323,
          -13.376931190490723,
          14.406000137329102,
          2.2124147415161133,
          2.7192487716674805,
          10.34238052368164,
          -8.977519989013672,
          1.9758625030517578,
          -0.7050592303276062,
          4.852802753448486,
          -0.0682060718536377,
          7.5868096351623535,
          -15.106736183166504,
          5.434992790222168,
          17.040956497192383,
          -12.647135734558105,
          0.292018860578537,
          -2.869964838027954,
          17.875160217285156,
          -11.073620796203613,
          -11.372014999389648,
          3.457590103149414,
          -9.384858131408691,
          -5.194667339324951,
          -4.754814147949219,
          -3.2294349670410156,
          3.6222994327545166,
          9.1510591506958,
          0.7588217258453369,
          -0.17221827805042267,
          2.758427858352661,
          19.697481155395508,
          -2.922407627105713,
          1.36549711227417,
          4.383310794830322,
          8.3094482421875,
          16.52647590637207,
          -8.484586715698242,
          -12.004751205444336,
          -6.876651763916016,
          3.300762414932251,
          7.071497917175293,
          -2.572923183441162,
          -9.9868803024292,
          14.518875122070312,
          12.299756050109863,
          -3.926708221435547,
          5.027877330780029,
          -12.725017547607422,
          -4.263946056365967,
          -0.10684945434331894,
          4.124331474304199,
          -8.924040794372559,
          8.702288627624512,
          -8.880989074707031,
          -0.1819179654121399,
          -1.531853437423706,
          -17.50421714782715,
          -16.999235153198242,
          1.4326400756835938,
          4.243157386779785,
          -14.078370094299316,
          -5.334824085235596,
          7.2409234046936035,
          8.026086807250977,
          -6.375814437866211,
          19.030290603637695,
          2.527561902999878,
          6.774862766265869,
          -16.57476806640625,
          -2.3230061531066895,
          7.313299179077148,
          -0.9991803169250488,
          10.900958061218262,
          5.577792644500732,
          -3.1800034046173096,
          -1.618941307067871,
          -6.922963619232178,
          7.21435546875,
          -4.43082332611084,
          6.530468940734863,
          18.471242904663086,
          5.671201229095459,
          -3.8602426052093506,
          5.6214423179626465,
          5.454412460327148,
          -10.148977279663086,
          18.050058364868164,
          -2.3736374378204346,
          -6.902081489562988,
          -3.7740249633789062,
          -12.649115562438965,
          8.710103034973145,
          10.211350440979004,
          4.160048484802246,
          4.200638294219971,
          11.324445724487305,
          -2.314478635787964,
          3.5086419582366943,
          -12.618694305419922,
          5.979701519012451,
          8.449542045593262,
          5.50486946105957,
          10.827568054199219,
          -15.005946159362793,
          0.001213799580000341,
          -2.100192070007324,
          7.744773864746094,
          -6.893661975860596,
          -9.18811321258545,
          -3.363966941833496,
          8.157598495483398,
          -14.520668983459473,
          1.927558422088623,
          0.8586544990539551,
          -0.08158811926841736,
          -9.827054977416992,
          -6.7304182052612305,
          -0.6846969723701477,
          7.6493401527404785,
          5.577652931213379,
          5.14607048034668,
          3.466665744781494,
          9.859037399291992,
          -1.8206437826156616,
          2.01438045501709,
          -7.03781795501709,
          17.583105087280273,
          -5.131271839141846,
          -4.875961780548096,
          1.3002291917800903,
          -8.517562866210938,
          -11.389982223510742,
          3.394498586654663,
          -11.453821182250977,
          -0.9580044150352478,
          11.522838592529297,
          -1.5970771312713623,
          -11.355667114257812,
          -10.715333938598633,
          13.11686897277832,
          16.531770706176758,
          2.3261334896087646,
          -19.573774337768555,
          4.646617412567139,
          -8.430998802185059,
          -3.4106967449188232,
          -13.177793502807617,
          7.437682151794434,
          5.425236701965332,
          -0.11990044265985489,
          -14.163251876831055,
          8.762103080749512,
          7.301308631896973,
          3.8741209506988525,
          1.2848247289657593,
          15.48770809173584,
          -12.674434661865234,
          -11.9124174118042,
          6.328576564788818,
          12.507330894470215,
          -12.75871467590332,
          14.423049926757812,
          -2.3217360973358154,
          16.167236328125,
          -5.03367280960083,
          3.846609115600586,
          -19.40033531188965,
          7.027188301086426,
          8.379467964172363,
          8.242347717285156,
          7.853355407714844,
          12.707817077636719,
          8.7025146484375,
          -11.618892669677734,
          -8.628708839416504,
          -3.778312921524048,
          1.20172119140625,
          6.672630310058594,
          6.017936706542969,
          8.086088180541992,
          10.036026000976562,
          -11.276952743530273,
          10.601387023925781,
          -1.0553789138793945,
          -4.039831161499023,
          2.9768335819244385,
          -4.100013732910156,
          0.8684630393981934,
          -6.787641525268555,
          6.472356796264648,
          -8.766730308532715,
          16.681798934936523,
          -11.904829978942871,
          7.072352886199951,
          -5.43682861328125,
          13.898488998413086,
          -8.278162956237793,
          9.397530555725098,
          3.0997140407562256,
          -0.3716590106487274,
          -9.985811233520508,
          2.7651209831237793,
          -14.06236457824707,
          2.251844882965088,
          3.4409232139587402,
          -12.783921241760254,
          6.431605339050293,
          -2.005977153778076,
          -1.159462332725525,
          -9.110891342163086,
          4.423208236694336,
          -3.48319673538208,
          -4.231564044952393,
          16.388206481933594,
          -12.734819412231445,
          0.5528870224952698,
          -0.11840933561325073,
          6.372608184814453,
          -0.4340551197528839,
          -11.799138069152832,
          3.7881946563720703,
          3.7923710346221924,
          3.8126590251922607,
          2.84564471244812,
          8.281829833984375,
          2.921867609024048,
          5.570923328399658,
          9.696779251098633,
          -7.463223457336426,
          0.6636576056480408,
          4.095795631408691,
          6.974699020385742,
          -11.198514938354492,
          3.1906471252441406,
          -0.6386541724205017,
          -8.368246078491211,
          -6.852245330810547,
          -5.495549201965332,
          -15.194427490234375,
          -0.03960615396499634,
          -1.1909269094467163,
          0.5259627103805542,
          10.26751708984375,
          -5.270734786987305,
          -2.990224838256836,
          -8.097516059875488,
          7.215818405151367,
          10.158293724060059,
          6.277297496795654,
          -1.2513823509216309,
          5.959103107452393,
          1.3489693403244019,
          -8.092912673950195,
          -3.988175630569458,
          -15.417724609375,
          3.781815767288208,
          2.6074130535125732,
          15.901260375976562,
          -1.3424724340438843,
          -14.96231746673584,
          -14.866911888122559,
          14.262518882751465,
          12.567059516906738,
          -3.023902416229248,
          11.72632122039795,
          -9.97493839263916,
          4.906920909881592,
          7.146957874298096,
          4.307755470275879,
          -15.297478675842285,
          1.2267436981201172,
          -14.6082763671875,
          1.9809530973434448,
          4.250679969787598,
          7.153096675872803,
          4.071195125579834,
          -15.49642276763916,
          -6.580018043518066,
          3.9522006511688232,
          -1.7409822940826416,
          -5.343053817749023,
          8.949498176574707,
          5.06018590927124,
          3.3700664043426514,
          -1.1887633800506592,
          7.8338422775268555,
          12.314971923828125,
          -12.527009963989258,
          -5.526409149169922,
          -4.226476669311523,
          2.5837533473968506,
          -2.413996696472168,
          -2.7999284267425537,
          6.597419261932373,
          13.922632217407227,
          1.3572663068771362,
          11.779727935791016,
          11.412110328674316,
          -18.40669059753418,
          -2.4230310916900635,
          -13.855512619018555,
          12.15571117401123,
          -3.594698905944824,
          6.570960521697998,
          0.6078329682350159,
          -4.146914005279541,
          -8.31674861907959,
          -18.834182739257812,
          -0.9571061730384827,
          -3.287822961807251,
          -21.6208438873291,
          1.2402420043945312,
          4.110726356506348,
          -14.619672775268555,
          11.119597434997559,
          -1.1565274000167847,
          -2.973602056503296,
          0.4703741669654846,
          10.075993537902832,
          3.2547950744628906,
          4.578654766082764,
          -12.164507865905762,
          9.046621322631836,
          -13.24692440032959,
          -14.76302433013916,
          10.068709373474121,
          9.460768699645996,
          1.3848925828933716,
          -12.116106986999512,
          8.868887901306152,
          -6.125600814819336,
          6.703012943267822,
          -4.066257476806641,
          7.15814733505249,
          11.467635154724121,
          7.463799953460693,
          -15.657218933105469,
          -16.612293243408203,
          11.566272735595703,
          -16.15441131591797,
          5.994255542755127,
          6.5974884033203125,
          -13.868496894836426,
          5.564903259277344,
          4.885535717010498,
          8.41016960144043,
          -4.9869384765625,
          -4.177882671356201,
          2.3718786239624023,
          -2.2388176918029785,
          -1.632933259010315,
          0.16851350665092468,
          -0.6401553750038147,
          3.645487070083618,
          -2.843081474304199,
          -13.564599990844727,
          9.21719741821289,
          3.0662946701049805,
          11.504987716674805,
          4.805805206298828,
          -14.546385765075684,
          -4.5256571769714355,
          -3.07487154006958,
          12.69504451751709,
          -6.756960391998291,
          3.910263776779175,
          4.192423343658447,
          1.4370245933532715,
          10.116653442382812,
          7.015686511993408,
          -20.125839233398438,
          14.369665145874023,
          12.284041404724121,
          8.31238079071045,
          -4.575372219085693,
          -6.90131139755249,
          5.371533393859863,
          -9.332840919494629,
          12.189964294433594,
          12.835025787353516,
          0.9342746734619141,
          -4.506918430328369,
          16.42230224609375,
          -9.87698745727539,
          -2.968578338623047,
          3.548886775970459,
          -7.395034313201904,
          15.31654167175293,
          5.649860382080078,
          18.209501266479492,
          -17.57979393005371,
          9.7733154296875,
          13.853514671325684,
          -3.0915160179138184,
          -9.812620162963867,
          4.67706298828125,
          7.271917819976807,
          1.6189825534820557,
          -11.19103717803955,
          8.420130729675293,
          0.303909569978714,
          0.297720730304718,
          11.542609214782715,
          6.750769138336182,
          -21.646095275878906,
          13.482895851135254,
          -2.403085947036743,
          -9.619975090026855,
          -0.3684336245059967,
          -14.670166969299316,
          3.7184531688690186,
          3.9240918159484863,
          14.017864227294922,
          2.3552331924438477,
          5.7199859619140625,
          -13.74683952331543,
          0.645840048789978,
          -1.033557415008545,
          -12.445169448852539,
          -15.3175630569458,
          -14.383797645568848,
          -17.20445442199707,
          6.8624725341796875,
          9.242196083068848,
          8.354842185974121,
          3.7004315853118896,
          -14.683382034301758,
          8.018367767333984,
          -18.530353546142578,
          -4.13721227645874,
          -13.803319931030273,
          3.973240852355957,
          -2.1274030208587646,
          -18.659399032592773,
          -11.747209548950195,
          9.710628509521484,
          -4.031452655792236,
          -4.443261623382568,
          0.8586815595626831,
          -15.683218955993652,
          -13.12771987915039,
          3.362584114074707,
          8.535249710083008,
          3.0875070095062256,
          3.307666301727295,
          1.462436556816101,
          -15.87116813659668,
          12.795882225036621,
          2.195380210876465,
          -1.315665364265442,
          10.57900333404541,
          -12.452701568603516,
          5.450729846954346,
          0.7627408504486084,
          1.3881558179855347,
          14.399320602416992,
          -1.2834752798080444,
          -3.7910616397857666,
          -4.744606018066406,
          -16.532611846923828,
          8.779083251953125,
          3.6170530319213867,
          -1.4130496978759766,
          -12.424781799316406,
          8.702248573303223,
          -6.457573413848877,
          10.518471717834473,
          11.88500690460205,
          -8.880115509033203,
          -2.1405675411224365,
          -2.5467123985290527,
          2.935445785522461,
          -2.4030497074127197,
          -13.503053665161133,
          -0.026408301666378975,
          0.0674523115158081,
          9.175951957702637,
          3.6330671310424805,
          -15.091793060302734,
          -2.602626323699951,
          2.0693256855010986,
          -11.498025894165039,
          -20.00183868408203,
          4.398447036743164,
          11.075462341308594,
          10.674246788024902,
          -0.2286847084760666,
          -8.853500366210938,
          -11.037230491638184,
          2.5074827671051025,
          -0.2478419542312622,
          -6.833211898803711,
          6.7283525466918945,
          -13.229036331176758,
          1.29006028175354,
          -14.434870719909668,
          -13.269697189331055,
          16.207969665527344,
          2.8680121898651123,
          -14.378437995910645,
          6.631601810455322,
          0.6813849806785583,
          -1.5992274284362793,
          8.951509475708008,
          6.897835731506348,
          -2.0206525325775146,
          4.535974979400635,
          -10.457782745361328,
          -8.127639770507812,
          -2.879941940307617,
          0.34525933861732483,
          2.3773844242095947,
          -16.40814781188965,
          -14.242742538452148,
          3.0881831645965576,
          -11.109313011169434,
          -15.753011703491211,
          -12.185237884521484,
          11.451959609985352,
          2.360506772994995,
          12.31156063079834,
          1.4496952295303345,
          11.303300857543945,
          17.9700927734375,
          -17.70013427734375,
          8.084251403808594,
          -22.379709243774414,
          -9.252668380737305,
          5.038279056549072,
          -5.141716480255127,
          -4.780517101287842,
          -17.627071380615234,
          -8.880559921264648,
          -12.707744598388672,
          9.055533409118652,
          6.207217693328857,
          4.151571750640869,
          12.15894889831543,
          -14.50251579284668,
          3.391890525817871,
          16.012264251708984,
          -17.5146427154541,
          -4.163567543029785,
          -0.37228837609291077,
          12.208155632019043,
          -15.149030685424805,
          -12.488479614257812,
          -2.6333844661712646,
          3.7508797645568848,
          5.477188587188721,
          10.863045692443848,
          1.435847520828247,
          5.881874084472656,
          11.429641723632812,
          5.451033592224121,
          -2.123004198074341,
          -4.491605758666992,
          1.6838589906692505,
          5.751522064208984,
          -1.5889508724212646,
          -14.91026496887207,
          2.3225507736206055,
          3.867208957672119,
          -2.2801549434661865,
          -3.076979398727417,
          -6.679497718811035,
          -8.048301696777344,
          15.788331985473633,
          -6.9115729331970215,
          8.540339469909668,
          6.727614879608154,
          -1.8899643421173096,
          -1.2674404382705688,
          -9.98596477508545,
          -4.954883098602295,
          -6.454218864440918,
          -12.25021743774414,
          12.478161811828613,
          10.706027030944824,
          3.753739833831787,
          13.70909309387207,
          -3.2792227268218994,
          2.7764651775360107,
          -7.720332622528076,
          -12.62690544128418,
          4.192189693450928,
          -0.06700827181339264,
          -9.243432998657227,
          6.996798992156982,
          4.315673351287842,
          -15.750752449035645,
          -3.259490728378296,
          -10.492287635803223,
          12.493168830871582,
          8.048774719238281,
          12.399279594421387,
          -5.055368900299072,
          8.542739868164062,
          1.3499114513397217,
          -0.26470112800598145,
          -7.115755558013916,
          7.486651420593262,
          -14.057913780212402,
          -9.329257011413574,
          -5.8539323806762695,
          7.703375816345215,
          2.4326086044311523,
          -2.8503713607788086,
          9.992227554321289,
          5.007141590118408,
          -3.589449167251587,
          4.3145833015441895,
          -10.522942543029785,
          -16.03091049194336,
          -13.705206871032715,
          13.688445091247559,
          -4.163484573364258,
          11.684976577758789,
          -8.129648208618164,
          -10.129222869873047,
          6.877352714538574,
          5.4662766456604,
          2.2529985904693604,
          12.981889724731445,
          -13.133744239807129,
          -10.553488731384277,
          -0.28660574555397034,
          15.572739601135254,
          -13.133427619934082,
          -1.3032262325286865,
          2.983691930770874,
          8.195038795471191,
          -9.132139205932617,
          -6.937685012817383,
          -0.05655134469270706,
          -7.687804222106934,
          0.6458441615104675,
          9.768743515014648,
          5.165770053863525,
          -4.259109973907471,
          4.412883758544922,
          -13.274419784545898,
          -2.7337565422058105,
          -5.7857160568237305,
          4.984091758728027,
          9.255522727966309,
          14.491747856140137,
          13.318986892700195,
          1.1823978424072266,
          -2.9786179065704346,
          -7.221594333648682,
          2.5144362449645996,
          4.617027282714844,
          14.135720252990723,
          0.4219938814640045,
          12.130080223083496,
          -5.123049736022949,
          3.6269397735595703,
          -2.47737193107605,
          -14.273326873779297,
          0.25002235174179077,
          6.501463413238525,
          7.698655605316162,
          -9.852069854736328,
          13.652570724487305,
          -10.10629940032959,
          5.152805805206299,
          2.235809564590454,
          -12.056028366088867,
          -4.68447732925415,
          -5.849496841430664,
          7.008904933929443,
          8.300915718078613,
          -7.853855609893799,
          -12.869574546813965,
          -2.424149513244629,
          -2.009636640548706,
          -6.167741775512695,
          0.08116836845874786,
          6.723330974578857,
          3.5513930320739746,
          11.810998916625977,
          -1.3366998434066772,
          -3.883570909500122,
          16.27373504638672,
          5.9697747230529785,
          -8.484451293945312,
          5.307095050811768,
          2.408557891845703,
          -15.47201919555664,
          -17.347352981567383,
          13.786168098449707,
          -8.567378997802734,
          -5.712817192077637,
          2.8321709632873535,
          13.670221328735352,
          -0.5079677700996399,
          16.84600067138672,
          -6.323824882507324,
          11.051070213317871,
          -14.059814453125,
          -11.3766508102417,
          -14.392462730407715,
          13.285144805908203,
          7.65239143371582,
          -1.3984384536743164,
          9.778820991516113,
          4.997520923614502,
          -18.59672737121582,
          9.170851707458496,
          -4.615725994110107,
          0.8110470175743103,
          -10.91908073425293,
          -2.3372514247894287,
          -19.47737693786621,
          7.052007675170898,
          -11.243587493896484,
          8.843247413635254,
          5.4062886238098145,
          5.963950157165527,
          -16.29459571838379,
          -3.817502498626709,
          12.82673454284668,
          1.917852759361267,
          15.259648323059082,
          -3.699059247970581,
          -8.698637962341309,
          0.9753627777099609,
          1.197066307067871,
          11.265608787536621,
          -10.604445457458496,
          -2.248004198074341,
          -6.856834411621094,
          4.127503871917725,
          7.129986763000488,
          3.1876091957092285,
          11.557501792907715,
          -3.593090057373047,
          -0.4748017191886902,
          9.304706573486328,
          1.4867514371871948,
          5.651122570037842,
          -20.64944076538086,
          -2.4996166229248047,
          1.6179929971694946,
          -4.318978309631348,
          -20.365615844726562,
          -15.947654724121094,
          2.8445279598236084,
          -17.906110763549805,
          9.826055526733398,
          -20.17473602294922,
          6.475637435913086,
          2.5732696056365967,
          -0.5373122692108154,
          -0.17535141110420227,
          1.6235226392745972,
          7.5553717613220215,
          -14.389023780822754,
          15.447457313537598,
          -14.982864379882812,
          6.709559440612793,
          -19.94839859008789,
          -3.5276293754577637,
          -12.324178695678711,
          -17.75417137145996,
          -4.28638219833374,
          10.597837448120117,
          -6.508326053619385,
          -4.316626071929932,
          2.1963605880737305,
          -20.82267951965332,
          3.5712499618530273,
          11.022292137145996,
          -0.7397920489311218,
          -1.5988579988479614,
          -20.392101287841797,
          4.987102508544922,
          1.107638955116272,
          7.195794582366943,
          0.2659255862236023,
          -7.425136089324951,
          5.39445686340332,
          -7.281497001647949,
          -3.6690707206726074,
          2.048407793045044,
          -7.58203125,
          15.632084846496582,
          0.48521888256073,
          5.42622184753418,
          1.1597784757614136,
          -2.932861089706421,
          -17.38640785217285,
          9.702679634094238,
          1.3686070442199707,
          -2.689815044403076,
          11.907682418823242,
          14.51869010925293,
          -15.874990463256836,
          16.971071243286133,
          5.661023139953613,
          -4.773342609405518,
          -2.0450308322906494,
          -1.386922001838684,
          16.91566276550293,
          -5.877170562744141,
          8.080385208129883,
          5.698472023010254,
          1.1634124517440796,
          0.21234361827373505,
          6.993674278259277,
          -1.039780855178833,
          -3.557701349258423,
          16.26726722717285,
          -2.9460134506225586,
          -5.401236534118652,
          15.397141456604004,
          -9.5120849609375,
          -6.068437576293945,
          6.536869049072266,
          5.451827049255371,
          3.3102192878723145,
          4.102742671966553,
          -9.632789611816406,
          4.13423490524292,
          -2.945571184158325,
          3.8088762760162354,
          -15.525052070617676,
          -12.810006141662598,
          9.355450630187988,
          4.113651275634766,
          3.4682376384735107,
          8.643831253051758,
          4.90200662612915,
          4.152252197265625,
          -4.7977294921875,
          10.327881813049316,
          -3.568960428237915,
          3.5690114498138428,
          -2.525238275527954,
          -1.148431420326233,
          4.086477279663086,
          12.226507186889648,
          14.283968925476074,
          17.43269157409668,
          10.866375923156738,
          -12.831292152404785,
          13.797791481018066,
          -12.954166412353516,
          8.597341537475586,
          4.655282974243164,
          -1.2486536502838135,
          5.6690568923950195,
          7.090527534484863,
          -17.10475730895996,
          1.8955631256103516,
          -19.572559356689453,
          2.1785964965820312,
          1.9075137376785278,
          -8.215723037719727,
          5.5796589851379395,
          3.4018590450286865,
          12.14968490600586,
          -10.956547737121582,
          2.385334014892578,
          15.878267288208008,
          -12.426253318786621,
          14.749529838562012,
          14.960373878479004,
          -10.874274253845215,
          -16.765525817871094,
          7.307816982269287,
          1.1667057275772095,
          6.551189422607422,
          -12.040891647338867,
          -9.80771541595459,
          -1.9838086366653442,
          3.337862730026245,
          7.2118377685546875,
          6.383548736572266,
          13.329025268554688,
          -9.433405876159668,
          -4.817140579223633,
          13.426104545593262,
          -7.675554275512695,
          -7.758993148803711,
          7.590226650238037,
          2.7017250061035156,
          -6.525454044342041,
          -6.212397575378418,
          5.656482219696045,
          15.748486518859863,
          -14.063920974731445,
          12.377037048339844,
          7.7812628746032715,
          1.5505115985870361,
          0.6902779340744019,
          -16.720312118530273,
          11.061822891235352,
          -13.887201309204102,
          5.435484409332275,
          9.712859153747559,
          -12.438543319702148,
          10.421209335327148,
          8.110569953918457,
          -11.845272064208984,
          2.8218231201171875,
          17.730974197387695,
          2.4222335815429688,
          -3.2508175373077393,
          -3.3511898517608643,
          -6.193277835845947,
          6.033769130706787,
          0.2711712121963501,
          -4.32975959777832,
          8.18370532989502,
          -6.194692611694336,
          5.950118064880371,
          -12.066594123840332,
          -16.49554443359375,
          5.4429402351379395,
          -4.435438632965088,
          -4.793529510498047,
          17.365087509155273,
          -5.6872406005859375,
          -8.784504890441895,
          0.12841853499412537,
          -16.96625328063965,
          -7.875309467315674,
          1.4436473846435547,
          -12.029207229614258,
          4.531746864318848,
          -13.988967895507812,
          -2.7634873390197754,
          -2.451014518737793,
          -10.138449668884277,
          -0.2521907687187195,
          -4.172882556915283,
          -3.410482883453369,
          0.7371495366096497,
          -3.8297488689422607,
          5.285882949829102,
          -9.5513277053833,
          -9.968629837036133,
          -1.6539373397827148,
          0.6048877835273743,
          3.9239466190338135,
          0.21190416812896729,
          1.2722876071929932,
          6.789659023284912,
          -7.294893264770508,
          8.491397857666016,
          -3.6351728439331055,
          -1.9178614616394043,
          9.676593780517578,
          -6.458686351776123,
          6.9589104652404785,
          9.223472595214844,
          -2.982057571411133,
          -12.37503433227539,
          7.28516149520874,
          4.689390182495117,
          0.5931986570358276,
          0.16114886105060577,
          7.473608016967773,
          5.916638374328613,
          -14.950522422790527,
          2.7712831497192383,
          2.0218567848205566,
          10.930800437927246,
          1.5357699394226074,
          0.4959450364112854,
          0.2536810338497162,
          -0.237672820687294,
          -3.979377031326294,
          -1.3689182996749878,
          -14.840402603149414,
          5.2698655128479,
          3.806036949157715,
          4.739009857177734,
          7.103206157684326,
          4.542246341705322,
          8.288469314575195,
          5.869902610778809,
          8.948856353759766,
          -9.024351119995117,
          6.496500492095947,
          -3.3973875045776367,
          14.856080055236816,
          1.4366940259933472,
          -8.178854942321777,
          4.31815242767334,
          -3.446775436401367,
          4.014068603515625,
          -15.092967987060547,
          2.1715400218963623,
          -12.569005012512207,
          9.64353084564209,
          -0.4632967710494995,
          0.1539316326379776,
          12.205121994018555,
          -0.8225285410881042,
          -13.354355812072754,
          -10.33555793762207,
          6.097211837768555,
          5.961481094360352,
          -14.254733085632324,
          -9.8757963180542,
          -2.6137170791625977,
          8.851874351501465,
          13.215633392333984,
          2.260312795639038,
          13.27949047088623,
          -15.860953330993652,
          -9.951845169067383,
          -0.8027249574661255,
          -4.620670318603516,
          -1.7983042001724243,
          -15.044615745544434,
          2.032166004180908,
          8.203566551208496,
          10.149374008178711,
          -19.59788703918457,
          4.323126792907715,
          -2.191779136657715,
          -15.18690299987793,
          -5.816828727722168,
          12.371308326721191,
          4.493038654327393,
          -2.1433322429656982,
          3.1979105472564697,
          -3.949765920639038,
          -2.551812171936035,
          5.0692338943481445,
          2.3755204677581787,
          2.2182750701904297,
          -16.949899673461914,
          -0.9240434169769287,
          -9.860651969909668,
          -0.8851686120033264,
          -2.814424514770508,
          -4.494506359100342,
          -13.808834075927734,
          -8.907061576843262,
          6.881606101989746,
          -4.329834938049316,
          -19.396564483642578,
          0.9578133225440979,
          0.6528205871582031,
          -13.547636985778809,
          8.362753868103027,
          2.34690260887146,
          -1.8169019222259521,
          -4.827863693237305,
          13.666842460632324,
          2.988952875137329,
          1.3318325281143188,
          -13.798707008361816,
          5.173590183258057,
          5.771111011505127,
          -3.8201141357421875,
          -8.797215461730957,
          -0.8807413578033447,
          -0.25454843044281006,
          -6.386137008666992,
          -11.787449836730957,
          2.7600715160369873,
          8.961019515991211,
          5.3006157875061035,
          -1.037549376487732,
          -10.996842384338379,
          8.450830459594727,
          10.036113739013672,
          -3.0110208988189697,
          -18.564125061035156,
          0.8058980107307434,
          -0.5037276148796082,
          -4.960801601409912,
          -0.009028657339513302,
          11.913956642150879,
          -2.058804988861084,
          13.362136840820312,
          9.04817008972168,
          2.932574510574341,
          9.846219062805176,
          -11.910120964050293,
          7.290183067321777,
          -17.437658309936523,
          17.450328826904297,
          3.5120062828063965,
          8.768790245056152,
          -9.532071113586426,
          -13.483877182006836,
          9.541986465454102,
          -0.3813073933124542,
          2.2827515602111816,
          -12.147507667541504,
          -15.041581153869629,
          2.896477699279785,
          -14.162487983703613,
          -7.272680282592773,
          6.900570869445801,
          -1.1885169744491577,
          -14.150229454040527,
          -9.57944393157959,
          -4.162624835968018,
          -4.999243259429932,
          13.487948417663574,
          -0.5029399394989014,
          -2.6669363975524902,
          -13.861328125,
          -7.951318740844727,
          5.190621852874756,
          4.270792484283447,
          -5.005136966705322,
          -11.03406810760498,
          -15.619729995727539,
          4.999464511871338,
          -12.46120548248291,
          4.950532913208008,
          4.0570173263549805,
          11.850865364074707,
          -19.949356079101562,
          9.254150390625,
          -4.139928817749023,
          10.976190567016602,
          8.518624305725098,
          9.467554092407227,
          1.4805105924606323,
          -10.209753036499023,
          17.313865661621094,
          -10.975976943969727,
          3.3740756511688232,
          11.803674697875977,
          -3.966745376586914,
          -1.2971042394638062,
          -11.463302612304688,
          -5.979671001434326,
          3.9253365993499756,
          7.010970115661621,
          12.271722793579102,
          9.565435409545898,
          -10.586785316467285,
          -1.7332162857055664,
          -5.256379127502441,
          5.176271915435791,
          7.520188808441162,
          -17.090057373046875,
          -15.960555076599121,
          -8.408506393432617,
          13.71435832977295,
          -7.139554977416992,
          3.9117445945739746,
          6.356321811676025,
          -6.711849212646484,
          0.41077712178230286,
          5.889559268951416,
          -20.59510612487793,
          -8.399539947509766,
          2.160090208053589,
          -4.159786224365234,
          -14.659915924072266,
          -14.314144134521484,
          12.120720863342285,
          -13.869857788085938,
          6.896466255187988,
          6.473284721374512,
          -14.320696830749512,
          16.449064254760742,
          -8.440131187438965,
          -11.6372652053833,
          -16.562435150146484,
          -4.361113548278809,
          11.498151779174805,
          9.302806854248047,
          9.433622360229492,
          -11.9492826461792,
          12.67523193359375,
          -11.656889915466309,
          9.022614479064941,
          -0.7861090898513794,
          5.346045970916748,
          -10.855216026306152,
          -8.896422386169434,
          2.658831834793091,
          -6.553684234619141,
          -6.039421558380127,
          4.108157634735107,
          3.7960712909698486,
          -17.95741844177246,
          2.5853793621063232,
          17.4083309173584,
          1.1624685525894165,
          9.521997451782227,
          8.653783798217773,
          -14.956267356872559,
          5.293756484985352,
          1.666634440422058,
          -8.845678329467773,
          3.1493208408355713,
          13.037749290466309,
          -0.7127952575683594,
          -4.738121509552002,
          -10.641762733459473,
          1.4741206169128418,
          -4.104611396789551,
          -9.345078468322754,
          7.314736843109131,
          1.988167643547058,
          -6.716847896575928,
          -4.429293632507324,
          1.0054744482040405,
          5.54844331741333,
          -3.748844861984253,
          6.7305192947387695,
          10.122027397155762,
          -3.9888739585876465,
          1.6676653623580933,
          -5.702400207519531,
          -10.204330444335938,
          1.692980170249939,
          -10.204565048217773,
          2.538763999938965,
          3.2457358837127686,
          1.5810670852661133,
          -8.377053260803223,
          7.101772785186768,
          8.318424224853516,
          8.439789772033691,
          4.3252410888671875,
          9.70770263671875,
          3.3800363540649414,
          -0.14466513693332672,
          3.3779726028442383,
          14.641168594360352,
          4.775201797485352,
          7.461878776550293,
          -10.660890579223633,
          -5.679905414581299,
          -8.54955768585205,
          -10.399627685546875,
          -1.288804531097412,
          2.293429136276245,
          6.490633487701416,
          15.413796424865723,
          2.7523772716522217,
          7.288545608520508,
          5.334606170654297,
          4.182150363922119,
          -14.605806350708008,
          -4.136654376983643,
          -15.26541805267334,
          -5.768988132476807,
          -12.264416694641113,
          11.3892240524292,
          10.196621894836426,
          3.486009359359741,
          12.092896461486816,
          6.512660980224609,
          -10.479728698730469,
          16.873720169067383,
          -12.664088249206543,
          -5.3215179443359375,
          -4.870713233947754,
          -6.102468490600586,
          -0.8134958744049072,
          -1.8458839654922485,
          15.858617782592773,
          11.104471206665039,
          -1.381521224975586,
          -0.23979875445365906,
          14.301011085510254,
          2.552478551864624,
          5.086042881011963,
          7.008053302764893,
          -5.502731800079346,
          -14.763588905334473,
          10.28310775756836,
          6.018245697021484,
          15.20588493347168,
          15.541071891784668,
          -10.542884826660156,
          -3.203281879425049,
          10.490012168884277,
          -16.433551788330078,
          -15.123980522155762,
          17.680320739746094,
          -9.91381549835205,
          12.37447452545166,
          8.91717529296875,
          -15.01820182800293,
          -14.451176643371582,
          2.7970592975616455,
          2.8054676055908203,
          15.946709632873535,
          -11.93178939819336,
          -6.765842437744141,
          -11.527989387512207,
          11.345651626586914,
          -15.223176956176758,
          -4.145476818084717,
          -0.26725131273269653,
          -13.688772201538086,
          4.901557445526123,
          5.071251392364502,
          3.2006943225860596,
          -1.4811432361602783,
          14.044797897338867,
          15.385631561279297,
          -3.7774810791015625,
          11.191000938415527,
          -2.61506724357605,
          -6.121274948120117,
          9.194568634033203,
          5.381072998046875,
          -0.2275325208902359,
          10.00655460357666,
          10.078243255615234,
          -19.568159103393555,
          3.184723377227783,
          8.397270202636719,
          10.070707321166992,
          -0.2930624186992645,
          -5.44603967666626,
          -0.15565051138401031,
          -10.913714408874512,
          13.193804740905762,
          -3.714060068130493,
          0.19805847108364105,
          -11.947553634643555,
          6.165602684020996,
          -3.773271322250366,
          4.414424419403076,
          5.017257213592529,
          -11.174787521362305,
          -7.538878917694092,
          2.36324405670166,
          4.059777736663818,
          -16.624645233154297,
          -1.009813666343689,
          1.1774979829788208,
          9.654346466064453,
          10.478133201599121,
          3.282003879547119,
          7.193266868591309,
          -8.611719131469727,
          11.507434844970703,
          0.09321701526641846,
          -3.7948410511016846,
          6.936643123626709,
          -12.821524620056152,
          14.894468307495117,
          -8.612457275390625,
          -14.63847541809082,
          4.349956035614014,
          0.805192232131958,
          0.4376329481601715,
          1.1511993408203125,
          -3.86330509185791,
          14.37741756439209,
          -13.528433799743652,
          1.8004969358444214,
          -13.337632179260254,
          -16.457033157348633,
          -18.611249923706055,
          -8.24659252166748,
          13.282652854919434,
          6.151213645935059,
          -13.877578735351562,
          -6.025582790374756,
          -5.342269420623779,
          6.205392360687256,
          -1.1479994058609009,
          -0.48112425208091736,
          1.8111701011657715,
          -13.12960147857666,
          10.752141952514648,
          10.512752532958984,
          -1.51662278175354,
          8.04913330078125,
          16.664161682128906,
          -19.541847229003906,
          -2.235168695449829,
          -9.078561782836914,
          -14.685348510742188,
          -15.038141250610352,
          -9.20296859741211,
          -8.12424373626709,
          3.690061092376709,
          1.398713231086731,
          -0.26916149258613586,
          12.218090057373047,
          15.219034194946289,
          0.0678272545337677,
          -13.128886222839355,
          2.497511625289917,
          -3.060229778289795,
          -5.385184288024902,
          -2.665074586868286,
          -14.661298751831055,
          5.164072036743164,
          17.523771286010742,
          1.401419758796692,
          -15.868290901184082,
          -1.6596853733062744,
          2.707951784133911,
          7.317654132843018,
          2.2838821411132812,
          -1.185597538948059,
          -0.7377250790596008,
          0.796210527420044,
          6.376506805419922,
          1.5415436029434204,
          5.466960906982422,
          6.676612854003906,
          -13.722343444824219,
          9.107096672058105,
          0.7500478625297546,
          -6.510236740112305,
          2.720252752304077,
          10.985821723937988,
          6.172112464904785,
          -15.699060440063477,
          5.471797466278076,
          6.900495529174805,
          -1.5078754425048828,
          -19.257850646972656,
          5.052003860473633,
          -11.042920112609863,
          0.6131415367126465,
          -6.987534999847412,
          0.6392765641212463,
          5.758517265319824,
          8.535299301147461,
          9.208292961120605,
          -1.0512940883636475,
          13.310691833496094,
          -14.243523597717285,
          6.4278106689453125,
          0.9034469723701477,
          13.34170150756836,
          -1.3503717184066772,
          5.315589427947998,
          0.2679653763771057,
          8.765819549560547,
          15.134818077087402,
          -6.862529277801514,
          6.486677169799805,
          11.371301651000977,
          7.894169330596924,
          -1.0468848943710327,
          -11.365620613098145,
          9.374162673950195,
          1.4210360050201416,
          -11.136143684387207,
          6.921650409698486,
          -6.052489280700684,
          -5.091851234436035,
          1.647119164466858,
          9.00373649597168,
          6.30510950088501,
          1.3793715238571167,
          0.08502932637929916,
          -13.692680358886719,
          1.0844875574111938,
          -7.0130839347839355,
          1.4563137292861938,
          3.2342236042022705,
          -0.220915287733078,
          10.89546012878418,
          0.27430400252342224,
          7.9362993240356445,
          -8.785499572753906,
          -15.284099578857422,
          9.466164588928223,
          3.518857717514038,
          -15.331660270690918,
          7.653318405151367,
          4.23045015335083,
          5.155584335327148,
          0.565323531627655,
          -7.504639625549316,
          1.7741106748580933,
          8.624642372131348,
          0.802931010723114,
          4.479267597198486,
          -3.039635181427002,
          -9.208142280578613,
          -5.642104625701904,
          -10.51637077331543,
          3.1393935680389404,
          -3.357175588607788,
          6.746448993682861,
          -3.9349710941314697,
          -9.126153945922852,
          5.890242576599121,
          14.705158233642578,
          3.28981876373291,
          -0.38764944672584534,
          -3.402205228805542,
          -10.223832130432129,
          12.466325759887695,
          -3.1564295291900635,
          17.418399810791016,
          9.023431777954102,
          1.46700918674469,
          15.25795841217041,
          -12.302115440368652,
          7.972813129425049,
          10.023018836975098,
          4.653367042541504,
          3.664440393447876,
          -7.879354953765869,
          9.219169616699219,
          -12.609575271606445,
          -5.414677619934082,
          -3.0138742923736572,
          -2.690638542175293,
          13.266701698303223,
          6.628853797912598,
          -6.957670211791992,
          4.617455959320068,
          -0.649009644985199,
          7.7767133712768555,
          3.951167345046997,
          -3.600456476211548,
          14.226959228515625,
          -0.7728943824768066,
          0.33242571353912354,
          -6.821284770965576,
          3.618525266647339,
          2.913717031478882,
          3.8444411754608154,
          -18.713916778564453,
          -4.624460697174072,
          5.752577304840088,
          3.52687931060791,
          -4.326691150665283,
          0.8575206995010376,
          -10.459431648254395,
          0.06527519226074219,
          12.217995643615723,
          -13.031915664672852,
          0.976325511932373,
          -6.5235981941223145,
          -12.199670791625977,
          -4.4940996170043945,
          -19.090879440307617,
          -7.762963771820068,
          -6.5148091316223145,
          -7.279261589050293,
          5.704695224761963,
          -1.9775245189666748,
          11.475139617919922,
          5.209555149078369,
          7.21708869934082,
          6.6409382820129395,
          5.9467244148254395,
          11.730830192565918,
          -1.483458399772644,
          -0.711793839931488,
          -12.570762634277344,
          0.3004131615161896,
          -6.422502517700195,
          -6.944105625152588,
          -15.081819534301758,
          -7.265286922454834,
          7.255833148956299,
          7.798743724822998,
          -6.7120466232299805,
          -15.727307319641113,
          -4.144308090209961,
          2.4678561687469482,
          -11.587967872619629,
          -4.924002170562744,
          14.418031692504883,
          10.432817459106445,
          -3.639308452606201,
          -5.960211753845215,
          12.22813892364502,
          -4.080793380737305,
          7.620326995849609,
          -1.0676262378692627,
          -0.35750481486320496,
          -16.46522331237793,
          -15.375792503356934,
          -3.5299019813537598,
          -16.438119888305664,
          -18.37457275390625,
          -7.595259666442871,
          -7.990501880645752,
          10.210144996643066,
          -20.91985321044922,
          9.140541076660156,
          -18.756633758544922,
          2.349802255630493,
          -15.296695709228516,
          10.843820571899414,
          -9.248234748840332,
          -11.899572372436523,
          -11.911039352416992,
          -10.022857666015625,
          -13.81070613861084,
          -0.6150996685028076,
          5.299481391906738,
          3.3295791149139404,
          4.349966526031494,
          10.56302261352539,
          18.84954833984375,
          16.61707878112793,
          2.1320364475250244,
          9.76519775390625,
          -3.4340155124664307,
          -12.28603744506836,
          7.853604316711426,
          -12.864819526672363,
          -17.45070457458496,
          1.2277976274490356,
          4.457739353179932,
          8.098832130432129,
          -20.52346420288086,
          6.917193412780762,
          -21.24542236328125,
          6.381392955780029,
          9.101794242858887,
          9.645376205444336,
          12.649591445922852,
          -3.101252555847168,
          3.531428098678589,
          -2.731269359588623,
          3.3983688354492188,
          0.3739413619041443,
          -14.864385604858398,
          -4.703952789306641,
          -15.740729331970215,
          1.2209546566009521,
          -13.647700309753418,
          -1.6859155893325806,
          -2.9284756183624268,
          4.386073589324951,
          11.616729736328125,
          10.545308113098145,
          -17.67330551147461,
          -2.433946371078491,
          6.599102020263672,
          5.6510233879089355,
          1.9820090532302856,
          -13.090107917785645,
          1.0462100505828857,
          -8.348968505859375,
          11.429646492004395,
          12.034812927246094,
          -8.530492782592773,
          6.7051801681518555,
          4.963955402374268,
          3.8794782161712646,
          7.4371232986450195,
          -0.49598580598831177,
          -4.592835903167725,
          6.155510425567627,
          -8.602319717407227,
          -0.739762544631958,
          5.540665626525879,
          1.4053480625152588,
          0.6426758766174316,
          -9.169052124023438,
          -16.21424102783203,
          4.224589824676514,
          7.3231658935546875,
          -21.23763084411621,
          6.6492815017700195,
          14.438153266906738,
          0.9258261322975159,
          -12.488913536071777,
          7.662730693817139,
          4.447967529296875,
          7.1704487800598145,
          -8.263497352600098,
          13.785294532775879,
          6.5269598960876465,
          -13.80441665649414,
          1.9019532203674316,
          -12.467750549316406,
          12.334638595581055,
          -2.8606739044189453,
          2.206991672515869,
          1.1184852123260498,
          14.404019355773926,
          -5.01129674911499,
          7.701760768890381,
          13.866641998291016,
          3.495335340499878,
          8.237403869628906,
          3.887200355529785,
          10.538806915283203,
          -11.347868919372559,
          1.7254276275634766,
          0.3403944671154022,
          15.294858932495117,
          -12.211119651794434,
          7.210142135620117,
          -17.51925277709961,
          6.157242298126221,
          6.056412220001221,
          -5.151493072509766,
          7.530763626098633,
          -0.1478501707315445,
          -6.524947166442871,
          -5.3673996925354,
          -16.704822540283203,
          -14.057062149047852,
          4.221004962921143,
          -11.333767890930176,
          -10.444731712341309,
          2.2250101566314697,
          4.976681709289551,
          4.050256252288818,
          -6.757224082946777,
          15.821603775024414,
          -1.541669487953186,
          -17.553367614746094,
          -17.05936622619629,
          -3.0853569507598877,
          3.810391902923584,
          -4.443962097167969,
          13.899106979370117,
          -0.9308160543441772,
          1.8876819610595703,
          13.328097343444824,
          -0.21580897271633148,
          2.6781184673309326,
          -7.223584175109863,
          -7.410003185272217,
          -4.620025157928467,
          0.653491199016571,
          -3.683318853378296,
          -12.023541450500488,
          15.922698020935059,
          -11.13141918182373,
          -5.324456691741943,
          8.909372329711914,
          -1.6233097314834595,
          -4.279007911682129,
          9.28984260559082,
          8.648516654968262,
          -7.591074466705322,
          3.4705023765563965,
          4.3990678787231445,
          -9.527824401855469,
          9.241388320922852,
          4.333171844482422,
          14.138326644897461,
          -11.236544609069824,
          16.079736709594727,
          10.53644847869873,
          7.4598307609558105,
          9.425944328308105,
          -7.673917770385742,
          -13.166988372802734,
          6.342065811157227,
          -0.6584032773971558,
          -16.754901885986328,
          -4.838602066040039,
          -13.52650260925293,
          -5.317863464355469,
          -20.186567306518555,
          -6.763021945953369,
          11.646624565124512,
          -12.932409286499023,
          -6.367652893066406,
          -1.7747414112091064,
          -1.1721251010894775,
          1.3187934160232544,
          -3.648545742034912,
          -9.123453140258789,
          12.92436408996582,
          13.768915176391602,
          -0.26029807329177856,
          -16.419429779052734,
          4.195941925048828,
          2.9308085441589355,
          12.808828353881836,
          6.005649566650391,
          4.758845329284668,
          -16.006019592285156,
          13.022427558898926,
          9.326826095581055,
          1.9385497570037842,
          12.670548439025879,
          15.768643379211426,
          4.136203765869141,
          -7.035861968994141,
          8.894038200378418,
          0.4344756007194519,
          8.078878402709961,
          8.95942211151123,
          -18.830928802490234,
          -21.901708602905273,
          8.67359447479248,
          10.622101783752441,
          -2.3385002613067627,
          -0.6629031896591187,
          2.039950132369995,
          17.95429801940918,
          -10.999626159667969,
          -11.986566543579102,
          -4.6895647048950195,
          4.687741279602051,
          6.343284606933594,
          -7.30204439163208,
          -10.424664497375488,
          5.439866542816162,
          2.3441240787506104,
          10.70591926574707,
          -3.607182502746582,
          5.148001670837402,
          10.425633430480957,
          7.697695732116699,
          -8.737250328063965,
          0.42662662267684937,
          1.6187794208526611,
          0.3031952679157257,
          16.138803482055664,
          -10.226578712463379,
          -6.872814178466797,
          3.660151481628418,
          -15.758520126342773,
          -2.580717086791992,
          -6.668082237243652,
          -16.47809410095215,
          -15.516972541809082,
          7.909241199493408,
          -9.291152954101562,
          14.217100143432617,
          -1.3893938064575195,
          -2.0497915744781494,
          -11.599355697631836,
          1.7604076862335205,
          2.1736857891082764,
          -0.4263880252838135,
          -15.49162769317627,
          -16.29374122619629,
          5.633529186248779,
          2.0677943229675293,
          1.376015305519104,
          9.180487632751465,
          1.978847861289978,
          -11.444047927856445,
          10.339849472045898,
          4.525694847106934,
          -7.615056037902832,
          -12.810269355773926,
          6.726675510406494,
          -0.6181479692459106,
          3.228055000305176,
          -9.106422424316406,
          -12.083040237426758,
          1.4994804859161377,
          10.8466796875,
          -2.9286298751831055,
          -12.12546157836914,
          1.3021924495697021,
          5.101402759552002,
          -5.675259590148926,
          -10.110005378723145,
          0.25618410110473633,
          6.409278392791748,
          11.002849578857422,
          -8.336590766906738,
          1.560051679611206,
          -9.204476356506348,
          -2.1987862586975098,
          11.261547088623047,
          8.921717643737793,
          8.460701942443848,
          -19.750051498413086,
          -7.211808681488037,
          -6.772416114807129,
          1.6151466369628906,
          3.171161413192749,
          3.874950885772705,
          -5.710439682006836,
          -15.490935325622559,
          -2.4337210655212402,
          11.292654037475586,
          -2.0233757495880127,
          -3.7485833168029785,
          -0.13069812953472137,
          -4.191930770874023,
          9.543625831604004,
          7.5803303718566895,
          -12.118285179138184,
          5.227696418762207,
          -0.6163344979286194,
          -1.6957156658172607,
          -7.097236156463623,
          -0.6573474407196045,
          9.873403549194336,
          1.186522126197815,
          1.3026347160339355,
          3.1390130519866943,
          3.1036217212677,
          1.6435577869415283,
          1.711022138595581,
          0.6226563453674316,
          4.206759452819824,
          -2.113636016845703,
          5.116011142730713,
          7.801069259643555,
          9.006218910217285,
          5.4736247062683105,
          9.22044849395752,
          -8.656396865844727,
          5.077136039733887,
          -0.5173237919807434,
          6.325265884399414,
          6.2216410636901855,
          1.873637318611145,
          -3.599745273590088,
          -4.5643391609191895,
          0.8398816585540771,
          -9.23845100402832,
          -12.019583702087402,
          -11.139336585998535,
          -2.4588029384613037,
          1.7487143278121948,
          -0.6401529908180237,
          11.100756645202637,
          2.5905232429504395,
          -9.415061950683594,
          2.112830638885498,
          4.105926990509033,
          -10.025111198425293,
          7.756288051605225,
          3.108077049255371,
          2.611464500427246,
          10.265609741210938,
          8.953655242919922,
          5.09467887878418,
          -0.5483666062355042,
          -1.4356205463409424,
          2.0045063495635986,
          4.558597087860107,
          2.4169325828552246,
          3.686795711517334,
          -15.356806755065918,
          9.332722663879395,
          -0.9829317331314087,
          16.0526123046875,
          -15.806151390075684,
          -8.40195369720459,
          6.2876362800598145,
          7.937405109405518,
          -4.285948276519775,
          9.59719467163086,
          10.7145414352417,
          7.597995758056641,
          2.760911226272583,
          8.532307624816895,
          14.74678897857666,
          -6.453579425811768,
          -0.19523166120052338,
          0.5173441767692566,
          6.946939468383789,
          9.993690490722656,
          2.727952241897583,
          7.1151838302612305,
          -1.0932704210281372,
          9.14311408996582,
          9.961648941040039,
          -7.136460304260254,
          4.204033851623535,
          -9.428442001342773,
          4.383809566497803,
          10.071639060974121,
          -12.299276351928711,
          -2.530045509338379,
          0.8182043433189392,
          2.183187246322632,
          12.543611526489258,
          -0.5000871419906616,
          -13.488277435302734,
          1.2190779447555542,
          11.48357105255127,
          -11.023900985717773,
          -15.420793533325195,
          12.836029052734375,
          7.033844947814941,
          3.215022325515747,
          11.316747665405273,
          -17.292600631713867,
          4.929585933685303,
          8.48979663848877,
          1.4602171182632446,
          -12.526556015014648,
          -0.30175936222076416,
          -0.7693670392036438,
          11.549510955810547,
          11.513635635375977,
          3.2013068199157715,
          4.392998695373535,
          0.3692255914211273,
          -17.36906623840332,
          -2.4831693172454834,
          -2.9696567058563232,
          -14.133770942687988,
          13.91718578338623,
          7.7736897468566895,
          17.748456954956055,
          5.85634183883667,
          -15.979116439819336,
          1.1125251054763794,
          -4.763523101806641,
          -7.039103984832764,
          4.465710163116455,
          16.583982467651367,
          -1.3786596059799194,
          7.5337815284729,
          -8.740812301635742,
          10.344657897949219,
          -6.785302639007568,
          1.7304340600967407,
          -11.882986068725586,
          -6.15159797668457,
          -5.087157726287842,
          1.3306795358657837,
          -2.7946183681488037,
          6.112318515777588,
          -7.234675884246826,
          8.68212890625,
          -3.316406726837158,
          -14.241471290588379,
          -0.2465793639421463,
          2.3301761150360107,
          -2.2219669818878174,
          15.304083824157715,
          1.763666033744812,
          0.9005790948867798,
          -19.831634521484375,
          5.007034778594971,
          16.792274475097656,
          4.977277755737305,
          12.410385131835938,
          -1.4565167427062988,
          3.5334317684173584,
          -0.49371978640556335,
          -11.246600151062012,
          -14.005729675292969,
          1.4803682565689087,
          5.396751880645752,
          -13.87873363494873,
          2.6638293266296387,
          -6.340318202972412,
          8.606858253479004,
          -3.2651145458221436,
          -11.411689758300781,
          -2.4566221237182617,
          -14.78250789642334,
          -10.514691352844238,
          6.355985641479492,
          -15.16286563873291,
          -0.16595014929771423,
          -6.518579006195068,
          -0.38479119539260864,
          9.862028121948242,
          -17.865039825439453,
          3.7030372619628906,
          2.6230225563049316,
          -15.982316017150879,
          -2.208876848220825,
          16.02446937561035,
          3.107372999191284,
          3.3385374546051025,
          2.600957155227661,
          0.059771016240119934,
          9.462002754211426,
          1.7675416469573975,
          -4.408563613891602,
          6.173436164855957,
          4.416257858276367,
          4.607227325439453,
          6.031792163848877,
          -7.179244041442871,
          -12.465461730957031,
          10.778807640075684,
          16.441076278686523,
          2.276848554611206,
          -2.4030086994171143,
          -9.82314682006836,
          -5.416895389556885,
          14.806270599365234,
          11.239466667175293,
          -3.7681992053985596,
          -8.13718318939209,
          2.6130518913269043,
          -2.9436020851135254,
          5.97466516494751,
          -13.887223243713379,
          5.296719551086426,
          4.1362080574035645,
          -0.145814448595047,
          14.478748321533203,
          -8.078780174255371,
          8.562236785888672,
          -6.572266578674316,
          2.8480453491210938,
          8.326951026916504,
          2.856736898422241,
          -5.343664646148682,
          3.6544315814971924,
          2.769770383834839,
          -13.887110710144043,
          11.174164772033691,
          3.1381947994232178,
          -12.618224143981934,
          9.341703414916992,
          9.364204406738281,
          7.788032054901123,
          -12.348799705505371,
          -2.6903603076934814,
          4.993270397186279,
          -5.603984355926514,
          12.629167556762695,
          0.5762611627578735,
          6.198919296264648,
          -6.296964645385742,
          4.521890640258789,
          3.729654312133789,
          11.9172945022583,
          -0.5460910201072693,
          9.133615493774414,
          5.140390396118164,
          -3.2857091426849365,
          15.775151252746582,
          5.704104423522949,
          5.8338189125061035,
          7.140283107757568,
          6.992468357086182,
          2.5729711055755615,
          9.006803512573242,
          -6.816518783569336,
          15.448402404785156,
          -9.396259307861328,
          4.072429180145264,
          -4.988245487213135,
          6.891585350036621,
          3.4971258640289307,
          1.2471147775650024,
          2.693979501724243,
          3.845484495162964,
          -3.5612049102783203,
          -6.796816825866699,
          -2.8394546508789062,
          -3.5666608810424805,
          8.756921768188477,
          8.560358047485352,
          15.33911418914795,
          7.54776668548584,
          -11.70938777923584,
          7.1718902587890625,
          3.7381210327148438,
          -13.061029434204102,
          0.6134636998176575,
          -7.761030197143555,
          4.808596611022949,
          -5.797759056091309,
          5.395927429199219,
          -11.325210571289062,
          3.2510898113250732,
          10.876764297485352,
          6.865501880645752,
          9.41163444519043,
          -19.64356803894043,
          3.8480794429779053,
          14.2896146774292,
          10.612563133239746,
          14.72571849822998,
          7.025609493255615,
          13.309399604797363,
          -8.7875394821167,
          -5.001718521118164,
          -16.47734260559082,
          9.879644393920898,
          -6.108663082122803,
          -12.449968338012695,
          -18.368303298950195,
          -12.280176162719727,
          -5.305599689483643,
          9.848048210144043,
          -19.985002517700195,
          -2.2209930419921875,
          7.211973190307617,
          -18.09731101989746,
          -7.197401523590088,
          9.190855026245117,
          -1.833713412284851,
          -11.313714981079102,
          4.399423599243164,
          3.2825403213500977,
          5.798553943634033,
          9.044683456420898,
          17.637073516845703,
          1.40863037109375,
          6.838386535644531,
          -1.7824774980545044,
          6.379349708557129,
          -3.126925468444824,
          5.5419602394104,
          -17.52052879333496,
          -3.9694786071777344,
          -19.182466506958008,
          6.930595397949219,
          7.9066314697265625,
          -14.328347206115723,
          -12.364188194274902,
          14.585485458374023,
          6.840075969696045,
          -9.237486839294434,
          6.42907190322876,
          8.372766494750977,
          8.613445281982422,
          13.394641876220703,
          -12.503437995910645,
          3.3900580406188965,
          -0.5659028887748718,
          2.687311887741089,
          -0.20366208255290985,
          1.3339989185333252,
          -6.883958339691162,
          -15.071549415588379,
          11.28425121307373,
          -2.6808903217315674,
          -5.250155925750732,
          1.3729455471038818,
          -19.524311065673828,
          -13.74671745300293,
          -4.274656295776367,
          -10.689278602600098,
          -3.1406478881835938,
          -8.740962982177734,
          10.359993934631348,
          2.8445942401885986,
          9.493358612060547,
          -1.5231008529663086,
          7.653268814086914,
          -15.24419116973877,
          -9.728422164916992,
          -7.098304748535156,
          10.039114952087402,
          5.563633918762207,
          14.124051094055176,
          2.278928756713867,
          -6.081876277923584,
          12.589438438415527,
          3.370778799057007,
          10.217547416687012,
          -3.224794387817383,
          4.996382713317871,
          1.343256950378418,
          -11.43484115600586,
          -6.376445293426514,
          -3.439678907394409,
          6.96061897277832,
          -14.605998992919922,
          1.8013838529586792,
          -5.418889045715332,
          9.420973777770996,
          1.1242344379425049,
          -1.4729630947113037,
          -8.254499435424805,
          -1.050719976425171,
          0.4460459351539612,
          -7.640652656555176,
          9.691985130310059,
          8.740262985229492,
          5.404783725738525,
          14.292343139648438,
          3.2331974506378174,
          -0.7774966359138489,
          -2.7199645042419434,
          -9.125935554504395,
          -11.329017639160156,
          8.217008590698242,
          7.999234199523926,
          15.2904634475708,
          1.6969956159591675,
          1.6215678453445435,
          -10.30858039855957,
          8.663994789123535,
          13.81767749786377,
          13.538147926330566,
          8.706198692321777,
          1.0561821460723877,
          -6.280453205108643,
          -5.606801509857178,
          -1.6813410520553589,
          -0.41383489966392517,
          2.0174741744995117,
          5.3434648513793945,
          1.342715859413147,
          4.478408336639404,
          8.325836181640625,
          -10.429242134094238,
          -10.52534294128418,
          1.387613296508789,
          8.61168384552002,
          10.9149751663208,
          8.614619255065918,
          -16.287038803100586,
          15.86471176147461,
          8.90821361541748,
          -8.388914108276367,
          -13.269501686096191,
          -9.581902503967285,
          -4.0154900550842285,
          -2.7052111625671387,
          0.019902076572179794,
          5.3839240074157715,
          -14.86690616607666,
          5.720704555511475,
          -0.09371379017829895,
          -4.516236305236816,
          1.0413087606430054,
          -11.408931732177734,
          13.766342163085938,
          -13.314847946166992,
          6.347978591918945,
          -0.19297601282596588,
          8.50841999053955,
          13.69039535522461,
          -6.624111175537109,
          17.237730026245117,
          -11.575827598571777,
          -0.1489378660917282,
          -4.468130111694336,
          -3.0491318702697754,
          1.2471897602081299,
          -0.9394254684448242,
          10.88062572479248,
          -17.33405876159668,
          -0.16371877491474152,
          -4.301298141479492,
          -0.35183027386665344,
          12.064533233642578,
          -0.8641291856765747,
          -3.8823750019073486,
          11.656818389892578,
          12.5853853225708,
          8.351201057434082,
          -4.388299465179443,
          6.555083751678467,
          -8.916794776916504,
          -13.257574081420898,
          -4.881509304046631,
          3.6676454544067383,
          5.112926959991455,
          16.673601150512695,
          -12.13913345336914,
          -6.377020359039307,
          16.519458770751953,
          9.918991088867188,
          12.518096923828125,
          -5.063922882080078,
          14.946965217590332,
          15.238689422607422,
          1.8101317882537842,
          -0.6901858448982239,
          6.933022975921631,
          -4.281346797943115,
          -9.475364685058594,
          -1.4388039112091064,
          -4.305444240570068,
          -15.187545776367188,
          -7.873264312744141,
          2.351943254470825,
          -2.885935068130493,
          -2.994080066680908,
          -4.213862895965576,
          -2.0027081966400146,
          8.386653900146484,
          7.188255310058594,
          -13.540324211120605,
          6.3713698387146,
          4.485159873962402,
          10.171918869018555,
          -0.12078440934419632,
          -0.02948971837759018,
          2.324650287628174,
          3.4019718170166016,
          13.135187149047852,
          7.119767189025879,
          -0.24645677208900452,
          11.958403587341309,
          -13.713444709777832,
          -11.696441650390625,
          9.824281692504883,
          2.107398271560669,
          -0.659382164478302,
          -13.69810962677002,
          2.130195140838623,
          -21.537883758544922,
          -16.901517868041992,
          1.0011887550354004,
          17.517345428466797,
          11.153253555297852,
          6.771825790405273,
          -1.108189344406128,
          3.659287214279175,
          7.719640254974365,
          -1.5264694690704346,
          -8.607816696166992,
          3.663590669631958,
          3.9021620750427246,
          -0.4572674632072449,
          15.07708740234375,
          9.738197326660156,
          -2.923076629638672,
          -8.996719360351562,
          -12.46243667602539,
          -14.238595008850098,
          -3.365466594696045,
          0.9333078861236572,
          5.74575138092041,
          -1.962253212928772,
          -6.672149658203125,
          6.78394889831543,
          4.55915641784668,
          -0.27577680349349976,
          2.3894741535186768,
          -1.2279572486877441,
          9.306916236877441,
          9.005075454711914,
          -3.7580416202545166,
          -17.447423934936523,
          -16.346633911132812,
          6.804228782653809,
          -15.077936172485352,
          8.461395263671875,
          -0.02456740476191044,
          -12.928257942199707,
          -10.057473182678223,
          6.938417911529541,
          10.429455757141113,
          1.0297452211380005,
          2.632854461669922,
          -11.031848907470703,
          -8.075475692749023,
          -5.284717559814453,
          10.025079727172852,
          4.5402750968933105,
          -11.328056335449219,
          3.1377787590026855,
          -1.22065007686615,
          -12.792184829711914,
          6.7992963790893555,
          0.7543758749961853,
          -13.859283447265625,
          0.3919049799442291,
          5.280451774597168,
          -10.048975944519043,
          -5.320374965667725,
          -6.350484848022461,
          2.996166944503784,
          -1.4024784564971924,
          -3.3929355144500732,
          -17.340652465820312,
          6.863134860992432,
          2.034515380859375,
          -6.261724948883057,
          -15.86436653137207,
          -9.692909240722656,
          5.210253715515137,
          3.185163974761963,
          -10.805390357971191,
          13.142868041992188,
          -13.168392181396484,
          -7.0218377113342285,
          3.0020904541015625,
          10.45136833190918,
          12.330486297607422,
          0.38564273715019226,
          -1.8495110273361206,
          6.692026615142822,
          4.746749401092529,
          -14.010456085205078,
          9.256851196289062,
          2.123952627182007,
          -10.559892654418945,
          -16.845109939575195,
          -0.667914867401123,
          11.181451797485352,
          -1.5519680976867676,
          0.886772871017456,
          3.7155003547668457,
          10.563268661499023,
          10.37771224975586,
          5.92872428894043,
          5.31687068939209,
          -12.432075500488281,
          14.51807689666748,
          -22.0777530670166,
          12.742742538452148,
          -13.606961250305176,
          10.751084327697754,
          4.875470161437988,
          4.44663143157959,
          -16.017576217651367,
          -14.937251091003418,
          -16.204113006591797,
          -3.8842782974243164,
          -13.844707489013672,
          -4.502946376800537,
          -3.061438798904419,
          17.628393173217773,
          -19.9415283203125,
          16.16317367553711,
          6.339725494384766,
          7.781702995300293,
          -14.849528312683105,
          3.592758893966675,
          -17.112998962402344,
          4.284790515899658,
          16.210153579711914,
          -16.089548110961914,
          -0.8264002203941345,
          -12.761999130249023,
          -8.629447937011719,
          4.215465068817139,
          -17.06197166442871,
          -1.58784019947052,
          -13.680146217346191,
          -4.07697868347168,
          2.219273328781128,
          5.398437023162842,
          -12.738248825073242,
          -0.5418052673339844,
          18.31151580810547,
          -11.872444152832031,
          -12.885588645935059,
          -11.916133880615234,
          6.834574222564697,
          7.023196697235107,
          -15.921344757080078,
          -3.7278006076812744,
          -13.398170471191406,
          3.3093786239624023,
          1.9530764818191528,
          4.129244804382324,
          -17.097490310668945,
          3.689819097518921,
          -19.81873893737793,
          13.324731826782227,
          0.8155414462089539,
          3.350835084915161,
          -1.963422179222107,
          13.113936424255371,
          6.140231609344482,
          8.616479873657227,
          6.6698760986328125,
          4.631477355957031,
          -13.10787296295166,
          -4.565631866455078,
          -17.70274543762207,
          -0.9179483652114868,
          2.260115146636963,
          -1.1252660751342773,
          8.253754615783691,
          14.088934898376465,
          4.841331958770752,
          -6.361992359161377,
          12.601629257202148,
          5.1285858154296875,
          4.918752670288086,
          5.5424323081970215,
          -0.44313564896583557,
          -14.290796279907227,
          -12.999800682067871,
          -3.3496944904327393,
          -14.826048851013184,
          -10.63338851928711,
          15.754115104675293,
          6.305968761444092,
          9.32817554473877,
          7.006369113922119,
          -11.640054702758789,
          1.1136144399642944,
          9.449203491210938,
          -11.78234577178955,
          13.122162818908691,
          6.420657157897949,
          -14.182455062866211,
          10.933167457580566,
          -15.539217948913574
         ],
         "y": [
          -4.193061828613281,
          11.500045776367188,
          1.8828312158584595,
          5.484214782714844,
          -1.2283110618591309,
          2.2778453826904297,
          -0.9060381054878235,
          17.795738220214844,
          1.9913899898529053,
          -11.861191749572754,
          0.9612893462181091,
          10.415709495544434,
          -2.5207531452178955,
          11.36247444152832,
          -6.0189008712768555,
          -5.588129043579102,
          0.5695263147354126,
          14.053410530090332,
          11.554101943969727,
          0.6083531379699707,
          -4.6752190589904785,
          -1.9785579442977905,
          -9.41142463684082,
          -1.2904062271118164,
          -13.542104721069336,
          4.65413236618042,
          -6.86527156829834,
          -1.172491431236267,
          -5.584113597869873,
          -1.2599668502807617,
          -3.521803140640259,
          -6.184680461883545,
          -12.866195678710938,
          -12.405942916870117,
          10.111710548400879,
          -1.3178709745407104,
          2.989851951599121,
          14.708575248718262,
          -0.7736803889274597,
          -9.90488338470459,
          -2.4730069637298584,
          -12.48649787902832,
          -4.65701961517334,
          12.382554054260254,
          -11.98859977722168,
          -10.79236888885498,
          2.75986385345459,
          -0.5725841522216797,
          0.7209634184837341,
          -10.09622573852539,
          -0.288446843624115,
          1.8117163181304932,
          -4.885011672973633,
          0.15408717095851898,
          -1.8221545219421387,
          -6.100844860076904,
          3.9967381954193115,
          9.010062217712402,
          0.7985985279083252,
          -16.612850189208984,
          -3.7428324222564697,
          -11.248885154724121,
          4.530951976776123,
          -8.764290809631348,
          4.139173984527588,
          0.8501355648040771,
          -2.763427257537842,
          -9.015584945678711,
          -4.938883304595947,
          11.64991283416748,
          1.5697664022445679,
          -1.7238636016845703,
          -7.1309380531311035,
          -8.37624740600586,
          8.999788284301758,
          -8.606038093566895,
          7.390013694763184,
          2.778360366821289,
          -0.6104068756103516,
          3.010830879211426,
          -2.899639844894409,
          -0.8249481320381165,
          -4.584278583526611,
          0.8801040649414062,
          -13.68765926361084,
          -1.4246160984039307,
          -2.607775926589966,
          2.176103353500366,
          -1.668068766593933,
          -16.71111297607422,
          -4.696329116821289,
          5.823564052581787,
          -6.935809135437012,
          0.4953955113887787,
          -2.1288719177246094,
          -4.569591045379639,
          -12.188607215881348,
          -1.281421422958374,
          -1.9566675424575806,
          8.61186695098877,
          -12.37088680267334,
          -13.15090274810791,
          -2.4785735607147217,
          -2.4886364936828613,
          10.903807640075684,
          2.5913734436035156,
          -3.49364972114563,
          -1.903159737586975,
          14.385212898254395,
          7.1663289070129395,
          -1.9741631746292114,
          16.631561279296875,
          -6.088542461395264,
          6.809966087341309,
          3.303384780883789,
          0.3855004608631134,
          -1.1653913259506226,
          2.00437593460083,
          -14.276864051818848,
          0.3663181960582733,
          7.380303382873535,
          -13.961264610290527,
          0.6037864685058594,
          4.224124431610107,
          17.53472137451172,
          12.031073570251465,
          -4.5769195556640625,
          14.585487365722656,
          -15.373353958129883,
          18.40615463256836,
          -1.4035639762878418,
          2.6728878021240234,
          16.566022872924805,
          4.13316535949707,
          -6.597238063812256,
          12.789239883422852,
          13.731698989868164,
          2.5039052963256836,
          6.062185764312744,
          5.656093597412109,
          8.281737327575684,
          -0.6067568063735962,
          -7.81793737411499,
          -13.451783180236816,
          1.0041037797927856,
          1.6610517501831055,
          -7.998180389404297,
          3.770883798599243,
          15.530609130859375,
          16.74007797241211,
          3.7867493629455566,
          18.230073928833008,
          4.111767292022705,
          9.544234275817871,
          -0.22288034856319427,
          2.6401376724243164,
          0.03763383999466896,
          -5.03006649017334,
          13.429340362548828,
          5.062155723571777,
          2.9279332160949707,
          -15.401906967163086,
          -2.8555338382720947,
          -0.9928624033927917,
          6.714122772216797,
          -0.6205031275749207,
          8.867761611938477,
          -11.263530731201172,
          -0.687843918800354,
          -0.355876624584198,
          0.3452589511871338,
          -17.60128402709961,
          11.74218463897705,
          -9.53593635559082,
          -5.3819732666015625,
          -14.605277061462402,
          15.813209533691406,
          13.755621910095215,
          -12.691926002502441,
          8.969223976135254,
          18.319053649902344,
          -4.215636253356934,
          9.484599113464355,
          1.4362120628356934,
          15.102707862854004,
          4.048392295837402,
          6.35698127746582,
          3.1996748447418213,
          15.542276382446289,
          -2.4861507415771484,
          -11.458247184753418,
          -10.402997016906738,
          -1.0989247560501099,
          -2.084652900695801,
          -4.2126784324646,
          0.12514328956604004,
          -16.122108459472656,
          0.11726733297109604,
          -1.816271185874939,
          1.580075740814209,
          -3.7598536014556885,
          -2.5679712295532227,
          0.14606408774852753,
          9.49028205871582,
          0.9277199506759644,
          15.570408821105957,
          -10.179615020751953,
          4.967021942138672,
          6.1968889236450195,
          4.425436973571777,
          -3.0969595909118652,
          -11.128565788269043,
          -9.592321395874023,
          0.9419244527816772,
          -12.71165657043457,
          -0.05429933965206146,
          -16.465429306030273,
          0.5328143835067749,
          -11.791507720947266,
          -11.884394645690918,
          -8.33034610748291,
          2.7731661796569824,
          -3.3654818534851074,
          2.8565027713775635,
          -5.795854568481445,
          11.106789588928223,
          -3.5878560543060303,
          14.685640335083008,
          2.9877943992614746,
          11.274948120117188,
          11.213787078857422,
          -14.299603462219238,
          -1.3721263408660889,
          2.3637356758117676,
          -1.8078093528747559,
          -9.694042205810547,
          9.303223609924316,
          -5.607146263122559,
          -7.966378211975098,
          -3.6220734119415283,
          12.92532730102539,
          -6.431430339813232,
          2.120833396911621,
          -6.521201133728027,
          6.802995204925537,
          -3.917790174484253,
          -0.7544425129890442,
          1.8929814100265503,
          8.453826904296875,
          2.4267029762268066,
          1.5950448513031006,
          -0.5325278639793396,
          -5.6459879875183105,
          -11.29343032836914,
          2.336582660675049,
          4.760259628295898,
          6.48868465423584,
          5.37870979309082,
          3.105900764465332,
          -8.966304779052734,
          1.7307367324829102,
          -1.4324116706848145,
          -12.430777549743652,
          5.972385883331299,
          -4.840791702270508,
          0.25118324160575867,
          10.2133207321167,
          -0.7276526689529419,
          -4.750350475311279,
          9.280746459960938,
          -0.5636933445930481,
          -0.3150045871734619,
          -4.71800422668457,
          -4.774949073791504,
          -5.971182823181152,
          3.697089910507202,
          7.9205732345581055,
          -4.911273002624512,
          -11.321943283081055,
          10.602849960327148,
          -8.821404457092285,
          2.2874057292938232,
          7.6092329025268555,
          -5.9589948654174805,
          -5.666976451873779,
          7.823371410369873,
          16.926395416259766,
          8.293678283691406,
          5.48560905456543,
          11.617892265319824,
          -9.488849639892578,
          -6.072380065917969,
          -8.563578605651855,
          -1.9280203580856323,
          -7.938015460968018,
          5.30094575881958,
          -9.470224380493164,
          -12.38936710357666,
          0.15742598474025726,
          -11.113648414611816,
          -5.285628318786621,
          -16.580678939819336,
          -5.562315940856934,
          1.3014464378356934,
          4.02379846572876,
          -1.8628923892974854,
          3.791294813156128,
          -10.85094928741455,
          1.7197545766830444,
          -8.72441577911377,
          -9.759491920471191,
          7.063453674316406,
          2.676424503326416,
          -9.81851577758789,
          10.537198066711426,
          -9.003273010253906,
          10.684414863586426,
          -8.367291450500488,
          1.6406433582305908,
          -8.087651252746582,
          -1.0731768608093262,
          13.005566596984863,
          -8.435303688049316,
          0.4854743182659149,
          -10.745648384094238,
          16.81709098815918,
          -3.5606043338775635,
          -7.160649299621582,
          14.256064414978027,
          4.969202041625977,
          -1.017786979675293,
          2.8711681365966797,
          3.035900592803955,
          -1.3165395259857178,
          -3.1965584754943848,
          -1.017970323562622,
          2.1647911071777344,
          -5.74120569229126,
          -1.9715182781219482,
          10.229427337646484,
          0.7990392446517944,
          -1.7052438259124756,
          3.234560489654541,
          10.143824577331543,
          -3.5510144233703613,
          3.2424941062927246,
          16.4433536529541,
          2.326545238494873,
          2.7196202278137207,
          1.2496992349624634,
          -0.16190683841705322,
          11.345830917358398,
          -12.797518730163574,
          4.289984703063965,
          -0.748406171798706,
          7.184906005859375,
          6.856698513031006,
          13.339983940124512,
          9.197688102722168,
          -3.3471364974975586,
          1.0718778371810913,
          -9.162174224853516,
          -4.710085868835449,
          -8.917145729064941,
          -1.823910117149353,
          -9.232646942138672,
          2.1576130390167236,
          12.129071235656738,
          0.035738393664360046,
          13.183187484741211,
          5.731940269470215,
          -3.062756299972534,
          -15.14539623260498,
          14.487011909484863,
          -6.490480899810791,
          -2.873640537261963,
          -5.281284809112549,
          16.485918045043945,
          6.722235679626465,
          -2.405613660812378,
          7.748796463012695,
          9.750930786132812,
          9.281800270080566,
          -7.8453545570373535,
          9.751893997192383,
          11.846851348876953,
          -7.319084167480469,
          15.349699974060059,
          17.714427947998047,
          8.920093536376953,
          -8.4795503616333,
          -14.02145767211914,
          -8.839404106140137,
          16.03521156311035,
          0.4348720610141754,
          -0.4969936013221741,
          -2.0493698120117188,
          10.724709510803223,
          -3.3278701305389404,
          11.046740531921387,
          1.4964672327041626,
          2.0872862339019775,
          1.9733296632766724,
          -1.572907567024231,
          -18.110992431640625,
          -9.096879959106445,
          9.076713562011719,
          -0.679581880569458,
          -4.71881628036499,
          -1.4185616970062256,
          8.157999992370605,
          -2.91139554977417,
          3.2439534664154053,
          -2.075684070587158,
          11.62366771697998,
          0.5507800579071045,
          9.540313720703125,
          -9.463987350463867,
          -8.074857711791992,
          6.2256669998168945,
          -16.461103439331055,
          -5.739505290985107,
          0.22634358704090118,
          10.835640907287598,
          17.693233489990234,
          -6.981509685516357,
          4.705883502960205,
          12.225354194641113,
          -3.0839180946350098,
          -2.878918409347534,
          10.391471862792969,
          -4.42943000793457,
          12.956093788146973,
          -14.7804594039917,
          2.9930026531219482,
          -3.4368696212768555,
          10.957916259765625,
          -10.788467407226562,
          -3.419684886932373,
          -10.268717765808105,
          12.047720909118652,
          -16.023813247680664,
          0.7672299146652222,
          -8.460531234741211,
          2.5706300735473633,
          3.2428901195526123,
          0.46054932475090027,
          -4.46925687789917,
          -14.770334243774414,
          -3.581968307495117,
          -3.338372230529785,
          8.553736686706543,
          3.0118026733398438,
          -6.951649188995361,
          -0.87415611743927,
          2.4769601821899414,
          9.428677558898926,
          -4.885567665100098,
          -17.677751541137695,
          8.925773620605469,
          7.273506164550781,
          -1.9839324951171875,
          15.155007362365723,
          -1.9866178035736084,
          4.936182498931885,
          8.26685905456543,
          14.623645782470703,
          -12.873539924621582,
          3.407038927078247,
          15.210530281066895,
          -0.770887553691864,
          3.708242177963257,
          -9.70333480834961,
          -5.799137115478516,
          -1.8820271492004395,
          3.795848846435547,
          -2.0915567874908447,
          12.98323917388916,
          -9.523938179016113,
          1.4227741956710815,
          1.9059985876083374,
          0.33203503489494324,
          -2.74927020072937,
          -3.3818156719207764,
          -8.585460662841797,
          -15.189077377319336,
          10.206893920898438,
          -17.56049919128418,
          -5.155600070953369,
          -9.602731704711914,
          -6.887592792510986,
          -1.276572585105896,
          1.4483394622802734,
          12.820140838623047,
          -0.7721139192581177,
          6.932073593139648,
          1.0665041208267212,
          -8.047001838684082,
          0.20832976698875427,
          -5.030272483825684,
          1.933676838874817,
          -11.889261245727539,
          -13.297598838806152,
          3.664174795150757,
          -0.9682298898696899,
          3.96142315864563,
          -2.493086338043213,
          -2.067153215408325,
          -9.147494316101074,
          -3.118399143218994,
          5.67499303817749,
          12.75380802154541,
          -2.738600730895996,
          -13.950109481811523,
          -12.413817405700684,
          6.976902008056641,
          -1.9499832391738892,
          4.943704128265381,
          -0.5453088879585266,
          4.524068832397461,
          -2.0731217861175537,
          -2.9904427528381348,
          0.9669644236564636,
          -3.9637906551361084,
          -8.246999740600586,
          -11.268980979919434,
          6.886643886566162,
          0.6920406222343445,
          -8.738367080688477,
          -7.646445274353027,
          -9.125497817993164,
          18.79776954650879,
          -1.1950106620788574,
          -7.781585693359375,
          -3.313995599746704,
          16.705703735351562,
          8.590904235839844,
          -16.693647384643555,
          -2.164107322692871,
          1.7815543413162231,
          6.355479717254639,
          2.8647429943084717,
          -14.15587329864502,
          -0.5382551550865173,
          4.906350135803223,
          2.6870784759521484,
          4.494533061981201,
          -5.567628383636475,
          -1.4262436628341675,
          -2.1055502891540527,
          -1.6306402683258057,
          -5.076266765594482,
          11.79596996307373,
          9.426162719726562,
          5.394641876220703,
          -6.216919898986816,
          -13.38625717163086,
          14.749710083007812,
          4.694521903991699,
          3.618661880493164,
          -1.3733314275741577,
          -16.533660888671875,
          -7.604276180267334,
          -5.472947597503662,
          -3.139716148376465,
          -0.45810747146606445,
          -14.350240707397461,
          -5.057718276977539,
          15.110359191894531,
          -3.9347517490386963,
          -6.224626541137695,
          -3.2764594554901123,
          -9.014595985412598,
          6.640674114227295,
          1.5316962003707886,
          0.7350874543190002,
          -7.68008279800415,
          -11.060813903808594,
          -1.6557197570800781,
          -5.405076026916504,
          -2.762848138809204,
          13.464132308959961,
          6.198327541351318,
          -10.861848831176758,
          10.074844360351562,
          -14.622247695922852,
          -12.370986938476562,
          -2.6679017543792725,
          -8.509521484375,
          13.492318153381348,
          -6.6115899085998535,
          6.6787261962890625,
          10.012532234191895,
          -6.659083366394043,
          11.249094009399414,
          11.568861961364746,
          11.40682315826416,
          -14.259943008422852,
          7.746399879455566,
          -8.30698013305664,
          6.859683513641357,
          -10.39030647277832,
          -9.295722007751465,
          -2.0708541870117188,
          -3.040079116821289,
          -0.054117076098918915,
          -11.199886322021484,
          8.885868072509766,
          -2.438978433609009,
          -2.159116506576538,
          0.8794137835502625,
          -1.7824112176895142,
          -0.010150725021958351,
          5.948906898498535,
          -6.083479404449463,
          11.29857063293457,
          -6.525451183319092,
          14.937085151672363,
          -3.8689048290252686,
          -10.481124877929688,
          -2.0354137420654297,
          -2.8315677642822266,
          -2.789890766143799,
          -4.870190620422363,
          8.901057243347168,
          -4.6539225578308105,
          9.59970474243164,
          10.425141334533691,
          2.4198191165924072,
          1.0258451700210571,
          12.387971878051758,
          2.861600875854492,
          5.418614387512207,
          -0.0021697157062590122,
          -15.053815841674805,
          0.9569699168205261,
          3.8785758018493652,
          14.006613731384277,
          -3.125441789627075,
          4.539179801940918,
          4.051419734954834,
          0.0018766385037451982,
          8.502408981323242,
          11.664449691772461,
          -8.251949310302734,
          6.305475234985352,
          0.9217954874038696,
          11.518462181091309,
          4.849621295928955,
          -7.325199127197266,
          3.0688023567199707,
          9.980859756469727,
          9.871903419494629,
          0.1859530806541443,
          -5.489706039428711,
          -10.049896240234375,
          -10.795878410339355,
          17.886648178100586,
          3.014024019241333,
          9.35634708404541,
          -1.6834245920181274,
          -14.925375938415527,
          2.325610637664795,
          -11.476141929626465,
          -2.1172401905059814,
          -6.280275821685791,
          -7.927237033843994,
          10.788681030273438,
          0.6369439363479614,
          -2.1705322265625,
          -10.916499137878418,
          -9.095597267150879,
          4.078272819519043,
          -0.5873140692710876,
          2.946648120880127,
          -6.324450969696045,
          2.0262677669525146,
          -2.622588872909546,
          -16.0402774810791,
          -2.0686590671539307,
          0.023726262152194977,
          1.0286931991577148,
          0.0543837770819664,
          -9.622427940368652,
          11.202532768249512,
          -12.454291343688965,
          -1.3898006677627563,
          -3.7113163471221924,
          -7.860903739929199,
          -1.694381594657898,
          -0.7957884073257446,
          0.7105824947357178,
          9.537346839904785,
          -13.291098594665527,
          -5.485931396484375,
          7.6943440437316895,
          10.765687942504883,
          10.56428050994873,
          -13.845094680786133,
          -7.359256267547607,
          -7.087008476257324,
          -12.705418586730957,
          -1.2338035106658936,
          7.661922454833984,
          1.9635374546051025,
          -1.643568515777588,
          3.8394415378570557,
          -5.889458179473877,
          -2.5998165607452393,
          -5.527389049530029,
          16.11041259765625,
          -17.35002899169922,
          1.599457025527954,
          -8.563968658447266,
          -11.980918884277344,
          3.112813711166382,
          0.9515168070793152,
          -8.31610107421875,
          4.699072360992432,
          -5.326353073120117,
          9.599784851074219,
          14.759370803833008,
          1.4510765075683594,
          -4.687384128570557,
          13.311443328857422,
          -5.137505531311035,
          4.057784557342529,
          7.994927883148193,
          0.9179072976112366,
          9.390560150146484,
          -13.262337684631348,
          14.681559562683105,
          8.345381736755371,
          -3.4785373210906982,
          -1.6988075971603394,
          -1.934801459312439,
          4.9825520515441895,
          1.6106985807418823,
          10.259384155273438,
          -14.826835632324219,
          -8.63077449798584,
          -9.172677040100098,
          -6.2110772132873535,
          1.1940439939498901,
          7.072793006896973,
          4.47083854675293,
          0.5907027721405029,
          12.253617286682129,
          -10.303742408752441,
          17.706157684326172,
          11.137986183166504,
          15.64388370513916,
          -0.543362557888031,
          -0.3082624673843384,
          17.13147735595703,
          0.12362466007471085,
          -2.5437166690826416,
          -2.2966325283050537,
          -7.17185640335083,
          2.2195963859558105,
          -10.670197486877441,
          -7.75620698928833,
          12.329911231994629,
          6.112928867340088,
          -15.324857711791992,
          -1.1062136888504028,
          -1.4842853546142578,
          0.48928213119506836,
          -0.4504784643650055,
          -2.5952768325805664,
          -2.3122456073760986,
          -4.047848224639893,
          -13.786057472229004,
          -5.436354160308838,
          -13.356253623962402,
          -15.987788200378418,
          -4.170334339141846,
          7.114784240722656,
          3.6036570072174072,
          -0.8221840858459473,
          -6.1130805015563965,
          0.7110130190849304,
          -0.7134919166564941,
          -6.7693939208984375,
          17.777503967285156,
          5.694862365722656,
          -2.0601186752319336,
          -2.321479082107544,
          -2.3609867095947266,
          -6.71674919128418,
          -8.160391807556152,
          0.20618636906147003,
          -3.4367241859436035,
          -14.546357154846191,
          -4.3969035148620605,
          -6.4228997230529785,
          -10.117186546325684,
          -3.986785650253296,
          5.327682971954346,
          -12.150781631469727,
          -10.172226905822754,
          -6.997743606567383,
          5.601823329925537,
          7.62127685546875,
          -12.746774673461914,
          -0.07753892987966537,
          16.14076042175293,
          -9.889082908630371,
          -3.1659369468688965,
          0.40242353081703186,
          -9.52070140838623,
          -15.81798267364502,
          0.5106903910636902,
          2.264587879180908,
          -5.803074359893799,
          -3.1298747062683105,
          -5.2964768409729,
          -1.5644763708114624,
          8.452157974243164,
          17.190624237060547,
          -5.570788860321045,
          15.247349739074707,
          -14.168649673461914,
          -4.952855587005615,
          -9.335484504699707,
          -3.3285868167877197,
          -0.846659243106842,
          -1.764281988143921,
          -6.349852085113525,
          0.5403822064399719,
          -17.027873992919922,
          -11.150277137756348,
          -5.712139129638672,
          -11.326598167419434,
          12.336263656616211,
          -6.056295871734619,
          2.9842031002044678,
          -1.0377815961837769,
          14.736467361450195,
          -13.961543083190918,
          9.160923957824707,
          4.59915018081665,
          16.259471893310547,
          4.681902885437012,
          -15.439279556274414,
          -2.8270723819732666,
          8.976949691772461,
          0.2696187198162079,
          3.1274619102478027,
          3.9388842582702637,
          -4.610249996185303,
          18.32509422302246,
          18.80501937866211,
          17.363758087158203,
          -2.496960401535034,
          3.265676259994507,
          5.2819976806640625,
          -11.7676362991333,
          -14.192420959472656,
          -5.770792007446289,
          15.769170761108398,
          2.1373138427734375,
          16.602989196777344,
          1.4585821628570557,
          -6.434799671173096,
          -5.392866611480713,
          -13.392928123474121,
          -3.7339234352111816,
          -14.742776870727539,
          13.061837196350098,
          -3.298830986022949,
          8.953402519226074,
          -0.6253858804702759,
          -7.800137519836426,
          1.8467891216278076,
          -2.833390712738037,
          -2.4406514167785645,
          10.365577697753906,
          -14.211339950561523,
          18.391172409057617,
          -8.5800142288208,
          0.25880393385887146,
          -0.3266446590423584,
          0.8768619298934937,
          2.0234017372131348,
          -10.105286598205566,
          12.691132545471191,
          -1.3834636211395264,
          -0.7073240280151367,
          2.885606050491333,
          0.7041800618171692,
          6.525815963745117,
          0.7082011103630066,
          -0.5054477453231812,
          -6.047013759613037,
          -2.4497087001800537,
          7.667154312133789,
          11.679047584533691,
          0.48267045617103577,
          -9.045422554016113,
          3.0023467540740967,
          2.877423048019409,
          -1.3003238439559937,
          9.007302284240723,
          11.91939926147461,
          -3.4495575428009033,
          4.02827787399292,
          3.371500015258789,
          1.3842055797576904,
          -0.6172627806663513,
          -5.060551643371582,
          -14.61209774017334,
          3.2745566368103027,
          -2.2003517150878906,
          -15.735213279724121,
          12.426952362060547,
          0.4526781439781189,
          -1.2230849266052246,
          -0.7842965126037598,
          17.389997482299805,
          4.097543716430664,
          14.583954811096191,
          -0.7832325100898743,
          3.0209579467773438,
          0.21173737943172455,
          -2.4463276863098145,
          -2.955871820449829,
          0.9275747537612915,
          -0.859191358089447,
          6.081290245056152,
          -2.9482786655426025,
          -7.045788764953613,
          0.33022341132164,
          -8.60040283203125,
          4.852444648742676,
          7.889637470245361,
          -2.4973840713500977,
          -13.22964859008789,
          -2.6812543869018555,
          -0.5473235249519348,
          -4.948661804199219,
          7.713222503662109,
          -6.955592155456543,
          -3.0958054065704346,
          -5.484583377838135,
          -4.302704334259033,
          4.81751012802124,
          10.927602767944336,
          -8.282937049865723,
          5.980091571807861,
          -8.62398624420166,
          15.154581069946289,
          -8.123790740966797,
          11.303293228149414,
          7.520389080047607,
          13.129497528076172,
          6.8950581550598145,
          -3.8767054080963135,
          -6.835776329040527,
          -14.07140827178955,
          -7.791450023651123,
          -7.996555328369141,
          -13.133231163024902,
          -5.008528709411621,
          -2.5589373111724854,
          5.3362627029418945,
          -2.6005465984344482,
          12.578852653503418,
          8.894135475158691,
          6.728504657745361,
          -5.128947734832764,
          1.286006212234497,
          -5.729554653167725,
          7.639376640319824,
          5.499988079071045,
          -2.412036180496216,
          -8.24254035949707,
          3.724747657775879,
          2.38395357131958,
          13.476603507995605,
          -12.352356910705566,
          -3.4579310417175293,
          9.921188354492188,
          -8.115610122680664,
          -4.597048759460449,
          -3.468263626098633,
          -11.641862869262695,
          -4.5171966552734375,
          -2.3233273029327393,
          -8.331098556518555,
          -2.330199956893921,
          -11.563003540039062,
          -0.014576938934624195,
          -15.073685646057129,
          -0.5583680272102356,
          -1.9875304698944092,
          17.67919921875,
          -6.1953511238098145,
          13.936899185180664,
          -0.014129008166491985,
          12.384345054626465,
          -4.631836891174316,
          -11.805766105651855,
          -5.472997188568115,
          9.494394302368164,
          -8.360843658447266,
          15.163549423217773,
          -4.194668769836426,
          6.36998176574707,
          3.664620876312256,
          -3.536088466644287,
          -2.6970722675323486,
          -8.722270011901855,
          -5.615351676940918,
          16.296361923217773,
          -6.826452255249023,
          -9.01241683959961,
          3.9241647720336914,
          -7.359468936920166,
          -13.193509101867676,
          12.3110990524292,
          6.680726528167725,
          -1.040175199508667,
          -5.000478744506836,
          5.390292167663574,
          -3.125976324081421,
          5.592653751373291,
          0.793394923210144,
          2.6944663524627686,
          -8.491230964660645,
          -10.407525062561035,
          -3.6586475372314453,
          -0.7631796598434448,
          7.814782619476318,
          -4.479910850524902,
          -4.566287517547607,
          6.165631294250488,
          -6.322023391723633,
          0.8121656179428101,
          -6.671209335327148,
          0.7707452178001404,
          11.090272903442383,
          11.55704116821289,
          1.1263068914413452,
          1.144266963005066,
          -13.35047435760498,
          4.799633502960205,
          -7.001678943634033,
          2.561957836151123,
          9.151995658874512,
          9.629850387573242,
          15.203923225402832,
          2.1361546516418457,
          -3.0077908039093018,
          -4.9138336181640625,
          3.1799793243408203,
          -2.943357467651367,
          7.256951332092285,
          13.219254493713379,
          2.932386875152588,
          16.843494415283203,
          -4.865021705627441,
          -5.647977828979492,
          1.3171303272247314,
          8.989442825317383,
          1.0867339372634888,
          0.8251674175262451,
          0.38116568326950073,
          -6.29709529876709,
          4.554472923278809,
          1.7599108219146729,
          3.7946577072143555,
          -4.676762104034424,
          6.042146682739258,
          -9.287141799926758,
          -7.682717323303223,
          0.5363849401473999,
          2.042459487915039,
          9.539100646972656,
          -7.269763946533203,
          -5.985008716583252,
          1.0632823705673218,
          1.0001329183578491,
          10.716578483581543,
          -9.897634506225586,
          15.620416641235352,
          -6.465853691101074,
          -1.0895156860351562,
          -13.867666244506836,
          -1.4029308557510376,
          2.365943670272827,
          -7.132534503936768,
          -2.306422233581543,
          -14.750255584716797,
          -0.25008124113082886,
          0.42504438757896423,
          -2.0630035400390625,
          6.740254878997803,
          0.12741625308990479,
          -4.224830627441406,
          9.781963348388672,
          -11.077164649963379,
          -1.5050047636032104,
          -4.241233825683594,
          11.05722427368164,
          -1.2096258401870728,
          0.8946720361709595,
          1.0965337753295898,
          8.799151420593262,
          -2.668032646179199,
          8.803020477294922,
          1.8796496391296387,
          2.0682878494262695,
          12.545312881469727,
          4.233506679534912,
          -14.669452667236328,
          3.170045852661133,
          1.2547690868377686,
          15.737627029418945,
          -8.250846862792969,
          4.743796348571777,
          6.927327632904053,
          2.166368246078491,
          -15.725886344909668,
          5.749804973602295,
          1.1749013662338257,
          -6.722109317779541,
          2.502058982849121,
          -2.3555667400360107,
          -7.941941261291504,
          -4.903189182281494,
          13.298258781433105,
          -5.276578903198242,
          9.668659210205078,
          11.327324867248535,
          -7.675520896911621,
          8.898513793945312,
          -0.5762935876846313,
          7.287048816680908,
          11.201374053955078,
          13.066633224487305,
          -13.28180980682373,
          -11.762715339660645,
          -0.9611455798149109,
          -2.5577428340911865,
          -11.239837646484375,
          6.970681190490723,
          3.8691742420196533,
          16.82384490966797,
          -1.184509038925171,
          2.2155115604400635,
          -2.39221453666687,
          6.163602828979492,
          -15.625723838806152,
          1.8544188737869263,
          5.758388519287109,
          -2.8468234539031982,
          1.4667998552322388,
          -0.3665826618671417,
          0.8497468829154968,
          6.884443759918213,
          3.160080671310425,
          -12.959734916687012,
          -2.356743097305298,
          7.677964687347412,
          0.35237202048301697,
          15.649621963500977,
          -9.734861373901367,
          -3.4098212718963623,
          -16.49990463256836,
          -3.7182321548461914,
          -5.003539085388184,
          14.843809127807617,
          0.17293564975261688,
          -15.256460189819336,
          -2.685138463973999,
          1.862444281578064,
          -6.923340797424316,
          -16.990732192993164,
          1.617505669593811,
          -18.16020965576172,
          6.236961841583252,
          16.21610450744629,
          12.638042449951172,
          1.9478113651275635,
          17.001188278198242,
          13.885019302368164,
          2.679577112197876,
          4.052857398986816,
          10.724149703979492,
          -3.779472827911377,
          -3.272085189819336,
          -1.9979170560836792,
          -0.6228353381156921,
          12.365804672241211,
          -6.916405200958252,
          0.4424434304237366,
          4.716647624969482,
          -3.2788045406341553,
          13.982423782348633,
          -4.884428977966309,
          4.350172519683838,
          -5.676392078399658,
          -6.636911392211914,
          -7.409320831298828,
          8.553825378417969,
          8.241250991821289,
          -1.7966821193695068,
          3.619109630584717,
          15.823664665222168,
          -1.6607359647750854,
          4.772985935211182,
          -9.259588241577148,
          4.0221757888793945,
          -15.738506317138672,
          16.200210571289062,
          17.424549102783203,
          -11.1337251663208,
          -1.834598422050476,
          11.414227485656738,
          -5.857525825500488,
          -6.207727432250977,
          -10.87665843963623,
          -3.0907859802246094,
          -2.2865281105041504,
          8.101040840148926,
          3.661877155303955,
          4.422952175140381,
          3.9280478954315186,
          -9.134449005126953,
          -14.520974159240723,
          -4.274515628814697,
          -9.946465492248535,
          11.671104431152344,
          -15.522839546203613,
          4.889987468719482,
          -0.9356412887573242,
          2.779973268508911,
          -9.601377487182617,
          1.1709322929382324,
          -6.8710198402404785,
          1.3797111511230469,
          0.5977241396903992,
          9.740702629089355,
          1.7575154304504395,
          -7.810505390167236,
          -11.593755722045898,
          11.499977111816406,
          -11.500131607055664,
          2.184647798538208,
          -7.96123743057251,
          -7.875222682952881,
          0.009467572905123234,
          -1.0977835655212402,
          7.257400989532471,
          0.6103951334953308,
          -1.0195975303649902,
          -2.253086805343628,
          0.31817203760147095,
          3.787475347518921,
          -14.31578254699707,
          -14.23085880279541,
          3.2516753673553467,
          -1.463534951210022,
          0.9340502619743347,
          13.03168773651123,
          16.82324981689453,
          -2.248680353164673,
          -6.35781717300415,
          11.485635757446289,
          3.394127130508423,
          -9.200439453125,
          15.178790092468262,
          -8.213155746459961,
          5.621007919311523,
          -3.0921576023101807,
          -7.707220077514648,
          7.6539154052734375,
          -0.30178916454315186,
          -4.387181282043457,
          4.269647121429443,
          -0.6803861856460571,
          -3.648045063018799,
          7.01982307434082,
          8.865806579589844,
          -11.981650352478027,
          -6.084043025970459,
          4.534750461578369,
          3.497251272201538,
          9.514642715454102,
          9.148063659667969,
          -1.707817792892456,
          10.206879615783691,
          10.692089080810547,
          3.470054864883423,
          8.273515701293945,
          -8.246891975402832,
          -1.7515650987625122,
          2.5921504497528076,
          -7.822134971618652,
          -4.26557731628418,
          -6.178410053253174,
          -13.996850967407227,
          15.949422836303711,
          5.309675693511963,
          3.4205474853515625,
          5.986966609954834,
          2.7430131435394287,
          4.624508380889893,
          -0.27643880248069763,
          12.65230941772461,
          3.8446664810180664,
          -8.407636642456055,
          6.896980285644531,
          6.929423809051514,
          -0.7671291828155518,
          2.329219102859497,
          -8.986381530761719,
          -7.174424171447754,
          16.18145751953125,
          -11.76470947265625,
          -7.619104385375977,
          -3.1606740951538086,
          -6.484226226806641,
          14.249353408813477,
          2.3626208305358887,
          -1.7179138660430908,
          7.933097839355469,
          10.571343421936035,
          12.917257308959961,
          11.181268692016602,
          -6.737340450286865,
          -8.39018440246582,
          14.015666007995605,
          -10.186331748962402,
          8.846325874328613,
          -8.061479568481445,
          -15.976432800292969,
          11.272448539733887,
          -10.6757230758667,
          13.255489349365234,
          -7.442293167114258,
          -6.1179518699646,
          3.0394644737243652,
          -8.698492050170898,
          9.923809051513672,
          2.7273435592651367,
          -3.1806955337524414,
          9.486197471618652,
          -10.441946983337402,
          12.921735763549805,
          -2.0991365909576416,
          11.254988670349121,
          -4.8743133544921875,
          12.49691104888916,
          -4.610104084014893,
          -3.60872745513916,
          -1.1205425262451172,
          6.133510112762451,
          -0.03456145152449608,
          8.34128475189209,
          8.982428550720215,
          -7.7517619132995605,
          10.994304656982422,
          3.0975053310394287,
          2.02254581451416,
          -1.5364938974380493,
          -1.8455389738082886,
          3.1710307598114014,
          1.0983335971832275,
          -10.963723182678223,
          -4.825793266296387,
          -6.838613033294678,
          3.2570900917053223,
          4.618496894836426,
          -13.852703094482422,
          1.842178463935852,
          -1.4598381519317627,
          15.594738006591797,
          -12.693719863891602,
          -4.672820091247559,
          11.858552932739258,
          7.984650135040283,
          8.528325080871582,
          3.7456092834472656,
          -13.005480766296387,
          6.16958475112915,
          -12.185383796691895,
          -13.001312255859375,
          -14.881065368652344,
          0.4081233739852905,
          2.67362904548645,
          -2.9207804203033447,
          12.247448921203613,
          4.579794406890869,
          10.111244201660156,
          -3.4966611862182617,
          1.9250266551971436,
          8.828590393066406,
          8.164849281311035,
          -7.678554058074951,
          2.059478998184204,
          0.7663747668266296,
          -9.58182144165039,
          5.857221603393555,
          6.9276509284973145,
          0.2491529881954193,
          -11.335858345031738,
          2.846787452697754,
          -10.858527183532715,
          8.121630668640137,
          3.8728742599487305,
          -14.272429466247559,
          -2.7589011192321777,
          4.086218357086182,
          3.7877843379974365,
          9.386473655700684,
          -8.115606307983398,
          0.5925639867782593,
          -11.655487060546875,
          -10.337368965148926,
          8.368528366088867,
          12.795884132385254,
          -3.6793148517608643,
          9.916760444641113,
          13.417237281799316,
          -1.0338492393493652,
          16.173635482788086,
          -7.3344950675964355,
          -11.017780303955078,
          1.1721137762069702,
          -13.559768676757812,
          -2.2326977252960205,
          -0.5096023678779602,
          15.028909683227539,
          -5.761886119842529,
          -0.3826415240764618,
          8.742178916931152,
          -12.34160327911377,
          2.1907846927642822,
          3.9590070247650146,
          -14.785177230834961,
          -1.9980416297912598,
          2.457501173019409,
          -1.3345599174499512,
          -12.883797645568848,
          2.970353841781616,
          17.232959747314453,
          -2.631591320037842,
          -12.910147666931152,
          -4.438121795654297,
          7.5955071449279785,
          -14.441086769104004,
          0.8421109914779663,
          0.6334627270698547,
          14.431572914123535,
          -12.883855819702148,
          13.280537605285645,
          -4.466760158538818,
          6.581756591796875,
          1.5133074522018433,
          -2.259504556655884,
          0.04112608730792999,
          1.4335297346115112,
          6.60603666305542,
          9.332003593444824,
          -15.451000213623047,
          0.3696809709072113,
          -12.635247230529785,
          -3.0184292793273926,
          -11.582201957702637,
          9.573515892028809,
          -12.329052925109863,
          -0.8806029558181763,
          -3.7497403621673584,
          -4.754791736602783,
          5.2897491455078125,
          -12.800082206726074,
          3.2317893505096436,
          5.106005668640137,
          -8.178009986877441,
          -4.663358211517334,
          3.0455472469329834,
          17.736671447753906,
          -5.197224140167236,
          9.839950561523438,
          -0.7041798233985901,
          3.6473748683929443,
          1.3892580270767212,
          0.8319054245948792,
          -0.014622366055846214,
          10.607929229736328,
          -9.700958251953125,
          3.078667640686035,
          -2.202316999435425,
          -2.5048060417175293,
          -2.9928646087646484,
          -7.632545471191406,
          3.3304975032806396,
          7.4961652755737305,
          -2.7028207778930664,
          -11.414203643798828,
          8.5786771774292,
          -0.6201962828636169,
          -0.5178564786911011,
          -0.6486666202545166,
          -0.16797107458114624,
          7.889364242553711,
          9.437060356140137,
          3.6196722984313965,
          1.475871205329895,
          13.297828674316406,
          -0.7741001844406128,
          5.505941867828369,
          -1.7994781732559204,
          -0.09380839020013809,
          -10.145135879516602,
          8.272838592529297,
          9.405915260314941,
          13.752559661865234,
          -1.4556710720062256,
          -4.00284481048584,
          5.926137447357178,
          4.002058982849121,
          13.43647575378418,
          1.4899260997772217,
          -1.7868452072143555,
          -5.030547142028809,
          16.97471046447754,
          2.163098096847534,
          1.051366925239563,
          3.3757100105285645,
          -0.025505371391773224,
          1.3013797998428345,
          5.583688259124756,
          0.5984806418418884,
          5.475438594818115,
          -2.506681442260742,
          -0.4949232041835785,
          14.811463356018066,
          -6.974085807800293,
          -0.9112468361854553,
          -0.9708316326141357,
          -0.2635059058666229,
          13.631359100341797,
          1.8988038301467896,
          18.582162857055664,
          -9.75826644897461,
          -10.796934127807617,
          5.521331787109375,
          12.648015975952148,
          -12.486295700073242,
          -6.710168361663818,
          -0.5287355184555054,
          3.672016143798828,
          8.130102157592773,
          3.4294753074645996,
          -7.048073768615723,
          0.6209021806716919,
          -7.186273574829102,
          -1.2570005655288696,
          4.830975532531738,
          -7.476349353790283,
          -10.089898109436035,
          -2.957280158996582,
          -0.8189617991447449,
          15.769371032714844,
          1.9098180532455444,
          0.7138795256614685,
          -4.236514091491699,
          3.6303274631500244,
          -7.9481425285339355,
          10.174175262451172,
          -6.1555495262146,
          -2.3175361156463623,
          -1.8442103862762451,
          0.5728682279586792,
          11.147480010986328,
          13.910677909851074,
          -0.41425466537475586,
          8.909549713134766,
          -1.8432629108428955,
          4.596879959106445,
          5.088510990142822,
          1.7094062566757202,
          -4.9421491622924805,
          5.405163764953613,
          4.032297611236572,
          10.169008255004883,
          -5.361544132232666,
          -9.276061058044434,
          11.320230484008789,
          1.198679804801941,
          13.408154487609863,
          10.238273620605469,
          8.202286720275879,
          6.627011299133301,
          0.5569636225700378,
          17.00278091430664,
          -4.677917003631592,
          -3.8280887603759766,
          -4.181032657623291,
          -6.850250244140625,
          1.0268797874450684,
          5.507460117340088,
          -3.1294591426849365,
          -3.033576011657715,
          -9.44033432006836,
          -10.376129150390625,
          11.210105895996094,
          -10.037605285644531,
          5.102689266204834,
          5.85144567489624,
          15.464838027954102,
          4.868758678436279,
          -11.605416297912598,
          -2.4806582927703857,
          -7.867663383483887,
          -6.634256362915039,
          -8.72115421295166,
          -4.456613540649414,
          -13.278007507324219,
          -3.340186595916748,
          3.5230026245117188,
          11.372159957885742,
          0.28876975178718567,
          0.6847067475318909,
          4.170039176940918,
          2.537747383117676,
          -3.7150394916534424,
          -2.0848731994628906,
          -14.402270317077637,
          -8.788055419921875,
          10.438874244689941,
          -6.975652694702148,
          -4.996802806854248,
          -0.5141438245773315,
          0.04723561927676201,
          -12.099984169006348,
          10.887069702148438,
          -3.022068500518799,
          -7.892323017120361,
          -6.941531181335449,
          -6.67410135269165,
          2.3150088787078857,
          9.921152114868164,
          -1.8497649431228638,
          8.729538917541504,
          5.195042610168457,
          8.725682258605957,
          -7.5680670738220215,
          -11.97537899017334,
          -3.241347551345825,
          -0.656341016292572,
          -10.512223243713379,
          1.5707626342773438,
          -1.2500591278076172,
          0.2777988016605377,
          10.583348274230957,
          8.503190994262695,
          15.345137596130371,
          -1.6279525756835938,
          -7.480338096618652,
          -4.893024921417236,
          -3.2956900596618652,
          -5.539139747619629,
          -2.2634825706481934,
          5.530255317687988,
          -5.523202896118164,
          8.972188949584961,
          2.193284034729004,
          -0.42793071269989014,
          16.483068466186523,
          -11.307130813598633,
          -3.12246036529541,
          -7.5507588386535645,
          -5.934892654418945,
          -4.016139507293701,
          15.364158630371094,
          -10.831642150878906,
          11.562541007995605,
          -3.3075919151306152,
          -8.701529502868652,
          -6.615935325622559,
          -1.574178695678711,
          -14.460979461669922,
          -14.59882926940918,
          -0.44680896401405334,
          -0.305917888879776,
          0.8062171339988708,
          12.434455871582031,
          -7.145140647888184,
          3.4800236225128174,
          0.3650030493736267,
          -6.2333879470825195,
          7.000970363616943,
          -4.426465034484863,
          -1.665827989578247,
          -1.2065339088439941,
          11.29545783996582,
          18.268552780151367,
          -2.049271583557129,
          -4.426820755004883,
          14.527437210083008,
          -9.077306747436523,
          2.17629075050354,
          -0.055128104984760284,
          2.9629697799682617,
          16.368026733398438,
          -12.762255668640137,
          0.7360763549804688,
          -0.13013824820518494,
          -13.550392150878906,
          1.093274474143982,
          18.042234420776367,
          -6.500158786773682,
          -5.50618839263916,
          7.847937107086182,
          -1.3705127239227295,
          -7.11726188659668,
          -8.252334594726562,
          5.808470726013184,
          -6.557316303253174,
          -7.242396354675293,
          3.3811264038085938,
          -0.3027516007423401,
          0.4764798581600189,
          0.9735772013664246,
          -5.3656005859375,
          -13.274025917053223,
          -6.177916049957275,
          -11.708498001098633,
          0.5689741969108582,
          0.0018880927236750722,
          -10.29799747467041,
          -1.8737585544586182,
          -5.646584510803223,
          14.59341812133789,
          4.44049072265625,
          0.20623444020748138,
          16.74850082397461,
          0.1263539046049118,
          13.063885688781738,
          -7.814697742462158,
          -16.79869842529297,
          1.8575330972671509,
          -0.7202498912811279,
          4.147911548614502,
          15.259368896484375,
          -7.686691761016846,
          -7.026662349700928,
          -0.21388518810272217,
          -3.342071533203125,
          13.53893756866455,
          -1.6404911279678345,
          8.549169540405273,
          -1.1006146669387817,
          -0.17940877377986908,
          7.646256446838379,
          -1.4862725734710693,
          8.690134048461914,
          1.2614860534667969,
          -14.362815856933594,
          9.136704444885254,
          6.933522701263428,
          3.2704966068267822,
          -0.7132911682128906,
          1.616660475730896,
          6.3721394538879395,
          15.269001960754395,
          -0.15895597636699677,
          6.054549217224121,
          3.9997222423553467,
          12.67381477355957,
          -8.8417329788208,
          4.9753193855285645,
          0.39015138149261475,
          -2.412705898284912,
          -2.350379467010498,
          3.4810566902160645,
          5.843894004821777,
          -2.995551586151123,
          16.305522918701172,
          2.7790768146514893,
          0.21299296617507935,
          -7.457385063171387,
          8.227919578552246,
          2.86472487449646,
          -3.2728054523468018,
          1.4064644575119019,
          4.9431586265563965,
          1.0610913038253784,
          -4.233338356018066,
          0.9256981611251831,
          16.460065841674805,
          -4.342605113983154,
          9.795042991638184,
          14.956803321838379,
          1.3295425176620483,
          -5.460819721221924,
          1.5002427101135254,
          -8.86181640625,
          14.659509658813477,
          -10.361601829528809,
          -12.563613891601562,
          8.568305969238281,
          -2.6840591430664062,
          0.08647748082876205,
          6.191259860992432,
          -5.103822231292725,
          7.010855674743652,
          8.779671669006348,
          3.237274646759033,
          -11.802754402160645,
          -9.539356231689453,
          -9.56721019744873,
          -4.654235363006592,
          -2.529049873352051,
          5.882321834564209,
          -10.982808113098145,
          -9.40292739868164,
          -16.325672149658203,
          -6.677798271179199,
          -1.5782904624938965,
          3.482102394104004,
          -1.8739147186279297,
          -8.069960594177246,
          0.9279411435127258,
          -0.4359668493270874,
          -15.851154327392578,
          6.1764302253723145,
          1.0926384925842285,
          4.645637035369873,
          3.404414176940918,
          -2.2024295330047607,
          -3.1103034019470215,
          6.8626203536987305,
          3.2982609272003174,
          11.032536506652832,
          4.3331756591796875,
          3.4874982833862305,
          -4.12381649017334,
          1.1014472246170044,
          7.238657474517822,
          -5.2697038650512695,
          1.5847952365875244,
          4.171027660369873,
          0.4782654047012329,
          0.8578327894210815,
          6.181797504425049,
          5.3824238777160645,
          -9.466660499572754,
          -7.00791597366333,
          -4.207336902618408,
          1.6388400793075562,
          -12.235912322998047,
          -4.376350402832031,
          2.51499342918396,
          17.764286041259766,
          2.3254270553588867,
          -8.525707244873047,
          12.463666915893555,
          0.408259779214859,
          -13.241979598999023,
          7.166694164276123,
          1.3925137519836426,
          -2.2157363891601562,
          0.0035679906141012907,
          -7.36625862121582,
          12.160655975341797,
          9.047479629516602,
          9.327771186828613,
          0.1193103939294815,
          7.514095783233643,
          -6.994832992553711,
          14.318002700805664,
          11.805685043334961,
          -1.1190024614334106,
          3.9406111240386963,
          0.7199092507362366,
          13.756281852722168,
          3.5307512283325195,
          2.7451019287109375,
          1.6596438884735107,
          2.2142820358276367,
          -6.311288833618164,
          -4.015676021575928,
          5.816936492919922,
          -9.66809368133545,
          6.004874229431152,
          -2.8196938037872314,
          -11.048768997192383,
          -4.531647205352783,
          -11.203132629394531,
          -9.159266471862793,
          7.35697603225708,
          8.383420944213867,
          3.8341434001922607,
          12.403132438659668,
          -10.33937931060791,
          -13.617472648620605,
          0.33237653970718384,
          0.7905266880989075,
          -2.026503801345825,
          -0.31723687052726746,
          -9.836743354797363,
          -4.6915717124938965,
          1.9449130296707153,
          -1.455168604850769,
          -11.183869361877441,
          -1.0426199436187744,
          -5.772369384765625,
          -4.844653129577637,
          -11.256693840026855,
          -2.575505256652832,
          -0.9400191903114319,
          -6.124179840087891,
          -0.26541751623153687,
          -16.1453800201416,
          0.4797133505344391,
          -8.055756568908691,
          -6.528504371643066,
          -1.8109867572784424,
          -3.041581153869629,
          -0.23196887969970703,
          -7.167717933654785,
          -8.825996398925781,
          -5.648908615112305,
          9.056324005126953,
          2.564535617828369,
          -10.636871337890625,
          -13.817695617675781,
          -14.305291175842285,
          -7.6740641593933105,
          -1.4255374670028687,
          6.079723358154297,
          -5.110993385314941,
          2.0194602012634277,
          -10.926254272460938,
          11.879305839538574,
          4.408917427062988,
          -0.3631463646888733,
          -2.178215265274048,
          1.519595742225647,
          -3.1421332359313965,
          2.930676221847534,
          5.778753280639648,
          0.21579782664775848,
          11.365206718444824,
          0.8231525421142578,
          -0.8462533950805664,
          5.926261901855469,
          13.251442909240723,
          -2.258075714111328,
          -7.1006760597229,
          -1.4204660654067993,
          2.676485776901245,
          1.8184795379638672,
          -5.136265754699707,
          1.0325944423675537,
          11.264222145080566,
          -7.482288837432861,
          -14.833706855773926,
          0.8184880614280701,
          -4.817951679229736,
          -0.32665979862213135,
          4.710818290710449,
          4.909414768218994,
          -2.3125038146972656,
          11.596382141113281,
          15.638223648071289,
          -9.10938835144043,
          2.062579870223999,
          0.5720706582069397,
          8.881928443908691,
          3.7973151206970215,
          -0.4051879048347473,
          -10.328572273254395,
          13.919772148132324,
          7.73968505859375,
          2.660881280899048,
          0.4701410233974457,
          2.1010172367095947,
          -5.847606658935547,
          2.2108397483825684,
          0.5729890465736389,
          7.075138092041016,
          -5.634619235992432,
          -15.245987892150879,
          -14.433815956115723,
          -8.27387809753418,
          -4.476931571960449,
          8.288838386535645,
          2.873866081237793,
          3.233750820159912,
          3.8715922832489014,
          4.216398239135742,
          -0.4206843376159668,
          6.946017742156982,
          -8.181719779968262,
          0.5173127055168152,
          -10.368528366088867,
          2.241039514541626,
          -3.7509841918945312,
          -4.642756938934326,
          3.4832751750946045,
          -4.761205673217773,
          2.787391424179077,
          3.167970895767212,
          4.931016445159912,
          10.274259567260742,
          -7.326993942260742,
          -16.114315032958984,
          -9.195975303649902,
          -11.19790267944336,
          8.931990623474121,
          -2.7228853702545166,
          -2.7429304122924805,
          1.762847900390625,
          6.955904960632324,
          -1.3601899147033691,
          13.2149076461792,
          4.975658416748047,
          12.3803071975708,
          -4.987964630126953,
          -3.231809377670288,
          -10.802812576293945,
          -3.6233761310577393,
          5.609452724456787,
          -3.7304069995880127,
          1.2711519002914429,
          -11.628556251525879,
          -15.280719757080078,
          2.4398305416107178,
          -2.8669931888580322,
          -4.486587047576904,
          10.21247386932373,
          13.232548713684082,
          11.857019424438477,
          -16.575475692749023,
          -4.573200225830078,
          2.7747576236724854,
          6.130821228027344,
          -5.356705665588379,
          6.412220478057861,
          3.481011390686035,
          13.678068161010742,
          -13.644647598266602,
          -2.265969753265381,
          -6.711081504821777,
          4.118366718292236,
          -3.0756139755249023,
          4.928739547729492,
          -8.423150062561035,
          -11.329283714294434,
          5.6807427406311035,
          2.0319466590881348,
          0.5050488114356995,
          -3.476280689239502,
          -2.1004486083984375,
          13.939544677734375,
          -12.783287048339844,
          -16.640241622924805,
          -5.133308410644531,
          -10.784527778625488,
          -11.453987121582031,
          11.625035285949707,
          11.238429069519043,
          16.67877960205078,
          10.206113815307617,
          -9.62059497833252,
          5.706563949584961,
          -2.4552204608917236,
          15.221783638000488,
          6.184093952178955,
          3.311680793762207,
          -15.142857551574707,
          0.5214197635650635,
          -11.179145812988281,
          -0.2875460684299469,
          8.382425308227539,
          11.113059043884277,
          -10.938040733337402,
          -13.968277931213379,
          4.686282157897949,
          -0.5847033858299255,
          -8.588939666748047,
          -2.7158451080322266,
          -4.796571254730225,
          -1.7037760019302368,
          -5.952188014984131,
          4.997445583343506,
          15.545146942138672,
          -9.417112350463867,
          -7.953385829925537,
          -1.8793858289718628,
          9.485625267028809,
          -13.129549026489258,
          -4.080470085144043,
          -11.626055717468262,
          -5.945213317871094,
          -4.668227672576904,
          -0.23067164421081543,
          -3.335758924484253,
          5.886641025543213,
          -6.217484474182129,
          -3.960282325744629,
          10.88574504852295,
          -14.16615104675293,
          -0.9363037943840027,
          -2.341533899307251,
          -1.9336010217666626,
          -0.03225482627749443,
          5.041167259216309,
          1.2749049663543701,
          -8.218853950500488,
          -0.8203613758087158,
          6.5694146156311035,
          10.932943344116211,
          -8.352034568786621,
          3.9050986766815186,
          16.30760383605957,
          -2.3784120082855225,
          15.667383193969727,
          2.280776262283325,
          8.704843521118164,
          -1.584118127822876,
          -7.04939603805542,
          1.8957464694976807,
          -1.0973390340805054,
          10.027307510375977,
          -15.858565330505371,
          -12.995282173156738,
          -0.7250388264656067,
          -0.7083376049995422,
          -1.8059641122817993,
          -1.862081527709961,
          -10.296472549438477,
          -10.713274955749512,
          7.45880126953125,
          -9.573680877685547,
          -12.275704383850098,
          15.046279907226562,
          0.5671793818473816,
          1.8763457536697388,
          -1.2972365617752075,
          9.515913009643555,
          -0.8085036873817444,
          5.921765327453613,
          -11.464420318603516,
          -12.006840705871582,
          4.755613327026367,
          -14.835909843444824,
          12.216471672058105,
          -5.14266300201416,
          0.2860727310180664,
          -4.1933207511901855,
          0.9734269976615906,
          8.237991333007812,
          -8.035181999206543,
          6.991465091705322,
          -8.097136497497559,
          -7.469380855560303,
          -10.38072681427002,
          -1.1096690893173218,
          -12.480437278747559,
          5.401645183563232,
          -7.740912437438965,
          -12.805402755737305,
          3.4258952140808105,
          -7.754772186279297,
          -2.196096897125244,
          -9.290326118469238,
          -0.6290528178215027,
          -10.103885650634766,
          0.5897432565689087,
          7.750615119934082,
          -2.0823922157287598,
          11.132166862487793,
          -4.478776454925537,
          2.2072722911834717,
          15.698753356933594,
          13.992119789123535,
          -4.866742134094238,
          -7.210695743560791,
          0.5881405472755432,
          7.645102024078369,
          -0.5639721751213074,
          -16.46341323852539,
          -8.991324424743652,
          3.9234557151794434,
          -1.9746159315109253,
          0.7865899205207825,
          -7.877663612365723,
          -15.546932220458984,
          -4.339353084564209,
          -7.0936784744262695,
          -8.176031112670898,
          -13.607512474060059,
          -13.51717758178711,
          2.2904577255249023,
          -0.8727033734321594,
          -5.913150310516357,
          -11.635104179382324,
          4.2618513107299805,
          4.562317371368408,
          -14.74911117553711,
          -13.449933052062988,
          -5.670845985412598,
          -13.21887493133545,
          13.19127082824707,
          -2.2824313640594482,
          13.669870376586914,
          -1.4546213150024414,
          -1.079371690750122,
          -9.306537628173828,
          5.0100555419921875,
          -7.252233505249023,
          1.988115668296814,
          -3.7428815364837646,
          -3.7995734214782715,
          -14.479907989501953,
          -8.548439025878906,
          -15.670029640197754,
          -10.444755554199219,
          3.2073895931243896,
          16.256315231323242,
          11.915701866149902,
          5.228163719177246,
          -0.7227557897567749,
          -4.182999610900879,
          -3.519338607788086,
          6.382523059844971,
          -14.031816482543945,
          8.336055755615234,
          17.76833152770996,
          1.0913842916488647,
          -3.0272865295410156,
          14.124224662780762,
          -11.478887557983398,
          15.265223503112793,
          -0.14423707127571106,
          8.24560546875,
          10.679669380187988,
          6.892183780670166,
          16.207948684692383,
          0.7717731595039368,
          10.119568824768066,
          -0.38628917932510376,
          1.213122844696045,
          -4.436838150024414,
          15.979414939880371,
          9.228713989257812,
          -2.898613691329956,
          -7.919225215911865,
          2.035594940185547,
          -7.253757476806641,
          10.510354995727539,
          15.392611503601074,
          1.4120662212371826,
          -10.16630744934082,
          -12.763327598571777,
          -9.035201072692871,
          8.653582572937012,
          3.1447532176971436,
          0.7404189705848694,
          -1.2793701887130737,
          -12.497475624084473,
          5.7219672203063965,
          -10.783857345581055,
          2.2802555561065674,
          -13.122758865356445,
          3.7999422550201416,
          3.661165714263916,
          17.688140869140625,
          -8.113245010375977,
          -2.9277734756469727,
          -4.703725814819336,
          15.21734619140625,
          1.3422175645828247,
          -1.415015697479248,
          -5.059573173522949,
          -7.641838550567627,
          0.09732287377119064,
          0.6267446875572205,
          0.7181262969970703,
          -8.476954460144043,
          -11.818182945251465,
          6.691522598266602,
          -10.978130340576172,
          5.289130687713623,
          4.785827159881592,
          -0.1427420824766159,
          -3.773493528366089,
          1.2237149477005005,
          12.844470024108887,
          -11.593297958374023,
          4.875651836395264,
          -1.1392179727554321,
          11.854419708251953,
          -3.7056920528411865,
          -9.262234687805176,
          8.738086700439453,
          10.289287567138672,
          -8.065595626831055,
          -7.110011100769043,
          -9.667558670043945,
          12.176149368286133,
          11.756587028503418,
          1.223940134048462,
          12.09118366241455,
          7.399133682250977,
          0.3714603781700134,
          -8.999403953552246,
          8.990874290466309,
          2.3170669078826904,
          -10.594735145568848,
          -2.9622645378112793,
          -11.536901473999023,
          -11.074148178100586,
          12.815898895263672,
          2.5724964141845703,
          17.104501724243164,
          -5.013606548309326,
          -7.6455078125,
          -9.310440063476562,
          8.408463478088379,
          10.440814018249512,
          -0.0007032272405922413,
          5.2501630783081055,
          11.492919921875,
          -0.8084596991539001,
          8.076045036315918,
          7.501761436462402,
          8.228625297546387,
          1.4886999130249023,
          -3.694307804107666,
          14.635305404663086,
          11.58543872833252,
          0.2790724039077759,
          0.05162690952420235,
          4.725466251373291,
          -0.6675065159797668,
          1.9346437454223633,
          -6.79312801361084,
          -4.495107650756836,
          -10.48116683959961,
          -9.523747444152832,
          8.500935554504395,
          12.073037147521973,
          2.0914430618286133,
          -8.907931327819824,
          1.2559210062026978,
          5.450878143310547,
          -6.897278785705566,
          4.54285192489624,
          -3.133404493331909,
          6.9360151290893555,
          -0.8934218883514404,
          2.3534858226776123,
          6.65767765045166,
          -7.680499076843262,
          -7.901362895965576,
          -4.274830341339111,
          -2.3230574131011963,
          -2.2033896446228027,
          -5.59052038192749,
          -0.3978448510169983,
          9.216639518737793,
          -0.011361999437212944,
          0.841543436050415,
          1.2562264204025269,
          -4.137683391571045,
          16.93368148803711,
          -7.091124057769775,
          16.908681869506836,
          4.164892196655273,
          -5.89343786239624,
          6.79644250869751,
          15.350661277770996,
          9.680781364440918,
          -5.673564434051514,
          -10.530803680419922,
          5.618374347686768,
          -6.688596248626709,
          6.966399669647217,
          -7.831670761108398,
          -5.251796245574951,
          -2.453951120376587,
          -0.6680969595909119,
          -16.05039405822754,
          -9.261862754821777,
          6.731128215789795,
          -0.37993133068084717,
          0.8107114434242249,
          -11.47635269165039,
          -7.653213977813721,
          0.8369038105010986,
          0.152889221906662,
          -16.516921997070312,
          4.998671054840088,
          -1.5393643379211426,
          2.0792715549468994,
          -3.158071756362915,
          11.060773849487305,
          -7.980050563812256,
          -7.644989013671875,
          -0.14004898071289062,
          10.440975189208984,
          -3.3602664470672607,
          1.857254147529602,
          -8.380812644958496,
          -2.0919885635375977,
          3.745969533920288,
          -0.320117712020874,
          -11.762906074523926,
          -2.6511433124542236,
          -0.7371008396148682,
          2.3937153816223145,
          4.874782562255859,
          -6.277270793914795,
          -2.7848544120788574,
          10.278060913085938,
          -2.00825572013855,
          6.639128684997559,
          -13.554463386535645,
          -1.531363844871521,
          -2.3658785820007324,
          12.912924766540527,
          -8.050896644592285,
          -1.1426440477371216,
          -11.798154830932617,
          1.7736986875534058,
          -0.15959468483924866,
          -11.324946403503418,
          -0.14214591681957245,
          7.557354927062988,
          -2.228257417678833,
          -8.491825103759766,
          -0.9271395802497864,
          3.839574098587036,
          -4.833352565765381,
          -1.3359389305114746,
          -5.612120628356934,
          -11.477041244506836,
          -6.07323694229126,
          0.017981989309191704,
          3.360840320587158,
          -2.8651857376098633,
          -0.6397074460983276,
          3.339968681335449,
          -7.091206073760986,
          -16.534343719482422,
          8.680014610290527,
          -1.254926323890686,
          6.902014255523682,
          12.13045883178711,
          4.155614852905273,
          7.309564590454102,
          -16.768898010253906,
          -6.2482709884643555,
          0.195499449968338,
          11.525394439697266,
          13.80133056640625,
          8.400260925292969,
          6.428793907165527,
          2.808397054672241,
          3.839902639389038,
          1.148316502571106,
          11.502503395080566,
          8.303547859191895,
          4.953534126281738,
          2.690753221511841,
          2.3555362224578857,
          15.16728687286377,
          -13.071386337280273,
          -2.320305109024048,
          -12.405378341674805,
          -4.697046279907227,
          4.219254970550537,
          -15.091772079467773,
          -12.467694282531738,
          7.797948837280273,
          3.3162481784820557,
          -8.315123558044434,
          -12.093941688537598,
          5.374668598175049,
          1.4479304552078247,
          -0.21277585625648499,
          -15.768219947814941,
          14.673046112060547,
          1.3010088205337524,
          -14.444037437438965,
          0.2330782562494278,
          -1.6288689374923706,
          -9.014305114746094,
          14.37885856628418,
          -12.561502456665039,
          -2.460732936859131,
          1.0798956155776978,
          0.040990497916936874,
          14.846563339233398,
          -5.1065192222595215,
          -10.632392883300781,
          -1.6579768657684326,
          -0.2704984247684479,
          5.012596130371094,
          0.9978804588317871,
          14.685490608215332,
          -1.8030651807785034,
          10.620756149291992,
          -11.839570999145508,
          -0.8496236801147461,
          10.272502899169922,
          0.816046953201294,
          2.877077579498291,
          -0.6998724341392517,
          -7.590184688568115,
          -3.8432257175445557,
          10.931879997253418,
          0.7728990316390991,
          12.41805362701416,
          10.34055233001709,
          -9.491259574890137,
          -0.8277629017829895,
          -11.68654727935791,
          11.99258804321289,
          4.496391773223877,
          -1.9446269273757935,
          -8.389740943908691,
          -10.864243507385254,
          6.465506553649902,
          2.829674482345581,
          15.088052749633789,
          -13.862046241760254,
          -0.6269384622573853,
          -8.914093017578125,
          -5.227036952972412,
          2.9611423015594482,
          4.189279079437256,
          -10.381586074829102,
          -3.6781656742095947,
          -8.54176139831543,
          -1.709315538406372,
          -13.804886817932129,
          2.339989185333252,
          15.18560791015625,
          -4.6066460609436035,
          14.878077507019043,
          -3.356884479522705,
          12.518302917480469,
          -0.5286831259727478,
          0.9549024701118469,
          2.82426118850708,
          -7.8959784507751465,
          4.633460998535156,
          13.467997550964355,
          2.482461929321289,
          7.77488374710083,
          -0.9319829344749451,
          -2.5937416553497314,
          -13.727039337158203,
          2.887742042541504,
          -5.3225908279418945,
          -3.8340625762939453,
          -10.544537544250488,
          1.5953803062438965,
          -14.220220565795898,
          -15.053773880004883,
          -1.0109901428222656,
          5.603498458862305,
          3.9734017848968506,
          -9.013389587402344,
          15.365839004516602,
          5.59802770614624,
          6.139576435089111,
          -14.62095832824707,
          -6.081759929656982,
          -11.540266990661621,
          -4.335768699645996,
          3.7523653507232666,
          -4.994123458862305,
          -10.846236228942871,
          9.132284164428711,
          -0.2880946397781372,
          -2.114684581756592,
          0.6004905104637146,
          10.290264129638672,
          5.928406238555908,
          3.1035454273223877,
          -7.249178886413574,
          8.698026657104492,
          5.6561713218688965,
          1.8566505908966064,
          -4.300887584686279,
          9.453385353088379,
          2.40580415725708,
          -0.22095978260040283,
          3.8861727714538574,
          4.332427978515625,
          -1.287848711013794,
          -8.008977890014648,
          -3.047053575515747,
          -3.745920181274414,
          1.0072060823440552,
          -14.121095657348633,
          -3.0014443397521973,
          5.423275470733643,
          -6.524550914764404,
          -3.0715813636779785,
          -6.997231960296631,
          -0.5911288261413574,
          5.0362348556518555,
          -4.28945255279541,
          -11.027109146118164,
          -3.243157148361206,
          -0.05120756849646568,
          16.49433708190918,
          -1.3351683616638184,
          4.898277282714844,
          -14.58446216583252,
          0.8303695917129517,
          14.625971794128418,
          -6.67650842666626,
          -12.497430801391602,
          5.455456256866455,
          -7.11470890045166,
          -6.684170722961426,
          -10.730066299438477,
          -2.433701515197754,
          -0.8822486996650696,
          11.521177291870117,
          7.8850626945495605,
          -1.7961888313293457,
          0.5943899750709534,
          -12.951035499572754,
          3.2285308837890625,
          -3.5432562828063965,
          -4.033534049987793,
          3.3425984382629395,
          13.530898094177246,
          11.370610237121582,
          -0.8356769680976868,
          -1.0895588397979736,
          -12.315458297729492,
          -3.9818007946014404,
          6.251643657684326,
          -1.5677452087402344,
          3.443052053451538,
          -3.9393258094787598,
          -7.019458293914795,
          1.4364240169525146,
          -11.853596687316895,
          -1.3477154970169067,
          6.111095428466797,
          7.275417804718018,
          -4.827188491821289,
          -11.260457992553711,
          -4.735722064971924,
          -9.472447395324707,
          -12.349346160888672,
          -2.898444414138794,
          1.040023922920227,
          -8.831062316894531,
          6.692969799041748,
          5.987242221832275,
          12.383687973022461,
          13.54716968536377,
          11.331464767456055,
          5.086453914642334,
          -10.947393417358398,
          3.928394317626953,
          -0.16192959249019623,
          -8.993402481079102,
          -6.095700263977051,
          0.4791674315929413,
          11.888690948486328,
          15.25379753112793,
          8.908607482910156,
          0.17976856231689453,
          -3.030933380126953,
          -0.3810535967350006,
          -8.08140754699707,
          -10.410270690917969,
          -4.305184364318848,
          -0.14583975076675415,
          -8.370141983032227,
          -6.558071136474609,
          14.526564598083496,
          1.8977121114730835,
          5.179225444793701,
          6.435187816619873,
          -3.9869916439056396,
          9.334571838378906,
          -9.372485160827637,
          4.273083209991455,
          6.457447528839111,
          0.8540405631065369,
          -4.36407995223999,
          -6.439182758331299,
          -9.665433883666992,
          14.42329216003418,
          1.552978277206421,
          1.262386679649353,
          0.324971079826355,
          9.398298263549805,
          -5.1985368728637695,
          -13.130725860595703,
          -8.193497657775879,
          4.332857608795166,
          6.557287216186523,
          -2.2703070640563965,
          4.948086738586426,
          -10.76607608795166,
          1.6407731771469116,
          2.3452441692352295,
          1.5329792499542236,
          -3.3331613540649414,
          2.701610565185547,
          13.917840957641602,
          -3.0333163738250732,
          -1.6081507205963135,
          11.314218521118164,
          11.046980857849121,
          -5.608233451843262,
          -0.7444369792938232,
          -2.671581983566284,
          -10.500210762023926,
          -0.28460216522216797,
          8.021124839782715,
          -9.833451271057129,
          2.9121315479278564,
          -4.3874897956848145,
          -0.8913241028785706,
          -0.3852611184120178,
          6.190454483032227,
          -11.662928581237793,
          -10.419899940490723,
          0.7908443808555603,
          -6.693116188049316,
          10.37117862701416,
          -4.778626441955566,
          -0.40888065099716187,
          2.480792284011841,
          -9.054258346557617,
          13.81739330291748,
          -1.5141090154647827,
          1.3993322849273682,
          3.6845102310180664,
          7.693971633911133,
          9.687286376953125,
          -3.314984083175659,
          -11.19981575012207,
          -1.2391679286956787,
          -11.328185081481934,
          -5.011987686157227,
          7.207160472869873,
          -15.01190185546875,
          -1.137090802192688,
          -5.006875514984131,
          4.160792350769043,
          -8.770864486694336,
          -12.814678192138672,
          -3.2428929805755615,
          -7.446637153625488,
          -1.9750797748565674,
          -1.1132932901382446,
          0.6903224587440491,
          -3.708836078643799,
          -4.086434364318848,
          -13.069141387939453,
          -9.39798355102539,
          -5.706350326538086,
          -10.029744148254395,
          0.47734248638153076,
          2.909888982772827,
          -15.235577583312988,
          16.008771896362305,
          -2.4173004627227783,
          12.507139205932617,
          8.120365142822266,
          -12.820476531982422,
          -14.740194320678711,
          12.345538139343262,
          -5.01409912109375,
          -1.8681488037109375,
          -2.2194440364837646,
          -0.8186903595924377,
          -17.850038528442383,
          8.28711986541748,
          6.761347770690918,
          -0.8180709481239319,
          -7.6864166259765625,
          16.047779083251953,
          -5.098226070404053,
          7.731236457824707,
          9.121428489685059,
          -0.12993130087852478,
          0.9384124875068665,
          -5.7549943923950195,
          -5.504574775695801,
          14.700648307800293,
          10.157368659973145,
          -2.917501211166382,
          -1.4071928262710571,
          7.1992974281311035,
          -4.724576473236084,
          5.3139777183532715,
          4.487448692321777,
          8.332768440246582,
          10.689939498901367,
          -6.568596839904785,
          0.6867469549179077,
          -17.448040008544922,
          12.37115478515625,
          7.2803120613098145,
          1.5181983709335327,
          12.392179489135742,
          14.194327354431152,
          0.902553379535675,
          -9.853531837463379,
          -4.791684150695801,
          -3.5477454662323,
          -6.8398518562316895,
          11.279818534851074,
          14.130644798278809,
          -0.5370315909385681,
          1.3142015933990479,
          10.56358814239502,
          -0.5527929067611694,
          -6.590719223022461,
          8.085709571838379,
          -8.891363143920898,
          2.1569502353668213,
          -11.61319637298584,
          5.8674397468566895,
          -2.840299606323242,
          -9.138321876525879,
          6.101337432861328,
          -9.698371887207031,
          7.9330363273620605,
          1.409461259841919,
          -0.6203572154045105,
          -7.030402660369873,
          -1.2074247598648071,
          -5.919832706451416,
          -9.769657135009766,
          -0.18960130214691162,
          3.2724411487579346,
          1.2531578540802002,
          -12.59953784942627,
          6.546257972717285,
          -1.9628328084945679,
          -3.567037343978882,
          -2.0033791065216064,
          10.81154727935791,
          -2.718702793121338,
          2.989030361175537,
          1.140087366104126,
          -13.29164981842041,
          -3.6926372051239014,
          1.6171294450759888,
          4.042713642120361,
          5.34913969039917,
          9.822468757629395,
          -9.931600570678711,
          4.180197715759277,
          4.047651290893555,
          -0.6339368224143982,
          13.608696937561035,
          -7.545550346374512,
          11.756092071533203,
          2.1363768577575684,
          1.339473009109497,
          -7.318669319152832,
          -4.532670021057129,
          9.508432388305664,
          8.882522583007812,
          2.7274327278137207,
          1.2976915836334229,
          -9.270196914672852,
          6.744218349456787,
          -7.492011070251465,
          12.03386402130127,
          -12.867881774902344,
          -3.5694706439971924,
          -0.11029553413391113,
          3.2331058979034424,
          -4.505928993225098,
          -12.721200942993164,
          4.503251075744629,
          7.461925983428955,
          0.47542303800582886,
          -4.254229545593262,
          0.4494702219963074,
          15.20192813873291,
          5.507737159729004,
          16.062557220458984,
          -8.086048126220703,
          13.065796852111816,
          -2.130263328552246,
          -5.214121341705322,
          -5.591914653778076,
          8.33250904083252,
          -14.559983253479004,
          -6.0889387130737305,
          -6.009093761444092,
          -1.3316268920898438,
          4.776278495788574,
          -0.8577633500099182,
          0.3140736520290375,
          -3.2608089447021484,
          -15.0298490524292,
          -1.7833216190338135,
          3.670133590698242,
          -2.2918360233306885,
          -1.4159964323043823,
          -12.222024917602539,
          1.8020963668823242,
          7.660918235778809,
          13.68548583984375,
          -5.4659833908081055,
          0.8728800415992737,
          -3.864858865737915,
          -9.357691764831543,
          -6.1248579025268555,
          9.953433990478516,
          6.982724189758301,
          8.123273849487305,
          -4.910451412200928,
          -3.889338254928589,
          -2.04707670211792,
          -5.7719035148620605,
          8.480765342712402,
          -2.423128128051758,
          3.4748334884643555,
          -1.6875340938568115,
          18.672218322753906,
          4.101086139678955,
          -10.6952543258667,
          -12.489596366882324,
          6.540316104888916,
          8.554482460021973,
          16.076030731201172,
          -3.1516520977020264,
          11.139711380004883,
          -2.83752179145813,
          16.254844665527344,
          7.7049641609191895,
          7.383983135223389,
          5.80245304107666,
          -7.422934532165527,
          5.545071125030518,
          18.666555404663086,
          -4.241479396820068,
          18.420991897583008,
          8.328888893127441,
          9.5579195022583,
          0.506271481513977,
          -5.518787860870361,
          -10.934259414672852,
          -1.5401123762130737,
          5.001504898071289,
          -3.901104211807251,
          -0.5835334062576294,
          4.382126808166504,
          -0.07728419452905655,
          -0.2686159312725067,
          15.276721954345703,
          -2.047355890274048,
          -2.781036853790283,
          -5.918264865875244,
          -3.4728410243988037,
          -4.435460567474365,
          -0.44666430354118347,
          -6.011824607849121,
          18.359386444091797,
          -0.18146257102489471,
          -8.696475982666016,
          6.632767677307129,
          -3.087930679321289,
          -16.837413787841797,
          13.572062492370605,
          -6.338812351226807,
          13.503145217895508,
          7.655550956726074,
          -5.154291152954102,
          -3.1824164390563965,
          -8.76290512084961,
          4.237553119659424,
          3.670619487762451,
          1.4700857400894165,
          11.086918830871582,
          8.26419734954834,
          -11.485225677490234,
          -2.9563839435577393,
          -0.19213148951530457,
          6.806694984436035,
          8.914807319641113,
          -8.6560697555542,
          -1.2399455308914185
         ],
         "z": [
          -7.23761510848999,
          1.851830005645752,
          -3.575650215148926,
          5.986168384552002,
          -8.314008712768555,
          -2.0107314586639404,
          12.518914222717285,
          -0.5702909231185913,
          -0.048529841005802155,
          -8.743349075317383,
          9.921590805053711,
          5.434532642364502,
          -13.205491065979004,
          5.33545446395874,
          -7.902536869049072,
          2.643418550491333,
          1.0239837169647217,
          -2.7169902324676514,
          7.035093784332275,
          6.7690324783325195,
          -2.472323179244995,
          5.846142292022705,
          4.111434459686279,
          12.310771942138672,
          -4.127658843994141,
          -12.315164566040039,
          6.633517742156982,
          -4.170865535736084,
          -6.106346607208252,
          -15.009111404418945,
          0.43359971046447754,
          -9.193814277648926,
          0.019076252356171608,
          -13.549371719360352,
          2.1346542835235596,
          13.681543350219727,
          -6.445205211639404,
          1.7405003309249878,
          14.836939811706543,
          5.5198469161987305,
          -6.17128849029541,
          -13.612738609313965,
          -5.430561065673828,
          0.04818924143910408,
          -4.909759521484375,
          4.916688919067383,
          -15.36639404296875,
          1.6058663129806519,
          -11.157028198242188,
          -9.825590133666992,
          6.939705848693848,
          -14.954476356506348,
          9.108987808227539,
          11.239078521728516,
          3.1427605152130127,
          2.274096965789795,
          3.3952205181121826,
          -7.581878662109375,
          3.6743812561035156,
          4.885900497436523,
          -0.0487944558262825,
          -7.579965591430664,
          -6.218787670135498,
          13.361738204956055,
          -0.29318681359291077,
          5.9925665855407715,
          11.022122383117676,
          -12.743451118469238,
          1.1386610269546509,
          -7.331246852874756,
          -19.800827026367188,
          2.096774101257324,
          -11.246893882751465,
          -13.360082626342773,
          9.008220672607422,
          -3.7856717109680176,
          -1.0210366249084473,
          3.6714823246002197,
          -2.0360820293426514,
          -3.2915103435516357,
          0.6255089640617371,
          -19.140050888061523,
          -6.4814324378967285,
          -13.025111198425293,
          -9.794082641601562,
          -11.97745418548584,
          -16.437816619873047,
          -16.663944244384766,
          -2.006463050842285,
          12.959172248840332,
          10.226152420043945,
          8.85822582244873,
          -13.268817901611328,
          -2.7130777835845947,
          12.955451011657715,
          4.379528522491455,
          -12.109723091125488,
          -15.925935745239258,
          9.575706481933594,
          -5.9443678855896,
          -12.354342460632324,
          9.599258422851562,
          -5.299420356750488,
          5.007078170776367,
          1.1183644533157349,
          -16.98006820678711,
          14.375297546386719,
          -6.670999526977539,
          3.9558210372924805,
          -15.613900184631348,
          -2.156283378601074,
          -2.4862587451934814,
          -15.40095329284668,
          1.23960280418396,
          -9.78958797454834,
          8.053404808044434,
          8.679399490356445,
          -3.5100018978118896,
          5.447464942932129,
          11.160760879516602,
          2.8466527462005615,
          6.885768413543701,
          -11.283247947692871,
          -12.92720890045166,
          3.4711146354675293,
          1.5513393878936768,
          14.091381072998047,
          2.244145154953003,
          12.401564598083496,
          2.0729546546936035,
          7.473627090454102,
          -15.907621383666992,
          -3.419896125793457,
          -0.4539084732532501,
          10.621711730957031,
          8.523198127746582,
          8.901108741760254,
          -19.67926788330078,
          4.205529689788818,
          12.293745994567871,
          -4.992951393127441,
          -2.7504515647888184,
          -9.770331382751465,
          -0.233170747756958,
          -6.44108247756958,
          -18.32910919189453,
          1.2437560558319092,
          -2.006448745727539,
          7.323858737945557,
          -2.2131481170654297,
          0.06243041530251503,
          2.260441780090332,
          -2.0618515014648438,
          -0.9368875622749329,
          -10.575923919677734,
          -16.47712516784668,
          -18.649791717529297,
          -4.083748817443848,
          -5.110751152038574,
          8.085134506225586,
          -2.3595614433288574,
          -7.838568210601807,
          3.077780246734619,
          13.90882396697998,
          9.457075119018555,
          -13.357813835144043,
          -6.460104942321777,
          6.73691463470459,
          -8.84614372253418,
          1.1813459396362305,
          5.488087177276611,
          11.848855018615723,
          -6.3929972648620605,
          11.789996147155762,
          0.36238887906074524,
          -7.49086332321167,
          1.5464224815368652,
          6.2364373207092285,
          -6.080685615539551,
          -3.6701784133911133,
          2.1982953548431396,
          -11.75747299194336,
          3.481968879699707,
          -15.985569953918457,
          -2.1095001697540283,
          13.647781372070312,
          -13.159025192260742,
          -17.44280242919922,
          -1.7818489074707031,
          -1.0781991481781006,
          -11.190352439880371,
          1.080954909324646,
          -10.428196907043457,
          -3.183485984802246,
          2.7697784900665283,
          -8.978692054748535,
          10.42293930053711,
          4.6817474365234375,
          -2.602776050567627,
          1.0465410947799683,
          2.6228067874908447,
          -0.22132346034049988,
          2.833832025527954,
          4.272331714630127,
          -7.7706756591796875,
          3.5774693489074707,
          -11.198054313659668,
          3.2749509811401367,
          3.421750068664551,
          -17.7418212890625,
          2.6755032539367676,
          -8.767300605773926,
          -12.71630573272705,
          10.826146125793457,
          -5.4895339012146,
          5.126397132873535,
          5.578273773193359,
          1.5059261322021484,
          -8.643866539001465,
          -9.159784317016602,
          10.342790603637695,
          -0.3307056128978729,
          0.6792277097702026,
          -3.9471492767333984,
          -4.74793815612793,
          8.338279724121094,
          1.299904704093933,
          -0.9504746198654175,
          11.156187057495117,
          7.149157524108887,
          8.030606269836426,
          -4.504688262939453,
          -13.168230056762695,
          2.70474910736084,
          -2.2491703033447266,
          1.851527214050293,
          -0.5890170931816101,
          -15.360471725463867,
          3.662914276123047,
          -7.637588977813721,
          4.160559177398682,
          -9.147222518920898,
          -9.301385879516602,
          -8.849246978759766,
          2.3494715690612793,
          2.8423054218292236,
          5.913819789886475,
          1.227578043937683,
          -0.23329003155231476,
          -8.933961868286133,
          5.783009052276611,
          -5.029160499572754,
          -7.173318862915039,
          7.927669525146484,
          -5.850650787353516,
          8.120697021484375,
          -8.59989070892334,
          3.298414945602417,
          -1.7318329811096191,
          3.402688980102539,
          9.134404182434082,
          -2.541067123413086,
          7.077208042144775,
          -8.60824966430664,
          -3.8841140270233154,
          2.931575298309326,
          -2.7684383392333984,
          0.3081316649913788,
          -4.953009128570557,
          5.633296012878418,
          -2.250645637512207,
          10.643959045410156,
          6.552679538726807,
          -10.781660079956055,
          -5.378396511077881,
          5.867983818054199,
          4.978400230407715,
          -10.492849349975586,
          -4.708243370056152,
          -1.9831682443618774,
          2.4729557037353516,
          10.296841621398926,
          8.413722038269043,
          -1.5570018291473389,
          -7.958932399749756,
          5.782815456390381,
          -1.121657371520996,
          8.4861478805542,
          -8.382452964782715,
          0.22435754537582397,
          -0.771774172782898,
          -5.204933166503906,
          -5.34861421585083,
          3.917165517807007,
          -8.673074722290039,
          3.3517768383026123,
          2.2472524642944336,
          0.9794884324073792,
          -7.446906089782715,
          5.217285633087158,
          -2.9190330505371094,
          4.535064697265625,
          -7.91170072555542,
          -3.866718053817749,
          6.243649005889893,
          3.9021129608154297,
          3.4596664905548096,
          4.619653224945068,
          -8.23272705078125,
          -4.987241744995117,
          0.32973209023475647,
          5.452998638153076,
          3.668153762817383,
          -3.6000828742980957,
          7.382697582244873,
          -1.6232627630233765,
          -1.9581570625305176,
          -5.404743671417236,
          8.989656448364258,
          2.6623549461364746,
          -9.497116088867188,
          -2.5019407272338867,
          -0.7047862410545349,
          4.716865062713623,
          11.075787544250488,
          -0.3903900980949402,
          5.33047342300415,
          -7.699193000793457,
          0.2773912847042084,
          -5.838571071624756,
          1.161363959312439,
          -10.514213562011719,
          -1.7403476238250732,
          -0.6988084316253662,
          7.496153354644775,
          -10.117875099182129,
          -0.3257139325141907,
          10.569540023803711,
          -4.224610805511475,
          -3.967501163482666,
          -4.656702041625977,
          -1.5518338680267334,
          -9.015657424926758,
          9.169943809509277,
          5.213099479675293,
          -6.338591575622559,
          0.03415185958147049,
          -18.182144165039062,
          -16.864809036254883,
          -3.1629436016082764,
          0.56535404920578,
          1.012379765510559,
          3.1053626537323,
          -9.041525840759277,
          0.9433464407920837,
          5.773733139038086,
          0.8607071042060852,
          0.1241459995508194,
          11.521924018859863,
          3.9134111404418945,
          9.670493125915527,
          -2.338181972503662,
          10.165678024291992,
          10.992555618286133,
          -5.9461350440979,
          4.231751441955566,
          -2.97041392326355,
          -1.7236746549606323,
          -5.676035404205322,
          -0.42240777611732483,
          -3.3742458820343018,
          -14.857344627380371,
          7.343977928161621,
          7.366842746734619,
          -12.986526489257812,
          10.174234390258789,
          -16.46022605895996,
          2.2075936794281006,
          -9.312183380126953,
          -12.271024703979492,
          2.2636559009552,
          -3.9555397033691406,
          7.419999122619629,
          12.396845817565918,
          -0.5306550860404968,
          5.356319904327393,
          9.979921340942383,
          -1.8114980459213257,
          -1.5665630102157593,
          8.830015182495117,
          12.822537422180176,
          12.38540267944336,
          6.407053470611572,
          3.841295003890991,
          10.210320472717285,
          10.313068389892578,
          -14.909408569335938,
          4.01894998550415,
          3.296236515045166,
          -8.401650428771973,
          4.92995023727417,
          -8.501229286193848,
          2.7406930923461914,
          -5.583605766296387,
          9.441573143005371,
          6.359659671783447,
          10.48925495147705,
          5.3232011795043945,
          -5.514196872711182,
          2.1184704303741455,
          -1.7423332929611206,
          -10.991772651672363,
          11.756772994995117,
          -7.374526023864746,
          -5.210038661956787,
          -6.945723533630371,
          -3.771266222000122,
          -12.735345840454102,
          -4.520070552825928,
          -4.547883033752441,
          8.242905616760254,
          4.235185146331787,
          13.66729736328125,
          -4.364788055419922,
          -1.7673864364624023,
          10.854104042053223,
          9.246197700500488,
          7.039755821228027,
          -14.791427612304688,
          -13.770405769348145,
          10.145463943481445,
          -8.511913299560547,
          6.169243335723877,
          13.720911979675293,
          -11.814191818237305,
          13.732605934143066,
          -6.923346519470215,
          -8.222542762756348,
          3.457165241241455,
          -4.513012886047363,
          -7.523947238922119,
          12.936206817626953,
          8.338391304016113,
          7.414450168609619,
          -1.390976071357727,
          -0.6549361944198608,
          0.8534895777702332,
          -14.274312019348145,
          10.596738815307617,
          6.110350608825684,
          -10.982247352600098,
          4.580440521240234,
          13.22613525390625,
          -14.610283851623535,
          -11.717864990234375,
          -10.800847053527832,
          -6.089757442474365,
          13.476887702941895,
          9.803693771362305,
          10.630423545837402,
          -2.625654935836792,
          -11.454416275024414,
          -1.6585158109664917,
          7.6786699295043945,
          -4.4102911949157715,
          4.672223091125488,
          7.714653968811035,
          -0.022618412971496582,
          -3.205096960067749,
          -4.37431526184082,
          -12.613521575927734,
          -18.018104553222656,
          -4.460625648498535,
          9.920700073242188,
          16.45246124267578,
          -19.388824462890625,
          -4.577717304229736,
          -0.4519376754760742,
          -9.373523712158203,
          -12.07470417022705,
          -16.005451202392578,
          5.603878974914551,
          15.144950866699219,
          8.486588478088379,
          -12.668106079101562,
          -0.041509535163640976,
          -4.628625392913818,
          11.927289009094238,
          4.799084186553955,
          -8.149441719055176,
          -14.582201957702637,
          -18.5343074798584,
          -19.322938919067383,
          -2.8389196395874023,
          2.9361183643341064,
          13.204988479614258,
          -4.700063705444336,
          12.24730396270752,
          13.627713203430176,
          -16.057186126708984,
          -15.671667098999023,
          -9.363568305969238,
          5.606224060058594,
          11.127461433410645,
          -1.0301978588104248,
          -13.875761032104492,
          2.086228132247925,
          1.3147615194320679,
          6.60147762298584,
          12.091525077819824,
          1.3558764457702637,
          -2.3055052757263184,
          13.532964706420898,
          -10.278688430786133,
          10.055933952331543,
          0.5580927729606628,
          -7.711722373962402,
          3.9796931743621826,
          13.248922348022461,
          2.4011752605438232,
          15.865492820739746,
          15.331663131713867,
          -8.397643089294434,
          3.199049711227417,
          -11.458115577697754,
          -9.919498443603516,
          -2.620739221572876,
          -19.214431762695312,
          -2.60512375831604,
          -12.961642265319824,
          12.117358207702637,
          0.8104414939880371,
          2.2488319873809814,
          7.037886619567871,
          5.690273761749268,
          -3.639465570449829,
          9.026296615600586,
          11.1393461227417,
          -2.339029312133789,
          8.322235107421875,
          -15.314231872558594,
          -10.565496444702148,
          -3.067756175994873,
          -13.951360702514648,
          3.0151312351226807,
          -0.12464822828769684,
          -0.03544815629720688,
          -12.456816673278809,
          6.402359962463379,
          1.8215776681900024,
          -2.3880598545074463,
          4.86812162399292,
          -7.1540679931640625,
          -4.756256103515625,
          0.24336466193199158,
          -10.665753364562988,
          1.4524545669555664,
          2.6884236335754395,
          2.435546875,
          9.735275268554688,
          8.39602279663086,
          10.969304084777832,
          -2.5160603523254395,
          5.77787446975708,
          1.619187831878662,
          -10.320979118347168,
          1.1229221820831299,
          -10.799620628356934,
          -2.444780111312866,
          -11.973127365112305,
          -13.46593952178955,
          6.526312828063965,
          -7.800256729125977,
          -14.363664627075195,
          1.6722288131713867,
          -18.87819480895996,
          -7.495388031005859,
          -7.665755748748779,
          -13.60301399230957,
          -6.437135696411133,
          6.763860702514648,
          9.769906997680664,
          2.971548557281494,
          -10.698382377624512,
          6.577072620391846,
          9.188804626464844,
          -7.530296325683594,
          -13.333898544311523,
          7.03710412979126,
          5.87578821182251,
          -8.820558547973633,
          6.496616840362549,
          -3.0759382247924805,
          -2.772644281387329,
          3.6726908683776855,
          6.43190860748291,
          -0.09689325094223022,
          9.250028610229492,
          10.069679260253906,
          5.740963935852051,
          7.23530387878418,
          -5.993935585021973,
          -6.705073356628418,
          -13.29086685180664,
          2.6854867935180664,
          -8.307191848754883,
          -8.33934497833252,
          3.184246063232422,
          -4.598376274108887,
          -8.127174377441406,
          9.284464836120605,
          13.53478717803955,
          -17.178730010986328,
          6.84153938293457,
          -12.485016822814941,
          4.291014671325684,
          -1.801408290863037,
          6.906982421875,
          1.5301666259765625,
          -10.26496696472168,
          -0.3044251799583435,
          4.928521156311035,
          1.8551297187805176,
          -6.675835609436035,
          -6.108005523681641,
          -12.974238395690918,
          1.000259518623352,
          -1.1035794019699097,
          -15.506200790405273,
          -13.164695739746094,
          -2.144803524017334,
          10.961706161499023,
          1.9523805379867554,
          -2.23502516746521,
          4.783278942108154,
          -7.102969169616699,
          -0.5379650592803955,
          7.123961448669434,
          -8.588425636291504,
          2.2582621574401855,
          6.3004302978515625,
          -8.140562057495117,
          0.32449784874916077,
          0.8636299967765808,
          1.3835943937301636,
          7.659768104553223,
          0.5005677342414856,
          -2.7362687587738037,
          -11.930733680725098,
          -0.12459753453731537,
          -6.560922145843506,
          2.3776893615722656,
          8.406038284301758,
          4.565000057220459,
          -14.097814559936523,
          5.612064838409424,
          3.4534499645233154,
          -0.37777799367904663,
          6.012936592102051,
          4.707489490509033,
          4.337249279022217,
          -3.339345693588257,
          -1.067989468574524,
          7.42394495010376,
          -4.191289901733398,
          2.7937982082366943,
          -8.700662612915039,
          -0.9987577795982361,
          4.215806484222412,
          1.2765896320343018,
          0.7364399433135986,
          5.812249183654785,
          7.900872707366943,
          -1.7901057004928589,
          12.846220016479492,
          -7.41348123550415,
          -14.990883827209473,
          -5.3931565284729,
          0.5263573527336121,
          -5.342289924621582,
          12.918793678283691,
          10.194629669189453,
          12.954888343811035,
          11.21844482421875,
          8.316426277160645,
          -6.614999771118164,
          -10.533534049987793,
          -8.805624008178711,
          -10.216897964477539,
          -9.837191581726074,
          12.283653259277344,
          -10.558446884155273,
          2.4854736328125,
          1.4231597185134888,
          -9.222558975219727,
          0.27340415120124817,
          7.269994735717773,
          10.919939041137695,
          -5.935434818267822,
          10.555386543273926,
          -11.902607917785645,
          -1.2137123346328735,
          6.224037170410156,
          -7.952413558959961,
          -2.2828657627105713,
          -16.507957458496094,
          -4.560108184814453,
          7.993516445159912,
          5.745311260223389,
          -12.081847190856934,
          4.057995319366455,
          12.06463623046875,
          1.2795960903167725,
          -14.3914794921875,
          -9.591010093688965,
          -3.2079570293426514,
          9.535655975341797,
          2.2853572368621826,
          -3.04552960395813,
          3.8007454872131348,
          -1.7627257108688354,
          0.06163032352924347,
          -11.589435577392578,
          5.103851795196533,
          0.033166080713272095,
          3.181896209716797,
          -5.247345447540283,
          4.991543292999268,
          14.540082931518555,
          0.21793094277381897,
          7.27056360244751,
          7.358907222747803,
          8.281315803527832,
          -12.95534610748291,
          -15.206491470336914,
          16.486875534057617,
          0.19806049764156342,
          -14.763728141784668,
          -4.885897159576416,
          1.0425599813461304,
          -14.428640365600586,
          -5.357730388641357,
          -15.530163764953613,
          13.967191696166992,
          3.554098606109619,
          -3.7533981800079346,
          -18.07369613647461,
          -0.5808707475662231,
          8.04738998413086,
          -1.5109061002731323,
          -4.449921131134033,
          2.473310708999634,
          -17.59119987487793,
          -14.576391220092773,
          -3.939995765686035,
          -8.942536354064941,
          1.5279327630996704,
          7.939388751983643,
          -13.712953567504883,
          11.462016105651855,
          9.659725189208984,
          4.1335673332214355,
          7.477258205413818,
          2.5756993293762207,
          -0.47774240374565125,
          15.406255722045898,
          -16.58449363708496,
          -18.43316078186035,
          6.656497955322266,
          2.4011895656585693,
          2.1564769744873047,
          -14.602174758911133,
          -11.241957664489746,
          8.373617172241211,
          -6.674449920654297,
          -0.5854257345199585,
          -16.167465209960938,
          7.542222499847412,
          -2.01448392868042,
          6.042733192443848,
          -12.256121635437012,
          8.417545318603516,
          -4.682485580444336,
          -12.35854434967041,
          -1.6060764789581299,
          -4.190176010131836,
          10.682705879211426,
          9.907674789428711,
          4.138757705688477,
          13.50804328918457,
          8.132979393005371,
          -7.042349815368652,
          15.355740547180176,
          8.050711631774902,
          3.5529842376708984,
          6.034360408782959,
          -7.633504867553711,
          2.8537163734436035,
          -1.7220581769943237,
          4.078087329864502,
          4.314088344573975,
          -6.263234615325928,
          -5.657882213592529,
          9.189223289489746,
          -6.49791955947876,
          10.786834716796875,
          5.742779731750488,
          8.707503318786621,
          8.875761032104492,
          -10.891630172729492,
          7.297906398773193,
          10.272632598876953,
          -2.6790685653686523,
          -14.68796443939209,
          5.542685031890869,
          -13.968910217285156,
          13.136402130126953,
          5.769467353820801,
          -3.116297960281372,
          2.4568207263946533,
          11.409748077392578,
          -5.493306636810303,
          1.3185139894485474,
          3.964554786682129,
          -12.720046997070312,
          15.178543090820312,
          -10.816425323486328,
          5.911040306091309,
          -2.893364429473877,
          4.148809909820557,
          5.143975257873535,
          -8.011053085327148,
          -12.447450637817383,
          -12.880941390991211,
          5.320775508880615,
          -10.982518196105957,
          -2.403641700744629,
          -3.668877601623535,
          3.0121636390686035,
          11.821499824523926,
          -2.8668971061706543,
          2.9973278045654297,
          5.488829612731934,
          -1.306687355041504,
          -8.754734992980957,
          1.4690793752670288,
          -7.392331123352051,
          10.73733901977539,
          -9.611788749694824,
          -7.284522533416748,
          11.770980834960938,
          3.310187339782715,
          4.033291339874268,
          -3.430556297302246,
          -3.9860095977783203,
          12.723984718322754,
          -11.855467796325684,
          -7.678905963897705,
          9.306211471557617,
          4.084146499633789,
          2.4892160892486572,
          -16.752798080444336,
          -1.3746229410171509,
          11.290203094482422,
          -13.305761337280273,
          9.055335998535156,
          -9.869566917419434,
          1.0329439640045166,
          -0.07147487998008728,
          -0.2275937795639038,
          1.718024492263794,
          6.768922805786133,
          -8.269515037536621,
          -13.158886909484863,
          -14.863738059997559,
          11.456866264343262,
          -14.366891860961914,
          2.3984053134918213,
          -10.355448722839355,
          3.7105746269226074,
          10.729195594787598,
          -2.4436304569244385,
          15.991528511047363,
          -8.88696575164795,
          13.357091903686523,
          2.9433181285858154,
          -2.3743879795074463,
          5.815796375274658,
          -4.7757110595703125,
          -10.49653434753418,
          7.191847801208496,
          -14.260921478271484,
          11.218568801879883,
          -1.224269151687622,
          9.78013801574707,
          -15.268928527832031,
          3.1500842571258545,
          0.7152367830276489,
          -11.930255889892578,
          -9.827521324157715,
          -3.749109983444214,
          -0.4175437092781067,
          -7.012195110321045,
          9.203598976135254,
          -4.292551040649414,
          8.196182250976562,
          -14.99030590057373,
          -6.2262654304504395,
          12.89751148223877,
          -10.9581298828125,
          10.466391563415527,
          0.09982296079397202,
          -18.23615837097168,
          1.3715596199035645,
          11.556760787963867,
          3.5591936111450195,
          -12.328221321105957,
          -4.196664333343506,
          4.523306846618652,
          0.990179717540741,
          -3.5108754634857178,
          0.05446494743227959,
          0.16502979397773743,
          -10.91878890991211,
          9.915964126586914,
          9.9432373046875,
          -8.856222152709961,
          1.6375458240509033,
          9.041620254516602,
          -3.071375608444214,
          -14.675579071044922,
          10.552674293518066,
          6.902963161468506,
          13.704142570495605,
          -3.7247016429901123,
          10.732893943786621,
          12.422198295593262,
          -8.631669998168945,
          5.75255823135376,
          -3.8043336868286133,
          0.7548356652259827,
          2.0153510570526123,
          2.826702117919922,
          -2.4837687015533447,
          5.553603172302246,
          -10.64006233215332,
          -2.02030348777771,
          -8.690659523010254,
          8.688302040100098,
          -1.5645414590835571,
          -14.292680740356445,
          -1.1174818277359009,
          -11.854381561279297,
          -0.6697609424591064,
          6.483858585357666,
          1.1079115867614746,
          6.056786060333252,
          1.497778296470642,
          -8.6426420211792,
          7.785063743591309,
          4.732789993286133,
          5.240543842315674,
          13.075721740722656,
          7.760043144226074,
          1.5075452327728271,
          -13.086419105529785,
          -0.9252657294273376,
          5.122211933135986,
          8.723075866699219,
          -13.378151893615723,
          -2.1379029750823975,
          0.7853039503097534,
          -11.115035057067871,
          6.787633895874023,
          5.406836032867432,
          3.641603946685791,
          -11.296738624572754,
          -11.36205768585205,
          -7.67910099029541,
          2.020597457885742,
          -3.5974249839782715,
          -13.692200660705566,
          -5.482267379760742,
          6.548426628112793,
          0.47935593128204346,
          -0.5999798774719238,
          4.324809551239014,
          -14.769495010375977,
          -13.345670700073242,
          8.38146686553955,
          14.745396614074707,
          -9.234824180603027,
          7.492440223693848,
          13.121700286865234,
          15.167908668518066,
          -10.821174621582031,
          -1.6980372667312622,
          -15.245308876037598,
          1.0554656982421875,
          0.4410913288593292,
          3.494812488555908,
          -6.30521821975708,
          -8.662253379821777,
          -11.565608978271484,
          -0.36069396138191223,
          -12.461383819580078,
          4.478227138519287,
          14.815765380859375,
          7.468186378479004,
          -12.903094291687012,
          1.3741823434829712,
          -2.894158363342285,
          -7.267022609710693,
          -13.742210388183594,
          2.2630510330200195,
          12.036020278930664,
          8.120344161987305,
          11.020331382751465,
          -13.298291206359863,
          2.9544217586517334,
          3.407163619995117,
          7.744868755340576,
          -10.244452476501465,
          8.44289779663086,
          5.7063093185424805,
          6.979130268096924,
          6.137102127075195,
          -2.7949271202087402,
          -12.021472930908203,
          -13.581198692321777,
          -10.73661994934082,
          6.6810078620910645,
          11.666693687438965,
          8.440393447875977,
          -11.23058795928955,
          9.25718879699707,
          5.695552825927734,
          -1.8860499858856201,
          8.976287841796875,
          6.466028213500977,
          10.579517364501953,
          0.8444473147392273,
          0.5042986869812012,
          -8.289468765258789,
          11.497092247009277,
          -1.101357102394104,
          8.202125549316406,
          -10.081512451171875,
          11.206354141235352,
          5.815467834472656,
          -3.109912157058716,
          -4.29937744140625,
          -13.73731803894043,
          7.441509246826172,
          8.45494270324707,
          11.132806777954102,
          4.371738433837891,
          -4.015814781188965,
          0.7826587557792664,
          10.758973121643066,
          -2.78572678565979,
          8.405787467956543,
          -8.025708198547363,
          -6.429800033569336,
          5.084471225738525,
          -7.956648826599121,
          -1.5308035612106323,
          9.180892944335938,
          3.4393746852874756,
          -5.845202922821045,
          4.763391494750977,
          2.9884581565856934,
          6.0286641120910645,
          2.98612380027771,
          -7.003306865692139,
          -2.4603326320648193,
          6.967609405517578,
          1.9372259378433228,
          -3.0274834632873535,
          -4.036713123321533,
          -5.337522029876709,
          -8.156373023986816,
          -4.171510219573975,
          7.167539596557617,
          -10.242122650146484,
          2.5142924785614014,
          3.4195854663848877,
          5.6827239990234375,
          -6.3632965087890625,
          -14.84698486328125,
          -12.03282642364502,
          9.608991622924805,
          3.732619047164917,
          12.5482759475708,
          -11.659894943237305,
          -14.07948112487793,
          -11.343240737915039,
          6.719571590423584,
          8.507132530212402,
          1.120056390762329,
          6.402037143707275,
          -4.833698272705078,
          4.9763593673706055,
          10.864569664001465,
          -6.302507400512695,
          6.989340782165527,
          -3.263990640640259,
          -13.555813789367676,
          9.577828407287598,
          9.37825870513916,
          11.315801620483398,
          -14.647197723388672,
          6.250321388244629,
          8.052708625793457,
          -5.530611515045166,
          7.8602142333984375,
          2.514246940612793,
          -12.440922737121582,
          5.249935150146484,
          -10.767186164855957,
          9.460430145263672,
          13.186735153198242,
          3.3352880477905273,
          -2.2058818340301514,
          -2.804615020751953,
          -12.820496559143066,
          -11.836254119873047,
          -17.949697494506836,
          -4.751988887786865,
          1.8849303722381592,
          -11.01193618774414,
          3.081644296646118,
          8.186059951782227,
          1.3547461032867432,
          8.198579788208008,
          0.5798232555389404,
          -7.352267742156982,
          -5.416134357452393,
          6.266661167144775,
          6.368880271911621,
          3.7338690757751465,
          5.488285541534424,
          -5.854248046875,
          -12.412626266479492,
          11.580774307250977,
          -11.332087516784668,
          12.383783340454102,
          -12.78309440612793,
          1.8571784496307373,
          14.86670970916748,
          3.229416847229004,
          4.755534648895264,
          12.255925178527832,
          -7.060918807983398,
          -4.417022228240967,
          1.2098690271377563,
          15.813580513000488,
          -3.545374870300293,
          -11.340446472167969,
          6.772157669067383,
          7.757754325866699,
          13.64209270477295,
          -10.48633098602295,
          8.382904052734375,
          -13.185582160949707,
          -10.751646041870117,
          -0.0984049141407013,
          7.751347541809082,
          -1.642664909362793,
          12.89890193939209,
          1.3312811851501465,
          8.652364730834961,
          2.6260159015655518,
          -4.251474857330322,
          -7.907147407531738,
          -16.966506958007812,
          -9.145224571228027,
          13.257172584533691,
          12.146724700927734,
          -3.8577027320861816,
          11.880960464477539,
          9.136528015136719,
          6.680229187011719,
          5.151241302490234,
          -4.191691875457764,
          -2.520040512084961,
          -1.6398624181747437,
          10.439913749694824,
          -0.6088394522666931,
          9.63058853149414,
          -5.309086322784424,
          -1.76279616355896,
          -1.7945691347122192,
          -4.88069486618042,
          8.641023635864258,
          3.5672249794006348,
          17.15691375732422,
          9.894256591796875,
          10.822232246398926,
          0.26802292466163635,
          -0.6758475303649902,
          -5.1978440284729,
          -9.505398750305176,
          8.360602378845215,
          -13.35877513885498,
          4.583807468414307,
          11.216484069824219,
          4.343330383300781,
          -18.20165252685547,
          5.929681777954102,
          6.596099853515625,
          3.298205614089966,
          8.168697357177734,
          -1.7266781330108643,
          11.981201171875,
          2.894620895385742,
          1.886756420135498,
          -8.885329246520996,
          10.302847862243652,
          4.2922773361206055,
          -13.319253921508789,
          8.140371322631836,
          -3.5185999870300293,
          -12.095380783081055,
          0.09637419134378433,
          11.45673942565918,
          -1.45309579372406,
          -16.964981079101562,
          7.51797342300415,
          9.348024368286133,
          8.130180358886719,
          3.701357364654541,
          4.152279853820801,
          -4.393824577331543,
          6.205931663513184,
          7.270402908325195,
          -10.492185592651367,
          -4.332608222961426,
          11.151001930236816,
          12.735597610473633,
          -2.876551389694214,
          -14.879293441772461,
          9.646108627319336,
          2.36350679397583,
          10.710257530212402,
          -13.395541191101074,
          -12.881084442138672,
          -4.11120080947876,
          -11.997627258300781,
          11.482131958007812,
          8.518318176269531,
          11.119363784790039,
          2.248293161392212,
          -8.418084144592285,
          8.076576232910156,
          -7.068751811981201,
          11.726277351379395,
          -16.525611877441406,
          10.131972312927246,
          -6.37461519241333,
          11.298434257507324,
          7.641929626464844,
          -6.350914478302002,
          10.67786693572998,
          2.0800325870513916,
          3.049403190612793,
          1.4476068019866943,
          -9.734798431396484,
          -12.232358932495117,
          -6.548917770385742,
          11.32117748260498,
          -3.6385762691497803,
          -2.097388505935669,
          5.160961627960205,
          5.221347808837891,
          6.122644424438477,
          10.78469181060791,
          12.274373054504395,
          2.133455514907837,
          -13.579741477966309,
          8.696011543273926,
          13.420156478881836,
          -4.552000999450684,
          9.668599128723145,
          2.763216257095337,
          -12.918339729309082,
          -12.023026466369629,
          -5.532251834869385,
          11.538840293884277,
          6.859616279602051,
          7.368338584899902,
          7.750576972961426,
          7.444173812866211,
          3.745234966278076,
          7.400448322296143,
          4.941677093505859,
          -11.41126823425293,
          -2.4826667308807373,
          13.479399681091309,
          9.109355926513672,
          2.275629997253418,
          -12.110269546508789,
          10.3894624710083,
          -1.1335580348968506,
          -11.88325023651123,
          3.9433751106262207,
          8.958266258239746,
          -4.1673479080200195,
          9.054153442382812,
          -11.943131446838379,
          -3.8669490814208984,
          -6.842073917388916,
          -12.378419876098633,
          1.957351565361023,
          -13.737547874450684,
          2.8344666957855225,
          12.864194869995117,
          7.955080032348633,
          9.698362350463867,
          4.328577518463135,
          -0.9194024205207825,
          5.867114543914795,
          14.814885139465332,
          -12.747217178344727,
          3.966608762741089,
          -15.593127250671387,
          -10.711468696594238,
          6.280277252197266,
          -3.0219616889953613,
          3.464024305343628,
          2.0839850902557373,
          6.301472187042236,
          -10.130249977111816,
          -4.233606338500977,
          -0.6186226606369019,
          -2.4061028957366943,
          -5.949924468994141,
          -0.7624956965446472,
          5.675917625427246,
          -5.7490553855896,
          0.34683430194854736,
          9.921924591064453,
          -13.670751571655273,
          0.8325384259223938,
          -5.054381370544434,
          -3.089594841003418,
          -0.26858845353126526,
          -8.28107738494873,
          4.526860237121582,
          10.548103332519531,
          -1.4338728189468384,
          -7.0355224609375,
          -3.539820432662964,
          -7.570315361022949,
          -3.1448891162872314,
          7.25272798538208,
          -7.012752056121826,
          5.665867328643799,
          6.584417819976807,
          -6.985616683959961,
          5.239553451538086,
          5.861407279968262,
          3.7249045372009277,
          1.7911558151245117,
          -6.687915325164795,
          -4.531986236572266,
          15.143115043640137,
          -2.3008437156677246,
          -12.485101699829102,
          -7.210922718048096,
          6.4291205406188965,
          -4.920389175415039,
          6.900931358337402,
          7.247832775115967,
          6.7579345703125,
          -6.041192531585693,
          9.393471717834473,
          -6.419882774353027,
          2.8267922401428223,
          -6.0818376541137695,
          -5.6376543045043945,
          0.20611223578453064,
          -4.932699680328369,
          8.88407039642334,
          4.260002613067627,
          1.4585179090499878,
          6.457993507385254,
          9.884526252746582,
          -1.6742583513259888,
          4.3614301681518555,
          3.2533326148986816,
          -12.553378105163574,
          -13.31833267211914,
          0.12274793535470963,
          -5.940450668334961,
          5.9018073081970215,
          5.1187424659729,
          9.221736907958984,
          9.133133888244629,
          -5.206514358520508,
          -10.682452201843262,
          -5.637173175811768,
          0.5546799898147583,
          -10.202837944030762,
          7.11407470703125,
          3.457606554031372,
          12.834892272949219,
          6.261791229248047,
          8.181577682495117,
          -9.16968822479248,
          9.007704734802246,
          2.9479806423187256,
          8.412313461303711,
          -13.956192016601562,
          4.327498435974121,
          -2.5838232040405273,
          3.2533657550811768,
          8.858308792114258,
          6.985884189605713,
          7.645621299743652,
          2.319337844848633,
          -3.535667896270752,
          -1.7125943899154663,
          9.355932235717773,
          8.149351119995117,
          2.090416431427002,
          -2.5086772441864014,
          -0.2942112386226654,
          8.607916831970215,
          8.982797622680664,
          2.6157641410827637,
          1.9058823585510254,
          1.4984184503555298,
          -1.046817421913147,
          -2.1253204345703125,
          8.632376670837402,
          13.320013999938965,
          4.092391490936279,
          -9.847521781921387,
          -5.81561803817749,
          -9.07995319366455,
          10.607237815856934,
          2.6199657917022705,
          12.374356269836426,
          -3.424478530883789,
          -3.2256486415863037,
          7.528169631958008,
          0.1430070698261261,
          -2.46317458152771,
          -6.814492225646973,
          4.289637088775635,
          10.04812240600586,
          0.647668719291687,
          -1.1130340099334717,
          3.850715160369873,
          6.694966793060303,
          -9.199350357055664,
          -0.1441650092601776,
          11.817803382873535,
          -1.8537629842758179,
          11.996780395507812,
          0.0833306536078453,
          3.4292280673980713,
          14.787484169006348,
          -4.0189690589904785,
          0.375713050365448,
          9.661355018615723,
          -17.229644775390625,
          -6.821619033813477,
          0.7681077122688293,
          -8.068359375,
          -5.804011821746826,
          -8.163862228393555,
          9.029322624206543,
          -0.2542191743850708,
          7.894925594329834,
          6.711223125457764,
          -3.347012519836426,
          1.2099683284759521,
          4.917323112487793,
          3.4157350063323975,
          -9.858512878417969,
          2.3745086193084717,
          1.9203300476074219,
          -2.0585906505584717,
          -3.345742702484131,
          15.094175338745117,
          7.829465389251709,
          -0.9278230667114258,
          -14.26531982421875,
          11.449630737304688,
          -7.5864105224609375,
          6.494656085968018,
          2.154120922088623,
          -10.037657737731934,
          -2.9850542545318604,
          3.0686872005462646,
          3.4017162322998047,
          -12.047669410705566,
          10.606160163879395,
          -5.121595859527588,
          7.0153985023498535,
          -4.053353786468506,
          -7.532549858093262,
          11.206356048583984,
          1.3591309785842896,
          -10.102977752685547,
          -1.6169235706329346,
          1.7732588052749634,
          -17.38813018798828,
          -0.350786954164505,
          0.1743990033864975,
          9.69078540802002,
          5.588519096374512,
          -9.999759674072266,
          1.3850667476654053,
          1.3889720439910889,
          1.87899649143219,
          0.7572058439254761,
          6.117496013641357,
          -2.2948431968688965,
          -8.782699584960938,
          -3.624758720397949,
          6.3572773933410645,
          0.0555768683552742,
          -16.4088191986084,
          10.080110549926758,
          4.7509026527404785,
          2.5408518314361572,
          13.837264060974121,
          2.916612148284912,
          10.258862495422363,
          -1.965837001800537,
          -13.280782699584961,
          -2.070289373397827,
          6.773022651672363,
          -12.62157917022705,
          -4.688150405883789,
          2.520206928253174,
          1.8867651224136353,
          -9.222406387329102,
          11.413015365600586,
          -2.8418920040130615,
          10.979312896728516,
          9.697504043579102,
          2.721285820007324,
          3.106255531311035,
          -5.874406337738037,
          10.994925498962402,
          -1.139252781867981,
          -1.3714346885681152,
          -10.626964569091797,
          1.9829477071762085,
          1.1746594905853271,
          -18.46295928955078,
          -1.7383793592453003,
          3.5496103763580322,
          0.9682021141052246,
          -7.038959503173828,
          -9.788262367248535,
          -10.19441032409668,
          7.626300811767578,
          6.25872802734375,
          -3.2539010047912598,
          -10.109716415405273,
          -5.645394802093506,
          1.1892467737197876,
          -7.75203800201416,
          -0.6178812980651855,
          -6.237950801849365,
          -6.511146068572998,
          8.475186347961426,
          0.8989136815071106,
          -12.257155418395996,
          6.970232963562012,
          5.7922515869140625,
          0.42150771617889404,
          6.714986324310303,
          5.941860675811768,
          2.1112382411956787,
          -6.332234859466553,
          -1.9139701128005981,
          -11.488991737365723,
          -11.196913719177246,
          11.031908988952637,
          10.297816276550293,
          2.0149054527282715,
          2.7727627754211426,
          -5.230982303619385,
          7.402756690979004,
          -3.616213321685791,
          8.58754825592041,
          -14.456092834472656,
          4.013901710510254,
          -4.943150997161865,
          -4.4069929122924805,
          -15.004266738891602,
          6.847580909729004,
          -4.213817119598389,
          8.833893775939941,
          13.648694038391113,
          -15.853986740112305,
          3.8902084827423096,
          -6.420169353485107,
          -15.198783874511719,
          -6.743354320526123,
          0.8049039840698242,
          5.361275672912598,
          2.0265729427337646,
          -3.429212808609009,
          -6.964059829711914,
          -3.7520811557769775,
          10.892709732055664,
          5.632954120635986,
          7.001185894012451,
          10.874764442443848,
          -6.988986492156982,
          -10.928311347961426,
          -9.417060852050781,
          3.931628465652466,
          7.5204010009765625,
          -5.288266181945801,
          -13.810772895812988,
          -4.6844563484191895,
          8.374150276184082,
          3.0111098289489746,
          1.7057989835739136,
          -4.059452533721924,
          -16.41444206237793,
          -13.697875022888184,
          -4.433282852172852,
          -7.3407816886901855,
          -2.3394367694854736,
          2.8137567043304443,
          1.0257235765457153,
          -8.720634460449219,
          -14.343542098999023,
          -4.040565490722656,
          3.687950611114502,
          0.13048945367336273,
          -4.647780895233154,
          -3.2451446056365967,
          5.832397937774658,
          -12.19342041015625,
          -8.205838203430176,
          6.215278625488281,
          -2.203640937805176,
          8.34665298461914,
          -3.883943796157837,
          9.858748435974121,
          -2.560070753097534,
          7.275834560394287,
          9.920560836791992,
          -12.952198028564453,
          11.893034934997559,
          -16.84324836730957,
          15.04613208770752,
          8.92778491973877,
          10.945916175842285,
          -0.3787686228752136,
          -5.233541965484619,
          2.3785276412963867,
          7.488534450531006,
          4.723027229309082,
          3.711426019668579,
          -9.22343635559082,
          -8.122273445129395,
          10.129192352294922,
          4.242137908935547,
          5.95313024520874,
          2.5317153930664062,
          -3.047456741333008,
          0.1391505002975464,
          -9.981951713562012,
          7.41732931137085,
          4.162633895874023,
          -9.538701057434082,
          12.30978012084961,
          -1.38068687915802,
          1.7157118320465088,
          1.0350337028503418,
          -7.015012264251709,
          13.21401309967041,
          -9.009685516357422,
          -3.113074541091919,
          8.946779251098633,
          12.682245254516602,
          7.468388557434082,
          0.7473769187927246,
          -9.935133934020996,
          5.208091735839844,
          9.631646156311035,
          3.9665489196777344,
          7.989182472229004,
          10.350167274475098,
          0.9681704640388489,
          -6.3003034591674805,
          -9.985882759094238,
          2.3140738010406494,
          -1.9649921655654907,
          1.2334895133972168,
          14.647187232971191,
          9.311470985412598,
          0.17409171164035797,
          -9.92825698852539,
          2.773008346557617,
          -12.282332420349121,
          -2.224426746368408,
          3.8815505504608154,
          -10.117159843444824,
          5.324925899505615,
          10.286750793457031,
          13.768905639648438,
          12.63652229309082,
          -0.6897180676460266,
          -12.688772201538086,
          9.79267692565918,
          -1.6528069972991943,
          0.9092500805854797,
          -5.686847686767578,
          6.605200290679932,
          0.9896175861358643,
          7.30771541595459,
          -0.17687813937664032,
          -4.713430881500244,
          -13.523369789123535,
          -0.40576836466789246,
          12.916356086730957,
          -8.798466682434082,
          -1.0384564399719238,
          -0.5683209896087646,
          -10.712368965148926,
          -11.572033882141113,
          6.3328728675842285,
          2.3118398189544678,
          -1.26472806930542,
          -15.233964920043945,
          0.00041384639916941524,
          -4.822202682495117,
          -4.892298221588135,
          -2.8994126319885254,
          1.100826382637024,
          5.780762195587158,
          1.2817085981369019,
          11.464997291564941,
          -9.426383018493652,
          0.9033381938934326,
          -9.012906074523926,
          -0.3432653248310089,
          -13.986490249633789,
          9.758625030517578,
          -6.737198829650879,
          12.338324546813965,
          -4.9705328941345215,
          -14.475503921508789,
          0.044835202395915985,
          -8.15562629699707,
          13.444458961486816,
          1.8781213760375977,
          6.7511725425720215,
          4.950867652893066,
          -6.772967338562012,
          11.351987838745117,
          3.2426280975341797,
          -11.675908088684082,
          -12.590023040771484,
          -1.0791844129562378,
          11.286076545715332,
          1.4480539560317993,
          4.126560688018799,
          -5.17765474319458,
          -3.105445623397827,
          2.8763723373413086,
          -6.086736679077148,
          6.342060089111328,
          9.028749465942383,
          -4.380171775817871,
          0.9020333886146545,
          -0.06053554266691208,
          -16.003705978393555,
          11.321099281311035,
          7.965363025665283,
          -0.06132884323596954,
          -0.3060263991355896,
          11.052678108215332,
          -4.793995380401611,
          0.07090470939874649,
          -6.329253196716309,
          2.031783103942871,
          2.8724496364593506,
          2.4596285820007324,
          10.342851638793945,
          -6.222597599029541,
          4.130482196807861,
          3.4018054008483887,
          2.325932025909424,
          -9.239957809448242,
          -1.0816720724105835,
          9.975733757019043,
          -8.620929718017578,
          4.943511486053467,
          -5.947656631469727,
          7.295175552368164,
          -11.060288429260254,
          -7.545017719268799,
          7.5810699462890625,
          11.03978157043457,
          7.678201198577881,
          -15.186714172363281,
          1.735562801361084,
          -8.11284065246582,
          -3.5996992588043213,
          -11.946715354919434,
          2.5822339057922363,
          -9.351271629333496,
          -2.4814436435699463,
          5.296175479888916,
          12.665059089660645,
          7.745996475219727,
          7.834826946258545,
          6.573811054229736,
          8.407630920410156,
          0.8215039968490601,
          -0.2123764455318451,
          -12.63167953491211,
          16.05394744873047,
          -11.729599952697754,
          0.8497658371925354,
          -9.203689575195312,
          12.342022895812988,
          -4.084384918212891,
          11.267090797424316,
          2.115856170654297,
          -5.907405376434326,
          0.7026844024658203,
          -8.45175838470459,
          1.9360212087631226,
          -7.254443645477295,
          0.7449377775192261,
          8.745933532714844,
          13.705119132995605,
          -8.897835731506348,
          -12.44719123840332,
          -6.1598076820373535,
          5.941319465637207,
          -0.4799722135066986,
          -16.646671295166016,
          -7.870216369628906,
          -14.223240852355957,
          11.3555326461792,
          6.753268718719482,
          3.344985246658325,
          -2.7841145992279053,
          6.023326396942139,
          -8.896899223327637,
          8.466848373413086,
          -8.798279762268066,
          3.9597415924072266,
          0.025105973705649376,
          3.419095039367676,
          7.2792863845825195,
          -0.9842778444290161,
          -2.7359585762023926,
          -0.9269696474075317,
          8.49850845336914,
          -2.4836745262145996,
          3.653028964996338,
          -3.3173165321350098,
          -2.9512202739715576,
          -8.088472366333008,
          -6.160086631774902,
          -0.0486656092107296,
          9.50493049621582,
          1.6971737146377563,
          -0.6411353945732117,
          3.8578333854675293,
          0.11316008120775223,
          -7.99576997756958,
          -7.8792948722839355,
          4.494113445281982,
          -2.348017454147339,
          4.119569301605225,
          -11.52889633178711,
          -0.33846205472946167,
          -0.9825073480606079,
          -13.17375373840332,
          1.501894474029541,
          -15.071205139160156,
          1.44861900806427,
          6.674609184265137,
          6.5521769523620605,
          6.27390718460083,
          -8.178723335266113,
          3.4095821380615234,
          5.694368362426758,
          2.2641677856445312,
          8.079280853271484,
          2.045884370803833,
          -3.055091142654419,
          -10.181051254272461,
          9.786222457885742,
          1.2014254331588745,
          10.499641418457031,
          -1.5677253007888794,
          3.140005588531494,
          -9.19558048248291,
          -2.269364595413208,
          -0.41679415106773376,
          -9.57260513305664,
          0.46346184611320496,
          -0.9866946339607239,
          9.842373847961426,
          -0.9209811091423035,
          -3.945981740951538,
          0.07351214438676834,
          10.0338134765625,
          2.348904609680176,
          -14.711292266845703,
          10.58896541595459,
          -3.0429890155792236,
          -5.963511943817139,
          -10.638578414916992,
          -3.0392744541168213,
          -12.118467330932617,
          -6.979480266571045,
          -11.818979263305664,
          6.312742233276367,
          -15.08141040802002,
          -3.3289222717285156,
          -7.700163841247559,
          9.660491943359375,
          -0.34907829761505127,
          1.9849917888641357,
          -13.018953323364258,
          2.004098415374756,
          -8.994640350341797,
          -12.184489250183105,
          -1.0381652116775513,
          6.177937030792236,
          -2.9371225833892822,
          -15.727127075195312,
          2.410374641418457,
          3.0501549243927,
          -17.86350440979004,
          -9.209936141967773,
          -2.9632158279418945,
          7.588508605957031,
          -3.3790111541748047,
          7.458647727966309,
          -5.204695224761963,
          11.499918937683105,
          -7.212843894958496,
          3.9541923999786377,
          -2.1256468296051025,
          -9.639225959777832,
          -0.480843186378479,
          -1.1142386198043823,
          -0.48158398270606995,
          2.437847375869751,
          9.500791549682617,
          -3.814634323120117,
          7.585811614990234,
          10.426947593688965,
          11.813101768493652,
          2.7018020153045654,
          13.937464714050293,
          8.02291202545166,
          -12.073431015014648,
          13.177080154418945,
          1.450278878211975,
          5.876877784729004,
          6.5620012283325195,
          -0.8700553178787231,
          4.03720760345459,
          -3.3260185718536377,
          -17.811344146728516,
          -6.971133232116699,
          -8.797883033752441,
          1.0752102136611938,
          -4.754093170166016,
          11.804557800292969,
          -2.754373073577881,
          2.137892723083496,
          -12.389985084533691,
          -16.419694900512695,
          -2.830153703689575,
          8.840354919433594,
          9.533661842346191,
          -3.1226210594177246,
          12.59579849243164,
          -13.587995529174805,
          -16.05645179748535,
          6.7352728843688965,
          -3.1276445388793945,
          -0.39811989665031433,
          -3.4475739002227783,
          0.35612982511520386,
          5.442925930023193,
          -0.5842528343200684,
          -13.840256690979004,
          3.0199456214904785,
          9.80667781829834,
          4.995321273803711,
          14.110185623168945,
          2.1710293292999268,
          11.06053638458252,
          4.393462657928467,
          -10.358748435974121,
          -0.7152656316757202,
          -3.9644341468811035,
          9.657027244567871,
          -0.03563964366912842,
          13.7161283493042,
          5.873071670532227,
          -4.965235710144043,
          5.191370010375977,
          2.5626697540283203,
          5.972731590270996,
          -7.736110210418701,
          3.7953240871429443,
          2.3549842834472656,
          4.94020414352417,
          -16.40841293334961,
          4.545477867126465,
          -0.7269942164421082,
          10.794748306274414,
          -5.584074020385742,
          -13.402032852172852,
          -2.9591729640960693,
          12.372584342956543,
          -2.194324016571045,
          13.143109321594238,
          -0.4571996033191681,
          12.877776145935059,
          9.670415878295898,
          10.63390064239502,
          -0.13389547169208527,
          0.8702072501182556,
          -5.810460567474365,
          11.121493339538574,
          2.392268180847168,
          -6.134504795074463,
          -2.741358995437622,
          -11.894719123840332,
          1.4860726594924927,
          -11.951922416687012,
          1.7538902759552002,
          -10.184110641479492,
          -1.260046124458313,
          -8.631699562072754,
          -2.4983937740325928,
          10.812999725341797,
          -16.631250381469727,
          -13.545761108398438,
          3.6468167304992676,
          0.02545582875609398,
          13.263839721679688,
          4.682569980621338,
          -8.505654335021973,
          10.91671085357666,
          7.591091156005859,
          -1.274946928024292,
          11.557265281677246,
          -2.0381546020507812,
          0.244136244058609,
          -8.23338508605957,
          5.253884315490723,
          -1.6932728290557861,
          1.5482879877090454,
          -5.180354595184326,
          -7.363443374633789,
          10.501744270324707,
          -9.064756393432617,
          7.5995097160339355,
          -3.7481279373168945,
          -7.00079870223999,
          3.957446336746216,
          -2.3228940963745117,
          10.60116195678711,
          7.6660356521606445,
          -0.21694432199001312,
          0.6865070462226868,
          6.605010986328125,
          8.842062950134277,
          -1.1650274991989136,
          9.324621200561523,
          10.735074996948242,
          6.6524338722229,
          3.965238094329834,
          12.28991985321045,
          -2.6986138820648193,
          -5.894800186157227,
          3.358006238937378,
          4.695412635803223,
          -10.726789474487305,
          7.8995361328125,
          -0.1693539172410965,
          2.4859747886657715,
          1.0920238494873047,
          7.466334342956543,
          -3.327289581298828,
          -14.944014549255371,
          -10.050539016723633,
          3.9247350692749023,
          -2.8225631713867188,
          -8.266153335571289,
          2.8640353679656982,
          0.4281904995441437,
          9.857114791870117,
          -3.3315892219543457,
          5.820742130279541,
          -1.5412180423736572,
          -3.028090238571167,
          3.1202759742736816,
          -8.342347145080566,
          -11.443075180053711,
          -12.253458023071289,
          -2.0388903617858887,
          -4.208929061889648,
          8.995684623718262,
          4.780300617218018,
          2.354280948638916,
          15.53928279876709,
          2.1632320880889893,
          -15.943696022033691,
          1.1308817863464355,
          1.6949704885482788,
          -12.527528762817383,
          -2.1895759105682373,
          -4.202184200286865,
          0.5323010087013245,
          7.009846210479736,
          -6.736271858215332,
          -13.738445281982422,
          11.360610008239746,
          12.262624740600586,
          8.771659851074219,
          -0.3036540448665619,
          2.394059181213379,
          0.6821150779724121,
          -10.722818374633789,
          -10.477631568908691,
          3.854275703430176,
          -2.8884456157684326,
          -0.3393002152442932,
          6.398672103881836,
          7.553160667419434,
          -12.670912742614746,
          3.6946699619293213,
          -11.821059226989746,
          -6.421104431152344,
          -11.440226554870605,
          8.051278114318848,
          8.109925270080566,
          5.174107074737549,
          -16.6337947845459,
          3.468198776245117,
          -4.502252578735352,
          -4.843792915344238,
          11.146571159362793,
          2.329143524169922,
          8.650025367736816,
          -4.794031620025635,
          12.280673027038574,
          -8.985822677612305,
          -10.888800621032715,
          0.2220897227525711,
          -14.366484642028809,
          4.852103233337402,
          -6.368515968322754,
          -9.725135803222656,
          -0.3398420810699463,
          -7.062859058380127,
          -5.0311384201049805,
          -8.207554817199707,
          -17.915376663208008,
          12.163652420043945,
          -2.706753730773926,
          5.828676223754883,
          11.382286071777344,
          11.419723510742188,
          6.663852214813232,
          0.08260545879602432,
          10.652962684631348,
          -12.618916511535645,
          -7.312320709228516,
          6.246685028076172,
          11.041041374206543,
          10.469667434692383,
          8.836846351623535,
          13.932913780212402,
          -13.7286376953125,
          9.516275405883789,
          12.394183158874512,
          -0.49998289346694946,
          11.131746292114258,
          -11.733538627624512,
          5.05986213684082,
          -10.741305351257324,
          -11.253588676452637,
          -13.16502857208252,
          4.494500637054443,
          -11.692268371582031,
          -8.471331596374512,
          0.30688145756721497,
          -1.1924421787261963,
          8.057016372680664,
          9.744179725646973,
          5.10310697555542,
          -2.056389808654785,
          -1.0105901956558228,
          7.144583702087402,
          1.308911681175232,
          -10.856497764587402,
          -3.1830365657806396,
          10.784491539001465,
          0.08955603837966919,
          -11.19896411895752,
          1.1807223558425903,
          -5.221872806549072,
          14.09818172454834,
          5.520100116729736,
          -13.519067764282227,
          4.730444431304932,
          11.283390998840332,
          -16.474498748779297,
          1.1679399013519287,
          -2.284547805786133,
          -2.2089669704437256,
          4.506948947906494,
          1.181642770767212,
          -10.133623123168945,
          8.397859573364258,
          -6.815396785736084,
          11.137968063354492,
          -1.5783480405807495,
          -4.23574161529541,
          1.123703122138977,
          0.2823117673397064,
          -10.980159759521484,
          5.977710247039795,
          3.513676881790161,
          10.793437957763672,
          -1.8545894622802734,
          7.086338996887207,
          2.447277307510376,
          13.21022891998291,
          0.8174265623092651,
          1.2329751253128052,
          1.1366307735443115,
          7.5450921058654785,
          -0.35967397689819336,
          4.738461017608643,
          7.430193901062012,
          -8.130709648132324,
          -10.025030136108398,
          -12.358428001403809,
          -2.7649621963500977,
          4.415428638458252,
          5.368358135223389,
          6.974178314208984,
          4.847630023956299,
          -2.244926691055298,
          8.296778678894043,
          1.8724678754806519,
          -7.980226993560791,
          -6.338235855102539,
          -4.660669326782227,
          6.2395734786987305,
          -3.7205493450164795,
          -13.723594665527344,
          -6.330020904541016,
          -1.780107021331787,
          -7.590926647186279,
          -0.5139314532279968,
          7.002364635467529,
          1.9963761568069458,
          6.453311443328857,
          6.0058369636535645,
          0.6987504959106445,
          0.8650251626968384,
          -1.7874763011932373,
          -7.468125820159912,
          -0.781831681728363,
          -2.288045644760132,
          -2.3661279678344727,
          -12.629061698913574,
          -10.809659957885742,
          1.2863705158233643,
          -4.799991130828857,
          7.0260467529296875,
          1.8087152242660522,
          -5.4334540367126465,
          -9.12192153930664,
          -1.0395288467407227,
          8.352855682373047,
          -6.110321044921875,
          4.277234077453613,
          -10.200257301330566,
          -2.483062505722046,
          6.792255878448486,
          -8.541805267333984,
          3.6504967212677,
          7.815637588500977,
          3.577064275741577,
          5.599749565124512,
          0.6661226749420166,
          -8.491423606872559,
          -3.1628103256225586,
          0.34191760420799255,
          -0.0045225536450743675,
          -9.399642944335938,
          -1.0737215280532837,
          -1.6329392194747925,
          5.782779216766357,
          -12.71752643585205,
          -6.9209394454956055,
          -13.444406509399414,
          1.6043288707733154,
          6.250901699066162,
          -0.335852712392807,
          -8.442522048950195,
          -1.0420247316360474,
          -8.666088104248047,
          -2.6910059452056885,
          -2.249943494796753,
          5.149888515472412,
          6.5598225593566895,
          -1.310402512550354,
          3.8099472522735596,
          -2.220508098602295,
          -2.485625743865967,
          3.9682462215423584,
          -9.261604309082031,
          4.487250804901123,
          -9.046921730041504,
          0.28257349133491516,
          5.486738204956055,
          -5.450612545013428,
          -3.569401741027832,
          -2.1584713459014893,
          -0.7012867331504822,
          0.13054272532463074,
          8.398487091064453,
          5.923191070556641,
          -2.892068386077881,
          1.077484369277954,
          -8.29687213897705,
          8.659600257873535,
          0.32134464383125305,
          -8.560927391052246,
          2.6863253116607666,
          9.997796058654785,
          6.835602283477783,
          -5.145020961761475,
          -6.80694580078125,
          3.594332218170166,
          6.732658386230469,
          -9.927912712097168,
          -7.4034647941589355,
          0.3473926782608032,
          1.8277629613876343,
          3.361212730407715,
          -7.112137317657471,
          -2.726471185684204,
          -8.088761329650879,
          -5.156224250793457,
          3.1952738761901855,
          1.22901451587677,
          11.3399076461792,
          -10.713911056518555,
          12.717309951782227,
          4.577106475830078,
          -4.266351699829102,
          0.9892702102661133,
          -1.5557191371917725,
          -1.3116594552993774,
          -14.718706130981445,
          0.5695682168006897,
          1.386505126953125,
          6.848491191864014,
          -8.488140106201172,
          11.298933982849121,
          7.345480442047119,
          -12.308526992797852,
          -8.170434951782227,
          -7.602352619171143,
          -8.874290466308594,
          13.168120384216309,
          -2.562131643295288,
          0.4412516951560974,
          -11.534998893737793,
          5.802950859069824,
          -1.2892009019851685,
          -5.703917980194092,
          -6.309756278991699,
          2.660623788833618,
          -12.807090759277344,
          8.475120544433594,
          11.083209991455078,
          2.422729015350342,
          13.323850631713867,
          -10.077498435974121,
          8.663235664367676,
          4.157108783721924,
          5.1524739265441895,
          -12.638081550598145,
          -17.277881622314453,
          -1.6059635877609253,
          -8.200279235839844,
          -2.117936134338379,
          10.866859436035156,
          11.94830322265625,
          -6.623970031738281,
          7.086567401885986,
          -8.559412956237793,
          6.503699779510498,
          13.339278221130371,
          0.6855159401893616,
          8.811637878417969,
          -9.970190048217773,
          -10.12310791015625,
          -2.291232109069824,
          1.4121299982070923,
          11.669790267944336,
          -0.6810099482536316,
          -10.06580924987793,
          -14.204977989196777,
          3.6922383308410645,
          -8.472419738769531,
          2.7091422080993652,
          -9.999173164367676,
          -2.6588351726531982,
          13.230019569396973,
          -11.454666137695312,
          5.715333461761475,
          7.061834812164307,
          -13.957910537719727,
          8.239885330200195,
          -0.2914898097515106,
          -11.326194763183594,
          3.1222448348999023,
          -0.594635009765625,
          8.187851905822754,
          -10.859521865844727,
          -8.985153198242188,
          -0.9077743291854858,
          -8.934391021728516,
          3.221768379211426,
          -17.48919677734375,
          11.334075927734375,
          0.23120243847370148,
          10.929421424865723,
          -4.133639812469482,
          -10.181187629699707,
          6.362239837646484,
          -7.7975921630859375,
          4.3608856201171875,
          7.228302478790283,
          11.349928855895996,
          2.3230643272399902,
          -6.870328903198242,
          5.938073635101318,
          10.082300186157227,
          2.4628024101257324,
          6.13385534286499,
          0.2101924866437912,
          -17.129247665405273,
          -6.28026819229126,
          -2.5292279720306396,
          2.700639247894287,
          -10.608253479003906,
          11.23779582977295,
          -1.9382327795028687,
          0.2535920739173889,
          4.197791576385498,
          1.061566710472107,
          -4.125593185424805,
          9.11896800994873,
          -14.8256254196167,
          3.4321234226226807,
          2.796954393386841,
          -4.0488481521606445,
          10.489115715026855,
          -12.724781036376953,
          -10.45657730102539,
          7.03865385055542,
          -16.25823974609375,
          14.181975364685059,
          12.335947036743164,
          0.9695735573768616,
          10.654485702514648,
          5.427610397338867,
          1.2288347482681274,
          14.030913352966309,
          -5.456173896789551,
          5.2920074462890625,
          -5.030600070953369,
          7.806433200836182,
          -9.592227935791016,
          -4.562125205993652,
          1.6093666553497314,
          4.533920764923096,
          -2.8434958457946777,
          1.5159331560134888,
          10.42502212524414,
          6.6641435623168945,
          9.894654273986816,
          2.655194044113159,
          2.637308359146118,
          3.421644687652588,
          3.7497715950012207,
          -2.398738384246826,
          -7.064820766448975,
          8.290992736816406,
          11.997178077697754,
          -12.0639066696167,
          -12.862168312072754,
          -1.3253662586212158,
          -4.350185871124268,
          -10.291259765625,
          -2.663449764251709,
          -3.596656560897827,
          8.59289836883545,
          -15.629082679748535,
          -8.235815048217773,
          5.153960704803467,
          1.191252589225769,
          13.012779235839844,
          -11.02806282043457,
          0.8557837605476379,
          -11.415899276733398,
          6.224885940551758,
          3.8463618755340576,
          -10.075117111206055,
          -9.141801834106445,
          -11.60360336303711,
          -0.37322762608528137,
          -12.907639503479004,
          3.8735897541046143,
          -4.119842052459717,
          0.8418498039245605,
          5.025885581970215,
          1.4380391836166382,
          9.932825088500977,
          11.256418228149414,
          -2.3320305347442627,
          7.806840896606445,
          -4.023636817932129,
          3.705533981323242,
          -0.5568177103996277,
          -8.927401542663574,
          1.9801671504974365,
          -3.7174978256225586,
          -3.067518711090088,
          8.938475608825684,
          -2.4644010066986084,
          10.998193740844727,
          -4.575348854064941,
          -2.3348336219787598,
          -2.4271175861358643,
          -4.124515056610107,
          -8.085474967956543,
          -12.722074508666992,
          4.479259490966797,
          12.644831657409668,
          2.6832103729248047,
          0.07692139595746994,
          3.7697501182556152,
          -10.503417015075684,
          -7.9467597007751465,
          5.797399044036865,
          -13.939401626586914,
          -5.438827037811279,
          6.8703999519348145,
          -2.457700729370117,
          2.685511589050293,
          6.57122278213501,
          8.170337677001953,
          -15.619415283203125,
          -1.0259819030761719,
          -4.225292205810547,
          1.6831954717636108,
          5.2447638511657715,
          0.05610252544283867,
          12.847970008850098,
          -5.8299384117126465,
          6.926690578460693,
          -3.6360936164855957,
          -3.365621328353882,
          2.4873135089874268,
          -0.5671478509902954,
          5.153080463409424,
          3.4787325859069824,
          0.7217870950698853,
          -0.4708300232887268,
          -14.019431114196777,
          -2.442676067352295,
          1.579575538635254,
          -18.40635108947754,
          1.857184886932373,
          1.3674126863479614,
          3.9991743564605713,
          6.955101490020752,
          -10.066474914550781,
          8.905158042907715,
          3.661665201187134,
          8.931340217590332,
          -9.72940444946289,
          1.9631849527359009,
          6.326999187469482,
          -9.80704402923584,
          -12.155000686645508,
          -9.667460441589355,
          -4.266764163970947,
          -6.734677314758301,
          6.755874156951904,
          4.357303619384766,
          -0.697780966758728,
          0.038905028253793716,
          -0.2030177265405655,
          9.726116180419922,
          6.8063459396362305,
          5.957594394683838,
          1.0186874866485596,
          3.4298486709594727,
          -3.175652503967285,
          6.178340435028076,
          4.056830406188965,
          0.2857697010040283,
          10.743914604187012,
          -3.489119529724121,
          3.3128068447113037,
          5.128592014312744,
          13.032442092895508,
          -8.118692398071289,
          -1.9761594533920288,
          -1.0967096090316772,
          -7.210346698760986,
          1.9383580684661865,
          -2.597301959991455,
          6.0802531242370605,
          -4.023342132568359,
          -0.035225048661231995,
          -7.312752723693848,
          -5.351870059967041,
          -2.6331679821014404,
          -10.165346145629883,
          -6.767983913421631,
          -0.8299857378005981,
          4.926716327667236,
          11.685057640075684,
          3.545891761779785,
          -3.2722792625427246,
          2.9716696739196777,
          1.9501333236694336,
          -14.727863311767578,
          10.106769561767578,
          -12.206225395202637,
          -9.932602882385254,
          -7.357800006866455,
          -0.5232139825820923,
          -10.161739349365234,
          4.002338409423828,
          -3.179452657699585,
          5.701269626617432,
          -1.277956247329712,
          1.2369517087936401,
          7.386457920074463,
          4.150886058807373,
          11.121068000793457,
          6.7876296043396,
          13.1087007522583,
          -7.060398578643799,
          -14.035611152648926,
          11.137369155883789,
          8.990565299987793,
          2.6445374488830566,
          4.0777482986450195,
          12.711028099060059,
          -9.979828834533691,
          -8.631708145141602,
          9.608003616333008,
          3.6737890243530273,
          6.7017741203308105,
          -12.232636451721191,
          4.2205810546875,
          -5.365644931793213,
          -0.8990595936775208,
          7.9707136154174805,
          5.18908166885376,
          2.7014925479888916,
          5.926777362823486,
          -6.00724983215332,
          6.519266128540039,
          -0.7380772233009338,
          0.3898235857486725,
          -14.080020904541016,
          6.1471781730651855,
          -4.318784236907959,
          0.7609705328941345,
          3.9106698036193848,
          2.4804511070251465,
          -1.3400105237960815,
          11.36445426940918,
          -6.9305853843688965,
          -8.659273147583008,
          -7.709667682647705,
          8.7428560256958,
          -1.0046049356460571,
          2.094301700592041,
          -6.381066799163818,
          -10.686805725097656,
          3.9694197177886963,
          -8.687743186950684,
          -8.747740745544434,
          5.762731075286865,
          3.8080363273620605,
          -7.91699743270874,
          5.609530925750732,
          -1.0557482242584229,
          -8.639002799987793,
          4.0132856369018555,
          8.936978340148926,
          -15.256866455078125,
          13.403617858886719,
          -5.839910984039307,
          3.5453784465789795,
          11.918758392333984,
          3.304574966430664,
          4.075325012207031,
          6.462109565734863,
          4.9603271484375,
          9.517746925354004,
          5.848459243774414,
          12.132909774780273,
          4.006436824798584,
          2.6237332820892334,
          0.8120461106300354,
          6.406622886657715,
          -1.271837592124939,
          -10.885939598083496,
          -2.0568621158599854,
          1.6561872959136963,
          -11.770052909851074,
          2.4043033123016357,
          -4.619842529296875,
          2.036271810531616,
          -11.161747932434082,
          3.1093451976776123,
          0.8568099737167358,
          7.044719219207764,
          -12.253792762756348,
          1.8916020393371582,
          6.797708034515381,
          -13.94076156616211,
          -2.7107601165771484,
          -7.755398750305176,
          -18.73283576965332,
          0.6189900636672974,
          -9.957670211791992,
          -13.942743301391602,
          9.809001922607422,
          -7.226705551147461,
          7.683990478515625,
          -6.620758056640625,
          0.7933916449546814,
          3.279726505279541,
          -12.91639232635498,
          -15.30644702911377,
          -8.856160163879395,
          7.6525726318359375,
          -11.971813201904297,
          -12.302820205688477,
          -8.802787780761719,
          -19.63412857055664,
          -7.845686435699463,
          1.0808697938919067,
          7.900240421295166,
          5.805301666259766,
          11.641993522644043,
          -11.268901824951172,
          2.1166892051696777,
          0.7473668456077576,
          9.723604202270508,
          -8.7124605178833,
          6.802889823913574,
          -17.5905704498291,
          9.458383560180664,
          1.7527436017990112,
          7.721861839294434,
          -11.614169120788574,
          7.608026504516602,
          3.6785736083984375,
          13.633906364440918,
          -1.882902979850769,
          -1.434518575668335,
          11.803030967712402,
          -18.886016845703125,
          -15.051839828491211,
          -11.263018608093262,
          2.98185396194458,
          8.686020851135254,
          -16.785173416137695,
          -12.023385047912598,
          12.30371379852295,
          -5.768736362457275,
          -11.930278778076172,
          -1.6204793453216553,
          4.332016468048096,
          7.182006359100342,
          11.22636604309082,
          -14.2192964553833,
          10.270309448242188,
          -6.263407230377197,
          -15.724597930908203,
          -3.9514667987823486,
          8.081013679504395,
          -4.16407585144043,
          -16.708467483520508,
          4.463107585906982,
          7.150818347930908,
          0.6906726360321045,
          -11.501629829406738,
          4.9402971267700195,
          -1.4757914543151855,
          10.044881820678711,
          1.3063480854034424,
          6.373903274536133,
          -1.6666170358657837,
          7.383561611175537,
          5.779036045074463,
          6.591677188873291,
          5.645092964172363,
          -8.049857139587402,
          -8.802804946899414,
          -7.414282321929932,
          -8.809141159057617,
          0.27056506276130676,
          8.635209083557129,
          -2.0116770267486572,
          2.0523648262023926,
          -2.1118404865264893,
          -4.713947772979736,
          -3.1144492626190186,
          -5.306607723236084,
          -3.474961280822754,
          10.374136924743652,
          5.000650882720947,
          12.288293838500977,
          -0.19444069266319275,
          2.493004322052002,
          4.863922595977783,
          -4.716913223266602,
          3.941854953765869,
          6.98131799697876,
          -13.863759994506836,
          -12.859342575073242,
          -0.769175112247467,
          3.175396203994751,
          -8.48782730102539,
          2.065584897994995,
          -2.5820538997650146,
          -11.669418334960938,
          0.8424367904663086,
          -2.554300308227539,
          7.207516670227051,
          2.6004323959350586,
          -11.987201690673828,
          -2.8465158939361572,
          6.901213645935059,
          9.08580207824707,
          -0.7380236983299255,
          2.126598596572876,
          -13.340981483459473,
          10.623355865478516,
          -2.8301124572753906,
          -3.5763652324676514,
          7.842952728271484,
          -14.446823120117188,
          9.376753807067871,
          -1.6045094728469849,
          -10.078925132751465,
          -4.263738632202148,
          -8.348482131958008,
          -10.069499969482422,
          -14.668660163879395,
          12.959770202636719,
          7.7595438957214355,
          -10.731451988220215,
          1.5496500730514526,
          9.09271240234375,
          5.17918586730957,
          -15.860113143920898,
          2.337848424911499,
          1.9085216522216797,
          -4.881944179534912,
          6.45885705947876,
          2.3034467697143555,
          9.319547653198242,
          -9.245856285095215,
          -16.42839241027832,
          -11.80495548248291,
          4.950616836547852,
          9.214402198791504,
          -15.762068748474121,
          -2.6475565433502197,
          8.419251441955566,
          -3.4643354415893555,
          -4.850396156311035,
          6.37656831741333,
          -16.080318450927734,
          11.587669372558594,
          -14.700993537902832,
          -6.332202434539795,
          -3.2853939533233643,
          9.859782218933105,
          -12.124996185302734,
          -3.7184739112854004,
          -5.98217248916626,
          1.6838287115097046,
          4.000821590423584,
          6.570887565612793,
          6.681678295135498,
          7.743210315704346,
          -13.249377250671387,
          -0.844447135925293,
          -15.333622932434082,
          -1.7395540475845337,
          3.3895480632781982,
          8.94505500793457,
          1.1844301223754883,
          -13.262617111206055,
          6.305492401123047,
          -0.889121949672699,
          9.53201961517334,
          0.1764523684978485,
          0.5452578663825989,
          -7.017250061035156,
          -11.272442817687988,
          -9.135522842407227,
          8.268179893493652,
          5.957422733306885,
          6.590274810791016,
          2.2920844554901123,
          1.4077808856964111,
          10.719433784484863,
          5.429373741149902,
          2.361516237258911,
          2.436563491821289,
          1.168300986289978,
          12.498175621032715,
          -7.097591400146484,
          2.656886339187622,
          11.495528221130371,
          3.017991542816162,
          4.950227737426758,
          -9.454048156738281,
          7.794858932495117,
          -9.63636589050293,
          -8.732437133789062,
          -13.740507125854492,
          -12.590927124023438,
          4.319201946258545,
          15.435051918029785,
          -17.160282135009766,
          14.88918685913086,
          -18.232494354248047,
          -2.1037003993988037,
          2.724733591079712,
          -2.829740047454834,
          12.858221054077148,
          -2.175447702407837,
          6.23806095123291,
          -17.866729736328125,
          11.627059936523438,
          1.1680591106414795,
          -3.652984380722046,
          8.64509391784668,
          8.556427955627441,
          -15.307794570922852,
          12.599615097045898,
          8.233654975891113,
          -2.9009222984313965,
          3.650820255279541,
          -0.8270360827445984,
          2.880524158477783,
          8.820244789123535,
          9.197898864746094,
          -19.305776596069336,
          -14.430036544799805,
          -19.676698684692383,
          1.5059356689453125,
          -0.4518802762031555,
          10.412871360778809,
          9.509293556213379,
          11.818449974060059,
          7.745352268218994,
          11.28248119354248,
          6.859319686889648,
          10.471814155578613
         ]
        }
       ],
       "layout": {
        "coloraxis": {
         "colorbar": {
          "title": {
           "text": "color"
          }
         },
         "colorscale": [
          [
           0,
           "#0d0887"
          ],
          [
           0.1111111111111111,
           "#46039f"
          ],
          [
           0.2222222222222222,
           "#7201a8"
          ],
          [
           0.3333333333333333,
           "#9c179e"
          ],
          [
           0.4444444444444444,
           "#bd3786"
          ],
          [
           0.5555555555555556,
           "#d8576b"
          ],
          [
           0.6666666666666666,
           "#ed7953"
          ],
          [
           0.7777777777777778,
           "#fb9f3a"
          ],
          [
           0.8888888888888888,
           "#fdca26"
          ],
          [
           1,
           "#f0f921"
          ]
         ]
        },
        "legend": {
         "tracegroupgap": 0
        },
        "margin": {
         "t": 60
        },
        "scene": {
         "domain": {
          "x": [
           0,
           1
          ],
          "y": [
           0,
           1
          ]
         },
         "xaxis": {
          "title": {
           "text": "pc_1"
          }
         },
         "yaxis": {
          "title": {
           "text": "pc_2"
          }
         },
         "zaxis": {
          "title": {
           "text": "pc_3"
          }
         }
        },
        "template": {
         "data": {
          "bar": [
           {
            "error_x": {
             "color": "#2a3f5f"
            },
            "error_y": {
             "color": "#2a3f5f"
            },
            "marker": {
             "line": {
              "color": "#E5ECF6",
              "width": 0.5
             }
            },
            "type": "bar"
           }
          ],
          "barpolar": [
           {
            "marker": {
             "line": {
              "color": "#E5ECF6",
              "width": 0.5
             }
            },
            "type": "barpolar"
           }
          ],
          "carpet": [
           {
            "aaxis": {
             "endlinecolor": "#2a3f5f",
             "gridcolor": "white",
             "linecolor": "white",
             "minorgridcolor": "white",
             "startlinecolor": "#2a3f5f"
            },
            "baxis": {
             "endlinecolor": "#2a3f5f",
             "gridcolor": "white",
             "linecolor": "white",
             "minorgridcolor": "white",
             "startlinecolor": "#2a3f5f"
            },
            "type": "carpet"
           }
          ],
          "choropleth": [
           {
            "colorbar": {
             "outlinewidth": 0,
             "ticks": ""
            },
            "type": "choropleth"
           }
          ],
          "contour": [
           {
            "colorbar": {
             "outlinewidth": 0,
             "ticks": ""
            },
            "colorscale": [
             [
              0,
              "#0d0887"
             ],
             [
              0.1111111111111111,
              "#46039f"
             ],
             [
              0.2222222222222222,
              "#7201a8"
             ],
             [
              0.3333333333333333,
              "#9c179e"
             ],
             [
              0.4444444444444444,
              "#bd3786"
             ],
             [
              0.5555555555555556,
              "#d8576b"
             ],
             [
              0.6666666666666666,
              "#ed7953"
             ],
             [
              0.7777777777777778,
              "#fb9f3a"
             ],
             [
              0.8888888888888888,
              "#fdca26"
             ],
             [
              1,
              "#f0f921"
             ]
            ],
            "type": "contour"
           }
          ],
          "contourcarpet": [
           {
            "colorbar": {
             "outlinewidth": 0,
             "ticks": ""
            },
            "type": "contourcarpet"
           }
          ],
          "heatmap": [
           {
            "colorbar": {
             "outlinewidth": 0,
             "ticks": ""
            },
            "colorscale": [
             [
              0,
              "#0d0887"
             ],
             [
              0.1111111111111111,
              "#46039f"
             ],
             [
              0.2222222222222222,
              "#7201a8"
             ],
             [
              0.3333333333333333,
              "#9c179e"
             ],
             [
              0.4444444444444444,
              "#bd3786"
             ],
             [
              0.5555555555555556,
              "#d8576b"
             ],
             [
              0.6666666666666666,
              "#ed7953"
             ],
             [
              0.7777777777777778,
              "#fb9f3a"
             ],
             [
              0.8888888888888888,
              "#fdca26"
             ],
             [
              1,
              "#f0f921"
             ]
            ],
            "type": "heatmap"
           }
          ],
          "heatmapgl": [
           {
            "colorbar": {
             "outlinewidth": 0,
             "ticks": ""
            },
            "colorscale": [
             [
              0,
              "#0d0887"
             ],
             [
              0.1111111111111111,
              "#46039f"
             ],
             [
              0.2222222222222222,
              "#7201a8"
             ],
             [
              0.3333333333333333,
              "#9c179e"
             ],
             [
              0.4444444444444444,
              "#bd3786"
             ],
             [
              0.5555555555555556,
              "#d8576b"
             ],
             [
              0.6666666666666666,
              "#ed7953"
             ],
             [
              0.7777777777777778,
              "#fb9f3a"
             ],
             [
              0.8888888888888888,
              "#fdca26"
             ],
             [
              1,
              "#f0f921"
             ]
            ],
            "type": "heatmapgl"
           }
          ],
          "histogram": [
           {
            "marker": {
             "colorbar": {
              "outlinewidth": 0,
              "ticks": ""
             }
            },
            "type": "histogram"
           }
          ],
          "histogram2d": [
           {
            "colorbar": {
             "outlinewidth": 0,
             "ticks": ""
            },
            "colorscale": [
             [
              0,
              "#0d0887"
             ],
             [
              0.1111111111111111,
              "#46039f"
             ],
             [
              0.2222222222222222,
              "#7201a8"
             ],
             [
              0.3333333333333333,
              "#9c179e"
             ],
             [
              0.4444444444444444,
              "#bd3786"
             ],
             [
              0.5555555555555556,
              "#d8576b"
             ],
             [
              0.6666666666666666,
              "#ed7953"
             ],
             [
              0.7777777777777778,
              "#fb9f3a"
             ],
             [
              0.8888888888888888,
              "#fdca26"
             ],
             [
              1,
              "#f0f921"
             ]
            ],
            "type": "histogram2d"
           }
          ],
          "histogram2dcontour": [
           {
            "colorbar": {
             "outlinewidth": 0,
             "ticks": ""
            },
            "colorscale": [
             [
              0,
              "#0d0887"
             ],
             [
              0.1111111111111111,
              "#46039f"
             ],
             [
              0.2222222222222222,
              "#7201a8"
             ],
             [
              0.3333333333333333,
              "#9c179e"
             ],
             [
              0.4444444444444444,
              "#bd3786"
             ],
             [
              0.5555555555555556,
              "#d8576b"
             ],
             [
              0.6666666666666666,
              "#ed7953"
             ],
             [
              0.7777777777777778,
              "#fb9f3a"
             ],
             [
              0.8888888888888888,
              "#fdca26"
             ],
             [
              1,
              "#f0f921"
             ]
            ],
            "type": "histogram2dcontour"
           }
          ],
          "mesh3d": [
           {
            "colorbar": {
             "outlinewidth": 0,
             "ticks": ""
            },
            "type": "mesh3d"
           }
          ],
          "parcoords": [
           {
            "line": {
             "colorbar": {
              "outlinewidth": 0,
              "ticks": ""
             }
            },
            "type": "parcoords"
           }
          ],
          "pie": [
           {
            "automargin": true,
            "type": "pie"
           }
          ],
          "scatter": [
           {
            "marker": {
             "colorbar": {
              "outlinewidth": 0,
              "ticks": ""
             }
            },
            "type": "scatter"
           }
          ],
          "scatter3d": [
           {
            "line": {
             "colorbar": {
              "outlinewidth": 0,
              "ticks": ""
             }
            },
            "marker": {
             "colorbar": {
              "outlinewidth": 0,
              "ticks": ""
             }
            },
            "type": "scatter3d"
           }
          ],
          "scattercarpet": [
           {
            "marker": {
             "colorbar": {
              "outlinewidth": 0,
              "ticks": ""
             }
            },
            "type": "scattercarpet"
           }
          ],
          "scattergeo": [
           {
            "marker": {
             "colorbar": {
              "outlinewidth": 0,
              "ticks": ""
             }
            },
            "type": "scattergeo"
           }
          ],
          "scattergl": [
           {
            "marker": {
             "colorbar": {
              "outlinewidth": 0,
              "ticks": ""
             }
            },
            "type": "scattergl"
           }
          ],
          "scattermapbox": [
           {
            "marker": {
             "colorbar": {
              "outlinewidth": 0,
              "ticks": ""
             }
            },
            "type": "scattermapbox"
           }
          ],
          "scatterpolar": [
           {
            "marker": {
             "colorbar": {
              "outlinewidth": 0,
              "ticks": ""
             }
            },
            "type": "scatterpolar"
           }
          ],
          "scatterpolargl": [
           {
            "marker": {
             "colorbar": {
              "outlinewidth": 0,
              "ticks": ""
             }
            },
            "type": "scatterpolargl"
           }
          ],
          "scatterternary": [
           {
            "marker": {
             "colorbar": {
              "outlinewidth": 0,
              "ticks": ""
             }
            },
            "type": "scatterternary"
           }
          ],
          "surface": [
           {
            "colorbar": {
             "outlinewidth": 0,
             "ticks": ""
            },
            "colorscale": [
             [
              0,
              "#0d0887"
             ],
             [
              0.1111111111111111,
              "#46039f"
             ],
             [
              0.2222222222222222,
              "#7201a8"
             ],
             [
              0.3333333333333333,
              "#9c179e"
             ],
             [
              0.4444444444444444,
              "#bd3786"
             ],
             [
              0.5555555555555556,
              "#d8576b"
             ],
             [
              0.6666666666666666,
              "#ed7953"
             ],
             [
              0.7777777777777778,
              "#fb9f3a"
             ],
             [
              0.8888888888888888,
              "#fdca26"
             ],
             [
              1,
              "#f0f921"
             ]
            ],
            "type": "surface"
           }
          ],
          "table": [
           {
            "cells": {
             "fill": {
              "color": "#EBF0F8"
             },
             "line": {
              "color": "white"
             }
            },
            "header": {
             "fill": {
              "color": "#C8D4E3"
             },
             "line": {
              "color": "white"
             }
            },
            "type": "table"
           }
          ]
         },
         "layout": {
          "annotationdefaults": {
           "arrowcolor": "#2a3f5f",
           "arrowhead": 0,
           "arrowwidth": 1
          },
          "coloraxis": {
           "colorbar": {
            "outlinewidth": 0,
            "ticks": ""
           }
          },
          "colorscale": {
           "diverging": [
            [
             0,
             "#8e0152"
            ],
            [
             0.1,
             "#c51b7d"
            ],
            [
             0.2,
             "#de77ae"
            ],
            [
             0.3,
             "#f1b6da"
            ],
            [
             0.4,
             "#fde0ef"
            ],
            [
             0.5,
             "#f7f7f7"
            ],
            [
             0.6,
             "#e6f5d0"
            ],
            [
             0.7,
             "#b8e186"
            ],
            [
             0.8,
             "#7fbc41"
            ],
            [
             0.9,
             "#4d9221"
            ],
            [
             1,
             "#276419"
            ]
           ],
           "sequential": [
            [
             0,
             "#0d0887"
            ],
            [
             0.1111111111111111,
             "#46039f"
            ],
            [
             0.2222222222222222,
             "#7201a8"
            ],
            [
             0.3333333333333333,
             "#9c179e"
            ],
            [
             0.4444444444444444,
             "#bd3786"
            ],
            [
             0.5555555555555556,
             "#d8576b"
            ],
            [
             0.6666666666666666,
             "#ed7953"
            ],
            [
             0.7777777777777778,
             "#fb9f3a"
            ],
            [
             0.8888888888888888,
             "#fdca26"
            ],
            [
             1,
             "#f0f921"
            ]
           ],
           "sequentialminus": [
            [
             0,
             "#0d0887"
            ],
            [
             0.1111111111111111,
             "#46039f"
            ],
            [
             0.2222222222222222,
             "#7201a8"
            ],
            [
             0.3333333333333333,
             "#9c179e"
            ],
            [
             0.4444444444444444,
             "#bd3786"
            ],
            [
             0.5555555555555556,
             "#d8576b"
            ],
            [
             0.6666666666666666,
             "#ed7953"
            ],
            [
             0.7777777777777778,
             "#fb9f3a"
            ],
            [
             0.8888888888888888,
             "#fdca26"
            ],
            [
             1,
             "#f0f921"
            ]
           ]
          },
          "colorway": [
           "#636efa",
           "#EF553B",
           "#00cc96",
           "#ab63fa",
           "#FFA15A",
           "#19d3f3",
           "#FF6692",
           "#B6E880",
           "#FF97FF",
           "#FECB52"
          ],
          "font": {
           "color": "#2a3f5f"
          },
          "geo": {
           "bgcolor": "white",
           "lakecolor": "white",
           "landcolor": "#E5ECF6",
           "showlakes": true,
           "showland": true,
           "subunitcolor": "white"
          },
          "hoverlabel": {
           "align": "left"
          },
          "hovermode": "closest",
          "mapbox": {
           "style": "light"
          },
          "paper_bgcolor": "white",
          "plot_bgcolor": "#E5ECF6",
          "polar": {
           "angularaxis": {
            "gridcolor": "white",
            "linecolor": "white",
            "ticks": ""
           },
           "bgcolor": "#E5ECF6",
           "radialaxis": {
            "gridcolor": "white",
            "linecolor": "white",
            "ticks": ""
           }
          },
          "scene": {
           "xaxis": {
            "backgroundcolor": "#E5ECF6",
            "gridcolor": "white",
            "gridwidth": 2,
            "linecolor": "white",
            "showbackground": true,
            "ticks": "",
            "zerolinecolor": "white"
           },
           "yaxis": {
            "backgroundcolor": "#E5ECF6",
            "gridcolor": "white",
            "gridwidth": 2,
            "linecolor": "white",
            "showbackground": true,
            "ticks": "",
            "zerolinecolor": "white"
           },
           "zaxis": {
            "backgroundcolor": "#E5ECF6",
            "gridcolor": "white",
            "gridwidth": 2,
            "linecolor": "white",
            "showbackground": true,
            "ticks": "",
            "zerolinecolor": "white"
           }
          },
          "shapedefaults": {
           "line": {
            "color": "#2a3f5f"
           }
          },
          "ternary": {
           "aaxis": {
            "gridcolor": "white",
            "linecolor": "white",
            "ticks": ""
           },
           "baxis": {
            "gridcolor": "white",
            "linecolor": "white",
            "ticks": ""
           },
           "bgcolor": "#E5ECF6",
           "caxis": {
            "gridcolor": "white",
            "linecolor": "white",
            "ticks": ""
           }
          },
          "title": {
           "x": 0.05
          },
          "xaxis": {
           "automargin": true,
           "gridcolor": "white",
           "linecolor": "white",
           "ticks": "",
           "title": {
            "standoff": 15
           },
           "zerolinecolor": "white",
           "zerolinewidth": 2
          },
          "yaxis": {
           "automargin": true,
           "gridcolor": "white",
           "linecolor": "white",
           "ticks": "",
           "title": {
            "standoff": 15
           },
           "zerolinecolor": "white",
           "zerolinewidth": 2
          }
         }
        }
       }
      },
      "text/html": [
       "<div>                            <div id=\"2af6ea1c-7347-45f5-9c50-4618903d96be\" class=\"plotly-graph-div\" style=\"height:525px; width:100%;\"></div>            <script type=\"text/javascript\">                require([\"plotly\"], function(Plotly) {                    window.PLOTLYENV=window.PLOTLYENV || {};                                    if (document.getElementById(\"2af6ea1c-7347-45f5-9c50-4618903d96be\")) {                    Plotly.newPlot(                        \"2af6ea1c-7347-45f5-9c50-4618903d96be\",                        [{\"customdata\": [[\"what is a diabetic ?\"], [\"what is the leading cause of diabetes type two ?\"], [\"how many carbs should a type two diabetic have daily with blood sugar in the three hundred is ?\"], [\"who started the american diabetes association ?\"], [\"can you enter the service if you are a type two diabetic ?\"], [\"at what age can children get diabetes ?\"], [\"is nph insulin cloudy ?\"], [\"what are symptoms of type two diabetes ?\"], [\"can diabetes be <unk> down from your parents ?\"], [\"what research has been done on <unk> <unk> ?\"], [\"what are side effects from insulin ?\"], [\"who from the jonas brother has type one diabetes ?\"], [\"what are the symptoms of diabetic ulcers ?\"], [\"what is diabetes one ?\"], [\"what will happen if you take diabetic medication and you are not diabetic ?\"], [\"what can diabetics drink when dehydrated ?\"], [\"what do the test strips for diabetes test for ?\"], [\"what is the expected outcome for patients with type one and type two diabetes ?\"], [\"why polydipsia in diabetes type one ?\"], [\"abnormally low concentration of glucose in the blood ?\"], [\"the glucose molecule has a great deal of energy in its ?\"], [\"what are the conditions for giving glucose orally to the patient ?\"], [\"who needs to use a glucose monitor watch ?\"], [\"concerns with <unk> engineered insulin ?\"], [\"can children get diabeties ?\"], [\"where can i get free diabetes recipes ?\"], [\"what does insulin do for diabetics ?\"], [\"can you eat <unk> if you have diabetes ?\"], [\"diabetic drinks ?\"], [\"what are some good diabetic cheesecake recipes ?\"], [\"how can you tell sugar is removed from the blood ?\"], [\"easy diabetic desserts ?\"], [\"your blood sugar is running between one hundred and fifty and two hundred and thirty seven is that bad ?\"], [\"why should a diabetic patient take <unk> <unk> fifteen ?\"], [\"complications of diabetes ?\"], [\"why dont mix glargine with short acting insulin ?\"], [\"what are the medical and nutritional benefits of eating <unk> for diabetics ?\"], [\"what type of diabetes is hereditary ?\"], [\"which organ produces insulin ?\"], [\"what type of device can you use to check your blood sugar ?\"], [\"my doctor asked me if a patient of <unk> had diabetes . i said no just high blood pressure . he said that is diabetes . does having high blood pressure mean you have diabetes ?\"], [\"nursing <unk> exam model question <unk> for <unk> of health <unk> ?\"], [\"what is the risk of infection from hair replacement if you are diabetic ?\"], [\"the two types of diabetes ?\"], [\"can diabetics wear nail polish ?\"], [\"why do kids love sugar ?\"], [\"where can i find an online menu for diabetics ?\"], [\"what is a normal glucose level ?\"], [\"what is a good example of a diabetic meal ?\"], [\"can eating to much honey cause you to become diabetic ?\"], [\"what is the abnormally high concentration of glucose in the blood ?\"], [\"where can one find a diabetic cookie recipe book ?\"], [\"what are the nursing considerations before doing a random blood sugar test ?\"], [\"where should insulin be stored ?\"], [\"what should you do if you injected the wrong insulin ?\"], [\"how long do people with diabetes live for ?\"], [\"what type medicine helps pancres <unk> ?\"], [\"what is a good diet for an adult with gestational diabetes ?\"], [\"how does insulin help cure diabetes ?\"], [\"where can information on `` no sugar '' diets be found ?\"], [\"do you get diabetes if you get scared or any other kind of disease ?\"], [\"how does <unk> starts in a diabetic patient ?\"], [\"what kinds of food can diabetics not eat ?\"], [\"can an operation which left bruise and <unk> area in your skin rises your blood sugar ?\"], [\"what do people with diabetes suffer from ?\"], [\"does diabetes make your brain <unk> ?\"], [\"how does diabetes affect the level of glucose in the blood and in body cells ?\"], [\"is sugar apple good for diabetics ?\"], [\"how much <unk> do you give an adult pregnant patient having a one hour gestational diabetes screen ?\"], [\"does the diabetes diet work ?\"], [\"where can i find diabetic dessert recipes ?\"], [\"how do you treat diabetes ?\"], [\"is mango harmful for diabetics ?\"], [\"what drug may interfere with the body is ability to regulate its temperature and may cause <unk> ?\"], [\"how many people have diabetes in <unk> ?\"], [\"diabetes can you still take <unk> <unk> ?\"], [\"reduce the adverse effects of diabetes ?\"], [\"could not getting enough sun cause diabetes ?\"], [\"should someone with diabetes take <unk> ?\"], [\"can mental <unk> increase diabetes ?\"], [\"what happens if a non diabetic person takes high dose of insulin ?\"], [\"what companies offer free diabetic testing supplies ?\"], [\"diabetic fruity odor what to do ?\"], [\"how many grams of sugar are appropriate per day for the average teen ?\"], [\"can a diabetic person eat too many bananas ?\"], [\"you are a diabetic can you carry your insulin on board with you ?\"], [\"what is the best dry dog food for diabetic dogs ?\"], [\"can i find any online cookbooks for diabetics ?\"], [\"what is the best way to test diabetics at home ?\"], [\"does pot raise your blood sugar ?\"], [\"why does the amount of insulin injected need to be controlled ?\"], [\"what causes inflammation of organs ?\"], [\"is it tomato suitable food for diabetics ?\"], [\"does <unk> have diabetes ?\"], [\"is blood slightly acidic ?\"], [\"what is a normal blood sugar ?\"], [\"can a diabetic eat beans ?\"], [\"what s d meaning of dis <unk> ' a <unk> friend s a medicine of life ' ?\"], [\"which part of the endocrine system regulates blood glucose levels ?\"], [\"what is a good diabetes recipe ?\"], [\"can a diabetic eat <unk> potatoes ?\"], [\"explain the effect on blood sugar levels if insulin receptors stopped working ?\"], [\"can you drink sugar free drinks if you have diabetes ?\"], [\"what happens if you mix different brands of insulin such as novorapid and lantus ?\"], [\"what is a healthy diabetes breakfast option ?\"], [\"where can i obtain free list of dessert foods that are ok for diabetics ?\"], [\"why do all people do not take insulin periodically so that they do not get diabetes ?\"], [\"is it advisable for a person with diabetes and suffering from <unk> to fly on a plane ?\"], [\"what are diabetes effects on the body ?\"], [\"where can i find more information on diabetes diet plans ?\"], [\"how can someone with diabetes cope ?\"], [\"what are the <unk> for type two diabetes ?\"], [\"how does a diabetic neuropathy treatment affect the body ?\"], [\"juveniles diabetes foundation ?\"], [\"is there a cure four diabetes ?\"], [\"does diabetes cause emotional symptoms ?\"], [\"why do the diabetic patients have glucose in their urine ?\"], [\"would losing weight be a good thing to do when it comes diabetes ?\"], [\"how many times a day should a person with diabetes check there blood sugar levels ?\"], [\"what causes a bad taste in your mouth ?\"], [\"what are the types of <unk> disorder ?\"], [\"is there a connection between blood sugar and mood ?\"], [\"what is something sweet that a diabetic can eat ?\"], [\"what can be some problems that a female face having a partner with diabetes ?\"], [\"what are some signs and symptoms of diabetic ketoacidosis ?\"], [\"what are some <unk> nursing diagnosis for diabetes mellitus ?\"], [\"when should insulin be taken ?\"], [\"is centrum safe for diabetes mellitus type two patients ?\"], [\"can too much honey cause a drop in blood sugar level ?\"], [\"what are the early symptoms diabetes ?\"], [\"what is normal blood sugar in human body ?\"], [\"what are the best and effective diet for a diabetic people ?\"], [\"what can uncontrolled diabetes lead to ?\"], [\"what symptoms do horses have with diabetes ?\"], [\"what are some signs of low blood sugar ?\"], [\"which organs are affected when you have diabetes type one ?\"], [\"what occurs in the body with type ii diabetes ?\"], [\"where can i get a diabetic food list ?\"], [\"what are the functions of gonads ?\"], [\"use diagnosis in a sentence ?\"], [\"what are some meals that are safe for people with diabetes ?\"], [\"can someone with diabetes have alcohol breath ?\"], [\"what type of disease is diabetic nephropathy ?\"], [\"is a blood glucose level of four point three normal for a sixteen year old non-diabetic ?\"], [\"can taking drugs turn a type two into a type one ?\"], [\"where can you find more information about diabetic diets ?\"], [\"is insulin like a drug and if diabetes patients take this once then should they take it for lifetime ?\"], [\"can children die from diabetes ?\"], [\"how is diabetes mellitus diagnosed ?\"], [\"what types of treatment exist for type two diabetes ?\"], [\"can <unk> happen with diabetes mellitus ?\"], [\"what are the symptoms to diabetes insipidus ?\"], [\"can a man who has diabetes have children ?\"], [\"what are the medications associated with diabetes ?\"], [\"what effective diets are there for diabetics ?\"], [\"where can i purchase or copy the best menu for nutrition for diabetics ?\"], [\"where can i get diabetic neuropathy treatments ?\"], [\"what year did pure human insulin first become available for diabetics ?\"], [\"following a type two diabetes diet ?\"], [\"gestational age ?\"], [\"can body twitching be a sign of diabetes ?\"], [\"if you get headaches from low blood sugar does that mean you are a diabetic ?\"], [\"how do you get diabetes mellitus ?\"], [\"how many hours fasting before blood test ?\"], [\"diabetes mellitus is a hereditary disease or not ?\"], [\"should you see a doctor if you have diabetic neuropathy ?\"], [\"what is the treatment for type one diabetes ?\"], [\"what is some information on diabetes high blood sugar ?\"], [\"is it safe for someone without diabetes to follow a diabetics diet ?\"], [\"how long do women with type one diabetes live ?\"], [\"if you have diabetes will it affect your children ?\"], [\"do strawberries raise blood sugar levels ?\"], [\"what diet <unk> diabetes ?\"], [\"when you eat sugar does it turns int glucose which turns into fat ?\"], [\"how many <unk> are drawn for a three hour glucose tolerance test ?\"], [\"can diabetics drink scotch ?\"], [\"what could be the symptoms of diabetes ?\"], [\"what is the hormone involved in type one diabetes ?\"], [\"can a person blood sugar go over two hundred if they are not a diabetic ?\"], [\"what is three available treatments for diabetes ?\"], [\"what are the diabetes symptoms ?\"], [\"what makes a diabetic lower leg turn black ?\"], [\"what is the main cause of diabetes ?\"], [\"what foods to avoid when borderline diabetic ?\"], [\"what are the names of the two types of diabetes ?\"], [\"what is a glucometer used for ?\"], [\"where can you find information on diabetes nutrition ?\"], [\"what foods are on a reputable diabetic diet food list ?\"], [\"what is another name for type two diabetes ?\"], [\"what is the normal <unk> hormone test results for a <unk> woman ?\"], [\"what affects does crack have on diabetics ?\"], [\"is diabete hereditary ?\"], [\"is mango bad for diabetes ?\"], [\"where can one <unk> facts about diabetes ?\"], [\"what is a normal blood sugar range for fasting ?\"], [\"can a type two diabetic be a merchant marine ?\"], [\"does smoking raise blood sugar ?\"], [\"normal glucose level in urine ?\"], [\"a little bit longer ?\"], [\"where should i go when i see symptons related to diabetes ?\"], [\"do you like diabetes ?\"], [\"what is the suffix for a sugar ?\"], [\"a normal fasting glucose level is ?\"], [\"what is the target a1c according to the american diabetes association ?\"], [\"is there a way to detect a diabetes carrier ?\"], [\"how is technology used to diagnose or treat type two diabetes ?\"], [\"can a diabetic eat before a physical ?\"], [\"is diabetes mellitus an adverse effect ?\"], [\"what are the common sources of infection ?\"], [\"where can i find more info on free diabetic diet plans ?\"], [\"what is the normal blood sugar level reading ?\"], [\"can diabetics eat an orange per day ?\"], [\"is <unk> <unk> a diabetic ?\"], [\"how will associate carpal tunnel syndrome to diabetes mellitus ?\"], [\"what can diabetics drink to <unk> <unk> ?\"], [\"what lowers the level of glucose in the blood ?\"], [\"i am on medication <unk> per day i have been on a diet and my blood sugar levels are still high what is wrong ?\"], [\"how to reverse diabetes ?\"], [\"what research has been done on <unk> ?\"], [\"can diabetic people eat margarine ?\"], [\"how does a blood sugar chart look ?\"], [\"is diabetes a <unk> ?\"], [\"can you get diabetes from to much sugar ?\"], [\"what kind of transplant helps diabetics ?\"], [\"my big toe is partially numb but it comes and goes is there anything i should be worried about ?\"], [\"how many people had diabetes in one thousand , nine hundred and eighty ?\"], [\"what is the normal blood sugar range for fasting sugar for non diabetics ?\"], [\"how does type two diabetes kill ?\"], [\"this chronic disease occurs when a persons body does not produce enough insulin ?\"], [\"what is the complications of diabetes mellitus ?\"], [\"how is is diabetes genetically transfer ?\"], [\"does <unk> has an effect in diabetics ?\"], [\"what <unk> jobs can a diabetic get ?\"], [\"can <unk> someone cause diabetes ?\"], [\"is it dangerous taking the <unk> if you are not diabetes ?\"], [\"is glucose edible ?\"], [\"why is type ii diabetes considered to be a <unk> form of diabetes ?\"], [\"is it illegal and if yes what are the consequences for a mom to sell their minor child is excess diabetic testing supplies to feed the child ?\"], [\"insulin contain three . <unk> calculate minimum <unk> weight of insuline ?\"], [\"what is a diabetic somogyi phenomenon ?\"], [\"how many people have type one diabetes ?\"], [\"food for diabetics ?\"], [\"you are a diabetic and your blood sugar is three hundred and ninety five should you go to the hospital ?\"], [\"any side effects in kissing a diabetic person ?\"], [\"is diabetes fatal ?\"], [\"do you know anything about diabetes ?\"], [\"what types of cereal can diabetics eat without increasing their blood sugar dramatically ?\"], [\"can a diabetes person live to seventy year ?\"], [\"what cardiac and antihypertensives are contraindicated in people with diabetes ?\"], [\"what is a prediabetes diet ?\"], [\"do potato chips cause diabetes ?\"], [\"can a person who has diabetes eat jack fruit ?\"], [\"diabetic meter ?\"], [\"insulin and glucagon regulate blood levels of ?\"], [\"how to get pregnant by a men with type two diabetes ?\"], [\"what are symptoms of hypoglycemia ?\"], [\"where can i go to find good , healthy , safe diet and exercise plans for type i diabetics ?\"], [\"is diabetes terminal ?\"], [\"your dad has diabetes how can he get rid of them forever ?\"], [\"why can insulin not be given orally ?\"], [\"if blood sugar is five hundred and seventy five what type of insulin ?\"], [\"how do you treat a diabetic coma ?\"], [\"i have very high blood sugar and i do not eat suger at all are ther and herbal <unk> that lower blood sugar ?\"], [\"where can i find information and advice on diabetes nutrition ?\"], [\"what medication does a type one diabetic take ?\"], [\"are free diabetic blood glucose meters reliable ?\"], [\"what is the awareness color for juvenile diabetes ?\"], [\"does having high triglycerides effect diabetes ?\"], [\"how many carb a diabetic should have ?\"], [\"what is juvenile diabetes ?\"], [\"what can a nurse in a obstetrician office do when a diabetic twenty one year old over weight insulin dependent patient who does not eat breakfast because of morning sickness ?\"], [\"how does diabetes affect your lifestyle ?\"], [\"why do you get <unk> were you inject your insulin ?\"], [\"where can i purchase recipes for diabetics online ?\"], [\"diabetic foot pain ?\"], [\"what is the difference between <unk> and two ?\"], [\"what is the prevalence of diabetes mellitus in the philippines ?\"], [\"where can one purchase socks suitable for diabetics ?\"], [\"can diabetics drink <unk> ?\"], [\"can type two diabetes be reversed ?\"], [\"is a one hundred and twenty one fasting blood sugar reading mean you have diabetes ?\"], [\"what hormone produced in inadequate amounts causes excessive diuresis without high blood glucose levels ?\"], [\"how many people die from diabetes each year ?\"], [\"do you have to accept the <unk> diabetes test ?\"], [\"how long will it take a diabetic to heal from some cuts ?\"], [\"how serious a disease is diabetes ?\"], [\"what are the symptoms of type one and type two diabetes ?\"], [\"<unk> type i diabetes mellitus may result in ?\"], [\"where can one find information on diabetes ?\"], [\"is type two diabetes infectious or noninfectious ?\"], [\"are there any tissues that are insulin dependent ?\"], [\"diabetic eye problems ?\"], [\"is almond good for diabetic ?\"], [\"what levels of blood glucose indicates diabetes ?\"], [\"can a diabetic own a <unk> ?\"], [\"is diabetes hereditary ?\"], [\"can diabetics stop using insulin ?\"], [\"is one hundred and thirty nine a high sugar reading ?\"], [\"where can i get more information about diabetic nutrition ?\"], [\"does the pancreas control blood sugar levels ?\"], [\"what can cause severe pain in upper right arm near the shoulder area ?\"], [\"<unk> . gave me <unk> insulin an my blood sugar has been up every . i have been to the hospital twice . right now my sugar is five hundred and forty six bp <unk> <unk> . it has been like this all week , what can i do to get it <unk> already take <unk> times a day and lantus for lon ?\"], [\"what are the nutritious recipes for diabetic people ?\"], [\"how much fat and how much sugar daily for a diabetic ?\"], [\"what is the life expectancy of someone with terminal colon and liver cancer he is seventy seven years old and had diabetes the dr is told us approx six months he has <unk> that . any <unk> would be helpful . ?\"], [\"what is sugar doctor or diabetes doctor ?\"], [\"what are the chemicals released by ketosis ?\"], [\"will shrimp rise blood sugar ?\"], [\"what are some simple diet plans for a diabetic ?\"], [\"is nick jonas diabetic ?\"], [\"is reading healthy ?\"], [\"diabetes is a disorder in which the pancreas produces too little or no ?\"], [\"how many carbohydrates should a diebetic have ?\"], [\"are <unk> tests done on diabetics ?\"], [\"what is hgt used in diabetes mellitus ?\"], [\"diet plans for diabetics ?\"], [\"can you have hypoglycemia and turn into type two diabetes ?\"], [\"is cereal suitable for diabetic patient ?\"], [\"genetically engineered insulin advantages and disadvantages ?\"], [\"can you use glucose in a recipe that calls for liquid glucose ?\"], [\"do you have a list of low purine foods ?\"], [\"what types of diabetes are there ?\"], [\"managing hypoglycemia through diet ?\"], [\"how does seaweed help diabetes ?\"], [\"what low blood sugar level will cause a seizure ?\"], [\"what are some signs of type one diabetes ?\"], [\"what is normal blood sugar rate ?\"], [\"how good is noodles for diabetic patient ?\"], [\"what makes diabetes a chronic disease ?\"], [\"what are some methods for rapid weight loss ?\"], [\"can low blood sugars lead to diabetes ?\"], [\"is there a cure for diabetes ?\"], [\"can a dog develop diabetes ?\"], [\"what do burps <unk> in a person with diabetes ?\"], [\"what foods affect an increase in sugar level ?\"], [\"is honey dew melon and cantaloupe bad for diabetes ?\"], [\"can diabetes medicine taken with urine therapy ?\"], [\"what are the symptoms of a sugar rush ?\"], [\"how can a person acquire diabetes ?\"], [\"is <unk> good for type two diabetes ?\"], [\"is there any way to detect a carrier of diabetes ?\"], [\"do people with diabetes have to take shots ?\"], [\"is type one diabetes deadly or is there a cure ?\"], [\"what parts of the human body is affected by diabetes ?\"], [\"what is the highest blood sugar ?\"], [\"can you get type a diabetes by dirty hands ?\"], [\"what is the other name for type one and type two diabetes mellitus ?\"], [\"where can i find the new diabetic food list ?\"], [\"where can i find a diabetic nutrition guide ?\"], [\"you are diagnosed with diabetes what should you ?\"], [\"how do doctors diagnose diabetes ?\"], [\"are men who have type one diabetes infertile ?\"], [\"getting the right balance of sugar ?\"], [\"how does a high-fiber diet help to treat diabetes and obesity ?\"], [\"how do you develop diabetes two ?\"], [\"what is the function of fermentation reactions ?\"], [\"do diabetes hurt ?\"], [\"is type two diabetes noninfectious ?\"], [\"what causes green vomit in children who have type one diabetes ?\"], [\"why do people have diabetes ?\"], [\"why does the incidence of diabetes mellitus increase with age ?\"], [\"benefits of <unk> ?\"], [\"can be treated by injecting genetically engineered insulin ?\"], [\"how does a diabetics body respond to sugar entering the blood ?\"], [\"what is the sugar content of the blood of a diabetic ?\"], [\"do glucose tablets really work ?\"], [\"is <unk> disorder a symptom of diabetes ?\"], [\"what are the complications of diabetes ?\"], [\"what does the term baseline sugar or sugar baseline mean and how is it determined for a diabetic or just a normal person ?\"], [\"is borderline diabetes also known as type two ?\"], [\"saving money on testing and diabetes supplies ?\"], [\"what are alternative treatments for diabetic foot infections ?\"], [\"is there a blood sugar chart based on age ?\"], [\"what causes diabetes in human <unk> ?\"], [\"is alcohol bad for a pre diabetic ?\"], [\"what controls hormone levels ?\"], [\"is a diabetic menu safe to feed the whole family not just the diabetic person ?\"], [\"what are signs of having diabetes ?\"], [\"can i control my diabetes with diet or will i need medication ?\"], [\"why should the majority of carbs in a diabetic diet come from starch <unk> sugar ?\"], [\"what is the most important step to <unk> control of diabetes ?\"], [\"what are some two thousand and ten books on nutrition and weight loss for diabetics ?\"], [\"which is worse <unk> or diabetes ?\"], [\"what does high fructose corn syrup do to your body ?\"], [\"medications for diabetes ?\"], [\"what is <unk> diabetes ?\"], [\"why you should know about a blood sugar chart ?\"], [\"what is the scientific name for type two diabetes ?\"], [\"what can cause diabetes ?\"], [\"how many people currently have diabetes in <unk> ?\"], [\"your blood sugar was recently measured at eight point three are you diabetic ?\"], [\"does insulin increase your blood sugar ?\"], [\"taking sixty five units a day of insulin how many days will a 100ml vial last this is lantus at <unk> ?\"], [\"what or who cured diabetes ?\"], [\"which organs does diabetes affect ?\"], [\"what does the glucagon do as a hormone and where is it produced ?\"], [\"what are some books that feature diabetic desserts ?\"], [\"what is diabetes nerve damage ?\"], [\"what is considered a normal blood sugar level ?\"], [\"what foods should you avoid to prevent diabetes type two ?\"], [\"what is the action of <unk> on glucose level ?\"], [\"what happens if people who are diabetic eat the wrong foods ?\"], [\"how are babies of women with gestational diabetes affected ?\"], [\"can you eat a banana if you have gestational diabetes ?\"], [\"do diabetics eat more or less sugar ?\"], [\"what are blood sugar readings at twenty mean if i have just eaten ?\"], [\"how many people die from diabetes each year in canada ?\"], [\"what should a physician do to treat insulin shock ?\"], [\"can you get your cdl in colorado if your a diabetic ?\"], [\"what is the normal average ph of blood ?\"], [\"what supplements help with diabetes ?\"], [\"how much fruit can a type two diabetic have a day ?\"], [\"what causes <unk> head twitching ?\"], [\"i am two hundred and thirty lbs and might be getting diabetes and i am scared ?\"], [\"what is the best way to control diabetes ?\"], [\"how do you know if you are diabetic ?\"], [\"what are some good diabetes supplies for adults ?\"], [\"is dylan <unk> a diabetic ?\"], [\"what is a substance discovered by canadians that <unk> lives of diabetics ?\"], [\"can good nutrition prevent diabetes ?\"], [\"can high glucose levels result in diabetes ?\"], [\"what range of sugar after meal ?\"], [\"what region is most likely to get diabetes ?\"], [\"what should i know about natural treatments for diabetes ?\"], [\"what are some treatment options for type two diabetes ?\"], [\"what are some symptoms of having low blood sugar levels ?\"], [\"is diabetes mellitus a complication of <unk> ?\"], [\"do type two diabetic is take insulin ?\"], [\"why would a diabetic person loose their toes ?\"], [\"what <unk> are there available in medical field dealing with diabetes ?\"], [\"diabetes mellitus is caused by what ?\"], [\"how come shiatsu massaging cushion is not recommended for diabetics ?\"], [\"what is diabetes management ?\"], [\"is frequent urination and dry mouth is the only cause of high blood sugar ?\"], [\"diabetic diet plan ?\"], [\"who invented the insulin pump ?\"], [\"what is the plan or diet for diabetes ?\"], [\"what if your <unk> assessment of an unresponsive patient <unk> <unk> point pupils what is your primary field diagnosis ?\"], [\"what should my blood sugar level be ?\"], [\"diabetics and alcohol consumption ?\"], [\"what is a healthy type ii diabetes diet plan ?\"], [\"can high blood sugar cause you <unk> ?\"], [\"where is the energy stored in glucose ?\"], [\"what are the best drinks to lower blood sugar levels ?\"], [\"diabetes can be inherited ?\"], [\"is diabetes a dominant trait ?\"], [\"which websites offer information about how to manage type one diabetes ?\"], [\"can <unk> be used in a diabetic cake recipe ?\"], [\"do apples regulate blood sugar ?\"], [\"my <unk> insulin injections needle pricked your hand will i be affected by h i v ?\"], [\"is there a list of <unk> or <unk> words for diabetes ?\"], [\"how is diabetic ketoacidosis treated ?\"], [\"what does insluin do ?\"], [\"are banana good for diabetic ?\"], [\"how often should a diabetic eat ?\"], [\"<unk> fruit is the cure for diabetes ?\"], [\"what are all the names for diabetes type one ?\"], [\"why should insulin be refrigerated ?\"], [\"are bananas high in sugar ?\"], [\"is diabetes an example of hypersecretion hyposecretion or receptor problem ?\"], [\"what does a type two diabetic eat on weight watchers ?\"], [\"how <unk> to eat banana for a diabetes patient ?\"], [\"what are the types of diabetes ?\"], [\"what happens if you get insulin in your eye ?\"], [\"can type one diabetes ever go away ?\"], [\"frequent urination in patients with diabetes eliminates excess ?\"], [\"what body systems are affected by <unk> is disease ?\"], [\"if your blood sugar reading is two hundred and fifty five is that high ?\"], [\"when taking a drug screening can diabetes medicine show up ?\"], [\"what are the <unk> <unk> tests for diabetes mellitus two ?\"], [\"what are some options for recipes for someone with diabetes ?\"], [\"where can i find more information about diabetic food charts ?\"], [\"can <unk> be extremely painful or is it always painless ?\"], [\"what foods lower blood sugars and help lose weight ?\"], [\"which human organ produces insulin ?\"], [\"where can one find information concerning a diabetic diet ?\"], [\"can you faint if you have diabetes ?\"], [\"diabetes supplies ?\"], [\"what causes numbness and tingling in the fingers of individuals with untreated <unk> anemia ?\"], [\"how do you get a brittle diabetic under control ?\"], [\"what food do i need to avoid as a diabetic ?\"], [\"what does the number seven mean in diabetics ?\"], [\"safe and legal way to travel with insulin injection equipment and <unk> ?\"], [\"how long does nph insulin last ?\"], [\"are bananas good for diabetics ?\"], [\"is it possible for a blood sugar level to be five hundred and seventy and they are fine ?\"], [\"what is the <unk> for diabetes ?\"], [\"do <unk> raise blood sugar levels ?\"], [\"what is a good blood sugar range ?\"], [\"is walking effective in diabetic patient ?\"], [\"are apples good for diabetic ?\"], [\"where can one purchase diabetic supplies from ?\"], [\"where can a diabetic find sugar free dessert recipes ?\"], [\"how many grams of sugar with diabetes type two ?\"], [\"what is the normal range of random blood glucose ?\"], [\"why polyuria occurs in <unk> ?\"], [\"how can you help managing my diabetes over the years ?\"], [\"a substance produced by <unk> bacteria is ?\"], [\"what race is most likely to get diabetes ?\"], [\"what options are available for those who suffer from diabetic retinopathy ?\"], [\"what famous people are on a diabetic diet ?\"], [\"is there a cause for <unk> and what causes it ?\"], [\"how much sugar will kill you ?\"], [\"what causes your hand to fall asleep ?\"], [\"what happens when you have to be <unk> for diabetes ?\"], [\"how can a doctor be helpful to me to understand food chart ?\"], [\"is low or high pressure related to diabetes ?\"], [\"how do excess ketones affect a diabetic ?\"], [\"how to know if your blood sugar is getting low ?\"], [\"what if your blood glucose is six . <unk> should you administer insulin ?\"], [\"what is a two bbl carb ?\"], [\"people are affected with type two diabetes and are unaware they have the disease ?\"], [\"why insulin is used ?\"], [\"can you drink <unk> <unk> <unk> if your diabetic ?\"], [\"why do diabetics need to monitor their blood sugar levels ?\"], [\"whats the symptoms of <unk> diabetes ?\"], [\"it is recommended that you consume foods with five grams or more of as it is beneficial for weight control diabetes and even forms of cancer ?\"], [\"what system does diabetes effect ?\"], [\"what is first organ to respond when glucose rises ?\"], [\"is diabetes found more in one ethnicity than another ?\"], [\"how is insulin produced in genetic engineering ?\"], [\"why diabetic patient prefer to use sheep insulin than human insulin ?\"], [\"how can you gain weight if you are a diabetic ?\"], [\"why do you have diabetes ?\"], [\"is <unk> good for diabetics ?\"], [\"can a diabetic drink milk ?\"], [\"what diets can diabetics use daily ?\"], [\"where can you find some tasty diabetic recipes ?\"], [\"safe for people with problems . ?\"], [\"is there diabetic beer ?\"], [\"what does it mean to have high a1c ?\"], [\"what organs do type two diabetes affect ?\"], [\"what do you do if your mom is sad or upset ?\"], [\"will a patient with type ii diabetes require daily insulin injections on a regular basis ?\"], [\"what is normal blood sugar levels in dogs ?\"], [\"what recipes are good for type two diabetes ?\"], [\"what is know as damage to the retina of the eye caused by diabetes mellitus ?\"], [\"does <unk> vitamins raise glucose ?\"], [\"explain how genetic engineering can be useful in the treatment of human illnesses such as diabetes ?\"], [\"what does not the body process in diabetes ?\"], [\"where can i get recipes for a diabetes meal diet that produce tasty results ?\"], [\"will there be a cure for diabetes ?\"], [\"does eating starch cause diebetes ?\"], [\"what food should be avoided by a diabetic persons ?\"], [\"diabetes sugar levels ?\"], [\"is diabetes a dangerous condition ?\"], [\"is diabetes an example of a degenerative disease ?\"], [\"what causes diabetic <unk> ?\"], [\"what is the normal blood sugar level in human body ?\"], [\"how can you tell where sugar enters the body ?\"], [\"is it safe to take <unk> if you have diabetes ?\"], [\"how does a person is waistline measurement relate to glucose levels ?\"], [\"can diabetes be cured by diet and exercise ?\"], [\"what type of wine is best for diabetes ?\"], [\"is diabetes a noncommunicable disease ?\"], [\"diabetic recipes help keep you healthy ?\"], [\"is a fasting blood sugar of one hundred and sixteen ?\"], [\"common diabetes symptoms ?\"], [\"is diabetes caused by drinking alcohol ?\"], [\"what <unk> low <unk> in blood ?\"], [\"what is the effect of having no insulin in your body ?\"], [\"does milk raise blood sugar ?\"], [\"how many kids have diabeties ?\"], [\"where is a blood sugar levels chart ?\"], [\"do type one and two diabetes have to do with blood glucose ?\"], [\"is there <unk> for diabetes ?\"], [\"is one hundred and sixty blood sugar reading after eating all right ?\"], [\"what is diabetic neuropathy ?\"], [\"if you lose weight will type two diabetes go away ?\"], [\"what are the classifications of being diabetic ?\"], [\"is coconut water good for a diabetic person ?\"], [\"what organ normally controls the blood sugar level ?\"], [\"is ginger ok for diabetics to consume ?\"], [\"how can i prevent stroke , and is there a diet i should be taking for it ?\"], [\"does mcdonalds cause diabetes for children ?\"], [\"where can i find out more about diabetic testing supplies ?\"], [\"what is the health benefits of bitter kola nut for diabetics ?\"], [\"what research has been done on shiatsu ?\"], [\"what are some good recipes for a diabetic <unk> ?\"], [\"discovered by frederick banting and charles best what hormone was first used on leonard thompson a <unk> diabetic ?\"], [\"which blood test is performed to measure the level of glucose after the patient has not eaten for at least twelve hours ?\"], [\"how does type two diabetes affect the <unk> system ?\"], [\"are diabetes fatal ?\"], [\"can a diabetic eat <unk> ?\"], [\"what is the medical term meaning eye disease that is a complication of diabetes mellitus ?\"], [\"do bananas raise blood sugar levels ?\"], [\"which one of the following lists represents three common review types associated with an <unk> project ?\"], [\"what are my resource options for creating a diabetic menu ?\"], [\"how do you control high blood sugar during pregnancy ?\"], [\"mechanism of insulin zinc <unk> in type one diabetes ?\"], [\"what is diabetic honeymoon <unk> ?\"], [\"how is diabetes mellitus a risk factor for <unk> ?\"], [\"what is a <unk> for diabetes ?\"], [\"how long is a liver transplantation patient <unk> ?\"], [\"what is diabetes one and two ?\"], [\"what are the causes of diabetes miletus ?\"], [\"what kind of diabetes did jackie robinson have ?\"], [\"does an urinalysis show blood sugar levels ?\"], [\"is diabetes mellitus contagious ?\"], [\"what are the best foods to eat to lower blood sugar ?\"], [\"who was the first person with diabetes ?\"], [\"how does wind influence <unk> patterns ?\"], [\"is <unk> bad for you ?\"], [\"what are signs and symptoms for diabetic coma ?\"], [\"how long does diabetes last ?\"], [\"is a strict diet needed for a diabetic ?\"], [\"how long does it usually take to recover from the effects of a diabetic seizure <unk> of speech <unk> and general concentration ?\"], [\"what is the number one cause of diabetes ?\"], [\"i has diabetes type1 <unk> to leave the insulin injections and use drug called januvia <unk> co . for type2 because i <unk> had very <unk> in my sleeping lead me to the epilepsy in my sleep ?\"], [\"would justin bieber go out with a girl that can <unk> ?\"], [\"when does diabetes insipidus occur ?\"], [\"how many units of insulin are in zero point five ml of regular u-100 insulin ?\"], [\"are there any websites that can help me find diabetic food list ?\"], [\"is the number of people worldwide who have diabetes increasing ?\"], [\"what side affects for using the <unk> diabetic nerve <unk> ?\"], [\"what is the holistic approach to diabetes treatment ?\"], [\"why can not use the same lancet twice ?\"], [\"why must type i diabetes patients inject insulin ?\"], [\"how do you purchase a <unk> real time system ?\"], [\"can a diabetic eat almonds ?\"], [\"how do you get tested for type three diabetes ?\"], [\"what is the normal blood glucose levels ?\"], [\"do you get diabetes from eating too much sugar ?\"], [\"do <unk> urine states that you a diabetic ?\"], [\"what is a diabetes clinical educator ?\"], [\"what is a good <unk> for diabetic recipes ?\"], [\"what are the danger of diabetes ?\"], [\"is there a type four diabetes ?\"], [\"where can i find a list of food for a diabetic ?\"], [\"where can i purchase or copy the best menu for diabetic people ?\"], [\"what are some <unk> and <unk> of diabetes ?\"], [\"what is the meaning of insulin resistance ?\"], [\"what are some <unk> substances ?\"], [\"what <unk> do you need to be a diabetes nurse ?\"], [\"what can you eat that will not raise blood sugar ?\"], [\"what kind of diet is recommended for diabetics ?\"], [\"what type of trial might be used to determine if overweight people can lower their incidence of type ii diabetes by changing their eating habits exercising ?\"], [\"what causes diabetes in <unk> animals ?\"], [\"how many calories can a diabetic have a day ?\"], [\"what are the health benefits of <unk> ?\"], [\"are obesity and diabetes national <unk> in the us ?\"], [\"how much can a diabetic syringe hold ?\"], [\"what <unk> and <unk> of diabetes ?\"], [\"which type of diabetes begins in childhood or adolescence ?\"], [\"can people with diabetes carry insulin needles on an <unk> ?\"], [\"diabetes mellitus is a disease that occurs when the body either can not produce the hormone insulin or produces an insufficient amount of insulin . the disease is caused by a <unk> in the system . ?\"], [\"can diabetes make you sick ?\"], [\"what are natural treatments for diabetes ?\"], [\"where can one get free diabetes testing ?\"], [\"managing your health at home ?\"], [\"what are some snacks that would be recommended for diabetic people ?\"], [\"obesity and diabetes ?\"], [\"how is a diagnosis of diabetes mellitus confirmed ?\"], [\"how do bacteria help people with diabetes ?\"], [\"are there recipes to make diabetic food ?\"], [\"what should you eat when your blood sugar is low ?\"], [\"one hundred and seventy two pp blood sugar ?\"], [\"what are some type two diabetes symptoms ?\"], [\"what is the definition of high in fats ?\"], [\"what is the most common sign of diabetes ?\"], [\"how many diagnosed diabetes patients are not on medication ?\"], [\"can <unk> cause women to get cancer ?\"], [\"can diabetes be <unk> to you ?\"], [\"do glucose polymers raise your blood glucose ?\"], [\"what <unk> conditions can arise from a large increase in blood levels of ketone bodies in diabetics ?\"], [\"what are normal glucose levels for a healthy person ?\"], [\"can a cat be diabetic ?\"], [\"can type two diabetes be treated ?\"], [\"does having diabetes affect the results of a breathalyzer ?\"], [\"what is the normal range of <unk> ?\"], [\"where can i find blood glucose level chart ?\"], [\"is a insulin pump for diabetics an example of medical advancement ?\"], [\"what are the symptoms of hyperglycemia ?\"], [\"what <unk> does a person with diabetes type one have ?\"], [\"what is the disease process brought about by the hyposecretion of insulin ?\"], [\"how much <unk> for diabetic cat ?\"], [\"where can i find a recipe for diabetic or sugar-free desserts ?\"], [\"can you take magic mushrooms if you have diabetes ?\"], [\"how long does it take for fruit to raise blood sugar level ?\"], [\"can you be a police officer if you have diabetes ?\"], [\"how is insulin resistance prevented ?\"], [\"what are the benefits of insulin ?\"], [\"what does happen when the body has too little insulin ?\"], [\"why does your butt leak ?\"], [\"was insulin first used in the treatment of diabetes in one thousand , nine hundred and twenty two one thousand , nine hundred and fifty two or one thousand , nine hundred and eighty two ?\"], [\"can <unk> eat sugar ?\"], [\"can you eat unsweetened apple <unk> on a diabetic diet ?\"], [\"is there new injection to cure diabetic ?\"], [\"is eating fresh fruit good for diabetics ?\"], [\"what food for supper for the diabetic person ?\"], [\"what are the advantages of using bacteria which contain human insulin genes to produce insulin ?\"], [\"i am diabetic and need to lose weight any ideas on a weight loss plan that is good for me ?\"], [\"what is the most prevalent form of diabetes ?\"], [\"can you tell me what amount of blood sugar range is normal ?\"], [\"what is one sweetener that is commonly used in diabetic cookie recipes ?\"], [\"is diabetes a type of disease ?\"], [\"how is diabetes regulated ?\"], [\"what is caused by the body is inability to produce or properly use insulin ?\"], [\"do diabetes test strips <unk> ?\"], [\"does insulin <unk> gluconeogenesis ?\"], [\"is coffee good for a diabetic ?\"], [\"suger level one hundred and eighty five to high ?\"], [\"what the role of liver and pancreas in controlling the blood glucose level ?\"], [\"what should my diet be if i have diabetes ?\"], [\"what treatment is available for high blood plasma ?\"], [\"what is the best book on gourmet diabetic cooking ?\"], [\"can type one diabetes be spread from person to person ?\"], [\"can you take metformin with insulin ?\"], [\"what website will you get nick jonas is personalized diabetes necklace ?\"], [\"what is the proper <unk> first aid response to diabetic attack ?\"], [\"what experts treat diabetes ?\"], [\"does thyroxine increase blood sugar levels ?\"], [\"what supplies do i need to test for diabetes ?\"], [\"is mutton good for diabetic ?\"], [\"is clear urine normal in type two diabetics ?\"], [\"can german <unk> get diabetes ?\"], [\"different drugs for different control ?\"], [\"is one hundred and nine high after fasting ?\"], [\"is there any types of infection with diabetes patient to a non diabetes ?\"], [\"could gingivitis be transmitted by kissing ?\"], [\"what are some problems people with diabetes have ?\"], [\"is type one and type two diabetes curable ?\"], [\"what should a diabetic is meal plan have ?\"], [\"where can i get a cheap a1c calculator ?\"], [\"diabetes diets ?\"], [\"when insulin is released how does it differ in a diabetic ?\"], [\"what are the dietary restrictions for diabetics ?\"], [\"what is the purpose of hemoglucotest ?\"], [\"which of the following statements about insulin resistance and pre-diabetes is true ?\"], [\"will eating ice give you diabetes ?\"], [\"what <unk> of foods will not raise blood sugar ?\"], [\"when was international journal of diabetes in developing countries created ?\"], [\"how many people in the world have diabetes ?\"], [\"what are the release dates for a day in the life of a diabetic - two thousand and ten ?\"], [\"what are some healthy recipes for the diabetic consumer ?\"], [\"which metal is present in insulin ?\"], [\"is diabetes a disease or ailment ?\"], [\"what are the best foods for a diabetic to eat ?\"], [\"natural remedy for diabetes ?\"], [\"is one hundred and sixty is normal random blood sugar level ?\"], [\"is onion good for diabetic ?\"], [\"what is the <unk> <unk> check machine ?\"], [\"how much does it cost to purchase from liberty diabetic supplies ?\"], [\"what causes lack of insulin in early age for <unk> ?\"], [\"who is more likely to develop diabetes ?\"], [\"can diabetes be cured without medicines ?\"], [\"what and where can i go to get diabetic neuropathy treatment ?\"], [\"can type two diabetes be <unk> ?\"], [\"why is orange juice recommended when blood sugar is low ?\"], [\"what diseases can diabetes cause ?\"], [\"can you have sugar with type two diabetes ?\"], [\"what are the symptoms of <unk> ?\"], [\"where can i purchase diabetic needles ?\"], [\"what are some good ideas for diabetic meals ?\"], [\"what are some alcoholic beverages or mixed drinks that are safe for type two diabetics ?\"], [\"would a type two diabetic be safe to consume a orange ?\"], [\"how can you tell where is the sugar removed from the blood ?\"], [\"how can bacteria be genetically engineered and used to make human insulin ?\"], [\"is eating pizza ok for a diabetic ?\"], [\"what type of insulin has the <unk> onset period ?\"], [\"is xylitol a sugar ?\"], [\"how much sugar is in a potato ?\"], [\"what is the hormone responsible for diabetes mellitus ?\"], [\"is diabetes prevention helpful ?\"], [\"is sixty low for a glucose reading ?\"], [\"what is the role of insulin in weight gain ?\"], [\"how does the diabetic food chart compare to the basic food chart ?\"], [\"where can an older diabetic find a reasonably priced life insurance policy ?\"], [\"if old dog with diabetes not treated what happens ?\"], [\"how would someone get diabetes ?\"], [\"what symptons do you get with diabetes ?\"], [\"what are the signs someone might be having a diabetic emergency ?\"], [\"can diabetics type two ever have a good pasta dish ?\"], [\"in what condition people take glucose ?\"], [\"can a diabetic die from injecting too much insulin ?\"], [\"if you had no liver what will happen ?\"], [\"what is the prognosis for untreated diabetic foot infections ?\"], [\"what is pre diabeties ?\"], [\"can someone die from diabetes ?\"], [\"what is the role of liver and pancreas in controlling the blood glucose level ?\"], [\"how common is diabetic retinopathy ?\"], [\"where is this energy stored in glucose ?\"], [\"how can i get rid of diabetes type one ?\"], [\"are <unk> suitable for diabetics ?\"], [\"according to the american diabetes association what are the most common symptoms of type one diabetes ?\"], [\"diabetes treatment with forever living products ?\"], [\"what is the error code <unk> on blood glucose accu-chek aviva meter ?\"], [\"when is the best time to test blood glucose levels ?\"], [\"how do you know that glucose is a compound ?\"], [\"if glucose is administered intravenously to a patient with insulin dependent diabetes mellitus the patient will probably develop ?\"], [\"what are ideal blood sugar levels ?\"], [\"is there a store dedicated to diabetes supply ?\"], [\"in diabetes insulin is administered intravenously explain why this hormone protein can not be taken orally ?\"], [\"can a person act drunk or <unk> from low blood sugar ?\"], [\"what blood ph might you expect in a person with untreated diabetes ?\"], [\"what is the name of a disease when blood sugar levels are above normal ?\"], [\"best time to take diabetic pill ?\"], [\"what is normal blood sugar for kids ?\"], [\"can hypoglycemia lead to diabetes ?\"], [\"how much the normal blood sugar of diabetes ?\"], [\"what happens if glucose levels get too high ?\"], [\"is the <unk> minimed five hundred and eight available in the us ?\"], [\"what happens to a baby whose mother has gestational diabetes and does not get it under control ?\"], [\"what is diabetics <unk> ?\"], [\"how do you convert fifty thousand iu of vitamin d to mg ?\"], [\"how is the blood level of of insulin controlled and regulated ?\"], [\"what class of drugs stimulates insulin release in the body and is used in type ii diabetes ?\"], [\"food to lower high blood <unk> ?\"], [\"describe a glucose tolerance test used to diagnose insulin resistance ?\"], [\"how do you deliver sugar to an unconscious diabetic ?\"], [\"where cna i learn more about diabetes blood sugar level ?\"], [\"fasting blood sugar is higher than <unk> after dinner blood sugar ?\"], [\"does jason <unk> have diabetes ?\"], [\"what should you do if a diabetic has too much sugar ?\"], [\"when a liver shuts down how long can a person live without a transplant ?\"], [\"where are the <unk> diets to be found to help people with diabetes ?\"], [\"can a insulin resistant women conceive ?\"], [\"registered nurse needs education on diabetes ?\"], [\"what are the nutrition <unk> for people suffering from diabetes ?\"], [\"what are the signs of gestational diabetes ?\"], [\"what should her blood glucose levels be ?\"], [\"gestational diabetes diet ?\"], [\"is your blood sugar high if it is one hundred and ninety three right after lunch ?\"], [\"why do urban children suffer from diseases like diabetes <unk> ?\"], [\"can we keep contact with diabetic person ?\"], [\"how recombinant insulin is used to reduce <unk> and <unk> ?\"], [\"is yam good for diabetes ?\"], [\"how many people does diabetes affect out of one hundred ?\"], [\"can you get diabetes by using a needle used by a person with diabetes ?\"], [\"does diabetes dehydrate ?\"], [\"can using ice gel pain <unk> lower your blood sugar i noticed that it has alcohol in the ingredients ?\"], [\"food exchange systems were originally developed for people with ?\"], [\"diabetic testing ?\"], [\"<unk> mineral that is almost always missing from the diets of diabetics ?\"], [\"what percent of people get diabetes ?\"], [\"diabetic nutrition ?\"], [\"can guys with diabetes get tattoos ?\"], [\"how can you control diabetes ?\"], [\"how many pacific people have type two diabetes ?\"], [\"is it dangerous to have low glucose levels ?\"], [\"why is weight loss important for diabetes sufferers ?\"], [\"can diabetes insipidus be as dangerous as diabetes mellitus ?\"], [\"when is insulin indicated in type two diabetes ?\"], [\"when someone dies of a diabetic seizure what do they look like in detail please ?\"], [\"can a <unk> <unk> be <unk> <unk> ?\"], [\"how do you get type1 diabetes ?\"], [\"what is a good blood reading for diabetes ?\"], [\"what <unk> does diabetes mellitus affect ?\"], [\"can doctor is cure diabetes ?\"], [\"how can diabetics control the amount of carbohydrates in their diet ?\"], [\"what does insulin do for blood sugar ?\"], [\"what are the diabetes symptoms in dogs ?\"], [\"what are the causes and symptoms of diabetes mellitus ?\"], [\"what behaviors do doctors recommend to avoid type two diabetes ?\"], [\"will you die early if you have diabetes ?\"], [\"what does gangrene look like ?\"], [\"where can one find information on what causes diabetes ?\"], [\"is <unk> a form of cancer ?\"], [\"what is the effect of sugar alcohol on the body ?\"], [\"how did ella <unk> get diabetes ?\"], [\"what are the symptoms of diabities ?\"], [\"are there any diet recipes for diabetics ?\"], [\"what are some natural ways to potentially reverse diabetes ?\"], [\"what does a decreasing level of cea in the blood indicate ?\"], [\"are dates harmful for a diabetic ?\"], [\"a disease that <unk> your <unk> from making o using insulin properly ?\"], [\"can a diabetic patient eat boiled rice ?\"], [\"do you get diabetes from to much sugar ?\"], [\"is a blood glucose level of one hundred and sixty very high ?\"], [\"what is a doctor called that studies child growth and diabetes ?\"], [\"what can happen if you blood sugar gets to high when you have diabetes ?\"], [\"what is the exact word for diabetes in <unk> <unk> ?\"], [\"what alcohol drink is good for a diabetic ?\"], [\"is salt and pepper good for diabetics ?\"], [\"what federal agency helps patients who need to follow a diabetic diet plan ?\"], [\"how does the pancreas control blood glucose levels ?\"], [\"what are any options for pregnant <unk> so that their kids can not get diabetes ?\"], [\"what is the treatment of diabetes ?\"], [\"can you eat cream <unk> if you are diabetic ?\"], [\"what are diabetes symptoms in young children ?\"], [\"why do some diabetics take medications orally ?\"], [\"does being tired a lot mean you have diabetes ?\"], [\"why is the serum bicarbonate low in ketoacidosis ?\"], [\"what can you do about the sensation of burning feet if you are diabetic ?\"], [\"what process results in genetically different bacteria ?\"], [\"what was the unit of nick is sugar level ?\"], [\"does cinnamon spice help control diabetes type two ?\"], [\"how do you talk your mom into <unk> you get a diabetes test ?\"], [\"what steps can be taken to reduce the risk of blindness ?\"], [\"is there a cure for blood diabetes ?\"], [\"can diabetes mellitus cause chronic kidney failure ?\"], [\"where can you find diet plans ?\"], [\"what does hgt stand for in diabetes test ?\"], [\"what is the number one killer of children ?\"], [\"the insulin is making you gain weight can you stop it your blood sugars are averaging <unk> ?\"], [\"what are the release dates for project not me diabetes prevention - two thousand and twelve stay <unk> <unk> ?\"], [\"is their a relationship between diabetes and the pancreas ?\"], [\"what are the recommended dietary <unk> in diabetes ?\"], [\"what can happen to a diabetic man if he takes birth control pills ?\"], [\"black olives are they bad for diabetics ?\"], [\"how many carbohydrates should a type one diabetic eat each day ?\"], [\"is diabetes a <unk> ?\"], [\"how can diabetic ketoacidosis be prevented ?\"], [\"how many people have diabetes insipidus ?\"], [\"can you use <unk> with type two diabetes ?\"], [\"what is a fasting blood sugar test ?\"], [\"where can i find more information on cereal for diabetics ?\"], [\"is weight loss a clinical symptom of type one diabetes ?\"], [\"what part of the body make insulin ?\"], [\"how long does diabetic diet take to work ?\"], [\"when drawing up nph insulin do you shake the bottle or <unk> <unk> the bottle ?\"], [\"is one hundred and sixty six a safe glucose level ?\"], [\"where can i find a diabetic meals food guide ?\"], [\"what do you do if you have diabetes ?\"], [\"does sugar raise blood pressure ?\"], [\"how is type one diabetes controlled ?\"], [\"do protein diets really work for people like me ?\"], [\"how do you know if you have type one or type two diabetes ?\"], [\"how do you cope with hypertension ?\"], [\"what are some of the early symptoms of diabetes ?\"], [\"can diabetes be prevented ?\"], [\"is type one or type two diabetes more common ?\"], [\"what side affects can lantus give you ?\"], [\"has any one found a cure for diabetes ?\"], [\"why does polydypsia occur with diabetes mellitus ?\"], [\"how does diabetes effect the endocrine system ?\"], [\"what is the medical term meaning once a day at night ?\"], [\"what happens when people are unable to produce enough <unk> ?\"], [\"what hormone secreted by the beta cells of the pancreatic islets in response to increased levels of glucose in the blood ?\"], [\"free diabetes supplies ?\"], [\"what exactly are diabetic supplies ?\"], [\"what are some high blood sugar symptoms ?\"], [\"does having diabetes affect your life span ?\"], [\"what would cause my left arm and fingers to tingle ?\"], [\"is it true that diabetic type one men are sterile and if yes is there any help ?\"], [\"is the diabetes mellitus inherited ?\"], [\"when mixing regular and nph insulin which do you draw up first ?\"], [\"can diabetics eat watermelon ?\"], [\"how diseases get into your body ?\"], [\"can you have diabetes ?\"], [\"why are the legs cut when a person has diabetes ?\"], [\"types of diabetes the is ?\"], [\"what can you eat with a blood sugar in the <unk> sixty eight range ?\"], [\"what type of insulin is given to a patient with diabetic ketoacidosis ?\"], [\"acceptable fasting blood sugars in elderly should elderly be allowed to have a slightly higher blood glucose in am if on meds ?\"], [\"what is a gland not working in a diabetic ?\"], [\"people with forms of the disease diabetes can be treated with injections of ?\"], [\"what foods are <unk> on a type two diabetes diet plan ?\"], [\"what increases blood sugar levels ?\"], [\"is exercis <unk> to diabetes ?\"], [\"is <unk> good for diabetic ?\"], [\"what type of food affect diabetes ?\"], [\"what is the percentage of family members of a diabetic who gets the disease ?\"], [\"can type two diabetes in the early stages be cured with medications ?\"], [\"all patients with diabetes need injection ?\"], [\"diabetes meters ?\"], [\"what is the letter form in dominant and recessive trait ?\"], [\"what exercise regimen will help get rid of a wouldiabetic middle ' ?\"], [\"which condition is also known as diabetic ketoacidosis ?\"], [\"how does one get started in <unk> and have to check ones blood sugar and asthma ?\"], [\"what is most <unk> for maintaining god blood glucose levels for a dibetic patient ?\"], [\"how can you bring down high blood sugar ?\"], [\"does stress cause high blood pressure ?\"], [\"can you get a cdl in colorado if you use insulin ?\"], [\"how do you get juvenile diabetes ?\"], [\"where can i find more information on diabetes recipes ?\"], [\"what happens when a type two diabetic does not take his insulin ?\"], [\"what is the relationship between obesity and diabetes ?\"], [\"how many people in <unk> have diabetes ?\"], [\"where can i find a diabetes meal planner ?\"], [\"why diabetics are advised to carry a candy bar ?\"], [\"what to do when you have diabetes ?\"], [\"is there any cure for gangrene in the stomach ?\"], [\"diabetes affects the body is ability to use what ?\"], [\"what is the diabetes that is not to bad ?\"], [\"what blood sugar range is healthy for an eighteen year old man ?\"], [\"is beetroot good for diabetics ?\"], [\"is a diabetic diet plan healthy ?\"], [\"what kind of pasta a diabetic person should eat ?\"], [\"diabetes exercise ?\"], [\"are diabetics allergic to bee stings ?\"], [\"are there any videos of nick talking about his diabetes ?\"], [\"when was the cure for diabetes discovered ?\"], [\"who did a <unk> of insulin for diabetes ?\"], [\"teens with diabetes can eat sugar sweets and deserts ?\"], [\"the glycemic index predicts the way certain foods affect ?\"], [\"what is the difference between high blood sugar and diabetes ?\"], [\"are there any dangers to a diabetic when it comes to a hot <unk> ?\"], [\"what are the signs of being a diabetic ?\"], [\"can insulin be administered <unk> ?\"], [\"how is human insulin manufactured ?\"], [\"is watermelon bad for type two diabetics ?\"], [\"how does diabetes contribute to <unk> ?\"], [\"can high blood sugar cause cysts ?\"], [\"the role of insulin in the human body is to ?\"], [\"are there any supplements for diabetes ?\"], [\"what complications can diabetes mellitus cause ?\"], [\"grandma is coming to visit and my child has chickenpox grandma also is diabetic she was planning on staying with us should she stay elsewhere ?\"], [\"is type two diabetes known as insulin dependent diabetes ?\"], [\"what do you eat when you have diabetes ?\"], [\"how is type one diabetes detected ?\"], [\"what is a bone marrow <unk> ?\"], [\"what research has been done on <unk> ?\"], [\"what is diabetic peripheral neuropathy ?\"], [\"testing for diabetes ?\"], [\"how is diabetic food different from regular food ?\"], [\"what are common causes of diabetes ?\"], [\"how many <unk> insulin units are in <unk> ?\"], [\"diabetes mellitus is a disorder of what ?\"], [\"what diet can you recommend for a diabetic ?\"], [\"can you get diabetes from eating too much salt ?\"], [\"you are newly diagnosed with type one diabetes your numbers were up to one thousand and fifty and they said your organs were shutting down why ?\"], [\"is strawberry good for diabete ?\"], [\"finding free diabetic cookbooks ?\"], [\"what is the signs and symptoms of diabetes ?\"], [\"is insulin available in <unk> ?\"], [\"what happens when your blood sugar <unk> five hundred ?\"], [\"what is type 1diabetes ?\"], [\"are oranges good for diabetic people ?\"], [\"is there quite a lot of sugar in bananas ?\"], [\"how is type one diabetes be prevented ?\"], [\"who are some famous people or people who have made major <unk> to society who suffered from diabetes ?\"], [\"is <unk> safe for diabetes patients ?\"], [\"how are blood glucose levels controlled ?\"], [\"how low can blood sugar go before is causes lost consciousness ?\"], [\"what does a glucose monitor measure ?\"], [\"diabetes is caused due to malfunctioning of ?\"], [\"frequent urination as a diabetes symptom ?\"], [\"are there sugar restrictions included on a diabetic diet sheet ?\"], [\"does anyone know any diabetic snack recipes ?\"], [\"your father is fifty years old and he has been drinking alcohol since twenty three years on regular basis . now a days he is drinking in <unk> he is a heart patient and diabetic kindly help you on this ?\"], [\"what will happen to pregnant having increase sugar level in blood ?\"], [\"how does diabetes mellitus affect your body ?\"], [\"is <unk> is complication of diabetes mellitus ?\"], [\"is there a medically approved food list for diabetics ?\"], [\"what are healthy fasting blood glucose levels ?\"], [\"is nick jonas okay with having diabetes ?\"], [\"diabetes is the result of a disturbance in the product of ?\"], [\"where do diabetics normally inject insulin ?\"], [\"what will you expect to happen if glucose levels in the blood are low ?\"], [\"how does insulin relate to diabetes mellitus ?\"], [\"the description of diabetes ?\"], [\"how are diabetes and obesity related ?\"], [\"where can you buy <unk> for diabetes ?\"], [\"what happens in there is less secretion of insulin ?\"], [\"is ninety seven to one hundred and twenty blood sugar level within normal range for a non diabetic ?\"], [\"what is leptin secreted by ?\"], [\"is gluten free good for diabetics ?\"], [\"what is insulin ?\"], [\"what day did nick jonas <unk> his diabetes ?\"], [\"when to start treatment for diabetes ?\"], [\"low-fat food options are an important consideration for type two diabetes patients ?\"], [\"where can i find diabetic meal plans ?\"], [\"the average blood sugar over the past three weeks is measured by what test ?\"], [\"how works fasting blood sugar ?\"], [\"what do diabetic test strips cost ?\"], [\"should you use a blood glucose test daily if you have too much insulin ?\"], [\"what surgical treatment can be used for diabetes ?\"], [\"what is the author is <unk> about type two diabetes ?\"], [\"what is the function of <unk> insulin ?\"], [\"what is the leading cause of diabetes in america and how can i prevent getting it ?\"], [\"how are blood glucose levels tested ?\"], [\"can you massage on a diabetic ?\"], [\"what should your blood sugar be two hrs after eating for a diabetic ?\"], [\"why is it important to diagnose diabetes early ?\"], [\"what can you eat while you are diabetic and pregnant ?\"], [\"what do you need everyday if you have type one diabetes ?\"], [\"why does diabetes affect sport ?\"], [\"how long does it take insulin to bring down a type one diabetic ?\"], [\"what type of food are diabetics meant to eat ?\"], [\"why do diabetics feel hungry all the time ?\"], [\"diabetes is a key public health challenge ?\"], [\"at what amount are blood glucose levels seen as regular or irregular ?\"], [\"is diabetes <unk> ?\"], [\"effectiveness of positive communication in the recovery of diabetic patients in <unk> ?\"], [\"how many diabetics are there in the uk ?\"], [\"how does diabetes insipidus compare with <unk> ?\"], [\"how do you use dna technology to help treat diabetes ?\"], [\"who should be screened for diabetes ?\"], [\"which groups of people are high at becoming diabetic why is this ?\"], [\"diabetic deserts ?\"], [\"where can you help for diabetes ?\"], [\"can <unk> speech be a symptom of diabetes ?\"], [\"what is the hormone involved in diabetes ?\"], [\"does <unk> <unk> plants good for high blood and diabetic person ?\"], [\"what tests are used to diagnose type two diabetes ?\"], [\"why a diabetic must take their insulin as an injection ?\"], [\"what might be the cause of <unk> weight loss ?\"], [\"does the body of a diabetic not produce enough insulin or can not properly use the insulin it does make ?\"], [\"what ingredients should be avoided when making diabetic cookie recipes ?\"], [\"you are diabetic you have lost weight fast on low glycemic food how can you gain some ?\"], [\"can insulin be made from cat urine ?\"], [\"when after eating what is normal blood sugar ?\"], [\"does high blood sugar affect the memory and brain skills ?\"], [\"diet meal plans for people with diabetes ?\"], [\"what is diabetic recipe where can i get the recipe ?\"], [\"how long can a diabetic live ?\"], [\"nick jonas <unk> on diabetes ?\"], [\"why does diabetes cause sweet urine ?\"], [\"what is normal blood sugar level in known diabetic person ?\"], [\"how is the digestive system affected by diabetes ?\"], [\"can diabeties kill you ?\"], [\"how fast do sleeping pills work ?\"], [\"what pancreatic hormone functions to lower blood glucose levels ?\"], [\"what is the best natural treatment for adult diabetes ?\"], [\"what is two hours after breakfast blood glucose level ?\"], [\"what age can you get diabetes ?\"], [\"what diet should a diabetic follow ?\"], [\"how many people in america are affected with diabetes ?\"], [\"how does diabetes look like on your body ?\"], [\"how old was nick jonas when he got diabetes ?\"], [\"what does a diabetic diet include and exclude ?\"], [\"what is the effect of low sugar in the blood ?\"], [\"what is <unk> diabetes mellitus ?\"], [\"what are some meals for diabetics ?\"], [\"can taking cinnamon help your blood glucose levels ?\"], [\"can sodas cause diabetes ?\"], [\"what should a diabetic avoid to eat ?\"], [\"what causes type one diabetes ?\"], [\"you have erectile <unk> syndrome from being a type two diabetic will <unk> work on your symptons will it make you have an erect penis ?\"], [\"diabetes mellitus is a group of metabolic diseases characterized by hypoglycemia ?\"], [\"which hormone is most involved in <unk> <unk> ?\"], [\"does smoking cause diabetes two ?\"], [\"the <unk> score measures the fitness level of <unk> health of newborns or <unk> sugar level of diabetics ?\"], [\"can you loose part of your body by having diabetes ?\"], [\"what foods would be known as diabetic foods ?\"], [\"explain the health education for diabetic patient ?\"], [\"where can i find the best diabetic food ?\"], [\"can you take paracetamol if you have diabetes ?\"], [\"is it difficult for diabetics to lose weight ?\"], [\"what is the best diabetic medication ?\"], [\"what foods cause diabetes ?\"], [\"what increases blood sugar ?\"], [\"what is it like to have diabetes ?\"], [\"how is diabetes spread among humans ?\"], [\"detecting prediabetes early ?\"], [\"what is a good diabetes meal plan ?\"], [\"what should your sugar be not diabetic ?\"], [\"how is it living with diabetes ?\"], [\"what is the doctor in diabetes ?\"], [\"what is associated with type one diabetes ?\"], [\"why should you not take too much sugar and butter ?\"], [\"how many testing strips do diabetics use daily ?\"], [\"how much vodka can a diabetic drink ?\"], [\"how does the body respond to a increase in the blood sugar concentration ?\"], [\"can a diabetic eat apple ?\"], [\"how is corn affect in diabetic ?\"], [\"what is the best diet for a diabetic ?\"], [\"what are some of the symptoms for diabetes mellitus ?\"], [\"what is the peak time when administering regular insulin and nph insulin ?\"], [\"is pure cane sugar cause diabetes ?\"], [\"what happens when a person suffers from excessive thirst and urination and his urine contains excess glucose ?\"], [\"name of drugs used in retinopathy ?\"], [\"can diabetics get nose rings ?\"], [\"can a person suddenly acquire diabetes ?\"], [\"is diabetes an illness ?\"], [\"what type of substance is insulin ?\"], [\"if your mother and father have diabetes then will you get diabetes ?\"], [\"what vitamins are recommended for a diabetic ?\"], [\"can diabetes medicine cause drowsiness ?\"], [\"what is <unk> ?\"], [\"the ph of blood is usually maintained at about ?\"], [\"can a diabetic do a <unk> tattoo ?\"], [\"what organ under the stomach produces insulin and enzymes ?\"], [\"how can you become a diabetes educator ?\"], [\"what is a good cookie recipe for diabetics ?\"], [\"diabetes type one and type two ?\"], [\"what does frequent blood sugar levels over one hundred and sixty after eating mean ?\"], [\"can you stop sugar diabetes when you are a kid ?\"], [\"does ingestion of glucose raise blood sugar faster than sucrose ?\"], [\"can giving insulin to someone who is hypoglycemic cause them to go into a coma ?\"], [\"why do you smell <unk> after you <unk> ?\"], [\"which health problem is associated with the development of type two diabetes ?\"], [\"can your body <unk> if you have diabetes ?\"], [\"can diabetics drink decaf coffee ?\"], [\"what diabetic menu is considered the best ?\"], [\"how do you know if your dessert recipe is good for diabetics ?\"], [\"is it bad if a twelve year old girl is always hungry ?\"], [\"does the <unk> vaccine affect blood sugars of diabetics ?\"], [\"can <unk> workers have diabetes ?\"], [\"can diabetics have sugar alcohol ?\"], [\"what causes lack of fresh water ?\"], [\"how are eyes affected by diabetes mellitus ?\"], [\"what is the relation between diabetes and hair fall ?\"], [\"can you be <unk> from diabetes ?\"], [\"what alternative treatments can help <unk> the symptoms of diabetes ?\"], [\"what kind of doctor specializes in diabetes ?\"], [\"what two parts of the body are affected by alcohol ?\"], [\"what possible problems can result from poor food choices when you have diabetes ?\"], [\"how common is the disorder of diabetes ?\"], [\"what is a <unk> for pedicure ?\"], [\"how could i tell if my <unk> has got diabetes ?\"], [\"how do you know if it is a type one or type2 diabetes ?\"], [\"what can be the outcome of edema ?\"], [\"how is diabetes <unk> ?\"], [\"what are the normal ranges of blood glucose for <unk> and fasting samples ?\"], [\"what organ is unable to take up glucose in diabetes mellitus ?\"], [\"what is antiseptic paste ?\"], [\"how is wheat grass therapy taken ?\"], [\"diabetes levels ?\"], [\"do your bones grow as you get older ?\"], [\"what deserts are recommended for diabetics ?\"], [\"your big toes are numb and <unk> on the outside tip ?\"], [\"can insulin be given iv ?\"], [\"what is the cause of diabetic neuropathy ?\"], [\"how is diabetic ketoacidosis diagnosed ?\"], [\"who did nick jonas give his diabetes necklace to ?\"], [\"when blood sugar levels rise what is secreted ?\"], [\"where can i find list of diabetic eating guidelines ?\"], [\"what causes the acetone breath seen in type one diabetes ?\"], [\"how do you perform <unk> glucose test ?\"], [\"what is the purpose of checking diabetes sugar levels ?\"], [\"what blood sugar levels are normal ?\"], [\"i think i have diabetes , what are clues ?\"], [\"how does high blood sugar levels affect <unk> between the cells and the blood ?\"], [\"what diseases are caused from lack of calcium in your diet ?\"], [\"what signs and symptoms are possible indicators of diabetes mellitus ?\"], [\"can a thin person be diabetic ?\"], [\"what part of the human digestive system produces insulin to control sugar in the blood ?\"], [\"what is the test for feline diabetes diagnosis ?\"], [\"can you drink regularly <unk> with cinnamon for diabetic two ?\"], [\"what are average blood sugar numbers ?\"], [\"<unk> . <unk> , i <unk> ?\"], [\"is the <unk> diet safe for diabetics ?\"], [\"what is the normal glucose levels of a teenager ?\"], [\"is juvenile diabetes o genetic disorder ?\"], [\"what are the different <unk> a type one diabetes person has ?\"], [\"where can i find diabetic diet plans ?\"], [\"what is the difference between antibiotics and <unk> ?\"], [\"why do people do <unk> ?\"], [\"can a person act drunk from high blood sugar ?\"], [\"why did you get diabetes ?\"], [\"blood sugar is five point six in morning ?\"], [\"what are the different types of insulin currently available for diabetes patients ?\"], [\"can constipation cause a rise in blood sugar ?\"], [\"do nick jonas have diabete ?\"], [\"is <unk> good for diabetes ?\"], [\"what cereals are recommended for diabetics ?\"], [\"why does your arm ache after sleeping ?\"], [\"what is insulin is functions ?\"], [\"is an a1c of six point six high in a diabetic ?\"], [\"where can i find restaurants with diabetic menus ?\"], [\"what are the <unk> of high insulin ?\"], [\"information about diabetes ?\"], [\"what could cause twitching in you thumb and head ?\"], [\"is organic red rice good for diabetic patient ?\"], [\"your father is diabetic since eighteen yrs since last one month he has developed swelling in <unk> <unk> <unk> of pain at insertion of muscles in hand <unk> ?\"], [\"what types of medication are currently available for diabetes ?\"], [\"can diabetic take <unk> ?\"], [\"what is insulin an example of ?\"], [\"how do you test your blood sugar levels ?\"], [\"what naturally causes your blood sugar levels to increase ?\"], [\"what is normal range for oral glucose challenge test ?\"], [\"what is the <unk> blood reading for a diabetic ?\"], [\"how many people have diabetes in the united states ?\"], [\"what is a normal blood sugar range for a diabetic ?\"], [\"what does diabetes do in the body ?\"], [\"what are some of the best diabetic recipes suitable for diabetic patients ?\"], [\"what are side effect of insulin resistant ?\"], [\"what can you do to restore normal color to a black leg from diabetes ?\"], [\"does <unk> raise or lower blood sugar blood <unk> concentration ?\"], [\"is there a blood sugar chart for comparing blood sugar values ?\"], [\"can you get type one diabetes at twenty four years old ?\"], [\"thirty unit of forty iu insulin is equal to how much unit of one hundred iu insulin ?\"], [\"does joint pain occurs because of diabetes ?\"], [\"what are the top causes of diabetes high blood sugar ?\"], [\"what are uncommon symptoms of diabetes ?\"], [\"what type of food is good for people with diabetes to eat ?\"], [\"list out the food for diabetic patient ?\"], [\"what foods should diabetes avoid besides sugar ?\"], [\"what causes red blood cells count to decrease ?\"], [\"how often can you take <unk> <unk> <unk> ?\"], [\"what medical conditions can lead to diabetes ?\"], [\"what does two hundred and ninety seven as a blood sugar means ?\"], [\"is hypertension a risk factor of diabetes ?\"], [\"what controls the sugar metabolism ?\"], [\"what two hormones in the human body control blood sugar levels ?\"], [\"how is diabetes spread from person to person ?\"], [\"does diabetes go away ?\"], [\"creating a healthy diabetic food list ?\"], [\"the trouble with weight ?\"], [\"what acts antagonistically to insulin ?\"], [\"how clean does your <unk> need to be before you can join the air force ?\"], [\"which type of diabetes is due to a deficiency in the secretion of antidiuretic hormone ?\"], [\"what is involved in the treatment of diabetes ?\"], [\"in the one thousand , nine hundred and twenty <unk> physician <unk> <unk> treated drug addiction by <unk> inducing comas through <unk> of what <unk> drug ?\"], [\"fruits are ideal diabetic dessert ?\"], [\"what can diabetics eat for breakfast ?\"], [\"what does a count of twenty five thousand of white blood cells indicate ?\"], [\"when is worlds diabetes day celebrated ?\"], [\"what is the importance of exercise in diabetes ?\"], [\"what term describes an abnormally high concentration of glucose in the blood ?\"], [\"how common is diabetes in the us ?\"], [\"what type of diabetes is the most common ?\"], [\"what disease is associated with blood sugar ?\"], [\"what is the medical term meaning accumulation of ketone bodies in the blood results of the condition diabetes mellitus ?\"], [\"is fruit good for diabetics ?\"], [\"how can you die from diabetes ?\"], [\"what is the disease that results from lack of insulin ?\"], [\"what hormone increases blood sugar levels ?\"], [\"why can mammals get diabetes ?\"], [\"what tests may be done when diabetic neuropathy is <unk> ?\"], [\"<unk> blood sugar levels effect weight loss ?\"], [\"what are the symptoms for diabetes type one ?\"], [\"where can i find diabetes supplements online ?\"], [\"does beetroot affect diabetes ?\"], [\"what causes teeth gum and tongue numbness especially while doing resistance training ?\"], [\"should a person with diabetes type one smoke cigarettes ?\"], [\"what is an omnipod ?\"], [\"what foods are appropriate for a diabetic ?\"], [\"how long will you live with type two diabetes ?\"], [\"what are typical ingredients in healthy easy recipes for diabetics ?\"], [\"why would someone have diabetic neuropathy ?\"], [\"is diabetes curable ?\"], [\"where can one find information on a cure for diabetes ?\"], [\"what is the normal blood glucose range ?\"], [\"what is the use for an insulin syringe ?\"], [\"if using a insulin syringe instead of tb <unk> much tb solution should be drawn up ?\"], [\"have no money need insulin bad medicaid wont cover it ?\"], [\"what controllable risk factors do type one diabetes ?\"], [\"how high is high for a diabete ?\"], [\"why do diabetics inject insulin into the skin and not directly into the bloodstream ?\"], [\"does type two diabetes cause insulin deficiency or insulin resistance ?\"], [\"diabetic supplies online ?\"], [\"what is type one diabetes also called ?\"], [\"where can i find information about diabetic ketoacidosis ?\"], [\"are tomatoes good for diabetes ?\"], [\"did nick jonas consider leaving the jonas brothers when he found out that he had diabetes ?\"], [\"what foods are included in diabetes food chart ?\"], [\"what is level two diabetes ?\"], [\"what is relationship of diabetes and <unk> ?\"], [\"what are the normal sugar levels ?\"], [\"is finger <unk> helpful for diabetics ?\"], [\"what fruit can you eat with type two diabetes ?\"], [\"it is not too late ! ?\"], [\"should people who have diabetes eat corn ?\"], [\"can mental illness be as clearly defined as a physical illness such as diabetes ?\"], [\"are contour blood test strips <unk> the same as <unk> ?\"], [\"what molecule is produced in the liver during <unk> or type one diabetes ?\"], [\"is diabetic patent used honey in warm milk ?\"], [\"type two diabetes is known as ?\"], [\"does insulin have to be taken daily ?\"], [\"is london dry gin good for a diabetic ?\"], [\"is diabetes a sex-linked abnormality ?\"], [\"is god diabetic ?\"], [\"scientific name for diabetes ?\"], [\"how do you reduce the effects of diabetes from your body ?\"], [\"does having one hundred and forty <unk> mean you are diabetic after a fasting test and can a <unk> injection ten hours prior to the test influence the results ?\"], [\"diagnosis of diabetes ?\"], [\"why must diabetics use their fingertips to test their blood sugar ?\"], [\"are you born with type two diabetes ?\"], [\"are my <unk> ages nine and four at risk for juvenile diabetes since the youngest sleeps a lot and rarely is active and they both have diets limited to fatty high carb fried foods ?\"], [\"what medications are available orally for diabetes ?\"], [\"do you let a diabetic person having a seizure <unk> ?\"], [\"what are the foods that can cause diabetes ?\"], [\"what will happen to a person if they stop taking insulin suddenly ?\"], [\"you are a diabetic patient and your age is thirty nine can you conceive or any possibility to become pregnant ?\"], [\"what might be the cause of rapid weight loss ?\"], [\"is diabetes mellitus a congenital abnormality ?\"], [\"what kind of juice is good for a diabetic ?\"], [\"diabetes medication ?\"], [\"what <unk> have diabetes ?\"], [\"what can you do to help with low blood sugar ?\"], [\"type ii diabetes ?\"], [\"diabetic foods to eat low fat , good carbs ?\"], [\"what dessert recipes are safe for diabetics ?\"], [\"what would increase insulin secretion in type ii diabetes ?\"], [\"is it safe to have an operation on your foot if you have diabetes ?\"], [\"where might i find <unk> for a diabetic diet which use foods that can be prepared easily at home ?\"], [\"what kind of diet do i need to follow if i am borderline diabetic ?\"], [\"why is that you some time feel real weak and your blood sugar is low but when you get tested for blood sugar problem they find nothing ?\"], [\"do you have to change your diet to take slim fast ?\"], [\"how do sugar affect your memory ?\"], [\"what is the relationship between cholesterol and heart disease ?\"], [\"in which <unk> episode does <unk> discover his diabetes ?\"], [\"being a diabetic is it possible to inject insulin in your <unk> and get a sufficient effect from it ?\"], [\"insulin is released into the blood when ?\"], [\"which is the most reliable blood sugar test for a diabetic ?\"], [\"what are the common diabetes symptoms ?\"], [\"do is and do <unk> to prevent spread of communicable diseases ?\"], [\"can you get a tattoo when your diabetic ?\"], [\"how diabetes are caused ?\"], [\"who discovered the treatment for type one diabetes ?\"], [\"diabetes mellitus in <unk> ?\"], [\"will <unk> cause diabetes ?\"], [\"is one hundred and forty bad blood sugar reading in morning ?\"], [\"what is fluid and electrolyte balance and how is it maintained ?\"], [\"does insulin raise blood sugar ?\"], [\"fasting sugar range is one hundred and twenty four and post lunch is one hundred and ninety ?\"], [\"can you bring your blood sugar down instantly with <unk> at home ?\"], [\"why are drinking water levels often so low ?\"], [\"what would be a good diabetic meal plan for me to follow ?\"], [\"what are some recipes for sweets other than diabetic cakes ?\"], [\"how many people have type two diabetes in the world ?\"], [\"what types of foods can diabetics eat ?\"], [\"what is diabetes <unk> ?\"], [\"what is a blood sugar crash ?\"], [\"the production of too much insulin is typical of ?\"], [\"why is diabetes called diabetes mellitus ?\"], [\"what are the best food habits for eating with diabetes ?\"], [\"is honey good for diabetic person ?\"], [\"looking for advice about a a new dietary regiment of breakfast . ?\"], [\"can dogs get diabetes ?\"], [\"if a girl weighs one hundred and thirty pound and is a ten year old <unk> grader but her family has a history of over weight family member you are really scared you do not want to be diabetic but i cant <unk> <unk> ?\"], [\"did laura ingalls wilder have diabetes ?\"], [\"how are diabetic foot infections diagnosed ?\"], [\"why is insulin released into the bloodstream ?\"], [\"does having diabetes affect the results of a blood alcohol test ?\"], [\"what are the most common glucose levels ?\"], [\"can the <unk> in a <unk> pool raise blood sugar in a diabetic person ?\"], [\"how man people in america have diabetes ?\"], [\"is diabetes capitalized in a sentence ?\"], [\"does exercise help lower your blood sugar level ?\"], [\"what does a diabetic grocery list composed of ?\"], [\"is the cause of diabetes environmental or hereditary ?\"], [\"can fast food add diabetes symptoms to a persons health ?\"], [\"what is the root word of diabetes ?\"], [\"what would happen if blood sugar levels of a diabetic who failed to inject insulin ?\"], [\"what is the life cycle of glucose ?\"], [\"how often do i need to check my glucose level if i have been diagnosed with diabetes ?\"], [\"where can i buy a blood sugar levels chart ?\"], [\"can people with diabetes eat dark chocolate ?\"], [\"eating carbs with type two diabetes ?\"], [\"how long does insulin last in your <unk> ?\"], [\"what <unk> pathology is caused by diabetes ?\"], [\"diabetes guidelines ?\"], [\"can talking give you diabetes ?\"], [\"what are the symptoms of type one diabetes ?\"], [\"<unk> easy explain how glucagon and insulin work together to maintain a relatively constant blood sugar level ?\"], [\"what can cause changes to blood sugar ?\"], [\"does <unk> food cause diabetes ?\"], [\"is blood sugar of one hundred and twelve high ?\"], [\"what do you do if you get diabetes ?\"], [\"does exercise help lowering sugar levels in type one diabetes ?\"], [\"what is the best bread for type two diabetes ?\"], [\"how do blood glucose meters work ?\"], [\"what is the reason why you draw first regular insulin before the nph insulin ?\"], [\"what is in the blood of untreated diabetes ?\"], [\"if a person is not diabetic why would he have ketones in the urine ?\"], [\"what is an example of a person with type two diabetes who can tolerate a lot of carbohydrates ?\"], [\"if you have a six month old baby - had gestational diabetes with that pregnancy - and just found out that you are pregnant again is it safe to stay pregnant ?\"], [\"does watermelon increase blood sugar ?\"], [\"how you can diagnosis diabete ?\"], [\"what is the <unk> for insulin ?\"], [\"can you drink with diabetes ?\"], [\"are doctors who have specialized in nephrology currently in high <unk> ?\"], [\"explain the cause of diabetes and how its controlled ?\"], [\"what are the two types of diabetes mellitus ?\"], [\"how do you cure diabetes type one ?\"], [\"can diabetics drink <unk> ?\"], [\"could you get diabetes from grapes ?\"], [\"why diabetes is more prevalent in men than women ?\"], [\"is three hundred and seven considered a normal rate for your blood sugar ?\"], [\"how do diet and exercise help reverse diabetes ?\"], [\"does diabetes cause loss of <unk> in dogs ?\"], [\"what organs malfunction causes diabetes ?\"], [\"can a diabetic safely get a tattoo on leg ?\"], [\"is diabetes type two infectious ?\"], [\"how does insulin controls blood sugar levels ?\"], [\"what is the scientific name for the bacteria that causes diabetes ?\"], [\"when mixing insulin do you put the air in the cloudy or the clear first ?\"], [\"how do you gain weight with diabetes ?\"], [\"what is the normal <unk> of glucose in 100ml of blood ?\"], [\"what is a common drug used to treat a non insulin dependent diabetes ?\"], [\"where to find diabetes food lists ?\"], [\"is it possible to reverse diabetes ?\"], [\"does lactulose raise your blood sugar ?\"], [\"where could one find information on diabetic medical supplies ?\"], [\"can diabetics have fruits ?\"], [\"did a scientist get paid to stop research on diabetes ?\"], [\"can diabetic take date ?\"], [\"what is the best medicine for diabetes ?\"], [\"can diabetics eat chocolate ?\"], [\"how does diabetes affect a person ?\"], [\"what would happen if you had no liver ?\"], [\"when eating six meals a day does it take a while for your body to adjust and is it normal to feel like your blood sugar drops even quicker between meals ?\"], [\"what is <unk> ?\"], [\"who does <unk> <unk> like ?\"], [\"is diabetes a genetic factor ?\"], [\"what tests results indicate cystitis ?\"], [\"what can cure low blood sugar ?\"], [\"is there a cure for hypoglycemia ?\"], [\"can phenylalanine cause diabetes ?\"], [\"what are two symptoms of diabetes mellitus ?\"], [\"diabetes recipes on the web ?\"], [\"healthy tips for diabetes ?\"], [\"who founded that insulin is in your body ?\"], [\"what are glucose tablets ?\"], [\"what happens if you smoke and have diabetes ?\"], [\"what are some safe dessert <unk> when following a diabetic diet ?\"], [\"what does the lack of insulin affect ?\"], [\"what is a good diet and exercise plan to avoid getting diabetes ?\"], [\"what type <unk> do you have when your blood sugar is high ?\"], [\"would nick jonas write to a little seven year old boy that just got type one diabetes and is a huge fan ?\"], [\"what research has been done on the <unk> diet ?\"], [\"is it just irritation down there if i feel like i have go the bathroom quite a bit and doctor says i have no infection or probably do not have diabetes ?\"], [\"what is the normal blood sugar level ?\"], [\"do you know any info about hemoglobin a1c test ?\"], [\"the advantages of a diabetic diet plan ?\"], [\"how is diabetes treated through <unk> healing ?\"], [\"can you get your tongue pierced if you are a type one diabetic ?\"], [\"best food to eat when blood sugar gets low ?\"], [\"what is the scientific name for diabetes ?\"], [\"can you help a three hundred and eight pound type ii diabetic to lose weight ?\"], [\"how does diabetes affect a1c levels ?\"], [\"can people with diabetes make hemoglobin to control their blood sugar ?\"], [\"how can <unk> smoking affect the sugar level of a diabetic person ?\"], [\"is there more risk to take the <unk> virus having type one diabetes ?\"], [\"who was the first to discover diabetes ?\"], [\"where can i find out more about diabetic diet menu ?\"], [\"what do you have to watch what you are doing with diabetes ?\"], [\"is type two diabetes curable ?\"], [\"how does type one diabetes affect your lifestyle ?\"], [\"diabetes affects the bodys ability to do what ?\"], [\"is eating peanut butter and graham <unk> a good snack for a type one diabetic ?\"], [\"what does it mean when your a1c level is eleven point two ?\"], [\"is dibetes a disease ?\"], [\"what is the role of the diet and exercise in the controlling of hypertension and diabetes ?\"], [\"is type one diabetes curable ?\"], [\"how is type one diabetes mellitus similar to starvation ?\"], [\"why is it important for a type one diabetic to regulate insulin meals and exercise ?\"], [\"how does a diabetic log book helps a type one diabeties patient ?\"], [\"you been hearing a lot about cures for diabetes type two does any one know something that really works ?\"], [\"what is worse to have during pregnancy <unk> or having diabetes ?\"], [\"can type ii diabetes turn into type i diabetes ?\"], [\"where can i find the diabetic food guide ?\"], [\"how does diabetes affect the endocrine system ?\"], [\"do you have to have a prescription to purchase blood glucose testing strips ?\"], [\"what are the most common pre diabetes symptoms ?\"], [\"does pre diabetes hurt me how do i treat its symptoms does treating it hurt me at all ?\"], [\"does late dinner cause of diabetes ?\"], [\"what causes low <unk> in the blood ?\"], [\"how you can control diabetes ?\"], [\"what is a simple dinner recipe that would work with a diabetic menu plan ?\"], [\"what are the specific medications given to diabetics ?\"], [\"high concentration of glucose in the blood ?\"], [\"where can i find more information on diabetes treatments ?\"], [\"could diabetes be a mental illness you are born with or can developed do to extreme depression or <unk> <unk> and anger ?\"], [\"what is a normal blood glucose level ?\"], [\"which type of diabetes is insulin-dependent ?\"], [\"can you give a <unk> in a diabetic patient ?\"], [\"how does blood transport glucose to the cells ?\"], [\"how can you contract diabetes ?\"], [\"why drink fluids when you are sick ?\"], [\"how does type two diabetes affect the nervous system ?\"], [\"home medical care : treating diabetes ?\"], [\"what are some signs and symptoms of diabetes in children ?\"], [\"insulin-dependent diabetics depend upon what microorganisms ?\"], [\"in what secondary ways can alcohol affect your blood sugar level ?\"], [\"what are effects of metronidazole when you are diabetic ?\"], [\"why does eating slowly prevents type two diabetes ?\"], [\"can diabetic patient drink sugarcane juice ?\"], [\"how long is the life span for people with diabetes ?\"], [\"what causes a constant itch on your right side that you constantly have to rub ?\"], [\"where can i find information on a diabetic food plan ?\"], [\"have many people died because of diabetes ?\"], [\"does diabetes show in drug tests ?\"], [\"do they check for diabetes when they do a cbc ?\"], [\"what is an acceptable blood sugar range after eating for a diabetic person ?\"], [\"can you be <unk> for diabetics ?\"], [\"how much sugar can a diabetic <unk> ?\"], [\"what is lantus ?\"], [\"who invented insulin for diabetes ?\"], [\"do diabetics need more sleep than normal people ?\"], [\"have nervous system problems for the past seven years and a diabetic patient . find difficult to write with steady hand . please tell the remedy ?\"], [\"does diabetes patient can eat <unk> ?\"], [\"what is the type two diabetes ?\"], [\"what should you do if you are diabetic and have a fever and why ?\"], [\"what type of exercise do you need to do for diabetes ?\"], [\"can you take tylenol pm if you are diabetic ?\"], [\"can you prevent type one diabetes ?\"], [\"how do you check blood sugar levels ?\"], [\"is stress linked to type ll diabetes ?\"], [\"treatment for diabetic retinopathy ?\"], [\"tests to find diseases in the human body ?\"], [\"can someone taking pills for diabetes use urine therapy ?\"], [\"what would you say about a1c range ?\"], [\"how is a person is daily life affected by diabetes ?\"], [\"how many people died because of diabetes before insulin was discovered ?\"], [\"does diabetes effect the immune system ?\"], [\"what is the treatment for type one diabetes ?\"], [\"what is the best way to treat diabetis ?\"], [\"what is the best diet for diabetics ?\"], [\"what is the best diet for diabates ?\"], [\"where does your body is nature insulin come from ?\"], [\"what happens if your blood glucose level increases ?\"], [\"is diabetes transferable by kissing ?\"], [\"what are <unk> treatments for insulin resistance ?\"], [\"what liquor is best for diabetes ?\"], [\"what is precision <unk> glucose meter <unk> ?\"], [\"how many days can you <unk> your papaya from fruit set ?\"], [\"how is diabetes spreads among human ?\"], [\"where can you find a list of foods that diabetics should never eat ?\"], [\"what is the molecular basis of type one diabetes ?\"], [\"natural cure for diabetes ?\"], [\"what diets are there for people with diabetes ?\"], [\"where can i find more information on diabetes diet for <unk> ?\"], [\"can diabetes cause organ shut down ?\"], [\"what are some things i can do to prevent diabetes ?\"], [\"what illness would be indicated by weight loss and low sodium levels in the blood ?\"], [\"do regular insulin same with actrapid insulin ?\"], [\"what treatments are available for the pain caused by diabetic neuropathy ?\"], [\"if you know your blood sugar is low how do you know if you are a diabetic ?\"], [\"can you be a <unk> if you have type one diabetes ?\"], [\"where can we find more information on a vegetarian diet for a diabetic ?\"], [\"insulin can be orally administered to diabetic people or not ?\"], [\"how long does it take to get rid of diabetes ?\"], [\"how blood sugar level is controlled when there is not enough glucose in the body ?\"], [\"where online can i find blood sugar level table ?\"], [\"what are the natural remedies for diabetes ?\"], [\"is it safe for diabetics to wear compression <unk> ?\"], [\"my cat has diabetes and has lost a lot of muscle from his legs and can not walk ?\"], [\"use of paneer booti in <unk> ?\"], [\"what causes diabetes type one ?\"], [\"damage to the retina of the eye caused by diabetes mellitus is known as diabetic what ?\"], [\"does running decrease blood sugar levels in a human body ?\"], [\"how can bacteria be used to help people that are diabetic ?\"], [\"is <unk> root good for diabetics ?\"], [\"meal planning for diabetics ?\"], [\"the pharmacological effects of administering insulin to a hyperglycemic patient is an example of increased ?\"], [\"how does <unk> lead to hyperglycemia ?\"], [\"can glucometers go through <unk> screening ?\"], [\"what is a good tasting diabetic drink ?\"], [\"what are the exercises for diabetics ?\"], [\"what parts of the body are affected by diabetes ?\"], [\"how do you stop someone who you really care about that has anger management problems ?\"], [\"how does someone obtain type one diabetes ?\"], [\"will taking <unk> the night before getting a series of fasting blood tests for b12 deficiency and lyme disease and diabetes and cholesterol affect the outcome of these tests ?\"], [\"where can i find some great recipes for diabetics ?\"], [\"are there adverse affects from <unk> <unk> with diabetes ?\"], [\"what measures can be taken to <unk> starvation in the world ?\"], [\"why does a diabetic person fell cold ?\"], [\"three types of <unk> ?\"], [\"what type of diabetes is it if it runs in the family ?\"], [\"how can we control the levels of high sugar in a diabetic person or patient ?\"], [\"diabetic food chart ?\"], [\"what are some good ideas for diabetic foods ?\"], [\"what if you took insluin but was not a diabetic ?\"], [\"what is the healthy normal blood sugar range for a person who is predisposed to diabetes ?\"], [\"what are the side effects not taking diabetes medication ?\"], [\"how do you know if your <unk> is diabetic ?\"], [\"why are keytones dangerous for diabetics ?\"], [\"what are the normal results of a fasting blood sugar test ?\"], [\"are there <unk> companies for diabetic meals in <unk> ?\"], [\"how much pasta should a diabetic eat ?\"], [\"how severe is nick jonas is diabetes ?\"], [\"how can you deal with diabetes ?\"], [\"where in the body is diabetes found ?\"], [\"does your diabetes medication prevent you from getting pregnant ?\"], [\"causes of frequent urination ?\"], [\"how many diabetics are there in the world ?\"], [\"monitor your blood sugar ?\"], [\"what two factors influence blood glucose concentration ?\"], [\"where can i buy a diabetic pump ?\"], [\"how much sugar does your body really need ?\"], [\"where can one find information on the best diabetic desserts ?\"], [\"what hormones inhibit insulin ?\"], [\"why does obesity cause diabetes ?\"], [\"what is a disease in which the body does not produce or properly use insulin ?\"], [\"is it bad to eat noodles when you have diabetes ?\"], [\"which country or state has the lowest heart <unk> type two diabetes and cancer overall health risks ?\"], [\"is glucose related to diabetes ?\"], [\"how do you know if your blood sugar is low ?\"], [\"what happens to health if someone sleeps right after eating an orange ?\"], [\"why would a person with ketoacidosis have the following heavy breathing polydipsia and tachycardia ?\"], [\"what is the prognosis for patients with diabetic ketoacidosis ?\"], [\"how many carbs for a diabetic per day ?\"], [\"many diabetics are now using insulin that was made by certain bacteria the ability of these bacteria to produce insulin was most likely the result of ?\"], [\"what should your blood sugar be thirty min after eating ?\"], [\"which member of the jonas brother band has diabetes ?\"], [\"how does one keep diabetes in check ?\"], [\"how can you control your diabetes ?\"], [\"what is one important dietary step to help treat type two diabetes mellitus ?\"], [\"can a diabetic drink alcohol ?\"], [\"where do you get insulin from ?\"], [\"what are treatments for high glucose levels ?\"], [\"what is the daily intake of cholesterol for diabetic patient ?\"], [\"will insulin kill if injected into vein ?\"], [\"what are types of diabetes ?\"], [\"where can i find a blood sugar levels chart online ?\"], [\"what organs are involved in diabetes ?\"], [\"how many sugars should a diabetic have at one meal ?\"], [\"what does <unk> and classification mean ?\"], [\"what is the anesthesia code for <unk> for a depressed <unk> <unk> simple <unk> for a patient with mild diabetes well controlled ?\"], [\"is it okay to swallow semen if you have diabetes ?\"], [\"what is the effect of sugar on <unk> ?\"], [\"does age affect your blood sugar ?\"], [\"what is the abbreviation for postprandial blood sugar ?\"], [\"what is the normal range in a blood <unk> test ?\"], [\"are there any natural herbs that can cure diabetes ?\"], [\"what is diabetes ?\"], [\"how do you maintain good blood sugar levels throughout the day ?\"], [\"do <unk> affect diabetes ?\"], [\"does glycosuria not occur in diabetes insipidus ?\"], [\"what are the symptoms of high or low blood sugar ?\"], [\"could diabetes spread ?\"], [\"what is a bone marrow ?\"], [\"what are the medicine for diabetic person ?\"], [\"do diabetes sufferers develop a short temper ?\"], [\"does an std increase the risk of type two diabetes ?\"], [\"what are some signs and symptoms for diabetes ?\"], [\"how is insulin resistance diagnosed ?\"], [\"what increases blood calcium levels ?\"], [\"is diabetes type two something to be worried about ?\"], [\"are sweeteners bad for diabetics ?\"], [\"which finding on a urinalysis is commonly due to diabetes ?\"], [\"what is an example of a good diabetic breakfast ?\"], [\"can frequent urination be a sign of diabetes ?\"], [\"what s type three diabetes ?\"], [\"can a diabetic get <unk> ?\"], [\"how does the first stage of diabetes affect second stage of diabetes ?\"], [\"what are the preparation of different types of insulin ?\"], [\"does high sugar cause kidney problems ?\"], [\"what is regular insulin made of ?\"], [\"what are the symptoms of type two diabetes ?\"], [\"what causes a diabetic to have frequent urination ?\"], [\"what are common ways to lower blood sugar spikes ?\"], [\"explain the are the three types of diabetes ?\"], [\"what was the diagnosis for the black death ?\"], [\"is it safe for diabetics to work out alone ?\"], [\"is there insulin pills are available ?\"], [\"what are <unk> ?\"], [\"why glucose essential nutrient ?\"], [\"where is help if you are obese ?\"], [\"what are the latest nutrition guides for diabetics ?\"], [\"what is the best food for diabetic cats ?\"], [\"does nick like having diabetes ?\"], [\"what is insulin made by ?\"], [\"diabetic food ?\"], [\"what is the highest level for blood sugar test for a dot physical ?\"], [\"a feature of ketosis is that it ?\"], [\"which fruit diabetic patients can eat <unk> ?\"], [\"how do you explain calorie counting to diabetic clients ?\"], [\"why are my <unk> sore and growing at thirty years ?\"], [\"where can one find blood sugar levels charts ?\"], [\"how do you give yourself type one diabetes ?\"], [\"is there such thing as a diabetic cookie recipe ?\"], [\"is there anyway to reduce the effects of type two diabetes symptoms ?\"], [\"how many grams of sugar are recommended per day for type two diabetics ?\"], [\"where can you get a type two diabetes plan ?\"], [\"what measures can be taken to prevent diabetes in adults ?\"], [\"what does a diabetes blood test for ?\"], [\"is there a surgery for type two diabetes to temporarily stop the need of insulin ?\"], [\"do you have to take medication for diabetes ?\"], [\"does <unk> raise blood sugars ?\"], [\"as a diabetic on metformin , what number should i consider high enough to seek a hospital ?\"], [\"can diabetes go away ?\"], [\"do you know where to find diabetes recipes ?\"], [\"what are the differences between different types of diabetes testing equipment ?\"], [\"can diabetic foot problems be treated pain free ?\"], [\"how does insulin bring sugar down to normal levels after a meal ?\"], [\"what does a type one diabetic eat on weight watchers ?\"], [\"what does human insulin do ?\"], [\"a healthy diet can control type two diabetes ?\"], [\"what consists of a diabetic retinopathy treatment ?\"], [\"what branch of science that deals with diabetes ?\"], [\"how much white rice can you eat if you are diabetic ?\"], [\"what causes the pacreas to stop making or producing insulin ?\"], [\"is diabetes one curable ?\"], [\"what is low levels of glucose in the blood called ?\"], [\"which organs can be affected by diabetes ?\"], [\"how long can a <unk> with type one diabetes live till ?\"], [\"does hear heartbeat in ear have to do with blood sugar level ?\"], [\"what is the most known reason for the cause of diabetes ?\"], [\"how can i get good information on avoiding the onset of diabetes ?\"], [\"i have extra large red blood cells and need a bone marrow <unk> what can be causing this and why do i need a bone marrow <unk> ?\"], [\"how do you know if diabetes is an organism ?\"], [\"what does a stable or increasing level of cea in the blood indicate ?\"], [\"explain why diabetes is classified as a noninfectious disease ?\"], [\"what are the causes of gestational diabetes ?\"], [\"will having a family history of diabetes <unk> a person <unk> a career as a pilot in the major commercial <unk> industry ?\"], [\"can people with type one diabetes use herbalife ?\"], [\"does type two diabetes cause severe itching in the groin area ?\"], [\"what type of diabetes can be managed and disappear if you <unk> a healthy diet ?\"], [\"what should you do when you have high sugar level ?\"], [\"what is paneer booti ?\"], [\"is <unk> your toes a symptom of diabetes ?\"], [\"how do genes play <unk> in getting diabetes ?\"], [\"how do you <unk> tiredness with diabetes ?\"], [\"where can i find more information diabetic meals ?\"], [\"potassium levels in the body are regulated by what ?\"], [\"what will happen if you stop taking insulin ?\"], [\"what are the symptoms of diabetes type one ?\"], [\"is diabetes a <unk> ?\"], [\"how does the body absorb glucose ?\"], [\"what is the function of <unk> ?\"], [\"what is the effect of alcohol on diabetes type two ?\"], [\"what snacks are good for diabetics ?\"], [\"what is the normal number for blood sugar ?\"], [\"can eating too much fruit cause diabetes ?\"], [\"what does the american diabetes association do ?\"], [\"what year did jay cutler get diabetes ?\"], [\"can you take tylenol if your diabetic ?\"], [\"do a head injury cause diabetes ?\"], [\"which type of diabetes mellitus is an insulin resistance disorder gestational type one or type two ?\"], [\"what will happen to someone with type one diabetes if they go too long without an insulin shot ?\"], [\"what are some diet and exercise tips for diabetic men that do not like to exercise and love to eat unhealthy foods ?\"], [\"what are the goals of diabetes treatment ?\"], [\"losing weight for health reasons ?\"], [\"what is daily carb allowed for diabetic ?\"], [\"what is the effect of alcohol on blood glucose level ?\"], [\"is hyper acidity natural to diabetic ?\"], [\"does type two diabetes mellitus have autoimmune destruction of beta cells in pancreas ?\"], [\"an <unk> <unk> at the unit and <unk> that he was burned in a cooking accident last night as you assess the burn what indicates the burn is <unk> ?\"], [\"can diabetic people have carrots ?\"], [\"what type is the genetic disorder of the diabetes ?\"], [\"where does insulin travel in the body ?\"], [\"who does diabetes affect the most ?\"], [\"i need some new <unk> for a new diet can you give me the best diet plans ?\"], [\"what is a normal blood sugar range for a healthy adult ?\"], [\"is ther any way to find more information about diabetes and diet ?\"], [\"can people with diabetes eat proteins ?\"], [\"where can you get information on living with diabetes ?\"], [\"is one hundred and twelve glucose high ?\"], [\"how many people die from diabetic complications of hypoglycemia ?\"], [\"what type of hereditary condition is <unk> <unk> ?\"], [\"what can one do with a medtronic insulin pump ?\"], [\"<unk> makes insulin because ?\"], [\"who discovered diabeties ?\"], [\"is insulin the hormone that raises blood sugar levels ?\"], [\"explain why there is too little sugar in the blood if the person exercises more than usual ?\"], [\"do people with diabetes have high blood glucose levels ?\"], [\"what effect do high triglycerides have on long term health of a person ?\"], [\"does sugar give you diabetes ?\"], [\"what is a sample diet for a diabetic ?\"], [\"when was insulin first produced from bacteria ?\"], [\"is <unk> juice good for diabetics ?\"], [\"how would i know if i was diabetic ?\"], [\"what is the best restaurant chain for a diabetic ?\"], [\"does alcohol affect blood sugar levels ?\"], [\"if your <unk> had diabetes can you ?\"], [\"what are the insulin indication ?\"], [\"what are the benefits of pregnancy <unk> ?\"], [\"what can you do at home for your cat that you think has diabetes ?\"], [\"does sex have an affect on blood sugar in a person with type two diabetes will it cause it to elevate ?\"], [\"how many carbs should a diabetic woman have per day ?\"], [\"is diabetes real ?\"], [\"what is a good test to see if you have diabetes ?\"], [\"prevention measure of diabetes ?\"], [\"who made the human body ?\"], [\"what disease occurs when the islets of langerhans fails to produce enough insulin ?\"], [\"what kind of foods do diabetics need in their diets ?\"], [\"what foods should a diabetic eat ?\"], [\"is diet control an effective treatment of diabetes ?\"], [\"when blood glucose levels are high ?\"], [\"can a person with diabetes help control it by lifestyle changes ?\"], [\"where can i find a diabetic diet chart ?\"], [\"how can you tell the difference between a drunk and a diabetic ?\"], [\"what are some examples of a diabetic meal plan ?\"], [\"why <unk> patients feel hunger ?\"], [\"what is <unk> ?\"], [\"is <unk> your tongue a dominant or recessive trait ?\"], [\"which sugar is found in greater than normal amounts in the blood of a diabetic ?\"], [\"what measurement is used to measure blood sugar levels ?\"], [\"where can you find <unk> for diabetes ?\"], [\"will eating dates increase blood sugar ?\"], [\"what exactly is diabetic food ?\"], [\"what does ada stand for ?\"], [\"what are common type two diabetes symptoms ?\"], [\"why is pus in penis . could this be due to diabetes ?\"], [\"how do diabetics monitor their blood sugar level ?\"], [\"what are three types of diabetes ?\"], [\"is urinating a lot a sign of diabetes ?\"], [\"blood sugar level is one hundred to two hundred after eatting a meal . is two hundred to high ?\"], [\"a scientist makes an educated guess that diabetes is caused by genetic factors his guess is an example of an ?\"], [\"how can i get diabetes ?\"], [\"how do you calculate triglyceride level ?\"], [\"what does a <unk> management plan look like ?\"], [\"causes of <unk> point pupils ?\"], [\"what the best diet for type two diabetes ?\"], [\"what is a good treatment for diabetes ?\"], [\"does type one diabetes produce insulin ?\"], [\"how much insulin should you take if blood sugar is two hundred and forty one ?\"], [\"why are children developing diabetes ?\"], [\"what precautions should an individual take when they are diagnosed as being pre-diabetic ?\"], [\"why does the signs and symptoms of diabetes appear together ?\"], [\"how are diabetes contracted ?\"], [\"what is the allowable sugar intake a day for a diabetic ?\"], [\"how can a doctor determine the type of diabetes one may have just from a sample of blood ?\"], [\"your <unk> rate is thirty six what does this mean ?\"], [\"what do people with type two diabetes have to eat for dinner ?\"], [\"does soda cause diabetes ?\"], [\"what are some general rules for a diet diabetic ?\"], [\"what can one use to help gout pain in hand ?\"], [\"can diabetes be transferred sexually ?\"], [\"finding free diabetic recipes ?\"], [\"how do you know you have got a <unk> on someone ?\"], [\"where can i find a good diet plan for diabetics ?\"], [\"is glucagon a protein ?\"], [\"diabetes mellitus is a disorder of ?\"], [\"how do you reduce <unk> and <unk> by recombinant insulin ?\"], [\"which two hormones control your blood sugar levels ?\"], [\"can you buy diabetic cookbooks in bookstores or do you have to send for them ?\"], [\"is wine high in sugar ?\"], [\"if you start a continuous infusion of one hundred and fifty units of insulin in <unk> of normal saline solution if the prescribed dose is eight insulin units per hour what is the flow rate in ml per hour ?\"], [\"are diabetes mellitus and diabetes the same ?\"], [\"what parts of the human body is effected by diabetes type one ?\"], [\"is diabetes severe than a stroke ?\"], [\"what are some side effects of standard diabetes medicine ?\"], [\"can a diabetic eat apples ?\"], [\"does gin and tonic affect blood sugar levels ?\"], [\"how do you reverse diabetes ?\"], [\"how does diabetes travel ?\"], [\"how does a type one diabetic become insulin resistance ?\"], [\"what is the normal glucose level in a six year old ?\"], [\"what disease has the symptoms of obesity diabetes facial hair growth on female <unk> thin fine hair on head <unk> fluid retention and i had to have an <unk> <unk> replacement surgery ?\"], [\"what are the effect of diabetes has on the kidney ?\"], [\"how do you keep your diabetes under control ?\"], [\"is guava a good fruit for diabetes ?\"], [\"where can i find a glucose level chart online ?\"], [\"how do you treat or cure diabetes ?\"], [\"what are the basic symptoms of high blood sugar ?\"], [\"-- -- <unk> the most appropriate <unk> to represent data on blood glucose level of one hundred patient ?\"], [\"are women who are type one diabetics allowed to <unk> children ?\"], [\"what is a normal level of triglycerides and what are the implications of having abnormal levels ?\"], [\"how does diabetes affect your cells ?\"], [\"what can happen to you if your sugar keep going <unk> three hundred you are type two ?\"], [\"what are some cookbooks of diabetic diet recipes ?\"], [\"does <unk> raise blood sugar levels ?\"], [\"what disease does a pandan leaves cure ?\"], [\"can mental illness be as clearly defined as a <unk> illness such as diabetes ?\"], [\"diabetic foot ulcer ?\"], [\"can you move to canada from the uk with diabetes ?\"], [\"is potato chip good for diet ?\"], [\"how can you determine if you are type two diabetic ?\"], [\"are chips bad for a diabetic ?\"], [\"what happens if you have too much sugar ?\"], [\"are there sample diabetic diets online ?\"], [\"physical characteristics for diabetes ?\"], [\"why do diabetics need a balanced diet ?\"], [\"is insulin a sugar ?\"], [\"is a blood glucose level of one hundred and thirty eight too high ?\"], [\"is sugar bad for your heart ?\"], [\"is oil good for diabetic people ?\"], [\"what is the normal serum bicarbonate level ?\"], [\"are there diabetes meals i can buy instead of cooking ?\"], [\"what is a good <unk> for diabetics to use for sore feet ?\"], [\"how can diabetes <unk> ?\"], [\"can eating fresh cherries control blood glucose level ?\"], [\"what foods contribute to diabetes ?\"], [\"where can i get info on a diabetic diet ?\"], [\"why do afro-americans suffer from such diseases as hypertension diabetes cancer and heart failure than any other race of people ?\"], [\"how do you get diabetes in your life ?\"], [\"where can i find some diabetic cookie recipes ?\"], [\"how long can a diabetic patient survive ?\"], [\"why do diabetics type ii get so <unk> and mean . after forty three years of <unk> we are about to split up . what can i do ?\"], [\"glucose fasting = ninety eight ?\"], [\"drinking a lot of water but urinating normally diabetes ?\"], [\"what is the study of diabetes mellitus called ?\"], [\"what is a list of foods that are high in sugar ?\"], [\"what does diabetes affect ?\"], [\"what foods can make it worse if you have diabetes ?\"], [\"what is the incidence of type one diabetes ?\"], [\"i really want diabetes but tell me the truth do i ?\"], [\"are peanuts okay for diabetics ?\"], [\"does sugar have anything to do with getting diabetes ?\"], [\"how can diabetes in pregnancy be prevented ?\"], [\"how can diabetes lead to hypertension ?\"], [\"how is a person with diabetes melitus affected ?\"], [\"insulin and human growth hormone are two examples of products produced by what ?\"], [\"what vitamins good for diabetes ?\"], [\"how do you bring down blood sugar ?\"], [\"does adrenaline increase blood sugar ?\"], [\"what condition is caused by too much insulin and too little sugar in the blood ?\"], [\"how can glucose change into <unk> ?\"], [\"what happens to the body when insulin no longer works ?\"], [\"what are three classic signs of hyperglycemia ?\"], [\"where can one get free diabetes education ?\"], [\"when does insulin is released ?\"], [\"when did juvenile diabetes become type one diabetes ?\"], [\"what are causes of fasting hyperglycemia in diabetes ?\"], [\"is there a new insulin for type two ?\"], [\"how can diabetes be treated ?\"], [\"can diabetes affect the feet ?\"], [\"do you need math for diabetes ?\"], [\"where can i find more information on free diabetic diet ?\"], [\"safe lower limits for diabetic patients with normally controlled levels ?\"], [\"is <unk> safe for diabetics to eat ?\"], [\"type two diabetes is known as non insulin dependent diabetes ?\"], [\"what is the site of attack for type one diabetes ?\"], [\"what is the difference between insulin and diabetics ?\"], [\"is easy blood blisters a symptom of diabetes ?\"], [\"how would someone <unk> to the magazine diabetes care ?\"], [\"what does diabetic mean ?\"], [\"what are some foods to serve to someone on a diabetic diet ?\"], [\"what ways you can detect diabetes ?\"], [\"a scientists makes an educated guess that diabetes is caused by genetic factors his guess is an example of a ?\"], [\"how to tell your own normal blood glucose ?\"], [\"can <unk> cause blurred vision ?\"], [\"does lack of insulin will cause high blood glucose levels ?\"], [\"is <unk> is harmful for a diabetic man ?\"], [\"will the nutrisystem diabetic diet do any harm to diabetics ?\"], [\"did nick jonas ever have diabetes ?\"], [\"if someone has diabetes and they have gangrene can it be cured ?\"], [\"why you should not ignore the signs of diabetes ?\"], [\"can diabetes be <unk> ?\"], [\"can you develop diabetes from eating too many carbs ?\"], [\"how many kids are diagnosed with diabetes each day ?\"], [\"are mood swings diabetes symptoms ?\"], [\"who is more at risk of developing diabetic foot infections ?\"], [\"sweet foods that can cause of diabetes ?\"], [\"what are the effects of <unk> on blood sugar ?\"], [\"does <unk> agents cause diabetes ?\"], [\"how is genetically engineered insulin made ?\"], [\"do you get diabetes if you eat too much sweets when you have diabetes ?\"], [\"what does diagnosis means ?\"], [\"why do you have to use insulin when you have diabetes ?\"], [\"why is there not a cure for diabetes ?\"], [\"is diabetes a preexisting condition ?\"], [\"diabetes increases your likelihood of suffering from ?\"], [\"when did laura ingalls wilder get diabetes ?\"], [\"illness starting with the letter k ?\"], [\"does <unk> cause blood sugar to increase ?\"], [\"is it true that when blood glucose levels rise insulin is released by the <unk> to lower the level ?\"], [\"why is the build up of lactic acid painful ?\"], [\"what can cause numbness in finger tips ?\"], [\"what is the normal range blood sugar level ?\"], [\"what is the maximum blood sugar level ?\"], [\"what happens if you are diabetic and you eat candy ?\"], [\"to what group are olives <unk> in food exchange lists ?\"], [\"when do doctors induce labor when you have gestational diabetes ?\"], [\"how has advanced technology helped type one diabetes ?\"], [\"where can i find foods that diabetics should avoid ?\"], [\"how many new cases of diabetes ?\"], [\"can you get lupus from swine ?\"], [\"what is the price of a lantus <unk> insulin injection pen at walmart ?\"], [\"glycosuria is a failure in ?\"], [\"use cookbooks to prepare healthy and delicious diabetic meals ?\"], [\"is it possible for you to have diabetes if no one else in your family has it ?\"], [\"what can cause an insulin reaction ?\"], [\"did miley <unk> up with nick because of diabetes ?\"], [\"how does hot <unk> affect blood sugar ?\"], [\"is one hundred and seventy one high sugar for a test ?\"], [\"what causes different sweet smelling urine ?\"], [\"what is happening to someones blood glucose levels right before a race ?\"], [\"is insulin a substance produced by genetically engineered bacteria ?\"], [\"what are some side effects from diabetes drugs ?\"], [\"diabetes medications ?\"], [\"what are normal diabetes levels ?\"], [\"why does diabetics build up <unk> on feet ?\"], [\"do plants get diabetes ?\"], [\"how do <unk> <unk> and <unk> differ ?\"], [\"can a cat die of diabetes ?\"], [\"<unk> , sugar free recipes for the elderly ?\"], [\"is diabetes <unk> ?\"], [\"where can i go to get information for stomach bypass diabetes ?\"], [\"curing diabetes ?\"], [\"is selling diabetic test strips legal ?\"], [\"what is the best way to treat the problem of underweight ?\"], [\"what is the <unk> of diabetic ?\"], [\"can children get diabetes ?\"], [\"where does insulin travel to ?\"], [\"where can i purchase or copy the best menu for diabetic diet guidelines ?\"], [\"does diabetic neuropathy treatment have any risks ?\"], [\"keep an eye on your levels ?\"], [\"can diabetes be controlled by nutrilite protein powder ?\"], [\"what is the insulin used for <unk> patients ?\"], [\"how does cinnamon help with diabetes ?\"], [\"what is the difference between candy and diabetic candy ?\"], [\"why do you feel hungry when glucose levels fall in the blood ?\"], [\"why cant the pancreas make insulin when you have type one diabetes ?\"], [\"glucose level one hundred and eleven ?\"], [\"does <unk> raise blood sugar levels ?\"], [\"are <unk> product are safe to be use especially in a pregnant women ?\"], [\"how <unk> would it take to become a diabetic if blood sugar is one hundred and fourteen ?\"], [\"can you be diabetic and not take medication ?\"], [\"what is <unk> diabetes ?\"], [\"what are some of the most common diabetes symptoms i should look out for ?\"], [\"what is diabetes type two mellitus ?\"], [\"what is the best drugs for diabetes ?\"], [\"which arteries are frequently <unk> in the diabetic patient ?\"], [\"normal value of pus cells in urine ?\"], [\"you are a forty year old diabetic you <unk> a temp of one hundred and one and just had a kidney infection when should you call your doctor ?\"], [\"does type one diabetes use a hormone called insulin ?\"], [\"can males with type one diabetes have babies ?\"], [\"how many gram of sugar are ok in a one thousand , eight hundred ada diet ?\"], [\"how can i tell if my glucose meter is <unk> reading my sugar levels ?\"], [\"does <unk> <unk> have diabetes ?\"], [\"will glucose tablets reduce your blood <unk> aic ?\"], [\"what sugar is found in human blood ?\"], [\"what percentage of people in mexico have diabetes ?\"], [\"is there type three diabetes ?\"], [\"which of these illness is a disease in which blood sugar levels are above normal ?\"], [\"can barley lower blood sugar ?\"], [\"what are the two types of <unk> ?\"], [\"what type of fermentation takes place in your muscles when you exercise vigorously ?\"], [\"what does insulin do the blood sugar levels ?\"], [\"does the body store glucose in a form of glycogen ?\"], [\"why do people get diabetes from being obese ?\"], [\"how many units of insulin is point zero five ml ?\"], [\"should you be worried about getting diabetes or cancer from a friend who has one of those diseases ?\"], [\"what are some stevia dessert recipes ?\"], [\"what fruits induce diabetes ?\"], [\"when blood levels of glucose amino acids and insulin are high and glycogenesis is occurring in the liver the body is in the ?\"], [\"can you get examples of diabetic foods ?\"], [\"what controls glucose levels in the blood ?\"], [\"treatments for diabetes ?\"], [\"blood sugar at five hundred what do you do ?\"], [\"what is the blood sugar level to be diabetic ?\"], [\"do you check your glucose levels ?\"], [\"what substance <unk> the lives of diabetics ?\"], [\"is there a diabetic dessert recipe <unk> lots of chocolate and fairly easy to make ?\"], [\"what eating tips would be appropriate for a diabetic ?\"], [\"why do people suffer from diabetes ?\"], [\"what online site has gestational diabetes recipe is ?\"], [\"can diabetics pass on a uti ?\"], [\"what is the normal blood sugar range of an insulin dependent diabetic ?\"], [\"famous people with type one diabetes ?\"], [\"<unk> that increase blood sugar levels ?\"], [\"can a puppy have diabetes ?\"], [\"what does the <unk> <unk> mean in regards a blood test ?\"], [\"what if you take insulin and are not a diabetic ?\"], [\"besides medical treatment with insulin what else can you do everyday to minimize your chance of getting diabetes ?\"], [\"what are the effects of poor eating habits ?\"], [\"how you can care for your feet if you are diabetic ?\"], [\"is noni good for diabetics ?\"], [\"<unk> challenges with a diabetes diet for <unk> ?\"], [\"does marijuana help with type one diabetes ?\"], [\"is sugar free <unk> ok to drink with type two diabetes ?\"], [\"what will happen if you eat too much chocolate ?\"], [\"which one of these is a communicable <unk> or diabetes ?\"], [\"describe diabetes mellitus type two in your own words ?\"], [\"when is regular insulin used ?\"], [\"what are the symptoms and treatment of hypoglycemia and hyperglycemia ?\"], [\"where can i buy a diabetic cookbook ?\"], [\"living with diabetes ?\"], [\"what is the normal level of blood sugars in the morning ?\"], [\"<unk> <unk> root as a diabetic activity ?\"], [\"can you get diabetes from smoking ?\"], [\"can you eat peanuts if you have gestational diabetes ?\"], [\"what is the condition during diabetes that makes you have very large babies ?\"], [\"can high glucose levels cause tiredness ?\"], [\"can diabetics drink beer ?\"], [\"what should my diabetic dad order when eating out ?\"], [\"why metaformin tablets as well as insulin injections ?\"], [\"how many units of insulin is zero . <unk> ?\"], [\"how are blood glucose levels regulated in the body ?\"], [\"is diabeties curable ?\"], [\"is <unk> the same as glucose ?\"], [\"do bacteria prevent diabetes ?\"], [\"are there any cereals for diabetics with lower levels of sugar in them ?\"], [\"can diabetic patients eat <unk> ?\"], [\"what cause diabetes ?\"], [\"how you can prevent diabetes ?\"], [\"is diabetes be a dangerous illness ?\"], [\"what is the name of the hormone that lowers blood sugar level ?\"], [\"who is affected by juvenile diabetes ?\"], [\"best diabetic diet for people with diabetes ?\"], [\"what are the diseases caused by radiation ?\"], [\"can diabetic people <unk> ?\"], [\"can diabetics use lidocaine <unk> ?\"], [\"what is a good diet for someone with arthritis ?\"], [\"blood sugar levels are lowered by the ?\"], [\"how is diabetes spread ?\"], [\"who would need to use a continuous glucose monitor ?\"], [\"where can i buy diabetic food that is not too expensive ?\"], [\"do you gain weight when you have diabetes ?\"], [\"what should a diabetics carbohydrate intake be ?\"], [\"what are good foods for those with diabetes ?\"], [\"what does post prandial blood sugar mean ?\"], [\"is diabetes treatable ?\"], [\"what are dangerous blood sugar levels ?\"], [\"what is the function of <unk> ?\"], [\"what part of the human body system does hyperglycemia belong to ?\"], [\"what types of foods is on the menus for a diabetic ?\"], [\"is pumpkin indicated for type two diabetic patients ?\"], [\"is diabetes a cardiovascular disease ?\"], [\"will <unk> health <unk> cover the cost of diabetic supplies ?\"], [\"your sugar stays high a lot but when it is normal for a few days your whole body <unk> with fluid what could cause this ?\"], [\"can you get so many insulin injections that your diabetes is cured ?\"], [\"is sugar in toothpaste a danger for diabetics ?\"], [\"i am thirteen do i have diabetes ?\"], [\"is it safe for diabetics to drink aspartame ?\"], [\"can a person that has diabetes eat <unk> ?\"], [\"is it illegal for diabetics to eat sugar ?\"], [\"what are the signs and symptoms of a person suffering from a diabetic coma ?\"], [\"why does someone who suffers from diabetes need insulin injections ?\"], [\"how can you help people that has diabetes ?\"], [\"what exactly is pediatric diabetes ?\"], [\"if <unk> of an insulin injection was given instead of <unk> what would happen ?\"], [\"what is the approximate <unk> of insulin ?\"], [\"what causes type one diabetes mellitus caused by ?\"], [\"who is at increased risk for developing type one and type two ?\"], [\"what happens when blood glucose level decreases ?\"], [\"im diabetic and am experiencing numbness and tingling in your lower left leg and foot what is it ?\"], [\"how do you determine if one is diabetic ?\"], [\"is nick jonas worried of having diabetes ?\"], [\"what part of the digestive system produces insulin ?\"], [\"does putting cinnamon in your coffee help with blood sugar ?\"], [\"what do i have to do when i do not have normal blood sugar values ?\"], [\"what term best describes a failure of the body is cells to <unk> to insulin ?\"], [\"what can cause a diabetic sugars to rise ?\"], [\"how does diabetes affect <unk> ?\"], [\"what does sugar do to your body ?\"], [\"blood sugar average for a person who weighs one hundred lbs ?\"], [\"how is the insulin measured on the syringe ?\"], [\"what kind of supplies do diabetic is use ?\"], [\"what does two hundred and three as a blood sugar means ?\"], [\"your husband is diabetic has to fast does he take his meds in the morning it says take with food ?\"], [\"can a type two diabetic eat mango ?\"], [\"safe diabetic diet plans ?\"], [\"how do you make simple syrup with sodium saccharin ?\"], [\"diabetic menu ?\"], [\"what research has been done on vitamin a ?\"], [\"can you die from diabetes mellitus ?\"], [\"did miley cyrus break up with nick jonas because nick had diabetes ?\"], [\"blood sugar levels are lowered by ?\"], [\"what is the effect of ethanol on blood sugar ?\"], [\"how can hereditary diseases be treated ?\"], [\"level of sugar allowed in urine to pass dot physical ?\"], [\"what are three ways to reduce the risk of diabetes ?\"], [\"what is the disease characterized by low blood sugar level ?\"], [\"<unk> of diabetes ?\"], [\"is omega three good for diabetes ?\"], [\"how can you recognize diabetes ?\"], [\"why are your ball tingling ?\"], [\"what two factors mainly influence <unk> <unk> ?\"], [\"is <unk> safe for diabetics ?\"], [\"when a person with diabetes is acting unusual it is best to . ?\"], [\"what is a bolus used for in medicine ?\"], [\"how is insulin genetically engineered ?\"], [\"where should your sugar levels be ?\"], [\"is <unk> safe for diabetic person ?\"], [\"can high blood sugar make you dizzy and <unk> ?\"], [\"what carbohydrates do not take long to digest and cause blood sugar levels to rise quickly ?\"], [\"where do i need to go to find out more about diet for diabetic ?\"], [\"what is type two diabetes ?\"], [\"what are steps taken for diabetes management ?\"], [\"what special dietary needs does someone with diabetes require ?\"], [\"how do you pronounce <unk> ?\"], [\"what is the main reason for high glucose levels ?\"], [\"is there any sort of special diet a person with diabetes two should have ?\"], [\"diabetes mellitus is a disease of which gland ?\"], [\"if a diabetic passes out do you give smelling salts ?\"], [\"when was nick jonas diagnosed with diabetes ?\"], [\"what are the major symptoms for type two diabetes ?\"], [\"you have diabetes what can you do ?\"], [\"can you get diabetes by eating no sugar at all ?\"], [\"is type two diabetes rarer than type one ?\"], [\"what does medicaid pay for diabetic shoes in each state ?\"], [\"which diabetes require insulin injections ?\"], [\"what is the level of glucose in a cat ?\"], [\"which pigment cause <unk> in bronze diabetes ?\"], [\"what people are at risk for diabetes ?\"], [\"why wheat is better than rice in diabetes ?\"], [\"what are early signs of diabetes in children ?\"], [\"insulin how is it used ?\"], [\"what are the benefits of diabetes and exercise ?\"], [\"can diabetes raise blood alcohol content ?\"], [\"can diabetes effect eye sight ?\"], [\"how does an <unk> leak occur in a pancreatectomy patient ?\"], [\"what are the symptoms of type one diabetes ?\"], [\"what is the life expectancy of someone with diabetes ?\"], [\"which blood test is used by patients with diabetes to measure the average blood glucose level over the previous three to four months ?\"], [\"is it safe for a diabetic to have bypass surgery ?\"], [\"is there a cure for type one diabetes ?\"], [\"what are the effects of not treating a diabetic foot <unk> ?\"], [\"what are some good diabetes supplies ?\"], [\"what type of diabetes that requires injection of insulin ?\"], [\"what percentage of americans have diabetes but are unaware they have the disease ?\"], [\"what is the role of insulin in regulating blood sugar levels ?\"], [\"i have been diagnosed with diabetes i am a fourteen year old girl is it a normal feeling to just want to give up ?\"], [\"what kind of deals exists for the <unk> type computer ?\"], [\"which organ is involved in diabetes ?\"], [\"can hand numbness be caused by diabetes ?\"], [\"how can you avoid diabetic ?\"], [\"breakfast - the key to healthy diabetic meal plans ?\"], [\"why can not diabetics drink liquor ?\"], [\"will ayurveda help someone who has diabetes ?\"], [\"why is there an increased risk of toxicity in later stages of renal failure ?\"], [\"where can i find information about diabetic eating ?\"], [\"can <unk> raise blood sugars ?\"], [\"can diabetes be passed on to your baby ?\"], [\"what can <unk> a doctor that you might have diabetes ?\"], [\"can you have increased hunger instead of having increased thirst when having symptoms of diabetes ?\"], [\"how do you know if your blood sugar levels are low ?\"], [\"how does one get diabetes ?\"], [\"how much metaformin do you take ?\"], [\"what type diabetes characterized by absence of insulin <unk> ?\"], [\"what do you need when you have diabetes ?\"], [\"what is the recommended carbohydrate intake for an active man ?\"], [\"what tissue in addition to the liver is taken from the donor for an orthotopic transplantation ?\"], [\"what is the main idea of it is time to stop <unk> fat people for their size ?\"], [\"does steve redgrave have diabetes ?\"], [\"after sixty four can you get diabetes ?\"], [\"where can you get diabetes ?\"], [\"im a forty five yr old male diabetic with a enlarged <unk> gland can it kill you ?\"], [\"my boyfriend is in the late stages of alcoholism he cant eat and is extremely thin . most of his caloric intake is from <unk> . doctors suspect he is diabetic now . does that happen often ?\"], [\"what research has been done on diabetes mellitus ?\"], [\"can hypoglycemic kill you ?\"], [\"does nick jonas really have diabetes ?\"], [\"what do people with diabetes do not produce enough ?\"], [\"what are the <unk> fruits for diabetic blood sugar ?\"], [\"can the diabetic exchange diet be used by teenagers ?\"], [\"how do i control my diabetes ?\"], [\"which gland fails to produce enough of its hormone in the disease diabetes mellitus ?\"], [\"can diabetics be in <unk> ?\"], [\"what precautions need to be taken when doing a gastric acid <unk> ?\"], [\"what cook <unk> have the best food list for diabetics ?\"], [\"can you lose type two diabetes ?\"], [\"what does the code <unk> mean on an medtronic mini med insulin pump ?\"], [\"can a diabetic dive and perform in <unk> activities ?\"], [\"what is the risk of exercise with diabetes ?\"], [\"how common is diabetes in america ?\"], [\"which laboratory procedure has made possible te development of bacteria that can <unk> human insulin ?\"], [\"how can you lower your blood sugar quickly ?\"], [\"is gangrene painful ?\"], [\"what is the best diet meal plan for type two diabetis ?\"], [\"what are some diabetes super foods ?\"], [\"what signs should i look for to get testing for diabetes ?\"], [\"what are the signs of diabetes ?\"], [\"where can i find a good diabetes diet ?\"], [\"what should i know if i am diagnosed with diabetes ?\"], [\"ayurveda medicine for diabeties ?\"], [\"what countries have low diabetes ?\"], [\"where can i find more information on diabetic meals ?\"], [\"what research has been done on <unk> ?\"], [\"what are recent books with tasty diabetic food recipes ?\"], [\"is a blood sugar of two hundred too high ?\"], [\"what are low and high blood sugar levels ?\"], [\"conditions associated with type two diabetes ?\"], [\"what can i eat in a diabetic diet ?\"], [\"what are some symptoms of type two diabetes ?\"], [\"what does food or fluids correct in a diabetic emergency ?\"], [\"are diabetics in pain all the time ?\"], [\"who are brittle diabetics ?\"], [\"neuropathy diabetes ?\"], [\"how is diabetes transferred ?\"], [\"what are the negative effects of massage to a person with diabetes ?\"], [\"is diabetes insipidus dominant or recessive ?\"], [\"can teenagers get type two diabetes ?\"], [\"is metformin one of the diabetes drugs that you can gain weight from ?\"], [\"what is the primary organ involved with type one diabetes mellitus ?\"], [\"where can i find ideas for diabetes diet foods ?\"], [\"what is the nature of diabetes ?\"], [\"what is a typical diabetic diet ?\"], [\"how many times a week should you go to the gym to <unk> up ?\"], [\"which type of diabetes needs insulin injections ?\"], [\"what are some specific type one diabetes diet ?\"], [\"how does a diabetic control their diabetes ?\"], [\"would you get diabetes if you eat a lot of junk food ?\"], [\"what are the two types of shock that diabetics go into ?\"], [\"where can i go to find stroke symptoms ?\"], [\"choose blood glucose strip brands carefully ?\"], [\"how do you avoid low blood sugar ?\"], [\"what are the advantages of gene therapy for the treatment of cystic fibrosis ?\"], [\"should diabetics eat sugar in large amounts or in moderation ?\"], [\"does diabetic <unk> <unk> go away ?\"], [\"cases of diabetes mellitus in the philippines ?\"], [\"what are the two main body systems are affected by diabetes ?\"], [\"should i eat eggs if i am on a diabetic diet ?\"], [\"is haemoglobin test a sugar test ?\"], [\"what happens to insulin during gastroenteritis ?\"], [\"does nick jonas have <unk> diabetes ' or diabetes ?\"], [\"what is in simple english diabetic <unk> ?\"], [\"a few days ago i was tested for lyme disease . along with the blood test test my doctor tested my blood sugar . before going to the doctor i had stopped at a <unk> donuts and had a cinnamon raisin <unk> with a sweetened peach ice tea . my doctor called to ?\"], [\"what is normal blood sugar level after eating ?\"], [\"why do people care that nick jonas has diabetes but still <unk> other people who also have type one diabetes ?\"], [\"is there a cure for diabetes type two coming up <unk> soon ?\"], [\"what vegetables can a diabetic eat ?\"], [\"which term describes a life-threatening complication of diabetes mellitus ?\"], [\"why is injecting insulin an essential part of the daily regime for most people with diabetes ?\"], [\"how can i maintain my blood sugar level with diabetes ?\"], [\"what is a diabetic emergency ?\"], [\"when should a diabetic take insulin ?\"], [\"where can you find a list of food <unk> in <unk> ?\"], [\"diabetic menu planner ?\"], [\"what is the normal human glucose level ?\"], [\"kids with diabetes ?\"], [\"target cells of glucagon and insulin ?\"], [\"how do i read my diabetic meter ?\"], [\"what enhances the action of insulin in the body ?\"], [\"what happens when your in a coma ?\"], [\"what can i do to help prevent diabetes ?\"], [\"which food are the best choices for treating a patient <unk> a hypoglycemic low blood sugar reaction ?\"], [\"what are the different complications of type two diabetes ?\"], [\"what will happen if a diabetic takes medications without eating ?\"], [\"where to get free diabetic supplies ?\"], [\"why do both major types of diabetes occur ?\"], [\"what are symptoms of hypoglycemia , and how low is too low ?\"], [\"what <unk> of the population is affected by diabetes ?\"], [\"how much liquor does it take to kill a diabetic ?\"], [\"if you are diabetic and suffering frequent <unk> low blood sugar requiring emergency aid should the doctor prescribe metformin and lower insulin since metformin lowers blood sugar levels further ?\"], [\"staying positive with diabetes ?\"], [\"is <unk> okay for a diabetic ?\"], [\"what are the tips you can share for a person with diabetes and running ?\"], [\"is three hundred and eighty four to high in being a diabetic ?\"], [\"what drug is used for diabetic hypertensive ?\"], [\"why is insulin <unk> ?\"], [\"could you have diabetes at thirteen ?\"], [\"how long does it take for blood sugar to decrease if not on medication ?\"], [\"the body of a diabetic does not produce enough of the hormone ?\"], [\"is it hard to sleep when you have diabetes ?\"], [\"<unk> <unk> has diabetes like nick could they be friends like that ?\"], [\"what are typical dangerous blood sugar levels for a diabetic ?\"], [\"will ohio medicaid cover gastric bypass surgery ?\"], [\"how bad is it to have glucose at one hundred and forty three ?\"], [\"what is a reliable diabetic menu planner ?\"], [\"why does diabetes cause sweet smelling urine ?\"], [\"does sugar raise blood sugar ?\"], [\"what are <unk> insulins ?\"], [\"how to <unk> off insulin ?\"], [\"can you cure for diabetes ?\"], [\"how does insulin signal a cell to take in glucose ?\"], [\"what is the cpt code for gestational diabetes ?\"], [\"what do you get when you eat a lot of sugar foods ?\"], [\"what may be the cause of diabetic neuropathy ?\"], [\"are there any websites that can help me find diabetic menu planning ?\"], [\"what are some medical terms <unk> to diabetes ?\"], [\"is there a diabetic meal plan that is easy to use when you are away from home ?\"], [\"if neither of your parents have diabetes can you get it ?\"], [\"why insulin does not take <unk> ?\"], [\"which hormone is responsible for lowering blood suger by <unk> glucose transport into cells ?\"], [\"why can not you prevent type one diabetes ?\"], [\"what is abnormally high concentration of glucose in the blood ?\"], [\"what research has been done on <unk> massage ?\"], [\"what is the hormone that lowers blood sugar levels is ?\"], [\"what happens if the body has too little insulin ?\"], [\"can diabetes mellitus be prevented ?\"], [\"diseases of the body ?\"], [\"is there term life insurance for diabetics ?\"], [\"are the foods good for type one diabetics also good for the type two is ?\"], [\"what are some quick diabetes recipes ?\"], [\"what is a normal sugar level for twenty year old ?\"], [\"why diabetics causes burning sensation at foot ?\"], [\"the normal value of glucose per one hundred ml of blood is ?\"], [\"are there any proven diabetes cures ?\"], [\"what are some names of some diabetic cook books ?\"], [\"what is the life expectancy of someone with type one diabetes ?\"], [\"can a hypertensive diabetic patient have the typhoid vaccine ?\"], [\"why is diabetes called sugar ?\"], [\"can sixty five year old diabetic eat walnuts and almonds ?\"], [\"how you can get a diabetes mellitus ?\"], [\"who invented the insulin ?\"], [\"can a diabetic eat chinese chicken <unk> ?\"], [\"what is the cause of constant fatigue ?\"], [\"the condition called diabetes insipidus is caused by what ?\"], [\"what are some diets for young diabetic men ?\"], [\"can diabetics use insulin for <unk> purposes ?\"], [\"can blood tests determine diabetes ?\"], [\"where can i get medical supplies for diabetes ?\"], [\"how many times should you need to calibrate your glucometer in a week ?\"], [\"how do you test for diabetes ?\"], [\"what herbs are known to lower blood sugar ?\"], [\"is it normal to hear a low <unk> <unk> ' when stopped the <unk> <unk> you bought does this and you was told it was normal but is that accurate ?\"], [\"does health insurance cover liposuction if you are a diabetic ?\"], [\"does michael phelps have diabetes ?\"], [\"what are the stages of <unk> cancer , and does diet play a part ?\"], [\"what is normal level of blood sugar ?\"], [\"where can one order diabetic supplies online ?\"], [\"what causes your toes to feel numb ?\"], [\"what is the role of a personal support worker in <unk> a client with diabetes ?\"], [\"does <unk> raise blood sugar ?\"], [\"what is the <unk> name for diabetes ?\"], [\"is <unk> wine also good for diabetes ?\"], [\"was nick jonas in the hospital for diabetes why ?\"], [\"what is a good type two diabetes diet ?\"], [\"what is grade two <unk> ?\"], [\"did jackie robinson die from diabetes ?\"], [\"does <unk> <unk> raise blood sugar ?\"], [\"how long did jackie robinson have diabetes for ?\"], [\"what type of alcohol beverage is good for a diabetic ?\"], [\"what is diabetes millitus ?\"], [\"how does type two diabetes affect your lifestyle ?\"], [\"what types of diabetes are determined by the functioning of the ?\"], [\"is <unk> <unk> caused by diabetes ?\"], [\"is diabetes a disease or a condition ?\"], [\"where can i find a sample diabetic diet ?\"], [\"can you get pregnant if your partner has type one diabetes ?\"], [\"what are the reasons for getting more thirsty than usual ?\"], [\"who get diabetes ?\"], [\"where can one find research about diabetes ?\"], [\"what causes your hands fall asleep at night ?\"], [\"can you get diabetes from getting <unk> ?\"], [\"what are the symptoms of type one <unk> ?\"], [\"why would drinking molasses in the morning not help with low blood sugar ?\"], [\"can you get diabetes by eating sugar ?\"], [\"can hyperglycemia lead to kidney failure ?\"], [\"what happens when someone has high blood sugar ?\"], [\"where can i find <unk> on an official mayo clinic diet ?\"], [\"is it dangerous to drink a diabetics blood ?\"], [\"does glucose help kids to remember ?\"], [\"what is the name of a diabetes specialist ?\"], [\"what causes eye bleeding ?\"], [\"can a person be diabetic and make some changes in their lifestyle and then not be diabetic ?\"], [\"can diabetic patient eat banana ?\"], [\"what is gangrene ?\"], [\"where can i obtain a diabetic food pyramid ?\"], [\"what happens in the body when insulin is injected ?\"], [\"does grapefruit affect blood sugar levels ?\"], [\"what is the worst stage of type two diabetes ?\"], [\"true or false scientists use genetic engineering to produce bacteria that is capable of synthesizing human proteins ?\"], [\"would looking at blood sugar levels be part of diet ?\"], [\"what should you do if your glucose level is three hundred and seventy one ?\"], [\"how was insulin made ?\"], [\"can diabetic patient use aspartame as alternative sweetener except sugar ?\"], [\"insulin replacement therapy is always used in type one diabetes or type two ?\"], [\"how much sugar in an average <unk> bottle of cheap wine from supermarket or <unk> can of beer if i am <unk> towards diabetes type two from high blood glucose is there any alcoholic drink safe ?\"], [\"what controls the blood glucose levels ?\"], [\"what is the best diet for someone who is diabetic ?\"], [\"how can you get type one or two diabetes ?\"], [\"what kind of disorder is diabetes type two ?\"], [\"what would be the effects of adding the sequence <unk> to insulin ?\"], [\"is eating a lot considered a type of behavior ?\"], [\"what do you do when a diabetic person <unk> from low or high blood sugar ?\"], [\"why does polydipsia occur with diabetes mellitus ?\"], [\"what is <unk> ?\"], [\"what are the <unk> of insulin ?\"], [\"gestational diabetes symptoms ?\"], [\"help i do not know what an a1c range is ?\"], [\"what type of diabetes is associated with pregnancy ?\"], [\"is an a1c value of eight point eight dangerous if fasting blood sugar is normal ?\"], [\"how can you improve your life if you have diabetes ?\"], [\"what are some examples of a diabetes diet ?\"], [\"where is energy stored in glucose ?\"], [\"what is the prognosis for insulin resistance ?\"], [\"where online is there a diet menu for those with diabetes ?\"], [\"are there diabetic <unk> ?\"], [\"what nutrilite product a women with cancer can take ?\"], [\"can you eat sugar if you have type two diabetes ?\"], [\"what should be in a diabetic is diet book ?\"], [\"what are some methods of diabetes control ?\"], [\"is apple good for type two diabetes ?\"], [\"what happens if blood sugar levels are not properly regulated ?\"], [\"what are some good diabetic food recipes that will help alleviate my symptoms ?\"], [\"what research has been done on <unk> chi ?\"], [\"how many people died each year from type one diabetes ?\"], [\"what do people do if they have diabetes ?\"], [\"how do you inject insulin ?\"], [\"is <unk> <unk> vitamin good for diabetics ?\"], [\"where can i order a test to check for normal blood glucose levels ?\"], [\"how can i get diabetes diet <unk> for someone with serious diabetis ?\"], [\"what is the definition of low sugar ?\"], [\"what triggers type one diabetes ?\"], [\"can the bayer contour test strips <unk> be <unk> for either the <unk> or <unk> test strips and still maintain <unk> ?\"], [\"what fruits can a diabetic have ?\"], [\"what is the most common effect of diabetes on a diabetic ?\"], [\"why is diabetes a serious health issue ?\"], [\"what is the best food and diet plan for a diabetic <unk> ?\"], [\"which doctor checks diabetics ?\"], [\"should diabetics eat red meats ?\"], [\"what is the best website for normal glucose levels ?\"], [\"your fasting blood sugars are three hundred is that dangerous ?\"], [\"how do you get my blood sugar to rise in a diabetic emergency ?\"], [\"do high triglyceride levels affect your blood sugar ?\"], [\"what produces the hormone in alpha cells ?\"], [\"what can type two diabetes do to the human body ?\"], [\"describe the body mechanisms for controlling the blood glucose levels under the normal stress conditions ?\"], [\"what are the precautions people need to take if they have both type one and type two diabetes ?\"], [\"what is the safe blood sugar level for an adult male fifty eight years old <unk> ?\"], [\"why has there been an increase in type two diabetes ?\"], [\"what happens if a diabetic does not eat ?\"], [\"how do you treat diabetes insipidus ?\"], [\"how many carbs should be eaten each day for a type two diabetic ?\"], [\"how <unk> should use for diabetics ?\"], [\"name the cloudy insulins ?\"], [\"what are three ways someone with type two diabetes can help their body use glucose effectively ?\"], [\"what is an iu of insulin ?\"], [\"what is a therapeutic intervention for type one diabetes ?\"], [\"how can you improve your health when you have diabetes ?\"], [\"how do you cure diabetes ?\"], [\"can dogs get diabeties ?\"], [\"what types of food should diabetics avoid . ?\"], [\"which websites provide diabetic food lists ?\"], [\"what is a description for fasting blood sugar ?\"], [\"what does sugar cause ?\"], [\"why is it good when you are not overweight ?\"], [\"while fasting is blood sugar readings of one hundred and ten normal for a thirteen year old girl ?\"], [\"is low blood sugar a symptom of pregnancy ?\"], [\"is honey good for diabetes ?\"], [\"where can i learn more about the american diabetes ?\"], [\"what is the source of income from the american diabetes association ?\"], [\"can non diabetics have diabetic food ?\"], [\"what are the release dates for <unk> <unk> is diabetes ad - two thousand and twelve ?\"], [\"what is <unk> ?\"], [\"if a woman develops diabetes only while pregnant having it go away after giving birth what are the chances of type one diabetes in the child ?\"], [\"is aloe vera good to drink all day ?\"], [\"what body part produces insulin so that cells can use sugar ?\"], [\"will drinking water lower blood sugar ?\"], [\"what website is the best at finding diabetic supplies ?\"], [\"can nick jonas get rid of his diabetes ?\"], [\"how long should five pills per day of <unk> two hundred be continued for rheumatoid arthritis ?\"], [\"where can one find a blood sugar levels chart online ?\"], [\"what can cause frequent urination and <unk> odor ?\"], [\"what is the normal fasting blood glucose range in a diabetic teenager ?\"], [\"what happen if have too much insulin ?\"], [\"what are the normal blood sugar ranges for a diabetic before and after meals ?\"], [\"how close is diabetes to becoming cured ?\"], [\"what clinical findings occurs first in metabolic acidosis of a patient with type one diabetes ?\"], [\"can diabetes get <unk> to there medicine ?\"], [\"i am a type two diabetic my problem is my blood sugar is high when i wake up , how can i correct it ?\"], [\"diabetes education for patients ?\"], [\"which is not a sign of diabetes ?\"], [\"does red meat cause diabetes ?\"], [\"if i have diabetes type two when should i take my blood sugar levels ?\"], [\"diets for diabetes ?\"], [\"what is a good diet for someone who suffers from diabetic nephropathy ?\"], [\"do any <unk> have diabetes ?\"], [\"what do ketones have to do with diabetes ?\"], [\"where can i go online to find some information on diabetic diet plans ?\"], [\"if i am not losing weight and have no sugar in my urine but could i still have diabetes ?\"], [\"why would you take <unk> for diabetes insipidus ?\"], [\"the doctor has your weight loss plan ?\"], [\"how do you stop hypoglycemic attacks ?\"], [\"is there any medicine for type one diabetes ?\"], [\"can potassium lower down blood sugar level ?\"], [\"why are you peeing a lot ?\"], [\"what is royal jelly ?\"], [\"diabetic snack ideas ?\"], [\"what is the number for the normal blood sugar level ?\"], [\"why are human <unk> not the best source for insulin ?\"], [\"does whole foods store sell healthy foods for diabetics ?\"], [\"where can i get diabetes products ?\"], [\"what kind of products does the novo nordisk company produce ?\"], [\"should diabetics drink beer ?\"], [\"how much creatine for a diabetic ?\"], [\"can having diabetes cause symptoms of pregnancy even when you are not pregnant ?\"], [\"how and when did diabetes developed ?\"], [\"does dizziness have anything to do with diabetes ?\"], [\"what are diabetics not allowed to eat ?\"], [\"is a blood sugar level of one hundred and eleven normal ?\"], [\"where in your body does diabetes happen ?\"], [\"why is type two diabetes showing up in young people ?\"], [\"what condition occurs when glucose in the blood falls below levels necessary for normal and efficient brain functioning ?\"], [\"can a diabetic have a seizure with a blood sugar level at seventy seven ?\"], [\"is diabetes autosomal ?\"], [\"what kind of disease did the <unk> spread to canada ?\"], [\"where can you look up blood glucose levels ?\"], [\"what does it mean if my blood sugar is five hundred and forty ?\"], [\"what is a normal blood sugar level for a woman in her thirty is ?\"], [\"how does diabetes affect your body ?\"], [\"what are some good ways to help manage diabetes ?\"], [\"what is a possible cause of non-insulin diabetes ?\"], [\"how do you treat hypoglycemia ?\"], [\"insulin replacement therapy is always used in ?\"], [\"does a diabetic have to get blood only from a finger ?\"], [\"how can eating junk food cause diabetes ?\"], [\"you are insulin resistant you do not however have diabetes if you lose the weight will your insulin resistance go too along with it your chance of developing diabetes ?\"], [\"what is a diabetic emergency caused by very low sugar ?\"], [\"how much sugar to get diabetes ?\"], [\"what is a good type of diabetes ?\"], [\"what is the most important aspect of treatment of diabetes mellitus ?\"], [\"can a <unk> <unk> have diabetes ?\"], [\"can too much sugar give you diabetes ?\"], [\"can diabetics take <unk> <unk> ?\"], [\"stopped cutting last year . suicide attempt <unk> grade never told anyone . some days i am happy other days well . is it <unk> . past events . no sleep . i put my self in this mess . yeah ?\"], [\"what can treat diabetes ?\"], [\"are there any natural medicines for diabetes ?\"], [\"what are some free cookie recipes for diabetics ?\"], [\"how much does being overweight lower your chances with a girl <unk> you ?\"], [\"what happens when you eat the excess amount of sugar to the ph ?\"], [\"is long life related to where you live ?\"], [\"is one hundred and thirty eight blood sugar too high after three hrs eating ?\"], [\"can you join the marines if you have diabetes ?\"], [\"is diabetes environmental ?\"], [\"do kids get diabetes ?\"], [\"how to find free diabetic recipes ?\"], [\"does water melon increase blood sugar ?\"], [\"what are the most common diabetic medications ?\"], [\"if a man was found with symptoms of <unk> <unk> a <unk> blood sugar of twenty eight is <unk> has a peaked t <unk> on <unk> what are the primary interventions ?\"], [\"can diabetics eat peaches ?\"], [\"medical terms what is the name of blood condition of less than normal sugar ?\"], [\"what are the chances i will be able to carry my baby to term if i am diabetic ?\"], [\"should you change your diet to control your blood sugar levels ?\"], [\"what are the routines and habits that must be followed with type one diabetes ?\"], [\"what is the symptoms of diabetics ?\"], [\"what are some ways to treat diabetes ?\"], [\"which type of diabetes is sometimes referred to as juvenile diabetes ?\"], [\"how was diabetes treated before the discovery of insulin ?\"], [\"what does diabetes mean ?\"], [\"how does exercise affect diabetics blood sugar and circulation ?\"], [\"why does mango help in <unk> diabetes ?\"], [\"how is insulin <unk> ?\"], [\"are you <unk> good for glaucoma patients ?\"], [\"where can someone purchase discount diabetic supplies ?\"], [\"how is the size of insulin <unk> ?\"], [\"signs of diabetes mellitus ?\"], [\"what condition is insulin resistance of fat cells type one diabetes or type two diabetes ?\"], [\"what is the relation of hypokalemia to diabetes melitus ?\"], [\"who is discover insulin ?\"], [\"are health insurance rates for type two diabetics higher than rates for type one diabetics ?\"], [\"for a diabetic what is a good diet to follow ?\"], [\"how does the body maintain blood sugar levels when a person has not eaten a meal for many hours ?\"], [\"how much is ten grams of sugar ?\"], [\"what to do when blood sugar is over three hundred ?\"], [\"where can i get a diabetic cookbook ?\"], [\"why drugs which are <unk> as insulin can not be taken by mouth but must be injected ?\"], [\"is there any way to save the legs when one has sores during diabetes ?\"], [\"how to manage type two diabetes ?\"], [\"what does not the body process properly when you have diabetes ?\"], [\"what causes dry mouth ?\"], [\"what are the top ten lifestyle diseases ?\"], [\"what is the best time to check blood sugar readings ?\"], [\"what is the best healthy pregnancy diet for women who are suffering from gestational diabetes ?\"], [\"why is there too little sugar in the blood if the person exercises more than usual ?\"], [\"is diabetes able to be passed along to your children ?\"], [\"what term describes a life-threatening complication of diabetes mellitus ?\"], [\"what are the benefits of a diabetic diet plan to lose weight ?\"], [\"what system <unk> glucose levels ?\"], [\"thyroxine is important to the control of what ?\"], [\"is hypoglycemia deadly ?\"], [\"what is type one diabetes ?\"], [\"how could parents protect their children against diabetes ?\"], [\"im fifteen what should you do if you suspect diabetes ?\"], [\"ability of bacteria to produce insulin ?\"], [\"what is the best diabetes diet to go on ?\"], [\"when would a diabetic need to see the doctor with sore feet ?\"], [\"why does a doctor tell diabetics not to drink ?\"], [\"what will happen if you eat too much ?\"], [\"what to eat when you are diabetic and why ?\"], [\"is diabetes myelitis contagious ?\"], [\"if i did not have insurance for 4-5 months due to <unk> a job and am getting new insurance from a new job and i found out i had diabetes in between jobs would new insurance cover that ?\"], [\"where can you find the information about the diabetes treatment over the internet ?\"], [\"when checking your sugar levels what is good ?\"], [\"diabetic diet tips ?\"], [\"what foods should a diabetic eat after diarrhea ?\"], [\"who does diabetes <unk> type2 and gestational diabetes affect ?\"], [\"what is released after your blood sugar level is too high ?\"], [\"what are a list of foods for diabetics ?\"], [\"characteristic of type one diabetes mellitus ?\"], [\"when you have sweets and get sleepy do you have diabetes ?\"], [\"are there any natural remedies that work the same as taking diabetes medicine ?\"], [\"what is diabetes two ?\"], [\"how diabetes mellitus develops ?\"], [\"is a diabetic diet good for someone who is not diabetic ?\"], [\"what would happen if the pancreas stopped releasing insulin ?\"], [\"can you die from diabetes if you have had it for a long time ?\"], [\"how much is two grams of sugar ?\"], [\"side effects of insulin ?\"], [\"what type of diabetes mellitus would you expect to have at the age four ?\"], [\"why glycogen in muscle can not be delivered as glucose into the blood ?\"], [\"what age does diabetes first become <unk> ?\"], [\"when blood glucose levels rise what happens ?\"], [\"how does diabetes affect the smell of urine ?\"], [\"what <unk> causes the <unk> to fall ?\"], [\"why blurred vision in diabetic on insulin ?\"], [\"is five point eight or six point five blood sugar normal ?\"], [\"where can i get information on a blood sugar chart ?\"], [\"how can genetic engineering be used to treat diabetes ?\"], [\"what are the normal blood sugar levels ?\"], [\"are there different types of diabetes ?\"], [\"where can dessert recipes for diabetics be found ?\"], [\"how can you tell if your cat gets diabetes ?\"], [\"how vitamin or fiber deficiency contributed to the onset diabetes ?\"], [\"can you receive social security disability with diabetic <unk> ?\"], [\"common diabetes signs ?\"], [\"what is your blood sugar when you go into a diabetic coma ?\"], [\"can diabetes cause severe depression ?\"], [\"where can one find <unk> information on living with diabetes ?\"], [\"what may contribute to the onset of type ii diabetes ?\"], [\"what are the effects of diabetes ?\"], [\"what does high glucose mean ?\"], [\"can a diabetic use electric <unk> ?\"], [\"how do you keep diabetes under control ?\"], [\"what can remedy diabetes high blood sugar levels ?\"], [\"which condition may progress to diabetic ketoacidosis ?\"], [\"what jobs can diabetics do ?\"], [\"can diabetics drink <unk> ?\"], [\"where to buy diabetic testing supplies ?\"], [\"why do doctors think diabetes might be a virus ?\"], [\"if you are dying and you have diabetes should treatment for the diabetes be stopped ?\"], [\"is black sugar suitable for diabetic patient ?\"], [\"does an insulin pump help regulate blood sugar levels in type i diabetics ?\"], [\"how many carbs should you have as a diabetic ?\"], [\"what are the risks of high blood sugar ?\"], [\"you have <unk> depression no sex drive <unk> liver maybe diabetes high bp pain dr wont test you ?\"], [\"how can you treat diabetes except for injecting insulin ?\"], [\"normal blood glucose reading ?\"], [\"what are the risks of a diabetic patient having a spinal cyst surgically removed ?\"], [\"what does diabetic neuropathy treatment entail ?\"], [\"can diabetic patients eat sweet corn ?\"], [\"what do the blood sugar levels read after you have eaten ?\"], [\"what is a diabetic emergency caused by very high blood sugar ?\"], [\"can a urine sample prove alcohol consumption from a diabetic ?\"], [\"how do you find out if you are a diabetic ?\"], [\"where can i find a diabetic food list ?\"], [\"can diabetics drink <unk> blue ?\"], [\"what is the difference between type one diabetes and type two diabetes ?\"], [\"what happens if someone drink insulin human mix <unk> fifty ?\"], [\"what is juvenal diabetes ?\"], [\"how does nick jonas brothers help him through living with diabetes ?\"], [\"is seven point five a type two diabetic ?\"], [\"can you use any function inside isr ?\"], [\"diabetes and the eyes ?\"], [\"can diabetics on insulin go to weight watchers ?\"], [\"can you eat spinach if you are diabetic ?\"], [\"how do you get diabet es ?\"], [\"what are some great diabetic recipes ?\"], [\"is a high level of a1c blood sugar bad ?\"], [\"is diabetes for life ?\"], [\"what is <unk> ?\"], [\"what kind of <unk> can do a diabetic ?\"], [\"how do diabetics reduce blood sugar ?\"], [\"what helps diabetes ?\"], [\"if using a tuberculin syringe instead of insulin <unk> much insulin should i draw up ?\"], [\"where did the name diabetes come from ?\"], [\"what are the treatments for dog diabetes ?\"], [\"what does an alt lab test screen for ?\"], [\"where can i find out more about diabetic cooking ?\"], [\"what type of milk is good for a diabetic person ?\"], [\"what is diabetic <unk> ?\"], [\"how many children in the us have type two diabetes ?\"], [\"why wound healing is <unk> in diabetes ?\"], [\"what country has the highest diabetic rate ?\"], [\"what can you get your diabetic girlfriend for <unk> is day ?\"], [\"why diabetic people experience acetone in ther breath ?\"], [\"can you have a tattoo if your diabetic ?\"], [\"where can i find trustworthy advice about the illness diabetes mellitus ?\"], [\"who <unk> if nick is the only one with diabetes in his family ?\"], [\"which is <unk> diabetes or patients ' diabetes ?\"], [\"what condition is a complication of diabetes mellitus ?\"], [\"what are the symptoms of high glucose levels ?\"], [\"what kind of doctor should a diabetic see ?\"], [\"can <unk> blood improve blood sugar level ?\"], [\"what is the most important guideline for treatment of diabetes two ?\"], [\"where can i find a good sugar diabetes diet ?\"], [\"how many grams of sugar should you eat per day when borderline diabetic ?\"], [\"what is diabetes mellitus characterized by ?\"], [\"how can <unk> prevent type two diabetes ?\"], [\"are there any websites that can help me find pre diabetic diet ?\"], [\"is having a blood sugar level greater than six hundred dangerous ?\"], [\"how sick is a person if they wear an insulin pump ?\"], [\"what is the normal range of blood sugar for diabetic ?\"], [\"what are the dangers of consuming cheap diabetic supplies ?\"], [\"what is diabetes inspidus ?\"], [\"how do people with type two diabetes look ?\"], [\"how does diabetes affect your health ?\"], [\"can you get diabetes after fifty years old ?\"], [\"what is diabetes insipidus ?\"], [\"dominant traits are represented by a lower case letter and recessive traits are represented by an upper case letter ?\"], [\"how does exercise lower blood sugars ?\"], [\"what is a doctor who treats diabetes called ?\"], [\"can insulin be taken orally for type two diabetes ?\"], [\"what gland is essential in the metabolism of <unk> and reduces blood sugar ?\"], [\"what is the term used to describe a disorder characterized by a <unk> failure to <unk> <unk> to set <unk> ?\"], [\"where can i find diabetes care ?\"], [\"explain how local <unk> can influence the local pattern of <unk> ?\"], [\"can eating <unk> if you are diabetic harmful ?\"], [\"what are the signs and syptoms of being diabetic ?\"], [\"why would high <unk> levels slow blood clotting time ?\"], [\"what are chances of kids developing diabetes if father has type1 diabetes ?\"], [\"can diabetes cause <unk> ?\"], [\"can people under twenty have diabetes ?\"], [\"who is more likely to develop diabetic ketoacidosis ?\"], [\"can you be denied life insurance if you have diabetes ?\"], [\"diabetic monitors ?\"], [\"<unk> liver salts and diabetics ?\"], [\"how does diabetes affect vision ?\"], [\"do you need a comma in this sentence vascular disease secondary to diabetes is small vessel disease ?\"], [\"what makes insulin in your body ?\"], [\"should you go to the emergency room for a three hundred and forty eight glucose reading ?\"], [\"life expectancy of type one diabetic ?\"], [\"how do you treat <unk> ?\"], [\"i think my husband is cheating on me while i am <unk> in <unk> and he is in <unk> , <unk> . i would like to know if a private <unk> can assist and how much would it cost . ?\"], [\"how many black people get diabetes a year ?\"], [\"how is diabetes controlled ?\"], [\"what are some tasty , easy diabetic cheesecake recipes ?\"], [\"where can i find information about weight loss for diabetics ?\"], [\"can diabetes be spread through a used needle prick ?\"], [\"does beer or wine have a high sugar content ?\"], [\"is seven point one a high reading for diabetes you are not diabetic why i am not diabetic ?\"], [\"does a period affect type one diabetes ?\"], [\"how many calories should a type two diabetic consume daily ?\"], [\"where can i find a sample diabetes menu ?\"], [\"is type ii diabetes contagious ?\"], [\"why are diabetics overweight ?\"], [\"what is post prandial ?\"], [\"is diabetes a disability ?\"], [\"are there any websites that can help me find diabetes dtour diet ?\"], [\"how important is diabetes diet chart with type two form of diabetes ?\"], [\"why would insulin not bring down a high sugar reading ?\"], [\"effects of diabetes mellitus ?\"], [\"how do i <unk> the symptoms of diabetes ?\"], [\"can diabetes cause nausea ?\"], [\"does medicaid cover diabetic supplies ?\"], [\"explain how viruses might be used to copy the gene for producing human insulin ?\"], [\"hormone responsible for diabetes ?\"], [\"can people with diabetes eat bread ?\"], [\"how diabetes cause decrease in immunity ?\"], [\"where can i find free diabetic menus ?\"], [\"why ants do not eat glucose ?\"], [\"what type of small insect is the one that <unk> your bathroom and <unk> around your body ?\"], [\"what classification of acidosis is diabetic ketoacidosis ?\"], [\"can you drink protein shake like monster milk with type two diabetes ?\"], [\"can heat effect the <unk> of herpes type two ?\"], [\"how much sugar can a diabetic with a reading of <unk> of insulin have per day <unk> ?\"], [\"what foods should a diabetic not have ?\"], [\"what organs does smoking effect ?\"], [\"why do you suddenly fall asleep after eating ?\"], [\"do they let diabetics do any part of the marine <unk> ?\"], [\"what are the implications of <unk> triglycerides ' ?\"], [\"what is <unk> <unk> ?\"], [\"does diet affect the development of diabetes ?\"], [\"how are the lives of diabetic and non diabetic the same ?\"], [\"how do you run without having lactic acid build up and also what foods should you eat when in training ?\"], [\"what type of disease is diabetes ?\"], [\"can type one diabetes be cured ?\"], [\"what medications are used to treat diabetes mellitus ?\"], [\"how does a no sugar diet works ?\"], [\"early signs of diabetes mellitus ?\"], [\"can diabetics go on a seven day cabbage soup diet ?\"], [\"can a diabetic woman mate with a diabetic man ?\"], [\"what preparation should be used with caution in diabetic patients tincture syrup <unk> <unk> ?\"], [\"what causes urine specific <unk> to be high ?\"], [\"does smoking give you high blood sugar ?\"], [\"is the regular diabetic food list appropriate for people with gestational diabetes ?\"], [\"can diabetes tab metforin be taken with cold meds ?\"], [\"what hormone controls amount of sugar in the blood ?\"], [\"is byetta a new diabetes drug made of <unk> <unk> ?\"], [\"what is the importance of testing for electrolyte levels and what can happen if the electrolyte levels are not in balance ?\"], [\"why do the diabetic patients have more urine excretion ?\"], [\"what is a reputable diabetic cookbook to purchase online ?\"], [\"does taking vitamin c increase your blood sugar level ?\"], [\"what will heal a chronic rash under <unk> of diabetic ?\"], [\"can you treat type one diabetes be treated ?\"], [\"is it ok to drink diet pop with alcohol when you have diabetes ?\"], [\"what side affects does <unk> nine cause on your body after you use it ?\"], [\"can a diabetic eat <unk> ?\"], [\"is swollen lower legs a symptom of diabetes ?\"], [\"what is one medication that must be used for type one diabetes ?\"], [\"controlling diabetes ?\"], [\"what is an acceptable blood sugar range <unk> two hours after a meal ?\"], [\"can agent orange cause pancreatic cancer if it can cause diabetes ?\"], [\"what is an average good blood glucose reading ?\"], [\"how is blood sugar measured ?\"], [\"diabetic recipes free ?\"], [\"is type one diabetes sex-linked or <unk> ?\"], [\"where can i find more information on diabetes dtour diet ?\"], [\"did <unk> winters die of diabetes ?\"], [\"how can glucose be removed from the bloodstream ?\"], [\"what is a disease in which blood glucose levels are above normal ?\"], [\"can you transfer diabetes through blood ?\"], [\"one hour after eating for a diabetic ?\"], [\"where did the word diabetes <unk> ?\"], [\"what medicine do people with type one diabetes have to take ?\"], [\"what is hypoglycemic coma ?\"], [\"if your diabetes are good do you still have to take your oral medicines ?\"], [\"what are the symptoms that <unk> between type i and type ii diabetes ?\"], [\"will a type one diabetic male produce children with type one diabetes ?\"], [\"should a diabetic eat rice ?\"], [\"will <unk> not show up in a drug test if youre a diabetic ?\"], [\"what is <unk> cysts ?\"], [\"what percentage of the world is population have diabetes ?\"], [\"what are the physiologic mechanisms involved in polydipsia polyuria and polyphagia in diabetes mellitus ?\"], [\"what is the normal blood sugar level for adults ?\"], [\"treatments for type one of diabetes ?\"], [\"how does diabetes effect the human body ?\"], [\"which type of diabetes may involve injections of insulin ?\"], [\"what types of people are most susceptible to <unk> syndrome ?\"], [\"what are the side effects of tetanus vaccination in adults ?\"], [\"is diabetes an allergy ?\"], [\"insulin is a protein but <unk> is ?\"], [\"can a person with type one diabetes become a type two diabetic ?\"], [\"what are diabetes early signs ?\"], [\"what is the cost for an insulin <unk> pump ?\"], [\"what symptoms show signs of diabetes ?\"], [\"the nurse <unk> the polyuria seen in clients with untreated diabetes mellitus with which physiologic response ?\"], [\"what foods must be avoided on the american diabetes association diet ?\"], [\"can diabetes mellitus cause health problems ?\"], [\"what is one reason for the change in wound healing time in a diabetic is that ?\"], [\"can you be a diabetic and be in <unk> ?\"], [\"what painkillers can a diabetic take ?\"], [\"where can i get diabetes supplies ?\"], [\"what if blood sugar is one hundred and twenty nine ?\"], [\"what causes insulin ?\"], [\"what foods can i eat to avoid diabetic complications ?\"], [\"what happens when body does not produce or properly use insulin ?\"], [\"where can i purchase diabetic socks ?\"], [\"why do people get diabetes type two ?\"], [\"how do you diagnose diabetes insipidus ?\"], [\"when a person with diabetes sugar level are out of control are they going to live long ?\"], [\"is insulin a carbohydrate ?\"], [\"where can gangrene be found ?\"], [\"what can happen if you take an overdose of insulin ?\"], [\"what foods are not allowed on a diabetic food list ?\"], [\"what medications cause blood glucose levels to rise ?\"], [\"what are the types of diabetes children can develop and the symptoms related to these ?\"], [\"how much weight can you loose due to diabetes ?\"], [\"what do you do if your blood sugar is low ?\"], [\"what is an <unk> ?\"], [\"how does a diabetic use a diabetic strip ?\"], [\"does ham effect blood sugar ?\"], [\"what is honeymoon period in diabetes mellitus ?\"], [\"can you get a diabetes from someone who has one ?\"], [\"how many forms of diabetes exist ?\"], [\"regular exercise may prevent the onset of what type of diabetes ?\"], [\"why do people get diabetes ?\"], [\"how does diet affect diabetes ?\"], [\"how dangerous are high blood sugar levels ?\"], [\"where can one find diabetic diet menus ?\"], [\"guidelines for a diabetic diet sheet ?\"], [\"where online can i find diabetic carrot cake recipes ?\"], [\"any cures for type one diabetes ?\"], [\"what famous people have diabetes ?\"], [\"will drinking lots of water help to lower your blood sugar quickly ?\"], [\"how does diabetes effect the immune system ?\"], [\"what does a glucose meter measure ?\"], [\"what is <unk> ?\"], [\"name of black actress in diabetes care club ?\"], [\"what do people have that can not regulate sugar level in their blood properly ?\"], [\"what part of the body does diabeties affect ?\"]], \"hovertemplate\": \"pc_1=%{x}<br>pc_2=%{y}<br>pc_3=%{z}<br>question=%{customdata[0]}<br>color=%{marker.color}<extra></extra>\", \"legendgroup\": \"\", \"marker\": {\"color\": [2, 1, -1, 15, -1, 9, 0, -1, 13, -1, 0, -1, 2, 1, -1, -1, -1, -1, 1, -1, -1, 7, -1, 0, 8, -1, -1, -1, -1, 2, -1, 2, -1, -1, 1, 0, 3, -1, 0, 12, -1, -1, -1, -1, 8, 12, 6, 7, 2, 4, 7, 6, 7, 0, -1, -1, -1, -1, 9, -1, -1, -1, 3, -1, -1, -1, 19, 20, -1, -1, 6, 9, 20, -1, 15, -1, -1, 13, -1, 14, -1, 6, 10, -1, 8, 10, 2, -1, -1, 5, -1, -1, 20, -1, 0, 7, -1, 6, 7, -1, -1, 5, -1, -1, 1, 6, -1, -1, 11, -1, 9, -1, 2, 16, -1, -1, 19, 9, -1, -1, -1, 5, 2, -1, -1, -1, 0, -1, 5, 11, 7, -1, -1, -1, -1, -1, -1, 6, -1, -1, -1, -1, 2, -1, -1, 6, -1, 14, -1, -1, -1, 11, -1, -1, 2, 6, 6, -1, -1, -1, 14, -1, -1, 0, 17, -1, -1, 12, -1, -1, -1, 5, -1, -1, -1, 8, 11, -1, -1, -1, 11, 2, 1, 2, -1, 0, -1, 6, -1, -1, -1, -1, -1, 9, 7, -1, 5, 7, -1, -1, -1, 7, 7, 1, -1, -1, 8, 15, -1, 6, 7, 8, 4, -1, 8, 7, -1, 9, -1, 8, 12, 13, -1, 3, -1, -1, 7, -1, -1, 1, 17, -1, -1, 13, -1, -1, -1, -1, -1, 2, -1, -1, 10, -1, 16, -1, -1, 13, -1, -1, -1, -1, -1, 5, -1, -1, -1, -1, 9, -1, 0, -1, 5, -1, -1, -1, -1, 13, -1, 1, -1, 19, -1, -1, -1, -1, 1, -1, 8, -1, -1, -1, -1, -1, -1, 1, 11, 1, -1, -1, -1, -1, -1, -1, 4, -1, -1, -1, 10, 12, -1, -1, -1, 3, -1, -1, -1, 12, 3, -1, -1, 1, -1, -1, 1, -1, -1, -1, 0, -1, 10, -1, -1, -1, -1, 11, 7, -1, -1, -1, 13, -1, 14, -1, 7, -1, 13, -1, 9, -1, -1, -1, -1, 17, 7, -1, -1, 6, 6, -1, 9, -1, -1, -1, 9, -1, 16, -1, -1, -1, 19, -1, -1, -1, -1, -1, 14, -1, -1, -1, -1, 2, 5, -1, -1, 7, -1, 11, -1, 2, -1, -1, -1, -1, -1, 1, 12, -1, -1, 15, -1, 5, -1, -1, 19, -1, 2, -1, 7, -1, -1, 3, -1, 18, 5, -1, -1, -1, -1, 7, -1, 10, -1, -1, -1, -1, -1, 4, -1, 14, 5, 7, -1, -1, -1, -1, -1, -1, -1, -1, 1, -1, 1, 5, 2, 0, -1, -1, 7, 8, -1, 5, -1, 7, -1, 16, 9, -1, 5, -1, -1, -1, -1, -1, 10, -1, -1, 0, 5, 17, -1, -1, 11, -1, 14, -1, -1, -1, 14, -1, 2, 6, -1, -1, 0, 6, 18, -1, -1, -1, 2, -1, -1, -1, 20, -1, -1, 5, 7, -1, -1, 6, 6, -1, 7, -1, 9, -1, -1, 2, 2, -1, -1, -1, 9, 6, -1, -1, 12, 0, -1, -1, 0, -1, 5, -1, -1, -1, 0, 16, 0, 0, -1, -1, 20, 4, -1, 6, -1, -1, -1, -1, -1, -1, 7, -1, 1, -1, 9, -1, -1, -1, -1, 2, -1, 16, 16, 2, 7, -1, -1, -1, -1, -1, 16, 2, -1, 11, 16, -1, -1, 5, -1, 7, -1, -1, -1, 2, -1, 2, -1, 7, 8, -1, 13, 6, -1, -1, 2, -1, -1, -1, -1, 8, -1, 5, -1, 2, 12, -1, 2, 1, -1, -1, 1, 1, -1, 5, 17, -1, 15, -1, 8, 2, -1, 3, -1, 1, -1, 10, 19, 0, 6, 15, 2, 1, -1, -1, -1, 8, 9, 7, -1, -1, -1, 2, 1, -1, 6, -1, -1, 0, -1, -1, -1, 3, -1, -1, 10, -1, 15, 10, 1, -1, -1, -1, 13, -1, -1, -1, 3, 1, 1, -1, 2, 12, -1, -1, -1, 1, -1, -1, 13, 5, -1, 7, 4, -1, -1, 7, -1, -1, -1, -1, 0, -1, 6, 18, -1, 18, 0, 0, 0, -1, -1, 8, 10, -1, 20, 2, 0, 10, 1, -1, 2, -1, 1, 1, -1, -1, -1, -1, 7, -1, -1, 2, 14, -1, -1, 2, -1, 5, -1, -1, -1, 14, 0, -1, -1, -1, -1, -1, 2, -1, -1, -1, 3, -1, 0, -1, 12, -1, 15, 2, 2, 0, 16, 2, -1, -1, -1, -1, 2, 0, -1, 14, -1, -1, 5, -1, -1, -1, 6, 2, -1, -1, -1, -1, -1, 0, -1, -1, 1, 16, -1, 0, 2, 6, -1, 9, 9, 2, -1, -1, -1, -1, 2, -1, 14, 7, 2, -1, 9, 20, -1, -1, -1, 7, -1, -1, 7, -1, -1, 5, -1, 7, -1, 7, 14, 12, -1, -1, -1, -1, -1, 0, -1, 12, -1, 10, 12, 5, -1, 2, -1, -1, 0, -1, -1, 11, -1, -1, -1, -1, -1, 0, -1, -1, -1, 13, -1, -1, 2, -1, -1, 2, 14, 9, -1, 5, -1, -1, -1, -1, -1, 9, -1, 19, -1, -1, -1, 11, -1, -1, 18, -1, -1, 8, -1, -1, -1, -1, 11, -1, -1, -1, 8, -1, -1, -1, -1, 15, 3, 20, 2, -1, -1, 1, -1, 11, -1, 18, 0, -1, -1, -1, -1, -1, -1, -1, -1, -1, -1, -1, -1, -1, 16, -1, -1, 20, 3, 13, 10, 15, -1, 7, 6, -1, 0, 10, -1, -1, 6, 9, 5, -1, -1, 9, -1, 11, 14, -1, -1, -1, 19, 19, -1, -1, 7, -1, 2, -1, -1, -1, -1, 17, 0, 8, -1, -1, -1, 16, -1, -1, -1, 2, 14, -1, 7, 14, -1, 11, 2, -1, 15, -1, -1, -1, 2, -1, -1, 12, 5, -1, 9, -1, -1, 1, 15, -1, -1, 9, -1, 17, -1, 7, 20, 2, 3, -1, -1, -1, -1, -1, -1, -1, 12, -1, 2, -1, 0, -1, 19, 5, 0, -1, -1, -1, -1, 9, -1, -1, -1, 2, -1, 2, 11, 0, 17, 2, -1, -1, -1, 2, 11, -1, 12, 0, -1, -1, -1, 15, -1, 7, -1, 7, -1, -1, 2, -1, 4, 7, 19, 17, -1, 7, 15, -1, 0, 12, -1, -1, -1, -1, 0, -1, -1, 20, 0, 15, -1, -1, 6, -1, 7, -1, -1, -1, -1, 0, -1, 7, -1, 3, 1, 10, 9, 19, -1, 3, -1, 16, 7, 16, -1, -1, -1, 9, -1, -1, -1, -1, -1, 1, 4, -1, -1, -1, -1, 2, -1, -1, 7, 5, -1, 6, 10, 15, -1, 7, 17, 8, -1, 7, -1, 7, 9, 2, 15, 19, -1, 2, -1, 1, 3, 5, 13, 2, -1, 4, -1, -1, 13, -1, -1, 2, 2, 6, 18, -1, 2, 11, 7, 1, 17, -1, -1, 3, 15, 1, -1, -1, -1, 10, -1, 8, -1, 2, 11, 0, -1, -1, -1, 8, -1, -1, 0, 14, 2, -1, -1, 0, 4, -1, -1, 2, -1, -1, 18, 5, -1, -1, -1, -1, 8, 2, -1, -1, 5, -1, 5, -1, -1, 1, -1, -1, 11, 0, -1, 17, -1, 9, 9, -1, -1, 7, -1, 0, 0, -1, -1, 3, -1, -1, 2, -1, -1, 7, 6, -1, -1, -1, -1, 9, 5, -1, 11, 4, 0, 1, -1, 7, -1, -1, 7, -1, 9, 6, -1, -1, 5, -1, -1, -1, -1, 15, -1, 3, -1, 0, -1, 6, 0, 1, -1, -1, -1, -1, 4, 0, 12, -1, 7, 3, 15, -1, 19, 2, 0, -1, 5, 5, -1, 0, 13, -1, 11, -1, 2, -1, -1, -1, 11, 7, 15, 7, -1, -1, 13, 2, 0, 0, -1, 17, 1, -1, 2, 3, -1, 17, 1, 7, 17, -1, -1, -1, 20, 9, 0, 7, -1, 2, 5, 11, -1, 13, -1, 14, -1, 2, -1, 3, 2, 16, -1, 7, 0, -1, -1, -1, -1, -1, -1, 2, -1, 6, -1, 15, -1, 1, 1, 7, 20, -1, -1, -1, -1, -1, -1, -1, -1, -1, -1, 16, -1, -1, 9, 10, 1, 5, -1, -1, -1, -1, -1, -1, 10, -1, -1, 3, 1, 1, -1, -1, 3, 3, -1, 18, 2, -1, -1, -1, 12, -1, 15, -1, 0, 3, 11, -1, -1, -1, -1, 1, -1, -1, -1, 5, -1, -1, -1, -1, 2, -1, 3, 1, 7, 0, 17, -1, 20, -1, 13, 4, 15, -1, 0, -1, -1, 4, 15, 16, 5, 2, 15, -1, 1, 12, 7, -1, -1, -1, -1, -1, 1, -1, 18, 11, 12, 12, 13, -1, 9, 13, -1, 7, 0, 1, -1, -1, -1, 5, -1, 0, 18, -1, -1, 11, 9, 8, -1, 17, -1, 9, 13, -1, 4, -1, -1, -1, 0, 9, 7, 0, -1, -1, 5, 6, 8, -1, 4, -1, 8, 19, -1, -1, -1, -1, 16, -1, -1, -1, 13, 11, -1, -1, 0, -1, 9, 2, -1, -1, 12, 16, -1, 18, 7, -1, 2, 17, 18, 12, -1, 10, 19, 13, 10, -1, -1, 6, 9, -1, -1, -1, -1, 7, -1, 1, -1, -1, -1, 10, -1, -1, -1, 6, 19, -1, 11, -1, 13, -1, 9, 2, -1, -1, -1, -1, 7, -1, -1, -1, 9, 0, -1, 9, 11, -1, -1, -1, -1, -1, -1, -1, 6, -1, 13, -1, -1, 20, 10, -1, -1, -1, -1, -1, -1, -1, 9, -1, -1, 12, -1, 2, -1, -1, 7, 17, -1, 13, -1, -1, -1, -1, 19, 7, 16, -1, -1, -1, -1, 17, 6, -1, -1, -1, -1, -1, -1, 7, 0, 2, -1, -1, 6, 10, -1, -1, -1, -1, 8, -1, -1, -1, -1, 5, 10, 20, 20, -1, -1, 8, 2, 3, 1, -1, 9, -1, 6, -1, -1, -1, -1, -1, -1, -1, 2, -1, 12, -1, -1, -1, 7, -1, 3, -1, 9, 17, -1, 1, -1, 5, 7, 10, -1, 6, 0, 19, 1, -1, -1, -1, 12, -1, -1, 2, -1, -1, 7, 15, 9, 9, -1, 4, -1, 7, 2, 0, 11, -1, -1, 10, -1, 20, 18, -1, 5, 7, 7, -1, 1, 12, 13, 19, 7, 16, -1, 2, 13, -1, 11, 0, 7, -1, 20, 16, 2, 14, -1, 4, -1, 0, 5, 0, -1, 2, 7, -1, -1, -1, -1, -1, -1, -1, 3, 2, -1, 0, 2, -1, -1, 8, -1, -1, -1, 9, -1, -1, 3, 9, -1, -1, -1, -1, 5, 10, 13, -1, 11, 2, 12, 10, -1, -1, 2, -1, -1, 0, 16, 7, -1, -1, 5, 1, -1, -1, 9, -1, 16, 11, 18, 14, 13, -1, 12, -1, 18, 9, 9, 6, -1, -1, 11, 13, -1, -1, 1, 3, 7, 13, -1, -1, -1, -1, -1, -1, -1, 11, 0, 2, -1, -1, -1, 4, 8, 1, 0, 19, -1, 7, -1, -1, -1, -1, -1, -1, -1, 0, -1, 5, -1, 5, -1, 13, 2, 0, 20, -1, 3, 5, 14, 0, -1, -1, -1, 10, 16, -1, -1, -1, -1, -1, 2, -1, 7, 13, 6, 10, 2, -1, -1, -1, -1, 7, -1, 5, 2, -1, -1, 16, 12, -1, -1, -1, 17, 9, -1, -1, -1, -1, -1, -1, 0, -1, -1, 11, -1, 3, -1, -1, -1, -1, 2, -1, 13, 2, -1, 6, -1, -1, -1, 12, -1, -1, -1, -1, 1, 16, -1, 8, 5, 9, -1, -1, 7, -1, -1, 9, -1, -1, 9, 7, -1, -1, 7, 19, -1, 2, 5, -1, -1, 2, 18, -1, -1, -1, 12, 2, -1, -1, -1, -1, -1, 20, 7, -1, -1, 9, -1, -1, 6, 13, 9, 6, 10, 9, -1, -1, 1, -1, 19, -1, -1, 18, 20, -1, -1, 9, -1, 0, -1, 12, 5, 0, -1, 0, -1, -1, 0, -1, -1, -1, 9, -1, -1, 6, 3, 8, -1, -1, 0, -1, 9, 2, 2, 9, -1, 7, -1, 5, -1, -1, 15, 14, 9, 14, 14, -1, -1, 2, -1, 12, -1, 0, -1, -1, -1, -1, 16, -1, -1, -1, 5, -1, -1, -1, 7, 7, -1, -1, 9, -1, 6, -1, -1, 0, -1, 2, -1, -1, -1, -1, -1, -1, 7, -1, -1, -1, -1, -1, -1, -1, 14, -1, 16, -1, -1, -1, -1, 2, 14, 0, 6, 2, -1, 16, 0, -1, 2, -1, -1, -1, 5, -1, -1, 4, 1, -1, -1, -1, -1, 0, 10, -1, 14, -1, -1, -1, 5, 7, -1, -1, 5, 5, -1, -1, -1, -1, -1, 0, -1, -1, -1, -1, 4, 7, -1, -1, 7, 5, -1, -1, 2, -1, -1, -1, 7, -1, 5, 18, -1, -1, 9, -1, -1, 20, -1, 14, -1, -1, -1, -1, 0, 11, 6, -1, 7, -1, 14, 18, 1, 5, 8, 2, 0, 0, 7, -1, -1, -1, 20, 8, 11, 9, 16, 7, 17, -1, -1, 4, 8, -1, 5, -1, -1, 6, -1, 3, -1, -1, 16, 7, -1, -1, 3, -1, 16, 2, -1, 14, 20, -1, 8, -1, -1, -1, -1, 9, 1, 0, 0, -1, -1, 7, 2, -1, 15, 0, 5, 12, -1, -1, 19, -1, -1, 0, 2, 7, -1, -1, 2, -1, 2, -1, -1, -1, 5, -1, -1, -1, -1, 7, -1, -1, 9, -1, -1, 20, 16, -1, 0, -1, -1, -1, -1, 6, -1, -1, -1, -1, 7, -1, 17, -1, -1, -1, 9, -1, -1, -1, -1, 7, -1, -1, 15, 11, 0, 1, 13, 13, -1, 11, 1, -1, -1, -1, 2, -1, -1, -1, 5, -1, -1, 17, 16, 10, 3, 8, 15, -1, 6, 8, -1, -1, -1, 12, -1, -1, -1, 9, -1, -1, -1, -1, 9, 9, -1, -1, -1, 8, 15, -1, 3, -1, 9, -1, 8, -1, 2, -1, -1, 4, 1, 1, -1, 12, -1, -1, -1, -1, -1, -1, -1, -1, 1, 6, -1, 2, -1, 12, -1, -1, 11, -1, -1, -1, 1, 1, -1, -1, -1, -1, 1, -1, 1, 3, -1, -1, -1, -1, -1, -1, -1, 0, 12, -1, -1, 4, 1, -1, -1, -1, 0, 15, -1, -1, 7, 15, -1, 3, -1, -1, -1, 2, -1, 10, -1, 7, -1, 0, 10, 0, -1, -1, -1, -1, -1, 2, -1, 11, 17, -1, -1, 15, -1, -1, -1, 2, 0, 18, -1, 2, 15, 13, -1, -1, -1, 2, -1, 5, -1, 0, -1, -1, 1, 12, 2, 6, -1, 10, 14, -1, 0, -1, 7, -1, 7, 0, 13, -1, 20, -1, -1, 7, -1, -1, -1, 2, -1, -1, -1, 8, 9, 0, 8, -1, 17, 2, -1, 13, -1, -1, 9, 7, 4, -1, -1, -1, 7, 6, -1, -1, 5, -1, -1, 15, -1, -1, 15, 5, -1, 3, 1, -1, 1, 15, 16, 6, -1, -1, -1, -1, -1, 14, 11, -1, -1, -1, 7, 6, -1, -1, -1, -1, -1, 8, -1, 6, 0, 5, -1, 19, -1, 7, 0, -1, -1, 8, 7, 3, 9, -1, -1, -1, -1, 19, -1, 0, 11, 7, -1, 12, 9, -1, -1, 0, -1, -1, -1, -1, 2, -1, -1, 12, 2, -1, -1, -1, 0, 20, -1, -1, -1, -1, -1, 10, 2, -1, 2, -1, 8, 7, -1, -1, 5, 0, 11, -1, -1, 7, -1, 10, 9, 3, -1, 0, -1, 0, -1, 9, 9, 8, 3, 2, 7, -1, 16, -1, -1, -1, -1, -1, -1, -1, -1, -1, -1, 12, 5, 2, 14, -1, -1, -1, 7, 0, -1, 17, -1, 14, -1, -1, 15, 13, -1, -1, 2, -1, -1, 6, 13, -1, -1, -1, -1, 5, -1, -1, 2, 7, -1, -1, -1, -1, 8, -1, -1, -1, -1, -1, -1, 19, -1, 7, -1, 16, -1, 12, 12, 7, 19, -1, 1, -1, 0, -1, 9, 18, -1, -1, -1, -1, -1, 13, 8, -1, -1, -1, 3, -1, 12, 0, -1, 18, 16, -1, 2, 5, 2, 4, 8, -1, 10, 12, -1, -1, -1, -1, 1, -1, 5, 15, 0, -1, 2, 0, 1, -1, 1, 0, -1, 3, 12, -1, 7, 10, -1, -1, -1, -1, -1, -1, 7, -1, -1, -1, -1, 2, 7, -1, -1, -1, 9, 9, 0, -1, -1, -1, -1, -1, 16, -1, -1, 12, 3, 3, -1, 7, 3, -1, 18, -1, 1, 1, -1, 0, 18, -1, 0, 1, -1, -1, 7, 19, -1, -1, 12, -1, 9, 7, -1, -1, 9, 9, 4, -1, -1, 13, -1, 1, 1, 7, 4, 9, 12, 2, -1, 8, 6, -1, -1, -1, 5, 10, 7, -1, 9, 7, 2, 2, 8, -1, 2, -1, -1, 6, 8, -1, -1, 1, -1, -1, -1, -1, -1, -1, -1, 2, 5, -1, -1, 10, 12, 11, 0, -1, -1, -1, 6, -1, 2, -1, -1, 2, 10, -1, -1, -1, -1, -1, -1, -1, 2, 5, -1, -1, 3, 1, -1, 6, -1, -1, 7, 2, 1, -1, 19, 13, 1, -1, -1, 1, -1, -1, -1, -1, 10, 4, -1, 12, -1, 13, 18, -1, 18, -1, -1, 19, -1, 0, -1, -1, -1, -1, -1, 1, 2, -1, -1, -1, -1, 13, -1, -1, -1, -1, -1, 16, -1, -1, -1, 1, 9, 13, 2, -1, -1, -1, -1, 6, -1, -1, 2, -1, 8, 10, 2, -1, -1, -1, -1, -1, -1, 2, -1, -1, 14, -1, -1, -1, 10, -1, 2, -1, 5, -1, -1, 7, -1, -1, -1, 2, 5, 6, 14, 18, 19, -1, -1, -1, -1, 7, -1, 7, 5, 2, -1, -1, -1, -1, 7, -1, -1, 15, -1, 0, -1, -1, -1, 8, -1, -1, 15, -1, 7, -1, 19, -1, -1, -1, -1, -1, -1, 11, 0, 11, -1, -1, -1, 2, 4, -1, -1, 7, 0, 6, 0, 6, -1, 9, -1, -1, -1, -1, 6, -1, 11, 9, 12, -1, -1, 5, -1, -1, -1, -1, -1, -1, 7, 6, -1, 6, -1, -1, -1, 19, -1, -1, -1, 12, 19], \"coloraxis\": \"coloraxis\", \"size\": 3, \"symbol\": \"circle\"}, \"mode\": \"markers\", \"name\": \"\", \"scene\": \"scene\", \"showlegend\": false, \"type\": \"scatter3d\", \"x\": [10.830965042114258, -4.82896614074707, 7.302874565124512, -11.606427192687988, -3.897873640060425, -6.94179105758667, -0.5624906420707703, -1.2799429893493652, -16.905046463012695, 7.609378814697266, 5.281320571899414, -10.769745826721191, 13.767183303833008, -3.206704616546631, 3.3008058071136475, 7.6178975105285645, 4.784494876861572, -5.867007732391357, -6.491274833679199, 9.440402030944824, 9.066007614135742, 12.38558292388916, 1.9438782930374146, -0.7822324633598328, -3.437281608581543, -0.34126153588294983, 2.2222089767456055, -18.634166717529297, 8.637921333312988, 9.660064697265625, 2.538398265838623, 8.851944923400879, 4.367880821228027, -0.32355639338493347, -5.5495100021362305, 0.23204414546489716, 7.645174503326416, -8.420201301574707, 3.1074178218841553, 10.240190505981445, -10.643924713134766, -0.2947632372379303, 9.2122220993042, -8.074837684631348, -3.51924991607666, 6.1092047691345215, 2.561272382736206, 16.157163619995117, 11.198360443115234, -0.004254985600709915, 13.898323059082031, 4.432595252990723, 16.97749900817871, 1.3499270677566528, 1.7355828285217285, -6.424824237823486, 7.65132474899292, 1.3049174547195435, -5.54563570022583, 6.386373043060303, -16.979156494140625, 5.637104511260986, 6.540131568908691, 7.455475807189941, -0.36047446727752686, -18.480260848999023, -13.036782264709473, -7.175806999206543, 3.4625327587127686, -8.446687698364258, 7.0025954246521, -4.959583282470703, -7.255949974060059, 14.334158897399902, -15.279088973999023, -11.69672966003418, -17.233545303344727, -18.918378829956055, -20.52162742614746, -19.195587158203125, 5.398319721221924, 7.159885883331299, 2.407590389251709, -7.915380477905273, -4.9140543937683105, 1.5483342409133911, 9.160972595214844, 0.8652294874191284, 11.970222473144531, 4.917741775512695, -1.8529348373413086, 11.123956680297852, -6.563841819763184, -21.697521209716797, -1.6707583665847778, 18.193756103515625, -3.8478291034698486, 3.8668394088745117, 12.866828918457031, 1.6540342569351196, -3.900831460952759, 3.331479549407959, -16.976520538330078, -2.591411828994751, -3.0108468532562256, 2.310215473175049, -4.868923664093018, -12.417624473571777, 3.2839977741241455, 3.5434978008270264, -5.534575462341309, -4.976949214935303, 11.97668743133545, -10.88719367980957, -12.752246856689453, -19.550798416137695, -14.006482124328613, -6.795058250427246, 6.582662105560303, 9.866045951843262, 8.149328231811523, 7.025168418884277, 11.593262672424316, 0.11670362204313278, 5.533888816833496, 3.6174228191375732, 0.15133589506149292, -14.360602378845215, 7.094939708709717, 3.045041799545288, 17.356706619262695, 9.31071949005127, 3.4256179332733154, -0.031058792024850845, 17.98377799987793, -7.446285724639893, -11.153031349182129, 5.863336086273193, 7.966975212097168, 1.0415689945220947, 4.6684722900390625, -18.284330368041992, 13.177336692810059, 10.276119232177734, -4.183797836303711, 6.3039870262146, -7.573799133300781, -20.305130004882812, -3.2060580253601074, -4.879306793212891, -19.485530853271484, 4.2452168464660645, -20.693723678588867, 3.345184564590454, 7.412545204162598, 1.8144028186798096, 4.8731184005737305, 4.059296131134033, -8.533191680908203, 1.063691258430481, -15.238895416259766, 2.0460286140441895, -4.7418437004089355, 8.015911102294922, -8.044559478759766, 2.1337180137634277, -4.4019341468811035, 11.129288673400879, -9.891475677490234, -7.773266315460205, -18.296144485473633, 6.631189823150635, 1.7206825017929077, 10.088127136230469, 5.137898921966553, -4.561118125915527, 2.6378865242004395, -6.566763401031494, -7.397322654724121, -0.30415648221969604, 3.1529831886291504, 12.515151023864746, 1.2963271141052246, 11.698244094848633, -0.2999781668186188, 0.9296704530715942, 1.8477376699447632, 9.09151840209961, -5.738081455230713, 10.989056587219238, 7.898895263671875, -0.8705819249153137, -13.42110538482666, -7.919544219970703, 18.133167266845703, -4.2629618644714355, 4.227872371673584, 13.959432601928711, 7.754129409790039, 0.11587273329496384, -10.450803756713867, 13.012020111083984, 16.197004318237305, -0.4185045063495636, -8.425128936767578, -8.685919761657715, -3.521724224090576, -14.135418891906738, 8.467933654785156, 6.802998065948486, 18.13276481628418, -3.95607590675354, -0.37187615036964417, -8.584311485290527, -1.865655779838562, 14.350703239440918, 7.140743732452393, -4.177900791168213, 8.020048141479492, -6.159968376159668, 9.032587051391602, -13.147476196289062, -16.669879913330078, 8.935503005981445, -2.5306029319763184, -15.44857120513916, 17.869583129882812, -9.4014253616333, -8.467850685119629, 0.4842458665370941, -8.725417137145996, -0.9808712005615234, 3.893789052963257, -18.579814910888672, -19.175071716308594, 1.4861979484558105, -14.748018264770508, 4.14245080947876, -1.1908105611801147, 11.251753807067871, -12.68254280090332, -3.958009719848633, 2.9773359298706055, 3.799724578857422, -11.316067695617676, -8.483933448791504, -10.603084564208984, -14.368958473205566, 0.6239522099494934, 11.722296714782715, -16.294979095458984, -20.205089569091797, 8.533116340637207, 7.15122127532959, -4.328828811645508, 11.62344741821289, 1.2558962106704712, -8.597711563110352, -7.154827117919922, -0.03085210546851158, 1.3688899278640747, 7.8509111404418945, 9.103464126586914, 0.506606936454773, 8.318804740905762, 8.423300743103027, -4.0664286613464355, -12.91784381866455, 8.377655982971191, -2.652993679046631, 2.722334146499634, -11.820423126220703, 1.3858671188354492, -0.053117360919713974, 7.8464484214782715, 5.317907810211182, 0.09688619524240494, -0.27578970789909363, -3.463252544403076, -12.138009071350098, 8.881376266479492, 10.308831214904785, -0.8602269291877747, -0.5890291929244995, 4.468268394470215, -1.9811832904815674, -0.285001665353775, -1.3734838962554932, 0.44386953115463257, -6.986017227172852, 1.5325506925582886, 8.067328453063965, -1.4345221519470215, 9.8118314743042, -1.2656562328338623, -8.771093368530273, -0.27876004576683044, 5.589252948760986, 3.4316704273223877, 7.566336154937744, 6.819992542266846, 5.936695575714111, 7.941195011138916, 8.392030715942383, -8.425423622131348, 9.864831924438477, 7.516965389251709, 6.813468933105469, 10.616658210754395, -0.14052197337150574, 1.8424499034881592, -3.9491689205169678, 5.75818395614624, 0.17313705384731293, -2.267859697341919, 4.215976715087891, -11.940018653869629, -1.1221588850021362, 2.2693326473236084, 2.9373416900634766, 2.4854419231414795, -6.787149906158447, 4.598073959350586, -8.31817626953125, 12.198901176452637, 2.1751046180725098, 17.61417007446289, 6.2807745933532715, -2.968008279800415, 12.263697624206543, -14.333036422729492, -11.641449928283691, -18.382741928100586, -9.366715431213379, 12.906207084655762, -13.808982849121094, -17.27915382385254, 18.461345672607422, -5.559007167816162, -12.833284378051758, -12.960504531860352, -19.247713088989258, -12.814967155456543, -6.2303547859191895, 16.338003158569336, -17.1010799407959, -6.051279067993164, 5.774990081787109, 5.655362606048584, -9.73744010925293, -3.5825939178466797, -12.754148483276367, 4.427956581115723, -1.5422372817993164, -3.729118824005127, 3.9539527893066406, -9.905966758728027, -14.371293067932129, -13.932188034057617, -11.291962623596191, -14.113332748413086, 1.6996828317642212, -2.9804141521453857, 8.826397895812988, 11.015657424926758, 4.809499263763428, -14.149773597717285, 2.9198012351989746, 13.627686500549316, -13.984126091003418, 2.0630695819854736, 11.153656959533691, 7.782697677612305, 1.167019009590149, -2.4996986389160156, 15.493429183959961, 3.698544979095459, 1.8173989057540894, -1.8134087324142456, 7.518127918243408, 1.0735164880752563, 6.05322265625, -11.351882934570312, 12.986328125, -5.306418418884277, -4.646630764007568, 10.52294635772705, -5.710921764373779, 6.5460028648376465, -14.849172592163086, 6.223757266998291, 7.216298580169678, -3.0766453742980957, -3.4521942138671875, -15.674509048461914, 10.542898178100586, 10.514331817626953, -7.445185661315918, 19.5159854888916, 3.367962598800659, 15.14501953125, 7.4951066970825195, -6.566806316375732, -15.862006187438965, 3.995182752609253, 14.467286109924316, -14.737319946289062, 2.5243079662323, -13.376931190490723, 14.406000137329102, 2.2124147415161133, 2.7192487716674805, 10.34238052368164, -8.977519989013672, 1.9758625030517578, -0.7050592303276062, 4.852802753448486, -0.0682060718536377, 7.5868096351623535, -15.106736183166504, 5.434992790222168, 17.040956497192383, -12.647135734558105, 0.292018860578537, -2.869964838027954, 17.875160217285156, -11.073620796203613, -11.372014999389648, 3.457590103149414, -9.384858131408691, -5.194667339324951, -4.754814147949219, -3.2294349670410156, 3.6222994327545166, 9.1510591506958, 0.7588217258453369, -0.17221827805042267, 2.758427858352661, 19.697481155395508, -2.922407627105713, 1.36549711227417, 4.383310794830322, 8.3094482421875, 16.52647590637207, -8.484586715698242, -12.004751205444336, -6.876651763916016, 3.300762414932251, 7.071497917175293, -2.572923183441162, -9.9868803024292, 14.518875122070312, 12.299756050109863, -3.926708221435547, 5.027877330780029, -12.725017547607422, -4.263946056365967, -0.10684945434331894, 4.124331474304199, -8.924040794372559, 8.702288627624512, -8.880989074707031, -0.1819179654121399, -1.531853437423706, -17.50421714782715, -16.999235153198242, 1.4326400756835938, 4.243157386779785, -14.078370094299316, -5.334824085235596, 7.2409234046936035, 8.026086807250977, -6.375814437866211, 19.030290603637695, 2.527561902999878, 6.774862766265869, -16.57476806640625, -2.3230061531066895, 7.313299179077148, -0.9991803169250488, 10.900958061218262, 5.577792644500732, -3.1800034046173096, -1.618941307067871, -6.922963619232178, 7.21435546875, -4.43082332611084, 6.530468940734863, 18.471242904663086, 5.671201229095459, -3.8602426052093506, 5.6214423179626465, 5.454412460327148, -10.148977279663086, 18.050058364868164, -2.3736374378204346, -6.902081489562988, -3.7740249633789062, -12.649115562438965, 8.710103034973145, 10.211350440979004, 4.160048484802246, 4.200638294219971, 11.324445724487305, -2.314478635787964, 3.5086419582366943, -12.618694305419922, 5.979701519012451, 8.449542045593262, 5.50486946105957, 10.827568054199219, -15.005946159362793, 0.001213799580000341, -2.100192070007324, 7.744773864746094, -6.893661975860596, -9.18811321258545, -3.363966941833496, 8.157598495483398, -14.520668983459473, 1.927558422088623, 0.8586544990539551, -0.08158811926841736, -9.827054977416992, -6.7304182052612305, -0.6846969723701477, 7.6493401527404785, 5.577652931213379, 5.14607048034668, 3.466665744781494, 9.859037399291992, -1.8206437826156616, 2.01438045501709, -7.03781795501709, 17.583105087280273, -5.131271839141846, -4.875961780548096, 1.3002291917800903, -8.517562866210938, -11.389982223510742, 3.394498586654663, -11.453821182250977, -0.9580044150352478, 11.522838592529297, -1.5970771312713623, -11.355667114257812, -10.715333938598633, 13.11686897277832, 16.531770706176758, 2.3261334896087646, -19.573774337768555, 4.646617412567139, -8.430998802185059, -3.4106967449188232, -13.177793502807617, 7.437682151794434, 5.425236701965332, -0.11990044265985489, -14.163251876831055, 8.762103080749512, 7.301308631896973, 3.8741209506988525, 1.2848247289657593, 15.48770809173584, -12.674434661865234, -11.9124174118042, 6.328576564788818, 12.507330894470215, -12.75871467590332, 14.423049926757812, -2.3217360973358154, 16.167236328125, -5.03367280960083, 3.846609115600586, -19.40033531188965, 7.027188301086426, 8.379467964172363, 8.242347717285156, 7.853355407714844, 12.707817077636719, 8.7025146484375, -11.618892669677734, -8.628708839416504, -3.778312921524048, 1.20172119140625, 6.672630310058594, 6.017936706542969, 8.086088180541992, 10.036026000976562, -11.276952743530273, 10.601387023925781, -1.0553789138793945, -4.039831161499023, 2.9768335819244385, -4.100013732910156, 0.8684630393981934, -6.787641525268555, 6.472356796264648, -8.766730308532715, 16.681798934936523, -11.904829978942871, 7.072352886199951, -5.43682861328125, 13.898488998413086, -8.278162956237793, 9.397530555725098, 3.0997140407562256, -0.3716590106487274, -9.985811233520508, 2.7651209831237793, -14.06236457824707, 2.251844882965088, 3.4409232139587402, -12.783921241760254, 6.431605339050293, -2.005977153778076, -1.159462332725525, -9.110891342163086, 4.423208236694336, -3.48319673538208, -4.231564044952393, 16.388206481933594, -12.734819412231445, 0.5528870224952698, -0.11840933561325073, 6.372608184814453, -0.4340551197528839, -11.799138069152832, 3.7881946563720703, 3.7923710346221924, 3.8126590251922607, 2.84564471244812, 8.281829833984375, 2.921867609024048, 5.570923328399658, 9.696779251098633, -7.463223457336426, 0.6636576056480408, 4.095795631408691, 6.974699020385742, -11.198514938354492, 3.1906471252441406, -0.6386541724205017, -8.368246078491211, -6.852245330810547, -5.495549201965332, -15.194427490234375, -0.03960615396499634, -1.1909269094467163, 0.5259627103805542, 10.26751708984375, -5.270734786987305, -2.990224838256836, -8.097516059875488, 7.215818405151367, 10.158293724060059, 6.277297496795654, -1.2513823509216309, 5.959103107452393, 1.3489693403244019, -8.092912673950195, -3.988175630569458, -15.417724609375, 3.781815767288208, 2.6074130535125732, 15.901260375976562, -1.3424724340438843, -14.96231746673584, -14.866911888122559, 14.262518882751465, 12.567059516906738, -3.023902416229248, 11.72632122039795, -9.97493839263916, 4.906920909881592, 7.146957874298096, 4.307755470275879, -15.297478675842285, 1.2267436981201172, -14.6082763671875, 1.9809530973434448, 4.250679969787598, 7.153096675872803, 4.071195125579834, -15.49642276763916, -6.580018043518066, 3.9522006511688232, -1.7409822940826416, -5.343053817749023, 8.949498176574707, 5.06018590927124, 3.3700664043426514, -1.1887633800506592, 7.8338422775268555, 12.314971923828125, -12.527009963989258, -5.526409149169922, -4.226476669311523, 2.5837533473968506, -2.413996696472168, -2.7999284267425537, 6.597419261932373, 13.922632217407227, 1.3572663068771362, 11.779727935791016, 11.412110328674316, -18.40669059753418, -2.4230310916900635, -13.855512619018555, 12.15571117401123, -3.594698905944824, 6.570960521697998, 0.6078329682350159, -4.146914005279541, -8.31674861907959, -18.834182739257812, -0.9571061730384827, -3.287822961807251, -21.6208438873291, 1.2402420043945312, 4.110726356506348, -14.619672775268555, 11.119597434997559, -1.1565274000167847, -2.973602056503296, 0.4703741669654846, 10.075993537902832, 3.2547950744628906, 4.578654766082764, -12.164507865905762, 9.046621322631836, -13.24692440032959, -14.76302433013916, 10.068709373474121, 9.460768699645996, 1.3848925828933716, -12.116106986999512, 8.868887901306152, -6.125600814819336, 6.703012943267822, -4.066257476806641, 7.15814733505249, 11.467635154724121, 7.463799953460693, -15.657218933105469, -16.612293243408203, 11.566272735595703, -16.15441131591797, 5.994255542755127, 6.5974884033203125, -13.868496894836426, 5.564903259277344, 4.885535717010498, 8.41016960144043, -4.9869384765625, -4.177882671356201, 2.3718786239624023, -2.2388176918029785, -1.632933259010315, 0.16851350665092468, -0.6401553750038147, 3.645487070083618, -2.843081474304199, -13.564599990844727, 9.21719741821289, 3.0662946701049805, 11.504987716674805, 4.805805206298828, -14.546385765075684, -4.5256571769714355, -3.07487154006958, 12.69504451751709, -6.756960391998291, 3.910263776779175, 4.192423343658447, 1.4370245933532715, 10.116653442382812, 7.015686511993408, -20.125839233398438, 14.369665145874023, 12.284041404724121, 8.31238079071045, -4.575372219085693, -6.90131139755249, 5.371533393859863, -9.332840919494629, 12.189964294433594, 12.835025787353516, 0.9342746734619141, -4.506918430328369, 16.42230224609375, -9.87698745727539, -2.968578338623047, 3.548886775970459, -7.395034313201904, 15.31654167175293, 5.649860382080078, 18.209501266479492, -17.57979393005371, 9.7733154296875, 13.853514671325684, -3.0915160179138184, -9.812620162963867, 4.67706298828125, 7.271917819976807, 1.6189825534820557, -11.19103717803955, 8.420130729675293, 0.303909569978714, 0.297720730304718, 11.542609214782715, 6.750769138336182, -21.646095275878906, 13.482895851135254, -2.403085947036743, -9.619975090026855, -0.3684336245059967, -14.670166969299316, 3.7184531688690186, 3.9240918159484863, 14.017864227294922, 2.3552331924438477, 5.7199859619140625, -13.74683952331543, 0.645840048789978, -1.033557415008545, -12.445169448852539, -15.3175630569458, -14.383797645568848, -17.20445442199707, 6.8624725341796875, 9.242196083068848, 8.354842185974121, 3.7004315853118896, -14.683382034301758, 8.018367767333984, -18.530353546142578, -4.13721227645874, -13.803319931030273, 3.973240852355957, -2.1274030208587646, -18.659399032592773, -11.747209548950195, 9.710628509521484, -4.031452655792236, -4.443261623382568, 0.8586815595626831, -15.683218955993652, -13.12771987915039, 3.362584114074707, 8.535249710083008, 3.0875070095062256, 3.307666301727295, 1.462436556816101, -15.87116813659668, 12.795882225036621, 2.195380210876465, -1.315665364265442, 10.57900333404541, -12.452701568603516, 5.450729846954346, 0.7627408504486084, 1.3881558179855347, 14.399320602416992, -1.2834752798080444, -3.7910616397857666, -4.744606018066406, -16.532611846923828, 8.779083251953125, 3.6170530319213867, -1.4130496978759766, -12.424781799316406, 8.702248573303223, -6.457573413848877, 10.518471717834473, 11.88500690460205, -8.880115509033203, -2.1405675411224365, -2.5467123985290527, 2.935445785522461, -2.4030497074127197, -13.503053665161133, -0.026408301666378975, 0.0674523115158081, 9.175951957702637, 3.6330671310424805, -15.091793060302734, -2.602626323699951, 2.0693256855010986, -11.498025894165039, -20.00183868408203, 4.398447036743164, 11.075462341308594, 10.674246788024902, -0.2286847084760666, -8.853500366210938, -11.037230491638184, 2.5074827671051025, -0.2478419542312622, -6.833211898803711, 6.7283525466918945, -13.229036331176758, 1.29006028175354, -14.434870719909668, -13.269697189331055, 16.207969665527344, 2.8680121898651123, -14.378437995910645, 6.631601810455322, 0.6813849806785583, -1.5992274284362793, 8.951509475708008, 6.897835731506348, -2.0206525325775146, 4.535974979400635, -10.457782745361328, -8.127639770507812, -2.879941940307617, 0.34525933861732483, 2.3773844242095947, -16.40814781188965, -14.242742538452148, 3.0881831645965576, -11.109313011169434, -15.753011703491211, -12.185237884521484, 11.451959609985352, 2.360506772994995, 12.31156063079834, 1.4496952295303345, 11.303300857543945, 17.9700927734375, -17.70013427734375, 8.084251403808594, -22.379709243774414, -9.252668380737305, 5.038279056549072, -5.141716480255127, -4.780517101287842, -17.627071380615234, -8.880559921264648, -12.707744598388672, 9.055533409118652, 6.207217693328857, 4.151571750640869, 12.15894889831543, -14.50251579284668, 3.391890525817871, 16.012264251708984, -17.5146427154541, -4.163567543029785, -0.37228837609291077, 12.208155632019043, -15.149030685424805, -12.488479614257812, -2.6333844661712646, 3.7508797645568848, 5.477188587188721, 10.863045692443848, 1.435847520828247, 5.881874084472656, 11.429641723632812, 5.451033592224121, -2.123004198074341, -4.491605758666992, 1.6838589906692505, 5.751522064208984, -1.5889508724212646, -14.91026496887207, 2.3225507736206055, 3.867208957672119, -2.2801549434661865, -3.076979398727417, -6.679497718811035, -8.048301696777344, 15.788331985473633, -6.9115729331970215, 8.540339469909668, 6.727614879608154, -1.8899643421173096, -1.2674404382705688, -9.98596477508545, -4.954883098602295, -6.454218864440918, -12.25021743774414, 12.478161811828613, 10.706027030944824, 3.753739833831787, 13.70909309387207, -3.2792227268218994, 2.7764651775360107, -7.720332622528076, -12.62690544128418, 4.192189693450928, -0.06700827181339264, -9.243432998657227, 6.996798992156982, 4.315673351287842, -15.750752449035645, -3.259490728378296, -10.492287635803223, 12.493168830871582, 8.048774719238281, 12.399279594421387, -5.055368900299072, 8.542739868164062, 1.3499114513397217, -0.26470112800598145, -7.115755558013916, 7.486651420593262, -14.057913780212402, -9.329257011413574, -5.8539323806762695, 7.703375816345215, 2.4326086044311523, -2.8503713607788086, 9.992227554321289, 5.007141590118408, -3.589449167251587, 4.3145833015441895, -10.522942543029785, -16.03091049194336, -13.705206871032715, 13.688445091247559, -4.163484573364258, 11.684976577758789, -8.129648208618164, -10.129222869873047, 6.877352714538574, 5.4662766456604, 2.2529985904693604, 12.981889724731445, -13.133744239807129, -10.553488731384277, -0.28660574555397034, 15.572739601135254, -13.133427619934082, -1.3032262325286865, 2.983691930770874, 8.195038795471191, -9.132139205932617, -6.937685012817383, -0.05655134469270706, -7.687804222106934, 0.6458441615104675, 9.768743515014648, 5.165770053863525, -4.259109973907471, 4.412883758544922, -13.274419784545898, -2.7337565422058105, -5.7857160568237305, 4.984091758728027, 9.255522727966309, 14.491747856140137, 13.318986892700195, 1.1823978424072266, -2.9786179065704346, -7.221594333648682, 2.5144362449645996, 4.617027282714844, 14.135720252990723, 0.4219938814640045, 12.130080223083496, -5.123049736022949, 3.6269397735595703, -2.47737193107605, -14.273326873779297, 0.25002235174179077, 6.501463413238525, 7.698655605316162, -9.852069854736328, 13.652570724487305, -10.10629940032959, 5.152805805206299, 2.235809564590454, -12.056028366088867, -4.68447732925415, -5.849496841430664, 7.008904933929443, 8.300915718078613, -7.853855609893799, -12.869574546813965, -2.424149513244629, -2.009636640548706, -6.167741775512695, 0.08116836845874786, 6.723330974578857, 3.5513930320739746, 11.810998916625977, -1.3366998434066772, -3.883570909500122, 16.27373504638672, 5.9697747230529785, -8.484451293945312, 5.307095050811768, 2.408557891845703, -15.47201919555664, -17.347352981567383, 13.786168098449707, -8.567378997802734, -5.712817192077637, 2.8321709632873535, 13.670221328735352, -0.5079677700996399, 16.84600067138672, -6.323824882507324, 11.051070213317871, -14.059814453125, -11.3766508102417, -14.392462730407715, 13.285144805908203, 7.65239143371582, -1.3984384536743164, 9.778820991516113, 4.997520923614502, -18.59672737121582, 9.170851707458496, -4.615725994110107, 0.8110470175743103, -10.91908073425293, -2.3372514247894287, -19.47737693786621, 7.052007675170898, -11.243587493896484, 8.843247413635254, 5.4062886238098145, 5.963950157165527, -16.29459571838379, -3.817502498626709, 12.82673454284668, 1.917852759361267, 15.259648323059082, -3.699059247970581, -8.698637962341309, 0.9753627777099609, 1.197066307067871, 11.265608787536621, -10.604445457458496, -2.248004198074341, -6.856834411621094, 4.127503871917725, 7.129986763000488, 3.1876091957092285, 11.557501792907715, -3.593090057373047, -0.4748017191886902, 9.304706573486328, 1.4867514371871948, 5.651122570037842, -20.64944076538086, -2.4996166229248047, 1.6179929971694946, -4.318978309631348, -20.365615844726562, -15.947654724121094, 2.8445279598236084, -17.906110763549805, 9.826055526733398, -20.17473602294922, 6.475637435913086, 2.5732696056365967, -0.5373122692108154, -0.17535141110420227, 1.6235226392745972, 7.5553717613220215, -14.389023780822754, 15.447457313537598, -14.982864379882812, 6.709559440612793, -19.94839859008789, -3.5276293754577637, -12.324178695678711, -17.75417137145996, -4.28638219833374, 10.597837448120117, -6.508326053619385, -4.316626071929932, 2.1963605880737305, -20.82267951965332, 3.5712499618530273, 11.022292137145996, -0.7397920489311218, -1.5988579988479614, -20.392101287841797, 4.987102508544922, 1.107638955116272, 7.195794582366943, 0.2659255862236023, -7.425136089324951, 5.39445686340332, -7.281497001647949, -3.6690707206726074, 2.048407793045044, -7.58203125, 15.632084846496582, 0.48521888256073, 5.42622184753418, 1.1597784757614136, -2.932861089706421, -17.38640785217285, 9.702679634094238, 1.3686070442199707, -2.689815044403076, 11.907682418823242, 14.51869010925293, -15.874990463256836, 16.971071243286133, 5.661023139953613, -4.773342609405518, -2.0450308322906494, -1.386922001838684, 16.91566276550293, -5.877170562744141, 8.080385208129883, 5.698472023010254, 1.1634124517440796, 0.21234361827373505, 6.993674278259277, -1.039780855178833, -3.557701349258423, 16.26726722717285, -2.9460134506225586, -5.401236534118652, 15.397141456604004, -9.5120849609375, -6.068437576293945, 6.536869049072266, 5.451827049255371, 3.3102192878723145, 4.102742671966553, -9.632789611816406, 4.13423490524292, -2.945571184158325, 3.8088762760162354, -15.525052070617676, -12.810006141662598, 9.355450630187988, 4.113651275634766, 3.4682376384735107, 8.643831253051758, 4.90200662612915, 4.152252197265625, -4.7977294921875, 10.327881813049316, -3.568960428237915, 3.5690114498138428, -2.525238275527954, -1.148431420326233, 4.086477279663086, 12.226507186889648, 14.283968925476074, 17.43269157409668, 10.866375923156738, -12.831292152404785, 13.797791481018066, -12.954166412353516, 8.597341537475586, 4.655282974243164, -1.2486536502838135, 5.6690568923950195, 7.090527534484863, -17.10475730895996, 1.8955631256103516, -19.572559356689453, 2.1785964965820312, 1.9075137376785278, -8.215723037719727, 5.5796589851379395, 3.4018590450286865, 12.14968490600586, -10.956547737121582, 2.385334014892578, 15.878267288208008, -12.426253318786621, 14.749529838562012, 14.960373878479004, -10.874274253845215, -16.765525817871094, 7.307816982269287, 1.1667057275772095, 6.551189422607422, -12.040891647338867, -9.80771541595459, -1.9838086366653442, 3.337862730026245, 7.2118377685546875, 6.383548736572266, 13.329025268554688, -9.433405876159668, -4.817140579223633, 13.426104545593262, -7.675554275512695, -7.758993148803711, 7.590226650238037, 2.7017250061035156, -6.525454044342041, -6.212397575378418, 5.656482219696045, 15.748486518859863, -14.063920974731445, 12.377037048339844, 7.7812628746032715, 1.5505115985870361, 0.6902779340744019, -16.720312118530273, 11.061822891235352, -13.887201309204102, 5.435484409332275, 9.712859153747559, -12.438543319702148, 10.421209335327148, 8.110569953918457, -11.845272064208984, 2.8218231201171875, 17.730974197387695, 2.4222335815429688, -3.2508175373077393, -3.3511898517608643, -6.193277835845947, 6.033769130706787, 0.2711712121963501, -4.32975959777832, 8.18370532989502, -6.194692611694336, 5.950118064880371, -12.066594123840332, -16.49554443359375, 5.4429402351379395, -4.435438632965088, -4.793529510498047, 17.365087509155273, -5.6872406005859375, -8.784504890441895, 0.12841853499412537, -16.96625328063965, -7.875309467315674, 1.4436473846435547, -12.029207229614258, 4.531746864318848, -13.988967895507812, -2.7634873390197754, -2.451014518737793, -10.138449668884277, -0.2521907687187195, -4.172882556915283, -3.410482883453369, 0.7371495366096497, -3.8297488689422607, 5.285882949829102, -9.5513277053833, -9.968629837036133, -1.6539373397827148, 0.6048877835273743, 3.9239466190338135, 0.21190416812896729, 1.2722876071929932, 6.789659023284912, -7.294893264770508, 8.491397857666016, -3.6351728439331055, -1.9178614616394043, 9.676593780517578, -6.458686351776123, 6.9589104652404785, 9.223472595214844, -2.982057571411133, -12.37503433227539, 7.28516149520874, 4.689390182495117, 0.5931986570358276, 0.16114886105060577, 7.473608016967773, 5.916638374328613, -14.950522422790527, 2.7712831497192383, 2.0218567848205566, 10.930800437927246, 1.5357699394226074, 0.4959450364112854, 0.2536810338497162, -0.237672820687294, -3.979377031326294, -1.3689182996749878, -14.840402603149414, 5.2698655128479, 3.806036949157715, 4.739009857177734, 7.103206157684326, 4.542246341705322, 8.288469314575195, 5.869902610778809, 8.948856353759766, -9.024351119995117, 6.496500492095947, -3.3973875045776367, 14.856080055236816, 1.4366940259933472, -8.178854942321777, 4.31815242767334, -3.446775436401367, 4.014068603515625, -15.092967987060547, 2.1715400218963623, -12.569005012512207, 9.64353084564209, -0.4632967710494995, 0.1539316326379776, 12.205121994018555, -0.8225285410881042, -13.354355812072754, -10.33555793762207, 6.097211837768555, 5.961481094360352, -14.254733085632324, -9.8757963180542, -2.6137170791625977, 8.851874351501465, 13.215633392333984, 2.260312795639038, 13.27949047088623, -15.860953330993652, -9.951845169067383, -0.8027249574661255, -4.620670318603516, -1.7983042001724243, -15.044615745544434, 2.032166004180908, 8.203566551208496, 10.149374008178711, -19.59788703918457, 4.323126792907715, -2.191779136657715, -15.18690299987793, -5.816828727722168, 12.371308326721191, 4.493038654327393, -2.1433322429656982, 3.1979105472564697, -3.949765920639038, -2.551812171936035, 5.0692338943481445, 2.3755204677581787, 2.2182750701904297, -16.949899673461914, -0.9240434169769287, -9.860651969909668, -0.8851686120033264, -2.814424514770508, -4.494506359100342, -13.808834075927734, -8.907061576843262, 6.881606101989746, -4.329834938049316, -19.396564483642578, 0.9578133225440979, 0.6528205871582031, -13.547636985778809, 8.362753868103027, 2.34690260887146, -1.8169019222259521, -4.827863693237305, 13.666842460632324, 2.988952875137329, 1.3318325281143188, -13.798707008361816, 5.173590183258057, 5.771111011505127, -3.8201141357421875, -8.797215461730957, -0.8807413578033447, -0.25454843044281006, -6.386137008666992, -11.787449836730957, 2.7600715160369873, 8.961019515991211, 5.3006157875061035, -1.037549376487732, -10.996842384338379, 8.450830459594727, 10.036113739013672, -3.0110208988189697, -18.564125061035156, 0.8058980107307434, -0.5037276148796082, -4.960801601409912, -0.009028657339513302, 11.913956642150879, -2.058804988861084, 13.362136840820312, 9.04817008972168, 2.932574510574341, 9.846219062805176, -11.910120964050293, 7.290183067321777, -17.437658309936523, 17.450328826904297, 3.5120062828063965, 8.768790245056152, -9.532071113586426, -13.483877182006836, 9.541986465454102, -0.3813073933124542, 2.2827515602111816, -12.147507667541504, -15.041581153869629, 2.896477699279785, -14.162487983703613, -7.272680282592773, 6.900570869445801, -1.1885169744491577, -14.150229454040527, -9.57944393157959, -4.162624835968018, -4.999243259429932, 13.487948417663574, -0.5029399394989014, -2.6669363975524902, -13.861328125, -7.951318740844727, 5.190621852874756, 4.270792484283447, -5.005136966705322, -11.03406810760498, -15.619729995727539, 4.999464511871338, -12.46120548248291, 4.950532913208008, 4.0570173263549805, 11.850865364074707, -19.949356079101562, 9.254150390625, -4.139928817749023, 10.976190567016602, 8.518624305725098, 9.467554092407227, 1.4805105924606323, -10.209753036499023, 17.313865661621094, -10.975976943969727, 3.3740756511688232, 11.803674697875977, -3.966745376586914, -1.2971042394638062, -11.463302612304688, -5.979671001434326, 3.9253365993499756, 7.010970115661621, 12.271722793579102, 9.565435409545898, -10.586785316467285, -1.7332162857055664, -5.256379127502441, 5.176271915435791, 7.520188808441162, -17.090057373046875, -15.960555076599121, -8.408506393432617, 13.71435832977295, -7.139554977416992, 3.9117445945739746, 6.356321811676025, -6.711849212646484, 0.41077712178230286, 5.889559268951416, -20.59510612487793, -8.399539947509766, 2.160090208053589, -4.159786224365234, -14.659915924072266, -14.314144134521484, 12.120720863342285, -13.869857788085938, 6.896466255187988, 6.473284721374512, -14.320696830749512, 16.449064254760742, -8.440131187438965, -11.6372652053833, -16.562435150146484, -4.361113548278809, 11.498151779174805, 9.302806854248047, 9.433622360229492, -11.9492826461792, 12.67523193359375, -11.656889915466309, 9.022614479064941, -0.7861090898513794, 5.346045970916748, -10.855216026306152, -8.896422386169434, 2.658831834793091, -6.553684234619141, -6.039421558380127, 4.108157634735107, 3.7960712909698486, -17.95741844177246, 2.5853793621063232, 17.4083309173584, 1.1624685525894165, 9.521997451782227, 8.653783798217773, -14.956267356872559, 5.293756484985352, 1.666634440422058, -8.845678329467773, 3.1493208408355713, 13.037749290466309, -0.7127952575683594, -4.738121509552002, -10.641762733459473, 1.4741206169128418, -4.104611396789551, -9.345078468322754, 7.314736843109131, 1.988167643547058, -6.716847896575928, -4.429293632507324, 1.0054744482040405, 5.54844331741333, -3.748844861984253, 6.7305192947387695, 10.122027397155762, -3.9888739585876465, 1.6676653623580933, -5.702400207519531, -10.204330444335938, 1.692980170249939, -10.204565048217773, 2.538763999938965, 3.2457358837127686, 1.5810670852661133, -8.377053260803223, 7.101772785186768, 8.318424224853516, 8.439789772033691, 4.3252410888671875, 9.70770263671875, 3.3800363540649414, -0.14466513693332672, 3.3779726028442383, 14.641168594360352, 4.775201797485352, 7.461878776550293, -10.660890579223633, -5.679905414581299, -8.54955768585205, -10.399627685546875, -1.288804531097412, 2.293429136276245, 6.490633487701416, 15.413796424865723, 2.7523772716522217, 7.288545608520508, 5.334606170654297, 4.182150363922119, -14.605806350708008, -4.136654376983643, -15.26541805267334, -5.768988132476807, -12.264416694641113, 11.3892240524292, 10.196621894836426, 3.486009359359741, 12.092896461486816, 6.512660980224609, -10.479728698730469, 16.873720169067383, -12.664088249206543, -5.3215179443359375, -4.870713233947754, -6.102468490600586, -0.8134958744049072, -1.8458839654922485, 15.858617782592773, 11.104471206665039, -1.381521224975586, -0.23979875445365906, 14.301011085510254, 2.552478551864624, 5.086042881011963, 7.008053302764893, -5.502731800079346, -14.763588905334473, 10.28310775756836, 6.018245697021484, 15.20588493347168, 15.541071891784668, -10.542884826660156, -3.203281879425049, 10.490012168884277, -16.433551788330078, -15.123980522155762, 17.680320739746094, -9.91381549835205, 12.37447452545166, 8.91717529296875, -15.01820182800293, -14.451176643371582, 2.7970592975616455, 2.8054676055908203, 15.946709632873535, -11.93178939819336, -6.765842437744141, -11.527989387512207, 11.345651626586914, -15.223176956176758, -4.145476818084717, -0.26725131273269653, -13.688772201538086, 4.901557445526123, 5.071251392364502, 3.2006943225860596, -1.4811432361602783, 14.044797897338867, 15.385631561279297, -3.7774810791015625, 11.191000938415527, -2.61506724357605, -6.121274948120117, 9.194568634033203, 5.381072998046875, -0.2275325208902359, 10.00655460357666, 10.078243255615234, -19.568159103393555, 3.184723377227783, 8.397270202636719, 10.070707321166992, -0.2930624186992645, -5.44603967666626, -0.15565051138401031, -10.913714408874512, 13.193804740905762, -3.714060068130493, 0.19805847108364105, -11.947553634643555, 6.165602684020996, -3.773271322250366, 4.414424419403076, 5.017257213592529, -11.174787521362305, -7.538878917694092, 2.36324405670166, 4.059777736663818, -16.624645233154297, -1.009813666343689, 1.1774979829788208, 9.654346466064453, 10.478133201599121, 3.282003879547119, 7.193266868591309, -8.611719131469727, 11.507434844970703, 0.09321701526641846, -3.7948410511016846, 6.936643123626709, -12.821524620056152, 14.894468307495117, -8.612457275390625, -14.63847541809082, 4.349956035614014, 0.805192232131958, 0.4376329481601715, 1.1511993408203125, -3.86330509185791, 14.37741756439209, -13.528433799743652, 1.8004969358444214, -13.337632179260254, -16.457033157348633, -18.611249923706055, -8.24659252166748, 13.282652854919434, 6.151213645935059, -13.877578735351562, -6.025582790374756, -5.342269420623779, 6.205392360687256, -1.1479994058609009, -0.48112425208091736, 1.8111701011657715, -13.12960147857666, 10.752141952514648, 10.512752532958984, -1.51662278175354, 8.04913330078125, 16.664161682128906, -19.541847229003906, -2.235168695449829, -9.078561782836914, -14.685348510742188, -15.038141250610352, -9.20296859741211, -8.12424373626709, 3.690061092376709, 1.398713231086731, -0.26916149258613586, 12.218090057373047, 15.219034194946289, 0.0678272545337677, -13.128886222839355, 2.497511625289917, -3.060229778289795, -5.385184288024902, -2.665074586868286, -14.661298751831055, 5.164072036743164, 17.523771286010742, 1.401419758796692, -15.868290901184082, -1.6596853733062744, 2.707951784133911, 7.317654132843018, 2.2838821411132812, -1.185597538948059, -0.7377250790596008, 0.796210527420044, 6.376506805419922, 1.5415436029434204, 5.466960906982422, 6.676612854003906, -13.722343444824219, 9.107096672058105, 0.7500478625297546, -6.510236740112305, 2.720252752304077, 10.985821723937988, 6.172112464904785, -15.699060440063477, 5.471797466278076, 6.900495529174805, -1.5078754425048828, -19.257850646972656, 5.052003860473633, -11.042920112609863, 0.6131415367126465, -6.987534999847412, 0.6392765641212463, 5.758517265319824, 8.535299301147461, 9.208292961120605, -1.0512940883636475, 13.310691833496094, -14.243523597717285, 6.4278106689453125, 0.9034469723701477, 13.34170150756836, -1.3503717184066772, 5.315589427947998, 0.2679653763771057, 8.765819549560547, 15.134818077087402, -6.862529277801514, 6.486677169799805, 11.371301651000977, 7.894169330596924, -1.0468848943710327, -11.365620613098145, 9.374162673950195, 1.4210360050201416, -11.136143684387207, 6.921650409698486, -6.052489280700684, -5.091851234436035, 1.647119164466858, 9.00373649597168, 6.30510950088501, 1.3793715238571167, 0.08502932637929916, -13.692680358886719, 1.0844875574111938, -7.0130839347839355, 1.4563137292861938, 3.2342236042022705, -0.220915287733078, 10.89546012878418, 0.27430400252342224, 7.9362993240356445, -8.785499572753906, -15.284099578857422, 9.466164588928223, 3.518857717514038, -15.331660270690918, 7.653318405151367, 4.23045015335083, 5.155584335327148, 0.565323531627655, -7.504639625549316, 1.7741106748580933, 8.624642372131348, 0.802931010723114, 4.479267597198486, -3.039635181427002, -9.208142280578613, -5.642104625701904, -10.51637077331543, 3.1393935680389404, -3.357175588607788, 6.746448993682861, -3.9349710941314697, -9.126153945922852, 5.890242576599121, 14.705158233642578, 3.28981876373291, -0.38764944672584534, -3.402205228805542, -10.223832130432129, 12.466325759887695, -3.1564295291900635, 17.418399810791016, 9.023431777954102, 1.46700918674469, 15.25795841217041, -12.302115440368652, 7.972813129425049, 10.023018836975098, 4.653367042541504, 3.664440393447876, -7.879354953765869, 9.219169616699219, -12.609575271606445, -5.414677619934082, -3.0138742923736572, -2.690638542175293, 13.266701698303223, 6.628853797912598, -6.957670211791992, 4.617455959320068, -0.649009644985199, 7.7767133712768555, 3.951167345046997, -3.600456476211548, 14.226959228515625, -0.7728943824768066, 0.33242571353912354, -6.821284770965576, 3.618525266647339, 2.913717031478882, 3.8444411754608154, -18.713916778564453, -4.624460697174072, 5.752577304840088, 3.52687931060791, -4.326691150665283, 0.8575206995010376, -10.459431648254395, 0.06527519226074219, 12.217995643615723, -13.031915664672852, 0.976325511932373, -6.5235981941223145, -12.199670791625977, -4.4940996170043945, -19.090879440307617, -7.762963771820068, -6.5148091316223145, -7.279261589050293, 5.704695224761963, -1.9775245189666748, 11.475139617919922, 5.209555149078369, 7.21708869934082, 6.6409382820129395, 5.9467244148254395, 11.730830192565918, -1.483458399772644, -0.711793839931488, -12.570762634277344, 0.3004131615161896, -6.422502517700195, -6.944105625152588, -15.081819534301758, -7.265286922454834, 7.255833148956299, 7.798743724822998, -6.7120466232299805, -15.727307319641113, -4.144308090209961, 2.4678561687469482, -11.587967872619629, -4.924002170562744, 14.418031692504883, 10.432817459106445, -3.639308452606201, -5.960211753845215, 12.22813892364502, -4.080793380737305, 7.620326995849609, -1.0676262378692627, -0.35750481486320496, -16.46522331237793, -15.375792503356934, -3.5299019813537598, -16.438119888305664, -18.37457275390625, -7.595259666442871, -7.990501880645752, 10.210144996643066, -20.91985321044922, 9.140541076660156, -18.756633758544922, 2.349802255630493, -15.296695709228516, 10.843820571899414, -9.248234748840332, -11.899572372436523, -11.911039352416992, -10.022857666015625, -13.81070613861084, -0.6150996685028076, 5.299481391906738, 3.3295791149139404, 4.349966526031494, 10.56302261352539, 18.84954833984375, 16.61707878112793, 2.1320364475250244, 9.76519775390625, -3.4340155124664307, -12.28603744506836, 7.853604316711426, -12.864819526672363, -17.45070457458496, 1.2277976274490356, 4.457739353179932, 8.098832130432129, -20.52346420288086, 6.917193412780762, -21.24542236328125, 6.381392955780029, 9.101794242858887, 9.645376205444336, 12.649591445922852, -3.101252555847168, 3.531428098678589, -2.731269359588623, 3.3983688354492188, 0.3739413619041443, -14.864385604858398, -4.703952789306641, -15.740729331970215, 1.2209546566009521, -13.647700309753418, -1.6859155893325806, -2.9284756183624268, 4.386073589324951, 11.616729736328125, 10.545308113098145, -17.67330551147461, -2.433946371078491, 6.599102020263672, 5.6510233879089355, 1.9820090532302856, -13.090107917785645, 1.0462100505828857, -8.348968505859375, 11.429646492004395, 12.034812927246094, -8.530492782592773, 6.7051801681518555, 4.963955402374268, 3.8794782161712646, 7.4371232986450195, -0.49598580598831177, -4.592835903167725, 6.155510425567627, -8.602319717407227, -0.739762544631958, 5.540665626525879, 1.4053480625152588, 0.6426758766174316, -9.169052124023438, -16.21424102783203, 4.224589824676514, 7.3231658935546875, -21.23763084411621, 6.6492815017700195, 14.438153266906738, 0.9258261322975159, -12.488913536071777, 7.662730693817139, 4.447967529296875, 7.1704487800598145, -8.263497352600098, 13.785294532775879, 6.5269598960876465, -13.80441665649414, 1.9019532203674316, -12.467750549316406, 12.334638595581055, -2.8606739044189453, 2.206991672515869, 1.1184852123260498, 14.404019355773926, -5.01129674911499, 7.701760768890381, 13.866641998291016, 3.495335340499878, 8.237403869628906, 3.887200355529785, 10.538806915283203, -11.347868919372559, 1.7254276275634766, 0.3403944671154022, 15.294858932495117, -12.211119651794434, 7.210142135620117, -17.51925277709961, 6.157242298126221, 6.056412220001221, -5.151493072509766, 7.530763626098633, -0.1478501707315445, -6.524947166442871, -5.3673996925354, -16.704822540283203, -14.057062149047852, 4.221004962921143, -11.333767890930176, -10.444731712341309, 2.2250101566314697, 4.976681709289551, 4.050256252288818, -6.757224082946777, 15.821603775024414, -1.541669487953186, -17.553367614746094, -17.05936622619629, -3.0853569507598877, 3.810391902923584, -4.443962097167969, 13.899106979370117, -0.9308160543441772, 1.8876819610595703, 13.328097343444824, -0.21580897271633148, 2.6781184673309326, -7.223584175109863, -7.410003185272217, -4.620025157928467, 0.653491199016571, -3.683318853378296, -12.023541450500488, 15.922698020935059, -11.13141918182373, -5.324456691741943, 8.909372329711914, -1.6233097314834595, -4.279007911682129, 9.28984260559082, 8.648516654968262, -7.591074466705322, 3.4705023765563965, 4.3990678787231445, -9.527824401855469, 9.241388320922852, 4.333171844482422, 14.138326644897461, -11.236544609069824, 16.079736709594727, 10.53644847869873, 7.4598307609558105, 9.425944328308105, -7.673917770385742, -13.166988372802734, 6.342065811157227, -0.6584032773971558, -16.754901885986328, -4.838602066040039, -13.52650260925293, -5.317863464355469, -20.186567306518555, -6.763021945953369, 11.646624565124512, -12.932409286499023, -6.367652893066406, -1.7747414112091064, -1.1721251010894775, 1.3187934160232544, -3.648545742034912, -9.123453140258789, 12.92436408996582, 13.768915176391602, -0.26029807329177856, -16.419429779052734, 4.195941925048828, 2.9308085441589355, 12.808828353881836, 6.005649566650391, 4.758845329284668, -16.006019592285156, 13.022427558898926, 9.326826095581055, 1.9385497570037842, 12.670548439025879, 15.768643379211426, 4.136203765869141, -7.035861968994141, 8.894038200378418, 0.4344756007194519, 8.078878402709961, 8.95942211151123, -18.830928802490234, -21.901708602905273, 8.67359447479248, 10.622101783752441, -2.3385002613067627, -0.6629031896591187, 2.039950132369995, 17.95429801940918, -10.999626159667969, -11.986566543579102, -4.6895647048950195, 4.687741279602051, 6.343284606933594, -7.30204439163208, -10.424664497375488, 5.439866542816162, 2.3441240787506104, 10.70591926574707, -3.607182502746582, 5.148001670837402, 10.425633430480957, 7.697695732116699, -8.737250328063965, 0.42662662267684937, 1.6187794208526611, 0.3031952679157257, 16.138803482055664, -10.226578712463379, -6.872814178466797, 3.660151481628418, -15.758520126342773, -2.580717086791992, -6.668082237243652, -16.47809410095215, -15.516972541809082, 7.909241199493408, -9.291152954101562, 14.217100143432617, -1.3893938064575195, -2.0497915744781494, -11.599355697631836, 1.7604076862335205, 2.1736857891082764, -0.4263880252838135, -15.49162769317627, -16.29374122619629, 5.633529186248779, 2.0677943229675293, 1.376015305519104, 9.180487632751465, 1.978847861289978, -11.444047927856445, 10.339849472045898, 4.525694847106934, -7.615056037902832, -12.810269355773926, 6.726675510406494, -0.6181479692459106, 3.228055000305176, -9.106422424316406, -12.083040237426758, 1.4994804859161377, 10.8466796875, -2.9286298751831055, -12.12546157836914, 1.3021924495697021, 5.101402759552002, -5.675259590148926, -10.110005378723145, 0.25618410110473633, 6.409278392791748, 11.002849578857422, -8.336590766906738, 1.560051679611206, -9.204476356506348, -2.1987862586975098, 11.261547088623047, 8.921717643737793, 8.460701942443848, -19.750051498413086, -7.211808681488037, -6.772416114807129, 1.6151466369628906, 3.171161413192749, 3.874950885772705, -5.710439682006836, -15.490935325622559, -2.4337210655212402, 11.292654037475586, -2.0233757495880127, -3.7485833168029785, -0.13069812953472137, -4.191930770874023, 9.543625831604004, 7.5803303718566895, -12.118285179138184, 5.227696418762207, -0.6163344979286194, -1.6957156658172607, -7.097236156463623, -0.6573474407196045, 9.873403549194336, 1.186522126197815, 1.3026347160339355, 3.1390130519866943, 3.1036217212677, 1.6435577869415283, 1.711022138595581, 0.6226563453674316, 4.206759452819824, -2.113636016845703, 5.116011142730713, 7.801069259643555, 9.006218910217285, 5.4736247062683105, 9.22044849395752, -8.656396865844727, 5.077136039733887, -0.5173237919807434, 6.325265884399414, 6.2216410636901855, 1.873637318611145, -3.599745273590088, -4.5643391609191895, 0.8398816585540771, -9.23845100402832, -12.019583702087402, -11.139336585998535, -2.4588029384613037, 1.7487143278121948, -0.6401529908180237, 11.100756645202637, 2.5905232429504395, -9.415061950683594, 2.112830638885498, 4.105926990509033, -10.025111198425293, 7.756288051605225, 3.108077049255371, 2.611464500427246, 10.265609741210938, 8.953655242919922, 5.09467887878418, -0.5483666062355042, -1.4356205463409424, 2.0045063495635986, 4.558597087860107, 2.4169325828552246, 3.686795711517334, -15.356806755065918, 9.332722663879395, -0.9829317331314087, 16.0526123046875, -15.806151390075684, -8.40195369720459, 6.2876362800598145, 7.937405109405518, -4.285948276519775, 9.59719467163086, 10.7145414352417, 7.597995758056641, 2.760911226272583, 8.532307624816895, 14.74678897857666, -6.453579425811768, -0.19523166120052338, 0.5173441767692566, 6.946939468383789, 9.993690490722656, 2.727952241897583, 7.1151838302612305, -1.0932704210281372, 9.14311408996582, 9.961648941040039, -7.136460304260254, 4.204033851623535, -9.428442001342773, 4.383809566497803, 10.071639060974121, -12.299276351928711, -2.530045509338379, 0.8182043433189392, 2.183187246322632, 12.543611526489258, -0.5000871419906616, -13.488277435302734, 1.2190779447555542, 11.48357105255127, -11.023900985717773, -15.420793533325195, 12.836029052734375, 7.033844947814941, 3.215022325515747, 11.316747665405273, -17.292600631713867, 4.929585933685303, 8.48979663848877, 1.4602171182632446, -12.526556015014648, -0.30175936222076416, -0.7693670392036438, 11.549510955810547, 11.513635635375977, 3.2013068199157715, 4.392998695373535, 0.3692255914211273, -17.36906623840332, -2.4831693172454834, -2.9696567058563232, -14.133770942687988, 13.91718578338623, 7.7736897468566895, 17.748456954956055, 5.85634183883667, -15.979116439819336, 1.1125251054763794, -4.763523101806641, -7.039103984832764, 4.465710163116455, 16.583982467651367, -1.3786596059799194, 7.5337815284729, -8.740812301635742, 10.344657897949219, -6.785302639007568, 1.7304340600967407, -11.882986068725586, -6.15159797668457, -5.087157726287842, 1.3306795358657837, -2.7946183681488037, 6.112318515777588, -7.234675884246826, 8.68212890625, -3.316406726837158, -14.241471290588379, -0.2465793639421463, 2.3301761150360107, -2.2219669818878174, 15.304083824157715, 1.763666033744812, 0.9005790948867798, -19.831634521484375, 5.007034778594971, 16.792274475097656, 4.977277755737305, 12.410385131835938, -1.4565167427062988, 3.5334317684173584, -0.49371978640556335, -11.246600151062012, -14.005729675292969, 1.4803682565689087, 5.396751880645752, -13.87873363494873, 2.6638293266296387, -6.340318202972412, 8.606858253479004, -3.2651145458221436, -11.411689758300781, -2.4566221237182617, -14.78250789642334, -10.514691352844238, 6.355985641479492, -15.16286563873291, -0.16595014929771423, -6.518579006195068, -0.38479119539260864, 9.862028121948242, -17.865039825439453, 3.7030372619628906, 2.6230225563049316, -15.982316017150879, -2.208876848220825, 16.02446937561035, 3.107372999191284, 3.3385374546051025, 2.600957155227661, 0.059771016240119934, 9.462002754211426, 1.7675416469573975, -4.408563613891602, 6.173436164855957, 4.416257858276367, 4.607227325439453, 6.031792163848877, -7.179244041442871, -12.465461730957031, 10.778807640075684, 16.441076278686523, 2.276848554611206, -2.4030086994171143, -9.82314682006836, -5.416895389556885, 14.806270599365234, 11.239466667175293, -3.7681992053985596, -8.13718318939209, 2.6130518913269043, -2.9436020851135254, 5.97466516494751, -13.887223243713379, 5.296719551086426, 4.1362080574035645, -0.145814448595047, 14.478748321533203, -8.078780174255371, 8.562236785888672, -6.572266578674316, 2.8480453491210938, 8.326951026916504, 2.856736898422241, -5.343664646148682, 3.6544315814971924, 2.769770383834839, -13.887110710144043, 11.174164772033691, 3.1381947994232178, -12.618224143981934, 9.341703414916992, 9.364204406738281, 7.788032054901123, -12.348799705505371, -2.6903603076934814, 4.993270397186279, -5.603984355926514, 12.629167556762695, 0.5762611627578735, 6.198919296264648, -6.296964645385742, 4.521890640258789, 3.729654312133789, 11.9172945022583, -0.5460910201072693, 9.133615493774414, 5.140390396118164, -3.2857091426849365, 15.775151252746582, 5.704104423522949, 5.8338189125061035, 7.140283107757568, 6.992468357086182, 2.5729711055755615, 9.006803512573242, -6.816518783569336, 15.448402404785156, -9.396259307861328, 4.072429180145264, -4.988245487213135, 6.891585350036621, 3.4971258640289307, 1.2471147775650024, 2.693979501724243, 3.845484495162964, -3.5612049102783203, -6.796816825866699, -2.8394546508789062, -3.5666608810424805, 8.756921768188477, 8.560358047485352, 15.33911418914795, 7.54776668548584, -11.70938777923584, 7.1718902587890625, 3.7381210327148438, -13.061029434204102, 0.6134636998176575, -7.761030197143555, 4.808596611022949, -5.797759056091309, 5.395927429199219, -11.325210571289062, 3.2510898113250732, 10.876764297485352, 6.865501880645752, 9.41163444519043, -19.64356803894043, 3.8480794429779053, 14.2896146774292, 10.612563133239746, 14.72571849822998, 7.025609493255615, 13.309399604797363, -8.7875394821167, -5.001718521118164, -16.47734260559082, 9.879644393920898, -6.108663082122803, -12.449968338012695, -18.368303298950195, -12.280176162719727, -5.305599689483643, 9.848048210144043, -19.985002517700195, -2.2209930419921875, 7.211973190307617, -18.09731101989746, -7.197401523590088, 9.190855026245117, -1.833713412284851, -11.313714981079102, 4.399423599243164, 3.2825403213500977, 5.798553943634033, 9.044683456420898, 17.637073516845703, 1.40863037109375, 6.838386535644531, -1.7824774980545044, 6.379349708557129, -3.126925468444824, 5.5419602394104, -17.52052879333496, -3.9694786071777344, -19.182466506958008, 6.930595397949219, 7.9066314697265625, -14.328347206115723, -12.364188194274902, 14.585485458374023, 6.840075969696045, -9.237486839294434, 6.42907190322876, 8.372766494750977, 8.613445281982422, 13.394641876220703, -12.503437995910645, 3.3900580406188965, -0.5659028887748718, 2.687311887741089, -0.20366208255290985, 1.3339989185333252, -6.883958339691162, -15.071549415588379, 11.28425121307373, -2.6808903217315674, -5.250155925750732, 1.3729455471038818, -19.524311065673828, -13.74671745300293, -4.274656295776367, -10.689278602600098, -3.1406478881835938, -8.740962982177734, 10.359993934631348, 2.8445942401885986, 9.493358612060547, -1.5231008529663086, 7.653268814086914, -15.24419116973877, -9.728422164916992, -7.098304748535156, 10.039114952087402, 5.563633918762207, 14.124051094055176, 2.278928756713867, -6.081876277923584, 12.589438438415527, 3.370778799057007, 10.217547416687012, -3.224794387817383, 4.996382713317871, 1.343256950378418, -11.43484115600586, -6.376445293426514, -3.439678907394409, 6.96061897277832, -14.605998992919922, 1.8013838529586792, -5.418889045715332, 9.420973777770996, 1.1242344379425049, -1.4729630947113037, -8.254499435424805, -1.050719976425171, 0.4460459351539612, -7.640652656555176, 9.691985130310059, 8.740262985229492, 5.404783725738525, 14.292343139648438, 3.2331974506378174, -0.7774966359138489, -2.7199645042419434, -9.125935554504395, -11.329017639160156, 8.217008590698242, 7.999234199523926, 15.2904634475708, 1.6969956159591675, 1.6215678453445435, -10.30858039855957, 8.663994789123535, 13.81767749786377, 13.538147926330566, 8.706198692321777, 1.0561821460723877, -6.280453205108643, -5.606801509857178, -1.6813410520553589, -0.41383489966392517, 2.0174741744995117, 5.3434648513793945, 1.342715859413147, 4.478408336639404, 8.325836181640625, -10.429242134094238, -10.52534294128418, 1.387613296508789, 8.61168384552002, 10.9149751663208, 8.614619255065918, -16.287038803100586, 15.86471176147461, 8.90821361541748, -8.388914108276367, -13.269501686096191, -9.581902503967285, -4.0154900550842285, -2.7052111625671387, 0.019902076572179794, 5.3839240074157715, -14.86690616607666, 5.720704555511475, -0.09371379017829895, -4.516236305236816, 1.0413087606430054, -11.408931732177734, 13.766342163085938, -13.314847946166992, 6.347978591918945, -0.19297601282596588, 8.50841999053955, 13.69039535522461, -6.624111175537109, 17.237730026245117, -11.575827598571777, -0.1489378660917282, -4.468130111694336, -3.0491318702697754, 1.2471897602081299, -0.9394254684448242, 10.88062572479248, -17.33405876159668, -0.16371877491474152, -4.301298141479492, -0.35183027386665344, 12.064533233642578, -0.8641291856765747, -3.8823750019073486, 11.656818389892578, 12.5853853225708, 8.351201057434082, -4.388299465179443, 6.555083751678467, -8.916794776916504, -13.257574081420898, -4.881509304046631, 3.6676454544067383, 5.112926959991455, 16.673601150512695, -12.13913345336914, -6.377020359039307, 16.519458770751953, 9.918991088867188, 12.518096923828125, -5.063922882080078, 14.946965217590332, 15.238689422607422, 1.8101317882537842, -0.6901858448982239, 6.933022975921631, -4.281346797943115, -9.475364685058594, -1.4388039112091064, -4.305444240570068, -15.187545776367188, -7.873264312744141, 2.351943254470825, -2.885935068130493, -2.994080066680908, -4.213862895965576, -2.0027081966400146, 8.386653900146484, 7.188255310058594, -13.540324211120605, 6.3713698387146, 4.485159873962402, 10.171918869018555, -0.12078440934419632, -0.02948971837759018, 2.324650287628174, 3.4019718170166016, 13.135187149047852, 7.119767189025879, -0.24645677208900452, 11.958403587341309, -13.713444709777832, -11.696441650390625, 9.824281692504883, 2.107398271560669, -0.659382164478302, -13.69810962677002, 2.130195140838623, -21.537883758544922, -16.901517868041992, 1.0011887550354004, 17.517345428466797, 11.153253555297852, 6.771825790405273, -1.108189344406128, 3.659287214279175, 7.719640254974365, -1.5264694690704346, -8.607816696166992, 3.663590669631958, 3.9021620750427246, -0.4572674632072449, 15.07708740234375, 9.738197326660156, -2.923076629638672, -8.996719360351562, -12.46243667602539, -14.238595008850098, -3.365466594696045, 0.9333078861236572, 5.74575138092041, -1.962253212928772, -6.672149658203125, 6.78394889831543, 4.55915641784668, -0.27577680349349976, 2.3894741535186768, -1.2279572486877441, 9.306916236877441, 9.005075454711914, -3.7580416202545166, -17.447423934936523, -16.346633911132812, 6.804228782653809, -15.077936172485352, 8.461395263671875, -0.02456740476191044, -12.928257942199707, -10.057473182678223, 6.938417911529541, 10.429455757141113, 1.0297452211380005, 2.632854461669922, -11.031848907470703, -8.075475692749023, -5.284717559814453, 10.025079727172852, 4.5402750968933105, -11.328056335449219, 3.1377787590026855, -1.22065007686615, -12.792184829711914, 6.7992963790893555, 0.7543758749961853, -13.859283447265625, 0.3919049799442291, 5.280451774597168, -10.048975944519043, -5.320374965667725, -6.350484848022461, 2.996166944503784, -1.4024784564971924, -3.3929355144500732, -17.340652465820312, 6.863134860992432, 2.034515380859375, -6.261724948883057, -15.86436653137207, -9.692909240722656, 5.210253715515137, 3.185163974761963, -10.805390357971191, 13.142868041992188, -13.168392181396484, -7.0218377113342285, 3.0020904541015625, 10.45136833190918, 12.330486297607422, 0.38564273715019226, -1.8495110273361206, 6.692026615142822, 4.746749401092529, -14.010456085205078, 9.256851196289062, 2.123952627182007, -10.559892654418945, -16.845109939575195, -0.667914867401123, 11.181451797485352, -1.5519680976867676, 0.886772871017456, 3.7155003547668457, 10.563268661499023, 10.37771224975586, 5.92872428894043, 5.31687068939209, -12.432075500488281, 14.51807689666748, -22.0777530670166, 12.742742538452148, -13.606961250305176, 10.751084327697754, 4.875470161437988, 4.44663143157959, -16.017576217651367, -14.937251091003418, -16.204113006591797, -3.8842782974243164, -13.844707489013672, -4.502946376800537, -3.061438798904419, 17.628393173217773, -19.9415283203125, 16.16317367553711, 6.339725494384766, 7.781702995300293, -14.849528312683105, 3.592758893966675, -17.112998962402344, 4.284790515899658, 16.210153579711914, -16.089548110961914, -0.8264002203941345, -12.761999130249023, -8.629447937011719, 4.215465068817139, -17.06197166442871, -1.58784019947052, -13.680146217346191, -4.07697868347168, 2.219273328781128, 5.398437023162842, -12.738248825073242, -0.5418052673339844, 18.31151580810547, -11.872444152832031, -12.885588645935059, -11.916133880615234, 6.834574222564697, 7.023196697235107, -15.921344757080078, -3.7278006076812744, -13.398170471191406, 3.3093786239624023, 1.9530764818191528, 4.129244804382324, -17.097490310668945, 3.689819097518921, -19.81873893737793, 13.324731826782227, 0.8155414462089539, 3.350835084915161, -1.963422179222107, 13.113936424255371, 6.140231609344482, 8.616479873657227, 6.6698760986328125, 4.631477355957031, -13.10787296295166, -4.565631866455078, -17.70274543762207, -0.9179483652114868, 2.260115146636963, -1.1252660751342773, 8.253754615783691, 14.088934898376465, 4.841331958770752, -6.361992359161377, 12.601629257202148, 5.1285858154296875, 4.918752670288086, 5.5424323081970215, -0.44313564896583557, -14.290796279907227, -12.999800682067871, -3.3496944904327393, -14.826048851013184, -10.63338851928711, 15.754115104675293, 6.305968761444092, 9.32817554473877, 7.006369113922119, -11.640054702758789, 1.1136144399642944, 9.449203491210938, -11.78234577178955, 13.122162818908691, 6.420657157897949, -14.182455062866211, 10.933167457580566, -15.539217948913574], \"y\": [-4.193061828613281, 11.500045776367188, 1.8828312158584595, 5.484214782714844, -1.2283110618591309, 2.2778453826904297, -0.9060381054878235, 17.795738220214844, 1.9913899898529053, -11.861191749572754, 0.9612893462181091, 10.415709495544434, -2.5207531452178955, 11.36247444152832, -6.0189008712768555, -5.588129043579102, 0.5695263147354126, 14.053410530090332, 11.554101943969727, 0.6083531379699707, -4.6752190589904785, -1.9785579442977905, -9.41142463684082, -1.2904062271118164, -13.542104721069336, 4.65413236618042, -6.86527156829834, -1.172491431236267, -5.584113597869873, -1.2599668502807617, -3.521803140640259, -6.184680461883545, -12.866195678710938, -12.405942916870117, 10.111710548400879, -1.3178709745407104, 2.989851951599121, 14.708575248718262, -0.7736803889274597, -9.90488338470459, -2.4730069637298584, -12.48649787902832, -4.65701961517334, 12.382554054260254, -11.98859977722168, -10.79236888885498, 2.75986385345459, -0.5725841522216797, 0.7209634184837341, -10.09622573852539, -0.288446843624115, 1.8117163181304932, -4.885011672973633, 0.15408717095851898, -1.8221545219421387, -6.100844860076904, 3.9967381954193115, 9.010062217712402, 0.7985985279083252, -16.612850189208984, -3.7428324222564697, -11.248885154724121, 4.530951976776123, -8.764290809631348, 4.139173984527588, 0.8501355648040771, -2.763427257537842, -9.015584945678711, -4.938883304595947, 11.64991283416748, 1.5697664022445679, -1.7238636016845703, -7.1309380531311035, -8.37624740600586, 8.999788284301758, -8.606038093566895, 7.390013694763184, 2.778360366821289, -0.6104068756103516, 3.010830879211426, -2.899639844894409, -0.8249481320381165, -4.584278583526611, 0.8801040649414062, -13.68765926361084, -1.4246160984039307, -2.607775926589966, 2.176103353500366, -1.668068766593933, -16.71111297607422, -4.696329116821289, 5.823564052581787, -6.935809135437012, 0.4953955113887787, -2.1288719177246094, -4.569591045379639, -12.188607215881348, -1.281421422958374, -1.9566675424575806, 8.61186695098877, -12.37088680267334, -13.15090274810791, -2.4785735607147217, -2.4886364936828613, 10.903807640075684, 2.5913734436035156, -3.49364972114563, -1.903159737586975, 14.385212898254395, 7.1663289070129395, -1.9741631746292114, 16.631561279296875, -6.088542461395264, 6.809966087341309, 3.303384780883789, 0.3855004608631134, -1.1653913259506226, 2.00437593460083, -14.276864051818848, 0.3663181960582733, 7.380303382873535, -13.961264610290527, 0.6037864685058594, 4.224124431610107, 17.53472137451172, 12.031073570251465, -4.5769195556640625, 14.585487365722656, -15.373353958129883, 18.40615463256836, -1.4035639762878418, 2.6728878021240234, 16.566022872924805, 4.13316535949707, -6.597238063812256, 12.789239883422852, 13.731698989868164, 2.5039052963256836, 6.062185764312744, 5.656093597412109, 8.281737327575684, -0.6067568063735962, -7.81793737411499, -13.451783180236816, 1.0041037797927856, 1.6610517501831055, -7.998180389404297, 3.770883798599243, 15.530609130859375, 16.74007797241211, 3.7867493629455566, 18.230073928833008, 4.111767292022705, 9.544234275817871, -0.22288034856319427, 2.6401376724243164, 0.03763383999466896, -5.03006649017334, 13.429340362548828, 5.062155723571777, 2.9279332160949707, -15.401906967163086, -2.8555338382720947, -0.9928624033927917, 6.714122772216797, -0.6205031275749207, 8.867761611938477, -11.263530731201172, -0.687843918800354, -0.355876624584198, 0.3452589511871338, -17.60128402709961, 11.74218463897705, -9.53593635559082, -5.3819732666015625, -14.605277061462402, 15.813209533691406, 13.755621910095215, -12.691926002502441, 8.969223976135254, 18.319053649902344, -4.215636253356934, 9.484599113464355, 1.4362120628356934, 15.102707862854004, 4.048392295837402, 6.35698127746582, 3.1996748447418213, 15.542276382446289, -2.4861507415771484, -11.458247184753418, -10.402997016906738, -1.0989247560501099, -2.084652900695801, -4.2126784324646, 0.12514328956604004, -16.122108459472656, 0.11726733297109604, -1.816271185874939, 1.580075740814209, -3.7598536014556885, -2.5679712295532227, 0.14606408774852753, 9.49028205871582, 0.9277199506759644, 15.570408821105957, -10.179615020751953, 4.967021942138672, 6.1968889236450195, 4.425436973571777, -3.0969595909118652, -11.128565788269043, -9.592321395874023, 0.9419244527816772, -12.71165657043457, -0.05429933965206146, -16.465429306030273, 0.5328143835067749, -11.791507720947266, -11.884394645690918, -8.33034610748291, 2.7731661796569824, -3.3654818534851074, 2.8565027713775635, -5.795854568481445, 11.106789588928223, -3.5878560543060303, 14.685640335083008, 2.9877943992614746, 11.274948120117188, 11.213787078857422, -14.299603462219238, -1.3721263408660889, 2.3637356758117676, -1.8078093528747559, -9.694042205810547, 9.303223609924316, -5.607146263122559, -7.966378211975098, -3.6220734119415283, 12.92532730102539, -6.431430339813232, 2.120833396911621, -6.521201133728027, 6.802995204925537, -3.917790174484253, -0.7544425129890442, 1.8929814100265503, 8.453826904296875, 2.4267029762268066, 1.5950448513031006, -0.5325278639793396, -5.6459879875183105, -11.29343032836914, 2.336582660675049, 4.760259628295898, 6.48868465423584, 5.37870979309082, 3.105900764465332, -8.966304779052734, 1.7307367324829102, -1.4324116706848145, -12.430777549743652, 5.972385883331299, -4.840791702270508, 0.25118324160575867, 10.2133207321167, -0.7276526689529419, -4.750350475311279, 9.280746459960938, -0.5636933445930481, -0.3150045871734619, -4.71800422668457, -4.774949073791504, -5.971182823181152, 3.697089910507202, 7.9205732345581055, -4.911273002624512, -11.321943283081055, 10.602849960327148, -8.821404457092285, 2.2874057292938232, 7.6092329025268555, -5.9589948654174805, -5.666976451873779, 7.823371410369873, 16.926395416259766, 8.293678283691406, 5.48560905456543, 11.617892265319824, -9.488849639892578, -6.072380065917969, -8.563578605651855, -1.9280203580856323, -7.938015460968018, 5.30094575881958, -9.470224380493164, -12.38936710357666, 0.15742598474025726, -11.113648414611816, -5.285628318786621, -16.580678939819336, -5.562315940856934, 1.3014464378356934, 4.02379846572876, -1.8628923892974854, 3.791294813156128, -10.85094928741455, 1.7197545766830444, -8.72441577911377, -9.759491920471191, 7.063453674316406, 2.676424503326416, -9.81851577758789, 10.537198066711426, -9.003273010253906, 10.684414863586426, -8.367291450500488, 1.6406433582305908, -8.087651252746582, -1.0731768608093262, 13.005566596984863, -8.435303688049316, 0.4854743182659149, -10.745648384094238, 16.81709098815918, -3.5606043338775635, -7.160649299621582, 14.256064414978027, 4.969202041625977, -1.017786979675293, 2.8711681365966797, 3.035900592803955, -1.3165395259857178, -3.1965584754943848, -1.017970323562622, 2.1647911071777344, -5.74120569229126, -1.9715182781219482, 10.229427337646484, 0.7990392446517944, -1.7052438259124756, 3.234560489654541, 10.143824577331543, -3.5510144233703613, 3.2424941062927246, 16.4433536529541, 2.326545238494873, 2.7196202278137207, 1.2496992349624634, -0.16190683841705322, 11.345830917358398, -12.797518730163574, 4.289984703063965, -0.748406171798706, 7.184906005859375, 6.856698513031006, 13.339983940124512, 9.197688102722168, -3.3471364974975586, 1.0718778371810913, -9.162174224853516, -4.710085868835449, -8.917145729064941, -1.823910117149353, -9.232646942138672, 2.1576130390167236, 12.129071235656738, 0.035738393664360046, 13.183187484741211, 5.731940269470215, -3.062756299972534, -15.14539623260498, 14.487011909484863, -6.490480899810791, -2.873640537261963, -5.281284809112549, 16.485918045043945, 6.722235679626465, -2.405613660812378, 7.748796463012695, 9.750930786132812, 9.281800270080566, -7.8453545570373535, 9.751893997192383, 11.846851348876953, -7.319084167480469, 15.349699974060059, 17.714427947998047, 8.920093536376953, -8.4795503616333, -14.02145767211914, -8.839404106140137, 16.03521156311035, 0.4348720610141754, -0.4969936013221741, -2.0493698120117188, 10.724709510803223, -3.3278701305389404, 11.046740531921387, 1.4964672327041626, 2.0872862339019775, 1.9733296632766724, -1.572907567024231, -18.110992431640625, -9.096879959106445, 9.076713562011719, -0.679581880569458, -4.71881628036499, -1.4185616970062256, 8.157999992370605, -2.91139554977417, 3.2439534664154053, -2.075684070587158, 11.62366771697998, 0.5507800579071045, 9.540313720703125, -9.463987350463867, -8.074857711791992, 6.2256669998168945, -16.461103439331055, -5.739505290985107, 0.22634358704090118, 10.835640907287598, 17.693233489990234, -6.981509685516357, 4.705883502960205, 12.225354194641113, -3.0839180946350098, -2.878918409347534, 10.391471862792969, -4.42943000793457, 12.956093788146973, -14.7804594039917, 2.9930026531219482, -3.4368696212768555, 10.957916259765625, -10.788467407226562, -3.419684886932373, -10.268717765808105, 12.047720909118652, -16.023813247680664, 0.7672299146652222, -8.460531234741211, 2.5706300735473633, 3.2428901195526123, 0.46054932475090027, -4.46925687789917, -14.770334243774414, -3.581968307495117, -3.338372230529785, 8.553736686706543, 3.0118026733398438, -6.951649188995361, -0.87415611743927, 2.4769601821899414, 9.428677558898926, -4.885567665100098, -17.677751541137695, 8.925773620605469, 7.273506164550781, -1.9839324951171875, 15.155007362365723, -1.9866178035736084, 4.936182498931885, 8.26685905456543, 14.623645782470703, -12.873539924621582, 3.407038927078247, 15.210530281066895, -0.770887553691864, 3.708242177963257, -9.70333480834961, -5.799137115478516, -1.8820271492004395, 3.795848846435547, -2.0915567874908447, 12.98323917388916, -9.523938179016113, 1.4227741956710815, 1.9059985876083374, 0.33203503489494324, -2.74927020072937, -3.3818156719207764, -8.585460662841797, -15.189077377319336, 10.206893920898438, -17.56049919128418, -5.155600070953369, -9.602731704711914, -6.887592792510986, -1.276572585105896, 1.4483394622802734, 12.820140838623047, -0.7721139192581177, 6.932073593139648, 1.0665041208267212, -8.047001838684082, 0.20832976698875427, -5.030272483825684, 1.933676838874817, -11.889261245727539, -13.297598838806152, 3.664174795150757, -0.9682298898696899, 3.96142315864563, -2.493086338043213, -2.067153215408325, -9.147494316101074, -3.118399143218994, 5.67499303817749, 12.75380802154541, -2.738600730895996, -13.950109481811523, -12.413817405700684, 6.976902008056641, -1.9499832391738892, 4.943704128265381, -0.5453088879585266, 4.524068832397461, -2.0731217861175537, -2.9904427528381348, 0.9669644236564636, -3.9637906551361084, -8.246999740600586, -11.268980979919434, 6.886643886566162, 0.6920406222343445, -8.738367080688477, -7.646445274353027, -9.125497817993164, 18.79776954650879, -1.1950106620788574, -7.781585693359375, -3.313995599746704, 16.705703735351562, 8.590904235839844, -16.693647384643555, -2.164107322692871, 1.7815543413162231, 6.355479717254639, 2.8647429943084717, -14.15587329864502, -0.5382551550865173, 4.906350135803223, 2.6870784759521484, 4.494533061981201, -5.567628383636475, -1.4262436628341675, -2.1055502891540527, -1.6306402683258057, -5.076266765594482, 11.79596996307373, 9.426162719726562, 5.394641876220703, -6.216919898986816, -13.38625717163086, 14.749710083007812, 4.694521903991699, 3.618661880493164, -1.3733314275741577, -16.533660888671875, -7.604276180267334, -5.472947597503662, -3.139716148376465, -0.45810747146606445, -14.350240707397461, -5.057718276977539, 15.110359191894531, -3.9347517490386963, -6.224626541137695, -3.2764594554901123, -9.014595985412598, 6.640674114227295, 1.5316962003707886, 0.7350874543190002, -7.68008279800415, -11.060813903808594, -1.6557197570800781, -5.405076026916504, -2.762848138809204, 13.464132308959961, 6.198327541351318, -10.861848831176758, 10.074844360351562, -14.622247695922852, -12.370986938476562, -2.6679017543792725, -8.509521484375, 13.492318153381348, -6.6115899085998535, 6.6787261962890625, 10.012532234191895, -6.659083366394043, 11.249094009399414, 11.568861961364746, 11.40682315826416, -14.259943008422852, 7.746399879455566, -8.30698013305664, 6.859683513641357, -10.39030647277832, -9.295722007751465, -2.0708541870117188, -3.040079116821289, -0.054117076098918915, -11.199886322021484, 8.885868072509766, -2.438978433609009, -2.159116506576538, 0.8794137835502625, -1.7824112176895142, -0.010150725021958351, 5.948906898498535, -6.083479404449463, 11.29857063293457, -6.525451183319092, 14.937085151672363, -3.8689048290252686, -10.481124877929688, -2.0354137420654297, -2.8315677642822266, -2.789890766143799, -4.870190620422363, 8.901057243347168, -4.6539225578308105, 9.59970474243164, 10.425141334533691, 2.4198191165924072, 1.0258451700210571, 12.387971878051758, 2.861600875854492, 5.418614387512207, -0.0021697157062590122, -15.053815841674805, 0.9569699168205261, 3.8785758018493652, 14.006613731384277, -3.125441789627075, 4.539179801940918, 4.051419734954834, 0.0018766385037451982, 8.502408981323242, 11.664449691772461, -8.251949310302734, 6.305475234985352, 0.9217954874038696, 11.518462181091309, 4.849621295928955, -7.325199127197266, 3.0688023567199707, 9.980859756469727, 9.871903419494629, 0.1859530806541443, -5.489706039428711, -10.049896240234375, -10.795878410339355, 17.886648178100586, 3.014024019241333, 9.35634708404541, -1.6834245920181274, -14.925375938415527, 2.325610637664795, -11.476141929626465, -2.1172401905059814, -6.280275821685791, -7.927237033843994, 10.788681030273438, 0.6369439363479614, -2.1705322265625, -10.916499137878418, -9.095597267150879, 4.078272819519043, -0.5873140692710876, 2.946648120880127, -6.324450969696045, 2.0262677669525146, -2.622588872909546, -16.0402774810791, -2.0686590671539307, 0.023726262152194977, 1.0286931991577148, 0.0543837770819664, -9.622427940368652, 11.202532768249512, -12.454291343688965, -1.3898006677627563, -3.7113163471221924, -7.860903739929199, -1.694381594657898, -0.7957884073257446, 0.7105824947357178, 9.537346839904785, -13.291098594665527, -5.485931396484375, 7.6943440437316895, 10.765687942504883, 10.56428050994873, -13.845094680786133, -7.359256267547607, -7.087008476257324, -12.705418586730957, -1.2338035106658936, 7.661922454833984, 1.9635374546051025, -1.643568515777588, 3.8394415378570557, -5.889458179473877, -2.5998165607452393, -5.527389049530029, 16.11041259765625, -17.35002899169922, 1.599457025527954, -8.563968658447266, -11.980918884277344, 3.112813711166382, 0.9515168070793152, -8.31610107421875, 4.699072360992432, -5.326353073120117, 9.599784851074219, 14.759370803833008, 1.4510765075683594, -4.687384128570557, 13.311443328857422, -5.137505531311035, 4.057784557342529, 7.994927883148193, 0.9179072976112366, 9.390560150146484, -13.262337684631348, 14.681559562683105, 8.345381736755371, -3.4785373210906982, -1.6988075971603394, -1.934801459312439, 4.9825520515441895, 1.6106985807418823, 10.259384155273438, -14.826835632324219, -8.63077449798584, -9.172677040100098, -6.2110772132873535, 1.1940439939498901, 7.072793006896973, 4.47083854675293, 0.5907027721405029, 12.253617286682129, -10.303742408752441, 17.706157684326172, 11.137986183166504, 15.64388370513916, -0.543362557888031, -0.3082624673843384, 17.13147735595703, 0.12362466007471085, -2.5437166690826416, -2.2966325283050537, -7.17185640335083, 2.2195963859558105, -10.670197486877441, -7.75620698928833, 12.329911231994629, 6.112928867340088, -15.324857711791992, -1.1062136888504028, -1.4842853546142578, 0.48928213119506836, -0.4504784643650055, -2.5952768325805664, -2.3122456073760986, -4.047848224639893, -13.786057472229004, -5.436354160308838, -13.356253623962402, -15.987788200378418, -4.170334339141846, 7.114784240722656, 3.6036570072174072, -0.8221840858459473, -6.1130805015563965, 0.7110130190849304, -0.7134919166564941, -6.7693939208984375, 17.777503967285156, 5.694862365722656, -2.0601186752319336, -2.321479082107544, -2.3609867095947266, -6.71674919128418, -8.160391807556152, 0.20618636906147003, -3.4367241859436035, -14.546357154846191, -4.3969035148620605, -6.4228997230529785, -10.117186546325684, -3.986785650253296, 5.327682971954346, -12.150781631469727, -10.172226905822754, -6.997743606567383, 5.601823329925537, 7.62127685546875, -12.746774673461914, -0.07753892987966537, 16.14076042175293, -9.889082908630371, -3.1659369468688965, 0.40242353081703186, -9.52070140838623, -15.81798267364502, 0.5106903910636902, 2.264587879180908, -5.803074359893799, -3.1298747062683105, -5.2964768409729, -1.5644763708114624, 8.452157974243164, 17.190624237060547, -5.570788860321045, 15.247349739074707, -14.168649673461914, -4.952855587005615, -9.335484504699707, -3.3285868167877197, -0.846659243106842, -1.764281988143921, -6.349852085113525, 0.5403822064399719, -17.027873992919922, -11.150277137756348, -5.712139129638672, -11.326598167419434, 12.336263656616211, -6.056295871734619, 2.9842031002044678, -1.0377815961837769, 14.736467361450195, -13.961543083190918, 9.160923957824707, 4.59915018081665, 16.259471893310547, 4.681902885437012, -15.439279556274414, -2.8270723819732666, 8.976949691772461, 0.2696187198162079, 3.1274619102478027, 3.9388842582702637, -4.610249996185303, 18.32509422302246, 18.80501937866211, 17.363758087158203, -2.496960401535034, 3.265676259994507, 5.2819976806640625, -11.7676362991333, -14.192420959472656, -5.770792007446289, 15.769170761108398, 2.1373138427734375, 16.602989196777344, 1.4585821628570557, -6.434799671173096, -5.392866611480713, -13.392928123474121, -3.7339234352111816, -14.742776870727539, 13.061837196350098, -3.298830986022949, 8.953402519226074, -0.6253858804702759, -7.800137519836426, 1.8467891216278076, -2.833390712738037, -2.4406514167785645, 10.365577697753906, -14.211339950561523, 18.391172409057617, -8.5800142288208, 0.25880393385887146, -0.3266446590423584, 0.8768619298934937, 2.0234017372131348, -10.105286598205566, 12.691132545471191, -1.3834636211395264, -0.7073240280151367, 2.885606050491333, 0.7041800618171692, 6.525815963745117, 0.7082011103630066, -0.5054477453231812, -6.047013759613037, -2.4497087001800537, 7.667154312133789, 11.679047584533691, 0.48267045617103577, -9.045422554016113, 3.0023467540740967, 2.877423048019409, -1.3003238439559937, 9.007302284240723, 11.91939926147461, -3.4495575428009033, 4.02827787399292, 3.371500015258789, 1.3842055797576904, -0.6172627806663513, -5.060551643371582, -14.61209774017334, 3.2745566368103027, -2.2003517150878906, -15.735213279724121, 12.426952362060547, 0.4526781439781189, -1.2230849266052246, -0.7842965126037598, 17.389997482299805, 4.097543716430664, 14.583954811096191, -0.7832325100898743, 3.0209579467773438, 0.21173737943172455, -2.4463276863098145, -2.955871820449829, 0.9275747537612915, -0.859191358089447, 6.081290245056152, -2.9482786655426025, -7.045788764953613, 0.33022341132164, -8.60040283203125, 4.852444648742676, 7.889637470245361, -2.4973840713500977, -13.22964859008789, -2.6812543869018555, -0.5473235249519348, -4.948661804199219, 7.713222503662109, -6.955592155456543, -3.0958054065704346, -5.484583377838135, -4.302704334259033, 4.81751012802124, 10.927602767944336, -8.282937049865723, 5.980091571807861, -8.62398624420166, 15.154581069946289, -8.123790740966797, 11.303293228149414, 7.520389080047607, 13.129497528076172, 6.8950581550598145, -3.8767054080963135, -6.835776329040527, -14.07140827178955, -7.791450023651123, -7.996555328369141, -13.133231163024902, -5.008528709411621, -2.5589373111724854, 5.3362627029418945, -2.6005465984344482, 12.578852653503418, 8.894135475158691, 6.728504657745361, -5.128947734832764, 1.286006212234497, -5.729554653167725, 7.639376640319824, 5.499988079071045, -2.412036180496216, -8.24254035949707, 3.724747657775879, 2.38395357131958, 13.476603507995605, -12.352356910705566, -3.4579310417175293, 9.921188354492188, -8.115610122680664, -4.597048759460449, -3.468263626098633, -11.641862869262695, -4.5171966552734375, -2.3233273029327393, -8.331098556518555, -2.330199956893921, -11.563003540039062, -0.014576938934624195, -15.073685646057129, -0.5583680272102356, -1.9875304698944092, 17.67919921875, -6.1953511238098145, 13.936899185180664, -0.014129008166491985, 12.384345054626465, -4.631836891174316, -11.805766105651855, -5.472997188568115, 9.494394302368164, -8.360843658447266, 15.163549423217773, -4.194668769836426, 6.36998176574707, 3.664620876312256, -3.536088466644287, -2.6970722675323486, -8.722270011901855, -5.615351676940918, 16.296361923217773, -6.826452255249023, -9.01241683959961, 3.9241647720336914, -7.359468936920166, -13.193509101867676, 12.3110990524292, 6.680726528167725, -1.040175199508667, -5.000478744506836, 5.390292167663574, -3.125976324081421, 5.592653751373291, 0.793394923210144, 2.6944663524627686, -8.491230964660645, -10.407525062561035, -3.6586475372314453, -0.7631796598434448, 7.814782619476318, -4.479910850524902, -4.566287517547607, 6.165631294250488, -6.322023391723633, 0.8121656179428101, -6.671209335327148, 0.7707452178001404, 11.090272903442383, 11.55704116821289, 1.1263068914413452, 1.144266963005066, -13.35047435760498, 4.799633502960205, -7.001678943634033, 2.561957836151123, 9.151995658874512, 9.629850387573242, 15.203923225402832, 2.1361546516418457, -3.0077908039093018, -4.9138336181640625, 3.1799793243408203, -2.943357467651367, 7.256951332092285, 13.219254493713379, 2.932386875152588, 16.843494415283203, -4.865021705627441, -5.647977828979492, 1.3171303272247314, 8.989442825317383, 1.0867339372634888, 0.8251674175262451, 0.38116568326950073, -6.29709529876709, 4.554472923278809, 1.7599108219146729, 3.7946577072143555, -4.676762104034424, 6.042146682739258, -9.287141799926758, -7.682717323303223, 0.5363849401473999, 2.042459487915039, 9.539100646972656, -7.269763946533203, -5.985008716583252, 1.0632823705673218, 1.0001329183578491, 10.716578483581543, -9.897634506225586, 15.620416641235352, -6.465853691101074, -1.0895156860351562, -13.867666244506836, -1.4029308557510376, 2.365943670272827, -7.132534503936768, -2.306422233581543, -14.750255584716797, -0.25008124113082886, 0.42504438757896423, -2.0630035400390625, 6.740254878997803, 0.12741625308990479, -4.224830627441406, 9.781963348388672, -11.077164649963379, -1.5050047636032104, -4.241233825683594, 11.05722427368164, -1.2096258401870728, 0.8946720361709595, 1.0965337753295898, 8.799151420593262, -2.668032646179199, 8.803020477294922, 1.8796496391296387, 2.0682878494262695, 12.545312881469727, 4.233506679534912, -14.669452667236328, 3.170045852661133, 1.2547690868377686, 15.737627029418945, -8.250846862792969, 4.743796348571777, 6.927327632904053, 2.166368246078491, -15.725886344909668, 5.749804973602295, 1.1749013662338257, -6.722109317779541, 2.502058982849121, -2.3555667400360107, -7.941941261291504, -4.903189182281494, 13.298258781433105, -5.276578903198242, 9.668659210205078, 11.327324867248535, -7.675520896911621, 8.898513793945312, -0.5762935876846313, 7.287048816680908, 11.201374053955078, 13.066633224487305, -13.28180980682373, -11.762715339660645, -0.9611455798149109, -2.5577428340911865, -11.239837646484375, 6.970681190490723, 3.8691742420196533, 16.82384490966797, -1.184509038925171, 2.2155115604400635, -2.39221453666687, 6.163602828979492, -15.625723838806152, 1.8544188737869263, 5.758388519287109, -2.8468234539031982, 1.4667998552322388, -0.3665826618671417, 0.8497468829154968, 6.884443759918213, 3.160080671310425, -12.959734916687012, -2.356743097305298, 7.677964687347412, 0.35237202048301697, 15.649621963500977, -9.734861373901367, -3.4098212718963623, -16.49990463256836, -3.7182321548461914, -5.003539085388184, 14.843809127807617, 0.17293564975261688, -15.256460189819336, -2.685138463973999, 1.862444281578064, -6.923340797424316, -16.990732192993164, 1.617505669593811, -18.16020965576172, 6.236961841583252, 16.21610450744629, 12.638042449951172, 1.9478113651275635, 17.001188278198242, 13.885019302368164, 2.679577112197876, 4.052857398986816, 10.724149703979492, -3.779472827911377, -3.272085189819336, -1.9979170560836792, -0.6228353381156921, 12.365804672241211, -6.916405200958252, 0.4424434304237366, 4.716647624969482, -3.2788045406341553, 13.982423782348633, -4.884428977966309, 4.350172519683838, -5.676392078399658, -6.636911392211914, -7.409320831298828, 8.553825378417969, 8.241250991821289, -1.7966821193695068, 3.619109630584717, 15.823664665222168, -1.6607359647750854, 4.772985935211182, -9.259588241577148, 4.0221757888793945, -15.738506317138672, 16.200210571289062, 17.424549102783203, -11.1337251663208, -1.834598422050476, 11.414227485656738, -5.857525825500488, -6.207727432250977, -10.87665843963623, -3.0907859802246094, -2.2865281105041504, 8.101040840148926, 3.661877155303955, 4.422952175140381, 3.9280478954315186, -9.134449005126953, -14.520974159240723, -4.274515628814697, -9.946465492248535, 11.671104431152344, -15.522839546203613, 4.889987468719482, -0.9356412887573242, 2.779973268508911, -9.601377487182617, 1.1709322929382324, -6.8710198402404785, 1.3797111511230469, 0.5977241396903992, 9.740702629089355, 1.7575154304504395, -7.810505390167236, -11.593755722045898, 11.499977111816406, -11.500131607055664, 2.184647798538208, -7.96123743057251, -7.875222682952881, 0.009467572905123234, -1.0977835655212402, 7.257400989532471, 0.6103951334953308, -1.0195975303649902, -2.253086805343628, 0.31817203760147095, 3.787475347518921, -14.31578254699707, -14.23085880279541, 3.2516753673553467, -1.463534951210022, 0.9340502619743347, 13.03168773651123, 16.82324981689453, -2.248680353164673, -6.35781717300415, 11.485635757446289, 3.394127130508423, -9.200439453125, 15.178790092468262, -8.213155746459961, 5.621007919311523, -3.0921576023101807, -7.707220077514648, 7.6539154052734375, -0.30178916454315186, -4.387181282043457, 4.269647121429443, -0.6803861856460571, -3.648045063018799, 7.01982307434082, 8.865806579589844, -11.981650352478027, -6.084043025970459, 4.534750461578369, 3.497251272201538, 9.514642715454102, 9.148063659667969, -1.707817792892456, 10.206879615783691, 10.692089080810547, 3.470054864883423, 8.273515701293945, -8.246891975402832, -1.7515650987625122, 2.5921504497528076, -7.822134971618652, -4.26557731628418, -6.178410053253174, -13.996850967407227, 15.949422836303711, 5.309675693511963, 3.4205474853515625, 5.986966609954834, 2.7430131435394287, 4.624508380889893, -0.27643880248069763, 12.65230941772461, 3.8446664810180664, -8.407636642456055, 6.896980285644531, 6.929423809051514, -0.7671291828155518, 2.329219102859497, -8.986381530761719, -7.174424171447754, 16.18145751953125, -11.76470947265625, -7.619104385375977, -3.1606740951538086, -6.484226226806641, 14.249353408813477, 2.3626208305358887, -1.7179138660430908, 7.933097839355469, 10.571343421936035, 12.917257308959961, 11.181268692016602, -6.737340450286865, -8.39018440246582, 14.015666007995605, -10.186331748962402, 8.846325874328613, -8.061479568481445, -15.976432800292969, 11.272448539733887, -10.6757230758667, 13.255489349365234, -7.442293167114258, -6.1179518699646, 3.0394644737243652, -8.698492050170898, 9.923809051513672, 2.7273435592651367, -3.1806955337524414, 9.486197471618652, -10.441946983337402, 12.921735763549805, -2.0991365909576416, 11.254988670349121, -4.8743133544921875, 12.49691104888916, -4.610104084014893, -3.60872745513916, -1.1205425262451172, 6.133510112762451, -0.03456145152449608, 8.34128475189209, 8.982428550720215, -7.7517619132995605, 10.994304656982422, 3.0975053310394287, 2.02254581451416, -1.5364938974380493, -1.8455389738082886, 3.1710307598114014, 1.0983335971832275, -10.963723182678223, -4.825793266296387, -6.838613033294678, 3.2570900917053223, 4.618496894836426, -13.852703094482422, 1.842178463935852, -1.4598381519317627, 15.594738006591797, -12.693719863891602, -4.672820091247559, 11.858552932739258, 7.984650135040283, 8.528325080871582, 3.7456092834472656, -13.005480766296387, 6.16958475112915, -12.185383796691895, -13.001312255859375, -14.881065368652344, 0.4081233739852905, 2.67362904548645, -2.9207804203033447, 12.247448921203613, 4.579794406890869, 10.111244201660156, -3.4966611862182617, 1.9250266551971436, 8.828590393066406, 8.164849281311035, -7.678554058074951, 2.059478998184204, 0.7663747668266296, -9.58182144165039, 5.857221603393555, 6.9276509284973145, 0.2491529881954193, -11.335858345031738, 2.846787452697754, -10.858527183532715, 8.121630668640137, 3.8728742599487305, -14.272429466247559, -2.7589011192321777, 4.086218357086182, 3.7877843379974365, 9.386473655700684, -8.115606307983398, 0.5925639867782593, -11.655487060546875, -10.337368965148926, 8.368528366088867, 12.795884132385254, -3.6793148517608643, 9.916760444641113, 13.417237281799316, -1.0338492393493652, 16.173635482788086, -7.3344950675964355, -11.017780303955078, 1.1721137762069702, -13.559768676757812, -2.2326977252960205, -0.5096023678779602, 15.028909683227539, -5.761886119842529, -0.3826415240764618, 8.742178916931152, -12.34160327911377, 2.1907846927642822, 3.9590070247650146, -14.785177230834961, -1.9980416297912598, 2.457501173019409, -1.3345599174499512, -12.883797645568848, 2.970353841781616, 17.232959747314453, -2.631591320037842, -12.910147666931152, -4.438121795654297, 7.5955071449279785, -14.441086769104004, 0.8421109914779663, 0.6334627270698547, 14.431572914123535, -12.883855819702148, 13.280537605285645, -4.466760158538818, 6.581756591796875, 1.5133074522018433, -2.259504556655884, 0.04112608730792999, 1.4335297346115112, 6.60603666305542, 9.332003593444824, -15.451000213623047, 0.3696809709072113, -12.635247230529785, -3.0184292793273926, -11.582201957702637, 9.573515892028809, -12.329052925109863, -0.8806029558181763, -3.7497403621673584, -4.754791736602783, 5.2897491455078125, -12.800082206726074, 3.2317893505096436, 5.106005668640137, -8.178009986877441, -4.663358211517334, 3.0455472469329834, 17.736671447753906, -5.197224140167236, 9.839950561523438, -0.7041798233985901, 3.6473748683929443, 1.3892580270767212, 0.8319054245948792, -0.014622366055846214, 10.607929229736328, -9.700958251953125, 3.078667640686035, -2.202316999435425, -2.5048060417175293, -2.9928646087646484, -7.632545471191406, 3.3304975032806396, 7.4961652755737305, -2.7028207778930664, -11.414203643798828, 8.5786771774292, -0.6201962828636169, -0.5178564786911011, -0.6486666202545166, -0.16797107458114624, 7.889364242553711, 9.437060356140137, 3.6196722984313965, 1.475871205329895, 13.297828674316406, -0.7741001844406128, 5.505941867828369, -1.7994781732559204, -0.09380839020013809, -10.145135879516602, 8.272838592529297, 9.405915260314941, 13.752559661865234, -1.4556710720062256, -4.00284481048584, 5.926137447357178, 4.002058982849121, 13.43647575378418, 1.4899260997772217, -1.7868452072143555, -5.030547142028809, 16.97471046447754, 2.163098096847534, 1.051366925239563, 3.3757100105285645, -0.025505371391773224, 1.3013797998428345, 5.583688259124756, 0.5984806418418884, 5.475438594818115, -2.506681442260742, -0.4949232041835785, 14.811463356018066, -6.974085807800293, -0.9112468361854553, -0.9708316326141357, -0.2635059058666229, 13.631359100341797, 1.8988038301467896, 18.582162857055664, -9.75826644897461, -10.796934127807617, 5.521331787109375, 12.648015975952148, -12.486295700073242, -6.710168361663818, -0.5287355184555054, 3.672016143798828, 8.130102157592773, 3.4294753074645996, -7.048073768615723, 0.6209021806716919, -7.186273574829102, -1.2570005655288696, 4.830975532531738, -7.476349353790283, -10.089898109436035, -2.957280158996582, -0.8189617991447449, 15.769371032714844, 1.9098180532455444, 0.7138795256614685, -4.236514091491699, 3.6303274631500244, -7.9481425285339355, 10.174175262451172, -6.1555495262146, -2.3175361156463623, -1.8442103862762451, 0.5728682279586792, 11.147480010986328, 13.910677909851074, -0.41425466537475586, 8.909549713134766, -1.8432629108428955, 4.596879959106445, 5.088510990142822, 1.7094062566757202, -4.9421491622924805, 5.405163764953613, 4.032297611236572, 10.169008255004883, -5.361544132232666, -9.276061058044434, 11.320230484008789, 1.198679804801941, 13.408154487609863, 10.238273620605469, 8.202286720275879, 6.627011299133301, 0.5569636225700378, 17.00278091430664, -4.677917003631592, -3.8280887603759766, -4.181032657623291, -6.850250244140625, 1.0268797874450684, 5.507460117340088, -3.1294591426849365, -3.033576011657715, -9.44033432006836, -10.376129150390625, 11.210105895996094, -10.037605285644531, 5.102689266204834, 5.85144567489624, 15.464838027954102, 4.868758678436279, -11.605416297912598, -2.4806582927703857, -7.867663383483887, -6.634256362915039, -8.72115421295166, -4.456613540649414, -13.278007507324219, -3.340186595916748, 3.5230026245117188, 11.372159957885742, 0.28876975178718567, 0.6847067475318909, 4.170039176940918, 2.537747383117676, -3.7150394916534424, -2.0848731994628906, -14.402270317077637, -8.788055419921875, 10.438874244689941, -6.975652694702148, -4.996802806854248, -0.5141438245773315, 0.04723561927676201, -12.099984169006348, 10.887069702148438, -3.022068500518799, -7.892323017120361, -6.941531181335449, -6.67410135269165, 2.3150088787078857, 9.921152114868164, -1.8497649431228638, 8.729538917541504, 5.195042610168457, 8.725682258605957, -7.5680670738220215, -11.97537899017334, -3.241347551345825, -0.656341016292572, -10.512223243713379, 1.5707626342773438, -1.2500591278076172, 0.2777988016605377, 10.583348274230957, 8.503190994262695, 15.345137596130371, -1.6279525756835938, -7.480338096618652, -4.893024921417236, -3.2956900596618652, -5.539139747619629, -2.2634825706481934, 5.530255317687988, -5.523202896118164, 8.972188949584961, 2.193284034729004, -0.42793071269989014, 16.483068466186523, -11.307130813598633, -3.12246036529541, -7.5507588386535645, -5.934892654418945, -4.016139507293701, 15.364158630371094, -10.831642150878906, 11.562541007995605, -3.3075919151306152, -8.701529502868652, -6.615935325622559, -1.574178695678711, -14.460979461669922, -14.59882926940918, -0.44680896401405334, -0.305917888879776, 0.8062171339988708, 12.434455871582031, -7.145140647888184, 3.4800236225128174, 0.3650030493736267, -6.2333879470825195, 7.000970363616943, -4.426465034484863, -1.665827989578247, -1.2065339088439941, 11.29545783996582, 18.268552780151367, -2.049271583557129, -4.426820755004883, 14.527437210083008, -9.077306747436523, 2.17629075050354, -0.055128104984760284, 2.9629697799682617, 16.368026733398438, -12.762255668640137, 0.7360763549804688, -0.13013824820518494, -13.550392150878906, 1.093274474143982, 18.042234420776367, -6.500158786773682, -5.50618839263916, 7.847937107086182, -1.3705127239227295, -7.11726188659668, -8.252334594726562, 5.808470726013184, -6.557316303253174, -7.242396354675293, 3.3811264038085938, -0.3027516007423401, 0.4764798581600189, 0.9735772013664246, -5.3656005859375, -13.274025917053223, -6.177916049957275, -11.708498001098633, 0.5689741969108582, 0.0018880927236750722, -10.29799747467041, -1.8737585544586182, -5.646584510803223, 14.59341812133789, 4.44049072265625, 0.20623444020748138, 16.74850082397461, 0.1263539046049118, 13.063885688781738, -7.814697742462158, -16.79869842529297, 1.8575330972671509, -0.7202498912811279, 4.147911548614502, 15.259368896484375, -7.686691761016846, -7.026662349700928, -0.21388518810272217, -3.342071533203125, 13.53893756866455, -1.6404911279678345, 8.549169540405273, -1.1006146669387817, -0.17940877377986908, 7.646256446838379, -1.4862725734710693, 8.690134048461914, 1.2614860534667969, -14.362815856933594, 9.136704444885254, 6.933522701263428, 3.2704966068267822, -0.7132911682128906, 1.616660475730896, 6.3721394538879395, 15.269001960754395, -0.15895597636699677, 6.054549217224121, 3.9997222423553467, 12.67381477355957, -8.8417329788208, 4.9753193855285645, 0.39015138149261475, -2.412705898284912, -2.350379467010498, 3.4810566902160645, 5.843894004821777, -2.995551586151123, 16.305522918701172, 2.7790768146514893, 0.21299296617507935, -7.457385063171387, 8.227919578552246, 2.86472487449646, -3.2728054523468018, 1.4064644575119019, 4.9431586265563965, 1.0610913038253784, -4.233338356018066, 0.9256981611251831, 16.460065841674805, -4.342605113983154, 9.795042991638184, 14.956803321838379, 1.3295425176620483, -5.460819721221924, 1.5002427101135254, -8.86181640625, 14.659509658813477, -10.361601829528809, -12.563613891601562, 8.568305969238281, -2.6840591430664062, 0.08647748082876205, 6.191259860992432, -5.103822231292725, 7.010855674743652, 8.779671669006348, 3.237274646759033, -11.802754402160645, -9.539356231689453, -9.56721019744873, -4.654235363006592, -2.529049873352051, 5.882321834564209, -10.982808113098145, -9.40292739868164, -16.325672149658203, -6.677798271179199, -1.5782904624938965, 3.482102394104004, -1.8739147186279297, -8.069960594177246, 0.9279411435127258, -0.4359668493270874, -15.851154327392578, 6.1764302253723145, 1.0926384925842285, 4.645637035369873, 3.404414176940918, -2.2024295330047607, -3.1103034019470215, 6.8626203536987305, 3.2982609272003174, 11.032536506652832, 4.3331756591796875, 3.4874982833862305, -4.12381649017334, 1.1014472246170044, 7.238657474517822, -5.2697038650512695, 1.5847952365875244, 4.171027660369873, 0.4782654047012329, 0.8578327894210815, 6.181797504425049, 5.3824238777160645, -9.466660499572754, -7.00791597366333, -4.207336902618408, 1.6388400793075562, -12.235912322998047, -4.376350402832031, 2.51499342918396, 17.764286041259766, 2.3254270553588867, -8.525707244873047, 12.463666915893555, 0.408259779214859, -13.241979598999023, 7.166694164276123, 1.3925137519836426, -2.2157363891601562, 0.0035679906141012907, -7.36625862121582, 12.160655975341797, 9.047479629516602, 9.327771186828613, 0.1193103939294815, 7.514095783233643, -6.994832992553711, 14.318002700805664, 11.805685043334961, -1.1190024614334106, 3.9406111240386963, 0.7199092507362366, 13.756281852722168, 3.5307512283325195, 2.7451019287109375, 1.6596438884735107, 2.2142820358276367, -6.311288833618164, -4.015676021575928, 5.816936492919922, -9.66809368133545, 6.004874229431152, -2.8196938037872314, -11.048768997192383, -4.531647205352783, -11.203132629394531, -9.159266471862793, 7.35697603225708, 8.383420944213867, 3.8341434001922607, 12.403132438659668, -10.33937931060791, -13.617472648620605, 0.33237653970718384, 0.7905266880989075, -2.026503801345825, -0.31723687052726746, -9.836743354797363, -4.6915717124938965, 1.9449130296707153, -1.455168604850769, -11.183869361877441, -1.0426199436187744, -5.772369384765625, -4.844653129577637, -11.256693840026855, -2.575505256652832, -0.9400191903114319, -6.124179840087891, -0.26541751623153687, -16.1453800201416, 0.4797133505344391, -8.055756568908691, -6.528504371643066, -1.8109867572784424, -3.041581153869629, -0.23196887969970703, -7.167717933654785, -8.825996398925781, -5.648908615112305, 9.056324005126953, 2.564535617828369, -10.636871337890625, -13.817695617675781, -14.305291175842285, -7.6740641593933105, -1.4255374670028687, 6.079723358154297, -5.110993385314941, 2.0194602012634277, -10.926254272460938, 11.879305839538574, 4.408917427062988, -0.3631463646888733, -2.178215265274048, 1.519595742225647, -3.1421332359313965, 2.930676221847534, 5.778753280639648, 0.21579782664775848, 11.365206718444824, 0.8231525421142578, -0.8462533950805664, 5.926261901855469, 13.251442909240723, -2.258075714111328, -7.1006760597229, -1.4204660654067993, 2.676485776901245, 1.8184795379638672, -5.136265754699707, 1.0325944423675537, 11.264222145080566, -7.482288837432861, -14.833706855773926, 0.8184880614280701, -4.817951679229736, -0.32665979862213135, 4.710818290710449, 4.909414768218994, -2.3125038146972656, 11.596382141113281, 15.638223648071289, -9.10938835144043, 2.062579870223999, 0.5720706582069397, 8.881928443908691, 3.7973151206970215, -0.4051879048347473, -10.328572273254395, 13.919772148132324, 7.73968505859375, 2.660881280899048, 0.4701410233974457, 2.1010172367095947, -5.847606658935547, 2.2108397483825684, 0.5729890465736389, 7.075138092041016, -5.634619235992432, -15.245987892150879, -14.433815956115723, -8.27387809753418, -4.476931571960449, 8.288838386535645, 2.873866081237793, 3.233750820159912, 3.8715922832489014, 4.216398239135742, -0.4206843376159668, 6.946017742156982, -8.181719779968262, 0.5173127055168152, -10.368528366088867, 2.241039514541626, -3.7509841918945312, -4.642756938934326, 3.4832751750946045, -4.761205673217773, 2.787391424179077, 3.167970895767212, 4.931016445159912, 10.274259567260742, -7.326993942260742, -16.114315032958984, -9.195975303649902, -11.19790267944336, 8.931990623474121, -2.7228853702545166, -2.7429304122924805, 1.762847900390625, 6.955904960632324, -1.3601899147033691, 13.2149076461792, 4.975658416748047, 12.3803071975708, -4.987964630126953, -3.231809377670288, -10.802812576293945, -3.6233761310577393, 5.609452724456787, -3.7304069995880127, 1.2711519002914429, -11.628556251525879, -15.280719757080078, 2.4398305416107178, -2.8669931888580322, -4.486587047576904, 10.21247386932373, 13.232548713684082, 11.857019424438477, -16.575475692749023, -4.573200225830078, 2.7747576236724854, 6.130821228027344, -5.356705665588379, 6.412220478057861, 3.481011390686035, 13.678068161010742, -13.644647598266602, -2.265969753265381, -6.711081504821777, 4.118366718292236, -3.0756139755249023, 4.928739547729492, -8.423150062561035, -11.329283714294434, 5.6807427406311035, 2.0319466590881348, 0.5050488114356995, -3.476280689239502, -2.1004486083984375, 13.939544677734375, -12.783287048339844, -16.640241622924805, -5.133308410644531, -10.784527778625488, -11.453987121582031, 11.625035285949707, 11.238429069519043, 16.67877960205078, 10.206113815307617, -9.62059497833252, 5.706563949584961, -2.4552204608917236, 15.221783638000488, 6.184093952178955, 3.311680793762207, -15.142857551574707, 0.5214197635650635, -11.179145812988281, -0.2875460684299469, 8.382425308227539, 11.113059043884277, -10.938040733337402, -13.968277931213379, 4.686282157897949, -0.5847033858299255, -8.588939666748047, -2.7158451080322266, -4.796571254730225, -1.7037760019302368, -5.952188014984131, 4.997445583343506, 15.545146942138672, -9.417112350463867, -7.953385829925537, -1.8793858289718628, 9.485625267028809, -13.129549026489258, -4.080470085144043, -11.626055717468262, -5.945213317871094, -4.668227672576904, -0.23067164421081543, -3.335758924484253, 5.886641025543213, -6.217484474182129, -3.960282325744629, 10.88574504852295, -14.16615104675293, -0.9363037943840027, -2.341533899307251, -1.9336010217666626, -0.03225482627749443, 5.041167259216309, 1.2749049663543701, -8.218853950500488, -0.8203613758087158, 6.5694146156311035, 10.932943344116211, -8.352034568786621, 3.9050986766815186, 16.30760383605957, -2.3784120082855225, 15.667383193969727, 2.280776262283325, 8.704843521118164, -1.584118127822876, -7.04939603805542, 1.8957464694976807, -1.0973390340805054, 10.027307510375977, -15.858565330505371, -12.995282173156738, -0.7250388264656067, -0.7083376049995422, -1.8059641122817993, -1.862081527709961, -10.296472549438477, -10.713274955749512, 7.45880126953125, -9.573680877685547, -12.275704383850098, 15.046279907226562, 0.5671793818473816, 1.8763457536697388, -1.2972365617752075, 9.515913009643555, -0.8085036873817444, 5.921765327453613, -11.464420318603516, -12.006840705871582, 4.755613327026367, -14.835909843444824, 12.216471672058105, -5.14266300201416, 0.2860727310180664, -4.1933207511901855, 0.9734269976615906, 8.237991333007812, -8.035181999206543, 6.991465091705322, -8.097136497497559, -7.469380855560303, -10.38072681427002, -1.1096690893173218, -12.480437278747559, 5.401645183563232, -7.740912437438965, -12.805402755737305, 3.4258952140808105, -7.754772186279297, -2.196096897125244, -9.290326118469238, -0.6290528178215027, -10.103885650634766, 0.5897432565689087, 7.750615119934082, -2.0823922157287598, 11.132166862487793, -4.478776454925537, 2.2072722911834717, 15.698753356933594, 13.992119789123535, -4.866742134094238, -7.210695743560791, 0.5881405472755432, 7.645102024078369, -0.5639721751213074, -16.46341323852539, -8.991324424743652, 3.9234557151794434, -1.9746159315109253, 0.7865899205207825, -7.877663612365723, -15.546932220458984, -4.339353084564209, -7.0936784744262695, -8.176031112670898, -13.607512474060059, -13.51717758178711, 2.2904577255249023, -0.8727033734321594, -5.913150310516357, -11.635104179382324, 4.2618513107299805, 4.562317371368408, -14.74911117553711, -13.449933052062988, -5.670845985412598, -13.21887493133545, 13.19127082824707, -2.2824313640594482, 13.669870376586914, -1.4546213150024414, -1.079371690750122, -9.306537628173828, 5.0100555419921875, -7.252233505249023, 1.988115668296814, -3.7428815364837646, -3.7995734214782715, -14.479907989501953, -8.548439025878906, -15.670029640197754, -10.444755554199219, 3.2073895931243896, 16.256315231323242, 11.915701866149902, 5.228163719177246, -0.7227557897567749, -4.182999610900879, -3.519338607788086, 6.382523059844971, -14.031816482543945, 8.336055755615234, 17.76833152770996, 1.0913842916488647, -3.0272865295410156, 14.124224662780762, -11.478887557983398, 15.265223503112793, -0.14423707127571106, 8.24560546875, 10.679669380187988, 6.892183780670166, 16.207948684692383, 0.7717731595039368, 10.119568824768066, -0.38628917932510376, 1.213122844696045, -4.436838150024414, 15.979414939880371, 9.228713989257812, -2.898613691329956, -7.919225215911865, 2.035594940185547, -7.253757476806641, 10.510354995727539, 15.392611503601074, 1.4120662212371826, -10.16630744934082, -12.763327598571777, -9.035201072692871, 8.653582572937012, 3.1447532176971436, 0.7404189705848694, -1.2793701887130737, -12.497475624084473, 5.7219672203063965, -10.783857345581055, 2.2802555561065674, -13.122758865356445, 3.7999422550201416, 3.661165714263916, 17.688140869140625, -8.113245010375977, -2.9277734756469727, -4.703725814819336, 15.21734619140625, 1.3422175645828247, -1.415015697479248, -5.059573173522949, -7.641838550567627, 0.09732287377119064, 0.6267446875572205, 0.7181262969970703, -8.476954460144043, -11.818182945251465, 6.691522598266602, -10.978130340576172, 5.289130687713623, 4.785827159881592, -0.1427420824766159, -3.773493528366089, 1.2237149477005005, 12.844470024108887, -11.593297958374023, 4.875651836395264, -1.1392179727554321, 11.854419708251953, -3.7056920528411865, -9.262234687805176, 8.738086700439453, 10.289287567138672, -8.065595626831055, -7.110011100769043, -9.667558670043945, 12.176149368286133, 11.756587028503418, 1.223940134048462, 12.09118366241455, 7.399133682250977, 0.3714603781700134, -8.999403953552246, 8.990874290466309, 2.3170669078826904, -10.594735145568848, -2.9622645378112793, -11.536901473999023, -11.074148178100586, 12.815898895263672, 2.5724964141845703, 17.104501724243164, -5.013606548309326, -7.6455078125, -9.310440063476562, 8.408463478088379, 10.440814018249512, -0.0007032272405922413, 5.2501630783081055, 11.492919921875, -0.8084596991539001, 8.076045036315918, 7.501761436462402, 8.228625297546387, 1.4886999130249023, -3.694307804107666, 14.635305404663086, 11.58543872833252, 0.2790724039077759, 0.05162690952420235, 4.725466251373291, -0.6675065159797668, 1.9346437454223633, -6.79312801361084, -4.495107650756836, -10.48116683959961, -9.523747444152832, 8.500935554504395, 12.073037147521973, 2.0914430618286133, -8.907931327819824, 1.2559210062026978, 5.450878143310547, -6.897278785705566, 4.54285192489624, -3.133404493331909, 6.9360151290893555, -0.8934218883514404, 2.3534858226776123, 6.65767765045166, -7.680499076843262, -7.901362895965576, -4.274830341339111, -2.3230574131011963, -2.2033896446228027, -5.59052038192749, -0.3978448510169983, 9.216639518737793, -0.011361999437212944, 0.841543436050415, 1.2562264204025269, -4.137683391571045, 16.93368148803711, -7.091124057769775, 16.908681869506836, 4.164892196655273, -5.89343786239624, 6.79644250869751, 15.350661277770996, 9.680781364440918, -5.673564434051514, -10.530803680419922, 5.618374347686768, -6.688596248626709, 6.966399669647217, -7.831670761108398, -5.251796245574951, -2.453951120376587, -0.6680969595909119, -16.05039405822754, -9.261862754821777, 6.731128215789795, -0.37993133068084717, 0.8107114434242249, -11.47635269165039, -7.653213977813721, 0.8369038105010986, 0.152889221906662, -16.516921997070312, 4.998671054840088, -1.5393643379211426, 2.0792715549468994, -3.158071756362915, 11.060773849487305, -7.980050563812256, -7.644989013671875, -0.14004898071289062, 10.440975189208984, -3.3602664470672607, 1.857254147529602, -8.380812644958496, -2.0919885635375977, 3.745969533920288, -0.320117712020874, -11.762906074523926, -2.6511433124542236, -0.7371008396148682, 2.3937153816223145, 4.874782562255859, -6.277270793914795, -2.7848544120788574, 10.278060913085938, -2.00825572013855, 6.639128684997559, -13.554463386535645, -1.531363844871521, -2.3658785820007324, 12.912924766540527, -8.050896644592285, -1.1426440477371216, -11.798154830932617, 1.7736986875534058, -0.15959468483924866, -11.324946403503418, -0.14214591681957245, 7.557354927062988, -2.228257417678833, -8.491825103759766, -0.9271395802497864, 3.839574098587036, -4.833352565765381, -1.3359389305114746, -5.612120628356934, -11.477041244506836, -6.07323694229126, 0.017981989309191704, 3.360840320587158, -2.8651857376098633, -0.6397074460983276, 3.339968681335449, -7.091206073760986, -16.534343719482422, 8.680014610290527, -1.254926323890686, 6.902014255523682, 12.13045883178711, 4.155614852905273, 7.309564590454102, -16.768898010253906, -6.2482709884643555, 0.195499449968338, 11.525394439697266, 13.80133056640625, 8.400260925292969, 6.428793907165527, 2.808397054672241, 3.839902639389038, 1.148316502571106, 11.502503395080566, 8.303547859191895, 4.953534126281738, 2.690753221511841, 2.3555362224578857, 15.16728687286377, -13.071386337280273, -2.320305109024048, -12.405378341674805, -4.697046279907227, 4.219254970550537, -15.091772079467773, -12.467694282531738, 7.797948837280273, 3.3162481784820557, -8.315123558044434, -12.093941688537598, 5.374668598175049, 1.4479304552078247, -0.21277585625648499, -15.768219947814941, 14.673046112060547, 1.3010088205337524, -14.444037437438965, 0.2330782562494278, -1.6288689374923706, -9.014305114746094, 14.37885856628418, -12.561502456665039, -2.460732936859131, 1.0798956155776978, 0.040990497916936874, 14.846563339233398, -5.1065192222595215, -10.632392883300781, -1.6579768657684326, -0.2704984247684479, 5.012596130371094, 0.9978804588317871, 14.685490608215332, -1.8030651807785034, 10.620756149291992, -11.839570999145508, -0.8496236801147461, 10.272502899169922, 0.816046953201294, 2.877077579498291, -0.6998724341392517, -7.590184688568115, -3.8432257175445557, 10.931879997253418, 0.7728990316390991, 12.41805362701416, 10.34055233001709, -9.491259574890137, -0.8277629017829895, -11.68654727935791, 11.99258804321289, 4.496391773223877, -1.9446269273757935, -8.389740943908691, -10.864243507385254, 6.465506553649902, 2.829674482345581, 15.088052749633789, -13.862046241760254, -0.6269384622573853, -8.914093017578125, -5.227036952972412, 2.9611423015594482, 4.189279079437256, -10.381586074829102, -3.6781656742095947, -8.54176139831543, -1.709315538406372, -13.804886817932129, 2.339989185333252, 15.18560791015625, -4.6066460609436035, 14.878077507019043, -3.356884479522705, 12.518302917480469, -0.5286831259727478, 0.9549024701118469, 2.82426118850708, -7.8959784507751465, 4.633460998535156, 13.467997550964355, 2.482461929321289, 7.77488374710083, -0.9319829344749451, -2.5937416553497314, -13.727039337158203, 2.887742042541504, -5.3225908279418945, -3.8340625762939453, -10.544537544250488, 1.5953803062438965, -14.220220565795898, -15.053773880004883, -1.0109901428222656, 5.603498458862305, 3.9734017848968506, -9.013389587402344, 15.365839004516602, 5.59802770614624, 6.139576435089111, -14.62095832824707, -6.081759929656982, -11.540266990661621, -4.335768699645996, 3.7523653507232666, -4.994123458862305, -10.846236228942871, 9.132284164428711, -0.2880946397781372, -2.114684581756592, 0.6004905104637146, 10.290264129638672, 5.928406238555908, 3.1035454273223877, -7.249178886413574, 8.698026657104492, 5.6561713218688965, 1.8566505908966064, -4.300887584686279, 9.453385353088379, 2.40580415725708, -0.22095978260040283, 3.8861727714538574, 4.332427978515625, -1.287848711013794, -8.008977890014648, -3.047053575515747, -3.745920181274414, 1.0072060823440552, -14.121095657348633, -3.0014443397521973, 5.423275470733643, -6.524550914764404, -3.0715813636779785, -6.997231960296631, -0.5911288261413574, 5.0362348556518555, -4.28945255279541, -11.027109146118164, -3.243157148361206, -0.05120756849646568, 16.49433708190918, -1.3351683616638184, 4.898277282714844, -14.58446216583252, 0.8303695917129517, 14.625971794128418, -6.67650842666626, -12.497430801391602, 5.455456256866455, -7.11470890045166, -6.684170722961426, -10.730066299438477, -2.433701515197754, -0.8822486996650696, 11.521177291870117, 7.8850626945495605, -1.7961888313293457, 0.5943899750709534, -12.951035499572754, 3.2285308837890625, -3.5432562828063965, -4.033534049987793, 3.3425984382629395, 13.530898094177246, 11.370610237121582, -0.8356769680976868, -1.0895588397979736, -12.315458297729492, -3.9818007946014404, 6.251643657684326, -1.5677452087402344, 3.443052053451538, -3.9393258094787598, -7.019458293914795, 1.4364240169525146, -11.853596687316895, -1.3477154970169067, 6.111095428466797, 7.275417804718018, -4.827188491821289, -11.260457992553711, -4.735722064971924, -9.472447395324707, -12.349346160888672, -2.898444414138794, 1.040023922920227, -8.831062316894531, 6.692969799041748, 5.987242221832275, 12.383687973022461, 13.54716968536377, 11.331464767456055, 5.086453914642334, -10.947393417358398, 3.928394317626953, -0.16192959249019623, -8.993402481079102, -6.095700263977051, 0.4791674315929413, 11.888690948486328, 15.25379753112793, 8.908607482910156, 0.17976856231689453, -3.030933380126953, -0.3810535967350006, -8.08140754699707, -10.410270690917969, -4.305184364318848, -0.14583975076675415, -8.370141983032227, -6.558071136474609, 14.526564598083496, 1.8977121114730835, 5.179225444793701, 6.435187816619873, -3.9869916439056396, 9.334571838378906, -9.372485160827637, 4.273083209991455, 6.457447528839111, 0.8540405631065369, -4.36407995223999, -6.439182758331299, -9.665433883666992, 14.42329216003418, 1.552978277206421, 1.262386679649353, 0.324971079826355, 9.398298263549805, -5.1985368728637695, -13.130725860595703, -8.193497657775879, 4.332857608795166, 6.557287216186523, -2.2703070640563965, 4.948086738586426, -10.76607608795166, 1.6407731771469116, 2.3452441692352295, 1.5329792499542236, -3.3331613540649414, 2.701610565185547, 13.917840957641602, -3.0333163738250732, -1.6081507205963135, 11.314218521118164, 11.046980857849121, -5.608233451843262, -0.7444369792938232, -2.671581983566284, -10.500210762023926, -0.28460216522216797, 8.021124839782715, -9.833451271057129, 2.9121315479278564, -4.3874897956848145, -0.8913241028785706, -0.3852611184120178, 6.190454483032227, -11.662928581237793, -10.419899940490723, 0.7908443808555603, -6.693116188049316, 10.37117862701416, -4.778626441955566, -0.40888065099716187, 2.480792284011841, -9.054258346557617, 13.81739330291748, -1.5141090154647827, 1.3993322849273682, 3.6845102310180664, 7.693971633911133, 9.687286376953125, -3.314984083175659, -11.19981575012207, -1.2391679286956787, -11.328185081481934, -5.011987686157227, 7.207160472869873, -15.01190185546875, -1.137090802192688, -5.006875514984131, 4.160792350769043, -8.770864486694336, -12.814678192138672, -3.2428929805755615, -7.446637153625488, -1.9750797748565674, -1.1132932901382446, 0.6903224587440491, -3.708836078643799, -4.086434364318848, -13.069141387939453, -9.39798355102539, -5.706350326538086, -10.029744148254395, 0.47734248638153076, 2.909888982772827, -15.235577583312988, 16.008771896362305, -2.4173004627227783, 12.507139205932617, 8.120365142822266, -12.820476531982422, -14.740194320678711, 12.345538139343262, -5.01409912109375, -1.8681488037109375, -2.2194440364837646, -0.8186903595924377, -17.850038528442383, 8.28711986541748, 6.761347770690918, -0.8180709481239319, -7.6864166259765625, 16.047779083251953, -5.098226070404053, 7.731236457824707, 9.121428489685059, -0.12993130087852478, 0.9384124875068665, -5.7549943923950195, -5.504574775695801, 14.700648307800293, 10.157368659973145, -2.917501211166382, -1.4071928262710571, 7.1992974281311035, -4.724576473236084, 5.3139777183532715, 4.487448692321777, 8.332768440246582, 10.689939498901367, -6.568596839904785, 0.6867469549179077, -17.448040008544922, 12.37115478515625, 7.2803120613098145, 1.5181983709335327, 12.392179489135742, 14.194327354431152, 0.902553379535675, -9.853531837463379, -4.791684150695801, -3.5477454662323, -6.8398518562316895, 11.279818534851074, 14.130644798278809, -0.5370315909385681, 1.3142015933990479, 10.56358814239502, -0.5527929067611694, -6.590719223022461, 8.085709571838379, -8.891363143920898, 2.1569502353668213, -11.61319637298584, 5.8674397468566895, -2.840299606323242, -9.138321876525879, 6.101337432861328, -9.698371887207031, 7.9330363273620605, 1.409461259841919, -0.6203572154045105, -7.030402660369873, -1.2074247598648071, -5.919832706451416, -9.769657135009766, -0.18960130214691162, 3.2724411487579346, 1.2531578540802002, -12.59953784942627, 6.546257972717285, -1.9628328084945679, -3.567037343978882, -2.0033791065216064, 10.81154727935791, -2.718702793121338, 2.989030361175537, 1.140087366104126, -13.29164981842041, -3.6926372051239014, 1.6171294450759888, 4.042713642120361, 5.34913969039917, 9.822468757629395, -9.931600570678711, 4.180197715759277, 4.047651290893555, -0.6339368224143982, 13.608696937561035, -7.545550346374512, 11.756092071533203, 2.1363768577575684, 1.339473009109497, -7.318669319152832, -4.532670021057129, 9.508432388305664, 8.882522583007812, 2.7274327278137207, 1.2976915836334229, -9.270196914672852, 6.744218349456787, -7.492011070251465, 12.03386402130127, -12.867881774902344, -3.5694706439971924, -0.11029553413391113, 3.2331058979034424, -4.505928993225098, -12.721200942993164, 4.503251075744629, 7.461925983428955, 0.47542303800582886, -4.254229545593262, 0.4494702219963074, 15.20192813873291, 5.507737159729004, 16.062557220458984, -8.086048126220703, 13.065796852111816, -2.130263328552246, -5.214121341705322, -5.591914653778076, 8.33250904083252, -14.559983253479004, -6.0889387130737305, -6.009093761444092, -1.3316268920898438, 4.776278495788574, -0.8577633500099182, 0.3140736520290375, -3.2608089447021484, -15.0298490524292, -1.7833216190338135, 3.670133590698242, -2.2918360233306885, -1.4159964323043823, -12.222024917602539, 1.8020963668823242, 7.660918235778809, 13.68548583984375, -5.4659833908081055, 0.8728800415992737, -3.864858865737915, -9.357691764831543, -6.1248579025268555, 9.953433990478516, 6.982724189758301, 8.123273849487305, -4.910451412200928, -3.889338254928589, -2.04707670211792, -5.7719035148620605, 8.480765342712402, -2.423128128051758, 3.4748334884643555, -1.6875340938568115, 18.672218322753906, 4.101086139678955, -10.6952543258667, -12.489596366882324, 6.540316104888916, 8.554482460021973, 16.076030731201172, -3.1516520977020264, 11.139711380004883, -2.83752179145813, 16.254844665527344, 7.7049641609191895, 7.383983135223389, 5.80245304107666, -7.422934532165527, 5.545071125030518, 18.666555404663086, -4.241479396820068, 18.420991897583008, 8.328888893127441, 9.5579195022583, 0.506271481513977, -5.518787860870361, -10.934259414672852, -1.5401123762130737, 5.001504898071289, -3.901104211807251, -0.5835334062576294, 4.382126808166504, -0.07728419452905655, -0.2686159312725067, 15.276721954345703, -2.047355890274048, -2.781036853790283, -5.918264865875244, -3.4728410243988037, -4.435460567474365, -0.44666430354118347, -6.011824607849121, 18.359386444091797, -0.18146257102489471, -8.696475982666016, 6.632767677307129, -3.087930679321289, -16.837413787841797, 13.572062492370605, -6.338812351226807, 13.503145217895508, 7.655550956726074, -5.154291152954102, -3.1824164390563965, -8.76290512084961, 4.237553119659424, 3.670619487762451, 1.4700857400894165, 11.086918830871582, 8.26419734954834, -11.485225677490234, -2.9563839435577393, -0.19213148951530457, 6.806694984436035, 8.914807319641113, -8.6560697555542, -1.2399455308914185], \"z\": [-7.23761510848999, 1.851830005645752, -3.575650215148926, 5.986168384552002, -8.314008712768555, -2.0107314586639404, 12.518914222717285, -0.5702909231185913, -0.048529841005802155, -8.743349075317383, 9.921590805053711, 5.434532642364502, -13.205491065979004, 5.33545446395874, -7.902536869049072, 2.643418550491333, 1.0239837169647217, -2.7169902324676514, 7.035093784332275, 6.7690324783325195, -2.472323179244995, 5.846142292022705, 4.111434459686279, 12.310771942138672, -4.127658843994141, -12.315164566040039, 6.633517742156982, -4.170865535736084, -6.106346607208252, -15.009111404418945, 0.43359971046447754, -9.193814277648926, 0.019076252356171608, -13.549371719360352, 2.1346542835235596, 13.681543350219727, -6.445205211639404, 1.7405003309249878, 14.836939811706543, 5.5198469161987305, -6.17128849029541, -13.612738609313965, -5.430561065673828, 0.04818924143910408, -4.909759521484375, 4.916688919067383, -15.36639404296875, 1.6058663129806519, -11.157028198242188, -9.825590133666992, 6.939705848693848, -14.954476356506348, 9.108987808227539, 11.239078521728516, 3.1427605152130127, 2.274096965789795, 3.3952205181121826, -7.581878662109375, 3.6743812561035156, 4.885900497436523, -0.0487944558262825, -7.579965591430664, -6.218787670135498, 13.361738204956055, -0.29318681359291077, 5.9925665855407715, 11.022122383117676, -12.743451118469238, 1.1386610269546509, -7.331246852874756, -19.800827026367188, 2.096774101257324, -11.246893882751465, -13.360082626342773, 9.008220672607422, -3.7856717109680176, -1.0210366249084473, 3.6714823246002197, -2.0360820293426514, -3.2915103435516357, 0.6255089640617371, -19.140050888061523, -6.4814324378967285, -13.025111198425293, -9.794082641601562, -11.97745418548584, -16.437816619873047, -16.663944244384766, -2.006463050842285, 12.959172248840332, 10.226152420043945, 8.85822582244873, -13.268817901611328, -2.7130777835845947, 12.955451011657715, 4.379528522491455, -12.109723091125488, -15.925935745239258, 9.575706481933594, -5.9443678855896, -12.354342460632324, 9.599258422851562, -5.299420356750488, 5.007078170776367, 1.1183644533157349, -16.98006820678711, 14.375297546386719, -6.670999526977539, 3.9558210372924805, -15.613900184631348, -2.156283378601074, -2.4862587451934814, -15.40095329284668, 1.23960280418396, -9.78958797454834, 8.053404808044434, 8.679399490356445, -3.5100018978118896, 5.447464942932129, 11.160760879516602, 2.8466527462005615, 6.885768413543701, -11.283247947692871, -12.92720890045166, 3.4711146354675293, 1.5513393878936768, 14.091381072998047, 2.244145154953003, 12.401564598083496, 2.0729546546936035, 7.473627090454102, -15.907621383666992, -3.419896125793457, -0.4539084732532501, 10.621711730957031, 8.523198127746582, 8.901108741760254, -19.67926788330078, 4.205529689788818, 12.293745994567871, -4.992951393127441, -2.7504515647888184, -9.770331382751465, -0.233170747756958, -6.44108247756958, -18.32910919189453, 1.2437560558319092, -2.006448745727539, 7.323858737945557, -2.2131481170654297, 0.06243041530251503, 2.260441780090332, -2.0618515014648438, -0.9368875622749329, -10.575923919677734, -16.47712516784668, -18.649791717529297, -4.083748817443848, -5.110751152038574, 8.085134506225586, -2.3595614433288574, -7.838568210601807, 3.077780246734619, 13.90882396697998, 9.457075119018555, -13.357813835144043, -6.460104942321777, 6.73691463470459, -8.84614372253418, 1.1813459396362305, 5.488087177276611, 11.848855018615723, -6.3929972648620605, 11.789996147155762, 0.36238887906074524, -7.49086332321167, 1.5464224815368652, 6.2364373207092285, -6.080685615539551, -3.6701784133911133, 2.1982953548431396, -11.75747299194336, 3.481968879699707, -15.985569953918457, -2.1095001697540283, 13.647781372070312, -13.159025192260742, -17.44280242919922, -1.7818489074707031, -1.0781991481781006, -11.190352439880371, 1.080954909324646, -10.428196907043457, -3.183485984802246, 2.7697784900665283, -8.978692054748535, 10.42293930053711, 4.6817474365234375, -2.602776050567627, 1.0465410947799683, 2.6228067874908447, -0.22132346034049988, 2.833832025527954, 4.272331714630127, -7.7706756591796875, 3.5774693489074707, -11.198054313659668, 3.2749509811401367, 3.421750068664551, -17.7418212890625, 2.6755032539367676, -8.767300605773926, -12.71630573272705, 10.826146125793457, -5.4895339012146, 5.126397132873535, 5.578273773193359, 1.5059261322021484, -8.643866539001465, -9.159784317016602, 10.342790603637695, -0.3307056128978729, 0.6792277097702026, -3.9471492767333984, -4.74793815612793, 8.338279724121094, 1.299904704093933, -0.9504746198654175, 11.156187057495117, 7.149157524108887, 8.030606269836426, -4.504688262939453, -13.168230056762695, 2.70474910736084, -2.2491703033447266, 1.851527214050293, -0.5890170931816101, -15.360471725463867, 3.662914276123047, -7.637588977813721, 4.160559177398682, -9.147222518920898, -9.301385879516602, -8.849246978759766, 2.3494715690612793, 2.8423054218292236, 5.913819789886475, 1.227578043937683, -0.23329003155231476, -8.933961868286133, 5.783009052276611, -5.029160499572754, -7.173318862915039, 7.927669525146484, -5.850650787353516, 8.120697021484375, -8.59989070892334, 3.298414945602417, -1.7318329811096191, 3.402688980102539, 9.134404182434082, -2.541067123413086, 7.077208042144775, -8.60824966430664, -3.8841140270233154, 2.931575298309326, -2.7684383392333984, 0.3081316649913788, -4.953009128570557, 5.633296012878418, -2.250645637512207, 10.643959045410156, 6.552679538726807, -10.781660079956055, -5.378396511077881, 5.867983818054199, 4.978400230407715, -10.492849349975586, -4.708243370056152, -1.9831682443618774, 2.4729557037353516, 10.296841621398926, 8.413722038269043, -1.5570018291473389, -7.958932399749756, 5.782815456390381, -1.121657371520996, 8.4861478805542, -8.382452964782715, 0.22435754537582397, -0.771774172782898, -5.204933166503906, -5.34861421585083, 3.917165517807007, -8.673074722290039, 3.3517768383026123, 2.2472524642944336, 0.9794884324073792, -7.446906089782715, 5.217285633087158, -2.9190330505371094, 4.535064697265625, -7.91170072555542, -3.866718053817749, 6.243649005889893, 3.9021129608154297, 3.4596664905548096, 4.619653224945068, -8.23272705078125, -4.987241744995117, 0.32973209023475647, 5.452998638153076, 3.668153762817383, -3.6000828742980957, 7.382697582244873, -1.6232627630233765, -1.9581570625305176, -5.404743671417236, 8.989656448364258, 2.6623549461364746, -9.497116088867188, -2.5019407272338867, -0.7047862410545349, 4.716865062713623, 11.075787544250488, -0.3903900980949402, 5.33047342300415, -7.699193000793457, 0.2773912847042084, -5.838571071624756, 1.161363959312439, -10.514213562011719, -1.7403476238250732, -0.6988084316253662, 7.496153354644775, -10.117875099182129, -0.3257139325141907, 10.569540023803711, -4.224610805511475, -3.967501163482666, -4.656702041625977, -1.5518338680267334, -9.015657424926758, 9.169943809509277, 5.213099479675293, -6.338591575622559, 0.03415185958147049, -18.182144165039062, -16.864809036254883, -3.1629436016082764, 0.56535404920578, 1.012379765510559, 3.1053626537323, -9.041525840759277, 0.9433464407920837, 5.773733139038086, 0.8607071042060852, 0.1241459995508194, 11.521924018859863, 3.9134111404418945, 9.670493125915527, -2.338181972503662, 10.165678024291992, 10.992555618286133, -5.9461350440979, 4.231751441955566, -2.97041392326355, -1.7236746549606323, -5.676035404205322, -0.42240777611732483, -3.3742458820343018, -14.857344627380371, 7.343977928161621, 7.366842746734619, -12.986526489257812, 10.174234390258789, -16.46022605895996, 2.2075936794281006, -9.312183380126953, -12.271024703979492, 2.2636559009552, -3.9555397033691406, 7.419999122619629, 12.396845817565918, -0.5306550860404968, 5.356319904327393, 9.979921340942383, -1.8114980459213257, -1.5665630102157593, 8.830015182495117, 12.822537422180176, 12.38540267944336, 6.407053470611572, 3.841295003890991, 10.210320472717285, 10.313068389892578, -14.909408569335938, 4.01894998550415, 3.296236515045166, -8.401650428771973, 4.92995023727417, -8.501229286193848, 2.7406930923461914, -5.583605766296387, 9.441573143005371, 6.359659671783447, 10.48925495147705, 5.3232011795043945, -5.514196872711182, 2.1184704303741455, -1.7423332929611206, -10.991772651672363, 11.756772994995117, -7.374526023864746, -5.210038661956787, -6.945723533630371, -3.771266222000122, -12.735345840454102, -4.520070552825928, -4.547883033752441, 8.242905616760254, 4.235185146331787, 13.66729736328125, -4.364788055419922, -1.7673864364624023, 10.854104042053223, 9.246197700500488, 7.039755821228027, -14.791427612304688, -13.770405769348145, 10.145463943481445, -8.511913299560547, 6.169243335723877, 13.720911979675293, -11.814191818237305, 13.732605934143066, -6.923346519470215, -8.222542762756348, 3.457165241241455, -4.513012886047363, -7.523947238922119, 12.936206817626953, 8.338391304016113, 7.414450168609619, -1.390976071357727, -0.6549361944198608, 0.8534895777702332, -14.274312019348145, 10.596738815307617, 6.110350608825684, -10.982247352600098, 4.580440521240234, 13.22613525390625, -14.610283851623535, -11.717864990234375, -10.800847053527832, -6.089757442474365, 13.476887702941895, 9.803693771362305, 10.630423545837402, -2.625654935836792, -11.454416275024414, -1.6585158109664917, 7.6786699295043945, -4.4102911949157715, 4.672223091125488, 7.714653968811035, -0.022618412971496582, -3.205096960067749, -4.37431526184082, -12.613521575927734, -18.018104553222656, -4.460625648498535, 9.920700073242188, 16.45246124267578, -19.388824462890625, -4.577717304229736, -0.4519376754760742, -9.373523712158203, -12.07470417022705, -16.005451202392578, 5.603878974914551, 15.144950866699219, 8.486588478088379, -12.668106079101562, -0.041509535163640976, -4.628625392913818, 11.927289009094238, 4.799084186553955, -8.149441719055176, -14.582201957702637, -18.5343074798584, -19.322938919067383, -2.8389196395874023, 2.9361183643341064, 13.204988479614258, -4.700063705444336, 12.24730396270752, 13.627713203430176, -16.057186126708984, -15.671667098999023, -9.363568305969238, 5.606224060058594, 11.127461433410645, -1.0301978588104248, -13.875761032104492, 2.086228132247925, 1.3147615194320679, 6.60147762298584, 12.091525077819824, 1.3558764457702637, -2.3055052757263184, 13.532964706420898, -10.278688430786133, 10.055933952331543, 0.5580927729606628, -7.711722373962402, 3.9796931743621826, 13.248922348022461, 2.4011752605438232, 15.865492820739746, 15.331663131713867, -8.397643089294434, 3.199049711227417, -11.458115577697754, -9.919498443603516, -2.620739221572876, -19.214431762695312, -2.60512375831604, -12.961642265319824, 12.117358207702637, 0.8104414939880371, 2.2488319873809814, 7.037886619567871, 5.690273761749268, -3.639465570449829, 9.026296615600586, 11.1393461227417, -2.339029312133789, 8.322235107421875, -15.314231872558594, -10.565496444702148, -3.067756175994873, -13.951360702514648, 3.0151312351226807, -0.12464822828769684, -0.03544815629720688, -12.456816673278809, 6.402359962463379, 1.8215776681900024, -2.3880598545074463, 4.86812162399292, -7.1540679931640625, -4.756256103515625, 0.24336466193199158, -10.665753364562988, 1.4524545669555664, 2.6884236335754395, 2.435546875, 9.735275268554688, 8.39602279663086, 10.969304084777832, -2.5160603523254395, 5.77787446975708, 1.619187831878662, -10.320979118347168, 1.1229221820831299, -10.799620628356934, -2.444780111312866, -11.973127365112305, -13.46593952178955, 6.526312828063965, -7.800256729125977, -14.363664627075195, 1.6722288131713867, -18.87819480895996, -7.495388031005859, -7.665755748748779, -13.60301399230957, -6.437135696411133, 6.763860702514648, 9.769906997680664, 2.971548557281494, -10.698382377624512, 6.577072620391846, 9.188804626464844, -7.530296325683594, -13.333898544311523, 7.03710412979126, 5.87578821182251, -8.820558547973633, 6.496616840362549, -3.0759382247924805, -2.772644281387329, 3.6726908683776855, 6.43190860748291, -0.09689325094223022, 9.250028610229492, 10.069679260253906, 5.740963935852051, 7.23530387878418, -5.993935585021973, -6.705073356628418, -13.29086685180664, 2.6854867935180664, -8.307191848754883, -8.33934497833252, 3.184246063232422, -4.598376274108887, -8.127174377441406, 9.284464836120605, 13.53478717803955, -17.178730010986328, 6.84153938293457, -12.485016822814941, 4.291014671325684, -1.801408290863037, 6.906982421875, 1.5301666259765625, -10.26496696472168, -0.3044251799583435, 4.928521156311035, 1.8551297187805176, -6.675835609436035, -6.108005523681641, -12.974238395690918, 1.000259518623352, -1.1035794019699097, -15.506200790405273, -13.164695739746094, -2.144803524017334, 10.961706161499023, 1.9523805379867554, -2.23502516746521, 4.783278942108154, -7.102969169616699, -0.5379650592803955, 7.123961448669434, -8.588425636291504, 2.2582621574401855, 6.3004302978515625, -8.140562057495117, 0.32449784874916077, 0.8636299967765808, 1.3835943937301636, 7.659768104553223, 0.5005677342414856, -2.7362687587738037, -11.930733680725098, -0.12459753453731537, -6.560922145843506, 2.3776893615722656, 8.406038284301758, 4.565000057220459, -14.097814559936523, 5.612064838409424, 3.4534499645233154, -0.37777799367904663, 6.012936592102051, 4.707489490509033, 4.337249279022217, -3.339345693588257, -1.067989468574524, 7.42394495010376, -4.191289901733398, 2.7937982082366943, -8.700662612915039, -0.9987577795982361, 4.215806484222412, 1.2765896320343018, 0.7364399433135986, 5.812249183654785, 7.900872707366943, -1.7901057004928589, 12.846220016479492, -7.41348123550415, -14.990883827209473, -5.3931565284729, 0.5263573527336121, -5.342289924621582, 12.918793678283691, 10.194629669189453, 12.954888343811035, 11.21844482421875, 8.316426277160645, -6.614999771118164, -10.533534049987793, -8.805624008178711, -10.216897964477539, -9.837191581726074, 12.283653259277344, -10.558446884155273, 2.4854736328125, 1.4231597185134888, -9.222558975219727, 0.27340415120124817, 7.269994735717773, 10.919939041137695, -5.935434818267822, 10.555386543273926, -11.902607917785645, -1.2137123346328735, 6.224037170410156, -7.952413558959961, -2.2828657627105713, -16.507957458496094, -4.560108184814453, 7.993516445159912, 5.745311260223389, -12.081847190856934, 4.057995319366455, 12.06463623046875, 1.2795960903167725, -14.3914794921875, -9.591010093688965, -3.2079570293426514, 9.535655975341797, 2.2853572368621826, -3.04552960395813, 3.8007454872131348, -1.7627257108688354, 0.06163032352924347, -11.589435577392578, 5.103851795196533, 0.033166080713272095, 3.181896209716797, -5.247345447540283, 4.991543292999268, 14.540082931518555, 0.21793094277381897, 7.27056360244751, 7.358907222747803, 8.281315803527832, -12.95534610748291, -15.206491470336914, 16.486875534057617, 0.19806049764156342, -14.763728141784668, -4.885897159576416, 1.0425599813461304, -14.428640365600586, -5.357730388641357, -15.530163764953613, 13.967191696166992, 3.554098606109619, -3.7533981800079346, -18.07369613647461, -0.5808707475662231, 8.04738998413086, -1.5109061002731323, -4.449921131134033, 2.473310708999634, -17.59119987487793, -14.576391220092773, -3.939995765686035, -8.942536354064941, 1.5279327630996704, 7.939388751983643, -13.712953567504883, 11.462016105651855, 9.659725189208984, 4.1335673332214355, 7.477258205413818, 2.5756993293762207, -0.47774240374565125, 15.406255722045898, -16.58449363708496, -18.43316078186035, 6.656497955322266, 2.4011895656585693, 2.1564769744873047, -14.602174758911133, -11.241957664489746, 8.373617172241211, -6.674449920654297, -0.5854257345199585, -16.167465209960938, 7.542222499847412, -2.01448392868042, 6.042733192443848, -12.256121635437012, 8.417545318603516, -4.682485580444336, -12.35854434967041, -1.6060764789581299, -4.190176010131836, 10.682705879211426, 9.907674789428711, 4.138757705688477, 13.50804328918457, 8.132979393005371, -7.042349815368652, 15.355740547180176, 8.050711631774902, 3.5529842376708984, 6.034360408782959, -7.633504867553711, 2.8537163734436035, -1.7220581769943237, 4.078087329864502, 4.314088344573975, -6.263234615325928, -5.657882213592529, 9.189223289489746, -6.49791955947876, 10.786834716796875, 5.742779731750488, 8.707503318786621, 8.875761032104492, -10.891630172729492, 7.297906398773193, 10.272632598876953, -2.6790685653686523, -14.68796443939209, 5.542685031890869, -13.968910217285156, 13.136402130126953, 5.769467353820801, -3.116297960281372, 2.4568207263946533, 11.409748077392578, -5.493306636810303, 1.3185139894485474, 3.964554786682129, -12.720046997070312, 15.178543090820312, -10.816425323486328, 5.911040306091309, -2.893364429473877, 4.148809909820557, 5.143975257873535, -8.011053085327148, -12.447450637817383, -12.880941390991211, 5.320775508880615, -10.982518196105957, -2.403641700744629, -3.668877601623535, 3.0121636390686035, 11.821499824523926, -2.8668971061706543, 2.9973278045654297, 5.488829612731934, -1.306687355041504, -8.754734992980957, 1.4690793752670288, -7.392331123352051, 10.73733901977539, -9.611788749694824, -7.284522533416748, 11.770980834960938, 3.310187339782715, 4.033291339874268, -3.430556297302246, -3.9860095977783203, 12.723984718322754, -11.855467796325684, -7.678905963897705, 9.306211471557617, 4.084146499633789, 2.4892160892486572, -16.752798080444336, -1.3746229410171509, 11.290203094482422, -13.305761337280273, 9.055335998535156, -9.869566917419434, 1.0329439640045166, -0.07147487998008728, -0.2275937795639038, 1.718024492263794, 6.768922805786133, -8.269515037536621, -13.158886909484863, -14.863738059997559, 11.456866264343262, -14.366891860961914, 2.3984053134918213, -10.355448722839355, 3.7105746269226074, 10.729195594787598, -2.4436304569244385, 15.991528511047363, -8.88696575164795, 13.357091903686523, 2.9433181285858154, -2.3743879795074463, 5.815796375274658, -4.7757110595703125, -10.49653434753418, 7.191847801208496, -14.260921478271484, 11.218568801879883, -1.224269151687622, 9.78013801574707, -15.268928527832031, 3.1500842571258545, 0.7152367830276489, -11.930255889892578, -9.827521324157715, -3.749109983444214, -0.4175437092781067, -7.012195110321045, 9.203598976135254, -4.292551040649414, 8.196182250976562, -14.99030590057373, -6.2262654304504395, 12.89751148223877, -10.9581298828125, 10.466391563415527, 0.09982296079397202, -18.23615837097168, 1.3715596199035645, 11.556760787963867, 3.5591936111450195, -12.328221321105957, -4.196664333343506, 4.523306846618652, 0.990179717540741, -3.5108754634857178, 0.05446494743227959, 0.16502979397773743, -10.91878890991211, 9.915964126586914, 9.9432373046875, -8.856222152709961, 1.6375458240509033, 9.041620254516602, -3.071375608444214, -14.675579071044922, 10.552674293518066, 6.902963161468506, 13.704142570495605, -3.7247016429901123, 10.732893943786621, 12.422198295593262, -8.631669998168945, 5.75255823135376, -3.8043336868286133, 0.7548356652259827, 2.0153510570526123, 2.826702117919922, -2.4837687015533447, 5.553603172302246, -10.64006233215332, -2.02030348777771, -8.690659523010254, 8.688302040100098, -1.5645414590835571, -14.292680740356445, -1.1174818277359009, -11.854381561279297, -0.6697609424591064, 6.483858585357666, 1.1079115867614746, 6.056786060333252, 1.497778296470642, -8.6426420211792, 7.785063743591309, 4.732789993286133, 5.240543842315674, 13.075721740722656, 7.760043144226074, 1.5075452327728271, -13.086419105529785, -0.9252657294273376, 5.122211933135986, 8.723075866699219, -13.378151893615723, -2.1379029750823975, 0.7853039503097534, -11.115035057067871, 6.787633895874023, 5.406836032867432, 3.641603946685791, -11.296738624572754, -11.36205768585205, -7.67910099029541, 2.020597457885742, -3.5974249839782715, -13.692200660705566, -5.482267379760742, 6.548426628112793, 0.47935593128204346, -0.5999798774719238, 4.324809551239014, -14.769495010375977, -13.345670700073242, 8.38146686553955, 14.745396614074707, -9.234824180603027, 7.492440223693848, 13.121700286865234, 15.167908668518066, -10.821174621582031, -1.6980372667312622, -15.245308876037598, 1.0554656982421875, 0.4410913288593292, 3.494812488555908, -6.30521821975708, -8.662253379821777, -11.565608978271484, -0.36069396138191223, -12.461383819580078, 4.478227138519287, 14.815765380859375, 7.468186378479004, -12.903094291687012, 1.3741823434829712, -2.894158363342285, -7.267022609710693, -13.742210388183594, 2.2630510330200195, 12.036020278930664, 8.120344161987305, 11.020331382751465, -13.298291206359863, 2.9544217586517334, 3.407163619995117, 7.744868755340576, -10.244452476501465, 8.44289779663086, 5.7063093185424805, 6.979130268096924, 6.137102127075195, -2.7949271202087402, -12.021472930908203, -13.581198692321777, -10.73661994934082, 6.6810078620910645, 11.666693687438965, 8.440393447875977, -11.23058795928955, 9.25718879699707, 5.695552825927734, -1.8860499858856201, 8.976287841796875, 6.466028213500977, 10.579517364501953, 0.8444473147392273, 0.5042986869812012, -8.289468765258789, 11.497092247009277, -1.101357102394104, 8.202125549316406, -10.081512451171875, 11.206354141235352, 5.815467834472656, -3.109912157058716, -4.29937744140625, -13.73731803894043, 7.441509246826172, 8.45494270324707, 11.132806777954102, 4.371738433837891, -4.015814781188965, 0.7826587557792664, 10.758973121643066, -2.78572678565979, 8.405787467956543, -8.025708198547363, -6.429800033569336, 5.084471225738525, -7.956648826599121, -1.5308035612106323, 9.180892944335938, 3.4393746852874756, -5.845202922821045, 4.763391494750977, 2.9884581565856934, 6.0286641120910645, 2.98612380027771, -7.003306865692139, -2.4603326320648193, 6.967609405517578, 1.9372259378433228, -3.0274834632873535, -4.036713123321533, -5.337522029876709, -8.156373023986816, -4.171510219573975, 7.167539596557617, -10.242122650146484, 2.5142924785614014, 3.4195854663848877, 5.6827239990234375, -6.3632965087890625, -14.84698486328125, -12.03282642364502, 9.608991622924805, 3.732619047164917, 12.5482759475708, -11.659894943237305, -14.07948112487793, -11.343240737915039, 6.719571590423584, 8.507132530212402, 1.120056390762329, 6.402037143707275, -4.833698272705078, 4.9763593673706055, 10.864569664001465, -6.302507400512695, 6.989340782165527, -3.263990640640259, -13.555813789367676, 9.577828407287598, 9.37825870513916, 11.315801620483398, -14.647197723388672, 6.250321388244629, 8.052708625793457, -5.530611515045166, 7.8602142333984375, 2.514246940612793, -12.440922737121582, 5.249935150146484, -10.767186164855957, 9.460430145263672, 13.186735153198242, 3.3352880477905273, -2.2058818340301514, -2.804615020751953, -12.820496559143066, -11.836254119873047, -17.949697494506836, -4.751988887786865, 1.8849303722381592, -11.01193618774414, 3.081644296646118, 8.186059951782227, 1.3547461032867432, 8.198579788208008, 0.5798232555389404, -7.352267742156982, -5.416134357452393, 6.266661167144775, 6.368880271911621, 3.7338690757751465, 5.488285541534424, -5.854248046875, -12.412626266479492, 11.580774307250977, -11.332087516784668, 12.383783340454102, -12.78309440612793, 1.8571784496307373, 14.86670970916748, 3.229416847229004, 4.755534648895264, 12.255925178527832, -7.060918807983398, -4.417022228240967, 1.2098690271377563, 15.813580513000488, -3.545374870300293, -11.340446472167969, 6.772157669067383, 7.757754325866699, 13.64209270477295, -10.48633098602295, 8.382904052734375, -13.185582160949707, -10.751646041870117, -0.0984049141407013, 7.751347541809082, -1.642664909362793, 12.89890193939209, 1.3312811851501465, 8.652364730834961, 2.6260159015655518, -4.251474857330322, -7.907147407531738, -16.966506958007812, -9.145224571228027, 13.257172584533691, 12.146724700927734, -3.8577027320861816, 11.880960464477539, 9.136528015136719, 6.680229187011719, 5.151241302490234, -4.191691875457764, -2.520040512084961, -1.6398624181747437, 10.439913749694824, -0.6088394522666931, 9.63058853149414, -5.309086322784424, -1.76279616355896, -1.7945691347122192, -4.88069486618042, 8.641023635864258, 3.5672249794006348, 17.15691375732422, 9.894256591796875, 10.822232246398926, 0.26802292466163635, -0.6758475303649902, -5.1978440284729, -9.505398750305176, 8.360602378845215, -13.35877513885498, 4.583807468414307, 11.216484069824219, 4.343330383300781, -18.20165252685547, 5.929681777954102, 6.596099853515625, 3.298205614089966, 8.168697357177734, -1.7266781330108643, 11.981201171875, 2.894620895385742, 1.886756420135498, -8.885329246520996, 10.302847862243652, 4.2922773361206055, -13.319253921508789, 8.140371322631836, -3.5185999870300293, -12.095380783081055, 0.09637419134378433, 11.45673942565918, -1.45309579372406, -16.964981079101562, 7.51797342300415, 9.348024368286133, 8.130180358886719, 3.701357364654541, 4.152279853820801, -4.393824577331543, 6.205931663513184, 7.270402908325195, -10.492185592651367, -4.332608222961426, 11.151001930236816, 12.735597610473633, -2.876551389694214, -14.879293441772461, 9.646108627319336, 2.36350679397583, 10.710257530212402, -13.395541191101074, -12.881084442138672, -4.11120080947876, -11.997627258300781, 11.482131958007812, 8.518318176269531, 11.119363784790039, 2.248293161392212, -8.418084144592285, 8.076576232910156, -7.068751811981201, 11.726277351379395, -16.525611877441406, 10.131972312927246, -6.37461519241333, 11.298434257507324, 7.641929626464844, -6.350914478302002, 10.67786693572998, 2.0800325870513916, 3.049403190612793, 1.4476068019866943, -9.734798431396484, -12.232358932495117, -6.548917770385742, 11.32117748260498, -3.6385762691497803, -2.097388505935669, 5.160961627960205, 5.221347808837891, 6.122644424438477, 10.78469181060791, 12.274373054504395, 2.133455514907837, -13.579741477966309, 8.696011543273926, 13.420156478881836, -4.552000999450684, 9.668599128723145, 2.763216257095337, -12.918339729309082, -12.023026466369629, -5.532251834869385, 11.538840293884277, 6.859616279602051, 7.368338584899902, 7.750576972961426, 7.444173812866211, 3.745234966278076, 7.400448322296143, 4.941677093505859, -11.41126823425293, -2.4826667308807373, 13.479399681091309, 9.109355926513672, 2.275629997253418, -12.110269546508789, 10.3894624710083, -1.1335580348968506, -11.88325023651123, 3.9433751106262207, 8.958266258239746, -4.1673479080200195, 9.054153442382812, -11.943131446838379, -3.8669490814208984, -6.842073917388916, -12.378419876098633, 1.957351565361023, -13.737547874450684, 2.8344666957855225, 12.864194869995117, 7.955080032348633, 9.698362350463867, 4.328577518463135, -0.9194024205207825, 5.867114543914795, 14.814885139465332, -12.747217178344727, 3.966608762741089, -15.593127250671387, -10.711468696594238, 6.280277252197266, -3.0219616889953613, 3.464024305343628, 2.0839850902557373, 6.301472187042236, -10.130249977111816, -4.233606338500977, -0.6186226606369019, -2.4061028957366943, -5.949924468994141, -0.7624956965446472, 5.675917625427246, -5.7490553855896, 0.34683430194854736, 9.921924591064453, -13.670751571655273, 0.8325384259223938, -5.054381370544434, -3.089594841003418, -0.26858845353126526, -8.28107738494873, 4.526860237121582, 10.548103332519531, -1.4338728189468384, -7.0355224609375, -3.539820432662964, -7.570315361022949, -3.1448891162872314, 7.25272798538208, -7.012752056121826, 5.665867328643799, 6.584417819976807, -6.985616683959961, 5.239553451538086, 5.861407279968262, 3.7249045372009277, 1.7911558151245117, -6.687915325164795, -4.531986236572266, 15.143115043640137, -2.3008437156677246, -12.485101699829102, -7.210922718048096, 6.4291205406188965, -4.920389175415039, 6.900931358337402, 7.247832775115967, 6.7579345703125, -6.041192531585693, 9.393471717834473, -6.419882774353027, 2.8267922401428223, -6.0818376541137695, -5.6376543045043945, 0.20611223578453064, -4.932699680328369, 8.88407039642334, 4.260002613067627, 1.4585179090499878, 6.457993507385254, 9.884526252746582, -1.6742583513259888, 4.3614301681518555, 3.2533326148986816, -12.553378105163574, -13.31833267211914, 0.12274793535470963, -5.940450668334961, 5.9018073081970215, 5.1187424659729, 9.221736907958984, 9.133133888244629, -5.206514358520508, -10.682452201843262, -5.637173175811768, 0.5546799898147583, -10.202837944030762, 7.11407470703125, 3.457606554031372, 12.834892272949219, 6.261791229248047, 8.181577682495117, -9.16968822479248, 9.007704734802246, 2.9479806423187256, 8.412313461303711, -13.956192016601562, 4.327498435974121, -2.5838232040405273, 3.2533657550811768, 8.858308792114258, 6.985884189605713, 7.645621299743652, 2.319337844848633, -3.535667896270752, -1.7125943899154663, 9.355932235717773, 8.149351119995117, 2.090416431427002, -2.5086772441864014, -0.2942112386226654, 8.607916831970215, 8.982797622680664, 2.6157641410827637, 1.9058823585510254, 1.4984184503555298, -1.046817421913147, -2.1253204345703125, 8.632376670837402, 13.320013999938965, 4.092391490936279, -9.847521781921387, -5.81561803817749, -9.07995319366455, 10.607237815856934, 2.6199657917022705, 12.374356269836426, -3.424478530883789, -3.2256486415863037, 7.528169631958008, 0.1430070698261261, -2.46317458152771, -6.814492225646973, 4.289637088775635, 10.04812240600586, 0.647668719291687, -1.1130340099334717, 3.850715160369873, 6.694966793060303, -9.199350357055664, -0.1441650092601776, 11.817803382873535, -1.8537629842758179, 11.996780395507812, 0.0833306536078453, 3.4292280673980713, 14.787484169006348, -4.0189690589904785, 0.375713050365448, 9.661355018615723, -17.229644775390625, -6.821619033813477, 0.7681077122688293, -8.068359375, -5.804011821746826, -8.163862228393555, 9.029322624206543, -0.2542191743850708, 7.894925594329834, 6.711223125457764, -3.347012519836426, 1.2099683284759521, 4.917323112487793, 3.4157350063323975, -9.858512878417969, 2.3745086193084717, 1.9203300476074219, -2.0585906505584717, -3.345742702484131, 15.094175338745117, 7.829465389251709, -0.9278230667114258, -14.26531982421875, 11.449630737304688, -7.5864105224609375, 6.494656085968018, 2.154120922088623, -10.037657737731934, -2.9850542545318604, 3.0686872005462646, 3.4017162322998047, -12.047669410705566, 10.606160163879395, -5.121595859527588, 7.0153985023498535, -4.053353786468506, -7.532549858093262, 11.206356048583984, 1.3591309785842896, -10.102977752685547, -1.6169235706329346, 1.7732588052749634, -17.38813018798828, -0.350786954164505, 0.1743990033864975, 9.69078540802002, 5.588519096374512, -9.999759674072266, 1.3850667476654053, 1.3889720439910889, 1.87899649143219, 0.7572058439254761, 6.117496013641357, -2.2948431968688965, -8.782699584960938, -3.624758720397949, 6.3572773933410645, 0.0555768683552742, -16.4088191986084, 10.080110549926758, 4.7509026527404785, 2.5408518314361572, 13.837264060974121, 2.916612148284912, 10.258862495422363, -1.965837001800537, -13.280782699584961, -2.070289373397827, 6.773022651672363, -12.62157917022705, -4.688150405883789, 2.520206928253174, 1.8867651224136353, -9.222406387329102, 11.413015365600586, -2.8418920040130615, 10.979312896728516, 9.697504043579102, 2.721285820007324, 3.106255531311035, -5.874406337738037, 10.994925498962402, -1.139252781867981, -1.3714346885681152, -10.626964569091797, 1.9829477071762085, 1.1746594905853271, -18.46295928955078, -1.7383793592453003, 3.5496103763580322, 0.9682021141052246, -7.038959503173828, -9.788262367248535, -10.19441032409668, 7.626300811767578, 6.25872802734375, -3.2539010047912598, -10.109716415405273, -5.645394802093506, 1.1892467737197876, -7.75203800201416, -0.6178812980651855, -6.237950801849365, -6.511146068572998, 8.475186347961426, 0.8989136815071106, -12.257155418395996, 6.970232963562012, 5.7922515869140625, 0.42150771617889404, 6.714986324310303, 5.941860675811768, 2.1112382411956787, -6.332234859466553, -1.9139701128005981, -11.488991737365723, -11.196913719177246, 11.031908988952637, 10.297816276550293, 2.0149054527282715, 2.7727627754211426, -5.230982303619385, 7.402756690979004, -3.616213321685791, 8.58754825592041, -14.456092834472656, 4.013901710510254, -4.943150997161865, -4.4069929122924805, -15.004266738891602, 6.847580909729004, -4.213817119598389, 8.833893775939941, 13.648694038391113, -15.853986740112305, 3.8902084827423096, -6.420169353485107, -15.198783874511719, -6.743354320526123, 0.8049039840698242, 5.361275672912598, 2.0265729427337646, -3.429212808609009, -6.964059829711914, -3.7520811557769775, 10.892709732055664, 5.632954120635986, 7.001185894012451, 10.874764442443848, -6.988986492156982, -10.928311347961426, -9.417060852050781, 3.931628465652466, 7.5204010009765625, -5.288266181945801, -13.810772895812988, -4.6844563484191895, 8.374150276184082, 3.0111098289489746, 1.7057989835739136, -4.059452533721924, -16.41444206237793, -13.697875022888184, -4.433282852172852, -7.3407816886901855, -2.3394367694854736, 2.8137567043304443, 1.0257235765457153, -8.720634460449219, -14.343542098999023, -4.040565490722656, 3.687950611114502, 0.13048945367336273, -4.647780895233154, -3.2451446056365967, 5.832397937774658, -12.19342041015625, -8.205838203430176, 6.215278625488281, -2.203640937805176, 8.34665298461914, -3.883943796157837, 9.858748435974121, -2.560070753097534, 7.275834560394287, 9.920560836791992, -12.952198028564453, 11.893034934997559, -16.84324836730957, 15.04613208770752, 8.92778491973877, 10.945916175842285, -0.3787686228752136, -5.233541965484619, 2.3785276412963867, 7.488534450531006, 4.723027229309082, 3.711426019668579, -9.22343635559082, -8.122273445129395, 10.129192352294922, 4.242137908935547, 5.95313024520874, 2.5317153930664062, -3.047456741333008, 0.1391505002975464, -9.981951713562012, 7.41732931137085, 4.162633895874023, -9.538701057434082, 12.30978012084961, -1.38068687915802, 1.7157118320465088, 1.0350337028503418, -7.015012264251709, 13.21401309967041, -9.009685516357422, -3.113074541091919, 8.946779251098633, 12.682245254516602, 7.468388557434082, 0.7473769187927246, -9.935133934020996, 5.208091735839844, 9.631646156311035, 3.9665489196777344, 7.989182472229004, 10.350167274475098, 0.9681704640388489, -6.3003034591674805, -9.985882759094238, 2.3140738010406494, -1.9649921655654907, 1.2334895133972168, 14.647187232971191, 9.311470985412598, 0.17409171164035797, -9.92825698852539, 2.773008346557617, -12.282332420349121, -2.224426746368408, 3.8815505504608154, -10.117159843444824, 5.324925899505615, 10.286750793457031, 13.768905639648438, 12.63652229309082, -0.6897180676460266, -12.688772201538086, 9.79267692565918, -1.6528069972991943, 0.9092500805854797, -5.686847686767578, 6.605200290679932, 0.9896175861358643, 7.30771541595459, -0.17687813937664032, -4.713430881500244, -13.523369789123535, -0.40576836466789246, 12.916356086730957, -8.798466682434082, -1.0384564399719238, -0.5683209896087646, -10.712368965148926, -11.572033882141113, 6.3328728675842285, 2.3118398189544678, -1.26472806930542, -15.233964920043945, 0.00041384639916941524, -4.822202682495117, -4.892298221588135, -2.8994126319885254, 1.100826382637024, 5.780762195587158, 1.2817085981369019, 11.464997291564941, -9.426383018493652, 0.9033381938934326, -9.012906074523926, -0.3432653248310089, -13.986490249633789, 9.758625030517578, -6.737198829650879, 12.338324546813965, -4.9705328941345215, -14.475503921508789, 0.044835202395915985, -8.15562629699707, 13.444458961486816, 1.8781213760375977, 6.7511725425720215, 4.950867652893066, -6.772967338562012, 11.351987838745117, 3.2426280975341797, -11.675908088684082, -12.590023040771484, -1.0791844129562378, 11.286076545715332, 1.4480539560317993, 4.126560688018799, -5.17765474319458, -3.105445623397827, 2.8763723373413086, -6.086736679077148, 6.342060089111328, 9.028749465942383, -4.380171775817871, 0.9020333886146545, -0.06053554266691208, -16.003705978393555, 11.321099281311035, 7.965363025665283, -0.06132884323596954, -0.3060263991355896, 11.052678108215332, -4.793995380401611, 0.07090470939874649, -6.329253196716309, 2.031783103942871, 2.8724496364593506, 2.4596285820007324, 10.342851638793945, -6.222597599029541, 4.130482196807861, 3.4018054008483887, 2.325932025909424, -9.239957809448242, -1.0816720724105835, 9.975733757019043, -8.620929718017578, 4.943511486053467, -5.947656631469727, 7.295175552368164, -11.060288429260254, -7.545017719268799, 7.5810699462890625, 11.03978157043457, 7.678201198577881, -15.186714172363281, 1.735562801361084, -8.11284065246582, -3.5996992588043213, -11.946715354919434, 2.5822339057922363, -9.351271629333496, -2.4814436435699463, 5.296175479888916, 12.665059089660645, 7.745996475219727, 7.834826946258545, 6.573811054229736, 8.407630920410156, 0.8215039968490601, -0.2123764455318451, -12.63167953491211, 16.05394744873047, -11.729599952697754, 0.8497658371925354, -9.203689575195312, 12.342022895812988, -4.084384918212891, 11.267090797424316, 2.115856170654297, -5.907405376434326, 0.7026844024658203, -8.45175838470459, 1.9360212087631226, -7.254443645477295, 0.7449377775192261, 8.745933532714844, 13.705119132995605, -8.897835731506348, -12.44719123840332, -6.1598076820373535, 5.941319465637207, -0.4799722135066986, -16.646671295166016, -7.870216369628906, -14.223240852355957, 11.3555326461792, 6.753268718719482, 3.344985246658325, -2.7841145992279053, 6.023326396942139, -8.896899223327637, 8.466848373413086, -8.798279762268066, 3.9597415924072266, 0.025105973705649376, 3.419095039367676, 7.2792863845825195, -0.9842778444290161, -2.7359585762023926, -0.9269696474075317, 8.49850845336914, -2.4836745262145996, 3.653028964996338, -3.3173165321350098, -2.9512202739715576, -8.088472366333008, -6.160086631774902, -0.0486656092107296, 9.50493049621582, 1.6971737146377563, -0.6411353945732117, 3.8578333854675293, 0.11316008120775223, -7.99576997756958, -7.8792948722839355, 4.494113445281982, -2.348017454147339, 4.119569301605225, -11.52889633178711, -0.33846205472946167, -0.9825073480606079, -13.17375373840332, 1.501894474029541, -15.071205139160156, 1.44861900806427, 6.674609184265137, 6.5521769523620605, 6.27390718460083, -8.178723335266113, 3.4095821380615234, 5.694368362426758, 2.2641677856445312, 8.079280853271484, 2.045884370803833, -3.055091142654419, -10.181051254272461, 9.786222457885742, 1.2014254331588745, 10.499641418457031, -1.5677253007888794, 3.140005588531494, -9.19558048248291, -2.269364595413208, -0.41679415106773376, -9.57260513305664, 0.46346184611320496, -0.9866946339607239, 9.842373847961426, -0.9209811091423035, -3.945981740951538, 0.07351214438676834, 10.0338134765625, 2.348904609680176, -14.711292266845703, 10.58896541595459, -3.0429890155792236, -5.963511943817139, -10.638578414916992, -3.0392744541168213, -12.118467330932617, -6.979480266571045, -11.818979263305664, 6.312742233276367, -15.08141040802002, -3.3289222717285156, -7.700163841247559, 9.660491943359375, -0.34907829761505127, 1.9849917888641357, -13.018953323364258, 2.004098415374756, -8.994640350341797, -12.184489250183105, -1.0381652116775513, 6.177937030792236, -2.9371225833892822, -15.727127075195312, 2.410374641418457, 3.0501549243927, -17.86350440979004, -9.209936141967773, -2.9632158279418945, 7.588508605957031, -3.3790111541748047, 7.458647727966309, -5.204695224761963, 11.499918937683105, -7.212843894958496, 3.9541923999786377, -2.1256468296051025, -9.639225959777832, -0.480843186378479, -1.1142386198043823, -0.48158398270606995, 2.437847375869751, 9.500791549682617, -3.814634323120117, 7.585811614990234, 10.426947593688965, 11.813101768493652, 2.7018020153045654, 13.937464714050293, 8.02291202545166, -12.073431015014648, 13.177080154418945, 1.450278878211975, 5.876877784729004, 6.5620012283325195, -0.8700553178787231, 4.03720760345459, -3.3260185718536377, -17.811344146728516, -6.971133232116699, -8.797883033752441, 1.0752102136611938, -4.754093170166016, 11.804557800292969, -2.754373073577881, 2.137892723083496, -12.389985084533691, -16.419694900512695, -2.830153703689575, 8.840354919433594, 9.533661842346191, -3.1226210594177246, 12.59579849243164, -13.587995529174805, -16.05645179748535, 6.7352728843688965, -3.1276445388793945, -0.39811989665031433, -3.4475739002227783, 0.35612982511520386, 5.442925930023193, -0.5842528343200684, -13.840256690979004, 3.0199456214904785, 9.80667781829834, 4.995321273803711, 14.110185623168945, 2.1710293292999268, 11.06053638458252, 4.393462657928467, -10.358748435974121, -0.7152656316757202, -3.9644341468811035, 9.657027244567871, -0.03563964366912842, 13.7161283493042, 5.873071670532227, -4.965235710144043, 5.191370010375977, 2.5626697540283203, 5.972731590270996, -7.736110210418701, 3.7953240871429443, 2.3549842834472656, 4.94020414352417, -16.40841293334961, 4.545477867126465, -0.7269942164421082, 10.794748306274414, -5.584074020385742, -13.402032852172852, -2.9591729640960693, 12.372584342956543, -2.194324016571045, 13.143109321594238, -0.4571996033191681, 12.877776145935059, 9.670415878295898, 10.63390064239502, -0.13389547169208527, 0.8702072501182556, -5.810460567474365, 11.121493339538574, 2.392268180847168, -6.134504795074463, -2.741358995437622, -11.894719123840332, 1.4860726594924927, -11.951922416687012, 1.7538902759552002, -10.184110641479492, -1.260046124458313, -8.631699562072754, -2.4983937740325928, 10.812999725341797, -16.631250381469727, -13.545761108398438, 3.6468167304992676, 0.02545582875609398, 13.263839721679688, 4.682569980621338, -8.505654335021973, 10.91671085357666, 7.591091156005859, -1.274946928024292, 11.557265281677246, -2.0381546020507812, 0.244136244058609, -8.23338508605957, 5.253884315490723, -1.6932728290557861, 1.5482879877090454, -5.180354595184326, -7.363443374633789, 10.501744270324707, -9.064756393432617, 7.5995097160339355, -3.7481279373168945, -7.00079870223999, 3.957446336746216, -2.3228940963745117, 10.60116195678711, 7.6660356521606445, -0.21694432199001312, 0.6865070462226868, 6.605010986328125, 8.842062950134277, -1.1650274991989136, 9.324621200561523, 10.735074996948242, 6.6524338722229, 3.965238094329834, 12.28991985321045, -2.6986138820648193, -5.894800186157227, 3.358006238937378, 4.695412635803223, -10.726789474487305, 7.8995361328125, -0.1693539172410965, 2.4859747886657715, 1.0920238494873047, 7.466334342956543, -3.327289581298828, -14.944014549255371, -10.050539016723633, 3.9247350692749023, -2.8225631713867188, -8.266153335571289, 2.8640353679656982, 0.4281904995441437, 9.857114791870117, -3.3315892219543457, 5.820742130279541, -1.5412180423736572, -3.028090238571167, 3.1202759742736816, -8.342347145080566, -11.443075180053711, -12.253458023071289, -2.0388903617858887, -4.208929061889648, 8.995684623718262, 4.780300617218018, 2.354280948638916, 15.53928279876709, 2.1632320880889893, -15.943696022033691, 1.1308817863464355, 1.6949704885482788, -12.527528762817383, -2.1895759105682373, -4.202184200286865, 0.5323010087013245, 7.009846210479736, -6.736271858215332, -13.738445281982422, 11.360610008239746, 12.262624740600586, 8.771659851074219, -0.3036540448665619, 2.394059181213379, 0.6821150779724121, -10.722818374633789, -10.477631568908691, 3.854275703430176, -2.8884456157684326, -0.3393002152442932, 6.398672103881836, 7.553160667419434, -12.670912742614746, 3.6946699619293213, -11.821059226989746, -6.421104431152344, -11.440226554870605, 8.051278114318848, 8.109925270080566, 5.174107074737549, -16.6337947845459, 3.468198776245117, -4.502252578735352, -4.843792915344238, 11.146571159362793, 2.329143524169922, 8.650025367736816, -4.794031620025635, 12.280673027038574, -8.985822677612305, -10.888800621032715, 0.2220897227525711, -14.366484642028809, 4.852103233337402, -6.368515968322754, -9.725135803222656, -0.3398420810699463, -7.062859058380127, -5.0311384201049805, -8.207554817199707, -17.915376663208008, 12.163652420043945, -2.706753730773926, 5.828676223754883, 11.382286071777344, 11.419723510742188, 6.663852214813232, 0.08260545879602432, 10.652962684631348, -12.618916511535645, -7.312320709228516, 6.246685028076172, 11.041041374206543, 10.469667434692383, 8.836846351623535, 13.932913780212402, -13.7286376953125, 9.516275405883789, 12.394183158874512, -0.49998289346694946, 11.131746292114258, -11.733538627624512, 5.05986213684082, -10.741305351257324, -11.253588676452637, -13.16502857208252, 4.494500637054443, -11.692268371582031, -8.471331596374512, 0.30688145756721497, -1.1924421787261963, 8.057016372680664, 9.744179725646973, 5.10310697555542, -2.056389808654785, -1.0105901956558228, 7.144583702087402, 1.308911681175232, -10.856497764587402, -3.1830365657806396, 10.784491539001465, 0.08955603837966919, -11.19896411895752, 1.1807223558425903, -5.221872806549072, 14.09818172454834, 5.520100116729736, -13.519067764282227, 4.730444431304932, 11.283390998840332, -16.474498748779297, 1.1679399013519287, -2.284547805786133, -2.2089669704437256, 4.506948947906494, 1.181642770767212, -10.133623123168945, 8.397859573364258, -6.815396785736084, 11.137968063354492, -1.5783480405807495, -4.23574161529541, 1.123703122138977, 0.2823117673397064, -10.980159759521484, 5.977710247039795, 3.513676881790161, 10.793437957763672, -1.8545894622802734, 7.086338996887207, 2.447277307510376, 13.21022891998291, 0.8174265623092651, 1.2329751253128052, 1.1366307735443115, 7.5450921058654785, -0.35967397689819336, 4.738461017608643, 7.430193901062012, -8.130709648132324, -10.025030136108398, -12.358428001403809, -2.7649621963500977, 4.415428638458252, 5.368358135223389, 6.974178314208984, 4.847630023956299, -2.244926691055298, 8.296778678894043, 1.8724678754806519, -7.980226993560791, -6.338235855102539, -4.660669326782227, 6.2395734786987305, -3.7205493450164795, -13.723594665527344, -6.330020904541016, -1.780107021331787, -7.590926647186279, -0.5139314532279968, 7.002364635467529, 1.9963761568069458, 6.453311443328857, 6.0058369636535645, 0.6987504959106445, 0.8650251626968384, -1.7874763011932373, -7.468125820159912, -0.781831681728363, -2.288045644760132, -2.3661279678344727, -12.629061698913574, -10.809659957885742, 1.2863705158233643, -4.799991130828857, 7.0260467529296875, 1.8087152242660522, -5.4334540367126465, -9.12192153930664, -1.0395288467407227, 8.352855682373047, -6.110321044921875, 4.277234077453613, -10.200257301330566, -2.483062505722046, 6.792255878448486, -8.541805267333984, 3.6504967212677, 7.815637588500977, 3.577064275741577, 5.599749565124512, 0.6661226749420166, -8.491423606872559, -3.1628103256225586, 0.34191760420799255, -0.0045225536450743675, -9.399642944335938, -1.0737215280532837, -1.6329392194747925, 5.782779216766357, -12.71752643585205, -6.9209394454956055, -13.444406509399414, 1.6043288707733154, 6.250901699066162, -0.335852712392807, -8.442522048950195, -1.0420247316360474, -8.666088104248047, -2.6910059452056885, -2.249943494796753, 5.149888515472412, 6.5598225593566895, -1.310402512550354, 3.8099472522735596, -2.220508098602295, -2.485625743865967, 3.9682462215423584, -9.261604309082031, 4.487250804901123, -9.046921730041504, 0.28257349133491516, 5.486738204956055, -5.450612545013428, -3.569401741027832, -2.1584713459014893, -0.7012867331504822, 0.13054272532463074, 8.398487091064453, 5.923191070556641, -2.892068386077881, 1.077484369277954, -8.29687213897705, 8.659600257873535, 0.32134464383125305, -8.560927391052246, 2.6863253116607666, 9.997796058654785, 6.835602283477783, -5.145020961761475, -6.80694580078125, 3.594332218170166, 6.732658386230469, -9.927912712097168, -7.4034647941589355, 0.3473926782608032, 1.8277629613876343, 3.361212730407715, -7.112137317657471, -2.726471185684204, -8.088761329650879, -5.156224250793457, 3.1952738761901855, 1.22901451587677, 11.3399076461792, -10.713911056518555, 12.717309951782227, 4.577106475830078, -4.266351699829102, 0.9892702102661133, -1.5557191371917725, -1.3116594552993774, -14.718706130981445, 0.5695682168006897, 1.386505126953125, 6.848491191864014, -8.488140106201172, 11.298933982849121, 7.345480442047119, -12.308526992797852, -8.170434951782227, -7.602352619171143, -8.874290466308594, 13.168120384216309, -2.562131643295288, 0.4412516951560974, -11.534998893737793, 5.802950859069824, -1.2892009019851685, -5.703917980194092, -6.309756278991699, 2.660623788833618, -12.807090759277344, 8.475120544433594, 11.083209991455078, 2.422729015350342, 13.323850631713867, -10.077498435974121, 8.663235664367676, 4.157108783721924, 5.1524739265441895, -12.638081550598145, -17.277881622314453, -1.6059635877609253, -8.200279235839844, -2.117936134338379, 10.866859436035156, 11.94830322265625, -6.623970031738281, 7.086567401885986, -8.559412956237793, 6.503699779510498, 13.339278221130371, 0.6855159401893616, 8.811637878417969, -9.970190048217773, -10.12310791015625, -2.291232109069824, 1.4121299982070923, 11.669790267944336, -0.6810099482536316, -10.06580924987793, -14.204977989196777, 3.6922383308410645, -8.472419738769531, 2.7091422080993652, -9.999173164367676, -2.6588351726531982, 13.230019569396973, -11.454666137695312, 5.715333461761475, 7.061834812164307, -13.957910537719727, 8.239885330200195, -0.2914898097515106, -11.326194763183594, 3.1222448348999023, -0.594635009765625, 8.187851905822754, -10.859521865844727, -8.985153198242188, -0.9077743291854858, -8.934391021728516, 3.221768379211426, -17.48919677734375, 11.334075927734375, 0.23120243847370148, 10.929421424865723, -4.133639812469482, -10.181187629699707, 6.362239837646484, -7.7975921630859375, 4.3608856201171875, 7.228302478790283, 11.349928855895996, 2.3230643272399902, -6.870328903198242, 5.938073635101318, 10.082300186157227, 2.4628024101257324, 6.13385534286499, 0.2101924866437912, -17.129247665405273, -6.28026819229126, -2.5292279720306396, 2.700639247894287, -10.608253479003906, 11.23779582977295, -1.9382327795028687, 0.2535920739173889, 4.197791576385498, 1.061566710472107, -4.125593185424805, 9.11896800994873, -14.8256254196167, 3.4321234226226807, 2.796954393386841, -4.0488481521606445, 10.489115715026855, -12.724781036376953, -10.45657730102539, 7.03865385055542, -16.25823974609375, 14.181975364685059, 12.335947036743164, 0.9695735573768616, 10.654485702514648, 5.427610397338867, 1.2288347482681274, 14.030913352966309, -5.456173896789551, 5.2920074462890625, -5.030600070953369, 7.806433200836182, -9.592227935791016, -4.562125205993652, 1.6093666553497314, 4.533920764923096, -2.8434958457946777, 1.5159331560134888, 10.42502212524414, 6.6641435623168945, 9.894654273986816, 2.655194044113159, 2.637308359146118, 3.421644687652588, 3.7497715950012207, -2.398738384246826, -7.064820766448975, 8.290992736816406, 11.997178077697754, -12.0639066696167, -12.862168312072754, -1.3253662586212158, -4.350185871124268, -10.291259765625, -2.663449764251709, -3.596656560897827, 8.59289836883545, -15.629082679748535, -8.235815048217773, 5.153960704803467, 1.191252589225769, 13.012779235839844, -11.02806282043457, 0.8557837605476379, -11.415899276733398, 6.224885940551758, 3.8463618755340576, -10.075117111206055, -9.141801834106445, -11.60360336303711, -0.37322762608528137, -12.907639503479004, 3.8735897541046143, -4.119842052459717, 0.8418498039245605, 5.025885581970215, 1.4380391836166382, 9.932825088500977, 11.256418228149414, -2.3320305347442627, 7.806840896606445, -4.023636817932129, 3.705533981323242, -0.5568177103996277, -8.927401542663574, 1.9801671504974365, -3.7174978256225586, -3.067518711090088, 8.938475608825684, -2.4644010066986084, 10.998193740844727, -4.575348854064941, -2.3348336219787598, -2.4271175861358643, -4.124515056610107, -8.085474967956543, -12.722074508666992, 4.479259490966797, 12.644831657409668, 2.6832103729248047, 0.07692139595746994, 3.7697501182556152, -10.503417015075684, -7.9467597007751465, 5.797399044036865, -13.939401626586914, -5.438827037811279, 6.8703999519348145, -2.457700729370117, 2.685511589050293, 6.57122278213501, 8.170337677001953, -15.619415283203125, -1.0259819030761719, -4.225292205810547, 1.6831954717636108, 5.2447638511657715, 0.05610252544283867, 12.847970008850098, -5.8299384117126465, 6.926690578460693, -3.6360936164855957, -3.365621328353882, 2.4873135089874268, -0.5671478509902954, 5.153080463409424, 3.4787325859069824, 0.7217870950698853, -0.4708300232887268, -14.019431114196777, -2.442676067352295, 1.579575538635254, -18.40635108947754, 1.857184886932373, 1.3674126863479614, 3.9991743564605713, 6.955101490020752, -10.066474914550781, 8.905158042907715, 3.661665201187134, 8.931340217590332, -9.72940444946289, 1.9631849527359009, 6.326999187469482, -9.80704402923584, -12.155000686645508, -9.667460441589355, -4.266764163970947, -6.734677314758301, 6.755874156951904, 4.357303619384766, -0.697780966758728, 0.038905028253793716, -0.2030177265405655, 9.726116180419922, 6.8063459396362305, 5.957594394683838, 1.0186874866485596, 3.4298486709594727, -3.175652503967285, 6.178340435028076, 4.056830406188965, 0.2857697010040283, 10.743914604187012, -3.489119529724121, 3.3128068447113037, 5.128592014312744, 13.032442092895508, -8.118692398071289, -1.9761594533920288, -1.0967096090316772, -7.210346698760986, 1.9383580684661865, -2.597301959991455, 6.0802531242370605, -4.023342132568359, -0.035225048661231995, -7.312752723693848, -5.351870059967041, -2.6331679821014404, -10.165346145629883, -6.767983913421631, -0.8299857378005981, 4.926716327667236, 11.685057640075684, 3.545891761779785, -3.2722792625427246, 2.9716696739196777, 1.9501333236694336, -14.727863311767578, 10.106769561767578, -12.206225395202637, -9.932602882385254, -7.357800006866455, -0.5232139825820923, -10.161739349365234, 4.002338409423828, -3.179452657699585, 5.701269626617432, -1.277956247329712, 1.2369517087936401, 7.386457920074463, 4.150886058807373, 11.121068000793457, 6.7876296043396, 13.1087007522583, -7.060398578643799, -14.035611152648926, 11.137369155883789, 8.990565299987793, 2.6445374488830566, 4.0777482986450195, 12.711028099060059, -9.979828834533691, -8.631708145141602, 9.608003616333008, 3.6737890243530273, 6.7017741203308105, -12.232636451721191, 4.2205810546875, -5.365644931793213, -0.8990595936775208, 7.9707136154174805, 5.18908166885376, 2.7014925479888916, 5.926777362823486, -6.00724983215332, 6.519266128540039, -0.7380772233009338, 0.3898235857486725, -14.080020904541016, 6.1471781730651855, -4.318784236907959, 0.7609705328941345, 3.9106698036193848, 2.4804511070251465, -1.3400105237960815, 11.36445426940918, -6.9305853843688965, -8.659273147583008, -7.709667682647705, 8.7428560256958, -1.0046049356460571, 2.094301700592041, -6.381066799163818, -10.686805725097656, 3.9694197177886963, -8.687743186950684, -8.747740745544434, 5.762731075286865, 3.8080363273620605, -7.91699743270874, 5.609530925750732, -1.0557482242584229, -8.639002799987793, 4.0132856369018555, 8.936978340148926, -15.256866455078125, 13.403617858886719, -5.839910984039307, 3.5453784465789795, 11.918758392333984, 3.304574966430664, 4.075325012207031, 6.462109565734863, 4.9603271484375, 9.517746925354004, 5.848459243774414, 12.132909774780273, 4.006436824798584, 2.6237332820892334, 0.8120461106300354, 6.406622886657715, -1.271837592124939, -10.885939598083496, -2.0568621158599854, 1.6561872959136963, -11.770052909851074, 2.4043033123016357, -4.619842529296875, 2.036271810531616, -11.161747932434082, 3.1093451976776123, 0.8568099737167358, 7.044719219207764, -12.253792762756348, 1.8916020393371582, 6.797708034515381, -13.94076156616211, -2.7107601165771484, -7.755398750305176, -18.73283576965332, 0.6189900636672974, -9.957670211791992, -13.942743301391602, 9.809001922607422, -7.226705551147461, 7.683990478515625, -6.620758056640625, 0.7933916449546814, 3.279726505279541, -12.91639232635498, -15.30644702911377, -8.856160163879395, 7.6525726318359375, -11.971813201904297, -12.302820205688477, -8.802787780761719, -19.63412857055664, -7.845686435699463, 1.0808697938919067, 7.900240421295166, 5.805301666259766, 11.641993522644043, -11.268901824951172, 2.1166892051696777, 0.7473668456077576, 9.723604202270508, -8.7124605178833, 6.802889823913574, -17.5905704498291, 9.458383560180664, 1.7527436017990112, 7.721861839294434, -11.614169120788574, 7.608026504516602, 3.6785736083984375, 13.633906364440918, -1.882902979850769, -1.434518575668335, 11.803030967712402, -18.886016845703125, -15.051839828491211, -11.263018608093262, 2.98185396194458, 8.686020851135254, -16.785173416137695, -12.023385047912598, 12.30371379852295, -5.768736362457275, -11.930278778076172, -1.6204793453216553, 4.332016468048096, 7.182006359100342, 11.22636604309082, -14.2192964553833, 10.270309448242188, -6.263407230377197, -15.724597930908203, -3.9514667987823486, 8.081013679504395, -4.16407585144043, -16.708467483520508, 4.463107585906982, 7.150818347930908, 0.6906726360321045, -11.501629829406738, 4.9402971267700195, -1.4757914543151855, 10.044881820678711, 1.3063480854034424, 6.373903274536133, -1.6666170358657837, 7.383561611175537, 5.779036045074463, 6.591677188873291, 5.645092964172363, -8.049857139587402, -8.802804946899414, -7.414282321929932, -8.809141159057617, 0.27056506276130676, 8.635209083557129, -2.0116770267486572, 2.0523648262023926, -2.1118404865264893, -4.713947772979736, -3.1144492626190186, -5.306607723236084, -3.474961280822754, 10.374136924743652, 5.000650882720947, 12.288293838500977, -0.19444069266319275, 2.493004322052002, 4.863922595977783, -4.716913223266602, 3.941854953765869, 6.98131799697876, -13.863759994506836, -12.859342575073242, -0.769175112247467, 3.175396203994751, -8.48782730102539, 2.065584897994995, -2.5820538997650146, -11.669418334960938, 0.8424367904663086, -2.554300308227539, 7.207516670227051, 2.6004323959350586, -11.987201690673828, -2.8465158939361572, 6.901213645935059, 9.08580207824707, -0.7380236983299255, 2.126598596572876, -13.340981483459473, 10.623355865478516, -2.8301124572753906, -3.5763652324676514, 7.842952728271484, -14.446823120117188, 9.376753807067871, -1.6045094728469849, -10.078925132751465, -4.263738632202148, -8.348482131958008, -10.069499969482422, -14.668660163879395, 12.959770202636719, 7.7595438957214355, -10.731451988220215, 1.5496500730514526, 9.09271240234375, 5.17918586730957, -15.860113143920898, 2.337848424911499, 1.9085216522216797, -4.881944179534912, 6.45885705947876, 2.3034467697143555, 9.319547653198242, -9.245856285095215, -16.42839241027832, -11.80495548248291, 4.950616836547852, 9.214402198791504, -15.762068748474121, -2.6475565433502197, 8.419251441955566, -3.4643354415893555, -4.850396156311035, 6.37656831741333, -16.080318450927734, 11.587669372558594, -14.700993537902832, -6.332202434539795, -3.2853939533233643, 9.859782218933105, -12.124996185302734, -3.7184739112854004, -5.98217248916626, 1.6838287115097046, 4.000821590423584, 6.570887565612793, 6.681678295135498, 7.743210315704346, -13.249377250671387, -0.844447135925293, -15.333622932434082, -1.7395540475845337, 3.3895480632781982, 8.94505500793457, 1.1844301223754883, -13.262617111206055, 6.305492401123047, -0.889121949672699, 9.53201961517334, 0.1764523684978485, 0.5452578663825989, -7.017250061035156, -11.272442817687988, -9.135522842407227, 8.268179893493652, 5.957422733306885, 6.590274810791016, 2.2920844554901123, 1.4077808856964111, 10.719433784484863, 5.429373741149902, 2.361516237258911, 2.436563491821289, 1.168300986289978, 12.498175621032715, -7.097591400146484, 2.656886339187622, 11.495528221130371, 3.017991542816162, 4.950227737426758, -9.454048156738281, 7.794858932495117, -9.63636589050293, -8.732437133789062, -13.740507125854492, -12.590927124023438, 4.319201946258545, 15.435051918029785, -17.160282135009766, 14.88918685913086, -18.232494354248047, -2.1037003993988037, 2.724733591079712, -2.829740047454834, 12.858221054077148, -2.175447702407837, 6.23806095123291, -17.866729736328125, 11.627059936523438, 1.1680591106414795, -3.652984380722046, 8.64509391784668, 8.556427955627441, -15.307794570922852, 12.599615097045898, 8.233654975891113, -2.9009222984313965, 3.650820255279541, -0.8270360827445984, 2.880524158477783, 8.820244789123535, 9.197898864746094, -19.305776596069336, -14.430036544799805, -19.676698684692383, 1.5059356689453125, -0.4518802762031555, 10.412871360778809, 9.509293556213379, 11.818449974060059, 7.745352268218994, 11.28248119354248, 6.859319686889648, 10.471814155578613]}],                        {\"coloraxis\": {\"colorbar\": {\"title\": {\"text\": \"color\"}}, \"colorscale\": [[0.0, \"#0d0887\"], [0.1111111111111111, \"#46039f\"], [0.2222222222222222, \"#7201a8\"], [0.3333333333333333, \"#9c179e\"], [0.4444444444444444, \"#bd3786\"], [0.5555555555555556, \"#d8576b\"], [0.6666666666666666, \"#ed7953\"], [0.7777777777777778, \"#fb9f3a\"], [0.8888888888888888, \"#fdca26\"], [1.0, \"#f0f921\"]]}, \"legend\": {\"tracegroupgap\": 0}, \"margin\": {\"t\": 60}, \"scene\": {\"domain\": {\"x\": [0.0, 1.0], \"y\": [0.0, 1.0]}, \"xaxis\": {\"title\": {\"text\": \"pc_1\"}}, \"yaxis\": {\"title\": {\"text\": \"pc_2\"}}, \"zaxis\": {\"title\": {\"text\": \"pc_3\"}}}, \"template\": {\"data\": {\"bar\": [{\"error_x\": {\"color\": \"#2a3f5f\"}, \"error_y\": {\"color\": \"#2a3f5f\"}, \"marker\": {\"line\": {\"color\": \"#E5ECF6\", \"width\": 0.5}}, \"type\": \"bar\"}], \"barpolar\": [{\"marker\": {\"line\": {\"color\": \"#E5ECF6\", \"width\": 0.5}}, \"type\": \"barpolar\"}], \"carpet\": [{\"aaxis\": {\"endlinecolor\": \"#2a3f5f\", \"gridcolor\": \"white\", \"linecolor\": \"white\", \"minorgridcolor\": \"white\", \"startlinecolor\": \"#2a3f5f\"}, \"baxis\": {\"endlinecolor\": \"#2a3f5f\", \"gridcolor\": \"white\", \"linecolor\": \"white\", \"minorgridcolor\": \"white\", \"startlinecolor\": \"#2a3f5f\"}, \"type\": \"carpet\"}], \"choropleth\": [{\"colorbar\": {\"outlinewidth\": 0, \"ticks\": \"\"}, \"type\": \"choropleth\"}], \"contour\": [{\"colorbar\": {\"outlinewidth\": 0, \"ticks\": \"\"}, \"colorscale\": [[0.0, \"#0d0887\"], [0.1111111111111111, \"#46039f\"], [0.2222222222222222, \"#7201a8\"], [0.3333333333333333, \"#9c179e\"], [0.4444444444444444, \"#bd3786\"], [0.5555555555555556, \"#d8576b\"], [0.6666666666666666, \"#ed7953\"], [0.7777777777777778, \"#fb9f3a\"], [0.8888888888888888, \"#fdca26\"], [1.0, \"#f0f921\"]], \"type\": \"contour\"}], \"contourcarpet\": [{\"colorbar\": {\"outlinewidth\": 0, \"ticks\": \"\"}, \"type\": \"contourcarpet\"}], \"heatmap\": [{\"colorbar\": {\"outlinewidth\": 0, \"ticks\": \"\"}, \"colorscale\": [[0.0, \"#0d0887\"], [0.1111111111111111, \"#46039f\"], [0.2222222222222222, \"#7201a8\"], [0.3333333333333333, \"#9c179e\"], [0.4444444444444444, \"#bd3786\"], [0.5555555555555556, \"#d8576b\"], [0.6666666666666666, \"#ed7953\"], [0.7777777777777778, \"#fb9f3a\"], [0.8888888888888888, \"#fdca26\"], [1.0, \"#f0f921\"]], \"type\": \"heatmap\"}], \"heatmapgl\": [{\"colorbar\": {\"outlinewidth\": 0, \"ticks\": \"\"}, \"colorscale\": [[0.0, \"#0d0887\"], [0.1111111111111111, \"#46039f\"], [0.2222222222222222, \"#7201a8\"], [0.3333333333333333, \"#9c179e\"], [0.4444444444444444, \"#bd3786\"], [0.5555555555555556, \"#d8576b\"], [0.6666666666666666, \"#ed7953\"], [0.7777777777777778, \"#fb9f3a\"], [0.8888888888888888, \"#fdca26\"], [1.0, \"#f0f921\"]], \"type\": \"heatmapgl\"}], \"histogram\": [{\"marker\": {\"colorbar\": {\"outlinewidth\": 0, \"ticks\": \"\"}}, \"type\": \"histogram\"}], \"histogram2d\": [{\"colorbar\": {\"outlinewidth\": 0, \"ticks\": \"\"}, \"colorscale\": [[0.0, \"#0d0887\"], [0.1111111111111111, \"#46039f\"], [0.2222222222222222, \"#7201a8\"], [0.3333333333333333, \"#9c179e\"], [0.4444444444444444, \"#bd3786\"], [0.5555555555555556, \"#d8576b\"], [0.6666666666666666, \"#ed7953\"], [0.7777777777777778, \"#fb9f3a\"], [0.8888888888888888, \"#fdca26\"], [1.0, \"#f0f921\"]], \"type\": \"histogram2d\"}], \"histogram2dcontour\": [{\"colorbar\": {\"outlinewidth\": 0, \"ticks\": \"\"}, \"colorscale\": [[0.0, \"#0d0887\"], [0.1111111111111111, \"#46039f\"], [0.2222222222222222, \"#7201a8\"], [0.3333333333333333, \"#9c179e\"], [0.4444444444444444, \"#bd3786\"], [0.5555555555555556, \"#d8576b\"], [0.6666666666666666, \"#ed7953\"], [0.7777777777777778, \"#fb9f3a\"], [0.8888888888888888, \"#fdca26\"], [1.0, \"#f0f921\"]], \"type\": \"histogram2dcontour\"}], \"mesh3d\": [{\"colorbar\": {\"outlinewidth\": 0, \"ticks\": \"\"}, \"type\": \"mesh3d\"}], \"parcoords\": [{\"line\": {\"colorbar\": {\"outlinewidth\": 0, \"ticks\": \"\"}}, \"type\": \"parcoords\"}], \"pie\": [{\"automargin\": true, \"type\": \"pie\"}], \"scatter\": [{\"marker\": {\"colorbar\": {\"outlinewidth\": 0, \"ticks\": \"\"}}, \"type\": \"scatter\"}], \"scatter3d\": [{\"line\": {\"colorbar\": {\"outlinewidth\": 0, \"ticks\": \"\"}}, \"marker\": {\"colorbar\": {\"outlinewidth\": 0, \"ticks\": \"\"}}, \"type\": \"scatter3d\"}], \"scattercarpet\": [{\"marker\": {\"colorbar\": {\"outlinewidth\": 0, \"ticks\": \"\"}}, \"type\": \"scattercarpet\"}], \"scattergeo\": [{\"marker\": {\"colorbar\": {\"outlinewidth\": 0, \"ticks\": \"\"}}, \"type\": \"scattergeo\"}], \"scattergl\": [{\"marker\": {\"colorbar\": {\"outlinewidth\": 0, \"ticks\": \"\"}}, \"type\": \"scattergl\"}], \"scattermapbox\": [{\"marker\": {\"colorbar\": {\"outlinewidth\": 0, \"ticks\": \"\"}}, \"type\": \"scattermapbox\"}], \"scatterpolar\": [{\"marker\": {\"colorbar\": {\"outlinewidth\": 0, \"ticks\": \"\"}}, \"type\": \"scatterpolar\"}], \"scatterpolargl\": [{\"marker\": {\"colorbar\": {\"outlinewidth\": 0, \"ticks\": \"\"}}, \"type\": \"scatterpolargl\"}], \"scatterternary\": [{\"marker\": {\"colorbar\": {\"outlinewidth\": 0, \"ticks\": \"\"}}, \"type\": \"scatterternary\"}], \"surface\": [{\"colorbar\": {\"outlinewidth\": 0, \"ticks\": \"\"}, \"colorscale\": [[0.0, \"#0d0887\"], [0.1111111111111111, \"#46039f\"], [0.2222222222222222, \"#7201a8\"], [0.3333333333333333, \"#9c179e\"], [0.4444444444444444, \"#bd3786\"], [0.5555555555555556, \"#d8576b\"], [0.6666666666666666, \"#ed7953\"], [0.7777777777777778, \"#fb9f3a\"], [0.8888888888888888, \"#fdca26\"], [1.0, \"#f0f921\"]], \"type\": \"surface\"}], \"table\": [{\"cells\": {\"fill\": {\"color\": \"#EBF0F8\"}, \"line\": {\"color\": \"white\"}}, \"header\": {\"fill\": {\"color\": \"#C8D4E3\"}, \"line\": {\"color\": \"white\"}}, \"type\": \"table\"}]}, \"layout\": {\"annotationdefaults\": {\"arrowcolor\": \"#2a3f5f\", \"arrowhead\": 0, \"arrowwidth\": 1}, \"coloraxis\": {\"colorbar\": {\"outlinewidth\": 0, \"ticks\": \"\"}}, \"colorscale\": {\"diverging\": [[0, \"#8e0152\"], [0.1, \"#c51b7d\"], [0.2, \"#de77ae\"], [0.3, \"#f1b6da\"], [0.4, \"#fde0ef\"], [0.5, \"#f7f7f7\"], [0.6, \"#e6f5d0\"], [0.7, \"#b8e186\"], [0.8, \"#7fbc41\"], [0.9, \"#4d9221\"], [1, \"#276419\"]], \"sequential\": [[0.0, \"#0d0887\"], [0.1111111111111111, \"#46039f\"], [0.2222222222222222, \"#7201a8\"], [0.3333333333333333, \"#9c179e\"], [0.4444444444444444, \"#bd3786\"], [0.5555555555555556, \"#d8576b\"], [0.6666666666666666, \"#ed7953\"], [0.7777777777777778, \"#fb9f3a\"], [0.8888888888888888, \"#fdca26\"], [1.0, \"#f0f921\"]], \"sequentialminus\": [[0.0, \"#0d0887\"], [0.1111111111111111, \"#46039f\"], [0.2222222222222222, \"#7201a8\"], [0.3333333333333333, \"#9c179e\"], [0.4444444444444444, \"#bd3786\"], [0.5555555555555556, \"#d8576b\"], [0.6666666666666666, \"#ed7953\"], [0.7777777777777778, \"#fb9f3a\"], [0.8888888888888888, \"#fdca26\"], [1.0, \"#f0f921\"]]}, \"colorway\": [\"#636efa\", \"#EF553B\", \"#00cc96\", \"#ab63fa\", \"#FFA15A\", \"#19d3f3\", \"#FF6692\", \"#B6E880\", \"#FF97FF\", \"#FECB52\"], \"font\": {\"color\": \"#2a3f5f\"}, \"geo\": {\"bgcolor\": \"white\", \"lakecolor\": \"white\", \"landcolor\": \"#E5ECF6\", \"showlakes\": true, \"showland\": true, \"subunitcolor\": \"white\"}, \"hoverlabel\": {\"align\": \"left\"}, \"hovermode\": \"closest\", \"mapbox\": {\"style\": \"light\"}, \"paper_bgcolor\": \"white\", \"plot_bgcolor\": \"#E5ECF6\", \"polar\": {\"angularaxis\": {\"gridcolor\": \"white\", \"linecolor\": \"white\", \"ticks\": \"\"}, \"bgcolor\": \"#E5ECF6\", \"radialaxis\": {\"gridcolor\": \"white\", \"linecolor\": \"white\", \"ticks\": \"\"}}, \"scene\": {\"xaxis\": {\"backgroundcolor\": \"#E5ECF6\", \"gridcolor\": \"white\", \"gridwidth\": 2, \"linecolor\": \"white\", \"showbackground\": true, \"ticks\": \"\", \"zerolinecolor\": \"white\"}, \"yaxis\": {\"backgroundcolor\": \"#E5ECF6\", \"gridcolor\": \"white\", \"gridwidth\": 2, \"linecolor\": \"white\", \"showbackground\": true, \"ticks\": \"\", \"zerolinecolor\": \"white\"}, \"zaxis\": {\"backgroundcolor\": \"#E5ECF6\", \"gridcolor\": \"white\", \"gridwidth\": 2, \"linecolor\": \"white\", \"showbackground\": true, \"ticks\": \"\", \"zerolinecolor\": \"white\"}}, \"shapedefaults\": {\"line\": {\"color\": \"#2a3f5f\"}}, \"ternary\": {\"aaxis\": {\"gridcolor\": \"white\", \"linecolor\": \"white\", \"ticks\": \"\"}, \"baxis\": {\"gridcolor\": \"white\", \"linecolor\": \"white\", \"ticks\": \"\"}, \"bgcolor\": \"#E5ECF6\", \"caxis\": {\"gridcolor\": \"white\", \"linecolor\": \"white\", \"ticks\": \"\"}}, \"title\": {\"x\": 0.05}, \"xaxis\": {\"automargin\": true, \"gridcolor\": \"white\", \"linecolor\": \"white\", \"ticks\": \"\", \"title\": {\"standoff\": 15}, \"zerolinecolor\": \"white\", \"zerolinewidth\": 2}, \"yaxis\": {\"automargin\": true, \"gridcolor\": \"white\", \"linecolor\": \"white\", \"ticks\": \"\", \"title\": {\"standoff\": 15}, \"zerolinecolor\": \"white\", \"zerolinewidth\": 2}}}},                        {\"responsive\": true}                    ).then(function(){\n",
       "                            \n",
       "var gd = document.getElementById('2af6ea1c-7347-45f5-9c50-4618903d96be');\n",
       "var x = new MutationObserver(function (mutations, observer) {{\n",
       "        var display = window.getComputedStyle(gd).display;\n",
       "        if (!display || display === 'none') {{\n",
       "            console.log([gd, 'removed!']);\n",
       "            Plotly.purge(gd);\n",
       "            observer.disconnect();\n",
       "        }}\n",
       "}});\n",
       "\n",
       "// Listen for the removal of the full notebook cells\n",
       "var notebookContainer = gd.closest('#notebook-container');\n",
       "if (notebookContainer) {{\n",
       "    x.observe(notebookContainer, {childList: true});\n",
       "}}\n",
       "\n",
       "// Listen for the clearing of the current output cell\n",
       "var outputEl = gd.closest('.output');\n",
       "if (outputEl) {{\n",
       "    x.observe(outputEl, {childList: true});\n",
       "}}\n",
       "\n",
       "                        })                };                });            </script>        </div>"
      ]
     },
     "metadata": {},
     "output_type": "display_data"
    }
   ],
   "source": [
    "from sklearn.cluster import DBSCAN\n",
    "import plotly.express as px\n",
    "\n",
    "# NOTE: low eps, high min_samples -> search for higher density clusters\n",
    "clustering = DBSCAN(eps=3, min_samples=30, n_jobs=-1, metric='l2')\n",
    "\n",
    "clusters = clustering.fit_predict(val_question_proj)\n",
    "n_clusters = len(np.unique(clusters))\n",
    "print('{} clusters found'.format(n_clusters))\n",
    "\n",
    "\n",
    "df = pd.DataFrame(val_question_proj, columns=['pc_1', 'pc_2', 'pc_3'])\n",
    "df = pd.concat([df, knn_df['question']], axis=1)\n",
    "fig = px.scatter_3d(df, x='pc_1', y='pc_2', z='pc_3', color=clusters, hover_data=['question'])\n",
    "fig.update_traces(marker_size=3)\n",
    "fig.show()"
   ]
  },
  {
   "cell_type": "markdown",
   "metadata": {},
   "source": [
    "### Notes:\n",
    "\n",
    "1. From [When is \"Nearest Neighbor\" Meaningful?](https://members.loria.fr/MOBerger/Enseignement/Master2/Exposes/beyer.pdf) - \"Another possible scenario where high dimensional nearest neighbor queries are meaningful occurs when the underlying dimensionality of the data is much lower than the actual dimensionality.\"\n",
    "\n",
    "    - Can we perform nearest neighbor calculations better if we enforce a sparsity constraint on the learned embeddings?\n",
    "    \n",
    "2. "
   ]
  },
  {
   "cell_type": "code",
   "execution_count": null,
   "metadata": {},
   "outputs": [],
   "source": []
  }
 ],
 "metadata": {
  "kernelspec": {
   "display_name": "Python 3",
   "language": "python",
   "name": "python3"
  },
  "language_info": {
   "codemirror_mode": {
    "name": "ipython",
    "version": 3
   },
   "file_extension": ".py",
   "mimetype": "text/x-python",
   "name": "python",
   "nbconvert_exporter": "python",
   "pygments_lexer": "ipython3",
   "version": "3.8.3"
  }
 },
 "nbformat": 4,
 "nbformat_minor": 4
}
