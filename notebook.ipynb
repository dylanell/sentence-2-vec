{
 "cells": [
  {
   "cell_type": "markdown",
   "metadata": {},
   "source": [
    "# Learning Sentence Representations from Question-Answer Pairs\n",
    "\n",
    "In this project, we explore methods to learn fixed length vector representations for variable lengthed \"short\" sentences (on the order of at most around 50 words) of text data. These \"short\" sentences are questions scraped from an online forum like answers.com, and each sample is accompanied by the top response (answer) corresponding to each question. We use question-answer data scraped from an online forum because the \"label\" (answer) for each training sample (question) is free. We use quotes around the word \"label\" because these labels are more like \"soft labels\" since they are responses taken verbatim from the general public. Our goal is to use these labels in order to learn sentence representations from within a specific topic domain (like \"diabetes\")."
   ]
  },
  {
   "cell_type": "markdown",
   "metadata": {},
   "source": [
    "### Text-based Representation Learning\n",
    "\n",
    "The application of understanding user questions might be the starting point if you are attempting to build a chatbot to automatically handle customer queries. As an initial step, you might want to cluster queries into different high-level feature categories, requiring a numerical learned feature representation of consistent dimensionality for all queries. A fully supervised approach could potentially work for this, where a model is trained to output the correct answer given a quesion, but would most likely require a lot of data and some clever model design and depend too heavily on the answer \"labels\" which may sometimes be donwright wrong. On the other hand, this could be attempted in an entirely unsupervised manner, perhaps by learning to unscramble augmented question strings or impute missing words. Unsupervised methods may learn to bias too heavily towards unexpected features (like individual words or low-level grammatical logic), and still, we have useful information nonetheless in the answers, so why not try to use this. The method we choose here involves using comparison-based learning samples (between questions and answers) in order to directly learn a feature representation for text-based inputs. Specifically, by constructing \"positive\" question-answer pairs, where the paired answer is the \"correct\" answer, and \"negative\" question-answer pairs, where the paired answer is the \"incorrect\" answer, we can train a model to simply discriminate between these two pairs. Usually this is done by satisfying some criterion based on a distance/similarity measurement in a learned, fixed-dimensionality feature space, requiring that samples from a \"positive\" pair be mapped closer together (on average) than samples form a \"negative\" pair. Here, we explore the learned features for some of these comparison-based representation learning models, including the [Triplet Network](https://arxiv.org/pdf/1412.6622.pdf) and the [Siamese Network](https://papers.nips.cc/paper/1993/file/288cc0ff022877bd3df94bc9360b9c5d-Paper.pdf). "
   ]
  },
  {
   "cell_type": "markdown",
   "metadata": {},
   "source": [
    "### Training the Models"
   ]
  },
  {
   "cell_type": "markdown",
   "metadata": {},
   "source": [
    "### Exploring Learned Representations"
   ]
  },
  {
   "cell_type": "markdown",
   "metadata": {},
   "source": [
    "#### 1. Setup\n",
    "\n",
    "Import packages and load learned feature representation data files."
   ]
  },
  {
   "cell_type": "code",
   "execution_count": 1,
   "metadata": {},
   "outputs": [],
   "source": [
    "import torch\n",
    "import pandas as pd\n",
    "import numpy as np\n",
    "\n",
    "data_dir = '/home/dylan/trained_model_files/pytorch/sentence2vec/'\n",
    "out_dir = '/tmp/'\n",
    "\n",
    "# load validation question and answer token lists\n",
    "with open('{}margin_val_question_tok.txt'.format(data_dir), 'r') as fp:\n",
    "    val_question_tok = [line.strip('\\n') for line in fp]\n",
    "with open('{}margin_val_answer_tok.txt'.format(data_dir), 'r') as fp:\n",
    "    val_answer_tok = [line.strip('\\n') for line in fp]\n",
    "    \n",
    "# load validation question and answer vectors\n",
    "val_question_vec = torch.tensor(np.genfromtxt(\n",
    "    '{}margin_val_question_vec.txt'.format(data_dir), delimiter=','))\n",
    "val_answer_vec = torch.tensor(np.genfromtxt(\n",
    "    '{}margin_val_answer_vec.txt'.format(data_dir), delimiter=','))"
   ]
  },
  {
   "cell_type": "markdown",
   "metadata": {},
   "source": [
    "#### 2. K-nearest Neighbors\n",
    "\n",
    "For each question in the validation set, compute the k-nearest neighbors ($k=3$) within the learned feature space and write these neighbors, along with the original question, to a csv file. "
   ]
  },
  {
   "cell_type": "code",
   "execution_count": 2,
   "metadata": {},
   "outputs": [],
   "source": [
    "# k nearest neighbors dataframe\n",
    "knn_df = pd.DataFrame(columns=['question', 'neighbor_1', 'neighbor_2', 'neighbor_3'])\n",
    "\n",
    "# iterate through question sample texts\n",
    "for i, sample in enumerate(val_question_tok):\n",
    "    # create a stacked array of the anchor question\n",
    "    vec = val_question_vec[i].unsqueeze(0).repeat(len(val_question_vec)-1, 1)\n",
    "    \n",
    "    # compute pairwise cosine similarity b/w anchor question and every other question\n",
    "    dists = torch.nn.functional.cosine_similarity(\n",
    "        vec, torch.cat([val_question_vec[:i], val_question_vec[i+1:]]), dim=1)\n",
    "    knns = torch.argsort(dists, descending=True)[:4].long()\n",
    "    \n",
    "    # compute euclidiean pairwise dist b/w anchor question and every other question\n",
    "    #dists = torch.nn.functional.pairwise_distance(\n",
    "    #    vec, torch.cat([val_question_vec[:i], val_question_vec[i+1:]]), p=2)\n",
    "    #knns = torch.argsort(dists, descending=False)[:4].long()\n",
    "    \n",
    "    knn_df = knn_df.append({\n",
    "        'question': sample,\n",
    "        'neighbor_1': val_question_tok[knns[0].item()],\n",
    "        'neighbor_2': val_question_tok[knns[1].item()],\n",
    "        'neighbor_3': val_question_tok[knns[2].item()],\n",
    "    }, ignore_index=True)\n",
    "    \n",
    "# save question neighbors\n",
    "knn_df.to_csv('{}question_knns.csv'.format(out_dir), index=False)"
   ]
  },
  {
   "cell_type": "code",
   "execution_count": 3,
   "metadata": {},
   "outputs": [
    {
     "name": "stdout",
     "output_type": "stream",
     "text": [
      "question                           what is insulin resistance ?\n",
      "neighbor_1          what fruits should i eat if i am diabetic ?\n",
      "neighbor_2    diabetes is the result of a disturbance in the...\n",
      "neighbor_3    what hormone secretion abnormality causes diab...\n",
      "Name: 1064, dtype: object\n",
      "\n",
      "question                                       diabetes diets ?\n",
      "neighbor_1                                diabetes guidelines ?\n",
      "neighbor_2    how fast will thirty one grams of carbs in a b...\n",
      "neighbor_3        what organ is affected by diabetes mellitus ?\n",
      "Name: 1419, dtype: object\n",
      "\n",
      "question      are there any good diabetic carrot cake recipes ?\n",
      "neighbor_1    are there any <unk> recipes specifically for d...\n",
      "neighbor_2    can i use sugar substitutes to make diabetic r...\n",
      "neighbor_3    what is one important dietary step to help tre...\n",
      "Name: 2076, dtype: object\n",
      "\n",
      "question      does diabetic neuropathy treatment have any ri...\n",
      "neighbor_1                     what are synonyms of adherence ?\n",
      "neighbor_2                  can type two diabetes be reversed ?\n",
      "neighbor_3             what type of wine is best for diabetes ?\n",
      "Name: 435, dtype: object\n",
      "\n",
      "question               who has diabetes in the jonas brothers ?\n",
      "neighbor_1           what major organ is involved in diabetes ?\n",
      "neighbor_2                               name of dog diabetes ?\n",
      "neighbor_3    what body organ is not working correctly with ...\n",
      "Name: 2504, dtype: object\n",
      "\n",
      "question      how does diabetes affect your blood sugar leve...\n",
      "neighbor_1                 is the diabetes mellitus inherited ?\n",
      "neighbor_2               does <unk> have a diabetic diet menu ?\n",
      "neighbor_3                 how does diabetes effect pregnancy ?\n",
      "Name: 391, dtype: object\n",
      "\n",
      "question      can you get diabetes after kissing a <unk> tha...\n",
      "neighbor_1    can you have diabetes and work for the post of...\n",
      "neighbor_2         can a diabetes person live to seventy year ?\n",
      "neighbor_3    is it possible for you to have diabetes if no ...\n",
      "Name: 2570, dtype: object\n",
      "\n",
      "question                         does fruit raise blood sugar ?\n",
      "neighbor_1                  what will eating regular meals do ?\n",
      "neighbor_2    why is it dangerous if glucose level is too hi...\n",
      "neighbor_3                        does ham effect blood sugar ?\n",
      "Name: 1812, dtype: object\n",
      "\n",
      "question                       what herb reduces blood sugars ?\n",
      "neighbor_1      what is home remedies for blood sugar patient ?\n",
      "neighbor_2    who is <unk> <unk> that was born in one thousa...\n",
      "neighbor_3       what is release when blood sugar levels fall ?\n",
      "Name: 1734, dtype: object\n",
      "\n",
      "question        how does type two diabetes affect your health ?\n",
      "neighbor_1                            how does diabetes cause ?\n",
      "neighbor_2    you just found out you are pregnant you have a...\n",
      "neighbor_3            is diabetes dominant or recessive trait ?\n",
      "Name: 2476, dtype: object\n",
      "\n"
     ]
    }
   ],
   "source": [
    "for i in range(10):\n",
    "    print(knn_df.iloc[np.random.randint(len(knn_df))])\n",
    "    print('')"
   ]
  },
  {
   "cell_type": "markdown",
   "metadata": {},
   "source": [
    "#### 3. Clustering\n",
    "\n",
    "Perform DBSCAN clustering on question representations from the validation set."
   ]
  },
  {
   "cell_type": "code",
   "execution_count": 4,
   "metadata": {},
   "outputs": [],
   "source": [
    "from sklearn.manifold import TSNE\n",
    "\n",
    "tsne = TSNE(n_components=3, metric='cosine')\n",
    "val_question_proj = tsne.fit_transform(val_question_vec)"
   ]
  },
  {
   "cell_type": "code",
   "execution_count": 16,
   "metadata": {},
   "outputs": [
    {
     "name": "stdout",
     "output_type": "stream",
     "text": [
      "24 clusters found\n"
     ]
    },
    {
     "data": {
      "application/vnd.plotly.v1+json": {
       "config": {
        "plotlyServerURL": "https://plot.ly"
       },
       "data": [
        {
         "customdata": [
          [
           "survival rate on diabetes ?"
          ],
          [
           "why is diabetes a serious health issue ?"
          ],
          [
           "can diabetes cause nausea ?"
          ],
          [
           "can high glucose levels cause tiredness ?"
          ],
          [
           "what major organ is involved in diabetes ?"
          ],
          [
           "what is <unk> of u-100 insulin equal to ?"
          ],
          [
           "where can i find a yoga <unk> in south florida ?"
          ],
          [
           "is it bad for diabetics to eat rice ?"
          ],
          [
           "what happens if you have diabetes and you begin to self hurt ?"
          ],
          [
           "what will most likely result if a diabetic injects an overdose of insulin ?"
          ],
          [
           "why is <unk> not possible for diseases such as diabetes ?"
          ],
          [
           "is type diabetes when you cant have sugar ?"
          ],
          [
           "how has advanced technology helped type one diabetes ?"
          ],
          [
           "how much sugar will kill you ?"
          ],
          [
           "what are the release dates for <unk> <unk> is diabetes ad - two thousand and twelve ?"
          ],
          [
           "can diabetics be in <unk> ?"
          ],
          [
           "how you maintain blood sugar level if you have diabetes problem ?"
          ],
          [
           "what is the most common medicine for diabetes ?"
          ],
          [
           "can you get rid of type two diabetes ?"
          ],
          [
           "what is know as damage to the retina of the eye caused by diabetes mellitus ?"
          ],
          [
           "how many units of insulin can be drawn from a <unk> vial ?"
          ],
          [
           "the average blood sugar over the past three weeks is measured by what test ?"
          ],
          [
           "how much land mass would five billion cows take ?"
          ],
          [
           "how does type one diabetes go away ?"
          ],
          [
           "can diabetes stop you from being certified from <unk> a truck ?"
          ],
          [
           "what happens to you if you get diabetes ?"
          ],
          [
           "what type of diabetes has <unk> onset usually seen in adults over forty years of age ?"
          ],
          [
           "do <unk> help regulate the responses of hormones ?"
          ],
          [
           "can diabetes mellitus cause health problems ?"
          ],
          [
           "why is type ii diabetes considered to be a <unk> form of diabetes ?"
          ],
          [
           "what are the two types of diabetes ?"
          ],
          [
           "why must insulin be taken as an injection ?"
          ],
          [
           "what happens when a diabetic takes a <unk> ?"
          ],
          [
           "why diabetic patient prefer to use <unk> insulin than human insulin ?"
          ],
          [
           "what system manages glucose levels ?"
          ],
          [
           "can diabetics use this product ?"
          ],
          [
           "what are some of the most obvious high blood sugar symptoms ?"
          ],
          [
           "what considerations must be weighed when a type i diabetes patient is considering pancreas transplantation ?"
          ],
          [
           "hormone responsible for diabetes ?"
          ],
          [
           "what parts of the body are affected by diabetes ?"
          ],
          [
           "do cranberries help diabetes ?"
          ],
          [
           "how long should you test your blood before you take the results to the doctor to help <unk> her that she should test you ?"
          ],
          [
           "who is more at risk of developing diabetic foot infections ?"
          ],
          [
           "what sugars are in bananas ?"
          ],
          [
           "communicate with the school nurse ?"
          ],
          [
           "cost of diabetic supplies - testing strips ?"
          ],
          [
           "how much exercise is needed for diabetic ?"
          ],
          [
           "are diabetes and glaucoma hereditary diseases ?"
          ],
          [
           "what are some good recipes for a diabetic <unk> ?"
          ],
          [
           "what is the code for diabetic peripheral neuropathy ?"
          ],
          [
           "what is the scientific name for the bacteria that causes diabetes ?"
          ],
          [
           "do diabetics have fits ?"
          ],
          [
           "to what degree will lifestyle changes reduce the risk of diabetes associated with insulin resistance ?"
          ],
          [
           "which fiber should be recommended to patients with type two diabetes ?"
          ],
          [
           "what is a good diet for a diabetic ?"
          ],
          [
           "what day did nick jonas <unk> his diabetes ?"
          ],
          [
           "what is the most common type of diabetes ?"
          ],
          [
           "what is the target a1c according to the american diabetes association ?"
          ],
          [
           "can you drink protein shake like monster milk with type two diabetes ?"
          ],
          [
           "what is post prandial ?"
          ],
          [
           "how soon after eating will blood sugar cause headache ?"
          ],
          [
           "is sugar in toothpaste a danger for diabetics ?"
          ],
          [
           "can people with type two diabetes drive a truck in <unk> ?"
          ],
          [
           "can i protect myself from diabetes ?"
          ],
          [
           "how to manage type two diabetes ?"
          ],
          [
           "is there a cure for juvenile diabetes ?"
          ],
          [
           "should you go to the er if diabetes is three hundred and forty four ?"
          ],
          [
           "why is there no cure for type one diabetes ?"
          ],
          [
           "diabetic friendly foods ?"
          ],
          [
           "why diabete insulin can not made a pill same as diabete ?"
          ],
          [
           "what symptoms show signs of diabetes ?"
          ],
          [
           "is an a1c of six point six high in a diabetic ?"
          ],
          [
           "what are some names of some diabetic cook books ?"
          ],
          [
           "what hormone involved in diabetes insipidus ?"
          ],
          [
           "what tells the body how much sugar should be in the <unk> ?"
          ],
          [
           "whats the symptoms of <unk> diabetes ?"
          ],
          [
           "what kinds of treatment are there for diabetic eye problems ?"
          ],
          [
           "what is diabetes insipidus and diabetes mellitus ?"
          ],
          [
           "why is there an increased risk of toxicity in later stages of renal failure ?"
          ],
          [
           "is diabetes reversable ?"
          ],
          [
           "what are examples of some diabetic diet meal plan ?"
          ],
          [
           "what is the disease for high blood sugar ?"
          ],
          [
           "do you need help with your diabetes ?"
          ],
          [
           "why does diabetes cause sweet smelling urine ?"
          ],
          [
           "how does glucagon and insulin help maintain normal glucose level ?"
          ],
          [
           "why would a diabetic person loose their toes ?"
          ],
          [
           "what or who cured diabetes ?"
          ],
          [
           "can a diabetic get a piercing ?"
          ],
          [
           "how does diabetes effect pregnancy ?"
          ],
          [
           "what are some restaurants that offer a variety of options of diabetes friendly meals ?"
          ],
          [
           "is type two diabetes a chronic disease ?"
          ],
          [
           "potassium levels in the body are regulated by what ?"
          ],
          [
           "in which breed or type of dog does diabetes insipidus occur most often ?"
          ],
          [
           "can you eat spinach if you are diabetic ?"
          ],
          [
           "what tests results indicate <unk> ?"
          ],
          [
           "what are diabetes early signs ?"
          ],
          [
           "how do you check blood sugar levels ?"
          ],
          [
           "how does diabetes make your bodies sick ?"
          ],
          [
           "can you be <unk> from diabetes ?"
          ],
          [
           "what to prevent diabetes two ?"
          ],
          [
           "your father is fifty years old and he has been drinking alcohol since twenty three years on regular basis . now a days he is drinking in <unk> he is a heart patient and diabetic <unk> help you on this ?"
          ],
          [
           "<unk> blood sugar levels effect weight loss ?"
          ],
          [
           "does diabetes show in drug tests ?"
          ],
          [
           "can diabetics eat <unk> ?"
          ],
          [
           "what are some recipes for diabetics ?"
          ],
          [
           "is there a doctor that specializes in diabetes ?"
          ],
          [
           "what is the best medicine to <unk> the blood sugar for diabetes ?"
          ],
          [
           "what life style choices would make people susceptible to this virus of diabetes ?"
          ],
          [
           "why wheat is better than rice in diabetes ?"
          ],
          [
           "how many grams of sugar are recommended per day for type two diabetics ?"
          ],
          [
           "what are two main types of diabetes ?"
          ],
          [
           "what are the best diabetic diets ?"
          ],
          [
           "this condition is characterized by insulin resistance of the fat cells ?"
          ],
          [
           "are there any treatments to diabetes ?"
          ],
          [
           "where can i find more information on diets for diabetes ?"
          ],
          [
           "which condition is the most nutrition <unk> ?"
          ],
          [
           "can a man with diabetic father a child with diabetic ?"
          ],
          [
           "how many people die from diabetes each year in canada ?"
          ],
          [
           "do not <unk> your blood sugar ! ?"
          ],
          [
           "i am not a diabetic , last dr visit glucose was one hundred and eighteen , is this normal i have cut back on carbs , will this help my glucose ?"
          ],
          [
           "is <unk> injection safe for diabetic patients ?"
          ],
          [
           "how common is diabetic neuropathy ?"
          ],
          [
           "diabetes chart ?"
          ],
          [
           "what herbs are good for diabetes ?"
          ],
          [
           "how many forms of diabetes exist ?"
          ],
          [
           "how many needles does a diabetic take a year ?"
          ],
          [
           "where can i find recipes for people with high blood sugar during pregnancy ?"
          ],
          [
           "what is the <unk> for a family history of diabetes ?"
          ],
          [
           "if you are unsure if someone has low or high blood sugar levels what should you do ?"
          ],
          [
           "you accidentally had one seroquel not sure what mg with a beer and it made you black out what permanent or long term affects will this one pill have on your body ?"
          ],
          [
           "how do you know that your dog is a diabetes ?"
          ],
          [
           "how is insulin <unk> ?"
          ],
          [
           "can a diabetic do a <unk> tattoo ?"
          ],
          [
           "why do you have to keep the blood glucose level within the normal cycle ?"
          ],
          [
           "long term side affects of diabetes ?"
          ],
          [
           "where can i find advice on free diabetic diet plan ?"
          ],
          [
           "what is the purpose of the american diabetes association ?"
          ],
          [
           "what hormone increases blood glucose ?"
          ],
          [
           "is it normal to have high levels of sugar in your blood ?"
          ],
          [
           "what happens to people that eat to much sugar ?"
          ],
          [
           "what would happen to the blood sugar level of a diabetic who <unk> to inject insulin ?"
          ],
          [
           "what is the normal postprandial blood glucose for a human ?"
          ],
          [
           "how do you calibrate a true track glucometer ?"
          ],
          [
           "what to eat when your blood sugar level is low ?"
          ],
          [
           "what can happen to your body if you blood sugar stays over two hundred for days ?"
          ],
          [
           "what do you do if you have diabetes ?"
          ],
          [
           "why do some countries have diabetes worse than others ?"
          ],
          [
           "you are diabetic and hypertensive since last <unk> presently having severe problem of <unk> oral <unk> . what is cause of my oral problem ?"
          ],
          [
           "why do urban children suffer from diseases like diabetes <unk> ?"
          ],
          [
           "what is the normal sugar level in humans ?"
          ],
          [
           "if you are a diabetic do you have to take the flu vaccine ?"
          ],
          [
           "what types of foods would be included in a diabetes meal plan ?"
          ],
          [
           "what exactly are diabetic supplies ?"
          ],
          [
           "does <unk> <unk> have diabetes ?"
          ],
          [
           "which blood test measures glucose levels eight to twelve hours after eating and is used to screen for diabetes mellitus ?"
          ],
          [
           "is type one diabetes a sex linked gene ?"
          ],
          [
           "the organ located near the stomach that makes insulin ?"
          ],
          [
           "what are typical dangerous blood sugar levels for a diabetic ?"
          ],
          [
           "is having a blood sugar level greater than six hundred dangerous ?"
          ],
          [
           "who would <unk> a diabetic <unk> ?"
          ],
          [
           "what are the main symptoms that lead up to diabetes ?"
          ],
          [
           "after sixty four can you get diabetes ?"
          ],
          [
           "sometimes prolonged excessive exposure to high hormone concentrations causes a phenomenon known as what ?"
          ],
          [
           "on a one thousand , nine hundred and eighty nine <unk> pu five point seven what is the normal <unk> reading ?"
          ],
          [
           "is two hundred and sixty five sugar blood levels too high ?"
          ],
          [
           "can a diabetic get <unk> ?"
          ],
          [
           "are diabetic diets used to control the patients sugar level or to help the patient lose weight ?"
          ],
          [
           "will having a family history of diabetes disqualify a person <unk> a career as a pilot in the major commercial airline industry ?"
          ],
          [
           "what are the normal glucose levels in a non diabetic person ?"
          ],
          [
           "how did you get diabetes ?"
          ],
          [
           "is insulin legal or illegal ?"
          ],
          [
           "do you know the amounts of normal glucose levels ?"
          ],
          [
           "will taking 30-60 units of insulin a day hurt me ?"
          ],
          [
           "why is glucose given to a <unk> person ?"
          ],
          [
           "does low blood sugar mean i have hypoglycemia ?"
          ],
          [
           "what causes extreme body odor ?"
          ],
          [
           "onset of regular insulin ?"
          ],
          [
           "what is the normal human glucose level ?"
          ],
          [
           "is it true that type two diabetes occurs much less frequently than type one ?"
          ],
          [
           "when was pediatric diabetes created ?"
          ],
          [
           "what are the <unk> of transmission of diabetes mellitus ?"
          ],
          [
           "what are the foods that is low in sugar ?"
          ],
          [
           "what are some cookbooks of diabetic diet recipes ?"
          ],
          [
           "what does a diabetes doctor take care of ?"
          ],
          [
           "what would cause cold chills up and down the spine ?"
          ],
          [
           "what are some early warning signs of diabetes ?"
          ],
          [
           "what is made from the glucose in <unk> ?"
          ],
          [
           "do the diabetes diet guidelines help people with diabetes manage their eating ?"
          ],
          [
           "can <unk> care help diabetes ?"
          ],
          [
           "which term describes a <unk> complication of diabetes mellitus ?"
          ],
          [
           "does adrenaline increase blood sugar ?"
          ],
          [
           "is diabetes a diseas ?"
          ],
          [
           "why does obesity cause diabetes ?"
          ],
          [
           "mechanism of insulin zinc <unk> in type one diabetes ?"
          ],
          [
           "how diseases get into your body ?"
          ],
          [
           "if you were to eat three fast food meals every day for one month would your risk of diabetes increase ?"
          ],
          [
           "is a diabetic diet good for someone who is not diabetic ?"
          ],
          [
           "what are the other types of physiological diseases away fro hypertension and diabetes ?"
          ],
          [
           "why does my daughter eyes and brain go to another place for afew second could she have low or high blood sugar . ?"
          ],
          [
           "how much sugar is in <unk> ?"
          ],
          [
           "can you take paracetamol if you have diabetes ?"
          ],
          [
           "what must be monitored when an individual is a diabetic ?"
          ],
          [
           "why do all people do not take insulin periodically so that they do not get diabetes ?"
          ],
          [
           "how high is fasting blood sugar seven point zero ?"
          ],
          [
           "what controls glucose levels in the blood ?"
          ],
          [
           "diabetic pump ?"
          ],
          [
           "what type of crystals in urine might be present with diabetes mellitus ?"
          ],
          [
           "which hormone reduce the level of glucose in blood ?"
          ],
          [
           "is there a blood sugar chart for comparing blood sugar values ?"
          ],
          [
           "what are the best diabetic diet foods i can give a fifteen year old growing girl ?"
          ],
          [
           "can diabetes be cured by diet and exercise ?"
          ],
          [
           "can diabetes be cured without medicines ?"
          ],
          [
           "why am i thirsty all the time and tired after meals even though i got my blood sugar tested and it is normal ?"
          ],
          [
           "how does type two diabetes develop ?"
          ],
          [
           "where did best and banting get the insulin from ?"
          ],
          [
           "how is the diet for type one diabetes different from the diet for someone without diabetes ?"
          ],
          [
           "can diabetes be transferred sexually ?"
          ],
          [
           "does late dinner cause of diabetes ?"
          ],
          [
           "what happens when blood sugar levels are lowered ?"
          ],
          [
           "is the cabbage soup diet good for diabetics ?"
          ],
          [
           "what is a typical diabetic diet ?"
          ],
          [
           "how is diabetic food different from regular food ?"
          ],
          [
           "where can i find an online list of available diabetic cookbooks ?"
          ],
          [
           "is diabetes a noncommunicable disease ?"
          ],
          [
           "my finger tip turns white and numb when my hand gets cold . what causes that ?"
          ],
          [
           "how does ketosis and acetone effect diabetics ?"
          ],
          [
           "does beetroot affect diabetes ?"
          ],
          [
           "is it safe to inject more insulin when a child with type1 diabetes wants seconds ?"
          ],
          [
           "are there <unk> companies for diabetic meals in <unk> ?"
          ],
          [
           "what is two types of diabetes ?"
          ],
          [
           "organ that produces the liquid <unk> of the body ?"
          ],
          [
           "if your grandfather had diabetes can you ?"
          ],
          [
           "why might a male have to frequently urinate ?"
          ],
          [
           "will infection cause blood glucose levels to increase or decrease ?"
          ],
          [
           "diabetic supply companies ?"
          ],
          [
           "does diet affect the development of diabetes ?"
          ],
          [
           "what are the health benefits of <unk> ?"
          ],
          [
           "how many times a day should a person with diabetes check there blood sugar levels ?"
          ],
          [
           "what happens to diabetic patient does not take carbohydrate ?"
          ],
          [
           "what drug is used for diabetic hypertensive ?"
          ],
          [
           "is one hundred and sixty is normal random blood sugar level ?"
          ],
          [
           "diabetic fruity odor what to do ?"
          ],
          [
           "insulin how is it used ?"
          ],
          [
           "high blood sugar reading ?"
          ],
          [
           "where to find diabetes food lists ?"
          ],
          [
           "is diabetes communicable disease ?"
          ],
          [
           "is diabetes can pass on by <unk> ?"
          ],
          [
           "explain why there is too little sugar in the blood if the person exercises more than usual ?"
          ],
          [
           "is diabetes a genetic factor ?"
          ],
          [
           "should diabetics eat any sugar ?"
          ],
          [
           "need a list of diabetic diet plans ?"
          ],
          [
           "is type one diabetes deadly or is there a cure ?"
          ],
          [
           "you are on risk of suffering from diabete what can you do to save yourself from it ?"
          ],
          [
           "what is the prognosis for patients with early stage diabetic neuropathy ?"
          ],
          [
           "what can diabetics consume for breakfast ?"
          ],
          [
           "where can i find a complete food chart for diabetes including carbohydrate information ?"
          ],
          [
           "can <unk> sugar be used on diabetic cookies ?"
          ],
          [
           "what is the result of a glucose tolerance test that <unk> insulin resistance ?"
          ],
          [
           "what is the medicine for diabetes ?"
          ],
          [
           "what kinds of sugar substitutes can you use for a diabetic pound cake recipe ?"
          ],
          [
           "when was diabetes care created ?"
          ],
          [
           "what is the proper aha first aid response to diabetic attack ?"
          ],
          [
           "how long does it take for your eyesight to improve after being diagnosed with diabetes ?"
          ],
          [
           "can tv cause diabetes ?"
          ],
          [
           "common diabetes signs ?"
          ],
          [
           "diabetes mellitus is a disorder of ?"
          ],
          [
           "what are three symptoms of diabetes mellitus ?"
          ],
          [
           "what type of diabetes is most common in children and how can children treat their diabetes ?"
          ],
          [
           "how do you know if you have diabetes insipidus ?"
          ],
          [
           "what are problems in the blood when you have diabetes ?"
          ],
          [
           "what is the definition of low sugar ?"
          ],
          [
           "what is the best diet for a diabetic ?"
          ],
          [
           "what is serum insulin ?"
          ],
          [
           "how long can a diabetic live ?"
          ],
          [
           "where can i obtain a diabetic food pyramid ?"
          ],
          [
           "<unk> five hundred and eighty three point one four fifteen g mod two thirty four proof tested can someone tell you about it ?"
          ],
          [
           "what foods cause diabetes ?"
          ],
          [
           "what medical conditions can lead to diabetes ?"
          ],
          [
           "why do patients suffering from <unk> dependent diabetes mellitus develop hypoglycemia ?"
          ],
          [
           "can you eat honey if you have type two diabetes ?"
          ],
          [
           "is it tomato suitable food for diabetics ?"
          ],
          [
           "will peanut butter help lower blood sugar ?"
          ],
          [
           "does low blood sugar cause headaches ?"
          ],
          [
           "are there treatments for diabetics ?"
          ],
          [
           "which two hormones control your blood sugar levels ?"
          ],
          [
           "does blood sugar level increase with lyme disease ?"
          ],
          [
           "what are some side effects of metformin ?"
          ],
          [
           "why diabetes patients are increasing ?"
          ],
          [
           "can gestational diabetes show up if you were an undiagnosed type one diabetic ?"
          ],
          [
           "how diabetes affect the pancreas ?"
          ],
          [
           "what part of the body does diabetes effect ?"
          ],
          [
           "how can you stop diabetes from affecting you ?"
          ],
          [
           "which type of diabetes is due to a deficiency in the secretion of antidiuretic hormone ?"
          ],
          [
           "the mellitus part of diabetes mellitus comes from the latin word for what food which diagnosing physicians were looking to taste in patients ' urine ?"
          ],
          [
           "does drinking alcohol lower your blood sugar ?"
          ],
          [
           "should people who have diabetes eat corn ?"
          ],
          [
           "what can a nurse in a obstetrician office do when a diabetic twenty one year old over weight insulin dependent patient who does not eat breakfast because of morning sickness ?"
          ],
          [
           "can you have brittle diabetes if you are type two diabetes ?"
          ],
          [
           "is it any weight loss shakes that a diabetic or a person with high blood pressure can use ?"
          ],
          [
           "what is juvenal diabetes ?"
          ],
          [
           "what is the average blood glucose level ?"
          ],
          [
           "what would happen if blood sugar levels of a diabetic who <unk> to inject insulin ?"
          ],
          [
           "what are cures for diabetes in fruits ?"
          ],
          [
           "does vitamin b twelve shots raise blood sugar ?"
          ],
          [
           "can diabetes be spread through a used needle prick ?"
          ],
          [
           "where are the <unk> diets to be found to help people with diabetes ?"
          ],
          [
           "does coffee affect blood sugar levels ?"
          ],
          [
           "what is the best way to store insulin ?"
          ],
          [
           "are diabetics allowed to have apple butter ?"
          ],
          [
           "should diabetics drink milk ?"
          ],
          [
           "is a non stress test a standard diabetes test ?"
          ],
          [
           "how does diabetes affect the smell of urine ?"
          ],
          [
           "what part of the human digestive system produces insulin to control sugar in the blood ?"
          ],
          [
           "can you have diabetes and work for the post office ?"
          ],
          [
           "can a diabetic take hgh ?"
          ],
          [
           "blood sugar at five hundred what do you do ?"
          ],
          [
           "what is the role of liver in controlling blood sugar level ?"
          ],
          [
           "which arteries are frequently <unk> in the diabetic patient ?"
          ],
          [
           "what is best food for diabetic patient ?"
          ],
          [
           "where might one go to obtain a diabetic bracelet ?"
          ],
          [
           "why is it so hard to lose weight with diabetes ?"
          ],
          [
           "diabetes treatment ?"
          ],
          [
           "what is <unk> diabetic ?"
          ],
          [
           "can you have a cdl and take insulin ?"
          ],
          [
           "are diabetes test <unk> good past <unk> dates ?"
          ],
          [
           "can good nutrition prevent diabetes ?"
          ],
          [
           "what is the normal blood sugar level reading ?"
          ],
          [
           "how accurate are blood sugar testing machines ?"
          ],
          [
           "what is the normal glucose levels of a teenager ?"
          ],
          [
           "how does insulin relate to diabetes mellitus ?"
          ],
          [
           "what kind of things do <unk> with diabetes need to think about during gym class or sports ?"
          ],
          [
           "what is an example of a good diabetic breakfast ?"
          ],
          [
           "when does type two diabetes turn into insulin dependent ?"
          ],
          [
           "what can i do on my own as a diabetes treatment ?"
          ],
          [
           "is eating a lot considered a type of behavior ?"
          ],
          [
           "which are the <unk> about the <unk> of type ii diabetes ?"
          ],
          [
           "diabetic nutrition ?"
          ],
          [
           "do you have diabetic if reach one hundred and fifty two sugar ?"
          ],
          [
           "how to cook for my whole family when my husband is on the diabetic diet ?"
          ],
          [
           "home medical care : treating diabetes ?"
          ],
          [
           "what causes frequent urination ?"
          ],
          [
           "what is a good breakfast if you have diabetes type one ?"
          ],
          [
           "can diabetes mellitus cause chronic kidney failure ?"
          ],
          [
           "can you find a cure for diabetes ?"
          ],
          [
           "what does a glucose monitor measure ?"
          ],
          [
           "which blood test is used by patients with diabetes to measure the average blood glucose level over the previous three to four months ?"
          ],
          [
           "why do diabetics type ii get so <unk> and mean . after forty three years of <unk> we are about to <unk> up . what can i do ?"
          ],
          [
           "where did insulin come from ?"
          ],
          [
           "which endocrine gland fails to produce enough of its <unk> the diabetes ?"
          ],
          [
           "when should a rapid acting insulin administered ?"
          ],
          [
           "what is the normal diet for people with diabetes ?"
          ],
          [
           "what are the names of the different type of diabetes ?"
          ],
          [
           "does paneer ka phool <unk> diabetes completely ?"
          ],
          [
           "if <unk> of an insulin injection was given instead of <unk> what would happen ?"
          ],
          [
           "how is it possible for a child with <unk> syndrome to develop type one diabetes from the <unk> <unk> ?"
          ],
          [
           "what is type one diabetes and type two ?"
          ],
          [
           "what is the recovery time for laser surgery for retinopathy ?"
          ],
          [
           "is diabetes mellitus an acute disorder ?"
          ],
          [
           "how does diabetes affect endocrine system ?"
          ],
          [
           "what is a good starting grocery list for a family with a diabetic member ?"
          ],
          [
           "name at least six symptoms of diabetes ?"
          ],
          [
           "are diabetes fatal ?"
          ],
          [
           "what is <unk> mellitus ?"
          ],
          [
           "why does the wound of a diabetic not heal easily ?"
          ],
          [
           "what is the best cure for diabetes ?"
          ],
          [
           "where can i find more information on diabetes diet for seniors ?"
          ],
          [
           "what is the main cause of gestational diabetes ?"
          ],
          [
           "what is a <unk> blood glucose test ?"
          ],
          [
           "how do you read one hundred and twenty three million , four hundred and fifty six thousand , seven hundred and eighty nine ?"
          ],
          [
           "treatment options for diabetes ?"
          ],
          [
           "is mutton good for diabetic ?"
          ],
          [
           "what kind of foods are good for a diet for diabetes ?"
          ],
          [
           "can a diabetic eat a kosher hot dog ?"
          ],
          [
           "what foods can i eat with type two diabetes ?"
          ],
          [
           "what is hyperosmolarity in diabetes in a way even i can understand ?"
          ],
          [
           "are <unk> more attracted to diabetics ?"
          ],
          [
           "does sugar directly cause diabetes ?"
          ],
          [
           "explain how viruses might be used to copy the gene for producing human insulin ?"
          ],
          [
           "why is it important to get <unk> fiber in your diet ?"
          ],
          [
           "if a person has diabetes and their blood sugars drop to fifty what can happen ?"
          ],
          [
           "is there any types of infection with diabetes patient to a non diabetes ?"
          ],
          [
           "if a girl weighs one hundred and thirty pound and is a ten year old <unk> grader but her family has a history of over weight family member you are really scared you do not want to be diabetic but i cant <unk> <unk> ?"
          ],
          [
           "did miley cyrus break up with nick jonas because he had diabetes ?"
          ],
          [
           "what is the cause of type one diabetes ?"
          ],
          [
           "why do you get <unk> were you inject your insulin ?"
          ],
          [
           "your fasting blood sugars are three hundred is that dangerous ?"
          ],
          [
           "what is a good type two diabetes diet plan ?"
          ],
          [
           "is nausea related to chronic diabetes ?"
          ],
          [
           "what is diabetic nephropathy ?"
          ],
          [
           "is pre-diabetes the worst kind of diabetes ?"
          ],
          [
           "does nick <unk> jonas have diabetes ?"
          ],
          [
           "how does diabetes affect your blood sugar levels ?"
          ],
          [
           "which diabetes is rare ?"
          ],
          [
           "will drinking water affect your diabetes test ?"
          ],
          [
           "gud or white sugar which is <unk> for a diabetic ?"
          ],
          [
           "what is the difference between novolog insulin and novolin insulin for type one diabetes ?"
          ],
          [
           "why cant type one diabetes be prevented ?"
          ],
          [
           "can a diabetic patient eat watermelon ?"
          ],
          [
           "what can diabetics take for a headache ?"
          ],
          [
           "what research has been done on <unk> ?"
          ],
          [
           "the body produces too much insulin ?"
          ],
          [
           "why do the top of your feet ache ?"
          ],
          [
           "what does post prandial blood sugar mean ?"
          ],
          [
           "what is type three diabetes ?"
          ],
          [
           "insulin syringes are calibrated in ?"
          ],
          [
           "what can diabetic neuropathy lead to ?"
          ],
          [
           "how many <unk> had diabetes ?"
          ],
          [
           "how many people in the world have diabetes ?"
          ],
          [
           "what would happen if you eat twenty five <unk> of sugar ?"
          ],
          [
           "the action insulin on sugar levels in the blood helps ti ?"
          ],
          [
           "can a diabetic use a steam room ?"
          ],
          [
           "can excess of sugar in urine cause tiredness ?"
          ],
          [
           "what do you do if you have diabetes mellitus ?"
          ],
          [
           "does thyroid gland mean controls blood sugar levels ?"
          ],
          [
           "managing high blood sugar ?"
          ],
          [
           "what causes <unk> ?"
          ],
          [
           "what is the primary organ involved with type one diabetes mellitus ?"
          ],
          [
           "what are some diet and exercise tips for diabetic men that do not like to exercise and love to eat unhealthy foods ?"
          ],
          [
           "who discovered diabeties ?"
          ],
          [
           "whats the best dessert recipe for a diabetic female ?"
          ],
          [
           "what causes lack of insulin in early age for ladies ?"
          ],
          [
           "what are type two diabetes symptoms ?"
          ],
          [
           "where you can buy melabic a sugar stabilizer from other source but melabic . com ?"
          ],
          [
           "what to eat for pre diabetes ?"
          ],
          [
           "what is the easiest recipe to make diabetic fudge ?"
          ],
          [
           "how do bacteria help protect people with diabetes ?"
          ],
          [
           "the trouble with weight ?"
          ],
          [
           "obesity and diabetes ?"
          ],
          [
           "what types of insulin are used in hospitals ?"
          ],
          [
           "what can exist in many forms ?"
          ],
          [
           "what type of diabetes usually requires insulin ?"
          ],
          [
           "can you be a diabetic if your skinny ?"
          ],
          [
           "do you get diabetes from being fat ?"
          ],
          [
           "what is the normal blood sugar range for fasting sugar for non diabetics ?"
          ],
          [
           "did nick jonas ever throw up blood from diabetes ?"
          ],
          [
           "does diabetic neuropathy treatment have any risks ?"
          ],
          [
           "how are patients with type i diabetes treated ?"
          ],
          [
           "what are the effects of colloidal silver on diabetes ?"
          ],
          [
           "why is it important for patients with diabetes to use a glucometer ?"
          ],
          [
           "what are the natural remedies for diabetes ?"
          ],
          [
           "can high blood sugar cause pupils being dilated ?"
          ],
          [
           "how many carbs in <unk> ?"
          ],
          [
           "what is the <unk> that cats will develop diabetes <unk> dogs ?"
          ],
          [
           "what is the cause of low blood pressure ?"
          ],
          [
           "when was nick jonas diagnosed with diabetes ?"
          ],
          [
           "what is basal insulin ?"
          ],
          [
           "who is the lady in the walgreen is commercial about diabetes ?"
          ],
          [
           "how scientific <unk> has helped to solve the problem of diabetes ?"
          ],
          [
           "how common is diabetes in america ?"
          ],
          [
           "how long does it take to lower your blood sugar ?"
          ],
          [
           "do diabetes test strips <unk> ?"
          ],
          [
           "can a diabetic have brown <unk> ?"
          ],
          [
           "what are typical ingredients in healthy easy recipes for diabetics ?"
          ],
          [
           "does mcdonalds cause diabetes for children ?"
          ],
          [
           "how much creatine for a diabetic ?"
          ],
          [
           "are low blood sugar levels bad ?"
          ],
          [
           "what is the potential <unk> of insulin pens compared to <unk> and syringes ?"
          ],
          [
           "who is more prone to get diabetes ?"
          ],
          [
           "how do you control diabetes ?"
          ],
          [
           "can the increased in triglyceride cause type two diabetes ?"
          ],
          [
           "why would high <unk> levels slow blood clotting time ?"
          ],
          [
           "where can you find an informative food list for diabetics online ?"
          ],
          [
           "is weight loss a sign of type two diabetes ?"
          ],
          [
           "is there any cure for gangrene in the stomach ?"
          ],
          [
           "glycosuria is a failure in ?"
          ],
          [
           "should you take glucose tablets if your blood sugar is high ?"
          ],
          [
           "what are the top diabetic diets available ?"
          ],
          [
           "what type of hormone is insulin ?"
          ],
          [
           "how do you get rid of belly and thigh fat and still be a type one diabetic ?"
          ],
          [
           "how do you choose foods for diabetics ?"
          ],
          [
           "can you massage on a diabetic ?"
          ],
          [
           "what kind of products does the novo nordisk company produce ?"
          ],
          [
           "what is poor eating habits ?"
          ],
          [
           "resting heart rate for seventy two year old man with diabetes ?"
          ],
          [
           "will current treatments for diabetes continue to work ?"
          ],
          [
           "how do you get diabet es ?"
          ],
          [
           "in what secondary ways can alcohol affect your blood sugar level ?"
          ],
          [
           "what kind of medicines are available to treat diabetes ?"
          ],
          [
           "what age do the symptoms of diabetes occur ?"
          ],
          [
           "how can diabetics increase their insulin levels ?"
          ],
          [
           "what does niddm mean ?"
          ],
          [
           "how is a glucose <unk> performed on a diabetic dog ?"
          ],
          [
           "does the liver help control blood sugar levels ?"
          ],
          [
           "what type of sugar is blood sugar ?"
          ],
          [
           "how many children does nick jonas want their names with who ?"
          ],
          [
           "can you buy diabetic products from pharmacies ?"
          ],
          [
           "can a diabetic patient have any type of liquor ?"
          ],
          [
           "what are the warning signs for diabetes ?"
          ],
          [
           "how did scientists find the human gene that makes insulin ?"
          ],
          [
           "where can one buy diabetic support socks ?"
          ],
          [
           "curing diabetes ?"
          ],
          [
           "how would someone <unk> to the magazine diabetes care ?"
          ],
          [
           "why do people have diabetes ?"
          ],
          [
           "will insulin kill if injected into vein ?"
          ],
          [
           "how many people died in two thousand and twelve ?"
          ],
          [
           "can you give a <unk> in a diabetic patient ?"
          ],
          [
           "is urinating a lot a sign of diabetes ?"
          ],
          [
           "pediatric diabetis ?"
          ],
          [
           "which of the following is not a factor that can place a child at greater risk for developing problems during adolescence ?"
          ],
          [
           "is nick jonas diabetes getting worse ?"
          ],
          [
           "what test detects the average blood glucose levels over the previous three weeks ?"
          ],
          [
           "diet for type two diabetes ?"
          ],
          [
           "thyroxine is important to the control of what ?"
          ],
          [
           "do restaurants carry diabetic diet menus ?"
          ],
          [
           "in what condition people take glucose ?"
          ],
          [
           "how does marijuana effect blood sugar ?"
          ],
          [
           "what does a stable or increasing level of cea in the blood indicate ?"
          ],
          [
           "living with a diabetes diet ?"
          ],
          [
           "living with diabetes ?"
          ],
          [
           "why is foot care so important for diabetics ?"
          ],
          [
           "what are symptoms of <unk> diabetes in adults ?"
          ],
          [
           "what are risk factors of diabetes ?"
          ],
          [
           "is <unk> useful in diabetes ?"
          ],
          [
           "is cinnamon good for diabetics ?"
          ],
          [
           "have many people died because of diabetes ?"
          ],
          [
           "what are healthy blood sugar levels ?"
          ],
          [
           "what food is good to maintain a normal glucose level ?"
          ],
          [
           "will powder glucose do the same as liquid glucose ?"
          ],
          [
           "why should diabetics exercise ?"
          ],
          [
           "where can one find information on type two diabetes friendly diets ?"
          ],
          [
           "what body organ is not working correctly with type one diabetes ?"
          ],
          [
           "what is in potato chips ?"
          ],
          [
           "why is pig insulin being used as a substitute of human insulin ?"
          ],
          [
           "does <unk> have diabetes ?"
          ],
          [
           "is there anything that makes you pee a lot ?"
          ],
          [
           "what is a good blood sugar range ?"
          ],
          [
           "how diabetes mellitus develops ?"
          ],
          [
           "which type of diabetes means i need to inject insulin daily ?"
          ],
          [
           "how do you control diabites ?"
          ],
          [
           "what is a simple dinner recipe that would work with a diabetic menu plan ?"
          ],
          [
           "who discovered hypoglycemia ?"
          ],
          [
           "what kind of foods do diabetics eat ?"
          ],
          [
           "what is the hormone secreted by the pancreatic islets in response to low blood sugar ?"
          ],
          [
           "what is the blood sugar level to be diabetic ?"
          ],
          [
           "is eighty six a normal blood sugar for a none diabetic ?"
          ],
          [
           "is type one diabetes curable ?"
          ],
          [
           "which human organ produces insulin ?"
          ],
          [
           "can <unk> beans to cause diabetes ?"
          ],
          [
           "should diabetics eat red meats ?"
          ],
          [
           "what is a healthy <unk> meal plan for a diabetic ?"
          ],
          [
           "is type two diabetes a genetic disease ?"
          ],
          [
           "is sugar causing diabetes ?"
          ],
          [
           "can diabetes cause hypertension ?"
          ],
          [
           "why was type one diabetes called juvenile diabetes ?"
          ],
          [
           "where can you get health insurance in <unk> if you are a diabetic and have rheumatoid arthritis and your husband and you are on medicare but you missed the <unk> period and your <unk> is <unk> ?"
          ],
          [
           "where was diabetes discovered ?"
          ],
          [
           "is nick jonas dying because of diabetes ?"
          ],
          [
           "what is the difference between a tuberculin syringe and an insulin syringe ?"
          ],
          [
           "how does diabetes effect the human body ?"
          ],
          [
           "list of five non communicable and communicable diseases ?"
          ],
          [
           "can diabetics eat glucose syrup ?"
          ],
          [
           "what is diabetes mellitus and what is it caused by ?"
          ],
          [
           "what is a good diet for someone with arthritis ?"
          ],
          [
           "if you weigh two hundred and twenty lbs how many carbs should you eat to lose weight on a diabetic diet ?"
          ],
          [
           "where can i find a complete list of foods mentioned in the <unk> ?"
          ],
          [
           "who is discover insulin ?"
          ],
          [
           "how long before type one diabetes start to show ?"
          ],
          [
           "what research has been done on <unk> ?"
          ],
          [
           "what is the medical treatment for retinopathy ?"
          ],
          [
           "can you catch diabetes ?"
          ],
          [
           "can diabetic patient drink ginger beer ?"
          ],
          [
           "can <unk> lower <unk> levels in the blood ?"
          ],
          [
           "does type one diabetes affect sperm quality ?"
          ],
          [
           "two types of diabetes ?"
          ],
          [
           "what is glycosuria ?"
          ],
          [
           "you are insulin resistant you do not however have diabetes if you lose the weight will your insulin resistance go too along with it your chance of developing diabetes ?"
          ],
          [
           "can tibicos heal diabetes ?"
          ],
          [
           "is diabetes autosomal or sex linked ?"
          ],
          [
           "is a little bit longer by the jonas brothers about nick is diabetes ?"
          ],
          [
           "can diabetics get tattoos ?"
          ],
          [
           "are there any diet recipes for diabetics ?"
          ],
          [
           "is diabetes mellitus a complication of <unk> ?"
          ],
          [
           "what type of hereditary condition is <unk> <unk> ?"
          ],
          [
           "is london dry gin good for a diabetic ?"
          ],
          [
           "what is the duration of a diabetic coma ?"
          ],
          [
           "where can you find a good type two diabetes diet plan ?"
          ],
          [
           "what type of diabetes must monitor their blood sugar levels carefully and take insulin on a strict schedule ?"
          ],
          [
           "what is diabetes one ?"
          ],
          [
           "how does bacteria help with diabetes ?"
          ],
          [
           "use of psyllium <unk> in diabetes and <unk> ?"
          ],
          [
           "is there anyway to reduce the effects of type two diabetes symptoms ?"
          ],
          [
           "what ways can you manage to have a good nutrition while living with diabetes ?"
          ],
          [
           "when checking your sugar levels what is good ?"
          ],
          [
           "why do you have a dry mouth and always thirsty but not diabetic ?"
          ],
          [
           "what does the cea level in the blood help the physician decide ?"
          ],
          [
           "can <unk> cause blurred vision ?"
          ],
          [
           "is diabetes in the <unk> kingdom ?"
          ],
          [
           "what produces insulin in the body ?"
          ],
          [
           "will medicaid pay for diabetic shoes ?"
          ],
          [
           "what is the root word of diabetes ?"
          ],
          [
           "i there a toothpaste for diabetics ?"
          ],
          [
           "is reading healthy ?"
          ],
          [
           "what are some symptoms to determine borderline diabetes ?"
          ],
          [
           "what <unk> venom <unk> a drug that controls blood sugar levels ?"
          ],
          [
           "how do you remove sugar disease from your body ?"
          ],
          [
           "who has a diabetes nick kevin joe ?"
          ],
          [
           "how does diabetes affect your lifestyle ?"
          ],
          [
           "how low can blood sugar go before is causes lost consciousness ?"
          ],
          [
           "why would a person need diabetic neuropathy treatment ?"
          ],
          [
           "meal for a diabetic ?"
          ],
          [
           "how do you handle diabetes ?"
          ],
          [
           "what is a common drug used to treat a non insulin dependent diabetes ?"
          ],
          [
           "what part of the body make insulin ?"
          ],
          [
           "can genetic screening help diabetic parents to avoid passing diabetic genes to their children ?"
          ],
          [
           "how can bacteria be genetically engineered and used to make human insulin ?"
          ],
          [
           "can eating fresh cherries control blood glucose level ?"
          ],
          [
           "what are some problems people with diabetes have ?"
          ],
          [
           "what organ controls blood sugar ?"
          ],
          [
           "can a diabetic join the marines if he has an insulin pump ?"
          ],
          [
           "how is wheat grass therapy taken ?"
          ],
          [
           "what can i eat in a diabetic diet ?"
          ],
          [
           "what is the <unk> your child will have diabetes if your husband is a type one diabetic and your mother had gestational diabetes when she was pregnant with you ?"
          ],
          [
           "what is the cause of juvenile diabetes ?"
          ],
          [
           "is there a website that offers a diabetic diet meal plan ?"
          ],
          [
           "will glucose tablets reduce your blood <unk> aic ?"
          ],
          [
           "what is the difference between high blood sugar and diabetes ?"
          ],
          [
           "help i do not know what an a1c range is ?"
          ],
          [
           "why can you prevent type two diabetes but can not prevent type one diabetes ?"
          ],
          [
           "what are the common symptoms of diabetes ?"
          ],
          [
           "where can one find a chocolate pie recipe suitable for someone who has diabetes ?"
          ],
          [
           "what is the control mechanism of diabetes ?"
          ],
          [
           "type two diabetes is known as ?"
          ],
          [
           "what can make urine cloudy ?"
          ],
          [
           "what are the release dates for <unk> <unk> juvenile diabetes - two thousand and six ?"
          ],
          [
           "do ya think i have diabetes i am kinda thirsty and feel like i have to go the bathroom quite a bit off and on went to doc few days ago urine was normal did not think i had it blood test fine month ago ?"
          ],
          [
           "can gestational diabetes turn into type one diabetes ?"
          ],
          [
           "what are some ways <unk> <unk> <unk> could have died from diabetes ?"
          ],
          [
           "what are some treatments for diabetic neuropathy ?"
          ],
          [
           "what happens if glucose levels get too low ?"
          ],
          [
           "can people with diabetes make hemoglobin to control their blood sugar ?"
          ],
          [
           "why does decreased insulin cause diabetes ?"
          ],
          [
           "what hormone secretion abnormality causes diabetes ?"
          ],
          [
           "is there a cure for type one diabetes ?"
          ],
          [
           "how can one research what diabetes is ?"
          ],
          [
           "does someone have the answers to the <unk> gestational diabetes case study ?"
          ],
          [
           "who was the scientist who made the diabetes shot ?"
          ],
          [
           "how can a person cure diabetes ?"
          ],
          [
           "does nick jonas really have a meet and <unk> with diabetics before all of his <unk> ?"
          ],
          [
           "does glucose help kids to remember ?"
          ],
          [
           "what are the foods that can cause diabetes ?"
          ],
          [
           "what can i do to stay healthy with diabetes ?"
          ],
          [
           "what condition is caused by too much insulin and too little sugar in the blood ?"
          ],
          [
           "can infection cause diabetes ?"
          ],
          [
           "will you die from type one diabetes ?"
          ],
          [
           "what do people do to test for diabetes ?"
          ],
          [
           "is one hundred and seventy reading after food diabetic ?"
          ],
          [
           "do your bones grow as you get older ?"
          ],
          [
           "is it possible to make a cake that is diabetic friendly ?"
          ],
          [
           "can diabetics take penicillin ?"
          ],
          [
           "what drug may interfere with the body is ability to regulate its temperature and may cause hypothermia ?"
          ],
          [
           "diabetes increases your <unk> of suffering from ?"
          ],
          [
           "who is the best specialist doctor in <unk> in medicine diabetes and <unk> ?"
          ],
          [
           "can you eat sugar cane and get diabetes ?"
          ],
          [
           "can a insulin dependent diabetic become a <unk> <unk> ?"
          ],
          [
           "what type of diet should a person keep with <unk> ?"
          ],
          [
           "what medication does a type one diabetic take ?"
          ],
          [
           "what is a good diet for someone who suffers from diabetic nephropathy ?"
          ],
          [
           "how does water help with blood sugar levels ?"
          ],
          [
           "does homeopathy go with any kind of other medicine like <unk> or ayurveda ?"
          ],
          [
           "what do you do if your blood sugar level is high ?"
          ],
          [
           "can marijuana lower blood sugar level ?"
          ],
          [
           "is diabetes education important for those with no history of it in the family ?"
          ],
          [
           "i got twenty two on my diabetes test . what does that mean ?"
          ],
          [
           "how are blood glucose levels regulated in the body ?"
          ],
          [
           "what is the relationship between <unk> and blood sugar ?"
          ],
          [
           "where can one find a type two diabetic diet ?"
          ],
          [
           "will the glycemic index diet help diabetics ?"
          ],
          [
           "are <unk> product are safe to be use especially in a pregnant women ?"
          ],
          [
           "has a cure been found for diabetes ?"
          ],
          [
           "is diabetes hereditary ?"
          ],
          [
           "why do people with diabeties take care of how much sugar they eat ?"
          ],
          [
           "will a person with type two diabetes taking insulin twice a day test positive on a urine drug test ?"
          ],
          [
           "what helps diabetes ?"
          ],
          [
           "can insulin be given iv ?"
          ],
          [
           "how many americans have diabetes report ?"
          ],
          [
           "where can you buy diabetic shoes ?"
          ],
          [
           "what organs are involved with type two diabetes ?"
          ],
          [
           "what are normal blood sodium levels ?"
          ],
          [
           "has diabetes all ways been diabetes ?"
          ],
          [
           "classification of diabetes mellitus ?"
          ],
          [
           "how many times does a person have to get a diabetes diagnosis ?"
          ],
          [
           "what is dibetes ?"
          ],
          [
           "is type one or type two diabetes more common ?"
          ],
          [
           "what are some good diabetic diet foods ?"
          ],
          [
           "can diabetes form in animals ?"
          ],
          [
           "does beer or wine have a high sugar content ?"
          ],
          [
           "do high blood sugar levels prevent pregnancy ?"
          ],
          [
           "what finally causes the <unk> to fall ?"
          ],
          [
           "is <unk> vaccine linked to diabetes ?"
          ],
          [
           "how do you know you have diabetic ?"
          ],
          [
           "what organ secretes insulin ?"
          ],
          [
           "why can not you use the same lancet twice ?"
          ],
          [
           "how will crack affect a diabetic ?"
          ],
          [
           "diabetic blood sugar levels fluctuate throughout the day ?"
          ],
          [
           "how many people have type one diabetes in th uk ?"
          ],
          [
           "can applesauce be used in a diabetic cake recipe ?"
          ],
          [
           "what is normal range of urine sugar ?"
          ],
          [
           "are there medical id bracelets for diabetics ?"
          ],
          [
           "what organs are involved in diabetes ?"
          ],
          [
           "does monster drinks push up your blood sugar ?"
          ],
          [
           "is it true that diabetic type one men are sterile and if yes is there any help ?"
          ],
          [
           "how many seconds should it take to inject insulin ?"
          ],
          [
           "what is the scientific word for low blood sugar ?"
          ],
          [
           "is diabetes mellitus a <unk> disease ?"
          ],
          [
           "how is diabetes treated through <unk> healing ?"
          ],
          [
           "illness starting with the letter k ?"
          ],
          [
           "can you get <unk> for a child with diabetes insipidus ?"
          ],
          [
           "how does the pancreas work with other systems to keep the body healthy ?"
          ],
          [
           "can a diabetic use <unk> ?"
          ],
          [
           "does calorie free sugar substitutes affect the blood glucose level ?"
          ],
          [
           "what is a good diet for type two diabetes ?"
          ],
          [
           "what is the name of the hormone that lowers blood sugar level ?"
          ],
          [
           "insulin is a protein but <unk> is ?"
          ],
          [
           "what supplements can help with diabetes ?"
          ],
          [
           "ways to prevent high blood pressure ?"
          ],
          [
           "if you start a continuous infusion of one hundred and fifty units of insulin in <unk> of normal saline solution if the prescribed dose is eight insulin units per hour what is the flow rate in ml per hour ?"
          ],
          [
           "where can i purchase diabetic supplements ?"
          ],
          [
           "where does sugar leave the blood ?"
          ],
          [
           "how does diabetes affect your body ?"
          ],
          [
           "how does someone obtain type one diabetes ?"
          ],
          [
           "is swelling of feet and lower legs a sign of type two diabetes ?"
          ],
          [
           "normal range for blood test mpv ?"
          ],
          [
           "what is an extremely critical indicator of diabetes mellitus ?"
          ],
          [
           "what food should diabetics avoid ?"
          ],
          [
           "diabetes warning signs ?"
          ],
          [
           "is organic red rice good for diabetic patient ?"
          ],
          [
           "are the carbs in fruit bad carbs or good carbs ?"
          ],
          [
           "where can i read reviews on blood sugar testing products ?"
          ],
          [
           "what organ under the stomach produces insulin and enzymes ?"
          ],
          [
           "is type two diabetes curable ?"
          ],
          [
           "where can i find a diabetic cookbook with southern recipes ?"
          ],
          [
           "why are insulin syringes <unk> in units instead of milliliter ?"
          ],
          [
           "what is wrong with a diabetic person when he has extreme thirst ?"
          ],
          [
           "is banana good for diabetic patients ?"
          ],
          [
           "are <unk> tests done on diabetics ?"
          ],
          [
           "can you take tylenol pm if you are diabetic ?"
          ],
          [
           "can you take <unk> when you got diabetes ?"
          ],
          [
           "how does the diabetic food chart compare to the basic food chart ?"
          ],
          [
           "what are disadvantages of ayurveda ?"
          ],
          [
           "what process stores energy in the form of glucose ?"
          ],
          [
           "what makes blood sugar go up ?"
          ],
          [
           "how many carbs should a diabetic eat at one meal ?"
          ],
          [
           "what is normal sugar level ?"
          ],
          [
           "where can dessert recipes for diabetics be found ?"
          ],
          [
           "what should a diabetic avoid to eat ?"
          ],
          [
           "why do some organs not need insulin in order to get and process glucose ?"
          ],
          [
           "how do <unk> <unk> and <unk> differ ?"
          ],
          [
           "how does diabetes affect a person ?"
          ],
          [
           "how can exercise and <unk> loss help to lower the blood sugar level in diabetic patient ?"
          ],
          [
           "what can happen if your blood glucose levels rise to high ?"
          ],
          [
           "who is the <unk> of insulin ?"
          ],
          [
           "what side effects are caused by high blood sugar levels ?"
          ],
          [
           "what are the recommended dietary <unk> in diabetes ?"
          ],
          [
           "how do you make a diabetic coconut cake ?"
          ],
          [
           "how many new cases of diabetes ?"
          ],
          [
           "insulin was discovered by ?"
          ],
          [
           "would an apple raise blood sugar ?"
          ],
          [
           "is <unk> bad for you ?"
          ],
          [
           "what can you do to decrease the risk of diabetes ?"
          ],
          [
           "should all diabetics wear diabetic bracelets ?"
          ],
          [
           "why are kids now getting type two diabetes ?"
          ],
          [
           "what is the specific measure of the ability of food to raise blood sugar ?"
          ],
          [
           "can diabetics drink boost ?"
          ],
          [
           "what causes a red burning rash on your face ?"
          ],
          [
           "can diabetics wax ?"
          ],
          [
           "diabetes diet menu ?"
          ],
          [
           "in which <unk> episode does <unk> discover his diabetes ?"
          ],
          [
           "how often should you get a <unk> if you know that a certain disease runs in your family ?"
          ],
          [
           "is one hundred and sixty blood sugar for ten year old diabetic ?"
          ],
          [
           "what do the signs of diabetic ketoacidosis appear as ?"
          ],
          [
           "how much insulin is an overdose ?"
          ],
          [
           "can type two diabetics take lactulose solution ?"
          ],
          [
           "why does diabetes restrict a beauty treatment ?"
          ],
          [
           "where did diabetes get its name ?"
          ],
          [
           "what are some problems of diabetes ?"
          ],
          [
           "how do you run without having lactic acid build up and also what foods should you eat when in training ?"
          ],
          [
           "which endocrine gland releases a hormone that increases blood sugar level ?"
          ],
          [
           "what is a healthy type ii diabetes diet plan ?"
          ],
          [
           "what is sign of diabetes ?"
          ],
          [
           "which jonas brother has diabetes ?"
          ],
          [
           "how many days of blood sugar level does fasting blood sugar measure ?"
          ],
          [
           "how is diabetes <unk> ?"
          ],
          [
           "what is the healthy glucose levels ?"
          ],
          [
           "all patients with diabetes need injection ?"
          ],
          [
           "can you have hypoglycemia without diabetes ?"
          ],
          [
           "how can i prevent myself from getting type two diabetes ?"
          ],
          [
           "how and when to start a diabetic neuropathy ?"
          ],
          [
           "what gland controls the sugar metabolism ?"
          ],
          [
           "what kind of condition is diabetes insipidus ?"
          ],
          [
           "how many new case of diabetes are diagnosed each day in the us ?"
          ],
          [
           "does sugar have anything to do with getting diabetes ?"
          ],
          [
           "what happens to health if someone sleeps right after eating an orange ?"
          ],
          [
           "is the number of people worldwide who have diabetes increasing ?"
          ],
          [
           "how is diabetes passed on ?"
          ],
          [
           "what are some natural remedies such as in a wilderness survival situation ?"
          ],
          [
           "what causes low blood sugar to sometimes appear as if someone is having a stroke ?"
          ],
          [
           "can you get an std if you have type two diabetes ?"
          ],
          [
           "why is it important to keep the blood glucose level within the normal range ?"
          ],
          [
           "can diabetics use the master <unk> ?"
          ],
          [
           "why does blood sugar rise high after breakfast ?"
          ],
          [
           "what are the best diabetes foods for lowering blood sugar ?"
          ],
          [
           "if you inject a diabetic shot by mistake would you be diabetic ?"
          ],
          [
           "how can you lower your blood sugar quickly ?"
          ],
          [
           "can constipation cause frequent urination ?"
          ],
          [
           "what do you get when you eat a lot of sugar foods ?"
          ],
          [
           "your blood sugar is running between one hundred and fifty and two hundred and thirty seven is that bad ?"
          ],
          [
           "what type of insulin does nick jonas use ?"
          ],
          [
           "what are some early signs of diabetes ?"
          ],
          [
           "can a person with diabetes help control it by lifestyle changes ?"
          ],
          [
           "would you gain weight if you had diabetes ?"
          ],
          [
           "can someone taking pills for diabetes use urine therapy ?"
          ],
          [
           "how do you no if you have diabets ?"
          ],
          [
           "can cats get diabetes ?"
          ],
          [
           "what happens when someone with diabetes has a blood sugar of twenty nine ?"
          ],
          [
           "why is it dangerous for diabetics to eat a meal containing a lot of sugar ?"
          ],
          [
           "what are the most <unk> signs of diabetes ?"
          ],
          [
           "what is the name of the condition that is affected by blood sugar levels ?"
          ],
          [
           "does a sugar free diet cure diabetes ?"
          ],
          [
           "blood sugar levels are lowered by the ?"
          ],
          [
           "i have been feeling faint and <unk> do i have diabetes ?"
          ],
          [
           "what does insulin do the blood sugar levels ?"
          ],
          [
           "is diabetes type one inherited ?"
          ],
          [
           "what do you give a diabetic that is having a low blood sugar issue ?"
          ],
          [
           "which type of diabetes is insulin-dependent ?"
          ],
          [
           "how much sugar in dates ?"
          ],
          [
           "what is a description for fasting blood sugar ?"
          ],
          [
           "do researchers think there will be a cure for diabetes ?"
          ],
          [
           "how severe do diabetes symptoms have to be before you have ?"
          ],
          [
           "what are the results of not taking medicine for diabetes ?"
          ],
          [
           "is it a myth for getting diabetes by eating to much sugar ?"
          ],
          [
           "what animals would serve as the best sources of insulin to be used for treating diabetics ?"
          ],
          [
           "what should you do if your glucose level is three hundred and seventy one ?"
          ],
          [
           "how many grams of sugar a day for a diebetic ?"
          ],
          [
           "in addition to taking insulin how can one treat diabetes ?"
          ],
          [
           "which organ produces insulin ?"
          ],
          [
           "what is the causative agent of diabetes ?"
          ],
          [
           "what fruit lowers blood sugar ?"
          ],
          [
           "how is type one diabetes detected ?"
          ],
          [
           "what happens if low blood sugar is not treated ?"
          ],
          [
           "how the body produce insulin ?"
          ],
          [
           "why did the pima <unk> have diabetes ?"
          ],
          [
           "what if your blood glucose is six . <unk> should you administer insulin ?"
          ],
          [
           "what do you call the presence of glucose in the urine ?"
          ],
          [
           "what are the low sugar foods ?"
          ],
          [
           "what is the definition of high in fats ?"
          ],
          [
           "what do nails look like on a diabetic ?"
          ],
          [
           "what diseases are caused by <unk> ?"
          ],
          [
           "what is the leading cause of diabetes in america and how can i prevent getting it ?"
          ],
          [
           "understanding diabetic meal planning ?"
          ],
          [
           "how do you write a school research paper on diabetes ?"
          ],
          [
           "ms . <unk> , i <unk> ?"
          ],
          [
           "did elvis <unk> presley have diabetes type one or two ?"
          ],
          [
           "grandma is coming to visit and my child has chickenpox grandma also is diabetic she was planning on staying with us should she stay <unk> ?"
          ],
          [
           "how does diabetes travel ?"
          ],
          [
           "what is honeymoon period in diabetes mellitus ?"
          ],
          [
           "how do diabetics control their blood sugar level ?"
          ],
          [
           "what is a type one and two diabetes ?"
          ],
          [
           "what is best bread to eat ?"
          ],
          [
           "can a diabetic consume honey ?"
          ],
          [
           "is there quite a lot of sugar in bananas ?"
          ],
          [
           "do bacteria prevent diabetes ?"
          ],
          [
           "where can you find information about the grapefruit diet ?"
          ],
          [
           "is a glucose reading of one hundred and seventeen of concern ?"
          ],
          [
           "are any types of diabetes hereditary ?"
          ],
          [
           "diabetes resources on the internet ?"
          ],
          [
           "how will my diabetes be treated ?"
          ],
          [
           "my <unk> old son was diagnosed with <unk> diabetes in july eight point we have been having alot of highs and lows <unk> , were told by his doctor that it is normal . i would like to get another opinion on this from someone with same problem . ?"
          ],
          [
           "what are the chances i will be able to carry my baby to term if i am diabetic ?"
          ],
          [
           "which of the following <unk> about insulin resistance and pre-diabetes is true ?"
          ],
          [
           "why does diabetes medications make people more obese than before they started on the medications ?"
          ],
          [
           "what type of carbohydrates helps maintains normal glucose levels ?"
          ],
          [
           "can insulin be taken orally for type two diabetes ?"
          ],
          [
           "is whiskey safe for diabetics ?"
          ],
          [
           "is <unk> milk good for a diabetic ?"
          ],
          [
           "how long for the onset of regular insulin ?"
          ],
          [
           "does mitchell <unk> have diabetes ?"
          ],
          [
           "what is the normal level for blood sugar ?"
          ],
          [
           "can diabetes insipidus be detected ?"
          ],
          [
           "where can you find kosher insulin ?"
          ],
          [
           "who discovered the cure for the diabetes ?"
          ],
          [
           "what are the nutrition <unk> for people suffering from diabetes ?"
          ],
          [
           "what could happen if a person does not take care of their diabetic condition ?"
          ],
          [
           "can nph insulin be given iv ?"
          ],
          [
           "what should a diabetic is meal plan have ?"
          ],
          [
           "use of paneer booti in <unk> ?"
          ],
          [
           "are bananas high in sugar ?"
          ],
          [
           "can phenylalanine cause diabetes ?"
          ],
          [
           "which endocrine gland controls sugar levels in the blood ?"
          ],
          [
           "blood sugar <unk> of two hundred and fifty seven what is emergency action to take for a type two diabetic ?"
          ],
          [
           "why dont mix glargine with short acting insulin ?"
          ],
          [
           "what types of insulin are used to treat diabetes ?"
          ],
          [
           "how does type one differ from type two <unk> disease ?"
          ],
          [
           "can you get a diabetic food list online ?"
          ],
          [
           "how many units of insulin should a diabetic take per four grams of carbohydrates ?"
          ],
          [
           "is diabetes <unk> ?"
          ],
          [
           "what causes numbness and tingling in the fingers of individuals with untreated <unk> anemia ?"
          ],
          [
           "why did you get diabetes ?"
          ],
          [
           "where could one go for advice if their cat has diabetes ?"
          ],
          [
           "can mental illness be cure ?"
          ],
          [
           "how can i lose weight fast and healthy when i have diabetes ?"
          ],
          [
           "where can i find a recipe book for a diabetic diet ?"
          ],
          [
           "what term best describes a failure of the body is cells to <unk> to insulin ?"
          ],
          [
           "what diabetic patient needs insulin ?"
          ],
          [
           "is diabetes <unk> ?"
          ],
          [
           "how many good carbs should you eat if you are five ' four and want to lose fifteen pounds ?"
          ],
          [
           "can blood tests determine diabetes ?"
          ],
          [
           "what are some treatment types for diabetes ?"
          ],
          [
           "what is the best way to manage diabetes ?"
          ],
          [
           "can non-insulin dependent diabetes mellitus cause chronic kidney failure ?"
          ],
          [
           "type one diabetes treatment ?"
          ],
          [
           "why must insulin be administered in injection ?"
          ],
          [
           "how long can a <unk> with type one diabetes live till ?"
          ],
          [
           "how many diabetics use insulin ?"
          ],
          [
           "when does type i diabetes usually begin ?"
          ],
          [
           "what should your blood sugar be two hrs after eating for a diabetic ?"
          ],
          [
           "where can i buy diabetic food that is not too expensive ?"
          ],
          [
           "can diabetics take vitamin b complex ?"
          ],
          [
           "what s type three diabetes ?"
          ],
          [
           "how much of an emergency <unk> of diabetic supplies should i keep on hand ?"
          ],
          [
           "best food to eat when blood sugar gets low ?"
          ],
          [
           "what is a diabetes blood test ?"
          ],
          [
           "physical characteristics for diabetes ?"
          ],
          [
           "are there any videos of nick talking about his diabetes ?"
          ],
          [
           "which test is used as an aid in diagnosing diabetes ?"
          ],
          [
           "can i still eat dessert when diagnosed with diabetes ?"
          ],
          [
           "when is it best to eat low glycemic foods ?"
          ],
          [
           "can a vegetarian diet help diabetics ?"
          ],
          [
           "can diabetics take paracetamol ?"
          ],
          [
           "what is the type two diabetes diet ?"
          ],
          [
           "how severe is nick jonas is diabetes ?"
          ],
          [
           "what is the meaning of insulin resistance ?"
          ],
          [
           "how is diabetes diagnosed ?"
          ],
          [
           "meal planning for diabetics ?"
          ],
          [
           "is there such thing as a diabetic cookie recipe ?"
          ],
          [
           "how is <unk> related to diabetes ?"
          ],
          [
           "why do you have pains in the lower left side of the stomach ?"
          ],
          [
           "will eating dates increase blood sugar ?"
          ],
          [
           "what kinds of diabetes are there ?"
          ],
          [
           "risk of developing type two diabetes can be <unk> by ?"
          ],
          [
           "is diabetes able to be passed along to your children ?"
          ],
          [
           "what is a good wine for a diabetic ?"
          ],
          [
           "why do people with diabetes have have a <unk> chance of developing foot infections ?"
          ],
          [
           "i have diabetes high bp . <unk> does not help what can you do ?"
          ],
          [
           "can a low blood sugar level cause a panic attack ?"
          ],
          [
           "when target cells are less sensitive to the effects of insulin in type ii diabetes suggests ?"
          ],
          [
           "how do you <unk> tiredness with diabetes ?"
          ],
          [
           "is it possible for a normal blood test to miss type one diabetes ?"
          ],
          [
           "can nick jonas get rid of his diabetes ?"
          ],
          [
           "what are normal diabetes levels ?"
          ],
          [
           "meaning of diabetes mellitus ?"
          ],
          [
           "what are the three p is of diabetes mellitus ?"
          ],
          [
           "why do i have signs and symptoms of diabetes mellitus but my diagnostic tests are negative how can i figure out what is wrong ?"
          ],
          [
           "does an urinalysis show blood sugar levels ?"
          ],
          [
           "is it normal to have low blood sugar ?"
          ],
          [
           "what is the best diet for diabetics ?"
          ],
          [
           "if i am going in for a blood specific test lets say to determine if you have diabetes is there anyway that during these tests if you have smoked marijuana that it will come up in the tests ?"
          ],
          [
           "is it true that when blood glucose levels rise insulin is released by the <unk> to lower the level ?"
          ],
          [
           "can <unk> iodine safe as an <unk> agent on diabetics ?"
          ],
          [
           "alan rickman is diabetic ?"
          ],
          [
           "what can cause high triglycerides besides obesity ?"
          ],
          [
           "can a diabetic have the color red in a tattoo ?"
          ],
          [
           "what is gestational diabetes and how can it be controlled ?"
          ],
          [
           "what is a healthy diet for a diabetic with type two diabetes ?"
          ],
          [
           "how many grams of sugar should a pre-diabetic woman consume per day ?"
          ],
          [
           "a decrease in the production of insulin causes ?"
          ],
          [
           "is a blood glucose level of one hundred and sixty very high ?"
          ],
          [
           "what are the different types of insulin currently available for diabetes patients ?"
          ],
          [
           "what is a normal range for fasting blood glucose ?"
          ],
          [
           "was alexander <unk> bell diabetic ?"
          ],
          [
           "what is a normal blood sugar range ?"
          ],
          [
           "tools you use for diabetes ?"
          ],
          [
           "what type of <unk> did thomas edison get ?"
          ],
          [
           "can smoking marijuana help type two diabetes ?"
          ],
          [
           "what research has been done on retinopathy ?"
          ],
          [
           "why does a diabetic person sometimes need to eat a lump of sugar ?"
          ],
          [
           "would a type two diabetic be safe to consume a orange ?"
          ],
          [
           "when is blood sugar level is too high ?"
          ],
          [
           "does <unk> have a diabetic diet menu ?"
          ],
          [
           "what can remedy diabetes high blood sugar levels ?"
          ],
          [
           "what is the study of diabetes mellitus called ?"
          ],
          [
           "what is the treatment for high blood sugar levels in diabetic patients ?"
          ],
          [
           "what are the systems that are affected by diabetes ?"
          ],
          [
           "where are the canadian diabetes association <unk> ?"
          ],
          [
           "which organelle is responsible for the production of insulin ?"
          ],
          [
           "what are complication of numbness and <unk> and tingling ?"
          ],
          [
           "which endocrine gland regulates blood sugar levels ?"
          ],
          [
           "is the diabetes mellitus inherited ?"
          ],
          [
           "how does nicotine increase the blood sugar level affecting diabetes ?"
          ],
          [
           "could gingivitis be transmitted by kissing ?"
          ],
          [
           "is diabetes a <unk> trait or not ?"
          ],
          [
           "how many calories can a diabetic have a day ?"
          ],
          [
           "what is a good cookie recipe for diabetics ?"
          ],
          [
           "diabetes pump ?"
          ],
          [
           "how are nerves affected by low blood sugar ?"
          ],
          [
           "what is a pre-diabetic glucose level ?"
          ],
          [
           "where are some sample menus that have diabetic recipes ?"
          ],
          [
           "who discovered insulin is a treatment for diabetes ?"
          ],
          [
           "which one of the following lists represents three common review types associated with an <unk> project ?"
          ],
          [
           "what is <unk> ?"
          ],
          [
           "name of drugs used in retinopathy ?"
          ],
          [
           "can diabetes affect the eyes ?"
          ],
          [
           "after following the diabetic diet guidelines , will this ensure that my diabetes will go away ?"
          ],
          [
           "what dietary recommendations apply to a person with type two diabetes ?"
          ],
          [
           "if one person has type one diabetes can they give to another person ?"
          ],
          [
           "how many kids are diagnosed with diabetes each day ?"
          ],
          [
           "if your blood sugar is low what hormone should your body produce to help with this ?"
          ],
          [
           "what are the symptoms of diabetes ?"
          ],
          [
           "what are the diseases caused by <unk> ?"
          ],
          [
           "how does diabetes affect the urinary system ?"
          ],
          [
           "is drinking beer safe for diabetics ?"
          ],
          [
           "what can a lot of sugar do to you ?"
          ],
          [
           "where can one purchase diabetic supplies from ?"
          ],
          [
           "does eating an orange raise blood sugar ?"
          ],
          [
           "what are onetouch ultra products used for ?"
          ],
          [
           "what are the three main types of tissues that respond to insulin well and help lower blood glucose level ?"
          ],
          [
           "what would increase insulin secretion in type ii diabetes ?"
          ],
          [
           "can you drink alcohol with type one diabetes ?"
          ],
          [
           "should type two diabetics use <unk> sugar ?"
          ],
          [
           "what is causes high blood glucose levels ?"
          ],
          [
           "what is it called when it is a diabetic emergency caused by very high blood sugar and it is treated by the <unk> administration of insulin ?"
          ],
          [
           "must all diabetics check blood sugar everyday ?"
          ],
          [
           "inform us of assistance for a diabetic child entering <unk> this would be in <unk> and would be to check her blood sugar levels <unk> the two hours <unk> <unk> ?"
          ],
          [
           "which part of your body produce insulin ?"
          ],
          [
           "why is diabetes a dominant gene ?"
          ],
          [
           "how do you have know if it is a type one or type two diabetes ?"
          ],
          [
           "what food contain insulin ?"
          ],
          [
           "what is normal blood sugar for kids ?"
          ],
          [
           "how can diabetes be detected ?"
          ],
          [
           "how does diabetes mellitus affect your body ?"
          ],
          [
           "does glucagon act as an electrolyte ?"
          ],
          [
           "what is <unk> ?"
          ],
          [
           "why does type two diabetics can not take penicillin ?"
          ],
          [
           "does a patient vomit if given too much insulin ?"
          ],
          [
           "insulin injection cpt code ?"
          ],
          [
           "what is the average range of blood sugar levels ?"
          ],
          [
           "what organs do diabetes mellitus and diabetes inspidus affect ?"
          ],
          [
           "can diabetes be controlled by nutrilite protein powder ?"
          ],
          [
           "are diabetes and <unk> linked ?"
          ],
          [
           "can high blood sugar cause cysts ?"
          ],
          [
           "what is the treatment for type one diabetes ?"
          ],
          [
           "when glucose levels are above normal the pancrease secretes ?"
          ],
          [
           "what is the body is response to insulin ?"
          ],
          [
           "is marijuana harm full if have diabetes type two ?"
          ],
          [
           "what are some things i can do to prevent diabetes ?"
          ],
          [
           "is type you diabetes known as non-insulin dependent diabetes ?"
          ],
          [
           "does your pee get <unk> when <unk> acid gets out of our body ?"
          ],
          [
           "what is the complications of diabetes mellitus ?"
          ],
          [
           "can diabetics drink orange <unk> ?"
          ],
          [
           "why is diabetes so common in the us ?"
          ],
          [
           "is beer or wine bad for diabetics ?"
          ],
          [
           "what macromolecule is in insulin ?"
          ],
          [
           "is <unk> safe for diabetes patients ?"
          ],
          [
           "is gluten free good for diabetics ?"
          ],
          [
           "why is blood black when the person is diabetic ?"
          ],
          [
           "regular exercise may prevent the onset of what type of diabetes ?"
          ],
          [
           "should an non diabetic take metformin ?"
          ],
          [
           "can you get diabetes by using a needle used by a person with diabetes ?"
          ],
          [
           "different drugs for different control ?"
          ],
          [
           "are there any online healthy diabetic recipes for desserts ?"
          ],
          [
           "who discovered how to make insulin ?"
          ],
          [
           "which hormone acts antagonistically to insulin produced by the same endocrine organ ?"
          ],
          [
           "what does it mean if your blood sugar level is two hundred and fifteen ?"
          ],
          [
           "what effect does royal jelly have on diabetics ?"
          ],
          [
           "is nph insulin cloudy ?"
          ],
          [
           "what is insulin resistance ?"
          ],
          [
           "why does thirsty occur with diabetes mellitus ?"
          ],
          [
           "what is dibeties ?"
          ],
          [
           "if you have diabetes can you have sugar ?"
          ],
          [
           "where can i find a good sugar diabetes diet ?"
          ],
          [
           "is fish oil bad for diabetics ?"
          ],
          [
           "is it possible for you to have diabetes if no one else in your family has it ?"
          ],
          [
           "is the person suffering from hypoglycemia diabetic ?"
          ],
          [
           "how many times a day do you take insulin for type one diabetes ?"
          ],
          [
           "which part of body does diabetes affect ?"
          ],
          [
           "what is the nursing diagnosis of hyperthyroidism ?"
          ],
          [
           "do kids get diabetes ?"
          ],
          [
           "can you transfer diabetes sexually or through a blood <unk> ?"
          ],
          [
           "who was the only person <unk> from taking a drug test at the one thousand , nine hundred and seventy two olympics ?"
          ],
          [
           "what kind of disease did the <unk> spread to canada ?"
          ],
          [
           "how come type two diabetes can be cured but not type one diabetes ?"
          ],
          [
           "what mineral increases insulin activity ?"
          ],
          [
           "did nick jonas ever have diabetes ?"
          ],
          [
           "can you treat type one diabetes be treated ?"
          ],
          [
           "is frequent night time urination a symptom of type two diabetes ?"
          ],
          [
           "what alcohol can you drink when you have diabetes ?"
          ],
          [
           "what are the effects of having type two diabetes ?"
          ],
          [
           "what are some ways to manage your diabetes ?"
          ],
          [
           "what is the meal plan example for people like me who are diabetic ?"
          ],
          [
           "is a insulin pump for diabetics an example of medical <unk> ?"
          ],
          [
           "what is pre diabetes and what are the symptoms ?"
          ],
          [
           "who was a diabetic in the movie <unk> <unk> ' ?"
          ],
          [
           "how much does it cost for treatment of diabetes ?"
          ],
          [
           "what are the <unk> of juvenile diabetes ?"
          ],
          [
           "how infection affect the body system ?"
          ],
          [
           "is type one diabetes bad ?"
          ],
          [
           "what is the <unk> cost for having diabetes ?"
          ],
          [
           "if your blood sugar reading is two hundred and fifty five is that high ?"
          ],
          [
           "can diabetic have abnormal blood work ?"
          ],
          [
           "do diabetes sufferers develop a short <unk> ?"
          ],
          [
           "if your <unk> sugar is too high which type of diabetes do you have ?"
          ],
          [
           "is <unk> wine also good for diabetes ?"
          ],
          [
           "is <unk> safe for diabetics ?"
          ],
          [
           "does sex have an affect on blood sugar in a person with type two diabetes will it cause it to elevate ?"
          ],
          [
           "how can i keep my blood sugar levels low ?"
          ],
          [
           "where can you find out more about diabetes medicines ?"
          ],
          [
           "which two physicians first insolated the hormone insulin used in treating diabetes ?"
          ],
          [
           "should the word diabetes be capitalized ?"
          ],
          [
           "where can one find liquid glucose ?"
          ],
          [
           "what foods can be bought by poor and rich persons that can cause diabetes ?"
          ],
          [
           "what is the cause for low fever ?"
          ],
          [
           "can a diabetic person drink coconut water ?"
          ],
          [
           "do people with diabetes have to take shots ?"
          ],
          [
           "where can you find information on children is clothing in world war two ?"
          ],
          [
           "what do you take <unk> for ?"
          ],
          [
           "did nick jonas ever pass out on stage due to his diabetes ?"
          ],
          [
           "are there free ways to find out if someone <unk> had a life insurance policy ?"
          ],
          [
           "who is more likely to develop diabetes ?"
          ],
          [
           "how to know if your blood sugar is getting low ?"
          ],
          [
           "what is <unk> for ?"
          ],
          [
           "e . coli is able to use foods other than glucose in the absence of available glucose . the falling levels of glucose cause an increase in which important component ?"
          ],
          [
           "what <unk> drugs affect sugar levels ?"
          ],
          [
           "which cell suffer from hypoglycemia if takes insulin overdose ?"
          ],
          [
           "what are diabetics not allowed to eat ?"
          ],
          [
           "what is the best sugar free <unk> to give a child on a ketogenic diet ?"
          ],
          [
           "how to control diabetes ?"
          ],
          [
           "what are the most important factors inside of the diabetes guidelines ?"
          ],
          [
           "what test is test is performed to confirm a diagnosis of diabetes mellitus and to aid in diagnosing hypoglycemia ?"
          ],
          [
           "what are the causes of gestational diabetes ?"
          ],
          [
           "what sugars can you eat if you have gestational diabetes ?"
          ],
          [
           "does metformin help with weight loss ?"
          ],
          [
           "was it november sixteen that nick jonas learned he had diabetes ?"
          ],
          [
           "can someone please help me find a healthy diabetes plan ?"
          ],
          [
           "what are some tips for diabetes management ?"
          ],
          [
           "what kind of doctor should a diabetic see ?"
          ],
          [
           "what are the signs of decreased <unk> glucose levels ?"
          ],
          [
           "where are some simple recipes found for a diabetic menu ?"
          ],
          [
           "which of the following is not a common underlying cause of diabetic skin ulcers a . poor circulation b . pressure points c . neuropathy d . dermatitis ?"
          ],
          [
           "what is a disease in which blood glucose levels are above normal ?"
          ],
          [
           "where can you find information on diabetes nutrition ?"
          ],
          [
           "diabetics and alcohol consumption ?"
          ],
          [
           "what is type two diabetes ?"
          ],
          [
           "is insulin the hormone that raises blood sugar levels ?"
          ],
          [
           "what can happen to you if your sugar keep going <unk> three hundred you are type two ?"
          ],
          [
           "how common is type ii diabetes ?"
          ],
          [
           "when does a patient with diabetes insipidus begin to suffer symptoms of dehydration ?"
          ],
          [
           "which of these illness is a disease in which blood sugar levels are above normal ?"
          ],
          [
           "where can i get a diabetic food list ?"
          ],
          [
           "is it mandatory to take insulin for a type one diabetes ?"
          ],
          [
           "what is the effect of having no insulin in your body ?"
          ],
          [
           "whats a good diet if you have type two diabetes ?"
          ],
          [
           "meal planning for diabetes - carbs count ?"
          ],
          [
           "how you can prevent diabetes ?"
          ],
          [
           "what food should be avoided by a diabetic persons ?"
          ],
          [
           "what does diabetes do to people ?"
          ],
          [
           "will two hundred units novolin n insulin kill a person ?"
          ],
          [
           "can diabetic patient eat banana ?"
          ],
          [
           "why may a diabetic become thin and feel weak ?"
          ],
          [
           "why must type i diabetes patients inject insulin ?"
          ],
          [
           "is there a chart that shows foods that are high in protein online ?"
          ],
          [
           "what do i have to know about desserts for diabetics ?"
          ],
          [
           "what happens if you drink a bit of insulin ?"
          ],
          [
           "blood tests for diabetes ?"
          ],
          [
           "can a diabetic safely get a tattoo on leg ?"
          ],
          [
           "what type of insulin is given to a patient with diabetic ketoacidosis ?"
          ],
          [
           "how man people in america have diabetes ?"
          ],
          [
           "what diets are effective for those with diabetes ?"
          ],
          [
           "who founded that insulin is in your body ?"
          ],
          [
           "what food is good for diabetic retinopathy ?"
          ],
          [
           "why do diabetic people go blind ?"
          ],
          [
           "why is <unk> good for diabetic people ?"
          ],
          [
           "where can i find a glucose level chart online ?"
          ],
          [
           "are <unk> good for diabetic ?"
          ],
          [
           "who is barry gibb ?"
          ],
          [
           "what can diabetics drink ?"
          ],
          [
           "would you be hungrier if you had low or high glucose levels ?"
          ],
          [
           "what is the relation of hypokalemia to diabetes melitus ?"
          ],
          [
           "what is te ideal diet for diabetic patient ?"
          ],
          [
           "does blood sugar affect <unk> and learning ?"
          ],
          [
           "what do ketones have to do with diabetes ?"
          ],
          [
           "what are the effects of not treating a diabetic foot <unk> ?"
          ],
          [
           "why are keytones dangerous for diabetics ?"
          ],
          [
           "do potato chips cause diabetes ?"
          ],
          [
           "does insulin bring sugar down ?"
          ],
          [
           "how much money do physicians make ?"
          ],
          [
           "can you bring your blood sugar down instantly with <unk> at home ?"
          ],
          [
           "could you die if you had diabetes and did not take your insulin ?"
          ],
          [
           "is over the counter insulin not as good as prescription insulin ?"
          ],
          [
           "does sonia sotomayor still have diabetes ?"
          ],
          [
           "what do people with type one diabetes do to control their blood pressure ?"
          ],
          [
           "i have been nauseous for the last couple months i will be fine one moment and the next have extreme nausea sometimes vomiting no chance of pregnancy . i am diabetic but blood sugars do not affect . ?"
          ],
          [
           "what is one reason for the change in wound healing time in a diabetic is that ?"
          ],
          [
           "how does blood pressure relate to the level of stress you and the other person are typically under ?"
          ],
          [
           "how can diabetes be controlled by exercising ?"
          ],
          [
           "what food for supper for the diabetic person ?"
          ],
          [
           "should a diabetic use a sauna ?"
          ],
          [
           "what is the education required to be a diabetes health counselor ?"
          ],
          [
           "what should your sugar be not diabetic ?"
          ],
          [
           "you have been experiencing twitching in your <unk> and thumb on your left hand for several weeks it is not painful but is very <unk> what could be causing this to happen ?"
          ],
          [
           "is force factor supplement ok with diabetes ?"
          ],
          [
           "what does diabetic retinopathy treatment consist of ?"
          ],
          [
           "what are the cardinal symptoms of diabetes mellitus ?"
          ],
          [
           "signs of diabetes ?"
          ],
          [
           "what is one common type of diabetes ?"
          ],
          [
           "where to get information on diabetes alert dog training ?"
          ],
          [
           "what medication for diabetes is contraindication for massage to be perform ?"
          ],
          [
           "what are some <unk> substances ?"
          ],
          [
           "what is the prognosis for insulin resistance ?"
          ],
          [
           "what is in simple english diabetic <unk> ?"
          ],
          [
           "does <unk> plant really cause an diabetes ?"
          ],
          [
           "what system does diabetes effect ?"
          ],
          [
           "can diabetics eat chocolate ?"
          ],
          [
           "how is the size of insulin <unk> ?"
          ],
          [
           "what are the genes responsible for diabetes ?"
          ],
          [
           "how does low sugar affect eyesight ?"
          ],
          [
           "are increased thirst , hunger and loss of weight good reason to be concerned about high blood sugar ?"
          ],
          [
           "name of disorder of diabetes ?"
          ],
          [
           "are there any <unk> recipes specifically for diabetic people ?"
          ],
          [
           "what is a <unk> for pedicure ?"
          ],
          [
           "how does insulin regulate blood sugar levels ?"
          ],
          [
           "what is the role of the diet and exercise in the controlling of hypertension and diabetes ?"
          ],
          [
           "where can you get help for diabetes ?"
          ],
          [
           "can you pierce year ears if you have diabetes ?"
          ],
          [
           "why are your ball tingling ?"
          ],
          [
           "what are the types of <unk> disorder ?"
          ],
          [
           "how often should a person have their sugar levels checked ?"
          ],
          [
           "should a diabetic eat fresh mango ?"
          ],
          [
           "what is a diabetes specialist nurse is code of practice ?"
          ],
          [
           "what is the safe blood sugar level for an adult male fifty eight years old ave ?"
          ],
          [
           "how many people die from type two diabetes each year world wide ?"
          ],
          [
           "what is the recommended diet for treatment and/or prevention of diabetic neuropathy ?"
          ],
          [
           "what does diabetes mean ?"
          ],
          [
           "can you die from <unk> ?"
          ],
          [
           "how do you give yourself type one diabetes ?"
          ],
          [
           "is there an informational source online for diabetes in children ?"
          ],
          [
           "is there any book that has special diets for diabetics ?"
          ],
          [
           "what are some safe dessert alternatives when following a diabetic diet ?"
          ],
          [
           "does type two diabetes mellitus have autoimmune destruction of beta cells in pancreas ?"
          ],
          [
           "is eleven point one high for a diabetic ?"
          ],
          [
           "how does a type one diabetic become insulin resistance ?"
          ],
          [
           "diabetes exercise ?"
          ],
          [
           "what are the two types of diabetes and how do they differ ?"
          ],
          [
           "who can suffer form diabetes ?"
          ],
          [
           "will <unk> health <unk> cover the cost of diabetic supplies ?"
          ],
          [
           "why is injecting insulin an essential part of the daily regime for most people with diabetes ?"
          ],
          [
           "how many grams of sugar should you limit yourself daily ?"
          ],
          [
           "to what group are olives <unk> in food exchange lists ?"
          ],
          [
           "is strawberry good for diabete ?"
          ],
          [
           "what are foods for a diabetic to avoid ?"
          ],
          [
           "what are the signs of diabetic peripheral neuropathy ?"
          ],
          [
           "can diabetes prevent surgery ?"
          ],
          [
           "does having diabetes affect the healing of genital herpes ?"
          ],
          [
           "why would insulin not bring down a high sugar reading ?"
          ],
          [
           "in gestational diabetes <unk> a medicine of mother tincture safe in pregnancy ?"
          ],
          [
           "how do you manage diabetes ?"
          ],
          [
           "how much pizza can you have when you have diabetes type two ?"
          ],
          [
           "what parts of the world are affected by diabetes ?"
          ],
          [
           "what are some good tasting diabetic recipes ?"
          ],
          [
           "do carbohydrates cause fatigue ?"
          ],
          [
           "is it okay for a diabetic to eat cheese ?"
          ],
          [
           "do you have pre-diabetes fasting glucose tests range from ninety eight to one hundred and fourteen ?"
          ],
          [
           "diabetes guidelines ?"
          ],
          [
           "what gland is responsible for diabetes insipidus ?"
          ],
          [
           "is there a surgery for type two diabetes to temporarily stop the need of insulin ?"
          ],
          [
           "what does it mean if you have low grade fever for a weak ?"
          ],
          [
           "who of ten people who has diabetes ?"
          ],
          [
           "what happens if a person is unable to regulate his or her blood sugar ?"
          ],
          [
           "what are diabetes effects on the body ?"
          ],
          [
           "how long do type two diabetics live ?"
          ],
          [
           "can diabetics be doctors ?"
          ],
          [
           "when was the recent world diabetes day celebrated ?"
          ],
          [
           "safe diabetic diet plans ?"
          ],
          [
           "what parts of the human body is affected by diabetes ?"
          ],
          [
           "is there any side effects of paneer ka phool on diabetes patient ?"
          ],
          [
           "which type of diabetes is sometimes referred to as juvenile diabetes ?"
          ],
          [
           "does drinking coffee lower blood sugar ?"
          ],
          [
           "is feeling sick in the morning a symptom of diabetes ?"
          ],
          [
           "what type of food are diabetics meant to eat ?"
          ],
          [
           "does vitamin e raise blood sugar ?"
          ],
          [
           "what is caused by the body is inability to produce or properly use insulin ?"
          ],
          [
           "how do people with type two diabetes look ?"
          ],
          [
           "can the same diet plan be used for type one and type two diabetes ?"
          ],
          [
           "is seventy a good blood glucose level ?"
          ],
          [
           "does herbs actually help diabetes ?"
          ],
          [
           "does a molecule of starch have more stored energy than a glucose molecule and why ?"
          ],
          [
           "is there a list of foods for type two diabetics ?"
          ],
          [
           "effect of high blood sugar on body ?"
          ],
          [
           "in what year was insulin first used to treat diabetes ?"
          ],
          [
           "what in the urine would indicate diabetes ?"
          ],
          [
           "what type of fermentation takes place in your muscles when you exercise vigorously ?"
          ],
          [
           "what is a good diabetes recipe ?"
          ],
          [
           "how do you control sugar level in a diabetic child ?"
          ],
          [
           "what is a good resource to use to obtain a diabetic diet sheet ?"
          ],
          [
           "what is the nursing diagnosis for <unk> ?"
          ],
          [
           "should a person who is already a insulin dependent diabetic start seroquel <unk> fifty mg ?"
          ],
          [
           "what are some diabetic supplements for people with diabetes ?"
          ],
          [
           "how many hours should you fast before taking your diabetes test ?"
          ],
          [
           "should diabetics eat carb ?"
          ],
          [
           "what resistance leads to hyperglycemia and ketoacidosis ?"
          ],
          [
           "what organs do type two diabetes affect ?"
          ],
          [
           "how is exercise related to diabetes ?"
          ],
          [
           "can diabetes supplies be ordered online ?"
          ],
          [
           "what are some high blood sugar symptoms ?"
          ],
          [
           "what is a normal blood sugar ?"
          ],
          [
           "what type of natural sugar will not spike insulin levels ?"
          ],
          [
           "what should you do if you have type one diabetes and have your recommended level of sugar yet still feel low on energy ?"
          ],
          [
           "can the <unk> have diabetes ?"
          ],
          [
           "how can a person make sure their blood sugar is at a normal level ?"
          ],
          [
           "is dates good for diabetic patient ?"
          ],
          [
           "how do <unk> treat diabetes ?"
          ],
          [
           "what are the best drinks to lower blood sugar levels ?"
          ],
          [
           "what is the cause of constant fatigue ?"
          ],
          [
           "what kinds of foods can i incorporate into a borderline diabetic diet ?"
          ],
          [
           "are there any diabetes treatments that do not require conventional medicine ?"
          ],
          [
           "are you a diabetic if your test result is glucose ac five point six and glucose pc <unk> <unk> ?"
          ],
          [
           "teens with diabetes can eat sugar sweets and deserts ?"
          ],
          [
           "what are the best ways of controlling diabetes ?"
          ],
          [
           "is the cabbage soup seven day diet good to go on with diabetes ?"
          ],
          [
           "where can someone purchase diabetic cookbooks ?"
          ],
          [
           "do diabetic people need to smoke ?"
          ],
          [
           "is the gold side of test strips for diabetic testing made out of gold ?"
          ],
          [
           "what happens when people get type two diabetes ?"
          ],
          [
           "how old can you be to have diabetes ?"
          ],
          [
           "what type of diabetes is it if it runs in the family ?"
          ],
          [
           "what can <unk> a doctor that you might have diabetes ?"
          ],
          [
           "which gland fails to produce enough of its hormone in the disease diabetes mellitus ?"
          ],
          [
           "how do you diagnose diabetes mellitus ?"
          ],
          [
           "does ham effect blood sugar ?"
          ],
          [
           "is it normal to be high on sugar ?"
          ],
          [
           "how many units of insulin are in a normal vial ?"
          ],
          [
           "can type one diabetes be transferred ?"
          ],
          [
           "is <unk> safe for diabetics ?"
          ],
          [
           "what dietary supplements can be taken to help reduce diabetes ?"
          ],
          [
           "which groups of people are high at becoming diabetic why is this ?"
          ],
          [
           "is there help for diabetic cold no feeling feet ?"
          ],
          [
           "where can i find something to check my blood glucose levels ?"
          ],
          [
           "could low high blood sugar be making you very tired immediately after you eat ?"
          ],
          [
           "how can <unk> smoking affect the sugar level of a diabetic person ?"
          ],
          [
           "what are the average blood sugar levels in a twenty three year old female ?"
          ],
          [
           "can the sugar <unk> <unk> cause diabetes ?"
          ],
          [
           "why diabetes is a government health priority ?"
          ],
          [
           "what causes nausea frequent urination and fatigue ?"
          ],
          [
           "what are two hormones that regulate blood sugar ?"
          ],
          [
           "what should a diabetic person do ?"
          ],
          [
           "what is a high blood sugar level ?"
          ],
          [
           "what happens if you eat too many sugar ?"
          ],
          [
           "how do i identify the symptoms of diabetes ?"
          ],
          [
           "can you wean yourself off of insulin ?"
          ],
          [
           "what is dm diabetes mellitus ?"
          ],
          [
           "how is insulin administered ?"
          ],
          [
           "how do you get diabetes in your life ?"
          ],
          [
           "what test is used to diagnosis of diabetes mellitus ?"
          ],
          [
           "where can i find a sample diabetic diet ?"
          ],
          [
           "what are two symptoms of diabetes mellitus ?"
          ],
          [
           "why would a diabetic need an insulin shot ?"
          ],
          [
           "what naturally causes your blood sugar levels to increase ?"
          ],
          [
           "diabetes is caused due to malfunctioning of ?"
          ],
          [
           "what are some really good <unk> recipes for deserts ?"
          ],
          [
           "what is the best diet for a person with diabetes ?"
          ],
          [
           "would a pregnant diabetic woman have diabetic babies ?"
          ],
          [
           "what is an effective way to reduce risk of heart disease cancer diabetes and other serious illnesses ?"
          ],
          [
           "guinea pig weight loss ?"
          ],
          [
           "can a seizure seem similar to a diabetic hypoglycemic reaction combined with a few seconds of unconsciousness ?"
          ],
          [
           "how many people are diagnosed with diabetes each day ?"
          ],
          [
           "what are types of diabetes ?"
          ],
          [
           "can too much insulin kill you ?"
          ],
          [
           "this is an odd question but does glucose have any other <unk> or jobs in the <unk> other than a food or fuel for metabolism ?"
          ],
          [
           "what does a low blood glucose level indicate ?"
          ],
          [
           "what is grade two <unk> ?"
          ],
          [
           "high concentrations of <unk> in the blood are associated with the development of ?"
          ],
          [
           "in the one thousand , nine hundred and twenty <unk> physician <unk> <unk> treated drug addiction by <unk> <unk> comas through <unk> of what <unk> drug ?"
          ],
          [
           "how do i prevent developing diabetes ?"
          ],
          [
           "what research has been done on <unk> ?"
          ],
          [
           "what meals ready to eat would be appropriate for diabetics ?"
          ],
          [
           "what are medications that people with diabetes take ?"
          ],
          [
           "if i have diabetes type two when should i take my blood sugar levels ?"
          ],
          [
           "is there a cure for diabetes type two coming up <unk> soon ?"
          ],
          [
           "what is the chance of getting type one diabetes ?"
          ],
          [
           "is diabetes a <unk> disease ?"
          ],
          [
           "can diabetes be detected before the symptoms appear diabetes mellitus ?"
          ],
          [
           "can a husband is diabetes be the cause of a miscarriage ?"
          ],
          [
           "what are symptoms of a diabetic foot ?"
          ],
          [
           "what exactly is a diabetic recipe ?"
          ],
          [
           "can people with diabetes eat proteins ?"
          ],
          [
           "what is the best diet to follow if you have type two diabetes ?"
          ],
          [
           "what would a diabetics diet menu consist of ?"
          ],
          [
           "where does insulin get injected ?"
          ],
          [
           "can you lose your fertility from diabetes ?"
          ],
          [
           "what is diabetes best characterized by ?"
          ],
          [
           "is honey good for diabetes ?"
          ],
          [
           "if you are fifteen and have type one diabetes can you die ?"
          ],
          [
           "what is the importance of foot care and cleaning for people with diabetes ?"
          ],
          [
           "can the loss of an appendix cause diabetes ?"
          ],
          [
           "how many children in the us have type two diabetes ?"
          ],
          [
           "is lettuce good for diabetic ?"
          ],
          [
           "how does a healthy person is body respond to sugar entering the blood ?"
          ],
          [
           "what groups of women get diabetes more often ?"
          ],
          [
           "is brand better in diabetic insulin ?"
          ],
          [
           "what if your diabetic client asks you to fill a syringe with her morning dose of insulin what should you do ?"
          ],
          [
           "how long does it take for fruit to raise blood sugar level ?"
          ],
          [
           "why is <unk> needed for men with diabetes ?"
          ],
          [
           "is type one diabetes contagious ?"
          ],
          [
           "does diabetes cause loss of <unk> in dogs ?"
          ],
          [
           "why some foods may taste sweet but have very little glucose ?"
          ],
          [
           "where are the ribosomes that manufacture proteins for transport out of the cell located ?"
          ],
          [
           "why is it difficult for type one diabetics to lose weight ?"
          ],
          [
           "ayurveda medicine for diabeties ?"
          ],
          [
           "who discovered type one diabetes ?"
          ],
          [
           "what are some diabetes diets ?"
          ],
          [
           "what should you do if you have most of the symptoms of diabetes ?"
          ],
          [
           "what is diabetes gangrene ?"
          ],
          [
           "is there a list of foods that can lower diabetes risk ?"
          ],
          [
           "blood sugar levels are lowered by ?"
          ],
          [
           "what is a diabetic exchange diet ?"
          ],
          [
           "what system is causes by diabetes mellitus ?"
          ],
          [
           "can the diabetic exchange diet be used by teenagers ?"
          ],
          [
           "how do you use paneer booti ?"
          ],
          [
           "what effect does eating have on blood glucose level ?"
          ],
          [
           "what is a noninfectious disease in which the body secretes too little insulin ?"
          ],
          [
           "is cereal suitable for diabetic patient ?"
          ],
          [
           "diabetes diets ?"
          ],
          [
           "how do you keep sugar levels for diabetes regulated ?"
          ],
          [
           "how many grams of sugar are allowed for an adult with type two diabetes ?"
          ],
          [
           "actually you have diabetes last three years now you feel duration sex your timing is very short please advise you how you increase your timing ?"
          ],
          [
           "can diabetics use <unk> <unk> ?"
          ],
          [
           "what happens if you inject too much insulin ?"
          ],
          [
           "what two factors mainly influence <unk> precipitation ?"
          ],
          [
           "what levels of blood glucose indicates diabetes ?"
          ],
          [
           "should a diabetic eat <unk> nuts honey etc . ?"
          ],
          [
           "why do diabetics have to eat carbohydrates ?"
          ],
          [
           "what are some recipes for sweets other than diabetic cakes ?"
          ],
          [
           "what happened when low blood sugar is detected ?"
          ],
          [
           "is type two diabetes hereditary ?"
          ],
          [
           "can a type two diabetic be a <unk> <unk> ?"
          ],
          [
           "how is retinopathy diagnosed ?"
          ],
          [
           "what does diabetes do to the body ?"
          ],
          [
           "what research has been done on <unk> <unk> ?"
          ],
          [
           "if i have diabetes can i have fruit ?"
          ],
          [
           "what is the normal range of blood sugar ?"
          ],
          [
           "can you lose your hands and fingers due to diabetes ?"
          ],
          [
           "can eating to much honey cause you to become diabetic ?"
          ],
          [
           "what is the scientific name for glucose ?"
          ],
          [
           "what is type one diabetes ?"
          ],
          [
           "is stevia ok for diabetic ?"
          ],
          [
           "what happens to someone who has diabetes ?"
          ],
          [
           "do the consumption of apricot increase sugar levels ?"
          ],
          [
           "why would you take <unk> for diabetes insipidus ?"
          ],
          [
           "how does <unk> starts in a diabetic patient ?"
          ],
          [
           "what is considered and good low and high blood sugar ?"
          ],
          [
           "how fast do sleeping pills work ?"
          ],
          [
           "where can i find out more about diabetic menu ?"
          ],
          [
           "can water melon can be eaten by diabetic ?"
          ],
          [
           "can a child with diabetes receive social security benefits ?"
          ],
          [
           "can smoking cigarettes increases the sugar levels ?"
          ],
          [
           "what causes urine specific gravity to be high ?"
          ],
          [
           "what does <unk> mean on <unk> check glucose meter for diabetes ?"
          ],
          [
           "diabetes mellitus is a disorder caused by malfunction of the ?"
          ],
          [
           "is diabetes mellitus a chronic disease ?"
          ],
          [
           "what does insulin do to blood glucose levels ?"
          ],
          [
           "does iodine lower blood sugars ?"
          ],
          [
           "what are lancets used for ?"
          ],
          [
           "is blood that was drawn an hour and half before <unk> true readings for sugar ?"
          ],
          [
           "you are a diabetic can you still eat potatoes ?"
          ],
          [
           "when is the best time to test blood glucose levels ?"
          ],
          [
           "if your dad has diabeties will you get it ?"
          ],
          [
           "which type of sugar is found in your blood ?"
          ],
          [
           "how common is diabetes type one ?"
          ],
          [
           "does diabetes cause emotional symptoms ?"
          ],
          [
           "how many people have diabetes in the world ?"
          ],
          [
           "what is the contact information for the american diabetes association ?"
          ],
          [
           "can you get type a diabetes by dirty hands ?"
          ],
          [
           "what age can you die of diabetes ?"
          ],
          [
           "who are at risk for diabetes ?"
          ],
          [
           "how does diabetes cause ?"
          ],
          [
           "is fruit good for diabetics ?"
          ],
          [
           "is <unk> <unk> herbs is suitable for me because i am looking chinese herbs for my grand mother is diabetes ?"
          ],
          [
           "what is the substance that increases urine of untreated diabetic ?"
          ],
          [
           "how does doda paneer help in diabetes ?"
          ],
          [
           "was insulin first used in the treatment of diabetes in one thousand , nine hundred and twenty two one thousand , nine hundred and fifty two or one thousand , nine hundred and eighty two ?"
          ],
          [
           "why do diabetics develop itching arms ?"
          ],
          [
           "where can i find some diabetic cookie recipes ?"
          ],
          [
           "what are some foods for a diabetic ?"
          ],
          [
           "how does a person with type one diabetes monitor their blood glucose levels ?"
          ],
          [
           "can type one diabetes be treated with tablets ?"
          ],
          [
           "what kinds of vegetables can a diabetic eat ?"
          ],
          [
           "what will happen to your health if you eat too much chocolate ?"
          ],
          [
           "can taking drugs turn a type two into a type one ?"
          ],
          [
           "why does a diabetic crave milk ?"
          ],
          [
           "what is released after your blood sugar level is too high ?"
          ],
          [
           "what is the disease that results from lack of insulin ?"
          ],
          [
           "what research has been done on <unk> ?"
          ],
          [
           "what sugar is in your urine ?"
          ],
          [
           "are banana good for diabetic ?"
          ],
          [
           "what are the symptoms that <unk> between type i and type ii diabetes ?"
          ],
          [
           "is nine point nine glucose reading high ?"
          ],
          [
           "what are the release dates for project not me diabetes prevention - two thousand and twelve <unk> <unk> ?"
          ],
          [
           "how many types of diabetes are there ?"
          ],
          [
           "was insulin first used in the <unk> of diabetes in one thousand , nine hundred and twenty two or one thousand , nine hundred and fifty two or one thousand , nine hundred and eighty two ?"
          ],
          [
           "can a diabetic have novacaine for a root <unk> ?"
          ],
          [
           "does sugar raise blood sugar ?"
          ],
          [
           "can you have sugar with type two diabetes ?"
          ],
          [
           "do all diabetics require insulin ?"
          ],
          [
           "what are the advantages of blood glucose monitoring ?"
          ],
          [
           "why does blood sugar not go to <unk> ?"
          ],
          [
           "what is normal range for oral glucose challenge test ?"
          ],
          [
           "can diabetes make your urine smell ?"
          ],
          [
           "how many diagnosed diabetes patients are not on medication ?"
          ],
          [
           "will bypass two slim ball interact with diabetes medications ?"
          ],
          [
           "what is the youngest age to be diagnosed with diabetes ?"
          ],
          [
           "<unk> prediabetes early ?"
          ],
          [
           "what type of effect does <unk> have on diabetes ?"
          ],
          [
           "what changes does a person have to make if she or he is diagnosed with diabetes ?"
          ],
          [
           "can you recover from diabetes ?"
          ],
          [
           "does type one diabetes affect personal relationships ?"
          ],
          [
           "is there any help for diabetic ed in a man that can not take <unk> and shots dont work well ?"
          ],
          [
           "why diabetes causes kidney damage ?"
          ],
          [
           "what is found in the urine of diabetics ?"
          ],
          [
           "is fruits containing sugar bad for diabetic patients ?"
          ],
          [
           "what is the most serious type of diabetes ?"
          ],
          [
           "when was the first insulin injection given ?"
          ],
          [
           "what types of food do diabetics receive through services ?"
          ],
          [
           "what are the release dates for a day in the life of a diabetic - two thousand and ten ?"
          ],
          [
           "what is a bolus used for in medicine ?"
          ],
          [
           "is there affordable diabetic supplies available for medicare patients ?"
          ],
          [
           "what color would your urine be if you had diabetes ?"
          ],
          [
           "how do you reduce aggregation and inactivation by recombinant insulin ?"
          ],
          [
           "what happens when a cell have too few insulin ?"
          ],
          [
           "what is a good carbohydrate <unk> for a person with type two diabetes ?"
          ],
          [
           "who was <unk> <unk> ?"
          ],
          [
           "what are some target blood sugars for a diabetic ?"
          ],
          [
           "what is the normal blood sugar level for a thirteen year old ?"
          ],
          [
           "can i find any online cookbooks for diabetics ?"
          ],
          [
           "can diabetics take <unk> <unk> ?"
          ],
          [
           "is one hundred and twenty eight high for a glucose reading ?"
          ],
          [
           "what are the predisposing factors in gestational diabetes mellitus ?"
          ],
          [
           "how do you catch type one diabetes ?"
          ],
          [
           "one plasma blood glucose is higher than whole blood glucose by what percentage ?"
          ],
          [
           "how much is six units of insulin for a diabetic ?"
          ],
          [
           "how does the body absorb glucose ?"
          ],
          [
           "how can dark chocolate help diabetics ?"
          ],
          [
           "can you have surgery to fix <unk> i had <unk> surgery to avoid infections because of diabetes but i did not think they were going to give me a nut <unk> also i lost about an inch ?"
          ],
          [
           "what medical conditions cause hands and feet to fall asleep ?"
          ],
          [
           "what are the types of insulin ?"
          ],
          [
           "what is a good cookbook for diabetics ?"
          ],
          [
           "what happens to a baby whose mother has gestational diabetes and does not get it under control ?"
          ],
          [
           "can diabetes be prevented ?"
          ],
          [
           "how do you keep your weight and blood sugar down when you have diabetes ?"
          ],
          [
           "diabetic foot pain ?"
          ],
          [
           "what gene and chromosome causes diabetes ?"
          ],
          [
           "why is insulin <unk> ?"
          ],
          [
           "does <unk> raise blood sugar levels ?"
          ],
          [
           "serve diabetes food at <unk> parties ?"
          ],
          [
           "what does <unk> and insulin do to sugar ?"
          ],
          [
           "why is beer good ?"
          ],
          [
           "how <unk> to eat banana for a diabetes patient ?"
          ],
          [
           "does high blood sugar effect male sexual performance ?"
          ],
          [
           "can diabetics eat rice ?"
          ],
          [
           "what are signs of your cat having diabetes ?"
          ],
          [
           "is it safe to take <unk> if you have diabetes ?"
          ],
          [
           "what are some foods to help diabetics control glucose levels ?"
          ],
          [
           "can exercise and diet reverse diabetes ?"
          ],
          [
           "what to eat if you have diabetes type two ?"
          ],
          [
           "what exactly is a diabetes diet ?"
          ],
          [
           "is noni good for the body ?"
          ],
          [
           "what are three classic signs of hyperglycemia ?"
          ],
          [
           "saving money on testing and diabetes supplies ?"
          ],
          [
           "is there a diabetic meal plan that is easy to use when you are away from home ?"
          ],
          [
           "how far has research come for a cure for diabetes ?"
          ],
          [
           "can <unk> cause tingling on head ?"
          ],
          [
           "how can i maintain my blood sugar level with diabetes ?"
          ],
          [
           "how can <unk> affect you ?"
          ],
          [
           "what does insulin do to blood glucose ?"
          ],
          [
           "are there diabetic <unk> ?"
          ],
          [
           "which kill you faster diabetes or lung cancer ?"
          ],
          [
           "what is ketosis ?"
          ],
          [
           "how do you check if i am diabetic ?"
          ],
          [
           "how can you gain weight if you are a diabetic ?"
          ],
          [
           "is swollen ankles a symptom of diabetes ?"
          ],
          [
           "how do you cater for special dietary such as <unk> and diabetes ?"
          ],
          [
           "how do you get diabetes two ?"
          ],
          [
           "should a non-diabetic follow a diabetic diet menu ?"
          ],
          [
           "what is leptin secreted by ?"
          ],
          [
           "is diabetes mellitus contagious ?"
          ],
          [
           "what are some quick diabetes recipes ?"
          ],
          [
           "do you need to do a fasting blood sugar for a rapid plasma <unk> test ?"
          ],
          [
           "if your grandma had diabetes and it runs in your <unk> side of the family will you get it ?"
          ],
          [
           "what are uses of insulin ?"
          ],
          [
           "what is the normal blood sugar level for diabetes ?"
          ],
          [
           "can you get so many insulin injections that your diabetes is cured ?"
          ],
          [
           "what are side effects from insulin ?"
          ],
          [
           "what are some medical terms <unk> to diabetes ?"
          ],
          [
           "what is home remedies for blood sugar patient ?"
          ],
          [
           "can eating too much fruit cause diabetes ?"
          ],
          [
           "can insulin raise blood sugar levels ?"
          ],
          [
           "how old was nick jonas when he found out he had diabetes ?"
          ],
          [
           "what research has been done on diabetes mellitus ?"
          ],
          [
           "canadian scientist who <unk> insulin ?"
          ],
          [
           "what are the effects of diabetes ?"
          ],
          [
           "how is commercial insulin prepared ?"
          ],
          [
           "where should i go when i see symptons related to diabetes ?"
          ],
          [
           "do kids get type two diabetes more than adults ?"
          ],
          [
           "why would a person with ketoacidosis have the following heavy breathing polydipsia and tachycardia ?"
          ],
          [
           "how do you get diabetes mellitus ?"
          ],
          [
           "are salt water pools safe for diabetes ?"
          ],
          [
           "do you have diabetes ?"
          ],
          [
           "does vodka cause diabetes ?"
          ],
          [
           "how does diabetes mellitus complicate into diabetes ketoacidosis ?"
          ],
          [
           "type one and type two diabetes ?"
          ],
          [
           "is diabetes a risk factor for older teachers ?"
          ],
          [
           "diabetes in pregnancy ?"
          ],
          [
           "what is the awareness color for juvenile diabetes ?"
          ],
          [
           "if a patient is blood sugar is to low they may go into a diabetic coma ?"
          ],
          [
           "what are the physiological effects of diabetes ?"
          ],
          [
           "how many cup of rice a day you can eat if you are a diabetic ?"
          ],
          [
           "how much <unk> less insulin will the body produce prior to having diabetes ?"
          ],
          [
           "what is <unk> diabetes mellitus ?"
          ],
          [
           "what kind of supplies do diabetic is use ?"
          ],
          [
           "why do you have to use insulin when you have diabetes ?"
          ],
          [
           "what race is most likely to get diabetes ?"
          ],
          [
           "what fruit is good for gout and diabetes ?"
          ],
          [
           "how was insulin made before scientists produced it with bacteria ?"
          ],
          [
           "can diabetes be passed on to your baby ?"
          ],
          [
           "what treatment is available for high blood plasma ?"
          ],
          [
           "how to eat to best control diabetes ?"
          ],
          [
           "<unk> , pain in the ?"
          ],
          [
           "why polydipsia in diabetes type one ?"
          ],
          [
           "en do the symptoms of the type one form of <unk> disease appear ?"
          ],
          [
           "where can one find medical supplies for someone who is diabetic ?"
          ],
          [
           "what causes tingling in left hand fingers ?"
          ],
          [
           "can a insulin diabetic type two live without insulin ?"
          ],
          [
           "kids with diabetes ?"
          ],
          [
           "what fish is best for type two diabetics ?"
          ],
          [
           "do bananas increase blood sugar ?"
          ],
          [
           "is borderline diabetes also known as type two ?"
          ],
          [
           "how are obesity and type two diabetes connected ?"
          ],
          [
           "can diabetic eat <unk> ?"
          ],
          [
           "what is insulin and why does your body need it ?"
          ],
          [
           "what foods cant you eat with type two diabetes ?"
          ],
          [
           "why would there be a high glucose content after eating ?"
          ],
          [
           "what are uncommon symptoms of diabetes ?"
          ],
          [
           "does to much intake of sugar causes diabetes ?"
          ],
          [
           "should a five foot twelve year old girl weigh eighty four pounds ?"
          ],
          [
           "where can i <unk> a diabetic meal planner ?"
          ],
          [
           "how much the apparatus for blood sugar test ?"
          ],
          [
           "what does three point zero to seven point zero mean in blood sugar ?"
          ],
          [
           "is diabetes the only thing that causes high blood sugars ?"
          ],
          [
           "what diagnostic tests are used to confirm diabetes ?"
          ],
          [
           "what is the purpose of insulin ?"
          ],
          [
           "explain the effect on blood sugar levels if insulin receptors stopped working ?"
          ],
          [
           "how would you modify your diet if you had diabetes ?"
          ],
          [
           "is diabetes a virus or bacteria ?"
          ],
          [
           "what are some of the increased risks that diabetics face ?"
          ],
          [
           "if a diabetic is sweating profusely , are they experiencing high or low blood sugar ?"
          ],
          [
           "what would you say about a1c range ?"
          ],
          [
           "i an a unusually case i have try several type of medicine for my diabete can not regulate my blood sugar i need help ?"
          ],
          [
           "what is the best way to deal with a family who will not stop bringing home things that a diabetic can not eat ?"
          ],
          [
           "is a five % a1c range healthy what is the normal range ?"
          ],
          [
           "what do people with diabetes eat ?"
          ],
          [
           "how can type one and type two diabetes be different if they both cause the same problem - glucose being unable to be <unk> from the bloodstream into cells ?"
          ],
          [
           "can you tell me where to find a menu planner for diabetics ?"
          ],
          [
           "looking for advice about a a new dietary regiment of breakfast . ?"
          ],
          [
           "how much liquor does it take to kill a diabetic ?"
          ],
          [
           "can <unk> constipation affect blood glucose levels ?"
          ],
          [
           "how does diabetes affect vision ?"
          ],
          [
           "can glucometers go through <unk> screening ?"
          ],
          [
           "how does diabetes affect people ?"
          ],
          [
           "is type two diabetes <unk> than type one ?"
          ],
          [
           "what processes in the body are not functioning correctly in a patient with diabetes ?"
          ],
          [
           "can a diabetes person live to seventy year ?"
          ],
          [
           "what is a bone marrow biopsy ?"
          ],
          [
           "what is the normal range in a blood <unk> test ?"
          ],
          [
           "who was the first diabetic ?"
          ],
          [
           "can you see diabetes insipidus in preterm infants ?"
          ],
          [
           "why is insulin injected ?"
          ],
          [
           "what research has been done on <unk> ?"
          ],
          [
           "what are some methods of diabetes control ?"
          ],
          [
           "how does insulin travel around the body ?"
          ],
          [
           "can diabetes insipidus be as dangerous as diabetes mellitus ?"
          ],
          [
           "diabetes symptoms ?"
          ],
          [
           "what are some diabetes guidelines to follow in order to stay healthy ?"
          ],
          [
           "what is release when blood sugar levels fall ?"
          ],
          [
           "what is the national <unk> for diabetes ?"
          ],
          [
           "can diabetics eat liver ?"
          ],
          [
           "how do doctors test for diabetes ?"
          ],
          [
           "what to do when you have diabetes ?"
          ],
          [
           "what test is used for the diagnosis of diabetes mellitus ?"
          ],
          [
           "does diabetes affect male sexual performance ?"
          ],
          [
           "what are the best diets for diabetic ?"
          ],
          [
           "are you <unk> good for glaucoma patients ?"
          ],
          [
           "when was type one diabetes discovered ?"
          ],
          [
           "how long does insulin last in your <unk> ?"
          ],
          [
           "how many grams of sugar can be consumed by a diabetic in one day ?"
          ],
          [
           "can <unk> in drinking water cause diabetes ?"
          ],
          [
           "what is the best healthy pregnancy diet for women who are suffering from gestational diabetes ?"
          ],
          [
           "what is the difference between humulin insulin and <unk> insulin ?"
          ],
          [
           "is it a higher possibility for you to get diabetes if two family members on your <unk> side have sugar diabetes ?"
          ],
          [
           "can a diabetic eat cake ?"
          ],
          [
           "how are the lives of a person with type one diabetes the same ?"
          ],
          [
           "both of my <unk> toes have been numb for three days help ?"
          ],
          [
           "are you born with type one diabetes ?"
          ],
          [
           "what research has been done on saw <unk> ?"
          ],
          [
           "what are diabetic foot infections ?"
          ],
          [
           "if i follow a pre diabetes diet will i stay healthy and steer clear of diabetes ?"
          ],
          [
           "learn to lose weight and avoid diabetes ?"
          ],
          [
           "does high sugar cause kidney problems ?"
          ],
          [
           "which is the best insulin pen available in the market ?"
          ],
          [
           "<unk> easy explain how glucagon and insulin work together to maintain a relatively constant blood sugar level ?"
          ],
          [
           "can a cdl <unk> in florida still drive if he is a diabetic using insulin ?"
          ],
          [
           "if a twin has diabetes do they both have it ?"
          ],
          [
           "male diabetic patient type one can have babies ?"
          ],
          [
           "difference between insulin dependent diabetes and non insulin independent diabetes ?"
          ],
          [
           "what makes sweets makes your blood sugar high ?"
          ],
          [
           "where can i find a list of food for a diabetic ?"
          ],
          [
           "in what region of the body is the storage of excess body fat associated with highest risks for cardiovascular disease and diabetes ?"
          ],
          [
           "what happens with blood sugar level of four hundred and eighty ?"
          ],
          [
           "how does glucagon cause hyperglycemia ?"
          ],
          [
           "how does a <unk> light and diet coke effect a type two diabetic ?"
          ],
          [
           "how can you recognize diabetes ?"
          ],
          [
           "is a <unk> vita tab any person eat it ?"
          ],
          [
           "what are some of the major diabetes symptoms a health care worker should look for ?"
          ],
          [
           "does exercise help lowering sugar levels in type one diabetes ?"
          ],
          [
           "what is it like to have diabetes ?"
          ],
          [
           "can celiac suffers eat butter ?"
          ],
          [
           "is cinnamon good for diabetic people on a diet ?"
          ],
          [
           "blood urea nitrogen range ?"
          ],
          [
           "where can i find out more about diabetic cooking ?"
          ],
          [
           "where can someone buy a diabetes meter ?"
          ],
          [
           "blood glucose levels normal range is ?"
          ],
          [
           "what do people have that can not regulate sugar level in their blood properly ?"
          ],
          [
           "which hormone is not produced properly in diabetics ?"
          ],
          [
           "how does blood transport glucose to the cells ?"
          ],
          [
           "how is insulin produced in genetic engineering ?"
          ],
          [
           "why is a person with diabetes often hungry ?"
          ],
          [
           "should someone who is diabetic eat <unk> oranges ?"
          ],
          [
           "getting the right balance of sugar ?"
          ],
          [
           "what herb reduces blood sugars ?"
          ],
          [
           "can borderline diabetics drink ensure ?"
          ],
          [
           "what is a good list of foods a diabetic should avoid ?"
          ],
          [
           "is it dangerous taking the <unk> if you are not diabetes ?"
          ],
          [
           "what is the normal value of random blood sugar ?"
          ],
          [
           "does eating <unk> lower your blood sugar ?"
          ],
          [
           "diabetic grocery list ?"
          ],
          [
           "diabetes hypo and hyper what are they ?"
          ],
          [
           "free diabetic cookbooks ?"
          ],
          [
           "can diabetics eat orange ?"
          ],
          [
           "what are good methods of diabetes prevention ?"
          ],
          [
           "why do some people not produce or properly use insulin ?"
          ],
          [
           "where is type two diabetes commonly found ?"
          ],
          [
           "what are the symptoms of hyperglycemia ?"
          ],
          [
           "name of dog diabetes ?"
          ],
          [
           "what are some examples of a diabetic meal plan ?"
          ],
          [
           "what normal level of glucose in human blood ?"
          ],
          [
           "do diabetics develop a bad <unk> ?"
          ],
          [
           "where is glucagon in your body ?"
          ],
          [
           "what the best diet for type two diabetes ?"
          ],
          [
           "why do some athletes take glucose tablets before their races ?"
          ],
          [
           "can sodas cause diabetes ?"
          ],
          [
           "why is protein <unk> needed in diabetes ?"
          ],
          [
           "is one hundred and sixty glucose level dangerous after meal ?"
          ],
          [
           "what do you do when a diabetic has sudden low blood sugar ?"
          ],
          [
           "how can diabetic people avoid diabetic complications ?"
          ],
          [
           "ten units of inslin is how many cc ?"
          ],
          [
           "who <unk> if nick is the only one with diabetes in his family ?"
          ],
          [
           "why do i always have low blood sugar but am not diabetic and eat all of the time ?"
          ],
          [
           "what research has been done on red yeast rice extract ?"
          ],
          [
           "how is gestational diabetes diagnosed ?"
          ],
          [
           "what is the other name of diabetes mellitus ?"
          ],
          [
           "what is a safe amount of carbohydrates when you have gestational diabetes ?"
          ],
          [
           "what is a prediabetes diet ?"
          ],
          [
           "what is the ability of the human body to keep blood-sugar levels within a fairly narrow range despite the intake of meals high in carbohydrates an example of ?"
          ],
          [
           "do any other of the jonas brothers have diabetes besides nick ?"
          ],
          [
           "what are signs and symptoms for diabetic coma ?"
          ],
          [
           "can you control type two diabetes by simply not eating any sugar or carbs ever ?"
          ],
          [
           "is ther any way to find more information about diabetes and diet ?"
          ],
          [
           "how much sugar is in a can of <unk> ?"
          ],
          [
           "what is a normal sugar level for twenty year old ?"
          ],
          [
           "where do you go to find out you have diabetes ?"
          ],
          [
           "where can you find diet plans ?"
          ],
          [
           "do most diabetic cake recipes use splenda or sweet n low ?"
          ],
          [
           "is centrum silver safe for diabetics ?"
          ],
          [
           "what part of the body does diabetes affect ?"
          ],
          [
           "what is caused from lack <unk> fruits ?"
          ],
          [
           "do you have to take medication for diabetes ?"
          ],
          [
           "what gland is associated with diabetes ?"
          ],
          [
           "does glycosuria not occur in diabetes insipidus ?"
          ],
          [
           "what are the symptoms of type one and type two diabetes ?"
          ],
          [
           "how to reverse diabetes ?"
          ],
          [
           "is it nick jonas diabetic ?"
          ],
          [
           "diabetes mellitus is a disease that occurs when the body either can not produce the hormone insulin or produces an insufficient amount of insulin . the disease is caused by a <unk> in the system . ?"
          ],
          [
           "is there a blood sugar chart based on age ?"
          ],
          [
           "relationship of fiber with diabetes type two ?"
          ],
          [
           "how often should you take blood sugar ?"
          ],
          [
           "if you have diabetes does that mean you have high blood sugar ?"
          ],
          [
           "how do you diagnose diabetes ?"
          ],
          [
           "is it safe to kiss a diabetic ?"
          ],
          [
           "what are the two types of diabetes mellitus ?"
          ],
          [
           "how can you tell that you have diabetes if you did not have it before ?"
          ],
          [
           "what are some diets for <unk> with high blood sugar levels ?"
          ],
          [
           "can lactulose be given to diabetics ?"
          ],
          [
           "can a diabetic individual take <unk> ?"
          ],
          [
           "how can genetic engineering be used to treat diabetes ?"
          ],
          [
           "normal blood sugar level for type two diabetes ?"
          ],
          [
           "how is a diagnosis of diabetes mellitus confirmed ?"
          ],
          [
           "what foods are safe for diabetic dogs ?"
          ],
          [
           "can diabetic people eat dates ?"
          ],
          [
           "what types of food should diabetics avoid . ?"
          ],
          [
           "what is the healthiest and <unk> diabetic pound cake recipe ?"
          ],
          [
           "are there any diabetic weight loss programs in the <unk> <unk> area ?"
          ],
          [
           "can a <unk> <unk> have diabetes ?"
          ],
          [
           "what can be the causes of a sore not healing ?"
          ],
          [
           "where can i find more information on vitamins for diabetics ?"
          ],
          [
           "which two hormones can correct hypoglycemia ?"
          ],
          [
           "how do you get tested for type three diabetes ?"
          ],
          [
           "does fruit raise blood sugar ?"
          ],
          [
           "in metabolic <unk> does the <unk> decreases ?"
          ],
          [
           "what is the relation between diabetes and blood sugar ?"
          ],
          [
           "can mental illness be considering the same as having diabetes ?"
          ],
          [
           "what is an ideal diet for a diabetic ?"
          ],
          [
           "what are some very facts about type two diabetes ?"
          ],
          [
           "why do the diabetic patients have more urine excretion ?"
          ],
          [
           "how do you inject insulin ?"
          ],
          [
           "can you die from <unk> <unk> ?"
          ],
          [
           "when someone dies of a diabetic seizure what do they look like in detail please ?"
          ],
          [
           "what is the signs and symptoms of diabetes ?"
          ],
          [
           "where can i find more information about diabetic food charts ?"
          ],
          [
           "diabetic recipes ?"
          ],
          [
           "diabetic test strips ?"
          ],
          [
           "what hormone increases blood sugar levels ?"
          ],
          [
           "are there any recipes for the diabetic ?"
          ],
          [
           "how do you differentiate diabetes mellitus from diabetes insipidus ?"
          ],
          [
           "is weight loss a clinical symptom of type one diabetes ?"
          ],
          [
           "where can someone purchase discount diabetic supplies ?"
          ],
          [
           "what are the causes of diabetes mellitus ?"
          ],
          [
           "some kinds of diabetes ?"
          ],
          [
           "type ii diabetes is known as non-insulin dependent diabetes ?"
          ],
          [
           "what is the normal blood glucose levels for a healthy person ?"
          ],
          [
           "what does blood sugar <unk> mean ?"
          ],
          [
           "can a diabetic eat orange ?"
          ],
          [
           "what is a reputable diabetic cookbook to purchase online ?"
          ],
          [
           "where can i get a sugar free fudge recipe ?"
          ],
          [
           "what can uncontrolled diabetes lead to ?"
          ],
          [
           "what is correlation between bone density test and hypoglycemia ?"
          ],
          [
           "when you eat sugar does it turns <unk> glucose which turns into fat ?"
          ],
          [
           "what does the code <unk> mean on an medtronic mini med insulin pump ?"
          ],
          [
           "can diabetes affect the feet ?"
          ],
          [
           "does <unk> <unk> plants good for high blood and diabetic person ?"
          ],
          [
           "what are type one diabetes ?"
          ],
          [
           "is bread good for diabetic patients ?"
          ],
          [
           "what are three foods that are high in sugar ?"
          ],
          [
           "what is a diabetic comma ?"
          ],
          [
           "what is diabetes and how is it treated ?"
          ],
          [
           "can a obese diabetic regain strength of her weak thin legs by exercise ?"
          ],
          [
           "where in a cell are enzymes produced ?"
          ],
          [
           "can low blood sugar make you vomit ?"
          ],
          [
           "what should you do if you take metformin and have a blood sugar level of two hundred and five ?"
          ],
          [
           "do <unk> urine states that you a diabetic ?"
          ],
          [
           "where to get some diabetic testing supplies ?"
          ],
          [
           "how does type two diabetes impact the body over extended periods of time ?"
          ],
          [
           "is it discrimination if you has type one diabetes for the department of <unk> to not <unk> you ?"
          ],
          [
           "can artificial sweeteners raise a diabetic is blood sugar ?"
          ],
          [
           "what low blood sugar level will cause a seizure ?"
          ],
          [
           "what is normal blood sugar and how can one get this ?"
          ],
          [
           "abnormally low concentration of glucose in the blood ?"
          ],
          [
           "what can you tell me about diabetic sugar levels ?"
          ],
          [
           "is diabetes an example of hypersecretion hyposecretion or receptor problem ?"
          ],
          [
           "what is known about <unk> for diabetics ?"
          ],
          [
           "your blood sugar is one hundred and eleven without eating and you just <unk> from a cruise do you have diabetes ?"
          ],
          [
           "does insulin make glucose ?"
          ],
          [
           "is sugar apple good for diabetics ?"
          ],
          [
           "how many people in <unk> have diabetes ?"
          ],
          [
           "what <unk> with diabetes ?"
          ],
          [
           "what can one do with a medtronic insulin pump ?"
          ],
          [
           "how does high blood sugar levels affect <unk> between the cells and the blood ?"
          ],
          [
           "does having one hundred and forty <unk> mean you are diabetic after a fasting test and can a <unk> injection ten hours prior to the test influence the results ?"
          ],
          [
           "what are some healthy recipes for the diabetic consumer ?"
          ],
          [
           "is potato is good for diabetic patients ?"
          ],
          [
           "the glucose molecule has a great deal of energy in its ?"
          ],
          [
           "how insulin protects the body ?"
          ],
          [
           "what foods are on a reputable diabetic diet food list ?"
          ],
          [
           "what is the average blood sugar level for an adult woman ?"
          ],
          [
           "where can you find more information about diabetic diets ?"
          ],
          [
           "fasting sugar level of one hundred and seventy four is this number consider high ?"
          ],
          [
           "can a person without diabetes get a ulcer ?"
          ],
          [
           "what is the best restaurant chain for a diabetic ?"
          ],
          [
           "is english breakfast tea safe for diabetics ?"
          ],
          [
           "what happens when the organs on a dog shut down ?"
          ],
          [
           "what does bayer is a1c now measure ?"
          ],
          [
           "how is a person diagnosed with diabetes ?"
          ],
          [
           "does eating mangoes increase sugar level ?"
          ],
          [
           "which type of people get type one diabetes the most ?"
          ],
          [
           "what are symptoms of type two diabetes ?"
          ],
          [
           "how many types of sugar like blood sugar ?"
          ],
          [
           "if you are dying and you have diabetes should treatment for the diabetes be stopped ?"
          ],
          [
           "how would you get to know your blood sugar levels ?"
          ],
          [
           "how do you prevent diabetes ?"
          ],
          [
           "has your previous disability claim already been denied once this is my question that i need answered ?"
          ],
          [
           "does a person who urinates frequently a diabetic ?"
          ],
          [
           "is noni good for diabetics ?"
          ],
          [
           "why is type two diabetes and <unk> ?"
          ],
          [
           "how many mg of insulin are equal to one unit of insulin ?"
          ],
          [
           "what are the different types of diabetes ?"
          ],
          [
           "what causes dry mouth ?"
          ],
          [
           "is eating fish egg good for a diabetics person ?"
          ],
          [
           "diabetic testing ?"
          ],
          [
           "what type of trial might be used to determine if overweight people can lower their incidence of type ii diabetes by changing their eating habits exercising ?"
          ],
          [
           "are <unk> cravings a sign of diabetes ?"
          ],
          [
           "how can you prevent getting diabetes ?"
          ],
          [
           "how do diabetics monitor their blood sugar level ?"
          ],
          [
           "how many diseases are in the human body ?"
          ],
          [
           "you been hearing a lot about cures for diabetes type two does any one know something that really works ?"
          ],
          [
           "do you have a list of low purine foods ?"
          ],
          [
           "what foods and diet plans are good for a diabetes patient ?"
          ],
          [
           "what are diseases caused due to deficiency of iron ?"
          ],
          [
           "what is insulin responsible for ?"
          ],
          [
           "the production of too much insulin is typical of ?"
          ],
          [
           "can <unk> someone cause diabetes ?"
          ],
          [
           "<unk> - <unk> c did your blood test high for diabetes ?"
          ],
          [
           "do high triglyceride levels affect your blood sugar ?"
          ],
          [
           "can slurred speech be a symptom of diabetes ?"
          ],
          [
           "im a forty five yr old male diabetic with a enlarged <unk> gland can it kill you ?"
          ],
          [
           "can <unk> be of benefit to diabetic men ?"
          ],
          [
           "what should people with type two diabetes not eat ?"
          ],
          [
           "what is considered a normal blood sugar level ?"
          ],
          [
           "is mitchell <unk> diabetic ?"
          ],
          [
           "what gland is affected with diabetes ?"
          ],
          [
           "what class of drugs stimulates insulin release in the body and is used in type ii diabetes ?"
          ],
          [
           "where can i find a menu or diabetic foods online ?"
          ],
          [
           "are diabetic diets safe to follow ?"
          ],
          [
           "what are some insulin dependent diabetes ?"
          ],
          [
           "can a person act drunk or <unk> from low blood sugar ?"
          ],
          [
           "stomach bypass surgery cures type two diabetes in most patients ?"
          ],
          [
           "where can i find a good diabetes meal planner ?"
          ],
          [
           "what is endogenous insulin ?"
          ],
          [
           "what kind of diet do i need to follow if i am borderline diabetic ?"
          ],
          [
           "did miley cyrus break up with nick jonas because nick had diabetes ?"
          ],
          [
           "is honey good for diabetic person ?"
          ],
          [
           "`` i know lantus is a diabetes medicine , but how is it applied i could not find the lantus package insert '' ?"
          ],
          [
           "when blood glucose levels rise what happens ?"
          ],
          [
           "when you have sweets and get sleepy do you have diabetes ?"
          ],
          [
           "why is there not a cure for diabetes ?"
          ],
          [
           "a food high in added sugar ?"
          ],
          [
           "can sixty five year old diabetic eat walnuts and almonds ?"
          ],
          [
           "what does iddm mean ?"
          ],
          [
           "what <unk> could help a person with type2 diabetes ?"
          ],
          [
           "is nick jonas positive about diabetes ?"
          ],
          [
           "what foods should i eat to control my obesity ?"
          ],
          [
           "what are the advantages of undergoing a diabetic diet ?"
          ],
          [
           "what makes up your lower leg ?"
          ],
          [
           "what is treatment for <unk> on the right foot great toe you are a diabetic ?"
          ],
          [
           "what exactly does polydipsia mean ?"
          ],
          [
           "what conditions result in polydipsia and polyuria ?"
          ],
          [
           "what diet to use in reversing diabetes ?"
          ],
          [
           "how is insulin transported to the liver ?"
          ],
          [
           "how do you control type one diabetes ?"
          ],
          [
           "is broccoli is bad for diabetics ?"
          ],
          [
           "what is the difference between diabetes and diabetic ?"
          ],
          [
           "where can i find some diabetic diet plans ?"
          ],
          [
           "what foods should diabetes avoid besides sugar ?"
          ],
          [
           "what research has been done on <unk> <unk> ?"
          ],
          [
           "are there any <unk> treatments for diabetes ?"
          ],
          [
           "what will happen when you stop taking insulin ?"
          ],
          [
           "can i use sugar substitutes to make diabetic recipes for dessert ?"
          ],
          [
           "is dates good for diabetics patients ?"
          ],
          [
           "four diseases that are communicable ?"
          ],
          [
           "what is the <unk> of diabetic ?"
          ],
          [
           "your husband got diabetes and you are trying for three or four months for a second child is it something wrong with his diabetes to cause no conception or you ?"
          ],
          [
           "can type two diabetes be reversed ?"
          ],
          [
           "can someone have diabetic nephropathy without having diabeties ?"
          ],
          [
           "how can diabetes lead to hypertension ?"
          ],
          [
           "will eyesight return after retinopathy ?"
          ],
          [
           "which hormone is responsible for lowering blood suger by <unk> glucose transport into cells ?"
          ],
          [
           "is a blood sugar level of three hundred and eighty dangerous ?"
          ],
          [
           "why does <unk> affect sugar levels ?"
          ],
          [
           "what <unk> players have diabetes ?"
          ],
          [
           "does alt increase in blood effect on body ?"
          ],
          [
           "why do you need two kidneys ?"
          ],
          [
           "what does metaformin tablets do ?"
          ],
          [
           "what specifically causes the problem of diabetes ?"
          ],
          [
           "my blood sugar went from eighty six to one hundred and seventy eight to one hundred and sixty eight then shot down to fifty four is that normal ?"
          ],
          [
           "where can i find a healthy diet for a diabetic ?"
          ],
          [
           "how can bacteria be used to help people that are diabetic ?"
          ],
          [
           "how to make diabetic food for the family ?"
          ],
          [
           "is itching of the arms and legs symptoms of diabetes ?"
          ],
          [
           "why do you urinate more often with diabetes ?"
          ],
          [
           "what number is high for blood sugar ?"
          ],
          [
           "what are symptoms of high blood sugar ?"
          ],
          [
           "do diabetics eat more or less sugar ?"
          ],
          [
           "how does fasting affect glucose levels ?"
          ],
          [
           "what form of diebetes is most common ?"
          ],
          [
           "does lactulose raise your blood sugar ?"
          ],
          [
           "what causes diabetes mellitus ?"
          ],
          [
           "what are the causes of type two diabetes ?"
          ],
          [
           "what kind of diabetes did laura ingalls wilder have ?"
          ],
          [
           "what increases your risk of getting diabetes ?"
          ],
          [
           "is there a specific diet for people with diabetes ?"
          ],
          [
           "what is the <unk> a child will have type one diabetes if a thirty five year old mother who wears size six had gestational diabetes ?"
          ],
          [
           "why does high blood glucose level affect your eyesight ?"
          ],
          [
           "does low blood sugar mean you have diabetes ?"
          ],
          [
           "what are two two risk factors for diabetes type two ?"
          ],
          [
           "what is the top brand of diabetic supplies ?"
          ],
          [
           "is <unk> shrimp okay for diabetics ?"
          ],
          [
           "lack of what causes diabetes ?"
          ],
          [
           "how many grams of carbs can you eat per day if doing a low fat diet ?"
          ],
          [
           "can you drink <unk> <unk> <unk> if your diabetic ?"
          ],
          [
           "can a <unk> have diabetes ?"
          ],
          [
           "what is the <unk> for insulin ?"
          ],
          [
           "this does not mean y ?"
          ],
          [
           "what should be in a diabetic is diet book ?"
          ],
          [
           "how does diabetes spill in your urine and how do you know ?"
          ],
          [
           "what are the <unk> for type two diabetes ?"
          ],
          [
           "how is aspartame used in gum and why ?"
          ],
          [
           "how do you keep glucose level constant ?"
          ],
          [
           "does taking vitamin c increase your blood sugar level ?"
          ],
          [
           "what system is the diabetes related to ?"
          ],
          [
           "what gender does diabetes affect ?"
          ],
          [
           "treatment for diabetes ?"
          ],
          [
           "what is the best diabetic menu to follow ?"
          ],
          [
           "what does it mean if you are <unk> glucose in your urine ?"
          ],
          [
           "is blood slightly acidic ?"
          ],
          [
           "which gland produces glucagon ?"
          ],
          [
           "how did nick get diabetes ?"
          ],
          [
           "does nick jonas support the diabetes research institute ?"
          ],
          [
           "what happens if someone drink insulin human mix <unk> fifty ?"
          ],
          [
           "how did nick jonas find out he had diabetes ?"
          ],
          [
           "is there starch in your body ?"
          ],
          [
           "what is the treatment of diabetes ?"
          ],
          [
           "where can a diabetic meal plan be found ?"
          ],
          [
           "explain why type two diabetes can be <unk> type one can not ?"
          ],
          [
           "is pure cane sugar cause diabetes ?"
          ],
          [
           "where online is there a diet menu for those with diabetes ?"
          ],
          [
           "can a diabetic eat apple ?"
          ],
          [
           "how can you lower you blood sugar to normal levels ?"
          ],
          [
           "how long does the human organs take before they shutting down ?"
          ],
          [
           "is diabetes infection or <unk> ?"
          ],
          [
           "can a type two diabetic eat mango ?"
          ],
          [
           "what is the normal sugar intake for a day ?"
          ],
          [
           "what are classic signs of diabetes ?"
          ],
          [
           "how many people in america are affected with diabetes ?"
          ],
          [
           "can diabetics drink <unk> blue ?"
          ],
          [
           "how many people with type two diabetes die a year ?"
          ],
          [
           "can diabetics eat foods with garlic ?"
          ],
          [
           "what are the health risks in relation to eating too many carbs ?"
          ],
          [
           "are high school <unk> allowed to test for diabetes ?"
          ],
          [
           "what is the number one killer of children in the world ?"
          ],
          [
           "what is the author is view about type two diabetes ?"
          ],
          [
           "what does eighteen mean on a diabetes meter ?"
          ],
          [
           "what happens if diabetes is untreated ?"
          ],
          [
           "where might i find <unk> for a diabetic diet which use foods that can be prepared easily at home ?"
          ],
          [
           "how many people currently have diabetes in <unk> ?"
          ],
          [
           "can a diabetic patient eat dates ?"
          ],
          [
           "how do you live with diabetes ?"
          ],
          [
           "what are some preventions and treatments for type one diabetes ?"
          ],
          [
           "how long does diabetic diet take to work ?"
          ],
          [
           "what <unk> with diabetic ?"
          ],
          [
           "how many people are victim of diabetes in <unk> ?"
          ],
          [
           "how many types of diabetes ?"
          ],
          [
           "where can you find diabetic supplies in seattle wa ?"
          ],
          [
           "can diabetic people have carrots ?"
          ],
          [
           "what do your sugar levels have to be for diabetes ?"
          ],
          [
           "what to do when blood sugar is over eight hundred ?"
          ],
          [
           "what animal blood is used to help diabetics ?"
          ],
          [
           "is one hundred and twelve glucose high ?"
          ],
          [
           "can <unk> dew be bad for a type one diabetic ?"
          ],
          [
           "is it harmful to take insulin if you do not need it ?"
          ],
          [
           "what type of diet should someone with diabetes have ?"
          ],
          [
           "how is commercially insulin prepared ?"
          ],
          [
           "what are the early signs of diabetes ?"
          ],
          [
           "one unit of insulin equals how many mls ?"
          ],
          [
           "how long will a bottle of insulin last using sixty units daily ?"
          ],
          [
           "will my diabetes mean i can not enjoy the breakfast sweets i love ?"
          ],
          [
           "what are diabetic meals and their significance ?"
          ],
          [
           "how do you know if it is type two diabetes ?"
          ],
          [
           "what is the youngest age to get a insulin pump ?"
          ],
          [
           "can a dog develop diabetes ?"
          ],
          [
           "what types of foods can diabetics eat ?"
          ],
          [
           "does <unk> <unk> have diabetes ?"
          ],
          [
           "does vodka lower diabetic blood sugar level ?"
          ],
          [
           "are there any good diabetic carrot cake recipes ?"
          ],
          [
           "why sugar level becomes high in a <unk> patient ?"
          ],
          [
           "what you should do as the doctor detected the pregnancy diabetes at thirty five weeks of pregnancy . is the treatment at this time will be sufficient for the mother and fetus ?"
          ],
          [
           "is <unk> fruit can cure diabetic ?"
          ],
          [
           "what causes the <unk> to stop making or producing insulin ?"
          ],
          [
           "what fruits should i eat if i am diabetic ?"
          ],
          [
           "what part of the body is diabetes located ?"
          ],
          [
           "can diabetics stop using insulin ?"
          ],
          [
           "is insulin like a drug and if diabetes patients take this once then should they take it for lifetime ?"
          ],
          [
           "what hormone is responsible for the change in blood glucose between 7am and <unk> ?"
          ],
          [
           "is there anything that makes diabetes worse or better ?"
          ],
          [
           "can diabetic person eat apricot ?"
          ],
          [
           "priority nursing diagnosis of type two diabetes ?"
          ],
          [
           "what supplements help manage diabetes ?"
          ],
          [
           "how do you know if your dessert recipe is good for diabetics ?"
          ],
          [
           "what is the reason for light <unk> and shaking after you have eaten and the blood sugar is one hundred and sixteen ?"
          ],
          [
           "what are the chemicals released by ketosis ?"
          ],
          [
           "what is type i diabetes ?"
          ],
          [
           "diabetes testing during exercise ?"
          ],
          [
           "where can i find free recipes for diabetics ?"
          ],
          [
           "are there any home remedies to treat diabetes ?"
          ],
          [
           "how long does regular insulin peak if its given at seven hundred and thirty ?"
          ],
          [
           "what diabetic menu is considered the best ?"
          ],
          [
           "what are gestational diabetes affects on the child ?"
          ],
          [
           "is diabetes related to anemia ?"
          ],
          [
           "what is characteristic of the onset of insulin resistance ?"
          ],
          [
           "how many carbs allowed in a day for diabetes diets ?"
          ],
          [
           "why is the discovery of insulin by canadians so important ?"
          ],
          [
           "does diabetes make you sick ?"
          ],
          [
           "the major function of insulin is <unk> in what ?"
          ],
          [
           "what food products are good for diabetics ?"
          ],
          [
           "what if you do not treat my cat is diabetes ?"
          ],
          [
           "what care should a patient receive after a pancreatic islet cell transplantation ?"
          ],
          [
           "diabetes affects the body is ability to use what ?"
          ],
          [
           "is <unk> a diabetic ?"
          ],
          [
           "are there any companies providing a diabetes type two diet plan for under three hundred <unk> ?"
          ],
          [
           "what is a normal blood level ?"
          ],
          [
           "is diabetes infectious ?"
          ],
          [
           "what are some healthy diabetic diet plans ?"
          ],
          [
           "is there a site that could do a quick educational for diabetes diet foods that are available ?"
          ],
          [
           "do you get diabetes when you damage your pancreas ?"
          ],
          [
           "what does the hba1c test find ?"
          ],
          [
           "can type one diabetics eat honey ?"
          ],
          [
           "what are the different kinds of blood sugar levels ?"
          ],
          [
           "what is the best time to check blood sugar readings ?"
          ],
          [
           "can liver disease heal its self if the person stops drinking ?"
          ],
          [
           "does watermelon increase blood sugar ?"
          ],
          [
           "can diabetes be <unk> ?"
          ],
          [
           "what is the best diabetes diet to go on ?"
          ],
          [
           "if your blood sugar reading is one hundred and fifty five is that high ?"
          ],
          [
           "is a strict diet needed for a diabetic ?"
          ],
          [
           "diabetes is the result of a disturbance in the product of ?"
          ],
          [
           "what is diabetes management ?"
          ],
          [
           "difference between non insulin dependent diabetes and insulin dependent diabetes ?"
          ],
          [
           "what type of diabetes did larry h miller have ?"
          ],
          [
           "do people get diabetes by <unk> to much <unk> with sugar ?"
          ],
          [
           "what is the buildup of keto acids that can result from diabetes mellitus ?"
          ],
          [
           "how can a person contact the american diabetes association ?"
          ],
          [
           "early signs of diabetes mellitus ?"
          ],
          [
           "is <unk> good for diabetics ?"
          ],
          [
           "what is the best drugs for diabetes ?"
          ],
          [
           "does a diabetic get headaches after eating ?"
          ],
          [
           "what is the name of the plant from <unk> that has reportedly cured some cases of diabetes ?"
          ],
          [
           "what condition is a complication of diabetes mellitus ?"
          ],
          [
           "will high sugar make you sleepy ?"
          ],
          [
           "what is a normal result for a glucose tolerance test used to diagnose insulin resistance ?"
          ],
          [
           "what is the normal range blood sugar level ?"
          ],
          [
           "major symptom of diabetes mellitus is glucose in the urine ?"
          ],
          [
           "where does insulin travel in the body ?"
          ],
          [
           "<unk> signs of diabetes ?"
          ],
          [
           "do you get diabetes if you eat too much sweets when you have diabetes ?"
          ],
          [
           "you are suffering from extreme thirst and frequent urine you lose you feel exhausted <unk> <unk> and you missed this month period you did home pregnancy <unk> negative feel <unk> pain in lower <unk> ?"
          ],
          [
           "why do diabetics crave white flour ?"
          ],
          [
           "what did matthew dobson discover about diabetes ?"
          ],
          [
           "what will eating regular meals do ?"
          ],
          [
           "does cancer raise blood sugar ?"
          ],
          [
           "does low or high blood sugar make your chest hurt ?"
          ],
          [
           "the ideal diabetes meal ?"
          ],
          [
           "what are some diabetic foot problems known to occur ?"
          ],
          [
           "is sugar free candy still bad for a diabetic ?"
          ],
          [
           "is tequila good for a diabetic patient ?"
          ],
          [
           "why can not you get a new pancreas if you have diabetes ?"
          ],
          [
           "what and where can i go to get diabetic neuropathy treatment ?"
          ],
          [
           "what is happening to someones blood glucose levels right before a race ?"
          ],
          [
           "does the body store glucose in a form of glycogen ?"
          ],
          [
           "is it right to take oral <unk> drugs like metformin if you are taking lantus ?"
          ],
          [
           "what is a good diabetic weight loss diet plan ?"
          ],
          [
           "how do you restore blood sugar levels if its too low ?"
          ],
          [
           "treatment for diabetic neuropathy ?"
          ],
          [
           "can you have increased hunger instead of having increased thirst when having symptoms of diabetes ?"
          ],
          [
           "what is diabetic peripheral neuropathy ?"
          ],
          [
           "what to do if blood sugar is two hundred and forty five ?"
          ],
          [
           "do any <unk> have diabetes ?"
          ],
          [
           "what are the effects of <unk> on blood sugar ?"
          ],
          [
           "are jelly beans suitable for people with diabetes ?"
          ],
          [
           "how many days of medicine should be prescribed to patients with chronic diseases ?"
          ],
          [
           "which metal is present in insulin ?"
          ],
          [
           "is it bad for diabetes to eat rice ?"
          ],
          [
           "what does an eighty four glucose mean ?"
          ],
          [
           "what happens during diabetes treatment ?"
          ],
          [
           "the most immediate response to a high level of blood sugar in a human is an increase in the ?"
          ],
          [
           "can <unk> workers have diabetes ?"
          ],
          [
           "what happens when your in a coma ?"
          ],
          [
           "what are the food that patient have diabetic need to eat ?"
          ],
          [
           "how are type one and type two diabetes different ?"
          ],
          [
           "would you get diabetes if you eat a lot of junk food ?"
          ],
          [
           "what hormone is important in diabetes insipidus ?"
          ],
          [
           "can diabetic patient drink sugarcane juice ?"
          ],
          [
           "how do you confirm that you have diabetes or not ?"
          ],
          [
           "how do you make simple syrup with sodium saccharin ?"
          ],
          [
           "what is metforin used for ?"
          ],
          [
           "can <unk> eat sugar ?"
          ],
          [
           "is there any way to save the legs when one has sores during diabetes ?"
          ],
          [
           "what percentage of people in mexico have diabetes ?"
          ],
          [
           "why is the function of the hormone insulin in regulating blood sugar level a good example of a negative feedback mechanism for maintaining homeostasis ?"
          ],
          [
           "how many cats die from diabetes each year ?"
          ],
          [
           "what diseases are caused by lack of mineral fe ?"
          ],
          [
           "are diabetes meter useful ?"
          ],
          [
           "what diabetic diet recipes are the most beneficial ?"
          ],
          [
           "if ants are on your toilet bowl does it mean you have diabetes already ?"
          ],
          [
           "what is a life long condition ?"
          ],
          [
           "what is the difference between insulin and diabetics ?"
          ],
          [
           "is diabetes can eat bananas ?"
          ],
          [
           "can someone die from diabetes ?"
          ],
          [
           "can diabetics drink decaf coffee ?"
          ],
          [
           "should you go to the emergency room for a three hundred and forty eight glucose reading ?"
          ],
          [
           "what are some ways to reduce the risk of getting diabetes ?"
          ],
          [
           "how does a <unk> <unk> look like if the possible parent combination in type two diabetes ?"
          ],
          [
           "can be treated by injecting genetically engineered insulin ?"
          ],
          [
           "does diabetes get passed on ?"
          ],
          [
           "indulge in tasty snacks for diabetics ?"
          ],
          [
           "is coffee good for a diabetic ?"
          ],
          [
           "could diabetes spread ?"
          ],
          [
           "what type of <unk> does the secretion of the hormone insulin in response to changes in blood glucose levels ?"
          ],
          [
           "does nick jonas have diabetes type one or two ?"
          ],
          [
           "does a large consumption of sugar cause diabetes ?"
          ],
          [
           "why is your body producing to much insulin ?"
          ],
          [
           "can diabetic air hunger lead to death ?"
          ],
          [
           "can you die of uncontrolled high blood sugar ?"
          ],
          [
           "where can i find diabetes supplements online ?"
          ],
          [
           "best beer for diabetics ?"
          ],
          [
           "is fresh fruit bad for a diabetic ?"
          ],
          [
           "is it possible for anyone with diabetes to be healthy and not use insulin ?"
          ],
          [
           "what are some ways of eating with diabetes ?"
          ],
          [
           "information on type one diabetes ?"
          ],
          [
           "who was the first person to get diabetes ?"
          ],
          [
           "if you exercise a lot but you eat a lot of sugar can you get diabetes ?"
          ],
          [
           "are the rates in type two diabetes and obesity going up ?"
          ],
          [
           "how many diabetics are there in the world ?"
          ],
          [
           "insulin and human growth hormone are two examples of products produced by what ?"
          ],
          [
           "which diabetic cake recipes are recommended ?"
          ],
          [
           "how can unbalanced diet contribute to diabetes ?"
          ],
          [
           "what hormones inhibit insulin ?"
          ],
          [
           "is diabetes life threatening ?"
          ],
          [
           "signs to seek diabetes testing ?"
          ],
          [
           "what is the pathogen that causes diabetes ?"
          ],
          [
           "can diabetes be beat ?"
          ],
          [
           "why does sitting cross <unk> for a long time cause your legs to fall asleep ?"
          ],
          [
           "did lil boosie die from a diabetic coma ?"
          ],
          [
           "how many carbohydrates should a type two diabetic safely consume per day ?"
          ],
          [
           "what is a lack of or an inability to use the hormone insulin ?"
          ],
          [
           "can a cat die of diabetes ?"
          ],
          [
           "where can i find <unk> on an official mayo clinic diet ?"
          ],
          [
           "could you have diabetes at thirteen ?"
          ],
          [
           "what diet <unk> diabetes ?"
          ],
          [
           "what cheese can you eat as a diabetic ?"
          ],
          [
           "do diabetics need more sleep than normal people ?"
          ],
          [
           "process of producing too much insulin ?"
          ],
          [
           "blood sugar average for a person who weighs one hundred lbs ?"
          ],
          [
           "are there any good diabetic recipes books online ?"
          ],
          [
           "what are the <unk> fruits for diabetic blood sugar ?"
          ],
          [
           "what <unk> between dominant and recessive traits ?"
          ],
          [
           "are dates harmful for a diabetic ?"
          ],
          [
           "is there new injection to cure diabetic ?"
          ],
          [
           "what caused water loss in <unk> area ?"
          ],
          [
           "do people with diabetes have high blood glucose levels ?"
          ],
          [
           "does insulin go bad ?"
          ],
          [
           "which condition is a complication of diabetes mellitus ?"
          ],
          [
           "diabetes foot problems ?"
          ],
          [
           "what can you do if you passed out on the job due to diabetes and was fired for sleeping ?"
          ],
          [
           "what is the normal sugar level should be ?"
          ],
          [
           "how common are diabetes complications ?"
          ],
          [
           "glucose can be elevated in the blood of a diabetic person relate this information to glucose in the urine and glucose <unk> ?"
          ],
          [
           "does long term use of steroids cause diabetes ?"
          ],
          [
           "why does the risk for developing diabetes increase with age ?"
          ],
          [
           "when is regular insulin used ?"
          ],
          [
           "what type of mutation causes the dna <unk> to stop early ?"
          ],
          [
           "why was type two diabetes referred to as adult onset diabetes ?"
          ],
          [
           "why is a diabetic person always hungry ?"
          ],
          [
           "which are the best diabetes products on the market ?"
          ],
          [
           "how can you tell if you have diabetes ?"
          ],
          [
           "is sugar connected to diabetes ?"
          ],
          [
           "what is a diabetes care specialist ?"
          ],
          [
           "can you get a dental <unk> if you have diabetes ?"
          ],
          [
           "why is it important to diagnose diabetes early ?"
          ],
          [
           "what is the minimum range of blood sugar to start medicine ?"
          ],
          [
           "what are included in a diabetic diet menu ?"
          ],
          [
           "how effective are the treatment options at controlling the effects of diabetes type one ?"
          ],
          [
           "managing diabetic symptoms with proper nutrition ?"
          ],
          [
           "what is a normal blood glucose level ?"
          ],
          [
           "can agent orange cause pancreatic cancer if it can cause diabetes ?"
          ],
          [
           "how long will you with diabetes ?"
          ],
          [
           "what is acetone breath ?"
          ],
          [
           "diabetes meal planning services ?"
          ],
          [
           "do type two diabetic is take insulin ?"
          ],
          [
           "what fruit is the cure for diabetes ?"
          ],
          [
           "is ninety a good blood sugar ?"
          ],
          [
           "does anyone else have diabeties ?"
          ],
          [
           "what research has been done on vitamin e ?"
          ],
          [
           "can a leg ulcer cause diabetic retinopathy ?"
          ],
          [
           "why are children developing diabetes ?"
          ],
          [
           "what are patient interventions for blood glucose reading of one hundred and twenty ?"
          ],
          [
           "is seventy seven a normal blood sugar level if you have not eaten for about five hours and your extremely shaky dizzy and irritable ?"
          ],
          [
           "how does diet affect diabetes ?"
          ],
          [
           "what drug class is lantus insulin ?"
          ],
          [
           "what causes diabetes in human <unk> ?"
          ],
          [
           "does diabetes run in the jonas family ?"
          ],
          [
           "diabetes and over <unk> with track and field exercise ?"
          ],
          [
           "what happens if you smoke and have diabetes ?"
          ],
          [
           "what happens when your blood sugar is above normal ?"
          ],
          [
           "how does a doctor diagnose different types of breaks ?"
          ],
          [
           "how many adults are diagnosed with diabetic retinopathy each year ?"
          ],
          [
           "why must insulin be injected ?"
          ],
          [
           "what are some christmas cookie recipes for diabetics ?"
          ],
          [
           "how does your body keep your blood sugar level around seventy to one hundred and ten ?"
          ],
          [
           "is one hundred and sixty high for a diabetic ?"
          ],
          [
           "what is considered a normal blood sugar range ?"
          ],
          [
           "what diabetic supplies should a diabetic always have available ?"
          ],
          [
           "is twelve grams of sugar per <unk> of milk harmful for diabetics ?"
          ],
          [
           "what effect does <unk> have on blood sugars ?"
          ],
          [
           "what would be the effects of adding the sequence <unk> to insulin ?"
          ],
          [
           "is diabetes environmental ?"
          ],
          [
           "what is the molecular basis of type one diabetes ?"
          ],
          [
           "what are the two challenges of dying with chronic illness ?"
          ],
          [
           "what makes insulin in your body ?"
          ],
          [
           "are there any tissues that are insulin dependent ?"
          ],
          [
           "where can i find diabetic testing supplies to ensure that i am maintaining normal glucose levels ?"
          ],
          [
           "can obesity lead to type two diabetes ?"
          ],
          [
           "why does diabetes cause impaired blood flow ?"
          ],
          [
           "where can i find recipes for free diabetic diets ?"
          ],
          [
           "how bad is sugar in urine with type two diabetes ?"
          ],
          [
           "does soda cause diabetes ?"
          ],
          [
           "what is <unk> diabete ?"
          ],
          [
           "can a person suddenly acquire diabetes ?"
          ],
          [
           "what research has been done on vitamin k ?"
          ],
          [
           "how many diseases have no cure ?"
          ],
          [
           "is three hundred and thirty seven number considered diabetes ?"
          ],
          [
           "what are good diabetic <unk> ?"
          ],
          [
           "can a diabetic safely get a tattoo ?"
          ],
          [
           "how does and untreated diabetic remove excess glucose from your blood ?"
          ],
          [
           "where is help if you are obese ?"
          ],
          [
           "how many types of diabetes are there and how to know one type two type and three type diabetes ?"
          ],
          [
           "how easy is it to stick to a diet for diabetes ?"
          ],
          [
           "can gestational diabetes go away ?"
          ],
          [
           "what is diabtetes ?"
          ],
          [
           "who discovered the cure for diabetes ?"
          ],
          [
           "will bananas run up blood sugar ?"
          ],
          [
           "is there any way to monitor blood sugar levels without using a needle to draw blood ?"
          ],
          [
           "are you allow to eat or drink one sugar if you have diabetes ?"
          ],
          [
           "where can i find information about a gestational diabetes diet ?"
          ],
          [
           "after fasting all night , what is a normal blood sugar level in the morning ?"
          ],
          [
           "what causes diabetes melitus ?"
          ],
          [
           "a healthy diet plan for <unk> american with diabetes ?"
          ],
          [
           "diabetes support groups ?"
          ],
          [
           "can you have hypoglycemia and turn into type two diabetes ?"
          ],
          [
           "are there any websites that offer diabetes education ?"
          ],
          [
           "where online can someone find free diabetes recipes ?"
          ],
          [
           "what does burdock root cure ?"
          ],
          [
           "i had cortisol levels done the dr . sent me a paper stating that they were essentially normal . why that instead of normal or abnormal ?"
          ],
          [
           "in homeostasis what is blood glucose range between ?"
          ],
          [
           "do sore toenails have anything to do with diabetes ?"
          ],
          [
           "what is a hemoglucotest ?"
          ],
          [
           "what is the normal level for cholesterol in the blood ?"
          ],
          [
           "<unk> and diabetes ?"
          ],
          [
           "what foods would be on a diabetic food list ?"
          ],
          [
           "what causes type two diabetes ?"
          ],
          [
           "can a diabetic eat before a physical ?"
          ],
          [
           "how does the pancreas control blood glucose levels ?"
          ],
          [
           "what liquor is best for diabetics ?"
          ],
          [
           "can a diabetic have beetroot juice ?"
          ],
          [
           "besides medical treatment with insulin what else can you do everyday to minimize your chance of getting diabetes ?"
          ],
          [
           "why should insulin be refrigerated ?"
          ],
          [
           "what is diabetic recipe where can i get the recipe ?"
          ],
          [
           "how does a vet treat <unk> diabetes ?"
          ],
          [
           "do bananas raise blood sugar level ?"
          ],
          [
           "is <unk> effective in diabetes ?"
          ],
          [
           "what part of the body is affected by <unk> <unk> nine and ten ?"
          ],
          [
           "what are some good diabetic dessert recipes ?"
          ],
          [
           "why do your feet and ankles extremely swell in diabetic individuals ?"
          ],
          [
           "how can you get pregnant if your diabetic ?"
          ],
          [
           "how can one contact the american diabetes association ?"
          ],
          [
           "which type of diabetes mellitus is an insulin resistance disorder gestational type one or type two ?"
          ],
          [
           "how is type one diabetes be prevented ?"
          ],
          [
           "can headaches and hypoglycemia be related ?"
          ],
          [
           "can low blood sugar cause headaches ?"
          ],
          [
           "what controllable risk factors do type one diabetes ?"
          ],
          [
           "who discovered the causes of diabetes ?"
          ],
          [
           "how can i prevent diabetes in my family ?"
          ],
          [
           "what are some warning signs of diabetes when you are twenty years old ?"
          ],
          [
           "can you get diabetes from chocolate ?"
          ],
          [
           "how do diet and exercise help reverse diabetes ?"
          ],
          [
           "what are symptoms of low blood sugar ?"
          ],
          [
           "what kind of food should a diabetes person as to eat ?"
          ],
          [
           "what is the cpt code for injection of <unk> for <unk> <unk> ?"
          ],
          [
           "what could cause twitching in you thumb and head ?"
          ],
          [
           "the result of excess insulin is hypoglycemia ?"
          ],
          [
           "is <unk> good for diabetic ?"
          ],
          [
           "is honey not good for a diabetic person ?"
          ],
          [
           "what is insulin made of ?"
          ],
          [
           "what causes diabetes type two ?"
          ],
          [
           "what are the common diabetes symptoms ?"
          ],
          [
           "how many carbs should a five ' five '' two hundred and twenty five <unk> female type two diabetic eat per day ?"
          ],
          [
           "what kind of diet would a person with diabetes have ?"
          ],
          [
           "what is the purpose of a diabetes bracelet ?"
          ],
          [
           "can a diabetic person use <unk> for eye inflammation ?"
          ],
          [
           "can type one diabetes be spread from person to person ?"
          ],
          [
           "your big toes are numb and <unk> on the outside tip ?"
          ],
          [
           "what happens to people with diabetes pneumonia and tuberculosis ?"
          ],
          [
           "what process results in genetically different bacteria ?"
          ],
          [
           "what hormone causes diabetes ?"
          ],
          [
           "diabetes is a result of the insufficient production of what ?"
          ],
          [
           "what are ways to improve your health ?"
          ],
          [
           "what are the <unk> of diabetes ?"
          ],
          [
           "what are the most common pre diabetes symptoms ?"
          ],
          [
           "complications of diabetes ?"
          ],
          [
           "if a schnauzer has diabetes will he lose hair ?"
          ],
          [
           "when are blood glucose test and glucose tolerance test done <unk> pregnancy ?"
          ],
          [
           "how heavy do you have to be to have diabetes ?"
          ],
          [
           "what does insulin do for diabetics ?"
          ],
          [
           "what effects does diabetes have on our body system ?"
          ],
          [
           "can diabetes be eliminated after weight loss ?"
          ],
          [
           "what organ is affected by diabetes mellitus ?"
          ],
          [
           "diabetes treatments ?"
          ],
          [
           "what are signs of <unk> ?"
          ],
          [
           "where can i find more information on high blood sugar ?"
          ],
          [
           "why can mammals get diabetes ?"
          ],
          [
           "what is the correct name for diabetes health counselor ?"
          ],
          [
           "why do your teeth ache can diabetes medicine increase sensitivity ?"
          ],
          [
           "how do you control high blood sugar during pregnancy ?"
          ],
          [
           "how many <unk> have diabetes and pre-diabetes ?"
          ],
          [
           "what foods are on the diabetic food list ?"
          ],
          [
           "how many units of insulin you can increase per day in gestational diabetes ?"
          ],
          [
           "which gland produces leptin ?"
          ],
          [
           "can you drink sugar free drinks if you have diabetes ?"
          ],
          [
           "why are overweight people more likely to get diabetes ?"
          ],
          [
           "what caused diabetes ?"
          ],
          [
           "does <unk> one hundred mg tabs raise ones blood sugar a lot ?"
          ],
          [
           "where online can you find a good diabetic meal plan ?"
          ],
          [
           "how sick is a person if they wear an insulin pump ?"
          ],
          [
           "what types of food should a diabetic eat ?"
          ],
          [
           "if you have <unk> arthritis are you at risk for type one diabetes ?"
          ],
          [
           "diabetes management ?"
          ],
          [
           "what gland is important to control your blood sugar ?"
          ],
          [
           "can diabetes medicine taken with urine therapy ?"
          ],
          [
           "is it safe for a diabetic to have bypass surgery ?"
          ],
          [
           "what is the life expectancy of someone with type one diabetes ?"
          ],
          [
           "is papaya good fro diabetic patient ?"
          ],
          [
           "what is the prognosis for patients with diabetes insipidus ?"
          ],
          [
           "if your mother and father have diabetes then you will get diabetes ?"
          ],
          [
           "what are blood sugar readings at twenty mean if i have just eaten ?"
          ],
          [
           "where can i find more information on diabetes dtour diet ?"
          ],
          [
           "what research has been done on vitamin a ?"
          ],
          [
           "what is a risk factor for developing diabetes ?"
          ],
          [
           "how is type one diabetes controlled ?"
          ],
          [
           "how does diabetes effect the circulatory system ?"
          ],
          [
           "can type two diabetes be cured ?"
          ],
          [
           "is there a good book with great diabetic dessert recipes available ?"
          ],
          [
           "when a person is in treatment for diabetic ketoacidosis what happens ?"
          ],
          [
           "what is the salary range of an diabetes health counselor ?"
          ],
          [
           "what can people do to reduce their risk of developing type two or diabetes ?"
          ],
          [
           "will a type one diabetic male produce children with type one diabetes ?"
          ],
          [
           "what is a good diabetic food guide ?"
          ],
          [
           "can a sugar solution be used for diabetes ?"
          ],
          [
           "can a diabetic patient can have <unk> <unk> ?"
          ],
          [
           "what does frequent blood sugar levels over one hundred and sixty after eating mean ?"
          ],
          [
           "do you get diabetes if you get scared or any other kind of disease ?"
          ],
          [
           "i need some new pointers for a new diet can you give me the best diet plans ?"
          ],
          [
           "what type of cereal is good for a person with diabetes ?"
          ],
          [
           "how could i tell if my <unk> has got diabetes ?"
          ],
          [
           "what is a healthy blood sugar range ?"
          ],
          [
           "where could one find a list of food suitable for diabetics ?"
          ],
          [
           "can you join the coast guard if you are a diabetic ?"
          ],
          [
           "where can you find a diabetic cake recipe ?"
          ],
          [
           "does having diabetes cause semen to taste differently ?"
          ],
          [
           "does any famous <unk> have diabetes ?"
          ],
          [
           "how many diabetics are there in the uk ?"
          ],
          [
           "what happens when a diabetic takes <unk> when not needed ?"
          ],
          [
           "where can one find information on the best diabetic desserts ?"
          ],
          [
           "whats cells of the body are affected by diabetes ?"
          ],
          [
           "how is diabetes genetically transferred ?"
          ],
          [
           "does fructose have a strong effect on blood sugar ?"
          ],
          [
           "why do people do <unk> ?"
          ],
          [
           "what foods lower blood sugars and help lose weight ?"
          ],
          [
           "where can i find a list of diabetes symptoms ?"
          ],
          [
           "what disease is associated with blood sugar ?"
          ],
          [
           "what cells will type one diabetes damage ?"
          ],
          [
           "does diabetes reduce a person lifespan ?"
          ],
          [
           "can diabetics wear nail polish ?"
          ],
          [
           "where can i buy a diabetic pump ?"
          ],
          [
           "can low blood sugar cause you to vomit ?"
          ],
          [
           "how does type two diabetes affect your health ?"
          ],
          [
           "what is a good thesis statement for diabetes type one ?"
          ],
          [
           "what is the cure for your diabetic cat ?"
          ],
          [
           "how many grams of sugar are appropriate per day for the average teen ?"
          ],
          [
           "what is paneer booti ?"
          ],
          [
           "can feeding dogs sugar cause diabetes ?"
          ],
          [
           "how do you get diabetes ?"
          ],
          [
           "diabetic eye problems ?"
          ],
          [
           "how long does it take for a diabetic to start showing signs of lack of insulin ?"
          ],
          [
           "dangers of diabetes ?"
          ],
          [
           "what is post-prandial hypoglycemia ?"
          ],
          [
           "where to buy diabetic testing supplies ?"
          ],
          [
           "what is first organ to respond when glucose rises ?"
          ],
          [
           "how diabetes cause decrease in immunity ?"
          ],
          [
           "what age do you get type one diabetes ?"
          ],
          [
           "diabetes meters ?"
          ],
          [
           "is type ii diabetes capitalized ?"
          ],
          [
           "can cat drink human water ?"
          ],
          [
           "can you lose type two diabetes ?"
          ],
          [
           "what is the most prevalent form of diabetes ?"
          ],
          [
           "is diabetes caused by a virus or bacteria ?"
          ],
          [
           "what is an activity that goes with diabetes ?"
          ],
          [
           "why is the body unable to produce insulin ?"
          ],
          [
           "can diabetes kill you ?"
          ],
          [
           "what painkillers can a diabetic take ?"
          ],
          [
           "how is diabetes transferred ?"
          ],
          [
           "glucose fasting = ninety eight ?"
          ],
          [
           "diabetic snack ideas ?"
          ],
          [
           "who has diabetes in the jonas brothers ?"
          ],
          [
           "what steps can be taken to reduce the risk of blindness ?"
          ],
          [
           "can you take magic mushrooms if you have diabetes ?"
          ],
          [
           "how can type one diabetes be avoided ?"
          ],
          [
           "can insulin be made from cat urine ?"
          ],
          [
           "what treatments or medications for diabetes ?"
          ],
          [
           "what is the treatment of both diabetes ?"
          ],
          [
           "are there any vitamins or natural herbs that might be purchased at like a health store or a gnc <unk> that could possibly help improve type one diabetes ?"
          ],
          [
           "what are some sugar substitutes used in diabetic recipes ?"
          ],
          [
           "what is normal blood sugar rate ?"
          ],
          [
           "is frequent urination dangerous ?"
          ],
          [
           "can you be diabetic in the military ?"
          ],
          [
           "could nineteen on diabetes reading bad ?"
          ],
          [
           "can you get fired on a job at the post office due to not putting on the application you did not have diabetes ?"
          ],
          [
           "is diabetes a genetic disorder ?"
          ],
          [
           "can a person with type one diabetes become a type two diabetic ?"
          ],
          [
           "what is the most effective way of testing your blood sugar levels ?"
          ],
          [
           "how can chewing tobacco affect your diabetes ?"
          ],
          [
           "would losing weight be a good thing to do when it comes diabetes ?"
          ],
          [
           "what herbs are known to lower blood sugar ?"
          ],
          [
           "who developed the first effective treatment for diabetes ?"
          ],
          [
           "normal glucose level in urine ?"
          ],
          [
           "can <unk> twenty mg raise your blood sugar levels ?"
          ],
          [
           "what are good diets for people with diabetes ?"
          ],
          [
           "in diabetes insulin is administered intravenously explain why this hormone protein can not be taken orally ?"
          ],
          [
           "how can you test yourself for diabetes without going to a doctor or buying test strips ?"
          ],
          [
           "does <unk> <unk> have diabetes ?"
          ],
          [
           "what are some good supplements for diabetics ?"
          ],
          [
           "is juvenile diabetes o genetic disorder ?"
          ],
          [
           "can taking insulin increase <unk> ?"
          ],
          [
           "is two hundred and fifty seven glucose reading is normal ?"
          ],
          [
           "is a blood sugar level of one hundred and twenty four considered high for men who is sixty three yrs old ?"
          ],
          [
           "is finger <unk> helpful for diabetics ?"
          ],
          [
           "what is the <unk> between <unk> n insulin and novolog insulin ?"
          ],
          [
           "what to do when blood sugar is over three hundred ?"
          ],
          [
           "what does the number seven mean in diabetics ?"
          ],
          [
           "how is diabetes mellitus treated in alternative medicine ?"
          ],
          [
           "i has diabetes type1 <unk> to leave the insulin injections and use drug called januvia <unk> co . for type2 because i <unk> had very <unk> in my sleeping lead me to the epilepsy in my sleep ?"
          ],
          [
           "do they let diabetics do any part of the <unk> <unk> ?"
          ],
          [
           "are peas good for diabetics ?"
          ],
          [
           "can a diabetic be a police officer ?"
          ],
          [
           "what is abnormally high concentration of glucose in the blood ?"
          ],
          [
           "how much sugar can you have being diabetic ?"
          ],
          [
           "what does starch do for your body ?"
          ],
          [
           "is sugar in dates bad for diabetes ?"
          ],
          [
           "does diabetes affects someones physical <unk> ?"
          ],
          [
           "what type of diets for weight loss are best for a type two diabetic ?"
          ],
          [
           "six a negative feedback response in the regulates blood sugar levels ?"
          ],
          [
           "will my cat die from diabetes ?"
          ],
          [
           "where can one find cookie recipes for diabetics ?"
          ],
          [
           "what is a normal blood sugar level reading ?"
          ],
          [
           "can a diabetic join border patrol ?"
          ],
          [
           "can you eat cream crackers if you are diabetic ?"
          ],
          [
           "what is a diabetic pump used for ?"
          ],
          [
           "is alcohol harmful for diabetes ?"
          ],
          [
           "which <unk> have diabetes ?"
          ],
          [
           "what are normal blood glucose levels for an adult ?"
          ],
          [
           "what is the correct doctor for type two diabetes ?"
          ],
          [
           "what are the nutritious recipes for diabetic people ?"
          ],
          [
           "how do you treat a diabetic <unk> ?"
          ],
          [
           "what are the effects of ph in diabetic ketoacidosis ?"
          ],
          [
           "checking your blood sugar levels daily ?"
          ],
          [
           "what is the prevention of diabetes ?"
          ],
          [
           "what is the treatment for diabetes type two ?"
          ],
          [
           "where can i find more information on diabetes diet plans ?"
          ],
          [
           "what are some options for recipes for someone with diabetes ?"
          ],
          [
           "can you get diabetes after kissing a <unk> that has <unk> ?"
          ],
          [
           "what are insulin dependent diabetics ?"
          ],
          [
           "can people die from diabetic <unk> ?"
          ],
          [
           "what is the prevalence of diabetes mellitus in the philippines ?"
          ],
          [
           "create a personal diabetic food list ?"
          ],
          [
           "how can you bring down high blood pressure ?"
          ],
          [
           "can you take <unk> with type two diabetes ?"
          ],
          [
           "what research has been done on <unk> mushroom ?"
          ],
          [
           "who is <unk> <unk> that was born in one thousand , nine hundred and ninety five ?"
          ],
          [
           "what medications cause blood glucose levels to rise ?"
          ],
          [
           "can almonds cure hypoglycemia ?"
          ],
          [
           "can you get diabetes from to much sugar ?"
          ],
          [
           "when can you eat after injecting human insulin ?"
          ],
          [
           "how is insulin resistance diagnosed ?"
          ],
          [
           "what is recombinant human insulin ?"
          ],
          [
           "how many grams of sugar are in a white potato ?"
          ],
          [
           "abbreviation for three <unk> a day ?"
          ],
          [
           "can normal weight teens get type two diabetes ?"
          ],
          [
           "what is the function of <unk> ?"
          ],
          [
           "what cost <unk> ?"
          ],
          [
           "do you guys know where i can find any a1c charts ?"
          ],
          [
           "can a type one diabetic drink an energy drink an insulin dependant person ?"
          ],
          [
           "monitor your blood sugar while eating healthy ?"
          ],
          [
           "tests to find diseases in the human body ?"
          ],
          [
           "where in your body does diabetes happen ?"
          ],
          [
           "what is diabetes <unk> ?"
          ],
          [
           "what are some good recipes for diabetics ?"
          ],
          [
           "what is the normal value for sugar in urine ?"
          ],
          [
           "what is the nursing diagnosis for acute abdominal pain ?"
          ],
          [
           "is type two diabetes known as insulin dependent diabetes ?"
          ],
          [
           "how fast will thirty one grams of carbs in a banana bring up a low blood sugar of thirty eight ?"
          ],
          [
           "are there any foods that prevent diabetes ?"
          ],
          [
           "why does type one diabetes turn into type two diabetes in the future when you become an adult ?"
          ],
          [
           "can someone with diabetes have alcohol breath ?"
          ],
          [
           "who discovered that insulin was a cure for diabetes ?"
          ],
          [
           "are there certain things diabetics can or can not have or eat or drink ?"
          ],
          [
           "what is the reason why you draw first regular insulin before the nph insulin ?"
          ],
          [
           "how many grams should a type two diabetic consume per day with hyperglycemia ?"
          ],
          [
           "which is correct diabetes damage or diabetes damages ?"
          ],
          [
           "where can i find a good weight loss meal plan for a diabetic ?"
          ],
          [
           "how does dextrose and insulin lower potassium ?"
          ],
          [
           "what is the sugar <unk> of a banana ?"
          ],
          [
           "as a diabetic on metformin , what number should i consider high enough to seek a hospital ?"
          ],
          [
           "why is diabetes called diabetes mellitus ?"
          ],
          [
           "what controls the sugar metabolism ?"
          ],
          [
           "is <unk> good for diabetic patients ?"
          ],
          [
           "how do you know if you are type one diabetes ?"
          ],
          [
           "where could one find information on diabetic medical supplies ?"
          ],
          [
           "similarities between diabetes mellitus and diabetes insipidus ?"
          ],
          [
           "where can you help for diabetes ?"
          ],
          [
           "is there a combination of vitamins <unk> and b12 ?"
          ],
          [
           "what are the three major diabetic foods to avoid ?"
          ],
          [
           "what are some meals for diabetics ?"
          ],
          [
           "is diabetes a <unk> error ?"
          ],
          [
           "does diabetes produce insulin ?"
          ],
          [
           "is eating peanut butter and graham crackers a good snack for a type one diabetic ?"
          ],
          [
           "where can one find recipes suitable for diabetics ?"
          ],
          [
           "does black coffee affect your blood sugar levels ?"
          ],
          [
           "can diabetes be <unk> to you ?"
          ],
          [
           "what does ph seven point two six in diabetic ketoacidosis mean ?"
          ],
          [
           "what is the normal blood sugar level for adults ?"
          ],
          [
           "what are some good thanksgiving recipes ?"
          ],
          [
           "is type one diabetes associated with insulin resistance ?"
          ],
          [
           "are contour blood test strips <unk> the same as 7098c ?"
          ],
          [
           "what does coma mean ?"
          ],
          [
           "are oranges good for diabetic people ?"
          ],
          [
           "can pioglitazone cause <unk> <unk> on prolonged use ?"
          ],
          [
           "what is <unk> <unk> five hundred mg the after effects of using this tablet i am sixty two years old having high blood pressure and diabetic ?"
          ],
          [
           "can a diabetic eat mango ?"
          ],
          [
           "what are the chances of diabetes being hereditary ?"
          ],
          [
           "how many people have diabetes ?"
          ],
          [
           "should i eat eggs if i am on a diabetic diet ?"
          ],
          [
           "when reading a label how many gs of sugar for a diabetic allowed ?"
          ],
          [
           "is it bad to have diabetes and smoke weed ?"
          ],
          [
           "what do i say to someone who told you they have diabetes ?"
          ],
          [
           "the body of a diabetic does not produce enough of the hormone ?"
          ],
          [
           "what are the <unk> for taking biguanides and thiazolidinediones used for treating insulin resistance ?"
          ],
          [
           "what would make your toes feel numb and your foot tingling on top and have little red <unk> on inside of skin going up <unk> of leg ?"
          ],
          [
           "what causes hypoglycemia on a diabetic ?"
          ],
          [
           "what clinical findings occurs first in metabolic acidosis of a patient with type one diabetes ?"
          ],
          [
           "what does it mean if you have swollen ankles ?"
          ],
          [
           "what is a likely cause of <unk> in an adult ?"
          ],
          [
           "what are some good diabetic snack foods ?"
          ],
          [
           "what would be a good diabetic diet for someone with diabetes ?"
          ],
          [
           "is <unk> good for diabetes ?"
          ],
          [
           "can a mother who has thyroid cancer cause type one diabetes in her children ?"
          ],
          [
           "where can i find the new diabetic food list ?"
          ],
          [
           "what happens when you have diabetes ?"
          ],
          [
           "is there a vaccine for diabetes ?"
          ],
          [
           "what are various treatment options for type two diabetes ?"
          ],
          [
           "can diabetics eat <unk> ?"
          ],
          [
           "signs and symptoms of diabetes insipidus ?"
          ],
          [
           "how does one get diabetes ?"
          ],
          [
           "which country has the most cases of diabetes ?"
          ],
          [
           "what does the natural <unk> of insulin production following a transplant restore ?"
          ],
          [
           "why are bacteria used to produce insulin ?"
          ],
          [
           "how common is diabetes in women ?"
          ],
          [
           "can a vegan diet be healthy for diabetics ?"
          ],
          [
           "is diabetes dominant or recessive trait ?"
          ],
          [
           "how do you prevent type one and type two diabetes ?"
          ],
          [
           "how many children are diagnosed with type one diabetes every day ?"
          ],
          [
           "how does alcohol raise blood sugar ?"
          ],
          [
           "what are the side effects of <unk> ?"
          ],
          [
           "what are the treatment for diabetes ?"
          ],
          [
           "what are the other names for type one and type two ?"
          ],
          [
           "does reliv helps type one diabetes and <unk> ?"
          ],
          [
           "how much <unk> do you give an adult pregnant patient having a one hour gestational diabetes screen ?"
          ],
          [
           "does <unk> cause blood sugar changes ?"
          ],
          [
           "what <unk> dose of insulin do i take if my blood sugar level is seventeen point zero from my pre meal measurement ?"
          ],
          [
           "will diabetes along with thyroid disease along with high blood pressure along with eye disease qualify you ?"
          ],
          [
           "what is the average life expectancy for a person with bronze diabetes ?"
          ],
          [
           "is frequent urination and dry mouth is the only cause of high blood sugar ?"
          ],
          [
           "can getting up to urinate multiple times during the night and urinating much more often than normal be symptoms other than prostate cancer ?"
          ],
          [
           "how safe is it for a diabetic to have your belly button pierced ?"
          ],
          [
           "where can one find information on different foods someone that has diabetes should eat ?"
          ],
          [
           "why does your body need insulin ?"
          ],
          [
           "do most people with diabetes suffer from type two diabetes ?"
          ],
          [
           "how effective is dr <unk> <unk> diabetes <unk> program ?"
          ],
          [
           "is cabbage good for diabetes ?"
          ],
          [
           "what is the medical term meaning death of tissue caused by diabetes ?"
          ],
          [
           "can diabetics eat cucumbers ?"
          ],
          [
           "what should your blood sugar be after a meal ?"
          ],
          [
           "what is <unk> ?"
          ],
          [
           "what diet plans help to prevent the want of glucose products ?"
          ],
          [
           "what is it called when a dog has diabetes ?"
          ],
          [
           "diet plans for diabetics ?"
          ],
          [
           "who did a <unk> of insulin for diabetes ?"
          ],
          [
           "what is a diabetic nutrition guide and what does it have on it ?"
          ],
          [
           "where can one find information on how to make diabetic cookies ?"
          ],
          [
           "what vitamins are recommended for a diabetic ?"
          ],
          [
           "can a cna shave a diabetic in the state of california ?"
          ],
          [
           "do you always have to test you <unk> dr did not tell my <unk> to test is that normal ?"
          ],
          [
           "how can diabetes in pregnancy be prevented ?"
          ],
          [
           "test for diabetes ?"
          ],
          [
           "what type of doctor treats diabetes ?"
          ],
          [
           "can <unk> get diabetes ?"
          ],
          [
           "my big toe is partially numb but it comes and goes is there anything i should be worried about ?"
          ],
          [
           "how can you tell the difference between a drunk and a diabetic ?"
          ],
          [
           "what are the symptoms of a sugar rush ?"
          ],
          [
           "what is one important dietary step to help treat type two diabetes mellitus ?"
          ],
          [
           "do all diabetic recipes offer healthier food substitutes ?"
          ],
          [
           "what causes inflammation of organs ?"
          ],
          [
           "how do you use dna technology to help treat diabetes ?"
          ],
          [
           "how do you make your hand fall asleep ?"
          ],
          [
           "can you get diabetic supplies through the mail ?"
          ],
          [
           "what research has been done on <unk> ?"
          ],
          [
           "what do you have when you have trouble <unk> things ?"
          ],
          [
           "in diabetes does the body attack itself ?"
          ],
          [
           "the substance which has a sweet fruity odor that is found in small quantities in normal urine and in larger amount in diabetic urine is ?"
          ],
          [
           "what is a good <unk> for diabetic recipes ?"
          ],
          [
           "how can decisions made in one part of the world affect people in another part of the world ?"
          ],
          [
           "does <unk> <unk> raise blood sugar ?"
          ],
          [
           "is amino acid good for diabetes ?"
          ],
          [
           "what does insluin do ?"
          ],
          [
           "what jobs can diabetics do ?"
          ],
          [
           "can a sperm cause diabetes ?"
          ],
          [
           "how are the lives of diabetic and non diabetic the same ?"
          ],
          [
           "can a type one diabetics live a normal life ?"
          ],
          [
           "are apples good for diabetic ?"
          ],
          [
           "why does your blood sugar rise after eating raisin bran cereals ?"
          ],
          [
           "can you eat peanuts if you have gestational diabetes ?"
          ],
          [
           "what can not the body control for itself if you are diabetic ?"
          ],
          [
           "what are the diabetes symptoms in dogs ?"
          ],
          [
           "can <unk> shot cause diabetes ?"
          ],
          [
           "will <unk> cause diabetes ?"
          ],
          [
           "what are some examples of communicable diseases ?"
          ],
          [
           "describe type one diabetes ?"
          ],
          [
           "what are common causes of diabetes ?"
          ],
          [
           "what are some ways to manage diabetes ?"
          ],
          [
           "when do you get diabetes type two ?"
          ],
          [
           "is hyper acidity natural to diabetic ?"
          ],
          [
           "how do you get diabetes i want to have it ?"
          ],
          [
           "what is a good blood sugar range for a diabetic ?"
          ],
          [
           "can you cure for diabetes ?"
          ],
          [
           "what are the benefits of using diabetes testing equipment ?"
          ],
          [
           "if your blood sugar is four hundred and thirty should you go to the hospital ?"
          ],
          [
           "can mental illness be as clearly defined as a <unk> illness such as diabetes ?"
          ],
          [
           "what does diabetes look like in children ?"
          ],
          [
           "where can i find a list of diabetic approved foods ?"
          ],
          [
           "can you die by peeing ?"
          ],
          [
           "what causes excess glucose in urine but not diabetic ?"
          ],
          [
           "what is diabetes in <unk> ?"
          ],
          [
           "a sixty two year old diabetic black man has a swollen left leg with areas of <unk> and blue <unk> ?"
          ],
          [
           "can insulin dependent diabetes mellitus cause chronic renal failure ?"
          ],
          [
           "why acetone odor on the breath of a patient a clinical symptom ?"
          ],
          [
           "is a blood sugar level of ninety four considered low if you are diabetic ?"
          ],
          [
           "do <unk> raise blood sugar levels ?"
          ],
          [
           "how do you explain to a patient about diabetes ?"
          ],
          [
           "what experience do you have with lipoic acid ?"
          ],
          [
           "what happens to type one diabetics if sugar is consumed ?"
          ],
          [
           "does nick jonas really have diabetes ?"
          ],
          [
           "what chemical substance does diabetes produce ?"
          ],
          [
           "one hundred and seventy two pp blood sugar ?"
          ],
          [
           "how does wind influence precipitation patterns ?"
          ],
          [
           "what is the <unk> of diabetes mellitus ?"
          ],
          [
           "can a man with diabetes have kids ?"
          ],
          [
           "having too little or no insulin available for the amount of food ingested may result in ?"
          ],
          [
           "can a diabetic male get you pregnant ?"
          ],
          [
           "managing your health at home ?"
          ],
          [
           "what are the <unk> between diabetes have to do with the pancreas and insulin ?"
          ],
          [
           "what is <unk> ?"
          ],
          [
           "what is a diabetic emergency ?"
          ],
          [
           "what happens when blood sugar is low ?"
          ],
          [
           "why drink fluids when you are sick ?"
          ],
          [
           "you just found out you are pregnant you have a six months old and had gestational diabetes that led to a <unk> section is it safe to stay pregnant and what are the risks if you do keep the baby ?"
          ],
          [
           "how does diabetes affect your physical lifestyle ?"
          ],
          [
           "`` an insulin pump covers a high glucose level , right '' ?"
          ],
          [
           "what research has been done on the zone diet ?"
          ],
          [
           "can you be a us <unk> with diabetes ?"
          ],
          [
           "when fasting what causes a persons breath to smell fruity ?"
          ],
          [
           "where can i find some information about a diet for diabetes type two ?"
          ],
          [
           "what snacks can a type two diabetics eat ?"
          ],
          [
           "does pot raise your blood sugar ?"
          ],
          [
           "what 3ps mean in diabetes ?"
          ],
          [
           "why <unk> of human insulin does not match with human body ?"
          ],
          [
           "what part of the body gets affected by obesity ?"
          ],
          [
           "what can you do if you lose your cdl due to diabetes ?"
          ],
          [
           "im fifteen what should you do if you suspect diabetes ?"
          ],
          [
           "if a woman develops diabetes only while pregnant having it go away after giving birth what are the chances of type one diabetes in the child ?"
          ],
          [
           "what if diabetes is left untreated ?"
          ],
          [
           "<unk> of type two diabetes ?"
          ],
          [
           "is type one diabetes also called niddm ?"
          ],
          [
           "is a blood glucose level of one hundred and six too high ?"
          ],
          [
           "diet for diabetes ?"
          ],
          [
           "is there a product that lowers blood sugar instantly ?"
          ],
          [
           "how do you get four hundred <unk> at six thousand , five hundred <unk> out of a four bbl carb <unk> three hundred and five ?"
          ],
          [
           "what types of cereal can diabetics eat without increasing their blood sugar dramatically ?"
          ],
          [
           "what is the <unk> of glucose ?"
          ],
          [
           "why do people take insulin ?"
          ],
          [
           "how can you tell where is sugar removed from the blood ?"
          ],
          [
           "what is diabetic foot ?"
          ],
          [
           "what are the symptoms of high blood sugar ?"
          ],
          [
           "what causes the illness diabetes ?"
          ],
          [
           "which body organ produce insulin ?"
          ],
          [
           "where do diabetic foot infections usually occur ?"
          ],
          [
           "can diabetic take date ?"
          ],
          [
           "what is an <unk> ?"
          ],
          [
           "is it true that sixty nine percent of the world is population including animals have diabetes ?"
          ],
          [
           "how is the insulin used by diabetics obtained ?"
          ],
          [
           "is eight point nine a high reading for diabetes ?"
          ],
          [
           "why is that you some time feel real weak and your blood sugar is low but when you get tested for blood sugar problem they find nothing ?"
          ],
          [
           "what word describing the lowering of the blood glucose level to normal after eating a meal ?"
          ],
          [
           "what kind of tea can a person who have type one diabetes drink ?"
          ],
          [
           "is diabetes a non communicable disease ?"
          ],
          [
           "what can cause diabetes ?"
          ],
          [
           "what does a count of twenty five thousand of white blood cells indicate ?"
          ],
          [
           "what is precision <unk> glucose meter <unk> ?"
          ],
          [
           "what does a glucose meter measure ?"
          ],
          [
           "what food can you eat on a typical type two diabetes plan ?"
          ],
          [
           "does diabetes effect you getting pregnant ?"
          ],
          [
           "how can you lose weight and control your type two diabetes ?"
          ],
          [
           "is the type two diabetes caused by your environment or your genes ?"
          ],
          [
           "what body part produces insulin so that cells can use sugar ?"
          ],
          [
           "how quickly can hypoglycemia occur after receiving nph insulin ?"
          ],
          [
           "how diabetes affect the brain ?"
          ],
          [
           "what kind of diabetes did nick jonas had ?"
          ],
          [
           "is it safe for someone without diabetes to follow a diabetics diet ?"
          ],
          [
           "is dry mouth a sign of diabetes ?"
          ],
          [
           "who is the actress in the diabetes test strip commercial ?"
          ],
          [
           "where can i get a cheap a1c calculator ?"
          ],
          [
           "how can you avoid diabetic ?"
          ],
          [
           "is wheat bread ok to eat for diabetics ?"
          ],
          [
           "what happens when a person suffers from excessive thirst and urination and his urine contains excess glucose ?"
          ],
          [
           "what research has been done on <unk> ?"
          ],
          [
           "is nick jonas worried of having diabetes ?"
          ],
          [
           "what are the possible symptoms of diabetes ?"
          ],
          [
           "where is glucose released from ?"
          ],
          [
           "what are some of the general of signs of diabetes ?"
          ],
          [
           "what is the most important step to <unk> control of diabetes ?"
          ],
          [
           "how does diabetes feel ?"
          ],
          [
           "i think im on the verge of becoming diabetic ?"
          ],
          [
           "what happens if your blood glucose level increases ?"
          ],
          [
           "what kind of different treatments are there for diabetes ?"
          ],
          [
           "what are the treatments for type one diabetes ?"
          ],
          [
           "what are normal levels for triglyceride ?"
          ],
          [
           "how is diabetes spreads among human ?"
          ],
          [
           "what nutrilite product a women with cancer can take ?"
          ],
          [
           "why is it dangerous if glucose level is too high ?"
          ],
          [
           "does watermelon raise blood sugar ?"
          ],
          [
           "is there a lot of sugar in watermelon ?"
          ],
          [
           "explain the health education for diabetic patient ?"
          ],
          [
           "your thirteen yr old <unk> is diabetic and has gone blind how will you know when it is his time to die ?"
          ],
          [
           "can your blood sugar dip while on oral diabetic medication ?"
          ],
          [
           "is it normal to feel extremely thirsty after consuming food high in sugar ?"
          ],
          [
           "is there a pill that you can take to lose weight ?"
          ],
          [
           "diets for diabetes ?"
          ],
          [
           "how was insulin invented ?"
          ],
          [
           "what types of wine to avoid if diabetic ?"
          ],
          [
           "how are carbohydrates processed in a diabetic and non diabetic person ?"
          ],
          [
           "how many hours fasting before blood test ?"
          ],
          [
           "what type of diabetes is curable ?"
          ],
          [
           "is my dog diabetic ?"
          ],
          [
           "the condition of very low blood sugar is known as ?"
          ],
          [
           "symptoms in older cats with possible diabetes ?"
          ],
          [
           "does eggs raise your blood sugar ?"
          ],
          [
           "does glycogenesis lower sugar in blood ?"
          ],
          [
           "how can one easily recognize diabetes products while shopping for food ?"
          ],
          [
           "what problems can diabetes cause a person ?"
          ],
          [
           "how does the nephron normally handle glucose in the blood ?"
          ],
          [
           "does <unk> come due to some kidney diseases why and how ?"
          ],
          [
           "would diet plans for diabetics have the foods <unk> carefully ?"
          ],
          [
           "what race is type one diabetes more common ?"
          ],
          [
           "diabetes mellitus is caused by a lack of the hormone . ?"
          ],
          [
           "what measures can be taken to prevent diabetes in adults ?"
          ],
          [
           "why glycogen in muscle can not be delivered as glucose into the blood ?"
          ],
          [
           "is diabetes one more common than diabetes two ?"
          ],
          [
           "what causes gestational diabetes ?"
          ],
          [
           "what do burps <unk> in a person with diabetes ?"
          ],
          [
           "how do you cure <unk> for a two year old ?"
          ],
          [
           "can type ii diabetes turn into type i diabetes ?"
          ],
          [
           "what is a good pre diabetes diet ?"
          ],
          [
           "can diabetics eat sago seeds ?"
          ],
          [
           "what are symptoms of going into diabetic shock and what causes it ?"
          ],
          [
           "what are steps taken for diabetes management ?"
          ],
          [
           "what type of alcohol beverage is good for a diabetic ?"
          ],
          [
           "is one hundred and seven high for glucose reading ?"
          ],
          [
           "what does sugar do for your body ?"
          ],
          [
           "which <unk> is type one diabetes related to ?"
          ],
          [
           "what type of diabetes that requires injection of insulin ?"
          ],
          [
           "what is hyperglycemia ?"
          ],
          [
           "what is the quality of service of american diabetes ?"
          ],
          [
           "is diabetes preventable ?"
          ],
          [
           "is a blood sugar level of one hundred and eighty seven average dangerous in a type two diabetic ?"
          ],
          [
           "what are some jokes about diabetes ?"
          ],
          [
           "can non diabetics have diabetic food ?"
          ],
          [
           "can honey make you diabetic ?"
          ],
          [
           "what are three types of diabetes ?"
          ],
          [
           "how can you get rid of diabetes ?"
          ],
          [
           "can a person with diabetes go through a liposuction procedure ?"
          ],
          [
           "how do you get diabities ?"
          ],
          [
           "where can i find out more about good nutrition ?"
          ],
          [
           "what type of wine is best for diabetes ?"
          ],
          [
           "are gout and diabetes linked ?"
          ],
          [
           "how can diabetes <unk> ?"
          ],
          [
           "does sex have an affect on blood sugar in a person with type two diabetes ?"
          ],
          [
           "is <unk> <unk> bad for diabetes ?"
          ],
          [
           "what are early diabetes symptoms ?"
          ],
          [
           "what body systems are affected by diabetes type two ?"
          ],
          [
           "treatment of diabetes ?"
          ],
          [
           "how has dna technology been used to try and treat diabetes ?"
          ],
          [
           "is insulin <unk> ?"
          ],
          [
           "describe a test for the presence of sugar in blood and urine ?"
          ],
          [
           "what is a drug taken by diabetics ?"
          ],
          [
           "can you take metformin with insulin ?"
          ],
          [
           "what can you do for a blood sugar level of two hundred and eighty ?"
          ],
          [
           "how to get pregnant by a men with type two diabetes ?"
          ],
          [
           "can i handle my diabetes through diet alone without any medical supplies ?"
          ],
          [
           "what was the unit of nick is sugar level ?"
          ],
          [
           "how do you cope with hypertension ?"
          ],
          [
           "why does blood sugar level go up after exercise ?"
          ],
          [
           "what does diabetes smell like ?"
          ],
          [
           "what is the normal range for preprandial blood sugar in an <unk> client who has diabetes ?"
          ],
          [
           "can diabetic neuropathy cause muscle twitching or spasms in fingers ?"
          ],
          [
           "what glucose level is high for glucosuria ?"
          ],
          [
           "can you boil liquid glucose ?"
          ],
          [
           "can a diabetic patient eat cashew - seeds ?"
          ],
          [
           "how can i improve my diabetes ?"
          ],
          [
           "what famous people have diabetes ?"
          ],
          [
           "do more boys get diabetes than girls ?"
          ],
          [
           "what are treatment options for children with diabetes ?"
          ],
          [
           "what is the level of glucose in a cat ?"
          ],
          [
           "what is the best type of diet for someone who has type-2 diabetes ?"
          ],
          [
           "what causes the amount of glucose in foods to increase ?"
          ],
          [
           "are black olives good for diabetics ?"
          ],
          [
           "can i check my blood sugar for diabetes without poking my finger ?"
          ],
          [
           "does nick like having diabetes ?"
          ],
          [
           "how do you know if your <unk> is diabetic ?"
          ],
          [
           "what does insulin do for the body ?"
          ],
          [
           "where can i find blood glucose level chart ?"
          ],
          [
           "what are the characteristics of a person with type one diabetes ?"
          ],
          [
           "how can you help someone with diabetes ?"
          ],
          [
           "can patients with type2 diabetes obtain a private pilots <unk> ?"
          ],
          [
           "does stress elevated blood sugars in non diabetics ?"
          ],
          [
           "what can smoking do to a diabetic ?"
          ],
          [
           "can diabetics use an <unk> sauna ?"
          ],
          [
           "how can i regulate my blood sugar levels when i have diabetes ?"
          ],
          [
           "why i feel nausea cramps and the <unk> to vomit after eating ?"
          ],
          [
           "what is the normal range of hb1ac ?"
          ],
          [
           "malfunctioning of which organ of body causes diabetes ?"
          ],
          [
           "can mental illness be as clearly defined as a physical illness such as diabetes ?"
          ],
          [
           "why does black coffee raise your blood sugar ?"
          ],
          [
           "how do you know you have got a <unk> on someone ?"
          ],
          [
           "is there a cure for type two diabetes ?"
          ],
          [
           "are there any cures to type one diabetes ?"
          ],
          [
           "what is you diabetic hyperglycaemic attack ?"
          ],
          [
           "should diabetics eat bananas ?"
          ],
          [
           "what do you do to bring blood sugar up ?"
          ],
          [
           "what are the most important components of a diabetic diet plan ?"
          ],
          [
           "what causes a bad taste in your mouth ?"
          ],
          [
           "can males with type one diabetes have babies ?"
          ],
          [
           "glucagon is secreted by which glands ?"
          ],
          [
           "what is the normal level of blood sugars in the morning ?"
          ],
          [
           "is a <unk> sting bad for a diabetic ?"
          ],
          [
           "what the <unk> of type two diabetes ?"
          ],
          [
           "a diabetic patient will normally have an excess of what substance in the urine ?"
          ],
          [
           "how do you measure blood glucose levels ?"
          ],
          [
           "is diabetes a dominant or recessive trait ?"
          ],
          [
           "can diabetes be prevented or not ?"
          ],
          [
           "when was nick jonas diagnosed with type one diabetes ?"
          ],
          [
           "polydipsia and polyuria are symptoms of ?"
          ],
          [
           "what are synonyms of adherence ?"
          ],
          [
           "stopped cutting last year . suicide attempt <unk> grade never told anyone . some days i am happy other days well . is it <unk> . past <unk> . no sleep . i put my self in this mess . yeah ?"
          ],
          [
           "is there any way to detect a carrier of diabetes ?"
          ],
          [
           "is there any connection between poor nutrition and diabetes ?"
          ],
          [
           "what are common type two diabetes symptoms ?"
          ],
          [
           "is dark spot on your hand a sign of diabetes ?"
          ],
          [
           "how does the <unk> respond to diabetes ?"
          ],
          [
           "what is a free diabetic cookbook used for ?"
          ],
          [
           "do you know what is diabetes ?"
          ],
          [
           "how should you go about treating diabetes ?"
          ],
          [
           "how is diabetes mellitus treated by doctors ?"
          ],
          [
           "does a diabetic seizure cause you to become physically violent ?"
          ],
          [
           "who invented insulin for diabetes ?"
          ],
          [
           "what is a person called with diabetes ?"
          ],
          [
           "what are average blood sugar numbers ?"
          ],
          [
           "what does ensure help you for ?"
          ],
          [
           "what does it mean when your blood sugar count is two hundred and ninety seven ?"
          ],
          [
           "did david <unk> lose his legs to diabetes ?"
          ],
          [
           "what are some diabetes complications ?"
          ],
          [
           "what research has been done on <unk> massage ?"
          ],
          [
           "what is an omnipod ?"
          ],
          [
           "is there a diet for type ii diabetes that will help be avoid needing insulin ?"
          ],
          [
           "how many kids die from diabetes ?"
          ],
          [
           "what is the best way for a young teenager with type one diabetes and <unk> disease to lose weight ?"
          ],
          [
           "is diabetes transferable through any body contact ?"
          ],
          [
           "how can the risk of developing type ii diabetes be reduced ?"
          ],
          [
           "what type of diet will cure diabetes ?"
          ],
          [
           "what is insulin ?"
          ],
          [
           "what enzyme does diabetes affect ?"
          ],
          [
           "what is niddm ?"
          ],
          [
           "diabetes supplies ?"
          ]
         ],
         "hovertemplate": "pc_1=%{x}<br>pc_2=%{y}<br>pc_3=%{z}<br>question=%{customdata[0]}<br>color=%{marker.color}<extra></extra>",
         "legendgroup": "",
         "marker": {
          "color": [
           -1,
           -1,
           17,
           -1,
           -1,
           -1,
           1,
           12,
           -1,
           -1,
           -1,
           0,
           19,
           -1,
           -1,
           -1,
           -1,
           -1,
           0,
           8,
           -1,
           -1,
           -1,
           -1,
           15,
           -1,
           -1,
           -1,
           -1,
           -1,
           -1,
           2,
           -1,
           2,
           -1,
           15,
           -1,
           -1,
           -1,
           -1,
           -1,
           -1,
           8,
           -1,
           -1,
           -1,
           -1,
           -1,
           7,
           -1,
           -1,
           -1,
           8,
           -1,
           20,
           -1,
           -1,
           -1,
           0,
           18,
           -1,
           12,
           -1,
           -1,
           -1,
           -1,
           -1,
           -1,
           -1,
           -1,
           14,
           -1,
           1,
           -1,
           -1,
           14,
           1,
           21,
           -1,
           -1,
           20,
           -1,
           -1,
           -1,
           -1,
           -1,
           -1,
           -1,
           -1,
           -1,
           0,
           -1,
           -1,
           -1,
           -1,
           22,
           -1,
           11,
           -1,
           -1,
           -1,
           -1,
           -1,
           12,
           -1,
           -1,
           -1,
           -1,
           -1,
           -1,
           -1,
           -1,
           -1,
           -1,
           9,
           -1,
           -1,
           -1,
           6,
           -1,
           13,
           8,
           -1,
           -1,
           -1,
           -1,
           7,
           -1,
           -1,
           -1,
           -1,
           2,
           -1,
           -1,
           -1,
           9,
           -1,
           -1,
           -1,
           -1,
           -1,
           5,
           -1,
           3,
           -1,
           -1,
           -1,
           -1,
           -1,
           3,
           -1,
           -1,
           1,
           0,
           18,
           -1,
           2,
           -1,
           4,
           -1,
           14,
           -1,
           -1,
           5,
           -1,
           -1,
           -1,
           -1,
           5,
           -1,
           -1,
           5,
           -1,
           -1,
           -1,
           -1,
           2,
           3,
           0,
           2,
           14,
           -1,
           7,
           -1,
           -1,
           14,
           -1,
           -1,
           -1,
           -1,
           6,
           -1,
           11,
           19,
           -1,
           -1,
           -1,
           -1,
           -1,
           -1,
           17,
           -1,
           -1,
           3,
           -1,
           1,
           -1,
           -1,
           4,
           20,
           -1,
           -1,
           -1,
           -1,
           2,
           -1,
           -1,
           17,
           -1,
           -1,
           20,
           -1,
           7,
           -1,
           -1,
           -1,
           17,
           -1,
           -1,
           10,
           -1,
           0,
           -1,
           -1,
           1,
           -1,
           8,
           -1,
           -1,
           -1,
           4,
           -1,
           2,
           3,
           -1,
           -1,
           -1,
           -1,
           -1,
           6,
           -1,
           0,
           -1,
           8,
           -1,
           9,
           -1,
           -1,
           -1,
           -1,
           2,
           -1,
           -1,
           0,
           -1,
           -1,
           14,
           -1,
           -1,
           -1,
           -1,
           20,
           2,
           -1,
           9,
           3,
           -1,
           -1,
           -1,
           0,
           12,
           -1,
           -1,
           -1,
           -1,
           -1,
           -1,
           -1,
           -1,
           -1,
           11,
           -1,
           -1,
           8,
           6,
           -1,
           -1,
           0,
           -1,
           10,
           3,
           -1,
           22,
           6,
           -1,
           -1,
           6,
           -1,
           -1,
           15,
           -1,
           11,
           -1,
           -1,
           15,
           -1,
           -1,
           8,
           -1,
           -1,
           -1,
           22,
           -1,
           -1,
           -1,
           0,
           3,
           3,
           5,
           -1,
           -1,
           -1,
           -1,
           9,
           -1,
           -1,
           1,
           -1,
           -1,
           -1,
           -1,
           -1,
           -1,
           -1,
           5,
           5,
           -1,
           -1,
           -1,
           2,
           20,
           21,
           -1,
           2,
           -1,
           10,
           1,
           -1,
           11,
           -1,
           14,
           -1,
           18,
           -1,
           -1,
           9,
           21,
           3,
           5,
           -1,
           13,
           20,
           -1,
           -1,
           -1,
           -1,
           0,
           2,
           -1,
           -1,
           -1,
           -1,
           -1,
           10,
           -1,
           3,
           -1,
           17,
           -1,
           -1,
           -1,
           -1,
           -1,
           -1,
           -1,
           -1,
           19,
           -1,
           -1,
           8,
           2,
           -1,
           -1,
           10,
           -1,
           8,
           19,
           19,
           -1,
           2,
           13,
           -1,
           -1,
           -1,
           -1,
           -1,
           -1,
           20,
           -1,
           16,
           18,
           -1,
           -1,
           -1,
           1,
           -1,
           -1,
           10,
           2,
           -1,
           -1,
           17,
           0,
           3,
           -1,
           -1,
           -1,
           14,
           1,
           22,
           6,
           2,
           11,
           -1,
           -1,
           2,
           2,
           -1,
           19,
           6,
           -1,
           -1,
           -1,
           -1,
           -1,
           3,
           18,
           -1,
           -1,
           0,
           -1,
           7,
           -1,
           16,
           -1,
           -1,
           -1,
           2,
           -1,
           -1,
           -1,
           -1,
           -1,
           7,
           -1,
           -1,
           -1,
           -1,
           14,
           -1,
           -1,
           -1,
           -1,
           -1,
           -1,
           -1,
           15,
           22,
           2,
           7,
           10,
           -1,
           -1,
           -1,
           2,
           -1,
           -1,
           -1,
           -1,
           -1,
           -1,
           10,
           -1,
           -1,
           -1,
           6,
           -1,
           9,
           -1,
           -1,
           14,
           14,
           -1,
           12,
           -1,
           -1,
           4,
           4,
           -1,
           -1,
           -1,
           -1,
           2,
           0,
           -1,
           3,
           2,
           -1,
           -1,
           -1,
           -1,
           -1,
           -1,
           3,
           4,
           0,
           2,
           0,
           -1,
           -1,
           0,
           -1,
           -1,
           19,
           -1,
           -1,
           -1,
           -1,
           11,
           -1,
           15,
           21,
           20,
           -1,
           -1,
           2,
           -1,
           8,
           1,
           0,
           -1,
           -1,
           -1,
           -1,
           -1,
           -1,
           0,
           -1,
           -1,
           -1,
           7,
           -1,
           -1,
           12,
           8,
           9,
           -1,
           10,
           -1,
           -1,
           -1,
           9,
           -1,
           -1,
           -1,
           -1,
           -1,
           2,
           -1,
           18,
           -1,
           -1,
           14,
           -1,
           -1,
           -1,
           11,
           -1,
           -1,
           -1,
           -1,
           2,
           2,
           -1,
           -1,
           4,
           -1,
           -1,
           -1,
           -1,
           -1,
           -1,
           10,
           9,
           -1,
           -1,
           -1,
           -1,
           14,
           16,
           -1,
           -1,
           -1,
           -1,
           -1,
           0,
           -1,
           1,
           -1,
           -1,
           -1,
           -1,
           -1,
           -1,
           -1,
           -1,
           -1,
           -1,
           -1,
           -1,
           9,
           -1,
           0,
           -1,
           -1,
           4,
           -1,
           -1,
           -1,
           8,
           -1,
           -1,
           -1,
           15,
           20,
           -1,
           -1,
           -1,
           -1,
           -1,
           6,
           -1,
           -1,
           -1,
           -1,
           9,
           -1,
           -1,
           -1,
           0,
           -1,
           -1,
           10,
           -1,
           19,
           16,
           -1,
           -1,
           -1,
           -1,
           -1,
           -1,
           -1,
           20,
           -1,
           6,
           -1,
           8,
           -1,
           -1,
           2,
           -1,
           -1,
           -1,
           -1,
           15,
           -1,
           -1,
           -1,
           6,
           -1,
           -1,
           3,
           -1,
           -1,
           -1,
           -1,
           -1,
           13,
           -1,
           -1,
           -1,
           -1,
           7,
           -1,
           -1,
           7,
           -1,
           11,
           -1,
           -1,
           5,
           -1,
           -1,
           -1,
           13,
           -1,
           -1,
           -1,
           0,
           7,
           2,
           -1,
           13,
           -1,
           -1,
           -1,
           -1,
           8,
           -1,
           3,
           -1,
           3,
           7,
           -1,
           -1,
           -1,
           11,
           -1,
           -1,
           2,
           -1,
           -1,
           -1,
           -1,
           2,
           6,
           -1,
           -1,
           7,
           -1,
           -1,
           -1,
           -1,
           -1,
           9,
           -1,
           -1,
           -1,
           8,
           -1,
           -1,
           -1,
           -1,
           14,
           -1,
           -1,
           -1,
           -1,
           19,
           -1,
           -1,
           3,
           -1,
           -1,
           -1,
           -1,
           -1,
           -1,
           -1,
           -1,
           -1,
           -1,
           -1,
           -1,
           -1,
           0,
           5,
           13,
           -1,
           -1,
           -1,
           -1,
           -1,
           -1,
           3,
           19,
           14,
           -1,
           -1,
           -1,
           -1,
           0,
           -1,
           -1,
           14,
           -1,
           9,
           -1,
           17,
           -1,
           0,
           -1,
           -1,
           -1,
           3,
           -1,
           -1,
           -1,
           -1,
           -1,
           -1,
           -1,
           -1,
           2,
           -1,
           -1,
           -1,
           -1,
           2,
           -1,
           5,
           -1,
           -1,
           -1,
           -1,
           -1,
           -1,
           -1,
           -1,
           -1,
           -1,
           -1,
           11,
           -1,
           -1,
           -1,
           -1,
           15,
           -1,
           -1,
           9,
           -1,
           -1,
           -1,
           -1,
           -1,
           14,
           -1,
           -1,
           3,
           -1,
           12,
           12,
           2,
           0,
           3,
           -1,
           -1,
           -1,
           -1,
           -1,
           13,
           -1,
           -1,
           -1,
           0,
           -1,
           4,
           2,
           -1,
           -1,
           -1,
           2,
           -1,
           -1,
           -1,
           -1,
           -1,
           -1,
           7,
           -1,
           2,
           -1,
           -1,
           -1,
           -1,
           -1,
           -1,
           -1,
           2,
           -1,
           2,
           -1,
           -1,
           -1,
           15,
           10,
           1,
           -1,
           -1,
           -1,
           -1,
           -1,
           -1,
           -1,
           -1,
           15,
           -1,
           19,
           -1,
           -1,
           -1,
           -1,
           -1,
           -1,
           6,
           -1,
           -1,
           -1,
           -1,
           -1,
           -1,
           -1,
           -1,
           -1,
           -1,
           -1,
           -1,
           21,
           21,
           14,
           -1,
           -1,
           9,
           -1,
           -1,
           12,
           -1,
           -1,
           -1,
           14,
           -1,
           -1,
           2,
           4,
           -1,
           5,
           -1,
           3,
           -1,
           2,
           0,
           8,
           -1,
           13,
           3,
           -1,
           -1,
           21,
           -1,
           -1,
           22,
           2,
           8,
           -1,
           -1,
           -1,
           -1,
           -1,
           -1,
           -1,
           22,
           -1,
           3,
           -1,
           -1,
           -1,
           -1,
           8,
           -1,
           20,
           -1,
           -1,
           -1,
           -1,
           14,
           8,
           11,
           12,
           -1,
           16,
           6,
           -1,
           -1,
           19,
           -1,
           0,
           -1,
           -1,
           6,
           -1,
           2,
           -1,
           -1,
           2,
           3,
           -1,
           11,
           -1,
           -1,
           0,
           -1,
           2,
           3,
           -1,
           -1,
           -1,
           6,
           -1,
           -1,
           -1,
           0,
           -1,
           0,
           -1,
           -1,
           -1,
           -1,
           12,
           2,
           -1,
           12,
           -1,
           -1,
           -1,
           -1,
           -1,
           7,
           2,
           2,
           -1,
           -1,
           -1,
           -1,
           -1,
           -1,
           -1,
           9,
           12,
           17,
           -1,
           -1,
           11,
           -1,
           0,
           -1,
           -1,
           -1,
           -1,
           2,
           -1,
           -1,
           -1,
           -1,
           -1,
           -1,
           -1,
           13,
           14,
           -1,
           -1,
           -1,
           -1,
           0,
           -1,
           4,
           15,
           17,
           -1,
           -1,
           12,
           -1,
           -1,
           16,
           2,
           -1,
           -1,
           -1,
           -1,
           -1,
           -1,
           16,
           -1,
           -1,
           -1,
           -1,
           -1,
           18,
           -1,
           -1,
           2,
           -1,
           -1,
           -1,
           -1,
           -1,
           21,
           -1,
           -1,
           -1,
           9,
           -1,
           1,
           -1,
           -1,
           -1,
           18,
           9,
           -1,
           10,
           -1,
           -1,
           -1,
           14,
           -1,
           9,
           -1,
           -1,
           -1,
           16,
           -1,
           -1,
           -1,
           -1,
           -1,
           -1,
           11,
           -1,
           -1,
           -1,
           -1,
           -1,
           -1,
           -1,
           -1,
           2,
           7,
           -1,
           -1,
           -1,
           12,
           -1,
           -1,
           -1,
           14,
           -1,
           -1,
           -1,
           -1,
           -1,
           0,
           -1,
           -1,
           -1,
           -1,
           -1,
           0,
           -1,
           -1,
           -1,
           -1,
           -1,
           -1,
           -1,
           -1,
           -1,
           -1,
           -1,
           8,
           14,
           -1,
           -1,
           -1,
           -1,
           8,
           18,
           -1,
           0,
           11,
           12,
           2,
           -1,
           -1,
           -1,
           -1,
           7,
           5,
           -1,
           -1,
           -1,
           17,
           -1,
           -1,
           -1,
           -1,
           -1,
           3,
           -1,
           -1,
           -1,
           -1,
           -1,
           16,
           7,
           7,
           -1,
           -1,
           2,
           22,
           14,
           -1,
           -1,
           -1,
           -1,
           -1,
           13,
           -1,
           14,
           -1,
           -1,
           -1,
           -1,
           -1,
           -1,
           -1,
           1,
           -1,
           -1,
           4,
           22,
           -1,
           -1,
           -1,
           -1,
           -1,
           -1,
           -1,
           -1,
           -1,
           9,
           -1,
           -1,
           -1,
           6,
           -1,
           -1,
           6,
           18,
           -1,
           -1,
           4,
           -1,
           -1,
           12,
           -1,
           2,
           21,
           -1,
           22,
           -1,
           20,
           -1,
           13,
           -1,
           -1,
           -1,
           -1,
           -1,
           10,
           -1,
           -1,
           3,
           -1,
           -1,
           0,
           4,
           13,
           -1,
           -1,
           -1,
           -1,
           -1,
           -1,
           -1,
           22,
           9,
           -1,
           -1,
           -1,
           -1,
           -1,
           -1,
           -1,
           21,
           -1,
           6,
           -1,
           -1,
           0,
           12,
           -1,
           -1,
           -1,
           -1,
           -1,
           -1,
           -1,
           0,
           -1,
           -1,
           -1,
           -1,
           3,
           -1,
           14,
           -1,
           -1,
           2,
           -1,
           18,
           7,
           14,
           2,
           -1,
           -1,
           1,
           9,
           -1,
           -1,
           -1,
           -1,
           -1,
           -1,
           -1,
           -1,
           3,
           3,
           -1,
           -1,
           -1,
           8,
           -1,
           -1,
           6,
           -1,
           -1,
           -1,
           14,
           -1,
           -1,
           1,
           15,
           -1,
           -1,
           -1,
           -1,
           10,
           12,
           17,
           -1,
           -1,
           0,
           12,
           -1,
           -1,
           13,
           -1,
           -1,
           -1,
           0,
           -1,
           -1,
           -1,
           -1,
           -1,
           -1,
           22,
           14,
           -1,
           -1,
           -1,
           -1,
           21,
           -1,
           -1,
           -1,
           2,
           -1,
           22,
           -1,
           -1,
           -1,
           15,
           -1,
           2,
           -1,
           -1,
           -1,
           1,
           3,
           0,
           -1,
           -1,
           -1,
           8,
           -1,
           3,
           -1,
           -1,
           18,
           10,
           13,
           -1,
           6,
           -1,
           -1,
           -1,
           -1,
           9,
           -1,
           -1,
           6,
           14,
           -1,
           -1,
           -1,
           -1,
           6,
           -1,
           -1,
           -1,
           -1,
           -1,
           -1,
           -1,
           -1,
           -1,
           -1,
           -1,
           -1,
           -1,
           11,
           12,
           -1,
           -1,
           -1,
           2,
           -1,
           7,
           -1,
           -1,
           0,
           -1,
           -1,
           0,
           -1,
           3,
           2,
           8,
           -1,
           12,
           -1,
           -1,
           -1,
           -1,
           2,
           13,
           6,
           0,
           -1,
           -1,
           -1,
           5,
           -1,
           -1,
           -1,
           -1,
           -1,
           -1,
           -1,
           -1,
           17,
           -1,
           -1,
           -1,
           -1,
           -1,
           -1,
           -1,
           -1,
           -1,
           -1,
           14,
           -1,
           -1,
           -1,
           -1,
           -1,
           3,
           -1,
           -1,
           4,
           -1,
           -1,
           -1,
           -1,
           -1,
           -1,
           -1,
           -1,
           2,
           -1,
           -1,
           -1,
           -1,
           -1,
           10,
           2,
           6,
           -1,
           -1,
           -1,
           -1,
           -1,
           12,
           -1,
           -1,
           -1,
           -1,
           -1,
           -1,
           -1,
           -1,
           -1,
           -1,
           -1,
           -1,
           -1,
           -1,
           -1,
           -1,
           -1,
           -1,
           -1,
           -1,
           -1,
           -1,
           -1,
           -1,
           -1,
           -1,
           22,
           -1,
           -1,
           -1,
           3,
           -1,
           -1,
           -1,
           -1,
           0,
           6,
           -1,
           -1,
           2,
           14,
           2,
           -1,
           -1,
           -1,
           -1,
           -1,
           0,
           0,
           -1,
           10,
           -1,
           -1,
           -1,
           -1,
           -1,
           -1,
           -1,
           -1,
           -1,
           -1,
           -1,
           -1,
           2,
           -1,
           -1,
           -1,
           -1,
           19,
           -1,
           16,
           -1,
           -1,
           -1,
           -1,
           6,
           -1,
           -1,
           12,
           -1,
           -1,
           -1,
           14,
           0,
           -1,
           9,
           -1,
           -1,
           -1,
           -1,
           -1,
           -1,
           -1,
           -1,
           -1,
           -1,
           5,
           -1,
           -1,
           5,
           -1,
           -1,
           -1,
           -1,
           -1,
           -1,
           11,
           -1,
           11,
           0,
           -1,
           -1,
           8,
           5,
           -1,
           -1,
           2,
           8,
           14,
           -1,
           -1,
           14,
           -1,
           3,
           -1,
           -1,
           -1,
           -1,
           18,
           -1,
           -1,
           -1,
           19,
           -1,
           -1,
           -1,
           20,
           2,
           -1,
           15,
           -1,
           -1,
           0,
           8,
           8,
           9,
           -1,
           -1,
           -1,
           -1,
           -1,
           17,
           -1,
           -1,
           -1,
           7,
           -1,
           -1,
           -1,
           -1,
           -1,
           13,
           14,
           6,
           -1,
           -1,
           -1,
           -1,
           16,
           16,
           5,
           -1,
           2,
           -1,
           2,
           -1,
           -1,
           -1,
           -1,
           -1,
           -1,
           -1,
           3,
           6,
           -1,
           -1,
           -1,
           12,
           14,
           -1,
           -1,
           -1,
           -1,
           1,
           3,
           -1,
           -1,
           -1,
           -1,
           0,
           -1,
           4,
           -1,
           -1,
           -1,
           -1,
           -1,
           8,
           -1,
           -1,
           -1,
           20,
           -1,
           -1,
           8,
           -1,
           9,
           -1,
           3,
           -1,
           9,
           -1,
           12,
           -1,
           -1,
           -1,
           -1,
           -1,
           -1,
           -1,
           -1,
           -1,
           4,
           -1,
           -1,
           -1,
           -1,
           -1,
           21,
           -1,
           -1,
           -1,
           15,
           -1,
           -1,
           -1,
           1,
           -1,
           -1,
           1,
           -1,
           0,
           -1,
           9,
           -1,
           -1,
           6,
           -1,
           -1,
           -1,
           20,
           10,
           -1,
           -1,
           -1,
           -1,
           14,
           9,
           -1,
           5,
           -1,
           7,
           -1,
           17,
           -1,
           21,
           -1,
           0,
           3,
           -1,
           15,
           7,
           -1,
           -1,
           -1,
           -1,
           2,
           -1,
           -1,
           10,
           13,
           -1,
           -1,
           2,
           -1,
           8,
           -1,
           -1,
           -1,
           -1,
           11,
           -1,
           6,
           -1,
           3,
           -1,
           -1,
           -1,
           -1,
           6,
           -1,
           -1,
           19,
           -1,
           -1,
           -1,
           -1,
           1,
           13,
           -1,
           2,
           20,
           3,
           9,
           4,
           -1,
           -1,
           12,
           -1,
           -1,
           -1,
           6,
           -1,
           -1,
           -1,
           -1,
           -1,
           -1,
           -1,
           13,
           12,
           -1,
           2,
           -1,
           -1,
           12,
           1,
           -1,
           -1,
           -1,
           -1,
           2,
           -1,
           -1,
           20,
           8,
           -1,
           -1,
           0,
           -1,
           6,
           -1,
           -1,
           -1,
           -1,
           3,
           -1,
           -1,
           2,
           7,
           7,
           19,
           -1,
           -1,
           9,
           2,
           20,
           -1,
           13,
           -1,
           -1,
           -1,
           -1,
           6,
           -1,
           -1,
           -1,
           -1,
           -1,
           -1,
           -1,
           -1,
           -1,
           -1,
           -1,
           -1,
           -1,
           12,
           -1,
           9,
           -1,
           8,
           -1,
           -1,
           7,
           12,
           -1,
           -1,
           -1,
           0,
           -1,
           -1,
           -1,
           2,
           4,
           -1,
           -1,
           -1,
           -1,
           -1,
           -1,
           4,
           9,
           1,
           -1,
           14,
           -1,
           -1,
           -1,
           6,
           -1,
           -1,
           6,
           21,
           -1,
           -1,
           -1,
           -1,
           -1,
           -1,
           -1,
           -1,
           1,
           13,
           10,
           -1,
           -1,
           0,
           -1,
           -1,
           -1,
           -1,
           -1,
           -1,
           5,
           6,
           21,
           -1,
           -1,
           9,
           -1,
           -1,
           -1,
           19,
           -1,
           -1,
           -1,
           -1,
           -1,
           -1,
           0,
           0,
           7,
           15,
           -1,
           -1,
           -1,
           0,
           -1,
           14,
           -1,
           -1,
           -1,
           12,
           -1,
           -1,
           -1,
           -1,
           -1,
           -1,
           20,
           -1,
           -1,
           -1,
           -1,
           -1,
           -1,
           -1,
           -1,
           16,
           15,
           -1,
           -1,
           -1,
           4,
           12,
           -1,
           -1,
           2,
           14,
           2,
           -1,
           -1,
           1,
           10,
           2,
           0,
           -1,
           0,
           6,
           7,
           -1,
           -1,
           12,
           -1,
           -1,
           -1,
           -1,
           15,
           -1,
           22,
           12,
           -1,
           -1,
           -1,
           3,
           8,
           10,
           -1,
           7,
           -1,
           -1,
           -1,
           14,
           -1,
           -1,
           -1,
           -1,
           -1,
           2,
           -1,
           -1,
           5,
           18,
           13,
           -1,
           3,
           -1,
           20,
           -1,
           -1,
           -1,
           0,
           -1,
           -1,
           -1,
           6,
           -1,
           -1,
           4,
           -1,
           -1,
           -1,
           -1,
           -1,
           -1,
           -1,
           -1,
           21,
           12,
           -1,
           -1,
           -1,
           -1,
           -1,
           5,
           3,
           21,
           -1,
           -1,
           -1,
           -1,
           -1,
           2,
           -1,
           6,
           -1,
           -1,
           -1,
           -1,
           13,
           -1,
           -1,
           -1,
           -1,
           -1,
           20,
           -1,
           8,
           -1,
           8,
           3,
           0,
           -1,
           7,
           -1,
           2,
           -1,
           5,
           -1,
           -1,
           0,
           -1,
           -1,
           10,
           -1,
           -1,
           -1,
           -1,
           -1,
           -1,
           6,
           -1,
           19,
           -1,
           -1,
           8,
           -1,
           -1,
           -1,
           -1,
           2,
           -1,
           17,
           12,
           5,
           14,
           -1,
           -1,
           -1,
           -1,
           12,
           -1,
           2,
           0,
           -1,
           -1,
           15,
           6,
           9,
           -1,
           -1,
           -1,
           -1,
           0,
           -1,
           -1,
           -1,
           -1,
           -1,
           1,
           -1,
           2,
           -1,
           -1,
           10,
           -1,
           -1,
           -1,
           -1,
           18,
           17,
           7,
           -1,
           -1,
           -1,
           -1,
           2,
           4,
           7,
           -1,
           8,
           -1,
           -1,
           -1,
           -1,
           -1,
           -1,
           14,
           -1,
           3,
           -1,
           -1,
           0,
           -1,
           -1,
           -1,
           10,
           -1,
           -1,
           -1,
           -1,
           -1,
           -1,
           -1,
           3,
           -1,
           22,
           -1,
           3,
           -1,
           -1,
           3,
           -1,
           -1,
           -1,
           6,
           -1,
           8,
           -1,
           -1,
           5,
           4,
           -1,
           -1,
           -1,
           0,
           -1,
           -1,
           -1,
           -1,
           -1,
           2,
           7,
           -1,
           -1,
           3,
           -1,
           15,
           -1,
           -1,
           -1,
           -1,
           8,
           2,
           -1,
           -1,
           0,
           11,
           7,
           -1,
           0,
           18,
           0,
           8,
           -1,
           -1,
           -1,
           -1,
           -1,
           -1,
           10,
           -1,
           0,
           -1,
           -1,
           -1,
           -1,
           6,
           9,
           3,
           21,
           9,
           -1,
           0,
           -1,
           7,
           -1,
           -1,
           -1,
           -1,
           18,
           3,
           10,
           -1,
           10,
           15,
           2,
           -1,
           15,
           -1,
           -1,
           -1,
           -1,
           6,
           -1,
           8,
           7,
           -1,
           -1,
           -1,
           10,
           -1,
           -1,
           -1,
           -1,
           -1,
           -1,
           14,
           -1,
           -1,
           -1,
           -1,
           5,
           -1,
           -1,
           12,
           12,
           -1,
           10,
           14,
           -1,
           20,
           -1,
           13,
           0,
           -1,
           -1,
           -1,
           -1,
           -1,
           -1,
           14,
           14,
           10,
           -1,
           -1,
           -1,
           -1,
           11,
           17,
           -1,
           22,
           8,
           -1,
           -1,
           22,
           -1,
           -1,
           19,
           -1,
           -1,
           -1,
           -1,
           -1,
           10,
           -1,
           16,
           -1,
           -1,
           -1,
           22,
           -1,
           -1,
           -1,
           -1,
           -1,
           8,
           -1,
           -1,
           9,
           8,
           -1,
           -1,
           11,
           0,
           7,
           -1,
           -1,
           -1,
           -1,
           -1,
           -1,
           15,
           3,
           -1,
           9,
           -1,
           -1,
           3,
           7,
           -1,
           16,
           -1,
           -1,
           -1,
           -1,
           7,
           -1,
           -1,
           6,
           -1,
           -1,
           -1,
           -1,
           19,
           17,
           15,
           7,
           -1,
           -1,
           -1,
           7,
           -1,
           10,
           0,
           -1,
           1,
           -1,
           10,
           -1,
           16,
           18,
           -1,
           -1,
           22,
           0,
           17,
           -1,
           -1,
           -1,
           -1,
           -1,
           17,
           -1,
           -1,
           -1,
           -1,
           -1,
           -1,
           -1,
           -1,
           -1,
           -1,
           -1,
           -1,
           1,
           3,
           -1,
           -1,
           -1,
           -1,
           -1,
           0,
           3,
           -1,
           -1,
           -1,
           -1,
           5,
           6,
           20,
           2,
           -1,
           0,
           -1,
           -1,
           -1,
           4,
           4,
           12,
           -1,
           -1,
           -1,
           -1,
           -1,
           -1,
           12,
           -1,
           -1,
           -1,
           -1,
           -1,
           -1,
           -1,
           -1,
           -1,
           7,
           3,
           -1,
           -1,
           -1,
           -1,
           -1,
           5,
           -1,
           -1,
           -1,
           8,
           3,
           -1,
           -1,
           9,
           7,
           -1,
           -1,
           -1,
           -1,
           -1,
           -1,
           0,
           8,
           -1,
           -1,
           -1,
           -1,
           -1,
           -1,
           2,
           -1,
           -1,
           0,
           8,
           -1,
           16,
           15,
           -1,
           -1,
           11,
           -1,
           7,
           3,
           -1,
           0,
           -1,
           22,
           -1,
           -1,
           -1,
           12,
           -1,
           -1,
           10,
           9,
           -1,
           -1,
           -1,
           11,
           -1,
           13,
           -1,
           16,
           -1,
           -1,
           -1,
           -1,
           1,
           -1,
           -1,
           -1,
           7,
           6,
           -1,
           -1,
           3,
           1,
           0,
           5,
           -1,
           -1,
           -1,
           -1,
           15,
           21,
           19,
           -1,
           -1,
           17,
           -1,
           8,
           8,
           -1,
           8,
           -1,
           -1,
           -1,
           -1,
           9,
           -1,
           -1,
           9,
           -1,
           -1,
           -1,
           -1,
           14,
           -1,
           -1,
           -1,
           -1,
           2,
           -1,
           -1,
           -1,
           -1,
           6,
           8,
           22,
           -1,
           -1,
           -1,
           6,
           -1,
           -1,
           -1,
           -1,
           -1,
           16,
           7,
           -1,
           0,
           -1,
           12,
           -1,
           -1,
           -1,
           -1,
           -1,
           -1,
           -1,
           2,
           -1,
           7,
           1,
           -1,
           -1,
           -1,
           -1,
           -1,
           0,
           -1,
           -1,
           14,
           -1,
           7,
           8,
           -1,
           -1,
           -1,
           8,
           -1,
           11,
           8,
           1,
           -1,
           6,
           -1,
           -1,
           -1,
           0,
           -1,
           -1,
           12,
           6,
           -1,
           -1,
           14,
           0,
           -1,
           8,
           0,
           21,
           -1,
           -1,
           -1,
           -1,
           -1,
           -1,
           -1,
           4,
           -1,
           -1,
           7,
           -1,
           -1,
           -1,
           -1,
           -1,
           -1,
           -1,
           6,
           -1,
           -1,
           -1,
           -1,
           -1,
           -1,
           -1,
           -1,
           -1,
           -1,
           -1,
           -1,
           -1,
           -1,
           8,
           -1,
           -1,
           -1,
           11,
           4,
           -1,
           -1,
           -1,
           9,
           -1,
           6,
           -1,
           -1,
           -1,
           -1,
           -1,
           -1,
           -1,
           10,
           0,
           4,
           -1,
           -1,
           -1,
           -1,
           -1,
           -1,
           -1,
           8,
           -1,
           -1,
           2,
           8,
           12,
           18,
           -1,
           2,
           -1,
           -1,
           5,
           -1,
           -1,
           -1,
           -1,
           5,
           5,
           -1,
           -1,
           -1,
           -1,
           2,
           -1,
           -1,
           19,
           -1,
           -1,
           -1,
           -1,
           -1,
           12,
           -1,
           8,
           0,
           14,
           -1,
           14,
           14,
           -1,
           -1,
           -1,
           22,
           -1,
           5,
           -1,
           -1,
           -1,
           6,
           -1,
           -1,
           -1,
           6,
           -1,
           -1,
           -1,
           2,
           -1,
           -1,
           -1,
           -1,
           -1,
           -1,
           -1,
           6,
           6,
           -1,
           -1,
           2,
           -1,
           7,
           -1,
           -1,
           22,
           -1,
           0,
           -1,
           -1,
           16,
           0,
           -1,
           -1,
           14,
           -1,
           12,
           4,
           -1,
           19,
           2,
           -1,
           -1,
           -1,
           4,
           -1,
           -1,
           -1,
           -1,
           -1,
           -1,
           -1,
           9,
           -1,
           -1,
           -1,
           -1,
           -1,
           14,
           -1,
           10,
           -1,
           -1,
           -1,
           -1,
           -1,
           -1,
           -1,
           9,
           -1,
           -1,
           -1,
           11,
           3,
           -1,
           4,
           4,
           15,
           9,
           19,
           -1,
           -1,
           5,
           9,
           -1,
           12,
           -1,
           -1,
           -1,
           -1,
           -1,
           -1,
           -1,
           -1,
           6,
           -1,
           13,
           -1,
           -1,
           3,
           -1,
           -1,
           -1,
           -1,
           -1,
           -1,
           -1,
           -1,
           -1,
           20,
           -1,
           -1,
           -1,
           3,
           -1,
           -1,
           -1,
           -1,
           -1,
           -1,
           19,
           -1,
           -1,
           -1,
           -1,
           -1,
           -1,
           -1,
           -1,
           1,
           -1,
           -1,
           -1,
           -1,
           2,
           -1,
           3,
           -1,
           3,
           -1,
           22,
           8,
           18,
           -1,
           -1,
           -1,
           -1,
           -1,
           -1,
           2,
           -1,
           -1,
           22
          ],
          "coloraxis": "coloraxis",
          "size": 3,
          "symbol": "circle"
         },
         "mode": "markers",
         "name": "",
         "scene": "scene",
         "showlegend": false,
         "type": "scatter3d",
         "x": [
          -0.317789226770401,
          1.1831082105636597,
          -0.5034289956092834,
          5.45612907409668,
          -6.188209533691406,
          8.962723731994629,
          -6.0756096839904785,
          -7.1264967918396,
          -0.4542017877101898,
          9.187970161437988,
          5.5189595222473145,
          -3.6679558753967285,
          -3.38016414642334,
          11.328195571899414,
          -9.595863342285156,
          0.16867446899414062,
          10.798529624938965,
          -8.769715309143066,
          -3.3109800815582275,
          -1.7817364931106567,
          12.722894668579102,
          7.316894054412842,
          11.322585105895996,
          -2.23317813873291,
          -2.5002973079681396,
          0.8930083513259888,
          5.928194046020508,
          6.294753551483154,
          4.10156774520874,
          -1.1437666416168213,
          -8.198395729064941,
          11.622800827026367,
          7.0545830726623535,
          9.381204605102539,
          4.426000595092773,
          -1.8105286359786987,
          10.546780586242676,
          -5.047635078430176,
          -8.13074779510498,
          -2.8643956184387207,
          -3.127721071243286,
          -1.0952907800674438,
          -1.147525668144226,
          -0.6869853734970093,
          9.386550903320312,
          -0.06946209818124771,
          -1.5947000980377197,
          -3.916778087615967,
          -8.693811416625977,
          -1.5208557844161987,
          -5.175828456878662,
          -1.9551297426223755,
          -3.8217294216156006,
          -4.555559158325195,
          -8.005873680114746,
          11.682381629943848,
          -5.680211067199707,
          16.235305786132812,
          -3.9221770763397217,
          4.528318405151367,
          13.716124534606934,
          -6.885753154754639,
          -4.032100200653076,
          -3.239011287689209,
          -7.683232307434082,
          -8.41679859161377,
          0.25720152258872986,
          -8.473995208740234,
          -4.138354778289795,
          7.807918548583984,
          -1.59332275390625,
          4.986502647399902,
          -6.94291353225708,
          6.736659526824951,
          10.237654685974121,
          -1.8549500703811646,
          -6.080825328826904,
          -3.201368808746338,
          0.34277841448783875,
          1.2843672037124634,
          -9.010574340820312,
          8.447807312011719,
          -1.3419603109359741,
          5.718545913696289,
          11.141141891479492,
          10.620110511779785,
          -8.957590103149414,
          -0.6513185501098633,
          -0.0335819236934185,
          -8.065179824829102,
          -2.9288430213928223,
          6.570309162139893,
          -1.6993980407714844,
          4.5400776863098145,
          5.401512622833252,
          -15.499561309814453,
          14.681159019470215,
          -2.085256576538086,
          3.1714909076690674,
          -11.312800407409668,
          4.656336784362793,
          8.279304504394531,
          3.203578233718872,
          -5.1279826164245605,
          -8.179845809936523,
          -5.328055381774902,
          -10.80899715423584,
          -7.995868682861328,
          -1.453157901763916,
          -3.410778284072876,
          -6.759814739227295,
          -9.237626075744629,
          0.32832977175712585,
          -13.296839714050293,
          -10.75652027130127,
          4.399971961975098,
          2.7135884761810303,
          6.894178867340088,
          10.301063537597656,
          3.0156290531158447,
          0.8550199270248413,
          0.07067487388849258,
          -13.043950080871582,
          -12.558741569519043,
          -9.023442268371582,
          -3.4181573390960693,
          -12.936822891235352,
          -7.266095161437988,
          7.625998497009277,
          -2.7304770946502686,
          -9.831208229064941,
          10.161055564880371,
          0.6401615738868713,
          14.49828052520752,
          -2.5148472785949707,
          -13.17066764831543,
          6.5756449699401855,
          9.868158340454102,
          8.597647666931152,
          13.492447853088379,
          7.08209753036499,
          14.268924713134766,
          0.883825421333313,
          11.771810531616211,
          3.9360880851745605,
          -0.5572004318237305,
          4.744409561157227,
          -3.673652410507202,
          5.811609268188477,
          13.000988960266113,
          -0.8419990539550781,
          -6.7855353355407715,
          -6.105476379394531,
          -1.7561683654785156,
          4.372908592224121,
          -0.17947842180728912,
          8.491164207458496,
          9.637601852416992,
          8.366247177124023,
          -1.4416773319244385,
          -2.193737268447876,
          0.5973108410835266,
          7.699515342712402,
          14.826362609863281,
          8.231649398803711,
          0.21984213590621948,
          -4.868525505065918,
          -10.47479248046875,
          14.099712371826172,
          0.44248834252357483,
          13.800647735595703,
          15.727556228637695,
          13.524413108825684,
          6.014347553253174,
          9.564287185668945,
          -0.9355373382568359,
          11.9059419631958,
          14.43391227722168,
          -4.063871383666992,
          9.631101608276367,
          -2.352294683456421,
          -4.894652366638184,
          -11.409836769104004,
          1.964550256729126,
          4.275638103485107,
          -3.828634023666382,
          3.6589255332946777,
          -11.07120418548584,
          -2.129530429840088,
          2.8465166091918945,
          11.17525577545166,
          2.766533374786377,
          0.5572569370269775,
          -3.3265674114227295,
          6.669909477233887,
          -4.37891149520874,
          -8.751179695129395,
          -1.8625887632369995,
          -1.6573916673660278,
          10.360234260559082,
          -2.555680751800537,
          -1.4924906492233276,
          0.7949084639549255,
          13.439384460449219,
          6.281670093536377,
          -6.97208833694458,
          -2.131856918334961,
          10.440070152282715,
          9.742807388305664,
          -9.232641220092773,
          -0.587061882019043,
          -4.7027201652526855,
          9.831665992736816,
          -2.8181538581848145,
          9.17094898223877,
          -13.080476760864258,
          0.8811039924621582,
          -0.1524479240179062,
          11.437577247619629,
          -9.907389640808105,
          -9.100972175598145,
          -2.370770215988159,
          -11.33444881439209,
          2.3310630321502686,
          -3.8042802810668945,
          2.3897900581359863,
          -0.6339526772499084,
          2.2428040504455566,
          -7.094653129577637,
          -7.908381938934326,
          6.7492876052856445,
          -1.5250723361968994,
          6.119905471801758,
          6.8402581214904785,
          -5.996711254119873,
          4.073345184326172,
          -1.810210943222046,
          3.8822343349456787,
          6.3112945556640625,
          -1.352440595626831,
          9.248221397399902,
          -2.6412668228149414,
          10.69262409210205,
          11.915837287902832,
          -11.409363746643066,
          -0.761346161365509,
          4.082061290740967,
          3.7668495178222656,
          3.247520923614502,
          10.863496780395508,
          -12.723319053649902,
          -1.6960738897323608,
          5.565091133117676,
          -2.582193613052368,
          -1.2654519081115723,
          -11.470501899719238,
          -1.2472734451293945,
          2.531630039215088,
          -9.240765571594238,
          -6.38230562210083,
          10.229483604431152,
          -3.4727606773376465,
          -1.370749831199646,
          -3.672314405441284,
          -4.144967555999756,
          1.575181007385254,
          -1.1913142204284668,
          -12.618473052978516,
          0.08007130026817322,
          7.533916473388672,
          2.3134450912475586,
          -8.598731994628906,
          10.048632621765137,
          -3.747584819793701,
          -12.051521301269531,
          12.413395881652832,
          -14.1847562789917,
          -13.000563621520996,
          6.576818943023682,
          -4.47088098526001,
          -5.529610633850098,
          10.089433670043945,
          9.813395500183105,
          -7.324459075927734,
          8.040140151977539,
          8.761005401611328,
          -1.526876449584961,
          0.7033485174179077,
          -4.5258331298828125,
          0.24941393733024597,
          -1.876852035522461,
          -1.2207159996032715,
          -4.598573684692383,
          -1.5164589881896973,
          11.527579307556152,
          -3.769636392593384,
          5.578690528869629,
          -4.039863586425781,
          4.765811443328857,
          -8.252367973327637,
          12.530110359191895,
          7.0435967445373535,
          -13.165666580200195,
          12.041444778442383,
          5.132753849029541,
          -7.447144031524658,
          9.268150329589844,
          15.087620735168457,
          11.566497802734375,
          -2.818847417831421,
          5.8454742431640625,
          -0.45535507798194885,
          6.289137363433838,
          -3.993673801422119,
          -2.685042142868042,
          14.619525909423828,
          10.70002269744873,
          -0.21950291097164154,
          -4.012463092803955,
          -3.3437697887420654,
          3.8129074573516846,
          -13.219075202941895,
          4.169702529907227,
          2.4760029315948486,
          -4.722729682922363,
          -4.378408908843994,
          13.318779945373535,
          11.67197322845459,
          14.167003631591797,
          4.4574456214904785,
          -2.970219850540161,
          -3.18687105178833,
          -4.290517807006836,
          -13.779804229736328,
          4.176141262054443,
          -3.345606565475464,
          -6.226455211639404,
          6.695108890533447,
          -15.011500358581543,
          1.6066358089447021,
          -2.7014551162719727,
          -5.433547019958496,
          3.4281177520751953,
          -8.597273826599121,
          13.591174125671387,
          13.852592468261719,
          -2.89396595954895,
          10.5220947265625,
          -9.626983642578125,
          11.894492149353027,
          -7.934513092041016,
          -4.753396511077881,
          0.22048544883728027,
          11.483978271484375,
          3.033402681350708,
          -9.034768104553223,
          -6.143197536468506,
          3.7705793380737305,
          -0.560700535774231,
          -2.2921814918518066,
          -2.054485559463501,
          -13.515665054321289,
          3.085812568664551,
          -1.8480643033981323,
          -12.1545991897583,
          -12.831258773803711,
          -5.002220153808594,
          12.05420970916748,
          14.377309799194336,
          -13.731463432312012,
          1.3072630167007446,
          -7.6163740158081055,
          -1.275395154953003,
          -5.046332836151123,
          -9.68795394897461,
          -10.962074279785156,
          -1.5422416925430298,
          12.491252899169922,
          -7.939500331878662,
          7.44683313369751,
          -6.688488006591797,
          2.7951629161834717,
          -0.38889604806900024,
          -6.982939720153809,
          1.907296061515808,
          12.93172836303711,
          -13.153618812561035,
          -0.34134185314178467,
          1.3421990871429443,
          1.0286164283752441,
          -0.9156855344772339,
          12.852792739868164,
          -8.825626373291016,
          2.1879026889801025,
          -1.76541006565094,
          12.384078025817871,
          -1.9071969985961914,
          -2.821826457977295,
          -5.901207447052002,
          -0.2804318964481354,
          8.154888153076172,
          5.743330001831055,
          11.602326393127441,
          -9.34372615814209,
          2.235769033432007,
          -3.882256269454956,
          -3.5596375465393066,
          -3.137930393218994,
          4.892320156097412,
          7.854734897613525,
          0.08066344261169434,
          5.12153434753418,
          -0.44343405961990356,
          9.515602111816406,
          13.085821151733398,
          -4.734611988067627,
          -4.411569595336914,
          -8.992883682250977,
          -10.712151527404785,
          -8.245869636535645,
          4.893354415893555,
          -3.1880042552948,
          -3.625683069229126,
          -11.296245574951172,
          -6.057502746582031,
          -4.296682357788086,
          3.179988145828247,
          -10.388229370117188,
          10.9666166305542,
          -1.4219982624053955,
          -6.839741230010986,
          -0.32005149126052856,
          -0.9421620965003967,
          13.210734367370605,
          -0.48456206917762756,
          -2.5762264728546143,
          -15.377102851867676,
          -1.4857457876205444,
          -5.398848056793213,
          -14.628241539001465,
          11.98608112335205,
          10.870468139648438,
          -0.4632653594017029,
          2.1269032955169678,
          -1.039096474647522,
          9.635550498962402,
          7.929691791534424,
          5.369316101074219,
          -1.2696963548660278,
          13.694693565368652,
          6.933897972106934,
          -3.6123640537261963,
          -8.738243103027344,
          -3.636538505554199,
          -2.2277679443359375,
          12.804624557495117,
          6.176543712615967,
          -9.646261215209961,
          -1.4386883974075317,
          -3.997972249984741,
          8.47146987915039,
          -10.570475578308105,
          4.709393501281738,
          -9.114704132080078,
          4.598672866821289,
          11.829496383666992,
          -7.532325267791748,
          8.928982734680176,
          1.2296797037124634,
          -5.609681129455566,
          2.8359148502349854,
          0.17720097303390503,
          2.7266905307769775,
          -8.63815975189209,
          -11.124256134033203,
          1.6476941108703613,
          6.362814426422119,
          -13.602668762207031,
          -0.6631407141685486,
          -4.49530553817749,
          7.196718692779541,
          13.887179374694824,
          11.21947193145752,
          13.049322128295898,
          0.044049061834812164,
          -4.070389270782471,
          -1.639683485031128,
          -15.31407356262207,
          10.15698528289795,
          -9.971308708190918,
          -11.5425386428833,
          0.7705588936805725,
          -0.09507936239242554,
          12.371275901794434,
          8.819215774536133,
          0.33355140686035156,
          3.7546439170837402,
          -3.123758554458618,
          -0.44543084502220154,
          -0.7707716226577759,
          13.630914688110352,
          -8.247353553771973,
          5.256536483764648,
          -9.851101875305176,
          7.17100715637207,
          13.589184761047363,
          10.34011459350586,
          -14.631685256958008,
          -12.818440437316895,
          -1.881754994392395,
          -0.48774394392967224,
          -2.6792657375335693,
          1.209873914718628,
          -7.192155361175537,
          1.6534640789031982,
          9.993167877197266,
          9.25976848602295,
          7.974210739135742,
          6.8899455070495605,
          -14.415757179260254,
          -7.935308456420898,
          6.7036285400390625,
          11.94393539428711,
          -2.1166248321533203,
          4.605403900146484,
          12.562493324279785,
          7.573469161987305,
          -10.115008354187012,
          0.980019748210907,
          -6.461110591888428,
          8.71223258972168,
          -4.772838592529297,
          7.889978408813477,
          13.105781555175781,
          9.765532493591309,
          -3.573782205581665,
          10.05376148223877,
          -3.3190994262695312,
          -3.5924813747406006,
          -5.135488033294678,
          -2.7364683151245117,
          -4.946942329406738,
          -4.402708530426025,
          -3.6865813732147217,
          -1.0193558931350708,
          -10.189640998840332,
          -0.1596328169107437,
          9.104260444641113,
          -1.4269849061965942,
          6.585419654846191,
          -2.7492072582244873,
          -4.3966264724731445,
          -7.681585311889648,
          -0.5262362360954285,
          -7.454541206359863,
          10.14360237121582,
          -3.845024824142456,
          -0.18143577873706818,
          -5.109040260314941,
          -3.5979361534118652,
          3.473829746246338,
          3.3340892791748047,
          -3.3683409690856934,
          -8.186932563781738,
          4.943699359893799,
          -0.1669936627149582,
          -1.4846504926681519,
          6.139244556427002,
          12.783357620239258,
          -2.3754751682281494,
          -10.90233325958252,
          4.4103617668151855,
          2.8537943363189697,
          -6.731571674346924,
          -0.5908551216125488,
          -13.361337661743164,
          3.0515244007110596,
          -7.950638294219971,
          -4.055112361907959,
          1.926917552947998,
          3.9978339672088623,
          -13.358922004699707,
          15.465883255004883,
          2.375819206237793,
          7.033168315887451,
          4.812748908996582,
          3.849864959716797,
          8.828694343566895,
          -6.298899173736572,
          4.805747985839844,
          -6.477675437927246,
          4.073183059692383,
          -2.7942514419555664,
          8.480643272399902,
          3.8381097316741943,
          -3.7969610691070557,
          -0.9787743091583252,
          10.4407958984375,
          -1.357387900352478,
          -1.7604899406433105,
          6.248417377471924,
          10.132869720458984,
          8.647485733032227,
          -7.267875671386719,
          7.459227561950684,
          8.941567420959473,
          -2.995523691177368,
          8.155264854431152,
          12.629983901977539,
          6.137117862701416,
          -6.882789134979248,
          -4.100712776184082,
          -8.44434642791748,
          -12.830801010131836,
          2.3227763175964355,
          -5.573953151702881,
          5.237517356872559,
          -3.410771131515503,
          -1.8069126605987549,
          -7.646259307861328,
          -7.535799503326416,
          -9.915751457214355,
          -1.0307494401931763,
          -9.527355194091797,
          1.4839282035827637,
          -4.160567760467529,
          4.808999061584473,
          -6.1911396980285645,
          6.2099528312683105,
          8.955974578857422,
          2.5368340015411377,
          -7.5648393630981445,
          -8.309541702270508,
          -2.1507112979888916,
          -0.2980565130710602,
          7.136780738830566,
          -7.962830066680908,
          -0.43835949897766113,
          5.702471733093262,
          -14.272245407104492,
          -12.344722747802734,
          6.164188861846924,
          -3.627678394317627,
          -1.2409729957580566,
          0.2152521312236786,
          7.200760364532471,
          6.120880126953125,
          -3.8005924224853516,
          -4.675139427185059,
          -1.4696929454803467,
          4.802343368530273,
          4.352545738220215,
          -3.656301259994507,
          -1.8489433526992798,
          -8.4590482711792,
          -3.085402250289917,
          -6.659550666809082,
          9.04438304901123,
          4.2918853759765625,
          1.0916056632995605,
          11.699091911315918,
          -4.990280628204346,
          1.7385908365249634,
          12.507447242736816,
          11.814997673034668,
          -13.638431549072266,
          -5.52346658706665,
          0.20586776733398438,
          -7.862074851989746,
          -1.5049254894256592,
          11.199295043945312,
          3.245710611343384,
          -10.821707725524902,
          13.888895034790039,
          -3.0094940662384033,
          -7.940711975097656,
          -14.24528980255127,
          5.213672637939453,
          -1.763097882270813,
          -4.679145812988281,
          0.23907572031021118,
          -8.468108177185059,
          -5.340860843658447,
          -9.44007682800293,
          -3.2553722858428955,
          10.730284690856934,
          13.068487167358398,
          -0.47929877042770386,
          1.9317764043807983,
          0.5600701570510864,
          8.96843147277832,
          10.980911254882812,
          -2.729768753051758,
          5.454094886779785,
          -3.455634355545044,
          -1.4996097087860107,
          8.912617683410645,
          -7.119450092315674,
          6.099471092224121,
          12.945528984069824,
          -1.3777278661727905,
          11.71834659576416,
          11.689136505126953,
          4.395873069763184,
          -2.306515693664551,
          -0.45929989218711853,
          -0.7806201577186584,
          6.647518634796143,
          0.2363574206829071,
          9.846662521362305,
          -12.784330368041992,
          8.164896965026855,
          3.1294965744018555,
          -9.490188598632812,
          8.042316436767578,
          8.977802276611328,
          -12.986546516418457,
          6.9576029777526855,
          -0.41282498836517334,
          -5.055899143218994,
          4.499575138092041,
          16.05238914489746,
          1.328495740890503,
          -5.123466968536377,
          -11.784895896911621,
          1.5766652822494507,
          4.329902172088623,
          3.4367728233337402,
          7.04695463180542,
          -3.966111421585083,
          -11.216146469116211,
          9.62401008605957,
          2.648315668106079,
          0.3061549961566925,
          -0.5463759899139404,
          2.929288387298584,
          -2.6341936588287354,
          -5.37145471572876,
          -1.1715584993362427,
          9.024829864501953,
          11.45706844329834,
          -3.460901975631714,
          12.67394733428955,
          -8.14611530303955,
          -4.18987512588501,
          9.07101821899414,
          2.5411202907562256,
          -0.45439955592155457,
          0.8812597990036011,
          10.49361801147461,
          10.55466079711914,
          2.112006664276123,
          2.2570502758026123,
          0.29229360818862915,
          -5.7826642990112305,
          9.2686185836792,
          11.56325912475586,
          4.464923858642578,
          -0.8739670515060425,
          -8.374646186828613,
          -6.63302755355835,
          8.28542423248291,
          -4.2643723487854,
          3.1183419227600098,
          -5.657452583312988,
          -14.415757179260254,
          4.447559356689453,
          -8.531129837036133,
          7.49387264251709,
          -2.162558078765869,
          12.454355239868164,
          -5.009665012359619,
          -0.6399471163749695,
          -0.8636980652809143,
          -2.6265714168548584,
          -5.188974380493164,
          8.769392967224121,
          -13.12628173828125,
          -4.9748616218566895,
          -2.1826133728027344,
          13.206469535827637,
          -6.30986213684082,
          11.643056869506836,
          -2.3506267070770264,
          -2.5322890281677246,
          -4.6956467628479,
          -0.9315444231033325,
          7.837347507476807,
          2.0019173622131348,
          -2.9949629306793213,
          10.127297401428223,
          1.9915333986282349,
          -0.47427892684936523,
          -5.277363300323486,
          -0.25275561213493347,
          0.6409348845481873,
          -3.119889259338379,
          14.146868705749512,
          -1.2782832384109497,
          10.987096786499023,
          -8.490557670593262,
          3.380720615386963,
          13.8197021484375,
          4.513462543487549,
          2.4131112098693848,
          14.58155632019043,
          -2.836987018585205,
          -2.836050510406494,
          -0.7218901515007019,
          -1.5428134202957153,
          -3.727447748184204,
          -0.07625304162502289,
          -1.0650885105133057,
          3.850564956665039,
          2.5442698001861572,
          -2.212203025817871,
          2.17539644241333,
          -14.14542293548584,
          10.45534896850586,
          -1.2974519729614258,
          10.676040649414062,
          -3.8700175285339355,
          2.778712749481201,
          -10.68397331237793,
          10.040226936340332,
          11.829190254211426,
          -9.409669876098633,
          2.458904981613159,
          -9.604275703430176,
          -5.111098289489746,
          10.419631958007812,
          13.716788291931152,
          7.302780628204346,
          6.918671607971191,
          9.563077926635742,
          -7.530961036682129,
          8.618559837341309,
          -6.480842113494873,
          7.919981479644775,
          9.343058586120605,
          0.3341619074344635,
          13.044598579406738,
          5.820727348327637,
          -4.622648239135742,
          8.252549171447754,
          3.1167919635772705,
          1.1100331544876099,
          -3.823700428009033,
          -5.723056316375732,
          0.626741349697113,
          4.1133551597595215,
          -9.366990089416504,
          -3.36657977104187,
          -2.537644863128662,
          2.7158401012420654,
          8.457159996032715,
          -7.587589263916016,
          9.408236503601074,
          -2.5753977298736572,
          8.634682655334473,
          -3.758837938308716,
          -12.365690231323242,
          6.899323463439941,
          -10.802022933959961,
          -8.869160652160645,
          -2.9154553413391113,
          3.408104419708252,
          -3.23296856880188,
          2.2386116981506348,
          -3.618805408477783,
          11.520232200622559,
          -8.311413764953613,
          -6.874272346496582,
          -6.521378040313721,
          12.66157341003418,
          -1.5297561883926392,
          12.107751846313477,
          3.041124105453491,
          8.161053657531738,
          -13.765140533447266,
          -7.594776153564453,
          3.8675296306610107,
          -0.2713978588581085,
          -2.4967215061187744,
          1.4310024976730347,
          9.376724243164062,
          -3.422489881515503,
          8.328940391540527,
          9.221595764160156,
          8.888594627380371,
          8.307401657104492,
          -6.528118133544922,
          -8.499030113220215,
          11.673524856567383,
          1.2109475135803223,
          -0.01300884410738945,
          1.054497241973877,
          -6.6128668785095215,
          -6.935161113739014,
          -0.4319540560245514,
          -11.74780559539795,
          6.924367427825928,
          10.770405769348145,
          1.063231110572815,
          -0.31820034980773926,
          -4.904478549957275,
          -11.622477531433105,
          -11.305200576782227,
          2.828253984451294,
          -9.894330978393555,
          10.072532653808594,
          -4.455465793609619,
          8.628911972045898,
          -3.6077957153320312,
          9.567577362060547,
          -12.808253288269043,
          -2.454702138900757,
          -7.497915744781494,
          -6.284995079040527,
          8.594298362731934,
          3.362495183944702,
          -7.704832553863525,
          -7.694379806518555,
          13.832756996154785,
          -2.176759958267212,
          -4.838865756988525,
          -10.033905982971191,
          -3.0230777263641357,
          -12.79306697845459,
          -2.8310387134552,
          6.3892316818237305,
          -6.559087753295898,
          -5.760186195373535,
          -0.1356014609336853,
          -5.986134052276611,
          6.647652626037598,
          13.029847145080566,
          -8.994667053222656,
          -0.08277669548988342,
          3.5559256076812744,
          -2.571413516998291,
          5.903045654296875,
          -1.446648120880127,
          8.48188304901123,
          0.5834240317344666,
          -3.8246138095855713,
          4.203835487365723,
          0.2734682261943817,
          -7.099005222320557,
          -4.108760356903076,
          -2.924142360687256,
          -0.3662315309047699,
          9.507152557373047,
          8.595551490783691,
          -14.77108383178711,
          -1.23483145236969,
          10.756871223449707,
          -5.990615367889404,
          7.244982719421387,
          -4.030605316162109,
          0.5686251521110535,
          -4.282537460327148,
          -6.797542095184326,
          2.805572271347046,
          11.533421516418457,
          8.570873260498047,
          -9.760262489318848,
          16.01662254333496,
          1.257792592048645,
          13.756548881530762,
          8.074172973632812,
          10.028129577636719,
          -2.990000009536743,
          -1.6482535600662231,
          8.15654468536377,
          -0.9949528574943542,
          12.440804481506348,
          -9.882284164428711,
          12.98879337310791,
          -4.06641149520874,
          9.041136741638184,
          -2.814500093460083,
          -15.010910987854004,
          11.4385347366333,
          -1.4110206365585327,
          7.916426181793213,
          -3.437209367752075,
          12.883563995361328,
          0.48649153113365173,
          6.331223964691162,
          -4.0412726402282715,
          -4.895881175994873,
          -13.055599212646484,
          6.068710803985596,
          12.777117729187012,
          -8.867415428161621,
          -11.49966049194336,
          7.295532703399658,
          4.782176494598389,
          0.24917015433311462,
          0.7646487355232239,
          -8.031832695007324,
          7.226729869842529,
          -2.9809153079986572,
          6.916354179382324,
          -3.177104949951172,
          -0.9343876838684082,
          -1.4909753799438477,
          -0.42220425605773926,
          -6.967977046966553,
          3.1565589904785156,
          -8.2887544631958,
          12.313643455505371,
          -9.943108558654785,
          5.132625102996826,
          -1.8402222394943237,
          -2.276387929916382,
          -5.167971611022949,
          8.29599666595459,
          2.122551918029785,
          11.612469673156738,
          -0.8261250257492065,
          8.485432624816895,
          1.3375816345214844,
          -7.797921180725098,
          8.105968475341797,
          13.818924903869629,
          -1.3730394840240479,
          -0.5307902693748474,
          0.8213706612586975,
          4.754714012145996,
          -2.499986410140991,
          12.308877944946289,
          11.772918701171875,
          11.517428398132324,
          -1.4938606023788452,
          -5.708027362823486,
          -4.5203328132629395,
          11.192418098449707,
          -8.891654968261719,
          14.331016540527344,
          4.343688488006592,
          -3.2807440757751465,
          -4.031917095184326,
          -0.8997559547424316,
          3.3701090812683105,
          -2.7341599464416504,
          -4.069453716278076,
          0.8086883425712585,
          -6.851275444030762,
          10.812235832214355,
          -3.9427900314331055,
          -7.539560317993164,
          5.20102071762085,
          -2.5177559852600098,
          -1.4232935905456543,
          0.4501844346523285,
          -1.5033760070800781,
          -10.288641929626465,
          11.189067840576172,
          7.585443019866943,
          13.372796058654785,
          5.468927383422852,
          13.667824745178223,
          -7.487094879150391,
          6.587518692016602,
          -6.273819446563721,
          -3.894329071044922,
          -13.353507041931152,
          -6.877628326416016,
          -1.1047991514205933,
          4.500059604644775,
          11.821250915527344,
          -2.8362884521484375,
          5.672801971435547,
          -1.3141744136810303,
          2.583280563354492,
          13.955618858337402,
          1.3056843280792236,
          -10.587247848510742,
          11.13026237487793,
          -1.1869562864303589,
          -8.14284896850586,
          4.0550312995910645,
          11.920588493347168,
          -3.265129566192627,
          -11.286311149597168,
          -4.119268894195557,
          0.07479088753461838,
          -3.0763797760009766,
          -1.4825490713119507,
          -6.149494171142578,
          -5.376964569091797,
          -0.6691306829452515,
          -3.056838035583496,
          -9.136123657226562,
          9.650607109069824,
          -3.8998050689697266,
          -0.3923460841178894,
          9.614265441894531,
          -7.889992713928223,
          -6.620213031768799,
          7.934746265411377,
          8.905895233154297,
          -8.227365493774414,
          9.382941246032715,
          -9.059277534484863,
          -1.5585240125656128,
          -8.750075340270996,
          2.516930103302002,
          0.6742299199104309,
          -3.134957790374756,
          -9.140460014343262,
          -1.46066153049469,
          1.4291696548461914,
          -3.5686802864074707,
          -4.562105178833008,
          11.451048851013184,
          5.972827911376953,
          4.86848258972168,
          6.25309944152832,
          11.465433120727539,
          -3.1208066940307617,
          -7.982892036437988,
          -6.3610944747924805,
          -7.063462734222412,
          2.4691898822784424,
          -3.671858787536621,
          13.357523918151855,
          3.5211987495422363,
          -0.9757125973701477,
          -12.835745811462402,
          -7.821934700012207,
          -5.882749557495117,
          1.7843406200408936,
          -6.619942665100098,
          -3.1546573638916016,
          5.3617753982543945,
          -11.703293800354004,
          0.9433223605155945,
          -8.639482498168945,
          8.957928657531738,
          2.347435474395752,
          -6.24664306640625,
          -0.330153226852417,
          6.8893561363220215,
          -12.071113586425781,
          13.265271186828613,
          7.056997299194336,
          13.425164222717285,
          -7.657604694366455,
          -3.31949520111084,
          -4.544065952301025,
          -2.5824902057647705,
          11.952427864074707,
          -3.7890491485595703,
          -1.8178600072860718,
          -2.4434850215911865,
          -4.443228721618652,
          -4.897428512573242,
          7.2451324462890625,
          -9.142388343811035,
          -0.7585593461990356,
          9.395211219787598,
          0.12483292073011398,
          -8.423233032226562,
          9.651115417480469,
          -8.35861587524414,
          6.630677700042725,
          -3.1242456436157227,
          -0.6090357303619385,
          -6.256952285766602,
          8.627366065979004,
          -4.300449371337891,
          7.757897853851318,
          -4.451937198638916,
          -5.446009159088135,
          8.58468246459961,
          3.8209340572357178,
          -1.6843408346176147,
          -4.3659210205078125,
          -0.7866077423095703,
          11.412605285644531,
          6.531800270080566,
          8.157952308654785,
          7.928857803344727,
          12.755859375,
          -1.0953270196914673,
          -6.353289604187012,
          -1.8116047382354736,
          -3.8045127391815186,
          2.268139362335205,
          -0.8242723345756531,
          -4.474173545837402,
          -1.496519923210144,
          -7.063985347747803,
          8.946806907653809,
          -0.39975324273109436,
          -2.6319520473480225,
          -4.066618919372559,
          -1.5115776062011719,
          -11.00387191772461,
          -7.358633041381836,
          -5.219307899475098,
          -9.162747383117676,
          -2.1555213928222656,
          3.25567364692688,
          -1.7500585317611694,
          -2.6673078536987305,
          -1.5164897441864014,
          -4.955132007598877,
          9.693687438964844,
          -9.21163558959961,
          3.5832598209381104,
          10.376931190490723,
          -3.1068644523620605,
          -9.485936164855957,
          16.197525024414062,
          10.834166526794434,
          2.0157363414764404,
          -3.922490119934082,
          -2.16235613822937,
          -1.1138156652450562,
          0.8442113995552063,
          3.404536485671997,
          -3.9367125034332275,
          14.094071388244629,
          10.604530334472656,
          6.358205318450928,
          -9.80746078491211,
          -3.5636024475097656,
          -0.16664865612983704,
          -3.426182270050049,
          -7.520767688751221,
          -8.561921119689941,
          -11.252488136291504,
          2.502145528793335,
          0.1065022349357605,
          6.77522087097168,
          -14.133767127990723,
          -3.8170392513275146,
          -6.62345027923584,
          -4.26362419128418,
          9.163567543029785,
          5.545472621917725,
          -2.582213878631592,
          -0.13138090074062347,
          -8.427494049072266,
          -2.797001838684082,
          2.541672945022583,
          2.4917047023773193,
          11.728934288024902,
          2.080956220626831,
          -1.9993363618850708,
          -2.633493185043335,
          -2.8725879192352295,
          -8.864206314086914,
          3.7706570625305176,
          -7.180371284484863,
          7.755288600921631,
          -15.098838806152344,
          -3.6430370807647705,
          -7.761026382446289,
          2.3700194358825684,
          10.410567283630371,
          5.041472434997559,
          -2.508945941925049,
          2.23354434967041,
          -4.902493953704834,
          8.486692428588867,
          -11.178936958312988,
          -2.428623914718628,
          2.2208359241485596,
          -10.890729904174805,
          12.094240188598633,
          3.290281295776367,
          -4.4381842613220215,
          12.017435073852539,
          4.878521919250488,
          -6.306390285491943,
          -12.307801246643066,
          7.23069953918457,
          -1.364274024963379,
          7.101810455322266,
          -7.06038236618042,
          12.204257011413574,
          9.929076194763184,
          -3.757093667984009,
          2.9939777851104736,
          -14.816143035888672,
          4.869806289672852,
          -7.328181266784668,
          5.838498592376709,
          -1.2419480085372925,
          -9.866649627685547,
          0.5910857915878296,
          -4.399630069732666,
          1.7185813188552856,
          -3.6620898246765137,
          -9.0552339553833,
          -8.474113464355469,
          10.515524864196777,
          12.84744930267334,
          7.616024971008301,
          0.3153549134731293,
          -2.521618127822876,
          8.023425102233887,
          1.222737193107605,
          -2.3414652347564697,
          10.76794147491455,
          2.6792397499084473,
          -7.73867130279541,
          -6.374438285827637,
          5.8918986320495605,
          8.846795082092285,
          -14.951766967773438,
          -12.876585960388184,
          -9.365668296813965,
          -5.384926795959473,
          0.6662718653678894,
          -2.3943209648132324,
          -5.16585636138916,
          -10.805709838867188,
          -1.0699501037597656,
          -3.6988017559051514,
          -2.2161669731140137,
          12.202327728271484,
          7.6712799072265625,
          12.938705444335938,
          -2.360712766647339,
          -6.560519695281982,
          -7.546886920928955,
          -4.7669677734375,
          -7.982653617858887,
          -1.6535990238189697,
          8.674368858337402,
          4.696652412414551,
          6.968269348144531,
          -1.8508739471435547,
          2.6784915924072266,
          -3.240734815597534,
          7.357287883758545,
          -1.6452182531356812,
          12.248767852783203,
          13.30245304107666,
          -0.6611688137054443,
          10.947688102722168,
          -4.079120635986328,
          9.70490550994873,
          0.7027904987335205,
          3.9248979091644287,
          -12.298884391784668,
          -1.104789137840271,
          10.278610229492188,
          7.84237003326416,
          -3.7220962047576904,
          -6.708568572998047,
          -13.615861892700195,
          -4.090961456298828,
          -3.1024484634399414,
          4.442039966583252,
          -0.4989880919456482,
          6.771449565887451,
          -5.781487941741943,
          -2.5172183513641357,
          4.453952789306641,
          11.426410675048828,
          11.465190887451172,
          2.857830762863159,
          0.22039085626602173,
          -2.116955041885376,
          -0.240299254655838,
          -2.5146255493164062,
          -10.198816299438477,
          12.617888450622559,
          -8.499332427978516,
          -6.860655307769775,
          2.381110429763794,
          0.6493619084358215,
          3.5563974380493164,
          -2.4691755771636963,
          -6.151213645935059,
          -3.475297451019287,
          -12.725616455078125,
          -8.310945510864258,
          8.111239433288574,
          -1.6373822689056396,
          -7.405058860778809,
          -6.991086483001709,
          -2.007107734680176,
          -4.201326370239258,
          4.329737186431885,
          -4.330624103546143,
          -6.699331283569336,
          9.71748161315918,
          -0.253772497177124,
          -0.20731793344020844,
          12.404327392578125,
          11.731470108032227,
          5.478114604949951,
          -3.199127197265625,
          3.3802592754364014,
          7.523820877075195,
          -1.0755192041397095,
          0.0027866261079907417,
          -11.694307327270508,
          -4.266838073730469,
          -15.272237777709961,
          -0.4926038980484009,
          -7.100757598876953,
          -3.7784533500671387,
          11.682456016540527,
          -5.457446098327637,
          -3.839064121246338,
          -9.986759185791016,
          6.751921653747559,
          11.81541919708252,
          8.540483474731445,
          1.5788295269012451,
          -15.100197792053223,
          -0.5819534063339233,
          -13.031512260437012,
          0.973808228969574,
          -2.086603879928589,
          8.297478675842285,
          7.611521244049072,
          16.227951049804688,
          -1.8319822549819946,
          -3.9535014629364014,
          -7.36078405380249,
          10.38351058959961,
          -4.092668056488037,
          3.679257392883301,
          8.529233932495117,
          -2.326352119445801,
          -0.9223916530609131,
          -8.208528518676758,
          12.199969291687012,
          -1.7024893760681152,
          -4.517847537994385,
          5.3354034423828125,
          -9.11516284942627,
          0.8746172189712524,
          4.104964256286621,
          9.913219451904297,
          -0.6295503377914429,
          7.03104829788208,
          11.299920082092285,
          0.6925331354141235,
          -9.796866416931152,
          3.8133630752563477,
          0.31383439898490906,
          10.162871360778809,
          -1.9763457775115967,
          6.888465881347656,
          -1.2731190919876099,
          4.388795375823975,
          11.057883262634277,
          10.602151870727539,
          -9.931755065917969,
          -3.4776358604431152,
          -5.529028415679932,
          10.13744068145752,
          6.199075698852539,
          9.161569595336914,
          -5.487545490264893,
          2.051356077194214,
          -3.3082168102264404,
          6.772851467132568,
          -3.034491777420044,
          0.8382487893104553,
          -10.8613862991333,
          -2.414421319961548,
          -7.189523220062256,
          -0.9513387680053711,
          2.4222118854522705,
          6.75206184387207,
          10.758634567260742,
          5.174068927764893,
          -10.410372734069824,
          -5.672459125518799,
          10.850485801696777,
          -3.183987617492676,
          -3.200587272644043,
          4.140981674194336,
          -4.298374176025391,
          6.782073020935059,
          12.66667366027832,
          8.410266876220703,
          -0.17510756850242615,
          4.799619197845459,
          -6.174396991729736,
          -2.7584939002990723,
          5.657198429107666,
          -0.04648343473672867,
          -8.73186206817627,
          10.801669120788574,
          -0.9915686845779419,
          12.706918716430664,
          -4.4093756675720215,
          11.265233039855957,
          7.652194976806641,
          10.961162567138672,
          16.357086181640625,
          3.7961552143096924,
          7.733855247497559,
          -5.760391712188721,
          8.363166809082031,
          -6.42897367477417,
          -3.5108609199523926,
          4.26618766784668,
          -2.8508050441741943,
          -1.2020336389541626,
          -0.6189619898796082,
          -2.1985676288604736,
          6.9154534339904785,
          4.382930278778076,
          -6.0827155113220215,
          12.16137981414795,
          -2.5926713943481445,
          -2.7077062129974365,
          -1.1577430963516235,
          -6.512421131134033,
          -1.9339457750320435,
          8.748225212097168,
          8.379745483398438,
          -4.288295745849609,
          9.682366371154785,
          -2.912886381149292,
          13.249835968017578,
          -10.314970970153809,
          -3.466003179550171,
          7.955704212188721,
          -2.4224772453308105,
          -4.977565765380859,
          12.887605667114258,
          12.975846290588379,
          4.752425193786621,
          -4.484192848205566,
          0.6166523694992065,
          4.348091125488281,
          9.406070709228516,
          -6.605626106262207,
          -1.7420839071273804,
          -4.3840651512146,
          0.3572006821632385,
          -2.9395880699157715,
          -7.623348236083984,
          10.611674308776855,
          11.447067260742188,
          -5.514550685882568,
          10.706192016601562,
          4.791254997253418,
          5.884661674499512,
          6.837197780609131,
          -5.012347221374512,
          -3.6998708248138428,
          -0.5395217537879944,
          -4.2786760330200195,
          -14.531585693359375,
          -4.9274492263793945,
          -13.49642276763916,
          4.2766900062561035,
          -1.592280626296997,
          5.0382080078125,
          -7.125796794891357,
          -8.553600311279297,
          2.85895037651062,
          1.2511910200119019,
          3.915289878845215,
          10.976554870605469,
          -1.3701359033584595,
          4.575976371765137,
          -7.064575672149658,
          1.9443786144256592,
          -1.6304972171783447,
          3.7172555923461914,
          1.537070870399475,
          -0.6821585297584534,
          -9.63149642944336,
          -7.861306667327881,
          3.704266309738159,
          -14.221441268920898,
          4.745085716247559,
          6.6210832595825195,
          7.564447402954102,
          13.149779319763184,
          -9.593482971191406,
          8.07034683227539,
          3.619088649749756,
          9.36440658569336,
          -2.04905104637146,
          11.32605266571045,
          -1.4080029726028442,
          -1.576801061630249,
          11.647083282470703,
          -3.708611011505127,
          11.037497520446777,
          1.8178812265396118,
          -2.9497900009155273,
          7.796957969665527,
          0.6646526455879211,
          -1.4433176517486572,
          -2.662576198577881,
          -2.143078327178955,
          -3.424082040786743,
          -8.502488136291504,
          2.6154704093933105,
          -9.143367767333984,
          -8.694208145141602,
          7.09610652923584,
          -3.1673972606658936,
          -1.5602473020553589,
          -0.17629733681678772,
          -4.298506736755371,
          -1.1275417804718018,
          0.8385189175605774,
          -10.288495063781738,
          -4.243095397949219,
          9.00207805633545,
          1.6993229389190674,
          -2.829310417175293,
          -11.631208419799805,
          1.1485910415649414,
          -2.274935245513916,
          -0.0970180481672287,
          -7.593559741973877,
          1.7382113933563232,
          11.813610076904297,
          -12.681827545166016,
          -3.64448881149292,
          11.917089462280273,
          -1.4914088249206543,
          -2.249701738357544,
          -5.339862823486328,
          4.659343719482422,
          -4.9865922927856445,
          6.862062931060791,
          -0.7594882845878601,
          -5.560796737670898,
          -0.6891601085662842,
          -11.296599388122559,
          13.524420738220215,
          11.53226375579834,
          -4.314376354217529,
          -8.863382339477539,
          12.454233169555664,
          8.638449668884277,
          -12.069720268249512,
          2.8356480598449707,
          -5.785829067230225,
          7.101783752441406,
          14.02315616607666,
          2.2737884521484375,
          -4.36110258102417,
          15.75563907623291,
          -4.141807556152344,
          -3.467165946960449,
          -9.232178688049316,
          5.471909523010254,
          7.07900857925415,
          5.10019588470459,
          -0.04814017191529274,
          -0.030309192836284637,
          -0.006629152689129114,
          -3.4088921546936035,
          -3.5906574726104736,
          -4.986931324005127,
          -1.5362008810043335,
          15.744590759277344,
          8.620817184448242,
          3.6675450801849365,
          9.08387565612793,
          -0.27151843905448914,
          -2.9307401180267334,
          7.3991289138793945,
          -0.5998055934906006,
          -3.2106847763061523,
          -4.3332695960998535,
          11.224153518676758,
          5.511655330657959,
          -4.97682523727417,
          5.0808491706848145,
          1.1895899772644043,
          4.5827531814575195,
          2.965763807296753,
          -6.865476608276367,
          0.41228488087654114,
          -2.76542067527771,
          10.432048797607422,
          1.499900460243225,
          1.4337196350097656,
          -7.4677886962890625,
          11.19471263885498,
          -2.5535879135131836,
          -2.5496938228607178,
          0.7034123539924622,
          5.950424671173096,
          -3.860740900039673,
          -0.502199113368988,
          -2.0767219066619873,
          -13.021119117736816,
          -3.9721999168395996,
          8.604803085327148,
          12.245656967163086,
          9.861753463745117,
          -0.151550754904747,
          -1.0067493915557861,
          -5.810196399688721,
          -0.5371522307395935,
          13.669022560119629,
          -12.657395362854004,
          1.7601218223571777,
          11.561310768127441,
          8.334290504455566,
          2.101806640625,
          -4.330471038818359,
          0.528249979019165,
          -2.723775625228882,
          12.226581573486328,
          -4.774837017059326,
          -1.6595603227615356,
          -8.477752685546875,
          11.592466354370117,
          -9.694977760314941,
          -7.656853199005127,
          15.343149185180664,
          6.529356479644775,
          9.623662948608398,
          5.105337619781494,
          11.008700370788574,
          5.356464862823486,
          -3.3136818408966064,
          7.606499195098877,
          10.079687118530273,
          -3.7420196533203125,
          -4.601085186004639,
          5.575742721557617,
          11.473148345947266,
          12.301924705505371,
          -2.8055431842803955,
          -9.557818412780762,
          -8.394879341125488,
          -5.1325225830078125,
          -4.530272960662842,
          7.681459903717041,
          -7.998475074768066,
          1.2546555995941162,
          -7.940382480621338,
          -6.262080192565918,
          12.20481014251709,
          3.3821825981140137,
          6.729751110076904,
          -12.713409423828125,
          11.321340560913086,
          -3.3012239933013916,
          6.592883110046387,
          8.212294578552246,
          2.4233877658843994,
          -9.84463119506836,
          8.451915740966797,
          9.655942916870117,
          5.127232551574707,
          -1.3818517923355103,
          -7.685271739959717,
          -2.4442996978759766,
          8.596090316772461,
          -7.394161701202393,
          4.073052883148193,
          0.6441783905029297,
          -2.0493249893188477,
          11.488530158996582,
          -13.468080520629883,
          3.139954090118408,
          13.882148742675781,
          -5.030338764190674,
          -12.376225471496582,
          -6.113446235656738,
          -6.787879467010498,
          -3.366478204727173,
          6.341266632080078,
          -5.679248332977295,
          -4.987517356872559,
          4.388078212738037,
          -2.9834179878234863,
          -6.386251449584961,
          11.312098503112793,
          -1.81132972240448,
          9.16919231414795,
          -5.898338317871094,
          11.979008674621582,
          10.499391555786133,
          -0.19044703245162964,
          1.223920464515686,
          -4.353603839874268,
          -0.37791869044303894,
          -4.653026580810547,
          1.117281198501587,
          -2.556986093521118,
          -2.659874439239502,
          13.417078018188477,
          2.2080390453338623,
          -8.49154281616211,
          -4.1652679443359375,
          -5.322628498077393,
          -6.109932899475098,
          -3.6717677116394043,
          -1.9384963512420654,
          -0.020604487508535385,
          -10.564908981323242,
          8.966647148132324,
          -0.7153925895690918,
          12.545762062072754,
          4.82046365737915,
          -5.0631632804870605,
          -3.712268114089966,
          -7.165524005889893,
          -8.086825370788574,
          6.594524383544922,
          7.896241664886475,
          0.1796482354402542,
          2.311025857925415,
          -1.7528597116470337,
          -11.501091957092285,
          -9.137615203857422,
          16.300283432006836,
          8.072053909301758,
          -10.643336296081543,
          -0.7437062859535217,
          0.6484032273292542,
          -8.989740371704102,
          -3.1586124897003174,
          0.3766748309135437,
          -1.3317806720733643,
          14.477263450622559,
          12.080900192260742,
          -3.0159432888031006,
          -11.726165771484375,
          -8.387216567993164,
          -7.290256500244141,
          2.37752103805542,
          11.924342155456543,
          11.487027168273926,
          1.7244036197662354,
          -4.535970211029053,
          -10.667001724243164,
          0.8955159187316895,
          -7.129946231842041,
          -2.5051019191741943,
          7.6725640296936035,
          -4.028470993041992,
          -0.043620459735393524,
          9.969352722167969,
          13.76948356628418,
          3.5948352813720703,
          -1.4921270608901978,
          -2.1651885509490967,
          -0.852836549282074,
          12.18748950958252,
          10.986891746520996,
          11.94719123840332,
          12.468687057495117,
          0.3957976996898651,
          1.565394401550293,
          6.258918285369873,
          11.911849975585938,
          12.229552268981934,
          -7.270298004150391,
          -2.7121741771698,
          -9.13344669342041,
          12.214661598205566,
          10.314411163330078,
          6.53261661529541,
          -8.091548919677734,
          -0.02087128721177578,
          1.8902397155761719,
          9.228486061096191,
          -8.773778915405273,
          12.356780052185059,
          -9.606135368347168,
          9.083341598510742,
          -5.073204040527344,
          -4.488149166107178,
          -6.69923734664917,
          6.8155107498168945,
          8.05339527130127,
          -6.924103260040283,
          10.92680835723877,
          -2.5816359519958496,
          -3.043565034866333,
          13.06606388092041,
          -8.610626220703125,
          14.749788284301758,
          -1.0413413047790527,
          1.2899314165115356,
          1.7579689025878906,
          -7.0350518226623535,
          -6.771674633026123,
          11.310200691223145,
          -8.599343299865723,
          -1.8738096952438354,
          -7.302720546722412,
          -6.9813947677612305,
          -9.274150848388672,
          4.44061279296875,
          -2.5358259677886963,
          8.986989974975586,
          8.935752868652344,
          -4.557876110076904,
          -3.715742826461792,
          -8.864638328552246,
          -2.6891772747039795,
          12.544367790222168,
          9.975903511047363,
          -2.5791521072387695,
          3.1640841960906982,
          12.715740203857422,
          3.4015724658966064,
          -3.677361488342285,
          0.22382912039756775,
          -4.947550296783447,
          13.423690795898438,
          2.1763486862182617,
          -4.949113845825195,
          8.946484565734863,
          -12.661502838134766,
          -8.1357421875,
          -1.6579551696777344,
          6.695854187011719,
          -6.595203876495361,
          -12.000452041625977,
          10.20107364654541,
          -8.867873191833496,
          -0.7750744819641113,
          0.4152889549732208,
          -7.327124118804932,
          12.506173133850098,
          -0.9843419790267944,
          -8.378793716430664,
          11.393471717834473,
          -3.282660961151123,
          4.896309852600098,
          3.0384304523468018,
          -0.8393459916114807,
          -6.954394340515137,
          -9.129159927368164,
          -4.89436674118042,
          -5.9054059982299805,
          4.375140190124512,
          4.45678186416626,
          -13.058053016662598,
          8.691910743713379,
          -4.807764530181885,
          -6.6555280685424805,
          -6.112677097320557,
          -12.693828582763672,
          -7.678847789764404,
          -0.9599009156227112,
          -8.665706634521484,
          8.489995956420898,
          -9.797327995300293,
          -6.536956310272217,
          2.594892978668213,
          3.848843574523926,
          -3.890017509460449,
          -3.945779323577881,
          -2.588615894317627,
          -0.927232563495636,
          -1.357089877128601,
          11.208883285522461,
          8.345253944396973,
          5.7661261558532715,
          -7.5996551513671875,
          4.445298194885254,
          6.0050787925720215,
          6.864604949951172,
          -1.0952106714248657,
          9.36933422088623,
          -13.301462173461914,
          -6.3188276290893555,
          -8.696066856384277,
          0.5039071440696716,
          0.9306585192680359,
          9.863378524780273,
          10.457359313964844,
          10.788548469543457,
          5.769399166107178,
          3.080462694168091,
          12.3984375,
          -3.9040017127990723,
          -5.687081336975098,
          8.13289737701416,
          1.2884777784347534,
          -12.388574600219727,
          -3.443147897720337,
          4.506019115447998,
          10.274872779846191,
          -8.793243408203125,
          -5.487691402435303,
          -0.17532885074615479,
          -12.203303337097168,
          -1.8330861330032349,
          -4.747989177703857,
          -1.904061198234558,
          12.571455955505371,
          5.043440341949463,
          -9.044942855834961,
          1.4435886144638062,
          -6.869731426239014,
          7.887734413146973,
          14.703189849853516,
          11.058048248291016,
          -2.95169997215271,
          -3.746037244796753,
          -12.640061378479004,
          -13.96029281616211,
          1.2334727048873901,
          4.131348609924316,
          8.808948516845703,
          -1.4253392219543457,
          1.2560573816299438,
          6.443447113037109,
          -1.0732710361480713,
          4.603557586669922,
          -7.700921058654785,
          -7.180936336517334,
          -4.415442943572998,
          -4.527379512786865,
          -10.87190055847168,
          -2.4960196018218994,
          14.455778121948242,
          11.26591682434082,
          4.326521396636963,
          -4.266861915588379,
          9.003077507019043,
          -2.92111873626709,
          -4.403188705444336,
          -4.36556339263916,
          -10.35084342956543,
          -7.408381462097168,
          -4.836832046508789,
          -8.97736930847168,
          -2.651400327682495,
          -7.3865437507629395,
          4.285137176513672,
          -0.8950179815292358,
          -9.148338317871094,
          -3.217099905014038,
          -3.267324686050415,
          -0.14972838759422302,
          -9.388279914855957,
          -14.994009971618652,
          8.43775749206543,
          6.168699264526367,
          -5.73918342590332,
          -7.335517406463623,
          -2.834510326385498,
          0.24324503540992737,
          10.71264934539795,
          2.897644519805908,
          7.471510410308838,
          -7.885780334472656,
          4.522143840789795,
          -6.268542289733887,
          10.094465255737305,
          -3.1193079948425293,
          11.798474311828613,
          7.4620585441589355,
          0.08670162409543991,
          -5.828757286071777,
          -8.944368362426758,
          12.667082786560059,
          -2.8537821769714355,
          -4.455486297607422,
          -1.7608600854873657,
          11.619405746459961,
          -9.248467445373535,
          7.988199234008789,
          -3.6994845867156982,
          -5.870885848999023,
          5.230948448181152,
          -5.243828296661377,
          -7.617374897003174,
          12.277368545532227,
          -2.388993263244629,
          3.8923592567443848,
          -13.144020080566406,
          -4.926429271697998,
          -6.410337924957275,
          -6.5892720222473145,
          -1.5898712873458862,
          13.297643661499023,
          -1.4591699838638306,
          -9.19831371307373,
          -10.156641006469727,
          -10.50922966003418,
          -14.686379432678223,
          11.950843811035156,
          -5.461130142211914,
          -3.6389851570129395,
          2.6561646461486816,
          6.372985363006592,
          -11.792403221130371,
          8.338488578796387,
          0.804056704044342,
          11.341381072998047,
          -8.622337341308594,
          -4.53452205657959,
          13.099384307861328,
          4.682664394378662,
          1.4947360754013062,
          -12.393417358398438,
          13.395493507385254,
          -0.149647057056427,
          -9.053587913513184,
          -12.180756568908691,
          0.6743882298469543,
          11.397021293640137,
          -4.158893585205078,
          7.747665882110596,
          13.046347618103027,
          3.4555163383483887,
          11.276470184326172,
          -4.2370195388793945,
          -13.72478199005127,
          9.591944694519043,
          -1.6900672912597656,
          2.073452949523926,
          -7.673213481903076,
          -0.844088613986969,
          -8.35303020477295,
          -2.061293840408325,
          5.376786708831787,
          -4.435499668121338,
          -4.27541446685791,
          -6.999492645263672,
          -11.019050598144531,
          2.6287901401519775,
          -4.127580642700195,
          2.6028940677642822,
          9.571747779846191,
          16.22079086303711,
          12.822061538696289,
          -2.555666208267212,
          6.226800918579102,
          -9.15638542175293,
          -1.4932619333267212,
          0.7090999484062195,
          -2.618203639984131,
          8.317662239074707,
          1.9417874813079834,
          12.418523788452148,
          8.946541786193848,
          -9.584670066833496,
          -2.353158473968506,
          -0.014100730419158936,
          -0.23976658284664154,
          -0.04246269538998604,
          -8.76988410949707,
          6.273616313934326,
          4.9032206535339355,
          5.21953010559082,
          -8.5497465133667,
          4.547303676605225,
          -3.1677463054656982,
          0.4599321186542511,
          -3.297208309173584,
          12.14246654510498,
          -2.4439408779144287,
          1.0278959274291992,
          -9.809499740600586,
          -1.079790711402893,
          11.506772994995117,
          1.99888277053833,
          12.894203186035156,
          -11.247117042541504,
          8.924322128295898,
          -1.6917219161987305,
          6.211482524871826,
          -4.205472946166992,
          -11.427916526794434,
          -0.5078311562538147,
          1.4106508493423462,
          -3.8304035663604736,
          -1.0809305906295776,
          -0.8723013997077942,
          15.88689136505127,
          11.110586166381836,
          0.7513605356216431,
          -2.6807796955108643,
          8.052867889404297,
          6.995166778564453,
          -1.7361432313919067,
          -7.964574337005615,
          -9.272842407226562,
          -1.3514049053192139,
          2.316373109817505,
          8.784903526306152,
          -7.499477386474609,
          -0.5174473524093628,
          -5.904232025146484,
          15.73578929901123,
          -5.283786773681641,
          7.381802558898926,
          11.409496307373047,
          -0.31320294737815857,
          -7.410789489746094,
          -6.927900314331055,
          0.4589051604270935,
          9.872492790222168,
          -2.860555648803711,
          10.760895729064941,
          7.593464374542236,
          -3.4490222930908203,
          10.322272300720215,
          -11.451355934143066,
          -7.149326324462891,
          4.11541748046875,
          6.275552272796631,
          -15.725870132446289,
          -2.9592394828796387,
          2.6152772903442383,
          11.787019729614258,
          -5.924829959869385,
          -11.713248252868652,
          6.320441246032715,
          -6.544581890106201,
          -13.003231048583984,
          9.304010391235352,
          3.093018054962158,
          -5.232936859130859,
          -8.846343040466309,
          -4.510146141052246,
          5.367688179016113,
          4.536843776702881,
          2.4625601768493652,
          4.865839958190918,
          -0.009146999567747116,
          -12.118521690368652,
          0.6090846657752991,
          -12.933921813964844,
          -1.7573826313018799,
          3.1833791732788086,
          9.434220314025879,
          8.114751815795898,
          -10.589540481567383,
          10.357243537902832,
          1.4159505367279053,
          -2.873018741607666,
          -4.2149457931518555,
          -0.03186114504933357,
          2.9977781772613525,
          7.822021961212158,
          2.5168588161468506,
          -3.6473171710968018,
          -2.713428497314453,
          14.115310668945312,
          -0.4699952006340027,
          5.119380474090576,
          -0.5194922685623169,
          1.0458754301071167,
          12.93265151977539,
          -9.909480094909668,
          -9.007404327392578,
          6.268576145172119,
          -2.690187931060791,
          -0.43386125564575195,
          10.35169506072998,
          -8.904107093811035,
          -0.651332437992096,
          -3.5419843196868896,
          11.942609786987305,
          -12.52035903930664,
          -15.074223518371582,
          -3.8897900581359863,
          14.266611099243164,
          -0.6507123112678528,
          2.922922134399414,
          11.526551246643066,
          -12.634261131286621,
          12.287059783935547,
          -14.681069374084473,
          10.582098960876465,
          0.22675326466560364,
          0.02440270408987999,
          -3.674654006958008,
          1.8011653423309326,
          14.562041282653809,
          9.392111778259277,
          -4.537947177886963,
          12.135232925415039,
          -4.992240905761719,
          -3.0281178951263428,
          -5.682531356811523,
          0.8278365135192871,
          9.755958557128906,
          7.274603366851807,
          -5.032461643218994,
          9.772773742675781,
          -8.51363468170166,
          13.219612121582031,
          6.829775810241699,
          13.880675315856934,
          -5.984304904937744,
          -3.0990138053894043,
          10.816777229309082,
          7.576282024383545,
          -0.06791635602712631,
          -6.987581253051758,
          -1.9598180055618286,
          8.335103988647461,
          -4.680694580078125,
          -1.9447137117385864,
          -4.840257167816162,
          0.903725802898407,
          -10.713552474975586,
          -6.5943827629089355,
          -2.5394504070281982,
          3.1570615768432617,
          -2.533520460128784,
          -1.6845852136611938,
          -9.839457511901855,
          2.1338560581207275,
          -4.511559009552002,
          -0.8144484758377075,
          7.979284763336182,
          4.77690315246582,
          -10.315732955932617,
          -12.545641899108887,
          -3.480391025543213,
          4.889204502105713,
          -13.844156265258789,
          12.96915054321289,
          9.488555908203125,
          11.12743854522705,
          -12.569657325744629,
          13.9439697265625,
          -4.300220489501953,
          -14.668336868286133,
          -9.0950288772583,
          -2.37888765335083,
          -14.757804870605469,
          -10.559775352478027,
          -12.724989891052246,
          2.3069212436676025,
          15.992366790771484,
          -1.334214210510254,
          3.9673984050750732,
          13.4637451171875,
          -10.44198989868164,
          -6.512825965881348,
          -8.551505088806152,
          -2.6688437461853027,
          8.105612754821777,
          -3.040010929107666,
          -2.9560840129852295,
          -6.631556987762451,
          10.19029426574707,
          -8.079079627990723,
          6.01185417175293,
          12.186197280883789,
          1.064715027809143,
          -0.2310556322336197,
          -8.667953491210938,
          -1.4364933967590332,
          0.8041564226150513,
          -3.4263856410980225,
          -10.59848403930664,
          -5.704928398132324,
          3.595893383026123,
          10.27088451385498,
          -2.152834892272949,
          -5.871616363525391,
          -2.9224283695220947,
          -2.884591817855835,
          0.756683886051178,
          -15.29736328125,
          10.4995698928833,
          -2.274395227432251,
          14.122052192687988,
          2.4800326824188232,
          12.695334434509277,
          -6.700897216796875,
          -7.368443012237549,
          6.4506378173828125,
          -9.482093811035156,
          -1.5539357662200928,
          2.123222827911377,
          -6.489994049072266,
          1.256827473640442,
          0.777470052242279,
          -1.1045068502426147,
          0.8483288288116455,
          6.0328826904296875,
          -1.0570838451385498,
          -5.865068435668945,
          6.429855823516846,
          -6.266176223754883,
          -3.479639768600464,
          -1.1705222129821777,
          -11.726081848144531,
          7.88167142868042,
          2.392164945602417,
          -2.064091682434082,
          11.276689529418945,
          0.042320121079683304,
          -1.2560560703277588,
          -4.209639549255371,
          -14.711853981018066,
          -1.84048593044281,
          -12.143085479736328,
          -0.26505789160728455,
          -13.360591888427734,
          -0.9228211641311646,
          13.477926254272461,
          -1.363834261894226,
          -7.6848602294921875,
          11.916278839111328,
          8.769129753112793,
          13.024043083190918,
          0.16365912556648254,
          -11.433243751525879,
          12.025671005249023,
          -9.38877010345459,
          13.581498146057129,
          -3.8094170093536377,
          -5.480541706085205,
          -14.283392906188965,
          7.605104923248291,
          -0.8620098829269409,
          -7.972692012786865,
          -6.791841506958008,
          -3.201960563659668,
          -3.425568103790283,
          0.6637506484985352,
          13.651972770690918,
          -12.001399040222168,
          -1.6955088376998901,
          -9.642528533935547,
          -3.8144948482513428,
          0.07180044800043106,
          -4.017030715942383,
          -10.036341667175293,
          0.39319881796836853,
          -9.030102729797363,
          -1.9615898132324219,
          -6.624622344970703,
          -6.4821271896362305,
          1.5349990129470825,
          -3.16542911529541,
          13.255241394042969,
          1.5793261528015137,
          -12.730884552001953,
          -6.801260948181152,
          0.914680004119873,
          12.825620651245117,
          -10.286438941955566,
          3.059906482696533,
          -8.264986038208008,
          1.2526729106903076,
          -3.339534282684326,
          7.143927097320557,
          5.209231376647949,
          -10.017974853515625,
          -2.818523645401001,
          -2.185730457305908,
          9.450596809387207,
          6.692860126495361,
          -4.661308288574219,
          -2.326636791229248,
          7.275343418121338,
          -2.731119155883789,
          0.12216315418481827,
          -1.9405714273452759,
          -8.692414283752441,
          10.012271881103516,
          -2.866349220275879,
          -9.255309104919434,
          -10.971293449401855,
          4.86954927444458,
          -7.554233074188232,
          -4.593855857849121,
          0.622702419757843,
          -7.125074863433838,
          5.66756534576416,
          -12.211835861206055,
          2.196378707885742,
          -7.7139177322387695,
          4.994521141052246,
          4.058207988739014,
          -2.5104787349700928,
          -13.631415367126465,
          -2.3148398399353027,
          0.07955500483512878,
          -5.378923416137695,
          2.7111763954162598,
          -2.298253059387207,
          -7.7316975593566895,
          5.158201217651367,
          -1.6992661952972412,
          -5.421992778778076,
          8.471731185913086,
          11.972108840942383,
          -2.602640151977539,
          -6.597150802612305,
          -2.6330723762512207,
          -3.581838846206665,
          -4.264364719390869,
          7.299988269805908,
          -9.000093460083008,
          -7.499879837036133,
          -4.9003777503967285,
          -6.66299295425415,
          12.051996231079102,
          5.646617889404297,
          0.8323661088943481,
          3.2204983234405518,
          -0.5480279922485352,
          3.301318883895874,
          -4.331180572509766,
          10.87032699584961,
          -0.2675948143005371,
          -0.2075338214635849,
          8.163285255432129,
          -12.74502944946289,
          13.342175483703613,
          10.631753921508789,
          -9.066361427307129,
          7.669689655303955,
          1.137251853942871,
          -1.7829270362854004,
          -6.801602840423584,
          0.9563122987747192,
          -1.6417003870010376,
          7.453503131866455,
          7.349142551422119,
          -6.571261882781982,
          12.634672164916992,
          10.70458984375,
          7.039760112762451,
          -4.509869575500488,
          -1.1305562257766724,
          -1.2894343137741089,
          -6.567861080169678,
          3.9799628257751465,
          4.1859283447265625,
          -2.1606650352478027,
          3.7622461318969727,
          -4.546292781829834,
          3.2546348571777344,
          -3.948763847351074,
          9.808069229125977,
          2.528064489364624,
          -9.973700523376465,
          13.854805946350098,
          0.2403796762228012,
          5.579554080963135,
          -2.0955467224121094,
          -2.681781053543091,
          -4.057156085968018,
          14.630788803100586,
          -7.59112024307251,
          -9.209264755249023,
          -0.08426589518785477,
          -1.8375390768051147,
          13.229701042175293,
          -5.780928134918213,
          -10.14385986328125,
          -11.648978233337402,
          -11.331989288330078,
          -4.1849188804626465,
          10.500783920288086,
          -0.9373283982276917,
          1.9241927862167358,
          -10.004443168640137,
          13.465149879455566,
          -4.2405595779418945,
          -1.6724462509155273,
          12.758575439453125,
          10.078717231750488,
          -5.36033821105957,
          -0.3330506980419159,
          13.472432136535645,
          12.713239669799805,
          10.027939796447754,
          2.8534865379333496,
          -2.657926321029663,
          -4.27067756652832,
          1.8086063861846924,
          -9.661230087280273,
          -7.780025005340576,
          -2.579545736312866,
          13.410940170288086,
          6.947085380554199,
          -1.2923551797866821,
          -7.494973659515381,
          -9.608156204223633,
          11.026239395141602,
          -2.11982798576355,
          -2.931241273880005,
          6.741037368774414,
          -15.11968994140625,
          -3.585874319076538,
          -2.1206133365631104,
          -8.130988121032715,
          -7.288714408874512,
          8.836320877075195,
          2.2989137172698975,
          -10.937578201293945,
          -12.962827682495117,
          11.878073692321777,
          10.50550365447998,
          -0.7460777759552002,
          -2.7182776927948,
          9.022109985351562,
          1.129323124885559,
          -0.6763394474983215,
          -9.403392791748047,
          -1.351499080657959,
          -7.832218647003174,
          2.013475179672241,
          -7.49710750579834,
          -6.598313331604004,
          3.4827308654785156,
          1.0648373365402222,
          0.5481061935424805,
          -10.769540786743164,
          9.958457946777344,
          -2.225773334503174,
          2.0299415588378906,
          13.49190616607666,
          -5.912437915802002,
          -3.1064724922180176,
          15.9625883102417,
          5.044401168823242,
          -4.606760501861572,
          3.800520181655884,
          2.9772231578826904,
          -3.135469913482666,
          -4.602486610412598,
          -3.061488389968872,
          -12.542200088500977,
          -3.0464606285095215,
          -0.8882553577423096,
          -4.4229559898376465,
          -0.3025680482387543,
          0.28352537751197815,
          2.25636887550354,
          -1.8713948726654053,
          -4.453550338745117,
          3.792590618133545,
          2.579749584197998,
          -9.20441722869873,
          -13.431770324707031,
          -7.467475414276123,
          -2.8600924015045166,
          -12.302082061767578,
          0.4256356656551361,
          -7.644050598144531,
          -12.587105751037598,
          -5.048440933227539,
          -0.2760615646839142,
          -2.0851686000823975,
          4.557091236114502,
          5.969547748565674,
          8.100571632385254,
          9.632680892944336,
          -9.223774909973145,
          5.790444374084473,
          -3.5413899421691895,
          7.414340019226074,
          13.535562515258789,
          -0.6363440155982971,
          -13.719812393188477,
          -8.911072731018066,
          2.758976697921753,
          -4.014627933502197,
          11.34609317779541,
          8.608412742614746,
          -2.089048147201538,
          -8.393681526184082,
          10.212599754333496,
          6.169691562652588,
          -7.363690376281738,
          -12.78990650177002,
          6.208775997161865,
          -0.6236277222633362,
          -5.6370110511779785,
          -7.87964391708374,
          -4.363770008087158,
          -4.9477691650390625,
          11.74914264678955,
          4.759615421295166,
          -8.282471656799316,
          2.6530795097351074,
          -10.730473518371582,
          12.28242301940918,
          5.621460437774658,
          -10.558908462524414,
          -6.47788143157959,
          0.6087300777435303,
          5.460385799407959,
          -2.4258599281311035,
          -10.063403129577637,
          -10.029279708862305,
          -1.5283750295639038,
          0.26231738924980164,
          -1.4163323640823364,
          -0.9447657465934753,
          -7.644533634185791,
          -10.065513610839844,
          -0.43401703238487244,
          -3.2814230918884277,
          0.7258577942848206,
          -0.5990848541259766,
          -0.24746203422546387,
          -0.31161007285118103,
          -0.5472273230552673,
          -0.24356620013713837,
          -6.645887851715088,
          6.541048049926758,
          12.181635856628418,
          -3.1888911724090576,
          5.878632068634033,
          -4.1132612228393555,
          -2.3346524238586426,
          -1.2246174812316895,
          2.072521209716797,
          -6.405816555023193,
          11.5957612991333,
          -4.207657337188721,
          2.0311481952667236,
          -1.3952488899230957,
          -2.510802984237671,
          -4.971506595611572,
          -1.438504695892334,
          -3.8947272300720215,
          -4.073159217834473,
          -11.703503608703613,
          -0.41871947050094604,
          1.9630553722381592,
          -0.45981767773628235,
          9.161991119384766,
          -8.317938804626465,
          -2.5131728649139404,
          9.179594993591309,
          1.2506036758422852,
          -1.9023323059082031,
          -11.757165908813477,
          -1.8663661479949951,
          4.3679280281066895,
          -8.018056869506836,
          -4.367175102233887,
          5.08291482925415,
          -0.7839846014976501,
          6.277168273925781,
          11.348370552062988,
          2.899003267288208,
          5.412435531616211,
          0.568545401096344,
          -0.67979896068573,
          -3.2719173431396484,
          12.182889938354492,
          8.839457511901855,
          2.3129563331604004,
          -2.355085611343384,
          -0.30891743302345276,
          -0.06622844934463501,
          -3.3890373706817627,
          4.631114482879639,
          4.8077216148376465,
          -0.6126012206077576,
          9.828459739685059,
          6.265448093414307,
          -0.8949780464172363,
          -1.0782935619354248,
          7.543530464172363,
          -5.721487045288086,
          -2.0502254962921143,
          1.310783863067627,
          -13.081439018249512,
          -4.700262546539307,
          12.136534690856934,
          5.7991943359375,
          0.1353328675031662,
          -1.81330406665802,
          -0.37752965092658997,
          -0.639306366443634,
          1.2475154399871826,
          -7.296902656555176,
          -8.534354209899902,
          -3.4998722076416016,
          8.85548210144043,
          -11.79037857055664,
          8.374981880187988,
          12.403135299682617,
          -3.6980934143066406,
          12.463665962219238,
          8.949265480041504,
          3.8092079162597656,
          -1.5530012845993042,
          10.500346183776855,
          -5.792949676513672,
          9.452454566955566,
          -1.9921406507492065,
          -4.501091480255127,
          6.037207126617432,
          -5.709427833557129,
          10.312929153442383,
          4.761343479156494,
          8.396946907043457,
          13.208349227905273,
          -6.1428704261779785,
          1.2710528373718262,
          -5.966825485229492,
          2.7611725330352783,
          14.728843688964844,
          15.251270294189453,
          -5.475008964538574,
          0.611993134021759,
          -11.42549991607666,
          0.8069619536399841,
          7.319249153137207,
          8.677639961242676,
          -0.6969346404075623,
          -3.0128555297851562,
          -9.312546730041504,
          4.154933929443359,
          2.5905187129974365,
          -0.6835787296295166,
          -1.7697339057922363,
          -7.631948947906494,
          4.955725193023682,
          -0.2733978033065796,
          -0.8635736107826233,
          -0.4716443717479706,
          9.545035362243652,
          -2.2088077068328857,
          -5.186687469482422,
          -2.3704628944396973,
          2.303122043609619,
          9.86474895477295,
          -13.41227912902832,
          -9.6115083694458,
          14.478062629699707,
          -6.089957237243652,
          -1.0527783632278442,
          9.048506736755371,
          12.785418510437012,
          7.248230457305908,
          -0.904259979724884,
          -0.25042924284935,
          9.579041481018066,
          8.378063201904297,
          -1.1156678199768066,
          -12.828392028808594,
          9.952502250671387,
          3.1504123210906982,
          -5.792805194854736,
          14.39365291595459,
          -10.640013694763184,
          4.195564270019531,
          4.495596885681152,
          4.0553154945373535,
          11.99965763092041,
          11.775437355041504,
          -15.373907089233398,
          -3.0384724140167236,
          11.577276229858398,
          7.343504428863525,
          -10.046747207641602,
          -6.231513977050781,
          -1.4114023447036743,
          -14.733498573303223,
          6.368566036224365,
          -3.289794683456421,
          -4.963595390319824,
          6.418922424316406,
          -7.871662616729736,
          -3.8722450733184814,
          -13.863851547241211,
          -5.724827289581299,
          -0.38127487897872925,
          -7.970069885253906,
          -7.004410743713379,
          7.715706825256348,
          3.6835131645202637,
          -3.8253235816955566,
          9.240863800048828,
          16.078088760375977,
          8.604578018188477,
          -0.5783759951591492,
          9.334704399108887,
          -4.922060966491699,
          -4.320911407470703,
          4.9327392578125,
          -7.165406227111816,
          -1.2638139724731445,
          7.886444091796875,
          1.8716990947723389,
          -9.873714447021484,
          -10.167908668518066,
          -3.634510040283203,
          -2.2930996417999268,
          8.411128044128418,
          -4.786411285400391,
          -1.111833930015564,
          -4.166017532348633,
          -12.162405967712402,
          -2.673344612121582,
          12.861927032470703,
          7.991455554962158,
          -3.1529276371002197,
          13.556580543518066,
          14.536979675292969,
          -5.605926036834717,
          -11.054813385009766,
          10.404460906982422,
          0.17598485946655273,
          11.799606323242188,
          -0.03345590829849243,
          12.27450942993164,
          4.479986190795898,
          9.73451042175293,
          7.242186546325684,
          -3.1080868244171143,
          -12.563494682312012,
          -2.827807664871216,
          -1.4844841957092285,
          -10.07370376586914,
          13.595870971679688,
          -14.66872501373291,
          2.4169745445251465,
          -7.073042392730713,
          13.192498207092285,
          -1.475594401359558,
          2.0097737312316895,
          8.717304229736328,
          0.1560097485780716,
          4.06754207611084,
          -4.864865303039551,
          -6.5479736328125,
          11.019989967346191,
          -0.965982973575592,
          -0.6713510155677795,
          0.7286168932914734,
          3.1945488452911377,
          13.659440040588379,
          -4.159142017364502,
          1.2856050729751587,
          13.523877143859863,
          0.5632461905479431,
          -7.911535263061523,
          -7.668276309967041,
          4.752423286437988,
          -4.155122756958008,
          0.7335254549980164,
          -7.911192417144775,
          2.9975903034210205,
          -4.989770889282227,
          4.736972808837891,
          12.78238582611084,
          4.458603382110596,
          -6.692717552185059,
          2.700486183166504,
          14.648809432983398,
          6.134909152984619,
          3.254629611968994,
          -2.4772629737854004,
          1.3108247518539429,
          -2.713289737701416,
          -1.8355817794799805,
          1.802972435951233,
          1.913927674293518,
          -3.5288126468658447,
          3.182239055633545,
          -3.396713972091675,
          -6.662458419799805,
          -7.699305534362793,
          1.313789963722229,
          -4.45084810256958,
          3.381700277328491,
          12.365682601928711,
          -8.059381484985352,
          11.939624786376953,
          4.698366165161133,
          12.259612083435059,
          2.1528520584106445,
          -14.927927017211914,
          -1.3153895139694214,
          6.030709743499756,
          -13.920735359191895,
          -0.0047951312735676765,
          -13.282496452331543,
          4.63824987411499,
          3.0244204998016357,
          -13.026129722595215,
          10.059762001037598,
          -3.275554656982422,
          5.755927562713623,
          -13.150147438049316
         ],
         "y": [
          13.104705810546875,
          9.316494941711426,
          7.870521068572998,
          -3.073612928390503,
          7.505693435668945,
          -3.996913194656372,
          -6.711177825927734,
          -0.987356960773468,
          2.849653720855713,
          -1.1517773866653442,
          7.6548752784729,
          11.51530933380127,
          11.95853042602539,
          -0.7431311011314392,
          -1.2229976654052734,
          0.1125032901763916,
          -0.25550493597984314,
          2.0775983333587646,
          11.743738174438477,
          -3.5974624156951904,
          2.599005699157715,
          -3.898240566253662,
          1.7833075523376465,
          10.247414588928223,
          1.1819548606872559,
          5.319541931152344,
          8.611766815185547,
          5.122650623321533,
          6.631175518035889,
          10.562446594238281,
          3.460488796234131,
          2.3533055782318115,
          0.7590391039848328,
          4.119332790374756,
          -4.845807075500488,
          -0.4070846140384674,
          2.6108014583587646,
          1.497046947479248,
          10.139657974243164,
          -0.6333463191986084,
          6.381720066070557,
          -5.914666652679443,
          -3.4358270168304443,
          -10.735300064086914,
          -2.1299538612365723,
          -6.3189802169799805,
          -9.938273429870605,
          -0.8904711008071899,
          -6.66495418548584,
          -6.72995662689209,
          5.731452941894531,
          2.734280824661255,
          -4.82814359664917,
          -8.398898124694824,
          -11.528167724609375,
          7.097233295440674,
          5.188168048858643,
          -4.587981224060059,
          12.326746940612793,
          -2.073152780532837,
          -3.890343189239502,
          -0.8968826532363892,
          1.9119880199432373,
          5.962785720825195,
          7.771029949188232,
          8.170307159423828,
          -9.830880165100098,
          8.1674222946167,
          -9.855729103088379,
          6.243412494659424,
          1.590886116027832,
          -7.0053019523620605,
          -6.883194923400879,
          0.41976669430732727,
          -4.46627140045166,
          1.9517796039581299,
          -9.018855094909668,
          2.2670037746429443,
          -2.9422476291656494,
          10.597831726074219,
          -12.548423767089844,
          -9.390876770019531,
          7.896589756011963,
          2.15903902053833,
          -3.2607223987579346,
          1.0421897172927856,
          1.3644901514053345,
          -1.3145536184310913,
          9.163689613342285,
          -6.4855570793151855,
          12.726401329040527,
          -1.5392544269561768,
          3.3193321228027344,
          -3.270446300506592,
          -6.085951805114746,
          0.6933144330978394,
          -1.2113279104232788,
          8.17483901977539,
          11.23403549194336,
          4.420525074005127,
          1.2993299961090088,
          -2.2229115962982178,
          8.404561042785645,
          -0.10848164558410645,
          -8.7407865524292,
          1.8060681819915771,
          3.737130880355835,
          -1.0947762727737427,
          4.345769882202148,
          -10.082832336425781,
          2.4797818660736084,
          -7.724001407623291,
          3.3432343006134033,
          3.926778554916382,
          -2.1993305683135986,
          -5.892226219177246,
          -2.0948996543884277,
          5.5531415939331055,
          -0.40530848503112793,
          -8.718107223510742,
          -3.6201188564300537,
          -6.562356948852539,
          1.3981250524520874,
          0.8409917950630188,
          1.3500336408615112,
          -4.713637828826904,
          -5.105112075805664,
          -0.04986756667494774,
          -4.304605960845947,
          -2.096768379211426,
          3.0619912147521973,
          4.207233905792236,
          0.35835447907447815,
          -1.7290557622909546,
          4.121158123016357,
          -3.2461421489715576,
          7.536532402038574,
          -5.101738452911377,
          -0.7863401174545288,
          -2.9605307579040527,
          -2.9768054485321045,
          -6.657604217529297,
          -6.093169212341309,
          -6.915450096130371,
          -1.2856502532958984,
          2.1388466358184814,
          5.0029072761535645,
          -3.11323618888855,
          4.375830173492432,
          -6.876183032989502,
          4.236315727233887,
          -9.89981746673584,
          -8.663881301879883,
          15.385704040527344,
          -4.092823505401611,
          14.292691230773926,
          3.8060388565063477,
          -10.355332374572754,
          -8.762571334838867,
          -6.307250499725342,
          1.062954068183899,
          13.343160629272461,
          -9.914119720458984,
          -4.416995525360107,
          -2.9243013858795166,
          0.5872665643692017,
          -10.11083698272705,
          2.3451714515686035,
          -6.626133441925049,
          9.13628101348877,
          -1.9918237924575806,
          -6.492269992828369,
          3.306070327758789,
          -3.8259222507476807,
          0.7806485891342163,
          -1.0173144340515137,
          3.4456381797790527,
          -6.5480637550354,
          13.311687469482422,
          5.896706581115723,
          0.7681667804718018,
          -13.087921142578125,
          -7.164112567901611,
          -1.3110920190811157,
          -3.7230072021484375,
          0.31011638045310974,
          -6.322274684906006,
          -3.9583678245544434,
          5.748318672180176,
          -6.461010932922363,
          1.367796778678894,
          8.324143409729004,
          7.056106090545654,
          14.695796966552734,
          2.8736445903778076,
          -3.8677961826324463,
          -2.953645706176758,
          -3.6076951026916504,
          -3.471689462661743,
          -5.36133337020874,
          6.933043003082275,
          -8.53472900390625,
          14.268841743469238,
          -8.208353996276855,
          -4.697066307067871,
          -9.153141021728516,
          -1.4065816402435303,
          -4.0146636962890625,
          -8.976252555847168,
          -12.626936912536621,
          9.54603099822998,
          6.424687385559082,
          0.7093729972839355,
          10.220063209533691,
          3.515172004699707,
          1.3403187990188599,
          9.10450553894043,
          7.598028659820557,
          -6.149433612823486,
          -1.5582326650619507,
          -12.448667526245117,
          -7.524319171905518,
          -5.344628810882568,
          10.469982147216797,
          -3.500828981399536,
          15.221138000488281,
          7.545935153961182,
          4.993356227874756,
          -7.453754425048828,
          6.251808166503906,
          -0.17761297523975372,
          14.254571914672852,
          5.633663654327393,
          -5.788406848907471,
          -6.673861026763916,
          6.046070098876953,
          -5.24414587020874,
          -9.435586929321289,
          -0.03657138720154762,
          -10.07865047454834,
          -8.498546600341797,
          -4.315098762512207,
          6.116074085235596,
          -5.42429256439209,
          -4.914660453796387,
          10.935114860534668,
          5.497310638427734,
          1.5242156982421875,
          10.062005043029785,
          -0.6065759658813477,
          -4.407015323638916,
          11.680220603942871,
          4.159584045410156,
          -5.456923007965088,
          -10.33813190460205,
          -3.3375165462493896,
          1.2553420066833496,
          0.24600356817245483,
          1.6401994228363037,
          -7.625272274017334,
          5.055500030517578,
          -8.378486633300781,
          6.385280609130859,
          12.79830551147461,
          3.288208246231079,
          -0.8593814969062805,
          0.9190796613693237,
          5.407139778137207,
          4.25875186920166,
          -0.705155074596405,
          -3.7861883640289307,
          -11.522420883178711,
          4.7898688316345215,
          -4.924528121948242,
          -2.9838390350341797,
          -6.359432697296143,
          9.764901161193848,
          9.520710945129395,
          3.1021995544433594,
          10.255266189575195,
          -3.120290756225586,
          -3.09175181388855,
          1.4946094751358032,
          -2.521702527999878,
          -7.286309719085693,
          -1.0200841426849365,
          -8.310351371765137,
          3.064962387084961,
          7.581179141998291,
          4.594328880310059,
          7.786741256713867,
          9.108589172363281,
          1.763536810874939,
          -5.094823360443115,
          0.9213469624519348,
          -3.8335392475128174,
          -0.08052797615528107,
          11.343841552734375,
          -0.6303333640098572,
          6.878628253936768,
          -7.42071008682251,
          -2.7201240062713623,
          0.6506508588790894,
          -0.3137897551059723,
          7.481486797332764,
          -6.719525337219238,
          1.1449873447418213,
          -1.1995375156402588,
          8.343657493591309,
          -3.747288465499878,
          -3.9612677097320557,
          4.9883341789245605,
          0.8713083863258362,
          5.87393045425415,
          -0.7964050769805908,
          -2.105858564376831,
          -2.525954008102417,
          -7.227093696594238,
          -11.97355842590332,
          -8.401524543762207,
          3.794936180114746,
          1.2227658033370972,
          -5.599266529083252,
          -0.5090145468711853,
          -2.0029215812683105,
          12.906954765319824,
          -7.5076823234558105,
          -5.180988311767578,
          -6.704990863800049,
          4.330170631408691,
          -9.074088096618652,
          -11.435200691223145,
          14.450766563415527,
          -0.7463065385818481,
          -2.687972068786621,
          4.341960906982422,
          -9.922381401062012,
          -3.081808567047119,
          0.5014634132385254,
          2.578000783920288,
          -0.9918254613876343,
          6.245323657989502,
          6.303287029266357,
          7.7810468673706055,
          -6.439817905426025,
          -5.028120994567871,
          -1.5590490102767944,
          7.60120964050293,
          4.0185394287109375,
          1.3569858074188232,
          -12.303927421569824,
          2.5144996643066406,
          6.622149467468262,
          1.7917227745056152,
          8.002532958984375,
          7.113168716430664,
          -7.840050220489502,
          9.057069778442383,
          5.832273960113525,
          -9.574625015258789,
          2.4553093910217285,
          3.8968088626861572,
          -2.211972951889038,
          -3.461383104324341,
          2.083235263824463,
          -1.2001292705535889,
          2.482137680053711,
          -7.3365888595581055,
          -2.807178020477295,
          3.944432258605957,
          -5.418734073638916,
          -13.147553443908691,
          -5.840952396392822,
          -13.279340744018555,
          2.59053897857666,
          1.643438458442688,
          11.295297622680664,
          3.438904047012329,
          -1.6855286359786987,
          -0.45320844650268555,
          7.645890712738037,
          -0.03157445788383484,
          14.97632884979248,
          7.393067359924316,
          6.27094030380249,
          -7.641937732696533,
          3.2758285999298096,
          7.8657989501953125,
          -4.973212242126465,
          11.849565505981445,
          16.139034271240234,
          -1.8554704189300537,
          8.2522611618042,
          1.5804096460342407,
          -11.09947681427002,
          6.373969078063965,
          12.918997764587402,
          -4.7712626457214355,
          -6.453385353088379,
          -7.668542385101318,
          2.41176176071167,
          2.362142562866211,
          -4.350198745727539,
          8.05636215209961,
          1.6475310325622559,
          -5.5998101234436035,
          12.6521577835083,
          11.480693817138672,
          -3.4389262199401855,
          2.528366804122925,
          -5.2370219230651855,
          3.296463966369629,
          2.7150349617004395,
          -2.7748420238494873,
          -3.1543211936950684,
          1.4238996505737305,
          6.857948303222656,
          -13.15157699584961,
          1.6729214191436768,
          -3.6473963260650635,
          -1.9269912242889404,
          3.0961365699768066,
          -7.728255748748779,
          2.0239319801330566,
          -8.393098831176758,
          -1.719107985496521,
          -3.976442337036133,
          7.188160419464111,
          1.823791742324829,
          -6.030961513519287,
          12.203503608703613,
          4.841754913330078,
          13.289972305297852,
          -7.396442413330078,
          15.227112770080566,
          1.3695056438446045,
          1.5866503715515137,
          -0.5758997201919556,
          -9.619003295898438,
          1.8130905628204346,
          1.1893517971038818,
          1.6127369403839111,
          7.384682655334473,
          -2.1503326892852783,
          15.486855506896973,
          4.588903903961182,
          3.3987367153167725,
          1.6528719663619995,
          12.525650978088379,
          -0.6677444577217102,
          8.00105094909668,
          1.772093415260315,
          -8.295445442199707,
          2.9146616458892822,
          -9.425365447998047,
          -5.32289981842041,
          -3.4307796955108643,
          3.530890941619873,
          6.5543904304504395,
          11.494902610778809,
          0.880456268787384,
          -5.911167621612549,
          5.5984907150268555,
          -1.3371702432632446,
          -6.252551078796387,
          0.4019000232219696,
          -7.444295406341553,
          3.612232208251953,
          4.274500846862793,
          -8.925543785095215,
          2.6775362491607666,
          -5.0735273361206055,
          -5.060657501220703,
          -7.215860843658447,
          -4.751677989959717,
          7.408412933349609,
          -5.817946910858154,
          3.935136079788208,
          0.5058631300926208,
          -1.5637868642807007,
          -3.9969983100891113,
          -6.060318946838379,
          -1.9278247356414795,
          -4.817511558532715,
          16.234783172607422,
          -1.9976561069488525,
          0.08912423253059387,
          -0.0034771375358104706,
          5.89267110824585,
          -5.827767848968506,
          6.124084949493408,
          5.53056001663208,
          14.027161598205566,
          3.699880361557007,
          6.46408224105835,
          0.11985214054584503,
          4.058696269989014,
          -9.264792442321777,
          -1.7286579608917236,
          15.900039672851562,
          -2.9434847831726074,
          8.9896821975708,
          -3.6575021743774414,
          -1.427795171737671,
          -3.5980641841888428,
          -1.5921788215637207,
          -7.103559970855713,
          -0.3214194178581238,
          5.563099384307861,
          -3.723202705383301,
          1.0187627077102661,
          -1.0080646276474,
          4.114333152770996,
          -1.954420804977417,
          14.624398231506348,
          -9.599443435668945,
          -8.992437362670898,
          -8.855500221252441,
          1.7364094257354736,
          -0.3748689591884613,
          8.013797760009766,
          -2.6461212635040283,
          5.518526077270508,
          14.91716194152832,
          -6.2856340408325195,
          -8.710261344909668,
          3.3892812728881836,
          3.779564142227173,
          -4.902088165283203,
          -10.32650375366211,
          1.3961747884750366,
          -8.757810592651367,
          -7.802367210388184,
          -7.250484943389893,
          -8.982854843139648,
          13.546070098876953,
          3.8351058959960938,
          12.330638885498047,
          -6.995993614196777,
          -10.989627838134766,
          12.385560035705566,
          10.456656455993652,
          2.060495138168335,
          12.778599739074707,
          2.89182186126709,
          1.5274527072906494,
          15.67778205871582,
          -1.0966072082519531,
          7.786144733428955,
          -2.9703307151794434,
          -3.826169967651367,
          2.3478455543518066,
          -11.528301239013672,
          -6.384071350097656,
          -6.448904991149902,
          3.0055811405181885,
          7.29849100112915,
          -7.940051555633545,
          -9.42684555053711,
          12.068944931030273,
          -0.9462569952011108,
          -5.618637561798096,
          7.920378684997559,
          10.900275230407715,
          -2.39088773727417,
          4.093165397644043,
          14.926715850830078,
          8.776551246643066,
          6.7372965812683105,
          2.1940324306488037,
          -6.181792259216309,
          6.2812604904174805,
          -6.488991737365723,
          -3.7269175052642822,
          -7.434831619262695,
          -0.5778074860572815,
          -6.807811260223389,
          6.861204624176025,
          -2.8425936698913574,
          0.1823175698518753,
          6.821532726287842,
          -2.953369617462158,
          -1.190155267715454,
          -1.0893818140029907,
          -3.6807057857513428,
          4.650330543518066,
          8.463445663452148,
          1.3875209093093872,
          -6.851562023162842,
          -2.430884838104248,
          -4.4702839851379395,
          -3.8308417797088623,
          1.8834645748138428,
          -9.762972831726074,
          4.06877326965332,
          -3.8878793716430664,
          7.104892730712891,
          -3.2820088863372803,
          -5.838156223297119,
          -10.51213264465332,
          7.718066692352295,
          5.111221790313721,
          3.6939916610717773,
          -2.071765422821045,
          7.933788776397705,
          -9.799159049987793,
          -2.0168261528015137,
          -8.43374252319336,
          2.7113559246063232,
          -2.4662208557128906,
          -13.533321380615234,
          4.241090774536133,
          5.527877330780029,
          -3.740100383758545,
          -8.767607688903809,
          5.238141059875488,
          -10.051441192626953,
          9.237282752990723,
          1.702256202697754,
          -3.953035593032837,
          0.977796733379364,
          9.037507057189941,
          -5.630477428436279,
          0.04041951149702072,
          5.706048011779785,
          12.88364315032959,
          5.837156772613525,
          -8.157048225402832,
          0.5003246068954468,
          -3.3707995414733887,
          14.210044860839844,
          6.529973983764648,
          8.406961441040039,
          7.041612148284912,
          4.8388824462890625,
          0.05506717413663864,
          8.652518272399902,
          1.815053105354309,
          -3.053875684738159,
          9.793139457702637,
          1.1385022401809692,
          -3.0160789489746094,
          12.260839462280273,
          15.31198501586914,
          -2.947235345840454,
          -7.955738544464111,
          3.805525779724121,
          -10.37903118133545,
          2.606671094894409,
          -4.70308780670166,
          8.734620094299316,
          6.67243766784668,
          8.947293281555176,
          0.6636490821838379,
          -13.108572006225586,
          -4.882381916046143,
          -10.280316352844238,
          0.6760246753692627,
          -0.2783886194229126,
          -0.10080202668905258,
          -0.6725303530693054,
          2.479617118835449,
          1.3058979511260986,
          -3.0778446197509766,
          -4.987890720367432,
          -4.038103103637695,
          -13.634357452392578,
          -2.5402965545654297,
          9.333261489868164,
          11.484835624694824,
          1.5106414556503296,
          -7.537779808044434,
          6.863301753997803,
          2.62009334564209,
          12.724249839782715,
          -3.30375337600708,
          9.788091659545898,
          -6.169066905975342,
          10.754807472229004,
          4.704902648925781,
          4.709526538848877,
          3.0854673385620117,
          11.478946685791016,
          -12.214911460876465,
          4.967295169830322,
          2.453495740890503,
          -2.6409833431243896,
          -4.477955341339111,
          10.618149757385254,
          -3.2011210918426514,
          4.19236946105957,
          -3.8923022747039795,
          -2.102257490158081,
          -9.70722484588623,
          10.727519035339355,
          -1.4435440301895142,
          -6.050722122192383,
          -2.819319009780884,
          4.476666450500488,
          -0.23385338485240936,
          1.4542343616485596,
          7.069867134094238,
          -8.202974319458008,
          6.7777628898620605,
          5.274359226226807,
          -10.85098934173584,
          3.0082077980041504,
          1.3729982376098633,
          -4.413105487823486,
          -2.4316585063934326,
          3.6232244968414307,
          -7.005170822143555,
          -7.683028221130371,
          -7.466817855834961,
          -1.3286813497543335,
          7.669832706451416,
          -5.807585716247559,
          -0.6175178289413452,
          6.921163082122803,
          10.57852554321289,
          6.318047046661377,
          -4.970162391662598,
          -4.076718807220459,
          -8.999471664428711,
          3.1809639930725098,
          -4.028525352478027,
          -1.3504247665405273,
          -3.4077134132385254,
          -0.2139919102191925,
          12.931649208068848,
          -7.056114196777344,
          5.577386379241943,
          -9.070918083190918,
          -4.278820514678955,
          -1.213214635848999,
          2.455958366394043,
          7.045290946960449,
          -13.012406349182129,
          -6.467884063720703,
          -0.1156078353524208,
          -5.763828754425049,
          -7.465590000152588,
          -8.48025894165039,
          -6.13270902633667,
          -11.99803352355957,
          0.20636676251888275,
          -5.499351501464844,
          6.1126179695129395,
          -10.06505298614502,
          -2.159973621368408,
          0.8092870712280273,
          -5.846446514129639,
          -2.562361001968384,
          -5.01986026763916,
          9.98532485961914,
          2.709658622741699,
          -2.948932409286499,
          -2.858245372772217,
          1.293923020362854,
          -6.751660346984863,
          9.162376403808594,
          -9.077476501464844,
          1.282325029373169,
          -3.9737601280212402,
          4.838937759399414,
          0.09075595438480377,
          3.1518163681030273,
          -1.9004409313201904,
          -3.59127140045166,
          -5.436197280883789,
          2.348924160003662,
          2.7284131050109863,
          6.730515480041504,
          4.0210981369018555,
          -1.217968225479126,
          -9.631024360656738,
          -5.123796463012695,
          2.6372344493865967,
          3.1763832569122314,
          14.141999244689941,
          -3.064300775527954,
          12.942411422729492,
          -9.439974784851074,
          -7.133851528167725,
          6.882770538330078,
          10.443048477172852,
          -3.987771511077881,
          -2.8039913177490234,
          -2.3722338676452637,
          8.225902557373047,
          3.2091903686523438,
          -2.5130820274353027,
          1.7932459115982056,
          13.20464038848877,
          -9.681177139282227,
          -1.018739938735962,
          11.802867889404297,
          -5.178244590759277,
          -5.1089677810668945,
          -3.2796080112457275,
          -13.351724624633789,
          0.7655783891677856,
          -2.4992494583129883,
          5.389916896820068,
          -1.922187089920044,
          -7.433773994445801,
          14.796390533447266,
          -0.2546447515487671,
          2.076871156692505,
          2.0297915935516357,
          -1.946001648902893,
          -2.0674612522125244,
          15.544502258300781,
          -1.360459327697754,
          -8.072178840637207,
          1.0520118474960327,
          -5.549405097961426,
          0.5767878890037537,
          -3.7510175704956055,
          6.538821697235107,
          0.362318217754364,
          13.15541934967041,
          -3.240122079849243,
          9.939237594604492,
          -3.977827787399292,
          -9.622982025146484,
          7.727802753448486,
          1.5688389539718628,
          -1.488602876663208,
          10.073397636413574,
          -4.405516147613525,
          -4.030711650848389,
          -9.81702709197998,
          8.558603286743164,
          3.0592751502990723,
          1.8064358234405518,
          -9.000480651855469,
          11.335505485534668,
          -4.51986837387085,
          4.389717102050781,
          12.58907413482666,
          -4.539985179901123,
          1.142496109008789,
          -13.650639533996582,
          -7.4499030113220215,
          -3.8894202709198,
          -4.990312099456787,
          2.0759329795837402,
          -6.548663139343262,
          5.299041271209717,
          -3.733607053756714,
          9.015839576721191,
          -5.4817070960998535,
          8.070660591125488,
          -2.4466192722320557,
          -4.923696517944336,
          5.5141496658325195,
          -9.826818466186523,
          -3.584634780883789,
          -4.430441856384277,
          9.322176933288574,
          -0.8610837459564209,
          -5.732726573944092,
          3.2921900749206543,
          -2.153808832168579,
          6.732635021209717,
          0.13863901793956757,
          0.5104055404663086,
          1.2588707208633423,
          7.655796051025391,
          -9.301801681518555,
          10.834832191467285,
          -0.7561137676239014,
          -3.7251017093658447,
          3.4291915893554688,
          14.944831848144531,
          -8.513171195983887,
          7.762365341186523,
          9.021339416503906,
          4.215216636657715,
          -7.314025402069092,
          2.9308247566223145,
          -4.932885646820068,
          -10.34662914276123,
          2.7573182582855225,
          -3.389010190963745,
          12.614335060119629,
          -6.7159318923950195,
          -9.017009735107422,
          3.6645421981811523,
          7.093602180480957,
          9.754356384277344,
          -0.6303693652153015,
          0.8986412882804871,
          10.849176406860352,
          -3.254530906677246,
          9.271879196166992,
          7.778591156005859,
          0.7877604365348816,
          1.2070521116256714,
          -4.593576431274414,
          -4.483452796936035,
          1.4564940929412842,
          10.921365737915039,
          -7.007856845855713,
          10.296597480773926,
          1.0212886333465576,
          3.518841028213501,
          6.184568881988525,
          9.162666320800781,
          4.8259501457214355,
          8.248332977294922,
          4.870842456817627,
          7.5609002113342285,
          -10.21035385131836,
          -5.436768531799316,
          -0.45967015624046326,
          7.694183826446533,
          -6.717105388641357,
          -4.478754997253418,
          9.689455032348633,
          9.370335578918457,
          6.621852874755859,
          -2.2417893409729004,
          -12.058455467224121,
          -12.240215301513672,
          -1.8188284635543823,
          -0.7939647436141968,
          4.17642879486084,
          13.690954208374023,
          -1.4221999645233154,
          12.642742156982422,
          -5.8454155921936035,
          -0.8739518523216248,
          5.443169593811035,
          2.95668625831604,
          -1.7524425983428955,
          1.797411561012268,
          9.383788108825684,
          6.532615661621094,
          -9.939909934997559,
          4.245184898376465,
          5.4640021324157715,
          -1.8183408975601196,
          3.124359130859375,
          6.237604141235352,
          -3.6037230491638184,
          14.711761474609375,
          -0.19995282590389252,
          2.3135557174682617,
          -0.050220753997564316,
          1.4916791915893555,
          -3.200467586517334,
          -0.7611854076385498,
          -0.8994386792182922,
          -2.054058074951172,
          -3.4355220794677734,
          0.13027405738830566,
          -3.5847434997558594,
          -14.639151573181152,
          0.19631870090961456,
          -0.9057627320289612,
          -13.537211418151855,
          -7.706188201904297,
          2.6516549587249756,
          -8.037914276123047,
          1.2002183198928833,
          -5.288780689239502,
          -6.313987731933594,
          -7.803771495819092,
          7.768478870391846,
          1.65302312374115,
          12.88319206237793,
          -6.008990287780762,
          -2.00726056098938,
          -5.0257697105407715,
          -5.284939289093018,
          -1.2815232276916504,
          -3.34249210357666,
          2.061535120010376,
          -10.129059791564941,
          -2.141054391860962,
          0.20412352681159973,
          1.4964160919189453,
          -5.770655632019043,
          -6.592400074005127,
          4.549429893493652,
          -1.8617857694625854,
          -9.566781997680664,
          7.9054646492004395,
          -4.600783824920654,
          -7.315872669219971,
          1.376994252204895,
          -3.051722764968872,
          -8.296062469482422,
          -9.72185230255127,
          1.1523051261901855,
          -2.8406193256378174,
          -2.4657058715820312,
          -6.55995512008667,
          4.287338733673096,
          -13.831753730773926,
          -0.3336842358112335,
          5.161469459533691,
          5.612206935882568,
          -12.314971923828125,
          1.2616585493087769,
          -4.423710823059082,
          6.9077582359313965,
          -0.03313673660159111,
          -1.4097384214401245,
          -3.3648600578308105,
          -1.7775574922561646,
          -1.7727049589157104,
          -6.123379707336426,
          14.545970916748047,
          16.319456100463867,
          12.701854705810547,
          -7.607430458068848,
          -7.7191033363342285,
          -2.3502321243286133,
          -2.2768540382385254,
          3.531822681427002,
          12.077679634094238,
          8.417614936828613,
          2.8903486728668213,
          -7.848265647888184,
          8.02538776397705,
          5.238394260406494,
          0.34194982051849365,
          -2.4168541431427,
          12.298812866210938,
          3.652876377105713,
          2.865084648132324,
          -9.751169204711914,
          1.047949194908142,
          4.887826442718506,
          -2.552342414855957,
          1.6710702180862427,
          3.3871843814849854,
          -2.7179276943206787,
          2.3255910873413086,
          12.167407989501953,
          2.0920822620391846,
          13.296253204345703,
          2.958958864212036,
          -1.0630161762237549,
          2.31826114654541,
          12.361551284790039,
          -1.7376412153244019,
          1.7104471921920776,
          1.7789056301116943,
          -0.6844119429588318,
          -1.4537365436553955,
          4.235686779022217,
          -5.354640007019043,
          6.588040828704834,
          -9.076580047607422,
          -6.757628440856934,
          4.644383430480957,
          1.1163474321365356,
          -4.073940277099609,
          0.7592655420303345,
          2.6448378562927246,
          5.118469715118408,
          3.211458921432495,
          5.300246715545654,
          9.108651161193848,
          -1.3369053602218628,
          -1.7038929462432861,
          6.448590278625488,
          0.9724382758140564,
          7.221963405609131,
          7.493968486785889,
          -5.469949245452881,
          13.599555969238281,
          4.570212364196777,
          -1.8542590141296387,
          -4.3617753982543945,
          10.34774398803711,
          1.4534790515899658,
          15.520453453063965,
          8.37099552154541,
          6.644903659820557,
          3.749446153640747,
          2.6818408966064453,
          4.336247444152832,
          -11.819828033447266,
          -5.319746017456055,
          0.9372515082359314,
          -6.7845072746276855,
          8.073497772216797,
          1.5953277349472046,
          -0.3130025863647461,
          11.217606544494629,
          1.8785747289657593,
          -8.845388412475586,
          0.5845105051994324,
          5.838505268096924,
          2.6433205604553223,
          8.350556373596191,
          0.22204744815826416,
          2.3083181381225586,
          -11.385628700256348,
          -1.627791404724121,
          4.796955585479736,
          0.7527500987052917,
          -7.649344444274902,
          -8.315876960754395,
          -4.856290817260742,
          0.3135117292404175,
          5.785388469696045,
          -2.0865325927734375,
          -6.6050639152526855,
          13.831228256225586,
          -7.908097743988037,
          4.424225330352783,
          -5.137002944946289,
          -3.8971409797668457,
          -6.726381778717041,
          -5.622387886047363,
          3.6138176918029785,
          -12.592061996459961,
          -12.216485023498535,
          11.28291130065918,
          -7.3996806144714355,
          0.19938527047634125,
          2.1116015911102295,
          3.636347532272339,
          -0.38580676913261414,
          15.349891662597656,
          1.0858728885650635,
          -5.985879421234131,
          -9.507096290588379,
          -3.337712049484253,
          -7.1936235427856445,
          -3.7630012035369873,
          -3.6070098876953125,
          -0.7776581645011902,
          -0.12235633283853531,
          7.676946640014648,
          -3.792175054550171,
          -0.8458189368247986,
          12.913061141967773,
          0.043403588235378265,
          -3.678011178970337,
          -2.842923164367676,
          6.535394191741943,
          -1.3196665048599243,
          3.5237605571746826,
          -1.8172821998596191,
          10.611659049987793,
          -10.059630393981934,
          4.395009994506836,
          4.18450927734375,
          -5.291885852813721,
          -3.6802282333374023,
          9.237266540527344,
          -12.220667839050293,
          -9.15410327911377,
          2.0334455966949463,
          1.962660312652588,
          -0.8972735404968262,
          -2.510960817337036,
          14.209281921386719,
          -9.0174560546875,
          1.928339958190918,
          -7.7401347160339355,
          4.192773342132568,
          -5.031525135040283,
          -6.61406946182251,
          -3.7200727462768555,
          -1.4211108684539795,
          -6.461859703063965,
          -4.16768217086792,
          0.17580395936965942,
          -12.571444511413574,
          -1.3323851823806763,
          4.452077865600586,
          -2.4929349422454834,
          -4.295602798461914,
          12.80160140991211,
          -1.856587529182434,
          -3.158951997756958,
          -4.060094833374023,
          5.046267032623291,
          8.267632484436035,
          14.89468765258789,
          -3.4540627002716064,
          2.0444228649139404,
          -9.652913093566895,
          -5.539774417877197,
          7.562369346618652,
          -11.05285930633545,
          -6.958111763000488,
          -0.18108230829238892,
          -10.094526290893555,
          -1.6742006540298462,
          -4.338102340698242,
          -5.638615131378174,
          0.9123474359512329,
          4.417879581451416,
          6.105022430419922,
          6.99635648727417,
          -1.99089515209198,
          -6.370364665985107,
          -2.4600651264190674,
          -10.694021224975586,
          12.40389633178711,
          7.824391841888428,
          -0.5785399675369263,
          0.7717368602752686,
          1.6347259283065796,
          -1.0173699855804443,
          2.4995884895324707,
          4.285425186157227,
          -7.025815486907959,
          -4.637136459350586,
          0.29356124997138977,
          -3.144402503967285,
          7.006438732147217,
          7.094959735870361,
          -5.6318278312683105,
          -1.8758611679077148,
          -9.203896522521973,
          -4.22585916519165,
          -2.1424951553344727,
          -8.284366607666016,
          5.814852237701416,
          -11.242682456970215,
          5.821925163269043,
          4.7742438316345215,
          9.983414649963379,
          -2.5412051677703857,
          -6.431395530700684,
          -6.934560298919678,
          14.042034149169922,
          -10.446667671203613,
          3.080685615539551,
          1.6663999557495117,
          0.07087351381778717,
          10.777115821838379,
          -1.5660781860351562,
          4.001902103424072,
          -9.739006042480469,
          -10.769259452819824,
          -3.0010602474212646,
          -11.808184623718262,
          -1.9692133665084839,
          15.141417503356934,
          6.267773628234863,
          0.5241456627845764,
          5.027243614196777,
          7.160569667816162,
          7.487606048583984,
          -1.384472370147705,
          -10.043197631835938,
          0.0023859073407948017,
          -2.9417710304260254,
          -7.553483009338379,
          2.238001823425293,
          -13.392789840698242,
          6.467501640319824,
          -4.58024787902832,
          7.567157745361328,
          0.3491370379924774,
          -2.0239083766937256,
          14.655723571777344,
          1.5410499572753906,
          6.638665199279785,
          -3.1654160022735596,
          -0.15528197586536407,
          5.121529579162598,
          9.679329872131348,
          -0.4347635507583618,
          3.284531354904175,
          -8.277250289916992,
          0.5817298889160156,
          -1.7262752056121826,
          -3.468499183654785,
          2.5163261890411377,
          -7.856642246246338,
          6.2055792808532715,
          -0.24222701787948608,
          -4.293822765350342,
          -3.0304172039031982,
          6.637254238128662,
          0.32503771781921387,
          -7.00009298324585,
          0.698661208152771,
          -3.517517328262329,
          -11.404974937438965,
          -5.653658866882324,
          -5.521386623382568,
          -10.873205184936523,
          -4.283029556274414,
          -4.487401962280273,
          -2.0019195079803467,
          5.967020034790039,
          6.305078983306885,
          0.07358034700155258,
          2.48115873336792,
          -7.700666427612305,
          -7.075525760650635,
          0.056647054851055145,
          13.923742294311523,
          -7.85045051574707,
          -3.6741538047790527,
          7.418737888336182,
          -10.439191818237305,
          -2.395857334136963,
          -13.208362579345703,
          2.517225742340088,
          -3.892998456954956,
          -2.9824330806732178,
          0.358306348323822,
          -2.9783787727355957,
          -6.134579658508301,
          -4.943271160125732,
          -6.643319606781006,
          9.705744743347168,
          8.137086868286133,
          9.64556884765625,
          2.051591634750366,
          1.577781319618225,
          5.988036155700684,
          0.014073661528527737,
          -1.04149329662323,
          2.6429567337036133,
          13.719805717468262,
          0.4373951256275177,
          -9.074122428894043,
          -11.03105640411377,
          -6.024346828460693,
          -6.897083759307861,
          -4.149280548095703,
          4.097690105438232,
          -4.492579936981201,
          11.179948806762695,
          7.939092636108398,
          2.521672010421753,
          -8.00803279876709,
          -8.089581489562988,
          -8.333367347717285,
          -1.0343204736709595,
          1.9889827966690063,
          5.259833812713623,
          4.528956890106201,
          4.494839191436768,
          8.959176063537598,
          -3.0209529399871826,
          -4.577556610107422,
          0.9042831063270569,
          -0.053499218076467514,
          -8.64956283569336,
          3.656829357147217,
          -9.129473686218262,
          -0.8097578883171082,
          -4.031160354614258,
          -8.889307975769043,
          -2.4980838298797607,
          0.9529500007629395,
          5.3349456787109375,
          2.2741947174072266,
          2.1211934089660645,
          -2.620225191116333,
          -7.406608581542969,
          -9.361186981201172,
          -5.512851715087891,
          -0.6431177854537964,
          7.914547443389893,
          -7.754858493804932,
          -8.913567543029785,
          -11.156196594238281,
          1.624112606048584,
          8.244811058044434,
          10.678913116455078,
          10.398598670959473,
          1.9323357343673706,
          7.9510722160339355,
          -2.031867027282715,
          -8.683304786682129,
          -2.0856847763061523,
          3.8580751419067383,
          -11.332919120788574,
          6.410360336303711,
          7.350774765014648,
          7.916153907775879,
          0.807588517665863,
          6.82310676574707,
          -12.32187271118164,
          6.8108086585998535,
          13.919184684753418,
          -1.5744796991348267,
          -2.7397220134735107,
          8.01093578338623,
          -5.362154483795166,
          -2.6075196266174316,
          0.48848795890808105,
          6.422418117523193,
          13.666762351989746,
          3.1233465671539307,
          -0.47489219903945923,
          -4.030657768249512,
          -5.267548084259033,
          0.9548106789588928,
          14.426562309265137,
          -0.11539322137832642,
          1.5942593812942505,
          4.182215213775635,
          -0.0003335876972414553,
          -4.955661296844482,
          -13.116652488708496,
          0.6783677935600281,
          -9.653565406799316,
          7.99270486831665,
          -1.8895360231399536,
          3.715015411376953,
          -3.9189069271087646,
          2.2216362953186035,
          -5.354343891143799,
          9.502089500427246,
          5.760048866271973,
          0.37379586696624756,
          4.758828639984131,
          1.2619622945785522,
          -4.297854900360107,
          -10.884441375732422,
          -2.9782674312591553,
          -9.336790084838867,
          -7.885895252227783,
          12.691020965576172,
          -2.916451930999756,
          3.990744113922119,
          4.2713117599487305,
          -6.21617317199707,
          0.3978276252746582,
          -8.732815742492676,
          2.276360511779785,
          8.705426216125488,
          -3.443192481994629,
          8.576249122619629,
          -4.717594146728516,
          5.075216770172119,
          -0.473508358001709,
          -5.40400505065918,
          -0.5728726387023926,
          -10.74113941192627,
          3.017247438430786,
          -2.3792243003845215,
          2.3770101070404053,
          6.161631107330322,
          -0.42198067903518677,
          -0.641954243183136,
          -4.662578105926514,
          0.17958097159862518,
          6.774930953979492,
          -1.4546130895614624,
          -1.910637378692627,
          -1.8393833637237549,
          -7.085315227508545,
          -5.747561931610107,
          -4.508995056152344,
          5.239448070526123,
          -11.067625045776367,
          13.212294578552246,
          6.410575866699219,
          9.968814849853516,
          8.640186309814453,
          9.461162567138672,
          9.321170806884766,
          1.809973955154419,
          8.057605743408203,
          -1.4280706644058228,
          4.364166259765625,
          -3.982656717300415,
          5.780444622039795,
          6.298852920532227,
          5.353813648223877,
          -5.328362464904785,
          -12.75199031829834,
          -1.421942949295044,
          13.629901885986328,
          -7.234307765960693,
          5.324132919311523,
          12.519824981689453,
          -0.4021403193473816,
          -7.201564788818359,
          1.7596755027770996,
          -7.965960502624512,
          -4.469847202301025,
          -3.7761051654815674,
          3.1256160736083984,
          -3.418583631515503,
          9.404346466064453,
          3.119701385498047,
          6.1689019203186035,
          -5.357718467712402,
          -0.4211260974407196,
          11.410537719726562,
          8.228996276855469,
          -5.849109172821045,
          -2.9235312938690186,
          -5.577743053436279,
          2.8315889835357666,
          7.729188442230225,
          2.653095006942749,
          -7.692305088043213,
          -4.526342391967773,
          7.050816535949707,
          5.179243087768555,
          6.431612491607666,
          7.293210506439209,
          -2.4434831142425537,
          5.227696895599365,
          -0.4368681311607361,
          -1.9679979085922241,
          5.302475452423096,
          3.691729784011841,
          -4.660334587097168,
          -9.168182373046875,
          -9.887825012207031,
          -5.289923191070557,
          -1.1832859516143799,
          1.3040459156036377,
          4.646219730377197,
          -11.822322845458984,
          -2.533754825592041,
          -11.748558044433594,
          -6.552030086517334,
          -2.912224769592285,
          1.4300869703292847,
          -7.703456401824951,
          -0.6812734007835388,
          9.68187141418457,
          -4.212322235107422,
          1.857779860496521,
          3.4057774543762207,
          -3.557769536972046,
          5.790846347808838,
          -4.875452518463135,
          2.5627620220184326,
          -8.825820922851562,
          -1.1507782936096191,
          6.334049224853516,
          -0.5832918882369995,
          -3.402772903442383,
          7.590290546417236,
          4.392320156097412,
          -2.1055784225463867,
          1.4390133619308472,
          -3.200711727142334,
          -2.0633840560913086,
          -9.839333534240723,
          0.4662427306175232,
          0.05580204352736473,
          2.193880081176758,
          5.543137073516846,
          -12.274136543273926,
          0.4349879026412964,
          9.826105117797852,
          2.0117404460906982,
          -2.3661296367645264,
          -8.40640926361084,
          4.904669284820557,
          -6.192879676818848,
          7.078293800354004,
          -0.5774156451225281,
          -0.8565349578857422,
          2.721085548400879,
          -1.4055973291397095,
          -4.08997917175293,
          7.278679370880127,
          5.510266304016113,
          -2.4609222412109375,
          -4.617213249206543,
          3.8159537315368652,
          -5.272094249725342,
          8.39193058013916,
          -1.803600549697876,
          -0.7120113372802734,
          8.92263412475586,
          0.5529048442840576,
          -3.414480686187744,
          7.010031700134277,
          -0.35677778720855713,
          -8.351607322692871,
          7.689091682434082,
          0.19151748716831207,
          -2.2687172889709473,
          -9.719961166381836,
          11.819038391113281,
          -1.855922818183899,
          15.055973052978516,
          -1.3267766237258911,
          2.9171459674835205,
          -0.47073614597320557,
          4.007024765014648,
          -2.8044943809509277,
          9.704480171203613,
          1.042014479637146,
          9.271621704101562,
          2.516845226287842,
          13.350435256958008,
          11.522477149963379,
          7.197408676147461,
          9.069774627685547,
          8.23876667022705,
          9.281671524047852,
          2.3994431495666504,
          -1.5517897605895996,
          -0.7083786129951477,
          -5.077128887176514,
          9.606712341308594,
          3.5665178298950195,
          -8.389912605285645,
          11.697980880737305,
          3.0152695178985596,
          -10.124600410461426,
          4.26716947555542,
          7.222606182098389,
          -10.801323890686035,
          2.567473888397217,
          -9.500246047973633,
          12.795589447021484,
          -1.4750198125839233,
          -4.469625949859619,
          -7.552982330322266,
          8.679376602172852,
          5.784836769104004,
          -10.158730506896973,
          0.2828625440597534,
          10.857640266418457,
          1.0432466268539429,
          -0.9243892431259155,
          3.603114366531372,
          -13.243898391723633,
          -4.7445878982543945,
          1.2393137216567993,
          12.00397777557373,
          -9.694541931152344,
          -3.3070459365844727,
          -4.543792724609375,
          -4.660030841827393,
          4.611318588256836,
          1.1292752027511597,
          2.1976470947265625,
          -3.5427489280700684,
          2.1060688495635986,
          10.812907218933105,
          -10.594869613647461,
          -0.6793670654296875,
          -2.8182623386383057,
          -0.1269710510969162,
          -12.290616989135742,
          -5.4962358474731445,
          -1.3432427644729614,
          5.6790289878845215,
          -0.5254384875297546,
          -5.858468055725098,
          -0.3809833824634552,
          3.2277190685272217,
          6.990900993347168,
          -0.42010781168937683,
          7.970238208770752,
          12.342584609985352,
          -11.317734718322754,
          5.380732536315918,
          -5.182239532470703,
          -6.546427249908447,
          -1.4229375123977661,
          11.539579391479492,
          4.391441345214844,
          -7.677053928375244,
          -0.817625105381012,
          5.308043479919434,
          9.661958694458008,
          1.9992895126342773,
          -2.8133256435394287,
          -9.326081275939941,
          -9.98734188079834,
          2.238162040710449,
          8.78914737701416,
          9.974018096923828,
          -3.2590487003326416,
          13.758892059326172,
          -10.584821701049805,
          -10.518594741821289,
          13.525076866149902,
          4.938549041748047,
          -8.525081634521484,
          6.5039448738098145,
          -12.993748664855957,
          4.4420599937438965,
          6.95260763168335,
          -2.3366830348968506,
          5.527507305145264,
          4.114847183227539,
          13.37714958190918,
          -6.641880989074707,
          -3.5210773944854736,
          -0.0919489711523056,
          4.361574649810791,
          1.994354009628296,
          5.5252461433410645,
          -4.011029243469238,
          -1.076734185218811,
          7.465336322784424,
          5.147036075592041,
          15.092339515686035,
          -3.822153329849243,
          -6.046806335449219,
          -5.626413345336914,
          -4.296982765197754,
          1.0047636032104492,
          -0.8021030426025391,
          8.84068489074707,
          -5.006528854370117,
          -0.24140389263629913,
          0.7151168584823608,
          4.940174102783203,
          -5.484797477722168,
          -3.0547754764556885,
          -3.754249334335327,
          -3.585386037826538,
          -2.5132718086242676,
          -5.395613193511963,
          -5.764702796936035,
          0.7862910032272339,
          3.330772876739502,
          4.910768508911133,
          5.663241386413574,
          -6.612667560577393,
          -7.024725437164307,
          -9.669776916503906,
          1.6491154432296753,
          -12.266071319580078,
          -0.7992171049118042,
          -8.709139823913574,
          -1.1670631170272827,
          -8.752823829650879,
          -1.8096590042114258,
          -7.935804843902588,
          -0.6282485127449036,
          1.191636562347412,
          5.308775424957275,
          8.173818588256836,
          -3.11149525642395,
          7.552548885345459,
          -9.358224868774414,
          -8.036725997924805,
          3.265610456466675,
          -3.161738872528076,
          3.605611801147461,
          4.434411525726318,
          12.687246322631836,
          7.448544979095459,
          -7.5875067710876465,
          -0.8385154604911804,
          -9.99535083770752,
          9.288808822631836,
          0.7816526293754578,
          0.5912452936172485,
          -5.116064071655273,
          12.855852127075195,
          -2.024350166320801,
          -5.177292823791504,
          -11.761670112609863,
          -5.200477600097656,
          15.404108047485352,
          -3.847846031188965,
          -3.8060250282287598,
          0.4941878318786621,
          -7.726207256317139,
          -8.05927562713623,
          7.716355323791504,
          -2.756972551345825,
          -7.325268745422363,
          -0.888309121131897,
          5.79785680770874,
          -1.7035815715789795,
          5.037642002105713,
          -0.9215160012245178,
          1.5514065027236938,
          3.369550943374634,
          11.762968063354492,
          8.226580619812012,
          -0.445378839969635,
          -9.209569931030273,
          11.285733222961426,
          -2.9439046382904053,
          2.484877824783325,
          8.744213104248047,
          4.149715423583984,
          0.8157266974449158,
          3.200765371322632,
          -12.505295753479004,
          2.051637649536133,
          -1.2337757349014282,
          7.1987199783325195,
          -6.7347331047058105,
          -0.03746049851179123,
          -9.552019119262695,
          -3.2674903869628906,
          -9.080894470214844,
          -9.059422492980957,
          -2.9060139656066895,
          15.93924331665039,
          -1.6149590015411377,
          -2.5130486488342285,
          -0.6462854743003845,
          8.366938591003418,
          0.15655754506587982,
          -0.0021438738331198692,
          5.069278717041016,
          5.352789402008057,
          -11.802382469177246,
          9.23048210144043,
          3.2594363689422607,
          6.60573148727417,
          4.5001678466796875,
          -8.798089027404785,
          3.07802414894104,
          -1.6109832525253296,
          -10.136907577514648,
          -3.2289836406707764,
          -7.349496841430664,
          -6.2561726570129395,
          4.274941921234131,
          6.701958656311035,
          -6.071052551269531,
          0.5374698638916016,
          9.43835163116455,
          11.224366188049316,
          -6.501245021820068,
          -4.816537380218506,
          -2.2179925441741943,
          -5.49154806137085,
          -5.436406135559082,
          9.158122062683105,
          0.18103566765785217,
          -0.1474212259054184,
          0.9505056738853455,
          4.322204113006592,
          8.821279525756836,
          7.776243209838867,
          -3.8032612800598145,
          -13.732420921325684,
          -10.633890151977539,
          3.2643849849700928,
          -4.054566383361816,
          -8.767643928527832,
          1.0682787895202637,
          -3.1681554317474365,
          -0.9557936191558838,
          -2.2084951400756836,
          7.7423176765441895,
          3.5137107372283936,
          -1.9139753580093384,
          -3.868162155151367,
          -7.606260776519775,
          -3.5962886810302734,
          -1.9143813848495483,
          1.7762877941131592,
          -9.871478080749512,
          1.1328847408294678,
          3.9313483238220215,
          1.1468489170074463,
          13.336682319641113,
          9.361454010009766,
          5.561001777648926,
          -2.8816287517547607,
          -5.530672073364258,
          -9.55140495300293,
          -3.2076642513275146,
          -7.514804840087891,
          4.457422256469727,
          -12.821417808532715,
          -8.146289825439453,
          -2.1957178115844727,
          -7.711704254150391,
          5.540385723114014,
          -10.87636947631836,
          -0.29168447852134705,
          0.7855549454689026,
          -3.779902458190918,
          10.175091743469238,
          0.13636690378189087,
          10.540486335754395,
          3.2744388580322266,
          -3.4912593364715576,
          -0.1819707155227661,
          -1.1386046409606934,
          7.816070079803467,
          -5.399415016174316,
          -3.745272636413574,
          -1.6788066625595093,
          9.100942611694336,
          4.80422830581665,
          2.5871574878692627,
          -2.9201760292053223,
          -1.7508349418640137,
          -9.08520793914795,
          4.510855197906494,
          6.590633869171143,
          8.556044578552246,
          -5.031147480010986,
          3.5974323749542236,
          7.025801181793213,
          -3.4781386852264404,
          -12.671768188476562,
          -5.729399681091309,
          2.361879587173462,
          -0.25553056597709656,
          12.140068054199219,
          9.692461967468262,
          -1.1698402166366577,
          4.1810302734375,
          -6.362298011779785,
          0.6147137880325317,
          -8.917684555053711,
          -7.285639762878418,
          -3.036398410797119,
          -0.907111644744873,
          3.6741063594818115,
          -5.036196708679199,
          -6.6814351081848145,
          14.413208961486816,
          -2.800107479095459,
          11.624955177307129,
          -2.3922295570373535,
          4.685245037078857,
          -12.93175983428955,
          15.30966854095459,
          -4.048936367034912,
          4.711284160614014,
          -3.166822671890259,
          6.889791011810303,
          7.536280155181885,
          -3.5057976245880127,
          -5.60456657409668,
          -4.139216423034668,
          -1.9668174982070923,
          14.873075485229492,
          -13.222176551818848,
          -7.74249267578125,
          -11.75877571105957,
          -7.712279796600342,
          2.71911883354187,
          -3.8472986221313477,
          3.886367082595825,
          7.228392124176025,
          9.767878532409668,
          -2.8533992767333984,
          4.787447929382324,
          -2.8123867511749268,
          -13.279561042785645,
          -6.316834926605225,
          7.605162143707275,
          4.82898473739624,
          -6.730684757232666,
          -1.3019776344299316,
          -5.859290599822998,
          -5.830082893371582,
          -2.772386074066162,
          12.883052825927734,
          1.7609927654266357,
          7.3511481285095215,
          -4.130222320556641,
          1.113399624824524,
          -8.788915634155273,
          1.6425139904022217,
          11.222097396850586,
          3.1799182891845703,
          0.649325966835022,
          -0.6444600224494934,
          0.19228585064411163,
          -8.447990417480469,
          -3.5953147411346436,
          -6.301663398742676,
          -8.943984031677246,
          1.8591117858886719,
          4.55802059173584,
          -9.16244888305664,
          2.5400900840759277,
          -0.9930685758590698,
          0.08524943888187408,
          -5.14508056640625,
          -0.5274413228034973,
          1.255004644393921,
          5.059262275695801,
          7.586194038391113,
          10.062421798706055,
          -4.664985179901123,
          6.3420329093933105,
          1.142878532409668,
          2.55855655670166,
          8.972968101501465,
          -9.573075294494629,
          -3.021568536758423,
          7.1353840827941895,
          -11.128981590270996,
          8.297565460205078,
          15.648589134216309,
          2.3100035190582275,
          2.425095558166504,
          -11.132776260375977,
          5.936306476593018,
          5.3364434242248535,
          6.826803207397461,
          -2.7384965419769287,
          0.31604477763175964,
          2.034574508666992,
          6.386467456817627,
          4.001965045928955,
          -0.8298107981681824,
          -2.0388450622558594,
          2.140733242034912,
          -0.7237012386322021,
          12.82257080078125,
          13.960541725158691,
          1.7139501571655273,
          15.42447566986084,
          0.5831676125526428,
          1.4266210794448853,
          -7.167357921600342,
          12.360154151916504,
          11.410945892333984,
          -6.060341835021973,
          -3.220349073410034,
          -3.0459158420562744,
          4.231634616851807,
          6.786846160888672,
          12.591462135314941,
          -9.810568809509277,
          -0.08640320599079132,
          -1.7686278820037842,
          2.5943851470947266,
          4.862599849700928,
          -4.427943229675293,
          -13.584197044372559,
          1.4642328023910522,
          -9.499197006225586,
          6.120817184448242,
          -2.2879276275634766,
          4.916335582733154,
          -12.43079948425293,
          10.504469871520996,
          -4.999789237976074,
          5.991738796234131,
          3.532712459564209,
          -1.322258472442627,
          -9.88779354095459,
          4.825931549072266,
          12.623149871826172,
          -3.812415599822998,
          -0.9420956969261169,
          -2.8233916759490967,
          -4.073635101318359,
          -8.936570167541504,
          -7.533923625946045,
          0.41831254959106445,
          2.1354434490203857,
          -13.616806030273438,
          3.7914509773254395,
          0.022565808147192,
          5.614114284515381,
          2.6347568035125732,
          1.4789968729019165,
          -9.290961265563965,
          7.588217735290527,
          4.234918594360352,
          14.773134231567383,
          -8.288124084472656,
          15.385932922363281,
          -2.25254487991333,
          -6.995632171630859,
          -2.0022146701812744,
          -1.746825098991394,
          0.6552578210830688,
          1.9643713235855103,
          -12.90766716003418,
          4.155174732208252,
          8.507811546325684,
          -2.131058931350708,
          -6.29655647277832,
          1.1735777854919434,
          -0.7501503229141235,
          9.58119010925293,
          7.767708778381348,
          -2.47957444190979,
          -6.112299919128418,
          -5.492191791534424,
          6.944736957550049,
          2.377260208129883,
          -5.407527446746826,
          -0.47354787588119507,
          4.159974098205566,
          -5.263970851898193,
          -1.3310753107070923,
          4.399614334106445,
          -0.6211764812469482,
          0.9437558054924011,
          2.063904047012329,
          5.807373046875,
          0.4527791738510132,
          -7.969873428344727,
          7.274688720703125,
          -6.1710968017578125,
          -2.0290746688842773,
          -3.889758586883545,
          -4.6054582595825195,
          -7.427285671234131,
          11.02983570098877,
          -12.412836074829102,
          -5.137676239013672,
          11.383825302124023,
          -4.689648628234863,
          12.530786514282227,
          -6.792150497436523,
          -3.887399435043335,
          3.868931293487549,
          1.0793861150741577,
          6.277332782745361,
          2.4034807682037354,
          -8.608536720275879,
          -11.057121276855469,
          0.14491146802902222,
          3.851179599761963,
          14.720707893371582,
          9.007721900939941,
          7.276346206665039,
          -1.628328561782837,
          8.53268814086914,
          2.593677282333374,
          -0.8259755969047546,
          2.2949600219726562,
          -0.51540607213974,
          -4.176577091217041,
          -5.602664470672607,
          0.556318461894989,
          -4.589312553405762,
          -7.764540195465088,
          0.18065930902957916,
          1.0752142667770386,
          8.426023483276367,
          6.89577054977417,
          -0.9682816863059998,
          -2.052157163619995,
          3.6156513690948486,
          -9.166887283325195,
          -0.4065726399421692,
          -0.7709512710571289,
          4.588498592376709,
          -2.492783784866333,
          -10.409671783447266,
          -4.4194231033325195,
          4.678100109100342,
          -6.4807209968566895,
          -5.024978160858154,
          -1.090458631515503,
          -2.82148814201355,
          -11.50279426574707,
          -1.2449619770050049,
          -5.9644575119018555,
          1.6495893001556396,
          -5.63110876083374,
          -5.713850498199463,
          14.416014671325684,
          -2.876931667327881,
          -7.401761531829834,
          -9.906245231628418,
          5.218799591064453,
          1.25323486328125,
          -6.309959888458252,
          4.303161144256592,
          -6.010867595672607,
          15.496356964111328,
          1.4868518114089966,
          -11.878087043762207,
          5.921228885650635,
          4.828330993652344,
          -4.630753040313721,
          -5.066697597503662,
          6.047710418701172,
          -5.903461933135986,
          -3.948524236679077,
          -0.4415332078933716,
          0.07005515694618225,
          14.085380554199219,
          -2.502913236618042,
          5.824105262756348,
          -4.879986763000488,
          8.390218734741211,
          -10.526934623718262,
          7.696002960205078,
          -4.5832905769348145,
          5.134283542633057,
          1.380710244178772,
          5.884909629821777,
          -1.0059577226638794,
          -3.2634329795837402,
          0.5813848376274109,
          -0.6623061299324036,
          5.584469795227051,
          9.34328556060791,
          -2.619227170944214,
          -2.5262610912323,
          9.078659057617188,
          0.6728441715240479,
          14.140874862670898,
          2.551682233810425,
          5.419967174530029,
          0.1566983014345169,
          3.0042030811309814,
          -2.4311602115631104,
          -2.752821207046509,
          -2.7779901027679443,
          7.610040187835693,
          1.0135133266448975,
          14.974058151245117,
          10.922386169433594,
          3.853309154510498,
          11.112649917602539,
          1.0091606378555298,
          -0.5151175260543823,
          -9.899209976196289,
          2.1534364223480225,
          2.0844264030456543,
          11.093892097473145,
          7.044040679931641,
          7.0510945320129395,
          7.120082855224609,
          5.565286636352539,
          1.2628682851791382,
          -9.062076568603516,
          -2.05550479888916,
          5.947396755218506,
          -4.044823169708252,
          13.604315757751465,
          4.098130702972412,
          -11.096752166748047,
          -1.1492211818695068,
          3.3847084045410156,
          -8.794560432434082,
          -6.655937671661377,
          -10.463616371154785,
          -5.726742744445801,
          -5.568053722381592,
          1.7770884037017822,
          -2.8832926750183105,
          14.595965385437012,
          5.0181474685668945,
          -5.942013740539551,
          -0.9253785014152527,
          -0.7217454314231873,
          -6.923130512237549,
          7.838473320007324,
          -1.3716261386871338,
          12.937891006469727,
          6.136987209320068,
          3.501788854598999,
          2.747650623321533,
          9.528055191040039,
          5.822638988494873,
          -1.2191426753997803,
          4.5167083740234375,
          2.985445022583008,
          1.1470165252685547,
          4.972768306732178,
          6.3840789794921875,
          -9.610990524291992,
          -4.388176441192627,
          0.5156252980232239,
          -14.876575469970703,
          -6.737525939941406,
          8.682609558105469,
          5.674898624420166,
          -9.496306419372559,
          -1.064659595489502,
          8.948677062988281,
          4.319992542266846,
          -1.8083057403564453,
          4.51794958114624,
          -6.353198528289795,
          0.10672647505998611,
          8.517499923706055,
          -6.864854335784912,
          -9.102189064025879,
          4.242109298706055,
          2.4649837017059326,
          4.483936309814453,
          11.922829627990723,
          -10.121162414550781,
          5.227315425872803,
          -4.229795455932617,
          -5.067353248596191,
          -11.933759689331055,
          4.851828098297119,
          -7.064839839935303,
          -2.8619580268859863,
          -8.146462440490723,
          -7.354752063751221,
          -5.448584079742432,
          -2.521803140640259,
          -2.027191162109375,
          0.11650052666664124,
          11.42197322845459,
          11.898547172546387,
          -5.4195733070373535,
          1.6734641790390015,
          -3.850494384765625,
          -6.873256206512451,
          12.04201602935791,
          7.049139022827148,
          -5.327555179595947,
          9.041332244873047,
          11.417159080505371,
          -2.123680353164673,
          14.530744552612305,
          -6.900480270385742,
          7.6020917892456055,
          -10.287315368652344,
          -10.318151473999023,
          -0.869109034538269,
          -1.1710829734802246,
          -6.20079231262207,
          7.045429229736328,
          2.1048312187194824,
          10.93685245513916,
          -2.2877185344696045,
          4.5993475914001465,
          -4.283899784088135,
          -9.104439735412598,
          2.1705751419067383,
          -1.5956069231033325,
          -6.975944995880127,
          0.65323805809021,
          -0.5775299072265625,
          -2.0033531188964844,
          11.625345230102539,
          -0.6109747886657715,
          -5.304113864898682,
          -0.7418420910835266,
          -3.65773868560791,
          -4.1249823570251465,
          7.8892621994018555,
          -2.152977705001831,
          -7.608022212982178,
          7.982311725616455,
          -13.035697937011719,
          7.295539379119873,
          -1.9772716760635376,
          3.5029518604278564,
          -8.362093925476074,
          -1.755479335784912,
          7.712874889373779,
          -0.0490482896566391,
          -5.899485111236572,
          7.650155067443848,
          -2.072984218597412,
          4.198122501373291,
          -4.585422515869141,
          -7.090028285980225,
          -1.1527347564697266,
          6.5609893798828125,
          9.851819038391113,
          8.831878662109375,
          12.587265968322754,
          3.460357427597046,
          1.9300334453582764,
          14.966768264770508,
          6.01362419128418,
          8.166393280029297,
          -1.8881314992904663,
          14.899226188659668,
          3.75636625289917,
          2.5610997676849365,
          -11.379656791687012,
          -6.264808654785156,
          -3.211026191711426,
          2.7014241218566895,
          -1.9412959814071655,
          -2.044187545776367,
          -1.2581017017364502,
          6.608019828796387,
          0.5281554460525513,
          -8.831476211547852,
          -13.307376861572266,
          -3.6858811378479004,
          -3.7969517707824707,
          12.559738159179688,
          -6.502058029174805,
          4.271606922149658,
          -10.871790885925293,
          6.638519763946533,
          8.935303688049316,
          -7.449294567108154,
          0.2897549867630005,
          1.3371961116790771,
          6.744515419006348,
          5.126739501953125,
          0.5688431262969971,
          7.202147960662842,
          1.6511452198028564,
          8.293822288513184,
          4.72509765625,
          -0.5194135308265686,
          1.4416550397872925,
          -4.5252251625061035,
          1.9222798347473145,
          9.769316673278809,
          0.7077032327651978,
          7.3254008293151855,
          -2.949807643890381,
          12.453039169311523,
          -13.166272163391113,
          6.788910865783691,
          -0.514248788356781,
          3.2801833152770996,
          9.428363800048828,
          6.779552459716797,
          -0.03880930691957474,
          -3.476231575012207,
          3.134861707687378,
          -7.5702009201049805,
          5.401228904724121,
          1.3996562957763672,
          -9.58052921295166,
          1.6610567569732666,
          0.28727346658706665,
          8.156662940979004,
          -5.809530735015869,
          -5.547833442687988,
          14.755855560302734,
          -4.445659160614014,
          -1.5938689708709717,
          -5.696619033813477,
          0.732593297958374,
          11.100157737731934,
          8.494296073913574,
          13.074087142944336,
          -6.78522253036499,
          -9.376705169677734,
          1.7912204265594482,
          2.141340494155884,
          11.302826881408691,
          -10.47374439239502,
          -10.415811538696289,
          1.2501020431518555,
          -7.405633926391602,
          6.550083160400391,
          -0.04242681711912155,
          -4.332524299621582,
          5.289779186248779,
          -8.256766319274902,
          -6.631023406982422,
          3.9390549659729004,
          -3.023164749145508,
          6.186505317687988,
          6.206945896148682,
          5.83037805557251,
          1.184778094291687,
          -3.951101303100586,
          -0.6322042942047119,
          5.981367588043213,
          1.3888367414474487,
          3.9154553413391113,
          -13.487573623657227,
          0.6886612176895142,
          -9.846675872802734,
          12.62252140045166,
          5.491645812988281,
          1.0759613513946533,
          -4.244718074798584,
          1.6927751302719116,
          8.63004207611084,
          2.224700689315796,
          -5.018106937408447,
          -9.641034126281738,
          5.599463939666748,
          10.59243392944336,
          9.23388385772705,
          -6.247034072875977,
          4.17957878112793,
          6.181154727935791,
          -1.8900765180587769,
          -3.1673412322998047,
          -3.2045586109161377,
          -1.0258305072784424,
          10.369768142700195,
          1.5836559534072876,
          13.499995231628418,
          5.003612995147705,
          11.22299861907959,
          -2.5030455589294434,
          5.4831061363220215,
          0.27867186069488525,
          3.673542022705078,
          6.997134685516357,
          -6.360933780670166,
          4.354679584503174,
          -4.937417030334473,
          -8.402312278747559,
          7.63450288772583,
          -8.224472045898438,
          8.857874870300293,
          9.067416191101074,
          6.6346435546875,
          3.6056501865386963,
          1.5524340867996216,
          -4.433669090270996,
          -9.625126838684082,
          -6.594932556152344,
          -0.872819185256958,
          0.33031246066093445,
          7.666743278503418,
          4.3882670402526855,
          10.296517372131348,
          11.641136169433594,
          -9.983207702636719,
          3.711247444152832,
          -2.184561014175415,
          -8.886645317077637,
          -0.44215601682662964,
          -5.788613319396973,
          -2.0830535888671875,
          -11.947731971740723,
          5.3232316970825195,
          -6.1701178550720215,
          15.234161376953125,
          -9.056319236755371,
          11.308588981628418,
          1.9070180654525757,
          -6.895831108093262,
          -6.938640117645264,
          -3.2686614990234375,
          -3.415708541870117,
          -4.164268493652344,
          -3.0673515796661377,
          2.3816275596618652,
          1.4562554359436035,
          1.7315356731414795,
          -2.7746524810791016,
          2.3206281661987305,
          -2.8695971965789795,
          -12.045958518981934,
          -1.2400412559509277,
          8.744352340698242,
          9.645190238952637,
          -10.149718284606934,
          -5.283113956451416,
          15.1264009475708,
          -5.633453845977783,
          -7.478923797607422,
          -4.1260986328125,
          -2.6534781455993652,
          -9.156537055969238,
          4.140692234039307,
          14.487152099609375,
          -7.032172679901123,
          5.655339241027832,
          -10.380620956420898,
          -6.113084316253662,
          -4.661581516265869,
          -7.315422058105469,
          4.978984832763672,
          4.371192932128906,
          -1.8192614316940308,
          -7.015472888946533,
          5.639585494995117,
          7.652331829071045,
          1.4801489114761353,
          -0.2962292730808258,
          -3.1339168548583984,
          -0.8917704820632935,
          12.061784744262695,
          -5.214900016784668,
          2.1047027111053467,
          -9.64380931854248,
          2.543703079223633,
          15.694259643554688,
          6.3654890060424805,
          6.0041704177856445,
          4.601945400238037,
          -7.956801891326904,
          -8.951325416564941,
          11.061592102050781,
          -6.225364685058594,
          -1.6367709636688232,
          -1.9246383905410767,
          -3.3818604946136475,
          -6.692268371582031,
          -0.8281979560852051,
          8.890591621398926,
          5.276736736297607,
          -6.820803642272949,
          -7.712039947509766,
          -8.756387710571289,
          13.964228630065918,
          -3.012190818786621,
          2.335853338241577,
          8.101734161376953,
          7.196847438812256,
          10.088743209838867,
          -1.9138402938842773,
          4.2422356605529785,
          -9.113255500793457,
          7.704744338989258,
          -3.521254062652588,
          2.052870988845825,
          -9.107803344726562,
          -7.1170854568481445,
          7.770899295806885,
          -9.715879440307617,
          -3.6454663276672363,
          4.613757610321045,
          -2.345569372177124,
          1.0568733215332031,
          -1.069423794746399,
          -3.5283751487731934,
          -13.458649635314941,
          -9.148862838745117,
          4.8307318687438965,
          13.270319938659668,
          -10.542373657226562,
          -5.446628093719482,
          1.1245932579040527,
          4.932722568511963,
          -5.881866931915283,
          -7.050140857696533,
          -8.755838394165039,
          12.432950973510742,
          -4.103058815002441,
          -4.162775039672852,
          -4.570276260375977,
          0.776838481426239,
          -4.855096817016602,
          -2.410061836242676,
          0.4889235198497772,
          12.310795783996582,
          -4.465892314910889,
          -7.640061855316162,
          5.685364246368408,
          4.27615213394165,
          -4.450761795043945,
          -6.488794326782227,
          -3.0358855724334717,
          -3.937263250350952,
          -4.033180236816406,
          -1.847394347190857,
          -2.4064345359802246,
          -7.76105260848999,
          -3.9765851497650146,
          1.0958458185195923,
          4.640905380249023,
          -2.4630472660064697,
          9.514902114868164,
          6.876801490783691,
          5.381245136260986,
          0.5720584392547607,
          0.5717946887016296,
          10.329629898071289,
          -2.9158084392547607,
          -1.7713825702667236,
          6.814977645874023,
          6.706313610076904,
          -1.8734455108642578,
          7.8638410568237305,
          9.24329948425293,
          5.730615615844727,
          -1.544374704360962,
          -6.494834899902344,
          0.8673180341720581,
          3.105689287185669,
          14.60917854309082,
          6.037499904632568,
          0.9051579236984253,
          -2.6473798751831055,
          -1.9268684387207031,
          -1.966196060180664,
          2.4700212478637695,
          3.6116952896118164,
          -3.543250799179077,
          -5.61848258972168,
          5.0014801025390625,
          12.982107162475586,
          -5.194406509399414,
          0.7804325222969055,
          -0.5295420289039612,
          0.6270425915718079,
          -5.935834884643555,
          -2.442106008529663,
          -1.7804230451583862,
          -2.169674873352051,
          -5.462807655334473,
          4.791009426116943,
          -5.340445041656494,
          -4.865732669830322,
          -9.860846519470215,
          -3.7518110275268555,
          -3.6448264122009277,
          9.881762504577637,
          4.290670871734619,
          8.868938446044922,
          15.063379287719727,
          -1.4212777614593506,
          -5.346920013427734,
          1.2078713178634644,
          0.28508251905441284,
          -6.8318190574646,
          -6.386386394500732,
          8.912076950073242,
          -4.718700885772705,
          3.649751663208008,
          -7.725323677062988,
          -2.144257068634033,
          5.835958003997803,
          -7.196215629577637,
          -8.723482131958008,
          4.177599906921387,
          -0.47823527455329895,
          3.619488477706909,
          -0.8126028180122375,
          -5.640117645263672,
          12.730057716369629,
          -6.004538059234619,
          -10.30482292175293,
          -4.155486106872559,
          -2.6888787746429443,
          9.019869804382324,
          -2.959533452987671,
          1.0437970161437988,
          12.85082721710205,
          11.972100257873535,
          -3.6914401054382324,
          13.771891593933105,
          2.769804000854492,
          4.056045055389404,
          9.81761646270752,
          -3.8493282794952393,
          9.529356956481934,
          -11.027402877807617,
          8.54684829711914,
          -3.592966079711914,
          -8.908772468566895,
          1.5856506824493408,
          0.9197862148284912,
          -6.247920513153076,
          4.58942985534668,
          -5.366705894470215,
          3.851938486099243,
          -10.296602249145508,
          3.3691186904907227,
          -4.382286548614502,
          -5.625977993011475,
          -2.570617437362671,
          9.670380592346191,
          -0.11682242155075073,
          9.607752799987793,
          15.8803129196167,
          6.389131546020508,
          -4.317017555236816,
          -3.9357075691223145,
          -2.699479579925537,
          5.657809257507324,
          -4.7346343994140625,
          -0.2315617799758911,
          -10.215402603149414,
          4.0691704750061035,
          -2.514333724975586,
          -8.419156074523926,
          -4.169308662414551,
          0.5850026607513428,
          1.1181187629699707,
          7.8590288162231445,
          -9.366507530212402,
          -9.679679870605469,
          6.773904800415039,
          -5.817289352416992,
          -0.092417873442173,
          -12.97469425201416,
          -1.4436548948287964,
          -1.831563949584961,
          3.4101359844207764,
          -0.028930656611919403,
          0.9677463173866272,
          -2.1261532306671143,
          9.230132102966309,
          2.088369607925415,
          9.284627914428711,
          12.79171085357666,
          -8.377229690551758,
          4.977210998535156,
          -3.026670217514038,
          -1.0186364650726318,
          -6.915312767028809,
          -4.896411418914795,
          4.765760898590088,
          4.122166633605957,
          -5.424055576324463,
          2.548861503601074,
          2.829180955886841,
          3.0571978092193604,
          -3.8063058853149414,
          -1.6940473318099976,
          -4.432236194610596,
          2.5177128314971924,
          4.211342811584473,
          -3.114417791366577,
          -1.9834941625595093,
          -5.0364508628845215,
          5.001836776733398,
          11.216217994689941,
          8.940705299377441,
          -5.096396446228027,
          -6.189151763916016,
          -4.783193588256836,
          -13.52168083190918,
          5.873108386993408,
          3.079132318496704,
          9.537187576293945,
          2.4060373306274414,
          0.7645023465156555,
          4.611303329467773,
          14.027008056640625,
          -0.8729436993598938,
          6.216219425201416,
          0.2672661244869232,
          -5.114012718200684,
          -4.401859283447266,
          -1.2718415260314941,
          1.1579890251159668,
          -7.688243865966797,
          15.552950859069824,
          1.5615030527114868,
          -4.193530082702637,
          -0.15633736550807953,
          1.0899341106414795,
          9.731711387634277,
          -8.84228229522705,
          -3.3581297397613525,
          0.90329509973526,
          4.043337345123291,
          -6.928605556488037,
          13.279362678527832,
          -10.505620002746582,
          -3.593329668045044,
          -0.05841122940182686,
          -1.7925105094909668,
          -9.619877815246582,
          -1.7021129131317139,
          0.4872576594352722,
          -0.933856725692749,
          -2.22566556930542,
          5.510746002197266,
          5.143714427947998,
          -5.490501403808594,
          -7.212324142456055,
          -2.8483469486236572,
          10.272456169128418,
          -2.971949815750122,
          -5.052710056304932,
          3.777799367904663,
          -0.7443476915359497,
          -1.3447575569152832,
          3.8178088665008545,
          -1.9120301008224487,
          5.058908462524414,
          5.167177677154541,
          -7.356322288513184,
          12.000266075134277,
          1.177741289138794,
          0.23690761625766754,
          1.7171061038970947,
          11.712437629699707,
          4.633078098297119,
          0.06717003881931305,
          -1.600244402885437,
          13.02330493927002,
          1.6938186883926392,
          1.2739030122756958,
          0.6971533298492432,
          -6.764811038970947,
          -3.813920497894287,
          -7.096989631652832,
          -0.28569090366363525,
          14.391533851623535,
          2.1211345195770264,
          -4.086739540100098,
          -7.926894664764404,
          11.909777641296387,
          -8.890471458435059,
          1.4249757528305054,
          -1.8496999740600586,
          3.4999306201934814,
          3.7925198078155518,
          7.816192150115967,
          4.8216328620910645,
          7.384393692016602,
          -2.150153875350952,
          3.6734585762023926,
          -1.8184252977371216,
          9.85511302947998,
          2.148322582244873,
          8.25551986694336,
          0.9546211361885071,
          -0.1571284383535385,
          6.1143364906311035,
          7.924559593200684,
          8.351997375488281,
          -3.7908761501312256,
          -12.798623085021973,
          6.301903247833252,
          -3.151578187942505,
          8.888847351074219,
          -1.3337675333023071,
          -4.555228233337402,
          -5.050563335418701,
          -1.772836446762085,
          6.833881855010986,
          -9.713577270507812,
          3.2724621295928955,
          -7.462569713592529,
          -7.418802261352539,
          -2.089557409286499,
          0.9332695007324219,
          12.75045108795166,
          8.087754249572754,
          -11.226179122924805,
          -5.803177356719971,
          -0.5506299138069153,
          -5.982812404632568,
          -1.0355021953582764,
          3.1590805053710938,
          7.343376159667969,
          -2.740647315979004,
          0.8516342043876648,
          -6.931252479553223,
          2.5397682189941406,
          -2.922085762023926,
          2.92484450340271,
          1.2912592887878418,
          0.9977745413780212,
          -4.9090142250061035,
          -0.09808497875928879,
          -8.688349723815918,
          -7.447508811950684,
          7.334173679351807,
          1.5772472620010376,
          -1.9291460514068604,
          -2.9079158306121826,
          9.150070190429688,
          9.52861499786377,
          -7.001770973205566,
          -6.457759380340576,
          -0.22840262949466705,
          -11.948287963867188,
          -3.0711755752563477,
          5.875908374786377,
          -2.642793655395508,
          -8.173032760620117,
          -3.7360222339630127,
          8.359519004821777,
          -9.24695873260498,
          -0.9873015880584717,
          7.808928489685059,
          9.536953926086426,
          14.34325885772705,
          -1.712558388710022,
          -8.839336395263672,
          1.4485265016555786,
          1.2204149961471558,
          -0.3799850344657898,
          3.821110486984253,
          -0.11937735229730606,
          6.49784517288208,
          -7.849716663360596,
          9.44314193725586,
          -5.136998176574707,
          2.1387922763824463,
          -0.4852295219898224,
          5.215785503387451,
          -0.9804571866989136,
          -5.725016117095947,
          -3.257755756378174,
          -5.223148822784424,
          9.7262544631958,
          -0.08249088376760483,
          -6.59004020690918,
          -4.177274227142334,
          0.8916264772415161,
          13.117385864257812,
          2.096909999847412,
          7.401085376739502,
          8.667182922363281,
          4.304198265075684,
          4.901661396026611,
          6.205508708953857,
          -2.442277193069458,
          1.1603970527648926
         ],
         "z": [
          0.7518947124481201,
          -1.5088237524032593,
          9.072158813476562,
          8.780074119567871,
          -10.56827163696289,
          -9.82586669921875,
          -1.6399482488632202,
          13.661117553710938,
          1.7101249694824219,
          -7.2346649169921875,
          4.615151405334473,
          8.388493537902832,
          -2.367556095123291,
          0.5082007050514221,
          -7.011807441711426,
          11.53770637512207,
          6.896856784820557,
          -7.68960428237915,
          7.604892253875732,
          -9.989540100097656,
          -8.913336753845215,
          0.21724319458007812,
          -2.7569031715393066,
          -6.637338161468506,
          12.45009708404541,
          0.34914425015449524,
          3.350632429122925,
          1.4371252059936523,
          9.280824661254883,
          3.1124954223632812,
          -8.77173900604248,
          -7.359086513519287,
          -3.749727249145508,
          -8.700624465942383,
          -10.914421081542969,
          13.308462142944336,
          4.30434513092041,
          -8.275541305541992,
          -0.6043902039527893,
          -12.525741577148438,
          11.404011726379395,
          1.979066252708435,
          -7.188595771789551,
          2.754743814468384,
          -10.019749641418457,
          -2.2599124908447266,
          -0.900288999080658,
          -8.26115608215332,
          1.3812975883483887,
          -3.8715522289276123,
          -10.446901321411133,
          11.647003173828125,
          -9.909082412719727,
          9.786835670471191,
          4.629204273223877,
          -7.824573040008545,
          -6.092550754547119,
          -8.017991065979004,
          10.041868209838867,
          -14.148722648620605,
          8.352802276611328,
          10.452370643615723,
          8.50755500793457,
          11.853231430053711,
          -4.9775919914245605,
          1.9514188766479492,
          7.153260231018066,
          1.9440114498138428,
          2.011868715286255,
          -0.06184246018528938,
          -3.5141680240631104,
          -8.39717960357666,
          -2.1756255626678467,
          -11.11519718170166,
          -4.772993087768555,
          -3.7323968410491943,
          -2.0679690837860107,
          -11.618388175964355,
          -5.510005474090576,
          5.002359390258789,
          2.636523962020874,
          -5.602260589599609,
          13.02900218963623,
          -0.712672770023346,
          -4.801442623138428,
          -5.609319686889648,
          -10.286381721496582,
          9.925661087036133,
          -7.190998554229736,
          -3.4002768993377686,
          8.455168724060059,
          -10.335946083068848,
          -11.966582298278809,
          9.723609924316406,
          -9.668092727661133,
          -7.488394737243652,
          0.8627945184707642,
          -7.033751010894775,
          4.890296936035156,
          -4.592187881469727,
          5.3976640701293945,
          7.015470504760742,
          4.171230792999268,
          14.146421432495117,
          0.9882229566574097,
          6.9274516105651855,
          -0.9706168174743652,
          -10.929367065429688,
          -13.544426918029785,
          5.672076225280762,
          -10.325674057006836,
          -2.9765286445617676,
          -13.08340072631836,
          -3.0580155849456787,
          1.8889893293380737,
          -8.690797805786133,
          9.307373046875,
          -2.721011161804199,
          9.919559478759766,
          5.882300853729248,
          10.436264991760254,
          -6.041933059692383,
          -4.431185722351074,
          -3.5357954502105713,
          -10.223462104797363,
          4.051959991455078,
          2.350773811340332,
          -6.057034969329834,
          0.44546687602996826,
          5.318957805633545,
          -3.170653820037842,
          -12.18630313873291,
          9.071903228759766,
          -2.4221158027648926,
          -13.683640480041504,
          2.4379875659942627,
          -10.341617584228516,
          -5.874461650848389,
          6.6728034019470215,
          6.529550075531006,
          -4.733378887176514,
          -3.738553285598755,
          -2.025083065032959,
          0.9467275142669678,
          -0.8478682637214661,
          1.6172930002212524,
          -3.080946683883667,
          -2.6063807010650635,
          0.6552649140357971,
          -0.1216452494263649,
          5.82869815826416,
          2.6631875038146973,
          -3.35566782951355,
          6.745248794555664,
          -13.756521224975586,
          2.9610660076141357,
          -9.910421371459961,
          0.3754473328590393,
          5.753302097320557,
          9.634931564331055,
          -6.9633402824401855,
          3.906830072402954,
          -3.7104403972625732,
          -3.5625200271606445,
          7.731518268585205,
          11.670429229736328,
          1.7041411399841309,
          -12.39876651763916,
          -4.863134384155273,
          -2.183852195739746,
          -7.65256404876709,
          -3.7457666397094727,
          -6.432037353515625,
          3.748295307159424,
          7.2901811599731445,
          -10.597040176391602,
          -8.162874221801758,
          -1.8679851293563843,
          1.9086289405822754,
          -7.579084873199463,
          -7.455097675323486,
          0.9470685124397278,
          1.1595834493637085,
          1.2271728515625,
          -3.501744031906128,
          -4.760151386260986,
          -7.667076587677002,
          4.912531852722168,
          12.209004402160645,
          -11.33487319946289,
          11.348791122436523,
          5.947430610656738,
          -8.17603874206543,
          -0.7237007021903992,
          -4.032618999481201,
          3.797152280807495,
          9.106796264648438,
          -10.715624809265137,
          6.115128993988037,
          -3.461413860321045,
          10.226845741271973,
          -5.967130661010742,
          0.06143668666481972,
          -0.28558799624443054,
          -12.139789581298828,
          -0.8397951126098633,
          -9.829845428466797,
          -5.90872859954834,
          6.502388000488281,
          3.0417046546936035,
          3.139800548553467,
          6.89986515045166,
          6.969494342803955,
          -6.695306777954102,
          -7.9849348068237305,
          -0.19424790143966675,
          3.913889169692993,
          9.858365058898926,
          -2.507249116897583,
          8.132412910461426,
          2.5839316844940186,
          9.22066879272461,
          1.8884902000427246,
          6.423210144042969,
          -1.578790307044983,
          -2.500932455062866,
          10.08707046508789,
          4.085857391357422,
          3.376201868057251,
          -7.75093412399292,
          -5.421820163726807,
          7.816175937652588,
          1.1515014171600342,
          2.7074809074401855,
          -1.2197418212890625,
          10.612626075744629,
          -6.4863128662109375,
          4.111605644226074,
          -0.44214069843292236,
          -1.2129920721054077,
          5.565103054046631,
          -3.375248908996582,
          -10.531353950500488,
          -0.04124752804636955,
          4.803146839141846,
          3.9909257888793945,
          7.017168998718262,
          -1.4670019149780273,
          4.050900936126709,
          13.404034614562988,
          4.985923767089844,
          4.420213222503662,
          2.116584062576294,
          -9.027767181396484,
          3.8247694969177246,
          1.5356913805007935,
          9.472617149353027,
          -9.965704917907715,
          -7.969963073730469,
          1.6961818933486938,
          -11.118908882141113,
          -5.466008186340332,
          13.264716148376465,
          8.060832023620605,
          -0.6847025156021118,
          -11.587614059448242,
          -7.034524440765381,
          -6.2489471435546875,
          -1.4150689840316772,
          3.2574427127838135,
          -9.072013854980469,
          5.620913028717041,
          -13.61008358001709,
          4.593867301940918,
          3.931626558303833,
          -0.9070454835891724,
          -3.979691505432129,
          -3.7183399200439453,
          -0.17630930244922638,
          10.797277450561523,
          11.905170440673828,
          10.61669635772705,
          7.642237663269043,
          8.97203254699707,
          -4.66778039932251,
          10.530677795410156,
          -5.858214378356934,
          -12.08425235748291,
          7.147132873535156,
          -10.85776424407959,
          -9.252866744995117,
          0.004408674780279398,
          -12.922337532043457,
          -8.675341606140137,
          11.557421684265137,
          11.389021873474121,
          0.8956462740898132,
          7.346043109893799,
          7.096447944641113,
          -8.224489212036133,
          -2.3566677570343018,
          -4.670243263244629,
          -6.539051055908203,
          11.898653030395508,
          5.135112762451172,
          -2.4599990844726562,
          10.988694190979004,
          1.0543129444122314,
          -1.9149086475372314,
          14.341614723205566,
          3.904207468032837,
          -8.761292457580566,
          -9.04920768737793,
          7.589090347290039,
          12.430882453918457,
          -2.558877468109131,
          0.47962090373039246,
          -9.88951587677002,
          -0.5045192241668701,
          1.8636599779129028,
          -1.8984438180923462,
          -4.75538444519043,
          -12.316854476928711,
          12.592704772949219,
          -3.703810691833496,
          7.40508508682251,
          0.7312653660774231,
          0.5800454616546631,
          -4.122152805328369,
          -7.9000396728515625,
          -2.1195409297943115,
          -1.2759265899658203,
          0.35485026240348816,
          4.080135345458984,
          8.293631553649902,
          -13.085522651672363,
          -0.7680450677871704,
          9.097479820251465,
          -3.6318838596343994,
          -13.120407104492188,
          -10.69681453704834,
          0.8784250020980835,
          9.766741752624512,
          1.9192848205566406,
          -3.365407943725586,
          -3.9337451457977295,
          -1.4110801219940186,
          -2.644495725631714,
          -11.942341804504395,
          -6.498178958892822,
          5.510647773742676,
          -12.022296905517578,
          3.9513187408447266,
          -8.973278999328613,
          2.2950940132141113,
          -7.056593894958496,
          -1.4317142963409424,
          5.3836541175842285,
          -8.869032859802246,
          1.2597100734710693,
          -2.9793012142181396,
          -4.26708459854126,
          -12.789600372314453,
          6.375768184661865,
          -0.161972776055336,
          2.4638662338256836,
          -10.849052429199219,
          -3.390470027923584,
          -2.9787724018096924,
          -4.940245628356934,
          11.617891311645508,
          3.7745234966278076,
          10.22428035736084,
          7.154403209686279,
          -11.44332504272461,
          -12.43267822265625,
          10.516069412231445,
          -10.289738655090332,
          -10.97120475769043,
          3.1805062294006348,
          4.761983871459961,
          7.6030964851379395,
          0.18475769460201263,
          -7.667783260345459,
          -0.16555321216583252,
          -1.7611420154571533,
          -0.39711156487464905,
          8.80965805053711,
          -11.426085472106934,
          4.311163902282715,
          3.33591365814209,
          5.452995777130127,
          -10.241557121276855,
          -1.2323622703552246,
          6.407687187194824,
          -7.7127909660339355,
          -1.1644411087036133,
          13.539141654968262,
          3.1232500076293945,
          -8.24748420715332,
          -8.11949348449707,
          -4.194763660430908,
          3.114794969558716,
          -6.838668346405029,
          -12.648490905761719,
          -8.35295581817627,
          -2.8304452896118164,
          -2.71024227142334,
          -2.297976493835449,
          -8.185200691223145,
          13.38338565826416,
          10.833292961120605,
          1.3296444416046143,
          10.229976654052734,
          9.086570739746094,
          -8.459436416625977,
          -10.45053768157959,
          4.902937889099121,
          -10.23745059967041,
          1.9417868852615356,
          -12.19340705871582,
          -6.1574554443359375,
          3.6353375911712646,
          -2.445378065109253,
          -3.7737722396850586,
          4.155953884124756,
          -4.804628372192383,
          -7.492725849151611,
          -9.970949172973633,
          -3.592120885848999,
          -4.086019039154053,
          8.856501579284668,
          5.1475958824157715,
          1.2235342264175415,
          1.0211164951324463,
          8.789454460144043,
          -7.8771185874938965,
          -6.192508697509766,
          -1.7330025434494019,
          -6.8336992263793945,
          10.215985298156738,
          -8.15343189239502,
          -8.727956771850586,
          -6.66628885269165,
          0.053378988057374954,
          -12.208761215209961,
          -14.012194633483887,
          -6.098600387573242,
          -2.2886927127838135,
          9.921024322509766,
          5.346473217010498,
          12.535844802856445,
          1.353519082069397,
          9.28897762298584,
          1.040603756904602,
          1.9909414052963257,
          -12.191916465759277,
          -11.887767791748047,
          -2.1257238388061523,
          8.778857231140137,
          -1.971290946006775,
          4.271173477172852,
          10.691122055053711,
          2.5724966526031494,
          2.7993805408477783,
          8.022611618041992,
          -3.8459291458129883,
          -12.510760307312012,
          -0.06652159988880157,
          2.241514205932617,
          8.167826652526855,
          -11.908458709716797,
          -4.251743793487549,
          5.048315048217773,
          4.030978679656982,
          -1.5123875141143799,
          -3.6981148719787598,
          -5.401556015014648,
          -6.1598429679870605,
          5.784963607788086,
          -6.143946170806885,
          -6.234313011169434,
          8.551773071289062,
          6.304812908172607,
          0.14398841559886932,
          11.241950035095215,
          13.453207015991211,
          -4.721187114715576,
          -9.454397201538086,
          0.3123708963394165,
          -6.444350719451904,
          -2.3323705196380615,
          -0.5632854104042053,
          -4.709923267364502,
          -8.3587007522583,
          11.564370155334473,
          7.032373905181885,
          -1.9597301483154297,
          8.446829795837402,
          3.4461586475372314,
          -6.531170845031738,
          -5.464936256408691,
          -10.887383460998535,
          7.533823490142822,
          -5.559927940368652,
          9.492140769958496,
          -2.1994271278381348,
          2.477783679962158,
          -3.9110634326934814,
          6.953342437744141,
          -4.839600086212158,
          -4.690741539001465,
          11.137680053710938,
          12.836956977844238,
          -1.8838586807250977,
          -2.2162106037139893,
          2.9770047664642334,
          5.538391590118408,
          -10.954181671142578,
          0.6094681620597839,
          -10.300056457519531,
          -12.246585845947266,
          -8.777853012084961,
          6.859580993652344,
          2.686492443084717,
          1.5143625736236572,
          -14.124137878417969,
          -9.644728660583496,
          0.7257639169692993,
          3.526663064956665,
          -12.311248779296875,
          9.027314186096191,
          -5.233831405639648,
          1.0792500972747803,
          4.85962438583374,
          3.8463926315307617,
          -9.025146484375,
          8.760802268981934,
          11.13582992553711,
          3.0652194023132324,
          3.501302719116211,
          6.683535575866699,
          7.7513427734375,
          -2.2897377014160156,
          5.2587971687316895,
          -9.914511680603027,
          2.904789447784424,
          -6.828434467315674,
          -8.9879732131958,
          -9.742968559265137,
          14.493325233459473,
          -11.515137672424316,
          4.595510959625244,
          3.3311874866485596,
          -2.0945160388946533,
          -11.85268783569336,
          -1.4656744003295898,
          -8.14161491394043,
          -1.9012552499771118,
          7.3938727378845215,
          10.165830612182617,
          6.809821128845215,
          4.014102458953857,
          -2.58585524559021,
          -16.1219425201416,
          2.00148606300354,
          7.3571062088012695,
          3.916426658630371,
          -6.919319152832031,
          12.303979873657227,
          3.7791812419891357,
          6.267044544219971,
          -11.297258377075195,
          13.856043815612793,
          -7.760134696960449,
          2.5516910552978516,
          5.792585849761963,
          -9.434009552001953,
          3.679509401321411,
          -11.621230125427246,
          10.206279754638672,
          4.2043046951293945,
          1.2594685554504395,
          1.0909502506256104,
          -5.356955051422119,
          10.928949356079102,
          5.1404948234558105,
          -8.810439109802246,
          3.536553382873535,
          -14.457374572753906,
          6.635517120361328,
          6.985406875610352,
          -3.840492010116577,
          -3.3605687618255615,
          -3.4292104244232178,
          8.796682357788086,
          -8.305501937866211,
          2.647789478302002,
          -3.9381635189056396,
          2.705085515975952,
          -9.872496604919434,
          -14.292428016662598,
          -10.334595680236816,
          9.073995590209961,
          -8.958721160888672,
          3.933213233947754,
          5.242551326751709,
          -5.265275001525879,
          -5.380643367767334,
          -9.883576393127441,
          5.639007091522217,
          1.7909098863601685,
          -7.5233259201049805,
          4.780904769897461,
          6.129405975341797,
          -4.246705532073975,
          -0.6008356213569641,
          4.782060623168945,
          -4.535183429718018,
          1.3084275722503662,
          -10.84181022644043,
          -5.05794620513916,
          -3.9379563331604004,
          -6.716708183288574,
          7.125860691070557,
          3.995631456375122,
          2.5946624279022217,
          -3.797030448913574,
          -4.428382873535156,
          11.439139366149902,
          -0.05849435552954674,
          -10.176091194152832,
          1.9125397205352783,
          -2.8418524265289307,
          5.482848167419434,
          -10.157485008239746,
          1.6402196884155273,
          13.784524917602539,
          9.29749870300293,
          -3.9928641319274902,
          3.040938138961792,
          -6.845951080322266,
          7.815221786499023,
          2.67710018157959,
          2.213397979736328,
          7.053379058837891,
          3.8423819541931152,
          -3.9011218547821045,
          13.042647361755371,
          -10.27045726776123,
          4.209848403930664,
          4.289123058319092,
          10.741509437561035,
          13.706280708312988,
          5.341481685638428,
          3.902702569961548,
          2.8006765842437744,
          -1.6606941223144531,
          5.137902736663818,
          2.5975143909454346,
          10.150307655334473,
          8.626218795776367,
          -8.771175384521484,
          -6.3804545402526855,
          4.435914516448975,
          2.3947417736053467,
          5.790755271911621,
          9.306010246276855,
          0.6324591636657715,
          4.279980659484863,
          -2.1556825637817383,
          7.144293308258057,
          -7.415305137634277,
          -5.118236064910889,
          -2.598349094390869,
          2.451835870742798,
          -3.9991180896759033,
          -9.45422649383545,
          2.5254485607147217,
          -10.323115348815918,
          -1.495424509048462,
          -7.033921241760254,
          5.332219123840332,
          4.309143543243408,
          10.917915344238281,
          9.77646541595459,
          9.172416687011719,
          -10.298393249511719,
          6.160749435424805,
          0.11570721864700317,
          -11.03670597076416,
          -4.756721496582031,
          5.278878688812256,
          4.54794979095459,
          -2.1637532711029053,
          12.037345886230469,
          0.3813575506210327,
          8.910689353942871,
          -12.302008628845215,
          10.630988121032715,
          9.468108177185059,
          -7.697390556335449,
          0.41275182366371155,
          7.669834136962891,
          -13.238354682922363,
          2.6775693893432617,
          5.234131813049316,
          -11.500234603881836,
          12.50936222076416,
          9.13767147064209,
          -0.7651168704032898,
          -5.80944299697876,
          7.5190324783325195,
          5.78816032409668,
          9.184219360351562,
          -6.564356327056885,
          3.070493221282959,
          -1.4295920133590698,
          -8.444777488708496,
          -1.0965445041656494,
          9.666036605834961,
          -3.874617338180542,
          -11.544973373413086,
          8.711808204650879,
          -5.069031715393066,
          9.729394912719727,
          9.004753112792969,
          -0.40328142046928406,
          -9.893636703491211,
          4.007902145385742,
          1.4532240629196167,
          -7.319967746734619,
          -7.586026191711426,
          11.10898208618164,
          10.021483421325684,
          8.230792999267578,
          7.09348201751709,
          4.678128242492676,
          -7.3994364738464355,
          -6.210376739501953,
          2.7005081176757812,
          3.561708450317383,
          0.8553131818771362,
          1.6145468950271606,
          0.1395973116159439,
          -5.996944904327393,
          -2.3637776374816895,
          -8.748495101928711,
          3.48581862449646,
          3.982940912246704,
          -9.567278861999512,
          -12.63541316986084,
          -3.5872743129730225,
          -0.5137907862663269,
          -2.0675089359283447,
          -10.31855583190918,
          10.329103469848633,
          10.210187911987305,
          1.4511622190475464,
          5.616611003875732,
          -7.159271240234375,
          -5.202671527862549,
          14.22762680053711,
          -5.081709861755371,
          11.883631706237793,
          1.4455474615097046,
          9.20375919342041,
          -3.7291812896728516,
          7.555028438568115,
          -9.77263069152832,
          -10.514646530151367,
          12.996323585510254,
          0.7866683006286621,
          -9.898709297180176,
          -3.258514881134033,
          1.963621973991394,
          -3.653836250305176,
          -0.582983136177063,
          -11.932226181030273,
          -1.512735366821289,
          2.298206090927124,
          -4.103697776794434,
          -3.3025083541870117,
          9.316105842590332,
          10.540976524353027,
          -1.3119654655456543,
          -4.906880855560303,
          -7.405141830444336,
          -11.91175651550293,
          -2.741271734237671,
          10.131802558898926,
          0.000986252329312265,
          13.816755294799805,
          -3.424860715866089,
          -4.543448448181152,
          -3.6281819343566895,
          7.7552361488342285,
          -3.752577543258667,
          12.574172973632812,
          3.262275457382202,
          5.5653815269470215,
          5.8575825691223145,
          5.293025016784668,
          10.740422248840332,
          0.4454711377620697,
          1.3985176086425781,
          -1.0609432458877563,
          -4.5803093910217285,
          11.785221099853516,
          1.4137133359909058,
          7.606085300445557,
          0.061890777200460434,
          5.348387718200684,
          -1.2309426069259644,
          5.329638481140137,
          -3.7860918045043945,
          -10.205695152282715,
          3.0140037536621094,
          -6.3013505935668945,
          7.432394027709961,
          -0.6207568645477295,
          3.5805013179779053,
          -0.9716832041740417,
          -6.779901504516602,
          -4.102827072143555,
          -2.2676968574523926,
          2.9084341526031494,
          -1.2858436107635498,
          -6.971006393432617,
          6.175143241882324,
          -9.58192253112793,
          -0.8441124558448792,
          -0.5112159252166748,
          -9.380906105041504,
          -10.226126670837402,
          -10.004286766052246,
          -5.049956798553467,
          -2.9393112659454346,
          0.45318979024887085,
          -12.686931610107422,
          -0.9932636618614197,
          -3.984492778778076,
          -5.2740044593811035,
          2.2520110607147217,
          -6.644900798797607,
          -6.61051082611084,
          -11.724644660949707,
          -1.188660740852356,
          3.2392632961273193,
          -2.233912944793701,
          7.306069850921631,
          -3.6778340339660645,
          8.474066734313965,
          -7.481569766998291,
          -9.34131908416748,
          -3.455195903778076,
          -4.973613262176514,
          -2.012418508529663,
          14.35308837890625,
          8.419364929199219,
          4.683130741119385,
          1.8832793235778809,
          4.314015865325928,
          -10.964845657348633,
          -4.929793834686279,
          -2.522599220275879,
          7.274173736572266,
          -3.607830762863159,
          -12.30620288848877,
          1.853796124458313,
          -3.4484498500823975,
          -2.574697494506836,
          11.818724632263184,
          13.786251068115234,
          -10.50817584991455,
          7.244091987609863,
          1.0397059917449951,
          4.5125274658203125,
          -9.378417015075684,
          -5.165795803070068,
          -4.51669979095459,
          0.6900213956832886,
          13.618066787719727,
          2.384568214416504,
          -13.179474830627441,
          10.966405868530273,
          9.25168514251709,
          -5.880863189697266,
          2.9713387489318848,
          -9.320204734802246,
          -12.0993013381958,
          -7.0367512702941895,
          7.764650344848633,
          -6.596073627471924,
          5.066312313079834,
          -5.442197322845459,
          -1.5201863050460815,
          -1.5773305892944336,
          7.476651668548584,
          1.8206415176391602,
          1.4667667150497437,
          -6.770355701446533,
          -7.730910778045654,
          5.038707733154297,
          2.919001817703247,
          6.701742172241211,
          -8.36317253112793,
          -0.633063793182373,
          9.652315139770508,
          -4.766696929931641,
          -7.684387683868408,
          -2.048912286758423,
          -11.43941879272461,
          2.8535869121551514,
          0.9548765420913696,
          3.4721789360046387,
          12.870821952819824,
          -9.084839820861816,
          -1.0378103256225586,
          8.419946670532227,
          -6.430109024047852,
          0.6860848665237427,
          5.125121593475342,
          -7.930209159851074,
          8.948589324951172,
          3.101991891860962,
          8.479899406433105,
          13.379840850830078,
          -1.757767915725708,
          -1.5287845134735107,
          -11.904130935668945,
          -4.220308780670166,
          4.016543865203857,
          9.932785987854004,
          -6.042535781860352,
          -3.926213026046753,
          12.274889945983887,
          -8.461321830749512,
          5.648967742919922,
          5.781645774841309,
          2.178393840789795,
          1.0174620151519775,
          5.841730117797852,
          6.001754283905029,
          -12.469772338867188,
          -1.9280725717544556,
          4.243660926818848,
          2.8803558349609375,
          -6.074716567993164,
          -11.493159294128418,
          -10.248278617858887,
          -2.4413201808929443,
          8.87401008605957,
          6.687477111816406,
          3.491063356399536,
          2.1044323444366455,
          -6.596986293792725,
          11.792036056518555,
          -10.279109954833984,
          2.674156665802002,
          11.942100524902344,
          -4.9459967613220215,
          5.465424060821533,
          4.768503665924072,
          -6.949023723602295,
          6.105062007904053,
          -8.547223091125488,
          -2.9336936473846436,
          11.170373916625977,
          1.2676664590835571,
          -12.11662483215332,
          -12.39429759979248,
          11.658702850341797,
          -8.733349800109863,
          10.41590690612793,
          12.100628852844238,
          2.1774487495422363,
          8.225017547607422,
          6.034901142120361,
          -12.562224388122559,
          -0.6641699075698853,
          -12.047622680664062,
          -6.91652774810791,
          -9.1792631149292,
          -7.326039791107178,
          -4.3416643142700195,
          -13.501726150512695,
          5.386775493621826,
          -2.875713348388672,
          5.231250286102295,
          4.383544445037842,
          2.281263828277588,
          -4.634277820587158,
          -6.868849277496338,
          -2.5131356716156006,
          0.5023192167282104,
          -11.082186698913574,
          -11.147364616394043,
          -15.832557678222656,
          -5.8449811935424805,
          4.82197380065918,
          3.260221481323242,
          8.847428321838379,
          10.927214622497559,
          -10.683683395385742,
          1.460260033607483,
          -4.5387043952941895,
          -10.21097469329834,
          -8.807754516601562,
          11.5724515914917,
          1.6229690313339233,
          1.9363113641738892,
          12.328441619873047,
          -7.432048797607422,
          -9.5447359085083,
          -2.8090617656707764,
          6.9148101806640625,
          10.860496520996094,
          -6.933195114135742,
          -7.440038204193115,
          9.302863121032715,
          8.092209815979004,
          -9.851879119873047,
          -0.6607643365859985,
          -4.83018684387207,
          -9.316906929016113,
          1.8618927001953125,
          -1.0753583908081055,
          -8.83730411529541,
          12.081534385681152,
          -15.856145858764648,
          11.35075855255127,
          -4.718817234039307,
          -7.807913303375244,
          -2.19901180267334,
          -8.779239654541016,
          5.928389072418213,
          -3.5316970348358154,
          9.615915298461914,
          -5.879271507263184,
          -6.943729400634766,
          -7.1672139167785645,
          7.315661907196045,
          -1.2865238189697266,
          5.379819869995117,
          2.5932021141052246,
          -10.745865821838379,
          12.362061500549316,
          -0.662459135055542,
          13.477432250976562,
          -9.78398609161377,
          11.240119934082031,
          11.497406005859375,
          4.518349647521973,
          -13.430779457092285,
          10.19506549835205,
          3.627314567565918,
          0.48734453320503235,
          2.7401905059814453,
          -10.488788604736328,
          -9.920756340026855,
          2.6119532585144043,
          -0.5499457120895386,
          -5.178724765777588,
          -10.682366371154785,
          -0.30750027298927307,
          -5.943808078765869,
          10.957344055175781,
          2.68912935256958,
          13.430047988891602,
          8.9441556930542,
          5.785271167755127,
          -6.624561786651611,
          -9.991473197937012,
          -10.632246017456055,
          5.0414042472839355,
          7.708734035491943,
          -7.350373268127441,
          -11.984594345092773,
          -6.336936950683594,
          -7.257196426391602,
          0.8775749802589417,
          0.7460091710090637,
          9.738720893859863,
          9.203452110290527,
          -7.08713436126709,
          -4.8370537757873535,
          -1.2500070333480835,
          13.171079635620117,
          -6.741446018218994,
          9.605827331542969,
          -1.5602525472640991,
          -8.253212928771973,
          -11.484338760375977,
          6.94164514541626,
          -4.060973644256592,
          5.01411247253418,
          14.37208366394043,
          8.883773803710938,
          8.140386581420898,
          4.251429557800293,
          11.559025764465332,
          10.528046607971191,
          1.076351284980774,
          1.1747691631317139,
          -7.845774173736572,
          -4.993161201477051,
          1.8258628845214844,
          6.022360801696777,
          -4.458276748657227,
          12.052823066711426,
          12.588696479797363,
          2.7337043285369873,
          2.052185535430908,
          0.3360157012939453,
          2.257495403289795,
          -10.26211929321289,
          2.8653674125671387,
          -13.92587947845459,
          -8.613842010498047,
          -4.279173374176025,
          -6.716485977172852,
          -4.109650135040283,
          6.004306316375732,
          -2.498633623123169,
          -4.982242107391357,
          -8.504568099975586,
          -9.44287395477295,
          9.56152057647705,
          11.827864646911621,
          0.7957968711853027,
          3.9121298789978027,
          -2.024245500564575,
          -1.5145952701568604,
          -5.72450065612793,
          1.922310471534729,
          -3.658094644546509,
          -13.435465812683105,
          1.3337992429733276,
          9.602607727050781,
          -7.009274482727051,
          -3.396912097930908,
          1.9980605840682983,
          -3.9848647117614746,
          -3.6484179496765137,
          -12.20892333984375,
          3.3377327919006348,
          -5.936995983123779,
          -2.7654483318328857,
          9.599991798400879,
          1.729904294013977,
          0.9861109256744385,
          -4.264699459075928,
          -5.9665846824646,
          -3.8227908611297607,
          12.73509407043457,
          6.764201641082764,
          -9.329030990600586,
          4.048517227172852,
          4.065049648284912,
          -3.9876797199249268,
          -4.069548606872559,
          10.778145790100098,
          -9.87877368927002,
          -2.72868275642395,
          1.2777941226959229,
          -9.328425407409668,
          5.041975498199463,
          -1.627268671989441,
          8.422289848327637,
          3.045102119445801,
          13.733783721923828,
          -12.459099769592285,
          12.483746528625488,
          0.7512072324752808,
          -5.83602237701416,
          0.8198197484016418,
          9.529003143310547,
          -2.466740608215332,
          -6.23003625869751,
          4.952200889587402,
          8.165374755859375,
          8.473094940185547,
          -2.7332475185394287,
          9.278321266174316,
          1.9320449829101562,
          -3.079467296600342,
          7.273418426513672,
          -11.353324890136719,
          8.182344436645508,
          -4.185267925262451,
          -6.603679180145264,
          -4.225132465362549,
          0.3319896161556244,
          9.570165634155273,
          -6.022792339324951,
          -0.1606956422328949,
          8.497597694396973,
          11.71642780303955,
          -8.393946647644043,
          -7.052292346954346,
          -5.706133842468262,
          -6.156164646148682,
          -0.09066605567932129,
          -5.465246200561523,
          -6.140913963317871,
          -13.04647445678711,
          -1.7162020206451416,
          11.354621887207031,
          -8.799971580505371,
          13.607189178466797,
          -10.136731147766113,
          -8.627052307128906,
          -3.0396721363067627,
          5.0225653648376465,
          -13.42747974395752,
          3.925032377243042,
          -4.320186138153076,
          -0.41001060605049133,
          -8.83515453338623,
          -0.7837626934051514,
          7.479460716247559,
          -1.6004027128219604,
          -11.354610443115234,
          4.115330696105957,
          11.369843482971191,
          -7.426304340362549,
          -1.2027904987335205,
          -2.4029273986816406,
          0.15131215751171112,
          -9.936410903930664,
          10.890213966369629,
          -1.8767081499099731,
          2.803556203842163,
          4.4670634269714355,
          1.5800743103027344,
          0.3844982385635376,
          7.658992290496826,
          -8.95544719696045,
          -6.1895833015441895,
          -6.110191822052002,
          2.5897271633148193,
          4.178142547607422,
          -4.8352203369140625,
          4.554333209991455,
          -2.477658748626709,
          12.677090644836426,
          1.7074257135391235,
          -6.315729141235352,
          2.81292986869812,
          9.434104919433594,
          0.4701215922832489,
          4.19700813293457,
          -2.562386989593506,
          5.680130481719971,
          -12.542983055114746,
          -0.17626549303531647,
          9.771249771118164,
          8.925780296325684,
          6.2553205490112305,
          -5.016154766082764,
          -3.4565484523773193,
          5.250277519226074,
          -2.193204879760742,
          -2.5711379051208496,
          -1.5038518905639648,
          -7.00496768951416,
          -1.7534140348434448,
          11.461713790893555,
          -12.021007537841797,
          4.597006797790527,
          -12.553263664245605,
          4.091939926147461,
          -7.179146766662598,
          11.959113121032715,
          3.211574077606201,
          9.870504379272461,
          11.338689804077148,
          -12.471768379211426,
          -11.382319450378418,
          -0.19536498188972473,
          7.0005364418029785,
          13.30967903137207,
          -3.124917507171631,
          12.421036720275879,
          3.502673864364624,
          -11.449064254760742,
          -12.512203216552734,
          5.213540077209473,
          -3.7945308685302734,
          -2.174837589263916,
          5.098021030426025,
          -10.733856201171875,
          13.058401107788086,
          1.0647670030593872,
          0.3706049621105194,
          11.54299259185791,
          -11.677627563476562,
          -8.728272438049316,
          -6.950617790222168,
          3.5429630279541016,
          4.507852554321289,
          1.8862388134002686,
          -3.208232879638672,
          2.24491548538208,
          5.126563549041748,
          4.752285957336426,
          11.293538093566895,
          -2.676063060760498,
          0.9874743223190308,
          -9.867019653320312,
          1.2571015357971191,
          7.63865852355957,
          3.7480809688568115,
          11.264568328857422,
          -4.111454010009766,
          4.765923023223877,
          -1.3856630325317383,
          0.9044634699821472,
          -3.138115406036377,
          -7.311401844024658,
          0.4303742051124573,
          -7.138462543487549,
          1.2645703554153442,
          -11.4906587600708,
          -13.009657859802246,
          11.527349472045898,
          6.132968902587891,
          -8.726983070373535,
          5.096068859100342,
          11.522764205932617,
          2.1420295238494873,
          -3.9505484104156494,
          5.456570625305176,
          2.4287495613098145,
          0.9881670475006104,
          0.8772191405296326,
          -6.883204460144043,
          9.96370792388916,
          1.962836503982544,
          -7.118317127227783,
          -4.925999641418457,
          1.9222663640975952,
          1.8381822109222412,
          4.9441938400268555,
          -2.154036521911621,
          -5.709288597106934,
          -12.232096672058105,
          -12.554688453674316,
          -1.803979754447937,
          -12.76047134399414,
          1.8343995809555054,
          -6.853179931640625,
          -7.390318870544434,
          -4.973835468292236,
          -13.878843307495117,
          -1.1802834272384644,
          3.062861204147339,
          11.518476486206055,
          -4.6823015213012695,
          6.301011562347412,
          8.6453275680542,
          -10.41287612915039,
          -9.274855613708496,
          14.756054878234863,
          7.840813636779785,
          -1.209625005722046,
          -3.5204885005950928,
          -9.760518074035645,
          -9.441823959350586,
          -0.8509039282798767,
          -8.234914779663086,
          0.27821192145347595,
          -0.2593376040458679,
          10.279373168945312,
          2.512108564376831,
          -3.0903220176696777,
          6.441205978393555,
          -4.245855331420898,
          3.9440126419067383,
          -6.624309539794922,
          -1.1286323070526123,
          11.772293090820312,
          0.19497354328632355,
          1.6825435161590576,
          -0.3571436107158661,
          5.104506492614746,
          -8.617138862609863,
          13.567778587341309,
          8.925542831420898,
          -0.6169424653053284,
          8.964056015014648,
          1.7051819562911987,
          13.441900253295898,
          3.034299612045288,
          -4.0943217277526855,
          13.523076057434082,
          -5.579024314880371,
          0.5191338062286377,
          2.177305221557617,
          4.48399019241333,
          2.791585683822632,
          0.29479163885116577,
          -4.963760852813721,
          -0.330349326133728,
          -11.063758850097656,
          0.27393773198127747,
          -4.983741760253906,
          -2.269829034805298,
          -9.671649932861328,
          8.484148979187012,
          -5.158084392547607,
          2.1672000885009766,
          -11.034235000610352,
          0.9635052680969238,
          -9.370661735534668,
          1.5194798707962036,
          -14.72916030883789,
          9.09619140625,
          -4.876508712768555,
          3.1742160320281982,
          -3.740140676498413,
          6.967411994934082,
          12.988759994506836,
          -5.006157875061035,
          -9.81517219543457,
          -7.305315017700195,
          5.271615982055664,
          3.7143142223358154,
          -0.9819039702415466,
          -0.6936757564544678,
          3.7036385536193848,
          10.706453323364258,
          -14.946829795837402,
          -6.050776481628418,
          -7.880080699920654,
          7.895692825317383,
          1.5938465595245361,
          0.5426750779151917,
          12.444746971130371,
          -12.714797019958496,
          -6.4596266746521,
          12.512235641479492,
          -2.2319674491882324,
          12.351573944091797,
          -1.1254191398620605,
          -0.6017006635665894,
          1.2442659139633179,
          -11.353846549987793,
          1.642225742340088,
          6.205511569976807,
          4.267815113067627,
          12.614168167114258,
          -5.2132978439331055,
          2.068934440612793,
          -9.431387901306152,
          7.677789688110352,
          0.7817140817642212,
          11.923246383666992,
          -7.420795440673828,
          10.18331527709961,
          4.427478790283203,
          -0.5236548781394958,
          0.8182761669158936,
          -6.506428241729736,
          -3.481903314590454,
          7.641227722167969,
          -3.0556094646453857,
          -9.39030647277832,
          5.383116722106934,
          2.483867883682251,
          -11.688353538513184,
          -8.092605590820312,
          12.164636611938477,
          8.693719863891602,
          -9.167110443115234,
          -3.1569457054138184,
          -10.363595962524414,
          -2.1272993087768555,
          1.4916807413101196,
          0.978278398513794,
          0.7712993621826172,
          4.7803239822387695,
          9.41980266571045,
          -1.8078629970550537,
          11.850374221801758,
          -0.0074110087007284164,
          2.277898073196411,
          -12.436498641967773,
          -8.164721488952637,
          -7.840988636016846,
          13.551996231079102,
          -5.586976051330566,
          3.855154275894165,
          5.567404747009277,
          -6.7143425941467285,
          -10.320062637329102,
          10.782971382141113,
          11.04081916809082,
          10.642775535583496,
          -2.531613826751709,
          -7.652421951293945,
          3.6430392265319824,
          -3.6376912593841553,
          0.4580705165863037,
          -11.53808307647705,
          7.393231391906738,
          -6.7884721755981445,
          6.652802467346191,
          3.4756600856781006,
          -2.0302484035491943,
          10.28490161895752,
          9.718243598937988,
          8.5142822265625,
          -9.753335952758789,
          -10.177576065063477,
          8.760958671569824,
          -5.971545219421387,
          -6.886755466461182,
          7.879696846008301,
          -1.8123581409454346,
          -1.1478331089019775,
          2.448180913925171,
          -3.545241117477417,
          -5.942342281341553,
          -5.065074920654297,
          4.280505657196045,
          -10.383012771606445,
          1.746421217918396,
          -0.4787282645702362,
          5.810257911682129,
          13.417291641235352,
          5.291318416595459,
          -10.161871910095215,
          -1.0778990983963013,
          -4.1470489501953125,
          -9.684659004211426,
          -6.669639587402344,
          3.686221122741699,
          7.212040424346924,
          -5.136438846588135,
          -12.045328140258789,
          2.2451369762420654,
          -2.748655319213867,
          7.656350612640381,
          2.4820451736450195,
          -3.821704387664795,
          -8.375869750976562,
          -8.102636337280273,
          10.317255020141602,
          5.478552341461182,
          3.210571050643921,
          5.656878471374512,
          -0.4496167004108429,
          -0.3959844410419464,
          14.177055358886719,
          -1.0235880613327026,
          7.106805801391602,
          -0.16286404430866241,
          1.032858967781067,
          6.195285320281982,
          -0.9056062698364258,
          8.305168151855469,
          -5.77335262298584,
          2.6031575202941895,
          4.232871055603027,
          0.4183407127857208,
          9.022926330566406,
          3.4281184673309326,
          0.12076006084680557,
          0.8666939735412598,
          7.578040599822998,
          2.256234884262085,
          -5.826517581939697,
          0.2016572207212448,
          1.4110561609268188,
          7.03271484375,
          1.2212318181991577,
          -2.110931396484375,
          8.688217163085938,
          -10.980429649353027,
          4.544759273529053,
          -6.145082950592041,
          2.5594699382781982,
          0.18609562516212463,
          -8.882885932922363,
          2.051384210586548,
          2.994704484939575,
          -8.132096290588379,
          -8.847423553466797,
          -2.774529457092285,
          10.908574104309082,
          9.292425155639648,
          -0.9764203429222107,
          -10.349103927612305,
          -7.052681922912598,
          -7.872053623199463,
          -10.177048683166504,
          1.3475501537322998,
          5.391952037811279,
          -3.0941195487976074,
          -2.2306690216064453,
          11.424633979797363,
          6.493126392364502,
          9.104475021362305,
          -10.187252044677734,
          -5.653187274932861,
          5.731896877288818,
          -2.7166433334350586,
          -7.603455543518066,
          -2.9560534954071045,
          -9.077128410339355,
          9.965311050415039,
          -6.771294116973877,
          -11.741083145141602,
          -4.137346267700195,
          -0.01174161396920681,
          -10.593510627746582,
          4.862025737762451,
          -8.618330955505371,
          3.6939234733581543,
          1.6181917190551758,
          1.242130994796753,
          -3.735353946685791,
          -0.7114053964614868,
          -4.987058162689209,
          1.759462833404541,
          -7.456366062164307,
          -2.6841933727264404,
          -3.884462356567383,
          5.375228404998779,
          11.792642593383789,
          3.911512613296509,
          -12.81757926940918,
          13.234638214111328,
          -6.764613628387451,
          7.272156238555908,
          2.0755224227905273,
          -4.389151096343994,
          9.726324081420898,
          -4.684366226196289,
          3.5859811305999756,
          -0.9926848411560059,
          3.9452755451202393,
          -5.648703575134277,
          -5.742135047912598,
          -10.881743431091309,
          -3.3252365589141846,
          1.9015105962753296,
          3.102536678314209,
          -4.966765403747559,
          7.65324592590332,
          -3.313098907470703,
          7.708713054656982,
          4.146729469299316,
          -2.805447578430176,
          5.266549587249756,
          3.313775062561035,
          8.389617919921875,
          2.112712860107422,
          0.049971871078014374,
          10.821124076843262,
          -8.519388198852539,
          10.64143180847168,
          -8.596579551696777,
          2.626542568206787,
          -4.237262725830078,
          9.014165878295898,
          -5.858792781829834,
          -3.665726661682129,
          -12.394329071044922,
          5.0662841796875,
          -7.821590900421143,
          -8.236577033996582,
          -4.871735095977783,
          -5.497084617614746,
          3.5014374256134033,
          -5.628835678100586,
          -0.9627652168273926,
          -2.800151824951172,
          -0.5622043609619141,
          13.50317096710205,
          -8.258580207824707,
          -5.868141174316406,
          -12.936806678771973,
          0.8198354840278625,
          2.8366150856018066,
          8.123848915100098,
          -1.4879587888717651,
          -5.367335796356201,
          5.221230983734131,
          9.523963928222656,
          3.7384426593780518,
          -10.127240180969238,
          6.982194423675537,
          13.368196487426758,
          -2.1950454711914062,
          2.926589012145996,
          2.5649473667144775,
          -7.858881950378418,
          -6.893710613250732,
          2.5262482166290283,
          1.7304223775863647,
          10.39380168914795,
          -4.370278835296631,
          -3.936258554458618,
          13.337631225585938,
          10.58968448638916,
          12.01950740814209,
          0.32909414172172546,
          8.426136016845703,
          3.5662410259246826,
          -12.102265357971191,
          0.4076794981956482,
          -2.244525671005249,
          2.9958367347717285,
          0.056472256779670715,
          12.790994644165039,
          -3.955918788909912,
          12.408576965332031,
          -5.871336936950684,
          13.15073013305664,
          9.170084953308105,
          -4.7278547286987305,
          0.8037190437316895,
          0.3622916638851166,
          -2.754960536956787,
          -3.83972430229187,
          -10.904141426086426,
          -6.346450328826904,
          -10.669325828552246,
          2.5263099670410156,
          8.972587585449219,
          -3.2255284786224365,
          -2.8122992515563965,
          14.366294860839844,
          3.785478115081787,
          7.2377610206604,
          1.797248125076294,
          12.218619346618652,
          1.5950191020965576,
          -6.889628887176514,
          1.12921941280365,
          13.80108642578125,
          -5.9897308349609375,
          -5.385746955871582,
          -10.264044761657715,
          -5.605486869812012,
          -9.899799346923828,
          0.29241225123405457,
          -3.0440433025360107,
          8.056428909301758,
          -9.787073135375977,
          -0.28877943754196167,
          -3.7922627925872803,
          8.776235580444336,
          3.2145659923553467,
          4.6829514503479,
          2.1029179096221924,
          1.0448826551437378,
          -9.389945030212402,
          -11.061349868774414,
          -1.2194684743881226,
          -9.45146656036377,
          -3.3808279037475586,
          -11.163498878479004,
          8.284768104553223,
          4.262042045593262,
          -11.191743850708008,
          2.7976410388946533,
          -5.968830108642578,
          12.457366943359375,
          3.241119384765625,
          7.219810485839844,
          -3.0533132553100586,
          0.32110461592674255,
          3.3911538124084473,
          3.6947286128997803,
          10.968793869018555,
          -10.015190124511719,
          -9.890475273132324,
          6.004231929779053,
          -13.169119834899902,
          5.702965259552002,
          -5.690894603729248,
          -2.4655518531799316,
          -2.4153048992156982,
          -10.053694725036621,
          3.6687843799591064,
          -8.250104904174805,
          8.536060333251953,
          9.69881820678711,
          -2.805241107940674,
          10.400729179382324,
          -12.025213241577148,
          1.7148581743240356,
          -0.09817042946815491,
          10.922252655029297,
          12.37703800201416,
          -2.951986789703369,
          4.747572898864746,
          -10.58092212677002,
          0.6386756896972656,
          11.163105010986328,
          8.524752616882324,
          -2.5871241092681885,
          -2.352327585220337,
          6.391011714935303,
          -4.714995384216309,
          1.8138666152954102,
          -8.811614990234375,
          -2.2838218212127686,
          11.821870803833008,
          5.913440704345703,
          -4.484548091888428,
          7.231422424316406,
          3.8831045627593994,
          -7.819329738616943,
          -0.2782857418060303,
          -6.166051387786865,
          10.834208488464355,
          -5.060998439788818,
          -4.72700834274292,
          2.1641793251037598,
          -0.11440718919038773,
          -3.4183342456817627,
          -4.839904308319092,
          3.717115879058838,
          -9.813469886779785,
          9.670113563537598,
          -1.7081023454666138,
          -10.033935546875,
          1.5398045778274536,
          4.130267143249512,
          -2.638662338256836,
          3.062319278717041,
          13.625688552856445,
          0.9744356870651245,
          -1.3935344219207764,
          0.6773313283920288,
          -9.115155220031738,
          7.96502161026001,
          -6.502546310424805,
          4.220755100250244,
          12.287315368652344,
          -8.224246978759766,
          10.991860389709473,
          0.3806690275669098,
          -2.120973825454712,
          -13.885095596313477,
          8.389575004577637,
          -7.860396385192871,
          7.485825538635254,
          2.73921275138855,
          9.273416519165039,
          -0.443930059671402,
          -8.478614807128906,
          5.461672306060791,
          12.708619117736816,
          3.2038049697875977,
          -3.118318796157837,
          -6.7552809715271,
          3.012420654296875,
          11.041821479797363,
          -0.47312259674072266,
          8.42877197265625,
          -4.458019733428955,
          13.879141807556152,
          -2.1016016006469727,
          -2.7140414714813232,
          -4.321385860443115,
          3.2613155841827393,
          3.9893338680267334,
          -0.5379568934440613,
          12.453391075134277,
          -7.381166934967041,
          -8.600835800170898,
          2.289090871810913,
          -0.15281394124031067,
          1.9272502660751343,
          4.665585517883301,
          6.539387226104736,
          2.8836681842803955,
          10.790801048278809,
          -3.7792983055114746,
          0.9238561987876892,
          -3.477067708969116,
          10.779871940612793,
          -1.0340543985366821,
          -6.0892462730407715,
          6.337043762207031,
          3.367347002029419,
          0.7651592493057251,
          -2.283327102661133,
          -4.056003093719482,
          11.625997543334961,
          12.15468978881836,
          -7.511326313018799,
          -9.908492088317871,
          -7.9965128898620605,
          -11.156639099121094,
          11.420085906982422,
          -0.8905956745147705,
          -12.036676406860352,
          4.370341777801514,
          -0.14282089471817017,
          -3.6052021980285645,
          -12.890477180480957,
          -0.5087310075759888,
          -1.5319736003875732,
          3.564577579498291,
          -9.303168296813965,
          -11.161471366882324,
          -7.2353363037109375,
          8.201338768005371,
          -6.364322185516357,
          11.468084335327148,
          7.384190559387207,
          9.25160026550293,
          8.502490997314453,
          9.016270637512207,
          0.556007981300354,
          10.841434478759766,
          -13.145915985107422,
          -12.10044002532959,
          2.1742823123931885,
          5.052969932556152,
          -2.4317235946655273,
          8.990076065063477,
          3.0157196521759033,
          2.010709762573242,
          -13.277867317199707,
          5.286273956298828,
          0.5923269391059875,
          11.200138092041016,
          5.179566860198975,
          -5.696000576019287,
          4.996329307556152,
          0.7405934929847717,
          12.26162052154541,
          8.494452476501465,
          -7.527040958404541,
          -3.2439377307891846,
          1.5365678071975708,
          1.7542059421539307,
          -3.2483811378479004,
          -2.136387348175049,
          -4.295607089996338,
          -6.952033996582031,
          -8.538763046264648,
          -2.6136815547943115,
          -6.659488201141357,
          -1.682059645652771,
          13.999606132507324,
          -8.520673751831055,
          2.384450674057007,
          1.663864016532898,
          -7.8523359298706055,
          2.151956081390381,
          -5.125921249389648,
          3.415149450302124,
          13.392419815063477,
          -9.458791732788086,
          -8.949397087097168,
          -1.6952744722366333,
          6.717848300933838,
          9.130433082580566,
          -4.548257827758789,
          7.619262218475342,
          -9.13501262664795,
          5.918776512145996,
          -0.6529718637466431,
          -2.9880294799804688,
          9.174792289733887,
          -4.370543956756592,
          -2.7513904571533203,
          -12.18391227722168,
          5.169447898864746,
          2.5791592597961426,
          -1.3245611190795898,
          1.5991501808166504,
          -4.336619853973389,
          0.07025066763162613,
          2.255786180496216,
          4.72367000579834,
          12.640464782714844,
          -4.060312271118164,
          -11.467045783996582,
          11.843036651611328,
          -10.86868953704834,
          -7.839735507965088,
          -12.055870056152344,
          -5.725792407989502,
          4.8589186668396,
          3.442391872406006,
          -1.141831636428833,
          9.402037620544434,
          -10.643364906311035,
          -3.7417221069335938,
          12.624765396118164,
          -8.538382530212402,
          6.770549297332764,
          12.908354759216309,
          6.106459617614746,
          -11.435126304626465,
          9.967877388000488,
          1.0972537994384766,
          -0.0073991031385958195,
          -5.321663856506348,
          -6.341065883636475,
          -2.8519742488861084,
          10.575028419494629,
          -11.388935089111328,
          -10.190953254699707,
          -5.899386882781982,
          4.124137878417969,
          -5.587450981140137,
          6.349411964416504,
          -9.241948127746582,
          -2.123110771179199,
          0.33836159110069275,
          -4.075213432312012,
          -0.8576672077178955,
          5.746579170227051,
          -10.541399955749512,
          1.295432686805725,
          3.5176308155059814,
          9.556731224060059,
          3.791208028793335,
          14.118642807006836,
          1.798348307609558,
          -4.064122676849365,
          6.016685962677002,
          12.062715530395508,
          -0.2934812009334564,
          -3.987175941467285,
          5.197596073150635,
          12.785321235656738,
          -12.12325382232666,
          12.20677661895752,
          2.368241548538208,
          -4.081582069396973,
          -1.7552204132080078,
          -5.685839653015137,
          2.8856606483459473,
          -1.1092358827590942,
          2.4384679794311523,
          -3.1235923767089844,
          13.198708534240723,
          -1.9598373174667358,
          -3.709144353866577,
          4.039886474609375,
          -3.402510643005371,
          -12.240754127502441,
          -2.9833860397338867,
          1.7604801654815674,
          12.072649002075195,
          3.0616042613983154,
          0.6133897304534912,
          2.621493101119995,
          6.647315502166748,
          12.939408302307129,
          8.809967041015625,
          5.915853977203369,
          -10.963347434997559,
          -4.839592456817627,
          -8.954726219177246,
          -4.001526832580566,
          -1.1588636636734009,
          -3.1787595748901367,
          -6.222370624542236,
          -11.015067100524902,
          6.372915267944336,
          9.47139835357666,
          6.750576972961426,
          9.601554870605469,
          3.881704330444336,
          4.90150260925293,
          -1.7626912593841553,
          12.445602416992188,
          -6.572441101074219,
          2.9312362670898438,
          -10.847245216369629,
          -2.766404151916504,
          12.549269676208496,
          -11.869110107421875,
          -4.7199249267578125,
          13.618643760681152,
          -5.993860244750977,
          -1.6499013900756836,
          2.2782530784606934,
          0.8884632587432861,
          -10.531415939331055,
          -7.366390228271484,
          -11.832368850708008,
          1.4461766481399536,
          -0.7509795427322388,
          -3.794184923171997,
          1.6670997142791748,
          -4.925601005554199,
          7.825628280639648,
          -11.198010444641113,
          -8.429777145385742,
          -5.069525718688965,
          6.905287742614746,
          -8.721170425415039,
          5.737399578094482,
          -0.569423258304596,
          -5.193182945251465,
          -13.584518432617188,
          11.696447372436523,
          4.983661651611328,
          -1.4347079992294312,
          4.376763343811035,
          3.6930477619171143,
          4.613005638122559,
          0.04080766811966896,
          -6.380749225616455,
          11.917588233947754,
          -7.810233116149902,
          2.966869592666626,
          8.67253589630127,
          11.467748641967773,
          7.457164764404297,
          -0.8423774838447571,
          5.307917594909668,
          6.325096607208252,
          -9.962868690490723,
          -10.74945068359375,
          1.1123634576797485,
          -10.496335983276367,
          5.591211795806885,
          -10.113570213317871,
          -2.3007235527038574,
          -11.112323760986328,
          12.867856979370117,
          -2.547470808029175,
          12.203248023986816,
          -10.503580093383789,
          -10.349589347839355,
          7.280170440673828,
          -4.08587121963501,
          0.5490854382514954,
          -9.9852876663208,
          -8.884845733642578,
          -3.134329319000244,
          6.458291053771973,
          -3.577209949493408,
          4.957651615142822,
          -14.645979881286621,
          2.8060710430145264,
          11.834741592407227,
          6.452351093292236,
          -12.023513793945312,
          -7.166203498840332,
          7.491013050079346,
          10.978175163269043,
          1.834038496017456,
          -2.720073699951172,
          -11.858247756958008,
          5.222923278808594,
          4.026135444641113,
          5.285835266113281,
          -1.0888631343841553,
          -7.111189842224121,
          -1.030847191810608,
          -7.638941287994385,
          -0.6684129238128662,
          5.006054401397705,
          -8.089160919189453,
          5.8327507972717285,
          -1.6490212678909302,
          -7.248763084411621,
          8.283957481384277,
          -5.37274694442749,
          -5.2994537353515625,
          0.36768773198127747,
          5.779121398925781,
          -4.416990756988525,
          -0.11763247102499008,
          -5.878676891326904,
          5.179042816162109,
          -12.409063339233398,
          12.791266441345215,
          -1.917773723602295,
          -1.993729829788208,
          -6.114130973815918,
          13.378202438354492,
          9.414337158203125,
          -3.4606709480285645,
          -7.508572578430176,
          -3.597754955291748,
          -10.191716194152832,
          3.9310531616210938,
          0.3000980615615845,
          12.97171688079834,
          -2.4664852619171143,
          -13.429380416870117,
          13.84974479675293,
          10.63444709777832,
          12.924149513244629,
          -3.2438416481018066,
          -5.588118553161621,
          8.068587303161621,
          -6.547297477722168,
          0.8612499237060547,
          9.539403915405273,
          13.199967384338379,
          1.7287369966506958,
          -10.229238510131836,
          1.9195467233657837,
          8.429694175720215,
          -5.460611820220947,
          12.044750213623047,
          10.686190605163574,
          1.777377724647522,
          8.977824211120605,
          10.127510070800781,
          3.966553211212158,
          -7.819967746734619,
          3.5997209548950195,
          3.1444814205169678,
          9.160933494567871,
          -8.173253059387207,
          -8.553953170776367,
          -10.387022972106934,
          -1.9013957977294922,
          -0.5432032346725464,
          -9.231667518615723,
          5.014780044555664,
          0.5890019536018372,
          -7.656135082244873,
          6.9491190910339355,
          2.5694611072540283,
          5.5644755363464355,
          3.3954269886016846,
          -12.911599159240723,
          9.92797565460205,
          1.0343437194824219,
          3.765200614929199,
          -2.303837537765503,
          6.421350479125977,
          9.697366714477539,
          -8.242860794067383,
          5.635993957519531,
          3.3807005882263184,
          0.7964625954627991,
          -6.950122833251953,
          9.025723457336426,
          11.502223014831543,
          -5.355041027069092,
          -1.4518438577651978,
          1.7988650798797607,
          -11.016181945800781,
          -4.74625825881958,
          -1.1330499649047852,
          -0.49096760153770447,
          -4.127965450286865,
          5.054475784301758,
          7.317048072814941,
          2.2326338291168213,
          -8.371984481811523,
          -12.109646797180176,
          -5.783502578735352,
          2.69972825050354,
          -1.6161916255950928,
          -0.20116327702999115,
          8.04719066619873,
          -5.318254470825195,
          6.238276958465576,
          -7.0417704582214355,
          -1.9881664514541626,
          5.020074367523193,
          -6.842604160308838,
          2.6809816360473633,
          -1.4953234195709229,
          9.479986190795898,
          -2.782871961593628,
          -3.4432997703552246,
          -4.672848224639893,
          -2.8538925647735596,
          -5.57019567489624,
          12.025498390197754,
          10.767107009887695,
          -7.8297319412231445,
          8.470211029052734,
          1.386138916015625,
          -4.808171272277832,
          6.647549152374268,
          2.0236573219299316,
          -11.628140449523926,
          -10.243513107299805,
          2.1575889587402344,
          -5.001825332641602,
          0.3410612940788269,
          1.9903554916381836,
          0.13300684094429016,
          -3.076054811477661,
          -6.652318477630615,
          1.3618872165679932,
          1.8007948398590088,
          7.365943908691406,
          0.7963539361953735,
          3.9087722301483154,
          13.87867546081543,
          3.9729578495025635,
          -5.757850170135498,
          4.855327129364014,
          -4.584452152252197,
          -5.5764265060424805,
          -8.538100242614746,
          5.783371925354004,
          2.6319198608398438,
          9.982237815856934,
          -7.937497138977051,
          0.7434870600700378,
          -6.978879451751709,
          9.138442993164062,
          -12.991579055786133,
          6.555054187774658,
          -7.997262001037598,
          3.1674373149871826,
          9.683202743530273,
          -4.281257629394531,
          10.980741500854492,
          9.146340370178223,
          2.810570240020752,
          -6.778409957885742,
          -2.521469831466675,
          7.134665012359619,
          -16.106674194335938,
          -5.383458137512207,
          6.642117977142334,
          2.7234785556793213,
          9.532361030578613,
          2.202415704727173,
          -0.6097431182861328,
          -10.227696418762207,
          3.0244221687316895,
          -5.389264106750488,
          9.554621696472168,
          -1.7693514823913574,
          0.46792173385620117,
          -4.686674118041992,
          -3.9948973655700684,
          -6.074814796447754,
          13.004322052001953,
          -12.960811614990234,
          -2.1282074451446533,
          -7.860645771026611,
          0.9602339267730713,
          -7.442056655883789,
          12.998119354248047,
          -10.367424964904785,
          2.655289649963379,
          12.731035232543945,
          -1.558351993560791,
          -7.122035980224609,
          -1.9778096675872803,
          -9.72907829284668,
          8.8887939453125,
          10.839109420776367,
          -8.18346118927002,
          1.1901228427886963,
          -2.520489454269409,
          3.1610350608825684,
          -2.886439085006714,
          -7.552547931671143,
          -2.6620936393737793,
          7.317605495452881,
          8.163141250610352,
          2.7148385047912598,
          -10.612506866455078,
          -0.09609624743461609,
          -4.903614044189453,
          3.0167295932769775,
          -5.684017181396484,
          4.53242826461792,
          2.716427803039551,
          -4.890599250793457,
          -3.9035823345184326,
          -5.597666263580322,
          14.535542488098145,
          10.586905479431152,
          -9.787967681884766,
          -7.523585796356201,
          -5.411517143249512,
          4.149744033813477,
          4.076427936553955,
          2.013911485671997,
          9.325060844421387,
          5.845498561859131,
          -3.4186933040618896,
          -1.9500583410263062,
          -1.9876654148101807,
          -10.639449119567871,
          4.123117923736572,
          -4.4836931228637695,
          -6.04595947265625,
          -3.968846082687378,
          -7.665033340454102,
          -3.3217592239379883,
          -8.43882942199707,
          5.877222537994385,
          -2.4300808906555176,
          -8.312092781066895,
          8.205388069152832,
          -12.641366958618164,
          -4.182640552520752,
          -6.38563346862793,
          2.361201763153076,
          0.6879027485847473,
          -6.546370506286621,
          0.4898907244205475,
          2.1976754665374756,
          -2.486267566680908,
          1.1434003114700317,
          -6.414058208465576,
          -9.3515625,
          9.554245948791504,
          1.6639072895050049,
          -7.594123840332031,
          7.922418594360352,
          2.2035279273986816,
          -6.210965633392334,
          9.636774063110352,
          8.820789337158203,
          -6.192768096923828,
          -4.5376176834106445,
          7.38027811050415,
          7.784527778625488,
          -6.8597517013549805,
          14.213774681091309,
          -8.651348114013672,
          2.9077744483947754,
          3.432410955429077,
          2.1786959171295166,
          -8.279731750488281,
          -7.4147629737854,
          -2.031186103820801,
          -8.60219955444336,
          6.6791157722473145,
          3.651719093322754,
          -3.598644971847534,
          -7.986413478851318,
          -0.39900946617126465,
          2.8358073234558105,
          4.100331783294678,
          9.093649864196777,
          13.605446815490723,
          2.5747780799865723,
          3.5668270587921143,
          2.7529969215393066,
          7.265488624572754,
          0.6759330630302429,
          1.9455657005310059,
          3.5304970741271973,
          7.930779457092285,
          1.4606081247329712,
          8.565582275390625,
          11.142596244812012,
          -11.759637832641602,
          -3.1956183910369873,
          0.628106415271759,
          -12.522811889648438,
          -13.081464767456055,
          10.92093563079834,
          -1.0049023628234863,
          2.557765245437622,
          -0.7987068295478821,
          -4.484508514404297,
          -3.891493082046509,
          8.932931900024414,
          13.952933311462402,
          1.3788312673568726,
          7.670702934265137,
          -7.484251976013184,
          -3.9209277629852295,
          -0.08977439999580383,
          4.431985378265381,
          -7.5530195236206055,
          9.858580589294434,
          -1.9687472581863403,
          -1.7649015188217163,
          2.376351833343506,
          -7.253784656524658,
          -11.9940767288208,
          1.870107650756836,
          -13.334708213806152,
          -3.7564167976379395,
          -0.869608461856842,
          -6.376498222351074,
          4.6897807121276855,
          9.416482925415039,
          5.679976463317871,
          -8.469725608825684,
          -13.258001327514648,
          -10.952186584472656,
          -6.721357345581055,
          9.244277000427246,
          3.976562738418579,
          -15.276658058166504,
          -5.429819107055664,
          0.19603431224822998,
          -10.542906761169434,
          -5.162721157073975,
          10.635580062866211,
          -0.23936448991298676,
          0.1901741921901703,
          -4.242252349853516,
          -10.643695831298828,
          0.6596567630767822,
          0.01160102616995573,
          1.013781189918518,
          7.147132873535156,
          9.086441993713379,
          2.372354030609131,
          4.859813213348389,
          4.3742356300354,
          11.437492370605469,
          0.9865836501121521,
          1.9467722177505493,
          0.016963571310043335,
          -5.128720760345459,
          -4.842568397521973,
          -5.468484878540039,
          11.766261100769043,
          2.1408393383026123,
          -11.39128303527832,
          -1.8251055479049683,
          6.889020919799805,
          2.650031805038452,
          3.97613263130188,
          14.266864776611328,
          5.112343788146973,
          4.310300827026367,
          13.938291549682617,
          -5.0911970138549805,
          0.5944308042526245,
          -4.720621109008789,
          -12.970685958862305,
          8.351502418518066,
          9.51308822631836,
          12.507926940917969,
          6.201350212097168,
          -15.853861808776855,
          8.924206733703613,
          -3.2038094997406006,
          12.38531494140625,
          6.158197402954102,
          5.022744655609131,
          -3.531033992767334,
          2.7933220863342285,
          1.7851370573043823,
          0.8912308812141418,
          8.717677116394043,
          9.625718116760254,
          1.647965669631958,
          12.026191711425781,
          -0.012109057046473026,
          -4.633090019226074,
          -4.939840793609619,
          -0.023036012426018715,
          -2.024205446243286,
          -7.974846839904785,
          2.903352737426758,
          -8.231463432312012,
          -5.260748386383057,
          2.0889015197753906,
          0.8968003988265991,
          8.561574935913086,
          -2.5677504539489746,
          13.680024147033691,
          -11.266497611999512,
          8.016016006469727,
          4.85365104675293,
          10.433650970458984,
          -8.314188003540039,
          -9.716946601867676,
          -2.326263427734375,
          11.589801788330078,
          2.9711878299713135,
          -5.489567756652832,
          -8.005670547485352,
          -12.886661529541016,
          5.329474449157715,
          1.8164631128311157,
          9.050474166870117,
          -8.356569290161133,
          -7.0851335525512695,
          1.3878748416900635,
          14.882828712463379,
          4.792422771453857,
          -8.664355278015137,
          -8.503273010253906,
          -9.76574993133545,
          2.403407573699951,
          -1.2344950437545776,
          -5.588244915008545,
          2.37502384185791,
          -2.910679817199707,
          -4.8494462966918945,
          3.8257741928100586,
          10.919072151184082,
          -0.36910122632980347,
          13.759528160095215,
          -5.0656046867370605,
          2.8818767070770264,
          -8.908565521240234,
          1.6787550449371338,
          -6.196429252624512,
          -3.693692922592163,
          2.6668131351470947,
          -10.00717830657959,
          -2.6055312156677246,
          11.476030349731445,
          -0.5905288457870483,
          1.1896153688430786,
          -8.381778717041016,
          1.38336980342865,
          8.865437507629395,
          0.45069268345832825,
          -1.0949180126190186,
          6.964611053466797,
          0.04576100409030914,
          8.293949127197266,
          1.6640169620513916,
          11.135736465454102,
          7.5940704345703125,
          -7.160655498504639,
          0.4574122726917267,
          -1.6677823066711426,
          3.0748796463012695,
          -3.5717082023620605,
          -7.680335998535156,
          8.696601867675781,
          9.841520309448242,
          -5.989473342895508,
          13.911087989807129,
          -10.001153945922852,
          -2.8716394901275635,
          5.176426887512207,
          2.7851696014404297,
          7.292468547821045,
          1.9793511629104614,
          -10.086371421813965,
          -5.604808330535889,
          -0.7588552832603455,
          -7.698854446411133,
          -10.700017929077148,
          2.2076289653778076,
          -10.126665115356445,
          -3.0200676918029785,
          2.4364876747131348,
          13.66126823425293,
          11.377273559570312,
          2.659090280532837,
          -6.6847333908081055,
          4.6707916259765625,
          -4.270470142364502,
          14.106247901916504,
          -6.113128185272217,
          -6.426196575164795,
          -8.99077033996582,
          -8.782776832580566,
          -6.357479572296143,
          -11.672494888305664,
          9.129605293273926,
          4.69204044342041,
          -6.832305908203125,
          -11.571722030639648,
          9.572785377502441,
          -7.685981273651123,
          -6.441838264465332,
          -8.81151008605957,
          -1.503600001335144,
          -1.7960209846496582,
          9.88894271850586,
          7.172166347503662,
          -7.857866287231445,
          -4.236552715301514,
          5.646476745605469,
          4.108394622802734,
          1.7496914863586426,
          3.0708885192871094,
          -5.6956586837768555,
          8.280769348144531,
          1.3977327346801758,
          13.445660591125488,
          -12.701605796813965,
          14.074013710021973,
          -1.8172399997711182,
          -15.848336219787598,
          -11.004155158996582,
          -8.168745040893555,
          5.436209678649902,
          -7.79708194732666,
          -4.347365379333496,
          0.14202332496643066,
          -2.4051926136016846,
          9.072100639343262,
          3.6396801471710205,
          0.08320789039134979,
          -5.119773864746094,
          -4.827098846435547,
          5.504727363586426,
          7.763457775115967,
          1.6244415044784546,
          -3.730842113494873,
          -11.116011619567871,
          3.5619633197784424,
          -7.104998588562012,
          -3.2607738971710205,
          -0.42899325489997864,
          4.784234523773193,
          -8.224228858947754,
          -0.07687481492757797,
          -8.834610939025879,
          -10.043100357055664,
          -0.7798867225646973,
          -1.604845404624939,
          12.015576362609863,
          12.442177772521973,
          -5.362518787384033,
          8.402997970581055,
          7.876755714416504,
          -2.5674822330474854,
          9.623896598815918,
          12.64163875579834,
          9.551283836364746,
          11.436305046081543,
          -3.733574390411377,
          -3.954334259033203,
          8.357463836669922,
          4.490046501159668,
          -10.800849914550781,
          2.3341152667999268,
          -9.956939697265625,
          -5.441661357879639,
          1.2157725095748901,
          8.974714279174805,
          0.4395749568939209,
          0.9169135093688965,
          2.936202049255371,
          -3.408888816833496,
          6.479368209838867,
          10.33169937133789,
          -9.274218559265137,
          1.9411070346832275,
          11.694226264953613,
          -8.112616539001465,
          -11.233155250549316,
          -4.505029201507568,
          10.895700454711914,
          -4.75109338760376,
          3.3072879314422607,
          10.002151489257812,
          -6.319118976593018,
          0.9594781398773193,
          -6.524748802185059,
          2.8647918701171875,
          -6.815450668334961,
          6.087014675140381,
          -3.3889598846435547,
          -9.716646194458008,
          12.235740661621094,
          8.272970199584961,
          11.302132606506348,
          2.3175840377807617,
          -7.404126167297363,
          -15.794397354125977,
          -7.2054643630981445,
          0.7265579104423523,
          -4.436336517333984,
          -0.638077974319458,
          -8.416252136230469,
          4.284132480621338,
          -4.768076419830322,
          6.174269199371338,
          -3.272725820541382,
          2.445775032043457,
          6.644998550415039,
          11.586406707763672,
          -9.269984245300293,
          -12.930097579956055,
          -12.454683303833008,
          1.915602207183838,
          2.2421681880950928,
          -1.2389081716537476,
          -10.432056427001953,
          -5.803313732147217,
          3.102224588394165,
          6.2874345779418945,
          -4.0253682136535645,
          7.717257022857666,
          -5.904433250427246,
          11.456628799438477,
          -6.372114181518555,
          -5.829897403717041,
          -3.55287504196167,
          -10.455811500549316,
          4.532098293304443,
          -9.887834548950195,
          -11.248268127441406,
          -7.480988025665283,
          13.176131248474121,
          -12.825632095336914,
          7.527468204498291,
          -11.166049003601074,
          3.8308770656585693,
          5.432226181030273,
          -4.300537109375,
          12.090607643127441,
          4.954887866973877,
          -6.524595737457275,
          -4.4063215255737305,
          -3.0201709270477295,
          -3.347012519836426,
          6.354714393615723,
          7.393062114715576,
          0.10713035613298416,
          2.6149678230285645,
          -8.949552536010742,
          -6.096137046813965,
          -9.458161354064941,
          -1.628290057182312,
          7.576205730438232,
          6.406757831573486,
          -10.309782028198242,
          3.159756898880005,
          1.370786428451538,
          10.860269546508789,
          -2.8942246437072754,
          -8.245848655700684,
          5.143420696258545,
          -4.334749698638916,
          -9.706694602966309,
          -4.944623947143555,
          -5.815011978149414,
          -7.571846961975098,
          -5.039744853973389,
          0.4283769428730011,
          -6.5057806968688965,
          -4.733838081359863,
          -5.013772964477539,
          -3.750272274017334,
          -1.6758977174758911,
          0.7370542287826538,
          11.235962867736816,
          5.15845251083374,
          -4.588058948516846,
          -4.373684406280518,
          11.672804832458496,
          6.845217227935791,
          -0.3104238510131836,
          -5.240975856781006,
          -9.210978507995605,
          -11.82197093963623,
          3.7712409496307373,
          -6.645540714263916,
          -6.46377420425415,
          10.327770233154297,
          -5.217387676239014,
          9.595327377319336,
          12.341214179992676,
          10.682538986206055,
          -5.69744873046875,
          -7.241779327392578,
          -11.220112800598145,
          0.9103111624717712,
          4.566408157348633,
          -2.356384038925171,
          -8.257957458496094,
          -5.702907085418701,
          -4.05886173248291,
          2.0109477043151855,
          -10.240682601928711,
          -2.9546711444854736,
          1.1744307279586792,
          4.073197841644287,
          -0.6866822242736816,
          11.723944664001465,
          -6.315975666046143,
          -3.5133368968963623,
          12.463415145874023,
          5.3102874755859375,
          -1.9906067848205566,
          -0.3906227946281433,
          -11.612468719482422,
          -6.696864128112793,
          -7.2369208335876465,
          5.264610767364502,
          6.672686576843262,
          -8.07125473022461,
          11.029010772705078,
          10.78927993774414,
          -9.407426834106445,
          0.08106476068496704,
          2.1400949954986572,
          -1.4532320499420166,
          1.198854684829712,
          -9.678169250488281,
          7.6851348876953125,
          -0.298214316368103,
          10.471027374267578,
          12.945255279541016,
          -4.843189716339111,
          -12.420997619628906,
          -7.1673479080200195,
          -2.6141884326934814,
          -3.138871908187866,
          1.036453127861023,
          -3.9674952030181885,
          -5.328655242919922,
          1.7658412456512451,
          -6.6531982421875,
          3.087963819503784,
          -4.153987884521484,
          -0.3583817780017853,
          1.4098522663116455,
          -9.684738159179688,
          -1.6093515157699585,
          1.219510555267334,
          4.428623676300049,
          6.89697265625,
          13.717403411865234,
          2.2073397636413574,
          -3.678999662399292,
          -0.11053019016981125,
          -0.14640051126480103,
          -5.69447135925293,
          2.8883845806121826,
          -8.716812133789062,
          11.309595108032227,
          9.619647979736328,
          10.935866355895996,
          1.1642709970474243,
          -1.8755546808242798,
          2.982449769973755,
          -1.4201529026031494,
          3.335325002670288,
          7.993104934692383,
          12.024796485900879,
          -0.39247339963912964,
          12.440728187561035,
          2.514111280441284,
          5.82757568359375,
          -2.9569056034088135,
          -10.443584442138672,
          10.34213638305664,
          9.40975570678711,
          -0.03640905022621155,
          2.304669141769409,
          2.0489258766174316,
          2.05110764503479,
          12.332202911376953,
          2.544008493423462,
          3.996793031692505,
          -7.291771411895752,
          11.902694702148438,
          -9.093770980834961,
          -2.4260053634643555,
          9.74609375,
          -6.58530330657959,
          -7.56239652633667,
          -0.14045557379722595,
          4.699623107910156,
          3.3266079425811768,
          -0.47315308451652527,
          -6.058743953704834,
          -4.835231781005859,
          9.029052734375,
          8.179054260253906,
          9.307397842407227,
          -5.793352127075195,
          7.50271463394165,
          -7.1067728996276855,
          -0.14659008383750916,
          0.43146711587905884,
          1.0988810062408447,
          -12.655329704284668,
          9.228607177734375,
          -7.637819290161133,
          -10.903657913208008,
          1.9118268489837646,
          -2.6350932121276855,
          1.620761752128601,
          1.1859393119812012,
          -6.82108736038208,
          -7.6628265380859375,
          -13.00256633758545,
          -2.962111711502075,
          -0.6987225413322449,
          -0.8816918134689331,
          4.531229019165039,
          2.521080493927002,
          -3.018449306488037,
          -14.005169868469238,
          -9.14305591583252,
          -16.740793228149414,
          -4.923223972320557
         ]
        }
       ],
       "layout": {
        "coloraxis": {
         "colorbar": {
          "title": {
           "text": "color"
          }
         },
         "colorscale": [
          [
           0,
           "#0d0887"
          ],
          [
           0.1111111111111111,
           "#46039f"
          ],
          [
           0.2222222222222222,
           "#7201a8"
          ],
          [
           0.3333333333333333,
           "#9c179e"
          ],
          [
           0.4444444444444444,
           "#bd3786"
          ],
          [
           0.5555555555555556,
           "#d8576b"
          ],
          [
           0.6666666666666666,
           "#ed7953"
          ],
          [
           0.7777777777777778,
           "#fb9f3a"
          ],
          [
           0.8888888888888888,
           "#fdca26"
          ],
          [
           1,
           "#f0f921"
          ]
         ]
        },
        "legend": {
         "tracegroupgap": 0
        },
        "margin": {
         "t": 60
        },
        "scene": {
         "domain": {
          "x": [
           0,
           1
          ],
          "y": [
           0,
           1
          ]
         },
         "xaxis": {
          "title": {
           "text": "pc_1"
          }
         },
         "yaxis": {
          "title": {
           "text": "pc_2"
          }
         },
         "zaxis": {
          "title": {
           "text": "pc_3"
          }
         }
        },
        "template": {
         "data": {
          "bar": [
           {
            "error_x": {
             "color": "#2a3f5f"
            },
            "error_y": {
             "color": "#2a3f5f"
            },
            "marker": {
             "line": {
              "color": "#E5ECF6",
              "width": 0.5
             }
            },
            "type": "bar"
           }
          ],
          "barpolar": [
           {
            "marker": {
             "line": {
              "color": "#E5ECF6",
              "width": 0.5
             }
            },
            "type": "barpolar"
           }
          ],
          "carpet": [
           {
            "aaxis": {
             "endlinecolor": "#2a3f5f",
             "gridcolor": "white",
             "linecolor": "white",
             "minorgridcolor": "white",
             "startlinecolor": "#2a3f5f"
            },
            "baxis": {
             "endlinecolor": "#2a3f5f",
             "gridcolor": "white",
             "linecolor": "white",
             "minorgridcolor": "white",
             "startlinecolor": "#2a3f5f"
            },
            "type": "carpet"
           }
          ],
          "choropleth": [
           {
            "colorbar": {
             "outlinewidth": 0,
             "ticks": ""
            },
            "type": "choropleth"
           }
          ],
          "contour": [
           {
            "colorbar": {
             "outlinewidth": 0,
             "ticks": ""
            },
            "colorscale": [
             [
              0,
              "#0d0887"
             ],
             [
              0.1111111111111111,
              "#46039f"
             ],
             [
              0.2222222222222222,
              "#7201a8"
             ],
             [
              0.3333333333333333,
              "#9c179e"
             ],
             [
              0.4444444444444444,
              "#bd3786"
             ],
             [
              0.5555555555555556,
              "#d8576b"
             ],
             [
              0.6666666666666666,
              "#ed7953"
             ],
             [
              0.7777777777777778,
              "#fb9f3a"
             ],
             [
              0.8888888888888888,
              "#fdca26"
             ],
             [
              1,
              "#f0f921"
             ]
            ],
            "type": "contour"
           }
          ],
          "contourcarpet": [
           {
            "colorbar": {
             "outlinewidth": 0,
             "ticks": ""
            },
            "type": "contourcarpet"
           }
          ],
          "heatmap": [
           {
            "colorbar": {
             "outlinewidth": 0,
             "ticks": ""
            },
            "colorscale": [
             [
              0,
              "#0d0887"
             ],
             [
              0.1111111111111111,
              "#46039f"
             ],
             [
              0.2222222222222222,
              "#7201a8"
             ],
             [
              0.3333333333333333,
              "#9c179e"
             ],
             [
              0.4444444444444444,
              "#bd3786"
             ],
             [
              0.5555555555555556,
              "#d8576b"
             ],
             [
              0.6666666666666666,
              "#ed7953"
             ],
             [
              0.7777777777777778,
              "#fb9f3a"
             ],
             [
              0.8888888888888888,
              "#fdca26"
             ],
             [
              1,
              "#f0f921"
             ]
            ],
            "type": "heatmap"
           }
          ],
          "heatmapgl": [
           {
            "colorbar": {
             "outlinewidth": 0,
             "ticks": ""
            },
            "colorscale": [
             [
              0,
              "#0d0887"
             ],
             [
              0.1111111111111111,
              "#46039f"
             ],
             [
              0.2222222222222222,
              "#7201a8"
             ],
             [
              0.3333333333333333,
              "#9c179e"
             ],
             [
              0.4444444444444444,
              "#bd3786"
             ],
             [
              0.5555555555555556,
              "#d8576b"
             ],
             [
              0.6666666666666666,
              "#ed7953"
             ],
             [
              0.7777777777777778,
              "#fb9f3a"
             ],
             [
              0.8888888888888888,
              "#fdca26"
             ],
             [
              1,
              "#f0f921"
             ]
            ],
            "type": "heatmapgl"
           }
          ],
          "histogram": [
           {
            "marker": {
             "colorbar": {
              "outlinewidth": 0,
              "ticks": ""
             }
            },
            "type": "histogram"
           }
          ],
          "histogram2d": [
           {
            "colorbar": {
             "outlinewidth": 0,
             "ticks": ""
            },
            "colorscale": [
             [
              0,
              "#0d0887"
             ],
             [
              0.1111111111111111,
              "#46039f"
             ],
             [
              0.2222222222222222,
              "#7201a8"
             ],
             [
              0.3333333333333333,
              "#9c179e"
             ],
             [
              0.4444444444444444,
              "#bd3786"
             ],
             [
              0.5555555555555556,
              "#d8576b"
             ],
             [
              0.6666666666666666,
              "#ed7953"
             ],
             [
              0.7777777777777778,
              "#fb9f3a"
             ],
             [
              0.8888888888888888,
              "#fdca26"
             ],
             [
              1,
              "#f0f921"
             ]
            ],
            "type": "histogram2d"
           }
          ],
          "histogram2dcontour": [
           {
            "colorbar": {
             "outlinewidth": 0,
             "ticks": ""
            },
            "colorscale": [
             [
              0,
              "#0d0887"
             ],
             [
              0.1111111111111111,
              "#46039f"
             ],
             [
              0.2222222222222222,
              "#7201a8"
             ],
             [
              0.3333333333333333,
              "#9c179e"
             ],
             [
              0.4444444444444444,
              "#bd3786"
             ],
             [
              0.5555555555555556,
              "#d8576b"
             ],
             [
              0.6666666666666666,
              "#ed7953"
             ],
             [
              0.7777777777777778,
              "#fb9f3a"
             ],
             [
              0.8888888888888888,
              "#fdca26"
             ],
             [
              1,
              "#f0f921"
             ]
            ],
            "type": "histogram2dcontour"
           }
          ],
          "mesh3d": [
           {
            "colorbar": {
             "outlinewidth": 0,
             "ticks": ""
            },
            "type": "mesh3d"
           }
          ],
          "parcoords": [
           {
            "line": {
             "colorbar": {
              "outlinewidth": 0,
              "ticks": ""
             }
            },
            "type": "parcoords"
           }
          ],
          "pie": [
           {
            "automargin": true,
            "type": "pie"
           }
          ],
          "scatter": [
           {
            "marker": {
             "colorbar": {
              "outlinewidth": 0,
              "ticks": ""
             }
            },
            "type": "scatter"
           }
          ],
          "scatter3d": [
           {
            "line": {
             "colorbar": {
              "outlinewidth": 0,
              "ticks": ""
             }
            },
            "marker": {
             "colorbar": {
              "outlinewidth": 0,
              "ticks": ""
             }
            },
            "type": "scatter3d"
           }
          ],
          "scattercarpet": [
           {
            "marker": {
             "colorbar": {
              "outlinewidth": 0,
              "ticks": ""
             }
            },
            "type": "scattercarpet"
           }
          ],
          "scattergeo": [
           {
            "marker": {
             "colorbar": {
              "outlinewidth": 0,
              "ticks": ""
             }
            },
            "type": "scattergeo"
           }
          ],
          "scattergl": [
           {
            "marker": {
             "colorbar": {
              "outlinewidth": 0,
              "ticks": ""
             }
            },
            "type": "scattergl"
           }
          ],
          "scattermapbox": [
           {
            "marker": {
             "colorbar": {
              "outlinewidth": 0,
              "ticks": ""
             }
            },
            "type": "scattermapbox"
           }
          ],
          "scatterpolar": [
           {
            "marker": {
             "colorbar": {
              "outlinewidth": 0,
              "ticks": ""
             }
            },
            "type": "scatterpolar"
           }
          ],
          "scatterpolargl": [
           {
            "marker": {
             "colorbar": {
              "outlinewidth": 0,
              "ticks": ""
             }
            },
            "type": "scatterpolargl"
           }
          ],
          "scatterternary": [
           {
            "marker": {
             "colorbar": {
              "outlinewidth": 0,
              "ticks": ""
             }
            },
            "type": "scatterternary"
           }
          ],
          "surface": [
           {
            "colorbar": {
             "outlinewidth": 0,
             "ticks": ""
            },
            "colorscale": [
             [
              0,
              "#0d0887"
             ],
             [
              0.1111111111111111,
              "#46039f"
             ],
             [
              0.2222222222222222,
              "#7201a8"
             ],
             [
              0.3333333333333333,
              "#9c179e"
             ],
             [
              0.4444444444444444,
              "#bd3786"
             ],
             [
              0.5555555555555556,
              "#d8576b"
             ],
             [
              0.6666666666666666,
              "#ed7953"
             ],
             [
              0.7777777777777778,
              "#fb9f3a"
             ],
             [
              0.8888888888888888,
              "#fdca26"
             ],
             [
              1,
              "#f0f921"
             ]
            ],
            "type": "surface"
           }
          ],
          "table": [
           {
            "cells": {
             "fill": {
              "color": "#EBF0F8"
             },
             "line": {
              "color": "white"
             }
            },
            "header": {
             "fill": {
              "color": "#C8D4E3"
             },
             "line": {
              "color": "white"
             }
            },
            "type": "table"
           }
          ]
         },
         "layout": {
          "annotationdefaults": {
           "arrowcolor": "#2a3f5f",
           "arrowhead": 0,
           "arrowwidth": 1
          },
          "coloraxis": {
           "colorbar": {
            "outlinewidth": 0,
            "ticks": ""
           }
          },
          "colorscale": {
           "diverging": [
            [
             0,
             "#8e0152"
            ],
            [
             0.1,
             "#c51b7d"
            ],
            [
             0.2,
             "#de77ae"
            ],
            [
             0.3,
             "#f1b6da"
            ],
            [
             0.4,
             "#fde0ef"
            ],
            [
             0.5,
             "#f7f7f7"
            ],
            [
             0.6,
             "#e6f5d0"
            ],
            [
             0.7,
             "#b8e186"
            ],
            [
             0.8,
             "#7fbc41"
            ],
            [
             0.9,
             "#4d9221"
            ],
            [
             1,
             "#276419"
            ]
           ],
           "sequential": [
            [
             0,
             "#0d0887"
            ],
            [
             0.1111111111111111,
             "#46039f"
            ],
            [
             0.2222222222222222,
             "#7201a8"
            ],
            [
             0.3333333333333333,
             "#9c179e"
            ],
            [
             0.4444444444444444,
             "#bd3786"
            ],
            [
             0.5555555555555556,
             "#d8576b"
            ],
            [
             0.6666666666666666,
             "#ed7953"
            ],
            [
             0.7777777777777778,
             "#fb9f3a"
            ],
            [
             0.8888888888888888,
             "#fdca26"
            ],
            [
             1,
             "#f0f921"
            ]
           ],
           "sequentialminus": [
            [
             0,
             "#0d0887"
            ],
            [
             0.1111111111111111,
             "#46039f"
            ],
            [
             0.2222222222222222,
             "#7201a8"
            ],
            [
             0.3333333333333333,
             "#9c179e"
            ],
            [
             0.4444444444444444,
             "#bd3786"
            ],
            [
             0.5555555555555556,
             "#d8576b"
            ],
            [
             0.6666666666666666,
             "#ed7953"
            ],
            [
             0.7777777777777778,
             "#fb9f3a"
            ],
            [
             0.8888888888888888,
             "#fdca26"
            ],
            [
             1,
             "#f0f921"
            ]
           ]
          },
          "colorway": [
           "#636efa",
           "#EF553B",
           "#00cc96",
           "#ab63fa",
           "#FFA15A",
           "#19d3f3",
           "#FF6692",
           "#B6E880",
           "#FF97FF",
           "#FECB52"
          ],
          "font": {
           "color": "#2a3f5f"
          },
          "geo": {
           "bgcolor": "white",
           "lakecolor": "white",
           "landcolor": "#E5ECF6",
           "showlakes": true,
           "showland": true,
           "subunitcolor": "white"
          },
          "hoverlabel": {
           "align": "left"
          },
          "hovermode": "closest",
          "mapbox": {
           "style": "light"
          },
          "paper_bgcolor": "white",
          "plot_bgcolor": "#E5ECF6",
          "polar": {
           "angularaxis": {
            "gridcolor": "white",
            "linecolor": "white",
            "ticks": ""
           },
           "bgcolor": "#E5ECF6",
           "radialaxis": {
            "gridcolor": "white",
            "linecolor": "white",
            "ticks": ""
           }
          },
          "scene": {
           "xaxis": {
            "backgroundcolor": "#E5ECF6",
            "gridcolor": "white",
            "gridwidth": 2,
            "linecolor": "white",
            "showbackground": true,
            "ticks": "",
            "zerolinecolor": "white"
           },
           "yaxis": {
            "backgroundcolor": "#E5ECF6",
            "gridcolor": "white",
            "gridwidth": 2,
            "linecolor": "white",
            "showbackground": true,
            "ticks": "",
            "zerolinecolor": "white"
           },
           "zaxis": {
            "backgroundcolor": "#E5ECF6",
            "gridcolor": "white",
            "gridwidth": 2,
            "linecolor": "white",
            "showbackground": true,
            "ticks": "",
            "zerolinecolor": "white"
           }
          },
          "shapedefaults": {
           "line": {
            "color": "#2a3f5f"
           }
          },
          "ternary": {
           "aaxis": {
            "gridcolor": "white",
            "linecolor": "white",
            "ticks": ""
           },
           "baxis": {
            "gridcolor": "white",
            "linecolor": "white",
            "ticks": ""
           },
           "bgcolor": "#E5ECF6",
           "caxis": {
            "gridcolor": "white",
            "linecolor": "white",
            "ticks": ""
           }
          },
          "title": {
           "x": 0.05
          },
          "xaxis": {
           "automargin": true,
           "gridcolor": "white",
           "linecolor": "white",
           "ticks": "",
           "title": {
            "standoff": 15
           },
           "zerolinecolor": "white",
           "zerolinewidth": 2
          },
          "yaxis": {
           "automargin": true,
           "gridcolor": "white",
           "linecolor": "white",
           "ticks": "",
           "title": {
            "standoff": 15
           },
           "zerolinecolor": "white",
           "zerolinewidth": 2
          }
         }
        }
       }
      },
      "text/html": [
       "<div>                            <div id=\"15f1f275-a91f-4d92-b899-dc64f27a7ddc\" class=\"plotly-graph-div\" style=\"height:525px; width:100%;\"></div>            <script type=\"text/javascript\">                require([\"plotly\"], function(Plotly) {                    window.PLOTLYENV=window.PLOTLYENV || {};                                    if (document.getElementById(\"15f1f275-a91f-4d92-b899-dc64f27a7ddc\")) {                    Plotly.newPlot(                        \"15f1f275-a91f-4d92-b899-dc64f27a7ddc\",                        [{\"customdata\": [[\"survival rate on diabetes ?\"], [\"why is diabetes a serious health issue ?\"], [\"can diabetes cause nausea ?\"], [\"can high glucose levels cause tiredness ?\"], [\"what major organ is involved in diabetes ?\"], [\"what is <unk> of u-100 insulin equal to ?\"], [\"where can i find a yoga <unk> in south florida ?\"], [\"is it bad for diabetics to eat rice ?\"], [\"what happens if you have diabetes and you begin to self hurt ?\"], [\"what will most likely result if a diabetic injects an overdose of insulin ?\"], [\"why is <unk> not possible for diseases such as diabetes ?\"], [\"is type diabetes when you cant have sugar ?\"], [\"how has advanced technology helped type one diabetes ?\"], [\"how much sugar will kill you ?\"], [\"what are the release dates for <unk> <unk> is diabetes ad - two thousand and twelve ?\"], [\"can diabetics be in <unk> ?\"], [\"how you maintain blood sugar level if you have diabetes problem ?\"], [\"what is the most common medicine for diabetes ?\"], [\"can you get rid of type two diabetes ?\"], [\"what is know as damage to the retina of the eye caused by diabetes mellitus ?\"], [\"how many units of insulin can be drawn from a <unk> vial ?\"], [\"the average blood sugar over the past three weeks is measured by what test ?\"], [\"how much land mass would five billion cows take ?\"], [\"how does type one diabetes go away ?\"], [\"can diabetes stop you from being certified from <unk> a truck ?\"], [\"what happens to you if you get diabetes ?\"], [\"what type of diabetes has <unk> onset usually seen in adults over forty years of age ?\"], [\"do <unk> help regulate the responses of hormones ?\"], [\"can diabetes mellitus cause health problems ?\"], [\"why is type ii diabetes considered to be a <unk> form of diabetes ?\"], [\"what are the two types of diabetes ?\"], [\"why must insulin be taken as an injection ?\"], [\"what happens when a diabetic takes a <unk> ?\"], [\"why diabetic patient prefer to use <unk> insulin than human insulin ?\"], [\"what system manages glucose levels ?\"], [\"can diabetics use this product ?\"], [\"what are some of the most obvious high blood sugar symptoms ?\"], [\"what considerations must be weighed when a type i diabetes patient is considering pancreas transplantation ?\"], [\"hormone responsible for diabetes ?\"], [\"what parts of the body are affected by diabetes ?\"], [\"do cranberries help diabetes ?\"], [\"how long should you test your blood before you take the results to the doctor to help <unk> her that she should test you ?\"], [\"who is more at risk of developing diabetic foot infections ?\"], [\"what sugars are in bananas ?\"], [\"communicate with the school nurse ?\"], [\"cost of diabetic supplies - testing strips ?\"], [\"how much exercise is needed for diabetic ?\"], [\"are diabetes and glaucoma hereditary diseases ?\"], [\"what are some good recipes for a diabetic <unk> ?\"], [\"what is the code for diabetic peripheral neuropathy ?\"], [\"what is the scientific name for the bacteria that causes diabetes ?\"], [\"do diabetics have fits ?\"], [\"to what degree will lifestyle changes reduce the risk of diabetes associated with insulin resistance ?\"], [\"which fiber should be recommended to patients with type two diabetes ?\"], [\"what is a good diet for a diabetic ?\"], [\"what day did nick jonas <unk> his diabetes ?\"], [\"what is the most common type of diabetes ?\"], [\"what is the target a1c according to the american diabetes association ?\"], [\"can you drink protein shake like monster milk with type two diabetes ?\"], [\"what is post prandial ?\"], [\"how soon after eating will blood sugar cause headache ?\"], [\"is sugar in toothpaste a danger for diabetics ?\"], [\"can people with type two diabetes drive a truck in <unk> ?\"], [\"can i protect myself from diabetes ?\"], [\"how to manage type two diabetes ?\"], [\"is there a cure for juvenile diabetes ?\"], [\"should you go to the er if diabetes is three hundred and forty four ?\"], [\"why is there no cure for type one diabetes ?\"], [\"diabetic friendly foods ?\"], [\"why diabete insulin can not made a pill same as diabete ?\"], [\"what symptoms show signs of diabetes ?\"], [\"is an a1c of six point six high in a diabetic ?\"], [\"what are some names of some diabetic cook books ?\"], [\"what hormone involved in diabetes insipidus ?\"], [\"what tells the body how much sugar should be in the <unk> ?\"], [\"whats the symptoms of <unk> diabetes ?\"], [\"what kinds of treatment are there for diabetic eye problems ?\"], [\"what is diabetes insipidus and diabetes mellitus ?\"], [\"why is there an increased risk of toxicity in later stages of renal failure ?\"], [\"is diabetes reversable ?\"], [\"what are examples of some diabetic diet meal plan ?\"], [\"what is the disease for high blood sugar ?\"], [\"do you need help with your diabetes ?\"], [\"why does diabetes cause sweet smelling urine ?\"], [\"how does glucagon and insulin help maintain normal glucose level ?\"], [\"why would a diabetic person loose their toes ?\"], [\"what or who cured diabetes ?\"], [\"can a diabetic get a piercing ?\"], [\"how does diabetes effect pregnancy ?\"], [\"what are some restaurants that offer a variety of options of diabetes friendly meals ?\"], [\"is type two diabetes a chronic disease ?\"], [\"potassium levels in the body are regulated by what ?\"], [\"in which breed or type of dog does diabetes insipidus occur most often ?\"], [\"can you eat spinach if you are diabetic ?\"], [\"what tests results indicate <unk> ?\"], [\"what are diabetes early signs ?\"], [\"how do you check blood sugar levels ?\"], [\"how does diabetes make your bodies sick ?\"], [\"can you be <unk> from diabetes ?\"], [\"what to prevent diabetes two ?\"], [\"your father is fifty years old and he has been drinking alcohol since twenty three years on regular basis . now a days he is drinking in <unk> he is a heart patient and diabetic <unk> help you on this ?\"], [\"<unk> blood sugar levels effect weight loss ?\"], [\"does diabetes show in drug tests ?\"], [\"can diabetics eat <unk> ?\"], [\"what are some recipes for diabetics ?\"], [\"is there a doctor that specializes in diabetes ?\"], [\"what is the best medicine to <unk> the blood sugar for diabetes ?\"], [\"what life style choices would make people susceptible to this virus of diabetes ?\"], [\"why wheat is better than rice in diabetes ?\"], [\"how many grams of sugar are recommended per day for type two diabetics ?\"], [\"what are two main types of diabetes ?\"], [\"what are the best diabetic diets ?\"], [\"this condition is characterized by insulin resistance of the fat cells ?\"], [\"are there any treatments to diabetes ?\"], [\"where can i find more information on diets for diabetes ?\"], [\"which condition is the most nutrition <unk> ?\"], [\"can a man with diabetic father a child with diabetic ?\"], [\"how many people die from diabetes each year in canada ?\"], [\"do not <unk> your blood sugar ! ?\"], [\"i am not a diabetic , last dr visit glucose was one hundred and eighteen , is this normal i have cut back on carbs , will this help my glucose ?\"], [\"is <unk> injection safe for diabetic patients ?\"], [\"how common is diabetic neuropathy ?\"], [\"diabetes chart ?\"], [\"what herbs are good for diabetes ?\"], [\"how many forms of diabetes exist ?\"], [\"how many needles does a diabetic take a year ?\"], [\"where can i find recipes for people with high blood sugar during pregnancy ?\"], [\"what is the <unk> for a family history of diabetes ?\"], [\"if you are unsure if someone has low or high blood sugar levels what should you do ?\"], [\"you accidentally had one seroquel not sure what mg with a beer and it made you black out what permanent or long term affects will this one pill have on your body ?\"], [\"how do you know that your dog is a diabetes ?\"], [\"how is insulin <unk> ?\"], [\"can a diabetic do a <unk> tattoo ?\"], [\"why do you have to keep the blood glucose level within the normal cycle ?\"], [\"long term side affects of diabetes ?\"], [\"where can i find advice on free diabetic diet plan ?\"], [\"what is the purpose of the american diabetes association ?\"], [\"what hormone increases blood glucose ?\"], [\"is it normal to have high levels of sugar in your blood ?\"], [\"what happens to people that eat to much sugar ?\"], [\"what would happen to the blood sugar level of a diabetic who <unk> to inject insulin ?\"], [\"what is the normal postprandial blood glucose for a human ?\"], [\"how do you calibrate a true track glucometer ?\"], [\"what to eat when your blood sugar level is low ?\"], [\"what can happen to your body if you blood sugar stays over two hundred for days ?\"], [\"what do you do if you have diabetes ?\"], [\"why do some countries have diabetes worse than others ?\"], [\"you are diabetic and hypertensive since last <unk> presently having severe problem of <unk> oral <unk> . what is cause of my oral problem ?\"], [\"why do urban children suffer from diseases like diabetes <unk> ?\"], [\"what is the normal sugar level in humans ?\"], [\"if you are a diabetic do you have to take the flu vaccine ?\"], [\"what types of foods would be included in a diabetes meal plan ?\"], [\"what exactly are diabetic supplies ?\"], [\"does <unk> <unk> have diabetes ?\"], [\"which blood test measures glucose levels eight to twelve hours after eating and is used to screen for diabetes mellitus ?\"], [\"is type one diabetes a sex linked gene ?\"], [\"the organ located near the stomach that makes insulin ?\"], [\"what are typical dangerous blood sugar levels for a diabetic ?\"], [\"is having a blood sugar level greater than six hundred dangerous ?\"], [\"who would <unk> a diabetic <unk> ?\"], [\"what are the main symptoms that lead up to diabetes ?\"], [\"after sixty four can you get diabetes ?\"], [\"sometimes prolonged excessive exposure to high hormone concentrations causes a phenomenon known as what ?\"], [\"on a one thousand , nine hundred and eighty nine <unk> pu five point seven what is the normal <unk> reading ?\"], [\"is two hundred and sixty five sugar blood levels too high ?\"], [\"can a diabetic get <unk> ?\"], [\"are diabetic diets used to control the patients sugar level or to help the patient lose weight ?\"], [\"will having a family history of diabetes disqualify a person <unk> a career as a pilot in the major commercial airline industry ?\"], [\"what are the normal glucose levels in a non diabetic person ?\"], [\"how did you get diabetes ?\"], [\"is insulin legal or illegal ?\"], [\"do you know the amounts of normal glucose levels ?\"], [\"will taking 30-60 units of insulin a day hurt me ?\"], [\"why is glucose given to a <unk> person ?\"], [\"does low blood sugar mean i have hypoglycemia ?\"], [\"what causes extreme body odor ?\"], [\"onset of regular insulin ?\"], [\"what is the normal human glucose level ?\"], [\"is it true that type two diabetes occurs much less frequently than type one ?\"], [\"when was pediatric diabetes created ?\"], [\"what are the <unk> of transmission of diabetes mellitus ?\"], [\"what are the foods that is low in sugar ?\"], [\"what are some cookbooks of diabetic diet recipes ?\"], [\"what does a diabetes doctor take care of ?\"], [\"what would cause cold chills up and down the spine ?\"], [\"what are some early warning signs of diabetes ?\"], [\"what is made from the glucose in <unk> ?\"], [\"do the diabetes diet guidelines help people with diabetes manage their eating ?\"], [\"can <unk> care help diabetes ?\"], [\"which term describes a <unk> complication of diabetes mellitus ?\"], [\"does adrenaline increase blood sugar ?\"], [\"is diabetes a diseas ?\"], [\"why does obesity cause diabetes ?\"], [\"mechanism of insulin zinc <unk> in type one diabetes ?\"], [\"how diseases get into your body ?\"], [\"if you were to eat three fast food meals every day for one month would your risk of diabetes increase ?\"], [\"is a diabetic diet good for someone who is not diabetic ?\"], [\"what are the other types of physiological diseases away fro hypertension and diabetes ?\"], [\"why does my daughter eyes and brain go to another place for afew second could she have low or high blood sugar . ?\"], [\"how much sugar is in <unk> ?\"], [\"can you take paracetamol if you have diabetes ?\"], [\"what must be monitored when an individual is a diabetic ?\"], [\"why do all people do not take insulin periodically so that they do not get diabetes ?\"], [\"how high is fasting blood sugar seven point zero ?\"], [\"what controls glucose levels in the blood ?\"], [\"diabetic pump ?\"], [\"what type of crystals in urine might be present with diabetes mellitus ?\"], [\"which hormone reduce the level of glucose in blood ?\"], [\"is there a blood sugar chart for comparing blood sugar values ?\"], [\"what are the best diabetic diet foods i can give a fifteen year old growing girl ?\"], [\"can diabetes be cured by diet and exercise ?\"], [\"can diabetes be cured without medicines ?\"], [\"why am i thirsty all the time and tired after meals even though i got my blood sugar tested and it is normal ?\"], [\"how does type two diabetes develop ?\"], [\"where did best and banting get the insulin from ?\"], [\"how is the diet for type one diabetes different from the diet for someone without diabetes ?\"], [\"can diabetes be transferred sexually ?\"], [\"does late dinner cause of diabetes ?\"], [\"what happens when blood sugar levels are lowered ?\"], [\"is the cabbage soup diet good for diabetics ?\"], [\"what is a typical diabetic diet ?\"], [\"how is diabetic food different from regular food ?\"], [\"where can i find an online list of available diabetic cookbooks ?\"], [\"is diabetes a noncommunicable disease ?\"], [\"my finger tip turns white and numb when my hand gets cold . what causes that ?\"], [\"how does ketosis and acetone effect diabetics ?\"], [\"does beetroot affect diabetes ?\"], [\"is it safe to inject more insulin when a child with type1 diabetes wants seconds ?\"], [\"are there <unk> companies for diabetic meals in <unk> ?\"], [\"what is two types of diabetes ?\"], [\"organ that produces the liquid <unk> of the body ?\"], [\"if your grandfather had diabetes can you ?\"], [\"why might a male have to frequently urinate ?\"], [\"will infection cause blood glucose levels to increase or decrease ?\"], [\"diabetic supply companies ?\"], [\"does diet affect the development of diabetes ?\"], [\"what are the health benefits of <unk> ?\"], [\"how many times a day should a person with diabetes check there blood sugar levels ?\"], [\"what happens to diabetic patient does not take carbohydrate ?\"], [\"what drug is used for diabetic hypertensive ?\"], [\"is one hundred and sixty is normal random blood sugar level ?\"], [\"diabetic fruity odor what to do ?\"], [\"insulin how is it used ?\"], [\"high blood sugar reading ?\"], [\"where to find diabetes food lists ?\"], [\"is diabetes communicable disease ?\"], [\"is diabetes can pass on by <unk> ?\"], [\"explain why there is too little sugar in the blood if the person exercises more than usual ?\"], [\"is diabetes a genetic factor ?\"], [\"should diabetics eat any sugar ?\"], [\"need a list of diabetic diet plans ?\"], [\"is type one diabetes deadly or is there a cure ?\"], [\"you are on risk of suffering from diabete what can you do to save yourself from it ?\"], [\"what is the prognosis for patients with early stage diabetic neuropathy ?\"], [\"what can diabetics consume for breakfast ?\"], [\"where can i find a complete food chart for diabetes including carbohydrate information ?\"], [\"can <unk> sugar be used on diabetic cookies ?\"], [\"what is the result of a glucose tolerance test that <unk> insulin resistance ?\"], [\"what is the medicine for diabetes ?\"], [\"what kinds of sugar substitutes can you use for a diabetic pound cake recipe ?\"], [\"when was diabetes care created ?\"], [\"what is the proper aha first aid response to diabetic attack ?\"], [\"how long does it take for your eyesight to improve after being diagnosed with diabetes ?\"], [\"can tv cause diabetes ?\"], [\"common diabetes signs ?\"], [\"diabetes mellitus is a disorder of ?\"], [\"what are three symptoms of diabetes mellitus ?\"], [\"what type of diabetes is most common in children and how can children treat their diabetes ?\"], [\"how do you know if you have diabetes insipidus ?\"], [\"what are problems in the blood when you have diabetes ?\"], [\"what is the definition of low sugar ?\"], [\"what is the best diet for a diabetic ?\"], [\"what is serum insulin ?\"], [\"how long can a diabetic live ?\"], [\"where can i obtain a diabetic food pyramid ?\"], [\"<unk> five hundred and eighty three point one four fifteen g mod two thirty four proof tested can someone tell you about it ?\"], [\"what foods cause diabetes ?\"], [\"what medical conditions can lead to diabetes ?\"], [\"why do patients suffering from <unk> dependent diabetes mellitus develop hypoglycemia ?\"], [\"can you eat honey if you have type two diabetes ?\"], [\"is it tomato suitable food for diabetics ?\"], [\"will peanut butter help lower blood sugar ?\"], [\"does low blood sugar cause headaches ?\"], [\"are there treatments for diabetics ?\"], [\"which two hormones control your blood sugar levels ?\"], [\"does blood sugar level increase with lyme disease ?\"], [\"what are some side effects of metformin ?\"], [\"why diabetes patients are increasing ?\"], [\"can gestational diabetes show up if you were an undiagnosed type one diabetic ?\"], [\"how diabetes affect the pancreas ?\"], [\"what part of the body does diabetes effect ?\"], [\"how can you stop diabetes from affecting you ?\"], [\"which type of diabetes is due to a deficiency in the secretion of antidiuretic hormone ?\"], [\"the mellitus part of diabetes mellitus comes from the latin word for what food which diagnosing physicians were looking to taste in patients ' urine ?\"], [\"does drinking alcohol lower your blood sugar ?\"], [\"should people who have diabetes eat corn ?\"], [\"what can a nurse in a obstetrician office do when a diabetic twenty one year old over weight insulin dependent patient who does not eat breakfast because of morning sickness ?\"], [\"can you have brittle diabetes if you are type two diabetes ?\"], [\"is it any weight loss shakes that a diabetic or a person with high blood pressure can use ?\"], [\"what is juvenal diabetes ?\"], [\"what is the average blood glucose level ?\"], [\"what would happen if blood sugar levels of a diabetic who <unk> to inject insulin ?\"], [\"what are cures for diabetes in fruits ?\"], [\"does vitamin b twelve shots raise blood sugar ?\"], [\"can diabetes be spread through a used needle prick ?\"], [\"where are the <unk> diets to be found to help people with diabetes ?\"], [\"does coffee affect blood sugar levels ?\"], [\"what is the best way to store insulin ?\"], [\"are diabetics allowed to have apple butter ?\"], [\"should diabetics drink milk ?\"], [\"is a non stress test a standard diabetes test ?\"], [\"how does diabetes affect the smell of urine ?\"], [\"what part of the human digestive system produces insulin to control sugar in the blood ?\"], [\"can you have diabetes and work for the post office ?\"], [\"can a diabetic take hgh ?\"], [\"blood sugar at five hundred what do you do ?\"], [\"what is the role of liver in controlling blood sugar level ?\"], [\"which arteries are frequently <unk> in the diabetic patient ?\"], [\"what is best food for diabetic patient ?\"], [\"where might one go to obtain a diabetic bracelet ?\"], [\"why is it so hard to lose weight with diabetes ?\"], [\"diabetes treatment ?\"], [\"what is <unk> diabetic ?\"], [\"can you have a cdl and take insulin ?\"], [\"are diabetes test <unk> good past <unk> dates ?\"], [\"can good nutrition prevent diabetes ?\"], [\"what is the normal blood sugar level reading ?\"], [\"how accurate are blood sugar testing machines ?\"], [\"what is the normal glucose levels of a teenager ?\"], [\"how does insulin relate to diabetes mellitus ?\"], [\"what kind of things do <unk> with diabetes need to think about during gym class or sports ?\"], [\"what is an example of a good diabetic breakfast ?\"], [\"when does type two diabetes turn into insulin dependent ?\"], [\"what can i do on my own as a diabetes treatment ?\"], [\"is eating a lot considered a type of behavior ?\"], [\"which are the <unk> about the <unk> of type ii diabetes ?\"], [\"diabetic nutrition ?\"], [\"do you have diabetic if reach one hundred and fifty two sugar ?\"], [\"how to cook for my whole family when my husband is on the diabetic diet ?\"], [\"home medical care : treating diabetes ?\"], [\"what causes frequent urination ?\"], [\"what is a good breakfast if you have diabetes type one ?\"], [\"can diabetes mellitus cause chronic kidney failure ?\"], [\"can you find a cure for diabetes ?\"], [\"what does a glucose monitor measure ?\"], [\"which blood test is used by patients with diabetes to measure the average blood glucose level over the previous three to four months ?\"], [\"why do diabetics type ii get so <unk> and mean . after forty three years of <unk> we are about to <unk> up . what can i do ?\"], [\"where did insulin come from ?\"], [\"which endocrine gland fails to produce enough of its <unk> the diabetes ?\"], [\"when should a rapid acting insulin administered ?\"], [\"what is the normal diet for people with diabetes ?\"], [\"what are the names of the different type of diabetes ?\"], [\"does paneer ka phool <unk> diabetes completely ?\"], [\"if <unk> of an insulin injection was given instead of <unk> what would happen ?\"], [\"how is it possible for a child with <unk> syndrome to develop type one diabetes from the <unk> <unk> ?\"], [\"what is type one diabetes and type two ?\"], [\"what is the recovery time for laser surgery for retinopathy ?\"], [\"is diabetes mellitus an acute disorder ?\"], [\"how does diabetes affect endocrine system ?\"], [\"what is a good starting grocery list for a family with a diabetic member ?\"], [\"name at least six symptoms of diabetes ?\"], [\"are diabetes fatal ?\"], [\"what is <unk> mellitus ?\"], [\"why does the wound of a diabetic not heal easily ?\"], [\"what is the best cure for diabetes ?\"], [\"where can i find more information on diabetes diet for seniors ?\"], [\"what is the main cause of gestational diabetes ?\"], [\"what is a <unk> blood glucose test ?\"], [\"how do you read one hundred and twenty three million , four hundred and fifty six thousand , seven hundred and eighty nine ?\"], [\"treatment options for diabetes ?\"], [\"is mutton good for diabetic ?\"], [\"what kind of foods are good for a diet for diabetes ?\"], [\"can a diabetic eat a kosher hot dog ?\"], [\"what foods can i eat with type two diabetes ?\"], [\"what is hyperosmolarity in diabetes in a way even i can understand ?\"], [\"are <unk> more attracted to diabetics ?\"], [\"does sugar directly cause diabetes ?\"], [\"explain how viruses might be used to copy the gene for producing human insulin ?\"], [\"why is it important to get <unk> fiber in your diet ?\"], [\"if a person has diabetes and their blood sugars drop to fifty what can happen ?\"], [\"is there any types of infection with diabetes patient to a non diabetes ?\"], [\"if a girl weighs one hundred and thirty pound and is a ten year old <unk> grader but her family has a history of over weight family member you are really scared you do not want to be diabetic but i cant <unk> <unk> ?\"], [\"did miley cyrus break up with nick jonas because he had diabetes ?\"], [\"what is the cause of type one diabetes ?\"], [\"why do you get <unk> were you inject your insulin ?\"], [\"your fasting blood sugars are three hundred is that dangerous ?\"], [\"what is a good type two diabetes diet plan ?\"], [\"is nausea related to chronic diabetes ?\"], [\"what is diabetic nephropathy ?\"], [\"is pre-diabetes the worst kind of diabetes ?\"], [\"does nick <unk> jonas have diabetes ?\"], [\"how does diabetes affect your blood sugar levels ?\"], [\"which diabetes is rare ?\"], [\"will drinking water affect your diabetes test ?\"], [\"gud or white sugar which is <unk> for a diabetic ?\"], [\"what is the difference between novolog insulin and novolin insulin for type one diabetes ?\"], [\"why cant type one diabetes be prevented ?\"], [\"can a diabetic patient eat watermelon ?\"], [\"what can diabetics take for a headache ?\"], [\"what research has been done on <unk> ?\"], [\"the body produces too much insulin ?\"], [\"why do the top of your feet ache ?\"], [\"what does post prandial blood sugar mean ?\"], [\"what is type three diabetes ?\"], [\"insulin syringes are calibrated in ?\"], [\"what can diabetic neuropathy lead to ?\"], [\"how many <unk> had diabetes ?\"], [\"how many people in the world have diabetes ?\"], [\"what would happen if you eat twenty five <unk> of sugar ?\"], [\"the action insulin on sugar levels in the blood helps ti ?\"], [\"can a diabetic use a steam room ?\"], [\"can excess of sugar in urine cause tiredness ?\"], [\"what do you do if you have diabetes mellitus ?\"], [\"does thyroid gland mean controls blood sugar levels ?\"], [\"managing high blood sugar ?\"], [\"what causes <unk> ?\"], [\"what is the primary organ involved with type one diabetes mellitus ?\"], [\"what are some diet and exercise tips for diabetic men that do not like to exercise and love to eat unhealthy foods ?\"], [\"who discovered diabeties ?\"], [\"whats the best dessert recipe for a diabetic female ?\"], [\"what causes lack of insulin in early age for ladies ?\"], [\"what are type two diabetes symptoms ?\"], [\"where you can buy melabic a sugar stabilizer from other source but melabic . com ?\"], [\"what to eat for pre diabetes ?\"], [\"what is the easiest recipe to make diabetic fudge ?\"], [\"how do bacteria help protect people with diabetes ?\"], [\"the trouble with weight ?\"], [\"obesity and diabetes ?\"], [\"what types of insulin are used in hospitals ?\"], [\"what can exist in many forms ?\"], [\"what type of diabetes usually requires insulin ?\"], [\"can you be a diabetic if your skinny ?\"], [\"do you get diabetes from being fat ?\"], [\"what is the normal blood sugar range for fasting sugar for non diabetics ?\"], [\"did nick jonas ever throw up blood from diabetes ?\"], [\"does diabetic neuropathy treatment have any risks ?\"], [\"how are patients with type i diabetes treated ?\"], [\"what are the effects of colloidal silver on diabetes ?\"], [\"why is it important for patients with diabetes to use a glucometer ?\"], [\"what are the natural remedies for diabetes ?\"], [\"can high blood sugar cause pupils being dilated ?\"], [\"how many carbs in <unk> ?\"], [\"what is the <unk> that cats will develop diabetes <unk> dogs ?\"], [\"what is the cause of low blood pressure ?\"], [\"when was nick jonas diagnosed with diabetes ?\"], [\"what is basal insulin ?\"], [\"who is the lady in the walgreen is commercial about diabetes ?\"], [\"how scientific <unk> has helped to solve the problem of diabetes ?\"], [\"how common is diabetes in america ?\"], [\"how long does it take to lower your blood sugar ?\"], [\"do diabetes test strips <unk> ?\"], [\"can a diabetic have brown <unk> ?\"], [\"what are typical ingredients in healthy easy recipes for diabetics ?\"], [\"does mcdonalds cause diabetes for children ?\"], [\"how much creatine for a diabetic ?\"], [\"are low blood sugar levels bad ?\"], [\"what is the potential <unk> of insulin pens compared to <unk> and syringes ?\"], [\"who is more prone to get diabetes ?\"], [\"how do you control diabetes ?\"], [\"can the increased in triglyceride cause type two diabetes ?\"], [\"why would high <unk> levels slow blood clotting time ?\"], [\"where can you find an informative food list for diabetics online ?\"], [\"is weight loss a sign of type two diabetes ?\"], [\"is there any cure for gangrene in the stomach ?\"], [\"glycosuria is a failure in ?\"], [\"should you take glucose tablets if your blood sugar is high ?\"], [\"what are the top diabetic diets available ?\"], [\"what type of hormone is insulin ?\"], [\"how do you get rid of belly and thigh fat and still be a type one diabetic ?\"], [\"how do you choose foods for diabetics ?\"], [\"can you massage on a diabetic ?\"], [\"what kind of products does the novo nordisk company produce ?\"], [\"what is poor eating habits ?\"], [\"resting heart rate for seventy two year old man with diabetes ?\"], [\"will current treatments for diabetes continue to work ?\"], [\"how do you get diabet es ?\"], [\"in what secondary ways can alcohol affect your blood sugar level ?\"], [\"what kind of medicines are available to treat diabetes ?\"], [\"what age do the symptoms of diabetes occur ?\"], [\"how can diabetics increase their insulin levels ?\"], [\"what does niddm mean ?\"], [\"how is a glucose <unk> performed on a diabetic dog ?\"], [\"does the liver help control blood sugar levels ?\"], [\"what type of sugar is blood sugar ?\"], [\"how many children does nick jonas want their names with who ?\"], [\"can you buy diabetic products from pharmacies ?\"], [\"can a diabetic patient have any type of liquor ?\"], [\"what are the warning signs for diabetes ?\"], [\"how did scientists find the human gene that makes insulin ?\"], [\"where can one buy diabetic support socks ?\"], [\"curing diabetes ?\"], [\"how would someone <unk> to the magazine diabetes care ?\"], [\"why do people have diabetes ?\"], [\"will insulin kill if injected into vein ?\"], [\"how many people died in two thousand and twelve ?\"], [\"can you give a <unk> in a diabetic patient ?\"], [\"is urinating a lot a sign of diabetes ?\"], [\"pediatric diabetis ?\"], [\"which of the following is not a factor that can place a child at greater risk for developing problems during adolescence ?\"], [\"is nick jonas diabetes getting worse ?\"], [\"what test detects the average blood glucose levels over the previous three weeks ?\"], [\"diet for type two diabetes ?\"], [\"thyroxine is important to the control of what ?\"], [\"do restaurants carry diabetic diet menus ?\"], [\"in what condition people take glucose ?\"], [\"how does marijuana effect blood sugar ?\"], [\"what does a stable or increasing level of cea in the blood indicate ?\"], [\"living with a diabetes diet ?\"], [\"living with diabetes ?\"], [\"why is foot care so important for diabetics ?\"], [\"what are symptoms of <unk> diabetes in adults ?\"], [\"what are risk factors of diabetes ?\"], [\"is <unk> useful in diabetes ?\"], [\"is cinnamon good for diabetics ?\"], [\"have many people died because of diabetes ?\"], [\"what are healthy blood sugar levels ?\"], [\"what food is good to maintain a normal glucose level ?\"], [\"will powder glucose do the same as liquid glucose ?\"], [\"why should diabetics exercise ?\"], [\"where can one find information on type two diabetes friendly diets ?\"], [\"what body organ is not working correctly with type one diabetes ?\"], [\"what is in potato chips ?\"], [\"why is pig insulin being used as a substitute of human insulin ?\"], [\"does <unk> have diabetes ?\"], [\"is there anything that makes you pee a lot ?\"], [\"what is a good blood sugar range ?\"], [\"how diabetes mellitus develops ?\"], [\"which type of diabetes means i need to inject insulin daily ?\"], [\"how do you control diabites ?\"], [\"what is a simple dinner recipe that would work with a diabetic menu plan ?\"], [\"who discovered hypoglycemia ?\"], [\"what kind of foods do diabetics eat ?\"], [\"what is the hormone secreted by the pancreatic islets in response to low blood sugar ?\"], [\"what is the blood sugar level to be diabetic ?\"], [\"is eighty six a normal blood sugar for a none diabetic ?\"], [\"is type one diabetes curable ?\"], [\"which human organ produces insulin ?\"], [\"can <unk> beans to cause diabetes ?\"], [\"should diabetics eat red meats ?\"], [\"what is a healthy <unk> meal plan for a diabetic ?\"], [\"is type two diabetes a genetic disease ?\"], [\"is sugar causing diabetes ?\"], [\"can diabetes cause hypertension ?\"], [\"why was type one diabetes called juvenile diabetes ?\"], [\"where can you get health insurance in <unk> if you are a diabetic and have rheumatoid arthritis and your husband and you are on medicare but you missed the <unk> period and your <unk> is <unk> ?\"], [\"where was diabetes discovered ?\"], [\"is nick jonas dying because of diabetes ?\"], [\"what is the difference between a tuberculin syringe and an insulin syringe ?\"], [\"how does diabetes effect the human body ?\"], [\"list of five non communicable and communicable diseases ?\"], [\"can diabetics eat glucose syrup ?\"], [\"what is diabetes mellitus and what is it caused by ?\"], [\"what is a good diet for someone with arthritis ?\"], [\"if you weigh two hundred and twenty lbs how many carbs should you eat to lose weight on a diabetic diet ?\"], [\"where can i find a complete list of foods mentioned in the <unk> ?\"], [\"who is discover insulin ?\"], [\"how long before type one diabetes start to show ?\"], [\"what research has been done on <unk> ?\"], [\"what is the medical treatment for retinopathy ?\"], [\"can you catch diabetes ?\"], [\"can diabetic patient drink ginger beer ?\"], [\"can <unk> lower <unk> levels in the blood ?\"], [\"does type one diabetes affect sperm quality ?\"], [\"two types of diabetes ?\"], [\"what is glycosuria ?\"], [\"you are insulin resistant you do not however have diabetes if you lose the weight will your insulin resistance go too along with it your chance of developing diabetes ?\"], [\"can tibicos heal diabetes ?\"], [\"is diabetes autosomal or sex linked ?\"], [\"is a little bit longer by the jonas brothers about nick is diabetes ?\"], [\"can diabetics get tattoos ?\"], [\"are there any diet recipes for diabetics ?\"], [\"is diabetes mellitus a complication of <unk> ?\"], [\"what type of hereditary condition is <unk> <unk> ?\"], [\"is london dry gin good for a diabetic ?\"], [\"what is the duration of a diabetic coma ?\"], [\"where can you find a good type two diabetes diet plan ?\"], [\"what type of diabetes must monitor their blood sugar levels carefully and take insulin on a strict schedule ?\"], [\"what is diabetes one ?\"], [\"how does bacteria help with diabetes ?\"], [\"use of psyllium <unk> in diabetes and <unk> ?\"], [\"is there anyway to reduce the effects of type two diabetes symptoms ?\"], [\"what ways can you manage to have a good nutrition while living with diabetes ?\"], [\"when checking your sugar levels what is good ?\"], [\"why do you have a dry mouth and always thirsty but not diabetic ?\"], [\"what does the cea level in the blood help the physician decide ?\"], [\"can <unk> cause blurred vision ?\"], [\"is diabetes in the <unk> kingdom ?\"], [\"what produces insulin in the body ?\"], [\"will medicaid pay for diabetic shoes ?\"], [\"what is the root word of diabetes ?\"], [\"i there a toothpaste for diabetics ?\"], [\"is reading healthy ?\"], [\"what are some symptoms to determine borderline diabetes ?\"], [\"what <unk> venom <unk> a drug that controls blood sugar levels ?\"], [\"how do you remove sugar disease from your body ?\"], [\"who has a diabetes nick kevin joe ?\"], [\"how does diabetes affect your lifestyle ?\"], [\"how low can blood sugar go before is causes lost consciousness ?\"], [\"why would a person need diabetic neuropathy treatment ?\"], [\"meal for a diabetic ?\"], [\"how do you handle diabetes ?\"], [\"what is a common drug used to treat a non insulin dependent diabetes ?\"], [\"what part of the body make insulin ?\"], [\"can genetic screening help diabetic parents to avoid passing diabetic genes to their children ?\"], [\"how can bacteria be genetically engineered and used to make human insulin ?\"], [\"can eating fresh cherries control blood glucose level ?\"], [\"what are some problems people with diabetes have ?\"], [\"what organ controls blood sugar ?\"], [\"can a diabetic join the marines if he has an insulin pump ?\"], [\"how is wheat grass therapy taken ?\"], [\"what can i eat in a diabetic diet ?\"], [\"what is the <unk> your child will have diabetes if your husband is a type one diabetic and your mother had gestational diabetes when she was pregnant with you ?\"], [\"what is the cause of juvenile diabetes ?\"], [\"is there a website that offers a diabetic diet meal plan ?\"], [\"will glucose tablets reduce your blood <unk> aic ?\"], [\"what is the difference between high blood sugar and diabetes ?\"], [\"help i do not know what an a1c range is ?\"], [\"why can you prevent type two diabetes but can not prevent type one diabetes ?\"], [\"what are the common symptoms of diabetes ?\"], [\"where can one find a chocolate pie recipe suitable for someone who has diabetes ?\"], [\"what is the control mechanism of diabetes ?\"], [\"type two diabetes is known as ?\"], [\"what can make urine cloudy ?\"], [\"what are the release dates for <unk> <unk> juvenile diabetes - two thousand and six ?\"], [\"do ya think i have diabetes i am kinda thirsty and feel like i have to go the bathroom quite a bit off and on went to doc few days ago urine was normal did not think i had it blood test fine month ago ?\"], [\"can gestational diabetes turn into type one diabetes ?\"], [\"what are some ways <unk> <unk> <unk> could have died from diabetes ?\"], [\"what are some treatments for diabetic neuropathy ?\"], [\"what happens if glucose levels get too low ?\"], [\"can people with diabetes make hemoglobin to control their blood sugar ?\"], [\"why does decreased insulin cause diabetes ?\"], [\"what hormone secretion abnormality causes diabetes ?\"], [\"is there a cure for type one diabetes ?\"], [\"how can one research what diabetes is ?\"], [\"does someone have the answers to the <unk> gestational diabetes case study ?\"], [\"who was the scientist who made the diabetes shot ?\"], [\"how can a person cure diabetes ?\"], [\"does nick jonas really have a meet and <unk> with diabetics before all of his <unk> ?\"], [\"does glucose help kids to remember ?\"], [\"what are the foods that can cause diabetes ?\"], [\"what can i do to stay healthy with diabetes ?\"], [\"what condition is caused by too much insulin and too little sugar in the blood ?\"], [\"can infection cause diabetes ?\"], [\"will you die from type one diabetes ?\"], [\"what do people do to test for diabetes ?\"], [\"is one hundred and seventy reading after food diabetic ?\"], [\"do your bones grow as you get older ?\"], [\"is it possible to make a cake that is diabetic friendly ?\"], [\"can diabetics take penicillin ?\"], [\"what drug may interfere with the body is ability to regulate its temperature and may cause hypothermia ?\"], [\"diabetes increases your <unk> of suffering from ?\"], [\"who is the best specialist doctor in <unk> in medicine diabetes and <unk> ?\"], [\"can you eat sugar cane and get diabetes ?\"], [\"can a insulin dependent diabetic become a <unk> <unk> ?\"], [\"what type of diet should a person keep with <unk> ?\"], [\"what medication does a type one diabetic take ?\"], [\"what is a good diet for someone who suffers from diabetic nephropathy ?\"], [\"how does water help with blood sugar levels ?\"], [\"does homeopathy go with any kind of other medicine like <unk> or ayurveda ?\"], [\"what do you do if your blood sugar level is high ?\"], [\"can marijuana lower blood sugar level ?\"], [\"is diabetes education important for those with no history of it in the family ?\"], [\"i got twenty two on my diabetes test . what does that mean ?\"], [\"how are blood glucose levels regulated in the body ?\"], [\"what is the relationship between <unk> and blood sugar ?\"], [\"where can one find a type two diabetic diet ?\"], [\"will the glycemic index diet help diabetics ?\"], [\"are <unk> product are safe to be use especially in a pregnant women ?\"], [\"has a cure been found for diabetes ?\"], [\"is diabetes hereditary ?\"], [\"why do people with diabeties take care of how much sugar they eat ?\"], [\"will a person with type two diabetes taking insulin twice a day test positive on a urine drug test ?\"], [\"what helps diabetes ?\"], [\"can insulin be given iv ?\"], [\"how many americans have diabetes report ?\"], [\"where can you buy diabetic shoes ?\"], [\"what organs are involved with type two diabetes ?\"], [\"what are normal blood sodium levels ?\"], [\"has diabetes all ways been diabetes ?\"], [\"classification of diabetes mellitus ?\"], [\"how many times does a person have to get a diabetes diagnosis ?\"], [\"what is dibetes ?\"], [\"is type one or type two diabetes more common ?\"], [\"what are some good diabetic diet foods ?\"], [\"can diabetes form in animals ?\"], [\"does beer or wine have a high sugar content ?\"], [\"do high blood sugar levels prevent pregnancy ?\"], [\"what finally causes the <unk> to fall ?\"], [\"is <unk> vaccine linked to diabetes ?\"], [\"how do you know you have diabetic ?\"], [\"what organ secretes insulin ?\"], [\"why can not you use the same lancet twice ?\"], [\"how will crack affect a diabetic ?\"], [\"diabetic blood sugar levels fluctuate throughout the day ?\"], [\"how many people have type one diabetes in th uk ?\"], [\"can applesauce be used in a diabetic cake recipe ?\"], [\"what is normal range of urine sugar ?\"], [\"are there medical id bracelets for diabetics ?\"], [\"what organs are involved in diabetes ?\"], [\"does monster drinks push up your blood sugar ?\"], [\"is it true that diabetic type one men are sterile and if yes is there any help ?\"], [\"how many seconds should it take to inject insulin ?\"], [\"what is the scientific word for low blood sugar ?\"], [\"is diabetes mellitus a <unk> disease ?\"], [\"how is diabetes treated through <unk> healing ?\"], [\"illness starting with the letter k ?\"], [\"can you get <unk> for a child with diabetes insipidus ?\"], [\"how does the pancreas work with other systems to keep the body healthy ?\"], [\"can a diabetic use <unk> ?\"], [\"does calorie free sugar substitutes affect the blood glucose level ?\"], [\"what is a good diet for type two diabetes ?\"], [\"what is the name of the hormone that lowers blood sugar level ?\"], [\"insulin is a protein but <unk> is ?\"], [\"what supplements can help with diabetes ?\"], [\"ways to prevent high blood pressure ?\"], [\"if you start a continuous infusion of one hundred and fifty units of insulin in <unk> of normal saline solution if the prescribed dose is eight insulin units per hour what is the flow rate in ml per hour ?\"], [\"where can i purchase diabetic supplements ?\"], [\"where does sugar leave the blood ?\"], [\"how does diabetes affect your body ?\"], [\"how does someone obtain type one diabetes ?\"], [\"is swelling of feet and lower legs a sign of type two diabetes ?\"], [\"normal range for blood test mpv ?\"], [\"what is an extremely critical indicator of diabetes mellitus ?\"], [\"what food should diabetics avoid ?\"], [\"diabetes warning signs ?\"], [\"is organic red rice good for diabetic patient ?\"], [\"are the carbs in fruit bad carbs or good carbs ?\"], [\"where can i read reviews on blood sugar testing products ?\"], [\"what organ under the stomach produces insulin and enzymes ?\"], [\"is type two diabetes curable ?\"], [\"where can i find a diabetic cookbook with southern recipes ?\"], [\"why are insulin syringes <unk> in units instead of milliliter ?\"], [\"what is wrong with a diabetic person when he has extreme thirst ?\"], [\"is banana good for diabetic patients ?\"], [\"are <unk> tests done on diabetics ?\"], [\"can you take tylenol pm if you are diabetic ?\"], [\"can you take <unk> when you got diabetes ?\"], [\"how does the diabetic food chart compare to the basic food chart ?\"], [\"what are disadvantages of ayurveda ?\"], [\"what process stores energy in the form of glucose ?\"], [\"what makes blood sugar go up ?\"], [\"how many carbs should a diabetic eat at one meal ?\"], [\"what is normal sugar level ?\"], [\"where can dessert recipes for diabetics be found ?\"], [\"what should a diabetic avoid to eat ?\"], [\"why do some organs not need insulin in order to get and process glucose ?\"], [\"how do <unk> <unk> and <unk> differ ?\"], [\"how does diabetes affect a person ?\"], [\"how can exercise and <unk> loss help to lower the blood sugar level in diabetic patient ?\"], [\"what can happen if your blood glucose levels rise to high ?\"], [\"who is the <unk> of insulin ?\"], [\"what side effects are caused by high blood sugar levels ?\"], [\"what are the recommended dietary <unk> in diabetes ?\"], [\"how do you make a diabetic coconut cake ?\"], [\"how many new cases of diabetes ?\"], [\"insulin was discovered by ?\"], [\"would an apple raise blood sugar ?\"], [\"is <unk> bad for you ?\"], [\"what can you do to decrease the risk of diabetes ?\"], [\"should all diabetics wear diabetic bracelets ?\"], [\"why are kids now getting type two diabetes ?\"], [\"what is the specific measure of the ability of food to raise blood sugar ?\"], [\"can diabetics drink boost ?\"], [\"what causes a red burning rash on your face ?\"], [\"can diabetics wax ?\"], [\"diabetes diet menu ?\"], [\"in which <unk> episode does <unk> discover his diabetes ?\"], [\"how often should you get a <unk> if you know that a certain disease runs in your family ?\"], [\"is one hundred and sixty blood sugar for ten year old diabetic ?\"], [\"what do the signs of diabetic ketoacidosis appear as ?\"], [\"how much insulin is an overdose ?\"], [\"can type two diabetics take lactulose solution ?\"], [\"why does diabetes restrict a beauty treatment ?\"], [\"where did diabetes get its name ?\"], [\"what are some problems of diabetes ?\"], [\"how do you run without having lactic acid build up and also what foods should you eat when in training ?\"], [\"which endocrine gland releases a hormone that increases blood sugar level ?\"], [\"what is a healthy type ii diabetes diet plan ?\"], [\"what is sign of diabetes ?\"], [\"which jonas brother has diabetes ?\"], [\"how many days of blood sugar level does fasting blood sugar measure ?\"], [\"how is diabetes <unk> ?\"], [\"what is the healthy glucose levels ?\"], [\"all patients with diabetes need injection ?\"], [\"can you have hypoglycemia without diabetes ?\"], [\"how can i prevent myself from getting type two diabetes ?\"], [\"how and when to start a diabetic neuropathy ?\"], [\"what gland controls the sugar metabolism ?\"], [\"what kind of condition is diabetes insipidus ?\"], [\"how many new case of diabetes are diagnosed each day in the us ?\"], [\"does sugar have anything to do with getting diabetes ?\"], [\"what happens to health if someone sleeps right after eating an orange ?\"], [\"is the number of people worldwide who have diabetes increasing ?\"], [\"how is diabetes passed on ?\"], [\"what are some natural remedies such as in a wilderness survival situation ?\"], [\"what causes low blood sugar to sometimes appear as if someone is having a stroke ?\"], [\"can you get an std if you have type two diabetes ?\"], [\"why is it important to keep the blood glucose level within the normal range ?\"], [\"can diabetics use the master <unk> ?\"], [\"why does blood sugar rise high after breakfast ?\"], [\"what are the best diabetes foods for lowering blood sugar ?\"], [\"if you inject a diabetic shot by mistake would you be diabetic ?\"], [\"how can you lower your blood sugar quickly ?\"], [\"can constipation cause frequent urination ?\"], [\"what do you get when you eat a lot of sugar foods ?\"], [\"your blood sugar is running between one hundred and fifty and two hundred and thirty seven is that bad ?\"], [\"what type of insulin does nick jonas use ?\"], [\"what are some early signs of diabetes ?\"], [\"can a person with diabetes help control it by lifestyle changes ?\"], [\"would you gain weight if you had diabetes ?\"], [\"can someone taking pills for diabetes use urine therapy ?\"], [\"how do you no if you have diabets ?\"], [\"can cats get diabetes ?\"], [\"what happens when someone with diabetes has a blood sugar of twenty nine ?\"], [\"why is it dangerous for diabetics to eat a meal containing a lot of sugar ?\"], [\"what are the most <unk> signs of diabetes ?\"], [\"what is the name of the condition that is affected by blood sugar levels ?\"], [\"does a sugar free diet cure diabetes ?\"], [\"blood sugar levels are lowered by the ?\"], [\"i have been feeling faint and <unk> do i have diabetes ?\"], [\"what does insulin do the blood sugar levels ?\"], [\"is diabetes type one inherited ?\"], [\"what do you give a diabetic that is having a low blood sugar issue ?\"], [\"which type of diabetes is insulin-dependent ?\"], [\"how much sugar in dates ?\"], [\"what is a description for fasting blood sugar ?\"], [\"do researchers think there will be a cure for diabetes ?\"], [\"how severe do diabetes symptoms have to be before you have ?\"], [\"what are the results of not taking medicine for diabetes ?\"], [\"is it a myth for getting diabetes by eating to much sugar ?\"], [\"what animals would serve as the best sources of insulin to be used for treating diabetics ?\"], [\"what should you do if your glucose level is three hundred and seventy one ?\"], [\"how many grams of sugar a day for a diebetic ?\"], [\"in addition to taking insulin how can one treat diabetes ?\"], [\"which organ produces insulin ?\"], [\"what is the causative agent of diabetes ?\"], [\"what fruit lowers blood sugar ?\"], [\"how is type one diabetes detected ?\"], [\"what happens if low blood sugar is not treated ?\"], [\"how the body produce insulin ?\"], [\"why did the pima <unk> have diabetes ?\"], [\"what if your blood glucose is six . <unk> should you administer insulin ?\"], [\"what do you call the presence of glucose in the urine ?\"], [\"what are the low sugar foods ?\"], [\"what is the definition of high in fats ?\"], [\"what do nails look like on a diabetic ?\"], [\"what diseases are caused by <unk> ?\"], [\"what is the leading cause of diabetes in america and how can i prevent getting it ?\"], [\"understanding diabetic meal planning ?\"], [\"how do you write a school research paper on diabetes ?\"], [\"ms . <unk> , i <unk> ?\"], [\"did elvis <unk> presley have diabetes type one or two ?\"], [\"grandma is coming to visit and my child has chickenpox grandma also is diabetic she was planning on staying with us should she stay <unk> ?\"], [\"how does diabetes travel ?\"], [\"what is honeymoon period in diabetes mellitus ?\"], [\"how do diabetics control their blood sugar level ?\"], [\"what is a type one and two diabetes ?\"], [\"what is best bread to eat ?\"], [\"can a diabetic consume honey ?\"], [\"is there quite a lot of sugar in bananas ?\"], [\"do bacteria prevent diabetes ?\"], [\"where can you find information about the grapefruit diet ?\"], [\"is a glucose reading of one hundred and seventeen of concern ?\"], [\"are any types of diabetes hereditary ?\"], [\"diabetes resources on the internet ?\"], [\"how will my diabetes be treated ?\"], [\"my <unk> old son was diagnosed with <unk> diabetes in july eight point we have been having alot of highs and lows <unk> , were told by his doctor that it is normal . i would like to get another opinion on this from someone with same problem . ?\"], [\"what are the chances i will be able to carry my baby to term if i am diabetic ?\"], [\"which of the following <unk> about insulin resistance and pre-diabetes is true ?\"], [\"why does diabetes medications make people more obese than before they started on the medications ?\"], [\"what type of carbohydrates helps maintains normal glucose levels ?\"], [\"can insulin be taken orally for type two diabetes ?\"], [\"is whiskey safe for diabetics ?\"], [\"is <unk> milk good for a diabetic ?\"], [\"how long for the onset of regular insulin ?\"], [\"does mitchell <unk> have diabetes ?\"], [\"what is the normal level for blood sugar ?\"], [\"can diabetes insipidus be detected ?\"], [\"where can you find kosher insulin ?\"], [\"who discovered the cure for the diabetes ?\"], [\"what are the nutrition <unk> for people suffering from diabetes ?\"], [\"what could happen if a person does not take care of their diabetic condition ?\"], [\"can nph insulin be given iv ?\"], [\"what should a diabetic is meal plan have ?\"], [\"use of paneer booti in <unk> ?\"], [\"are bananas high in sugar ?\"], [\"can phenylalanine cause diabetes ?\"], [\"which endocrine gland controls sugar levels in the blood ?\"], [\"blood sugar <unk> of two hundred and fifty seven what is emergency action to take for a type two diabetic ?\"], [\"why dont mix glargine with short acting insulin ?\"], [\"what types of insulin are used to treat diabetes ?\"], [\"how does type one differ from type two <unk> disease ?\"], [\"can you get a diabetic food list online ?\"], [\"how many units of insulin should a diabetic take per four grams of carbohydrates ?\"], [\"is diabetes <unk> ?\"], [\"what causes numbness and tingling in the fingers of individuals with untreated <unk> anemia ?\"], [\"why did you get diabetes ?\"], [\"where could one go for advice if their cat has diabetes ?\"], [\"can mental illness be cure ?\"], [\"how can i lose weight fast and healthy when i have diabetes ?\"], [\"where can i find a recipe book for a diabetic diet ?\"], [\"what term best describes a failure of the body is cells to <unk> to insulin ?\"], [\"what diabetic patient needs insulin ?\"], [\"is diabetes <unk> ?\"], [\"how many good carbs should you eat if you are five ' four and want to lose fifteen pounds ?\"], [\"can blood tests determine diabetes ?\"], [\"what are some treatment types for diabetes ?\"], [\"what is the best way to manage diabetes ?\"], [\"can non-insulin dependent diabetes mellitus cause chronic kidney failure ?\"], [\"type one diabetes treatment ?\"], [\"why must insulin be administered in injection ?\"], [\"how long can a <unk> with type one diabetes live till ?\"], [\"how many diabetics use insulin ?\"], [\"when does type i diabetes usually begin ?\"], [\"what should your blood sugar be two hrs after eating for a diabetic ?\"], [\"where can i buy diabetic food that is not too expensive ?\"], [\"can diabetics take vitamin b complex ?\"], [\"what s type three diabetes ?\"], [\"how much of an emergency <unk> of diabetic supplies should i keep on hand ?\"], [\"best food to eat when blood sugar gets low ?\"], [\"what is a diabetes blood test ?\"], [\"physical characteristics for diabetes ?\"], [\"are there any videos of nick talking about his diabetes ?\"], [\"which test is used as an aid in diagnosing diabetes ?\"], [\"can i still eat dessert when diagnosed with diabetes ?\"], [\"when is it best to eat low glycemic foods ?\"], [\"can a vegetarian diet help diabetics ?\"], [\"can diabetics take paracetamol ?\"], [\"what is the type two diabetes diet ?\"], [\"how severe is nick jonas is diabetes ?\"], [\"what is the meaning of insulin resistance ?\"], [\"how is diabetes diagnosed ?\"], [\"meal planning for diabetics ?\"], [\"is there such thing as a diabetic cookie recipe ?\"], [\"how is <unk> related to diabetes ?\"], [\"why do you have pains in the lower left side of the stomach ?\"], [\"will eating dates increase blood sugar ?\"], [\"what kinds of diabetes are there ?\"], [\"risk of developing type two diabetes can be <unk> by ?\"], [\"is diabetes able to be passed along to your children ?\"], [\"what is a good wine for a diabetic ?\"], [\"why do people with diabetes have have a <unk> chance of developing foot infections ?\"], [\"i have diabetes high bp . <unk> does not help what can you do ?\"], [\"can a low blood sugar level cause a panic attack ?\"], [\"when target cells are less sensitive to the effects of insulin in type ii diabetes suggests ?\"], [\"how do you <unk> tiredness with diabetes ?\"], [\"is it possible for a normal blood test to miss type one diabetes ?\"], [\"can nick jonas get rid of his diabetes ?\"], [\"what are normal diabetes levels ?\"], [\"meaning of diabetes mellitus ?\"], [\"what are the three p is of diabetes mellitus ?\"], [\"why do i have signs and symptoms of diabetes mellitus but my diagnostic tests are negative how can i figure out what is wrong ?\"], [\"does an urinalysis show blood sugar levels ?\"], [\"is it normal to have low blood sugar ?\"], [\"what is the best diet for diabetics ?\"], [\"if i am going in for a blood specific test lets say to determine if you have diabetes is there anyway that during these tests if you have smoked marijuana that it will come up in the tests ?\"], [\"is it true that when blood glucose levels rise insulin is released by the <unk> to lower the level ?\"], [\"can <unk> iodine safe as an <unk> agent on diabetics ?\"], [\"alan rickman is diabetic ?\"], [\"what can cause high triglycerides besides obesity ?\"], [\"can a diabetic have the color red in a tattoo ?\"], [\"what is gestational diabetes and how can it be controlled ?\"], [\"what is a healthy diet for a diabetic with type two diabetes ?\"], [\"how many grams of sugar should a pre-diabetic woman consume per day ?\"], [\"a decrease in the production of insulin causes ?\"], [\"is a blood glucose level of one hundred and sixty very high ?\"], [\"what are the different types of insulin currently available for diabetes patients ?\"], [\"what is a normal range for fasting blood glucose ?\"], [\"was alexander <unk> bell diabetic ?\"], [\"what is a normal blood sugar range ?\"], [\"tools you use for diabetes ?\"], [\"what type of <unk> did thomas edison get ?\"], [\"can smoking marijuana help type two diabetes ?\"], [\"what research has been done on retinopathy ?\"], [\"why does a diabetic person sometimes need to eat a lump of sugar ?\"], [\"would a type two diabetic be safe to consume a orange ?\"], [\"when is blood sugar level is too high ?\"], [\"does <unk> have a diabetic diet menu ?\"], [\"what can remedy diabetes high blood sugar levels ?\"], [\"what is the study of diabetes mellitus called ?\"], [\"what is the treatment for high blood sugar levels in diabetic patients ?\"], [\"what are the systems that are affected by diabetes ?\"], [\"where are the canadian diabetes association <unk> ?\"], [\"which organelle is responsible for the production of insulin ?\"], [\"what are complication of numbness and <unk> and tingling ?\"], [\"which endocrine gland regulates blood sugar levels ?\"], [\"is the diabetes mellitus inherited ?\"], [\"how does nicotine increase the blood sugar level affecting diabetes ?\"], [\"could gingivitis be transmitted by kissing ?\"], [\"is diabetes a <unk> trait or not ?\"], [\"how many calories can a diabetic have a day ?\"], [\"what is a good cookie recipe for diabetics ?\"], [\"diabetes pump ?\"], [\"how are nerves affected by low blood sugar ?\"], [\"what is a pre-diabetic glucose level ?\"], [\"where are some sample menus that have diabetic recipes ?\"], [\"who discovered insulin is a treatment for diabetes ?\"], [\"which one of the following lists represents three common review types associated with an <unk> project ?\"], [\"what is <unk> ?\"], [\"name of drugs used in retinopathy ?\"], [\"can diabetes affect the eyes ?\"], [\"after following the diabetic diet guidelines , will this ensure that my diabetes will go away ?\"], [\"what dietary recommendations apply to a person with type two diabetes ?\"], [\"if one person has type one diabetes can they give to another person ?\"], [\"how many kids are diagnosed with diabetes each day ?\"], [\"if your blood sugar is low what hormone should your body produce to help with this ?\"], [\"what are the symptoms of diabetes ?\"], [\"what are the diseases caused by <unk> ?\"], [\"how does diabetes affect the urinary system ?\"], [\"is drinking beer safe for diabetics ?\"], [\"what can a lot of sugar do to you ?\"], [\"where can one purchase diabetic supplies from ?\"], [\"does eating an orange raise blood sugar ?\"], [\"what are onetouch ultra products used for ?\"], [\"what are the three main types of tissues that respond to insulin well and help lower blood glucose level ?\"], [\"what would increase insulin secretion in type ii diabetes ?\"], [\"can you drink alcohol with type one diabetes ?\"], [\"should type two diabetics use <unk> sugar ?\"], [\"what is causes high blood glucose levels ?\"], [\"what is it called when it is a diabetic emergency caused by very high blood sugar and it is treated by the <unk> administration of insulin ?\"], [\"must all diabetics check blood sugar everyday ?\"], [\"inform us of assistance for a diabetic child entering <unk> this would be in <unk> and would be to check her blood sugar levels <unk> the two hours <unk> <unk> ?\"], [\"which part of your body produce insulin ?\"], [\"why is diabetes a dominant gene ?\"], [\"how do you have know if it is a type one or type two diabetes ?\"], [\"what food contain insulin ?\"], [\"what is normal blood sugar for kids ?\"], [\"how can diabetes be detected ?\"], [\"how does diabetes mellitus affect your body ?\"], [\"does glucagon act as an electrolyte ?\"], [\"what is <unk> ?\"], [\"why does type two diabetics can not take penicillin ?\"], [\"does a patient vomit if given too much insulin ?\"], [\"insulin injection cpt code ?\"], [\"what is the average range of blood sugar levels ?\"], [\"what organs do diabetes mellitus and diabetes inspidus affect ?\"], [\"can diabetes be controlled by nutrilite protein powder ?\"], [\"are diabetes and <unk> linked ?\"], [\"can high blood sugar cause cysts ?\"], [\"what is the treatment for type one diabetes ?\"], [\"when glucose levels are above normal the pancrease secretes ?\"], [\"what is the body is response to insulin ?\"], [\"is marijuana harm full if have diabetes type two ?\"], [\"what are some things i can do to prevent diabetes ?\"], [\"is type you diabetes known as non-insulin dependent diabetes ?\"], [\"does your pee get <unk> when <unk> acid gets out of our body ?\"], [\"what is the complications of diabetes mellitus ?\"], [\"can diabetics drink orange <unk> ?\"], [\"why is diabetes so common in the us ?\"], [\"is beer or wine bad for diabetics ?\"], [\"what macromolecule is in insulin ?\"], [\"is <unk> safe for diabetes patients ?\"], [\"is gluten free good for diabetics ?\"], [\"why is blood black when the person is diabetic ?\"], [\"regular exercise may prevent the onset of what type of diabetes ?\"], [\"should an non diabetic take metformin ?\"], [\"can you get diabetes by using a needle used by a person with diabetes ?\"], [\"different drugs for different control ?\"], [\"are there any online healthy diabetic recipes for desserts ?\"], [\"who discovered how to make insulin ?\"], [\"which hormone acts antagonistically to insulin produced by the same endocrine organ ?\"], [\"what does it mean if your blood sugar level is two hundred and fifteen ?\"], [\"what effect does royal jelly have on diabetics ?\"], [\"is nph insulin cloudy ?\"], [\"what is insulin resistance ?\"], [\"why does thirsty occur with diabetes mellitus ?\"], [\"what is dibeties ?\"], [\"if you have diabetes can you have sugar ?\"], [\"where can i find a good sugar diabetes diet ?\"], [\"is fish oil bad for diabetics ?\"], [\"is it possible for you to have diabetes if no one else in your family has it ?\"], [\"is the person suffering from hypoglycemia diabetic ?\"], [\"how many times a day do you take insulin for type one diabetes ?\"], [\"which part of body does diabetes affect ?\"], [\"what is the nursing diagnosis of hyperthyroidism ?\"], [\"do kids get diabetes ?\"], [\"can you transfer diabetes sexually or through a blood <unk> ?\"], [\"who was the only person <unk> from taking a drug test at the one thousand , nine hundred and seventy two olympics ?\"], [\"what kind of disease did the <unk> spread to canada ?\"], [\"how come type two diabetes can be cured but not type one diabetes ?\"], [\"what mineral increases insulin activity ?\"], [\"did nick jonas ever have diabetes ?\"], [\"can you treat type one diabetes be treated ?\"], [\"is frequent night time urination a symptom of type two diabetes ?\"], [\"what alcohol can you drink when you have diabetes ?\"], [\"what are the effects of having type two diabetes ?\"], [\"what are some ways to manage your diabetes ?\"], [\"what is the meal plan example for people like me who are diabetic ?\"], [\"is a insulin pump for diabetics an example of medical <unk> ?\"], [\"what is pre diabetes and what are the symptoms ?\"], [\"who was a diabetic in the movie <unk> <unk> ' ?\"], [\"how much does it cost for treatment of diabetes ?\"], [\"what are the <unk> of juvenile diabetes ?\"], [\"how infection affect the body system ?\"], [\"is type one diabetes bad ?\"], [\"what is the <unk> cost for having diabetes ?\"], [\"if your blood sugar reading is two hundred and fifty five is that high ?\"], [\"can diabetic have abnormal blood work ?\"], [\"do diabetes sufferers develop a short <unk> ?\"], [\"if your <unk> sugar is too high which type of diabetes do you have ?\"], [\"is <unk> wine also good for diabetes ?\"], [\"is <unk> safe for diabetics ?\"], [\"does sex have an affect on blood sugar in a person with type two diabetes will it cause it to elevate ?\"], [\"how can i keep my blood sugar levels low ?\"], [\"where can you find out more about diabetes medicines ?\"], [\"which two physicians first insolated the hormone insulin used in treating diabetes ?\"], [\"should the word diabetes be capitalized ?\"], [\"where can one find liquid glucose ?\"], [\"what foods can be bought by poor and rich persons that can cause diabetes ?\"], [\"what is the cause for low fever ?\"], [\"can a diabetic person drink coconut water ?\"], [\"do people with diabetes have to take shots ?\"], [\"where can you find information on children is clothing in world war two ?\"], [\"what do you take <unk> for ?\"], [\"did nick jonas ever pass out on stage due to his diabetes ?\"], [\"are there free ways to find out if someone <unk> had a life insurance policy ?\"], [\"who is more likely to develop diabetes ?\"], [\"how to know if your blood sugar is getting low ?\"], [\"what is <unk> for ?\"], [\"e . coli is able to use foods other than glucose in the absence of available glucose . the falling levels of glucose cause an increase in which important component ?\"], [\"what <unk> drugs affect sugar levels ?\"], [\"which cell suffer from hypoglycemia if takes insulin overdose ?\"], [\"what are diabetics not allowed to eat ?\"], [\"what is the best sugar free <unk> to give a child on a ketogenic diet ?\"], [\"how to control diabetes ?\"], [\"what are the most important factors inside of the diabetes guidelines ?\"], [\"what test is test is performed to confirm a diagnosis of diabetes mellitus and to aid in diagnosing hypoglycemia ?\"], [\"what are the causes of gestational diabetes ?\"], [\"what sugars can you eat if you have gestational diabetes ?\"], [\"does metformin help with weight loss ?\"], [\"was it november sixteen that nick jonas learned he had diabetes ?\"], [\"can someone please help me find a healthy diabetes plan ?\"], [\"what are some tips for diabetes management ?\"], [\"what kind of doctor should a diabetic see ?\"], [\"what are the signs of decreased <unk> glucose levels ?\"], [\"where are some simple recipes found for a diabetic menu ?\"], [\"which of the following is not a common underlying cause of diabetic skin ulcers a . poor circulation b . pressure points c . neuropathy d . dermatitis ?\"], [\"what is a disease in which blood glucose levels are above normal ?\"], [\"where can you find information on diabetes nutrition ?\"], [\"diabetics and alcohol consumption ?\"], [\"what is type two diabetes ?\"], [\"is insulin the hormone that raises blood sugar levels ?\"], [\"what can happen to you if your sugar keep going <unk> three hundred you are type two ?\"], [\"how common is type ii diabetes ?\"], [\"when does a patient with diabetes insipidus begin to suffer symptoms of dehydration ?\"], [\"which of these illness is a disease in which blood sugar levels are above normal ?\"], [\"where can i get a diabetic food list ?\"], [\"is it mandatory to take insulin for a type one diabetes ?\"], [\"what is the effect of having no insulin in your body ?\"], [\"whats a good diet if you have type two diabetes ?\"], [\"meal planning for diabetes - carbs count ?\"], [\"how you can prevent diabetes ?\"], [\"what food should be avoided by a diabetic persons ?\"], [\"what does diabetes do to people ?\"], [\"will two hundred units novolin n insulin kill a person ?\"], [\"can diabetic patient eat banana ?\"], [\"why may a diabetic become thin and feel weak ?\"], [\"why must type i diabetes patients inject insulin ?\"], [\"is there a chart that shows foods that are high in protein online ?\"], [\"what do i have to know about desserts for diabetics ?\"], [\"what happens if you drink a bit of insulin ?\"], [\"blood tests for diabetes ?\"], [\"can a diabetic safely get a tattoo on leg ?\"], [\"what type of insulin is given to a patient with diabetic ketoacidosis ?\"], [\"how man people in america have diabetes ?\"], [\"what diets are effective for those with diabetes ?\"], [\"who founded that insulin is in your body ?\"], [\"what food is good for diabetic retinopathy ?\"], [\"why do diabetic people go blind ?\"], [\"why is <unk> good for diabetic people ?\"], [\"where can i find a glucose level chart online ?\"], [\"are <unk> good for diabetic ?\"], [\"who is barry gibb ?\"], [\"what can diabetics drink ?\"], [\"would you be hungrier if you had low or high glucose levels ?\"], [\"what is the relation of hypokalemia to diabetes melitus ?\"], [\"what is te ideal diet for diabetic patient ?\"], [\"does blood sugar affect <unk> and learning ?\"], [\"what do ketones have to do with diabetes ?\"], [\"what are the effects of not treating a diabetic foot <unk> ?\"], [\"why are keytones dangerous for diabetics ?\"], [\"do potato chips cause diabetes ?\"], [\"does insulin bring sugar down ?\"], [\"how much money do physicians make ?\"], [\"can you bring your blood sugar down instantly with <unk> at home ?\"], [\"could you die if you had diabetes and did not take your insulin ?\"], [\"is over the counter insulin not as good as prescription insulin ?\"], [\"does sonia sotomayor still have diabetes ?\"], [\"what do people with type one diabetes do to control their blood pressure ?\"], [\"i have been nauseous for the last couple months i will be fine one moment and the next have extreme nausea sometimes vomiting no chance of pregnancy . i am diabetic but blood sugars do not affect . ?\"], [\"what is one reason for the change in wound healing time in a diabetic is that ?\"], [\"how does blood pressure relate to the level of stress you and the other person are typically under ?\"], [\"how can diabetes be controlled by exercising ?\"], [\"what food for supper for the diabetic person ?\"], [\"should a diabetic use a sauna ?\"], [\"what is the education required to be a diabetes health counselor ?\"], [\"what should your sugar be not diabetic ?\"], [\"you have been experiencing twitching in your <unk> and thumb on your left hand for several weeks it is not painful but is very <unk> what could be causing this to happen ?\"], [\"is force factor supplement ok with diabetes ?\"], [\"what does diabetic retinopathy treatment consist of ?\"], [\"what are the cardinal symptoms of diabetes mellitus ?\"], [\"signs of diabetes ?\"], [\"what is one common type of diabetes ?\"], [\"where to get information on diabetes alert dog training ?\"], [\"what medication for diabetes is contraindication for massage to be perform ?\"], [\"what are some <unk> substances ?\"], [\"what is the prognosis for insulin resistance ?\"], [\"what is in simple english diabetic <unk> ?\"], [\"does <unk> plant really cause an diabetes ?\"], [\"what system does diabetes effect ?\"], [\"can diabetics eat chocolate ?\"], [\"how is the size of insulin <unk> ?\"], [\"what are the genes responsible for diabetes ?\"], [\"how does low sugar affect eyesight ?\"], [\"are increased thirst , hunger and loss of weight good reason to be concerned about high blood sugar ?\"], [\"name of disorder of diabetes ?\"], [\"are there any <unk> recipes specifically for diabetic people ?\"], [\"what is a <unk> for pedicure ?\"], [\"how does insulin regulate blood sugar levels ?\"], [\"what is the role of the diet and exercise in the controlling of hypertension and diabetes ?\"], [\"where can you get help for diabetes ?\"], [\"can you pierce year ears if you have diabetes ?\"], [\"why are your ball tingling ?\"], [\"what are the types of <unk> disorder ?\"], [\"how often should a person have their sugar levels checked ?\"], [\"should a diabetic eat fresh mango ?\"], [\"what is a diabetes specialist nurse is code of practice ?\"], [\"what is the safe blood sugar level for an adult male fifty eight years old ave ?\"], [\"how many people die from type two diabetes each year world wide ?\"], [\"what is the recommended diet for treatment and/or prevention of diabetic neuropathy ?\"], [\"what does diabetes mean ?\"], [\"can you die from <unk> ?\"], [\"how do you give yourself type one diabetes ?\"], [\"is there an informational source online for diabetes in children ?\"], [\"is there any book that has special diets for diabetics ?\"], [\"what are some safe dessert alternatives when following a diabetic diet ?\"], [\"does type two diabetes mellitus have autoimmune destruction of beta cells in pancreas ?\"], [\"is eleven point one high for a diabetic ?\"], [\"how does a type one diabetic become insulin resistance ?\"], [\"diabetes exercise ?\"], [\"what are the two types of diabetes and how do they differ ?\"], [\"who can suffer form diabetes ?\"], [\"will <unk> health <unk> cover the cost of diabetic supplies ?\"], [\"why is injecting insulin an essential part of the daily regime for most people with diabetes ?\"], [\"how many grams of sugar should you limit yourself daily ?\"], [\"to what group are olives <unk> in food exchange lists ?\"], [\"is strawberry good for diabete ?\"], [\"what are foods for a diabetic to avoid ?\"], [\"what are the signs of diabetic peripheral neuropathy ?\"], [\"can diabetes prevent surgery ?\"], [\"does having diabetes affect the healing of genital herpes ?\"], [\"why would insulin not bring down a high sugar reading ?\"], [\"in gestational diabetes <unk> a medicine of mother tincture safe in pregnancy ?\"], [\"how do you manage diabetes ?\"], [\"how much pizza can you have when you have diabetes type two ?\"], [\"what parts of the world are affected by diabetes ?\"], [\"what are some good tasting diabetic recipes ?\"], [\"do carbohydrates cause fatigue ?\"], [\"is it okay for a diabetic to eat cheese ?\"], [\"do you have pre-diabetes fasting glucose tests range from ninety eight to one hundred and fourteen ?\"], [\"diabetes guidelines ?\"], [\"what gland is responsible for diabetes insipidus ?\"], [\"is there a surgery for type two diabetes to temporarily stop the need of insulin ?\"], [\"what does it mean if you have low grade fever for a weak ?\"], [\"who of ten people who has diabetes ?\"], [\"what happens if a person is unable to regulate his or her blood sugar ?\"], [\"what are diabetes effects on the body ?\"], [\"how long do type two diabetics live ?\"], [\"can diabetics be doctors ?\"], [\"when was the recent world diabetes day celebrated ?\"], [\"safe diabetic diet plans ?\"], [\"what parts of the human body is affected by diabetes ?\"], [\"is there any side effects of paneer ka phool on diabetes patient ?\"], [\"which type of diabetes is sometimes referred to as juvenile diabetes ?\"], [\"does drinking coffee lower blood sugar ?\"], [\"is feeling sick in the morning a symptom of diabetes ?\"], [\"what type of food are diabetics meant to eat ?\"], [\"does vitamin e raise blood sugar ?\"], [\"what is caused by the body is inability to produce or properly use insulin ?\"], [\"how do people with type two diabetes look ?\"], [\"can the same diet plan be used for type one and type two diabetes ?\"], [\"is seventy a good blood glucose level ?\"], [\"does herbs actually help diabetes ?\"], [\"does a molecule of starch have more stored energy than a glucose molecule and why ?\"], [\"is there a list of foods for type two diabetics ?\"], [\"effect of high blood sugar on body ?\"], [\"in what year was insulin first used to treat diabetes ?\"], [\"what in the urine would indicate diabetes ?\"], [\"what type of fermentation takes place in your muscles when you exercise vigorously ?\"], [\"what is a good diabetes recipe ?\"], [\"how do you control sugar level in a diabetic child ?\"], [\"what is a good resource to use to obtain a diabetic diet sheet ?\"], [\"what is the nursing diagnosis for <unk> ?\"], [\"should a person who is already a insulin dependent diabetic start seroquel <unk> fifty mg ?\"], [\"what are some diabetic supplements for people with diabetes ?\"], [\"how many hours should you fast before taking your diabetes test ?\"], [\"should diabetics eat carb ?\"], [\"what resistance leads to hyperglycemia and ketoacidosis ?\"], [\"what organs do type two diabetes affect ?\"], [\"how is exercise related to diabetes ?\"], [\"can diabetes supplies be ordered online ?\"], [\"what are some high blood sugar symptoms ?\"], [\"what is a normal blood sugar ?\"], [\"what type of natural sugar will not spike insulin levels ?\"], [\"what should you do if you have type one diabetes and have your recommended level of sugar yet still feel low on energy ?\"], [\"can the <unk> have diabetes ?\"], [\"how can a person make sure their blood sugar is at a normal level ?\"], [\"is dates good for diabetic patient ?\"], [\"how do <unk> treat diabetes ?\"], [\"what are the best drinks to lower blood sugar levels ?\"], [\"what is the cause of constant fatigue ?\"], [\"what kinds of foods can i incorporate into a borderline diabetic diet ?\"], [\"are there any diabetes treatments that do not require conventional medicine ?\"], [\"are you a diabetic if your test result is glucose ac five point six and glucose pc <unk> <unk> ?\"], [\"teens with diabetes can eat sugar sweets and deserts ?\"], [\"what are the best ways of controlling diabetes ?\"], [\"is the cabbage soup seven day diet good to go on with diabetes ?\"], [\"where can someone purchase diabetic cookbooks ?\"], [\"do diabetic people need to smoke ?\"], [\"is the gold side of test strips for diabetic testing made out of gold ?\"], [\"what happens when people get type two diabetes ?\"], [\"how old can you be to have diabetes ?\"], [\"what type of diabetes is it if it runs in the family ?\"], [\"what can <unk> a doctor that you might have diabetes ?\"], [\"which gland fails to produce enough of its hormone in the disease diabetes mellitus ?\"], [\"how do you diagnose diabetes mellitus ?\"], [\"does ham effect blood sugar ?\"], [\"is it normal to be high on sugar ?\"], [\"how many units of insulin are in a normal vial ?\"], [\"can type one diabetes be transferred ?\"], [\"is <unk> safe for diabetics ?\"], [\"what dietary supplements can be taken to help reduce diabetes ?\"], [\"which groups of people are high at becoming diabetic why is this ?\"], [\"is there help for diabetic cold no feeling feet ?\"], [\"where can i find something to check my blood glucose levels ?\"], [\"could low high blood sugar be making you very tired immediately after you eat ?\"], [\"how can <unk> smoking affect the sugar level of a diabetic person ?\"], [\"what are the average blood sugar levels in a twenty three year old female ?\"], [\"can the sugar <unk> <unk> cause diabetes ?\"], [\"why diabetes is a government health priority ?\"], [\"what causes nausea frequent urination and fatigue ?\"], [\"what are two hormones that regulate blood sugar ?\"], [\"what should a diabetic person do ?\"], [\"what is a high blood sugar level ?\"], [\"what happens if you eat too many sugar ?\"], [\"how do i identify the symptoms of diabetes ?\"], [\"can you wean yourself off of insulin ?\"], [\"what is dm diabetes mellitus ?\"], [\"how is insulin administered ?\"], [\"how do you get diabetes in your life ?\"], [\"what test is used to diagnosis of diabetes mellitus ?\"], [\"where can i find a sample diabetic diet ?\"], [\"what are two symptoms of diabetes mellitus ?\"], [\"why would a diabetic need an insulin shot ?\"], [\"what naturally causes your blood sugar levels to increase ?\"], [\"diabetes is caused due to malfunctioning of ?\"], [\"what are some really good <unk> recipes for deserts ?\"], [\"what is the best diet for a person with diabetes ?\"], [\"would a pregnant diabetic woman have diabetic babies ?\"], [\"what is an effective way to reduce risk of heart disease cancer diabetes and other serious illnesses ?\"], [\"guinea pig weight loss ?\"], [\"can a seizure seem similar to a diabetic hypoglycemic reaction combined with a few seconds of unconsciousness ?\"], [\"how many people are diagnosed with diabetes each day ?\"], [\"what are types of diabetes ?\"], [\"can too much insulin kill you ?\"], [\"this is an odd question but does glucose have any other <unk> or jobs in the <unk> other than a food or fuel for metabolism ?\"], [\"what does a low blood glucose level indicate ?\"], [\"what is grade two <unk> ?\"], [\"high concentrations of <unk> in the blood are associated with the development of ?\"], [\"in the one thousand , nine hundred and twenty <unk> physician <unk> <unk> treated drug addiction by <unk> <unk> comas through <unk> of what <unk> drug ?\"], [\"how do i prevent developing diabetes ?\"], [\"what research has been done on <unk> ?\"], [\"what meals ready to eat would be appropriate for diabetics ?\"], [\"what are medications that people with diabetes take ?\"], [\"if i have diabetes type two when should i take my blood sugar levels ?\"], [\"is there a cure for diabetes type two coming up <unk> soon ?\"], [\"what is the chance of getting type one diabetes ?\"], [\"is diabetes a <unk> disease ?\"], [\"can diabetes be detected before the symptoms appear diabetes mellitus ?\"], [\"can a husband is diabetes be the cause of a miscarriage ?\"], [\"what are symptoms of a diabetic foot ?\"], [\"what exactly is a diabetic recipe ?\"], [\"can people with diabetes eat proteins ?\"], [\"what is the best diet to follow if you have type two diabetes ?\"], [\"what would a diabetics diet menu consist of ?\"], [\"where does insulin get injected ?\"], [\"can you lose your fertility from diabetes ?\"], [\"what is diabetes best characterized by ?\"], [\"is honey good for diabetes ?\"], [\"if you are fifteen and have type one diabetes can you die ?\"], [\"what is the importance of foot care and cleaning for people with diabetes ?\"], [\"can the loss of an appendix cause diabetes ?\"], [\"how many children in the us have type two diabetes ?\"], [\"is lettuce good for diabetic ?\"], [\"how does a healthy person is body respond to sugar entering the blood ?\"], [\"what groups of women get diabetes more often ?\"], [\"is brand better in diabetic insulin ?\"], [\"what if your diabetic client asks you to fill a syringe with her morning dose of insulin what should you do ?\"], [\"how long does it take for fruit to raise blood sugar level ?\"], [\"why is <unk> needed for men with diabetes ?\"], [\"is type one diabetes contagious ?\"], [\"does diabetes cause loss of <unk> in dogs ?\"], [\"why some foods may taste sweet but have very little glucose ?\"], [\"where are the ribosomes that manufacture proteins for transport out of the cell located ?\"], [\"why is it difficult for type one diabetics to lose weight ?\"], [\"ayurveda medicine for diabeties ?\"], [\"who discovered type one diabetes ?\"], [\"what are some diabetes diets ?\"], [\"what should you do if you have most of the symptoms of diabetes ?\"], [\"what is diabetes gangrene ?\"], [\"is there a list of foods that can lower diabetes risk ?\"], [\"blood sugar levels are lowered by ?\"], [\"what is a diabetic exchange diet ?\"], [\"what system is causes by diabetes mellitus ?\"], [\"can the diabetic exchange diet be used by teenagers ?\"], [\"how do you use paneer booti ?\"], [\"what effect does eating have on blood glucose level ?\"], [\"what is a noninfectious disease in which the body secretes too little insulin ?\"], [\"is cereal suitable for diabetic patient ?\"], [\"diabetes diets ?\"], [\"how do you keep sugar levels for diabetes regulated ?\"], [\"how many grams of sugar are allowed for an adult with type two diabetes ?\"], [\"actually you have diabetes last three years now you feel duration sex your timing is very short please advise you how you increase your timing ?\"], [\"can diabetics use <unk> <unk> ?\"], [\"what happens if you inject too much insulin ?\"], [\"what two factors mainly influence <unk> precipitation ?\"], [\"what levels of blood glucose indicates diabetes ?\"], [\"should a diabetic eat <unk> nuts honey etc . ?\"], [\"why do diabetics have to eat carbohydrates ?\"], [\"what are some recipes for sweets other than diabetic cakes ?\"], [\"what happened when low blood sugar is detected ?\"], [\"is type two diabetes hereditary ?\"], [\"can a type two diabetic be a <unk> <unk> ?\"], [\"how is retinopathy diagnosed ?\"], [\"what does diabetes do to the body ?\"], [\"what research has been done on <unk> <unk> ?\"], [\"if i have diabetes can i have fruit ?\"], [\"what is the normal range of blood sugar ?\"], [\"can you lose your hands and fingers due to diabetes ?\"], [\"can eating to much honey cause you to become diabetic ?\"], [\"what is the scientific name for glucose ?\"], [\"what is type one diabetes ?\"], [\"is stevia ok for diabetic ?\"], [\"what happens to someone who has diabetes ?\"], [\"do the consumption of apricot increase sugar levels ?\"], [\"why would you take <unk> for diabetes insipidus ?\"], [\"how does <unk> starts in a diabetic patient ?\"], [\"what is considered and good low and high blood sugar ?\"], [\"how fast do sleeping pills work ?\"], [\"where can i find out more about diabetic menu ?\"], [\"can water melon can be eaten by diabetic ?\"], [\"can a child with diabetes receive social security benefits ?\"], [\"can smoking cigarettes increases the sugar levels ?\"], [\"what causes urine specific gravity to be high ?\"], [\"what does <unk> mean on <unk> check glucose meter for diabetes ?\"], [\"diabetes mellitus is a disorder caused by malfunction of the ?\"], [\"is diabetes mellitus a chronic disease ?\"], [\"what does insulin do to blood glucose levels ?\"], [\"does iodine lower blood sugars ?\"], [\"what are lancets used for ?\"], [\"is blood that was drawn an hour and half before <unk> true readings for sugar ?\"], [\"you are a diabetic can you still eat potatoes ?\"], [\"when is the best time to test blood glucose levels ?\"], [\"if your dad has diabeties will you get it ?\"], [\"which type of sugar is found in your blood ?\"], [\"how common is diabetes type one ?\"], [\"does diabetes cause emotional symptoms ?\"], [\"how many people have diabetes in the world ?\"], [\"what is the contact information for the american diabetes association ?\"], [\"can you get type a diabetes by dirty hands ?\"], [\"what age can you die of diabetes ?\"], [\"who are at risk for diabetes ?\"], [\"how does diabetes cause ?\"], [\"is fruit good for diabetics ?\"], [\"is <unk> <unk> herbs is suitable for me because i am looking chinese herbs for my grand mother is diabetes ?\"], [\"what is the substance that increases urine of untreated diabetic ?\"], [\"how does doda paneer help in diabetes ?\"], [\"was insulin first used in the treatment of diabetes in one thousand , nine hundred and twenty two one thousand , nine hundred and fifty two or one thousand , nine hundred and eighty two ?\"], [\"why do diabetics develop itching arms ?\"], [\"where can i find some diabetic cookie recipes ?\"], [\"what are some foods for a diabetic ?\"], [\"how does a person with type one diabetes monitor their blood glucose levels ?\"], [\"can type one diabetes be treated with tablets ?\"], [\"what kinds of vegetables can a diabetic eat ?\"], [\"what will happen to your health if you eat too much chocolate ?\"], [\"can taking drugs turn a type two into a type one ?\"], [\"why does a diabetic crave milk ?\"], [\"what is released after your blood sugar level is too high ?\"], [\"what is the disease that results from lack of insulin ?\"], [\"what research has been done on <unk> ?\"], [\"what sugar is in your urine ?\"], [\"are banana good for diabetic ?\"], [\"what are the symptoms that <unk> between type i and type ii diabetes ?\"], [\"is nine point nine glucose reading high ?\"], [\"what are the release dates for project not me diabetes prevention - two thousand and twelve <unk> <unk> ?\"], [\"how many types of diabetes are there ?\"], [\"was insulin first used in the <unk> of diabetes in one thousand , nine hundred and twenty two or one thousand , nine hundred and fifty two or one thousand , nine hundred and eighty two ?\"], [\"can a diabetic have novacaine for a root <unk> ?\"], [\"does sugar raise blood sugar ?\"], [\"can you have sugar with type two diabetes ?\"], [\"do all diabetics require insulin ?\"], [\"what are the advantages of blood glucose monitoring ?\"], [\"why does blood sugar not go to <unk> ?\"], [\"what is normal range for oral glucose challenge test ?\"], [\"can diabetes make your urine smell ?\"], [\"how many diagnosed diabetes patients are not on medication ?\"], [\"will bypass two slim ball interact with diabetes medications ?\"], [\"what is the youngest age to be diagnosed with diabetes ?\"], [\"<unk> prediabetes early ?\"], [\"what type of effect does <unk> have on diabetes ?\"], [\"what changes does a person have to make if she or he is diagnosed with diabetes ?\"], [\"can you recover from diabetes ?\"], [\"does type one diabetes affect personal relationships ?\"], [\"is there any help for diabetic ed in a man that can not take <unk> and shots dont work well ?\"], [\"why diabetes causes kidney damage ?\"], [\"what is found in the urine of diabetics ?\"], [\"is fruits containing sugar bad for diabetic patients ?\"], [\"what is the most serious type of diabetes ?\"], [\"when was the first insulin injection given ?\"], [\"what types of food do diabetics receive through services ?\"], [\"what are the release dates for a day in the life of a diabetic - two thousand and ten ?\"], [\"what is a bolus used for in medicine ?\"], [\"is there affordable diabetic supplies available for medicare patients ?\"], [\"what color would your urine be if you had diabetes ?\"], [\"how do you reduce aggregation and inactivation by recombinant insulin ?\"], [\"what happens when a cell have too few insulin ?\"], [\"what is a good carbohydrate <unk> for a person with type two diabetes ?\"], [\"who was <unk> <unk> ?\"], [\"what are some target blood sugars for a diabetic ?\"], [\"what is the normal blood sugar level for a thirteen year old ?\"], [\"can i find any online cookbooks for diabetics ?\"], [\"can diabetics take <unk> <unk> ?\"], [\"is one hundred and twenty eight high for a glucose reading ?\"], [\"what are the predisposing factors in gestational diabetes mellitus ?\"], [\"how do you catch type one diabetes ?\"], [\"one plasma blood glucose is higher than whole blood glucose by what percentage ?\"], [\"how much is six units of insulin for a diabetic ?\"], [\"how does the body absorb glucose ?\"], [\"how can dark chocolate help diabetics ?\"], [\"can you have surgery to fix <unk> i had <unk> surgery to avoid infections because of diabetes but i did not think they were going to give me a nut <unk> also i lost about an inch ?\"], [\"what medical conditions cause hands and feet to fall asleep ?\"], [\"what are the types of insulin ?\"], [\"what is a good cookbook for diabetics ?\"], [\"what happens to a baby whose mother has gestational diabetes and does not get it under control ?\"], [\"can diabetes be prevented ?\"], [\"how do you keep your weight and blood sugar down when you have diabetes ?\"], [\"diabetic foot pain ?\"], [\"what gene and chromosome causes diabetes ?\"], [\"why is insulin <unk> ?\"], [\"does <unk> raise blood sugar levels ?\"], [\"serve diabetes food at <unk> parties ?\"], [\"what does <unk> and insulin do to sugar ?\"], [\"why is beer good ?\"], [\"how <unk> to eat banana for a diabetes patient ?\"], [\"does high blood sugar effect male sexual performance ?\"], [\"can diabetics eat rice ?\"], [\"what are signs of your cat having diabetes ?\"], [\"is it safe to take <unk> if you have diabetes ?\"], [\"what are some foods to help diabetics control glucose levels ?\"], [\"can exercise and diet reverse diabetes ?\"], [\"what to eat if you have diabetes type two ?\"], [\"what exactly is a diabetes diet ?\"], [\"is noni good for the body ?\"], [\"what are three classic signs of hyperglycemia ?\"], [\"saving money on testing and diabetes supplies ?\"], [\"is there a diabetic meal plan that is easy to use when you are away from home ?\"], [\"how far has research come for a cure for diabetes ?\"], [\"can <unk> cause tingling on head ?\"], [\"how can i maintain my blood sugar level with diabetes ?\"], [\"how can <unk> affect you ?\"], [\"what does insulin do to blood glucose ?\"], [\"are there diabetic <unk> ?\"], [\"which kill you faster diabetes or lung cancer ?\"], [\"what is ketosis ?\"], [\"how do you check if i am diabetic ?\"], [\"how can you gain weight if you are a diabetic ?\"], [\"is swollen ankles a symptom of diabetes ?\"], [\"how do you cater for special dietary such as <unk> and diabetes ?\"], [\"how do you get diabetes two ?\"], [\"should a non-diabetic follow a diabetic diet menu ?\"], [\"what is leptin secreted by ?\"], [\"is diabetes mellitus contagious ?\"], [\"what are some quick diabetes recipes ?\"], [\"do you need to do a fasting blood sugar for a rapid plasma <unk> test ?\"], [\"if your grandma had diabetes and it runs in your <unk> side of the family will you get it ?\"], [\"what are uses of insulin ?\"], [\"what is the normal blood sugar level for diabetes ?\"], [\"can you get so many insulin injections that your diabetes is cured ?\"], [\"what are side effects from insulin ?\"], [\"what are some medical terms <unk> to diabetes ?\"], [\"what is home remedies for blood sugar patient ?\"], [\"can eating too much fruit cause diabetes ?\"], [\"can insulin raise blood sugar levels ?\"], [\"how old was nick jonas when he found out he had diabetes ?\"], [\"what research has been done on diabetes mellitus ?\"], [\"canadian scientist who <unk> insulin ?\"], [\"what are the effects of diabetes ?\"], [\"how is commercial insulin prepared ?\"], [\"where should i go when i see symptons related to diabetes ?\"], [\"do kids get type two diabetes more than adults ?\"], [\"why would a person with ketoacidosis have the following heavy breathing polydipsia and tachycardia ?\"], [\"how do you get diabetes mellitus ?\"], [\"are salt water pools safe for diabetes ?\"], [\"do you have diabetes ?\"], [\"does vodka cause diabetes ?\"], [\"how does diabetes mellitus complicate into diabetes ketoacidosis ?\"], [\"type one and type two diabetes ?\"], [\"is diabetes a risk factor for older teachers ?\"], [\"diabetes in pregnancy ?\"], [\"what is the awareness color for juvenile diabetes ?\"], [\"if a patient is blood sugar is to low they may go into a diabetic coma ?\"], [\"what are the physiological effects of diabetes ?\"], [\"how many cup of rice a day you can eat if you are a diabetic ?\"], [\"how much <unk> less insulin will the body produce prior to having diabetes ?\"], [\"what is <unk> diabetes mellitus ?\"], [\"what kind of supplies do diabetic is use ?\"], [\"why do you have to use insulin when you have diabetes ?\"], [\"what race is most likely to get diabetes ?\"], [\"what fruit is good for gout and diabetes ?\"], [\"how was insulin made before scientists produced it with bacteria ?\"], [\"can diabetes be passed on to your baby ?\"], [\"what treatment is available for high blood plasma ?\"], [\"how to eat to best control diabetes ?\"], [\"<unk> , pain in the ?\"], [\"why polydipsia in diabetes type one ?\"], [\"en do the symptoms of the type one form of <unk> disease appear ?\"], [\"where can one find medical supplies for someone who is diabetic ?\"], [\"what causes tingling in left hand fingers ?\"], [\"can a insulin diabetic type two live without insulin ?\"], [\"kids with diabetes ?\"], [\"what fish is best for type two diabetics ?\"], [\"do bananas increase blood sugar ?\"], [\"is borderline diabetes also known as type two ?\"], [\"how are obesity and type two diabetes connected ?\"], [\"can diabetic eat <unk> ?\"], [\"what is insulin and why does your body need it ?\"], [\"what foods cant you eat with type two diabetes ?\"], [\"why would there be a high glucose content after eating ?\"], [\"what are uncommon symptoms of diabetes ?\"], [\"does to much intake of sugar causes diabetes ?\"], [\"should a five foot twelve year old girl weigh eighty four pounds ?\"], [\"where can i <unk> a diabetic meal planner ?\"], [\"how much the apparatus for blood sugar test ?\"], [\"what does three point zero to seven point zero mean in blood sugar ?\"], [\"is diabetes the only thing that causes high blood sugars ?\"], [\"what diagnostic tests are used to confirm diabetes ?\"], [\"what is the purpose of insulin ?\"], [\"explain the effect on blood sugar levels if insulin receptors stopped working ?\"], [\"how would you modify your diet if you had diabetes ?\"], [\"is diabetes a virus or bacteria ?\"], [\"what are some of the increased risks that diabetics face ?\"], [\"if a diabetic is sweating profusely , are they experiencing high or low blood sugar ?\"], [\"what would you say about a1c range ?\"], [\"i an a unusually case i have try several type of medicine for my diabete can not regulate my blood sugar i need help ?\"], [\"what is the best way to deal with a family who will not stop bringing home things that a diabetic can not eat ?\"], [\"is a five % a1c range healthy what is the normal range ?\"], [\"what do people with diabetes eat ?\"], [\"how can type one and type two diabetes be different if they both cause the same problem - glucose being unable to be <unk> from the bloodstream into cells ?\"], [\"can you tell me where to find a menu planner for diabetics ?\"], [\"looking for advice about a a new dietary regiment of breakfast . ?\"], [\"how much liquor does it take to kill a diabetic ?\"], [\"can <unk> constipation affect blood glucose levels ?\"], [\"how does diabetes affect vision ?\"], [\"can glucometers go through <unk> screening ?\"], [\"how does diabetes affect people ?\"], [\"is type two diabetes <unk> than type one ?\"], [\"what processes in the body are not functioning correctly in a patient with diabetes ?\"], [\"can a diabetes person live to seventy year ?\"], [\"what is a bone marrow biopsy ?\"], [\"what is the normal range in a blood <unk> test ?\"], [\"who was the first diabetic ?\"], [\"can you see diabetes insipidus in preterm infants ?\"], [\"why is insulin injected ?\"], [\"what research has been done on <unk> ?\"], [\"what are some methods of diabetes control ?\"], [\"how does insulin travel around the body ?\"], [\"can diabetes insipidus be as dangerous as diabetes mellitus ?\"], [\"diabetes symptoms ?\"], [\"what are some diabetes guidelines to follow in order to stay healthy ?\"], [\"what is release when blood sugar levels fall ?\"], [\"what is the national <unk> for diabetes ?\"], [\"can diabetics eat liver ?\"], [\"how do doctors test for diabetes ?\"], [\"what to do when you have diabetes ?\"], [\"what test is used for the diagnosis of diabetes mellitus ?\"], [\"does diabetes affect male sexual performance ?\"], [\"what are the best diets for diabetic ?\"], [\"are you <unk> good for glaucoma patients ?\"], [\"when was type one diabetes discovered ?\"], [\"how long does insulin last in your <unk> ?\"], [\"how many grams of sugar can be consumed by a diabetic in one day ?\"], [\"can <unk> in drinking water cause diabetes ?\"], [\"what is the best healthy pregnancy diet for women who are suffering from gestational diabetes ?\"], [\"what is the difference between humulin insulin and <unk> insulin ?\"], [\"is it a higher possibility for you to get diabetes if two family members on your <unk> side have sugar diabetes ?\"], [\"can a diabetic eat cake ?\"], [\"how are the lives of a person with type one diabetes the same ?\"], [\"both of my <unk> toes have been numb for three days help ?\"], [\"are you born with type one diabetes ?\"], [\"what research has been done on saw <unk> ?\"], [\"what are diabetic foot infections ?\"], [\"if i follow a pre diabetes diet will i stay healthy and steer clear of diabetes ?\"], [\"learn to lose weight and avoid diabetes ?\"], [\"does high sugar cause kidney problems ?\"], [\"which is the best insulin pen available in the market ?\"], [\"<unk> easy explain how glucagon and insulin work together to maintain a relatively constant blood sugar level ?\"], [\"can a cdl <unk> in florida still drive if he is a diabetic using insulin ?\"], [\"if a twin has diabetes do they both have it ?\"], [\"male diabetic patient type one can have babies ?\"], [\"difference between insulin dependent diabetes and non insulin independent diabetes ?\"], [\"what makes sweets makes your blood sugar high ?\"], [\"where can i find a list of food for a diabetic ?\"], [\"in what region of the body is the storage of excess body fat associated with highest risks for cardiovascular disease and diabetes ?\"], [\"what happens with blood sugar level of four hundred and eighty ?\"], [\"how does glucagon cause hyperglycemia ?\"], [\"how does a <unk> light and diet coke effect a type two diabetic ?\"], [\"how can you recognize diabetes ?\"], [\"is a <unk> vita tab any person eat it ?\"], [\"what are some of the major diabetes symptoms a health care worker should look for ?\"], [\"does exercise help lowering sugar levels in type one diabetes ?\"], [\"what is it like to have diabetes ?\"], [\"can celiac suffers eat butter ?\"], [\"is cinnamon good for diabetic people on a diet ?\"], [\"blood urea nitrogen range ?\"], [\"where can i find out more about diabetic cooking ?\"], [\"where can someone buy a diabetes meter ?\"], [\"blood glucose levels normal range is ?\"], [\"what do people have that can not regulate sugar level in their blood properly ?\"], [\"which hormone is not produced properly in diabetics ?\"], [\"how does blood transport glucose to the cells ?\"], [\"how is insulin produced in genetic engineering ?\"], [\"why is a person with diabetes often hungry ?\"], [\"should someone who is diabetic eat <unk> oranges ?\"], [\"getting the right balance of sugar ?\"], [\"what herb reduces blood sugars ?\"], [\"can borderline diabetics drink ensure ?\"], [\"what is a good list of foods a diabetic should avoid ?\"], [\"is it dangerous taking the <unk> if you are not diabetes ?\"], [\"what is the normal value of random blood sugar ?\"], [\"does eating <unk> lower your blood sugar ?\"], [\"diabetic grocery list ?\"], [\"diabetes hypo and hyper what are they ?\"], [\"free diabetic cookbooks ?\"], [\"can diabetics eat orange ?\"], [\"what are good methods of diabetes prevention ?\"], [\"why do some people not produce or properly use insulin ?\"], [\"where is type two diabetes commonly found ?\"], [\"what are the symptoms of hyperglycemia ?\"], [\"name of dog diabetes ?\"], [\"what are some examples of a diabetic meal plan ?\"], [\"what normal level of glucose in human blood ?\"], [\"do diabetics develop a bad <unk> ?\"], [\"where is glucagon in your body ?\"], [\"what the best diet for type two diabetes ?\"], [\"why do some athletes take glucose tablets before their races ?\"], [\"can sodas cause diabetes ?\"], [\"why is protein <unk> needed in diabetes ?\"], [\"is one hundred and sixty glucose level dangerous after meal ?\"], [\"what do you do when a diabetic has sudden low blood sugar ?\"], [\"how can diabetic people avoid diabetic complications ?\"], [\"ten units of inslin is how many cc ?\"], [\"who <unk> if nick is the only one with diabetes in his family ?\"], [\"why do i always have low blood sugar but am not diabetic and eat all of the time ?\"], [\"what research has been done on red yeast rice extract ?\"], [\"how is gestational diabetes diagnosed ?\"], [\"what is the other name of diabetes mellitus ?\"], [\"what is a safe amount of carbohydrates when you have gestational diabetes ?\"], [\"what is a prediabetes diet ?\"], [\"what is the ability of the human body to keep blood-sugar levels within a fairly narrow range despite the intake of meals high in carbohydrates an example of ?\"], [\"do any other of the jonas brothers have diabetes besides nick ?\"], [\"what are signs and symptoms for diabetic coma ?\"], [\"can you control type two diabetes by simply not eating any sugar or carbs ever ?\"], [\"is ther any way to find more information about diabetes and diet ?\"], [\"how much sugar is in a can of <unk> ?\"], [\"what is a normal sugar level for twenty year old ?\"], [\"where do you go to find out you have diabetes ?\"], [\"where can you find diet plans ?\"], [\"do most diabetic cake recipes use splenda or sweet n low ?\"], [\"is centrum silver safe for diabetics ?\"], [\"what part of the body does diabetes affect ?\"], [\"what is caused from lack <unk> fruits ?\"], [\"do you have to take medication for diabetes ?\"], [\"what gland is associated with diabetes ?\"], [\"does glycosuria not occur in diabetes insipidus ?\"], [\"what are the symptoms of type one and type two diabetes ?\"], [\"how to reverse diabetes ?\"], [\"is it nick jonas diabetic ?\"], [\"diabetes mellitus is a disease that occurs when the body either can not produce the hormone insulin or produces an insufficient amount of insulin . the disease is caused by a <unk> in the system . ?\"], [\"is there a blood sugar chart based on age ?\"], [\"relationship of fiber with diabetes type two ?\"], [\"how often should you take blood sugar ?\"], [\"if you have diabetes does that mean you have high blood sugar ?\"], [\"how do you diagnose diabetes ?\"], [\"is it safe to kiss a diabetic ?\"], [\"what are the two types of diabetes mellitus ?\"], [\"how can you tell that you have diabetes if you did not have it before ?\"], [\"what are some diets for <unk> with high blood sugar levels ?\"], [\"can lactulose be given to diabetics ?\"], [\"can a diabetic individual take <unk> ?\"], [\"how can genetic engineering be used to treat diabetes ?\"], [\"normal blood sugar level for type two diabetes ?\"], [\"how is a diagnosis of diabetes mellitus confirmed ?\"], [\"what foods are safe for diabetic dogs ?\"], [\"can diabetic people eat dates ?\"], [\"what types of food should diabetics avoid . ?\"], [\"what is the healthiest and <unk> diabetic pound cake recipe ?\"], [\"are there any diabetic weight loss programs in the <unk> <unk> area ?\"], [\"can a <unk> <unk> have diabetes ?\"], [\"what can be the causes of a sore not healing ?\"], [\"where can i find more information on vitamins for diabetics ?\"], [\"which two hormones can correct hypoglycemia ?\"], [\"how do you get tested for type three diabetes ?\"], [\"does fruit raise blood sugar ?\"], [\"in metabolic <unk> does the <unk> decreases ?\"], [\"what is the relation between diabetes and blood sugar ?\"], [\"can mental illness be considering the same as having diabetes ?\"], [\"what is an ideal diet for a diabetic ?\"], [\"what are some very facts about type two diabetes ?\"], [\"why do the diabetic patients have more urine excretion ?\"], [\"how do you inject insulin ?\"], [\"can you die from <unk> <unk> ?\"], [\"when someone dies of a diabetic seizure what do they look like in detail please ?\"], [\"what is the signs and symptoms of diabetes ?\"], [\"where can i find more information about diabetic food charts ?\"], [\"diabetic recipes ?\"], [\"diabetic test strips ?\"], [\"what hormone increases blood sugar levels ?\"], [\"are there any recipes for the diabetic ?\"], [\"how do you differentiate diabetes mellitus from diabetes insipidus ?\"], [\"is weight loss a clinical symptom of type one diabetes ?\"], [\"where can someone purchase discount diabetic supplies ?\"], [\"what are the causes of diabetes mellitus ?\"], [\"some kinds of diabetes ?\"], [\"type ii diabetes is known as non-insulin dependent diabetes ?\"], [\"what is the normal blood glucose levels for a healthy person ?\"], [\"what does blood sugar <unk> mean ?\"], [\"can a diabetic eat orange ?\"], [\"what is a reputable diabetic cookbook to purchase online ?\"], [\"where can i get a sugar free fudge recipe ?\"], [\"what can uncontrolled diabetes lead to ?\"], [\"what is correlation between bone density test and hypoglycemia ?\"], [\"when you eat sugar does it turns <unk> glucose which turns into fat ?\"], [\"what does the code <unk> mean on an medtronic mini med insulin pump ?\"], [\"can diabetes affect the feet ?\"], [\"does <unk> <unk> plants good for high blood and diabetic person ?\"], [\"what are type one diabetes ?\"], [\"is bread good for diabetic patients ?\"], [\"what are three foods that are high in sugar ?\"], [\"what is a diabetic comma ?\"], [\"what is diabetes and how is it treated ?\"], [\"can a obese diabetic regain strength of her weak thin legs by exercise ?\"], [\"where in a cell are enzymes produced ?\"], [\"can low blood sugar make you vomit ?\"], [\"what should you do if you take metformin and have a blood sugar level of two hundred and five ?\"], [\"do <unk> urine states that you a diabetic ?\"], [\"where to get some diabetic testing supplies ?\"], [\"how does type two diabetes impact the body over extended periods of time ?\"], [\"is it discrimination if you has type one diabetes for the department of <unk> to not <unk> you ?\"], [\"can artificial sweeteners raise a diabetic is blood sugar ?\"], [\"what low blood sugar level will cause a seizure ?\"], [\"what is normal blood sugar and how can one get this ?\"], [\"abnormally low concentration of glucose in the blood ?\"], [\"what can you tell me about diabetic sugar levels ?\"], [\"is diabetes an example of hypersecretion hyposecretion or receptor problem ?\"], [\"what is known about <unk> for diabetics ?\"], [\"your blood sugar is one hundred and eleven without eating and you just <unk> from a cruise do you have diabetes ?\"], [\"does insulin make glucose ?\"], [\"is sugar apple good for diabetics ?\"], [\"how many people in <unk> have diabetes ?\"], [\"what <unk> with diabetes ?\"], [\"what can one do with a medtronic insulin pump ?\"], [\"how does high blood sugar levels affect <unk> between the cells and the blood ?\"], [\"does having one hundred and forty <unk> mean you are diabetic after a fasting test and can a <unk> injection ten hours prior to the test influence the results ?\"], [\"what are some healthy recipes for the diabetic consumer ?\"], [\"is potato is good for diabetic patients ?\"], [\"the glucose molecule has a great deal of energy in its ?\"], [\"how insulin protects the body ?\"], [\"what foods are on a reputable diabetic diet food list ?\"], [\"what is the average blood sugar level for an adult woman ?\"], [\"where can you find more information about diabetic diets ?\"], [\"fasting sugar level of one hundred and seventy four is this number consider high ?\"], [\"can a person without diabetes get a ulcer ?\"], [\"what is the best restaurant chain for a diabetic ?\"], [\"is english breakfast tea safe for diabetics ?\"], [\"what happens when the organs on a dog shut down ?\"], [\"what does bayer is a1c now measure ?\"], [\"how is a person diagnosed with diabetes ?\"], [\"does eating mangoes increase sugar level ?\"], [\"which type of people get type one diabetes the most ?\"], [\"what are symptoms of type two diabetes ?\"], [\"how many types of sugar like blood sugar ?\"], [\"if you are dying and you have diabetes should treatment for the diabetes be stopped ?\"], [\"how would you get to know your blood sugar levels ?\"], [\"how do you prevent diabetes ?\"], [\"has your previous disability claim already been denied once this is my question that i need answered ?\"], [\"does a person who urinates frequently a diabetic ?\"], [\"is noni good for diabetics ?\"], [\"why is type two diabetes and <unk> ?\"], [\"how many mg of insulin are equal to one unit of insulin ?\"], [\"what are the different types of diabetes ?\"], [\"what causes dry mouth ?\"], [\"is eating fish egg good for a diabetics person ?\"], [\"diabetic testing ?\"], [\"what type of trial might be used to determine if overweight people can lower their incidence of type ii diabetes by changing their eating habits exercising ?\"], [\"are <unk> cravings a sign of diabetes ?\"], [\"how can you prevent getting diabetes ?\"], [\"how do diabetics monitor their blood sugar level ?\"], [\"how many diseases are in the human body ?\"], [\"you been hearing a lot about cures for diabetes type two does any one know something that really works ?\"], [\"do you have a list of low purine foods ?\"], [\"what foods and diet plans are good for a diabetes patient ?\"], [\"what are diseases caused due to deficiency of iron ?\"], [\"what is insulin responsible for ?\"], [\"the production of too much insulin is typical of ?\"], [\"can <unk> someone cause diabetes ?\"], [\"<unk> - <unk> c did your blood test high for diabetes ?\"], [\"do high triglyceride levels affect your blood sugar ?\"], [\"can slurred speech be a symptom of diabetes ?\"], [\"im a forty five yr old male diabetic with a enlarged <unk> gland can it kill you ?\"], [\"can <unk> be of benefit to diabetic men ?\"], [\"what should people with type two diabetes not eat ?\"], [\"what is considered a normal blood sugar level ?\"], [\"is mitchell <unk> diabetic ?\"], [\"what gland is affected with diabetes ?\"], [\"what class of drugs stimulates insulin release in the body and is used in type ii diabetes ?\"], [\"where can i find a menu or diabetic foods online ?\"], [\"are diabetic diets safe to follow ?\"], [\"what are some insulin dependent diabetes ?\"], [\"can a person act drunk or <unk> from low blood sugar ?\"], [\"stomach bypass surgery cures type two diabetes in most patients ?\"], [\"where can i find a good diabetes meal planner ?\"], [\"what is endogenous insulin ?\"], [\"what kind of diet do i need to follow if i am borderline diabetic ?\"], [\"did miley cyrus break up with nick jonas because nick had diabetes ?\"], [\"is honey good for diabetic person ?\"], [\"`` i know lantus is a diabetes medicine , but how is it applied i could not find the lantus package insert '' ?\"], [\"when blood glucose levels rise what happens ?\"], [\"when you have sweets and get sleepy do you have diabetes ?\"], [\"why is there not a cure for diabetes ?\"], [\"a food high in added sugar ?\"], [\"can sixty five year old diabetic eat walnuts and almonds ?\"], [\"what does iddm mean ?\"], [\"what <unk> could help a person with type2 diabetes ?\"], [\"is nick jonas positive about diabetes ?\"], [\"what foods should i eat to control my obesity ?\"], [\"what are the advantages of undergoing a diabetic diet ?\"], [\"what makes up your lower leg ?\"], [\"what is treatment for <unk> on the right foot great toe you are a diabetic ?\"], [\"what exactly does polydipsia mean ?\"], [\"what conditions result in polydipsia and polyuria ?\"], [\"what diet to use in reversing diabetes ?\"], [\"how is insulin transported to the liver ?\"], [\"how do you control type one diabetes ?\"], [\"is broccoli is bad for diabetics ?\"], [\"what is the difference between diabetes and diabetic ?\"], [\"where can i find some diabetic diet plans ?\"], [\"what foods should diabetes avoid besides sugar ?\"], [\"what research has been done on <unk> <unk> ?\"], [\"are there any <unk> treatments for diabetes ?\"], [\"what will happen when you stop taking insulin ?\"], [\"can i use sugar substitutes to make diabetic recipes for dessert ?\"], [\"is dates good for diabetics patients ?\"], [\"four diseases that are communicable ?\"], [\"what is the <unk> of diabetic ?\"], [\"your husband got diabetes and you are trying for three or four months for a second child is it something wrong with his diabetes to cause no conception or you ?\"], [\"can type two diabetes be reversed ?\"], [\"can someone have diabetic nephropathy without having diabeties ?\"], [\"how can diabetes lead to hypertension ?\"], [\"will eyesight return after retinopathy ?\"], [\"which hormone is responsible for lowering blood suger by <unk> glucose transport into cells ?\"], [\"is a blood sugar level of three hundred and eighty dangerous ?\"], [\"why does <unk> affect sugar levels ?\"], [\"what <unk> players have diabetes ?\"], [\"does alt increase in blood effect on body ?\"], [\"why do you need two kidneys ?\"], [\"what does metaformin tablets do ?\"], [\"what specifically causes the problem of diabetes ?\"], [\"my blood sugar went from eighty six to one hundred and seventy eight to one hundred and sixty eight then shot down to fifty four is that normal ?\"], [\"where can i find a healthy diet for a diabetic ?\"], [\"how can bacteria be used to help people that are diabetic ?\"], [\"how to make diabetic food for the family ?\"], [\"is itching of the arms and legs symptoms of diabetes ?\"], [\"why do you urinate more often with diabetes ?\"], [\"what number is high for blood sugar ?\"], [\"what are symptoms of high blood sugar ?\"], [\"do diabetics eat more or less sugar ?\"], [\"how does fasting affect glucose levels ?\"], [\"what form of diebetes is most common ?\"], [\"does lactulose raise your blood sugar ?\"], [\"what causes diabetes mellitus ?\"], [\"what are the causes of type two diabetes ?\"], [\"what kind of diabetes did laura ingalls wilder have ?\"], [\"what increases your risk of getting diabetes ?\"], [\"is there a specific diet for people with diabetes ?\"], [\"what is the <unk> a child will have type one diabetes if a thirty five year old mother who wears size six had gestational diabetes ?\"], [\"why does high blood glucose level affect your eyesight ?\"], [\"does low blood sugar mean you have diabetes ?\"], [\"what are two two risk factors for diabetes type two ?\"], [\"what is the top brand of diabetic supplies ?\"], [\"is <unk> shrimp okay for diabetics ?\"], [\"lack of what causes diabetes ?\"], [\"how many grams of carbs can you eat per day if doing a low fat diet ?\"], [\"can you drink <unk> <unk> <unk> if your diabetic ?\"], [\"can a <unk> have diabetes ?\"], [\"what is the <unk> for insulin ?\"], [\"this does not mean y ?\"], [\"what should be in a diabetic is diet book ?\"], [\"how does diabetes spill in your urine and how do you know ?\"], [\"what are the <unk> for type two diabetes ?\"], [\"how is aspartame used in gum and why ?\"], [\"how do you keep glucose level constant ?\"], [\"does taking vitamin c increase your blood sugar level ?\"], [\"what system is the diabetes related to ?\"], [\"what gender does diabetes affect ?\"], [\"treatment for diabetes ?\"], [\"what is the best diabetic menu to follow ?\"], [\"what does it mean if you are <unk> glucose in your urine ?\"], [\"is blood slightly acidic ?\"], [\"which gland produces glucagon ?\"], [\"how did nick get diabetes ?\"], [\"does nick jonas support the diabetes research institute ?\"], [\"what happens if someone drink insulin human mix <unk> fifty ?\"], [\"how did nick jonas find out he had diabetes ?\"], [\"is there starch in your body ?\"], [\"what is the treatment of diabetes ?\"], [\"where can a diabetic meal plan be found ?\"], [\"explain why type two diabetes can be <unk> type one can not ?\"], [\"is pure cane sugar cause diabetes ?\"], [\"where online is there a diet menu for those with diabetes ?\"], [\"can a diabetic eat apple ?\"], [\"how can you lower you blood sugar to normal levels ?\"], [\"how long does the human organs take before they shutting down ?\"], [\"is diabetes infection or <unk> ?\"], [\"can a type two diabetic eat mango ?\"], [\"what is the normal sugar intake for a day ?\"], [\"what are classic signs of diabetes ?\"], [\"how many people in america are affected with diabetes ?\"], [\"can diabetics drink <unk> blue ?\"], [\"how many people with type two diabetes die a year ?\"], [\"can diabetics eat foods with garlic ?\"], [\"what are the health risks in relation to eating too many carbs ?\"], [\"are high school <unk> allowed to test for diabetes ?\"], [\"what is the number one killer of children in the world ?\"], [\"what is the author is view about type two diabetes ?\"], [\"what does eighteen mean on a diabetes meter ?\"], [\"what happens if diabetes is untreated ?\"], [\"where might i find <unk> for a diabetic diet which use foods that can be prepared easily at home ?\"], [\"how many people currently have diabetes in <unk> ?\"], [\"can a diabetic patient eat dates ?\"], [\"how do you live with diabetes ?\"], [\"what are some preventions and treatments for type one diabetes ?\"], [\"how long does diabetic diet take to work ?\"], [\"what <unk> with diabetic ?\"], [\"how many people are victim of diabetes in <unk> ?\"], [\"how many types of diabetes ?\"], [\"where can you find diabetic supplies in seattle wa ?\"], [\"can diabetic people have carrots ?\"], [\"what do your sugar levels have to be for diabetes ?\"], [\"what to do when blood sugar is over eight hundred ?\"], [\"what animal blood is used to help diabetics ?\"], [\"is one hundred and twelve glucose high ?\"], [\"can <unk> dew be bad for a type one diabetic ?\"], [\"is it harmful to take insulin if you do not need it ?\"], [\"what type of diet should someone with diabetes have ?\"], [\"how is commercially insulin prepared ?\"], [\"what are the early signs of diabetes ?\"], [\"one unit of insulin equals how many mls ?\"], [\"how long will a bottle of insulin last using sixty units daily ?\"], [\"will my diabetes mean i can not enjoy the breakfast sweets i love ?\"], [\"what are diabetic meals and their significance ?\"], [\"how do you know if it is type two diabetes ?\"], [\"what is the youngest age to get a insulin pump ?\"], [\"can a dog develop diabetes ?\"], [\"what types of foods can diabetics eat ?\"], [\"does <unk> <unk> have diabetes ?\"], [\"does vodka lower diabetic blood sugar level ?\"], [\"are there any good diabetic carrot cake recipes ?\"], [\"why sugar level becomes high in a <unk> patient ?\"], [\"what you should do as the doctor detected the pregnancy diabetes at thirty five weeks of pregnancy . is the treatment at this time will be sufficient for the mother and fetus ?\"], [\"is <unk> fruit can cure diabetic ?\"], [\"what causes the <unk> to stop making or producing insulin ?\"], [\"what fruits should i eat if i am diabetic ?\"], [\"what part of the body is diabetes located ?\"], [\"can diabetics stop using insulin ?\"], [\"is insulin like a drug and if diabetes patients take this once then should they take it for lifetime ?\"], [\"what hormone is responsible for the change in blood glucose between 7am and <unk> ?\"], [\"is there anything that makes diabetes worse or better ?\"], [\"can diabetic person eat apricot ?\"], [\"priority nursing diagnosis of type two diabetes ?\"], [\"what supplements help manage diabetes ?\"], [\"how do you know if your dessert recipe is good for diabetics ?\"], [\"what is the reason for light <unk> and shaking after you have eaten and the blood sugar is one hundred and sixteen ?\"], [\"what are the chemicals released by ketosis ?\"], [\"what is type i diabetes ?\"], [\"diabetes testing during exercise ?\"], [\"where can i find free recipes for diabetics ?\"], [\"are there any home remedies to treat diabetes ?\"], [\"how long does regular insulin peak if its given at seven hundred and thirty ?\"], [\"what diabetic menu is considered the best ?\"], [\"what are gestational diabetes affects on the child ?\"], [\"is diabetes related to anemia ?\"], [\"what is characteristic of the onset of insulin resistance ?\"], [\"how many carbs allowed in a day for diabetes diets ?\"], [\"why is the discovery of insulin by canadians so important ?\"], [\"does diabetes make you sick ?\"], [\"the major function of insulin is <unk> in what ?\"], [\"what food products are good for diabetics ?\"], [\"what if you do not treat my cat is diabetes ?\"], [\"what care should a patient receive after a pancreatic islet cell transplantation ?\"], [\"diabetes affects the body is ability to use what ?\"], [\"is <unk> a diabetic ?\"], [\"are there any companies providing a diabetes type two diet plan for under three hundred <unk> ?\"], [\"what is a normal blood level ?\"], [\"is diabetes infectious ?\"], [\"what are some healthy diabetic diet plans ?\"], [\"is there a site that could do a quick educational for diabetes diet foods that are available ?\"], [\"do you get diabetes when you damage your pancreas ?\"], [\"what does the hba1c test find ?\"], [\"can type one diabetics eat honey ?\"], [\"what are the different kinds of blood sugar levels ?\"], [\"what is the best time to check blood sugar readings ?\"], [\"can liver disease heal its self if the person stops drinking ?\"], [\"does watermelon increase blood sugar ?\"], [\"can diabetes be <unk> ?\"], [\"what is the best diabetes diet to go on ?\"], [\"if your blood sugar reading is one hundred and fifty five is that high ?\"], [\"is a strict diet needed for a diabetic ?\"], [\"diabetes is the result of a disturbance in the product of ?\"], [\"what is diabetes management ?\"], [\"difference between non insulin dependent diabetes and insulin dependent diabetes ?\"], [\"what type of diabetes did larry h miller have ?\"], [\"do people get diabetes by <unk> to much <unk> with sugar ?\"], [\"what is the buildup of keto acids that can result from diabetes mellitus ?\"], [\"how can a person contact the american diabetes association ?\"], [\"early signs of diabetes mellitus ?\"], [\"is <unk> good for diabetics ?\"], [\"what is the best drugs for diabetes ?\"], [\"does a diabetic get headaches after eating ?\"], [\"what is the name of the plant from <unk> that has reportedly cured some cases of diabetes ?\"], [\"what condition is a complication of diabetes mellitus ?\"], [\"will high sugar make you sleepy ?\"], [\"what is a normal result for a glucose tolerance test used to diagnose insulin resistance ?\"], [\"what is the normal range blood sugar level ?\"], [\"major symptom of diabetes mellitus is glucose in the urine ?\"], [\"where does insulin travel in the body ?\"], [\"<unk> signs of diabetes ?\"], [\"do you get diabetes if you eat too much sweets when you have diabetes ?\"], [\"you are suffering from extreme thirst and frequent urine you lose you feel exhausted <unk> <unk> and you missed this month period you did home pregnancy <unk> negative feel <unk> pain in lower <unk> ?\"], [\"why do diabetics crave white flour ?\"], [\"what did matthew dobson discover about diabetes ?\"], [\"what will eating regular meals do ?\"], [\"does cancer raise blood sugar ?\"], [\"does low or high blood sugar make your chest hurt ?\"], [\"the ideal diabetes meal ?\"], [\"what are some diabetic foot problems known to occur ?\"], [\"is sugar free candy still bad for a diabetic ?\"], [\"is tequila good for a diabetic patient ?\"], [\"why can not you get a new pancreas if you have diabetes ?\"], [\"what and where can i go to get diabetic neuropathy treatment ?\"], [\"what is happening to someones blood glucose levels right before a race ?\"], [\"does the body store glucose in a form of glycogen ?\"], [\"is it right to take oral <unk> drugs like metformin if you are taking lantus ?\"], [\"what is a good diabetic weight loss diet plan ?\"], [\"how do you restore blood sugar levels if its too low ?\"], [\"treatment for diabetic neuropathy ?\"], [\"can you have increased hunger instead of having increased thirst when having symptoms of diabetes ?\"], [\"what is diabetic peripheral neuropathy ?\"], [\"what to do if blood sugar is two hundred and forty five ?\"], [\"do any <unk> have diabetes ?\"], [\"what are the effects of <unk> on blood sugar ?\"], [\"are jelly beans suitable for people with diabetes ?\"], [\"how many days of medicine should be prescribed to patients with chronic diseases ?\"], [\"which metal is present in insulin ?\"], [\"is it bad for diabetes to eat rice ?\"], [\"what does an eighty four glucose mean ?\"], [\"what happens during diabetes treatment ?\"], [\"the most immediate response to a high level of blood sugar in a human is an increase in the ?\"], [\"can <unk> workers have diabetes ?\"], [\"what happens when your in a coma ?\"], [\"what are the food that patient have diabetic need to eat ?\"], [\"how are type one and type two diabetes different ?\"], [\"would you get diabetes if you eat a lot of junk food ?\"], [\"what hormone is important in diabetes insipidus ?\"], [\"can diabetic patient drink sugarcane juice ?\"], [\"how do you confirm that you have diabetes or not ?\"], [\"how do you make simple syrup with sodium saccharin ?\"], [\"what is metforin used for ?\"], [\"can <unk> eat sugar ?\"], [\"is there any way to save the legs when one has sores during diabetes ?\"], [\"what percentage of people in mexico have diabetes ?\"], [\"why is the function of the hormone insulin in regulating blood sugar level a good example of a negative feedback mechanism for maintaining homeostasis ?\"], [\"how many cats die from diabetes each year ?\"], [\"what diseases are caused by lack of mineral fe ?\"], [\"are diabetes meter useful ?\"], [\"what diabetic diet recipes are the most beneficial ?\"], [\"if ants are on your toilet bowl does it mean you have diabetes already ?\"], [\"what is a life long condition ?\"], [\"what is the difference between insulin and diabetics ?\"], [\"is diabetes can eat bananas ?\"], [\"can someone die from diabetes ?\"], [\"can diabetics drink decaf coffee ?\"], [\"should you go to the emergency room for a three hundred and forty eight glucose reading ?\"], [\"what are some ways to reduce the risk of getting diabetes ?\"], [\"how does a <unk> <unk> look like if the possible parent combination in type two diabetes ?\"], [\"can be treated by injecting genetically engineered insulin ?\"], [\"does diabetes get passed on ?\"], [\"indulge in tasty snacks for diabetics ?\"], [\"is coffee good for a diabetic ?\"], [\"could diabetes spread ?\"], [\"what type of <unk> does the secretion of the hormone insulin in response to changes in blood glucose levels ?\"], [\"does nick jonas have diabetes type one or two ?\"], [\"does a large consumption of sugar cause diabetes ?\"], [\"why is your body producing to much insulin ?\"], [\"can diabetic air hunger lead to death ?\"], [\"can you die of uncontrolled high blood sugar ?\"], [\"where can i find diabetes supplements online ?\"], [\"best beer for diabetics ?\"], [\"is fresh fruit bad for a diabetic ?\"], [\"is it possible for anyone with diabetes to be healthy and not use insulin ?\"], [\"what are some ways of eating with diabetes ?\"], [\"information on type one diabetes ?\"], [\"who was the first person to get diabetes ?\"], [\"if you exercise a lot but you eat a lot of sugar can you get diabetes ?\"], [\"are the rates in type two diabetes and obesity going up ?\"], [\"how many diabetics are there in the world ?\"], [\"insulin and human growth hormone are two examples of products produced by what ?\"], [\"which diabetic cake recipes are recommended ?\"], [\"how can unbalanced diet contribute to diabetes ?\"], [\"what hormones inhibit insulin ?\"], [\"is diabetes life threatening ?\"], [\"signs to seek diabetes testing ?\"], [\"what is the pathogen that causes diabetes ?\"], [\"can diabetes be beat ?\"], [\"why does sitting cross <unk> for a long time cause your legs to fall asleep ?\"], [\"did lil boosie die from a diabetic coma ?\"], [\"how many carbohydrates should a type two diabetic safely consume per day ?\"], [\"what is a lack of or an inability to use the hormone insulin ?\"], [\"can a cat die of diabetes ?\"], [\"where can i find <unk> on an official mayo clinic diet ?\"], [\"could you have diabetes at thirteen ?\"], [\"what diet <unk> diabetes ?\"], [\"what cheese can you eat as a diabetic ?\"], [\"do diabetics need more sleep than normal people ?\"], [\"process of producing too much insulin ?\"], [\"blood sugar average for a person who weighs one hundred lbs ?\"], [\"are there any good diabetic recipes books online ?\"], [\"what are the <unk> fruits for diabetic blood sugar ?\"], [\"what <unk> between dominant and recessive traits ?\"], [\"are dates harmful for a diabetic ?\"], [\"is there new injection to cure diabetic ?\"], [\"what caused water loss in <unk> area ?\"], [\"do people with diabetes have high blood glucose levels ?\"], [\"does insulin go bad ?\"], [\"which condition is a complication of diabetes mellitus ?\"], [\"diabetes foot problems ?\"], [\"what can you do if you passed out on the job due to diabetes and was fired for sleeping ?\"], [\"what is the normal sugar level should be ?\"], [\"how common are diabetes complications ?\"], [\"glucose can be elevated in the blood of a diabetic person relate this information to glucose in the urine and glucose <unk> ?\"], [\"does long term use of steroids cause diabetes ?\"], [\"why does the risk for developing diabetes increase with age ?\"], [\"when is regular insulin used ?\"], [\"what type of mutation causes the dna <unk> to stop early ?\"], [\"why was type two diabetes referred to as adult onset diabetes ?\"], [\"why is a diabetic person always hungry ?\"], [\"which are the best diabetes products on the market ?\"], [\"how can you tell if you have diabetes ?\"], [\"is sugar connected to diabetes ?\"], [\"what is a diabetes care specialist ?\"], [\"can you get a dental <unk> if you have diabetes ?\"], [\"why is it important to diagnose diabetes early ?\"], [\"what is the minimum range of blood sugar to start medicine ?\"], [\"what are included in a diabetic diet menu ?\"], [\"how effective are the treatment options at controlling the effects of diabetes type one ?\"], [\"managing diabetic symptoms with proper nutrition ?\"], [\"what is a normal blood glucose level ?\"], [\"can agent orange cause pancreatic cancer if it can cause diabetes ?\"], [\"how long will you with diabetes ?\"], [\"what is acetone breath ?\"], [\"diabetes meal planning services ?\"], [\"do type two diabetic is take insulin ?\"], [\"what fruit is the cure for diabetes ?\"], [\"is ninety a good blood sugar ?\"], [\"does anyone else have diabeties ?\"], [\"what research has been done on vitamin e ?\"], [\"can a leg ulcer cause diabetic retinopathy ?\"], [\"why are children developing diabetes ?\"], [\"what are patient interventions for blood glucose reading of one hundred and twenty ?\"], [\"is seventy seven a normal blood sugar level if you have not eaten for about five hours and your extremely shaky dizzy and irritable ?\"], [\"how does diet affect diabetes ?\"], [\"what drug class is lantus insulin ?\"], [\"what causes diabetes in human <unk> ?\"], [\"does diabetes run in the jonas family ?\"], [\"diabetes and over <unk> with track and field exercise ?\"], [\"what happens if you smoke and have diabetes ?\"], [\"what happens when your blood sugar is above normal ?\"], [\"how does a doctor diagnose different types of breaks ?\"], [\"how many adults are diagnosed with diabetic retinopathy each year ?\"], [\"why must insulin be injected ?\"], [\"what are some christmas cookie recipes for diabetics ?\"], [\"how does your body keep your blood sugar level around seventy to one hundred and ten ?\"], [\"is one hundred and sixty high for a diabetic ?\"], [\"what is considered a normal blood sugar range ?\"], [\"what diabetic supplies should a diabetic always have available ?\"], [\"is twelve grams of sugar per <unk> of milk harmful for diabetics ?\"], [\"what effect does <unk> have on blood sugars ?\"], [\"what would be the effects of adding the sequence <unk> to insulin ?\"], [\"is diabetes environmental ?\"], [\"what is the molecular basis of type one diabetes ?\"], [\"what are the two challenges of dying with chronic illness ?\"], [\"what makes insulin in your body ?\"], [\"are there any tissues that are insulin dependent ?\"], [\"where can i find diabetic testing supplies to ensure that i am maintaining normal glucose levels ?\"], [\"can obesity lead to type two diabetes ?\"], [\"why does diabetes cause impaired blood flow ?\"], [\"where can i find recipes for free diabetic diets ?\"], [\"how bad is sugar in urine with type two diabetes ?\"], [\"does soda cause diabetes ?\"], [\"what is <unk> diabete ?\"], [\"can a person suddenly acquire diabetes ?\"], [\"what research has been done on vitamin k ?\"], [\"how many diseases have no cure ?\"], [\"is three hundred and thirty seven number considered diabetes ?\"], [\"what are good diabetic <unk> ?\"], [\"can a diabetic safely get a tattoo ?\"], [\"how does and untreated diabetic remove excess glucose from your blood ?\"], [\"where is help if you are obese ?\"], [\"how many types of diabetes are there and how to know one type two type and three type diabetes ?\"], [\"how easy is it to stick to a diet for diabetes ?\"], [\"can gestational diabetes go away ?\"], [\"what is diabtetes ?\"], [\"who discovered the cure for diabetes ?\"], [\"will bananas run up blood sugar ?\"], [\"is there any way to monitor blood sugar levels without using a needle to draw blood ?\"], [\"are you allow to eat or drink one sugar if you have diabetes ?\"], [\"where can i find information about a gestational diabetes diet ?\"], [\"after fasting all night , what is a normal blood sugar level in the morning ?\"], [\"what causes diabetes melitus ?\"], [\"a healthy diet plan for <unk> american with diabetes ?\"], [\"diabetes support groups ?\"], [\"can you have hypoglycemia and turn into type two diabetes ?\"], [\"are there any websites that offer diabetes education ?\"], [\"where online can someone find free diabetes recipes ?\"], [\"what does burdock root cure ?\"], [\"i had cortisol levels done the dr . sent me a paper stating that they were essentially normal . why that instead of normal or abnormal ?\"], [\"in homeostasis what is blood glucose range between ?\"], [\"do sore toenails have anything to do with diabetes ?\"], [\"what is a hemoglucotest ?\"], [\"what is the normal level for cholesterol in the blood ?\"], [\"<unk> and diabetes ?\"], [\"what foods would be on a diabetic food list ?\"], [\"what causes type two diabetes ?\"], [\"can a diabetic eat before a physical ?\"], [\"how does the pancreas control blood glucose levels ?\"], [\"what liquor is best for diabetics ?\"], [\"can a diabetic have beetroot juice ?\"], [\"besides medical treatment with insulin what else can you do everyday to minimize your chance of getting diabetes ?\"], [\"why should insulin be refrigerated ?\"], [\"what is diabetic recipe where can i get the recipe ?\"], [\"how does a vet treat <unk> diabetes ?\"], [\"do bananas raise blood sugar level ?\"], [\"is <unk> effective in diabetes ?\"], [\"what part of the body is affected by <unk> <unk> nine and ten ?\"], [\"what are some good diabetic dessert recipes ?\"], [\"why do your feet and ankles extremely swell in diabetic individuals ?\"], [\"how can you get pregnant if your diabetic ?\"], [\"how can one contact the american diabetes association ?\"], [\"which type of diabetes mellitus is an insulin resistance disorder gestational type one or type two ?\"], [\"how is type one diabetes be prevented ?\"], [\"can headaches and hypoglycemia be related ?\"], [\"can low blood sugar cause headaches ?\"], [\"what controllable risk factors do type one diabetes ?\"], [\"who discovered the causes of diabetes ?\"], [\"how can i prevent diabetes in my family ?\"], [\"what are some warning signs of diabetes when you are twenty years old ?\"], [\"can you get diabetes from chocolate ?\"], [\"how do diet and exercise help reverse diabetes ?\"], [\"what are symptoms of low blood sugar ?\"], [\"what kind of food should a diabetes person as to eat ?\"], [\"what is the cpt code for injection of <unk> for <unk> <unk> ?\"], [\"what could cause twitching in you thumb and head ?\"], [\"the result of excess insulin is hypoglycemia ?\"], [\"is <unk> good for diabetic ?\"], [\"is honey not good for a diabetic person ?\"], [\"what is insulin made of ?\"], [\"what causes diabetes type two ?\"], [\"what are the common diabetes symptoms ?\"], [\"how many carbs should a five ' five '' two hundred and twenty five <unk> female type two diabetic eat per day ?\"], [\"what kind of diet would a person with diabetes have ?\"], [\"what is the purpose of a diabetes bracelet ?\"], [\"can a diabetic person use <unk> for eye inflammation ?\"], [\"can type one diabetes be spread from person to person ?\"], [\"your big toes are numb and <unk> on the outside tip ?\"], [\"what happens to people with diabetes pneumonia and tuberculosis ?\"], [\"what process results in genetically different bacteria ?\"], [\"what hormone causes diabetes ?\"], [\"diabetes is a result of the insufficient production of what ?\"], [\"what are ways to improve your health ?\"], [\"what are the <unk> of diabetes ?\"], [\"what are the most common pre diabetes symptoms ?\"], [\"complications of diabetes ?\"], [\"if a schnauzer has diabetes will he lose hair ?\"], [\"when are blood glucose test and glucose tolerance test done <unk> pregnancy ?\"], [\"how heavy do you have to be to have diabetes ?\"], [\"what does insulin do for diabetics ?\"], [\"what effects does diabetes have on our body system ?\"], [\"can diabetes be eliminated after weight loss ?\"], [\"what organ is affected by diabetes mellitus ?\"], [\"diabetes treatments ?\"], [\"what are signs of <unk> ?\"], [\"where can i find more information on high blood sugar ?\"], [\"why can mammals get diabetes ?\"], [\"what is the correct name for diabetes health counselor ?\"], [\"why do your teeth ache can diabetes medicine increase sensitivity ?\"], [\"how do you control high blood sugar during pregnancy ?\"], [\"how many <unk> have diabetes and pre-diabetes ?\"], [\"what foods are on the diabetic food list ?\"], [\"how many units of insulin you can increase per day in gestational diabetes ?\"], [\"which gland produces leptin ?\"], [\"can you drink sugar free drinks if you have diabetes ?\"], [\"why are overweight people more likely to get diabetes ?\"], [\"what caused diabetes ?\"], [\"does <unk> one hundred mg tabs raise ones blood sugar a lot ?\"], [\"where online can you find a good diabetic meal plan ?\"], [\"how sick is a person if they wear an insulin pump ?\"], [\"what types of food should a diabetic eat ?\"], [\"if you have <unk> arthritis are you at risk for type one diabetes ?\"], [\"diabetes management ?\"], [\"what gland is important to control your blood sugar ?\"], [\"can diabetes medicine taken with urine therapy ?\"], [\"is it safe for a diabetic to have bypass surgery ?\"], [\"what is the life expectancy of someone with type one diabetes ?\"], [\"is papaya good fro diabetic patient ?\"], [\"what is the prognosis for patients with diabetes insipidus ?\"], [\"if your mother and father have diabetes then you will get diabetes ?\"], [\"what are blood sugar readings at twenty mean if i have just eaten ?\"], [\"where can i find more information on diabetes dtour diet ?\"], [\"what research has been done on vitamin a ?\"], [\"what is a risk factor for developing diabetes ?\"], [\"how is type one diabetes controlled ?\"], [\"how does diabetes effect the circulatory system ?\"], [\"can type two diabetes be cured ?\"], [\"is there a good book with great diabetic dessert recipes available ?\"], [\"when a person is in treatment for diabetic ketoacidosis what happens ?\"], [\"what is the salary range of an diabetes health counselor ?\"], [\"what can people do to reduce their risk of developing type two or diabetes ?\"], [\"will a type one diabetic male produce children with type one diabetes ?\"], [\"what is a good diabetic food guide ?\"], [\"can a sugar solution be used for diabetes ?\"], [\"can a diabetic patient can have <unk> <unk> ?\"], [\"what does frequent blood sugar levels over one hundred and sixty after eating mean ?\"], [\"do you get diabetes if you get scared or any other kind of disease ?\"], [\"i need some new pointers for a new diet can you give me the best diet plans ?\"], [\"what type of cereal is good for a person with diabetes ?\"], [\"how could i tell if my <unk> has got diabetes ?\"], [\"what is a healthy blood sugar range ?\"], [\"where could one find a list of food suitable for diabetics ?\"], [\"can you join the coast guard if you are a diabetic ?\"], [\"where can you find a diabetic cake recipe ?\"], [\"does having diabetes cause semen to taste differently ?\"], [\"does any famous <unk> have diabetes ?\"], [\"how many diabetics are there in the uk ?\"], [\"what happens when a diabetic takes <unk> when not needed ?\"], [\"where can one find information on the best diabetic desserts ?\"], [\"whats cells of the body are affected by diabetes ?\"], [\"how is diabetes genetically transferred ?\"], [\"does fructose have a strong effect on blood sugar ?\"], [\"why do people do <unk> ?\"], [\"what foods lower blood sugars and help lose weight ?\"], [\"where can i find a list of diabetes symptoms ?\"], [\"what disease is associated with blood sugar ?\"], [\"what cells will type one diabetes damage ?\"], [\"does diabetes reduce a person lifespan ?\"], [\"can diabetics wear nail polish ?\"], [\"where can i buy a diabetic pump ?\"], [\"can low blood sugar cause you to vomit ?\"], [\"how does type two diabetes affect your health ?\"], [\"what is a good thesis statement for diabetes type one ?\"], [\"what is the cure for your diabetic cat ?\"], [\"how many grams of sugar are appropriate per day for the average teen ?\"], [\"what is paneer booti ?\"], [\"can feeding dogs sugar cause diabetes ?\"], [\"how do you get diabetes ?\"], [\"diabetic eye problems ?\"], [\"how long does it take for a diabetic to start showing signs of lack of insulin ?\"], [\"dangers of diabetes ?\"], [\"what is post-prandial hypoglycemia ?\"], [\"where to buy diabetic testing supplies ?\"], [\"what is first organ to respond when glucose rises ?\"], [\"how diabetes cause decrease in immunity ?\"], [\"what age do you get type one diabetes ?\"], [\"diabetes meters ?\"], [\"is type ii diabetes capitalized ?\"], [\"can cat drink human water ?\"], [\"can you lose type two diabetes ?\"], [\"what is the most prevalent form of diabetes ?\"], [\"is diabetes caused by a virus or bacteria ?\"], [\"what is an activity that goes with diabetes ?\"], [\"why is the body unable to produce insulin ?\"], [\"can diabetes kill you ?\"], [\"what painkillers can a diabetic take ?\"], [\"how is diabetes transferred ?\"], [\"glucose fasting = ninety eight ?\"], [\"diabetic snack ideas ?\"], [\"who has diabetes in the jonas brothers ?\"], [\"what steps can be taken to reduce the risk of blindness ?\"], [\"can you take magic mushrooms if you have diabetes ?\"], [\"how can type one diabetes be avoided ?\"], [\"can insulin be made from cat urine ?\"], [\"what treatments or medications for diabetes ?\"], [\"what is the treatment of both diabetes ?\"], [\"are there any vitamins or natural herbs that might be purchased at like a health store or a gnc <unk> that could possibly help improve type one diabetes ?\"], [\"what are some sugar substitutes used in diabetic recipes ?\"], [\"what is normal blood sugar rate ?\"], [\"is frequent urination dangerous ?\"], [\"can you be diabetic in the military ?\"], [\"could nineteen on diabetes reading bad ?\"], [\"can you get fired on a job at the post office due to not putting on the application you did not have diabetes ?\"], [\"is diabetes a genetic disorder ?\"], [\"can a person with type one diabetes become a type two diabetic ?\"], [\"what is the most effective way of testing your blood sugar levels ?\"], [\"how can chewing tobacco affect your diabetes ?\"], [\"would losing weight be a good thing to do when it comes diabetes ?\"], [\"what herbs are known to lower blood sugar ?\"], [\"who developed the first effective treatment for diabetes ?\"], [\"normal glucose level in urine ?\"], [\"can <unk> twenty mg raise your blood sugar levels ?\"], [\"what are good diets for people with diabetes ?\"], [\"in diabetes insulin is administered intravenously explain why this hormone protein can not be taken orally ?\"], [\"how can you test yourself for diabetes without going to a doctor or buying test strips ?\"], [\"does <unk> <unk> have diabetes ?\"], [\"what are some good supplements for diabetics ?\"], [\"is juvenile diabetes o genetic disorder ?\"], [\"can taking insulin increase <unk> ?\"], [\"is two hundred and fifty seven glucose reading is normal ?\"], [\"is a blood sugar level of one hundred and twenty four considered high for men who is sixty three yrs old ?\"], [\"is finger <unk> helpful for diabetics ?\"], [\"what is the <unk> between <unk> n insulin and novolog insulin ?\"], [\"what to do when blood sugar is over three hundred ?\"], [\"what does the number seven mean in diabetics ?\"], [\"how is diabetes mellitus treated in alternative medicine ?\"], [\"i has diabetes type1 <unk> to leave the insulin injections and use drug called januvia <unk> co . for type2 because i <unk> had very <unk> in my sleeping lead me to the epilepsy in my sleep ?\"], [\"do they let diabetics do any part of the <unk> <unk> ?\"], [\"are peas good for diabetics ?\"], [\"can a diabetic be a police officer ?\"], [\"what is abnormally high concentration of glucose in the blood ?\"], [\"how much sugar can you have being diabetic ?\"], [\"what does starch do for your body ?\"], [\"is sugar in dates bad for diabetes ?\"], [\"does diabetes affects someones physical <unk> ?\"], [\"what type of diets for weight loss are best for a type two diabetic ?\"], [\"six a negative feedback response in the regulates blood sugar levels ?\"], [\"will my cat die from diabetes ?\"], [\"where can one find cookie recipes for diabetics ?\"], [\"what is a normal blood sugar level reading ?\"], [\"can a diabetic join border patrol ?\"], [\"can you eat cream crackers if you are diabetic ?\"], [\"what is a diabetic pump used for ?\"], [\"is alcohol harmful for diabetes ?\"], [\"which <unk> have diabetes ?\"], [\"what are normal blood glucose levels for an adult ?\"], [\"what is the correct doctor for type two diabetes ?\"], [\"what are the nutritious recipes for diabetic people ?\"], [\"how do you treat a diabetic <unk> ?\"], [\"what are the effects of ph in diabetic ketoacidosis ?\"], [\"checking your blood sugar levels daily ?\"], [\"what is the prevention of diabetes ?\"], [\"what is the treatment for diabetes type two ?\"], [\"where can i find more information on diabetes diet plans ?\"], [\"what are some options for recipes for someone with diabetes ?\"], [\"can you get diabetes after kissing a <unk> that has <unk> ?\"], [\"what are insulin dependent diabetics ?\"], [\"can people die from diabetic <unk> ?\"], [\"what is the prevalence of diabetes mellitus in the philippines ?\"], [\"create a personal diabetic food list ?\"], [\"how can you bring down high blood pressure ?\"], [\"can you take <unk> with type two diabetes ?\"], [\"what research has been done on <unk> mushroom ?\"], [\"who is <unk> <unk> that was born in one thousand , nine hundred and ninety five ?\"], [\"what medications cause blood glucose levels to rise ?\"], [\"can almonds cure hypoglycemia ?\"], [\"can you get diabetes from to much sugar ?\"], [\"when can you eat after injecting human insulin ?\"], [\"how is insulin resistance diagnosed ?\"], [\"what is recombinant human insulin ?\"], [\"how many grams of sugar are in a white potato ?\"], [\"abbreviation for three <unk> a day ?\"], [\"can normal weight teens get type two diabetes ?\"], [\"what is the function of <unk> ?\"], [\"what cost <unk> ?\"], [\"do you guys know where i can find any a1c charts ?\"], [\"can a type one diabetic drink an energy drink an insulin dependant person ?\"], [\"monitor your blood sugar while eating healthy ?\"], [\"tests to find diseases in the human body ?\"], [\"where in your body does diabetes happen ?\"], [\"what is diabetes <unk> ?\"], [\"what are some good recipes for diabetics ?\"], [\"what is the normal value for sugar in urine ?\"], [\"what is the nursing diagnosis for acute abdominal pain ?\"], [\"is type two diabetes known as insulin dependent diabetes ?\"], [\"how fast will thirty one grams of carbs in a banana bring up a low blood sugar of thirty eight ?\"], [\"are there any foods that prevent diabetes ?\"], [\"why does type one diabetes turn into type two diabetes in the future when you become an adult ?\"], [\"can someone with diabetes have alcohol breath ?\"], [\"who discovered that insulin was a cure for diabetes ?\"], [\"are there certain things diabetics can or can not have or eat or drink ?\"], [\"what is the reason why you draw first regular insulin before the nph insulin ?\"], [\"how many grams should a type two diabetic consume per day with hyperglycemia ?\"], [\"which is correct diabetes damage or diabetes damages ?\"], [\"where can i find a good weight loss meal plan for a diabetic ?\"], [\"how does dextrose and insulin lower potassium ?\"], [\"what is the sugar <unk> of a banana ?\"], [\"as a diabetic on metformin , what number should i consider high enough to seek a hospital ?\"], [\"why is diabetes called diabetes mellitus ?\"], [\"what controls the sugar metabolism ?\"], [\"is <unk> good for diabetic patients ?\"], [\"how do you know if you are type one diabetes ?\"], [\"where could one find information on diabetic medical supplies ?\"], [\"similarities between diabetes mellitus and diabetes insipidus ?\"], [\"where can you help for diabetes ?\"], [\"is there a combination of vitamins <unk> and b12 ?\"], [\"what are the three major diabetic foods to avoid ?\"], [\"what are some meals for diabetics ?\"], [\"is diabetes a <unk> error ?\"], [\"does diabetes produce insulin ?\"], [\"is eating peanut butter and graham crackers a good snack for a type one diabetic ?\"], [\"where can one find recipes suitable for diabetics ?\"], [\"does black coffee affect your blood sugar levels ?\"], [\"can diabetes be <unk> to you ?\"], [\"what does ph seven point two six in diabetic ketoacidosis mean ?\"], [\"what is the normal blood sugar level for adults ?\"], [\"what are some good thanksgiving recipes ?\"], [\"is type one diabetes associated with insulin resistance ?\"], [\"are contour blood test strips <unk> the same as 7098c ?\"], [\"what does coma mean ?\"], [\"are oranges good for diabetic people ?\"], [\"can pioglitazone cause <unk> <unk> on prolonged use ?\"], [\"what is <unk> <unk> five hundred mg the after effects of using this tablet i am sixty two years old having high blood pressure and diabetic ?\"], [\"can a diabetic eat mango ?\"], [\"what are the chances of diabetes being hereditary ?\"], [\"how many people have diabetes ?\"], [\"should i eat eggs if i am on a diabetic diet ?\"], [\"when reading a label how many gs of sugar for a diabetic allowed ?\"], [\"is it bad to have diabetes and smoke weed ?\"], [\"what do i say to someone who told you they have diabetes ?\"], [\"the body of a diabetic does not produce enough of the hormone ?\"], [\"what are the <unk> for taking biguanides and thiazolidinediones used for treating insulin resistance ?\"], [\"what would make your toes feel numb and your foot tingling on top and have little red <unk> on inside of skin going up <unk> of leg ?\"], [\"what causes hypoglycemia on a diabetic ?\"], [\"what clinical findings occurs first in metabolic acidosis of a patient with type one diabetes ?\"], [\"what does it mean if you have swollen ankles ?\"], [\"what is a likely cause of <unk> in an adult ?\"], [\"what are some good diabetic snack foods ?\"], [\"what would be a good diabetic diet for someone with diabetes ?\"], [\"is <unk> good for diabetes ?\"], [\"can a mother who has thyroid cancer cause type one diabetes in her children ?\"], [\"where can i find the new diabetic food list ?\"], [\"what happens when you have diabetes ?\"], [\"is there a vaccine for diabetes ?\"], [\"what are various treatment options for type two diabetes ?\"], [\"can diabetics eat <unk> ?\"], [\"signs and symptoms of diabetes insipidus ?\"], [\"how does one get diabetes ?\"], [\"which country has the most cases of diabetes ?\"], [\"what does the natural <unk> of insulin production following a transplant restore ?\"], [\"why are bacteria used to produce insulin ?\"], [\"how common is diabetes in women ?\"], [\"can a vegan diet be healthy for diabetics ?\"], [\"is diabetes dominant or recessive trait ?\"], [\"how do you prevent type one and type two diabetes ?\"], [\"how many children are diagnosed with type one diabetes every day ?\"], [\"how does alcohol raise blood sugar ?\"], [\"what are the side effects of <unk> ?\"], [\"what are the treatment for diabetes ?\"], [\"what are the other names for type one and type two ?\"], [\"does reliv helps type one diabetes and <unk> ?\"], [\"how much <unk> do you give an adult pregnant patient having a one hour gestational diabetes screen ?\"], [\"does <unk> cause blood sugar changes ?\"], [\"what <unk> dose of insulin do i take if my blood sugar level is seventeen point zero from my pre meal measurement ?\"], [\"will diabetes along with thyroid disease along with high blood pressure along with eye disease qualify you ?\"], [\"what is the average life expectancy for a person with bronze diabetes ?\"], [\"is frequent urination and dry mouth is the only cause of high blood sugar ?\"], [\"can getting up to urinate multiple times during the night and urinating much more often than normal be symptoms other than prostate cancer ?\"], [\"how safe is it for a diabetic to have your belly button pierced ?\"], [\"where can one find information on different foods someone that has diabetes should eat ?\"], [\"why does your body need insulin ?\"], [\"do most people with diabetes suffer from type two diabetes ?\"], [\"how effective is dr <unk> <unk> diabetes <unk> program ?\"], [\"is cabbage good for diabetes ?\"], [\"what is the medical term meaning death of tissue caused by diabetes ?\"], [\"can diabetics eat cucumbers ?\"], [\"what should your blood sugar be after a meal ?\"], [\"what is <unk> ?\"], [\"what diet plans help to prevent the want of glucose products ?\"], [\"what is it called when a dog has diabetes ?\"], [\"diet plans for diabetics ?\"], [\"who did a <unk> of insulin for diabetes ?\"], [\"what is a diabetic nutrition guide and what does it have on it ?\"], [\"where can one find information on how to make diabetic cookies ?\"], [\"what vitamins are recommended for a diabetic ?\"], [\"can a cna shave a diabetic in the state of california ?\"], [\"do you always have to test you <unk> dr did not tell my <unk> to test is that normal ?\"], [\"how can diabetes in pregnancy be prevented ?\"], [\"test for diabetes ?\"], [\"what type of doctor treats diabetes ?\"], [\"can <unk> get diabetes ?\"], [\"my big toe is partially numb but it comes and goes is there anything i should be worried about ?\"], [\"how can you tell the difference between a drunk and a diabetic ?\"], [\"what are the symptoms of a sugar rush ?\"], [\"what is one important dietary step to help treat type two diabetes mellitus ?\"], [\"do all diabetic recipes offer healthier food substitutes ?\"], [\"what causes inflammation of organs ?\"], [\"how do you use dna technology to help treat diabetes ?\"], [\"how do you make your hand fall asleep ?\"], [\"can you get diabetic supplies through the mail ?\"], [\"what research has been done on <unk> ?\"], [\"what do you have when you have trouble <unk> things ?\"], [\"in diabetes does the body attack itself ?\"], [\"the substance which has a sweet fruity odor that is found in small quantities in normal urine and in larger amount in diabetic urine is ?\"], [\"what is a good <unk> for diabetic recipes ?\"], [\"how can decisions made in one part of the world affect people in another part of the world ?\"], [\"does <unk> <unk> raise blood sugar ?\"], [\"is amino acid good for diabetes ?\"], [\"what does insluin do ?\"], [\"what jobs can diabetics do ?\"], [\"can a sperm cause diabetes ?\"], [\"how are the lives of diabetic and non diabetic the same ?\"], [\"can a type one diabetics live a normal life ?\"], [\"are apples good for diabetic ?\"], [\"why does your blood sugar rise after eating raisin bran cereals ?\"], [\"can you eat peanuts if you have gestational diabetes ?\"], [\"what can not the body control for itself if you are diabetic ?\"], [\"what are the diabetes symptoms in dogs ?\"], [\"can <unk> shot cause diabetes ?\"], [\"will <unk> cause diabetes ?\"], [\"what are some examples of communicable diseases ?\"], [\"describe type one diabetes ?\"], [\"what are common causes of diabetes ?\"], [\"what are some ways to manage diabetes ?\"], [\"when do you get diabetes type two ?\"], [\"is hyper acidity natural to diabetic ?\"], [\"how do you get diabetes i want to have it ?\"], [\"what is a good blood sugar range for a diabetic ?\"], [\"can you cure for diabetes ?\"], [\"what are the benefits of using diabetes testing equipment ?\"], [\"if your blood sugar is four hundred and thirty should you go to the hospital ?\"], [\"can mental illness be as clearly defined as a <unk> illness such as diabetes ?\"], [\"what does diabetes look like in children ?\"], [\"where can i find a list of diabetic approved foods ?\"], [\"can you die by peeing ?\"], [\"what causes excess glucose in urine but not diabetic ?\"], [\"what is diabetes in <unk> ?\"], [\"a sixty two year old diabetic black man has a swollen left leg with areas of <unk> and blue <unk> ?\"], [\"can insulin dependent diabetes mellitus cause chronic renal failure ?\"], [\"why acetone odor on the breath of a patient a clinical symptom ?\"], [\"is a blood sugar level of ninety four considered low if you are diabetic ?\"], [\"do <unk> raise blood sugar levels ?\"], [\"how do you explain to a patient about diabetes ?\"], [\"what experience do you have with lipoic acid ?\"], [\"what happens to type one diabetics if sugar is consumed ?\"], [\"does nick jonas really have diabetes ?\"], [\"what chemical substance does diabetes produce ?\"], [\"one hundred and seventy two pp blood sugar ?\"], [\"how does wind influence precipitation patterns ?\"], [\"what is the <unk> of diabetes mellitus ?\"], [\"can a man with diabetes have kids ?\"], [\"having too little or no insulin available for the amount of food ingested may result in ?\"], [\"can a diabetic male get you pregnant ?\"], [\"managing your health at home ?\"], [\"what are the <unk> between diabetes have to do with the pancreas and insulin ?\"], [\"what is <unk> ?\"], [\"what is a diabetic emergency ?\"], [\"what happens when blood sugar is low ?\"], [\"why drink fluids when you are sick ?\"], [\"you just found out you are pregnant you have a six months old and had gestational diabetes that led to a <unk> section is it safe to stay pregnant and what are the risks if you do keep the baby ?\"], [\"how does diabetes affect your physical lifestyle ?\"], [\"`` an insulin pump covers a high glucose level , right '' ?\"], [\"what research has been done on the zone diet ?\"], [\"can you be a us <unk> with diabetes ?\"], [\"when fasting what causes a persons breath to smell fruity ?\"], [\"where can i find some information about a diet for diabetes type two ?\"], [\"what snacks can a type two diabetics eat ?\"], [\"does pot raise your blood sugar ?\"], [\"what 3ps mean in diabetes ?\"], [\"why <unk> of human insulin does not match with human body ?\"], [\"what part of the body gets affected by obesity ?\"], [\"what can you do if you lose your cdl due to diabetes ?\"], [\"im fifteen what should you do if you suspect diabetes ?\"], [\"if a woman develops diabetes only while pregnant having it go away after giving birth what are the chances of type one diabetes in the child ?\"], [\"what if diabetes is left untreated ?\"], [\"<unk> of type two diabetes ?\"], [\"is type one diabetes also called niddm ?\"], [\"is a blood glucose level of one hundred and six too high ?\"], [\"diet for diabetes ?\"], [\"is there a product that lowers blood sugar instantly ?\"], [\"how do you get four hundred <unk> at six thousand , five hundred <unk> out of a four bbl carb <unk> three hundred and five ?\"], [\"what types of cereal can diabetics eat without increasing their blood sugar dramatically ?\"], [\"what is the <unk> of glucose ?\"], [\"why do people take insulin ?\"], [\"how can you tell where is sugar removed from the blood ?\"], [\"what is diabetic foot ?\"], [\"what are the symptoms of high blood sugar ?\"], [\"what causes the illness diabetes ?\"], [\"which body organ produce insulin ?\"], [\"where do diabetic foot infections usually occur ?\"], [\"can diabetic take date ?\"], [\"what is an <unk> ?\"], [\"is it true that sixty nine percent of the world is population including animals have diabetes ?\"], [\"how is the insulin used by diabetics obtained ?\"], [\"is eight point nine a high reading for diabetes ?\"], [\"why is that you some time feel real weak and your blood sugar is low but when you get tested for blood sugar problem they find nothing ?\"], [\"what word describing the lowering of the blood glucose level to normal after eating a meal ?\"], [\"what kind of tea can a person who have type one diabetes drink ?\"], [\"is diabetes a non communicable disease ?\"], [\"what can cause diabetes ?\"], [\"what does a count of twenty five thousand of white blood cells indicate ?\"], [\"what is precision <unk> glucose meter <unk> ?\"], [\"what does a glucose meter measure ?\"], [\"what food can you eat on a typical type two diabetes plan ?\"], [\"does diabetes effect you getting pregnant ?\"], [\"how can you lose weight and control your type two diabetes ?\"], [\"is the type two diabetes caused by your environment or your genes ?\"], [\"what body part produces insulin so that cells can use sugar ?\"], [\"how quickly can hypoglycemia occur after receiving nph insulin ?\"], [\"how diabetes affect the brain ?\"], [\"what kind of diabetes did nick jonas had ?\"], [\"is it safe for someone without diabetes to follow a diabetics diet ?\"], [\"is dry mouth a sign of diabetes ?\"], [\"who is the actress in the diabetes test strip commercial ?\"], [\"where can i get a cheap a1c calculator ?\"], [\"how can you avoid diabetic ?\"], [\"is wheat bread ok to eat for diabetics ?\"], [\"what happens when a person suffers from excessive thirst and urination and his urine contains excess glucose ?\"], [\"what research has been done on <unk> ?\"], [\"is nick jonas worried of having diabetes ?\"], [\"what are the possible symptoms of diabetes ?\"], [\"where is glucose released from ?\"], [\"what are some of the general of signs of diabetes ?\"], [\"what is the most important step to <unk> control of diabetes ?\"], [\"how does diabetes feel ?\"], [\"i think im on the verge of becoming diabetic ?\"], [\"what happens if your blood glucose level increases ?\"], [\"what kind of different treatments are there for diabetes ?\"], [\"what are the treatments for type one diabetes ?\"], [\"what are normal levels for triglyceride ?\"], [\"how is diabetes spreads among human ?\"], [\"what nutrilite product a women with cancer can take ?\"], [\"why is it dangerous if glucose level is too high ?\"], [\"does watermelon raise blood sugar ?\"], [\"is there a lot of sugar in watermelon ?\"], [\"explain the health education for diabetic patient ?\"], [\"your thirteen yr old <unk> is diabetic and has gone blind how will you know when it is his time to die ?\"], [\"can your blood sugar dip while on oral diabetic medication ?\"], [\"is it normal to feel extremely thirsty after consuming food high in sugar ?\"], [\"is there a pill that you can take to lose weight ?\"], [\"diets for diabetes ?\"], [\"how was insulin invented ?\"], [\"what types of wine to avoid if diabetic ?\"], [\"how are carbohydrates processed in a diabetic and non diabetic person ?\"], [\"how many hours fasting before blood test ?\"], [\"what type of diabetes is curable ?\"], [\"is my dog diabetic ?\"], [\"the condition of very low blood sugar is known as ?\"], [\"symptoms in older cats with possible diabetes ?\"], [\"does eggs raise your blood sugar ?\"], [\"does glycogenesis lower sugar in blood ?\"], [\"how can one easily recognize diabetes products while shopping for food ?\"], [\"what problems can diabetes cause a person ?\"], [\"how does the nephron normally handle glucose in the blood ?\"], [\"does <unk> come due to some kidney diseases why and how ?\"], [\"would diet plans for diabetics have the foods <unk> carefully ?\"], [\"what race is type one diabetes more common ?\"], [\"diabetes mellitus is caused by a lack of the hormone . ?\"], [\"what measures can be taken to prevent diabetes in adults ?\"], [\"why glycogen in muscle can not be delivered as glucose into the blood ?\"], [\"is diabetes one more common than diabetes two ?\"], [\"what causes gestational diabetes ?\"], [\"what do burps <unk> in a person with diabetes ?\"], [\"how do you cure <unk> for a two year old ?\"], [\"can type ii diabetes turn into type i diabetes ?\"], [\"what is a good pre diabetes diet ?\"], [\"can diabetics eat sago seeds ?\"], [\"what are symptoms of going into diabetic shock and what causes it ?\"], [\"what are steps taken for diabetes management ?\"], [\"what type of alcohol beverage is good for a diabetic ?\"], [\"is one hundred and seven high for glucose reading ?\"], [\"what does sugar do for your body ?\"], [\"which <unk> is type one diabetes related to ?\"], [\"what type of diabetes that requires injection of insulin ?\"], [\"what is hyperglycemia ?\"], [\"what is the quality of service of american diabetes ?\"], [\"is diabetes preventable ?\"], [\"is a blood sugar level of one hundred and eighty seven average dangerous in a type two diabetic ?\"], [\"what are some jokes about diabetes ?\"], [\"can non diabetics have diabetic food ?\"], [\"can honey make you diabetic ?\"], [\"what are three types of diabetes ?\"], [\"how can you get rid of diabetes ?\"], [\"can a person with diabetes go through a liposuction procedure ?\"], [\"how do you get diabities ?\"], [\"where can i find out more about good nutrition ?\"], [\"what type of wine is best for diabetes ?\"], [\"are gout and diabetes linked ?\"], [\"how can diabetes <unk> ?\"], [\"does sex have an affect on blood sugar in a person with type two diabetes ?\"], [\"is <unk> <unk> bad for diabetes ?\"], [\"what are early diabetes symptoms ?\"], [\"what body systems are affected by diabetes type two ?\"], [\"treatment of diabetes ?\"], [\"how has dna technology been used to try and treat diabetes ?\"], [\"is insulin <unk> ?\"], [\"describe a test for the presence of sugar in blood and urine ?\"], [\"what is a drug taken by diabetics ?\"], [\"can you take metformin with insulin ?\"], [\"what can you do for a blood sugar level of two hundred and eighty ?\"], [\"how to get pregnant by a men with type two diabetes ?\"], [\"can i handle my diabetes through diet alone without any medical supplies ?\"], [\"what was the unit of nick is sugar level ?\"], [\"how do you cope with hypertension ?\"], [\"why does blood sugar level go up after exercise ?\"], [\"what does diabetes smell like ?\"], [\"what is the normal range for preprandial blood sugar in an <unk> client who has diabetes ?\"], [\"can diabetic neuropathy cause muscle twitching or spasms in fingers ?\"], [\"what glucose level is high for glucosuria ?\"], [\"can you boil liquid glucose ?\"], [\"can a diabetic patient eat cashew - seeds ?\"], [\"how can i improve my diabetes ?\"], [\"what famous people have diabetes ?\"], [\"do more boys get diabetes than girls ?\"], [\"what are treatment options for children with diabetes ?\"], [\"what is the level of glucose in a cat ?\"], [\"what is the best type of diet for someone who has type-2 diabetes ?\"], [\"what causes the amount of glucose in foods to increase ?\"], [\"are black olives good for diabetics ?\"], [\"can i check my blood sugar for diabetes without poking my finger ?\"], [\"does nick like having diabetes ?\"], [\"how do you know if your <unk> is diabetic ?\"], [\"what does insulin do for the body ?\"], [\"where can i find blood glucose level chart ?\"], [\"what are the characteristics of a person with type one diabetes ?\"], [\"how can you help someone with diabetes ?\"], [\"can patients with type2 diabetes obtain a private pilots <unk> ?\"], [\"does stress elevated blood sugars in non diabetics ?\"], [\"what can smoking do to a diabetic ?\"], [\"can diabetics use an <unk> sauna ?\"], [\"how can i regulate my blood sugar levels when i have diabetes ?\"], [\"why i feel nausea cramps and the <unk> to vomit after eating ?\"], [\"what is the normal range of hb1ac ?\"], [\"malfunctioning of which organ of body causes diabetes ?\"], [\"can mental illness be as clearly defined as a physical illness such as diabetes ?\"], [\"why does black coffee raise your blood sugar ?\"], [\"how do you know you have got a <unk> on someone ?\"], [\"is there a cure for type two diabetes ?\"], [\"are there any cures to type one diabetes ?\"], [\"what is you diabetic hyperglycaemic attack ?\"], [\"should diabetics eat bananas ?\"], [\"what do you do to bring blood sugar up ?\"], [\"what are the most important components of a diabetic diet plan ?\"], [\"what causes a bad taste in your mouth ?\"], [\"can males with type one diabetes have babies ?\"], [\"glucagon is secreted by which glands ?\"], [\"what is the normal level of blood sugars in the morning ?\"], [\"is a <unk> sting bad for a diabetic ?\"], [\"what the <unk> of type two diabetes ?\"], [\"a diabetic patient will normally have an excess of what substance in the urine ?\"], [\"how do you measure blood glucose levels ?\"], [\"is diabetes a dominant or recessive trait ?\"], [\"can diabetes be prevented or not ?\"], [\"when was nick jonas diagnosed with type one diabetes ?\"], [\"polydipsia and polyuria are symptoms of ?\"], [\"what are synonyms of adherence ?\"], [\"stopped cutting last year . suicide attempt <unk> grade never told anyone . some days i am happy other days well . is it <unk> . past <unk> . no sleep . i put my self in this mess . yeah ?\"], [\"is there any way to detect a carrier of diabetes ?\"], [\"is there any connection between poor nutrition and diabetes ?\"], [\"what are common type two diabetes symptoms ?\"], [\"is dark spot on your hand a sign of diabetes ?\"], [\"how does the <unk> respond to diabetes ?\"], [\"what is a free diabetic cookbook used for ?\"], [\"do you know what is diabetes ?\"], [\"how should you go about treating diabetes ?\"], [\"how is diabetes mellitus treated by doctors ?\"], [\"does a diabetic seizure cause you to become physically violent ?\"], [\"who invented insulin for diabetes ?\"], [\"what is a person called with diabetes ?\"], [\"what are average blood sugar numbers ?\"], [\"what does ensure help you for ?\"], [\"what does it mean when your blood sugar count is two hundred and ninety seven ?\"], [\"did david <unk> lose his legs to diabetes ?\"], [\"what are some diabetes complications ?\"], [\"what research has been done on <unk> massage ?\"], [\"what is an omnipod ?\"], [\"is there a diet for type ii diabetes that will help be avoid needing insulin ?\"], [\"how many kids die from diabetes ?\"], [\"what is the best way for a young teenager with type one diabetes and <unk> disease to lose weight ?\"], [\"is diabetes transferable through any body contact ?\"], [\"how can the risk of developing type ii diabetes be reduced ?\"], [\"what type of diet will cure diabetes ?\"], [\"what is insulin ?\"], [\"what enzyme does diabetes affect ?\"], [\"what is niddm ?\"], [\"diabetes supplies ?\"]], \"hovertemplate\": \"pc_1=%{x}<br>pc_2=%{y}<br>pc_3=%{z}<br>question=%{customdata[0]}<br>color=%{marker.color}<extra></extra>\", \"legendgroup\": \"\", \"marker\": {\"color\": [-1, -1, 17, -1, -1, -1, 1, 12, -1, -1, -1, 0, 19, -1, -1, -1, -1, -1, 0, 8, -1, -1, -1, -1, 15, -1, -1, -1, -1, -1, -1, 2, -1, 2, -1, 15, -1, -1, -1, -1, -1, -1, 8, -1, -1, -1, -1, -1, 7, -1, -1, -1, 8, -1, 20, -1, -1, -1, 0, 18, -1, 12, -1, -1, -1, -1, -1, -1, -1, -1, 14, -1, 1, -1, -1, 14, 1, 21, -1, -1, 20, -1, -1, -1, -1, -1, -1, -1, -1, -1, 0, -1, -1, -1, -1, 22, -1, 11, -1, -1, -1, -1, -1, 12, -1, -1, -1, -1, -1, -1, -1, -1, -1, -1, 9, -1, -1, -1, 6, -1, 13, 8, -1, -1, -1, -1, 7, -1, -1, -1, -1, 2, -1, -1, -1, 9, -1, -1, -1, -1, -1, 5, -1, 3, -1, -1, -1, -1, -1, 3, -1, -1, 1, 0, 18, -1, 2, -1, 4, -1, 14, -1, -1, 5, -1, -1, -1, -1, 5, -1, -1, 5, -1, -1, -1, -1, 2, 3, 0, 2, 14, -1, 7, -1, -1, 14, -1, -1, -1, -1, 6, -1, 11, 19, -1, -1, -1, -1, -1, -1, 17, -1, -1, 3, -1, 1, -1, -1, 4, 20, -1, -1, -1, -1, 2, -1, -1, 17, -1, -1, 20, -1, 7, -1, -1, -1, 17, -1, -1, 10, -1, 0, -1, -1, 1, -1, 8, -1, -1, -1, 4, -1, 2, 3, -1, -1, -1, -1, -1, 6, -1, 0, -1, 8, -1, 9, -1, -1, -1, -1, 2, -1, -1, 0, -1, -1, 14, -1, -1, -1, -1, 20, 2, -1, 9, 3, -1, -1, -1, 0, 12, -1, -1, -1, -1, -1, -1, -1, -1, -1, 11, -1, -1, 8, 6, -1, -1, 0, -1, 10, 3, -1, 22, 6, -1, -1, 6, -1, -1, 15, -1, 11, -1, -1, 15, -1, -1, 8, -1, -1, -1, 22, -1, -1, -1, 0, 3, 3, 5, -1, -1, -1, -1, 9, -1, -1, 1, -1, -1, -1, -1, -1, -1, -1, 5, 5, -1, -1, -1, 2, 20, 21, -1, 2, -1, 10, 1, -1, 11, -1, 14, -1, 18, -1, -1, 9, 21, 3, 5, -1, 13, 20, -1, -1, -1, -1, 0, 2, -1, -1, -1, -1, -1, 10, -1, 3, -1, 17, -1, -1, -1, -1, -1, -1, -1, -1, 19, -1, -1, 8, 2, -1, -1, 10, -1, 8, 19, 19, -1, 2, 13, -1, -1, -1, -1, -1, -1, 20, -1, 16, 18, -1, -1, -1, 1, -1, -1, 10, 2, -1, -1, 17, 0, 3, -1, -1, -1, 14, 1, 22, 6, 2, 11, -1, -1, 2, 2, -1, 19, 6, -1, -1, -1, -1, -1, 3, 18, -1, -1, 0, -1, 7, -1, 16, -1, -1, -1, 2, -1, -1, -1, -1, -1, 7, -1, -1, -1, -1, 14, -1, -1, -1, -1, -1, -1, -1, 15, 22, 2, 7, 10, -1, -1, -1, 2, -1, -1, -1, -1, -1, -1, 10, -1, -1, -1, 6, -1, 9, -1, -1, 14, 14, -1, 12, -1, -1, 4, 4, -1, -1, -1, -1, 2, 0, -1, 3, 2, -1, -1, -1, -1, -1, -1, 3, 4, 0, 2, 0, -1, -1, 0, -1, -1, 19, -1, -1, -1, -1, 11, -1, 15, 21, 20, -1, -1, 2, -1, 8, 1, 0, -1, -1, -1, -1, -1, -1, 0, -1, -1, -1, 7, -1, -1, 12, 8, 9, -1, 10, -1, -1, -1, 9, -1, -1, -1, -1, -1, 2, -1, 18, -1, -1, 14, -1, -1, -1, 11, -1, -1, -1, -1, 2, 2, -1, -1, 4, -1, -1, -1, -1, -1, -1, 10, 9, -1, -1, -1, -1, 14, 16, -1, -1, -1, -1, -1, 0, -1, 1, -1, -1, -1, -1, -1, -1, -1, -1, -1, -1, -1, -1, 9, -1, 0, -1, -1, 4, -1, -1, -1, 8, -1, -1, -1, 15, 20, -1, -1, -1, -1, -1, 6, -1, -1, -1, -1, 9, -1, -1, -1, 0, -1, -1, 10, -1, 19, 16, -1, -1, -1, -1, -1, -1, -1, 20, -1, 6, -1, 8, -1, -1, 2, -1, -1, -1, -1, 15, -1, -1, -1, 6, -1, -1, 3, -1, -1, -1, -1, -1, 13, -1, -1, -1, -1, 7, -1, -1, 7, -1, 11, -1, -1, 5, -1, -1, -1, 13, -1, -1, -1, 0, 7, 2, -1, 13, -1, -1, -1, -1, 8, -1, 3, -1, 3, 7, -1, -1, -1, 11, -1, -1, 2, -1, -1, -1, -1, 2, 6, -1, -1, 7, -1, -1, -1, -1, -1, 9, -1, -1, -1, 8, -1, -1, -1, -1, 14, -1, -1, -1, -1, 19, -1, -1, 3, -1, -1, -1, -1, -1, -1, -1, -1, -1, -1, -1, -1, -1, 0, 5, 13, -1, -1, -1, -1, -1, -1, 3, 19, 14, -1, -1, -1, -1, 0, -1, -1, 14, -1, 9, -1, 17, -1, 0, -1, -1, -1, 3, -1, -1, -1, -1, -1, -1, -1, -1, 2, -1, -1, -1, -1, 2, -1, 5, -1, -1, -1, -1, -1, -1, -1, -1, -1, -1, -1, 11, -1, -1, -1, -1, 15, -1, -1, 9, -1, -1, -1, -1, -1, 14, -1, -1, 3, -1, 12, 12, 2, 0, 3, -1, -1, -1, -1, -1, 13, -1, -1, -1, 0, -1, 4, 2, -1, -1, -1, 2, -1, -1, -1, -1, -1, -1, 7, -1, 2, -1, -1, -1, -1, -1, -1, -1, 2, -1, 2, -1, -1, -1, 15, 10, 1, -1, -1, -1, -1, -1, -1, -1, -1, 15, -1, 19, -1, -1, -1, -1, -1, -1, 6, -1, -1, -1, -1, -1, -1, -1, -1, -1, -1, -1, -1, 21, 21, 14, -1, -1, 9, -1, -1, 12, -1, -1, -1, 14, -1, -1, 2, 4, -1, 5, -1, 3, -1, 2, 0, 8, -1, 13, 3, -1, -1, 21, -1, -1, 22, 2, 8, -1, -1, -1, -1, -1, -1, -1, 22, -1, 3, -1, -1, -1, -1, 8, -1, 20, -1, -1, -1, -1, 14, 8, 11, 12, -1, 16, 6, -1, -1, 19, -1, 0, -1, -1, 6, -1, 2, -1, -1, 2, 3, -1, 11, -1, -1, 0, -1, 2, 3, -1, -1, -1, 6, -1, -1, -1, 0, -1, 0, -1, -1, -1, -1, 12, 2, -1, 12, -1, -1, -1, -1, -1, 7, 2, 2, -1, -1, -1, -1, -1, -1, -1, 9, 12, 17, -1, -1, 11, -1, 0, -1, -1, -1, -1, 2, -1, -1, -1, -1, -1, -1, -1, 13, 14, -1, -1, -1, -1, 0, -1, 4, 15, 17, -1, -1, 12, -1, -1, 16, 2, -1, -1, -1, -1, -1, -1, 16, -1, -1, -1, -1, -1, 18, -1, -1, 2, -1, -1, -1, -1, -1, 21, -1, -1, -1, 9, -1, 1, -1, -1, -1, 18, 9, -1, 10, -1, -1, -1, 14, -1, 9, -1, -1, -1, 16, -1, -1, -1, -1, -1, -1, 11, -1, -1, -1, -1, -1, -1, -1, -1, 2, 7, -1, -1, -1, 12, -1, -1, -1, 14, -1, -1, -1, -1, -1, 0, -1, -1, -1, -1, -1, 0, -1, -1, -1, -1, -1, -1, -1, -1, -1, -1, -1, 8, 14, -1, -1, -1, -1, 8, 18, -1, 0, 11, 12, 2, -1, -1, -1, -1, 7, 5, -1, -1, -1, 17, -1, -1, -1, -1, -1, 3, -1, -1, -1, -1, -1, 16, 7, 7, -1, -1, 2, 22, 14, -1, -1, -1, -1, -1, 13, -1, 14, -1, -1, -1, -1, -1, -1, -1, 1, -1, -1, 4, 22, -1, -1, -1, -1, -1, -1, -1, -1, -1, 9, -1, -1, -1, 6, -1, -1, 6, 18, -1, -1, 4, -1, -1, 12, -1, 2, 21, -1, 22, -1, 20, -1, 13, -1, -1, -1, -1, -1, 10, -1, -1, 3, -1, -1, 0, 4, 13, -1, -1, -1, -1, -1, -1, -1, 22, 9, -1, -1, -1, -1, -1, -1, -1, 21, -1, 6, -1, -1, 0, 12, -1, -1, -1, -1, -1, -1, -1, 0, -1, -1, -1, -1, 3, -1, 14, -1, -1, 2, -1, 18, 7, 14, 2, -1, -1, 1, 9, -1, -1, -1, -1, -1, -1, -1, -1, 3, 3, -1, -1, -1, 8, -1, -1, 6, -1, -1, -1, 14, -1, -1, 1, 15, -1, -1, -1, -1, 10, 12, 17, -1, -1, 0, 12, -1, -1, 13, -1, -1, -1, 0, -1, -1, -1, -1, -1, -1, 22, 14, -1, -1, -1, -1, 21, -1, -1, -1, 2, -1, 22, -1, -1, -1, 15, -1, 2, -1, -1, -1, 1, 3, 0, -1, -1, -1, 8, -1, 3, -1, -1, 18, 10, 13, -1, 6, -1, -1, -1, -1, 9, -1, -1, 6, 14, -1, -1, -1, -1, 6, -1, -1, -1, -1, -1, -1, -1, -1, -1, -1, -1, -1, -1, 11, 12, -1, -1, -1, 2, -1, 7, -1, -1, 0, -1, -1, 0, -1, 3, 2, 8, -1, 12, -1, -1, -1, -1, 2, 13, 6, 0, -1, -1, -1, 5, -1, -1, -1, -1, -1, -1, -1, -1, 17, -1, -1, -1, -1, -1, -1, -1, -1, -1, -1, 14, -1, -1, -1, -1, -1, 3, -1, -1, 4, -1, -1, -1, -1, -1, -1, -1, -1, 2, -1, -1, -1, -1, -1, 10, 2, 6, -1, -1, -1, -1, -1, 12, -1, -1, -1, -1, -1, -1, -1, -1, -1, -1, -1, -1, -1, -1, -1, -1, -1, -1, -1, -1, -1, -1, -1, -1, -1, -1, 22, -1, -1, -1, 3, -1, -1, -1, -1, 0, 6, -1, -1, 2, 14, 2, -1, -1, -1, -1, -1, 0, 0, -1, 10, -1, -1, -1, -1, -1, -1, -1, -1, -1, -1, -1, -1, 2, -1, -1, -1, -1, 19, -1, 16, -1, -1, -1, -1, 6, -1, -1, 12, -1, -1, -1, 14, 0, -1, 9, -1, -1, -1, -1, -1, -1, -1, -1, -1, -1, 5, -1, -1, 5, -1, -1, -1, -1, -1, -1, 11, -1, 11, 0, -1, -1, 8, 5, -1, -1, 2, 8, 14, -1, -1, 14, -1, 3, -1, -1, -1, -1, 18, -1, -1, -1, 19, -1, -1, -1, 20, 2, -1, 15, -1, -1, 0, 8, 8, 9, -1, -1, -1, -1, -1, 17, -1, -1, -1, 7, -1, -1, -1, -1, -1, 13, 14, 6, -1, -1, -1, -1, 16, 16, 5, -1, 2, -1, 2, -1, -1, -1, -1, -1, -1, -1, 3, 6, -1, -1, -1, 12, 14, -1, -1, -1, -1, 1, 3, -1, -1, -1, -1, 0, -1, 4, -1, -1, -1, -1, -1, 8, -1, -1, -1, 20, -1, -1, 8, -1, 9, -1, 3, -1, 9, -1, 12, -1, -1, -1, -1, -1, -1, -1, -1, -1, 4, -1, -1, -1, -1, -1, 21, -1, -1, -1, 15, -1, -1, -1, 1, -1, -1, 1, -1, 0, -1, 9, -1, -1, 6, -1, -1, -1, 20, 10, -1, -1, -1, -1, 14, 9, -1, 5, -1, 7, -1, 17, -1, 21, -1, 0, 3, -1, 15, 7, -1, -1, -1, -1, 2, -1, -1, 10, 13, -1, -1, 2, -1, 8, -1, -1, -1, -1, 11, -1, 6, -1, 3, -1, -1, -1, -1, 6, -1, -1, 19, -1, -1, -1, -1, 1, 13, -1, 2, 20, 3, 9, 4, -1, -1, 12, -1, -1, -1, 6, -1, -1, -1, -1, -1, -1, -1, 13, 12, -1, 2, -1, -1, 12, 1, -1, -1, -1, -1, 2, -1, -1, 20, 8, -1, -1, 0, -1, 6, -1, -1, -1, -1, 3, -1, -1, 2, 7, 7, 19, -1, -1, 9, 2, 20, -1, 13, -1, -1, -1, -1, 6, -1, -1, -1, -1, -1, -1, -1, -1, -1, -1, -1, -1, -1, 12, -1, 9, -1, 8, -1, -1, 7, 12, -1, -1, -1, 0, -1, -1, -1, 2, 4, -1, -1, -1, -1, -1, -1, 4, 9, 1, -1, 14, -1, -1, -1, 6, -1, -1, 6, 21, -1, -1, -1, -1, -1, -1, -1, -1, 1, 13, 10, -1, -1, 0, -1, -1, -1, -1, -1, -1, 5, 6, 21, -1, -1, 9, -1, -1, -1, 19, -1, -1, -1, -1, -1, -1, 0, 0, 7, 15, -1, -1, -1, 0, -1, 14, -1, -1, -1, 12, -1, -1, -1, -1, -1, -1, 20, -1, -1, -1, -1, -1, -1, -1, -1, 16, 15, -1, -1, -1, 4, 12, -1, -1, 2, 14, 2, -1, -1, 1, 10, 2, 0, -1, 0, 6, 7, -1, -1, 12, -1, -1, -1, -1, 15, -1, 22, 12, -1, -1, -1, 3, 8, 10, -1, 7, -1, -1, -1, 14, -1, -1, -1, -1, -1, 2, -1, -1, 5, 18, 13, -1, 3, -1, 20, -1, -1, -1, 0, -1, -1, -1, 6, -1, -1, 4, -1, -1, -1, -1, -1, -1, -1, -1, 21, 12, -1, -1, -1, -1, -1, 5, 3, 21, -1, -1, -1, -1, -1, 2, -1, 6, -1, -1, -1, -1, 13, -1, -1, -1, -1, -1, 20, -1, 8, -1, 8, 3, 0, -1, 7, -1, 2, -1, 5, -1, -1, 0, -1, -1, 10, -1, -1, -1, -1, -1, -1, 6, -1, 19, -1, -1, 8, -1, -1, -1, -1, 2, -1, 17, 12, 5, 14, -1, -1, -1, -1, 12, -1, 2, 0, -1, -1, 15, 6, 9, -1, -1, -1, -1, 0, -1, -1, -1, -1, -1, 1, -1, 2, -1, -1, 10, -1, -1, -1, -1, 18, 17, 7, -1, -1, -1, -1, 2, 4, 7, -1, 8, -1, -1, -1, -1, -1, -1, 14, -1, 3, -1, -1, 0, -1, -1, -1, 10, -1, -1, -1, -1, -1, -1, -1, 3, -1, 22, -1, 3, -1, -1, 3, -1, -1, -1, 6, -1, 8, -1, -1, 5, 4, -1, -1, -1, 0, -1, -1, -1, -1, -1, 2, 7, -1, -1, 3, -1, 15, -1, -1, -1, -1, 8, 2, -1, -1, 0, 11, 7, -1, 0, 18, 0, 8, -1, -1, -1, -1, -1, -1, 10, -1, 0, -1, -1, -1, -1, 6, 9, 3, 21, 9, -1, 0, -1, 7, -1, -1, -1, -1, 18, 3, 10, -1, 10, 15, 2, -1, 15, -1, -1, -1, -1, 6, -1, 8, 7, -1, -1, -1, 10, -1, -1, -1, -1, -1, -1, 14, -1, -1, -1, -1, 5, -1, -1, 12, 12, -1, 10, 14, -1, 20, -1, 13, 0, -1, -1, -1, -1, -1, -1, 14, 14, 10, -1, -1, -1, -1, 11, 17, -1, 22, 8, -1, -1, 22, -1, -1, 19, -1, -1, -1, -1, -1, 10, -1, 16, -1, -1, -1, 22, -1, -1, -1, -1, -1, 8, -1, -1, 9, 8, -1, -1, 11, 0, 7, -1, -1, -1, -1, -1, -1, 15, 3, -1, 9, -1, -1, 3, 7, -1, 16, -1, -1, -1, -1, 7, -1, -1, 6, -1, -1, -1, -1, 19, 17, 15, 7, -1, -1, -1, 7, -1, 10, 0, -1, 1, -1, 10, -1, 16, 18, -1, -1, 22, 0, 17, -1, -1, -1, -1, -1, 17, -1, -1, -1, -1, -1, -1, -1, -1, -1, -1, -1, -1, 1, 3, -1, -1, -1, -1, -1, 0, 3, -1, -1, -1, -1, 5, 6, 20, 2, -1, 0, -1, -1, -1, 4, 4, 12, -1, -1, -1, -1, -1, -1, 12, -1, -1, -1, -1, -1, -1, -1, -1, -1, 7, 3, -1, -1, -1, -1, -1, 5, -1, -1, -1, 8, 3, -1, -1, 9, 7, -1, -1, -1, -1, -1, -1, 0, 8, -1, -1, -1, -1, -1, -1, 2, -1, -1, 0, 8, -1, 16, 15, -1, -1, 11, -1, 7, 3, -1, 0, -1, 22, -1, -1, -1, 12, -1, -1, 10, 9, -1, -1, -1, 11, -1, 13, -1, 16, -1, -1, -1, -1, 1, -1, -1, -1, 7, 6, -1, -1, 3, 1, 0, 5, -1, -1, -1, -1, 15, 21, 19, -1, -1, 17, -1, 8, 8, -1, 8, -1, -1, -1, -1, 9, -1, -1, 9, -1, -1, -1, -1, 14, -1, -1, -1, -1, 2, -1, -1, -1, -1, 6, 8, 22, -1, -1, -1, 6, -1, -1, -1, -1, -1, 16, 7, -1, 0, -1, 12, -1, -1, -1, -1, -1, -1, -1, 2, -1, 7, 1, -1, -1, -1, -1, -1, 0, -1, -1, 14, -1, 7, 8, -1, -1, -1, 8, -1, 11, 8, 1, -1, 6, -1, -1, -1, 0, -1, -1, 12, 6, -1, -1, 14, 0, -1, 8, 0, 21, -1, -1, -1, -1, -1, -1, -1, 4, -1, -1, 7, -1, -1, -1, -1, -1, -1, -1, 6, -1, -1, -1, -1, -1, -1, -1, -1, -1, -1, -1, -1, -1, -1, 8, -1, -1, -1, 11, 4, -1, -1, -1, 9, -1, 6, -1, -1, -1, -1, -1, -1, -1, 10, 0, 4, -1, -1, -1, -1, -1, -1, -1, 8, -1, -1, 2, 8, 12, 18, -1, 2, -1, -1, 5, -1, -1, -1, -1, 5, 5, -1, -1, -1, -1, 2, -1, -1, 19, -1, -1, -1, -1, -1, 12, -1, 8, 0, 14, -1, 14, 14, -1, -1, -1, 22, -1, 5, -1, -1, -1, 6, -1, -1, -1, 6, -1, -1, -1, 2, -1, -1, -1, -1, -1, -1, -1, 6, 6, -1, -1, 2, -1, 7, -1, -1, 22, -1, 0, -1, -1, 16, 0, -1, -1, 14, -1, 12, 4, -1, 19, 2, -1, -1, -1, 4, -1, -1, -1, -1, -1, -1, -1, 9, -1, -1, -1, -1, -1, 14, -1, 10, -1, -1, -1, -1, -1, -1, -1, 9, -1, -1, -1, 11, 3, -1, 4, 4, 15, 9, 19, -1, -1, 5, 9, -1, 12, -1, -1, -1, -1, -1, -1, -1, -1, 6, -1, 13, -1, -1, 3, -1, -1, -1, -1, -1, -1, -1, -1, -1, 20, -1, -1, -1, 3, -1, -1, -1, -1, -1, -1, 19, -1, -1, -1, -1, -1, -1, -1, -1, 1, -1, -1, -1, -1, 2, -1, 3, -1, 3, -1, 22, 8, 18, -1, -1, -1, -1, -1, -1, 2, -1, -1, 22], \"coloraxis\": \"coloraxis\", \"size\": 3, \"symbol\": \"circle\"}, \"mode\": \"markers\", \"name\": \"\", \"scene\": \"scene\", \"showlegend\": false, \"type\": \"scatter3d\", \"x\": [-0.317789226770401, 1.1831082105636597, -0.5034289956092834, 5.45612907409668, -6.188209533691406, 8.962723731994629, -6.0756096839904785, -7.1264967918396, -0.4542017877101898, 9.187970161437988, 5.5189595222473145, -3.6679558753967285, -3.38016414642334, 11.328195571899414, -9.595863342285156, 0.16867446899414062, 10.798529624938965, -8.769715309143066, -3.3109800815582275, -1.7817364931106567, 12.722894668579102, 7.316894054412842, 11.322585105895996, -2.23317813873291, -2.5002973079681396, 0.8930083513259888, 5.928194046020508, 6.294753551483154, 4.10156774520874, -1.1437666416168213, -8.198395729064941, 11.622800827026367, 7.0545830726623535, 9.381204605102539, 4.426000595092773, -1.8105286359786987, 10.546780586242676, -5.047635078430176, -8.13074779510498, -2.8643956184387207, -3.127721071243286, -1.0952907800674438, -1.147525668144226, -0.6869853734970093, 9.386550903320312, -0.06946209818124771, -1.5947000980377197, -3.916778087615967, -8.693811416625977, -1.5208557844161987, -5.175828456878662, -1.9551297426223755, -3.8217294216156006, -4.555559158325195, -8.005873680114746, 11.682381629943848, -5.680211067199707, 16.235305786132812, -3.9221770763397217, 4.528318405151367, 13.716124534606934, -6.885753154754639, -4.032100200653076, -3.239011287689209, -7.683232307434082, -8.41679859161377, 0.25720152258872986, -8.473995208740234, -4.138354778289795, 7.807918548583984, -1.59332275390625, 4.986502647399902, -6.94291353225708, 6.736659526824951, 10.237654685974121, -1.8549500703811646, -6.080825328826904, -3.201368808746338, 0.34277841448783875, 1.2843672037124634, -9.010574340820312, 8.447807312011719, -1.3419603109359741, 5.718545913696289, 11.141141891479492, 10.620110511779785, -8.957590103149414, -0.6513185501098633, -0.0335819236934185, -8.065179824829102, -2.9288430213928223, 6.570309162139893, -1.6993980407714844, 4.5400776863098145, 5.401512622833252, -15.499561309814453, 14.681159019470215, -2.085256576538086, 3.1714909076690674, -11.312800407409668, 4.656336784362793, 8.279304504394531, 3.203578233718872, -5.1279826164245605, -8.179845809936523, -5.328055381774902, -10.80899715423584, -7.995868682861328, -1.453157901763916, -3.410778284072876, -6.759814739227295, -9.237626075744629, 0.32832977175712585, -13.296839714050293, -10.75652027130127, 4.399971961975098, 2.7135884761810303, 6.894178867340088, 10.301063537597656, 3.0156290531158447, 0.8550199270248413, 0.07067487388849258, -13.043950080871582, -12.558741569519043, -9.023442268371582, -3.4181573390960693, -12.936822891235352, -7.266095161437988, 7.625998497009277, -2.7304770946502686, -9.831208229064941, 10.161055564880371, 0.6401615738868713, 14.49828052520752, -2.5148472785949707, -13.17066764831543, 6.5756449699401855, 9.868158340454102, 8.597647666931152, 13.492447853088379, 7.08209753036499, 14.268924713134766, 0.883825421333313, 11.771810531616211, 3.9360880851745605, -0.5572004318237305, 4.744409561157227, -3.673652410507202, 5.811609268188477, 13.000988960266113, -0.8419990539550781, -6.7855353355407715, -6.105476379394531, -1.7561683654785156, 4.372908592224121, -0.17947842180728912, 8.491164207458496, 9.637601852416992, 8.366247177124023, -1.4416773319244385, -2.193737268447876, 0.5973108410835266, 7.699515342712402, 14.826362609863281, 8.231649398803711, 0.21984213590621948, -4.868525505065918, -10.47479248046875, 14.099712371826172, 0.44248834252357483, 13.800647735595703, 15.727556228637695, 13.524413108825684, 6.014347553253174, 9.564287185668945, -0.9355373382568359, 11.9059419631958, 14.43391227722168, -4.063871383666992, 9.631101608276367, -2.352294683456421, -4.894652366638184, -11.409836769104004, 1.964550256729126, 4.275638103485107, -3.828634023666382, 3.6589255332946777, -11.07120418548584, -2.129530429840088, 2.8465166091918945, 11.17525577545166, 2.766533374786377, 0.5572569370269775, -3.3265674114227295, 6.669909477233887, -4.37891149520874, -8.751179695129395, -1.8625887632369995, -1.6573916673660278, 10.360234260559082, -2.555680751800537, -1.4924906492233276, 0.7949084639549255, 13.439384460449219, 6.281670093536377, -6.97208833694458, -2.131856918334961, 10.440070152282715, 9.742807388305664, -9.232641220092773, -0.587061882019043, -4.7027201652526855, 9.831665992736816, -2.8181538581848145, 9.17094898223877, -13.080476760864258, 0.8811039924621582, -0.1524479240179062, 11.437577247619629, -9.907389640808105, -9.100972175598145, -2.370770215988159, -11.33444881439209, 2.3310630321502686, -3.8042802810668945, 2.3897900581359863, -0.6339526772499084, 2.2428040504455566, -7.094653129577637, -7.908381938934326, 6.7492876052856445, -1.5250723361968994, 6.119905471801758, 6.8402581214904785, -5.996711254119873, 4.073345184326172, -1.810210943222046, 3.8822343349456787, 6.3112945556640625, -1.352440595626831, 9.248221397399902, -2.6412668228149414, 10.69262409210205, 11.915837287902832, -11.409363746643066, -0.761346161365509, 4.082061290740967, 3.7668495178222656, 3.247520923614502, 10.863496780395508, -12.723319053649902, -1.6960738897323608, 5.565091133117676, -2.582193613052368, -1.2654519081115723, -11.470501899719238, -1.2472734451293945, 2.531630039215088, -9.240765571594238, -6.38230562210083, 10.229483604431152, -3.4727606773376465, -1.370749831199646, -3.672314405441284, -4.144967555999756, 1.575181007385254, -1.1913142204284668, -12.618473052978516, 0.08007130026817322, 7.533916473388672, 2.3134450912475586, -8.598731994628906, 10.048632621765137, -3.747584819793701, -12.051521301269531, 12.413395881652832, -14.1847562789917, -13.000563621520996, 6.576818943023682, -4.47088098526001, -5.529610633850098, 10.089433670043945, 9.813395500183105, -7.324459075927734, 8.040140151977539, 8.761005401611328, -1.526876449584961, 0.7033485174179077, -4.5258331298828125, 0.24941393733024597, -1.876852035522461, -1.2207159996032715, -4.598573684692383, -1.5164589881896973, 11.527579307556152, -3.769636392593384, 5.578690528869629, -4.039863586425781, 4.765811443328857, -8.252367973327637, 12.530110359191895, 7.0435967445373535, -13.165666580200195, 12.041444778442383, 5.132753849029541, -7.447144031524658, 9.268150329589844, 15.087620735168457, 11.566497802734375, -2.818847417831421, 5.8454742431640625, -0.45535507798194885, 6.289137363433838, -3.993673801422119, -2.685042142868042, 14.619525909423828, 10.70002269744873, -0.21950291097164154, -4.012463092803955, -3.3437697887420654, 3.8129074573516846, -13.219075202941895, 4.169702529907227, 2.4760029315948486, -4.722729682922363, -4.378408908843994, 13.318779945373535, 11.67197322845459, 14.167003631591797, 4.4574456214904785, -2.970219850540161, -3.18687105178833, -4.290517807006836, -13.779804229736328, 4.176141262054443, -3.345606565475464, -6.226455211639404, 6.695108890533447, -15.011500358581543, 1.6066358089447021, -2.7014551162719727, -5.433547019958496, 3.4281177520751953, -8.597273826599121, 13.591174125671387, 13.852592468261719, -2.89396595954895, 10.5220947265625, -9.626983642578125, 11.894492149353027, -7.934513092041016, -4.753396511077881, 0.22048544883728027, 11.483978271484375, 3.033402681350708, -9.034768104553223, -6.143197536468506, 3.7705793380737305, -0.560700535774231, -2.2921814918518066, -2.054485559463501, -13.515665054321289, 3.085812568664551, -1.8480643033981323, -12.1545991897583, -12.831258773803711, -5.002220153808594, 12.05420970916748, 14.377309799194336, -13.731463432312012, 1.3072630167007446, -7.6163740158081055, -1.275395154953003, -5.046332836151123, -9.68795394897461, -10.962074279785156, -1.5422416925430298, 12.491252899169922, -7.939500331878662, 7.44683313369751, -6.688488006591797, 2.7951629161834717, -0.38889604806900024, -6.982939720153809, 1.907296061515808, 12.93172836303711, -13.153618812561035, -0.34134185314178467, 1.3421990871429443, 1.0286164283752441, -0.9156855344772339, 12.852792739868164, -8.825626373291016, 2.1879026889801025, -1.76541006565094, 12.384078025817871, -1.9071969985961914, -2.821826457977295, -5.901207447052002, -0.2804318964481354, 8.154888153076172, 5.743330001831055, 11.602326393127441, -9.34372615814209, 2.235769033432007, -3.882256269454956, -3.5596375465393066, -3.137930393218994, 4.892320156097412, 7.854734897613525, 0.08066344261169434, 5.12153434753418, -0.44343405961990356, 9.515602111816406, 13.085821151733398, -4.734611988067627, -4.411569595336914, -8.992883682250977, -10.712151527404785, -8.245869636535645, 4.893354415893555, -3.1880042552948, -3.625683069229126, -11.296245574951172, -6.057502746582031, -4.296682357788086, 3.179988145828247, -10.388229370117188, 10.9666166305542, -1.4219982624053955, -6.839741230010986, -0.32005149126052856, -0.9421620965003967, 13.210734367370605, -0.48456206917762756, -2.5762264728546143, -15.377102851867676, -1.4857457876205444, -5.398848056793213, -14.628241539001465, 11.98608112335205, 10.870468139648438, -0.4632653594017029, 2.1269032955169678, -1.039096474647522, 9.635550498962402, 7.929691791534424, 5.369316101074219, -1.2696963548660278, 13.694693565368652, 6.933897972106934, -3.6123640537261963, -8.738243103027344, -3.636538505554199, -2.2277679443359375, 12.804624557495117, 6.176543712615967, -9.646261215209961, -1.4386883974075317, -3.997972249984741, 8.47146987915039, -10.570475578308105, 4.709393501281738, -9.114704132080078, 4.598672866821289, 11.829496383666992, -7.532325267791748, 8.928982734680176, 1.2296797037124634, -5.609681129455566, 2.8359148502349854, 0.17720097303390503, 2.7266905307769775, -8.63815975189209, -11.124256134033203, 1.6476941108703613, 6.362814426422119, -13.602668762207031, -0.6631407141685486, -4.49530553817749, 7.196718692779541, 13.887179374694824, 11.21947193145752, 13.049322128295898, 0.044049061834812164, -4.070389270782471, -1.639683485031128, -15.31407356262207, 10.15698528289795, -9.971308708190918, -11.5425386428833, 0.7705588936805725, -0.09507936239242554, 12.371275901794434, 8.819215774536133, 0.33355140686035156, 3.7546439170837402, -3.123758554458618, -0.44543084502220154, -0.7707716226577759, 13.630914688110352, -8.247353553771973, 5.256536483764648, -9.851101875305176, 7.17100715637207, 13.589184761047363, 10.34011459350586, -14.631685256958008, -12.818440437316895, -1.881754994392395, -0.48774394392967224, -2.6792657375335693, 1.209873914718628, -7.192155361175537, 1.6534640789031982, 9.993167877197266, 9.25976848602295, 7.974210739135742, 6.8899455070495605, -14.415757179260254, -7.935308456420898, 6.7036285400390625, 11.94393539428711, -2.1166248321533203, 4.605403900146484, 12.562493324279785, 7.573469161987305, -10.115008354187012, 0.980019748210907, -6.461110591888428, 8.71223258972168, -4.772838592529297, 7.889978408813477, 13.105781555175781, 9.765532493591309, -3.573782205581665, 10.05376148223877, -3.3190994262695312, -3.5924813747406006, -5.135488033294678, -2.7364683151245117, -4.946942329406738, -4.402708530426025, -3.6865813732147217, -1.0193558931350708, -10.189640998840332, -0.1596328169107437, 9.104260444641113, -1.4269849061965942, 6.585419654846191, -2.7492072582244873, -4.3966264724731445, -7.681585311889648, -0.5262362360954285, -7.454541206359863, 10.14360237121582, -3.845024824142456, -0.18143577873706818, -5.109040260314941, -3.5979361534118652, 3.473829746246338, 3.3340892791748047, -3.3683409690856934, -8.186932563781738, 4.943699359893799, -0.1669936627149582, -1.4846504926681519, 6.139244556427002, 12.783357620239258, -2.3754751682281494, -10.90233325958252, 4.4103617668151855, 2.8537943363189697, -6.731571674346924, -0.5908551216125488, -13.361337661743164, 3.0515244007110596, -7.950638294219971, -4.055112361907959, 1.926917552947998, 3.9978339672088623, -13.358922004699707, 15.465883255004883, 2.375819206237793, 7.033168315887451, 4.812748908996582, 3.849864959716797, 8.828694343566895, -6.298899173736572, 4.805747985839844, -6.477675437927246, 4.073183059692383, -2.7942514419555664, 8.480643272399902, 3.8381097316741943, -3.7969610691070557, -0.9787743091583252, 10.4407958984375, -1.357387900352478, -1.7604899406433105, 6.248417377471924, 10.132869720458984, 8.647485733032227, -7.267875671386719, 7.459227561950684, 8.941567420959473, -2.995523691177368, 8.155264854431152, 12.629983901977539, 6.137117862701416, -6.882789134979248, -4.100712776184082, -8.44434642791748, -12.830801010131836, 2.3227763175964355, -5.573953151702881, 5.237517356872559, -3.410771131515503, -1.8069126605987549, -7.646259307861328, -7.535799503326416, -9.915751457214355, -1.0307494401931763, -9.527355194091797, 1.4839282035827637, -4.160567760467529, 4.808999061584473, -6.1911396980285645, 6.2099528312683105, 8.955974578857422, 2.5368340015411377, -7.5648393630981445, -8.309541702270508, -2.1507112979888916, -0.2980565130710602, 7.136780738830566, -7.962830066680908, -0.43835949897766113, 5.702471733093262, -14.272245407104492, -12.344722747802734, 6.164188861846924, -3.627678394317627, -1.2409729957580566, 0.2152521312236786, 7.200760364532471, 6.120880126953125, -3.8005924224853516, -4.675139427185059, -1.4696929454803467, 4.802343368530273, 4.352545738220215, -3.656301259994507, -1.8489433526992798, -8.4590482711792, -3.085402250289917, -6.659550666809082, 9.04438304901123, 4.2918853759765625, 1.0916056632995605, 11.699091911315918, -4.990280628204346, 1.7385908365249634, 12.507447242736816, 11.814997673034668, -13.638431549072266, -5.52346658706665, 0.20586776733398438, -7.862074851989746, -1.5049254894256592, 11.199295043945312, 3.245710611343384, -10.821707725524902, 13.888895034790039, -3.0094940662384033, -7.940711975097656, -14.24528980255127, 5.213672637939453, -1.763097882270813, -4.679145812988281, 0.23907572031021118, -8.468108177185059, -5.340860843658447, -9.44007682800293, -3.2553722858428955, 10.730284690856934, 13.068487167358398, -0.47929877042770386, 1.9317764043807983, 0.5600701570510864, 8.96843147277832, 10.980911254882812, -2.729768753051758, 5.454094886779785, -3.455634355545044, -1.4996097087860107, 8.912617683410645, -7.119450092315674, 6.099471092224121, 12.945528984069824, -1.3777278661727905, 11.71834659576416, 11.689136505126953, 4.395873069763184, -2.306515693664551, -0.45929989218711853, -0.7806201577186584, 6.647518634796143, 0.2363574206829071, 9.846662521362305, -12.784330368041992, 8.164896965026855, 3.1294965744018555, -9.490188598632812, 8.042316436767578, 8.977802276611328, -12.986546516418457, 6.9576029777526855, -0.41282498836517334, -5.055899143218994, 4.499575138092041, 16.05238914489746, 1.328495740890503, -5.123466968536377, -11.784895896911621, 1.5766652822494507, 4.329902172088623, 3.4367728233337402, 7.04695463180542, -3.966111421585083, -11.216146469116211, 9.62401008605957, 2.648315668106079, 0.3061549961566925, -0.5463759899139404, 2.929288387298584, -2.6341936588287354, -5.37145471572876, -1.1715584993362427, 9.024829864501953, 11.45706844329834, -3.460901975631714, 12.67394733428955, -8.14611530303955, -4.18987512588501, 9.07101821899414, 2.5411202907562256, -0.45439955592155457, 0.8812597990036011, 10.49361801147461, 10.55466079711914, 2.112006664276123, 2.2570502758026123, 0.29229360818862915, -5.7826642990112305, 9.2686185836792, 11.56325912475586, 4.464923858642578, -0.8739670515060425, -8.374646186828613, -6.63302755355835, 8.28542423248291, -4.2643723487854, 3.1183419227600098, -5.657452583312988, -14.415757179260254, 4.447559356689453, -8.531129837036133, 7.49387264251709, -2.162558078765869, 12.454355239868164, -5.009665012359619, -0.6399471163749695, -0.8636980652809143, -2.6265714168548584, -5.188974380493164, 8.769392967224121, -13.12628173828125, -4.9748616218566895, -2.1826133728027344, 13.206469535827637, -6.30986213684082, 11.643056869506836, -2.3506267070770264, -2.5322890281677246, -4.6956467628479, -0.9315444231033325, 7.837347507476807, 2.0019173622131348, -2.9949629306793213, 10.127297401428223, 1.9915333986282349, -0.47427892684936523, -5.277363300323486, -0.25275561213493347, 0.6409348845481873, -3.119889259338379, 14.146868705749512, -1.2782832384109497, 10.987096786499023, -8.490557670593262, 3.380720615386963, 13.8197021484375, 4.513462543487549, 2.4131112098693848, 14.58155632019043, -2.836987018585205, -2.836050510406494, -0.7218901515007019, -1.5428134202957153, -3.727447748184204, -0.07625304162502289, -1.0650885105133057, 3.850564956665039, 2.5442698001861572, -2.212203025817871, 2.17539644241333, -14.14542293548584, 10.45534896850586, -1.2974519729614258, 10.676040649414062, -3.8700175285339355, 2.778712749481201, -10.68397331237793, 10.040226936340332, 11.829190254211426, -9.409669876098633, 2.458904981613159, -9.604275703430176, -5.111098289489746, 10.419631958007812, 13.716788291931152, 7.302780628204346, 6.918671607971191, 9.563077926635742, -7.530961036682129, 8.618559837341309, -6.480842113494873, 7.919981479644775, 9.343058586120605, 0.3341619074344635, 13.044598579406738, 5.820727348327637, -4.622648239135742, 8.252549171447754, 3.1167919635772705, 1.1100331544876099, -3.823700428009033, -5.723056316375732, 0.626741349697113, 4.1133551597595215, -9.366990089416504, -3.36657977104187, -2.537644863128662, 2.7158401012420654, 8.457159996032715, -7.587589263916016, 9.408236503601074, -2.5753977298736572, 8.634682655334473, -3.758837938308716, -12.365690231323242, 6.899323463439941, -10.802022933959961, -8.869160652160645, -2.9154553413391113, 3.408104419708252, -3.23296856880188, 2.2386116981506348, -3.618805408477783, 11.520232200622559, -8.311413764953613, -6.874272346496582, -6.521378040313721, 12.66157341003418, -1.5297561883926392, 12.107751846313477, 3.041124105453491, 8.161053657531738, -13.765140533447266, -7.594776153564453, 3.8675296306610107, -0.2713978588581085, -2.4967215061187744, 1.4310024976730347, 9.376724243164062, -3.422489881515503, 8.328940391540527, 9.221595764160156, 8.888594627380371, 8.307401657104492, -6.528118133544922, -8.499030113220215, 11.673524856567383, 1.2109475135803223, -0.01300884410738945, 1.054497241973877, -6.6128668785095215, -6.935161113739014, -0.4319540560245514, -11.74780559539795, 6.924367427825928, 10.770405769348145, 1.063231110572815, -0.31820034980773926, -4.904478549957275, -11.622477531433105, -11.305200576782227, 2.828253984451294, -9.894330978393555, 10.072532653808594, -4.455465793609619, 8.628911972045898, -3.6077957153320312, 9.567577362060547, -12.808253288269043, -2.454702138900757, -7.497915744781494, -6.284995079040527, 8.594298362731934, 3.362495183944702, -7.704832553863525, -7.694379806518555, 13.832756996154785, -2.176759958267212, -4.838865756988525, -10.033905982971191, -3.0230777263641357, -12.79306697845459, -2.8310387134552, 6.3892316818237305, -6.559087753295898, -5.760186195373535, -0.1356014609336853, -5.986134052276611, 6.647652626037598, 13.029847145080566, -8.994667053222656, -0.08277669548988342, 3.5559256076812744, -2.571413516998291, 5.903045654296875, -1.446648120880127, 8.48188304901123, 0.5834240317344666, -3.8246138095855713, 4.203835487365723, 0.2734682261943817, -7.099005222320557, -4.108760356903076, -2.924142360687256, -0.3662315309047699, 9.507152557373047, 8.595551490783691, -14.77108383178711, -1.23483145236969, 10.756871223449707, -5.990615367889404, 7.244982719421387, -4.030605316162109, 0.5686251521110535, -4.282537460327148, -6.797542095184326, 2.805572271347046, 11.533421516418457, 8.570873260498047, -9.760262489318848, 16.01662254333496, 1.257792592048645, 13.756548881530762, 8.074172973632812, 10.028129577636719, -2.990000009536743, -1.6482535600662231, 8.15654468536377, -0.9949528574943542, 12.440804481506348, -9.882284164428711, 12.98879337310791, -4.06641149520874, 9.041136741638184, -2.814500093460083, -15.010910987854004, 11.4385347366333, -1.4110206365585327, 7.916426181793213, -3.437209367752075, 12.883563995361328, 0.48649153113365173, 6.331223964691162, -4.0412726402282715, -4.895881175994873, -13.055599212646484, 6.068710803985596, 12.777117729187012, -8.867415428161621, -11.49966049194336, 7.295532703399658, 4.782176494598389, 0.24917015433311462, 0.7646487355232239, -8.031832695007324, 7.226729869842529, -2.9809153079986572, 6.916354179382324, -3.177104949951172, -0.9343876838684082, -1.4909753799438477, -0.42220425605773926, -6.967977046966553, 3.1565589904785156, -8.2887544631958, 12.313643455505371, -9.943108558654785, 5.132625102996826, -1.8402222394943237, -2.276387929916382, -5.167971611022949, 8.29599666595459, 2.122551918029785, 11.612469673156738, -0.8261250257492065, 8.485432624816895, 1.3375816345214844, -7.797921180725098, 8.105968475341797, 13.818924903869629, -1.3730394840240479, -0.5307902693748474, 0.8213706612586975, 4.754714012145996, -2.499986410140991, 12.308877944946289, 11.772918701171875, 11.517428398132324, -1.4938606023788452, -5.708027362823486, -4.5203328132629395, 11.192418098449707, -8.891654968261719, 14.331016540527344, 4.343688488006592, -3.2807440757751465, -4.031917095184326, -0.8997559547424316, 3.3701090812683105, -2.7341599464416504, -4.069453716278076, 0.8086883425712585, -6.851275444030762, 10.812235832214355, -3.9427900314331055, -7.539560317993164, 5.20102071762085, -2.5177559852600098, -1.4232935905456543, 0.4501844346523285, -1.5033760070800781, -10.288641929626465, 11.189067840576172, 7.585443019866943, 13.372796058654785, 5.468927383422852, 13.667824745178223, -7.487094879150391, 6.587518692016602, -6.273819446563721, -3.894329071044922, -13.353507041931152, -6.877628326416016, -1.1047991514205933, 4.500059604644775, 11.821250915527344, -2.8362884521484375, 5.672801971435547, -1.3141744136810303, 2.583280563354492, 13.955618858337402, 1.3056843280792236, -10.587247848510742, 11.13026237487793, -1.1869562864303589, -8.14284896850586, 4.0550312995910645, 11.920588493347168, -3.265129566192627, -11.286311149597168, -4.119268894195557, 0.07479088753461838, -3.0763797760009766, -1.4825490713119507, -6.149494171142578, -5.376964569091797, -0.6691306829452515, -3.056838035583496, -9.136123657226562, 9.650607109069824, -3.8998050689697266, -0.3923460841178894, 9.614265441894531, -7.889992713928223, -6.620213031768799, 7.934746265411377, 8.905895233154297, -8.227365493774414, 9.382941246032715, -9.059277534484863, -1.5585240125656128, -8.750075340270996, 2.516930103302002, 0.6742299199104309, -3.134957790374756, -9.140460014343262, -1.46066153049469, 1.4291696548461914, -3.5686802864074707, -4.562105178833008, 11.451048851013184, 5.972827911376953, 4.86848258972168, 6.25309944152832, 11.465433120727539, -3.1208066940307617, -7.982892036437988, -6.3610944747924805, -7.063462734222412, 2.4691898822784424, -3.671858787536621, 13.357523918151855, 3.5211987495422363, -0.9757125973701477, -12.835745811462402, -7.821934700012207, -5.882749557495117, 1.7843406200408936, -6.619942665100098, -3.1546573638916016, 5.3617753982543945, -11.703293800354004, 0.9433223605155945, -8.639482498168945, 8.957928657531738, 2.347435474395752, -6.24664306640625, -0.330153226852417, 6.8893561363220215, -12.071113586425781, 13.265271186828613, 7.056997299194336, 13.425164222717285, -7.657604694366455, -3.31949520111084, -4.544065952301025, -2.5824902057647705, 11.952427864074707, -3.7890491485595703, -1.8178600072860718, -2.4434850215911865, -4.443228721618652, -4.897428512573242, 7.2451324462890625, -9.142388343811035, -0.7585593461990356, 9.395211219787598, 0.12483292073011398, -8.423233032226562, 9.651115417480469, -8.35861587524414, 6.630677700042725, -3.1242456436157227, -0.6090357303619385, -6.256952285766602, 8.627366065979004, -4.300449371337891, 7.757897853851318, -4.451937198638916, -5.446009159088135, 8.58468246459961, 3.8209340572357178, -1.6843408346176147, -4.3659210205078125, -0.7866077423095703, 11.412605285644531, 6.531800270080566, 8.157952308654785, 7.928857803344727, 12.755859375, -1.0953270196914673, -6.353289604187012, -1.8116047382354736, -3.8045127391815186, 2.268139362335205, -0.8242723345756531, -4.474173545837402, -1.496519923210144, -7.063985347747803, 8.946806907653809, -0.39975324273109436, -2.6319520473480225, -4.066618919372559, -1.5115776062011719, -11.00387191772461, -7.358633041381836, -5.219307899475098, -9.162747383117676, -2.1555213928222656, 3.25567364692688, -1.7500585317611694, -2.6673078536987305, -1.5164897441864014, -4.955132007598877, 9.693687438964844, -9.21163558959961, 3.5832598209381104, 10.376931190490723, -3.1068644523620605, -9.485936164855957, 16.197525024414062, 10.834166526794434, 2.0157363414764404, -3.922490119934082, -2.16235613822937, -1.1138156652450562, 0.8442113995552063, 3.404536485671997, -3.9367125034332275, 14.094071388244629, 10.604530334472656, 6.358205318450928, -9.80746078491211, -3.5636024475097656, -0.16664865612983704, -3.426182270050049, -7.520767688751221, -8.561921119689941, -11.252488136291504, 2.502145528793335, 0.1065022349357605, 6.77522087097168, -14.133767127990723, -3.8170392513275146, -6.62345027923584, -4.26362419128418, 9.163567543029785, 5.545472621917725, -2.582213878631592, -0.13138090074062347, -8.427494049072266, -2.797001838684082, 2.541672945022583, 2.4917047023773193, 11.728934288024902, 2.080956220626831, -1.9993363618850708, -2.633493185043335, -2.8725879192352295, -8.864206314086914, 3.7706570625305176, -7.180371284484863, 7.755288600921631, -15.098838806152344, -3.6430370807647705, -7.761026382446289, 2.3700194358825684, 10.410567283630371, 5.041472434997559, -2.508945941925049, 2.23354434967041, -4.902493953704834, 8.486692428588867, -11.178936958312988, -2.428623914718628, 2.2208359241485596, -10.890729904174805, 12.094240188598633, 3.290281295776367, -4.4381842613220215, 12.017435073852539, 4.878521919250488, -6.306390285491943, -12.307801246643066, 7.23069953918457, -1.364274024963379, 7.101810455322266, -7.06038236618042, 12.204257011413574, 9.929076194763184, -3.757093667984009, 2.9939777851104736, -14.816143035888672, 4.869806289672852, -7.328181266784668, 5.838498592376709, -1.2419480085372925, -9.866649627685547, 0.5910857915878296, -4.399630069732666, 1.7185813188552856, -3.6620898246765137, -9.0552339553833, -8.474113464355469, 10.515524864196777, 12.84744930267334, 7.616024971008301, 0.3153549134731293, -2.521618127822876, 8.023425102233887, 1.222737193107605, -2.3414652347564697, 10.76794147491455, 2.6792397499084473, -7.73867130279541, -6.374438285827637, 5.8918986320495605, 8.846795082092285, -14.951766967773438, -12.876585960388184, -9.365668296813965, -5.384926795959473, 0.6662718653678894, -2.3943209648132324, -5.16585636138916, -10.805709838867188, -1.0699501037597656, -3.6988017559051514, -2.2161669731140137, 12.202327728271484, 7.6712799072265625, 12.938705444335938, -2.360712766647339, -6.560519695281982, -7.546886920928955, -4.7669677734375, -7.982653617858887, -1.6535990238189697, 8.674368858337402, 4.696652412414551, 6.968269348144531, -1.8508739471435547, 2.6784915924072266, -3.240734815597534, 7.357287883758545, -1.6452182531356812, 12.248767852783203, 13.30245304107666, -0.6611688137054443, 10.947688102722168, -4.079120635986328, 9.70490550994873, 0.7027904987335205, 3.9248979091644287, -12.298884391784668, -1.104789137840271, 10.278610229492188, 7.84237003326416, -3.7220962047576904, -6.708568572998047, -13.615861892700195, -4.090961456298828, -3.1024484634399414, 4.442039966583252, -0.4989880919456482, 6.771449565887451, -5.781487941741943, -2.5172183513641357, 4.453952789306641, 11.426410675048828, 11.465190887451172, 2.857830762863159, 0.22039085626602173, -2.116955041885376, -0.240299254655838, -2.5146255493164062, -10.198816299438477, 12.617888450622559, -8.499332427978516, -6.860655307769775, 2.381110429763794, 0.6493619084358215, 3.5563974380493164, -2.4691755771636963, -6.151213645935059, -3.475297451019287, -12.725616455078125, -8.310945510864258, 8.111239433288574, -1.6373822689056396, -7.405058860778809, -6.991086483001709, -2.007107734680176, -4.201326370239258, 4.329737186431885, -4.330624103546143, -6.699331283569336, 9.71748161315918, -0.253772497177124, -0.20731793344020844, 12.404327392578125, 11.731470108032227, 5.478114604949951, -3.199127197265625, 3.3802592754364014, 7.523820877075195, -1.0755192041397095, 0.0027866261079907417, -11.694307327270508, -4.266838073730469, -15.272237777709961, -0.4926038980484009, -7.100757598876953, -3.7784533500671387, 11.682456016540527, -5.457446098327637, -3.839064121246338, -9.986759185791016, 6.751921653747559, 11.81541919708252, 8.540483474731445, 1.5788295269012451, -15.100197792053223, -0.5819534063339233, -13.031512260437012, 0.973808228969574, -2.086603879928589, 8.297478675842285, 7.611521244049072, 16.227951049804688, -1.8319822549819946, -3.9535014629364014, -7.36078405380249, 10.38351058959961, -4.092668056488037, 3.679257392883301, 8.529233932495117, -2.326352119445801, -0.9223916530609131, -8.208528518676758, 12.199969291687012, -1.7024893760681152, -4.517847537994385, 5.3354034423828125, -9.11516284942627, 0.8746172189712524, 4.104964256286621, 9.913219451904297, -0.6295503377914429, 7.03104829788208, 11.299920082092285, 0.6925331354141235, -9.796866416931152, 3.8133630752563477, 0.31383439898490906, 10.162871360778809, -1.9763457775115967, 6.888465881347656, -1.2731190919876099, 4.388795375823975, 11.057883262634277, 10.602151870727539, -9.931755065917969, -3.4776358604431152, -5.529028415679932, 10.13744068145752, 6.199075698852539, 9.161569595336914, -5.487545490264893, 2.051356077194214, -3.3082168102264404, 6.772851467132568, -3.034491777420044, 0.8382487893104553, -10.8613862991333, -2.414421319961548, -7.189523220062256, -0.9513387680053711, 2.4222118854522705, 6.75206184387207, 10.758634567260742, 5.174068927764893, -10.410372734069824, -5.672459125518799, 10.850485801696777, -3.183987617492676, -3.200587272644043, 4.140981674194336, -4.298374176025391, 6.782073020935059, 12.66667366027832, 8.410266876220703, -0.17510756850242615, 4.799619197845459, -6.174396991729736, -2.7584939002990723, 5.657198429107666, -0.04648343473672867, -8.73186206817627, 10.801669120788574, -0.9915686845779419, 12.706918716430664, -4.4093756675720215, 11.265233039855957, 7.652194976806641, 10.961162567138672, 16.357086181640625, 3.7961552143096924, 7.733855247497559, -5.760391712188721, 8.363166809082031, -6.42897367477417, -3.5108609199523926, 4.26618766784668, -2.8508050441741943, -1.2020336389541626, -0.6189619898796082, -2.1985676288604736, 6.9154534339904785, 4.382930278778076, -6.0827155113220215, 12.16137981414795, -2.5926713943481445, -2.7077062129974365, -1.1577430963516235, -6.512421131134033, -1.9339457750320435, 8.748225212097168, 8.379745483398438, -4.288295745849609, 9.682366371154785, -2.912886381149292, 13.249835968017578, -10.314970970153809, -3.466003179550171, 7.955704212188721, -2.4224772453308105, -4.977565765380859, 12.887605667114258, 12.975846290588379, 4.752425193786621, -4.484192848205566, 0.6166523694992065, 4.348091125488281, 9.406070709228516, -6.605626106262207, -1.7420839071273804, -4.3840651512146, 0.3572006821632385, -2.9395880699157715, -7.623348236083984, 10.611674308776855, 11.447067260742188, -5.514550685882568, 10.706192016601562, 4.791254997253418, 5.884661674499512, 6.837197780609131, -5.012347221374512, -3.6998708248138428, -0.5395217537879944, -4.2786760330200195, -14.531585693359375, -4.9274492263793945, -13.49642276763916, 4.2766900062561035, -1.592280626296997, 5.0382080078125, -7.125796794891357, -8.553600311279297, 2.85895037651062, 1.2511910200119019, 3.915289878845215, 10.976554870605469, -1.3701359033584595, 4.575976371765137, -7.064575672149658, 1.9443786144256592, -1.6304972171783447, 3.7172555923461914, 1.537070870399475, -0.6821585297584534, -9.63149642944336, -7.861306667327881, 3.704266309738159, -14.221441268920898, 4.745085716247559, 6.6210832595825195, 7.564447402954102, 13.149779319763184, -9.593482971191406, 8.07034683227539, 3.619088649749756, 9.36440658569336, -2.04905104637146, 11.32605266571045, -1.4080029726028442, -1.576801061630249, 11.647083282470703, -3.708611011505127, 11.037497520446777, 1.8178812265396118, -2.9497900009155273, 7.796957969665527, 0.6646526455879211, -1.4433176517486572, -2.662576198577881, -2.143078327178955, -3.424082040786743, -8.502488136291504, 2.6154704093933105, -9.143367767333984, -8.694208145141602, 7.09610652923584, -3.1673972606658936, -1.5602473020553589, -0.17629733681678772, -4.298506736755371, -1.1275417804718018, 0.8385189175605774, -10.288495063781738, -4.243095397949219, 9.00207805633545, 1.6993229389190674, -2.829310417175293, -11.631208419799805, 1.1485910415649414, -2.274935245513916, -0.0970180481672287, -7.593559741973877, 1.7382113933563232, 11.813610076904297, -12.681827545166016, -3.64448881149292, 11.917089462280273, -1.4914088249206543, -2.249701738357544, -5.339862823486328, 4.659343719482422, -4.9865922927856445, 6.862062931060791, -0.7594882845878601, -5.560796737670898, -0.6891601085662842, -11.296599388122559, 13.524420738220215, 11.53226375579834, -4.314376354217529, -8.863382339477539, 12.454233169555664, 8.638449668884277, -12.069720268249512, 2.8356480598449707, -5.785829067230225, 7.101783752441406, 14.02315616607666, 2.2737884521484375, -4.36110258102417, 15.75563907623291, -4.141807556152344, -3.467165946960449, -9.232178688049316, 5.471909523010254, 7.07900857925415, 5.10019588470459, -0.04814017191529274, -0.030309192836284637, -0.006629152689129114, -3.4088921546936035, -3.5906574726104736, -4.986931324005127, -1.5362008810043335, 15.744590759277344, 8.620817184448242, 3.6675450801849365, 9.08387565612793, -0.27151843905448914, -2.9307401180267334, 7.3991289138793945, -0.5998055934906006, -3.2106847763061523, -4.3332695960998535, 11.224153518676758, 5.511655330657959, -4.97682523727417, 5.0808491706848145, 1.1895899772644043, 4.5827531814575195, 2.965763807296753, -6.865476608276367, 0.41228488087654114, -2.76542067527771, 10.432048797607422, 1.499900460243225, 1.4337196350097656, -7.4677886962890625, 11.19471263885498, -2.5535879135131836, -2.5496938228607178, 0.7034123539924622, 5.950424671173096, -3.860740900039673, -0.502199113368988, -2.0767219066619873, -13.021119117736816, -3.9721999168395996, 8.604803085327148, 12.245656967163086, 9.861753463745117, -0.151550754904747, -1.0067493915557861, -5.810196399688721, -0.5371522307395935, 13.669022560119629, -12.657395362854004, 1.7601218223571777, 11.561310768127441, 8.334290504455566, 2.101806640625, -4.330471038818359, 0.528249979019165, -2.723775625228882, 12.226581573486328, -4.774837017059326, -1.6595603227615356, -8.477752685546875, 11.592466354370117, -9.694977760314941, -7.656853199005127, 15.343149185180664, 6.529356479644775, 9.623662948608398, 5.105337619781494, 11.008700370788574, 5.356464862823486, -3.3136818408966064, 7.606499195098877, 10.079687118530273, -3.7420196533203125, -4.601085186004639, 5.575742721557617, 11.473148345947266, 12.301924705505371, -2.8055431842803955, -9.557818412780762, -8.394879341125488, -5.1325225830078125, -4.530272960662842, 7.681459903717041, -7.998475074768066, 1.2546555995941162, -7.940382480621338, -6.262080192565918, 12.20481014251709, 3.3821825981140137, 6.729751110076904, -12.713409423828125, 11.321340560913086, -3.3012239933013916, 6.592883110046387, 8.212294578552246, 2.4233877658843994, -9.84463119506836, 8.451915740966797, 9.655942916870117, 5.127232551574707, -1.3818517923355103, -7.685271739959717, -2.4442996978759766, 8.596090316772461, -7.394161701202393, 4.073052883148193, 0.6441783905029297, -2.0493249893188477, 11.488530158996582, -13.468080520629883, 3.139954090118408, 13.882148742675781, -5.030338764190674, -12.376225471496582, -6.113446235656738, -6.787879467010498, -3.366478204727173, 6.341266632080078, -5.679248332977295, -4.987517356872559, 4.388078212738037, -2.9834179878234863, -6.386251449584961, 11.312098503112793, -1.81132972240448, 9.16919231414795, -5.898338317871094, 11.979008674621582, 10.499391555786133, -0.19044703245162964, 1.223920464515686, -4.353603839874268, -0.37791869044303894, -4.653026580810547, 1.117281198501587, -2.556986093521118, -2.659874439239502, 13.417078018188477, 2.2080390453338623, -8.49154281616211, -4.1652679443359375, -5.322628498077393, -6.109932899475098, -3.6717677116394043, -1.9384963512420654, -0.020604487508535385, -10.564908981323242, 8.966647148132324, -0.7153925895690918, 12.545762062072754, 4.82046365737915, -5.0631632804870605, -3.712268114089966, -7.165524005889893, -8.086825370788574, 6.594524383544922, 7.896241664886475, 0.1796482354402542, 2.311025857925415, -1.7528597116470337, -11.501091957092285, -9.137615203857422, 16.300283432006836, 8.072053909301758, -10.643336296081543, -0.7437062859535217, 0.6484032273292542, -8.989740371704102, -3.1586124897003174, 0.3766748309135437, -1.3317806720733643, 14.477263450622559, 12.080900192260742, -3.0159432888031006, -11.726165771484375, -8.387216567993164, -7.290256500244141, 2.37752103805542, 11.924342155456543, 11.487027168273926, 1.7244036197662354, -4.535970211029053, -10.667001724243164, 0.8955159187316895, -7.129946231842041, -2.5051019191741943, 7.6725640296936035, -4.028470993041992, -0.043620459735393524, 9.969352722167969, 13.76948356628418, 3.5948352813720703, -1.4921270608901978, -2.1651885509490967, -0.852836549282074, 12.18748950958252, 10.986891746520996, 11.94719123840332, 12.468687057495117, 0.3957976996898651, 1.565394401550293, 6.258918285369873, 11.911849975585938, 12.229552268981934, -7.270298004150391, -2.7121741771698, -9.13344669342041, 12.214661598205566, 10.314411163330078, 6.53261661529541, -8.091548919677734, -0.02087128721177578, 1.8902397155761719, 9.228486061096191, -8.773778915405273, 12.356780052185059, -9.606135368347168, 9.083341598510742, -5.073204040527344, -4.488149166107178, -6.69923734664917, 6.8155107498168945, 8.05339527130127, -6.924103260040283, 10.92680835723877, -2.5816359519958496, -3.043565034866333, 13.06606388092041, -8.610626220703125, 14.749788284301758, -1.0413413047790527, 1.2899314165115356, 1.7579689025878906, -7.0350518226623535, -6.771674633026123, 11.310200691223145, -8.599343299865723, -1.8738096952438354, -7.302720546722412, -6.9813947677612305, -9.274150848388672, 4.44061279296875, -2.5358259677886963, 8.986989974975586, 8.935752868652344, -4.557876110076904, -3.715742826461792, -8.864638328552246, -2.6891772747039795, 12.544367790222168, 9.975903511047363, -2.5791521072387695, 3.1640841960906982, 12.715740203857422, 3.4015724658966064, -3.677361488342285, 0.22382912039756775, -4.947550296783447, 13.423690795898438, 2.1763486862182617, -4.949113845825195, 8.946484565734863, -12.661502838134766, -8.1357421875, -1.6579551696777344, 6.695854187011719, -6.595203876495361, -12.000452041625977, 10.20107364654541, -8.867873191833496, -0.7750744819641113, 0.4152889549732208, -7.327124118804932, 12.506173133850098, -0.9843419790267944, -8.378793716430664, 11.393471717834473, -3.282660961151123, 4.896309852600098, 3.0384304523468018, -0.8393459916114807, -6.954394340515137, -9.129159927368164, -4.89436674118042, -5.9054059982299805, 4.375140190124512, 4.45678186416626, -13.058053016662598, 8.691910743713379, -4.807764530181885, -6.6555280685424805, -6.112677097320557, -12.693828582763672, -7.678847789764404, -0.9599009156227112, -8.665706634521484, 8.489995956420898, -9.797327995300293, -6.536956310272217, 2.594892978668213, 3.848843574523926, -3.890017509460449, -3.945779323577881, -2.588615894317627, -0.927232563495636, -1.357089877128601, 11.208883285522461, 8.345253944396973, 5.7661261558532715, -7.5996551513671875, 4.445298194885254, 6.0050787925720215, 6.864604949951172, -1.0952106714248657, 9.36933422088623, -13.301462173461914, -6.3188276290893555, -8.696066856384277, 0.5039071440696716, 0.9306585192680359, 9.863378524780273, 10.457359313964844, 10.788548469543457, 5.769399166107178, 3.080462694168091, 12.3984375, -3.9040017127990723, -5.687081336975098, 8.13289737701416, 1.2884777784347534, -12.388574600219727, -3.443147897720337, 4.506019115447998, 10.274872779846191, -8.793243408203125, -5.487691402435303, -0.17532885074615479, -12.203303337097168, -1.8330861330032349, -4.747989177703857, -1.904061198234558, 12.571455955505371, 5.043440341949463, -9.044942855834961, 1.4435886144638062, -6.869731426239014, 7.887734413146973, 14.703189849853516, 11.058048248291016, -2.95169997215271, -3.746037244796753, -12.640061378479004, -13.96029281616211, 1.2334727048873901, 4.131348609924316, 8.808948516845703, -1.4253392219543457, 1.2560573816299438, 6.443447113037109, -1.0732710361480713, 4.603557586669922, -7.700921058654785, -7.180936336517334, -4.415442943572998, -4.527379512786865, -10.87190055847168, -2.4960196018218994, 14.455778121948242, 11.26591682434082, 4.326521396636963, -4.266861915588379, 9.003077507019043, -2.92111873626709, -4.403188705444336, -4.36556339263916, -10.35084342956543, -7.408381462097168, -4.836832046508789, -8.97736930847168, -2.651400327682495, -7.3865437507629395, 4.285137176513672, -0.8950179815292358, -9.148338317871094, -3.217099905014038, -3.267324686050415, -0.14972838759422302, -9.388279914855957, -14.994009971618652, 8.43775749206543, 6.168699264526367, -5.73918342590332, -7.335517406463623, -2.834510326385498, 0.24324503540992737, 10.71264934539795, 2.897644519805908, 7.471510410308838, -7.885780334472656, 4.522143840789795, -6.268542289733887, 10.094465255737305, -3.1193079948425293, 11.798474311828613, 7.4620585441589355, 0.08670162409543991, -5.828757286071777, -8.944368362426758, 12.667082786560059, -2.8537821769714355, -4.455486297607422, -1.7608600854873657, 11.619405746459961, -9.248467445373535, 7.988199234008789, -3.6994845867156982, -5.870885848999023, 5.230948448181152, -5.243828296661377, -7.617374897003174, 12.277368545532227, -2.388993263244629, 3.8923592567443848, -13.144020080566406, -4.926429271697998, -6.410337924957275, -6.5892720222473145, -1.5898712873458862, 13.297643661499023, -1.4591699838638306, -9.19831371307373, -10.156641006469727, -10.50922966003418, -14.686379432678223, 11.950843811035156, -5.461130142211914, -3.6389851570129395, 2.6561646461486816, 6.372985363006592, -11.792403221130371, 8.338488578796387, 0.804056704044342, 11.341381072998047, -8.622337341308594, -4.53452205657959, 13.099384307861328, 4.682664394378662, 1.4947360754013062, -12.393417358398438, 13.395493507385254, -0.149647057056427, -9.053587913513184, -12.180756568908691, 0.6743882298469543, 11.397021293640137, -4.158893585205078, 7.747665882110596, 13.046347618103027, 3.4555163383483887, 11.276470184326172, -4.2370195388793945, -13.72478199005127, 9.591944694519043, -1.6900672912597656, 2.073452949523926, -7.673213481903076, -0.844088613986969, -8.35303020477295, -2.061293840408325, 5.376786708831787, -4.435499668121338, -4.27541446685791, -6.999492645263672, -11.019050598144531, 2.6287901401519775, -4.127580642700195, 2.6028940677642822, 9.571747779846191, 16.22079086303711, 12.822061538696289, -2.555666208267212, 6.226800918579102, -9.15638542175293, -1.4932619333267212, 0.7090999484062195, -2.618203639984131, 8.317662239074707, 1.9417874813079834, 12.418523788452148, 8.946541786193848, -9.584670066833496, -2.353158473968506, -0.014100730419158936, -0.23976658284664154, -0.04246269538998604, -8.76988410949707, 6.273616313934326, 4.9032206535339355, 5.21953010559082, -8.5497465133667, 4.547303676605225, -3.1677463054656982, 0.4599321186542511, -3.297208309173584, 12.14246654510498, -2.4439408779144287, 1.0278959274291992, -9.809499740600586, -1.079790711402893, 11.506772994995117, 1.99888277053833, 12.894203186035156, -11.247117042541504, 8.924322128295898, -1.6917219161987305, 6.211482524871826, -4.205472946166992, -11.427916526794434, -0.5078311562538147, 1.4106508493423462, -3.8304035663604736, -1.0809305906295776, -0.8723013997077942, 15.88689136505127, 11.110586166381836, 0.7513605356216431, -2.6807796955108643, 8.052867889404297, 6.995166778564453, -1.7361432313919067, -7.964574337005615, -9.272842407226562, -1.3514049053192139, 2.316373109817505, 8.784903526306152, -7.499477386474609, -0.5174473524093628, -5.904232025146484, 15.73578929901123, -5.283786773681641, 7.381802558898926, 11.409496307373047, -0.31320294737815857, -7.410789489746094, -6.927900314331055, 0.4589051604270935, 9.872492790222168, -2.860555648803711, 10.760895729064941, 7.593464374542236, -3.4490222930908203, 10.322272300720215, -11.451355934143066, -7.149326324462891, 4.11541748046875, 6.275552272796631, -15.725870132446289, -2.9592394828796387, 2.6152772903442383, 11.787019729614258, -5.924829959869385, -11.713248252868652, 6.320441246032715, -6.544581890106201, -13.003231048583984, 9.304010391235352, 3.093018054962158, -5.232936859130859, -8.846343040466309, -4.510146141052246, 5.367688179016113, 4.536843776702881, 2.4625601768493652, 4.865839958190918, -0.009146999567747116, -12.118521690368652, 0.6090846657752991, -12.933921813964844, -1.7573826313018799, 3.1833791732788086, 9.434220314025879, 8.114751815795898, -10.589540481567383, 10.357243537902832, 1.4159505367279053, -2.873018741607666, -4.2149457931518555, -0.03186114504933357, 2.9977781772613525, 7.822021961212158, 2.5168588161468506, -3.6473171710968018, -2.713428497314453, 14.115310668945312, -0.4699952006340027, 5.119380474090576, -0.5194922685623169, 1.0458754301071167, 12.93265151977539, -9.909480094909668, -9.007404327392578, 6.268576145172119, -2.690187931060791, -0.43386125564575195, 10.35169506072998, -8.904107093811035, -0.651332437992096, -3.5419843196868896, 11.942609786987305, -12.52035903930664, -15.074223518371582, -3.8897900581359863, 14.266611099243164, -0.6507123112678528, 2.922922134399414, 11.526551246643066, -12.634261131286621, 12.287059783935547, -14.681069374084473, 10.582098960876465, 0.22675326466560364, 0.02440270408987999, -3.674654006958008, 1.8011653423309326, 14.562041282653809, 9.392111778259277, -4.537947177886963, 12.135232925415039, -4.992240905761719, -3.0281178951263428, -5.682531356811523, 0.8278365135192871, 9.755958557128906, 7.274603366851807, -5.032461643218994, 9.772773742675781, -8.51363468170166, 13.219612121582031, 6.829775810241699, 13.880675315856934, -5.984304904937744, -3.0990138053894043, 10.816777229309082, 7.576282024383545, -0.06791635602712631, -6.987581253051758, -1.9598180055618286, 8.335103988647461, -4.680694580078125, -1.9447137117385864, -4.840257167816162, 0.903725802898407, -10.713552474975586, -6.5943827629089355, -2.5394504070281982, 3.1570615768432617, -2.533520460128784, -1.6845852136611938, -9.839457511901855, 2.1338560581207275, -4.511559009552002, -0.8144484758377075, 7.979284763336182, 4.77690315246582, -10.315732955932617, -12.545641899108887, -3.480391025543213, 4.889204502105713, -13.844156265258789, 12.96915054321289, 9.488555908203125, 11.12743854522705, -12.569657325744629, 13.9439697265625, -4.300220489501953, -14.668336868286133, -9.0950288772583, -2.37888765335083, -14.757804870605469, -10.559775352478027, -12.724989891052246, 2.3069212436676025, 15.992366790771484, -1.334214210510254, 3.9673984050750732, 13.4637451171875, -10.44198989868164, -6.512825965881348, -8.551505088806152, -2.6688437461853027, 8.105612754821777, -3.040010929107666, -2.9560840129852295, -6.631556987762451, 10.19029426574707, -8.079079627990723, 6.01185417175293, 12.186197280883789, 1.064715027809143, -0.2310556322336197, -8.667953491210938, -1.4364933967590332, 0.8041564226150513, -3.4263856410980225, -10.59848403930664, -5.704928398132324, 3.595893383026123, 10.27088451385498, -2.152834892272949, -5.871616363525391, -2.9224283695220947, -2.884591817855835, 0.756683886051178, -15.29736328125, 10.4995698928833, -2.274395227432251, 14.122052192687988, 2.4800326824188232, 12.695334434509277, -6.700897216796875, -7.368443012237549, 6.4506378173828125, -9.482093811035156, -1.5539357662200928, 2.123222827911377, -6.489994049072266, 1.256827473640442, 0.777470052242279, -1.1045068502426147, 0.8483288288116455, 6.0328826904296875, -1.0570838451385498, -5.865068435668945, 6.429855823516846, -6.266176223754883, -3.479639768600464, -1.1705222129821777, -11.726081848144531, 7.88167142868042, 2.392164945602417, -2.064091682434082, 11.276689529418945, 0.042320121079683304, -1.2560560703277588, -4.209639549255371, -14.711853981018066, -1.84048593044281, -12.143085479736328, -0.26505789160728455, -13.360591888427734, -0.9228211641311646, 13.477926254272461, -1.363834261894226, -7.6848602294921875, 11.916278839111328, 8.769129753112793, 13.024043083190918, 0.16365912556648254, -11.433243751525879, 12.025671005249023, -9.38877010345459, 13.581498146057129, -3.8094170093536377, -5.480541706085205, -14.283392906188965, 7.605104923248291, -0.8620098829269409, -7.972692012786865, -6.791841506958008, -3.201960563659668, -3.425568103790283, 0.6637506484985352, 13.651972770690918, -12.001399040222168, -1.6955088376998901, -9.642528533935547, -3.8144948482513428, 0.07180044800043106, -4.017030715942383, -10.036341667175293, 0.39319881796836853, -9.030102729797363, -1.9615898132324219, -6.624622344970703, -6.4821271896362305, 1.5349990129470825, -3.16542911529541, 13.255241394042969, 1.5793261528015137, -12.730884552001953, -6.801260948181152, 0.914680004119873, 12.825620651245117, -10.286438941955566, 3.059906482696533, -8.264986038208008, 1.2526729106903076, -3.339534282684326, 7.143927097320557, 5.209231376647949, -10.017974853515625, -2.818523645401001, -2.185730457305908, 9.450596809387207, 6.692860126495361, -4.661308288574219, -2.326636791229248, 7.275343418121338, -2.731119155883789, 0.12216315418481827, -1.9405714273452759, -8.692414283752441, 10.012271881103516, -2.866349220275879, -9.255309104919434, -10.971293449401855, 4.86954927444458, -7.554233074188232, -4.593855857849121, 0.622702419757843, -7.125074863433838, 5.66756534576416, -12.211835861206055, 2.196378707885742, -7.7139177322387695, 4.994521141052246, 4.058207988739014, -2.5104787349700928, -13.631415367126465, -2.3148398399353027, 0.07955500483512878, -5.378923416137695, 2.7111763954162598, -2.298253059387207, -7.7316975593566895, 5.158201217651367, -1.6992661952972412, -5.421992778778076, 8.471731185913086, 11.972108840942383, -2.602640151977539, -6.597150802612305, -2.6330723762512207, -3.581838846206665, -4.264364719390869, 7.299988269805908, -9.000093460083008, -7.499879837036133, -4.9003777503967285, -6.66299295425415, 12.051996231079102, 5.646617889404297, 0.8323661088943481, 3.2204983234405518, -0.5480279922485352, 3.301318883895874, -4.331180572509766, 10.87032699584961, -0.2675948143005371, -0.2075338214635849, 8.163285255432129, -12.74502944946289, 13.342175483703613, 10.631753921508789, -9.066361427307129, 7.669689655303955, 1.137251853942871, -1.7829270362854004, -6.801602840423584, 0.9563122987747192, -1.6417003870010376, 7.453503131866455, 7.349142551422119, -6.571261882781982, 12.634672164916992, 10.70458984375, 7.039760112762451, -4.509869575500488, -1.1305562257766724, -1.2894343137741089, -6.567861080169678, 3.9799628257751465, 4.1859283447265625, -2.1606650352478027, 3.7622461318969727, -4.546292781829834, 3.2546348571777344, -3.948763847351074, 9.808069229125977, 2.528064489364624, -9.973700523376465, 13.854805946350098, 0.2403796762228012, 5.579554080963135, -2.0955467224121094, -2.681781053543091, -4.057156085968018, 14.630788803100586, -7.59112024307251, -9.209264755249023, -0.08426589518785477, -1.8375390768051147, 13.229701042175293, -5.780928134918213, -10.14385986328125, -11.648978233337402, -11.331989288330078, -4.1849188804626465, 10.500783920288086, -0.9373283982276917, 1.9241927862167358, -10.004443168640137, 13.465149879455566, -4.2405595779418945, -1.6724462509155273, 12.758575439453125, 10.078717231750488, -5.36033821105957, -0.3330506980419159, 13.472432136535645, 12.713239669799805, 10.027939796447754, 2.8534865379333496, -2.657926321029663, -4.27067756652832, 1.8086063861846924, -9.661230087280273, -7.780025005340576, -2.579545736312866, 13.410940170288086, 6.947085380554199, -1.2923551797866821, -7.494973659515381, -9.608156204223633, 11.026239395141602, -2.11982798576355, -2.931241273880005, 6.741037368774414, -15.11968994140625, -3.585874319076538, -2.1206133365631104, -8.130988121032715, -7.288714408874512, 8.836320877075195, 2.2989137172698975, -10.937578201293945, -12.962827682495117, 11.878073692321777, 10.50550365447998, -0.7460777759552002, -2.7182776927948, 9.022109985351562, 1.129323124885559, -0.6763394474983215, -9.403392791748047, -1.351499080657959, -7.832218647003174, 2.013475179672241, -7.49710750579834, -6.598313331604004, 3.4827308654785156, 1.0648373365402222, 0.5481061935424805, -10.769540786743164, 9.958457946777344, -2.225773334503174, 2.0299415588378906, 13.49190616607666, -5.912437915802002, -3.1064724922180176, 15.9625883102417, 5.044401168823242, -4.606760501861572, 3.800520181655884, 2.9772231578826904, -3.135469913482666, -4.602486610412598, -3.061488389968872, -12.542200088500977, -3.0464606285095215, -0.8882553577423096, -4.4229559898376465, -0.3025680482387543, 0.28352537751197815, 2.25636887550354, -1.8713948726654053, -4.453550338745117, 3.792590618133545, 2.579749584197998, -9.20441722869873, -13.431770324707031, -7.467475414276123, -2.8600924015045166, -12.302082061767578, 0.4256356656551361, -7.644050598144531, -12.587105751037598, -5.048440933227539, -0.2760615646839142, -2.0851686000823975, 4.557091236114502, 5.969547748565674, 8.100571632385254, 9.632680892944336, -9.223774909973145, 5.790444374084473, -3.5413899421691895, 7.414340019226074, 13.535562515258789, -0.6363440155982971, -13.719812393188477, -8.911072731018066, 2.758976697921753, -4.014627933502197, 11.34609317779541, 8.608412742614746, -2.089048147201538, -8.393681526184082, 10.212599754333496, 6.169691562652588, -7.363690376281738, -12.78990650177002, 6.208775997161865, -0.6236277222633362, -5.6370110511779785, -7.87964391708374, -4.363770008087158, -4.9477691650390625, 11.74914264678955, 4.759615421295166, -8.282471656799316, 2.6530795097351074, -10.730473518371582, 12.28242301940918, 5.621460437774658, -10.558908462524414, -6.47788143157959, 0.6087300777435303, 5.460385799407959, -2.4258599281311035, -10.063403129577637, -10.029279708862305, -1.5283750295639038, 0.26231738924980164, -1.4163323640823364, -0.9447657465934753, -7.644533634185791, -10.065513610839844, -0.43401703238487244, -3.2814230918884277, 0.7258577942848206, -0.5990848541259766, -0.24746203422546387, -0.31161007285118103, -0.5472273230552673, -0.24356620013713837, -6.645887851715088, 6.541048049926758, 12.181635856628418, -3.1888911724090576, 5.878632068634033, -4.1132612228393555, -2.3346524238586426, -1.2246174812316895, 2.072521209716797, -6.405816555023193, 11.5957612991333, -4.207657337188721, 2.0311481952667236, -1.3952488899230957, -2.510802984237671, -4.971506595611572, -1.438504695892334, -3.8947272300720215, -4.073159217834473, -11.703503608703613, -0.41871947050094604, 1.9630553722381592, -0.45981767773628235, 9.161991119384766, -8.317938804626465, -2.5131728649139404, 9.179594993591309, 1.2506036758422852, -1.9023323059082031, -11.757165908813477, -1.8663661479949951, 4.3679280281066895, -8.018056869506836, -4.367175102233887, 5.08291482925415, -0.7839846014976501, 6.277168273925781, 11.348370552062988, 2.899003267288208, 5.412435531616211, 0.568545401096344, -0.67979896068573, -3.2719173431396484, 12.182889938354492, 8.839457511901855, 2.3129563331604004, -2.355085611343384, -0.30891743302345276, -0.06622844934463501, -3.3890373706817627, 4.631114482879639, 4.8077216148376465, -0.6126012206077576, 9.828459739685059, 6.265448093414307, -0.8949780464172363, -1.0782935619354248, 7.543530464172363, -5.721487045288086, -2.0502254962921143, 1.310783863067627, -13.081439018249512, -4.700262546539307, 12.136534690856934, 5.7991943359375, 0.1353328675031662, -1.81330406665802, -0.37752965092658997, -0.639306366443634, 1.2475154399871826, -7.296902656555176, -8.534354209899902, -3.4998722076416016, 8.85548210144043, -11.79037857055664, 8.374981880187988, 12.403135299682617, -3.6980934143066406, 12.463665962219238, 8.949265480041504, 3.8092079162597656, -1.5530012845993042, 10.500346183776855, -5.792949676513672, 9.452454566955566, -1.9921406507492065, -4.501091480255127, 6.037207126617432, -5.709427833557129, 10.312929153442383, 4.761343479156494, 8.396946907043457, 13.208349227905273, -6.1428704261779785, 1.2710528373718262, -5.966825485229492, 2.7611725330352783, 14.728843688964844, 15.251270294189453, -5.475008964538574, 0.611993134021759, -11.42549991607666, 0.8069619536399841, 7.319249153137207, 8.677639961242676, -0.6969346404075623, -3.0128555297851562, -9.312546730041504, 4.154933929443359, 2.5905187129974365, -0.6835787296295166, -1.7697339057922363, -7.631948947906494, 4.955725193023682, -0.2733978033065796, -0.8635736107826233, -0.4716443717479706, 9.545035362243652, -2.2088077068328857, -5.186687469482422, -2.3704628944396973, 2.303122043609619, 9.86474895477295, -13.41227912902832, -9.6115083694458, 14.478062629699707, -6.089957237243652, -1.0527783632278442, 9.048506736755371, 12.785418510437012, 7.248230457305908, -0.904259979724884, -0.25042924284935, 9.579041481018066, 8.378063201904297, -1.1156678199768066, -12.828392028808594, 9.952502250671387, 3.1504123210906982, -5.792805194854736, 14.39365291595459, -10.640013694763184, 4.195564270019531, 4.495596885681152, 4.0553154945373535, 11.99965763092041, 11.775437355041504, -15.373907089233398, -3.0384724140167236, 11.577276229858398, 7.343504428863525, -10.046747207641602, -6.231513977050781, -1.4114023447036743, -14.733498573303223, 6.368566036224365, -3.289794683456421, -4.963595390319824, 6.418922424316406, -7.871662616729736, -3.8722450733184814, -13.863851547241211, -5.724827289581299, -0.38127487897872925, -7.970069885253906, -7.004410743713379, 7.715706825256348, 3.6835131645202637, -3.8253235816955566, 9.240863800048828, 16.078088760375977, 8.604578018188477, -0.5783759951591492, 9.334704399108887, -4.922060966491699, -4.320911407470703, 4.9327392578125, -7.165406227111816, -1.2638139724731445, 7.886444091796875, 1.8716990947723389, -9.873714447021484, -10.167908668518066, -3.634510040283203, -2.2930996417999268, 8.411128044128418, -4.786411285400391, -1.111833930015564, -4.166017532348633, -12.162405967712402, -2.673344612121582, 12.861927032470703, 7.991455554962158, -3.1529276371002197, 13.556580543518066, 14.536979675292969, -5.605926036834717, -11.054813385009766, 10.404460906982422, 0.17598485946655273, 11.799606323242188, -0.03345590829849243, 12.27450942993164, 4.479986190795898, 9.73451042175293, 7.242186546325684, -3.1080868244171143, -12.563494682312012, -2.827807664871216, -1.4844841957092285, -10.07370376586914, 13.595870971679688, -14.66872501373291, 2.4169745445251465, -7.073042392730713, 13.192498207092285, -1.475594401359558, 2.0097737312316895, 8.717304229736328, 0.1560097485780716, 4.06754207611084, -4.864865303039551, -6.5479736328125, 11.019989967346191, -0.965982973575592, -0.6713510155677795, 0.7286168932914734, 3.1945488452911377, 13.659440040588379, -4.159142017364502, 1.2856050729751587, 13.523877143859863, 0.5632461905479431, -7.911535263061523, -7.668276309967041, 4.752423286437988, -4.155122756958008, 0.7335254549980164, -7.911192417144775, 2.9975903034210205, -4.989770889282227, 4.736972808837891, 12.78238582611084, 4.458603382110596, -6.692717552185059, 2.700486183166504, 14.648809432983398, 6.134909152984619, 3.254629611968994, -2.4772629737854004, 1.3108247518539429, -2.713289737701416, -1.8355817794799805, 1.802972435951233, 1.913927674293518, -3.5288126468658447, 3.182239055633545, -3.396713972091675, -6.662458419799805, -7.699305534362793, 1.313789963722229, -4.45084810256958, 3.381700277328491, 12.365682601928711, -8.059381484985352, 11.939624786376953, 4.698366165161133, 12.259612083435059, 2.1528520584106445, -14.927927017211914, -1.3153895139694214, 6.030709743499756, -13.920735359191895, -0.0047951312735676765, -13.282496452331543, 4.63824987411499, 3.0244204998016357, -13.026129722595215, 10.059762001037598, -3.275554656982422, 5.755927562713623, -13.150147438049316], \"y\": [13.104705810546875, 9.316494941711426, 7.870521068572998, -3.073612928390503, 7.505693435668945, -3.996913194656372, -6.711177825927734, -0.987356960773468, 2.849653720855713, -1.1517773866653442, 7.6548752784729, 11.51530933380127, 11.95853042602539, -0.7431311011314392, -1.2229976654052734, 0.1125032901763916, -0.25550493597984314, 2.0775983333587646, 11.743738174438477, -3.5974624156951904, 2.599005699157715, -3.898240566253662, 1.7833075523376465, 10.247414588928223, 1.1819548606872559, 5.319541931152344, 8.611766815185547, 5.122650623321533, 6.631175518035889, 10.562446594238281, 3.460488796234131, 2.3533055782318115, 0.7590391039848328, 4.119332790374756, -4.845807075500488, -0.4070846140384674, 2.6108014583587646, 1.497046947479248, 10.139657974243164, -0.6333463191986084, 6.381720066070557, -5.914666652679443, -3.4358270168304443, -10.735300064086914, -2.1299538612365723, -6.3189802169799805, -9.938273429870605, -0.8904711008071899, -6.66495418548584, -6.72995662689209, 5.731452941894531, 2.734280824661255, -4.82814359664917, -8.398898124694824, -11.528167724609375, 7.097233295440674, 5.188168048858643, -4.587981224060059, 12.326746940612793, -2.073152780532837, -3.890343189239502, -0.8968826532363892, 1.9119880199432373, 5.962785720825195, 7.771029949188232, 8.170307159423828, -9.830880165100098, 8.1674222946167, -9.855729103088379, 6.243412494659424, 1.590886116027832, -7.0053019523620605, -6.883194923400879, 0.41976669430732727, -4.46627140045166, 1.9517796039581299, -9.018855094909668, 2.2670037746429443, -2.9422476291656494, 10.597831726074219, -12.548423767089844, -9.390876770019531, 7.896589756011963, 2.15903902053833, -3.2607223987579346, 1.0421897172927856, 1.3644901514053345, -1.3145536184310913, 9.163689613342285, -6.4855570793151855, 12.726401329040527, -1.5392544269561768, 3.3193321228027344, -3.270446300506592, -6.085951805114746, 0.6933144330978394, -1.2113279104232788, 8.17483901977539, 11.23403549194336, 4.420525074005127, 1.2993299961090088, -2.2229115962982178, 8.404561042785645, -0.10848164558410645, -8.7407865524292, 1.8060681819915771, 3.737130880355835, -1.0947762727737427, 4.345769882202148, -10.082832336425781, 2.4797818660736084, -7.724001407623291, 3.3432343006134033, 3.926778554916382, -2.1993305683135986, -5.892226219177246, -2.0948996543884277, 5.5531415939331055, -0.40530848503112793, -8.718107223510742, -3.6201188564300537, -6.562356948852539, 1.3981250524520874, 0.8409917950630188, 1.3500336408615112, -4.713637828826904, -5.105112075805664, -0.04986756667494774, -4.304605960845947, -2.096768379211426, 3.0619912147521973, 4.207233905792236, 0.35835447907447815, -1.7290557622909546, 4.121158123016357, -3.2461421489715576, 7.536532402038574, -5.101738452911377, -0.7863401174545288, -2.9605307579040527, -2.9768054485321045, -6.657604217529297, -6.093169212341309, -6.915450096130371, -1.2856502532958984, 2.1388466358184814, 5.0029072761535645, -3.11323618888855, 4.375830173492432, -6.876183032989502, 4.236315727233887, -9.89981746673584, -8.663881301879883, 15.385704040527344, -4.092823505401611, 14.292691230773926, 3.8060388565063477, -10.355332374572754, -8.762571334838867, -6.307250499725342, 1.062954068183899, 13.343160629272461, -9.914119720458984, -4.416995525360107, -2.9243013858795166, 0.5872665643692017, -10.11083698272705, 2.3451714515686035, -6.626133441925049, 9.13628101348877, -1.9918237924575806, -6.492269992828369, 3.306070327758789, -3.8259222507476807, 0.7806485891342163, -1.0173144340515137, 3.4456381797790527, -6.5480637550354, 13.311687469482422, 5.896706581115723, 0.7681667804718018, -13.087921142578125, -7.164112567901611, -1.3110920190811157, -3.7230072021484375, 0.31011638045310974, -6.322274684906006, -3.9583678245544434, 5.748318672180176, -6.461010932922363, 1.367796778678894, 8.324143409729004, 7.056106090545654, 14.695796966552734, 2.8736445903778076, -3.8677961826324463, -2.953645706176758, -3.6076951026916504, -3.471689462661743, -5.36133337020874, 6.933043003082275, -8.53472900390625, 14.268841743469238, -8.208353996276855, -4.697066307067871, -9.153141021728516, -1.4065816402435303, -4.0146636962890625, -8.976252555847168, -12.626936912536621, 9.54603099822998, 6.424687385559082, 0.7093729972839355, 10.220063209533691, 3.515172004699707, 1.3403187990188599, 9.10450553894043, 7.598028659820557, -6.149433612823486, -1.5582326650619507, -12.448667526245117, -7.524319171905518, -5.344628810882568, 10.469982147216797, -3.500828981399536, 15.221138000488281, 7.545935153961182, 4.993356227874756, -7.453754425048828, 6.251808166503906, -0.17761297523975372, 14.254571914672852, 5.633663654327393, -5.788406848907471, -6.673861026763916, 6.046070098876953, -5.24414587020874, -9.435586929321289, -0.03657138720154762, -10.07865047454834, -8.498546600341797, -4.315098762512207, 6.116074085235596, -5.42429256439209, -4.914660453796387, 10.935114860534668, 5.497310638427734, 1.5242156982421875, 10.062005043029785, -0.6065759658813477, -4.407015323638916, 11.680220603942871, 4.159584045410156, -5.456923007965088, -10.33813190460205, -3.3375165462493896, 1.2553420066833496, 0.24600356817245483, 1.6401994228363037, -7.625272274017334, 5.055500030517578, -8.378486633300781, 6.385280609130859, 12.79830551147461, 3.288208246231079, -0.8593814969062805, 0.9190796613693237, 5.407139778137207, 4.25875186920166, -0.705155074596405, -3.7861883640289307, -11.522420883178711, 4.7898688316345215, -4.924528121948242, -2.9838390350341797, -6.359432697296143, 9.764901161193848, 9.520710945129395, 3.1021995544433594, 10.255266189575195, -3.120290756225586, -3.09175181388855, 1.4946094751358032, -2.521702527999878, -7.286309719085693, -1.0200841426849365, -8.310351371765137, 3.064962387084961, 7.581179141998291, 4.594328880310059, 7.786741256713867, 9.108589172363281, 1.763536810874939, -5.094823360443115, 0.9213469624519348, -3.8335392475128174, -0.08052797615528107, 11.343841552734375, -0.6303333640098572, 6.878628253936768, -7.42071008682251, -2.7201240062713623, 0.6506508588790894, -0.3137897551059723, 7.481486797332764, -6.719525337219238, 1.1449873447418213, -1.1995375156402588, 8.343657493591309, -3.747288465499878, -3.9612677097320557, 4.9883341789245605, 0.8713083863258362, 5.87393045425415, -0.7964050769805908, -2.105858564376831, -2.525954008102417, -7.227093696594238, -11.97355842590332, -8.401524543762207, 3.794936180114746, 1.2227658033370972, -5.599266529083252, -0.5090145468711853, -2.0029215812683105, 12.906954765319824, -7.5076823234558105, -5.180988311767578, -6.704990863800049, 4.330170631408691, -9.074088096618652, -11.435200691223145, 14.450766563415527, -0.7463065385818481, -2.687972068786621, 4.341960906982422, -9.922381401062012, -3.081808567047119, 0.5014634132385254, 2.578000783920288, -0.9918254613876343, 6.245323657989502, 6.303287029266357, 7.7810468673706055, -6.439817905426025, -5.028120994567871, -1.5590490102767944, 7.60120964050293, 4.0185394287109375, 1.3569858074188232, -12.303927421569824, 2.5144996643066406, 6.622149467468262, 1.7917227745056152, 8.002532958984375, 7.113168716430664, -7.840050220489502, 9.057069778442383, 5.832273960113525, -9.574625015258789, 2.4553093910217285, 3.8968088626861572, -2.211972951889038, -3.461383104324341, 2.083235263824463, -1.2001292705535889, 2.482137680053711, -7.3365888595581055, -2.807178020477295, 3.944432258605957, -5.418734073638916, -13.147553443908691, -5.840952396392822, -13.279340744018555, 2.59053897857666, 1.643438458442688, 11.295297622680664, 3.438904047012329, -1.6855286359786987, -0.45320844650268555, 7.645890712738037, -0.03157445788383484, 14.97632884979248, 7.393067359924316, 6.27094030380249, -7.641937732696533, 3.2758285999298096, 7.8657989501953125, -4.973212242126465, 11.849565505981445, 16.139034271240234, -1.8554704189300537, 8.2522611618042, 1.5804096460342407, -11.09947681427002, 6.373969078063965, 12.918997764587402, -4.7712626457214355, -6.453385353088379, -7.668542385101318, 2.41176176071167, 2.362142562866211, -4.350198745727539, 8.05636215209961, 1.6475310325622559, -5.5998101234436035, 12.6521577835083, 11.480693817138672, -3.4389262199401855, 2.528366804122925, -5.2370219230651855, 3.296463966369629, 2.7150349617004395, -2.7748420238494873, -3.1543211936950684, 1.4238996505737305, 6.857948303222656, -13.15157699584961, 1.6729214191436768, -3.6473963260650635, -1.9269912242889404, 3.0961365699768066, -7.728255748748779, 2.0239319801330566, -8.393098831176758, -1.719107985496521, -3.976442337036133, 7.188160419464111, 1.823791742324829, -6.030961513519287, 12.203503608703613, 4.841754913330078, 13.289972305297852, -7.396442413330078, 15.227112770080566, 1.3695056438446045, 1.5866503715515137, -0.5758997201919556, -9.619003295898438, 1.8130905628204346, 1.1893517971038818, 1.6127369403839111, 7.384682655334473, -2.1503326892852783, 15.486855506896973, 4.588903903961182, 3.3987367153167725, 1.6528719663619995, 12.525650978088379, -0.6677444577217102, 8.00105094909668, 1.772093415260315, -8.295445442199707, 2.9146616458892822, -9.425365447998047, -5.32289981842041, -3.4307796955108643, 3.530890941619873, 6.5543904304504395, 11.494902610778809, 0.880456268787384, -5.911167621612549, 5.5984907150268555, -1.3371702432632446, -6.252551078796387, 0.4019000232219696, -7.444295406341553, 3.612232208251953, 4.274500846862793, -8.925543785095215, 2.6775362491607666, -5.0735273361206055, -5.060657501220703, -7.215860843658447, -4.751677989959717, 7.408412933349609, -5.817946910858154, 3.935136079788208, 0.5058631300926208, -1.5637868642807007, -3.9969983100891113, -6.060318946838379, -1.9278247356414795, -4.817511558532715, 16.234783172607422, -1.9976561069488525, 0.08912423253059387, -0.0034771375358104706, 5.89267110824585, -5.827767848968506, 6.124084949493408, 5.53056001663208, 14.027161598205566, 3.699880361557007, 6.46408224105835, 0.11985214054584503, 4.058696269989014, -9.264792442321777, -1.7286579608917236, 15.900039672851562, -2.9434847831726074, 8.9896821975708, -3.6575021743774414, -1.427795171737671, -3.5980641841888428, -1.5921788215637207, -7.103559970855713, -0.3214194178581238, 5.563099384307861, -3.723202705383301, 1.0187627077102661, -1.0080646276474, 4.114333152770996, -1.954420804977417, 14.624398231506348, -9.599443435668945, -8.992437362670898, -8.855500221252441, 1.7364094257354736, -0.3748689591884613, 8.013797760009766, -2.6461212635040283, 5.518526077270508, 14.91716194152832, -6.2856340408325195, -8.710261344909668, 3.3892812728881836, 3.779564142227173, -4.902088165283203, -10.32650375366211, 1.3961747884750366, -8.757810592651367, -7.802367210388184, -7.250484943389893, -8.982854843139648, 13.546070098876953, 3.8351058959960938, 12.330638885498047, -6.995993614196777, -10.989627838134766, 12.385560035705566, 10.456656455993652, 2.060495138168335, 12.778599739074707, 2.89182186126709, 1.5274527072906494, 15.67778205871582, -1.0966072082519531, 7.786144733428955, -2.9703307151794434, -3.826169967651367, 2.3478455543518066, -11.528301239013672, -6.384071350097656, -6.448904991149902, 3.0055811405181885, 7.29849100112915, -7.940051555633545, -9.42684555053711, 12.068944931030273, -0.9462569952011108, -5.618637561798096, 7.920378684997559, 10.900275230407715, -2.39088773727417, 4.093165397644043, 14.926715850830078, 8.776551246643066, 6.7372965812683105, 2.1940324306488037, -6.181792259216309, 6.2812604904174805, -6.488991737365723, -3.7269175052642822, -7.434831619262695, -0.5778074860572815, -6.807811260223389, 6.861204624176025, -2.8425936698913574, 0.1823175698518753, 6.821532726287842, -2.953369617462158, -1.190155267715454, -1.0893818140029907, -3.6807057857513428, 4.650330543518066, 8.463445663452148, 1.3875209093093872, -6.851562023162842, -2.430884838104248, -4.4702839851379395, -3.8308417797088623, 1.8834645748138428, -9.762972831726074, 4.06877326965332, -3.8878793716430664, 7.104892730712891, -3.2820088863372803, -5.838156223297119, -10.51213264465332, 7.718066692352295, 5.111221790313721, 3.6939916610717773, -2.071765422821045, 7.933788776397705, -9.799159049987793, -2.0168261528015137, -8.43374252319336, 2.7113559246063232, -2.4662208557128906, -13.533321380615234, 4.241090774536133, 5.527877330780029, -3.740100383758545, -8.767607688903809, 5.238141059875488, -10.051441192626953, 9.237282752990723, 1.702256202697754, -3.953035593032837, 0.977796733379364, 9.037507057189941, -5.630477428436279, 0.04041951149702072, 5.706048011779785, 12.88364315032959, 5.837156772613525, -8.157048225402832, 0.5003246068954468, -3.3707995414733887, 14.210044860839844, 6.529973983764648, 8.406961441040039, 7.041612148284912, 4.8388824462890625, 0.05506717413663864, 8.652518272399902, 1.815053105354309, -3.053875684738159, 9.793139457702637, 1.1385022401809692, -3.0160789489746094, 12.260839462280273, 15.31198501586914, -2.947235345840454, -7.955738544464111, 3.805525779724121, -10.37903118133545, 2.606671094894409, -4.70308780670166, 8.734620094299316, 6.67243766784668, 8.947293281555176, 0.6636490821838379, -13.108572006225586, -4.882381916046143, -10.280316352844238, 0.6760246753692627, -0.2783886194229126, -0.10080202668905258, -0.6725303530693054, 2.479617118835449, 1.3058979511260986, -3.0778446197509766, -4.987890720367432, -4.038103103637695, -13.634357452392578, -2.5402965545654297, 9.333261489868164, 11.484835624694824, 1.5106414556503296, -7.537779808044434, 6.863301753997803, 2.62009334564209, 12.724249839782715, -3.30375337600708, 9.788091659545898, -6.169066905975342, 10.754807472229004, 4.704902648925781, 4.709526538848877, 3.0854673385620117, 11.478946685791016, -12.214911460876465, 4.967295169830322, 2.453495740890503, -2.6409833431243896, -4.477955341339111, 10.618149757385254, -3.2011210918426514, 4.19236946105957, -3.8923022747039795, -2.102257490158081, -9.70722484588623, 10.727519035339355, -1.4435440301895142, -6.050722122192383, -2.819319009780884, 4.476666450500488, -0.23385338485240936, 1.4542343616485596, 7.069867134094238, -8.202974319458008, 6.7777628898620605, 5.274359226226807, -10.85098934173584, 3.0082077980041504, 1.3729982376098633, -4.413105487823486, -2.4316585063934326, 3.6232244968414307, -7.005170822143555, -7.683028221130371, -7.466817855834961, -1.3286813497543335, 7.669832706451416, -5.807585716247559, -0.6175178289413452, 6.921163082122803, 10.57852554321289, 6.318047046661377, -4.970162391662598, -4.076718807220459, -8.999471664428711, 3.1809639930725098, -4.028525352478027, -1.3504247665405273, -3.4077134132385254, -0.2139919102191925, 12.931649208068848, -7.056114196777344, 5.577386379241943, -9.070918083190918, -4.278820514678955, -1.213214635848999, 2.455958366394043, 7.045290946960449, -13.012406349182129, -6.467884063720703, -0.1156078353524208, -5.763828754425049, -7.465590000152588, -8.48025894165039, -6.13270902633667, -11.99803352355957, 0.20636676251888275, -5.499351501464844, 6.1126179695129395, -10.06505298614502, -2.159973621368408, 0.8092870712280273, -5.846446514129639, -2.562361001968384, -5.01986026763916, 9.98532485961914, 2.709658622741699, -2.948932409286499, -2.858245372772217, 1.293923020362854, -6.751660346984863, 9.162376403808594, -9.077476501464844, 1.282325029373169, -3.9737601280212402, 4.838937759399414, 0.09075595438480377, 3.1518163681030273, -1.9004409313201904, -3.59127140045166, -5.436197280883789, 2.348924160003662, 2.7284131050109863, 6.730515480041504, 4.0210981369018555, -1.217968225479126, -9.631024360656738, -5.123796463012695, 2.6372344493865967, 3.1763832569122314, 14.141999244689941, -3.064300775527954, 12.942411422729492, -9.439974784851074, -7.133851528167725, 6.882770538330078, 10.443048477172852, -3.987771511077881, -2.8039913177490234, -2.3722338676452637, 8.225902557373047, 3.2091903686523438, -2.5130820274353027, 1.7932459115982056, 13.20464038848877, -9.681177139282227, -1.018739938735962, 11.802867889404297, -5.178244590759277, -5.1089677810668945, -3.2796080112457275, -13.351724624633789, 0.7655783891677856, -2.4992494583129883, 5.389916896820068, -1.922187089920044, -7.433773994445801, 14.796390533447266, -0.2546447515487671, 2.076871156692505, 2.0297915935516357, -1.946001648902893, -2.0674612522125244, 15.544502258300781, -1.360459327697754, -8.072178840637207, 1.0520118474960327, -5.549405097961426, 0.5767878890037537, -3.7510175704956055, 6.538821697235107, 0.362318217754364, 13.15541934967041, -3.240122079849243, 9.939237594604492, -3.977827787399292, -9.622982025146484, 7.727802753448486, 1.5688389539718628, -1.488602876663208, 10.073397636413574, -4.405516147613525, -4.030711650848389, -9.81702709197998, 8.558603286743164, 3.0592751502990723, 1.8064358234405518, -9.000480651855469, 11.335505485534668, -4.51986837387085, 4.389717102050781, 12.58907413482666, -4.539985179901123, 1.142496109008789, -13.650639533996582, -7.4499030113220215, -3.8894202709198, -4.990312099456787, 2.0759329795837402, -6.548663139343262, 5.299041271209717, -3.733607053756714, 9.015839576721191, -5.4817070960998535, 8.070660591125488, -2.4466192722320557, -4.923696517944336, 5.5141496658325195, -9.826818466186523, -3.584634780883789, -4.430441856384277, 9.322176933288574, -0.8610837459564209, -5.732726573944092, 3.2921900749206543, -2.153808832168579, 6.732635021209717, 0.13863901793956757, 0.5104055404663086, 1.2588707208633423, 7.655796051025391, -9.301801681518555, 10.834832191467285, -0.7561137676239014, -3.7251017093658447, 3.4291915893554688, 14.944831848144531, -8.513171195983887, 7.762365341186523, 9.021339416503906, 4.215216636657715, -7.314025402069092, 2.9308247566223145, -4.932885646820068, -10.34662914276123, 2.7573182582855225, -3.389010190963745, 12.614335060119629, -6.7159318923950195, -9.017009735107422, 3.6645421981811523, 7.093602180480957, 9.754356384277344, -0.6303693652153015, 0.8986412882804871, 10.849176406860352, -3.254530906677246, 9.271879196166992, 7.778591156005859, 0.7877604365348816, 1.2070521116256714, -4.593576431274414, -4.483452796936035, 1.4564940929412842, 10.921365737915039, -7.007856845855713, 10.296597480773926, 1.0212886333465576, 3.518841028213501, 6.184568881988525, 9.162666320800781, 4.8259501457214355, 8.248332977294922, 4.870842456817627, 7.5609002113342285, -10.21035385131836, -5.436768531799316, -0.45967015624046326, 7.694183826446533, -6.717105388641357, -4.478754997253418, 9.689455032348633, 9.370335578918457, 6.621852874755859, -2.2417893409729004, -12.058455467224121, -12.240215301513672, -1.8188284635543823, -0.7939647436141968, 4.17642879486084, 13.690954208374023, -1.4221999645233154, 12.642742156982422, -5.8454155921936035, -0.8739518523216248, 5.443169593811035, 2.95668625831604, -1.7524425983428955, 1.797411561012268, 9.383788108825684, 6.532615661621094, -9.939909934997559, 4.245184898376465, 5.4640021324157715, -1.8183408975601196, 3.124359130859375, 6.237604141235352, -3.6037230491638184, 14.711761474609375, -0.19995282590389252, 2.3135557174682617, -0.050220753997564316, 1.4916791915893555, -3.200467586517334, -0.7611854076385498, -0.8994386792182922, -2.054058074951172, -3.4355220794677734, 0.13027405738830566, -3.5847434997558594, -14.639151573181152, 0.19631870090961456, -0.9057627320289612, -13.537211418151855, -7.706188201904297, 2.6516549587249756, -8.037914276123047, 1.2002183198928833, -5.288780689239502, -6.313987731933594, -7.803771495819092, 7.768478870391846, 1.65302312374115, 12.88319206237793, -6.008990287780762, -2.00726056098938, -5.0257697105407715, -5.284939289093018, -1.2815232276916504, -3.34249210357666, 2.061535120010376, -10.129059791564941, -2.141054391860962, 0.20412352681159973, 1.4964160919189453, -5.770655632019043, -6.592400074005127, 4.549429893493652, -1.8617857694625854, -9.566781997680664, 7.9054646492004395, -4.600783824920654, -7.315872669219971, 1.376994252204895, -3.051722764968872, -8.296062469482422, -9.72185230255127, 1.1523051261901855, -2.8406193256378174, -2.4657058715820312, -6.55995512008667, 4.287338733673096, -13.831753730773926, -0.3336842358112335, 5.161469459533691, 5.612206935882568, -12.314971923828125, 1.2616585493087769, -4.423710823059082, 6.9077582359313965, -0.03313673660159111, -1.4097384214401245, -3.3648600578308105, -1.7775574922561646, -1.7727049589157104, -6.123379707336426, 14.545970916748047, 16.319456100463867, 12.701854705810547, -7.607430458068848, -7.7191033363342285, -2.3502321243286133, -2.2768540382385254, 3.531822681427002, 12.077679634094238, 8.417614936828613, 2.8903486728668213, -7.848265647888184, 8.02538776397705, 5.238394260406494, 0.34194982051849365, -2.4168541431427, 12.298812866210938, 3.652876377105713, 2.865084648132324, -9.751169204711914, 1.047949194908142, 4.887826442718506, -2.552342414855957, 1.6710702180862427, 3.3871843814849854, -2.7179276943206787, 2.3255910873413086, 12.167407989501953, 2.0920822620391846, 13.296253204345703, 2.958958864212036, -1.0630161762237549, 2.31826114654541, 12.361551284790039, -1.7376412153244019, 1.7104471921920776, 1.7789056301116943, -0.6844119429588318, -1.4537365436553955, 4.235686779022217, -5.354640007019043, 6.588040828704834, -9.076580047607422, -6.757628440856934, 4.644383430480957, 1.1163474321365356, -4.073940277099609, 0.7592655420303345, 2.6448378562927246, 5.118469715118408, 3.211458921432495, 5.300246715545654, 9.108651161193848, -1.3369053602218628, -1.7038929462432861, 6.448590278625488, 0.9724382758140564, 7.221963405609131, 7.493968486785889, -5.469949245452881, 13.599555969238281, 4.570212364196777, -1.8542590141296387, -4.3617753982543945, 10.34774398803711, 1.4534790515899658, 15.520453453063965, 8.37099552154541, 6.644903659820557, 3.749446153640747, 2.6818408966064453, 4.336247444152832, -11.819828033447266, -5.319746017456055, 0.9372515082359314, -6.7845072746276855, 8.073497772216797, 1.5953277349472046, -0.3130025863647461, 11.217606544494629, 1.8785747289657593, -8.845388412475586, 0.5845105051994324, 5.838505268096924, 2.6433205604553223, 8.350556373596191, 0.22204744815826416, 2.3083181381225586, -11.385628700256348, -1.627791404724121, 4.796955585479736, 0.7527500987052917, -7.649344444274902, -8.315876960754395, -4.856290817260742, 0.3135117292404175, 5.785388469696045, -2.0865325927734375, -6.6050639152526855, 13.831228256225586, -7.908097743988037, 4.424225330352783, -5.137002944946289, -3.8971409797668457, -6.726381778717041, -5.622387886047363, 3.6138176918029785, -12.592061996459961, -12.216485023498535, 11.28291130065918, -7.3996806144714355, 0.19938527047634125, 2.1116015911102295, 3.636347532272339, -0.38580676913261414, 15.349891662597656, 1.0858728885650635, -5.985879421234131, -9.507096290588379, -3.337712049484253, -7.1936235427856445, -3.7630012035369873, -3.6070098876953125, -0.7776581645011902, -0.12235633283853531, 7.676946640014648, -3.792175054550171, -0.8458189368247986, 12.913061141967773, 0.043403588235378265, -3.678011178970337, -2.842923164367676, 6.535394191741943, -1.3196665048599243, 3.5237605571746826, -1.8172821998596191, 10.611659049987793, -10.059630393981934, 4.395009994506836, 4.18450927734375, -5.291885852813721, -3.6802282333374023, 9.237266540527344, -12.220667839050293, -9.15410327911377, 2.0334455966949463, 1.962660312652588, -0.8972735404968262, -2.510960817337036, 14.209281921386719, -9.0174560546875, 1.928339958190918, -7.7401347160339355, 4.192773342132568, -5.031525135040283, -6.61406946182251, -3.7200727462768555, -1.4211108684539795, -6.461859703063965, -4.16768217086792, 0.17580395936965942, -12.571444511413574, -1.3323851823806763, 4.452077865600586, -2.4929349422454834, -4.295602798461914, 12.80160140991211, -1.856587529182434, -3.158951997756958, -4.060094833374023, 5.046267032623291, 8.267632484436035, 14.89468765258789, -3.4540627002716064, 2.0444228649139404, -9.652913093566895, -5.539774417877197, 7.562369346618652, -11.05285930633545, -6.958111763000488, -0.18108230829238892, -10.094526290893555, -1.6742006540298462, -4.338102340698242, -5.638615131378174, 0.9123474359512329, 4.417879581451416, 6.105022430419922, 6.99635648727417, -1.99089515209198, -6.370364665985107, -2.4600651264190674, -10.694021224975586, 12.40389633178711, 7.824391841888428, -0.5785399675369263, 0.7717368602752686, 1.6347259283065796, -1.0173699855804443, 2.4995884895324707, 4.285425186157227, -7.025815486907959, -4.637136459350586, 0.29356124997138977, -3.144402503967285, 7.006438732147217, 7.094959735870361, -5.6318278312683105, -1.8758611679077148, -9.203896522521973, -4.22585916519165, -2.1424951553344727, -8.284366607666016, 5.814852237701416, -11.242682456970215, 5.821925163269043, 4.7742438316345215, 9.983414649963379, -2.5412051677703857, -6.431395530700684, -6.934560298919678, 14.042034149169922, -10.446667671203613, 3.080685615539551, 1.6663999557495117, 0.07087351381778717, 10.777115821838379, -1.5660781860351562, 4.001902103424072, -9.739006042480469, -10.769259452819824, -3.0010602474212646, -11.808184623718262, -1.9692133665084839, 15.141417503356934, 6.267773628234863, 0.5241456627845764, 5.027243614196777, 7.160569667816162, 7.487606048583984, -1.384472370147705, -10.043197631835938, 0.0023859073407948017, -2.9417710304260254, -7.553483009338379, 2.238001823425293, -13.392789840698242, 6.467501640319824, -4.58024787902832, 7.567157745361328, 0.3491370379924774, -2.0239083766937256, 14.655723571777344, 1.5410499572753906, 6.638665199279785, -3.1654160022735596, -0.15528197586536407, 5.121529579162598, 9.679329872131348, -0.4347635507583618, 3.284531354904175, -8.277250289916992, 0.5817298889160156, -1.7262752056121826, -3.468499183654785, 2.5163261890411377, -7.856642246246338, 6.2055792808532715, -0.24222701787948608, -4.293822765350342, -3.0304172039031982, 6.637254238128662, 0.32503771781921387, -7.00009298324585, 0.698661208152771, -3.517517328262329, -11.404974937438965, -5.653658866882324, -5.521386623382568, -10.873205184936523, -4.283029556274414, -4.487401962280273, -2.0019195079803467, 5.967020034790039, 6.305078983306885, 0.07358034700155258, 2.48115873336792, -7.700666427612305, -7.075525760650635, 0.056647054851055145, 13.923742294311523, -7.85045051574707, -3.6741538047790527, 7.418737888336182, -10.439191818237305, -2.395857334136963, -13.208362579345703, 2.517225742340088, -3.892998456954956, -2.9824330806732178, 0.358306348323822, -2.9783787727355957, -6.134579658508301, -4.943271160125732, -6.643319606781006, 9.705744743347168, 8.137086868286133, 9.64556884765625, 2.051591634750366, 1.577781319618225, 5.988036155700684, 0.014073661528527737, -1.04149329662323, 2.6429567337036133, 13.719805717468262, 0.4373951256275177, -9.074122428894043, -11.03105640411377, -6.024346828460693, -6.897083759307861, -4.149280548095703, 4.097690105438232, -4.492579936981201, 11.179948806762695, 7.939092636108398, 2.521672010421753, -8.00803279876709, -8.089581489562988, -8.333367347717285, -1.0343204736709595, 1.9889827966690063, 5.259833812713623, 4.528956890106201, 4.494839191436768, 8.959176063537598, -3.0209529399871826, -4.577556610107422, 0.9042831063270569, -0.053499218076467514, -8.64956283569336, 3.656829357147217, -9.129473686218262, -0.8097578883171082, -4.031160354614258, -8.889307975769043, -2.4980838298797607, 0.9529500007629395, 5.3349456787109375, 2.2741947174072266, 2.1211934089660645, -2.620225191116333, -7.406608581542969, -9.361186981201172, -5.512851715087891, -0.6431177854537964, 7.914547443389893, -7.754858493804932, -8.913567543029785, -11.156196594238281, 1.624112606048584, 8.244811058044434, 10.678913116455078, 10.398598670959473, 1.9323357343673706, 7.9510722160339355, -2.031867027282715, -8.683304786682129, -2.0856847763061523, 3.8580751419067383, -11.332919120788574, 6.410360336303711, 7.350774765014648, 7.916153907775879, 0.807588517665863, 6.82310676574707, -12.32187271118164, 6.8108086585998535, 13.919184684753418, -1.5744796991348267, -2.7397220134735107, 8.01093578338623, -5.362154483795166, -2.6075196266174316, 0.48848795890808105, 6.422418117523193, 13.666762351989746, 3.1233465671539307, -0.47489219903945923, -4.030657768249512, -5.267548084259033, 0.9548106789588928, 14.426562309265137, -0.11539322137832642, 1.5942593812942505, 4.182215213775635, -0.0003335876972414553, -4.955661296844482, -13.116652488708496, 0.6783677935600281, -9.653565406799316, 7.99270486831665, -1.8895360231399536, 3.715015411376953, -3.9189069271087646, 2.2216362953186035, -5.354343891143799, 9.502089500427246, 5.760048866271973, 0.37379586696624756, 4.758828639984131, 1.2619622945785522, -4.297854900360107, -10.884441375732422, -2.9782674312591553, -9.336790084838867, -7.885895252227783, 12.691020965576172, -2.916451930999756, 3.990744113922119, 4.2713117599487305, -6.21617317199707, 0.3978276252746582, -8.732815742492676, 2.276360511779785, 8.705426216125488, -3.443192481994629, 8.576249122619629, -4.717594146728516, 5.075216770172119, -0.473508358001709, -5.40400505065918, -0.5728726387023926, -10.74113941192627, 3.017247438430786, -2.3792243003845215, 2.3770101070404053, 6.161631107330322, -0.42198067903518677, -0.641954243183136, -4.662578105926514, 0.17958097159862518, 6.774930953979492, -1.4546130895614624, -1.910637378692627, -1.8393833637237549, -7.085315227508545, -5.747561931610107, -4.508995056152344, 5.239448070526123, -11.067625045776367, 13.212294578552246, 6.410575866699219, 9.968814849853516, 8.640186309814453, 9.461162567138672, 9.321170806884766, 1.809973955154419, 8.057605743408203, -1.4280706644058228, 4.364166259765625, -3.982656717300415, 5.780444622039795, 6.298852920532227, 5.353813648223877, -5.328362464904785, -12.75199031829834, -1.421942949295044, 13.629901885986328, -7.234307765960693, 5.324132919311523, 12.519824981689453, -0.4021403193473816, -7.201564788818359, 1.7596755027770996, -7.965960502624512, -4.469847202301025, -3.7761051654815674, 3.1256160736083984, -3.418583631515503, 9.404346466064453, 3.119701385498047, 6.1689019203186035, -5.357718467712402, -0.4211260974407196, 11.410537719726562, 8.228996276855469, -5.849109172821045, -2.9235312938690186, -5.577743053436279, 2.8315889835357666, 7.729188442230225, 2.653095006942749, -7.692305088043213, -4.526342391967773, 7.050816535949707, 5.179243087768555, 6.431612491607666, 7.293210506439209, -2.4434831142425537, 5.227696895599365, -0.4368681311607361, -1.9679979085922241, 5.302475452423096, 3.691729784011841, -4.660334587097168, -9.168182373046875, -9.887825012207031, -5.289923191070557, -1.1832859516143799, 1.3040459156036377, 4.646219730377197, -11.822322845458984, -2.533754825592041, -11.748558044433594, -6.552030086517334, -2.912224769592285, 1.4300869703292847, -7.703456401824951, -0.6812734007835388, 9.68187141418457, -4.212322235107422, 1.857779860496521, 3.4057774543762207, -3.557769536972046, 5.790846347808838, -4.875452518463135, 2.5627620220184326, -8.825820922851562, -1.1507782936096191, 6.334049224853516, -0.5832918882369995, -3.402772903442383, 7.590290546417236, 4.392320156097412, -2.1055784225463867, 1.4390133619308472, -3.200711727142334, -2.0633840560913086, -9.839333534240723, 0.4662427306175232, 0.05580204352736473, 2.193880081176758, 5.543137073516846, -12.274136543273926, 0.4349879026412964, 9.826105117797852, 2.0117404460906982, -2.3661296367645264, -8.40640926361084, 4.904669284820557, -6.192879676818848, 7.078293800354004, -0.5774156451225281, -0.8565349578857422, 2.721085548400879, -1.4055973291397095, -4.08997917175293, 7.278679370880127, 5.510266304016113, -2.4609222412109375, -4.617213249206543, 3.8159537315368652, -5.272094249725342, 8.39193058013916, -1.803600549697876, -0.7120113372802734, 8.92263412475586, 0.5529048442840576, -3.414480686187744, 7.010031700134277, -0.35677778720855713, -8.351607322692871, 7.689091682434082, 0.19151748716831207, -2.2687172889709473, -9.719961166381836, 11.819038391113281, -1.855922818183899, 15.055973052978516, -1.3267766237258911, 2.9171459674835205, -0.47073614597320557, 4.007024765014648, -2.8044943809509277, 9.704480171203613, 1.042014479637146, 9.271621704101562, 2.516845226287842, 13.350435256958008, 11.522477149963379, 7.197408676147461, 9.069774627685547, 8.23876667022705, 9.281671524047852, 2.3994431495666504, -1.5517897605895996, -0.7083786129951477, -5.077128887176514, 9.606712341308594, 3.5665178298950195, -8.389912605285645, 11.697980880737305, 3.0152695178985596, -10.124600410461426, 4.26716947555542, 7.222606182098389, -10.801323890686035, 2.567473888397217, -9.500246047973633, 12.795589447021484, -1.4750198125839233, -4.469625949859619, -7.552982330322266, 8.679376602172852, 5.784836769104004, -10.158730506896973, 0.2828625440597534, 10.857640266418457, 1.0432466268539429, -0.9243892431259155, 3.603114366531372, -13.243898391723633, -4.7445878982543945, 1.2393137216567993, 12.00397777557373, -9.694541931152344, -3.3070459365844727, -4.543792724609375, -4.660030841827393, 4.611318588256836, 1.1292752027511597, 2.1976470947265625, -3.5427489280700684, 2.1060688495635986, 10.812907218933105, -10.594869613647461, -0.6793670654296875, -2.8182623386383057, -0.1269710510969162, -12.290616989135742, -5.4962358474731445, -1.3432427644729614, 5.6790289878845215, -0.5254384875297546, -5.858468055725098, -0.3809833824634552, 3.2277190685272217, 6.990900993347168, -0.42010781168937683, 7.970238208770752, 12.342584609985352, -11.317734718322754, 5.380732536315918, -5.182239532470703, -6.546427249908447, -1.4229375123977661, 11.539579391479492, 4.391441345214844, -7.677053928375244, -0.817625105381012, 5.308043479919434, 9.661958694458008, 1.9992895126342773, -2.8133256435394287, -9.326081275939941, -9.98734188079834, 2.238162040710449, 8.78914737701416, 9.974018096923828, -3.2590487003326416, 13.758892059326172, -10.584821701049805, -10.518594741821289, 13.525076866149902, 4.938549041748047, -8.525081634521484, 6.5039448738098145, -12.993748664855957, 4.4420599937438965, 6.95260763168335, -2.3366830348968506, 5.527507305145264, 4.114847183227539, 13.37714958190918, -6.641880989074707, -3.5210773944854736, -0.0919489711523056, 4.361574649810791, 1.994354009628296, 5.5252461433410645, -4.011029243469238, -1.076734185218811, 7.465336322784424, 5.147036075592041, 15.092339515686035, -3.822153329849243, -6.046806335449219, -5.626413345336914, -4.296982765197754, 1.0047636032104492, -0.8021030426025391, 8.84068489074707, -5.006528854370117, -0.24140389263629913, 0.7151168584823608, 4.940174102783203, -5.484797477722168, -3.0547754764556885, -3.754249334335327, -3.585386037826538, -2.5132718086242676, -5.395613193511963, -5.764702796936035, 0.7862910032272339, 3.330772876739502, 4.910768508911133, 5.663241386413574, -6.612667560577393, -7.024725437164307, -9.669776916503906, 1.6491154432296753, -12.266071319580078, -0.7992171049118042, -8.709139823913574, -1.1670631170272827, -8.752823829650879, -1.8096590042114258, -7.935804843902588, -0.6282485127449036, 1.191636562347412, 5.308775424957275, 8.173818588256836, -3.11149525642395, 7.552548885345459, -9.358224868774414, -8.036725997924805, 3.265610456466675, -3.161738872528076, 3.605611801147461, 4.434411525726318, 12.687246322631836, 7.448544979095459, -7.5875067710876465, -0.8385154604911804, -9.99535083770752, 9.288808822631836, 0.7816526293754578, 0.5912452936172485, -5.116064071655273, 12.855852127075195, -2.024350166320801, -5.177292823791504, -11.761670112609863, -5.200477600097656, 15.404108047485352, -3.847846031188965, -3.8060250282287598, 0.4941878318786621, -7.726207256317139, -8.05927562713623, 7.716355323791504, -2.756972551345825, -7.325268745422363, -0.888309121131897, 5.79785680770874, -1.7035815715789795, 5.037642002105713, -0.9215160012245178, 1.5514065027236938, 3.369550943374634, 11.762968063354492, 8.226580619812012, -0.445378839969635, -9.209569931030273, 11.285733222961426, -2.9439046382904053, 2.484877824783325, 8.744213104248047, 4.149715423583984, 0.8157266974449158, 3.200765371322632, -12.505295753479004, 2.051637649536133, -1.2337757349014282, 7.1987199783325195, -6.7347331047058105, -0.03746049851179123, -9.552019119262695, -3.2674903869628906, -9.080894470214844, -9.059422492980957, -2.9060139656066895, 15.93924331665039, -1.6149590015411377, -2.5130486488342285, -0.6462854743003845, 8.366938591003418, 0.15655754506587982, -0.0021438738331198692, 5.069278717041016, 5.352789402008057, -11.802382469177246, 9.23048210144043, 3.2594363689422607, 6.60573148727417, 4.5001678466796875, -8.798089027404785, 3.07802414894104, -1.6109832525253296, -10.136907577514648, -3.2289836406707764, -7.349496841430664, -6.2561726570129395, 4.274941921234131, 6.701958656311035, -6.071052551269531, 0.5374698638916016, 9.43835163116455, 11.224366188049316, -6.501245021820068, -4.816537380218506, -2.2179925441741943, -5.49154806137085, -5.436406135559082, 9.158122062683105, 0.18103566765785217, -0.1474212259054184, 0.9505056738853455, 4.322204113006592, 8.821279525756836, 7.776243209838867, -3.8032612800598145, -13.732420921325684, -10.633890151977539, 3.2643849849700928, -4.054566383361816, -8.767643928527832, 1.0682787895202637, -3.1681554317474365, -0.9557936191558838, -2.2084951400756836, 7.7423176765441895, 3.5137107372283936, -1.9139753580093384, -3.868162155151367, -7.606260776519775, -3.5962886810302734, -1.9143813848495483, 1.7762877941131592, -9.871478080749512, 1.1328847408294678, 3.9313483238220215, 1.1468489170074463, 13.336682319641113, 9.361454010009766, 5.561001777648926, -2.8816287517547607, -5.530672073364258, -9.55140495300293, -3.2076642513275146, -7.514804840087891, 4.457422256469727, -12.821417808532715, -8.146289825439453, -2.1957178115844727, -7.711704254150391, 5.540385723114014, -10.87636947631836, -0.29168447852134705, 0.7855549454689026, -3.779902458190918, 10.175091743469238, 0.13636690378189087, 10.540486335754395, 3.2744388580322266, -3.4912593364715576, -0.1819707155227661, -1.1386046409606934, 7.816070079803467, -5.399415016174316, -3.745272636413574, -1.6788066625595093, 9.100942611694336, 4.80422830581665, 2.5871574878692627, -2.9201760292053223, -1.7508349418640137, -9.08520793914795, 4.510855197906494, 6.590633869171143, 8.556044578552246, -5.031147480010986, 3.5974323749542236, 7.025801181793213, -3.4781386852264404, -12.671768188476562, -5.729399681091309, 2.361879587173462, -0.25553056597709656, 12.140068054199219, 9.692461967468262, -1.1698402166366577, 4.1810302734375, -6.362298011779785, 0.6147137880325317, -8.917684555053711, -7.285639762878418, -3.036398410797119, -0.907111644744873, 3.6741063594818115, -5.036196708679199, -6.6814351081848145, 14.413208961486816, -2.800107479095459, 11.624955177307129, -2.3922295570373535, 4.685245037078857, -12.93175983428955, 15.30966854095459, -4.048936367034912, 4.711284160614014, -3.166822671890259, 6.889791011810303, 7.536280155181885, -3.5057976245880127, -5.60456657409668, -4.139216423034668, -1.9668174982070923, 14.873075485229492, -13.222176551818848, -7.74249267578125, -11.75877571105957, -7.712279796600342, 2.71911883354187, -3.8472986221313477, 3.886367082595825, 7.228392124176025, 9.767878532409668, -2.8533992767333984, 4.787447929382324, -2.8123867511749268, -13.279561042785645, -6.316834926605225, 7.605162143707275, 4.82898473739624, -6.730684757232666, -1.3019776344299316, -5.859290599822998, -5.830082893371582, -2.772386074066162, 12.883052825927734, 1.7609927654266357, 7.3511481285095215, -4.130222320556641, 1.113399624824524, -8.788915634155273, 1.6425139904022217, 11.222097396850586, 3.1799182891845703, 0.649325966835022, -0.6444600224494934, 0.19228585064411163, -8.447990417480469, -3.5953147411346436, -6.301663398742676, -8.943984031677246, 1.8591117858886719, 4.55802059173584, -9.16244888305664, 2.5400900840759277, -0.9930685758590698, 0.08524943888187408, -5.14508056640625, -0.5274413228034973, 1.255004644393921, 5.059262275695801, 7.586194038391113, 10.062421798706055, -4.664985179901123, 6.3420329093933105, 1.142878532409668, 2.55855655670166, 8.972968101501465, -9.573075294494629, -3.021568536758423, 7.1353840827941895, -11.128981590270996, 8.297565460205078, 15.648589134216309, 2.3100035190582275, 2.425095558166504, -11.132776260375977, 5.936306476593018, 5.3364434242248535, 6.826803207397461, -2.7384965419769287, 0.31604477763175964, 2.034574508666992, 6.386467456817627, 4.001965045928955, -0.8298107981681824, -2.0388450622558594, 2.140733242034912, -0.7237012386322021, 12.82257080078125, 13.960541725158691, 1.7139501571655273, 15.42447566986084, 0.5831676125526428, 1.4266210794448853, -7.167357921600342, 12.360154151916504, 11.410945892333984, -6.060341835021973, -3.220349073410034, -3.0459158420562744, 4.231634616851807, 6.786846160888672, 12.591462135314941, -9.810568809509277, -0.08640320599079132, -1.7686278820037842, 2.5943851470947266, 4.862599849700928, -4.427943229675293, -13.584197044372559, 1.4642328023910522, -9.499197006225586, 6.120817184448242, -2.2879276275634766, 4.916335582733154, -12.43079948425293, 10.504469871520996, -4.999789237976074, 5.991738796234131, 3.532712459564209, -1.322258472442627, -9.88779354095459, 4.825931549072266, 12.623149871826172, -3.812415599822998, -0.9420956969261169, -2.8233916759490967, -4.073635101318359, -8.936570167541504, -7.533923625946045, 0.41831254959106445, 2.1354434490203857, -13.616806030273438, 3.7914509773254395, 0.022565808147192, 5.614114284515381, 2.6347568035125732, 1.4789968729019165, -9.290961265563965, 7.588217735290527, 4.234918594360352, 14.773134231567383, -8.288124084472656, 15.385932922363281, -2.25254487991333, -6.995632171630859, -2.0022146701812744, -1.746825098991394, 0.6552578210830688, 1.9643713235855103, -12.90766716003418, 4.155174732208252, 8.507811546325684, -2.131058931350708, -6.29655647277832, 1.1735777854919434, -0.7501503229141235, 9.58119010925293, 7.767708778381348, -2.47957444190979, -6.112299919128418, -5.492191791534424, 6.944736957550049, 2.377260208129883, -5.407527446746826, -0.47354787588119507, 4.159974098205566, -5.263970851898193, -1.3310753107070923, 4.399614334106445, -0.6211764812469482, 0.9437558054924011, 2.063904047012329, 5.807373046875, 0.4527791738510132, -7.969873428344727, 7.274688720703125, -6.1710968017578125, -2.0290746688842773, -3.889758586883545, -4.6054582595825195, -7.427285671234131, 11.02983570098877, -12.412836074829102, -5.137676239013672, 11.383825302124023, -4.689648628234863, 12.530786514282227, -6.792150497436523, -3.887399435043335, 3.868931293487549, 1.0793861150741577, 6.277332782745361, 2.4034807682037354, -8.608536720275879, -11.057121276855469, 0.14491146802902222, 3.851179599761963, 14.720707893371582, 9.007721900939941, 7.276346206665039, -1.628328561782837, 8.53268814086914, 2.593677282333374, -0.8259755969047546, 2.2949600219726562, -0.51540607213974, -4.176577091217041, -5.602664470672607, 0.556318461894989, -4.589312553405762, -7.764540195465088, 0.18065930902957916, 1.0752142667770386, 8.426023483276367, 6.89577054977417, -0.9682816863059998, -2.052157163619995, 3.6156513690948486, -9.166887283325195, -0.4065726399421692, -0.7709512710571289, 4.588498592376709, -2.492783784866333, -10.409671783447266, -4.4194231033325195, 4.678100109100342, -6.4807209968566895, -5.024978160858154, -1.090458631515503, -2.82148814201355, -11.50279426574707, -1.2449619770050049, -5.9644575119018555, 1.6495893001556396, -5.63110876083374, -5.713850498199463, 14.416014671325684, -2.876931667327881, -7.401761531829834, -9.906245231628418, 5.218799591064453, 1.25323486328125, -6.309959888458252, 4.303161144256592, -6.010867595672607, 15.496356964111328, 1.4868518114089966, -11.878087043762207, 5.921228885650635, 4.828330993652344, -4.630753040313721, -5.066697597503662, 6.047710418701172, -5.903461933135986, -3.948524236679077, -0.4415332078933716, 0.07005515694618225, 14.085380554199219, -2.502913236618042, 5.824105262756348, -4.879986763000488, 8.390218734741211, -10.526934623718262, 7.696002960205078, -4.5832905769348145, 5.134283542633057, 1.380710244178772, 5.884909629821777, -1.0059577226638794, -3.2634329795837402, 0.5813848376274109, -0.6623061299324036, 5.584469795227051, 9.34328556060791, -2.619227170944214, -2.5262610912323, 9.078659057617188, 0.6728441715240479, 14.140874862670898, 2.551682233810425, 5.419967174530029, 0.1566983014345169, 3.0042030811309814, -2.4311602115631104, -2.752821207046509, -2.7779901027679443, 7.610040187835693, 1.0135133266448975, 14.974058151245117, 10.922386169433594, 3.853309154510498, 11.112649917602539, 1.0091606378555298, -0.5151175260543823, -9.899209976196289, 2.1534364223480225, 2.0844264030456543, 11.093892097473145, 7.044040679931641, 7.0510945320129395, 7.120082855224609, 5.565286636352539, 1.2628682851791382, -9.062076568603516, -2.05550479888916, 5.947396755218506, -4.044823169708252, 13.604315757751465, 4.098130702972412, -11.096752166748047, -1.1492211818695068, 3.3847084045410156, -8.794560432434082, -6.655937671661377, -10.463616371154785, -5.726742744445801, -5.568053722381592, 1.7770884037017822, -2.8832926750183105, 14.595965385437012, 5.0181474685668945, -5.942013740539551, -0.9253785014152527, -0.7217454314231873, -6.923130512237549, 7.838473320007324, -1.3716261386871338, 12.937891006469727, 6.136987209320068, 3.501788854598999, 2.747650623321533, 9.528055191040039, 5.822638988494873, -1.2191426753997803, 4.5167083740234375, 2.985445022583008, 1.1470165252685547, 4.972768306732178, 6.3840789794921875, -9.610990524291992, -4.388176441192627, 0.5156252980232239, -14.876575469970703, -6.737525939941406, 8.682609558105469, 5.674898624420166, -9.496306419372559, -1.064659595489502, 8.948677062988281, 4.319992542266846, -1.8083057403564453, 4.51794958114624, -6.353198528289795, 0.10672647505998611, 8.517499923706055, -6.864854335784912, -9.102189064025879, 4.242109298706055, 2.4649837017059326, 4.483936309814453, 11.922829627990723, -10.121162414550781, 5.227315425872803, -4.229795455932617, -5.067353248596191, -11.933759689331055, 4.851828098297119, -7.064839839935303, -2.8619580268859863, -8.146462440490723, -7.354752063751221, -5.448584079742432, -2.521803140640259, -2.027191162109375, 0.11650052666664124, 11.42197322845459, 11.898547172546387, -5.4195733070373535, 1.6734641790390015, -3.850494384765625, -6.873256206512451, 12.04201602935791, 7.049139022827148, -5.327555179595947, 9.041332244873047, 11.417159080505371, -2.123680353164673, 14.530744552612305, -6.900480270385742, 7.6020917892456055, -10.287315368652344, -10.318151473999023, -0.869109034538269, -1.1710829734802246, -6.20079231262207, 7.045429229736328, 2.1048312187194824, 10.93685245513916, -2.2877185344696045, 4.5993475914001465, -4.283899784088135, -9.104439735412598, 2.1705751419067383, -1.5956069231033325, -6.975944995880127, 0.65323805809021, -0.5775299072265625, -2.0033531188964844, 11.625345230102539, -0.6109747886657715, -5.304113864898682, -0.7418420910835266, -3.65773868560791, -4.1249823570251465, 7.8892621994018555, -2.152977705001831, -7.608022212982178, 7.982311725616455, -13.035697937011719, 7.295539379119873, -1.9772716760635376, 3.5029518604278564, -8.362093925476074, -1.755479335784912, 7.712874889373779, -0.0490482896566391, -5.899485111236572, 7.650155067443848, -2.072984218597412, 4.198122501373291, -4.585422515869141, -7.090028285980225, -1.1527347564697266, 6.5609893798828125, 9.851819038391113, 8.831878662109375, 12.587265968322754, 3.460357427597046, 1.9300334453582764, 14.966768264770508, 6.01362419128418, 8.166393280029297, -1.8881314992904663, 14.899226188659668, 3.75636625289917, 2.5610997676849365, -11.379656791687012, -6.264808654785156, -3.211026191711426, 2.7014241218566895, -1.9412959814071655, -2.044187545776367, -1.2581017017364502, 6.608019828796387, 0.5281554460525513, -8.831476211547852, -13.307376861572266, -3.6858811378479004, -3.7969517707824707, 12.559738159179688, -6.502058029174805, 4.271606922149658, -10.871790885925293, 6.638519763946533, 8.935303688049316, -7.449294567108154, 0.2897549867630005, 1.3371961116790771, 6.744515419006348, 5.126739501953125, 0.5688431262969971, 7.202147960662842, 1.6511452198028564, 8.293822288513184, 4.72509765625, -0.5194135308265686, 1.4416550397872925, -4.5252251625061035, 1.9222798347473145, 9.769316673278809, 0.7077032327651978, 7.3254008293151855, -2.949807643890381, 12.453039169311523, -13.166272163391113, 6.788910865783691, -0.514248788356781, 3.2801833152770996, 9.428363800048828, 6.779552459716797, -0.03880930691957474, -3.476231575012207, 3.134861707687378, -7.5702009201049805, 5.401228904724121, 1.3996562957763672, -9.58052921295166, 1.6610567569732666, 0.28727346658706665, 8.156662940979004, -5.809530735015869, -5.547833442687988, 14.755855560302734, -4.445659160614014, -1.5938689708709717, -5.696619033813477, 0.732593297958374, 11.100157737731934, 8.494296073913574, 13.074087142944336, -6.78522253036499, -9.376705169677734, 1.7912204265594482, 2.141340494155884, 11.302826881408691, -10.47374439239502, -10.415811538696289, 1.2501020431518555, -7.405633926391602, 6.550083160400391, -0.04242681711912155, -4.332524299621582, 5.289779186248779, -8.256766319274902, -6.631023406982422, 3.9390549659729004, -3.023164749145508, 6.186505317687988, 6.206945896148682, 5.83037805557251, 1.184778094291687, -3.951101303100586, -0.6322042942047119, 5.981367588043213, 1.3888367414474487, 3.9154553413391113, -13.487573623657227, 0.6886612176895142, -9.846675872802734, 12.62252140045166, 5.491645812988281, 1.0759613513946533, -4.244718074798584, 1.6927751302719116, 8.63004207611084, 2.224700689315796, -5.018106937408447, -9.641034126281738, 5.599463939666748, 10.59243392944336, 9.23388385772705, -6.247034072875977, 4.17957878112793, 6.181154727935791, -1.8900765180587769, -3.1673412322998047, -3.2045586109161377, -1.0258305072784424, 10.369768142700195, 1.5836559534072876, 13.499995231628418, 5.003612995147705, 11.22299861907959, -2.5030455589294434, 5.4831061363220215, 0.27867186069488525, 3.673542022705078, 6.997134685516357, -6.360933780670166, 4.354679584503174, -4.937417030334473, -8.402312278747559, 7.63450288772583, -8.224472045898438, 8.857874870300293, 9.067416191101074, 6.6346435546875, 3.6056501865386963, 1.5524340867996216, -4.433669090270996, -9.625126838684082, -6.594932556152344, -0.872819185256958, 0.33031246066093445, 7.666743278503418, 4.3882670402526855, 10.296517372131348, 11.641136169433594, -9.983207702636719, 3.711247444152832, -2.184561014175415, -8.886645317077637, -0.44215601682662964, -5.788613319396973, -2.0830535888671875, -11.947731971740723, 5.3232316970825195, -6.1701178550720215, 15.234161376953125, -9.056319236755371, 11.308588981628418, 1.9070180654525757, -6.895831108093262, -6.938640117645264, -3.2686614990234375, -3.415708541870117, -4.164268493652344, -3.0673515796661377, 2.3816275596618652, 1.4562554359436035, 1.7315356731414795, -2.7746524810791016, 2.3206281661987305, -2.8695971965789795, -12.045958518981934, -1.2400412559509277, 8.744352340698242, 9.645190238952637, -10.149718284606934, -5.283113956451416, 15.1264009475708, -5.633453845977783, -7.478923797607422, -4.1260986328125, -2.6534781455993652, -9.156537055969238, 4.140692234039307, 14.487152099609375, -7.032172679901123, 5.655339241027832, -10.380620956420898, -6.113084316253662, -4.661581516265869, -7.315422058105469, 4.978984832763672, 4.371192932128906, -1.8192614316940308, -7.015472888946533, 5.639585494995117, 7.652331829071045, 1.4801489114761353, -0.2962292730808258, -3.1339168548583984, -0.8917704820632935, 12.061784744262695, -5.214900016784668, 2.1047027111053467, -9.64380931854248, 2.543703079223633, 15.694259643554688, 6.3654890060424805, 6.0041704177856445, 4.601945400238037, -7.956801891326904, -8.951325416564941, 11.061592102050781, -6.225364685058594, -1.6367709636688232, -1.9246383905410767, -3.3818604946136475, -6.692268371582031, -0.8281979560852051, 8.890591621398926, 5.276736736297607, -6.820803642272949, -7.712039947509766, -8.756387710571289, 13.964228630065918, -3.012190818786621, 2.335853338241577, 8.101734161376953, 7.196847438812256, 10.088743209838867, -1.9138402938842773, 4.2422356605529785, -9.113255500793457, 7.704744338989258, -3.521254062652588, 2.052870988845825, -9.107803344726562, -7.1170854568481445, 7.770899295806885, -9.715879440307617, -3.6454663276672363, 4.613757610321045, -2.345569372177124, 1.0568733215332031, -1.069423794746399, -3.5283751487731934, -13.458649635314941, -9.148862838745117, 4.8307318687438965, 13.270319938659668, -10.542373657226562, -5.446628093719482, 1.1245932579040527, 4.932722568511963, -5.881866931915283, -7.050140857696533, -8.755838394165039, 12.432950973510742, -4.103058815002441, -4.162775039672852, -4.570276260375977, 0.776838481426239, -4.855096817016602, -2.410061836242676, 0.4889235198497772, 12.310795783996582, -4.465892314910889, -7.640061855316162, 5.685364246368408, 4.27615213394165, -4.450761795043945, -6.488794326782227, -3.0358855724334717, -3.937263250350952, -4.033180236816406, -1.847394347190857, -2.4064345359802246, -7.76105260848999, -3.9765851497650146, 1.0958458185195923, 4.640905380249023, -2.4630472660064697, 9.514902114868164, 6.876801490783691, 5.381245136260986, 0.5720584392547607, 0.5717946887016296, 10.329629898071289, -2.9158084392547607, -1.7713825702667236, 6.814977645874023, 6.706313610076904, -1.8734455108642578, 7.8638410568237305, 9.24329948425293, 5.730615615844727, -1.544374704360962, -6.494834899902344, 0.8673180341720581, 3.105689287185669, 14.60917854309082, 6.037499904632568, 0.9051579236984253, -2.6473798751831055, -1.9268684387207031, -1.966196060180664, 2.4700212478637695, 3.6116952896118164, -3.543250799179077, -5.61848258972168, 5.0014801025390625, 12.982107162475586, -5.194406509399414, 0.7804325222969055, -0.5295420289039612, 0.6270425915718079, -5.935834884643555, -2.442106008529663, -1.7804230451583862, -2.169674873352051, -5.462807655334473, 4.791009426116943, -5.340445041656494, -4.865732669830322, -9.860846519470215, -3.7518110275268555, -3.6448264122009277, 9.881762504577637, 4.290670871734619, 8.868938446044922, 15.063379287719727, -1.4212777614593506, -5.346920013427734, 1.2078713178634644, 0.28508251905441284, -6.8318190574646, -6.386386394500732, 8.912076950073242, -4.718700885772705, 3.649751663208008, -7.725323677062988, -2.144257068634033, 5.835958003997803, -7.196215629577637, -8.723482131958008, 4.177599906921387, -0.47823527455329895, 3.619488477706909, -0.8126028180122375, -5.640117645263672, 12.730057716369629, -6.004538059234619, -10.30482292175293, -4.155486106872559, -2.6888787746429443, 9.019869804382324, -2.959533452987671, 1.0437970161437988, 12.85082721710205, 11.972100257873535, -3.6914401054382324, 13.771891593933105, 2.769804000854492, 4.056045055389404, 9.81761646270752, -3.8493282794952393, 9.529356956481934, -11.027402877807617, 8.54684829711914, -3.592966079711914, -8.908772468566895, 1.5856506824493408, 0.9197862148284912, -6.247920513153076, 4.58942985534668, -5.366705894470215, 3.851938486099243, -10.296602249145508, 3.3691186904907227, -4.382286548614502, -5.625977993011475, -2.570617437362671, 9.670380592346191, -0.11682242155075073, 9.607752799987793, 15.8803129196167, 6.389131546020508, -4.317017555236816, -3.9357075691223145, -2.699479579925537, 5.657809257507324, -4.7346343994140625, -0.2315617799758911, -10.215402603149414, 4.0691704750061035, -2.514333724975586, -8.419156074523926, -4.169308662414551, 0.5850026607513428, 1.1181187629699707, 7.8590288162231445, -9.366507530212402, -9.679679870605469, 6.773904800415039, -5.817289352416992, -0.092417873442173, -12.97469425201416, -1.4436548948287964, -1.831563949584961, 3.4101359844207764, -0.028930656611919403, 0.9677463173866272, -2.1261532306671143, 9.230132102966309, 2.088369607925415, 9.284627914428711, 12.79171085357666, -8.377229690551758, 4.977210998535156, -3.026670217514038, -1.0186364650726318, -6.915312767028809, -4.896411418914795, 4.765760898590088, 4.122166633605957, -5.424055576324463, 2.548861503601074, 2.829180955886841, 3.0571978092193604, -3.8063058853149414, -1.6940473318099976, -4.432236194610596, 2.5177128314971924, 4.211342811584473, -3.114417791366577, -1.9834941625595093, -5.0364508628845215, 5.001836776733398, 11.216217994689941, 8.940705299377441, -5.096396446228027, -6.189151763916016, -4.783193588256836, -13.52168083190918, 5.873108386993408, 3.079132318496704, 9.537187576293945, 2.4060373306274414, 0.7645023465156555, 4.611303329467773, 14.027008056640625, -0.8729436993598938, 6.216219425201416, 0.2672661244869232, -5.114012718200684, -4.401859283447266, -1.2718415260314941, 1.1579890251159668, -7.688243865966797, 15.552950859069824, 1.5615030527114868, -4.193530082702637, -0.15633736550807953, 1.0899341106414795, 9.731711387634277, -8.84228229522705, -3.3581297397613525, 0.90329509973526, 4.043337345123291, -6.928605556488037, 13.279362678527832, -10.505620002746582, -3.593329668045044, -0.05841122940182686, -1.7925105094909668, -9.619877815246582, -1.7021129131317139, 0.4872576594352722, -0.933856725692749, -2.22566556930542, 5.510746002197266, 5.143714427947998, -5.490501403808594, -7.212324142456055, -2.8483469486236572, 10.272456169128418, -2.971949815750122, -5.052710056304932, 3.777799367904663, -0.7443476915359497, -1.3447575569152832, 3.8178088665008545, -1.9120301008224487, 5.058908462524414, 5.167177677154541, -7.356322288513184, 12.000266075134277, 1.177741289138794, 0.23690761625766754, 1.7171061038970947, 11.712437629699707, 4.633078098297119, 0.06717003881931305, -1.600244402885437, 13.02330493927002, 1.6938186883926392, 1.2739030122756958, 0.6971533298492432, -6.764811038970947, -3.813920497894287, -7.096989631652832, -0.28569090366363525, 14.391533851623535, 2.1211345195770264, -4.086739540100098, -7.926894664764404, 11.909777641296387, -8.890471458435059, 1.4249757528305054, -1.8496999740600586, 3.4999306201934814, 3.7925198078155518, 7.816192150115967, 4.8216328620910645, 7.384393692016602, -2.150153875350952, 3.6734585762023926, -1.8184252977371216, 9.85511302947998, 2.148322582244873, 8.25551986694336, 0.9546211361885071, -0.1571284383535385, 6.1143364906311035, 7.924559593200684, 8.351997375488281, -3.7908761501312256, -12.798623085021973, 6.301903247833252, -3.151578187942505, 8.888847351074219, -1.3337675333023071, -4.555228233337402, -5.050563335418701, -1.772836446762085, 6.833881855010986, -9.713577270507812, 3.2724621295928955, -7.462569713592529, -7.418802261352539, -2.089557409286499, 0.9332695007324219, 12.75045108795166, 8.087754249572754, -11.226179122924805, -5.803177356719971, -0.5506299138069153, -5.982812404632568, -1.0355021953582764, 3.1590805053710938, 7.343376159667969, -2.740647315979004, 0.8516342043876648, -6.931252479553223, 2.5397682189941406, -2.922085762023926, 2.92484450340271, 1.2912592887878418, 0.9977745413780212, -4.9090142250061035, -0.09808497875928879, -8.688349723815918, -7.447508811950684, 7.334173679351807, 1.5772472620010376, -1.9291460514068604, -2.9079158306121826, 9.150070190429688, 9.52861499786377, -7.001770973205566, -6.457759380340576, -0.22840262949466705, -11.948287963867188, -3.0711755752563477, 5.875908374786377, -2.642793655395508, -8.173032760620117, -3.7360222339630127, 8.359519004821777, -9.24695873260498, -0.9873015880584717, 7.808928489685059, 9.536953926086426, 14.34325885772705, -1.712558388710022, -8.839336395263672, 1.4485265016555786, 1.2204149961471558, -0.3799850344657898, 3.821110486984253, -0.11937735229730606, 6.49784517288208, -7.849716663360596, 9.44314193725586, -5.136998176574707, 2.1387922763824463, -0.4852295219898224, 5.215785503387451, -0.9804571866989136, -5.725016117095947, -3.257755756378174, -5.223148822784424, 9.7262544631958, -0.08249088376760483, -6.59004020690918, -4.177274227142334, 0.8916264772415161, 13.117385864257812, 2.096909999847412, 7.401085376739502, 8.667182922363281, 4.304198265075684, 4.901661396026611, 6.205508708953857, -2.442277193069458, 1.1603970527648926], \"z\": [0.7518947124481201, -1.5088237524032593, 9.072158813476562, 8.780074119567871, -10.56827163696289, -9.82586669921875, -1.6399482488632202, 13.661117553710938, 1.7101249694824219, -7.2346649169921875, 4.615151405334473, 8.388493537902832, -2.367556095123291, 0.5082007050514221, -7.011807441711426, 11.53770637512207, 6.896856784820557, -7.68960428237915, 7.604892253875732, -9.989540100097656, -8.913336753845215, 0.21724319458007812, -2.7569031715393066, -6.637338161468506, 12.45009708404541, 0.34914425015449524, 3.350632429122925, 1.4371252059936523, 9.280824661254883, 3.1124954223632812, -8.77173900604248, -7.359086513519287, -3.749727249145508, -8.700624465942383, -10.914421081542969, 13.308462142944336, 4.30434513092041, -8.275541305541992, -0.6043902039527893, -12.525741577148438, 11.404011726379395, 1.979066252708435, -7.188595771789551, 2.754743814468384, -10.019749641418457, -2.2599124908447266, -0.900288999080658, -8.26115608215332, 1.3812975883483887, -3.8715522289276123, -10.446901321411133, 11.647003173828125, -9.909082412719727, 9.786835670471191, 4.629204273223877, -7.824573040008545, -6.092550754547119, -8.017991065979004, 10.041868209838867, -14.148722648620605, 8.352802276611328, 10.452370643615723, 8.50755500793457, 11.853231430053711, -4.9775919914245605, 1.9514188766479492, 7.153260231018066, 1.9440114498138428, 2.011868715286255, -0.06184246018528938, -3.5141680240631104, -8.39717960357666, -2.1756255626678467, -11.11519718170166, -4.772993087768555, -3.7323968410491943, -2.0679690837860107, -11.618388175964355, -5.510005474090576, 5.002359390258789, 2.636523962020874, -5.602260589599609, 13.02900218963623, -0.712672770023346, -4.801442623138428, -5.609319686889648, -10.286381721496582, 9.925661087036133, -7.190998554229736, -3.4002768993377686, 8.455168724060059, -10.335946083068848, -11.966582298278809, 9.723609924316406, -9.668092727661133, -7.488394737243652, 0.8627945184707642, -7.033751010894775, 4.890296936035156, -4.592187881469727, 5.3976640701293945, 7.015470504760742, 4.171230792999268, 14.146421432495117, 0.9882229566574097, 6.9274516105651855, -0.9706168174743652, -10.929367065429688, -13.544426918029785, 5.672076225280762, -10.325674057006836, -2.9765286445617676, -13.08340072631836, -3.0580155849456787, 1.8889893293380737, -8.690797805786133, 9.307373046875, -2.721011161804199, 9.919559478759766, 5.882300853729248, 10.436264991760254, -6.041933059692383, -4.431185722351074, -3.5357954502105713, -10.223462104797363, 4.051959991455078, 2.350773811340332, -6.057034969329834, 0.44546687602996826, 5.318957805633545, -3.170653820037842, -12.18630313873291, 9.071903228759766, -2.4221158027648926, -13.683640480041504, 2.4379875659942627, -10.341617584228516, -5.874461650848389, 6.6728034019470215, 6.529550075531006, -4.733378887176514, -3.738553285598755, -2.025083065032959, 0.9467275142669678, -0.8478682637214661, 1.6172930002212524, -3.080946683883667, -2.6063807010650635, 0.6552649140357971, -0.1216452494263649, 5.82869815826416, 2.6631875038146973, -3.35566782951355, 6.745248794555664, -13.756521224975586, 2.9610660076141357, -9.910421371459961, 0.3754473328590393, 5.753302097320557, 9.634931564331055, -6.9633402824401855, 3.906830072402954, -3.7104403972625732, -3.5625200271606445, 7.731518268585205, 11.670429229736328, 1.7041411399841309, -12.39876651763916, -4.863134384155273, -2.183852195739746, -7.65256404876709, -3.7457666397094727, -6.432037353515625, 3.748295307159424, 7.2901811599731445, -10.597040176391602, -8.162874221801758, -1.8679851293563843, 1.9086289405822754, -7.579084873199463, -7.455097675323486, 0.9470685124397278, 1.1595834493637085, 1.2271728515625, -3.501744031906128, -4.760151386260986, -7.667076587677002, 4.912531852722168, 12.209004402160645, -11.33487319946289, 11.348791122436523, 5.947430610656738, -8.17603874206543, -0.7237007021903992, -4.032618999481201, 3.797152280807495, 9.106796264648438, -10.715624809265137, 6.115128993988037, -3.461413860321045, 10.226845741271973, -5.967130661010742, 0.06143668666481972, -0.28558799624443054, -12.139789581298828, -0.8397951126098633, -9.829845428466797, -5.90872859954834, 6.502388000488281, 3.0417046546936035, 3.139800548553467, 6.89986515045166, 6.969494342803955, -6.695306777954102, -7.9849348068237305, -0.19424790143966675, 3.913889169692993, 9.858365058898926, -2.507249116897583, 8.132412910461426, 2.5839316844940186, 9.22066879272461, 1.8884902000427246, 6.423210144042969, -1.578790307044983, -2.500932455062866, 10.08707046508789, 4.085857391357422, 3.376201868057251, -7.75093412399292, -5.421820163726807, 7.816175937652588, 1.1515014171600342, 2.7074809074401855, -1.2197418212890625, 10.612626075744629, -6.4863128662109375, 4.111605644226074, -0.44214069843292236, -1.2129920721054077, 5.565103054046631, -3.375248908996582, -10.531353950500488, -0.04124752804636955, 4.803146839141846, 3.9909257888793945, 7.017168998718262, -1.4670019149780273, 4.050900936126709, 13.404034614562988, 4.985923767089844, 4.420213222503662, 2.116584062576294, -9.027767181396484, 3.8247694969177246, 1.5356913805007935, 9.472617149353027, -9.965704917907715, -7.969963073730469, 1.6961818933486938, -11.118908882141113, -5.466008186340332, 13.264716148376465, 8.060832023620605, -0.6847025156021118, -11.587614059448242, -7.034524440765381, -6.2489471435546875, -1.4150689840316772, 3.2574427127838135, -9.072013854980469, 5.620913028717041, -13.61008358001709, 4.593867301940918, 3.931626558303833, -0.9070454835891724, -3.979691505432129, -3.7183399200439453, -0.17630930244922638, 10.797277450561523, 11.905170440673828, 10.61669635772705, 7.642237663269043, 8.97203254699707, -4.66778039932251, 10.530677795410156, -5.858214378356934, -12.08425235748291, 7.147132873535156, -10.85776424407959, -9.252866744995117, 0.004408674780279398, -12.922337532043457, -8.675341606140137, 11.557421684265137, 11.389021873474121, 0.8956462740898132, 7.346043109893799, 7.096447944641113, -8.224489212036133, -2.3566677570343018, -4.670243263244629, -6.539051055908203, 11.898653030395508, 5.135112762451172, -2.4599990844726562, 10.988694190979004, 1.0543129444122314, -1.9149086475372314, 14.341614723205566, 3.904207468032837, -8.761292457580566, -9.04920768737793, 7.589090347290039, 12.430882453918457, -2.558877468109131, 0.47962090373039246, -9.88951587677002, -0.5045192241668701, 1.8636599779129028, -1.8984438180923462, -4.75538444519043, -12.316854476928711, 12.592704772949219, -3.703810691833496, 7.40508508682251, 0.7312653660774231, 0.5800454616546631, -4.122152805328369, -7.9000396728515625, -2.1195409297943115, -1.2759265899658203, 0.35485026240348816, 4.080135345458984, 8.293631553649902, -13.085522651672363, -0.7680450677871704, 9.097479820251465, -3.6318838596343994, -13.120407104492188, -10.69681453704834, 0.8784250020980835, 9.766741752624512, 1.9192848205566406, -3.365407943725586, -3.9337451457977295, -1.4110801219940186, -2.644495725631714, -11.942341804504395, -6.498178958892822, 5.510647773742676, -12.022296905517578, 3.9513187408447266, -8.973278999328613, 2.2950940132141113, -7.056593894958496, -1.4317142963409424, 5.3836541175842285, -8.869032859802246, 1.2597100734710693, -2.9793012142181396, -4.26708459854126, -12.789600372314453, 6.375768184661865, -0.161972776055336, 2.4638662338256836, -10.849052429199219, -3.390470027923584, -2.9787724018096924, -4.940245628356934, 11.617891311645508, 3.7745234966278076, 10.22428035736084, 7.154403209686279, -11.44332504272461, -12.43267822265625, 10.516069412231445, -10.289738655090332, -10.97120475769043, 3.1805062294006348, 4.761983871459961, 7.6030964851379395, 0.18475769460201263, -7.667783260345459, -0.16555321216583252, -1.7611420154571533, -0.39711156487464905, 8.80965805053711, -11.426085472106934, 4.311163902282715, 3.33591365814209, 5.452995777130127, -10.241557121276855, -1.2323622703552246, 6.407687187194824, -7.7127909660339355, -1.1644411087036133, 13.539141654968262, 3.1232500076293945, -8.24748420715332, -8.11949348449707, -4.194763660430908, 3.114794969558716, -6.838668346405029, -12.648490905761719, -8.35295581817627, -2.8304452896118164, -2.71024227142334, -2.297976493835449, -8.185200691223145, 13.38338565826416, 10.833292961120605, 1.3296444416046143, 10.229976654052734, 9.086570739746094, -8.459436416625977, -10.45053768157959, 4.902937889099121, -10.23745059967041, 1.9417868852615356, -12.19340705871582, -6.1574554443359375, 3.6353375911712646, -2.445378065109253, -3.7737722396850586, 4.155953884124756, -4.804628372192383, -7.492725849151611, -9.970949172973633, -3.592120885848999, -4.086019039154053, 8.856501579284668, 5.1475958824157715, 1.2235342264175415, 1.0211164951324463, 8.789454460144043, -7.8771185874938965, -6.192508697509766, -1.7330025434494019, -6.8336992263793945, 10.215985298156738, -8.15343189239502, -8.727956771850586, -6.66628885269165, 0.053378988057374954, -12.208761215209961, -14.012194633483887, -6.098600387573242, -2.2886927127838135, 9.921024322509766, 5.346473217010498, 12.535844802856445, 1.353519082069397, 9.28897762298584, 1.040603756904602, 1.9909414052963257, -12.191916465759277, -11.887767791748047, -2.1257238388061523, 8.778857231140137, -1.971290946006775, 4.271173477172852, 10.691122055053711, 2.5724966526031494, 2.7993805408477783, 8.022611618041992, -3.8459291458129883, -12.510760307312012, -0.06652159988880157, 2.241514205932617, 8.167826652526855, -11.908458709716797, -4.251743793487549, 5.048315048217773, 4.030978679656982, -1.5123875141143799, -3.6981148719787598, -5.401556015014648, -6.1598429679870605, 5.784963607788086, -6.143946170806885, -6.234313011169434, 8.551773071289062, 6.304812908172607, 0.14398841559886932, 11.241950035095215, 13.453207015991211, -4.721187114715576, -9.454397201538086, 0.3123708963394165, -6.444350719451904, -2.3323705196380615, -0.5632854104042053, -4.709923267364502, -8.3587007522583, 11.564370155334473, 7.032373905181885, -1.9597301483154297, 8.446829795837402, 3.4461586475372314, -6.531170845031738, -5.464936256408691, -10.887383460998535, 7.533823490142822, -5.559927940368652, 9.492140769958496, -2.1994271278381348, 2.477783679962158, -3.9110634326934814, 6.953342437744141, -4.839600086212158, -4.690741539001465, 11.137680053710938, 12.836956977844238, -1.8838586807250977, -2.2162106037139893, 2.9770047664642334, 5.538391590118408, -10.954181671142578, 0.6094681620597839, -10.300056457519531, -12.246585845947266, -8.777853012084961, 6.859580993652344, 2.686492443084717, 1.5143625736236572, -14.124137878417969, -9.644728660583496, 0.7257639169692993, 3.526663064956665, -12.311248779296875, 9.027314186096191, -5.233831405639648, 1.0792500972747803, 4.85962438583374, 3.8463926315307617, -9.025146484375, 8.760802268981934, 11.13582992553711, 3.0652194023132324, 3.501302719116211, 6.683535575866699, 7.7513427734375, -2.2897377014160156, 5.2587971687316895, -9.914511680603027, 2.904789447784424, -6.828434467315674, -8.9879732131958, -9.742968559265137, 14.493325233459473, -11.515137672424316, 4.595510959625244, 3.3311874866485596, -2.0945160388946533, -11.85268783569336, -1.4656744003295898, -8.14161491394043, -1.9012552499771118, 7.3938727378845215, 10.165830612182617, 6.809821128845215, 4.014102458953857, -2.58585524559021, -16.1219425201416, 2.00148606300354, 7.3571062088012695, 3.916426658630371, -6.919319152832031, 12.303979873657227, 3.7791812419891357, 6.267044544219971, -11.297258377075195, 13.856043815612793, -7.760134696960449, 2.5516910552978516, 5.792585849761963, -9.434009552001953, 3.679509401321411, -11.621230125427246, 10.206279754638672, 4.2043046951293945, 1.2594685554504395, 1.0909502506256104, -5.356955051422119, 10.928949356079102, 5.1404948234558105, -8.810439109802246, 3.536553382873535, -14.457374572753906, 6.635517120361328, 6.985406875610352, -3.840492010116577, -3.3605687618255615, -3.4292104244232178, 8.796682357788086, -8.305501937866211, 2.647789478302002, -3.9381635189056396, 2.705085515975952, -9.872496604919434, -14.292428016662598, -10.334595680236816, 9.073995590209961, -8.958721160888672, 3.933213233947754, 5.242551326751709, -5.265275001525879, -5.380643367767334, -9.883576393127441, 5.639007091522217, 1.7909098863601685, -7.5233259201049805, 4.780904769897461, 6.129405975341797, -4.246705532073975, -0.6008356213569641, 4.782060623168945, -4.535183429718018, 1.3084275722503662, -10.84181022644043, -5.05794620513916, -3.9379563331604004, -6.716708183288574, 7.125860691070557, 3.995631456375122, 2.5946624279022217, -3.797030448913574, -4.428382873535156, 11.439139366149902, -0.05849435552954674, -10.176091194152832, 1.9125397205352783, -2.8418524265289307, 5.482848167419434, -10.157485008239746, 1.6402196884155273, 13.784524917602539, 9.29749870300293, -3.9928641319274902, 3.040938138961792, -6.845951080322266, 7.815221786499023, 2.67710018157959, 2.213397979736328, 7.053379058837891, 3.8423819541931152, -3.9011218547821045, 13.042647361755371, -10.27045726776123, 4.209848403930664, 4.289123058319092, 10.741509437561035, 13.706280708312988, 5.341481685638428, 3.902702569961548, 2.8006765842437744, -1.6606941223144531, 5.137902736663818, 2.5975143909454346, 10.150307655334473, 8.626218795776367, -8.771175384521484, -6.3804545402526855, 4.435914516448975, 2.3947417736053467, 5.790755271911621, 9.306010246276855, 0.6324591636657715, 4.279980659484863, -2.1556825637817383, 7.144293308258057, -7.415305137634277, -5.118236064910889, -2.598349094390869, 2.451835870742798, -3.9991180896759033, -9.45422649383545, 2.5254485607147217, -10.323115348815918, -1.495424509048462, -7.033921241760254, 5.332219123840332, 4.309143543243408, 10.917915344238281, 9.77646541595459, 9.172416687011719, -10.298393249511719, 6.160749435424805, 0.11570721864700317, -11.03670597076416, -4.756721496582031, 5.278878688812256, 4.54794979095459, -2.1637532711029053, 12.037345886230469, 0.3813575506210327, 8.910689353942871, -12.302008628845215, 10.630988121032715, 9.468108177185059, -7.697390556335449, 0.41275182366371155, 7.669834136962891, -13.238354682922363, 2.6775693893432617, 5.234131813049316, -11.500234603881836, 12.50936222076416, 9.13767147064209, -0.7651168704032898, -5.80944299697876, 7.5190324783325195, 5.78816032409668, 9.184219360351562, -6.564356327056885, 3.070493221282959, -1.4295920133590698, -8.444777488708496, -1.0965445041656494, 9.666036605834961, -3.874617338180542, -11.544973373413086, 8.711808204650879, -5.069031715393066, 9.729394912719727, 9.004753112792969, -0.40328142046928406, -9.893636703491211, 4.007902145385742, 1.4532240629196167, -7.319967746734619, -7.586026191711426, 11.10898208618164, 10.021483421325684, 8.230792999267578, 7.09348201751709, 4.678128242492676, -7.3994364738464355, -6.210376739501953, 2.7005081176757812, 3.561708450317383, 0.8553131818771362, 1.6145468950271606, 0.1395973116159439, -5.996944904327393, -2.3637776374816895, -8.748495101928711, 3.48581862449646, 3.982940912246704, -9.567278861999512, -12.63541316986084, -3.5872743129730225, -0.5137907862663269, -2.0675089359283447, -10.31855583190918, 10.329103469848633, 10.210187911987305, 1.4511622190475464, 5.616611003875732, -7.159271240234375, -5.202671527862549, 14.22762680053711, -5.081709861755371, 11.883631706237793, 1.4455474615097046, 9.20375919342041, -3.7291812896728516, 7.555028438568115, -9.77263069152832, -10.514646530151367, 12.996323585510254, 0.7866683006286621, -9.898709297180176, -3.258514881134033, 1.963621973991394, -3.653836250305176, -0.582983136177063, -11.932226181030273, -1.512735366821289, 2.298206090927124, -4.103697776794434, -3.3025083541870117, 9.316105842590332, 10.540976524353027, -1.3119654655456543, -4.906880855560303, -7.405141830444336, -11.91175651550293, -2.741271734237671, 10.131802558898926, 0.000986252329312265, 13.816755294799805, -3.424860715866089, -4.543448448181152, -3.6281819343566895, 7.7552361488342285, -3.752577543258667, 12.574172973632812, 3.262275457382202, 5.5653815269470215, 5.8575825691223145, 5.293025016784668, 10.740422248840332, 0.4454711377620697, 1.3985176086425781, -1.0609432458877563, -4.5803093910217285, 11.785221099853516, 1.4137133359909058, 7.606085300445557, 0.061890777200460434, 5.348387718200684, -1.2309426069259644, 5.329638481140137, -3.7860918045043945, -10.205695152282715, 3.0140037536621094, -6.3013505935668945, 7.432394027709961, -0.6207568645477295, 3.5805013179779053, -0.9716832041740417, -6.779901504516602, -4.102827072143555, -2.2676968574523926, 2.9084341526031494, -1.2858436107635498, -6.971006393432617, 6.175143241882324, -9.58192253112793, -0.8441124558448792, -0.5112159252166748, -9.380906105041504, -10.226126670837402, -10.004286766052246, -5.049956798553467, -2.9393112659454346, 0.45318979024887085, -12.686931610107422, -0.9932636618614197, -3.984492778778076, -5.2740044593811035, 2.2520110607147217, -6.644900798797607, -6.61051082611084, -11.724644660949707, -1.188660740852356, 3.2392632961273193, -2.233912944793701, 7.306069850921631, -3.6778340339660645, 8.474066734313965, -7.481569766998291, -9.34131908416748, -3.455195903778076, -4.973613262176514, -2.012418508529663, 14.35308837890625, 8.419364929199219, 4.683130741119385, 1.8832793235778809, 4.314015865325928, -10.964845657348633, -4.929793834686279, -2.522599220275879, 7.274173736572266, -3.607830762863159, -12.30620288848877, 1.853796124458313, -3.4484498500823975, -2.574697494506836, 11.818724632263184, 13.786251068115234, -10.50817584991455, 7.244091987609863, 1.0397059917449951, 4.5125274658203125, -9.378417015075684, -5.165795803070068, -4.51669979095459, 0.6900213956832886, 13.618066787719727, 2.384568214416504, -13.179474830627441, 10.966405868530273, 9.25168514251709, -5.880863189697266, 2.9713387489318848, -9.320204734802246, -12.0993013381958, -7.0367512702941895, 7.764650344848633, -6.596073627471924, 5.066312313079834, -5.442197322845459, -1.5201863050460815, -1.5773305892944336, 7.476651668548584, 1.8206415176391602, 1.4667667150497437, -6.770355701446533, -7.730910778045654, 5.038707733154297, 2.919001817703247, 6.701742172241211, -8.36317253112793, -0.633063793182373, 9.652315139770508, -4.766696929931641, -7.684387683868408, -2.048912286758423, -11.43941879272461, 2.8535869121551514, 0.9548765420913696, 3.4721789360046387, 12.870821952819824, -9.084839820861816, -1.0378103256225586, 8.419946670532227, -6.430109024047852, 0.6860848665237427, 5.125121593475342, -7.930209159851074, 8.948589324951172, 3.101991891860962, 8.479899406433105, 13.379840850830078, -1.757767915725708, -1.5287845134735107, -11.904130935668945, -4.220308780670166, 4.016543865203857, 9.932785987854004, -6.042535781860352, -3.926213026046753, 12.274889945983887, -8.461321830749512, 5.648967742919922, 5.781645774841309, 2.178393840789795, 1.0174620151519775, 5.841730117797852, 6.001754283905029, -12.469772338867188, -1.9280725717544556, 4.243660926818848, 2.8803558349609375, -6.074716567993164, -11.493159294128418, -10.248278617858887, -2.4413201808929443, 8.87401008605957, 6.687477111816406, 3.491063356399536, 2.1044323444366455, -6.596986293792725, 11.792036056518555, -10.279109954833984, 2.674156665802002, 11.942100524902344, -4.9459967613220215, 5.465424060821533, 4.768503665924072, -6.949023723602295, 6.105062007904053, -8.547223091125488, -2.9336936473846436, 11.170373916625977, 1.2676664590835571, -12.11662483215332, -12.39429759979248, 11.658702850341797, -8.733349800109863, 10.41590690612793, 12.100628852844238, 2.1774487495422363, 8.225017547607422, 6.034901142120361, -12.562224388122559, -0.6641699075698853, -12.047622680664062, -6.91652774810791, -9.1792631149292, -7.326039791107178, -4.3416643142700195, -13.501726150512695, 5.386775493621826, -2.875713348388672, 5.231250286102295, 4.383544445037842, 2.281263828277588, -4.634277820587158, -6.868849277496338, -2.5131356716156006, 0.5023192167282104, -11.082186698913574, -11.147364616394043, -15.832557678222656, -5.8449811935424805, 4.82197380065918, 3.260221481323242, 8.847428321838379, 10.927214622497559, -10.683683395385742, 1.460260033607483, -4.5387043952941895, -10.21097469329834, -8.807754516601562, 11.5724515914917, 1.6229690313339233, 1.9363113641738892, 12.328441619873047, -7.432048797607422, -9.5447359085083, -2.8090617656707764, 6.9148101806640625, 10.860496520996094, -6.933195114135742, -7.440038204193115, 9.302863121032715, 8.092209815979004, -9.851879119873047, -0.6607643365859985, -4.83018684387207, -9.316906929016113, 1.8618927001953125, -1.0753583908081055, -8.83730411529541, 12.081534385681152, -15.856145858764648, 11.35075855255127, -4.718817234039307, -7.807913303375244, -2.19901180267334, -8.779239654541016, 5.928389072418213, -3.5316970348358154, 9.615915298461914, -5.879271507263184, -6.943729400634766, -7.1672139167785645, 7.315661907196045, -1.2865238189697266, 5.379819869995117, 2.5932021141052246, -10.745865821838379, 12.362061500549316, -0.662459135055542, 13.477432250976562, -9.78398609161377, 11.240119934082031, 11.497406005859375, 4.518349647521973, -13.430779457092285, 10.19506549835205, 3.627314567565918, 0.48734453320503235, 2.7401905059814453, -10.488788604736328, -9.920756340026855, 2.6119532585144043, -0.5499457120895386, -5.178724765777588, -10.682366371154785, -0.30750027298927307, -5.943808078765869, 10.957344055175781, 2.68912935256958, 13.430047988891602, 8.9441556930542, 5.785271167755127, -6.624561786651611, -9.991473197937012, -10.632246017456055, 5.0414042472839355, 7.708734035491943, -7.350373268127441, -11.984594345092773, -6.336936950683594, -7.257196426391602, 0.8775749802589417, 0.7460091710090637, 9.738720893859863, 9.203452110290527, -7.08713436126709, -4.8370537757873535, -1.2500070333480835, 13.171079635620117, -6.741446018218994, 9.605827331542969, -1.5602525472640991, -8.253212928771973, -11.484338760375977, 6.94164514541626, -4.060973644256592, 5.01411247253418, 14.37208366394043, 8.883773803710938, 8.140386581420898, 4.251429557800293, 11.559025764465332, 10.528046607971191, 1.076351284980774, 1.1747691631317139, -7.845774173736572, -4.993161201477051, 1.8258628845214844, 6.022360801696777, -4.458276748657227, 12.052823066711426, 12.588696479797363, 2.7337043285369873, 2.052185535430908, 0.3360157012939453, 2.257495403289795, -10.26211929321289, 2.8653674125671387, -13.92587947845459, -8.613842010498047, -4.279173374176025, -6.716485977172852, -4.109650135040283, 6.004306316375732, -2.498633623123169, -4.982242107391357, -8.504568099975586, -9.44287395477295, 9.56152057647705, 11.827864646911621, 0.7957968711853027, 3.9121298789978027, -2.024245500564575, -1.5145952701568604, -5.72450065612793, 1.922310471534729, -3.658094644546509, -13.435465812683105, 1.3337992429733276, 9.602607727050781, -7.009274482727051, -3.396912097930908, 1.9980605840682983, -3.9848647117614746, -3.6484179496765137, -12.20892333984375, 3.3377327919006348, -5.936995983123779, -2.7654483318328857, 9.599991798400879, 1.729904294013977, 0.9861109256744385, -4.264699459075928, -5.9665846824646, -3.8227908611297607, 12.73509407043457, 6.764201641082764, -9.329030990600586, 4.048517227172852, 4.065049648284912, -3.9876797199249268, -4.069548606872559, 10.778145790100098, -9.87877368927002, -2.72868275642395, 1.2777941226959229, -9.328425407409668, 5.041975498199463, -1.627268671989441, 8.422289848327637, 3.045102119445801, 13.733783721923828, -12.459099769592285, 12.483746528625488, 0.7512072324752808, -5.83602237701416, 0.8198197484016418, 9.529003143310547, -2.466740608215332, -6.23003625869751, 4.952200889587402, 8.165374755859375, 8.473094940185547, -2.7332475185394287, 9.278321266174316, 1.9320449829101562, -3.079467296600342, 7.273418426513672, -11.353324890136719, 8.182344436645508, -4.185267925262451, -6.603679180145264, -4.225132465362549, 0.3319896161556244, 9.570165634155273, -6.022792339324951, -0.1606956422328949, 8.497597694396973, 11.71642780303955, -8.393946647644043, -7.052292346954346, -5.706133842468262, -6.156164646148682, -0.09066605567932129, -5.465246200561523, -6.140913963317871, -13.04647445678711, -1.7162020206451416, 11.354621887207031, -8.799971580505371, 13.607189178466797, -10.136731147766113, -8.627052307128906, -3.0396721363067627, 5.0225653648376465, -13.42747974395752, 3.925032377243042, -4.320186138153076, -0.41001060605049133, -8.83515453338623, -0.7837626934051514, 7.479460716247559, -1.6004027128219604, -11.354610443115234, 4.115330696105957, 11.369843482971191, -7.426304340362549, -1.2027904987335205, -2.4029273986816406, 0.15131215751171112, -9.936410903930664, 10.890213966369629, -1.8767081499099731, 2.803556203842163, 4.4670634269714355, 1.5800743103027344, 0.3844982385635376, 7.658992290496826, -8.95544719696045, -6.1895833015441895, -6.110191822052002, 2.5897271633148193, 4.178142547607422, -4.8352203369140625, 4.554333209991455, -2.477658748626709, 12.677090644836426, 1.7074257135391235, -6.315729141235352, 2.81292986869812, 9.434104919433594, 0.4701215922832489, 4.19700813293457, -2.562386989593506, 5.680130481719971, -12.542983055114746, -0.17626549303531647, 9.771249771118164, 8.925780296325684, 6.2553205490112305, -5.016154766082764, -3.4565484523773193, 5.250277519226074, -2.193204879760742, -2.5711379051208496, -1.5038518905639648, -7.00496768951416, -1.7534140348434448, 11.461713790893555, -12.021007537841797, 4.597006797790527, -12.553263664245605, 4.091939926147461, -7.179146766662598, 11.959113121032715, 3.211574077606201, 9.870504379272461, 11.338689804077148, -12.471768379211426, -11.382319450378418, -0.19536498188972473, 7.0005364418029785, 13.30967903137207, -3.124917507171631, 12.421036720275879, 3.502673864364624, -11.449064254760742, -12.512203216552734, 5.213540077209473, -3.7945308685302734, -2.174837589263916, 5.098021030426025, -10.733856201171875, 13.058401107788086, 1.0647670030593872, 0.3706049621105194, 11.54299259185791, -11.677627563476562, -8.728272438049316, -6.950617790222168, 3.5429630279541016, 4.507852554321289, 1.8862388134002686, -3.208232879638672, 2.24491548538208, 5.126563549041748, 4.752285957336426, 11.293538093566895, -2.676063060760498, 0.9874743223190308, -9.867019653320312, 1.2571015357971191, 7.63865852355957, 3.7480809688568115, 11.264568328857422, -4.111454010009766, 4.765923023223877, -1.3856630325317383, 0.9044634699821472, -3.138115406036377, -7.311401844024658, 0.4303742051124573, -7.138462543487549, 1.2645703554153442, -11.4906587600708, -13.009657859802246, 11.527349472045898, 6.132968902587891, -8.726983070373535, 5.096068859100342, 11.522764205932617, 2.1420295238494873, -3.9505484104156494, 5.456570625305176, 2.4287495613098145, 0.9881670475006104, 0.8772191405296326, -6.883204460144043, 9.96370792388916, 1.962836503982544, -7.118317127227783, -4.925999641418457, 1.9222663640975952, 1.8381822109222412, 4.9441938400268555, -2.154036521911621, -5.709288597106934, -12.232096672058105, -12.554688453674316, -1.803979754447937, -12.76047134399414, 1.8343995809555054, -6.853179931640625, -7.390318870544434, -4.973835468292236, -13.878843307495117, -1.1802834272384644, 3.062861204147339, 11.518476486206055, -4.6823015213012695, 6.301011562347412, 8.6453275680542, -10.41287612915039, -9.274855613708496, 14.756054878234863, 7.840813636779785, -1.209625005722046, -3.5204885005950928, -9.760518074035645, -9.441823959350586, -0.8509039282798767, -8.234914779663086, 0.27821192145347595, -0.2593376040458679, 10.279373168945312, 2.512108564376831, -3.0903220176696777, 6.441205978393555, -4.245855331420898, 3.9440126419067383, -6.624309539794922, -1.1286323070526123, 11.772293090820312, 0.19497354328632355, 1.6825435161590576, -0.3571436107158661, 5.104506492614746, -8.617138862609863, 13.567778587341309, 8.925542831420898, -0.6169424653053284, 8.964056015014648, 1.7051819562911987, 13.441900253295898, 3.034299612045288, -4.0943217277526855, 13.523076057434082, -5.579024314880371, 0.5191338062286377, 2.177305221557617, 4.48399019241333, 2.791585683822632, 0.29479163885116577, -4.963760852813721, -0.330349326133728, -11.063758850097656, 0.27393773198127747, -4.983741760253906, -2.269829034805298, -9.671649932861328, 8.484148979187012, -5.158084392547607, 2.1672000885009766, -11.034235000610352, 0.9635052680969238, -9.370661735534668, 1.5194798707962036, -14.72916030883789, 9.09619140625, -4.876508712768555, 3.1742160320281982, -3.740140676498413, 6.967411994934082, 12.988759994506836, -5.006157875061035, -9.81517219543457, -7.305315017700195, 5.271615982055664, 3.7143142223358154, -0.9819039702415466, -0.6936757564544678, 3.7036385536193848, 10.706453323364258, -14.946829795837402, -6.050776481628418, -7.880080699920654, 7.895692825317383, 1.5938465595245361, 0.5426750779151917, 12.444746971130371, -12.714797019958496, -6.4596266746521, 12.512235641479492, -2.2319674491882324, 12.351573944091797, -1.1254191398620605, -0.6017006635665894, 1.2442659139633179, -11.353846549987793, 1.642225742340088, 6.205511569976807, 4.267815113067627, 12.614168167114258, -5.2132978439331055, 2.068934440612793, -9.431387901306152, 7.677789688110352, 0.7817140817642212, 11.923246383666992, -7.420795440673828, 10.18331527709961, 4.427478790283203, -0.5236548781394958, 0.8182761669158936, -6.506428241729736, -3.481903314590454, 7.641227722167969, -3.0556094646453857, -9.39030647277832, 5.383116722106934, 2.483867883682251, -11.688353538513184, -8.092605590820312, 12.164636611938477, 8.693719863891602, -9.167110443115234, -3.1569457054138184, -10.363595962524414, -2.1272993087768555, 1.4916807413101196, 0.978278398513794, 0.7712993621826172, 4.7803239822387695, 9.41980266571045, -1.8078629970550537, 11.850374221801758, -0.0074110087007284164, 2.277898073196411, -12.436498641967773, -8.164721488952637, -7.840988636016846, 13.551996231079102, -5.586976051330566, 3.855154275894165, 5.567404747009277, -6.7143425941467285, -10.320062637329102, 10.782971382141113, 11.04081916809082, 10.642775535583496, -2.531613826751709, -7.652421951293945, 3.6430392265319824, -3.6376912593841553, 0.4580705165863037, -11.53808307647705, 7.393231391906738, -6.7884721755981445, 6.652802467346191, 3.4756600856781006, -2.0302484035491943, 10.28490161895752, 9.718243598937988, 8.5142822265625, -9.753335952758789, -10.177576065063477, 8.760958671569824, -5.971545219421387, -6.886755466461182, 7.879696846008301, -1.8123581409454346, -1.1478331089019775, 2.448180913925171, -3.545241117477417, -5.942342281341553, -5.065074920654297, 4.280505657196045, -10.383012771606445, 1.746421217918396, -0.4787282645702362, 5.810257911682129, 13.417291641235352, 5.291318416595459, -10.161871910095215, -1.0778990983963013, -4.1470489501953125, -9.684659004211426, -6.669639587402344, 3.686221122741699, 7.212040424346924, -5.136438846588135, -12.045328140258789, 2.2451369762420654, -2.748655319213867, 7.656350612640381, 2.4820451736450195, -3.821704387664795, -8.375869750976562, -8.102636337280273, 10.317255020141602, 5.478552341461182, 3.210571050643921, 5.656878471374512, -0.4496167004108429, -0.3959844410419464, 14.177055358886719, -1.0235880613327026, 7.106805801391602, -0.16286404430866241, 1.032858967781067, 6.195285320281982, -0.9056062698364258, 8.305168151855469, -5.77335262298584, 2.6031575202941895, 4.232871055603027, 0.4183407127857208, 9.022926330566406, 3.4281184673309326, 0.12076006084680557, 0.8666939735412598, 7.578040599822998, 2.256234884262085, -5.826517581939697, 0.2016572207212448, 1.4110561609268188, 7.03271484375, 1.2212318181991577, -2.110931396484375, 8.688217163085938, -10.980429649353027, 4.544759273529053, -6.145082950592041, 2.5594699382781982, 0.18609562516212463, -8.882885932922363, 2.051384210586548, 2.994704484939575, -8.132096290588379, -8.847423553466797, -2.774529457092285, 10.908574104309082, 9.292425155639648, -0.9764203429222107, -10.349103927612305, -7.052681922912598, -7.872053623199463, -10.177048683166504, 1.3475501537322998, 5.391952037811279, -3.0941195487976074, -2.2306690216064453, 11.424633979797363, 6.493126392364502, 9.104475021362305, -10.187252044677734, -5.653187274932861, 5.731896877288818, -2.7166433334350586, -7.603455543518066, -2.9560534954071045, -9.077128410339355, 9.965311050415039, -6.771294116973877, -11.741083145141602, -4.137346267700195, -0.01174161396920681, -10.593510627746582, 4.862025737762451, -8.618330955505371, 3.6939234733581543, 1.6181917190551758, 1.242130994796753, -3.735353946685791, -0.7114053964614868, -4.987058162689209, 1.759462833404541, -7.456366062164307, -2.6841933727264404, -3.884462356567383, 5.375228404998779, 11.792642593383789, 3.911512613296509, -12.81757926940918, 13.234638214111328, -6.764613628387451, 7.272156238555908, 2.0755224227905273, -4.389151096343994, 9.726324081420898, -4.684366226196289, 3.5859811305999756, -0.9926848411560059, 3.9452755451202393, -5.648703575134277, -5.742135047912598, -10.881743431091309, -3.3252365589141846, 1.9015105962753296, 3.102536678314209, -4.966765403747559, 7.65324592590332, -3.313098907470703, 7.708713054656982, 4.146729469299316, -2.805447578430176, 5.266549587249756, 3.313775062561035, 8.389617919921875, 2.112712860107422, 0.049971871078014374, 10.821124076843262, -8.519388198852539, 10.64143180847168, -8.596579551696777, 2.626542568206787, -4.237262725830078, 9.014165878295898, -5.858792781829834, -3.665726661682129, -12.394329071044922, 5.0662841796875, -7.821590900421143, -8.236577033996582, -4.871735095977783, -5.497084617614746, 3.5014374256134033, -5.628835678100586, -0.9627652168273926, -2.800151824951172, -0.5622043609619141, 13.50317096710205, -8.258580207824707, -5.868141174316406, -12.936806678771973, 0.8198354840278625, 2.8366150856018066, 8.123848915100098, -1.4879587888717651, -5.367335796356201, 5.221230983734131, 9.523963928222656, 3.7384426593780518, -10.127240180969238, 6.982194423675537, 13.368196487426758, -2.1950454711914062, 2.926589012145996, 2.5649473667144775, -7.858881950378418, -6.893710613250732, 2.5262482166290283, 1.7304223775863647, 10.39380168914795, -4.370278835296631, -3.936258554458618, 13.337631225585938, 10.58968448638916, 12.01950740814209, 0.32909414172172546, 8.426136016845703, 3.5662410259246826, -12.102265357971191, 0.4076794981956482, -2.244525671005249, 2.9958367347717285, 0.056472256779670715, 12.790994644165039, -3.955918788909912, 12.408576965332031, -5.871336936950684, 13.15073013305664, 9.170084953308105, -4.7278547286987305, 0.8037190437316895, 0.3622916638851166, -2.754960536956787, -3.83972430229187, -10.904141426086426, -6.346450328826904, -10.669325828552246, 2.5263099670410156, 8.972587585449219, -3.2255284786224365, -2.8122992515563965, 14.366294860839844, 3.785478115081787, 7.2377610206604, 1.797248125076294, 12.218619346618652, 1.5950191020965576, -6.889628887176514, 1.12921941280365, 13.80108642578125, -5.9897308349609375, -5.385746955871582, -10.264044761657715, -5.605486869812012, -9.899799346923828, 0.29241225123405457, -3.0440433025360107, 8.056428909301758, -9.787073135375977, -0.28877943754196167, -3.7922627925872803, 8.776235580444336, 3.2145659923553467, 4.6829514503479, 2.1029179096221924, 1.0448826551437378, -9.389945030212402, -11.061349868774414, -1.2194684743881226, -9.45146656036377, -3.3808279037475586, -11.163498878479004, 8.284768104553223, 4.262042045593262, -11.191743850708008, 2.7976410388946533, -5.968830108642578, 12.457366943359375, 3.241119384765625, 7.219810485839844, -3.0533132553100586, 0.32110461592674255, 3.3911538124084473, 3.6947286128997803, 10.968793869018555, -10.015190124511719, -9.890475273132324, 6.004231929779053, -13.169119834899902, 5.702965259552002, -5.690894603729248, -2.4655518531799316, -2.4153048992156982, -10.053694725036621, 3.6687843799591064, -8.250104904174805, 8.536060333251953, 9.69881820678711, -2.805241107940674, 10.400729179382324, -12.025213241577148, 1.7148581743240356, -0.09817042946815491, 10.922252655029297, 12.37703800201416, -2.951986789703369, 4.747572898864746, -10.58092212677002, 0.6386756896972656, 11.163105010986328, 8.524752616882324, -2.5871241092681885, -2.352327585220337, 6.391011714935303, -4.714995384216309, 1.8138666152954102, -8.811614990234375, -2.2838218212127686, 11.821870803833008, 5.913440704345703, -4.484548091888428, 7.231422424316406, 3.8831045627593994, -7.819329738616943, -0.2782857418060303, -6.166051387786865, 10.834208488464355, -5.060998439788818, -4.72700834274292, 2.1641793251037598, -0.11440718919038773, -3.4183342456817627, -4.839904308319092, 3.717115879058838, -9.813469886779785, 9.670113563537598, -1.7081023454666138, -10.033935546875, 1.5398045778274536, 4.130267143249512, -2.638662338256836, 3.062319278717041, 13.625688552856445, 0.9744356870651245, -1.3935344219207764, 0.6773313283920288, -9.115155220031738, 7.96502161026001, -6.502546310424805, 4.220755100250244, 12.287315368652344, -8.224246978759766, 10.991860389709473, 0.3806690275669098, -2.120973825454712, -13.885095596313477, 8.389575004577637, -7.860396385192871, 7.485825538635254, 2.73921275138855, 9.273416519165039, -0.443930059671402, -8.478614807128906, 5.461672306060791, 12.708619117736816, 3.2038049697875977, -3.118318796157837, -6.7552809715271, 3.012420654296875, 11.041821479797363, -0.47312259674072266, 8.42877197265625, -4.458019733428955, 13.879141807556152, -2.1016016006469727, -2.7140414714813232, -4.321385860443115, 3.2613155841827393, 3.9893338680267334, -0.5379568934440613, 12.453391075134277, -7.381166934967041, -8.600835800170898, 2.289090871810913, -0.15281394124031067, 1.9272502660751343, 4.665585517883301, 6.539387226104736, 2.8836681842803955, 10.790801048278809, -3.7792983055114746, 0.9238561987876892, -3.477067708969116, 10.779871940612793, -1.0340543985366821, -6.0892462730407715, 6.337043762207031, 3.367347002029419, 0.7651592493057251, -2.283327102661133, -4.056003093719482, 11.625997543334961, 12.15468978881836, -7.511326313018799, -9.908492088317871, -7.9965128898620605, -11.156639099121094, 11.420085906982422, -0.8905956745147705, -12.036676406860352, 4.370341777801514, -0.14282089471817017, -3.6052021980285645, -12.890477180480957, -0.5087310075759888, -1.5319736003875732, 3.564577579498291, -9.303168296813965, -11.161471366882324, -7.2353363037109375, 8.201338768005371, -6.364322185516357, 11.468084335327148, 7.384190559387207, 9.25160026550293, 8.502490997314453, 9.016270637512207, 0.556007981300354, 10.841434478759766, -13.145915985107422, -12.10044002532959, 2.1742823123931885, 5.052969932556152, -2.4317235946655273, 8.990076065063477, 3.0157196521759033, 2.010709762573242, -13.277867317199707, 5.286273956298828, 0.5923269391059875, 11.200138092041016, 5.179566860198975, -5.696000576019287, 4.996329307556152, 0.7405934929847717, 12.26162052154541, 8.494452476501465, -7.527040958404541, -3.2439377307891846, 1.5365678071975708, 1.7542059421539307, -3.2483811378479004, -2.136387348175049, -4.295607089996338, -6.952033996582031, -8.538763046264648, -2.6136815547943115, -6.659488201141357, -1.682059645652771, 13.999606132507324, -8.520673751831055, 2.384450674057007, 1.663864016532898, -7.8523359298706055, 2.151956081390381, -5.125921249389648, 3.415149450302124, 13.392419815063477, -9.458791732788086, -8.949397087097168, -1.6952744722366333, 6.717848300933838, 9.130433082580566, -4.548257827758789, 7.619262218475342, -9.13501262664795, 5.918776512145996, -0.6529718637466431, -2.9880294799804688, 9.174792289733887, -4.370543956756592, -2.7513904571533203, -12.18391227722168, 5.169447898864746, 2.5791592597961426, -1.3245611190795898, 1.5991501808166504, -4.336619853973389, 0.07025066763162613, 2.255786180496216, 4.72367000579834, 12.640464782714844, -4.060312271118164, -11.467045783996582, 11.843036651611328, -10.86868953704834, -7.839735507965088, -12.055870056152344, -5.725792407989502, 4.8589186668396, 3.442391872406006, -1.141831636428833, 9.402037620544434, -10.643364906311035, -3.7417221069335938, 12.624765396118164, -8.538382530212402, 6.770549297332764, 12.908354759216309, 6.106459617614746, -11.435126304626465, 9.967877388000488, 1.0972537994384766, -0.0073991031385958195, -5.321663856506348, -6.341065883636475, -2.8519742488861084, 10.575028419494629, -11.388935089111328, -10.190953254699707, -5.899386882781982, 4.124137878417969, -5.587450981140137, 6.349411964416504, -9.241948127746582, -2.123110771179199, 0.33836159110069275, -4.075213432312012, -0.8576672077178955, 5.746579170227051, -10.541399955749512, 1.295432686805725, 3.5176308155059814, 9.556731224060059, 3.791208028793335, 14.118642807006836, 1.798348307609558, -4.064122676849365, 6.016685962677002, 12.062715530395508, -0.2934812009334564, -3.987175941467285, 5.197596073150635, 12.785321235656738, -12.12325382232666, 12.20677661895752, 2.368241548538208, -4.081582069396973, -1.7552204132080078, -5.685839653015137, 2.8856606483459473, -1.1092358827590942, 2.4384679794311523, -3.1235923767089844, 13.198708534240723, -1.9598373174667358, -3.709144353866577, 4.039886474609375, -3.402510643005371, -12.240754127502441, -2.9833860397338867, 1.7604801654815674, 12.072649002075195, 3.0616042613983154, 0.6133897304534912, 2.621493101119995, 6.647315502166748, 12.939408302307129, 8.809967041015625, 5.915853977203369, -10.963347434997559, -4.839592456817627, -8.954726219177246, -4.001526832580566, -1.1588636636734009, -3.1787595748901367, -6.222370624542236, -11.015067100524902, 6.372915267944336, 9.47139835357666, 6.750576972961426, 9.601554870605469, 3.881704330444336, 4.90150260925293, -1.7626912593841553, 12.445602416992188, -6.572441101074219, 2.9312362670898438, -10.847245216369629, -2.766404151916504, 12.549269676208496, -11.869110107421875, -4.7199249267578125, 13.618643760681152, -5.993860244750977, -1.6499013900756836, 2.2782530784606934, 0.8884632587432861, -10.531415939331055, -7.366390228271484, -11.832368850708008, 1.4461766481399536, -0.7509795427322388, -3.794184923171997, 1.6670997142791748, -4.925601005554199, 7.825628280639648, -11.198010444641113, -8.429777145385742, -5.069525718688965, 6.905287742614746, -8.721170425415039, 5.737399578094482, -0.569423258304596, -5.193182945251465, -13.584518432617188, 11.696447372436523, 4.983661651611328, -1.4347079992294312, 4.376763343811035, 3.6930477619171143, 4.613005638122559, 0.04080766811966896, -6.380749225616455, 11.917588233947754, -7.810233116149902, 2.966869592666626, 8.67253589630127, 11.467748641967773, 7.457164764404297, -0.8423774838447571, 5.307917594909668, 6.325096607208252, -9.962868690490723, -10.74945068359375, 1.1123634576797485, -10.496335983276367, 5.591211795806885, -10.113570213317871, -2.3007235527038574, -11.112323760986328, 12.867856979370117, -2.547470808029175, 12.203248023986816, -10.503580093383789, -10.349589347839355, 7.280170440673828, -4.08587121963501, 0.5490854382514954, -9.9852876663208, -8.884845733642578, -3.134329319000244, 6.458291053771973, -3.577209949493408, 4.957651615142822, -14.645979881286621, 2.8060710430145264, 11.834741592407227, 6.452351093292236, -12.023513793945312, -7.166203498840332, 7.491013050079346, 10.978175163269043, 1.834038496017456, -2.720073699951172, -11.858247756958008, 5.222923278808594, 4.026135444641113, 5.285835266113281, -1.0888631343841553, -7.111189842224121, -1.030847191810608, -7.638941287994385, -0.6684129238128662, 5.006054401397705, -8.089160919189453, 5.8327507972717285, -1.6490212678909302, -7.248763084411621, 8.283957481384277, -5.37274694442749, -5.2994537353515625, 0.36768773198127747, 5.779121398925781, -4.416990756988525, -0.11763247102499008, -5.878676891326904, 5.179042816162109, -12.409063339233398, 12.791266441345215, -1.917773723602295, -1.993729829788208, -6.114130973815918, 13.378202438354492, 9.414337158203125, -3.4606709480285645, -7.508572578430176, -3.597754955291748, -10.191716194152832, 3.9310531616210938, 0.3000980615615845, 12.97171688079834, -2.4664852619171143, -13.429380416870117, 13.84974479675293, 10.63444709777832, 12.924149513244629, -3.2438416481018066, -5.588118553161621, 8.068587303161621, -6.547297477722168, 0.8612499237060547, 9.539403915405273, 13.199967384338379, 1.7287369966506958, -10.229238510131836, 1.9195467233657837, 8.429694175720215, -5.460611820220947, 12.044750213623047, 10.686190605163574, 1.777377724647522, 8.977824211120605, 10.127510070800781, 3.966553211212158, -7.819967746734619, 3.5997209548950195, 3.1444814205169678, 9.160933494567871, -8.173253059387207, -8.553953170776367, -10.387022972106934, -1.9013957977294922, -0.5432032346725464, -9.231667518615723, 5.014780044555664, 0.5890019536018372, -7.656135082244873, 6.9491190910339355, 2.5694611072540283, 5.5644755363464355, 3.3954269886016846, -12.911599159240723, 9.92797565460205, 1.0343437194824219, 3.765200614929199, -2.303837537765503, 6.421350479125977, 9.697366714477539, -8.242860794067383, 5.635993957519531, 3.3807005882263184, 0.7964625954627991, -6.950122833251953, 9.025723457336426, 11.502223014831543, -5.355041027069092, -1.4518438577651978, 1.7988650798797607, -11.016181945800781, -4.74625825881958, -1.1330499649047852, -0.49096760153770447, -4.127965450286865, 5.054475784301758, 7.317048072814941, 2.2326338291168213, -8.371984481811523, -12.109646797180176, -5.783502578735352, 2.69972825050354, -1.6161916255950928, -0.20116327702999115, 8.04719066619873, -5.318254470825195, 6.238276958465576, -7.0417704582214355, -1.9881664514541626, 5.020074367523193, -6.842604160308838, 2.6809816360473633, -1.4953234195709229, 9.479986190795898, -2.782871961593628, -3.4432997703552246, -4.672848224639893, -2.8538925647735596, -5.57019567489624, 12.025498390197754, 10.767107009887695, -7.8297319412231445, 8.470211029052734, 1.386138916015625, -4.808171272277832, 6.647549152374268, 2.0236573219299316, -11.628140449523926, -10.243513107299805, 2.1575889587402344, -5.001825332641602, 0.3410612940788269, 1.9903554916381836, 0.13300684094429016, -3.076054811477661, -6.652318477630615, 1.3618872165679932, 1.8007948398590088, 7.365943908691406, 0.7963539361953735, 3.9087722301483154, 13.87867546081543, 3.9729578495025635, -5.757850170135498, 4.855327129364014, -4.584452152252197, -5.5764265060424805, -8.538100242614746, 5.783371925354004, 2.6319198608398438, 9.982237815856934, -7.937497138977051, 0.7434870600700378, -6.978879451751709, 9.138442993164062, -12.991579055786133, 6.555054187774658, -7.997262001037598, 3.1674373149871826, 9.683202743530273, -4.281257629394531, 10.980741500854492, 9.146340370178223, 2.810570240020752, -6.778409957885742, -2.521469831466675, 7.134665012359619, -16.106674194335938, -5.383458137512207, 6.642117977142334, 2.7234785556793213, 9.532361030578613, 2.202415704727173, -0.6097431182861328, -10.227696418762207, 3.0244221687316895, -5.389264106750488, 9.554621696472168, -1.7693514823913574, 0.46792173385620117, -4.686674118041992, -3.9948973655700684, -6.074814796447754, 13.004322052001953, -12.960811614990234, -2.1282074451446533, -7.860645771026611, 0.9602339267730713, -7.442056655883789, 12.998119354248047, -10.367424964904785, 2.655289649963379, 12.731035232543945, -1.558351993560791, -7.122035980224609, -1.9778096675872803, -9.72907829284668, 8.8887939453125, 10.839109420776367, -8.18346118927002, 1.1901228427886963, -2.520489454269409, 3.1610350608825684, -2.886439085006714, -7.552547931671143, -2.6620936393737793, 7.317605495452881, 8.163141250610352, 2.7148385047912598, -10.612506866455078, -0.09609624743461609, -4.903614044189453, 3.0167295932769775, -5.684017181396484, 4.53242826461792, 2.716427803039551, -4.890599250793457, -3.9035823345184326, -5.597666263580322, 14.535542488098145, 10.586905479431152, -9.787967681884766, -7.523585796356201, -5.411517143249512, 4.149744033813477, 4.076427936553955, 2.013911485671997, 9.325060844421387, 5.845498561859131, -3.4186933040618896, -1.9500583410263062, -1.9876654148101807, -10.639449119567871, 4.123117923736572, -4.4836931228637695, -6.04595947265625, -3.968846082687378, -7.665033340454102, -3.3217592239379883, -8.43882942199707, 5.877222537994385, -2.4300808906555176, -8.312092781066895, 8.205388069152832, -12.641366958618164, -4.182640552520752, -6.38563346862793, 2.361201763153076, 0.6879027485847473, -6.546370506286621, 0.4898907244205475, 2.1976754665374756, -2.486267566680908, 1.1434003114700317, -6.414058208465576, -9.3515625, 9.554245948791504, 1.6639072895050049, -7.594123840332031, 7.922418594360352, 2.2035279273986816, -6.210965633392334, 9.636774063110352, 8.820789337158203, -6.192768096923828, -4.5376176834106445, 7.38027811050415, 7.784527778625488, -6.8597517013549805, 14.213774681091309, -8.651348114013672, 2.9077744483947754, 3.432410955429077, 2.1786959171295166, -8.279731750488281, -7.4147629737854, -2.031186103820801, -8.60219955444336, 6.6791157722473145, 3.651719093322754, -3.598644971847534, -7.986413478851318, -0.39900946617126465, 2.8358073234558105, 4.100331783294678, 9.093649864196777, 13.605446815490723, 2.5747780799865723, 3.5668270587921143, 2.7529969215393066, 7.265488624572754, 0.6759330630302429, 1.9455657005310059, 3.5304970741271973, 7.930779457092285, 1.4606081247329712, 8.565582275390625, 11.142596244812012, -11.759637832641602, -3.1956183910369873, 0.628106415271759, -12.522811889648438, -13.081464767456055, 10.92093563079834, -1.0049023628234863, 2.557765245437622, -0.7987068295478821, -4.484508514404297, -3.891493082046509, 8.932931900024414, 13.952933311462402, 1.3788312673568726, 7.670702934265137, -7.484251976013184, -3.9209277629852295, -0.08977439999580383, 4.431985378265381, -7.5530195236206055, 9.858580589294434, -1.9687472581863403, -1.7649015188217163, 2.376351833343506, -7.253784656524658, -11.9940767288208, 1.870107650756836, -13.334708213806152, -3.7564167976379395, -0.869608461856842, -6.376498222351074, 4.6897807121276855, 9.416482925415039, 5.679976463317871, -8.469725608825684, -13.258001327514648, -10.952186584472656, -6.721357345581055, 9.244277000427246, 3.976562738418579, -15.276658058166504, -5.429819107055664, 0.19603431224822998, -10.542906761169434, -5.162721157073975, 10.635580062866211, -0.23936448991298676, 0.1901741921901703, -4.242252349853516, -10.643695831298828, 0.6596567630767822, 0.01160102616995573, 1.013781189918518, 7.147132873535156, 9.086441993713379, 2.372354030609131, 4.859813213348389, 4.3742356300354, 11.437492370605469, 0.9865836501121521, 1.9467722177505493, 0.016963571310043335, -5.128720760345459, -4.842568397521973, -5.468484878540039, 11.766261100769043, 2.1408393383026123, -11.39128303527832, -1.8251055479049683, 6.889020919799805, 2.650031805038452, 3.97613263130188, 14.266864776611328, 5.112343788146973, 4.310300827026367, 13.938291549682617, -5.0911970138549805, 0.5944308042526245, -4.720621109008789, -12.970685958862305, 8.351502418518066, 9.51308822631836, 12.507926940917969, 6.201350212097168, -15.853861808776855, 8.924206733703613, -3.2038094997406006, 12.38531494140625, 6.158197402954102, 5.022744655609131, -3.531033992767334, 2.7933220863342285, 1.7851370573043823, 0.8912308812141418, 8.717677116394043, 9.625718116760254, 1.647965669631958, 12.026191711425781, -0.012109057046473026, -4.633090019226074, -4.939840793609619, -0.023036012426018715, -2.024205446243286, -7.974846839904785, 2.903352737426758, -8.231463432312012, -5.260748386383057, 2.0889015197753906, 0.8968003988265991, 8.561574935913086, -2.5677504539489746, 13.680024147033691, -11.266497611999512, 8.016016006469727, 4.85365104675293, 10.433650970458984, -8.314188003540039, -9.716946601867676, -2.326263427734375, 11.589801788330078, 2.9711878299713135, -5.489567756652832, -8.005670547485352, -12.886661529541016, 5.329474449157715, 1.8164631128311157, 9.050474166870117, -8.356569290161133, -7.0851335525512695, 1.3878748416900635, 14.882828712463379, 4.792422771453857, -8.664355278015137, -8.503273010253906, -9.76574993133545, 2.403407573699951, -1.2344950437545776, -5.588244915008545, 2.37502384185791, -2.910679817199707, -4.8494462966918945, 3.8257741928100586, 10.919072151184082, -0.36910122632980347, 13.759528160095215, -5.0656046867370605, 2.8818767070770264, -8.908565521240234, 1.6787550449371338, -6.196429252624512, -3.693692922592163, 2.6668131351470947, -10.00717830657959, -2.6055312156677246, 11.476030349731445, -0.5905288457870483, 1.1896153688430786, -8.381778717041016, 1.38336980342865, 8.865437507629395, 0.45069268345832825, -1.0949180126190186, 6.964611053466797, 0.04576100409030914, 8.293949127197266, 1.6640169620513916, 11.135736465454102, 7.5940704345703125, -7.160655498504639, 0.4574122726917267, -1.6677823066711426, 3.0748796463012695, -3.5717082023620605, -7.680335998535156, 8.696601867675781, 9.841520309448242, -5.989473342895508, 13.911087989807129, -10.001153945922852, -2.8716394901275635, 5.176426887512207, 2.7851696014404297, 7.292468547821045, 1.9793511629104614, -10.086371421813965, -5.604808330535889, -0.7588552832603455, -7.698854446411133, -10.700017929077148, 2.2076289653778076, -10.126665115356445, -3.0200676918029785, 2.4364876747131348, 13.66126823425293, 11.377273559570312, 2.659090280532837, -6.6847333908081055, 4.6707916259765625, -4.270470142364502, 14.106247901916504, -6.113128185272217, -6.426196575164795, -8.99077033996582, -8.782776832580566, -6.357479572296143, -11.672494888305664, 9.129605293273926, 4.69204044342041, -6.832305908203125, -11.571722030639648, 9.572785377502441, -7.685981273651123, -6.441838264465332, -8.81151008605957, -1.503600001335144, -1.7960209846496582, 9.88894271850586, 7.172166347503662, -7.857866287231445, -4.236552715301514, 5.646476745605469, 4.108394622802734, 1.7496914863586426, 3.0708885192871094, -5.6956586837768555, 8.280769348144531, 1.3977327346801758, 13.445660591125488, -12.701605796813965, 14.074013710021973, -1.8172399997711182, -15.848336219787598, -11.004155158996582, -8.168745040893555, 5.436209678649902, -7.79708194732666, -4.347365379333496, 0.14202332496643066, -2.4051926136016846, 9.072100639343262, 3.6396801471710205, 0.08320789039134979, -5.119773864746094, -4.827098846435547, 5.504727363586426, 7.763457775115967, 1.6244415044784546, -3.730842113494873, -11.116011619567871, 3.5619633197784424, -7.104998588562012, -3.2607738971710205, -0.42899325489997864, 4.784234523773193, -8.224228858947754, -0.07687481492757797, -8.834610939025879, -10.043100357055664, -0.7798867225646973, -1.604845404624939, 12.015576362609863, 12.442177772521973, -5.362518787384033, 8.402997970581055, 7.876755714416504, -2.5674822330474854, 9.623896598815918, 12.64163875579834, 9.551283836364746, 11.436305046081543, -3.733574390411377, -3.954334259033203, 8.357463836669922, 4.490046501159668, -10.800849914550781, 2.3341152667999268, -9.956939697265625, -5.441661357879639, 1.2157725095748901, 8.974714279174805, 0.4395749568939209, 0.9169135093688965, 2.936202049255371, -3.408888816833496, 6.479368209838867, 10.33169937133789, -9.274218559265137, 1.9411070346832275, 11.694226264953613, -8.112616539001465, -11.233155250549316, -4.505029201507568, 10.895700454711914, -4.75109338760376, 3.3072879314422607, 10.002151489257812, -6.319118976593018, 0.9594781398773193, -6.524748802185059, 2.8647918701171875, -6.815450668334961, 6.087014675140381, -3.3889598846435547, -9.716646194458008, 12.235740661621094, 8.272970199584961, 11.302132606506348, 2.3175840377807617, -7.404126167297363, -15.794397354125977, -7.2054643630981445, 0.7265579104423523, -4.436336517333984, -0.638077974319458, -8.416252136230469, 4.284132480621338, -4.768076419830322, 6.174269199371338, -3.272725820541382, 2.445775032043457, 6.644998550415039, 11.586406707763672, -9.269984245300293, -12.930097579956055, -12.454683303833008, 1.915602207183838, 2.2421681880950928, -1.2389081716537476, -10.432056427001953, -5.803313732147217, 3.102224588394165, 6.2874345779418945, -4.0253682136535645, 7.717257022857666, -5.904433250427246, 11.456628799438477, -6.372114181518555, -5.829897403717041, -3.55287504196167, -10.455811500549316, 4.532098293304443, -9.887834548950195, -11.248268127441406, -7.480988025665283, 13.176131248474121, -12.825632095336914, 7.527468204498291, -11.166049003601074, 3.8308770656585693, 5.432226181030273, -4.300537109375, 12.090607643127441, 4.954887866973877, -6.524595737457275, -4.4063215255737305, -3.0201709270477295, -3.347012519836426, 6.354714393615723, 7.393062114715576, 0.10713035613298416, 2.6149678230285645, -8.949552536010742, -6.096137046813965, -9.458161354064941, -1.628290057182312, 7.576205730438232, 6.406757831573486, -10.309782028198242, 3.159756898880005, 1.370786428451538, 10.860269546508789, -2.8942246437072754, -8.245848655700684, 5.143420696258545, -4.334749698638916, -9.706694602966309, -4.944623947143555, -5.815011978149414, -7.571846961975098, -5.039744853973389, 0.4283769428730011, -6.5057806968688965, -4.733838081359863, -5.013772964477539, -3.750272274017334, -1.6758977174758911, 0.7370542287826538, 11.235962867736816, 5.15845251083374, -4.588058948516846, -4.373684406280518, 11.672804832458496, 6.845217227935791, -0.3104238510131836, -5.240975856781006, -9.210978507995605, -11.82197093963623, 3.7712409496307373, -6.645540714263916, -6.46377420425415, 10.327770233154297, -5.217387676239014, 9.595327377319336, 12.341214179992676, 10.682538986206055, -5.69744873046875, -7.241779327392578, -11.220112800598145, 0.9103111624717712, 4.566408157348633, -2.356384038925171, -8.257957458496094, -5.702907085418701, -4.05886173248291, 2.0109477043151855, -10.240682601928711, -2.9546711444854736, 1.1744307279586792, 4.073197841644287, -0.6866822242736816, 11.723944664001465, -6.315975666046143, -3.5133368968963623, 12.463415145874023, 5.3102874755859375, -1.9906067848205566, -0.3906227946281433, -11.612468719482422, -6.696864128112793, -7.2369208335876465, 5.264610767364502, 6.672686576843262, -8.07125473022461, 11.029010772705078, 10.78927993774414, -9.407426834106445, 0.08106476068496704, 2.1400949954986572, -1.4532320499420166, 1.198854684829712, -9.678169250488281, 7.6851348876953125, -0.298214316368103, 10.471027374267578, 12.945255279541016, -4.843189716339111, -12.420997619628906, -7.1673479080200195, -2.6141884326934814, -3.138871908187866, 1.036453127861023, -3.9674952030181885, -5.328655242919922, 1.7658412456512451, -6.6531982421875, 3.087963819503784, -4.153987884521484, -0.3583817780017853, 1.4098522663116455, -9.684738159179688, -1.6093515157699585, 1.219510555267334, 4.428623676300049, 6.89697265625, 13.717403411865234, 2.2073397636413574, -3.678999662399292, -0.11053019016981125, -0.14640051126480103, -5.69447135925293, 2.8883845806121826, -8.716812133789062, 11.309595108032227, 9.619647979736328, 10.935866355895996, 1.1642709970474243, -1.8755546808242798, 2.982449769973755, -1.4201529026031494, 3.335325002670288, 7.993104934692383, 12.024796485900879, -0.39247339963912964, 12.440728187561035, 2.514111280441284, 5.82757568359375, -2.9569056034088135, -10.443584442138672, 10.34213638305664, 9.40975570678711, -0.03640905022621155, 2.304669141769409, 2.0489258766174316, 2.05110764503479, 12.332202911376953, 2.544008493423462, 3.996793031692505, -7.291771411895752, 11.902694702148438, -9.093770980834961, -2.4260053634643555, 9.74609375, -6.58530330657959, -7.56239652633667, -0.14045557379722595, 4.699623107910156, 3.3266079425811768, -0.47315308451652527, -6.058743953704834, -4.835231781005859, 9.029052734375, 8.179054260253906, 9.307397842407227, -5.793352127075195, 7.50271463394165, -7.1067728996276855, -0.14659008383750916, 0.43146711587905884, 1.0988810062408447, -12.655329704284668, 9.228607177734375, -7.637819290161133, -10.903657913208008, 1.9118268489837646, -2.6350932121276855, 1.620761752128601, 1.1859393119812012, -6.82108736038208, -7.6628265380859375, -13.00256633758545, -2.962111711502075, -0.6987225413322449, -0.8816918134689331, 4.531229019165039, 2.521080493927002, -3.018449306488037, -14.005169868469238, -9.14305591583252, -16.740793228149414, -4.923223972320557]}],                        {\"coloraxis\": {\"colorbar\": {\"title\": {\"text\": \"color\"}}, \"colorscale\": [[0.0, \"#0d0887\"], [0.1111111111111111, \"#46039f\"], [0.2222222222222222, \"#7201a8\"], [0.3333333333333333, \"#9c179e\"], [0.4444444444444444, \"#bd3786\"], [0.5555555555555556, \"#d8576b\"], [0.6666666666666666, \"#ed7953\"], [0.7777777777777778, \"#fb9f3a\"], [0.8888888888888888, \"#fdca26\"], [1.0, \"#f0f921\"]]}, \"legend\": {\"tracegroupgap\": 0}, \"margin\": {\"t\": 60}, \"scene\": {\"domain\": {\"x\": [0.0, 1.0], \"y\": [0.0, 1.0]}, \"xaxis\": {\"title\": {\"text\": \"pc_1\"}}, \"yaxis\": {\"title\": {\"text\": \"pc_2\"}}, \"zaxis\": {\"title\": {\"text\": \"pc_3\"}}}, \"template\": {\"data\": {\"bar\": [{\"error_x\": {\"color\": \"#2a3f5f\"}, \"error_y\": {\"color\": \"#2a3f5f\"}, \"marker\": {\"line\": {\"color\": \"#E5ECF6\", \"width\": 0.5}}, \"type\": \"bar\"}], \"barpolar\": [{\"marker\": {\"line\": {\"color\": \"#E5ECF6\", \"width\": 0.5}}, \"type\": \"barpolar\"}], \"carpet\": [{\"aaxis\": {\"endlinecolor\": \"#2a3f5f\", \"gridcolor\": \"white\", \"linecolor\": \"white\", \"minorgridcolor\": \"white\", \"startlinecolor\": \"#2a3f5f\"}, \"baxis\": {\"endlinecolor\": \"#2a3f5f\", \"gridcolor\": \"white\", \"linecolor\": \"white\", \"minorgridcolor\": \"white\", \"startlinecolor\": \"#2a3f5f\"}, \"type\": \"carpet\"}], \"choropleth\": [{\"colorbar\": {\"outlinewidth\": 0, \"ticks\": \"\"}, \"type\": \"choropleth\"}], \"contour\": [{\"colorbar\": {\"outlinewidth\": 0, \"ticks\": \"\"}, \"colorscale\": [[0.0, \"#0d0887\"], [0.1111111111111111, \"#46039f\"], [0.2222222222222222, \"#7201a8\"], [0.3333333333333333, \"#9c179e\"], [0.4444444444444444, \"#bd3786\"], [0.5555555555555556, \"#d8576b\"], [0.6666666666666666, \"#ed7953\"], [0.7777777777777778, \"#fb9f3a\"], [0.8888888888888888, \"#fdca26\"], [1.0, \"#f0f921\"]], \"type\": \"contour\"}], \"contourcarpet\": [{\"colorbar\": {\"outlinewidth\": 0, \"ticks\": \"\"}, \"type\": \"contourcarpet\"}], \"heatmap\": [{\"colorbar\": {\"outlinewidth\": 0, \"ticks\": \"\"}, \"colorscale\": [[0.0, \"#0d0887\"], [0.1111111111111111, \"#46039f\"], [0.2222222222222222, \"#7201a8\"], [0.3333333333333333, \"#9c179e\"], [0.4444444444444444, \"#bd3786\"], [0.5555555555555556, \"#d8576b\"], [0.6666666666666666, \"#ed7953\"], [0.7777777777777778, \"#fb9f3a\"], [0.8888888888888888, \"#fdca26\"], [1.0, \"#f0f921\"]], \"type\": \"heatmap\"}], \"heatmapgl\": [{\"colorbar\": {\"outlinewidth\": 0, \"ticks\": \"\"}, \"colorscale\": [[0.0, \"#0d0887\"], [0.1111111111111111, \"#46039f\"], [0.2222222222222222, \"#7201a8\"], [0.3333333333333333, \"#9c179e\"], [0.4444444444444444, \"#bd3786\"], [0.5555555555555556, \"#d8576b\"], [0.6666666666666666, \"#ed7953\"], [0.7777777777777778, \"#fb9f3a\"], [0.8888888888888888, \"#fdca26\"], [1.0, \"#f0f921\"]], \"type\": \"heatmapgl\"}], \"histogram\": [{\"marker\": {\"colorbar\": {\"outlinewidth\": 0, \"ticks\": \"\"}}, \"type\": \"histogram\"}], \"histogram2d\": [{\"colorbar\": {\"outlinewidth\": 0, \"ticks\": \"\"}, \"colorscale\": [[0.0, \"#0d0887\"], [0.1111111111111111, \"#46039f\"], [0.2222222222222222, \"#7201a8\"], [0.3333333333333333, \"#9c179e\"], [0.4444444444444444, \"#bd3786\"], [0.5555555555555556, \"#d8576b\"], [0.6666666666666666, \"#ed7953\"], [0.7777777777777778, \"#fb9f3a\"], [0.8888888888888888, \"#fdca26\"], [1.0, \"#f0f921\"]], \"type\": \"histogram2d\"}], \"histogram2dcontour\": [{\"colorbar\": {\"outlinewidth\": 0, \"ticks\": \"\"}, \"colorscale\": [[0.0, \"#0d0887\"], [0.1111111111111111, \"#46039f\"], [0.2222222222222222, \"#7201a8\"], [0.3333333333333333, \"#9c179e\"], [0.4444444444444444, \"#bd3786\"], [0.5555555555555556, \"#d8576b\"], [0.6666666666666666, \"#ed7953\"], [0.7777777777777778, \"#fb9f3a\"], [0.8888888888888888, \"#fdca26\"], [1.0, \"#f0f921\"]], \"type\": \"histogram2dcontour\"}], \"mesh3d\": [{\"colorbar\": {\"outlinewidth\": 0, \"ticks\": \"\"}, \"type\": \"mesh3d\"}], \"parcoords\": [{\"line\": {\"colorbar\": {\"outlinewidth\": 0, \"ticks\": \"\"}}, \"type\": \"parcoords\"}], \"pie\": [{\"automargin\": true, \"type\": \"pie\"}], \"scatter\": [{\"marker\": {\"colorbar\": {\"outlinewidth\": 0, \"ticks\": \"\"}}, \"type\": \"scatter\"}], \"scatter3d\": [{\"line\": {\"colorbar\": {\"outlinewidth\": 0, \"ticks\": \"\"}}, \"marker\": {\"colorbar\": {\"outlinewidth\": 0, \"ticks\": \"\"}}, \"type\": \"scatter3d\"}], \"scattercarpet\": [{\"marker\": {\"colorbar\": {\"outlinewidth\": 0, \"ticks\": \"\"}}, \"type\": \"scattercarpet\"}], \"scattergeo\": [{\"marker\": {\"colorbar\": {\"outlinewidth\": 0, \"ticks\": \"\"}}, \"type\": \"scattergeo\"}], \"scattergl\": [{\"marker\": {\"colorbar\": {\"outlinewidth\": 0, \"ticks\": \"\"}}, \"type\": \"scattergl\"}], \"scattermapbox\": [{\"marker\": {\"colorbar\": {\"outlinewidth\": 0, \"ticks\": \"\"}}, \"type\": \"scattermapbox\"}], \"scatterpolar\": [{\"marker\": {\"colorbar\": {\"outlinewidth\": 0, \"ticks\": \"\"}}, \"type\": \"scatterpolar\"}], \"scatterpolargl\": [{\"marker\": {\"colorbar\": {\"outlinewidth\": 0, \"ticks\": \"\"}}, \"type\": \"scatterpolargl\"}], \"scatterternary\": [{\"marker\": {\"colorbar\": {\"outlinewidth\": 0, \"ticks\": \"\"}}, \"type\": \"scatterternary\"}], \"surface\": [{\"colorbar\": {\"outlinewidth\": 0, \"ticks\": \"\"}, \"colorscale\": [[0.0, \"#0d0887\"], [0.1111111111111111, \"#46039f\"], [0.2222222222222222, \"#7201a8\"], [0.3333333333333333, \"#9c179e\"], [0.4444444444444444, \"#bd3786\"], [0.5555555555555556, \"#d8576b\"], [0.6666666666666666, \"#ed7953\"], [0.7777777777777778, \"#fb9f3a\"], [0.8888888888888888, \"#fdca26\"], [1.0, \"#f0f921\"]], \"type\": \"surface\"}], \"table\": [{\"cells\": {\"fill\": {\"color\": \"#EBF0F8\"}, \"line\": {\"color\": \"white\"}}, \"header\": {\"fill\": {\"color\": \"#C8D4E3\"}, \"line\": {\"color\": \"white\"}}, \"type\": \"table\"}]}, \"layout\": {\"annotationdefaults\": {\"arrowcolor\": \"#2a3f5f\", \"arrowhead\": 0, \"arrowwidth\": 1}, \"coloraxis\": {\"colorbar\": {\"outlinewidth\": 0, \"ticks\": \"\"}}, \"colorscale\": {\"diverging\": [[0, \"#8e0152\"], [0.1, \"#c51b7d\"], [0.2, \"#de77ae\"], [0.3, \"#f1b6da\"], [0.4, \"#fde0ef\"], [0.5, \"#f7f7f7\"], [0.6, \"#e6f5d0\"], [0.7, \"#b8e186\"], [0.8, \"#7fbc41\"], [0.9, \"#4d9221\"], [1, \"#276419\"]], \"sequential\": [[0.0, \"#0d0887\"], [0.1111111111111111, \"#46039f\"], [0.2222222222222222, \"#7201a8\"], [0.3333333333333333, \"#9c179e\"], [0.4444444444444444, \"#bd3786\"], [0.5555555555555556, \"#d8576b\"], [0.6666666666666666, \"#ed7953\"], [0.7777777777777778, \"#fb9f3a\"], [0.8888888888888888, \"#fdca26\"], [1.0, \"#f0f921\"]], \"sequentialminus\": [[0.0, \"#0d0887\"], [0.1111111111111111, \"#46039f\"], [0.2222222222222222, \"#7201a8\"], [0.3333333333333333, \"#9c179e\"], [0.4444444444444444, \"#bd3786\"], [0.5555555555555556, \"#d8576b\"], [0.6666666666666666, \"#ed7953\"], [0.7777777777777778, \"#fb9f3a\"], [0.8888888888888888, \"#fdca26\"], [1.0, \"#f0f921\"]]}, \"colorway\": [\"#636efa\", \"#EF553B\", \"#00cc96\", \"#ab63fa\", \"#FFA15A\", \"#19d3f3\", \"#FF6692\", \"#B6E880\", \"#FF97FF\", \"#FECB52\"], \"font\": {\"color\": \"#2a3f5f\"}, \"geo\": {\"bgcolor\": \"white\", \"lakecolor\": \"white\", \"landcolor\": \"#E5ECF6\", \"showlakes\": true, \"showland\": true, \"subunitcolor\": \"white\"}, \"hoverlabel\": {\"align\": \"left\"}, \"hovermode\": \"closest\", \"mapbox\": {\"style\": \"light\"}, \"paper_bgcolor\": \"white\", \"plot_bgcolor\": \"#E5ECF6\", \"polar\": {\"angularaxis\": {\"gridcolor\": \"white\", \"linecolor\": \"white\", \"ticks\": \"\"}, \"bgcolor\": \"#E5ECF6\", \"radialaxis\": {\"gridcolor\": \"white\", \"linecolor\": \"white\", \"ticks\": \"\"}}, \"scene\": {\"xaxis\": {\"backgroundcolor\": \"#E5ECF6\", \"gridcolor\": \"white\", \"gridwidth\": 2, \"linecolor\": \"white\", \"showbackground\": true, \"ticks\": \"\", \"zerolinecolor\": \"white\"}, \"yaxis\": {\"backgroundcolor\": \"#E5ECF6\", \"gridcolor\": \"white\", \"gridwidth\": 2, \"linecolor\": \"white\", \"showbackground\": true, \"ticks\": \"\", \"zerolinecolor\": \"white\"}, \"zaxis\": {\"backgroundcolor\": \"#E5ECF6\", \"gridcolor\": \"white\", \"gridwidth\": 2, \"linecolor\": \"white\", \"showbackground\": true, \"ticks\": \"\", \"zerolinecolor\": \"white\"}}, \"shapedefaults\": {\"line\": {\"color\": \"#2a3f5f\"}}, \"ternary\": {\"aaxis\": {\"gridcolor\": \"white\", \"linecolor\": \"white\", \"ticks\": \"\"}, \"baxis\": {\"gridcolor\": \"white\", \"linecolor\": \"white\", \"ticks\": \"\"}, \"bgcolor\": \"#E5ECF6\", \"caxis\": {\"gridcolor\": \"white\", \"linecolor\": \"white\", \"ticks\": \"\"}}, \"title\": {\"x\": 0.05}, \"xaxis\": {\"automargin\": true, \"gridcolor\": \"white\", \"linecolor\": \"white\", \"ticks\": \"\", \"title\": {\"standoff\": 15}, \"zerolinecolor\": \"white\", \"zerolinewidth\": 2}, \"yaxis\": {\"automargin\": true, \"gridcolor\": \"white\", \"linecolor\": \"white\", \"ticks\": \"\", \"title\": {\"standoff\": 15}, \"zerolinecolor\": \"white\", \"zerolinewidth\": 2}}}},                        {\"responsive\": true}                    ).then(function(){\n",
       "                            \n",
       "var gd = document.getElementById('15f1f275-a91f-4d92-b899-dc64f27a7ddc');\n",
       "var x = new MutationObserver(function (mutations, observer) {{\n",
       "        var display = window.getComputedStyle(gd).display;\n",
       "        if (!display || display === 'none') {{\n",
       "            console.log([gd, 'removed!']);\n",
       "            Plotly.purge(gd);\n",
       "            observer.disconnect();\n",
       "        }}\n",
       "}});\n",
       "\n",
       "// Listen for the removal of the full notebook cells\n",
       "var notebookContainer = gd.closest('#notebook-container');\n",
       "if (notebookContainer) {{\n",
       "    x.observe(notebookContainer, {childList: true});\n",
       "}}\n",
       "\n",
       "// Listen for the clearing of the current output cell\n",
       "var outputEl = gd.closest('.output');\n",
       "if (outputEl) {{\n",
       "    x.observe(outputEl, {childList: true});\n",
       "}}\n",
       "\n",
       "                        })                };                });            </script>        </div>"
      ]
     },
     "metadata": {},
     "output_type": "display_data"
    }
   ],
   "source": [
    "from sklearn.cluster import DBSCAN\n",
    "import plotly.express as px\n",
    "\n",
    "# NOTE: low eps, high min_samples -> search for higher density clusters\n",
    "clustering = DBSCAN(eps=2, min_samples=20, n_jobs=-1, metric='l2')\n",
    "\n",
    "clusters = clustering.fit_predict(val_question_proj)\n",
    "n_clusters = len(np.unique(clusters))\n",
    "print('{} clusters found'.format(n_clusters))\n",
    "\n",
    "\n",
    "df = pd.DataFrame(val_question_proj, columns=['pc_1', 'pc_2', 'pc_3'])\n",
    "df = pd.concat([df, knn_df['question']], axis=1)\n",
    "fig = px.scatter_3d(df, x='pc_1', y='pc_2', z='pc_3', color=clusters, hover_data=['question'])\n",
    "fig.update_traces(marker_size=3)\n",
    "fig.show()"
   ]
  },
  {
   "cell_type": "markdown",
   "metadata": {},
   "source": [
    "### Notes:\n",
    "\n",
    "1. From [When is \"Nearest Neighbor\" Meaningful?](https://members.loria.fr/MOBerger/Enseignement/Master2/Exposes/beyer.pdf) - \"Another possible scenario where high dimensional nearest neighbor queries are meaningful occurs when the underlying dimensionality of the data is much lower than the actual dimensionality.\"\n",
    "\n",
    "    - Can we perform nearest neighbor calculations better if we enforce a sparsity constraint on the learned embeddings?\n",
    "    \n",
    "2. "
   ]
  },
  {
   "cell_type": "code",
   "execution_count": null,
   "metadata": {},
   "outputs": [],
   "source": []
  }
 ],
 "metadata": {
  "kernelspec": {
   "display_name": "Python 3",
   "language": "python",
   "name": "python3"
  },
  "language_info": {
   "codemirror_mode": {
    "name": "ipython",
    "version": 3
   },
   "file_extension": ".py",
   "mimetype": "text/x-python",
   "name": "python",
   "nbconvert_exporter": "python",
   "pygments_lexer": "ipython3",
   "version": "3.8.3"
  }
 },
 "nbformat": 4,
 "nbformat_minor": 4
}
